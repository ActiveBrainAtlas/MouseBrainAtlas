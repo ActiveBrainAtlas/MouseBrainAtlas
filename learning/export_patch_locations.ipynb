{
 "cells": [
  {
   "cell_type": "code",
   "execution_count": 1,
   "metadata": {
    "collapsed": false
   },
   "outputs": [
    {
     "name": "stdout",
     "output_type": "stream",
     "text": [
      "Setting environment for Precision WorkStation\n"
     ]
    }
   ],
   "source": [
    "%load_ext autoreload\n",
    "%autoreload 2\n",
    "\n",
    "import numpy as np\n",
    "\n",
    "import sys\n",
    "import os\n",
    "\n",
    "sys.path.append(os.environ['REPO_DIR'] + '/utilities')\n",
    "from utilities2015 import *\n",
    "from metadata import *\n",
    "from data_manager import *\n",
    "\n",
    "import matplotlib.pyplot as plt\n",
    "%matplotlib inline\n",
    "\n",
    "import mxnet as mx\n",
    "\n",
    "from joblib import Parallel, delayed\n",
    "import time"
   ]
  },
  {
   "cell_type": "code",
   "execution_count": 5,
   "metadata": {
    "collapsed": true
   },
   "outputs": [],
   "source": [
    "from learning_utilities import *"
   ]
  },
  {
   "cell_type": "code",
   "execution_count": 3,
   "metadata": {
    "collapsed": true
   },
   "outputs": [],
   "source": [
    "patch_size = 224\n",
    "half_size = patch_size/2\n",
    "stride = 56"
   ]
  },
  {
   "cell_type": "code",
   "execution_count": 8,
   "metadata": {
    "collapsed": false
   },
   "outputs": [],
   "source": [
    "patch_indices_rootdir = create_if_not_exists('/home/yuncong/CSHL_patch_locations')"
   ]
  },
  {
   "cell_type": "code",
   "execution_count": 12,
   "metadata": {
    "collapsed": false
   },
   "outputs": [
    {
     "name": "stdout",
     "output_type": "stream",
     "text": [
      "MD589\n",
      "20521 patches in ROI\n",
      "20521 roi samples\n",
      "20732"
     ]
    },
    {
     "name": "stderr",
     "output_type": "stream",
     "text": [
      "locate patches: 0.02 seconds\n",
      "locate patches: 0.02 seconds\n"
     ]
    },
    {
     "name": "stdout",
     "output_type": "stream",
     "text": [
      " patches in ROI\n",
      "20732 roi samples\n",
      "21008 patches in ROI\n",
      "21008 roi samples\n",
      "21249"
     ]
    },
    {
     "name": "stderr",
     "output_type": "stream",
     "text": [
      "locate patches: 0.02 seconds\n",
      "locate patches: 0.02 seconds\n"
     ]
    },
    {
     "name": "stdout",
     "output_type": "stream",
     "text": [
      " patches in ROI\n",
      "21249 roi samples\n",
      "21353 patches in ROI\n",
      "21353 roi samples\n",
      "21499"
     ]
    },
    {
     "name": "stderr",
     "output_type": "stream",
     "text": [
      "locate patches: 0.02 seconds\n",
      "locate patches: 0.02 seconds\n"
     ]
    },
    {
     "name": "stdout",
     "output_type": "stream",
     "text": [
      " patches in ROI\n",
      "21499 roi samples\n",
      "21700 patches in ROI\n",
      "21700 roi samples\n",
      "21768"
     ]
    },
    {
     "name": "stderr",
     "output_type": "stream",
     "text": [
      "locate patches: 0.02 seconds\n",
      "locate patches: 0.02 seconds\n"
     ]
    },
    {
     "name": "stdout",
     "output_type": "stream",
     "text": [
      " patches in ROI\n",
      "21768 roi samples\n",
      "22046 patches in ROI\n",
      "22046 roi samples\n",
      "22105"
     ]
    },
    {
     "name": "stderr",
     "output_type": "stream",
     "text": [
      "locate patches: 0.02 seconds\n",
      "locate patches: 0.02 seconds\n"
     ]
    },
    {
     "name": "stdout",
     "output_type": "stream",
     "text": [
      " patches in ROI\n",
      "22105 roi samples\n",
      "22602 patches in ROI\n",
      "22602 roi samples\n",
      "22638"
     ]
    },
    {
     "name": "stderr",
     "output_type": "stream",
     "text": [
      "locate patches: 0.02 seconds\n",
      "locate patches: 0.02 seconds\n"
     ]
    },
    {
     "name": "stdout",
     "output_type": "stream",
     "text": [
      " patches in ROI\n",
      "22638 roi samples\n",
      "22816 patches in ROI\n",
      "22816 roi samples\n",
      "22943"
     ]
    },
    {
     "name": "stderr",
     "output_type": "stream",
     "text": [
      "locate patches: 0.02 seconds\n",
      "locate patches: 0.02 seconds\n"
     ]
    },
    {
     "name": "stdout",
     "output_type": "stream",
     "text": [
      " patches in ROI\n",
      "22943 roi samples\n",
      "22930 patches in ROI\n",
      "22930 roi samples\n",
      "23237"
     ]
    },
    {
     "name": "stderr",
     "output_type": "stream",
     "text": [
      "locate patches: 0.02 seconds\n",
      "locate patches: 0.02 seconds\n"
     ]
    },
    {
     "name": "stdout",
     "output_type": "stream",
     "text": [
      " patches in ROI\n",
      "23237 roi samples\n",
      "23223 patches in ROI\n",
      "23223 roi samples\n",
      "22503"
     ]
    },
    {
     "name": "stderr",
     "output_type": "stream",
     "text": [
      "locate patches: 0.02 seconds\n",
      "locate patches: 0.02 seconds\n"
     ]
    },
    {
     "name": "stdout",
     "output_type": "stream",
     "text": [
      " patches in ROI\n",
      "22503 roi samples\n",
      "22649 patches in ROI\n",
      "22649 roi samples\n",
      "23020"
     ]
    },
    {
     "name": "stderr",
     "output_type": "stream",
     "text": [
      "locate patches: 0.02 seconds\n",
      "locate patches: 0.02 seconds\n"
     ]
    },
    {
     "name": "stdout",
     "output_type": "stream",
     "text": [
      " patches in ROI\n",
      "23020 roi samples\n",
      "23109 patches in ROI\n",
      "23109 roi samples\n",
      "23251"
     ]
    },
    {
     "name": "stderr",
     "output_type": "stream",
     "text": [
      "locate patches: 0.02 seconds\n",
      "locate patches: 0.02 seconds\n"
     ]
    },
    {
     "name": "stdout",
     "output_type": "stream",
     "text": [
      " patches in ROI\n",
      "23251 roi samples\n",
      "23551 patches in ROI\n",
      "23551 roi samples\n",
      "23652"
     ]
    },
    {
     "name": "stderr",
     "output_type": "stream",
     "text": [
      "locate patches: 0.02 seconds\n",
      "locate patches: 0.02 seconds\n"
     ]
    },
    {
     "name": "stdout",
     "output_type": "stream",
     "text": [
      " patches in ROI\n",
      "23652 roi samples\n",
      "23885 patches in ROI\n",
      "23885 roi samples\n",
      "23886"
     ]
    },
    {
     "name": "stderr",
     "output_type": "stream",
     "text": [
      "locate patches: 0.02 seconds\n",
      "locate patches: 0.02 seconds\n"
     ]
    },
    {
     "name": "stdout",
     "output_type": "stream",
     "text": [
      " patches in ROI\n",
      "23886 roi samples\n",
      "24242 patches in ROI\n",
      "24242 roi samples\n",
      "24296"
     ]
    },
    {
     "name": "stderr",
     "output_type": "stream",
     "text": [
      "locate patches: 0.02 seconds\n",
      "locate patches: 0.02 seconds\n"
     ]
    },
    {
     "name": "stdout",
     "output_type": "stream",
     "text": [
      " patches in ROI\n",
      "24296 roi samples\n",
      "24372 patches in ROI\n",
      "24372 roi samples\n",
      "24415"
     ]
    },
    {
     "name": "stderr",
     "output_type": "stream",
     "text": [
      "locate patches: 0.02 seconds\n",
      "locate patches: 0.02 seconds\n"
     ]
    },
    {
     "name": "stdout",
     "output_type": "stream",
     "text": [
      " patches in ROI\n",
      "24415 roi samples\n",
      "24556 patches in ROI\n",
      "24556 roi samples\n",
      "24538"
     ]
    },
    {
     "name": "stderr",
     "output_type": "stream",
     "text": [
      "locate patches: 0.02 seconds\n",
      "locate patches: 0.02 seconds\n"
     ]
    },
    {
     "name": "stdout",
     "output_type": "stream",
     "text": [
      " patches in ROI\n",
      "24538 roi samples\n",
      "24738 patches in ROI\n",
      "24738 roi samples\n",
      "24680"
     ]
    },
    {
     "name": "stderr",
     "output_type": "stream",
     "text": [
      "locate patches: 0.02 seconds\n",
      "locate patches: 0.02 seconds\n"
     ]
    },
    {
     "name": "stdout",
     "output_type": "stream",
     "text": [
      " patches in ROI\n",
      "24680 roi samples\n",
      "24969 patches in ROI\n",
      "24969 roi samples\n",
      "24788"
     ]
    },
    {
     "name": "stderr",
     "output_type": "stream",
     "text": [
      "locate patches: 0.02 seconds\n",
      "locate patches: 0.02 seconds\n"
     ]
    },
    {
     "name": "stdout",
     "output_type": "stream",
     "text": [
      " patches in ROI\n",
      "24788 roi samples\n",
      "25167 patches in ROI\n",
      "25167 roi samples\n",
      "27762"
     ]
    },
    {
     "name": "stderr",
     "output_type": "stream",
     "text": [
      "locate patches: 0.02 seconds\n",
      "locate patches: 0.02 seconds\n"
     ]
    },
    {
     "name": "stdout",
     "output_type": "stream",
     "text": [
      " patches in ROI\n",
      "27762 roi samples\n",
      "28186 patches in ROI\n",
      "28186 roi samples\n",
      "28268"
     ]
    },
    {
     "name": "stderr",
     "output_type": "stream",
     "text": [
      "locate patches: 0.02 seconds\n",
      "locate patches: 0.02 seconds\n"
     ]
    },
    {
     "name": "stdout",
     "output_type": "stream",
     "text": [
      " patches in ROI\n",
      "28268 roi samples\n",
      "28826 patches in ROI\n",
      "28826 roi samples\n",
      "28581"
     ]
    },
    {
     "name": "stderr",
     "output_type": "stream",
     "text": [
      "locate patches: 0.02 seconds\n",
      "locate patches: 0.02 seconds\n"
     ]
    },
    {
     "name": "stdout",
     "output_type": "stream",
     "text": [
      " patches in ROI\n",
      "28581 roi samples\n",
      "28793 patches in ROI\n",
      "28793 roi samples\n",
      "28749"
     ]
    },
    {
     "name": "stderr",
     "output_type": "stream",
     "text": [
      "locate patches: 0.02 seconds\n",
      "locate patches: 0.02 seconds\n"
     ]
    },
    {
     "name": "stdout",
     "output_type": "stream",
     "text": [
      " patches in ROI\n",
      "28749 roi samples\n",
      "29028 patches in ROI\n",
      "29028 roi samples\n",
      "29189"
     ]
    },
    {
     "name": "stderr",
     "output_type": "stream",
     "text": [
      "locate patches: 0.02 seconds\n",
      "locate patches: 0.02 seconds\n"
     ]
    },
    {
     "name": "stdout",
     "output_type": "stream",
     "text": [
      " patches in ROI\n",
      "29189 roi samples\n",
      "29353 patches in ROI\n",
      "29353 roi samples\n",
      "29474"
     ]
    },
    {
     "name": "stderr",
     "output_type": "stream",
     "text": [
      "locate patches: 0.02 seconds\n",
      "locate patches: 0.02 seconds\n"
     ]
    },
    {
     "name": "stdout",
     "output_type": "stream",
     "text": [
      " patches in ROI\n",
      "29474 roi samples\n",
      "29643 patches in ROI\n",
      "29643 roi samples\n",
      "29597"
     ]
    },
    {
     "name": "stderr",
     "output_type": "stream",
     "text": [
      "locate patches: 0.02 seconds\n",
      "locate patches: 0.02 seconds\n"
     ]
    },
    {
     "name": "stdout",
     "output_type": "stream",
     "text": [
      " patches in ROI\n",
      "29597 roi samples\n",
      "29645 patches in ROI\n",
      "29645 roi samples\n",
      "29804"
     ]
    },
    {
     "name": "stderr",
     "output_type": "stream",
     "text": [
      "locate patches: 0.02 seconds\n",
      "locate patches: 0.02 seconds\n"
     ]
    },
    {
     "name": "stdout",
     "output_type": "stream",
     "text": [
      " patches in ROI\n",
      "29804 roi samples\n",
      "29973 patches in ROI\n",
      "29973 roi samples\n",
      "30261"
     ]
    },
    {
     "name": "stderr",
     "output_type": "stream",
     "text": [
      "locate patches: 0.02 seconds\n",
      "locate patches: 0.02 seconds\n"
     ]
    },
    {
     "name": "stdout",
     "output_type": "stream",
     "text": [
      " patches in ROI\n",
      "30261 roi samples\n",
      "30402 patches in ROI\n",
      "30402 roi samples\n",
      "30702"
     ]
    },
    {
     "name": "stderr",
     "output_type": "stream",
     "text": [
      "locate patches: 0.02 seconds\n",
      "locate patches: 0.02 seconds\n"
     ]
    },
    {
     "name": "stdout",
     "output_type": "stream",
     "text": [
      " patches in ROI\n",
      "30702 roi samples\n",
      "31289 patches in ROI\n",
      "31289 roi samples\n",
      "32430"
     ]
    },
    {
     "name": "stderr",
     "output_type": "stream",
     "text": [
      "locate patches: 0.02 seconds\n",
      "locate patches: 0.02 seconds\n"
     ]
    },
    {
     "name": "stdout",
     "output_type": "stream",
     "text": [
      " patches in ROI\n",
      "32430 roi samples\n",
      "32639 patches in ROI\n",
      "32639 roi samples\n",
      "32870"
     ]
    },
    {
     "name": "stderr",
     "output_type": "stream",
     "text": [
      "locate patches: 0.02 seconds\n",
      "locate patches: 0.02 seconds\n"
     ]
    },
    {
     "name": "stdout",
     "output_type": "stream",
     "text": [
      " patches in ROI\n",
      "32870 roi samples\n",
      "32956 patches in ROI\n",
      "32956 roi samples\n",
      "33443"
     ]
    },
    {
     "name": "stderr",
     "output_type": "stream",
     "text": [
      "locate patches: 0.02 seconds\n",
      "locate patches: 0.02 seconds\n"
     ]
    },
    {
     "name": "stdout",
     "output_type": "stream",
     "text": [
      " patches in ROI\n",
      "33443 roi samples\n",
      "33687 patches in ROI\n",
      "33687 roi samples\n",
      "34163"
     ]
    },
    {
     "name": "stderr",
     "output_type": "stream",
     "text": [
      "locate patches: 0.02 seconds\n",
      "locate patches: 0.02 seconds\n"
     ]
    },
    {
     "name": "stdout",
     "output_type": "stream",
     "text": [
      " patches in ROI\n",
      "34163 roi samples\n",
      "34297 patches in ROI\n",
      "34297 roi samples\n",
      "34444"
     ]
    },
    {
     "name": "stderr",
     "output_type": "stream",
     "text": [
      "locate patches: 0.02 seconds\n",
      "locate patches: 0.02 seconds\n"
     ]
    },
    {
     "name": "stdout",
     "output_type": "stream",
     "text": [
      " patches in ROI\n",
      "34444 roi samples\n",
      "34499 patches in ROI\n",
      "34499 roi samples\n",
      "34506"
     ]
    },
    {
     "name": "stderr",
     "output_type": "stream",
     "text": [
      "locate patches: 0.02 seconds\n",
      "locate patches: 0.02 seconds\n"
     ]
    },
    {
     "name": "stdout",
     "output_type": "stream",
     "text": [
      " patches in ROI\n",
      "34506 roi samples\n",
      "34677 patches in ROI\n",
      "34677 roi samples\n",
      "34940"
     ]
    },
    {
     "name": "stderr",
     "output_type": "stream",
     "text": [
      "locate patches: 0.02 seconds\n",
      "locate patches: 0.02 seconds\n"
     ]
    },
    {
     "name": "stdout",
     "output_type": "stream",
     "text": [
      " patches in ROI\n",
      "34940 roi samples\n",
      "35242 patches in ROI\n",
      "35242 roi samples\n",
      "35204"
     ]
    },
    {
     "name": "stderr",
     "output_type": "stream",
     "text": [
      "locate patches: 0.02 seconds\n",
      "locate patches: 0.02 seconds\n"
     ]
    },
    {
     "name": "stdout",
     "output_type": "stream",
     "text": [
      " patches in ROI\n",
      "35204 roi samples\n",
      "35520 patches in ROI\n",
      "35520 roi samples\n",
      "35579"
     ]
    },
    {
     "name": "stderr",
     "output_type": "stream",
     "text": [
      "locate patches: 0.02 seconds\n",
      "locate patches: 0.02 seconds\n"
     ]
    },
    {
     "name": "stdout",
     "output_type": "stream",
     "text": [
      " patches in ROI\n",
      "35579 roi samples\n",
      "35804 patches in ROI\n",
      "35804 roi samples\n",
      "36049"
     ]
    },
    {
     "name": "stderr",
     "output_type": "stream",
     "text": [
      "locate patches: 0.02 seconds\n",
      "locate patches: 0.02 seconds\n"
     ]
    },
    {
     "name": "stdout",
     "output_type": "stream",
     "text": [
      " patches in ROI\n",
      "36049 roi samples\n",
      "36118 patches in ROI\n",
      "36118 roi samples\n",
      "35980"
     ]
    },
    {
     "name": "stderr",
     "output_type": "stream",
     "text": [
      "locate patches: 0.02 seconds\n",
      "locate patches: 0.02 seconds\n"
     ]
    },
    {
     "name": "stdout",
     "output_type": "stream",
     "text": [
      " patches in ROI\n",
      "35980 roi samples\n",
      "36217 patches in ROI\n",
      "36217 roi samples\n",
      "36312"
     ]
    },
    {
     "name": "stderr",
     "output_type": "stream",
     "text": [
      "locate patches: 0.02 seconds\n",
      "locate patches: 0.02 seconds\n"
     ]
    },
    {
     "name": "stdout",
     "output_type": "stream",
     "text": [
      " patches in ROI\n",
      "36312 roi samples\n",
      "36541 patches in ROI\n",
      "36541 roi samples\n",
      "36470"
     ]
    },
    {
     "name": "stderr",
     "output_type": "stream",
     "text": [
      "locate patches: 0.02 seconds\n",
      "locate patches: 0.02 seconds\n"
     ]
    },
    {
     "name": "stdout",
     "output_type": "stream",
     "text": [
      " patches in ROI\n",
      "36470 roi samples\n",
      "36587 patches in ROI\n",
      "36587 roi samples\n",
      "36820"
     ]
    },
    {
     "name": "stderr",
     "output_type": "stream",
     "text": [
      "locate patches: 0.02 seconds\n",
      "locate patches: 0.02 seconds\n"
     ]
    },
    {
     "name": "stdout",
     "output_type": "stream",
     "text": [
      " patches in ROI\n",
      "36820 roi samples\n",
      "36990 patches in ROI\n",
      "36990 roi samples\n",
      "37037"
     ]
    },
    {
     "name": "stderr",
     "output_type": "stream",
     "text": [
      "locate patches: 0.02 seconds\n",
      "locate patches: 0.02 seconds\n"
     ]
    },
    {
     "name": "stdout",
     "output_type": "stream",
     "text": [
      " patches in ROI\n",
      "37037 roi samples\n",
      "36884 patches in ROI\n",
      "36884 roi samples\n",
      "36249"
     ]
    },
    {
     "name": "stderr",
     "output_type": "stream",
     "text": [
      "locate patches: 0.02 seconds\n",
      "locate patches: 0.02 seconds\n"
     ]
    },
    {
     "name": "stdout",
     "output_type": "stream",
     "text": [
      " patches in ROI\n",
      "36249 roi samples\n",
      "36432 patches in ROI\n",
      "36432 roi samples\n",
      "36263"
     ]
    },
    {
     "name": "stderr",
     "output_type": "stream",
     "text": [
      "locate patches: 0.02 seconds\n",
      "locate patches: 0.02 seconds\n"
     ]
    },
    {
     "name": "stdout",
     "output_type": "stream",
     "text": [
      " patches in ROI\n",
      "36263 roi samples\n",
      "36118 patches in ROI\n",
      "36118 roi samples\n",
      "36234"
     ]
    },
    {
     "name": "stderr",
     "output_type": "stream",
     "text": [
      "locate patches: 0.02 seconds\n",
      "locate patches: 0.02 seconds\n"
     ]
    },
    {
     "name": "stdout",
     "output_type": "stream",
     "text": [
      " patches in ROI\n",
      "36234 roi samples\n",
      "36391 patches in ROI\n",
      "36391 roi samples\n",
      "36441"
     ]
    },
    {
     "name": "stderr",
     "output_type": "stream",
     "text": [
      "locate patches: 0.02 seconds\n",
      "locate patches: 0.02 seconds\n"
     ]
    },
    {
     "name": "stdout",
     "output_type": "stream",
     "text": [
      " patches in ROI\n",
      "36441 roi samples\n",
      "36655 patches in ROI\n",
      "36655 roi samples\n",
      "36243"
     ]
    },
    {
     "name": "stderr",
     "output_type": "stream",
     "text": [
      "locate patches: 0.02 seconds\n",
      "locate patches: 0.02 seconds\n"
     ]
    },
    {
     "name": "stdout",
     "output_type": "stream",
     "text": [
      " patches in ROI\n",
      "36243 roi samples\n",
      "36627 patches in ROI\n",
      "36627 roi samples\n",
      "36439"
     ]
    },
    {
     "name": "stderr",
     "output_type": "stream",
     "text": [
      "locate patches: 0.02 seconds\n",
      "locate patches: 0.02 seconds\n"
     ]
    },
    {
     "name": "stdout",
     "output_type": "stream",
     "text": [
      " patches in ROI\n",
      "36439 roi samples\n",
      "36629 patches in ROI\n",
      "36629 roi samples\n",
      "36599"
     ]
    },
    {
     "name": "stderr",
     "output_type": "stream",
     "text": [
      "locate patches: 0.02 seconds\n",
      "locate patches: 0.02 seconds\n"
     ]
    },
    {
     "name": "stdout",
     "output_type": "stream",
     "text": [
      " patches in ROI\n",
      "36599 roi samples\n",
      "36677 patches in ROI\n",
      "36677 roi samples\n",
      "36379"
     ]
    },
    {
     "name": "stderr",
     "output_type": "stream",
     "text": [
      "locate patches: 0.02 seconds\n",
      "locate patches: 0.02 seconds\n"
     ]
    },
    {
     "name": "stdout",
     "output_type": "stream",
     "text": [
      " patches in ROI\n",
      "36379 roi samples\n",
      "36490 patches in ROI\n",
      "36490 roi samples\n",
      "36175"
     ]
    },
    {
     "name": "stderr",
     "output_type": "stream",
     "text": [
      "locate patches: 0.02 seconds\n",
      "locate patches: 0.02 seconds\n"
     ]
    },
    {
     "name": "stdout",
     "output_type": "stream",
     "text": [
      " patches in ROI\n",
      "36175 roi samples\n",
      "36632 patches in ROI\n",
      "36632 roi samples\n",
      "36548"
     ]
    },
    {
     "name": "stderr",
     "output_type": "stream",
     "text": [
      "locate patches: 0.02 seconds\n",
      "locate patches: 0.02 seconds\n"
     ]
    },
    {
     "name": "stdout",
     "output_type": "stream",
     "text": [
      " patches in ROI\n",
      "36548 roi samples\n",
      "36365 patches in ROI\n",
      "36365 roi samples\n",
      "35543"
     ]
    },
    {
     "name": "stderr",
     "output_type": "stream",
     "text": [
      "locate patches: 0.02 seconds\n",
      "locate patches: 0.02 seconds\n"
     ]
    },
    {
     "name": "stdout",
     "output_type": "stream",
     "text": [
      " patches in ROI\n",
      "35543 roi samples\n",
      "35764 patches in ROI\n",
      "35764 roi samples\n",
      "35818"
     ]
    },
    {
     "name": "stderr",
     "output_type": "stream",
     "text": [
      "locate patches: 0.02 seconds\n",
      "locate patches: 0.02 seconds\n"
     ]
    },
    {
     "name": "stdout",
     "output_type": "stream",
     "text": [
      " patches in ROI\n",
      "35818 roi samples\n",
      "35665 patches in ROI\n",
      "35665 roi samples\n",
      "35571"
     ]
    },
    {
     "name": "stderr",
     "output_type": "stream",
     "text": [
      "locate patches: 0.02 seconds\n",
      "locate patches: 0.02 seconds\n"
     ]
    },
    {
     "name": "stdout",
     "output_type": "stream",
     "text": [
      " patches in ROI\n",
      "35571 roi samples\n",
      "35447 patches in ROI\n",
      "35447 roi samples\n",
      "35466"
     ]
    },
    {
     "name": "stderr",
     "output_type": "stream",
     "text": [
      "locate patches: 0.02 seconds\n",
      "locate patches: 0.02 seconds\n"
     ]
    },
    {
     "name": "stdout",
     "output_type": "stream",
     "text": [
      " patches in ROI\n",
      "35466 roi samples\n",
      "35369 patches in ROI\n",
      "35369 roi samples\n",
      "35436"
     ]
    },
    {
     "name": "stderr",
     "output_type": "stream",
     "text": [
      "locate patches: 0.02 seconds\n",
      "locate patches: 0.02 seconds\n"
     ]
    },
    {
     "name": "stdout",
     "output_type": "stream",
     "text": [
      " patches in ROI\n",
      "35436 roi samples\n",
      "35589 patches in ROI\n",
      "35589 roi samples\n",
      "35405"
     ]
    },
    {
     "name": "stderr",
     "output_type": "stream",
     "text": [
      "locate patches: 0.02 seconds\n",
      "locate patches: 0.02 seconds\n"
     ]
    },
    {
     "name": "stdout",
     "output_type": "stream",
     "text": [
      " patches in ROI\n",
      "35405 roi samples\n",
      "35761 patches in ROI\n",
      "35761 roi samples\n",
      "35478"
     ]
    },
    {
     "name": "stderr",
     "output_type": "stream",
     "text": [
      "locate patches: 0.02 seconds\n",
      "locate patches: 0.02 seconds\n"
     ]
    },
    {
     "name": "stdout",
     "output_type": "stream",
     "text": [
      " patches in ROI\n",
      "35478 roi samples\n",
      "35629 patches in ROI\n",
      "35629 roi samples\n",
      "35170"
     ]
    },
    {
     "name": "stderr",
     "output_type": "stream",
     "text": [
      "locate patches: 0.02 seconds\n",
      "locate patches: 0.02 seconds\n"
     ]
    },
    {
     "name": "stdout",
     "output_type": "stream",
     "text": [
      " patches in ROI\n",
      "35170 roi samples\n",
      "35967 patches in ROI\n",
      "35967 roi samples\n",
      "35405"
     ]
    },
    {
     "name": "stderr",
     "output_type": "stream",
     "text": [
      "locate patches: 0.02 seconds\n",
      "locate patches: 0.02 seconds\n"
     ]
    },
    {
     "name": "stdout",
     "output_type": "stream",
     "text": [
      " patches in ROI\n",
      "35405 roi samples\n",
      "36217 patches in ROI\n",
      "36217 roi samples\n",
      "35575"
     ]
    },
    {
     "name": "stderr",
     "output_type": "stream",
     "text": [
      "locate patches: 0.02 seconds\n",
      "locate patches: 0.02 seconds\n"
     ]
    },
    {
     "name": "stdout",
     "output_type": "stream",
     "text": [
      " patches in ROI\n",
      "35575 roi samples\n",
      "36456 patches in ROI\n",
      "36456 roi samples\n",
      "35017"
     ]
    },
    {
     "name": "stderr",
     "output_type": "stream",
     "text": [
      "locate patches: 0.02 seconds\n",
      "locate patches: 0.02 seconds\n"
     ]
    },
    {
     "name": "stdout",
     "output_type": "stream",
     "text": [
      " patches in ROI\n",
      "35017 roi samples\n",
      "35284 patches in ROI\n",
      "35284 roi samples\n",
      "35203"
     ]
    },
    {
     "name": "stderr",
     "output_type": "stream",
     "text": [
      "locate patches: 0.02 seconds\n",
      "locate patches: 0.02 seconds\n"
     ]
    },
    {
     "name": "stdout",
     "output_type": "stream",
     "text": [
      " patches in ROI\n",
      "35203 roi samples\n",
      "34985 patches in ROI\n",
      "34985 roi samples\n",
      "35288"
     ]
    },
    {
     "name": "stderr",
     "output_type": "stream",
     "text": [
      "locate patches: 0.02 seconds\n",
      "locate patches: 0.02 seconds\n"
     ]
    },
    {
     "name": "stdout",
     "output_type": "stream",
     "text": [
      " patches in ROI\n",
      "35288 roi samples\n",
      "34646 patches in ROI\n",
      "34646 roi samples\n",
      "34804"
     ]
    },
    {
     "name": "stderr",
     "output_type": "stream",
     "text": [
      "locate patches: 0.02 seconds\n",
      "locate patches: 0.02 seconds\n"
     ]
    },
    {
     "name": "stdout",
     "output_type": "stream",
     "text": [
      " patches in ROI\n",
      "34804 roi samples\n",
      "34822 patches in ROI\n",
      "34822 roi samples\n",
      "34704"
     ]
    },
    {
     "name": "stderr",
     "output_type": "stream",
     "text": [
      "locate patches: 0.02 seconds\n",
      "locate patches: 0.02 seconds\n"
     ]
    },
    {
     "name": "stdout",
     "output_type": "stream",
     "text": [
      " patches in ROI\n",
      "34704 roi samples\n",
      "34442 patches in ROI\n",
      "34442 roi samples\n",
      "34512"
     ]
    },
    {
     "name": "stderr",
     "output_type": "stream",
     "text": [
      "locate patches: 0.02 seconds\n",
      "locate patches: 0.02 seconds\n"
     ]
    },
    {
     "name": "stdout",
     "output_type": "stream",
     "text": [
      " patches in ROI\n",
      "34512 roi samples\n",
      "34275 patches in ROI\n",
      "34275 roi samples\n",
      "33995"
     ]
    },
    {
     "name": "stderr",
     "output_type": "stream",
     "text": [
      "locate patches: 0.02 seconds\n",
      "locate patches: 0.02 seconds\n"
     ]
    },
    {
     "name": "stdout",
     "output_type": "stream",
     "text": [
      " patches in ROI\n",
      "33995 roi samples\n",
      "33932 patches in ROI\n",
      "33932 roi samples\n",
      "33866"
     ]
    },
    {
     "name": "stderr",
     "output_type": "stream",
     "text": [
      "locate patches: 0.02 seconds\n",
      "locate patches: 0.02 seconds\n"
     ]
    },
    {
     "name": "stdout",
     "output_type": "stream",
     "text": [
      " patches in ROI\n",
      "33866 roi samples\n",
      "34121 patches in ROI\n",
      "34121 roi samples\n",
      "33783"
     ]
    },
    {
     "name": "stderr",
     "output_type": "stream",
     "text": [
      "locate patches: 0.02 seconds\n",
      "locate patches: 0.02 seconds\n"
     ]
    },
    {
     "name": "stdout",
     "output_type": "stream",
     "text": [
      " patches in ROI\n",
      "33783 roi samples\n",
      "33939 patches in ROI\n",
      "33939 roi samples\n",
      "33531"
     ]
    },
    {
     "name": "stderr",
     "output_type": "stream",
     "text": [
      "locate patches: 0.02 seconds\n",
      "locate patches: 0.02 seconds\n"
     ]
    },
    {
     "name": "stdout",
     "output_type": "stream",
     "text": [
      " patches in ROI\n",
      "33531 roi samples\n",
      "34117 patches in ROI\n",
      "34117 roi samples\n",
      "35280"
     ]
    },
    {
     "name": "stderr",
     "output_type": "stream",
     "text": [
      "locate patches: 0.02 seconds\n",
      "locate patches: 0.02 seconds\n"
     ]
    },
    {
     "name": "stdout",
     "output_type": "stream",
     "text": [
      " patches in ROI\n",
      "35280 roi samples\n",
      "34347 patches in ROI\n",
      "34347 roi samples\n",
      "35275"
     ]
    },
    {
     "name": "stderr",
     "output_type": "stream",
     "text": [
      "locate patches: 0.02 seconds\n",
      "locate patches: 0.02 seconds\n"
     ]
    },
    {
     "name": "stdout",
     "output_type": "stream",
     "text": [
      " patches in ROI\n",
      "35275 roi samples\n",
      "34901 patches in ROI\n",
      "34901 roi samples\n",
      "35256"
     ]
    },
    {
     "name": "stderr",
     "output_type": "stream",
     "text": [
      "locate patches: 0.02 seconds\n",
      "locate patches: 0.02 seconds\n"
     ]
    },
    {
     "name": "stdout",
     "output_type": "stream",
     "text": [
      " patches in ROI\n",
      "35256 roi samples\n",
      "35478 patches in ROI\n",
      "35478 roi samples\n",
      "35334"
     ]
    },
    {
     "name": "stderr",
     "output_type": "stream",
     "text": [
      "locate patches: 0.02 seconds\n",
      "locate patches: 0.02 seconds\n"
     ]
    },
    {
     "name": "stdout",
     "output_type": "stream",
     "text": [
      " patches in ROI\n",
      "35334 roi samples\n",
      "35031 patches in ROI\n",
      "35031 roi samples\n",
      "35396"
     ]
    },
    {
     "name": "stderr",
     "output_type": "stream",
     "text": [
      "locate patches: 0.02 seconds\n",
      "locate patches: 0.02 seconds\n"
     ]
    },
    {
     "name": "stdout",
     "output_type": "stream",
     "text": [
      " patches in ROI\n",
      "35396 roi samples\n",
      "35103 patches in ROI\n",
      "35103 roi samples\n",
      "35819"
     ]
    },
    {
     "name": "stderr",
     "output_type": "stream",
     "text": [
      "locate patches: 0.02 seconds\n",
      "locate patches: 0.02 seconds\n"
     ]
    },
    {
     "name": "stdout",
     "output_type": "stream",
     "text": [
      " patches in ROI\n",
      "35819 roi samples\n",
      "36080 patches in ROI\n",
      "36080 roi samples\n",
      "35721"
     ]
    },
    {
     "name": "stderr",
     "output_type": "stream",
     "text": [
      "locate patches: 0.02 seconds\n",
      "locate patches: 0.02 seconds\n"
     ]
    },
    {
     "name": "stdout",
     "output_type": "stream",
     "text": [
      " patches in ROI\n",
      "35721 roi samples\n",
      "35907 patches in ROI\n",
      "35907 roi samples\n",
      "35837"
     ]
    },
    {
     "name": "stderr",
     "output_type": "stream",
     "text": [
      "locate patches: 0.02 seconds\n",
      "locate patches: 0.02 seconds\n"
     ]
    },
    {
     "name": "stdout",
     "output_type": "stream",
     "text": [
      " patches in ROI\n",
      "35837 roi samples\n",
      "36449 patches in ROI\n",
      "36449 roi samples\n",
      "35801"
     ]
    },
    {
     "name": "stderr",
     "output_type": "stream",
     "text": [
      "locate patches: 0.02 seconds\n",
      "locate patches: 0.02 seconds\n"
     ]
    },
    {
     "name": "stdout",
     "output_type": "stream",
     "text": [
      " patches in ROI\n",
      "35801 roi samples\n",
      "35894 patches in ROI\n",
      "35894 roi samples\n",
      "35827"
     ]
    },
    {
     "name": "stderr",
     "output_type": "stream",
     "text": [
      "locate patches: 0.02 seconds\n",
      "locate patches: 0.02 seconds\n"
     ]
    },
    {
     "name": "stdout",
     "output_type": "stream",
     "text": [
      " patches in ROI\n",
      "35827 roi samples\n",
      "35941 patches in ROI\n",
      "35941 roi samples\n",
      "36093"
     ]
    },
    {
     "name": "stderr",
     "output_type": "stream",
     "text": [
      "locate patches: 0.02 seconds\n",
      "locate patches: 0.02 seconds\n"
     ]
    },
    {
     "name": "stdout",
     "output_type": "stream",
     "text": [
      " patches in ROI\n",
      "36093 roi samples\n",
      "36025 patches in ROI\n",
      "36025 roi samples\n",
      "35990"
     ]
    },
    {
     "name": "stderr",
     "output_type": "stream",
     "text": [
      "locate patches: 0.02 seconds\n",
      "locate patches: 0.02 seconds\n"
     ]
    },
    {
     "name": "stdout",
     "output_type": "stream",
     "text": [
      " patches in ROI\n",
      "35990 roi samples\n",
      "36188 patches in ROI\n",
      "36188 roi samples\n",
      "36143"
     ]
    },
    {
     "name": "stderr",
     "output_type": "stream",
     "text": [
      "locate patches: 0.02 seconds\n",
      "locate patches: 0.02 seconds\n"
     ]
    },
    {
     "name": "stdout",
     "output_type": "stream",
     "text": [
      " patches in ROI\n",
      "36143 roi samples\n",
      "36450 patches in ROI\n",
      "36450 roi samples\n",
      "36153"
     ]
    },
    {
     "name": "stderr",
     "output_type": "stream",
     "text": [
      "locate patches: 0.02 seconds\n",
      "locate patches: 0.02 seconds\n"
     ]
    },
    {
     "name": "stdout",
     "output_type": "stream",
     "text": [
      " patches in ROI\n",
      "36153 roi samples\n",
      "36264 patches in ROI\n",
      "36264 roi samples\n",
      "35933"
     ]
    },
    {
     "name": "stderr",
     "output_type": "stream",
     "text": [
      "locate patches: 0.02 seconds\n",
      "locate patches: 0.02 seconds\n"
     ]
    },
    {
     "name": "stdout",
     "output_type": "stream",
     "text": [
      " patches in ROI\n",
      "35933 roi samples\n",
      "36106 patches in ROI\n",
      "36106 roi samples\n",
      "35929"
     ]
    },
    {
     "name": "stderr",
     "output_type": "stream",
     "text": [
      "locate patches: 0.02 seconds\n",
      "locate patches: 0.02 seconds\n"
     ]
    },
    {
     "name": "stdout",
     "output_type": "stream",
     "text": [
      " patches in ROI\n",
      "35929 roi samples\n",
      "36043 patches in ROI\n",
      "36043 roi samples\n",
      "35944"
     ]
    },
    {
     "name": "stderr",
     "output_type": "stream",
     "text": [
      "locate patches: 0.02 seconds\n",
      "locate patches: 0.02 seconds\n"
     ]
    },
    {
     "name": "stdout",
     "output_type": "stream",
     "text": [
      " patches in ROI\n",
      "35944 roi samples\n",
      "35819 patches in ROI\n",
      "35819 roi samples\n",
      "35739"
     ]
    },
    {
     "name": "stderr",
     "output_type": "stream",
     "text": [
      "locate patches: 0.02 seconds\n",
      "locate patches: 0.02 seconds\n"
     ]
    },
    {
     "name": "stdout",
     "output_type": "stream",
     "text": [
      " patches in ROI\n",
      "35739 roi samples\n",
      "35976 patches in ROI\n",
      "35976 roi samples\n",
      "35765"
     ]
    },
    {
     "name": "stderr",
     "output_type": "stream",
     "text": [
      "locate patches: 0.02 seconds\n",
      "locate patches: 0.02 seconds\n"
     ]
    },
    {
     "name": "stdout",
     "output_type": "stream",
     "text": [
      " patches in ROI\n",
      "35765 roi samples\n",
      "35820 patches in ROI\n",
      "35820 roi samples\n",
      "35680"
     ]
    },
    {
     "name": "stderr",
     "output_type": "stream",
     "text": [
      "locate patches: 0.02 seconds\n",
      "locate patches: 0.02 seconds\n"
     ]
    },
    {
     "name": "stdout",
     "output_type": "stream",
     "text": [
      " patches in ROI\n",
      "35680 roi samples\n",
      "35560 patches in ROI\n",
      "35560 roi samples\n",
      "35783"
     ]
    },
    {
     "name": "stderr",
     "output_type": "stream",
     "text": [
      "locate patches: 0.02 seconds\n",
      "locate patches: 0.02 seconds\n"
     ]
    },
    {
     "name": "stdout",
     "output_type": "stream",
     "text": [
      " patches in ROI\n",
      "35783 roi samples\n",
      "35844 patches in ROI\n",
      "35844 roi samples\n",
      "35488"
     ]
    },
    {
     "name": "stderr",
     "output_type": "stream",
     "text": [
      "locate patches: 0.02 seconds\n",
      "locate patches: 0.02 seconds\n"
     ]
    },
    {
     "name": "stdout",
     "output_type": "stream",
     "text": [
      " patches in ROI\n",
      "35488 roi samples\n",
      "35385 patches in ROI\n",
      "35385 roi samples\n",
      "35451"
     ]
    },
    {
     "name": "stderr",
     "output_type": "stream",
     "text": [
      "locate patches: 0.02 seconds\n",
      "locate patches: 0.02 seconds\n"
     ]
    },
    {
     "name": "stdout",
     "output_type": "stream",
     "text": [
      " patches in ROI\n",
      "35451 roi samples\n",
      "35202 patches in ROI\n",
      "35202 roi samples\n",
      "35150"
     ]
    },
    {
     "name": "stderr",
     "output_type": "stream",
     "text": [
      "locate patches: 0.02 seconds\n",
      "locate patches: 0.02 seconds\n"
     ]
    },
    {
     "name": "stdout",
     "output_type": "stream",
     "text": [
      " patches in ROI\n",
      "35150 roi samples\n",
      "35160 patches in ROI\n",
      "35160 roi samples\n",
      "34846"
     ]
    },
    {
     "name": "stderr",
     "output_type": "stream",
     "text": [
      "locate patches: 0.02 seconds\n",
      "locate patches: 0.02 seconds\n"
     ]
    },
    {
     "name": "stdout",
     "output_type": "stream",
     "text": [
      " patches in ROI\n",
      "34846 roi samples\n",
      "35086 patches in ROI\n",
      "35086 roi samples\n",
      "34726"
     ]
    },
    {
     "name": "stderr",
     "output_type": "stream",
     "text": [
      "locate patches: 0.02 seconds\n",
      "locate patches: 0.02 seconds\n"
     ]
    },
    {
     "name": "stdout",
     "output_type": "stream",
     "text": [
      " patches in ROI\n",
      "34726 roi samples\n",
      "34806 patches in ROI\n",
      "34806 roi samples\n",
      "34503"
     ]
    },
    {
     "name": "stderr",
     "output_type": "stream",
     "text": [
      "locate patches: 0.02 seconds\n",
      "locate patches: 0.02 seconds\n"
     ]
    },
    {
     "name": "stdout",
     "output_type": "stream",
     "text": [
      " patches in ROI\n",
      "34503 roi samples\n",
      "34572 patches in ROI\n",
      "34572 roi samples\n",
      "33977"
     ]
    },
    {
     "name": "stderr",
     "output_type": "stream",
     "text": [
      "locate patches: 0.02 seconds\n",
      "locate patches: 0.02 seconds\n"
     ]
    },
    {
     "name": "stdout",
     "output_type": "stream",
     "text": [
      " patches in ROI\n",
      "33977 roi samples\n",
      "33863 patches in ROI\n",
      "33863 roi samples\n",
      "33411"
     ]
    },
    {
     "name": "stderr",
     "output_type": "stream",
     "text": [
      "locate patches: 0.02 seconds\n",
      "locate patches: 0.02 seconds\n"
     ]
    },
    {
     "name": "stdout",
     "output_type": "stream",
     "text": [
      " patches in ROI\n",
      "33411 roi samples\n",
      "33508 patches in ROI\n",
      "33508 roi samples\n",
      "33388"
     ]
    },
    {
     "name": "stderr",
     "output_type": "stream",
     "text": [
      "locate patches: 0.02 seconds\n",
      "locate patches: 0.02 seconds\n"
     ]
    },
    {
     "name": "stdout",
     "output_type": "stream",
     "text": [
      " patches in ROI\n",
      "33388 roi samples\n",
      "33034 patches in ROI\n",
      "33034 roi samples\n",
      "31742"
     ]
    },
    {
     "name": "stderr",
     "output_type": "stream",
     "text": [
      "locate patches: 0.02 seconds\n",
      "locate patches: 0.02 seconds\n"
     ]
    },
    {
     "name": "stdout",
     "output_type": "stream",
     "text": [
      " patches in ROI\n",
      "31742 roi samples\n",
      "31027 patches in ROI\n",
      "31027 roi samples\n",
      "31169"
     ]
    },
    {
     "name": "stderr",
     "output_type": "stream",
     "text": [
      "locate patches: 0.02 seconds\n",
      "locate patches: 0.02 seconds\n"
     ]
    },
    {
     "name": "stdout",
     "output_type": "stream",
     "text": [
      " patches in ROI\n",
      "31169 roi samples\n",
      "30528 patches in ROI\n",
      "30528 roi samples\n",
      "30438"
     ]
    },
    {
     "name": "stderr",
     "output_type": "stream",
     "text": [
      "locate patches: 0.02 seconds\n",
      "locate patches: 0.02 seconds\n"
     ]
    },
    {
     "name": "stdout",
     "output_type": "stream",
     "text": [
      " patches in ROI\n",
      "30438 roi samples\n",
      "30064 patches in ROI\n",
      "30064 roi samples\n",
      "29950"
     ]
    },
    {
     "name": "stderr",
     "output_type": "stream",
     "text": [
      "locate patches: 0.02 seconds\n",
      "locate patches: 0.02 seconds\n"
     ]
    },
    {
     "name": "stdout",
     "output_type": "stream",
     "text": [
      " patches in ROI\n",
      "29950 roi samples\n",
      "29719 patches in ROI\n",
      "29719 roi samples\n",
      "29613"
     ]
    },
    {
     "name": "stderr",
     "output_type": "stream",
     "text": [
      "locate patches: 0.02 seconds\n",
      "locate patches: 0.02 seconds\n"
     ]
    },
    {
     "name": "stdout",
     "output_type": "stream",
     "text": [
      " patches in ROI\n",
      "29613 roi samples\n",
      "29370 patches in ROI\n",
      "29370 roi samples\n",
      "29450"
     ]
    },
    {
     "name": "stderr",
     "output_type": "stream",
     "text": [
      "locate patches: 0.02 seconds\n",
      "locate patches: 0.02 seconds\n"
     ]
    },
    {
     "name": "stdout",
     "output_type": "stream",
     "text": [
      " patches in ROI\n",
      "29450 roi samples\n",
      "29083 patches in ROI\n",
      "29083 roi samples\n",
      "29023"
     ]
    },
    {
     "name": "stderr",
     "output_type": "stream",
     "text": [
      "locate patches: 0.02 seconds\n",
      "locate patches: 0.02 seconds\n"
     ]
    },
    {
     "name": "stdout",
     "output_type": "stream",
     "text": [
      " patches in ROI\n",
      "29023 roi samples\n",
      "28488 patches in ROI\n",
      "28488 roi samples\n",
      "28528"
     ]
    },
    {
     "name": "stderr",
     "output_type": "stream",
     "text": [
      "locate patches: 0.02 seconds\n",
      "locate patches: 0.02 seconds\n"
     ]
    },
    {
     "name": "stdout",
     "output_type": "stream",
     "text": [
      " patches in ROI\n",
      "28528 roi samples\n",
      "28323 patches in ROI\n",
      "28323 roi samples\n",
      "28213"
     ]
    },
    {
     "name": "stderr",
     "output_type": "stream",
     "text": [
      "locate patches: 0.02 seconds\n",
      "locate patches: 0.02 seconds\n"
     ]
    },
    {
     "name": "stdout",
     "output_type": "stream",
     "text": [
      " patches in ROI\n",
      "28213 roi samples\n",
      "27775 patches in ROI\n",
      "27775 roi samples\n",
      "27860"
     ]
    },
    {
     "name": "stderr",
     "output_type": "stream",
     "text": [
      "locate patches: 0.02 seconds\n",
      "locate patches: 0.02 seconds\n"
     ]
    },
    {
     "name": "stdout",
     "output_type": "stream",
     "text": [
      " patches in ROI\n",
      "27860 roi samples\n",
      "27541 patches in ROI\n",
      "27541 roi samples\n",
      "26496"
     ]
    },
    {
     "name": "stderr",
     "output_type": "stream",
     "text": [
      "locate patches: 0.02 seconds\n",
      "locate patches: 0.02 seconds\n"
     ]
    },
    {
     "name": "stdout",
     "output_type": "stream",
     "text": [
      " patches in ROI\n",
      "26496 roi samples\n",
      "26173 patches in ROI\n",
      "26173 roi samples\n",
      "26085"
     ]
    },
    {
     "name": "stderr",
     "output_type": "stream",
     "text": [
      "locate patches: 0.02 seconds\n",
      "locate patches: 0.02 seconds\n"
     ]
    },
    {
     "name": "stdout",
     "output_type": "stream",
     "text": [
      " patches in ROI\n",
      "26085 roi samples\n",
      "25958 patches in ROI\n",
      "25958 roi samples\n",
      "25628"
     ]
    },
    {
     "name": "stderr",
     "output_type": "stream",
     "text": [
      "locate patches: 0.02 seconds\n",
      "locate patches: 0.02 seconds\n"
     ]
    },
    {
     "name": "stdout",
     "output_type": "stream",
     "text": [
      " patches in ROI\n",
      "25628 roi samples\n",
      "25660 patches in ROI\n",
      "25660 roi samples\n",
      "25336"
     ]
    },
    {
     "name": "stderr",
     "output_type": "stream",
     "text": [
      "locate patches: 0.02 seconds\n",
      "locate patches: 0.02 seconds\n"
     ]
    },
    {
     "name": "stdout",
     "output_type": "stream",
     "text": [
      " patches in ROI\n",
      "25336 roi samples\n",
      "25161 patches in ROI\n",
      "25161 roi samples\n",
      "25046"
     ]
    },
    {
     "name": "stderr",
     "output_type": "stream",
     "text": [
      "locate patches: 0.02 seconds\n",
      "locate patches: 0.02 seconds\n"
     ]
    },
    {
     "name": "stdout",
     "output_type": "stream",
     "text": [
      " patches in ROI\n",
      "25046 roi samples\n",
      "24917 patches in ROI\n",
      "24917 roi samples\n",
      "24673"
     ]
    },
    {
     "name": "stderr",
     "output_type": "stream",
     "text": [
      "locate patches: 0.02 seconds\n",
      "locate patches: 0.02 seconds\n"
     ]
    },
    {
     "name": "stdout",
     "output_type": "stream",
     "text": [
      " patches in ROI\n",
      "24673 roi samples\n",
      "24574 patches in ROI\n",
      "24574 roi samples\n",
      "24315"
     ]
    },
    {
     "name": "stderr",
     "output_type": "stream",
     "text": [
      "locate patches: 0.02 seconds\n",
      "locate patches: 0.02 seconds\n"
     ]
    },
    {
     "name": "stdout",
     "output_type": "stream",
     "text": [
      " patches in ROI\n",
      "24315 roi samples\n",
      "24121 patches in ROI\n",
      "24121 roi samples\n",
      "24085"
     ]
    },
    {
     "name": "stderr",
     "output_type": "stream",
     "text": [
      "locate patches: 0.02 seconds\n",
      "locate patches: 0.02 seconds\n"
     ]
    },
    {
     "name": "stdout",
     "output_type": "stream",
     "text": [
      " patches in ROI\n",
      "24085 roi samples\n",
      "24059 patches in ROI\n",
      "24059 roi samples\n",
      "23868"
     ]
    },
    {
     "name": "stderr",
     "output_type": "stream",
     "text": [
      "locate patches: 0.02 seconds\n",
      "locate patches: 0.02 seconds\n"
     ]
    },
    {
     "name": "stdout",
     "output_type": "stream",
     "text": [
      " patches in ROI\n",
      "23868 roi samples\n",
      "23765 patches in ROI\n",
      "23765 roi samples\n",
      "23524"
     ]
    },
    {
     "name": "stderr",
     "output_type": "stream",
     "text": [
      "locate patches: 0.02 seconds\n",
      "locate patches: 0.02 seconds\n"
     ]
    },
    {
     "name": "stdout",
     "output_type": "stream",
     "text": [
      " patches in ROI\n",
      "23524 roi samples\n",
      "23552 patches in ROI\n",
      "23552 roi samples\n",
      "23171"
     ]
    },
    {
     "name": "stderr",
     "output_type": "stream",
     "text": [
      "locate patches: 0.02 seconds\n",
      "locate patches: 0.02 seconds\n"
     ]
    },
    {
     "name": "stdout",
     "output_type": "stream",
     "text": [
      " patches in ROI\n",
      "23171 roi samples\n",
      "23103 patches in ROI\n",
      "23103 roi samples\n",
      "23090"
     ]
    },
    {
     "name": "stderr",
     "output_type": "stream",
     "text": [
      "locate patches: 0.02 seconds\n",
      "locate patches: 0.02 seconds\n"
     ]
    },
    {
     "name": "stdout",
     "output_type": "stream",
     "text": [
      " patches in ROI\n",
      "23090 roi samples\n",
      "23020 patches in ROI\n",
      "23020 roi samples\n",
      "22858"
     ]
    },
    {
     "name": "stderr",
     "output_type": "stream",
     "text": [
      "locate patches: 0.02 seconds\n",
      "locate patches: 0.02 seconds\n"
     ]
    },
    {
     "name": "stdout",
     "output_type": "stream",
     "text": [
      " patches in ROI\n",
      "22858 roi samples\n",
      "22901 patches in ROI\n",
      "22901 roi samples\n",
      "22545"
     ]
    },
    {
     "name": "stderr",
     "output_type": "stream",
     "text": [
      "locate patches: 0.02 seconds\n",
      "locate patches: 0.02 seconds\n"
     ]
    },
    {
     "name": "stdout",
     "output_type": "stream",
     "text": [
      " patches in ROI\n",
      "22545 roi samples\n",
      "22329 patches in ROI\n",
      "22329 roi samples\n",
      "22294"
     ]
    },
    {
     "name": "stderr",
     "output_type": "stream",
     "text": [
      "locate patches: 0.02 seconds\n",
      "locate patches: 0.02 seconds\n"
     ]
    },
    {
     "name": "stdout",
     "output_type": "stream",
     "text": [
      " patches in ROI\n",
      "22294 roi samples\n",
      "22248 patches in ROI\n",
      "22248 roi samples\n",
      "20492"
     ]
    },
    {
     "name": "stderr",
     "output_type": "stream",
     "text": [
      "locate patches: 0.02 seconds\n",
      "locate patches: 0.02 seconds\n"
     ]
    },
    {
     "name": "stdout",
     "output_type": "stream",
     "text": [
      " patches in ROI\n",
      "20492 roi samples\n",
      "20522 patches in ROI\n",
      "20522 roi samples\n",
      "20463"
     ]
    },
    {
     "name": "stderr",
     "output_type": "stream",
     "text": [
      "locate patches: 0.02 seconds\n",
      "locate patches: 0.02 seconds\n"
     ]
    },
    {
     "name": "stdout",
     "output_type": "stream",
     "text": [
      " patches in ROI\n",
      "20463 roi samples\n",
      "20385 patches in ROI\n",
      "20385 roi samples\n",
      "20293"
     ]
    },
    {
     "name": "stderr",
     "output_type": "stream",
     "text": [
      "locate patches: 0.02 seconds\n",
      "locate patches: 0.02 seconds\n"
     ]
    },
    {
     "name": "stdout",
     "output_type": "stream",
     "text": [
      " patches in ROI\n",
      "20293 roi samples\n",
      "20335 patches in ROI\n",
      "20335 roi samples\n",
      "20376"
     ]
    },
    {
     "name": "stderr",
     "output_type": "stream",
     "text": [
      "locate patches: 0.02 seconds\n",
      "locate patches: 0.02 seconds\n"
     ]
    },
    {
     "name": "stdout",
     "output_type": "stream",
     "text": [
      " patches in ROI\n",
      "20376 roi samples\n",
      "20319 patches in ROI\n",
      "20319 roi samples\n",
      "20281"
     ]
    },
    {
     "name": "stderr",
     "output_type": "stream",
     "text": [
      "locate patches: 0.02 seconds\n",
      "locate patches: 0.02 seconds\n"
     ]
    },
    {
     "name": "stdout",
     "output_type": "stream",
     "text": [
      " patches in ROI\n",
      "20281 roi samples\n",
      "20168 patches in ROI\n",
      "20168 roi samples\n",
      "20439"
     ]
    },
    {
     "name": "stderr",
     "output_type": "stream",
     "text": [
      "locate patches: 0.02 seconds\n",
      "locate patches: 0.02 seconds\n"
     ]
    },
    {
     "name": "stdout",
     "output_type": "stream",
     "text": [
      " patches in ROI\n",
      "20439 roi samples\n",
      "20162 patches in ROI\n",
      "20162 roi samples\n",
      "20112"
     ]
    },
    {
     "name": "stderr",
     "output_type": "stream",
     "text": [
      "locate patches: 0.02 seconds\n",
      "locate patches: 0.02 seconds\n"
     ]
    },
    {
     "name": "stdout",
     "output_type": "stream",
     "text": [
      " patches in ROI\n",
      "20112 roi samples\n",
      "19897 patches in ROI\n",
      "19897 roi samples\n",
      "20158"
     ]
    },
    {
     "name": "stderr",
     "output_type": "stream",
     "text": [
      "locate patches: 0.02 seconds\n",
      "locate patches: 0.02 seconds\n"
     ]
    },
    {
     "name": "stdout",
     "output_type": "stream",
     "text": [
      " patches in ROI\n",
      "20158 roi samples\n",
      "20023 patches in ROI\n",
      "20023 roi samples\n",
      "20003"
     ]
    },
    {
     "name": "stderr",
     "output_type": "stream",
     "text": [
      "locate patches: 0.02 seconds\n",
      "locate patches: 0.02 seconds\n"
     ]
    },
    {
     "name": "stdout",
     "output_type": "stream",
     "text": [
      " patches in ROI\n",
      "20003 roi samples\n",
      "19513 patches in ROI\n",
      "19513 roi samples\n",
      "19981"
     ]
    },
    {
     "name": "stderr",
     "output_type": "stream",
     "text": [
      "locate patches: 0.02 seconds\n",
      "locate patches: 0.02 seconds\n"
     ]
    },
    {
     "name": "stdout",
     "output_type": "stream",
     "text": [
      " patches in ROI\n",
      "19981 roi samples\n",
      "MD594\n",
      "24366 patches in ROI\n",
      "24366 roi samples\n",
      "24537"
     ]
    },
    {
     "name": "stderr",
     "output_type": "stream",
     "text": [
      "locate patches: 0.02 seconds\n",
      "locate patches: 0.02 seconds\n"
     ]
    },
    {
     "name": "stdout",
     "output_type": "stream",
     "text": [
      " patches in ROI\n",
      "24537 roi samples\n",
      "24416 patches in ROI\n",
      "24416 roi samples\n",
      "24346"
     ]
    },
    {
     "name": "stderr",
     "output_type": "stream",
     "text": [
      "locate patches: 0.02 seconds\n",
      "locate patches: 0.02 seconds\n"
     ]
    },
    {
     "name": "stdout",
     "output_type": "stream",
     "text": [
      " patches in ROI\n",
      "24346 roi samples\n",
      "24918 patches in ROI\n",
      "24918 roi samples\n",
      "24680"
     ]
    },
    {
     "name": "stderr",
     "output_type": "stream",
     "text": [
      "locate patches: 0.02 seconds\n",
      "locate patches: 0.02 seconds\n"
     ]
    },
    {
     "name": "stdout",
     "output_type": "stream",
     "text": [
      " patches in ROI\n",
      "24680 roi samples\n",
      "24902 patches in ROI\n",
      "24902 roi samples\n",
      "24676"
     ]
    },
    {
     "name": "stderr",
     "output_type": "stream",
     "text": [
      "locate patches: 0.02 seconds\n",
      "locate patches: 0.02 seconds\n"
     ]
    },
    {
     "name": "stdout",
     "output_type": "stream",
     "text": [
      " patches in ROI\n",
      "24676 roi samples\n",
      "25034 patches in ROI\n",
      "25034 roi samples\n",
      "24767"
     ]
    },
    {
     "name": "stderr",
     "output_type": "stream",
     "text": [
      "locate patches: 0.02 seconds\n",
      "locate patches: 0.02 seconds\n"
     ]
    },
    {
     "name": "stdout",
     "output_type": "stream",
     "text": [
      " patches in ROI\n",
      "24767 roi samples\n",
      "25083 patches in ROI\n",
      "25083 roi samples\n",
      "25207"
     ]
    },
    {
     "name": "stderr",
     "output_type": "stream",
     "text": [
      "locate patches: 0.02 seconds\n",
      "locate patches: 0.02 seconds\n"
     ]
    },
    {
     "name": "stdout",
     "output_type": "stream",
     "text": [
      " patches in ROI\n",
      "25207 roi samples\n",
      "22299 patches in ROI\n",
      "22299 roi samples\n",
      "25420"
     ]
    },
    {
     "name": "stderr",
     "output_type": "stream",
     "text": [
      "locate patches: 0.02 seconds\n",
      "locate patches: 0.02 seconds\n"
     ]
    },
    {
     "name": "stdout",
     "output_type": "stream",
     "text": [
      " patches in ROI\n",
      "25420 roi samples\n",
      "26259 patches in ROI\n",
      "26259 roi samples\n",
      "26344"
     ]
    },
    {
     "name": "stderr",
     "output_type": "stream",
     "text": [
      "locate patches: 0.02 seconds\n",
      "locate patches: 0.02 seconds\n"
     ]
    },
    {
     "name": "stdout",
     "output_type": "stream",
     "text": [
      " patches in ROI\n",
      "26344 roi samples\n",
      "26818 patches in ROI\n",
      "26818 roi samples\n",
      "27015"
     ]
    },
    {
     "name": "stderr",
     "output_type": "stream",
     "text": [
      "locate patches: 0.02 seconds\n",
      "locate patches: 0.02 seconds\n"
     ]
    },
    {
     "name": "stdout",
     "output_type": "stream",
     "text": [
      " patches in ROI\n",
      "27015 roi samples\n",
      "27057 patches in ROI\n",
      "27057 roi samples\n",
      "27060"
     ]
    },
    {
     "name": "stderr",
     "output_type": "stream",
     "text": [
      "locate patches: 0.02 seconds\n",
      "locate patches: 0.02 seconds\n"
     ]
    },
    {
     "name": "stdout",
     "output_type": "stream",
     "text": [
      " patches in ROI\n",
      "27060 roi samples\n",
      "27151 patches in ROI\n",
      "27151 roi samples\n",
      "27120"
     ]
    },
    {
     "name": "stderr",
     "output_type": "stream",
     "text": [
      "locate patches: 0.02 seconds\n",
      "locate patches: 0.02 seconds\n"
     ]
    },
    {
     "name": "stdout",
     "output_type": "stream",
     "text": [
      " patches in ROI\n",
      "27120 roi samples\n",
      "27403 patches in ROI\n",
      "27403 roi samples\n",
      "27448"
     ]
    },
    {
     "name": "stderr",
     "output_type": "stream",
     "text": [
      "locate patches: 0.02 seconds\n",
      "locate patches: 0.02 seconds\n"
     ]
    },
    {
     "name": "stdout",
     "output_type": "stream",
     "text": [
      " patches in ROI\n",
      "27448 roi samples\n",
      "28055 patches in ROI\n",
      "28055 roi samples\n",
      "28168"
     ]
    },
    {
     "name": "stderr",
     "output_type": "stream",
     "text": [
      "locate patches: 0.02 seconds\n",
      "locate patches: 0.02 seconds\n"
     ]
    },
    {
     "name": "stdout",
     "output_type": "stream",
     "text": [
      " patches in ROI\n",
      "28168 roi samples\n",
      "28820 patches in ROI\n",
      "28820 roi samples\n",
      "28748"
     ]
    },
    {
     "name": "stderr",
     "output_type": "stream",
     "text": [
      "locate patches: 0.02 seconds\n",
      "locate patches: 0.02 seconds\n"
     ]
    },
    {
     "name": "stdout",
     "output_type": "stream",
     "text": [
      " patches in ROI\n",
      "28748 roi samples\n",
      "29048 patches in ROI\n",
      "29048 roi samples\n",
      "29169"
     ]
    },
    {
     "name": "stderr",
     "output_type": "stream",
     "text": [
      "locate patches: 0.02 seconds\n",
      "locate patches: 0.02 seconds\n"
     ]
    },
    {
     "name": "stdout",
     "output_type": "stream",
     "text": [
      " patches in ROI\n",
      "29169 roi samples\n",
      "29291 patches in ROI\n",
      "29291 roi samples\n",
      "29172"
     ]
    },
    {
     "name": "stderr",
     "output_type": "stream",
     "text": [
      "locate patches: 0.02 seconds\n",
      "locate patches: 0.02 seconds\n"
     ]
    },
    {
     "name": "stdout",
     "output_type": "stream",
     "text": [
      " patches in ROI\n",
      "29172 roi samples\n",
      "29551 patches in ROI\n",
      "29551 roi samples\n",
      "29577"
     ]
    },
    {
     "name": "stderr",
     "output_type": "stream",
     "text": [
      "locate patches: 0.02 seconds\n",
      "locate patches: 0.02 seconds\n"
     ]
    },
    {
     "name": "stdout",
     "output_type": "stream",
     "text": [
      " patches in ROI\n",
      "29577 roi samples\n",
      "29811 patches in ROI\n",
      "29811 roi samples\n",
      "29947"
     ]
    },
    {
     "name": "stderr",
     "output_type": "stream",
     "text": [
      "locate patches: 0.02 seconds\n",
      "locate patches: 0.02 seconds\n"
     ]
    },
    {
     "name": "stdout",
     "output_type": "stream",
     "text": [
      " patches in ROI\n",
      "29947 roi samples\n",
      "30145 patches in ROI\n",
      "30145 roi samples\n",
      "30410"
     ]
    },
    {
     "name": "stderr",
     "output_type": "stream",
     "text": [
      "locate patches: 0.02 seconds\n",
      "locate patches: 0.02 seconds\n"
     ]
    },
    {
     "name": "stdout",
     "output_type": "stream",
     "text": [
      " patches in ROI\n",
      "30410 roi samples\n",
      "30739 patches in ROI\n",
      "30739 roi samples\n",
      "30746"
     ]
    },
    {
     "name": "stderr",
     "output_type": "stream",
     "text": [
      "locate patches: 0.02 seconds\n",
      "locate patches: 0.02 seconds\n"
     ]
    },
    {
     "name": "stdout",
     "output_type": "stream",
     "text": [
      " patches in ROI\n",
      "30746 roi samples\n",
      "31120 patches in ROI\n",
      "31120 roi samples\n",
      "31161"
     ]
    },
    {
     "name": "stderr",
     "output_type": "stream",
     "text": [
      "locate patches: 0.02 seconds\n",
      "locate patches: 0.02 seconds\n"
     ]
    },
    {
     "name": "stdout",
     "output_type": "stream",
     "text": [
      " patches in ROI\n",
      "31161 roi samples\n",
      "31485 patches in ROI\n",
      "31485 roi samples\n",
      "31664"
     ]
    },
    {
     "name": "stderr",
     "output_type": "stream",
     "text": [
      "locate patches: 0.02 seconds\n",
      "locate patches: 0.02 seconds\n"
     ]
    },
    {
     "name": "stdout",
     "output_type": "stream",
     "text": [
      " patches in ROI\n",
      "31664 roi samples\n",
      "31780 patches in ROI\n",
      "31780 roi samples\n",
      "32155"
     ]
    },
    {
     "name": "stderr",
     "output_type": "stream",
     "text": [
      "locate patches: 0.02 seconds\n",
      "locate patches: 0.02 seconds\n"
     ]
    },
    {
     "name": "stdout",
     "output_type": "stream",
     "text": [
      " patches in ROI\n",
      "32155 roi samples\n",
      "32315 patches in ROI\n",
      "32315 roi samples\n",
      "32656"
     ]
    },
    {
     "name": "stderr",
     "output_type": "stream",
     "text": [
      "locate patches: 0.02 seconds\n",
      "locate patches: 0.02 seconds\n"
     ]
    },
    {
     "name": "stdout",
     "output_type": "stream",
     "text": [
      " patches in ROI\n",
      "32656 roi samples\n",
      "32902 patches in ROI\n",
      "32902 roi samples\n",
      "33059"
     ]
    },
    {
     "name": "stderr",
     "output_type": "stream",
     "text": [
      "locate patches: 0.02 seconds\n",
      "locate patches: 0.02 seconds\n"
     ]
    },
    {
     "name": "stdout",
     "output_type": "stream",
     "text": [
      " patches in ROI\n",
      "33059 roi samples\n",
      "33182 patches in ROI\n",
      "33182 roi samples\n",
      "33399"
     ]
    },
    {
     "name": "stderr",
     "output_type": "stream",
     "text": [
      "locate patches: 0.02 seconds\n",
      "locate patches: 0.02 seconds\n"
     ]
    },
    {
     "name": "stdout",
     "output_type": "stream",
     "text": [
      " patches in ROI\n",
      "33399 roi samples\n",
      "33740 patches in ROI\n",
      "33740 roi samples\n",
      "33632"
     ]
    },
    {
     "name": "stderr",
     "output_type": "stream",
     "text": [
      "locate patches: 0.02 seconds\n",
      "locate patches: 0.02 seconds\n"
     ]
    },
    {
     "name": "stdout",
     "output_type": "stream",
     "text": [
      " patches in ROI\n",
      "33632 roi samples\n",
      "34449 patches in ROI\n",
      "34449 roi samples\n",
      "34482"
     ]
    },
    {
     "name": "stderr",
     "output_type": "stream",
     "text": [
      "locate patches: 0.02 seconds\n",
      "locate patches: 0.02 seconds\n"
     ]
    },
    {
     "name": "stdout",
     "output_type": "stream",
     "text": [
      " patches in ROI\n",
      "34482 roi samples\n",
      "34769 patches in ROI\n",
      "34769 roi samples\n",
      "34995"
     ]
    },
    {
     "name": "stderr",
     "output_type": "stream",
     "text": [
      "locate patches: 0.02 seconds\n",
      "locate patches: 0.02 seconds\n"
     ]
    },
    {
     "name": "stdout",
     "output_type": "stream",
     "text": [
      " patches in ROI\n",
      "34995 roi samples\n",
      "35399 patches in ROI\n",
      "35399 roi samples\n",
      "35680"
     ]
    },
    {
     "name": "stderr",
     "output_type": "stream",
     "text": [
      "locate patches: 0.02 seconds\n",
      "locate patches: 0.02 seconds\n"
     ]
    },
    {
     "name": "stdout",
     "output_type": "stream",
     "text": [
      " patches in ROI\n",
      "35680 roi samples\n",
      "35793 patches in ROI\n",
      "35793 roi samples\n",
      "35978"
     ]
    },
    {
     "name": "stderr",
     "output_type": "stream",
     "text": [
      "locate patches: 0.02 seconds\n",
      "locate patches: 0.02 seconds\n"
     ]
    },
    {
     "name": "stdout",
     "output_type": "stream",
     "text": [
      " patches in ROI\n",
      "35978 roi samples\n",
      "36623 patches in ROI\n",
      "36623 roi samples\n",
      "36811"
     ]
    },
    {
     "name": "stderr",
     "output_type": "stream",
     "text": [
      "locate patches: 0.02 seconds\n",
      "locate patches: 0.02 seconds\n"
     ]
    },
    {
     "name": "stdout",
     "output_type": "stream",
     "text": [
      " patches in ROI\n",
      "36811 roi samples\n",
      "37103 patches in ROI\n",
      "37103 roi samples\n",
      "37099"
     ]
    },
    {
     "name": "stderr",
     "output_type": "stream",
     "text": [
      "locate patches: 0.02 seconds\n",
      "locate patches: 0.02 seconds\n"
     ]
    },
    {
     "name": "stdout",
     "output_type": "stream",
     "text": [
      " patches in ROI\n",
      "37099 roi samples\n",
      "37381 patches in ROI\n",
      "37381 roi samples\n",
      "37554"
     ]
    },
    {
     "name": "stderr",
     "output_type": "stream",
     "text": [
      "locate patches: 0.02 seconds\n",
      "locate patches: 0.02 seconds\n"
     ]
    },
    {
     "name": "stdout",
     "output_type": "stream",
     "text": [
      " patches in ROI\n",
      "37554 roi samples\n",
      "37783 patches in ROI\n",
      "37783 roi samples\n",
      "37979"
     ]
    },
    {
     "name": "stderr",
     "output_type": "stream",
     "text": [
      "locate patches: 0.02 seconds\n",
      "locate patches: 0.02 seconds\n"
     ]
    },
    {
     "name": "stdout",
     "output_type": "stream",
     "text": [
      " patches in ROI\n",
      "37979 roi samples\n",
      "38312 patches in ROI\n",
      "38312 roi samples\n",
      "38545"
     ]
    },
    {
     "name": "stderr",
     "output_type": "stream",
     "text": [
      "locate patches: 0.02 seconds\n",
      "locate patches: 0.02 seconds\n"
     ]
    },
    {
     "name": "stdout",
     "output_type": "stream",
     "text": [
      " patches in ROI\n",
      "38545 roi samples\n",
      "38805 patches in ROI\n",
      "38805 roi samples\n",
      "38733"
     ]
    },
    {
     "name": "stderr",
     "output_type": "stream",
     "text": [
      "locate patches: 0.02 seconds\n",
      "locate patches: 0.02 seconds\n"
     ]
    },
    {
     "name": "stdout",
     "output_type": "stream",
     "text": [
      " patches in ROI\n",
      "38733 roi samples\n",
      "38927 patches in ROI\n",
      "38927 roi samples\n",
      "39137"
     ]
    },
    {
     "name": "stderr",
     "output_type": "stream",
     "text": [
      "locate patches: 0.02 seconds\n",
      "locate patches: 0.02 seconds\n"
     ]
    },
    {
     "name": "stdout",
     "output_type": "stream",
     "text": [
      " patches in ROI\n",
      "39137 roi samples\n",
      "39347 patches in ROI\n",
      "39347 roi samples\n",
      "39334"
     ]
    },
    {
     "name": "stderr",
     "output_type": "stream",
     "text": [
      "locate patches: 0.02 seconds\n",
      "locate patches: 0.02 seconds\n"
     ]
    },
    {
     "name": "stdout",
     "output_type": "stream",
     "text": [
      " patches in ROI\n",
      "39334 roi samples\n",
      "39372 patches in ROI\n",
      "39372 roi samples\n",
      "39227"
     ]
    },
    {
     "name": "stderr",
     "output_type": "stream",
     "text": [
      "locate patches: 0.02 seconds\n",
      "locate patches: 0.02 seconds\n"
     ]
    },
    {
     "name": "stdout",
     "output_type": "stream",
     "text": [
      " patches in ROI\n",
      "39227 roi samples\n",
      "39494 patches in ROI\n",
      "39494 roi samples\n",
      "39406"
     ]
    },
    {
     "name": "stderr",
     "output_type": "stream",
     "text": [
      "locate patches: 0.02 seconds\n",
      "locate patches: 0.02 seconds\n"
     ]
    },
    {
     "name": "stdout",
     "output_type": "stream",
     "text": [
      " patches in ROI\n",
      "39406 roi samples\n",
      "39458 patches in ROI\n",
      "39458 roi samples\n",
      "39446"
     ]
    },
    {
     "name": "stderr",
     "output_type": "stream",
     "text": [
      "locate patches: 0.02 seconds\n",
      "locate patches: 0.02 seconds\n"
     ]
    },
    {
     "name": "stdout",
     "output_type": "stream",
     "text": [
      " patches in ROI\n",
      "39446 roi samples\n",
      "39702 patches in ROI\n",
      "39702 roi samples\n",
      "39556"
     ]
    },
    {
     "name": "stderr",
     "output_type": "stream",
     "text": [
      "locate patches: 0.02 seconds\n",
      "locate patches: 0.02 seconds\n"
     ]
    },
    {
     "name": "stdout",
     "output_type": "stream",
     "text": [
      " patches in ROI\n",
      "39556 roi samples\n",
      "39547 patches in ROI\n",
      "39547 roi samples\n",
      "39526"
     ]
    },
    {
     "name": "stderr",
     "output_type": "stream",
     "text": [
      "locate patches: 0.02 seconds\n",
      "locate patches: 0.02 seconds\n"
     ]
    },
    {
     "name": "stdout",
     "output_type": "stream",
     "text": [
      " patches in ROI\n",
      "39526 roi samples\n",
      "39635 patches in ROI\n",
      "39635 roi samples\n",
      "39516"
     ]
    },
    {
     "name": "stderr",
     "output_type": "stream",
     "text": [
      "locate patches: 0.02 seconds\n",
      "locate patches: 0.02 seconds\n"
     ]
    },
    {
     "name": "stdout",
     "output_type": "stream",
     "text": [
      " patches in ROI\n",
      "39516 roi samples\n",
      "39433 patches in ROI\n",
      "39433 roi samples\n",
      "39391"
     ]
    },
    {
     "name": "stderr",
     "output_type": "stream",
     "text": [
      "locate patches: 0.02 seconds\n",
      "locate patches: 0.02 seconds\n"
     ]
    },
    {
     "name": "stdout",
     "output_type": "stream",
     "text": [
      " patches in ROI\n",
      "39391 roi samples\n",
      "39521 patches in ROI\n",
      "39521 roi samples\n",
      "39172"
     ]
    },
    {
     "name": "stderr",
     "output_type": "stream",
     "text": [
      "locate patches: 0.02 seconds\n",
      "locate patches: 0.02 seconds\n"
     ]
    },
    {
     "name": "stdout",
     "output_type": "stream",
     "text": [
      " patches in ROI\n",
      "39172 roi samples\n",
      "38304 patches in ROI\n",
      "38304 roi samples\n",
      "39360"
     ]
    },
    {
     "name": "stderr",
     "output_type": "stream",
     "text": [
      "locate patches: 0.02 seconds\n",
      "locate patches: 0.02 seconds\n"
     ]
    },
    {
     "name": "stdout",
     "output_type": "stream",
     "text": [
      " patches in ROI\n",
      "39360 roi samples\n",
      "39478 patches in ROI\n",
      "39478 roi samples\n",
      "39494"
     ]
    },
    {
     "name": "stderr",
     "output_type": "stream",
     "text": [
      "locate patches: 0.02 seconds\n",
      "locate patches: 0.02 seconds\n"
     ]
    },
    {
     "name": "stdout",
     "output_type": "stream",
     "text": [
      " patches in ROI\n",
      "39494 roi samples\n",
      "39284 patches in ROI\n",
      "39284 roi samples\n",
      "39546"
     ]
    },
    {
     "name": "stderr",
     "output_type": "stream",
     "text": [
      "locate patches: 0.02 seconds\n",
      "locate patches: 0.02 seconds\n"
     ]
    },
    {
     "name": "stdout",
     "output_type": "stream",
     "text": [
      " patches in ROI\n",
      "39546 roi samples\n",
      "34796 patches in ROI\n",
      "34796 roi samples\n",
      "39316"
     ]
    },
    {
     "name": "stderr",
     "output_type": "stream",
     "text": [
      "locate patches: 0.02 seconds\n",
      "locate patches: 0.02 seconds\n"
     ]
    },
    {
     "name": "stdout",
     "output_type": "stream",
     "text": [
      " patches in ROI\n",
      "39316 roi samples\n",
      "39334 patches in ROI\n",
      "39334 roi samples\n",
      "39128"
     ]
    },
    {
     "name": "stderr",
     "output_type": "stream",
     "text": [
      "locate patches: 0.02 seconds\n",
      "locate patches: 0.02 seconds\n"
     ]
    },
    {
     "name": "stdout",
     "output_type": "stream",
     "text": [
      " patches in ROI\n",
      "39128 roi samples\n",
      "39297 patches in ROI\n",
      "39297 roi samples\n",
      "39278"
     ]
    },
    {
     "name": "stderr",
     "output_type": "stream",
     "text": [
      "locate patches: 0.02 seconds\n",
      "locate patches: 0.02 seconds\n"
     ]
    },
    {
     "name": "stdout",
     "output_type": "stream",
     "text": [
      " patches in ROI\n",
      "39278 roi samples\n",
      "39139 patches in ROI\n",
      "39139 roi samples\n",
      "39150"
     ]
    },
    {
     "name": "stderr",
     "output_type": "stream",
     "text": [
      "locate patches: 0.02 seconds\n",
      "locate patches: 0.02 seconds\n"
     ]
    },
    {
     "name": "stdout",
     "output_type": "stream",
     "text": [
      " patches in ROI\n",
      "39150 roi samples\n",
      "38998 patches in ROI\n",
      "38998 roi samples\n",
      "38991"
     ]
    },
    {
     "name": "stderr",
     "output_type": "stream",
     "text": [
      "locate patches: 0.02 seconds\n",
      "locate patches: 0.02 seconds\n"
     ]
    },
    {
     "name": "stdout",
     "output_type": "stream",
     "text": [
      " patches in ROI\n",
      "38991 roi samples\n",
      "39000 patches in ROI\n",
      "39000 roi samples\n",
      "39159"
     ]
    },
    {
     "name": "stderr",
     "output_type": "stream",
     "text": [
      "locate patches: 0.02 seconds\n",
      "locate patches: 0.02 seconds\n"
     ]
    },
    {
     "name": "stdout",
     "output_type": "stream",
     "text": [
      " patches in ROI\n",
      "39159 roi samples\n",
      "38967 patches in ROI\n",
      "38967 roi samples\n",
      "38609"
     ]
    },
    {
     "name": "stderr",
     "output_type": "stream",
     "text": [
      "locate patches: 0.02 seconds\n",
      "locate patches: 0.02 seconds\n"
     ]
    },
    {
     "name": "stdout",
     "output_type": "stream",
     "text": [
      " patches in ROI\n",
      "38609 roi samples\n",
      "38642 patches in ROI\n",
      "38642 roi samples\n",
      "38576"
     ]
    },
    {
     "name": "stderr",
     "output_type": "stream",
     "text": [
      "locate patches: 0.02 seconds\n",
      "locate patches: 0.02 seconds\n"
     ]
    },
    {
     "name": "stdout",
     "output_type": "stream",
     "text": [
      " patches in ROI\n",
      "38576 roi samples\n",
      "38449 patches in ROI\n",
      "38449 roi samples\n",
      "38341"
     ]
    },
    {
     "name": "stderr",
     "output_type": "stream",
     "text": [
      "locate patches: 0.02 seconds\n",
      "locate patches: 0.02 seconds\n"
     ]
    },
    {
     "name": "stdout",
     "output_type": "stream",
     "text": [
      " patches in ROI\n",
      "38341 roi samples\n",
      "38163 patches in ROI\n",
      "38163 roi samples\n",
      "38103"
     ]
    },
    {
     "name": "stderr",
     "output_type": "stream",
     "text": [
      "locate patches: 0.02 seconds\n",
      "locate patches: 0.02 seconds\n"
     ]
    },
    {
     "name": "stdout",
     "output_type": "stream",
     "text": [
      " patches in ROI\n",
      "38103 roi samples\n",
      "38012 patches in ROI\n",
      "38012 roi samples\n",
      "38036"
     ]
    },
    {
     "name": "stderr",
     "output_type": "stream",
     "text": [
      "locate patches: 0.02 seconds\n",
      "locate patches: 0.02 seconds\n"
     ]
    },
    {
     "name": "stdout",
     "output_type": "stream",
     "text": [
      " patches in ROI\n",
      "38036 roi samples\n",
      "37798 patches in ROI\n",
      "37798 roi samples\n",
      "37583"
     ]
    },
    {
     "name": "stderr",
     "output_type": "stream",
     "text": [
      "locate patches: 0.02 seconds\n",
      "locate patches: 0.02 seconds\n"
     ]
    },
    {
     "name": "stdout",
     "output_type": "stream",
     "text": [
      " patches in ROI\n",
      "37583 roi samples\n",
      "37600 patches in ROI\n",
      "37600 roi samples\n",
      "37538"
     ]
    },
    {
     "name": "stderr",
     "output_type": "stream",
     "text": [
      "locate patches: 0.02 seconds\n",
      "locate patches: 0.02 seconds\n"
     ]
    },
    {
     "name": "stdout",
     "output_type": "stream",
     "text": [
      " patches in ROI\n",
      "37538 roi samples\n",
      "37460 patches in ROI\n",
      "37460 roi samples\n",
      "37442"
     ]
    },
    {
     "name": "stderr",
     "output_type": "stream",
     "text": [
      "locate patches: 0.02 seconds\n",
      "locate patches: 0.02 seconds\n"
     ]
    },
    {
     "name": "stdout",
     "output_type": "stream",
     "text": [
      " patches in ROI\n",
      "37442 roi samples\n",
      "37058 patches in ROI\n",
      "37058 roi samples\n",
      "37157"
     ]
    },
    {
     "name": "stderr",
     "output_type": "stream",
     "text": [
      "locate patches: 0.02 seconds\n",
      "locate patches: 0.02 seconds\n"
     ]
    },
    {
     "name": "stdout",
     "output_type": "stream",
     "text": [
      " patches in ROI\n",
      "37157 roi samples\n",
      "36643 patches in ROI\n",
      "36643 roi samples\n",
      "36752"
     ]
    },
    {
     "name": "stderr",
     "output_type": "stream",
     "text": [
      "locate patches: 0.02 seconds\n",
      "locate patches: 0.02 seconds\n"
     ]
    },
    {
     "name": "stdout",
     "output_type": "stream",
     "text": [
      " patches in ROI\n",
      "36752 roi samples\n",
      "36897 patches in ROI\n",
      "36897 roi samples\n",
      "36199"
     ]
    },
    {
     "name": "stderr",
     "output_type": "stream",
     "text": [
      "locate patches: 0.02 seconds\n",
      "locate patches: 0.02 seconds\n"
     ]
    },
    {
     "name": "stdout",
     "output_type": "stream",
     "text": [
      " patches in ROI\n",
      "36199 roi samples\n",
      "36625 patches in ROI\n",
      "36625 roi samples\n",
      "36635"
     ]
    },
    {
     "name": "stderr",
     "output_type": "stream",
     "text": [
      "locate patches: 0.02 seconds\n",
      "locate patches: 0.02 seconds\n"
     ]
    },
    {
     "name": "stdout",
     "output_type": "stream",
     "text": [
      " patches in ROI\n",
      "36635 roi samples\n",
      "36480 patches in ROI\n",
      "36480 roi samples\n",
      "36276"
     ]
    },
    {
     "name": "stderr",
     "output_type": "stream",
     "text": [
      "locate patches: 0.02 seconds\n",
      "locate patches: 0.02 seconds\n"
     ]
    },
    {
     "name": "stdout",
     "output_type": "stream",
     "text": [
      " patches in ROI\n",
      "36276 roi samples\n",
      "36793 patches in ROI\n",
      "36793 roi samples\n",
      "36832"
     ]
    },
    {
     "name": "stderr",
     "output_type": "stream",
     "text": [
      "locate patches: 0.02 seconds\n",
      "locate patches: 0.02 seconds\n"
     ]
    },
    {
     "name": "stdout",
     "output_type": "stream",
     "text": [
      " patches in ROI\n",
      "36832 roi samples\n",
      "37075 patches in ROI\n",
      "37075 roi samples\n",
      "36937"
     ]
    },
    {
     "name": "stderr",
     "output_type": "stream",
     "text": [
      "locate patches: 0.02 seconds\n",
      "locate patches: 0.02 seconds\n"
     ]
    },
    {
     "name": "stdout",
     "output_type": "stream",
     "text": [
      " patches in ROI\n",
      "36937 roi samples\n",
      "37154 patches in ROI\n",
      "37154 roi samples\n",
      "37263"
     ]
    },
    {
     "name": "stderr",
     "output_type": "stream",
     "text": [
      "locate patches: 0.02 seconds\n",
      "locate patches: 0.02 seconds\n"
     ]
    },
    {
     "name": "stdout",
     "output_type": "stream",
     "text": [
      " patches in ROI\n",
      "37263 roi samples\n",
      "36672 patches in ROI\n",
      "36672 roi samples\n",
      "33577"
     ]
    },
    {
     "name": "stderr",
     "output_type": "stream",
     "text": [
      "locate patches: 0.02 seconds\n",
      "locate patches: 0.02 seconds\n"
     ]
    },
    {
     "name": "stdout",
     "output_type": "stream",
     "text": [
      " patches in ROI\n",
      "33577 roi samples\n",
      "37434 patches in ROI\n",
      "37434 roi samples\n",
      "37665"
     ]
    },
    {
     "name": "stderr",
     "output_type": "stream",
     "text": [
      "locate patches: 0.02 seconds\n",
      "locate patches: 0.02 seconds\n"
     ]
    },
    {
     "name": "stdout",
     "output_type": "stream",
     "text": [
      " patches in ROI\n",
      "37665 roi samples\n",
      "37336 patches in ROI\n",
      "37336 roi samples\n",
      "37924"
     ]
    },
    {
     "name": "stderr",
     "output_type": "stream",
     "text": [
      "locate patches: 0.02 seconds\n",
      "locate patches: 0.02 seconds\n"
     ]
    },
    {
     "name": "stdout",
     "output_type": "stream",
     "text": [
      " patches in ROI\n",
      "37924 roi samples\n",
      "38169 patches in ROI\n",
      "38169 roi samples\n",
      "37979"
     ]
    },
    {
     "name": "stderr",
     "output_type": "stream",
     "text": [
      "locate patches: 0.02 seconds\n",
      "locate patches: 0.02 seconds\n"
     ]
    },
    {
     "name": "stdout",
     "output_type": "stream",
     "text": [
      " patches in ROI\n",
      "37979 roi samples\n",
      "38026 patches in ROI\n",
      "38026 roi samples\n",
      "37986"
     ]
    },
    {
     "name": "stderr",
     "output_type": "stream",
     "text": [
      "locate patches: 0.02 seconds\n",
      "locate patches: 0.02 seconds\n"
     ]
    },
    {
     "name": "stdout",
     "output_type": "stream",
     "text": [
      " patches in ROI\n",
      "37986 roi samples\n",
      "38235 patches in ROI\n",
      "38235 roi samples\n",
      "37981"
     ]
    },
    {
     "name": "stderr",
     "output_type": "stream",
     "text": [
      "locate patches: 0.02 seconds\n",
      "locate patches: 0.02 seconds\n"
     ]
    },
    {
     "name": "stdout",
     "output_type": "stream",
     "text": [
      " patches in ROI\n",
      "37981 roi samples\n",
      "38368 patches in ROI\n",
      "38368 roi samples\n",
      "38415"
     ]
    },
    {
     "name": "stderr",
     "output_type": "stream",
     "text": [
      "locate patches: 0.02 seconds\n",
      "locate patches: 0.02 seconds\n"
     ]
    },
    {
     "name": "stdout",
     "output_type": "stream",
     "text": [
      " patches in ROI\n",
      "38415 roi samples\n",
      "38564 patches in ROI\n",
      "38564 roi samples\n",
      "38554"
     ]
    },
    {
     "name": "stderr",
     "output_type": "stream",
     "text": [
      "locate patches: 0.02 seconds\n",
      "locate patches: 0.02 seconds\n"
     ]
    },
    {
     "name": "stdout",
     "output_type": "stream",
     "text": [
      " patches in ROI\n",
      "38554 roi samples\n",
      "38388 patches in ROI\n",
      "38388 roi samples\n",
      "38511"
     ]
    },
    {
     "name": "stderr",
     "output_type": "stream",
     "text": [
      "locate patches: 0.02 seconds\n",
      "locate patches: 0.02 seconds\n"
     ]
    },
    {
     "name": "stdout",
     "output_type": "stream",
     "text": [
      " patches in ROI\n",
      "38511 roi samples\n",
      "38575 patches in ROI\n",
      "38575 roi samples\n",
      "38274"
     ]
    },
    {
     "name": "stderr",
     "output_type": "stream",
     "text": [
      "locate patches: 0.02 seconds\n",
      "locate patches: 0.02 seconds\n"
     ]
    },
    {
     "name": "stdout",
     "output_type": "stream",
     "text": [
      " patches in ROI\n",
      "38274 roi samples\n",
      "38575 patches in ROI\n",
      "38575 roi samples\n",
      "38338"
     ]
    },
    {
     "name": "stderr",
     "output_type": "stream",
     "text": [
      "locate patches: 0.02 seconds\n",
      "locate patches: 0.02 seconds\n"
     ]
    },
    {
     "name": "stdout",
     "output_type": "stream",
     "text": [
      " patches in ROI\n",
      "38338 roi samples\n",
      "38816 patches in ROI\n",
      "38816 roi samples\n",
      "38522"
     ]
    },
    {
     "name": "stderr",
     "output_type": "stream",
     "text": [
      "locate patches: 0.02 seconds\n",
      "locate patches: 0.02 seconds\n"
     ]
    },
    {
     "name": "stdout",
     "output_type": "stream",
     "text": [
      " patches in ROI\n",
      "38522 roi samples\n",
      "37856 patches in ROI\n",
      "37856 roi samples\n",
      "38682"
     ]
    },
    {
     "name": "stderr",
     "output_type": "stream",
     "text": [
      "locate patches: 0.02 seconds\n",
      "locate patches: 0.02 seconds\n"
     ]
    },
    {
     "name": "stdout",
     "output_type": "stream",
     "text": [
      " patches in ROI\n",
      "38682 roi samples\n",
      "38469 patches in ROI\n",
      "38469 roi samples\n",
      "38684"
     ]
    },
    {
     "name": "stderr",
     "output_type": "stream",
     "text": [
      "locate patches: 0.03 seconds\n",
      "locate patches: 0.02 seconds\n"
     ]
    },
    {
     "name": "stdout",
     "output_type": "stream",
     "text": [
      " patches in ROI\n",
      "38684 roi samples\n",
      "38411 patches in ROI\n",
      "38411 roi samples\n",
      "38535"
     ]
    },
    {
     "name": "stderr",
     "output_type": "stream",
     "text": [
      "locate patches: 0.02 seconds\n",
      "locate patches: 0.02 seconds\n"
     ]
    },
    {
     "name": "stdout",
     "output_type": "stream",
     "text": [
      " patches in ROI\n",
      "38535 roi samples\n",
      "38416 patches in ROI\n",
      "38416 roi samples\n",
      "38131"
     ]
    },
    {
     "name": "stderr",
     "output_type": "stream",
     "text": [
      "locate patches: 0.02 seconds\n",
      "locate patches: 0.02 seconds\n"
     ]
    },
    {
     "name": "stdout",
     "output_type": "stream",
     "text": [
      " patches in ROI\n",
      "38131 roi samples\n",
      "38536 patches in ROI\n",
      "38536 roi samples\n",
      "38256"
     ]
    },
    {
     "name": "stderr",
     "output_type": "stream",
     "text": [
      "locate patches: 0.02 seconds\n",
      "locate patches: 0.02 seconds\n"
     ]
    },
    {
     "name": "stdout",
     "output_type": "stream",
     "text": [
      " patches in ROI\n",
      "38256 roi samples\n",
      "38585 patches in ROI\n",
      "38585 roi samples\n",
      "38459"
     ]
    },
    {
     "name": "stderr",
     "output_type": "stream",
     "text": [
      "locate patches: 0.02 seconds\n",
      "locate patches: 0.02 seconds\n"
     ]
    },
    {
     "name": "stdout",
     "output_type": "stream",
     "text": [
      " patches in ROI\n",
      "38459 roi samples\n",
      "38175 patches in ROI\n",
      "38175 roi samples\n",
      "38233"
     ]
    },
    {
     "name": "stderr",
     "output_type": "stream",
     "text": [
      "locate patches: 0.02 seconds\n",
      "locate patches: 0.02 seconds\n"
     ]
    },
    {
     "name": "stdout",
     "output_type": "stream",
     "text": [
      " patches in ROI\n",
      "38233 roi samples\n",
      "38215 patches in ROI\n",
      "38215 roi samples\n",
      "38493"
     ]
    },
    {
     "name": "stderr",
     "output_type": "stream",
     "text": [
      "locate patches: 0.02 seconds\n",
      "locate patches: 0.02 seconds\n"
     ]
    },
    {
     "name": "stdout",
     "output_type": "stream",
     "text": [
      " patches in ROI\n",
      "38493 roi samples\n",
      "37959 patches in ROI\n",
      "37959 roi samples\n",
      "37975"
     ]
    },
    {
     "name": "stderr",
     "output_type": "stream",
     "text": [
      "locate patches: 0.02 seconds\n",
      "locate patches: 0.02 seconds\n"
     ]
    },
    {
     "name": "stdout",
     "output_type": "stream",
     "text": [
      " patches in ROI\n",
      "37975 roi samples\n",
      "37944 patches in ROI\n",
      "37944 roi samples\n",
      "37854"
     ]
    },
    {
     "name": "stderr",
     "output_type": "stream",
     "text": [
      "locate patches: 0.02 seconds\n",
      "locate patches: 0.02 seconds\n"
     ]
    },
    {
     "name": "stdout",
     "output_type": "stream",
     "text": [
      " patches in ROI\n",
      "37854 roi samples\n",
      "37587 patches in ROI\n",
      "37587 roi samples\n",
      "37738"
     ]
    },
    {
     "name": "stderr",
     "output_type": "stream",
     "text": [
      "locate patches: 0.02 seconds\n",
      "locate patches: 0.02 seconds\n"
     ]
    },
    {
     "name": "stdout",
     "output_type": "stream",
     "text": [
      " patches in ROI\n",
      "37738 roi samples\n",
      "37677 patches in ROI\n",
      "37677 roi samples\n",
      "37271"
     ]
    },
    {
     "name": "stderr",
     "output_type": "stream",
     "text": [
      "locate patches: 0.02 seconds\n",
      "locate patches: 0.03 seconds\n"
     ]
    },
    {
     "name": "stdout",
     "output_type": "stream",
     "text": [
      " patches in ROI\n",
      "37271 roi samples\n",
      "36980 patches in ROI\n",
      "36980 roi samples\n",
      "36885"
     ]
    },
    {
     "name": "stderr",
     "output_type": "stream",
     "text": [
      "locate patches: 0.02 seconds\n",
      "locate patches: 0.02 seconds\n"
     ]
    },
    {
     "name": "stdout",
     "output_type": "stream",
     "text": [
      " patches in ROI\n",
      "36885 roi samples\n",
      "37065 patches in ROI\n",
      "37065 roi samples\n",
      "36700"
     ]
    },
    {
     "name": "stderr",
     "output_type": "stream",
     "text": [
      "locate patches: 0.02 seconds\n",
      "locate patches: 0.03 seconds\n"
     ]
    },
    {
     "name": "stdout",
     "output_type": "stream",
     "text": [
      " patches in ROI\n",
      "36700 roi samples\n",
      "36399 patches in ROI\n",
      "36399 roi samples\n",
      "36500"
     ]
    },
    {
     "name": "stderr",
     "output_type": "stream",
     "text": [
      "locate patches: 0.02 seconds\n",
      "locate patches: 0.02 seconds\n"
     ]
    },
    {
     "name": "stdout",
     "output_type": "stream",
     "text": [
      " patches in ROI\n",
      "36500 roi samples\n",
      "36280 patches in ROI\n",
      "36280 roi samples\n",
      "36235"
     ]
    },
    {
     "name": "stderr",
     "output_type": "stream",
     "text": [
      "locate patches: 0.02 seconds\n",
      "locate patches: 0.02 seconds\n"
     ]
    },
    {
     "name": "stdout",
     "output_type": "stream",
     "text": [
      " patches in ROI\n",
      "36235 roi samples\n",
      "36098 patches in ROI\n",
      "36098 roi samples\n",
      "35322"
     ]
    },
    {
     "name": "stderr",
     "output_type": "stream",
     "text": [
      "locate patches: 0.02 seconds\n",
      "locate patches: 0.02 seconds\n"
     ]
    },
    {
     "name": "stdout",
     "output_type": "stream",
     "text": [
      " patches in ROI\n",
      "35322 roi samples\n",
      "35628 patches in ROI\n",
      "35628 roi samples\n",
      "35404"
     ]
    },
    {
     "name": "stderr",
     "output_type": "stream",
     "text": [
      "locate patches: 0.02 seconds\n",
      "locate patches: 0.02 seconds\n"
     ]
    },
    {
     "name": "stdout",
     "output_type": "stream",
     "text": [
      " patches in ROI\n",
      "35404 roi samples\n",
      "32447 patches in ROI\n",
      "32447 roi samples\n",
      "34623"
     ]
    },
    {
     "name": "stderr",
     "output_type": "stream",
     "text": [
      "locate patches: 0.03 seconds\n",
      "locate patches: 0.02 seconds\n"
     ]
    },
    {
     "name": "stdout",
     "output_type": "stream",
     "text": [
      " patches in ROI\n",
      "34623 roi samples\n",
      "34377 patches in ROI\n",
      "34377 roi samples\n",
      "34174"
     ]
    },
    {
     "name": "stderr",
     "output_type": "stream",
     "text": [
      "locate patches: 0.02 seconds\n",
      "locate patches: 0.02 seconds\n"
     ]
    },
    {
     "name": "stdout",
     "output_type": "stream",
     "text": [
      " patches in ROI\n",
      "34174 roi samples\n",
      "34448 patches in ROI\n",
      "34448 roi samples\n",
      "34122"
     ]
    },
    {
     "name": "stderr",
     "output_type": "stream",
     "text": [
      "locate patches: 0.02 seconds\n",
      "locate patches: 0.02 seconds\n"
     ]
    },
    {
     "name": "stdout",
     "output_type": "stream",
     "text": [
      " patches in ROI\n",
      "34122 roi samples\n",
      "33744 patches in ROI\n",
      "33744 roi samples\n",
      "33761"
     ]
    },
    {
     "name": "stderr",
     "output_type": "stream",
     "text": [
      "locate patches: 0.02 seconds\n",
      "locate patches: 0.02 seconds\n"
     ]
    },
    {
     "name": "stdout",
     "output_type": "stream",
     "text": [
      " patches in ROI\n",
      "33761 roi samples\n",
      "33162 patches in ROI\n",
      "33162 roi samples\n",
      "32870"
     ]
    },
    {
     "name": "stderr",
     "output_type": "stream",
     "text": [
      "locate patches: 0.03 seconds\n",
      "locate patches: 0.02 seconds\n"
     ]
    },
    {
     "name": "stdout",
     "output_type": "stream",
     "text": [
      " patches in ROI\n",
      "32870 roi samples\n",
      "33135 patches in ROI\n",
      "33135 roi samples\n",
      "32774"
     ]
    },
    {
     "name": "stderr",
     "output_type": "stream",
     "text": [
      "locate patches: 0.02 seconds\n",
      "locate patches: 0.02 seconds\n"
     ]
    },
    {
     "name": "stdout",
     "output_type": "stream",
     "text": [
      " patches in ROI\n",
      "32774 roi samples\n",
      "32639 patches in ROI\n",
      "32639 roi samples\n",
      "32560"
     ]
    },
    {
     "name": "stderr",
     "output_type": "stream",
     "text": [
      "locate patches: 0.02 seconds\n",
      "locate patches: 0.02 seconds\n"
     ]
    },
    {
     "name": "stdout",
     "output_type": "stream",
     "text": [
      " patches in ROI\n",
      "32560 roi samples\n",
      "31945 patches in ROI\n",
      "31945 roi samples\n",
      "31952"
     ]
    },
    {
     "name": "stderr",
     "output_type": "stream",
     "text": [
      "locate patches: 0.02 seconds\n",
      "locate patches: 0.02 seconds\n"
     ]
    },
    {
     "name": "stdout",
     "output_type": "stream",
     "text": [
      " patches in ROI\n",
      "31952 roi samples\n",
      "31734 patches in ROI\n",
      "31734 roi samples\n",
      "31596"
     ]
    },
    {
     "name": "stderr",
     "output_type": "stream",
     "text": [
      "locate patches: 0.02 seconds\n",
      "locate patches: 0.02 seconds\n"
     ]
    },
    {
     "name": "stdout",
     "output_type": "stream",
     "text": [
      " patches in ROI\n",
      "31596 roi samples\n",
      "30983 patches in ROI\n",
      "30983 roi samples\n",
      "31781"
     ]
    },
    {
     "name": "stderr",
     "output_type": "stream",
     "text": [
      "locate patches: 0.02 seconds\n",
      "locate patches: 0.02 seconds\n"
     ]
    },
    {
     "name": "stdout",
     "output_type": "stream",
     "text": [
      " patches in ROI\n",
      "31781 roi samples\n",
      "30663 patches in ROI\n",
      "30663 roi samples\n",
      "30802"
     ]
    },
    {
     "name": "stderr",
     "output_type": "stream",
     "text": [
      "locate patches: 0.02 seconds\n",
      "locate patches: 0.02 seconds\n"
     ]
    },
    {
     "name": "stdout",
     "output_type": "stream",
     "text": [
      " patches in ROI\n",
      "30802 roi samples\n",
      "30554 patches in ROI\n",
      "30554 roi samples\n",
      "30517"
     ]
    },
    {
     "name": "stderr",
     "output_type": "stream",
     "text": [
      "locate patches: 0.03 seconds\n",
      "locate patches: 0.02 seconds\n"
     ]
    },
    {
     "name": "stdout",
     "output_type": "stream",
     "text": [
      " patches in ROI\n",
      "30517 roi samples\n",
      "30498 patches in ROI\n",
      "30498 roi samples\n",
      "30095"
     ]
    },
    {
     "name": "stderr",
     "output_type": "stream",
     "text": [
      "locate patches: 0.02 seconds\n",
      "locate patches: 0.02 seconds\n"
     ]
    },
    {
     "name": "stdout",
     "output_type": "stream",
     "text": [
      " patches in ROI\n",
      "30095 roi samples\n",
      "30201 patches in ROI\n",
      "30201 roi samples\n",
      "29846"
     ]
    },
    {
     "name": "stderr",
     "output_type": "stream",
     "text": [
      "locate patches: 0.02 seconds\n",
      "locate patches: 0.02 seconds\n"
     ]
    },
    {
     "name": "stdout",
     "output_type": "stream",
     "text": [
      " patches in ROI\n",
      "29846 roi samples\n",
      "29500 patches in ROI\n",
      "29500 roi samples\n",
      "29282"
     ]
    },
    {
     "name": "stderr",
     "output_type": "stream",
     "text": [
      "locate patches: 0.02 seconds\n",
      "locate patches: 0.02 seconds\n"
     ]
    },
    {
     "name": "stdout",
     "output_type": "stream",
     "text": [
      " patches in ROI\n",
      "29282 roi samples\n",
      "29258 patches in ROI\n",
      "29258 roi samples\n",
      "29052"
     ]
    },
    {
     "name": "stderr",
     "output_type": "stream",
     "text": [
      "locate patches: 0.02 seconds\n",
      "locate patches: 0.02 seconds\n"
     ]
    },
    {
     "name": "stdout",
     "output_type": "stream",
     "text": [
      " patches in ROI\n",
      "29052 roi samples\n",
      "28955 patches in ROI\n",
      "28955 roi samples\n",
      "28733"
     ]
    },
    {
     "name": "stderr",
     "output_type": "stream",
     "text": [
      "locate patches: 0.02 seconds\n",
      "locate patches: 0.02 seconds\n"
     ]
    },
    {
     "name": "stdout",
     "output_type": "stream",
     "text": [
      " patches in ROI\n",
      "28733 roi samples\n",
      "28379 patches in ROI\n",
      "28379 roi samples\n",
      "29850"
     ]
    },
    {
     "name": "stderr",
     "output_type": "stream",
     "text": [
      "locate patches: 0.02 seconds\n",
      "locate patches: 0.02 seconds\n"
     ]
    },
    {
     "name": "stdout",
     "output_type": "stream",
     "text": [
      " patches in ROI\n",
      "29850 roi samples\n",
      "28085 patches in ROI\n",
      "28085 roi samples\n",
      "27867"
     ]
    },
    {
     "name": "stderr",
     "output_type": "stream",
     "text": [
      "locate patches: 0.02 seconds\n",
      "locate patches: 0.02 seconds\n"
     ]
    },
    {
     "name": "stdout",
     "output_type": "stream",
     "text": [
      " patches in ROI\n",
      "27867 roi samples\n",
      "27530 patches in ROI\n",
      "27530 roi samples\n",
      "27343"
     ]
    },
    {
     "name": "stderr",
     "output_type": "stream",
     "text": [
      "locate patches: 0.02 seconds\n",
      "locate patches: 0.03 seconds\n"
     ]
    },
    {
     "name": "stdout",
     "output_type": "stream",
     "text": [
      " patches in ROI\n",
      "27343 roi samples\n",
      "26883 patches in ROI\n",
      "26883 roi samples\n",
      "27009"
     ]
    },
    {
     "name": "stderr",
     "output_type": "stream",
     "text": [
      "locate patches: 0.02 seconds\n",
      "locate patches: 0.02 seconds\n"
     ]
    },
    {
     "name": "stdout",
     "output_type": "stream",
     "text": [
      " patches in ROI\n",
      "27009 roi samples\n",
      "26417 patches in ROI\n",
      "26417 roi samples\n",
      "25850"
     ]
    },
    {
     "name": "stderr",
     "output_type": "stream",
     "text": [
      "locate patches: 0.02 seconds\n",
      "locate patches: 0.02 seconds\n"
     ]
    },
    {
     "name": "stdout",
     "output_type": "stream",
     "text": [
      " patches in ROI\n",
      "25850 roi samples\n",
      "25879 patches in ROI\n",
      "25879 roi samples\n",
      "25973"
     ]
    },
    {
     "name": "stderr",
     "output_type": "stream",
     "text": [
      "locate patches: 0.02 seconds\n",
      "locate patches: 0.02 seconds\n"
     ]
    },
    {
     "name": "stdout",
     "output_type": "stream",
     "text": [
      " patches in ROI\n",
      "25973 roi samples\n",
      "24643 patches in ROI\n",
      "24643 roi samples\n",
      "24639"
     ]
    },
    {
     "name": "stderr",
     "output_type": "stream",
     "text": [
      "locate patches: 0.02 seconds\n",
      "locate patches: 0.02 seconds\n"
     ]
    },
    {
     "name": "stdout",
     "output_type": "stream",
     "text": [
      " patches in ROI\n",
      "24639 roi samples\n",
      "24620 patches in ROI\n",
      "24620 roi samples\n",
      "26086"
     ]
    },
    {
     "name": "stderr",
     "output_type": "stream",
     "text": [
      "locate patches: 0.02 seconds\n",
      "locate patches: 0.02 seconds\n"
     ]
    },
    {
     "name": "stdout",
     "output_type": "stream",
     "text": [
      " patches in ROI\n",
      "26086 roi samples\n",
      "24435 patches in ROI\n",
      "24435 roi samples\n",
      "24297"
     ]
    },
    {
     "name": "stderr",
     "output_type": "stream",
     "text": [
      "locate patches: 0.02 seconds\n",
      "locate patches: 0.02 seconds\n"
     ]
    },
    {
     "name": "stdout",
     "output_type": "stream",
     "text": [
      " patches in ROI\n",
      "24297 roi samples\n",
      "24364 patches in ROI\n",
      "24364 roi samples\n",
      "23850"
     ]
    },
    {
     "name": "stderr",
     "output_type": "stream",
     "text": [
      "locate patches: 0.02 seconds\n",
      "locate patches: 0.02 seconds\n"
     ]
    },
    {
     "name": "stdout",
     "output_type": "stream",
     "text": [
      " patches in ROI\n",
      "23850 roi samples\n",
      "24025 patches in ROI\n",
      "24025 roi samples\n",
      "24114"
     ]
    },
    {
     "name": "stderr",
     "output_type": "stream",
     "text": [
      "locate patches: 0.02 seconds\n",
      "locate patches: 0.02 seconds\n"
     ]
    },
    {
     "name": "stdout",
     "output_type": "stream",
     "text": [
      " patches in ROI\n",
      "24114 roi samples\n",
      "23995 patches in ROI\n",
      "23995 roi samples\n",
      "24332"
     ]
    },
    {
     "name": "stderr",
     "output_type": "stream",
     "text": [
      "locate patches: 0.02 seconds\n",
      "locate patches: 0.02 seconds\n"
     ]
    },
    {
     "name": "stdout",
     "output_type": "stream",
     "text": [
      " patches in ROI\n",
      "24332 roi samples\n",
      "23708 patches in ROI\n",
      "23708 roi samples\n",
      "23896"
     ]
    },
    {
     "name": "stderr",
     "output_type": "stream",
     "text": [
      "locate patches: 0.02 seconds\n",
      "locate patches: 0.02 seconds\n"
     ]
    },
    {
     "name": "stdout",
     "output_type": "stream",
     "text": [
      " patches in ROI\n",
      "23896 roi samples\n",
      "23942 patches in ROI\n",
      "23942 roi samples\n",
      "23387"
     ]
    },
    {
     "name": "stderr",
     "output_type": "stream",
     "text": [
      "locate patches: 0.02 seconds\n",
      "locate patches: 0.03 seconds\n"
     ]
    },
    {
     "name": "stdout",
     "output_type": "stream",
     "text": [
      " patches in ROI\n",
      "23387 roi samples\n",
      "23113 patches in ROI\n",
      "23113 roi samples\n",
      "26429"
     ]
    },
    {
     "name": "stderr",
     "output_type": "stream",
     "text": [
      "locate patches: 0.03 seconds\n",
      "locate patches: 0.03 seconds\n"
     ]
    },
    {
     "name": "stdout",
     "output_type": "stream",
     "text": [
      " patches in ROI\n",
      "26429 roi samples\n",
      "22680 patches in ROI\n",
      "22680 roi samples\n",
      "22538"
     ]
    },
    {
     "name": "stderr",
     "output_type": "stream",
     "text": [
      "locate patches: 0.02 seconds\n",
      "locate patches: 0.02 seconds\n"
     ]
    },
    {
     "name": "stdout",
     "output_type": "stream",
     "text": [
      " patches in ROI\n",
      "22538 roi samples\n",
      "22478 patches in ROI\n",
      "22478 roi samples\n",
      "22260"
     ]
    },
    {
     "name": "stderr",
     "output_type": "stream",
     "text": [
      "locate patches: 0.02 seconds\n",
      "locate patches: 0.02 seconds\n"
     ]
    },
    {
     "name": "stdout",
     "output_type": "stream",
     "text": [
      " patches in ROI\n",
      "22260 roi samples\n",
      "MD593\n",
      "25320 patches in ROI\n",
      "25320 roi samples\n",
      "25162"
     ]
    },
    {
     "name": "stderr",
     "output_type": "stream",
     "text": [
      "locate patches: 0.04 seconds\n",
      "locate patches: 0.04 seconds\n"
     ]
    },
    {
     "name": "stdout",
     "output_type": "stream",
     "text": [
      " patches in ROI\n",
      "25162 roi samples\n",
      "26092 patches in ROI\n",
      "26092 roi samples\n",
      "25048"
     ]
    },
    {
     "name": "stderr",
     "output_type": "stream",
     "text": [
      "locate patches: 0.04 seconds\n",
      "locate patches: 0.04 seconds\n"
     ]
    },
    {
     "name": "stdout",
     "output_type": "stream",
     "text": [
      " patches in ROI\n",
      "25048 roi samples\n",
      "25502 patches in ROI\n",
      "25502 roi samples\n",
      "24998"
     ]
    },
    {
     "name": "stderr",
     "output_type": "stream",
     "text": [
      "locate patches: 0.04 seconds\n",
      "locate patches: 0.04 seconds\n"
     ]
    },
    {
     "name": "stdout",
     "output_type": "stream",
     "text": [
      " patches in ROI\n",
      "24998 roi samples\n",
      "25430 patches in ROI\n",
      "25430 roi samples\n",
      "25062"
     ]
    },
    {
     "name": "stderr",
     "output_type": "stream",
     "text": [
      "locate patches: 0.04 seconds\n",
      "locate patches: 0.04 seconds\n"
     ]
    },
    {
     "name": "stdout",
     "output_type": "stream",
     "text": [
      " patches in ROI\n",
      "25062 roi samples\n",
      "25431 patches in ROI\n",
      "25431 roi samples\n",
      "25082"
     ]
    },
    {
     "name": "stderr",
     "output_type": "stream",
     "text": [
      "locate patches: 0.04 seconds\n",
      "locate patches: 0.04 seconds\n"
     ]
    },
    {
     "name": "stdout",
     "output_type": "stream",
     "text": [
      " patches in ROI\n",
      "25082 roi samples\n",
      "25216 patches in ROI\n",
      "25216 roi samples\n",
      "24946"
     ]
    },
    {
     "name": "stderr",
     "output_type": "stream",
     "text": [
      "locate patches: 0.04 seconds\n",
      "locate patches: 0.04 seconds\n"
     ]
    },
    {
     "name": "stdout",
     "output_type": "stream",
     "text": [
      " patches in ROI\n",
      "24946 roi samples\n",
      "25544 patches in ROI\n",
      "25544 roi samples\n",
      "25298"
     ]
    },
    {
     "name": "stderr",
     "output_type": "stream",
     "text": [
      "locate patches: 0.06 seconds\n",
      "locate patches: 0.07 seconds\n"
     ]
    },
    {
     "name": "stdout",
     "output_type": "stream",
     "text": [
      " patches in ROI\n",
      "25298 roi samples\n",
      "25941 patches in ROI\n",
      "25941 roi samples\n",
      "25847"
     ]
    },
    {
     "name": "stderr",
     "output_type": "stream",
     "text": [
      "locate patches: 0.04 seconds\n",
      "locate patches: 0.05 seconds\n"
     ]
    },
    {
     "name": "stdout",
     "output_type": "stream",
     "text": [
      " patches in ROI\n",
      "25847 roi samples\n",
      "25979 patches in ROI\n",
      "25979 roi samples\n",
      "25840"
     ]
    },
    {
     "name": "stderr",
     "output_type": "stream",
     "text": [
      "locate patches: 0.04 seconds\n",
      "locate patches: 0.04 seconds\n"
     ]
    },
    {
     "name": "stdout",
     "output_type": "stream",
     "text": [
      " patches in ROI\n",
      "25840 roi samples\n",
      "26156 patches in ROI\n",
      "26156 roi samples\n",
      "26116"
     ]
    },
    {
     "name": "stderr",
     "output_type": "stream",
     "text": [
      "locate patches: 0.04 seconds\n",
      "locate patches: 0.04 seconds\n"
     ]
    },
    {
     "name": "stdout",
     "output_type": "stream",
     "text": [
      " patches in ROI\n",
      "26116 roi samples\n",
      "26590 patches in ROI\n",
      "26590 roi samples\n",
      "26358"
     ]
    },
    {
     "name": "stderr",
     "output_type": "stream",
     "text": [
      "locate patches: 0.05 seconds\n",
      "locate patches: 0.04 seconds\n"
     ]
    },
    {
     "name": "stdout",
     "output_type": "stream",
     "text": [
      " patches in ROI\n",
      "26358 roi samples\n",
      "26607 patches in ROI\n",
      "26607 roi samples\n",
      "26056"
     ]
    },
    {
     "name": "stderr",
     "output_type": "stream",
     "text": [
      "locate patches: 0.04 seconds\n",
      "locate patches: 0.04 seconds\n"
     ]
    },
    {
     "name": "stdout",
     "output_type": "stream",
     "text": [
      " patches in ROI\n",
      "26056 roi samples\n",
      "26847 patches in ROI\n",
      "26847 roi samples\n",
      "27037"
     ]
    },
    {
     "name": "stderr",
     "output_type": "stream",
     "text": [
      "locate patches: 0.04 seconds\n",
      "locate patches: 0.04 seconds\n"
     ]
    },
    {
     "name": "stdout",
     "output_type": "stream",
     "text": [
      " patches in ROI\n",
      "27037 roi samples\n",
      "27612 patches in ROI\n",
      "27612 roi samples\n",
      "27853"
     ]
    },
    {
     "name": "stderr",
     "output_type": "stream",
     "text": [
      "locate patches: 0.04 seconds\n",
      "locate patches: 0.04 seconds\n"
     ]
    },
    {
     "name": "stdout",
     "output_type": "stream",
     "text": [
      " patches in ROI\n",
      "27853 roi samples\n",
      "28073 patches in ROI\n",
      "28073 roi samples\n",
      "28021"
     ]
    },
    {
     "name": "stderr",
     "output_type": "stream",
     "text": [
      "locate patches: 0.04 seconds\n",
      "locate patches: 0.05 seconds\n"
     ]
    },
    {
     "name": "stdout",
     "output_type": "stream",
     "text": [
      " patches in ROI\n",
      "28021 roi samples\n",
      "28729 patches in ROI\n",
      "28729 roi samples\n",
      "28862"
     ]
    },
    {
     "name": "stderr",
     "output_type": "stream",
     "text": [
      "locate patches: 0.05 seconds\n",
      "locate patches: 0.05 seconds\n"
     ]
    },
    {
     "name": "stdout",
     "output_type": "stream",
     "text": [
      " patches in ROI\n",
      "28862 roi samples\n",
      "29341 patches in ROI\n",
      "29341 roi samples\n",
      "28936"
     ]
    },
    {
     "name": "stderr",
     "output_type": "stream",
     "text": [
      "locate patches: 0.05 seconds\n",
      "locate patches: 0.04 seconds\n"
     ]
    },
    {
     "name": "stdout",
     "output_type": "stream",
     "text": [
      " patches in ROI\n",
      "28936 roi samples\n",
      "29860 patches in ROI\n",
      "29860 roi samples\n",
      "29819"
     ]
    },
    {
     "name": "stderr",
     "output_type": "stream",
     "text": [
      "locate patches: 0.04 seconds\n",
      "locate patches: 0.04 seconds\n"
     ]
    },
    {
     "name": "stdout",
     "output_type": "stream",
     "text": [
      " patches in ROI\n",
      "29819 roi samples\n",
      "30066 patches in ROI\n",
      "30066 roi samples\n",
      "30285"
     ]
    },
    {
     "name": "stderr",
     "output_type": "stream",
     "text": [
      "locate patches: 0.04 seconds\n",
      "locate patches: 0.05 seconds\n"
     ]
    },
    {
     "name": "stdout",
     "output_type": "stream",
     "text": [
      " patches in ROI\n",
      "30285 roi samples\n",
      "30556 patches in ROI\n",
      "30556 roi samples\n",
      "30857"
     ]
    },
    {
     "name": "stderr",
     "output_type": "stream",
     "text": [
      "locate patches: 0.04 seconds\n",
      "locate patches: 0.04 seconds\n"
     ]
    },
    {
     "name": "stdout",
     "output_type": "stream",
     "text": [
      " patches in ROI\n",
      "30857 roi samples\n",
      "30790 patches in ROI\n",
      "30790 roi samples\n",
      "31135"
     ]
    },
    {
     "name": "stderr",
     "output_type": "stream",
     "text": [
      "locate patches: 0.04 seconds\n",
      "locate patches: 0.04 seconds\n"
     ]
    },
    {
     "name": "stdout",
     "output_type": "stream",
     "text": [
      " patches in ROI\n",
      "31135 roi samples\n",
      "31040 patches in ROI\n",
      "31040 roi samples\n",
      "31429"
     ]
    },
    {
     "name": "stderr",
     "output_type": "stream",
     "text": [
      "locate patches: 0.04 seconds\n",
      "locate patches: 0.04 seconds\n"
     ]
    },
    {
     "name": "stdout",
     "output_type": "stream",
     "text": [
      " patches in ROI\n",
      "31429 roi samples\n",
      "31566 patches in ROI\n",
      "31566 roi samples\n",
      "31917"
     ]
    },
    {
     "name": "stderr",
     "output_type": "stream",
     "text": [
      "locate patches: 0.04 seconds\n",
      "locate patches: 0.04 seconds\n"
     ]
    },
    {
     "name": "stdout",
     "output_type": "stream",
     "text": [
      " patches in ROI\n",
      "31917 roi samples\n",
      "31825 patches in ROI\n",
      "31825 roi samples\n",
      "32158"
     ]
    },
    {
     "name": "stderr",
     "output_type": "stream",
     "text": [
      "locate patches: 0.04 seconds\n",
      "locate patches: 0.04 seconds\n"
     ]
    },
    {
     "name": "stdout",
     "output_type": "stream",
     "text": [
      " patches in ROI\n",
      "32158 roi samples\n",
      "31749 patches in ROI\n",
      "31749 roi samples\n",
      "32646"
     ]
    },
    {
     "name": "stderr",
     "output_type": "stream",
     "text": [
      "locate patches: 0.04 seconds\n",
      "locate patches: 0.04 seconds\n"
     ]
    },
    {
     "name": "stdout",
     "output_type": "stream",
     "text": [
      " patches in ROI\n",
      "32646 roi samples\n",
      "32281 patches in ROI\n",
      "32281 roi samples\n",
      "33079"
     ]
    },
    {
     "name": "stderr",
     "output_type": "stream",
     "text": [
      "locate patches: 0.05 seconds\n",
      "locate patches: 0.04 seconds\n"
     ]
    },
    {
     "name": "stdout",
     "output_type": "stream",
     "text": [
      " patches in ROI\n",
      "33079 roi samples\n",
      "32975 patches in ROI\n",
      "32975 roi samples\n",
      "33464"
     ]
    },
    {
     "name": "stderr",
     "output_type": "stream",
     "text": [
      "locate patches: 0.04 seconds\n",
      "locate patches: 0.04 seconds\n"
     ]
    },
    {
     "name": "stdout",
     "output_type": "stream",
     "text": [
      " patches in ROI\n",
      "33464 roi samples\n",
      "33564 patches in ROI\n",
      "33564 roi samples\n",
      "34712"
     ]
    },
    {
     "name": "stderr",
     "output_type": "stream",
     "text": [
      "locate patches: 0.05 seconds\n",
      "locate patches: 0.04 seconds\n"
     ]
    },
    {
     "name": "stdout",
     "output_type": "stream",
     "text": [
      " patches in ROI\n",
      "34712 roi samples\n",
      "34007 patches in ROI\n",
      "34007 roi samples\n",
      "33960"
     ]
    },
    {
     "name": "stderr",
     "output_type": "stream",
     "text": [
      "locate patches: 0.04 seconds\n",
      "locate patches: 0.04 seconds\n"
     ]
    },
    {
     "name": "stdout",
     "output_type": "stream",
     "text": [
      " patches in ROI\n",
      "33960 roi samples\n",
      "34272 patches in ROI\n",
      "34272 roi samples\n",
      "35155"
     ]
    },
    {
     "name": "stderr",
     "output_type": "stream",
     "text": [
      "locate patches: 0.04 seconds\n",
      "locate patches: 0.04 seconds\n"
     ]
    },
    {
     "name": "stdout",
     "output_type": "stream",
     "text": [
      " patches in ROI\n",
      "35155 roi samples\n",
      "34998 patches in ROI\n",
      "34998 roi samples\n",
      "35593"
     ]
    },
    {
     "name": "stderr",
     "output_type": "stream",
     "text": [
      "locate patches: 0.04 seconds\n",
      "locate patches: 0.04 seconds\n"
     ]
    },
    {
     "name": "stdout",
     "output_type": "stream",
     "text": [
      " patches in ROI\n",
      "35593 roi samples\n",
      "35679 patches in ROI\n",
      "35679 roi samples\n",
      "36158"
     ]
    },
    {
     "name": "stderr",
     "output_type": "stream",
     "text": [
      "locate patches: 0.04 seconds\n",
      "locate patches: 0.04 seconds\n"
     ]
    },
    {
     "name": "stdout",
     "output_type": "stream",
     "text": [
      " patches in ROI\n",
      "36158 roi samples\n",
      "36099 patches in ROI\n",
      "36099 roi samples\n",
      "36125"
     ]
    },
    {
     "name": "stderr",
     "output_type": "stream",
     "text": [
      "locate patches: 0.04 seconds\n",
      "locate patches: 0.04 seconds\n"
     ]
    },
    {
     "name": "stdout",
     "output_type": "stream",
     "text": [
      " patches in ROI\n",
      "36125 roi samples\n",
      "36912 patches in ROI\n",
      "36912 roi samples\n",
      "36513"
     ]
    },
    {
     "name": "stderr",
     "output_type": "stream",
     "text": [
      "locate patches: 0.05 seconds\n",
      "locate patches: 0.05 seconds\n"
     ]
    },
    {
     "name": "stdout",
     "output_type": "stream",
     "text": [
      " patches in ROI\n",
      "36513 roi samples\n",
      "37523 patches in ROI\n",
      "37523 roi samples\n",
      "37435"
     ]
    },
    {
     "name": "stderr",
     "output_type": "stream",
     "text": [
      "locate patches: 0.05 seconds\n",
      "locate patches: 0.04 seconds\n"
     ]
    },
    {
     "name": "stdout",
     "output_type": "stream",
     "text": [
      " patches in ROI\n",
      "37435 roi samples\n",
      "37969 patches in ROI\n",
      "37969 roi samples\n",
      "37867"
     ]
    },
    {
     "name": "stderr",
     "output_type": "stream",
     "text": [
      "locate patches: 0.04 seconds\n",
      "locate patches: 0.04 seconds\n"
     ]
    },
    {
     "name": "stdout",
     "output_type": "stream",
     "text": [
      " patches in ROI\n",
      "37867 roi samples\n",
      "38759 patches in ROI\n",
      "38759 roi samples\n",
      "38599"
     ]
    },
    {
     "name": "stderr",
     "output_type": "stream",
     "text": [
      "locate patches: 0.04 seconds\n",
      "locate patches: 0.05 seconds\n"
     ]
    },
    {
     "name": "stdout",
     "output_type": "stream",
     "text": [
      " patches in ROI\n",
      "38599 roi samples\n",
      "39064 patches in ROI\n",
      "39064 roi samples\n",
      "38960"
     ]
    },
    {
     "name": "stderr",
     "output_type": "stream",
     "text": [
      "locate patches: 0.04 seconds\n",
      "locate patches: 0.04 seconds\n"
     ]
    },
    {
     "name": "stdout",
     "output_type": "stream",
     "text": [
      " patches in ROI\n",
      "38960 roi samples\n",
      "39808 patches in ROI\n",
      "39808 roi samples\n",
      "39462"
     ]
    },
    {
     "name": "stderr",
     "output_type": "stream",
     "text": [
      "locate patches: 0.04 seconds\n",
      "locate patches: 0.04 seconds\n"
     ]
    },
    {
     "name": "stdout",
     "output_type": "stream",
     "text": [
      " patches in ROI\n",
      "39462 roi samples\n",
      "40371 patches in ROI\n",
      "40371 roi samples\n",
      "40366"
     ]
    },
    {
     "name": "stderr",
     "output_type": "stream",
     "text": [
      "locate patches: 0.04 seconds\n",
      "locate patches: 0.04 seconds\n"
     ]
    },
    {
     "name": "stdout",
     "output_type": "stream",
     "text": [
      " patches in ROI\n",
      "40366 roi samples\n",
      "41165 patches in ROI\n",
      "41165 roi samples\n",
      "40852"
     ]
    },
    {
     "name": "stderr",
     "output_type": "stream",
     "text": [
      "locate patches: 0.04 seconds\n",
      "locate patches: 0.04 seconds\n"
     ]
    },
    {
     "name": "stdout",
     "output_type": "stream",
     "text": [
      " patches in ROI\n",
      "40852 roi samples\n",
      "41221 patches in ROI\n",
      "41221 roi samples\n",
      "41274"
     ]
    },
    {
     "name": "stderr",
     "output_type": "stream",
     "text": [
      "locate patches: 0.04 seconds\n",
      "locate patches: 0.04 seconds\n"
     ]
    },
    {
     "name": "stdout",
     "output_type": "stream",
     "text": [
      " patches in ROI\n",
      "41274 roi samples\n",
      "42496 patches in ROI\n",
      "42496 roi samples\n",
      "42481"
     ]
    },
    {
     "name": "stderr",
     "output_type": "stream",
     "text": [
      "locate patches: 0.05 seconds\n",
      "locate patches: 0.04 seconds\n"
     ]
    },
    {
     "name": "stdout",
     "output_type": "stream",
     "text": [
      " patches in ROI\n",
      "42481 roi samples\n",
      "42298 patches in ROI\n",
      "42298 roi samples\n",
      "42372"
     ]
    },
    {
     "name": "stderr",
     "output_type": "stream",
     "text": [
      "locate patches: 0.04 seconds\n",
      "locate patches: 0.05 seconds\n"
     ]
    },
    {
     "name": "stdout",
     "output_type": "stream",
     "text": [
      " patches in ROI\n",
      "42372 roi samples\n",
      "42590 patches in ROI\n",
      "42590 roi samples\n",
      "43915"
     ]
    },
    {
     "name": "stderr",
     "output_type": "stream",
     "text": [
      "locate patches: 0.04 seconds\n",
      "locate patches: 0.04 seconds\n"
     ]
    },
    {
     "name": "stdout",
     "output_type": "stream",
     "text": [
      " patches in ROI\n",
      "43915 roi samples\n",
      "46222 patches in ROI\n",
      "46222 roi samples\n",
      "47595"
     ]
    },
    {
     "name": "stderr",
     "output_type": "stream",
     "text": [
      "locate patches: 0.05 seconds\n",
      "locate patches: 0.04 seconds\n"
     ]
    },
    {
     "name": "stdout",
     "output_type": "stream",
     "text": [
      " patches in ROI\n",
      "47595 roi samples\n",
      "47341 patches in ROI\n",
      "47341 roi samples\n",
      "48209"
     ]
    },
    {
     "name": "stderr",
     "output_type": "stream",
     "text": [
      "locate patches: 0.04 seconds\n",
      "locate patches: 0.04 seconds\n"
     ]
    },
    {
     "name": "stdout",
     "output_type": "stream",
     "text": [
      " patches in ROI\n",
      "48209 roi samples\n",
      "47794 patches in ROI\n",
      "47794 roi samples\n",
      "47682"
     ]
    },
    {
     "name": "stderr",
     "output_type": "stream",
     "text": [
      "locate patches: 0.05 seconds\n",
      "locate patches: 0.05 seconds\n"
     ]
    },
    {
     "name": "stdout",
     "output_type": "stream",
     "text": [
      " patches in ROI\n",
      "47682 roi samples\n",
      "48190 patches in ROI\n",
      "48190 roi samples\n",
      "48625"
     ]
    },
    {
     "name": "stderr",
     "output_type": "stream",
     "text": [
      "locate patches: 0.05 seconds\n",
      "locate patches: 0.05 seconds\n"
     ]
    },
    {
     "name": "stdout",
     "output_type": "stream",
     "text": [
      " patches in ROI\n",
      "48625 roi samples\n",
      "48699 patches in ROI\n",
      "48699 roi samples\n",
      "49884"
     ]
    },
    {
     "name": "stderr",
     "output_type": "stream",
     "text": [
      "locate patches: 0.04 seconds\n",
      "locate patches: 0.05 seconds\n"
     ]
    },
    {
     "name": "stdout",
     "output_type": "stream",
     "text": [
      " patches in ROI\n",
      "49884 roi samples\n",
      "49415 patches in ROI\n",
      "49415 roi samples\n",
      "49963"
     ]
    },
    {
     "name": "stderr",
     "output_type": "stream",
     "text": [
      "locate patches: 0.05 seconds\n",
      "locate patches: 0.05 seconds\n"
     ]
    },
    {
     "name": "stdout",
     "output_type": "stream",
     "text": [
      " patches in ROI\n",
      "49963 roi samples\n",
      "50081 patches in ROI\n",
      "50081 roi samples\n",
      "50829"
     ]
    },
    {
     "name": "stderr",
     "output_type": "stream",
     "text": [
      "locate patches: 0.05 seconds\n",
      "locate patches: 0.04 seconds\n"
     ]
    },
    {
     "name": "stdout",
     "output_type": "stream",
     "text": [
      " patches in ROI\n",
      "50829 roi samples\n",
      "48866 patches in ROI\n",
      "48866 roi samples\n",
      "50684"
     ]
    },
    {
     "name": "stderr",
     "output_type": "stream",
     "text": [
      "locate patches: 0.04 seconds\n",
      "locate patches: 0.05 seconds\n"
     ]
    },
    {
     "name": "stdout",
     "output_type": "stream",
     "text": [
      " patches in ROI\n",
      "50684 roi samples\n",
      "49577 patches in ROI\n",
      "49577 roi samples\n",
      "50611"
     ]
    },
    {
     "name": "stderr",
     "output_type": "stream",
     "text": [
      "locate patches: 0.04 seconds\n",
      "locate patches: 0.05 seconds\n"
     ]
    },
    {
     "name": "stdout",
     "output_type": "stream",
     "text": [
      " patches in ROI\n",
      "50611 roi samples\n",
      "49260 patches in ROI\n",
      "49260 roi samples\n",
      "50638"
     ]
    },
    {
     "name": "stderr",
     "output_type": "stream",
     "text": [
      "locate patches: 0.05 seconds\n",
      "locate patches: 0.04 seconds\n"
     ]
    },
    {
     "name": "stdout",
     "output_type": "stream",
     "text": [
      " patches in ROI\n",
      "50638 roi samples\n",
      "49580 patches in ROI\n",
      "49580 roi samples\n",
      "50933"
     ]
    },
    {
     "name": "stderr",
     "output_type": "stream",
     "text": [
      "locate patches: 0.04 seconds\n",
      "locate patches: 0.04 seconds\n"
     ]
    },
    {
     "name": "stdout",
     "output_type": "stream",
     "text": [
      " patches in ROI\n",
      "50933 roi samples\n",
      "49297 patches in ROI\n",
      "49297 roi samples\n",
      "51135"
     ]
    },
    {
     "name": "stderr",
     "output_type": "stream",
     "text": [
      "locate patches: 0.04 seconds\n",
      "locate patches: 0.05 seconds\n"
     ]
    },
    {
     "name": "stdout",
     "output_type": "stream",
     "text": [
      " patches in ROI\n",
      "51135 roi samples\n",
      "49695 patches in ROI\n",
      "49695 roi samples\n",
      "50434"
     ]
    },
    {
     "name": "stderr",
     "output_type": "stream",
     "text": [
      "locate patches: 0.05 seconds\n",
      "locate patches: 0.05 seconds\n"
     ]
    },
    {
     "name": "stdout",
     "output_type": "stream",
     "text": [
      " patches in ROI\n",
      "50434 roi samples\n",
      "50722 patches in ROI\n",
      "50722 roi samples\n",
      "51252"
     ]
    },
    {
     "name": "stderr",
     "output_type": "stream",
     "text": [
      "locate patches: 0.04 seconds\n",
      "locate patches: 0.05 seconds\n"
     ]
    },
    {
     "name": "stdout",
     "output_type": "stream",
     "text": [
      " patches in ROI\n",
      "51252 roi samples\n",
      "50551 patches in ROI\n",
      "50551 roi samples\n",
      "51390"
     ]
    },
    {
     "name": "stderr",
     "output_type": "stream",
     "text": [
      "locate patches: 0.04 seconds\n",
      "locate patches: 0.04 seconds\n"
     ]
    },
    {
     "name": "stdout",
     "output_type": "stream",
     "text": [
      " patches in ROI\n",
      "51390 roi samples\n",
      "50068 patches in ROI\n",
      "50068 roi samples\n",
      "51523"
     ]
    },
    {
     "name": "stderr",
     "output_type": "stream",
     "text": [
      "locate patches: 0.04 seconds\n",
      "locate patches: 0.04 seconds\n"
     ]
    },
    {
     "name": "stdout",
     "output_type": "stream",
     "text": [
      " patches in ROI\n",
      "51523 roi samples\n",
      "50598 patches in ROI\n",
      "50598 roi samples\n",
      "51212"
     ]
    },
    {
     "name": "stderr",
     "output_type": "stream",
     "text": [
      "locate patches: 0.05 seconds\n",
      "locate patches: 0.05 seconds\n"
     ]
    },
    {
     "name": "stdout",
     "output_type": "stream",
     "text": [
      " patches in ROI\n",
      "51212 roi samples\n",
      "49563 patches in ROI\n",
      "49563 roi samples\n",
      "51473"
     ]
    },
    {
     "name": "stderr",
     "output_type": "stream",
     "text": [
      "locate patches: 0.04 seconds\n",
      "locate patches: 0.05 seconds\n"
     ]
    },
    {
     "name": "stdout",
     "output_type": "stream",
     "text": [
      " patches in ROI\n",
      "51473 roi samples\n",
      "50083 patches in ROI\n",
      "50083 roi samples\n",
      "50845"
     ]
    },
    {
     "name": "stderr",
     "output_type": "stream",
     "text": [
      "locate patches: 0.04 seconds\n",
      "locate patches: 0.04 seconds\n"
     ]
    },
    {
     "name": "stdout",
     "output_type": "stream",
     "text": [
      " patches in ROI\n",
      "50845 roi samples\n",
      "49429 patches in ROI\n",
      "49429 roi samples\n",
      "51405"
     ]
    },
    {
     "name": "stderr",
     "output_type": "stream",
     "text": [
      "locate patches: 0.04 seconds\n",
      "locate patches: 0.05 seconds\n"
     ]
    },
    {
     "name": "stdout",
     "output_type": "stream",
     "text": [
      " patches in ROI\n",
      "51405 roi samples\n",
      "50845 patches in ROI\n",
      "50845 roi samples\n",
      "51716"
     ]
    },
    {
     "name": "stderr",
     "output_type": "stream",
     "text": [
      "locate patches: 0.05 seconds\n",
      "locate patches: 0.04 seconds\n"
     ]
    },
    {
     "name": "stdout",
     "output_type": "stream",
     "text": [
      " patches in ROI\n",
      "51716 roi samples\n",
      "47905 patches in ROI\n",
      "47905 roi samples\n",
      "51336"
     ]
    },
    {
     "name": "stderr",
     "output_type": "stream",
     "text": [
      "locate patches: 0.04 seconds\n",
      "locate patches: 0.04 seconds\n"
     ]
    },
    {
     "name": "stdout",
     "output_type": "stream",
     "text": [
      " patches in ROI\n",
      "51336 roi samples\n",
      "50162 patches in ROI\n",
      "50162 roi samples\n",
      "49960"
     ]
    },
    {
     "name": "stderr",
     "output_type": "stream",
     "text": [
      "locate patches: 0.05 seconds\n",
      "locate patches: 0.05 seconds\n"
     ]
    },
    {
     "name": "stdout",
     "output_type": "stream",
     "text": [
      " patches in ROI\n",
      "49960 roi samples\n",
      "49289 patches in ROI\n",
      "49289 roi samples\n",
      "50902"
     ]
    },
    {
     "name": "stderr",
     "output_type": "stream",
     "text": [
      "locate patches: 0.04 seconds\n",
      "locate patches: 0.04 seconds\n"
     ]
    },
    {
     "name": "stdout",
     "output_type": "stream",
     "text": [
      " patches in ROI\n",
      "50902 roi samples\n",
      "49522 patches in ROI\n",
      "49522 roi samples\n",
      "50355"
     ]
    },
    {
     "name": "stderr",
     "output_type": "stream",
     "text": [
      "locate patches: 0.04 seconds\n",
      "locate patches: 0.05 seconds\n"
     ]
    },
    {
     "name": "stdout",
     "output_type": "stream",
     "text": [
      " patches in ROI\n",
      "50355 roi samples\n",
      "48723 patches in ROI\n",
      "48723 roi samples\n",
      "50164"
     ]
    },
    {
     "name": "stderr",
     "output_type": "stream",
     "text": [
      "locate patches: 0.04 seconds\n",
      "locate patches: 0.04 seconds\n"
     ]
    },
    {
     "name": "stdout",
     "output_type": "stream",
     "text": [
      " patches in ROI\n",
      "50164 roi samples\n",
      "49197 patches in ROI\n",
      "49197 roi samples\n",
      "50038"
     ]
    },
    {
     "name": "stderr",
     "output_type": "stream",
     "text": [
      "locate patches: 0.04 seconds\n",
      "locate patches: 0.04 seconds\n"
     ]
    },
    {
     "name": "stdout",
     "output_type": "stream",
     "text": [
      " patches in ROI\n",
      "50038 roi samples\n",
      "49868 patches in ROI\n",
      "49868 roi samples\n",
      "50576"
     ]
    },
    {
     "name": "stderr",
     "output_type": "stream",
     "text": [
      "locate patches: 0.04 seconds\n",
      "locate patches: 0.05 seconds\n"
     ]
    },
    {
     "name": "stdout",
     "output_type": "stream",
     "text": [
      " patches in ROI\n",
      "50576 roi samples\n",
      "49515 patches in ROI\n",
      "49515 roi samples\n",
      "49330"
     ]
    },
    {
     "name": "stderr",
     "output_type": "stream",
     "text": [
      "locate patches: 0.04 seconds\n",
      "locate patches: 0.04 seconds\n"
     ]
    },
    {
     "name": "stdout",
     "output_type": "stream",
     "text": [
      " patches in ROI\n",
      "49330 roi samples\n",
      "48894 patches in ROI\n",
      "48894 roi samples\n",
      "50207"
     ]
    },
    {
     "name": "stderr",
     "output_type": "stream",
     "text": [
      "locate patches: 0.05 seconds\n",
      "locate patches: 0.04 seconds\n"
     ]
    },
    {
     "name": "stdout",
     "output_type": "stream",
     "text": [
      " patches in ROI\n",
      "50207 roi samples\n",
      "49708 patches in ROI\n",
      "49708 roi samples\n",
      "50023"
     ]
    },
    {
     "name": "stderr",
     "output_type": "stream",
     "text": [
      "locate patches: 0.04 seconds\n",
      "locate patches: 0.04 seconds\n"
     ]
    },
    {
     "name": "stdout",
     "output_type": "stream",
     "text": [
      " patches in ROI\n",
      "50023 roi samples\n",
      "49128 patches in ROI\n",
      "49128 roi samples\n",
      "50208"
     ]
    },
    {
     "name": "stderr",
     "output_type": "stream",
     "text": [
      "locate patches: 0.04 seconds\n",
      "locate patches: 0.04 seconds\n"
     ]
    },
    {
     "name": "stdout",
     "output_type": "stream",
     "text": [
      " patches in ROI\n",
      "50208 roi samples\n",
      "49069 patches in ROI\n",
      "49069 roi samples\n",
      "49648"
     ]
    },
    {
     "name": "stderr",
     "output_type": "stream",
     "text": [
      "locate patches: 0.04 seconds\n",
      "locate patches: 0.04 seconds\n"
     ]
    },
    {
     "name": "stdout",
     "output_type": "stream",
     "text": [
      " patches in ROI\n",
      "49648 roi samples\n",
      "49698 patches in ROI\n",
      "49698 roi samples\n",
      "49841"
     ]
    },
    {
     "name": "stderr",
     "output_type": "stream",
     "text": [
      "locate patches: 0.04 seconds\n",
      "locate patches: 0.05 seconds\n"
     ]
    },
    {
     "name": "stdout",
     "output_type": "stream",
     "text": [
      " patches in ROI\n",
      "49841 roi samples\n",
      "49769 patches in ROI\n",
      "49769 roi samples\n",
      "50247"
     ]
    },
    {
     "name": "stderr",
     "output_type": "stream",
     "text": [
      "locate patches: 0.04 seconds\n",
      "locate patches: 0.04 seconds\n"
     ]
    },
    {
     "name": "stdout",
     "output_type": "stream",
     "text": [
      " patches in ROI\n",
      "50247 roi samples\n",
      "49731 patches in ROI\n",
      "49731 roi samples\n",
      "50149"
     ]
    },
    {
     "name": "stderr",
     "output_type": "stream",
     "text": [
      "locate patches: 0.04 seconds\n",
      "locate patches: 0.04 seconds\n"
     ]
    },
    {
     "name": "stdout",
     "output_type": "stream",
     "text": [
      " patches in ROI\n",
      "50149 roi samples\n",
      "49795 patches in ROI\n",
      "49795 roi samples\n",
      "50544"
     ]
    },
    {
     "name": "stderr",
     "output_type": "stream",
     "text": [
      "locate patches: 0.04 seconds\n",
      "locate patches: 0.04 seconds\n"
     ]
    },
    {
     "name": "stdout",
     "output_type": "stream",
     "text": [
      " patches in ROI\n",
      "50544 roi samples\n",
      "50482 patches in ROI\n",
      "50482 roi samples\n",
      "50091"
     ]
    },
    {
     "name": "stderr",
     "output_type": "stream",
     "text": [
      "locate patches: 0.04 seconds\n",
      "locate patches: 0.05 seconds\n"
     ]
    },
    {
     "name": "stdout",
     "output_type": "stream",
     "text": [
      " patches in ROI\n",
      "50091 roi samples\n",
      "49547 patches in ROI\n",
      "49547 roi samples\n",
      "50408"
     ]
    },
    {
     "name": "stderr",
     "output_type": "stream",
     "text": [
      "locate patches: 0.05 seconds\n",
      "locate patches: 0.05 seconds\n"
     ]
    },
    {
     "name": "stdout",
     "output_type": "stream",
     "text": [
      " patches in ROI\n",
      "50408 roi samples\n",
      "48666 patches in ROI\n",
      "48666 roi samples\n",
      "49641"
     ]
    },
    {
     "name": "stderr",
     "output_type": "stream",
     "text": [
      "locate patches: 0.05 seconds\n",
      "locate patches: 0.04 seconds\n"
     ]
    },
    {
     "name": "stdout",
     "output_type": "stream",
     "text": [
      " patches in ROI\n",
      "49641 roi samples\n",
      "49117 patches in ROI\n",
      "49117 roi samples\n",
      "48820"
     ]
    },
    {
     "name": "stderr",
     "output_type": "stream",
     "text": [
      "locate patches: 0.04 seconds\n",
      "locate patches: 0.05 seconds\n"
     ]
    },
    {
     "name": "stdout",
     "output_type": "stream",
     "text": [
      " patches in ROI\n",
      "48820 roi samples\n",
      "48886 patches in ROI\n",
      "48886 roi samples\n",
      "48489"
     ]
    },
    {
     "name": "stderr",
     "output_type": "stream",
     "text": [
      "locate patches: 0.04 seconds\n",
      "locate patches: 0.04 seconds\n"
     ]
    },
    {
     "name": "stdout",
     "output_type": "stream",
     "text": [
      " patches in ROI\n",
      "48489 roi samples\n",
      "48207 patches in ROI\n",
      "48207 roi samples\n",
      "48583"
     ]
    },
    {
     "name": "stderr",
     "output_type": "stream",
     "text": [
      "locate patches: 0.04 seconds\n",
      "locate patches: 0.04 seconds\n"
     ]
    },
    {
     "name": "stdout",
     "output_type": "stream",
     "text": [
      " patches in ROI\n",
      "48583 roi samples\n",
      "48325 patches in ROI\n",
      "48325 roi samples\n",
      "48267"
     ]
    },
    {
     "name": "stderr",
     "output_type": "stream",
     "text": [
      "locate patches: 0.04 seconds\n",
      "locate patches: 0.04 seconds\n"
     ]
    },
    {
     "name": "stdout",
     "output_type": "stream",
     "text": [
      " patches in ROI\n",
      "48267 roi samples\n",
      "48554 patches in ROI\n",
      "48554 roi samples\n",
      "48657"
     ]
    },
    {
     "name": "stderr",
     "output_type": "stream",
     "text": [
      "locate patches: 0.04 seconds\n",
      "locate patches: 0.04 seconds\n"
     ]
    },
    {
     "name": "stdout",
     "output_type": "stream",
     "text": [
      " patches in ROI\n",
      "48657 roi samples\n",
      "46772 patches in ROI\n",
      "46772 roi samples\n",
      "46844"
     ]
    },
    {
     "name": "stderr",
     "output_type": "stream",
     "text": [
      "locate patches: 0.04 seconds\n",
      "locate patches: 0.04 seconds\n"
     ]
    },
    {
     "name": "stdout",
     "output_type": "stream",
     "text": [
      " patches in ROI\n",
      "46844 roi samples\n",
      "47919 patches in ROI\n",
      "47919 roi samples\n",
      "46849"
     ]
    },
    {
     "name": "stderr",
     "output_type": "stream",
     "text": [
      "locate patches: 0.04 seconds\n",
      "locate patches: 0.04 seconds\n"
     ]
    },
    {
     "name": "stdout",
     "output_type": "stream",
     "text": [
      " patches in ROI\n",
      "46849 roi samples\n",
      "47302 patches in ROI\n",
      "47302 roi samples\n",
      "45708"
     ]
    },
    {
     "name": "stderr",
     "output_type": "stream",
     "text": [
      "locate patches: 0.04 seconds\n",
      "locate patches: 0.04 seconds\n"
     ]
    },
    {
     "name": "stdout",
     "output_type": "stream",
     "text": [
      " patches in ROI\n",
      "45708 roi samples\n",
      "47542 patches in ROI\n",
      "47542 roi samples\n",
      "44892"
     ]
    },
    {
     "name": "stderr",
     "output_type": "stream",
     "text": [
      "locate patches: 0.04 seconds\n",
      "locate patches: 0.04 seconds\n"
     ]
    },
    {
     "name": "stdout",
     "output_type": "stream",
     "text": [
      " patches in ROI\n",
      "44892 roi samples\n",
      "45535 patches in ROI\n",
      "45535 roi samples\n",
      "46037"
     ]
    },
    {
     "name": "stderr",
     "output_type": "stream",
     "text": [
      "locate patches: 0.05 seconds\n",
      "locate patches: 0.04 seconds\n"
     ]
    },
    {
     "name": "stdout",
     "output_type": "stream",
     "text": [
      " patches in ROI\n",
      "46037 roi samples\n",
      "45805 patches in ROI\n",
      "45805 roi samples\n",
      "45825"
     ]
    },
    {
     "name": "stderr",
     "output_type": "stream",
     "text": [
      "locate patches: 0.04 seconds\n",
      "locate patches: 0.04 seconds\n"
     ]
    },
    {
     "name": "stdout",
     "output_type": "stream",
     "text": [
      " patches in ROI\n",
      "45825 roi samples\n",
      "45377 patches in ROI\n",
      "45377 roi samples\n",
      "45625"
     ]
    },
    {
     "name": "stderr",
     "output_type": "stream",
     "text": [
      "locate patches: 0.04 seconds\n",
      "locate patches: 0.04 seconds\n"
     ]
    },
    {
     "name": "stdout",
     "output_type": "stream",
     "text": [
      " patches in ROI\n",
      "45625 roi samples\n",
      "45479 patches in ROI\n",
      "45479 roi samples\n",
      "45291"
     ]
    },
    {
     "name": "stderr",
     "output_type": "stream",
     "text": [
      "locate patches: 0.04 seconds\n",
      "locate patches: 0.04 seconds\n"
     ]
    },
    {
     "name": "stdout",
     "output_type": "stream",
     "text": [
      " patches in ROI\n",
      "45291 roi samples\n",
      "44696 patches in ROI\n",
      "44696 roi samples\n",
      "45045"
     ]
    },
    {
     "name": "stderr",
     "output_type": "stream",
     "text": [
      "locate patches: 0.04 seconds\n",
      "locate patches: 0.04 seconds\n"
     ]
    },
    {
     "name": "stdout",
     "output_type": "stream",
     "text": [
      " patches in ROI\n",
      "45045 roi samples\n",
      "44305 patches in ROI\n",
      "44305 roi samples\n",
      "44636"
     ]
    },
    {
     "name": "stderr",
     "output_type": "stream",
     "text": [
      "locate patches: 0.04 seconds\n",
      "locate patches: 0.04 seconds\n"
     ]
    },
    {
     "name": "stdout",
     "output_type": "stream",
     "text": [
      " patches in ROI\n",
      "44636 roi samples\n",
      "43925 patches in ROI\n",
      "43925 roi samples\n",
      "44789"
     ]
    },
    {
     "name": "stderr",
     "output_type": "stream",
     "text": [
      "locate patches: 0.04 seconds\n",
      "locate patches: 0.04 seconds\n"
     ]
    },
    {
     "name": "stdout",
     "output_type": "stream",
     "text": [
      " patches in ROI\n",
      "44789 roi samples\n",
      "43884 patches in ROI\n",
      "43884 roi samples\n",
      "44189"
     ]
    },
    {
     "name": "stderr",
     "output_type": "stream",
     "text": [
      "locate patches: 0.04 seconds\n",
      "locate patches: 0.04 seconds\n"
     ]
    },
    {
     "name": "stdout",
     "output_type": "stream",
     "text": [
      " patches in ROI\n",
      "44189 roi samples\n",
      "43942 patches in ROI\n",
      "43942 roi samples\n",
      "43220"
     ]
    },
    {
     "name": "stderr",
     "output_type": "stream",
     "text": [
      "locate patches: 0.05 seconds\n",
      "locate patches: 0.05 seconds\n"
     ]
    },
    {
     "name": "stdout",
     "output_type": "stream",
     "text": [
      " patches in ROI\n",
      "43220 roi samples\n",
      "43325 patches in ROI\n",
      "43325 roi samples\n",
      "42769"
     ]
    },
    {
     "name": "stderr",
     "output_type": "stream",
     "text": [
      "locate patches: 0.04 seconds\n",
      "locate patches: 0.04 seconds\n"
     ]
    },
    {
     "name": "stdout",
     "output_type": "stream",
     "text": [
      " patches in ROI\n",
      "42769 roi samples\n",
      "43147 patches in ROI\n",
      "43147 roi samples\n",
      "42437"
     ]
    },
    {
     "name": "stderr",
     "output_type": "stream",
     "text": [
      "locate patches: 0.04 seconds\n",
      "locate patches: 0.04 seconds\n"
     ]
    },
    {
     "name": "stdout",
     "output_type": "stream",
     "text": [
      " patches in ROI\n",
      "42437 roi samples\n",
      "42600 patches in ROI\n",
      "42600 roi samples\n",
      "42486"
     ]
    },
    {
     "name": "stderr",
     "output_type": "stream",
     "text": [
      "locate patches: 0.05 seconds\n",
      "locate patches: 0.04 seconds\n"
     ]
    },
    {
     "name": "stdout",
     "output_type": "stream",
     "text": [
      " patches in ROI\n",
      "42486 roi samples\n",
      "42740 patches in ROI\n",
      "42740 roi samples\n",
      "42421"
     ]
    },
    {
     "name": "stderr",
     "output_type": "stream",
     "text": [
      "locate patches: 0.04 seconds\n",
      "locate patches: 0.04 seconds\n"
     ]
    },
    {
     "name": "stdout",
     "output_type": "stream",
     "text": [
      " patches in ROI\n",
      "42421 roi samples\n",
      "42219 patches in ROI\n",
      "42219 roi samples\n",
      "41996"
     ]
    },
    {
     "name": "stderr",
     "output_type": "stream",
     "text": [
      "locate patches: 0.04 seconds\n",
      "locate patches: 0.04 seconds\n"
     ]
    },
    {
     "name": "stdout",
     "output_type": "stream",
     "text": [
      " patches in ROI\n",
      "41996 roi samples\n",
      "42157 patches in ROI\n",
      "42157 roi samples\n",
      "41647"
     ]
    },
    {
     "name": "stderr",
     "output_type": "stream",
     "text": [
      "locate patches: 0.04 seconds\n",
      "locate patches: 0.04 seconds\n"
     ]
    },
    {
     "name": "stdout",
     "output_type": "stream",
     "text": [
      " patches in ROI\n",
      "41647 roi samples\n",
      "42271 patches in ROI\n",
      "42271 roi samples\n",
      "41228"
     ]
    },
    {
     "name": "stderr",
     "output_type": "stream",
     "text": [
      "locate patches: 0.04 seconds\n",
      "locate patches: 0.04 seconds\n"
     ]
    },
    {
     "name": "stdout",
     "output_type": "stream",
     "text": [
      " patches in ROI\n",
      "41228 roi samples\n",
      "41825 patches in ROI\n",
      "41825 roi samples\n",
      "41364"
     ]
    },
    {
     "name": "stderr",
     "output_type": "stream",
     "text": [
      "locate patches: 0.04 seconds\n",
      "locate patches: 0.04 seconds\n"
     ]
    },
    {
     "name": "stdout",
     "output_type": "stream",
     "text": [
      " patches in ROI\n",
      "41364 roi samples\n",
      "41015 patches in ROI\n",
      "41015 roi samples\n",
      "40673"
     ]
    },
    {
     "name": "stderr",
     "output_type": "stream",
     "text": [
      "locate patches: 0.04 seconds\n",
      "locate patches: 0.04 seconds\n"
     ]
    },
    {
     "name": "stdout",
     "output_type": "stream",
     "text": [
      " patches in ROI\n",
      "40673 roi samples\n",
      "40887 patches in ROI\n",
      "40887 roi samples\n",
      "39407"
     ]
    },
    {
     "name": "stderr",
     "output_type": "stream",
     "text": [
      "locate patches: 0.04 seconds\n",
      "locate patches: 0.04 seconds\n"
     ]
    },
    {
     "name": "stdout",
     "output_type": "stream",
     "text": [
      " patches in ROI\n",
      "39407 roi samples\n",
      "40175 patches in ROI\n",
      "40175 roi samples\n",
      "39756"
     ]
    },
    {
     "name": "stderr",
     "output_type": "stream",
     "text": [
      "locate patches: 0.04 seconds\n",
      "locate patches: 0.04 seconds\n"
     ]
    },
    {
     "name": "stdout",
     "output_type": "stream",
     "text": [
      " patches in ROI\n",
      "39756 roi samples\n",
      "40144 patches in ROI\n",
      "40144 roi samples\n",
      "39515"
     ]
    },
    {
     "name": "stderr",
     "output_type": "stream",
     "text": [
      "locate patches: 0.04 seconds\n",
      "locate patches: 0.04 seconds\n"
     ]
    },
    {
     "name": "stdout",
     "output_type": "stream",
     "text": [
      " patches in ROI\n",
      "39515 roi samples\n",
      "39634 patches in ROI\n",
      "39634 roi samples\n",
      "38953"
     ]
    },
    {
     "name": "stderr",
     "output_type": "stream",
     "text": [
      "locate patches: 0.04 seconds\n",
      "locate patches: 0.04 seconds\n"
     ]
    },
    {
     "name": "stdout",
     "output_type": "stream",
     "text": [
      " patches in ROI\n",
      "38953 roi samples\n",
      "38947 patches in ROI\n",
      "38947 roi samples\n",
      "38519"
     ]
    },
    {
     "name": "stderr",
     "output_type": "stream",
     "text": [
      "locate patches: 0.04 seconds\n",
      "locate patches: 0.04 seconds\n"
     ]
    },
    {
     "name": "stdout",
     "output_type": "stream",
     "text": [
      " patches in ROI\n",
      "38519 roi samples\n",
      "37844 patches in ROI\n",
      "37844 roi samples\n",
      "38031"
     ]
    },
    {
     "name": "stderr",
     "output_type": "stream",
     "text": [
      "locate patches: 0.04 seconds\n",
      "locate patches: 0.04 seconds\n"
     ]
    },
    {
     "name": "stdout",
     "output_type": "stream",
     "text": [
      " patches in ROI\n",
      "38031 roi samples\n",
      "36701 patches in ROI\n",
      "36701 roi samples\n",
      "37692"
     ]
    },
    {
     "name": "stderr",
     "output_type": "stream",
     "text": [
      "locate patches: 0.04 seconds\n",
      "locate patches: 0.04 seconds\n"
     ]
    },
    {
     "name": "stdout",
     "output_type": "stream",
     "text": [
      " patches in ROI\n",
      "37692 roi samples\n",
      "38083 patches in ROI\n",
      "38083 roi samples\n",
      "37274"
     ]
    },
    {
     "name": "stderr",
     "output_type": "stream",
     "text": [
      "locate patches: 0.04 seconds\n",
      "locate patches: 0.04 seconds\n"
     ]
    },
    {
     "name": "stdout",
     "output_type": "stream",
     "text": [
      " patches in ROI\n",
      "37274 roi samples\n",
      "37167 patches in ROI\n",
      "37167 roi samples\n",
      "36797"
     ]
    },
    {
     "name": "stderr",
     "output_type": "stream",
     "text": [
      "locate patches: 0.04 seconds\n",
      "locate patches: 0.05 seconds\n"
     ]
    },
    {
     "name": "stdout",
     "output_type": "stream",
     "text": [
      " patches in ROI\n",
      "36797 roi samples\n",
      "36836 patches in ROI\n",
      "36836 roi samples\n",
      "36219"
     ]
    },
    {
     "name": "stderr",
     "output_type": "stream",
     "text": [
      "locate patches: 0.04 seconds\n",
      "locate patches: 0.04 seconds\n"
     ]
    },
    {
     "name": "stdout",
     "output_type": "stream",
     "text": [
      " patches in ROI\n",
      "36219 roi samples\n",
      "36360 patches in ROI\n",
      "36360 roi samples\n",
      "35687"
     ]
    },
    {
     "name": "stderr",
     "output_type": "stream",
     "text": [
      "locate patches: 0.04 seconds\n",
      "locate patches: 0.04 seconds\n"
     ]
    },
    {
     "name": "stdout",
     "output_type": "stream",
     "text": [
      " patches in ROI\n",
      "35687 roi samples\n",
      "35858 patches in ROI\n",
      "35858 roi samples\n",
      "35380"
     ]
    },
    {
     "name": "stderr",
     "output_type": "stream",
     "text": [
      "locate patches: 0.04 seconds\n",
      "locate patches: 0.04 seconds\n"
     ]
    },
    {
     "name": "stdout",
     "output_type": "stream",
     "text": [
      " patches in ROI\n",
      "35380 roi samples\n",
      "35388 patches in ROI\n",
      "35388 roi samples\n",
      "34768"
     ]
    },
    {
     "name": "stderr",
     "output_type": "stream",
     "text": [
      "locate patches: 0.04 seconds\n",
      "locate patches: 0.04 seconds\n"
     ]
    },
    {
     "name": "stdout",
     "output_type": "stream",
     "text": [
      " patches in ROI\n",
      "34768 roi samples\n",
      "34855 patches in ROI\n",
      "34855 roi samples\n",
      "33877"
     ]
    },
    {
     "name": "stderr",
     "output_type": "stream",
     "text": [
      "locate patches: 0.04 seconds\n",
      "locate patches: 0.04 seconds\n"
     ]
    },
    {
     "name": "stdout",
     "output_type": "stream",
     "text": [
      " patches in ROI\n",
      "33877 roi samples\n",
      "33825 patches in ROI\n",
      "33825 roi samples\n",
      "33454"
     ]
    },
    {
     "name": "stderr",
     "output_type": "stream",
     "text": [
      "locate patches: 0.04 seconds\n",
      "locate patches: 0.04 seconds\n"
     ]
    },
    {
     "name": "stdout",
     "output_type": "stream",
     "text": [
      " patches in ROI\n",
      "33454 roi samples\n",
      "32103 patches in ROI\n",
      "32103 roi samples\n",
      "32784"
     ]
    },
    {
     "name": "stderr",
     "output_type": "stream",
     "text": [
      "locate patches: 0.04 seconds\n",
      "locate patches: 0.04 seconds\n"
     ]
    },
    {
     "name": "stdout",
     "output_type": "stream",
     "text": [
      " patches in ROI\n",
      "32784 roi samples\n",
      "32848 patches in ROI\n",
      "32848 roi samples\n",
      "32475"
     ]
    },
    {
     "name": "stderr",
     "output_type": "stream",
     "text": [
      "locate patches: 0.04 seconds\n",
      "locate patches: 0.04 seconds\n"
     ]
    },
    {
     "name": "stdout",
     "output_type": "stream",
     "text": [
      " patches in ROI\n",
      "32475 roi samples\n",
      "32646 patches in ROI\n",
      "32646 roi samples\n",
      "31447"
     ]
    },
    {
     "name": "stderr",
     "output_type": "stream",
     "text": [
      "locate patches: 0.04 seconds\n",
      "locate patches: 0.04 seconds\n"
     ]
    },
    {
     "name": "stdout",
     "output_type": "stream",
     "text": [
      " patches in ROI\n",
      "31447 roi samples\n",
      "32150 patches in ROI\n",
      "32150 roi samples\n",
      "31001"
     ]
    },
    {
     "name": "stderr",
     "output_type": "stream",
     "text": [
      "locate patches: 0.04 seconds\n",
      "locate patches: 0.04 seconds\n"
     ]
    },
    {
     "name": "stdout",
     "output_type": "stream",
     "text": [
      " patches in ROI\n",
      "31001 roi samples\n",
      "31492 patches in ROI\n",
      "31492 roi samples\n",
      "30664"
     ]
    },
    {
     "name": "stderr",
     "output_type": "stream",
     "text": [
      "locate patches: 0.04 seconds\n",
      "locate patches: 0.04 seconds\n"
     ]
    },
    {
     "name": "stdout",
     "output_type": "stream",
     "text": [
      " patches in ROI\n",
      "30664 roi samples\n",
      "30485 patches in ROI\n",
      "30485 roi samples\n",
      "30398"
     ]
    },
    {
     "name": "stderr",
     "output_type": "stream",
     "text": [
      "locate patches: 0.04 seconds\n",
      "locate patches: 0.04 seconds\n"
     ]
    },
    {
     "name": "stdout",
     "output_type": "stream",
     "text": [
      " patches in ROI\n",
      "30398 roi samples\n",
      "30373 patches in ROI\n",
      "30373 roi samples\n",
      "29583"
     ]
    },
    {
     "name": "stderr",
     "output_type": "stream",
     "text": [
      "locate patches: 0.04 seconds\n",
      "locate patches: 0.04 seconds\n"
     ]
    },
    {
     "name": "stdout",
     "output_type": "stream",
     "text": [
      " patches in ROI\n",
      "29583 roi samples\n",
      "30300 patches in ROI\n",
      "30300 roi samples\n",
      "29976"
     ]
    },
    {
     "name": "stderr",
     "output_type": "stream",
     "text": [
      "locate patches: 0.04 seconds\n",
      "locate patches: 0.04 seconds\n"
     ]
    },
    {
     "name": "stdout",
     "output_type": "stream",
     "text": [
      " patches in ROI\n",
      "29976 roi samples\n",
      "29425 patches in ROI\n",
      "29425 roi samples\n",
      "28977"
     ]
    },
    {
     "name": "stderr",
     "output_type": "stream",
     "text": [
      "locate patches: 0.04 seconds\n",
      "locate patches: 0.04 seconds\n"
     ]
    },
    {
     "name": "stdout",
     "output_type": "stream",
     "text": [
      " patches in ROI\n",
      "28977 roi samples\n",
      "29057 patches in ROI\n",
      "29057 roi samples\n",
      "29121"
     ]
    },
    {
     "name": "stderr",
     "output_type": "stream",
     "text": [
      "locate patches: 0.04 seconds\n",
      "locate patches: 0.04 seconds\n"
     ]
    },
    {
     "name": "stdout",
     "output_type": "stream",
     "text": [
      " patches in ROI\n",
      "29121 roi samples\n",
      "28898 patches in ROI\n",
      "28898 roi samples\n",
      "28552"
     ]
    },
    {
     "name": "stderr",
     "output_type": "stream",
     "text": [
      "locate patches: 0.04 seconds\n",
      "locate patches: 0.04 seconds\n"
     ]
    },
    {
     "name": "stdout",
     "output_type": "stream",
     "text": [
      " patches in ROI\n",
      "28552 roi samples\n",
      "28364 patches in ROI\n",
      "28364 roi samples\n",
      "28598"
     ]
    },
    {
     "name": "stderr",
     "output_type": "stream",
     "text": [
      "locate patches: 0.04 seconds\n",
      "locate patches: 0.04 seconds\n"
     ]
    },
    {
     "name": "stdout",
     "output_type": "stream",
     "text": [
      " patches in ROI\n",
      "28598 roi samples\n",
      "27940 patches in ROI\n",
      "27940 roi samples\n",
      "28388"
     ]
    },
    {
     "name": "stderr",
     "output_type": "stream",
     "text": [
      "locate patches: 0.04 seconds\n",
      "locate patches: 0.04 seconds\n"
     ]
    },
    {
     "name": "stdout",
     "output_type": "stream",
     "text": [
      " patches in ROI\n",
      "28388 roi samples\n",
      "27918 patches in ROI\n",
      "27918 roi samples\n",
      "28017"
     ]
    },
    {
     "name": "stderr",
     "output_type": "stream",
     "text": [
      "locate patches: 0.04 seconds\n",
      "locate patches: 0.04 seconds\n"
     ]
    },
    {
     "name": "stdout",
     "output_type": "stream",
     "text": [
      " patches in ROI\n",
      "28017 roi samples\n",
      "MD585\n",
      "24589 patches in ROI\n",
      "24589 roi samples\n",
      "24670"
     ]
    },
    {
     "name": "stderr",
     "output_type": "stream",
     "text": [
      "locate patches: 0.03 seconds\n",
      "locate patches: 0.02 seconds\n"
     ]
    },
    {
     "name": "stdout",
     "output_type": "stream",
     "text": [
      " patches in ROI\n",
      "24670 roi samples\n",
      "24865 patches in ROI\n",
      "24865 roi samples\n",
      "25023"
     ]
    },
    {
     "name": "stderr",
     "output_type": "stream",
     "text": [
      "locate patches: 0.02 seconds\n",
      "locate patches: 0.03 seconds\n"
     ]
    },
    {
     "name": "stdout",
     "output_type": "stream",
     "text": [
      " patches in ROI\n",
      "25023 roi samples\n",
      "25280 patches in ROI\n",
      "25280 roi samples\n",
      "25212"
     ]
    },
    {
     "name": "stderr",
     "output_type": "stream",
     "text": [
      "locate patches: 0.02 seconds\n",
      "locate patches: 0.02 seconds\n"
     ]
    },
    {
     "name": "stdout",
     "output_type": "stream",
     "text": [
      " patches in ROI\n",
      "25212 roi samples\n",
      "25491 patches in ROI\n",
      "25491 roi samples\n",
      "25636"
     ]
    },
    {
     "name": "stderr",
     "output_type": "stream",
     "text": [
      "locate patches: 0.02 seconds\n",
      "locate patches: 0.02 seconds\n"
     ]
    },
    {
     "name": "stdout",
     "output_type": "stream",
     "text": [
      " patches in ROI\n",
      "25636 roi samples\n",
      "25672 patches in ROI\n",
      "25672 roi samples\n",
      "25713"
     ]
    },
    {
     "name": "stderr",
     "output_type": "stream",
     "text": [
      "locate patches: 0.02 seconds\n",
      "locate patches: 0.02 seconds\n"
     ]
    },
    {
     "name": "stdout",
     "output_type": "stream",
     "text": [
      " patches in ROI\n",
      "25713 roi samples\n",
      "25790 patches in ROI\n",
      "25790 roi samples\n",
      "25882"
     ]
    },
    {
     "name": "stderr",
     "output_type": "stream",
     "text": [
      "locate patches: 0.02 seconds\n",
      "locate patches: 0.02 seconds\n"
     ]
    },
    {
     "name": "stdout",
     "output_type": "stream",
     "text": [
      " patches in ROI\n",
      "25882 roi samples\n",
      "25751 patches in ROI\n",
      "25751 roi samples\n",
      "25958"
     ]
    },
    {
     "name": "stderr",
     "output_type": "stream",
     "text": [
      "locate patches: 0.02 seconds\n",
      "locate patches: 0.02 seconds\n"
     ]
    },
    {
     "name": "stdout",
     "output_type": "stream",
     "text": [
      " patches in ROI\n",
      "25958 roi samples\n",
      "25981 patches in ROI\n",
      "25981 roi samples\n",
      "26699"
     ]
    },
    {
     "name": "stderr",
     "output_type": "stream",
     "text": [
      "locate patches: 0.02 seconds\n",
      "locate patches: 0.02 seconds\n"
     ]
    },
    {
     "name": "stdout",
     "output_type": "stream",
     "text": [
      " patches in ROI\n",
      "26699 roi samples\n",
      "26560 patches in ROI\n",
      "26560 roi samples\n",
      "27324"
     ]
    },
    {
     "name": "stderr",
     "output_type": "stream",
     "text": [
      "locate patches: 0.02 seconds\n",
      "locate patches: 0.02 seconds\n"
     ]
    },
    {
     "name": "stdout",
     "output_type": "stream",
     "text": [
      " patches in ROI\n",
      "27324 roi samples\n",
      "27499 patches in ROI\n",
      "27499 roi samples\n",
      "27756"
     ]
    },
    {
     "name": "stderr",
     "output_type": "stream",
     "text": [
      "locate patches: 0.02 seconds\n",
      "locate patches: 0.02 seconds\n"
     ]
    },
    {
     "name": "stdout",
     "output_type": "stream",
     "text": [
      " patches in ROI\n",
      "27756 roi samples\n",
      "27808 patches in ROI\n",
      "27808 roi samples\n",
      "27981"
     ]
    },
    {
     "name": "stderr",
     "output_type": "stream",
     "text": [
      "locate patches: 0.02 seconds\n",
      "locate patches: 0.02 seconds\n"
     ]
    },
    {
     "name": "stdout",
     "output_type": "stream",
     "text": [
      " patches in ROI\n",
      "27981 roi samples\n",
      "28096 patches in ROI\n",
      "28096 roi samples\n",
      "28234"
     ]
    },
    {
     "name": "stderr",
     "output_type": "stream",
     "text": [
      "locate patches: 0.02 seconds\n",
      "locate patches: 0.02 seconds\n"
     ]
    },
    {
     "name": "stdout",
     "output_type": "stream",
     "text": [
      " patches in ROI\n",
      "28234 roi samples\n",
      "28594 patches in ROI\n",
      "28594 roi samples\n",
      "28807"
     ]
    },
    {
     "name": "stderr",
     "output_type": "stream",
     "text": [
      "locate patches: 0.02 seconds\n",
      "locate patches: 0.02 seconds\n"
     ]
    },
    {
     "name": "stdout",
     "output_type": "stream",
     "text": [
      " patches in ROI\n",
      "28807 roi samples\n",
      "29236 patches in ROI\n",
      "29236 roi samples\n",
      "29578"
     ]
    },
    {
     "name": "stderr",
     "output_type": "stream",
     "text": [
      "locate patches: 0.02 seconds\n",
      "locate patches: 0.02 seconds\n"
     ]
    },
    {
     "name": "stdout",
     "output_type": "stream",
     "text": [
      " patches in ROI\n",
      "29578 roi samples\n",
      "29623 patches in ROI\n",
      "29623 roi samples\n",
      "29453"
     ]
    },
    {
     "name": "stderr",
     "output_type": "stream",
     "text": [
      "locate patches: 0.02 seconds\n",
      "locate patches: 0.02 seconds\n"
     ]
    },
    {
     "name": "stdout",
     "output_type": "stream",
     "text": [
      " patches in ROI\n",
      "29453 roi samples\n",
      "29687 patches in ROI\n",
      "29687 roi samples\n",
      "29742"
     ]
    },
    {
     "name": "stderr",
     "output_type": "stream",
     "text": [
      "locate patches: 0.02 seconds\n",
      "locate patches: 0.02 seconds\n"
     ]
    },
    {
     "name": "stdout",
     "output_type": "stream",
     "text": [
      " patches in ROI\n",
      "29742 roi samples\n",
      "30650 patches in ROI\n",
      "30650 roi samples\n",
      "30656"
     ]
    },
    {
     "name": "stderr",
     "output_type": "stream",
     "text": [
      "locate patches: 0.03 seconds\n",
      "locate patches: 0.02 seconds\n"
     ]
    },
    {
     "name": "stdout",
     "output_type": "stream",
     "text": [
      " patches in ROI\n",
      "30656 roi samples\n",
      "30673 patches in ROI\n",
      "30673 roi samples\n",
      "31191"
     ]
    },
    {
     "name": "stderr",
     "output_type": "stream",
     "text": [
      "locate patches: 0.02 seconds\n",
      "locate patches: 0.02 seconds\n"
     ]
    },
    {
     "name": "stdout",
     "output_type": "stream",
     "text": [
      " patches in ROI\n",
      "31191 roi samples\n",
      "31105 patches in ROI\n",
      "31105 roi samples\n",
      "31317"
     ]
    },
    {
     "name": "stderr",
     "output_type": "stream",
     "text": [
      "locate patches: 0.02 seconds\n",
      "locate patches: 0.02 seconds\n"
     ]
    },
    {
     "name": "stdout",
     "output_type": "stream",
     "text": [
      " patches in ROI\n",
      "31317 roi samples\n",
      "31538 patches in ROI\n",
      "31538 roi samples\n",
      "31548"
     ]
    },
    {
     "name": "stderr",
     "output_type": "stream",
     "text": [
      "locate patches: 0.02 seconds\n",
      "locate patches: 0.02 seconds\n"
     ]
    },
    {
     "name": "stdout",
     "output_type": "stream",
     "text": [
      " patches in ROI\n",
      "31548 roi samples\n",
      "31911 patches in ROI\n",
      "31911 roi samples\n",
      "32080"
     ]
    },
    {
     "name": "stderr",
     "output_type": "stream",
     "text": [
      "locate patches: 0.02 seconds\n",
      "locate patches: 0.02 seconds\n"
     ]
    },
    {
     "name": "stdout",
     "output_type": "stream",
     "text": [
      " patches in ROI\n",
      "32080 roi samples\n",
      "32412 patches in ROI\n",
      "32412 roi samples\n",
      "32539"
     ]
    },
    {
     "name": "stderr",
     "output_type": "stream",
     "text": [
      "locate patches: 0.02 seconds\n",
      "locate patches: 0.02 seconds\n"
     ]
    },
    {
     "name": "stdout",
     "output_type": "stream",
     "text": [
      " patches in ROI\n",
      "32539 roi samples\n",
      "33229 patches in ROI\n",
      "33229 roi samples\n",
      "33261"
     ]
    },
    {
     "name": "stderr",
     "output_type": "stream",
     "text": [
      "locate patches: 0.02 seconds\n",
      "locate patches: 0.02 seconds\n"
     ]
    },
    {
     "name": "stdout",
     "output_type": "stream",
     "text": [
      " patches in ROI\n",
      "33261 roi samples\n",
      "33396 patches in ROI\n",
      "33396 roi samples\n",
      "33470"
     ]
    },
    {
     "name": "stderr",
     "output_type": "stream",
     "text": [
      "locate patches: 0.02 seconds\n",
      "locate patches: 0.02 seconds\n"
     ]
    },
    {
     "name": "stdout",
     "output_type": "stream",
     "text": [
      " patches in ROI\n",
      "33470 roi samples\n",
      "33858 patches in ROI\n",
      "33858 roi samples\n",
      "34078"
     ]
    },
    {
     "name": "stderr",
     "output_type": "stream",
     "text": [
      "locate patches: 0.02 seconds\n",
      "locate patches: 0.02 seconds\n"
     ]
    },
    {
     "name": "stdout",
     "output_type": "stream",
     "text": [
      " patches in ROI\n",
      "34078 roi samples\n",
      "44142 patches in ROI\n",
      "44142 roi samples\n",
      "34565"
     ]
    },
    {
     "name": "stderr",
     "output_type": "stream",
     "text": [
      "locate patches: 0.02 seconds\n",
      "locate patches: 0.02 seconds\n"
     ]
    },
    {
     "name": "stdout",
     "output_type": "stream",
     "text": [
      " patches in ROI\n",
      "34565 roi samples\n",
      "34665 patches in ROI\n",
      "34665 roi samples\n",
      "35067"
     ]
    },
    {
     "name": "stderr",
     "output_type": "stream",
     "text": [
      "locate patches: 0.02 seconds\n",
      "locate patches: 0.02 seconds\n"
     ]
    },
    {
     "name": "stdout",
     "output_type": "stream",
     "text": [
      " patches in ROI\n",
      "35067 roi samples\n",
      "35211 patches in ROI\n",
      "35211 roi samples\n",
      "35571"
     ]
    },
    {
     "name": "stderr",
     "output_type": "stream",
     "text": [
      "locate patches: 0.02 seconds\n",
      "locate patches: 0.02 seconds\n"
     ]
    },
    {
     "name": "stdout",
     "output_type": "stream",
     "text": [
      " patches in ROI\n",
      "35571 roi samples\n",
      "35138 patches in ROI\n",
      "35138 roi samples\n",
      "35696"
     ]
    },
    {
     "name": "stderr",
     "output_type": "stream",
     "text": [
      "locate patches: 0.02 seconds\n",
      "locate patches: 0.02 seconds\n"
     ]
    },
    {
     "name": "stdout",
     "output_type": "stream",
     "text": [
      " patches in ROI\n",
      "35696 roi samples\n",
      "35842 patches in ROI\n",
      "35842 roi samples\n",
      "36262"
     ]
    },
    {
     "name": "stderr",
     "output_type": "stream",
     "text": [
      "locate patches: 0.02 seconds\n",
      "locate patches: 0.02 seconds\n"
     ]
    },
    {
     "name": "stdout",
     "output_type": "stream",
     "text": [
      " patches in ROI\n",
      "36262 roi samples\n",
      "36456 patches in ROI\n",
      "36456 roi samples\n",
      "36690"
     ]
    },
    {
     "name": "stderr",
     "output_type": "stream",
     "text": [
      "locate patches: 0.02 seconds\n",
      "locate patches: 0.02 seconds\n"
     ]
    },
    {
     "name": "stdout",
     "output_type": "stream",
     "text": [
      " patches in ROI\n",
      "36690 roi samples\n",
      "36965 patches in ROI\n",
      "36965 roi samples\n",
      "37098"
     ]
    },
    {
     "name": "stderr",
     "output_type": "stream",
     "text": [
      "locate patches: 0.02 seconds\n",
      "locate patches: 0.02 seconds\n"
     ]
    },
    {
     "name": "stdout",
     "output_type": "stream",
     "text": [
      " patches in ROI\n",
      "37098 roi samples\n",
      "37336 patches in ROI\n",
      "37336 roi samples\n",
      "37383"
     ]
    },
    {
     "name": "stderr",
     "output_type": "stream",
     "text": [
      "locate patches: 0.02 seconds\n",
      "locate patches: 0.02 seconds\n"
     ]
    },
    {
     "name": "stdout",
     "output_type": "stream",
     "text": [
      " patches in ROI\n",
      "37383 roi samples\n",
      "37587 patches in ROI\n",
      "37587 roi samples\n",
      "37641"
     ]
    },
    {
     "name": "stderr",
     "output_type": "stream",
     "text": [
      "locate patches: 0.02 seconds\n",
      "locate patches: 0.02 seconds\n"
     ]
    },
    {
     "name": "stdout",
     "output_type": "stream",
     "text": [
      " patches in ROI\n",
      "37641 roi samples\n",
      "35637 patches in ROI\n",
      "35637 roi samples\n",
      "37705"
     ]
    },
    {
     "name": "stderr",
     "output_type": "stream",
     "text": [
      "locate patches: 0.02 seconds\n",
      "locate patches: 0.02 seconds\n"
     ]
    },
    {
     "name": "stdout",
     "output_type": "stream",
     "text": [
      " patches in ROI\n",
      "37705 roi samples\n",
      "38104 patches in ROI\n",
      "38104 roi samples\n",
      "38300"
     ]
    },
    {
     "name": "stderr",
     "output_type": "stream",
     "text": [
      "locate patches: 0.02 seconds\n",
      "locate patches: 0.02 seconds\n"
     ]
    },
    {
     "name": "stdout",
     "output_type": "stream",
     "text": [
      " patches in ROI\n",
      "38300 roi samples\n",
      "38247 patches in ROI\n",
      "38247 roi samples\n",
      "38657"
     ]
    },
    {
     "name": "stderr",
     "output_type": "stream",
     "text": [
      "locate patches: 0.02 seconds\n",
      "locate patches: 0.02 seconds\n"
     ]
    },
    {
     "name": "stdout",
     "output_type": "stream",
     "text": [
      " patches in ROI\n",
      "38657 roi samples\n",
      "38591 patches in ROI\n",
      "38591 roi samples\n",
      "38590"
     ]
    },
    {
     "name": "stderr",
     "output_type": "stream",
     "text": [
      "locate patches: 0.02 seconds\n",
      "locate patches: 0.02 seconds\n"
     ]
    },
    {
     "name": "stdout",
     "output_type": "stream",
     "text": [
      " patches in ROI\n",
      "38590 roi samples\n",
      "35115 patches in ROI\n",
      "35115 roi samples\n",
      "39218"
     ]
    },
    {
     "name": "stderr",
     "output_type": "stream",
     "text": [
      "locate patches: 0.02 seconds\n",
      "locate patches: 0.02 seconds\n"
     ]
    },
    {
     "name": "stdout",
     "output_type": "stream",
     "text": [
      " patches in ROI\n",
      "39218 roi samples\n",
      "39205 patches in ROI\n",
      "39205 roi samples\n",
      "39577"
     ]
    },
    {
     "name": "stderr",
     "output_type": "stream",
     "text": [
      "locate patches: 0.02 seconds\n",
      "locate patches: 0.02 seconds\n"
     ]
    },
    {
     "name": "stdout",
     "output_type": "stream",
     "text": [
      " patches in ROI\n",
      "39577 roi samples\n",
      "39101 patches in ROI\n",
      "39101 roi samples\n",
      "39413"
     ]
    },
    {
     "name": "stderr",
     "output_type": "stream",
     "text": [
      "locate patches: 0.02 seconds\n",
      "locate patches: 0.02 seconds\n"
     ]
    },
    {
     "name": "stdout",
     "output_type": "stream",
     "text": [
      " patches in ROI\n",
      "39413 roi samples\n",
      "39657 patches in ROI\n",
      "39657 roi samples\n",
      "39896"
     ]
    },
    {
     "name": "stderr",
     "output_type": "stream",
     "text": [
      "locate patches: 0.02 seconds\n",
      "locate patches: 0.02 seconds\n"
     ]
    },
    {
     "name": "stdout",
     "output_type": "stream",
     "text": [
      " patches in ROI\n",
      "39896 roi samples\n",
      "39727 patches in ROI\n",
      "39727 roi samples\n",
      "40134"
     ]
    },
    {
     "name": "stderr",
     "output_type": "stream",
     "text": [
      "locate patches: 0.02 seconds\n",
      "locate patches: 0.02 seconds\n"
     ]
    },
    {
     "name": "stdout",
     "output_type": "stream",
     "text": [
      " patches in ROI\n",
      "40134 roi samples\n",
      "39919 patches in ROI\n",
      "39919 roi samples\n",
      "39783"
     ]
    },
    {
     "name": "stderr",
     "output_type": "stream",
     "text": [
      "locate patches: 0.02 seconds\n",
      "locate patches: 0.02 seconds\n"
     ]
    },
    {
     "name": "stdout",
     "output_type": "stream",
     "text": [
      " patches in ROI\n",
      "39783 roi samples\n",
      "39859 patches in ROI\n",
      "39859 roi samples\n",
      "40099"
     ]
    },
    {
     "name": "stderr",
     "output_type": "stream",
     "text": [
      "locate patches: 0.02 seconds\n",
      "locate patches: 0.02 seconds\n"
     ]
    },
    {
     "name": "stdout",
     "output_type": "stream",
     "text": [
      " patches in ROI\n",
      "40099 roi samples\n",
      "40161 patches in ROI\n",
      "40161 roi samples\n",
      "39956"
     ]
    },
    {
     "name": "stderr",
     "output_type": "stream",
     "text": [
      "locate patches: 0.02 seconds\n",
      "locate patches: 0.02 seconds\n"
     ]
    },
    {
     "name": "stdout",
     "output_type": "stream",
     "text": [
      " patches in ROI\n",
      "39956 roi samples\n",
      "38850 patches in ROI\n",
      "38850 roi samples\n",
      "39409"
     ]
    },
    {
     "name": "stderr",
     "output_type": "stream",
     "text": [
      "locate patches: 0.02 seconds\n",
      "locate patches: 0.02 seconds\n"
     ]
    },
    {
     "name": "stdout",
     "output_type": "stream",
     "text": [
      " patches in ROI\n",
      "39409 roi samples\n",
      "39985 patches in ROI\n",
      "39985 roi samples\n",
      "40098"
     ]
    },
    {
     "name": "stderr",
     "output_type": "stream",
     "text": [
      "locate patches: 0.02 seconds\n",
      "locate patches: 0.02 seconds\n"
     ]
    },
    {
     "name": "stdout",
     "output_type": "stream",
     "text": [
      " patches in ROI\n",
      "40098 roi samples\n",
      "40016 patches in ROI\n",
      "40016 roi samples\n",
      "40044"
     ]
    },
    {
     "name": "stderr",
     "output_type": "stream",
     "text": [
      "locate patches: 0.02 seconds\n",
      "locate patches: 0.02 seconds\n"
     ]
    },
    {
     "name": "stdout",
     "output_type": "stream",
     "text": [
      " patches in ROI\n",
      "40044 roi samples\n",
      "39876 patches in ROI\n",
      "39876 roi samples\n",
      "39950"
     ]
    },
    {
     "name": "stderr",
     "output_type": "stream",
     "text": [
      "locate patches: 0.02 seconds\n",
      "locate patches: 0.02 seconds\n"
     ]
    },
    {
     "name": "stdout",
     "output_type": "stream",
     "text": [
      " patches in ROI\n",
      "39950 roi samples\n",
      "40077 patches in ROI\n",
      "40077 roi samples\n",
      "39568"
     ]
    },
    {
     "name": "stderr",
     "output_type": "stream",
     "text": [
      "locate patches: 0.02 seconds\n",
      "locate patches: 0.02 seconds\n"
     ]
    },
    {
     "name": "stdout",
     "output_type": "stream",
     "text": [
      " patches in ROI\n",
      "39568 roi samples\n",
      "39851 patches in ROI\n",
      "39851 roi samples\n",
      "40157"
     ]
    },
    {
     "name": "stderr",
     "output_type": "stream",
     "text": [
      "locate patches: 0.02 seconds\n",
      "locate patches: 0.02 seconds\n"
     ]
    },
    {
     "name": "stdout",
     "output_type": "stream",
     "text": [
      " patches in ROI\n",
      "40157 roi samples\n",
      "39390 patches in ROI\n",
      "39390 roi samples\n",
      "39945"
     ]
    },
    {
     "name": "stderr",
     "output_type": "stream",
     "text": [
      "locate patches: 0.02 seconds\n",
      "locate patches: 0.02 seconds\n"
     ]
    },
    {
     "name": "stdout",
     "output_type": "stream",
     "text": [
      " patches in ROI\n",
      "39945 roi samples\n",
      "39655 patches in ROI\n",
      "39655 roi samples\n",
      "39615"
     ]
    },
    {
     "name": "stderr",
     "output_type": "stream",
     "text": [
      "locate patches: 0.02 seconds\n",
      "locate patches: 0.02 seconds\n"
     ]
    },
    {
     "name": "stdout",
     "output_type": "stream",
     "text": [
      " patches in ROI\n",
      "39615 roi samples\n",
      "39362 patches in ROI\n",
      "39362 roi samples\n",
      "39274"
     ]
    },
    {
     "name": "stderr",
     "output_type": "stream",
     "text": [
      "locate patches: 0.02 seconds\n",
      "locate patches: 0.02 seconds\n"
     ]
    },
    {
     "name": "stdout",
     "output_type": "stream",
     "text": [
      " patches in ROI\n",
      "39274 roi samples\n",
      "39089 patches in ROI\n",
      "39089 roi samples\n",
      "39282"
     ]
    },
    {
     "name": "stderr",
     "output_type": "stream",
     "text": [
      "locate patches: 0.02 seconds\n",
      "locate patches: 0.02 seconds\n"
     ]
    },
    {
     "name": "stdout",
     "output_type": "stream",
     "text": [
      " patches in ROI\n",
      "39282 roi samples\n",
      "39031 patches in ROI\n",
      "39031 roi samples\n",
      "39106"
     ]
    },
    {
     "name": "stderr",
     "output_type": "stream",
     "text": [
      "locate patches: 0.02 seconds\n",
      "locate patches: 0.02 seconds\n"
     ]
    },
    {
     "name": "stdout",
     "output_type": "stream",
     "text": [
      " patches in ROI\n",
      "39106 roi samples\n",
      "39207 patches in ROI\n",
      "39207 roi samples\n",
      "39217"
     ]
    },
    {
     "name": "stderr",
     "output_type": "stream",
     "text": [
      "locate patches: 0.02 seconds\n",
      "locate patches: 0.02 seconds\n"
     ]
    },
    {
     "name": "stdout",
     "output_type": "stream",
     "text": [
      " patches in ROI\n",
      "39217 roi samples\n",
      "39192 patches in ROI\n",
      "39192 roi samples\n",
      "39080"
     ]
    },
    {
     "name": "stderr",
     "output_type": "stream",
     "text": [
      "locate patches: 0.02 seconds\n",
      "locate patches: 0.02 seconds\n"
     ]
    },
    {
     "name": "stdout",
     "output_type": "stream",
     "text": [
      " patches in ROI\n",
      "39080 roi samples\n",
      "39073 patches in ROI\n",
      "39073 roi samples\n",
      "38819"
     ]
    },
    {
     "name": "stderr",
     "output_type": "stream",
     "text": [
      "locate patches: 0.02 seconds\n",
      "locate patches: 0.02 seconds\n"
     ]
    },
    {
     "name": "stdout",
     "output_type": "stream",
     "text": [
      " patches in ROI\n",
      "38819 roi samples\n",
      "39140 patches in ROI\n",
      "39140 roi samples\n",
      "38794"
     ]
    },
    {
     "name": "stderr",
     "output_type": "stream",
     "text": [
      "locate patches: 0.02 seconds\n",
      "locate patches: 0.02 seconds\n"
     ]
    },
    {
     "name": "stdout",
     "output_type": "stream",
     "text": [
      " patches in ROI\n",
      "38794 roi samples\n",
      "38233 patches in ROI\n",
      "38233 roi samples\n",
      "38577"
     ]
    },
    {
     "name": "stderr",
     "output_type": "stream",
     "text": [
      "locate patches: 0.02 seconds\n",
      "locate patches: 0.02 seconds\n"
     ]
    },
    {
     "name": "stdout",
     "output_type": "stream",
     "text": [
      " patches in ROI\n",
      "38577 roi samples\n",
      "38806 patches in ROI\n",
      "38806 roi samples\n",
      "38684"
     ]
    },
    {
     "name": "stderr",
     "output_type": "stream",
     "text": [
      "locate patches: 0.02 seconds\n",
      "locate patches: 0.02 seconds\n"
     ]
    },
    {
     "name": "stdout",
     "output_type": "stream",
     "text": [
      " patches in ROI\n",
      "38684 roi samples\n",
      "38647 patches in ROI\n",
      "38647 roi samples\n",
      "38755"
     ]
    },
    {
     "name": "stderr",
     "output_type": "stream",
     "text": [
      "locate patches: 0.02 seconds\n",
      "locate patches: 0.02 seconds\n"
     ]
    },
    {
     "name": "stdout",
     "output_type": "stream",
     "text": [
      " patches in ROI\n",
      "38755 roi samples\n",
      "38633 patches in ROI\n",
      "38633 roi samples\n",
      "38790"
     ]
    },
    {
     "name": "stderr",
     "output_type": "stream",
     "text": [
      "locate patches: 0.02 seconds\n",
      "locate patches: 0.02 seconds\n"
     ]
    },
    {
     "name": "stdout",
     "output_type": "stream",
     "text": [
      " patches in ROI\n",
      "38790 roi samples\n",
      "38606 patches in ROI\n",
      "38606 roi samples\n",
      "38545"
     ]
    },
    {
     "name": "stderr",
     "output_type": "stream",
     "text": [
      "locate patches: 0.02 seconds\n",
      "locate patches: 0.02 seconds\n"
     ]
    },
    {
     "name": "stdout",
     "output_type": "stream",
     "text": [
      " patches in ROI\n",
      "38545 roi samples\n",
      "38428 patches in ROI\n",
      "38428 roi samples\n",
      "38511"
     ]
    },
    {
     "name": "stderr",
     "output_type": "stream",
     "text": [
      "locate patches: 0.02 seconds\n",
      "locate patches: 0.02 seconds\n"
     ]
    },
    {
     "name": "stdout",
     "output_type": "stream",
     "text": [
      " patches in ROI\n",
      "38511 roi samples\n",
      "38723 patches in ROI\n",
      "38723 roi samples\n",
      "38513"
     ]
    },
    {
     "name": "stderr",
     "output_type": "stream",
     "text": [
      "locate patches: 0.02 seconds\n",
      "locate patches: 0.02 seconds\n"
     ]
    },
    {
     "name": "stdout",
     "output_type": "stream",
     "text": [
      " patches in ROI\n",
      "38513 roi samples\n",
      "39068 patches in ROI\n",
      "39068 roi samples\n",
      "38691"
     ]
    },
    {
     "name": "stderr",
     "output_type": "stream",
     "text": [
      "locate patches: 0.02 seconds\n",
      "locate patches: 0.02 seconds\n"
     ]
    },
    {
     "name": "stdout",
     "output_type": "stream",
     "text": [
      " patches in ROI\n",
      "38691 roi samples\n",
      "39239 patches in ROI\n",
      "39239 roi samples\n",
      "38920"
     ]
    },
    {
     "name": "stderr",
     "output_type": "stream",
     "text": [
      "locate patches: 0.02 seconds\n",
      "locate patches: 0.02 seconds\n"
     ]
    },
    {
     "name": "stdout",
     "output_type": "stream",
     "text": [
      " patches in ROI\n",
      "38920 roi samples\n",
      "38920 patches in ROI\n",
      "38920 roi samples\n",
      "38968"
     ]
    },
    {
     "name": "stderr",
     "output_type": "stream",
     "text": [
      "locate patches: 0.02 seconds\n",
      "locate patches: 0.02 seconds\n"
     ]
    },
    {
     "name": "stdout",
     "output_type": "stream",
     "text": [
      " patches in ROI\n",
      "38968 roi samples\n",
      "39106 patches in ROI\n",
      "39106 roi samples\n",
      "38873"
     ]
    },
    {
     "name": "stderr",
     "output_type": "stream",
     "text": [
      "locate patches: 0.03 seconds\n",
      "locate patches: 0.02 seconds\n"
     ]
    },
    {
     "name": "stdout",
     "output_type": "stream",
     "text": [
      " patches in ROI\n",
      "38873 roi samples\n",
      "37301 patches in ROI\n",
      "37301 roi samples\n",
      "38635"
     ]
    },
    {
     "name": "stderr",
     "output_type": "stream",
     "text": [
      "locate patches: 0.02 seconds\n",
      "locate patches: 0.02 seconds\n"
     ]
    },
    {
     "name": "stdout",
     "output_type": "stream",
     "text": [
      " patches in ROI\n",
      "38635 roi samples\n",
      "39274 patches in ROI\n",
      "39274 roi samples\n",
      "39451"
     ]
    },
    {
     "name": "stderr",
     "output_type": "stream",
     "text": [
      "locate patches: 0.02 seconds\n",
      "locate patches: 0.02 seconds\n"
     ]
    },
    {
     "name": "stdout",
     "output_type": "stream",
     "text": [
      " patches in ROI\n",
      "39451 roi samples\n",
      "39506 patches in ROI\n",
      "39506 roi samples\n",
      "39416"
     ]
    },
    {
     "name": "stderr",
     "output_type": "stream",
     "text": [
      "locate patches: 0.02 seconds\n",
      "locate patches: 0.02 seconds\n"
     ]
    },
    {
     "name": "stdout",
     "output_type": "stream",
     "text": [
      " patches in ROI\n",
      "39416 roi samples\n",
      "39534 patches in ROI\n",
      "39534 roi samples\n",
      "39322"
     ]
    },
    {
     "name": "stderr",
     "output_type": "stream",
     "text": [
      "locate patches: 0.02 seconds\n",
      "locate patches: 0.02 seconds\n"
     ]
    },
    {
     "name": "stdout",
     "output_type": "stream",
     "text": [
      " patches in ROI\n",
      "39322 roi samples\n",
      "39590 patches in ROI\n",
      "39590 roi samples\n",
      "39617"
     ]
    },
    {
     "name": "stderr",
     "output_type": "stream",
     "text": [
      "locate patches: 0.02 seconds\n",
      "locate patches: 0.02 seconds\n"
     ]
    },
    {
     "name": "stdout",
     "output_type": "stream",
     "text": [
      " patches in ROI\n",
      "39617 roi samples\n",
      "39772 patches in ROI\n",
      "39772 roi samples\n",
      "39612"
     ]
    },
    {
     "name": "stderr",
     "output_type": "stream",
     "text": [
      "locate patches: 0.02 seconds\n",
      "locate patches: 0.02 seconds\n"
     ]
    },
    {
     "name": "stdout",
     "output_type": "stream",
     "text": [
      " patches in ROI\n",
      "39612 roi samples\n",
      "39811 patches in ROI\n",
      "39811 roi samples\n",
      "39743"
     ]
    },
    {
     "name": "stderr",
     "output_type": "stream",
     "text": [
      "locate patches: 0.02 seconds\n",
      "locate patches: 0.02 seconds\n"
     ]
    },
    {
     "name": "stdout",
     "output_type": "stream",
     "text": [
      " patches in ROI\n",
      "39743 roi samples\n",
      "38982 patches in ROI\n",
      "38982 roi samples\n",
      "40552"
     ]
    },
    {
     "name": "stderr",
     "output_type": "stream",
     "text": [
      "locate patches: 0.02 seconds\n",
      "locate patches: 0.02 seconds\n"
     ]
    },
    {
     "name": "stdout",
     "output_type": "stream",
     "text": [
      " patches in ROI\n",
      "40552 roi samples\n",
      "40054 patches in ROI\n",
      "40054 roi samples\n",
      "39822"
     ]
    },
    {
     "name": "stderr",
     "output_type": "stream",
     "text": [
      "locate patches: 0.02 seconds\n",
      "locate patches: 0.02 seconds\n"
     ]
    },
    {
     "name": "stdout",
     "output_type": "stream",
     "text": [
      " patches in ROI\n",
      "39822 roi samples\n",
      "40161 patches in ROI\n",
      "40161 roi samples\n",
      "39859"
     ]
    },
    {
     "name": "stderr",
     "output_type": "stream",
     "text": [
      "locate patches: 0.02 seconds\n",
      "locate patches: 0.02 seconds\n"
     ]
    },
    {
     "name": "stdout",
     "output_type": "stream",
     "text": [
      " patches in ROI\n",
      "39859 roi samples\n",
      "40185 patches in ROI\n",
      "40185 roi samples\n",
      "40097"
     ]
    },
    {
     "name": "stderr",
     "output_type": "stream",
     "text": [
      "locate patches: 0.02 seconds\n",
      "locate patches: 0.02 seconds\n"
     ]
    },
    {
     "name": "stdout",
     "output_type": "stream",
     "text": [
      " patches in ROI\n",
      "40097 roi samples\n",
      "39873 patches in ROI\n",
      "39873 roi samples\n",
      "40073"
     ]
    },
    {
     "name": "stderr",
     "output_type": "stream",
     "text": [
      "locate patches: 0.02 seconds\n",
      "locate patches: 0.02 seconds\n"
     ]
    },
    {
     "name": "stdout",
     "output_type": "stream",
     "text": [
      " patches in ROI\n",
      "40073 roi samples\n",
      "39985 patches in ROI\n",
      "39985 roi samples\n",
      "39983"
     ]
    },
    {
     "name": "stderr",
     "output_type": "stream",
     "text": [
      "locate patches: 0.02 seconds\n",
      "locate patches: 0.02 seconds\n"
     ]
    },
    {
     "name": "stdout",
     "output_type": "stream",
     "text": [
      " patches in ROI\n",
      "39983 roi samples\n",
      "40639 patches in ROI\n",
      "40639 roi samples\n",
      "39998"
     ]
    },
    {
     "name": "stderr",
     "output_type": "stream",
     "text": [
      "locate patches: 0.02 seconds\n",
      "locate patches: 0.02 seconds\n"
     ]
    },
    {
     "name": "stdout",
     "output_type": "stream",
     "text": [
      " patches in ROI\n",
      "39998 roi samples\n",
      "39275 patches in ROI\n",
      "39275 roi samples\n",
      "39816"
     ]
    },
    {
     "name": "stderr",
     "output_type": "stream",
     "text": [
      "locate patches: 0.02 seconds\n",
      "locate patches: 0.02 seconds\n"
     ]
    },
    {
     "name": "stdout",
     "output_type": "stream",
     "text": [
      " patches in ROI\n",
      "39816 roi samples\n",
      "39472 patches in ROI\n",
      "39472 roi samples\n",
      "39865"
     ]
    },
    {
     "name": "stderr",
     "output_type": "stream",
     "text": [
      "locate patches: 0.02 seconds\n",
      "locate patches: 0.02 seconds\n"
     ]
    },
    {
     "name": "stdout",
     "output_type": "stream",
     "text": [
      " patches in ROI\n",
      "39865 roi samples\n",
      "40222 patches in ROI\n",
      "40222 roi samples\n",
      "39574"
     ]
    },
    {
     "name": "stderr",
     "output_type": "stream",
     "text": [
      "locate patches: 0.02 seconds\n",
      "locate patches: 0.02 seconds\n"
     ]
    },
    {
     "name": "stdout",
     "output_type": "stream",
     "text": [
      " patches in ROI\n",
      "39574 roi samples\n",
      "39417 patches in ROI\n",
      "39417 roi samples\n",
      "39431"
     ]
    },
    {
     "name": "stderr",
     "output_type": "stream",
     "text": [
      "locate patches: 0.02 seconds\n",
      "locate patches: 0.02 seconds\n"
     ]
    },
    {
     "name": "stdout",
     "output_type": "stream",
     "text": [
      " patches in ROI\n",
      "39431 roi samples\n",
      "39230 patches in ROI\n",
      "39230 roi samples\n",
      "39438"
     ]
    },
    {
     "name": "stderr",
     "output_type": "stream",
     "text": [
      "locate patches: 0.02 seconds\n",
      "locate patches: 0.02 seconds\n"
     ]
    },
    {
     "name": "stdout",
     "output_type": "stream",
     "text": [
      " patches in ROI\n",
      "39438 roi samples\n",
      "38825 patches in ROI\n",
      "38825 roi samples\n",
      "39331"
     ]
    },
    {
     "name": "stderr",
     "output_type": "stream",
     "text": [
      "locate patches: 0.02 seconds\n",
      "locate patches: 0.02 seconds\n"
     ]
    },
    {
     "name": "stdout",
     "output_type": "stream",
     "text": [
      " patches in ROI\n",
      "39331 roi samples\n",
      "38924 patches in ROI\n",
      "38924 roi samples\n",
      "39236"
     ]
    },
    {
     "name": "stderr",
     "output_type": "stream",
     "text": [
      "locate patches: 0.02 seconds\n",
      "locate patches: 0.02 seconds\n"
     ]
    },
    {
     "name": "stdout",
     "output_type": "stream",
     "text": [
      " patches in ROI\n",
      "39236 roi samples\n",
      "38840 patches in ROI\n",
      "38840 roi samples\n",
      "38755"
     ]
    },
    {
     "name": "stderr",
     "output_type": "stream",
     "text": [
      "locate patches: 0.02 seconds\n",
      "locate patches: 0.02 seconds\n"
     ]
    },
    {
     "name": "stdout",
     "output_type": "stream",
     "text": [
      " patches in ROI\n",
      "38755 roi samples\n",
      "38855 patches in ROI\n",
      "38855 roi samples\n",
      "38455"
     ]
    },
    {
     "name": "stderr",
     "output_type": "stream",
     "text": [
      "locate patches: 0.02 seconds\n",
      "locate patches: 0.02 seconds\n"
     ]
    },
    {
     "name": "stdout",
     "output_type": "stream",
     "text": [
      " patches in ROI\n",
      "38455 roi samples\n",
      "38298 patches in ROI\n",
      "38298 roi samples\n",
      "38293"
     ]
    },
    {
     "name": "stderr",
     "output_type": "stream",
     "text": [
      "locate patches: 0.02 seconds\n",
      "locate patches: 0.02 seconds\n"
     ]
    },
    {
     "name": "stdout",
     "output_type": "stream",
     "text": [
      " patches in ROI\n",
      "38293 roi samples\n",
      "37803 patches in ROI\n",
      "37803 roi samples\n",
      "37952"
     ]
    },
    {
     "name": "stderr",
     "output_type": "stream",
     "text": [
      "locate patches: 0.02 seconds\n",
      "locate patches: 0.02 seconds\n"
     ]
    },
    {
     "name": "stdout",
     "output_type": "stream",
     "text": [
      " patches in ROI\n",
      "37952 roi samples\n",
      "37272 patches in ROI\n",
      "37272 roi samples\n",
      "36456"
     ]
    },
    {
     "name": "stderr",
     "output_type": "stream",
     "text": [
      "locate patches: 0.02 seconds\n",
      "locate patches: 0.02 seconds\n"
     ]
    },
    {
     "name": "stdout",
     "output_type": "stream",
     "text": [
      " patches in ROI\n",
      "36456 roi samples\n",
      "36573 patches in ROI\n",
      "36573 roi samples\n",
      "36193"
     ]
    },
    {
     "name": "stderr",
     "output_type": "stream",
     "text": [
      "locate patches: 0.02 seconds\n",
      "locate patches: 0.02 seconds\n"
     ]
    },
    {
     "name": "stdout",
     "output_type": "stream",
     "text": [
      " patches in ROI\n",
      "36193 roi samples\n",
      "35961 patches in ROI\n",
      "35961 roi samples\n",
      "35571"
     ]
    },
    {
     "name": "stderr",
     "output_type": "stream",
     "text": [
      "locate patches: 0.02 seconds\n",
      "locate patches: 0.02 seconds\n"
     ]
    },
    {
     "name": "stdout",
     "output_type": "stream",
     "text": [
      " patches in ROI\n",
      "35571 roi samples\n",
      "35432 patches in ROI\n",
      "35432 roi samples\n",
      "34745"
     ]
    },
    {
     "name": "stderr",
     "output_type": "stream",
     "text": [
      "locate patches: 0.02 seconds\n",
      "locate patches: 0.02 seconds\n"
     ]
    },
    {
     "name": "stdout",
     "output_type": "stream",
     "text": [
      " patches in ROI\n",
      "34745 roi samples\n",
      "35063 patches in ROI\n",
      "35063 roi samples\n",
      "34629"
     ]
    },
    {
     "name": "stderr",
     "output_type": "stream",
     "text": [
      "locate patches: 0.02 seconds\n",
      "locate patches: 0.02 seconds\n"
     ]
    },
    {
     "name": "stdout",
     "output_type": "stream",
     "text": [
      " patches in ROI\n",
      "34629 roi samples\n",
      "34615 patches in ROI\n",
      "34615 roi samples\n",
      "34257"
     ]
    },
    {
     "name": "stderr",
     "output_type": "stream",
     "text": [
      "locate patches: 0.03 seconds\n",
      "locate patches: 0.02 seconds\n"
     ]
    },
    {
     "name": "stdout",
     "output_type": "stream",
     "text": [
      " patches in ROI\n",
      "34257 roi samples\n",
      "34558 patches in ROI\n",
      "34558 roi samples\n",
      "34084"
     ]
    },
    {
     "name": "stderr",
     "output_type": "stream",
     "text": [
      "locate patches: 0.03 seconds\n",
      "locate patches: 0.03 seconds\n"
     ]
    },
    {
     "name": "stdout",
     "output_type": "stream",
     "text": [
      " patches in ROI\n",
      "34084 roi samples\n",
      "33517 patches in ROI\n",
      "33517 roi samples\n",
      "33022"
     ]
    },
    {
     "name": "stderr",
     "output_type": "stream",
     "text": [
      "locate patches: 0.02 seconds\n",
      "locate patches: 0.02 seconds\n"
     ]
    },
    {
     "name": "stdout",
     "output_type": "stream",
     "text": [
      " patches in ROI\n",
      "33022 roi samples\n",
      "32858 patches in ROI\n",
      "32858 roi samples\n",
      "32691"
     ]
    },
    {
     "name": "stderr",
     "output_type": "stream",
     "text": [
      "locate patches: 0.03 seconds\n",
      "locate patches: 0.02 seconds\n"
     ]
    },
    {
     "name": "stdout",
     "output_type": "stream",
     "text": [
      " patches in ROI\n",
      "32691 roi samples\n",
      "32255 patches in ROI\n",
      "32255 roi samples\n",
      "32195"
     ]
    },
    {
     "name": "stderr",
     "output_type": "stream",
     "text": [
      "locate patches: 0.02 seconds\n",
      "locate patches: 0.02 seconds\n"
     ]
    },
    {
     "name": "stdout",
     "output_type": "stream",
     "text": [
      " patches in ROI\n",
      "32195 roi samples\n",
      "31899 patches in ROI\n",
      "31899 roi samples\n",
      "31768"
     ]
    },
    {
     "name": "stderr",
     "output_type": "stream",
     "text": [
      "locate patches: 0.02 seconds\n",
      "locate patches: 0.02 seconds\n"
     ]
    },
    {
     "name": "stdout",
     "output_type": "stream",
     "text": [
      " patches in ROI\n",
      "31768 roi samples\n",
      "31492 patches in ROI\n",
      "31492 roi samples\n",
      "31352"
     ]
    },
    {
     "name": "stderr",
     "output_type": "stream",
     "text": [
      "locate patches: 0.02 seconds\n",
      "locate patches: 0.02 seconds\n"
     ]
    },
    {
     "name": "stdout",
     "output_type": "stream",
     "text": [
      " patches in ROI\n",
      "31352 roi samples\n",
      "31023 patches in ROI\n",
      "31023 roi samples\n",
      "30751"
     ]
    },
    {
     "name": "stderr",
     "output_type": "stream",
     "text": [
      "locate patches: 0.02 seconds\n",
      "locate patches: 0.02 seconds\n"
     ]
    },
    {
     "name": "stdout",
     "output_type": "stream",
     "text": [
      " patches in ROI\n",
      "30751 roi samples\n",
      "30358 patches in ROI\n",
      "30358 roi samples\n",
      "30131"
     ]
    },
    {
     "name": "stderr",
     "output_type": "stream",
     "text": [
      "locate patches: 0.02 seconds\n",
      "locate patches: 0.02 seconds\n"
     ]
    },
    {
     "name": "stdout",
     "output_type": "stream",
     "text": [
      " patches in ROI\n",
      "30131 roi samples\n",
      "29643 patches in ROI\n",
      "29643 roi samples\n",
      "29665"
     ]
    },
    {
     "name": "stderr",
     "output_type": "stream",
     "text": [
      "locate patches: 0.02 seconds\n",
      "locate patches: 0.02 seconds\n"
     ]
    },
    {
     "name": "stdout",
     "output_type": "stream",
     "text": [
      " patches in ROI\n",
      "29665 roi samples\n",
      "29300 patches in ROI\n",
      "29300 roi samples\n",
      "29235"
     ]
    },
    {
     "name": "stderr",
     "output_type": "stream",
     "text": [
      "locate patches: 0.02 seconds\n",
      "locate patches: 0.02 seconds\n"
     ]
    },
    {
     "name": "stdout",
     "output_type": "stream",
     "text": [
      " patches in ROI\n",
      "29235 roi samples\n",
      "28814 patches in ROI\n",
      "28814 roi samples\n",
      "28650"
     ]
    },
    {
     "name": "stderr",
     "output_type": "stream",
     "text": [
      "locate patches: 0.02 seconds\n",
      "locate patches: 0.02 seconds\n"
     ]
    },
    {
     "name": "stdout",
     "output_type": "stream",
     "text": [
      " patches in ROI\n",
      "28650 roi samples\n",
      "28332 patches in ROI\n",
      "28332 roi samples\n",
      "28053"
     ]
    },
    {
     "name": "stderr",
     "output_type": "stream",
     "text": [
      "locate patches: 0.02 seconds\n",
      "locate patches: 0.02 seconds\n"
     ]
    },
    {
     "name": "stdout",
     "output_type": "stream",
     "text": [
      " patches in ROI\n",
      "28053 roi samples\n",
      "27849 patches in ROI\n",
      "27849 roi samples\n",
      "27304"
     ]
    },
    {
     "name": "stderr",
     "output_type": "stream",
     "text": [
      "locate patches: 0.02 seconds\n",
      "locate patches: 0.02 seconds\n"
     ]
    },
    {
     "name": "stdout",
     "output_type": "stream",
     "text": [
      " patches in ROI\n",
      "27304 roi samples\n",
      "27041 patches in ROI\n",
      "27041 roi samples\n",
      "27134"
     ]
    },
    {
     "name": "stderr",
     "output_type": "stream",
     "text": [
      "locate patches: 0.02 seconds\n",
      "locate patches: 0.02 seconds\n"
     ]
    },
    {
     "name": "stdout",
     "output_type": "stream",
     "text": [
      " patches in ROI\n",
      "27134 roi samples\n",
      "26884 patches in ROI\n",
      "26884 roi samples\n",
      "26684"
     ]
    },
    {
     "name": "stderr",
     "output_type": "stream",
     "text": [
      "locate patches: 0.02 seconds\n",
      "locate patches: 0.02 seconds\n"
     ]
    },
    {
     "name": "stdout",
     "output_type": "stream",
     "text": [
      " patches in ROI\n",
      "26684 roi samples\n",
      "26708 patches in ROI\n",
      "26708 roi samples\n",
      "26537"
     ]
    },
    {
     "name": "stderr",
     "output_type": "stream",
     "text": [
      "locate patches: 0.02 seconds\n",
      "locate patches: 0.02 seconds\n"
     ]
    },
    {
     "name": "stdout",
     "output_type": "stream",
     "text": [
      " patches in ROI\n",
      "26537 roi samples\n",
      "26033 patches in ROI\n",
      "26033 roi samples\n",
      "26041"
     ]
    },
    {
     "name": "stderr",
     "output_type": "stream",
     "text": [
      "locate patches: 0.02 seconds\n",
      "locate patches: 0.02 seconds\n"
     ]
    },
    {
     "name": "stdout",
     "output_type": "stream",
     "text": [
      " patches in ROI\n",
      "26041 roi samples\n",
      "25847 patches in ROI\n",
      "25847 roi samples\n",
      "25386"
     ]
    },
    {
     "name": "stderr",
     "output_type": "stream",
     "text": [
      "locate patches: 0.02 seconds\n",
      "locate patches: 0.02 seconds\n"
     ]
    },
    {
     "name": "stdout",
     "output_type": "stream",
     "text": [
      " patches in ROI\n",
      "25386 roi samples\n",
      "25172 patches in ROI\n",
      "25172 roi samples\n",
      "24699"
     ]
    },
    {
     "name": "stderr",
     "output_type": "stream",
     "text": [
      "locate patches: 0.02 seconds\n",
      "locate patches: 0.02 seconds\n"
     ]
    },
    {
     "name": "stdout",
     "output_type": "stream",
     "text": [
      " patches in ROI\n",
      "24699 roi samples\n",
      "24523 patches in ROI\n",
      "24523 roi samples\n",
      "24573"
     ]
    },
    {
     "name": "stderr",
     "output_type": "stream",
     "text": [
      "locate patches: 0.02 seconds\n",
      "locate patches: 0.02 seconds\n"
     ]
    },
    {
     "name": "stdout",
     "output_type": "stream",
     "text": [
      " patches in ROI\n",
      "24573 roi samples\n",
      "24376 patches in ROI\n",
      "24376 roi samples\n",
      "23937"
     ]
    },
    {
     "name": "stderr",
     "output_type": "stream",
     "text": [
      "locate patches: 0.02 seconds\n",
      "locate patches: 0.02 seconds\n"
     ]
    },
    {
     "name": "stdout",
     "output_type": "stream",
     "text": [
      " patches in ROI\n",
      "23937 roi samples\n",
      "23827 patches in ROI\n",
      "23827 roi samples\n",
      "23167"
     ]
    },
    {
     "name": "stderr",
     "output_type": "stream",
     "text": [
      "locate patches: 0.02 seconds\n",
      "locate patches: 0.02 seconds\n"
     ]
    },
    {
     "name": "stdout",
     "output_type": "stream",
     "text": [
      " patches in ROI\n",
      "23167 roi samples\n",
      "23126 patches in ROI\n",
      "23126 roi samples\n",
      "22663"
     ]
    },
    {
     "name": "stderr",
     "output_type": "stream",
     "text": [
      "locate patches: 0.02 seconds\n",
      "locate patches: 0.02 seconds\n"
     ]
    },
    {
     "name": "stdout",
     "output_type": "stream",
     "text": [
      " patches in ROI\n",
      "22663 roi samples\n",
      "22550 patches in ROI\n",
      "22550 roi samples\n",
      "22478"
     ]
    },
    {
     "name": "stderr",
     "output_type": "stream",
     "text": [
      "locate patches: 0.02 seconds\n",
      "locate patches: 0.02 seconds\n"
     ]
    },
    {
     "name": "stdout",
     "output_type": "stream",
     "text": [
      " patches in ROI\n",
      "22478 roi samples\n",
      "22445 patches in ROI\n",
      "22445 roi samples\n",
      "22293"
     ]
    },
    {
     "name": "stderr",
     "output_type": "stream",
     "text": [
      "locate patches: 0.02 seconds\n",
      "locate patches: 0.02 seconds\n"
     ]
    },
    {
     "name": "stdout",
     "output_type": "stream",
     "text": [
      " patches in ROI\n",
      "22293 roi samples\n",
      "22322 patches in ROI\n",
      "22322 roi samples\n",
      "22494"
     ]
    },
    {
     "name": "stderr",
     "output_type": "stream",
     "text": [
      "locate patches: 0.02 seconds\n",
      "locate patches: 0.02 seconds\n"
     ]
    },
    {
     "name": "stdout",
     "output_type": "stream",
     "text": [
      " patches in ROI\n",
      "22494 roi samples\n",
      "22327 patches in ROI\n",
      "22327 roi samples\n",
      "22401"
     ]
    },
    {
     "name": "stderr",
     "output_type": "stream",
     "text": [
      "locate patches: 0.02 seconds\n",
      "locate patches: 0.02 seconds\n"
     ]
    },
    {
     "name": "stdout",
     "output_type": "stream",
     "text": [
      " patches in ROI\n",
      "22401 roi samples\n",
      "22287 patches in ROI\n",
      "22287 roi samples\n",
      "22145"
     ]
    },
    {
     "name": "stderr",
     "output_type": "stream",
     "text": [
      "locate patches: 0.02 seconds\n",
      "locate patches: 0.02 seconds\n"
     ]
    },
    {
     "name": "stdout",
     "output_type": "stream",
     "text": [
      " patches in ROI\n",
      "22145 roi samples\n",
      "22055 patches in ROI\n",
      "22055 roi samples\n",
      "22322"
     ]
    },
    {
     "name": "stderr",
     "output_type": "stream",
     "text": [
      "locate patches: 0.02 seconds\n",
      "locate patches: 0.03 seconds\n"
     ]
    },
    {
     "name": "stdout",
     "output_type": "stream",
     "text": [
      " patches in ROI\n",
      "22322 roi samples\n",
      "22021 patches in ROI\n",
      "22021 roi samples\n",
      "22319"
     ]
    },
    {
     "name": "stderr",
     "output_type": "stream",
     "text": [
      "locate patches: 0.02 seconds\n",
      "locate patches: 0.02 seconds\n"
     ]
    },
    {
     "name": "stdout",
     "output_type": "stream",
     "text": [
      " patches in ROI\n",
      "22319 roi samples\n",
      "21958 patches in ROI\n",
      "21958 roi samples\n",
      "21612"
     ]
    },
    {
     "name": "stderr",
     "output_type": "stream",
     "text": [
      "locate patches: 0.02 seconds\n",
      "locate patches: 0.02 seconds\n"
     ]
    },
    {
     "name": "stdout",
     "output_type": "stream",
     "text": [
      " patches in ROI\n",
      "21612 roi samples\n",
      "22093 patches in ROI\n",
      "22093 roi samples\n",
      "21681"
     ]
    },
    {
     "name": "stderr",
     "output_type": "stream",
     "text": [
      "locate patches: 0.02 seconds\n",
      "locate patches: 0.02 seconds\n"
     ]
    },
    {
     "name": "stdout",
     "output_type": "stream",
     "text": [
      " patches in ROI\n",
      "21681 roi samples\n",
      "MD592\n",
      "30707 patches in ROI\n",
      "30707 roi samples\n",
      "30627"
     ]
    },
    {
     "name": "stderr",
     "output_type": "stream",
     "text": [
      "locate patches: 0.04 seconds\n",
      "locate patches: 0.04 seconds\n"
     ]
    },
    {
     "name": "stdout",
     "output_type": "stream",
     "text": [
      " patches in ROI\n",
      "30627 roi samples\n",
      "31555 patches in ROI\n",
      "31555 roi samples\n",
      "31252"
     ]
    },
    {
     "name": "stderr",
     "output_type": "stream",
     "text": [
      "locate patches: 0.04 seconds\n",
      "locate patches: 0.04 seconds\n"
     ]
    },
    {
     "name": "stdout",
     "output_type": "stream",
     "text": [
      " patches in ROI\n",
      "31252 roi samples\n",
      "31428 patches in ROI\n",
      "31428 roi samples\n",
      "31457"
     ]
    },
    {
     "name": "stderr",
     "output_type": "stream",
     "text": [
      "locate patches: 0.04 seconds\n",
      "locate patches: 0.04 seconds\n"
     ]
    },
    {
     "name": "stdout",
     "output_type": "stream",
     "text": [
      " patches in ROI\n",
      "31457 roi samples\n",
      "31866 patches in ROI\n",
      "31866 roi samples\n",
      "31920"
     ]
    },
    {
     "name": "stderr",
     "output_type": "stream",
     "text": [
      "locate patches: 0.04 seconds\n",
      "locate patches: 0.04 seconds\n"
     ]
    },
    {
     "name": "stdout",
     "output_type": "stream",
     "text": [
      " patches in ROI\n",
      "31920 roi samples\n",
      "32533 patches in ROI\n",
      "32533 roi samples\n",
      "32727"
     ]
    },
    {
     "name": "stderr",
     "output_type": "stream",
     "text": [
      "locate patches: 0.04 seconds\n",
      "locate patches: 0.03 seconds\n"
     ]
    },
    {
     "name": "stdout",
     "output_type": "stream",
     "text": [
      " patches in ROI\n",
      "32727 roi samples\n",
      "33058 patches in ROI\n",
      "33058 roi samples\n",
      "32330"
     ]
    },
    {
     "name": "stderr",
     "output_type": "stream",
     "text": [
      "locate patches: 0.03 seconds\n",
      "locate patches: 0.03 seconds\n"
     ]
    },
    {
     "name": "stdout",
     "output_type": "stream",
     "text": [
      " patches in ROI\n",
      "32330 roi samples\n",
      "33460 patches in ROI\n",
      "33460 roi samples\n",
      "32660"
     ]
    },
    {
     "name": "stderr",
     "output_type": "stream",
     "text": [
      "locate patches: 0.03 seconds\n",
      "locate patches: 0.03 seconds\n"
     ]
    },
    {
     "name": "stdout",
     "output_type": "stream",
     "text": [
      " patches in ROI\n",
      "32660 roi samples\n",
      "32897 patches in ROI\n",
      "32897 roi samples\n",
      "32870"
     ]
    },
    {
     "name": "stderr",
     "output_type": "stream",
     "text": [
      "locate patches: 0.03 seconds\n",
      "locate patches: 0.03 seconds\n"
     ]
    },
    {
     "name": "stdout",
     "output_type": "stream",
     "text": [
      " patches in ROI\n",
      "32870 roi samples\n",
      "33391 patches in ROI\n",
      "33391 roi samples\n",
      "33242"
     ]
    },
    {
     "name": "stderr",
     "output_type": "stream",
     "text": [
      "locate patches: 0.03 seconds\n",
      "locate patches: 0.03 seconds\n"
     ]
    },
    {
     "name": "stdout",
     "output_type": "stream",
     "text": [
      " patches in ROI\n",
      "33242 roi samples\n",
      "33568 patches in ROI\n",
      "33568 roi samples\n",
      "30928"
     ]
    },
    {
     "name": "stderr",
     "output_type": "stream",
     "text": [
      "locate patches: 0.04 seconds\n",
      "locate patches: 0.04 seconds\n"
     ]
    },
    {
     "name": "stdout",
     "output_type": "stream",
     "text": [
      " patches in ROI\n",
      "30928 roi samples\n",
      "33535 patches in ROI\n",
      "33535 roi samples\n",
      "33597"
     ]
    },
    {
     "name": "stderr",
     "output_type": "stream",
     "text": [
      "locate patches: 0.04 seconds\n",
      "locate patches: 0.04 seconds\n"
     ]
    },
    {
     "name": "stdout",
     "output_type": "stream",
     "text": [
      " patches in ROI\n",
      "33597 roi samples\n",
      "34784 patches in ROI\n",
      "34784 roi samples\n",
      "35065"
     ]
    },
    {
     "name": "stderr",
     "output_type": "stream",
     "text": [
      "locate patches: 0.04 seconds\n",
      "locate patches: 0.04 seconds\n"
     ]
    },
    {
     "name": "stdout",
     "output_type": "stream",
     "text": [
      " patches in ROI\n",
      "35065 roi samples\n",
      "35244 patches in ROI\n",
      "35244 roi samples\n",
      "35379"
     ]
    },
    {
     "name": "stderr",
     "output_type": "stream",
     "text": [
      "locate patches: 0.04 seconds\n",
      "locate patches: 0.04 seconds\n"
     ]
    },
    {
     "name": "stdout",
     "output_type": "stream",
     "text": [
      " patches in ROI\n",
      "35379 roi samples\n",
      "35480 patches in ROI\n",
      "35480 roi samples\n",
      "35547"
     ]
    },
    {
     "name": "stderr",
     "output_type": "stream",
     "text": [
      "locate patches: 0.04 seconds\n",
      "locate patches: 0.04 seconds\n"
     ]
    },
    {
     "name": "stdout",
     "output_type": "stream",
     "text": [
      " patches in ROI\n",
      "35547 roi samples\n",
      "34770 patches in ROI\n",
      "34770 roi samples\n",
      "36009"
     ]
    },
    {
     "name": "stderr",
     "output_type": "stream",
     "text": [
      "locate patches: 0.04 seconds\n",
      "locate patches: 0.04 seconds\n"
     ]
    },
    {
     "name": "stdout",
     "output_type": "stream",
     "text": [
      " patches in ROI\n",
      "36009 roi samples\n",
      "37082 patches in ROI\n",
      "37082 roi samples\n",
      "36242"
     ]
    },
    {
     "name": "stderr",
     "output_type": "stream",
     "text": [
      "locate patches: 0.04 seconds\n",
      "locate patches: 0.04 seconds\n"
     ]
    },
    {
     "name": "stdout",
     "output_type": "stream",
     "text": [
      " patches in ROI\n",
      "36242 roi samples\n",
      "37612 patches in ROI\n",
      "37612 roi samples\n",
      "36061"
     ]
    },
    {
     "name": "stderr",
     "output_type": "stream",
     "text": [
      "locate patches: 0.03 seconds\n",
      "locate patches: 0.03 seconds\n"
     ]
    },
    {
     "name": "stdout",
     "output_type": "stream",
     "text": [
      " patches in ROI\n",
      "36061 roi samples\n",
      "37612 patches in ROI\n",
      "37612 roi samples\n",
      "37921"
     ]
    },
    {
     "name": "stderr",
     "output_type": "stream",
     "text": [
      "locate patches: 0.03 seconds\n",
      "locate patches: 0.03 seconds\n"
     ]
    },
    {
     "name": "stdout",
     "output_type": "stream",
     "text": [
      " patches in ROI\n",
      "37921 roi samples\n",
      "37490 patches in ROI\n",
      "37490 roi samples\n",
      "38783"
     ]
    },
    {
     "name": "stderr",
     "output_type": "stream",
     "text": [
      "locate patches: 0.03 seconds\n",
      "locate patches: 0.03 seconds\n"
     ]
    },
    {
     "name": "stdout",
     "output_type": "stream",
     "text": [
      " patches in ROI\n",
      "38783 roi samples\n",
      "47276 patches in ROI\n",
      "47276 roi samples\n",
      "37255"
     ]
    },
    {
     "name": "stderr",
     "output_type": "stream",
     "text": [
      "locate patches: 0.03 seconds\n",
      "locate patches: 0.04 seconds\n"
     ]
    },
    {
     "name": "stdout",
     "output_type": "stream",
     "text": [
      " patches in ROI\n",
      "37255 roi samples\n",
      "38567 patches in ROI\n",
      "38567 roi samples\n",
      "37838"
     ]
    },
    {
     "name": "stderr",
     "output_type": "stream",
     "text": [
      "locate patches: 0.04 seconds\n",
      "locate patches: 0.04 seconds\n"
     ]
    },
    {
     "name": "stdout",
     "output_type": "stream",
     "text": [
      " patches in ROI\n",
      "37838 roi samples\n",
      "39024 patches in ROI\n",
      "39024 roi samples\n",
      "38472"
     ]
    },
    {
     "name": "stderr",
     "output_type": "stream",
     "text": [
      "locate patches: 0.04 seconds\n",
      "locate patches: 0.04 seconds\n"
     ]
    },
    {
     "name": "stdout",
     "output_type": "stream",
     "text": [
      " patches in ROI\n",
      "38472 roi samples\n",
      "39081 patches in ROI\n",
      "39081 roi samples\n",
      "39082"
     ]
    },
    {
     "name": "stderr",
     "output_type": "stream",
     "text": [
      "locate patches: 0.04 seconds\n",
      "locate patches: 0.04 seconds\n"
     ]
    },
    {
     "name": "stdout",
     "output_type": "stream",
     "text": [
      " patches in ROI\n",
      "39082 roi samples\n",
      "40020 patches in ROI\n",
      "40020 roi samples\n",
      "39573"
     ]
    },
    {
     "name": "stderr",
     "output_type": "stream",
     "text": [
      "locate patches: 0.04 seconds\n",
      "locate patches: 0.04 seconds\n"
     ]
    },
    {
     "name": "stdout",
     "output_type": "stream",
     "text": [
      " patches in ROI\n",
      "39573 roi samples\n",
      "40143 patches in ROI\n",
      "40143 roi samples\n",
      "39955"
     ]
    },
    {
     "name": "stderr",
     "output_type": "stream",
     "text": [
      "locate patches: 0.04 seconds\n",
      "locate patches: 0.04 seconds\n"
     ]
    },
    {
     "name": "stdout",
     "output_type": "stream",
     "text": [
      " patches in ROI\n",
      "39955 roi samples\n",
      "40912 patches in ROI\n",
      "40912 roi samples\n",
      "40472"
     ]
    },
    {
     "name": "stderr",
     "output_type": "stream",
     "text": [
      "locate patches: 0.04 seconds\n",
      "locate patches: 0.04 seconds\n"
     ]
    },
    {
     "name": "stdout",
     "output_type": "stream",
     "text": [
      " patches in ROI\n",
      "40472 roi samples\n",
      "40819 patches in ROI\n",
      "40819 roi samples\n",
      "40358"
     ]
    },
    {
     "name": "stderr",
     "output_type": "stream",
     "text": [
      "locate patches: 0.04 seconds\n",
      "locate patches: 0.04 seconds\n"
     ]
    },
    {
     "name": "stdout",
     "output_type": "stream",
     "text": [
      " patches in ROI\n",
      "40358 roi samples\n",
      "41278 patches in ROI\n",
      "41278 roi samples\n",
      "41339"
     ]
    },
    {
     "name": "stderr",
     "output_type": "stream",
     "text": [
      "locate patches: 0.04 seconds\n",
      "locate patches: 0.04 seconds\n"
     ]
    },
    {
     "name": "stdout",
     "output_type": "stream",
     "text": [
      " patches in ROI\n",
      "41339 roi samples\n",
      "41771 patches in ROI\n",
      "41771 roi samples\n",
      "40881"
     ]
    },
    {
     "name": "stderr",
     "output_type": "stream",
     "text": [
      "locate patches: 0.04 seconds\n",
      "locate patches: 0.04 seconds\n"
     ]
    },
    {
     "name": "stdout",
     "output_type": "stream",
     "text": [
      " patches in ROI\n",
      "40881 roi samples\n",
      "42479 patches in ROI\n",
      "42479 roi samples\n",
      "42038"
     ]
    },
    {
     "name": "stderr",
     "output_type": "stream",
     "text": [
      "locate patches: 0.04 seconds\n",
      "locate patches: 0.04 seconds\n"
     ]
    },
    {
     "name": "stdout",
     "output_type": "stream",
     "text": [
      " patches in ROI\n",
      "42038 roi samples\n",
      "42319 patches in ROI\n",
      "42319 roi samples\n",
      "43768"
     ]
    },
    {
     "name": "stderr",
     "output_type": "stream",
     "text": [
      "locate patches: 0.04 seconds\n",
      "locate patches: 0.04 seconds\n"
     ]
    },
    {
     "name": "stdout",
     "output_type": "stream",
     "text": [
      " patches in ROI\n",
      "43768 roi samples\n",
      "43213 patches in ROI\n",
      "43213 roi samples\n",
      "41955"
     ]
    },
    {
     "name": "stderr",
     "output_type": "stream",
     "text": [
      "locate patches: 0.04 seconds\n",
      "locate patches: 0.04 seconds\n"
     ]
    },
    {
     "name": "stdout",
     "output_type": "stream",
     "text": [
      " patches in ROI\n",
      "41955 roi samples\n",
      "43177 patches in ROI\n",
      "43177 roi samples\n",
      "42469"
     ]
    },
    {
     "name": "stderr",
     "output_type": "stream",
     "text": [
      "locate patches: 0.04 seconds\n",
      "locate patches: 0.04 seconds\n"
     ]
    },
    {
     "name": "stdout",
     "output_type": "stream",
     "text": [
      " patches in ROI\n",
      "42469 roi samples\n",
      "43475 patches in ROI\n",
      "43475 roi samples\n",
      "43513"
     ]
    },
    {
     "name": "stderr",
     "output_type": "stream",
     "text": [
      "locate patches: 0.04 seconds\n",
      "locate patches: 0.04 seconds\n"
     ]
    },
    {
     "name": "stdout",
     "output_type": "stream",
     "text": [
      " patches in ROI\n",
      "43513 roi samples\n",
      "44168 patches in ROI\n",
      "44168 roi samples\n",
      "43799"
     ]
    },
    {
     "name": "stderr",
     "output_type": "stream",
     "text": [
      "locate patches: 0.04 seconds\n",
      "locate patches: 0.04 seconds\n"
     ]
    },
    {
     "name": "stdout",
     "output_type": "stream",
     "text": [
      " patches in ROI\n",
      "43799 roi samples\n",
      "44017 patches in ROI\n",
      "44017 roi samples\n",
      "43085"
     ]
    },
    {
     "name": "stderr",
     "output_type": "stream",
     "text": [
      "locate patches: 0.04 seconds\n",
      "locate patches: 0.04 seconds\n"
     ]
    },
    {
     "name": "stdout",
     "output_type": "stream",
     "text": [
      " patches in ROI\n",
      "43085 roi samples\n",
      "44395 patches in ROI\n",
      "44395 roi samples\n",
      "44045"
     ]
    },
    {
     "name": "stderr",
     "output_type": "stream",
     "text": [
      "locate patches: 0.03 seconds\n",
      "locate patches: 0.03 seconds\n"
     ]
    },
    {
     "name": "stdout",
     "output_type": "stream",
     "text": [
      " patches in ROI\n",
      "44045 roi samples\n",
      "46245 patches in ROI\n",
      "46245 roi samples\n",
      "44409"
     ]
    },
    {
     "name": "stderr",
     "output_type": "stream",
     "text": [
      "locate patches: 0.03 seconds\n",
      "locate patches: 0.04 seconds\n"
     ]
    },
    {
     "name": "stdout",
     "output_type": "stream",
     "text": [
      " patches in ROI\n",
      "44409 roi samples\n",
      "45028 patches in ROI\n",
      "45028 roi samples\n",
      "44376"
     ]
    },
    {
     "name": "stderr",
     "output_type": "stream",
     "text": [
      "locate patches: 0.04 seconds\n",
      "locate patches: 0.04 seconds\n"
     ]
    },
    {
     "name": "stdout",
     "output_type": "stream",
     "text": [
      " patches in ROI\n",
      "44376 roi samples\n",
      "44964 patches in ROI\n",
      "44964 roi samples\n",
      "44457"
     ]
    },
    {
     "name": "stderr",
     "output_type": "stream",
     "text": [
      "locate patches: 0.04 seconds\n",
      "locate patches: 0.04 seconds\n"
     ]
    },
    {
     "name": "stdout",
     "output_type": "stream",
     "text": [
      " patches in ROI\n",
      "44457 roi samples\n",
      "45233 patches in ROI\n",
      "45233 roi samples\n",
      "44417"
     ]
    },
    {
     "name": "stderr",
     "output_type": "stream",
     "text": [
      "locate patches: 0.04 seconds\n",
      "locate patches: 0.04 seconds\n"
     ]
    },
    {
     "name": "stdout",
     "output_type": "stream",
     "text": [
      " patches in ROI\n",
      "44417 roi samples\n",
      "44266 patches in ROI\n",
      "44266 roi samples\n",
      "44981"
     ]
    },
    {
     "name": "stderr",
     "output_type": "stream",
     "text": [
      "locate patches: 0.04 seconds\n",
      "locate patches: 0.04 seconds\n"
     ]
    },
    {
     "name": "stdout",
     "output_type": "stream",
     "text": [
      " patches in ROI\n",
      "44981 roi samples\n",
      "45684 patches in ROI\n",
      "45684 roi samples\n",
      "45186"
     ]
    },
    {
     "name": "stderr",
     "output_type": "stream",
     "text": [
      "locate patches: 0.04 seconds\n",
      "locate patches: 0.04 seconds\n"
     ]
    },
    {
     "name": "stdout",
     "output_type": "stream",
     "text": [
      " patches in ROI\n",
      "45186 roi samples\n",
      "45872 patches in ROI\n",
      "45872 roi samples\n",
      "45014"
     ]
    },
    {
     "name": "stderr",
     "output_type": "stream",
     "text": [
      "locate patches: 0.04 seconds\n",
      "locate patches: 0.04 seconds\n"
     ]
    },
    {
     "name": "stdout",
     "output_type": "stream",
     "text": [
      " patches in ROI\n",
      "45014 roi samples\n",
      "46282 patches in ROI\n",
      "46282 roi samples\n",
      "44876"
     ]
    },
    {
     "name": "stderr",
     "output_type": "stream",
     "text": [
      "locate patches: 0.04 seconds\n",
      "locate patches: 0.04 seconds\n"
     ]
    },
    {
     "name": "stdout",
     "output_type": "stream",
     "text": [
      " patches in ROI\n",
      "44876 roi samples\n",
      "46481 patches in ROI\n",
      "46481 roi samples\n",
      "45596"
     ]
    },
    {
     "name": "stderr",
     "output_type": "stream",
     "text": [
      "locate patches: 0.04 seconds\n",
      "locate patches: 0.04 seconds\n"
     ]
    },
    {
     "name": "stdout",
     "output_type": "stream",
     "text": [
      " patches in ROI\n",
      "45596 roi samples\n",
      "46571 patches in ROI\n",
      "46571 roi samples\n",
      "46653"
     ]
    },
    {
     "name": "stderr",
     "output_type": "stream",
     "text": [
      "locate patches: 0.04 seconds\n",
      "locate patches: 0.04 seconds\n"
     ]
    },
    {
     "name": "stdout",
     "output_type": "stream",
     "text": [
      " patches in ROI\n",
      "46653 roi samples\n",
      "45876 patches in ROI\n",
      "45876 roi samples\n",
      "45808"
     ]
    },
    {
     "name": "stderr",
     "output_type": "stream",
     "text": [
      "locate patches: 0.04 seconds\n",
      "locate patches: 0.04 seconds\n"
     ]
    },
    {
     "name": "stdout",
     "output_type": "stream",
     "text": [
      " patches in ROI\n",
      "45808 roi samples\n",
      "46289 patches in ROI\n",
      "46289 roi samples\n",
      "46113"
     ]
    },
    {
     "name": "stderr",
     "output_type": "stream",
     "text": [
      "locate patches: 0.04 seconds\n",
      "locate patches: 0.04 seconds\n"
     ]
    },
    {
     "name": "stdout",
     "output_type": "stream",
     "text": [
      " patches in ROI\n",
      "46113 roi samples\n",
      "46601 patches in ROI\n",
      "46601 roi samples\n",
      "46876"
     ]
    },
    {
     "name": "stderr",
     "output_type": "stream",
     "text": [
      "locate patches: 0.05 seconds\n",
      "locate patches: 0.04 seconds\n"
     ]
    },
    {
     "name": "stdout",
     "output_type": "stream",
     "text": [
      " patches in ROI\n",
      "46876 roi samples\n",
      "47133 patches in ROI\n",
      "47133 roi samples\n",
      "47873"
     ]
    },
    {
     "name": "stderr",
     "output_type": "stream",
     "text": [
      "locate patches: 0.04 seconds\n",
      "locate patches: 0.04 seconds\n"
     ]
    },
    {
     "name": "stdout",
     "output_type": "stream",
     "text": [
      " patches in ROI\n",
      "47873 roi samples\n",
      "46690 patches in ROI\n",
      "46690 roi samples\n",
      "46296"
     ]
    },
    {
     "name": "stderr",
     "output_type": "stream",
     "text": [
      "locate patches: 0.04 seconds\n",
      "locate patches: 0.04 seconds\n"
     ]
    },
    {
     "name": "stdout",
     "output_type": "stream",
     "text": [
      " patches in ROI\n",
      "46296 roi samples\n",
      "47155 patches in ROI\n",
      "47155 roi samples\n",
      "47564"
     ]
    },
    {
     "name": "stderr",
     "output_type": "stream",
     "text": [
      "locate patches: 0.04 seconds\n",
      "locate patches: 0.04 seconds\n"
     ]
    },
    {
     "name": "stdout",
     "output_type": "stream",
     "text": [
      " patches in ROI\n",
      "47564 roi samples\n",
      "48377 patches in ROI\n",
      "48377 roi samples\n",
      "48112"
     ]
    },
    {
     "name": "stderr",
     "output_type": "stream",
     "text": [
      "locate patches: 0.04 seconds\n",
      "locate patches: 0.04 seconds\n"
     ]
    },
    {
     "name": "stdout",
     "output_type": "stream",
     "text": [
      " patches in ROI\n",
      "48112 roi samples\n",
      "48933 patches in ROI\n",
      "48933 roi samples\n",
      "49089"
     ]
    },
    {
     "name": "stderr",
     "output_type": "stream",
     "text": [
      "locate patches: 0.04 seconds\n",
      "locate patches: 0.03 seconds\n"
     ]
    },
    {
     "name": "stdout",
     "output_type": "stream",
     "text": [
      " patches in ROI\n",
      "49089 roi samples\n",
      "49401 patches in ROI\n",
      "49401 roi samples\n",
      "49434"
     ]
    },
    {
     "name": "stderr",
     "output_type": "stream",
     "text": [
      "locate patches: 0.04 seconds\n",
      "locate patches: 0.04 seconds\n"
     ]
    },
    {
     "name": "stdout",
     "output_type": "stream",
     "text": [
      " patches in ROI\n",
      "49434 roi samples\n",
      "49354 patches in ROI\n",
      "49354 roi samples\n",
      "49437"
     ]
    },
    {
     "name": "stderr",
     "output_type": "stream",
     "text": [
      "locate patches: 0.04 seconds\n",
      "locate patches: 0.04 seconds\n"
     ]
    },
    {
     "name": "stdout",
     "output_type": "stream",
     "text": [
      " patches in ROI\n",
      "49437 roi samples\n",
      "49469 patches in ROI\n",
      "49469 roi samples\n",
      "48180"
     ]
    },
    {
     "name": "stderr",
     "output_type": "stream",
     "text": [
      "locate patches: 0.04 seconds\n",
      "locate patches: 0.04 seconds\n"
     ]
    },
    {
     "name": "stdout",
     "output_type": "stream",
     "text": [
      " patches in ROI\n",
      "48180 roi samples\n",
      "48407 patches in ROI\n",
      "48407 roi samples\n",
      "50271"
     ]
    },
    {
     "name": "stderr",
     "output_type": "stream",
     "text": [
      "locate patches: 0.04 seconds\n",
      "locate patches: 0.04 seconds\n"
     ]
    },
    {
     "name": "stdout",
     "output_type": "stream",
     "text": [
      " patches in ROI\n",
      "50271 roi samples\n",
      "50170 patches in ROI\n",
      "50170 roi samples\n",
      "49294"
     ]
    },
    {
     "name": "stderr",
     "output_type": "stream",
     "text": [
      "locate patches: 0.04 seconds\n",
      "locate patches: 0.04 seconds\n"
     ]
    },
    {
     "name": "stdout",
     "output_type": "stream",
     "text": [
      " patches in ROI\n",
      "49294 roi samples\n",
      "50371 patches in ROI\n",
      "50371 roi samples\n",
      "48439"
     ]
    },
    {
     "name": "stderr",
     "output_type": "stream",
     "text": [
      "locate patches: 0.04 seconds\n",
      "locate patches: 0.04 seconds\n"
     ]
    },
    {
     "name": "stdout",
     "output_type": "stream",
     "text": [
      " patches in ROI\n",
      "48439 roi samples\n",
      "48608 patches in ROI\n",
      "48608 roi samples\n",
      "49443"
     ]
    },
    {
     "name": "stderr",
     "output_type": "stream",
     "text": [
      "locate patches: 0.04 seconds\n",
      "locate patches: 0.03 seconds\n"
     ]
    },
    {
     "name": "stdout",
     "output_type": "stream",
     "text": [
      " patches in ROI\n",
      "49443 roi samples\n",
      "50181 patches in ROI\n",
      "50181 roi samples\n",
      "50278"
     ]
    },
    {
     "name": "stderr",
     "output_type": "stream",
     "text": [
      "locate patches: 0.03 seconds\n",
      "locate patches: 0.03 seconds\n"
     ]
    },
    {
     "name": "stdout",
     "output_type": "stream",
     "text": [
      " patches in ROI\n",
      "50278 roi samples\n",
      "48338 patches in ROI\n",
      "48338 roi samples\n",
      "49848"
     ]
    },
    {
     "name": "stderr",
     "output_type": "stream",
     "text": [
      "locate patches: 0.03 seconds\n",
      "locate patches: 0.03 seconds\n"
     ]
    },
    {
     "name": "stdout",
     "output_type": "stream",
     "text": [
      " patches in ROI\n",
      "49848 roi samples\n",
      "50282 patches in ROI\n",
      "50282 roi samples\n",
      "50081"
     ]
    },
    {
     "name": "stderr",
     "output_type": "stream",
     "text": [
      "locate patches: 0.03 seconds\n",
      "locate patches: 0.03 seconds\n"
     ]
    },
    {
     "name": "stdout",
     "output_type": "stream",
     "text": [
      " patches in ROI\n",
      "50081 roi samples\n",
      "51183 patches in ROI\n",
      "51183 roi samples\n",
      "50518"
     ]
    },
    {
     "name": "stderr",
     "output_type": "stream",
     "text": [
      "locate patches: 0.03 seconds\n",
      "locate patches: 0.03 seconds\n"
     ]
    },
    {
     "name": "stdout",
     "output_type": "stream",
     "text": [
      " patches in ROI\n",
      "50518 roi samples\n",
      "51181 patches in ROI\n",
      "51181 roi samples\n",
      "51396"
     ]
    },
    {
     "name": "stderr",
     "output_type": "stream",
     "text": [
      "locate patches: 0.03 seconds\n",
      "locate patches: 0.03 seconds\n"
     ]
    },
    {
     "name": "stdout",
     "output_type": "stream",
     "text": [
      " patches in ROI\n",
      "51396 roi samples\n",
      "51460 patches in ROI\n",
      "51460 roi samples\n",
      "50644"
     ]
    },
    {
     "name": "stderr",
     "output_type": "stream",
     "text": [
      "locate patches: 0.03 seconds\n",
      "locate patches: 0.03 seconds\n"
     ]
    },
    {
     "name": "stdout",
     "output_type": "stream",
     "text": [
      " patches in ROI\n",
      "50644 roi samples\n",
      "51595 patches in ROI\n",
      "51595 roi samples\n",
      "50659"
     ]
    },
    {
     "name": "stderr",
     "output_type": "stream",
     "text": [
      "locate patches: 0.03 seconds\n",
      "locate patches: 0.03 seconds\n"
     ]
    },
    {
     "name": "stdout",
     "output_type": "stream",
     "text": [
      " patches in ROI\n",
      "50659 roi samples\n",
      "51700 patches in ROI\n",
      "51700 roi samples\n",
      "51102"
     ]
    },
    {
     "name": "stderr",
     "output_type": "stream",
     "text": [
      "locate patches: 0.03 seconds\n",
      "locate patches: 0.03 seconds\n"
     ]
    },
    {
     "name": "stdout",
     "output_type": "stream",
     "text": [
      " patches in ROI\n",
      "51102 roi samples\n",
      "51086 patches in ROI\n",
      "51086 roi samples\n",
      "51510"
     ]
    },
    {
     "name": "stderr",
     "output_type": "stream",
     "text": [
      "locate patches: 0.03 seconds\n",
      "locate patches: 0.03 seconds\n"
     ]
    },
    {
     "name": "stdout",
     "output_type": "stream",
     "text": [
      " patches in ROI\n",
      "51510 roi samples\n",
      "51644 patches in ROI\n",
      "51644 roi samples\n",
      "50879"
     ]
    },
    {
     "name": "stderr",
     "output_type": "stream",
     "text": [
      "locate patches: 0.03 seconds\n",
      "locate patches: 0.03 seconds\n"
     ]
    },
    {
     "name": "stdout",
     "output_type": "stream",
     "text": [
      " patches in ROI\n",
      "50879 roi samples\n",
      "51975 patches in ROI\n",
      "51975 roi samples\n",
      "51066"
     ]
    },
    {
     "name": "stderr",
     "output_type": "stream",
     "text": [
      "locate patches: 0.03 seconds\n",
      "locate patches: 0.03 seconds\n"
     ]
    },
    {
     "name": "stdout",
     "output_type": "stream",
     "text": [
      " patches in ROI\n",
      "51066 roi samples\n",
      "50629 patches in ROI\n",
      "50629 roi samples\n",
      "51331"
     ]
    },
    {
     "name": "stderr",
     "output_type": "stream",
     "text": [
      "locate patches: 0.03 seconds\n",
      "locate patches: 0.03 seconds\n"
     ]
    },
    {
     "name": "stdout",
     "output_type": "stream",
     "text": [
      " patches in ROI\n",
      "51331 roi samples\n",
      "52130 patches in ROI\n",
      "52130 roi samples\n",
      "52032"
     ]
    },
    {
     "name": "stderr",
     "output_type": "stream",
     "text": [
      "locate patches: 0.03 seconds\n",
      "locate patches: 0.03 seconds\n"
     ]
    },
    {
     "name": "stdout",
     "output_type": "stream",
     "text": [
      " patches in ROI\n",
      "52032 roi samples\n",
      "52510 patches in ROI\n",
      "52510 roi samples\n",
      "51463"
     ]
    },
    {
     "name": "stderr",
     "output_type": "stream",
     "text": [
      "locate patches: 0.03 seconds\n",
      "locate patches: 0.04 seconds\n"
     ]
    },
    {
     "name": "stdout",
     "output_type": "stream",
     "text": [
      " patches in ROI\n",
      "51463 roi samples\n",
      "51699 patches in ROI\n",
      "51699 roi samples\n",
      "52172"
     ]
    },
    {
     "name": "stderr",
     "output_type": "stream",
     "text": [
      "locate patches: 0.04 seconds\n",
      "locate patches: 0.04 seconds\n"
     ]
    },
    {
     "name": "stdout",
     "output_type": "stream",
     "text": [
      " patches in ROI\n",
      "52172 roi samples\n",
      "53222 patches in ROI\n",
      "53222 roi samples\n",
      "51960"
     ]
    },
    {
     "name": "stderr",
     "output_type": "stream",
     "text": [
      "locate patches: 0.04 seconds\n",
      "locate patches: 0.04 seconds\n"
     ]
    },
    {
     "name": "stdout",
     "output_type": "stream",
     "text": [
      " patches in ROI\n",
      "51960 roi samples\n",
      "51876 patches in ROI\n",
      "51876 roi samples\n",
      "51575"
     ]
    },
    {
     "name": "stderr",
     "output_type": "stream",
     "text": [
      "locate patches: 0.04 seconds\n",
      "locate patches: 0.03 seconds\n"
     ]
    },
    {
     "name": "stdout",
     "output_type": "stream",
     "text": [
      " patches in ROI\n",
      "51575 roi samples\n",
      "50844 patches in ROI\n",
      "50844 roi samples\n",
      "51690"
     ]
    },
    {
     "name": "stderr",
     "output_type": "stream",
     "text": [
      "locate patches: 0.03 seconds\n",
      "locate patches: 0.03 seconds\n"
     ]
    },
    {
     "name": "stdout",
     "output_type": "stream",
     "text": [
      " patches in ROI\n",
      "51690 roi samples\n",
      "52080 patches in ROI\n",
      "52080 roi samples\n",
      "51766"
     ]
    },
    {
     "name": "stderr",
     "output_type": "stream",
     "text": [
      "locate patches: 0.03 seconds\n",
      "locate patches: 0.03 seconds\n"
     ]
    },
    {
     "name": "stdout",
     "output_type": "stream",
     "text": [
      " patches in ROI\n",
      "51766 roi samples\n",
      "52735 patches in ROI\n",
      "52735 roi samples\n",
      "52221"
     ]
    },
    {
     "name": "stderr",
     "output_type": "stream",
     "text": [
      "locate patches: 0.03 seconds\n",
      "locate patches: 0.03 seconds\n"
     ]
    },
    {
     "name": "stdout",
     "output_type": "stream",
     "text": [
      " patches in ROI\n",
      "52221 roi samples\n",
      "52009 patches in ROI\n",
      "52009 roi samples\n",
      "51158"
     ]
    },
    {
     "name": "stderr",
     "output_type": "stream",
     "text": [
      "locate patches: 0.03 seconds\n",
      "locate patches: 0.03 seconds\n"
     ]
    },
    {
     "name": "stdout",
     "output_type": "stream",
     "text": [
      " patches in ROI\n",
      "51158 roi samples\n",
      "52166 patches in ROI\n",
      "52166 roi samples\n",
      "51893"
     ]
    },
    {
     "name": "stderr",
     "output_type": "stream",
     "text": [
      "locate patches: 0.03 seconds\n",
      "locate patches: 0.04 seconds\n"
     ]
    },
    {
     "name": "stdout",
     "output_type": "stream",
     "text": [
      " patches in ROI\n",
      "51893 roi samples\n",
      "52010 patches in ROI\n",
      "52010 roi samples\n",
      "51825"
     ]
    },
    {
     "name": "stderr",
     "output_type": "stream",
     "text": [
      "locate patches: 0.04 seconds\n",
      "locate patches: 0.04 seconds\n"
     ]
    },
    {
     "name": "stdout",
     "output_type": "stream",
     "text": [
      " patches in ROI\n",
      "51825 roi samples\n",
      "50340 patches in ROI\n",
      "50340 roi samples\n",
      "51525"
     ]
    },
    {
     "name": "stderr",
     "output_type": "stream",
     "text": [
      "locate patches: 0.04 seconds\n",
      "locate patches: 0.04 seconds\n"
     ]
    },
    {
     "name": "stdout",
     "output_type": "stream",
     "text": [
      " patches in ROI\n",
      "51525 roi samples\n",
      "51030 patches in ROI\n",
      "51030 roi samples\n",
      "51587"
     ]
    },
    {
     "name": "stderr",
     "output_type": "stream",
     "text": [
      "locate patches: 0.04 seconds\n",
      "locate patches: 0.04 seconds\n"
     ]
    },
    {
     "name": "stdout",
     "output_type": "stream",
     "text": [
      " patches in ROI\n",
      "51587 roi samples\n",
      "52175 patches in ROI\n",
      "52175 roi samples\n",
      "50908"
     ]
    },
    {
     "name": "stderr",
     "output_type": "stream",
     "text": [
      "locate patches: 0.04 seconds\n",
      "locate patches: 0.03 seconds\n"
     ]
    },
    {
     "name": "stdout",
     "output_type": "stream",
     "text": [
      " patches in ROI\n",
      "50908 roi samples\n",
      "51841 patches in ROI\n",
      "51841 roi samples\n",
      "50691"
     ]
    },
    {
     "name": "stderr",
     "output_type": "stream",
     "text": [
      "locate patches: 0.04 seconds\n",
      "locate patches: 0.04 seconds\n"
     ]
    },
    {
     "name": "stdout",
     "output_type": "stream",
     "text": [
      " patches in ROI\n",
      "50691 roi samples\n",
      "50847 patches in ROI\n",
      "50847 roi samples\n",
      "50682"
     ]
    },
    {
     "name": "stderr",
     "output_type": "stream",
     "text": [
      "locate patches: 0.04 seconds\n",
      "locate patches: 0.04 seconds\n"
     ]
    },
    {
     "name": "stdout",
     "output_type": "stream",
     "text": [
      " patches in ROI\n",
      "50682 roi samples\n",
      "50569 patches in ROI\n",
      "50569 roi samples\n",
      "51507"
     ]
    },
    {
     "name": "stderr",
     "output_type": "stream",
     "text": [
      "locate patches: 0.04 seconds\n",
      "locate patches: 0.04 seconds\n"
     ]
    },
    {
     "name": "stdout",
     "output_type": "stream",
     "text": [
      " patches in ROI\n",
      "51507 roi samples\n",
      "51051 patches in ROI\n",
      "51051 roi samples\n",
      "49772"
     ]
    },
    {
     "name": "stderr",
     "output_type": "stream",
     "text": [
      "locate patches: 0.04 seconds\n",
      "locate patches: 0.04 seconds\n"
     ]
    },
    {
     "name": "stdout",
     "output_type": "stream",
     "text": [
      " patches in ROI\n",
      "49772 roi samples\n",
      "50736 patches in ROI\n",
      "50736 roi samples\n",
      "49425"
     ]
    },
    {
     "name": "stderr",
     "output_type": "stream",
     "text": [
      "locate patches: 0.04 seconds\n",
      "locate patches: 0.04 seconds\n"
     ]
    },
    {
     "name": "stdout",
     "output_type": "stream",
     "text": [
      " patches in ROI\n",
      "49425 roi samples\n",
      "49881 patches in ROI\n",
      "49881 roi samples\n",
      "48789"
     ]
    },
    {
     "name": "stderr",
     "output_type": "stream",
     "text": [
      "locate patches: 0.04 seconds\n",
      "locate patches: 0.04 seconds\n"
     ]
    },
    {
     "name": "stdout",
     "output_type": "stream",
     "text": [
      " patches in ROI\n",
      "48789 roi samples\n",
      "49020 patches in ROI\n",
      "49020 roi samples\n",
      "49108"
     ]
    },
    {
     "name": "stderr",
     "output_type": "stream",
     "text": [
      "locate patches: 0.04 seconds\n",
      "locate patches: 0.04 seconds\n"
     ]
    },
    {
     "name": "stdout",
     "output_type": "stream",
     "text": [
      " patches in ROI\n",
      "49108 roi samples\n",
      "48071 patches in ROI\n",
      "48071 roi samples\n",
      "48630"
     ]
    },
    {
     "name": "stderr",
     "output_type": "stream",
     "text": [
      "locate patches: 0.04 seconds\n",
      "locate patches: 0.04 seconds\n"
     ]
    },
    {
     "name": "stdout",
     "output_type": "stream",
     "text": [
      " patches in ROI\n",
      "48630 roi samples\n",
      "48760 patches in ROI\n",
      "48760 roi samples\n",
      "48769"
     ]
    },
    {
     "name": "stderr",
     "output_type": "stream",
     "text": [
      "locate patches: 0.04 seconds\n",
      "locate patches: 0.04 seconds\n"
     ]
    },
    {
     "name": "stdout",
     "output_type": "stream",
     "text": [
      " patches in ROI\n",
      "48769 roi samples\n",
      "47239 patches in ROI\n",
      "47239 roi samples\n",
      "46452"
     ]
    },
    {
     "name": "stderr",
     "output_type": "stream",
     "text": [
      "locate patches: 0.04 seconds\n",
      "locate patches: 0.04 seconds\n"
     ]
    },
    {
     "name": "stdout",
     "output_type": "stream",
     "text": [
      " patches in ROI\n",
      "46452 roi samples\n",
      "46181 patches in ROI\n",
      "46181 roi samples\n",
      "46241"
     ]
    },
    {
     "name": "stderr",
     "output_type": "stream",
     "text": [
      "locate patches: 0.04 seconds\n",
      "locate patches: 0.04 seconds\n"
     ]
    },
    {
     "name": "stdout",
     "output_type": "stream",
     "text": [
      " patches in ROI\n",
      "46241 roi samples\n",
      "46208 patches in ROI\n",
      "46208 roi samples\n",
      "43713"
     ]
    },
    {
     "name": "stderr",
     "output_type": "stream",
     "text": [
      "locate patches: 0.04 seconds\n",
      "locate patches: 0.04 seconds\n"
     ]
    },
    {
     "name": "stdout",
     "output_type": "stream",
     "text": [
      " patches in ROI\n",
      "43713 roi samples\n",
      "45709 patches in ROI\n",
      "45709 roi samples\n",
      "45404"
     ]
    },
    {
     "name": "stderr",
     "output_type": "stream",
     "text": [
      "locate patches: 0.04 seconds\n",
      "locate patches: 0.04 seconds\n"
     ]
    },
    {
     "name": "stdout",
     "output_type": "stream",
     "text": [
      " patches in ROI\n",
      "45404 roi samples\n",
      "44246 patches in ROI\n",
      "44246 roi samples\n",
      "42453"
     ]
    },
    {
     "name": "stderr",
     "output_type": "stream",
     "text": [
      "locate patches: 0.04 seconds\n",
      "locate patches: 0.04 seconds\n"
     ]
    },
    {
     "name": "stdout",
     "output_type": "stream",
     "text": [
      " patches in ROI\n",
      "42453 roi samples\n",
      "42432 patches in ROI\n",
      "42432 roi samples\n",
      "41853"
     ]
    },
    {
     "name": "stderr",
     "output_type": "stream",
     "text": [
      "locate patches: 0.04 seconds\n",
      "locate patches: 0.04 seconds\n"
     ]
    },
    {
     "name": "stdout",
     "output_type": "stream",
     "text": [
      " patches in ROI\n",
      "41853 roi samples\n",
      "42001 patches in ROI\n",
      "42001 roi samples\n",
      "41628"
     ]
    },
    {
     "name": "stderr",
     "output_type": "stream",
     "text": [
      "locate patches: 0.04 seconds\n",
      "locate patches: 0.04 seconds\n"
     ]
    },
    {
     "name": "stdout",
     "output_type": "stream",
     "text": [
      " patches in ROI\n",
      "41628 roi samples\n",
      "41320 patches in ROI\n",
      "41320 roi samples\n",
      "40452"
     ]
    },
    {
     "name": "stderr",
     "output_type": "stream",
     "text": [
      "locate patches: 0.04 seconds\n",
      "locate patches: 0.04 seconds\n"
     ]
    },
    {
     "name": "stdout",
     "output_type": "stream",
     "text": [
      " patches in ROI\n",
      "40452 roi samples\n",
      "40951 patches in ROI\n",
      "40951 roi samples\n",
      "40437"
     ]
    },
    {
     "name": "stderr",
     "output_type": "stream",
     "text": [
      "locate patches: 0.04 seconds\n",
      "locate patches: 0.04 seconds\n"
     ]
    },
    {
     "name": "stdout",
     "output_type": "stream",
     "text": [
      " patches in ROI\n",
      "40437 roi samples\n",
      "40922 patches in ROI\n",
      "40922 roi samples\n",
      "39801"
     ]
    },
    {
     "name": "stderr",
     "output_type": "stream",
     "text": [
      "locate patches: 0.04 seconds\n",
      "locate patches: 0.04 seconds\n"
     ]
    },
    {
     "name": "stdout",
     "output_type": "stream",
     "text": [
      " patches in ROI\n",
      "39801 roi samples\n",
      "40319 patches in ROI\n",
      "40319 roi samples\n",
      "39443"
     ]
    },
    {
     "name": "stderr",
     "output_type": "stream",
     "text": [
      "locate patches: 0.04 seconds\n",
      "locate patches: 0.04 seconds\n"
     ]
    },
    {
     "name": "stdout",
     "output_type": "stream",
     "text": [
      " patches in ROI\n",
      "39443 roi samples\n",
      "39551 patches in ROI\n",
      "39551 roi samples\n",
      "38680"
     ]
    },
    {
     "name": "stderr",
     "output_type": "stream",
     "text": [
      "locate patches: 0.04 seconds\n",
      "locate patches: 0.04 seconds\n"
     ]
    },
    {
     "name": "stdout",
     "output_type": "stream",
     "text": [
      " patches in ROI\n",
      "38680 roi samples\n",
      "39188 patches in ROI\n",
      "39188 roi samples\n",
      "38244"
     ]
    },
    {
     "name": "stderr",
     "output_type": "stream",
     "text": [
      "locate patches: 0.04 seconds\n",
      "locate patches: 0.04 seconds\n"
     ]
    },
    {
     "name": "stdout",
     "output_type": "stream",
     "text": [
      " patches in ROI\n",
      "38244 roi samples\n",
      "38111 patches in ROI\n",
      "38111 roi samples\n",
      "37829"
     ]
    },
    {
     "name": "stderr",
     "output_type": "stream",
     "text": [
      "locate patches: 0.04 seconds\n",
      "locate patches: 0.04 seconds\n"
     ]
    },
    {
     "name": "stdout",
     "output_type": "stream",
     "text": [
      " patches in ROI\n",
      "37829 roi samples\n",
      "37685 patches in ROI\n",
      "37685 roi samples\n",
      "37142"
     ]
    },
    {
     "name": "stderr",
     "output_type": "stream",
     "text": [
      "locate patches: 0.04 seconds\n",
      "locate patches: 0.04 seconds\n"
     ]
    },
    {
     "name": "stdout",
     "output_type": "stream",
     "text": [
      " patches in ROI\n",
      "37142 roi samples\n",
      "37488 patches in ROI\n",
      "37488 roi samples\n",
      "36699"
     ]
    },
    {
     "name": "stderr",
     "output_type": "stream",
     "text": [
      "locate patches: 0.03 seconds\n",
      "locate patches: 0.03 seconds\n"
     ]
    },
    {
     "name": "stdout",
     "output_type": "stream",
     "text": [
      " patches in ROI\n",
      "36699 roi samples\n",
      "36722 patches in ROI\n",
      "36722 roi samples\n",
      "36217"
     ]
    },
    {
     "name": "stderr",
     "output_type": "stream",
     "text": [
      "locate patches: 0.04 seconds\n",
      "locate patches: 0.03 seconds\n"
     ]
    },
    {
     "name": "stdout",
     "output_type": "stream",
     "text": [
      " patches in ROI\n",
      "36217 roi samples\n",
      "36166 patches in ROI\n",
      "36166 roi samples\n",
      "35004"
     ]
    },
    {
     "name": "stderr",
     "output_type": "stream",
     "text": [
      "locate patches: 0.03 seconds\n",
      "locate patches: 0.03 seconds\n"
     ]
    },
    {
     "name": "stdout",
     "output_type": "stream",
     "text": [
      " patches in ROI\n",
      "35004 roi samples\n",
      "36038 patches in ROI\n",
      "36038 roi samples\n",
      "35320"
     ]
    },
    {
     "name": "stderr",
     "output_type": "stream",
     "text": [
      "locate patches: 0.03 seconds\n",
      "locate patches: 0.03 seconds\n"
     ]
    },
    {
     "name": "stdout",
     "output_type": "stream",
     "text": [
      " patches in ROI\n",
      "35320 roi samples\n",
      "35161 patches in ROI\n",
      "35161 roi samples\n",
      "34921"
     ]
    },
    {
     "name": "stderr",
     "output_type": "stream",
     "text": [
      "locate patches: 0.03 seconds\n",
      "locate patches: 0.03 seconds\n"
     ]
    },
    {
     "name": "stdout",
     "output_type": "stream",
     "text": [
      " patches in ROI\n",
      "34921 roi samples\n",
      "34957 patches in ROI\n",
      "34957 roi samples\n",
      "34455"
     ]
    },
    {
     "name": "stderr",
     "output_type": "stream",
     "text": [
      "locate patches: 0.04 seconds\n",
      "locate patches: 0.04 seconds\n"
     ]
    },
    {
     "name": "stdout",
     "output_type": "stream",
     "text": [
      " patches in ROI\n",
      "34455 roi samples\n",
      "34786 patches in ROI\n",
      "34786 roi samples\n",
      "34282"
     ]
    },
    {
     "name": "stderr",
     "output_type": "stream",
     "text": [
      "locate patches: 0.04 seconds\n",
      "locate patches: 0.04 seconds\n"
     ]
    },
    {
     "name": "stdout",
     "output_type": "stream",
     "text": [
      " patches in ROI\n",
      "34282 roi samples\n",
      "33893 patches in ROI\n",
      "33893 roi samples\n",
      "33762"
     ]
    },
    {
     "name": "stderr",
     "output_type": "stream",
     "text": [
      "locate patches: 0.04 seconds\n",
      "locate patches: 0.04 seconds\n"
     ]
    },
    {
     "name": "stdout",
     "output_type": "stream",
     "text": [
      " patches in ROI\n",
      "33762 roi samples\n",
      "33967 patches in ROI\n",
      "33967 roi samples\n",
      "33429"
     ]
    },
    {
     "name": "stderr",
     "output_type": "stream",
     "text": [
      "locate patches: 0.04 seconds\n",
      "locate patches: 0.04 seconds\n"
     ]
    },
    {
     "name": "stdout",
     "output_type": "stream",
     "text": [
      " patches in ROI\n",
      "33429 roi samples\n",
      "33336 patches in ROI\n",
      "33336 roi samples\n",
      "33117"
     ]
    },
    {
     "name": "stderr",
     "output_type": "stream",
     "text": [
      "locate patches: 0.04 seconds\n",
      "locate patches: 0.04 seconds\n"
     ]
    },
    {
     "name": "stdout",
     "output_type": "stream",
     "text": [
      " patches in ROI\n",
      "33117 roi samples\n",
      "32936 patches in ROI\n",
      "32936 roi samples\n",
      "32725"
     ]
    },
    {
     "name": "stderr",
     "output_type": "stream",
     "text": [
      "locate patches: 0.04 seconds\n",
      "locate patches: 0.04 seconds\n"
     ]
    },
    {
     "name": "stdout",
     "output_type": "stream",
     "text": [
      " patches in ROI\n",
      "32725 roi samples\n",
      "32254 patches in ROI\n",
      "32254 roi samples\n",
      "32515"
     ]
    },
    {
     "name": "stderr",
     "output_type": "stream",
     "text": [
      "locate patches: 0.04 seconds\n",
      "locate patches: 0.04 seconds\n"
     ]
    },
    {
     "name": "stdout",
     "output_type": "stream",
     "text": [
      " patches in ROI\n",
      "32515 roi samples\n",
      "32036 patches in ROI\n",
      "32036 roi samples\n",
      "31889"
     ]
    },
    {
     "name": "stderr",
     "output_type": "stream",
     "text": [
      "locate patches: 0.03 seconds\n",
      "locate patches: 0.03 seconds\n"
     ]
    },
    {
     "name": "stdout",
     "output_type": "stream",
     "text": [
      " patches in ROI\n",
      "31889 roi samples\n",
      "31738 patches in ROI\n",
      "31738 roi samples\n",
      "31407"
     ]
    },
    {
     "name": "stderr",
     "output_type": "stream",
     "text": [
      "locate patches: 0.03 seconds\n",
      "locate patches: 0.03 seconds\n"
     ]
    },
    {
     "name": "stdout",
     "output_type": "stream",
     "text": [
      " patches in ROI\n",
      "31407 roi samples\n",
      "31360 patches in ROI\n",
      "31360 roi samples\n",
      "31070"
     ]
    },
    {
     "name": "stderr",
     "output_type": "stream",
     "text": [
      "locate patches: 0.03 seconds\n",
      "locate patches: 0.03 seconds\n"
     ]
    },
    {
     "name": "stdout",
     "output_type": "stream",
     "text": [
      " patches in ROI\n",
      "31070 roi samples\n",
      "31497 patches in ROI\n",
      "31497 roi samples\n",
      "30507"
     ]
    },
    {
     "name": "stderr",
     "output_type": "stream",
     "text": [
      "locate patches: 0.03 seconds\n",
      "locate patches: 0.03 seconds\n"
     ]
    },
    {
     "name": "stdout",
     "output_type": "stream",
     "text": [
      " patches in ROI\n",
      "30507 roi samples\n",
      "31012 patches in ROI\n",
      "31012 roi samples\n",
      "30517"
     ]
    },
    {
     "name": "stderr",
     "output_type": "stream",
     "text": [
      "locate patches: 0.03 seconds\n",
      "locate patches: 0.03 seconds\n"
     ]
    },
    {
     "name": "stdout",
     "output_type": "stream",
     "text": [
      " patches in ROI\n",
      "30517 roi samples\n",
      "30201 patches in ROI\n",
      "30201 roi samples\n",
      "29248"
     ]
    },
    {
     "name": "stderr",
     "output_type": "stream",
     "text": [
      "locate patches: 0.03 seconds\n",
      "locate patches: 0.04 seconds\n"
     ]
    },
    {
     "name": "stdout",
     "output_type": "stream",
     "text": [
      " patches in ROI\n",
      "29248 roi samples\n",
      "29880 patches in ROI\n",
      "29880 roi samples\n",
      "29096"
     ]
    },
    {
     "name": "stderr",
     "output_type": "stream",
     "text": [
      "locate patches: 0.04 seconds\n",
      "locate patches: 0.04 seconds\n"
     ]
    },
    {
     "name": "stdout",
     "output_type": "stream",
     "text": [
      " patches in ROI\n",
      "29096 roi samples\n",
      "29159 patches in ROI\n",
      "29159 roi samples\n",
      "28306"
     ]
    },
    {
     "name": "stderr",
     "output_type": "stream",
     "text": [
      "locate patches: 0.04 seconds\n",
      "locate patches: 0.04 seconds\n"
     ]
    },
    {
     "name": "stdout",
     "output_type": "stream",
     "text": [
      " patches in ROI\n",
      "28306 roi samples\n",
      "28363 patches in ROI\n",
      "28363 roi samples\n",
      "27716"
     ]
    },
    {
     "name": "stderr",
     "output_type": "stream",
     "text": [
      "locate patches: 0.04 seconds\n",
      "locate patches: 0.04 seconds\n"
     ]
    },
    {
     "name": "stdout",
     "output_type": "stream",
     "text": [
      " patches in ROI\n",
      "27716 roi samples\n",
      "28392 patches in ROI\n",
      "28392 roi samples\n",
      "27756"
     ]
    },
    {
     "name": "stderr",
     "output_type": "stream",
     "text": [
      "locate patches: 0.04 seconds\n",
      "locate patches: 0.04 seconds\n"
     ]
    },
    {
     "name": "stdout",
     "output_type": "stream",
     "text": [
      " patches in ROI\n",
      "27756 roi samples\n",
      "28007 patches in ROI\n",
      "28007 roi samples\n",
      "27532"
     ]
    },
    {
     "name": "stderr",
     "output_type": "stream",
     "text": [
      "locate patches: 0.04 seconds\n",
      "locate patches: 0.04 seconds\n"
     ]
    },
    {
     "name": "stdout",
     "output_type": "stream",
     "text": [
      " patches in ROI\n",
      "27532 roi samples\n",
      "27576 patches in ROI\n",
      "27576 roi samples\n",
      "27329"
     ]
    },
    {
     "name": "stderr",
     "output_type": "stream",
     "text": [
      "locate patches: 0.04 seconds\n",
      "locate patches: 0.03 seconds\n"
     ]
    },
    {
     "name": "stdout",
     "output_type": "stream",
     "text": [
      " patches in ROI\n",
      "27329 roi samples\n",
      "27576 patches in ROI\n",
      "27576 roi samples\n",
      "27565"
     ]
    },
    {
     "name": "stderr",
     "output_type": "stream",
     "text": [
      "locate patches: 0.03 seconds\n",
      "locate patches: 0.03 seconds\n"
     ]
    },
    {
     "name": "stdout",
     "output_type": "stream",
     "text": [
      " patches in ROI\n",
      "27565 roi samples\n",
      "27485 patches in ROI\n",
      "27485 roi samples\n",
      "27010"
     ]
    },
    {
     "name": "stderr",
     "output_type": "stream",
     "text": [
      "locate patches: 0.03 seconds\n",
      "locate patches: 0.03 seconds\n"
     ]
    },
    {
     "name": "stdout",
     "output_type": "stream",
     "text": [
      " patches in ROI\n",
      "27010 roi samples\n",
      "27506 patches in ROI\n",
      "27506 roi samples\n",
      "27396"
     ]
    },
    {
     "name": "stderr",
     "output_type": "stream",
     "text": [
      "locate patches: 0.03 seconds\n",
      "locate patches: 0.03 seconds\n"
     ]
    },
    {
     "name": "stdout",
     "output_type": "stream",
     "text": [
      " patches in ROI\n",
      "27396 roi samples\n",
      "27569 patches in ROI\n",
      "27569 roi samples\n",
      "27287"
     ]
    },
    {
     "name": "stderr",
     "output_type": "stream",
     "text": [
      "locate patches: 0.03 seconds\n",
      "locate patches: 0.03 seconds\n"
     ]
    },
    {
     "name": "stdout",
     "output_type": "stream",
     "text": [
      " patches in ROI\n",
      "27287 roi samples\n",
      "27338 patches in ROI\n",
      "27338 roi samples\n",
      "MD590\n",
      "25428"
     ]
    },
    {
     "name": "stderr",
     "output_type": "stream",
     "text": [
      "locate patches: 0.04 seconds\n",
      "locate patches: 0.05 seconds\n"
     ]
    },
    {
     "name": "stdout",
     "output_type": "stream",
     "text": [
      " patches in ROI\n",
      "25428 roi samples\n",
      "25449 patches in ROI\n",
      "25449 roi samples\n",
      "25786"
     ]
    },
    {
     "name": "stderr",
     "output_type": "stream",
     "text": [
      "locate patches: 0.05 seconds\n",
      "locate patches: 0.05 seconds\n"
     ]
    },
    {
     "name": "stdout",
     "output_type": "stream",
     "text": [
      " patches in ROI\n",
      "25786 roi samples\n",
      "25447 patches in ROI\n",
      "25447 roi samples\n",
      "25705"
     ]
    },
    {
     "name": "stderr",
     "output_type": "stream",
     "text": [
      "locate patches: 0.05 seconds\n",
      "locate patches: 0.05 seconds\n"
     ]
    },
    {
     "name": "stdout",
     "output_type": "stream",
     "text": [
      " patches in ROI\n",
      "25705 roi samples\n",
      "25699 patches in ROI\n",
      "25699 roi samples\n",
      "25814"
     ]
    },
    {
     "name": "stderr",
     "output_type": "stream",
     "text": [
      "locate patches: 0.05 seconds\n",
      "locate patches: 0.05 seconds\n"
     ]
    },
    {
     "name": "stdout",
     "output_type": "stream",
     "text": [
      " patches in ROI\n",
      "25814 roi samples\n",
      "25843 patches in ROI\n",
      "25843 roi samples\n",
      "25875"
     ]
    },
    {
     "name": "stderr",
     "output_type": "stream",
     "text": [
      "locate patches: 0.05 seconds\n",
      "locate patches: 0.05 seconds\n"
     ]
    },
    {
     "name": "stdout",
     "output_type": "stream",
     "text": [
      " patches in ROI\n",
      "25875 roi samples\n",
      "25626 patches in ROI\n",
      "25626 roi samples\n",
      "25649"
     ]
    },
    {
     "name": "stderr",
     "output_type": "stream",
     "text": [
      "locate patches: 0.05 seconds\n",
      "locate patches: 0.05 seconds\n"
     ]
    },
    {
     "name": "stdout",
     "output_type": "stream",
     "text": [
      " patches in ROI\n",
      "25649 roi samples\n",
      "26238 patches in ROI\n",
      "26238 roi samples\n",
      "27876"
     ]
    },
    {
     "name": "stderr",
     "output_type": "stream",
     "text": [
      "locate patches: 0.05 seconds\n",
      "locate patches: 0.05 seconds\n"
     ]
    },
    {
     "name": "stdout",
     "output_type": "stream",
     "text": [
      " patches in ROI\n",
      "27876 roi samples\n",
      "28071 patches in ROI\n",
      "28071 roi samples\n",
      "27999"
     ]
    },
    {
     "name": "stderr",
     "output_type": "stream",
     "text": [
      "locate patches: 0.05 seconds\n",
      "locate patches: 0.04 seconds\n"
     ]
    },
    {
     "name": "stdout",
     "output_type": "stream",
     "text": [
      " patches in ROI\n",
      "27999 roi samples\n",
      "28902 patches in ROI\n",
      "28902 roi samples\n",
      "28710"
     ]
    },
    {
     "name": "stderr",
     "output_type": "stream",
     "text": [
      "locate patches: 0.04 seconds\n",
      "locate patches: 0.04 seconds\n"
     ]
    },
    {
     "name": "stdout",
     "output_type": "stream",
     "text": [
      " patches in ROI\n",
      "28710 roi samples\n",
      "28967 patches in ROI\n",
      "28967 roi samples\n",
      "29244"
     ]
    },
    {
     "name": "stderr",
     "output_type": "stream",
     "text": [
      "locate patches: 0.05 seconds\n",
      "locate patches: 0.05 seconds\n"
     ]
    },
    {
     "name": "stdout",
     "output_type": "stream",
     "text": [
      " patches in ROI\n",
      "29244 roi samples\n",
      "29214 patches in ROI\n",
      "29214 roi samples\n",
      "29065"
     ]
    },
    {
     "name": "stderr",
     "output_type": "stream",
     "text": [
      "locate patches: 0.05 seconds\n",
      "locate patches: 0.05 seconds\n"
     ]
    },
    {
     "name": "stdout",
     "output_type": "stream",
     "text": [
      " patches in ROI\n",
      "29065 roi samples\n",
      "29094 patches in ROI\n",
      "29094 roi samples\n",
      "29428"
     ]
    },
    {
     "name": "stderr",
     "output_type": "stream",
     "text": [
      "locate patches: 0.05 seconds\n",
      "locate patches: 0.04 seconds\n"
     ]
    },
    {
     "name": "stdout",
     "output_type": "stream",
     "text": [
      " patches in ROI\n",
      "29428 roi samples\n",
      "29660 patches in ROI\n",
      "29660 roi samples\n",
      "29735"
     ]
    },
    {
     "name": "stderr",
     "output_type": "stream",
     "text": [
      "locate patches: 0.05 seconds\n",
      "locate patches: 0.05 seconds\n"
     ]
    },
    {
     "name": "stdout",
     "output_type": "stream",
     "text": [
      " patches in ROI\n",
      "29735 roi samples\n",
      "30292 patches in ROI\n",
      "30292 roi samples\n",
      "29984"
     ]
    },
    {
     "name": "stderr",
     "output_type": "stream",
     "text": [
      "locate patches: 0.05 seconds\n",
      "locate patches: 0.05 seconds\n"
     ]
    },
    {
     "name": "stdout",
     "output_type": "stream",
     "text": [
      " patches in ROI\n",
      "29984 roi samples\n",
      "30427 patches in ROI\n",
      "30427 roi samples\n",
      "29819"
     ]
    },
    {
     "name": "stderr",
     "output_type": "stream",
     "text": [
      "locate patches: 0.04 seconds\n",
      "locate patches: 0.05 seconds\n"
     ]
    },
    {
     "name": "stdout",
     "output_type": "stream",
     "text": [
      " patches in ROI\n",
      "29819 roi samples\n",
      "30056 patches in ROI\n",
      "30056 roi samples\n",
      "30227"
     ]
    },
    {
     "name": "stderr",
     "output_type": "stream",
     "text": [
      "locate patches: 0.05 seconds\n",
      "locate patches: 0.05 seconds\n"
     ]
    },
    {
     "name": "stdout",
     "output_type": "stream",
     "text": [
      " patches in ROI\n",
      "30227 roi samples\n",
      "30813 patches in ROI\n",
      "30813 roi samples\n",
      "30977"
     ]
    },
    {
     "name": "stderr",
     "output_type": "stream",
     "text": [
      "locate patches: 0.05 seconds\n",
      "locate patches: 0.05 seconds\n"
     ]
    },
    {
     "name": "stdout",
     "output_type": "stream",
     "text": [
      " patches in ROI\n",
      "30977 roi samples\n",
      "31280 patches in ROI\n",
      "31280 roi samples\n",
      "31301"
     ]
    },
    {
     "name": "stderr",
     "output_type": "stream",
     "text": [
      "locate patches: 0.05 seconds\n",
      "locate patches: 0.05 seconds\n"
     ]
    },
    {
     "name": "stdout",
     "output_type": "stream",
     "text": [
      " patches in ROI\n",
      "31301 roi samples\n",
      "31526 patches in ROI\n",
      "31526 roi samples\n",
      "31667"
     ]
    },
    {
     "name": "stderr",
     "output_type": "stream",
     "text": [
      "locate patches: 0.05 seconds\n",
      "locate patches: 0.05 seconds\n"
     ]
    },
    {
     "name": "stdout",
     "output_type": "stream",
     "text": [
      " patches in ROI\n",
      "31667 roi samples\n",
      "31959 patches in ROI\n",
      "31959 roi samples\n",
      "32417"
     ]
    },
    {
     "name": "stderr",
     "output_type": "stream",
     "text": [
      "locate patches: 0.05 seconds\n",
      "locate patches: 0.05 seconds\n"
     ]
    },
    {
     "name": "stdout",
     "output_type": "stream",
     "text": [
      " patches in ROI\n",
      "32417 roi samples\n",
      "32056 patches in ROI\n",
      "32056 roi samples\n",
      "32247"
     ]
    },
    {
     "name": "stderr",
     "output_type": "stream",
     "text": [
      "locate patches: 0.05 seconds\n",
      "locate patches: 0.05 seconds\n"
     ]
    },
    {
     "name": "stdout",
     "output_type": "stream",
     "text": [
      " patches in ROI\n",
      "32247 roi samples\n",
      "32078 patches in ROI\n",
      "32078 roi samples\n",
      "32815"
     ]
    },
    {
     "name": "stderr",
     "output_type": "stream",
     "text": [
      "locate patches: 0.05 seconds\n",
      "locate patches: 0.05 seconds\n"
     ]
    },
    {
     "name": "stdout",
     "output_type": "stream",
     "text": [
      " patches in ROI\n",
      "32815 roi samples\n",
      "33189 patches in ROI\n",
      "33189 roi samples\n",
      "33233"
     ]
    },
    {
     "name": "stderr",
     "output_type": "stream",
     "text": [
      "locate patches: 0.05 seconds\n",
      "locate patches: 0.05 seconds\n"
     ]
    },
    {
     "name": "stdout",
     "output_type": "stream",
     "text": [
      " patches in ROI\n",
      "33233 roi samples\n",
      "33783 patches in ROI\n",
      "33783 roi samples\n",
      "33681"
     ]
    },
    {
     "name": "stderr",
     "output_type": "stream",
     "text": [
      "locate patches: 0.05 seconds\n",
      "locate patches: 0.05 seconds\n"
     ]
    },
    {
     "name": "stdout",
     "output_type": "stream",
     "text": [
      " patches in ROI\n",
      "33681 roi samples\n",
      "34330 patches in ROI\n",
      "34330 roi samples\n",
      "34323"
     ]
    },
    {
     "name": "stderr",
     "output_type": "stream",
     "text": [
      "locate patches: 0.05 seconds\n",
      "locate patches: 0.05 seconds\n"
     ]
    },
    {
     "name": "stdout",
     "output_type": "stream",
     "text": [
      " patches in ROI\n",
      "34323 roi samples\n",
      "34381 patches in ROI\n",
      "34381 roi samples\n",
      "34909"
     ]
    },
    {
     "name": "stderr",
     "output_type": "stream",
     "text": [
      "locate patches: 0.05 seconds\n",
      "locate patches: 0.05 seconds\n"
     ]
    },
    {
     "name": "stdout",
     "output_type": "stream",
     "text": [
      " patches in ROI\n",
      "34909 roi samples\n",
      "34990 patches in ROI\n",
      "34990 roi samples\n",
      "35408"
     ]
    },
    {
     "name": "stderr",
     "output_type": "stream",
     "text": [
      "locate patches: 0.05 seconds\n",
      "locate patches: 0.05 seconds\n"
     ]
    },
    {
     "name": "stdout",
     "output_type": "stream",
     "text": [
      " patches in ROI\n",
      "35408 roi samples\n",
      "35540 patches in ROI\n",
      "35540 roi samples\n",
      "36003"
     ]
    },
    {
     "name": "stderr",
     "output_type": "stream",
     "text": [
      "locate patches: 0.05 seconds\n",
      "locate patches: 0.05 seconds\n"
     ]
    },
    {
     "name": "stdout",
     "output_type": "stream",
     "text": [
      " patches in ROI\n",
      "36003 roi samples\n",
      "36092 patches in ROI\n",
      "36092 roi samples\n",
      "36738"
     ]
    },
    {
     "name": "stderr",
     "output_type": "stream",
     "text": [
      "locate patches: 0.05 seconds\n",
      "locate patches: 0.05 seconds\n"
     ]
    },
    {
     "name": "stdout",
     "output_type": "stream",
     "text": [
      " patches in ROI\n",
      "36738 roi samples\n",
      "37412 patches in ROI\n",
      "37412 roi samples\n",
      "38366"
     ]
    },
    {
     "name": "stderr",
     "output_type": "stream",
     "text": [
      "locate patches: 0.05 seconds\n",
      "locate patches: 0.05 seconds\n"
     ]
    },
    {
     "name": "stdout",
     "output_type": "stream",
     "text": [
      " patches in ROI\n",
      "38366 roi samples\n",
      "38717 patches in ROI\n",
      "38717 roi samples\n",
      "38864"
     ]
    },
    {
     "name": "stderr",
     "output_type": "stream",
     "text": [
      "locate patches: 0.05 seconds\n",
      "locate patches: 0.05 seconds\n"
     ]
    },
    {
     "name": "stdout",
     "output_type": "stream",
     "text": [
      " patches in ROI\n",
      "38864 roi samples\n",
      "39154 patches in ROI\n",
      "39154 roi samples\n",
      "39752"
     ]
    },
    {
     "name": "stderr",
     "output_type": "stream",
     "text": [
      "locate patches: 0.05 seconds\n",
      "locate patches: 0.05 seconds\n"
     ]
    },
    {
     "name": "stdout",
     "output_type": "stream",
     "text": [
      " patches in ROI\n",
      "39752 roi samples\n",
      "39928 patches in ROI\n",
      "39928 roi samples\n",
      "39613"
     ]
    },
    {
     "name": "stderr",
     "output_type": "stream",
     "text": [
      "locate patches: 0.05 seconds\n",
      "locate patches: 0.05 seconds\n"
     ]
    },
    {
     "name": "stdout",
     "output_type": "stream",
     "text": [
      " patches in ROI\n",
      "39613 roi samples\n",
      "40302 patches in ROI\n",
      "40302 roi samples\n",
      "41513"
     ]
    },
    {
     "name": "stderr",
     "output_type": "stream",
     "text": [
      "locate patches: 0.05 seconds\n",
      "locate patches: 0.05 seconds\n"
     ]
    },
    {
     "name": "stdout",
     "output_type": "stream",
     "text": [
      " patches in ROI\n",
      "41513 roi samples\n",
      "41261 patches in ROI\n",
      "41261 roi samples\n",
      "42036"
     ]
    },
    {
     "name": "stderr",
     "output_type": "stream",
     "text": [
      "locate patches: 0.05 seconds\n",
      "locate patches: 0.05 seconds\n"
     ]
    },
    {
     "name": "stdout",
     "output_type": "stream",
     "text": [
      " patches in ROI\n",
      "42036 roi samples\n",
      "42181 patches in ROI\n",
      "42181 roi samples\n",
      "42695"
     ]
    },
    {
     "name": "stderr",
     "output_type": "stream",
     "text": [
      "locate patches: 0.05 seconds\n",
      "locate patches: 0.05 seconds\n"
     ]
    },
    {
     "name": "stdout",
     "output_type": "stream",
     "text": [
      " patches in ROI\n",
      "42695 roi samples\n",
      "42719 patches in ROI\n",
      "42719 roi samples\n",
      "44492"
     ]
    },
    {
     "name": "stderr",
     "output_type": "stream",
     "text": [
      "locate patches: 0.05 seconds\n",
      "locate patches: 0.04 seconds\n"
     ]
    },
    {
     "name": "stdout",
     "output_type": "stream",
     "text": [
      " patches in ROI\n",
      "44492 roi samples\n",
      "45210 patches in ROI\n",
      "45210 roi samples\n",
      "45510"
     ]
    },
    {
     "name": "stderr",
     "output_type": "stream",
     "text": [
      "locate patches: 0.05 seconds\n",
      "locate patches: 0.05 seconds\n"
     ]
    },
    {
     "name": "stdout",
     "output_type": "stream",
     "text": [
      " patches in ROI\n",
      "45510 roi samples\n",
      "46247 patches in ROI\n",
      "46247 roi samples\n",
      "46216"
     ]
    },
    {
     "name": "stderr",
     "output_type": "stream",
     "text": [
      "locate patches: 0.05 seconds\n",
      "locate patches: 0.05 seconds\n"
     ]
    },
    {
     "name": "stdout",
     "output_type": "stream",
     "text": [
      " patches in ROI\n",
      "46216 roi samples\n",
      "47569 patches in ROI\n",
      "47569 roi samples\n",
      "46776"
     ]
    },
    {
     "name": "stderr",
     "output_type": "stream",
     "text": [
      "locate patches: 0.05 seconds\n",
      "locate patches: 0.05 seconds\n"
     ]
    },
    {
     "name": "stdout",
     "output_type": "stream",
     "text": [
      " patches in ROI\n",
      "46776 roi samples\n",
      "47445 patches in ROI\n",
      "47445 roi samples\n",
      "47500"
     ]
    },
    {
     "name": "stderr",
     "output_type": "stream",
     "text": [
      "locate patches: 0.05 seconds\n",
      "locate patches: 0.05 seconds\n"
     ]
    },
    {
     "name": "stdout",
     "output_type": "stream",
     "text": [
      " patches in ROI\n",
      "47500 roi samples\n",
      "47986 patches in ROI\n",
      "47986 roi samples\n",
      "47859"
     ]
    },
    {
     "name": "stderr",
     "output_type": "stream",
     "text": [
      "locate patches: 0.05 seconds\n",
      "locate patches: 0.05 seconds\n"
     ]
    },
    {
     "name": "stdout",
     "output_type": "stream",
     "text": [
      " patches in ROI\n",
      "47859 roi samples\n",
      "48591 patches in ROI\n",
      "48591 roi samples\n",
      "48409"
     ]
    },
    {
     "name": "stderr",
     "output_type": "stream",
     "text": [
      "locate patches: 0.05 seconds\n",
      "locate patches: 0.05 seconds\n"
     ]
    },
    {
     "name": "stdout",
     "output_type": "stream",
     "text": [
      " patches in ROI\n",
      "48409 roi samples\n",
      "49147 patches in ROI\n",
      "49147 roi samples\n",
      "48660"
     ]
    },
    {
     "name": "stderr",
     "output_type": "stream",
     "text": [
      "locate patches: 0.04 seconds\n",
      "locate patches: 0.04 seconds\n"
     ]
    },
    {
     "name": "stdout",
     "output_type": "stream",
     "text": [
      " patches in ROI\n",
      "48660 roi samples\n",
      "49221 patches in ROI\n",
      "49221 roi samples\n",
      "49136"
     ]
    },
    {
     "name": "stderr",
     "output_type": "stream",
     "text": [
      "locate patches: 0.05 seconds\n",
      "locate patches: 0.05 seconds\n"
     ]
    },
    {
     "name": "stdout",
     "output_type": "stream",
     "text": [
      " patches in ROI\n",
      "49136 roi samples\n",
      "49484 patches in ROI\n",
      "49484 roi samples\n",
      "49139"
     ]
    },
    {
     "name": "stderr",
     "output_type": "stream",
     "text": [
      "locate patches: 0.05 seconds\n",
      "locate patches: 0.05 seconds\n"
     ]
    },
    {
     "name": "stdout",
     "output_type": "stream",
     "text": [
      " patches in ROI\n",
      "49139 roi samples\n",
      "49997 patches in ROI\n",
      "49997 roi samples\n",
      "49625"
     ]
    },
    {
     "name": "stderr",
     "output_type": "stream",
     "text": [
      "locate patches: 0.05 seconds\n",
      "locate patches: 0.05 seconds\n"
     ]
    },
    {
     "name": "stdout",
     "output_type": "stream",
     "text": [
      " patches in ROI\n",
      "49625 roi samples\n",
      "50077 patches in ROI\n",
      "50077 roi samples\n",
      "49632"
     ]
    },
    {
     "name": "stderr",
     "output_type": "stream",
     "text": [
      "locate patches: 0.05 seconds\n",
      "locate patches: 0.05 seconds\n"
     ]
    },
    {
     "name": "stdout",
     "output_type": "stream",
     "text": [
      " patches in ROI\n",
      "49632 roi samples\n",
      "50322 patches in ROI\n",
      "50322 roi samples\n",
      "49891"
     ]
    },
    {
     "name": "stderr",
     "output_type": "stream",
     "text": [
      "locate patches: 0.05 seconds\n",
      "locate patches: 0.05 seconds\n"
     ]
    },
    {
     "name": "stdout",
     "output_type": "stream",
     "text": [
      " patches in ROI\n",
      "49891 roi samples\n",
      "50095 patches in ROI\n",
      "50095 roi samples\n",
      "49571"
     ]
    },
    {
     "name": "stderr",
     "output_type": "stream",
     "text": [
      "locate patches: 0.05 seconds\n",
      "locate patches: 0.05 seconds\n"
     ]
    },
    {
     "name": "stdout",
     "output_type": "stream",
     "text": [
      " patches in ROI\n",
      "49571 roi samples\n",
      "50056 patches in ROI\n",
      "50056 roi samples\n",
      "49357"
     ]
    },
    {
     "name": "stderr",
     "output_type": "stream",
     "text": [
      "locate patches: 0.05 seconds\n",
      "locate patches: 0.05 seconds\n"
     ]
    },
    {
     "name": "stdout",
     "output_type": "stream",
     "text": [
      " patches in ROI\n",
      "49357 roi samples\n",
      "49923 patches in ROI\n",
      "49923 roi samples\n",
      "49334"
     ]
    },
    {
     "name": "stderr",
     "output_type": "stream",
     "text": [
      "locate patches: 0.05 seconds\n",
      "locate patches: 0.05 seconds\n"
     ]
    },
    {
     "name": "stdout",
     "output_type": "stream",
     "text": [
      " patches in ROI\n",
      "49334 roi samples\n",
      "49842 patches in ROI\n",
      "49842 roi samples\n",
      "49595"
     ]
    },
    {
     "name": "stderr",
     "output_type": "stream",
     "text": [
      "locate patches: 0.05 seconds\n",
      "locate patches: 0.05 seconds\n"
     ]
    },
    {
     "name": "stdout",
     "output_type": "stream",
     "text": [
      " patches in ROI\n",
      "49595 roi samples\n",
      "49929 patches in ROI\n",
      "49929 roi samples\n",
      "49461"
     ]
    },
    {
     "name": "stderr",
     "output_type": "stream",
     "text": [
      "locate patches: 0.05 seconds\n",
      "locate patches: 0.05 seconds\n"
     ]
    },
    {
     "name": "stdout",
     "output_type": "stream",
     "text": [
      " patches in ROI\n",
      "49461 roi samples\n",
      "50006 patches in ROI\n",
      "50006 roi samples\n",
      "49796"
     ]
    },
    {
     "name": "stderr",
     "output_type": "stream",
     "text": [
      "locate patches: 0.05 seconds\n",
      "locate patches: 0.05 seconds\n"
     ]
    },
    {
     "name": "stdout",
     "output_type": "stream",
     "text": [
      " patches in ROI\n",
      "49796 roi samples\n",
      "50130 patches in ROI\n",
      "50130 roi samples\n",
      "50483"
     ]
    },
    {
     "name": "stderr",
     "output_type": "stream",
     "text": [
      "locate patches: 0.05 seconds\n",
      "locate patches: 0.05 seconds\n"
     ]
    },
    {
     "name": "stdout",
     "output_type": "stream",
     "text": [
      " patches in ROI\n",
      "50483 roi samples\n",
      "49975 patches in ROI\n",
      "49975 roi samples\n",
      "50265"
     ]
    },
    {
     "name": "stderr",
     "output_type": "stream",
     "text": [
      "locate patches: 0.05 seconds\n",
      "locate patches: 0.05 seconds\n"
     ]
    },
    {
     "name": "stdout",
     "output_type": "stream",
     "text": [
      " patches in ROI\n",
      "50265 roi samples\n",
      "50433 patches in ROI\n",
      "50433 roi samples\n",
      "49852"
     ]
    },
    {
     "name": "stderr",
     "output_type": "stream",
     "text": [
      "locate patches: 0.05 seconds\n",
      "locate patches: 0.05 seconds\n"
     ]
    },
    {
     "name": "stdout",
     "output_type": "stream",
     "text": [
      " patches in ROI\n",
      "49852 roi samples\n",
      "50173 patches in ROI\n",
      "50173 roi samples\n",
      "50116"
     ]
    },
    {
     "name": "stderr",
     "output_type": "stream",
     "text": [
      "locate patches: 0.05 seconds\n",
      "locate patches: 0.05 seconds\n"
     ]
    },
    {
     "name": "stdout",
     "output_type": "stream",
     "text": [
      " patches in ROI\n",
      "50116 roi samples\n",
      "50114 patches in ROI\n",
      "50114 roi samples\n",
      "49360"
     ]
    },
    {
     "name": "stderr",
     "output_type": "stream",
     "text": [
      "locate patches: 0.05 seconds\n",
      "locate patches: 0.05 seconds\n"
     ]
    },
    {
     "name": "stdout",
     "output_type": "stream",
     "text": [
      " patches in ROI\n",
      "49360 roi samples\n",
      "50118 patches in ROI\n",
      "50118 roi samples\n",
      "49448"
     ]
    },
    {
     "name": "stderr",
     "output_type": "stream",
     "text": [
      "locate patches: 0.05 seconds\n",
      "locate patches: 0.05 seconds\n"
     ]
    },
    {
     "name": "stdout",
     "output_type": "stream",
     "text": [
      " patches in ROI\n",
      "49448 roi samples\n",
      "49668 patches in ROI\n",
      "49668 roi samples\n",
      "47514"
     ]
    },
    {
     "name": "stderr",
     "output_type": "stream",
     "text": [
      "locate patches: 0.05 seconds\n",
      "locate patches: 0.05 seconds\n"
     ]
    },
    {
     "name": "stdout",
     "output_type": "stream",
     "text": [
      " patches in ROI\n",
      "47514 roi samples\n",
      "49303 patches in ROI\n",
      "49303 roi samples\n",
      "46773"
     ]
    },
    {
     "name": "stderr",
     "output_type": "stream",
     "text": [
      "locate patches: 0.05 seconds\n",
      "locate patches: 0.05 seconds\n"
     ]
    },
    {
     "name": "stdout",
     "output_type": "stream",
     "text": [
      " patches in ROI\n",
      "46773 roi samples\n",
      "49056 patches in ROI\n",
      "49056 roi samples\n",
      "47556"
     ]
    },
    {
     "name": "stderr",
     "output_type": "stream",
     "text": [
      "locate patches: 0.05 seconds\n",
      "locate patches: 0.05 seconds\n"
     ]
    },
    {
     "name": "stdout",
     "output_type": "stream",
     "text": [
      " patches in ROI\n",
      "47556 roi samples\n",
      "49461 patches in ROI\n",
      "49461 roi samples\n",
      "47081"
     ]
    },
    {
     "name": "stderr",
     "output_type": "stream",
     "text": [
      "locate patches: 0.05 seconds\n",
      "locate patches: 0.05 seconds\n"
     ]
    },
    {
     "name": "stdout",
     "output_type": "stream",
     "text": [
      " patches in ROI\n",
      "47081 roi samples\n",
      "49098 patches in ROI\n",
      "49098 roi samples\n",
      "48638"
     ]
    },
    {
     "name": "stderr",
     "output_type": "stream",
     "text": [
      "locate patches: 0.05 seconds\n",
      "locate patches: 0.05 seconds\n"
     ]
    },
    {
     "name": "stdout",
     "output_type": "stream",
     "text": [
      " patches in ROI\n",
      "48638 roi samples\n",
      "49003 patches in ROI\n",
      "49003 roi samples\n",
      "48373"
     ]
    },
    {
     "name": "stderr",
     "output_type": "stream",
     "text": [
      "locate patches: 0.05 seconds\n",
      "locate patches: 0.05 seconds\n"
     ]
    },
    {
     "name": "stdout",
     "output_type": "stream",
     "text": [
      " patches in ROI\n",
      "48373 roi samples\n",
      "48658 patches in ROI\n",
      "48658 roi samples\n",
      "48051"
     ]
    },
    {
     "name": "stderr",
     "output_type": "stream",
     "text": [
      "locate patches: 0.05 seconds\n",
      "locate patches: 0.05 seconds\n"
     ]
    },
    {
     "name": "stdout",
     "output_type": "stream",
     "text": [
      " patches in ROI\n",
      "48051 roi samples\n",
      "48830 patches in ROI\n",
      "48830 roi samples\n",
      "48101"
     ]
    },
    {
     "name": "stderr",
     "output_type": "stream",
     "text": [
      "locate patches: 0.05 seconds\n",
      "locate patches: 0.05 seconds\n"
     ]
    },
    {
     "name": "stdout",
     "output_type": "stream",
     "text": [
      " patches in ROI\n",
      "48101 roi samples\n",
      "48412 patches in ROI\n",
      "48412 roi samples\n",
      "48091"
     ]
    },
    {
     "name": "stderr",
     "output_type": "stream",
     "text": [
      "locate patches: 0.05 seconds\n",
      "locate patches: 0.05 seconds\n"
     ]
    },
    {
     "name": "stdout",
     "output_type": "stream",
     "text": [
      " patches in ROI\n",
      "48091 roi samples\n",
      "48231 patches in ROI\n",
      "48231 roi samples\n",
      "48127"
     ]
    },
    {
     "name": "stderr",
     "output_type": "stream",
     "text": [
      "locate patches: 0.05 seconds\n",
      "locate patches: 0.05 seconds\n"
     ]
    },
    {
     "name": "stdout",
     "output_type": "stream",
     "text": [
      " patches in ROI\n",
      "48127 roi samples\n",
      "48295 patches in ROI\n",
      "48295 roi samples\n",
      "48321"
     ]
    },
    {
     "name": "stderr",
     "output_type": "stream",
     "text": [
      "locate patches: 0.05 seconds\n",
      "locate patches: 0.05 seconds\n"
     ]
    },
    {
     "name": "stdout",
     "output_type": "stream",
     "text": [
      " patches in ROI\n",
      "48321 roi samples\n",
      "48276 patches in ROI\n",
      "48276 roi samples\n",
      "48595"
     ]
    },
    {
     "name": "stderr",
     "output_type": "stream",
     "text": [
      "locate patches: 0.05 seconds\n",
      "locate patches: 0.05 seconds\n"
     ]
    },
    {
     "name": "stdout",
     "output_type": "stream",
     "text": [
      " patches in ROI\n",
      "48595 roi samples\n",
      "48271 patches in ROI\n",
      "48271 roi samples\n",
      "48066"
     ]
    },
    {
     "name": "stderr",
     "output_type": "stream",
     "text": [
      "locate patches: 0.05 seconds\n",
      "locate patches: 0.05 seconds\n"
     ]
    },
    {
     "name": "stdout",
     "output_type": "stream",
     "text": [
      " patches in ROI\n",
      "48066 roi samples\n",
      "47725 patches in ROI\n",
      "47725 roi samples\n",
      "47847"
     ]
    },
    {
     "name": "stderr",
     "output_type": "stream",
     "text": [
      "locate patches: 0.05 seconds\n",
      "locate patches: 0.05 seconds\n"
     ]
    },
    {
     "name": "stdout",
     "output_type": "stream",
     "text": [
      " patches in ROI\n",
      "47847 roi samples\n",
      "47808 patches in ROI\n",
      "47808 roi samples\n",
      "47799"
     ]
    },
    {
     "name": "stderr",
     "output_type": "stream",
     "text": [
      "locate patches: 0.05 seconds\n",
      "locate patches: 0.05 seconds\n"
     ]
    },
    {
     "name": "stdout",
     "output_type": "stream",
     "text": [
      " patches in ROI\n",
      "47799 roi samples\n",
      "47669 patches in ROI\n",
      "47669 roi samples\n",
      "48083"
     ]
    },
    {
     "name": "stderr",
     "output_type": "stream",
     "text": [
      "locate patches: 0.05 seconds\n",
      "locate patches: 0.05 seconds\n"
     ]
    },
    {
     "name": "stdout",
     "output_type": "stream",
     "text": [
      " patches in ROI\n",
      "48083 roi samples\n",
      "47092 patches in ROI\n",
      "47092 roi samples\n",
      "47349"
     ]
    },
    {
     "name": "stderr",
     "output_type": "stream",
     "text": [
      "locate patches: 0.05 seconds\n",
      "locate patches: 0.05 seconds\n"
     ]
    },
    {
     "name": "stdout",
     "output_type": "stream",
     "text": [
      " patches in ROI\n",
      "47349 roi samples\n",
      "47349 patches in ROI\n",
      "47349 roi samples\n",
      "47576"
     ]
    },
    {
     "name": "stderr",
     "output_type": "stream",
     "text": [
      "locate patches: 0.05 seconds\n",
      "locate patches: 0.05 seconds\n"
     ]
    },
    {
     "name": "stdout",
     "output_type": "stream",
     "text": [
      " patches in ROI\n",
      "47576 roi samples\n",
      "46737 patches in ROI\n",
      "46737 roi samples\n",
      "47922"
     ]
    },
    {
     "name": "stderr",
     "output_type": "stream",
     "text": [
      "locate patches: 0.05 seconds\n",
      "locate patches: 0.05 seconds\n"
     ]
    },
    {
     "name": "stdout",
     "output_type": "stream",
     "text": [
      " patches in ROI\n",
      "47922 roi samples\n",
      "46875 patches in ROI\n",
      "46875 roi samples\n",
      "47161"
     ]
    },
    {
     "name": "stderr",
     "output_type": "stream",
     "text": [
      "locate patches: 0.05 seconds\n",
      "locate patches: 0.05 seconds\n"
     ]
    },
    {
     "name": "stdout",
     "output_type": "stream",
     "text": [
      " patches in ROI\n",
      "47161 roi samples\n",
      "46282 patches in ROI\n",
      "46282 roi samples\n",
      "46642"
     ]
    },
    {
     "name": "stderr",
     "output_type": "stream",
     "text": [
      "locate patches: 0.05 seconds\n",
      "locate patches: 0.05 seconds\n"
     ]
    },
    {
     "name": "stdout",
     "output_type": "stream",
     "text": [
      " patches in ROI\n",
      "46642 roi samples\n",
      "46303 patches in ROI\n",
      "46303 roi samples\n",
      "45861"
     ]
    },
    {
     "name": "stderr",
     "output_type": "stream",
     "text": [
      "locate patches: 0.05 seconds\n",
      "locate patches: 0.05 seconds\n"
     ]
    },
    {
     "name": "stdout",
     "output_type": "stream",
     "text": [
      " patches in ROI\n",
      "45861 roi samples\n",
      "45263 patches in ROI\n",
      "45263 roi samples\n",
      "43974"
     ]
    },
    {
     "name": "stderr",
     "output_type": "stream",
     "text": [
      "locate patches: 0.05 seconds\n",
      "locate patches: 0.05 seconds\n"
     ]
    },
    {
     "name": "stdout",
     "output_type": "stream",
     "text": [
      " patches in ROI\n",
      "43974 roi samples\n",
      "44070 patches in ROI\n",
      "44070 roi samples\n",
      "44952"
     ]
    },
    {
     "name": "stderr",
     "output_type": "stream",
     "text": [
      "locate patches: 0.05 seconds\n",
      "locate patches: 0.05 seconds\n"
     ]
    },
    {
     "name": "stdout",
     "output_type": "stream",
     "text": [
      " patches in ROI\n",
      "44952 roi samples\n",
      "43601 patches in ROI\n",
      "43601 roi samples\n",
      "43503"
     ]
    },
    {
     "name": "stderr",
     "output_type": "stream",
     "text": [
      "locate patches: 0.05 seconds\n",
      "locate patches: 0.05 seconds\n"
     ]
    },
    {
     "name": "stdout",
     "output_type": "stream",
     "text": [
      " patches in ROI\n",
      "43503 roi samples\n",
      "42968 patches in ROI\n",
      "42968 roi samples\n",
      "42839"
     ]
    },
    {
     "name": "stderr",
     "output_type": "stream",
     "text": [
      "locate patches: 0.05 seconds\n",
      "locate patches: 0.05 seconds\n"
     ]
    },
    {
     "name": "stdout",
     "output_type": "stream",
     "text": [
      " patches in ROI\n",
      "42839 roi samples\n",
      "42775 patches in ROI\n",
      "42775 roi samples\n",
      "42356"
     ]
    },
    {
     "name": "stderr",
     "output_type": "stream",
     "text": [
      "locate patches: 0.05 seconds\n",
      "locate patches: 0.05 seconds\n"
     ]
    },
    {
     "name": "stdout",
     "output_type": "stream",
     "text": [
      " patches in ROI\n",
      "42356 roi samples\n",
      "42471 patches in ROI\n",
      "42471 roi samples\n",
      "41872"
     ]
    },
    {
     "name": "stderr",
     "output_type": "stream",
     "text": [
      "locate patches: 0.05 seconds\n",
      "locate patches: 0.05 seconds\n"
     ]
    },
    {
     "name": "stdout",
     "output_type": "stream",
     "text": [
      " patches in ROI\n",
      "41872 roi samples\n",
      "42243 patches in ROI\n",
      "42243 roi samples\n",
      "41388"
     ]
    },
    {
     "name": "stderr",
     "output_type": "stream",
     "text": [
      "locate patches: 0.05 seconds\n",
      "locate patches: 0.05 seconds\n"
     ]
    },
    {
     "name": "stdout",
     "output_type": "stream",
     "text": [
      " patches in ROI\n",
      "41388 roi samples\n",
      "41188 patches in ROI\n",
      "41188 roi samples\n",
      "39969"
     ]
    },
    {
     "name": "stderr",
     "output_type": "stream",
     "text": [
      "locate patches: 0.05 seconds\n",
      "locate patches: 0.05 seconds\n"
     ]
    },
    {
     "name": "stdout",
     "output_type": "stream",
     "text": [
      " patches in ROI\n",
      "39969 roi samples\n",
      "40182 patches in ROI\n",
      "40182 roi samples\n",
      "39752"
     ]
    },
    {
     "name": "stderr",
     "output_type": "stream",
     "text": [
      "locate patches: 0.05 seconds\n",
      "locate patches: 0.05 seconds\n"
     ]
    },
    {
     "name": "stdout",
     "output_type": "stream",
     "text": [
      " patches in ROI\n",
      "39752 roi samples\n",
      "39767 patches in ROI\n",
      "39767 roi samples\n",
      "39225"
     ]
    },
    {
     "name": "stderr",
     "output_type": "stream",
     "text": [
      "locate patches: 0.05 seconds\n",
      "locate patches: 0.05 seconds\n"
     ]
    },
    {
     "name": "stdout",
     "output_type": "stream",
     "text": [
      " patches in ROI\n",
      "39225 roi samples\n",
      "39159 patches in ROI\n",
      "39159 roi samples\n",
      "39108"
     ]
    },
    {
     "name": "stderr",
     "output_type": "stream",
     "text": [
      "locate patches: 0.05 seconds\n",
      "locate patches: 0.05 seconds\n"
     ]
    },
    {
     "name": "stdout",
     "output_type": "stream",
     "text": [
      " patches in ROI\n",
      "39108 roi samples\n",
      "38644 patches in ROI\n",
      "38644 roi samples\n",
      "38570"
     ]
    },
    {
     "name": "stderr",
     "output_type": "stream",
     "text": [
      "locate patches: 0.05 seconds\n",
      "locate patches: 0.05 seconds\n"
     ]
    },
    {
     "name": "stdout",
     "output_type": "stream",
     "text": [
      " patches in ROI\n",
      "38570 roi samples\n",
      "38147 patches in ROI\n",
      "38147 roi samples\n",
      "37458"
     ]
    },
    {
     "name": "stderr",
     "output_type": "stream",
     "text": [
      "locate patches: 0.05 seconds\n",
      "locate patches: 0.05 seconds\n"
     ]
    },
    {
     "name": "stdout",
     "output_type": "stream",
     "text": [
      " patches in ROI\n",
      "37458 roi samples\n",
      "36741 patches in ROI\n",
      "36741 roi samples\n",
      "36367"
     ]
    },
    {
     "name": "stderr",
     "output_type": "stream",
     "text": [
      "locate patches: 0.05 seconds\n",
      "locate patches: 0.05 seconds\n"
     ]
    },
    {
     "name": "stdout",
     "output_type": "stream",
     "text": [
      " patches in ROI\n",
      "36367 roi samples\n",
      "36381 patches in ROI\n",
      "36381 roi samples\n",
      "35933"
     ]
    },
    {
     "name": "stderr",
     "output_type": "stream",
     "text": [
      "locate patches: 0.05 seconds\n",
      "locate patches: 0.05 seconds\n"
     ]
    },
    {
     "name": "stdout",
     "output_type": "stream",
     "text": [
      " patches in ROI\n",
      "35933 roi samples\n",
      "35599 patches in ROI\n",
      "35599 roi samples\n",
      "35563"
     ]
    },
    {
     "name": "stderr",
     "output_type": "stream",
     "text": [
      "locate patches: 0.05 seconds\n",
      "locate patches: 0.05 seconds\n"
     ]
    },
    {
     "name": "stdout",
     "output_type": "stream",
     "text": [
      " patches in ROI\n",
      "35563 roi samples\n",
      "35525 patches in ROI\n",
      "35525 roi samples\n",
      "35068"
     ]
    },
    {
     "name": "stderr",
     "output_type": "stream",
     "text": [
      "locate patches: 0.05 seconds\n",
      "locate patches: 0.05 seconds\n"
     ]
    },
    {
     "name": "stdout",
     "output_type": "stream",
     "text": [
      " patches in ROI\n",
      "35068 roi samples\n",
      "34971 patches in ROI\n",
      "34971 roi samples\n",
      "33931"
     ]
    },
    {
     "name": "stderr",
     "output_type": "stream",
     "text": [
      "locate patches: 0.05 seconds\n",
      "locate patches: 0.05 seconds\n"
     ]
    },
    {
     "name": "stdout",
     "output_type": "stream",
     "text": [
      " patches in ROI\n",
      "33931 roi samples\n",
      "34013 patches in ROI\n",
      "34013 roi samples\n",
      "34076"
     ]
    },
    {
     "name": "stderr",
     "output_type": "stream",
     "text": [
      "locate patches: 0.05 seconds\n",
      "locate patches: 0.05 seconds\n"
     ]
    },
    {
     "name": "stdout",
     "output_type": "stream",
     "text": [
      " patches in ROI\n",
      "34076 roi samples\n",
      "33990 patches in ROI\n",
      "33990 roi samples\n",
      "33579"
     ]
    },
    {
     "name": "stderr",
     "output_type": "stream",
     "text": [
      "locate patches: 0.05 seconds\n",
      "locate patches: 0.05 seconds\n"
     ]
    },
    {
     "name": "stdout",
     "output_type": "stream",
     "text": [
      " patches in ROI\n",
      "33579 roi samples\n",
      "33371 patches in ROI\n",
      "33371 roi samples\n",
      "33793"
     ]
    },
    {
     "name": "stderr",
     "output_type": "stream",
     "text": [
      "locate patches: 0.05 seconds\n",
      "locate patches: 0.05 seconds\n"
     ]
    },
    {
     "name": "stdout",
     "output_type": "stream",
     "text": [
      " patches in ROI\n",
      "33793 roi samples\n",
      "32745 patches in ROI\n",
      "32745 roi samples\n",
      "32112"
     ]
    },
    {
     "name": "stderr",
     "output_type": "stream",
     "text": [
      "locate patches: 0.05 seconds\n",
      "locate patches: 0.05 seconds\n"
     ]
    },
    {
     "name": "stdout",
     "output_type": "stream",
     "text": [
      " patches in ROI\n",
      "32112 roi samples\n",
      "32444 patches in ROI\n",
      "32444 roi samples\n",
      "31742"
     ]
    },
    {
     "name": "stderr",
     "output_type": "stream",
     "text": [
      "locate patches: 0.05 seconds\n",
      "locate patches: 0.05 seconds\n"
     ]
    },
    {
     "name": "stdout",
     "output_type": "stream",
     "text": [
      " patches in ROI\n",
      "31742 roi samples\n",
      "31731 patches in ROI\n",
      "31731 roi samples\n",
      "31209"
     ]
    },
    {
     "name": "stderr",
     "output_type": "stream",
     "text": [
      "locate patches: 0.05 seconds\n",
      "locate patches: 0.05 seconds\n"
     ]
    },
    {
     "name": "stdout",
     "output_type": "stream",
     "text": [
      " patches in ROI\n",
      "31209 roi samples\n",
      "31017 patches in ROI\n",
      "31017 roi samples\n",
      "30522"
     ]
    },
    {
     "name": "stderr",
     "output_type": "stream",
     "text": [
      "locate patches: 0.05 seconds\n",
      "locate patches: 0.05 seconds\n"
     ]
    },
    {
     "name": "stdout",
     "output_type": "stream",
     "text": [
      " patches in ROI\n",
      "30522 roi samples\n",
      "30370 patches in ROI\n",
      "30370 roi samples\n",
      "29717"
     ]
    },
    {
     "name": "stderr",
     "output_type": "stream",
     "text": [
      "locate patches: 0.05 seconds\n",
      "locate patches: 0.05 seconds\n"
     ]
    },
    {
     "name": "stdout",
     "output_type": "stream",
     "text": [
      " patches in ROI\n",
      "29717 roi samples\n",
      "29712 patches in ROI\n",
      "29712 roi samples\n",
      "29168"
     ]
    },
    {
     "name": "stderr",
     "output_type": "stream",
     "text": [
      "locate patches: 0.05 seconds\n",
      "locate patches: 0.05 seconds\n"
     ]
    },
    {
     "name": "stdout",
     "output_type": "stream",
     "text": [
      " patches in ROI\n",
      "29168 roi samples\n",
      "29079 patches in ROI\n",
      "29079 roi samples\n",
      "28532"
     ]
    },
    {
     "name": "stderr",
     "output_type": "stream",
     "text": [
      "locate patches: 0.05 seconds\n",
      "locate patches: 0.05 seconds\n"
     ]
    },
    {
     "name": "stdout",
     "output_type": "stream",
     "text": [
      " patches in ROI\n",
      "28532 roi samples\n",
      "28501 patches in ROI\n",
      "28501 roi samples\n",
      "27895"
     ]
    },
    {
     "name": "stderr",
     "output_type": "stream",
     "text": [
      "locate patches: 0.05 seconds\n",
      "locate patches: 0.05 seconds\n"
     ]
    },
    {
     "name": "stdout",
     "output_type": "stream",
     "text": [
      " patches in ROI\n",
      "27895 roi samples\n",
      "28051 patches in ROI\n",
      "28051 roi samples\n",
      "27272"
     ]
    },
    {
     "name": "stderr",
     "output_type": "stream",
     "text": [
      "locate patches: 0.05 seconds\n",
      "locate patches: 0.05 seconds\n"
     ]
    },
    {
     "name": "stdout",
     "output_type": "stream",
     "text": [
      " patches in ROI\n",
      "27272 roi samples\n",
      "27359 patches in ROI\n",
      "27359 roi samples\n",
      "26917"
     ]
    },
    {
     "name": "stderr",
     "output_type": "stream",
     "text": [
      "locate patches: 0.05 seconds\n",
      "locate patches: 0.05 seconds\n"
     ]
    },
    {
     "name": "stdout",
     "output_type": "stream",
     "text": [
      " patches in ROI\n",
      "26917 roi samples\n",
      "26988 patches in ROI\n",
      "26988 roi samples\n",
      "26402"
     ]
    },
    {
     "name": "stderr",
     "output_type": "stream",
     "text": [
      "locate patches: 0.05 seconds\n",
      "locate patches: 0.05 seconds\n"
     ]
    },
    {
     "name": "stdout",
     "output_type": "stream",
     "text": [
      " patches in ROI\n",
      "26402 roi samples\n",
      "26361 patches in ROI\n",
      "26361 roi samples\n",
      "25871"
     ]
    },
    {
     "name": "stderr",
     "output_type": "stream",
     "text": [
      "locate patches: 0.05 seconds\n",
      "locate patches: 0.05 seconds\n"
     ]
    },
    {
     "name": "stdout",
     "output_type": "stream",
     "text": [
      " patches in ROI\n",
      "25871 roi samples\n",
      "26078 patches in ROI\n",
      "26078 roi samples\n",
      "25525"
     ]
    },
    {
     "name": "stderr",
     "output_type": "stream",
     "text": [
      "locate patches: 0.05 seconds\n",
      "locate patches: 0.05 seconds\n"
     ]
    },
    {
     "name": "stdout",
     "output_type": "stream",
     "text": [
      " patches in ROI\n",
      "25525 roi samples\n",
      "25421 patches in ROI\n",
      "25421 roi samples\n",
      "25162"
     ]
    },
    {
     "name": "stderr",
     "output_type": "stream",
     "text": [
      "locate patches: 0.05 seconds\n",
      "locate patches: 0.05 seconds\n"
     ]
    },
    {
     "name": "stdout",
     "output_type": "stream",
     "text": [
      " patches in ROI\n",
      "25162 roi samples\n",
      "25442 patches in ROI\n",
      "25442 roi samples\n",
      "25219"
     ]
    },
    {
     "name": "stderr",
     "output_type": "stream",
     "text": [
      "locate patches: 0.05 seconds\n",
      "locate patches: 0.05 seconds\n"
     ]
    },
    {
     "name": "stdout",
     "output_type": "stream",
     "text": [
      " patches in ROI\n",
      "25219 roi samples\n",
      "25039 patches in ROI\n",
      "25039 roi samples\n",
      "24752"
     ]
    },
    {
     "name": "stderr",
     "output_type": "stream",
     "text": [
      "locate patches: 0.05 seconds\n",
      "locate patches: 0.05 seconds\n"
     ]
    },
    {
     "name": "stdout",
     "output_type": "stream",
     "text": [
      " patches in ROI\n",
      "24752 roi samples\n",
      "25095 patches in ROI\n",
      "25095 roi samples\n",
      "24604"
     ]
    },
    {
     "name": "stderr",
     "output_type": "stream",
     "text": [
      "locate patches: 0.05 seconds\n",
      "locate patches: 0.05 seconds\n"
     ]
    },
    {
     "name": "stdout",
     "output_type": "stream",
     "text": [
      " patches in ROI\n",
      "24604 roi samples\n",
      "24945 patches in ROI\n",
      "24945 roi samples\n",
      "24818"
     ]
    },
    {
     "name": "stderr",
     "output_type": "stream",
     "text": [
      "locate patches: 0.05 seconds\n",
      "locate patches: 0.05 seconds\n"
     ]
    },
    {
     "name": "stdout",
     "output_type": "stream",
     "text": [
      " patches in ROI\n",
      "24818 roi samples\n",
      "25124 patches in ROI\n",
      "25124 roi samples\n",
      "24739"
     ]
    },
    {
     "name": "stderr",
     "output_type": "stream",
     "text": [
      "locate patches: 0.06 seconds\n",
      "locate patches: 0.05 seconds\n"
     ]
    },
    {
     "name": "stdout",
     "output_type": "stream",
     "text": [
      " patches in ROI\n",
      "24739 roi samples\n",
      "25013 patches in ROI\n",
      "25013 roi samples\n",
      "24816"
     ]
    },
    {
     "name": "stderr",
     "output_type": "stream",
     "text": [
      "locate patches: 0.04 seconds\n",
      "locate patches: 0.05 seconds\n"
     ]
    },
    {
     "name": "stdout",
     "output_type": "stream",
     "text": [
      " patches in ROI\n",
      "24816 roi samples\n",
      "24942 patches in ROI\n",
      "24942 roi samples\n",
      "24512"
     ]
    },
    {
     "name": "stderr",
     "output_type": "stream",
     "text": [
      "locate patches: 0.04 seconds\n",
      "locate patches: 0.05 seconds\n"
     ]
    },
    {
     "name": "stdout",
     "output_type": "stream",
     "text": [
      " patches in ROI\n",
      "24512 roi samples\n",
      "24719 patches in ROI\n",
      "24719 roi samples\n",
      "24026"
     ]
    },
    {
     "name": "stderr",
     "output_type": "stream",
     "text": [
      "locate patches: 0.04 seconds\n",
      "locate patches: 0.05 seconds\n"
     ]
    },
    {
     "name": "stdout",
     "output_type": "stream",
     "text": [
      " patches in ROI\n",
      "24026 roi samples\n",
      "24685 patches in ROI\n",
      "24685 roi samples\n",
      "24591"
     ]
    },
    {
     "name": "stderr",
     "output_type": "stream",
     "text": [
      "locate patches: 0.05 seconds\n",
      "locate patches: 0.04 seconds\n"
     ]
    },
    {
     "name": "stdout",
     "output_type": "stream",
     "text": [
      " patches in ROI\n",
      "24591 roi samples\n",
      "24480 patches in ROI\n",
      "24480 roi samples\n",
      "24341"
     ]
    },
    {
     "name": "stderr",
     "output_type": "stream",
     "text": [
      "locate patches: 0.04 seconds\n",
      "locate patches: 0.05 seconds\n"
     ]
    },
    {
     "name": "stdout",
     "output_type": "stream",
     "text": [
      " patches in ROI\n",
      "24341 roi samples\n",
      "24404 patches in ROI\n",
      "24404 roi samples\n",
      "24016"
     ]
    },
    {
     "name": "stderr",
     "output_type": "stream",
     "text": [
      "locate patches: 0.04 seconds\n",
      "locate patches: 0.05 seconds\n"
     ]
    },
    {
     "name": "stdout",
     "output_type": "stream",
     "text": [
      " patches in ROI\n",
      "24016 roi samples\n",
      "MD591\n",
      "36626 patches in ROI\n",
      "36626 roi samples\n",
      "36824"
     ]
    },
    {
     "name": "stderr",
     "output_type": "stream",
     "text": [
      "locate patches: 0.06 seconds\n",
      "locate patches: 0.06 seconds\n"
     ]
    },
    {
     "name": "stdout",
     "output_type": "stream",
     "text": [
      " patches in ROI\n",
      "36824 roi samples\n",
      "36945 patches in ROI\n",
      "36945 roi samples\n",
      "37437"
     ]
    },
    {
     "name": "stderr",
     "output_type": "stream",
     "text": [
      "locate patches: 0.06 seconds\n",
      "locate patches: 0.06 seconds\n"
     ]
    },
    {
     "name": "stdout",
     "output_type": "stream",
     "text": [
      " patches in ROI\n",
      "37437 roi samples\n",
      "36678 patches in ROI\n",
      "36678 roi samples\n",
      "36310"
     ]
    },
    {
     "name": "stderr",
     "output_type": "stream",
     "text": [
      "locate patches: 0.06 seconds\n",
      "locate patches: 0.06 seconds\n"
     ]
    },
    {
     "name": "stdout",
     "output_type": "stream",
     "text": [
      " patches in ROI\n",
      "36310 roi samples\n",
      "39457 patches in ROI\n",
      "39457 roi samples\n",
      "36486"
     ]
    },
    {
     "name": "stderr",
     "output_type": "stream",
     "text": [
      "locate patches: 0.06 seconds\n",
      "locate patches: 0.06 seconds\n"
     ]
    },
    {
     "name": "stdout",
     "output_type": "stream",
     "text": [
      " patches in ROI\n",
      "36486 roi samples\n",
      "35545 patches in ROI\n",
      "35545 roi samples\n",
      "36047"
     ]
    },
    {
     "name": "stderr",
     "output_type": "stream",
     "text": [
      "locate patches: 0.06 seconds\n",
      "locate patches: 0.06 seconds\n"
     ]
    },
    {
     "name": "stdout",
     "output_type": "stream",
     "text": [
      " patches in ROI\n",
      "36047 roi samples\n",
      "36367 patches in ROI\n",
      "36367 roi samples\n",
      "36362"
     ]
    },
    {
     "name": "stderr",
     "output_type": "stream",
     "text": [
      "locate patches: 0.06 seconds\n",
      "locate patches: 0.06 seconds\n"
     ]
    },
    {
     "name": "stdout",
     "output_type": "stream",
     "text": [
      " patches in ROI\n",
      "36362 roi samples\n",
      "37096 patches in ROI\n",
      "37096 roi samples\n",
      "37279"
     ]
    },
    {
     "name": "stderr",
     "output_type": "stream",
     "text": [
      "locate patches: 0.06 seconds\n",
      "locate patches: 0.06 seconds\n"
     ]
    },
    {
     "name": "stdout",
     "output_type": "stream",
     "text": [
      " patches in ROI\n",
      "37279 roi samples\n",
      "37744 patches in ROI\n",
      "37744 roi samples\n",
      "38077"
     ]
    },
    {
     "name": "stderr",
     "output_type": "stream",
     "text": [
      "locate patches: 0.06 seconds\n",
      "locate patches: 0.06 seconds\n"
     ]
    },
    {
     "name": "stdout",
     "output_type": "stream",
     "text": [
      " patches in ROI\n",
      "38077 roi samples\n",
      "39706 patches in ROI\n",
      "39706 roi samples\n",
      "41088"
     ]
    },
    {
     "name": "stderr",
     "output_type": "stream",
     "text": [
      "locate patches: 0.06 seconds\n",
      "locate patches: 0.06 seconds\n"
     ]
    },
    {
     "name": "stdout",
     "output_type": "stream",
     "text": [
      " patches in ROI\n",
      "41088 roi samples\n",
      "40583 patches in ROI\n",
      "40583 roi samples\n",
      "39468"
     ]
    },
    {
     "name": "stderr",
     "output_type": "stream",
     "text": [
      "locate patches: 0.06 seconds\n",
      "locate patches: 0.06 seconds\n"
     ]
    },
    {
     "name": "stdout",
     "output_type": "stream",
     "text": [
      " patches in ROI\n",
      "39468 roi samples\n",
      "39815 patches in ROI\n",
      "39815 roi samples\n",
      "40315"
     ]
    },
    {
     "name": "stderr",
     "output_type": "stream",
     "text": [
      "locate patches: 0.06 seconds\n",
      "locate patches: 0.06 seconds\n"
     ]
    },
    {
     "name": "stdout",
     "output_type": "stream",
     "text": [
      " patches in ROI\n",
      "40315 roi samples\n",
      "40378 patches in ROI\n",
      "40378 roi samples\n",
      "40827"
     ]
    },
    {
     "name": "stderr",
     "output_type": "stream",
     "text": [
      "locate patches: 0.06 seconds\n",
      "locate patches: 0.06 seconds\n"
     ]
    },
    {
     "name": "stdout",
     "output_type": "stream",
     "text": [
      " patches in ROI\n",
      "40827 roi samples\n",
      "41695 patches in ROI\n",
      "41695 roi samples\n",
      "41602"
     ]
    },
    {
     "name": "stderr",
     "output_type": "stream",
     "text": [
      "locate patches: 0.06 seconds\n",
      "locate patches: 0.06 seconds\n"
     ]
    },
    {
     "name": "stdout",
     "output_type": "stream",
     "text": [
      " patches in ROI\n",
      "41602 roi samples\n",
      "41751 patches in ROI\n",
      "41751 roi samples\n",
      "42021"
     ]
    },
    {
     "name": "stderr",
     "output_type": "stream",
     "text": [
      "locate patches: 0.06 seconds\n",
      "locate patches: 0.06 seconds\n"
     ]
    },
    {
     "name": "stdout",
     "output_type": "stream",
     "text": [
      " patches in ROI\n",
      "42021 roi samples\n",
      "43592 patches in ROI\n",
      "43592 roi samples\n",
      "42646"
     ]
    },
    {
     "name": "stderr",
     "output_type": "stream",
     "text": [
      "locate patches: 0.06 seconds\n",
      "locate patches: 0.06 seconds\n"
     ]
    },
    {
     "name": "stdout",
     "output_type": "stream",
     "text": [
      " patches in ROI\n",
      "42646 roi samples\n",
      "42367 patches in ROI\n",
      "42367 roi samples\n",
      "43077"
     ]
    },
    {
     "name": "stderr",
     "output_type": "stream",
     "text": [
      "locate patches: 0.06 seconds\n",
      "locate patches: 0.06 seconds\n"
     ]
    },
    {
     "name": "stdout",
     "output_type": "stream",
     "text": [
      " patches in ROI\n",
      "43077 roi samples\n",
      "43686 patches in ROI\n",
      "43686 roi samples\n",
      "43555"
     ]
    },
    {
     "name": "stderr",
     "output_type": "stream",
     "text": [
      "locate patches: 0.06 seconds\n",
      "locate patches: 0.06 seconds\n"
     ]
    },
    {
     "name": "stdout",
     "output_type": "stream",
     "text": [
      " patches in ROI\n",
      "43555 roi samples\n",
      "44123 patches in ROI\n",
      "44123 roi samples\n",
      "43807"
     ]
    },
    {
     "name": "stderr",
     "output_type": "stream",
     "text": [
      "locate patches: 0.06 seconds\n",
      "locate patches: 0.06 seconds\n"
     ]
    },
    {
     "name": "stdout",
     "output_type": "stream",
     "text": [
      " patches in ROI\n",
      "43807 roi samples\n",
      "44108 patches in ROI\n",
      "44108 roi samples\n",
      "44188"
     ]
    },
    {
     "name": "stderr",
     "output_type": "stream",
     "text": [
      "locate patches: 0.06 seconds\n",
      "locate patches: 0.06 seconds\n"
     ]
    },
    {
     "name": "stdout",
     "output_type": "stream",
     "text": [
      " patches in ROI\n",
      "44188 roi samples\n",
      "44735 patches in ROI\n",
      "44735 roi samples\n",
      "44442"
     ]
    },
    {
     "name": "stderr",
     "output_type": "stream",
     "text": [
      "locate patches: 0.06 seconds\n",
      "locate patches: 0.06 seconds\n"
     ]
    },
    {
     "name": "stdout",
     "output_type": "stream",
     "text": [
      " patches in ROI\n",
      "44442 roi samples\n",
      "44845 patches in ROI\n",
      "44845 roi samples\n",
      "45119"
     ]
    },
    {
     "name": "stderr",
     "output_type": "stream",
     "text": [
      "locate patches: 0.06 seconds\n",
      "locate patches: 0.06 seconds\n"
     ]
    },
    {
     "name": "stdout",
     "output_type": "stream",
     "text": [
      " patches in ROI\n",
      "45119 roi samples\n",
      "45026 patches in ROI\n",
      "45026 roi samples\n",
      "45263"
     ]
    },
    {
     "name": "stderr",
     "output_type": "stream",
     "text": [
      "locate patches: 0.06 seconds\n",
      "locate patches: 0.06 seconds\n"
     ]
    },
    {
     "name": "stdout",
     "output_type": "stream",
     "text": [
      " patches in ROI\n",
      "45263 roi samples\n",
      "45652 patches in ROI\n",
      "45652 roi samples\n",
      "45746"
     ]
    },
    {
     "name": "stderr",
     "output_type": "stream",
     "text": [
      "locate patches: 0.06 seconds\n",
      "locate patches: 0.06 seconds\n"
     ]
    },
    {
     "name": "stdout",
     "output_type": "stream",
     "text": [
      " patches in ROI\n",
      "45746 roi samples\n",
      "45897 patches in ROI\n",
      "45897 roi samples\n",
      "45904"
     ]
    },
    {
     "name": "stderr",
     "output_type": "stream",
     "text": [
      "locate patches: 0.06 seconds\n",
      "locate patches: 0.06 seconds\n"
     ]
    },
    {
     "name": "stdout",
     "output_type": "stream",
     "text": [
      " patches in ROI\n",
      "45904 roi samples\n",
      "46583 patches in ROI\n",
      "46583 roi samples\n",
      "46292"
     ]
    },
    {
     "name": "stderr",
     "output_type": "stream",
     "text": [
      "locate patches: 0.06 seconds\n",
      "locate patches: 0.06 seconds\n"
     ]
    },
    {
     "name": "stdout",
     "output_type": "stream",
     "text": [
      " patches in ROI\n",
      "46292 roi samples\n",
      "46933 patches in ROI\n",
      "46933 roi samples\n",
      "46946"
     ]
    },
    {
     "name": "stderr",
     "output_type": "stream",
     "text": [
      "locate patches: 0.06 seconds\n",
      "locate patches: 0.06 seconds\n"
     ]
    },
    {
     "name": "stdout",
     "output_type": "stream",
     "text": [
      " patches in ROI\n",
      "46946 roi samples\n",
      "47440 patches in ROI\n",
      "47440 roi samples\n",
      "47464"
     ]
    },
    {
     "name": "stderr",
     "output_type": "stream",
     "text": [
      "locate patches: 0.06 seconds\n",
      "locate patches: 0.06 seconds\n"
     ]
    },
    {
     "name": "stdout",
     "output_type": "stream",
     "text": [
      " patches in ROI\n",
      "47464 roi samples\n",
      "47448 patches in ROI\n",
      "47448 roi samples\n",
      "47588"
     ]
    },
    {
     "name": "stderr",
     "output_type": "stream",
     "text": [
      "locate patches: 0.06 seconds\n",
      "locate patches: 0.06 seconds\n"
     ]
    },
    {
     "name": "stdout",
     "output_type": "stream",
     "text": [
      " patches in ROI\n",
      "47588 roi samples\n",
      "48474 patches in ROI\n",
      "48474 roi samples\n",
      "48872"
     ]
    },
    {
     "name": "stderr",
     "output_type": "stream",
     "text": [
      "locate patches: 0.06 seconds\n",
      "locate patches: 0.06 seconds\n"
     ]
    },
    {
     "name": "stdout",
     "output_type": "stream",
     "text": [
      " patches in ROI\n",
      "48872 roi samples\n",
      "49275 patches in ROI\n",
      "49275 roi samples\n",
      "48394"
     ]
    },
    {
     "name": "stderr",
     "output_type": "stream",
     "text": [
      "locate patches: 0.06 seconds\n",
      "locate patches: 0.06 seconds\n"
     ]
    },
    {
     "name": "stdout",
     "output_type": "stream",
     "text": [
      " patches in ROI\n",
      "48394 roi samples\n",
      "48744 patches in ROI\n",
      "48744 roi samples\n",
      "49041"
     ]
    },
    {
     "name": "stderr",
     "output_type": "stream",
     "text": [
      "locate patches: 0.06 seconds\n",
      "locate patches: 0.06 seconds\n"
     ]
    },
    {
     "name": "stdout",
     "output_type": "stream",
     "text": [
      " patches in ROI\n",
      "49041 roi samples\n",
      "49393 patches in ROI\n",
      "49393 roi samples\n",
      "49328"
     ]
    },
    {
     "name": "stderr",
     "output_type": "stream",
     "text": [
      "locate patches: 0.06 seconds\n",
      "locate patches: 0.06 seconds\n"
     ]
    },
    {
     "name": "stdout",
     "output_type": "stream",
     "text": [
      " patches in ROI\n",
      "49328 roi samples\n",
      "49638 patches in ROI\n",
      "49638 roi samples\n",
      "49892"
     ]
    },
    {
     "name": "stderr",
     "output_type": "stream",
     "text": [
      "locate patches: 0.06 seconds\n",
      "locate patches: 0.06 seconds\n"
     ]
    },
    {
     "name": "stdout",
     "output_type": "stream",
     "text": [
      " patches in ROI\n",
      "49892 roi samples\n",
      "50055 patches in ROI\n",
      "50055 roi samples\n",
      "50223"
     ]
    },
    {
     "name": "stderr",
     "output_type": "stream",
     "text": [
      "locate patches: 0.06 seconds\n",
      "locate patches: 0.06 seconds\n"
     ]
    },
    {
     "name": "stdout",
     "output_type": "stream",
     "text": [
      " patches in ROI\n",
      "50223 roi samples\n",
      "51145 patches in ROI\n",
      "51145 roi samples\n",
      "51615"
     ]
    },
    {
     "name": "stderr",
     "output_type": "stream",
     "text": [
      "locate patches: 0.06 seconds\n",
      "locate patches: 0.06 seconds\n"
     ]
    },
    {
     "name": "stdout",
     "output_type": "stream",
     "text": [
      " patches in ROI\n",
      "51615 roi samples\n",
      "51114 patches in ROI\n",
      "51114 roi samples\n",
      "51356"
     ]
    },
    {
     "name": "stderr",
     "output_type": "stream",
     "text": [
      "locate patches: 0.06 seconds\n",
      "locate patches: 0.06 seconds\n"
     ]
    },
    {
     "name": "stdout",
     "output_type": "stream",
     "text": [
      " patches in ROI\n",
      "51356 roi samples\n",
      "52177 patches in ROI\n",
      "52177 roi samples\n",
      "51888"
     ]
    },
    {
     "name": "stderr",
     "output_type": "stream",
     "text": [
      "locate patches: 0.06 seconds\n",
      "locate patches: 0.06 seconds\n"
     ]
    },
    {
     "name": "stdout",
     "output_type": "stream",
     "text": [
      " patches in ROI\n",
      "51888 roi samples\n",
      "52407 patches in ROI\n",
      "52407 roi samples\n",
      "52899"
     ]
    },
    {
     "name": "stderr",
     "output_type": "stream",
     "text": [
      "locate patches: 0.06 seconds\n",
      "locate patches: 0.06 seconds\n"
     ]
    },
    {
     "name": "stdout",
     "output_type": "stream",
     "text": [
      " patches in ROI\n",
      "52899 roi samples\n",
      "53350 patches in ROI\n",
      "53350 roi samples\n",
      "56224"
     ]
    },
    {
     "name": "stderr",
     "output_type": "stream",
     "text": [
      "locate patches: 0.06 seconds\n",
      "locate patches: 0.05 seconds\n"
     ]
    },
    {
     "name": "stdout",
     "output_type": "stream",
     "text": [
      " patches in ROI\n",
      "56224 roi samples\n",
      "57908 patches in ROI\n",
      "57908 roi samples\n",
      "54546"
     ]
    },
    {
     "name": "stderr",
     "output_type": "stream",
     "text": [
      "locate patches: 0.06 seconds\n",
      "locate patches: 0.06 seconds\n"
     ]
    },
    {
     "name": "stdout",
     "output_type": "stream",
     "text": [
      " patches in ROI\n",
      "54546 roi samples\n",
      "57610 patches in ROI\n",
      "57610 roi samples\n",
      "58312"
     ]
    },
    {
     "name": "stderr",
     "output_type": "stream",
     "text": [
      "locate patches: 0.06 seconds\n",
      "locate patches: 0.06 seconds\n"
     ]
    },
    {
     "name": "stdout",
     "output_type": "stream",
     "text": [
      " patches in ROI\n",
      "58312 roi samples\n",
      "58651 patches in ROI\n",
      "58651 roi samples\n",
      "59029"
     ]
    },
    {
     "name": "stderr",
     "output_type": "stream",
     "text": [
      "locate patches: 0.06 seconds\n",
      "locate patches: 0.06 seconds\n"
     ]
    },
    {
     "name": "stdout",
     "output_type": "stream",
     "text": [
      " patches in ROI\n",
      "59029 roi samples\n",
      "59134 patches in ROI\n",
      "59134 roi samples\n",
      "61765"
     ]
    },
    {
     "name": "stderr",
     "output_type": "stream",
     "text": [
      "locate patches: 0.06 seconds\n",
      "locate patches: 0.06 seconds\n"
     ]
    },
    {
     "name": "stdout",
     "output_type": "stream",
     "text": [
      " patches in ROI\n",
      "61765 roi samples\n",
      "61532 patches in ROI\n",
      "61532 roi samples\n",
      "61216"
     ]
    },
    {
     "name": "stderr",
     "output_type": "stream",
     "text": [
      "locate patches: 0.06 seconds\n",
      "locate patches: 0.06 seconds\n"
     ]
    },
    {
     "name": "stdout",
     "output_type": "stream",
     "text": [
      " patches in ROI\n",
      "61216 roi samples\n",
      "61133 patches in ROI\n",
      "61133 roi samples\n",
      "63030"
     ]
    },
    {
     "name": "stderr",
     "output_type": "stream",
     "text": [
      "locate patches: 0.06 seconds\n",
      "locate patches: 0.06 seconds\n"
     ]
    },
    {
     "name": "stdout",
     "output_type": "stream",
     "text": [
      " patches in ROI\n",
      "63030 roi samples\n",
      "62888 patches in ROI\n",
      "62888 roi samples\n",
      "61180"
     ]
    },
    {
     "name": "stderr",
     "output_type": "stream",
     "text": [
      "locate patches: 0.06 seconds\n",
      "locate patches: 0.06 seconds\n"
     ]
    },
    {
     "name": "stdout",
     "output_type": "stream",
     "text": [
      " patches in ROI\n",
      "61180 roi samples\n",
      "61227 patches in ROI\n",
      "61227 roi samples\n",
      "62938"
     ]
    },
    {
     "name": "stderr",
     "output_type": "stream",
     "text": [
      "locate patches: 0.06 seconds\n",
      "locate patches: 0.06 seconds\n"
     ]
    },
    {
     "name": "stdout",
     "output_type": "stream",
     "text": [
      " patches in ROI\n",
      "62938 roi samples\n",
      "62358 patches in ROI\n",
      "62358 roi samples\n",
      "64132"
     ]
    },
    {
     "name": "stderr",
     "output_type": "stream",
     "text": [
      "locate patches: 0.06 seconds\n",
      "locate patches: 0.06 seconds\n"
     ]
    },
    {
     "name": "stdout",
     "output_type": "stream",
     "text": [
      " patches in ROI\n",
      "64132 roi samples\n",
      "61520 patches in ROI\n",
      "61520 roi samples\n",
      "62080"
     ]
    },
    {
     "name": "stderr",
     "output_type": "stream",
     "text": [
      "locate patches: 0.06 seconds\n",
      "locate patches: 0.06 seconds\n"
     ]
    },
    {
     "name": "stdout",
     "output_type": "stream",
     "text": [
      " patches in ROI\n",
      "62080 roi samples\n",
      "62419 patches in ROI\n",
      "62419 roi samples\n",
      "62682"
     ]
    },
    {
     "name": "stderr",
     "output_type": "stream",
     "text": [
      "locate patches: 0.06 seconds\n",
      "locate patches: 0.06 seconds\n"
     ]
    },
    {
     "name": "stdout",
     "output_type": "stream",
     "text": [
      " patches in ROI\n",
      "62682 roi samples\n",
      "62561 patches in ROI\n",
      "62561 roi samples\n",
      "62069"
     ]
    },
    {
     "name": "stderr",
     "output_type": "stream",
     "text": [
      "locate patches: 0.06 seconds\n",
      "locate patches: 0.06 seconds\n"
     ]
    },
    {
     "name": "stdout",
     "output_type": "stream",
     "text": [
      " patches in ROI\n",
      "62069 roi samples\n",
      "62800 patches in ROI\n",
      "62800 roi samples\n",
      "62119"
     ]
    },
    {
     "name": "stderr",
     "output_type": "stream",
     "text": [
      "locate patches: 0.06 seconds\n",
      "locate patches: 0.06 seconds\n"
     ]
    },
    {
     "name": "stdout",
     "output_type": "stream",
     "text": [
      " patches in ROI\n",
      "62119 roi samples\n",
      "62718 patches in ROI\n",
      "62718 roi samples\n",
      "62932"
     ]
    },
    {
     "name": "stderr",
     "output_type": "stream",
     "text": [
      "locate patches: 0.06 seconds\n",
      "locate patches: 0.06 seconds\n"
     ]
    },
    {
     "name": "stdout",
     "output_type": "stream",
     "text": [
      " patches in ROI\n",
      "62932 roi samples\n",
      "62132 patches in ROI\n",
      "62132 roi samples\n",
      "62254"
     ]
    },
    {
     "name": "stderr",
     "output_type": "stream",
     "text": [
      "locate patches: 0.06 seconds\n",
      "locate patches: 0.06 seconds\n"
     ]
    },
    {
     "name": "stdout",
     "output_type": "stream",
     "text": [
      " patches in ROI\n",
      "62254 roi samples\n",
      "62234 patches in ROI\n",
      "62234 roi samples\n",
      "63528"
     ]
    },
    {
     "name": "stderr",
     "output_type": "stream",
     "text": [
      "locate patches: 0.06 seconds\n",
      "locate patches: 0.06 seconds\n"
     ]
    },
    {
     "name": "stdout",
     "output_type": "stream",
     "text": [
      " patches in ROI\n",
      "63528 roi samples\n",
      "63821 patches in ROI\n",
      "63821 roi samples\n",
      "62584"
     ]
    },
    {
     "name": "stderr",
     "output_type": "stream",
     "text": [
      "locate patches: 0.06 seconds\n",
      "locate patches: 0.06 seconds\n"
     ]
    },
    {
     "name": "stdout",
     "output_type": "stream",
     "text": [
      " patches in ROI\n",
      "62584 roi samples\n",
      "62085 patches in ROI\n",
      "62085 roi samples\n",
      "64437"
     ]
    },
    {
     "name": "stderr",
     "output_type": "stream",
     "text": [
      "locate patches: 0.06 seconds\n",
      "locate patches: 0.06 seconds\n"
     ]
    },
    {
     "name": "stdout",
     "output_type": "stream",
     "text": [
      " patches in ROI\n",
      "64437 roi samples\n",
      "63542 patches in ROI\n",
      "63542 roi samples\n",
      "63953"
     ]
    },
    {
     "name": "stderr",
     "output_type": "stream",
     "text": [
      "locate patches: 0.06 seconds\n",
      "locate patches: 0.06 seconds\n"
     ]
    },
    {
     "name": "stdout",
     "output_type": "stream",
     "text": [
      " patches in ROI\n",
      "63953 roi samples\n",
      "62605 patches in ROI\n",
      "62605 roi samples\n",
      "63534"
     ]
    },
    {
     "name": "stderr",
     "output_type": "stream",
     "text": [
      "locate patches: 0.06 seconds\n",
      "locate patches: 0.06 seconds\n"
     ]
    },
    {
     "name": "stdout",
     "output_type": "stream",
     "text": [
      " patches in ROI\n",
      "63534 roi samples\n",
      "63688 patches in ROI\n",
      "63688 roi samples\n",
      "63517"
     ]
    },
    {
     "name": "stderr",
     "output_type": "stream",
     "text": [
      "locate patches: 0.06 seconds\n",
      "locate patches: 0.05 seconds\n"
     ]
    },
    {
     "name": "stdout",
     "output_type": "stream",
     "text": [
      " patches in ROI\n",
      "63517 roi samples\n",
      "63533 patches in ROI\n",
      "63533 roi samples\n",
      "64295"
     ]
    },
    {
     "name": "stderr",
     "output_type": "stream",
     "text": [
      "locate patches: 0.05 seconds\n",
      "locate patches: 0.05 seconds\n"
     ]
    },
    {
     "name": "stdout",
     "output_type": "stream",
     "text": [
      " patches in ROI\n",
      "64295 roi samples\n",
      "63308 patches in ROI\n",
      "63308 roi samples\n",
      "63853"
     ]
    },
    {
     "name": "stderr",
     "output_type": "stream",
     "text": [
      "locate patches: 0.06 seconds\n",
      "locate patches: 0.06 seconds\n"
     ]
    },
    {
     "name": "stdout",
     "output_type": "stream",
     "text": [
      " patches in ROI\n",
      "63853 roi samples\n",
      "62948 patches in ROI\n",
      "62948 roi samples\n",
      "63117"
     ]
    },
    {
     "name": "stderr",
     "output_type": "stream",
     "text": [
      "locate patches: 0.06 seconds\n",
      "locate patches: 0.06 seconds\n"
     ]
    },
    {
     "name": "stdout",
     "output_type": "stream",
     "text": [
      " patches in ROI\n",
      "63117 roi samples\n",
      "62505 patches in ROI\n",
      "62505 roi samples\n",
      "63545"
     ]
    },
    {
     "name": "stderr",
     "output_type": "stream",
     "text": [
      "locate patches: 0.06 seconds\n",
      "locate patches: 0.06 seconds\n"
     ]
    },
    {
     "name": "stdout",
     "output_type": "stream",
     "text": [
      " patches in ROI\n",
      "63545 roi samples\n",
      "62679 patches in ROI\n",
      "62679 roi samples\n",
      "64250"
     ]
    },
    {
     "name": "stderr",
     "output_type": "stream",
     "text": [
      "locate patches: 0.05 seconds\n",
      "locate patches: 0.05 seconds\n"
     ]
    },
    {
     "name": "stdout",
     "output_type": "stream",
     "text": [
      " patches in ROI\n",
      "64250 roi samples\n",
      "62443 patches in ROI\n",
      "62443 roi samples\n",
      "63626"
     ]
    },
    {
     "name": "stderr",
     "output_type": "stream",
     "text": [
      "locate patches: 0.05 seconds\n",
      "locate patches: 0.05 seconds\n"
     ]
    },
    {
     "name": "stdout",
     "output_type": "stream",
     "text": [
      " patches in ROI\n",
      "63626 roi samples\n",
      "62035 patches in ROI\n",
      "62035 roi samples\n",
      "62265"
     ]
    },
    {
     "name": "stderr",
     "output_type": "stream",
     "text": [
      "locate patches: 0.05 seconds\n",
      "locate patches: 0.05 seconds\n"
     ]
    },
    {
     "name": "stdout",
     "output_type": "stream",
     "text": [
      " patches in ROI\n",
      "62265 roi samples\n",
      "62218 patches in ROI\n",
      "62218 roi samples\n",
      "63534"
     ]
    },
    {
     "name": "stderr",
     "output_type": "stream",
     "text": [
      "locate patches: 0.06 seconds\n",
      "locate patches: 0.06 seconds\n"
     ]
    },
    {
     "name": "stdout",
     "output_type": "stream",
     "text": [
      " patches in ROI\n",
      "63534 roi samples\n",
      "62423 patches in ROI\n",
      "62423 roi samples\n",
      "64260"
     ]
    },
    {
     "name": "stderr",
     "output_type": "stream",
     "text": [
      "locate patches: 0.05 seconds\n",
      "locate patches: 0.05 seconds\n"
     ]
    },
    {
     "name": "stdout",
     "output_type": "stream",
     "text": [
      " patches in ROI\n",
      "64260 roi samples\n",
      "62020 patches in ROI\n",
      "62020 roi samples\n",
      "63904"
     ]
    },
    {
     "name": "stderr",
     "output_type": "stream",
     "text": [
      "locate patches: 0.05 seconds\n",
      "locate patches: 0.05 seconds\n"
     ]
    },
    {
     "name": "stdout",
     "output_type": "stream",
     "text": [
      " patches in ROI\n",
      "63904 roi samples\n",
      "61860 patches in ROI\n",
      "61860 roi samples\n",
      "63073"
     ]
    },
    {
     "name": "stderr",
     "output_type": "stream",
     "text": [
      "locate patches: 0.05 seconds\n",
      "locate patches: 0.09 seconds\n"
     ]
    },
    {
     "name": "stdout",
     "output_type": "stream",
     "text": [
      " patches in ROI\n",
      "63073 roi samples\n",
      "59501 patches in ROI\n",
      "59501 roi samples\n",
      "63332"
     ]
    },
    {
     "name": "stderr",
     "output_type": "stream",
     "text": [
      "locate patches: 0.05 seconds\n",
      "locate patches: 0.05 seconds\n"
     ]
    },
    {
     "name": "stdout",
     "output_type": "stream",
     "text": [
      " patches in ROI\n",
      "63332 roi samples\n",
      "59416 patches in ROI\n",
      "59416 roi samples\n",
      "62824"
     ]
    },
    {
     "name": "stderr",
     "output_type": "stream",
     "text": [
      "locate patches: 0.05 seconds\n",
      "locate patches: 0.06 seconds\n"
     ]
    },
    {
     "name": "stdout",
     "output_type": "stream",
     "text": [
      " patches in ROI\n",
      "62824 roi samples\n",
      "62136 patches in ROI\n",
      "62136 roi samples\n",
      "62444"
     ]
    },
    {
     "name": "stderr",
     "output_type": "stream",
     "text": [
      "locate patches: 0.06 seconds\n",
      "locate patches: 0.05 seconds\n"
     ]
    },
    {
     "name": "stdout",
     "output_type": "stream",
     "text": [
      " patches in ROI\n",
      "62444 roi samples\n",
      "61826 patches in ROI\n",
      "61826 roi samples\n",
      "61138"
     ]
    },
    {
     "name": "stderr",
     "output_type": "stream",
     "text": [
      "locate patches: 0.06 seconds\n",
      "locate patches: 0.05 seconds\n"
     ]
    },
    {
     "name": "stdout",
     "output_type": "stream",
     "text": [
      " patches in ROI\n",
      "61138 roi samples\n",
      "62329 patches in ROI\n",
      "62329 roi samples\n",
      "62725"
     ]
    },
    {
     "name": "stderr",
     "output_type": "stream",
     "text": [
      "locate patches: 0.05 seconds\n",
      "locate patches: 0.05 seconds\n"
     ]
    },
    {
     "name": "stdout",
     "output_type": "stream",
     "text": [
      " patches in ROI\n",
      "62725 roi samples\n",
      "61964 patches in ROI\n",
      "61964 roi samples\n",
      "63570"
     ]
    },
    {
     "name": "stderr",
     "output_type": "stream",
     "text": [
      "locate patches: 0.05 seconds\n",
      "locate patches: 0.05 seconds\n"
     ]
    },
    {
     "name": "stdout",
     "output_type": "stream",
     "text": [
      " patches in ROI\n",
      "63570 roi samples\n",
      "62197 patches in ROI\n",
      "62197 roi samples\n",
      "63820"
     ]
    },
    {
     "name": "stderr",
     "output_type": "stream",
     "text": [
      "locate patches: 0.05 seconds\n",
      "locate patches: 0.05 seconds\n"
     ]
    },
    {
     "name": "stdout",
     "output_type": "stream",
     "text": [
      " patches in ROI\n",
      "63820 roi samples\n",
      "61921 patches in ROI\n",
      "61921 roi samples\n",
      "61821"
     ]
    },
    {
     "name": "stderr",
     "output_type": "stream",
     "text": [
      "locate patches: 0.06 seconds\n",
      "locate patches: 0.05 seconds\n"
     ]
    },
    {
     "name": "stdout",
     "output_type": "stream",
     "text": [
      " patches in ROI\n",
      "61821 roi samples\n",
      "62353 patches in ROI\n",
      "62353 roi samples\n",
      "61980"
     ]
    },
    {
     "name": "stderr",
     "output_type": "stream",
     "text": [
      "locate patches: 0.05 seconds\n",
      "locate patches: 0.05 seconds\n"
     ]
    },
    {
     "name": "stdout",
     "output_type": "stream",
     "text": [
      " patches in ROI\n",
      "61980 roi samples\n",
      "62080 patches in ROI\n",
      "62080 roi samples\n",
      "61762"
     ]
    },
    {
     "name": "stderr",
     "output_type": "stream",
     "text": [
      "locate patches: 0.05 seconds\n",
      "locate patches: 0.06 seconds\n"
     ]
    },
    {
     "name": "stdout",
     "output_type": "stream",
     "text": [
      " patches in ROI\n",
      "61762 roi samples\n",
      "61715 patches in ROI\n",
      "61715 roi samples\n",
      "62930"
     ]
    },
    {
     "name": "stderr",
     "output_type": "stream",
     "text": [
      "locate patches: 0.06 seconds\n",
      "locate patches: 0.06 seconds\n"
     ]
    },
    {
     "name": "stdout",
     "output_type": "stream",
     "text": [
      " patches in ROI\n",
      "62930 roi samples\n",
      "61858 patches in ROI\n",
      "61858 roi samples\n",
      "61813"
     ]
    },
    {
     "name": "stderr",
     "output_type": "stream",
     "text": [
      "locate patches: 0.06 seconds\n",
      "locate patches: 0.06 seconds\n"
     ]
    },
    {
     "name": "stdout",
     "output_type": "stream",
     "text": [
      " patches in ROI\n",
      "61813 roi samples\n",
      "62292 patches in ROI\n",
      "62292 roi samples\n",
      "62288"
     ]
    },
    {
     "name": "stderr",
     "output_type": "stream",
     "text": [
      "locate patches: 0.05 seconds\n",
      "locate patches: 0.05 seconds\n"
     ]
    },
    {
     "name": "stdout",
     "output_type": "stream",
     "text": [
      " patches in ROI\n",
      "62288 roi samples\n",
      "61185 patches in ROI\n",
      "61185 roi samples\n",
      "60703"
     ]
    },
    {
     "name": "stderr",
     "output_type": "stream",
     "text": [
      "locate patches: 0.06 seconds\n",
      "locate patches: 0.07 seconds\n"
     ]
    },
    {
     "name": "stdout",
     "output_type": "stream",
     "text": [
      " patches in ROI\n",
      "60703 roi samples\n",
      "60842 patches in ROI\n",
      "60842 roi samples\n",
      "60879"
     ]
    },
    {
     "name": "stderr",
     "output_type": "stream",
     "text": [
      "locate patches: 0.05 seconds\n",
      "locate patches: 0.05 seconds\n"
     ]
    },
    {
     "name": "stdout",
     "output_type": "stream",
     "text": [
      " patches in ROI\n",
      "60879 roi samples\n",
      "60925 patches in ROI\n",
      "60925 roi samples\n",
      "58201"
     ]
    },
    {
     "name": "stderr",
     "output_type": "stream",
     "text": [
      "locate patches: 0.05 seconds\n",
      "locate patches: 0.06 seconds\n"
     ]
    },
    {
     "name": "stdout",
     "output_type": "stream",
     "text": [
      " patches in ROI\n",
      "58201 roi samples\n",
      "60585 patches in ROI\n",
      "60585 roi samples\n",
      "60180"
     ]
    },
    {
     "name": "stderr",
     "output_type": "stream",
     "text": [
      "locate patches: 0.05 seconds\n",
      "locate patches: 0.06 seconds\n"
     ]
    },
    {
     "name": "stdout",
     "output_type": "stream",
     "text": [
      " patches in ROI\n",
      "60180 roi samples\n",
      "60377 patches in ROI\n",
      "60377 roi samples\n",
      "58936"
     ]
    },
    {
     "name": "stderr",
     "output_type": "stream",
     "text": [
      "locate patches: 0.05 seconds\n",
      "locate patches: 0.05 seconds\n"
     ]
    },
    {
     "name": "stdout",
     "output_type": "stream",
     "text": [
      " patches in ROI\n",
      "58936 roi samples\n",
      "59244 patches in ROI\n",
      "59244 roi samples\n",
      "58263"
     ]
    },
    {
     "name": "stderr",
     "output_type": "stream",
     "text": [
      "locate patches: 0.05 seconds\n",
      "locate patches: 0.05 seconds\n"
     ]
    },
    {
     "name": "stdout",
     "output_type": "stream",
     "text": [
      " patches in ROI\n",
      "58263 roi samples\n",
      "58625 patches in ROI\n",
      "58625 roi samples\n",
      "59021"
     ]
    },
    {
     "name": "stderr",
     "output_type": "stream",
     "text": [
      "locate patches: 0.05 seconds\n",
      "locate patches: 0.05 seconds\n"
     ]
    },
    {
     "name": "stdout",
     "output_type": "stream",
     "text": [
      " patches in ROI\n",
      "59021 roi samples\n",
      "58788 patches in ROI\n",
      "58788 roi samples\n",
      "57775"
     ]
    },
    {
     "name": "stderr",
     "output_type": "stream",
     "text": [
      "locate patches: 0.05 seconds\n",
      "locate patches: 0.06 seconds\n"
     ]
    },
    {
     "name": "stdout",
     "output_type": "stream",
     "text": [
      " patches in ROI\n",
      "57775 roi samples\n",
      "56602 patches in ROI\n",
      "56602 roi samples\n",
      "48370"
     ]
    },
    {
     "name": "stderr",
     "output_type": "stream",
     "text": [
      "locate patches: 0.05 seconds\n",
      "locate patches: 0.05 seconds\n"
     ]
    },
    {
     "name": "stdout",
     "output_type": "stream",
     "text": [
      " patches in ROI\n",
      "48370 roi samples\n",
      "50977 patches in ROI\n",
      "50977 roi samples\n",
      "49934"
     ]
    },
    {
     "name": "stderr",
     "output_type": "stream",
     "text": [
      "locate patches: 0.05 seconds\n",
      "locate patches: 0.05 seconds\n"
     ]
    },
    {
     "name": "stdout",
     "output_type": "stream",
     "text": [
      " patches in ROI\n",
      "49934 roi samples\n",
      "50173 patches in ROI\n",
      "50173 roi samples\n",
      "49472"
     ]
    },
    {
     "name": "stderr",
     "output_type": "stream",
     "text": [
      "locate patches: 0.05 seconds\n",
      "locate patches: 0.05 seconds\n"
     ]
    },
    {
     "name": "stdout",
     "output_type": "stream",
     "text": [
      " patches in ROI\n",
      "49472 roi samples\n",
      "50561 patches in ROI\n",
      "50561 roi samples\n",
      "48825"
     ]
    },
    {
     "name": "stderr",
     "output_type": "stream",
     "text": [
      "locate patches: 0.05 seconds\n",
      "locate patches: 0.05 seconds\n"
     ]
    },
    {
     "name": "stdout",
     "output_type": "stream",
     "text": [
      " patches in ROI\n",
      "48825 roi samples\n",
      "48622 patches in ROI\n",
      "48622 roi samples\n",
      "47767"
     ]
    },
    {
     "name": "stderr",
     "output_type": "stream",
     "text": [
      "locate patches: 0.05 seconds\n",
      "locate patches: 0.05 seconds\n"
     ]
    },
    {
     "name": "stdout",
     "output_type": "stream",
     "text": [
      " patches in ROI\n",
      "47767 roi samples\n",
      "48466 patches in ROI\n",
      "48466 roi samples\n",
      "47828"
     ]
    },
    {
     "name": "stderr",
     "output_type": "stream",
     "text": [
      "locate patches: 0.05 seconds\n",
      "locate patches: 0.06 seconds\n"
     ]
    },
    {
     "name": "stdout",
     "output_type": "stream",
     "text": [
      " patches in ROI\n",
      "47828 roi samples\n",
      "48689 patches in ROI\n",
      "48689 roi samples\n",
      "45653"
     ]
    },
    {
     "name": "stderr",
     "output_type": "stream",
     "text": [
      "locate patches: 0.06 seconds\n",
      "locate patches: 0.05 seconds\n"
     ]
    },
    {
     "name": "stdout",
     "output_type": "stream",
     "text": [
      " patches in ROI\n",
      "45653 roi samples\n",
      "47610 patches in ROI\n",
      "47610 roi samples\n",
      "45445"
     ]
    },
    {
     "name": "stderr",
     "output_type": "stream",
     "text": [
      "locate patches: 0.05 seconds\n",
      "locate patches: 0.05 seconds\n"
     ]
    },
    {
     "name": "stdout",
     "output_type": "stream",
     "text": [
      " patches in ROI\n",
      "45445 roi samples\n",
      "46509 patches in ROI\n",
      "46509 roi samples\n",
      "44701"
     ]
    },
    {
     "name": "stderr",
     "output_type": "stream",
     "text": [
      "locate patches: 0.05 seconds\n",
      "locate patches: 0.05 seconds\n"
     ]
    },
    {
     "name": "stdout",
     "output_type": "stream",
     "text": [
      " patches in ROI\n",
      "44701 roi samples\n",
      "44691 patches in ROI\n",
      "44691 roi samples\n",
      "44248"
     ]
    },
    {
     "name": "stderr",
     "output_type": "stream",
     "text": [
      "locate patches: 0.05 seconds\n",
      "locate patches: 0.05 seconds\n"
     ]
    },
    {
     "name": "stdout",
     "output_type": "stream",
     "text": [
      " patches in ROI\n",
      "44248 roi samples\n",
      "43949 patches in ROI\n",
      "43949 roi samples\n",
      "43806"
     ]
    },
    {
     "name": "stderr",
     "output_type": "stream",
     "text": [
      "locate patches: 0.05 seconds\n",
      "locate patches: 0.05 seconds\n"
     ]
    },
    {
     "name": "stdout",
     "output_type": "stream",
     "text": [
      " patches in ROI\n",
      "43806 roi samples\n",
      "43636 patches in ROI\n",
      "43636 roi samples\n",
      "43109"
     ]
    },
    {
     "name": "stderr",
     "output_type": "stream",
     "text": [
      "locate patches: 0.05 seconds\n",
      "locate patches: 0.06 seconds\n"
     ]
    },
    {
     "name": "stdout",
     "output_type": "stream",
     "text": [
      " patches in ROI\n",
      "43109 roi samples\n",
      "42900 patches in ROI\n",
      "42900 roi samples\n",
      "42740"
     ]
    },
    {
     "name": "stderr",
     "output_type": "stream",
     "text": [
      "locate patches: 0.06 seconds\n",
      "locate patches: 0.06 seconds\n"
     ]
    },
    {
     "name": "stdout",
     "output_type": "stream",
     "text": [
      " patches in ROI\n",
      "42740 roi samples\n",
      "42257 patches in ROI\n",
      "42257 roi samples\n",
      "42026"
     ]
    },
    {
     "name": "stderr",
     "output_type": "stream",
     "text": [
      "locate patches: 0.06 seconds\n",
      "locate patches: 0.05 seconds\n"
     ]
    },
    {
     "name": "stdout",
     "output_type": "stream",
     "text": [
      " patches in ROI\n",
      "42026 roi samples\n",
      "41879 patches in ROI\n",
      "41879 roi samples\n",
      "41842"
     ]
    },
    {
     "name": "stderr",
     "output_type": "stream",
     "text": [
      "locate patches: 0.06 seconds\n",
      "locate patches: 0.05 seconds\n"
     ]
    },
    {
     "name": "stdout",
     "output_type": "stream",
     "text": [
      " patches in ROI\n",
      "41842 roi samples\n",
      "41020 patches in ROI\n",
      "41020 roi samples\n",
      "40908"
     ]
    },
    {
     "name": "stderr",
     "output_type": "stream",
     "text": [
      "locate patches: 0.05 seconds\n",
      "locate patches: 0.05 seconds\n"
     ]
    },
    {
     "name": "stdout",
     "output_type": "stream",
     "text": [
      " patches in ROI\n",
      "40908 roi samples\n",
      "40282 patches in ROI\n",
      "40282 roi samples\n",
      "40213"
     ]
    },
    {
     "name": "stderr",
     "output_type": "stream",
     "text": [
      "locate patches: 0.05 seconds\n",
      "locate patches: 0.05 seconds\n"
     ]
    },
    {
     "name": "stdout",
     "output_type": "stream",
     "text": [
      " patches in ROI\n",
      "40213 roi samples\n",
      "39373 patches in ROI\n",
      "39373 roi samples\n",
      "38639"
     ]
    },
    {
     "name": "stderr",
     "output_type": "stream",
     "text": [
      "locate patches: 0.05 seconds\n",
      "locate patches: 0.06 seconds\n"
     ]
    },
    {
     "name": "stdout",
     "output_type": "stream",
     "text": [
      " patches in ROI\n",
      "38639 roi samples\n",
      "38784 patches in ROI\n",
      "38784 roi samples\n",
      "38439"
     ]
    },
    {
     "name": "stderr",
     "output_type": "stream",
     "text": [
      "locate patches: 0.05 seconds\n",
      "locate patches: 0.05 seconds\n"
     ]
    },
    {
     "name": "stdout",
     "output_type": "stream",
     "text": [
      " patches in ROI\n",
      "38439 roi samples\n",
      "38169 patches in ROI\n",
      "38169 roi samples\n",
      "37597"
     ]
    },
    {
     "name": "stderr",
     "output_type": "stream",
     "text": [
      "locate patches: 0.05 seconds\n",
      "locate patches: 0.05 seconds\n"
     ]
    },
    {
     "name": "stdout",
     "output_type": "stream",
     "text": [
      " patches in ROI\n",
      "37597 roi samples\n",
      "37651 patches in ROI\n",
      "37651 roi samples\n",
      "37122"
     ]
    },
    {
     "name": "stderr",
     "output_type": "stream",
     "text": [
      "locate patches: 0.05 seconds\n",
      "locate patches: 0.05 seconds\n"
     ]
    },
    {
     "name": "stdout",
     "output_type": "stream",
     "text": [
      " patches in ROI\n",
      "37122 roi samples\n",
      "37015 patches in ROI\n",
      "37015 roi samples\n",
      "36734"
     ]
    },
    {
     "name": "stderr",
     "output_type": "stream",
     "text": [
      "locate patches: 0.05 seconds\n",
      "locate patches: 0.05 seconds\n"
     ]
    },
    {
     "name": "stdout",
     "output_type": "stream",
     "text": [
      " patches in ROI\n",
      "36734 roi samples\n",
      "36683 patches in ROI\n",
      "36683 roi samples\n",
      "36435"
     ]
    },
    {
     "name": "stderr",
     "output_type": "stream",
     "text": [
      "locate patches: 0.05 seconds\n",
      "locate patches: 0.05 seconds\n"
     ]
    },
    {
     "name": "stdout",
     "output_type": "stream",
     "text": [
      " patches in ROI\n",
      "36435 roi samples\n",
      "36726 patches in ROI\n",
      "36726 roi samples\n",
      "35900"
     ]
    },
    {
     "name": "stderr",
     "output_type": "stream",
     "text": [
      "locate patches: 0.05 seconds\n",
      "locate patches: 0.05 seconds\n"
     ]
    },
    {
     "name": "stdout",
     "output_type": "stream",
     "text": [
      " patches in ROI\n",
      "35900 roi samples\n",
      "35908 patches in ROI\n",
      "35908 roi samples\n",
      "35956"
     ]
    },
    {
     "name": "stderr",
     "output_type": "stream",
     "text": [
      "locate patches: 0.05 seconds\n",
      "locate patches: 0.05 seconds\n"
     ]
    },
    {
     "name": "stdout",
     "output_type": "stream",
     "text": [
      " patches in ROI\n",
      "35956 roi samples\n",
      "35380 patches in ROI\n",
      "35380 roi samples\n",
      "35216"
     ]
    },
    {
     "name": "stderr",
     "output_type": "stream",
     "text": [
      "locate patches: 0.05 seconds\n",
      "locate patches: 0.05 seconds\n"
     ]
    },
    {
     "name": "stdout",
     "output_type": "stream",
     "text": [
      " patches in ROI\n",
      "35216 roi samples\n",
      "35136 patches in ROI\n",
      "35136 roi samples\n",
      "34676"
     ]
    },
    {
     "name": "stderr",
     "output_type": "stream",
     "text": [
      "locate patches: 0.05 seconds\n",
      "locate patches: 0.05 seconds\n"
     ]
    },
    {
     "name": "stdout",
     "output_type": "stream",
     "text": [
      " patches in ROI\n",
      "34676 roi samples\n",
      "34541 patches in ROI\n",
      "34541 roi samples\n",
      "34450"
     ]
    },
    {
     "name": "stderr",
     "output_type": "stream",
     "text": [
      "locate patches: 0.05 seconds\n",
      "locate patches: 0.05 seconds\n"
     ]
    },
    {
     "name": "stdout",
     "output_type": "stream",
     "text": [
      " patches in ROI\n",
      "34450 roi samples\n",
      "34351 patches in ROI\n",
      "34351 roi samples\n",
      "33878"
     ]
    },
    {
     "name": "stderr",
     "output_type": "stream",
     "text": [
      "locate patches: 0.05 seconds\n",
      "locate patches: 0.05 seconds\n"
     ]
    },
    {
     "name": "stdout",
     "output_type": "stream",
     "text": [
      " patches in ROI\n",
      "33878 roi samples\n",
      "33771 patches in ROI\n",
      "33771 roi samples\n",
      "32490"
     ]
    },
    {
     "name": "stderr",
     "output_type": "stream",
     "text": [
      "locate patches: 0.05 seconds\n",
      "locate patches: 0.05 seconds\n"
     ]
    },
    {
     "name": "stdout",
     "output_type": "stream",
     "text": [
      " patches in ROI\n",
      "32490 roi samples\n",
      "33320 patches in ROI\n",
      "33320 roi samples\n",
      "33069"
     ]
    },
    {
     "name": "stderr",
     "output_type": "stream",
     "text": [
      "locate patches: 0.05 seconds\n",
      "locate patches: 0.05 seconds\n"
     ]
    },
    {
     "name": "stdout",
     "output_type": "stream",
     "text": [
      " patches in ROI\n",
      "33069 roi samples\n",
      "33040 patches in ROI\n",
      "33040 roi samples\n",
      "32548"
     ]
    },
    {
     "name": "stderr",
     "output_type": "stream",
     "text": [
      "locate patches: 0.05 seconds\n",
      "locate patches: 0.06 seconds\n"
     ]
    },
    {
     "name": "stdout",
     "output_type": "stream",
     "text": [
      " patches in ROI\n",
      "32548 roi samples\n",
      "32848 patches in ROI\n",
      "32848 roi samples\n",
      "32406"
     ]
    },
    {
     "name": "stderr",
     "output_type": "stream",
     "text": [
      "locate patches: 0.06 seconds\n",
      "locate patches: 0.06 seconds\n"
     ]
    },
    {
     "name": "stdout",
     "output_type": "stream",
     "text": [
      " patches in ROI\n",
      "32406 roi samples\n",
      "32253 patches in ROI\n",
      "32253 roi samples\n",
      "32062"
     ]
    },
    {
     "name": "stderr",
     "output_type": "stream",
     "text": [
      "locate patches: 0.06 seconds\n",
      "locate patches: 0.06 seconds\n"
     ]
    },
    {
     "name": "stdout",
     "output_type": "stream",
     "text": [
      " patches in ROI\n",
      "32062 roi samples\n",
      "31979 patches in ROI\n",
      "31979 roi samples\n",
      "32055"
     ]
    },
    {
     "name": "stderr",
     "output_type": "stream",
     "text": [
      "locate patches: 0.06 seconds\n",
      "locate patches: 0.06 seconds\n"
     ]
    },
    {
     "name": "stdout",
     "output_type": "stream",
     "text": [
      " patches in ROI\n",
      "32055 roi samples\n",
      "32048 patches in ROI\n",
      "32048 roi samples\n",
      "32011"
     ]
    },
    {
     "name": "stderr",
     "output_type": "stream",
     "text": [
      "locate patches: 0.06 seconds\n",
      "locate patches: 0.05 seconds\n"
     ]
    },
    {
     "name": "stdout",
     "output_type": "stream",
     "text": [
      " patches in ROI\n",
      "32011 roi samples\n",
      "31876 patches in ROI\n",
      "31876 roi samples\n",
      "31875"
     ]
    },
    {
     "name": "stderr",
     "output_type": "stream",
     "text": [
      "locate patches: 0.05 seconds\n",
      "locate patches: 0.05 seconds\n"
     ]
    },
    {
     "name": "stdout",
     "output_type": "stream",
     "text": [
      " patches in ROI\n",
      "31875 roi samples\n",
      "32085 patches in ROI\n",
      "32085 roi samples\n",
      "31991"
     ]
    },
    {
     "name": "stderr",
     "output_type": "stream",
     "text": [
      "locate patches: 0.05 seconds\n",
      "locate patches: 0.05 seconds\n"
     ]
    },
    {
     "name": "stdout",
     "output_type": "stream",
     "text": [
      " patches in ROI\n",
      "31991 roi samples\n",
      "31996 patches in ROI\n",
      "31996 roi samples\n",
      "31944"
     ]
    },
    {
     "name": "stderr",
     "output_type": "stream",
     "text": [
      "locate patches: 0.05 seconds\n",
      "locate patches: 0.05 seconds\n"
     ]
    },
    {
     "name": "stdout",
     "output_type": "stream",
     "text": [
      " patches in ROI\n",
      "31944 roi samples\n",
      "32225 patches in ROI\n",
      "32225 roi samples\n",
      "32055"
     ]
    },
    {
     "name": "stderr",
     "output_type": "stream",
     "text": [
      "locate patches: 0.05 seconds\n",
      "locate patches: 0.05 seconds\n"
     ]
    },
    {
     "name": "stdout",
     "output_type": "stream",
     "text": [
      " patches in ROI\n",
      "32055 roi samples\n",
      "33133 patches in ROI\n",
      "33133 roi samples\n",
      "31893"
     ]
    },
    {
     "name": "stderr",
     "output_type": "stream",
     "text": [
      "locate patches: 0.05 seconds\n",
      "locate patches: 0.05 seconds\n"
     ]
    },
    {
     "name": "stdout",
     "output_type": "stream",
     "text": [
      " patches in ROI\n",
      "31893 roi samples\n",
      "33002 patches in ROI\n",
      "33002 roi samples\n",
      "31690"
     ]
    },
    {
     "name": "stderr",
     "output_type": "stream",
     "text": [
      "locate patches: 0.06 seconds\n",
      "locate patches: 0.06 seconds\n"
     ]
    },
    {
     "name": "stdout",
     "output_type": "stream",
     "text": [
      " patches in ROI\n",
      "31690 roi samples\n",
      "31692 patches in ROI\n",
      "31692 roi samples\n",
      "31499"
     ]
    },
    {
     "name": "stderr",
     "output_type": "stream",
     "text": [
      "locate patches: 0.06 seconds\n",
      "locate patches: 0.06 seconds\n"
     ]
    },
    {
     "name": "stdout",
     "output_type": "stream",
     "text": [
      " patches in ROI\n",
      "31499 roi samples\n",
      "31366 patches in ROI\n",
      "31366 roi samples\n",
      "31309"
     ]
    },
    {
     "name": "stderr",
     "output_type": "stream",
     "text": [
      "locate patches: 0.06 seconds\n",
      "locate patches: 0.06 seconds\n"
     ]
    },
    {
     "name": "stdout",
     "output_type": "stream",
     "text": [
      " patches in ROI\n",
      "31309 roi samples\n",
      "31360 patches in ROI\n",
      "31360 roi samples\n",
      "31396"
     ]
    },
    {
     "name": "stderr",
     "output_type": "stream",
     "text": [
      "locate patches: 0.06 seconds\n",
      "locate patches: 0.06 seconds\n"
     ]
    },
    {
     "name": "stdout",
     "output_type": "stream",
     "text": [
      " patches in ROI\n",
      "31396 roi samples\n",
      "31023 patches in ROI\n",
      "31023 roi samples\n",
      "30958"
     ]
    },
    {
     "name": "stderr",
     "output_type": "stream",
     "text": [
      "locate patches: 0.06 seconds\n",
      "locate patches: 0.06 seconds\n"
     ]
    },
    {
     "name": "stdout",
     "output_type": "stream",
     "text": [
      " patches in ROI\n",
      "30958 roi samples\n",
      "31225 patches in ROI\n",
      "31225 roi samples\n",
      "31260"
     ]
    },
    {
     "name": "stderr",
     "output_type": "stream",
     "text": [
      "locate patches: 0.05 seconds\n",
      "locate patches: 0.05 seconds\n"
     ]
    },
    {
     "name": "stdout",
     "output_type": "stream",
     "text": [
      " patches in ROI\n",
      "31260 roi samples\n",
      "31366 patches in ROI\n",
      "31366 roi samples\n",
      "31247"
     ]
    },
    {
     "name": "stderr",
     "output_type": "stream",
     "text": [
      "locate patches: 0.05 seconds\n",
      "locate patches: 0.05 seconds\n"
     ]
    },
    {
     "name": "stdout",
     "output_type": "stream",
     "text": [
      " patches in ROI\n",
      "31247 roi samples\n",
      "32099 patches in ROI\n",
      "32099 roi samples\n",
      "30910"
     ]
    },
    {
     "name": "stderr",
     "output_type": "stream",
     "text": [
      "locate patches: 0.06 seconds\n",
      "locate patches: 0.06 seconds\n"
     ]
    },
    {
     "name": "stdout",
     "output_type": "stream",
     "text": [
      " patches in ROI\n",
      "30910 roi samples\n",
      "31320 patches in ROI\n",
      "31320 roi samples\n",
      "30983"
     ]
    },
    {
     "name": "stderr",
     "output_type": "stream",
     "text": [
      "locate patches: 0.06 seconds\n",
      "locate patches: 0.06 seconds\n"
     ]
    },
    {
     "name": "stdout",
     "output_type": "stream",
     "text": [
      " patches in ROI\n",
      "30983 roi samples\n",
      "30904 patches in ROI\n",
      "30904 roi samples\n",
      "30918"
     ]
    },
    {
     "name": "stderr",
     "output_type": "stream",
     "text": [
      "locate patches: 0.06 seconds\n",
      "locate patches: 0.06 seconds\n"
     ]
    },
    {
     "name": "stdout",
     "output_type": "stream",
     "text": [
      " patches in ROI\n",
      "30918 roi samples\n",
      "31140 patches in ROI\n",
      "31140 roi samples\n",
      "30898"
     ]
    },
    {
     "name": "stderr",
     "output_type": "stream",
     "text": [
      "locate patches: 0.06 seconds\n",
      "locate patches: 0.06 seconds\n"
     ]
    },
    {
     "name": "stdout",
     "output_type": "stream",
     "text": [
      " patches in ROI\n",
      "30898 roi samples\n",
      "31540 patches in ROI\n",
      "31540 roi samples\n",
      "31063"
     ]
    },
    {
     "name": "stderr",
     "output_type": "stream",
     "text": [
      "locate patches: 0.05 seconds\n",
      "locate patches: 0.05 seconds\n"
     ]
    },
    {
     "name": "stdout",
     "output_type": "stream",
     "text": [
      " patches in ROI\n",
      "31063 roi samples\n",
      "MD595\n",
      "23030 patches in ROI\n",
      "23030 roi samples\n",
      "23210"
     ]
    },
    {
     "name": "stderr",
     "output_type": "stream",
     "text": [
      "locate patches: 0.05 seconds\n",
      "locate patches: 0.05 seconds\n"
     ]
    },
    {
     "name": "stdout",
     "output_type": "stream",
     "text": [
      " patches in ROI\n",
      "23210 roi samples\n",
      "23496 patches in ROI\n",
      "23496 roi samples\n",
      "23835"
     ]
    },
    {
     "name": "stderr",
     "output_type": "stream",
     "text": [
      "locate patches: 0.05 seconds\n",
      "locate patches: 0.05 seconds\n"
     ]
    },
    {
     "name": "stdout",
     "output_type": "stream",
     "text": [
      " patches in ROI\n",
      "23835 roi samples\n",
      "23988 patches in ROI\n",
      "23988 roi samples\n",
      "24460"
     ]
    },
    {
     "name": "stderr",
     "output_type": "stream",
     "text": [
      "locate patches: 0.06 seconds\n",
      "locate patches: 0.05 seconds\n"
     ]
    },
    {
     "name": "stdout",
     "output_type": "stream",
     "text": [
      " patches in ROI\n",
      "24460 roi samples\n",
      "24265 patches in ROI\n",
      "24265 roi samples\n",
      "24215"
     ]
    },
    {
     "name": "stderr",
     "output_type": "stream",
     "text": [
      "locate patches: 0.05 seconds\n",
      "locate patches: 0.05 seconds\n"
     ]
    },
    {
     "name": "stdout",
     "output_type": "stream",
     "text": [
      " patches in ROI\n",
      "24215 roi samples\n",
      "24890 patches in ROI\n",
      "24890 roi samples\n",
      "24433"
     ]
    },
    {
     "name": "stderr",
     "output_type": "stream",
     "text": [
      "locate patches: 0.05 seconds\n",
      "locate patches: 0.05 seconds\n"
     ]
    },
    {
     "name": "stdout",
     "output_type": "stream",
     "text": [
      " patches in ROI\n",
      "24433 roi samples\n",
      "24879 patches in ROI\n",
      "24879 roi samples\n",
      "25277"
     ]
    },
    {
     "name": "stderr",
     "output_type": "stream",
     "text": [
      "locate patches: 0.05 seconds\n",
      "locate patches: 0.05 seconds\n"
     ]
    },
    {
     "name": "stdout",
     "output_type": "stream",
     "text": [
      " patches in ROI\n",
      "25277 roi samples\n",
      "25204 patches in ROI\n",
      "25204 roi samples\n",
      "25180"
     ]
    },
    {
     "name": "stderr",
     "output_type": "stream",
     "text": [
      "locate patches: 0.05 seconds\n",
      "locate patches: 0.05 seconds\n"
     ]
    },
    {
     "name": "stdout",
     "output_type": "stream",
     "text": [
      " patches in ROI\n",
      "25180 roi samples\n",
      "25302 patches in ROI\n",
      "25302 roi samples\n",
      "25161"
     ]
    },
    {
     "name": "stderr",
     "output_type": "stream",
     "text": [
      "locate patches: 0.05 seconds\n",
      "locate patches: 0.05 seconds\n"
     ]
    },
    {
     "name": "stdout",
     "output_type": "stream",
     "text": [
      " patches in ROI\n",
      "25161 roi samples\n",
      "25204 patches in ROI\n",
      "25204 roi samples\n",
      "25194"
     ]
    },
    {
     "name": "stderr",
     "output_type": "stream",
     "text": [
      "locate patches: 0.05 seconds\n",
      "locate patches: 0.05 seconds\n"
     ]
    },
    {
     "name": "stdout",
     "output_type": "stream",
     "text": [
      " patches in ROI\n",
      "25194 roi samples\n",
      "25688 patches in ROI\n",
      "25688 roi samples\n",
      "25550"
     ]
    },
    {
     "name": "stderr",
     "output_type": "stream",
     "text": [
      "locate patches: 0.05 seconds\n",
      "locate patches: 0.05 seconds\n"
     ]
    },
    {
     "name": "stdout",
     "output_type": "stream",
     "text": [
      " patches in ROI\n",
      "25550 roi samples\n",
      "26985 patches in ROI\n",
      "26985 roi samples\n",
      "27166"
     ]
    },
    {
     "name": "stderr",
     "output_type": "stream",
     "text": [
      "locate patches: 0.05 seconds\n",
      "locate patches: 0.05 seconds\n"
     ]
    },
    {
     "name": "stdout",
     "output_type": "stream",
     "text": [
      " patches in ROI\n",
      "27166 roi samples\n",
      "27763 patches in ROI\n",
      "27763 roi samples\n",
      "27880"
     ]
    },
    {
     "name": "stderr",
     "output_type": "stream",
     "text": [
      "locate patches: 0.05 seconds\n",
      "locate patches: 0.05 seconds\n"
     ]
    },
    {
     "name": "stdout",
     "output_type": "stream",
     "text": [
      " patches in ROI\n",
      "27880 roi samples\n",
      "28087 patches in ROI\n",
      "28087 roi samples\n",
      "31195"
     ]
    },
    {
     "name": "stderr",
     "output_type": "stream",
     "text": [
      "locate patches: 0.05 seconds\n",
      "locate patches: 0.05 seconds\n"
     ]
    },
    {
     "name": "stdout",
     "output_type": "stream",
     "text": [
      " patches in ROI\n",
      "31195 roi samples\n",
      "29590 patches in ROI\n",
      "29590 roi samples\n",
      "30426"
     ]
    },
    {
     "name": "stderr",
     "output_type": "stream",
     "text": [
      "locate patches: 0.05 seconds\n",
      "locate patches: 0.05 seconds\n"
     ]
    },
    {
     "name": "stdout",
     "output_type": "stream",
     "text": [
      " patches in ROI\n",
      "30426 roi samples\n",
      "30466 patches in ROI\n",
      "30466 roi samples\n",
      "30550"
     ]
    },
    {
     "name": "stderr",
     "output_type": "stream",
     "text": [
      "locate patches: 0.05 seconds\n",
      "locate patches: 0.05 seconds\n"
     ]
    },
    {
     "name": "stdout",
     "output_type": "stream",
     "text": [
      " patches in ROI\n",
      "30550 roi samples\n",
      "29679 patches in ROI\n",
      "29679 roi samples\n",
      "29961"
     ]
    },
    {
     "name": "stderr",
     "output_type": "stream",
     "text": [
      "locate patches: 0.05 seconds\n",
      "locate patches: 0.05 seconds\n"
     ]
    },
    {
     "name": "stdout",
     "output_type": "stream",
     "text": [
      " patches in ROI\n",
      "29961 roi samples\n",
      "30447 patches in ROI\n",
      "30447 roi samples\n",
      "30173"
     ]
    },
    {
     "name": "stderr",
     "output_type": "stream",
     "text": [
      "locate patches: 0.05 seconds\n",
      "locate patches: 0.05 seconds\n"
     ]
    },
    {
     "name": "stdout",
     "output_type": "stream",
     "text": [
      " patches in ROI\n",
      "30173 roi samples\n",
      "31159 patches in ROI\n",
      "31159 roi samples\n",
      "30854"
     ]
    },
    {
     "name": "stderr",
     "output_type": "stream",
     "text": [
      "locate patches: 0.05 seconds\n",
      "locate patches: 0.05 seconds\n"
     ]
    },
    {
     "name": "stdout",
     "output_type": "stream",
     "text": [
      " patches in ROI\n",
      "30854 roi samples\n",
      "31296 patches in ROI\n",
      "31296 roi samples\n",
      "31326"
     ]
    },
    {
     "name": "stderr",
     "output_type": "stream",
     "text": [
      "locate patches: 0.05 seconds\n",
      "locate patches: 0.05 seconds\n"
     ]
    },
    {
     "name": "stdout",
     "output_type": "stream",
     "text": [
      " patches in ROI\n",
      "31326 roi samples\n",
      "33108 patches in ROI\n",
      "33108 roi samples\n",
      "33266"
     ]
    },
    {
     "name": "stderr",
     "output_type": "stream",
     "text": [
      "locate patches: 0.05 seconds\n",
      "locate patches: 0.05 seconds\n"
     ]
    },
    {
     "name": "stdout",
     "output_type": "stream",
     "text": [
      " patches in ROI\n",
      "33266 roi samples\n",
      "34600 patches in ROI\n",
      "34600 roi samples\n",
      "33680"
     ]
    },
    {
     "name": "stderr",
     "output_type": "stream",
     "text": [
      "locate patches: 0.05 seconds\n",
      "locate patches: 0.05 seconds\n"
     ]
    },
    {
     "name": "stdout",
     "output_type": "stream",
     "text": [
      " patches in ROI\n",
      "33680 roi samples\n",
      "34151 patches in ROI\n",
      "34151 roi samples\n",
      "34061"
     ]
    },
    {
     "name": "stderr",
     "output_type": "stream",
     "text": [
      "locate patches: 0.05 seconds\n",
      "locate patches: 0.05 seconds\n"
     ]
    },
    {
     "name": "stdout",
     "output_type": "stream",
     "text": [
      " patches in ROI\n",
      "34061 roi samples\n",
      "35457 patches in ROI\n",
      "35457 roi samples\n",
      "35217"
     ]
    },
    {
     "name": "stderr",
     "output_type": "stream",
     "text": [
      "locate patches: 0.05 seconds\n",
      "locate patches: 0.05 seconds\n"
     ]
    },
    {
     "name": "stdout",
     "output_type": "stream",
     "text": [
      " patches in ROI\n",
      "35217 roi samples\n",
      "36394 patches in ROI\n",
      "36394 roi samples\n",
      "36417"
     ]
    },
    {
     "name": "stderr",
     "output_type": "stream",
     "text": [
      "locate patches: 0.05 seconds\n",
      "locate patches: 0.05 seconds\n"
     ]
    },
    {
     "name": "stdout",
     "output_type": "stream",
     "text": [
      " patches in ROI\n",
      "36417 roi samples\n",
      "37183 patches in ROI\n",
      "37183 roi samples\n",
      "37105"
     ]
    },
    {
     "name": "stderr",
     "output_type": "stream",
     "text": [
      "locate patches: 0.06 seconds\n",
      "locate patches: 0.05 seconds\n"
     ]
    },
    {
     "name": "stdout",
     "output_type": "stream",
     "text": [
      " patches in ROI\n",
      "37105 roi samples\n",
      "35675 patches in ROI\n",
      "35675 roi samples\n",
      "36448"
     ]
    },
    {
     "name": "stderr",
     "output_type": "stream",
     "text": [
      "locate patches: 0.05 seconds\n",
      "locate patches: 0.05 seconds\n"
     ]
    },
    {
     "name": "stdout",
     "output_type": "stream",
     "text": [
      " patches in ROI\n",
      "36448 roi samples\n",
      "38916 patches in ROI\n",
      "38916 roi samples\n",
      "39646"
     ]
    },
    {
     "name": "stderr",
     "output_type": "stream",
     "text": [
      "locate patches: 0.05 seconds\n",
      "locate patches: 0.05 seconds\n"
     ]
    },
    {
     "name": "stdout",
     "output_type": "stream",
     "text": [
      " patches in ROI\n",
      "39646 roi samples\n",
      "40145 patches in ROI\n",
      "40145 roi samples\n",
      "37335"
     ]
    },
    {
     "name": "stderr",
     "output_type": "stream",
     "text": [
      "locate patches: 0.05 seconds\n",
      "locate patches: 0.05 seconds\n"
     ]
    },
    {
     "name": "stdout",
     "output_type": "stream",
     "text": [
      " patches in ROI\n",
      "37335 roi samples\n",
      "37640 patches in ROI\n",
      "37640 roi samples\n",
      "40830"
     ]
    },
    {
     "name": "stderr",
     "output_type": "stream",
     "text": [
      "locate patches: 0.05 seconds\n",
      "locate patches: 0.05 seconds\n"
     ]
    },
    {
     "name": "stdout",
     "output_type": "stream",
     "text": [
      " patches in ROI\n",
      "40830 roi samples\n",
      "37952 patches in ROI\n",
      "37952 roi samples\n",
      "38063"
     ]
    },
    {
     "name": "stderr",
     "output_type": "stream",
     "text": [
      "locate patches: 0.05 seconds\n",
      "locate patches: 0.05 seconds\n"
     ]
    },
    {
     "name": "stdout",
     "output_type": "stream",
     "text": [
      " patches in ROI\n",
      "38063 roi samples\n",
      "41176 patches in ROI\n",
      "41176 roi samples\n",
      "41605"
     ]
    },
    {
     "name": "stderr",
     "output_type": "stream",
     "text": [
      "locate patches: 0.05 seconds\n",
      "locate patches: 0.05 seconds\n"
     ]
    },
    {
     "name": "stdout",
     "output_type": "stream",
     "text": [
      " patches in ROI\n",
      "41605 roi samples\n",
      "38833 patches in ROI\n",
      "38833 roi samples\n",
      "41794"
     ]
    },
    {
     "name": "stderr",
     "output_type": "stream",
     "text": [
      "locate patches: 0.05 seconds\n",
      "locate patches: 0.05 seconds\n"
     ]
    },
    {
     "name": "stdout",
     "output_type": "stream",
     "text": [
      " patches in ROI\n",
      "41794 roi samples\n",
      "41931 patches in ROI\n",
      "41931 roi samples\n",
      "42481"
     ]
    },
    {
     "name": "stderr",
     "output_type": "stream",
     "text": [
      "locate patches: 0.05 seconds\n",
      "locate patches: 0.05 seconds\n"
     ]
    },
    {
     "name": "stdout",
     "output_type": "stream",
     "text": [
      " patches in ROI\n",
      "42481 roi samples\n",
      "42627 patches in ROI\n",
      "42627 roi samples\n",
      "42895"
     ]
    },
    {
     "name": "stderr",
     "output_type": "stream",
     "text": [
      "locate patches: 0.05 seconds\n",
      "locate patches: 0.05 seconds\n"
     ]
    },
    {
     "name": "stdout",
     "output_type": "stream",
     "text": [
      " patches in ROI\n",
      "42895 roi samples\n",
      "43176 patches in ROI\n",
      "43176 roi samples\n",
      "43294"
     ]
    },
    {
     "name": "stderr",
     "output_type": "stream",
     "text": [
      "locate patches: 0.05 seconds\n",
      "locate patches: 0.05 seconds\n"
     ]
    },
    {
     "name": "stdout",
     "output_type": "stream",
     "text": [
      " patches in ROI\n",
      "43294 roi samples\n",
      "43404 patches in ROI\n",
      "43404 roi samples\n",
      "43386"
     ]
    },
    {
     "name": "stderr",
     "output_type": "stream",
     "text": [
      "locate patches: 0.05 seconds\n",
      "locate patches: 0.05 seconds\n"
     ]
    },
    {
     "name": "stdout",
     "output_type": "stream",
     "text": [
      " patches in ROI\n",
      "43386 roi samples\n",
      "43498 patches in ROI\n",
      "43498 roi samples\n",
      "43894"
     ]
    },
    {
     "name": "stderr",
     "output_type": "stream",
     "text": [
      "locate patches: 0.05 seconds\n",
      "locate patches: 0.05 seconds\n"
     ]
    },
    {
     "name": "stdout",
     "output_type": "stream",
     "text": [
      " patches in ROI\n",
      "43894 roi samples\n",
      "44283 patches in ROI\n",
      "44283 roi samples\n",
      "44099"
     ]
    },
    {
     "name": "stderr",
     "output_type": "stream",
     "text": [
      "locate patches: 0.05 seconds\n",
      "locate patches: 0.05 seconds\n"
     ]
    },
    {
     "name": "stdout",
     "output_type": "stream",
     "text": [
      " patches in ROI\n",
      "44099 roi samples\n",
      "44374 patches in ROI\n",
      "44374 roi samples\n",
      "44565"
     ]
    },
    {
     "name": "stderr",
     "output_type": "stream",
     "text": [
      "locate patches: 0.05 seconds\n",
      "locate patches: 0.05 seconds\n"
     ]
    },
    {
     "name": "stdout",
     "output_type": "stream",
     "text": [
      " patches in ROI\n",
      "44565 roi samples\n",
      "44607 patches in ROI\n",
      "44607 roi samples\n",
      "44476"
     ]
    },
    {
     "name": "stderr",
     "output_type": "stream",
     "text": [
      "locate patches: 0.05 seconds\n",
      "locate patches: 0.05 seconds\n"
     ]
    },
    {
     "name": "stdout",
     "output_type": "stream",
     "text": [
      " patches in ROI\n",
      "44476 roi samples\n",
      "44627 patches in ROI\n",
      "44627 roi samples\n",
      "44759"
     ]
    },
    {
     "name": "stderr",
     "output_type": "stream",
     "text": [
      "locate patches: 0.05 seconds\n",
      "locate patches: 0.05 seconds\n"
     ]
    },
    {
     "name": "stdout",
     "output_type": "stream",
     "text": [
      " patches in ROI\n",
      "44759 roi samples\n",
      "45112 patches in ROI\n",
      "45112 roi samples\n",
      "44255"
     ]
    },
    {
     "name": "stderr",
     "output_type": "stream",
     "text": [
      "locate patches: 0.05 seconds\n",
      "locate patches: 0.05 seconds\n"
     ]
    },
    {
     "name": "stdout",
     "output_type": "stream",
     "text": [
      " patches in ROI\n",
      "44255 roi samples\n",
      "45339 patches in ROI\n",
      "45339 roi samples\n",
      "45139"
     ]
    },
    {
     "name": "stderr",
     "output_type": "stream",
     "text": [
      "locate patches: 0.05 seconds\n",
      "locate patches: 0.05 seconds\n"
     ]
    },
    {
     "name": "stdout",
     "output_type": "stream",
     "text": [
      " patches in ROI\n",
      "45139 roi samples\n",
      "44962 patches in ROI\n",
      "44962 roi samples\n",
      "44754"
     ]
    },
    {
     "name": "stderr",
     "output_type": "stream",
     "text": [
      "locate patches: 0.05 seconds\n",
      "locate patches: 0.05 seconds\n"
     ]
    },
    {
     "name": "stdout",
     "output_type": "stream",
     "text": [
      " patches in ROI\n",
      "44754 roi samples\n",
      "45023 patches in ROI\n",
      "45023 roi samples\n",
      "44944"
     ]
    },
    {
     "name": "stderr",
     "output_type": "stream",
     "text": [
      "locate patches: 0.05 seconds\n",
      "locate patches: 0.05 seconds\n"
     ]
    },
    {
     "name": "stdout",
     "output_type": "stream",
     "text": [
      " patches in ROI\n",
      "44944 roi samples\n",
      "45108 patches in ROI\n",
      "45108 roi samples\n",
      "45184"
     ]
    },
    {
     "name": "stderr",
     "output_type": "stream",
     "text": [
      "locate patches: 0.05 seconds\n",
      "locate patches: 0.05 seconds\n"
     ]
    },
    {
     "name": "stdout",
     "output_type": "stream",
     "text": [
      " patches in ROI\n",
      "45184 roi samples\n",
      "45870 patches in ROI\n",
      "45870 roi samples\n",
      "46925"
     ]
    },
    {
     "name": "stderr",
     "output_type": "stream",
     "text": [
      "locate patches: 0.05 seconds\n",
      "locate patches: 0.05 seconds\n"
     ]
    },
    {
     "name": "stdout",
     "output_type": "stream",
     "text": [
      " patches in ROI\n",
      "46925 roi samples\n",
      "45426 patches in ROI\n",
      "45426 roi samples\n",
      "45882"
     ]
    },
    {
     "name": "stderr",
     "output_type": "stream",
     "text": [
      "locate patches: 0.05 seconds\n",
      "locate patches: 0.05 seconds\n"
     ]
    },
    {
     "name": "stdout",
     "output_type": "stream",
     "text": [
      " patches in ROI\n",
      "45882 roi samples\n",
      "46298 patches in ROI\n",
      "46298 roi samples\n",
      "45726"
     ]
    },
    {
     "name": "stderr",
     "output_type": "stream",
     "text": [
      "locate patches: 0.05 seconds\n",
      "locate patches: 0.05 seconds\n"
     ]
    },
    {
     "name": "stdout",
     "output_type": "stream",
     "text": [
      " patches in ROI\n",
      "45726 roi samples\n",
      "46117 patches in ROI\n",
      "46117 roi samples\n",
      "46389"
     ]
    },
    {
     "name": "stderr",
     "output_type": "stream",
     "text": [
      "locate patches: 0.05 seconds\n",
      "locate patches: 0.05 seconds\n"
     ]
    },
    {
     "name": "stdout",
     "output_type": "stream",
     "text": [
      " patches in ROI\n",
      "46389 roi samples\n",
      "48619 patches in ROI\n",
      "48619 roi samples\n",
      "49397"
     ]
    },
    {
     "name": "stderr",
     "output_type": "stream",
     "text": [
      "locate patches: 0.05 seconds\n",
      "locate patches: 0.05 seconds\n"
     ]
    },
    {
     "name": "stdout",
     "output_type": "stream",
     "text": [
      " patches in ROI\n",
      "49397 roi samples\n",
      "51437 patches in ROI\n",
      "51437 roi samples\n",
      "51479"
     ]
    },
    {
     "name": "stderr",
     "output_type": "stream",
     "text": [
      "locate patches: 0.05 seconds\n",
      "locate patches: 0.05 seconds\n"
     ]
    },
    {
     "name": "stdout",
     "output_type": "stream",
     "text": [
      " patches in ROI\n",
      "51479 roi samples\n",
      "50229 patches in ROI\n",
      "50229 roi samples\n",
      "50989"
     ]
    },
    {
     "name": "stderr",
     "output_type": "stream",
     "text": [
      "locate patches: 0.05 seconds\n",
      "locate patches: 0.05 seconds\n"
     ]
    },
    {
     "name": "stdout",
     "output_type": "stream",
     "text": [
      " patches in ROI\n",
      "50989 roi samples\n",
      "53389 patches in ROI\n",
      "53389 roi samples\n",
      "50687"
     ]
    },
    {
     "name": "stderr",
     "output_type": "stream",
     "text": [
      "locate patches: 0.05 seconds\n",
      "locate patches: 0.05 seconds\n"
     ]
    },
    {
     "name": "stdout",
     "output_type": "stream",
     "text": [
      " patches in ROI\n",
      "50687 roi samples\n",
      "52236 patches in ROI\n",
      "52236 roi samples\n",
      "52886"
     ]
    },
    {
     "name": "stderr",
     "output_type": "stream",
     "text": [
      "locate patches: 0.05 seconds\n",
      "locate patches: 0.05 seconds\n"
     ]
    },
    {
     "name": "stdout",
     "output_type": "stream",
     "text": [
      " patches in ROI\n",
      "52886 roi samples\n",
      "54430 patches in ROI\n",
      "54430 roi samples\n",
      "54514"
     ]
    },
    {
     "name": "stderr",
     "output_type": "stream",
     "text": [
      "locate patches: 0.05 seconds\n",
      "locate patches: 0.05 seconds\n"
     ]
    },
    {
     "name": "stdout",
     "output_type": "stream",
     "text": [
      " patches in ROI\n",
      "54514 roi samples\n",
      "52560 patches in ROI\n",
      "52560 roi samples\n",
      "53529"
     ]
    },
    {
     "name": "stderr",
     "output_type": "stream",
     "text": [
      "locate patches: 0.05 seconds\n",
      "locate patches: 0.05 seconds\n"
     ]
    },
    {
     "name": "stdout",
     "output_type": "stream",
     "text": [
      " patches in ROI\n",
      "53529 roi samples\n",
      "55731 patches in ROI\n",
      "55731 roi samples\n",
      "55354"
     ]
    },
    {
     "name": "stderr",
     "output_type": "stream",
     "text": [
      "locate patches: 0.06 seconds\n",
      "locate patches: 0.05 seconds\n"
     ]
    },
    {
     "name": "stdout",
     "output_type": "stream",
     "text": [
      " patches in ROI\n",
      "55354 roi samples\n",
      "54907 patches in ROI\n",
      "54907 roi samples\n",
      "54360"
     ]
    },
    {
     "name": "stderr",
     "output_type": "stream",
     "text": [
      "locate patches: 0.05 seconds\n",
      "locate patches: 0.05 seconds\n"
     ]
    },
    {
     "name": "stdout",
     "output_type": "stream",
     "text": [
      " patches in ROI\n",
      "54360 roi samples\n",
      "55627 patches in ROI\n",
      "55627 roi samples\n",
      "55261"
     ]
    },
    {
     "name": "stderr",
     "output_type": "stream",
     "text": [
      "locate patches: 0.05 seconds\n",
      "locate patches: 0.05 seconds\n"
     ]
    },
    {
     "name": "stdout",
     "output_type": "stream",
     "text": [
      " patches in ROI\n",
      "55261 roi samples\n",
      "54155 patches in ROI\n",
      "54155 roi samples\n",
      "55463"
     ]
    },
    {
     "name": "stderr",
     "output_type": "stream",
     "text": [
      "locate patches: 0.05 seconds\n",
      "locate patches: 0.05 seconds\n"
     ]
    },
    {
     "name": "stdout",
     "output_type": "stream",
     "text": [
      " patches in ROI\n",
      "55463 roi samples\n",
      "55766 patches in ROI\n",
      "55766 roi samples\n",
      "55812"
     ]
    },
    {
     "name": "stderr",
     "output_type": "stream",
     "text": [
      "locate patches: 0.05 seconds\n",
      "locate patches: 0.05 seconds\n"
     ]
    },
    {
     "name": "stdout",
     "output_type": "stream",
     "text": [
      " patches in ROI\n",
      "55812 roi samples\n",
      "55814 patches in ROI\n",
      "55814 roi samples\n",
      "54618"
     ]
    },
    {
     "name": "stderr",
     "output_type": "stream",
     "text": [
      "locate patches: 0.05 seconds\n",
      "locate patches: 0.05 seconds\n"
     ]
    },
    {
     "name": "stdout",
     "output_type": "stream",
     "text": [
      " patches in ROI\n",
      "54618 roi samples\n",
      "56290 patches in ROI\n",
      "56290 roi samples\n",
      "56377"
     ]
    },
    {
     "name": "stderr",
     "output_type": "stream",
     "text": [
      "locate patches: 0.05 seconds\n",
      "locate patches: 0.05 seconds\n"
     ]
    },
    {
     "name": "stdout",
     "output_type": "stream",
     "text": [
      " patches in ROI\n",
      "56377 roi samples\n",
      "55502 patches in ROI\n",
      "55502 roi samples\n",
      "53404"
     ]
    },
    {
     "name": "stderr",
     "output_type": "stream",
     "text": [
      "locate patches: 0.06 seconds\n",
      "locate patches: 0.05 seconds\n"
     ]
    },
    {
     "name": "stdout",
     "output_type": "stream",
     "text": [
      " patches in ROI\n",
      "53404 roi samples\n",
      "58194 patches in ROI\n",
      "58194 roi samples\n",
      "56482"
     ]
    },
    {
     "name": "stderr",
     "output_type": "stream",
     "text": [
      "locate patches: 0.05 seconds\n",
      "locate patches: 0.05 seconds\n"
     ]
    },
    {
     "name": "stdout",
     "output_type": "stream",
     "text": [
      " patches in ROI\n",
      "56482 roi samples\n",
      "56081 patches in ROI\n",
      "56081 roi samples\n",
      "56367"
     ]
    },
    {
     "name": "stderr",
     "output_type": "stream",
     "text": [
      "locate patches: 0.05 seconds\n",
      "locate patches: 0.05 seconds\n"
     ]
    },
    {
     "name": "stdout",
     "output_type": "stream",
     "text": [
      " patches in ROI\n",
      "56367 roi samples\n",
      "55505 patches in ROI\n",
      "55505 roi samples\n",
      "57459"
     ]
    },
    {
     "name": "stderr",
     "output_type": "stream",
     "text": [
      "locate patches: 0.05 seconds\n",
      "locate patches: 0.05 seconds\n"
     ]
    },
    {
     "name": "stdout",
     "output_type": "stream",
     "text": [
      " patches in ROI\n",
      "57459 roi samples\n",
      "56793 patches in ROI\n",
      "56793 roi samples\n",
      "56321"
     ]
    },
    {
     "name": "stderr",
     "output_type": "stream",
     "text": [
      "locate patches: 0.05 seconds\n",
      "locate patches: 0.05 seconds\n"
     ]
    },
    {
     "name": "stdout",
     "output_type": "stream",
     "text": [
      " patches in ROI\n",
      "56321 roi samples\n",
      "57172 patches in ROI\n",
      "57172 roi samples\n",
      "57215"
     ]
    },
    {
     "name": "stderr",
     "output_type": "stream",
     "text": [
      "locate patches: 0.05 seconds\n",
      "locate patches: 0.05 seconds\n"
     ]
    },
    {
     "name": "stdout",
     "output_type": "stream",
     "text": [
      " patches in ROI\n",
      "57215 roi samples\n",
      "56700 patches in ROI\n",
      "56700 roi samples\n",
      "56939"
     ]
    },
    {
     "name": "stderr",
     "output_type": "stream",
     "text": [
      "locate patches: 0.05 seconds\n",
      "locate patches: 0.05 seconds\n"
     ]
    },
    {
     "name": "stdout",
     "output_type": "stream",
     "text": [
      " patches in ROI\n",
      "56939 roi samples\n",
      "56953 patches in ROI\n",
      "56953 roi samples\n",
      "56826"
     ]
    },
    {
     "name": "stderr",
     "output_type": "stream",
     "text": [
      "locate patches: 0.05 seconds\n",
      "locate patches: 0.05 seconds\n"
     ]
    },
    {
     "name": "stdout",
     "output_type": "stream",
     "text": [
      " patches in ROI\n",
      "56826 roi samples\n",
      "56794 patches in ROI\n",
      "56794 roi samples\n",
      "57063"
     ]
    },
    {
     "name": "stderr",
     "output_type": "stream",
     "text": [
      "locate patches: 0.05 seconds\n",
      "locate patches: 0.05 seconds\n"
     ]
    },
    {
     "name": "stdout",
     "output_type": "stream",
     "text": [
      " patches in ROI\n",
      "57063 roi samples\n",
      "57534 patches in ROI\n",
      "57534 roi samples\n",
      "57534"
     ]
    },
    {
     "name": "stderr",
     "output_type": "stream",
     "text": [
      "locate patches: 0.05 seconds\n",
      "locate patches: 0.05 seconds\n"
     ]
    },
    {
     "name": "stdout",
     "output_type": "stream",
     "text": [
      " patches in ROI\n",
      "57534 roi samples\n",
      "57421 patches in ROI\n",
      "57421 roi samples\n",
      "57349"
     ]
    },
    {
     "name": "stderr",
     "output_type": "stream",
     "text": [
      "locate patches: 0.05 seconds\n",
      "locate patches: 0.05 seconds\n"
     ]
    },
    {
     "name": "stdout",
     "output_type": "stream",
     "text": [
      " patches in ROI\n",
      "57349 roi samples\n",
      "58530 patches in ROI\n",
      "58530 roi samples\n",
      "57600"
     ]
    },
    {
     "name": "stderr",
     "output_type": "stream",
     "text": [
      "locate patches: 0.05 seconds\n",
      "locate patches: 0.05 seconds\n"
     ]
    },
    {
     "name": "stdout",
     "output_type": "stream",
     "text": [
      " patches in ROI\n",
      "57600 roi samples\n",
      "57544 patches in ROI\n",
      "57544 roi samples\n",
      "57489"
     ]
    },
    {
     "name": "stderr",
     "output_type": "stream",
     "text": [
      "locate patches: 0.05 seconds\n",
      "locate patches: 0.05 seconds\n"
     ]
    },
    {
     "name": "stdout",
     "output_type": "stream",
     "text": [
      " patches in ROI\n",
      "57489 roi samples\n",
      "57829 patches in ROI\n",
      "57829 roi samples\n",
      "57549"
     ]
    },
    {
     "name": "stderr",
     "output_type": "stream",
     "text": [
      "locate patches: 0.05 seconds\n",
      "locate patches: 0.05 seconds\n"
     ]
    },
    {
     "name": "stdout",
     "output_type": "stream",
     "text": [
      " patches in ROI\n",
      "57549 roi samples\n",
      "56473 patches in ROI\n",
      "56473 roi samples\n",
      "57291"
     ]
    },
    {
     "name": "stderr",
     "output_type": "stream",
     "text": [
      "locate patches: 0.05 seconds\n",
      "locate patches: 0.05 seconds\n"
     ]
    },
    {
     "name": "stdout",
     "output_type": "stream",
     "text": [
      " patches in ROI\n",
      "57291 roi samples\n",
      "57404 patches in ROI\n",
      "57404 roi samples\n",
      "57309"
     ]
    },
    {
     "name": "stderr",
     "output_type": "stream",
     "text": [
      "locate patches: 0.05 seconds\n",
      "locate patches: 0.05 seconds\n"
     ]
    },
    {
     "name": "stdout",
     "output_type": "stream",
     "text": [
      " patches in ROI\n",
      "57309 roi samples\n",
      "56806 patches in ROI\n",
      "56806 roi samples\n",
      "56975"
     ]
    },
    {
     "name": "stderr",
     "output_type": "stream",
     "text": [
      "locate patches: 0.05 seconds\n",
      "locate patches: 0.05 seconds\n"
     ]
    },
    {
     "name": "stdout",
     "output_type": "stream",
     "text": [
      " patches in ROI\n",
      "56975 roi samples\n",
      "56898 patches in ROI\n",
      "56898 roi samples\n",
      "56895"
     ]
    },
    {
     "name": "stderr",
     "output_type": "stream",
     "text": [
      "locate patches: 0.05 seconds\n",
      "locate patches: 0.05 seconds\n"
     ]
    },
    {
     "name": "stdout",
     "output_type": "stream",
     "text": [
      " patches in ROI\n",
      "56895 roi samples\n",
      "56509 patches in ROI\n",
      "56509 roi samples\n",
      "56524"
     ]
    },
    {
     "name": "stderr",
     "output_type": "stream",
     "text": [
      "locate patches: 0.05 seconds\n",
      "locate patches: 0.05 seconds\n"
     ]
    },
    {
     "name": "stdout",
     "output_type": "stream",
     "text": [
      " patches in ROI\n",
      "56524 roi samples\n",
      "56254 patches in ROI\n",
      "56254 roi samples\n",
      "56043"
     ]
    },
    {
     "name": "stderr",
     "output_type": "stream",
     "text": [
      "locate patches: 0.05 seconds\n",
      "locate patches: 0.05 seconds\n"
     ]
    },
    {
     "name": "stdout",
     "output_type": "stream",
     "text": [
      " patches in ROI\n",
      "56043 roi samples\n",
      "55703 patches in ROI\n",
      "55703 roi samples\n",
      "55788"
     ]
    },
    {
     "name": "stderr",
     "output_type": "stream",
     "text": [
      "locate patches: 0.05 seconds\n",
      "locate patches: 0.05 seconds\n"
     ]
    },
    {
     "name": "stdout",
     "output_type": "stream",
     "text": [
      " patches in ROI\n",
      "55788 roi samples\n",
      "55719 patches in ROI\n",
      "55719 roi samples\n",
      "55816"
     ]
    },
    {
     "name": "stderr",
     "output_type": "stream",
     "text": [
      "locate patches: 0.05 seconds\n",
      "locate patches: 0.05 seconds\n"
     ]
    },
    {
     "name": "stdout",
     "output_type": "stream",
     "text": [
      " patches in ROI\n",
      "55816 roi samples\n",
      "55012 patches in ROI\n",
      "55012 roi samples\n",
      "56207"
     ]
    },
    {
     "name": "stderr",
     "output_type": "stream",
     "text": [
      "locate patches: 0.05 seconds\n",
      "locate patches: 0.05 seconds\n"
     ]
    },
    {
     "name": "stdout",
     "output_type": "stream",
     "text": [
      " patches in ROI\n",
      "56207 roi samples\n",
      "55187 patches in ROI\n",
      "55187 roi samples\n",
      "55536"
     ]
    },
    {
     "name": "stderr",
     "output_type": "stream",
     "text": [
      "locate patches: 0.05 seconds\n",
      "locate patches: 0.05 seconds\n"
     ]
    },
    {
     "name": "stdout",
     "output_type": "stream",
     "text": [
      " patches in ROI\n",
      "55536 roi samples\n",
      "54014 patches in ROI\n",
      "54014 roi samples\n",
      "53973"
     ]
    },
    {
     "name": "stderr",
     "output_type": "stream",
     "text": [
      "locate patches: 0.05 seconds\n",
      "locate patches: 0.05 seconds\n"
     ]
    },
    {
     "name": "stdout",
     "output_type": "stream",
     "text": [
      " patches in ROI\n",
      "53973 roi samples\n",
      "53558 patches in ROI\n",
      "53558 roi samples\n",
      "54049"
     ]
    },
    {
     "name": "stderr",
     "output_type": "stream",
     "text": [
      "locate patches: 0.05 seconds\n",
      "locate patches: 0.05 seconds\n"
     ]
    },
    {
     "name": "stdout",
     "output_type": "stream",
     "text": [
      " patches in ROI\n",
      "54049 roi samples\n",
      "52254 patches in ROI\n",
      "52254 roi samples\n",
      "52492"
     ]
    },
    {
     "name": "stderr",
     "output_type": "stream",
     "text": [
      "locate patches: 0.05 seconds\n",
      "locate patches: 0.05 seconds\n"
     ]
    },
    {
     "name": "stdout",
     "output_type": "stream",
     "text": [
      " patches in ROI\n",
      "52492 roi samples\n",
      "51991 patches in ROI\n",
      "51991 roi samples\n",
      "51252"
     ]
    },
    {
     "name": "stderr",
     "output_type": "stream",
     "text": [
      "locate patches: 0.05 seconds\n",
      "locate patches: 0.05 seconds\n"
     ]
    },
    {
     "name": "stdout",
     "output_type": "stream",
     "text": [
      " patches in ROI\n",
      "51252 roi samples\n",
      "49829 patches in ROI\n",
      "49829 roi samples\n",
      "49871"
     ]
    },
    {
     "name": "stderr",
     "output_type": "stream",
     "text": [
      "locate patches: 0.05 seconds\n",
      "locate patches: 0.05 seconds\n"
     ]
    },
    {
     "name": "stdout",
     "output_type": "stream",
     "text": [
      " patches in ROI\n",
      "49871 roi samples\n",
      "49218 patches in ROI\n",
      "49218 roi samples\n",
      "48381"
     ]
    },
    {
     "name": "stderr",
     "output_type": "stream",
     "text": [
      "locate patches: 0.05 seconds\n",
      "locate patches: 0.05 seconds\n"
     ]
    },
    {
     "name": "stdout",
     "output_type": "stream",
     "text": [
      " patches in ROI\n",
      "48381 roi samples\n",
      "47398 patches in ROI\n",
      "47398 roi samples\n",
      "46908"
     ]
    },
    {
     "name": "stderr",
     "output_type": "stream",
     "text": [
      "locate patches: 0.05 seconds\n",
      "locate patches: 0.05 seconds\n"
     ]
    },
    {
     "name": "stdout",
     "output_type": "stream",
     "text": [
      " patches in ROI\n",
      "46908 roi samples\n",
      "43698 patches in ROI\n",
      "43698 roi samples\n",
      "43375"
     ]
    },
    {
     "name": "stderr",
     "output_type": "stream",
     "text": [
      "locate patches: 0.05 seconds\n",
      "locate patches: 0.05 seconds\n"
     ]
    },
    {
     "name": "stdout",
     "output_type": "stream",
     "text": [
      " patches in ROI\n",
      "43375 roi samples\n",
      "42175 patches in ROI\n",
      "42175 roi samples\n",
      "42125"
     ]
    },
    {
     "name": "stderr",
     "output_type": "stream",
     "text": [
      "locate patches: 0.05 seconds\n",
      "locate patches: 0.05 seconds\n"
     ]
    },
    {
     "name": "stdout",
     "output_type": "stream",
     "text": [
      " patches in ROI\n",
      "42125 roi samples\n",
      "42039 patches in ROI\n",
      "42039 roi samples\n",
      "42099"
     ]
    },
    {
     "name": "stderr",
     "output_type": "stream",
     "text": [
      "locate patches: 0.05 seconds\n",
      "locate patches: 0.05 seconds\n"
     ]
    },
    {
     "name": "stdout",
     "output_type": "stream",
     "text": [
      " patches in ROI\n",
      "42099 roi samples\n",
      "41759 patches in ROI\n",
      "41759 roi samples\n",
      "41594"
     ]
    },
    {
     "name": "stderr",
     "output_type": "stream",
     "text": [
      "locate patches: 0.05 seconds\n",
      "locate patches: 0.05 seconds\n"
     ]
    },
    {
     "name": "stdout",
     "output_type": "stream",
     "text": [
      " patches in ROI\n",
      "41594 roi samples\n",
      "41885 patches in ROI\n",
      "41885 roi samples\n",
      "42095"
     ]
    },
    {
     "name": "stderr",
     "output_type": "stream",
     "text": [
      "locate patches: 0.05 seconds\n",
      "locate patches: 0.05 seconds\n"
     ]
    },
    {
     "name": "stdout",
     "output_type": "stream",
     "text": [
      " patches in ROI\n",
      "42095 roi samples\n",
      "41779 patches in ROI\n",
      "41779 roi samples\n",
      "41910"
     ]
    },
    {
     "name": "stderr",
     "output_type": "stream",
     "text": [
      "locate patches: 0.05 seconds\n",
      "locate patches: 0.05 seconds\n"
     ]
    },
    {
     "name": "stdout",
     "output_type": "stream",
     "text": [
      " patches in ROI\n",
      "41910 roi samples\n",
      "41841 patches in ROI\n",
      "41841 roi samples\n",
      "41925"
     ]
    },
    {
     "name": "stderr",
     "output_type": "stream",
     "text": [
      "locate patches: 0.05 seconds\n",
      "locate patches: 0.05 seconds\n"
     ]
    },
    {
     "name": "stdout",
     "output_type": "stream",
     "text": [
      " patches in ROI\n",
      "41925 roi samples\n",
      "41759 patches in ROI\n",
      "41759 roi samples\n",
      "42061"
     ]
    },
    {
     "name": "stderr",
     "output_type": "stream",
     "text": [
      "locate patches: 0.05 seconds\n",
      "locate patches: 0.05 seconds\n"
     ]
    },
    {
     "name": "stdout",
     "output_type": "stream",
     "text": [
      " patches in ROI\n",
      "42061 roi samples\n",
      "42096 patches in ROI\n",
      "42096 roi samples\n",
      "42202"
     ]
    },
    {
     "name": "stderr",
     "output_type": "stream",
     "text": [
      "locate patches: 0.05 seconds\n",
      "locate patches: 0.05 seconds\n"
     ]
    },
    {
     "name": "stdout",
     "output_type": "stream",
     "text": [
      " patches in ROI\n",
      "42202 roi samples\n",
      "42222 patches in ROI\n",
      "42222 roi samples\n",
      "42478"
     ]
    },
    {
     "name": "stderr",
     "output_type": "stream",
     "text": [
      "locate patches: 0.05 seconds\n",
      "locate patches: 0.05 seconds\n"
     ]
    },
    {
     "name": "stdout",
     "output_type": "stream",
     "text": [
      " patches in ROI\n",
      "42478 roi samples\n",
      "42164 patches in ROI\n",
      "42164 roi samples\n",
      "42361"
     ]
    },
    {
     "name": "stderr",
     "output_type": "stream",
     "text": [
      "locate patches: 0.05 seconds\n",
      "locate patches: 0.05 seconds\n"
     ]
    },
    {
     "name": "stdout",
     "output_type": "stream",
     "text": [
      " patches in ROI\n",
      "42361 roi samples\n",
      "42140 patches in ROI\n",
      "42140 roi samples\n",
      "42268"
     ]
    },
    {
     "name": "stderr",
     "output_type": "stream",
     "text": [
      "locate patches: 0.05 seconds\n",
      "locate patches: 0.05 seconds\n"
     ]
    },
    {
     "name": "stdout",
     "output_type": "stream",
     "text": [
      " patches in ROI\n",
      "42268 roi samples\n",
      "41024 patches in ROI\n",
      "41024 roi samples\n",
      "42016"
     ]
    },
    {
     "name": "stderr",
     "output_type": "stream",
     "text": [
      "locate patches: 0.05 seconds\n",
      "locate patches: 0.05 seconds\n"
     ]
    },
    {
     "name": "stdout",
     "output_type": "stream",
     "text": [
      " patches in ROI\n",
      "42016 roi samples\n",
      "42240 patches in ROI\n",
      "42240 roi samples\n",
      "42170"
     ]
    },
    {
     "name": "stderr",
     "output_type": "stream",
     "text": [
      "locate patches: 0.05 seconds\n",
      "locate patches: 0.05 seconds\n"
     ]
    },
    {
     "name": "stdout",
     "output_type": "stream",
     "text": [
      " patches in ROI\n",
      "42170 roi samples\n",
      "41722 patches in ROI\n",
      "41722 roi samples\n",
      "41565"
     ]
    },
    {
     "name": "stderr",
     "output_type": "stream",
     "text": [
      "locate patches: 0.05 seconds\n",
      "locate patches: 0.05 seconds\n"
     ]
    },
    {
     "name": "stdout",
     "output_type": "stream",
     "text": [
      " patches in ROI\n",
      "41565 roi samples\n",
      "41407 patches in ROI\n",
      "41407 roi samples\n",
      "41365"
     ]
    },
    {
     "name": "stderr",
     "output_type": "stream",
     "text": [
      "locate patches: 0.05 seconds\n",
      "locate patches: 0.05 seconds\n"
     ]
    },
    {
     "name": "stdout",
     "output_type": "stream",
     "text": [
      " patches in ROI\n",
      "41365 roi samples\n",
      "41159 patches in ROI\n",
      "41159 roi samples\n",
      "41269"
     ]
    },
    {
     "name": "stderr",
     "output_type": "stream",
     "text": [
      "locate patches: 0.05 seconds\n",
      "locate patches: 0.05 seconds\n"
     ]
    },
    {
     "name": "stdout",
     "output_type": "stream",
     "text": [
      " patches in ROI\n",
      "41269 roi samples\n",
      "40848 patches in ROI\n",
      "40848 roi samples\n",
      "40957"
     ]
    },
    {
     "name": "stderr",
     "output_type": "stream",
     "text": [
      "locate patches: 0.05 seconds\n",
      "locate patches: 0.05 seconds\n"
     ]
    },
    {
     "name": "stdout",
     "output_type": "stream",
     "text": [
      " patches in ROI\n",
      "40957 roi samples\n",
      "40499 patches in ROI\n",
      "40499 roi samples\n",
      "40562"
     ]
    },
    {
     "name": "stderr",
     "output_type": "stream",
     "text": [
      "locate patches: 0.05 seconds\n",
      "locate patches: 0.05 seconds\n"
     ]
    },
    {
     "name": "stdout",
     "output_type": "stream",
     "text": [
      " patches in ROI\n",
      "40562 roi samples\n",
      "40428 patches in ROI\n",
      "40428 roi samples\n",
      "42020"
     ]
    },
    {
     "name": "stderr",
     "output_type": "stream",
     "text": [
      "locate patches: 0.05 seconds\n",
      "locate patches: 0.05 seconds\n"
     ]
    },
    {
     "name": "stdout",
     "output_type": "stream",
     "text": [
      " patches in ROI\n",
      "42020 roi samples\n",
      "40105 patches in ROI\n",
      "40105 roi samples\n",
      "40160"
     ]
    },
    {
     "name": "stderr",
     "output_type": "stream",
     "text": [
      "locate patches: 0.05 seconds\n",
      "locate patches: 0.05 seconds\n"
     ]
    },
    {
     "name": "stdout",
     "output_type": "stream",
     "text": [
      " patches in ROI\n",
      "40160 roi samples\n",
      "39804 patches in ROI\n",
      "39804 roi samples\n",
      "39684"
     ]
    },
    {
     "name": "stderr",
     "output_type": "stream",
     "text": [
      "locate patches: 0.05 seconds\n",
      "locate patches: 0.05 seconds\n"
     ]
    },
    {
     "name": "stdout",
     "output_type": "stream",
     "text": [
      " patches in ROI\n",
      "39684 roi samples\n",
      "39709 patches in ROI\n",
      "39709 roi samples\n",
      "39378"
     ]
    },
    {
     "name": "stderr",
     "output_type": "stream",
     "text": [
      "locate patches: 0.05 seconds\n",
      "locate patches: 0.05 seconds\n"
     ]
    },
    {
     "name": "stdout",
     "output_type": "stream",
     "text": [
      " patches in ROI\n",
      "39378 roi samples\n",
      "39122 patches in ROI\n",
      "39122 roi samples\n",
      "38780"
     ]
    },
    {
     "name": "stderr",
     "output_type": "stream",
     "text": [
      "locate patches: 0.05 seconds\n",
      "locate patches: 0.05 seconds\n"
     ]
    },
    {
     "name": "stdout",
     "output_type": "stream",
     "text": [
      " patches in ROI\n",
      "38780 roi samples\n",
      "38634 patches in ROI\n",
      "38634 roi samples\n",
      "38089"
     ]
    },
    {
     "name": "stderr",
     "output_type": "stream",
     "text": [
      "locate patches: 0.05 seconds\n",
      "locate patches: 0.05 seconds\n"
     ]
    },
    {
     "name": "stdout",
     "output_type": "stream",
     "text": [
      " patches in ROI\n",
      "38089 roi samples\n",
      "38328 patches in ROI\n",
      "38328 roi samples\n",
      "38271"
     ]
    },
    {
     "name": "stderr",
     "output_type": "stream",
     "text": [
      "locate patches: 0.05 seconds\n",
      "locate patches: 0.05 seconds\n"
     ]
    },
    {
     "name": "stdout",
     "output_type": "stream",
     "text": [
      " patches in ROI\n",
      "38271 roi samples\n",
      "37522 patches in ROI\n",
      "37522 roi samples\n",
      "36985"
     ]
    },
    {
     "name": "stderr",
     "output_type": "stream",
     "text": [
      "locate patches: 0.05 seconds\n",
      "locate patches: 0.05 seconds\n"
     ]
    },
    {
     "name": "stdout",
     "output_type": "stream",
     "text": [
      " patches in ROI\n",
      "36985 roi samples\n",
      "36614 patches in ROI\n",
      "36614 roi samples\n",
      "37013"
     ]
    },
    {
     "name": "stderr",
     "output_type": "stream",
     "text": [
      "locate patches: 0.05 seconds\n",
      "locate patches: 0.05 seconds\n"
     ]
    },
    {
     "name": "stdout",
     "output_type": "stream",
     "text": [
      " patches in ROI\n",
      "37013 roi samples\n",
      "35948 patches in ROI\n",
      "35948 roi samples\n",
      "35656"
     ]
    },
    {
     "name": "stderr",
     "output_type": "stream",
     "text": [
      "locate patches: 0.05 seconds\n",
      "locate patches: 0.05 seconds\n"
     ]
    },
    {
     "name": "stdout",
     "output_type": "stream",
     "text": [
      " patches in ROI\n",
      "35656 roi samples\n",
      "35531 patches in ROI\n",
      "35531 roi samples\n",
      "34934"
     ]
    },
    {
     "name": "stderr",
     "output_type": "stream",
     "text": [
      "locate patches: 0.05 seconds\n",
      "locate patches: 0.05 seconds\n"
     ]
    },
    {
     "name": "stdout",
     "output_type": "stream",
     "text": [
      " patches in ROI\n",
      "34934 roi samples\n",
      "34369 patches in ROI\n",
      "34369 roi samples\n",
      "33829"
     ]
    },
    {
     "name": "stderr",
     "output_type": "stream",
     "text": [
      "locate patches: 0.05 seconds\n",
      "locate patches: 0.05 seconds\n"
     ]
    },
    {
     "name": "stdout",
     "output_type": "stream",
     "text": [
      " patches in ROI\n",
      "33829 roi samples\n",
      "33075 patches in ROI\n",
      "33075 roi samples\n",
      "32869"
     ]
    },
    {
     "name": "stderr",
     "output_type": "stream",
     "text": [
      "locate patches: 0.05 seconds\n",
      "locate patches: 0.05 seconds\n"
     ]
    },
    {
     "name": "stdout",
     "output_type": "stream",
     "text": [
      " patches in ROI\n",
      "32869 roi samples\n",
      "32132 patches in ROI\n",
      "32132 roi samples\n",
      "32353"
     ]
    },
    {
     "name": "stderr",
     "output_type": "stream",
     "text": [
      "locate patches: 0.05 seconds\n",
      "locate patches: 0.05 seconds\n"
     ]
    },
    {
     "name": "stdout",
     "output_type": "stream",
     "text": [
      " patches in ROI\n",
      "32353 roi samples\n",
      "32189 patches in ROI\n",
      "32189 roi samples\n",
      "31914"
     ]
    },
    {
     "name": "stderr",
     "output_type": "stream",
     "text": [
      "locate patches: 0.05 seconds\n",
      "locate patches: 0.05 seconds\n"
     ]
    },
    {
     "name": "stdout",
     "output_type": "stream",
     "text": [
      " patches in ROI\n",
      "31914 roi samples\n",
      "31926 patches in ROI\n",
      "31926 roi samples\n",
      "31788"
     ]
    },
    {
     "name": "stderr",
     "output_type": "stream",
     "text": [
      "locate patches: 0.05 seconds\n",
      "locate patches: 0.05 seconds\n"
     ]
    },
    {
     "name": "stdout",
     "output_type": "stream",
     "text": [
      " patches in ROI\n",
      "31788 roi samples\n",
      "30963 patches in ROI\n",
      "30963 roi samples\n",
      "30262"
     ]
    },
    {
     "name": "stderr",
     "output_type": "stream",
     "text": [
      "locate patches: 0.05 seconds\n",
      "locate patches: 0.05 seconds\n"
     ]
    },
    {
     "name": "stdout",
     "output_type": "stream",
     "text": [
      " patches in ROI\n",
      "30262 roi samples\n",
      "30468 patches in ROI\n",
      "30468 roi samples\n",
      "29410"
     ]
    },
    {
     "name": "stderr",
     "output_type": "stream",
     "text": [
      "locate patches: 0.05 seconds\n",
      "locate patches: 0.05 seconds\n"
     ]
    },
    {
     "name": "stdout",
     "output_type": "stream",
     "text": [
      " patches in ROI\n",
      "29410 roi samples\n",
      "MD598\n",
      "32085 patches in ROI\n",
      "32085 roi samples\n",
      "32158"
     ]
    },
    {
     "name": "stderr",
     "output_type": "stream",
     "text": [
      "locate patches: 0.05 seconds\n",
      "locate patches: 0.04 seconds\n"
     ]
    },
    {
     "name": "stdout",
     "output_type": "stream",
     "text": [
      " patches in ROI\n",
      "32158 roi samples\n",
      "31935 patches in ROI\n",
      "31935 roi samples\n",
      "32459"
     ]
    },
    {
     "name": "stderr",
     "output_type": "stream",
     "text": [
      "locate patches: 0.05 seconds\n",
      "locate patches: 0.05 seconds\n"
     ]
    },
    {
     "name": "stdout",
     "output_type": "stream",
     "text": [
      " patches in ROI\n",
      "32459 roi samples\n",
      "32270 patches in ROI\n",
      "32270 roi samples\n",
      "32205"
     ]
    },
    {
     "name": "stderr",
     "output_type": "stream",
     "text": [
      "locate patches: 0.05 seconds\n",
      "locate patches: 0.04 seconds\n"
     ]
    },
    {
     "name": "stdout",
     "output_type": "stream",
     "text": [
      " patches in ROI\n",
      "32205 roi samples\n",
      "32093 patches in ROI\n",
      "32093 roi samples\n",
      "32983"
     ]
    },
    {
     "name": "stderr",
     "output_type": "stream",
     "text": [
      "locate patches: 0.04 seconds\n",
      "locate patches: 0.04 seconds\n"
     ]
    },
    {
     "name": "stdout",
     "output_type": "stream",
     "text": [
      " patches in ROI\n",
      "32983 roi samples\n",
      "32620 patches in ROI\n",
      "32620 roi samples\n",
      "32651"
     ]
    },
    {
     "name": "stderr",
     "output_type": "stream",
     "text": [
      "locate patches: 0.04 seconds\n",
      "locate patches: 0.04 seconds\n"
     ]
    },
    {
     "name": "stdout",
     "output_type": "stream",
     "text": [
      " patches in ROI\n",
      "32651 roi samples\n",
      "33105 patches in ROI\n",
      "33105 roi samples\n",
      "32544"
     ]
    },
    {
     "name": "stderr",
     "output_type": "stream",
     "text": [
      "locate patches: 0.04 seconds\n",
      "locate patches: 0.04 seconds\n"
     ]
    },
    {
     "name": "stdout",
     "output_type": "stream",
     "text": [
      " patches in ROI\n",
      "32544 roi samples\n",
      "33083 patches in ROI\n",
      "33083 roi samples\n",
      "32708"
     ]
    },
    {
     "name": "stderr",
     "output_type": "stream",
     "text": [
      "locate patches: 0.04 seconds\n",
      "locate patches: 0.04 seconds\n"
     ]
    },
    {
     "name": "stdout",
     "output_type": "stream",
     "text": [
      " patches in ROI\n",
      "32708 roi samples\n",
      "32444 patches in ROI\n",
      "32444 roi samples\n",
      "33062"
     ]
    },
    {
     "name": "stderr",
     "output_type": "stream",
     "text": [
      "locate patches: 0.04 seconds\n",
      "locate patches: 0.04 seconds\n"
     ]
    },
    {
     "name": "stdout",
     "output_type": "stream",
     "text": [
      " patches in ROI\n",
      "33062 roi samples\n",
      "33272 patches in ROI\n",
      "33272 roi samples\n",
      "32467"
     ]
    },
    {
     "name": "stderr",
     "output_type": "stream",
     "text": [
      "locate patches: 0.04 seconds\n",
      "locate patches: 0.04 seconds\n"
     ]
    },
    {
     "name": "stdout",
     "output_type": "stream",
     "text": [
      " patches in ROI\n",
      "32467 roi samples\n",
      "32654 patches in ROI\n",
      "32654 roi samples\n",
      "33183"
     ]
    },
    {
     "name": "stderr",
     "output_type": "stream",
     "text": [
      "locate patches: 0.04 seconds\n",
      "locate patches: 0.04 seconds\n"
     ]
    },
    {
     "name": "stdout",
     "output_type": "stream",
     "text": [
      " patches in ROI\n",
      "33183 roi samples\n",
      "32673 patches in ROI\n",
      "32673 roi samples\n",
      "33089"
     ]
    },
    {
     "name": "stderr",
     "output_type": "stream",
     "text": [
      "locate patches: 0.04 seconds\n",
      "locate patches: 0.04 seconds\n"
     ]
    },
    {
     "name": "stdout",
     "output_type": "stream",
     "text": [
      " patches in ROI\n",
      "33089 roi samples\n",
      "33119 patches in ROI\n",
      "33119 roi samples\n",
      "33851"
     ]
    },
    {
     "name": "stderr",
     "output_type": "stream",
     "text": [
      "locate patches: 0.04 seconds\n",
      "locate patches: 0.04 seconds\n"
     ]
    },
    {
     "name": "stdout",
     "output_type": "stream",
     "text": [
      " patches in ROI\n",
      "33851 roi samples\n",
      "33503 patches in ROI\n",
      "33503 roi samples\n",
      "33811"
     ]
    },
    {
     "name": "stderr",
     "output_type": "stream",
     "text": [
      "locate patches: 0.04 seconds\n",
      "locate patches: 0.04 seconds\n"
     ]
    },
    {
     "name": "stdout",
     "output_type": "stream",
     "text": [
      " patches in ROI\n",
      "33811 roi samples\n",
      "33830 patches in ROI\n",
      "33830 roi samples\n",
      "34258"
     ]
    },
    {
     "name": "stderr",
     "output_type": "stream",
     "text": [
      "locate patches: 0.04 seconds\n",
      "locate patches: 0.04 seconds\n"
     ]
    },
    {
     "name": "stdout",
     "output_type": "stream",
     "text": [
      " patches in ROI\n",
      "34258 roi samples\n",
      "34009 patches in ROI\n",
      "34009 roi samples\n",
      "34812"
     ]
    },
    {
     "name": "stderr",
     "output_type": "stream",
     "text": [
      "locate patches: 0.04 seconds\n",
      "locate patches: 0.04 seconds\n"
     ]
    },
    {
     "name": "stdout",
     "output_type": "stream",
     "text": [
      " patches in ROI\n",
      "34812 roi samples\n",
      "34082 patches in ROI\n",
      "34082 roi samples\n",
      "34605"
     ]
    },
    {
     "name": "stderr",
     "output_type": "stream",
     "text": [
      "locate patches: 0.04 seconds\n",
      "locate patches: 0.04 seconds\n"
     ]
    },
    {
     "name": "stdout",
     "output_type": "stream",
     "text": [
      " patches in ROI\n",
      "34605 roi samples\n",
      "34205 patches in ROI\n",
      "34205 roi samples\n",
      "35190"
     ]
    },
    {
     "name": "stderr",
     "output_type": "stream",
     "text": [
      "locate patches: 0.04 seconds\n",
      "locate patches: 0.04 seconds\n"
     ]
    },
    {
     "name": "stdout",
     "output_type": "stream",
     "text": [
      " patches in ROI\n",
      "35190 roi samples\n",
      "35490 patches in ROI\n",
      "35490 roi samples\n",
      "35201"
     ]
    },
    {
     "name": "stderr",
     "output_type": "stream",
     "text": [
      "locate patches: 0.04 seconds\n",
      "locate patches: 0.04 seconds\n"
     ]
    },
    {
     "name": "stdout",
     "output_type": "stream",
     "text": [
      " patches in ROI\n",
      "35201 roi samples\n",
      "35302 patches in ROI\n",
      "35302 roi samples\n",
      "35556"
     ]
    },
    {
     "name": "stderr",
     "output_type": "stream",
     "text": [
      "locate patches: 0.04 seconds\n",
      "locate patches: 0.04 seconds\n"
     ]
    },
    {
     "name": "stdout",
     "output_type": "stream",
     "text": [
      " patches in ROI\n",
      "35556 roi samples\n",
      "41037 patches in ROI\n",
      "41037 roi samples\n",
      "35481"
     ]
    },
    {
     "name": "stderr",
     "output_type": "stream",
     "text": [
      "locate patches: 0.04 seconds\n",
      "locate patches: 0.04 seconds\n"
     ]
    },
    {
     "name": "stdout",
     "output_type": "stream",
     "text": [
      " patches in ROI\n",
      "35481 roi samples\n",
      "35337 patches in ROI\n",
      "35337 roi samples\n",
      "35667"
     ]
    },
    {
     "name": "stderr",
     "output_type": "stream",
     "text": [
      "locate patches: 0.04 seconds\n",
      "locate patches: 0.04 seconds\n"
     ]
    },
    {
     "name": "stdout",
     "output_type": "stream",
     "text": [
      " patches in ROI\n",
      "35667 roi samples\n",
      "35743 patches in ROI\n",
      "35743 roi samples\n",
      "36212"
     ]
    },
    {
     "name": "stderr",
     "output_type": "stream",
     "text": [
      "locate patches: 0.04 seconds\n",
      "locate patches: 0.04 seconds\n"
     ]
    },
    {
     "name": "stdout",
     "output_type": "stream",
     "text": [
      " patches in ROI\n",
      "36212 roi samples\n",
      "35872 patches in ROI\n",
      "35872 roi samples\n",
      "36385"
     ]
    },
    {
     "name": "stderr",
     "output_type": "stream",
     "text": [
      "locate patches: 0.04 seconds\n",
      "locate patches: 0.04 seconds\n"
     ]
    },
    {
     "name": "stdout",
     "output_type": "stream",
     "text": [
      " patches in ROI\n",
      "36385 roi samples\n",
      "36590 patches in ROI\n",
      "36590 roi samples\n",
      "36730"
     ]
    },
    {
     "name": "stderr",
     "output_type": "stream",
     "text": [
      "locate patches: 0.04 seconds\n",
      "locate patches: 0.04 seconds\n"
     ]
    },
    {
     "name": "stdout",
     "output_type": "stream",
     "text": [
      " patches in ROI\n",
      "36730 roi samples\n",
      "37004 patches in ROI\n",
      "37004 roi samples\n",
      "37632"
     ]
    },
    {
     "name": "stderr",
     "output_type": "stream",
     "text": [
      "locate patches: 0.04 seconds\n",
      "locate patches: 0.04 seconds\n"
     ]
    },
    {
     "name": "stdout",
     "output_type": "stream",
     "text": [
      " patches in ROI\n",
      "37632 roi samples\n",
      "37504 patches in ROI\n",
      "37504 roi samples\n",
      "37880"
     ]
    },
    {
     "name": "stderr",
     "output_type": "stream",
     "text": [
      "locate patches: 0.04 seconds\n",
      "locate patches: 0.04 seconds\n"
     ]
    },
    {
     "name": "stdout",
     "output_type": "stream",
     "text": [
      " patches in ROI\n",
      "37880 roi samples\n",
      "37944 patches in ROI\n",
      "37944 roi samples\n",
      "38187"
     ]
    },
    {
     "name": "stderr",
     "output_type": "stream",
     "text": [
      "locate patches: 0.04 seconds\n",
      "locate patches: 0.04 seconds\n"
     ]
    },
    {
     "name": "stdout",
     "output_type": "stream",
     "text": [
      " patches in ROI\n",
      "38187 roi samples\n",
      "38364 patches in ROI\n",
      "38364 roi samples\n",
      "38349"
     ]
    },
    {
     "name": "stderr",
     "output_type": "stream",
     "text": [
      "locate patches: 0.04 seconds\n",
      "locate patches: 0.04 seconds\n"
     ]
    },
    {
     "name": "stdout",
     "output_type": "stream",
     "text": [
      " patches in ROI\n",
      "38349 roi samples\n",
      "39080 patches in ROI\n",
      "39080 roi samples\n",
      "39250"
     ]
    },
    {
     "name": "stderr",
     "output_type": "stream",
     "text": [
      "locate patches: 0.04 seconds\n",
      "locate patches: 0.04 seconds\n"
     ]
    },
    {
     "name": "stdout",
     "output_type": "stream",
     "text": [
      " patches in ROI\n",
      "39250 roi samples\n",
      "39320 patches in ROI\n",
      "39320 roi samples\n",
      "39463"
     ]
    },
    {
     "name": "stderr",
     "output_type": "stream",
     "text": [
      "locate patches: 0.04 seconds\n",
      "locate patches: 0.04 seconds\n"
     ]
    },
    {
     "name": "stdout",
     "output_type": "stream",
     "text": [
      " patches in ROI\n",
      "39463 roi samples\n",
      "39537 patches in ROI\n",
      "39537 roi samples\n",
      "40107"
     ]
    },
    {
     "name": "stderr",
     "output_type": "stream",
     "text": [
      "locate patches: 0.05 seconds\n",
      "locate patches: 0.05 seconds\n"
     ]
    },
    {
     "name": "stdout",
     "output_type": "stream",
     "text": [
      " patches in ROI\n",
      "40107 roi samples\n",
      "40228 patches in ROI\n",
      "40228 roi samples\n",
      "40297"
     ]
    },
    {
     "name": "stderr",
     "output_type": "stream",
     "text": [
      "locate patches: 0.05 seconds\n",
      "locate patches: 0.05 seconds\n"
     ]
    },
    {
     "name": "stdout",
     "output_type": "stream",
     "text": [
      " patches in ROI\n",
      "40297 roi samples\n",
      "40448 patches in ROI\n",
      "40448 roi samples\n",
      "40739"
     ]
    },
    {
     "name": "stderr",
     "output_type": "stream",
     "text": [
      "locate patches: 0.05 seconds\n",
      "locate patches: 0.05 seconds\n"
     ]
    },
    {
     "name": "stdout",
     "output_type": "stream",
     "text": [
      " patches in ROI\n",
      "40739 roi samples\n",
      "40817 patches in ROI\n",
      "40817 roi samples\n",
      "41479"
     ]
    },
    {
     "name": "stderr",
     "output_type": "stream",
     "text": [
      "locate patches: 0.05 seconds\n",
      "locate patches: 0.05 seconds\n"
     ]
    },
    {
     "name": "stdout",
     "output_type": "stream",
     "text": [
      " patches in ROI\n",
      "41479 roi samples\n",
      "41394 patches in ROI\n",
      "41394 roi samples\n",
      "41834"
     ]
    },
    {
     "name": "stderr",
     "output_type": "stream",
     "text": [
      "locate patches: 0.05 seconds\n",
      "locate patches: 0.04 seconds\n"
     ]
    },
    {
     "name": "stdout",
     "output_type": "stream",
     "text": [
      " patches in ROI\n",
      "41834 roi samples\n",
      "41923 patches in ROI\n",
      "41923 roi samples\n",
      "42107"
     ]
    },
    {
     "name": "stderr",
     "output_type": "stream",
     "text": [
      "locate patches: 0.04 seconds\n",
      "locate patches: 0.04 seconds\n"
     ]
    },
    {
     "name": "stdout",
     "output_type": "stream",
     "text": [
      " patches in ROI\n",
      "42107 roi samples\n",
      "42023 patches in ROI\n",
      "42023 roi samples\n",
      "42284"
     ]
    },
    {
     "name": "stderr",
     "output_type": "stream",
     "text": [
      "locate patches: 0.04 seconds\n",
      "locate patches: 0.04 seconds\n"
     ]
    },
    {
     "name": "stdout",
     "output_type": "stream",
     "text": [
      " patches in ROI\n",
      "42284 roi samples\n",
      "42989 patches in ROI\n",
      "42989 roi samples\n",
      "43142"
     ]
    },
    {
     "name": "stderr",
     "output_type": "stream",
     "text": [
      "locate patches: 0.04 seconds\n",
      "locate patches: 0.04 seconds\n"
     ]
    },
    {
     "name": "stdout",
     "output_type": "stream",
     "text": [
      " patches in ROI\n",
      "43142 roi samples\n",
      "43072 patches in ROI\n",
      "43072 roi samples\n",
      "43111"
     ]
    },
    {
     "name": "stderr",
     "output_type": "stream",
     "text": [
      "locate patches: 0.04 seconds\n",
      "locate patches: 0.04 seconds\n"
     ]
    },
    {
     "name": "stdout",
     "output_type": "stream",
     "text": [
      " patches in ROI\n",
      "43111 roi samples\n",
      "43715 patches in ROI\n",
      "43715 roi samples\n",
      "43700"
     ]
    },
    {
     "name": "stderr",
     "output_type": "stream",
     "text": [
      "locate patches: 0.04 seconds\n",
      "locate patches: 0.04 seconds\n"
     ]
    },
    {
     "name": "stdout",
     "output_type": "stream",
     "text": [
      " patches in ROI\n",
      "43700 roi samples\n",
      "43919 patches in ROI\n",
      "43919 roi samples\n",
      "44176"
     ]
    },
    {
     "name": "stderr",
     "output_type": "stream",
     "text": [
      "locate patches: 0.04 seconds\n",
      "locate patches: 0.04 seconds\n"
     ]
    },
    {
     "name": "stdout",
     "output_type": "stream",
     "text": [
      " patches in ROI\n",
      "44176 roi samples\n",
      "43539 patches in ROI\n",
      "43539 roi samples\n",
      "43693"
     ]
    },
    {
     "name": "stderr",
     "output_type": "stream",
     "text": [
      "locate patches: 0.04 seconds\n",
      "locate patches: 0.04 seconds\n"
     ]
    },
    {
     "name": "stdout",
     "output_type": "stream",
     "text": [
      " patches in ROI\n",
      "43693 roi samples\n",
      "44950 patches in ROI\n",
      "44950 roi samples\n",
      "44284"
     ]
    },
    {
     "name": "stderr",
     "output_type": "stream",
     "text": [
      "locate patches: 0.04 seconds\n",
      "locate patches: 0.04 seconds\n"
     ]
    },
    {
     "name": "stdout",
     "output_type": "stream",
     "text": [
      " patches in ROI\n",
      "44284 roi samples\n",
      "45008 patches in ROI\n",
      "45008 roi samples\n",
      "44543"
     ]
    },
    {
     "name": "stderr",
     "output_type": "stream",
     "text": [
      "locate patches: 0.04 seconds\n",
      "locate patches: 0.04 seconds\n"
     ]
    },
    {
     "name": "stdout",
     "output_type": "stream",
     "text": [
      " patches in ROI\n",
      "44543 roi samples\n",
      "43747 patches in ROI\n",
      "43747 roi samples\n",
      "45270"
     ]
    },
    {
     "name": "stderr",
     "output_type": "stream",
     "text": [
      "locate patches: 0.04 seconds\n",
      "locate patches: 0.04 seconds\n"
     ]
    },
    {
     "name": "stdout",
     "output_type": "stream",
     "text": [
      " patches in ROI\n",
      "45270 roi samples\n",
      "44885 patches in ROI\n",
      "44885 roi samples\n",
      "44712"
     ]
    },
    {
     "name": "stderr",
     "output_type": "stream",
     "text": [
      "locate patches: 0.04 seconds\n",
      "locate patches: 0.04 seconds\n"
     ]
    },
    {
     "name": "stdout",
     "output_type": "stream",
     "text": [
      " patches in ROI\n",
      "44712 roi samples\n",
      "45013 patches in ROI\n",
      "45013 roi samples\n",
      "44691"
     ]
    },
    {
     "name": "stderr",
     "output_type": "stream",
     "text": [
      "locate patches: 0.04 seconds\n",
      "locate patches: 0.04 seconds\n"
     ]
    },
    {
     "name": "stdout",
     "output_type": "stream",
     "text": [
      " patches in ROI\n",
      "44691 roi samples\n",
      "44591 patches in ROI\n",
      "44591 roi samples\n",
      "44716"
     ]
    },
    {
     "name": "stderr",
     "output_type": "stream",
     "text": [
      "locate patches: 0.04 seconds\n",
      "locate patches: 0.04 seconds\n"
     ]
    },
    {
     "name": "stdout",
     "output_type": "stream",
     "text": [
      " patches in ROI\n",
      "44716 roi samples\n",
      "45043 patches in ROI\n",
      "45043 roi samples\n",
      "44603"
     ]
    },
    {
     "name": "stderr",
     "output_type": "stream",
     "text": [
      "locate patches: 0.04 seconds\n",
      "locate patches: 0.04 seconds\n"
     ]
    },
    {
     "name": "stdout",
     "output_type": "stream",
     "text": [
      " patches in ROI\n",
      "44603 roi samples\n",
      "44284 patches in ROI\n",
      "44284 roi samples\n",
      "44704"
     ]
    },
    {
     "name": "stderr",
     "output_type": "stream",
     "text": [
      "locate patches: 0.05 seconds\n",
      "locate patches: 0.05 seconds\n"
     ]
    },
    {
     "name": "stdout",
     "output_type": "stream",
     "text": [
      " patches in ROI\n",
      "44704 roi samples\n",
      "44360 patches in ROI\n",
      "44360 roi samples\n",
      "44337"
     ]
    },
    {
     "name": "stderr",
     "output_type": "stream",
     "text": [
      "locate patches: 0.05 seconds\n",
      "locate patches: 0.05 seconds\n"
     ]
    },
    {
     "name": "stdout",
     "output_type": "stream",
     "text": [
      " patches in ROI\n",
      "44337 roi samples\n",
      "41148 patches in ROI\n",
      "41148 roi samples\n",
      "44763"
     ]
    },
    {
     "name": "stderr",
     "output_type": "stream",
     "text": [
      "locate patches: 0.05 seconds\n",
      "locate patches: 0.05 seconds\n"
     ]
    },
    {
     "name": "stdout",
     "output_type": "stream",
     "text": [
      " patches in ROI\n",
      "44763 roi samples\n",
      "44267 patches in ROI\n",
      "44267 roi samples\n",
      "44265"
     ]
    },
    {
     "name": "stderr",
     "output_type": "stream",
     "text": [
      "locate patches: 0.04 seconds\n",
      "locate patches: 0.04 seconds\n"
     ]
    },
    {
     "name": "stdout",
     "output_type": "stream",
     "text": [
      " patches in ROI\n",
      "44265 roi samples\n",
      "44161 patches in ROI\n",
      "44161 roi samples\n",
      "45538"
     ]
    },
    {
     "name": "stderr",
     "output_type": "stream",
     "text": [
      "locate patches: 0.04 seconds\n",
      "locate patches: 0.04 seconds\n"
     ]
    },
    {
     "name": "stdout",
     "output_type": "stream",
     "text": [
      " patches in ROI\n",
      "45538 roi samples\n",
      "45238 patches in ROI\n",
      "45238 roi samples\n",
      "50643"
     ]
    },
    {
     "name": "stderr",
     "output_type": "stream",
     "text": [
      "locate patches: 0.04 seconds\n",
      "locate patches: 0.04 seconds\n"
     ]
    },
    {
     "name": "stdout",
     "output_type": "stream",
     "text": [
      " patches in ROI\n",
      "50643 roi samples\n",
      "42754 patches in ROI\n",
      "42754 roi samples\n",
      "51038"
     ]
    },
    {
     "name": "stderr",
     "output_type": "stream",
     "text": [
      "locate patches: 0.04 seconds\n",
      "locate patches: 0.04 seconds\n"
     ]
    },
    {
     "name": "stdout",
     "output_type": "stream",
     "text": [
      " patches in ROI\n",
      "51038 roi samples\n",
      "51561 patches in ROI\n",
      "51561 roi samples\n",
      "50379"
     ]
    },
    {
     "name": "stderr",
     "output_type": "stream",
     "text": [
      "locate patches: 0.04 seconds\n",
      "locate patches: 0.04 seconds\n"
     ]
    },
    {
     "name": "stdout",
     "output_type": "stream",
     "text": [
      " patches in ROI\n",
      "50379 roi samples\n",
      "50156 patches in ROI\n",
      "50156 roi samples\n",
      "52717"
     ]
    },
    {
     "name": "stderr",
     "output_type": "stream",
     "text": [
      "locate patches: 0.04 seconds\n",
      "locate patches: 0.04 seconds\n"
     ]
    },
    {
     "name": "stdout",
     "output_type": "stream",
     "text": [
      " patches in ROI\n",
      "52717 roi samples\n",
      "52143 patches in ROI\n",
      "52143 roi samples\n",
      "53599"
     ]
    },
    {
     "name": "stderr",
     "output_type": "stream",
     "text": [
      "locate patches: 0.04 seconds\n",
      "locate patches: 0.04 seconds\n"
     ]
    },
    {
     "name": "stdout",
     "output_type": "stream",
     "text": [
      " patches in ROI\n",
      "53599 roi samples\n",
      "52115 patches in ROI\n",
      "52115 roi samples\n",
      "51750"
     ]
    },
    {
     "name": "stderr",
     "output_type": "stream",
     "text": [
      "locate patches: 0.04 seconds\n",
      "locate patches: 0.04 seconds\n"
     ]
    },
    {
     "name": "stdout",
     "output_type": "stream",
     "text": [
      " patches in ROI\n",
      "51750 roi samples\n",
      "54101 patches in ROI\n",
      "54101 roi samples\n",
      "55053"
     ]
    },
    {
     "name": "stderr",
     "output_type": "stream",
     "text": [
      "locate patches: 0.04 seconds\n",
      "locate patches: 0.04 seconds\n"
     ]
    },
    {
     "name": "stdout",
     "output_type": "stream",
     "text": [
      " patches in ROI\n",
      "55053 roi samples\n",
      "52429 patches in ROI\n",
      "52429 roi samples\n",
      "55302"
     ]
    },
    {
     "name": "stderr",
     "output_type": "stream",
     "text": [
      "locate patches: 0.04 seconds\n",
      "locate patches: 0.04 seconds\n"
     ]
    },
    {
     "name": "stdout",
     "output_type": "stream",
     "text": [
      " patches in ROI\n",
      "55302 roi samples\n",
      "55262 patches in ROI\n",
      "55262 roi samples\n",
      "55211"
     ]
    },
    {
     "name": "stderr",
     "output_type": "stream",
     "text": [
      "locate patches: 0.04 seconds\n",
      "locate patches: 0.04 seconds\n"
     ]
    },
    {
     "name": "stdout",
     "output_type": "stream",
     "text": [
      " patches in ROI\n",
      "55211 roi samples\n",
      "54532 patches in ROI\n",
      "54532 roi samples\n",
      "56251"
     ]
    },
    {
     "name": "stderr",
     "output_type": "stream",
     "text": [
      "locate patches: 0.04 seconds\n",
      "locate patches: 0.04 seconds\n"
     ]
    },
    {
     "name": "stdout",
     "output_type": "stream",
     "text": [
      " patches in ROI\n",
      "56251 roi samples\n",
      "54427 patches in ROI\n",
      "54427 roi samples\n",
      "56267"
     ]
    },
    {
     "name": "stderr",
     "output_type": "stream",
     "text": [
      "locate patches: 0.04 seconds\n",
      "locate patches: 0.04 seconds\n"
     ]
    },
    {
     "name": "stdout",
     "output_type": "stream",
     "text": [
      " patches in ROI\n",
      "56267 roi samples\n",
      "54203 patches in ROI\n",
      "54203 roi samples\n",
      "56161"
     ]
    },
    {
     "name": "stderr",
     "output_type": "stream",
     "text": [
      "locate patches: 0.05 seconds\n",
      "locate patches: 0.04 seconds\n"
     ]
    },
    {
     "name": "stdout",
     "output_type": "stream",
     "text": [
      " patches in ROI\n",
      "56161 roi samples\n",
      "56541 patches in ROI\n",
      "56541 roi samples\n",
      "55735"
     ]
    },
    {
     "name": "stderr",
     "output_type": "stream",
     "text": [
      "locate patches: 0.04 seconds\n",
      "locate patches: 0.04 seconds\n"
     ]
    },
    {
     "name": "stdout",
     "output_type": "stream",
     "text": [
      " patches in ROI\n",
      "55735 roi samples\n",
      "56475 patches in ROI\n",
      "56475 roi samples\n",
      "55517"
     ]
    },
    {
     "name": "stderr",
     "output_type": "stream",
     "text": [
      "locate patches: 0.04 seconds\n",
      "locate patches: 0.04 seconds\n"
     ]
    },
    {
     "name": "stdout",
     "output_type": "stream",
     "text": [
      " patches in ROI\n",
      "55517 roi samples\n",
      "56057 patches in ROI\n",
      "56057 roi samples\n",
      "55797"
     ]
    },
    {
     "name": "stderr",
     "output_type": "stream",
     "text": [
      "locate patches: 0.04 seconds\n",
      "locate patches: 0.04 seconds\n"
     ]
    },
    {
     "name": "stdout",
     "output_type": "stream",
     "text": [
      " patches in ROI\n",
      "55797 roi samples\n",
      "55801 patches in ROI\n",
      "55801 roi samples\n",
      "55828"
     ]
    },
    {
     "name": "stderr",
     "output_type": "stream",
     "text": [
      "locate patches: 0.05 seconds\n",
      "locate patches: 0.05 seconds\n"
     ]
    },
    {
     "name": "stdout",
     "output_type": "stream",
     "text": [
      " patches in ROI\n",
      "55828 roi samples\n",
      "55555 patches in ROI\n",
      "55555 roi samples\n",
      "56130"
     ]
    },
    {
     "name": "stderr",
     "output_type": "stream",
     "text": [
      "locate patches: 0.04 seconds\n",
      "locate patches: 0.04 seconds\n"
     ]
    },
    {
     "name": "stdout",
     "output_type": "stream",
     "text": [
      " patches in ROI\n",
      "56130 roi samples\n",
      "55693 patches in ROI\n",
      "55693 roi samples\n",
      "56408"
     ]
    },
    {
     "name": "stderr",
     "output_type": "stream",
     "text": [
      "locate patches: 0.05 seconds\n",
      "locate patches: 0.05 seconds\n"
     ]
    },
    {
     "name": "stdout",
     "output_type": "stream",
     "text": [
      " patches in ROI\n",
      "56408 roi samples\n",
      "56366 patches in ROI\n",
      "56366 roi samples\n",
      "56209"
     ]
    },
    {
     "name": "stderr",
     "output_type": "stream",
     "text": [
      "locate patches: 0.05 seconds\n",
      "locate patches: 0.05 seconds\n"
     ]
    },
    {
     "name": "stdout",
     "output_type": "stream",
     "text": [
      " patches in ROI\n",
      "56209 roi samples\n",
      "56341 patches in ROI\n",
      "56341 roi samples\n",
      "56429"
     ]
    },
    {
     "name": "stderr",
     "output_type": "stream",
     "text": [
      "locate patches: 0.05 seconds\n",
      "locate patches: 0.04 seconds\n"
     ]
    },
    {
     "name": "stdout",
     "output_type": "stream",
     "text": [
      " patches in ROI\n",
      "56429 roi samples\n",
      "56566 patches in ROI\n",
      "56566 roi samples\n",
      "56462"
     ]
    },
    {
     "name": "stderr",
     "output_type": "stream",
     "text": [
      "locate patches: 0.04 seconds\n",
      "locate patches: 0.04 seconds\n"
     ]
    },
    {
     "name": "stdout",
     "output_type": "stream",
     "text": [
      " patches in ROI\n",
      "56462 roi samples\n",
      "56401 patches in ROI\n",
      "56401 roi samples\n",
      "54785"
     ]
    },
    {
     "name": "stderr",
     "output_type": "stream",
     "text": [
      "locate patches: 0.04 seconds\n",
      "locate patches: 0.04 seconds\n"
     ]
    },
    {
     "name": "stdout",
     "output_type": "stream",
     "text": [
      " patches in ROI\n",
      "54785 roi samples\n",
      "55129 patches in ROI\n",
      "55129 roi samples\n",
      "55816"
     ]
    },
    {
     "name": "stderr",
     "output_type": "stream",
     "text": [
      "locate patches: 0.04 seconds\n",
      "locate patches: 0.04 seconds\n"
     ]
    },
    {
     "name": "stdout",
     "output_type": "stream",
     "text": [
      " patches in ROI\n",
      "55816 roi samples\n",
      "56451 patches in ROI\n",
      "56451 roi samples\n",
      "55605"
     ]
    },
    {
     "name": "stderr",
     "output_type": "stream",
     "text": [
      "locate patches: 0.04 seconds\n",
      "locate patches: 0.04 seconds\n"
     ]
    },
    {
     "name": "stdout",
     "output_type": "stream",
     "text": [
      " patches in ROI\n",
      "55605 roi samples\n",
      "55791 patches in ROI\n",
      "55791 roi samples\n",
      "57278"
     ]
    },
    {
     "name": "stderr",
     "output_type": "stream",
     "text": [
      "locate patches: 0.04 seconds\n",
      "locate patches: 0.04 seconds\n"
     ]
    },
    {
     "name": "stdout",
     "output_type": "stream",
     "text": [
      " patches in ROI\n",
      "57278 roi samples\n",
      "55339 patches in ROI\n",
      "55339 roi samples\n",
      "54787"
     ]
    },
    {
     "name": "stderr",
     "output_type": "stream",
     "text": [
      "locate patches: 0.04 seconds\n",
      "locate patches: 0.04 seconds\n"
     ]
    },
    {
     "name": "stdout",
     "output_type": "stream",
     "text": [
      " patches in ROI\n",
      "54787 roi samples\n",
      "54802 patches in ROI\n",
      "54802 roi samples\n",
      "55775"
     ]
    },
    {
     "name": "stderr",
     "output_type": "stream",
     "text": [
      "locate patches: 0.04 seconds\n",
      "locate patches: 0.04 seconds\n"
     ]
    },
    {
     "name": "stdout",
     "output_type": "stream",
     "text": [
      " patches in ROI\n",
      "55775 roi samples\n",
      "55697 patches in ROI\n",
      "55697 roi samples\n",
      "56052"
     ]
    },
    {
     "name": "stderr",
     "output_type": "stream",
     "text": [
      "locate patches: 0.04 seconds\n",
      "locate patches: 0.04 seconds\n"
     ]
    },
    {
     "name": "stdout",
     "output_type": "stream",
     "text": [
      " patches in ROI\n",
      "56052 roi samples\n",
      "54903 patches in ROI\n",
      "54903 roi samples\n",
      "55327"
     ]
    },
    {
     "name": "stderr",
     "output_type": "stream",
     "text": [
      "locate patches: 0.04 seconds\n",
      "locate patches: 0.04 seconds\n"
     ]
    },
    {
     "name": "stdout",
     "output_type": "stream",
     "text": [
      " patches in ROI\n",
      "55327 roi samples\n",
      "54986 patches in ROI\n",
      "54986 roi samples\n",
      "55206"
     ]
    },
    {
     "name": "stderr",
     "output_type": "stream",
     "text": [
      "locate patches: 0.04 seconds\n",
      "locate patches: 0.04 seconds\n"
     ]
    },
    {
     "name": "stdout",
     "output_type": "stream",
     "text": [
      " patches in ROI\n",
      "55206 roi samples\n",
      "55162 patches in ROI\n",
      "55162 roi samples\n",
      "52123"
     ]
    },
    {
     "name": "stderr",
     "output_type": "stream",
     "text": [
      "locate patches: 0.04 seconds\n",
      "locate patches: 0.04 seconds\n"
     ]
    },
    {
     "name": "stdout",
     "output_type": "stream",
     "text": [
      " patches in ROI\n",
      "52123 roi samples\n",
      "53804 patches in ROI\n",
      "53804 roi samples\n",
      "55461"
     ]
    },
    {
     "name": "stderr",
     "output_type": "stream",
     "text": [
      "locate patches: 0.04 seconds\n",
      "locate patches: 0.04 seconds\n"
     ]
    },
    {
     "name": "stdout",
     "output_type": "stream",
     "text": [
      " patches in ROI\n",
      "55461 roi samples\n",
      "55082 patches in ROI\n",
      "55082 roi samples\n",
      "56826"
     ]
    },
    {
     "name": "stderr",
     "output_type": "stream",
     "text": [
      "locate patches: 0.04 seconds\n",
      "locate patches: 0.04 seconds\n"
     ]
    },
    {
     "name": "stdout",
     "output_type": "stream",
     "text": [
      " patches in ROI\n",
      "56826 roi samples\n",
      "53710 patches in ROI\n",
      "53710 roi samples\n",
      "55867"
     ]
    },
    {
     "name": "stderr",
     "output_type": "stream",
     "text": [
      "locate patches: 0.04 seconds\n",
      "locate patches: 0.04 seconds\n"
     ]
    },
    {
     "name": "stdout",
     "output_type": "stream",
     "text": [
      " patches in ROI\n",
      "55867 roi samples\n",
      "55881 patches in ROI\n",
      "55881 roi samples\n",
      "54434"
     ]
    },
    {
     "name": "stderr",
     "output_type": "stream",
     "text": [
      "locate patches: 0.04 seconds\n",
      "locate patches: 0.04 seconds\n"
     ]
    },
    {
     "name": "stdout",
     "output_type": "stream",
     "text": [
      " patches in ROI\n",
      "54434 roi samples\n",
      "55226 patches in ROI\n",
      "55226 roi samples\n",
      "55687"
     ]
    },
    {
     "name": "stderr",
     "output_type": "stream",
     "text": [
      "locate patches: 0.04 seconds\n",
      "locate patches: 0.04 seconds\n"
     ]
    },
    {
     "name": "stdout",
     "output_type": "stream",
     "text": [
      " patches in ROI\n",
      "55687 roi samples\n",
      "55768 patches in ROI\n",
      "55768 roi samples\n",
      "55174"
     ]
    },
    {
     "name": "stderr",
     "output_type": "stream",
     "text": [
      "locate patches: 0.04 seconds\n",
      "locate patches: 0.04 seconds\n"
     ]
    },
    {
     "name": "stdout",
     "output_type": "stream",
     "text": [
      " patches in ROI\n",
      "55174 roi samples\n",
      "54634 patches in ROI\n",
      "54634 roi samples\n",
      "55047"
     ]
    },
    {
     "name": "stderr",
     "output_type": "stream",
     "text": [
      "locate patches: 0.04 seconds\n",
      "locate patches: 0.04 seconds\n"
     ]
    },
    {
     "name": "stdout",
     "output_type": "stream",
     "text": [
      " patches in ROI\n",
      "55047 roi samples\n",
      "53271 patches in ROI\n",
      "53271 roi samples\n",
      "54539"
     ]
    },
    {
     "name": "stderr",
     "output_type": "stream",
     "text": [
      "locate patches: 0.04 seconds\n",
      "locate patches: 0.04 seconds\n"
     ]
    },
    {
     "name": "stdout",
     "output_type": "stream",
     "text": [
      " patches in ROI\n",
      "54539 roi samples\n",
      "54491 patches in ROI\n",
      "54491 roi samples\n",
      "53918"
     ]
    },
    {
     "name": "stderr",
     "output_type": "stream",
     "text": [
      "locate patches: 0.04 seconds\n",
      "locate patches: 0.04 seconds\n"
     ]
    },
    {
     "name": "stdout",
     "output_type": "stream",
     "text": [
      " patches in ROI\n",
      "53918 roi samples\n",
      "53663 patches in ROI\n",
      "53663 roi samples\n",
      "53542"
     ]
    },
    {
     "name": "stderr",
     "output_type": "stream",
     "text": [
      "locate patches: 0.04 seconds\n",
      "locate patches: 0.04 seconds\n"
     ]
    },
    {
     "name": "stdout",
     "output_type": "stream",
     "text": [
      " patches in ROI\n",
      "53542 roi samples\n",
      "53675 patches in ROI\n",
      "53675 roi samples\n",
      "53356"
     ]
    },
    {
     "name": "stderr",
     "output_type": "stream",
     "text": [
      "locate patches: 0.04 seconds\n",
      "locate patches: 0.04 seconds\n"
     ]
    },
    {
     "name": "stdout",
     "output_type": "stream",
     "text": [
      " patches in ROI\n",
      "53356 roi samples\n",
      "53138 patches in ROI\n",
      "53138 roi samples\n",
      "53018"
     ]
    },
    {
     "name": "stderr",
     "output_type": "stream",
     "text": [
      "locate patches: 0.04 seconds\n",
      "locate patches: 0.04 seconds\n"
     ]
    },
    {
     "name": "stdout",
     "output_type": "stream",
     "text": [
      " patches in ROI\n",
      "53018 roi samples\n",
      "54311 patches in ROI\n",
      "54311 roi samples\n",
      "52950"
     ]
    },
    {
     "name": "stderr",
     "output_type": "stream",
     "text": [
      "locate patches: 0.04 seconds\n",
      "locate patches: 0.04 seconds\n"
     ]
    },
    {
     "name": "stdout",
     "output_type": "stream",
     "text": [
      " patches in ROI\n",
      "52950 roi samples\n",
      "52149 patches in ROI\n",
      "52149 roi samples\n",
      "51476"
     ]
    },
    {
     "name": "stderr",
     "output_type": "stream",
     "text": [
      "locate patches: 0.04 seconds\n",
      "locate patches: 0.04 seconds\n"
     ]
    },
    {
     "name": "stdout",
     "output_type": "stream",
     "text": [
      " patches in ROI\n",
      "51476 roi samples\n",
      "51889 patches in ROI\n",
      "51889 roi samples\n",
      "51270"
     ]
    },
    {
     "name": "stderr",
     "output_type": "stream",
     "text": [
      "locate patches: 0.04 seconds\n",
      "locate patches: 0.04 seconds\n"
     ]
    },
    {
     "name": "stdout",
     "output_type": "stream",
     "text": [
      " patches in ROI\n",
      "51270 roi samples\n",
      "52214 patches in ROI\n",
      "52214 roi samples\n",
      "50751"
     ]
    },
    {
     "name": "stderr",
     "output_type": "stream",
     "text": [
      "locate patches: 0.04 seconds\n",
      "locate patches: 0.04 seconds\n"
     ]
    },
    {
     "name": "stdout",
     "output_type": "stream",
     "text": [
      " patches in ROI\n",
      "50751 roi samples\n",
      "50951 patches in ROI\n",
      "50951 roi samples\n",
      "50059"
     ]
    },
    {
     "name": "stderr",
     "output_type": "stream",
     "text": [
      "locate patches: 0.04 seconds\n",
      "locate patches: 0.04 seconds\n"
     ]
    },
    {
     "name": "stdout",
     "output_type": "stream",
     "text": [
      " patches in ROI\n",
      "50059 roi samples\n",
      "51199 patches in ROI\n",
      "51199 roi samples\n",
      "50351"
     ]
    },
    {
     "name": "stderr",
     "output_type": "stream",
     "text": [
      "locate patches: 0.04 seconds\n",
      "locate patches: 0.04 seconds\n"
     ]
    },
    {
     "name": "stdout",
     "output_type": "stream",
     "text": [
      " patches in ROI\n",
      "50351 roi samples\n",
      "49965 patches in ROI\n",
      "49965 roi samples\n",
      "49091"
     ]
    },
    {
     "name": "stderr",
     "output_type": "stream",
     "text": [
      "locate patches: 0.04 seconds\n",
      "locate patches: 0.04 seconds\n"
     ]
    },
    {
     "name": "stdout",
     "output_type": "stream",
     "text": [
      " patches in ROI\n",
      "49091 roi samples\n",
      "49231 patches in ROI\n",
      "49231 roi samples\n",
      "48843"
     ]
    },
    {
     "name": "stderr",
     "output_type": "stream",
     "text": [
      "locate patches: 0.04 seconds\n",
      "locate patches: 0.04 seconds\n"
     ]
    },
    {
     "name": "stdout",
     "output_type": "stream",
     "text": [
      " patches in ROI\n",
      "48843 roi samples\n",
      "48079 patches in ROI\n",
      "48079 roi samples\n",
      "46982"
     ]
    },
    {
     "name": "stderr",
     "output_type": "stream",
     "text": [
      "locate patches: 0.04 seconds\n",
      "locate patches: 0.04 seconds\n"
     ]
    },
    {
     "name": "stdout",
     "output_type": "stream",
     "text": [
      " patches in ROI\n",
      "46982 roi samples\n",
      "46860 patches in ROI\n",
      "46860 roi samples\n",
      "46338"
     ]
    },
    {
     "name": "stderr",
     "output_type": "stream",
     "text": [
      "locate patches: 0.04 seconds\n",
      "locate patches: 0.04 seconds\n"
     ]
    },
    {
     "name": "stdout",
     "output_type": "stream",
     "text": [
      " patches in ROI\n",
      "46338 roi samples\n",
      "46588 patches in ROI\n",
      "46588 roi samples\n",
      "44980"
     ]
    },
    {
     "name": "stderr",
     "output_type": "stream",
     "text": [
      "locate patches: 0.04 seconds\n",
      "locate patches: 0.04 seconds\n"
     ]
    },
    {
     "name": "stdout",
     "output_type": "stream",
     "text": [
      " patches in ROI\n",
      "44980 roi samples\n",
      "44327 patches in ROI\n",
      "44327 roi samples\n",
      "44672"
     ]
    },
    {
     "name": "stderr",
     "output_type": "stream",
     "text": [
      "locate patches: 0.04 seconds\n",
      "locate patches: 0.04 seconds\n"
     ]
    },
    {
     "name": "stdout",
     "output_type": "stream",
     "text": [
      " patches in ROI\n",
      "44672 roi samples\n",
      "43871 patches in ROI\n",
      "43871 roi samples\n",
      "41260"
     ]
    },
    {
     "name": "stderr",
     "output_type": "stream",
     "text": [
      "locate patches: 0.04 seconds\n",
      "locate patches: 0.04 seconds\n"
     ]
    },
    {
     "name": "stdout",
     "output_type": "stream",
     "text": [
      " patches in ROI\n",
      "41260 roi samples\n",
      "42200 patches in ROI\n",
      "42200 roi samples\n",
      "39258"
     ]
    },
    {
     "name": "stderr",
     "output_type": "stream",
     "text": [
      "locate patches: 0.04 seconds\n",
      "locate patches: 0.04 seconds\n"
     ]
    },
    {
     "name": "stdout",
     "output_type": "stream",
     "text": [
      " patches in ROI\n",
      "39258 roi samples\n",
      "39254 patches in ROI\n",
      "39254 roi samples\n",
      "38632"
     ]
    },
    {
     "name": "stderr",
     "output_type": "stream",
     "text": [
      "locate patches: 0.04 seconds\n",
      "locate patches: 0.04 seconds\n"
     ]
    },
    {
     "name": "stdout",
     "output_type": "stream",
     "text": [
      " patches in ROI\n",
      "38632 roi samples\n",
      "38875 patches in ROI\n",
      "38875 roi samples\n",
      "37722"
     ]
    },
    {
     "name": "stderr",
     "output_type": "stream",
     "text": [
      "locate patches: 0.04 seconds\n",
      "locate patches: 0.04 seconds\n"
     ]
    },
    {
     "name": "stdout",
     "output_type": "stream",
     "text": [
      " patches in ROI\n",
      "37722 roi samples\n",
      "37546 patches in ROI\n",
      "37546 roi samples\n",
      "36038"
     ]
    },
    {
     "name": "stderr",
     "output_type": "stream",
     "text": [
      "locate patches: 0.04 seconds\n",
      "locate patches: 0.04 seconds\n"
     ]
    },
    {
     "name": "stdout",
     "output_type": "stream",
     "text": [
      " patches in ROI\n",
      "36038 roi samples\n",
      "36057 patches in ROI\n",
      "36057 roi samples\n",
      "34949"
     ]
    },
    {
     "name": "stderr",
     "output_type": "stream",
     "text": [
      "locate patches: 0.04 seconds\n",
      "locate patches: 0.04 seconds\n"
     ]
    },
    {
     "name": "stdout",
     "output_type": "stream",
     "text": [
      " patches in ROI\n",
      "34949 roi samples\n",
      "34854 patches in ROI\n",
      "34854 roi samples\n",
      "34217"
     ]
    },
    {
     "name": "stderr",
     "output_type": "stream",
     "text": [
      "locate patches: 0.04 seconds\n",
      "locate patches: 0.04 seconds\n"
     ]
    },
    {
     "name": "stdout",
     "output_type": "stream",
     "text": [
      " patches in ROI\n",
      "34217 roi samples\n",
      "34028 patches in ROI\n",
      "34028 roi samples\n",
      "33828"
     ]
    },
    {
     "name": "stderr",
     "output_type": "stream",
     "text": [
      "locate patches: 0.04 seconds\n",
      "locate patches: 0.04 seconds\n"
     ]
    },
    {
     "name": "stdout",
     "output_type": "stream",
     "text": [
      " patches in ROI\n",
      "33828 roi samples\n",
      "33305 patches in ROI\n",
      "33305 roi samples\n",
      "32829"
     ]
    },
    {
     "name": "stderr",
     "output_type": "stream",
     "text": [
      "locate patches: 0.04 seconds\n",
      "locate patches: 0.04 seconds\n"
     ]
    },
    {
     "name": "stdout",
     "output_type": "stream",
     "text": [
      " patches in ROI\n",
      "32829 roi samples\n",
      "32633 patches in ROI\n",
      "32633 roi samples\n",
      "32200"
     ]
    },
    {
     "name": "stderr",
     "output_type": "stream",
     "text": [
      "locate patches: 0.04 seconds\n",
      "locate patches: 0.04 seconds\n"
     ]
    },
    {
     "name": "stdout",
     "output_type": "stream",
     "text": [
      " patches in ROI\n",
      "32200 roi samples\n",
      "32015 patches in ROI\n",
      "32015 roi samples\n",
      "31979"
     ]
    },
    {
     "name": "stderr",
     "output_type": "stream",
     "text": [
      "locate patches: 0.04 seconds\n",
      "locate patches: 0.04 seconds\n"
     ]
    },
    {
     "name": "stdout",
     "output_type": "stream",
     "text": [
      " patches in ROI\n",
      "31979 roi samples\n",
      "32254 patches in ROI\n",
      "32254 roi samples\n",
      "31699"
     ]
    },
    {
     "name": "stderr",
     "output_type": "stream",
     "text": [
      "locate patches: 0.04 seconds\n",
      "locate patches: 0.04 seconds\n"
     ]
    },
    {
     "name": "stdout",
     "output_type": "stream",
     "text": [
      " patches in ROI\n",
      "31699 roi samples\n",
      "31717 patches in ROI\n",
      "31717 roi samples\n",
      "31135"
     ]
    },
    {
     "name": "stderr",
     "output_type": "stream",
     "text": [
      "locate patches: 0.04 seconds\n",
      "locate patches: 0.04 seconds\n"
     ]
    },
    {
     "name": "stdout",
     "output_type": "stream",
     "text": [
      " patches in ROI\n",
      "31135 roi samples\n",
      "30937 patches in ROI\n",
      "30937 roi samples\n",
      "30474"
     ]
    },
    {
     "name": "stderr",
     "output_type": "stream",
     "text": [
      "locate patches: 0.04 seconds\n",
      "locate patches: 0.04 seconds\n"
     ]
    },
    {
     "name": "stdout",
     "output_type": "stream",
     "text": [
      " patches in ROI\n",
      "30474 roi samples\n",
      "29265 patches in ROI\n",
      "29265 roi samples\n",
      "28413"
     ]
    },
    {
     "name": "stderr",
     "output_type": "stream",
     "text": [
      "locate patches: 0.04 seconds\n",
      "locate patches: 0.04 seconds\n"
     ]
    },
    {
     "name": "stdout",
     "output_type": "stream",
     "text": [
      " patches in ROI\n",
      "28413 roi samples\n",
      "29426 patches in ROI\n",
      "29426 roi samples\n",
      "25423"
     ]
    },
    {
     "name": "stderr",
     "output_type": "stream",
     "text": [
      "locate patches: 0.04 seconds\n",
      "locate patches: 0.04 seconds\n"
     ]
    },
    {
     "name": "stdout",
     "output_type": "stream",
     "text": [
      " patches in ROI\n",
      "25423 roi samples\n",
      "27655 patches in ROI\n",
      "27655 roi samples\n",
      "25651"
     ]
    },
    {
     "name": "stderr",
     "output_type": "stream",
     "text": [
      "locate patches: 0.04 seconds\n",
      "locate patches: 0.04 seconds\n"
     ]
    },
    {
     "name": "stdout",
     "output_type": "stream",
     "text": [
      " patches in ROI\n",
      "25651 roi samples\n",
      "26958 patches in ROI\n",
      "26958 roi samples\n",
      "26632"
     ]
    },
    {
     "name": "stderr",
     "output_type": "stream",
     "text": [
      "locate patches: 0.04 seconds\n",
      "locate patches: 0.04 seconds\n"
     ]
    },
    {
     "name": "stdout",
     "output_type": "stream",
     "text": [
      " patches in ROI\n",
      "26632 roi samples\n",
      "26741 patches in ROI\n",
      "26741 roi samples\n",
      "25214"
     ]
    },
    {
     "name": "stderr",
     "output_type": "stream",
     "text": [
      "locate patches: 0.04 seconds\n",
      "locate patches: 0.04 seconds\n"
     ]
    },
    {
     "name": "stdout",
     "output_type": "stream",
     "text": [
      " patches in ROI\n",
      "25214 roi samples\n",
      "25827 patches in ROI\n",
      "25827 roi samples\n",
      "25074"
     ]
    },
    {
     "name": "stderr",
     "output_type": "stream",
     "text": [
      "locate patches: 0.04 seconds\n",
      "locate patches: 0.04 seconds\n"
     ]
    },
    {
     "name": "stdout",
     "output_type": "stream",
     "text": [
      " patches in ROI\n",
      "25074 roi samples\n",
      "25739 patches in ROI\n",
      "25739 roi samples\n",
      "24016"
     ]
    },
    {
     "name": "stderr",
     "output_type": "stream",
     "text": [
      "locate patches: 0.04 seconds\n",
      "locate patches: 0.04 seconds\n"
     ]
    },
    {
     "name": "stdout",
     "output_type": "stream",
     "text": [
      " patches in ROI\n",
      "24016 roi samples\n",
      "MD602\n",
      "27866 patches in ROI\n",
      "27866 roi samples\n",
      "27889"
     ]
    },
    {
     "name": "stderr",
     "output_type": "stream",
     "text": [
      "locate patches: 0.05 seconds\n",
      "locate patches: 0.05 seconds\n"
     ]
    },
    {
     "name": "stdout",
     "output_type": "stream",
     "text": [
      " patches in ROI\n",
      "27889 roi samples\n",
      "27899 patches in ROI\n",
      "27899 roi samples\n",
      "29109"
     ]
    },
    {
     "name": "stderr",
     "output_type": "stream",
     "text": [
      "locate patches: 0.05 seconds\n",
      "locate patches: 0.05 seconds\n"
     ]
    },
    {
     "name": "stdout",
     "output_type": "stream",
     "text": [
      " patches in ROI\n",
      "29109 roi samples\n",
      "28848 patches in ROI\n",
      "28848 roi samples\n",
      "29268"
     ]
    },
    {
     "name": "stderr",
     "output_type": "stream",
     "text": [
      "locate patches: 0.05 seconds\n",
      "locate patches: 0.05 seconds\n"
     ]
    },
    {
     "name": "stdout",
     "output_type": "stream",
     "text": [
      " patches in ROI\n",
      "29268 roi samples\n",
      "29101 patches in ROI\n",
      "29101 roi samples\n",
      "29265"
     ]
    },
    {
     "name": "stderr",
     "output_type": "stream",
     "text": [
      "locate patches: 0.05 seconds\n",
      "locate patches: 0.05 seconds\n"
     ]
    },
    {
     "name": "stdout",
     "output_type": "stream",
     "text": [
      " patches in ROI\n",
      "29265 roi samples\n",
      "29317 patches in ROI\n",
      "29317 roi samples\n",
      "29292"
     ]
    },
    {
     "name": "stderr",
     "output_type": "stream",
     "text": [
      "locate patches: 0.05 seconds\n",
      "locate patches: 0.05 seconds\n"
     ]
    },
    {
     "name": "stdout",
     "output_type": "stream",
     "text": [
      " patches in ROI\n",
      "29292 roi samples\n",
      "29604 patches in ROI\n",
      "29604 roi samples\n",
      "29696"
     ]
    },
    {
     "name": "stderr",
     "output_type": "stream",
     "text": [
      "locate patches: 0.05 seconds\n",
      "locate patches: 0.05 seconds\n"
     ]
    },
    {
     "name": "stdout",
     "output_type": "stream",
     "text": [
      " patches in ROI\n",
      "29696 roi samples\n",
      "30168 patches in ROI\n",
      "30168 roi samples\n",
      "30316"
     ]
    },
    {
     "name": "stderr",
     "output_type": "stream",
     "text": [
      "locate patches: 0.05 seconds\n",
      "locate patches: 0.05 seconds\n"
     ]
    },
    {
     "name": "stdout",
     "output_type": "stream",
     "text": [
      " patches in ROI\n",
      "30316 roi samples\n",
      "30931 patches in ROI\n",
      "30931 roi samples\n",
      "30022"
     ]
    },
    {
     "name": "stderr",
     "output_type": "stream",
     "text": [
      "locate patches: 0.05 seconds\n",
      "locate patches: 0.05 seconds\n"
     ]
    },
    {
     "name": "stdout",
     "output_type": "stream",
     "text": [
      " patches in ROI\n",
      "30022 roi samples\n",
      "30927 patches in ROI\n",
      "30927 roi samples\n",
      "31614"
     ]
    },
    {
     "name": "stderr",
     "output_type": "stream",
     "text": [
      "locate patches: 0.05 seconds\n",
      "locate patches: 0.05 seconds\n"
     ]
    },
    {
     "name": "stdout",
     "output_type": "stream",
     "text": [
      " patches in ROI\n",
      "31614 roi samples\n",
      "32023 patches in ROI\n",
      "32023 roi samples\n",
      "32275"
     ]
    },
    {
     "name": "stderr",
     "output_type": "stream",
     "text": [
      "locate patches: 0.05 seconds\n",
      "locate patches: 0.05 seconds\n"
     ]
    },
    {
     "name": "stdout",
     "output_type": "stream",
     "text": [
      " patches in ROI\n",
      "32275 roi samples\n",
      "32981 patches in ROI\n",
      "32981 roi samples\n",
      "33571"
     ]
    },
    {
     "name": "stderr",
     "output_type": "stream",
     "text": [
      "locate patches: 0.05 seconds\n",
      "locate patches: 0.05 seconds\n"
     ]
    },
    {
     "name": "stdout",
     "output_type": "stream",
     "text": [
      " patches in ROI\n",
      "33571 roi samples\n",
      "34136 patches in ROI\n",
      "34136 roi samples\n",
      "34557"
     ]
    },
    {
     "name": "stderr",
     "output_type": "stream",
     "text": [
      "locate patches: 0.05 seconds\n",
      "locate patches: 0.05 seconds\n"
     ]
    },
    {
     "name": "stdout",
     "output_type": "stream",
     "text": [
      " patches in ROI\n",
      "34557 roi samples\n",
      "34656 patches in ROI\n",
      "34656 roi samples\n",
      "34746"
     ]
    },
    {
     "name": "stderr",
     "output_type": "stream",
     "text": [
      "locate patches: 0.05 seconds\n",
      "locate patches: 0.05 seconds\n"
     ]
    },
    {
     "name": "stdout",
     "output_type": "stream",
     "text": [
      " patches in ROI\n",
      "34746 roi samples\n",
      "34903 patches in ROI\n",
      "34903 roi samples\n",
      "35426"
     ]
    },
    {
     "name": "stderr",
     "output_type": "stream",
     "text": [
      "locate patches: 0.05 seconds\n",
      "locate patches: 0.05 seconds\n"
     ]
    },
    {
     "name": "stdout",
     "output_type": "stream",
     "text": [
      " patches in ROI\n",
      "35426 roi samples\n",
      "35481 patches in ROI\n",
      "35481 roi samples\n",
      "35993"
     ]
    },
    {
     "name": "stderr",
     "output_type": "stream",
     "text": [
      "locate patches: 0.05 seconds\n",
      "locate patches: 0.05 seconds\n"
     ]
    },
    {
     "name": "stdout",
     "output_type": "stream",
     "text": [
      " patches in ROI\n",
      "35993 roi samples\n",
      "35900 patches in ROI\n",
      "35900 roi samples\n",
      "36296"
     ]
    },
    {
     "name": "stderr",
     "output_type": "stream",
     "text": [
      "locate patches: 0.05 seconds\n",
      "locate patches: 0.05 seconds\n"
     ]
    },
    {
     "name": "stdout",
     "output_type": "stream",
     "text": [
      " patches in ROI\n",
      "36296 roi samples\n",
      "36604 patches in ROI\n",
      "36604 roi samples\n",
      "37067"
     ]
    },
    {
     "name": "stderr",
     "output_type": "stream",
     "text": [
      "locate patches: 0.04 seconds\n",
      "locate patches: 0.05 seconds\n"
     ]
    },
    {
     "name": "stdout",
     "output_type": "stream",
     "text": [
      " patches in ROI\n",
      "37067 roi samples\n",
      "37258 patches in ROI\n",
      "37258 roi samples\n",
      "37609"
     ]
    },
    {
     "name": "stderr",
     "output_type": "stream",
     "text": [
      "locate patches: 0.05 seconds\n",
      "locate patches: 0.05 seconds\n"
     ]
    },
    {
     "name": "stdout",
     "output_type": "stream",
     "text": [
      " patches in ROI\n",
      "37609 roi samples\n",
      "37029 patches in ROI\n",
      "37029 roi samples\n",
      "35955"
     ]
    },
    {
     "name": "stderr",
     "output_type": "stream",
     "text": [
      "locate patches: 0.05 seconds\n",
      "locate patches: 0.04 seconds\n"
     ]
    },
    {
     "name": "stdout",
     "output_type": "stream",
     "text": [
      " patches in ROI\n",
      "35955 roi samples\n",
      "38061 patches in ROI\n",
      "38061 roi samples\n",
      "38208"
     ]
    },
    {
     "name": "stderr",
     "output_type": "stream",
     "text": [
      "locate patches: 0.05 seconds\n",
      "locate patches: 0.04 seconds\n"
     ]
    },
    {
     "name": "stdout",
     "output_type": "stream",
     "text": [
      " patches in ROI\n",
      "38208 roi samples\n",
      "38232 patches in ROI\n",
      "38232 roi samples\n",
      "38756"
     ]
    },
    {
     "name": "stderr",
     "output_type": "stream",
     "text": [
      "locate patches: 0.05 seconds\n",
      "locate patches: 0.05 seconds\n"
     ]
    },
    {
     "name": "stdout",
     "output_type": "stream",
     "text": [
      " patches in ROI\n",
      "38756 roi samples\n",
      "39043 patches in ROI\n",
      "39043 roi samples\n",
      "39325"
     ]
    },
    {
     "name": "stderr",
     "output_type": "stream",
     "text": [
      "locate patches: 0.04 seconds\n",
      "locate patches: 0.05 seconds\n"
     ]
    },
    {
     "name": "stdout",
     "output_type": "stream",
     "text": [
      " patches in ROI\n",
      "39325 roi samples\n",
      "39285 patches in ROI\n",
      "39285 roi samples\n",
      "39781"
     ]
    },
    {
     "name": "stderr",
     "output_type": "stream",
     "text": [
      "locate patches: 0.05 seconds\n",
      "locate patches: 0.05 seconds\n"
     ]
    },
    {
     "name": "stdout",
     "output_type": "stream",
     "text": [
      " patches in ROI\n",
      "39781 roi samples\n",
      "40211 patches in ROI\n",
      "40211 roi samples\n",
      "40231"
     ]
    },
    {
     "name": "stderr",
     "output_type": "stream",
     "text": [
      "locate patches: 0.05 seconds\n",
      "locate patches: 0.05 seconds\n"
     ]
    },
    {
     "name": "stdout",
     "output_type": "stream",
     "text": [
      " patches in ROI\n",
      "40231 roi samples\n",
      "40623 patches in ROI\n",
      "40623 roi samples\n",
      "40588"
     ]
    },
    {
     "name": "stderr",
     "output_type": "stream",
     "text": [
      "locate patches: 0.05 seconds\n",
      "locate patches: 0.05 seconds\n"
     ]
    },
    {
     "name": "stdout",
     "output_type": "stream",
     "text": [
      " patches in ROI\n",
      "40588 roi samples\n",
      "40959 patches in ROI\n",
      "40959 roi samples\n",
      "41358"
     ]
    },
    {
     "name": "stderr",
     "output_type": "stream",
     "text": [
      "locate patches: 0.05 seconds\n",
      "locate patches: 0.05 seconds\n"
     ]
    },
    {
     "name": "stdout",
     "output_type": "stream",
     "text": [
      " patches in ROI\n",
      "41358 roi samples\n",
      "41642 patches in ROI\n",
      "41642 roi samples\n",
      "42138"
     ]
    },
    {
     "name": "stderr",
     "output_type": "stream",
     "text": [
      "locate patches: 0.05 seconds\n",
      "locate patches: 0.04 seconds\n"
     ]
    },
    {
     "name": "stdout",
     "output_type": "stream",
     "text": [
      " patches in ROI\n",
      "42138 roi samples\n",
      "42278 patches in ROI\n",
      "42278 roi samples\n",
      "42664"
     ]
    },
    {
     "name": "stderr",
     "output_type": "stream",
     "text": [
      "locate patches: 0.04 seconds\n",
      "locate patches: 0.05 seconds\n"
     ]
    },
    {
     "name": "stdout",
     "output_type": "stream",
     "text": [
      " patches in ROI\n",
      "42664 roi samples\n",
      "42994 patches in ROI\n",
      "42994 roi samples\n",
      "44774"
     ]
    },
    {
     "name": "stderr",
     "output_type": "stream",
     "text": [
      "locate patches: 0.05 seconds\n",
      "locate patches: 0.05 seconds\n"
     ]
    },
    {
     "name": "stdout",
     "output_type": "stream",
     "text": [
      " patches in ROI\n",
      "44774 roi samples\n",
      "43329 patches in ROI\n",
      "43329 roi samples\n",
      "43750"
     ]
    },
    {
     "name": "stderr",
     "output_type": "stream",
     "text": [
      "locate patches: 0.05 seconds\n",
      "locate patches: 0.05 seconds\n"
     ]
    },
    {
     "name": "stdout",
     "output_type": "stream",
     "text": [
      " patches in ROI\n",
      "43750 roi samples\n",
      "43884 patches in ROI\n",
      "43884 roi samples\n",
      "43963"
     ]
    },
    {
     "name": "stderr",
     "output_type": "stream",
     "text": [
      "locate patches: 0.05 seconds\n",
      "locate patches: 0.05 seconds\n"
     ]
    },
    {
     "name": "stdout",
     "output_type": "stream",
     "text": [
      " patches in ROI\n",
      "43963 roi samples\n",
      "44245 patches in ROI\n",
      "44245 roi samples\n",
      "44274"
     ]
    },
    {
     "name": "stderr",
     "output_type": "stream",
     "text": [
      "locate patches: 0.05 seconds\n",
      "locate patches: 0.05 seconds\n"
     ]
    },
    {
     "name": "stdout",
     "output_type": "stream",
     "text": [
      " patches in ROI\n",
      "44274 roi samples\n",
      "44643 patches in ROI\n",
      "44643 roi samples\n",
      "53393"
     ]
    },
    {
     "name": "stderr",
     "output_type": "stream",
     "text": [
      "locate patches: 0.05 seconds\n",
      "locate patches: 0.05 seconds\n"
     ]
    },
    {
     "name": "stdout",
     "output_type": "stream",
     "text": [
      " patches in ROI\n",
      "53393 roi samples\n",
      "54125 patches in ROI\n",
      "54125 roi samples\n",
      "54412"
     ]
    },
    {
     "name": "stderr",
     "output_type": "stream",
     "text": [
      "locate patches: 0.05 seconds\n",
      "locate patches: 0.05 seconds\n"
     ]
    },
    {
     "name": "stdout",
     "output_type": "stream",
     "text": [
      " patches in ROI\n",
      "54412 roi samples\n",
      "54967 patches in ROI\n",
      "54967 roi samples\n",
      "55105"
     ]
    },
    {
     "name": "stderr",
     "output_type": "stream",
     "text": [
      "locate patches: 0.05 seconds\n",
      "locate patches: 0.04 seconds\n"
     ]
    },
    {
     "name": "stdout",
     "output_type": "stream",
     "text": [
      " patches in ROI\n",
      "55105 roi samples\n",
      "55466 patches in ROI\n",
      "55466 roi samples\n",
      "55707"
     ]
    },
    {
     "name": "stderr",
     "output_type": "stream",
     "text": [
      "locate patches: 0.04 seconds\n",
      "locate patches: 0.04 seconds\n"
     ]
    },
    {
     "name": "stdout",
     "output_type": "stream",
     "text": [
      " patches in ROI\n",
      "55707 roi samples\n",
      "55219 patches in ROI\n",
      "55219 roi samples\n",
      "56865"
     ]
    },
    {
     "name": "stderr",
     "output_type": "stream",
     "text": [
      "locate patches: 0.05 seconds\n",
      "locate patches: 0.05 seconds\n"
     ]
    },
    {
     "name": "stdout",
     "output_type": "stream",
     "text": [
      " patches in ROI\n",
      "56865 roi samples\n",
      "55464 patches in ROI\n",
      "55464 roi samples\n",
      "57206"
     ]
    },
    {
     "name": "stderr",
     "output_type": "stream",
     "text": [
      "locate patches: 0.04 seconds\n",
      "locate patches: 0.05 seconds\n"
     ]
    },
    {
     "name": "stdout",
     "output_type": "stream",
     "text": [
      " patches in ROI\n",
      "57206 roi samples\n",
      "57286 patches in ROI\n",
      "57286 roi samples\n",
      "57366"
     ]
    },
    {
     "name": "stderr",
     "output_type": "stream",
     "text": [
      "locate patches: 0.04 seconds\n",
      "locate patches: 0.04 seconds\n"
     ]
    },
    {
     "name": "stdout",
     "output_type": "stream",
     "text": [
      " patches in ROI\n",
      "57366 roi samples\n",
      "57233 patches in ROI\n",
      "57233 roi samples\n",
      "57462"
     ]
    },
    {
     "name": "stderr",
     "output_type": "stream",
     "text": [
      "locate patches: 0.04 seconds\n",
      "locate patches: 0.05 seconds\n"
     ]
    },
    {
     "name": "stdout",
     "output_type": "stream",
     "text": [
      " patches in ROI\n",
      "57462 roi samples\n",
      "56775 patches in ROI\n",
      "56775 roi samples\n",
      "57658"
     ]
    },
    {
     "name": "stderr",
     "output_type": "stream",
     "text": [
      "locate patches: 0.05 seconds\n",
      "locate patches: 0.04 seconds\n"
     ]
    },
    {
     "name": "stdout",
     "output_type": "stream",
     "text": [
      " patches in ROI\n",
      "57658 roi samples\n",
      "57464 patches in ROI\n",
      "57464 roi samples\n",
      "58063"
     ]
    },
    {
     "name": "stderr",
     "output_type": "stream",
     "text": [
      "locate patches: 0.05 seconds\n",
      "locate patches: 0.05 seconds\n"
     ]
    },
    {
     "name": "stdout",
     "output_type": "stream",
     "text": [
      " patches in ROI\n",
      "58063 roi samples\n",
      "57715 patches in ROI\n",
      "57715 roi samples\n",
      "58138"
     ]
    },
    {
     "name": "stderr",
     "output_type": "stream",
     "text": [
      "locate patches: 0.05 seconds\n",
      "locate patches: 0.04 seconds\n"
     ]
    },
    {
     "name": "stdout",
     "output_type": "stream",
     "text": [
      " patches in ROI\n",
      "58138 roi samples\n",
      "58248 patches in ROI\n",
      "58248 roi samples\n",
      "58029"
     ]
    },
    {
     "name": "stderr",
     "output_type": "stream",
     "text": [
      "locate patches: 0.04 seconds\n",
      "locate patches: 0.04 seconds\n"
     ]
    },
    {
     "name": "stdout",
     "output_type": "stream",
     "text": [
      " patches in ROI\n",
      "58029 roi samples\n",
      "53996 patches in ROI\n",
      "53996 roi samples\n",
      "57953"
     ]
    },
    {
     "name": "stderr",
     "output_type": "stream",
     "text": [
      "locate patches: 0.04 seconds\n",
      "locate patches: 0.04 seconds\n"
     ]
    },
    {
     "name": "stdout",
     "output_type": "stream",
     "text": [
      " patches in ROI\n",
      "57953 roi samples\n",
      "57745 patches in ROI\n",
      "57745 roi samples\n",
      "58513"
     ]
    },
    {
     "name": "stderr",
     "output_type": "stream",
     "text": [
      "locate patches: 0.04 seconds\n",
      "locate patches: 0.04 seconds\n"
     ]
    },
    {
     "name": "stdout",
     "output_type": "stream",
     "text": [
      " patches in ROI\n",
      "58513 roi samples\n",
      "58226 patches in ROI\n",
      "58226 roi samples\n",
      "58329"
     ]
    },
    {
     "name": "stderr",
     "output_type": "stream",
     "text": [
      "locate patches: 0.05 seconds\n",
      "locate patches: 0.05 seconds\n"
     ]
    },
    {
     "name": "stdout",
     "output_type": "stream",
     "text": [
      " patches in ROI\n",
      "58329 roi samples\n",
      "58130 patches in ROI\n",
      "58130 roi samples\n",
      "57996"
     ]
    },
    {
     "name": "stderr",
     "output_type": "stream",
     "text": [
      "locate patches: 0.04 seconds\n",
      "locate patches: 0.05 seconds\n"
     ]
    },
    {
     "name": "stdout",
     "output_type": "stream",
     "text": [
      " patches in ROI\n",
      "57996 roi samples\n",
      "58079 patches in ROI\n",
      "58079 roi samples\n",
      "58456"
     ]
    },
    {
     "name": "stderr",
     "output_type": "stream",
     "text": [
      "locate patches: 0.05 seconds\n",
      "locate patches: 0.04 seconds\n"
     ]
    },
    {
     "name": "stdout",
     "output_type": "stream",
     "text": [
      " patches in ROI\n",
      "58456 roi samples\n",
      "58077 patches in ROI\n",
      "58077 roi samples\n",
      "58162"
     ]
    },
    {
     "name": "stderr",
     "output_type": "stream",
     "text": [
      "locate patches: 0.04 seconds\n",
      "locate patches: 0.04 seconds\n"
     ]
    },
    {
     "name": "stdout",
     "output_type": "stream",
     "text": [
      " patches in ROI\n",
      "58162 roi samples\n",
      "55962 patches in ROI\n",
      "55962 roi samples\n",
      "58106"
     ]
    },
    {
     "name": "stderr",
     "output_type": "stream",
     "text": [
      "locate patches: 0.05 seconds\n",
      "locate patches: 0.04 seconds\n"
     ]
    },
    {
     "name": "stdout",
     "output_type": "stream",
     "text": [
      " patches in ROI\n",
      "58106 roi samples\n",
      "57299 patches in ROI\n",
      "57299 roi samples\n",
      "58254"
     ]
    },
    {
     "name": "stderr",
     "output_type": "stream",
     "text": [
      "locate patches: 0.04 seconds\n",
      "locate patches: 0.04 seconds\n"
     ]
    },
    {
     "name": "stdout",
     "output_type": "stream",
     "text": [
      " patches in ROI\n",
      "58254 roi samples\n",
      "55369 patches in ROI\n",
      "55369 roi samples\n",
      "57645"
     ]
    },
    {
     "name": "stderr",
     "output_type": "stream",
     "text": [
      "locate patches: 0.04 seconds\n",
      "locate patches: 0.04 seconds\n"
     ]
    },
    {
     "name": "stdout",
     "output_type": "stream",
     "text": [
      " patches in ROI\n",
      "57645 roi samples\n",
      "57626 patches in ROI\n",
      "57626 roi samples\n",
      "57614"
     ]
    },
    {
     "name": "stderr",
     "output_type": "stream",
     "text": [
      "locate patches: 0.04 seconds\n",
      "locate patches: 0.04 seconds\n"
     ]
    },
    {
     "name": "stdout",
     "output_type": "stream",
     "text": [
      " patches in ROI\n",
      "57614 roi samples\n",
      "57215 patches in ROI\n",
      "57215 roi samples\n",
      "57688"
     ]
    },
    {
     "name": "stderr",
     "output_type": "stream",
     "text": [
      "locate patches: 0.04 seconds\n",
      "locate patches: 0.04 seconds\n"
     ]
    },
    {
     "name": "stdout",
     "output_type": "stream",
     "text": [
      " patches in ROI\n",
      "57688 roi samples\n",
      "57478 patches in ROI\n",
      "57478 roi samples\n",
      "57610"
     ]
    },
    {
     "name": "stderr",
     "output_type": "stream",
     "text": [
      "locate patches: 0.04 seconds\n",
      "locate patches: 0.04 seconds\n"
     ]
    },
    {
     "name": "stdout",
     "output_type": "stream",
     "text": [
      " patches in ROI\n",
      "57610 roi samples\n",
      "57543 patches in ROI\n",
      "57543 roi samples\n",
      "57613"
     ]
    },
    {
     "name": "stderr",
     "output_type": "stream",
     "text": [
      "locate patches: 0.05 seconds\n",
      "locate patches: 0.04 seconds\n"
     ]
    },
    {
     "name": "stdout",
     "output_type": "stream",
     "text": [
      " patches in ROI\n",
      "57613 roi samples\n",
      "57821 patches in ROI\n",
      "57821 roi samples\n",
      "55325"
     ]
    },
    {
     "name": "stderr",
     "output_type": "stream",
     "text": [
      "locate patches: 0.04 seconds\n",
      "locate patches: 0.04 seconds\n"
     ]
    },
    {
     "name": "stdout",
     "output_type": "stream",
     "text": [
      " patches in ROI\n",
      "55325 roi samples\n",
      "58201 patches in ROI\n",
      "58201 roi samples\n",
      "57859"
     ]
    },
    {
     "name": "stderr",
     "output_type": "stream",
     "text": [
      "locate patches: 0.04 seconds\n",
      "locate patches: 0.04 seconds\n"
     ]
    },
    {
     "name": "stdout",
     "output_type": "stream",
     "text": [
      " patches in ROI\n",
      "57859 roi samples\n",
      "53577 patches in ROI\n",
      "53577 roi samples\n",
      "57583"
     ]
    },
    {
     "name": "stderr",
     "output_type": "stream",
     "text": [
      "locate patches: 0.04 seconds\n",
      "locate patches: 0.04 seconds\n"
     ]
    },
    {
     "name": "stdout",
     "output_type": "stream",
     "text": [
      " patches in ROI\n",
      "57583 roi samples\n",
      "58044 patches in ROI\n",
      "58044 roi samples\n",
      "57897"
     ]
    },
    {
     "name": "stderr",
     "output_type": "stream",
     "text": [
      "locate patches: 0.04 seconds\n",
      "locate patches: 0.04 seconds\n"
     ]
    },
    {
     "name": "stdout",
     "output_type": "stream",
     "text": [
      " patches in ROI\n",
      "57897 roi samples\n",
      "57480 patches in ROI\n",
      "57480 roi samples\n",
      "57790"
     ]
    },
    {
     "name": "stderr",
     "output_type": "stream",
     "text": [
      "locate patches: 0.05 seconds\n",
      "locate patches: 0.05 seconds\n"
     ]
    },
    {
     "name": "stdout",
     "output_type": "stream",
     "text": [
      " patches in ROI\n",
      "57790 roi samples\n",
      "57620 patches in ROI\n",
      "57620 roi samples\n",
      "57876"
     ]
    },
    {
     "name": "stderr",
     "output_type": "stream",
     "text": [
      "locate patches: 0.04 seconds\n",
      "locate patches: 0.04 seconds\n"
     ]
    },
    {
     "name": "stdout",
     "output_type": "stream",
     "text": [
      " patches in ROI\n",
      "57876 roi samples\n",
      "57296 patches in ROI\n",
      "57296 roi samples\n",
      "57741"
     ]
    },
    {
     "name": "stderr",
     "output_type": "stream",
     "text": [
      "locate patches: 0.05 seconds\n",
      "locate patches: 0.05 seconds\n"
     ]
    },
    {
     "name": "stdout",
     "output_type": "stream",
     "text": [
      " patches in ROI\n",
      "57741 roi samples\n",
      "57155 patches in ROI\n",
      "57155 roi samples\n",
      "56469"
     ]
    },
    {
     "name": "stderr",
     "output_type": "stream",
     "text": [
      "locate patches: 0.05 seconds\n",
      "locate patches: 0.05 seconds\n"
     ]
    },
    {
     "name": "stdout",
     "output_type": "stream",
     "text": [
      " patches in ROI\n",
      "56469 roi samples\n",
      "56510 patches in ROI\n",
      "56510 roi samples\n",
      "56646"
     ]
    },
    {
     "name": "stderr",
     "output_type": "stream",
     "text": [
      "locate patches: 0.05 seconds\n",
      "locate patches: 0.05 seconds\n"
     ]
    },
    {
     "name": "stdout",
     "output_type": "stream",
     "text": [
      " patches in ROI\n",
      "56646 roi samples\n",
      "56456 patches in ROI\n",
      "56456 roi samples\n",
      "55849"
     ]
    },
    {
     "name": "stderr",
     "output_type": "stream",
     "text": [
      "locate patches: 0.05 seconds\n",
      "locate patches: 0.05 seconds\n"
     ]
    },
    {
     "name": "stdout",
     "output_type": "stream",
     "text": [
      " patches in ROI\n",
      "55849 roi samples\n",
      "55434 patches in ROI\n",
      "55434 roi samples\n",
      "55342"
     ]
    },
    {
     "name": "stderr",
     "output_type": "stream",
     "text": [
      "locate patches: 0.05 seconds\n",
      "locate patches: 0.04 seconds\n"
     ]
    },
    {
     "name": "stdout",
     "output_type": "stream",
     "text": [
      " patches in ROI\n",
      "55342 roi samples\n",
      "55189 patches in ROI\n",
      "55189 roi samples\n",
      "54837"
     ]
    },
    {
     "name": "stderr",
     "output_type": "stream",
     "text": [
      "locate patches: 0.04 seconds\n",
      "locate patches: 0.05 seconds\n"
     ]
    },
    {
     "name": "stdout",
     "output_type": "stream",
     "text": [
      " patches in ROI\n",
      "54837 roi samples\n",
      "54907 patches in ROI\n",
      "54907 roi samples\n",
      "54112"
     ]
    },
    {
     "name": "stderr",
     "output_type": "stream",
     "text": [
      "locate patches: 0.04 seconds\n",
      "locate patches: 0.04 seconds\n"
     ]
    },
    {
     "name": "stdout",
     "output_type": "stream",
     "text": [
      " patches in ROI\n",
      "54112 roi samples\n",
      "54377 patches in ROI\n",
      "54377 roi samples\n",
      "53356"
     ]
    },
    {
     "name": "stderr",
     "output_type": "stream",
     "text": [
      "locate patches: 0.04 seconds\n",
      "locate patches: 0.04 seconds\n"
     ]
    },
    {
     "name": "stdout",
     "output_type": "stream",
     "text": [
      " patches in ROI\n",
      "53356 roi samples\n",
      "52971 patches in ROI\n",
      "52971 roi samples\n",
      "53039"
     ]
    },
    {
     "name": "stderr",
     "output_type": "stream",
     "text": [
      "locate patches: 0.04 seconds\n",
      "locate patches: 0.04 seconds\n"
     ]
    },
    {
     "name": "stdout",
     "output_type": "stream",
     "text": [
      " patches in ROI\n",
      "53039 roi samples\n",
      "53268 patches in ROI\n",
      "53268 roi samples\n",
      "52583"
     ]
    },
    {
     "name": "stderr",
     "output_type": "stream",
     "text": [
      "locate patches: 0.05 seconds\n",
      "locate patches: 0.04 seconds\n"
     ]
    },
    {
     "name": "stdout",
     "output_type": "stream",
     "text": [
      " patches in ROI\n",
      "52583 roi samples\n",
      "52499 patches in ROI\n",
      "52499 roi samples\n",
      "52359"
     ]
    },
    {
     "name": "stderr",
     "output_type": "stream",
     "text": [
      "locate patches: 0.04 seconds\n",
      "locate patches: 0.04 seconds\n"
     ]
    },
    {
     "name": "stdout",
     "output_type": "stream",
     "text": [
      " patches in ROI\n",
      "52359 roi samples\n",
      "52086 patches in ROI\n",
      "52086 roi samples\n",
      "51599"
     ]
    },
    {
     "name": "stderr",
     "output_type": "stream",
     "text": [
      "locate patches: 0.04 seconds\n",
      "locate patches: 0.04 seconds\n"
     ]
    },
    {
     "name": "stdout",
     "output_type": "stream",
     "text": [
      " patches in ROI\n",
      "51599 roi samples\n",
      "51198 patches in ROI\n",
      "51198 roi samples\n",
      "51162"
     ]
    },
    {
     "name": "stderr",
     "output_type": "stream",
     "text": [
      "locate patches: 0.05 seconds\n",
      "locate patches: 0.05 seconds\n"
     ]
    },
    {
     "name": "stdout",
     "output_type": "stream",
     "text": [
      " patches in ROI\n",
      "51162 roi samples\n",
      "51124 patches in ROI\n",
      "51124 roi samples\n",
      "50736"
     ]
    },
    {
     "name": "stderr",
     "output_type": "stream",
     "text": [
      "locate patches: 0.05 seconds\n",
      "locate patches: 0.04 seconds\n"
     ]
    },
    {
     "name": "stdout",
     "output_type": "stream",
     "text": [
      " patches in ROI\n",
      "50736 roi samples\n",
      "50407 patches in ROI\n",
      "50407 roi samples\n",
      "50440"
     ]
    },
    {
     "name": "stderr",
     "output_type": "stream",
     "text": [
      "locate patches: 0.04 seconds\n",
      "locate patches: 0.04 seconds\n"
     ]
    },
    {
     "name": "stdout",
     "output_type": "stream",
     "text": [
      " patches in ROI\n",
      "50440 roi samples\n",
      "50275 patches in ROI\n",
      "50275 roi samples\n",
      "50045"
     ]
    },
    {
     "name": "stderr",
     "output_type": "stream",
     "text": [
      "locate patches: 0.05 seconds\n",
      "locate patches: 0.05 seconds\n"
     ]
    },
    {
     "name": "stdout",
     "output_type": "stream",
     "text": [
      " patches in ROI\n",
      "50045 roi samples\n",
      "49959 patches in ROI\n",
      "49959 roi samples\n",
      "49857"
     ]
    },
    {
     "name": "stderr",
     "output_type": "stream",
     "text": [
      "locate patches: 0.05 seconds\n",
      "locate patches: 0.05 seconds\n"
     ]
    },
    {
     "name": "stdout",
     "output_type": "stream",
     "text": [
      " patches in ROI\n",
      "49857 roi samples\n",
      "50046 patches in ROI\n",
      "50046 roi samples\n",
      "49961"
     ]
    },
    {
     "name": "stderr",
     "output_type": "stream",
     "text": [
      "locate patches: 0.04 seconds\n",
      "locate patches: 0.05 seconds\n"
     ]
    },
    {
     "name": "stdout",
     "output_type": "stream",
     "text": [
      " patches in ROI\n",
      "49961 roi samples\n",
      "49885 patches in ROI\n",
      "49885 roi samples\n",
      "49833"
     ]
    },
    {
     "name": "stderr",
     "output_type": "stream",
     "text": [
      "locate patches: 0.04 seconds\n",
      "locate patches: 0.04 seconds\n"
     ]
    },
    {
     "name": "stdout",
     "output_type": "stream",
     "text": [
      " patches in ROI\n",
      "49833 roi samples\n",
      "49614 patches in ROI\n",
      "49614 roi samples\n",
      "49239"
     ]
    },
    {
     "name": "stderr",
     "output_type": "stream",
     "text": [
      "locate patches: 0.05 seconds\n",
      "locate patches: 0.05 seconds\n"
     ]
    },
    {
     "name": "stdout",
     "output_type": "stream",
     "text": [
      " patches in ROI\n",
      "49239 roi samples\n",
      "49442 patches in ROI\n",
      "49442 roi samples\n",
      "48593"
     ]
    },
    {
     "name": "stderr",
     "output_type": "stream",
     "text": [
      "locate patches: 0.05 seconds\n",
      "locate patches: 0.05 seconds\n"
     ]
    },
    {
     "name": "stdout",
     "output_type": "stream",
     "text": [
      " patches in ROI\n",
      "48593 roi samples\n",
      "48528 patches in ROI\n",
      "48528 roi samples\n",
      "46998"
     ]
    },
    {
     "name": "stderr",
     "output_type": "stream",
     "text": [
      "locate patches: 0.05 seconds\n",
      "locate patches: 0.05 seconds\n"
     ]
    },
    {
     "name": "stdout",
     "output_type": "stream",
     "text": [
      " patches in ROI\n",
      "46998 roi samples\n",
      "50927 patches in ROI\n",
      "50927 roi samples\n",
      "46729"
     ]
    },
    {
     "name": "stderr",
     "output_type": "stream",
     "text": [
      "locate patches: 0.04 seconds\n",
      "locate patches: 0.05 seconds\n"
     ]
    },
    {
     "name": "stdout",
     "output_type": "stream",
     "text": [
      " patches in ROI\n",
      "46729 roi samples\n",
      "46455 patches in ROI\n",
      "46455 roi samples\n",
      "46069"
     ]
    },
    {
     "name": "stderr",
     "output_type": "stream",
     "text": [
      "locate patches: 0.04 seconds\n",
      "locate patches: 0.05 seconds\n"
     ]
    },
    {
     "name": "stdout",
     "output_type": "stream",
     "text": [
      " patches in ROI\n",
      "46069 roi samples\n",
      "45512 patches in ROI\n",
      "45512 roi samples\n",
      "45381"
     ]
    },
    {
     "name": "stderr",
     "output_type": "stream",
     "text": [
      "locate patches: 0.04 seconds\n",
      "locate patches: 0.05 seconds\n"
     ]
    },
    {
     "name": "stdout",
     "output_type": "stream",
     "text": [
      " patches in ROI\n",
      "45381 roi samples\n",
      "45107 patches in ROI\n",
      "45107 roi samples\n",
      "45131"
     ]
    },
    {
     "name": "stderr",
     "output_type": "stream",
     "text": [
      "locate patches: 0.05 seconds\n",
      "locate patches: 0.05 seconds\n"
     ]
    },
    {
     "name": "stdout",
     "output_type": "stream",
     "text": [
      " patches in ROI\n",
      "45131 roi samples\n",
      "44839 patches in ROI\n",
      "44839 roi samples\n",
      "44752"
     ]
    },
    {
     "name": "stderr",
     "output_type": "stream",
     "text": [
      "locate patches: 0.05 seconds\n",
      "locate patches: 0.05 seconds\n"
     ]
    },
    {
     "name": "stdout",
     "output_type": "stream",
     "text": [
      " patches in ROI\n",
      "44752 roi samples\n",
      "44927 patches in ROI\n",
      "44927 roi samples\n",
      "44529"
     ]
    },
    {
     "name": "stderr",
     "output_type": "stream",
     "text": [
      "locate patches: 0.04 seconds\n",
      "locate patches: 0.05 seconds\n"
     ]
    },
    {
     "name": "stdout",
     "output_type": "stream",
     "text": [
      " patches in ROI\n",
      "44529 roi samples\n",
      "44375 patches in ROI\n",
      "44375 roi samples\n",
      "43737"
     ]
    },
    {
     "name": "stderr",
     "output_type": "stream",
     "text": [
      "locate patches: 0.04 seconds\n",
      "locate patches: 0.05 seconds\n"
     ]
    },
    {
     "name": "stdout",
     "output_type": "stream",
     "text": [
      " patches in ROI\n",
      "43737 roi samples\n",
      "43378 patches in ROI\n",
      "43378 roi samples\n",
      "43196"
     ]
    },
    {
     "name": "stderr",
     "output_type": "stream",
     "text": [
      "locate patches: 0.05 seconds\n",
      "locate patches: 0.05 seconds\n"
     ]
    },
    {
     "name": "stdout",
     "output_type": "stream",
     "text": [
      " patches in ROI\n",
      "43196 roi samples\n",
      "43090 patches in ROI\n",
      "43090 roi samples\n",
      "42907"
     ]
    },
    {
     "name": "stderr",
     "output_type": "stream",
     "text": [
      "locate patches: 0.05 seconds\n",
      "locate patches: 0.05 seconds\n"
     ]
    },
    {
     "name": "stdout",
     "output_type": "stream",
     "text": [
      " patches in ROI\n",
      "42907 roi samples\n",
      "42665 patches in ROI\n",
      "42665 roi samples\n",
      "42529"
     ]
    },
    {
     "name": "stderr",
     "output_type": "stream",
     "text": [
      "locate patches: 0.04 seconds\n",
      "locate patches: 0.05 seconds\n"
     ]
    },
    {
     "name": "stdout",
     "output_type": "stream",
     "text": [
      " patches in ROI\n",
      "42529 roi samples\n",
      "41942 patches in ROI\n",
      "41942 roi samples\n",
      "41912"
     ]
    },
    {
     "name": "stderr",
     "output_type": "stream",
     "text": [
      "locate patches: 0.05 seconds\n",
      "locate patches: 0.05 seconds\n"
     ]
    },
    {
     "name": "stdout",
     "output_type": "stream",
     "text": [
      " patches in ROI\n",
      "41912 roi samples\n",
      "41533 patches in ROI\n",
      "41533 roi samples\n",
      "41613"
     ]
    },
    {
     "name": "stderr",
     "output_type": "stream",
     "text": [
      "locate patches: 0.05 seconds\n",
      "locate patches: 0.05 seconds\n"
     ]
    },
    {
     "name": "stdout",
     "output_type": "stream",
     "text": [
      " patches in ROI\n",
      "41613 roi samples\n",
      "40976 patches in ROI\n",
      "40976 roi samples\n",
      "40953"
     ]
    },
    {
     "name": "stderr",
     "output_type": "stream",
     "text": [
      "locate patches: 0.04 seconds\n",
      "locate patches: 0.05 seconds\n"
     ]
    },
    {
     "name": "stdout",
     "output_type": "stream",
     "text": [
      " patches in ROI\n",
      "40953 roi samples\n",
      "40556 patches in ROI\n",
      "40556 roi samples\n",
      "40042"
     ]
    },
    {
     "name": "stderr",
     "output_type": "stream",
     "text": [
      "locate patches: 0.04 seconds\n",
      "locate patches: 0.05 seconds\n"
     ]
    },
    {
     "name": "stdout",
     "output_type": "stream",
     "text": [
      " patches in ROI\n",
      "40042 roi samples\n",
      "39912 patches in ROI\n",
      "39912 roi samples\n",
      "39441"
     ]
    },
    {
     "name": "stderr",
     "output_type": "stream",
     "text": [
      "locate patches: 0.05 seconds\n",
      "locate patches: 0.05 seconds\n"
     ]
    },
    {
     "name": "stdout",
     "output_type": "stream",
     "text": [
      " patches in ROI\n",
      "39441 roi samples\n",
      "38866 patches in ROI\n",
      "38866 roi samples\n",
      "38405"
     ]
    },
    {
     "name": "stderr",
     "output_type": "stream",
     "text": [
      "locate patches: 0.04 seconds\n",
      "locate patches: 0.05 seconds\n"
     ]
    },
    {
     "name": "stdout",
     "output_type": "stream",
     "text": [
      " patches in ROI\n",
      "38405 roi samples\n",
      "38169 patches in ROI\n",
      "38169 roi samples\n",
      "37907"
     ]
    },
    {
     "name": "stderr",
     "output_type": "stream",
     "text": [
      "locate patches: 0.05 seconds\n",
      "locate patches: 0.05 seconds\n"
     ]
    },
    {
     "name": "stdout",
     "output_type": "stream",
     "text": [
      " patches in ROI\n",
      "37907 roi samples\n",
      "37578 patches in ROI\n",
      "37578 roi samples\n",
      "37330"
     ]
    },
    {
     "name": "stderr",
     "output_type": "stream",
     "text": [
      "locate patches: 0.05 seconds\n",
      "locate patches: 0.05 seconds\n"
     ]
    },
    {
     "name": "stdout",
     "output_type": "stream",
     "text": [
      " patches in ROI\n",
      "37330 roi samples\n",
      "37108 patches in ROI\n",
      "37108 roi samples\n",
      "36757"
     ]
    },
    {
     "name": "stderr",
     "output_type": "stream",
     "text": [
      "locate patches: 0.04 seconds\n",
      "locate patches: 0.05 seconds\n"
     ]
    },
    {
     "name": "stdout",
     "output_type": "stream",
     "text": [
      " patches in ROI\n",
      "36757 roi samples\n",
      "36443 patches in ROI\n",
      "36443 roi samples\n",
      "36191"
     ]
    },
    {
     "name": "stderr",
     "output_type": "stream",
     "text": [
      "locate patches: 0.05 seconds\n",
      "locate patches: 0.05 seconds\n"
     ]
    },
    {
     "name": "stdout",
     "output_type": "stream",
     "text": [
      " patches in ROI\n",
      "36191 roi samples\n",
      "35942 patches in ROI\n",
      "35942 roi samples\n",
      "35876"
     ]
    },
    {
     "name": "stderr",
     "output_type": "stream",
     "text": [
      "locate patches: 0.04 seconds\n",
      "locate patches: 0.04 seconds\n"
     ]
    },
    {
     "name": "stdout",
     "output_type": "stream",
     "text": [
      " patches in ROI\n",
      "35876 roi samples\n",
      "35235 patches in ROI\n",
      "35235 roi samples\n",
      "35121"
     ]
    },
    {
     "name": "stderr",
     "output_type": "stream",
     "text": [
      "locate patches: 0.05 seconds\n",
      "locate patches: 0.04 seconds\n"
     ]
    },
    {
     "name": "stdout",
     "output_type": "stream",
     "text": [
      " patches in ROI\n",
      "35121 roi samples\n",
      "35025 patches in ROI\n",
      "35025 roi samples\n",
      "34872"
     ]
    },
    {
     "name": "stderr",
     "output_type": "stream",
     "text": [
      "locate patches: 0.04 seconds\n",
      "locate patches: 0.05 seconds\n"
     ]
    },
    {
     "name": "stdout",
     "output_type": "stream",
     "text": [
      " patches in ROI\n",
      "34872 roi samples\n",
      "34551 patches in ROI\n",
      "34551 roi samples\n",
      "34260"
     ]
    },
    {
     "name": "stderr",
     "output_type": "stream",
     "text": [
      "locate patches: 0.04 seconds\n",
      "locate patches: 0.05 seconds\n"
     ]
    },
    {
     "name": "stdout",
     "output_type": "stream",
     "text": [
      " patches in ROI\n",
      "34260 roi samples\n",
      "34250 patches in ROI\n",
      "34250 roi samples\n",
      "32370"
     ]
    },
    {
     "name": "stderr",
     "output_type": "stream",
     "text": [
      "locate patches: 0.04 seconds\n",
      "locate patches: 0.04 seconds\n"
     ]
    },
    {
     "name": "stdout",
     "output_type": "stream",
     "text": [
      " patches in ROI\n",
      "32370 roi samples\n",
      "33522 patches in ROI\n",
      "33522 roi samples\n",
      "33150"
     ]
    },
    {
     "name": "stderr",
     "output_type": "stream",
     "text": [
      "locate patches: 0.05 seconds\n",
      "locate patches: 0.04 seconds\n"
     ]
    },
    {
     "name": "stdout",
     "output_type": "stream",
     "text": [
      " patches in ROI\n",
      "33150 roi samples\n",
      "32915 patches in ROI\n",
      "32915 roi samples\n",
      "32701"
     ]
    },
    {
     "name": "stderr",
     "output_type": "stream",
     "text": [
      "locate patches: 0.05 seconds\n",
      "locate patches: 0.04 seconds\n"
     ]
    },
    {
     "name": "stdout",
     "output_type": "stream",
     "text": [
      " patches in ROI\n",
      "32701 roi samples\n",
      "32371 patches in ROI\n",
      "32371 roi samples\n",
      "31929"
     ]
    },
    {
     "name": "stderr",
     "output_type": "stream",
     "text": [
      "locate patches: 0.04 seconds\n",
      "locate patches: 0.05 seconds\n"
     ]
    },
    {
     "name": "stdout",
     "output_type": "stream",
     "text": [
      " patches in ROI\n",
      "31929 roi samples\n",
      "32388 patches in ROI\n",
      "32388 roi samples\n",
      "31762"
     ]
    },
    {
     "name": "stderr",
     "output_type": "stream",
     "text": [
      "locate patches: 0.05 seconds\n",
      "locate patches: 0.04 seconds\n"
     ]
    },
    {
     "name": "stdout",
     "output_type": "stream",
     "text": [
      " patches in ROI\n",
      "31762 roi samples\n",
      "31668 patches in ROI\n",
      "31668 roi samples\n",
      "31209"
     ]
    },
    {
     "name": "stderr",
     "output_type": "stream",
     "text": [
      "locate patches: 0.05 seconds\n",
      "locate patches: 0.05 seconds\n"
     ]
    },
    {
     "name": "stdout",
     "output_type": "stream",
     "text": [
      " patches in ROI\n",
      "31209 roi samples\n",
      "30959 patches in ROI\n",
      "30959 roi samples\n",
      "30552"
     ]
    },
    {
     "name": "stderr",
     "output_type": "stream",
     "text": [
      "locate patches: 0.05 seconds\n",
      "locate patches: 0.05 seconds\n"
     ]
    },
    {
     "name": "stdout",
     "output_type": "stream",
     "text": [
      " patches in ROI\n",
      "30552 roi samples\n",
      "30286 patches in ROI\n",
      "30286 roi samples\n",
      "29841"
     ]
    },
    {
     "name": "stderr",
     "output_type": "stream",
     "text": [
      "locate patches: 0.05 seconds\n",
      "locate patches: 0.05 seconds\n"
     ]
    },
    {
     "name": "stdout",
     "output_type": "stream",
     "text": [
      " patches in ROI\n",
      "29841 roi samples\n",
      "29042 patches in ROI\n",
      "29042 roi samples\n",
      "28579"
     ]
    },
    {
     "name": "stderr",
     "output_type": "stream",
     "text": [
      "locate patches: 0.05 seconds\n",
      "locate patches: 0.05 seconds\n"
     ]
    },
    {
     "name": "stdout",
     "output_type": "stream",
     "text": [
      " patches in ROI\n",
      "28579 roi samples\n",
      "28499 patches in ROI\n",
      "28499 roi samples\n",
      "27800"
     ]
    },
    {
     "name": "stderr",
     "output_type": "stream",
     "text": [
      "locate patches: 0.05 seconds\n",
      "locate patches: 0.05 seconds\n"
     ]
    },
    {
     "name": "stdout",
     "output_type": "stream",
     "text": [
      " patches in ROI\n",
      "27800 roi samples\n",
      "27817 patches in ROI\n",
      "27817 roi samples\n",
      "26543"
     ]
    },
    {
     "name": "stderr",
     "output_type": "stream",
     "text": [
      "locate patches: 0.05 seconds\n",
      "locate patches: 0.04 seconds\n"
     ]
    },
    {
     "name": "stdout",
     "output_type": "stream",
     "text": [
      " patches in ROI\n",
      "26543 roi samples\n",
      "26359 patches in ROI\n",
      "26359 roi samples\n",
      "25819"
     ]
    },
    {
     "name": "stderr",
     "output_type": "stream",
     "text": [
      "locate patches: 0.04 seconds\n",
      "locate patches: 0.05 seconds\n"
     ]
    },
    {
     "name": "stdout",
     "output_type": "stream",
     "text": [
      " patches in ROI\n",
      "25819 roi samples\n",
      "25457 patches in ROI\n",
      "25457 roi samples\n",
      "25105"
     ]
    },
    {
     "name": "stderr",
     "output_type": "stream",
     "text": [
      "locate patches: 0.05 seconds\n",
      "locate patches: 0.04 seconds\n"
     ]
    },
    {
     "name": "stdout",
     "output_type": "stream",
     "text": [
      " patches in ROI\n",
      "25105 roi samples\n",
      "24938 patches in ROI\n",
      "24938 roi samples\n",
      "24685"
     ]
    },
    {
     "name": "stderr",
     "output_type": "stream",
     "text": [
      "locate patches: 0.05 seconds\n",
      "locate patches: 0.04 seconds\n"
     ]
    },
    {
     "name": "stdout",
     "output_type": "stream",
     "text": [
      " patches in ROI\n",
      "24685 roi samples\n",
      "24824 patches in ROI\n",
      "24824 roi samples\n",
      "24203"
     ]
    },
    {
     "name": "stderr",
     "output_type": "stream",
     "text": [
      "locate patches: 0.04 seconds\n",
      "locate patches: 0.05 seconds\n"
     ]
    },
    {
     "name": "stdout",
     "output_type": "stream",
     "text": [
      " patches in ROI\n",
      "24203 roi samples\n",
      "24564 patches in ROI\n",
      "24564 roi samples\n",
      "24068"
     ]
    },
    {
     "name": "stderr",
     "output_type": "stream",
     "text": [
      "locate patches: 0.05 seconds\n",
      "locate patches: 0.05 seconds\n"
     ]
    },
    {
     "name": "stdout",
     "output_type": "stream",
     "text": [
      " patches in ROI\n",
      "24068 roi samples\n",
      "23647 patches in ROI\n",
      "23647 roi samples\n",
      "23941"
     ]
    },
    {
     "name": "stderr",
     "output_type": "stream",
     "text": [
      "locate patches: 0.05 seconds\n",
      "locate patches: 0.04 seconds\n"
     ]
    },
    {
     "name": "stdout",
     "output_type": "stream",
     "text": [
      " patches in ROI\n",
      "23941 roi samples\n",
      "23436 patches in ROI\n",
      "23436 roi samples\n",
      "23153"
     ]
    },
    {
     "name": "stderr",
     "output_type": "stream",
     "text": [
      "locate patches: 0.05 seconds\n",
      "locate patches: 0.05 seconds\n"
     ]
    },
    {
     "name": "stdout",
     "output_type": "stream",
     "text": [
      " patches in ROI\n",
      "23153 roi samples\n",
      "23535 patches in ROI\n",
      "23535 roi samples\n",
      "23093"
     ]
    },
    {
     "name": "stderr",
     "output_type": "stream",
     "text": [
      "locate patches: 0.05 seconds\n",
      "locate patches: 0.05 seconds\n"
     ]
    },
    {
     "name": "stdout",
     "output_type": "stream",
     "text": [
      " patches in ROI\n",
      "23093 roi samples\n",
      "23064 patches in ROI\n",
      "23064 roi samples\n",
      "MD603\n",
      "24216"
     ]
    },
    {
     "name": "stderr",
     "output_type": "stream",
     "text": [
      "locate patches: 0.05 seconds\n",
      "locate patches: 0.03 seconds\n"
     ]
    },
    {
     "name": "stdout",
     "output_type": "stream",
     "text": [
      " patches in ROI\n",
      "24216 roi samples\n",
      "25881 patches in ROI\n",
      "25881 roi samples\n",
      "24918"
     ]
    },
    {
     "name": "stderr",
     "output_type": "stream",
     "text": [
      "locate patches: 0.03 seconds\n",
      "locate patches: 0.03 seconds\n"
     ]
    },
    {
     "name": "stdout",
     "output_type": "stream",
     "text": [
      " patches in ROI\n",
      "24918 roi samples\n",
      "25648 patches in ROI\n",
      "25648 roi samples\n",
      "25615"
     ]
    },
    {
     "name": "stderr",
     "output_type": "stream",
     "text": [
      "locate patches: 0.03 seconds\n",
      "locate patches: 0.03 seconds\n"
     ]
    },
    {
     "name": "stdout",
     "output_type": "stream",
     "text": [
      " patches in ROI\n",
      "25615 roi samples\n",
      "26090 patches in ROI\n",
      "26090 roi samples\n",
      "26497"
     ]
    },
    {
     "name": "stderr",
     "output_type": "stream",
     "text": [
      "locate patches: 0.03 seconds\n",
      "locate patches: 0.03 seconds\n"
     ]
    },
    {
     "name": "stdout",
     "output_type": "stream",
     "text": [
      " patches in ROI\n",
      "26497 roi samples\n",
      "26403 patches in ROI\n",
      "26403 roi samples\n",
      "26937"
     ]
    },
    {
     "name": "stderr",
     "output_type": "stream",
     "text": [
      "locate patches: 0.03 seconds\n",
      "locate patches: 0.03 seconds\n"
     ]
    },
    {
     "name": "stdout",
     "output_type": "stream",
     "text": [
      " patches in ROI\n",
      "26937 roi samples\n",
      "25909 patches in ROI\n",
      "25909 roi samples\n",
      "27265"
     ]
    },
    {
     "name": "stderr",
     "output_type": "stream",
     "text": [
      "locate patches: 0.03 seconds\n",
      "locate patches: 0.03 seconds\n"
     ]
    },
    {
     "name": "stdout",
     "output_type": "stream",
     "text": [
      " patches in ROI\n",
      "27265 roi samples\n",
      "26185 patches in ROI\n",
      "26185 roi samples\n",
      "26674"
     ]
    },
    {
     "name": "stderr",
     "output_type": "stream",
     "text": [
      "locate patches: 0.03 seconds\n",
      "locate patches: 0.03 seconds\n"
     ]
    },
    {
     "name": "stdout",
     "output_type": "stream",
     "text": [
      " patches in ROI\n",
      "26674 roi samples\n",
      "27031 patches in ROI\n",
      "27031 roi samples\n",
      "27251"
     ]
    },
    {
     "name": "stderr",
     "output_type": "stream",
     "text": [
      "locate patches: 0.03 seconds\n",
      "locate patches: 0.03 seconds\n"
     ]
    },
    {
     "name": "stdout",
     "output_type": "stream",
     "text": [
      " patches in ROI\n",
      "27251 roi samples\n",
      "26517 patches in ROI\n",
      "26517 roi samples\n",
      "26781"
     ]
    },
    {
     "name": "stderr",
     "output_type": "stream",
     "text": [
      "locate patches: 0.03 seconds\n",
      "locate patches: 0.03 seconds\n"
     ]
    },
    {
     "name": "stdout",
     "output_type": "stream",
     "text": [
      " patches in ROI\n",
      "26781 roi samples\n",
      "26410 patches in ROI\n",
      "26410 roi samples\n",
      "27124"
     ]
    },
    {
     "name": "stderr",
     "output_type": "stream",
     "text": [
      "locate patches: 0.03 seconds\n",
      "locate patches: 0.03 seconds\n"
     ]
    },
    {
     "name": "stdout",
     "output_type": "stream",
     "text": [
      " patches in ROI\n",
      "27124 roi samples\n",
      "27422 patches in ROI\n",
      "27422 roi samples\n",
      "27285"
     ]
    },
    {
     "name": "stderr",
     "output_type": "stream",
     "text": [
      "locate patches: 0.03 seconds\n",
      "locate patches: 0.03 seconds\n"
     ]
    },
    {
     "name": "stdout",
     "output_type": "stream",
     "text": [
      " patches in ROI\n",
      "27285 roi samples\n",
      "26789 patches in ROI\n",
      "26789 roi samples\n",
      "27339"
     ]
    },
    {
     "name": "stderr",
     "output_type": "stream",
     "text": [
      "locate patches: 0.03 seconds\n",
      "locate patches: 0.03 seconds\n"
     ]
    },
    {
     "name": "stdout",
     "output_type": "stream",
     "text": [
      " patches in ROI\n",
      "27339 roi samples\n",
      "27295 patches in ROI\n",
      "27295 roi samples\n",
      "27428"
     ]
    },
    {
     "name": "stderr",
     "output_type": "stream",
     "text": [
      "locate patches: 0.03 seconds\n",
      "locate patches: 0.03 seconds\n"
     ]
    },
    {
     "name": "stdout",
     "output_type": "stream",
     "text": [
      " patches in ROI\n",
      "27428 roi samples\n",
      "27662 patches in ROI\n",
      "27662 roi samples\n",
      "27899"
     ]
    },
    {
     "name": "stderr",
     "output_type": "stream",
     "text": [
      "locate patches: 0.03 seconds\n",
      "locate patches: 0.03 seconds\n"
     ]
    },
    {
     "name": "stdout",
     "output_type": "stream",
     "text": [
      " patches in ROI\n",
      "27899 roi samples\n",
      "28012 patches in ROI\n",
      "28012 roi samples\n",
      "28206"
     ]
    },
    {
     "name": "stderr",
     "output_type": "stream",
     "text": [
      "locate patches: 0.03 seconds\n",
      "locate patches: 0.03 seconds\n"
     ]
    },
    {
     "name": "stdout",
     "output_type": "stream",
     "text": [
      " patches in ROI\n",
      "28206 roi samples\n",
      "28293 patches in ROI\n",
      "28293 roi samples\n",
      "27987"
     ]
    },
    {
     "name": "stderr",
     "output_type": "stream",
     "text": [
      "locate patches: 0.03 seconds\n",
      "locate patches: 0.03 seconds\n"
     ]
    },
    {
     "name": "stdout",
     "output_type": "stream",
     "text": [
      " patches in ROI\n",
      "27987 roi samples\n",
      "28356 patches in ROI\n",
      "28356 roi samples\n",
      "28785"
     ]
    },
    {
     "name": "stderr",
     "output_type": "stream",
     "text": [
      "locate patches: 0.03 seconds\n",
      "locate patches: 0.03 seconds\n"
     ]
    },
    {
     "name": "stdout",
     "output_type": "stream",
     "text": [
      " patches in ROI\n",
      "28785 roi samples\n",
      "28828 patches in ROI\n",
      "28828 roi samples\n",
      "28946"
     ]
    },
    {
     "name": "stderr",
     "output_type": "stream",
     "text": [
      "locate patches: 0.03 seconds\n",
      "locate patches: 0.03 seconds\n"
     ]
    },
    {
     "name": "stdout",
     "output_type": "stream",
     "text": [
      " patches in ROI\n",
      "28946 roi samples\n",
      "29109 patches in ROI\n",
      "29109 roi samples\n",
      "29044"
     ]
    },
    {
     "name": "stderr",
     "output_type": "stream",
     "text": [
      "locate patches: 0.03 seconds\n",
      "locate patches: 0.03 seconds\n"
     ]
    },
    {
     "name": "stdout",
     "output_type": "stream",
     "text": [
      " patches in ROI\n",
      "29044 roi samples\n",
      "29176 patches in ROI\n",
      "29176 roi samples\n",
      "30757"
     ]
    },
    {
     "name": "stderr",
     "output_type": "stream",
     "text": [
      "locate patches: 0.03 seconds\n",
      "locate patches: 0.03 seconds\n"
     ]
    },
    {
     "name": "stdout",
     "output_type": "stream",
     "text": [
      " patches in ROI\n",
      "30757 roi samples\n",
      "30560 patches in ROI\n",
      "30560 roi samples\n",
      "31040"
     ]
    },
    {
     "name": "stderr",
     "output_type": "stream",
     "text": [
      "locate patches: 0.03 seconds\n",
      "locate patches: 0.03 seconds\n"
     ]
    },
    {
     "name": "stdout",
     "output_type": "stream",
     "text": [
      " patches in ROI\n",
      "31040 roi samples\n",
      "30598 patches in ROI\n",
      "30598 roi samples\n",
      "31475"
     ]
    },
    {
     "name": "stderr",
     "output_type": "stream",
     "text": [
      "locate patches: 0.03 seconds\n",
      "locate patches: 0.03 seconds\n"
     ]
    },
    {
     "name": "stdout",
     "output_type": "stream",
     "text": [
      " patches in ROI\n",
      "31475 roi samples\n",
      "31673 patches in ROI\n",
      "31673 roi samples\n",
      "31982"
     ]
    },
    {
     "name": "stderr",
     "output_type": "stream",
     "text": [
      "locate patches: 0.03 seconds\n",
      "locate patches: 0.03 seconds\n"
     ]
    },
    {
     "name": "stdout",
     "output_type": "stream",
     "text": [
      " patches in ROI\n",
      "31982 roi samples\n",
      "32133 patches in ROI\n",
      "32133 roi samples\n",
      "32414"
     ]
    },
    {
     "name": "stderr",
     "output_type": "stream",
     "text": [
      "locate patches: 0.03 seconds\n",
      "locate patches: 0.03 seconds\n"
     ]
    },
    {
     "name": "stdout",
     "output_type": "stream",
     "text": [
      " patches in ROI\n",
      "32414 roi samples\n",
      "32560 patches in ROI\n",
      "32560 roi samples\n",
      "32631"
     ]
    },
    {
     "name": "stderr",
     "output_type": "stream",
     "text": [
      "locate patches: 0.03 seconds\n",
      "locate patches: 0.03 seconds\n"
     ]
    },
    {
     "name": "stdout",
     "output_type": "stream",
     "text": [
      " patches in ROI\n",
      "32631 roi samples\n",
      "32865 patches in ROI\n",
      "32865 roi samples\n",
      "33356"
     ]
    },
    {
     "name": "stderr",
     "output_type": "stream",
     "text": [
      "locate patches: 0.03 seconds\n",
      "locate patches: 0.03 seconds\n"
     ]
    },
    {
     "name": "stdout",
     "output_type": "stream",
     "text": [
      " patches in ROI\n",
      "33356 roi samples\n",
      "34104 patches in ROI\n",
      "34104 roi samples\n",
      "34337"
     ]
    },
    {
     "name": "stderr",
     "output_type": "stream",
     "text": [
      "locate patches: 0.03 seconds\n",
      "locate patches: 0.03 seconds\n"
     ]
    },
    {
     "name": "stdout",
     "output_type": "stream",
     "text": [
      " patches in ROI\n",
      "34337 roi samples\n",
      "34768 patches in ROI\n",
      "34768 roi samples\n",
      "34822"
     ]
    },
    {
     "name": "stderr",
     "output_type": "stream",
     "text": [
      "locate patches: 0.03 seconds\n",
      "locate patches: 0.03 seconds\n"
     ]
    },
    {
     "name": "stdout",
     "output_type": "stream",
     "text": [
      " patches in ROI\n",
      "34822 roi samples\n",
      "35294 patches in ROI\n",
      "35294 roi samples\n",
      "35569"
     ]
    },
    {
     "name": "stderr",
     "output_type": "stream",
     "text": [
      "locate patches: 0.03 seconds\n",
      "locate patches: 0.03 seconds\n"
     ]
    },
    {
     "name": "stdout",
     "output_type": "stream",
     "text": [
      " patches in ROI\n",
      "35569 roi samples\n",
      "35969 patches in ROI\n",
      "35969 roi samples\n",
      "36233"
     ]
    },
    {
     "name": "stderr",
     "output_type": "stream",
     "text": [
      "locate patches: 0.03 seconds\n",
      "locate patches: 0.03 seconds\n"
     ]
    },
    {
     "name": "stdout",
     "output_type": "stream",
     "text": [
      " patches in ROI\n",
      "36233 roi samples\n",
      "36725 patches in ROI\n",
      "36725 roi samples\n",
      "37005"
     ]
    },
    {
     "name": "stderr",
     "output_type": "stream",
     "text": [
      "locate patches: 0.03 seconds\n",
      "locate patches: 0.03 seconds\n"
     ]
    },
    {
     "name": "stdout",
     "output_type": "stream",
     "text": [
      " patches in ROI\n",
      "37005 roi samples\n",
      "37478 patches in ROI\n",
      "37478 roi samples\n",
      "37939"
     ]
    },
    {
     "name": "stderr",
     "output_type": "stream",
     "text": [
      "locate patches: 0.03 seconds\n",
      "locate patches: 0.03 seconds\n"
     ]
    },
    {
     "name": "stdout",
     "output_type": "stream",
     "text": [
      " patches in ROI\n",
      "37939 roi samples\n",
      "38283 patches in ROI\n",
      "38283 roi samples\n",
      "38441"
     ]
    },
    {
     "name": "stderr",
     "output_type": "stream",
     "text": [
      "locate patches: 0.03 seconds\n",
      "locate patches: 0.03 seconds\n"
     ]
    },
    {
     "name": "stdout",
     "output_type": "stream",
     "text": [
      " patches in ROI\n",
      "38441 roi samples\n",
      "38844 patches in ROI\n",
      "38844 roi samples\n",
      "38817"
     ]
    },
    {
     "name": "stderr",
     "output_type": "stream",
     "text": [
      "locate patches: 0.03 seconds\n",
      "locate patches: 0.03 seconds\n"
     ]
    },
    {
     "name": "stdout",
     "output_type": "stream",
     "text": [
      " patches in ROI\n",
      "38817 roi samples\n",
      "39544 patches in ROI\n",
      "39544 roi samples\n",
      "39634"
     ]
    },
    {
     "name": "stderr",
     "output_type": "stream",
     "text": [
      "locate patches: 0.03 seconds\n",
      "locate patches: 0.03 seconds\n"
     ]
    },
    {
     "name": "stdout",
     "output_type": "stream",
     "text": [
      " patches in ROI\n",
      "39634 roi samples\n",
      "39794 patches in ROI\n",
      "39794 roi samples\n",
      "40066"
     ]
    },
    {
     "name": "stderr",
     "output_type": "stream",
     "text": [
      "locate patches: 0.03 seconds\n",
      "locate patches: 0.03 seconds\n"
     ]
    },
    {
     "name": "stdout",
     "output_type": "stream",
     "text": [
      " patches in ROI\n",
      "40066 roi samples\n",
      "40422 patches in ROI\n",
      "40422 roi samples\n",
      "40701"
     ]
    },
    {
     "name": "stderr",
     "output_type": "stream",
     "text": [
      "locate patches: 0.03 seconds\n",
      "locate patches: 0.03 seconds\n"
     ]
    },
    {
     "name": "stdout",
     "output_type": "stream",
     "text": [
      " patches in ROI\n",
      "40701 roi samples\n",
      "40976 patches in ROI\n",
      "40976 roi samples\n",
      "41590"
     ]
    },
    {
     "name": "stderr",
     "output_type": "stream",
     "text": [
      "locate patches: 0.03 seconds\n",
      "locate patches: 0.03 seconds\n"
     ]
    },
    {
     "name": "stdout",
     "output_type": "stream",
     "text": [
      " patches in ROI\n",
      "41590 roi samples\n",
      "41828 patches in ROI\n",
      "41828 roi samples\n",
      "41977"
     ]
    },
    {
     "name": "stderr",
     "output_type": "stream",
     "text": [
      "locate patches: 0.03 seconds\n",
      "locate patches: 0.03 seconds\n"
     ]
    },
    {
     "name": "stdout",
     "output_type": "stream",
     "text": [
      " patches in ROI\n",
      "41977 roi samples\n",
      "42270 patches in ROI\n",
      "42270 roi samples\n",
      "42331"
     ]
    },
    {
     "name": "stderr",
     "output_type": "stream",
     "text": [
      "locate patches: 0.03 seconds\n",
      "locate patches: 0.03 seconds\n"
     ]
    },
    {
     "name": "stdout",
     "output_type": "stream",
     "text": [
      " patches in ROI\n",
      "42331 roi samples\n",
      "42692 patches in ROI\n",
      "42692 roi samples\n",
      "43031"
     ]
    },
    {
     "name": "stderr",
     "output_type": "stream",
     "text": [
      "locate patches: 0.03 seconds\n",
      "locate patches: 0.03 seconds\n"
     ]
    },
    {
     "name": "stdout",
     "output_type": "stream",
     "text": [
      " patches in ROI\n",
      "43031 roi samples\n",
      "43754 patches in ROI\n",
      "43754 roi samples\n",
      "43527"
     ]
    },
    {
     "name": "stderr",
     "output_type": "stream",
     "text": [
      "locate patches: 0.03 seconds\n",
      "locate patches: 0.03 seconds\n"
     ]
    },
    {
     "name": "stdout",
     "output_type": "stream",
     "text": [
      " patches in ROI\n",
      "43527 roi samples\n",
      "44002 patches in ROI\n",
      "44002 roi samples\n",
      "44486"
     ]
    },
    {
     "name": "stderr",
     "output_type": "stream",
     "text": [
      "locate patches: 0.03 seconds\n",
      "locate patches: 0.03 seconds\n"
     ]
    },
    {
     "name": "stdout",
     "output_type": "stream",
     "text": [
      " patches in ROI\n",
      "44486 roi samples\n",
      "44958 patches in ROI\n",
      "44958 roi samples\n",
      "45343"
     ]
    },
    {
     "name": "stderr",
     "output_type": "stream",
     "text": [
      "locate patches: 0.03 seconds\n",
      "locate patches: 0.03 seconds\n"
     ]
    },
    {
     "name": "stdout",
     "output_type": "stream",
     "text": [
      " patches in ROI\n",
      "45343 roi samples\n",
      "45775 patches in ROI\n",
      "45775 roi samples\n",
      "45687"
     ]
    },
    {
     "name": "stderr",
     "output_type": "stream",
     "text": [
      "locate patches: 0.03 seconds\n",
      "locate patches: 0.03 seconds\n"
     ]
    },
    {
     "name": "stdout",
     "output_type": "stream",
     "text": [
      " patches in ROI\n",
      "45687 roi samples\n",
      "45995 patches in ROI\n",
      "45995 roi samples\n",
      "46118"
     ]
    },
    {
     "name": "stderr",
     "output_type": "stream",
     "text": [
      "locate patches: 0.03 seconds\n",
      "locate patches: 0.03 seconds\n"
     ]
    },
    {
     "name": "stdout",
     "output_type": "stream",
     "text": [
      " patches in ROI\n",
      "46118 roi samples\n",
      "46534 patches in ROI\n",
      "46534 roi samples\n",
      "47248"
     ]
    },
    {
     "name": "stderr",
     "output_type": "stream",
     "text": [
      "locate patches: 0.03 seconds\n",
      "locate patches: 0.03 seconds\n"
     ]
    },
    {
     "name": "stdout",
     "output_type": "stream",
     "text": [
      " patches in ROI\n",
      "47248 roi samples\n",
      "47545 patches in ROI\n",
      "47545 roi samples\n",
      "47917"
     ]
    },
    {
     "name": "stderr",
     "output_type": "stream",
     "text": [
      "locate patches: 0.03 seconds\n",
      "locate patches: 0.03 seconds\n"
     ]
    },
    {
     "name": "stdout",
     "output_type": "stream",
     "text": [
      " patches in ROI\n",
      "47917 roi samples\n",
      "47901 patches in ROI\n",
      "47901 roi samples\n",
      "38985"
     ]
    },
    {
     "name": "stderr",
     "output_type": "stream",
     "text": [
      "locate patches: 0.03 seconds\n",
      "locate patches: 0.03 seconds\n"
     ]
    },
    {
     "name": "stdout",
     "output_type": "stream",
     "text": [
      " patches in ROI\n",
      "38985 roi samples\n",
      "48293 patches in ROI\n",
      "48293 roi samples\n",
      "48721"
     ]
    },
    {
     "name": "stderr",
     "output_type": "stream",
     "text": [
      "locate patches: 0.03 seconds\n",
      "locate patches: 0.03 seconds\n"
     ]
    },
    {
     "name": "stdout",
     "output_type": "stream",
     "text": [
      " patches in ROI\n",
      "48721 roi samples\n",
      "48748 patches in ROI\n",
      "48748 roi samples\n",
      "48915"
     ]
    },
    {
     "name": "stderr",
     "output_type": "stream",
     "text": [
      "locate patches: 0.03 seconds\n",
      "locate patches: 0.03 seconds\n"
     ]
    },
    {
     "name": "stdout",
     "output_type": "stream",
     "text": [
      " patches in ROI\n",
      "48915 roi samples\n",
      "48906 patches in ROI\n",
      "48906 roi samples\n",
      "48833"
     ]
    },
    {
     "name": "stderr",
     "output_type": "stream",
     "text": [
      "locate patches: 0.03 seconds\n",
      "locate patches: 0.03 seconds\n"
     ]
    },
    {
     "name": "stdout",
     "output_type": "stream",
     "text": [
      " patches in ROI\n",
      "48833 roi samples\n",
      "49007 patches in ROI\n",
      "49007 roi samples\n",
      "49627"
     ]
    },
    {
     "name": "stderr",
     "output_type": "stream",
     "text": [
      "locate patches: 0.03 seconds\n",
      "locate patches: 0.03 seconds\n"
     ]
    },
    {
     "name": "stdout",
     "output_type": "stream",
     "text": [
      " patches in ROI\n",
      "49627 roi samples\n",
      "49430 patches in ROI\n",
      "49430 roi samples\n",
      "49716"
     ]
    },
    {
     "name": "stderr",
     "output_type": "stream",
     "text": [
      "locate patches: 0.03 seconds\n",
      "locate patches: 0.03 seconds\n"
     ]
    },
    {
     "name": "stdout",
     "output_type": "stream",
     "text": [
      " patches in ROI\n",
      "49716 roi samples\n",
      "49929 patches in ROI\n",
      "49929 roi samples\n",
      "49655"
     ]
    },
    {
     "name": "stderr",
     "output_type": "stream",
     "text": [
      "locate patches: 0.03 seconds\n",
      "locate patches: 0.03 seconds\n"
     ]
    },
    {
     "name": "stdout",
     "output_type": "stream",
     "text": [
      " patches in ROI\n",
      "49655 roi samples\n",
      "49501 patches in ROI\n",
      "49501 roi samples\n",
      "49329"
     ]
    },
    {
     "name": "stderr",
     "output_type": "stream",
     "text": [
      "locate patches: 0.03 seconds\n",
      "locate patches: 0.03 seconds\n"
     ]
    },
    {
     "name": "stdout",
     "output_type": "stream",
     "text": [
      " patches in ROI\n",
      "49329 roi samples\n",
      "49701 patches in ROI\n",
      "49701 roi samples\n",
      "49922"
     ]
    },
    {
     "name": "stderr",
     "output_type": "stream",
     "text": [
      "locate patches: 0.03 seconds\n",
      "locate patches: 0.03 seconds\n"
     ]
    },
    {
     "name": "stdout",
     "output_type": "stream",
     "text": [
      " patches in ROI\n",
      "49922 roi samples\n",
      "50091 patches in ROI\n",
      "50091 roi samples\n",
      "50379"
     ]
    },
    {
     "name": "stderr",
     "output_type": "stream",
     "text": [
      "locate patches: 0.03 seconds\n",
      "locate patches: 0.03 seconds\n"
     ]
    },
    {
     "name": "stdout",
     "output_type": "stream",
     "text": [
      " patches in ROI\n",
      "50379 roi samples\n",
      "50015 patches in ROI\n",
      "50015 roi samples\n",
      "50502"
     ]
    },
    {
     "name": "stderr",
     "output_type": "stream",
     "text": [
      "locate patches: 0.03 seconds\n",
      "locate patches: 0.03 seconds\n"
     ]
    },
    {
     "name": "stdout",
     "output_type": "stream",
     "text": [
      " patches in ROI\n",
      "50502 roi samples\n",
      "50539 patches in ROI\n",
      "50539 roi samples\n",
      "50835"
     ]
    },
    {
     "name": "stderr",
     "output_type": "stream",
     "text": [
      "locate patches: 0.03 seconds\n",
      "locate patches: 0.03 seconds\n"
     ]
    },
    {
     "name": "stdout",
     "output_type": "stream",
     "text": [
      " patches in ROI\n",
      "50835 roi samples\n",
      "49709 patches in ROI\n",
      "49709 roi samples\n",
      "48784"
     ]
    },
    {
     "name": "stderr",
     "output_type": "stream",
     "text": [
      "locate patches: 0.03 seconds\n",
      "locate patches: 0.03 seconds\n"
     ]
    },
    {
     "name": "stdout",
     "output_type": "stream",
     "text": [
      " patches in ROI\n",
      "48784 roi samples\n",
      "51097 patches in ROI\n",
      "51097 roi samples\n",
      "51024"
     ]
    },
    {
     "name": "stderr",
     "output_type": "stream",
     "text": [
      "locate patches: 0.03 seconds\n",
      "locate patches: 0.03 seconds\n"
     ]
    },
    {
     "name": "stdout",
     "output_type": "stream",
     "text": [
      " patches in ROI\n",
      "51024 roi samples\n",
      "50960 patches in ROI\n",
      "50960 roi samples\n",
      "50601"
     ]
    },
    {
     "name": "stderr",
     "output_type": "stream",
     "text": [
      "locate patches: 0.03 seconds\n",
      "locate patches: 0.03 seconds\n"
     ]
    },
    {
     "name": "stdout",
     "output_type": "stream",
     "text": [
      " patches in ROI\n",
      "50601 roi samples\n",
      "50438 patches in ROI\n",
      "50438 roi samples\n",
      "50235"
     ]
    },
    {
     "name": "stderr",
     "output_type": "stream",
     "text": [
      "locate patches: 0.03 seconds\n",
      "locate patches: 0.03 seconds\n"
     ]
    },
    {
     "name": "stdout",
     "output_type": "stream",
     "text": [
      " patches in ROI\n",
      "50235 roi samples\n",
      "50270 patches in ROI\n",
      "50270 roi samples\n",
      "50138"
     ]
    },
    {
     "name": "stderr",
     "output_type": "stream",
     "text": [
      "locate patches: 0.03 seconds\n",
      "locate patches: 0.03 seconds\n"
     ]
    },
    {
     "name": "stdout",
     "output_type": "stream",
     "text": [
      " patches in ROI\n",
      "50138 roi samples\n",
      "49258 patches in ROI\n",
      "49258 roi samples\n",
      "49473"
     ]
    },
    {
     "name": "stderr",
     "output_type": "stream",
     "text": [
      "locate patches: 0.03 seconds\n",
      "locate patches: 0.03 seconds\n"
     ]
    },
    {
     "name": "stdout",
     "output_type": "stream",
     "text": [
      " patches in ROI\n",
      "49473 roi samples\n",
      "49813 patches in ROI\n",
      "49813 roi samples\n",
      "49521"
     ]
    },
    {
     "name": "stderr",
     "output_type": "stream",
     "text": [
      "locate patches: 0.03 seconds\n",
      "locate patches: 0.03 seconds\n"
     ]
    },
    {
     "name": "stdout",
     "output_type": "stream",
     "text": [
      " patches in ROI\n",
      "49521 roi samples\n",
      "49648 patches in ROI\n",
      "49648 roi samples\n",
      "49531"
     ]
    },
    {
     "name": "stderr",
     "output_type": "stream",
     "text": [
      "locate patches: 0.03 seconds\n",
      "locate patches: 0.03 seconds\n"
     ]
    },
    {
     "name": "stdout",
     "output_type": "stream",
     "text": [
      " patches in ROI\n",
      "49531 roi samples\n",
      "49503 patches in ROI\n",
      "49503 roi samples\n",
      "49422"
     ]
    },
    {
     "name": "stderr",
     "output_type": "stream",
     "text": [
      "locate patches: 0.03 seconds\n",
      "locate patches: 0.03 seconds\n"
     ]
    },
    {
     "name": "stdout",
     "output_type": "stream",
     "text": [
      " patches in ROI\n",
      "49422 roi samples\n",
      "49756 patches in ROI\n",
      "49756 roi samples\n",
      "50086"
     ]
    },
    {
     "name": "stderr",
     "output_type": "stream",
     "text": [
      "locate patches: 0.03 seconds\n",
      "locate patches: 0.03 seconds\n"
     ]
    },
    {
     "name": "stdout",
     "output_type": "stream",
     "text": [
      " patches in ROI\n",
      "50086 roi samples\n",
      "49943 patches in ROI\n",
      "49943 roi samples\n",
      "49776"
     ]
    },
    {
     "name": "stderr",
     "output_type": "stream",
     "text": [
      "locate patches: 0.03 seconds\n",
      "locate patches: 0.03 seconds\n"
     ]
    },
    {
     "name": "stdout",
     "output_type": "stream",
     "text": [
      " patches in ROI\n",
      "49776 roi samples\n",
      "50080 patches in ROI\n",
      "50080 roi samples\n",
      "49797"
     ]
    },
    {
     "name": "stderr",
     "output_type": "stream",
     "text": [
      "locate patches: 0.03 seconds\n",
      "locate patches: 0.03 seconds\n"
     ]
    },
    {
     "name": "stdout",
     "output_type": "stream",
     "text": [
      " patches in ROI\n",
      "49797 roi samples\n",
      "49905 patches in ROI\n",
      "49905 roi samples\n",
      "49988"
     ]
    },
    {
     "name": "stderr",
     "output_type": "stream",
     "text": [
      "locate patches: 0.03 seconds\n",
      "locate patches: 0.03 seconds\n"
     ]
    },
    {
     "name": "stdout",
     "output_type": "stream",
     "text": [
      " patches in ROI\n",
      "49988 roi samples\n",
      "49846 patches in ROI\n",
      "49846 roi samples\n",
      "49505"
     ]
    },
    {
     "name": "stderr",
     "output_type": "stream",
     "text": [
      "locate patches: 0.03 seconds\n",
      "locate patches: 0.03 seconds\n"
     ]
    },
    {
     "name": "stdout",
     "output_type": "stream",
     "text": [
      " patches in ROI\n",
      "49505 roi samples\n",
      "49698 patches in ROI\n",
      "49698 roi samples\n",
      "49458"
     ]
    },
    {
     "name": "stderr",
     "output_type": "stream",
     "text": [
      "locate patches: 0.03 seconds\n",
      "locate patches: 0.03 seconds\n"
     ]
    },
    {
     "name": "stdout",
     "output_type": "stream",
     "text": [
      " patches in ROI\n",
      "49458 roi samples\n",
      "49506 patches in ROI\n",
      "49506 roi samples\n",
      "49302"
     ]
    },
    {
     "name": "stderr",
     "output_type": "stream",
     "text": [
      "locate patches: 0.03 seconds\n",
      "locate patches: 0.03 seconds\n"
     ]
    },
    {
     "name": "stdout",
     "output_type": "stream",
     "text": [
      " patches in ROI\n",
      "49302 roi samples\n",
      "49519 patches in ROI\n",
      "49519 roi samples\n",
      "49947"
     ]
    },
    {
     "name": "stderr",
     "output_type": "stream",
     "text": [
      "locate patches: 0.03 seconds\n",
      "locate patches: 0.03 seconds\n"
     ]
    },
    {
     "name": "stdout",
     "output_type": "stream",
     "text": [
      " patches in ROI\n",
      "49947 roi samples\n",
      "49971 patches in ROI\n",
      "49971 roi samples\n",
      "50108"
     ]
    },
    {
     "name": "stderr",
     "output_type": "stream",
     "text": [
      "locate patches: 0.03 seconds\n",
      "locate patches: 0.03 seconds\n"
     ]
    },
    {
     "name": "stdout",
     "output_type": "stream",
     "text": [
      " patches in ROI\n",
      "50108 roi samples\n",
      "50132 patches in ROI\n",
      "50132 roi samples\n",
      "49393"
     ]
    },
    {
     "name": "stderr",
     "output_type": "stream",
     "text": [
      "locate patches: 0.03 seconds\n",
      "locate patches: 0.03 seconds\n"
     ]
    },
    {
     "name": "stdout",
     "output_type": "stream",
     "text": [
      " patches in ROI\n",
      "49393 roi samples\n",
      "50398 patches in ROI\n",
      "50398 roi samples\n",
      "50479"
     ]
    },
    {
     "name": "stderr",
     "output_type": "stream",
     "text": [
      "locate patches: 0.03 seconds\n",
      "locate patches: 0.03 seconds\n"
     ]
    },
    {
     "name": "stdout",
     "output_type": "stream",
     "text": [
      " patches in ROI\n",
      "50479 roi samples\n",
      "49932 patches in ROI\n",
      "49932 roi samples\n",
      "49460"
     ]
    },
    {
     "name": "stderr",
     "output_type": "stream",
     "text": [
      "locate patches: 0.03 seconds\n",
      "locate patches: 0.03 seconds\n"
     ]
    },
    {
     "name": "stdout",
     "output_type": "stream",
     "text": [
      " patches in ROI\n",
      "49460 roi samples\n",
      "49704 patches in ROI\n",
      "49704 roi samples\n",
      "50125"
     ]
    },
    {
     "name": "stderr",
     "output_type": "stream",
     "text": [
      "locate patches: 0.03 seconds\n",
      "locate patches: 0.03 seconds\n"
     ]
    },
    {
     "name": "stdout",
     "output_type": "stream",
     "text": [
      " patches in ROI\n",
      "50125 roi samples\n",
      "49993 patches in ROI\n",
      "49993 roi samples\n",
      "50814"
     ]
    },
    {
     "name": "stderr",
     "output_type": "stream",
     "text": [
      "locate patches: 0.03 seconds\n",
      "locate patches: 0.03 seconds\n"
     ]
    },
    {
     "name": "stdout",
     "output_type": "stream",
     "text": [
      " patches in ROI\n",
      "50814 roi samples\n",
      "50124 patches in ROI\n",
      "50124 roi samples\n",
      "50984"
     ]
    },
    {
     "name": "stderr",
     "output_type": "stream",
     "text": [
      "locate patches: 0.03 seconds\n",
      "locate patches: 0.03 seconds\n"
     ]
    },
    {
     "name": "stdout",
     "output_type": "stream",
     "text": [
      " patches in ROI\n",
      "50984 roi samples\n",
      "51089 patches in ROI\n",
      "51089 roi samples\n",
      "50652"
     ]
    },
    {
     "name": "stderr",
     "output_type": "stream",
     "text": [
      "locate patches: 0.03 seconds\n",
      "locate patches: 0.03 seconds\n"
     ]
    },
    {
     "name": "stdout",
     "output_type": "stream",
     "text": [
      " patches in ROI\n",
      "50652 roi samples\n",
      "50670 patches in ROI\n",
      "50670 roi samples\n",
      "51321"
     ]
    },
    {
     "name": "stderr",
     "output_type": "stream",
     "text": [
      "locate patches: 0.03 seconds\n",
      "locate patches: 0.03 seconds\n"
     ]
    },
    {
     "name": "stdout",
     "output_type": "stream",
     "text": [
      " patches in ROI\n",
      "51321 roi samples\n",
      "51042 patches in ROI\n",
      "51042 roi samples\n",
      "51333"
     ]
    },
    {
     "name": "stderr",
     "output_type": "stream",
     "text": [
      "locate patches: 0.05 seconds\n",
      "locate patches: 0.03 seconds\n"
     ]
    },
    {
     "name": "stdout",
     "output_type": "stream",
     "text": [
      " patches in ROI\n",
      "51333 roi samples\n",
      "51255 patches in ROI\n",
      "51255 roi samples\n",
      "51668"
     ]
    },
    {
     "name": "stderr",
     "output_type": "stream",
     "text": [
      "locate patches: 0.03 seconds\n",
      "locate patches: 0.03 seconds\n"
     ]
    },
    {
     "name": "stdout",
     "output_type": "stream",
     "text": [
      " patches in ROI\n",
      "51668 roi samples\n",
      "51746 patches in ROI\n",
      "51746 roi samples\n",
      "52032"
     ]
    },
    {
     "name": "stderr",
     "output_type": "stream",
     "text": [
      "locate patches: 0.05 seconds\n",
      "locate patches: 0.03 seconds\n"
     ]
    },
    {
     "name": "stdout",
     "output_type": "stream",
     "text": [
      " patches in ROI\n",
      "52032 roi samples\n",
      "51807 patches in ROI\n",
      "51807 roi samples\n",
      "51858"
     ]
    },
    {
     "name": "stderr",
     "output_type": "stream",
     "text": [
      "locate patches: 0.03 seconds\n",
      "locate patches: 0.03 seconds\n"
     ]
    },
    {
     "name": "stdout",
     "output_type": "stream",
     "text": [
      " patches in ROI\n",
      "51858 roi samples\n",
      "51994 patches in ROI\n",
      "51994 roi samples\n",
      "51755"
     ]
    },
    {
     "name": "stderr",
     "output_type": "stream",
     "text": [
      "locate patches: 0.03 seconds\n",
      "locate patches: 0.03 seconds\n"
     ]
    },
    {
     "name": "stdout",
     "output_type": "stream",
     "text": [
      " patches in ROI\n",
      "51755 roi samples\n",
      "51953 patches in ROI\n",
      "51953 roi samples\n",
      "52120"
     ]
    },
    {
     "name": "stderr",
     "output_type": "stream",
     "text": [
      "locate patches: 0.03 seconds\n",
      "locate patches: 0.03 seconds\n"
     ]
    },
    {
     "name": "stdout",
     "output_type": "stream",
     "text": [
      " patches in ROI\n",
      "52120 roi samples\n",
      "51971 patches in ROI\n",
      "51971 roi samples\n",
      "52484"
     ]
    },
    {
     "name": "stderr",
     "output_type": "stream",
     "text": [
      "locate patches: 0.03 seconds\n",
      "locate patches: 0.03 seconds\n"
     ]
    },
    {
     "name": "stdout",
     "output_type": "stream",
     "text": [
      " patches in ROI\n",
      "52484 roi samples\n",
      "52580 patches in ROI\n",
      "52580 roi samples\n",
      "52495"
     ]
    },
    {
     "name": "stderr",
     "output_type": "stream",
     "text": [
      "locate patches: 0.03 seconds\n",
      "locate patches: 0.03 seconds\n"
     ]
    },
    {
     "name": "stdout",
     "output_type": "stream",
     "text": [
      " patches in ROI\n",
      "52495 roi samples\n",
      "52664 patches in ROI\n",
      "52664 roi samples\n",
      "51401"
     ]
    },
    {
     "name": "stderr",
     "output_type": "stream",
     "text": [
      "locate patches: 0.03 seconds\n",
      "locate patches: 0.03 seconds\n"
     ]
    },
    {
     "name": "stdout",
     "output_type": "stream",
     "text": [
      " patches in ROI\n",
      "51401 roi samples\n",
      "49770 patches in ROI\n",
      "49770 roi samples\n",
      "52729"
     ]
    },
    {
     "name": "stderr",
     "output_type": "stream",
     "text": [
      "locate patches: 0.03 seconds\n",
      "locate patches: 0.03 seconds\n"
     ]
    },
    {
     "name": "stdout",
     "output_type": "stream",
     "text": [
      " patches in ROI\n",
      "52729 roi samples\n",
      "52551 patches in ROI\n",
      "52551 roi samples\n",
      "52434"
     ]
    },
    {
     "name": "stderr",
     "output_type": "stream",
     "text": [
      "locate patches: 0.03 seconds\n",
      "locate patches: 0.03 seconds\n"
     ]
    },
    {
     "name": "stdout",
     "output_type": "stream",
     "text": [
      " patches in ROI\n",
      "52434 roi samples\n",
      "51512 patches in ROI\n",
      "51512 roi samples\n",
      "52846"
     ]
    },
    {
     "name": "stderr",
     "output_type": "stream",
     "text": [
      "locate patches: 0.03 seconds\n",
      "locate patches: 0.03 seconds\n"
     ]
    },
    {
     "name": "stdout",
     "output_type": "stream",
     "text": [
      " patches in ROI\n",
      "52846 roi samples\n",
      "52735 patches in ROI\n",
      "52735 roi samples\n",
      "53303"
     ]
    },
    {
     "name": "stderr",
     "output_type": "stream",
     "text": [
      "locate patches: 0.03 seconds\n",
      "locate patches: 0.03 seconds\n"
     ]
    },
    {
     "name": "stdout",
     "output_type": "stream",
     "text": [
      " patches in ROI\n",
      "53303 roi samples\n",
      "53048 patches in ROI\n",
      "53048 roi samples\n",
      "52934"
     ]
    },
    {
     "name": "stderr",
     "output_type": "stream",
     "text": [
      "locate patches: 0.03 seconds\n",
      "locate patches: 0.03 seconds\n"
     ]
    },
    {
     "name": "stdout",
     "output_type": "stream",
     "text": [
      " patches in ROI\n",
      "52934 roi samples\n",
      "52814 patches in ROI\n",
      "52814 roi samples\n",
      "52675"
     ]
    },
    {
     "name": "stderr",
     "output_type": "stream",
     "text": [
      "locate patches: 0.03 seconds\n",
      "locate patches: 0.03 seconds\n"
     ]
    },
    {
     "name": "stdout",
     "output_type": "stream",
     "text": [
      " patches in ROI\n",
      "52675 roi samples\n",
      "53099 patches in ROI\n",
      "53099 roi samples\n",
      "52408"
     ]
    },
    {
     "name": "stderr",
     "output_type": "stream",
     "text": [
      "locate patches: 0.03 seconds\n",
      "locate patches: 0.03 seconds\n"
     ]
    },
    {
     "name": "stdout",
     "output_type": "stream",
     "text": [
      " patches in ROI\n",
      "52408 roi samples\n",
      "52594 patches in ROI\n",
      "52594 roi samples\n",
      "52223"
     ]
    },
    {
     "name": "stderr",
     "output_type": "stream",
     "text": [
      "locate patches: 0.03 seconds\n",
      "locate patches: 0.03 seconds\n"
     ]
    },
    {
     "name": "stdout",
     "output_type": "stream",
     "text": [
      " patches in ROI\n",
      "52223 roi samples\n",
      "52128 patches in ROI\n",
      "52128 roi samples\n",
      "51807"
     ]
    },
    {
     "name": "stderr",
     "output_type": "stream",
     "text": [
      "locate patches: 0.03 seconds\n",
      "locate patches: 0.03 seconds\n"
     ]
    },
    {
     "name": "stdout",
     "output_type": "stream",
     "text": [
      " patches in ROI\n",
      "51807 roi samples\n",
      "51527 patches in ROI\n",
      "51527 roi samples\n",
      "49502"
     ]
    },
    {
     "name": "stderr",
     "output_type": "stream",
     "text": [
      "locate patches: 0.03 seconds\n",
      "locate patches: 0.03 seconds\n"
     ]
    },
    {
     "name": "stdout",
     "output_type": "stream",
     "text": [
      " patches in ROI\n",
      "49502 roi samples\n",
      "51515 patches in ROI\n",
      "51515 roi samples\n",
      "51535"
     ]
    },
    {
     "name": "stderr",
     "output_type": "stream",
     "text": [
      "locate patches: 0.03 seconds\n",
      "locate patches: 0.03 seconds\n"
     ]
    },
    {
     "name": "stdout",
     "output_type": "stream",
     "text": [
      " patches in ROI\n",
      "51535 roi samples\n",
      "46891 patches in ROI\n",
      "46891 roi samples\n",
      "51396"
     ]
    },
    {
     "name": "stderr",
     "output_type": "stream",
     "text": [
      "locate patches: 0.03 seconds\n",
      "locate patches: 0.03 seconds\n"
     ]
    },
    {
     "name": "stdout",
     "output_type": "stream",
     "text": [
      " patches in ROI\n",
      "51396 roi samples\n",
      "51495 patches in ROI\n",
      "51495 roi samples\n",
      "51345"
     ]
    },
    {
     "name": "stderr",
     "output_type": "stream",
     "text": [
      "locate patches: 0.03 seconds\n",
      "locate patches: 0.03 seconds\n"
     ]
    },
    {
     "name": "stdout",
     "output_type": "stream",
     "text": [
      " patches in ROI\n",
      "51345 roi samples\n",
      "50069 patches in ROI\n",
      "50069 roi samples\n",
      "49627"
     ]
    },
    {
     "name": "stderr",
     "output_type": "stream",
     "text": [
      "locate patches: 0.03 seconds\n",
      "locate patches: 0.03 seconds\n"
     ]
    },
    {
     "name": "stdout",
     "output_type": "stream",
     "text": [
      " patches in ROI\n",
      "49627 roi samples\n",
      "50213 patches in ROI\n",
      "50213 roi samples\n",
      "49946"
     ]
    },
    {
     "name": "stderr",
     "output_type": "stream",
     "text": [
      "locate patches: 0.03 seconds\n",
      "locate patches: 0.03 seconds\n"
     ]
    },
    {
     "name": "stdout",
     "output_type": "stream",
     "text": [
      " patches in ROI\n",
      "49946 roi samples\n",
      "49544 patches in ROI\n",
      "49544 roi samples\n",
      "50053"
     ]
    },
    {
     "name": "stderr",
     "output_type": "stream",
     "text": [
      "locate patches: 0.03 seconds\n",
      "locate patches: 0.03 seconds\n"
     ]
    },
    {
     "name": "stdout",
     "output_type": "stream",
     "text": [
      " patches in ROI\n",
      "50053 roi samples\n",
      "49272 patches in ROI\n",
      "49272 roi samples\n",
      "49154"
     ]
    },
    {
     "name": "stderr",
     "output_type": "stream",
     "text": [
      "locate patches: 0.03 seconds\n",
      "locate patches: 0.03 seconds\n"
     ]
    },
    {
     "name": "stdout",
     "output_type": "stream",
     "text": [
      " patches in ROI\n",
      "49154 roi samples\n",
      "48882 patches in ROI\n",
      "48882 roi samples\n",
      "48176"
     ]
    },
    {
     "name": "stderr",
     "output_type": "stream",
     "text": [
      "locate patches: 0.03 seconds\n",
      "locate patches: 0.03 seconds\n"
     ]
    },
    {
     "name": "stdout",
     "output_type": "stream",
     "text": [
      " patches in ROI\n",
      "48176 roi samples\n",
      "49624 patches in ROI\n",
      "49624 roi samples\n",
      "48440"
     ]
    },
    {
     "name": "stderr",
     "output_type": "stream",
     "text": [
      "locate patches: 0.03 seconds\n",
      "locate patches: 0.03 seconds\n"
     ]
    },
    {
     "name": "stdout",
     "output_type": "stream",
     "text": [
      " patches in ROI\n",
      "48440 roi samples\n",
      "48674 patches in ROI\n",
      "48674 roi samples\n",
      "47936"
     ]
    },
    {
     "name": "stderr",
     "output_type": "stream",
     "text": [
      "locate patches: 0.03 seconds\n",
      "locate patches: 0.03 seconds\n"
     ]
    },
    {
     "name": "stdout",
     "output_type": "stream",
     "text": [
      " patches in ROI\n",
      "47936 roi samples\n",
      "47045 patches in ROI\n",
      "47045 roi samples\n",
      "47484"
     ]
    },
    {
     "name": "stderr",
     "output_type": "stream",
     "text": [
      "locate patches: 0.03 seconds\n",
      "locate patches: 0.03 seconds\n"
     ]
    },
    {
     "name": "stdout",
     "output_type": "stream",
     "text": [
      " patches in ROI\n",
      "47484 roi samples\n",
      "47256 patches in ROI\n",
      "47256 roi samples\n",
      "46950"
     ]
    },
    {
     "name": "stderr",
     "output_type": "stream",
     "text": [
      "locate patches: 0.03 seconds\n",
      "locate patches: 0.03 seconds\n"
     ]
    },
    {
     "name": "stdout",
     "output_type": "stream",
     "text": [
      " patches in ROI\n",
      "46950 roi samples\n",
      "47088 patches in ROI\n",
      "47088 roi samples\n",
      "46773"
     ]
    },
    {
     "name": "stderr",
     "output_type": "stream",
     "text": [
      "locate patches: 0.03 seconds\n",
      "locate patches: 0.03 seconds\n"
     ]
    },
    {
     "name": "stdout",
     "output_type": "stream",
     "text": [
      " patches in ROI\n",
      "46773 roi samples\n",
      "46227 patches in ROI\n",
      "46227 roi samples\n",
      "46440"
     ]
    },
    {
     "name": "stderr",
     "output_type": "stream",
     "text": [
      "locate patches: 0.03 seconds\n",
      "locate patches: 0.03 seconds\n"
     ]
    },
    {
     "name": "stdout",
     "output_type": "stream",
     "text": [
      " patches in ROI\n",
      "46440 roi samples\n",
      "46256 patches in ROI\n",
      "46256 roi samples\n",
      "45804"
     ]
    },
    {
     "name": "stderr",
     "output_type": "stream",
     "text": [
      "locate patches: 0.03 seconds\n",
      "locate patches: 0.03 seconds\n"
     ]
    },
    {
     "name": "stdout",
     "output_type": "stream",
     "text": [
      " patches in ROI\n",
      "45804 roi samples\n",
      "45736 patches in ROI\n",
      "45736 roi samples\n",
      "45907"
     ]
    },
    {
     "name": "stderr",
     "output_type": "stream",
     "text": [
      "locate patches: 0.03 seconds\n",
      "locate patches: 0.03 seconds\n"
     ]
    },
    {
     "name": "stdout",
     "output_type": "stream",
     "text": [
      " patches in ROI\n",
      "45907 roi samples\n",
      "45607 patches in ROI\n",
      "45607 roi samples\n",
      "45203"
     ]
    },
    {
     "name": "stderr",
     "output_type": "stream",
     "text": [
      "locate patches: 0.03 seconds\n",
      "locate patches: 0.03 seconds\n"
     ]
    },
    {
     "name": "stdout",
     "output_type": "stream",
     "text": [
      " patches in ROI\n",
      "45203 roi samples\n",
      "45024 patches in ROI\n",
      "45024 roi samples\n",
      "45026"
     ]
    },
    {
     "name": "stderr",
     "output_type": "stream",
     "text": [
      "locate patches: 0.03 seconds\n",
      "locate patches: 0.03 seconds\n"
     ]
    },
    {
     "name": "stdout",
     "output_type": "stream",
     "text": [
      " patches in ROI\n",
      "45026 roi samples\n",
      "44726 patches in ROI\n",
      "44726 roi samples\n",
      "44160"
     ]
    },
    {
     "name": "stderr",
     "output_type": "stream",
     "text": [
      "locate patches: 0.03 seconds\n",
      "locate patches: 0.03 seconds\n"
     ]
    },
    {
     "name": "stdout",
     "output_type": "stream",
     "text": [
      " patches in ROI\n",
      "44160 roi samples\n",
      "43921 patches in ROI\n",
      "43921 roi samples\n",
      "43567"
     ]
    },
    {
     "name": "stderr",
     "output_type": "stream",
     "text": [
      "locate patches: 0.03 seconds\n",
      "locate patches: 0.03 seconds\n"
     ]
    },
    {
     "name": "stdout",
     "output_type": "stream",
     "text": [
      " patches in ROI\n",
      "43567 roi samples\n",
      "43061 patches in ROI\n",
      "43061 roi samples\n",
      "42651"
     ]
    },
    {
     "name": "stderr",
     "output_type": "stream",
     "text": [
      "locate patches: 0.03 seconds\n",
      "locate patches: 0.03 seconds\n"
     ]
    },
    {
     "name": "stdout",
     "output_type": "stream",
     "text": [
      " patches in ROI\n",
      "42651 roi samples\n",
      "41986 patches in ROI\n",
      "41986 roi samples\n",
      "41154"
     ]
    },
    {
     "name": "stderr",
     "output_type": "stream",
     "text": [
      "locate patches: 0.03 seconds\n",
      "locate patches: 0.03 seconds\n"
     ]
    },
    {
     "name": "stdout",
     "output_type": "stream",
     "text": [
      " patches in ROI\n",
      "41154 roi samples\n",
      "41506 patches in ROI\n",
      "41506 roi samples\n",
      "40806"
     ]
    },
    {
     "name": "stderr",
     "output_type": "stream",
     "text": [
      "locate patches: 0.03 seconds\n",
      "locate patches: 0.03 seconds\n"
     ]
    },
    {
     "name": "stdout",
     "output_type": "stream",
     "text": [
      " patches in ROI\n",
      "40806 roi samples\n",
      "37958 patches in ROI\n",
      "37958 roi samples\n",
      "40086"
     ]
    },
    {
     "name": "stderr",
     "output_type": "stream",
     "text": [
      "locate patches: 0.03 seconds\n",
      "locate patches: 0.03 seconds\n"
     ]
    },
    {
     "name": "stdout",
     "output_type": "stream",
     "text": [
      " patches in ROI\n",
      "40086 roi samples\n",
      "39960 patches in ROI\n",
      "39960 roi samples\n",
      "39357"
     ]
    },
    {
     "name": "stderr",
     "output_type": "stream",
     "text": [
      "locate patches: 0.03 seconds\n",
      "locate patches: 0.03 seconds\n"
     ]
    },
    {
     "name": "stdout",
     "output_type": "stream",
     "text": [
      " patches in ROI\n",
      "39357 roi samples\n",
      "39128 patches in ROI\n",
      "39128 roi samples\n",
      "38754"
     ]
    },
    {
     "name": "stderr",
     "output_type": "stream",
     "text": [
      "locate patches: 0.03 seconds\n",
      "locate patches: 0.03 seconds\n"
     ]
    },
    {
     "name": "stdout",
     "output_type": "stream",
     "text": [
      " patches in ROI\n",
      "38754 roi samples\n",
      "37983 patches in ROI\n",
      "37983 roi samples\n",
      "34863"
     ]
    },
    {
     "name": "stderr",
     "output_type": "stream",
     "text": [
      "locate patches: 0.03 seconds\n",
      "locate patches: 0.03 seconds\n"
     ]
    },
    {
     "name": "stdout",
     "output_type": "stream",
     "text": [
      " patches in ROI\n",
      "34863 roi samples\n",
      "37749 patches in ROI\n",
      "37749 roi samples\n",
      "37629"
     ]
    },
    {
     "name": "stderr",
     "output_type": "stream",
     "text": [
      "locate patches: 0.03 seconds\n",
      "locate patches: 0.03 seconds\n"
     ]
    },
    {
     "name": "stdout",
     "output_type": "stream",
     "text": [
      " patches in ROI\n",
      "37629 roi samples\n",
      "37448 patches in ROI\n",
      "37448 roi samples\n",
      "37469"
     ]
    },
    {
     "name": "stderr",
     "output_type": "stream",
     "text": [
      "locate patches: 0.03 seconds\n",
      "locate patches: 0.03 seconds\n"
     ]
    },
    {
     "name": "stdout",
     "output_type": "stream",
     "text": [
      " patches in ROI\n",
      "37469 roi samples\n",
      "35984 patches in ROI\n",
      "35984 roi samples\n",
      "35811"
     ]
    },
    {
     "name": "stderr",
     "output_type": "stream",
     "text": [
      "locate patches: 0.03 seconds\n",
      "locate patches: 0.03 seconds\n"
     ]
    },
    {
     "name": "stdout",
     "output_type": "stream",
     "text": [
      " patches in ROI\n",
      "35811 roi samples\n",
      "35643 patches in ROI\n",
      "35643 roi samples\n",
      "35911"
     ]
    },
    {
     "name": "stderr",
     "output_type": "stream",
     "text": [
      "locate patches: 0.03 seconds\n",
      "locate patches: 0.03 seconds\n"
     ]
    },
    {
     "name": "stdout",
     "output_type": "stream",
     "text": [
      " patches in ROI\n",
      "35911 roi samples\n",
      "35534 patches in ROI\n",
      "35534 roi samples\n",
      "35705"
     ]
    },
    {
     "name": "stderr",
     "output_type": "stream",
     "text": [
      "locate patches: 0.03 seconds\n",
      "locate patches: 0.03 seconds\n"
     ]
    },
    {
     "name": "stdout",
     "output_type": "stream",
     "text": [
      " patches in ROI\n",
      "35705 roi samples\n",
      "35311 patches in ROI\n",
      "35311 roi samples\n",
      "35479"
     ]
    },
    {
     "name": "stderr",
     "output_type": "stream",
     "text": [
      "locate patches: 0.03 seconds\n",
      "locate patches: 0.03 seconds\n"
     ]
    },
    {
     "name": "stdout",
     "output_type": "stream",
     "text": [
      " patches in ROI\n",
      "35479 roi samples\n",
      "35555 patches in ROI\n",
      "35555 roi samples\n",
      "35497"
     ]
    },
    {
     "name": "stderr",
     "output_type": "stream",
     "text": [
      "locate patches: 0.03 seconds\n",
      "locate patches: 0.03 seconds\n"
     ]
    },
    {
     "name": "stdout",
     "output_type": "stream",
     "text": [
      " patches in ROI\n",
      "35497 roi samples\n",
      "35304 patches in ROI\n",
      "35304 roi samples\n",
      "35329"
     ]
    },
    {
     "name": "stderr",
     "output_type": "stream",
     "text": [
      "locate patches: 0.03 seconds\n",
      "locate patches: 0.03 seconds\n"
     ]
    },
    {
     "name": "stdout",
     "output_type": "stream",
     "text": [
      " patches in ROI\n",
      "35329 roi samples\n",
      "35123 patches in ROI\n",
      "35123 roi samples\n",
      "34742"
     ]
    },
    {
     "name": "stderr",
     "output_type": "stream",
     "text": [
      "locate patches: 0.03 seconds\n",
      "locate patches: 0.03 seconds\n"
     ]
    },
    {
     "name": "stdout",
     "output_type": "stream",
     "text": [
      " patches in ROI\n",
      "34742 roi samples\n",
      "34830 patches in ROI\n",
      "34830 roi samples\n",
      "34946"
     ]
    },
    {
     "name": "stderr",
     "output_type": "stream",
     "text": [
      "locate patches: 0.03 seconds\n",
      "locate patches: 0.03 seconds\n"
     ]
    },
    {
     "name": "stdout",
     "output_type": "stream",
     "text": [
      " patches in ROI\n",
      "34946 roi samples\n",
      "34713 patches in ROI\n",
      "34713 roi samples\n",
      "34375"
     ]
    },
    {
     "name": "stderr",
     "output_type": "stream",
     "text": [
      "locate patches: 0.03 seconds\n",
      "locate patches: 0.03 seconds\n"
     ]
    },
    {
     "name": "stdout",
     "output_type": "stream",
     "text": [
      " patches in ROI\n",
      "34375 roi samples\n",
      "34433 patches in ROI\n",
      "34433 roi samples\n",
      "34487"
     ]
    },
    {
     "name": "stderr",
     "output_type": "stream",
     "text": [
      "locate patches: 0.03 seconds\n",
      "locate patches: 0.03 seconds\n"
     ]
    },
    {
     "name": "stdout",
     "output_type": "stream",
     "text": [
      " patches in ROI\n",
      "34487 roi samples\n",
      "34169 patches in ROI\n",
      "34169 roi samples\n"
     ]
    },
    {
     "name": "stderr",
     "output_type": "stream",
     "text": [
      "locate patches: 0.03 seconds\n"
     ]
    }
   ],
   "source": [
    "for stack in all_stacks:\n",
    "# for stack in ['MD591']:\n",
    "\n",
    "    output_dir = create_if_not_exists(os.path.join(patch_indices_rootdir, stack))\n",
    "\n",
    "    print stack\n",
    "\n",
    "    image_width, image_height = DataManager.get_image_dimension(stack)\n",
    "    grid_spec = (patch_size, stride, image_width, image_height)\n",
    "\n",
    "    sample_locations = grid_parameters_to_sample_locations(grid_spec=grid_spec)\n",
    "\n",
    "    first_detect_sec, last_detect_sec = section_range_lookup[stack]\n",
    "\n",
    "    for sec in range(first_detect_sec, last_detect_sec+1):\n",
    "\n",
    "        mask_tb = DataManager.load_thumbnail_mask(stack=stack, section=sec, cerebellum_removed=True)\n",
    "\n",
    "        t = time.time()\n",
    "        indices_roi = locate_patches(grid_spec=grid_spec, mask_tb=mask_tb, bbox=(0,0, image_width, image_height))\n",
    "        sys.stderr.write('locate patches: %.2f seconds\\n' % (time.time() - t))\n",
    "\n",
    "        n = len(indices_roi)\n",
    "        print n, 'roi samples'\n",
    "\n",
    "        sample_locations_roi = sample_locations[indices_roi]\n",
    "\n",
    "        output_fn = os.path.join(output_dir, '%(stack)s_%(sec)04d_roi1_indices_locations.txt' % {'stack': stack, 'sec': sec})\n",
    "        np.savetxt(output_fn, np.c_[indices_roi, sample_locations_roi], fmt='%d %d %d')"
   ]
  },
  {
   "cell_type": "code",
   "execution_count": null,
   "metadata": {
    "collapsed": true
   },
   "outputs": [],
   "source": []
  }
 ],
 "metadata": {
  "kernelspec": {
   "display_name": "Python 2",
   "language": "python",
   "name": "python2"
  },
  "language_info": {
   "codemirror_mode": {
    "name": "ipython",
    "version": 2
   },
   "file_extension": ".py",
   "mimetype": "text/x-python",
   "name": "python",
   "nbconvert_exporter": "python",
   "pygments_lexer": "ipython2",
   "version": "2.7.6"
  }
 },
 "nbformat": 4,
 "nbformat_minor": 0
}
