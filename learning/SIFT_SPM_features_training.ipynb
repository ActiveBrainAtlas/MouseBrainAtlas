{
 "cells": [
  {
   "cell_type": "code",
   "execution_count": 9,
   "metadata": {
    "collapsed": false
   },
   "outputs": [
    {
     "name": "stdout",
     "output_type": "stream",
     "text": [
      "Setting environment for Gordon\n"
     ]
    },
    {
     "name": "stderr",
     "output_type": "stream",
     "text": [
      "[autoreload of utilities2015 failed: Traceback (most recent call last):\n",
      "  File \"/oasis/projects/nsf/csd181/yuncong/virtualenv-1.9.1/yuncongve/lib/python2.7/site-packages/IPython/extensions/autoreload.py\", line 247, in check\n",
      "    superreload(m, reload, self.old_objects)\n",
      "AttributeError: __abstractmethods__\n",
      "]\n"
     ]
    }
   ],
   "source": [
    "%reload_ext autoreload\n",
    "%autoreload 2\n",
    "\n",
    "import os\n",
    "import sys\n",
    "import time\n",
    "import cv2\n",
    "\n",
    "from joblib import Parallel, delayed\n",
    "\n",
    "sys.path.append(os.path.join(os.environ['REPO_DIR'], 'utilities'))\n",
    "from utilities2015 import *\n",
    "\n",
    "from matplotlib.path import Path\n",
    "%matplotlib inline\n",
    "\n",
    "from sklearn.cluster import KMeans\n",
    "from sklearn.externals import joblib\n",
    "\n",
    "import random\n",
    "from collections import defaultdict\n",
    "\n",
    "import pandas as pd"
   ]
  },
  {
   "cell_type": "code",
   "execution_count": 3,
   "metadata": {
    "collapsed": true
   },
   "outputs": [],
   "source": [
    "train_patches_jpg_dir = '/oasis/projects/nsf/csd395/yuncong/CSHL_spm_trainPatches'"
   ]
  },
  {
   "cell_type": "code",
   "execution_count": 4,
   "metadata": {
    "collapsed": true
   },
   "outputs": [],
   "source": [
    "labels = ['BackG', '5N', '7n', '7N', '12N', 'Pn', 'VLL', \n",
    "          '6N', 'Amb', 'R', 'Tz', 'RtTg', 'LRt', 'LC', 'AP', 'sp5']\n",
    "\n",
    "n_labels = len(labels)\n",
    "\n",
    "labels_index = dict((j, i) for i, j in enumerate(labels))\n",
    "\n",
    "labels_from_surround = dict( (l+'_surround', l) for l in labels[1:])\n",
    "\n",
    "labels_surroundIncluded_list = labels[1:] + [l+'_surround' for l in labels[1:]]\n",
    "labels_surroundIncluded = set(labels_surroundIncluded_list)\n",
    "\n",
    "labels_surroundIncluded_index = dict((j, i) for i, j in enumerate(labels_surroundIncluded_list))\n",
    "\n",
    "# colors = np.random.randint(0, 255, (len(labels_index), 3))\n",
    "colors = np.loadtxt(os.environ['REPO_DIR'] + '/visualization/100colors.txt')\n",
    "colors[labels_index['BackG']] = 1."
   ]
  },
  {
   "cell_type": "code",
   "execution_count": 5,
   "metadata": {
    "collapsed": true
   },
   "outputs": [],
   "source": [
    "output_dir = '/oasis/projects/nsf/csd395/yuncong/Brain/learning/sift'\n",
    "M = 200 # vocabulary size\n",
    "colors = np.vstack([(0,0,0), np.random.randint(0, 255, (M, 3))])"
   ]
  },
  {
   "cell_type": "code",
   "execution_count": 7,
   "metadata": {
    "collapsed": false
   },
   "outputs": [],
   "source": [
    "def compute_vocabulary():\n",
    "    '''\n",
    "    Load vocabulary (as a sklearn.KMeans object)\n",
    "    '''\n",
    "\n",
    "    if os.path.exists(output_dir + '/vocab.pkl'):\n",
    "\n",
    "        # Load vocabulary\n",
    "        vocabulary = joblib.load(output_dir + '/vocab.pkl')\n",
    "\n",
    "    else:\n",
    "\n",
    "        if os.path.exists(output_dir + '/sift_descriptors_pool_arr.bp'):\n",
    "\n",
    "            # Load descriptor pool\n",
    "            descriptors_pool_arr = bp.unpack_ndarray_file(output_dir + '/sift_descriptors_pool_arr.bp')\n",
    "\n",
    "            t = time.time()\n",
    "\n",
    "            vocabulary = KMeans(init='random', n_clusters=M, n_init=10)\n",
    "            vocabulary.fit(descriptors_pool_arr)\n",
    "\n",
    "            sys.stderr.write('sift: %.2f seconds\\n' % (time.time() - t)) # 300 seconds\n",
    "\n",
    "            cluster_centers = vocabulary.cluster_centers_\n",
    "\n",
    "            joblib.dump(vocabulary, output_dir + '/vocab.pkl')\n",
    "\n",
    "        else:\n",
    "\n",
    "            # Generate SIFT descriptor pool\n",
    "            descriptors_pool = []\n",
    "\n",
    "            sift = cv2.SIFT();\n",
    "\n",
    "            dm = DataManager(stack='MD589')\n",
    "\n",
    "            for sec in range(first_detect_sec, last_detect_sec+1, 10):\n",
    "\n",
    "                print sec\n",
    "\n",
    "                xmin, ymin, w, h = detect_bbox_lookup['MD589'] # in thumbnail resolution\n",
    "                # convert to lossless resolution\n",
    "                xmin = xmin * 32\n",
    "                ymin = ymin * 32\n",
    "                w = w * 32\n",
    "                h = h * 32\n",
    "                xmax = xmin + w - 1\n",
    "                ymax = ymin + h - 1\n",
    "\n",
    "                dm.set_slice(sec)\n",
    "                dm._load_image(versions=['rgb-jpg'])\n",
    "                img = dm.image_rgb_jpg[ymin:ymax+1, xmin:xmax+1]\n",
    "\n",
    "                keypoints, descriptors = sift.detectAndCompute(img, None)\n",
    "\n",
    "                n = 1000\n",
    "                random_indices = np.random.choice(range(len(descriptors)), n, replace=False)\n",
    "\n",
    "                descriptors_pool.append(descriptors[random_indices])\n",
    "\n",
    "            descriptors_pool_arr = np.vstack(descriptors_pool)\n",
    "            print len(descriptors_pool_arr), 'in descriptor pool'\n",
    "\n",
    "            bp.pack_ndarray_file(descriptors_pool_arr, output_dir + '/sift_descriptors_pool_arr.bp')\n",
    "            \n",
    "    return vocabulary\n",
    "\n",
    "\n",
    "def conmpute_labelmap(stack, sec):\n",
    "    \n",
    "    labelmap_fp = output_dir + '/%(stack)s/%(stack)s_%(sec)04d_labelmap.hdf' % {'stack': stack, 'sec': sec}\n",
    "    \n",
    "    if os.path.exists(labelmap_fp):\n",
    "        \n",
    "        # Load labelmap\n",
    "        labelmap = load_hdf(labelmap_fp)\n",
    "    else:\n",
    "        \n",
    "        sift = cv2.SIFT()\n",
    "        \n",
    "        # Compute keypoints and assign labels\n",
    "        \n",
    "        image_path = DataManager.get_image_filepath(stack=stack, section=sec, version='rgb-jpg')\n",
    "        image = imread(image_path)\n",
    "        \n",
    "        xmin, ymin, w, h = detect_bbox_lookup[stack] # in thumbnail resolution\n",
    "        # convert to lossless resolution\n",
    "        xmin = xmin * 32\n",
    "        ymin = ymin * 32\n",
    "        w = w * 32\n",
    "        h = h * 32\n",
    "        xmax = xmin + w - 1\n",
    "        ymax = ymin + h - 1\n",
    "        \n",
    "        img = image[ymin:ymax+1, xmin:xmax+1].copy()\n",
    "        \n",
    "        t = time.time()\n",
    "        keypoints, descriptors = sift.detectAndCompute(img, None); # 128 dim descriptor ～ 120 seconds\n",
    "        sys.stderr.write('sift: %.2f seconds\\n' % (time.time() - t)) \n",
    "\n",
    "        keypoints_arr = np.array([k.pt for k in keypoints])\n",
    "        print len(keypoints), 'keypoints' # ~ 500k\n",
    "\n",
    "        t = time.time()\n",
    "        vocabulary = compute_vocabulary()\n",
    "        sys.stderr.write('compute vocab: %.2f seconds\\n' % (time.time() - t))  # ~ 20 s\n",
    "        \n",
    "        t = time.time()\n",
    "        keypoint_labels = vocabulary.predict(descriptors)\n",
    "        sys.stderr.write('predict: %.2f seconds\\n' % (time.time() - t))  # ~ 20 s\n",
    "\n",
    "        # visualize keypoints (color indicating label)\n",
    "\n",
    "        # viz = img.copy()\n",
    "        # for (x, y), l in zip(keypoints_arr, keypoint_labels):\n",
    "        #     cv2.circle(viz, (int(x), int(y)), 3, colors[l], -1)\n",
    "        # display_image(viz)\n",
    "\n",
    "        # generate labelmap\n",
    "\n",
    "        labelmap = np.zeros(image.shape[:2], np.int)\n",
    "        keypoints_arr_int = np.floor(keypoints_arr + (xmin, ymin)).astype(np.int)  # coords on original image\n",
    "        labelmap[keypoints_arr_int[:,1], keypoints_arr_int[:,0]] = keypoint_labels + 1\n",
    "\n",
    "        create_if_not_exists(output_dir + '/' + stack)\n",
    "        save_hdf(labelmap, labelmap_fp)\n",
    "    \n",
    "    return labelmap"
   ]
  },
  {
   "cell_type": "code",
   "execution_count": 12,
   "metadata": {
    "collapsed": false
   },
   "outputs": [
    {
     "name": "stdout",
     "output_type": "stream",
     "text": [
      "(20, 16, 200)\n",
      "(20, 4, 200)\n",
      "(20, 200)\n"
     ]
    },
    {
     "name": "stderr",
     "output_type": "stream",
     "text": [
      "done in 14.975886 seconds\n"
     ]
    },
    {
     "name": "stdout",
     "output_type": "stream",
     "text": [
      "(20, 16, 200)\n",
      "(20, 4, 200)\n",
      "(20, 200)\n"
     ]
    },
    {
     "name": "stderr",
     "output_type": "stream",
     "text": [
      "done in 15.108951 seconds\n"
     ]
    },
    {
     "name": "stdout",
     "output_type": "stream",
     "text": [
      "(20, 16, 200)\n",
      "(20, 4, 200)\n",
      "(20, 200)\n"
     ]
    },
    {
     "name": "stderr",
     "output_type": "stream",
     "text": [
      "done in 15.397161 seconds\n"
     ]
    },
    {
     "name": "stdout",
     "output_type": "stream",
     "text": [
      "(20, 16, 200)\n",
      "(20, 4, 200)\n",
      "(20, 200)\n"
     ]
    },
    {
     "name": "stderr",
     "output_type": "stream",
     "text": [
      "done in 14.279118 seconds\n"
     ]
    },
    {
     "name": "stdout",
     "output_type": "stream",
     "text": [
      "(20, 16, 200)\n",
      "(20, 4, 200)\n",
      "(20, 200)\n"
     ]
    },
    {
     "name": "stderr",
     "output_type": "stream",
     "text": [
      "done in 15.210511 seconds\n"
     ]
    },
    {
     "name": "stdout",
     "output_type": "stream",
     "text": [
      "(20, 16, 200)\n",
      "(20, 4, 200)\n",
      "(20, 200)\n"
     ]
    },
    {
     "name": "stderr",
     "output_type": "stream",
     "text": [
      "done in 14.476552 seconds\n"
     ]
    },
    {
     "name": "stdout",
     "output_type": "stream",
     "text": [
      "(20, 16, 200)\n",
      "(20, 4, 200)\n",
      "(20, 200)\n"
     ]
    },
    {
     "name": "stderr",
     "output_type": "stream",
     "text": [
      "done in 16.214870 seconds\n"
     ]
    },
    {
     "name": "stdout",
     "output_type": "stream",
     "text": [
      "(20, 16, 200)\n",
      "(20, 4, 200)\n",
      "(20, 200)\n"
     ]
    },
    {
     "name": "stderr",
     "output_type": "stream",
     "text": [
      "done in 14.816084 seconds\n"
     ]
    },
    {
     "name": "stdout",
     "output_type": "stream",
     "text": [
      "(20, 16, 200)\n",
      "(20, 4, 200)\n",
      "(20, 200)\n"
     ]
    },
    {
     "name": "stderr",
     "output_type": "stream",
     "text": [
      "done in 15.473524 seconds\n"
     ]
    },
    {
     "name": "stdout",
     "output_type": "stream",
     "text": [
      "(20, 16, 200)\n",
      "(20, 4, 200)\n",
      "(20, 200)\n"
     ]
    },
    {
     "name": "stderr",
     "output_type": "stream",
     "text": [
      "done in 15.506707 seconds\n"
     ]
    },
    {
     "name": "stdout",
     "output_type": "stream",
     "text": [
      "(20, 16, 200)\n",
      "(20, 4, 200)\n",
      "(20, 200)\n"
     ]
    },
    {
     "name": "stderr",
     "output_type": "stream",
     "text": [
      "done in 15.680179 seconds\n"
     ]
    },
    {
     "name": "stdout",
     "output_type": "stream",
     "text": [
      "(20, 16, 200)\n",
      "(20, 4, 200)\n",
      "(20, 200)\n"
     ]
    },
    {
     "name": "stderr",
     "output_type": "stream",
     "text": [
      "done in 15.006892 seconds\n"
     ]
    },
    {
     "name": "stdout",
     "output_type": "stream",
     "text": [
      "(20, 16, 200)\n",
      "(20, 4, 200)\n",
      "(20, 200)\n"
     ]
    },
    {
     "name": "stderr",
     "output_type": "stream",
     "text": [
      "done in 15.690653 seconds\n"
     ]
    },
    {
     "name": "stdout",
     "output_type": "stream",
     "text": [
      "(20, 16, 200)\n",
      "(20, 4, 200)\n",
      "(20, 200)\n"
     ]
    },
    {
     "name": "stderr",
     "output_type": "stream",
     "text": [
      "done in 14.802758 seconds\n"
     ]
    },
    {
     "name": "stdout",
     "output_type": "stream",
     "text": [
      "(20, 16, 200)\n",
      "(20, 4, 200)\n",
      "(20, 200)\n"
     ]
    },
    {
     "name": "stderr",
     "output_type": "stream",
     "text": [
      "done in 14.199329 seconds\n"
     ]
    },
    {
     "name": "stdout",
     "output_type": "stream",
     "text": [
      "(20, 16, 200)\n",
      "(20, 4, 200)\n",
      "(20, 200)\n"
     ]
    },
    {
     "name": "stderr",
     "output_type": "stream",
     "text": [
      "done in 14.805725 seconds\n"
     ]
    },
    {
     "name": "stdout",
     "output_type": "stream",
     "text": [
      "(20, 16, 200)\n",
      "(20, 4, 200)\n",
      "(20, 200)\n"
     ]
    },
    {
     "name": "stderr",
     "output_type": "stream",
     "text": [
      "done in 14.466638 seconds\n"
     ]
    },
    {
     "name": "stdout",
     "output_type": "stream",
     "text": [
      "(20, 16, 200)\n",
      "(20, 4, 200)\n",
      "(20, 200)\n"
     ]
    },
    {
     "name": "stderr",
     "output_type": "stream",
     "text": [
      "done in 14.806477 seconds\n"
     ]
    },
    {
     "name": "stdout",
     "output_type": "stream",
     "text": [
      "(20, 16, 200)\n",
      "(20, 4, 200)\n",
      "(20, 200)\n"
     ]
    },
    {
     "name": "stderr",
     "output_type": "stream",
     "text": [
      "done in 14.678845 seconds\n"
     ]
    },
    {
     "name": "stdout",
     "output_type": "stream",
     "text": [
      "(20, 16, 200)\n",
      "(20, 4, 200)\n",
      "(20, 200)\n"
     ]
    },
    {
     "name": "stderr",
     "output_type": "stream",
     "text": [
      "done in 14.768513 seconds\n"
     ]
    },
    {
     "name": "stdout",
     "output_type": "stream",
     "text": [
      "(20, 16, 200)\n",
      "(20, 4, 200)\n",
      "(20, 200)\n"
     ]
    },
    {
     "name": "stderr",
     "output_type": "stream",
     "text": [
      "done in 15.586019 seconds\n"
     ]
    },
    {
     "name": "stdout",
     "output_type": "stream",
     "text": [
      "(20, 16, 200)\n",
      "(20, 4, 200)\n",
      "(20, 200)\n"
     ]
    },
    {
     "name": "stderr",
     "output_type": "stream",
     "text": [
      "done in 15.816561 seconds\n"
     ]
    },
    {
     "name": "stdout",
     "output_type": "stream",
     "text": [
      "(20, 16, 200)\n",
      "(20, 4, 200)\n",
      "(20, 200)\n"
     ]
    },
    {
     "name": "stderr",
     "output_type": "stream",
     "text": [
      "done in 16.188067 seconds\n"
     ]
    },
    {
     "name": "stdout",
     "output_type": "stream",
     "text": [
      "(20, 16, 200)\n",
      "(20, 4, 200)\n",
      "(20, 200)\n"
     ]
    },
    {
     "name": "stderr",
     "output_type": "stream",
     "text": [
      "done in 15.516623 seconds\n"
     ]
    },
    {
     "name": "stdout",
     "output_type": "stream",
     "text": [
      "(20, 16, 200)\n",
      "(20, 4, 200)\n",
      "(20, 200)\n"
     ]
    },
    {
     "name": "stderr",
     "output_type": "stream",
     "text": [
      "done in 14.483734 seconds\n"
     ]
    },
    {
     "name": "stdout",
     "output_type": "stream",
     "text": [
      "(20, 16, 200)\n",
      "(20, 4, 200)\n",
      "(20, 200)\n"
     ]
    },
    {
     "name": "stderr",
     "output_type": "stream",
     "text": [
      "done in 15.915364 seconds\n"
     ]
    },
    {
     "name": "stdout",
     "output_type": "stream",
     "text": [
      "(20, 16, 200)\n",
      "(20, 4, 200)\n",
      "(20, 200)\n"
     ]
    },
    {
     "name": "stderr",
     "output_type": "stream",
     "text": [
      "done in 15.677576 seconds\n"
     ]
    },
    {
     "name": "stdout",
     "output_type": "stream",
     "text": [
      "(20, 16, 200)\n",
      "(20, 4, 200)\n",
      "(20, 200)\n"
     ]
    },
    {
     "name": "stderr",
     "output_type": "stream",
     "text": [
      "done in 16.082880 seconds\n"
     ]
    },
    {
     "name": "stdout",
     "output_type": "stream",
     "text": [
      "(20, 16, 200)\n",
      "(20, 4, 200)\n",
      "(20, 200)\n"
     ]
    },
    {
     "name": "stderr",
     "output_type": "stream",
     "text": [
      "done in 15.217764 seconds\n"
     ]
    },
    {
     "name": "stdout",
     "output_type": "stream",
     "text": [
      "(5, 16, 200)\n",
      "(5, 4, 200)\n",
      "(5, 200)\n"
     ]
    },
    {
     "name": "stderr",
     "output_type": "stream",
     "text": [
      "done in 15.488375 seconds\n"
     ]
    },
    {
     "name": "stdout",
     "output_type": "stream",
     "text": [
      "(20, 16, 200)\n",
      "(20, 4, 200)\n",
      "(20, 200)\n"
     ]
    },
    {
     "name": "stderr",
     "output_type": "stream",
     "text": [
      "done in 15.311919 seconds\n"
     ]
    },
    {
     "name": "stdout",
     "output_type": "stream",
     "text": [
      "(17, 16, 200)\n",
      "(17, 4, 200)\n",
      "(17, 200)\n"
     ]
    },
    {
     "name": "stderr",
     "output_type": "stream",
     "text": [
      "done in 15.993293 seconds\n"
     ]
    },
    {
     "name": "stdout",
     "output_type": "stream",
     "text": [
      "(20, 16, 200)\n",
      "(20, 4, 200)\n",
      "(20, 200)\n"
     ]
    },
    {
     "name": "stderr",
     "output_type": "stream",
     "text": [
      "done in 15.103000 seconds\n"
     ]
    },
    {
     "name": "stdout",
     "output_type": "stream",
     "text": [
      "(20, 16, 200)\n",
      "(20, 4, 200)\n",
      "(20, 200)\n"
     ]
    },
    {
     "name": "stderr",
     "output_type": "stream",
     "text": [
      "done in 15.690499 seconds\n"
     ]
    },
    {
     "name": "stdout",
     "output_type": "stream",
     "text": [
      "(20, 16, 200)\n",
      "(20, 4, 200)\n",
      "(20, 200)\n"
     ]
    },
    {
     "name": "stderr",
     "output_type": "stream",
     "text": [
      "done in 16.016983 seconds\n"
     ]
    },
    {
     "name": "stdout",
     "output_type": "stream",
     "text": [
      "(20, 16, 200)\n",
      "(20, 4, 200)\n",
      "(20, 200)\n"
     ]
    },
    {
     "name": "stderr",
     "output_type": "stream",
     "text": [
      "done in 15.082413 seconds\n"
     ]
    },
    {
     "name": "stdout",
     "output_type": "stream",
     "text": [
      "(20, 16, 200)\n",
      "(20, 4, 200)\n",
      "(20, 200)\n"
     ]
    },
    {
     "name": "stderr",
     "output_type": "stream",
     "text": [
      "done in 14.909420 seconds\n"
     ]
    },
    {
     "name": "stdout",
     "output_type": "stream",
     "text": [
      "(20, 16, 200)\n",
      "(20, 4, 200)\n",
      "(20, 200)\n"
     ]
    },
    {
     "name": "stderr",
     "output_type": "stream",
     "text": [
      "done in 15.378987 seconds\n"
     ]
    },
    {
     "name": "stdout",
     "output_type": "stream",
     "text": [
      "(20, 16, 200)\n",
      "(20, 4, 200)\n",
      "(20, 200)\n"
     ]
    },
    {
     "name": "stderr",
     "output_type": "stream",
     "text": [
      "done in 15.508839 seconds\n"
     ]
    },
    {
     "name": "stdout",
     "output_type": "stream",
     "text": [
      "(20, 16, 200)\n",
      "(20, 4, 200)\n",
      "(20, 200)\n"
     ]
    },
    {
     "name": "stderr",
     "output_type": "stream",
     "text": [
      "done in 14.979240 seconds\n"
     ]
    },
    {
     "name": "stdout",
     "output_type": "stream",
     "text": [
      "(20, 16, 200)\n",
      "(20, 4, 200)\n",
      "(20, 200)\n"
     ]
    },
    {
     "name": "stderr",
     "output_type": "stream",
     "text": [
      "done in 15.581806 seconds\n"
     ]
    },
    {
     "name": "stdout",
     "output_type": "stream",
     "text": [
      "(20, 16, 200)\n",
      "(20, 4, 200)\n",
      "(20, 200)\n"
     ]
    },
    {
     "name": "stderr",
     "output_type": "stream",
     "text": [
      "done in 15.610052 seconds\n"
     ]
    },
    {
     "name": "stdout",
     "output_type": "stream",
     "text": [
      "(20, 16, 200)\n",
      "(20, 4, 200)\n",
      "(20, 200)\n"
     ]
    },
    {
     "name": "stderr",
     "output_type": "stream",
     "text": [
      "done in 15.591920 seconds\n"
     ]
    },
    {
     "name": "stdout",
     "output_type": "stream",
     "text": [
      "(20, 16, 200)\n",
      "(20, 4, 200)\n",
      "(20, 200)\n"
     ]
    },
    {
     "name": "stderr",
     "output_type": "stream",
     "text": [
      "done in 14.903559 seconds\n"
     ]
    },
    {
     "name": "stdout",
     "output_type": "stream",
     "text": [
      "(20, 16, 200)\n",
      "(20, 4, 200)\n",
      "(20, 200)\n"
     ]
    },
    {
     "name": "stderr",
     "output_type": "stream",
     "text": [
      "done in 15.282994 seconds\n"
     ]
    },
    {
     "name": "stdout",
     "output_type": "stream",
     "text": [
      "(20, 16, 200)\n",
      "(20, 4, 200)\n",
      "(20, 200)\n"
     ]
    },
    {
     "name": "stderr",
     "output_type": "stream",
     "text": [
      "done in 14.806866 seconds\n"
     ]
    },
    {
     "name": "stdout",
     "output_type": "stream",
     "text": [
      "(20, 16, 200)\n",
      "(20, 4, 200)\n",
      "(20, 200)\n"
     ]
    },
    {
     "name": "stderr",
     "output_type": "stream",
     "text": [
      "done in 15.578346 seconds\n"
     ]
    },
    {
     "name": "stdout",
     "output_type": "stream",
     "text": [
      "(20, 16, 200)\n",
      "(20, 4, 200)\n",
      "(20, 200)\n"
     ]
    },
    {
     "name": "stderr",
     "output_type": "stream",
     "text": [
      "done in 14.511877 seconds\n"
     ]
    },
    {
     "name": "stdout",
     "output_type": "stream",
     "text": [
      "(20, 16, 200)\n",
      "(20, 4, 200)\n",
      "(20, 200)\n"
     ]
    },
    {
     "name": "stderr",
     "output_type": "stream",
     "text": [
      "done in 16.586462 seconds\n"
     ]
    },
    {
     "name": "stdout",
     "output_type": "stream",
     "text": [
      "(20, 16, 200)\n",
      "(20, 4, 200)\n",
      "(20, 200)\n"
     ]
    },
    {
     "name": "stderr",
     "output_type": "stream",
     "text": [
      "done in 15.178230 seconds\n"
     ]
    },
    {
     "name": "stdout",
     "output_type": "stream",
     "text": [
      "(20, 16, 200)\n",
      "(20, 4, 200)\n",
      "(20, 200)\n"
     ]
    },
    {
     "name": "stderr",
     "output_type": "stream",
     "text": [
      "done in 14.102189 seconds\n"
     ]
    },
    {
     "name": "stdout",
     "output_type": "stream",
     "text": [
      "(20, 16, 200)\n",
      "(20, 4, 200)\n",
      "(20, 200)\n"
     ]
    },
    {
     "name": "stderr",
     "output_type": "stream",
     "text": [
      "done in 14.401652 seconds\n"
     ]
    },
    {
     "name": "stdout",
     "output_type": "stream",
     "text": [
      "(20, 16, 200)\n",
      "(20, 4, 200)\n",
      "(20, 200)\n"
     ]
    },
    {
     "name": "stderr",
     "output_type": "stream",
     "text": [
      "done in 14.160128 seconds\n"
     ]
    },
    {
     "name": "stdout",
     "output_type": "stream",
     "text": [
      "(20, 16, 200)\n",
      "(20, 4, 200)\n",
      "(20, 200)\n"
     ]
    },
    {
     "name": "stderr",
     "output_type": "stream",
     "text": [
      "done in 14.806593 seconds\n"
     ]
    },
    {
     "name": "stdout",
     "output_type": "stream",
     "text": [
      "(20, 16, 200)\n",
      "(20, 4, 200)\n",
      "(20, 200)\n"
     ]
    },
    {
     "name": "stderr",
     "output_type": "stream",
     "text": [
      "done in 14.275262 seconds\n"
     ]
    },
    {
     "name": "stdout",
     "output_type": "stream",
     "text": [
      "(20, 16, 200)\n",
      "(20, 4, 200)\n",
      "(20, 200)\n"
     ]
    },
    {
     "name": "stderr",
     "output_type": "stream",
     "text": [
      "done in 15.081451 seconds\n"
     ]
    },
    {
     "name": "stdout",
     "output_type": "stream",
     "text": [
      "(20, 16, 200)\n",
      "(20, 4, 200)\n",
      "(20, 200)\n"
     ]
    },
    {
     "name": "stderr",
     "output_type": "stream",
     "text": [
      "done in 14.710553 seconds\n"
     ]
    },
    {
     "name": "stdout",
     "output_type": "stream",
     "text": [
      "(20, 16, 200)\n",
      "(20, 4, 200)\n",
      "(20, 200)\n"
     ]
    },
    {
     "name": "stderr",
     "output_type": "stream",
     "text": [
      "done in 14.567201 seconds\n"
     ]
    },
    {
     "name": "stdout",
     "output_type": "stream",
     "text": [
      "(20, 16, 200)\n",
      "(20, 4, 200)\n",
      "(20, 200)\n"
     ]
    },
    {
     "name": "stderr",
     "output_type": "stream",
     "text": [
      "done in 14.796177 seconds\n"
     ]
    },
    {
     "name": "stdout",
     "output_type": "stream",
     "text": [
      "(20, 16, 200)\n",
      "(20, 4, 200)\n",
      "(20, 200)\n"
     ]
    },
    {
     "name": "stderr",
     "output_type": "stream",
     "text": [
      "done in 14.703485 seconds\n"
     ]
    },
    {
     "name": "stdout",
     "output_type": "stream",
     "text": [
      "(20, 16, 200)\n",
      "(20, 4, 200)\n",
      "(20, 200)\n"
     ]
    },
    {
     "name": "stderr",
     "output_type": "stream",
     "text": [
      "done in 14.705292 seconds\n"
     ]
    },
    {
     "name": "stdout",
     "output_type": "stream",
     "text": [
      "(20, 16, 200)\n",
      "(20, 4, 200)\n",
      "(20, 200)\n"
     ]
    },
    {
     "name": "stderr",
     "output_type": "stream",
     "text": [
      "done in 14.403003 seconds\n"
     ]
    },
    {
     "name": "stdout",
     "output_type": "stream",
     "text": [
      "(20, 16, 200)\n",
      "(20, 4, 200)\n",
      "(20, 200)\n"
     ]
    },
    {
     "name": "stderr",
     "output_type": "stream",
     "text": [
      "done in 16.388855 seconds\n"
     ]
    },
    {
     "name": "stdout",
     "output_type": "stream",
     "text": [
      "(11, 16, 200)\n",
      "(11, 4, 200)\n",
      "(11, 200)\n"
     ]
    },
    {
     "name": "stderr",
     "output_type": "stream",
     "text": [
      "done in 15.315988 seconds\n"
     ]
    },
    {
     "name": "stdout",
     "output_type": "stream",
     "text": [
      "(20, 16, 200)\n",
      "(20, 4, 200)\n",
      "(20, 200)\n"
     ]
    },
    {
     "name": "stderr",
     "output_type": "stream",
     "text": [
      "done in 15.281766 seconds\n"
     ]
    },
    {
     "name": "stdout",
     "output_type": "stream",
     "text": [
      "(20, 16, 200)\n",
      "(20, 4, 200)\n",
      "(20, 200)\n"
     ]
    },
    {
     "name": "stderr",
     "output_type": "stream",
     "text": [
      "done in 15.484455 seconds\n"
     ]
    },
    {
     "name": "stdout",
     "output_type": "stream",
     "text": [
      "(20, 16, 200)\n",
      "(20, 4, 200)\n",
      "(20, 200)\n"
     ]
    },
    {
     "name": "stderr",
     "output_type": "stream",
     "text": [
      "done in 15.485278 seconds\n"
     ]
    },
    {
     "name": "stdout",
     "output_type": "stream",
     "text": [
      "(20, 16, 200)\n",
      "(20, 4, 200)\n",
      "(20, 200)\n"
     ]
    },
    {
     "name": "stderr",
     "output_type": "stream",
     "text": [
      "done in 15.617575 seconds\n"
     ]
    },
    {
     "name": "stdout",
     "output_type": "stream",
     "text": [
      "(20, 16, 200)\n",
      "(20, 4, 200)\n",
      "(20, 200)\n"
     ]
    },
    {
     "name": "stderr",
     "output_type": "stream",
     "text": [
      "done in 15.683460 seconds\n"
     ]
    },
    {
     "name": "stdout",
     "output_type": "stream",
     "text": [
      "(20, 16, 200)\n",
      "(20, 4, 200)\n",
      "(20, 200)\n"
     ]
    },
    {
     "name": "stderr",
     "output_type": "stream",
     "text": [
      "done in 15.001396 seconds\n"
     ]
    },
    {
     "name": "stdout",
     "output_type": "stream",
     "text": [
      "(20, 16, 200)\n",
      "(20, 4, 200)\n",
      "(20, 200)\n"
     ]
    },
    {
     "name": "stderr",
     "output_type": "stream",
     "text": [
      "done in 14.502799 seconds\n"
     ]
    },
    {
     "name": "stdout",
     "output_type": "stream",
     "text": [
      "(20, 16, 200)\n",
      "(20, 4, 200)\n",
      "(20, 200)\n"
     ]
    },
    {
     "name": "stderr",
     "output_type": "stream",
     "text": [
      "done in 14.605494 seconds\n"
     ]
    },
    {
     "name": "stdout",
     "output_type": "stream",
     "text": [
      "(20, 16, 200)\n",
      "(20, 4, 200)\n",
      "(20, 200)\n"
     ]
    },
    {
     "name": "stderr",
     "output_type": "stream",
     "text": [
      "done in 15.485521 seconds\n"
     ]
    },
    {
     "name": "stdout",
     "output_type": "stream",
     "text": [
      "(20, 16, 200)\n",
      "(20, 4, 200)\n",
      "(20, 200)\n"
     ]
    },
    {
     "name": "stderr",
     "output_type": "stream",
     "text": [
      "done in 15.519655 seconds\n"
     ]
    },
    {
     "name": "stdout",
     "output_type": "stream",
     "text": [
      "(20, 16, 200)\n",
      "(20, 4, 200)\n",
      "(20, 200)\n"
     ]
    },
    {
     "name": "stderr",
     "output_type": "stream",
     "text": [
      "done in 15.293196 seconds\n"
     ]
    },
    {
     "name": "stdout",
     "output_type": "stream",
     "text": [
      "(20, 16, 200)\n",
      "(20, 4, 200)\n",
      "(20, 200)\n"
     ]
    },
    {
     "name": "stderr",
     "output_type": "stream",
     "text": [
      "done in 15.482961 seconds\n"
     ]
    },
    {
     "name": "stdout",
     "output_type": "stream",
     "text": [
      "(20, 16, 200)\n",
      "(20, 4, 200)\n",
      "(20, 200)\n"
     ]
    },
    {
     "name": "stderr",
     "output_type": "stream",
     "text": [
      "done in 16.411086 seconds\n"
     ]
    },
    {
     "name": "stdout",
     "output_type": "stream",
     "text": [
      "(20, 16, 200)\n",
      "(20, 4, 200)\n",
      "(20, 200)\n"
     ]
    },
    {
     "name": "stderr",
     "output_type": "stream",
     "text": [
      "done in 16.017701 seconds\n"
     ]
    },
    {
     "name": "stdout",
     "output_type": "stream",
     "text": [
      "(20, 16, 200)\n",
      "(20, 4, 200)\n",
      "(20, 200)\n"
     ]
    },
    {
     "name": "stderr",
     "output_type": "stream",
     "text": [
      "done in 16.419709 seconds\n"
     ]
    },
    {
     "name": "stdout",
     "output_type": "stream",
     "text": [
      "(4, 16, 200)\n",
      "(4, 4, 200)\n",
      "(4, 200)\n"
     ]
    },
    {
     "name": "stderr",
     "output_type": "stream",
     "text": [
      "done in 15.285342 seconds\n"
     ]
    },
    {
     "name": "stdout",
     "output_type": "stream",
     "text": [
      "(20, 16, 200)\n",
      "(20, 4, 200)\n",
      "(20, 200)\n"
     ]
    },
    {
     "name": "stderr",
     "output_type": "stream",
     "text": [
      "done in 16.010025 seconds\n"
     ]
    },
    {
     "name": "stdout",
     "output_type": "stream",
     "text": [
      "(20, 16, 200)\n",
      "(20, 4, 200)\n",
      "(20, 200)\n"
     ]
    },
    {
     "name": "stderr",
     "output_type": "stream",
     "text": [
      "done in 14.402915 seconds\n"
     ]
    },
    {
     "name": "stdout",
     "output_type": "stream",
     "text": [
      "(20, 16, 200)\n",
      "(20, 4, 200)\n",
      "(20, 200)\n"
     ]
    },
    {
     "name": "stderr",
     "output_type": "stream",
     "text": [
      "done in 13.784307 seconds\n"
     ]
    },
    {
     "name": "stdout",
     "output_type": "stream",
     "text": [
      "(20, 16, 200)\n",
      "(20, 4, 200)\n",
      "(20, 200)\n"
     ]
    },
    {
     "name": "stderr",
     "output_type": "stream",
     "text": [
      "done in 14.403391 seconds\n"
     ]
    },
    {
     "name": "stdout",
     "output_type": "stream",
     "text": [
      "(20, 16, 200)\n",
      "(20, 4, 200)\n",
      "(20, 200)\n"
     ]
    },
    {
     "name": "stderr",
     "output_type": "stream",
     "text": [
      "done in 14.509310 seconds\n"
     ]
    },
    {
     "name": "stdout",
     "output_type": "stream",
     "text": [
      "(20, 16, 200)\n",
      "(20, 4, 200)\n",
      "(20, 200)\n"
     ]
    },
    {
     "name": "stderr",
     "output_type": "stream",
     "text": [
      "done in 14.298577 seconds\n"
     ]
    },
    {
     "name": "stdout",
     "output_type": "stream",
     "text": [
      "(20, 16, 200)\n",
      "(20, 4, 200)\n",
      "(20, 200)\n"
     ]
    },
    {
     "name": "stderr",
     "output_type": "stream",
     "text": [
      "done in 14.679649 seconds\n"
     ]
    },
    {
     "name": "stdout",
     "output_type": "stream",
     "text": [
      "(20, 16, 200)\n",
      "(20, 4, 200)\n",
      "(20, 200)\n"
     ]
    },
    {
     "name": "stderr",
     "output_type": "stream",
     "text": [
      "done in 14.478383 seconds\n"
     ]
    },
    {
     "name": "stdout",
     "output_type": "stream",
     "text": [
      "(20, 16, 200)\n",
      "(20, 4, 200)\n",
      "(20, 200)\n"
     ]
    },
    {
     "name": "stderr",
     "output_type": "stream",
     "text": [
      "done in 14.908599 seconds\n"
     ]
    },
    {
     "name": "stdout",
     "output_type": "stream",
     "text": [
      "(20, 16, 200)\n",
      "(20, 4, 200)\n",
      "(20, 200)\n"
     ]
    },
    {
     "name": "stderr",
     "output_type": "stream",
     "text": [
      "done in 14.374804 seconds\n"
     ]
    },
    {
     "name": "stdout",
     "output_type": "stream",
     "text": [
      "(20, 16, 200)\n",
      "(20, 4, 200)\n",
      "(20, 200)\n"
     ]
    },
    {
     "name": "stderr",
     "output_type": "stream",
     "text": [
      "done in 14.713103 seconds\n"
     ]
    },
    {
     "name": "stdout",
     "output_type": "stream",
     "text": [
      "(20, 16, 200)\n",
      "(20, 4, 200)\n",
      "(20, 200)\n"
     ]
    },
    {
     "name": "stderr",
     "output_type": "stream",
     "text": [
      "done in 14.778055 seconds\n"
     ]
    },
    {
     "name": "stdout",
     "output_type": "stream",
     "text": [
      "(20, 16, 200)\n",
      "(20, 4, 200)\n",
      "(20, 200)\n"
     ]
    },
    {
     "name": "stderr",
     "output_type": "stream",
     "text": [
      "done in 14.897801 seconds\n"
     ]
    },
    {
     "name": "stdout",
     "output_type": "stream",
     "text": [
      "(20, 16, 200)\n",
      "(20, 4, 200)\n",
      "(20, 200)\n"
     ]
    },
    {
     "name": "stderr",
     "output_type": "stream",
     "text": [
      "done in 15.703734 seconds\n"
     ]
    },
    {
     "name": "stdout",
     "output_type": "stream",
     "text": [
      "(20, 16, 200)\n",
      "(20, 4, 200)\n",
      "(20, 200)\n"
     ]
    },
    {
     "name": "stderr",
     "output_type": "stream",
     "text": [
      "done in 15.206631 seconds\n"
     ]
    },
    {
     "name": "stdout",
     "output_type": "stream",
     "text": [
      "(20, 16, 200)\n",
      "(20, 4, 200)\n",
      "(20, 200)\n"
     ]
    },
    {
     "name": "stderr",
     "output_type": "stream",
     "text": [
      "done in 15.282090 seconds\n"
     ]
    },
    {
     "name": "stdout",
     "output_type": "stream",
     "text": [
      "(20, 16, 200)\n",
      "(20, 4, 200)\n",
      "(20, 200)\n"
     ]
    },
    {
     "name": "stderr",
     "output_type": "stream",
     "text": [
      "done in 14.811881 seconds\n"
     ]
    },
    {
     "name": "stdout",
     "output_type": "stream",
     "text": [
      "(20, 16, 200)\n",
      "(20, 4, 200)\n",
      "(20, 200)\n"
     ]
    },
    {
     "name": "stderr",
     "output_type": "stream",
     "text": [
      "done in 14.903466 seconds\n"
     ]
    },
    {
     "name": "stdout",
     "output_type": "stream",
     "text": [
      "(20, 16, 200)\n",
      "(20, 4, 200)\n",
      "(20, 200)\n"
     ]
    },
    {
     "name": "stderr",
     "output_type": "stream",
     "text": [
      "done in 14.186155 seconds\n"
     ]
    },
    {
     "name": "stdout",
     "output_type": "stream",
     "text": [
      "(20, 16, 200)\n",
      "(20, 4, 200)\n",
      "(20, 200)\n"
     ]
    },
    {
     "name": "stderr",
     "output_type": "stream",
     "text": [
      "done in 14.479117 seconds\n"
     ]
    },
    {
     "name": "stdout",
     "output_type": "stream",
     "text": [
      "(20, 16, 200)\n",
      "(20, 4, 200)\n",
      "(20, 200)\n"
     ]
    },
    {
     "name": "stderr",
     "output_type": "stream",
     "text": [
      "done in 16.320906 seconds\n"
     ]
    },
    {
     "name": "stdout",
     "output_type": "stream",
     "text": [
      "(20, 16, 200)\n",
      "(20, 4, 200)\n",
      "(20, 200)\n"
     ]
    },
    {
     "name": "stderr",
     "output_type": "stream",
     "text": [
      "done in 15.699861 seconds\n"
     ]
    },
    {
     "name": "stdout",
     "output_type": "stream",
     "text": [
      "(20, 16, 200)\n",
      "(20, 4, 200)\n",
      "(20, 200)\n"
     ]
    },
    {
     "name": "stderr",
     "output_type": "stream",
     "text": [
      "done in 15.818814 seconds\n"
     ]
    },
    {
     "name": "stdout",
     "output_type": "stream",
     "text": [
      "(20, 16, 200)\n",
      "(20, 4, 200)\n",
      "(20, 200)\n"
     ]
    },
    {
     "name": "stderr",
     "output_type": "stream",
     "text": [
      "done in 16.198044 seconds\n"
     ]
    },
    {
     "name": "stdout",
     "output_type": "stream",
     "text": [
      "(17, 16, 200)\n",
      "(17, 4, 200)\n",
      "(17, 200)\n"
     ]
    },
    {
     "name": "stderr",
     "output_type": "stream",
     "text": [
      "done in 14.988026 seconds\n"
     ]
    },
    {
     "name": "stdout",
     "output_type": "stream",
     "text": [
      "(20, 16, 200)\n",
      "(20, 4, 200)\n",
      "(20, 200)\n"
     ]
    },
    {
     "name": "stderr",
     "output_type": "stream",
     "text": [
      "done in 15.684270 seconds\n"
     ]
    },
    {
     "name": "stdout",
     "output_type": "stream",
     "text": [
      "(20, 16, 200)\n",
      "(20, 4, 200)\n",
      "(20, 200)\n"
     ]
    },
    {
     "name": "stderr",
     "output_type": "stream",
     "text": [
      "done in 14.704421 seconds\n"
     ]
    },
    {
     "name": "stdout",
     "output_type": "stream",
     "text": [
      "(20, 16, 200)\n",
      "(20, 4, 200)\n",
      "(20, 200)\n"
     ]
    },
    {
     "name": "stderr",
     "output_type": "stream",
     "text": [
      "done in 14.490279 seconds\n"
     ]
    },
    {
     "name": "stdout",
     "output_type": "stream",
     "text": [
      "(20, 16, 200)\n",
      "(20, 4, 200)\n",
      "(20, 200)\n"
     ]
    },
    {
     "name": "stderr",
     "output_type": "stream",
     "text": [
      "done in 14.362965 seconds\n"
     ]
    },
    {
     "name": "stdout",
     "output_type": "stream",
     "text": [
      "(20, 16, 200)\n",
      "(20, 4, 200)\n",
      "(20, 200)\n"
     ]
    },
    {
     "name": "stderr",
     "output_type": "stream",
     "text": [
      "done in 14.595200 seconds\n"
     ]
    },
    {
     "name": "stdout",
     "output_type": "stream",
     "text": [
      "(20, 16, 200)\n",
      "(20, 4, 200)\n",
      "(20, 200)\n"
     ]
    },
    {
     "name": "stderr",
     "output_type": "stream",
     "text": [
      "done in 15.577863 seconds\n"
     ]
    },
    {
     "name": "stdout",
     "output_type": "stream",
     "text": [
      "(20, 16, 200)\n",
      "(20, 4, 200)\n",
      "(20, 200)\n"
     ]
    },
    {
     "name": "stderr",
     "output_type": "stream",
     "text": [
      "done in 15.686149 seconds\n"
     ]
    },
    {
     "name": "stdout",
     "output_type": "stream",
     "text": [
      "(20, 16, 200)\n",
      "(20, 4, 200)\n",
      "(20, 200)\n"
     ]
    },
    {
     "name": "stderr",
     "output_type": "stream",
     "text": [
      "done in 16.117512 seconds\n"
     ]
    },
    {
     "name": "stdout",
     "output_type": "stream",
     "text": [
      "(20, 16, 200)\n",
      "(20, 4, 200)\n",
      "(20, 200)\n"
     ]
    },
    {
     "name": "stderr",
     "output_type": "stream",
     "text": [
      "done in 15.287462 seconds\n"
     ]
    },
    {
     "name": "stdout",
     "output_type": "stream",
     "text": [
      "(20, 16, 200)\n",
      "(20, 4, 200)\n",
      "(20, 200)\n"
     ]
    },
    {
     "name": "stderr",
     "output_type": "stream",
     "text": [
      "done in 15.375954 seconds\n"
     ]
    },
    {
     "name": "stdout",
     "output_type": "stream",
     "text": [
      "(20, 16, 200)\n",
      "(20, 4, 200)\n",
      "(20, 200)\n"
     ]
    },
    {
     "name": "stderr",
     "output_type": "stream",
     "text": [
      "done in 15.108438 seconds\n"
     ]
    },
    {
     "name": "stdout",
     "output_type": "stream",
     "text": [
      "(20, 16, 200)\n",
      "(20, 4, 200)\n",
      "(20, 200)\n"
     ]
    },
    {
     "name": "stderr",
     "output_type": "stream",
     "text": [
      "done in 15.785385 seconds\n"
     ]
    },
    {
     "name": "stdout",
     "output_type": "stream",
     "text": [
      "(20, 16, 200)\n",
      "(20, 4, 200)\n",
      "(20, 200)\n"
     ]
    },
    {
     "name": "stderr",
     "output_type": "stream",
     "text": [
      "done in 15.824441 seconds\n"
     ]
    },
    {
     "name": "stdout",
     "output_type": "stream",
     "text": [
      "(20, 16, 200)\n",
      "(20, 4, 200)\n",
      "(20, 200)\n"
     ]
    },
    {
     "name": "stderr",
     "output_type": "stream",
     "text": [
      "done in 15.587709 seconds\n"
     ]
    },
    {
     "name": "stdout",
     "output_type": "stream",
     "text": [
      "(20, 16, 200)\n",
      "(20, 4, 200)\n",
      "(20, 200)\n"
     ]
    },
    {
     "name": "stderr",
     "output_type": "stream",
     "text": [
      "done in 15.199322 seconds\n"
     ]
    },
    {
     "name": "stdout",
     "output_type": "stream",
     "text": [
      "(20, 16, 200)\n",
      "(20, 4, 200)\n",
      "(20, 200)\n"
     ]
    },
    {
     "name": "stderr",
     "output_type": "stream",
     "text": [
      "done in 14.173615 seconds\n"
     ]
    },
    {
     "name": "stdout",
     "output_type": "stream",
     "text": [
      "(20, 16, 200)\n",
      "(20, 4, 200)\n",
      "(20, 200)\n"
     ]
    },
    {
     "name": "stderr",
     "output_type": "stream",
     "text": [
      "done in 14.711574 seconds\n"
     ]
    },
    {
     "name": "stdout",
     "output_type": "stream",
     "text": [
      "(20, 16, 200)\n",
      "(20, 4, 200)\n",
      "(20, 200)\n"
     ]
    },
    {
     "name": "stderr",
     "output_type": "stream",
     "text": [
      "done in 14.998131 seconds\n"
     ]
    },
    {
     "name": "stdout",
     "output_type": "stream",
     "text": [
      "(20, 16, 200)\n",
      "(20, 4, 200)\n",
      "(20, 200)\n"
     ]
    },
    {
     "name": "stderr",
     "output_type": "stream",
     "text": [
      "done in 14.573118 seconds\n"
     ]
    },
    {
     "name": "stdout",
     "output_type": "stream",
     "text": [
      "(20, 16, 200)\n",
      "(20, 4, 200)\n",
      "(20, 200)\n"
     ]
    },
    {
     "name": "stderr",
     "output_type": "stream",
     "text": [
      "done in 15.875744 seconds\n"
     ]
    },
    {
     "name": "stdout",
     "output_type": "stream",
     "text": [
      "(20, 16, 200)\n",
      "(20, 4, 200)\n",
      "(20, 200)\n"
     ]
    },
    {
     "name": "stderr",
     "output_type": "stream",
     "text": [
      "done in 15.209340 seconds\n"
     ]
    },
    {
     "name": "stdout",
     "output_type": "stream",
     "text": [
      "(20, 16, 200)\n",
      "(20, 4, 200)\n",
      "(20, 200)\n"
     ]
    },
    {
     "name": "stderr",
     "output_type": "stream",
     "text": [
      "done in 14.997337 seconds\n"
     ]
    },
    {
     "name": "stdout",
     "output_type": "stream",
     "text": [
      "(10, 16, 200)\n",
      "(10, 4, 200)\n",
      "(10, 200)\n"
     ]
    },
    {
     "name": "stderr",
     "output_type": "stream",
     "text": [
      "done in 15.811382 seconds\n"
     ]
    },
    {
     "name": "stdout",
     "output_type": "stream",
     "text": [
      "(20, 16, 200)\n",
      "(20, 4, 200)\n",
      "(20, 200)\n"
     ]
    },
    {
     "name": "stderr",
     "output_type": "stream",
     "text": [
      "done in 15.891789 seconds\n"
     ]
    },
    {
     "name": "stdout",
     "output_type": "stream",
     "text": [
      "(20, 16, 200)\n",
      "(20, 4, 200)\n",
      "(20, 200)\n"
     ]
    },
    {
     "name": "stderr",
     "output_type": "stream",
     "text": [
      "done in 14.705138 seconds\n"
     ]
    },
    {
     "name": "stdout",
     "output_type": "stream",
     "text": [
      "(20, 16, 200)\n",
      "(20, 4, 200)\n",
      "(20, 200)\n"
     ]
    },
    {
     "name": "stderr",
     "output_type": "stream",
     "text": [
      "done in 15.376409 seconds\n"
     ]
    },
    {
     "name": "stdout",
     "output_type": "stream",
     "text": [
      "(20, 16, 200)\n",
      "(20, 4, 200)\n",
      "(20, 200)\n"
     ]
    },
    {
     "name": "stderr",
     "output_type": "stream",
     "text": [
      "done in 15.110852 seconds\n"
     ]
    },
    {
     "name": "stdout",
     "output_type": "stream",
     "text": [
      "(20, 16, 200)\n",
      "(20, 4, 200)\n",
      "(20, 200)\n"
     ]
    },
    {
     "name": "stderr",
     "output_type": "stream",
     "text": [
      "done in 15.304028 seconds\n"
     ]
    },
    {
     "name": "stdout",
     "output_type": "stream",
     "text": [
      "(20, 16, 200)\n",
      "(20, 4, 200)\n",
      "(20, 200)\n"
     ]
    },
    {
     "name": "stderr",
     "output_type": "stream",
     "text": [
      "done in 15.083883 seconds\n"
     ]
    },
    {
     "name": "stdout",
     "output_type": "stream",
     "text": [
      "(20, 16, 200)\n",
      "(20, 4, 200)\n",
      "(20, 200)\n"
     ]
    },
    {
     "name": "stderr",
     "output_type": "stream",
     "text": [
      "done in 15.514783 seconds\n"
     ]
    },
    {
     "name": "stdout",
     "output_type": "stream",
     "text": [
      "(20, 16, 200)\n",
      "(20, 4, 200)\n",
      "(20, 200)\n"
     ]
    },
    {
     "name": "stderr",
     "output_type": "stream",
     "text": [
      "done in 16.195502 seconds\n"
     ]
    },
    {
     "name": "stdout",
     "output_type": "stream",
     "text": [
      "(20, 16, 200)\n",
      "(20, 4, 200)\n",
      "(20, 200)\n"
     ]
    },
    {
     "name": "stderr",
     "output_type": "stream",
     "text": [
      "done in 15.226212 seconds\n"
     ]
    },
    {
     "name": "stdout",
     "output_type": "stream",
     "text": [
      "(20, 16, 200)\n",
      "(20, 4, 200)\n",
      "(20, 200)\n"
     ]
    },
    {
     "name": "stderr",
     "output_type": "stream",
     "text": [
      "done in 15.577142 seconds\n"
     ]
    },
    {
     "name": "stdout",
     "output_type": "stream",
     "text": [
      "(20, 16, 200)\n",
      "(20, 4, 200)\n",
      "(20, 200)\n"
     ]
    },
    {
     "name": "stderr",
     "output_type": "stream",
     "text": [
      "done in 14.902869 seconds\n"
     ]
    },
    {
     "name": "stdout",
     "output_type": "stream",
     "text": [
      "(20, 16, 200)\n",
      "(20, 4, 200)\n",
      "(20, 200)\n"
     ]
    },
    {
     "name": "stderr",
     "output_type": "stream",
     "text": [
      "done in 14.886665 seconds\n"
     ]
    },
    {
     "name": "stdout",
     "output_type": "stream",
     "text": [
      "(20, 16, 200)\n",
      "(20, 4, 200)\n",
      "(20, 200)\n"
     ]
    },
    {
     "name": "stderr",
     "output_type": "stream",
     "text": [
      "done in 15.317054 seconds\n"
     ]
    },
    {
     "name": "stdout",
     "output_type": "stream",
     "text": [
      "(20, 16, 200)\n",
      "(20, 4, 200)\n",
      "(20, 200)\n"
     ]
    },
    {
     "name": "stderr",
     "output_type": "stream",
     "text": [
      "done in 15.385583 seconds\n"
     ]
    },
    {
     "name": "stdout",
     "output_type": "stream",
     "text": [
      "(20, 16, 200)\n",
      "(20, 4, 200)\n",
      "(20, 200)\n"
     ]
    },
    {
     "name": "stderr",
     "output_type": "stream",
     "text": [
      "done in 16.115436 seconds\n"
     ]
    },
    {
     "name": "stdout",
     "output_type": "stream",
     "text": [
      "(20, 16, 200)\n",
      "(20, 4, 200)\n",
      "(20, 200)\n"
     ]
    },
    {
     "name": "stderr",
     "output_type": "stream",
     "text": [
      "done in 15.495347 seconds\n"
     ]
    },
    {
     "name": "stdout",
     "output_type": "stream",
     "text": [
      "(20, 16, 200)\n",
      "(20, 4, 200)\n",
      "(20, 200)\n"
     ]
    },
    {
     "name": "stderr",
     "output_type": "stream",
     "text": [
      "done in 15.476685 seconds\n"
     ]
    },
    {
     "name": "stdout",
     "output_type": "stream",
     "text": [
      "(20, 16, 200)\n",
      "(20, 4, 200)\n",
      "(20, 200)\n"
     ]
    },
    {
     "name": "stderr",
     "output_type": "stream",
     "text": [
      "done in 15.319800 seconds\n"
     ]
    },
    {
     "name": "stdout",
     "output_type": "stream",
     "text": [
      "(20, 16, 200)\n",
      "(20, 4, 200)\n",
      "(20, 200)\n"
     ]
    },
    {
     "name": "stderr",
     "output_type": "stream",
     "text": [
      "done in 15.800937 seconds\n"
     ]
    },
    {
     "name": "stdout",
     "output_type": "stream",
     "text": [
      "(20, 16, 200)\n",
      "(20, 4, 200)\n",
      "(20, 200)\n"
     ]
    },
    {
     "name": "stderr",
     "output_type": "stream",
     "text": [
      "done in 14.604925 seconds\n"
     ]
    },
    {
     "name": "stdout",
     "output_type": "stream",
     "text": [
      "(20, 16, 200)\n",
      "(20, 4, 200)\n",
      "(20, 200)\n"
     ]
    },
    {
     "name": "stderr",
     "output_type": "stream",
     "text": [
      "done in 14.467317 seconds\n"
     ]
    },
    {
     "name": "stdout",
     "output_type": "stream",
     "text": [
      "(20, 16, 200)\n",
      "(20, 4, 200)\n",
      "(20, 200)\n"
     ]
    },
    {
     "name": "stderr",
     "output_type": "stream",
     "text": [
      "done in 13.999886 seconds\n"
     ]
    },
    {
     "name": "stdout",
     "output_type": "stream",
     "text": [
      "(20, 16, 200)\n",
      "(20, 4, 200)\n",
      "(20, 200)\n"
     ]
    },
    {
     "name": "stderr",
     "output_type": "stream",
     "text": [
      "done in 14.472013 seconds\n"
     ]
    },
    {
     "name": "stdout",
     "output_type": "stream",
     "text": [
      "(20, 16, 200)\n",
      "(20, 4, 200)\n",
      "(20, 200)\n"
     ]
    },
    {
     "name": "stderr",
     "output_type": "stream",
     "text": [
      "done in 14.498124 seconds\n"
     ]
    },
    {
     "name": "stdout",
     "output_type": "stream",
     "text": [
      "(20, 16, 200)\n",
      "(20, 4, 200)\n",
      "(20, 200)\n"
     ]
    },
    {
     "name": "stderr",
     "output_type": "stream",
     "text": [
      "done in 14.785207 seconds\n"
     ]
    },
    {
     "name": "stdout",
     "output_type": "stream",
     "text": [
      "(20, 16, 200)\n",
      "(20, 4, 200)\n",
      "(20, 200)\n"
     ]
    },
    {
     "name": "stderr",
     "output_type": "stream",
     "text": [
      "done in 14.401050 seconds\n"
     ]
    },
    {
     "name": "stdout",
     "output_type": "stream",
     "text": [
      "(20, 16, 200)\n",
      "(20, 4, 200)\n",
      "(20, 200)\n"
     ]
    },
    {
     "name": "stderr",
     "output_type": "stream",
     "text": [
      "done in 14.076131 seconds\n"
     ]
    },
    {
     "name": "stdout",
     "output_type": "stream",
     "text": [
      "(20, 16, 200)\n",
      "(20, 4, 200)\n",
      "(20, 200)\n"
     ]
    },
    {
     "name": "stderr",
     "output_type": "stream",
     "text": [
      "done in 14.805579 seconds\n"
     ]
    },
    {
     "name": "stdout",
     "output_type": "stream",
     "text": [
      "(20, 16, 200)\n",
      "(20, 4, 200)\n",
      "(20, 200)\n"
     ]
    },
    {
     "name": "stderr",
     "output_type": "stream",
     "text": [
      "done in 14.798033 seconds\n"
     ]
    },
    {
     "name": "stdout",
     "output_type": "stream",
     "text": [
      "(20, 16, 200)\n",
      "(20, 4, 200)\n",
      "(20, 200)\n"
     ]
    },
    {
     "name": "stderr",
     "output_type": "stream",
     "text": [
      "done in 14.594265 seconds\n"
     ]
    },
    {
     "name": "stdout",
     "output_type": "stream",
     "text": [
      "(20, 16, 200)\n",
      "(20, 4, 200)\n",
      "(20, 200)\n"
     ]
    },
    {
     "name": "stderr",
     "output_type": "stream",
     "text": [
      "done in 15.493330 seconds\n"
     ]
    },
    {
     "name": "stdout",
     "output_type": "stream",
     "text": [
      "(20, 16, 200)\n",
      "(20, 4, 200)\n",
      "(20, 200)\n"
     ]
    },
    {
     "name": "stderr",
     "output_type": "stream",
     "text": [
      "done in 16.311948 seconds\n"
     ]
    },
    {
     "name": "stdout",
     "output_type": "stream",
     "text": [
      "(20, 16, 200)\n",
      "(20, 4, 200)\n",
      "(20, 200)\n"
     ]
    },
    {
     "name": "stderr",
     "output_type": "stream",
     "text": [
      "done in 15.677597 seconds\n"
     ]
    },
    {
     "name": "stdout",
     "output_type": "stream",
     "text": [
      "(20, 16, 200)\n",
      "(20, 4, 200)\n",
      "(20, 200)\n"
     ]
    },
    {
     "name": "stderr",
     "output_type": "stream",
     "text": [
      "done in 14.907489 seconds\n"
     ]
    },
    {
     "name": "stdout",
     "output_type": "stream",
     "text": [
      "(20, 16, 200)\n",
      "(20, 4, 200)\n",
      "(20, 200)\n"
     ]
    },
    {
     "name": "stderr",
     "output_type": "stream",
     "text": [
      "done in 15.280380 seconds\n"
     ]
    },
    {
     "name": "stdout",
     "output_type": "stream",
     "text": [
      "(20, 16, 200)\n",
      "(20, 4, 200)\n",
      "(20, 200)\n"
     ]
    },
    {
     "name": "stderr",
     "output_type": "stream",
     "text": [
      "done in 14.610032 seconds\n"
     ]
    },
    {
     "name": "stdout",
     "output_type": "stream",
     "text": [
      "(20, 16, 200)\n",
      "(20, 4, 200)\n",
      "(20, 200)\n"
     ]
    },
    {
     "name": "stderr",
     "output_type": "stream",
     "text": [
      "done in 14.277793 seconds\n"
     ]
    },
    {
     "name": "stdout",
     "output_type": "stream",
     "text": [
      "(20, 16, 200)\n",
      "(20, 4, 200)\n",
      "(20, 200)\n"
     ]
    },
    {
     "name": "stderr",
     "output_type": "stream",
     "text": [
      "done in 16.102514 seconds\n",
      "done in 17.148585 seconds\n",
      "sift: 153.47 seconds\n"
     ]
    },
    {
     "name": "stdout",
     "output_type": "stream",
     "text": [
      "(20, 16, 200)\n",
      "(20, 4, 200)\n",
      "(20, 200)\n",
      "280466"
     ]
    },
    {
     "name": "stderr",
     "output_type": "stream",
     "text": [
      "compute vocab: 0.01 seconds\n",
      "predict: 10.76 seconds\n"
     ]
    },
    {
     "name": "stdout",
     "output_type": "stream",
     "text": [
      " keypoints\n",
      "(20, 16, 200)\n",
      "(20, 4, 200)\n",
      "(20, 200)\n"
     ]
    },
    {
     "name": "stderr",
     "output_type": "stream",
     "text": [
      "done in 17.016775 seconds\n"
     ]
    },
    {
     "name": "stdout",
     "output_type": "stream",
     "text": [
      "(20, 16, 200)\n",
      "(20, 4, 200)\n",
      "(20, 200)\n"
     ]
    },
    {
     "name": "stderr",
     "output_type": "stream",
     "text": [
      "done in 16.840391 seconds\n"
     ]
    },
    {
     "name": "stdout",
     "output_type": "stream",
     "text": [
      "(16, 16, 200)\n",
      "(16, 4, 200)\n",
      "(16, 200)\n"
     ]
    },
    {
     "name": "stderr",
     "output_type": "stream",
     "text": [
      "done in 16.025295 seconds\n"
     ]
    },
    {
     "name": "stdout",
     "output_type": "stream",
     "text": [
      "(20, 16, 200)\n",
      "(20, 4, 200)\n",
      "(20, 200)\n"
     ]
    },
    {
     "name": "stderr",
     "output_type": "stream",
     "text": [
      "done in 66.384332 seconds\n"
     ]
    },
    {
     "ename": "KeyboardInterrupt",
     "evalue": "",
     "output_type": "error",
     "traceback": [
      "\u001b[1;31m---------------------------------------------------------------------------\u001b[0m",
      "\u001b[1;31mKeyboardInterrupt\u001b[0m                         Traceback (most recent call last)",
      "\u001b[1;32m<ipython-input-12-5e8988407a7b>\u001b[0m in \u001b[0;36m<module>\u001b[1;34m()\u001b[0m\n\u001b[0;32m     35\u001b[0m         \u001b[0mprogress_bar\u001b[0m\u001b[1;33m.\u001b[0m\u001b[0mvalue\u001b[0m \u001b[1;33m=\u001b[0m \u001b[0msec\u001b[0m\u001b[1;33m\u001b[0m\u001b[0m\n\u001b[0;32m     36\u001b[0m \u001b[1;33m\u001b[0m\u001b[0m\n\u001b[1;32m---> 37\u001b[1;33m         \u001b[0mlabelmap\u001b[0m \u001b[1;33m=\u001b[0m \u001b[0mconmpute_labelmap\u001b[0m\u001b[1;33m(\u001b[0m\u001b[0mstack\u001b[0m\u001b[1;33m,\u001b[0m \u001b[0msec\u001b[0m\u001b[1;33m)\u001b[0m\u001b[1;33m\u001b[0m\u001b[0m\n\u001b[0m\u001b[0;32m     38\u001b[0m \u001b[1;33m\u001b[0m\u001b[0m\n\u001b[0;32m     39\u001b[0m         \u001b[1;31m# Compute histograms (method 2), for all levels\u001b[0m\u001b[1;33m\u001b[0m\u001b[1;33m\u001b[0m\u001b[0m\n",
      "\u001b[1;32m<ipython-input-7-ead9d28b059f>\u001b[0m in \u001b[0;36mconmpute_labelmap\u001b[1;34m(stack, sec)\u001b[0m\n\u001b[0;32m     97\u001b[0m \u001b[1;33m\u001b[0m\u001b[0m\n\u001b[0;32m     98\u001b[0m         \u001b[0mt\u001b[0m \u001b[1;33m=\u001b[0m \u001b[0mtime\u001b[0m\u001b[1;33m.\u001b[0m\u001b[0mtime\u001b[0m\u001b[1;33m(\u001b[0m\u001b[1;33m)\u001b[0m\u001b[1;33m\u001b[0m\u001b[0m\n\u001b[1;32m---> 99\u001b[1;33m         \u001b[0mkeypoints\u001b[0m\u001b[1;33m,\u001b[0m \u001b[0mdescriptors\u001b[0m \u001b[1;33m=\u001b[0m \u001b[0msift\u001b[0m\u001b[1;33m.\u001b[0m\u001b[0mdetectAndCompute\u001b[0m\u001b[1;33m(\u001b[0m\u001b[0mimg\u001b[0m\u001b[1;33m,\u001b[0m \u001b[0mNone\u001b[0m\u001b[1;33m)\u001b[0m\u001b[1;33m;\u001b[0m \u001b[1;31m# 128 dim descriptor ～ 120 seconds\u001b[0m\u001b[1;33m\u001b[0m\u001b[0m\n\u001b[0m\u001b[0;32m    100\u001b[0m         \u001b[0msys\u001b[0m\u001b[1;33m.\u001b[0m\u001b[0mstderr\u001b[0m\u001b[1;33m.\u001b[0m\u001b[0mwrite\u001b[0m\u001b[1;33m(\u001b[0m\u001b[1;34m'sift: %.2f seconds\\n'\u001b[0m \u001b[1;33m%\u001b[0m \u001b[1;33m(\u001b[0m\u001b[0mtime\u001b[0m\u001b[1;33m.\u001b[0m\u001b[0mtime\u001b[0m\u001b[1;33m(\u001b[0m\u001b[1;33m)\u001b[0m \u001b[1;33m-\u001b[0m \u001b[0mt\u001b[0m\u001b[1;33m)\u001b[0m\u001b[1;33m)\u001b[0m\u001b[1;33m\u001b[0m\u001b[0m\n\u001b[0;32m    101\u001b[0m \u001b[1;33m\u001b[0m\u001b[0m\n",
      "\u001b[1;31mKeyboardInterrupt\u001b[0m: "
     ]
    }
   ],
   "source": [
    "indices_map = defaultdict(list)\n",
    "hists0_allLandmarks = defaultdict(list)\n",
    "hists1_allLandmarks = defaultdict(list)\n",
    "hists2_allLandmarks = defaultdict(list)\n",
    "\n",
    "for stack in ['MD589', 'MD594']:\n",
    "\n",
    "# stack = 'MD589'\n",
    "    dm = DataManager(stack=stack)\n",
    "\n",
    "    first_detect_sec, last_detect_sec = detect_bbox_range_lookup[stack]\n",
    "\n",
    "    # Load sample locations\n",
    "    \n",
    "    patches_rootdir = '/home/yuncong/CSHL_data_patches/'\n",
    "\n",
    "    table_filepath = os.path.join(patches_rootdir, '%(stack)s_indices_allLandmarks_allSections.h5'%{'stack':stack})\n",
    "    indices_allLandmarks_allSections = pd.read_hdf(table_filepath, 'indices_allLandmarks_allSections')\n",
    "    grid_parameters = pd.read_hdf(table_filepath, 'grid_parameters')\n",
    "\n",
    "    patch_size, stride, w, h = grid_parameters.tolist()\n",
    "    half_size = patch_size/2\n",
    "    ys, xs = np.meshgrid(np.arange(half_size, h-half_size, stride), np.arange(half_size, w-half_size, stride),\n",
    "                     indexing='xy')\n",
    "    sample_locations = np.c_[xs.flat, ys.flat]\n",
    "\n",
    "    \n",
    "    progress_bar = FloatProgress(min=first_detect_sec, max=last_detect_sec)\n",
    "    display(progress_bar)\n",
    "\n",
    "#     for sec in range(first_detect_sec, first_detect_sec+2):\n",
    "    for sec in range(first_detect_sec, last_detect_sec+1, 5):\n",
    "    # for sec in [first_detect_sec]:\n",
    "\n",
    "        progress_bar.value = sec\n",
    "\n",
    "        labelmap = conmpute_labelmap(stack, sec)    \n",
    "\n",
    "        # Compute histograms (method 2), for all levels\n",
    "\n",
    "        num_sample = 20\n",
    "\n",
    "        for name in labels[1:]:\n",
    "            if name not in indices_allLandmarks_allSections[sec].dropna().index: \n",
    "                continue\n",
    "\n",
    "            indices = indices_allLandmarks_allSections[sec][name]\n",
    "            indices_sampled = np.random.choice(indices, min(len(indices), num_sample), replace=False)\n",
    "\n",
    "            sample_locs_roi = sample_locations[indices_sampled]\n",
    "\n",
    "    #         fnmap = [train_patches_jpg_dir + '/%s_%d_%d_%d.jpg' % (name, sample_i, sec, indices_sampled[sample_i])\n",
    "    #                  for sample_i, (x, y) in enumerate(sample_locs_roi)]\n",
    "    #         fnmap = [(sec, indices_sampled[sample_i]) for sample_i, (x, y) in enumerate(sample_locs_roi)]\n",
    "\n",
    "            # compute level-2 histograms\n",
    "            l = 2\n",
    "\n",
    "            grid_size = patch_size / 2**l\n",
    "\n",
    "            if l == 2:\n",
    "                rx = [-2, -1, 0, 1]\n",
    "                ry = [-2, -1, 0, 1]\n",
    "            elif l == 1:\n",
    "                rx = [-1, 0]\n",
    "                ry = [-1, 0]\n",
    "            elif l == 0:\n",
    "                rx = [-.5]\n",
    "                ry = [-.5]\n",
    "\n",
    "            rxs, rys = np.meshgrid(rx, ry)\n",
    "\n",
    "            patch_coords_allGrid = []\n",
    "\n",
    "            for grid_i, (rx, ry) in enumerate(np.c_[rxs.flat, rys.flat]):\n",
    "\n",
    "                patch_xmin = sample_locs_roi[:,0] + rx * grid_size\n",
    "                patch_ymin = sample_locs_roi[:,1] + ry * grid_size\n",
    "                patch_xmax = sample_locs_roi[:,0] + (rx + 1) * grid_size\n",
    "                patch_ymax = sample_locs_roi[:,1] + (ry + 1) * grid_size\n",
    "\n",
    "                patch_coords_allGrid.append([patch_xmin, patch_ymin, patch_xmax, patch_ymax])\n",
    "\n",
    "\n",
    "            all_coords = np.hstack(patch_coords_allGrid)\n",
    "            patch_xmin = all_coords[0]\n",
    "            patch_ymin = all_coords[1]\n",
    "            patch_xmax = all_coords[2]\n",
    "            patch_ymax = all_coords[3]\n",
    "\n",
    "            def compute_histogram_particular_label(i):\n",
    "                m = (labelmap == i).astype(np.uint8)\n",
    "                mi = cv2.integral(m)\n",
    "                ci = mi[patch_ymin, patch_xmin] + mi[patch_ymax, patch_xmax] - mi[patch_ymax, patch_xmin] - mi[patch_ymin, patch_xmax]\n",
    "                return ci\n",
    "\n",
    "            t = time.time()\n",
    "            hists = Parallel(n_jobs=16)(delayed(compute_histogram_particular_label)(i) for i in range(1, M+1))\n",
    "            sys.stderr.write('done in %f seconds\\n' % (time.time() - t)) # ~ 18 seconds\n",
    "\n",
    "            n_grid = (2**l)**2\n",
    "            hists_arr2 = np.transpose(np.reshape(hists, (M, n_grid, -1)))\n",
    "            print hists_arr2.shape\n",
    "\n",
    "            # compute level-1 histograms based on level-2 histograms\n",
    "\n",
    "            hists_arr1 = np.transpose([hists_arr2[:, [0,1,4,5], :].sum(axis=1),\n",
    "                                       hists_arr2[:, [2,3,6,7], :].sum(axis=1),\n",
    "                                       hists_arr2[:, [8,9,12,13], :].sum(axis=1),\n",
    "                                       hists_arr2[:, [10,11,14,15], :].sum(axis=1)], \n",
    "                                      [1,0,2])\n",
    "            print hists_arr1.shape\n",
    "\n",
    "            # compute level-0 histograms based on level-1 histograms\n",
    "\n",
    "            hists_arr0 = hists_arr1.sum(axis=1)\n",
    "            print hists_arr0.shape\n",
    "\n",
    "            hists2_allLandmarks[name].append(hists_arr2)\n",
    "            hists1_allLandmarks[name].append(hists_arr1)\n",
    "            hists0_allLandmarks[name].append(hists_arr0)\n",
    "\n",
    "            indices_map[name].append([(stack, sec, i) for i in indices_sampled])\n",
    "\n",
    "    #         indices_map[name].append(fnmap)\n",
    "\n",
    "#         bp.pack_ndarray_file(hists_arr0, output_dir + '/%(stack)s_%(sec)04d_roi1_histograms_l0.bp' % {'stack': stack, 'sec': sec})\n",
    "#         bp.pack_ndarray_file(hists_arr1, output_dir + '/%(stack)s_%(sec)04d_roi1_histograms_l1.bp' % {'stack': stack, 'sec': sec})\n",
    "#         bp.pack_ndarray_file(hists_arr2, output_dir + '/%(stack)s_%(sec)04d_roi1_histograms_l2.bp' % {'stack': stack, 'sec': sec})\n",
    "\n",
    "#         save_hdf(hists_arr0, output_dir + '/%(stack)s_%(sec)04d_roi1_histograms_l0.hdf' % {'stack': stack, 'sec': sec})\n",
    "#         save_hdf(hists_arr1, output_dir + '/%(stack)s_%(sec)04d_roi1_histograms_l1.hdf' % {'stack': stack, 'sec': sec})\n",
    "#         save_hdf(hists_arr2, output_dir + '/%(stack)s_%(sec)04d_roi1_histograms_l2.hdf' % {'stack': stack, 'sec': sec})\n",
    "\n",
    "hists0_allLandmarks.default_factory = None\n",
    "hists1_allLandmarks.default_factory = None\n",
    "hists2_allLandmarks.default_factory = None\n",
    "\n",
    "indices_map.default_factory = None"
   ]
  },
  {
   "cell_type": "code",
   "execution_count": 11,
   "metadata": {
    "collapsed": false
   },
   "outputs": [
    {
     "data": {
      "text/plain": [
       "defaultdict(None,\n",
       "            {'5N': [[('MD589', 150, 15577),\n",
       "               ('MD589', 150, 15174),\n",
       "               ('MD589', 150, 13933),\n",
       "               ('MD589', 150, 15789),\n",
       "               ('MD589', 150, 14754),\n",
       "               ('MD589', 150, 14956),\n",
       "               ('MD589', 150, 14345),\n",
       "               ('MD589', 150, 14143),\n",
       "               ('MD589', 150, 14962),\n",
       "               ('MD589', 150, 14545),\n",
       "               ('MD589', 150, 15165),\n",
       "               ('MD589', 150, 15586),\n",
       "               ('MD589', 150, 14752),\n",
       "               ('MD589', 150, 15173),\n",
       "               ('MD589', 150, 15370),\n",
       "               ('MD589', 150, 15379),\n",
       "               ('MD589', 150, 13521),\n",
       "               ('MD589', 150, 14137),\n",
       "               ('MD589', 150, 14552),\n",
       "               ('MD589', 150, 15373),\n",
       "               ('MD589', 150, 13520),\n",
       "               ('MD589', 150, 14141),\n",
       "               ('MD589', 150, 14548),\n",
       "               ('MD589', 150, 15175),\n",
       "               ('MD589', 150, 14763),\n",
       "               ('MD589', 150, 14340),\n",
       "               ('MD589', 150, 14968),\n",
       "               ('MD589', 150, 14138),\n",
       "               ('MD589', 150, 14963),\n",
       "               ('MD589', 150, 14959)],\n",
       "              [('MD589', 151, 14758),\n",
       "               ('MD589', 151, 15166),\n",
       "               ('MD589', 151, 14346),\n",
       "               ('MD589', 151, 14751),\n",
       "               ('MD589', 151, 15579),\n",
       "               ('MD589', 151, 14340),\n",
       "               ('MD589', 151, 14963),\n",
       "               ('MD589', 151, 14547),\n",
       "               ('MD589', 151, 15169),\n",
       "               ('MD589', 151, 14137),\n",
       "               ('MD589', 151, 14757),\n",
       "               ('MD589', 151, 13933),\n",
       "               ('MD589', 151, 14347),\n",
       "               ('MD589', 151, 14957),\n",
       "               ('MD589', 151, 15580),\n",
       "               ('MD589', 151, 14549),\n",
       "               ('MD589', 151, 15784),\n",
       "               ('MD589', 151, 14136),\n",
       "               ('MD589', 151, 14961),\n",
       "               ('MD589', 151, 15170),\n",
       "               ('MD589', 151, 13932),\n",
       "               ('MD589', 151, 13519),\n",
       "               ('MD589', 151, 14342),\n",
       "               ('MD589', 151, 13725),\n",
       "               ('MD589', 151, 14546),\n",
       "               ('MD589', 151, 14756),\n",
       "               ('MD589', 151, 14138),\n",
       "               ('MD589', 151, 14755),\n",
       "               ('MD589', 151, 14345),\n",
       "               ('MD589', 151, 14551)]],\n",
       "             '7n': [[('MD589', 150, 14387),\n",
       "               ('MD589', 150, 14799),\n",
       "               ('MD589', 150, 14388),\n",
       "               ('MD589', 150, 14390),\n",
       "               ('MD589', 150, 15214),\n",
       "               ('MD589', 150, 15627),\n",
       "               ('MD589', 150, 14801),\n",
       "               ('MD589', 150, 14389),\n",
       "               ('MD589', 150, 14183),\n",
       "               ('MD589', 150, 15833),\n",
       "               ('MD589', 150, 14182),\n",
       "               ('MD589', 150, 15832),\n",
       "               ('MD589', 150, 16039),\n",
       "               ('MD589', 150, 16037),\n",
       "               ('MD589', 150, 15628),\n",
       "               ('MD589', 150, 14802),\n",
       "               ('MD589', 150, 15419),\n",
       "               ('MD589', 150, 15834),\n",
       "               ('MD589', 150, 15212),\n",
       "               ('MD589', 150, 15006),\n",
       "               ('MD589', 150, 15831),\n",
       "               ('MD589', 150, 13564),\n",
       "               ('MD589', 150, 13975),\n",
       "               ('MD589', 150, 15421),\n",
       "               ('MD589', 150, 16244),\n",
       "               ('MD589', 150, 13770),\n",
       "               ('MD589', 150, 13769),\n",
       "               ('MD589', 150, 14596),\n",
       "               ('MD589', 150, 15420),\n",
       "               ('MD589', 150, 15215)],\n",
       "              [('MD589', 151, 14592),\n",
       "               ('MD589', 151, 15006),\n",
       "               ('MD589', 151, 14388),\n",
       "               ('MD589', 151, 16245),\n",
       "               ('MD589', 151, 15211),\n",
       "               ('MD589', 151, 16244),\n",
       "               ('MD589', 151, 13768),\n",
       "               ('MD589', 151, 16038),\n",
       "               ('MD589', 151, 16243),\n",
       "               ('MD589', 151, 13974),\n",
       "               ('MD589', 151, 14386),\n",
       "               ('MD589', 151, 15420),\n",
       "               ('MD589', 151, 15007),\n",
       "               ('MD589', 151, 15627),\n",
       "               ('MD589', 151, 15417),\n",
       "               ('MD589', 151, 14181),\n",
       "               ('MD589', 151, 15418),\n",
       "               ('MD589', 151, 15419),\n",
       "               ('MD589', 151, 16039),\n",
       "               ('MD589', 151, 14179),\n",
       "               ('MD589', 151, 15833),\n",
       "               ('MD589', 151, 14801),\n",
       "               ('MD589', 151, 15832),\n",
       "               ('MD589', 151, 16036),\n",
       "               ('MD589', 151, 16450),\n",
       "               ('MD589', 151, 15004),\n",
       "               ('MD589', 151, 15625),\n",
       "               ('MD589', 151, 15008),\n",
       "               ('MD589', 151, 16449),\n",
       "               ('MD589', 151, 14180)]],\n",
       "             'VLL': [[('MD589', 150, 7347),\n",
       "               ('MD589', 150, 8168),\n",
       "               ('MD589', 150, 8790),\n",
       "               ('MD589', 150, 7343),\n",
       "               ('MD589', 150, 7547),\n",
       "               ('MD589', 150, 7967),\n",
       "               ('MD589', 150, 8171),\n",
       "               ('MD589', 150, 8381),\n",
       "               ('MD589', 150, 8785),\n",
       "               ('MD589', 150, 7754),\n",
       "               ('MD589', 150, 8377),\n",
       "               ('MD589', 150, 8995),\n",
       "               ('MD589', 150, 8375),\n",
       "               ('MD589', 150, 7139),\n",
       "               ('MD589', 150, 7548),\n",
       "               ('MD589', 150, 7965),\n",
       "               ('MD589', 150, 8169),\n",
       "               ('MD589', 150, 8579),\n",
       "               ('MD589', 150, 7963),\n",
       "               ('MD589', 150, 8165),\n",
       "               ('MD589', 150, 8170),\n",
       "               ('MD589', 150, 8174),\n",
       "               ('MD589', 150, 8164),\n",
       "               ('MD589', 150, 7761),\n",
       "               ('MD589', 150, 8173),\n",
       "               ('MD589', 150, 8996),\n",
       "               ('MD589', 150, 7753),\n",
       "               ('MD589', 150, 7958),\n",
       "               ('MD589', 150, 7341),\n",
       "               ('MD589', 150, 8379)],\n",
       "              [('MD589', 151, 8368),\n",
       "               ('MD589', 151, 7350),\n",
       "               ('MD589', 151, 7760),\n",
       "               ('MD589', 151, 7345),\n",
       "               ('MD589', 151, 7550),\n",
       "               ('MD589', 151, 8381),\n",
       "               ('MD589', 151, 7138),\n",
       "               ('MD589', 151, 7140),\n",
       "               ('MD589', 151, 7967),\n",
       "               ('MD589', 151, 8574),\n",
       "               ('MD589', 151, 8169),\n",
       "               ('MD589', 151, 6933),\n",
       "               ('MD589', 151, 8788),\n",
       "               ('MD589', 151, 7551),\n",
       "               ('MD589', 151, 7958),\n",
       "               ('MD589', 151, 8377),\n",
       "               ('MD589', 151, 8164),\n",
       "               ('MD589', 151, 7964),\n",
       "               ('MD589', 151, 8790),\n",
       "               ('MD589', 151, 8792),\n",
       "               ('MD589', 151, 7346),\n",
       "               ('MD589', 151, 7763),\n",
       "               ('MD589', 151, 8793),\n",
       "               ('MD589', 151, 8378),\n",
       "               ('MD589', 151, 8582),\n",
       "               ('MD589', 151, 7349),\n",
       "               ('MD589', 151, 8784),\n",
       "               ('MD589', 151, 8379),\n",
       "               ('MD589', 151, 8171),\n",
       "               ('MD589', 151, 8578)],\n",
       "              [('MD594', 143, 14740),\n",
       "               ('MD594', 143, 15764),\n",
       "               ('MD594', 143, 14947),\n",
       "               ('MD594', 143, 14750),\n",
       "               ('MD594', 143, 14132),\n",
       "               ('MD594', 143, 15149),\n",
       "               ('MD594', 143, 14139),\n",
       "               ('MD594', 143, 15354),\n",
       "               ('MD594', 143, 14952),\n",
       "               ('MD594', 143, 15350),\n",
       "               ('MD594', 143, 14953),\n",
       "               ('MD594', 143, 14539),\n",
       "               ('MD594', 143, 14135),\n",
       "               ('MD594', 143, 14743),\n",
       "               ('MD594', 143, 15147),\n",
       "               ('MD594', 143, 15560),\n",
       "               ('MD594', 143, 15152),\n",
       "               ('MD594', 143, 14547),\n",
       "               ('MD594', 143, 15559),\n",
       "               ('MD594', 143, 14542),\n",
       "               ('MD594', 143, 14335),\n",
       "               ('MD594', 143, 15757),\n",
       "               ('MD594', 143, 13936),\n",
       "               ('MD594', 143, 14942),\n",
       "               ('MD594', 143, 14948),\n",
       "               ('MD594', 143, 14944),\n",
       "               ('MD594', 143, 15356),\n",
       "               ('MD594', 143, 15355),\n",
       "               ('MD594', 143, 15156),\n",
       "               ('MD594', 143, 14544)],\n",
       "              [('MD594', 144, 14547),\n",
       "               ('MD594', 144, 14548),\n",
       "               ('MD594', 144, 14343),\n",
       "               ('MD594', 144, 14139),\n",
       "               ('MD594', 144, 14550),\n",
       "               ('MD594', 144, 15359),\n",
       "               ('MD594', 144, 14748),\n",
       "               ('MD594', 144, 13933),\n",
       "               ('MD594', 144, 14953),\n",
       "               ('MD594', 144, 13931),\n",
       "               ('MD594', 144, 14543),\n",
       "               ('MD594', 144, 15155),\n",
       "               ('MD594', 144, 14752),\n",
       "               ('MD594', 144, 14342),\n",
       "               ('MD594', 144, 14750),\n",
       "               ('MD594', 144, 14141),\n",
       "               ('MD594', 144, 13732),\n",
       "               ('MD594', 144, 13932),\n",
       "               ('MD594', 144, 14545),\n",
       "               ('MD594', 144, 15361),\n",
       "               ('MD594', 144, 15156),\n",
       "               ('MD594', 144, 14954),\n",
       "               ('MD594', 144, 15562),\n",
       "               ('MD594', 144, 14544),\n",
       "               ('MD594', 144, 13736),\n",
       "               ('MD594', 144, 14140),\n",
       "               ('MD594', 144, 14142),\n",
       "               ('MD594', 144, 14955),\n",
       "               ('MD594', 144, 14137),\n",
       "               ('MD594', 144, 14951)]],\n",
       "             'sp5': [[('MD589', 151, 41779),\n",
       "               ('MD589', 151, 36800),\n",
       "               ('MD589', 151, 25681),\n",
       "               ('MD589', 151, 30003),\n",
       "               ('MD589', 151, 35562),\n",
       "               ('MD589', 151, 38496),\n",
       "               ('MD589', 151, 31236),\n",
       "               ('MD589', 151, 25682),\n",
       "               ('MD589', 151, 31854),\n",
       "               ('MD589', 151, 36594),\n",
       "               ('MD589', 151, 34531),\n",
       "               ('MD589', 151, 33915),\n",
       "               ('MD589', 151, 37056),\n",
       "               ('MD589', 151, 31238),\n",
       "               ('MD589', 151, 26711),\n",
       "               ('MD589', 151, 37466),\n",
       "               ('MD589', 151, 36643),\n",
       "               ('MD589', 151, 29797),\n",
       "               ('MD589', 151, 28770),\n",
       "               ('MD589', 151, 26713),\n",
       "               ('MD589', 151, 35356),\n",
       "               ('MD589', 151, 41985),\n",
       "               ('MD589', 151, 32474),\n",
       "               ('MD589', 151, 39498),\n",
       "               ('MD589', 151, 33297),\n",
       "               ('MD589', 151, 40351),\n",
       "               ('MD589', 151, 38289),\n",
       "               ('MD589', 151, 33502),\n",
       "               ('MD589', 151, 42608),\n",
       "               ('MD589', 151, 30619)],\n",
       "              [('MD594', 143, 45596),\n",
       "               ('MD594', 143, 37047),\n",
       "               ('MD594', 143, 33197),\n",
       "               ('MD594', 143, 38269),\n",
       "               ('MD594', 143, 32795),\n",
       "               ('MD594', 143, 27762),\n",
       "               ('MD594', 143, 18832),\n",
       "               ('MD594', 143, 28944),\n",
       "               ('MD594', 143, 32392),\n",
       "               ('MD594', 143, 32999),\n",
       "               ('MD594', 143, 30158),\n",
       "               ('MD594', 143, 19036),\n",
       "               ('MD594', 143, 19037),\n",
       "               ('MD594', 143, 30402),\n",
       "               ('MD594', 143, 31984),\n",
       "               ('MD594', 143, 31787),\n",
       "               ('MD594', 143, 28536),\n",
       "               ('MD594', 143, 31985),\n",
       "               ('MD594', 143, 44162),\n",
       "               ('MD594', 143, 35833),\n",
       "               ('MD594', 143, 29346),\n",
       "               ('MD594', 143, 30603),\n",
       "               ('MD594', 143, 32798),\n",
       "               ('MD594', 143, 22688),\n",
       "               ('MD594', 143, 45181),\n",
       "               ('MD594', 143, 29792),\n",
       "               ('MD594', 143, 33442),\n",
       "               ('MD594', 143, 20051),\n",
       "               ('MD594', 143, 39689),\n",
       "               ('MD594', 143, 35429)],\n",
       "              [('MD594', 144, 37049),\n",
       "               ('MD594', 144, 18224),\n",
       "               ('MD594', 144, 33442),\n",
       "               ('MD594', 144, 37048),\n",
       "               ('MD594', 144, 42979),\n",
       "               ('MD594', 144, 38717),\n",
       "               ('MD594', 144, 39732),\n",
       "               ('MD594', 144, 34416),\n",
       "               ('MD594', 144, 30967),\n",
       "               ('MD594', 144, 34821),\n",
       "               ('MD594', 144, 43550),\n",
       "               ('MD594', 144, 42167),\n",
       "               ('MD594', 144, 30564),\n",
       "               ('MD594', 144, 29955),\n",
       "               ('MD594', 144, 22690),\n",
       "               ('MD594', 144, 27560),\n",
       "               ('MD594', 144, 36038),\n",
       "               ('MD594', 144, 32997),\n",
       "               ('MD594', 144, 18228),\n",
       "               ('MD594', 144, 29792),\n",
       "               ('MD594', 144, 21674),\n",
       "               ('MD594', 144, 45614),\n",
       "               ('MD594', 144, 33405),\n",
       "               ('MD594', 144, 31375),\n",
       "               ('MD594', 144, 31819),\n",
       "               ('MD594', 144, 36439),\n",
       "               ('MD594', 144, 26343),\n",
       "               ('MD594', 144, 32188),\n",
       "               ('MD594', 144, 33806),\n",
       "               ('MD594', 144, 19647)]]})"
      ]
     },
     "execution_count": 11,
     "metadata": {},
     "output_type": "execute_result"
    }
   ],
   "source": [
    "indices_map"
   ]
  },
  {
   "cell_type": "code",
   "execution_count": null,
   "metadata": {
    "collapsed": false
   },
   "outputs": [],
   "source": [
    "hists0_allLandmarks = {name: np.concatenate(arrs) for name, arrs in hists0_allLandmarks.iteritems()}\n",
    "hists1_allLandmarks = {name: np.concatenate(arrs) for name, arrs in hists1_allLandmarks.iteritems()}\n",
    "hists2_allLandmarks = {name: np.concatenate(arrs) for name, arrs in hists2_allLandmarks.iteritems()}\n",
    "indices_map = {name: [(i,) + l for i, l in enumerate(chain(*indices))] for name, indices in indices_map.iteritems()}"
   ]
  },
  {
   "cell_type": "code",
   "execution_count": null,
   "metadata": {
    "collapsed": true
   },
   "outputs": [],
   "source": [
    "for name, arr in hists0_allLandmarks.iteritems():\n",
    "    bp.pack_ndarray_file(arr, output_dir + '/train/%(stack)s_%(name)s_histograms_l0.bp' % {'stack': stack, 'name': name})\n",
    "\n",
    "for name, arr in hists1_allLandmarks.iteritems():\n",
    "    bp.pack_ndarray_file(arr, output_dir + '/train/%(stack)s_%(name)s_histograms_l1.bp' % {'stack': stack, 'name': name})\n",
    "\n",
    "for name, arr in hists2_allLandmarks.iteritems():\n",
    "    bp.pack_ndarray_file(arr, output_dir + '/train/%(stack)s_%(name)s_histograms_l2.bp' % {'stack': stack, 'name': name})"
   ]
  },
  {
   "cell_type": "code",
   "execution_count": null,
   "metadata": {
    "collapsed": true
   },
   "outputs": [],
   "source": [
    "def save_table(data, fn):\n",
    "    with open(fn, 'w') as f:\n",
    "        for line in data:\n",
    "            f.write(' '.join([str(c) for c in line]) + '\\n')\n",
    "                \n",
    "def load_table(fn):\n",
    "    with open(fn, 'r') as f:\n",
    "        lines = f.readlines()\n",
    "    data = [l.split() for l in lines] \n",
    "    return data"
   ]
  },
  {
   "cell_type": "code",
   "execution_count": null,
   "metadata": {
    "collapsed": false
   },
   "outputs": [],
   "source": [
    "for name, ind_map in indices_map.iteritems():\n",
    "    save_table(ind_map, train_patches_jpg_dir + '/indices_map_%s.txt' % name)"
   ]
  },
  {
   "cell_type": "code",
   "execution_count": null,
   "metadata": {
    "collapsed": true
   },
   "outputs": [],
   "source": []
  }
 ],
 "metadata": {
  "kernelspec": {
   "display_name": "Python 2",
   "language": "python",
   "name": "python2"
  },
  "language_info": {
   "codemirror_mode": {
    "name": "ipython",
    "version": 2
   },
   "file_extension": ".py",
   "mimetype": "text/x-python",
   "name": "python",
   "nbconvert_exporter": "python",
   "pygments_lexer": "ipython2",
   "version": "2.7.3"
  }
 },
 "nbformat": 4,
 "nbformat_minor": 0
}
