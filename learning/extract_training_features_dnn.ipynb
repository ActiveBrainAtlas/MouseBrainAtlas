{
 "cells": [
  {
   "cell_type": "code",
   "execution_count": 1,
   "metadata": {
    "collapsed": false
   },
   "outputs": [],
   "source": [
    "%load_ext autoreload\n",
    "%autoreload 2\n",
    "\n",
    "import numpy as np\n",
    "\n",
    "import sys\n",
    "import os\n",
    "\n",
    "sys.path.append(os.environ['REPO_DIR'] + '/utilities')\n",
    "from utilities2015 import *\n",
    "\n",
    "import matplotlib.pyplot as plt\n",
    "%matplotlib inline\n",
    "\n",
    "import pandas as pd\n",
    "import mxnet as mx\n",
    "\n",
    "from joblib import Parallel, delayed\n",
    "import time\n",
    "\n",
    "from collections import defaultdict"
   ]
  },
  {
   "cell_type": "code",
   "execution_count": 2,
   "metadata": {
    "collapsed": true
   },
   "outputs": [],
   "source": [
    "patches_rootdir = '/home/yuncong/CSHL_data_patches/'\n",
    "model_dir = '/home/yuncong/mxnet_models/'"
   ]
  },
  {
   "cell_type": "code",
   "execution_count": 3,
   "metadata": {
    "collapsed": true
   },
   "outputs": [],
   "source": [
    "labels = ['BackG', '5N', '7n', '7N', '12N', 'Pn', 'VLL', \n",
    "          '6N', 'Amb', 'R', 'Tz', 'RtTg', 'LRt', 'LC', 'AP', 'sp5']\n",
    "\n",
    "labels_index = dict((j, i) for i, j in enumerate(labels[1:]))\n",
    "\n",
    "labels_from_surround = dict( (l+'_surround', l) for l in labels[1:])\n",
    "\n",
    "labels_surroundIncluded_list = labels[1:] + [l+'_surround' for l in labels[1:]]\n",
    "labels_surroundIncluded = set(labels_surroundIncluded_list)\n",
    "\n",
    "labels_surroundIncluded_index = dict((j, i) for i, j in enumerate(labels_surroundIncluded))\n",
    "\n",
    "colors = np.random.randint(0, 255, (len(labels_index), 3))"
   ]
  },
  {
   "cell_type": "code",
   "execution_count": 4,
   "metadata": {
    "collapsed": false
   },
   "outputs": [],
   "source": [
    "progress_bar = FloatProgress(min=0, max=np.inf)"
   ]
  },
  {
   "cell_type": "code",
   "execution_count": 5,
   "metadata": {
    "collapsed": true
   },
   "outputs": [],
   "source": [
    "num_sample_each_polygon = 10"
   ]
  },
  {
   "cell_type": "code",
   "execution_count": 6,
   "metadata": {
    "collapsed": false,
    "scrolled": true
   },
   "outputs": [
    {
     "name": "stderr",
     "output_type": "stream",
     "text": [
      "extract patches: 566.12 seconds\n"
     ]
    }
   ],
   "source": [
    "t = time.time()\n",
    "\n",
    "patches_allClasses = defaultdict(list)\n",
    "used_samples_allStacks = {}\n",
    "\n",
    "for stack in ['MD589']:\n",
    "    \n",
    "    used_samples = defaultdict(dict)\n",
    "\n",
    "    dm = DataManager(stack=stack)\n",
    "    stack_has_annotation = True\n",
    "\n",
    "    if stack_has_annotation:\n",
    "        table_filepath = os.path.join(patches_rootdir, '%(stack)s_indices_allLandmarks_allSections.h5'%{'stack':stack})\n",
    "        indices_allLandmarks_allSections = pd.read_hdf(table_filepath, 'indices_allLandmarks_allSections')\n",
    "        grid_parameters = pd.read_hdf(table_filepath, 'grid_parameters')\n",
    "        \n",
    "    patch_size, stride, w, h = grid_parameters.tolist()\n",
    "    half_size = patch_size/2\n",
    "    ys, xs = np.meshgrid(np.arange(half_size, h-half_size, stride), np.arange(half_size, w-half_size, stride),\n",
    "                     indexing='xy')\n",
    "    sample_locations = np.c_[xs.flat, ys.flat]\n",
    "    \n",
    "    first_bs_sec, last_bs_sec = section_range_lookup[stack]\n",
    "    first_detect_sec, last_detect_sec = detect_bbox_range_lookup[stack]\n",
    "\n",
    "    progress_bar.min = first_detect_sec\n",
    "    progress_bar.max = last_detect_sec\n",
    "    display(progress_bar)\n",
    "    \n",
    "    for sec in range(first_detect_sec, last_detect_sec+1):\n",
    "#     for sec in range(first_detect_sec, first_detect_sec+10):\n",
    "#     for sec in range(first_detect_sec, first_detect_sec+1):\n",
    "        \n",
    "        if sec not in indices_allLandmarks_allSections.columns:\n",
    "            continue\n",
    "\n",
    "        progress_bar.value = sec\n",
    "\n",
    "        dm.set_slice(sec)\n",
    "        dm._load_image(['rgb-jpg'])\n",
    "        \n",
    "        valid_labels = set(indices_allLandmarks_allSections[sec].dropna().index) & labels_surroundIncluded\n",
    "        \n",
    "        if len(valid_labels) == 0:\n",
    "            continue\n",
    "\n",
    "        for label in valid_labels:\n",
    " \n",
    "            indices_roi = indices_allLandmarks_allSections[sec][label]\n",
    "            n = len(indices_roi)\n",
    "            random_indices_roi = np.random.choice(indices_roi, min(num_sample_each_polygon, n), replace=False)\n",
    "            used_samples[sec][label] = random_indices_roi\n",
    "            sample_locations_roi = sample_locations[random_indices_roi]\n",
    "\n",
    "            t1 = time.time()\n",
    "\n",
    "            patches = np.asarray([dm.image_rgb_jpg[y-half_size:y+half_size, x-half_size:x+half_size]\n",
    "                                  for x, y in sample_locations_roi])\n",
    "\n",
    "            sys.stderr.write('collect: %.2f seconds\\n' % (time.time() - t1))\n",
    "            \n",
    "            patches_allClasses[label].append(patches.copy())\n",
    "\n",
    "            del patches, sample_locations_roi\n",
    "        \n",
    "    del sample_locations\n",
    "    \n",
    "    used_samples.default_factory = None\n",
    "    used_samples_allStacks[stack] = used_samples.copy()\n",
    "    del used_samples\n",
    "    \n",
    "patches_allClasses.default_factory = None\n",
    "\n",
    "patches_allClasses = dict([(l, np.concatenate(v)) for l, v in patches_allClasses.iteritems()])\n",
    "\n",
    "sys.stderr.write('extract patches: %.2f seconds\\n' % (time.time() - t)) # ~566s / stack"
   ]
  },
  {
   "cell_type": "code",
   "execution_count": 12,
   "metadata": {
    "collapsed": true
   },
   "outputs": [],
   "source": [
    "from skimage.exposure import rescale_intensity\n",
    "# from skimage.color import rgb2hsv"
   ]
  },
  {
   "cell_type": "code",
   "execution_count": 19,
   "metadata": {
    "collapsed": false,
    "scrolled": true
   },
   "outputs": [
    {
     "name": "stderr",
     "output_type": "stream",
     "text": [
      "convert to saturation: 33.38 seconds\n"
     ]
    }
   ],
   "source": [
    "# parallel: convert to saturation channel\n",
    "\n",
    "def convert_to_saturation(l, patches):\n",
    "    '''\n",
    "    patches for each class\n",
    "    '''\n",
    "    m = patches/255.\n",
    "    ma = m.max(axis=-1)\n",
    "    mi = m.min(axis=-1)\n",
    "    s = (ma-mi)/ma\n",
    "    s = np.array([rescale_intensity(1-ss) for ss in s])\n",
    "    s = (s*255).astype(np.uint8)\n",
    "    return (l, s)\n",
    "\n",
    "#     return (l, img_as_ubyte([rescale_intensity(1 - rgb2hsv(patch)[..., 1]) for patch in patches]))\n",
    "\n",
    "\n",
    "t = time.time()\n",
    "\n",
    "res = Parallel(n_jobs=8)(delayed(convert_to_saturation)(l, patches) for l, patches in patches_allClasses.iteritems())\n",
    "patches_allClasses_sat = dict(res)\n",
    "\n",
    "sys.stderr.write('convert to saturation: %.2f seconds\\n' % (time.time() - t)) # ~ 31 s"
   ]
  },
  {
   "cell_type": "code",
   "execution_count": null,
   "metadata": {
    "collapsed": false
   },
   "outputs": [],
   "source": [
    "# serial: convert to saturation channel\n",
    "\n",
    "t = time.time()\n",
    "\n",
    "patches_allClasses_sat = {}\n",
    "\n",
    "for l, patches in patches_allClasses.iteritems():\n",
    "    \n",
    "    m = patches/255.\n",
    "    ma = m.max(axis=-1)\n",
    "    mi = m.min(axis=-1)\n",
    "    s = (ma-mi)/ma\n",
    "    s = np.array([rescale_intensity(1-ss) for ss in s])\n",
    "    s = (s*255).astype(np.uint8)\n",
    "    patches_allClasses_sat[l] = s\n",
    "    \n",
    "sys.stderr.write('convert to saturation: %.2f seconds\\n' % (time.time() - t)) # ~ 80s"
   ]
  },
  {
   "cell_type": "code",
   "execution_count": 46,
   "metadata": {
    "collapsed": false,
    "scrolled": true
   },
   "outputs": [
    {
     "data": {
      "image/png": "[encoded data removed]",
      "text/plain": [
       "<matplotlib.figure.Figure at 0x7fc8de099c50>"
      ]
     },
     "metadata": {},
     "output_type": "display_data"
    }
   ],
   "source": [
    "# visualize saturation channel histogram\n",
    "patches = patches_allClasses['5N']\n",
    "m = patches/255.\n",
    "ma = m.max(axis=-1)\n",
    "mi = m.min(axis=-1)\n",
    "s = (ma-mi)/ma\n",
    "s = 1 - s\n",
    "\n",
    "fig, axes = plt.subplots(3,1, squeeze=True)\n",
    "axes[0].hist(s.flat, bins=np.arange(0,1,.01));\n",
    "axes[0].set_title('before rescale');\n",
    "axes[1].hist(rescale_intensity(s).flat, bins=np.arange(0,1,.01));\n",
    "axes[1].set_title('rescale all patches together');\n",
    "axes[2].hist(np.concatenate([rescale_intensity(ss) for ss in s]).flat, bins=np.arange(0,1,.01));\n",
    "axes[2].set_title('rescale each patch individually');\n",
    "fig.suptitle('saturation channel histogram');\n",
    "plt.tight_layout()\n",
    "plt.show()"
   ]
  },
  {
   "cell_type": "code",
   "execution_count": 20,
   "metadata": {
    "collapsed": false
   },
   "outputs": [
    {
     "data": {
      "text/plain": [
       "'/home/yuncong/CSHL_data_patches//train_patches_30perLM_v3'"
      ]
     },
     "execution_count": 20,
     "metadata": {},
     "output_type": "execute_result"
    }
   ],
   "source": [
    "training_patches_dir = patches_rootdir + '/train_patches_30perLM_v3'\n",
    "create_if_not_exists(training_patches_dir)"
   ]
  },
  {
   "cell_type": "code",
   "execution_count": 21,
   "metadata": {
    "collapsed": true
   },
   "outputs": [],
   "source": [
    "stack = 'MD589'"
   ]
  },
  {
   "cell_type": "code",
   "execution_count": 10,
   "metadata": {
    "collapsed": false
   },
   "outputs": [],
   "source": [
    "## save\n",
    "for l, vs in patches_allClasses.iteritems():\n",
    "    save_hdf(vs, training_patches_dir + '/%(stack)s_%(label)s.hdf' % {'stack':stack, 'label':l})\n",
    "    \n",
    "pickle.dump(used_samples_allStacks[stack], \n",
    "            open(patches_rootdir + '/%(stack)s_sampleIndices_30perLM.pkl' % {'stack': stack}, 'w'))"
   ]
  },
  {
   "cell_type": "code",
   "execution_count": null,
   "metadata": {
    "collapsed": false,
    "scrolled": true
   },
   "outputs": [],
   "source": [
    "## load\n",
    "patches_allClasses = {}\n",
    "\n",
    "for l in labels_surroundIncluded:\n",
    "    print l\n",
    "    vs = load_hdf(training_patches_dir + '/%(stack)s_%(label)s.hdf' % {'stack':stack, 'label':l})\n",
    "    patches_allClasses[l] = vs"
   ]
  },
  {
   "cell_type": "code",
   "execution_count": 22,
   "metadata": {
    "collapsed": true
   },
   "outputs": [],
   "source": [
    "## save\n",
    "for l, vs in patches_allClasses_sat.iteritems():\n",
    "    save_hdf(vs, training_patches_dir + '/%(stack)s_%(label)s_sat.hdf' % {'stack':stack, 'label':l})"
   ]
  },
  {
   "cell_type": "code",
   "execution_count": null,
   "metadata": {
    "collapsed": false,
    "scrolled": true
   },
   "outputs": [],
   "source": [
    "## load\n",
    "patches_allClasses_sat = {}\n",
    "\n",
    "for l in labels_surroundIncluded:\n",
    "    print l\n",
    "    vs = load_hdf(training_patches_dir + '/%(stack)s_%(label)s_sat.hdf' % {'stack':stack, 'label':l})\n",
    "    patches_allClasses_sat[l] = vs"
   ]
  },
  {
   "cell_type": "code",
   "execution_count": null,
   "metadata": {
    "collapsed": true
   },
   "outputs": [],
   "source": [
    "# patches_allClasses_reshaped = dict([( l, np.rollaxis(patches, 3, 1) ) \n",
    "#                                     for l, patches in patches_allClasses.iteritems()])"
   ]
  },
  {
   "cell_type": "code",
   "execution_count": 23,
   "metadata": {
    "collapsed": false
   },
   "outputs": [],
   "source": [
    "patches_allClasses_sat_reshaped = dict([(l, patches[:,None,:,:] ) \n",
    "                                        for l, patches in patches_allClasses_sat.iteritems()])"
   ]
  },
  {
   "cell_type": "code",
   "execution_count": 38,
   "metadata": {
    "collapsed": false,
    "scrolled": true
   },
   "outputs": [
    {
     "name": "stdout",
     "output_type": "stream",
     "text": [
      "{'Tz': 494, 'LRt_surround': 550, '7n': 1150, '5N': 480, 'RtTg': 890, 'Pn': 1030, 'LC': 170, '7N': 860, 'Amb': 120, '12N': 410, '12N_surround': 510, 'R_surround': 560, 'VLL_surround': 570, 'Pn_surround': 1190, 'LC_surround': 370, '7N_surround': 980, 'sp5': 1080, '6N_surround': 190, 'sp5_surround': 1080, 'Tz_surround': 670, 'AP': 174, 'R': 368, 'LRt': 350, 'RtTg_surround': 990, 'VLL': 437, 'AP_surround': 250, '5N_surround': 620, '7n_surround': 1250, '6N': 90, 'Amb_surround': 320}\n"
     ]
    }
   ],
   "source": [
    "class_len = dict(sorted([(label, len(patches)) for label, patches in patches_allClasses.iteritems()]))\n",
    "print class_len"
   ]
  },
  {
   "cell_type": "code",
   "execution_count": null,
   "metadata": {
    "collapsed": true
   },
   "outputs": [],
   "source": []
  },
  {
   "cell_type": "code",
   "execution_count": null,
   "metadata": {
    "collapsed": false
   },
   "outputs": [],
   "source": [
    "model_name='inception-stage1'\n",
    "model_iteration = 10\n",
    "init_model = mx.model.FeedForward.load(os.path.join(model_dir, model_name), \n",
    "                                     model_iteration, \n",
    "                                     ctx=mx.gpu())\n",
    "\n",
    "arg_params = init_model.arg_params.copy()\n",
    "arg_params.pop('fullc_bias');\n",
    "arg_params.pop('fullc_weight');\n",
    "arg_params['conv_1_weight'] = init_model.arg_params['conv_1_weight'].asnumpy()[:,[0],:,:]\n",
    "\n",
    "flatten_output = init_model.symbol.get_internals()['flatten_output']\n",
    "\n",
    "model = mx.model.FeedForward(ctx=mx.gpu(), symbol=flatten_output, num_epoch=model_iteration,\n",
    "                            arg_params=init_model.arg_params, aux_params=init_model.aux_params,\n",
    "                            allow_extra_params=True)"
   ]
  },
  {
   "cell_type": "code",
   "execution_count": null,
   "metadata": {
    "collapsed": true
   },
   "outputs": [],
   "source": [
    "# mean_img = mx.nd.load(os.path.join(model_dir, 'mean_224.nd'))['mean_img'].asnumpy()[0]"
   ]
  },
  {
   "cell_type": "code",
   "execution_count": null,
   "metadata": {
    "collapsed": true
   },
   "outputs": [],
   "source": [
    "# dm.set_slice(160)\n",
    "\n",
    "# img_hsv = rgb2hsv(dm.image_rgb_jpg[1500:1600, 1500:1600])\n",
    "\n",
    "# fig, axes = plt.subplots(3, 2, figsize=(2*3, 3*3))\n",
    "# axes[0, 0].imshow(img_hsv[..., 0], cmap=plt.cm.gray, vmin=0, vmax=1);\n",
    "# axes[0, 0].set_title('hue');\n",
    "# axes[0, 1].imshow(rescale_intensity(img_hsv[..., 0]), cmap=plt.cm.gray, vmin=0, vmax=1);\n",
    "# axes[0, 1].set_title('rescaled hue');\n",
    "# axes[1, 0].imshow((1-img_hsv[..., 1]), cmap=plt.cm.gray, vmin=0, vmax=1);\n",
    "# axes[1, 0].set_title('saturation');\n",
    "# axes[1, 1].imshow(rescale_intensity(1-img_hsv[..., 1]), cmap=plt.cm.gray, vmin=0, vmax=1);\n",
    "# axes[1, 1].set_title('rescaled saturation');\n",
    "# axes[2, 0].imshow(img_hsv[..., 2], cmap=plt.cm.gray, vmin=0, vmax=1);\n",
    "# axes[2, 0].set_title('value');\n",
    "# axes[2, 1].imshow(rescale_intensity(img_hsv[..., 2]), cmap=plt.cm.gray, vmin=0, vmax=1);\n",
    "# axes[2, 1].set_title('rescaled value');"
   ]
  },
  {
   "cell_type": "code",
   "execution_count": 25,
   "metadata": {
    "collapsed": false
   },
   "outputs": [
    {
     "data": {
      "image/png": "[encoded data removed]",
      "text/plain": [
       "<matplotlib.figure.Figure at 0x7fc9d4dd9390>"
      ]
     },
     "metadata": {},
     "output_type": "display_data"
    }
   ],
   "source": [
    "img_sat = patches_allClasses_sat['sp5'][np.random.randint(len(patches_allClasses_sat['sp5']))]\n",
    "# img_sat = patches_allClasses_sat_concatenated[np.random.randint(patches_allClasses_sat_concatenated.shape[0])]\n",
    "plt.imshow(img_sat, cmap=plt.cm.gray, vmin=0, vmax=255);\n",
    "plt.colorbar();"
   ]
  },
  {
   "cell_type": "code",
   "execution_count": 26,
   "metadata": {
    "collapsed": false
   },
   "outputs": [
    {
     "data": {
      "image/png": "[encoded data removed]",
      "text/plain": [
       "<matplotlib.figure.Figure at 0x7fc9d501c850>"
      ]
     },
     "metadata": {},
     "output_type": "display_data"
    }
   ],
   "source": [
    "mean_img = np.load(model_dir + '/saturation_mean_224.npy')\n",
    "\n",
    "plt.imshow(mean_img, cmap=plt.cm.gray, vmin=0, vmax=255);\n",
    "plt.title('mean image');\n",
    "plt.colorbar();"
   ]
  },
  {
   "cell_type": "code",
   "execution_count": 27,
   "metadata": {
    "collapsed": true
   },
   "outputs": [],
   "source": [
    "patches_allClasses_normalized = dict([(label, patches - mean_img) \n",
    "                                      for label, patches in patches_allClasses_sat_reshaped.iteritems()])"
   ]
  },
  {
   "cell_type": "code",
   "execution_count": null,
   "metadata": {
    "collapsed": true
   },
   "outputs": [],
   "source": []
  },
  {
   "cell_type": "code",
   "execution_count": 33,
   "metadata": {
    "collapsed": true
   },
   "outputs": [],
   "source": [
    "model_name = 'Sat16ClassFinetuned'\n",
    "model_iteration = 10\n",
    "\n",
    "model = mx.model.FeedForward.load(os.path.join(model_dir, model_name), model_iteration, ctx=mx.gpu())\n",
    "\n",
    "flatten_output = model.symbol.get_internals()['flatten_output']\n",
    "\n",
    "model = mx.model.FeedForward(ctx=mx.gpu(), symbol=flatten_output, num_epoch=model_iteration,\n",
    "                            arg_params=model.arg_params, aux_params=model.aux_params,\n",
    "                            allow_extra_params=True)"
   ]
  },
  {
   "cell_type": "code",
   "execution_count": 29,
   "metadata": {
    "collapsed": false
   },
   "outputs": [
    {
     "data": {
      "text/plain": [
       "'/home/yuncong/CSHL_patch_features_Sat16ClassFinetuned/train_v3'"
      ]
     },
     "execution_count": 29,
     "metadata": {},
     "output_type": "execute_result"
    }
   ],
   "source": [
    "training_features_dir = '/home/yuncong/CSHL_patch_features_%(model_name)s/train_v3' % {'model_name': model_name}\n",
    "create_if_not_exists(training_features_dir)"
   ]
  },
  {
   "cell_type": "code",
   "execution_count": 34,
   "metadata": {
    "collapsed": false,
    "scrolled": true
   },
   "outputs": [
    {
     "name": "stdout",
     "output_type": "stream",
     "text": [
      "Tz\n",
      "LRt_surround"
     ]
    },
    {
     "name": "stderr",
     "output_type": "stream",
     "text": [
      "predict: 2.39 seconds\n",
      "predict: 1.70 seconds\n"
     ]
    },
    {
     "name": "stdout",
     "output_type": "stream",
     "text": [
      "\n",
      "7n\n",
      "5N"
     ]
    },
    {
     "name": "stderr",
     "output_type": "stream",
     "text": [
      "predict: 3.14 seconds\n",
      "predict: 1.36 seconds\n"
     ]
    },
    {
     "name": "stdout",
     "output_type": "stream",
     "text": [
      "\n",
      "RtTg\n",
      "Pn"
     ]
    },
    {
     "name": "stderr",
     "output_type": "stream",
     "text": [
      "predict: 2.26 seconds\n",
      "predict: 2.67 seconds\n"
     ]
    },
    {
     "name": "stdout",
     "output_type": "stream",
     "text": [
      "\n",
      "VLL\n",
      "7N"
     ]
    },
    {
     "name": "stderr",
     "output_type": "stream",
     "text": [
      "predict: 1.16 seconds\n",
      "predict: 2.23 seconds\n"
     ]
    },
    {
     "name": "stdout",
     "output_type": "stream",
     "text": [
      "\n",
      "Amb\n",
      "12N"
     ]
    },
    {
     "name": "stderr",
     "output_type": "stream",
     "text": [
      "predict: 0.46 seconds\n",
      "predict: 1.14 seconds\n"
     ]
    },
    {
     "name": "stdout",
     "output_type": "stream",
     "text": [
      "\n",
      "12N_surround\n",
      "R_surround"
     ]
    },
    {
     "name": "stderr",
     "output_type": "stream",
     "text": [
      "predict: 1.32 seconds\n",
      "predict: 1.58 seconds\n"
     ]
    },
    {
     "name": "stdout",
     "output_type": "stream",
     "text": [
      "\n",
      "VLL_surround\n",
      "Pn_surround"
     ]
    },
    {
     "name": "stderr",
     "output_type": "stream",
     "text": [
      "predict: 1.55 seconds\n",
      "predict: 3.14 seconds\n"
     ]
    },
    {
     "name": "stdout",
     "output_type": "stream",
     "text": [
      "\n",
      "LC_surround\n",
      "7N_surround"
     ]
    },
    {
     "name": "stderr",
     "output_type": "stream",
     "text": [
      "predict: 1.13 seconds\n",
      "predict: 2.46 seconds\n"
     ]
    },
    {
     "name": "stdout",
     "output_type": "stream",
     "text": [
      "\n",
      "sp5\n",
      "6N_surround"
     ]
    },
    {
     "name": "stderr",
     "output_type": "stream",
     "text": [
      "predict: 2.69 seconds\n",
      "predict: 0.70 seconds\n"
     ]
    },
    {
     "name": "stdout",
     "output_type": "stream",
     "text": [
      "\n",
      "sp5_surround\n",
      "Tz_surround"
     ]
    },
    {
     "name": "stderr",
     "output_type": "stream",
     "text": [
      "predict: 2.66 seconds\n",
      "predict: 1.75 seconds\n"
     ]
    },
    {
     "name": "stdout",
     "output_type": "stream",
     "text": [
      "\n",
      "5N_surround\n",
      "R"
     ]
    },
    {
     "name": "stderr",
     "output_type": "stream",
     "text": [
      "predict: 1.57 seconds\n",
      "predict: 1.14 seconds\n"
     ]
    },
    {
     "name": "stdout",
     "output_type": "stream",
     "text": [
      "\n",
      "LRt\n",
      "RtTg_surround"
     ]
    },
    {
     "name": "stderr",
     "output_type": "stream",
     "text": [
      "predict: 0.89 seconds\n",
      "predict: 2.45 seconds\n"
     ]
    },
    {
     "name": "stdout",
     "output_type": "stream",
     "text": [
      "\n",
      "LC\n",
      "AP_surround"
     ]
    },
    {
     "name": "stderr",
     "output_type": "stream",
     "text": [
      "predict: 0.46 seconds\n",
      "predict: 0.68 seconds\n"
     ]
    },
    {
     "name": "stdout",
     "output_type": "stream",
     "text": [
      "\n",
      "AP\n",
      "7n_surround"
     ]
    },
    {
     "name": "stderr",
     "output_type": "stream",
     "text": [
      "predict: 0.45 seconds\n",
      "predict: 3.12 seconds\n"
     ]
    },
    {
     "name": "stdout",
     "output_type": "stream",
     "text": [
      "\n",
      "6N\n",
      "Amb_surround"
     ]
    },
    {
     "name": "stderr",
     "output_type": "stream",
     "text": [
      "predict: 0.22 seconds\n",
      "predict: 0.89 seconds\n"
     ]
    },
    {
     "name": "stdout",
     "output_type": "stream",
     "text": [
      "\n"
     ]
    }
   ],
   "source": [
    "for label, patches in patches_allClasses_normalized.iteritems():\n",
    "    \n",
    "    print label\n",
    "    \n",
    "    n = len(patches)\n",
    "    \n",
    "#     batch_size = 512 # increasing to 892 does not save any time\n",
    "    batch_size = min(class_len.values())\n",
    "\n",
    "    if n < batch_size:\n",
    "        sys.stderr.write('data size smaller than batch size: %s\\n' % label)\n",
    "        continue\n",
    "    \n",
    "    train_iter = mx.io.NDArrayIter(\n",
    "        patches, \n",
    "        np.zeros((n, ), np.int),\n",
    "        batch_size=batch_size,\n",
    "        shuffle=False\n",
    "    )\n",
    "\n",
    "    t = time.time()\n",
    "\n",
    "    features = model.predict(train_iter)\n",
    "\n",
    "    save_hdf(features, training_features_dir + '/%(stack)s_%(label)s_features.hdf' % \\\n",
    "             {'stack': stack, 'label': label})\n",
    "    \n",
    "    sys.stderr.write('predict: %.2f seconds\\n' % (time.time() - t)) # ~ 3s/class (sample per polygon 10)"
   ]
  },
  {
   "cell_type": "code",
   "execution_count": null,
   "metadata": {
    "collapsed": true
   },
   "outputs": [],
   "source": []
  }
 ],
 "metadata": {
  "kernelspec": {
   "display_name": "Python 2",
   "language": "python",
   "name": "python2"
  },
  "language_info": {
   "codemirror_mode": {
    "name": "ipython",
    "version": 2
   },
   "file_extension": ".py",
   "mimetype": "text/x-python",
   "name": "python",
   "nbconvert_exporter": "python",
   "pygments_lexer": "ipython2",
   "version": "2.7.6"
  }
 },
 "nbformat": 4,
 "nbformat_minor": 0
}
