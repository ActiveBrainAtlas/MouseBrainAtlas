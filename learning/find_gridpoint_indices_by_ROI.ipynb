{
 "cells": [
  {
   "cell_type": "code",
   "execution_count": 1,
   "metadata": {
    "collapsed": true
   },
   "outputs": [],
   "source": [
    "%reload_ext autoreload\n",
    "%autoreload 2\n",
    "\n",
    "import cv2\n",
    "\n",
    "import os\n",
    "import sys\n",
    "sys.path.append(os.path.join(os.environ['REPO_DIR'], 'utilities'))\n",
    "from utilities2015 import *\n",
    "\n",
    "from collections import defaultdict\n",
    "\n",
    "from matplotlib.path import Path\n",
    "%matplotlib inline"
   ]
  },
  {
   "cell_type": "code",
   "execution_count": 2,
   "metadata": {
    "collapsed": true
   },
   "outputs": [],
   "source": [
    "patch_dir = '/oasis/projects/nsf/csd395/yuncong/CSHL_data_patches/'"
   ]
  },
  {
   "cell_type": "code",
   "execution_count": 25,
   "metadata": {
    "collapsed": true
   },
   "outputs": [],
   "source": [
    "# stack = 'MD594'\n",
    "stack = 'MD589'\n",
    "dm = DataManager(stack=stack, load_mask=False)"
   ]
  },
  {
   "cell_type": "code",
   "execution_count": 26,
   "metadata": {
    "collapsed": false
   },
   "outputs": [],
   "source": [
    "#define roi1\n",
    "if stack == 'MD594':\n",
    "    first = 157\n",
    "    last = 166\n",
    "\n",
    "    box_x = 99\n",
    "    box_y = 140\n",
    "    box_w = 347\n",
    "    box_h = 190\n",
    "    \n",
    "elif stack == 'MD589':\n",
    "    first = 154\n",
    "    last = 168\n",
    "\n",
    "    box_x = 38\n",
    "    box_y = 137\n",
    "    box_w = 355\n",
    "    box_h = 221\n",
    "    \n",
    "xmin = max(half_size, box_x*32)\n",
    "xmax = min(dm.image_width-half_size-1, (box_x+box_w)*32)\n",
    "ymin = max(half_size, box_y*32)\n",
    "ymax = min(dm.image_height-half_size-1, (box_y+box_h)*32)"
   ]
  },
  {
   "cell_type": "code",
   "execution_count": 27,
   "metadata": {
    "collapsed": false
   },
   "outputs": [],
   "source": [
    "patch_size = 224\n",
    "half_size = patch_size/2\n",
    "stride = 56\n",
    "\n",
    "ys, xs = np.meshgrid(np.arange(half_size, dm.image_height - half_size, stride), \n",
    "                     np.arange(half_size, dm.image_width - half_size, stride),\n",
    "                     indexing='xy')\n",
    "\n",
    "sample_locations = np.c_[xs.flat, ys.flat]"
   ]
  },
  {
   "cell_type": "code",
   "execution_count": 28,
   "metadata": {
    "collapsed": false
   },
   "outputs": [
    {
     "name": "stdout",
     "output_type": "stream",
     "text": [
      "20019 patches in ROI\n",
      "20218 patches in ROI\n",
      "20623 patches in ROI\n",
      "20755 patches in ROI\n",
      "20898 patches in ROI\n",
      "20831 patches in ROI\n",
      "20877 patches in ROI\n",
      "20904 patches in ROI\n",
      "21049 patches in ROI\n",
      "21289 patches in ROI\n",
      "21248 patches in ROI\n",
      "21477 patches in ROI\n",
      "21502 patches in ROI\n",
      "21543 patches in ROI\n",
      "21793 patches in ROI\n"
     ]
    }
   ],
   "source": [
    "indices_roi_allSections = defaultdict(dict)\n",
    "\n",
    "for sec in range(first, last+1):\n",
    "\n",
    "    dm.set_slice(sec)\n",
    "\n",
    "    mask = dm.load_thumbnail_mask()\n",
    "    indices_fg = np.where(mask[sample_locations[:,1]/32, sample_locations[:,0]/32])[0]\n",
    "    indices_bg = np.setdiff1d(range(sample_locations.shape[0]), indices_fg)\n",
    "\n",
    "    indices_roi = np.where(np.all(np.c_[sample_locations[:,0] > xmin, sample_locations[:,1] > ymin, \n",
    "                                        sample_locations[:,0] < xmax, sample_locations[:,1] < ymax], axis=1))[0]\n",
    "\n",
    "    indices_roi = np.setdiff1d(indices_roi, indices_bg)\n",
    "    print len(indices_roi), 'patches in ROI'\n",
    "    \n",
    "    indices_roi_allSections[sec]['roi1'] = indices_roi"
   ]
  },
  {
   "cell_type": "code",
   "execution_count": 29,
   "metadata": {
    "collapsed": true
   },
   "outputs": [],
   "source": [
    "import pandas as pd"
   ]
  },
  {
   "cell_type": "code",
   "execution_count": 30,
   "metadata": {
    "collapsed": false
   },
   "outputs": [],
   "source": [
    "indices_roi_allSections_df = pd.DataFrame(indices_roi_allSections)"
   ]
  },
  {
   "cell_type": "code",
   "execution_count": 31,
   "metadata": {
    "collapsed": false
   },
   "outputs": [
    {
     "data": {
      "text/html": [
       "<div>\n",
       "<table border=\"1\" class=\"dataframe\">\n",
       "  <thead>\n",
       "    <tr style=\"text-align: right;\">\n",
       "      <th></th>\n",
       "      <th>154</th>\n",
       "      <th>155</th>\n",
       "      <th>156</th>\n",
       "      <th>157</th>\n",
       "      <th>158</th>\n",
       "      <th>159</th>\n",
       "      <th>160</th>\n",
       "      <th>161</th>\n",
       "      <th>162</th>\n",
       "      <th>163</th>\n",
       "      <th>164</th>\n",
       "      <th>165</th>\n",
       "      <th>166</th>\n",
       "      <th>167</th>\n",
       "      <th>168</th>\n",
       "    </tr>\n",
       "  </thead>\n",
       "  <tbody>\n",
       "    <tr>\n",
       "      <th>roi1</th>\n",
       "      <td>[4197, 4198, 4199, 4200, 4201, 4202, 4203, 420...</td>\n",
       "      <td>[4197, 4198, 4199, 4200, 4201, 4202, 4203, 420...</td>\n",
       "      <td>[4197, 4198, 4199, 4200, 4201, 4202, 4203, 420...</td>\n",
       "      <td>[4197, 4198, 4199, 4200, 4201, 4202, 4203, 420...</td>\n",
       "      <td>[4197, 4198, 4199, 4200, 4201, 4202, 4203, 420...</td>\n",
       "      <td>[4197, 4198, 4199, 4200, 4201, 4202, 4203, 420...</td>\n",
       "      <td>[4197, 4198, 4199, 4200, 4201, 4202, 4203, 420...</td>\n",
       "      <td>[4197, 4198, 4199, 4200, 4201, 4202, 4203, 420...</td>\n",
       "      <td>[4197, 4198, 4199, 4200, 4201, 4202, 4203, 420...</td>\n",
       "      <td>[4197, 4198, 4199, 4200, 4201, 4202, 4203, 420...</td>\n",
       "      <td>[4197, 4198, 4199, 4200, 4201, 4202, 4203, 420...</td>\n",
       "      <td>[4197, 4198, 4199, 4200, 4201, 4202, 4203, 420...</td>\n",
       "      <td>[4197, 4198, 4199, 4200, 4201, 4202, 4203, 420...</td>\n",
       "      <td>[4197, 4198, 4199, 4200, 4201, 4202, 4203, 420...</td>\n",
       "      <td>[4197, 4198, 4199, 4200, 4201, 4202, 4203, 420...</td>\n",
       "    </tr>\n",
       "  </tbody>\n",
       "</table>\n",
       "</div>"
      ],
      "text/plain": [
       "                                                    154  \\\n",
       "roi1  [4197, 4198, 4199, 4200, 4201, 4202, 4203, 420...   \n",
       "\n",
       "                                                    155  \\\n",
       "roi1  [4197, 4198, 4199, 4200, 4201, 4202, 4203, 420...   \n",
       "\n",
       "                                                    156  \\\n",
       "roi1  [4197, 4198, 4199, 4200, 4201, 4202, 4203, 420...   \n",
       "\n",
       "                                                    157  \\\n",
       "roi1  [4197, 4198, 4199, 4200, 4201, 4202, 4203, 420...   \n",
       "\n",
       "                                                    158  \\\n",
       "roi1  [4197, 4198, 4199, 4200, 4201, 4202, 4203, 420...   \n",
       "\n",
       "                                                    159  \\\n",
       "roi1  [4197, 4198, 4199, 4200, 4201, 4202, 4203, 420...   \n",
       "\n",
       "                                                    160  \\\n",
       "roi1  [4197, 4198, 4199, 4200, 4201, 4202, 4203, 420...   \n",
       "\n",
       "                                                    161  \\\n",
       "roi1  [4197, 4198, 4199, 4200, 4201, 4202, 4203, 420...   \n",
       "\n",
       "                                                    162  \\\n",
       "roi1  [4197, 4198, 4199, 4200, 4201, 4202, 4203, 420...   \n",
       "\n",
       "                                                    163  \\\n",
       "roi1  [4197, 4198, 4199, 4200, 4201, 4202, 4203, 420...   \n",
       "\n",
       "                                                    164  \\\n",
       "roi1  [4197, 4198, 4199, 4200, 4201, 4202, 4203, 420...   \n",
       "\n",
       "                                                    165  \\\n",
       "roi1  [4197, 4198, 4199, 4200, 4201, 4202, 4203, 420...   \n",
       "\n",
       "                                                    166  \\\n",
       "roi1  [4197, 4198, 4199, 4200, 4201, 4202, 4203, 420...   \n",
       "\n",
       "                                                    167  \\\n",
       "roi1  [4197, 4198, 4199, 4200, 4201, 4202, 4203, 420...   \n",
       "\n",
       "                                                    168  \n",
       "roi1  [4197, 4198, 4199, 4200, 4201, 4202, 4203, 420...  "
      ]
     },
     "execution_count": 31,
     "metadata": {},
     "output_type": "execute_result"
    }
   ],
   "source": [
    "indices_roi_allSections_df"
   ]
  },
  {
   "cell_type": "code",
   "execution_count": 32,
   "metadata": {
    "collapsed": true
   },
   "outputs": [],
   "source": [
    "dump_path = os.path.join(patch_dir, '%(stack)s_indices_allROIs_allSections.h5'%{'stack':stack})"
   ]
  },
  {
   "cell_type": "code",
   "execution_count": 33,
   "metadata": {
    "collapsed": false
   },
   "outputs": [
    {
     "name": "stderr",
     "output_type": "stream",
     "text": [
      "/oasis/projects/nsf/csd181/yuncong/virtualenv-1.9.1/yuncongve/lib/python2.7/site-packages/pandas/core/generic.py:939: PerformanceWarning: \n",
      "your performance may suffer as PyTables will pickle object types that it cannot\n",
      "map directly to c-types [inferred_type->mixed,key->block0_values] [items->[154, 155, 156, 157, 158, 159, 160, 161, 162, 163, 164, 165, 166, 167, 168]]\n",
      "\n",
      "  return pytables.to_hdf(path_or_buf, key, self, **kwargs)\n"
     ]
    }
   ],
   "source": [
    "indices_roi_allSections_df.to_hdf(dump_path, 'indices_allROIs_allSections')\n",
    "pd.Series([patch_size, stride, dm.image_width, dm.image_height]).to_hdf(dump_path, 'grid_parameters')"
   ]
  },
  {
   "cell_type": "code",
   "execution_count": null,
   "metadata": {
    "collapsed": true
   },
   "outputs": [],
   "source": []
  }
 ],
 "metadata": {
  "kernelspec": {
   "display_name": "Python 2",
   "language": "python",
   "name": "python2"
  }
 },
 "nbformat": 4,
 "nbformat_minor": 0
}
