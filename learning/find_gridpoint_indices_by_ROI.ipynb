{
 "cells": [
  {
   "cell_type": "code",
   "execution_count": 4,
   "metadata": {
    "collapsed": true
   },
   "outputs": [],
   "source": [
    "%reload_ext autoreload\n",
    "%autoreload 2\n",
    "\n",
    "import cv2\n",
    "\n",
    "import os\n",
    "import sys\n",
    "sys.path.append(os.path.join(os.environ['REPO_DIR'], 'utilities'))\n",
    "from utilities2015 import *\n",
    "\n",
    "from collections import defaultdict\n",
    "\n",
    "from matplotlib.path import Path\n",
    "%matplotlib inline\n",
    "\n",
    "import pandas as pd"
   ]
  },
  {
   "cell_type": "code",
   "execution_count": 2,
   "metadata": {
    "collapsed": true
   },
   "outputs": [],
   "source": [
    "patch_dir = '/oasis/projects/nsf/csd395/yuncong/CSHL_data_patches/'"
   ]
  },
  {
   "cell_type": "code",
   "execution_count": null,
   "metadata": {
    "collapsed": false,
    "scrolled": true
   },
   "outputs": [],
   "source": [
    "for stack in ['MD589']:\n",
    "# for stack in ['MD585', 'MD593', 'MD592', 'MD590', 'MD591', 'MD595', 'MD598', 'MD602']:\n",
    "\n",
    "    print stack\n",
    "\n",
    "    box_x, box_y, box_w, box_h = detect_bbox_lookup[stack]\n",
    "    first, last = detect_bbox_range_lookup[stack]\n",
    "\n",
    "    patch_size = 224\n",
    "    half_size = patch_size/2\n",
    "    stride = 56\n",
    "\n",
    "    dm = DataManager(stack=stack)\n",
    "\n",
    "    ys, xs = np.meshgrid(np.arange(half_size, dm.image_height - half_size, stride), \n",
    "                         np.arange(half_size, dm.image_width - half_size, stride),\n",
    "                         indexing='xy')\n",
    "\n",
    "    sample_locations = np.c_[xs.flat, ys.flat]\n",
    "\n",
    "\n",
    "    xmin = max(half_size, box_x*32)\n",
    "    xmax = min(dm.image_width-half_size-1, (box_x+box_w)*32)\n",
    "    ymin = max(half_size, box_y*32)\n",
    "    ymax = min(dm.image_height-half_size-1, (box_y+box_h)*32)\n",
    "\n",
    "    ######################\n",
    "\n",
    "    indices_roi_allSections = defaultdict(dict)\n",
    "\n",
    "    for sec in range(first, last+1):\n",
    "\n",
    "        dm.set_slice(sec)\n",
    "\n",
    "        mask = dm.load_thumbnail_mask()\n",
    "        indices_fg = np.where(mask[sample_locations[:,1]/32, sample_locations[:,0]/32])[0]\n",
    "        indices_bg = np.setdiff1d(range(sample_locations.shape[0]), indices_fg)\n",
    "\n",
    "        indices_roi = np.where(np.all(np.c_[sample_locations[:,0] > xmin, sample_locations[:,1] > ymin, \n",
    "                                            sample_locations[:,0] < xmax, sample_locations[:,1] < ymax], axis=1))[0]\n",
    "\n",
    "        indices_roi = np.setdiff1d(indices_roi, indices_bg)\n",
    "        print len(indices_roi), 'patches in ROI'\n",
    "\n",
    "        indices_roi_allSections[sec]['roi1'] = indices_roi\n",
    "\n",
    "\n",
    "    indices_roi_allSections_df = pd.DataFrame(indices_roi_allSections)\n",
    "\n",
    "    \n",
    "    table_filepath = os.path.join(patch_dir, '%(stack)s_indices_allROIs_allSections.h5'%{'stack':stack})\n",
    "    indices_roi_allSections_df.to_hdf(table_filepath, 'indices_allROIs_allSections')\n",
    "    pd.Series([patch_size, stride, dm.image_width, dm.image_height]).to_hdf(table_filepath, 'grid_parameters')\n",
    "\n",
    "#     dump_path = os.path.join(patch_dir, '%(stack)s_indices_allROIs_allSections.h5'%{'stack':stack})\n",
    "#     indices_roi_allSections_df.to_hdf(dump_path, 'indices_allROIs_allSections')\n",
    "#     pd.Series([patch_size, stride, dm.image_width, dm.image_height]).to_hdf(dump_path, 'grid_parameters')"
   ]
  },
  {
   "cell_type": "code",
   "execution_count": 15,
   "metadata": {
    "collapsed": false
   },
   "outputs": [
    {
     "data": {
      "text/html": [
       "<div>\n",
       "<table border=\"1\" class=\"dataframe\">\n",
       "  <thead>\n",
       "    <tr style=\"text-align: right;\">\n",
       "      <th></th>\n",
       "      <th>150</th>\n",
       "      <th>151</th>\n",
       "      <th>152</th>\n",
       "      <th>153</th>\n",
       "      <th>154</th>\n",
       "      <th>155</th>\n",
       "      <th>156</th>\n",
       "      <th>157</th>\n",
       "      <th>158</th>\n",
       "      <th>159</th>\n",
       "      <th>...</th>\n",
       "      <th>307</th>\n",
       "      <th>308</th>\n",
       "      <th>309</th>\n",
       "      <th>310</th>\n",
       "      <th>311</th>\n",
       "      <th>312</th>\n",
       "      <th>313</th>\n",
       "      <th>314</th>\n",
       "      <th>315</th>\n",
       "      <th>316</th>\n",
       "    </tr>\n",
       "  </thead>\n",
       "  <tbody>\n",
       "    <tr>\n",
       "      <th>roi1</th>\n",
       "      <td>[4197, 4198, 4199, 4200, 4201, 4202, 4203, 420...</td>\n",
       "      <td>[4197, 4198, 4199, 4200, 4201, 4202, 4203, 420...</td>\n",
       "      <td>[4197, 4198, 4199, 4200, 4201, 4202, 4203, 420...</td>\n",
       "      <td>[4197, 4198, 4199, 4200, 4201, 4202, 4203, 420...</td>\n",
       "      <td>[4197, 4198, 4199, 4200, 4201, 4202, 4203, 420...</td>\n",
       "      <td>[4197, 4198, 4199, 4200, 4201, 4202, 4203, 420...</td>\n",
       "      <td>[4197, 4198, 4199, 4200, 4201, 4202, 4203, 420...</td>\n",
       "      <td>[4197, 4198, 4199, 4200, 4201, 4202, 4203, 420...</td>\n",
       "      <td>[4197, 4198, 4199, 4200, 4201, 4202, 4203, 420...</td>\n",
       "      <td>[4197, 4198, 4199, 4200, 4201, 4202, 4203, 420...</td>\n",
       "      <td>...</td>\n",
       "      <td>[4197, 4198, 4199, 4200, 4201, 4202, 4203, 420...</td>\n",
       "      <td>[4197, 4198, 4199, 4200, 4201, 4202, 4203, 420...</td>\n",
       "      <td>[4197, 4198, 4199, 4200, 4201, 4202, 4203, 420...</td>\n",
       "      <td>[4197, 4198, 4199, 4200, 4201, 4202, 4203, 420...</td>\n",
       "      <td>[4197, 4198, 4199, 4200, 4201, 4202, 4203, 420...</td>\n",
       "      <td>[4197, 4198, 4199, 4200, 4201, 4202, 4203, 420...</td>\n",
       "      <td>[4197, 4198, 4199, 4200, 4201, 4202, 4203, 420...</td>\n",
       "      <td>[4197, 4198, 4199, 4200, 4201, 4202, 4203, 420...</td>\n",
       "      <td>[4197, 4198, 4199, 4200, 4201, 4202, 4203, 420...</td>\n",
       "      <td>[4197, 4198, 4199, 4200, 4201, 4202, 4203, 420...</td>\n",
       "    </tr>\n",
       "  </tbody>\n",
       "</table>\n",
       "<p>1 rows × 167 columns</p>\n",
       "</div>"
      ],
      "text/plain": [
       "                                                    150  \\\n",
       "roi1  [4197, 4198, 4199, 4200, 4201, 4202, 4203, 420...   \n",
       "\n",
       "                                                    151  \\\n",
       "roi1  [4197, 4198, 4199, 4200, 4201, 4202, 4203, 420...   \n",
       "\n",
       "                                                    152  \\\n",
       "roi1  [4197, 4198, 4199, 4200, 4201, 4202, 4203, 420...   \n",
       "\n",
       "                                                    153  \\\n",
       "roi1  [4197, 4198, 4199, 4200, 4201, 4202, 4203, 420...   \n",
       "\n",
       "                                                    154  \\\n",
       "roi1  [4197, 4198, 4199, 4200, 4201, 4202, 4203, 420...   \n",
       "\n",
       "                                                    155  \\\n",
       "roi1  [4197, 4198, 4199, 4200, 4201, 4202, 4203, 420...   \n",
       "\n",
       "                                                    156  \\\n",
       "roi1  [4197, 4198, 4199, 4200, 4201, 4202, 4203, 420...   \n",
       "\n",
       "                                                    157  \\\n",
       "roi1  [4197, 4198, 4199, 4200, 4201, 4202, 4203, 420...   \n",
       "\n",
       "                                                    158  \\\n",
       "roi1  [4197, 4198, 4199, 4200, 4201, 4202, 4203, 420...   \n",
       "\n",
       "                                                    159  \\\n",
       "roi1  [4197, 4198, 4199, 4200, 4201, 4202, 4203, 420...   \n",
       "\n",
       "                            ...                          \\\n",
       "roi1                        ...                           \n",
       "\n",
       "                                                    307  \\\n",
       "roi1  [4197, 4198, 4199, 4200, 4201, 4202, 4203, 420...   \n",
       "\n",
       "                                                    308  \\\n",
       "roi1  [4197, 4198, 4199, 4200, 4201, 4202, 4203, 420...   \n",
       "\n",
       "                                                    309  \\\n",
       "roi1  [4197, 4198, 4199, 4200, 4201, 4202, 4203, 420...   \n",
       "\n",
       "                                                    310  \\\n",
       "roi1  [4197, 4198, 4199, 4200, 4201, 4202, 4203, 420...   \n",
       "\n",
       "                                                    311  \\\n",
       "roi1  [4197, 4198, 4199, 4200, 4201, 4202, 4203, 420...   \n",
       "\n",
       "                                                    312  \\\n",
       "roi1  [4197, 4198, 4199, 4200, 4201, 4202, 4203, 420...   \n",
       "\n",
       "                                                    313  \\\n",
       "roi1  [4197, 4198, 4199, 4200, 4201, 4202, 4203, 420...   \n",
       "\n",
       "                                                    314  \\\n",
       "roi1  [4197, 4198, 4199, 4200, 4201, 4202, 4203, 420...   \n",
       "\n",
       "                                                    315  \\\n",
       "roi1  [4197, 4198, 4199, 4200, 4201, 4202, 4203, 420...   \n",
       "\n",
       "                                                    316  \n",
       "roi1  [4197, 4198, 4199, 4200, 4201, 4202, 4203, 420...  \n",
       "\n",
       "[1 rows x 167 columns]"
      ]
     },
     "execution_count": 15,
     "metadata": {},
     "output_type": "execute_result"
    }
   ],
   "source": [
    "indices_roi_allSections_df"
   ]
  },
  {
   "cell_type": "code",
   "execution_count": 16,
   "metadata": {
    "collapsed": false
   },
   "outputs": [
    {
     "data": {
      "text/plain": [
       "0"
      ]
     },
     "execution_count": 16,
     "metadata": {},
     "output_type": "execute_result"
    }
   ],
   "source": [
    "# sync with workstation\n",
    "\n",
    "workstation_patch_dir = '/home/yuncong/CSHL_data_patches'\n",
    "cmd = 'scp %(fn)s yuncong@132.239.73.151:%(dest)s' % {'fn': table_filepath, 'dest': workstation_patch_dir}\n",
    "os.system(cmd)"
   ]
  },
  {
   "cell_type": "code",
   "execution_count": null,
   "metadata": {
    "collapsed": true
   },
   "outputs": [],
   "source": []
  }
 ],
 "metadata": {
  "kernelspec": {
   "display_name": "Python 2",
   "language": "python",
   "name": "python2"
  },
  "language_info": {
   "codemirror_mode": {
    "name": "ipython",
    "version": 2
   },
   "file_extension": ".py",
   "mimetype": "text/x-python",
   "name": "python",
   "nbconvert_exporter": "python",
   "pygments_lexer": "ipython2",
   "version": "2.7.3"
  }
 },
 "nbformat": 4,
 "nbformat_minor": 0
}
