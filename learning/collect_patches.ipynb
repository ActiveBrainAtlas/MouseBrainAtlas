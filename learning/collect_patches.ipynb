{
 "cells": [
  {
   "cell_type": "code",
   "execution_count": 1,
   "metadata": {
    "collapsed": true
   },
   "outputs": [],
   "source": [
    "%reload_ext autoreload\n",
    "%autoreload 2\n",
    "\n",
    "import cv2\n",
    "\n",
    "import os\n",
    "import sys\n",
    "sys.path.append(os.path.join(os.environ['REPO_DIR'], 'utilities'))\n",
    "from utilities2015 import *\n",
    "\n",
    "from collections import defaultdict\n",
    "\n",
    "from matplotlib.path import Path\n",
    "%matplotlib inline"
   ]
  },
  {
   "cell_type": "code",
   "execution_count": 2,
   "metadata": {
    "collapsed": false
   },
   "outputs": [
    {
     "name": "stderr",
     "output_type": "stream",
     "text": [
      "/oasis/projects/nsf/csd181/yuncong/virtualenv-1.9.1/yuncongve/lib/python2.7/site-packages/PIL/Image.py:2224: DecompressionBombWarning: Image size (167180288 pixels) exceeds limit of 89478485 pixels, could be decompression bomb DOS attack.\n",
      "  DecompressionBombWarning)\n"
     ]
    }
   ],
   "source": [
    "# stack = 'MD589'\n",
    "# sec = 165\n",
    "\n",
    "stack = 'MD594'\n",
    "sec = 289\n",
    "\n",
    "dm = DataManager(stack=stack, section=sec, segm_params_id='tSLIC200', load_mask=False)\n",
    "\n",
    "dm._load_image(['rgb'])"
   ]
  },
  {
   "cell_type": "code",
   "execution_count": 3,
   "metadata": {
    "collapsed": false
   },
   "outputs": [],
   "source": [
    "patch_size = 224\n",
    "half_size = patch_size/2\n",
    "stride = 56\n",
    "\n",
    "h, w = dm.image_rgb.shape[:2]\n",
    "\n",
    "ys, xs = np.meshgrid(np.arange(half_size, h-half_size, stride), np.arange(half_size, w-half_size, stride),\n",
    "                     indexing='xy')\n",
    "    \n",
    "sample_locations = np.c_[xs.flat, ys.flat]"
   ]
  },
  {
   "cell_type": "code",
   "execution_count": 4,
   "metadata": {
    "collapsed": false
   },
   "outputs": [
    {
     "data": {
      "text/plain": [
       "(254, 203)"
      ]
     },
     "execution_count": 4,
     "metadata": {},
     "output_type": "execute_result"
    }
   ],
   "source": [
    "ys.shape"
   ]
  },
  {
   "cell_type": "code",
   "execution_count": 21,
   "metadata": {
    "collapsed": false
   },
   "outputs": [],
   "source": [
    "# mask = imread(dm.data_dir+'/%(stack)s_thumbnail_aligned_cropped_mask/%(stack)s_%(slice_str)s_thumbnail_aligned_cropped_mask.png' % \\\n",
    "#        {'stack': dm.stack, 'slice_str': dm.slice_str}) > 0\n",
    "dm.load_thumbnail_mask()\n",
    "mask = dm.thumbmail_mask.astype(np.bool)\n",
    "# mask_lossless = rescale(mask, 32)"
   ]
  },
  {
   "cell_type": "code",
   "execution_count": 6,
   "metadata": {
    "collapsed": false
   },
   "outputs": [
    {
     "name": "stdout",
     "output_type": "stream",
     "text": [
      "51562 patches\n"
     ]
    }
   ],
   "source": [
    "patches = []\n",
    "\n",
    "for x, y in sample_locations:\n",
    "\n",
    "    patch = dm.image_rgb[y-half_size:y+half_size, x-half_size:x+half_size]\n",
    "    patches.append(patch)\n",
    "        \n",
    "print len(patches), 'patches'"
   ]
  },
  {
   "cell_type": "code",
   "execution_count": 7,
   "metadata": {
    "collapsed": false
   },
   "outputs": [],
   "source": [
    "output_dir = '/home/yuncong/CSHL_data_patches/'+ stack +'_patches/%04d'%sec\n",
    "if not os.path.exists(output_dir):\n",
    "    os.makedirs(output_dir)    "
   ]
  },
  {
   "cell_type": "code",
   "execution_count": 8,
   "metadata": {
    "collapsed": false
   },
   "outputs": [
    {
     "name": "stderr",
     "output_type": "stream",
     "text": [
      "/oasis/projects/nsf/csd181/yuncong/virtualenv-1.9.1/yuncongve/lib/python2.7/site-packages/skimage/util/dtype.py:111: UserWarning: Possible precision loss when converting from float64 to uint8\n",
      "  \"%s to %s\" % (dtypeobj_in, dtypeobj))\n"
     ]
    }
   ],
   "source": [
    "sample_locations_inMask = []\n",
    "sample_indices_inMask = []\n",
    "\n",
    "for i, p in enumerate(patches):\n",
    "    x, y = sample_locations[i]\n",
    "    if mask[y/32,x/32]:\n",
    "        sample_locations_inMask.append((x,y))\n",
    "        sample_indices_inMask.append(i)\n",
    "        cv2.imwrite(output_dir + '/%08d.jpg'%i, img_as_ubyte(p[..., ::-1]))"
   ]
  },
  {
   "cell_type": "code",
   "execution_count": 9,
   "metadata": {
    "collapsed": true
   },
   "outputs": [],
   "source": [
    "np.save('/home/yuncong/CSHL_data_patches/'+stack+'_%04d_sample_locations_inMask.npy'%sec, \n",
    "        np.asarray(sample_locations_inMask))"
   ]
  },
  {
   "cell_type": "code",
   "execution_count": null,
   "metadata": {
    "collapsed": true
   },
   "outputs": [],
   "source": []
  },
  {
   "cell_type": "code",
   "execution_count": 10,
   "metadata": {
    "collapsed": true
   },
   "outputs": [],
   "source": [
    "output_dir2 = '/home/yuncong/CSHL_data_patches/'+ stack +'_patches/%04d_reduced'%sec\n",
    "if not os.path.exists(output_dir2):\n",
    "    os.makedirs(output_dir2)"
   ]
  },
  {
   "cell_type": "code",
   "execution_count": 22,
   "metadata": {
    "collapsed": true
   },
   "outputs": [],
   "source": [
    "# MD589_165\n",
    "# box_x = 43\n",
    "# box_y = 205\n",
    "# box_w = 170\n",
    "# box_h = 143\n",
    "# xmin = box_x*32\n",
    "# xmax = (box_x+box_w)*32\n",
    "# ymin = box_y*32\n",
    "# ymax = (box_y+box_h)*32\n",
    "\n",
    "# MD594_289\n",
    "box_x = 37\n",
    "box_y = 122\n",
    "box_w = 393\n",
    "box_h = 219\n",
    "xmin = box_x*32\n",
    "xmax = (box_x+box_w)*32\n",
    "ymin = box_y*32\n",
    "ymax = (box_y+box_h)*32"
   ]
  },
  {
   "cell_type": "code",
   "execution_count": 24,
   "metadata": {
    "collapsed": false
   },
   "outputs": [
    {
     "name": "stdout",
     "output_type": "stream",
     "text": [
      "23435 patches\n"
     ]
    }
   ],
   "source": [
    "reduced_sample_indices = []\n",
    "for i, (c,r) in enumerate(sample_locations):\n",
    "    if r > ymin and r < ymax and c > xmin and c < xmax:\n",
    "        if mask[r/32,c/32]:\n",
    "            reduced_sample_indices.append(i)\n",
    "            \n",
    "print len(reduced_sample_indices), 'patches'"
   ]
  },
  {
   "cell_type": "code",
   "execution_count": 25,
   "metadata": {
    "collapsed": true
   },
   "outputs": [],
   "source": [
    "from joblib import delayed, Parallel"
   ]
  },
  {
   "cell_type": "code",
   "execution_count": null,
   "metadata": {
    "collapsed": false
   },
   "outputs": [],
   "source": [
    "# _ = Parallel(n_jobs=16)(delayed(os.system)('ln -s %(f1)s %(f2)s'%{'f1': output_dir + '/%08d.jpg'%i,\n",
    "#                                     'f2': output_dir2 + '/%08d.jpg'%i}) for i in reduced_sample_indices)"
   ]
  },
  {
   "cell_type": "code",
   "execution_count": null,
   "metadata": {
    "collapsed": true
   },
   "outputs": [],
   "source": [
    "# output_dir3 = '/home/yuncong/CSHL_data_patches/'+ stack +'_patches/%04d_reduced_cp'%sec\n",
    "# if not os.path.exists(output_dir3):\n",
    "#     os.makedirs(output_dir3)"
   ]
  },
  {
   "cell_type": "code",
   "execution_count": 27,
   "metadata": {
    "collapsed": false
   },
   "outputs": [
    {
     "name": "stdout",
     "output_type": "stream",
     "text": [
      "172.332828045\n"
     ]
    }
   ],
   "source": [
    "import time\n",
    "t = time.time()\n",
    "\n",
    "_ = Parallel(n_jobs=16)(delayed(os.system)('cp %(f1)s %(f2)s'%{'f1': output_dir + '/%08d.jpg'%i,\n",
    "                                            'f2': output_dir2 + '/%08d.jpg'%i}) for i in reduced_sample_indices)\n",
    "\n",
    "print time.time() - t"
   ]
  },
  {
   "cell_type": "code",
   "execution_count": 28,
   "metadata": {
    "collapsed": false
   },
   "outputs": [
    {
     "name": "stdout",
     "output_type": "stream",
     "text": [
      "tar -I pigz -cf MD594_0289_reduced.tar 0289_reduced\n"
     ]
    }
   ],
   "source": [
    "print 'tar -I pigz -cf ' + stack + '_%04d_reduced.tar '%sec + '%04d_reduced'%sec"
   ]
  },
  {
   "cell_type": "code",
   "execution_count": 29,
   "metadata": {
    "collapsed": false
   },
   "outputs": [],
   "source": [
    "np.save('/home/yuncong/CSHL_data_patches/'+stack+'_%04d_sample_locations_reduced.npy'%sec, \n",
    "        sample_locations[reduced_sample_indices])"
   ]
  },
  {
   "cell_type": "code",
   "execution_count": null,
   "metadata": {
    "collapsed": true
   },
   "outputs": [],
   "source": []
  },
  {
   "cell_type": "code",
   "execution_count": null,
   "metadata": {
    "collapsed": false
   },
   "outputs": [],
   "source": [
    "# for i in reduced_sample_indices:\n",
    "#     os.system('ln -s %(f1)s %(f2)s'%{'f1': output_dir + '/%08d.jpg'%i,\n",
    "#                                     'f2': output_dir2 + '/%08d.jpg'%i})"
   ]
  }
 ],
 "metadata": {
  "kernelspec": {
   "display_name": "Python 2",
   "language": "python",
   "name": "python2"
  },
  "language_info": {
   "codemirror_mode": {
    "name": "ipython",
    "version": 2
   },
   "file_extension": ".py",
   "mimetype": "text/x-python",
   "name": "python",
   "nbconvert_exporter": "python",
   "pygments_lexer": "ipython2",
   "version": "2.7.3"
  }
 },
 "nbformat": 4,
 "nbformat_minor": 0
}
