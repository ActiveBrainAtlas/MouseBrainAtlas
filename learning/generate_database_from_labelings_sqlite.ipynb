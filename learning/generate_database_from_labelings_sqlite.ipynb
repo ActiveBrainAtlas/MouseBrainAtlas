{
 "cells": [
  {
   "cell_type": "code",
   "execution_count": 18,
   "metadata": {
    "collapsed": true
   },
   "outputs": [],
   "source": [
    "%reload_ext autoreload\n",
    "%autoreload 2\n",
    "\n",
    "import os\n",
    "import argparse\n",
    "import sys\n",
    "import time\n",
    "import cv2\n",
    "\n",
    "from joblib import Parallel, delayed\n",
    "\n",
    "sys.path.append(os.path.join(os.environ['REPO_DIR'], 'utilities'))\n",
    "from utilities2015 import *\n",
    "\n",
    "from collections import defaultdict\n",
    "\n",
    "from enum import Enum\n",
    "\n",
    "class ProposalType(Enum):\n",
    "    GLOBAL = 'global'\n",
    "    LOCAL = 'local'\n",
    "    FREEFORM = 'freeform'\n",
    "    ALGORITHM = 'algorithm'\n",
    "    \n",
    "class PolygonType(Enum):\n",
    "    CLOSED = 'closed'\n",
    "    OPEN = 'open'\n",
    "    TEXTURE = 'textured'\n",
    "    TEXTURE_WITH_CONTOUR = 'texture with contour'\n",
    "    DIRECTION = 'directionality'\n",
    "    \n",
    "%matplotlib inline"
   ]
  },
  {
   "cell_type": "code",
   "execution_count": 4,
   "metadata": {
    "collapsed": false
   },
   "outputs": [],
   "source": [
    "sqlite_file = os.environ['REPO_DIR']+'/landmark_db.sqlite'\n",
    "\n",
    "import sqlite3\n",
    "conn = sqlite3.connect(sqlite_file)\n",
    "c = conn.cursor()"
   ]
  },
  {
   "cell_type": "code",
   "execution_count": 9,
   "metadata": {
    "collapsed": true
   },
   "outputs": [],
   "source": [
    "section_range_lookup = {'MD593': (41,176), 'MD594': (47,186), 'MD595': (35,164), 'MD592': (46,185), 'MD589':(49,186)}"
   ]
  },
  {
   "cell_type": "code",
   "execution_count": 10,
   "metadata": {
    "collapsed": false,
    "scrolled": true
   },
   "outputs": [
    {
     "name": "stderr",
     "output_type": "stream",
     "text": [
      "original TIFF image is not available. Loading downscaled jpg instead...original TIFF image is not available. Loading downscaled jpg instead...original TIFF image is not available. Loading downscaled jpg instead...original TIFF image is not available. Loading downscaled jpg instead...original TIFF image is not available. Loading downscaled jpg instead...original TIFF image is not available. Loading downscaled jpg instead...original TIFF image is not available. Loading downscaled jpg instead...original TIFF image is not available. Loading downscaled jpg instead...original TIFF image is not available. Loading downscaled jpg instead...original TIFF image is not available. Loading downscaled jpg instead...original TIFF image is not available. Loading downscaled jpg instead...original TIFF image is not available. Loading downscaled jpg instead...original TIFF image is not available. Loading downscaled jpg instead...original TIFF image is not available. Loading downscaled jpg instead...original TIFF image is not available. Loading downscaled jpg instead...original TIFF image is not available. Loading downscaled jpg instead...original TIFF image is not available. Loading downscaled jpg instead...original TIFF image is not available. Loading downscaled jpg instead...original TIFF image is not available. Loading downscaled jpg instead...original TIFF image is not available. Loading downscaled jpg instead...original TIFF image is not available. Loading downscaled jpg instead...original TIFF image is not available. Loading downscaled jpg instead...original TIFF image is not available. Loading downscaled jpg instead...original TIFF image is not available. Loading downscaled jpg instead...original TIFF image is not available. Loading downscaled jpg instead...original TIFF image is not available. Loading downscaled jpg instead...original TIFF image is not available. Loading downscaled jpg instead...original TIFF image is not available. Loading downscaled jpg instead...original TIFF image is not available. Loading downscaled jpg instead...original TIFF image is not available. Loading downscaled jpg instead...original TIFF image is not available. Loading downscaled jpg instead...original TIFF image is not available. Loading downscaled jpg instead...original TIFF image is not available. Loading downscaled jpg instead...original TIFF image is not available. Loading downscaled jpg instead...original TIFF image is not available. Loading downscaled jpg instead...original TIFF image is not available. Loading downscaled jpg instead...original TIFF image is not available. Loading downscaled jpg instead...original TIFF image is not available. Loading downscaled jpg instead...original TIFF image is not available. Loading downscaled jpg instead...original TIFF image is not available. Loading downscaled jpg instead...original TIFF image is not available. Loading downscaled jpg instead...original TIFF image is not available. Loading downscaled jpg instead...original TIFF image is not available. Loading downscaled jpg instead...original TIFF image is not available. Loading downscaled jpg instead...original TIFF image is not available. Loading downscaled jpg instead...original TIFF image is not available. Loading downscaled jpg instead...original TIFF image is not available. Loading downscaled jpg instead...original TIFF image is not available. Loading downscaled jpg instead...original TIFF image is not available. Loading downscaled jpg instead...original TIFF image is not available. Loading downscaled jpg instead...original TIFF image is not available. Loading downscaled jpg instead...original TIFF image is not available. Loading downscaled jpg instead...original TIFF image is not available. Loading downscaled jpg instead...original TIFF image is not available. Loading downscaled jpg instead...original TIFF image is not available. Loading downscaled jpg instead...original TIFF image is not available. Loading downscaled jpg instead...original TIFF image is not available. Loading downscaled jpg instead...original TIFF image is not available. Loading downscaled jpg instead...original TIFF image is not available. Loading downscaled jpg instead...original TIFF image is not available. Loading downscaled jpg instead...original TIFF image is not available. Loading downscaled jpg instead...original TIFF image is not available. Loading downscaled jpg instead...original TIFF image is not available. Loading downscaled jpg instead...original TIFF image is not available. Loading downscaled jpg instead...original TIFF image is not available. Loading downscaled jpg instead...original TIFF image is not available. Loading downscaled jpg instead...original TIFF image is not available. Loading downscaled jpg instead...original TIFF image is not available. Loading downscaled jpg instead...original TIFF image is not available. Loading downscaled jpg instead...original TIFF image is not available. Loading downscaled jpg instead...original TIFF image is not available. Loading downscaled jpg instead...original TIFF image is not available. Loading downscaled jpg instead...original TIFF image is not available. Loading downscaled jpg instead...original TIFF image is not available. Loading downscaled jpg instead...original TIFF image is not available. Loading downscaled jpg instead...original TIFF image is not available. Loading downscaled jpg instead...original TIFF image is not available. Loading downscaled jpg instead...original TIFF image is not available. Loading downscaled jpg instead...original TIFF image is not available. Loading downscaled jpg instead...original TIFF image is not available. Loading downscaled jpg instead...original TIFF image is not available. Loading downscaled jpg instead...original TIFF image is not available. Loading downscaled jpg instead...original TIFF image is not available. Loading downscaled jpg instead...original TIFF image is not available. Loading downscaled jpg instead...original TIFF image is not available. Loading downscaled jpg instead...original TIFF image is not available. Loading downscaled jpg instead...original TIFF image is not available. Loading downscaled jpg instead...original TIFF image is not available. Loading downscaled jpg instead...original TIFF image is not available. Loading downscaled jpg instead...original TIFF image is not available. Loading downscaled jpg instead...original TIFF image is not available. Loading downscaled jpg instead...original TIFF image is not available. Loading downscaled jpg instead...original TIFF image is not available. Loading downscaled jpg instead...original TIFF image is not available. Loading downscaled jpg instead...original TIFF image is not available. Loading downscaled jpg instead...original TIFF image is not available. Loading downscaled jpg instead...original TIFF image is not available. Loading downscaled jpg instead...original TIFF image is not available. Loading downscaled jpg instead...original TIFF image is not available. Loading downscaled jpg instead...original TIFF image is not available. Loading downscaled jpg instead...original TIFF image is not available. Loading downscaled jpg instead...original TIFF image is not available. Loading downscaled jpg instead...original TIFF image is not available. Loading downscaled jpg instead...original TIFF image is not available. Loading downscaled jpg instead...original TIFF image is not available. Loading downscaled jpg instead...original TIFF image is not available. Loading downscaled jpg instead...original TIFF image is not available. Loading downscaled jpg instead...original TIFF image is not available. Loading downscaled jpg instead...original TIFF image is not available. Loading downscaled jpg instead...original TIFF image is not available. Loading downscaled jpg instead...original TIFF image is not available. Loading downscaled jpg instead...original TIFF image is not available. Loading downscaled jpg instead...original TIFF image is not available. Loading downscaled jpg instead...original TIFF image is not available. Loading downscaled jpg instead...original TIFF image is not available. Loading downscaled jpg instead...original TIFF image is not available. Loading downscaled jpg instead...original TIFF image is not available. Loading downscaled jpg instead...original TIFF image is not available. Loading downscaled jpg instead...original TIFF image is not available. Loading downscaled jpg instead...original TIFF image is not available. Loading downscaled jpg instead...original TIFF image is not available. Loading downscaled jpg instead...original TIFF image is not available. Loading downscaled jpg instead...original TIFF image is not available. Loading downscaled jpg instead...original TIFF image is not available. Loading downscaled jpg instead...original TIFF image is not available. Loading downscaled jpg instead...original TIFF image is not available. Loading downscaled jpg instead...original TIFF image is not available. Loading downscaled jpg instead...original TIFF image is not available. Loading downscaled jpg instead...original TIFF image is not available. Loading downscaled jpg instead...original TIFF image is not available. Loading downscaled jpg instead...original TIFF image is not available. Loading downscaled jpg instead...original TIFF image is not available. Loading downscaled jpg instead...original TIFF image is not available. Loading downscaled jpg instead...original TIFF image is not available. Loading downscaled jpg instead...original TIFF image is not available. Loading downscaled jpg instead...original TIFF image is not available. Loading downscaled jpg instead...original TIFF image is not available. Loading downscaled jpg instead..."
     ]
    }
   ],
   "source": [
    "first, last = section_range_lookup['MD589']\n",
    "\n",
    "dms = dict([(sc, DataManager(stack='MD589', section=sc, segm_params_id='tSLIC200', load_mask=False)) \n",
    "\t\t\tfor sc in range(first, last)])"
   ]
  },
  {
   "cell_type": "code",
   "execution_count": 12,
   "metadata": {
    "collapsed": false,
    "scrolled": true
   },
   "outputs": [
    {
     "data": {
      "text/plain": [
       "(None,\n",
       " 'latest',\n",
       " 'consolidated',\n",
       " [{'label': 'IO',\n",
       "   'labelPos': (8137.283432890834, 11215.753682598192),\n",
       "   'subtype': <PolygonType.CLOSED: 'closed'>,\n",
       "   'vertices': [(6778.123108907224, 11108.131792321074),\n",
       "    (7071.479551759367, 10961.453570894999),\n",
       "    (7511.514216037591, 10927.604750565908),\n",
       "    (8244.90532316795, 10871.190050017416),\n",
       "    (8944.447609969226, 11074.282971991983),\n",
       "    (9553.726375892911, 11401.488235173223),\n",
       "    (9948.629279732333, 11672.278797805971),\n",
       "    (9271.652873150459, 11627.147037367176),\n",
       "    (8854.184089091636, 11457.902935721708),\n",
       "    (8199.773562729162, 11277.375893966542),\n",
       "    (7567.9289165860755, 11187.11237308896),\n",
       "    (6969.933090772087, 11119.41473243077),\n",
       "    (6868.386629784807, 11119.41473243077)]},\n",
       "  {'label': 'sp5',\n",
       "   'labelPos': (11394.315205046261, 9497.314909565888),\n",
       "   'subtype': <PolygonType.CLOSED: 'closed'>,\n",
       "   'vertices': [(10297.613426383625, 8227.561036970757),\n",
       "    (10612.407455444194, 8481.42718943896),\n",
       "    (10805.34573132003, 8735.293341907163),\n",
       "    (10977.974714998414, 8897.767679486817),\n",
       "    (11231.840867466617, 9405.499984423222),\n",
       "    (11546.634896527186, 9628.902198595242),\n",
       "    (11973.130032673766, 9933.541581557081),\n",
       "    (12298.078707833065, 10268.644902815111),\n",
       "    (12562.099506399998, 10481.8924708884),\n",
       "    (12836.274951065661, 10796.686499948977),\n",
       "    (12998.749288645307, 11030.24336021972),\n",
       "    (12927.66676595421, 11091.171236812093),\n",
       "    (12704.264551782191, 10766.222561652794),\n",
       "    (12338.697292227978, 10471.737824789678),\n",
       "    (12105.140431957236, 10228.026318420198),\n",
       "    (11820.81034119285, 9953.850873754542),\n",
       "    (11363.85126675008, 9699.984721286339),\n",
       "    (11018.59329939332, 9314.108169534666),\n",
       "    (10764.727146925117, 8846.994448993173),\n",
       "    (10510.860994456914, 8654.056173117337),\n",
       "    (9921.891520730682, 8400.190020649134),\n",
       "    (9718.798598756122, 8237.715683069488),\n",
       "    (9952.355459026865, 8197.097098674574),\n",
       "    (10175.757673198885, 8186.942452575844)]},\n",
       "  {'label': 'RtTg',\n",
       "   'labelPos': (2197.2538741904623, 9262.824736564013),\n",
       "   'subtype': <PolygonType.CLOSED: 'closed'>,\n",
       "   'vertices': [(1669.3817815337825, 8723.677706005932),\n",
       "    (1602.7571484800283, 8830.27711889194),\n",
       "    (1736.0064145875403, 9156.737820855342),\n",
       "    (1962.5301669703076, 9536.49822926175),\n",
       "    (2215.7037725745795, 9882.946321141277),\n",
       "    (2435.5650616519742, 9989.545734027288),\n",
       "    (2742.038373699248, 9929.583564278906),\n",
       "    (2742.038373699248, 9649.760105453133),\n",
       "    (2768.688226920749, 9369.93664662736),\n",
       "    (2608.789107591736, 9090.113187801588),\n",
       "    (2382.2653552089687, 8876.914362029569),\n",
       "    (1989.1800201918122, 8717.015242700556),\n",
       "    (1709.3565613660357, 8663.71553625755)]},\n",
       "  {'label': 'Pn',\n",
       "   'labelPos': (1375.3707979675066, 9939.71680750816),\n",
       "   'subtype': <PolygonType.CLOSED: 'closed'>,\n",
       "   'vertices': [(1106.8194649872967, 8831.766805474621),\n",
       "    (768.6697498996473, 9087.66388716257),\n",
       "    (677.2779350110941, 9407.535239272507),\n",
       "    (805.22647585507, 9919.329402648407),\n",
       "    (1033.7060130764512, 10376.288477091177),\n",
       "    (1380.9949096529563, 10760.134099623101),\n",
       "    (1801.3972581403032, 10979.47445535563),\n",
       "    (2139.546973227949, 10970.335273866775),\n",
       "    (2176.1036991833716, 10677.881466223404),\n",
       "    (1901.928254517712, 10394.566840068888),\n",
       "    (1554.639357941207, 9773.102498826724),\n",
       "    (1371.8557281641006, 9224.7516094954),\n",
       "    (1161.6545539204271, 8813.48844249691)]},\n",
       "  {'label': 'Tz',\n",
       "   'labelPos': (3343.5636321274396, 10648.177820787274),\n",
       "   'subtype': <PolygonType.CLOSED: 'closed'>,\n",
       "   'vertices': [(2796.6630067530023, 10320.255702098202),\n",
       "    (2847.9879333637546, 10317.331362601442),\n",
       "    (3261.7105115185404, 10535.867725068085),\n",
       "    (3541.5339703443133, 10642.467137954092),\n",
       "    (3961.2691585829743, 10729.079160923975),\n",
       "    (4174.467984354993, 10882.315816947612),\n",
       "    (4201.117837576494, 10982.252766528247),\n",
       "    (3941.2817686668495, 10975.59030322287),\n",
       "    (3628.145993314196, 10888.978280252988),\n",
       "    (3328.3351445722983, 10789.041330672357),\n",
       "    (2921.924882944386, 10609.154821427215),\n",
       "    (2755.3633003100003, 10515.880335151956),\n",
       "    (2695.4011305616186, 10382.631069044444),\n",
       "    (2768.688226920749, 10362.64367912832)]}])"
      ]
     },
     "execution_count": 12,
     "metadata": {},
     "output_type": "execute_result"
    }
   ],
   "source": [
    "dms[132].load_proposal_review_result(None, 'latest', 'consolidated')"
   ]
  },
  {
   "cell_type": "code",
   "execution_count": 21,
   "metadata": {
    "collapsed": false,
    "scrolled": true
   },
   "outputs": [
    {
     "name": "stderr",
     "output_type": "stream",
     "text": [
      "username is empty\n",
      "username is empty\n",
      "username is empty\n",
      "username is empty\n",
      "username is empty\n",
      "username is empty\n",
      "username is empty\n",
      "username is empty\n",
      "username is empty\n",
      "username is empty\n",
      "username is empty\n",
      "username is empty\n",
      "username is empty\n",
      "username is empty\n",
      "username is empty\n",
      "username is empty\n",
      "username is empty\n",
      "username is empty\n",
      "username is empty\n",
      "username is empty\n",
      "username is empty\n",
      "username is empty\n",
      "username is empty\n",
      "username is empty\n",
      "username is empty\n",
      "username is empty\n",
      "username is empty\n",
      "username is empty\n",
      "username is empty\n",
      "username is empty\n",
      "username is empty\n",
      "username is empty\n",
      "username is empty\n",
      "username is empty\n",
      "username is empty\n",
      "username is empty\n",
      "username is empty\n",
      "username is empty\n",
      "username is empty\n",
      "username is empty\n",
      "username is empty\n",
      "username is empty\n",
      "username is empty\n",
      "username is empty\n",
      "username is empty\n",
      "username is empty\n",
      "username is empty\n",
      "username is empty\n",
      "username is empty\n",
      "username is empty\n",
      "username is empty\n",
      "username is empty\n",
      "username is empty\n",
      "username is empty\n",
      "username is empty\n",
      "username is empty\n",
      "username is empty\n",
      "username is empty\n",
      "username is empty\n",
      "username is empty\n",
      "username is empty\n",
      "username is empty\n",
      "username is empty\n",
      "username is empty\n",
      "username is empty\n",
      "username is empty\n"
     ]
    }
   ],
   "source": [
    "label_polygon = defaultdict(lambda: {})\n",
    "\n",
    "for sec, dm in dms.iteritems():\n",
    "    \n",
    "    res = dm.load_proposal_review_result(None, 'latest', 'consolidated')\n",
    "    \n",
    "    if res is None:\n",
    "        continue\n",
    "    \n",
    "    usr, ts, suffix, result = res\n",
    "    \n",
    "    for props in result:\n",
    "        label_polygon[props['label']][sec] = props['vertices']\n",
    "    \n",
    "label_polygon.default_factory = None"
   ]
  },
  {
   "cell_type": "code",
   "execution_count": 27,
   "metadata": {
    "collapsed": false
   },
   "outputs": [
    {
     "data": {
      "text/plain": [
       "[128,\n",
       " 129,\n",
       " 130,\n",
       " 131,\n",
       " 132,\n",
       " 133,\n",
       " 134,\n",
       " 135,\n",
       " 136,\n",
       " 137,\n",
       " 138,\n",
       " 89,\n",
       " 90,\n",
       " 91,\n",
       " 92,\n",
       " 93,\n",
       " 94,\n",
       " 95,\n",
       " 96,\n",
       " 97,\n",
       " 98,\n",
       " 99,\n",
       " 100,\n",
       " 101,\n",
       " 102,\n",
       " 103,\n",
       " 104,\n",
       " 105,\n",
       " 106,\n",
       " 107,\n",
       " 108,\n",
       " 109,\n",
       " 110,\n",
       " 111,\n",
       " 113,\n",
       " 115,\n",
       " 127]"
      ]
     },
     "execution_count": 27,
     "metadata": {},
     "output_type": "execute_result"
    }
   ],
   "source": [
    "label_polygon['Pn'].keys()"
   ]
  },
  {
   "cell_type": "code",
   "execution_count": 29,
   "metadata": {
    "collapsed": false
   },
   "outputs": [],
   "source": [
    "pickle.dump(label_polygon, open(os.environ['REPO_DIR']+'/database/label_polygon.pkl', 'w'))"
   ]
  }
 ],
 "metadata": {
  "kernelspec": {
   "display_name": "Python 2",
   "language": "python",
   "name": "python2"
  },
  "language_info": {
   "codemirror_mode": {
    "name": "ipython",
    "version": 2
   },
   "file_extension": ".py",
   "mimetype": "text/x-python",
   "name": "python",
   "nbconvert_exporter": "python",
   "pygments_lexer": "ipython2",
   "version": "2.7.6"
  }
 },
 "nbformat": 4,
 "nbformat_minor": 0
}
