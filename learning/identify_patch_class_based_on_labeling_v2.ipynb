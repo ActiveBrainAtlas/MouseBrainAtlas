{
 "cells": [
  {
   "cell_type": "code",
   "execution_count": 1,
   "metadata": {},
   "outputs": [
    {
     "name": "stdout",
     "output_type": "stream",
     "text": [
      "Setting environment for Local Macbook Pro\n"
     ]
    },
    {
     "name": "stderr",
     "output_type": "stream",
     "text": [
      "Cannot import mxnet.\n",
      "xgboost is not loaded."
     ]
    }
   ],
   "source": [
    "%load_ext autoreload\n",
    "%autoreload 2\n",
    "\n",
    "import sys\n",
    "import os\n",
    "import time\n",
    "\n",
    "sys.path.append(os.environ['REPO_DIR'] + '/utilities')\n",
    "from utilities2015 import *\n",
    "from metadata import *\n",
    "from data_manager import *\n",
    "from learning_utilities import *"
   ]
  },
  {
   "cell_type": "markdown",
   "metadata": {},
   "source": [
    "# Based on contour annotation"
   ]
  },
  {
   "cell_type": "code",
   "execution_count": 2,
   "metadata": {},
   "outputs": [
    {
     "data": {
      "text/plain": [
       "{1: {'patch_size': 224, 'spacing': 56},\n",
       " 2: {'comment': 'larger margin', 'patch_size': 224, 'spacing': 56},\n",
       " 3: {'comment': 'smaller spacing', 'patch_size': 224, 'spacing': 32},\n",
       " 4: {'comment': 'smaller spacing', 'patch_size': 224, 'spacing': 128},\n",
       " 5: {'comment': 'smaller spacing', 'patch_size': 224, 'spacing': 64},\n",
       " 6: {'comment': 'twice as large patch', 'patch_size': 448, 'spacing': 64},\n",
       " 7: {'comment': 'specify size/spacing in terms of microns rather than pixels',\n",
       "  'patch_size_um': 103.04,\n",
       "  'spacing_um': 30},\n",
       " 8: {'comment': 'larger patch', 'patch_size_um': 206.08, 'spacing_um': 30},\n",
       " 9: {'comment': 'larger patch', 'patch_size_um': 412.16, 'spacing_um': 30},\n",
       " 10: {'comment': 'larger patch', 'patch_size_um': 824.32, 'spacing_um': 30}}"
      ]
     },
     "execution_count": 2,
     "metadata": {},
     "output_type": "execute_result"
    }
   ],
   "source": [
    "windowing_settings"
   ]
  },
  {
   "cell_type": "code",
   "execution_count": null,
   "metadata": {
    "collapsed": true,
    "scrolled": true
   },
   "outputs": [],
   "source": [
    "win_id = 7\n",
    "for stack in ['MD585', 'MD594', 'MD589']:\n",
    "    grid_index_class_lookup, latest_timestamp = generate_annotation_to_grid_indices_lookup(stack, win_id=win_id, by_human=True, \n",
    "                                                                         suffix='contours', timestamp='latest',\n",
    "                                                                         surround_margins=[200, 500],\n",
    "                                                                        return_timestamp=True)\n",
    "    \n",
    "    grid_index_class_lookup_fp = \\\n",
    "    DataManager.get_annotation_to_grid_indices_lookup_filepath(stack=stack, win_id=win_id, \n",
    "                                                               by_human=True, timestamp=latest_timestamp)\n",
    "    print grid_index_class_lookup_fp\n",
    "\n",
    "    save_hdf_v2(grid_index_class_lookup, grid_index_class_lookup_fp)\n",
    "    upload_to_s3(grid_index_class_lookup_fp)"
   ]
  },
  {
   "cell_type": "code",
   "execution_count": null,
   "metadata": {
    "collapsed": true
   },
   "outputs": [],
   "source": [
    "# win_id = 3\n",
    "# windowing_properties = windowing_settings[win_id]\n",
    "# patch_size = windowing_properties['patch_size']\n",
    "# spacing = windowing_properties['spacing']\n",
    "# w, h = metadata_cache['image_shape'][stack]\n",
    "# half_size = patch_size/2\n",
    "# grid_spec = (patch_size, spacing, w, h)"
   ]
  },
  {
   "cell_type": "markdown",
   "metadata": {},
   "source": [
    "# Based on aligned atlas"
   ]
  },
  {
   "cell_type": "code",
   "execution_count": null,
   "metadata": {
    "collapsed": true,
    "scrolled": true
   },
   "outputs": [],
   "source": [
    "positive_level = {}\n",
    "for name_u in all_known_structures:\n",
    "    if name_u == '4N':\n",
    "        positive_level[name_u] = 0.6\n",
    "    elif name_u == '10N':\n",
    "        positive_level[name_u] = 0.7\n",
    "    else:\n",
    "        positive_level[name_u] = 0.8\n",
    "        \n",
    "# positive_level = 0.8"
   ]
  },
  {
   "cell_type": "code",
   "execution_count": null,
   "metadata": {
    "collapsed": true
   },
   "outputs": [],
   "source": [
    "from learning_utilities import *"
   ]
  },
  {
   "cell_type": "code",
   "execution_count": null,
   "metadata": {
    "collapsed": true,
    "scrolled": true
   },
   "outputs": [],
   "source": [
    "# stack = 'ChatCryoJane201710'\n",
    "for stack in [\n",
    " 'MD652',\n",
    " 'MD653',\n",
    " 'MD657',\n",
    "'MD658']:\n",
    "    win_id = 5\n",
    "    detector_id = 13\n",
    "    grid_index_class_lookup = generate_annotation_to_grid_indices_lookup(stack=stack, win_id=win_id, by_human=False, \n",
    "                                                                                    detector_id_f=detector_id,\n",
    "                                                                        surround_margins=[200],\n",
    "                                                                        positive_level=0.8, negative_level=0.1)\n",
    "    grid_index_class_lookup_fp = \\\n",
    "DataManager.get_annotation_to_grid_indices_lookup_filepath(stack=stack, win_id=win_id, by_human=False, \n",
    "                                                                     stack_m='atlasV5', \n",
    "                                                                                detector_id_f=detector_id,\n",
    "                                                          timestamp='now')\n",
    "    save_hdf_v2(grid_index_class_lookup, grid_index_class_lookup_fp)\n",
    "    upload_to_s3(grid_index_class_lookup_fp)"
   ]
  },
  {
   "cell_type": "code",
   "execution_count": null,
   "metadata": {
    "collapsed": true
   },
   "outputs": [],
   "source": [
    "# stack = 'ChatCryoJane201710'\n",
    "for stack in [\n",
    " 'MD661',\n",
    " 'MD662']:\n",
    "    win_id = 7\n",
    "    detector_id = 1\n",
    "    grid_index_class_lookup = generate_annotation_to_grid_indices_lookup(stack=stack, win_id=win_id, by_human=False, \n",
    "                                                                                    detector_id_f=detector_id,\n",
    "                                                                        surround_margins=[200],\n",
    "                                                                        positive_level=positive_level, \n",
    "                                                                         negative_level=0.1)\n",
    "    grid_index_class_lookup_fp = \\\n",
    "DataManager.get_annotation_to_grid_indices_lookup_filepath(stack=stack, win_id=win_id, by_human=False, \n",
    "                                                                     stack_m='atlasV5', \n",
    "                                                                                detector_id_f=detector_id,\n",
    "                                                          timestamp='now')\n",
    "    save_hdf_v2(grid_index_class_lookup, grid_index_class_lookup_fp)\n",
    "    upload_to_s3(grid_index_class_lookup_fp)"
   ]
  },
  {
   "cell_type": "markdown",
   "metadata": {},
   "source": [
    "# Use human-corrected structure annotation file"
   ]
  },
  {
   "cell_type": "code",
   "execution_count": 2,
   "metadata": {
    "collapsed": true
   },
   "outputs": [],
   "source": [
    "positive_level = {}\n",
    "for name_s in all_known_structures_sided:\n",
    "    name_u = convert_to_unsided_label(name_s)\n",
    "    if name_u == '4N':\n",
    "        positive_level[name_s] = 0.6\n",
    "    elif name_u == '10N':\n",
    "        positive_level[name_s] = 0.7\n",
    "    else:\n",
    "        positive_level[name_s] = 0.8\n",
    "        \n",
    "# positive_level = 0.8\n",
    "\n",
    "negative_level = .1"
   ]
  },
  {
   "cell_type": "code",
   "execution_count": 3,
   "metadata": {
    "collapsed": true
   },
   "outputs": [],
   "source": [
    "stack = 'CHATM2'"
   ]
  },
  {
   "cell_type": "code",
   "execution_count": 4,
   "metadata": {},
   "outputs": [],
   "source": [
    "structures_df = DataManager.load_annotation_v4(stack=stack, by_human=True, suffix='structures', timestamp='04262018105643')"
   ]
  },
  {
   "cell_type": "code",
   "execution_count": 5,
   "metadata": {},
   "outputs": [],
   "source": [
    "warped_volumes, warped_volumes_resolution = \\\n",
    "convert_structure_annotation_to_volume_origin_dict_v2(structures_df=structures_df, \n",
    "                                                      out_resolution='10.0um', stack=stack)"
   ]
  },
  {
   "cell_type": "code",
   "execution_count": 6,
   "metadata": {},
   "outputs": [],
   "source": [
    "def get_structure_contours_from_structure_volumes_v2(volumes, stack, sections, \n",
    "                                                     resolution, level, sample_every=1,\n",
    "                                                    use_unsided_name_as_key=False):\n",
    "    \"\"\"\n",
    "    Re-section atlas volumes and obtain structure contours on each section.\n",
    "    Resolution of output contours are in volume resolution.\n",
    "\n",
    "    Args:\n",
    "        volumes (dict of (3D array, 3-tuple)): {structure: (volume, origin_wrt_wholebrain)}. volume is a 3d array of probability values.\n",
    "        sections (list of int):\n",
    "        resolution (int): resolution of input volumes.\n",
    "        level (float or dict): the cut-off probability at which surfaces are generated from probabilistic volumes. Default is 0.5.\n",
    "        sample_every (int): how sparse to sample contour vertices.\n",
    "\n",
    "    Returns:\n",
    "        Dict {section: {name_s: contour vertices}}.\n",
    "    \"\"\"\n",
    "\n",
    "    from collections import defaultdict\n",
    "    \n",
    "    structure_contours_wrt_alignedBrainstemCrop_rawResol = defaultdict(dict)\n",
    "\n",
    "    converter = CoordinatesConverter(stack='CHATM2', section_list=metadata_cache['sections_to_filenames'][stack].keys())\n",
    "\n",
    "    for name_s, (v, o) in volumes.iteritems():\n",
    "        converter.derive_three_view_frames(name_s, \n",
    "                                           origin_wrt_wholebrain_um=convert_resolution_string_to_um(resolution=resolution, stack=stack) * o,\n",
    "                                           zdim_um=convert_resolution_string_to_um(resolution=resolution, stack=stack) * v.shape[2])\n",
    "        \n",
    "    converter.register_new_resolution('structure_volume', resol_um=convert_resolution_string_to_um(resolution=resolution, stack=stack))\n",
    "    converter.register_new_resolution('image', resol_um=convert_resolution_string_to_um(resolution='raw', stack=stack))\n",
    "    \n",
    "    for name_s, (structure_volume_volResol, origin_wrt_wholebrain_volResol) in volumes.iteritems():\n",
    "\n",
    "        positions_of_all_sections_wrt_structureVolume = converter.convert_frame_and_resolution(\n",
    "        p=np.array(sections)[:,None],\n",
    "        in_wrt=('wholebrain', 'sagittal'), in_resolution='section',\n",
    "        out_wrt=(name_s, 'sagittal'), out_resolution='structure_volume')[..., 2].flatten()\n",
    "\n",
    "        structure_ddim = structure_volume_volResol.shape[2]\n",
    "        \n",
    "        valid_mask = (positions_of_all_sections_wrt_structureVolume >= 0) & (positions_of_all_sections_wrt_structureVolume < structure_ddim)\n",
    "        if np.count_nonzero(valid_mask) == 0:\n",
    "#             sys.stderr.write(\"valid_mask is empty.\\n\")\n",
    "            continue\n",
    "\n",
    "        positions_of_all_sections_wrt_structureVolume = positions_of_all_sections_wrt_structureVolume[valid_mask]\n",
    "        positions_of_all_sections_wrt_structureVolume = np.round(positions_of_all_sections_wrt_structureVolume).astype(np.int)\n",
    "        \n",
    "        if isinstance(level, dict):\n",
    "            level_this_structure = level[name_s]\n",
    "        elif isinstance(level, float):\n",
    "            level_this_structure = level\n",
    "\n",
    "        contour_2d_wrt_structureVolume_sectionPositions_volResol = \\\n",
    "        find_contour_points_3d(structure_volume_volResol >= level,\n",
    "                                along_direction='sagittal',\n",
    "                                sample_every=sample_every,\n",
    "                                positions=positions_of_all_sections_wrt_structureVolume)\n",
    "        \n",
    "        for d_wrt_structureVolume, cnt_uv_wrt_structureVolume in contour_2d_wrt_structureVolume_sectionPositions_volResol.iteritems():\n",
    "            \n",
    "            contour_3d_wrt_structureVolume_volResol = np.column_stack([cnt_uv_wrt_structureVolume, np.ones((len(cnt_uv_wrt_structureVolume),)) * d_wrt_structureVolume])\n",
    "            \n",
    "#             contour_3d_wrt_wholebrain_uv_rawResol_section = converter.convert_frame_and_resolution(\n",
    "#                 p=contour_3d_wrt_structureVolume_volResol,\n",
    "#                 in_wrt=(name_s, 'sagittal'), in_resolution='structure_volume',\n",
    "#                 out_wrt=('wholebrain', 'sagittal'), out_resolution='image_image_section')\n",
    "\n",
    "            contour_3d_wrt_alignedBrainstemCrop_uv_rawResol_section = converter.convert_frame_and_resolution(\n",
    "                p=contour_3d_wrt_structureVolume_volResol,\n",
    "                in_wrt=(name_s, 'sagittal'), in_resolution='structure_volume',\n",
    "                out_wrt=('wholebrainXYcropped', 'sagittal'), out_resolution='image_image_section')\n",
    "            \n",
    "            assert len(np.unique(contour_3d_wrt_alignedBrainstemCrop_uv_rawResol_section[:,2])) == 1\n",
    "            sec = int(contour_3d_wrt_alignedBrainstemCrop_uv_rawResol_section[0,2])\n",
    "        \n",
    "            if use_unsided_name_as_key:\n",
    "                name = convert_to_unsided_label(name_s)\n",
    "            else:\n",
    "                name = name_s\n",
    "            structure_contours_wrt_alignedBrainstemCrop_rawResol[sec][name] = contour_3d_wrt_alignedBrainstemCrop_uv_rawResol_section[..., :2]\n",
    "\n",
    "    return structure_contours_wrt_alignedBrainstemCrop_rawResol"
   ]
  },
  {
   "cell_type": "code",
   "execution_count": 8,
   "metadata": {
    "collapsed": true
   },
   "outputs": [],
   "source": [
    "sample_every = 5"
   ]
  },
  {
   "cell_type": "code",
   "execution_count": 9,
   "metadata": {
    "scrolled": true
   },
   "outputs": [],
   "source": [
    "structure_contours_wrt_alignedBrainstemCrop_rawResol_pos_level = \\\n",
    "get_structure_contours_from_structure_volumes_v2(warped_volumes, stack=stack,\n",
    "#                                                  sections=metadata_cache['valid_sections'][stack],\n",
    "                                                 sections=[102],\n",
    "                                                 resolution=warped_volumes_resolution,\n",
    "                                                 level=positive_level,\n",
    "                                                 sample_every=sample_every, \n",
    "                                                 use_unsided_name_as_key=True)\n",
    "\n",
    "structure_contours_wrt_alignedBrainstemCrop_rawResol_neg_level = \\\n",
    "get_structure_contours_from_structure_volumes_v2(warped_volumes, stack=stack,\n",
    "#                                                  sections=metadata_cache['valid_sections'][stack],\n",
    "                                                 sections=[102],\n",
    "                                                 resolution=warped_volumes_resolution,\n",
    "                                                 level=negative_level,\n",
    "                                                 sample_every=sample_every, \n",
    "                                                  use_unsided_name_as_key=True)"
   ]
  },
  {
   "cell_type": "code",
   "execution_count": 10,
   "metadata": {},
   "outputs": [],
   "source": [
    "grid_spec = win_id_to_gridspec(win_id=7, stack=stack)\n",
    "surround_margins_um = [200, 500]"
   ]
  },
  {
   "cell_type": "code",
   "execution_count": 11,
   "metadata": {
    "scrolled": true
   },
   "outputs": [
    {
     "name": "stderr",
     "output_type": "stream",
     "text": [
      "Computing grid indices lookup for section 102...\n"
     ]
    }
   ],
   "source": [
    "patch_indices_allSections_allStructures = {}\n",
    "\n",
    "sections = set(structure_contours_wrt_alignedBrainstemCrop_rawResol_pos_level.keys()) | \\\n",
    "set(structure_contours_wrt_alignedBrainstemCrop_rawResol_neg_level.keys())\n",
    "\n",
    "for sec in sections:\n",
    "\n",
    "    sys.stderr.write('Computing grid indices lookup for section %d...\\n' % sec)\n",
    "\n",
    "    mask_tb = DataManager.load_thumbnail_mask_v3(stack=stack, section=sec, prep_id='alignedBrainstemCrop')\n",
    "\n",
    "    patch_indices_thisSection_allStructures = {}\n",
    "\n",
    "    if sec in structure_contours_wrt_alignedBrainstemCrop_rawResol_pos_level:\n",
    "        \n",
    "        patch_indices_thisSection_allStructures.update(\n",
    "        locate_patches_v2(grid_spec=grid_spec, \n",
    "                          mask_tb=mask_tb,\n",
    "                          polygons=structure_contours_wrt_alignedBrainstemCrop_rawResol_pos_level[sec].items(), \\\n",
    "                          surround_margins=surround_margins_um, \n",
    "                          categories=['positive']))\n",
    "\n",
    "    if sec in structure_contours_wrt_alignedBrainstemCrop_rawResol_neg_level:\n",
    "\n",
    "        patch_indices_thisSection_allStructures.update(\n",
    "        locate_patches_v2(grid_spec=grid_spec, \n",
    "                          mask_tb=mask_tb,\n",
    "                          polygons=structure_contours_wrt_alignedBrainstemCrop_rawResol_neg_level[sec].items(), \\\n",
    "                          surround_margins=surround_margins_um, \n",
    "                          categories=['surround']))\n",
    "\n",
    "    if len(patch_indices_thisSection_allStructures) > 0:\n",
    "        patch_indices_allSections_allStructures[sec] = patch_indices_thisSection_allStructures"
   ]
  },
  {
   "cell_type": "code",
   "execution_count": null,
   "metadata": {
    "collapsed": true
   },
   "outputs": [],
   "source": [
    "if return_timestamp:\n",
    "    return DataFrame(patch_indices_allSections_allStructures).T, timestamp\n",
    "else:\n",
    "    return DataFrame(patch_indices_allSections_allStructures).T"
   ]
  },
  {
   "cell_type": "code",
   "execution_count": 13,
   "metadata": {
    "scrolled": true
   },
   "outputs": [
    {
     "ename": "TypeError",
     "evalue": "get_structure_contours_from_structure_volumes() got an unexpected keyword argument 'first_sec'",
     "output_type": "error",
     "traceback": [
      "\u001b[0;31m---------------------------------------------------------------------------\u001b[0m",
      "\u001b[0;31mTypeError\u001b[0m                                 Traceback (most recent call last)",
      "\u001b[0;32m<ipython-input-13-313d9f2cd5cd>\u001b[0m in \u001b[0;36m<module>\u001b[0;34m()\u001b[0m\n\u001b[1;32m      8\u001b[0m                                                                          \u001b[0mnegative_level\u001b[0m\u001b[0;34m=\u001b[0m\u001b[0;36m0.1\u001b[0m\u001b[0;34m,\u001b[0m\u001b[0;34m\u001b[0m\u001b[0m\n\u001b[1;32m      9\u001b[0m                                                                         \u001b[0msuffix\u001b[0m\u001b[0;34m=\u001b[0m\u001b[0;34m'structures'\u001b[0m\u001b[0;34m,\u001b[0m\u001b[0;34m\u001b[0m\u001b[0m\n\u001b[0;32m---> 10\u001b[0;31m                                                                            timestamp='04262018105643')\n\u001b[0m\u001b[1;32m     11\u001b[0m \u001b[0;31m#     grid_index_class_lookup_fp = \\\u001b[0m\u001b[0;34m\u001b[0m\u001b[0;34m\u001b[0m\u001b[0m\n\u001b[1;32m     12\u001b[0m \u001b[0;31m# DataManager.get_annotation_to_grid_indices_lookup_filepath(stack=stack, win_id=win_id, by_human=True,\u001b[0m\u001b[0;34m\u001b[0m\u001b[0;34m\u001b[0m\u001b[0m\n",
      "\u001b[0;32m<ipython-input-12-ca968b793234>\u001b[0m in \u001b[0;36mgenerate_annotation_to_grid_indices_lookup_v2\u001b[0;34m(stack, by_human, win_id, stack_m, detector_id_m, detector_id_f, warp_setting, trial_idx, surround_margins, suffix, timestamp, prep_id, positive_level, negative_level, return_timestamp, structures)\u001b[0m\n\u001b[1;32m     53\u001b[0m                                             \u001b[0mlevel\u001b[0m\u001b[0;34m=\u001b[0m\u001b[0mpositive_level\u001b[0m\u001b[0;34m[\u001b[0m\u001b[0mconvert_to_unsided_label\u001b[0m\u001b[0;34m(\u001b[0m\u001b[0mname_s\u001b[0m\u001b[0;34m)\u001b[0m\u001b[0;34m]\u001b[0m\u001b[0;34m,\u001b[0m\u001b[0;34m\u001b[0m\u001b[0m\n\u001b[1;32m     54\u001b[0m                                           \u001b[0msample_every\u001b[0m\u001b[0;34m=\u001b[0m\u001b[0;36m1\u001b[0m\u001b[0;34m,\u001b[0m\u001b[0;34m\u001b[0m\u001b[0m\n\u001b[0;32m---> 55\u001b[0;31m                                           first_sec=metadata_cache['section_limits'][stack][0])\n\u001b[0m\u001b[1;32m     56\u001b[0m                 \u001b[0;32mfor\u001b[0m \u001b[0msec\u001b[0m\u001b[0;34m,\u001b[0m \u001b[0mcnts_allStructures\u001b[0m \u001b[0;32min\u001b[0m \u001b[0mcnts_all_secs\u001b[0m\u001b[0;34m.\u001b[0m\u001b[0miteritems\u001b[0m\u001b[0;34m(\u001b[0m\u001b[0;34m)\u001b[0m\u001b[0;34m:\u001b[0m\u001b[0;34m\u001b[0m\u001b[0m\n\u001b[1;32m     57\u001b[0m                     \u001b[0mstructure_contours_pos_level\u001b[0m\u001b[0;34m[\u001b[0m\u001b[0msec\u001b[0m\u001b[0;34m]\u001b[0m\u001b[0;34m[\u001b[0m\u001b[0mname_s\u001b[0m\u001b[0;34m]\u001b[0m \u001b[0;34m=\u001b[0m \u001b[0mcnts_allStructures\u001b[0m\u001b[0;34m[\u001b[0m\u001b[0mname_s\u001b[0m\u001b[0;34m]\u001b[0m\u001b[0;34m\u001b[0m\u001b[0m\n",
      "\u001b[0;31mTypeError\u001b[0m: get_structure_contours_from_structure_volumes() got an unexpected keyword argument 'first_sec'"
     ]
    }
   ],
   "source": [
    "for stack in ['CHATM2']:\n",
    "    \n",
    "    win_id = 7\n",
    "    grid_index_class_lookup = generate_annotation_to_grid_indices_lookup_v2(stack=stack, win_id=win_id, \n",
    "                                                                            by_human=True, \n",
    "                                                                        surround_margins=[200, 500],\n",
    "                                                                        positive_level=positive_level, \n",
    "                                                                         negative_level=0.1,\n",
    "                                                                        suffix='structures',\n",
    "                                                                           timestamp='04262018105643')\n",
    "#     grid_index_class_lookup_fp = \\\n",
    "# DataManager.get_annotation_to_grid_indices_lookup_filepath(stack=stack, win_id=win_id, by_human=True, \n",
    "#                                                            timestamp='latest',\n",
    "#                                                           suffix='structures')\n",
    "    \n",
    "#     save_hdf_v2(grid_index_class_lookup, grid_index_class_lookup_fp)\n",
    "#     upload_to_s3(grid_index_class_lookup_fp)"
   ]
  },
  {
   "cell_type": "code",
   "execution_count": null,
   "metadata": {
    "collapsed": true,
    "scrolled": true
   },
   "outputs": [],
   "source": [
    "grid_index_class_lookup_fp = \\\n",
    "DataManager.get_annotation_to_grid_indices_lookup_filepath(stack=stack, win_id=win_id, by_human=True, \n",
    "                                                       timestamp='02062018184326',\n",
    "                                                      suffix='structures')\n",
    "\n",
    "save_hdf_v2(grid_index_class_lookup, grid_index_class_lookup_fp)\n",
    "upload_to_s3(grid_index_class_lookup_fp)"
   ]
  },
  {
   "cell_type": "code",
   "execution_count": null,
   "metadata": {
    "collapsed": true
   },
   "outputs": [],
   "source": [
    "%load_ext autoreload\n",
    "%autoreload 2\n",
    "\n",
    "from data_manager import *"
   ]
  },
  {
   "cell_type": "code",
   "execution_count": null,
   "metadata": {
    "collapsed": true,
    "scrolled": true
   },
   "outputs": [],
   "source": [
    "grid_index_class_lookup_fp = \\\n",
    "DataManager.get_annotation_to_grid_indices_lookup_filepath(stack=stack, win_id=win_id, by_human=True, \n",
    "                                                           timestamp='02062018184326',\n",
    "                                                          suffix='structures')"
   ]
  },
  {
   "cell_type": "code",
   "execution_count": null,
   "metadata": {
    "collapsed": true
   },
   "outputs": [],
   "source": [
    "grid_index_class_lookup_fp"
   ]
  },
  {
   "cell_type": "markdown",
   "metadata": {},
   "source": [
    "# Examine"
   ]
  },
  {
   "cell_type": "code",
   "execution_count": null,
   "metadata": {
    "collapsed": true
   },
   "outputs": [],
   "source": [
    "%matplotlib inline"
   ]
  },
  {
   "cell_type": "code",
   "execution_count": null,
   "metadata": {
    "collapsed": true
   },
   "outputs": [],
   "source": [
    "sec = 150"
   ]
  },
  {
   "cell_type": "code",
   "execution_count": null,
   "metadata": {
    "collapsed": true
   },
   "outputs": [],
   "source": [
    "# img = DataManager.load_image_v2(stack=stack, section=sec, prep_id=2, version='gray')\n",
    "img = DataManager.load_image_v2(stack=stack, section=sec, prep_id=2)"
   ]
  },
  {
   "cell_type": "code",
   "execution_count": null,
   "metadata": {
    "collapsed": true
   },
   "outputs": [],
   "source": [
    "viz = img.copy()\n",
    "\n",
    "# for s in ['VCA', 'VCP']:\n",
    "for s in ['7N', '7N_surround_200_noclass', \n",
    "          '5N_surround_200_noclass',\n",
    "         'Pn_surround_200_noclass']:\n",
    "    all_locs = grid_parameters_to_sample_locations(win_id=win_id, stack=stack)\n",
    "    if not sec in grid_index_class_lookup[s].dropna():\n",
    "        sys.stderr.write(\"No %s patches on section %d.\\n\" % (s, sec))\n",
    "        continue\n",
    "    for x, y in all_locs[grid_index_class_lookup[s][sec]]:\n",
    "        cv2.circle(viz, (x,y), 20, (255,0,0), 3)"
   ]
  },
  {
   "cell_type": "code",
   "execution_count": null,
   "metadata": {
    "collapsed": true,
    "scrolled": true
   },
   "outputs": [],
   "source": [
    "# viz = img.copy()\n",
    "\n",
    "# # for s in ['VCA', 'VCP']:\n",
    "# for s in ['7N_L', '7N_L_surround_200_noclass', \n",
    "#           '5N_L_surround_200_noclass',\n",
    "#          'Pn_L_surround_200_noclass']:\n",
    "#     all_locs = grid_parameters_to_sample_locations(win_id=win_id, stack=stack)\n",
    "#     if not sec in grid_index_class_lookup[s].dropna():\n",
    "#         sys.stderr.write(\"No %s patches on section %d.\\n\" % (s, sec))\n",
    "#         continue\n",
    "#     for x, y in all_locs[grid_index_class_lookup[s][sec]]:\n",
    "#         cv2.circle(viz, (x,y), 20, (255,0,0), 3)"
   ]
  },
  {
   "cell_type": "code",
   "execution_count": null,
   "metadata": {
    "collapsed": true,
    "scrolled": true
   },
   "outputs": [],
   "source": [
    "display_image(viz[::4, ::4])"
   ]
  },
  {
   "cell_type": "markdown",
   "metadata": {},
   "source": [
    "# Save and Upload"
   ]
  },
  {
   "cell_type": "code",
   "execution_count": null,
   "metadata": {
    "collapsed": true
   },
   "outputs": [],
   "source": [
    "grid_index_class_lookup_fp = \\\n",
    "DataManager.get_annotation_to_grid_indices_lookup_filepath(stack=stack, win_id=win_id, \n",
    "                                                           by_human=True, timestamp=latest_timestamp)\n",
    "print grid_index_class_lookup_fp"
   ]
  },
  {
   "cell_type": "code",
   "execution_count": null,
   "metadata": {
    "collapsed": true
   },
   "outputs": [],
   "source": [
    "grid_index_class_lookup_fp = \\\n",
    "DataManager.get_annotation_to_grid_indices_lookup_filepath(stack=stack, win_id=win_id, by_human=False, \n",
    "                                                                     stack_m='atlasV5', \n",
    "                                                                                detector_id_f=detector_id,\n",
    "                                                          timestamp='now')"
   ]
  },
  {
   "cell_type": "code",
   "execution_count": null,
   "metadata": {
    "collapsed": true,
    "scrolled": true
   },
   "outputs": [],
   "source": [
    "save_hdf_v2(grid_index_class_lookup, grid_index_class_lookup_fp)\n",
    "upload_to_s3(grid_index_class_lookup_fp)"
   ]
  },
  {
   "cell_type": "code",
   "execution_count": null,
   "metadata": {
    "collapsed": true
   },
   "outputs": [],
   "source": []
  },
  {
   "cell_type": "code",
   "execution_count": null,
   "metadata": {
    "collapsed": true
   },
   "outputs": [],
   "source": [
    "stack = 'MD595'"
   ]
  },
  {
   "cell_type": "code",
   "execution_count": null,
   "metadata": {
    "collapsed": true,
    "scrolled": true
   },
   "outputs": [],
   "source": [
    "grid_index_class_lookup = \\\n",
    "DataManager.load_annotation_to_grid_indices_lookup(stack=stack, win_id=win_id, by_human=False, \n",
    "                                                                     stack_m=atlas_name, \n",
    "                                                                                detector_id_f=detector_id,\n",
    "                                                           prep_id_f=2,\n",
    "                                                                                warp_setting=warp_setting,\n",
    "                                                          timestamp='latest')"
   ]
  },
  {
   "cell_type": "code",
   "execution_count": null,
   "metadata": {
    "collapsed": true,
    "scrolled": true
   },
   "outputs": [],
   "source": [
    "grid_index_class_lookup = DataManager.load_annotation_to_grid_indices_lookup(stack='MD589', win_id=5, \n",
    "                                                                             by_human=True,\n",
    "                                                                            timestamp='latest')"
   ]
  },
  {
   "cell_type": "code",
   "execution_count": null,
   "metadata": {
    "collapsed": true,
    "scrolled": true
   },
   "outputs": [],
   "source": [
    "grid_index_class_lookup.loc[108]['VCA']"
   ]
  },
  {
   "cell_type": "code",
   "execution_count": null,
   "metadata": {
    "collapsed": true,
    "scrolled": true
   },
   "outputs": [],
   "source": [
    "# for stack in all_annotated_stacks:\n",
    "    \n",
    "#     sys.stderr.write('%s\\n' % stack)\n",
    "    \n",
    "#     label_gridIndices = locate_annotated_patches_v2(stack=stack)\n",
    "    \n",
    "#     annotation_grid_indices_fn = os.path.join(ANNOTATION_ROOTDIR, stack, '%(stack)s_annotation_grid_indices.h5' % dict(stack=stack))\n",
    "#     label_gridIndices.to_hdf(annotation_grid_indices_fn, 'grid_indices')"
   ]
  },
  {
   "cell_type": "code",
   "execution_count": null,
   "metadata": {
    "collapsed": true
   },
   "outputs": [],
   "source": [
    "# label_gridIndices = read_hdf(annotation_grid_indices_fn, 'grid_indices')"
   ]
  }
 ],
 "metadata": {
  "kernelspec": {
   "display_name": "Python 2",
   "language": "python",
   "name": "python2"
  },
  "language_info": {
   "codemirror_mode": {
    "name": "ipython",
    "version": 2
   },
   "file_extension": ".py",
   "mimetype": "text/x-python",
   "name": "python",
   "nbconvert_exporter": "python",
   "pygments_lexer": "ipython2",
   "version": "2.7.12"
  }
 },
 "nbformat": 4,
 "nbformat_minor": 1
}
