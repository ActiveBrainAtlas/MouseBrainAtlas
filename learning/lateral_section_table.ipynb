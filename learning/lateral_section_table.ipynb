{
 "cells": [
  {
   "cell_type": "code",
   "execution_count": 1,
   "metadata": {
    "collapsed": true
   },
   "outputs": [],
   "source": [
    "import numpy as np\n",
    "\n",
    "import matplotlib.pyplott as plt\n",
    "%matplotlib inline"
   ]
  },
  {
   "cell_type": "code",
   "execution_count": 4,
   "metadata": {
    "collapsed": false,
    "scrolled": true
   },
   "outputs": [
    {
     "data": {
      "text/plain": [
       "[(49, 2.6400000000000001),\n",
       " (50, 2.5993846153846154),\n",
       " (51, 2.5587692307692307),\n",
       " (52, 2.5181538461538464),\n",
       " (53, 2.4775384615384617),\n",
       " (54, 2.436923076923077),\n",
       " (55, 2.3963076923076922),\n",
       " (56, 2.355692307692308),\n",
       " (57, 2.3150769230769233),\n",
       " (58, 2.2744615384615385),\n",
       " (59, 2.2338461538461538),\n",
       " (60, 2.1932307692307695),\n",
       " (61, 2.1526153846153848),\n",
       " (62, 2.1120000000000001),\n",
       " (63, 2.0713846153846154),\n",
       " (64, 2.0307692307692307),\n",
       " (65, 1.9901538461538464),\n",
       " (66, 1.9495384615384617),\n",
       " (67, 1.9089230769230769),\n",
       " (68, 1.8683076923076924),\n",
       " (69, 1.8276923076923079),\n",
       " (70, 1.7870769230769232),\n",
       " (71, 1.7464615384615385),\n",
       " (72, 1.705846153846154),\n",
       " (73, 1.6652307692307693),\n",
       " (74, 1.6246153846153848),\n",
       " (75, 1.5840000000000001),\n",
       " (76, 1.5433846153846156),\n",
       " (77, 1.5027692307692309),\n",
       " (78, 1.4621538461538464),\n",
       " (79, 1.4215384615384616),\n",
       " (80, 1.3809230769230771),\n",
       " (81, 1.3403076923076924),\n",
       " (82, 1.2996923076923077),\n",
       " (83, 1.2590769230769232),\n",
       " (84, 1.2184615384615385),\n",
       " (85, 1.177846153846154),\n",
       " (86, 1.1372307692307693),\n",
       " (87, 1.0966153846153848),\n",
       " (88, 1.056),\n",
       " (89, 1.0153846153846156),\n",
       " (90, 0.97476923076923083),\n",
       " (91, 0.93415384615384633),\n",
       " (92, 0.89353846153846161),\n",
       " (93, 0.85292307692307712),\n",
       " (94, 0.8123076923076924),\n",
       " (95, 0.7716923076923079),\n",
       " (96, 0.73107692307692318),\n",
       " (97, 0.69046153846153846),\n",
       " (98, 0.64984615384615396),\n",
       " (99, 0.60923076923076946),\n",
       " (100, 0.56861538461538474),\n",
       " (101, 0.52800000000000002),\n",
       " (102, 0.48738461538461531),\n",
       " (103, 0.44676923076923103),\n",
       " (104, 0.40615384615384631),\n",
       " (105, 0.36553846153846159),\n",
       " (106, 0.32492307692307687),\n",
       " (107, 0.28430769230769259),\n",
       " (108, 0.24369230769230787),\n",
       " (109, 0.20307692307692315),\n",
       " (110, 0.16246153846153844),\n",
       " (111, 0.12184615384615416),\n",
       " (112, 0.08123076923076944),\n",
       " (113, 0.04061538461538472),\n",
       " (114, 0.0)]"
      ]
     },
     "execution_count": 4,
     "metadata": {},
     "output_type": "execute_result"
    }
   ],
   "source": [
    "zip(range(49, 115), np.linspace(2.64, 0, 114-49+1))"
   ]
  },
  {
   "cell_type": "code",
   "execution_count": 48,
   "metadata": {
    "collapsed": false
   },
   "outputs": [
    {
     "data": {
      "image/png": "[encoded data removed]",
      "text/plain": [
       "<matplotlib.figure.Figure at 0x4751350>"
      ]
     },
     "metadata": {},
     "output_type": "display_data"
    }
   ],
   "source": [
    "a = np.deg2rad(-18.5)\n",
    "R = [[np.cos(a), -np.sin(a)], [np.sin(a), np.cos(a)]]\n",
    "\n",
    "plt.figure()\n",
    "plt.axis('equal')\n",
    "vs = np.array([(645,132),(645,683),(1167,683),(1167,132)])\n",
    "for x,y in vs:\n",
    "    plt.scatter(x,y, c='r')\n",
    "    \n",
    "center = (696, 474)\n",
    "    \n",
    "new_vs = np.dot(R, (vs-center).T).T + center\n",
    "    \n",
    "for x,y in new_vs:\n",
    "    plt.scatter(x,y)"
   ]
  },
  {
   "cell_type": "code",
   "execution_count": 49,
   "metadata": {
    "collapsed": false
   },
   "outputs": [],
   "source": [
    "new_vs = new_vs.astype(np.int)"
   ]
  },
  {
   "cell_type": "code",
   "execution_count": 50,
   "metadata": {
    "collapsed": false
   },
   "outputs": [
    {
     "data": {
      "text/plain": [
       "array([[ 539,  165],\n",
       "       [ 713,  688],\n",
       "       [1208,  522],\n",
       "       [1034,    0]])"
      ]
     },
     "execution_count": 50,
     "metadata": {},
     "output_type": "execute_result"
    }
   ],
   "source": [
    "new_vs"
   ]
  },
  {
   "cell_type": "code",
   "execution_count": 51,
   "metadata": {
    "collapsed": false
   },
   "outputs": [],
   "source": [
    "xmin, ymin = new_vs.min(axis=0)\n",
    "xmax, ymax = new_vs.max(axis=0)"
   ]
  },
  {
   "cell_type": "code",
   "execution_count": 52,
   "metadata": {
    "collapsed": false
   },
   "outputs": [
    {
     "data": {
      "text/plain": [
       "'669x688+539+0'"
      ]
     },
     "execution_count": 52,
     "metadata": {},
     "output_type": "execute_result"
    }
   ],
   "source": [
    "'%dx%d+%d+%d'%(xmax-xmin,ymax-ymin,xmin,ymin)"
   ]
  },
  {
   "cell_type": "code",
   "execution_count": null,
   "metadata": {
    "collapsed": true
   },
   "outputs": [],
   "source": []
  }
 ],
 "metadata": {
  "kernelspec": {
   "display_name": "Python 2",
   "language": "python",
   "name": "python2"
  },
  "language_info": {
   "codemirror_mode": {
    "name": "ipython",
    "version": 2
   },
   "file_extension": ".py",
   "mimetype": "text/x-python",
   "name": "python",
   "nbconvert_exporter": "python",
   "pygments_lexer": "ipython2",
   "version": "2.7.3"
  }
 },
 "nbformat": 4,
 "nbformat_minor": 0
}
