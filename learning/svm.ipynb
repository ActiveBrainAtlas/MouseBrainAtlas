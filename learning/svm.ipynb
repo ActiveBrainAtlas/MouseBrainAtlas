{
 "cells": [
  {
   "cell_type": "code",
   "execution_count": 1,
   "metadata": {
    "collapsed": false
   },
   "outputs": [],
   "source": [
    "%reload_ext autoreload\n",
    "%autoreload 2\n",
    "\n",
    "import os\n",
    "import argparse\n",
    "import sys\n",
    "import time\n",
    "import cv2\n",
    "\n",
    "from joblib import Parallel, delayed\n",
    "\n",
    "sys.path.append(os.path.join(os.environ['REPO_DIR'], 'utilities'))\n",
    "from utilities2015 import *\n",
    "\n",
    "from matplotlib.path import Path\n",
    "%matplotlib inline\n",
    "\n",
    "import numpy as np"
   ]
  },
  {
   "cell_type": "code",
   "execution_count": 2,
   "metadata": {
    "collapsed": true
   },
   "outputs": [],
   "source": [
    "features_dir = '/home/yuncong/csd395/CSHL_patch_features_Sat16ClassFinetuned/'\n",
    "# train_features_dir = features_dir + '/train'\n",
    "# train_features_dir = features_dir + '/train_v2'\n",
    "train_features_dir = features_dir + '/train_v3'"
   ]
  },
  {
   "cell_type": "code",
   "execution_count": 3,
   "metadata": {
    "collapsed": true
   },
   "outputs": [],
   "source": [
    "labels = ['BackG', '5N', '7n', '7N', '12N', 'Pn', 'VLL', \n",
    "          '6N', 'Amb', 'R', 'Tz', 'RtTg', 'LRt', 'LC', 'AP', 'sp5']\n",
    "\n",
    "labels_index = dict((j, i) for i, j in enumerate(labels))\n",
    "\n",
    "labels_from_surround = dict( (l+'_surround', l) for l in labels[1:])\n",
    "\n",
    "labels_surroundIncluded_list = labels[1:] + [l+'_surround' for l in labels[1:]]\n",
    "labels_surroundIncluded = set(labels_surroundIncluded_list)\n",
    "\n",
    "labels_surroundIncluded_index = dict((j, i) for i, j in enumerate(labels_surroundIncluded_list))\n",
    "\n",
    "colors = np.random.randint(0, 255, (len(labels_index), 3))"
   ]
  },
  {
   "cell_type": "code",
   "execution_count": null,
   "metadata": {
    "collapsed": true
   },
   "outputs": [],
   "source": []
  },
  {
   "cell_type": "code",
   "execution_count": 4,
   "metadata": {
    "collapsed": false
   },
   "outputs": [],
   "source": [
    "from sklearn.svm import SVC\n",
    "from sklearn.externals import joblib"
   ]
  },
  {
   "cell_type": "code",
   "execution_count": 5,
   "metadata": {
    "collapsed": true
   },
   "outputs": [],
   "source": [
    "# svm_dir = 'svm_Sat16ClassFinetuned'\n",
    "# svm_dir = 'svm_Sat16ClassFinetuned_v2'\n",
    "svm_dir = 'svm_Sat16ClassFinetuned_v3'\n",
    "create_if_not_exists(svm_dir)"
   ]
  },
  {
   "cell_type": "code",
   "execution_count": 7,
   "metadata": {
    "collapsed": false
   },
   "outputs": [
    {
     "name": "stdout",
     "output_type": "stream",
     "text": [
      "5N\n",
      "7n\n",
      "7N\n",
      "12N\n",
      "Pn\n",
      "VLL\n",
      "6N\n",
      "Amb\n",
      "R\n",
      "Tz\n",
      "RtTg\n",
      "LRt\n",
      "LC\n",
      "AP\n",
      "sp5\n"
     ]
    },
    {
     "name": "stderr",
     "output_type": "stream",
     "text": [
      "svm train: 41.19 seconds\n"
     ]
    }
   ],
   "source": [
    "# train svm classifiers\n",
    "stack = 'MD589'\n",
    "\n",
    "t = time.time()\n",
    "\n",
    "for label in labels[1:]:\n",
    "            \n",
    "    print label\n",
    "    \n",
    "    features_allClasses_pos = load_hdf(train_features_dir + '/%(stack)s_%(label)s_features.hdf' % {'stack': stack, 'label': label})\n",
    "    features_allClasses_neg = load_hdf(train_features_dir + '/%(stack)s_%(label)s_surround_features.hdf' % {'stack': stack, 'label': label})\n",
    "\n",
    "    train_data = np.r_[features_allClasses_pos, features_allClasses_neg]\n",
    "    train_labels = np.r_[np.ones((features_allClasses_pos.shape[0], )), \n",
    "                         -np.ones((features_allClasses_neg.shape[0], ))]\n",
    "    \n",
    "    svc = SVC(C=1.0, kernel='rbf', degree=3, gamma='auto', coef0=0.0, shrinking=True, \n",
    "          probability=True, tol=0.001, cache_size=200, class_weight=None, verbose=False, \n",
    "          max_iter=-1, decision_function_shape=None, random_state=None)\n",
    "    \n",
    "    svc.fit(train_data, train_labels)\n",
    "    \n",
    "    joblib.dump(svc, svm_dir + '/%(label)s_svm.pkl' % {'label': label})\n",
    "    \n",
    "    del features_allClasses_pos, features_allClasses_neg, train_data, train_labels, svc\n",
    "    \n",
    "sys.stderr.write('svm train: %.2f seconds\\n' % (time.time() - t)) # ~41s v3"
   ]
  },
  {
   "cell_type": "code",
   "execution_count": 8,
   "metadata": {
    "collapsed": false
   },
   "outputs": [],
   "source": [
    "# Load pre-computed svm classifiers\n",
    "\n",
    "svc_allClasses = {}\n",
    "for label_ind, label in enumerate(labels[1:]):\n",
    "    svc_allClasses[label] = joblib.load(svm_dir + '/%(label)s_svm.pkl' % {'label': label})"
   ]
  },
  {
   "cell_type": "code",
   "execution_count": null,
   "metadata": {
    "collapsed": true
   },
   "outputs": [],
   "source": []
  },
  {
   "cell_type": "code",
   "execution_count": 16,
   "metadata": {
    "collapsed": false
   },
   "outputs": [
    {
     "data": {
      "text/plain": [
       "'/oasis/projects/nsf/csd395/yuncong/CSHL_patch_predictions_svm_Sat16ClassFinetuned_v3'"
      ]
     },
     "execution_count": 16,
     "metadata": {},
     "output_type": "execute_result"
    }
   ],
   "source": [
    "# output\n",
    "\n",
    "# predictions_rootdir = '/oasis/projects/nsf/csd395/yuncong/CSHL_patch_predictions_svm_Sat16ClassFinetuned'\n",
    "# predictions_rootdir = '/oasis/projects/nsf/csd395/yuncong/CSHL_patch_predictions_svm_Sat16ClassFinetuned_v2'\n",
    "predictions_rootdir = '/oasis/projects/nsf/csd395/yuncong/CSHL_patch_predictions_svm_Sat16ClassFinetuned_v3'\n",
    "create_if_not_exists(predictions_rootdir)"
   ]
  },
  {
   "cell_type": "code",
   "execution_count": 17,
   "metadata": {
    "collapsed": true
   },
   "outputs": [],
   "source": [
    "def svm_predict(stack, sec):\n",
    "    \n",
    "    test_features_dir = features_dir + '/%(stack)s/%(sec)04d' % {'stack': stack, 'sec': sec}\n",
    "#     features_roi = bp.unpack_ndarray_file(test_features_dir + '/%(stack)s_%(sec)04d_features.bp' % {'stack': stack, 'sec': sec})\n",
    "    features_roi = load_hdf(test_features_dir + '/%(stack)s_%(sec)04d_roi1_features.hdf' % {'stack': stack, 'sec': sec})\n",
    "    n = features_roi.shape[0]\n",
    "\n",
    "    predictions_dir = predictions_rootdir + '/%(stack)s/%(sec)04d' % {'stack': stack, 'sec': sec}\n",
    "    create_if_not_exists(predictions_dir)\n",
    "\n",
    "###### all labelmaps in one file #########\n",
    "\n",
    "#     probs = np.zeros((n, len(labels)-1))\n",
    "#     for label_ind, label in enumerate(labels[1:]):\n",
    "#         svc = svc_allClasses[label]\n",
    "#         probs[:, label_ind] = svc.predict_proba(features_roi)[:, svc.classes_.tolist().index(1.)]\n",
    "#     np.save(predictions_dir + '/%(stack)s_%(sec)04d_roi1_scores.npy' % {'stack': stack, 'sec': sec}, probs)\n",
    "    \n",
    "###### separate labelmap in different files #######\n",
    "\n",
    "    for label_ind, label in enumerate(labels[1:]):\n",
    "        svc = svc_allClasses[label]\n",
    "        probs = svc.predict_proba(features_roi)[:, svc.classes_.tolist().index(1.)]\n",
    "        np.save(predictions_dir + '/%(stack)s_%(sec)04d_roi1_%(label)s_sparseScores.npy' % {'stack': stack, 'sec': sec, 'label': label}, \n",
    "                probs)"
   ]
  },
  {
   "cell_type": "code",
   "execution_count": 21,
   "metadata": {
    "collapsed": false
   },
   "outputs": [
    {
     "name": "stderr",
     "output_type": "stream",
     "text": [
      "svm predict: 2412.87 seconds\n"
     ]
    }
   ],
   "source": [
    "stack = 'MD594'\n",
    "first_detect_sec, last_detect_sec = detect_bbox_range_lookup[stack]\n",
    "\n",
    "t = time.time()\n",
    "Parallel(n_jobs=8)(delayed(svm_predict)(stack=stack, sec=sec) \n",
    "                   for sec in range(first_detect_sec, last_detect_sec+1))\n",
    "\n",
    "sys.stderr.write('svm predict: %.2f seconds\\n' % (time.time() - t)) # 2412 s = 40 min / stack"
   ]
  },
  {
   "cell_type": "code",
   "execution_count": null,
   "metadata": {
    "collapsed": true
   },
   "outputs": [],
   "source": []
  },
  {
   "cell_type": "code",
   "execution_count": null,
   "metadata": {
    "collapsed": true
   },
   "outputs": [],
   "source": [
    "t = time.time()\n",
    "for sec in range(first_detect_sec, last_detect_sec+1, 10):\n",
    "    f(stack=stack, sec=sec)\n",
    "print time.time() - t # ~92 s"
   ]
  }
 ],
 "metadata": {
  "kernelspec": {
   "display_name": "Python 2",
   "language": "python",
   "name": "python2"
  },
  "language_info": {
   "codemirror_mode": {
    "name": "ipython",
    "version": 2
   },
   "file_extension": ".py",
   "mimetype": "text/x-python",
   "name": "python",
   "nbconvert_exporter": "python",
   "pygments_lexer": "ipython2",
   "version": "2.7.3"
  }
 },
 "nbformat": 4,
 "nbformat_minor": 0
}
