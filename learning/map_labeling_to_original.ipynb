{
 "cells": [
  {
   "cell_type": "code",
   "execution_count": null,
   "metadata": {
    "collapsed": true
   },
   "outputs": [],
   "source": [
    "%reload_ext autoreload\n",
    "%autoreload 2\n",
    "\n",
    "import cv2\n",
    "\n",
    "import os\n",
    "import sys\n",
    "sys.path.append(os.path.join(os.environ['REPO_DIR'], 'utilities'))\n",
    "from utilities2015 import *\n",
    "\n",
    "from collections import defaultdict\n",
    "\n",
    "from matplotlib.path import Path\n",
    "%matplotlib inline\n",
    "\n",
    "from skimage.transform import estimate_transform"
   ]
  },
  {
   "cell_type": "code",
   "execution_count": null,
   "metadata": {
    "collapsed": false
   },
   "outputs": [],
   "source": [
    "from enum import Enum\n",
    "\n",
    "class PolygonType(Enum):\n",
    "    CLOSED = 'closed'\n",
    "    OPEN = 'open'\n",
    "    TEXTURE = 'textured'\n",
    "    TEXTURE_WITH_CONTOUR = 'texture with contour'\n",
    "    DIRECTION = 'directionality'"
   ]
  },
  {
   "cell_type": "code",
   "execution_count": null,
   "metadata": {
    "collapsed": false
   },
   "outputs": [],
   "source": [
    "# mapping from old ICH-set to new set\n",
    "def mapping(x):\n",
    "    if x <= 153:\n",
    "        return (x-100)*2+197\n",
    "    elif x <= 165:\n",
    "        return (x-100)*2+197-1\n",
    "    else:\n",
    "        return (x-100)*2+197-2"
   ]
  },
  {
   "cell_type": "code",
   "execution_count": null,
   "metadata": {
    "collapsed": false
   },
   "outputs": [],
   "source": [
    "stack = 'MD589'\n",
    "\n",
    "for section in range(1, 500):\n",
    "\n",
    "    try:\n",
    "        dm = DataManager(stack=stack, section=section, load_mask=False,\n",
    "                        labeling_dir='/home/yuncong/CSHL_data_labelings/')\n",
    "        user, ts, _, res  = dm.load_proposal_review_result('yuncong', 'latest', 'consolidated')\n",
    "    except:\n",
    "        continue\n",
    "    \n",
    "    sys.stderr.write('%d, %d\\n' % (section, mapping(section)))\n",
    "    \n",
    "    new_res = []\n",
    "    for pol in res:\n",
    "        new_pol = pol.copy()\n",
    "        if len(pol['vertices']) == 0:\n",
    "            continue\n",
    "        new_pol['vertices'] = tf(pol['vertices'])\n",
    "        new_pol['labelPos'] = tf(pol['labelPos'])\n",
    "        new_res.append(new_pol)\n",
    "\n",
    "    out_dir = '/oasis/projects/nsf/csd395/yuncong/CSHL_data_labelings_originalLossless/' + stack + '/' + '%04d'%mapping(section)\n",
    "    if not os.path.exists(out_dir):\n",
    "        os.makedirs(out_dir)\n",
    "\n",
    "    pickle.dump(new_res, \n",
    "                open(out_dir + '/' + stack + '_' + '%04d'%mapping(section) + '_' + user + '_' + ts + '_consolidated.pkl', 'w'))"
   ]
  },
  {
   "cell_type": "code",
   "execution_count": null,
   "metadata": {
    "collapsed": false
   },
   "outputs": [],
   "source": [
    "stack = 'MD589'\n",
    "\n",
    "for section in range(93, 368+1):\n",
    "\n",
    "    try:\n",
    "        dm = DataManager(stack=stack, section=section, load_mask=False, \n",
    "                         labeling_dir='/home/yuncong/CSHL_data_labelings_originalLossless/')\n",
    "        user, ts, _, results = dm.load_proposal_review_result('yuncong', 'latest', 'consolidated')\n",
    "    except:\n",
    "        continue\n",
    "    \n",
    "    print section\n",
    "\n",
    "    T = mapping_originalLosslessToLosslessAlignedCropped[section]\n",
    "    \n",
    "    new_res = []\n",
    "    for pol in results:\n",
    "        new_pol = pol.copy()\n",
    "        if len(pol['vertices']) == 0:\n",
    "            continue\n",
    "        \n",
    "        vs = pol['vertices']\n",
    "        new_pol['vertices'] = np.dot(T, np.vstack([vs.T, np.ones((1, vs.shape[0]))]))[:2].T.astype(np.int) \n",
    "        \n",
    "        vs = pol['labelPos']\n",
    "        new_pol['labelPos'] = np.dot(T, np.vstack([vs.T, np.ones((1, vs.shape[0]))]))[:2].T.astype(np.int)\n",
    "        \n",
    "        new_res.append(new_pol)\n",
    "\n",
    "    out_dir = '/oasis/projects/nsf/csd395/yuncong/CSHL_data_labelings_losslessAlignCropped/' + stack + '/' + '%04d'%mapping(section)\n",
    "    if not os.path.exists(out_dir):\n",
    "        os.makedirs(out_dir)\n",
    "\n",
    "    pickle.dump(new_res, \n",
    "                open(out_dir + '/' + stack + '_' + '%04d'%mapping(section) + '_' + user + '_' + ts + '_consolidated.pkl', 'w'))"
   ]
  },
  {
   "cell_type": "code",
   "execution_count": null,
   "metadata": {
    "collapsed": false
   },
   "outputs": [],
   "source": [
    "# 197 thumbnail original new\n",
    "# X1 = np.array([[972,400],\n",
    "#      [655,433],\n",
    "#      [813,375],\n",
    "#      [743,280],\n",
    "#      [831,318],\n",
    "#      [989,358],\n",
    "#      [897,173],\n",
    "#      [837,175],\n",
    "#      [970,510]])*32\n",
    "\n",
    "# 197 lossless original new\n",
    "X1 = np.array([[30921, 15414],\n",
    "     [20733, 15904],\n",
    "     [25821, 14339],\n",
    "     [23780, 11170],\n",
    "     [26512, 12577],\n",
    "     [31470, 14090],\n",
    "     [28864, 7992],\n",
    "     [26910, 8121],\n",
    "     [30677, 18911]])\n",
    "\n",
    "# 100 lossless aligned_cropped old, with label\n",
    "X2 = np.array([[10450,8558],\n",
    "     [286,9548],\n",
    "     [5280,7731],\n",
    "     [3069,4677],\n",
    "     [5883,5941],\n",
    "     [10929,7200],\n",
    "     [8016,1256],\n",
    "     [6056,1468],\n",
    "     [10359,12058]])"
   ]
  },
  {
   "cell_type": "code",
   "execution_count": null,
   "metadata": {
    "collapsed": true
   },
   "outputs": [],
   "source": []
  },
  {
   "cell_type": "code",
   "execution_count": null,
   "metadata": {
    "collapsed": false
   },
   "outputs": [],
   "source": [
    "tf = estimate_transform('similarity', X2, X1)\n",
    "tf(X2)"
   ]
  },
  {
   "cell_type": "code",
   "execution_count": null,
   "metadata": {
    "collapsed": true
   },
   "outputs": [],
   "source": [
    "transforms = pickle.load(open(os.environ['DATA_DIR']+'/MD589_finalTransfParams.pkl', 'r'))\n",
    "\n",
    "mapping_originalLosslessToLosslessAlignedCropped = dict()\n",
    "\n",
    "for i in range(93, 368+1):\n",
    "    T = np.linalg.inv(transforms[i])\n",
    "    T[:2, 2] = (T[:2, 2] - [643, 145]) * 32\n",
    "    mapping_originalLosslessToLosslessAlignedCropped[i] = T\n",
    "\n",
    "pickle.dump(mapping_originalLosslessToLosslessAlignedCropped, \n",
    "            open(os.environ['DATA_DIR'] + '/MD589_mappingFromOriginalLosslessToLosslessAlignedCropped.pkl', 'w'))"
   ]
  },
  {
   "cell_type": "code",
   "execution_count": null,
   "metadata": {
    "collapsed": true
   },
   "outputs": [],
   "source": [
    "mapping_originalLosslessToThumbnailAlignedCropped = dict()\n",
    "\n",
    "for i in range(93, 368+1):\n",
    "    T = np.linalg.inv(transforms[i])\n",
    "    T[:2, 2] = T[:2, 2] - [643, 145]\n",
    "    mapping_originalLosslessToThumbnailAlignedCropped[i] = T"
   ]
  },
  {
   "cell_type": "code",
   "execution_count": null,
   "metadata": {
    "collapsed": false
   },
   "outputs": [],
   "source": [
    "dm = DataManager(stack='MD589', section=197, load_mask=False, labeling_dir='/home/yuncong/CSHL_data_labelings_originalLossless/')\n",
    "user, ts, _, res2 = dm.load_proposal_review_result('yuncong', 'latest', 'consolidated')\n",
    "\n",
    "img = imread(os.environ['DATA_DIR'] + '/MD589_thumbnail_aligned_cropped/MD589_0197_thumbnail_aligned_cropped.tif')\n",
    "\n",
    "vs = [i for i in res2 if i['label'] == 'Pn'][0]['vertices'] / 32.\n",
    "\n",
    "T = mapping_originalLosslessToThumbnailAlignedCropped[197]\n",
    "vs = np.dot(T, np.vstack([vs.T, np.ones((1, vs.shape[0]))]))[:2].T\n",
    "\n",
    "viz = img_as_ubyte(img)\n",
    "\n",
    "for x,y in vs:\n",
    "    cv2.circle(viz, (int(x), int(y)), 3, (255,0,0))\n",
    "    \n",
    "plt.figure(figsize=(20,20));\n",
    "plt.imshow(viz);"
   ]
  },
  {
   "cell_type": "code",
   "execution_count": null,
   "metadata": {
    "collapsed": false
   },
   "outputs": [],
   "source": []
  },
  {
   "cell_type": "code",
   "execution_count": null,
   "metadata": {
    "collapsed": false
   },
   "outputs": [],
   "source": [
    "img =imread(os.environ['DATA_DIR'] + '/MD589_thumbnail_aligned/MD589_0197_thumbnail_aligned.tif')"
   ]
  },
  {
   "cell_type": "code",
   "execution_count": null,
   "metadata": {
    "collapsed": false
   },
   "outputs": [],
   "source": [
    "vs = [i for i in new_res if i['label'] == 'Pn'][0]['vertices']"
   ]
  },
  {
   "cell_type": "code",
   "execution_count": null,
   "metadata": {
    "collapsed": true
   },
   "outputs": [],
   "source": [
    "viz = img_as_ubyte(img)\n",
    "\n",
    "for x,y in vs:\n",
    "    cv2.circle(viz, (int(x), int(y)), 3, (255,0,0))"
   ]
  },
  {
   "cell_type": "code",
   "execution_count": null,
   "metadata": {
    "collapsed": false
   },
   "outputs": [],
   "source": [
    "plt.figure(figsize=(20,20));\n",
    "plt.imshow(viz);"
   ]
  }
 ],
 "metadata": {
  "kernelspec": {
   "display_name": "Python 2",
   "language": "python",
   "name": "python2"
  },
  "language_info": {
   "codemirror_mode": {
    "name": "ipython",
    "version": 2
   },
   "file_extension": ".py",
   "mimetype": "text/x-python",
   "name": "python",
   "nbconvert_exporter": "python",
   "pygments_lexer": "ipython2",
   "version": "2.7.3"
  }
 },
 "nbformat": 4,
 "nbformat_minor": 0
}
