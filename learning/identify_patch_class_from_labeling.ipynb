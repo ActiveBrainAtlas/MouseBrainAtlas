{
 "cells": [
  {
   "cell_type": "code",
   "execution_count": 2,
   "metadata": {},
   "outputs": [
    {
     "name": "stdout",
     "output_type": "stream",
     "text": [
      "Setting environment for AWS compute node\n"
     ]
    },
    {
     "name": "stderr",
     "output_type": "stream",
     "text": [
      "No vtk\n",
      "Cannot import mxnet.\n"
     ]
    }
   ],
   "source": [
    "%load_ext autoreload\n",
    "%autoreload 2\n",
    "\n",
    "import sys\n",
    "import os\n",
    "import time\n",
    "\n",
    "sys.path.append(os.environ['REPO_DIR'] + '/utilities')\n",
    "from utilities2015 import *\n",
    "from metadata import *\n",
    "from data_manager import *\n",
    "from learning_utilities import *"
   ]
  },
  {
   "cell_type": "code",
   "execution_count": 11,
   "metadata": {
    "scrolled": true
   },
   "outputs": [
    {
     "name": "stdout",
     "output_type": "stream",
     "text": [
      "aws s3 cp --recursive \"s3://mousebrainatlas-data/CSHL_labelings_v3/MD585\" \"/shared/CSHL_labelings_v3/MD585\" --exclude \"*\" --include \"*contours*\"\n",
      "latest timestamp:  08012017212649\n"
     ]
    },
    {
     "name": "stderr",
     "output_type": "stream",
     "text": [
      "Computing grid indices lookup for section 83...\n",
      "Computing grid indices lookup for section 84...\n",
      "Computing grid indices lookup for section 85...\n",
      "Computing grid indices lookup for section 86...\n",
      "Computing grid indices lookup for section 87...\n",
      "Computing grid indices lookup for section 88...\n",
      "Computing grid indices lookup for section 89...\n",
      "Computing grid indices lookup for section 90...\n",
      "Computing grid indices lookup for section 91...\n",
      "Computing grid indices lookup for section 92...\n",
      "Computing grid indices lookup for section 93...\n",
      "Computing grid indices lookup for section 94...\n",
      "Computing grid indices lookup for section 95...\n",
      "Computing grid indices lookup for section 96...\n",
      "Computing grid indices lookup for section 97...\n",
      "Computing grid indices lookup for section 98...\n",
      "Computing grid indices lookup for section 99...\n",
      "Computing grid indices lookup for section 100...\n",
      "Computing grid indices lookup for section 101...\n",
      "Computing grid indices lookup for section 102...\n",
      "Computing grid indices lookup for section 103...\n",
      "Computing grid indices lookup for section 104...\n",
      "Computing grid indices lookup for section 105...\n",
      "Computing grid indices lookup for section 106...\n",
      "Computing grid indices lookup for section 107...\n",
      "Computing grid indices lookup for section 108...\n",
      "Computing grid indices lookup for section 109...\n",
      "Computing grid indices lookup for section 110...\n",
      "Computing grid indices lookup for section 111...\n",
      "Computing grid indices lookup for section 112...\n",
      "Computing grid indices lookup for section 113...\n",
      "Computing grid indices lookup for section 114...\n",
      "Computing grid indices lookup for section 115...\n",
      "Computing grid indices lookup for section 116...\n",
      "Computing grid indices lookup for section 117...\n",
      "Computing grid indices lookup for section 119...\n",
      "Computing grid indices lookup for section 120...\n",
      "Computing grid indices lookup for section 121...\n",
      "Computing grid indices lookup for section 122...\n",
      "Computing grid indices lookup for section 123...\n",
      "Computing grid indices lookup for section 124...\n",
      "Computing grid indices lookup for section 125...\n",
      "Computing grid indices lookup for section 126...\n",
      "Computing grid indices lookup for section 127...\n",
      "Computing grid indices lookup for section 128...\n",
      "Computing grid indices lookup for section 129...\n",
      "Computing grid indices lookup for section 130...\n",
      "Computing grid indices lookup for section 131...\n",
      "Computing grid indices lookup for section 132...\n",
      "Computing grid indices lookup for section 133...\n",
      "Computing grid indices lookup for section 134...\n",
      "Computing grid indices lookup for section 135...\n",
      "Computing grid indices lookup for section 136...\n",
      "Computing grid indices lookup for section 137...\n",
      "Computing grid indices lookup for section 138...\n",
      "Computing grid indices lookup for section 139...\n",
      "Computing grid indices lookup for section 140...\n",
      "Computing grid indices lookup for section 141...\n",
      "Computing grid indices lookup for section 142...\n",
      "Computing grid indices lookup for section 143...\n",
      "Computing grid indices lookup for section 144...\n",
      "Computing grid indices lookup for section 145...\n",
      "Computing grid indices lookup for section 146...\n",
      "Computing grid indices lookup for section 147...\n",
      "Computing grid indices lookup for section 148...\n",
      "Computing grid indices lookup for section 149...\n",
      "Computing grid indices lookup for section 150...\n",
      "Computing grid indices lookup for section 151...\n",
      "Computing grid indices lookup for section 152...\n",
      "Computing grid indices lookup for section 153...\n",
      "Computing grid indices lookup for section 154...\n",
      "Computing grid indices lookup for section 155...\n",
      "Computing grid indices lookup for section 156...\n",
      "Computing grid indices lookup for section 157...\n",
      "Computing grid indices lookup for section 158...\n",
      "Computing grid indices lookup for section 159...\n",
      "Computing grid indices lookup for section 160...\n",
      "Computing grid indices lookup for section 161...\n",
      "Computing grid indices lookup for section 162...\n",
      "Computing grid indices lookup for section 163...\n",
      "Computing grid indices lookup for section 164...\n",
      "Computing grid indices lookup for section 165...\n",
      "Computing grid indices lookup for section 166...\n",
      "Computing grid indices lookup for section 167...\n",
      "Computing grid indices lookup for section 168...\n",
      "Computing grid indices lookup for section 169...\n",
      "Computing grid indices lookup for section 170...\n",
      "Computing grid indices lookup for section 171...\n",
      "Computing grid indices lookup for section 172...\n",
      "Computing grid indices lookup for section 173...\n",
      "Computing grid indices lookup for section 174...\n",
      "Computing grid indices lookup for section 175...\n",
      "Computing grid indices lookup for section 176...\n",
      "Computing grid indices lookup for section 177...\n",
      "Computing grid indices lookup for section 178...\n",
      "Computing grid indices lookup for section 179...\n",
      "Computing grid indices lookup for section 180...\n",
      "Computing grid indices lookup for section 181...\n",
      "Computing grid indices lookup for section 182...\n",
      "Computing grid indices lookup for section 183...\n",
      "Computing grid indices lookup for section 184...\n",
      "Computing grid indices lookup for section 185...\n",
      "Computing grid indices lookup for section 186...\n",
      "Computing grid indices lookup for section 187...\n",
      "Computing grid indices lookup for section 188...\n",
      "Computing grid indices lookup for section 189...\n",
      "Computing grid indices lookup for section 190...\n",
      "Computing grid indices lookup for section 191...\n",
      "Computing grid indices lookup for section 192...\n",
      "Computing grid indices lookup for section 193...\n",
      "Computing grid indices lookup for section 194...\n",
      "Computing grid indices lookup for section 195...\n",
      "Computing grid indices lookup for section 196...\n",
      "Computing grid indices lookup for section 197...\n",
      "Computing grid indices lookup for section 198...\n",
      "Computing grid indices lookup for section 199...\n",
      "Computing grid indices lookup for section 200...\n",
      "Computing grid indices lookup for section 201...\n",
      "Computing grid indices lookup for section 202...\n",
      "Computing grid indices lookup for section 203...\n",
      "Computing grid indices lookup for section 204...\n",
      "Computing grid indices lookup for section 205...\n",
      "Computing grid indices lookup for section 206...\n",
      "Computing grid indices lookup for section 207...\n",
      "Computing grid indices lookup for section 208...\n",
      "Computing grid indices lookup for section 209...\n",
      "Computing grid indices lookup for section 210...\n",
      "Computing grid indices lookup for section 211...\n",
      "Computing grid indices lookup for section 212...\n",
      "Computing grid indices lookup for section 213...\n",
      "Computing grid indices lookup for section 214...\n",
      "Computing grid indices lookup for section 215...\n",
      "Computing grid indices lookup for section 216...\n",
      "Computing grid indices lookup for section 217...\n",
      "Computing grid indices lookup for section 218...\n",
      "Computing grid indices lookup for section 219...\n",
      "Computing grid indices lookup for section 220...\n",
      "Computing grid indices lookup for section 221...\n",
      "Computing grid indices lookup for section 222...\n",
      "Computing grid indices lookup for section 223...\n",
      "Computing grid indices lookup for section 224...\n",
      "Computing grid indices lookup for section 225...\n",
      "Computing grid indices lookup for section 226...\n",
      "Computing grid indices lookup for section 227...\n",
      "Computing grid indices lookup for section 228...\n",
      "Computing grid indices lookup for section 229...\n",
      "Computing grid indices lookup for section 230...\n",
      "Computing grid indices lookup for section 231...\n",
      "Computing grid indices lookup for section 232...\n",
      "Computing grid indices lookup for section 233...\n",
      "Computing grid indices lookup for section 234...\n",
      "Computing grid indices lookup for section 235...\n",
      "Computing grid indices lookup for section 236...\n",
      "Computing grid indices lookup for section 237...\n",
      "Computing grid indices lookup for section 238...\n",
      "Computing grid indices lookup for section 239...\n",
      "Computing grid indices lookup for section 240...\n",
      "Computing grid indices lookup for section 241...\n",
      "Computing grid indices lookup for section 242...\n",
      "Computing grid indices lookup for section 243...\n",
      "Computing grid indices lookup for section 244...\n",
      "Computing grid indices lookup for section 245...\n",
      "Computing grid indices lookup for section 246...\n",
      "Computing grid indices lookup for section 247...\n",
      "Computing grid indices lookup for section 248...\n",
      "Computing grid indices lookup for section 249...\n",
      "Computing grid indices lookup for section 250...\n",
      "Computing grid indices lookup for section 251...\n"
     ]
    },
    {
     "name": "stderr",
     "output_type": "stream",
     "text": [
      "Computing grid indices lookup for section 252...\n",
      "Computing grid indices lookup for section 253...\n",
      "Computing grid indices lookup for section 254...\n",
      "Computing grid indices lookup for section 255...\n",
      "Computing grid indices lookup for section 256...\n",
      "Computing grid indices lookup for section 257...\n",
      "Computing grid indices lookup for section 258...\n",
      "Computing grid indices lookup for section 259...\n",
      "Computing grid indices lookup for section 260...\n",
      "Computing grid indices lookup for section 261...\n"
     ]
    },
    {
     "ename": "AttributeError",
     "evalue": "'MultiPolygon' object has no attribute 'exterior'",
     "output_type": "error",
     "traceback": [
      "\u001b[0;31m---------------------------------------------------------------------------\u001b[0m",
      "\u001b[0;31mAttributeError\u001b[0m                            Traceback (most recent call last)",
      "\u001b[0;32m<ipython-input-11-76bbf486caf6>\u001b[0m in \u001b[0;36m<module>\u001b[0;34m()\u001b[0m\n\u001b[1;32m      3\u001b[0m grid_index_class_lookup = generate_annotation_to_grid_indices_lookup(stack, win_id=win_id, by_human=True, \n\u001b[1;32m      4\u001b[0m                                                                      \u001b[0msuffix\u001b[0m\u001b[0;34m=\u001b[0m\u001b[0;34m'contours'\u001b[0m\u001b[0;34m,\u001b[0m \u001b[0mtimestamp\u001b[0m\u001b[0;34m=\u001b[0m\u001b[0;34m'latest'\u001b[0m\u001b[0;34m,\u001b[0m\u001b[0;34m\u001b[0m\u001b[0m\n\u001b[0;32m----> 5\u001b[0;31m                                                                      surround_margins=[200, 500])\n\u001b[0m",
      "\u001b[0;32m/shared/MouseBrainAtlas/utilities/learning_utilities.pyc\u001b[0m in \u001b[0;36mgenerate_annotation_to_grid_indices_lookup\u001b[0;34m(stack, by_human, win_id, stack_m, detector_id_m, detector_id_f, warp_setting, trial_idx, surround_margins, suffix, timestamp, prep_id)\u001b[0m\n\u001b[1;32m    795\u001b[0m         \u001b[0mpatch_indices_allSections_allStructures\u001b[0m\u001b[0;34m[\u001b[0m\u001b[0msec\u001b[0m\u001b[0;34m]\u001b[0m \u001b[0;34m=\u001b[0m\u001b[0;31m \u001b[0m\u001b[0;31m\\\u001b[0m\u001b[0;34m\u001b[0m\u001b[0m\n\u001b[1;32m    796\u001b[0m         locate_patches_v2(grid_spec=grid_spec, mask_tb=mask_tb, polygons=polygons_this_sec, \\\n\u001b[0;32m--> 797\u001b[0;31m                           surround_margins=surround_margins)\n\u001b[0m\u001b[1;32m    798\u001b[0m \u001b[0;34m\u001b[0m\u001b[0m\n\u001b[1;32m    799\u001b[0m     \u001b[0;32mreturn\u001b[0m \u001b[0mDataFrame\u001b[0m\u001b[0;34m(\u001b[0m\u001b[0mpatch_indices_allSections_allStructures\u001b[0m\u001b[0;34m)\u001b[0m\u001b[0;34m.\u001b[0m\u001b[0mT\u001b[0m\u001b[0;34m\u001b[0m\u001b[0m\n",
      "\u001b[0;32m/shared/MouseBrainAtlas/utilities/learning_utilities.pyc\u001b[0m in \u001b[0;36mlocate_patches_v2\u001b[0;34m(grid_spec, stack, patch_size, stride, image_shape, mask_tb, polygons, bbox, bbox_lossless, surround_margins)\u001b[0m\n\u001b[1;32m    983\u001b[0m                 \u001b[0msurround\u001b[0m \u001b[0;34m=\u001b[0m \u001b[0mPolygon\u001b[0m\u001b[0;34m(\u001b[0m\u001b[0mpoly\u001b[0m\u001b[0;34m)\u001b[0m\u001b[0;34m.\u001b[0m\u001b[0mbuffer\u001b[0m\u001b[0;34m(\u001b[0m\u001b[0mmargin\u001b[0m\u001b[0;34m,\u001b[0m \u001b[0mresolution\u001b[0m\u001b[0;34m=\u001b[0m\u001b[0;36m2\u001b[0m\u001b[0;34m)\u001b[0m\u001b[0;34m\u001b[0m\u001b[0m\n\u001b[1;32m    984\u001b[0m \u001b[0;34m\u001b[0m\u001b[0m\n\u001b[0;32m--> 985\u001b[0;31m                 \u001b[0mpath\u001b[0m \u001b[0;34m=\u001b[0m \u001b[0mPath\u001b[0m\u001b[0;34m(\u001b[0m\u001b[0mlist\u001b[0m\u001b[0;34m(\u001b[0m\u001b[0msurround\u001b[0m\u001b[0;34m.\u001b[0m\u001b[0mexterior\u001b[0m\u001b[0;34m.\u001b[0m\u001b[0mcoords\u001b[0m\u001b[0;34m)\u001b[0m\u001b[0;34m)\u001b[0m\u001b[0;34m\u001b[0m\u001b[0m\n\u001b[0m\u001b[1;32m    986\u001b[0m                 indices_sur =  np.where(path.contains_points(sample_locations_ll) &\\\n\u001b[1;32m    987\u001b[0m                                         \u001b[0mpath\u001b[0m\u001b[0;34m.\u001b[0m\u001b[0mcontains_points\u001b[0m\u001b[0;34m(\u001b[0m\u001b[0msample_locations_lr\u001b[0m\u001b[0;34m)\u001b[0m \u001b[0;34m&\u001b[0m\u001b[0;31m\\\u001b[0m\u001b[0;34m\u001b[0m\u001b[0m\n",
      "\u001b[0;31mAttributeError\u001b[0m: 'MultiPolygon' object has no attribute 'exterior'"
     ]
    }
   ],
   "source": [
    "stack = 'MD585'\n",
    "win_id = 6\n",
    "grid_index_class_lookup = generate_annotation_to_grid_indices_lookup(stack, win_id=win_id, by_human=True, \n",
    "                                                                     suffix='contours', timestamp='latest',\n",
    "                                                                     surround_margins=[200, 500])"
   ]
  },
  {
   "cell_type": "code",
   "execution_count": 3,
   "metadata": {
    "collapsed": true
   },
   "outputs": [],
   "source": [
    "# win_id = 3\n",
    "# windowing_properties = windowing_settings[win_id]\n",
    "# patch_size = windowing_properties['patch_size']\n",
    "# spacing = windowing_properties['spacing']\n",
    "# w, h = metadata_cache['image_shape'][stack]\n",
    "# half_size = patch_size/2\n",
    "# grid_spec = (patch_size, spacing, w, h)"
   ]
  },
  {
   "cell_type": "code",
   "execution_count": 15,
   "metadata": {
    "collapsed": true
   },
   "outputs": [],
   "source": []
  },
  {
   "cell_type": "code",
   "execution_count": 17,
   "metadata": {
    "collapsed": true
   },
   "outputs": [],
   "source": [
    "%matplotlib inline"
   ]
  },
  {
   "cell_type": "code",
   "execution_count": 25,
   "metadata": {},
   "outputs": [
    {
     "name": "stdout",
     "output_type": "stream",
     "text": [
      "rm -rf \"/shared/CSHL_data_processed/MD661/MD661_prep2_lossless_gray/MD662&661-F37-2017.06.05-18.09.08_MD661_3_0111_prep2_lossless_gray.tif\" && mkdir -p \"/shared/CSHL_data_processed/MD661/MD661_prep2_lossless_gray\"\n",
      "aws s3 cp \"s3://mousebrainatlas-data/CSHL_data_processed/MD661/MD661_prep2_lossless_gray/MD662&661-F37-2017.06.05-18.09.08_MD661_3_0111_prep2_lossless_gray.tif\" \"/shared/CSHL_data_processed/MD661/MD661_prep2_lossless_gray/MD662&661-F37-2017.06.05-18.09.08_MD661_3_0111_prep2_lossless_gray.tif\"\n"
     ]
    }
   ],
   "source": [
    "img = DataManager.load_image_v2(stack=stack, section=108, prep_id=2, version='gray')"
   ]
  },
  {
   "cell_type": "code",
   "execution_count": 30,
   "metadata": {
    "collapsed": true
   },
   "outputs": [],
   "source": [
    "viz = img.copy()"
   ]
  },
  {
   "cell_type": "code",
   "execution_count": 31,
   "metadata": {
    "collapsed": true
   },
   "outputs": [],
   "source": [
    "for s in ['VCA', 'VCP']:\n",
    "    all_locs = grid_parameters_to_sample_locations(grid_spec)\n",
    "    locs = all_locs[grid_index_class_lookup[s][108]]\n",
    "    for x, y in locs:\n",
    "        cv2.circle(viz, (x,y), 20, (255,0,0), 3)"
   ]
  },
  {
   "cell_type": "code",
   "execution_count": 32,
   "metadata": {},
   "outputs": [
    {
     "data": {
      "text/html": [
       "<a href='tmp.jpg' target='_blank'>tmp.jpg</a><br>"
      ],
      "text/plain": [
       "/shared/MouseBrainAtlas/learning/tmp.jpg"
      ]
     },
     "execution_count": 32,
     "metadata": {},
     "output_type": "execute_result"
    }
   ],
   "source": [
    "display_image(viz[::5, ::5])"
   ]
  },
  {
   "cell_type": "code",
   "execution_count": null,
   "metadata": {
    "collapsed": true
   },
   "outputs": [],
   "source": []
  },
  {
   "cell_type": "code",
   "execution_count": 9,
   "metadata": {
    "scrolled": true
   },
   "outputs": [
    {
     "name": "stderr",
     "output_type": "stream",
     "text": [
      "/usr/local/lib/python2.7/dist-packages/pandas/core/generic.py:1299: PerformanceWarning: \n",
      "your performance may suffer as PyTables will pickle object types that it cannot\n",
      "map directly to c-types [inferred_type->mixed,key->block0_values] [items->['10N', '10N_negative', '10N_surround_200_12N', '10N_surround_200_AP', '10N_surround_200_MVe', '10N_surround_200_noclass', '10N_surround_500_12N', '10N_surround_500_AP', '10N_surround_500_Gr', '10N_surround_500_MVe', '10N_surround_500_noclass', '12N', '12N_negative', '12N_surround_200_10N', '12N_surround_200_MVe', '12N_surround_200_noclass', '12N_surround_500_10N', '12N_surround_500_AP', '12N_surround_500_MVe', '12N_surround_500_noclass', '3N', '3N_negative', '3N_surround_200_4N', '3N_surround_200_EW', '3N_surround_200_noclass', '3N_surround_500_4N', '3N_surround_500_DRD', '3N_surround_500_DRI', '3N_surround_500_Dk', '3N_surround_500_EW', '3N_surround_500_InC', '3N_surround_500_RMC', '3N_surround_500_noclass', '4N', '4N_negative', '4N_surround_200_3N', '4N_surround_200_noclass', '4N_surround_500_3N', '4N_surround_500_DRD', '4N_surround_500_noclass', '5N', '5N_negative', '5N_surround_200_noclass', '5N_surround_500_7n', '5N_surround_500_LPB', '5N_surround_500_MPB', '5N_surround_500_SuVe', '5N_surround_500_VLL', '5N_surround_500_noclass', '6N', '6N_negative', '6N_surround_200_7n', '6N_surround_200_MVe', '6N_surround_200_noclass', '6N_surround_500_7n', '6N_surround_500_MVe', '6N_surround_500_noclass', '7N', '7N_negative', '7N_surround_200_noclass', '7N_surround_500_7n', '7N_surround_500_Amb', '7N_surround_500_LSO', '7N_surround_500_noclass', '7n', '7n_negative', '7n_surround_200_6N', '7n_surround_200_8n', '7n_surround_200_LSO', '7n_surround_200_MVe', '7n_surround_200_noclass', '7n_surround_500_5N', '7n_surround_500_6N', '7n_surround_500_7N', '7n_surround_500_8n', '7n_surround_500_LC', '7n_surround_500_LSO', '7n_surround_500_MVe', '7n_surround_500_VLL', '7n_surround_500_noclass', '8n', '8n_negative', '8n_surround_200_7n', '8n_surround_200_Pr5', '8n_surround_200_Pr5DM', '8n_surround_200_VCA', '8n_surround_200_VCP', '8n_surround_200_noclass', '8n_surround_500_7n', '8n_surround_500_DC', '8n_surround_500_Pr5', '8n_surround_500_Pr5DM', '8n_surround_500_Pr5VL', '8n_surround_500_Sp5O', '8n_surround_500_VCA', '8n_surround_500_VCP', '8n_surround_500_X', '8n_surround_500_noclass', 'AP', 'APT', 'APT_negative', 'APT_surround_200_SC', 'APT_surround_200_noclass', 'APT_surround_500_SC', 'APT_surround_500_noclass', 'AP_negative', 'AP_surround_200_noclass', 'AP_surround_500_10N', 'AP_surround_500_12N', 'AP_surround_500_MVe', 'AP_surround_500_noclass', 'Amb', 'Amb_negative', 'Amb_surround_200_LRt', 'Amb_surround_200_noclass', 'Amb_surround_500_7N', 'Amb_surround_500_LRt', 'Amb_surround_500_noclass', 'Cb', 'Cb_negative', 'Cb_surround_200_DC', 'Cb_surround_200_IC', 'Cb_surround_200_LPB', 'Cb_surround_200_VCA', 'Cb_surround_200_noclass', 'Cb_surround_500_DC', 'Cb_surround_500_IC', 'Cb_surround_500_LC', 'Cb_surround_500_LPB', 'Cb_surround_500_MVe', 'Cb_surround_500_VCA', 'Cb_surround_500_VCP', 'Cb_surround_500_noclass', 'CnF', 'CnF_negative', 'CnF_surround_200_IC', 'CnF_surround_200_LPB', 'CnF_surround_200_noclass', 'CnF_surround_500_IC', 'CnF_surround_500_LPB', 'CnF_surround_500_PTg', 'CnF_surround_500_noclass', 'DC', 'DC_negative', 'DC_surround_200_Cb', 'DC_surround_200_VCA', 'DC_surround_200_VCP', 'DC_surround_200_noclass', 'DC_surround_500_8n', 'DC_surround_500_Cb', 'DC_surround_500_VCA', 'DC_surround_500_VCP', 'DC_surround_500_X', 'DC_surround_500_noclass', 'DRD', 'DRD_negative', 'DRD_surround_200_noclass', 'DRD_surround_500_3N', 'DRD_surround_500_4N', 'DRD_surround_500_DRI', 'DRD_surround_500_LDTg', 'DRD_surround_500_noclass', 'DRI', 'DRI_negative', 'DRI_surround_200_noclass', 'DRI_surround_500_3N', 'DRI_surround_500_DRD', 'DRI_surround_500_DTg', 'DRI_surround_500_LDTg', 'DRI_surround_500_noclass', 'DTg', 'DTgC', 'DTgC_negative', 'DTgC_surround_200_DTgP', 'DTgC_surround_200_noclass', 'DTgC_surround_500_DTgP', 'DTgC_surround_500_noclass', 'DTgP', 'DTgP_negative', 'DTgP_surround_200_DTgC', 'DTgP_surround_200_noclass', 'DTgP_surround_500_DTgC', 'DTgP_surround_500_noclass', 'DTg_negative', 'DTg_surround_200_LDTg', 'DTg_surround_200_VTg', 'DTg_surround_200_noclass', 'DTg_surround_500_DRI', 'DTg_surround_500_LDTg', 'DTg_surround_500_VTg', 'DTg_surround_500_noclass', 'Dk', 'Dk_negative', 'Dk_surround_200_3N', 'Dk_surround_200_InC', 'Dk_surround_200_noclass', 'Dk_surround_500_3N', 'Dk_surround_500_InC', 'Dk_surround_500_noclass', 'Dk_surround_500_pc', 'EW', 'EW_negative', 'EW_surround_200_3N', 'EW_surround_200_noclass', 'EW_surround_500_3N', 'EW_surround_500_IF', 'EW_surround_500_IPR', 'EW_surround_500_noclass', 'Gr', 'Gr_negative', 'Gr_surround_200_noclass', 'Gr_surround_500_noclass', 'IC', 'IC_negative', 'IC_surround_200_Cb', 'IC_surround_200_CnF', 'IC_surround_200_SC', 'IC_surround_200_noclass', 'IC_surround_500_Cb', 'IC_surround_500_CnF', 'IC_surround_500_LPB', 'IC_surround_500_SC', 'IC_surround_500_noclass', 'IF', 'IF_negative', 'IF_surround_200_IPA', 'IF_surround_200_IPR', 'IF_surround_200_noclass', 'IF_surround_500_EW', 'IF_surround_500_IPA', 'IF_surround_500_IPC', 'IF_surround_500_IPR', 'IF_surround_500_noclass', 'IO', 'IO_negative', 'IO_surround_200_noclass', 'IO_surround_500_noclass', 'IPA', 'IPA_negative', 'IPA_surround_200_IF', 'IPA_surround_200_IPC', 'IPA_surround_200_IPR', 'IPA_surround_200_noclass', 'IPA_surround_500_IF', 'IPA_surround_500_IPC', 'IPA_surround_500_IPR', 'IPA_surround_500_noclass', 'IPC', 'IPC_negative', 'IPC_surround_200_IPA', 'IPC_surround_200_IPR', 'IPC_surround_200_noclass', 'IPC_surround_500_IF', 'IPC_surround_500_IPA', 'IPC_surround_500_IPR', 'IPC_surround_500_RtTg', 'IPC_surround_500_noclass', 'IPL', 'IPL_negative', 'IPL_surround_200_noclass', 'IPL_surround_500_Pn', 'IPL_surround_500_RtTg', 'IPL_surround_500_noclass', 'IPR', 'IPR_negative', 'IPR_surround_200_IF', 'IPR_surround_200_IPA', 'IPR_surround_200_IPC', 'IPR_surround_200_noclass', 'IPR_surround_500_EW', 'IPR_surround_500_IF', 'IPR_surround_500_IPA', 'IPR_surround_500_IPC', 'IPR_surround_500_noclass', 'InC', 'InC_negative', 'InC_surround_200_Dk', 'InC_surround_200_noclass', 'InC_surround_500_3N', 'InC_surround_500_Dk', 'InC_surround_500_noclass', 'LC', 'LC_negative', 'LC_surround_200_MVe', 'LC_surround_200_noclass', 'LC_surround_500_7n', 'LC_surround_500_Cb', 'LC_surround_500_MVe', 'LC_surround_500_noclass', 'LDTg', 'LDTg_negative', 'LDTg_surround_200_DTg', 'LDTg_surround_200_noclass', 'LDTg_surround_500_DRD', 'LDTg_surround_500_DRI', 'LDTg_surround_500_DTg', 'LDTg_surround_500_noclass', 'LPB', 'LPB_negative', 'LPB_surround_200_Cb', 'LPB_surround_200_CnF', 'LPB_surround_200_PTg', 'LPB_surround_200_noclass', 'LPB_surround_500_5N', 'LPB_surround_500_Cb', 'LPB_surround_500_CnF', 'LPB_surround_500_IC', 'LPB_surround_500_MPB', 'LPB_surround_500_PTg', 'LPB_surround_500_SuVe', 'LPB_surround_500_noclass', 'LRt', 'LRt_negative', 'LRt_surround_200_Amb', 'LRt_surround_200_noclass', 'LRt_surround_500_Amb', 'LRt_surround_500_Sp5C', 'LRt_surround_500_noclass', 'LSO', 'LSO_negative', 'LSO_surround_200_7n', 'LSO_surround_200_noclass', 'LSO_surround_500_7N', 'LSO_surround_500_7n', 'LSO_surround_500_noclass', 'MPB', 'MPB_negative', 'MPB_surround_200_noclass', 'MPB_surround_500_5N', 'MPB_surround_500_LPB', 'MPB_surround_500_PTg', 'MPB_surround_500_noclass', 'MVe', 'MVe_negative', 'MVe_surround_200_12N', 'MVe_surround_200_6N', 'MVe_surround_200_7n', 'MVe_surround_200_LC', 'MVe_surround_200_Sol', 'MVe_surround_200_noclass', 'MVe_surround_500_12N', 'MVe_surround_500_6N', 'MVe_surround_500_7n', 'MVe_surround_500_AP', 'MVe_surround_500_Cb', 'MVe_surround_500_LC', 'MVe_surround_500_Sol', 'MVe_surround_500_noclass', 'Op', 'Op_negative', 'Op_surround_200_SC', 'Op_surround_200_noclass', 'Op_surround_500_SC', 'Op_surround_500_noclass', 'PBG', 'PBG_negative', 'PBG_surround_200_SNR', 'PBG_surround_200_noclass', 'PBG_surround_500_SNR', 'PBG_surround_500_noclass', 'PTg', 'PTg_negative', 'PTg_surround_200_LPB', 'PTg_surround_200_noclass', 'PTg_surround_500_CnF', 'PTg_surround_500_LPB', 'PTg_surround_500_MPB', 'PTg_surround_500_noclass', 'Pn', 'Pn_negative', 'Pn_surround_200_RtTg', 'Pn_surround_200_noclass', 'Pn_surround_500_IPL', 'Pn_surround_500_RtTg', 'Pn_surround_500_SNR', 'Pn_surround_500_Tz', 'Pn_surround_500_VTA', 'Pn_surround_500_noclass', 'Pr5', 'Pr5DM', 'Pr5DM_negative', 'Pr5DM_surround_200_8n', 'Pr5DM_surround_200_Pr5VL', 'Pr5DM_surround_200_noclass', 'Pr5DM_surround_500_8n', 'Pr5DM_surround_500_Pr5VL', 'Pr5DM_surround_500_Sp5O', 'Pr5DM_surround_500_VLL', 'Pr5DM_surround_500_noclass', 'Pr5VL', 'Pr5VL_negative', 'Pr5VL_surround_200_Pr5DM', 'Pr5VL_surround_200_Sp5O', 'Pr5VL_surround_200_noclass', 'Pr5VL_surround_500_8n', 'Pr5VL_surround_500_Pr5DM', 'Pr5VL_surround_500_Sp5O', 'Pr5VL_surround_500_VLL', 'Pr5VL_surround_500_noclass', 'Pr5_negative', 'Pr5_surround_200_8n', 'Pr5_surround_200_VCA', 'Pr5_surround_200_noclass', 'Pr5_surround_500_8n', 'Pr5_surround_500_VCA', 'Pr5_surround_500_noclass', 'RMC', 'RMC_negative', 'RMC_surround_200_RPC', 'RMC_surround_200_VTA', 'RMC_surround_200_noclass', 'RMC_surround_500_3N', 'RMC_surround_500_RPC', 'RMC_surround_500_VTA', 'RMC_surround_500_noclass', 'RPC', 'RPC_negative', 'RPC_surround_200_RMC', 'RPC_surround_200_noclass', 'RPC_surround_500_RMC', 'RPC_surround_500_noclass', 'RR', 'RR_negative', 'RR_surround_200_SNR', 'RR_surround_200_noclass', 'RR_surround_500_SNR', 'RR_surround_500_VLL', 'RR_surround_500_noclass', 'RtTg', 'RtTg_negative', 'RtTg_surround_200_Pn', 'RtTg_surround_200_Tz', 'RtTg_surround_200_noclass', 'RtTg_surround_500_IPC', 'RtTg_surround_500_IPL', 'RtTg_surround_500_Pn', 'RtTg_surround_500_SNR', 'RtTg_surround_500_Tz', 'RtTg_surround_500_noclass', 'SC', 'SC_negative', 'SC_surround_200_APT', 'SC_surround_200_IC', 'SC_surround_200_Op', 'SC_surround_200_noclass', 'SC_surround_200_pc', 'SC_surround_500_APT', 'SC_surround_500_IC', 'SC_surround_500_Op', 'SC_surround_500_noclass', 'SC_surround_500_pc', 'SNC', 'SNC_negative', 'SNC_surround_200_SNR', 'SNC_surround_200_noclass', 'SNC_surround_500_RPC', 'SNC_surround_500_SNR', 'SNC_surround_500_noclass', 'SNR', 'SNR_negative', 'SNR_surround_200_PBG', 'SNR_surround_200_RR', 'SNR_surround_200_SNC', 'SNR_surround_200_noclass', 'SNR_surround_500_PBG', 'SNR_surround_500_Pn', 'SNR_surround_500_RR', 'SNR_surround_500_SNC', 'SNR_surround_500_VLL', 'SNR_surround_500_noclass', 'Sol', 'Sol_negative', 'Sol_surround_200_MVe', 'Sol_surround_200_noclass', 'Sol_surround_500_MVe', 'Sol_surround_500_noclass', 'Sp5C', 'Sp5C_negative', 'Sp5C_surround_200_Sp5I', 'Sp5C_surround_200_noclass', 'Sp5C_surround_500_LRt', 'Sp5C_surround_500_Sp5I', 'Sp5C_surround_500_noclass', 'Sp5I', 'Sp5I_negative', 'Sp5I_surround_200_Sp5C', 'Sp5I_surround_200_Sp5O', 'Sp5I_surround_200_noclass', 'Sp5I_surround_500_Sp5C', 'Sp5I_surround_500_Sp5O', 'Sp5I_surround_500_noclass', 'Sp5O', 'Sp5O_negative', 'Sp5O_surround_200_Pr5VL', 'Sp5O_surround_200_Sp5I', 'Sp5O_surround_200_noclass', 'Sp5O_surround_500_8n', 'Sp5O_surround_500_Pr5DM', 'Sp5O_surround_500_Pr5VL', 'Sp5O_surround_500_Sp5I', 'Sp5O_surround_500_noclass', 'SuVe', 'SuVe_negative', 'SuVe_surround_200_noclass', 'SuVe_surround_500_5N', 'SuVe_surround_500_LPB', 'SuVe_surround_500_noclass', 'Tz', 'Tz_negative', 'Tz_surround_200_RtTg', 'Tz_surround_200_noclass', 'Tz_surround_500_Pn', 'Tz_surround_500_RtTg', 'Tz_surround_500_noclass', 'VCA', 'VCA_negative', 'VCA_surround_200_8n', 'VCA_surround_200_Cb', 'VCA_surround_200_DC', 'VCA_surround_200_VCP', 'VCA_surround_200_noclass', 'VCA_surround_500_8n', 'VCA_surround_500_Cb', 'VCA_surround_500_DC', 'VCA_surround_500_Pr5', 'VCA_surround_500_VCP', 'VCA_surround_500_noclass', 'VCP', 'VCP_negative', 'VCP_surround_200_8n', 'VCP_surround_200_DC', 'VCP_surround_200_VCA', 'VCP_surround_200_noclass', 'VCP_surround_500_8n', 'VCP_surround_500_Cb', 'VCP_surround_500_DC', 'VCP_surround_500_VCA', 'VCP_surround_500_noclass', 'VLL', 'VLL_negative', 'VLL_surround_200_noclass', 'VLL_surround_500_5N', 'VLL_surround_500_7n', 'VLL_surround_500_Pr5DM', 'VLL_surround_500_Pr5VL', 'VLL_surround_500_RR', 'VLL_surround_500_SNR', 'VLL_surround_500_noclass', 'VTA', 'VTA_negative', 'VTA_surround_200_noclass', 'VTA_surround_500_Pn', 'VTA_surround_500_RMC', 'VTA_surround_500_noclass', 'VTg', 'VTg_negative', 'VTg_surround_200_DTg', 'VTg_surround_200_noclass', 'VTg_surround_500_DTg', 'VTg_surround_500_noclass', 'X', 'X_negative', 'X_surround_200_8n', 'X_surround_200_noclass', 'X_surround_500_8n', 'X_surround_500_DC', 'X_surround_500_Sp5O', 'X_surround_500_noclass', 'bg', 'noclass', 'pc', 'pc_negative', 'pc_surround_200_SC', 'pc_surround_200_noclass', 'pc_surround_500_Dk', 'pc_surround_500_SC', 'pc_surround_500_noclass']]\n",
      "\n",
      "  return pytables.to_hdf(path_or_buf, key, self, **kwargs)\n"
     ]
    },
    {
     "name": "stdout",
     "output_type": "stream",
     "text": [
      "aws s3 cp \"/shared/CSHL_labelings_v3/MD594/MD594_annotation_win6_grid_indices_lookup.hdf\" \"s3://mousebrainatlas-data/CSHL_labelings_v3/MD594/MD594_annotation_win6_grid_indices_lookup.hdf\"\n"
     ]
    }
   ],
   "source": [
    "grid_index_class_lookup_fp = DataManager.get_annotation_to_grid_indices_lookup_filepath(stack=stack, win_id=win_id, \n",
    "                                                                                        by_human=True)\n",
    "save_hdf_v2(grid_index_class_lookup, grid_index_class_lookup_fp)\n",
    "upload_to_s3(grid_index_class_lookup_fp)"
   ]
  },
  {
   "cell_type": "code",
   "execution_count": 19,
   "metadata": {
    "scrolled": true
   },
   "outputs": [
    {
     "data": {
      "text/plain": [
       "array([39891, 39892, 40167, 40168, 40169, 40170, 40171, 40172, 40173,\n",
       "       40444, 40445, 40446, 40447, 40448, 40449, 40450, 40451, 40452,\n",
       "       40721, 40722, 40723, 40724, 40725, 40726, 40727, 40728, 40729,\n",
       "       40730, 40998, 40999, 41000, 41001, 41002, 41003, 41004, 41005,\n",
       "       41006, 41007, 41008, 41009, 41275, 41276, 41277, 41278, 41279,\n",
       "       41280, 41281, 41282, 41283, 41284, 41285, 41286, 41287, 41553,\n",
       "       41554, 41555, 41556, 41557, 41558, 41559, 41560, 41561, 41562,\n",
       "       41563, 41564, 41565, 41831, 41832, 41833, 41834, 41835, 41836,\n",
       "       41837, 41838, 41839, 41840, 41841, 41842, 41843, 41844, 42108,\n",
       "       42109, 42110, 42111, 42112, 42113, 42114, 42115, 42116, 42117,\n",
       "       42118, 42119, 42120, 42121, 42122, 42386, 42387, 42388, 42389,\n",
       "       42390, 42391, 42392, 42393, 42394, 42395, 42396, 42397, 42398,\n",
       "       42399, 42400, 42664, 42665, 42666, 42667, 42668, 42669, 42670,\n",
       "       42671, 42672, 42673, 42674, 42675, 42676, 42677, 42678, 42942,\n",
       "       42943, 42944, 42945, 42946, 42947, 42948, 42949, 42950, 42951,\n",
       "       42952, 42953, 42954, 42955, 42956, 43220, 43221, 43222, 43223,\n",
       "       43224, 43225, 43226, 43227, 43228, 43229, 43230, 43231, 43232,\n",
       "       43233, 43234, 43498, 43499, 43500, 43501, 43502, 43503, 43504,\n",
       "       43505, 43506, 43507, 43508, 43509, 43510, 43511, 43512, 43776,\n",
       "       43777, 43778, 43779, 43780, 43781, 43782, 43783, 43784, 43785,\n",
       "       43786, 43787, 43788, 43789, 43790, 44055, 44056, 44057, 44058,\n",
       "       44059, 44060, 44061, 44062, 44063, 44064, 44065, 44066, 44067,\n",
       "       44068, 44069, 44334, 44335, 44336, 44337, 44338, 44339, 44340,\n",
       "       44341, 44342, 44343, 44344, 44345, 44346, 44347, 44614, 44615,\n",
       "       44616, 44617, 44618, 44619, 44620, 44621, 44622, 44623, 44624,\n",
       "       44625, 44626, 44895, 44896, 44897, 44898, 44899, 44900, 44901,\n",
       "       44902, 44903, 44904, 44905, 45175, 45176, 45177, 45178, 45179,\n",
       "       45180, 45181, 45182, 45183, 45184, 45454, 45455, 45456, 45457,\n",
       "       45458, 45459, 45460, 45461, 45462, 45463, 45733, 45734, 45735,\n",
       "       45736, 45737, 45738, 45739, 45740, 45741, 46011, 46012, 46013,\n",
       "       46014, 46015, 46016, 46017, 46018, 46019, 46290, 46291, 46292,\n",
       "       46293, 46294, 46295, 46296, 46568, 46569, 46570, 46571, 46572,\n",
       "       46573, 46846, 46847, 46848, 46849, 46850, 46851, 47125, 47126,\n",
       "       47127, 47128, 47403, 47404, 47405, 47406, 47681, 47682, 47683, 47960])"
      ]
     },
     "execution_count": 19,
     "metadata": {},
     "output_type": "execute_result"
    }
   ],
   "source": [
    "grid_index_class_lookup = DataManager.load_annotation_to_grid_indices_lookup(stack=stack, by_human=True)\n",
    "grid_index_class_lookup.loc[108]['VCA']"
   ]
  },
  {
   "cell_type": "code",
   "execution_count": 16,
   "metadata": {
    "collapsed": true,
    "scrolled": true
   },
   "outputs": [],
   "source": [
    "# for stack in all_annotated_stacks:\n",
    "    \n",
    "#     sys.stderr.write('%s\\n' % stack)\n",
    "    \n",
    "#     label_gridIndices = locate_annotated_patches_v2(stack=stack)\n",
    "    \n",
    "#     annotation_grid_indices_fn = os.path.join(ANNOTATION_ROOTDIR, stack, '%(stack)s_annotation_grid_indices.h5' % dict(stack=stack))\n",
    "#     label_gridIndices.to_hdf(annotation_grid_indices_fn, 'grid_indices')"
   ]
  },
  {
   "cell_type": "code",
   "execution_count": null,
   "metadata": {
    "collapsed": true
   },
   "outputs": [],
   "source": [
    "# label_gridIndices = read_hdf(annotation_grid_indices_fn, 'grid_indices')"
   ]
  }
 ],
 "metadata": {
  "kernelspec": {
   "display_name": "Python 2",
   "language": "python",
   "name": "python2"
  },
  "language_info": {
   "codemirror_mode": {
    "name": "ipython",
    "version": 2
   },
   "file_extension": ".py",
   "mimetype": "text/x-python",
   "name": "python",
   "nbconvert_exporter": "python",
   "pygments_lexer": "ipython2",
   "version": "2.7.12"
  }
 },
 "nbformat": 4,
 "nbformat_minor": 1
}
