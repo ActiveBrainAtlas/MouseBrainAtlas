{
 "cells": [
  {
   "cell_type": "code",
   "execution_count": 1,
   "metadata": {
    "collapsed": false
   },
   "outputs": [
    {
     "name": "stdout",
     "output_type": "stream",
     "text": [
      "Setting environment for Gordon\n"
     ]
    },
    {
     "name": "stderr",
     "output_type": "stream",
     "text": [
      "No vtk\n"
     ]
    }
   ],
   "source": [
    "%load_ext autoreload\n",
    "%autoreload 2\n",
    "\n",
    "import numpy as np\n",
    "import sys\n",
    "import os\n",
    "import time\n",
    "\n",
    "sys.path.append(os.path.join(os.environ['REPO_DIR'], 'utilities'))\n",
    "from utilities2015 import *\n",
    "from metadata import *\n",
    "from data_manager import *\n",
    "\n",
    "import matplotlib.pyplot as plt\n",
    "%matplotlib inline\n",
    "\n",
    "from multiprocess import Pool"
   ]
  },
  {
   "cell_type": "code",
   "execution_count": 2,
   "metadata": {
    "collapsed": true
   },
   "outputs": [],
   "source": [
    "from scipy.interpolate import RectBivariateSpline\n",
    "from skimage.transform import resize"
   ]
  },
  {
   "cell_type": "code",
   "execution_count": 3,
   "metadata": {
    "collapsed": true
   },
   "outputs": [],
   "source": [
    "setting = 12"
   ]
  },
  {
   "cell_type": "code",
   "execution_count": 10,
   "metadata": {
    "collapsed": false,
    "scrolled": true
   },
   "outputs": [
    {
     "name": "stdout",
     "output_type": "stream",
     "text": [
      "364\n"
     ]
    },
    {
     "ename": "IOError",
     "evalue": "[Errno 2] No such file or directory: '/oasis/projects/nsf/csd395/yuncong/CSHL_patch_features/Sat16ClassFinetuned/MD642/MD642-F77-2017.01.14-19.51.19_MD642_3_0231_lossless_alignedTo_MD642-F53-2017.01.14-12.23.43_MD642_1_0157_cropped/MD642-F77-2017.01.14-19.51.19_MD642_3_0231_lossless_alignedTo_MD642-F53-2017.01.14-12.23.43_MD642_1_0157_cropped_patch_locations.txt'",
     "output_type": "error",
     "traceback": [
      "\u001b[0;31m---------------------------------------------------------------------------\u001b[0m",
      "\u001b[0;31mIOError\u001b[0m                                   Traceback (most recent call last)",
      "\u001b[0;32m<ipython-input-10-17c2e39cd779>\u001b[0m in \u001b[0;36m<module>\u001b[0;34m()\u001b[0m\n\u001b[1;32m     29\u001b[0m         \u001b[0mt\u001b[0m \u001b[0;34m=\u001b[0m \u001b[0mtime\u001b[0m\u001b[0;34m.\u001b[0m\u001b[0mtime\u001b[0m\u001b[0;34m(\u001b[0m\u001b[0;34m)\u001b[0m\u001b[0;34m\u001b[0m\u001b[0m\n\u001b[1;32m     30\u001b[0m \u001b[0;34m\u001b[0m\u001b[0m\n\u001b[0;32m---> 31\u001b[0;31m         \u001b[0m_\u001b[0m\u001b[0;34m,\u001b[0m \u001b[0msample_locations_roi\u001b[0m \u001b[0;34m=\u001b[0m \u001b[0mDataManager\u001b[0m\u001b[0;34m.\u001b[0m\u001b[0mload_dnn_feature_locations\u001b[0m\u001b[0;34m(\u001b[0m\u001b[0mstack\u001b[0m\u001b[0;34m=\u001b[0m\u001b[0mstack\u001b[0m\u001b[0;34m,\u001b[0m \u001b[0mmodel_name\u001b[0m\u001b[0;34m=\u001b[0m\u001b[0;34m'Sat16ClassFinetuned'\u001b[0m\u001b[0;34m,\u001b[0m \u001b[0mfn\u001b[0m\u001b[0;34m=\u001b[0m\u001b[0mfn\u001b[0m\u001b[0;34m,\u001b[0m \u001b[0manchor_fn\u001b[0m\u001b[0;34m=\u001b[0m\u001b[0manchor_fn\u001b[0m\u001b[0;34m)\u001b[0m\u001b[0;34m\u001b[0m\u001b[0m\n\u001b[0m\u001b[1;32m     32\u001b[0m \u001b[0;34m\u001b[0m\u001b[0m\n\u001b[1;32m     33\u001b[0m \u001b[0;31m#         locations_fn = os.path.join(PATCH_FEATURES_ROOTDIR, \\\u001b[0m\u001b[0;34m\u001b[0m\u001b[0;34m\u001b[0m\u001b[0m\n",
      "\u001b[0;32m/oasis/projects/nsf/csd395/yuncong/Brain/utilities/data_manager.pyc\u001b[0m in \u001b[0;36mload_dnn_feature_locations\u001b[0;34m(stack, model_name, section, fn, anchor_fn)\u001b[0m\n\u001b[1;32m    967\u001b[0m     \u001b[0;32mdef\u001b[0m \u001b[0mload_dnn_feature_locations\u001b[0m\u001b[0;34m(\u001b[0m\u001b[0mstack\u001b[0m\u001b[0;34m,\u001b[0m \u001b[0mmodel_name\u001b[0m\u001b[0;34m,\u001b[0m \u001b[0msection\u001b[0m\u001b[0;34m=\u001b[0m\u001b[0mNone\u001b[0m\u001b[0;34m,\u001b[0m \u001b[0mfn\u001b[0m\u001b[0;34m=\u001b[0m\u001b[0mNone\u001b[0m\u001b[0;34m,\u001b[0m \u001b[0manchor_fn\u001b[0m\u001b[0;34m=\u001b[0m\u001b[0mNone\u001b[0m\u001b[0;34m)\u001b[0m\u001b[0;34m:\u001b[0m\u001b[0;34m\u001b[0m\u001b[0m\n\u001b[1;32m    968\u001b[0m         \u001b[0mfp\u001b[0m \u001b[0;34m=\u001b[0m \u001b[0mDataManager\u001b[0m\u001b[0;34m.\u001b[0m\u001b[0mget_dnn_feature_locations_filepath\u001b[0m\u001b[0;34m(\u001b[0m\u001b[0mstack\u001b[0m\u001b[0;34m=\u001b[0m\u001b[0mstack\u001b[0m\u001b[0;34m,\u001b[0m \u001b[0mmodel_name\u001b[0m\u001b[0;34m=\u001b[0m\u001b[0mmodel_name\u001b[0m\u001b[0;34m,\u001b[0m \u001b[0msection\u001b[0m\u001b[0;34m=\u001b[0m\u001b[0msection\u001b[0m\u001b[0;34m,\u001b[0m \u001b[0mfn\u001b[0m\u001b[0;34m=\u001b[0m\u001b[0mfn\u001b[0m\u001b[0;34m,\u001b[0m \u001b[0manchor_fn\u001b[0m\u001b[0;34m=\u001b[0m\u001b[0manchor_fn\u001b[0m\u001b[0;34m)\u001b[0m\u001b[0;34m\u001b[0m\u001b[0m\n\u001b[0;32m--> 969\u001b[0;31m         \u001b[0mlocs\u001b[0m \u001b[0;34m=\u001b[0m \u001b[0mnp\u001b[0m\u001b[0;34m.\u001b[0m\u001b[0mloadtxt\u001b[0m\u001b[0;34m(\u001b[0m\u001b[0mfp\u001b[0m\u001b[0;34m)\u001b[0m\u001b[0;34m.\u001b[0m\u001b[0mastype\u001b[0m\u001b[0;34m(\u001b[0m\u001b[0mnp\u001b[0m\u001b[0;34m.\u001b[0m\u001b[0mint\u001b[0m\u001b[0;34m)\u001b[0m\u001b[0;34m\u001b[0m\u001b[0m\n\u001b[0m\u001b[1;32m    970\u001b[0m         \u001b[0mindices\u001b[0m \u001b[0;34m=\u001b[0m \u001b[0mlocs\u001b[0m\u001b[0;34m[\u001b[0m\u001b[0;34m:\u001b[0m\u001b[0;34m,\u001b[0m \u001b[0;36m0\u001b[0m\u001b[0;34m]\u001b[0m\u001b[0;34m\u001b[0m\u001b[0m\n\u001b[1;32m    971\u001b[0m         \u001b[0mlocations\u001b[0m \u001b[0;34m=\u001b[0m \u001b[0mlocs\u001b[0m\u001b[0;34m[\u001b[0m\u001b[0;34m:\u001b[0m\u001b[0;34m,\u001b[0m \u001b[0;36m1\u001b[0m\u001b[0;34m:\u001b[0m\u001b[0;34m]\u001b[0m\u001b[0;34m\u001b[0m\u001b[0m\n",
      "\u001b[0;32m/oasis/projects/nsf/csd395/yuncong/brain_virtualenv/lib/python2.7/site-packages/numpy/lib/npyio.pyc\u001b[0m in \u001b[0;36mloadtxt\u001b[0;34m(fname, dtype, comments, delimiter, converters, skiprows, usecols, unpack, ndmin)\u001b[0m\n\u001b[1;32m    801\u001b[0m                 \u001b[0mfh\u001b[0m \u001b[0;34m=\u001b[0m \u001b[0miter\u001b[0m\u001b[0;34m(\u001b[0m\u001b[0mbz2\u001b[0m\u001b[0;34m.\u001b[0m\u001b[0mBZ2File\u001b[0m\u001b[0;34m(\u001b[0m\u001b[0mfname\u001b[0m\u001b[0;34m)\u001b[0m\u001b[0;34m)\u001b[0m\u001b[0;34m\u001b[0m\u001b[0m\n\u001b[1;32m    802\u001b[0m             \u001b[0;32melif\u001b[0m \u001b[0msys\u001b[0m\u001b[0;34m.\u001b[0m\u001b[0mversion_info\u001b[0m\u001b[0;34m[\u001b[0m\u001b[0;36m0\u001b[0m\u001b[0;34m]\u001b[0m \u001b[0;34m==\u001b[0m \u001b[0;36m2\u001b[0m\u001b[0;34m:\u001b[0m\u001b[0;34m\u001b[0m\u001b[0m\n\u001b[0;32m--> 803\u001b[0;31m                 \u001b[0mfh\u001b[0m \u001b[0;34m=\u001b[0m \u001b[0miter\u001b[0m\u001b[0;34m(\u001b[0m\u001b[0mopen\u001b[0m\u001b[0;34m(\u001b[0m\u001b[0mfname\u001b[0m\u001b[0;34m,\u001b[0m \u001b[0;34m'U'\u001b[0m\u001b[0;34m)\u001b[0m\u001b[0;34m)\u001b[0m\u001b[0;34m\u001b[0m\u001b[0m\n\u001b[0m\u001b[1;32m    804\u001b[0m             \u001b[0;32melse\u001b[0m\u001b[0;34m:\u001b[0m\u001b[0;34m\u001b[0m\u001b[0m\n\u001b[1;32m    805\u001b[0m                 \u001b[0mfh\u001b[0m \u001b[0;34m=\u001b[0m \u001b[0miter\u001b[0m\u001b[0;34m(\u001b[0m\u001b[0mopen\u001b[0m\u001b[0;34m(\u001b[0m\u001b[0mfname\u001b[0m\u001b[0;34m)\u001b[0m\u001b[0;34m)\u001b[0m\u001b[0;34m\u001b[0m\u001b[0m\n",
      "\u001b[0;31mIOError\u001b[0m: [Errno 2] No such file or directory: '/oasis/projects/nsf/csd395/yuncong/CSHL_patch_features/Sat16ClassFinetuned/MD642/MD642-F77-2017.01.14-19.51.19_MD642_3_0231_lossless_alignedTo_MD642-F53-2017.01.14-12.23.43_MD642_1_0157_cropped/MD642-F77-2017.01.14-19.51.19_MD642_3_0231_lossless_alignedTo_MD642-F53-2017.01.14-12.23.43_MD642_1_0157_cropped_patch_locations.txt'"
     ]
    }
   ],
   "source": [
    "for stack in ['MD642']:\n",
    "        \n",
    "    sections_to_filenames = metadata_cache['sections_to_filenames'][stack]\n",
    "    first_sec, last_sec = metadata_cache['section_limits'][stack]\n",
    "    anchor_fn = metadata_cache['anchor_fn'][stack]\n",
    "        \n",
    "    bar = show_progress_bar(first_sec, last_sec)\n",
    "    \n",
    "    for sec in range(364, 365):\n",
    "#     for sec in range(first_sec, last_sec+1):\n",
    "\n",
    "        actual_setting = resolve_actual_setting(setting=setting, stack=stack, sec=sec)\n",
    "\n",
    "        bar.value = sec\n",
    "        \n",
    "        print sec\n",
    "\n",
    "        fn = sections_to_filenames[sec]\n",
    "        if is_invalid(fn):\n",
    "            continue     \n",
    "\n",
    "        # output\n",
    "        scoremaps_dir = create_if_not_exists(os.path.join(SCOREMAPS_ROOTDIR, stack, \n",
    "                                     '%(fn)s_lossless_alignedTo_%(anchor_fn)s_cropped' % \\\n",
    "                                     dict(stack=stack, fn=fn, anchor_fn=anchor_fn)))\n",
    "\n",
    "        ## define grid, generate patches\n",
    "\n",
    "        t = time.time()\n",
    "\n",
    "        _, sample_locations_roi = DataManager.load_dnn_feature_locations(stack=stack, model_name='Sat16ClassFinetuned', fn=fn, anchor_fn=anchor_fn)\n",
    "        \n",
    "#         locations_fn = os.path.join(PATCH_FEATURES_ROOTDIR, \\\n",
    "#         '%(stack)s/%(fn)s_lossless_alignedTo_%(anchor_fn)s_cropped/%(fn)s_lossless_alignedTo_%(anchor_fn)s_cropped_patch_locations.txt' % dict(stack=stack, fn=fn, anchor_fn=anchor_fn))\n",
    "\n",
    "#         with open(locations_fn, 'r') as f:\n",
    "#             sample_locations_roi = np.array([map(int, line.split()[1:]) for line in f.readlines()])\n",
    "        \n",
    "        ## interpolate\n",
    "        \n",
    "        interpolation_xmin, interpolation_ymin = sample_locations_roi.min(axis=0)\n",
    "        interpolation_xmax, interpolation_ymax = sample_locations_roi.max(axis=0)\n",
    "        interpolation_w = interpolation_xmax - interpolation_xmin + 1\n",
    "        interpolation_h = interpolation_ymax - interpolation_ymin + 1\n",
    "\n",
    "        ##### sample_locations_roi + scores to dense_score_map #####\n",
    "\n",
    "        shrink_factor = 4 # do interpolation on a smaller grid, then resize to original dimension\n",
    "\n",
    "        sample_locations_unique_xs = np.unique(sample_locations_roi[:,0])\n",
    "        sample_locations_unique_ys = np.unique(sample_locations_roi[:,1])\n",
    "\n",
    "        n_sample_x = sample_locations_unique_xs.size\n",
    "        n_sample_y = sample_locations_unique_ys.size\n",
    "\n",
    "        index_x = dict([(j,i) for i,j in enumerate(sample_locations_unique_xs)])\n",
    "        index_y = dict([(j,i) for i,j in enumerate(sample_locations_unique_ys)])\n",
    "        sample_location_indices = np.asarray([(index_x[x], index_y[y]) for x, y in sample_locations_roi])\n",
    "\n",
    "        sample_locations_interpolatedArea_ys_matrix, \\\n",
    "        sample_locations_interpolatedArea_xs_matrix = np.meshgrid(range(interpolation_ymin/shrink_factor, \n",
    "                                                                        interpolation_ymax/shrink_factor), \n",
    "                                                                  range(interpolation_xmin/shrink_factor, \n",
    "                                                                        interpolation_xmax/shrink_factor), \n",
    "                                                                  indexing='ij')\n",
    "\n",
    "#         sparse_score_dir = create_if_not_exists(os.path.join(SPARSE_SCORES_ROOTDIR, stack, '%(fn)s_lossless_alignedTo_%(anchor_fn)s_cropped' % \\\n",
    "#                                       {'fn': fn, 'anchor_fn': anchor_fn}))\n",
    "\n",
    "#         probs_allClasses = {label: bp.unpack_ndarray_file(sparse_score_dir + '/%(fn)s_lossless_alignedTo_%(anchor_fn)s_cropped_%(label)s_sparseScores.hdf' % \\\n",
    "#                     {'fn': fn, 'anchor_fn': anchor_fn, 'label':label})\n",
    "#                             for label in structures}\n",
    "\n",
    "        probs_allClasses = {}\n",
    "        for structure in all_known_structures:\n",
    "            try:\n",
    "                probs_allClasses[structure] = DataManager.load_sparse_scores(stack, fn=fn, anchor_fn=anchor_fn,\n",
    "                                                                         structure=structure, setting=actual_setting)\n",
    "            except Exception as e:\n",
    "                sys.stderr.write('Patch predictions for %s do not exist.\\n' % structure)\n",
    "\n",
    "        structures = probs_allClasses.keys()\n",
    "                \n",
    "        sys.stderr.write('preprocess: %.2f seconds\\n' % (time.time() - t)) # 3s\n",
    "        \n",
    "        def generate_score_map(structure):\n",
    "\n",
    "            if structure == 'BackG':\n",
    "                return None\n",
    "            \n",
    "            score_matrix = np.zeros((n_sample_x, n_sample_y))\n",
    "            score_matrix[sample_location_indices[:,0], sample_location_indices[:,1]] = probs_allClasses[structure]\n",
    "\n",
    "            spline = RectBivariateSpline(sample_locations_unique_xs/shrink_factor, \n",
    "                                         sample_locations_unique_ys/shrink_factor, \n",
    "                                         score_matrix, \n",
    "                                         bbox=[interpolation_xmin/shrink_factor, \n",
    "                                               interpolation_xmax/shrink_factor, \n",
    "                                               interpolation_ymin/shrink_factor, \n",
    "                                               interpolation_ymax/shrink_factor])\n",
    "\n",
    "            t1 = time.time()\n",
    "            dense_score_map = spline.ev(sample_locations_interpolatedArea_xs_matrix, \n",
    "                                        sample_locations_interpolatedArea_ys_matrix)\n",
    "            sys.stderr.write('evaluate spline: %.2f seconds\\n' % (time.time() - t1)) # 5s for shrink_factor=4; doubling results in quadratic time reduction\n",
    "            \n",
    "            t1 = time.time()\n",
    "            dense_score_map = resize(dense_score_map, (interpolation_h, interpolation_w)) # similar speed as rescale\n",
    "#             dense_score_map = rescale(dense_score_map, shrink_factor)\n",
    "            sys.stderr.write('scale up: %.2f seconds\\n' % (time.time() - t1)) # 10s, very high penalty when multiprocessing\n",
    "\n",
    "#             t = time.time()\n",
    "            dense_score_map[dense_score_map < 1e-1] = 0\n",
    "            dense_score_map[dense_score_map > 1.] = 1.\n",
    "#             sys.stderr.write('threshold: %.2f seconds\\n' % (time.time() - t))\n",
    "\n",
    "            if np.count_nonzero(dense_score_map) < 1e5:\n",
    "                sys.stderr.write('No %s is detected on section %d.\\n' % (structure, sec))\n",
    "                return None\n",
    "            \n",
    "            t1 = time.time()\n",
    "            \n",
    "            scoremap_bp_filepath, scoremap_interpBox_filepath = \\\n",
    "            DataManager.get_scoremap_filepath(stack=stack, fn=fn, anchor_fn=anchor_fn, structure=structure, \n",
    "                                              return_bbox_fp=True, setting=actual_setting)\n",
    "            \n",
    "            save_hdf(dense_score_map.astype(np.float16), scoremap_bp_filepath, complevel=5)\n",
    "#             save_hdf(dense_score_map.astype(np.float16), '/home/yuncong/tmp_%s.hdf' % structure, complevel=5)\n",
    "            np.savetxt(scoremap_interpBox_filepath,\n",
    "                   np.array((interpolation_xmin, interpolation_xmax, interpolation_ymin, interpolation_ymax))[None],\n",
    "                   fmt='%d')\n",
    "    \n",
    "            sys.stderr.write('save: %.2f seconds\\n' % (time.time() - t1)) # 4s, very high penalty when multiprocessing\n",
    "            \n",
    "        \n",
    "        t = time.time()\n",
    "        \n",
    "        # if too many disk saves are simultaneous, they will be conflicting, so split into two sessions\n",
    "#         for i in range(0, len(structures), 8):\n",
    "#             _ = Parallel(n_jobs=16)(delayed(generate_score_map)(l) for l in structures[i:i+15])\n",
    "    \n",
    "#         for l in structures:\n",
    "#             _ = generate_score_map(l)\n",
    "\n",
    "        # Each generate_score_map() takes 20s\n",
    "        # Parallel, expect 20*28/4=140s\n",
    "\n",
    "#         _ = Parallel(n_jobs=15)(delayed(generate_score_map)(l) for l in structures)\n",
    "\n",
    "        pool = Pool(8) # 8 causes contention, resuls in high upscaling and dumping to disk time.\n",
    "        _ = pool.map(generate_score_map, structures)\n",
    "        pool.close()\n",
    "        pool.join()\n",
    " \n",
    "        sys.stderr.write('interpolate: %.2f seconds\\n' % (time.time() - t)) # 80s-150s / section, 8 processes"
   ]
  },
  {
   "cell_type": "code",
   "execution_count": null,
   "metadata": {
    "collapsed": true
   },
   "outputs": [],
   "source": []
  }
 ],
 "metadata": {
  "kernelspec": {
   "display_name": "Python 2",
   "language": "python",
   "name": "python2"
  },
  "language_info": {
   "codemirror_mode": {
    "name": "ipython",
    "version": 2
   },
   "file_extension": ".py",
   "mimetype": "text/x-python",
   "name": "python",
   "nbconvert_exporter": "python",
   "pygments_lexer": "ipython2",
   "version": "2.7.3"
  },
  "widgets": {
   "state": {
    "b3da8f6d5ba046619e2f6cb4a2a5ec96": {
     "views": [
      {
       "cell_index": 3
      }
     ]
    }
   },
   "version": "1.2.0"
  }
 },
 "nbformat": 4,
 "nbformat_minor": 0
}
