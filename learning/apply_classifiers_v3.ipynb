{
 "cells": [
  {
   "cell_type": "code",
   "execution_count": 8,
   "metadata": {
    "collapsed": false
   },
   "outputs": [],
   "source": [
    "%reload_ext autoreload\n",
    "%autoreload 2\n",
    "\n",
    "import os\n",
    "import argparse\n",
    "import sys\n",
    "import time\n",
    "\n",
    "sys.path.append(os.path.join(os.environ['REPO_DIR'], 'utilities'))\n",
    "from utilities2015 import *\n",
    "from metadata import *\n",
    "from data_manager import *\n",
    "\n",
    "import numpy as np\n",
    "\n",
    "from learning_utilities import *\n",
    "from multiprocess import Pool"
   ]
  },
  {
   "cell_type": "code",
   "execution_count": 2,
   "metadata": {
    "collapsed": true
   },
   "outputs": [],
   "source": [
    "stack = 'MD635'\n",
    "first_sec, last_sec = metadata_cache['section_limits'][stack]"
   ]
  },
  {
   "cell_type": "code",
   "execution_count": 3,
   "metadata": {
    "collapsed": true
   },
   "outputs": [],
   "source": [
    "setting = 10"
   ]
  },
  {
   "cell_type": "code",
   "execution_count": 12,
   "metadata": {
    "collapsed": false
   },
   "outputs": [
    {
     "name": "stderr",
     "output_type": "stream",
     "text": [
      "Setting 10: No classifier found for Amb.\n",
      "Setting 10: No classifier found for LRt.\n",
      "Setting 10: No classifier found for RMC.\n",
      "Setting 10: No classifier found for 3N.\n",
      "Setting 10: No classifier found for 4N.\n",
      "Setting 10: No classifier found for Sp5I.\n",
      "Setting 10: No classifier found for Sp5O.\n",
      "Setting 10: No classifier found for PBG.\n",
      "Setting 10: No classifier found for sp5.\n",
      "Setting 10: No classifier found for outerContour.\n"
     ]
    }
   ],
   "source": [
    "if setting == 12:\n",
    "    \n",
    "    setting_nissl = 2\n",
    "    setting_ntb = 10\n",
    "    \n",
    "    clf_nissl_allClasses = DataManager.load_classifiers(setting=setting_nissl)\n",
    "    clf_ntb_allClasses = DataManager.load_classifiers(setting=setting_ntb)\n",
    "\n",
    "else:\n",
    "    clf_allClasses = DataManager.load_classifiers(setting=setting)"
   ]
  },
  {
   "cell_type": "code",
   "execution_count": 13,
   "metadata": {
    "collapsed": false
   },
   "outputs": [],
   "source": [
    "def clf_predict(stack, sec):\n",
    "\n",
    "    try:\n",
    "        features = DataManager.load_dnn_features(stack=stack, section=sec)\n",
    "    except Exception as e:\n",
    "        sys.stderr.write('%s\\n' % e.message)\n",
    "        return\n",
    "\n",
    "    if setting == 12:\n",
    "        stain = 'nissl' # use some heuristic to decide the stain of current section\n",
    "\n",
    "        if stain == 'nissl':\n",
    "            setting_ = setting_nissl\n",
    "            clf_allClasses_ = clf_nissl_allClasses\n",
    "        else:\n",
    "            setting_ = setting_ntb\n",
    "            clf_allClasses_ = clf_ntb_allClasses\n",
    "    else:\n",
    "        setting_ = setting\n",
    "        clf_allClasses_ = clf_allClasses\n",
    "\n",
    "    for structure, clf in clf_allClasses_.iteritems():\n",
    "\n",
    "        probs = clf.predict_proba(features)[:, clf.classes_.tolist().index(1.)]\n",
    "\n",
    "        output_fn = DataManager.get_sparse_scores_filepath(stack=stack, structure=structure, setting=setting_, sec=sec)\n",
    "        create_if_not_exists(os.path.dirname(output_fn))\n",
    "\n",
    "        bp.pack_ndarray_file(probs, output_fn)"
   ]
  },
  {
   "cell_type": "code",
   "execution_count": 14,
   "metadata": {
    "collapsed": false
   },
   "outputs": [],
   "source": [
    "clf_predict(stack=stack, sec=202)"
   ]
  },
  {
   "cell_type": "code",
   "execution_count": null,
   "metadata": {
    "collapsed": true
   },
   "outputs": [],
   "source": [
    "t = time.time()\n",
    "\n",
    "pool = Pool(8)\n",
    "pool.map(lambda sec: clf_predict(stack=stack, sec=sec), range(200, 201))\n",
    "# pool.map(lambda sec: clf_predict(stack=stack, sec=sec), range(first_sec, last_sec+1))\n",
    "pool.close()\n",
    "pool.join()\n",
    "\n",
    "sys.stderr.write('Classifier predict: %.2f\\n' % (time.time()-t)) # 30s each section, single process; "
   ]
  }
 ],
 "metadata": {
  "kernelspec": {
   "display_name": "Python 2",
   "language": "python",
   "name": "python2"
  },
  "language_info": {
   "codemirror_mode": {
    "name": "ipython",
    "version": 2
   },
   "file_extension": ".py",
   "mimetype": "text/x-python",
   "name": "python",
   "nbconvert_exporter": "python",
   "pygments_lexer": "ipython2",
   "version": "2.7.3"
  }
 },
 "nbformat": 4,
 "nbformat_minor": 1
}
