{
 "cells": [
  {
   "cell_type": "code",
   "execution_count": 9,
   "metadata": {
    "collapsed": false
   },
   "outputs": [],
   "source": [
    "%reload_ext autoreload\n",
    "%autoreload 2\n",
    "\n",
    "import os\n",
    "import argparse\n",
    "import sys\n",
    "import time\n",
    "\n",
    "sys.path.append(os.path.join(os.environ['REPO_DIR'], 'utilities'))\n",
    "from utilities2015 import *\n",
    "from metadata import *\n",
    "from data_manager import *\n",
    "\n",
    "import numpy as np\n",
    "\n",
    "from learning_utilities import *\n",
    "from multiprocess import Pool"
   ]
  },
  {
   "cell_type": "code",
   "execution_count": 10,
   "metadata": {
    "collapsed": true
   },
   "outputs": [],
   "source": [
    "stack = 'MD642'\n",
    "first_sec, last_sec = metadata_cache['section_limits'][stack]"
   ]
  },
  {
   "cell_type": "code",
   "execution_count": 11,
   "metadata": {
    "collapsed": true
   },
   "outputs": [],
   "source": [
    "setting = 12"
   ]
  },
  {
   "cell_type": "code",
   "execution_count": 12,
   "metadata": {
    "collapsed": false
   },
   "outputs": [
    {
     "name": "stderr",
     "output_type": "stream",
     "text": [
      "Setting 2: No classifier found for sp5.\n",
      "Setting 2: No classifier found for outerContour.\n",
      "Setting 10: No classifier found for Amb.\n",
      "Setting 10: No classifier found for LRt.\n",
      "Setting 10: No classifier found for RMC.\n",
      "Setting 10: No classifier found for 3N.\n",
      "Setting 10: No classifier found for 4N.\n",
      "Setting 10: No classifier found for Sp5I.\n",
      "Setting 10: No classifier found for Sp5O.\n",
      "Setting 10: No classifier found for PBG.\n",
      "Setting 10: No classifier found for sp5.\n",
      "Setting 10: No classifier found for outerContour.\n"
     ]
    }
   ],
   "source": [
    "if setting == 12:\n",
    "    available_classifiers = {2: DataManager.load_classifiers(setting=2),\n",
    "                             10: DataManager.load_classifiers(setting=10)}\n",
    "else:\n",
    "    available_classifiers = {setting: DataManager.load_classifiers(setting=setting)}"
   ]
  },
  {
   "cell_type": "code",
   "execution_count": 15,
   "metadata": {
    "collapsed": false
   },
   "outputs": [],
   "source": [
    "def clf_predict(stack, sec):\n",
    "    \n",
    "    fn = metadata_cache['sections_to_filenames'][stack][sec]\n",
    "    if is_invalid(fn):\n",
    "        return\n",
    "\n",
    "    try:\n",
    "        features = DataManager.load_dnn_features(stack=stack, model_name='Sat16ClassFinetuned', section=sec)\n",
    "    except Exception as e:\n",
    "        sys.stderr.write('%s\\n' % e.message)\n",
    "        return\n",
    "\n",
    "    actual_setting = resolve_actual_setting(setting=setting, stack=stack, sec=sec)\n",
    "    clf_allClasses_ = available_classifiers[actual_setting]\n",
    "\n",
    "    for structure, clf in clf_allClasses_.iteritems():\n",
    "\n",
    "        probs = clf.predict_proba(features)[:, clf.classes_.tolist().index(1.)]\n",
    "\n",
    "        output_fn = DataManager.get_sparse_scores_filepath(stack=stack, structure=structure, \n",
    "                                                           setting=actual_setting, sec=sec)\n",
    "        create_if_not_exists(os.path.dirname(output_fn))\n",
    "\n",
    "        bp.pack_ndarray_file(probs, output_fn)"
   ]
  },
  {
   "cell_type": "code",
   "execution_count": 16,
   "metadata": {
    "collapsed": false
   },
   "outputs": [],
   "source": [
    "clf_predict(stack=stack, sec=203)"
   ]
  },
  {
   "cell_type": "code",
   "execution_count": null,
   "metadata": {
    "collapsed": true
   },
   "outputs": [],
   "source": [
    "t = time.time()\n",
    "\n",
    "pool = Pool(8)\n",
    "pool.map(lambda sec: clf_predict(stack=stack, sec=sec), range(200, 201))\n",
    "# pool.map(lambda sec: clf_predict(stack=stack, sec=sec), range(first_sec, last_sec+1))\n",
    "pool.close()\n",
    "pool.join()\n",
    "\n",
    "sys.stderr.write('Classifier predict: %.2f\\n' % (time.time()-t)) # 30s each section, single process; "
   ]
  }
 ],
 "metadata": {
  "kernelspec": {
   "display_name": "Python 2",
   "language": "python",
   "name": "python2"
  },
  "language_info": {
   "codemirror_mode": {
    "name": "ipython",
    "version": 2
   },
   "file_extension": ".py",
   "mimetype": "text/x-python",
   "name": "python",
   "nbconvert_exporter": "python",
   "pygments_lexer": "ipython2",
   "version": "2.7.3"
  }
 },
 "nbformat": 4,
 "nbformat_minor": 1
}
