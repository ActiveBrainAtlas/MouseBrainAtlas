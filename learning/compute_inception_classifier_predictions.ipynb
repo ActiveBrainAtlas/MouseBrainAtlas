{
 "cells": [
  {
   "cell_type": "code",
   "execution_count": 4,
   "metadata": {
    "collapsed": false
   },
   "outputs": [
    {
     "name": "stdout",
     "output_type": "stream",
     "text": [
      "The autoreload extension is already loaded. To reload it, use:\n",
      "  %reload_ext autoreload\n"
     ]
    }
   ],
   "source": [
    "%load_ext autoreload\n",
    "%autoreload 2"
   ]
  },
  {
   "cell_type": "code",
   "execution_count": 9,
   "metadata": {
    "collapsed": false
   },
   "outputs": [],
   "source": [
    "import os\n",
    "import logging\n",
    "import numpy as np\n",
    "import socket\n",
    "hostname = socket.gethostname()\n",
    "\n",
    "import sys\n",
    "import mxnet as mx"
   ]
  },
  {
   "cell_type": "code",
   "execution_count": 13,
   "metadata": {
    "collapsed": true
   },
   "outputs": [],
   "source": [
    "stack = 'MD589'"
   ]
  },
  {
   "cell_type": "code",
   "execution_count": null,
   "metadata": {
    "collapsed": false
   },
   "outputs": [],
   "source": [
    "# for sec in range(154, 169):\n",
    "\n",
    "for sec in [168]:\n",
    "\n",
    "    print sec\n",
    "\n",
    "    if hostname.startswith('gcn'):\n",
    "        data_dir = '/oasis/projects/nsf/csd395/yuncong/CSHL_data_patches/%(stack)s_byROI/%(sec)04d/roi1'%{'stack':stack,\n",
    "                                                                                                        'sec': sec}\n",
    "    elif hostname == 'yuncong-MacbookPro':\n",
    "        data_dir = '/home/yuncong/CSHL_data_patches/%(stack)s_byROI/%(sec)04d/roi1'%{'stack':stack,'sec': sec}\n",
    "\n",
    "    prefix = 'inception-stage1'\n",
    "    n_iter = 6\n",
    "    \n",
    "    dataset = '%(stack)s_%(sec)04d_roi1' % {'stack': stack, 'sec': sec}\n",
    "    \n",
    "    img_filenames = sorted(os.listdir(data_dir))\n",
    "    with open('/home/yuncong/CSHL_data_patches/%(dataset)s_test.lst' % \\\n",
    "              {'dataset': dataset}, 'w') as lst_file:\n",
    "        for index, img_filename in enumerate(img_filenames):\n",
    "            lst_file.write('%s\\t0\\t%s\\n'%(index, img_filename))\n",
    "            \n",
    "    os.system(os.environ['MXNET_DIR']+'/bin/im2rec /home/yuncong/CSHL_data_patches/%(dataset)s_test.lst \\\n",
    "%(data_dir)s/ /home/yuncong/CSHL_data_patches/%(dataset)s_test.rec' % {'dataset': dataset, 'data_dir': data_dir})\n",
    "    \n",
    "# on mbp, scanning 1000 images take 1.8s\n",
    "# on gordon, scanning 16 image, 0.06s\n"
   ]
  },
  {
   "cell_type": "code",
   "execution_count": 10,
   "metadata": {
    "collapsed": true
   },
   "outputs": [],
   "source": [
    "if hostname.startswith('gcn'):   \n",
    "    model_dir = '/oasis/projects/nsf/csd395/yuncong/jiaxu_repo/model_publish'\n",
    "    init_model = mx.model.FeedForward.load(os.path.join(model_dir, prefix), n_iter, ctx=mx.cpu())\n",
    "else:\n",
    "    model_dir = '/home/yuncong/jiaxu_repo/model_publish' \n",
    "    init_model = mx.model.FeedForward.load(os.path.join(model_dir, prefix), n_iter, ctx=mx.gpu())"
   ]
  },
  {
   "cell_type": "code",
   "execution_count": 11,
   "metadata": {
    "collapsed": true
   },
   "outputs": [],
   "source": [
    "import time"
   ]
  },
  {
   "cell_type": "code",
   "execution_count": null,
   "metadata": {
    "collapsed": false
   },
   "outputs": [],
   "source": [
    "logging.basicConfig(level=logging.DEBUG)\n",
    "\n",
    "# for sec in range(154, 169):\n",
    "for sec in range(155, 169):\n",
    "\n",
    "    dataset = '%(stack)s_%(sec)04d_roi1' % {'stack': stack, 'sec': sec}\n",
    "\n",
    "    # if the dataset has more than one batch's amount of data, then you can see effect of multithreading enabled by openblas\n",
    "\n",
    "    batch_size = 16\n",
    "\n",
    "    t = time.time()\n",
    "\n",
    "    test_iter = mx.io.ImageRecordIter(\n",
    "        path_imgrec='/home/yuncong/CSHL_data_patches/%(dataset)s_test.rec' % {'dataset': dataset},\n",
    "        batch_size=batch_size,\n",
    "        data_shape=(3, 224, 224),\n",
    "        mean_img=os.path.join(model_dir, 'mean_224.nd'),\n",
    "    )\n",
    "\n",
    "    print time.time() - t\n",
    "\n",
    "    t = time.time()\n",
    "\n",
    "    probs = init_model.predict(test_iter)\n",
    "    \n",
    "    # on Gordon, predicting 1 patch takes .5 s; OPENBLAS_NUM_THREADS=16 but CPUs are not fully utilized\n",
    "    # on mbp, predicting 16 patches takes 1 s\n",
    "\n",
    "    print time.time() - t\n",
    "    \n",
    "    # prediction_map = zip(np.argmax(probs, axis=1), map(lambda x: int(x[:-4]), img_filenames))\n",
    "    np.save('/home/yuncong/CSHL_data_patches/%(dataset)s_test_prediction_map.npy'% {'dataset': dataset}, probs)\n",
    "\n",
    "    # 900 sec = 15 min for 20k patches"
   ]
  }
 ],
 "metadata": {
  "kernelspec": {
   "display_name": "Python 2",
   "language": "python",
   "name": "python2"
  },
  "language_info": {
   "codemirror_mode": {
    "name": "ipython",
    "version": 2
   },
   "file_extension": ".py",
   "mimetype": "text/x-python",
   "name": "python",
   "nbconvert_exporter": "python",
   "pygments_lexer": "ipython2",
   "version": "2.7.3"
  }
 },
 "nbformat": 4,
 "nbformat_minor": 0
}
