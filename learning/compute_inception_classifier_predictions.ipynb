{
 "cells": [
  {
   "cell_type": "code",
   "execution_count": 1,
   "metadata": {
    "collapsed": false
   },
   "outputs": [],
   "source": [
    "%load_ext autoreload\n",
    "%autoreload 2"
   ]
  },
  {
   "cell_type": "code",
   "execution_count": 2,
   "metadata": {
    "collapsed": false
   },
   "outputs": [],
   "source": [
    "# from TextureClassifier import TextureClassifier\n",
    "import os\n",
    "import logging\n",
    "import numpy as np\n",
    "import socket\n",
    "hostname = socket.gethostname()\n",
    "\n",
    "import sys\n",
    "import mxnet as mx"
   ]
  },
  {
   "cell_type": "code",
   "execution_count": 3,
   "metadata": {
    "collapsed": false
   },
   "outputs": [],
   "source": [
    "logging.basicConfig(level=logging.DEBUG)\n",
    "\n",
    "# stack = 'MD589'\n",
    "# sec = 165\n",
    "\n",
    "stack = 'MD594'\n",
    "sec = 289\n",
    "\n",
    "if hostname.startswith('gcn'):\n",
    "    data_dir = '/oasis/projects/nsf/csd395/yuncong/CSHL_data_patches/%s_patches/%04d_reduced'%(stack, sec)\n",
    "    model_dir = '/oasis/projects/nsf/csd395/yuncong/jiaxu_repo/model_publish'    \n",
    "elif hostname == 'yuncong-MacbookPro':\n",
    "#     data_dir = '/home/yuncong/jiaxu_sample_patches'\n",
    "    data_dir = '/home/yuncong/CSHL_data_patches/%s_patches/%04d_reduced'%(stack, sec)\n",
    "    model_dir = '/home/yuncong/jiaxu_repo/model_publish' \n",
    "    \n",
    "# p_labels = ['5N', '7n', '7N', '12N', 'Gr', 'LVe', 'Pn', 'SuVe', 'VLL']\n",
    "\n",
    "prefix = 'inception-stage1'\n",
    "n_iter = 6"
   ]
  },
  {
   "cell_type": "code",
   "execution_count": 15,
   "metadata": {
    "collapsed": false
   },
   "outputs": [],
   "source": [
    "img_filenames = sorted(os.listdir(data_dir))\n",
    "with open('/home/yuncong/CSHL_data_patches/%s_%04d_test.lst'%(stack, sec), 'w') as lst_file:\n",
    "    for index, img_filename in enumerate(img_filenames[:128]):\n",
    "        lst_file.write('%s\\t0\\t%s\\n'%(index, img_filename))"
   ]
  },
  {
   "cell_type": "code",
   "execution_count": 16,
   "metadata": {
    "collapsed": false,
    "scrolled": true
   },
   "outputs": [
    {
     "data": {
      "text/plain": [
       "0"
      ]
     },
     "execution_count": 16,
     "metadata": {},
     "output_type": "execute_result"
    }
   ],
   "source": [
    "os.system(os.environ['MXNET_DIR']+'/bin/im2rec /home/yuncong/CSHL_data_patches/%(stack)s_%(sec)04d_test.lst \\\n",
    "/home/yuncong/CSHL_data_patches/%(stack)s_patches/%(sec)04d_reduced/ \\\n",
    "/home/yuncong/CSHL_data_patches/%(stack)s_%(sec)04d_test.rec' % \\\n",
    "          {'stack': stack,\n",
    "           'sec': sec})\n",
    "# on mbp, scanning 1000 images take 1.8s\n",
    "# on gordon, scanning 16 image, 0.06s"
   ]
  },
  {
   "cell_type": "code",
   "execution_count": 19,
   "metadata": {
    "collapsed": false
   },
   "outputs": [
    {
     "name": "stdout",
     "output_type": "stream",
     "text": [
      "0.0438940525055\n",
      "0.137769937515\n",
      "63.7382729053\n"
     ]
    }
   ],
   "source": [
    "# if the dataset has more than one batch's amount of data, then you can see effect of multithreading enabled by openblas\n",
    "\n",
    "import time\n",
    "t = time.time()\n",
    "\n",
    "batch_size = 16\n",
    "\n",
    "if hostname.startswith('gcn'):\n",
    "#     init_model = mx.model.FeedForward.load(os.path.join(model_dir, prefix), n_iter, ctx=[mx.cpu(i) for i in range(16)])\n",
    "    init_model = mx.model.FeedForward.load(os.path.join(model_dir, prefix), n_iter, ctx=mx.cpu())\n",
    "    # [mx.cpu(i) for i in range(16)] vs. mx.cpu() makes no difference\n",
    "else:\n",
    "    init_model = mx.model.FeedForward.load(os.path.join(model_dir, prefix), n_iter, ctx=mx.gpu())\n",
    "\n",
    "print time.time() - t\n",
    "\n",
    "t = time.time()\n",
    "\n",
    "test_iter = mx.io.ImageRecordIter(\n",
    "    path_imgrec='/home/yuncong/CSHL_data_patches/%(stack)s_%(sec)04d_test.rec' % {'stack': stack, 'sec':sec},\n",
    "    batch_size=batch_size,\n",
    "    data_shape=(3, 224, 224),\n",
    "    mean_img=os.path.join(model_dir, 'mean_224.nd'),\n",
    ")\n",
    "\n",
    "print time.time() - t\n",
    "\n",
    "t = time.time()\n",
    "\n",
    "probs = init_model.predict(test_iter)\n",
    "\n",
    "print time.time() - t"
   ]
  },
  {
   "cell_type": "code",
   "execution_count": null,
   "metadata": {
    "collapsed": true
   },
   "outputs": [],
   "source": [
    "# on Gordon, predicting 1 patch takes .5 s; OPENBLAS_NUM_THREADS=16 but CPUs are not fully utilized\n",
    "# on mbp, predicting 16 patches takes 1 s"
   ]
  },
  {
   "cell_type": "code",
   "execution_count": 9,
   "metadata": {
    "collapsed": false
   },
   "outputs": [],
   "source": [
    "# prediction_map = zip(np.argmax(probs, axis=1), map(lambda x: int(x[:-4]), img_filenames))\n",
    "np.save('/home/yuncong/CSHL_data_patches/%(stack)s_%(sec)04d_test_prediction_map.npy'% {'stack': stack, 'sec':sec}, \n",
    "        probs)"
   ]
  }
 ],
 "metadata": {
  "kernelspec": {
   "display_name": "Python 2",
   "language": "python",
   "name": "python2"
  },
  "language_info": {
   "codemirror_mode": {
    "name": "ipython",
    "version": 2
   },
   "file_extension": ".py",
   "mimetype": "text/x-python",
   "name": "python",
   "nbconvert_exporter": "python",
   "pygments_lexer": "ipython2",
   "version": "2.7.6"
  }
 },
 "nbformat": 4,
 "nbformat_minor": 0
}
