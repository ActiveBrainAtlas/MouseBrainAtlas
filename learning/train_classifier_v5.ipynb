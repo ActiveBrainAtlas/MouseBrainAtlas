{
 "cells": [
  {
   "cell_type": "code",
   "execution_count": 1,
   "metadata": {
    "scrolled": true
   },
   "outputs": [
    {
     "name": "stderr",
     "output_type": "stream",
     "text": [
      "/usr/local/lib/python2.7/dist-packages/matplotlib/__init__.py:1350: UserWarning:  This call to matplotlib.use() has no effect\n",
      "because the backend has already been chosen;\n",
      "matplotlib.use() must be called *before* pylab, matplotlib.pyplot,\n",
      "or matplotlib.backends is imported for the first time.\n",
      "\n",
      "  warnings.warn(_use_error_msg)\n"
     ]
    },
    {
     "name": "stdout",
     "output_type": "stream",
     "text": [
      "Setting environment for Precision WorkStation\n"
     ]
    },
    {
     "name": "stderr",
     "output_type": "stream",
     "text": [
      "No vtk\n",
      "No vtkNot using image_cache.\n",
      "Not using image_cache.\n",
      "Not using image_cache.\n",
      "Not using image_cache.\n",
      "Not using image_cache.\n",
      "Not using image_cache.\n",
      "Not using image_cache.\n",
      "Not using image_cache.\n",
      "Not using image_cache.\n",
      "Not using image_cache.\n",
      "Not using image_cache.\n",
      "Not using image_cache.\n",
      "Not using image_cache.\n",
      "Not using image_cache.\n",
      "Not using image_cache.\n",
      "Not using image_cache.\n",
      "Not using image_cache.\n",
      "Not using image_cache.\n",
      "Not using image_cache.\n",
      "Not using image_cache.\n",
      "Not using image_cache.\n",
      "/usr/local/lib/python2.7/dist-packages/sklearn/cross_validation.py:44: DeprecationWarning: This module was deprecated in version 0.18 in favor of the model_selection module into which all the refactored classes and functions are moved. Also note that the interface of the new CV iterators are different from that of this module. This module will be removed in 0.20.\n",
      "  \"This module will be removed in 0.20.\", DeprecationWarning)\n"
     ]
    }
   ],
   "source": [
    "%load_ext autoreload\n",
    "%autoreload 2\n",
    "\n",
    "import sys\n",
    "import os\n",
    "import time\n",
    "\n",
    "import numpy as np\n",
    "try:\n",
    "    import mxnet as mx\n",
    "except:\n",
    "    sys.stderr.write(\"Cannot import mxnet.\\n\")\n",
    "import matplotlib.pyplot as plt\n",
    "%matplotlib inline\n",
    "from skimage.exposure import rescale_intensity\n",
    "from skimage.transform import rotate\n",
    "\n",
    "sys.path.append(os.environ['REPO_DIR'] + '/utilities')\n",
    "from utilities2015 import *\n",
    "from metadata import *\n",
    "from data_manager import *\n",
    "from learning_utilities import *\n",
    "from distributed_utilities import *\n",
    "from visualization_utilities import *"
   ]
  },
  {
   "cell_type": "code",
   "execution_count": 2,
   "metadata": {
    "collapsed": true
   },
   "outputs": [],
   "source": [
    "from sklearn.externals import joblib\n",
    "\n",
    "from sklearn.linear_model import LogisticRegression\n",
    "from sklearn.svm import LinearSVC, SVC\n",
    "from sklearn.calibration import CalibratedClassifierCV\n",
    "from sklearn.ensemble import GradientBoostingClassifier \n",
    "\n",
    "sys.path.append('/home/yuncong/csd395/xgboost/python-package')\n",
    "try:\n",
    "    from xgboost.sklearn import XGBClassifier\n",
    "except:\n",
    "    sys.stderr.write('xgboost is not loaded.')"
   ]
  },
  {
   "cell_type": "code",
   "execution_count": 3,
   "metadata": {
    "scrolled": true
   },
   "outputs": [
    {
     "name": "stderr",
     "output_type": "stream",
     "text": [
      "/usr/local/lib/python2.7/dist-packages/mxnet/module/base_module.py:53: UserWarning: \u001b[91mYou created Module with Module(..., label_names=['softmax_label']) but input with name 'softmax_label' is not found in symbol.list_arguments(). Did you mean one of:\n",
      "\tdata\u001b[0m\n",
      "  warnings.warn(msg)\n",
      "/usr/local/lib/python2.7/dist-packages/mxnet/module/base_module.py:65: UserWarning: Data provided by label_shapes don't match names specified by label_names ([] vs. ['softmax_label'])\n",
      "  warnings.warn(msg)\n"
     ]
    }
   ],
   "source": [
    "batch_size = 256\n",
    "model_dir_name = 'inception-bn-blue'\n",
    "model_name = 'inception-bn-blue'\n",
    "model, mean_img = load_mxnet_model(model_dir_name=model_dir_name, model_name=model_name, \n",
    "                                   num_gpus=1, batch_size=batch_size)"
   ]
  },
  {
   "cell_type": "code",
   "execution_count": 4,
   "metadata": {
    "collapsed": true
   },
   "outputs": [],
   "source": [
    "win_id = 7"
   ]
  },
  {
   "cell_type": "code",
   "execution_count": 5,
   "metadata": {
    "collapsed": true
   },
   "outputs": [],
   "source": [
    "stacks = ['MD661', 'MD662']\n",
    "# stacks = ['MD661', 'ChatCryoJane201710']\n",
    "# stacks = ['MD642', 'MD661']\n",
    "# stacks = ['MD661', 'MD662', 'ChatCryoJane201710']\n",
    "# stacks = ['MD589', 'MD661']\n",
    "# stacks = ['MD589', 'ChatCryoJane201710']"
   ]
  },
  {
   "cell_type": "code",
   "execution_count": 8,
   "metadata": {},
   "outputs": [
    {
     "name": "stdout",
     "output_type": "stream",
     "text": [
      "aws s3 cp --recursive \"s3://mousebrainatlas-data/CSHL_labelings_v3/MD661\" \"/home/yuncong/CSHL_labelings_v3/MD661\" --exclude \"*\" --include \"*win7*warp*grid_indices_lookup*\"\n",
      "latest timestamp:  01302018020813\n",
      "aws s3 cp --recursive \"s3://mousebrainatlas-data/CSHL_labelings_v3/MD662\" \"/home/yuncong/CSHL_labelings_v3/MD662\" --exclude \"*\" --include \"*win7*warp*grid_indices_lookup*\"\n",
      "latest timestamp:  01302018034859\n"
     ]
    }
   ],
   "source": [
    "grid_indices_lookup_allStacks = {}\n",
    "\n",
    "for stack in ['MD661', 'MD662']:\n",
    "    try:\n",
    "        grid_indices_lookup_allStacks[stack] = \\\n",
    "        DataManager.load_annotation_to_grid_indices_lookup(stack=stack, win_id=win_id,\n",
    "                                                           by_human=False, timestamp='latest',\n",
    "                                                           detector_id_f=1,\n",
    "                                                          return_locations=True)            \n",
    "\n",
    "    except Exception as e:\n",
    "        print e\n",
    "        sys.stderr.write(\"Fail to load annotation grid lookup for %s.\\n\" % stack)"
   ]
  },
  {
   "cell_type": "code",
   "execution_count": 9,
   "metadata": {},
   "outputs": [],
   "source": [
    "from itertools import chain\n",
    "all_labels = sorted(list(set(chain.from_iterable(set(grid_indices_lookup_allStacks[st].columns.tolist()) \n",
    "                                                 for st in stacks))))"
   ]
  },
  {
   "cell_type": "code",
   "execution_count": 10,
   "metadata": {
    "collapsed": true
   },
   "outputs": [],
   "source": [
    "train_stacks = ['MD661', 'MD662']\n",
    "train_stack_stain = {'MD661': 'F', 'MD662': 'F'}"
   ]
  },
  {
   "cell_type": "code",
   "execution_count": 11,
   "metadata": {
    "collapsed": true
   },
   "outputs": [],
   "source": [
    "train_stack_section_number = defaultdict(dict)\n",
    "\n",
    "for st in ['MD661', 'MD662']:\n",
    "    for name_u in all_known_structures:\n",
    "#         if name_u == '4N' or name_u == '10N':\n",
    "#             train_stack_section_number[st][name_u] = 20\n",
    "#         else:\n",
    "#             train_stack_section_number[st][name_u] = 10\n",
    "        train_stack_section_number[st][name_u] = 99"
   ]
  },
  {
   "cell_type": "code",
   "execution_count": 17,
   "metadata": {
    "scrolled": true
   },
   "outputs": [
    {
     "name": "stdout",
     "output_type": "stream",
     "text": [
      "# positive train = 21259\n",
      "# negative train = 82729\n",
      "('MD661', 340)\n",
      "('MD661', 96)\n"
     ]
    },
    {
     "name": "stderr",
     "output_type": "stream",
     "text": [
      "Feature for (MD661,96,(8367,9017)) is not in pool. Re-compute.\n",
      "Feature for (MD661,96,(8367,9082)) is not in pool. Re-compute.\n",
      "Feature for (MD661,96,(8367,9147)) is not in pool. Re-compute.\n",
      "Feature for (MD661,96,(8432,9017)) is not in pool. Re-compute.\n",
      "Feature for (MD661,96,(8432,9082)) is not in pool. Re-compute.\n",
      "Feature for (MD661,96,(8432,9147)) is not in pool. Re-compute.\n",
      "Feature for (MD661,96,(8432,9212)) is not in pool. Re-compute.\n",
      "Feature for (MD661,96,(8497,8952)) is not in pool. Re-compute.\n",
      "Feature for (MD661,96,(8497,9017)) is not in pool. Re-compute.\n",
      "Feature for (MD661,96,(8497,9082)) is not in pool. Re-compute.\n",
      "Feature for (MD661,96,(8497,9147)) is not in pool. Re-compute.\n",
      "Feature for (MD661,96,(8497,9212)) is not in pool. Re-compute.\n",
      "Feature for (MD661,96,(8497,9277)) is not in pool. Re-compute.\n",
      "Feature for (MD661,96,(8497,9342)) is not in pool. Re-compute.\n",
      "Feature for (MD661,96,(8562,8887)) is not in pool. Re-compute.\n",
      "Feature for (MD661,96,(8562,8952)) is not in pool. Re-compute.\n",
      "Feature for (MD661,96,(8562,9017)) is not in pool. Re-compute.\n",
      "Feature for (MD661,96,(8562,9082)) is not in pool. Re-compute.\n",
      "Feature for (MD661,96,(8562,9147)) is not in pool. Re-compute.\n",
      "Feature for (MD661,96,(8562,9212)) is not in pool. Re-compute.\n",
      "Feature for (MD661,96,(8627,8887)) is not in pool. Re-compute.\n",
      "Feature for (MD661,96,(8627,8952)) is not in pool. Re-compute.\n",
      "Feature for (MD661,96,(8627,9017)) is not in pool. Re-compute.\n",
      "Feature for (MD661,96,(8692,8952)) is not in pool. Re-compute.\n",
      "Feature for (MD661,96,(8627,8887)) is not in pool. Re-compute.\n",
      "Feature for (MD661,96,(8627,8952)) is not in pool. Re-compute.\n",
      "Feature for (MD661,96,(8627,9017)) is not in pool. Re-compute.\n",
      "Feature for (MD661,96,(8692,8952)) is not in pool. Re-compute.\n",
      "Feature for (MD661,96,(8952,9147)) is not in pool. Re-compute.\n",
      "Feature for (MD661,96,(9017,9147)) is not in pool. Re-compute.\n",
      "Not using image_cache.\n",
      "Load image: 14.62 seconds.\n",
      "Extract patches: 14.73 seconds\n"
     ]
    },
    {
     "name": "stdout",
     "output_type": "stream",
     "text": [
      "(256, 1, 224, 224)\n"
     ]
    },
    {
     "name": "stderr",
     "output_type": "stream",
     "text": [
      "Compute features: 0.37 seconds\n"
     ]
    },
    {
     "name": "stdout",
     "output_type": "stream",
     "text": [
      "('MD662', 369)\n"
     ]
    },
    {
     "name": "stderr",
     "output_type": "stream",
     "text": [
      "Feature for (MD662,369,(7262,9342)) is not in pool. Re-compute.\n",
      "Feature for (MD662,369,(7327,9277)) is not in pool. Re-compute.\n",
      "Feature for (MD662,369,(7327,9342)) is not in pool. Re-compute.\n",
      "Feature for (MD662,369,(7392,9277)) is not in pool. Re-compute.\n",
      "Feature for (MD662,369,(7392,9342)) is not in pool. Re-compute.\n",
      "Feature for (MD662,369,(7457,9212)) is not in pool. Re-compute.\n",
      "Feature for (MD662,369,(8107,8432)) is not in pool. Re-compute.\n",
      "Not using image_cache.\n",
      "Load image: 11.14 seconds.\n",
      "Extract patches: 11.22 seconds\n"
     ]
    },
    {
     "name": "stdout",
     "output_type": "stream",
     "text": [
      "(256, 1, 224, 224)\n"
     ]
    },
    {
     "name": "stderr",
     "output_type": "stream",
     "text": [
      "Compute features: 0.35 seconds\n"
     ]
    },
    {
     "name": "stdout",
     "output_type": "stream",
     "text": [
      "('MD662', 133)\n",
      "('MD662', 356)\n",
      "('MD661', 95)\n"
     ]
    },
    {
     "name": "stderr",
     "output_type": "stream",
     "text": [
      "Feature for (MD661,95,(8367,8887)) is not in pool. Re-compute.\n",
      "Feature for (MD661,95,(8367,8952)) is not in pool. Re-compute.\n",
      "Feature for (MD661,95,(8367,9017)) is not in pool. Re-compute.\n",
      "Feature for (MD661,95,(8432,8822)) is not in pool. Re-compute.\n",
      "Feature for (MD661,95,(8432,8887)) is not in pool. Re-compute.\n",
      "Feature for (MD661,95,(8432,8952)) is not in pool. Re-compute.\n",
      "Feature for (MD661,95,(8432,9017)) is not in pool. Re-compute.\n",
      "Feature for (MD661,95,(8432,9082)) is not in pool. Re-compute.\n",
      "Feature for (MD661,95,(8497,8822)) is not in pool. Re-compute.\n",
      "Feature for (MD661,95,(8497,8887)) is not in pool. Re-compute.\n",
      "Feature for (MD661,95,(8497,8952)) is not in pool. Re-compute.\n",
      "Feature for (MD661,95,(8497,9017)) is not in pool. Re-compute.\n",
      "Feature for (MD661,95,(8497,9082)) is not in pool. Re-compute.\n",
      "Feature for (MD661,95,(8562,8757)) is not in pool. Re-compute.\n",
      "Feature for (MD661,95,(8562,8822)) is not in pool. Re-compute.\n",
      "Feature for (MD661,95,(8562,8887)) is not in pool. Re-compute.\n",
      "Feature for (MD661,95,(8562,8952)) is not in pool. Re-compute.\n",
      "Feature for (MD661,95,(8562,9017)) is not in pool. Re-compute.\n",
      "Feature for (MD661,95,(8562,9082)) is not in pool. Re-compute.\n",
      "Feature for (MD661,95,(8562,9147)) is not in pool. Re-compute.\n",
      "Feature for (MD661,95,(8627,8757)) is not in pool. Re-compute.\n",
      "Feature for (MD661,95,(8627,8822)) is not in pool. Re-compute.\n",
      "Feature for (MD661,95,(8627,8887)) is not in pool. Re-compute.\n",
      "Feature for (MD661,95,(8627,8952)) is not in pool. Re-compute.\n",
      "Feature for (MD661,95,(8627,9017)) is not in pool. Re-compute.\n",
      "Feature for (MD661,95,(8627,9082)) is not in pool. Re-compute.\n",
      "Feature for (MD661,95,(8627,9147)) is not in pool. Re-compute.\n",
      "Feature for (MD661,95,(8627,9212)) is not in pool. Re-compute.\n",
      "Feature for (MD661,95,(8692,8822)) is not in pool. Re-compute.\n",
      "Feature for (MD661,95,(8692,8887)) is not in pool. Re-compute.\n",
      "Feature for (MD661,95,(8692,8952)) is not in pool. Re-compute.\n",
      "Feature for (MD661,95,(8692,9017)) is not in pool. Re-compute.\n",
      "Feature for (MD661,95,(8692,9082)) is not in pool. Re-compute.\n",
      "Feature for (MD661,95,(8692,9147)) is not in pool. Re-compute.\n",
      "Feature for (MD661,95,(8757,8887)) is not in pool. Re-compute.\n",
      "Feature for (MD661,95,(8757,8952)) is not in pool. Re-compute.\n",
      "Feature for (MD661,95,(8757,9017)) is not in pool. Re-compute.\n",
      "Feature for (MD661,95,(8757,9082)) is not in pool. Re-compute.\n",
      "Feature for (MD661,95,(8822,8887)) is not in pool. Re-compute.\n",
      "Feature for (MD661,95,(8822,8952)) is not in pool. Re-compute.\n",
      "Feature for (MD661,95,(8822,9017)) is not in pool. Re-compute.\n",
      "Feature for (MD661,95,(8822,9082)) is not in pool. Re-compute.\n",
      "Feature for (MD661,95,(8887,8952)) is not in pool. Re-compute.\n",
      "Feature for (MD661,95,(8887,9017)) is not in pool. Re-compute.\n",
      "Feature for (MD661,95,(8627,8757)) is not in pool. Re-compute.\n",
      "Feature for (MD661,95,(8627,8822)) is not in pool. Re-compute.\n",
      "Feature for (MD661,95,(8692,8822)) is not in pool. Re-compute.\n",
      "Feature for (MD661,95,(8692,8887)) is not in pool. Re-compute.\n",
      "Feature for (MD661,95,(8692,8952)) is not in pool. Re-compute.\n",
      "Feature for (MD661,95,(8757,8887)) is not in pool. Re-compute.\n",
      "Feature for (MD661,95,(8757,8952)) is not in pool. Re-compute.\n",
      "Feature for (MD661,95,(8757,9017)) is not in pool. Re-compute.\n",
      "Feature for (MD661,95,(8822,8887)) is not in pool. Re-compute.\n",
      "Feature for (MD661,95,(8822,8952)) is not in pool. Re-compute.\n",
      "Feature for (MD661,95,(8822,9017)) is not in pool. Re-compute.\n",
      "Feature for (MD661,95,(8887,8952)) is not in pool. Re-compute.\n",
      "Feature for (MD661,95,(8887,9017)) is not in pool. Re-compute.\n",
      "Feature for (MD661,95,(8887,9082)) is not in pool. Re-compute.\n",
      "Feature for (MD661,95,(8952,8952)) is not in pool. Re-compute.\n",
      "Feature for (MD661,95,(8952,9017)) is not in pool. Re-compute.\n",
      "Feature for (MD661,95,(8952,9082)) is not in pool. Re-compute.\n",
      "Feature for (MD661,95,(9017,9017)) is not in pool. Re-compute.\n",
      "Feature for (MD661,95,(9017,9082)) is not in pool. Re-compute.\n",
      "Feature for (MD661,95,(9082,9017)) is not in pool. Re-compute.\n",
      "Feature for (MD661,95,(9082,9082)) is not in pool. Re-compute.\n",
      "Feature for (MD661,95,(9082,9147)) is not in pool. Re-compute.\n",
      "Feature for (MD661,95,(9147,9082)) is not in pool. Re-compute.\n",
      "Not using image_cache.\n",
      "Load image: 15.16 seconds.\n",
      "Extract patches: 15.30 seconds\n"
     ]
    },
    {
     "name": "stdout",
     "output_type": "stream",
     "text": [
      "(256, 1, 224, 224)\n"
     ]
    },
    {
     "name": "stderr",
     "output_type": "stream",
     "text": [
      "Compute features: 0.38 seconds\n"
     ]
    },
    {
     "name": "stdout",
     "output_type": "stream",
     "text": [
      "('MD662', 363)\n"
     ]
    },
    {
     "name": "stderr",
     "output_type": "stream",
     "text": [
      "Feature for (MD662,363,(8172,9277)) is not in pool. Re-compute.\n",
      "Feature for (MD662,363,(8237,9212)) is not in pool. Re-compute.\n",
      "Feature for (MD662,363,(8237,9277)) is not in pool. Re-compute.\n",
      "Feature for (MD662,363,(8237,9342)) is not in pool. Re-compute.\n",
      "Feature for (MD662,363,(8302,9212)) is not in pool. Re-compute.\n",
      "Feature for (MD662,363,(8302,9277)) is not in pool. Re-compute.\n",
      "Feature for (MD662,363,(8367,9147)) is not in pool. Re-compute.\n",
      "Feature for (MD662,363,(8367,9212)) is not in pool. Re-compute.\n",
      "Feature for (MD662,363,(8367,9277)) is not in pool. Re-compute.\n",
      "Feature for (MD662,363,(8432,9082)) is not in pool. Re-compute.\n",
      "Feature for (MD662,363,(8432,9147)) is not in pool. Re-compute.\n",
      "Feature for (MD662,363,(8432,9212)) is not in pool. Re-compute.\n",
      "Feature for (MD662,363,(8432,9277)) is not in pool. Re-compute.\n",
      "Feature for (MD662,363,(8497,9017)) is not in pool. Re-compute.\n",
      "Feature for (MD662,363,(8497,9082)) is not in pool. Re-compute.\n",
      "Feature for (MD662,363,(8497,9147)) is not in pool. Re-compute.\n",
      "Feature for (MD662,363,(8497,9212)) is not in pool. Re-compute.\n",
      "Feature for (MD662,363,(8562,9017)) is not in pool. Re-compute.\n",
      "Feature for (MD662,363,(8562,9082)) is not in pool. Re-compute.\n",
      "Feature for (MD662,363,(8627,9017)) is not in pool. Re-compute.\n",
      "Not using image_cache.\n",
      "Load image: 14.21 seconds.\n",
      "Extract patches: 14.31 seconds\n"
     ]
    },
    {
     "name": "stdout",
     "output_type": "stream",
     "text": [
      "(256, 1, 224, 224)\n"
     ]
    },
    {
     "name": "stderr",
     "output_type": "stream",
     "text": [
      "Compute features: 0.36 seconds\n"
     ]
    },
    {
     "name": "stdout",
     "output_type": "stream",
     "text": [
      "('MD662', 121)\n",
      "('MD661', 346)\n"
     ]
    },
    {
     "name": "stderr",
     "output_type": "stream",
     "text": [
      "Feature for (MD661,346,(8757,9602)) is not in pool. Re-compute.\n",
      "Feature for (MD661,346,(8822,9537)) is not in pool. Re-compute.\n",
      "Feature for (MD661,346,(8822,9602)) is not in pool. Re-compute.\n",
      "Feature for (MD661,346,(8887,9537)) is not in pool. Re-compute.\n",
      "Feature for (MD661,346,(8887,9602)) is not in pool. Re-compute.\n",
      "Feature for (MD661,346,(8952,9472)) is not in pool. Re-compute.\n",
      "Feature for (MD661,346,(8952,9537)) is not in pool. Re-compute.\n",
      "Feature for (MD661,346,(8952,9602)) is not in pool. Re-compute.\n",
      "Not using image_cache.\n",
      "Load image: 15.97 seconds.\n",
      "Extract patches: 16.08 seconds\n"
     ]
    },
    {
     "name": "stdout",
     "output_type": "stream",
     "text": [
      "(256, 1, 224, 224)\n"
     ]
    },
    {
     "name": "stderr",
     "output_type": "stream",
     "text": [
      "Compute features: 0.36 seconds\n"
     ]
    },
    {
     "name": "stdout",
     "output_type": "stream",
     "text": [
      "('MD661', 118)\n",
      "('MD661', 343)\n"
     ]
    },
    {
     "name": "stderr",
     "output_type": "stream",
     "text": [
      "Feature for (MD661,343,(8952,9732)) is not in pool. Re-compute.\n",
      "Feature for (MD661,343,(9017,9667)) is not in pool. Re-compute.\n",
      "Feature for (MD661,343,(9017,9732)) is not in pool. Re-compute.\n",
      "Feature for (MD661,343,(9082,9667)) is not in pool. Re-compute.\n",
      "Feature for (MD661,343,(9082,9732)) is not in pool. Re-compute.\n",
      "Feature for (MD661,343,(9147,9602)) is not in pool. Re-compute.\n",
      "Feature for (MD661,343,(9147,9667)) is not in pool. Re-compute.\n",
      "Feature for (MD661,343,(9212,9602)) is not in pool. Re-compute.\n",
      "Feature for (MD661,343,(9212,9667)) is not in pool. Re-compute.\n",
      "Not using image_cache.\n",
      "Load image: 15.72 seconds.\n",
      "Extract patches: 15.81 seconds\n"
     ]
    },
    {
     "name": "stdout",
     "output_type": "stream",
     "text": [
      "(256, 1, 224, 224)\n"
     ]
    },
    {
     "name": "stderr",
     "output_type": "stream",
     "text": [
      "Compute features: 0.38 seconds\n"
     ]
    },
    {
     "name": "stdout",
     "output_type": "stream",
     "text": [
      "('MD661', 99)\n",
      "('MD662', 134)\n",
      "('MD662', 353)\n",
      "('MD662', 119)\n",
      "('MD662', 122)\n",
      "('MD661', 349)\n",
      "('MD661', 105)\n",
      "('MD661', 330)\n",
      "('MD661', 102)\n",
      "('MD661', 327)\n",
      "('MD662', 131)\n",
      "('MD662', 354)\n",
      "('MD662', 112)\n",
      "('MD661', 336)\n",
      "('MD661', 108)\n",
      "('MD661', 333)\n"
     ]
    },
    {
     "name": "stderr",
     "output_type": "stream",
     "text": [
      "Feature for (MD661,333,(7782,10382)) is not in pool. Re-compute.\n",
      "Not using image_cache.\n",
      "Load image: 15.89 seconds.\n",
      "Extract patches: 16.00 seconds\n"
     ]
    },
    {
     "name": "stdout",
     "output_type": "stream",
     "text": [
      "(256, 1, 224, 224)\n"
     ]
    },
    {
     "name": "stderr",
     "output_type": "stream",
     "text": [
      "Compute features: 0.36 seconds\n"
     ]
    },
    {
     "name": "stdout",
     "output_type": "stream",
     "text": [
      "('MD662', 367)\n"
     ]
    },
    {
     "name": "stderr",
     "output_type": "stream",
     "text": [
      "Feature for (MD662,367,(7197,9537)) is not in pool. Re-compute.\n",
      "Feature for (MD662,367,(7262,9537)) is not in pool. Re-compute.\n",
      "Feature for (MD662,367,(7262,9602)) is not in pool. Re-compute.\n",
      "Feature for (MD662,367,(7327,9472)) is not in pool. Re-compute.\n",
      "Feature for (MD662,367,(7327,9537)) is not in pool. Re-compute.\n",
      "Feature for (MD662,367,(7327,9602)) is not in pool. Re-compute.\n",
      "Feature for (MD662,367,(7392,9472)) is not in pool. Re-compute.\n",
      "Feature for (MD662,367,(7392,9537)) is not in pool. Re-compute.\n",
      "Feature for (MD662,367,(7457,9472)) is not in pool. Re-compute.\n",
      "Feature for (MD662,367,(7522,9472)) is not in pool. Re-compute.\n",
      "Feature for (MD662,367,(8172,8822)) is not in pool. Re-compute.\n",
      "Feature for (MD662,367,(8237,8757)) is not in pool. Re-compute.\n",
      "Feature for (MD662,367,(8237,8822)) is not in pool. Re-compute.\n",
      "Feature for (MD662,367,(8302,8757)) is not in pool. Re-compute.\n",
      "Feature for (MD662,367,(8302,8822)) is not in pool. Re-compute.\n",
      "Not using image_cache.\n",
      "Load image: 12.48 seconds.\n",
      "Extract patches: 12.60 seconds\n"
     ]
    },
    {
     "name": "stdout",
     "output_type": "stream",
     "text": [
      "(256, 1, 224, 224)\n"
     ]
    },
    {
     "name": "stderr",
     "output_type": "stream",
     "text": [
      "Compute features: 0.37 seconds\n"
     ]
    },
    {
     "name": "stdout",
     "output_type": "stream",
     "text": [
      "('MD662', 125)\n",
      "('MD662', 348)\n",
      "('MD661', 114)\n",
      "('MD661', 339)\n",
      "('MD661', 111)\n",
      "('MD662', 357)\n",
      "('MD661', 94)\n"
     ]
    },
    {
     "name": "stderr",
     "output_type": "stream",
     "text": [
      "Feature for (MD661,94,(8432,8822)) is not in pool. Re-compute.\n",
      "Feature for (MD661,94,(8497,8822)) is not in pool. Re-compute.\n",
      "Feature for (MD661,94,(8497,8887)) is not in pool. Re-compute.\n",
      "Feature for (MD661,94,(8497,8952)) is not in pool. Re-compute.\n",
      "Feature for (MD661,94,(8562,8822)) is not in pool. Re-compute.\n",
      "Feature for (MD661,94,(8562,8887)) is not in pool. Re-compute.\n",
      "Feature for (MD661,94,(8562,8952)) is not in pool. Re-compute.\n",
      "Feature for (MD661,94,(8562,9017)) is not in pool. Re-compute.\n",
      "Feature for (MD661,94,(8627,8822)) is not in pool. Re-compute.\n",
      "Feature for (MD661,94,(8627,8887)) is not in pool. Re-compute.\n",
      "Feature for (MD661,94,(8627,8952)) is not in pool. Re-compute.\n",
      "Feature for (MD661,94,(8627,9017)) is not in pool. Re-compute.\n",
      "Feature for (MD661,94,(8692,8822)) is not in pool. Re-compute.\n",
      "Feature for (MD661,94,(8692,8887)) is not in pool. Re-compute.\n",
      "Feature for (MD661,94,(8692,8952)) is not in pool. Re-compute.\n",
      "Feature for (MD661,94,(8692,9017)) is not in pool. Re-compute.\n",
      "Feature for (MD661,94,(8757,8887)) is not in pool. Re-compute.\n",
      "Feature for (MD661,94,(8757,8952)) is not in pool. Re-compute.\n",
      "Feature for (MD661,94,(8627,8757)) is not in pool. Re-compute.\n",
      "Feature for (MD661,94,(8692,8757)) is not in pool. Re-compute.\n",
      "Feature for (MD661,94,(8692,8822)) is not in pool. Re-compute.\n",
      "Feature for (MD661,94,(8757,8757)) is not in pool. Re-compute.\n",
      "Feature for (MD661,94,(8757,8822)) is not in pool. Re-compute.\n",
      "Feature for (MD661,94,(8757,8887)) is not in pool. Re-compute.\n",
      "Feature for (MD661,94,(8822,8822)) is not in pool. Re-compute.\n",
      "Feature for (MD661,94,(8822,8887)) is not in pool. Re-compute.\n",
      "Feature for (MD661,94,(8822,8952)) is not in pool. Re-compute.\n",
      "Feature for (MD661,94,(8822,9017)) is not in pool. Re-compute.\n",
      "Feature for (MD661,94,(8887,8822)) is not in pool. Re-compute.\n",
      "Feature for (MD661,94,(8887,8887)) is not in pool. Re-compute.\n",
      "Feature for (MD661,94,(8887,8952)) is not in pool. Re-compute.\n",
      "Feature for (MD661,94,(8887,9017)) is not in pool. Re-compute.\n",
      "Feature for (MD661,94,(8952,8887)) is not in pool. Re-compute.\n",
      "Feature for (MD661,94,(8952,8952)) is not in pool. Re-compute.\n",
      "Feature for (MD661,94,(8952,9017)) is not in pool. Re-compute.\n",
      "Feature for (MD661,94,(8952,9082)) is not in pool. Re-compute.\n",
      "Feature for (MD661,94,(9017,8952)) is not in pool. Re-compute.\n",
      "Feature for (MD661,94,(9017,9017)) is not in pool. Re-compute.\n",
      "Feature for (MD661,94,(9017,9082)) is not in pool. Re-compute.\n",
      "Feature for (MD661,94,(9082,8952)) is not in pool. Re-compute.\n",
      "Feature for (MD661,94,(9082,9017)) is not in pool. Re-compute.\n",
      "Feature for (MD661,94,(9082,9082)) is not in pool. Re-compute.\n",
      "Feature for (MD661,94,(9147,8952)) is not in pool. Re-compute.\n",
      "Feature for (MD661,94,(9147,9017)) is not in pool. Re-compute.\n",
      "Feature for (MD661,94,(9147,9082)) is not in pool. Re-compute.\n",
      "Feature for (MD661,94,(9212,9017)) is not in pool. Re-compute.\n",
      "Not using image_cache.\n",
      "Load image: 16.20 seconds.\n",
      "Extract patches: 16.34 seconds\n"
     ]
    },
    {
     "name": "stdout",
     "output_type": "stream",
     "text": [
      "(256, 1, 224, 224)\n"
     ]
    },
    {
     "name": "stderr",
     "output_type": "stream",
     "text": [
      "Compute features: 0.39 seconds\n"
     ]
    },
    {
     "name": "stdout",
     "output_type": "stream",
     "text": [
      "('MD662', 360)\n",
      "('MD661', 120)\n",
      "('MD662', 126)\n",
      "('MD661', 345)\n"
     ]
    },
    {
     "name": "stderr",
     "output_type": "stream",
     "text": [
      "Feature for (MD661,345,(8822,9667)) is not in pool. Re-compute.\n",
      "Feature for (MD661,345,(8887,9602)) is not in pool. Re-compute.\n",
      "Feature for (MD661,345,(8887,9667)) is not in pool. Re-compute.\n",
      "Feature for (MD661,345,(8952,9537)) is not in pool. Re-compute.\n",
      "Feature for (MD661,345,(8952,9602)) is not in pool. Re-compute.\n",
      "Feature for (MD661,345,(9017,9537)) is not in pool. Re-compute.\n",
      "Feature for (MD661,345,(9017,9602)) is not in pool. Re-compute.\n",
      "Feature for (MD661,345,(9082,9537)) is not in pool. Re-compute.\n",
      "Feature for (MD661,345,(9082,9602)) is not in pool. Re-compute.\n",
      "Not using image_cache.\n",
      "Load image: 15.02 seconds.\n",
      "Extract patches: 15.11 seconds\n"
     ]
    },
    {
     "name": "stdout",
     "output_type": "stream",
     "text": [
      "(256, 1, 224, 224)\n"
     ]
    },
    {
     "name": "stderr",
     "output_type": "stream",
     "text": [
      "Compute features: 0.37 seconds\n"
     ]
    },
    {
     "name": "stdout",
     "output_type": "stream",
     "text": [
      "('MD662', 345)\n",
      "('MD661', 117)\n",
      "('MD661', 342)\n"
     ]
    },
    {
     "name": "stderr",
     "output_type": "stream",
     "text": [
      "Feature for (MD661,342,(9017,9797)) is not in pool. Re-compute.\n",
      "Feature for (MD661,342,(9082,9732)) is not in pool. Re-compute.\n",
      "Feature for (MD661,342,(9147,9732)) is not in pool. Re-compute.\n",
      "Feature for (MD661,342,(9212,9667)) is not in pool. Re-compute.\n",
      "Not using image_cache.\n",
      "Load image: 16.65 seconds.\n",
      "Extract patches: 16.75 seconds\n"
     ]
    },
    {
     "name": "stdout",
     "output_type": "stream",
     "text": [
      "(256, 1, 224, 224)\n"
     ]
    },
    {
     "name": "stderr",
     "output_type": "stream",
     "text": [
      "Compute features: 0.40 seconds\n"
     ]
    },
    {
     "name": "stdout",
     "output_type": "stream",
     "text": [
      "('MD661', 98)\n",
      "('MD662', 135)\n",
      "('MD662', 358)\n",
      "('MD662', 116)\n",
      "('MD662', 123)\n",
      "('MD661', 348)\n"
     ]
    },
    {
     "name": "stderr",
     "output_type": "stream",
     "text": [
      "Feature for (MD661,348,(8627,9472)) is not in pool. Re-compute.\n",
      "Feature for (MD661,348,(8757,9407)) is not in pool. Re-compute.\n",
      "Not using image_cache.\n",
      "Load image: 15.78 seconds.\n",
      "Extract patches: 15.87 seconds\n"
     ]
    },
    {
     "name": "stdout",
     "output_type": "stream",
     "text": [
      "(256, 1, 224, 224)\n"
     ]
    },
    {
     "name": "stderr",
     "output_type": "stream",
     "text": [
      "Compute features: 0.38 seconds\n"
     ]
    },
    {
     "name": "stdout",
     "output_type": "stream",
     "text": [
      "('MD662', 346)\n",
      "('MD661', 104)\n",
      "('MD661', 329)\n",
      "('MD661', 101)\n",
      "('MD661', 326)\n",
      "('MD662', 128)\n",
      "('MD662', 355)\n",
      "('MD662', 113)\n",
      "('MD661', 107)\n",
      "('MD661', 332)\n",
      "('MD662', 364)\n"
     ]
    },
    {
     "name": "stderr",
     "output_type": "stream",
     "text": [
      "Feature for (MD662,364,(8107,9277)) is not in pool. Re-compute.\n",
      "Feature for (MD662,364,(8172,9212)) is not in pool. Re-compute.\n",
      "Feature for (MD662,364,(8172,9277)) is not in pool. Re-compute.\n",
      "Feature for (MD662,364,(8237,9212)) is not in pool. Re-compute.\n",
      "Feature for (MD662,364,(8237,9277)) is not in pool. Re-compute.\n",
      "Feature for (MD662,364,(8302,9277)) is not in pool. Re-compute.\n",
      "Not using image_cache.\n",
      "Load image: 12.60 seconds.\n",
      "Extract patches: 12.68 seconds\n"
     ]
    },
    {
     "name": "stdout",
     "output_type": "stream",
     "text": [
      "(256, 1, 224, 224)\n"
     ]
    },
    {
     "name": "stderr",
     "output_type": "stream",
     "text": [
      "Compute features: 0.35 seconds\n"
     ]
    },
    {
     "name": "stdout",
     "output_type": "stream",
     "text": [
      "('MD662', 114)\n",
      "('MD662', 349)\n",
      "('MD661', 113)\n",
      "('MD661', 338)\n",
      "('MD661', 110)\n",
      "('MD661', 335)\n",
      "('MD662', 361)\n"
     ]
    },
    {
     "name": "stderr",
     "output_type": "stream",
     "text": [
      "Feature for (MD662,361,(8367,9472)) is not in pool. Re-compute.\n",
      "Not using image_cache.\n",
      "Load image: 13.51 seconds.\n",
      "Extract patches: 13.59 seconds\n"
     ]
    },
    {
     "name": "stdout",
     "output_type": "stream",
     "text": [
      "(256, 1, 224, 224)\n"
     ]
    },
    {
     "name": "stderr",
     "output_type": "stream",
     "text": [
      "Compute features: 0.37 seconds\n"
     ]
    },
    {
     "name": "stdout",
     "output_type": "stream",
     "text": [
      "('MD662', 127)\n",
      "('MD661', 344)\n"
     ]
    },
    {
     "name": "stderr",
     "output_type": "stream",
     "text": [
      "Feature for (MD661,344,(8887,9732)) is not in pool. Re-compute.\n",
      "Feature for (MD661,344,(8952,9667)) is not in pool. Re-compute.\n",
      "Feature for (MD661,344,(9017,9602)) is not in pool. Re-compute.\n",
      "Feature for (MD661,344,(9017,9667)) is not in pool. Re-compute.\n",
      "Feature for (MD661,344,(9082,9537)) is not in pool. Re-compute.\n",
      "Feature for (MD661,344,(9082,9602)) is not in pool. Re-compute.\n",
      "Feature for (MD661,344,(9147,9602)) is not in pool. Re-compute.\n",
      "Not using image_cache.\n",
      "Load image: 16.53 seconds.\n",
      "Extract patches: 16.64 seconds\n"
     ]
    },
    {
     "name": "stdout",
     "output_type": "stream",
     "text": [
      "(256, 1, 224, 224)\n"
     ]
    },
    {
     "name": "stderr",
     "output_type": "stream",
     "text": [
      "Compute features: 0.35 seconds\n"
     ]
    },
    {
     "name": "stdout",
     "output_type": "stream",
     "text": [
      "('MD662', 350)\n",
      "('MD661', 116)\n",
      "('MD661', 341)\n",
      "('MD661', 97)\n"
     ]
    },
    {
     "name": "stderr",
     "output_type": "stream",
     "text": [
      "Feature for (MD661,97,(8237,9082)) is not in pool. Re-compute.\n",
      "Feature for (MD661,97,(8302,9147)) is not in pool. Re-compute.\n",
      "Feature for (MD661,97,(8367,9147)) is not in pool. Re-compute.\n",
      "Feature for (MD661,97,(8367,9212)) is not in pool. Re-compute.\n",
      "Feature for (MD661,97,(8367,9277)) is not in pool. Re-compute.\n",
      "Feature for (MD661,97,(8432,9212)) is not in pool. Re-compute.\n",
      "Feature for (MD661,97,(8432,9277)) is not in pool. Re-compute.\n",
      "Feature for (MD661,97,(9017,9212)) is not in pool. Re-compute.\n",
      "Feature for (MD661,97,(9082,9212)) is not in pool. Re-compute.\n",
      "Not using image_cache.\n",
      "Load image: 16.46 seconds.\n",
      "Extract patches: 16.56 seconds\n"
     ]
    },
    {
     "name": "stdout",
     "output_type": "stream",
     "text": [
      "(256, 1, 224, 224)\n"
     ]
    },
    {
     "name": "stderr",
     "output_type": "stream",
     "text": [
      "Compute features: 0.36 seconds\n"
     ]
    },
    {
     "name": "stdout",
     "output_type": "stream",
     "text": [
      "('MD662', 368)\n"
     ]
    },
    {
     "name": "stderr",
     "output_type": "stream",
     "text": [
      "Feature for (MD662,368,(7327,9407)) is not in pool. Re-compute.\n",
      "Feature for (MD662,368,(7327,9472)) is not in pool. Re-compute.\n",
      "Feature for (MD662,368,(7392,9342)) is not in pool. Re-compute.\n",
      "Feature for (MD662,368,(7392,9407)) is not in pool. Re-compute.\n",
      "Feature for (MD662,368,(7457,9342)) is not in pool. Re-compute.\n",
      "Not using image_cache.\n",
      "Load image: 13.16 seconds.\n",
      "Extract patches: 13.25 seconds\n"
     ]
    },
    {
     "name": "stdout",
     "output_type": "stream",
     "text": [
      "(256, 1, 224, 224)\n"
     ]
    },
    {
     "name": "stderr",
     "output_type": "stream",
     "text": [
      "Compute features: 0.36 seconds\n"
     ]
    },
    {
     "name": "stdout",
     "output_type": "stream",
     "text": [
      "('MD662', 132)\n",
      "('MD662', 359)\n",
      "('MD662', 362)\n"
     ]
    },
    {
     "name": "stderr",
     "output_type": "stream",
     "text": [
      "Feature for (MD662,362,(8302,9342)) is not in pool. Re-compute.\n",
      "Feature for (MD662,362,(8302,9407)) is not in pool. Re-compute.\n",
      "Feature for (MD662,362,(8367,9342)) is not in pool. Re-compute.\n",
      "Feature for (MD662,362,(8367,9407)) is not in pool. Re-compute.\n",
      "Feature for (MD662,362,(8432,9342)) is not in pool. Re-compute.\n",
      "Feature for (MD662,362,(8432,9407)) is not in pool. Re-compute.\n",
      "Not using image_cache.\n",
      "Load image: 14.48 seconds.\n",
      "Extract patches: 14.57 seconds\n"
     ]
    },
    {
     "name": "stdout",
     "output_type": "stream",
     "text": [
      "(256, 1, 224, 224)\n"
     ]
    },
    {
     "name": "stderr",
     "output_type": "stream",
     "text": [
      "Compute features: 0.36 seconds\n"
     ]
    },
    {
     "name": "stdout",
     "output_type": "stream",
     "text": [
      "('MD662', 117)\n",
      "('MD662', 120)\n",
      "('MD661', 347)\n"
     ]
    },
    {
     "name": "stderr",
     "output_type": "stream",
     "text": [
      "Feature for (MD661,347,(8822,9472)) is not in pool. Re-compute.\n",
      "Not using image_cache.\n",
      "Load image: 15.46 seconds.\n",
      "Extract patches: 15.56 seconds\n"
     ]
    },
    {
     "name": "stdout",
     "output_type": "stream",
     "text": [
      "(256, 1, 224, 224)\n"
     ]
    },
    {
     "name": "stderr",
     "output_type": "stream",
     "text": [
      "Compute features: 0.36 seconds\n"
     ]
    },
    {
     "name": "stdout",
     "output_type": "stream",
     "text": [
      "('MD662', 347)\n",
      "('MD661', 119)\n",
      "('MD662', 111)\n",
      "('MD661', 328)\n",
      "('MD661', 100)\n",
      "('MD661', 325)\n",
      "('MD662', 129)\n",
      "('MD662', 352)\n",
      "('MD662', 118)\n",
      "('MD661', 106)\n"
     ]
    },
    {
     "name": "stderr",
     "output_type": "stream",
     "text": [
      "Feature for (MD661,106,(10122,8757)) is not in pool. Re-compute.\n",
      "Not using image_cache.\n",
      "Load image: 14.94 seconds.\n",
      "Extract patches: 15.03 seconds\n"
     ]
    },
    {
     "name": "stdout",
     "output_type": "stream",
     "text": [
      "(256, 1, 224, 224)\n"
     ]
    },
    {
     "name": "stderr",
     "output_type": "stream",
     "text": [
      "Compute features: 0.38 seconds\n"
     ]
    },
    {
     "name": "stdout",
     "output_type": "stream",
     "text": [
      "('MD661', 331)\n",
      "('MD661', 103)\n",
      "('MD662', 130)\n",
      "('MD662', 365)\n"
     ]
    },
    {
     "name": "stderr",
     "output_type": "stream",
     "text": [
      "Feature for (MD662,365,(8302,9082)) is not in pool. Re-compute.\n",
      "Feature for (MD662,365,(8367,9017)) is not in pool. Re-compute.\n",
      "Feature for (MD662,365,(8367,9082)) is not in pool. Re-compute.\n",
      "Feature for (MD662,365,(8432,9017)) is not in pool. Re-compute.\n",
      "Feature for (MD662,365,(8497,8887)) is not in pool. Re-compute.\n",
      "Not using image_cache.\n",
      "Load image: 12.13 seconds.\n",
      "Extract patches: 12.21 seconds\n"
     ]
    },
    {
     "name": "stdout",
     "output_type": "stream",
     "text": [
      "(256, 1, 224, 224)\n"
     ]
    },
    {
     "name": "stderr",
     "output_type": "stream",
     "text": [
      "Compute features: 0.37 seconds\n"
     ]
    },
    {
     "name": "stdout",
     "output_type": "stream",
     "text": [
      "('MD662', 115)\n",
      "('MD661', 112)\n",
      "('MD661', 337)\n",
      "('MD661', 109)\n",
      "('MD661', 334)\n",
      "('MD662', 366)\n"
     ]
    },
    {
     "name": "stderr",
     "output_type": "stream",
     "text": [
      "Feature for (MD662,366,(7327,9667)) is not in pool. Re-compute.\n",
      "Feature for (MD662,366,(7392,9667)) is not in pool. Re-compute.\n",
      "Feature for (MD662,366,(7457,9602)) is not in pool. Re-compute.\n",
      "Feature for (MD662,366,(7522,9472)) is not in pool. Re-compute.\n",
      "Feature for (MD662,366,(7522,9537)) is not in pool. Re-compute.\n",
      "Feature for (MD662,366,(7522,9602)) is not in pool. Re-compute.\n",
      "Feature for (MD662,366,(8237,8952)) is not in pool. Re-compute.\n",
      "Feature for (MD662,366,(8302,8887)) is not in pool. Re-compute.\n",
      "Feature for (MD662,366,(8302,8952)) is not in pool. Re-compute.\n",
      "Feature for (MD662,366,(8302,9017)) is not in pool. Re-compute.\n",
      "Feature for (MD662,366,(8367,8822)) is not in pool. Re-compute.\n",
      "Feature for (MD662,366,(8367,8887)) is not in pool. Re-compute.\n",
      "Feature for (MD662,366,(8367,8952)) is not in pool. Re-compute.\n",
      "Feature for (MD662,366,(8432,8757)) is not in pool. Re-compute.\n",
      "Feature for (MD662,366,(8432,8822)) is not in pool. Re-compute.\n",
      "Feature for (MD662,366,(8432,8887)) is not in pool. Re-compute.\n",
      "Not using image_cache.\n",
      "Load image: 11.99 seconds.\n",
      "Extract patches: 12.09 seconds\n"
     ]
    },
    {
     "name": "stdout",
     "output_type": "stream",
     "text": [
      "(256, 1, 224, 224)\n"
     ]
    },
    {
     "name": "stderr",
     "output_type": "stream",
     "text": [
      "Compute features: 0.37 seconds\n"
     ]
    },
    {
     "name": "stdout",
     "output_type": "stream",
     "text": [
      "('MD662', 124)\n",
      "('MD662', 351)\n",
      "('MD661', 115)\n",
      "Training: 15000 positive, 15000 negative\n"
     ]
    },
    {
     "name": "stderr",
     "output_type": "stream",
     "text": [
      "Fitting classifier: 20.81 seconds\n"
     ]
    },
    {
     "name": "stdout",
     "output_type": "stream",
     "text": [
      "aws s3 cp \"/media/yuncong/BstemAtlasData/CSHL_classifiers/setting_999/classifiers/VCA_clf_setting_999.dump\" \"s3://mousebrainatlas-data/CSHL_classifiers/setting_999/classifiers/VCA_clf_setting_999.dump\"\n",
      "# positive train = 7031\n",
      "# negative train = 51692\n",
      "('MD662', 355)\n",
      "('MD661', 340)\n",
      "('MD662', 120)\n",
      "('MD661', 96)\n"
     ]
    },
    {
     "name": "stderr",
     "output_type": "stream",
     "text": [
      "Feature for (MD661,96,(8237,9147)) is not in pool. Re-compute.\n",
      "Feature for (MD661,96,(8237,9212)) is not in pool. Re-compute.\n",
      "Feature for (MD661,96,(8302,9147)) is not in pool. Re-compute.\n",
      "Feature for (MD661,96,(8302,9212)) is not in pool. Re-compute.\n",
      "Feature for (MD661,96,(8302,9277)) is not in pool. Re-compute.\n",
      "Feature for (MD661,96,(8367,9017)) is not in pool. Re-compute.\n",
      "Feature for (MD661,96,(8367,9082)) is not in pool. Re-compute.\n",
      "Feature for (MD661,96,(8367,9147)) is not in pool. Re-compute.\n",
      "Feature for (MD661,96,(8367,9212)) is not in pool. Re-compute.\n",
      "Feature for (MD661,96,(8367,9277)) is not in pool. Re-compute.\n",
      "Feature for (MD661,96,(8367,9342)) is not in pool. Re-compute.\n",
      "Feature for (MD661,96,(8432,9017)) is not in pool. Re-compute.\n",
      "Feature for (MD661,96,(8432,9082)) is not in pool. Re-compute.\n",
      "Feature for (MD661,96,(8432,9147)) is not in pool. Re-compute.\n",
      "Feature for (MD661,96,(8432,9212)) is not in pool. Re-compute.\n",
      "Feature for (MD661,96,(8432,9277)) is not in pool. Re-compute.\n",
      "Feature for (MD661,96,(8432,9342)) is not in pool. Re-compute.\n",
      "Feature for (MD661,96,(8432,9407)) is not in pool. Re-compute.\n",
      "Feature for (MD661,96,(8497,8952)) is not in pool. Re-compute.\n",
      "Feature for (MD661,96,(8497,9017)) is not in pool. Re-compute.\n",
      "Feature for (MD661,96,(8497,9082)) is not in pool. Re-compute.\n",
      "Feature for (MD661,96,(8497,9147)) is not in pool. Re-compute.\n",
      "Feature for (MD661,96,(8497,9212)) is not in pool. Re-compute.\n",
      "Feature for (MD661,96,(8497,9277)) is not in pool. Re-compute.\n",
      "Feature for (MD661,96,(8497,9342)) is not in pool. Re-compute.\n",
      "Feature for (MD661,96,(8562,8887)) is not in pool. Re-compute.\n",
      "Feature for (MD661,96,(8562,8952)) is not in pool. Re-compute.\n",
      "Feature for (MD661,96,(8562,9017)) is not in pool. Re-compute.\n",
      "Feature for (MD661,96,(8562,9082)) is not in pool. Re-compute.\n",
      "Feature for (MD661,96,(8562,9147)) is not in pool. Re-compute.\n",
      "Feature for (MD661,96,(8562,9212)) is not in pool. Re-compute.\n",
      "Feature for (MD661,96,(8562,9537)) is not in pool. Re-compute.\n",
      "Feature for (MD661,96,(8627,8887)) is not in pool. Re-compute.\n",
      "Feature for (MD661,96,(8627,8952)) is not in pool. Re-compute.\n",
      "Feature for (MD661,96,(8627,9017)) is not in pool. Re-compute.\n",
      "Feature for (MD661,96,(8627,9537)) is not in pool. Re-compute.\n",
      "Feature for (MD661,96,(8692,8952)) is not in pool. Re-compute.\n",
      "Feature for (MD661,96,(8692,9472)) is not in pool. Re-compute.\n",
      "Feature for (MD661,96,(8692,9537)) is not in pool. Re-compute.\n",
      "Feature for (MD661,96,(8757,9407)) is not in pool. Re-compute.\n",
      "Feature for (MD661,96,(8757,9472)) is not in pool. Re-compute.\n",
      "Feature for (MD661,96,(8757,9537)) is not in pool. Re-compute.\n",
      "Feature for (MD661,96,(8822,9407)) is not in pool. Re-compute.\n",
      "Feature for (MD661,96,(8822,9472)) is not in pool. Re-compute.\n",
      "Feature for (MD661,96,(8822,9537)) is not in pool. Re-compute.\n",
      "Feature for (MD661,96,(8887,9212)) is not in pool. Re-compute.\n",
      "Feature for (MD661,96,(8887,9277)) is not in pool. Re-compute.\n",
      "Feature for (MD661,96,(8887,9342)) is not in pool. Re-compute.\n",
      "Feature for (MD661,96,(8887,9407)) is not in pool. Re-compute.\n",
      "Feature for (MD661,96,(8887,9472)) is not in pool. Re-compute.\n",
      "Feature for (MD661,96,(8952,9147)) is not in pool. Re-compute.\n",
      "Feature for (MD661,96,(8952,9212)) is not in pool. Re-compute.\n",
      "Feature for (MD661,96,(8952,9277)) is not in pool. Re-compute.\n",
      "Feature for (MD661,96,(8952,9342)) is not in pool. Re-compute.\n",
      "Feature for (MD661,96,(8952,9407)) is not in pool. Re-compute.\n",
      "Feature for (MD661,96,(9017,9147)) is not in pool. Re-compute.\n",
      "Feature for (MD661,96,(9017,9212)) is not in pool. Re-compute.\n",
      "Feature for (MD661,96,(9017,9277)) is not in pool. Re-compute.\n",
      "Feature for (MD661,96,(9017,9342)) is not in pool. Re-compute.\n",
      "Feature for (MD661,96,(9082,9212)) is not in pool. Re-compute.\n",
      "Feature for (MD661,96,(9082,9277)) is not in pool. Re-compute.\n",
      "Feature for (MD661,96,(9147,9212)) is not in pool. Re-compute.\n",
      "Feature for (MD661,96,(9147,9277)) is not in pool. Re-compute.\n",
      "Feature for (MD661,96,(9212,9212)) is not in pool. Re-compute.\n",
      "Feature for (MD661,96,(9472,9017)) is not in pool. Re-compute.\n",
      "Feature for (MD661,96,(9537,8887)) is not in pool. Re-compute.\n",
      "Feature for (MD661,96,(9537,8952)) is not in pool. Re-compute.\n",
      "Feature for (MD661,96,(9537,9017)) is not in pool. Re-compute.\n",
      "Feature for (MD661,96,(9602,8887)) is not in pool. Re-compute.\n",
      "Feature for (MD661,96,(9602,8952)) is not in pool. Re-compute.\n",
      "Feature for (MD661,96,(9667,8887)) is not in pool. Re-compute.\n",
      "Feature for (MD661,96,(9667,8952)) is not in pool. Re-compute.\n",
      "Not using image_cache.\n",
      "Load image: 14.56 seconds.\n",
      "Extract patches: 14.73 seconds\n"
     ]
    },
    {
     "name": "stdout",
     "output_type": "stream",
     "text": [
      "(256, 1, 224, 224)\n"
     ]
    },
    {
     "name": "stderr",
     "output_type": "stream",
     "text": [
      "Compute features: 0.38 seconds\n"
     ]
    },
    {
     "name": "stdout",
     "output_type": "stream",
     "text": [
      "('MD662', 356)\n",
      "('MD661', 100)\n"
     ]
    },
    {
     "name": "stderr",
     "output_type": "stream",
     "text": [
      "Feature for (MD661,100,(8757,9732)) is not in pool. Re-compute.\n",
      "Not using image_cache.\n",
      "Load image: 14.44 seconds.\n",
      "Extract patches: 14.53 seconds\n"
     ]
    },
    {
     "name": "stdout",
     "output_type": "stream",
     "text": [
      "(256, 1, 224, 224)\n"
     ]
    },
    {
     "name": "stderr",
     "output_type": "stream",
     "text": [
      "Compute features: 0.35 seconds\n"
     ]
    },
    {
     "name": "stdout",
     "output_type": "stream",
     "text": [
      "('MD661', 95)\n"
     ]
    },
    {
     "name": "stderr",
     "output_type": "stream",
     "text": [
      "Feature for (MD661,95,(8237,8952)) is not in pool. Re-compute.\n",
      "Feature for (MD661,95,(8237,9017)) is not in pool. Re-compute.\n",
      "Feature for (MD661,95,(8302,8952)) is not in pool. Re-compute.\n",
      "Feature for (MD661,95,(8302,9017)) is not in pool. Re-compute.\n",
      "Feature for (MD661,95,(8302,9082)) is not in pool. Re-compute.\n",
      "Feature for (MD661,95,(8302,9147)) is not in pool. Re-compute.\n",
      "Feature for (MD661,95,(8367,8887)) is not in pool. Re-compute.\n",
      "Feature for (MD661,95,(8367,8952)) is not in pool. Re-compute.\n",
      "Feature for (MD661,95,(8367,9017)) is not in pool. Re-compute.\n",
      "Feature for (MD661,95,(8367,9082)) is not in pool. Re-compute.\n",
      "Feature for (MD661,95,(8367,9147)) is not in pool. Re-compute.\n",
      "Feature for (MD661,95,(8367,9212)) is not in pool. Re-compute.\n",
      "Feature for (MD661,95,(8367,9277)) is not in pool. Re-compute.\n",
      "Feature for (MD661,95,(8432,8822)) is not in pool. Re-compute.\n",
      "Feature for (MD661,95,(8432,8887)) is not in pool. Re-compute.\n",
      "Feature for (MD661,95,(8432,8952)) is not in pool. Re-compute.\n",
      "Feature for (MD661,95,(8432,9017)) is not in pool. Re-compute.\n",
      "Feature for (MD661,95,(8432,9082)) is not in pool. Re-compute.\n",
      "Feature for (MD661,95,(8432,9147)) is not in pool. Re-compute.\n",
      "Feature for (MD661,95,(8432,9212)) is not in pool. Re-compute.\n",
      "Feature for (MD661,95,(8432,9277)) is not in pool. Re-compute.\n",
      "Feature for (MD661,95,(8432,9342)) is not in pool. Re-compute.\n",
      "Feature for (MD661,95,(8497,8822)) is not in pool. Re-compute.\n",
      "Feature for (MD661,95,(8497,8887)) is not in pool. Re-compute.\n",
      "Feature for (MD661,95,(8497,8952)) is not in pool. Re-compute.\n",
      "Feature for (MD661,95,(8497,9017)) is not in pool. Re-compute.\n",
      "Feature for (MD661,95,(8497,9082)) is not in pool. Re-compute.\n",
      "Feature for (MD661,95,(8497,9147)) is not in pool. Re-compute.\n",
      "Feature for (MD661,95,(8497,9212)) is not in pool. Re-compute.\n",
      "Feature for (MD661,95,(8497,9277)) is not in pool. Re-compute.\n",
      "Feature for (MD661,95,(8497,9342)) is not in pool. Re-compute.\n",
      "Feature for (MD661,95,(8497,9407)) is not in pool. Re-compute.\n",
      "Feature for (MD661,95,(8562,8757)) is not in pool. Re-compute.\n",
      "Feature for (MD661,95,(8562,8822)) is not in pool. Re-compute.\n",
      "Feature for (MD661,95,(8562,8887)) is not in pool. Re-compute.\n",
      "Feature for (MD661,95,(8562,8952)) is not in pool. Re-compute.\n",
      "Feature for (MD661,95,(8562,9017)) is not in pool. Re-compute.\n",
      "Feature for (MD661,95,(8562,9082)) is not in pool. Re-compute.\n",
      "Feature for (MD661,95,(8562,9147)) is not in pool. Re-compute.\n",
      "Feature for (MD661,95,(8562,9212)) is not in pool. Re-compute.\n",
      "Feature for (MD661,95,(8562,9277)) is not in pool. Re-compute.\n",
      "Feature for (MD661,95,(8562,9342)) is not in pool. Re-compute.\n",
      "Feature for (MD661,95,(8562,9407)) is not in pool. Re-compute.\n",
      "Feature for (MD661,95,(8627,8757)) is not in pool. Re-compute.\n",
      "Feature for (MD661,95,(8627,8822)) is not in pool. Re-compute.\n",
      "Feature for (MD661,95,(8627,8887)) is not in pool. Re-compute.\n",
      "Feature for (MD661,95,(8627,8952)) is not in pool. Re-compute.\n",
      "Feature for (MD661,95,(8627,9017)) is not in pool. Re-compute.\n",
      "Feature for (MD661,95,(8627,9082)) is not in pool. Re-compute.\n",
      "Feature for (MD661,95,(8627,9147)) is not in pool. Re-compute.\n",
      "Feature for (MD661,95,(8627,9212)) is not in pool. Re-compute.\n",
      "Feature for (MD661,95,(8627,9277)) is not in pool. Re-compute.\n",
      "Feature for (MD661,95,(8627,9342)) is not in pool. Re-compute.\n",
      "Feature for (MD661,95,(8627,9407)) is not in pool. Re-compute.\n",
      "Feature for (MD661,95,(8627,9472)) is not in pool. Re-compute.\n",
      "Feature for (MD661,95,(8692,8822)) is not in pool. Re-compute.\n",
      "Feature for (MD661,95,(8692,8887)) is not in pool. Re-compute.\n",
      "Feature for (MD661,95,(8692,8952)) is not in pool. Re-compute.\n",
      "Feature for (MD661,95,(8692,9017)) is not in pool. Re-compute.\n",
      "Feature for (MD661,95,(8692,9082)) is not in pool. Re-compute.\n",
      "Feature for (MD661,95,(8692,9147)) is not in pool. Re-compute.\n",
      "Feature for (MD661,95,(8692,9212)) is not in pool. Re-compute.\n",
      "Feature for (MD661,95,(8692,9277)) is not in pool. Re-compute.\n",
      "Feature for (MD661,95,(8692,9342)) is not in pool. Re-compute.\n",
      "Feature for (MD661,95,(8692,9407)) is not in pool. Re-compute.\n",
      "Feature for (MD661,95,(8692,9472)) is not in pool. Re-compute.\n",
      "Feature for (MD661,95,(8757,8887)) is not in pool. Re-compute.\n",
      "Feature for (MD661,95,(8757,8952)) is not in pool. Re-compute.\n",
      "Feature for (MD661,95,(8757,9017)) is not in pool. Re-compute.\n",
      "Feature for (MD661,95,(8757,9082)) is not in pool. Re-compute.\n",
      "Feature for (MD661,95,(8757,9147)) is not in pool. Re-compute.\n",
      "Feature for (MD661,95,(8757,9212)) is not in pool. Re-compute.\n",
      "Feature for (MD661,95,(8757,9277)) is not in pool. Re-compute.\n",
      "Feature for (MD661,95,(8757,9342)) is not in pool. Re-compute.\n",
      "Feature for (MD661,95,(8757,9407)) is not in pool. Re-compute.\n",
      "Feature for (MD661,95,(8757,9472)) is not in pool. Re-compute.\n",
      "Feature for (MD661,95,(8822,8887)) is not in pool. Re-compute.\n",
      "Feature for (MD661,95,(8822,8952)) is not in pool. Re-compute.\n",
      "Feature for (MD661,95,(8822,9017)) is not in pool. Re-compute.\n",
      "Feature for (MD661,95,(8822,9082)) is not in pool. Re-compute.\n",
      "Feature for (MD661,95,(8822,9147)) is not in pool. Re-compute.\n",
      "Feature for (MD661,95,(8822,9212)) is not in pool. Re-compute.\n",
      "Feature for (MD661,95,(8822,9277)) is not in pool. Re-compute.\n",
      "Feature for (MD661,95,(8822,9342)) is not in pool. Re-compute.\n",
      "Feature for (MD661,95,(8822,9407)) is not in pool. Re-compute.\n",
      "Feature for (MD661,95,(8822,9472)) is not in pool. Re-compute.\n",
      "Feature for (MD661,95,(8887,8952)) is not in pool. Re-compute.\n",
      "Feature for (MD661,95,(8887,9017)) is not in pool. Re-compute.\n",
      "Feature for (MD661,95,(8887,9082)) is not in pool. Re-compute.\n",
      "Feature for (MD661,95,(8887,9147)) is not in pool. Re-compute.\n",
      "Feature for (MD661,95,(8887,9212)) is not in pool. Re-compute.\n",
      "Feature for (MD661,95,(8887,9277)) is not in pool. Re-compute.\n",
      "Feature for (MD661,95,(8887,9342)) is not in pool. Re-compute.\n",
      "Feature for (MD661,95,(8887,9407)) is not in pool. Re-compute.\n",
      "Feature for (MD661,95,(8952,8952)) is not in pool. Re-compute.\n",
      "Feature for (MD661,95,(8952,9017)) is not in pool. Re-compute.\n",
      "Feature for (MD661,95,(8952,9082)) is not in pool. Re-compute.\n",
      "Feature for (MD661,95,(8952,9147)) is not in pool. Re-compute.\n",
      "Feature for (MD661,95,(8952,9212)) is not in pool. Re-compute.\n",
      "Feature for (MD661,95,(8952,9277)) is not in pool. Re-compute.\n",
      "Feature for (MD661,95,(8952,9342)) is not in pool. Re-compute.\n",
      "Feature for (MD661,95,(9017,9017)) is not in pool. Re-compute.\n",
      "Feature for (MD661,95,(9017,9082)) is not in pool. Re-compute.\n",
      "Feature for (MD661,95,(9017,9147)) is not in pool. Re-compute.\n",
      "Feature for (MD661,95,(9017,9212)) is not in pool. Re-compute.\n",
      "Feature for (MD661,95,(9017,9277)) is not in pool. Re-compute.\n",
      "Feature for (MD661,95,(9082,9017)) is not in pool. Re-compute.\n",
      "Feature for (MD661,95,(9082,9082)) is not in pool. Re-compute.\n",
      "Feature for (MD661,95,(9082,9147)) is not in pool. Re-compute.\n",
      "Feature for (MD661,95,(9082,9212)) is not in pool. Re-compute.\n",
      "Feature for (MD661,95,(9082,9277)) is not in pool. Re-compute.\n",
      "Feature for (MD661,95,(9147,9082)) is not in pool. Re-compute.\n",
      "Feature for (MD661,95,(9147,9147)) is not in pool. Re-compute.\n",
      "Feature for (MD661,95,(9147,9212)) is not in pool. Re-compute.\n",
      "Feature for (MD661,95,(9212,9147)) is not in pool. Re-compute.\n",
      "Feature for (MD661,95,(9277,9147)) is not in pool. Re-compute.\n",
      "Feature for (MD661,95,(9342,9082)) is not in pool. Re-compute.\n",
      "Feature for (MD661,95,(9407,9082)) is not in pool. Re-compute.\n",
      "Feature for (MD661,95,(9472,8887)) is not in pool. Re-compute.\n",
      "Feature for (MD661,95,(9472,8952)) is not in pool. Re-compute.\n",
      "Feature for (MD661,95,(9472,9017)) is not in pool. Re-compute.\n",
      "Feature for (MD661,95,(9537,8822)) is not in pool. Re-compute.\n",
      "Feature for (MD661,95,(9537,8887)) is not in pool. Re-compute.\n",
      "Not using image_cache.\n",
      "Load image: 15.23 seconds.\n",
      "Extract patches: 15.44 seconds\n"
     ]
    },
    {
     "name": "stdout",
     "output_type": "stream",
     "text": [
      "(256, 1, 224, 224)\n"
     ]
    },
    {
     "name": "stderr",
     "output_type": "stream",
     "text": [
      "Compute features: 0.39 seconds\n"
     ]
    },
    {
     "name": "stdout",
     "output_type": "stream",
     "text": [
      "('MD662', 357)\n",
      "('MD662', 125)\n",
      "('MD661', 107)\n",
      "('MD662', 363)\n",
      "('MD662', 348)\n",
      "('MD661', 332)\n",
      "('MD662', 129)\n",
      "('MD661', 339)\n",
      "('MD662', 121)\n",
      "('MD661', 111)\n",
      "('MD661', 346)\n"
     ]
    },
    {
     "name": "stderr",
     "output_type": "stream",
     "text": [
      "Feature for (MD661,346,(8497,9927)) is not in pool. Re-compute.\n",
      "Feature for (MD661,346,(8497,9992)) is not in pool. Re-compute.\n",
      "Feature for (MD661,346,(8497,10057)) is not in pool. Re-compute.\n",
      "Feature for (MD661,346,(8562,9862)) is not in pool. Re-compute.\n",
      "Feature for (MD661,346,(8562,9927)) is not in pool. Re-compute.\n",
      "Feature for (MD661,346,(8562,9992)) is not in pool. Re-compute.\n",
      "Feature for (MD661,346,(8562,10057)) is not in pool. Re-compute.\n",
      "Feature for (MD661,346,(8627,9797)) is not in pool. Re-compute.\n",
      "Feature for (MD661,346,(8627,9862)) is not in pool. Re-compute.\n",
      "Feature for (MD661,346,(8627,9927)) is not in pool. Re-compute.\n",
      "Feature for (MD661,346,(8627,9992)) is not in pool. Re-compute.\n",
      "Feature for (MD661,346,(8627,10057)) is not in pool. Re-compute.\n",
      "Not using image_cache.\n",
      "Load image: 15.93 seconds.\n",
      "Extract patches: 16.04 seconds\n"
     ]
    },
    {
     "name": "stdout",
     "output_type": "stream",
     "text": [
      "(256, 1, 224, 224)\n"
     ]
    },
    {
     "name": "stderr",
     "output_type": "stream",
     "text": [
      "Compute features: 0.36 seconds\n"
     ]
    },
    {
     "name": "stdout",
     "output_type": "stream",
     "text": [
      "('MD662', 118)\n",
      "('MD661', 343)\n"
     ]
    },
    {
     "name": "stderr",
     "output_type": "stream",
     "text": [
      "Feature for (MD661,343,(8822,10057)) is not in pool. Re-compute.\n",
      "Not using image_cache.\n",
      "Load image: 15.47 seconds.\n",
      "Extract patches: 15.57 seconds\n"
     ]
    },
    {
     "name": "stdout",
     "output_type": "stream",
     "text": [
      "(256, 1, 224, 224)\n"
     ]
    },
    {
     "name": "stderr",
     "output_type": "stream",
     "text": [
      "Compute features: 0.38 seconds\n"
     ]
    },
    {
     "name": "stdout",
     "output_type": "stream",
     "text": [
      "('MD662', 130)\n",
      "('MD661', 99)\n"
     ]
    },
    {
     "name": "stderr",
     "output_type": "stream",
     "text": [
      "Feature for (MD661,99,(8757,9732)) is not in pool. Re-compute.\n",
      "Not using image_cache.\n",
      "Load image: 15.09 seconds.\n",
      "Extract patches: 15.18 seconds\n"
     ]
    },
    {
     "name": "stdout",
     "output_type": "stream",
     "text": [
      "(256, 1, 224, 224)\n"
     ]
    },
    {
     "name": "stderr",
     "output_type": "stream",
     "text": [
      "Compute features: 0.35 seconds\n"
     ]
    },
    {
     "name": "stdout",
     "output_type": "stream",
     "text": [
      "('MD661', 94)\n"
     ]
    },
    {
     "name": "stderr",
     "output_type": "stream",
     "text": [
      "Feature for (MD661,94,(8237,8887)) is not in pool. Re-compute.\n",
      "Feature for (MD661,94,(8237,8952)) is not in pool. Re-compute.\n",
      "Feature for (MD661,94,(8302,8887)) is not in pool. Re-compute.\n",
      "Feature for (MD661,94,(8302,8952)) is not in pool. Re-compute.\n",
      "Feature for (MD661,94,(8302,9017)) is not in pool. Re-compute.\n",
      "Feature for (MD661,94,(8367,8822)) is not in pool. Re-compute.\n",
      "Feature for (MD661,94,(8367,8887)) is not in pool. Re-compute.\n",
      "Feature for (MD661,94,(8367,8952)) is not in pool. Re-compute.\n",
      "Feature for (MD661,94,(8367,9017)) is not in pool. Re-compute.\n",
      "Feature for (MD661,94,(8367,9082)) is not in pool. Re-compute.\n",
      "Feature for (MD661,94,(8367,9147)) is not in pool. Re-compute.\n",
      "Feature for (MD661,94,(8432,8822)) is not in pool. Re-compute.\n",
      "Feature for (MD661,94,(8432,8887)) is not in pool. Re-compute.\n",
      "Feature for (MD661,94,(8432,8952)) is not in pool. Re-compute.\n",
      "Feature for (MD661,94,(8432,9017)) is not in pool. Re-compute.\n",
      "Feature for (MD661,94,(8432,9082)) is not in pool. Re-compute.\n",
      "Feature for (MD661,94,(8432,9147)) is not in pool. Re-compute.\n",
      "Feature for (MD661,94,(8432,9212)) is not in pool. Re-compute.\n",
      "Feature for (MD661,94,(8497,8757)) is not in pool. Re-compute.\n",
      "Feature for (MD661,94,(8497,8822)) is not in pool. Re-compute.\n",
      "Feature for (MD661,94,(8497,8887)) is not in pool. Re-compute.\n",
      "Feature for (MD661,94,(8497,8952)) is not in pool. Re-compute.\n",
      "Feature for (MD661,94,(8497,9017)) is not in pool. Re-compute.\n",
      "Feature for (MD661,94,(8497,9082)) is not in pool. Re-compute.\n",
      "Feature for (MD661,94,(8497,9147)) is not in pool. Re-compute.\n",
      "Feature for (MD661,94,(8497,9212)) is not in pool. Re-compute.\n",
      "Feature for (MD661,94,(8562,8757)) is not in pool. Re-compute.\n",
      "Feature for (MD661,94,(8562,8822)) is not in pool. Re-compute.\n",
      "Feature for (MD661,94,(8562,8887)) is not in pool. Re-compute.\n",
      "Feature for (MD661,94,(8562,8952)) is not in pool. Re-compute.\n",
      "Feature for (MD661,94,(8562,9017)) is not in pool. Re-compute.\n",
      "Feature for (MD661,94,(8562,9082)) is not in pool. Re-compute.\n",
      "Feature for (MD661,94,(8562,9147)) is not in pool. Re-compute.\n",
      "Feature for (MD661,94,(8562,9212)) is not in pool. Re-compute.\n",
      "Feature for (MD661,94,(8562,9277)) is not in pool. Re-compute.\n",
      "Feature for (MD661,94,(8562,9342)) is not in pool. Re-compute.\n",
      "Feature for (MD661,94,(8627,8757)) is not in pool. Re-compute.\n",
      "Feature for (MD661,94,(8627,8822)) is not in pool. Re-compute.\n",
      "Feature for (MD661,94,(8627,8887)) is not in pool. Re-compute.\n",
      "Feature for (MD661,94,(8627,8952)) is not in pool. Re-compute.\n",
      "Feature for (MD661,94,(8627,9017)) is not in pool. Re-compute.\n",
      "Feature for (MD661,94,(8627,9082)) is not in pool. Re-compute.\n",
      "Feature for (MD661,94,(8627,9147)) is not in pool. Re-compute.\n",
      "Feature for (MD661,94,(8627,9212)) is not in pool. Re-compute.\n",
      "Feature for (MD661,94,(8627,9277)) is not in pool. Re-compute.\n",
      "Feature for (MD661,94,(8627,9342)) is not in pool. Re-compute.\n",
      "Feature for (MD661,94,(8692,8757)) is not in pool. Re-compute.\n",
      "Feature for (MD661,94,(8692,8822)) is not in pool. Re-compute.\n",
      "Feature for (MD661,94,(8692,8887)) is not in pool. Re-compute.\n",
      "Feature for (MD661,94,(8692,8952)) is not in pool. Re-compute.\n",
      "Feature for (MD661,94,(8692,9017)) is not in pool. Re-compute.\n",
      "Feature for (MD661,94,(8692,9082)) is not in pool. Re-compute.\n",
      "Feature for (MD661,94,(8692,9147)) is not in pool. Re-compute.\n",
      "Feature for (MD661,94,(8692,9212)) is not in pool. Re-compute.\n",
      "Feature for (MD661,94,(8692,9277)) is not in pool. Re-compute.\n",
      "Feature for (MD661,94,(8692,9342)) is not in pool. Re-compute.\n",
      "Feature for (MD661,94,(8692,9407)) is not in pool. Re-compute.\n",
      "Feature for (MD661,94,(8757,8757)) is not in pool. Re-compute.\n",
      "Feature for (MD661,94,(8757,8822)) is not in pool. Re-compute.\n",
      "Feature for (MD661,94,(8757,8887)) is not in pool. Re-compute.\n",
      "Feature for (MD661,94,(8757,8952)) is not in pool. Re-compute.\n",
      "Feature for (MD661,94,(8757,9017)) is not in pool. Re-compute.\n",
      "Feature for (MD661,94,(8757,9082)) is not in pool. Re-compute.\n",
      "Feature for (MD661,94,(8757,9147)) is not in pool. Re-compute.\n",
      "Feature for (MD661,94,(8757,9212)) is not in pool. Re-compute.\n",
      "Feature for (MD661,94,(8757,9277)) is not in pool. Re-compute.\n",
      "Feature for (MD661,94,(8757,9342)) is not in pool. Re-compute.\n",
      "Feature for (MD661,94,(8757,9407)) is not in pool. Re-compute.\n",
      "Feature for (MD661,94,(8822,8822)) is not in pool. Re-compute.\n",
      "Feature for (MD661,94,(8822,8887)) is not in pool. Re-compute.\n",
      "Feature for (MD661,94,(8822,8952)) is not in pool. Re-compute.\n",
      "Feature for (MD661,94,(8822,9017)) is not in pool. Re-compute.\n",
      "Feature for (MD661,94,(8822,9082)) is not in pool. Re-compute.\n",
      "Feature for (MD661,94,(8822,9147)) is not in pool. Re-compute.\n",
      "Feature for (MD661,94,(8822,9212)) is not in pool. Re-compute.\n",
      "Feature for (MD661,94,(8822,9277)) is not in pool. Re-compute.\n",
      "Feature for (MD661,94,(8822,9342)) is not in pool. Re-compute.\n",
      "Feature for (MD661,94,(8822,9407)) is not in pool. Re-compute.\n",
      "Feature for (MD661,94,(8887,8822)) is not in pool. Re-compute.\n",
      "Feature for (MD661,94,(8887,8887)) is not in pool. Re-compute.\n",
      "Feature for (MD661,94,(8887,8952)) is not in pool. Re-compute.\n",
      "Feature for (MD661,94,(8887,9017)) is not in pool. Re-compute.\n",
      "Feature for (MD661,94,(8887,9082)) is not in pool. Re-compute.\n",
      "Feature for (MD661,94,(8887,9147)) is not in pool. Re-compute.\n",
      "Feature for (MD661,94,(8887,9212)) is not in pool. Re-compute.\n",
      "Feature for (MD661,94,(8887,9277)) is not in pool. Re-compute.\n",
      "Feature for (MD661,94,(8887,9342)) is not in pool. Re-compute.\n",
      "Feature for (MD661,94,(8952,8887)) is not in pool. Re-compute.\n",
      "Feature for (MD661,94,(8952,8952)) is not in pool. Re-compute.\n",
      "Feature for (MD661,94,(8952,9017)) is not in pool. Re-compute.\n",
      "Feature for (MD661,94,(8952,9082)) is not in pool. Re-compute.\n",
      "Feature for (MD661,94,(8952,9147)) is not in pool. Re-compute.\n",
      "Feature for (MD661,94,(8952,9212)) is not in pool. Re-compute.\n",
      "Feature for (MD661,94,(8952,9277)) is not in pool. Re-compute.\n",
      "Feature for (MD661,94,(9017,8952)) is not in pool. Re-compute.\n",
      "Feature for (MD661,94,(9017,9017)) is not in pool. Re-compute.\n",
      "Feature for (MD661,94,(9017,9082)) is not in pool. Re-compute.\n",
      "Feature for (MD661,94,(9017,9147)) is not in pool. Re-compute.\n",
      "Feature for (MD661,94,(9017,9212)) is not in pool. Re-compute.\n",
      "Feature for (MD661,94,(9017,9277)) is not in pool. Re-compute.\n",
      "Feature for (MD661,94,(9082,8952)) is not in pool. Re-compute.\n",
      "Feature for (MD661,94,(9082,9017)) is not in pool. Re-compute.\n",
      "Feature for (MD661,94,(9082,9082)) is not in pool. Re-compute.\n",
      "Feature for (MD661,94,(9082,9147)) is not in pool. Re-compute.\n",
      "Feature for (MD661,94,(9082,9212)) is not in pool. Re-compute.\n",
      "Feature for (MD661,94,(9147,8952)) is not in pool. Re-compute.\n",
      "Feature for (MD661,94,(9147,9017)) is not in pool. Re-compute.\n",
      "Feature for (MD661,94,(9147,9082)) is not in pool. Re-compute.\n",
      "Feature for (MD661,94,(9147,9147)) is not in pool. Re-compute.\n",
      "Feature for (MD661,94,(9147,9212)) is not in pool. Re-compute.\n",
      "Feature for (MD661,94,(9212,9017)) is not in pool. Re-compute.\n",
      "Feature for (MD661,94,(9212,9082)) is not in pool. Re-compute.\n",
      "Feature for (MD661,94,(9212,9147)) is not in pool. Re-compute.\n",
      "Feature for (MD661,94,(9277,9017)) is not in pool. Re-compute.\n",
      "Feature for (MD661,94,(9277,9082)) is not in pool. Re-compute.\n",
      "Feature for (MD661,94,(9277,9147)) is not in pool. Re-compute.\n",
      "Feature for (MD661,94,(9342,9017)) is not in pool. Re-compute.\n",
      "Feature for (MD661,94,(9342,9082)) is not in pool. Re-compute.\n",
      "Feature for (MD661,94,(9407,9017)) is not in pool. Re-compute.\n",
      "Feature for (MD661,94,(9472,8887)) is not in pool. Re-compute.\n",
      "Feature for (MD661,94,(9472,8952)) is not in pool. Re-compute.\n",
      "Not using image_cache.\n",
      "Load image: 15.96 seconds.\n",
      "Extract patches: 16.19 seconds\n"
     ]
    },
    {
     "name": "stdout",
     "output_type": "stream",
     "text": [
      "(256, 1, 224, 224)\n"
     ]
    },
    {
     "name": "stderr",
     "output_type": "stream",
     "text": [
      "Compute features: 0.38 seconds\n"
     ]
    },
    {
     "name": "stdout",
     "output_type": "stream",
     "text": [
      "('MD662', 114)\n",
      "('MD661', 106)\n",
      "('MD662', 360)\n",
      "('MD662', 349)\n",
      "('MD661', 331)\n",
      "('MD662', 352)\n",
      "('MD662', 353)\n",
      "('MD661', 103)\n",
      "('MD661', 338)\n",
      "('MD662', 126)\n",
      "('MD661', 110)\n",
      "('MD661', 345)\n"
     ]
    },
    {
     "name": "stderr",
     "output_type": "stream",
     "text": [
      "Feature for (MD661,345,(8627,10057)) is not in pool. Re-compute.\n",
      "Feature for (MD661,345,(8692,9862)) is not in pool. Re-compute.\n",
      "Feature for (MD661,345,(8692,9927)) is not in pool. Re-compute.\n",
      "Feature for (MD661,345,(8692,9992)) is not in pool. Re-compute.\n",
      "Feature for (MD661,345,(8692,10057)) is not in pool. Re-compute.\n",
      "Not using image_cache.\n",
      "Load image: 15.22 seconds.\n",
      "Extract patches: 15.32 seconds\n"
     ]
    },
    {
     "name": "stdout",
     "output_type": "stream",
     "text": [
      "(256, 1, 224, 224)\n"
     ]
    },
    {
     "name": "stderr",
     "output_type": "stream",
     "text": [
      "Compute features: 0.37 seconds\n"
     ]
    },
    {
     "name": "stdout",
     "output_type": "stream",
     "text": [
      "('MD661', 335)\n",
      "('MD662', 119)\n",
      "('MD661', 342)\n",
      "('MD662', 122)\n",
      "('MD661', 98)\n"
     ]
    },
    {
     "name": "stderr",
     "output_type": "stream",
     "text": [
      "Feature for (MD661,98,(8302,9407)) is not in pool. Re-compute.\n",
      "Feature for (MD661,98,(8757,9667)) is not in pool. Re-compute.\n",
      "Feature for (MD661,98,(8822,9537)) is not in pool. Re-compute.\n",
      "Feature for (MD661,98,(8822,9602)) is not in pool. Re-compute.\n",
      "Feature for (MD661,98,(8952,9342)) is not in pool. Re-compute.\n",
      "Feature for (MD661,98,(8952,9407)) is not in pool. Re-compute.\n",
      "Feature for (MD661,98,(9017,9342)) is not in pool. Re-compute.\n",
      "Not using image_cache.\n",
      "Load image: 15.34 seconds.\n",
      "Extract patches: 15.43 seconds\n"
     ]
    },
    {
     "name": "stdout",
     "output_type": "stream",
     "text": [
      "(256, 1, 224, 224)\n"
     ]
    },
    {
     "name": "stderr",
     "output_type": "stream",
     "text": [
      "Compute features: 0.36 seconds\n"
     ]
    },
    {
     "name": "stdout",
     "output_type": "stream",
     "text": [
      "('MD662', 115)\n",
      "('MD661', 105)\n",
      "('MD662', 361)\n",
      "('MD661', 330)\n",
      "('MD662', 358)\n",
      "('MD661', 102)\n",
      "('MD661', 337)\n",
      "('MD662', 127)\n",
      "('MD661', 109)\n",
      "('MD661', 344)\n"
     ]
    },
    {
     "name": "stderr",
     "output_type": "stream",
     "text": [
      "Feature for (MD661,344,(8692,10122)) is not in pool. Re-compute.\n",
      "Not using image_cache.\n",
      "Load image: 16.55 seconds.\n",
      "Extract patches: 16.64 seconds\n"
     ]
    },
    {
     "name": "stdout",
     "output_type": "stream",
     "text": [
      "(256, 1, 224, 224)\n"
     ]
    },
    {
     "name": "stderr",
     "output_type": "stream",
     "text": [
      "Compute features: 0.37 seconds\n"
     ]
    },
    {
     "name": "stdout",
     "output_type": "stream",
     "text": [
      "('MD662', 350)\n",
      "('MD661', 334)\n",
      "('MD662', 116)\n",
      "('MD662', 354)\n",
      "('MD661', 341)\n",
      "('MD662', 123)\n",
      "('MD661', 97)\n"
     ]
    },
    {
     "name": "stderr",
     "output_type": "stream",
     "text": [
      "Feature for (MD661,97,(8172,9082)) is not in pool. Re-compute.\n",
      "Feature for (MD661,97,(8237,9082)) is not in pool. Re-compute.\n",
      "Feature for (MD661,97,(8237,9147)) is not in pool. Re-compute.\n",
      "Feature for (MD661,97,(8237,9212)) is not in pool. Re-compute.\n",
      "Feature for (MD661,97,(8302,9147)) is not in pool. Re-compute.\n",
      "Feature for (MD661,97,(8302,9212)) is not in pool. Re-compute.\n",
      "Feature for (MD661,97,(8302,9277)) is not in pool. Re-compute.\n",
      "Feature for (MD661,97,(8302,9342)) is not in pool. Re-compute.\n",
      "Feature for (MD661,97,(8367,9147)) is not in pool. Re-compute.\n",
      "Feature for (MD661,97,(8367,9212)) is not in pool. Re-compute.\n",
      "Feature for (MD661,97,(8367,9277)) is not in pool. Re-compute.\n",
      "Feature for (MD661,97,(8367,9342)) is not in pool. Re-compute.\n",
      "Feature for (MD661,97,(8432,9212)) is not in pool. Re-compute.\n",
      "Feature for (MD661,97,(8432,9277)) is not in pool. Re-compute.\n",
      "Feature for (MD661,97,(8692,9602)) is not in pool. Re-compute.\n",
      "Feature for (MD661,97,(8757,9537)) is not in pool. Re-compute.\n",
      "Feature for (MD661,97,(8757,9602)) is not in pool. Re-compute.\n",
      "Feature for (MD661,97,(8822,9472)) is not in pool. Re-compute.\n",
      "Feature for (MD661,97,(8822,9537)) is not in pool. Re-compute.\n",
      "Feature for (MD661,97,(8887,9407)) is not in pool. Re-compute.\n",
      "Feature for (MD661,97,(8887,9472)) is not in pool. Re-compute.\n",
      "Feature for (MD661,97,(8952,9277)) is not in pool. Re-compute.\n",
      "Feature for (MD661,97,(8952,9342)) is not in pool. Re-compute.\n",
      "Feature for (MD661,97,(8952,9407)) is not in pool. Re-compute.\n",
      "Feature for (MD661,97,(9017,9212)) is not in pool. Re-compute.\n",
      "Feature for (MD661,97,(9017,9277)) is not in pool. Re-compute.\n",
      "Feature for (MD661,97,(9017,9342)) is not in pool. Re-compute.\n",
      "Feature for (MD661,97,(9082,9212)) is not in pool. Re-compute.\n",
      "Feature for (MD661,97,(9082,9277)) is not in pool. Re-compute.\n",
      "Feature for (MD661,97,(9667,8952)) is not in pool. Re-compute.\n",
      "Not using image_cache.\n",
      "Load image: 15.79 seconds.\n",
      "Extract patches: 15.91 seconds\n"
     ]
    },
    {
     "name": "stdout",
     "output_type": "stream",
     "text": [
      "(256, 1, 224, 224)\n"
     ]
    },
    {
     "name": "stderr",
     "output_type": "stream",
     "text": [
      "Compute features: 0.36 seconds\n"
     ]
    },
    {
     "name": "stdout",
     "output_type": "stream",
     "text": [
      "('MD661', 104)\n",
      "('MD662', 128)\n",
      "('MD662', 359)\n",
      "('MD661', 101)\n",
      "('MD661', 336)\n",
      "('MD662', 124)\n",
      "('MD661', 108)\n",
      "('MD662', 362)\n",
      "('MD662', 351)\n",
      "('MD661', 333)\n",
      "('MD662', 117)\n",
      "Training: 7031 positive, 7031 negative\n"
     ]
    },
    {
     "name": "stderr",
     "output_type": "stream",
     "text": [
      "Fitting classifier: 8.87 seconds\n"
     ]
    },
    {
     "name": "stdout",
     "output_type": "stream",
     "text": [
      "aws s3 cp \"/media/yuncong/BstemAtlasData/CSHL_classifiers/setting_999/classifiers/VCP_clf_setting_999.dump\" \"s3://mousebrainatlas-data/CSHL_classifiers/setting_999/classifiers/VCP_clf_setting_999.dump\"\n",
      "# positive train = 15817\n",
      "# negative train = 85658\n",
      "('MD661', 340)\n",
      "('MD661', 321)\n",
      "('MD661', 316)\n",
      "('MD661', 131)\n",
      "('MD662', 356)\n",
      "('MD662', 363)\n",
      "('MD661', 121)\n",
      "('MD662', 162)\n",
      "('MD661', 118)\n",
      "('MD661', 343)\n",
      "('MD661', 137)\n",
      "('MD661', 324)\n",
      "('MD661', 319)\n",
      "('MD661', 134)\n",
      "('MD662', 353)\n",
      "('MD662', 369)\n"
     ]
    },
    {
     "name": "stderr",
     "output_type": "stream",
     "text": [
      "Feature for (MD662,369,(7717,9017)) is not in pool. Re-compute.\n",
      "Feature for (MD662,369,(7782,8887)) is not in pool. Re-compute.\n",
      "Feature for (MD662,369,(7782,8952)) is not in pool. Re-compute.\n",
      "Feature for (MD662,369,(7782,9017)) is not in pool. Re-compute.\n",
      "Feature for (MD662,369,(7847,8887)) is not in pool. Re-compute.\n",
      "Feature for (MD662,369,(7847,8952)) is not in pool. Re-compute.\n",
      "Feature for (MD662,369,(7912,8822)) is not in pool. Re-compute.\n",
      "Feature for (MD662,369,(7912,8887)) is not in pool. Re-compute.\n",
      "Feature for (MD662,369,(7912,8952)) is not in pool. Re-compute.\n",
      "Feature for (MD662,369,(7977,8887)) is not in pool. Re-compute.\n",
      "Not using image_cache.\n",
      "Load image: 11.69 seconds.\n",
      "Extract patches: 11.79 seconds\n"
     ]
    },
    {
     "name": "stdout",
     "output_type": "stream",
     "text": [
      "(256, 1, 224, 224)\n"
     ]
    },
    {
     "name": "stderr",
     "output_type": "stream",
     "text": [
      "Compute features: 0.37 seconds\n"
     ]
    },
    {
     "name": "stdout",
     "output_type": "stream",
     "text": [
      "('MD662', 181)\n",
      "('MD662', 184)\n",
      "('MD661', 124)\n",
      "('MD662', 175)\n",
      "('MD661', 105)\n",
      "('MD661', 330)\n",
      "('MD661', 102)\n",
      "('MD661', 140)\n",
      "('MD661', 327)\n",
      "('MD662', 354)\n",
      "('MD662', 182)\n",
      "('MD662', 165)\n",
      "('MD661', 127)\n",
      "('MD662', 168)\n",
      "('MD661', 336)\n",
      "('MD661', 108)\n",
      "('MD661', 333)\n",
      "('MD661', 312)\n",
      "('MD661', 143)\n",
      "('MD661', 309)\n",
      "('MD662', 367)\n"
     ]
    },
    {
     "name": "stderr",
     "output_type": "stream",
     "text": [
      "Feature for (MD662,367,(8107,8887)) is not in pool. Re-compute.\n",
      "Feature for (MD662,367,(8172,8822)) is not in pool. Re-compute.\n",
      "Feature for (MD662,367,(8237,8757)) is not in pool. Re-compute.\n",
      "Feature for (MD662,367,(8237,8822)) is not in pool. Re-compute.\n",
      "Feature for (MD662,367,(8302,8757)) is not in pool. Re-compute.\n",
      "Feature for (MD662,367,(8302,8822)) is not in pool. Re-compute.\n",
      "Not using image_cache.\n",
      "Load image: 12.90 seconds.\n",
      "Extract patches: 12.99 seconds\n"
     ]
    },
    {
     "name": "stdout",
     "output_type": "stream",
     "text": [
      "(256, 1, 224, 224)\n"
     ]
    },
    {
     "name": "stderr",
     "output_type": "stream",
     "text": [
      "Compute features: 0.38 seconds\n"
     ]
    },
    {
     "name": "stdout",
     "output_type": "stream",
     "text": [
      "('MD662', 368)\n"
     ]
    },
    {
     "name": "stderr",
     "output_type": "stream",
     "text": [
      "Feature for (MD662,368,(8042,8887)) is not in pool. Re-compute.\n",
      "Not using image_cache.\n",
      "Load image: 11.56 seconds.\n",
      "Extract patches: 11.63 seconds\n"
     ]
    },
    {
     "name": "stdout",
     "output_type": "stream",
     "text": [
      "(256, 1, 224, 224)\n"
     ]
    },
    {
     "name": "stderr",
     "output_type": "stream",
     "text": [
      "Compute features: 0.37 seconds\n"
     ]
    },
    {
     "name": "stdout",
     "output_type": "stream",
     "text": [
      "('MD662', 179)\n",
      "('MD662', 166)\n",
      "('MD662', 348)\n",
      "('MD661', 114)\n",
      "('MD661', 339)\n",
      "('MD661', 111)\n",
      "('MD661', 320)\n",
      "('MD661', 315)\n",
      "('MD661', 130)\n",
      "('MD662', 357)\n",
      "('MD662', 360)\n",
      "('MD661', 120)\n",
      "('MD662', 163)\n",
      "('MD661', 117)\n",
      "('MD661', 342)\n",
      "('MD661', 136)\n",
      "('MD661', 323)\n",
      "('MD661', 318)\n",
      "('MD661', 133)\n",
      "('MD662', 358)\n",
      "('MD662', 371)\n"
     ]
    },
    {
     "name": "stderr",
     "output_type": "stream",
     "text": [
      "Feature for (MD662,371,(7457,9017)) is not in pool. Re-compute.\n",
      "Feature for (MD662,371,(7522,8952)) is not in pool. Re-compute.\n",
      "Feature for (MD662,371,(7522,9017)) is not in pool. Re-compute.\n",
      "Feature for (MD662,371,(7587,8822)) is not in pool. Re-compute.\n",
      "Feature for (MD662,371,(7587,8887)) is not in pool. Re-compute.\n",
      "Feature for (MD662,371,(7587,8952)) is not in pool. Re-compute.\n",
      "Feature for (MD662,371,(7587,9017)) is not in pool. Re-compute.\n",
      "Feature for (MD662,371,(7652,8887)) is not in pool. Re-compute.\n",
      "Feature for (MD662,371,(7652,8952)) is not in pool. Re-compute.\n",
      "Feature for (MD662,371,(7717,8887)) is not in pool. Re-compute.\n",
      "Feature for (MD662,371,(7717,8952)) is not in pool. Re-compute.\n",
      "Feature for (MD662,371,(7782,8887)) is not in pool. Re-compute.\n",
      "Feature for (MD662,371,(7782,8952)) is not in pool. Re-compute.\n",
      "Feature for (MD662,371,(7847,8952)) is not in pool. Re-compute.\n",
      "Not using image_cache.\n",
      "Load image: 12.86 seconds.\n",
      "Extract patches: 12.95 seconds\n"
     ]
    },
    {
     "name": "stdout",
     "output_type": "stream",
     "text": [
      "(256, 1, 224, 224)\n"
     ]
    },
    {
     "name": "stderr",
     "output_type": "stream",
     "text": [
      "Compute features: 0.38 seconds\n"
     ]
    },
    {
     "name": "stdout",
     "output_type": "stream",
     "text": [
      "('MD662', 185)\n",
      "('MD661', 123)\n",
      "('MD662', 172)\n",
      "('MD661', 104)\n",
      "('MD661', 329)\n",
      "('MD661', 139)\n",
      "('MD661', 326)\n",
      "('MD662', 355)\n",
      "('MD662', 183)\n",
      "('MD661', 126)\n",
      "('MD662', 169)\n",
      "('MD661', 107)\n",
      "('MD661', 332)\n",
      "('MD662', 158)\n",
      "('MD661', 142)\n",
      "('MD661', 308)\n",
      "('MD662', 364)\n",
      "('MD662', 176)\n",
      "('MD662', 370)\n"
     ]
    },
    {
     "name": "stderr",
     "output_type": "stream",
     "text": [
      "Feature for (MD662,370,(7652,8952)) is not in pool. Re-compute.\n",
      "Feature for (MD662,370,(7652,9017)) is not in pool. Re-compute.\n",
      "Feature for (MD662,370,(7717,8887)) is not in pool. Re-compute.\n",
      "Feature for (MD662,370,(7717,8952)) is not in pool. Re-compute.\n",
      "Feature for (MD662,370,(7717,9017)) is not in pool. Re-compute.\n",
      "Feature for (MD662,370,(7782,8887)) is not in pool. Re-compute.\n",
      "Feature for (MD662,370,(7782,8952)) is not in pool. Re-compute.\n",
      "Feature for (MD662,370,(7847,8887)) is not in pool. Re-compute.\n",
      "Feature for (MD662,370,(7847,8952)) is not in pool. Re-compute.\n",
      "Feature for (MD662,370,(7912,8887)) is not in pool. Re-compute.\n",
      "Feature for (MD662,370,(7912,8952)) is not in pool. Re-compute.\n",
      "Not using image_cache.\n",
      "Load image: 13.12 seconds.\n",
      "Extract patches: 13.21 seconds\n"
     ]
    },
    {
     "name": "stdout",
     "output_type": "stream",
     "text": [
      "(256, 1, 224, 224)\n"
     ]
    },
    {
     "name": "stderr",
     "output_type": "stream",
     "text": [
      "Compute features: 0.38 seconds\n"
     ]
    },
    {
     "name": "stdout",
     "output_type": "stream",
     "text": [
      "('MD662', 167)\n",
      "('MD662', 349)\n",
      "('MD661', 113)\n",
      "('MD662', 170)\n",
      "('MD661', 338)\n",
      "('MD661', 110)\n",
      "('MD661', 335)\n",
      "('MD661', 314)\n",
      "('MD662', 372)\n"
     ]
    },
    {
     "name": "stderr",
     "output_type": "stream",
     "text": [
      "Feature for (MD662,372,(6872,9082)) is not in pool. Re-compute.\n",
      "Feature for (MD662,372,(6937,9082)) is not in pool. Re-compute.\n",
      "Feature for (MD662,372,(7002,9082)) is not in pool. Re-compute.\n",
      "Feature for (MD662,372,(7067,9082)) is not in pool. Re-compute.\n",
      "Feature for (MD662,372,(7132,9017)) is not in pool. Re-compute.\n",
      "Feature for (MD662,372,(7197,8952)) is not in pool. Re-compute.\n",
      "Feature for (MD662,372,(7197,9017)) is not in pool. Re-compute.\n",
      "Feature for (MD662,372,(7262,8952)) is not in pool. Re-compute.\n",
      "Feature for (MD662,372,(7262,9017)) is not in pool. Re-compute.\n",
      "Feature for (MD662,372,(7327,9017)) is not in pool. Re-compute.\n",
      "Feature for (MD662,372,(7392,8887)) is not in pool. Re-compute.\n",
      "Feature for (MD662,372,(7392,8952)) is not in pool. Re-compute.\n",
      "Feature for (MD662,372,(7457,8822)) is not in pool. Re-compute.\n",
      "Feature for (MD662,372,(7457,8887)) is not in pool. Re-compute.\n",
      "Feature for (MD662,372,(7457,8952)) is not in pool. Re-compute.\n",
      "Feature for (MD662,372,(7522,8822)) is not in pool. Re-compute.\n",
      "Feature for (MD662,372,(7522,8887)) is not in pool. Re-compute.\n",
      "Feature for (MD662,372,(7522,8952)) is not in pool. Re-compute.\n",
      "Feature for (MD662,372,(7522,9017)) is not in pool. Re-compute.\n",
      "Feature for (MD662,372,(7587,8822)) is not in pool. Re-compute.\n",
      "Feature for (MD662,372,(7587,8887)) is not in pool. Re-compute.\n",
      "Feature for (MD662,372,(7587,8952)) is not in pool. Re-compute.\n",
      "Feature for (MD662,372,(7652,8887)) is not in pool. Re-compute.\n",
      "Feature for (MD662,372,(7652,8952)) is not in pool. Re-compute.\n",
      "Feature for (MD662,372,(7717,8952)) is not in pool. Re-compute.\n",
      "Not using image_cache.\n",
      "Load image: 11.86 seconds.\n",
      "Extract patches: 11.97 seconds\n"
     ]
    },
    {
     "name": "stdout",
     "output_type": "stream",
     "text": [
      "(256, 1, 224, 224)\n"
     ]
    },
    {
     "name": "stderr",
     "output_type": "stream",
     "text": [
      "Compute features: 0.36 seconds\n"
     ]
    },
    {
     "name": "stdout",
     "output_type": "stream",
     "text": [
      "('MD661', 129)\n",
      "('MD661', 311)\n",
      "('MD662', 361)\n",
      "('MD662', 160)\n",
      "('MD661', 344)\n",
      "('MD662', 350)\n",
      "('MD661', 116)\n",
      "('MD661', 341)\n",
      "('MD661', 322)\n",
      "('MD661', 317)\n",
      "('MD661', 132)\n",
      "('MD662', 359)\n",
      "('MD662', 362)\n",
      "('MD661', 122)\n",
      "('MD662', 173)\n",
      "('MD661', 119)\n",
      "('MD661', 328)\n",
      "('MD661', 138)\n",
      "('MD661', 325)\n",
      "('MD661', 135)\n",
      "('MD662', 352)\n",
      "('MD662', 180)\n",
      "('MD661', 125)\n",
      "('MD662', 174)\n",
      "('MD661', 106)\n",
      "('MD661', 144)\n",
      "('MD661', 331)\n",
      "('MD661', 103)\n",
      "('MD662', 159)\n",
      "('MD661', 141)\n",
      "('MD662', 365)\n",
      "('MD662', 177)\n",
      "('MD662', 164)\n",
      "('MD661', 112)\n",
      "('MD662', 171)\n",
      "('MD661', 337)\n",
      "('MD661', 109)\n",
      "('MD661', 334)\n",
      "('MD661', 313)\n",
      "('MD661', 128)\n",
      "('MD661', 310)\n",
      "('MD662', 366)\n"
     ]
    },
    {
     "name": "stderr",
     "output_type": "stream",
     "text": [
      "Feature for (MD662,366,(8432,8757)) is not in pool. Re-compute.\n",
      "Not using image_cache.\n",
      "Load image: 12.81 seconds.\n",
      "Extract patches: 12.89 seconds\n"
     ]
    },
    {
     "name": "stdout",
     "output_type": "stream",
     "text": [
      "(256, 1, 224, 224)\n"
     ]
    },
    {
     "name": "stderr",
     "output_type": "stream",
     "text": [
      "Compute features: 0.39 seconds\n"
     ]
    },
    {
     "name": "stdout",
     "output_type": "stream",
     "text": [
      "('MD662', 178)\n",
      "('MD662', 161)\n",
      "('MD662', 351)\n",
      "('MD661', 115)\n",
      "Training: 15000 positive, 15000 negative\n"
     ]
    },
    {
     "name": "stderr",
     "output_type": "stream",
     "text": [
      "Fitting classifier: 25.86 seconds\n"
     ]
    },
    {
     "name": "stdout",
     "output_type": "stream",
     "text": [
      "aws s3 cp \"/media/yuncong/BstemAtlasData/CSHL_classifiers/setting_999/classifiers/DC_clf_setting_999.dump\" \"s3://mousebrainatlas-data/CSHL_classifiers/setting_999/classifiers/DC_clf_setting_999.dump\"\n",
      "# positive train = 589\n",
      "# negative train = 10952\n",
      "('MD662', 248)\n",
      "('MD661', 224)\n",
      "('MD661', 228)\n",
      "('MD661', 223)\n",
      "('MD662', 253)\n",
      "('MD662', 257)\n",
      "('MD662', 249)\n",
      "('MD661', 227)\n",
      "('MD661', 222)\n",
      "('MD661', 231)\n",
      "('MD662', 254)\n",
      "('MD662', 258)\n",
      "('MD662', 247)\n",
      "('MD662', 250)\n",
      "('MD661', 226)\n",
      "('MD661', 221)\n",
      "('MD661', 230)\n",
      "('MD662', 255)\n",
      "('MD662', 251)\n",
      "('MD661', 225)\n",
      "('MD661', 220)\n",
      "('MD661', 232)\n",
      "('MD661', 229)\n",
      "('MD662', 252)\n",
      "('MD662', 256)\n",
      "Training: 589 positive, 589 negative\n"
     ]
    },
    {
     "name": "stderr",
     "output_type": "stream",
     "text": [
      "Fitting classifier: 0.29 seconds\n"
     ]
    },
    {
     "name": "stdout",
     "output_type": "stream",
     "text": [
      "aws s3 cp \"/media/yuncong/BstemAtlasData/CSHL_classifiers/setting_999/classifiers/AP_clf_setting_999.dump\" \"s3://mousebrainatlas-data/CSHL_classifiers/setting_999/classifiers/AP_clf_setting_999.dump\"\n",
      "# positive train = 8551\n",
      "# negative train = 38286\n",
      "('MD661', 212)\n",
      "('MD662', 248)\n",
      "('MD662', 268)\n",
      "('MD662', 241)\n",
      "('MD662', 239)\n",
      "('MD662', 261)\n",
      "('MD662', 258)\n",
      "('MD662', 262)\n",
      "('MD662', 253)\n",
      "('MD661', 204)\n",
      "('MD662', 257)\n",
      "('MD661', 211)\n",
      "('MD662', 249)\n",
      "('MD661', 218)\n",
      "('MD662', 269)\n",
      "('MD662', 246)\n",
      "('MD661', 215)\n",
      "('MD662', 275)\n",
      "('MD662', 265)\n",
      "('MD662', 242)\n",
      "('MD661', 203)\n",
      "('MD661', 210)\n",
      "('MD662', 254)\n",
      "('MD661', 217)\n",
      "('MD661', 207)\n",
      "('MD662', 247)\n",
      "('MD662', 259)\n",
      "('MD661', 214)\n",
      "('MD662', 270)\n",
      "('MD662', 250)\n",
      "('MD662', 272)\n",
      "('MD662', 256)\n",
      "('MD662', 243)\n",
      "('MD661', 202)\n",
      "('MD661', 209)\n",
      "('MD662', 266)\n",
      "('MD662', 255)\n",
      "('MD661', 216)\n",
      "('MD661', 206)\n",
      "('MD662', 244)\n",
      "('MD661', 213)\n",
      "('MD662', 251)\n",
      "('MD662', 273)\n",
      "('MD662', 271)\n",
      "('MD662', 240)\n",
      "('MD662', 238)\n",
      "('MD662', 263)\n",
      "('MD662', 260)\n",
      "('MD662', 274)\n",
      "('MD661', 208)\n",
      "('MD662', 267)\n",
      "('MD662', 252)\n",
      "('MD661', 205)\n",
      "('MD662', 245)\n",
      "('MD662', 264)\n",
      "Training: 8551 positive, 8551 negative\n"
     ]
    },
    {
     "name": "stderr",
     "output_type": "stream",
     "text": [
      "Fitting classifier: 12.32 seconds\n"
     ]
    },
    {
     "name": "stdout",
     "output_type": "stream",
     "text": [
      "aws s3 cp \"/media/yuncong/BstemAtlasData/CSHL_classifiers/setting_999/classifiers/12N_clf_setting_999.dump\" \"s3://mousebrainatlas-data/CSHL_classifiers/setting_999/classifiers/12N_clf_setting_999.dump\"\n",
      "# positive train = 34208\n",
      "# negative train = 104935\n",
      "('MD662', 212)\n",
      "('MD661', 219)\n",
      "('MD662', 219)\n",
      "('MD662', 268)\n",
      "('MD661', 200)\n",
      "('MD662', 206)\n",
      "('MD661', 197)\n",
      "('MD662', 253)\n",
      "('MD662', 224)\n",
      "('MD661', 239)\n",
      "('MD662', 209)\n",
      "('MD661', 222)\n",
      "('MD662', 265)\n",
      "('MD661', 203)\n",
      "('MD662', 203)\n",
      "('MD662', 254)\n",
      "('MD662', 237)\n",
      "('MD661', 226)\n",
      "('MD662', 272)\n",
      "('MD662', 210)\n",
      "('MD662', 263)\n",
      "('MD661', 209)\n",
      "('MD662', 266)\n",
      "('MD661', 206)\n",
      "('MD662', 244)\n",
      "('MD662', 251)\n",
      "('MD661', 232)\n",
      "('MD662', 238)\n",
      "('MD661', 229)\n",
      "('MD662', 223)\n",
      "('MD662', 256)\n",
      "('MD661', 212)\n",
      "('MD662', 241)\n",
      "('MD662', 228)\n",
      "('MD661', 235)\n",
      "('MD662', 235)\n",
      "('MD662', 213)\n",
      "('MD661', 218)\n",
      "('MD662', 216)\n",
      "('MD662', 269)\n",
      "('MD661', 215)\n",
      "('MD662', 207)\n",
      "('MD662', 242)\n",
      "('MD662', 225)\n",
      "('MD661', 238)\n",
      "('MD662', 276)\n",
      "('MD662', 214)\n",
      "('MD661', 221)\n",
      "('MD662', 270)\n",
      "('MD661', 202)\n",
      "('MD661', 199)\n",
      "('MD662', 255)\n",
      "('MD662', 226)\n",
      "('MD661', 225)\n",
      "('MD662', 273)\n",
      "('MD662', 211)\n",
      "('MD662', 260)\n",
      "('MD661', 208)\n",
      "('MD662', 267)\n",
      "('MD661', 205)\n",
      "('MD662', 245)\n",
      "('MD662', 248)\n",
      "('MD662', 239)\n",
      "('MD661', 228)\n",
      "('MD662', 274)\n",
      "('MD662', 220)\n",
      "('MD662', 257)\n",
      "('MD661', 211)\n",
      "('MD662', 246)\n",
      "('MD662', 229)\n",
      "('MD661', 234)\n",
      "('MD662', 232)\n",
      "('MD661', 231)\n",
      "('MD661', 217)\n",
      "('MD662', 217)\n",
      "('MD662', 258)\n",
      "('MD661', 214)\n",
      "('MD662', 204)\n",
      "('MD662', 243)\n",
      "('MD661', 240)\n",
      "('MD662', 230)\n",
      "('MD661', 237)\n",
      "('MD662', 277)\n",
      "('MD662', 215)\n",
      "('MD661', 220)\n",
      "('MD662', 218)\n",
      "('MD662', 271)\n",
      "('MD661', 201)\n",
      "('MD661', 198)\n",
      "('MD662', 252)\n",
      "('MD662', 227)\n",
      "('MD661', 224)\n",
      "('MD662', 278)\n",
      "('MD662', 208)\n",
      "('MD662', 261)\n",
      "('MD661', 223)\n",
      "('MD662', 264)\n",
      "('MD661', 204)\n",
      "('MD662', 249)\n",
      "('MD662', 236)\n",
      "('MD661', 227)\n",
      "('MD662', 275)\n",
      "('MD662', 221)\n",
      "('MD662', 262)\n",
      "('MD661', 210)\n",
      "('MD661', 207)\n",
      "('MD662', 247)\n",
      "('MD662', 250)\n",
      "('MD661', 233)\n",
      "('MD662', 233)\n",
      "('MD661', 230)\n",
      "('MD661', 216)\n",
      "('MD662', 222)\n",
      "('MD662', 259)\n",
      "('MD661', 213)\n",
      "('MD662', 205)\n",
      "('MD662', 240)\n",
      "('MD662', 231)\n",
      "('MD661', 236)\n",
      "('MD662', 234)\n",
      "Training: 15000 positive, 15000 negative\n"
     ]
    },
    {
     "name": "stderr",
     "output_type": "stream",
     "text": [
      "Fitting classifier: 26.24 seconds\n"
     ]
    },
    {
     "name": "stdout",
     "output_type": "stream",
     "text": [
      "aws s3 cp \"/media/yuncong/BstemAtlasData/CSHL_classifiers/setting_999/classifiers/RtTg_clf_setting_999.dump\" \"s3://mousebrainatlas-data/CSHL_classifiers/setting_999/classifiers/RtTg_clf_setting_999.dump\"\n",
      "# positive train = 214149\n",
      "# negative train = 341634\n",
      "('MD661', 153)\n",
      "('MD661', 271)\n"
     ]
    },
    {
     "name": "stderr",
     "output_type": "stream",
     "text": [
      "Feature for (MD661,271,(5897,1152)) is not in pool. Re-compute.\n",
      "Feature for (MD661,271,(5897,1217)) is not in pool. Re-compute.\n",
      "Feature for (MD661,271,(5897,1282)) is not in pool. Re-compute.\n",
      "Feature for (MD661,271,(5962,1022)) is not in pool. Re-compute.\n",
      "Feature for (MD661,271,(5962,1087)) is not in pool. Re-compute.\n",
      "Feature for (MD661,271,(5962,1152)) is not in pool. Re-compute.\n",
      "Feature for (MD661,271,(6027,957)) is not in pool. Re-compute.\n",
      "Feature for (MD661,271,(6027,1022)) is not in pool. Re-compute.\n",
      "Feature for (MD661,271,(6027,1087)) is not in pool. Re-compute.\n",
      "Feature for (MD661,271,(6027,1152)) is not in pool. Re-compute.\n",
      "Feature for (MD661,271,(6092,892)) is not in pool. Re-compute.\n",
      "Feature for (MD661,271,(6092,957)) is not in pool. Re-compute.\n",
      "Feature for (MD661,271,(6092,1022)) is not in pool. Re-compute.\n",
      "Feature for (MD661,271,(6092,1087)) is not in pool. Re-compute.\n",
      "Feature for (MD661,271,(6157,762)) is not in pool. Re-compute.\n",
      "Feature for (MD661,271,(6157,827)) is not in pool. Re-compute.\n",
      "Feature for (MD661,271,(6157,892)) is not in pool. Re-compute.\n",
      "Feature for (MD661,271,(6157,957)) is not in pool. Re-compute.\n",
      "Feature for (MD661,271,(6157,1022)) is not in pool. Re-compute.\n",
      "Feature for (MD661,271,(6157,1087)) is not in pool. Re-compute.\n",
      "Feature for (MD661,271,(6222,762)) is not in pool. Re-compute.\n",
      "Feature for (MD661,271,(6222,827)) is not in pool. Re-compute.\n",
      "Feature for (MD661,271,(6222,892)) is not in pool. Re-compute.\n",
      "Feature for (MD661,271,(6222,957)) is not in pool. Re-compute.\n",
      "Feature for (MD661,271,(6222,1022)) is not in pool. Re-compute.\n",
      "Feature for (MD661,271,(6222,1087)) is not in pool. Re-compute.\n",
      "Feature for (MD661,271,(6287,697)) is not in pool. Re-compute.\n",
      "Feature for (MD661,271,(6287,762)) is not in pool. Re-compute.\n",
      "Feature for (MD661,271,(6287,827)) is not in pool. Re-compute.\n",
      "Feature for (MD661,271,(6287,892)) is not in pool. Re-compute.\n",
      "Feature for (MD661,271,(6287,957)) is not in pool. Re-compute.\n",
      "Feature for (MD661,271,(6287,1022)) is not in pool. Re-compute.\n",
      "Feature for (MD661,271,(6352,632)) is not in pool. Re-compute.\n",
      "Feature for (MD661,271,(6352,697)) is not in pool. Re-compute.\n",
      "Feature for (MD661,271,(6352,762)) is not in pool. Re-compute.\n",
      "Feature for (MD661,271,(6352,827)) is not in pool. Re-compute.\n",
      "Feature for (MD661,271,(6352,892)) is not in pool. Re-compute.\n",
      "Feature for (MD661,271,(6352,957)) is not in pool. Re-compute.\n",
      "Feature for (MD661,271,(6417,632)) is not in pool. Re-compute.\n",
      "Feature for (MD661,271,(6417,697)) is not in pool. Re-compute.\n",
      "Feature for (MD661,271,(6417,762)) is not in pool. Re-compute.\n",
      "Feature for (MD661,271,(6417,827)) is not in pool. Re-compute.\n",
      "Feature for (MD661,271,(6417,892)) is not in pool. Re-compute.\n",
      "Feature for (MD661,271,(6482,697)) is not in pool. Re-compute.\n",
      "Feature for (MD661,271,(6482,762)) is not in pool. Re-compute.\n",
      "Feature for (MD661,271,(6482,827)) is not in pool. Re-compute.\n",
      "Feature for (MD661,271,(6482,892)) is not in pool. Re-compute.\n",
      "Feature for (MD661,271,(6547,697)) is not in pool. Re-compute.\n",
      "Feature for (MD661,271,(6547,762)) is not in pool. Re-compute.\n",
      "Feature for (MD661,271,(6547,827)) is not in pool. Re-compute.\n",
      "Feature for (MD661,271,(6612,697)) is not in pool. Re-compute.\n",
      "Feature for (MD661,271,(6612,762)) is not in pool. Re-compute.\n",
      "Feature for (MD661,271,(6612,827)) is not in pool. Re-compute.\n",
      "Feature for (MD661,271,(6677,762)) is not in pool. Re-compute.\n",
      "Feature for (MD661,271,(6677,827)) is not in pool. Re-compute.\n",
      "Feature for (MD661,271,(6742,827)) is not in pool. Re-compute.\n",
      "Not using image_cache.\n",
      "Load image: 17.61 seconds.\n",
      "Extract patches: 17.76 seconds\n"
     ]
    },
    {
     "name": "stdout",
     "output_type": "stream",
     "text": [
      "(256, 1, 224, 224)\n"
     ]
    },
    {
     "name": "stderr",
     "output_type": "stream",
     "text": [
      "Compute features: 0.37 seconds\n"
     ]
    },
    {
     "name": "stdout",
     "output_type": "stream",
     "text": [
      "('MD662', 189)\n"
     ]
    },
    {
     "name": "stderr",
     "output_type": "stream",
     "text": [
      "Feature for (MD662,189,(5117,1737)) is not in pool. Re-compute.\n",
      "Feature for (MD662,189,(5117,1802)) is not in pool. Re-compute.\n",
      "Feature for (MD662,189,(5182,1542)) is not in pool. Re-compute.\n",
      "Feature for (MD662,189,(5182,1607)) is not in pool. Re-compute.\n",
      "Feature for (MD662,189,(5182,1672)) is not in pool. Re-compute.\n",
      "Feature for (MD662,189,(5182,1737)) is not in pool. Re-compute.\n",
      "Feature for (MD662,189,(5182,1802)) is not in pool. Re-compute.\n",
      "Feature for (MD662,189,(5182,1867)) is not in pool. Re-compute.\n",
      "Feature for (MD662,189,(5182,1932)) is not in pool. Re-compute.\n",
      "Feature for (MD662,189,(5247,1412)) is not in pool. Re-compute.\n",
      "Feature for (MD662,189,(5247,1477)) is not in pool. Re-compute.\n",
      "Feature for (MD662,189,(5247,1542)) is not in pool. Re-compute.\n",
      "Feature for (MD662,189,(5247,1607)) is not in pool. Re-compute.\n",
      "Feature for (MD662,189,(5247,1672)) is not in pool. Re-compute.\n",
      "Feature for (MD662,189,(5247,1737)) is not in pool. Re-compute.\n",
      "Feature for (MD662,189,(5247,1802)) is not in pool. Re-compute.\n",
      "Feature for (MD662,189,(5312,1412)) is not in pool. Re-compute.\n",
      "Feature for (MD662,189,(5312,1477)) is not in pool. Re-compute.\n",
      "Feature for (MD662,189,(5312,1542)) is not in pool. Re-compute.\n",
      "Feature for (MD662,189,(5312,1607)) is not in pool. Re-compute.\n",
      "Feature for (MD662,189,(5312,1672)) is not in pool. Re-compute.\n",
      "Feature for (MD662,189,(5312,1737)) is not in pool. Re-compute.\n",
      "Feature for (MD662,189,(5377,1347)) is not in pool. Re-compute.\n",
      "Feature for (MD662,189,(5377,1412)) is not in pool. Re-compute.\n",
      "Feature for (MD662,189,(5377,1477)) is not in pool. Re-compute.\n",
      "Feature for (MD662,189,(5377,1542)) is not in pool. Re-compute.\n",
      "Feature for (MD662,189,(5377,1607)) is not in pool. Re-compute.\n",
      "Feature for (MD662,189,(5377,1672)) is not in pool. Re-compute.\n",
      "Feature for (MD662,189,(5442,1412)) is not in pool. Re-compute.\n",
      "Feature for (MD662,189,(5442,1477)) is not in pool. Re-compute.\n",
      "Feature for (MD662,189,(5442,1542)) is not in pool. Re-compute.\n",
      "Feature for (MD662,189,(5442,1607)) is not in pool. Re-compute.\n",
      "Feature for (MD662,189,(5507,1412)) is not in pool. Re-compute.\n",
      "Feature for (MD662,189,(5507,1477)) is not in pool. Re-compute.\n",
      "Feature for (MD662,189,(5507,1542)) is not in pool. Re-compute.\n",
      "Feature for (MD662,189,(5507,1607)) is not in pool. Re-compute.\n",
      "Feature for (MD662,189,(5572,1412)) is not in pool. Re-compute.\n",
      "Feature for (MD662,189,(5572,1477)) is not in pool. Re-compute.\n",
      "Feature for (MD662,189,(5572,1542)) is not in pool. Re-compute.\n",
      "Feature for (MD662,189,(5572,1607)) is not in pool. Re-compute.\n",
      "Feature for (MD662,189,(5637,1412)) is not in pool. Re-compute.\n",
      "Feature for (MD662,189,(5637,1477)) is not in pool. Re-compute.\n",
      "Feature for (MD662,189,(5637,1542)) is not in pool. Re-compute.\n",
      "Feature for (MD662,189,(5637,1607)) is not in pool. Re-compute.\n",
      "Feature for (MD662,189,(5702,1412)) is not in pool. Re-compute.\n",
      "Feature for (MD662,189,(5702,1477)) is not in pool. Re-compute.\n",
      "Feature for (MD662,189,(5702,1542)) is not in pool. Re-compute.\n",
      "Feature for (MD662,189,(5767,1477)) is not in pool. Re-compute.\n",
      "Feature for (MD662,189,(5767,1542)) is not in pool. Re-compute.\n",
      "Feature for (MD662,189,(5832,1542)) is not in pool. Re-compute.\n",
      "Not using image_cache.\n",
      "Load image: 14.26 seconds.\n",
      "Extract patches: 14.39 seconds\n"
     ]
    },
    {
     "name": "stdout",
     "output_type": "stream",
     "text": [
      "(256, 1, 224, 224)\n"
     ]
    },
    {
     "name": "stderr",
     "output_type": "stream",
     "text": [
      "Compute features: 0.38 seconds\n"
     ]
    },
    {
     "name": "stdout",
     "output_type": "stream",
     "text": [
      "('MD661', 219)\n"
     ]
    },
    {
     "name": "stderr",
     "output_type": "stream",
     "text": [
      "Feature for (MD661,219,(6222,762)) is not in pool. Re-compute.\n",
      "Feature for (MD661,219,(6222,827)) is not in pool. Re-compute.\n",
      "Feature for (MD661,219,(6287,762)) is not in pool. Re-compute.\n",
      "Feature for (MD661,219,(6287,827)) is not in pool. Re-compute.\n",
      "Feature for (MD661,219,(6352,632)) is not in pool. Re-compute.\n",
      "Feature for (MD661,219,(6352,697)) is not in pool. Re-compute.\n",
      "Feature for (MD661,219,(6352,762)) is not in pool. Re-compute.\n",
      "Feature for (MD661,219,(6352,827)) is not in pool. Re-compute.\n",
      "Feature for (MD661,219,(6417,567)) is not in pool. Re-compute.\n",
      "Feature for (MD661,219,(6417,632)) is not in pool. Re-compute.\n",
      "Feature for (MD661,219,(6417,697)) is not in pool. Re-compute.\n",
      "Feature for (MD661,219,(6417,762)) is not in pool. Re-compute.\n",
      "Feature for (MD661,219,(6417,827)) is not in pool. Re-compute.\n",
      "Feature for (MD661,219,(6482,502)) is not in pool. Re-compute.\n",
      "Feature for (MD661,219,(6482,567)) is not in pool. Re-compute.\n",
      "Feature for (MD661,219,(6482,632)) is not in pool. Re-compute.\n",
      "Feature for (MD661,219,(6482,697)) is not in pool. Re-compute.\n",
      "Feature for (MD661,219,(6482,762)) is not in pool. Re-compute.\n",
      "Feature for (MD661,219,(6547,502)) is not in pool. Re-compute.\n",
      "Feature for (MD661,219,(6547,567)) is not in pool. Re-compute.\n",
      "Feature for (MD661,219,(6547,632)) is not in pool. Re-compute.\n",
      "Feature for (MD661,219,(6547,697)) is not in pool. Re-compute.\n",
      "Feature for (MD661,219,(6547,762)) is not in pool. Re-compute.\n",
      "Feature for (MD661,219,(6612,437)) is not in pool. Re-compute.\n",
      "Feature for (MD661,219,(6612,502)) is not in pool. Re-compute.\n",
      "Feature for (MD661,219,(6612,567)) is not in pool. Re-compute.\n",
      "Feature for (MD661,219,(6612,632)) is not in pool. Re-compute.\n",
      "Feature for (MD661,219,(6612,697)) is not in pool. Re-compute.\n",
      "Feature for (MD661,219,(6677,437)) is not in pool. Re-compute.\n",
      "Feature for (MD661,219,(6677,502)) is not in pool. Re-compute.\n",
      "Feature for (MD661,219,(6677,567)) is not in pool. Re-compute.\n",
      "Feature for (MD661,219,(6742,502)) is not in pool. Re-compute.\n",
      "Feature for (MD661,219,(6742,567)) is not in pool. Re-compute.\n",
      "Feature for (MD661,219,(6742,632)) is not in pool. Re-compute.\n",
      "Feature for (MD661,219,(6742,697)) is not in pool. Re-compute.\n",
      "Feature for (MD661,219,(6742,762)) is not in pool. Re-compute.\n",
      "Feature for (MD661,219,(6807,502)) is not in pool. Re-compute.\n",
      "Feature for (MD661,219,(6807,567)) is not in pool. Re-compute.\n",
      "Feature for (MD661,219,(6807,632)) is not in pool. Re-compute.\n",
      "Feature for (MD661,219,(6807,697)) is not in pool. Re-compute.\n",
      "Feature for (MD661,219,(6807,762)) is not in pool. Re-compute.\n",
      "Feature for (MD661,219,(6872,567)) is not in pool. Re-compute.\n",
      "Feature for (MD661,219,(6872,632)) is not in pool. Re-compute.\n",
      "Feature for (MD661,219,(6872,697)) is not in pool. Re-compute.\n",
      "Feature for (MD661,219,(6872,762)) is not in pool. Re-compute.\n",
      "Feature for (MD661,219,(6937,632)) is not in pool. Re-compute.\n",
      "Feature for (MD661,219,(6937,697)) is not in pool. Re-compute.\n",
      "Feature for (MD661,219,(7002,697)) is not in pool. Re-compute.\n",
      "Not using image_cache.\n",
      "Load image: 18.98 seconds.\n",
      "Extract patches: 19.12 seconds\n"
     ]
    },
    {
     "name": "stdout",
     "output_type": "stream",
     "text": [
      "(256, 1, 224, 224)\n"
     ]
    },
    {
     "name": "stderr",
     "output_type": "stream",
     "text": [
      "Compute features: 0.36 seconds\n"
     ]
    },
    {
     "name": "stdout",
     "output_type": "stream",
     "text": [
      "('MD662', 230)\n"
     ]
    },
    {
     "name": "stderr",
     "output_type": "stream",
     "text": [
      "Feature for (MD662,230,(5312,1672)) is not in pool. Re-compute.\n",
      "Feature for (MD662,230,(5312,1737)) is not in pool. Re-compute.\n",
      "Feature for (MD662,230,(5312,1802)) is not in pool. Re-compute.\n",
      "Feature for (MD662,230,(5377,1607)) is not in pool. Re-compute.\n",
      "Feature for (MD662,230,(5377,1672)) is not in pool. Re-compute.\n",
      "Feature for (MD662,230,(5377,1737)) is not in pool. Re-compute.\n",
      "Feature for (MD662,230,(5442,1542)) is not in pool. Re-compute.\n",
      "Feature for (MD662,230,(5442,1607)) is not in pool. Re-compute.\n",
      "Feature for (MD662,230,(5442,1672)) is not in pool. Re-compute.\n",
      "Feature for (MD662,230,(5507,1542)) is not in pool. Re-compute.\n",
      "Feature for (MD662,230,(5507,1607)) is not in pool. Re-compute.\n",
      "Feature for (MD662,230,(5507,1672)) is not in pool. Re-compute.\n",
      "Feature for (MD662,230,(5572,1542)) is not in pool. Re-compute.\n",
      "Feature for (MD662,230,(5572,1607)) is not in pool. Re-compute.\n",
      "Feature for (MD662,230,(5637,1477)) is not in pool. Re-compute.\n",
      "Feature for (MD662,230,(5637,1542)) is not in pool. Re-compute.\n",
      "Feature for (MD662,230,(5637,1607)) is not in pool. Re-compute.\n",
      "Feature for (MD662,230,(5702,1477)) is not in pool. Re-compute.\n",
      "Not using image_cache.\n",
      "Load image: 15.79 seconds.\n",
      "Extract patches: 15.87 seconds\n"
     ]
    },
    {
     "name": "stdout",
     "output_type": "stream",
     "text": [
      "(256, 1, 224, 224)\n"
     ]
    },
    {
     "name": "stderr",
     "output_type": "stream",
     "text": [
      "Compute features: 0.37 seconds\n"
     ]
    },
    {
     "name": "stdout",
     "output_type": "stream",
     "text": [
      "('MD661', 200)\n"
     ]
    },
    {
     "name": "stderr",
     "output_type": "stream",
     "text": [
      "Feature for (MD661,200,(6027,827)) is not in pool. Re-compute.\n",
      "Feature for (MD661,200,(6027,892)) is not in pool. Re-compute.\n",
      "Feature for (MD661,200,(6092,632)) is not in pool. Re-compute.\n",
      "Feature for (MD661,200,(6092,697)) is not in pool. Re-compute.\n",
      "Feature for (MD661,200,(6092,762)) is not in pool. Re-compute.\n",
      "Feature for (MD661,200,(6092,827)) is not in pool. Re-compute.\n",
      "Feature for (MD661,200,(6092,892)) is not in pool. Re-compute.\n",
      "Feature for (MD661,200,(6157,567)) is not in pool. Re-compute.\n",
      "Feature for (MD661,200,(6157,632)) is not in pool. Re-compute.\n",
      "Feature for (MD661,200,(6157,697)) is not in pool. Re-compute.\n",
      "Feature for (MD661,200,(6157,762)) is not in pool. Re-compute.\n",
      "Feature for (MD661,200,(6157,827)) is not in pool. Re-compute.\n",
      "Feature for (MD661,200,(6222,437)) is not in pool. Re-compute.\n",
      "Feature for (MD661,200,(6222,502)) is not in pool. Re-compute.\n",
      "Feature for (MD661,200,(6222,567)) is not in pool. Re-compute.\n",
      "Feature for (MD661,200,(6222,632)) is not in pool. Re-compute.\n",
      "Feature for (MD661,200,(6222,697)) is not in pool. Re-compute.\n",
      "Feature for (MD661,200,(6222,762)) is not in pool. Re-compute.\n",
      "Feature for (MD661,200,(6287,437)) is not in pool. Re-compute.\n",
      "Feature for (MD661,200,(6287,502)) is not in pool. Re-compute.\n",
      "Feature for (MD661,200,(6287,567)) is not in pool. Re-compute.\n",
      "Feature for (MD661,200,(6287,632)) is not in pool. Re-compute.\n",
      "Feature for (MD661,200,(6287,697)) is not in pool. Re-compute.\n",
      "Feature for (MD661,200,(6352,437)) is not in pool. Re-compute.\n",
      "Feature for (MD661,200,(6352,502)) is not in pool. Re-compute.\n",
      "Feature for (MD661,200,(6352,567)) is not in pool. Re-compute.\n",
      "Feature for (MD661,200,(6417,437)) is not in pool. Re-compute.\n",
      "Feature for (MD661,200,(6417,502)) is not in pool. Re-compute.\n",
      "Feature for (MD661,200,(6482,437)) is not in pool. Re-compute.\n",
      "Feature for (MD661,200,(6482,502)) is not in pool. Re-compute.\n",
      "Feature for (MD661,200,(6482,567)) is not in pool. Re-compute.\n",
      "Feature for (MD661,200,(6547,502)) is not in pool. Re-compute.\n",
      "Feature for (MD661,200,(6547,567)) is not in pool. Re-compute.\n",
      "Feature for (MD661,200,(6547,632)) is not in pool. Re-compute.\n",
      "Feature for (MD661,200,(6612,502)) is not in pool. Re-compute.\n",
      "Feature for (MD661,200,(6612,567)) is not in pool. Re-compute.\n",
      "Feature for (MD661,200,(6612,632)) is not in pool. Re-compute.\n",
      "Feature for (MD661,200,(6677,567)) is not in pool. Re-compute.\n",
      "Not using image_cache.\n",
      "Load image: 16.54 seconds.\n",
      "Extract patches: 16.67 seconds\n"
     ]
    },
    {
     "name": "stdout",
     "output_type": "stream",
     "text": [
      "(256, 1, 224, 224)\n"
     ]
    },
    {
     "name": "stderr",
     "output_type": "stream",
     "text": [
      "Compute features: 0.36 seconds\n"
     ]
    },
    {
     "name": "stdout",
     "output_type": "stream",
     "text": [
      "('MD662', 206)\n"
     ]
    },
    {
     "name": "stderr",
     "output_type": "stream",
     "text": [
      "Feature for (MD662,206,(5182,1737)) is not in pool. Re-compute.\n",
      "Feature for (MD662,206,(5247,1607)) is not in pool. Re-compute.\n",
      "Feature for (MD662,206,(5247,1672)) is not in pool. Re-compute.\n",
      "Feature for (MD662,206,(5247,1737)) is not in pool. Re-compute.\n",
      "Feature for (MD662,206,(5312,1542)) is not in pool. Re-compute.\n",
      "Feature for (MD662,206,(5312,1607)) is not in pool. Re-compute.\n",
      "Feature for (MD662,206,(5312,1672)) is not in pool. Re-compute.\n",
      "Feature for (MD662,206,(5312,1737)) is not in pool. Re-compute.\n",
      "Feature for (MD662,206,(5377,1477)) is not in pool. Re-compute.\n",
      "Feature for (MD662,206,(5377,1542)) is not in pool. Re-compute.\n",
      "Feature for (MD662,206,(5377,1607)) is not in pool. Re-compute.\n",
      "Feature for (MD662,206,(5377,1672)) is not in pool. Re-compute.\n",
      "Feature for (MD662,206,(5377,1737)) is not in pool. Re-compute.\n",
      "Feature for (MD662,206,(5442,1412)) is not in pool. Re-compute.\n",
      "Feature for (MD662,206,(5442,1477)) is not in pool. Re-compute.\n",
      "Feature for (MD662,206,(5442,1542)) is not in pool. Re-compute.\n",
      "Feature for (MD662,206,(5442,1607)) is not in pool. Re-compute.\n",
      "Feature for (MD662,206,(5442,1672)) is not in pool. Re-compute.\n",
      "Feature for (MD662,206,(5507,1347)) is not in pool. Re-compute.\n",
      "Feature for (MD662,206,(5507,1412)) is not in pool. Re-compute.\n",
      "Feature for (MD662,206,(5507,1477)) is not in pool. Re-compute.\n",
      "Feature for (MD662,206,(5507,1542)) is not in pool. Re-compute.\n",
      "Feature for (MD662,206,(5507,1607)) is not in pool. Re-compute.\n",
      "Feature for (MD662,206,(5507,1672)) is not in pool. Re-compute.\n",
      "Feature for (MD662,206,(5572,1347)) is not in pool. Re-compute.\n",
      "Feature for (MD662,206,(5572,1412)) is not in pool. Re-compute.\n",
      "Feature for (MD662,206,(5572,1477)) is not in pool. Re-compute.\n",
      "Feature for (MD662,206,(5572,1542)) is not in pool. Re-compute.\n",
      "Feature for (MD662,206,(5572,1607)) is not in pool. Re-compute.\n",
      "Feature for (MD662,206,(5572,1672)) is not in pool. Re-compute.\n",
      "Feature for (MD662,206,(5637,1282)) is not in pool. Re-compute.\n",
      "Feature for (MD662,206,(5637,1347)) is not in pool. Re-compute.\n",
      "Feature for (MD662,206,(5637,1412)) is not in pool. Re-compute.\n",
      "Feature for (MD662,206,(5637,1477)) is not in pool. Re-compute.\n",
      "Feature for (MD662,206,(5637,1542)) is not in pool. Re-compute.\n",
      "Feature for (MD662,206,(5637,1607)) is not in pool. Re-compute.\n",
      "Feature for (MD662,206,(5702,1217)) is not in pool. Re-compute.\n",
      "Feature for (MD662,206,(5702,1282)) is not in pool. Re-compute.\n",
      "Feature for (MD662,206,(5702,1347)) is not in pool. Re-compute.\n",
      "Feature for (MD662,206,(5702,1412)) is not in pool. Re-compute.\n",
      "Feature for (MD662,206,(5702,1477)) is not in pool. Re-compute.\n",
      "Feature for (MD662,206,(5702,1542)) is not in pool. Re-compute.\n",
      "Feature for (MD662,206,(5702,1607)) is not in pool. Re-compute.\n",
      "Feature for (MD662,206,(5767,1282)) is not in pool. Re-compute.\n",
      "Feature for (MD662,206,(5767,1347)) is not in pool. Re-compute.\n",
      "Feature for (MD662,206,(5767,1412)) is not in pool. Re-compute.\n",
      "Feature for (MD662,206,(5767,1477)) is not in pool. Re-compute.\n",
      "Feature for (MD662,206,(5767,1542)) is not in pool. Re-compute.\n",
      "Feature for (MD662,206,(5767,1607)) is not in pool. Re-compute.\n",
      "Feature for (MD662,206,(5832,1282)) is not in pool. Re-compute.\n",
      "Feature for (MD662,206,(5832,1347)) is not in pool. Re-compute.\n",
      "Feature for (MD662,206,(5832,1412)) is not in pool. Re-compute.\n",
      "Feature for (MD662,206,(5832,1477)) is not in pool. Re-compute.\n",
      "Feature for (MD662,206,(5832,1542)) is not in pool. Re-compute.\n",
      "Feature for (MD662,206,(5897,1347)) is not in pool. Re-compute.\n",
      "Feature for (MD662,206,(5897,1412)) is not in pool. Re-compute.\n",
      "Feature for (MD662,206,(5897,1477)) is not in pool. Re-compute.\n",
      "Feature for (MD662,206,(5897,1542)) is not in pool. Re-compute.\n",
      "Feature for (MD662,206,(5962,1412)) is not in pool. Re-compute.\n",
      "Feature for (MD662,206,(5962,1477)) is not in pool. Re-compute.\n",
      "Not using image_cache.\n",
      "Load image: 15.62 seconds.\n",
      "Extract patches: 15.78 seconds\n"
     ]
    },
    {
     "name": "stdout",
     "output_type": "stream",
     "text": [
      "(256, 1, 224, 224)\n"
     ]
    },
    {
     "name": "stderr",
     "output_type": "stream",
     "text": [
      "Compute features: 0.36 seconds\n"
     ]
    },
    {
     "name": "stdout",
     "output_type": "stream",
     "text": [
      "('MD661', 297)\n",
      "('MD661', 197)\n"
     ]
    },
    {
     "name": "stderr",
     "output_type": "stream",
     "text": [
      "Feature for (MD661,197,(6027,827)) is not in pool. Re-compute.\n",
      "Feature for (MD661,197,(6027,892)) is not in pool. Re-compute.\n",
      "Feature for (MD661,197,(6027,957)) is not in pool. Re-compute.\n",
      "Feature for (MD661,197,(6092,697)) is not in pool. Re-compute.\n",
      "Feature for (MD661,197,(6092,762)) is not in pool. Re-compute.\n",
      "Feature for (MD661,197,(6092,827)) is not in pool. Re-compute.\n",
      "Feature for (MD661,197,(6092,892)) is not in pool. Re-compute.\n",
      "Feature for (MD661,197,(6157,567)) is not in pool. Re-compute.\n",
      "Feature for (MD661,197,(6157,632)) is not in pool. Re-compute.\n",
      "Feature for (MD661,197,(6157,697)) is not in pool. Re-compute.\n",
      "Feature for (MD661,197,(6157,762)) is not in pool. Re-compute.\n",
      "Feature for (MD661,197,(6157,827)) is not in pool. Re-compute.\n",
      "Feature for (MD661,197,(6222,437)) is not in pool. Re-compute.\n",
      "Feature for (MD661,197,(6222,502)) is not in pool. Re-compute.\n",
      "Feature for (MD661,197,(6222,567)) is not in pool. Re-compute.\n",
      "Feature for (MD661,197,(6222,632)) is not in pool. Re-compute.\n",
      "Feature for (MD661,197,(6222,697)) is not in pool. Re-compute.\n",
      "Feature for (MD661,197,(6287,437)) is not in pool. Re-compute.\n",
      "Feature for (MD661,197,(6287,502)) is not in pool. Re-compute.\n",
      "Feature for (MD661,197,(6287,567)) is not in pool. Re-compute.\n",
      "Feature for (MD661,197,(6287,632)) is not in pool. Re-compute.\n",
      "Feature for (MD661,197,(6352,502)) is not in pool. Re-compute.\n",
      "Feature for (MD661,197,(6417,502)) is not in pool. Re-compute.\n",
      "Feature for (MD661,197,(6417,567)) is not in pool. Re-compute.\n",
      "Feature for (MD661,197,(6417,632)) is not in pool. Re-compute.\n",
      "Feature for (MD661,197,(6417,697)) is not in pool. Re-compute.\n",
      "Feature for (MD661,197,(6482,502)) is not in pool. Re-compute.\n",
      "Feature for (MD661,197,(6482,567)) is not in pool. Re-compute.\n",
      "Feature for (MD661,197,(6482,632)) is not in pool. Re-compute.\n",
      "Feature for (MD661,197,(6482,697)) is not in pool. Re-compute.\n",
      "Feature for (MD661,197,(6547,567)) is not in pool. Re-compute.\n",
      "Feature for (MD661,197,(6547,632)) is not in pool. Re-compute.\n",
      "Feature for (MD661,197,(6612,567)) is not in pool. Re-compute.\n",
      "Not using image_cache.\n",
      "Load image: 17.72 seconds.\n",
      "Extract patches: 17.86 seconds\n"
     ]
    },
    {
     "name": "stdout",
     "output_type": "stream",
     "text": [
      "(256, 1, 224, 224)\n"
     ]
    },
    {
     "name": "stderr",
     "output_type": "stream",
     "text": [
      "Compute features: 0.38 seconds\n"
     ]
    },
    {
     "name": "stdout",
     "output_type": "stream",
     "text": [
      "('MD661', 176)\n",
      "('MD662', 294)\n",
      "('MD661', 294)\n"
     ]
    },
    {
     "name": "stderr",
     "output_type": "stream",
     "text": [
      "Feature for (MD661,294,(6027,1477)) is not in pool. Re-compute.\n",
      "Feature for (MD661,294,(6092,1477)) is not in pool. Re-compute.\n",
      "Not using image_cache.\n",
      "Load image: 18.70 seconds.\n",
      "Extract patches: 18.78 seconds\n"
     ]
    },
    {
     "name": "stdout",
     "output_type": "stream",
     "text": [
      "(256, 1, 224, 224)\n"
     ]
    },
    {
     "name": "stderr",
     "output_type": "stream",
     "text": [
      "Compute features: 0.36 seconds\n"
     ]
    },
    {
     "name": "stdout",
     "output_type": "stream",
     "text": [
      "('MD662', 183)\n"
     ]
    },
    {
     "name": "stderr",
     "output_type": "stream",
     "text": [
      "Feature for (MD662,183,(5117,1737)) is not in pool. Re-compute.\n",
      "Feature for (MD662,183,(5117,1802)) is not in pool. Re-compute.\n",
      "Feature for (MD662,183,(5117,1867)) is not in pool. Re-compute.\n",
      "Feature for (MD662,183,(5117,1932)) is not in pool. Re-compute.\n",
      "Feature for (MD662,183,(5117,1997)) is not in pool. Re-compute.\n",
      "Feature for (MD662,183,(5117,2062)) is not in pool. Re-compute.\n",
      "Feature for (MD662,183,(5117,2127)) is not in pool. Re-compute.\n",
      "Feature for (MD662,183,(5182,1607)) is not in pool. Re-compute.\n",
      "Feature for (MD662,183,(5182,1672)) is not in pool. Re-compute.\n",
      "Feature for (MD662,183,(5182,1737)) is not in pool. Re-compute.\n",
      "Feature for (MD662,183,(5182,1802)) is not in pool. Re-compute.\n",
      "Feature for (MD662,183,(5182,1867)) is not in pool. Re-compute.\n",
      "Feature for (MD662,183,(5182,1932)) is not in pool. Re-compute.\n",
      "Feature for (MD662,183,(5182,1997)) is not in pool. Re-compute.\n",
      "Feature for (MD662,183,(5182,2062)) is not in pool. Re-compute.\n",
      "Feature for (MD662,183,(5247,1542)) is not in pool. Re-compute.\n",
      "Feature for (MD662,183,(5247,1607)) is not in pool. Re-compute.\n",
      "Feature for (MD662,183,(5247,1672)) is not in pool. Re-compute.\n",
      "Feature for (MD662,183,(5247,1737)) is not in pool. Re-compute.\n",
      "Feature for (MD662,183,(5247,1802)) is not in pool. Re-compute.\n",
      "Feature for (MD662,183,(5247,1867)) is not in pool. Re-compute.\n",
      "Feature for (MD662,183,(5247,1932)) is not in pool. Re-compute.\n",
      "Feature for (MD662,183,(5247,1997)) is not in pool. Re-compute.\n",
      "Feature for (MD662,183,(5312,1542)) is not in pool. Re-compute.\n",
      "Feature for (MD662,183,(5312,1607)) is not in pool. Re-compute.\n",
      "Feature for (MD662,183,(5312,1672)) is not in pool. Re-compute.\n",
      "Feature for (MD662,183,(5312,1737)) is not in pool. Re-compute.\n",
      "Feature for (MD662,183,(5312,1802)) is not in pool. Re-compute.\n",
      "Feature for (MD662,183,(5312,1867)) is not in pool. Re-compute.\n",
      "Feature for (MD662,183,(5377,1542)) is not in pool. Re-compute.\n",
      "Feature for (MD662,183,(5377,1607)) is not in pool. Re-compute.\n",
      "Feature for (MD662,183,(5377,1672)) is not in pool. Re-compute.\n",
      "Feature for (MD662,183,(5377,1737)) is not in pool. Re-compute.\n",
      "Feature for (MD662,183,(5377,1802)) is not in pool. Re-compute.\n",
      "Feature for (MD662,183,(5442,1542)) is not in pool. Re-compute.\n",
      "Feature for (MD662,183,(5442,1607)) is not in pool. Re-compute.\n",
      "Feature for (MD662,183,(5442,1672)) is not in pool. Re-compute.\n",
      "Feature for (MD662,183,(5442,1737)) is not in pool. Re-compute.\n",
      "Feature for (MD662,183,(5507,1542)) is not in pool. Re-compute.\n",
      "Feature for (MD662,183,(5507,1607)) is not in pool. Re-compute.\n",
      "Feature for (MD662,183,(5507,1672)) is not in pool. Re-compute.\n",
      "Feature for (MD662,183,(5507,1737)) is not in pool. Re-compute.\n",
      "Feature for (MD662,183,(5572,1542)) is not in pool. Re-compute.\n",
      "Feature for (MD662,183,(5572,1607)) is not in pool. Re-compute.\n",
      "Feature for (MD662,183,(5572,1672)) is not in pool. Re-compute.\n",
      "Feature for (MD662,183,(5637,1607)) is not in pool. Re-compute.\n",
      "Feature for (MD662,183,(5637,1672)) is not in pool. Re-compute.\n",
      "Feature for (MD662,183,(5702,1607)) is not in pool. Re-compute.\n",
      "Feature for (MD662,183,(5767,1607)) is not in pool. Re-compute.\n",
      "Not using image_cache.\n",
      "Load image: 15.82 seconds.\n",
      "Extract patches: 15.95 seconds\n"
     ]
    },
    {
     "name": "stdout",
     "output_type": "stream",
     "text": [
      "(256, 1, 224, 224)\n"
     ]
    },
    {
     "name": "stderr",
     "output_type": "stream",
     "text": [
      "Compute features: 0.36 seconds\n"
     ]
    },
    {
     "name": "stdout",
     "output_type": "stream",
     "text": [
      "('MD662', 174)\n"
     ]
    },
    {
     "name": "stderr",
     "output_type": "stream",
     "text": [
      "Feature for (MD662,174,(5117,1932)) is not in pool. Re-compute.\n",
      "Feature for (MD662,174,(5117,1997)) is not in pool. Re-compute.\n",
      "Feature for (MD662,174,(5117,2062)) is not in pool. Re-compute.\n",
      "Feature for (MD662,174,(5117,2127)) is not in pool. Re-compute.\n",
      "Feature for (MD662,174,(5117,2192)) is not in pool. Re-compute.\n",
      "Feature for (MD662,174,(5117,2257)) is not in pool. Re-compute.\n",
      "Feature for (MD662,174,(5117,2322)) is not in pool. Re-compute.\n",
      "Feature for (MD662,174,(5117,2387)) is not in pool. Re-compute.\n",
      "Feature for (MD662,174,(5117,2452)) is not in pool. Re-compute.\n",
      "Feature for (MD662,174,(5182,1802)) is not in pool. Re-compute.\n",
      "Feature for (MD662,174,(5182,1867)) is not in pool. Re-compute.\n",
      "Feature for (MD662,174,(5182,1932)) is not in pool. Re-compute.\n",
      "Feature for (MD662,174,(5182,1997)) is not in pool. Re-compute.\n",
      "Feature for (MD662,174,(5182,2062)) is not in pool. Re-compute.\n",
      "Feature for (MD662,174,(5182,2127)) is not in pool. Re-compute.\n",
      "Feature for (MD662,174,(5182,2192)) is not in pool. Re-compute.\n",
      "Feature for (MD662,174,(5182,2257)) is not in pool. Re-compute.\n",
      "Feature for (MD662,174,(5247,1802)) is not in pool. Re-compute.\n",
      "Feature for (MD662,174,(5247,1867)) is not in pool. Re-compute.\n",
      "Feature for (MD662,174,(5247,1932)) is not in pool. Re-compute.\n",
      "Feature for (MD662,174,(5247,1997)) is not in pool. Re-compute.\n",
      "Feature for (MD662,174,(5247,2062)) is not in pool. Re-compute.\n",
      "Feature for (MD662,174,(5247,2127)) is not in pool. Re-compute.\n",
      "Feature for (MD662,174,(5312,1802)) is not in pool. Re-compute.\n",
      "Feature for (MD662,174,(5312,1867)) is not in pool. Re-compute.\n",
      "Feature for (MD662,174,(5312,1932)) is not in pool. Re-compute.\n",
      "Feature for (MD662,174,(5312,1997)) is not in pool. Re-compute.\n",
      "Feature for (MD662,174,(5377,1802)) is not in pool. Re-compute.\n",
      "Feature for (MD662,174,(5377,1867)) is not in pool. Re-compute.\n",
      "Feature for (MD662,174,(5377,1932)) is not in pool. Re-compute.\n",
      "Feature for (MD662,174,(5442,1802)) is not in pool. Re-compute.\n",
      "Feature for (MD662,174,(5442,1867)) is not in pool. Re-compute.\n",
      "Feature for (MD662,174,(5507,1802)) is not in pool. Re-compute.\n",
      "Not using image_cache.\n",
      "Load image: 13.96 seconds.\n",
      "Extract patches: 14.07 seconds\n"
     ]
    },
    {
     "name": "stdout",
     "output_type": "stream",
     "text": [
      "(256, 1, 224, 224)\n"
     ]
    },
    {
     "name": "stderr",
     "output_type": "stream",
     "text": [
      "Compute features: 0.37 seconds\n"
     ]
    },
    {
     "name": "stdout",
     "output_type": "stream",
     "text": [
      "('MD662', 191)\n"
     ]
    },
    {
     "name": "stderr",
     "output_type": "stream",
     "text": [
      "Feature for (MD662,191,(5117,1867)) is not in pool. Re-compute.\n",
      "Feature for (MD662,191,(5117,1932)) is not in pool. Re-compute.\n",
      "Feature for (MD662,191,(5182,1542)) is not in pool. Re-compute.\n",
      "Feature for (MD662,191,(5182,1607)) is not in pool. Re-compute.\n",
      "Feature for (MD662,191,(5182,1672)) is not in pool. Re-compute.\n",
      "Feature for (MD662,191,(5182,1737)) is not in pool. Re-compute.\n",
      "Feature for (MD662,191,(5182,1802)) is not in pool. Re-compute.\n",
      "Feature for (MD662,191,(5182,1867)) is not in pool. Re-compute.\n",
      "Feature for (MD662,191,(5182,1932)) is not in pool. Re-compute.\n",
      "Feature for (MD662,191,(5247,1412)) is not in pool. Re-compute.\n",
      "Feature for (MD662,191,(5247,1477)) is not in pool. Re-compute.\n",
      "Feature for (MD662,191,(5247,1542)) is not in pool. Re-compute.\n",
      "Feature for (MD662,191,(5247,1607)) is not in pool. Re-compute.\n",
      "Feature for (MD662,191,(5247,1672)) is not in pool. Re-compute.\n",
      "Feature for (MD662,191,(5247,1737)) is not in pool. Re-compute.\n",
      "Feature for (MD662,191,(5247,1802)) is not in pool. Re-compute.\n",
      "Feature for (MD662,191,(5312,1347)) is not in pool. Re-compute.\n",
      "Feature for (MD662,191,(5312,1412)) is not in pool. Re-compute.\n",
      "Feature for (MD662,191,(5312,1477)) is not in pool. Re-compute.\n",
      "Feature for (MD662,191,(5312,1542)) is not in pool. Re-compute.\n",
      "Feature for (MD662,191,(5312,1607)) is not in pool. Re-compute.\n",
      "Feature for (MD662,191,(5312,1672)) is not in pool. Re-compute.\n",
      "Feature for (MD662,191,(5377,1347)) is not in pool. Re-compute.\n",
      "Feature for (MD662,191,(5377,1412)) is not in pool. Re-compute.\n",
      "Feature for (MD662,191,(5377,1477)) is not in pool. Re-compute.\n",
      "Feature for (MD662,191,(5377,1542)) is not in pool. Re-compute.\n",
      "Feature for (MD662,191,(5377,1607)) is not in pool. Re-compute.\n",
      "Feature for (MD662,191,(5377,1672)) is not in pool. Re-compute.\n",
      "Feature for (MD662,191,(5442,1347)) is not in pool. Re-compute.\n",
      "Feature for (MD662,191,(5442,1412)) is not in pool. Re-compute.\n",
      "Feature for (MD662,191,(5442,1477)) is not in pool. Re-compute.\n",
      "Feature for (MD662,191,(5442,1542)) is not in pool. Re-compute.\n",
      "Feature for (MD662,191,(5442,1607)) is not in pool. Re-compute.\n",
      "Feature for (MD662,191,(5507,1347)) is not in pool. Re-compute.\n",
      "Feature for (MD662,191,(5507,1412)) is not in pool. Re-compute.\n",
      "Feature for (MD662,191,(5507,1477)) is not in pool. Re-compute.\n",
      "Feature for (MD662,191,(5507,1542)) is not in pool. Re-compute.\n",
      "Feature for (MD662,191,(5507,1607)) is not in pool. Re-compute.\n",
      "Feature for (MD662,191,(5572,1347)) is not in pool. Re-compute.\n",
      "Feature for (MD662,191,(5572,1412)) is not in pool. Re-compute.\n",
      "Feature for (MD662,191,(5572,1477)) is not in pool. Re-compute.\n",
      "Feature for (MD662,191,(5572,1542)) is not in pool. Re-compute.\n",
      "Feature for (MD662,191,(5572,1607)) is not in pool. Re-compute.\n",
      "Feature for (MD662,191,(5637,1412)) is not in pool. Re-compute.\n",
      "Feature for (MD662,191,(5637,1477)) is not in pool. Re-compute.\n",
      "Feature for (MD662,191,(5637,1542)) is not in pool. Re-compute.\n",
      "Feature for (MD662,191,(5702,1412)) is not in pool. Re-compute.\n",
      "Feature for (MD662,191,(5702,1477)) is not in pool. Re-compute.\n",
      "Feature for (MD662,191,(5702,1542)) is not in pool. Re-compute.\n",
      "Feature for (MD662,191,(5767,1412)) is not in pool. Re-compute.\n",
      "Feature for (MD662,191,(5767,1477)) is not in pool. Re-compute.\n",
      "Feature for (MD662,191,(5767,1542)) is not in pool. Re-compute.\n",
      "Feature for (MD662,191,(5832,1477)) is not in pool. Re-compute.\n",
      "Not using image_cache.\n",
      "Load image: 15.49 seconds.\n",
      "Extract patches: 15.62 seconds\n"
     ]
    },
    {
     "name": "stdout",
     "output_type": "stream",
     "text": [
      "(256, 1, 224, 224)\n"
     ]
    },
    {
     "name": "stderr",
     "output_type": "stream",
     "text": [
      "Compute features: 0.36 seconds\n"
     ]
    },
    {
     "name": "stdout",
     "output_type": "stream",
     "text": [
      "('MD661', 173)\n",
      "('MD661', 280)\n"
     ]
    },
    {
     "name": "stderr",
     "output_type": "stream",
     "text": [
      "Feature for (MD661,280,(5767,1542)) is not in pool. Re-compute.\n",
      "Feature for (MD661,280,(5767,1607)) is not in pool. Re-compute.\n",
      "Feature for (MD661,280,(5767,1672)) is not in pool. Re-compute.\n",
      "Feature for (MD661,280,(5767,1737)) is not in pool. Re-compute.\n",
      "Feature for (MD661,280,(5832,1282)) is not in pool. Re-compute.\n",
      "Feature for (MD661,280,(5832,1347)) is not in pool. Re-compute.\n",
      "Feature for (MD661,280,(5832,1412)) is not in pool. Re-compute.\n",
      "Feature for (MD661,280,(5832,1477)) is not in pool. Re-compute.\n",
      "Feature for (MD661,280,(5832,1542)) is not in pool. Re-compute.\n",
      "Feature for (MD661,280,(5832,1607)) is not in pool. Re-compute.\n",
      "Feature for (MD661,280,(5897,1217)) is not in pool. Re-compute.\n",
      "Feature for (MD661,280,(5897,1282)) is not in pool. Re-compute.\n",
      "Feature for (MD661,280,(5897,1347)) is not in pool. Re-compute.\n",
      "Feature for (MD661,280,(5897,1412)) is not in pool. Re-compute.\n",
      "Feature for (MD661,280,(5897,1477)) is not in pool. Re-compute.\n",
      "Feature for (MD661,280,(5962,1087)) is not in pool. Re-compute.\n",
      "Feature for (MD661,280,(5962,1152)) is not in pool. Re-compute.\n",
      "Feature for (MD661,280,(5962,1217)) is not in pool. Re-compute.\n",
      "Feature for (MD661,280,(5962,1282)) is not in pool. Re-compute.\n",
      "Feature for (MD661,280,(5962,1347)) is not in pool. Re-compute.\n",
      "Feature for (MD661,280,(5962,1412)) is not in pool. Re-compute.\n",
      "Feature for (MD661,280,(6027,957)) is not in pool. Re-compute.\n",
      "Feature for (MD661,280,(6027,1022)) is not in pool. Re-compute.\n",
      "Feature for (MD661,280,(6027,1087)) is not in pool. Re-compute.\n",
      "Feature for (MD661,280,(6027,1152)) is not in pool. Re-compute.\n",
      "Feature for (MD661,280,(6027,1217)) is not in pool. Re-compute.\n",
      "Feature for (MD661,280,(6027,1282)) is not in pool. Re-compute.\n",
      "Feature for (MD661,280,(6027,1347)) is not in pool. Re-compute.\n",
      "Feature for (MD661,280,(6092,892)) is not in pool. Re-compute.\n",
      "Feature for (MD661,280,(6092,957)) is not in pool. Re-compute.\n",
      "Feature for (MD661,280,(6092,1022)) is not in pool. Re-compute.\n",
      "Feature for (MD661,280,(6092,1087)) is not in pool. Re-compute.\n",
      "Feature for (MD661,280,(6092,1152)) is not in pool. Re-compute.\n",
      "Feature for (MD661,280,(6092,1217)) is not in pool. Re-compute.\n",
      "Feature for (MD661,280,(6092,1282)) is not in pool. Re-compute.\n",
      "Feature for (MD661,280,(6157,827)) is not in pool. Re-compute.\n",
      "Feature for (MD661,280,(6157,892)) is not in pool. Re-compute.\n",
      "Feature for (MD661,280,(6157,957)) is not in pool. Re-compute.\n",
      "Feature for (MD661,280,(6157,1022)) is not in pool. Re-compute.\n",
      "Feature for (MD661,280,(6157,1087)) is not in pool. Re-compute.\n",
      "Feature for (MD661,280,(6157,1152)) is not in pool. Re-compute.\n",
      "Feature for (MD661,280,(6157,1217)) is not in pool. Re-compute.\n",
      "Feature for (MD661,280,(6222,892)) is not in pool. Re-compute.\n",
      "Feature for (MD661,280,(6222,957)) is not in pool. Re-compute.\n",
      "Feature for (MD661,280,(6222,1022)) is not in pool. Re-compute.\n",
      "Feature for (MD661,280,(6222,1087)) is not in pool. Re-compute.\n",
      "Feature for (MD661,280,(6222,1152)) is not in pool. Re-compute.\n",
      "Feature for (MD661,280,(6287,892)) is not in pool. Re-compute.\n",
      "Feature for (MD661,280,(6287,957)) is not in pool. Re-compute.\n",
      "Feature for (MD661,280,(6287,1022)) is not in pool. Re-compute.\n",
      "Feature for (MD661,280,(6287,1087)) is not in pool. Re-compute.\n",
      "Feature for (MD661,280,(6352,892)) is not in pool. Re-compute.\n",
      "Feature for (MD661,280,(6352,957)) is not in pool. Re-compute.\n",
      "Feature for (MD661,280,(6352,1022)) is not in pool. Re-compute.\n",
      "Feature for (MD661,280,(6417,957)) is not in pool. Re-compute.\n",
      "Not using image_cache.\n",
      "Load image: 18.75 seconds.\n",
      "Extract patches: 18.91 seconds\n"
     ]
    },
    {
     "name": "stdout",
     "output_type": "stream",
     "text": [
      "(256, 1, 224, 224)\n"
     ]
    },
    {
     "name": "stderr",
     "output_type": "stream",
     "text": [
      "Compute features: 0.38 seconds\n"
     ]
    },
    {
     "name": "stdout",
     "output_type": "stream",
     "text": [
      "('MD661', 239)\n"
     ]
    },
    {
     "name": "stderr",
     "output_type": "stream",
     "text": [
      "Feature for (MD661,239,(6417,1087)) is not in pool. Re-compute.\n",
      "Feature for (MD661,239,(6482,1022)) is not in pool. Re-compute.\n",
      "Feature for (MD661,239,(6482,1087)) is not in pool. Re-compute.\n",
      "Feature for (MD661,239,(6547,957)) is not in pool. Re-compute.\n",
      "Feature for (MD661,239,(6547,1022)) is not in pool. Re-compute.\n",
      "Feature for (MD661,239,(6547,1087)) is not in pool. Re-compute.\n",
      "Feature for (MD661,239,(6612,957)) is not in pool. Re-compute.\n",
      "Feature for (MD661,239,(6612,1022)) is not in pool. Re-compute.\n",
      "Feature for (MD661,239,(6612,1087)) is not in pool. Re-compute.\n",
      "Feature for (MD661,239,(6677,957)) is not in pool. Re-compute.\n",
      "Feature for (MD661,239,(6677,1022)) is not in pool. Re-compute.\n",
      "Feature for (MD661,239,(6677,1087)) is not in pool. Re-compute.\n",
      "Feature for (MD661,239,(6742,892)) is not in pool. Re-compute.\n",
      "Feature for (MD661,239,(6742,957)) is not in pool. Re-compute.\n",
      "Feature for (MD661,239,(6742,1022)) is not in pool. Re-compute.\n",
      "Feature for (MD661,239,(6807,892)) is not in pool. Re-compute.\n",
      "Feature for (MD661,239,(6807,957)) is not in pool. Re-compute.\n",
      "Not using image_cache.\n",
      "Load image: 18.63 seconds.\n",
      "Extract patches: 18.74 seconds\n"
     ]
    },
    {
     "name": "stdout",
     "output_type": "stream",
     "text": [
      "(256, 1, 224, 224)\n"
     ]
    },
    {
     "name": "stderr",
     "output_type": "stream",
     "text": [
      "Compute features: 0.36 seconds\n"
     ]
    },
    {
     "name": "stdout",
     "output_type": "stream",
     "text": [
      "('MD662', 279)\n"
     ]
    },
    {
     "name": "stderr",
     "output_type": "stream",
     "text": [
      "Feature for (MD662,279,(4857,1737)) is not in pool. Re-compute.\n",
      "Feature for (MD662,279,(4857,1802)) is not in pool. Re-compute.\n",
      "Feature for (MD662,279,(4922,1737)) is not in pool. Re-compute.\n",
      "Feature for (MD662,279,(4922,1802)) is not in pool. Re-compute.\n",
      "Feature for (MD662,279,(4987,1737)) is not in pool. Re-compute.\n",
      "Not using image_cache.\n",
      "Load image: 16.80 seconds.\n",
      "Extract patches: 16.89 seconds\n"
     ]
    },
    {
     "name": "stdout",
     "output_type": "stream",
     "text": [
      "(256, 1, 224, 224)\n"
     ]
    },
    {
     "name": "stderr",
     "output_type": "stream",
     "text": [
      "Compute features: 0.36 seconds\n"
     ]
    },
    {
     "name": "stdout",
     "output_type": "stream",
     "text": [
      "('MD661', 277)\n"
     ]
    },
    {
     "name": "stderr",
     "output_type": "stream",
     "text": [
      "Feature for (MD661,277,(5767,1542)) is not in pool. Re-compute.\n",
      "Feature for (MD661,277,(5767,1607)) is not in pool. Re-compute.\n",
      "Feature for (MD661,277,(5832,1347)) is not in pool. Re-compute.\n",
      "Feature for (MD661,277,(5832,1412)) is not in pool. Re-compute.\n",
      "Feature for (MD661,277,(5832,1477)) is not in pool. Re-compute.\n",
      "Feature for (MD661,277,(5832,1542)) is not in pool. Re-compute.\n",
      "Feature for (MD661,277,(5897,1152)) is not in pool. Re-compute.\n",
      "Feature for (MD661,277,(5897,1217)) is not in pool. Re-compute.\n",
      "Feature for (MD661,277,(5897,1282)) is not in pool. Re-compute.\n",
      "Feature for (MD661,277,(5897,1347)) is not in pool. Re-compute.\n",
      "Feature for (MD661,277,(5897,1412)) is not in pool. Re-compute.\n",
      "Feature for (MD661,277,(5897,1477)) is not in pool. Re-compute.\n",
      "Feature for (MD661,277,(5962,1087)) is not in pool. Re-compute.\n",
      "Feature for (MD661,277,(5962,1152)) is not in pool. Re-compute.\n",
      "Feature for (MD661,277,(5962,1217)) is not in pool. Re-compute.\n",
      "Feature for (MD661,277,(5962,1282)) is not in pool. Re-compute.\n",
      "Feature for (MD661,277,(5962,1347)) is not in pool. Re-compute.\n",
      "Feature for (MD661,277,(6027,957)) is not in pool. Re-compute.\n",
      "Feature for (MD661,277,(6027,1022)) is not in pool. Re-compute.\n",
      "Feature for (MD661,277,(6027,1087)) is not in pool. Re-compute.\n",
      "Feature for (MD661,277,(6027,1152)) is not in pool. Re-compute.\n",
      "Feature for (MD661,277,(6027,1217)) is not in pool. Re-compute.\n",
      "Feature for (MD661,277,(6027,1282)) is not in pool. Re-compute.\n",
      "Feature for (MD661,277,(6092,892)) is not in pool. Re-compute.\n",
      "Feature for (MD661,277,(6092,957)) is not in pool. Re-compute.\n",
      "Feature for (MD661,277,(6092,1022)) is not in pool. Re-compute.\n",
      "Feature for (MD661,277,(6092,1087)) is not in pool. Re-compute.\n",
      "Feature for (MD661,277,(6092,1152)) is not in pool. Re-compute.\n",
      "Feature for (MD661,277,(6092,1217)) is not in pool. Re-compute.\n",
      "Feature for (MD661,277,(6157,827)) is not in pool. Re-compute.\n",
      "Feature for (MD661,277,(6157,892)) is not in pool. Re-compute.\n",
      "Feature for (MD661,277,(6157,957)) is not in pool. Re-compute.\n",
      "Feature for (MD661,277,(6157,1022)) is not in pool. Re-compute.\n",
      "Feature for (MD661,277,(6157,1087)) is not in pool. Re-compute.\n",
      "Feature for (MD661,277,(6157,1152)) is not in pool. Re-compute.\n",
      "Feature for (MD661,277,(6222,827)) is not in pool. Re-compute.\n",
      "Feature for (MD661,277,(6222,892)) is not in pool. Re-compute.\n",
      "Feature for (MD661,277,(6222,957)) is not in pool. Re-compute.\n",
      "Feature for (MD661,277,(6222,1022)) is not in pool. Re-compute.\n",
      "Feature for (MD661,277,(6222,1087)) is not in pool. Re-compute.\n",
      "Feature for (MD661,277,(6287,827)) is not in pool. Re-compute.\n",
      "Feature for (MD661,277,(6287,892)) is not in pool. Re-compute.\n",
      "Feature for (MD661,277,(6287,957)) is not in pool. Re-compute.\n",
      "Feature for (MD661,277,(6287,1022)) is not in pool. Re-compute.\n",
      "Feature for (MD661,277,(6287,1087)) is not in pool. Re-compute.\n",
      "Feature for (MD661,277,(6352,762)) is not in pool. Re-compute.\n",
      "Feature for (MD661,277,(6352,827)) is not in pool. Re-compute.\n",
      "Feature for (MD661,277,(6352,892)) is not in pool. Re-compute.\n",
      "Feature for (MD661,277,(6352,957)) is not in pool. Re-compute.\n",
      "Feature for (MD661,277,(6352,1022)) is not in pool. Re-compute.\n",
      "Feature for (MD661,277,(6417,827)) is not in pool. Re-compute.\n",
      "Feature for (MD661,277,(6417,892)) is not in pool. Re-compute.\n",
      "Feature for (MD661,277,(6417,957)) is not in pool. Re-compute.\n",
      "Feature for (MD661,277,(6482,827)) is not in pool. Re-compute.\n",
      "Feature for (MD661,277,(6482,892)) is not in pool. Re-compute.\n",
      "Not using image_cache.\n",
      "Load image: 18.57 seconds.\n",
      "Extract patches: 18.73 seconds\n"
     ]
    },
    {
     "name": "stdout",
     "output_type": "stream",
     "text": [
      "(256, 1, 224, 224)\n"
     ]
    },
    {
     "name": "stderr",
     "output_type": "stream",
     "text": [
      "Compute features: 0.39 seconds\n"
     ]
    },
    {
     "name": "stdout",
     "output_type": "stream",
     "text": [
      "('MD662', 209)\n"
     ]
    },
    {
     "name": "stderr",
     "output_type": "stream",
     "text": [
      "Feature for (MD662,209,(5247,1672)) is not in pool. Re-compute.\n",
      "Feature for (MD662,209,(5247,1737)) is not in pool. Re-compute.\n",
      "Feature for (MD662,209,(5247,1802)) is not in pool. Re-compute.\n",
      "Feature for (MD662,209,(5247,1867)) is not in pool. Re-compute.\n",
      "Feature for (MD662,209,(5247,1932)) is not in pool. Re-compute.\n",
      "Feature for (MD662,209,(5312,1607)) is not in pool. Re-compute.\n",
      "Feature for (MD662,209,(5312,1672)) is not in pool. Re-compute.\n",
      "Feature for (MD662,209,(5312,1737)) is not in pool. Re-compute.\n",
      "Feature for (MD662,209,(5312,1802)) is not in pool. Re-compute.\n",
      "Feature for (MD662,209,(5377,1477)) is not in pool. Re-compute.\n",
      "Feature for (MD662,209,(5377,1542)) is not in pool. Re-compute.\n",
      "Feature for (MD662,209,(5377,1607)) is not in pool. Re-compute.\n",
      "Feature for (MD662,209,(5377,1672)) is not in pool. Re-compute.\n",
      "Feature for (MD662,209,(5377,1737)) is not in pool. Re-compute.\n",
      "Feature for (MD662,209,(5442,1412)) is not in pool. Re-compute.\n",
      "Feature for (MD662,209,(5442,1477)) is not in pool. Re-compute.\n",
      "Feature for (MD662,209,(5442,1542)) is not in pool. Re-compute.\n",
      "Feature for (MD662,209,(5442,1607)) is not in pool. Re-compute.\n",
      "Feature for (MD662,209,(5442,1672)) is not in pool. Re-compute.\n",
      "Feature for (MD662,209,(5442,1737)) is not in pool. Re-compute.\n",
      "Feature for (MD662,209,(5507,1412)) is not in pool. Re-compute.\n",
      "Feature for (MD662,209,(5507,1477)) is not in pool. Re-compute.\n",
      "Feature for (MD662,209,(5507,1542)) is not in pool. Re-compute.\n",
      "Feature for (MD662,209,(5507,1607)) is not in pool. Re-compute.\n",
      "Feature for (MD662,209,(5507,1672)) is not in pool. Re-compute.\n",
      "Feature for (MD662,209,(5572,1347)) is not in pool. Re-compute.\n",
      "Feature for (MD662,209,(5572,1412)) is not in pool. Re-compute.\n",
      "Feature for (MD662,209,(5572,1477)) is not in pool. Re-compute.\n",
      "Feature for (MD662,209,(5572,1542)) is not in pool. Re-compute.\n",
      "Feature for (MD662,209,(5572,1607)) is not in pool. Re-compute.\n",
      "Feature for (MD662,209,(5637,1282)) is not in pool. Re-compute.\n",
      "Feature for (MD662,209,(5637,1347)) is not in pool. Re-compute.\n",
      "Feature for (MD662,209,(5637,1412)) is not in pool. Re-compute.\n",
      "Feature for (MD662,209,(5637,1477)) is not in pool. Re-compute.\n",
      "Feature for (MD662,209,(5637,1542)) is not in pool. Re-compute.\n",
      "Feature for (MD662,209,(5637,1607)) is not in pool. Re-compute.\n",
      "Feature for (MD662,209,(5702,1282)) is not in pool. Re-compute.\n",
      "Feature for (MD662,209,(5702,1347)) is not in pool. Re-compute.\n",
      "Feature for (MD662,209,(5702,1412)) is not in pool. Re-compute.\n",
      "Feature for (MD662,209,(5702,1477)) is not in pool. Re-compute.\n",
      "Feature for (MD662,209,(5702,1542)) is not in pool. Re-compute.\n",
      "Feature for (MD662,209,(5767,1282)) is not in pool. Re-compute.\n",
      "Feature for (MD662,209,(5767,1347)) is not in pool. Re-compute.\n",
      "Feature for (MD662,209,(5767,1412)) is not in pool. Re-compute.\n",
      "Feature for (MD662,209,(5767,1477)) is not in pool. Re-compute.\n",
      "Feature for (MD662,209,(5767,1542)) is not in pool. Re-compute.\n",
      "Feature for (MD662,209,(5832,1282)) is not in pool. Re-compute.\n",
      "Feature for (MD662,209,(5832,1347)) is not in pool. Re-compute.\n",
      "Feature for (MD662,209,(5832,1412)) is not in pool. Re-compute.\n",
      "Feature for (MD662,209,(5832,1477)) is not in pool. Re-compute.\n",
      "Feature for (MD662,209,(5832,1542)) is not in pool. Re-compute.\n",
      "Feature for (MD662,209,(5897,1347)) is not in pool. Re-compute.\n",
      "Feature for (MD662,209,(5897,1412)) is not in pool. Re-compute.\n",
      "Not using image_cache.\n",
      "Load image: 16.61 seconds.\n",
      "Extract patches: 16.75 seconds\n"
     ]
    },
    {
     "name": "stdout",
     "output_type": "stream",
     "text": [
      "(256, 1, 224, 224)\n"
     ]
    },
    {
     "name": "stderr",
     "output_type": "stream",
     "text": [
      "Compute features: 0.36 seconds\n"
     ]
    },
    {
     "name": "stdout",
     "output_type": "stream",
     "text": [
      "('MD662', 150)\n",
      "('MD662', 212)\n"
     ]
    },
    {
     "name": "stderr",
     "output_type": "stream",
     "text": [
      "Feature for (MD662,212,(5247,1867)) is not in pool. Re-compute.\n",
      "Feature for (MD662,212,(5312,1672)) is not in pool. Re-compute.\n",
      "Feature for (MD662,212,(5312,1737)) is not in pool. Re-compute.\n",
      "Feature for (MD662,212,(5312,1802)) is not in pool. Re-compute.\n",
      "Feature for (MD662,212,(5377,1607)) is not in pool. Re-compute.\n",
      "Feature for (MD662,212,(5377,1672)) is not in pool. Re-compute.\n",
      "Feature for (MD662,212,(5377,1737)) is not in pool. Re-compute.\n",
      "Feature for (MD662,212,(5377,1802)) is not in pool. Re-compute.\n",
      "Feature for (MD662,212,(5442,1542)) is not in pool. Re-compute.\n",
      "Feature for (MD662,212,(5442,1607)) is not in pool. Re-compute.\n",
      "Feature for (MD662,212,(5442,1672)) is not in pool. Re-compute.\n",
      "Feature for (MD662,212,(5442,1737)) is not in pool. Re-compute.\n",
      "Feature for (MD662,212,(5507,1412)) is not in pool. Re-compute.\n",
      "Feature for (MD662,212,(5507,1477)) is not in pool. Re-compute.\n",
      "Feature for (MD662,212,(5507,1542)) is not in pool. Re-compute.\n",
      "Feature for (MD662,212,(5507,1607)) is not in pool. Re-compute.\n",
      "Feature for (MD662,212,(5507,1672)) is not in pool. Re-compute.\n",
      "Feature for (MD662,212,(5572,1412)) is not in pool. Re-compute.\n",
      "Feature for (MD662,212,(5572,1477)) is not in pool. Re-compute.\n",
      "Feature for (MD662,212,(5572,1542)) is not in pool. Re-compute.\n",
      "Feature for (MD662,212,(5572,1607)) is not in pool. Re-compute.\n",
      "Feature for (MD662,212,(5637,1347)) is not in pool. Re-compute.\n",
      "Feature for (MD662,212,(5637,1412)) is not in pool. Re-compute.\n",
      "Feature for (MD662,212,(5637,1477)) is not in pool. Re-compute.\n",
      "Feature for (MD662,212,(5637,1542)) is not in pool. Re-compute.\n",
      "Feature for (MD662,212,(5637,1607)) is not in pool. Re-compute.\n",
      "Feature for (MD662,212,(5702,1347)) is not in pool. Re-compute.\n",
      "Feature for (MD662,212,(5702,1412)) is not in pool. Re-compute.\n",
      "Feature for (MD662,212,(5702,1477)) is not in pool. Re-compute.\n",
      "Feature for (MD662,212,(5702,1542)) is not in pool. Re-compute.\n",
      "Feature for (MD662,212,(5702,1607)) is not in pool. Re-compute.\n",
      "Feature for (MD662,212,(5767,1347)) is not in pool. Re-compute.\n",
      "Feature for (MD662,212,(5767,1412)) is not in pool. Re-compute.\n",
      "Feature for (MD662,212,(5767,1477)) is not in pool. Re-compute.\n",
      "Feature for (MD662,212,(5767,1542)) is not in pool. Re-compute.\n",
      "Feature for (MD662,212,(5832,1282)) is not in pool. Re-compute.\n",
      "Feature for (MD662,212,(5832,1347)) is not in pool. Re-compute.\n",
      "Not using image_cache.\n",
      "Load image: 17.10 seconds.\n",
      "Extract patches: 17.22 seconds\n"
     ]
    },
    {
     "name": "stdout",
     "output_type": "stream",
     "text": [
      "(256, 1, 224, 224)\n"
     ]
    },
    {
     "name": "stderr",
     "output_type": "stream",
     "text": [
      "Compute features: 0.37 seconds\n"
     ]
    },
    {
     "name": "stdout",
     "output_type": "stream",
     "text": [
      "('MD661', 222)\n"
     ]
    },
    {
     "name": "stderr",
     "output_type": "stream",
     "text": [
      "Feature for (MD661,222,(6287,827)) is not in pool. Re-compute.\n",
      "Feature for (MD661,222,(6352,697)) is not in pool. Re-compute.\n",
      "Feature for (MD661,222,(6352,762)) is not in pool. Re-compute.\n",
      "Feature for (MD661,222,(6352,827)) is not in pool. Re-compute.\n",
      "Feature for (MD661,222,(6417,697)) is not in pool. Re-compute.\n",
      "Feature for (MD661,222,(6417,762)) is not in pool. Re-compute.\n",
      "Feature for (MD661,222,(6417,827)) is not in pool. Re-compute.\n",
      "Feature for (MD661,222,(6482,632)) is not in pool. Re-compute.\n",
      "Feature for (MD661,222,(6482,697)) is not in pool. Re-compute.\n",
      "Feature for (MD661,222,(6482,762)) is not in pool. Re-compute.\n",
      "Feature for (MD661,222,(6482,827)) is not in pool. Re-compute.\n",
      "Feature for (MD661,222,(6547,567)) is not in pool. Re-compute.\n",
      "Feature for (MD661,222,(6547,632)) is not in pool. Re-compute.\n",
      "Feature for (MD661,222,(6547,697)) is not in pool. Re-compute.\n",
      "Feature for (MD661,222,(6547,762)) is not in pool. Re-compute.\n",
      "Feature for (MD661,222,(6612,502)) is not in pool. Re-compute.\n",
      "Feature for (MD661,222,(6612,567)) is not in pool. Re-compute.\n",
      "Feature for (MD661,222,(6612,632)) is not in pool. Re-compute.\n",
      "Feature for (MD661,222,(6612,697)) is not in pool. Re-compute.\n",
      "Feature for (MD661,222,(6612,762)) is not in pool. Re-compute.\n",
      "Feature for (MD661,222,(6677,502)) is not in pool. Re-compute.\n",
      "Feature for (MD661,222,(6677,567)) is not in pool. Re-compute.\n",
      "Feature for (MD661,222,(6677,632)) is not in pool. Re-compute.\n",
      "Feature for (MD661,222,(6677,697)) is not in pool. Re-compute.\n",
      "Feature for (MD661,222,(6742,502)) is not in pool. Re-compute.\n",
      "Feature for (MD661,222,(6742,567)) is not in pool. Re-compute.\n",
      "Feature for (MD661,222,(6742,632)) is not in pool. Re-compute.\n",
      "Feature for (MD661,222,(6807,502)) is not in pool. Re-compute.\n",
      "Feature for (MD661,222,(6807,567)) is not in pool. Re-compute.\n",
      "Feature for (MD661,222,(6807,632)) is not in pool. Re-compute.\n",
      "Feature for (MD661,222,(6807,697)) is not in pool. Re-compute.\n",
      "Feature for (MD661,222,(6872,567)) is not in pool. Re-compute.\n",
      "Feature for (MD661,222,(6872,632)) is not in pool. Re-compute.\n",
      "Feature for (MD661,222,(6872,697)) is not in pool. Re-compute.\n",
      "Feature for (MD661,222,(6937,632)) is not in pool. Re-compute.\n",
      "Feature for (MD661,222,(6937,697)) is not in pool. Re-compute.\n",
      "Not using image_cache.\n",
      "Load image: 18.95 seconds.\n",
      "Extract patches: 19.08 seconds\n"
     ]
    },
    {
     "name": "stdout",
     "output_type": "stream",
     "text": [
      "(256, 1, 224, 224)\n"
     ]
    },
    {
     "name": "stderr",
     "output_type": "stream",
     "text": [
      "Compute features: 0.40 seconds\n"
     ]
    },
    {
     "name": "stdout",
     "output_type": "stream",
     "text": [
      "('MD662', 265)\n"
     ]
    },
    {
     "name": "stderr",
     "output_type": "stream",
     "text": [
      "Feature for (MD662,265,(4727,1737)) is not in pool. Re-compute.\n",
      "Feature for (MD662,265,(4727,1802)) is not in pool. Re-compute.\n",
      "Feature for (MD662,265,(4727,1867)) is not in pool. Re-compute.\n",
      "Feature for (MD662,265,(4727,1932)) is not in pool. Re-compute.\n",
      "Feature for (MD662,265,(4727,1997)) is not in pool. Re-compute.\n",
      "Feature for (MD662,265,(4792,1542)) is not in pool. Re-compute.\n",
      "Feature for (MD662,265,(4792,1607)) is not in pool. Re-compute.\n",
      "Feature for (MD662,265,(4792,1672)) is not in pool. Re-compute.\n",
      "Feature for (MD662,265,(4792,1737)) is not in pool. Re-compute.\n",
      "Feature for (MD662,265,(4792,1802)) is not in pool. Re-compute.\n",
      "Feature for (MD662,265,(4792,1867)) is not in pool. Re-compute.\n",
      "Feature for (MD662,265,(4857,1477)) is not in pool. Re-compute.\n",
      "Feature for (MD662,265,(4857,1542)) is not in pool. Re-compute.\n",
      "Feature for (MD662,265,(4857,1607)) is not in pool. Re-compute.\n",
      "Feature for (MD662,265,(4857,1672)) is not in pool. Re-compute.\n",
      "Feature for (MD662,265,(4857,1737)) is not in pool. Re-compute.\n",
      "Feature for (MD662,265,(4922,1412)) is not in pool. Re-compute.\n",
      "Feature for (MD662,265,(4922,1477)) is not in pool. Re-compute.\n",
      "Feature for (MD662,265,(4922,1542)) is not in pool. Re-compute.\n",
      "Feature for (MD662,265,(4922,1607)) is not in pool. Re-compute.\n",
      "Feature for (MD662,265,(4922,1672)) is not in pool. Re-compute.\n",
      "Feature for (MD662,265,(4987,1412)) is not in pool. Re-compute.\n",
      "Feature for (MD662,265,(4987,1477)) is not in pool. Re-compute.\n",
      "Feature for (MD662,265,(4987,1542)) is not in pool. Re-compute.\n",
      "Feature for (MD662,265,(4987,1607)) is not in pool. Re-compute.\n",
      "Feature for (MD662,265,(5052,1347)) is not in pool. Re-compute.\n",
      "Feature for (MD662,265,(5052,1412)) is not in pool. Re-compute.\n",
      "Feature for (MD662,265,(5052,1477)) is not in pool. Re-compute.\n",
      "Feature for (MD662,265,(5052,1542)) is not in pool. Re-compute.\n",
      "Feature for (MD662,265,(5117,1347)) is not in pool. Re-compute.\n",
      "Feature for (MD662,265,(5117,1412)) is not in pool. Re-compute.\n",
      "Feature for (MD662,265,(5117,1477)) is not in pool. Re-compute.\n",
      "Feature for (MD662,265,(5182,1412)) is not in pool. Re-compute.\n",
      "Not using image_cache.\n",
      "Load image: 16.80 seconds.\n",
      "Extract patches: 16.92 seconds\n"
     ]
    },
    {
     "name": "stdout",
     "output_type": "stream",
     "text": [
      "(256, 1, 224, 224)\n"
     ]
    },
    {
     "name": "stderr",
     "output_type": "stream",
     "text": [
      "Compute features: 0.38 seconds\n"
     ]
    },
    {
     "name": "stdout",
     "output_type": "stream",
     "text": [
      "('MD661', 203)\n"
     ]
    },
    {
     "name": "stderr",
     "output_type": "stream",
     "text": [
      "Feature for (MD661,203,(6092,697)) is not in pool. Re-compute.\n",
      "Feature for (MD661,203,(6092,762)) is not in pool. Re-compute.\n",
      "Feature for (MD661,203,(6092,827)) is not in pool. Re-compute.\n",
      "Feature for (MD661,203,(6092,892)) is not in pool. Re-compute.\n",
      "Feature for (MD661,203,(6157,632)) is not in pool. Re-compute.\n",
      "Feature for (MD661,203,(6157,697)) is not in pool. Re-compute.\n",
      "Feature for (MD661,203,(6157,762)) is not in pool. Re-compute.\n",
      "Feature for (MD661,203,(6157,827)) is not in pool. Re-compute.\n",
      "Feature for (MD661,203,(6157,892)) is not in pool. Re-compute.\n",
      "Feature for (MD661,203,(6222,502)) is not in pool. Re-compute.\n",
      "Feature for (MD661,203,(6222,567)) is not in pool. Re-compute.\n",
      "Feature for (MD661,203,(6222,632)) is not in pool. Re-compute.\n",
      "Feature for (MD661,203,(6222,697)) is not in pool. Re-compute.\n",
      "Feature for (MD661,203,(6222,762)) is not in pool. Re-compute.\n",
      "Feature for (MD661,203,(6222,827)) is not in pool. Re-compute.\n",
      "Feature for (MD661,203,(6287,437)) is not in pool. Re-compute.\n",
      "Feature for (MD661,203,(6287,502)) is not in pool. Re-compute.\n",
      "Feature for (MD661,203,(6287,567)) is not in pool. Re-compute.\n",
      "Feature for (MD661,203,(6287,632)) is not in pool. Re-compute.\n",
      "Feature for (MD661,203,(6287,697)) is not in pool. Re-compute.\n",
      "Feature for (MD661,203,(6287,762)) is not in pool. Re-compute.\n",
      "Feature for (MD661,203,(6352,372)) is not in pool. Re-compute.\n",
      "Feature for (MD661,203,(6352,437)) is not in pool. Re-compute.\n",
      "Feature for (MD661,203,(6352,502)) is not in pool. Re-compute.\n",
      "Feature for (MD661,203,(6352,567)) is not in pool. Re-compute.\n",
      "Feature for (MD661,203,(6352,632)) is not in pool. Re-compute.\n",
      "Feature for (MD661,203,(6417,372)) is not in pool. Re-compute.\n",
      "Feature for (MD661,203,(6417,437)) is not in pool. Re-compute.\n",
      "Feature for (MD661,203,(6417,502)) is not in pool. Re-compute.\n",
      "Feature for (MD661,203,(6417,567)) is not in pool. Re-compute.\n",
      "Feature for (MD661,203,(6417,632)) is not in pool. Re-compute.\n",
      "Feature for (MD661,203,(6482,372)) is not in pool. Re-compute.\n",
      "Feature for (MD661,203,(6482,437)) is not in pool. Re-compute.\n",
      "Feature for (MD661,203,(6482,502)) is not in pool. Re-compute.\n",
      "Feature for (MD661,203,(6482,567)) is not in pool. Re-compute.\n",
      "Feature for (MD661,203,(6482,632)) is not in pool. Re-compute.\n",
      "Feature for (MD661,203,(6482,697)) is not in pool. Re-compute.\n",
      "Feature for (MD661,203,(6547,437)) is not in pool. Re-compute.\n",
      "Feature for (MD661,203,(6547,502)) is not in pool. Re-compute.\n",
      "Feature for (MD661,203,(6547,567)) is not in pool. Re-compute.\n",
      "Feature for (MD661,203,(6547,632)) is not in pool. Re-compute.\n",
      "Feature for (MD661,203,(6547,697)) is not in pool. Re-compute.\n",
      "Feature for (MD661,203,(6612,502)) is not in pool. Re-compute.\n",
      "Feature for (MD661,203,(6612,567)) is not in pool. Re-compute.\n",
      "Feature for (MD661,203,(6612,632)) is not in pool. Re-compute.\n",
      "Feature for (MD661,203,(6677,502)) is not in pool. Re-compute.\n",
      "Feature for (MD661,203,(6677,567)) is not in pool. Re-compute.\n",
      "Feature for (MD661,203,(6677,632)) is not in pool. Re-compute.\n",
      "Feature for (MD661,203,(6742,567)) is not in pool. Re-compute.\n",
      "Feature for (MD661,203,(6742,632)) is not in pool. Re-compute.\n",
      "Not using image_cache.\n",
      "Load image: 17.47 seconds.\n",
      "Extract patches: 17.61 seconds\n"
     ]
    },
    {
     "name": "stdout",
     "output_type": "stream",
     "text": [
      "(256, 1, 224, 224)\n"
     ]
    },
    {
     "name": "stderr",
     "output_type": "stream",
     "text": [
      "Compute features: 0.38 seconds\n"
     ]
    },
    {
     "name": "stdout",
     "output_type": "stream",
     "text": [
      "('MD662', 254)\n"
     ]
    },
    {
     "name": "stderr",
     "output_type": "stream",
     "text": [
      "Feature for (MD662,254,(4857,1542)) is not in pool. Re-compute.\n",
      "Feature for (MD662,254,(4857,1607)) is not in pool. Re-compute.\n",
      "Feature for (MD662,254,(4857,1672)) is not in pool. Re-compute.\n",
      "Feature for (MD662,254,(4857,1737)) is not in pool. Re-compute.\n",
      "Feature for (MD662,254,(4857,1802)) is not in pool. Re-compute.\n",
      "Feature for (MD662,254,(4857,1867)) is not in pool. Re-compute.\n",
      "Feature for (MD662,254,(4922,1477)) is not in pool. Re-compute.\n",
      "Feature for (MD662,254,(4922,1542)) is not in pool. Re-compute.\n",
      "Feature for (MD662,254,(4922,1607)) is not in pool. Re-compute.\n",
      "Feature for (MD662,254,(4922,1672)) is not in pool. Re-compute.\n",
      "Feature for (MD662,254,(4987,1347)) is not in pool. Re-compute.\n",
      "Feature for (MD662,254,(4987,1412)) is not in pool. Re-compute.\n",
      "Feature for (MD662,254,(4987,1477)) is not in pool. Re-compute.\n",
      "Feature for (MD662,254,(4987,1542)) is not in pool. Re-compute.\n",
      "Feature for (MD662,254,(4987,1607)) is not in pool. Re-compute.\n",
      "Feature for (MD662,254,(5052,1282)) is not in pool. Re-compute.\n",
      "Feature for (MD662,254,(5052,1347)) is not in pool. Re-compute.\n",
      "Feature for (MD662,254,(5052,1412)) is not in pool. Re-compute.\n",
      "Feature for (MD662,254,(5052,1477)) is not in pool. Re-compute.\n",
      "Feature for (MD662,254,(5117,1217)) is not in pool. Re-compute.\n",
      "Feature for (MD662,254,(5117,1282)) is not in pool. Re-compute.\n",
      "Feature for (MD662,254,(5117,1347)) is not in pool. Re-compute.\n",
      "Feature for (MD662,254,(5117,1412)) is not in pool. Re-compute.\n",
      "Feature for (MD662,254,(5182,1152)) is not in pool. Re-compute.\n",
      "Feature for (MD662,254,(5182,1217)) is not in pool. Re-compute.\n",
      "Feature for (MD662,254,(5182,1282)) is not in pool. Re-compute.\n",
      "Feature for (MD662,254,(5182,1347)) is not in pool. Re-compute.\n",
      "Feature for (MD662,254,(5247,1152)) is not in pool. Re-compute.\n",
      "Feature for (MD662,254,(5247,1217)) is not in pool. Re-compute.\n",
      "Feature for (MD662,254,(5247,1282)) is not in pool. Re-compute.\n",
      "Feature for (MD662,254,(5247,1347)) is not in pool. Re-compute.\n",
      "Feature for (MD662,254,(5312,1152)) is not in pool. Re-compute.\n",
      "Feature for (MD662,254,(5312,1217)) is not in pool. Re-compute.\n",
      "Feature for (MD662,254,(5312,1282)) is not in pool. Re-compute.\n",
      "Feature for (MD662,254,(5377,1217)) is not in pool. Re-compute.\n",
      "Feature for (MD662,254,(5377,1282)) is not in pool. Re-compute.\n",
      "Feature for (MD662,254,(5442,1217)) is not in pool. Re-compute.\n",
      "Feature for (MD662,254,(5442,1282)) is not in pool. Re-compute.\n",
      "Feature for (MD662,254,(5507,1217)) is not in pool. Re-compute.\n",
      "Feature for (MD662,254,(5507,1282)) is not in pool. Re-compute.\n",
      "Feature for (MD662,254,(5572,1282)) is not in pool. Re-compute.\n",
      "Feature for (MD662,254,(5637,1282)) is not in pool. Re-compute.\n",
      "Not using image_cache.\n",
      "Load image: 17.27 seconds.\n",
      "Extract patches: 17.39 seconds\n"
     ]
    },
    {
     "name": "stdout",
     "output_type": "stream",
     "text": [
      "(256, 1, 224, 224)\n"
     ]
    },
    {
     "name": "stderr",
     "output_type": "stream",
     "text": [
      "Compute features: 0.39 seconds\n"
     ]
    },
    {
     "name": "stdout",
     "output_type": "stream",
     "text": [
      "('MD662', 184)\n"
     ]
    },
    {
     "name": "stderr",
     "output_type": "stream",
     "text": [
      "Feature for (MD662,184,(5117,1737)) is not in pool. Re-compute.\n",
      "Feature for (MD662,184,(5117,1802)) is not in pool. Re-compute.\n",
      "Feature for (MD662,184,(5117,1867)) is not in pool. Re-compute.\n",
      "Feature for (MD662,184,(5117,1932)) is not in pool. Re-compute.\n",
      "Feature for (MD662,184,(5117,1997)) is not in pool. Re-compute.\n",
      "Feature for (MD662,184,(5182,1542)) is not in pool. Re-compute.\n",
      "Feature for (MD662,184,(5182,1607)) is not in pool. Re-compute.\n",
      "Feature for (MD662,184,(5182,1672)) is not in pool. Re-compute.\n",
      "Feature for (MD662,184,(5182,1737)) is not in pool. Re-compute.\n",
      "Feature for (MD662,184,(5182,1802)) is not in pool. Re-compute.\n",
      "Feature for (MD662,184,(5182,1867)) is not in pool. Re-compute.\n",
      "Feature for (MD662,184,(5182,1932)) is not in pool. Re-compute.\n",
      "Feature for (MD662,184,(5247,1477)) is not in pool. Re-compute.\n",
      "Feature for (MD662,184,(5247,1542)) is not in pool. Re-compute.\n",
      "Feature for (MD662,184,(5247,1607)) is not in pool. Re-compute.\n",
      "Feature for (MD662,184,(5247,1672)) is not in pool. Re-compute.\n",
      "Feature for (MD662,184,(5247,1737)) is not in pool. Re-compute.\n",
      "Feature for (MD662,184,(5247,1802)) is not in pool. Re-compute.\n",
      "Feature for (MD662,184,(5247,1867)) is not in pool. Re-compute.\n",
      "Feature for (MD662,184,(5312,1477)) is not in pool. Re-compute.\n",
      "Feature for (MD662,184,(5312,1542)) is not in pool. Re-compute.\n",
      "Feature for (MD662,184,(5312,1607)) is not in pool. Re-compute.\n",
      "Feature for (MD662,184,(5312,1672)) is not in pool. Re-compute.\n",
      "Feature for (MD662,184,(5312,1737)) is not in pool. Re-compute.\n",
      "Feature for (MD662,184,(5377,1477)) is not in pool. Re-compute.\n",
      "Feature for (MD662,184,(5377,1542)) is not in pool. Re-compute.\n",
      "Feature for (MD662,184,(5377,1607)) is not in pool. Re-compute.\n",
      "Feature for (MD662,184,(5377,1672)) is not in pool. Re-compute.\n",
      "Feature for (MD662,184,(5442,1477)) is not in pool. Re-compute.\n",
      "Feature for (MD662,184,(5442,1542)) is not in pool. Re-compute.\n",
      "Feature for (MD662,184,(5442,1607)) is not in pool. Re-compute.\n",
      "Feature for (MD662,184,(5507,1477)) is not in pool. Re-compute.\n",
      "Feature for (MD662,184,(5507,1542)) is not in pool. Re-compute.\n",
      "Feature for (MD662,184,(5507,1607)) is not in pool. Re-compute.\n",
      "Feature for (MD662,184,(5572,1542)) is not in pool. Re-compute.\n",
      "Feature for (MD662,184,(5572,1607)) is not in pool. Re-compute.\n",
      "Feature for (MD662,184,(5637,1542)) is not in pool. Re-compute.\n",
      "Feature for (MD662,184,(5702,1542)) is not in pool. Re-compute.\n",
      "Not using image_cache.\n",
      "Load image: 14.07 seconds.\n",
      "Extract patches: 14.19 seconds\n"
     ]
    },
    {
     "name": "stdout",
     "output_type": "stream",
     "text": [
      "(256, 1, 224, 224)\n"
     ]
    },
    {
     "name": "stderr",
     "output_type": "stream",
     "text": [
      "Compute features: 0.38 seconds\n"
     ]
    },
    {
     "name": "stdout",
     "output_type": "stream",
     "text": [
      "('MD661', 160)\n",
      "('MD662', 239)\n"
     ]
    },
    {
     "name": "stderr",
     "output_type": "stream",
     "text": [
      "Feature for (MD662,239,(5182,1412)) is not in pool. Re-compute.\n",
      "Feature for (MD662,239,(5182,1477)) is not in pool. Re-compute.\n",
      "Feature for (MD662,239,(5247,1412)) is not in pool. Re-compute.\n",
      "Feature for (MD662,239,(5247,1477)) is not in pool. Re-compute.\n",
      "Feature for (MD662,239,(5247,1542)) is not in pool. Re-compute.\n",
      "Feature for (MD662,239,(5312,1347)) is not in pool. Re-compute.\n",
      "Feature for (MD662,239,(5312,1412)) is not in pool. Re-compute.\n",
      "Feature for (MD662,239,(5312,1477)) is not in pool. Re-compute.\n",
      "Feature for (MD662,239,(5312,1542)) is not in pool. Re-compute.\n",
      "Feature for (MD662,239,(5377,1282)) is not in pool. Re-compute.\n",
      "Feature for (MD662,239,(5377,1347)) is not in pool. Re-compute.\n",
      "Feature for (MD662,239,(5377,1412)) is not in pool. Re-compute.\n",
      "Feature for (MD662,239,(5377,1477)) is not in pool. Re-compute.\n",
      "Feature for (MD662,239,(5442,1217)) is not in pool. Re-compute.\n",
      "Feature for (MD662,239,(5442,1282)) is not in pool. Re-compute.\n",
      "Feature for (MD662,239,(5442,1347)) is not in pool. Re-compute.\n",
      "Feature for (MD662,239,(5442,1412)) is not in pool. Re-compute.\n",
      "Feature for (MD662,239,(5442,1477)) is not in pool. Re-compute.\n",
      "Feature for (MD662,239,(5507,1217)) is not in pool. Re-compute.\n",
      "Feature for (MD662,239,(5507,1282)) is not in pool. Re-compute.\n",
      "Feature for (MD662,239,(5507,1347)) is not in pool. Re-compute.\n",
      "Feature for (MD662,239,(5507,1412)) is not in pool. Re-compute.\n",
      "Feature for (MD662,239,(5507,1477)) is not in pool. Re-compute.\n",
      "Feature for (MD662,239,(5572,1217)) is not in pool. Re-compute.\n",
      "Feature for (MD662,239,(5572,1282)) is not in pool. Re-compute.\n",
      "Feature for (MD662,239,(5572,1347)) is not in pool. Re-compute.\n",
      "Feature for (MD662,239,(5572,1412)) is not in pool. Re-compute.\n",
      "Feature for (MD662,239,(5637,1217)) is not in pool. Re-compute.\n",
      "Feature for (MD662,239,(5637,1282)) is not in pool. Re-compute.\n",
      "Feature for (MD662,239,(5637,1347)) is not in pool. Re-compute.\n",
      "Feature for (MD662,239,(5637,1412)) is not in pool. Re-compute.\n",
      "Feature for (MD662,239,(5702,1282)) is not in pool. Re-compute.\n",
      "Feature for (MD662,239,(5702,1347)) is not in pool. Re-compute.\n",
      "Feature for (MD662,239,(5702,1412)) is not in pool. Re-compute.\n",
      "Feature for (MD662,239,(5767,1282)) is not in pool. Re-compute.\n",
      "Feature for (MD662,239,(5767,1347)) is not in pool. Re-compute.\n",
      "Feature for (MD662,239,(5767,1412)) is not in pool. Re-compute.\n",
      "Feature for (MD662,239,(5832,1347)) is not in pool. Re-compute.\n",
      "Not using image_cache.\n",
      "Load image: 17.57 seconds.\n",
      "Extract patches: 17.69 seconds\n"
     ]
    },
    {
     "name": "stdout",
     "output_type": "stream",
     "text": [
      "(256, 1, 224, 224)\n"
     ]
    },
    {
     "name": "stderr",
     "output_type": "stream",
     "text": [
      "Compute features: 0.38 seconds\n"
     ]
    },
    {
     "name": "stdout",
     "output_type": "stream",
     "text": [
      "('MD661', 226)\n"
     ]
    },
    {
     "name": "stderr",
     "output_type": "stream",
     "text": [
      "Feature for (MD661,226,(6352,892)) is not in pool. Re-compute.\n",
      "Feature for (MD661,226,(6417,762)) is not in pool. Re-compute.\n",
      "Feature for (MD661,226,(6417,827)) is not in pool. Re-compute.\n",
      "Feature for (MD661,226,(6417,892)) is not in pool. Re-compute.\n",
      "Feature for (MD661,226,(6482,762)) is not in pool. Re-compute.\n",
      "Feature for (MD661,226,(6482,827)) is not in pool. Re-compute.\n",
      "Feature for (MD661,226,(6482,892)) is not in pool. Re-compute.\n",
      "Feature for (MD661,226,(6547,697)) is not in pool. Re-compute.\n",
      "Feature for (MD661,226,(6547,762)) is not in pool. Re-compute.\n",
      "Feature for (MD661,226,(6547,827)) is not in pool. Re-compute.\n",
      "Feature for (MD661,226,(6547,892)) is not in pool. Re-compute.\n",
      "Feature for (MD661,226,(6612,632)) is not in pool. Re-compute.\n",
      "Feature for (MD661,226,(6612,697)) is not in pool. Re-compute.\n",
      "Feature for (MD661,226,(6612,762)) is not in pool. Re-compute.\n",
      "Feature for (MD661,226,(6612,827)) is not in pool. Re-compute.\n",
      "Feature for (MD661,226,(6612,892)) is not in pool. Re-compute.\n",
      "Feature for (MD661,226,(6677,632)) is not in pool. Re-compute.\n",
      "Feature for (MD661,226,(6677,697)) is not in pool. Re-compute.\n",
      "Feature for (MD661,226,(6677,762)) is not in pool. Re-compute.\n",
      "Feature for (MD661,226,(6677,827)) is not in pool. Re-compute.\n",
      "Feature for (MD661,226,(6742,632)) is not in pool. Re-compute.\n",
      "Feature for (MD661,226,(6742,697)) is not in pool. Re-compute.\n",
      "Feature for (MD661,226,(6807,567)) is not in pool. Re-compute.\n",
      "Feature for (MD661,226,(6807,632)) is not in pool. Re-compute.\n",
      "Feature for (MD661,226,(6807,697)) is not in pool. Re-compute.\n",
      "Feature for (MD661,226,(6807,762)) is not in pool. Re-compute.\n",
      "Feature for (MD661,226,(6872,567)) is not in pool. Re-compute.\n",
      "Feature for (MD661,226,(6872,632)) is not in pool. Re-compute.\n",
      "Feature for (MD661,226,(6872,697)) is not in pool. Re-compute.\n",
      "Feature for (MD661,226,(6872,762)) is not in pool. Re-compute.\n",
      "Feature for (MD661,226,(6937,632)) is not in pool. Re-compute.\n",
      "Not using image_cache.\n",
      "Load image: 18.60 seconds.\n",
      "Extract patches: 18.73 seconds\n"
     ]
    },
    {
     "name": "stdout",
     "output_type": "stream",
     "text": [
      "(256, 1, 224, 224)\n"
     ]
    },
    {
     "name": "stderr",
     "output_type": "stream",
     "text": [
      "Compute features: 0.40 seconds\n"
     ]
    },
    {
     "name": "stdout",
     "output_type": "stream",
     "text": [
      "('MD662', 272)\n"
     ]
    },
    {
     "name": "stderr",
     "output_type": "stream",
     "text": [
      "Feature for (MD662,272,(4727,1672)) is not in pool. Re-compute.\n",
      "Feature for (MD662,272,(4727,1737)) is not in pool. Re-compute.\n",
      "Feature for (MD662,272,(4727,1802)) is not in pool. Re-compute.\n",
      "Feature for (MD662,272,(4792,1542)) is not in pool. Re-compute.\n",
      "Feature for (MD662,272,(4792,1607)) is not in pool. Re-compute.\n",
      "Feature for (MD662,272,(4792,1672)) is not in pool. Re-compute.\n",
      "Feature for (MD662,272,(4792,1737)) is not in pool. Re-compute.\n",
      "Feature for (MD662,272,(4792,1802)) is not in pool. Re-compute.\n",
      "Feature for (MD662,272,(4792,1867)) is not in pool. Re-compute.\n",
      "Feature for (MD662,272,(4857,1542)) is not in pool. Re-compute.\n",
      "Feature for (MD662,272,(4857,1607)) is not in pool. Re-compute.\n",
      "Feature for (MD662,272,(4857,1672)) is not in pool. Re-compute.\n",
      "Feature for (MD662,272,(4857,1737)) is not in pool. Re-compute.\n",
      "Feature for (MD662,272,(4857,1802)) is not in pool. Re-compute.\n",
      "Feature for (MD662,272,(4922,1542)) is not in pool. Re-compute.\n",
      "Feature for (MD662,272,(4922,1607)) is not in pool. Re-compute.\n",
      "Feature for (MD662,272,(4922,1672)) is not in pool. Re-compute.\n",
      "Feature for (MD662,272,(4922,1737)) is not in pool. Re-compute.\n",
      "Feature for (MD662,272,(4987,1542)) is not in pool. Re-compute.\n",
      "Feature for (MD662,272,(4987,1607)) is not in pool. Re-compute.\n",
      "Feature for (MD662,272,(5052,1542)) is not in pool. Re-compute.\n",
      "Not using image_cache.\n",
      "Load image: 16.65 seconds.\n",
      "Extract patches: 16.76 seconds\n"
     ]
    },
    {
     "name": "stdout",
     "output_type": "stream",
     "text": [
      "(256, 1, 224, 224)\n"
     ]
    },
    {
     "name": "stderr",
     "output_type": "stream",
     "text": [
      "Compute features: 0.38 seconds\n"
     ]
    },
    {
     "name": "stdout",
     "output_type": "stream",
     "text": [
      "('MD661', 264)\n"
     ]
    },
    {
     "name": "stderr",
     "output_type": "stream",
     "text": [
      "Feature for (MD661,264,(5962,1022)) is not in pool. Re-compute.\n",
      "Feature for (MD661,264,(5962,1087)) is not in pool. Re-compute.\n",
      "Feature for (MD661,264,(5962,1152)) is not in pool. Re-compute.\n",
      "Feature for (MD661,264,(5962,1217)) is not in pool. Re-compute.\n",
      "Feature for (MD661,264,(6027,1022)) is not in pool. Re-compute.\n",
      "Feature for (MD661,264,(6027,1087)) is not in pool. Re-compute.\n",
      "Feature for (MD661,264,(6027,1152)) is not in pool. Re-compute.\n",
      "Feature for (MD661,264,(6092,892)) is not in pool. Re-compute.\n",
      "Feature for (MD661,264,(6092,957)) is not in pool. Re-compute.\n",
      "Feature for (MD661,264,(6092,1022)) is not in pool. Re-compute.\n",
      "Feature for (MD661,264,(6157,827)) is not in pool. Re-compute.\n",
      "Feature for (MD661,264,(6157,892)) is not in pool. Re-compute.\n",
      "Feature for (MD661,264,(6157,957)) is not in pool. Re-compute.\n",
      "Feature for (MD661,264,(6222,762)) is not in pool. Re-compute.\n",
      "Feature for (MD661,264,(6222,827)) is not in pool. Re-compute.\n",
      "Feature for (MD661,264,(6222,892)) is not in pool. Re-compute.\n",
      "Feature for (MD661,264,(6287,762)) is not in pool. Re-compute.\n",
      "Feature for (MD661,264,(6287,827)) is not in pool. Re-compute.\n",
      "Feature for (MD661,264,(6352,697)) is not in pool. Re-compute.\n",
      "Feature for (MD661,264,(6352,762)) is not in pool. Re-compute.\n",
      "Feature for (MD661,264,(6352,827)) is not in pool. Re-compute.\n",
      "Feature for (MD661,264,(6417,632)) is not in pool. Re-compute.\n",
      "Feature for (MD661,264,(6417,697)) is not in pool. Re-compute.\n",
      "Feature for (MD661,264,(6417,762)) is not in pool. Re-compute.\n",
      "Feature for (MD661,264,(6417,827)) is not in pool. Re-compute.\n",
      "Feature for (MD661,264,(6417,892)) is not in pool. Re-compute.\n",
      "Feature for (MD661,264,(6482,632)) is not in pool. Re-compute.\n",
      "Feature for (MD661,264,(6482,697)) is not in pool. Re-compute.\n",
      "Feature for (MD661,264,(6482,762)) is not in pool. Re-compute.\n",
      "Feature for (MD661,264,(6482,827)) is not in pool. Re-compute.\n",
      "Feature for (MD661,264,(6482,892)) is not in pool. Re-compute.\n",
      "Feature for (MD661,264,(6547,567)) is not in pool. Re-compute.\n",
      "Feature for (MD661,264,(6547,632)) is not in pool. Re-compute.\n",
      "Feature for (MD661,264,(6547,697)) is not in pool. Re-compute.\n",
      "Feature for (MD661,264,(6547,762)) is not in pool. Re-compute.\n",
      "Feature for (MD661,264,(6547,827)) is not in pool. Re-compute.\n",
      "Feature for (MD661,264,(6547,892)) is not in pool. Re-compute.\n",
      "Feature for (MD661,264,(6612,567)) is not in pool. Re-compute.\n",
      "Feature for (MD661,264,(6612,632)) is not in pool. Re-compute.\n",
      "Feature for (MD661,264,(6612,697)) is not in pool. Re-compute.\n",
      "Feature for (MD661,264,(6612,762)) is not in pool. Re-compute.\n",
      "Feature for (MD661,264,(6612,827)) is not in pool. Re-compute.\n",
      "Feature for (MD661,264,(6612,892)) is not in pool. Re-compute.\n",
      "Feature for (MD661,264,(6677,632)) is not in pool. Re-compute.\n",
      "Feature for (MD661,264,(6677,697)) is not in pool. Re-compute.\n",
      "Feature for (MD661,264,(6677,762)) is not in pool. Re-compute.\n",
      "Feature for (MD661,264,(6677,827)) is not in pool. Re-compute.\n",
      "Feature for (MD661,264,(6677,892)) is not in pool. Re-compute.\n",
      "Feature for (MD661,264,(6742,697)) is not in pool. Re-compute.\n",
      "Feature for (MD661,264,(6742,762)) is not in pool. Re-compute.\n",
      "Feature for (MD661,264,(6742,827)) is not in pool. Re-compute.\n",
      "Feature for (MD661,264,(6742,892)) is not in pool. Re-compute.\n",
      "Feature for (MD661,264,(6807,762)) is not in pool. Re-compute.\n",
      "Feature for (MD661,264,(6807,827)) is not in pool. Re-compute.\n",
      "Feature for (MD661,264,(6807,892)) is not in pool. Re-compute.\n",
      "Feature for (MD661,264,(6872,827)) is not in pool. Re-compute.\n",
      "Feature for (MD661,264,(6872,892)) is not in pool. Re-compute.\n",
      "Not using image_cache.\n",
      "Load image: 18.53 seconds.\n",
      "Extract patches: 18.68 seconds\n"
     ]
    },
    {
     "name": "stdout",
     "output_type": "stream",
     "text": [
      "(256, 1, 224, 224)\n"
     ]
    },
    {
     "name": "stderr",
     "output_type": "stream",
     "text": [
      "Compute features: 0.38 seconds\n"
     ]
    },
    {
     "name": "stdout",
     "output_type": "stream",
     "text": [
      "('MD662', 210)\n"
     ]
    },
    {
     "name": "stderr",
     "output_type": "stream",
     "text": [
      "Feature for (MD662,210,(5247,1672)) is not in pool. Re-compute.\n",
      "Feature for (MD662,210,(5247,1737)) is not in pool. Re-compute.\n",
      "Feature for (MD662,210,(5247,1802)) is not in pool. Re-compute.\n",
      "Feature for (MD662,210,(5247,1867)) is not in pool. Re-compute.\n",
      "Feature for (MD662,210,(5312,1607)) is not in pool. Re-compute.\n",
      "Feature for (MD662,210,(5312,1672)) is not in pool. Re-compute.\n",
      "Feature for (MD662,210,(5312,1737)) is not in pool. Re-compute.\n",
      "Feature for (MD662,210,(5312,1802)) is not in pool. Re-compute.\n",
      "Feature for (MD662,210,(5377,1542)) is not in pool. Re-compute.\n",
      "Feature for (MD662,210,(5377,1607)) is not in pool. Re-compute.\n",
      "Feature for (MD662,210,(5377,1672)) is not in pool. Re-compute.\n",
      "Feature for (MD662,210,(5377,1737)) is not in pool. Re-compute.\n",
      "Feature for (MD662,210,(5377,1802)) is not in pool. Re-compute.\n",
      "Feature for (MD662,210,(5442,1477)) is not in pool. Re-compute.\n",
      "Feature for (MD662,210,(5442,1542)) is not in pool. Re-compute.\n",
      "Feature for (MD662,210,(5442,1607)) is not in pool. Re-compute.\n",
      "Feature for (MD662,210,(5442,1672)) is not in pool. Re-compute.\n",
      "Feature for (MD662,210,(5442,1737)) is not in pool. Re-compute.\n",
      "Feature for (MD662,210,(5507,1412)) is not in pool. Re-compute.\n",
      "Feature for (MD662,210,(5507,1477)) is not in pool. Re-compute.\n",
      "Feature for (MD662,210,(5507,1542)) is not in pool. Re-compute.\n",
      "Feature for (MD662,210,(5507,1607)) is not in pool. Re-compute.\n",
      "Feature for (MD662,210,(5507,1672)) is not in pool. Re-compute.\n",
      "Feature for (MD662,210,(5572,1412)) is not in pool. Re-compute.\n",
      "Feature for (MD662,210,(5572,1477)) is not in pool. Re-compute.\n",
      "Feature for (MD662,210,(5572,1542)) is not in pool. Re-compute.\n",
      "Feature for (MD662,210,(5572,1607)) is not in pool. Re-compute.\n",
      "Feature for (MD662,210,(5572,1672)) is not in pool. Re-compute.\n",
      "Feature for (MD662,210,(5637,1347)) is not in pool. Re-compute.\n",
      "Feature for (MD662,210,(5637,1412)) is not in pool. Re-compute.\n",
      "Feature for (MD662,210,(5637,1477)) is not in pool. Re-compute.\n",
      "Feature for (MD662,210,(5637,1542)) is not in pool. Re-compute.\n",
      "Feature for (MD662,210,(5637,1607)) is not in pool. Re-compute.\n",
      "Feature for (MD662,210,(5702,1282)) is not in pool. Re-compute.\n",
      "Feature for (MD662,210,(5702,1347)) is not in pool. Re-compute.\n",
      "Feature for (MD662,210,(5702,1412)) is not in pool. Re-compute.\n",
      "Feature for (MD662,210,(5702,1477)) is not in pool. Re-compute.\n",
      "Feature for (MD662,210,(5702,1542)) is not in pool. Re-compute.\n",
      "Feature for (MD662,210,(5702,1607)) is not in pool. Re-compute.\n",
      "Feature for (MD662,210,(5767,1282)) is not in pool. Re-compute.\n",
      "Feature for (MD662,210,(5767,1347)) is not in pool. Re-compute.\n",
      "Feature for (MD662,210,(5767,1412)) is not in pool. Re-compute.\n",
      "Feature for (MD662,210,(5767,1477)) is not in pool. Re-compute.\n",
      "Feature for (MD662,210,(5767,1542)) is not in pool. Re-compute.\n",
      "Feature for (MD662,210,(5832,1347)) is not in pool. Re-compute.\n",
      "Feature for (MD662,210,(5832,1412)) is not in pool. Re-compute.\n",
      "Not using image_cache.\n",
      "Load image: 17.16 seconds.\n",
      "Extract patches: 17.30 seconds\n"
     ]
    },
    {
     "name": "stdout",
     "output_type": "stream",
     "text": [
      "(256, 1, 224, 224)\n"
     ]
    },
    {
     "name": "stderr",
     "output_type": "stream",
     "text": [
      "Compute features: 0.40 seconds\n"
     ]
    },
    {
     "name": "stdout",
     "output_type": "stream",
     "text": [
      "('MD662', 263)\n"
     ]
    },
    {
     "name": "stderr",
     "output_type": "stream",
     "text": [
      "Feature for (MD662,263,(4792,1542)) is not in pool. Re-compute.\n",
      "Feature for (MD662,263,(4792,1607)) is not in pool. Re-compute.\n",
      "Feature for (MD662,263,(4792,1672)) is not in pool. Re-compute.\n",
      "Feature for (MD662,263,(4792,1737)) is not in pool. Re-compute.\n",
      "Feature for (MD662,263,(4792,1802)) is not in pool. Re-compute.\n",
      "Feature for (MD662,263,(4857,1477)) is not in pool. Re-compute.\n",
      "Feature for (MD662,263,(4857,1542)) is not in pool. Re-compute.\n",
      "Feature for (MD662,263,(4857,1607)) is not in pool. Re-compute.\n",
      "Feature for (MD662,263,(4857,1672)) is not in pool. Re-compute.\n",
      "Feature for (MD662,263,(4857,1737)) is not in pool. Re-compute.\n",
      "Feature for (MD662,263,(4922,1347)) is not in pool. Re-compute.\n",
      "Feature for (MD662,263,(4922,1412)) is not in pool. Re-compute.\n",
      "Feature for (MD662,263,(4922,1477)) is not in pool. Re-compute.\n",
      "Feature for (MD662,263,(4922,1542)) is not in pool. Re-compute.\n",
      "Feature for (MD662,263,(4922,1607)) is not in pool. Re-compute.\n",
      "Feature for (MD662,263,(4922,1672)) is not in pool. Re-compute.\n",
      "Feature for (MD662,263,(4987,1347)) is not in pool. Re-compute.\n",
      "Feature for (MD662,263,(4987,1412)) is not in pool. Re-compute.\n",
      "Feature for (MD662,263,(4987,1477)) is not in pool. Re-compute.\n",
      "Feature for (MD662,263,(4987,1542)) is not in pool. Re-compute.\n",
      "Feature for (MD662,263,(4987,1607)) is not in pool. Re-compute.\n",
      "Feature for (MD662,263,(5052,1347)) is not in pool. Re-compute.\n",
      "Feature for (MD662,263,(5052,1412)) is not in pool. Re-compute.\n",
      "Feature for (MD662,263,(5052,1477)) is not in pool. Re-compute.\n",
      "Feature for (MD662,263,(5052,1542)) is not in pool. Re-compute.\n",
      "Feature for (MD662,263,(5117,1347)) is not in pool. Re-compute.\n",
      "Feature for (MD662,263,(5117,1412)) is not in pool. Re-compute.\n",
      "Feature for (MD662,263,(5117,1477)) is not in pool. Re-compute.\n",
      "Feature for (MD662,263,(5182,1347)) is not in pool. Re-compute.\n",
      "Not using image_cache.\n",
      "Load image: 16.63 seconds.\n",
      "Extract patches: 16.74 seconds\n"
     ]
    },
    {
     "name": "stdout",
     "output_type": "stream",
     "text": [
      "(256, 1, 224, 224)\n"
     ]
    },
    {
     "name": "stderr",
     "output_type": "stream",
     "text": [
      "Compute features: 0.38 seconds\n"
     ]
    },
    {
     "name": "stdout",
     "output_type": "stream",
     "text": [
      "('MD661', 261)\n"
     ]
    },
    {
     "name": "stderr",
     "output_type": "stream",
     "text": [
      "Feature for (MD661,261,(5962,1152)) is not in pool. Re-compute.\n",
      "Feature for (MD661,261,(6027,1022)) is not in pool. Re-compute.\n",
      "Feature for (MD661,261,(6027,1087)) is not in pool. Re-compute.\n",
      "Feature for (MD661,261,(6027,1152)) is not in pool. Re-compute.\n",
      "Feature for (MD661,261,(6092,957)) is not in pool. Re-compute.\n",
      "Feature for (MD661,261,(6092,1022)) is not in pool. Re-compute.\n",
      "Feature for (MD661,261,(6092,1087)) is not in pool. Re-compute.\n",
      "Feature for (MD661,261,(6092,1152)) is not in pool. Re-compute.\n",
      "Feature for (MD661,261,(6157,827)) is not in pool. Re-compute.\n",
      "Feature for (MD661,261,(6157,892)) is not in pool. Re-compute.\n",
      "Feature for (MD661,261,(6157,957)) is not in pool. Re-compute.\n",
      "Feature for (MD661,261,(6157,1022)) is not in pool. Re-compute.\n",
      "Feature for (MD661,261,(6157,1087)) is not in pool. Re-compute.\n",
      "Feature for (MD661,261,(6222,827)) is not in pool. Re-compute.\n",
      "Feature for (MD661,261,(6222,892)) is not in pool. Re-compute.\n",
      "Feature for (MD661,261,(6222,957)) is not in pool. Re-compute.\n",
      "Feature for (MD661,261,(6222,1022)) is not in pool. Re-compute.\n",
      "Feature for (MD661,261,(6287,762)) is not in pool. Re-compute.\n",
      "Feature for (MD661,261,(6287,827)) is not in pool. Re-compute.\n",
      "Feature for (MD661,261,(6287,892)) is not in pool. Re-compute.\n",
      "Feature for (MD661,261,(6352,697)) is not in pool. Re-compute.\n",
      "Feature for (MD661,261,(6352,762)) is not in pool. Re-compute.\n",
      "Feature for (MD661,261,(6352,827)) is not in pool. Re-compute.\n",
      "Feature for (MD661,261,(6417,697)) is not in pool. Re-compute.\n",
      "Feature for (MD661,261,(6417,762)) is not in pool. Re-compute.\n",
      "Feature for (MD661,261,(6417,827)) is not in pool. Re-compute.\n",
      "Feature for (MD661,261,(6482,632)) is not in pool. Re-compute.\n",
      "Feature for (MD661,261,(6482,697)) is not in pool. Re-compute.\n",
      "Feature for (MD661,261,(6482,762)) is not in pool. Re-compute.\n",
      "Feature for (MD661,261,(6482,827)) is not in pool. Re-compute.\n",
      "Feature for (MD661,261,(6547,567)) is not in pool. Re-compute.\n",
      "Feature for (MD661,261,(6547,632)) is not in pool. Re-compute.\n",
      "Feature for (MD661,261,(6547,697)) is not in pool. Re-compute.\n",
      "Feature for (MD661,261,(6547,762)) is not in pool. Re-compute.\n",
      "Feature for (MD661,261,(6547,827)) is not in pool. Re-compute.\n",
      "Feature for (MD661,261,(6612,567)) is not in pool. Re-compute.\n",
      "Feature for (MD661,261,(6612,632)) is not in pool. Re-compute.\n",
      "Feature for (MD661,261,(6612,697)) is not in pool. Re-compute.\n",
      "Feature for (MD661,261,(6612,762)) is not in pool. Re-compute.\n",
      "Feature for (MD661,261,(6612,827)) is not in pool. Re-compute.\n",
      "Feature for (MD661,261,(6612,892)) is not in pool. Re-compute.\n",
      "Feature for (MD661,261,(6612,957)) is not in pool. Re-compute.\n",
      "Feature for (MD661,261,(6677,567)) is not in pool. Re-compute.\n",
      "Feature for (MD661,261,(6677,632)) is not in pool. Re-compute.\n",
      "Feature for (MD661,261,(6677,697)) is not in pool. Re-compute.\n",
      "Feature for (MD661,261,(6677,762)) is not in pool. Re-compute.\n",
      "Feature for (MD661,261,(6677,827)) is not in pool. Re-compute.\n",
      "Feature for (MD661,261,(6677,892)) is not in pool. Re-compute.\n",
      "Feature for (MD661,261,(6677,957)) is not in pool. Re-compute.\n",
      "Feature for (MD661,261,(6742,632)) is not in pool. Re-compute.\n",
      "Feature for (MD661,261,(6742,697)) is not in pool. Re-compute.\n",
      "Feature for (MD661,261,(6742,762)) is not in pool. Re-compute.\n",
      "Feature for (MD661,261,(6742,827)) is not in pool. Re-compute.\n",
      "Feature for (MD661,261,(6742,892)) is not in pool. Re-compute.\n",
      "Feature for (MD661,261,(6807,697)) is not in pool. Re-compute.\n",
      "Feature for (MD661,261,(6807,762)) is not in pool. Re-compute.\n",
      "Feature for (MD661,261,(6807,827)) is not in pool. Re-compute.\n",
      "Feature for (MD661,261,(6807,892)) is not in pool. Re-compute.\n",
      "Feature for (MD661,261,(6872,827)) is not in pool. Re-compute.\n",
      "Feature for (MD661,261,(6872,892)) is not in pool. Re-compute.\n",
      "Not using image_cache.\n",
      "Load image: 18.28 seconds.\n",
      "Extract patches: 18.43 seconds\n"
     ]
    },
    {
     "name": "stdout",
     "output_type": "stream",
     "text": [
      "(256, 1, 224, 224)\n"
     ]
    },
    {
     "name": "stderr",
     "output_type": "stream",
     "text": [
      "Compute features: 0.38 seconds\n"
     ]
    },
    {
     "name": "stdout",
     "output_type": "stream",
     "text": [
      "('MD662', 188)\n"
     ]
    },
    {
     "name": "stderr",
     "output_type": "stream",
     "text": [
      "Feature for (MD662,188,(5117,1802)) is not in pool. Re-compute.\n",
      "Feature for (MD662,188,(5117,1867)) is not in pool. Re-compute.\n",
      "Feature for (MD662,188,(5117,1932)) is not in pool. Re-compute.\n",
      "Feature for (MD662,188,(5117,1997)) is not in pool. Re-compute.\n",
      "Feature for (MD662,188,(5182,1542)) is not in pool. Re-compute.\n",
      "Feature for (MD662,188,(5182,1607)) is not in pool. Re-compute.\n",
      "Feature for (MD662,188,(5182,1672)) is not in pool. Re-compute.\n",
      "Feature for (MD662,188,(5182,1737)) is not in pool. Re-compute.\n",
      "Feature for (MD662,188,(5182,1802)) is not in pool. Re-compute.\n",
      "Feature for (MD662,188,(5182,1867)) is not in pool. Re-compute.\n",
      "Feature for (MD662,188,(5182,1932)) is not in pool. Re-compute.\n",
      "Feature for (MD662,188,(5247,1477)) is not in pool. Re-compute.\n",
      "Feature for (MD662,188,(5247,1542)) is not in pool. Re-compute.\n",
      "Feature for (MD662,188,(5247,1607)) is not in pool. Re-compute.\n",
      "Feature for (MD662,188,(5247,1672)) is not in pool. Re-compute.\n",
      "Feature for (MD662,188,(5247,1737)) is not in pool. Re-compute.\n",
      "Feature for (MD662,188,(5247,1802)) is not in pool. Re-compute.\n",
      "Feature for (MD662,188,(5312,1412)) is not in pool. Re-compute.\n",
      "Feature for (MD662,188,(5312,1477)) is not in pool. Re-compute.\n",
      "Feature for (MD662,188,(5312,1542)) is not in pool. Re-compute.\n",
      "Feature for (MD662,188,(5312,1607)) is not in pool. Re-compute.\n",
      "Feature for (MD662,188,(5312,1672)) is not in pool. Re-compute.\n",
      "Feature for (MD662,188,(5312,1737)) is not in pool. Re-compute.\n",
      "Feature for (MD662,188,(5377,1412)) is not in pool. Re-compute.\n",
      "Feature for (MD662,188,(5377,1477)) is not in pool. Re-compute.\n",
      "Feature for (MD662,188,(5377,1542)) is not in pool. Re-compute.\n",
      "Feature for (MD662,188,(5377,1607)) is not in pool. Re-compute.\n",
      "Feature for (MD662,188,(5442,1412)) is not in pool. Re-compute.\n",
      "Feature for (MD662,188,(5442,1477)) is not in pool. Re-compute.\n",
      "Feature for (MD662,188,(5442,1542)) is not in pool. Re-compute.\n",
      "Feature for (MD662,188,(5442,1607)) is not in pool. Re-compute.\n",
      "Feature for (MD662,188,(5507,1412)) is not in pool. Re-compute.\n",
      "Feature for (MD662,188,(5507,1477)) is not in pool. Re-compute.\n",
      "Feature for (MD662,188,(5507,1542)) is not in pool. Re-compute.\n",
      "Feature for (MD662,188,(5507,1607)) is not in pool. Re-compute.\n",
      "Feature for (MD662,188,(5572,1412)) is not in pool. Re-compute.\n",
      "Feature for (MD662,188,(5572,1477)) is not in pool. Re-compute.\n",
      "Feature for (MD662,188,(5572,1542)) is not in pool. Re-compute.\n",
      "Feature for (MD662,188,(5572,1607)) is not in pool. Re-compute.\n",
      "Feature for (MD662,188,(5637,1477)) is not in pool. Re-compute.\n",
      "Feature for (MD662,188,(5637,1542)) is not in pool. Re-compute.\n",
      "Feature for (MD662,188,(5702,1477)) is not in pool. Re-compute.\n",
      "Feature for (MD662,188,(5702,1542)) is not in pool. Re-compute.\n",
      "Feature for (MD662,188,(5767,1477)) is not in pool. Re-compute.\n",
      "Feature for (MD662,188,(5767,1542)) is not in pool. Re-compute.\n",
      "Not using image_cache.\n",
      "Load image: 14.41 seconds.\n",
      "Extract patches: 14.53 seconds\n"
     ]
    },
    {
     "name": "stdout",
     "output_type": "stream",
     "text": [
      "(256, 1, 224, 224)\n"
     ]
    },
    {
     "name": "stderr",
     "output_type": "stream",
     "text": [
      "Compute features: 0.39 seconds\n"
     ]
    },
    {
     "name": "stdout",
     "output_type": "stream",
     "text": [
      "('MD662', 215)\n"
     ]
    },
    {
     "name": "stderr",
     "output_type": "stream",
     "text": [
      "Feature for (MD662,215,(5312,1802)) is not in pool. Re-compute.\n",
      "Feature for (MD662,215,(5312,1867)) is not in pool. Re-compute.\n",
      "Feature for (MD662,215,(5377,1672)) is not in pool. Re-compute.\n",
      "Feature for (MD662,215,(5377,1737)) is not in pool. Re-compute.\n",
      "Feature for (MD662,215,(5377,1802)) is not in pool. Re-compute.\n",
      "Feature for (MD662,215,(5442,1607)) is not in pool. Re-compute.\n",
      "Feature for (MD662,215,(5442,1672)) is not in pool. Re-compute.\n",
      "Feature for (MD662,215,(5442,1737)) is not in pool. Re-compute.\n",
      "Feature for (MD662,215,(5442,1802)) is not in pool. Re-compute.\n",
      "Feature for (MD662,215,(5507,1542)) is not in pool. Re-compute.\n",
      "Feature for (MD662,215,(5507,1607)) is not in pool. Re-compute.\n",
      "Feature for (MD662,215,(5507,1672)) is not in pool. Re-compute.\n",
      "Feature for (MD662,215,(5507,1737)) is not in pool. Re-compute.\n",
      "Feature for (MD662,215,(5572,1477)) is not in pool. Re-compute.\n",
      "Feature for (MD662,215,(5572,1542)) is not in pool. Re-compute.\n",
      "Feature for (MD662,215,(5572,1607)) is not in pool. Re-compute.\n",
      "Feature for (MD662,215,(5572,1672)) is not in pool. Re-compute.\n",
      "Feature for (MD662,215,(5572,1737)) is not in pool. Re-compute.\n",
      "Feature for (MD662,215,(5637,1412)) is not in pool. Re-compute.\n",
      "Feature for (MD662,215,(5637,1477)) is not in pool. Re-compute.\n",
      "Feature for (MD662,215,(5637,1542)) is not in pool. Re-compute.\n",
      "Feature for (MD662,215,(5637,1607)) is not in pool. Re-compute.\n",
      "Feature for (MD662,215,(5637,1672)) is not in pool. Re-compute.\n",
      "Feature for (MD662,215,(5702,1412)) is not in pool. Re-compute.\n",
      "Feature for (MD662,215,(5702,1477)) is not in pool. Re-compute.\n",
      "Feature for (MD662,215,(5702,1542)) is not in pool. Re-compute.\n",
      "Feature for (MD662,215,(5702,1607)) is not in pool. Re-compute.\n",
      "Feature for (MD662,215,(5702,1672)) is not in pool. Re-compute.\n",
      "Feature for (MD662,215,(5767,1412)) is not in pool. Re-compute.\n",
      "Feature for (MD662,215,(5767,1477)) is not in pool. Re-compute.\n",
      "Feature for (MD662,215,(5767,1542)) is not in pool. Re-compute.\n",
      "Feature for (MD662,215,(5767,1607)) is not in pool. Re-compute.\n",
      "Not using image_cache.\n",
      "Load image: 16.95 seconds.\n",
      "Extract patches: 17.07 seconds\n"
     ]
    },
    {
     "name": "stdout",
     "output_type": "stream",
     "text": [
      "(256, 1, 224, 224)\n"
     ]
    },
    {
     "name": "stderr",
     "output_type": "stream",
     "text": [
      "Compute features: 0.37 seconds\n"
     ]
    },
    {
     "name": "stdout",
     "output_type": "stream",
     "text": [
      "('MD662', 193)\n"
     ]
    },
    {
     "name": "stderr",
     "output_type": "stream",
     "text": [
      "Feature for (MD662,193,(5117,1737)) is not in pool. Re-compute.\n",
      "Feature for (MD662,193,(5117,1802)) is not in pool. Re-compute.\n",
      "Feature for (MD662,193,(5117,1867)) is not in pool. Re-compute.\n",
      "Feature for (MD662,193,(5182,1542)) is not in pool. Re-compute.\n",
      "Feature for (MD662,193,(5182,1607)) is not in pool. Re-compute.\n",
      "Feature for (MD662,193,(5182,1672)) is not in pool. Re-compute.\n",
      "Feature for (MD662,193,(5182,1737)) is not in pool. Re-compute.\n",
      "Feature for (MD662,193,(5182,1802)) is not in pool. Re-compute.\n",
      "Feature for (MD662,193,(5182,1867)) is not in pool. Re-compute.\n",
      "Feature for (MD662,193,(5182,1932)) is not in pool. Re-compute.\n",
      "Feature for (MD662,193,(5247,1477)) is not in pool. Re-compute.\n",
      "Feature for (MD662,193,(5247,1542)) is not in pool. Re-compute.\n",
      "Feature for (MD662,193,(5247,1607)) is not in pool. Re-compute.\n",
      "Feature for (MD662,193,(5247,1672)) is not in pool. Re-compute.\n",
      "Feature for (MD662,193,(5247,1737)) is not in pool. Re-compute.\n",
      "Feature for (MD662,193,(5247,1802)) is not in pool. Re-compute.\n",
      "Feature for (MD662,193,(5312,1412)) is not in pool. Re-compute.\n",
      "Feature for (MD662,193,(5312,1477)) is not in pool. Re-compute.\n",
      "Feature for (MD662,193,(5312,1542)) is not in pool. Re-compute.\n",
      "Feature for (MD662,193,(5312,1607)) is not in pool. Re-compute.\n",
      "Feature for (MD662,193,(5312,1672)) is not in pool. Re-compute.\n",
      "Feature for (MD662,193,(5377,1347)) is not in pool. Re-compute.\n",
      "Feature for (MD662,193,(5377,1412)) is not in pool. Re-compute.\n",
      "Feature for (MD662,193,(5377,1477)) is not in pool. Re-compute.\n",
      "Feature for (MD662,193,(5377,1542)) is not in pool. Re-compute.\n",
      "Feature for (MD662,193,(5377,1607)) is not in pool. Re-compute.\n",
      "Feature for (MD662,193,(5377,1672)) is not in pool. Re-compute.\n",
      "Feature for (MD662,193,(5442,1282)) is not in pool. Re-compute.\n",
      "Feature for (MD662,193,(5442,1347)) is not in pool. Re-compute.\n",
      "Feature for (MD662,193,(5442,1412)) is not in pool. Re-compute.\n",
      "Feature for (MD662,193,(5442,1477)) is not in pool. Re-compute.\n",
      "Feature for (MD662,193,(5442,1542)) is not in pool. Re-compute.\n",
      "Feature for (MD662,193,(5442,1607)) is not in pool. Re-compute.\n",
      "Feature for (MD662,193,(5507,1347)) is not in pool. Re-compute.\n",
      "Feature for (MD662,193,(5507,1412)) is not in pool. Re-compute.\n",
      "Feature for (MD662,193,(5507,1477)) is not in pool. Re-compute.\n",
      "Feature for (MD662,193,(5507,1542)) is not in pool. Re-compute.\n",
      "Feature for (MD662,193,(5507,1607)) is not in pool. Re-compute.\n",
      "Feature for (MD662,193,(5572,1347)) is not in pool. Re-compute.\n",
      "Feature for (MD662,193,(5572,1412)) is not in pool. Re-compute.\n",
      "Feature for (MD662,193,(5572,1477)) is not in pool. Re-compute.\n",
      "Feature for (MD662,193,(5572,1542)) is not in pool. Re-compute.\n",
      "Feature for (MD662,193,(5572,1607)) is not in pool. Re-compute.\n",
      "Feature for (MD662,193,(5637,1347)) is not in pool. Re-compute.\n",
      "Feature for (MD662,193,(5637,1412)) is not in pool. Re-compute.\n",
      "Feature for (MD662,193,(5637,1477)) is not in pool. Re-compute.\n",
      "Feature for (MD662,193,(5637,1542)) is not in pool. Re-compute.\n",
      "Feature for (MD662,193,(5637,1607)) is not in pool. Re-compute.\n",
      "Feature for (MD662,193,(5702,1347)) is not in pool. Re-compute.\n",
      "Feature for (MD662,193,(5702,1412)) is not in pool. Re-compute.\n",
      "Feature for (MD662,193,(5702,1477)) is not in pool. Re-compute.\n",
      "Feature for (MD662,193,(5702,1542)) is not in pool. Re-compute.\n",
      "Feature for (MD662,193,(5767,1412)) is not in pool. Re-compute.\n",
      "Feature for (MD662,193,(5767,1477)) is not in pool. Re-compute.\n",
      "Feature for (MD662,193,(5767,1542)) is not in pool. Re-compute.\n",
      "Feature for (MD662,193,(5832,1412)) is not in pool. Re-compute.\n",
      "Feature for (MD662,193,(5832,1477)) is not in pool. Re-compute.\n",
      "Feature for (MD662,193,(5897,1477)) is not in pool. Re-compute.\n",
      "Not using image_cache.\n",
      "Load image: 14.48 seconds.\n",
      "Extract patches: 14.63 seconds\n"
     ]
    },
    {
     "name": "stdout",
     "output_type": "stream",
     "text": [
      "(256, 1, 224, 224)\n"
     ]
    },
    {
     "name": "stderr",
     "output_type": "stream",
     "text": [
      "Compute features: 0.38 seconds\n"
     ]
    },
    {
     "name": "stdout",
     "output_type": "stream",
     "text": [
      "('MD661', 185)\n"
     ]
    },
    {
     "name": "stderr",
     "output_type": "stream",
     "text": [
      "Feature for (MD661,185,(6027,827)) is not in pool. Re-compute.\n",
      "Feature for (MD661,185,(6027,892)) is not in pool. Re-compute.\n",
      "Feature for (MD661,185,(6027,957)) is not in pool. Re-compute.\n",
      "Feature for (MD661,185,(6027,1022)) is not in pool. Re-compute.\n",
      "Feature for (MD661,185,(6092,762)) is not in pool. Re-compute.\n",
      "Feature for (MD661,185,(6092,827)) is not in pool. Re-compute.\n",
      "Feature for (MD661,185,(6092,892)) is not in pool. Re-compute.\n",
      "Feature for (MD661,185,(6092,957)) is not in pool. Re-compute.\n",
      "Feature for (MD661,185,(6157,762)) is not in pool. Re-compute.\n",
      "Feature for (MD661,185,(6157,827)) is not in pool. Re-compute.\n",
      "Feature for (MD661,185,(6287,762)) is not in pool. Re-compute.\n",
      "Feature for (MD661,185,(6287,827)) is not in pool. Re-compute.\n",
      "Feature for (MD661,185,(6287,892)) is not in pool. Re-compute.\n",
      "Feature for (MD661,185,(6352,762)) is not in pool. Re-compute.\n",
      "Feature for (MD661,185,(6352,827)) is not in pool. Re-compute.\n",
      "Feature for (MD661,185,(6352,892)) is not in pool. Re-compute.\n",
      "Feature for (MD661,185,(6417,827)) is not in pool. Re-compute.\n",
      "Not using image_cache.\n",
      "Load image: 16.63 seconds.\n",
      "Extract patches: 16.74 seconds\n"
     ]
    },
    {
     "name": "stdout",
     "output_type": "stream",
     "text": [
      "(256, 1, 224, 224)\n"
     ]
    },
    {
     "name": "stderr",
     "output_type": "stream",
     "text": [
      "Compute features: 0.40 seconds\n"
     ]
    },
    {
     "name": "stdout",
     "output_type": "stream",
     "text": [
      "('MD661', 303)\n",
      "('MD661', 251)\n"
     ]
    },
    {
     "name": "stderr",
     "output_type": "stream",
     "text": [
      "Feature for (MD661,251,(6157,957)) is not in pool. Re-compute.\n",
      "Feature for (MD661,251,(6157,1022)) is not in pool. Re-compute.\n",
      "Feature for (MD661,251,(6222,957)) is not in pool. Re-compute.\n",
      "Feature for (MD661,251,(6222,1022)) is not in pool. Re-compute.\n",
      "Feature for (MD661,251,(6287,892)) is not in pool. Re-compute.\n",
      "Feature for (MD661,251,(6287,957)) is not in pool. Re-compute.\n",
      "Feature for (MD661,251,(6352,827)) is not in pool. Re-compute.\n",
      "Feature for (MD661,251,(6352,892)) is not in pool. Re-compute.\n",
      "Feature for (MD661,251,(6352,957)) is not in pool. Re-compute.\n",
      "Feature for (MD661,251,(6417,762)) is not in pool. Re-compute.\n",
      "Feature for (MD661,251,(6417,827)) is not in pool. Re-compute.\n",
      "Feature for (MD661,251,(6417,892)) is not in pool. Re-compute.\n",
      "Feature for (MD661,251,(6417,957)) is not in pool. Re-compute.\n",
      "Feature for (MD661,251,(6482,762)) is not in pool. Re-compute.\n",
      "Feature for (MD661,251,(6482,827)) is not in pool. Re-compute.\n",
      "Feature for (MD661,251,(6482,892)) is not in pool. Re-compute.\n",
      "Feature for (MD661,251,(6482,957)) is not in pool. Re-compute.\n",
      "Feature for (MD661,251,(6547,697)) is not in pool. Re-compute.\n",
      "Feature for (MD661,251,(6547,762)) is not in pool. Re-compute.\n",
      "Feature for (MD661,251,(6547,827)) is not in pool. Re-compute.\n",
      "Feature for (MD661,251,(6547,892)) is not in pool. Re-compute.\n",
      "Feature for (MD661,251,(6547,957)) is not in pool. Re-compute.\n",
      "Feature for (MD661,251,(6612,697)) is not in pool. Re-compute.\n",
      "Feature for (MD661,251,(6612,762)) is not in pool. Re-compute.\n",
      "Feature for (MD661,251,(6612,827)) is not in pool. Re-compute.\n",
      "Feature for (MD661,251,(6612,892)) is not in pool. Re-compute.\n",
      "Feature for (MD661,251,(6677,632)) is not in pool. Re-compute.\n",
      "Feature for (MD661,251,(6677,697)) is not in pool. Re-compute.\n",
      "Feature for (MD661,251,(6677,762)) is not in pool. Re-compute.\n",
      "Feature for (MD661,251,(6677,827)) is not in pool. Re-compute.\n",
      "Feature for (MD661,251,(6742,632)) is not in pool. Re-compute.\n",
      "Feature for (MD661,251,(6742,697)) is not in pool. Re-compute.\n",
      "Feature for (MD661,251,(6742,762)) is not in pool. Re-compute.\n",
      "Feature for (MD661,251,(6807,632)) is not in pool. Re-compute.\n",
      "Feature for (MD661,251,(6807,697)) is not in pool. Re-compute.\n",
      "Feature for (MD661,251,(6807,762)) is not in pool. Re-compute.\n",
      "Feature for (MD661,251,(6807,827)) is not in pool. Re-compute.\n",
      "Feature for (MD661,251,(6807,892)) is not in pool. Re-compute.\n",
      "Feature for (MD661,251,(6872,632)) is not in pool. Re-compute.\n",
      "Feature for (MD661,251,(6872,697)) is not in pool. Re-compute.\n",
      "Feature for (MD661,251,(6872,762)) is not in pool. Re-compute.\n",
      "Feature for (MD661,251,(6872,827)) is not in pool. Re-compute.\n",
      "Feature for (MD661,251,(6872,892)) is not in pool. Re-compute.\n",
      "Feature for (MD661,251,(6937,697)) is not in pool. Re-compute.\n",
      "Feature for (MD661,251,(6937,762)) is not in pool. Re-compute.\n",
      "Feature for (MD661,251,(6937,827)) is not in pool. Re-compute.\n",
      "Feature for (MD661,251,(7002,762)) is not in pool. Re-compute.\n",
      "Feature for (MD661,251,(7002,827)) is not in pool. Re-compute.\n",
      "Not using image_cache.\n",
      "Load image: 18.47 seconds.\n",
      "Extract patches: 18.62 seconds\n"
     ]
    },
    {
     "name": "stdout",
     "output_type": "stream",
     "text": [
      "(256, 1, 224, 224)\n"
     ]
    },
    {
     "name": "stderr",
     "output_type": "stream",
     "text": [
      "Compute features: 0.38 seconds\n"
     ]
    },
    {
     "name": "stdout",
     "output_type": "stream",
     "text": [
      "('MD661', 182)\n"
     ]
    },
    {
     "name": "stderr",
     "output_type": "stream",
     "text": [
      "Feature for (MD661,182,(6027,957)) is not in pool. Re-compute.\n",
      "Feature for (MD661,182,(6027,1022)) is not in pool. Re-compute.\n",
      "Feature for (MD661,182,(6092,827)) is not in pool. Re-compute.\n",
      "Feature for (MD661,182,(6092,892)) is not in pool. Re-compute.\n",
      "Feature for (MD661,182,(6092,957)) is not in pool. Re-compute.\n",
      "Feature for (MD661,182,(6092,1022)) is not in pool. Re-compute.\n",
      "Feature for (MD661,182,(6157,827)) is not in pool. Re-compute.\n",
      "Not using image_cache.\n",
      "Load image: 17.80 seconds.\n",
      "Extract patches: 17.90 seconds\n"
     ]
    },
    {
     "name": "stdout",
     "output_type": "stream",
     "text": [
      "(256, 1, 224, 224)\n"
     ]
    },
    {
     "name": "stderr",
     "output_type": "stream",
     "text": [
      "Compute features: 0.38 seconds\n"
     ]
    },
    {
     "name": "stdout",
     "output_type": "stream",
     "text": [
      "('MD662', 159)\n",
      "('MD662', 182)\n"
     ]
    },
    {
     "name": "stderr",
     "output_type": "stream",
     "text": [
      "Feature for (MD662,182,(5117,1867)) is not in pool. Re-compute.\n",
      "Feature for (MD662,182,(5117,1932)) is not in pool. Re-compute.\n",
      "Feature for (MD662,182,(5117,1997)) is not in pool. Re-compute.\n",
      "Feature for (MD662,182,(5117,2062)) is not in pool. Re-compute.\n",
      "Feature for (MD662,182,(5117,2127)) is not in pool. Re-compute.\n",
      "Feature for (MD662,182,(5117,2192)) is not in pool. Re-compute.\n",
      "Feature for (MD662,182,(5182,1607)) is not in pool. Re-compute.\n",
      "Feature for (MD662,182,(5182,1672)) is not in pool. Re-compute.\n",
      "Feature for (MD662,182,(5182,1737)) is not in pool. Re-compute.\n",
      "Feature for (MD662,182,(5182,1802)) is not in pool. Re-compute.\n",
      "Feature for (MD662,182,(5182,1867)) is not in pool. Re-compute.\n",
      "Feature for (MD662,182,(5182,1932)) is not in pool. Re-compute.\n",
      "Feature for (MD662,182,(5182,1997)) is not in pool. Re-compute.\n",
      "Feature for (MD662,182,(5182,2062)) is not in pool. Re-compute.\n",
      "Feature for (MD662,182,(5182,2127)) is not in pool. Re-compute.\n",
      "Feature for (MD662,182,(5247,1542)) is not in pool. Re-compute.\n",
      "Feature for (MD662,182,(5247,1607)) is not in pool. Re-compute.\n",
      "Feature for (MD662,182,(5247,1672)) is not in pool. Re-compute.\n",
      "Feature for (MD662,182,(5247,1737)) is not in pool. Re-compute.\n",
      "Feature for (MD662,182,(5247,1802)) is not in pool. Re-compute.\n",
      "Feature for (MD662,182,(5247,1867)) is not in pool. Re-compute.\n",
      "Feature for (MD662,182,(5247,1932)) is not in pool. Re-compute.\n",
      "Feature for (MD662,182,(5247,1997)) is not in pool. Re-compute.\n",
      "Feature for (MD662,182,(5312,1542)) is not in pool. Re-compute.\n",
      "Feature for (MD662,182,(5312,1607)) is not in pool. Re-compute.\n",
      "Feature for (MD662,182,(5312,1672)) is not in pool. Re-compute.\n",
      "Feature for (MD662,182,(5312,1737)) is not in pool. Re-compute.\n",
      "Feature for (MD662,182,(5312,1802)) is not in pool. Re-compute.\n",
      "Feature for (MD662,182,(5312,1867)) is not in pool. Re-compute.\n",
      "Feature for (MD662,182,(5377,1542)) is not in pool. Re-compute.\n",
      "Feature for (MD662,182,(5377,1607)) is not in pool. Re-compute.\n",
      "Feature for (MD662,182,(5377,1672)) is not in pool. Re-compute.\n",
      "Feature for (MD662,182,(5377,1737)) is not in pool. Re-compute.\n",
      "Feature for (MD662,182,(5377,1802)) is not in pool. Re-compute.\n",
      "Feature for (MD662,182,(5442,1542)) is not in pool. Re-compute.\n",
      "Feature for (MD662,182,(5442,1607)) is not in pool. Re-compute.\n",
      "Feature for (MD662,182,(5442,1672)) is not in pool. Re-compute.\n",
      "Feature for (MD662,182,(5442,1737)) is not in pool. Re-compute.\n",
      "Feature for (MD662,182,(5507,1542)) is not in pool. Re-compute.\n",
      "Feature for (MD662,182,(5507,1607)) is not in pool. Re-compute.\n",
      "Feature for (MD662,182,(5507,1672)) is not in pool. Re-compute.\n",
      "Feature for (MD662,182,(5572,1607)) is not in pool. Re-compute.\n",
      "Feature for (MD662,182,(5572,1672)) is not in pool. Re-compute.\n",
      "Feature for (MD662,182,(5637,1607)) is not in pool. Re-compute.\n",
      "Not using image_cache.\n",
      "Load image: 14.94 seconds.\n",
      "Extract patches: 15.07 seconds\n"
     ]
    },
    {
     "name": "stdout",
     "output_type": "stream",
     "text": [
      "(256, 1, 224, 224)\n"
     ]
    },
    {
     "name": "stderr",
     "output_type": "stream",
     "text": [
      "Compute features: 0.40 seconds\n"
     ]
    },
    {
     "name": "stdout",
     "output_type": "stream",
     "text": [
      "('MD662', 169)\n"
     ]
    },
    {
     "name": "stderr",
     "output_type": "stream",
     "text": [
      "Feature for (MD662,169,(5117,2127)) is not in pool. Re-compute.\n",
      "Feature for (MD662,169,(5117,2192)) is not in pool. Re-compute.\n",
      "Feature for (MD662,169,(5182,1932)) is not in pool. Re-compute.\n",
      "Feature for (MD662,169,(5182,1997)) is not in pool. Re-compute.\n",
      "Feature for (MD662,169,(5182,2062)) is not in pool. Re-compute.\n",
      "Feature for (MD662,169,(5182,2127)) is not in pool. Re-compute.\n",
      "Feature for (MD662,169,(5182,2192)) is not in pool. Re-compute.\n",
      "Feature for (MD662,169,(5182,2257)) is not in pool. Re-compute.\n",
      "Feature for (MD662,169,(5247,1997)) is not in pool. Re-compute.\n",
      "Feature for (MD662,169,(5247,2062)) is not in pool. Re-compute.\n",
      "Feature for (MD662,169,(5247,2127)) is not in pool. Re-compute.\n",
      "Feature for (MD662,169,(5247,2192)) is not in pool. Re-compute.\n",
      "Feature for (MD662,169,(5247,2257)) is not in pool. Re-compute.\n",
      "Feature for (MD662,169,(5312,1997)) is not in pool. Re-compute.\n",
      "Feature for (MD662,169,(5312,2062)) is not in pool. Re-compute.\n",
      "Feature for (MD662,169,(5312,2127)) is not in pool. Re-compute.\n",
      "Feature for (MD662,169,(5377,1997)) is not in pool. Re-compute.\n",
      "Feature for (MD662,169,(5377,2062)) is not in pool. Re-compute.\n",
      "Feature for (MD662,169,(5442,1997)) is not in pool. Re-compute.\n",
      "Not using image_cache.\n",
      "Load image: 14.53 seconds.\n",
      "Extract patches: 14.63 seconds\n"
     ]
    },
    {
     "name": "stdout",
     "output_type": "stream",
     "text": [
      "(256, 1, 224, 224)\n"
     ]
    },
    {
     "name": "stderr",
     "output_type": "stream",
     "text": [
      "Compute features: 0.38 seconds\n"
     ]
    },
    {
     "name": "stdout",
     "output_type": "stream",
     "text": [
      "('MD661', 232)\n"
     ]
    },
    {
     "name": "stderr",
     "output_type": "stream",
     "text": [
      "Feature for (MD661,232,(6482,957)) is not in pool. Re-compute.\n",
      "Feature for (MD661,232,(6482,1022)) is not in pool. Re-compute.\n",
      "Feature for (MD661,232,(6547,957)) is not in pool. Re-compute.\n",
      "Feature for (MD661,232,(6547,1022)) is not in pool. Re-compute.\n",
      "Feature for (MD661,232,(6612,892)) is not in pool. Re-compute.\n",
      "Feature for (MD661,232,(6612,957)) is not in pool. Re-compute.\n",
      "Feature for (MD661,232,(6612,1022)) is not in pool. Re-compute.\n",
      "Feature for (MD661,232,(6677,827)) is not in pool. Re-compute.\n",
      "Feature for (MD661,232,(6677,892)) is not in pool. Re-compute.\n",
      "Feature for (MD661,232,(6677,957)) is not in pool. Re-compute.\n",
      "Feature for (MD661,232,(6742,827)) is not in pool. Re-compute.\n",
      "Feature for (MD661,232,(6742,892)) is not in pool. Re-compute.\n",
      "Feature for (MD661,232,(6807,827)) is not in pool. Re-compute.\n",
      "Not using image_cache.\n",
      "Load image: 18.72 seconds.\n",
      "Extract patches: 18.83 seconds\n"
     ]
    },
    {
     "name": "stdout",
     "output_type": "stream",
     "text": [
      "(256, 1, 224, 224)\n"
     ]
    },
    {
     "name": "stderr",
     "output_type": "stream",
     "text": [
      "Compute features: 0.37 seconds\n"
     ]
    },
    {
     "name": "stdout",
     "output_type": "stream",
     "text": [
      "('MD662', 238)\n"
     ]
    },
    {
     "name": "stderr",
     "output_type": "stream",
     "text": [
      "Feature for (MD662,238,(5182,1477)) is not in pool. Re-compute.\n",
      "Feature for (MD662,238,(5247,1412)) is not in pool. Re-compute.\n",
      "Feature for (MD662,238,(5247,1477)) is not in pool. Re-compute.\n",
      "Feature for (MD662,238,(5247,1542)) is not in pool. Re-compute.\n",
      "Feature for (MD662,238,(5312,1412)) is not in pool. Re-compute.\n",
      "Feature for (MD662,238,(5312,1477)) is not in pool. Re-compute.\n",
      "Feature for (MD662,238,(5312,1542)) is not in pool. Re-compute.\n",
      "Feature for (MD662,238,(5377,1347)) is not in pool. Re-compute.\n",
      "Feature for (MD662,238,(5377,1412)) is not in pool. Re-compute.\n",
      "Feature for (MD662,238,(5377,1477)) is not in pool. Re-compute.\n",
      "Feature for (MD662,238,(5377,1542)) is not in pool. Re-compute.\n",
      "Feature for (MD662,238,(5442,1282)) is not in pool. Re-compute.\n",
      "Feature for (MD662,238,(5442,1347)) is not in pool. Re-compute.\n",
      "Feature for (MD662,238,(5442,1412)) is not in pool. Re-compute.\n",
      "Feature for (MD662,238,(5442,1477)) is not in pool. Re-compute.\n",
      "Feature for (MD662,238,(5507,1282)) is not in pool. Re-compute.\n",
      "Feature for (MD662,238,(5507,1347)) is not in pool. Re-compute.\n",
      "Feature for (MD662,238,(5507,1412)) is not in pool. Re-compute.\n",
      "Feature for (MD662,238,(5507,1477)) is not in pool. Re-compute.\n",
      "Feature for (MD662,238,(5572,1217)) is not in pool. Re-compute.\n",
      "Feature for (MD662,238,(5572,1282)) is not in pool. Re-compute.\n",
      "Feature for (MD662,238,(5572,1347)) is not in pool. Re-compute.\n",
      "Feature for (MD662,238,(5572,1412)) is not in pool. Re-compute.\n",
      "Feature for (MD662,238,(5572,1477)) is not in pool. Re-compute.\n",
      "Feature for (MD662,238,(5637,1217)) is not in pool. Re-compute.\n",
      "Feature for (MD662,238,(5637,1282)) is not in pool. Re-compute.\n",
      "Feature for (MD662,238,(5637,1347)) is not in pool. Re-compute.\n",
      "Feature for (MD662,238,(5637,1412)) is not in pool. Re-compute.\n",
      "Feature for (MD662,238,(5637,1477)) is not in pool. Re-compute.\n",
      "Feature for (MD662,238,(5702,1282)) is not in pool. Re-compute.\n",
      "Feature for (MD662,238,(5702,1347)) is not in pool. Re-compute.\n",
      "Feature for (MD662,238,(5702,1412)) is not in pool. Re-compute.\n",
      "Feature for (MD662,238,(5767,1282)) is not in pool. Re-compute.\n",
      "Feature for (MD662,238,(5767,1347)) is not in pool. Re-compute.\n",
      "Feature for (MD662,238,(5767,1412)) is not in pool. Re-compute.\n",
      "Feature for (MD662,238,(5832,1347)) is not in pool. Re-compute.\n",
      "Not using image_cache.\n",
      "Load image: 16.49 seconds.\n",
      "Extract patches: 16.61 seconds\n"
     ]
    },
    {
     "name": "stdout",
     "output_type": "stream",
     "text": [
      "(256, 1, 224, 224)\n"
     ]
    },
    {
     "name": "stderr",
     "output_type": "stream",
     "text": [
      "Compute features: 0.39 seconds\n"
     ]
    },
    {
     "name": "stdout",
     "output_type": "stream",
     "text": [
      "('MD661', 286)\n"
     ]
    },
    {
     "name": "stderr",
     "output_type": "stream",
     "text": [
      "Feature for (MD661,286,(5832,1347)) is not in pool. Re-compute.\n",
      "Feature for (MD661,286,(5832,1412)) is not in pool. Re-compute.\n",
      "Feature for (MD661,286,(5897,1282)) is not in pool. Re-compute.\n",
      "Feature for (MD661,286,(5897,1347)) is not in pool. Re-compute.\n",
      "Feature for (MD661,286,(5897,1412)) is not in pool. Re-compute.\n",
      "Feature for (MD661,286,(5897,1477)) is not in pool. Re-compute.\n",
      "Feature for (MD661,286,(5962,1087)) is not in pool. Re-compute.\n",
      "Feature for (MD661,286,(5962,1152)) is not in pool. Re-compute.\n",
      "Feature for (MD661,286,(5962,1217)) is not in pool. Re-compute.\n",
      "Feature for (MD661,286,(5962,1282)) is not in pool. Re-compute.\n",
      "Feature for (MD661,286,(5962,1347)) is not in pool. Re-compute.\n",
      "Feature for (MD661,286,(5962,1412)) is not in pool. Re-compute.\n",
      "Feature for (MD661,286,(5962,1477)) is not in pool. Re-compute.\n",
      "Feature for (MD661,286,(6027,1087)) is not in pool. Re-compute.\n",
      "Feature for (MD661,286,(6027,1152)) is not in pool. Re-compute.\n",
      "Feature for (MD661,286,(6027,1217)) is not in pool. Re-compute.\n",
      "Feature for (MD661,286,(6027,1282)) is not in pool. Re-compute.\n",
      "Feature for (MD661,286,(6027,1347)) is not in pool. Re-compute.\n",
      "Feature for (MD661,286,(6027,1412)) is not in pool. Re-compute.\n",
      "Feature for (MD661,286,(6092,1022)) is not in pool. Re-compute.\n",
      "Feature for (MD661,286,(6092,1087)) is not in pool. Re-compute.\n",
      "Feature for (MD661,286,(6092,1152)) is not in pool. Re-compute.\n",
      "Feature for (MD661,286,(6092,1217)) is not in pool. Re-compute.\n",
      "Feature for (MD661,286,(6092,1282)) is not in pool. Re-compute.\n",
      "Feature for (MD661,286,(6092,1347)) is not in pool. Re-compute.\n",
      "Feature for (MD661,286,(6157,1022)) is not in pool. Re-compute.\n",
      "Feature for (MD661,286,(6157,1087)) is not in pool. Re-compute.\n",
      "Feature for (MD661,286,(6157,1152)) is not in pool. Re-compute.\n",
      "Feature for (MD661,286,(6157,1217)) is not in pool. Re-compute.\n",
      "Feature for (MD661,286,(6157,1282)) is not in pool. Re-compute.\n",
      "Feature for (MD661,286,(6222,1087)) is not in pool. Re-compute.\n",
      "Feature for (MD661,286,(6222,1152)) is not in pool. Re-compute.\n",
      "Feature for (MD661,286,(6222,1217)) is not in pool. Re-compute.\n",
      "Feature for (MD661,286,(6287,1087)) is not in pool. Re-compute.\n",
      "Feature for (MD661,286,(6287,1152)) is not in pool. Re-compute.\n",
      "Not using image_cache.\n",
      "Load image: 17.46 seconds.\n",
      "Extract patches: 17.59 seconds\n"
     ]
    },
    {
     "name": "stdout",
     "output_type": "stream",
     "text": [
      "(256, 1, 224, 224)\n"
     ]
    },
    {
     "name": "stderr",
     "output_type": "stream",
     "text": [
      "Compute features: 0.38 seconds\n"
     ]
    },
    {
     "name": "stdout",
     "output_type": "stream",
     "text": [
      "('MD662', 251)\n"
     ]
    },
    {
     "name": "stderr",
     "output_type": "stream",
     "text": [
      "Feature for (MD662,251,(4922,1542)) is not in pool. Re-compute.\n",
      "Feature for (MD662,251,(4922,1607)) is not in pool. Re-compute.\n",
      "Feature for (MD662,251,(4922,1672)) is not in pool. Re-compute.\n",
      "Feature for (MD662,251,(4922,1737)) is not in pool. Re-compute.\n",
      "Feature for (MD662,251,(4987,1412)) is not in pool. Re-compute.\n",
      "Feature for (MD662,251,(4987,1477)) is not in pool. Re-compute.\n",
      "Feature for (MD662,251,(4987,1542)) is not in pool. Re-compute.\n",
      "Feature for (MD662,251,(4987,1607)) is not in pool. Re-compute.\n",
      "Feature for (MD662,251,(4987,1672)) is not in pool. Re-compute.\n",
      "Feature for (MD662,251,(5052,1347)) is not in pool. Re-compute.\n",
      "Feature for (MD662,251,(5052,1412)) is not in pool. Re-compute.\n",
      "Feature for (MD662,251,(5052,1477)) is not in pool. Re-compute.\n",
      "Feature for (MD662,251,(5052,1542)) is not in pool. Re-compute.\n",
      "Feature for (MD662,251,(5117,1282)) is not in pool. Re-compute.\n",
      "Feature for (MD662,251,(5117,1347)) is not in pool. Re-compute.\n",
      "Feature for (MD662,251,(5117,1412)) is not in pool. Re-compute.\n",
      "Feature for (MD662,251,(5117,1477)) is not in pool. Re-compute.\n",
      "Feature for (MD662,251,(5182,1152)) is not in pool. Re-compute.\n",
      "Feature for (MD662,251,(5182,1217)) is not in pool. Re-compute.\n",
      "Feature for (MD662,251,(5182,1282)) is not in pool. Re-compute.\n",
      "Feature for (MD662,251,(5182,1347)) is not in pool. Re-compute.\n",
      "Feature for (MD662,251,(5182,1412)) is not in pool. Re-compute.\n",
      "Feature for (MD662,251,(5247,1152)) is not in pool. Re-compute.\n",
      "Feature for (MD662,251,(5247,1217)) is not in pool. Re-compute.\n",
      "Feature for (MD662,251,(5247,1282)) is not in pool. Re-compute.\n",
      "Feature for (MD662,251,(5247,1347)) is not in pool. Re-compute.\n",
      "Feature for (MD662,251,(5247,1412)) is not in pool. Re-compute.\n",
      "Feature for (MD662,251,(5312,1152)) is not in pool. Re-compute.\n",
      "Feature for (MD662,251,(5312,1217)) is not in pool. Re-compute.\n",
      "Feature for (MD662,251,(5312,1282)) is not in pool. Re-compute.\n",
      "Feature for (MD662,251,(5312,1347)) is not in pool. Re-compute.\n",
      "Feature for (MD662,251,(5377,1152)) is not in pool. Re-compute.\n",
      "Feature for (MD662,251,(5377,1217)) is not in pool. Re-compute.\n",
      "Feature for (MD662,251,(5377,1282)) is not in pool. Re-compute.\n",
      "Feature for (MD662,251,(5377,1347)) is not in pool. Re-compute.\n",
      "Feature for (MD662,251,(5442,1152)) is not in pool. Re-compute.\n",
      "Feature for (MD662,251,(5442,1217)) is not in pool. Re-compute.\n",
      "Feature for (MD662,251,(5442,1282)) is not in pool. Re-compute.\n",
      "Feature for (MD662,251,(5507,1217)) is not in pool. Re-compute.\n",
      "Feature for (MD662,251,(5507,1282)) is not in pool. Re-compute.\n",
      "Feature for (MD662,251,(5572,1217)) is not in pool. Re-compute.\n",
      "Feature for (MD662,251,(5572,1282)) is not in pool. Re-compute.\n",
      "Feature for (MD662,251,(5637,1282)) is not in pool. Re-compute.\n",
      "Feature for (MD662,251,(5702,1282)) is not in pool. Re-compute.\n",
      "Not using image_cache.\n",
      "Load image: 17.11 seconds.\n",
      "Extract patches: 17.24 seconds\n"
     ]
    },
    {
     "name": "stdout",
     "output_type": "stream",
     "text": [
      "(256, 1, 224, 224)\n"
     ]
    },
    {
     "name": "stderr",
     "output_type": "stream",
     "text": [
      "Compute features: 0.38 seconds\n"
     ]
    },
    {
     "name": "stdout",
     "output_type": "stream",
     "text": [
      "('MD662', 285)\n",
      "('MD661', 267)\n"
     ]
    },
    {
     "name": "stderr",
     "output_type": "stream",
     "text": [
      "Feature for (MD661,267,(5897,1152)) is not in pool. Re-compute.\n",
      "Feature for (MD661,267,(5897,1217)) is not in pool. Re-compute.\n",
      "Feature for (MD661,267,(5962,1022)) is not in pool. Re-compute.\n",
      "Feature for (MD661,267,(5962,1087)) is not in pool. Re-compute.\n",
      "Feature for (MD661,267,(5962,1152)) is not in pool. Re-compute.\n",
      "Feature for (MD661,267,(6027,957)) is not in pool. Re-compute.\n",
      "Feature for (MD661,267,(6027,1022)) is not in pool. Re-compute.\n",
      "Feature for (MD661,267,(6027,1087)) is not in pool. Re-compute.\n",
      "Feature for (MD661,267,(6092,892)) is not in pool. Re-compute.\n",
      "Feature for (MD661,267,(6092,957)) is not in pool. Re-compute.\n",
      "Feature for (MD661,267,(6092,1022)) is not in pool. Re-compute.\n",
      "Feature for (MD661,267,(6157,827)) is not in pool. Re-compute.\n",
      "Feature for (MD661,267,(6157,892)) is not in pool. Re-compute.\n",
      "Feature for (MD661,267,(6157,957)) is not in pool. Re-compute.\n",
      "Feature for (MD661,267,(6222,762)) is not in pool. Re-compute.\n",
      "Feature for (MD661,267,(6222,827)) is not in pool. Re-compute.\n",
      "Feature for (MD661,267,(6222,892)) is not in pool. Re-compute.\n",
      "Feature for (MD661,267,(6222,957)) is not in pool. Re-compute.\n",
      "Feature for (MD661,267,(6287,697)) is not in pool. Re-compute.\n",
      "Feature for (MD661,267,(6287,762)) is not in pool. Re-compute.\n",
      "Feature for (MD661,267,(6287,827)) is not in pool. Re-compute.\n",
      "Feature for (MD661,267,(6287,892)) is not in pool. Re-compute.\n",
      "Feature for (MD661,267,(6352,697)) is not in pool. Re-compute.\n",
      "Feature for (MD661,267,(6352,762)) is not in pool. Re-compute.\n",
      "Feature for (MD661,267,(6352,827)) is not in pool. Re-compute.\n",
      "Feature for (MD661,267,(6352,892)) is not in pool. Re-compute.\n",
      "Feature for (MD661,267,(6352,957)) is not in pool. Re-compute.\n",
      "Feature for (MD661,267,(6417,632)) is not in pool. Re-compute.\n",
      "Feature for (MD661,267,(6417,697)) is not in pool. Re-compute.\n",
      "Feature for (MD661,267,(6417,762)) is not in pool. Re-compute.\n",
      "Feature for (MD661,267,(6417,827)) is not in pool. Re-compute.\n",
      "Feature for (MD661,267,(6417,892)) is not in pool. Re-compute.\n",
      "Feature for (MD661,267,(6482,567)) is not in pool. Re-compute.\n",
      "Feature for (MD661,267,(6482,632)) is not in pool. Re-compute.\n",
      "Feature for (MD661,267,(6482,697)) is not in pool. Re-compute.\n",
      "Feature for (MD661,267,(6482,762)) is not in pool. Re-compute.\n",
      "Feature for (MD661,267,(6482,827)) is not in pool. Re-compute.\n",
      "Feature for (MD661,267,(6482,892)) is not in pool. Re-compute.\n",
      "Feature for (MD661,267,(6547,632)) is not in pool. Re-compute.\n",
      "Feature for (MD661,267,(6547,697)) is not in pool. Re-compute.\n",
      "Feature for (MD661,267,(6547,762)) is not in pool. Re-compute.\n",
      "Feature for (MD661,267,(6547,827)) is not in pool. Re-compute.\n",
      "Feature for (MD661,267,(6547,892)) is not in pool. Re-compute.\n",
      "Feature for (MD661,267,(6612,632)) is not in pool. Re-compute.\n",
      "Feature for (MD661,267,(6612,697)) is not in pool. Re-compute.\n",
      "Feature for (MD661,267,(6612,762)) is not in pool. Re-compute.\n",
      "Feature for (MD661,267,(6612,827)) is not in pool. Re-compute.\n",
      "Feature for (MD661,267,(6612,892)) is not in pool. Re-compute.\n",
      "Feature for (MD661,267,(6677,697)) is not in pool. Re-compute.\n",
      "Feature for (MD661,267,(6677,762)) is not in pool. Re-compute.\n",
      "Feature for (MD661,267,(6677,827)) is not in pool. Re-compute.\n",
      "Feature for (MD661,267,(6677,892)) is not in pool. Re-compute.\n",
      "Feature for (MD661,267,(6742,762)) is not in pool. Re-compute.\n",
      "Feature for (MD661,267,(6742,827)) is not in pool. Re-compute.\n",
      "Feature for (MD661,267,(6807,762)) is not in pool. Re-compute.\n",
      "Feature for (MD661,267,(6807,827)) is not in pool. Re-compute.\n",
      "Not using image_cache.\n",
      "Load image: 18.86 seconds.\n",
      "Extract patches: 19.02 seconds\n"
     ]
    },
    {
     "name": "stdout",
     "output_type": "stream",
     "text": [
      "(256, 1, 224, 224)\n"
     ]
    },
    {
     "name": "stderr",
     "output_type": "stream",
     "text": [
      "Compute features: 0.40 seconds\n"
     ]
    },
    {
     "name": "stdout",
     "output_type": "stream",
     "text": [
      "('MD662', 223)\n"
     ]
    },
    {
     "name": "stderr",
     "output_type": "stream",
     "text": [
      "Feature for (MD662,223,(5377,1867)) is not in pool. Re-compute.\n",
      "Feature for (MD662,223,(5442,1802)) is not in pool. Re-compute.\n",
      "Feature for (MD662,223,(5442,1867)) is not in pool. Re-compute.\n",
      "Feature for (MD662,223,(5507,1737)) is not in pool. Re-compute.\n",
      "Feature for (MD662,223,(5507,1802)) is not in pool. Re-compute.\n",
      "Feature for (MD662,223,(5507,1867)) is not in pool. Re-compute.\n",
      "Feature for (MD662,223,(5572,1672)) is not in pool. Re-compute.\n",
      "Feature for (MD662,223,(5572,1737)) is not in pool. Re-compute.\n",
      "Feature for (MD662,223,(5572,1802)) is not in pool. Re-compute.\n",
      "Not using image_cache.\n",
      "Load image: 17.34 seconds.\n",
      "Extract patches: 17.44 seconds\n"
     ]
    },
    {
     "name": "stdout",
     "output_type": "stream",
     "text": [
      "(256, 1, 224, 224)\n"
     ]
    },
    {
     "name": "stderr",
     "output_type": "stream",
     "text": [
      "Compute features: 0.38 seconds\n"
     ]
    },
    {
     "name": "stdout",
     "output_type": "stream",
     "text": [
      "('MD662', 214)\n",
      "('MD662', 153)\n",
      "('MD662', 194)\n"
     ]
    },
    {
     "name": "stderr",
     "output_type": "stream",
     "text": [
      "Feature for (MD662,194,(5117,1867)) is not in pool. Re-compute.\n",
      "Feature for (MD662,194,(5182,1607)) is not in pool. Re-compute.\n",
      "Feature for (MD662,194,(5182,1672)) is not in pool. Re-compute.\n",
      "Feature for (MD662,194,(5182,1737)) is not in pool. Re-compute.\n",
      "Feature for (MD662,194,(5182,1802)) is not in pool. Re-compute.\n",
      "Feature for (MD662,194,(5247,1477)) is not in pool. Re-compute.\n",
      "Feature for (MD662,194,(5247,1542)) is not in pool. Re-compute.\n",
      "Feature for (MD662,194,(5247,1607)) is not in pool. Re-compute.\n",
      "Feature for (MD662,194,(5247,1672)) is not in pool. Re-compute.\n",
      "Feature for (MD662,194,(5247,1737)) is not in pool. Re-compute.\n",
      "Feature for (MD662,194,(5312,1412)) is not in pool. Re-compute.\n",
      "Feature for (MD662,194,(5312,1477)) is not in pool. Re-compute.\n",
      "Feature for (MD662,194,(5312,1542)) is not in pool. Re-compute.\n",
      "Feature for (MD662,194,(5312,1607)) is not in pool. Re-compute.\n",
      "Feature for (MD662,194,(5312,1672)) is not in pool. Re-compute.\n",
      "Feature for (MD662,194,(5377,1347)) is not in pool. Re-compute.\n",
      "Feature for (MD662,194,(5377,1412)) is not in pool. Re-compute.\n",
      "Feature for (MD662,194,(5377,1477)) is not in pool. Re-compute.\n",
      "Feature for (MD662,194,(5377,1542)) is not in pool. Re-compute.\n",
      "Feature for (MD662,194,(5377,1607)) is not in pool. Re-compute.\n",
      "Feature for (MD662,194,(5442,1282)) is not in pool. Re-compute.\n",
      "Feature for (MD662,194,(5442,1347)) is not in pool. Re-compute.\n",
      "Feature for (MD662,194,(5442,1412)) is not in pool. Re-compute.\n",
      "Feature for (MD662,194,(5442,1477)) is not in pool. Re-compute.\n",
      "Feature for (MD662,194,(5442,1542)) is not in pool. Re-compute.\n",
      "Feature for (MD662,194,(5442,1607)) is not in pool. Re-compute.\n",
      "Feature for (MD662,194,(5507,1282)) is not in pool. Re-compute.\n",
      "Feature for (MD662,194,(5507,1347)) is not in pool. Re-compute.\n",
      "Feature for (MD662,194,(5507,1412)) is not in pool. Re-compute.\n",
      "Feature for (MD662,194,(5507,1477)) is not in pool. Re-compute.\n",
      "Feature for (MD662,194,(5507,1542)) is not in pool. Re-compute.\n",
      "Feature for (MD662,194,(5507,1607)) is not in pool. Re-compute.\n",
      "Feature for (MD662,194,(5572,1282)) is not in pool. Re-compute.\n",
      "Feature for (MD662,194,(5572,1347)) is not in pool. Re-compute.\n",
      "Feature for (MD662,194,(5572,1412)) is not in pool. Re-compute.\n",
      "Feature for (MD662,194,(5572,1477)) is not in pool. Re-compute.\n",
      "Feature for (MD662,194,(5572,1542)) is not in pool. Re-compute.\n",
      "Feature for (MD662,194,(5572,1607)) is not in pool. Re-compute.\n",
      "Feature for (MD662,194,(5637,1347)) is not in pool. Re-compute.\n",
      "Feature for (MD662,194,(5637,1412)) is not in pool. Re-compute.\n",
      "Feature for (MD662,194,(5637,1477)) is not in pool. Re-compute.\n",
      "Feature for (MD662,194,(5637,1542)) is not in pool. Re-compute.\n",
      "Feature for (MD662,194,(5637,1607)) is not in pool. Re-compute.\n",
      "Feature for (MD662,194,(5702,1347)) is not in pool. Re-compute.\n",
      "Feature for (MD662,194,(5702,1412)) is not in pool. Re-compute.\n",
      "Feature for (MD662,194,(5702,1477)) is not in pool. Re-compute.\n",
      "Feature for (MD662,194,(5702,1542)) is not in pool. Re-compute.\n",
      "Feature for (MD662,194,(5767,1412)) is not in pool. Re-compute.\n",
      "Feature for (MD662,194,(5767,1477)) is not in pool. Re-compute.\n",
      "Feature for (MD662,194,(5767,1542)) is not in pool. Re-compute.\n",
      "Feature for (MD662,194,(5832,1412)) is not in pool. Re-compute.\n",
      "Feature for (MD662,194,(5832,1477)) is not in pool. Re-compute.\n",
      "Feature for (MD662,194,(5897,1477)) is not in pool. Re-compute.\n",
      "Not using image_cache.\n",
      "Load image: 15.71 seconds.\n",
      "Extract patches: 15.87 seconds\n"
     ]
    },
    {
     "name": "stdout",
     "output_type": "stream",
     "text": [
      "(256, 1, 224, 224)\n"
     ]
    },
    {
     "name": "stderr",
     "output_type": "stream",
     "text": [
      "Compute features: 0.38 seconds\n"
     ]
    },
    {
     "name": "stdout",
     "output_type": "stream",
     "text": [
      "('MD661', 309)\n",
      "('MD661', 188)\n"
     ]
    },
    {
     "name": "stderr",
     "output_type": "stream",
     "text": [
      "Feature for (MD661,188,(5962,1087)) is not in pool. Re-compute.\n",
      "Feature for (MD661,188,(6027,827)) is not in pool. Re-compute.\n",
      "Feature for (MD661,188,(6027,892)) is not in pool. Re-compute.\n",
      "Feature for (MD661,188,(6027,957)) is not in pool. Re-compute.\n",
      "Feature for (MD661,188,(6027,1022)) is not in pool. Re-compute.\n",
      "Feature for (MD661,188,(6092,697)) is not in pool. Re-compute.\n",
      "Feature for (MD661,188,(6092,762)) is not in pool. Re-compute.\n",
      "Feature for (MD661,188,(6092,827)) is not in pool. Re-compute.\n",
      "Feature for (MD661,188,(6092,892)) is not in pool. Re-compute.\n",
      "Feature for (MD661,188,(6157,632)) is not in pool. Re-compute.\n",
      "Feature for (MD661,188,(6157,697)) is not in pool. Re-compute.\n",
      "Feature for (MD661,188,(6157,762)) is not in pool. Re-compute.\n",
      "Feature for (MD661,188,(6222,632)) is not in pool. Re-compute.\n",
      "Feature for (MD661,188,(6287,697)) is not in pool. Re-compute.\n",
      "Feature for (MD661,188,(6287,762)) is not in pool. Re-compute.\n",
      "Feature for (MD661,188,(6287,827)) is not in pool. Re-compute.\n",
      "Feature for (MD661,188,(6352,697)) is not in pool. Re-compute.\n",
      "Feature for (MD661,188,(6352,762)) is not in pool. Re-compute.\n",
      "Feature for (MD661,188,(6352,827)) is not in pool. Re-compute.\n",
      "Feature for (MD661,188,(6417,697)) is not in pool. Re-compute.\n",
      "Feature for (MD661,188,(6417,762)) is not in pool. Re-compute.\n",
      "Feature for (MD661,188,(6482,697)) is not in pool. Re-compute.\n",
      "Feature for (MD661,188,(6482,762)) is not in pool. Re-compute.\n",
      "Not using image_cache.\n",
      "Load image: 17.34 seconds.\n",
      "Extract patches: 17.46 seconds\n"
     ]
    },
    {
     "name": "stdout",
     "output_type": "stream",
     "text": [
      "(256, 1, 224, 224)\n"
     ]
    },
    {
     "name": "stderr",
     "output_type": "stream",
     "text": [
      "Compute features: 0.40 seconds\n"
     ]
    },
    {
     "name": "stdout",
     "output_type": "stream",
     "text": [
      "('MD661', 254)\n"
     ]
    },
    {
     "name": "stderr",
     "output_type": "stream",
     "text": [
      "Feature for (MD661,254,(6092,1022)) is not in pool. Re-compute.\n",
      "Feature for (MD661,254,(6092,1087)) is not in pool. Re-compute.\n",
      "Feature for (MD661,254,(6157,957)) is not in pool. Re-compute.\n",
      "Feature for (MD661,254,(6157,1022)) is not in pool. Re-compute.\n",
      "Feature for (MD661,254,(6222,892)) is not in pool. Re-compute.\n",
      "Feature for (MD661,254,(6222,957)) is not in pool. Re-compute.\n",
      "Feature for (MD661,254,(6222,1022)) is not in pool. Re-compute.\n",
      "Feature for (MD661,254,(6287,827)) is not in pool. Re-compute.\n",
      "Feature for (MD661,254,(6287,892)) is not in pool. Re-compute.\n",
      "Feature for (MD661,254,(6287,957)) is not in pool. Re-compute.\n",
      "Feature for (MD661,254,(6287,1022)) is not in pool. Re-compute.\n",
      "Feature for (MD661,254,(6352,762)) is not in pool. Re-compute.\n",
      "Feature for (MD661,254,(6352,827)) is not in pool. Re-compute.\n",
      "Feature for (MD661,254,(6352,892)) is not in pool. Re-compute.\n",
      "Feature for (MD661,254,(6417,762)) is not in pool. Re-compute.\n",
      "Feature for (MD661,254,(6417,827)) is not in pool. Re-compute.\n",
      "Feature for (MD661,254,(6417,892)) is not in pool. Re-compute.\n",
      "Feature for (MD661,254,(6482,697)) is not in pool. Re-compute.\n",
      "Feature for (MD661,254,(6482,762)) is not in pool. Re-compute.\n",
      "Feature for (MD661,254,(6482,827)) is not in pool. Re-compute.\n",
      "Feature for (MD661,254,(6482,892)) is not in pool. Re-compute.\n",
      "Feature for (MD661,254,(6547,697)) is not in pool. Re-compute.\n",
      "Feature for (MD661,254,(6547,762)) is not in pool. Re-compute.\n",
      "Feature for (MD661,254,(6547,827)) is not in pool. Re-compute.\n",
      "Feature for (MD661,254,(6547,892)) is not in pool. Re-compute.\n",
      "Feature for (MD661,254,(6612,632)) is not in pool. Re-compute.\n",
      "Feature for (MD661,254,(6612,697)) is not in pool. Re-compute.\n",
      "Feature for (MD661,254,(6612,762)) is not in pool. Re-compute.\n",
      "Feature for (MD661,254,(6677,632)) is not in pool. Re-compute.\n",
      "Feature for (MD661,254,(6677,697)) is not in pool. Re-compute.\n",
      "Feature for (MD661,254,(6677,762)) is not in pool. Re-compute.\n",
      "Feature for (MD661,254,(6677,892)) is not in pool. Re-compute.\n",
      "Feature for (MD661,254,(6677,957)) is not in pool. Re-compute.\n",
      "Feature for (MD661,254,(6742,632)) is not in pool. Re-compute.\n",
      "Feature for (MD661,254,(6742,697)) is not in pool. Re-compute.\n",
      "Feature for (MD661,254,(6742,762)) is not in pool. Re-compute.\n",
      "Feature for (MD661,254,(6742,827)) is not in pool. Re-compute.\n",
      "Feature for (MD661,254,(6742,892)) is not in pool. Re-compute.\n",
      "Feature for (MD661,254,(6742,957)) is not in pool. Re-compute.\n",
      "Feature for (MD661,254,(6742,1022)) is not in pool. Re-compute.\n",
      "Feature for (MD661,254,(6807,567)) is not in pool. Re-compute.\n",
      "Feature for (MD661,254,(6807,632)) is not in pool. Re-compute.\n",
      "Feature for (MD661,254,(6807,697)) is not in pool. Re-compute.\n",
      "Feature for (MD661,254,(6807,762)) is not in pool. Re-compute.\n",
      "Feature for (MD661,254,(6807,827)) is not in pool. Re-compute.\n",
      "Feature for (MD661,254,(6807,892)) is not in pool. Re-compute.\n",
      "Feature for (MD661,254,(6807,957)) is not in pool. Re-compute.\n",
      "Feature for (MD661,254,(6872,632)) is not in pool. Re-compute.\n",
      "Feature for (MD661,254,(6872,697)) is not in pool. Re-compute.\n",
      "Feature for (MD661,254,(6872,762)) is not in pool. Re-compute.\n",
      "Feature for (MD661,254,(6872,827)) is not in pool. Re-compute.\n",
      "Feature for (MD661,254,(6872,892)) is not in pool. Re-compute.\n",
      "Feature for (MD661,254,(6872,957)) is not in pool. Re-compute.\n",
      "Feature for (MD661,254,(6937,762)) is not in pool. Re-compute.\n",
      "Feature for (MD661,254,(6937,827)) is not in pool. Re-compute.\n",
      "Feature for (MD661,254,(6937,892)) is not in pool. Re-compute.\n",
      "Feature for (MD661,254,(7002,827)) is not in pool. Re-compute.\n",
      "Feature for (MD661,254,(7002,892)) is not in pool. Re-compute.\n",
      "Not using image_cache.\n",
      "Load image: 18.41 seconds.\n",
      "Extract patches: 18.56 seconds\n"
     ]
    },
    {
     "name": "stdout",
     "output_type": "stream",
     "text": [
      "(256, 1, 224, 224)\n"
     ]
    },
    {
     "name": "stderr",
     "output_type": "stream",
     "text": [
      "Compute features: 0.38 seconds\n"
     ]
    },
    {
     "name": "stdout",
     "output_type": "stream",
     "text": [
      "('MD661', 169)\n",
      "('MD662', 297)\n",
      "('MD662', 165)\n"
     ]
    },
    {
     "name": "stderr",
     "output_type": "stream",
     "text": [
      "Feature for (MD662,165,(5182,2127)) is not in pool. Re-compute.\n",
      "Feature for (MD662,165,(5182,2192)) is not in pool. Re-compute.\n",
      "Feature for (MD662,165,(5247,2127)) is not in pool. Re-compute.\n",
      "Feature for (MD662,165,(5247,2192)) is not in pool. Re-compute.\n",
      "Feature for (MD662,165,(5247,2257)) is not in pool. Re-compute.\n",
      "Feature for (MD662,165,(5312,2127)) is not in pool. Re-compute.\n",
      "Feature for (MD662,165,(5312,2192)) is not in pool. Re-compute.\n",
      "Feature for (MD662,165,(5312,2257)) is not in pool. Re-compute.\n",
      "Not using image_cache.\n",
      "Load image: 16.16 seconds.\n",
      "Extract patches: 16.25 seconds\n"
     ]
    },
    {
     "name": "stdout",
     "output_type": "stream",
     "text": [
      "(256, 1, 224, 224)\n"
     ]
    },
    {
     "name": "stderr",
     "output_type": "stream",
     "text": [
      "Compute features: 0.38 seconds\n"
     ]
    },
    {
     "name": "stdout",
     "output_type": "stream",
     "text": [
      "('MD661', 235)\n"
     ]
    },
    {
     "name": "stderr",
     "output_type": "stream",
     "text": [
      "Feature for (MD661,235,(6417,1087)) is not in pool. Re-compute.\n",
      "Feature for (MD661,235,(6482,1087)) is not in pool. Re-compute.\n",
      "Feature for (MD661,235,(6547,1022)) is not in pool. Re-compute.\n",
      "Feature for (MD661,235,(6547,1087)) is not in pool. Re-compute.\n",
      "Feature for (MD661,235,(6612,957)) is not in pool. Re-compute.\n",
      "Feature for (MD661,235,(6612,1022)) is not in pool. Re-compute.\n",
      "Feature for (MD661,235,(6612,1087)) is not in pool. Re-compute.\n",
      "Feature for (MD661,235,(6677,957)) is not in pool. Re-compute.\n",
      "Feature for (MD661,235,(6677,1022)) is not in pool. Re-compute.\n",
      "Feature for (MD661,235,(6742,957)) is not in pool. Re-compute.\n",
      "Not using image_cache.\n",
      "Load image: 18.25 seconds.\n",
      "Extract patches: 18.35 seconds\n"
     ]
    },
    {
     "name": "stdout",
     "output_type": "stream",
     "text": [
      "(256, 1, 224, 224)\n"
     ]
    },
    {
     "name": "stderr",
     "output_type": "stream",
     "text": [
      "Compute features: 0.39 seconds\n"
     ]
    },
    {
     "name": "stdout",
     "output_type": "stream",
     "text": [
      "('MD661', 166)\n",
      "('MD661', 273)\n"
     ]
    },
    {
     "name": "stderr",
     "output_type": "stream",
     "text": [
      "Feature for (MD661,273,(5832,1347)) is not in pool. Re-compute.\n",
      "Feature for (MD661,273,(5832,1412)) is not in pool. Re-compute.\n",
      "Feature for (MD661,273,(5897,1087)) is not in pool. Re-compute.\n",
      "Feature for (MD661,273,(5897,1152)) is not in pool. Re-compute.\n",
      "Feature for (MD661,273,(5897,1217)) is not in pool. Re-compute.\n",
      "Feature for (MD661,273,(5897,1282)) is not in pool. Re-compute.\n",
      "Feature for (MD661,273,(5897,1347)) is not in pool. Re-compute.\n",
      "Feature for (MD661,273,(5962,1022)) is not in pool. Re-compute.\n",
      "Feature for (MD661,273,(5962,1087)) is not in pool. Re-compute.\n",
      "Feature for (MD661,273,(5962,1152)) is not in pool. Re-compute.\n",
      "Feature for (MD661,273,(5962,1217)) is not in pool. Re-compute.\n",
      "Feature for (MD661,273,(6027,892)) is not in pool. Re-compute.\n",
      "Feature for (MD661,273,(6027,957)) is not in pool. Re-compute.\n",
      "Feature for (MD661,273,(6027,1022)) is not in pool. Re-compute.\n",
      "Feature for (MD661,273,(6027,1087)) is not in pool. Re-compute.\n",
      "Feature for (MD661,273,(6027,1152)) is not in pool. Re-compute.\n",
      "Feature for (MD661,273,(6027,1217)) is not in pool. Re-compute.\n",
      "Feature for (MD661,273,(6092,827)) is not in pool. Re-compute.\n",
      "Feature for (MD661,273,(6092,892)) is not in pool. Re-compute.\n",
      "Feature for (MD661,273,(6092,957)) is not in pool. Re-compute.\n",
      "Feature for (MD661,273,(6092,1022)) is not in pool. Re-compute.\n",
      "Feature for (MD661,273,(6092,1087)) is not in pool. Re-compute.\n",
      "Feature for (MD661,273,(6092,1152)) is not in pool. Re-compute.\n",
      "Feature for (MD661,273,(6157,762)) is not in pool. Re-compute.\n",
      "Feature for (MD661,273,(6157,827)) is not in pool. Re-compute.\n",
      "Feature for (MD661,273,(6157,892)) is not in pool. Re-compute.\n",
      "Feature for (MD661,273,(6157,957)) is not in pool. Re-compute.\n",
      "Feature for (MD661,273,(6157,1022)) is not in pool. Re-compute.\n",
      "Feature for (MD661,273,(6157,1087)) is not in pool. Re-compute.\n",
      "Feature for (MD661,273,(6157,1152)) is not in pool. Re-compute.\n",
      "Feature for (MD661,273,(6222,762)) is not in pool. Re-compute.\n",
      "Feature for (MD661,273,(6222,827)) is not in pool. Re-compute.\n",
      "Feature for (MD661,273,(6222,892)) is not in pool. Re-compute.\n",
      "Feature for (MD661,273,(6222,957)) is not in pool. Re-compute.\n",
      "Feature for (MD661,273,(6222,1022)) is not in pool. Re-compute.\n",
      "Feature for (MD661,273,(6222,1087)) is not in pool. Re-compute.\n",
      "Feature for (MD661,273,(6287,697)) is not in pool. Re-compute.\n",
      "Feature for (MD661,273,(6287,762)) is not in pool. Re-compute.\n",
      "Feature for (MD661,273,(6287,827)) is not in pool. Re-compute.\n",
      "Feature for (MD661,273,(6287,892)) is not in pool. Re-compute.\n",
      "Feature for (MD661,273,(6287,957)) is not in pool. Re-compute.\n",
      "Feature for (MD661,273,(6287,1022)) is not in pool. Re-compute.\n",
      "Feature for (MD661,273,(6352,632)) is not in pool. Re-compute.\n",
      "Feature for (MD661,273,(6352,697)) is not in pool. Re-compute.\n",
      "Feature for (MD661,273,(6352,762)) is not in pool. Re-compute.\n",
      "Feature for (MD661,273,(6352,827)) is not in pool. Re-compute.\n",
      "Feature for (MD661,273,(6352,892)) is not in pool. Re-compute.\n",
      "Feature for (MD661,273,(6352,957)) is not in pool. Re-compute.\n",
      "Feature for (MD661,273,(6417,697)) is not in pool. Re-compute.\n",
      "Feature for (MD661,273,(6417,762)) is not in pool. Re-compute.\n",
      "Feature for (MD661,273,(6417,827)) is not in pool. Re-compute.\n",
      "Feature for (MD661,273,(6417,892)) is not in pool. Re-compute.\n",
      "Feature for (MD661,273,(6482,697)) is not in pool. Re-compute.\n",
      "Feature for (MD661,273,(6482,762)) is not in pool. Re-compute.\n",
      "Feature for (MD661,273,(6482,827)) is not in pool. Re-compute.\n",
      "Feature for (MD661,273,(6482,892)) is not in pool. Re-compute.\n",
      "Feature for (MD661,273,(6547,762)) is not in pool. Re-compute.\n",
      "Feature for (MD661,273,(6547,827)) is not in pool. Re-compute.\n",
      "Feature for (MD661,273,(6612,762)) is not in pool. Re-compute.\n",
      "Feature for (MD661,273,(6612,827)) is not in pool. Re-compute.\n",
      "Feature for (MD661,273,(6677,827)) is not in pool. Re-compute.\n",
      "Not using image_cache.\n",
      "Load image: 18.18 seconds.\n",
      "Extract patches: 18.34 seconds\n"
     ]
    },
    {
     "name": "stdout",
     "output_type": "stream",
     "text": [
      "(256, 1, 224, 224)\n"
     ]
    },
    {
     "name": "stderr",
     "output_type": "stream",
     "text": [
      "Compute features: 0.38 seconds\n"
     ]
    },
    {
     "name": "stdout",
     "output_type": "stream",
     "text": [
      "('MD661', 152)\n",
      "('MD662', 286)\n",
      "('MD661', 270)\n"
     ]
    },
    {
     "name": "stderr",
     "output_type": "stream",
     "text": [
      "Feature for (MD661,270,(5897,1152)) is not in pool. Re-compute.\n",
      "Feature for (MD661,270,(5897,1217)) is not in pool. Re-compute.\n",
      "Feature for (MD661,270,(5962,1022)) is not in pool. Re-compute.\n",
      "Feature for (MD661,270,(5962,1087)) is not in pool. Re-compute.\n",
      "Feature for (MD661,270,(5962,1152)) is not in pool. Re-compute.\n",
      "Feature for (MD661,270,(6027,957)) is not in pool. Re-compute.\n",
      "Feature for (MD661,270,(6027,1022)) is not in pool. Re-compute.\n",
      "Feature for (MD661,270,(6027,1087)) is not in pool. Re-compute.\n",
      "Feature for (MD661,270,(6092,892)) is not in pool. Re-compute.\n",
      "Feature for (MD661,270,(6092,957)) is not in pool. Re-compute.\n",
      "Feature for (MD661,270,(6092,1022)) is not in pool. Re-compute.\n",
      "Feature for (MD661,270,(6092,1087)) is not in pool. Re-compute.\n",
      "Feature for (MD661,270,(6157,762)) is not in pool. Re-compute.\n",
      "Feature for (MD661,270,(6157,827)) is not in pool. Re-compute.\n",
      "Feature for (MD661,270,(6157,892)) is not in pool. Re-compute.\n",
      "Feature for (MD661,270,(6157,957)) is not in pool. Re-compute.\n",
      "Feature for (MD661,270,(6157,1022)) is not in pool. Re-compute.\n",
      "Feature for (MD661,270,(6157,1087)) is not in pool. Re-compute.\n",
      "Feature for (MD661,270,(6222,762)) is not in pool. Re-compute.\n",
      "Feature for (MD661,270,(6222,827)) is not in pool. Re-compute.\n",
      "Feature for (MD661,270,(6222,892)) is not in pool. Re-compute.\n",
      "Feature for (MD661,270,(6222,957)) is not in pool. Re-compute.\n",
      "Feature for (MD661,270,(6222,1022)) is not in pool. Re-compute.\n",
      "Feature for (MD661,270,(6287,697)) is not in pool. Re-compute.\n",
      "Feature for (MD661,270,(6287,762)) is not in pool. Re-compute.\n",
      "Feature for (MD661,270,(6287,827)) is not in pool. Re-compute.\n",
      "Feature for (MD661,270,(6287,892)) is not in pool. Re-compute.\n",
      "Feature for (MD661,270,(6287,957)) is not in pool. Re-compute.\n",
      "Feature for (MD661,270,(6287,1022)) is not in pool. Re-compute.\n",
      "Feature for (MD661,270,(6352,632)) is not in pool. Re-compute.\n",
      "Feature for (MD661,270,(6352,697)) is not in pool. Re-compute.\n",
      "Feature for (MD661,270,(6352,762)) is not in pool. Re-compute.\n",
      "Feature for (MD661,270,(6352,827)) is not in pool. Re-compute.\n",
      "Feature for (MD661,270,(6352,892)) is not in pool. Re-compute.\n",
      "Feature for (MD661,270,(6352,957)) is not in pool. Re-compute.\n",
      "Feature for (MD661,270,(6352,1022)) is not in pool. Re-compute.\n",
      "Feature for (MD661,270,(6417,632)) is not in pool. Re-compute.\n",
      "Feature for (MD661,270,(6417,697)) is not in pool. Re-compute.\n",
      "Feature for (MD661,270,(6417,762)) is not in pool. Re-compute.\n",
      "Feature for (MD661,270,(6417,827)) is not in pool. Re-compute.\n",
      "Feature for (MD661,270,(6417,892)) is not in pool. Re-compute.\n",
      "Feature for (MD661,270,(6417,957)) is not in pool. Re-compute.\n",
      "Feature for (MD661,270,(6482,632)) is not in pool. Re-compute.\n",
      "Feature for (MD661,270,(6482,697)) is not in pool. Re-compute.\n",
      "Feature for (MD661,270,(6482,762)) is not in pool. Re-compute.\n",
      "Feature for (MD661,270,(6482,827)) is not in pool. Re-compute.\n",
      "Feature for (MD661,270,(6482,892)) is not in pool. Re-compute.\n",
      "Feature for (MD661,270,(6547,697)) is not in pool. Re-compute.\n",
      "Feature for (MD661,270,(6547,762)) is not in pool. Re-compute.\n",
      "Feature for (MD661,270,(6547,827)) is not in pool. Re-compute.\n",
      "Feature for (MD661,270,(6612,697)) is not in pool. Re-compute.\n",
      "Feature for (MD661,270,(6612,762)) is not in pool. Re-compute.\n",
      "Feature for (MD661,270,(6612,827)) is not in pool. Re-compute.\n",
      "Feature for (MD661,270,(6677,762)) is not in pool. Re-compute.\n",
      "Feature for (MD661,270,(6677,827)) is not in pool. Re-compute.\n",
      "Feature for (MD661,270,(6742,827)) is not in pool. Re-compute.\n",
      "Not using image_cache.\n",
      "Load image: 18.25 seconds.\n",
      "Extract patches: 18.41 seconds\n"
     ]
    },
    {
     "name": "stdout",
     "output_type": "stream",
     "text": [
      "(256, 1, 224, 224)\n"
     ]
    },
    {
     "name": "stderr",
     "output_type": "stream",
     "text": [
      "Compute features: 0.39 seconds\n"
     ]
    },
    {
     "name": "stdout",
     "output_type": "stream",
     "text": [
      "('MD661', 218)\n"
     ]
    },
    {
     "name": "stderr",
     "output_type": "stream",
     "text": [
      "Feature for (MD661,218,(6222,762)) is not in pool. Re-compute.\n",
      "Feature for (MD661,218,(6222,827)) is not in pool. Re-compute.\n",
      "Feature for (MD661,218,(6287,697)) is not in pool. Re-compute.\n",
      "Feature for (MD661,218,(6287,762)) is not in pool. Re-compute.\n",
      "Feature for (MD661,218,(6287,827)) is not in pool. Re-compute.\n",
      "Feature for (MD661,218,(6352,632)) is not in pool. Re-compute.\n",
      "Feature for (MD661,218,(6352,697)) is not in pool. Re-compute.\n",
      "Feature for (MD661,218,(6352,762)) is not in pool. Re-compute.\n",
      "Feature for (MD661,218,(6352,827)) is not in pool. Re-compute.\n",
      "Feature for (MD661,218,(6417,567)) is not in pool. Re-compute.\n",
      "Feature for (MD661,218,(6417,632)) is not in pool. Re-compute.\n",
      "Feature for (MD661,218,(6417,697)) is not in pool. Re-compute.\n",
      "Feature for (MD661,218,(6417,762)) is not in pool. Re-compute.\n",
      "Feature for (MD661,218,(6482,502)) is not in pool. Re-compute.\n",
      "Feature for (MD661,218,(6482,567)) is not in pool. Re-compute.\n",
      "Feature for (MD661,218,(6482,632)) is not in pool. Re-compute.\n",
      "Feature for (MD661,218,(6482,697)) is not in pool. Re-compute.\n",
      "Feature for (MD661,218,(6482,762)) is not in pool. Re-compute.\n",
      "Feature for (MD661,218,(6547,437)) is not in pool. Re-compute.\n",
      "Feature for (MD661,218,(6547,502)) is not in pool. Re-compute.\n",
      "Feature for (MD661,218,(6547,567)) is not in pool. Re-compute.\n",
      "Feature for (MD661,218,(6547,632)) is not in pool. Re-compute.\n",
      "Feature for (MD661,218,(6547,697)) is not in pool. Re-compute.\n",
      "Feature for (MD661,218,(6547,762)) is not in pool. Re-compute.\n",
      "Feature for (MD661,218,(6612,437)) is not in pool. Re-compute.\n",
      "Feature for (MD661,218,(6612,502)) is not in pool. Re-compute.\n",
      "Feature for (MD661,218,(6612,567)) is not in pool. Re-compute.\n",
      "Feature for (MD661,218,(6612,632)) is not in pool. Re-compute.\n",
      "Feature for (MD661,218,(6612,697)) is not in pool. Re-compute.\n",
      "Feature for (MD661,218,(6677,372)) is not in pool. Re-compute.\n",
      "Feature for (MD661,218,(6677,437)) is not in pool. Re-compute.\n",
      "Feature for (MD661,218,(6677,502)) is not in pool. Re-compute.\n",
      "Feature for (MD661,218,(6677,567)) is not in pool. Re-compute.\n",
      "Feature for (MD661,218,(6677,632)) is not in pool. Re-compute.\n",
      "Feature for (MD661,218,(6742,437)) is not in pool. Re-compute.\n",
      "Feature for (MD661,218,(6742,502)) is not in pool. Re-compute.\n",
      "Feature for (MD661,218,(6742,567)) is not in pool. Re-compute.\n",
      "Feature for (MD661,218,(6742,632)) is not in pool. Re-compute.\n",
      "Feature for (MD661,218,(6742,697)) is not in pool. Re-compute.\n",
      "Feature for (MD661,218,(6742,762)) is not in pool. Re-compute.\n",
      "Feature for (MD661,218,(6807,502)) is not in pool. Re-compute.\n",
      "Feature for (MD661,218,(6807,567)) is not in pool. Re-compute.\n",
      "Feature for (MD661,218,(6807,632)) is not in pool. Re-compute.\n",
      "Feature for (MD661,218,(6807,697)) is not in pool. Re-compute.\n",
      "Feature for (MD661,218,(6807,762)) is not in pool. Re-compute.\n",
      "Feature for (MD661,218,(6872,567)) is not in pool. Re-compute.\n",
      "Feature for (MD661,218,(6872,632)) is not in pool. Re-compute.\n",
      "Feature for (MD661,218,(6872,697)) is not in pool. Re-compute.\n",
      "Feature for (MD661,218,(6937,632)) is not in pool. Re-compute.\n",
      "Feature for (MD661,218,(6937,697)) is not in pool. Re-compute.\n",
      "Feature for (MD661,218,(7002,697)) is not in pool. Re-compute.\n",
      "Not using image_cache.\n",
      "Load image: 17.98 seconds.\n",
      "Extract patches: 18.13 seconds\n"
     ]
    },
    {
     "name": "stdout",
     "output_type": "stream",
     "text": [
      "(256, 1, 224, 224)\n"
     ]
    },
    {
     "name": "stderr",
     "output_type": "stream",
     "text": [
      "Compute features: 0.38 seconds\n"
     ]
    },
    {
     "name": "stdout",
     "output_type": "stream",
     "text": [
      "('MD662', 216)\n"
     ]
    },
    {
     "name": "stderr",
     "output_type": "stream",
     "text": [
      "Feature for (MD662,216,(5312,1802)) is not in pool. Re-compute.\n",
      "Feature for (MD662,216,(5377,1737)) is not in pool. Re-compute.\n",
      "Feature for (MD662,216,(5377,1802)) is not in pool. Re-compute.\n",
      "Feature for (MD662,216,(5442,1607)) is not in pool. Re-compute.\n",
      "Feature for (MD662,216,(5442,1672)) is not in pool. Re-compute.\n",
      "Feature for (MD662,216,(5442,1737)) is not in pool. Re-compute.\n",
      "Feature for (MD662,216,(5507,1542)) is not in pool. Re-compute.\n",
      "Feature for (MD662,216,(5507,1607)) is not in pool. Re-compute.\n",
      "Feature for (MD662,216,(5507,1672)) is not in pool. Re-compute.\n",
      "Feature for (MD662,216,(5507,1737)) is not in pool. Re-compute.\n",
      "Feature for (MD662,216,(5572,1542)) is not in pool. Re-compute.\n",
      "Feature for (MD662,216,(5572,1607)) is not in pool. Re-compute.\n",
      "Feature for (MD662,216,(5572,1672)) is not in pool. Re-compute.\n",
      "Feature for (MD662,216,(5572,1737)) is not in pool. Re-compute.\n",
      "Feature for (MD662,216,(5637,1477)) is not in pool. Re-compute.\n",
      "Feature for (MD662,216,(5637,1542)) is not in pool. Re-compute.\n",
      "Feature for (MD662,216,(5637,1607)) is not in pool. Re-compute.\n",
      "Feature for (MD662,216,(5637,1672)) is not in pool. Re-compute.\n",
      "Feature for (MD662,216,(5702,1412)) is not in pool. Re-compute.\n",
      "Feature for (MD662,216,(5702,1477)) is not in pool. Re-compute.\n",
      "Feature for (MD662,216,(5702,1542)) is not in pool. Re-compute.\n",
      "Not using image_cache.\n",
      "Load image: 16.52 seconds.\n",
      "Extract patches: 16.63 seconds\n"
     ]
    },
    {
     "name": "stdout",
     "output_type": "stream",
     "text": [
      "(256, 1, 224, 224)\n"
     ]
    },
    {
     "name": "stderr",
     "output_type": "stream",
     "text": [
      "Compute features: 0.37 seconds\n"
     ]
    },
    {
     "name": "stdout",
     "output_type": "stream",
     "text": [
      "('MD662', 269)\n"
     ]
    },
    {
     "name": "stderr",
     "output_type": "stream",
     "text": [
      "Feature for (MD662,269,(4727,1737)) is not in pool. Re-compute.\n",
      "Feature for (MD662,269,(4727,1802)) is not in pool. Re-compute.\n",
      "Feature for (MD662,269,(4792,1542)) is not in pool. Re-compute.\n",
      "Feature for (MD662,269,(4792,1607)) is not in pool. Re-compute.\n",
      "Feature for (MD662,269,(4792,1672)) is not in pool. Re-compute.\n",
      "Feature for (MD662,269,(4792,1737)) is not in pool. Re-compute.\n",
      "Feature for (MD662,269,(4857,1477)) is not in pool. Re-compute.\n",
      "Feature for (MD662,269,(4857,1542)) is not in pool. Re-compute.\n",
      "Feature for (MD662,269,(4857,1607)) is not in pool. Re-compute.\n",
      "Feature for (MD662,269,(4857,1672)) is not in pool. Re-compute.\n",
      "Feature for (MD662,269,(4922,1477)) is not in pool. Re-compute.\n",
      "Feature for (MD662,269,(4922,1542)) is not in pool. Re-compute.\n",
      "Feature for (MD662,269,(4922,1607)) is not in pool. Re-compute.\n",
      "Feature for (MD662,269,(4987,1477)) is not in pool. Re-compute.\n",
      "Feature for (MD662,269,(4987,1542)) is not in pool. Re-compute.\n",
      "Feature for (MD662,269,(5052,1477)) is not in pool. Re-compute.\n",
      "Not using image_cache.\n",
      "Load image: 16.45 seconds.\n",
      "Extract patches: 16.54 seconds\n"
     ]
    },
    {
     "name": "stdout",
     "output_type": "stream",
     "text": [
      "(256, 1, 224, 224)\n"
     ]
    },
    {
     "name": "stderr",
     "output_type": "stream",
     "text": [
      "Compute features: 0.39 seconds\n"
     ]
    },
    {
     "name": "stdout",
     "output_type": "stream",
     "text": [
      "('MD662', 154)\n",
      "('MD662', 211)\n"
     ]
    },
    {
     "name": "stderr",
     "output_type": "stream",
     "text": [
      "Feature for (MD662,211,(5247,1737)) is not in pool. Re-compute.\n",
      "Feature for (MD662,211,(5247,1802)) is not in pool. Re-compute.\n",
      "Feature for (MD662,211,(5247,1867)) is not in pool. Re-compute.\n",
      "Feature for (MD662,211,(5312,1607)) is not in pool. Re-compute.\n",
      "Feature for (MD662,211,(5312,1672)) is not in pool. Re-compute.\n",
      "Feature for (MD662,211,(5312,1737)) is not in pool. Re-compute.\n",
      "Feature for (MD662,211,(5312,1802)) is not in pool. Re-compute.\n",
      "Feature for (MD662,211,(5312,1867)) is not in pool. Re-compute.\n",
      "Feature for (MD662,211,(5377,1542)) is not in pool. Re-compute.\n",
      "Feature for (MD662,211,(5377,1607)) is not in pool. Re-compute.\n",
      "Feature for (MD662,211,(5377,1672)) is not in pool. Re-compute.\n",
      "Feature for (MD662,211,(5377,1737)) is not in pool. Re-compute.\n",
      "Feature for (MD662,211,(5377,1802)) is not in pool. Re-compute.\n",
      "Feature for (MD662,211,(5442,1477)) is not in pool. Re-compute.\n",
      "Feature for (MD662,211,(5442,1542)) is not in pool. Re-compute.\n",
      "Feature for (MD662,211,(5442,1607)) is not in pool. Re-compute.\n",
      "Feature for (MD662,211,(5442,1672)) is not in pool. Re-compute.\n",
      "Feature for (MD662,211,(5442,1737)) is not in pool. Re-compute.\n",
      "Feature for (MD662,211,(5442,1802)) is not in pool. Re-compute.\n",
      "Feature for (MD662,211,(5507,1412)) is not in pool. Re-compute.\n",
      "Feature for (MD662,211,(5507,1477)) is not in pool. Re-compute.\n",
      "Feature for (MD662,211,(5507,1542)) is not in pool. Re-compute.\n",
      "Feature for (MD662,211,(5507,1607)) is not in pool. Re-compute.\n",
      "Feature for (MD662,211,(5507,1672)) is not in pool. Re-compute.\n",
      "Feature for (MD662,211,(5507,1737)) is not in pool. Re-compute.\n",
      "Feature for (MD662,211,(5572,1412)) is not in pool. Re-compute.\n",
      "Feature for (MD662,211,(5572,1477)) is not in pool. Re-compute.\n",
      "Feature for (MD662,211,(5572,1542)) is not in pool. Re-compute.\n",
      "Feature for (MD662,211,(5572,1607)) is not in pool. Re-compute.\n",
      "Feature for (MD662,211,(5572,1672)) is not in pool. Re-compute.\n",
      "Feature for (MD662,211,(5637,1347)) is not in pool. Re-compute.\n",
      "Feature for (MD662,211,(5637,1412)) is not in pool. Re-compute.\n",
      "Feature for (MD662,211,(5637,1477)) is not in pool. Re-compute.\n",
      "Feature for (MD662,211,(5637,1542)) is not in pool. Re-compute.\n",
      "Feature for (MD662,211,(5637,1607)) is not in pool. Re-compute.\n",
      "Feature for (MD662,211,(5637,1672)) is not in pool. Re-compute.\n",
      "Feature for (MD662,211,(5702,1282)) is not in pool. Re-compute.\n",
      "Feature for (MD662,211,(5702,1347)) is not in pool. Re-compute.\n",
      "Feature for (MD662,211,(5702,1412)) is not in pool. Re-compute.\n",
      "Feature for (MD662,211,(5702,1477)) is not in pool. Re-compute.\n",
      "Feature for (MD662,211,(5702,1542)) is not in pool. Re-compute.\n",
      "Feature for (MD662,211,(5702,1607)) is not in pool. Re-compute.\n",
      "Feature for (MD662,211,(5767,1347)) is not in pool. Re-compute.\n",
      "Feature for (MD662,211,(5767,1412)) is not in pool. Re-compute.\n",
      "Feature for (MD662,211,(5767,1477)) is not in pool. Re-compute.\n",
      "Feature for (MD662,211,(5767,1542)) is not in pool. Re-compute.\n",
      "Feature for (MD662,211,(5832,1347)) is not in pool. Re-compute.\n",
      "Feature for (MD662,211,(5832,1412)) is not in pool. Re-compute.\n",
      "Feature for (MD662,211,(5832,1477)) is not in pool. Re-compute.\n",
      "Not using image_cache.\n",
      "Load image: 17.25 seconds.\n",
      "Extract patches: 17.39 seconds\n"
     ]
    },
    {
     "name": "stdout",
     "output_type": "stream",
     "text": [
      "(256, 1, 224, 224)\n"
     ]
    },
    {
     "name": "stderr",
     "output_type": "stream",
     "text": [
      "Compute features: 0.38 seconds\n"
     ]
    },
    {
     "name": "stdout",
     "output_type": "stream",
     "text": [
      "('MD661', 296)\n",
      "('MD662', 224)\n"
     ]
    },
    {
     "name": "stderr",
     "output_type": "stream",
     "text": [
      "Feature for (MD662,224,(5442,1737)) is not in pool. Re-compute.\n",
      "Feature for (MD662,224,(5442,1802)) is not in pool. Re-compute.\n",
      "Feature for (MD662,224,(5507,1737)) is not in pool. Re-compute.\n",
      "Feature for (MD662,224,(5507,1802)) is not in pool. Re-compute.\n",
      "Feature for (MD662,224,(5572,1672)) is not in pool. Re-compute.\n",
      "Feature for (MD662,224,(5572,1737)) is not in pool. Re-compute.\n",
      "Feature for (MD662,224,(5572,1802)) is not in pool. Re-compute.\n",
      "Not using image_cache.\n",
      "Load image: 17.86 seconds.\n",
      "Extract patches: 17.95 seconds\n"
     ]
    },
    {
     "name": "stdout",
     "output_type": "stream",
     "text": [
      "(256, 1, 224, 224)\n"
     ]
    },
    {
     "name": "stderr",
     "output_type": "stream",
     "text": [
      "Compute features: 0.37 seconds\n"
     ]
    },
    {
     "name": "stdout",
     "output_type": "stream",
     "text": [
      "('MD662', 242)\n"
     ]
    },
    {
     "name": "stderr",
     "output_type": "stream",
     "text": [
      "Feature for (MD662,242,(5052,1542)) is not in pool. Re-compute.\n",
      "Feature for (MD662,242,(5117,1412)) is not in pool. Re-compute.\n",
      "Feature for (MD662,242,(5117,1477)) is not in pool. Re-compute.\n",
      "Feature for (MD662,242,(5182,1347)) is not in pool. Re-compute.\n",
      "Feature for (MD662,242,(5182,1412)) is not in pool. Re-compute.\n",
      "Feature for (MD662,242,(5182,1477)) is not in pool. Re-compute.\n",
      "Feature for (MD662,242,(5247,1282)) is not in pool. Re-compute.\n",
      "Feature for (MD662,242,(5247,1347)) is not in pool. Re-compute.\n",
      "Feature for (MD662,242,(5247,1412)) is not in pool. Re-compute.\n",
      "Feature for (MD662,242,(5247,1477)) is not in pool. Re-compute.\n",
      "Feature for (MD662,242,(5312,1282)) is not in pool. Re-compute.\n",
      "Feature for (MD662,242,(5312,1347)) is not in pool. Re-compute.\n",
      "Feature for (MD662,242,(5312,1412)) is not in pool. Re-compute.\n",
      "Feature for (MD662,242,(5312,1477)) is not in pool. Re-compute.\n",
      "Feature for (MD662,242,(5377,1217)) is not in pool. Re-compute.\n",
      "Feature for (MD662,242,(5377,1282)) is not in pool. Re-compute.\n",
      "Feature for (MD662,242,(5377,1347)) is not in pool. Re-compute.\n",
      "Feature for (MD662,242,(5377,1412)) is not in pool. Re-compute.\n",
      "Feature for (MD662,242,(5442,1217)) is not in pool. Re-compute.\n",
      "Feature for (MD662,242,(5442,1282)) is not in pool. Re-compute.\n",
      "Feature for (MD662,242,(5442,1347)) is not in pool. Re-compute.\n",
      "Feature for (MD662,242,(5442,1412)) is not in pool. Re-compute.\n",
      "Feature for (MD662,242,(5507,1152)) is not in pool. Re-compute.\n",
      "Feature for (MD662,242,(5507,1217)) is not in pool. Re-compute.\n",
      "Feature for (MD662,242,(5507,1282)) is not in pool. Re-compute.\n",
      "Feature for (MD662,242,(5507,1347)) is not in pool. Re-compute.\n",
      "Feature for (MD662,242,(5507,1412)) is not in pool. Re-compute.\n",
      "Feature for (MD662,242,(5572,1152)) is not in pool. Re-compute.\n",
      "Feature for (MD662,242,(5572,1217)) is not in pool. Re-compute.\n",
      "Feature for (MD662,242,(5572,1282)) is not in pool. Re-compute.\n",
      "Feature for (MD662,242,(5572,1347)) is not in pool. Re-compute.\n",
      "Feature for (MD662,242,(5572,1412)) is not in pool. Re-compute.\n",
      "Feature for (MD662,242,(5637,1217)) is not in pool. Re-compute.\n",
      "Feature for (MD662,242,(5637,1282)) is not in pool. Re-compute.\n",
      "Feature for (MD662,242,(5637,1347)) is not in pool. Re-compute.\n",
      "Feature for (MD662,242,(5702,1282)) is not in pool. Re-compute.\n",
      "Feature for (MD662,242,(5702,1347)) is not in pool. Re-compute.\n",
      "Feature for (MD662,242,(5767,1282)) is not in pool. Re-compute.\n",
      "Feature for (MD662,242,(5767,1347)) is not in pool. Re-compute.\n",
      "Feature for (MD662,242,(5832,1347)) is not in pool. Re-compute.\n",
      "Not using image_cache.\n",
      "Load image: 16.82 seconds.\n",
      "Extract patches: 16.95 seconds\n"
     ]
    },
    {
     "name": "stdout",
     "output_type": "stream",
     "text": [
      "(256, 1, 224, 224)\n"
     ]
    },
    {
     "name": "stderr",
     "output_type": "stream",
     "text": [
      "Compute features: 0.39 seconds\n"
     ]
    },
    {
     "name": "stdout",
     "output_type": "stream",
     "text": [
      "('MD661', 293)\n"
     ]
    },
    {
     "name": "stderr",
     "output_type": "stream",
     "text": [
      "Feature for (MD661,293,(6027,1412)) is not in pool. Re-compute.\n",
      "Feature for (MD661,293,(6092,1412)) is not in pool. Re-compute.\n",
      "Not using image_cache.\n",
      "Load image: 18.15 seconds.\n",
      "Extract patches: 18.25 seconds\n"
     ]
    },
    {
     "name": "stdout",
     "output_type": "stream",
     "text": [
      "(256, 1, 224, 224)\n"
     ]
    },
    {
     "name": "stderr",
     "output_type": "stream",
     "text": [
      "Compute features: 0.37 seconds\n"
     ]
    },
    {
     "name": "stdout",
     "output_type": "stream",
     "text": [
      "('MD661', 241)\n"
     ]
    },
    {
     "name": "stderr",
     "output_type": "stream",
     "text": [
      "Feature for (MD661,241,(6352,1087)) is not in pool. Re-compute.\n",
      "Feature for (MD661,241,(6417,1022)) is not in pool. Re-compute.\n",
      "Feature for (MD661,241,(6417,1087)) is not in pool. Re-compute.\n",
      "Feature for (MD661,241,(6482,957)) is not in pool. Re-compute.\n",
      "Feature for (MD661,241,(6482,1022)) is not in pool. Re-compute.\n",
      "Feature for (MD661,241,(6482,1087)) is not in pool. Re-compute.\n",
      "Feature for (MD661,241,(6547,957)) is not in pool. Re-compute.\n",
      "Feature for (MD661,241,(6547,1022)) is not in pool. Re-compute.\n",
      "Feature for (MD661,241,(6547,1087)) is not in pool. Re-compute.\n",
      "Feature for (MD661,241,(6612,892)) is not in pool. Re-compute.\n",
      "Feature for (MD661,241,(6612,957)) is not in pool. Re-compute.\n",
      "Feature for (MD661,241,(6612,1022)) is not in pool. Re-compute.\n",
      "Feature for (MD661,241,(6612,1087)) is not in pool. Re-compute.\n",
      "Feature for (MD661,241,(6677,892)) is not in pool. Re-compute.\n",
      "Feature for (MD661,241,(6677,957)) is not in pool. Re-compute.\n",
      "Feature for (MD661,241,(6677,1022)) is not in pool. Re-compute.\n",
      "Feature for (MD661,241,(6742,892)) is not in pool. Re-compute.\n",
      "Feature for (MD661,241,(6742,957)) is not in pool. Re-compute.\n",
      "Feature for (MD661,241,(6807,827)) is not in pool. Re-compute.\n",
      "Feature for (MD661,241,(6807,892)) is not in pool. Re-compute.\n",
      "Not using image_cache.\n",
      "Load image: 17.64 seconds.\n",
      "Extract patches: 17.75 seconds\n"
     ]
    },
    {
     "name": "stdout",
     "output_type": "stream",
     "text": [
      "(256, 1, 224, 224)\n"
     ]
    },
    {
     "name": "stderr",
     "output_type": "stream",
     "text": [
      "Compute features: 0.37 seconds\n"
     ]
    },
    {
     "name": "stdout",
     "output_type": "stream",
     "text": [
      "('MD661', 172)\n",
      "('MD662', 158)\n",
      "('MD662', 177)\n"
     ]
    },
    {
     "name": "stderr",
     "output_type": "stream",
     "text": [
      "Feature for (MD662,177,(5117,1932)) is not in pool. Re-compute.\n",
      "Feature for (MD662,177,(5117,1997)) is not in pool. Re-compute.\n",
      "Feature for (MD662,177,(5117,2062)) is not in pool. Re-compute.\n",
      "Feature for (MD662,177,(5117,2127)) is not in pool. Re-compute.\n",
      "Feature for (MD662,177,(5117,2192)) is not in pool. Re-compute.\n",
      "Feature for (MD662,177,(5117,2257)) is not in pool. Re-compute.\n",
      "Feature for (MD662,177,(5117,2322)) is not in pool. Re-compute.\n",
      "Feature for (MD662,177,(5182,1737)) is not in pool. Re-compute.\n",
      "Feature for (MD662,177,(5182,1802)) is not in pool. Re-compute.\n",
      "Feature for (MD662,177,(5182,1867)) is not in pool. Re-compute.\n",
      "Feature for (MD662,177,(5182,1932)) is not in pool. Re-compute.\n",
      "Feature for (MD662,177,(5182,1997)) is not in pool. Re-compute.\n",
      "Feature for (MD662,177,(5182,2062)) is not in pool. Re-compute.\n",
      "Feature for (MD662,177,(5182,2127)) is not in pool. Re-compute.\n",
      "Feature for (MD662,177,(5182,2192)) is not in pool. Re-compute.\n",
      "Feature for (MD662,177,(5247,1672)) is not in pool. Re-compute.\n",
      "Feature for (MD662,177,(5247,1737)) is not in pool. Re-compute.\n",
      "Feature for (MD662,177,(5247,1802)) is not in pool. Re-compute.\n",
      "Feature for (MD662,177,(5247,1867)) is not in pool. Re-compute.\n",
      "Feature for (MD662,177,(5247,1932)) is not in pool. Re-compute.\n",
      "Feature for (MD662,177,(5247,1997)) is not in pool. Re-compute.\n",
      "Feature for (MD662,177,(5247,2062)) is not in pool. Re-compute.\n",
      "Feature for (MD662,177,(5312,1737)) is not in pool. Re-compute.\n",
      "Feature for (MD662,177,(5312,1802)) is not in pool. Re-compute.\n",
      "Feature for (MD662,177,(5312,1867)) is not in pool. Re-compute.\n",
      "Feature for (MD662,177,(5312,1932)) is not in pool. Re-compute.\n",
      "Feature for (MD662,177,(5312,1997)) is not in pool. Re-compute.\n",
      "Feature for (MD662,177,(5377,1737)) is not in pool. Re-compute.\n",
      "Feature for (MD662,177,(5377,1802)) is not in pool. Re-compute.\n",
      "Feature for (MD662,177,(5377,1867)) is not in pool. Re-compute.\n",
      "Feature for (MD662,177,(5377,1932)) is not in pool. Re-compute.\n",
      "Feature for (MD662,177,(5442,1737)) is not in pool. Re-compute.\n",
      "Feature for (MD662,177,(5442,1802)) is not in pool. Re-compute.\n",
      "Feature for (MD662,177,(5442,1867)) is not in pool. Re-compute.\n",
      "Feature for (MD662,177,(5507,1737)) is not in pool. Re-compute.\n",
      "Feature for (MD662,177,(5507,1802)) is not in pool. Re-compute.\n",
      "Feature for (MD662,177,(5572,1737)) is not in pool. Re-compute.\n",
      "Not using image_cache.\n",
      "Load image: 15.47 seconds.\n",
      "Extract patches: 15.59 seconds\n"
     ]
    },
    {
     "name": "stdout",
     "output_type": "stream",
     "text": [
      "(256, 1, 224, 224)\n"
     ]
    },
    {
     "name": "stderr",
     "output_type": "stream",
     "text": [
      "Compute features: 0.39 seconds\n"
     ]
    },
    {
     "name": "stdout",
     "output_type": "stream",
     "text": [
      "('MD662', 163)\n"
     ]
    },
    {
     "name": "stderr",
     "output_type": "stream",
     "text": [
      "Feature for (MD662,163,(5247,2257)) is not in pool. Re-compute.\n",
      "Feature for (MD662,163,(5312,2257)) is not in pool. Re-compute.\n",
      "Not using image_cache.\n",
      "Load image: 14.41 seconds.\n",
      "Extract patches: 14.49 seconds\n"
     ]
    },
    {
     "name": "stdout",
     "output_type": "stream",
     "text": [
      "(256, 1, 224, 224)\n"
     ]
    },
    {
     "name": "stderr",
     "output_type": "stream",
     "text": [
      "Compute features: 0.38 seconds\n"
     ]
    },
    {
     "name": "stdout",
     "output_type": "stream",
     "text": [
      "('MD662', 276)\n"
     ]
    },
    {
     "name": "stderr",
     "output_type": "stream",
     "text": [
      "Feature for (MD662,276,(4727,1672)) is not in pool. Re-compute.\n",
      "Feature for (MD662,276,(4727,1737)) is not in pool. Re-compute.\n",
      "Feature for (MD662,276,(4792,1672)) is not in pool. Re-compute.\n",
      "Feature for (MD662,276,(4792,1737)) is not in pool. Re-compute.\n",
      "Feature for (MD662,276,(4792,1802)) is not in pool. Re-compute.\n",
      "Feature for (MD662,276,(4857,1672)) is not in pool. Re-compute.\n",
      "Feature for (MD662,276,(4857,1737)) is not in pool. Re-compute.\n",
      "Feature for (MD662,276,(4857,1802)) is not in pool. Re-compute.\n",
      "Feature for (MD662,276,(4922,1672)) is not in pool. Re-compute.\n",
      "Feature for (MD662,276,(4922,1737)) is not in pool. Re-compute.\n",
      "Feature for (MD662,276,(4987,1672)) is not in pool. Re-compute.\n",
      "Not using image_cache.\n",
      "Load image: 16.34 seconds.\n",
      "Extract patches: 16.43 seconds\n"
     ]
    },
    {
     "name": "stdout",
     "output_type": "stream",
     "text": [
      "(256, 1, 224, 224)\n"
     ]
    },
    {
     "name": "stderr",
     "output_type": "stream",
     "text": [
      "Compute features: 0.38 seconds\n"
     ]
    },
    {
     "name": "stdout",
     "output_type": "stream",
     "text": [
      "('MD661', 276)\n"
     ]
    },
    {
     "name": "stderr",
     "output_type": "stream",
     "text": [
      "Feature for (MD661,276,(5832,1282)) is not in pool. Re-compute.\n",
      "Feature for (MD661,276,(5832,1347)) is not in pool. Re-compute.\n",
      "Feature for (MD661,276,(5832,1412)) is not in pool. Re-compute.\n",
      "Feature for (MD661,276,(5832,1477)) is not in pool. Re-compute.\n",
      "Feature for (MD661,276,(5832,1542)) is not in pool. Re-compute.\n",
      "Feature for (MD661,276,(5897,1087)) is not in pool. Re-compute.\n",
      "Feature for (MD661,276,(5897,1152)) is not in pool. Re-compute.\n",
      "Feature for (MD661,276,(5897,1217)) is not in pool. Re-compute.\n",
      "Feature for (MD661,276,(5897,1282)) is not in pool. Re-compute.\n",
      "Feature for (MD661,276,(5897,1347)) is not in pool. Re-compute.\n",
      "Feature for (MD661,276,(5897,1412)) is not in pool. Re-compute.\n",
      "Feature for (MD661,276,(5962,1022)) is not in pool. Re-compute.\n",
      "Feature for (MD661,276,(5962,1087)) is not in pool. Re-compute.\n",
      "Feature for (MD661,276,(5962,1152)) is not in pool. Re-compute.\n",
      "Feature for (MD661,276,(5962,1217)) is not in pool. Re-compute.\n",
      "Feature for (MD661,276,(5962,1282)) is not in pool. Re-compute.\n",
      "Feature for (MD661,276,(5962,1347)) is not in pool. Re-compute.\n",
      "Feature for (MD661,276,(6027,957)) is not in pool. Re-compute.\n",
      "Feature for (MD661,276,(6027,1022)) is not in pool. Re-compute.\n",
      "Feature for (MD661,276,(6027,1087)) is not in pool. Re-compute.\n",
      "Feature for (MD661,276,(6027,1152)) is not in pool. Re-compute.\n",
      "Feature for (MD661,276,(6027,1217)) is not in pool. Re-compute.\n",
      "Feature for (MD661,276,(6027,1282)) is not in pool. Re-compute.\n",
      "Feature for (MD661,276,(6092,892)) is not in pool. Re-compute.\n",
      "Feature for (MD661,276,(6092,957)) is not in pool. Re-compute.\n",
      "Feature for (MD661,276,(6092,1022)) is not in pool. Re-compute.\n",
      "Feature for (MD661,276,(6092,1087)) is not in pool. Re-compute.\n",
      "Feature for (MD661,276,(6092,1152)) is not in pool. Re-compute.\n",
      "Feature for (MD661,276,(6092,1217)) is not in pool. Re-compute.\n",
      "Feature for (MD661,276,(6157,827)) is not in pool. Re-compute.\n",
      "Feature for (MD661,276,(6157,892)) is not in pool. Re-compute.\n",
      "Feature for (MD661,276,(6157,957)) is not in pool. Re-compute.\n",
      "Feature for (MD661,276,(6157,1022)) is not in pool. Re-compute.\n",
      "Feature for (MD661,276,(6157,1087)) is not in pool. Re-compute.\n",
      "Feature for (MD661,276,(6157,1152)) is not in pool. Re-compute.\n",
      "Feature for (MD661,276,(6222,762)) is not in pool. Re-compute.\n",
      "Feature for (MD661,276,(6222,827)) is not in pool. Re-compute.\n",
      "Feature for (MD661,276,(6222,892)) is not in pool. Re-compute.\n",
      "Feature for (MD661,276,(6222,957)) is not in pool. Re-compute.\n",
      "Feature for (MD661,276,(6222,1022)) is not in pool. Re-compute.\n",
      "Feature for (MD661,276,(6222,1087)) is not in pool. Re-compute.\n",
      "Feature for (MD661,276,(6287,697)) is not in pool. Re-compute.\n",
      "Feature for (MD661,276,(6287,762)) is not in pool. Re-compute.\n",
      "Feature for (MD661,276,(6287,827)) is not in pool. Re-compute.\n",
      "Feature for (MD661,276,(6287,892)) is not in pool. Re-compute.\n",
      "Feature for (MD661,276,(6287,957)) is not in pool. Re-compute.\n",
      "Feature for (MD661,276,(6287,1022)) is not in pool. Re-compute.\n",
      "Feature for (MD661,276,(6287,1087)) is not in pool. Re-compute.\n",
      "Feature for (MD661,276,(6352,762)) is not in pool. Re-compute.\n",
      "Feature for (MD661,276,(6352,827)) is not in pool. Re-compute.\n",
      "Feature for (MD661,276,(6352,892)) is not in pool. Re-compute.\n",
      "Feature for (MD661,276,(6352,957)) is not in pool. Re-compute.\n",
      "Feature for (MD661,276,(6352,1022)) is not in pool. Re-compute.\n",
      "Feature for (MD661,276,(6417,762)) is not in pool. Re-compute.\n",
      "Feature for (MD661,276,(6417,827)) is not in pool. Re-compute.\n",
      "Feature for (MD661,276,(6417,892)) is not in pool. Re-compute.\n",
      "Feature for (MD661,276,(6482,827)) is not in pool. Re-compute.\n",
      "Feature for (MD661,276,(6547,827)) is not in pool. Re-compute.\n",
      "Feature for (MD661,276,(6612,827)) is not in pool. Re-compute.\n",
      "Not using image_cache.\n",
      "Load image: 17.35 seconds.\n",
      "Extract patches: 17.52 seconds\n"
     ]
    },
    {
     "name": "stdout",
     "output_type": "stream",
     "text": [
      "(256, 1, 224, 224)\n"
     ]
    },
    {
     "name": "stderr",
     "output_type": "stream",
     "text": [
      "Compute features: 0.41 seconds\n"
     ]
    },
    {
     "name": "stdout",
     "output_type": "stream",
     "text": [
      "('MD661', 155)\n",
      "('MD662', 270)\n"
     ]
    },
    {
     "name": "stderr",
     "output_type": "stream",
     "text": [
      "Feature for (MD662,270,(4727,1737)) is not in pool. Re-compute.\n",
      "Feature for (MD662,270,(4727,1802)) is not in pool. Re-compute.\n",
      "Feature for (MD662,270,(4727,1867)) is not in pool. Re-compute.\n",
      "Feature for (MD662,270,(4727,1932)) is not in pool. Re-compute.\n",
      "Feature for (MD662,270,(4727,1997)) is not in pool. Re-compute.\n",
      "Feature for (MD662,270,(4792,1542)) is not in pool. Re-compute.\n",
      "Feature for (MD662,270,(4792,1607)) is not in pool. Re-compute.\n",
      "Feature for (MD662,270,(4792,1672)) is not in pool. Re-compute.\n",
      "Feature for (MD662,270,(4792,1737)) is not in pool. Re-compute.\n",
      "Feature for (MD662,270,(4792,1802)) is not in pool. Re-compute.\n",
      "Feature for (MD662,270,(4792,1867)) is not in pool. Re-compute.\n",
      "Feature for (MD662,270,(4857,1477)) is not in pool. Re-compute.\n",
      "Feature for (MD662,270,(4857,1542)) is not in pool. Re-compute.\n",
      "Feature for (MD662,270,(4857,1607)) is not in pool. Re-compute.\n",
      "Feature for (MD662,270,(4857,1672)) is not in pool. Re-compute.\n",
      "Feature for (MD662,270,(4857,1737)) is not in pool. Re-compute.\n",
      "Feature for (MD662,270,(4922,1477)) is not in pool. Re-compute.\n",
      "Feature for (MD662,270,(4922,1542)) is not in pool. Re-compute.\n",
      "Feature for (MD662,270,(4922,1607)) is not in pool. Re-compute.\n",
      "Feature for (MD662,270,(4922,1672)) is not in pool. Re-compute.\n",
      "Feature for (MD662,270,(4987,1477)) is not in pool. Re-compute.\n",
      "Feature for (MD662,270,(4987,1542)) is not in pool. Re-compute.\n",
      "Feature for (MD662,270,(4987,1607)) is not in pool. Re-compute.\n",
      "Feature for (MD662,270,(5052,1477)) is not in pool. Re-compute.\n",
      "Feature for (MD662,270,(5052,1542)) is not in pool. Re-compute.\n",
      "Not using image_cache.\n",
      "Load image: 17.10 seconds.\n",
      "Extract patches: 17.22 seconds\n"
     ]
    },
    {
     "name": "stdout",
     "output_type": "stream",
     "text": [
      "(256, 1, 224, 224)\n"
     ]
    },
    {
     "name": "stderr",
     "output_type": "stream",
     "text": [
      "Compute features: 0.37 seconds\n"
     ]
    },
    {
     "name": "stdout",
     "output_type": "stream",
     "text": [
      "('MD662', 162)\n",
      "('MD662', 200)\n"
     ]
    },
    {
     "name": "stderr",
     "output_type": "stream",
     "text": [
      "Feature for (MD662,200,(5182,1672)) is not in pool. Re-compute.\n",
      "Feature for (MD662,200,(5182,1737)) is not in pool. Re-compute.\n",
      "Feature for (MD662,200,(5182,1802)) is not in pool. Re-compute.\n",
      "Feature for (MD662,200,(5182,1867)) is not in pool. Re-compute.\n",
      "Feature for (MD662,200,(5182,1932)) is not in pool. Re-compute.\n",
      "Feature for (MD662,200,(5247,1477)) is not in pool. Re-compute.\n",
      "Feature for (MD662,200,(5247,1542)) is not in pool. Re-compute.\n",
      "Feature for (MD662,200,(5247,1607)) is not in pool. Re-compute.\n",
      "Feature for (MD662,200,(5247,1672)) is not in pool. Re-compute.\n",
      "Feature for (MD662,200,(5247,1737)) is not in pool. Re-compute.\n",
      "Feature for (MD662,200,(5247,1802)) is not in pool. Re-compute.\n",
      "Feature for (MD662,200,(5247,1867)) is not in pool. Re-compute.\n",
      "Feature for (MD662,200,(5312,1412)) is not in pool. Re-compute.\n",
      "Feature for (MD662,200,(5312,1477)) is not in pool. Re-compute.\n",
      "Feature for (MD662,200,(5312,1542)) is not in pool. Re-compute.\n",
      "Feature for (MD662,200,(5312,1607)) is not in pool. Re-compute.\n",
      "Feature for (MD662,200,(5312,1672)) is not in pool. Re-compute.\n",
      "Feature for (MD662,200,(5312,1737)) is not in pool. Re-compute.\n",
      "Feature for (MD662,200,(5377,1412)) is not in pool. Re-compute.\n",
      "Feature for (MD662,200,(5377,1477)) is not in pool. Re-compute.\n",
      "Feature for (MD662,200,(5377,1542)) is not in pool. Re-compute.\n",
      "Feature for (MD662,200,(5377,1607)) is not in pool. Re-compute.\n",
      "Feature for (MD662,200,(5377,1672)) is not in pool. Re-compute.\n",
      "Feature for (MD662,200,(5442,1282)) is not in pool. Re-compute.\n",
      "Feature for (MD662,200,(5442,1347)) is not in pool. Re-compute.\n",
      "Feature for (MD662,200,(5442,1412)) is not in pool. Re-compute.\n",
      "Feature for (MD662,200,(5442,1477)) is not in pool. Re-compute.\n",
      "Feature for (MD662,200,(5442,1542)) is not in pool. Re-compute.\n",
      "Feature for (MD662,200,(5442,1607)) is not in pool. Re-compute.\n",
      "Feature for (MD662,200,(5442,1672)) is not in pool. Re-compute.\n",
      "Feature for (MD662,200,(5507,1282)) is not in pool. Re-compute.\n",
      "Feature for (MD662,200,(5507,1347)) is not in pool. Re-compute.\n",
      "Feature for (MD662,200,(5507,1412)) is not in pool. Re-compute.\n",
      "Feature for (MD662,200,(5507,1477)) is not in pool. Re-compute.\n",
      "Feature for (MD662,200,(5507,1542)) is not in pool. Re-compute.\n",
      "Feature for (MD662,200,(5507,1607)) is not in pool. Re-compute.\n",
      "Feature for (MD662,200,(5507,1672)) is not in pool. Re-compute.\n",
      "Feature for (MD662,200,(5572,1217)) is not in pool. Re-compute.\n",
      "Feature for (MD662,200,(5572,1282)) is not in pool. Re-compute.\n",
      "Feature for (MD662,200,(5572,1347)) is not in pool. Re-compute.\n",
      "Feature for (MD662,200,(5572,1412)) is not in pool. Re-compute.\n",
      "Feature for (MD662,200,(5572,1477)) is not in pool. Re-compute.\n",
      "Feature for (MD662,200,(5572,1542)) is not in pool. Re-compute.\n",
      "Feature for (MD662,200,(5572,1607)) is not in pool. Re-compute.\n",
      "Feature for (MD662,200,(5637,1217)) is not in pool. Re-compute.\n",
      "Feature for (MD662,200,(5637,1282)) is not in pool. Re-compute.\n",
      "Feature for (MD662,200,(5637,1347)) is not in pool. Re-compute.\n",
      "Feature for (MD662,200,(5637,1412)) is not in pool. Re-compute.\n",
      "Feature for (MD662,200,(5637,1477)) is not in pool. Re-compute.\n",
      "Feature for (MD662,200,(5637,1542)) is not in pool. Re-compute.\n",
      "Feature for (MD662,200,(5637,1607)) is not in pool. Re-compute.\n",
      "Feature for (MD662,200,(5702,1282)) is not in pool. Re-compute.\n",
      "Feature for (MD662,200,(5702,1347)) is not in pool. Re-compute.\n",
      "Feature for (MD662,200,(5702,1412)) is not in pool. Re-compute.\n",
      "Feature for (MD662,200,(5702,1477)) is not in pool. Re-compute.\n",
      "Feature for (MD662,200,(5702,1542)) is not in pool. Re-compute.\n",
      "Feature for (MD662,200,(5767,1282)) is not in pool. Re-compute.\n",
      "Feature for (MD662,200,(5767,1347)) is not in pool. Re-compute.\n",
      "Feature for (MD662,200,(5767,1412)) is not in pool. Re-compute.\n",
      "Feature for (MD662,200,(5767,1477)) is not in pool. Re-compute.\n",
      "Feature for (MD662,200,(5832,1347)) is not in pool. Re-compute.\n",
      "Feature for (MD662,200,(5832,1412)) is not in pool. Re-compute.\n",
      "Feature for (MD662,200,(5832,1477)) is not in pool. Re-compute.\n",
      "Feature for (MD662,200,(5897,1347)) is not in pool. Re-compute.\n",
      "Feature for (MD662,200,(5897,1412)) is not in pool. Re-compute.\n",
      "Feature for (MD662,200,(5962,1412)) is not in pool. Re-compute.\n",
      "Not using image_cache.\n",
      "Load image: 15.96 seconds.\n",
      "Extract patches: 16.11 seconds\n"
     ]
    },
    {
     "name": "stdout",
     "output_type": "stream",
     "text": [
      "(256, 1, 224, 224)\n"
     ]
    },
    {
     "name": "stderr",
     "output_type": "stream",
     "text": [
      "Compute features: 0.37 seconds\n"
     ]
    },
    {
     "name": "stdout",
     "output_type": "stream",
     "text": [
      "('MD661', 299)\n",
      "('MD661', 199)\n"
     ]
    },
    {
     "name": "stderr",
     "output_type": "stream",
     "text": [
      "Feature for (MD661,199,(6027,827)) is not in pool. Re-compute.\n",
      "Feature for (MD661,199,(6027,892)) is not in pool. Re-compute.\n",
      "Feature for (MD661,199,(6092,632)) is not in pool. Re-compute.\n",
      "Feature for (MD661,199,(6092,697)) is not in pool. Re-compute.\n",
      "Feature for (MD661,199,(6092,762)) is not in pool. Re-compute.\n",
      "Feature for (MD661,199,(6092,827)) is not in pool. Re-compute.\n",
      "Feature for (MD661,199,(6092,892)) is not in pool. Re-compute.\n",
      "Feature for (MD661,199,(6157,567)) is not in pool. Re-compute.\n",
      "Feature for (MD661,199,(6157,632)) is not in pool. Re-compute.\n",
      "Feature for (MD661,199,(6157,697)) is not in pool. Re-compute.\n",
      "Feature for (MD661,199,(6157,762)) is not in pool. Re-compute.\n",
      "Feature for (MD661,199,(6157,827)) is not in pool. Re-compute.\n",
      "Feature for (MD661,199,(6157,892)) is not in pool. Re-compute.\n",
      "Feature for (MD661,199,(6222,437)) is not in pool. Re-compute.\n",
      "Feature for (MD661,199,(6222,502)) is not in pool. Re-compute.\n",
      "Feature for (MD661,199,(6222,567)) is not in pool. Re-compute.\n",
      "Feature for (MD661,199,(6222,632)) is not in pool. Re-compute.\n",
      "Feature for (MD661,199,(6222,697)) is not in pool. Re-compute.\n",
      "Feature for (MD661,199,(6222,762)) is not in pool. Re-compute.\n",
      "Feature for (MD661,199,(6287,437)) is not in pool. Re-compute.\n",
      "Feature for (MD661,199,(6287,502)) is not in pool. Re-compute.\n",
      "Feature for (MD661,199,(6287,567)) is not in pool. Re-compute.\n",
      "Feature for (MD661,199,(6287,632)) is not in pool. Re-compute.\n",
      "Feature for (MD661,199,(6352,437)) is not in pool. Re-compute.\n",
      "Feature for (MD661,199,(6352,502)) is not in pool. Re-compute.\n",
      "Feature for (MD661,199,(6352,567)) is not in pool. Re-compute.\n",
      "Feature for (MD661,199,(6417,437)) is not in pool. Re-compute.\n",
      "Feature for (MD661,199,(6417,502)) is not in pool. Re-compute.\n",
      "Feature for (MD661,199,(6417,567)) is not in pool. Re-compute.\n",
      "Feature for (MD661,199,(6482,502)) is not in pool. Re-compute.\n",
      "Feature for (MD661,199,(6482,567)) is not in pool. Re-compute.\n",
      "Feature for (MD661,199,(6482,632)) is not in pool. Re-compute.\n",
      "Feature for (MD661,199,(6547,502)) is not in pool. Re-compute.\n",
      "Feature for (MD661,199,(6547,567)) is not in pool. Re-compute.\n",
      "Feature for (MD661,199,(6547,632)) is not in pool. Re-compute.\n",
      "Feature for (MD661,199,(6612,502)) is not in pool. Re-compute.\n",
      "Feature for (MD661,199,(6612,567)) is not in pool. Re-compute.\n",
      "Feature for (MD661,199,(6612,632)) is not in pool. Re-compute.\n",
      "Not using image_cache.\n",
      "Load image: 16.99 seconds.\n",
      "Extract patches: 17.13 seconds\n"
     ]
    },
    {
     "name": "stdout",
     "output_type": "stream",
     "text": [
      "(256, 1, 224, 224)\n"
     ]
    },
    {
     "name": "stderr",
     "output_type": "stream",
     "text": [
      "Compute features: 0.40 seconds\n"
     ]
    },
    {
     "name": "stdout",
     "output_type": "stream",
     "text": [
      "('MD662', 255)\n"
     ]
    },
    {
     "name": "stderr",
     "output_type": "stream",
     "text": [
      "Feature for (MD662,255,(4857,1542)) is not in pool. Re-compute.\n",
      "Feature for (MD662,255,(4857,1607)) is not in pool. Re-compute.\n",
      "Feature for (MD662,255,(4857,1672)) is not in pool. Re-compute.\n",
      "Feature for (MD662,255,(4857,1737)) is not in pool. Re-compute.\n",
      "Feature for (MD662,255,(4857,1802)) is not in pool. Re-compute.\n",
      "Feature for (MD662,255,(4922,1477)) is not in pool. Re-compute.\n",
      "Feature for (MD662,255,(4922,1542)) is not in pool. Re-compute.\n",
      "Feature for (MD662,255,(4922,1607)) is not in pool. Re-compute.\n",
      "Feature for (MD662,255,(4922,1672)) is not in pool. Re-compute.\n",
      "Feature for (MD662,255,(4987,1347)) is not in pool. Re-compute.\n",
      "Feature for (MD662,255,(4987,1412)) is not in pool. Re-compute.\n",
      "Feature for (MD662,255,(4987,1477)) is not in pool. Re-compute.\n",
      "Feature for (MD662,255,(4987,1542)) is not in pool. Re-compute.\n",
      "Feature for (MD662,255,(5052,1282)) is not in pool. Re-compute.\n",
      "Feature for (MD662,255,(5052,1347)) is not in pool. Re-compute.\n",
      "Feature for (MD662,255,(5052,1412)) is not in pool. Re-compute.\n",
      "Feature for (MD662,255,(5052,1477)) is not in pool. Re-compute.\n",
      "Feature for (MD662,255,(5117,1217)) is not in pool. Re-compute.\n",
      "Feature for (MD662,255,(5117,1282)) is not in pool. Re-compute.\n",
      "Feature for (MD662,255,(5117,1347)) is not in pool. Re-compute.\n",
      "Feature for (MD662,255,(5117,1412)) is not in pool. Re-compute.\n",
      "Feature for (MD662,255,(5182,1152)) is not in pool. Re-compute.\n",
      "Feature for (MD662,255,(5182,1217)) is not in pool. Re-compute.\n",
      "Feature for (MD662,255,(5182,1282)) is not in pool. Re-compute.\n",
      "Feature for (MD662,255,(5182,1347)) is not in pool. Re-compute.\n",
      "Feature for (MD662,255,(5247,1152)) is not in pool. Re-compute.\n",
      "Feature for (MD662,255,(5247,1217)) is not in pool. Re-compute.\n",
      "Feature for (MD662,255,(5247,1282)) is not in pool. Re-compute.\n",
      "Feature for (MD662,255,(5247,1347)) is not in pool. Re-compute.\n",
      "Feature for (MD662,255,(5312,1152)) is not in pool. Re-compute.\n",
      "Feature for (MD662,255,(5312,1217)) is not in pool. Re-compute.\n",
      "Feature for (MD662,255,(5312,1282)) is not in pool. Re-compute.\n",
      "Feature for (MD662,255,(5377,1217)) is not in pool. Re-compute.\n",
      "Feature for (MD662,255,(5377,1282)) is not in pool. Re-compute.\n",
      "Feature for (MD662,255,(5442,1217)) is not in pool. Re-compute.\n",
      "Feature for (MD662,255,(5442,1282)) is not in pool. Re-compute.\n",
      "Feature for (MD662,255,(5507,1282)) is not in pool. Re-compute.\n",
      "Feature for (MD662,255,(5572,1282)) is not in pool. Re-compute.\n",
      "Not using image_cache.\n",
      "Load image: 17.41 seconds.\n",
      "Extract patches: 17.53 seconds\n"
     ]
    },
    {
     "name": "stdout",
     "output_type": "stream",
     "text": [
      "(256, 1, 224, 224)\n"
     ]
    },
    {
     "name": "stderr",
     "output_type": "stream",
     "text": [
      "Compute features: 0.38 seconds\n"
     ]
    },
    {
     "name": "stdout",
     "output_type": "stream",
     "text": [
      "('MD662', 288)\n",
      "('MD661', 175)\n",
      "('MD661', 282)\n"
     ]
    },
    {
     "name": "stderr",
     "output_type": "stream",
     "text": [
      "Feature for (MD661,282,(5832,1282)) is not in pool. Re-compute.\n",
      "Feature for (MD661,282,(5832,1347)) is not in pool. Re-compute.\n",
      "Feature for (MD661,282,(5832,1412)) is not in pool. Re-compute.\n",
      "Feature for (MD661,282,(5832,1477)) is not in pool. Re-compute.\n",
      "Feature for (MD661,282,(5897,1217)) is not in pool. Re-compute.\n",
      "Feature for (MD661,282,(5897,1282)) is not in pool. Re-compute.\n",
      "Feature for (MD661,282,(5897,1347)) is not in pool. Re-compute.\n",
      "Feature for (MD661,282,(5897,1412)) is not in pool. Re-compute.\n",
      "Feature for (MD661,282,(5897,1477)) is not in pool. Re-compute.\n",
      "Feature for (MD661,282,(5962,1087)) is not in pool. Re-compute.\n",
      "Feature for (MD661,282,(5962,1152)) is not in pool. Re-compute.\n",
      "Feature for (MD661,282,(5962,1217)) is not in pool. Re-compute.\n",
      "Feature for (MD661,282,(5962,1282)) is not in pool. Re-compute.\n",
      "Feature for (MD661,282,(5962,1347)) is not in pool. Re-compute.\n",
      "Feature for (MD661,282,(5962,1412)) is not in pool. Re-compute.\n",
      "Feature for (MD661,282,(6027,957)) is not in pool. Re-compute.\n",
      "Feature for (MD661,282,(6027,1022)) is not in pool. Re-compute.\n",
      "Feature for (MD661,282,(6027,1087)) is not in pool. Re-compute.\n",
      "Feature for (MD661,282,(6027,1152)) is not in pool. Re-compute.\n",
      "Feature for (MD661,282,(6027,1217)) is not in pool. Re-compute.\n",
      "Feature for (MD661,282,(6027,1282)) is not in pool. Re-compute.\n",
      "Feature for (MD661,282,(6027,1347)) is not in pool. Re-compute.\n",
      "Feature for (MD661,282,(6092,957)) is not in pool. Re-compute.\n",
      "Feature for (MD661,282,(6092,1022)) is not in pool. Re-compute.\n",
      "Feature for (MD661,282,(6092,1087)) is not in pool. Re-compute.\n",
      "Feature for (MD661,282,(6092,1152)) is not in pool. Re-compute.\n",
      "Feature for (MD661,282,(6092,1217)) is not in pool. Re-compute.\n",
      "Feature for (MD661,282,(6092,1282)) is not in pool. Re-compute.\n",
      "Feature for (MD661,282,(6157,892)) is not in pool. Re-compute.\n",
      "Feature for (MD661,282,(6157,957)) is not in pool. Re-compute.\n",
      "Feature for (MD661,282,(6157,1022)) is not in pool. Re-compute.\n",
      "Feature for (MD661,282,(6157,1087)) is not in pool. Re-compute.\n",
      "Feature for (MD661,282,(6157,1152)) is not in pool. Re-compute.\n",
      "Feature for (MD661,282,(6157,1217)) is not in pool. Re-compute.\n",
      "Feature for (MD661,282,(6222,892)) is not in pool. Re-compute.\n",
      "Feature for (MD661,282,(6222,957)) is not in pool. Re-compute.\n",
      "Feature for (MD661,282,(6222,1022)) is not in pool. Re-compute.\n",
      "Feature for (MD661,282,(6222,1087)) is not in pool. Re-compute.\n",
      "Feature for (MD661,282,(6222,1152)) is not in pool. Re-compute.\n",
      "Feature for (MD661,282,(6287,957)) is not in pool. Re-compute.\n",
      "Feature for (MD661,282,(6287,1022)) is not in pool. Re-compute.\n",
      "Feature for (MD661,282,(6287,1087)) is not in pool. Re-compute.\n",
      "Feature for (MD661,282,(6352,957)) is not in pool. Re-compute.\n",
      "Feature for (MD661,282,(6352,1022)) is not in pool. Re-compute.\n",
      "Feature for (MD661,282,(6352,1087)) is not in pool. Re-compute.\n",
      "Feature for (MD661,282,(6417,957)) is not in pool. Re-compute.\n",
      "Feature for (MD661,282,(6417,1022)) is not in pool. Re-compute.\n",
      "Not using image_cache.\n",
      "Load image: 18.47 seconds.\n",
      "Extract patches: 18.62 seconds\n"
     ]
    },
    {
     "name": "stdout",
     "output_type": "stream",
     "text": [
      "(256, 1, 224, 224)\n"
     ]
    },
    {
     "name": "stderr",
     "output_type": "stream",
     "text": [
      "Compute features: 0.38 seconds\n"
     ]
    },
    {
     "name": "stdout",
     "output_type": "stream",
     "text": [
      "('MD661', 225)\n"
     ]
    },
    {
     "name": "stderr",
     "output_type": "stream",
     "text": [
      "Feature for (MD661,225,(6352,827)) is not in pool. Re-compute.\n",
      "Feature for (MD661,225,(6352,892)) is not in pool. Re-compute.\n",
      "Feature for (MD661,225,(6417,762)) is not in pool. Re-compute.\n",
      "Feature for (MD661,225,(6417,827)) is not in pool. Re-compute.\n",
      "Feature for (MD661,225,(6417,892)) is not in pool. Re-compute.\n",
      "Feature for (MD661,225,(6482,697)) is not in pool. Re-compute.\n",
      "Feature for (MD661,225,(6482,762)) is not in pool. Re-compute.\n",
      "Feature for (MD661,225,(6482,827)) is not in pool. Re-compute.\n",
      "Feature for (MD661,225,(6547,697)) is not in pool. Re-compute.\n",
      "Feature for (MD661,225,(6547,762)) is not in pool. Re-compute.\n",
      "Feature for (MD661,225,(6547,827)) is not in pool. Re-compute.\n",
      "Feature for (MD661,225,(6612,632)) is not in pool. Re-compute.\n",
      "Feature for (MD661,225,(6612,697)) is not in pool. Re-compute.\n",
      "Feature for (MD661,225,(6612,762)) is not in pool. Re-compute.\n",
      "Feature for (MD661,225,(6612,827)) is not in pool. Re-compute.\n",
      "Feature for (MD661,225,(6677,567)) is not in pool. Re-compute.\n",
      "Feature for (MD661,225,(6677,632)) is not in pool. Re-compute.\n",
      "Feature for (MD661,225,(6677,697)) is not in pool. Re-compute.\n",
      "Feature for (MD661,225,(6677,762)) is not in pool. Re-compute.\n",
      "Feature for (MD661,225,(6677,827)) is not in pool. Re-compute.\n",
      "Feature for (MD661,225,(6742,567)) is not in pool. Re-compute.\n",
      "Feature for (MD661,225,(6742,632)) is not in pool. Re-compute.\n",
      "Feature for (MD661,225,(6742,697)) is not in pool. Re-compute.\n",
      "Feature for (MD661,225,(6807,567)) is not in pool. Re-compute.\n",
      "Feature for (MD661,225,(6807,632)) is not in pool. Re-compute.\n",
      "Feature for (MD661,225,(6807,697)) is not in pool. Re-compute.\n",
      "Feature for (MD661,225,(6872,567)) is not in pool. Re-compute.\n",
      "Feature for (MD661,225,(6872,632)) is not in pool. Re-compute.\n",
      "Feature for (MD661,225,(6872,697)) is not in pool. Re-compute.\n",
      "Feature for (MD661,225,(6872,762)) is not in pool. Re-compute.\n",
      "Feature for (MD661,225,(6937,632)) is not in pool. Re-compute.\n",
      "Not using image_cache.\n",
      "Load image: 18.75 seconds.\n",
      "Extract patches: 18.88 seconds\n"
     ]
    },
    {
     "name": "stdout",
     "output_type": "stream",
     "text": [
      "(256, 1, 224, 224)\n"
     ]
    },
    {
     "name": "stderr",
     "output_type": "stream",
     "text": [
      "Compute features: 0.40 seconds\n"
     ]
    },
    {
     "name": "stdout",
     "output_type": "stream",
     "text": [
      "('MD661', 279)\n"
     ]
    },
    {
     "name": "stderr",
     "output_type": "stream",
     "text": [
      "Feature for (MD661,279,(5832,1282)) is not in pool. Re-compute.\n",
      "Feature for (MD661,279,(5832,1347)) is not in pool. Re-compute.\n",
      "Feature for (MD661,279,(5832,1412)) is not in pool. Re-compute.\n",
      "Feature for (MD661,279,(5832,1477)) is not in pool. Re-compute.\n",
      "Feature for (MD661,279,(5897,1152)) is not in pool. Re-compute.\n",
      "Feature for (MD661,279,(5897,1217)) is not in pool. Re-compute.\n",
      "Feature for (MD661,279,(5897,1282)) is not in pool. Re-compute.\n",
      "Feature for (MD661,279,(5897,1347)) is not in pool. Re-compute.\n",
      "Feature for (MD661,279,(5897,1412)) is not in pool. Re-compute.\n",
      "Feature for (MD661,279,(5897,1477)) is not in pool. Re-compute.\n",
      "Feature for (MD661,279,(5962,1087)) is not in pool. Re-compute.\n",
      "Feature for (MD661,279,(5962,1152)) is not in pool. Re-compute.\n",
      "Feature for (MD661,279,(5962,1217)) is not in pool. Re-compute.\n",
      "Feature for (MD661,279,(5962,1282)) is not in pool. Re-compute.\n",
      "Feature for (MD661,279,(5962,1347)) is not in pool. Re-compute.\n",
      "Feature for (MD661,279,(5962,1412)) is not in pool. Re-compute.\n",
      "Feature for (MD661,279,(6027,957)) is not in pool. Re-compute.\n",
      "Feature for (MD661,279,(6027,1022)) is not in pool. Re-compute.\n",
      "Feature for (MD661,279,(6027,1087)) is not in pool. Re-compute.\n",
      "Feature for (MD661,279,(6027,1152)) is not in pool. Re-compute.\n",
      "Feature for (MD661,279,(6027,1217)) is not in pool. Re-compute.\n",
      "Feature for (MD661,279,(6027,1282)) is not in pool. Re-compute.\n",
      "Feature for (MD661,279,(6027,1347)) is not in pool. Re-compute.\n",
      "Feature for (MD661,279,(6092,892)) is not in pool. Re-compute.\n",
      "Feature for (MD661,279,(6092,957)) is not in pool. Re-compute.\n",
      "Feature for (MD661,279,(6092,1022)) is not in pool. Re-compute.\n",
      "Feature for (MD661,279,(6092,1087)) is not in pool. Re-compute.\n",
      "Feature for (MD661,279,(6092,1152)) is not in pool. Re-compute.\n",
      "Feature for (MD661,279,(6092,1217)) is not in pool. Re-compute.\n",
      "Feature for (MD661,279,(6092,1282)) is not in pool. Re-compute.\n",
      "Feature for (MD661,279,(6157,827)) is not in pool. Re-compute.\n",
      "Feature for (MD661,279,(6157,892)) is not in pool. Re-compute.\n",
      "Feature for (MD661,279,(6157,957)) is not in pool. Re-compute.\n",
      "Feature for (MD661,279,(6157,1022)) is not in pool. Re-compute.\n",
      "Feature for (MD661,279,(6157,1087)) is not in pool. Re-compute.\n",
      "Feature for (MD661,279,(6157,1152)) is not in pool. Re-compute.\n",
      "Feature for (MD661,279,(6157,1217)) is not in pool. Re-compute.\n",
      "Feature for (MD661,279,(6222,827)) is not in pool. Re-compute.\n",
      "Feature for (MD661,279,(6222,892)) is not in pool. Re-compute.\n",
      "Feature for (MD661,279,(6222,957)) is not in pool. Re-compute.\n",
      "Feature for (MD661,279,(6222,1022)) is not in pool. Re-compute.\n",
      "Feature for (MD661,279,(6222,1087)) is not in pool. Re-compute.\n",
      "Feature for (MD661,279,(6222,1152)) is not in pool. Re-compute.\n",
      "Feature for (MD661,279,(6287,827)) is not in pool. Re-compute.\n",
      "Feature for (MD661,279,(6287,892)) is not in pool. Re-compute.\n",
      "Feature for (MD661,279,(6287,957)) is not in pool. Re-compute.\n",
      "Feature for (MD661,279,(6287,1022)) is not in pool. Re-compute.\n",
      "Feature for (MD661,279,(6287,1087)) is not in pool. Re-compute.\n",
      "Feature for (MD661,279,(6352,892)) is not in pool. Re-compute.\n",
      "Feature for (MD661,279,(6352,957)) is not in pool. Re-compute.\n",
      "Feature for (MD661,279,(6352,1022)) is not in pool. Re-compute.\n",
      "Feature for (MD661,279,(6417,892)) is not in pool. Re-compute.\n",
      "Feature for (MD661,279,(6417,957)) is not in pool. Re-compute.\n",
      "Feature for (MD661,279,(6482,892)) is not in pool. Re-compute.\n",
      "Not using image_cache.\n",
      "Load image: 18.16 seconds.\n",
      "Extract patches: 18.31 seconds\n"
     ]
    },
    {
     "name": "stdout",
     "output_type": "stream",
     "text": [
      "(256, 1, 224, 224)\n"
     ]
    },
    {
     "name": "stderr",
     "output_type": "stream",
     "text": [
      "Compute features: 0.38 seconds\n"
     ]
    },
    {
     "name": "stdout",
     "output_type": "stream",
     "text": [
      "('MD661', 158)\n",
      "('MD662', 246)\n"
     ]
    },
    {
     "name": "stderr",
     "output_type": "stream",
     "text": [
      "Feature for (MD662,246,(4922,1737)) is not in pool. Re-compute.\n",
      "Feature for (MD662,246,(4987,1477)) is not in pool. Re-compute.\n",
      "Feature for (MD662,246,(4987,1542)) is not in pool. Re-compute.\n",
      "Feature for (MD662,246,(4987,1607)) is not in pool. Re-compute.\n",
      "Feature for (MD662,246,(4987,1672)) is not in pool. Re-compute.\n",
      "Feature for (MD662,246,(5052,1412)) is not in pool. Re-compute.\n",
      "Feature for (MD662,246,(5052,1477)) is not in pool. Re-compute.\n",
      "Feature for (MD662,246,(5052,1542)) is not in pool. Re-compute.\n",
      "Feature for (MD662,246,(5117,1347)) is not in pool. Re-compute.\n",
      "Feature for (MD662,246,(5117,1412)) is not in pool. Re-compute.\n",
      "Feature for (MD662,246,(5117,1477)) is not in pool. Re-compute.\n",
      "Feature for (MD662,246,(5182,1282)) is not in pool. Re-compute.\n",
      "Feature for (MD662,246,(5182,1347)) is not in pool. Re-compute.\n",
      "Feature for (MD662,246,(5182,1412)) is not in pool. Re-compute.\n",
      "Feature for (MD662,246,(5182,1477)) is not in pool. Re-compute.\n",
      "Feature for (MD662,246,(5247,1217)) is not in pool. Re-compute.\n",
      "Feature for (MD662,246,(5247,1282)) is not in pool. Re-compute.\n",
      "Feature for (MD662,246,(5247,1347)) is not in pool. Re-compute.\n",
      "Feature for (MD662,246,(5247,1412)) is not in pool. Re-compute.\n",
      "Feature for (MD662,246,(5247,1477)) is not in pool. Re-compute.\n",
      "Feature for (MD662,246,(5312,1217)) is not in pool. Re-compute.\n",
      "Feature for (MD662,246,(5312,1282)) is not in pool. Re-compute.\n",
      "Feature for (MD662,246,(5312,1347)) is not in pool. Re-compute.\n",
      "Feature for (MD662,246,(5312,1412)) is not in pool. Re-compute.\n",
      "Feature for (MD662,246,(5377,1152)) is not in pool. Re-compute.\n",
      "Feature for (MD662,246,(5377,1217)) is not in pool. Re-compute.\n",
      "Feature for (MD662,246,(5377,1282)) is not in pool. Re-compute.\n",
      "Feature for (MD662,246,(5377,1347)) is not in pool. Re-compute.\n",
      "Feature for (MD662,246,(5442,1152)) is not in pool. Re-compute.\n",
      "Feature for (MD662,246,(5442,1217)) is not in pool. Re-compute.\n",
      "Feature for (MD662,246,(5442,1282)) is not in pool. Re-compute.\n",
      "Feature for (MD662,246,(5442,1347)) is not in pool. Re-compute.\n",
      "Feature for (MD662,246,(5507,1152)) is not in pool. Re-compute.\n",
      "Feature for (MD662,246,(5507,1217)) is not in pool. Re-compute.\n",
      "Feature for (MD662,246,(5507,1282)) is not in pool. Re-compute.\n",
      "Feature for (MD662,246,(5507,1347)) is not in pool. Re-compute.\n",
      "Feature for (MD662,246,(5572,1217)) is not in pool. Re-compute.\n",
      "Feature for (MD662,246,(5572,1282)) is not in pool. Re-compute.\n",
      "Feature for (MD662,246,(5572,1347)) is not in pool. Re-compute.\n",
      "Feature for (MD662,246,(5637,1217)) is not in pool. Re-compute.\n",
      "Feature for (MD662,246,(5637,1282)) is not in pool. Re-compute.\n",
      "Feature for (MD662,246,(5637,1347)) is not in pool. Re-compute.\n",
      "Feature for (MD662,246,(5702,1282)) is not in pool. Re-compute.\n",
      "Feature for (MD662,246,(5702,1347)) is not in pool. Re-compute.\n",
      "Feature for (MD662,246,(5767,1282)) is not in pool. Re-compute.\n",
      "Feature for (MD662,246,(5767,1347)) is not in pool. Re-compute.\n",
      "Not using image_cache.\n",
      "Load image: 16.19 seconds.\n",
      "Extract patches: 16.32 seconds\n"
     ]
    },
    {
     "name": "stdout",
     "output_type": "stream",
     "text": [
      "(256, 1, 224, 224)\n"
     ]
    },
    {
     "name": "stderr",
     "output_type": "stream",
     "text": [
      "Compute features: 0.38 seconds\n"
     ]
    },
    {
     "name": "stdout",
     "output_type": "stream",
     "text": [
      "('MD661', 208)\n"
     ]
    },
    {
     "name": "stderr",
     "output_type": "stream",
     "text": [
      "Feature for (MD661,208,(6092,762)) is not in pool. Re-compute.\n",
      "Feature for (MD661,208,(6092,827)) is not in pool. Re-compute.\n",
      "Feature for (MD661,208,(6092,892)) is not in pool. Re-compute.\n",
      "Feature for (MD661,208,(6157,632)) is not in pool. Re-compute.\n",
      "Feature for (MD661,208,(6157,697)) is not in pool. Re-compute.\n",
      "Feature for (MD661,208,(6157,762)) is not in pool. Re-compute.\n",
      "Feature for (MD661,208,(6157,827)) is not in pool. Re-compute.\n",
      "Feature for (MD661,208,(6157,892)) is not in pool. Re-compute.\n",
      "Feature for (MD661,208,(6222,567)) is not in pool. Re-compute.\n",
      "Feature for (MD661,208,(6222,632)) is not in pool. Re-compute.\n",
      "Feature for (MD661,208,(6222,697)) is not in pool. Re-compute.\n",
      "Feature for (MD661,208,(6222,762)) is not in pool. Re-compute.\n",
      "Feature for (MD661,208,(6222,827)) is not in pool. Re-compute.\n",
      "Feature for (MD661,208,(6287,502)) is not in pool. Re-compute.\n",
      "Feature for (MD661,208,(6287,567)) is not in pool. Re-compute.\n",
      "Feature for (MD661,208,(6287,632)) is not in pool. Re-compute.\n",
      "Feature for (MD661,208,(6287,697)) is not in pool. Re-compute.\n",
      "Feature for (MD661,208,(6287,762)) is not in pool. Re-compute.\n",
      "Feature for (MD661,208,(6352,437)) is not in pool. Re-compute.\n",
      "Feature for (MD661,208,(6352,502)) is not in pool. Re-compute.\n",
      "Feature for (MD661,208,(6352,567)) is not in pool. Re-compute.\n",
      "Feature for (MD661,208,(6352,632)) is not in pool. Re-compute.\n",
      "Feature for (MD661,208,(6352,697)) is not in pool. Re-compute.\n",
      "Feature for (MD661,208,(6417,372)) is not in pool. Re-compute.\n",
      "Feature for (MD661,208,(6417,437)) is not in pool. Re-compute.\n",
      "Feature for (MD661,208,(6417,502)) is not in pool. Re-compute.\n",
      "Feature for (MD661,208,(6417,567)) is not in pool. Re-compute.\n",
      "Feature for (MD661,208,(6417,632)) is not in pool. Re-compute.\n",
      "Feature for (MD661,208,(6482,307)) is not in pool. Re-compute.\n",
      "Feature for (MD661,208,(6482,372)) is not in pool. Re-compute.\n",
      "Feature for (MD661,208,(6482,437)) is not in pool. Re-compute.\n",
      "Feature for (MD661,208,(6482,502)) is not in pool. Re-compute.\n",
      "Feature for (MD661,208,(6482,567)) is not in pool. Re-compute.\n",
      "Feature for (MD661,208,(6482,632)) is not in pool. Re-compute.\n",
      "Feature for (MD661,208,(6547,372)) is not in pool. Re-compute.\n",
      "Feature for (MD661,208,(6547,437)) is not in pool. Re-compute.\n",
      "Feature for (MD661,208,(6547,502)) is not in pool. Re-compute.\n",
      "Feature for (MD661,208,(6612,437)) is not in pool. Re-compute.\n",
      "Feature for (MD661,208,(6677,437)) is not in pool. Re-compute.\n",
      "Not using image_cache.\n",
      "Load image: 18.10 seconds.\n",
      "Extract patches: 18.23 seconds\n"
     ]
    },
    {
     "name": "stdout",
     "output_type": "stream",
     "text": [
      "(256, 1, 224, 224)\n"
     ]
    },
    {
     "name": "stderr",
     "output_type": "stream",
     "text": [
      "Compute features: 0.39 seconds\n"
     ]
    },
    {
     "name": "stdout",
     "output_type": "stream",
     "text": [
      "('MD661', 305)\n",
      "('MD662', 190)\n"
     ]
    },
    {
     "name": "stderr",
     "output_type": "stream",
     "text": [
      "Feature for (MD662,190,(5182,1542)) is not in pool. Re-compute.\n",
      "Feature for (MD662,190,(5182,1607)) is not in pool. Re-compute.\n",
      "Feature for (MD662,190,(5182,1672)) is not in pool. Re-compute.\n",
      "Feature for (MD662,190,(5182,1737)) is not in pool. Re-compute.\n",
      "Feature for (MD662,190,(5182,1802)) is not in pool. Re-compute.\n",
      "Feature for (MD662,190,(5182,1867)) is not in pool. Re-compute.\n",
      "Feature for (MD662,190,(5247,1412)) is not in pool. Re-compute.\n",
      "Feature for (MD662,190,(5247,1477)) is not in pool. Re-compute.\n",
      "Feature for (MD662,190,(5247,1542)) is not in pool. Re-compute.\n",
      "Feature for (MD662,190,(5247,1607)) is not in pool. Re-compute.\n",
      "Feature for (MD662,190,(5247,1672)) is not in pool. Re-compute.\n",
      "Feature for (MD662,190,(5247,1737)) is not in pool. Re-compute.\n",
      "Feature for (MD662,190,(5247,1802)) is not in pool. Re-compute.\n",
      "Feature for (MD662,190,(5312,1412)) is not in pool. Re-compute.\n",
      "Feature for (MD662,190,(5312,1477)) is not in pool. Re-compute.\n",
      "Feature for (MD662,190,(5312,1542)) is not in pool. Re-compute.\n",
      "Feature for (MD662,190,(5312,1607)) is not in pool. Re-compute.\n",
      "Feature for (MD662,190,(5312,1672)) is not in pool. Re-compute.\n",
      "Feature for (MD662,190,(5377,1347)) is not in pool. Re-compute.\n",
      "Feature for (MD662,190,(5377,1412)) is not in pool. Re-compute.\n",
      "Feature for (MD662,190,(5377,1477)) is not in pool. Re-compute.\n",
      "Feature for (MD662,190,(5377,1542)) is not in pool. Re-compute.\n",
      "Feature for (MD662,190,(5377,1607)) is not in pool. Re-compute.\n",
      "Feature for (MD662,190,(5442,1347)) is not in pool. Re-compute.\n",
      "Feature for (MD662,190,(5442,1412)) is not in pool. Re-compute.\n",
      "Feature for (MD662,190,(5442,1477)) is not in pool. Re-compute.\n",
      "Feature for (MD662,190,(5442,1542)) is not in pool. Re-compute.\n",
      "Feature for (MD662,190,(5442,1607)) is not in pool. Re-compute.\n",
      "Feature for (MD662,190,(5507,1347)) is not in pool. Re-compute.\n",
      "Feature for (MD662,190,(5507,1412)) is not in pool. Re-compute.\n",
      "Feature for (MD662,190,(5507,1477)) is not in pool. Re-compute.\n",
      "Feature for (MD662,190,(5507,1542)) is not in pool. Re-compute.\n",
      "Feature for (MD662,190,(5507,1607)) is not in pool. Re-compute.\n",
      "Feature for (MD662,190,(5572,1412)) is not in pool. Re-compute.\n",
      "Feature for (MD662,190,(5572,1477)) is not in pool. Re-compute.\n",
      "Feature for (MD662,190,(5572,1542)) is not in pool. Re-compute.\n",
      "Feature for (MD662,190,(5572,1607)) is not in pool. Re-compute.\n",
      "Feature for (MD662,190,(5637,1412)) is not in pool. Re-compute.\n",
      "Feature for (MD662,190,(5637,1477)) is not in pool. Re-compute.\n",
      "Feature for (MD662,190,(5637,1542)) is not in pool. Re-compute.\n",
      "Feature for (MD662,190,(5702,1412)) is not in pool. Re-compute.\n",
      "Feature for (MD662,190,(5702,1477)) is not in pool. Re-compute.\n",
      "Feature for (MD662,190,(5702,1542)) is not in pool. Re-compute.\n",
      "Feature for (MD662,190,(5767,1477)) is not in pool. Re-compute.\n",
      "Feature for (MD662,190,(5767,1542)) is not in pool. Re-compute.\n",
      "Feature for (MD662,190,(5832,1477)) is not in pool. Re-compute.\n",
      "Not using image_cache.\n",
      "Load image: 14.04 seconds.\n",
      "Extract patches: 14.17 seconds\n"
     ]
    },
    {
     "name": "stdout",
     "output_type": "stream",
     "text": [
      "(256, 1, 224, 224)\n"
     ]
    },
    {
     "name": "stderr",
     "output_type": "stream",
     "text": [
      "Compute features: 0.38 seconds\n"
     ]
    },
    {
     "name": "stdout",
     "output_type": "stream",
     "text": [
      "('MD661', 184)\n"
     ]
    },
    {
     "name": "stderr",
     "output_type": "stream",
     "text": [
      "Feature for (MD661,184,(6027,827)) is not in pool. Re-compute.\n",
      "Feature for (MD661,184,(6092,762)) is not in pool. Re-compute.\n",
      "Feature for (MD661,184,(6092,827)) is not in pool. Re-compute.\n",
      "Feature for (MD661,184,(6157,762)) is not in pool. Re-compute.\n",
      "Not using image_cache.\n",
      "Load image: 16.14 seconds.\n",
      "Extract patches: 16.24 seconds\n"
     ]
    },
    {
     "name": "stdout",
     "output_type": "stream",
     "text": [
      "(256, 1, 224, 224)\n"
     ]
    },
    {
     "name": "stderr",
     "output_type": "stream",
     "text": [
      "Compute features: 0.37 seconds\n"
     ]
    },
    {
     "name": "stdout",
     "output_type": "stream",
     "text": [
      "('MD661', 302)\n",
      "('MD662', 227)\n"
     ]
    },
    {
     "name": "stderr",
     "output_type": "stream",
     "text": [
      "Feature for (MD662,227,(5377,1737)) is not in pool. Re-compute.\n",
      "Feature for (MD662,227,(5442,1672)) is not in pool. Re-compute.\n",
      "Feature for (MD662,227,(5442,1737)) is not in pool. Re-compute.\n",
      "Feature for (MD662,227,(5507,1607)) is not in pool. Re-compute.\n",
      "Feature for (MD662,227,(5507,1672)) is not in pool. Re-compute.\n",
      "Feature for (MD662,227,(5507,1737)) is not in pool. Re-compute.\n",
      "Feature for (MD662,227,(5572,1607)) is not in pool. Re-compute.\n",
      "Feature for (MD662,227,(5572,1672)) is not in pool. Re-compute.\n",
      "Feature for (MD662,227,(5637,1542)) is not in pool. Re-compute.\n",
      "Feature for (MD662,227,(5637,1607)) is not in pool. Re-compute.\n",
      "Not using image_cache.\n",
      "Load image: 16.90 seconds.\n",
      "Extract patches: 16.99 seconds\n"
     ]
    },
    {
     "name": "stdout",
     "output_type": "stream",
     "text": [
      "(256, 1, 224, 224)\n"
     ]
    },
    {
     "name": "stderr",
     "output_type": "stream",
     "text": [
      "Compute features: 0.39 seconds\n"
     ]
    },
    {
     "name": "stdout",
     "output_type": "stream",
     "text": [
      "('MD662', 282)\n",
      "('MD661', 250)\n"
     ]
    },
    {
     "name": "stderr",
     "output_type": "stream",
     "text": [
      "Feature for (MD661,250,(6157,1022)) is not in pool. Re-compute.\n",
      "Feature for (MD661,250,(6222,957)) is not in pool. Re-compute.\n",
      "Feature for (MD661,250,(6222,1022)) is not in pool. Re-compute.\n",
      "Feature for (MD661,250,(6287,892)) is not in pool. Re-compute.\n",
      "Feature for (MD661,250,(6287,957)) is not in pool. Re-compute.\n",
      "Feature for (MD661,250,(6287,1022)) is not in pool. Re-compute.\n",
      "Feature for (MD661,250,(6352,827)) is not in pool. Re-compute.\n",
      "Feature for (MD661,250,(6352,892)) is not in pool. Re-compute.\n",
      "Feature for (MD661,250,(6352,957)) is not in pool. Re-compute.\n",
      "Feature for (MD661,250,(6417,762)) is not in pool. Re-compute.\n",
      "Feature for (MD661,250,(6417,827)) is not in pool. Re-compute.\n",
      "Feature for (MD661,250,(6417,892)) is not in pool. Re-compute.\n",
      "Feature for (MD661,250,(6417,957)) is not in pool. Re-compute.\n",
      "Feature for (MD661,250,(6482,762)) is not in pool. Re-compute.\n",
      "Feature for (MD661,250,(6482,827)) is not in pool. Re-compute.\n",
      "Feature for (MD661,250,(6482,892)) is not in pool. Re-compute.\n",
      "Feature for (MD661,250,(6482,957)) is not in pool. Re-compute.\n",
      "Feature for (MD661,250,(6547,697)) is not in pool. Re-compute.\n",
      "Feature for (MD661,250,(6547,762)) is not in pool. Re-compute.\n",
      "Feature for (MD661,250,(6547,827)) is not in pool. Re-compute.\n",
      "Feature for (MD661,250,(6547,892)) is not in pool. Re-compute.\n",
      "Feature for (MD661,250,(6547,957)) is not in pool. Re-compute.\n",
      "Feature for (MD661,250,(6612,697)) is not in pool. Re-compute.\n",
      "Feature for (MD661,250,(6612,762)) is not in pool. Re-compute.\n",
      "Feature for (MD661,250,(6612,827)) is not in pool. Re-compute.\n",
      "Feature for (MD661,250,(6612,892)) is not in pool. Re-compute.\n",
      "Feature for (MD661,250,(6677,697)) is not in pool. Re-compute.\n",
      "Feature for (MD661,250,(6677,762)) is not in pool. Re-compute.\n",
      "Feature for (MD661,250,(6677,827)) is not in pool. Re-compute.\n",
      "Feature for (MD661,250,(6742,697)) is not in pool. Re-compute.\n",
      "Feature for (MD661,250,(6742,762)) is not in pool. Re-compute.\n",
      "Feature for (MD661,250,(6807,632)) is not in pool. Re-compute.\n",
      "Feature for (MD661,250,(6807,697)) is not in pool. Re-compute.\n",
      "Feature for (MD661,250,(6807,762)) is not in pool. Re-compute.\n",
      "Feature for (MD661,250,(6807,827)) is not in pool. Re-compute.\n",
      "Feature for (MD661,250,(6872,632)) is not in pool. Re-compute.\n",
      "Feature for (MD661,250,(6872,697)) is not in pool. Re-compute.\n",
      "Feature for (MD661,250,(6872,762)) is not in pool. Re-compute.\n",
      "Feature for (MD661,250,(6872,827)) is not in pool. Re-compute.\n",
      "Feature for (MD661,250,(6872,892)) is not in pool. Re-compute.\n",
      "Feature for (MD661,250,(6937,697)) is not in pool. Re-compute.\n",
      "Feature for (MD661,250,(6937,762)) is not in pool. Re-compute.\n",
      "Feature for (MD661,250,(6937,827)) is not in pool. Re-compute.\n",
      "Feature for (MD661,250,(6937,892)) is not in pool. Re-compute.\n",
      "Feature for (MD661,250,(7002,762)) is not in pool. Re-compute.\n",
      "Feature for (MD661,250,(7002,827)) is not in pool. Re-compute.\n",
      "Not using image_cache.\n",
      "Load image: 18.97 seconds.\n",
      "Extract patches: 19.11 seconds\n"
     ]
    },
    {
     "name": "stdout",
     "output_type": "stream",
     "text": [
      "(256, 1, 224, 224)\n"
     ]
    },
    {
     "name": "stderr",
     "output_type": "stream",
     "text": [
      "Compute features: 0.38 seconds\n"
     ]
    },
    {
     "name": "stdout",
     "output_type": "stream",
     "text": [
      "('MD661', 181)\n"
     ]
    },
    {
     "name": "stderr",
     "output_type": "stream",
     "text": [
      "Feature for (MD661,181,(6092,827)) is not in pool. Re-compute.\n",
      "Feature for (MD661,181,(6092,892)) is not in pool. Re-compute.\n",
      "Feature for (MD661,181,(6092,957)) is not in pool. Re-compute.\n",
      "Feature for (MD661,181,(6157,827)) is not in pool. Re-compute.\n",
      "Feature for (MD661,181,(6157,892)) is not in pool. Re-compute.\n",
      "Not using image_cache.\n",
      "Load image: 15.16 seconds.\n",
      "Extract patches: 15.25 seconds\n"
     ]
    },
    {
     "name": "stdout",
     "output_type": "stream",
     "text": [
      "(256, 1, 224, 224)\n"
     ]
    },
    {
     "name": "stderr",
     "output_type": "stream",
     "text": [
      "Compute features: 0.38 seconds\n"
     ]
    },
    {
     "name": "stdout",
     "output_type": "stream",
     "text": [
      "('MD662', 301)\n",
      "('MD661', 247)\n"
     ]
    },
    {
     "name": "stderr",
     "output_type": "stream",
     "text": [
      "Feature for (MD661,247,(6222,1022)) is not in pool. Re-compute.\n",
      "Feature for (MD661,247,(6287,957)) is not in pool. Re-compute.\n",
      "Feature for (MD661,247,(6287,1022)) is not in pool. Re-compute.\n",
      "Feature for (MD661,247,(6352,892)) is not in pool. Re-compute.\n",
      "Feature for (MD661,247,(6352,957)) is not in pool. Re-compute.\n",
      "Feature for (MD661,247,(6352,1022)) is not in pool. Re-compute.\n",
      "Feature for (MD661,247,(6417,827)) is not in pool. Re-compute.\n",
      "Feature for (MD661,247,(6417,892)) is not in pool. Re-compute.\n",
      "Feature for (MD661,247,(6417,957)) is not in pool. Re-compute.\n",
      "Feature for (MD661,247,(6417,1022)) is not in pool. Re-compute.\n",
      "Feature for (MD661,247,(6482,827)) is not in pool. Re-compute.\n",
      "Feature for (MD661,247,(6482,892)) is not in pool. Re-compute.\n",
      "Feature for (MD661,247,(6482,957)) is not in pool. Re-compute.\n",
      "Feature for (MD661,247,(6482,1022)) is not in pool. Re-compute.\n",
      "Feature for (MD661,247,(6547,762)) is not in pool. Re-compute.\n",
      "Feature for (MD661,247,(6547,827)) is not in pool. Re-compute.\n",
      "Feature for (MD661,247,(6547,892)) is not in pool. Re-compute.\n",
      "Feature for (MD661,247,(6547,957)) is not in pool. Re-compute.\n",
      "Feature for (MD661,247,(6547,1022)) is not in pool. Re-compute.\n",
      "Feature for (MD661,247,(6612,762)) is not in pool. Re-compute.\n",
      "Feature for (MD661,247,(6612,827)) is not in pool. Re-compute.\n",
      "Feature for (MD661,247,(6612,892)) is not in pool. Re-compute.\n",
      "Feature for (MD661,247,(6612,957)) is not in pool. Re-compute.\n",
      "Feature for (MD661,247,(6677,762)) is not in pool. Re-compute.\n",
      "Feature for (MD661,247,(6677,827)) is not in pool. Re-compute.\n",
      "Feature for (MD661,247,(6677,892)) is not in pool. Re-compute.\n",
      "Feature for (MD661,247,(6742,762)) is not in pool. Re-compute.\n",
      "Feature for (MD661,247,(6742,827)) is not in pool. Re-compute.\n",
      "Feature for (MD661,247,(6807,697)) is not in pool. Re-compute.\n",
      "Feature for (MD661,247,(6807,762)) is not in pool. Re-compute.\n",
      "Feature for (MD661,247,(6807,827)) is not in pool. Re-compute.\n",
      "Feature for (MD661,247,(6872,697)) is not in pool. Re-compute.\n",
      "Feature for (MD661,247,(6872,762)) is not in pool. Re-compute.\n",
      "Feature for (MD661,247,(6872,827)) is not in pool. Re-compute.\n",
      "Feature for (MD661,247,(6872,892)) is not in pool. Re-compute.\n",
      "Feature for (MD661,247,(6937,762)) is not in pool. Re-compute.\n",
      "Feature for (MD661,247,(6937,827)) is not in pool. Re-compute.\n",
      "Not using image_cache.\n",
      "Load image: 18.27 seconds.\n",
      "Extract patches: 18.40 seconds\n"
     ]
    },
    {
     "name": "stdout",
     "output_type": "stream",
     "text": [
      "(256, 1, 224, 224)\n"
     ]
    },
    {
     "name": "stderr",
     "output_type": "stream",
     "text": [
      "Compute features: 0.40 seconds\n"
     ]
    },
    {
     "name": "stdout",
     "output_type": "stream",
     "text": [
      "('MD661', 162)\n",
      "('MD661', 228)\n"
     ]
    },
    {
     "name": "stderr",
     "output_type": "stream",
     "text": [
      "Feature for (MD661,228,(6417,892)) is not in pool. Re-compute.\n",
      "Feature for (MD661,228,(6482,827)) is not in pool. Re-compute.\n",
      "Feature for (MD661,228,(6482,892)) is not in pool. Re-compute.\n",
      "Feature for (MD661,228,(6482,957)) is not in pool. Re-compute.\n",
      "Feature for (MD661,228,(6547,762)) is not in pool. Re-compute.\n",
      "Feature for (MD661,228,(6547,827)) is not in pool. Re-compute.\n",
      "Feature for (MD661,228,(6547,892)) is not in pool. Re-compute.\n",
      "Feature for (MD661,228,(6547,957)) is not in pool. Re-compute.\n",
      "Feature for (MD661,228,(6612,697)) is not in pool. Re-compute.\n",
      "Feature for (MD661,228,(6612,762)) is not in pool. Re-compute.\n",
      "Feature for (MD661,228,(6612,827)) is not in pool. Re-compute.\n",
      "Feature for (MD661,228,(6612,892)) is not in pool. Re-compute.\n",
      "Feature for (MD661,228,(6612,957)) is not in pool. Re-compute.\n",
      "Feature for (MD661,228,(6677,697)) is not in pool. Re-compute.\n",
      "Feature for (MD661,228,(6677,762)) is not in pool. Re-compute.\n",
      "Feature for (MD661,228,(6677,827)) is not in pool. Re-compute.\n",
      "Feature for (MD661,228,(6677,892)) is not in pool. Re-compute.\n",
      "Feature for (MD661,228,(6742,697)) is not in pool. Re-compute.\n",
      "Feature for (MD661,228,(6742,762)) is not in pool. Re-compute.\n",
      "Feature for (MD661,228,(6807,697)) is not in pool. Re-compute.\n",
      "Feature for (MD661,228,(6807,762)) is not in pool. Re-compute.\n",
      "Feature for (MD661,228,(6872,697)) is not in pool. Re-compute.\n",
      "Feature for (MD661,228,(6872,762)) is not in pool. Re-compute.\n",
      "Feature for (MD661,228,(6937,697)) is not in pool. Re-compute.\n",
      "Not using image_cache.\n",
      "Load image: 18.39 seconds.\n",
      "Extract patches: 18.50 seconds\n"
     ]
    },
    {
     "name": "stdout",
     "output_type": "stream",
     "text": [
      "(256, 1, 224, 224)\n"
     ]
    },
    {
     "name": "stderr",
     "output_type": "stream",
     "text": [
      "Compute features: 0.38 seconds\n"
     ]
    },
    {
     "name": "stdout",
     "output_type": "stream",
     "text": [
      "('MD662', 284)\n",
      "('MD662', 220)\n"
     ]
    },
    {
     "name": "stderr",
     "output_type": "stream",
     "text": [
      "Feature for (MD662,220,(5377,1932)) is not in pool. Re-compute.\n",
      "Feature for (MD662,220,(5377,1997)) is not in pool. Re-compute.\n",
      "Feature for (MD662,220,(5377,2062)) is not in pool. Re-compute.\n",
      "Feature for (MD662,220,(5442,1737)) is not in pool. Re-compute.\n",
      "Feature for (MD662,220,(5442,1802)) is not in pool. Re-compute.\n",
      "Feature for (MD662,220,(5442,1867)) is not in pool. Re-compute.\n",
      "Feature for (MD662,220,(5442,1932)) is not in pool. Re-compute.\n",
      "Feature for (MD662,220,(5442,1997)) is not in pool. Re-compute.\n",
      "Feature for (MD662,220,(5507,1672)) is not in pool. Re-compute.\n",
      "Feature for (MD662,220,(5507,1737)) is not in pool. Re-compute.\n",
      "Feature for (MD662,220,(5507,1802)) is not in pool. Re-compute.\n",
      "Feature for (MD662,220,(5507,1867)) is not in pool. Re-compute.\n",
      "Feature for (MD662,220,(5507,1932)) is not in pool. Re-compute.\n",
      "Feature for (MD662,220,(5572,1607)) is not in pool. Re-compute.\n",
      "Feature for (MD662,220,(5572,1672)) is not in pool. Re-compute.\n",
      "Not using image_cache.\n",
      "Load image: 16.39 seconds.\n",
      "Extract patches: 16.49 seconds\n"
     ]
    },
    {
     "name": "stdout",
     "output_type": "stream",
     "text": [
      "(256, 1, 224, 224)\n"
     ]
    },
    {
     "name": "stderr",
     "output_type": "stream",
     "text": [
      "Compute features: 0.38 seconds\n"
     ]
    },
    {
     "name": "stdout",
     "output_type": "stream",
     "text": [
      "('MD662', 257)\n"
     ]
    },
    {
     "name": "stderr",
     "output_type": "stream",
     "text": [
      "Feature for (MD662,257,(4792,1737)) is not in pool. Re-compute.\n",
      "Feature for (MD662,257,(4857,1542)) is not in pool. Re-compute.\n",
      "Feature for (MD662,257,(4857,1607)) is not in pool. Re-compute.\n",
      "Feature for (MD662,257,(4857,1672)) is not in pool. Re-compute.\n",
      "Feature for (MD662,257,(4857,1737)) is not in pool. Re-compute.\n",
      "Feature for (MD662,257,(4922,1347)) is not in pool. Re-compute.\n",
      "Feature for (MD662,257,(4922,1412)) is not in pool. Re-compute.\n",
      "Feature for (MD662,257,(4922,1477)) is not in pool. Re-compute.\n",
      "Feature for (MD662,257,(4922,1542)) is not in pool. Re-compute.\n",
      "Feature for (MD662,257,(4922,1607)) is not in pool. Re-compute.\n",
      "Feature for (MD662,257,(4922,1672)) is not in pool. Re-compute.\n",
      "Feature for (MD662,257,(4987,1282)) is not in pool. Re-compute.\n",
      "Feature for (MD662,257,(4987,1347)) is not in pool. Re-compute.\n",
      "Feature for (MD662,257,(4987,1412)) is not in pool. Re-compute.\n",
      "Feature for (MD662,257,(4987,1477)) is not in pool. Re-compute.\n",
      "Feature for (MD662,257,(4987,1542)) is not in pool. Re-compute.\n",
      "Feature for (MD662,257,(5052,1217)) is not in pool. Re-compute.\n",
      "Feature for (MD662,257,(5052,1282)) is not in pool. Re-compute.\n",
      "Feature for (MD662,257,(5052,1347)) is not in pool. Re-compute.\n",
      "Feature for (MD662,257,(5052,1412)) is not in pool. Re-compute.\n",
      "Feature for (MD662,257,(5052,1477)) is not in pool. Re-compute.\n",
      "Feature for (MD662,257,(5117,1217)) is not in pool. Re-compute.\n",
      "Feature for (MD662,257,(5117,1282)) is not in pool. Re-compute.\n",
      "Feature for (MD662,257,(5117,1347)) is not in pool. Re-compute.\n",
      "Feature for (MD662,257,(5117,1412)) is not in pool. Re-compute.\n",
      "Feature for (MD662,257,(5182,1217)) is not in pool. Re-compute.\n",
      "Feature for (MD662,257,(5182,1282)) is not in pool. Re-compute.\n",
      "Feature for (MD662,257,(5182,1347)) is not in pool. Re-compute.\n",
      "Feature for (MD662,257,(5247,1217)) is not in pool. Re-compute.\n",
      "Feature for (MD662,257,(5247,1282)) is not in pool. Re-compute.\n",
      "Feature for (MD662,257,(5312,1217)) is not in pool. Re-compute.\n",
      "Feature for (MD662,257,(5312,1282)) is not in pool. Re-compute.\n",
      "Feature for (MD662,257,(5377,1282)) is not in pool. Re-compute.\n",
      "Feature for (MD662,257,(5442,1282)) is not in pool. Re-compute.\n",
      "Feature for (MD662,257,(5507,1282)) is not in pool. Re-compute.\n",
      "Not using image_cache.\n",
      "Load image: 16.92 seconds.\n",
      "Extract patches: 17.04 seconds\n"
     ]
    },
    {
     "name": "stdout",
     "output_type": "stream",
     "text": [
      "(256, 1, 224, 224)\n"
     ]
    },
    {
     "name": "stderr",
     "output_type": "stream",
     "text": [
      "Compute features: 0.39 seconds\n"
     ]
    },
    {
     "name": "stdout",
     "output_type": "stream",
     "text": [
      "('MD661', 263)\n"
     ]
    },
    {
     "name": "stderr",
     "output_type": "stream",
     "text": [
      "Feature for (MD661,263,(5962,1087)) is not in pool. Re-compute.\n",
      "Feature for (MD661,263,(5962,1152)) is not in pool. Re-compute.\n",
      "Feature for (MD661,263,(5962,1217)) is not in pool. Re-compute.\n",
      "Feature for (MD661,263,(6027,1022)) is not in pool. Re-compute.\n",
      "Feature for (MD661,263,(6027,1087)) is not in pool. Re-compute.\n",
      "Feature for (MD661,263,(6027,1152)) is not in pool. Re-compute.\n",
      "Feature for (MD661,263,(6092,892)) is not in pool. Re-compute.\n",
      "Feature for (MD661,263,(6092,957)) is not in pool. Re-compute.\n",
      "Feature for (MD661,263,(6092,1022)) is not in pool. Re-compute.\n",
      "Feature for (MD661,263,(6092,1087)) is not in pool. Re-compute.\n",
      "Feature for (MD661,263,(6157,827)) is not in pool. Re-compute.\n",
      "Feature for (MD661,263,(6157,892)) is not in pool. Re-compute.\n",
      "Feature for (MD661,263,(6157,957)) is not in pool. Re-compute.\n",
      "Feature for (MD661,263,(6157,1022)) is not in pool. Re-compute.\n",
      "Feature for (MD661,263,(6157,1087)) is not in pool. Re-compute.\n",
      "Feature for (MD661,263,(6222,762)) is not in pool. Re-compute.\n",
      "Feature for (MD661,263,(6222,827)) is not in pool. Re-compute.\n",
      "Feature for (MD661,263,(6222,892)) is not in pool. Re-compute.\n",
      "Feature for (MD661,263,(6222,957)) is not in pool. Re-compute.\n",
      "Feature for (MD661,263,(6287,697)) is not in pool. Re-compute.\n",
      "Feature for (MD661,263,(6287,762)) is not in pool. Re-compute.\n",
      "Feature for (MD661,263,(6287,827)) is not in pool. Re-compute.\n",
      "Feature for (MD661,263,(6352,697)) is not in pool. Re-compute.\n",
      "Feature for (MD661,263,(6352,762)) is not in pool. Re-compute.\n",
      "Feature for (MD661,263,(6352,827)) is not in pool. Re-compute.\n",
      "Feature for (MD661,263,(6417,632)) is not in pool. Re-compute.\n",
      "Feature for (MD661,263,(6417,697)) is not in pool. Re-compute.\n",
      "Feature for (MD661,263,(6417,762)) is not in pool. Re-compute.\n",
      "Feature for (MD661,263,(6417,827)) is not in pool. Re-compute.\n",
      "Feature for (MD661,263,(6482,632)) is not in pool. Re-compute.\n",
      "Feature for (MD661,263,(6482,697)) is not in pool. Re-compute.\n",
      "Feature for (MD661,263,(6482,762)) is not in pool. Re-compute.\n",
      "Feature for (MD661,263,(6482,827)) is not in pool. Re-compute.\n",
      "Feature for (MD661,263,(6547,567)) is not in pool. Re-compute.\n",
      "Feature for (MD661,263,(6547,632)) is not in pool. Re-compute.\n",
      "Feature for (MD661,263,(6547,697)) is not in pool. Re-compute.\n",
      "Feature for (MD661,263,(6547,762)) is not in pool. Re-compute.\n",
      "Feature for (MD661,263,(6547,827)) is not in pool. Re-compute.\n",
      "Feature for (MD661,263,(6547,892)) is not in pool. Re-compute.\n",
      "Feature for (MD661,263,(6612,632)) is not in pool. Re-compute.\n",
      "Feature for (MD661,263,(6612,697)) is not in pool. Re-compute.\n",
      "Feature for (MD661,263,(6612,762)) is not in pool. Re-compute.\n",
      "Feature for (MD661,263,(6612,827)) is not in pool. Re-compute.\n",
      "Feature for (MD661,263,(6612,892)) is not in pool. Re-compute.\n",
      "Feature for (MD661,263,(6612,957)) is not in pool. Re-compute.\n",
      "Feature for (MD661,263,(6677,632)) is not in pool. Re-compute.\n",
      "Feature for (MD661,263,(6677,697)) is not in pool. Re-compute.\n",
      "Feature for (MD661,263,(6677,762)) is not in pool. Re-compute.\n",
      "Feature for (MD661,263,(6677,827)) is not in pool. Re-compute.\n",
      "Feature for (MD661,263,(6677,892)) is not in pool. Re-compute.\n",
      "Feature for (MD661,263,(6677,957)) is not in pool. Re-compute.\n",
      "Feature for (MD661,263,(6742,697)) is not in pool. Re-compute.\n",
      "Feature for (MD661,263,(6742,762)) is not in pool. Re-compute.\n",
      "Feature for (MD661,263,(6742,827)) is not in pool. Re-compute.\n",
      "Feature for (MD661,263,(6742,892)) is not in pool. Re-compute.\n",
      "Feature for (MD661,263,(6807,762)) is not in pool. Re-compute.\n",
      "Feature for (MD661,263,(6807,827)) is not in pool. Re-compute.\n",
      "Feature for (MD661,263,(6807,892)) is not in pool. Re-compute.\n",
      "Feature for (MD661,263,(6872,827)) is not in pool. Re-compute.\n",
      "Feature for (MD661,263,(6872,892)) is not in pool. Re-compute.\n",
      "Not using image_cache.\n",
      "Load image: 19.42 seconds.\n",
      "Extract patches: 19.59 seconds\n"
     ]
    },
    {
     "name": "stdout",
     "output_type": "stream",
     "text": [
      "(256, 1, 224, 224)\n"
     ]
    },
    {
     "name": "stderr",
     "output_type": "stream",
     "text": [
      "Compute features: 0.38 seconds\n"
     ]
    },
    {
     "name": "stdout",
     "output_type": "stream",
     "text": [
      "('MD661', 211)\n"
     ]
    },
    {
     "name": "stderr",
     "output_type": "stream",
     "text": [
      "Feature for (MD661,211,(6157,697)) is not in pool. Re-compute.\n",
      "Feature for (MD661,211,(6157,762)) is not in pool. Re-compute.\n",
      "Feature for (MD661,211,(6157,827)) is not in pool. Re-compute.\n",
      "Feature for (MD661,211,(6222,632)) is not in pool. Re-compute.\n",
      "Feature for (MD661,211,(6222,697)) is not in pool. Re-compute.\n",
      "Feature for (MD661,211,(6222,762)) is not in pool. Re-compute.\n",
      "Feature for (MD661,211,(6222,827)) is not in pool. Re-compute.\n",
      "Feature for (MD661,211,(6287,567)) is not in pool. Re-compute.\n",
      "Feature for (MD661,211,(6287,632)) is not in pool. Re-compute.\n",
      "Feature for (MD661,211,(6287,697)) is not in pool. Re-compute.\n",
      "Feature for (MD661,211,(6287,762)) is not in pool. Re-compute.\n",
      "Feature for (MD661,211,(6287,827)) is not in pool. Re-compute.\n",
      "Feature for (MD661,211,(6352,502)) is not in pool. Re-compute.\n",
      "Feature for (MD661,211,(6352,567)) is not in pool. Re-compute.\n",
      "Feature for (MD661,211,(6352,632)) is not in pool. Re-compute.\n",
      "Feature for (MD661,211,(6352,697)) is not in pool. Re-compute.\n",
      "Feature for (MD661,211,(6352,762)) is not in pool. Re-compute.\n",
      "Feature for (MD661,211,(6417,437)) is not in pool. Re-compute.\n",
      "Feature for (MD661,211,(6417,502)) is not in pool. Re-compute.\n",
      "Feature for (MD661,211,(6417,567)) is not in pool. Re-compute.\n",
      "Feature for (MD661,211,(6417,632)) is not in pool. Re-compute.\n",
      "Feature for (MD661,211,(6417,697)) is not in pool. Re-compute.\n",
      "Feature for (MD661,211,(6417,762)) is not in pool. Re-compute.\n",
      "Feature for (MD661,211,(6482,372)) is not in pool. Re-compute.\n",
      "Feature for (MD661,211,(6482,437)) is not in pool. Re-compute.\n",
      "Feature for (MD661,211,(6482,502)) is not in pool. Re-compute.\n",
      "Feature for (MD661,211,(6482,567)) is not in pool. Re-compute.\n",
      "Feature for (MD661,211,(6482,632)) is not in pool. Re-compute.\n",
      "Feature for (MD661,211,(6482,697)) is not in pool. Re-compute.\n",
      "Feature for (MD661,211,(6482,762)) is not in pool. Re-compute.\n",
      "Feature for (MD661,211,(6547,307)) is not in pool. Re-compute.\n",
      "Feature for (MD661,211,(6547,372)) is not in pool. Re-compute.\n",
      "Feature for (MD661,211,(6547,437)) is not in pool. Re-compute.\n",
      "Feature for (MD661,211,(6547,502)) is not in pool. Re-compute.\n",
      "Feature for (MD661,211,(6547,567)) is not in pool. Re-compute.\n",
      "Feature for (MD661,211,(6547,632)) is not in pool. Re-compute.\n",
      "Feature for (MD661,211,(6547,697)) is not in pool. Re-compute.\n",
      "Feature for (MD661,211,(6547,762)) is not in pool. Re-compute.\n",
      "Feature for (MD661,211,(6612,372)) is not in pool. Re-compute.\n",
      "Feature for (MD661,211,(6612,437)) is not in pool. Re-compute.\n",
      "Feature for (MD661,211,(6612,502)) is not in pool. Re-compute.\n",
      "Feature for (MD661,211,(6612,567)) is not in pool. Re-compute.\n",
      "Feature for (MD661,211,(6612,632)) is not in pool. Re-compute.\n",
      "Feature for (MD661,211,(6612,697)) is not in pool. Re-compute.\n",
      "Feature for (MD661,211,(6677,372)) is not in pool. Re-compute.\n",
      "Feature for (MD661,211,(6677,437)) is not in pool. Re-compute.\n",
      "Feature for (MD661,211,(6677,502)) is not in pool. Re-compute.\n",
      "Feature for (MD661,211,(6677,567)) is not in pool. Re-compute.\n",
      "Feature for (MD661,211,(6677,632)) is not in pool. Re-compute.\n",
      "Feature for (MD661,211,(6677,697)) is not in pool. Re-compute.\n",
      "Feature for (MD661,211,(6742,437)) is not in pool. Re-compute.\n",
      "Feature for (MD661,211,(6742,502)) is not in pool. Re-compute.\n",
      "Feature for (MD661,211,(6742,567)) is not in pool. Re-compute.\n",
      "Feature for (MD661,211,(6742,632)) is not in pool. Re-compute.\n",
      "Feature for (MD661,211,(6742,697)) is not in pool. Re-compute.\n",
      "Feature for (MD661,211,(6807,502)) is not in pool. Re-compute.\n",
      "Feature for (MD661,211,(6807,567)) is not in pool. Re-compute.\n",
      "Feature for (MD661,211,(6807,632)) is not in pool. Re-compute.\n",
      "Feature for (MD661,211,(6807,697)) is not in pool. Re-compute.\n",
      "Feature for (MD661,211,(6872,567)) is not in pool. Re-compute.\n",
      "Feature for (MD661,211,(6872,632)) is not in pool. Re-compute.\n",
      "Not using image_cache.\n",
      "Load image: 18.29 seconds.\n",
      "Extract patches: 18.45 seconds\n"
     ]
    },
    {
     "name": "stdout",
     "output_type": "stream",
     "text": [
      "(256, 1, 224, 224)\n"
     ]
    },
    {
     "name": "stderr",
     "output_type": "stream",
     "text": [
      "Compute features: 0.38 seconds\n"
     ]
    },
    {
     "name": "stdout",
     "output_type": "stream",
     "text": [
      "('MD662', 195)\n"
     ]
    },
    {
     "name": "stderr",
     "output_type": "stream",
     "text": [
      "Feature for (MD662,195,(5117,1867)) is not in pool. Re-compute.\n",
      "Feature for (MD662,195,(5182,1542)) is not in pool. Re-compute.\n",
      "Feature for (MD662,195,(5182,1607)) is not in pool. Re-compute.\n",
      "Feature for (MD662,195,(5182,1672)) is not in pool. Re-compute.\n",
      "Feature for (MD662,195,(5182,1737)) is not in pool. Re-compute.\n",
      "Feature for (MD662,195,(5182,1802)) is not in pool. Re-compute.\n",
      "Feature for (MD662,195,(5247,1477)) is not in pool. Re-compute.\n",
      "Feature for (MD662,195,(5247,1542)) is not in pool. Re-compute.\n",
      "Feature for (MD662,195,(5247,1607)) is not in pool. Re-compute.\n",
      "Feature for (MD662,195,(5247,1672)) is not in pool. Re-compute.\n",
      "Feature for (MD662,195,(5247,1737)) is not in pool. Re-compute.\n",
      "Feature for (MD662,195,(5247,1802)) is not in pool. Re-compute.\n",
      "Feature for (MD662,195,(5312,1412)) is not in pool. Re-compute.\n",
      "Feature for (MD662,195,(5312,1477)) is not in pool. Re-compute.\n",
      "Feature for (MD662,195,(5312,1542)) is not in pool. Re-compute.\n",
      "Feature for (MD662,195,(5312,1607)) is not in pool. Re-compute.\n",
      "Feature for (MD662,195,(5312,1672)) is not in pool. Re-compute.\n",
      "Feature for (MD662,195,(5377,1347)) is not in pool. Re-compute.\n",
      "Feature for (MD662,195,(5377,1412)) is not in pool. Re-compute.\n",
      "Feature for (MD662,195,(5377,1477)) is not in pool. Re-compute.\n",
      "Feature for (MD662,195,(5377,1542)) is not in pool. Re-compute.\n",
      "Feature for (MD662,195,(5377,1607)) is not in pool. Re-compute.\n",
      "Feature for (MD662,195,(5377,1672)) is not in pool. Re-compute.\n",
      "Feature for (MD662,195,(5442,1282)) is not in pool. Re-compute.\n",
      "Feature for (MD662,195,(5442,1347)) is not in pool. Re-compute.\n",
      "Feature for (MD662,195,(5442,1412)) is not in pool. Re-compute.\n",
      "Feature for (MD662,195,(5442,1477)) is not in pool. Re-compute.\n",
      "Feature for (MD662,195,(5442,1542)) is not in pool. Re-compute.\n",
      "Feature for (MD662,195,(5442,1607)) is not in pool. Re-compute.\n",
      "Feature for (MD662,195,(5507,1282)) is not in pool. Re-compute.\n",
      "Feature for (MD662,195,(5507,1347)) is not in pool. Re-compute.\n",
      "Feature for (MD662,195,(5507,1412)) is not in pool. Re-compute.\n",
      "Feature for (MD662,195,(5507,1477)) is not in pool. Re-compute.\n",
      "Feature for (MD662,195,(5507,1542)) is not in pool. Re-compute.\n",
      "Feature for (MD662,195,(5572,1282)) is not in pool. Re-compute.\n",
      "Feature for (MD662,195,(5572,1347)) is not in pool. Re-compute.\n",
      "Feature for (MD662,195,(5572,1412)) is not in pool. Re-compute.\n",
      "Feature for (MD662,195,(5572,1477)) is not in pool. Re-compute.\n",
      "Feature for (MD662,195,(5572,1542)) is not in pool. Re-compute.\n",
      "Feature for (MD662,195,(5637,1282)) is not in pool. Re-compute.\n",
      "Feature for (MD662,195,(5637,1347)) is not in pool. Re-compute.\n",
      "Feature for (MD662,195,(5637,1412)) is not in pool. Re-compute.\n",
      "Feature for (MD662,195,(5637,1477)) is not in pool. Re-compute.\n",
      "Feature for (MD662,195,(5637,1542)) is not in pool. Re-compute.\n",
      "Feature for (MD662,195,(5702,1282)) is not in pool. Re-compute.\n",
      "Feature for (MD662,195,(5702,1347)) is not in pool. Re-compute.\n",
      "Feature for (MD662,195,(5702,1412)) is not in pool. Re-compute.\n",
      "Feature for (MD662,195,(5702,1477)) is not in pool. Re-compute.\n",
      "Feature for (MD662,195,(5702,1542)) is not in pool. Re-compute.\n",
      "Feature for (MD662,195,(5767,1347)) is not in pool. Re-compute.\n",
      "Feature for (MD662,195,(5767,1412)) is not in pool. Re-compute.\n",
      "Feature for (MD662,195,(5767,1477)) is not in pool. Re-compute.\n",
      "Feature for (MD662,195,(5767,1542)) is not in pool. Re-compute.\n",
      "Feature for (MD662,195,(5832,1412)) is not in pool. Re-compute.\n",
      "Feature for (MD662,195,(5832,1477)) is not in pool. Re-compute.\n",
      "Feature for (MD662,195,(5897,1412)) is not in pool. Re-compute.\n",
      "Not using image_cache.\n",
      "Load image: 15.56 seconds.\n",
      "Extract patches: 15.70 seconds\n"
     ]
    },
    {
     "name": "stdout",
     "output_type": "stream",
     "text": [
      "(256, 1, 224, 224)\n"
     ]
    },
    {
     "name": "stderr",
     "output_type": "stream",
     "text": [
      "Compute features: 0.40 seconds\n"
     ]
    },
    {
     "name": "stdout",
     "output_type": "stream",
     "text": [
      "('MD662', 147)\n",
      "('MD661', 308)\n",
      "('MD662', 173)\n"
     ]
    },
    {
     "name": "stderr",
     "output_type": "stream",
     "text": [
      "Feature for (MD662,173,(5117,1997)) is not in pool. Re-compute.\n",
      "Feature for (MD662,173,(5117,2062)) is not in pool. Re-compute.\n",
      "Feature for (MD662,173,(5117,2127)) is not in pool. Re-compute.\n",
      "Feature for (MD662,173,(5117,2192)) is not in pool. Re-compute.\n",
      "Feature for (MD662,173,(5117,2257)) is not in pool. Re-compute.\n",
      "Feature for (MD662,173,(5117,2322)) is not in pool. Re-compute.\n",
      "Feature for (MD662,173,(5117,2387)) is not in pool. Re-compute.\n",
      "Feature for (MD662,173,(5182,1802)) is not in pool. Re-compute.\n",
      "Feature for (MD662,173,(5182,1867)) is not in pool. Re-compute.\n",
      "Feature for (MD662,173,(5182,1932)) is not in pool. Re-compute.\n",
      "Feature for (MD662,173,(5182,1997)) is not in pool. Re-compute.\n",
      "Feature for (MD662,173,(5182,2062)) is not in pool. Re-compute.\n",
      "Feature for (MD662,173,(5182,2127)) is not in pool. Re-compute.\n",
      "Feature for (MD662,173,(5182,2192)) is not in pool. Re-compute.\n",
      "Feature for (MD662,173,(5182,2257)) is not in pool. Re-compute.\n",
      "Feature for (MD662,173,(5247,1802)) is not in pool. Re-compute.\n",
      "Feature for (MD662,173,(5247,1867)) is not in pool. Re-compute.\n",
      "Feature for (MD662,173,(5247,1932)) is not in pool. Re-compute.\n",
      "Feature for (MD662,173,(5247,1997)) is not in pool. Re-compute.\n",
      "Feature for (MD662,173,(5247,2062)) is not in pool. Re-compute.\n",
      "Feature for (MD662,173,(5247,2127)) is not in pool. Re-compute.\n",
      "Feature for (MD662,173,(5312,1802)) is not in pool. Re-compute.\n",
      "Feature for (MD662,173,(5312,1867)) is not in pool. Re-compute.\n",
      "Feature for (MD662,173,(5312,1932)) is not in pool. Re-compute.\n",
      "Feature for (MD662,173,(5312,1997)) is not in pool. Re-compute.\n",
      "Feature for (MD662,173,(5377,1802)) is not in pool. Re-compute.\n",
      "Feature for (MD662,173,(5377,1867)) is not in pool. Re-compute.\n",
      "Feature for (MD662,173,(5377,1932)) is not in pool. Re-compute.\n",
      "Feature for (MD662,173,(5442,1867)) is not in pool. Re-compute.\n",
      "Feature for (MD662,173,(5507,1867)) is not in pool. Re-compute.\n",
      "Not using image_cache.\n",
      "Load image: 13.87 seconds.\n",
      "Extract patches: 13.98 seconds\n"
     ]
    },
    {
     "name": "stdout",
     "output_type": "stream",
     "text": [
      "(256, 1, 224, 224)\n"
     ]
    },
    {
     "name": "stderr",
     "output_type": "stream",
     "text": [
      "Compute features: 0.38 seconds\n"
     ]
    },
    {
     "name": "stdout",
     "output_type": "stream",
     "text": [
      "('MD661', 187)\n"
     ]
    },
    {
     "name": "stderr",
     "output_type": "stream",
     "text": [
      "Feature for (MD661,187,(5962,1087)) is not in pool. Re-compute.\n",
      "Feature for (MD661,187,(6027,827)) is not in pool. Re-compute.\n",
      "Feature for (MD661,187,(6027,892)) is not in pool. Re-compute.\n",
      "Feature for (MD661,187,(6027,957)) is not in pool. Re-compute.\n",
      "Feature for (MD661,187,(6027,1022)) is not in pool. Re-compute.\n",
      "Feature for (MD661,187,(6092,697)) is not in pool. Re-compute.\n",
      "Feature for (MD661,187,(6092,762)) is not in pool. Re-compute.\n",
      "Feature for (MD661,187,(6092,827)) is not in pool. Re-compute.\n",
      "Feature for (MD661,187,(6092,892)) is not in pool. Re-compute.\n",
      "Feature for (MD661,187,(6092,957)) is not in pool. Re-compute.\n",
      "Feature for (MD661,187,(6157,697)) is not in pool. Re-compute.\n",
      "Feature for (MD661,187,(6157,762)) is not in pool. Re-compute.\n",
      "Feature for (MD661,187,(6287,762)) is not in pool. Re-compute.\n",
      "Feature for (MD661,187,(6352,762)) is not in pool. Re-compute.\n",
      "Feature for (MD661,187,(6352,827)) is not in pool. Re-compute.\n",
      "Feature for (MD661,187,(6417,762)) is not in pool. Re-compute.\n",
      "Feature for (MD661,187,(6417,827)) is not in pool. Re-compute.\n",
      "Feature for (MD661,187,(6482,762)) is not in pool. Re-compute.\n",
      "Not using image_cache.\n",
      "Load image: 15.57 seconds.\n",
      "Extract patches: 15.67 seconds\n"
     ]
    },
    {
     "name": "stdout",
     "output_type": "stream",
     "text": [
      "(256, 1, 224, 224)\n"
     ]
    },
    {
     "name": "stderr",
     "output_type": "stream",
     "text": [
      "Compute features: 0.37 seconds\n"
     ]
    },
    {
     "name": "stdout",
     "output_type": "stream",
     "text": [
      "('MD661', 289)\n"
     ]
    },
    {
     "name": "stderr",
     "output_type": "stream",
     "text": [
      "Feature for (MD661,289,(5897,1282)) is not in pool. Re-compute.\n",
      "Feature for (MD661,289,(5897,1347)) is not in pool. Re-compute.\n",
      "Feature for (MD661,289,(5897,1412)) is not in pool. Re-compute.\n",
      "Feature for (MD661,289,(5962,1217)) is not in pool. Re-compute.\n",
      "Feature for (MD661,289,(5962,1282)) is not in pool. Re-compute.\n",
      "Feature for (MD661,289,(5962,1347)) is not in pool. Re-compute.\n",
      "Feature for (MD661,289,(5962,1412)) is not in pool. Re-compute.\n",
      "Feature for (MD661,289,(5962,1477)) is not in pool. Re-compute.\n",
      "Feature for (MD661,289,(6027,1217)) is not in pool. Re-compute.\n",
      "Feature for (MD661,289,(6027,1282)) is not in pool. Re-compute.\n",
      "Feature for (MD661,289,(6027,1347)) is not in pool. Re-compute.\n",
      "Feature for (MD661,289,(6027,1412)) is not in pool. Re-compute.\n",
      "Feature for (MD661,289,(6092,1217)) is not in pool. Re-compute.\n",
      "Feature for (MD661,289,(6092,1282)) is not in pool. Re-compute.\n",
      "Feature for (MD661,289,(6092,1347)) is not in pool. Re-compute.\n",
      "Feature for (MD661,289,(6157,1217)) is not in pool. Re-compute.\n",
      "Feature for (MD661,289,(6157,1282)) is not in pool. Re-compute.\n",
      "Feature for (MD661,289,(6222,1217)) is not in pool. Re-compute.\n",
      "Feature for (MD661,289,(6222,1282)) is not in pool. Re-compute.\n",
      "Not using image_cache.\n",
      "Load image: 17.38 seconds.\n",
      "Extract patches: 17.49 seconds\n"
     ]
    },
    {
     "name": "stdout",
     "output_type": "stream",
     "text": [
      "(256, 1, 224, 224)\n"
     ]
    },
    {
     "name": "stderr",
     "output_type": "stream",
     "text": [
      "Compute features: 0.39 seconds\n"
     ]
    },
    {
     "name": "stdout",
     "output_type": "stream",
     "text": [
      "('MD661', 253)\n"
     ]
    },
    {
     "name": "stderr",
     "output_type": "stream",
     "text": [
      "Feature for (MD661,253,(6092,1087)) is not in pool. Re-compute.\n",
      "Feature for (MD661,253,(6157,957)) is not in pool. Re-compute.\n",
      "Feature for (MD661,253,(6157,1022)) is not in pool. Re-compute.\n",
      "Feature for (MD661,253,(6222,892)) is not in pool. Re-compute.\n",
      "Feature for (MD661,253,(6222,957)) is not in pool. Re-compute.\n",
      "Feature for (MD661,253,(6222,1022)) is not in pool. Re-compute.\n",
      "Feature for (MD661,253,(6287,827)) is not in pool. Re-compute.\n",
      "Feature for (MD661,253,(6287,892)) is not in pool. Re-compute.\n",
      "Feature for (MD661,253,(6287,957)) is not in pool. Re-compute.\n",
      "Feature for (MD661,253,(6352,762)) is not in pool. Re-compute.\n",
      "Feature for (MD661,253,(6352,827)) is not in pool. Re-compute.\n",
      "Feature for (MD661,253,(6352,892)) is not in pool. Re-compute.\n",
      "Feature for (MD661,253,(6417,762)) is not in pool. Re-compute.\n",
      "Feature for (MD661,253,(6417,827)) is not in pool. Re-compute.\n",
      "Feature for (MD661,253,(6417,892)) is not in pool. Re-compute.\n",
      "Feature for (MD661,253,(6482,697)) is not in pool. Re-compute.\n",
      "Feature for (MD661,253,(6482,762)) is not in pool. Re-compute.\n",
      "Feature for (MD661,253,(6482,827)) is not in pool. Re-compute.\n",
      "Feature for (MD661,253,(6482,892)) is not in pool. Re-compute.\n",
      "Feature for (MD661,253,(6482,957)) is not in pool. Re-compute.\n",
      "Feature for (MD661,253,(6547,697)) is not in pool. Re-compute.\n",
      "Feature for (MD661,253,(6547,762)) is not in pool. Re-compute.\n",
      "Feature for (MD661,253,(6547,827)) is not in pool. Re-compute.\n",
      "Feature for (MD661,253,(6547,892)) is not in pool. Re-compute.\n",
      "Feature for (MD661,253,(6612,632)) is not in pool. Re-compute.\n",
      "Feature for (MD661,253,(6612,697)) is not in pool. Re-compute.\n",
      "Feature for (MD661,253,(6612,762)) is not in pool. Re-compute.\n",
      "Feature for (MD661,253,(6612,827)) is not in pool. Re-compute.\n",
      "Feature for (MD661,253,(6677,632)) is not in pool. Re-compute.\n",
      "Feature for (MD661,253,(6677,697)) is not in pool. Re-compute.\n",
      "Feature for (MD661,253,(6677,762)) is not in pool. Re-compute.\n",
      "Feature for (MD661,253,(6677,957)) is not in pool. Re-compute.\n",
      "Feature for (MD661,253,(6742,632)) is not in pool. Re-compute.\n",
      "Feature for (MD661,253,(6742,697)) is not in pool. Re-compute.\n",
      "Feature for (MD661,253,(6742,762)) is not in pool. Re-compute.\n",
      "Feature for (MD661,253,(6742,827)) is not in pool. Re-compute.\n",
      "Feature for (MD661,253,(6742,892)) is not in pool. Re-compute.\n",
      "Feature for (MD661,253,(6742,957)) is not in pool. Re-compute.\n",
      "Feature for (MD661,253,(6742,1022)) is not in pool. Re-compute.\n",
      "Feature for (MD661,253,(6807,632)) is not in pool. Re-compute.\n",
      "Feature for (MD661,253,(6807,697)) is not in pool. Re-compute.\n",
      "Feature for (MD661,253,(6807,762)) is not in pool. Re-compute.\n",
      "Feature for (MD661,253,(6807,827)) is not in pool. Re-compute.\n",
      "Feature for (MD661,253,(6807,892)) is not in pool. Re-compute.\n",
      "Feature for (MD661,253,(6807,957)) is not in pool. Re-compute.\n",
      "Feature for (MD661,253,(6872,632)) is not in pool. Re-compute.\n",
      "Feature for (MD661,253,(6872,697)) is not in pool. Re-compute.\n",
      "Feature for (MD661,253,(6872,762)) is not in pool. Re-compute.\n",
      "Feature for (MD661,253,(6872,827)) is not in pool. Re-compute.\n",
      "Feature for (MD661,253,(6872,892)) is not in pool. Re-compute.\n",
      "Feature for (MD661,253,(6872,957)) is not in pool. Re-compute.\n",
      "Feature for (MD661,253,(6937,697)) is not in pool. Re-compute.\n",
      "Feature for (MD661,253,(6937,762)) is not in pool. Re-compute.\n",
      "Feature for (MD661,253,(6937,827)) is not in pool. Re-compute.\n",
      "Feature for (MD661,253,(6937,892)) is not in pool. Re-compute.\n",
      "Feature for (MD661,253,(7002,762)) is not in pool. Re-compute.\n",
      "Feature for (MD661,253,(7002,827)) is not in pool. Re-compute.\n",
      "Feature for (MD661,253,(7002,892)) is not in pool. Re-compute.\n",
      "Not using image_cache.\n",
      "Load image: 17.62 seconds.\n",
      "Extract patches: 17.77 seconds\n"
     ]
    },
    {
     "name": "stdout",
     "output_type": "stream",
     "text": [
      "(256, 1, 224, 224)\n"
     ]
    },
    {
     "name": "stderr",
     "output_type": "stream",
     "text": [
      "Compute features: 0.37 seconds\n"
     ]
    },
    {
     "name": "stdout",
     "output_type": "stream",
     "text": [
      "('MD661', 234)\n"
     ]
    },
    {
     "name": "stderr",
     "output_type": "stream",
     "text": [
      "Feature for (MD661,234,(6417,1087)) is not in pool. Re-compute.\n",
      "Feature for (MD661,234,(6482,1087)) is not in pool. Re-compute.\n",
      "Feature for (MD661,234,(6547,957)) is not in pool. Re-compute.\n",
      "Feature for (MD661,234,(6547,1022)) is not in pool. Re-compute.\n",
      "Feature for (MD661,234,(6547,1087)) is not in pool. Re-compute.\n",
      "Feature for (MD661,234,(6612,957)) is not in pool. Re-compute.\n",
      "Feature for (MD661,234,(6612,1022)) is not in pool. Re-compute.\n",
      "Feature for (MD661,234,(6612,1087)) is not in pool. Re-compute.\n",
      "Feature for (MD661,234,(6677,892)) is not in pool. Re-compute.\n",
      "Feature for (MD661,234,(6677,957)) is not in pool. Re-compute.\n",
      "Feature for (MD661,234,(6677,1022)) is not in pool. Re-compute.\n",
      "Feature for (MD661,234,(6742,892)) is not in pool. Re-compute.\n",
      "Feature for (MD661,234,(6742,957)) is not in pool. Re-compute.\n",
      "Not using image_cache.\n",
      "Load image: 19.06 seconds.\n",
      "Extract patches: 19.16 seconds\n"
     ]
    },
    {
     "name": "stdout",
     "output_type": "stream",
     "text": [
      "(256, 1, 224, 224)\n"
     ]
    },
    {
     "name": "stderr",
     "output_type": "stream",
     "text": [
      "Compute features: 0.38 seconds\n"
     ]
    },
    {
     "name": "stdout",
     "output_type": "stream",
     "text": [
      "('MD662', 167)\n"
     ]
    },
    {
     "name": "stderr",
     "output_type": "stream",
     "text": [
      "Feature for (MD662,167,(5117,2127)) is not in pool. Re-compute.\n",
      "Feature for (MD662,167,(5117,2192)) is not in pool. Re-compute.\n",
      "Feature for (MD662,167,(5182,2062)) is not in pool. Re-compute.\n",
      "Feature for (MD662,167,(5182,2127)) is not in pool. Re-compute.\n",
      "Feature for (MD662,167,(5182,2192)) is not in pool. Re-compute.\n",
      "Feature for (MD662,167,(5247,2062)) is not in pool. Re-compute.\n",
      "Feature for (MD662,167,(5247,2127)) is not in pool. Re-compute.\n",
      "Feature for (MD662,167,(5247,2192)) is not in pool. Re-compute.\n",
      "Feature for (MD662,167,(5312,2062)) is not in pool. Re-compute.\n",
      "Feature for (MD662,167,(5312,2127)) is not in pool. Re-compute.\n",
      "Feature for (MD662,167,(5377,2062)) is not in pool. Re-compute.\n",
      "Feature for (MD662,167,(5377,2127)) is not in pool. Re-compute.\n",
      "Feature for (MD662,167,(5442,2062)) is not in pool. Re-compute.\n",
      "Not using image_cache.\n",
      "Load image: 14.29 seconds.\n",
      "Extract patches: 14.39 seconds\n"
     ]
    },
    {
     "name": "stdout",
     "output_type": "stream",
     "text": [
      "(256, 1, 224, 224)\n"
     ]
    },
    {
     "name": "stderr",
     "output_type": "stream",
     "text": [
      "Compute features: 0.39 seconds\n"
     ]
    },
    {
     "name": "stdout",
     "output_type": "stream",
     "text": [
      "('MD661', 231)\n"
     ]
    },
    {
     "name": "stderr",
     "output_type": "stream",
     "text": [
      "Feature for (MD661,231,(6417,1022)) is not in pool. Re-compute.\n",
      "Feature for (MD661,231,(6482,957)) is not in pool. Re-compute.\n",
      "Feature for (MD661,231,(6482,1022)) is not in pool. Re-compute.\n",
      "Feature for (MD661,231,(6547,892)) is not in pool. Re-compute.\n",
      "Feature for (MD661,231,(6547,957)) is not in pool. Re-compute.\n",
      "Feature for (MD661,231,(6547,1022)) is not in pool. Re-compute.\n",
      "Feature for (MD661,231,(6612,827)) is not in pool. Re-compute.\n",
      "Feature for (MD661,231,(6612,892)) is not in pool. Re-compute.\n",
      "Feature for (MD661,231,(6612,957)) is not in pool. Re-compute.\n",
      "Feature for (MD661,231,(6612,1022)) is not in pool. Re-compute.\n",
      "Feature for (MD661,231,(6677,827)) is not in pool. Re-compute.\n",
      "Feature for (MD661,231,(6677,892)) is not in pool. Re-compute.\n",
      "Feature for (MD661,231,(6677,957)) is not in pool. Re-compute.\n",
      "Feature for (MD661,231,(6742,762)) is not in pool. Re-compute.\n",
      "Feature for (MD661,231,(6742,827)) is not in pool. Re-compute.\n",
      "Feature for (MD661,231,(6742,892)) is not in pool. Re-compute.\n",
      "Feature for (MD661,231,(6807,762)) is not in pool. Re-compute.\n",
      "Feature for (MD661,231,(6807,827)) is not in pool. Re-compute.\n",
      "Not using image_cache.\n",
      "Load image: 18.89 seconds.\n",
      "Extract patches: 19.00 seconds\n"
     ]
    },
    {
     "name": "stdout",
     "output_type": "stream",
     "text": [
      "(256, 1, 224, 224)\n"
     ]
    },
    {
     "name": "stderr",
     "output_type": "stream",
     "text": [
      "Compute features: 0.38 seconds\n"
     ]
    },
    {
     "name": "stdout",
     "output_type": "stream",
     "text": [
      "('MD662', 148)\n",
      "('MD662', 217)\n"
     ]
    },
    {
     "name": "stderr",
     "output_type": "stream",
     "text": [
      "Feature for (MD662,217,(5312,1867)) is not in pool. Re-compute.\n",
      "Feature for (MD662,217,(5377,1802)) is not in pool. Re-compute.\n",
      "Feature for (MD662,217,(5377,1867)) is not in pool. Re-compute.\n",
      "Feature for (MD662,217,(5442,1607)) is not in pool. Re-compute.\n",
      "Feature for (MD662,217,(5442,1672)) is not in pool. Re-compute.\n",
      "Feature for (MD662,217,(5442,1737)) is not in pool. Re-compute.\n",
      "Feature for (MD662,217,(5442,1802)) is not in pool. Re-compute.\n",
      "Feature for (MD662,217,(5507,1607)) is not in pool. Re-compute.\n",
      "Feature for (MD662,217,(5507,1672)) is not in pool. Re-compute.\n",
      "Feature for (MD662,217,(5507,1737)) is not in pool. Re-compute.\n",
      "Feature for (MD662,217,(5507,1802)) is not in pool. Re-compute.\n",
      "Feature for (MD662,217,(5572,1542)) is not in pool. Re-compute.\n",
      "Feature for (MD662,217,(5572,1607)) is not in pool. Re-compute.\n",
      "Feature for (MD662,217,(5572,1672)) is not in pool. Re-compute.\n",
      "Feature for (MD662,217,(5637,1542)) is not in pool. Re-compute.\n",
      "Not using image_cache.\n",
      "Load image: 17.10 seconds.\n",
      "Extract patches: 17.20 seconds\n"
     ]
    },
    {
     "name": "stdout",
     "output_type": "stream",
     "text": [
      "(256, 1, 224, 224)\n"
     ]
    },
    {
     "name": "stderr",
     "output_type": "stream",
     "text": [
      "Compute features: 0.40 seconds\n"
     ]
    },
    {
     "name": "stdout",
     "output_type": "stream",
     "text": [
      "('MD662', 258)\n"
     ]
    },
    {
     "name": "stderr",
     "output_type": "stream",
     "text": [
      "Feature for (MD662,258,(4792,1737)) is not in pool. Re-compute.\n",
      "Feature for (MD662,258,(4792,1802)) is not in pool. Re-compute.\n",
      "Feature for (MD662,258,(4857,1477)) is not in pool. Re-compute.\n",
      "Feature for (MD662,258,(4857,1542)) is not in pool. Re-compute.\n",
      "Feature for (MD662,258,(4857,1607)) is not in pool. Re-compute.\n",
      "Feature for (MD662,258,(4857,1672)) is not in pool. Re-compute.\n",
      "Feature for (MD662,258,(4857,1737)) is not in pool. Re-compute.\n",
      "Feature for (MD662,258,(4922,1347)) is not in pool. Re-compute.\n",
      "Feature for (MD662,258,(4922,1412)) is not in pool. Re-compute.\n",
      "Feature for (MD662,258,(4922,1477)) is not in pool. Re-compute.\n",
      "Feature for (MD662,258,(4922,1542)) is not in pool. Re-compute.\n",
      "Feature for (MD662,258,(4922,1607)) is not in pool. Re-compute.\n",
      "Feature for (MD662,258,(4922,1672)) is not in pool. Re-compute.\n",
      "Feature for (MD662,258,(4987,1282)) is not in pool. Re-compute.\n",
      "Feature for (MD662,258,(4987,1347)) is not in pool. Re-compute.\n",
      "Feature for (MD662,258,(4987,1412)) is not in pool. Re-compute.\n",
      "Feature for (MD662,258,(4987,1477)) is not in pool. Re-compute.\n",
      "Feature for (MD662,258,(4987,1542)) is not in pool. Re-compute.\n",
      "Feature for (MD662,258,(5052,1282)) is not in pool. Re-compute.\n",
      "Feature for (MD662,258,(5052,1347)) is not in pool. Re-compute.\n",
      "Feature for (MD662,258,(5052,1412)) is not in pool. Re-compute.\n",
      "Feature for (MD662,258,(5052,1477)) is not in pool. Re-compute.\n",
      "Feature for (MD662,258,(5117,1217)) is not in pool. Re-compute.\n",
      "Feature for (MD662,258,(5117,1282)) is not in pool. Re-compute.\n",
      "Feature for (MD662,258,(5117,1347)) is not in pool. Re-compute.\n",
      "Feature for (MD662,258,(5117,1412)) is not in pool. Re-compute.\n",
      "Feature for (MD662,258,(5182,1217)) is not in pool. Re-compute.\n",
      "Feature for (MD662,258,(5182,1282)) is not in pool. Re-compute.\n",
      "Feature for (MD662,258,(5182,1347)) is not in pool. Re-compute.\n",
      "Feature for (MD662,258,(5247,1217)) is not in pool. Re-compute.\n",
      "Feature for (MD662,258,(5247,1282)) is not in pool. Re-compute.\n",
      "Feature for (MD662,258,(5312,1217)) is not in pool. Re-compute.\n",
      "Feature for (MD662,258,(5312,1282)) is not in pool. Re-compute.\n",
      "Feature for (MD662,258,(5377,1282)) is not in pool. Re-compute.\n",
      "Feature for (MD662,258,(5442,1282)) is not in pool. Re-compute.\n",
      "Not using image_cache.\n",
      "Load image: 16.15 seconds.\n",
      "Extract patches: 16.27 seconds\n"
     ]
    },
    {
     "name": "stdout",
     "output_type": "stream",
     "text": [
      "(256, 1, 224, 224)\n"
     ]
    },
    {
     "name": "stderr",
     "output_type": "stream",
     "text": [
      "Compute features: 0.38 seconds\n"
     ]
    },
    {
     "name": "stdout",
     "output_type": "stream",
     "text": [
      "('MD662', 155)\n",
      "('MD662', 204)\n"
     ]
    },
    {
     "name": "stderr",
     "output_type": "stream",
     "text": [
      "Feature for (MD662,204,(5182,1672)) is not in pool. Re-compute.\n",
      "Feature for (MD662,204,(5182,1737)) is not in pool. Re-compute.\n",
      "Feature for (MD662,204,(5182,1802)) is not in pool. Re-compute.\n",
      "Feature for (MD662,204,(5247,1542)) is not in pool. Re-compute.\n",
      "Feature for (MD662,204,(5247,1607)) is not in pool. Re-compute.\n",
      "Feature for (MD662,204,(5247,1672)) is not in pool. Re-compute.\n",
      "Feature for (MD662,204,(5247,1737)) is not in pool. Re-compute.\n",
      "Feature for (MD662,204,(5312,1477)) is not in pool. Re-compute.\n",
      "Feature for (MD662,204,(5312,1542)) is not in pool. Re-compute.\n",
      "Feature for (MD662,204,(5312,1607)) is not in pool. Re-compute.\n",
      "Feature for (MD662,204,(5312,1672)) is not in pool. Re-compute.\n",
      "Feature for (MD662,204,(5312,1737)) is not in pool. Re-compute.\n",
      "Feature for (MD662,204,(5377,1412)) is not in pool. Re-compute.\n",
      "Feature for (MD662,204,(5377,1477)) is not in pool. Re-compute.\n",
      "Feature for (MD662,204,(5377,1542)) is not in pool. Re-compute.\n",
      "Feature for (MD662,204,(5377,1607)) is not in pool. Re-compute.\n",
      "Feature for (MD662,204,(5377,1672)) is not in pool. Re-compute.\n",
      "Feature for (MD662,204,(5442,1347)) is not in pool. Re-compute.\n",
      "Feature for (MD662,204,(5442,1412)) is not in pool. Re-compute.\n",
      "Feature for (MD662,204,(5442,1477)) is not in pool. Re-compute.\n",
      "Feature for (MD662,204,(5442,1542)) is not in pool. Re-compute.\n",
      "Feature for (MD662,204,(5442,1607)) is not in pool. Re-compute.\n",
      "Feature for (MD662,204,(5442,1672)) is not in pool. Re-compute.\n",
      "Feature for (MD662,204,(5507,1347)) is not in pool. Re-compute.\n",
      "Feature for (MD662,204,(5507,1412)) is not in pool. Re-compute.\n",
      "Feature for (MD662,204,(5507,1477)) is not in pool. Re-compute.\n",
      "Feature for (MD662,204,(5507,1542)) is not in pool. Re-compute.\n",
      "Feature for (MD662,204,(5507,1607)) is not in pool. Re-compute.\n",
      "Feature for (MD662,204,(5572,1282)) is not in pool. Re-compute.\n",
      "Feature for (MD662,204,(5572,1347)) is not in pool. Re-compute.\n",
      "Feature for (MD662,204,(5572,1412)) is not in pool. Re-compute.\n",
      "Feature for (MD662,204,(5572,1477)) is not in pool. Re-compute.\n",
      "Feature for (MD662,204,(5572,1542)) is not in pool. Re-compute.\n",
      "Feature for (MD662,204,(5572,1607)) is not in pool. Re-compute.\n",
      "Feature for (MD662,204,(5637,1217)) is not in pool. Re-compute.\n",
      "Feature for (MD662,204,(5637,1282)) is not in pool. Re-compute.\n",
      "Feature for (MD662,204,(5637,1347)) is not in pool. Re-compute.\n",
      "Feature for (MD662,204,(5637,1412)) is not in pool. Re-compute.\n",
      "Feature for (MD662,204,(5637,1477)) is not in pool. Re-compute.\n",
      "Feature for (MD662,204,(5637,1542)) is not in pool. Re-compute.\n",
      "Feature for (MD662,204,(5702,1282)) is not in pool. Re-compute.\n",
      "Feature for (MD662,204,(5702,1347)) is not in pool. Re-compute.\n",
      "Feature for (MD662,204,(5702,1412)) is not in pool. Re-compute.\n",
      "Feature for (MD662,204,(5702,1477)) is not in pool. Re-compute.\n",
      "Feature for (MD662,204,(5702,1542)) is not in pool. Re-compute.\n",
      "Feature for (MD662,204,(5767,1282)) is not in pool. Re-compute.\n",
      "Feature for (MD662,204,(5767,1347)) is not in pool. Re-compute.\n",
      "Feature for (MD662,204,(5767,1412)) is not in pool. Re-compute.\n",
      "Feature for (MD662,204,(5767,1477)) is not in pool. Re-compute.\n",
      "Feature for (MD662,204,(5832,1282)) is not in pool. Re-compute.\n",
      "Feature for (MD662,204,(5832,1347)) is not in pool. Re-compute.\n",
      "Feature for (MD662,204,(5832,1412)) is not in pool. Re-compute.\n",
      "Feature for (MD662,204,(5897,1347)) is not in pool. Re-compute.\n",
      "Feature for (MD662,204,(5897,1412)) is not in pool. Re-compute.\n",
      "Not using image_cache.\n",
      "Load image: 16.52 seconds.\n",
      "Extract patches: 16.66 seconds\n"
     ]
    },
    {
     "name": "stdout",
     "output_type": "stream",
     "text": [
      "(256, 1, 224, 224)\n"
     ]
    },
    {
     "name": "stderr",
     "output_type": "stream",
     "text": [
      "Compute features: 0.37 seconds\n"
     ]
    },
    {
     "name": "stdout",
     "output_type": "stream",
     "text": [
      "('MD661', 195)\n"
     ]
    },
    {
     "name": "stderr",
     "output_type": "stream",
     "text": [
      "Feature for (MD661,195,(6027,827)) is not in pool. Re-compute.\n",
      "Feature for (MD661,195,(6027,892)) is not in pool. Re-compute.\n",
      "Feature for (MD661,195,(6027,957)) is not in pool. Re-compute.\n",
      "Feature for (MD661,195,(6092,697)) is not in pool. Re-compute.\n",
      "Feature for (MD661,195,(6092,762)) is not in pool. Re-compute.\n",
      "Feature for (MD661,195,(6092,827)) is not in pool. Re-compute.\n",
      "Feature for (MD661,195,(6092,892)) is not in pool. Re-compute.\n",
      "Feature for (MD661,195,(6157,502)) is not in pool. Re-compute.\n",
      "Feature for (MD661,195,(6157,567)) is not in pool. Re-compute.\n",
      "Feature for (MD661,195,(6157,632)) is not in pool. Re-compute.\n",
      "Feature for (MD661,195,(6157,697)) is not in pool. Re-compute.\n",
      "Feature for (MD661,195,(6157,762)) is not in pool. Re-compute.\n",
      "Feature for (MD661,195,(6157,827)) is not in pool. Re-compute.\n",
      "Feature for (MD661,195,(6222,502)) is not in pool. Re-compute.\n",
      "Feature for (MD661,195,(6222,567)) is not in pool. Re-compute.\n",
      "Feature for (MD661,195,(6222,632)) is not in pool. Re-compute.\n",
      "Feature for (MD661,195,(6222,697)) is not in pool. Re-compute.\n",
      "Feature for (MD661,195,(6287,502)) is not in pool. Re-compute.\n",
      "Feature for (MD661,195,(6287,567)) is not in pool. Re-compute.\n",
      "Feature for (MD661,195,(6352,502)) is not in pool. Re-compute.\n",
      "Feature for (MD661,195,(6352,697)) is not in pool. Re-compute.\n",
      "Feature for (MD661,195,(6417,567)) is not in pool. Re-compute.\n",
      "Feature for (MD661,195,(6417,632)) is not in pool. Re-compute.\n",
      "Feature for (MD661,195,(6417,697)) is not in pool. Re-compute.\n",
      "Feature for (MD661,195,(6417,762)) is not in pool. Re-compute.\n",
      "Feature for (MD661,195,(6482,567)) is not in pool. Re-compute.\n",
      "Feature for (MD661,195,(6482,632)) is not in pool. Re-compute.\n",
      "Feature for (MD661,195,(6482,697)) is not in pool. Re-compute.\n",
      "Feature for (MD661,195,(6547,567)) is not in pool. Re-compute.\n",
      "Feature for (MD661,195,(6547,632)) is not in pool. Re-compute.\n",
      "Not using image_cache.\n",
      "Load image: 19.02 seconds.\n",
      "Extract patches: 19.15 seconds\n"
     ]
    },
    {
     "name": "stdout",
     "output_type": "stream",
     "text": [
      "(256, 1, 224, 224)\n"
     ]
    },
    {
     "name": "stderr",
     "output_type": "stream",
     "text": [
      "Compute features: 0.39 seconds\n"
     ]
    },
    {
     "name": "stdout",
     "output_type": "stream",
     "text": [
      "('MD661', 190)\n"
     ]
    },
    {
     "name": "stderr",
     "output_type": "stream",
     "text": [
      "Feature for (MD661,190,(6027,827)) is not in pool. Re-compute.\n",
      "Feature for (MD661,190,(6027,892)) is not in pool. Re-compute.\n",
      "Feature for (MD661,190,(6027,957)) is not in pool. Re-compute.\n",
      "Feature for (MD661,190,(6092,697)) is not in pool. Re-compute.\n",
      "Feature for (MD661,190,(6092,762)) is not in pool. Re-compute.\n",
      "Feature for (MD661,190,(6092,827)) is not in pool. Re-compute.\n",
      "Feature for (MD661,190,(6092,892)) is not in pool. Re-compute.\n",
      "Feature for (MD661,190,(6157,567)) is not in pool. Re-compute.\n",
      "Feature for (MD661,190,(6157,632)) is not in pool. Re-compute.\n",
      "Feature for (MD661,190,(6157,697)) is not in pool. Re-compute.\n",
      "Feature for (MD661,190,(6157,762)) is not in pool. Re-compute.\n",
      "Feature for (MD661,190,(6222,632)) is not in pool. Re-compute.\n",
      "Feature for (MD661,190,(6287,762)) is not in pool. Re-compute.\n",
      "Feature for (MD661,190,(6287,827)) is not in pool. Re-compute.\n",
      "Feature for (MD661,190,(6352,697)) is not in pool. Re-compute.\n",
      "Feature for (MD661,190,(6352,762)) is not in pool. Re-compute.\n",
      "Feature for (MD661,190,(6352,827)) is not in pool. Re-compute.\n",
      "Feature for (MD661,190,(6417,632)) is not in pool. Re-compute.\n",
      "Feature for (MD661,190,(6417,697)) is not in pool. Re-compute.\n",
      "Feature for (MD661,190,(6417,762)) is not in pool. Re-compute.\n",
      "Feature for (MD661,190,(6482,697)) is not in pool. Re-compute.\n",
      "Feature for (MD661,190,(6482,762)) is not in pool. Re-compute.\n",
      "Feature for (MD661,190,(6547,697)) is not in pool. Re-compute.\n",
      "Not using image_cache.\n",
      "Load image: 15.79 seconds.\n",
      "Extract patches: 15.92 seconds\n"
     ]
    },
    {
     "name": "stdout",
     "output_type": "stream",
     "text": [
      "(256, 1, 224, 224)\n"
     ]
    },
    {
     "name": "stderr",
     "output_type": "stream",
     "text": [
      "Compute features: 0.37 seconds\n"
     ]
    },
    {
     "name": "stdout",
     "output_type": "stream",
     "text": [
      "('MD662', 292)\n",
      "('MD662', 226)\n"
     ]
    },
    {
     "name": "stderr",
     "output_type": "stream",
     "text": [
      "Feature for (MD662,226,(5377,1802)) is not in pool. Re-compute.\n",
      "Feature for (MD662,226,(5442,1737)) is not in pool. Re-compute.\n",
      "Feature for (MD662,226,(5507,1672)) is not in pool. Re-compute.\n",
      "Feature for (MD662,226,(5507,1737)) is not in pool. Re-compute.\n",
      "Feature for (MD662,226,(5572,1607)) is not in pool. Re-compute.\n",
      "Feature for (MD662,226,(5572,1672)) is not in pool. Re-compute.\n",
      "Feature for (MD662,226,(5572,1737)) is not in pool. Re-compute.\n",
      "Not using image_cache.\n",
      "Load image: 17.12 seconds.\n",
      "Extract patches: 17.21 seconds\n"
     ]
    },
    {
     "name": "stdout",
     "output_type": "stream",
     "text": [
      "(256, 1, 224, 224)\n"
     ]
    },
    {
     "name": "stderr",
     "output_type": "stream",
     "text": [
      "Compute features: 0.37 seconds\n"
     ]
    },
    {
     "name": "stdout",
     "output_type": "stream",
     "text": [
      "('MD661', 240)\n"
     ]
    },
    {
     "name": "stderr",
     "output_type": "stream",
     "text": [
      "Feature for (MD661,240,(6417,1022)) is not in pool. Re-compute.\n",
      "Feature for (MD661,240,(6417,1087)) is not in pool. Re-compute.\n",
      "Feature for (MD661,240,(6482,1022)) is not in pool. Re-compute.\n",
      "Feature for (MD661,240,(6482,1087)) is not in pool. Re-compute.\n",
      "Feature for (MD661,240,(6547,957)) is not in pool. Re-compute.\n",
      "Feature for (MD661,240,(6547,1022)) is not in pool. Re-compute.\n",
      "Feature for (MD661,240,(6547,1087)) is not in pool. Re-compute.\n",
      "Feature for (MD661,240,(6612,957)) is not in pool. Re-compute.\n",
      "Feature for (MD661,240,(6612,1022)) is not in pool. Re-compute.\n",
      "Feature for (MD661,240,(6612,1087)) is not in pool. Re-compute.\n",
      "Feature for (MD661,240,(6677,892)) is not in pool. Re-compute.\n",
      "Feature for (MD661,240,(6677,957)) is not in pool. Re-compute.\n",
      "Feature for (MD661,240,(6677,1022)) is not in pool. Re-compute.\n",
      "Feature for (MD661,240,(6677,1087)) is not in pool. Re-compute.\n",
      "Feature for (MD661,240,(6742,892)) is not in pool. Re-compute.\n",
      "Feature for (MD661,240,(6742,957)) is not in pool. Re-compute.\n",
      "Feature for (MD661,240,(6742,1022)) is not in pool. Re-compute.\n",
      "Feature for (MD661,240,(6807,892)) is not in pool. Re-compute.\n",
      "Feature for (MD661,240,(6807,957)) is not in pool. Re-compute.\n",
      "Not using image_cache.\n",
      "Load image: 17.07 seconds.\n",
      "Extract patches: 17.19 seconds\n"
     ]
    },
    {
     "name": "stdout",
     "output_type": "stream",
     "text": [
      "(256, 1, 224, 224)\n"
     ]
    },
    {
     "name": "stderr",
     "output_type": "stream",
     "text": [
      "Compute features: 0.40 seconds\n"
     ]
    },
    {
     "name": "stdout",
     "output_type": "stream",
     "text": [
      "('MD661', 171)\n",
      "('MD662', 160)\n",
      "('MD662', 277)\n"
     ]
    },
    {
     "name": "stderr",
     "output_type": "stream",
     "text": [
      "Feature for (MD662,277,(4727,1672)) is not in pool. Re-compute.\n",
      "Feature for (MD662,277,(4792,1672)) is not in pool. Re-compute.\n",
      "Feature for (MD662,277,(4792,1737)) is not in pool. Re-compute.\n",
      "Feature for (MD662,277,(4857,1672)) is not in pool. Re-compute.\n",
      "Feature for (MD662,277,(4857,1737)) is not in pool. Re-compute.\n",
      "Feature for (MD662,277,(4857,1802)) is not in pool. Re-compute.\n",
      "Feature for (MD662,277,(4922,1672)) is not in pool. Re-compute.\n",
      "Feature for (MD662,277,(4922,1737)) is not in pool. Re-compute.\n",
      "Feature for (MD662,277,(4987,1672)) is not in pool. Re-compute.\n",
      "Not using image_cache.\n",
      "Load image: 16.57 seconds.\n",
      "Extract patches: 16.66 seconds\n"
     ]
    },
    {
     "name": "stdout",
     "output_type": "stream",
     "text": [
      "(256, 1, 224, 224)\n"
     ]
    },
    {
     "name": "stderr",
     "output_type": "stream",
     "text": [
      "Compute features: 0.38 seconds\n"
     ]
    },
    {
     "name": "stdout",
     "output_type": "stream",
     "text": [
      "('MD661', 275)\n"
     ]
    },
    {
     "name": "stderr",
     "output_type": "stream",
     "text": [
      "Feature for (MD661,275,(5832,1347)) is not in pool. Re-compute.\n",
      "Feature for (MD661,275,(5832,1412)) is not in pool. Re-compute.\n",
      "Feature for (MD661,275,(5832,1477)) is not in pool. Re-compute.\n",
      "Feature for (MD661,275,(5897,1087)) is not in pool. Re-compute.\n",
      "Feature for (MD661,275,(5897,1152)) is not in pool. Re-compute.\n",
      "Feature for (MD661,275,(5897,1217)) is not in pool. Re-compute.\n",
      "Feature for (MD661,275,(5897,1282)) is not in pool. Re-compute.\n",
      "Feature for (MD661,275,(5897,1347)) is not in pool. Re-compute.\n",
      "Feature for (MD661,275,(5962,1022)) is not in pool. Re-compute.\n",
      "Feature for (MD661,275,(5962,1087)) is not in pool. Re-compute.\n",
      "Feature for (MD661,275,(5962,1152)) is not in pool. Re-compute.\n",
      "Feature for (MD661,275,(5962,1217)) is not in pool. Re-compute.\n",
      "Feature for (MD661,275,(5962,1282)) is not in pool. Re-compute.\n",
      "Feature for (MD661,275,(6027,957)) is not in pool. Re-compute.\n",
      "Feature for (MD661,275,(6027,1022)) is not in pool. Re-compute.\n",
      "Feature for (MD661,275,(6027,1087)) is not in pool. Re-compute.\n",
      "Feature for (MD661,275,(6027,1152)) is not in pool. Re-compute.\n",
      "Feature for (MD661,275,(6027,1217)) is not in pool. Re-compute.\n",
      "Feature for (MD661,275,(6027,1282)) is not in pool. Re-compute.\n",
      "Feature for (MD661,275,(6092,827)) is not in pool. Re-compute.\n",
      "Feature for (MD661,275,(6092,892)) is not in pool. Re-compute.\n",
      "Feature for (MD661,275,(6092,957)) is not in pool. Re-compute.\n",
      "Feature for (MD661,275,(6092,1022)) is not in pool. Re-compute.\n",
      "Feature for (MD661,275,(6092,1087)) is not in pool. Re-compute.\n",
      "Feature for (MD661,275,(6092,1152)) is not in pool. Re-compute.\n",
      "Feature for (MD661,275,(6092,1217)) is not in pool. Re-compute.\n",
      "Feature for (MD661,275,(6157,762)) is not in pool. Re-compute.\n",
      "Feature for (MD661,275,(6157,827)) is not in pool. Re-compute.\n",
      "Feature for (MD661,275,(6157,892)) is not in pool. Re-compute.\n",
      "Feature for (MD661,275,(6157,957)) is not in pool. Re-compute.\n",
      "Feature for (MD661,275,(6157,1022)) is not in pool. Re-compute.\n",
      "Feature for (MD661,275,(6157,1087)) is not in pool. Re-compute.\n",
      "Feature for (MD661,275,(6157,1152)) is not in pool. Re-compute.\n",
      "Feature for (MD661,275,(6222,762)) is not in pool. Re-compute.\n",
      "Feature for (MD661,275,(6222,827)) is not in pool. Re-compute.\n",
      "Feature for (MD661,275,(6222,892)) is not in pool. Re-compute.\n",
      "Feature for (MD661,275,(6222,957)) is not in pool. Re-compute.\n",
      "Feature for (MD661,275,(6222,1022)) is not in pool. Re-compute.\n",
      "Feature for (MD661,275,(6222,1087)) is not in pool. Re-compute.\n",
      "Feature for (MD661,275,(6287,697)) is not in pool. Re-compute.\n",
      "Feature for (MD661,275,(6287,762)) is not in pool. Re-compute.\n",
      "Feature for (MD661,275,(6287,827)) is not in pool. Re-compute.\n",
      "Feature for (MD661,275,(6287,892)) is not in pool. Re-compute.\n",
      "Feature for (MD661,275,(6287,957)) is not in pool. Re-compute.\n",
      "Feature for (MD661,275,(6287,1022)) is not in pool. Re-compute.\n",
      "Feature for (MD661,275,(6287,1087)) is not in pool. Re-compute.\n",
      "Feature for (MD661,275,(6352,762)) is not in pool. Re-compute.\n",
      "Feature for (MD661,275,(6352,827)) is not in pool. Re-compute.\n",
      "Feature for (MD661,275,(6352,892)) is not in pool. Re-compute.\n",
      "Feature for (MD661,275,(6352,957)) is not in pool. Re-compute.\n",
      "Feature for (MD661,275,(6417,762)) is not in pool. Re-compute.\n",
      "Feature for (MD661,275,(6417,827)) is not in pool. Re-compute.\n",
      "Feature for (MD661,275,(6417,892)) is not in pool. Re-compute.\n",
      "Feature for (MD661,275,(6482,762)) is not in pool. Re-compute.\n",
      "Feature for (MD661,275,(6482,827)) is not in pool. Re-compute.\n",
      "Feature for (MD661,275,(6547,827)) is not in pool. Re-compute.\n",
      "Feature for (MD661,275,(6612,827)) is not in pool. Re-compute.\n",
      "Not using image_cache.\n",
      "Load image: 18.59 seconds.\n",
      "Extract patches: 18.74 seconds\n"
     ]
    },
    {
     "name": "stdout",
     "output_type": "stream",
     "text": [
      "(256, 1, 224, 224)\n"
     ]
    },
    {
     "name": "stderr",
     "output_type": "stream",
     "text": [
      "Compute features: 0.37 seconds\n"
     ]
    },
    {
     "name": "stdout",
     "output_type": "stream",
     "text": [
      "('MD662', 179)\n"
     ]
    },
    {
     "name": "stderr",
     "output_type": "stream",
     "text": [
      "Feature for (MD662,179,(5117,1802)) is not in pool. Re-compute.\n",
      "Feature for (MD662,179,(5117,1867)) is not in pool. Re-compute.\n",
      "Feature for (MD662,179,(5117,1932)) is not in pool. Re-compute.\n",
      "Feature for (MD662,179,(5117,1997)) is not in pool. Re-compute.\n",
      "Feature for (MD662,179,(5117,2062)) is not in pool. Re-compute.\n",
      "Feature for (MD662,179,(5117,2127)) is not in pool. Re-compute.\n",
      "Feature for (MD662,179,(5117,2192)) is not in pool. Re-compute.\n",
      "Feature for (MD662,179,(5117,2257)) is not in pool. Re-compute.\n",
      "Feature for (MD662,179,(5182,1672)) is not in pool. Re-compute.\n",
      "Feature for (MD662,179,(5182,1737)) is not in pool. Re-compute.\n",
      "Feature for (MD662,179,(5182,1802)) is not in pool. Re-compute.\n",
      "Feature for (MD662,179,(5182,1867)) is not in pool. Re-compute.\n",
      "Feature for (MD662,179,(5182,1932)) is not in pool. Re-compute.\n",
      "Feature for (MD662,179,(5182,1997)) is not in pool. Re-compute.\n",
      "Feature for (MD662,179,(5182,2062)) is not in pool. Re-compute.\n",
      "Feature for (MD662,179,(5182,2127)) is not in pool. Re-compute.\n",
      "Feature for (MD662,179,(5182,2192)) is not in pool. Re-compute.\n",
      "Feature for (MD662,179,(5247,1607)) is not in pool. Re-compute.\n",
      "Feature for (MD662,179,(5247,1672)) is not in pool. Re-compute.\n",
      "Feature for (MD662,179,(5247,1737)) is not in pool. Re-compute.\n",
      "Feature for (MD662,179,(5247,1802)) is not in pool. Re-compute.\n",
      "Feature for (MD662,179,(5247,1867)) is not in pool. Re-compute.\n",
      "Feature for (MD662,179,(5247,1932)) is not in pool. Re-compute.\n",
      "Feature for (MD662,179,(5247,1997)) is not in pool. Re-compute.\n",
      "Feature for (MD662,179,(5247,2062)) is not in pool. Re-compute.\n",
      "Feature for (MD662,179,(5312,1672)) is not in pool. Re-compute.\n",
      "Feature for (MD662,179,(5312,1737)) is not in pool. Re-compute.\n",
      "Feature for (MD662,179,(5312,1802)) is not in pool. Re-compute.\n",
      "Feature for (MD662,179,(5312,1867)) is not in pool. Re-compute.\n",
      "Feature for (MD662,179,(5312,1932)) is not in pool. Re-compute.\n",
      "Feature for (MD662,179,(5312,1997)) is not in pool. Re-compute.\n",
      "Feature for (MD662,179,(5377,1672)) is not in pool. Re-compute.\n",
      "Feature for (MD662,179,(5377,1737)) is not in pool. Re-compute.\n",
      "Feature for (MD662,179,(5377,1802)) is not in pool. Re-compute.\n",
      "Feature for (MD662,179,(5377,1867)) is not in pool. Re-compute.\n",
      "Feature for (MD662,179,(5442,1672)) is not in pool. Re-compute.\n",
      "Feature for (MD662,179,(5442,1737)) is not in pool. Re-compute.\n",
      "Feature for (MD662,179,(5442,1802)) is not in pool. Re-compute.\n",
      "Feature for (MD662,179,(5507,1672)) is not in pool. Re-compute.\n",
      "Feature for (MD662,179,(5507,1737)) is not in pool. Re-compute.\n",
      "Feature for (MD662,179,(5572,1672)) is not in pool. Re-compute.\n",
      "Feature for (MD662,179,(5572,1737)) is not in pool. Re-compute.\n",
      "Feature for (MD662,179,(5637,1672)) is not in pool. Re-compute.\n",
      "Not using image_cache.\n",
      "Load image: 15.10 seconds.\n",
      "Extract patches: 15.23 seconds\n"
     ]
    },
    {
     "name": "stdout",
     "output_type": "stream",
     "text": [
      "(256, 1, 224, 224)\n"
     ]
    },
    {
     "name": "stderr",
     "output_type": "stream",
     "text": [
      "Compute features: 0.39 seconds\n"
     ]
    },
    {
     "name": "stdout",
     "output_type": "stream",
     "text": [
      "('MD662', 170)\n"
     ]
    },
    {
     "name": "stderr",
     "output_type": "stream",
     "text": [
      "Feature for (MD662,170,(5117,2127)) is not in pool. Re-compute.\n",
      "Feature for (MD662,170,(5117,2192)) is not in pool. Re-compute.\n",
      "Feature for (MD662,170,(5182,1867)) is not in pool. Re-compute.\n",
      "Feature for (MD662,170,(5182,1932)) is not in pool. Re-compute.\n",
      "Feature for (MD662,170,(5182,1997)) is not in pool. Re-compute.\n",
      "Feature for (MD662,170,(5182,2062)) is not in pool. Re-compute.\n",
      "Feature for (MD662,170,(5182,2127)) is not in pool. Re-compute.\n",
      "Feature for (MD662,170,(5182,2192)) is not in pool. Re-compute.\n",
      "Feature for (MD662,170,(5182,2257)) is not in pool. Re-compute.\n",
      "Feature for (MD662,170,(5247,1932)) is not in pool. Re-compute.\n",
      "Feature for (MD662,170,(5247,1997)) is not in pool. Re-compute.\n",
      "Feature for (MD662,170,(5247,2062)) is not in pool. Re-compute.\n",
      "Feature for (MD662,170,(5247,2127)) is not in pool. Re-compute.\n",
      "Feature for (MD662,170,(5247,2192)) is not in pool. Re-compute.\n",
      "Feature for (MD662,170,(5312,1932)) is not in pool. Re-compute.\n",
      "Feature for (MD662,170,(5312,1997)) is not in pool. Re-compute.\n",
      "Feature for (MD662,170,(5312,2062)) is not in pool. Re-compute.\n",
      "Feature for (MD662,170,(5377,1932)) is not in pool. Re-compute.\n",
      "Feature for (MD662,170,(5377,1997)) is not in pool. Re-compute.\n",
      "Feature for (MD662,170,(5442,1932)) is not in pool. Re-compute.\n",
      "Not using image_cache.\n",
      "Load image: 14.37 seconds.\n",
      "Extract patches: 14.48 seconds\n"
     ]
    },
    {
     "name": "stdout",
     "output_type": "stream",
     "text": [
      "(256, 1, 224, 224)\n"
     ]
    },
    {
     "name": "stderr",
     "output_type": "stream",
     "text": [
      "Compute features: 0.38 seconds\n"
     ]
    },
    {
     "name": "stdout",
     "output_type": "stream",
     "text": [
      "('MD661', 154)\n",
      "('MD662', 280)\n"
     ]
    },
    {
     "name": "stderr",
     "output_type": "stream",
     "text": [
      "Feature for (MD662,280,(4922,1802)) is not in pool. Re-compute.\n",
      "Not using image_cache.\n",
      "Load image: 16.34 seconds.\n",
      "Extract patches: 16.43 seconds\n"
     ]
    },
    {
     "name": "stdout",
     "output_type": "stream",
     "text": [
      "(256, 1, 224, 224)\n"
     ]
    },
    {
     "name": "stderr",
     "output_type": "stream",
     "text": [
      "Compute features: 0.37 seconds\n"
     ]
    },
    {
     "name": "stdout",
     "output_type": "stream",
     "text": [
      "('MD661', 256)\n"
     ]
    },
    {
     "name": "stderr",
     "output_type": "stream",
     "text": [
      "Feature for (MD661,256,(6027,1022)) is not in pool. Re-compute.\n",
      "Feature for (MD661,256,(6027,1087)) is not in pool. Re-compute.\n",
      "Feature for (MD661,256,(6092,957)) is not in pool. Re-compute.\n",
      "Feature for (MD661,256,(6092,1022)) is not in pool. Re-compute.\n",
      "Feature for (MD661,256,(6092,1087)) is not in pool. Re-compute.\n",
      "Feature for (MD661,256,(6157,892)) is not in pool. Re-compute.\n",
      "Feature for (MD661,256,(6157,957)) is not in pool. Re-compute.\n",
      "Feature for (MD661,256,(6157,1022)) is not in pool. Re-compute.\n",
      "Feature for (MD661,256,(6157,1087)) is not in pool. Re-compute.\n",
      "Feature for (MD661,256,(6222,827)) is not in pool. Re-compute.\n",
      "Feature for (MD661,256,(6222,892)) is not in pool. Re-compute.\n",
      "Feature for (MD661,256,(6222,957)) is not in pool. Re-compute.\n",
      "Feature for (MD661,256,(6222,1022)) is not in pool. Re-compute.\n",
      "Feature for (MD661,256,(6222,1087)) is not in pool. Re-compute.\n",
      "Feature for (MD661,256,(6287,827)) is not in pool. Re-compute.\n",
      "Feature for (MD661,256,(6287,892)) is not in pool. Re-compute.\n",
      "Feature for (MD661,256,(6352,762)) is not in pool. Re-compute.\n",
      "Feature for (MD661,256,(6352,827)) is not in pool. Re-compute.\n",
      "Feature for (MD661,256,(6352,892)) is not in pool. Re-compute.\n",
      "Feature for (MD661,256,(6417,697)) is not in pool. Re-compute.\n",
      "Feature for (MD661,256,(6417,762)) is not in pool. Re-compute.\n",
      "Feature for (MD661,256,(6417,827)) is not in pool. Re-compute.\n",
      "Feature for (MD661,256,(6417,892)) is not in pool. Re-compute.\n",
      "Feature for (MD661,256,(6482,632)) is not in pool. Re-compute.\n",
      "Feature for (MD661,256,(6482,697)) is not in pool. Re-compute.\n",
      "Feature for (MD661,256,(6482,762)) is not in pool. Re-compute.\n",
      "Feature for (MD661,256,(6482,827)) is not in pool. Re-compute.\n",
      "Feature for (MD661,256,(6482,892)) is not in pool. Re-compute.\n",
      "Feature for (MD661,256,(6547,632)) is not in pool. Re-compute.\n",
      "Feature for (MD661,256,(6547,697)) is not in pool. Re-compute.\n",
      "Feature for (MD661,256,(6547,762)) is not in pool. Re-compute.\n",
      "Feature for (MD661,256,(6547,957)) is not in pool. Re-compute.\n",
      "Feature for (MD661,256,(6612,632)) is not in pool. Re-compute.\n",
      "Feature for (MD661,256,(6612,697)) is not in pool. Re-compute.\n",
      "Feature for (MD661,256,(6612,762)) is not in pool. Re-compute.\n",
      "Feature for (MD661,256,(6612,892)) is not in pool. Re-compute.\n",
      "Feature for (MD661,256,(6612,957)) is not in pool. Re-compute.\n",
      "Feature for (MD661,256,(6612,1022)) is not in pool. Re-compute.\n",
      "Feature for (MD661,256,(6677,632)) is not in pool. Re-compute.\n",
      "Feature for (MD661,256,(6677,697)) is not in pool. Re-compute.\n",
      "Feature for (MD661,256,(6677,762)) is not in pool. Re-compute.\n",
      "Feature for (MD661,256,(6677,827)) is not in pool. Re-compute.\n",
      "Feature for (MD661,256,(6677,892)) is not in pool. Re-compute.\n",
      "Feature for (MD661,256,(6677,957)) is not in pool. Re-compute.\n",
      "Feature for (MD661,256,(6677,1022)) is not in pool. Re-compute.\n",
      "Feature for (MD661,256,(6742,567)) is not in pool. Re-compute.\n",
      "Feature for (MD661,256,(6742,632)) is not in pool. Re-compute.\n",
      "Feature for (MD661,256,(6742,697)) is not in pool. Re-compute.\n",
      "Feature for (MD661,256,(6742,762)) is not in pool. Re-compute.\n",
      "Feature for (MD661,256,(6742,827)) is not in pool. Re-compute.\n",
      "Feature for (MD661,256,(6742,892)) is not in pool. Re-compute.\n",
      "Feature for (MD661,256,(6742,957)) is not in pool. Re-compute.\n",
      "Feature for (MD661,256,(6807,632)) is not in pool. Re-compute.\n",
      "Feature for (MD661,256,(6807,697)) is not in pool. Re-compute.\n",
      "Feature for (MD661,256,(6807,762)) is not in pool. Re-compute.\n",
      "Feature for (MD661,256,(6807,827)) is not in pool. Re-compute.\n",
      "Feature for (MD661,256,(6807,892)) is not in pool. Re-compute.\n",
      "Feature for (MD661,256,(6807,957)) is not in pool. Re-compute.\n",
      "Feature for (MD661,256,(6872,697)) is not in pool. Re-compute.\n",
      "Feature for (MD661,256,(6872,762)) is not in pool. Re-compute.\n",
      "Feature for (MD661,256,(6872,827)) is not in pool. Re-compute.\n",
      "Feature for (MD661,256,(6872,892)) is not in pool. Re-compute.\n",
      "Feature for (MD661,256,(6872,957)) is not in pool. Re-compute.\n",
      "Feature for (MD661,256,(6937,762)) is not in pool. Re-compute.\n",
      "Feature for (MD661,256,(6937,827)) is not in pool. Re-compute.\n",
      "Feature for (MD661,256,(6937,892)) is not in pool. Re-compute.\n",
      "Feature for (MD661,256,(7002,892)) is not in pool. Re-compute.\n",
      "Feature for (MD661,256,(7067,892)) is not in pool. Re-compute.\n",
      "Not using image_cache.\n",
      "Load image: 18.14 seconds.\n",
      "Extract patches: 18.31 seconds\n"
     ]
    },
    {
     "name": "stdout",
     "output_type": "stream",
     "text": [
      "(256, 1, 224, 224)\n"
     ]
    },
    {
     "name": "stderr",
     "output_type": "stream",
     "text": [
      "Compute features: 0.40 seconds\n"
     ]
    },
    {
     "name": "stdout",
     "output_type": "stream",
     "text": [
      "('MD662', 228)\n"
     ]
    },
    {
     "name": "stderr",
     "output_type": "stream",
     "text": [
      "Feature for (MD662,228,(5312,1802)) is not in pool. Re-compute.\n",
      "Feature for (MD662,228,(5377,1672)) is not in pool. Re-compute.\n",
      "Feature for (MD662,228,(5377,1737)) is not in pool. Re-compute.\n",
      "Feature for (MD662,228,(5377,1802)) is not in pool. Re-compute.\n",
      "Feature for (MD662,228,(5442,1607)) is not in pool. Re-compute.\n",
      "Feature for (MD662,228,(5442,1672)) is not in pool. Re-compute.\n",
      "Feature for (MD662,228,(5442,1737)) is not in pool. Re-compute.\n",
      "Feature for (MD662,228,(5507,1607)) is not in pool. Re-compute.\n",
      "Feature for (MD662,228,(5507,1672)) is not in pool. Re-compute.\n",
      "Feature for (MD662,228,(5507,1737)) is not in pool. Re-compute.\n",
      "Feature for (MD662,228,(5572,1542)) is not in pool. Re-compute.\n",
      "Feature for (MD662,228,(5572,1607)) is not in pool. Re-compute.\n",
      "Feature for (MD662,228,(5572,1672)) is not in pool. Re-compute.\n",
      "Feature for (MD662,228,(5637,1542)) is not in pool. Re-compute.\n",
      "Feature for (MD662,228,(5637,1607)) is not in pool. Re-compute.\n",
      "Not using image_cache.\n",
      "Load image: 16.88 seconds.\n",
      "Extract patches: 16.98 seconds\n"
     ]
    },
    {
     "name": "stdout",
     "output_type": "stream",
     "text": [
      "(256, 1, 224, 224)\n"
     ]
    },
    {
     "name": "stderr",
     "output_type": "stream",
     "text": [
      "Compute features: 0.37 seconds\n"
     ]
    },
    {
     "name": "stdout",
     "output_type": "stream",
     "text": [
      "('MD661', 220)\n"
     ]
    },
    {
     "name": "stderr",
     "output_type": "stream",
     "text": [
      "Feature for (MD661,220,(6222,762)) is not in pool. Re-compute.\n",
      "Feature for (MD661,220,(6222,827)) is not in pool. Re-compute.\n",
      "Feature for (MD661,220,(6287,762)) is not in pool. Re-compute.\n",
      "Feature for (MD661,220,(6287,827)) is not in pool. Re-compute.\n",
      "Feature for (MD661,220,(6352,697)) is not in pool. Re-compute.\n",
      "Feature for (MD661,220,(6352,762)) is not in pool. Re-compute.\n",
      "Feature for (MD661,220,(6352,827)) is not in pool. Re-compute.\n",
      "Feature for (MD661,220,(6417,632)) is not in pool. Re-compute.\n",
      "Feature for (MD661,220,(6417,697)) is not in pool. Re-compute.\n",
      "Feature for (MD661,220,(6417,762)) is not in pool. Re-compute.\n",
      "Feature for (MD661,220,(6417,827)) is not in pool. Re-compute.\n",
      "Feature for (MD661,220,(6482,567)) is not in pool. Re-compute.\n",
      "Feature for (MD661,220,(6482,632)) is not in pool. Re-compute.\n",
      "Feature for (MD661,220,(6482,697)) is not in pool. Re-compute.\n",
      "Feature for (MD661,220,(6482,762)) is not in pool. Re-compute.\n",
      "Feature for (MD661,220,(6547,502)) is not in pool. Re-compute.\n",
      "Feature for (MD661,220,(6547,567)) is not in pool. Re-compute.\n",
      "Feature for (MD661,220,(6547,632)) is not in pool. Re-compute.\n",
      "Feature for (MD661,220,(6547,697)) is not in pool. Re-compute.\n",
      "Feature for (MD661,220,(6547,762)) is not in pool. Re-compute.\n",
      "Feature for (MD661,220,(6612,437)) is not in pool. Re-compute.\n",
      "Feature for (MD661,220,(6612,502)) is not in pool. Re-compute.\n",
      "Feature for (MD661,220,(6612,567)) is not in pool. Re-compute.\n",
      "Feature for (MD661,220,(6612,632)) is not in pool. Re-compute.\n",
      "Feature for (MD661,220,(6612,697)) is not in pool. Re-compute.\n",
      "Feature for (MD661,220,(6612,762)) is not in pool. Re-compute.\n",
      "Feature for (MD661,220,(6677,437)) is not in pool. Re-compute.\n",
      "Feature for (MD661,220,(6677,502)) is not in pool. Re-compute.\n",
      "Feature for (MD661,220,(6677,567)) is not in pool. Re-compute.\n",
      "Feature for (MD661,220,(6677,632)) is not in pool. Re-compute.\n",
      "Feature for (MD661,220,(6742,502)) is not in pool. Re-compute.\n",
      "Feature for (MD661,220,(6742,567)) is not in pool. Re-compute.\n",
      "Feature for (MD661,220,(6807,502)) is not in pool. Re-compute.\n",
      "Feature for (MD661,220,(6807,567)) is not in pool. Re-compute.\n",
      "Feature for (MD661,220,(6807,632)) is not in pool. Re-compute.\n",
      "Feature for (MD661,220,(6807,697)) is not in pool. Re-compute.\n",
      "Feature for (MD661,220,(6872,567)) is not in pool. Re-compute.\n",
      "Feature for (MD661,220,(6872,632)) is not in pool. Re-compute.\n",
      "Feature for (MD661,220,(6872,697)) is not in pool. Re-compute.\n",
      "Feature for (MD661,220,(6937,632)) is not in pool. Re-compute.\n",
      "Feature for (MD661,220,(6937,697)) is not in pool. Re-compute.\n",
      "Not using image_cache.\n",
      "Load image: 18.99 seconds.\n",
      "Extract patches: 19.13 seconds\n"
     ]
    },
    {
     "name": "stdout",
     "output_type": "stream",
     "text": [
      "(256, 1, 224, 224)\n"
     ]
    },
    {
     "name": "stderr",
     "output_type": "stream",
     "text": [
      "Compute features: 0.38 seconds\n"
     ]
    },
    {
     "name": "stdout",
     "output_type": "stream",
     "text": [
      "('MD662', 271)\n"
     ]
    },
    {
     "name": "stderr",
     "output_type": "stream",
     "text": [
      "Feature for (MD662,271,(4727,1737)) is not in pool. Re-compute.\n",
      "Feature for (MD662,271,(4727,1802)) is not in pool. Re-compute.\n",
      "Feature for (MD662,271,(4727,1867)) is not in pool. Re-compute.\n",
      "Feature for (MD662,271,(4727,1932)) is not in pool. Re-compute.\n",
      "Feature for (MD662,271,(4727,1997)) is not in pool. Re-compute.\n",
      "Feature for (MD662,271,(4792,1542)) is not in pool. Re-compute.\n",
      "Feature for (MD662,271,(4792,1607)) is not in pool. Re-compute.\n",
      "Feature for (MD662,271,(4792,1672)) is not in pool. Re-compute.\n",
      "Feature for (MD662,271,(4792,1737)) is not in pool. Re-compute.\n",
      "Feature for (MD662,271,(4792,1802)) is not in pool. Re-compute.\n",
      "Feature for (MD662,271,(4792,1867)) is not in pool. Re-compute.\n",
      "Feature for (MD662,271,(4857,1542)) is not in pool. Re-compute.\n",
      "Feature for (MD662,271,(4857,1607)) is not in pool. Re-compute.\n",
      "Feature for (MD662,271,(4857,1672)) is not in pool. Re-compute.\n",
      "Feature for (MD662,271,(4857,1737)) is not in pool. Re-compute.\n",
      "Feature for (MD662,271,(4857,1802)) is not in pool. Re-compute.\n",
      "Feature for (MD662,271,(4922,1542)) is not in pool. Re-compute.\n",
      "Feature for (MD662,271,(4922,1607)) is not in pool. Re-compute.\n",
      "Feature for (MD662,271,(4922,1672)) is not in pool. Re-compute.\n",
      "Feature for (MD662,271,(4987,1542)) is not in pool. Re-compute.\n",
      "Feature for (MD662,271,(4987,1607)) is not in pool. Re-compute.\n",
      "Feature for (MD662,271,(5052,1542)) is not in pool. Re-compute.\n",
      "Not using image_cache.\n",
      "Load image: 17.11 seconds.\n",
      "Extract patches: 17.21 seconds\n"
     ]
    },
    {
     "name": "stdout",
     "output_type": "stream",
     "text": [
      "(256, 1, 224, 224)\n"
     ]
    },
    {
     "name": "stderr",
     "output_type": "stream",
     "text": [
      "Compute features: 0.39 seconds\n"
     ]
    },
    {
     "name": "stdout",
     "output_type": "stream",
     "text": [
      "('MD661', 201)\n"
     ]
    },
    {
     "name": "stderr",
     "output_type": "stream",
     "text": [
      "Feature for (MD661,201,(6092,632)) is not in pool. Re-compute.\n",
      "Feature for (MD661,201,(6092,697)) is not in pool. Re-compute.\n",
      "Feature for (MD661,201,(6092,762)) is not in pool. Re-compute.\n",
      "Feature for (MD661,201,(6092,827)) is not in pool. Re-compute.\n",
      "Feature for (MD661,201,(6092,892)) is not in pool. Re-compute.\n",
      "Feature for (MD661,201,(6157,567)) is not in pool. Re-compute.\n",
      "Feature for (MD661,201,(6157,632)) is not in pool. Re-compute.\n",
      "Feature for (MD661,201,(6157,697)) is not in pool. Re-compute.\n",
      "Feature for (MD661,201,(6157,762)) is not in pool. Re-compute.\n",
      "Feature for (MD661,201,(6157,827)) is not in pool. Re-compute.\n",
      "Feature for (MD661,201,(6157,892)) is not in pool. Re-compute.\n",
      "Feature for (MD661,201,(6222,437)) is not in pool. Re-compute.\n",
      "Feature for (MD661,201,(6222,502)) is not in pool. Re-compute.\n",
      "Feature for (MD661,201,(6222,567)) is not in pool. Re-compute.\n",
      "Feature for (MD661,201,(6222,632)) is not in pool. Re-compute.\n",
      "Feature for (MD661,201,(6222,697)) is not in pool. Re-compute.\n",
      "Feature for (MD661,201,(6222,762)) is not in pool. Re-compute.\n",
      "Feature for (MD661,201,(6222,827)) is not in pool. Re-compute.\n",
      "Feature for (MD661,201,(6287,437)) is not in pool. Re-compute.\n",
      "Feature for (MD661,201,(6287,502)) is not in pool. Re-compute.\n",
      "Feature for (MD661,201,(6287,567)) is not in pool. Re-compute.\n",
      "Feature for (MD661,201,(6287,632)) is not in pool. Re-compute.\n",
      "Feature for (MD661,201,(6287,697)) is not in pool. Re-compute.\n",
      "Feature for (MD661,201,(6352,372)) is not in pool. Re-compute.\n",
      "Feature for (MD661,201,(6352,437)) is not in pool. Re-compute.\n",
      "Feature for (MD661,201,(6352,502)) is not in pool. Re-compute.\n",
      "Feature for (MD661,201,(6352,567)) is not in pool. Re-compute.\n",
      "Feature for (MD661,201,(6352,632)) is not in pool. Re-compute.\n",
      "Feature for (MD661,201,(6417,437)) is not in pool. Re-compute.\n",
      "Feature for (MD661,201,(6417,502)) is not in pool. Re-compute.\n",
      "Feature for (MD661,201,(6417,567)) is not in pool. Re-compute.\n",
      "Feature for (MD661,201,(6417,632)) is not in pool. Re-compute.\n",
      "Feature for (MD661,201,(6482,437)) is not in pool. Re-compute.\n",
      "Feature for (MD661,201,(6482,502)) is not in pool. Re-compute.\n",
      "Feature for (MD661,201,(6482,567)) is not in pool. Re-compute.\n",
      "Feature for (MD661,201,(6482,632)) is not in pool. Re-compute.\n",
      "Feature for (MD661,201,(6482,697)) is not in pool. Re-compute.\n",
      "Feature for (MD661,201,(6547,502)) is not in pool. Re-compute.\n",
      "Feature for (MD661,201,(6547,567)) is not in pool. Re-compute.\n",
      "Feature for (MD661,201,(6547,632)) is not in pool. Re-compute.\n",
      "Feature for (MD661,201,(6612,502)) is not in pool. Re-compute.\n",
      "Feature for (MD661,201,(6612,567)) is not in pool. Re-compute.\n",
      "Feature for (MD661,201,(6612,632)) is not in pool. Re-compute.\n",
      "Feature for (MD661,201,(6677,502)) is not in pool. Re-compute.\n",
      "Feature for (MD661,201,(6677,567)) is not in pool. Re-compute.\n",
      "Feature for (MD661,201,(6677,632)) is not in pool. Re-compute.\n",
      "Not using image_cache.\n",
      "Load image: 17.98 seconds.\n",
      "Extract patches: 18.12 seconds\n"
     ]
    },
    {
     "name": "stdout",
     "output_type": "stream",
     "text": [
      "(256, 1, 224, 224)\n"
     ]
    },
    {
     "name": "stderr",
     "output_type": "stream",
     "text": [
      "Compute features: 0.38 seconds\n"
     ]
    },
    {
     "name": "stdout",
     "output_type": "stream",
     "text": [
      "('MD661', 298)\n",
      "('MD662', 172)\n"
     ]
    },
    {
     "name": "stderr",
     "output_type": "stream",
     "text": [
      "Feature for (MD662,172,(5117,1997)) is not in pool. Re-compute.\n",
      "Feature for (MD662,172,(5117,2062)) is not in pool. Re-compute.\n",
      "Feature for (MD662,172,(5117,2127)) is not in pool. Re-compute.\n",
      "Feature for (MD662,172,(5117,2192)) is not in pool. Re-compute.\n",
      "Feature for (MD662,172,(5117,2257)) is not in pool. Re-compute.\n",
      "Feature for (MD662,172,(5117,2322)) is not in pool. Re-compute.\n",
      "Feature for (MD662,172,(5117,2387)) is not in pool. Re-compute.\n",
      "Feature for (MD662,172,(5117,2452)) is not in pool. Re-compute.\n",
      "Feature for (MD662,172,(5182,1802)) is not in pool. Re-compute.\n",
      "Feature for (MD662,172,(5182,1867)) is not in pool. Re-compute.\n",
      "Feature for (MD662,172,(5182,1932)) is not in pool. Re-compute.\n",
      "Feature for (MD662,172,(5182,1997)) is not in pool. Re-compute.\n",
      "Feature for (MD662,172,(5182,2062)) is not in pool. Re-compute.\n",
      "Feature for (MD662,172,(5182,2127)) is not in pool. Re-compute.\n",
      "Feature for (MD662,172,(5182,2192)) is not in pool. Re-compute.\n",
      "Feature for (MD662,172,(5182,2257)) is not in pool. Re-compute.\n",
      "Feature for (MD662,172,(5182,2322)) is not in pool. Re-compute.\n",
      "Feature for (MD662,172,(5247,1802)) is not in pool. Re-compute.\n",
      "Feature for (MD662,172,(5247,1867)) is not in pool. Re-compute.\n",
      "Feature for (MD662,172,(5247,1932)) is not in pool. Re-compute.\n",
      "Feature for (MD662,172,(5247,1997)) is not in pool. Re-compute.\n",
      "Feature for (MD662,172,(5247,2062)) is not in pool. Re-compute.\n",
      "Feature for (MD662,172,(5247,2127)) is not in pool. Re-compute.\n",
      "Feature for (MD662,172,(5312,1867)) is not in pool. Re-compute.\n",
      "Feature for (MD662,172,(5312,1932)) is not in pool. Re-compute.\n",
      "Feature for (MD662,172,(5312,1997)) is not in pool. Re-compute.\n",
      "Feature for (MD662,172,(5312,2062)) is not in pool. Re-compute.\n",
      "Feature for (MD662,172,(5377,1867)) is not in pool. Re-compute.\n",
      "Feature for (MD662,172,(5377,1932)) is not in pool. Re-compute.\n",
      "Feature for (MD662,172,(5377,1997)) is not in pool. Re-compute.\n",
      "Feature for (MD662,172,(5442,1867)) is not in pool. Re-compute.\n",
      "Feature for (MD662,172,(5442,1932)) is not in pool. Re-compute.\n",
      "Feature for (MD662,172,(5507,1867)) is not in pool. Re-compute.\n",
      "Not using image_cache.\n",
      "Load image: 13.18 seconds.\n",
      "Extract patches: 13.30 seconds\n"
     ]
    },
    {
     "name": "stdout",
     "output_type": "stream",
     "text": [
      "(256, 1, 224, 224)\n"
     ]
    },
    {
     "name": "stderr",
     "output_type": "stream",
     "text": [
      "Compute features: 0.38 seconds\n"
     ]
    },
    {
     "name": "stdout",
     "output_type": "stream",
     "text": [
      "('MD661', 198)\n"
     ]
    },
    {
     "name": "stderr",
     "output_type": "stream",
     "text": [
      "Feature for (MD661,198,(6027,827)) is not in pool. Re-compute.\n",
      "Feature for (MD661,198,(6027,892)) is not in pool. Re-compute.\n",
      "Feature for (MD661,198,(6027,957)) is not in pool. Re-compute.\n",
      "Feature for (MD661,198,(6092,697)) is not in pool. Re-compute.\n",
      "Feature for (MD661,198,(6092,762)) is not in pool. Re-compute.\n",
      "Feature for (MD661,198,(6092,827)) is not in pool. Re-compute.\n",
      "Feature for (MD661,198,(6092,892)) is not in pool. Re-compute.\n",
      "Feature for (MD661,198,(6157,567)) is not in pool. Re-compute.\n",
      "Feature for (MD661,198,(6157,632)) is not in pool. Re-compute.\n",
      "Feature for (MD661,198,(6157,697)) is not in pool. Re-compute.\n",
      "Feature for (MD661,198,(6157,762)) is not in pool. Re-compute.\n",
      "Feature for (MD661,198,(6157,827)) is not in pool. Re-compute.\n",
      "Feature for (MD661,198,(6157,892)) is not in pool. Re-compute.\n",
      "Feature for (MD661,198,(6222,437)) is not in pool. Re-compute.\n",
      "Feature for (MD661,198,(6222,502)) is not in pool. Re-compute.\n",
      "Feature for (MD661,198,(6222,567)) is not in pool. Re-compute.\n",
      "Feature for (MD661,198,(6222,632)) is not in pool. Re-compute.\n",
      "Feature for (MD661,198,(6222,697)) is not in pool. Re-compute.\n",
      "Feature for (MD661,198,(6287,437)) is not in pool. Re-compute.\n",
      "Feature for (MD661,198,(6287,502)) is not in pool. Re-compute.\n",
      "Feature for (MD661,198,(6287,567)) is not in pool. Re-compute.\n",
      "Feature for (MD661,198,(6287,632)) is not in pool. Re-compute.\n",
      "Feature for (MD661,198,(6352,437)) is not in pool. Re-compute.\n",
      "Feature for (MD661,198,(6352,502)) is not in pool. Re-compute.\n",
      "Feature for (MD661,198,(6352,567)) is not in pool. Re-compute.\n",
      "Feature for (MD661,198,(6417,502)) is not in pool. Re-compute.\n",
      "Feature for (MD661,198,(6417,567)) is not in pool. Re-compute.\n",
      "Feature for (MD661,198,(6417,632)) is not in pool. Re-compute.\n",
      "Feature for (MD661,198,(6482,502)) is not in pool. Re-compute.\n",
      "Feature for (MD661,198,(6482,567)) is not in pool. Re-compute.\n",
      "Feature for (MD661,198,(6482,632)) is not in pool. Re-compute.\n",
      "Feature for (MD661,198,(6547,502)) is not in pool. Re-compute.\n",
      "Feature for (MD661,198,(6547,567)) is not in pool. Re-compute.\n",
      "Feature for (MD661,198,(6547,632)) is not in pool. Re-compute.\n",
      "Feature for (MD661,198,(6612,567)) is not in pool. Re-compute.\n",
      "Not using image_cache.\n",
      "Load image: 17.66 seconds.\n",
      "Extract patches: 17.79 seconds\n"
     ]
    },
    {
     "name": "stdout",
     "output_type": "stream",
     "text": [
      "(256, 1, 224, 224)\n"
     ]
    },
    {
     "name": "stderr",
     "output_type": "stream",
     "text": [
      "Compute features: 0.39 seconds\n"
     ]
    },
    {
     "name": "stdout",
     "output_type": "stream",
     "text": [
      "('MD662', 252)\n"
     ]
    },
    {
     "name": "stderr",
     "output_type": "stream",
     "text": [
      "Feature for (MD662,252,(4922,1477)) is not in pool. Re-compute.\n",
      "Feature for (MD662,252,(4922,1542)) is not in pool. Re-compute.\n",
      "Feature for (MD662,252,(4922,1607)) is not in pool. Re-compute.\n",
      "Feature for (MD662,252,(4922,1672)) is not in pool. Re-compute.\n",
      "Feature for (MD662,252,(4922,1737)) is not in pool. Re-compute.\n",
      "Feature for (MD662,252,(4987,1347)) is not in pool. Re-compute.\n",
      "Feature for (MD662,252,(4987,1412)) is not in pool. Re-compute.\n",
      "Feature for (MD662,252,(4987,1477)) is not in pool. Re-compute.\n",
      "Feature for (MD662,252,(4987,1542)) is not in pool. Re-compute.\n",
      "Feature for (MD662,252,(4987,1607)) is not in pool. Re-compute.\n",
      "Feature for (MD662,252,(5052,1282)) is not in pool. Re-compute.\n",
      "Feature for (MD662,252,(5052,1347)) is not in pool. Re-compute.\n",
      "Feature for (MD662,252,(5052,1412)) is not in pool. Re-compute.\n",
      "Feature for (MD662,252,(5052,1477)) is not in pool. Re-compute.\n",
      "Feature for (MD662,252,(5117,1282)) is not in pool. Re-compute.\n",
      "Feature for (MD662,252,(5117,1347)) is not in pool. Re-compute.\n",
      "Feature for (MD662,252,(5117,1412)) is not in pool. Re-compute.\n",
      "Feature for (MD662,252,(5182,1152)) is not in pool. Re-compute.\n",
      "Feature for (MD662,252,(5182,1217)) is not in pool. Re-compute.\n",
      "Feature for (MD662,252,(5182,1282)) is not in pool. Re-compute.\n",
      "Feature for (MD662,252,(5182,1347)) is not in pool. Re-compute.\n",
      "Feature for (MD662,252,(5182,1412)) is not in pool. Re-compute.\n",
      "Feature for (MD662,252,(5247,1152)) is not in pool. Re-compute.\n",
      "Feature for (MD662,252,(5247,1217)) is not in pool. Re-compute.\n",
      "Feature for (MD662,252,(5247,1282)) is not in pool. Re-compute.\n",
      "Feature for (MD662,252,(5247,1347)) is not in pool. Re-compute.\n",
      "Feature for (MD662,252,(5312,1152)) is not in pool. Re-compute.\n",
      "Feature for (MD662,252,(5312,1217)) is not in pool. Re-compute.\n",
      "Feature for (MD662,252,(5312,1282)) is not in pool. Re-compute.\n",
      "Feature for (MD662,252,(5312,1347)) is not in pool. Re-compute.\n",
      "Feature for (MD662,252,(5377,1152)) is not in pool. Re-compute.\n",
      "Feature for (MD662,252,(5377,1217)) is not in pool. Re-compute.\n",
      "Feature for (MD662,252,(5377,1282)) is not in pool. Re-compute.\n",
      "Feature for (MD662,252,(5442,1152)) is not in pool. Re-compute.\n",
      "Feature for (MD662,252,(5442,1217)) is not in pool. Re-compute.\n",
      "Feature for (MD662,252,(5442,1282)) is not in pool. Re-compute.\n",
      "Feature for (MD662,252,(5507,1217)) is not in pool. Re-compute.\n",
      "Feature for (MD662,252,(5507,1282)) is not in pool. Re-compute.\n",
      "Feature for (MD662,252,(5572,1217)) is not in pool. Re-compute.\n",
      "Feature for (MD662,252,(5572,1282)) is not in pool. Re-compute.\n",
      "Feature for (MD662,252,(5637,1282)) is not in pool. Re-compute.\n",
      "Not using image_cache.\n",
      "Load image: 16.64 seconds.\n",
      "Extract patches: 16.76 seconds\n"
     ]
    },
    {
     "name": "stdout",
     "output_type": "stream",
     "text": [
      "(256, 1, 224, 224)\n"
     ]
    },
    {
     "name": "stderr",
     "output_type": "stream",
     "text": [
      "Compute features: 0.38 seconds\n"
     ]
    },
    {
     "name": "stdout",
     "output_type": "stream",
     "text": [
      "('MD662', 247)\n"
     ]
    },
    {
     "name": "stderr",
     "output_type": "stream",
     "text": [
      "Feature for (MD662,247,(4922,1737)) is not in pool. Re-compute.\n",
      "Feature for (MD662,247,(4987,1477)) is not in pool. Re-compute.\n",
      "Feature for (MD662,247,(4987,1542)) is not in pool. Re-compute.\n",
      "Feature for (MD662,247,(4987,1607)) is not in pool. Re-compute.\n",
      "Feature for (MD662,247,(5052,1412)) is not in pool. Re-compute.\n",
      "Feature for (MD662,247,(5052,1477)) is not in pool. Re-compute.\n",
      "Feature for (MD662,247,(5052,1542)) is not in pool. Re-compute.\n",
      "Feature for (MD662,247,(5117,1347)) is not in pool. Re-compute.\n",
      "Feature for (MD662,247,(5117,1412)) is not in pool. Re-compute.\n",
      "Feature for (MD662,247,(5117,1477)) is not in pool. Re-compute.\n",
      "Feature for (MD662,247,(5182,1282)) is not in pool. Re-compute.\n",
      "Feature for (MD662,247,(5182,1347)) is not in pool. Re-compute.\n",
      "Feature for (MD662,247,(5182,1412)) is not in pool. Re-compute.\n",
      "Feature for (MD662,247,(5182,1477)) is not in pool. Re-compute.\n",
      "Feature for (MD662,247,(5247,1217)) is not in pool. Re-compute.\n",
      "Feature for (MD662,247,(5247,1282)) is not in pool. Re-compute.\n",
      "Feature for (MD662,247,(5247,1347)) is not in pool. Re-compute.\n",
      "Feature for (MD662,247,(5247,1412)) is not in pool. Re-compute.\n",
      "Feature for (MD662,247,(5247,1477)) is not in pool. Re-compute.\n",
      "Feature for (MD662,247,(5312,1217)) is not in pool. Re-compute.\n",
      "Feature for (MD662,247,(5312,1282)) is not in pool. Re-compute.\n",
      "Feature for (MD662,247,(5312,1347)) is not in pool. Re-compute.\n",
      "Feature for (MD662,247,(5312,1412)) is not in pool. Re-compute.\n",
      "Feature for (MD662,247,(5377,1152)) is not in pool. Re-compute.\n",
      "Feature for (MD662,247,(5377,1217)) is not in pool. Re-compute.\n",
      "Feature for (MD662,247,(5377,1282)) is not in pool. Re-compute.\n",
      "Feature for (MD662,247,(5377,1347)) is not in pool. Re-compute.\n",
      "Feature for (MD662,247,(5442,1152)) is not in pool. Re-compute.\n",
      "Feature for (MD662,247,(5442,1217)) is not in pool. Re-compute.\n",
      "Feature for (MD662,247,(5442,1282)) is not in pool. Re-compute.\n",
      "Feature for (MD662,247,(5442,1347)) is not in pool. Re-compute.\n",
      "Feature for (MD662,247,(5507,1152)) is not in pool. Re-compute.\n",
      "Feature for (MD662,247,(5507,1217)) is not in pool. Re-compute.\n",
      "Feature for (MD662,247,(5507,1282)) is not in pool. Re-compute.\n",
      "Feature for (MD662,247,(5507,1347)) is not in pool. Re-compute.\n",
      "Feature for (MD662,247,(5572,1217)) is not in pool. Re-compute.\n",
      "Feature for (MD662,247,(5572,1282)) is not in pool. Re-compute.\n",
      "Feature for (MD662,247,(5572,1347)) is not in pool. Re-compute.\n",
      "Feature for (MD662,247,(5637,1217)) is not in pool. Re-compute.\n",
      "Feature for (MD662,247,(5637,1282)) is not in pool. Re-compute.\n",
      "Feature for (MD662,247,(5637,1347)) is not in pool. Re-compute.\n",
      "Feature for (MD662,247,(5702,1282)) is not in pool. Re-compute.\n",
      "Feature for (MD662,247,(5702,1347)) is not in pool. Re-compute.\n",
      "Feature for (MD662,247,(5767,1282)) is not in pool. Re-compute.\n",
      "Not using image_cache.\n",
      "Load image: 17.48 seconds.\n",
      "Extract patches: 17.62 seconds\n"
     ]
    },
    {
     "name": "stdout",
     "output_type": "stream",
     "text": [
      "(256, 1, 224, 224)\n"
     ]
    },
    {
     "name": "stderr",
     "output_type": "stream",
     "text": [
      "Compute features: 0.38 seconds\n"
     ]
    },
    {
     "name": "stdout",
     "output_type": "stream",
     "text": [
      "('MD661', 243)\n"
     ]
    },
    {
     "name": "stderr",
     "output_type": "stream",
     "text": [
      "Feature for (MD661,243,(6352,1022)) is not in pool. Re-compute.\n",
      "Feature for (MD661,243,(6352,1087)) is not in pool. Re-compute.\n",
      "Feature for (MD661,243,(6417,957)) is not in pool. Re-compute.\n",
      "Feature for (MD661,243,(6417,1022)) is not in pool. Re-compute.\n",
      "Feature for (MD661,243,(6417,1087)) is not in pool. Re-compute.\n",
      "Feature for (MD661,243,(6482,892)) is not in pool. Re-compute.\n",
      "Feature for (MD661,243,(6482,957)) is not in pool. Re-compute.\n",
      "Feature for (MD661,243,(6482,1022)) is not in pool. Re-compute.\n",
      "Feature for (MD661,243,(6482,1087)) is not in pool. Re-compute.\n",
      "Feature for (MD661,243,(6547,892)) is not in pool. Re-compute.\n",
      "Feature for (MD661,243,(6547,957)) is not in pool. Re-compute.\n",
      "Feature for (MD661,243,(6547,1022)) is not in pool. Re-compute.\n",
      "Feature for (MD661,243,(6612,827)) is not in pool. Re-compute.\n",
      "Feature for (MD661,243,(6612,892)) is not in pool. Re-compute.\n",
      "Feature for (MD661,243,(6612,957)) is not in pool. Re-compute.\n",
      "Feature for (MD661,243,(6612,1022)) is not in pool. Re-compute.\n",
      "Feature for (MD661,243,(6677,827)) is not in pool. Re-compute.\n",
      "Feature for (MD661,243,(6677,892)) is not in pool. Re-compute.\n",
      "Feature for (MD661,243,(6677,957)) is not in pool. Re-compute.\n",
      "Feature for (MD661,243,(6677,1022)) is not in pool. Re-compute.\n",
      "Feature for (MD661,243,(6742,827)) is not in pool. Re-compute.\n",
      "Feature for (MD661,243,(6742,892)) is not in pool. Re-compute.\n",
      "Feature for (MD661,243,(6807,827)) is not in pool. Re-compute.\n",
      "Feature for (MD661,243,(6872,827)) is not in pool. Re-compute.\n",
      "Not using image_cache.\n",
      "Load image: 19.20 seconds.\n",
      "Extract patches: 19.33 seconds\n"
     ]
    },
    {
     "name": "stdout",
     "output_type": "stream",
     "text": [
      "(256, 1, 224, 224)\n"
     ]
    },
    {
     "name": "stderr",
     "output_type": "stream",
     "text": [
      "Compute features: 0.39 seconds\n"
     ]
    },
    {
     "name": "stdout",
     "output_type": "stream",
     "text": [
      "('MD661', 174)\n",
      "('MD661', 281)\n"
     ]
    },
    {
     "name": "stderr",
     "output_type": "stream",
     "text": [
      "Feature for (MD661,281,(5832,1282)) is not in pool. Re-compute.\n",
      "Feature for (MD661,281,(5832,1347)) is not in pool. Re-compute.\n",
      "Feature for (MD661,281,(5832,1412)) is not in pool. Re-compute.\n",
      "Feature for (MD661,281,(5897,1217)) is not in pool. Re-compute.\n",
      "Feature for (MD661,281,(5897,1282)) is not in pool. Re-compute.\n",
      "Feature for (MD661,281,(5897,1347)) is not in pool. Re-compute.\n",
      "Feature for (MD661,281,(5897,1412)) is not in pool. Re-compute.\n",
      "Feature for (MD661,281,(5897,1477)) is not in pool. Re-compute.\n",
      "Feature for (MD661,281,(5962,1087)) is not in pool. Re-compute.\n",
      "Feature for (MD661,281,(5962,1152)) is not in pool. Re-compute.\n",
      "Feature for (MD661,281,(5962,1217)) is not in pool. Re-compute.\n",
      "Feature for (MD661,281,(5962,1282)) is not in pool. Re-compute.\n",
      "Feature for (MD661,281,(5962,1347)) is not in pool. Re-compute.\n",
      "Feature for (MD661,281,(5962,1412)) is not in pool. Re-compute.\n",
      "Feature for (MD661,281,(6027,957)) is not in pool. Re-compute.\n",
      "Feature for (MD661,281,(6027,1022)) is not in pool. Re-compute.\n",
      "Feature for (MD661,281,(6027,1087)) is not in pool. Re-compute.\n",
      "Feature for (MD661,281,(6027,1152)) is not in pool. Re-compute.\n",
      "Feature for (MD661,281,(6027,1217)) is not in pool. Re-compute.\n",
      "Feature for (MD661,281,(6027,1282)) is not in pool. Re-compute.\n",
      "Feature for (MD661,281,(6027,1347)) is not in pool. Re-compute.\n",
      "Feature for (MD661,281,(6092,892)) is not in pool. Re-compute.\n",
      "Feature for (MD661,281,(6092,957)) is not in pool. Re-compute.\n",
      "Feature for (MD661,281,(6092,1022)) is not in pool. Re-compute.\n",
      "Feature for (MD661,281,(6092,1087)) is not in pool. Re-compute.\n",
      "Feature for (MD661,281,(6092,1152)) is not in pool. Re-compute.\n",
      "Feature for (MD661,281,(6092,1217)) is not in pool. Re-compute.\n",
      "Feature for (MD661,281,(6092,1282)) is not in pool. Re-compute.\n",
      "Feature for (MD661,281,(6157,892)) is not in pool. Re-compute.\n",
      "Feature for (MD661,281,(6157,957)) is not in pool. Re-compute.\n",
      "Feature for (MD661,281,(6157,1022)) is not in pool. Re-compute.\n",
      "Feature for (MD661,281,(6157,1087)) is not in pool. Re-compute.\n",
      "Feature for (MD661,281,(6157,1152)) is not in pool. Re-compute.\n",
      "Feature for (MD661,281,(6157,1217)) is not in pool. Re-compute.\n",
      "Feature for (MD661,281,(6222,892)) is not in pool. Re-compute.\n",
      "Feature for (MD661,281,(6222,957)) is not in pool. Re-compute.\n",
      "Feature for (MD661,281,(6222,1022)) is not in pool. Re-compute.\n",
      "Feature for (MD661,281,(6222,1087)) is not in pool. Re-compute.\n",
      "Feature for (MD661,281,(6222,1152)) is not in pool. Re-compute.\n",
      "Feature for (MD661,281,(6287,892)) is not in pool. Re-compute.\n",
      "Feature for (MD661,281,(6287,957)) is not in pool. Re-compute.\n",
      "Feature for (MD661,281,(6287,1022)) is not in pool. Re-compute.\n",
      "Feature for (MD661,281,(6287,1087)) is not in pool. Re-compute.\n",
      "Feature for (MD661,281,(6352,957)) is not in pool. Re-compute.\n",
      "Feature for (MD661,281,(6352,1022)) is not in pool. Re-compute.\n",
      "Feature for (MD661,281,(6417,957)) is not in pool. Re-compute.\n",
      "Not using image_cache.\n",
      "Load image: 19.42 seconds.\n",
      "Extract patches: 19.57 seconds\n"
     ]
    },
    {
     "name": "stdout",
     "output_type": "stream",
     "text": [
      "(256, 1, 224, 224)\n"
     ]
    },
    {
     "name": "stderr",
     "output_type": "stream",
     "text": [
      "Compute features: 0.37 seconds\n"
     ]
    },
    {
     "name": "stdout",
     "output_type": "stream",
     "text": [
      "('MD661', 224)\n"
     ]
    },
    {
     "name": "stderr",
     "output_type": "stream",
     "text": [
      "Feature for (MD661,224,(6352,827)) is not in pool. Re-compute.\n",
      "Feature for (MD661,224,(6417,762)) is not in pool. Re-compute.\n",
      "Feature for (MD661,224,(6417,827)) is not in pool. Re-compute.\n",
      "Feature for (MD661,224,(6482,697)) is not in pool. Re-compute.\n",
      "Feature for (MD661,224,(6482,762)) is not in pool. Re-compute.\n",
      "Feature for (MD661,224,(6482,827)) is not in pool. Re-compute.\n",
      "Feature for (MD661,224,(6547,632)) is not in pool. Re-compute.\n",
      "Feature for (MD661,224,(6547,697)) is not in pool. Re-compute.\n",
      "Feature for (MD661,224,(6547,762)) is not in pool. Re-compute.\n",
      "Feature for (MD661,224,(6547,827)) is not in pool. Re-compute.\n",
      "Feature for (MD661,224,(6612,632)) is not in pool. Re-compute.\n",
      "Feature for (MD661,224,(6612,697)) is not in pool. Re-compute.\n",
      "Feature for (MD661,224,(6612,762)) is not in pool. Re-compute.\n",
      "Feature for (MD661,224,(6612,827)) is not in pool. Re-compute.\n",
      "Feature for (MD661,224,(6677,567)) is not in pool. Re-compute.\n",
      "Feature for (MD661,224,(6677,632)) is not in pool. Re-compute.\n",
      "Feature for (MD661,224,(6677,697)) is not in pool. Re-compute.\n",
      "Feature for (MD661,224,(6677,762)) is not in pool. Re-compute.\n",
      "Feature for (MD661,224,(6742,567)) is not in pool. Re-compute.\n",
      "Feature for (MD661,224,(6742,632)) is not in pool. Re-compute.\n",
      "Feature for (MD661,224,(6807,567)) is not in pool. Re-compute.\n",
      "Feature for (MD661,224,(6807,632)) is not in pool. Re-compute.\n",
      "Feature for (MD661,224,(6872,567)) is not in pool. Re-compute.\n",
      "Feature for (MD661,224,(6872,632)) is not in pool. Re-compute.\n",
      "Feature for (MD661,224,(6872,697)) is not in pool. Re-compute.\n",
      "Feature for (MD661,224,(6937,632)) is not in pool. Re-compute.\n",
      "Not using image_cache.\n",
      "Load image: 19.09 seconds.\n",
      "Extract patches: 19.22 seconds\n"
     ]
    },
    {
     "name": "stdout",
     "output_type": "stream",
     "text": [
      "(256, 1, 224, 224)\n"
     ]
    },
    {
     "name": "stderr",
     "output_type": "stream",
     "text": [
      "Compute features: 0.38 seconds\n"
     ]
    },
    {
     "name": "stdout",
     "output_type": "stream",
     "text": [
      "('MD662', 278)\n"
     ]
    },
    {
     "name": "stderr",
     "output_type": "stream",
     "text": [
      "Feature for (MD662,278,(4792,1737)) is not in pool. Re-compute.\n",
      "Feature for (MD662,278,(4857,1737)) is not in pool. Re-compute.\n",
      "Feature for (MD662,278,(4857,1802)) is not in pool. Re-compute.\n",
      "Feature for (MD662,278,(4922,1737)) is not in pool. Re-compute.\n",
      "Feature for (MD662,278,(4922,1802)) is not in pool. Re-compute.\n",
      "Not using image_cache.\n",
      "Load image: 15.98 seconds.\n",
      "Extract patches: 16.06 seconds\n"
     ]
    },
    {
     "name": "stdout",
     "output_type": "stream",
     "text": [
      "(256, 1, 224, 224)\n"
     ]
    },
    {
     "name": "stderr",
     "output_type": "stream",
     "text": [
      "Compute features: 0.36 seconds\n"
     ]
    },
    {
     "name": "stdout",
     "output_type": "stream",
     "text": [
      "('MD661', 278)\n"
     ]
    },
    {
     "name": "stderr",
     "output_type": "stream",
     "text": [
      "Feature for (MD661,278,(5767,1542)) is not in pool. Re-compute.\n",
      "Feature for (MD661,278,(5767,1607)) is not in pool. Re-compute.\n",
      "Feature for (MD661,278,(5767,1672)) is not in pool. Re-compute.\n",
      "Feature for (MD661,278,(5832,1347)) is not in pool. Re-compute.\n",
      "Feature for (MD661,278,(5832,1412)) is not in pool. Re-compute.\n",
      "Feature for (MD661,278,(5832,1477)) is not in pool. Re-compute.\n",
      "Feature for (MD661,278,(5832,1542)) is not in pool. Re-compute.\n",
      "Feature for (MD661,278,(5832,1607)) is not in pool. Re-compute.\n",
      "Feature for (MD661,278,(5897,1152)) is not in pool. Re-compute.\n",
      "Feature for (MD661,278,(5897,1217)) is not in pool. Re-compute.\n",
      "Feature for (MD661,278,(5897,1282)) is not in pool. Re-compute.\n",
      "Feature for (MD661,278,(5897,1347)) is not in pool. Re-compute.\n",
      "Feature for (MD661,278,(5897,1412)) is not in pool. Re-compute.\n",
      "Feature for (MD661,278,(5897,1477)) is not in pool. Re-compute.\n",
      "Feature for (MD661,278,(5962,1022)) is not in pool. Re-compute.\n",
      "Feature for (MD661,278,(5962,1087)) is not in pool. Re-compute.\n",
      "Feature for (MD661,278,(5962,1152)) is not in pool. Re-compute.\n",
      "Feature for (MD661,278,(5962,1217)) is not in pool. Re-compute.\n",
      "Feature for (MD661,278,(5962,1282)) is not in pool. Re-compute.\n",
      "Feature for (MD661,278,(5962,1347)) is not in pool. Re-compute.\n",
      "Feature for (MD661,278,(6027,957)) is not in pool. Re-compute.\n",
      "Feature for (MD661,278,(6027,1022)) is not in pool. Re-compute.\n",
      "Feature for (MD661,278,(6027,1087)) is not in pool. Re-compute.\n",
      "Feature for (MD661,278,(6027,1152)) is not in pool. Re-compute.\n",
      "Feature for (MD661,278,(6027,1217)) is not in pool. Re-compute.\n",
      "Feature for (MD661,278,(6027,1282)) is not in pool. Re-compute.\n",
      "Feature for (MD661,278,(6092,892)) is not in pool. Re-compute.\n",
      "Feature for (MD661,278,(6092,957)) is not in pool. Re-compute.\n",
      "Feature for (MD661,278,(6092,1022)) is not in pool. Re-compute.\n",
      "Feature for (MD661,278,(6092,1087)) is not in pool. Re-compute.\n",
      "Feature for (MD661,278,(6092,1152)) is not in pool. Re-compute.\n",
      "Feature for (MD661,278,(6092,1217)) is not in pool. Re-compute.\n",
      "Feature for (MD661,278,(6157,827)) is not in pool. Re-compute.\n",
      "Feature for (MD661,278,(6157,892)) is not in pool. Re-compute.\n",
      "Feature for (MD661,278,(6157,957)) is not in pool. Re-compute.\n",
      "Feature for (MD661,278,(6157,1022)) is not in pool. Re-compute.\n",
      "Feature for (MD661,278,(6157,1087)) is not in pool. Re-compute.\n",
      "Feature for (MD661,278,(6157,1152)) is not in pool. Re-compute.\n",
      "Feature for (MD661,278,(6222,827)) is not in pool. Re-compute.\n",
      "Feature for (MD661,278,(6222,892)) is not in pool. Re-compute.\n",
      "Feature for (MD661,278,(6222,957)) is not in pool. Re-compute.\n",
      "Feature for (MD661,278,(6222,1022)) is not in pool. Re-compute.\n",
      "Feature for (MD661,278,(6222,1087)) is not in pool. Re-compute.\n",
      "Feature for (MD661,278,(6222,1152)) is not in pool. Re-compute.\n",
      "Feature for (MD661,278,(6287,827)) is not in pool. Re-compute.\n",
      "Feature for (MD661,278,(6287,892)) is not in pool. Re-compute.\n",
      "Feature for (MD661,278,(6287,957)) is not in pool. Re-compute.\n",
      "Feature for (MD661,278,(6287,1022)) is not in pool. Re-compute.\n",
      "Feature for (MD661,278,(6287,1087)) is not in pool. Re-compute.\n",
      "Feature for (MD661,278,(6352,827)) is not in pool. Re-compute.\n",
      "Feature for (MD661,278,(6352,892)) is not in pool. Re-compute.\n",
      "Feature for (MD661,278,(6352,957)) is not in pool. Re-compute.\n",
      "Feature for (MD661,278,(6352,1022)) is not in pool. Re-compute.\n",
      "Feature for (MD661,278,(6417,827)) is not in pool. Re-compute.\n",
      "Feature for (MD661,278,(6417,892)) is not in pool. Re-compute.\n",
      "Feature for (MD661,278,(6417,957)) is not in pool. Re-compute.\n",
      "Feature for (MD661,278,(6482,892)) is not in pool. Re-compute.\n",
      "Not using image_cache.\n",
      "Load image: 17.38 seconds.\n",
      "Extract patches: 17.55 seconds\n"
     ]
    },
    {
     "name": "stdout",
     "output_type": "stream",
     "text": [
      "(256, 1, 224, 224)\n"
     ]
    },
    {
     "name": "stderr",
     "output_type": "stream",
     "text": [
      "Compute features: 0.38 seconds\n"
     ]
    },
    {
     "name": "stdout",
     "output_type": "stream",
     "text": [
      "('MD662', 166)\n"
     ]
    },
    {
     "name": "stderr",
     "output_type": "stream",
     "text": [
      "Feature for (MD662,166,(5117,2192)) is not in pool. Re-compute.\n",
      "Feature for (MD662,166,(5182,2127)) is not in pool. Re-compute.\n",
      "Feature for (MD662,166,(5182,2192)) is not in pool. Re-compute.\n",
      "Feature for (MD662,166,(5182,2257)) is not in pool. Re-compute.\n",
      "Feature for (MD662,166,(5247,2127)) is not in pool. Re-compute.\n",
      "Feature for (MD662,166,(5247,2192)) is not in pool. Re-compute.\n",
      "Feature for (MD662,166,(5247,2257)) is not in pool. Re-compute.\n",
      "Feature for (MD662,166,(5312,2127)) is not in pool. Re-compute.\n",
      "Feature for (MD662,166,(5312,2192)) is not in pool. Re-compute.\n",
      "Feature for (MD662,166,(5377,2127)) is not in pool. Re-compute.\n",
      "Not using image_cache.\n",
      "Load image: 13.93 seconds.\n",
      "Extract patches: 14.02 seconds\n"
     ]
    },
    {
     "name": "stdout",
     "output_type": "stream",
     "text": [
      "(256, 1, 224, 224)\n"
     ]
    },
    {
     "name": "stderr",
     "output_type": "stream",
     "text": [
      "Compute features: 0.37 seconds\n"
     ]
    },
    {
     "name": "stdout",
     "output_type": "stream",
     "text": [
      "('MD662', 208)\n"
     ]
    },
    {
     "name": "stderr",
     "output_type": "stream",
     "text": [
      "Feature for (MD662,208,(5247,1607)) is not in pool. Re-compute.\n",
      "Feature for (MD662,208,(5247,1672)) is not in pool. Re-compute.\n",
      "Feature for (MD662,208,(5247,1737)) is not in pool. Re-compute.\n",
      "Feature for (MD662,208,(5247,1802)) is not in pool. Re-compute.\n",
      "Feature for (MD662,208,(5247,1867)) is not in pool. Re-compute.\n",
      "Feature for (MD662,208,(5312,1542)) is not in pool. Re-compute.\n",
      "Feature for (MD662,208,(5312,1607)) is not in pool. Re-compute.\n",
      "Feature for (MD662,208,(5312,1672)) is not in pool. Re-compute.\n",
      "Feature for (MD662,208,(5312,1737)) is not in pool. Re-compute.\n",
      "Feature for (MD662,208,(5312,1802)) is not in pool. Re-compute.\n",
      "Feature for (MD662,208,(5377,1477)) is not in pool. Re-compute.\n",
      "Feature for (MD662,208,(5377,1542)) is not in pool. Re-compute.\n",
      "Feature for (MD662,208,(5377,1607)) is not in pool. Re-compute.\n",
      "Feature for (MD662,208,(5377,1672)) is not in pool. Re-compute.\n",
      "Feature for (MD662,208,(5377,1737)) is not in pool. Re-compute.\n",
      "Feature for (MD662,208,(5442,1412)) is not in pool. Re-compute.\n",
      "Feature for (MD662,208,(5442,1477)) is not in pool. Re-compute.\n",
      "Feature for (MD662,208,(5442,1542)) is not in pool. Re-compute.\n",
      "Feature for (MD662,208,(5442,1607)) is not in pool. Re-compute.\n",
      "Feature for (MD662,208,(5442,1672)) is not in pool. Re-compute.\n",
      "Feature for (MD662,208,(5507,1347)) is not in pool. Re-compute.\n",
      "Feature for (MD662,208,(5507,1412)) is not in pool. Re-compute.\n",
      "Feature for (MD662,208,(5507,1477)) is not in pool. Re-compute.\n",
      "Feature for (MD662,208,(5507,1542)) is not in pool. Re-compute.\n",
      "Feature for (MD662,208,(5507,1607)) is not in pool. Re-compute.\n",
      "Feature for (MD662,208,(5507,1672)) is not in pool. Re-compute.\n",
      "Feature for (MD662,208,(5572,1347)) is not in pool. Re-compute.\n",
      "Feature for (MD662,208,(5572,1412)) is not in pool. Re-compute.\n",
      "Feature for (MD662,208,(5572,1477)) is not in pool. Re-compute.\n",
      "Feature for (MD662,208,(5572,1542)) is not in pool. Re-compute.\n",
      "Feature for (MD662,208,(5572,1607)) is not in pool. Re-compute.\n",
      "Feature for (MD662,208,(5637,1282)) is not in pool. Re-compute.\n",
      "Feature for (MD662,208,(5637,1347)) is not in pool. Re-compute.\n",
      "Feature for (MD662,208,(5637,1412)) is not in pool. Re-compute.\n",
      "Feature for (MD662,208,(5637,1477)) is not in pool. Re-compute.\n",
      "Feature for (MD662,208,(5637,1542)) is not in pool. Re-compute.\n",
      "Feature for (MD662,208,(5637,1607)) is not in pool. Re-compute.\n",
      "Feature for (MD662,208,(5702,1282)) is not in pool. Re-compute.\n",
      "Feature for (MD662,208,(5702,1347)) is not in pool. Re-compute.\n",
      "Feature for (MD662,208,(5702,1412)) is not in pool. Re-compute.\n",
      "Feature for (MD662,208,(5702,1477)) is not in pool. Re-compute.\n",
      "Feature for (MD662,208,(5702,1542)) is not in pool. Re-compute.\n",
      "Feature for (MD662,208,(5767,1282)) is not in pool. Re-compute.\n",
      "Feature for (MD662,208,(5767,1347)) is not in pool. Re-compute.\n",
      "Feature for (MD662,208,(5767,1412)) is not in pool. Re-compute.\n",
      "Feature for (MD662,208,(5767,1477)) is not in pool. Re-compute.\n",
      "Feature for (MD662,208,(5767,1542)) is not in pool. Re-compute.\n",
      "Feature for (MD662,208,(5832,1282)) is not in pool. Re-compute.\n",
      "Feature for (MD662,208,(5832,1347)) is not in pool. Re-compute.\n",
      "Feature for (MD662,208,(5832,1412)) is not in pool. Re-compute.\n",
      "Feature for (MD662,208,(5832,1477)) is not in pool. Re-compute.\n",
      "Feature for (MD662,208,(5897,1347)) is not in pool. Re-compute.\n",
      "Feature for (MD662,208,(5897,1412)) is not in pool. Re-compute.\n",
      "Feature for (MD662,208,(5897,1477)) is not in pool. Re-compute.\n",
      "Not using image_cache.\n",
      "Load image: 16.50 seconds.\n",
      "Extract patches: 16.65 seconds\n"
     ]
    },
    {
     "name": "stdout",
     "output_type": "stream",
     "text": [
      "(256, 1, 224, 224)\n"
     ]
    },
    {
     "name": "stderr",
     "output_type": "stream",
     "text": [
      "Compute features: 0.38 seconds\n"
     ]
    },
    {
     "name": "stdout",
     "output_type": "stream",
     "text": [
      "('MD662', 146)\n",
      "('MD661', 304)\n",
      "('MD661', 301)\n",
      "('MD661', 249)\n"
     ]
    },
    {
     "name": "stderr",
     "output_type": "stream",
     "text": [
      "Feature for (MD661,249,(6222,957)) is not in pool. Re-compute.\n",
      "Feature for (MD661,249,(6222,1022)) is not in pool. Re-compute.\n",
      "Feature for (MD661,249,(6287,892)) is not in pool. Re-compute.\n",
      "Feature for (MD661,249,(6287,957)) is not in pool. Re-compute.\n",
      "Feature for (MD661,249,(6287,1022)) is not in pool. Re-compute.\n",
      "Feature for (MD661,249,(6352,892)) is not in pool. Re-compute.\n",
      "Feature for (MD661,249,(6352,957)) is not in pool. Re-compute.\n",
      "Feature for (MD661,249,(6352,1022)) is not in pool. Re-compute.\n",
      "Feature for (MD661,249,(6417,827)) is not in pool. Re-compute.\n",
      "Feature for (MD661,249,(6417,892)) is not in pool. Re-compute.\n",
      "Feature for (MD661,249,(6417,957)) is not in pool. Re-compute.\n",
      "Feature for (MD661,249,(6482,762)) is not in pool. Re-compute.\n",
      "Feature for (MD661,249,(6482,827)) is not in pool. Re-compute.\n",
      "Feature for (MD661,249,(6482,892)) is not in pool. Re-compute.\n",
      "Feature for (MD661,249,(6482,957)) is not in pool. Re-compute.\n",
      "Feature for (MD661,249,(6547,697)) is not in pool. Re-compute.\n",
      "Feature for (MD661,249,(6547,762)) is not in pool. Re-compute.\n",
      "Feature for (MD661,249,(6547,827)) is not in pool. Re-compute.\n",
      "Feature for (MD661,249,(6547,892)) is not in pool. Re-compute.\n",
      "Feature for (MD661,249,(6547,957)) is not in pool. Re-compute.\n",
      "Feature for (MD661,249,(6612,697)) is not in pool. Re-compute.\n",
      "Feature for (MD661,249,(6612,762)) is not in pool. Re-compute.\n",
      "Feature for (MD661,249,(6612,827)) is not in pool. Re-compute.\n",
      "Feature for (MD661,249,(6612,892)) is not in pool. Re-compute.\n",
      "Feature for (MD661,249,(6612,957)) is not in pool. Re-compute.\n",
      "Feature for (MD661,249,(6677,697)) is not in pool. Re-compute.\n",
      "Feature for (MD661,249,(6677,762)) is not in pool. Re-compute.\n",
      "Feature for (MD661,249,(6677,827)) is not in pool. Re-compute.\n",
      "Feature for (MD661,249,(6677,892)) is not in pool. Re-compute.\n",
      "Feature for (MD661,249,(6742,697)) is not in pool. Re-compute.\n",
      "Feature for (MD661,249,(6742,762)) is not in pool. Re-compute.\n",
      "Feature for (MD661,249,(6807,632)) is not in pool. Re-compute.\n",
      "Feature for (MD661,249,(6807,697)) is not in pool. Re-compute.\n",
      "Feature for (MD661,249,(6807,762)) is not in pool. Re-compute.\n",
      "Feature for (MD661,249,(6807,827)) is not in pool. Re-compute.\n",
      "Feature for (MD661,249,(6872,697)) is not in pool. Re-compute.\n",
      "Feature for (MD661,249,(6872,762)) is not in pool. Re-compute.\n",
      "Feature for (MD661,249,(6872,827)) is not in pool. Re-compute.\n",
      "Feature for (MD661,249,(6872,892)) is not in pool. Re-compute.\n",
      "Feature for (MD661,249,(6937,697)) is not in pool. Re-compute.\n",
      "Feature for (MD661,249,(6937,762)) is not in pool. Re-compute.\n",
      "Feature for (MD661,249,(6937,827)) is not in pool. Re-compute.\n",
      "Feature for (MD661,249,(6937,892)) is not in pool. Re-compute.\n",
      "Feature for (MD661,249,(7002,762)) is not in pool. Re-compute.\n",
      "Feature for (MD661,249,(7002,827)) is not in pool. Re-compute.\n",
      "Not using image_cache.\n",
      "Load image: 19.76 seconds.\n",
      "Extract patches: 19.91 seconds\n"
     ]
    },
    {
     "name": "stdout",
     "output_type": "stream",
     "text": [
      "(256, 1, 224, 224)\n"
     ]
    },
    {
     "name": "stderr",
     "output_type": "stream",
     "text": [
      "Compute features: 0.40 seconds\n"
     ]
    },
    {
     "name": "stdout",
     "output_type": "stream",
     "text": [
      "('MD662', 249)\n"
     ]
    },
    {
     "name": "stderr",
     "output_type": "stream",
     "text": [
      "Feature for (MD662,249,(4922,1607)) is not in pool. Re-compute.\n",
      "Feature for (MD662,249,(4922,1672)) is not in pool. Re-compute.\n",
      "Feature for (MD662,249,(4922,1737)) is not in pool. Re-compute.\n",
      "Feature for (MD662,249,(4922,1802)) is not in pool. Re-compute.\n",
      "Feature for (MD662,249,(4987,1412)) is not in pool. Re-compute.\n",
      "Feature for (MD662,249,(4987,1477)) is not in pool. Re-compute.\n",
      "Feature for (MD662,249,(4987,1542)) is not in pool. Re-compute.\n",
      "Feature for (MD662,249,(4987,1607)) is not in pool. Re-compute.\n",
      "Feature for (MD662,249,(4987,1672)) is not in pool. Re-compute.\n",
      "Feature for (MD662,249,(5052,1347)) is not in pool. Re-compute.\n",
      "Feature for (MD662,249,(5052,1412)) is not in pool. Re-compute.\n",
      "Feature for (MD662,249,(5052,1477)) is not in pool. Re-compute.\n",
      "Feature for (MD662,249,(5052,1542)) is not in pool. Re-compute.\n",
      "Feature for (MD662,249,(5117,1282)) is not in pool. Re-compute.\n",
      "Feature for (MD662,249,(5117,1347)) is not in pool. Re-compute.\n",
      "Feature for (MD662,249,(5117,1412)) is not in pool. Re-compute.\n",
      "Feature for (MD662,249,(5117,1477)) is not in pool. Re-compute.\n",
      "Feature for (MD662,249,(5182,1217)) is not in pool. Re-compute.\n",
      "Feature for (MD662,249,(5182,1282)) is not in pool. Re-compute.\n",
      "Feature for (MD662,249,(5182,1347)) is not in pool. Re-compute.\n",
      "Feature for (MD662,249,(5182,1412)) is not in pool. Re-compute.\n",
      "Feature for (MD662,249,(5247,1152)) is not in pool. Re-compute.\n",
      "Feature for (MD662,249,(5247,1217)) is not in pool. Re-compute.\n",
      "Feature for (MD662,249,(5247,1282)) is not in pool. Re-compute.\n",
      "Feature for (MD662,249,(5247,1347)) is not in pool. Re-compute.\n",
      "Feature for (MD662,249,(5247,1412)) is not in pool. Re-compute.\n",
      "Feature for (MD662,249,(5312,1152)) is not in pool. Re-compute.\n",
      "Feature for (MD662,249,(5312,1217)) is not in pool. Re-compute.\n",
      "Feature for (MD662,249,(5312,1282)) is not in pool. Re-compute.\n",
      "Feature for (MD662,249,(5312,1347)) is not in pool. Re-compute.\n",
      "Feature for (MD662,249,(5377,1152)) is not in pool. Re-compute.\n",
      "Feature for (MD662,249,(5377,1217)) is not in pool. Re-compute.\n",
      "Feature for (MD662,249,(5377,1282)) is not in pool. Re-compute.\n",
      "Feature for (MD662,249,(5377,1347)) is not in pool. Re-compute.\n",
      "Feature for (MD662,249,(5442,1152)) is not in pool. Re-compute.\n",
      "Feature for (MD662,249,(5442,1217)) is not in pool. Re-compute.\n",
      "Feature for (MD662,249,(5442,1282)) is not in pool. Re-compute.\n",
      "Feature for (MD662,249,(5442,1347)) is not in pool. Re-compute.\n",
      "Feature for (MD662,249,(5507,1152)) is not in pool. Re-compute.\n",
      "Feature for (MD662,249,(5507,1217)) is not in pool. Re-compute.\n",
      "Feature for (MD662,249,(5507,1282)) is not in pool. Re-compute.\n",
      "Feature for (MD662,249,(5507,1347)) is not in pool. Re-compute.\n",
      "Feature for (MD662,249,(5572,1217)) is not in pool. Re-compute.\n",
      "Feature for (MD662,249,(5572,1282)) is not in pool. Re-compute.\n",
      "Feature for (MD662,249,(5637,1217)) is not in pool. Re-compute.\n",
      "Feature for (MD662,249,(5637,1282)) is not in pool. Re-compute.\n",
      "Feature for (MD662,249,(5702,1282)) is not in pool. Re-compute.\n",
      "Not using image_cache.\n",
      "Load image: 17.56 seconds.\n",
      "Extract patches: 17.69 seconds\n"
     ]
    },
    {
     "name": "stdout",
     "output_type": "stream",
     "text": [
      "(256, 1, 224, 224)\n"
     ]
    },
    {
     "name": "stderr",
     "output_type": "stream",
     "text": [
      "Compute features: 0.37 seconds\n"
     ]
    },
    {
     "name": "stdout",
     "output_type": "stream",
     "text": [
      "('MD662', 290)\n",
      "('MD662', 237)\n"
     ]
    },
    {
     "name": "stderr",
     "output_type": "stream",
     "text": [
      "Feature for (MD662,237,(5182,1477)) is not in pool. Re-compute.\n",
      "Feature for (MD662,237,(5182,1542)) is not in pool. Re-compute.\n",
      "Feature for (MD662,237,(5247,1412)) is not in pool. Re-compute.\n",
      "Feature for (MD662,237,(5247,1477)) is not in pool. Re-compute.\n",
      "Feature for (MD662,237,(5247,1542)) is not in pool. Re-compute.\n",
      "Feature for (MD662,237,(5247,1607)) is not in pool. Re-compute.\n",
      "Feature for (MD662,237,(5312,1412)) is not in pool. Re-compute.\n",
      "Feature for (MD662,237,(5312,1477)) is not in pool. Re-compute.\n",
      "Feature for (MD662,237,(5312,1542)) is not in pool. Re-compute.\n",
      "Feature for (MD662,237,(5377,1347)) is not in pool. Re-compute.\n",
      "Feature for (MD662,237,(5377,1412)) is not in pool. Re-compute.\n",
      "Feature for (MD662,237,(5377,1477)) is not in pool. Re-compute.\n",
      "Feature for (MD662,237,(5377,1542)) is not in pool. Re-compute.\n",
      "Feature for (MD662,237,(5442,1347)) is not in pool. Re-compute.\n",
      "Feature for (MD662,237,(5442,1412)) is not in pool. Re-compute.\n",
      "Feature for (MD662,237,(5442,1477)) is not in pool. Re-compute.\n",
      "Feature for (MD662,237,(5507,1282)) is not in pool. Re-compute.\n",
      "Feature for (MD662,237,(5507,1347)) is not in pool. Re-compute.\n",
      "Feature for (MD662,237,(5507,1412)) is not in pool. Re-compute.\n",
      "Feature for (MD662,237,(5507,1477)) is not in pool. Re-compute.\n",
      "Feature for (MD662,237,(5572,1282)) is not in pool. Re-compute.\n",
      "Feature for (MD662,237,(5572,1347)) is not in pool. Re-compute.\n",
      "Feature for (MD662,237,(5572,1412)) is not in pool. Re-compute.\n",
      "Feature for (MD662,237,(5572,1477)) is not in pool. Re-compute.\n",
      "Feature for (MD662,237,(5637,1282)) is not in pool. Re-compute.\n",
      "Feature for (MD662,237,(5637,1347)) is not in pool. Re-compute.\n",
      "Feature for (MD662,237,(5637,1412)) is not in pool. Re-compute.\n",
      "Feature for (MD662,237,(5637,1477)) is not in pool. Re-compute.\n",
      "Feature for (MD662,237,(5702,1282)) is not in pool. Re-compute.\n",
      "Feature for (MD662,237,(5702,1347)) is not in pool. Re-compute.\n",
      "Feature for (MD662,237,(5702,1412)) is not in pool. Re-compute.\n",
      "Feature for (MD662,237,(5767,1282)) is not in pool. Re-compute.\n",
      "Feature for (MD662,237,(5767,1347)) is not in pool. Re-compute.\n",
      "Feature for (MD662,237,(5767,1412)) is not in pool. Re-compute.\n",
      "Not using image_cache.\n",
      "Load image: 17.19 seconds.\n",
      "Extract patches: 17.31 seconds\n"
     ]
    },
    {
     "name": "stdout",
     "output_type": "stream",
     "text": [
      "(256, 1, 224, 224)\n"
     ]
    },
    {
     "name": "stderr",
     "output_type": "stream",
     "text": [
      "Compute features: 0.37 seconds\n"
     ]
    },
    {
     "name": "stdout",
     "output_type": "stream",
     "text": [
      "('MD661', 246)\n"
     ]
    },
    {
     "name": "stderr",
     "output_type": "stream",
     "text": [
      "Feature for (MD661,246,(6287,1022)) is not in pool. Re-compute.\n",
      "Feature for (MD661,246,(6352,957)) is not in pool. Re-compute.\n",
      "Feature for (MD661,246,(6352,1022)) is not in pool. Re-compute.\n",
      "Feature for (MD661,246,(6417,892)) is not in pool. Re-compute.\n",
      "Feature for (MD661,246,(6417,957)) is not in pool. Re-compute.\n",
      "Feature for (MD661,246,(6417,1022)) is not in pool. Re-compute.\n",
      "Feature for (MD661,246,(6482,827)) is not in pool. Re-compute.\n",
      "Feature for (MD661,246,(6482,892)) is not in pool. Re-compute.\n",
      "Feature for (MD661,246,(6482,957)) is not in pool. Re-compute.\n",
      "Feature for (MD661,246,(6482,1022)) is not in pool. Re-compute.\n",
      "Feature for (MD661,246,(6547,827)) is not in pool. Re-compute.\n",
      "Feature for (MD661,246,(6547,892)) is not in pool. Re-compute.\n",
      "Feature for (MD661,246,(6547,957)) is not in pool. Re-compute.\n",
      "Feature for (MD661,246,(6547,1022)) is not in pool. Re-compute.\n",
      "Feature for (MD661,246,(6612,827)) is not in pool. Re-compute.\n",
      "Feature for (MD661,246,(6612,892)) is not in pool. Re-compute.\n",
      "Feature for (MD661,246,(6612,957)) is not in pool. Re-compute.\n",
      "Feature for (MD661,246,(6677,762)) is not in pool. Re-compute.\n",
      "Feature for (MD661,246,(6677,827)) is not in pool. Re-compute.\n",
      "Feature for (MD661,246,(6677,892)) is not in pool. Re-compute.\n",
      "Feature for (MD661,246,(6677,957)) is not in pool. Re-compute.\n",
      "Feature for (MD661,246,(6742,762)) is not in pool. Re-compute.\n",
      "Feature for (MD661,246,(6742,827)) is not in pool. Re-compute.\n",
      "Feature for (MD661,246,(6807,762)) is not in pool. Re-compute.\n",
      "Feature for (MD661,246,(6807,827)) is not in pool. Re-compute.\n",
      "Feature for (MD661,246,(6872,762)) is not in pool. Re-compute.\n",
      "Feature for (MD661,246,(6872,827)) is not in pool. Re-compute.\n",
      "Feature for (MD661,246,(6937,762)) is not in pool. Re-compute.\n",
      "Not using image_cache.\n",
      "Load image: 19.26 seconds.\n",
      "Extract patches: 19.39 seconds\n"
     ]
    },
    {
     "name": "stdout",
     "output_type": "stream",
     "text": [
      "(256, 1, 224, 224)\n"
     ]
    },
    {
     "name": "stderr",
     "output_type": "stream",
     "text": [
      "Compute features: 0.40 seconds\n"
     ]
    },
    {
     "name": "stdout",
     "output_type": "stream",
     "text": [
      "('MD661', 161)\n",
      "('MD661', 284)\n"
     ]
    },
    {
     "name": "stderr",
     "output_type": "stream",
     "text": [
      "Feature for (MD661,284,(5832,1412)) is not in pool. Re-compute.\n",
      "Feature for (MD661,284,(5897,1217)) is not in pool. Re-compute.\n",
      "Feature for (MD661,284,(5897,1282)) is not in pool. Re-compute.\n",
      "Feature for (MD661,284,(5897,1347)) is not in pool. Re-compute.\n",
      "Feature for (MD661,284,(5897,1412)) is not in pool. Re-compute.\n",
      "Feature for (MD661,284,(5897,1477)) is not in pool. Re-compute.\n",
      "Feature for (MD661,284,(5962,1087)) is not in pool. Re-compute.\n",
      "Feature for (MD661,284,(5962,1152)) is not in pool. Re-compute.\n",
      "Feature for (MD661,284,(5962,1217)) is not in pool. Re-compute.\n",
      "Feature for (MD661,284,(5962,1282)) is not in pool. Re-compute.\n",
      "Feature for (MD661,284,(5962,1347)) is not in pool. Re-compute.\n",
      "Feature for (MD661,284,(5962,1412)) is not in pool. Re-compute.\n",
      "Feature for (MD661,284,(5962,1477)) is not in pool. Re-compute.\n",
      "Feature for (MD661,284,(6027,1022)) is not in pool. Re-compute.\n",
      "Feature for (MD661,284,(6027,1087)) is not in pool. Re-compute.\n",
      "Feature for (MD661,284,(6027,1152)) is not in pool. Re-compute.\n",
      "Feature for (MD661,284,(6027,1217)) is not in pool. Re-compute.\n",
      "Feature for (MD661,284,(6027,1282)) is not in pool. Re-compute.\n",
      "Feature for (MD661,284,(6027,1347)) is not in pool. Re-compute.\n",
      "Feature for (MD661,284,(6092,957)) is not in pool. Re-compute.\n",
      "Feature for (MD661,284,(6092,1022)) is not in pool. Re-compute.\n",
      "Feature for (MD661,284,(6092,1087)) is not in pool. Re-compute.\n",
      "Feature for (MD661,284,(6092,1152)) is not in pool. Re-compute.\n",
      "Feature for (MD661,284,(6092,1217)) is not in pool. Re-compute.\n",
      "Feature for (MD661,284,(6092,1282)) is not in pool. Re-compute.\n",
      "Feature for (MD661,284,(6157,957)) is not in pool. Re-compute.\n",
      "Feature for (MD661,284,(6157,1022)) is not in pool. Re-compute.\n",
      "Feature for (MD661,284,(6157,1087)) is not in pool. Re-compute.\n",
      "Feature for (MD661,284,(6157,1152)) is not in pool. Re-compute.\n",
      "Feature for (MD661,284,(6157,1217)) is not in pool. Re-compute.\n",
      "Feature for (MD661,284,(6222,957)) is not in pool. Re-compute.\n",
      "Feature for (MD661,284,(6222,1022)) is not in pool. Re-compute.\n",
      "Feature for (MD661,284,(6222,1087)) is not in pool. Re-compute.\n",
      "Feature for (MD661,284,(6222,1152)) is not in pool. Re-compute.\n",
      "Feature for (MD661,284,(6222,1217)) is not in pool. Re-compute.\n",
      "Feature for (MD661,284,(6287,1022)) is not in pool. Re-compute.\n",
      "Feature for (MD661,284,(6287,1087)) is not in pool. Re-compute.\n",
      "Feature for (MD661,284,(6287,1152)) is not in pool. Re-compute.\n",
      "Feature for (MD661,284,(6352,1022)) is not in pool. Re-compute.\n",
      "Feature for (MD661,284,(6352,1087)) is not in pool. Re-compute.\n",
      "Feature for (MD661,284,(6417,1087)) is not in pool. Re-compute.\n",
      "Not using image_cache.\n",
      "Load image: 19.69 seconds.\n",
      "Extract patches: 19.84 seconds\n"
     ]
    },
    {
     "name": "stdout",
     "output_type": "stream",
     "text": [
      "(256, 1, 224, 224)\n"
     ]
    },
    {
     "name": "stderr",
     "output_type": "stream",
     "text": [
      "Compute features: 0.37 seconds\n"
     ]
    },
    {
     "name": "stdout",
     "output_type": "stream",
     "text": [
      "('MD661', 227)\n"
     ]
    },
    {
     "name": "stderr",
     "output_type": "stream",
     "text": [
      "Feature for (MD661,227,(6417,827)) is not in pool. Re-compute.\n",
      "Feature for (MD661,227,(6417,892)) is not in pool. Re-compute.\n",
      "Feature for (MD661,227,(6482,762)) is not in pool. Re-compute.\n",
      "Feature for (MD661,227,(6482,827)) is not in pool. Re-compute.\n",
      "Feature for (MD661,227,(6482,892)) is not in pool. Re-compute.\n",
      "Feature for (MD661,227,(6547,762)) is not in pool. Re-compute.\n",
      "Feature for (MD661,227,(6547,827)) is not in pool. Re-compute.\n",
      "Feature for (MD661,227,(6547,892)) is not in pool. Re-compute.\n",
      "Feature for (MD661,227,(6612,697)) is not in pool. Re-compute.\n",
      "Feature for (MD661,227,(6612,762)) is not in pool. Re-compute.\n",
      "Feature for (MD661,227,(6612,827)) is not in pool. Re-compute.\n",
      "Feature for (MD661,227,(6612,892)) is not in pool. Re-compute.\n",
      "Feature for (MD661,227,(6677,632)) is not in pool. Re-compute.\n",
      "Feature for (MD661,227,(6677,697)) is not in pool. Re-compute.\n",
      "Feature for (MD661,227,(6677,762)) is not in pool. Re-compute.\n",
      "Feature for (MD661,227,(6677,827)) is not in pool. Re-compute.\n",
      "Feature for (MD661,227,(6742,632)) is not in pool. Re-compute.\n",
      "Feature for (MD661,227,(6742,697)) is not in pool. Re-compute.\n",
      "Feature for (MD661,227,(6807,632)) is not in pool. Re-compute.\n",
      "Feature for (MD661,227,(6807,697)) is not in pool. Re-compute.\n",
      "Feature for (MD661,227,(6872,632)) is not in pool. Re-compute.\n",
      "Feature for (MD661,227,(6872,697)) is not in pool. Re-compute.\n",
      "Feature for (MD661,227,(6872,762)) is not in pool. Re-compute.\n",
      "Feature for (MD661,227,(6937,632)) is not in pool. Re-compute.\n",
      "Feature for (MD661,227,(6937,697)) is not in pool. Re-compute.\n",
      "Not using image_cache.\n",
      "Load image: 18.86 seconds.\n",
      "Extract patches: 18.99 seconds\n"
     ]
    },
    {
     "name": "stdout",
     "output_type": "stream",
     "text": [
      "(256, 1, 224, 224)\n"
     ]
    },
    {
     "name": "stderr",
     "output_type": "stream",
     "text": [
      "Compute features: 0.40 seconds\n"
     ]
    },
    {
     "name": "stdout",
     "output_type": "stream",
     "text": [
      "('MD662', 275)\n"
     ]
    },
    {
     "name": "stderr",
     "output_type": "stream",
     "text": [
      "Feature for (MD662,275,(4727,1672)) is not in pool. Re-compute.\n",
      "Feature for (MD662,275,(4727,1737)) is not in pool. Re-compute.\n",
      "Feature for (MD662,275,(4727,1802)) is not in pool. Re-compute.\n",
      "Feature for (MD662,275,(4792,1607)) is not in pool. Re-compute.\n",
      "Feature for (MD662,275,(4792,1672)) is not in pool. Re-compute.\n",
      "Feature for (MD662,275,(4792,1737)) is not in pool. Re-compute.\n",
      "Feature for (MD662,275,(4792,1802)) is not in pool. Re-compute.\n",
      "Feature for (MD662,275,(4857,1607)) is not in pool. Re-compute.\n",
      "Feature for (MD662,275,(4857,1672)) is not in pool. Re-compute.\n",
      "Feature for (MD662,275,(4857,1737)) is not in pool. Re-compute.\n",
      "Feature for (MD662,275,(4857,1802)) is not in pool. Re-compute.\n",
      "Feature for (MD662,275,(4922,1607)) is not in pool. Re-compute.\n",
      "Feature for (MD662,275,(4922,1672)) is not in pool. Re-compute.\n",
      "Feature for (MD662,275,(4922,1737)) is not in pool. Re-compute.\n",
      "Feature for (MD662,275,(4987,1607)) is not in pool. Re-compute.\n",
      "Feature for (MD662,275,(4987,1672)) is not in pool. Re-compute.\n",
      "Feature for (MD662,275,(5052,1607)) is not in pool. Re-compute.\n",
      "Not using image_cache.\n",
      "Load image: 16.35 seconds.\n",
      "Extract patches: 16.45 seconds\n"
     ]
    },
    {
     "name": "stdout",
     "output_type": "stream",
     "text": [
      "(256, 1, 224, 224)\n"
     ]
    },
    {
     "name": "stderr",
     "output_type": "stream",
     "text": [
      "Compute features: 0.38 seconds\n"
     ]
    },
    {
     "name": "stdout",
     "output_type": "stream",
     "text": [
      "('MD662', 213)\n"
     ]
    },
    {
     "name": "stderr",
     "output_type": "stream",
     "text": [
      "Feature for (MD662,213,(5312,1672)) is not in pool. Re-compute.\n",
      "Feature for (MD662,213,(5312,1737)) is not in pool. Re-compute.\n",
      "Feature for (MD662,213,(5312,1802)) is not in pool. Re-compute.\n",
      "Feature for (MD662,213,(5312,1867)) is not in pool. Re-compute.\n",
      "Feature for (MD662,213,(5377,1607)) is not in pool. Re-compute.\n",
      "Feature for (MD662,213,(5377,1672)) is not in pool. Re-compute.\n",
      "Feature for (MD662,213,(5377,1737)) is not in pool. Re-compute.\n",
      "Feature for (MD662,213,(5377,1802)) is not in pool. Re-compute.\n",
      "Feature for (MD662,213,(5442,1542)) is not in pool. Re-compute.\n",
      "Feature for (MD662,213,(5442,1607)) is not in pool. Re-compute.\n",
      "Feature for (MD662,213,(5442,1672)) is not in pool. Re-compute.\n",
      "Feature for (MD662,213,(5442,1737)) is not in pool. Re-compute.\n",
      "Feature for (MD662,213,(5507,1477)) is not in pool. Re-compute.\n",
      "Feature for (MD662,213,(5507,1542)) is not in pool. Re-compute.\n",
      "Feature for (MD662,213,(5507,1607)) is not in pool. Re-compute.\n",
      "Feature for (MD662,213,(5507,1672)) is not in pool. Re-compute.\n",
      "Feature for (MD662,213,(5507,1737)) is not in pool. Re-compute.\n",
      "Feature for (MD662,213,(5572,1412)) is not in pool. Re-compute.\n",
      "Feature for (MD662,213,(5572,1477)) is not in pool. Re-compute.\n",
      "Feature for (MD662,213,(5572,1542)) is not in pool. Re-compute.\n",
      "Feature for (MD662,213,(5572,1607)) is not in pool. Re-compute.\n",
      "Feature for (MD662,213,(5572,1672)) is not in pool. Re-compute.\n",
      "Feature for (MD662,213,(5637,1412)) is not in pool. Re-compute.\n",
      "Feature for (MD662,213,(5637,1477)) is not in pool. Re-compute.\n",
      "Feature for (MD662,213,(5637,1542)) is not in pool. Re-compute.\n",
      "Feature for (MD662,213,(5637,1607)) is not in pool. Re-compute.\n",
      "Feature for (MD662,213,(5702,1347)) is not in pool. Re-compute.\n",
      "Feature for (MD662,213,(5702,1412)) is not in pool. Re-compute.\n",
      "Feature for (MD662,213,(5702,1477)) is not in pool. Re-compute.\n",
      "Feature for (MD662,213,(5702,1542)) is not in pool. Re-compute.\n",
      "Feature for (MD662,213,(5702,1607)) is not in pool. Re-compute.\n",
      "Feature for (MD662,213,(5767,1347)) is not in pool. Re-compute.\n",
      "Feature for (MD662,213,(5767,1412)) is not in pool. Re-compute.\n",
      "Feature for (MD662,213,(5767,1477)) is not in pool. Re-compute.\n",
      "Feature for (MD662,213,(5767,1542)) is not in pool. Re-compute.\n",
      "Feature for (MD662,213,(5832,1347)) is not in pool. Re-compute.\n",
      "Feature for (MD662,213,(5832,1412)) is not in pool. Re-compute.\n",
      "Not using image_cache.\n",
      "Load image: 17.82 seconds.\n",
      "Extract patches: 17.95 seconds\n"
     ]
    },
    {
     "name": "stdout",
     "output_type": "stream",
     "text": [
      "(256, 1, 224, 224)\n"
     ]
    },
    {
     "name": "stderr",
     "output_type": "stream",
     "text": [
      "Compute features: 0.38 seconds\n"
     ]
    },
    {
     "name": "stdout",
     "output_type": "stream",
     "text": [
      "('MD662', 221)\n"
     ]
    },
    {
     "name": "stderr",
     "output_type": "stream",
     "text": [
      "Feature for (MD662,221,(5377,1932)) is not in pool. Re-compute.\n",
      "Feature for (MD662,221,(5377,1997)) is not in pool. Re-compute.\n",
      "Feature for (MD662,221,(5377,2062)) is not in pool. Re-compute.\n",
      "Feature for (MD662,221,(5442,1802)) is not in pool. Re-compute.\n",
      "Feature for (MD662,221,(5442,1867)) is not in pool. Re-compute.\n",
      "Feature for (MD662,221,(5442,1932)) is not in pool. Re-compute.\n",
      "Feature for (MD662,221,(5442,1997)) is not in pool. Re-compute.\n",
      "Feature for (MD662,221,(5507,1737)) is not in pool. Re-compute.\n",
      "Feature for (MD662,221,(5507,1802)) is not in pool. Re-compute.\n",
      "Feature for (MD662,221,(5507,1867)) is not in pool. Re-compute.\n",
      "Feature for (MD662,221,(5507,1932)) is not in pool. Re-compute.\n",
      "Feature for (MD662,221,(5572,1672)) is not in pool. Re-compute.\n",
      "Feature for (MD662,221,(5572,1737)) is not in pool. Re-compute.\n",
      "Not using image_cache.\n",
      "Load image: 17.44 seconds.\n",
      "Extract patches: 17.55 seconds\n"
     ]
    },
    {
     "name": "stdout",
     "output_type": "stream",
     "text": [
      "(256, 1, 224, 224)\n"
     ]
    },
    {
     "name": "stderr",
     "output_type": "stream",
     "text": [
      "Compute features: 0.39 seconds\n"
     ]
    },
    {
     "name": "stdout",
     "output_type": "stream",
     "text": [
      "('MD661', 262)\n"
     ]
    },
    {
     "name": "stderr",
     "output_type": "stream",
     "text": [
      "Feature for (MD661,262,(5962,1152)) is not in pool. Re-compute.\n",
      "Feature for (MD661,262,(6027,957)) is not in pool. Re-compute.\n",
      "Feature for (MD661,262,(6027,1022)) is not in pool. Re-compute.\n",
      "Feature for (MD661,262,(6027,1087)) is not in pool. Re-compute.\n",
      "Feature for (MD661,262,(6027,1152)) is not in pool. Re-compute.\n",
      "Feature for (MD661,262,(6027,1217)) is not in pool. Re-compute.\n",
      "Feature for (MD661,262,(6092,892)) is not in pool. Re-compute.\n",
      "Feature for (MD661,262,(6092,957)) is not in pool. Re-compute.\n",
      "Feature for (MD661,262,(6092,1022)) is not in pool. Re-compute.\n",
      "Feature for (MD661,262,(6092,1087)) is not in pool. Re-compute.\n",
      "Feature for (MD661,262,(6092,1152)) is not in pool. Re-compute.\n",
      "Feature for (MD661,262,(6157,827)) is not in pool. Re-compute.\n",
      "Feature for (MD661,262,(6157,892)) is not in pool. Re-compute.\n",
      "Feature for (MD661,262,(6157,957)) is not in pool. Re-compute.\n",
      "Feature for (MD661,262,(6157,1022)) is not in pool. Re-compute.\n",
      "Feature for (MD661,262,(6157,1087)) is not in pool. Re-compute.\n",
      "Feature for (MD661,262,(6222,827)) is not in pool. Re-compute.\n",
      "Feature for (MD661,262,(6222,892)) is not in pool. Re-compute.\n",
      "Feature for (MD661,262,(6222,957)) is not in pool. Re-compute.\n",
      "Feature for (MD661,262,(6287,762)) is not in pool. Re-compute.\n",
      "Feature for (MD661,262,(6287,827)) is not in pool. Re-compute.\n",
      "Feature for (MD661,262,(6352,697)) is not in pool. Re-compute.\n",
      "Feature for (MD661,262,(6352,762)) is not in pool. Re-compute.\n",
      "Feature for (MD661,262,(6352,827)) is not in pool. Re-compute.\n",
      "Feature for (MD661,262,(6417,632)) is not in pool. Re-compute.\n",
      "Feature for (MD661,262,(6417,697)) is not in pool. Re-compute.\n",
      "Feature for (MD661,262,(6417,762)) is not in pool. Re-compute.\n",
      "Feature for (MD661,262,(6482,632)) is not in pool. Re-compute.\n",
      "Feature for (MD661,262,(6482,697)) is not in pool. Re-compute.\n",
      "Feature for (MD661,262,(6482,762)) is not in pool. Re-compute.\n",
      "Feature for (MD661,262,(6482,827)) is not in pool. Re-compute.\n",
      "Feature for (MD661,262,(6547,567)) is not in pool. Re-compute.\n",
      "Feature for (MD661,262,(6547,632)) is not in pool. Re-compute.\n",
      "Feature for (MD661,262,(6547,697)) is not in pool. Re-compute.\n",
      "Feature for (MD661,262,(6547,762)) is not in pool. Re-compute.\n",
      "Feature for (MD661,262,(6547,827)) is not in pool. Re-compute.\n",
      "Feature for (MD661,262,(6547,892)) is not in pool. Re-compute.\n",
      "Feature for (MD661,262,(6612,567)) is not in pool. Re-compute.\n",
      "Feature for (MD661,262,(6612,632)) is not in pool. Re-compute.\n",
      "Feature for (MD661,262,(6612,697)) is not in pool. Re-compute.\n",
      "Feature for (MD661,262,(6612,762)) is not in pool. Re-compute.\n",
      "Feature for (MD661,262,(6612,827)) is not in pool. Re-compute.\n",
      "Feature for (MD661,262,(6612,892)) is not in pool. Re-compute.\n",
      "Feature for (MD661,262,(6612,957)) is not in pool. Re-compute.\n",
      "Feature for (MD661,262,(6677,567)) is not in pool. Re-compute.\n",
      "Feature for (MD661,262,(6677,632)) is not in pool. Re-compute.\n",
      "Feature for (MD661,262,(6677,697)) is not in pool. Re-compute.\n",
      "Feature for (MD661,262,(6677,762)) is not in pool. Re-compute.\n",
      "Feature for (MD661,262,(6677,827)) is not in pool. Re-compute.\n",
      "Feature for (MD661,262,(6677,892)) is not in pool. Re-compute.\n",
      "Feature for (MD661,262,(6742,632)) is not in pool. Re-compute.\n",
      "Feature for (MD661,262,(6742,697)) is not in pool. Re-compute.\n",
      "Feature for (MD661,262,(6742,762)) is not in pool. Re-compute.\n",
      "Feature for (MD661,262,(6742,827)) is not in pool. Re-compute.\n",
      "Feature for (MD661,262,(6742,892)) is not in pool. Re-compute.\n",
      "Feature for (MD661,262,(6807,697)) is not in pool. Re-compute.\n",
      "Feature for (MD661,262,(6807,762)) is not in pool. Re-compute.\n",
      "Feature for (MD661,262,(6807,827)) is not in pool. Re-compute.\n",
      "Feature for (MD661,262,(6807,892)) is not in pool. Re-compute.\n",
      "Feature for (MD661,262,(6872,762)) is not in pool. Re-compute.\n",
      "Feature for (MD661,262,(6872,827)) is not in pool. Re-compute.\n",
      "Feature for (MD661,262,(6872,892)) is not in pool. Re-compute.\n",
      "Not using image_cache.\n",
      "Load image: 17.89 seconds.\n",
      "Extract patches: 18.06 seconds\n"
     ]
    },
    {
     "name": "stdout",
     "output_type": "stream",
     "text": [
      "(256, 1, 224, 224)\n"
     ]
    },
    {
     "name": "stderr",
     "output_type": "stream",
     "text": [
      "Compute features: 0.38 seconds\n"
     ]
    },
    {
     "name": "stdout",
     "output_type": "stream",
     "text": [
      "('MD662', 231)\n"
     ]
    },
    {
     "name": "stderr",
     "output_type": "stream",
     "text": [
      "Feature for (MD662,231,(5312,1607)) is not in pool. Re-compute.\n",
      "Feature for (MD662,231,(5312,1672)) is not in pool. Re-compute.\n",
      "Feature for (MD662,231,(5312,1737)) is not in pool. Re-compute.\n",
      "Feature for (MD662,231,(5377,1542)) is not in pool. Re-compute.\n",
      "Feature for (MD662,231,(5377,1607)) is not in pool. Re-compute.\n",
      "Feature for (MD662,231,(5377,1672)) is not in pool. Re-compute.\n",
      "Feature for (MD662,231,(5377,1737)) is not in pool. Re-compute.\n",
      "Feature for (MD662,231,(5442,1477)) is not in pool. Re-compute.\n",
      "Feature for (MD662,231,(5442,1542)) is not in pool. Re-compute.\n",
      "Feature for (MD662,231,(5442,1607)) is not in pool. Re-compute.\n",
      "Feature for (MD662,231,(5442,1672)) is not in pool. Re-compute.\n",
      "Feature for (MD662,231,(5507,1477)) is not in pool. Re-compute.\n",
      "Feature for (MD662,231,(5507,1542)) is not in pool. Re-compute.\n",
      "Feature for (MD662,231,(5507,1607)) is not in pool. Re-compute.\n",
      "Feature for (MD662,231,(5572,1477)) is not in pool. Re-compute.\n",
      "Feature for (MD662,231,(5572,1542)) is not in pool. Re-compute.\n",
      "Feature for (MD662,231,(5572,1607)) is not in pool. Re-compute.\n",
      "Feature for (MD662,231,(5637,1412)) is not in pool. Re-compute.\n",
      "Feature for (MD662,231,(5637,1477)) is not in pool. Re-compute.\n",
      "Feature for (MD662,231,(5637,1542)) is not in pool. Re-compute.\n",
      "Feature for (MD662,231,(5637,1607)) is not in pool. Re-compute.\n",
      "Feature for (MD662,231,(5702,1412)) is not in pool. Re-compute.\n",
      "Feature for (MD662,231,(5702,1477)) is not in pool. Re-compute.\n",
      "Feature for (MD662,231,(5702,1542)) is not in pool. Re-compute.\n",
      "Not using image_cache.\n",
      "Load image: 16.27 seconds.\n",
      "Extract patches: 16.38 seconds\n"
     ]
    },
    {
     "name": "stdout",
     "output_type": "stream",
     "text": [
      "(256, 1, 224, 224)\n"
     ]
    },
    {
     "name": "stderr",
     "output_type": "stream",
     "text": [
      "Compute features: 0.37 seconds\n"
     ]
    },
    {
     "name": "stdout",
     "output_type": "stream",
     "text": [
      "('MD661', 210)\n"
     ]
    },
    {
     "name": "stderr",
     "output_type": "stream",
     "text": [
      "Feature for (MD661,210,(6157,632)) is not in pool. Re-compute.\n",
      "Feature for (MD661,210,(6157,697)) is not in pool. Re-compute.\n",
      "Feature for (MD661,210,(6157,762)) is not in pool. Re-compute.\n",
      "Feature for (MD661,210,(6157,827)) is not in pool. Re-compute.\n",
      "Feature for (MD661,210,(6222,632)) is not in pool. Re-compute.\n",
      "Feature for (MD661,210,(6222,697)) is not in pool. Re-compute.\n",
      "Feature for (MD661,210,(6222,762)) is not in pool. Re-compute.\n",
      "Feature for (MD661,210,(6222,827)) is not in pool. Re-compute.\n",
      "Feature for (MD661,210,(6287,502)) is not in pool. Re-compute.\n",
      "Feature for (MD661,210,(6287,567)) is not in pool. Re-compute.\n",
      "Feature for (MD661,210,(6287,632)) is not in pool. Re-compute.\n",
      "Feature for (MD661,210,(6287,697)) is not in pool. Re-compute.\n",
      "Feature for (MD661,210,(6287,762)) is not in pool. Re-compute.\n",
      "Feature for (MD661,210,(6287,827)) is not in pool. Re-compute.\n",
      "Feature for (MD661,210,(6352,437)) is not in pool. Re-compute.\n",
      "Feature for (MD661,210,(6352,502)) is not in pool. Re-compute.\n",
      "Feature for (MD661,210,(6352,567)) is not in pool. Re-compute.\n",
      "Feature for (MD661,210,(6352,632)) is not in pool. Re-compute.\n",
      "Feature for (MD661,210,(6352,697)) is not in pool. Re-compute.\n",
      "Feature for (MD661,210,(6352,762)) is not in pool. Re-compute.\n",
      "Feature for (MD661,210,(6417,437)) is not in pool. Re-compute.\n",
      "Feature for (MD661,210,(6417,502)) is not in pool. Re-compute.\n",
      "Feature for (MD661,210,(6417,567)) is not in pool. Re-compute.\n",
      "Feature for (MD661,210,(6417,632)) is not in pool. Re-compute.\n",
      "Feature for (MD661,210,(6417,697)) is not in pool. Re-compute.\n",
      "Feature for (MD661,210,(6482,372)) is not in pool. Re-compute.\n",
      "Feature for (MD661,210,(6482,437)) is not in pool. Re-compute.\n",
      "Feature for (MD661,210,(6482,502)) is not in pool. Re-compute.\n",
      "Feature for (MD661,210,(6482,567)) is not in pool. Re-compute.\n",
      "Feature for (MD661,210,(6482,632)) is not in pool. Re-compute.\n",
      "Feature for (MD661,210,(6482,697)) is not in pool. Re-compute.\n",
      "Feature for (MD661,210,(6482,762)) is not in pool. Re-compute.\n",
      "Feature for (MD661,210,(6547,307)) is not in pool. Re-compute.\n",
      "Feature for (MD661,210,(6547,372)) is not in pool. Re-compute.\n",
      "Feature for (MD661,210,(6547,437)) is not in pool. Re-compute.\n",
      "Feature for (MD661,210,(6547,502)) is not in pool. Re-compute.\n",
      "Feature for (MD661,210,(6547,567)) is not in pool. Re-compute.\n",
      "Feature for (MD661,210,(6547,632)) is not in pool. Re-compute.\n",
      "Feature for (MD661,210,(6547,697)) is not in pool. Re-compute.\n",
      "Feature for (MD661,210,(6547,762)) is not in pool. Re-compute.\n",
      "Feature for (MD661,210,(6612,372)) is not in pool. Re-compute.\n",
      "Feature for (MD661,210,(6612,437)) is not in pool. Re-compute.\n",
      "Feature for (MD661,210,(6612,502)) is not in pool. Re-compute.\n",
      "Feature for (MD661,210,(6612,567)) is not in pool. Re-compute.\n",
      "Feature for (MD661,210,(6612,632)) is not in pool. Re-compute.\n",
      "Feature for (MD661,210,(6612,697)) is not in pool. Re-compute.\n",
      "Feature for (MD661,210,(6677,437)) is not in pool. Re-compute.\n",
      "Feature for (MD661,210,(6677,502)) is not in pool. Re-compute.\n",
      "Feature for (MD661,210,(6677,567)) is not in pool. Re-compute.\n",
      "Feature for (MD661,210,(6677,632)) is not in pool. Re-compute.\n",
      "Feature for (MD661,210,(6677,697)) is not in pool. Re-compute.\n",
      "Feature for (MD661,210,(6742,502)) is not in pool. Re-compute.\n",
      "Feature for (MD661,210,(6742,567)) is not in pool. Re-compute.\n",
      "Feature for (MD661,210,(6742,632)) is not in pool. Re-compute.\n",
      "Feature for (MD661,210,(6742,697)) is not in pool. Re-compute.\n",
      "Feature for (MD661,210,(6807,502)) is not in pool. Re-compute.\n",
      "Feature for (MD661,210,(6807,567)) is not in pool. Re-compute.\n",
      "Feature for (MD661,210,(6807,632)) is not in pool. Re-compute.\n",
      "Feature for (MD661,210,(6872,567)) is not in pool. Re-compute.\n",
      "Feature for (MD661,210,(6872,632)) is not in pool. Re-compute.\n",
      "Not using image_cache.\n",
      "Load image: 17.51 seconds.\n",
      "Extract patches: 17.66 seconds\n"
     ]
    },
    {
     "name": "stdout",
     "output_type": "stream",
     "text": [
      "(256, 1, 224, 224)\n"
     ]
    },
    {
     "name": "stderr",
     "output_type": "stream",
     "text": [
      "Compute features: 0.39 seconds\n"
     ]
    },
    {
     "name": "stdout",
     "output_type": "stream",
     "text": [
      "('MD661', 186)\n"
     ]
    },
    {
     "name": "stderr",
     "output_type": "stream",
     "text": [
      "Feature for (MD661,186,(6027,827)) is not in pool. Re-compute.\n",
      "Feature for (MD661,186,(6027,892)) is not in pool. Re-compute.\n",
      "Feature for (MD661,186,(6027,957)) is not in pool. Re-compute.\n",
      "Feature for (MD661,186,(6092,697)) is not in pool. Re-compute.\n",
      "Feature for (MD661,186,(6092,762)) is not in pool. Re-compute.\n",
      "Feature for (MD661,186,(6092,827)) is not in pool. Re-compute.\n",
      "Feature for (MD661,186,(6092,892)) is not in pool. Re-compute.\n",
      "Feature for (MD661,186,(6157,697)) is not in pool. Re-compute.\n",
      "Feature for (MD661,186,(6157,762)) is not in pool. Re-compute.\n",
      "Feature for (MD661,186,(6222,697)) is not in pool. Re-compute.\n",
      "Not using image_cache.\n",
      "Load image: 17.29 seconds.\n",
      "Extract patches: 17.40 seconds\n"
     ]
    },
    {
     "name": "stdout",
     "output_type": "stream",
     "text": [
      "(256, 1, 224, 224)\n"
     ]
    },
    {
     "name": "stderr",
     "output_type": "stream",
     "text": [
      "Compute features: 0.37 seconds\n"
     ]
    },
    {
     "name": "stdout",
     "output_type": "stream",
     "text": [
      "('MD662', 157)\n",
      "('MD661', 288)\n"
     ]
    },
    {
     "name": "stderr",
     "output_type": "stream",
     "text": [
      "Feature for (MD661,288,(6027,1087)) is not in pool. Re-compute.\n",
      "Feature for (MD661,288,(6092,1087)) is not in pool. Re-compute.\n",
      "Feature for (MD661,288,(6092,1152)) is not in pool. Re-compute.\n",
      "Feature for (MD661,288,(6157,1152)) is not in pool. Re-compute.\n",
      "Feature for (MD661,288,(6222,1152)) is not in pool. Re-compute.\n",
      "Feature for (MD661,288,(6287,1152)) is not in pool. Re-compute.\n",
      "Not using image_cache.\n",
      "Load image: 17.59 seconds.\n",
      "Extract patches: 17.70 seconds\n"
     ]
    },
    {
     "name": "stdout",
     "output_type": "stream",
     "text": [
      "(256, 1, 224, 224)\n"
     ]
    },
    {
     "name": "stderr",
     "output_type": "stream",
     "text": [
      "Compute features: 0.37 seconds\n"
     ]
    },
    {
     "name": "stdout",
     "output_type": "stream",
     "text": [
      "('MD662', 175)\n"
     ]
    },
    {
     "name": "stderr",
     "output_type": "stream",
     "text": [
      "Feature for (MD662,175,(5117,1932)) is not in pool. Re-compute.\n",
      "Feature for (MD662,175,(5117,1997)) is not in pool. Re-compute.\n",
      "Feature for (MD662,175,(5117,2062)) is not in pool. Re-compute.\n",
      "Feature for (MD662,175,(5117,2127)) is not in pool. Re-compute.\n",
      "Feature for (MD662,175,(5117,2192)) is not in pool. Re-compute.\n",
      "Feature for (MD662,175,(5117,2257)) is not in pool. Re-compute.\n",
      "Feature for (MD662,175,(5117,2322)) is not in pool. Re-compute.\n",
      "Feature for (MD662,175,(5182,1737)) is not in pool. Re-compute.\n",
      "Feature for (MD662,175,(5182,1802)) is not in pool. Re-compute.\n",
      "Feature for (MD662,175,(5182,1867)) is not in pool. Re-compute.\n",
      "Feature for (MD662,175,(5182,1932)) is not in pool. Re-compute.\n",
      "Feature for (MD662,175,(5182,1997)) is not in pool. Re-compute.\n",
      "Feature for (MD662,175,(5182,2062)) is not in pool. Re-compute.\n",
      "Feature for (MD662,175,(5182,2127)) is not in pool. Re-compute.\n",
      "Feature for (MD662,175,(5182,2192)) is not in pool. Re-compute.\n",
      "Feature for (MD662,175,(5247,1737)) is not in pool. Re-compute.\n",
      "Feature for (MD662,175,(5247,1802)) is not in pool. Re-compute.\n",
      "Feature for (MD662,175,(5247,1867)) is not in pool. Re-compute.\n",
      "Feature for (MD662,175,(5247,1932)) is not in pool. Re-compute.\n",
      "Feature for (MD662,175,(5247,1997)) is not in pool. Re-compute.\n",
      "Feature for (MD662,175,(5247,2062)) is not in pool. Re-compute.\n",
      "Feature for (MD662,175,(5312,1737)) is not in pool. Re-compute.\n",
      "Feature for (MD662,175,(5312,1802)) is not in pool. Re-compute.\n",
      "Feature for (MD662,175,(5312,1867)) is not in pool. Re-compute.\n",
      "Feature for (MD662,175,(5312,1932)) is not in pool. Re-compute.\n",
      "Feature for (MD662,175,(5312,1997)) is not in pool. Re-compute.\n",
      "Feature for (MD662,175,(5377,1737)) is not in pool. Re-compute.\n",
      "Feature for (MD662,175,(5377,1802)) is not in pool. Re-compute.\n",
      "Feature for (MD662,175,(5377,1867)) is not in pool. Re-compute.\n",
      "Feature for (MD662,175,(5377,1932)) is not in pool. Re-compute.\n",
      "Feature for (MD662,175,(5442,1737)) is not in pool. Re-compute.\n",
      "Feature for (MD662,175,(5442,1802)) is not in pool. Re-compute.\n",
      "Feature for (MD662,175,(5442,1867)) is not in pool. Re-compute.\n",
      "Feature for (MD662,175,(5507,1802)) is not in pool. Re-compute.\n",
      "Not using image_cache.\n",
      "Load image: 14.69 seconds.\n",
      "Extract patches: 14.80 seconds\n"
     ]
    },
    {
     "name": "stdout",
     "output_type": "stream",
     "text": [
      "(256, 1, 224, 224)\n"
     ]
    },
    {
     "name": "stderr",
     "output_type": "stream",
     "text": [
      "Compute features: 0.39 seconds\n"
     ]
    },
    {
     "name": "stdout",
     "output_type": "stream",
     "text": [
      "('MD661', 252)\n"
     ]
    },
    {
     "name": "stderr",
     "output_type": "stream",
     "text": [
      "Feature for (MD661,252,(6092,1087)) is not in pool. Re-compute.\n",
      "Feature for (MD661,252,(6157,957)) is not in pool. Re-compute.\n",
      "Feature for (MD661,252,(6157,1022)) is not in pool. Re-compute.\n",
      "Feature for (MD661,252,(6222,892)) is not in pool. Re-compute.\n",
      "Feature for (MD661,252,(6222,957)) is not in pool. Re-compute.\n",
      "Feature for (MD661,252,(6222,1022)) is not in pool. Re-compute.\n",
      "Feature for (MD661,252,(6287,827)) is not in pool. Re-compute.\n",
      "Feature for (MD661,252,(6287,892)) is not in pool. Re-compute.\n",
      "Feature for (MD661,252,(6287,957)) is not in pool. Re-compute.\n",
      "Feature for (MD661,252,(6352,827)) is not in pool. Re-compute.\n",
      "Feature for (MD661,252,(6352,892)) is not in pool. Re-compute.\n",
      "Feature for (MD661,252,(6417,762)) is not in pool. Re-compute.\n",
      "Feature for (MD661,252,(6417,827)) is not in pool. Re-compute.\n",
      "Feature for (MD661,252,(6417,892)) is not in pool. Re-compute.\n",
      "Feature for (MD661,252,(6482,762)) is not in pool. Re-compute.\n",
      "Feature for (MD661,252,(6482,827)) is not in pool. Re-compute.\n",
      "Feature for (MD661,252,(6482,892)) is not in pool. Re-compute.\n",
      "Feature for (MD661,252,(6482,957)) is not in pool. Re-compute.\n",
      "Feature for (MD661,252,(6547,697)) is not in pool. Re-compute.\n",
      "Feature for (MD661,252,(6547,762)) is not in pool. Re-compute.\n",
      "Feature for (MD661,252,(6547,827)) is not in pool. Re-compute.\n",
      "Feature for (MD661,252,(6547,892)) is not in pool. Re-compute.\n",
      "Feature for (MD661,252,(6547,957)) is not in pool. Re-compute.\n",
      "Feature for (MD661,252,(6612,632)) is not in pool. Re-compute.\n",
      "Feature for (MD661,252,(6612,697)) is not in pool. Re-compute.\n",
      "Feature for (MD661,252,(6612,762)) is not in pool. Re-compute.\n",
      "Feature for (MD661,252,(6612,827)) is not in pool. Re-compute.\n",
      "Feature for (MD661,252,(6612,892)) is not in pool. Re-compute.\n",
      "Feature for (MD661,252,(6677,632)) is not in pool. Re-compute.\n",
      "Feature for (MD661,252,(6677,697)) is not in pool. Re-compute.\n",
      "Feature for (MD661,252,(6677,762)) is not in pool. Re-compute.\n",
      "Feature for (MD661,252,(6742,632)) is not in pool. Re-compute.\n",
      "Feature for (MD661,252,(6742,697)) is not in pool. Re-compute.\n",
      "Feature for (MD661,252,(6742,762)) is not in pool. Re-compute.\n",
      "Feature for (MD661,252,(6742,892)) is not in pool. Re-compute.\n",
      "Feature for (MD661,252,(6742,957)) is not in pool. Re-compute.\n",
      "Feature for (MD661,252,(6807,632)) is not in pool. Re-compute.\n",
      "Feature for (MD661,252,(6807,697)) is not in pool. Re-compute.\n",
      "Feature for (MD661,252,(6807,762)) is not in pool. Re-compute.\n",
      "Feature for (MD661,252,(6807,827)) is not in pool. Re-compute.\n",
      "Feature for (MD661,252,(6807,892)) is not in pool. Re-compute.\n",
      "Feature for (MD661,252,(6807,957)) is not in pool. Re-compute.\n",
      "Feature for (MD661,252,(6872,632)) is not in pool. Re-compute.\n",
      "Feature for (MD661,252,(6872,697)) is not in pool. Re-compute.\n",
      "Feature for (MD661,252,(6872,762)) is not in pool. Re-compute.\n",
      "Feature for (MD661,252,(6872,827)) is not in pool. Re-compute.\n",
      "Feature for (MD661,252,(6872,892)) is not in pool. Re-compute.\n",
      "Feature for (MD661,252,(6937,697)) is not in pool. Re-compute.\n",
      "Feature for (MD661,252,(6937,762)) is not in pool. Re-compute.\n",
      "Feature for (MD661,252,(6937,827)) is not in pool. Re-compute.\n",
      "Feature for (MD661,252,(6937,892)) is not in pool. Re-compute.\n",
      "Feature for (MD661,252,(7002,762)) is not in pool. Re-compute.\n",
      "Feature for (MD661,252,(7002,827)) is not in pool. Re-compute.\n",
      "Not using image_cache.\n",
      "Load image: 17.58 seconds.\n",
      "Extract patches: 17.74 seconds\n"
     ]
    },
    {
     "name": "stdout",
     "output_type": "stream",
     "text": [
      "(256, 1, 224, 224)\n"
     ]
    },
    {
     "name": "stderr",
     "output_type": "stream",
     "text": [
      "Compute features: 0.38 seconds\n"
     ]
    },
    {
     "name": "stdout",
     "output_type": "stream",
     "text": [
      "('MD662', 250)\n"
     ]
    },
    {
     "name": "stderr",
     "output_type": "stream",
     "text": [
      "Feature for (MD662,250,(4922,1542)) is not in pool. Re-compute.\n",
      "Feature for (MD662,250,(4922,1607)) is not in pool. Re-compute.\n",
      "Feature for (MD662,250,(4922,1672)) is not in pool. Re-compute.\n",
      "Feature for (MD662,250,(4922,1737)) is not in pool. Re-compute.\n",
      "Feature for (MD662,250,(4922,1802)) is not in pool. Re-compute.\n",
      "Feature for (MD662,250,(4987,1412)) is not in pool. Re-compute.\n",
      "Feature for (MD662,250,(4987,1477)) is not in pool. Re-compute.\n",
      "Feature for (MD662,250,(4987,1542)) is not in pool. Re-compute.\n",
      "Feature for (MD662,250,(4987,1607)) is not in pool. Re-compute.\n",
      "Feature for (MD662,250,(4987,1672)) is not in pool. Re-compute.\n",
      "Feature for (MD662,250,(5052,1347)) is not in pool. Re-compute.\n",
      "Feature for (MD662,250,(5052,1412)) is not in pool. Re-compute.\n",
      "Feature for (MD662,250,(5052,1477)) is not in pool. Re-compute.\n",
      "Feature for (MD662,250,(5052,1542)) is not in pool. Re-compute.\n",
      "Feature for (MD662,250,(5117,1282)) is not in pool. Re-compute.\n",
      "Feature for (MD662,250,(5117,1347)) is not in pool. Re-compute.\n",
      "Feature for (MD662,250,(5117,1412)) is not in pool. Re-compute.\n",
      "Feature for (MD662,250,(5117,1477)) is not in pool. Re-compute.\n",
      "Feature for (MD662,250,(5182,1217)) is not in pool. Re-compute.\n",
      "Feature for (MD662,250,(5182,1282)) is not in pool. Re-compute.\n",
      "Feature for (MD662,250,(5182,1347)) is not in pool. Re-compute.\n",
      "Feature for (MD662,250,(5182,1412)) is not in pool. Re-compute.\n",
      "Feature for (MD662,250,(5247,1152)) is not in pool. Re-compute.\n",
      "Feature for (MD662,250,(5247,1217)) is not in pool. Re-compute.\n",
      "Feature for (MD662,250,(5247,1282)) is not in pool. Re-compute.\n",
      "Feature for (MD662,250,(5247,1347)) is not in pool. Re-compute.\n",
      "Feature for (MD662,250,(5247,1412)) is not in pool. Re-compute.\n",
      "Feature for (MD662,250,(5312,1152)) is not in pool. Re-compute.\n",
      "Feature for (MD662,250,(5312,1217)) is not in pool. Re-compute.\n",
      "Feature for (MD662,250,(5312,1282)) is not in pool. Re-compute.\n",
      "Feature for (MD662,250,(5312,1347)) is not in pool. Re-compute.\n",
      "Feature for (MD662,250,(5377,1152)) is not in pool. Re-compute.\n",
      "Feature for (MD662,250,(5377,1217)) is not in pool. Re-compute.\n",
      "Feature for (MD662,250,(5377,1282)) is not in pool. Re-compute.\n",
      "Feature for (MD662,250,(5377,1347)) is not in pool. Re-compute.\n",
      "Feature for (MD662,250,(5442,1152)) is not in pool. Re-compute.\n",
      "Feature for (MD662,250,(5442,1217)) is not in pool. Re-compute.\n",
      "Feature for (MD662,250,(5442,1282)) is not in pool. Re-compute.\n",
      "Feature for (MD662,250,(5507,1152)) is not in pool. Re-compute.\n",
      "Feature for (MD662,250,(5507,1217)) is not in pool. Re-compute.\n",
      "Feature for (MD662,250,(5507,1282)) is not in pool. Re-compute.\n",
      "Feature for (MD662,250,(5572,1217)) is not in pool. Re-compute.\n",
      "Feature for (MD662,250,(5572,1282)) is not in pool. Re-compute.\n",
      "Feature for (MD662,250,(5637,1217)) is not in pool. Re-compute.\n",
      "Feature for (MD662,250,(5637,1282)) is not in pool. Re-compute.\n",
      "Feature for (MD662,250,(5702,1282)) is not in pool. Re-compute.\n",
      "Not using image_cache.\n",
      "Load image: 17.16 seconds.\n",
      "Extract patches: 17.30 seconds\n"
     ]
    },
    {
     "name": "stdout",
     "output_type": "stream",
     "text": [
      "(256, 1, 224, 224)\n"
     ]
    },
    {
     "name": "stderr",
     "output_type": "stream",
     "text": [
      "Compute features: 0.40 seconds\n"
     ]
    },
    {
     "name": "stdout",
     "output_type": "stream",
     "text": [
      "('MD662', 303)\n",
      "('MD661', 233)\n"
     ]
    },
    {
     "name": "stderr",
     "output_type": "stream",
     "text": [
      "Feature for (MD661,233,(6417,1087)) is not in pool. Re-compute.\n",
      "Feature for (MD661,233,(6547,957)) is not in pool. Re-compute.\n",
      "Feature for (MD661,233,(6547,1022)) is not in pool. Re-compute.\n",
      "Feature for (MD661,233,(6612,957)) is not in pool. Re-compute.\n",
      "Feature for (MD661,233,(6612,1022)) is not in pool. Re-compute.\n",
      "Feature for (MD661,233,(6677,892)) is not in pool. Re-compute.\n",
      "Feature for (MD661,233,(6677,957)) is not in pool. Re-compute.\n",
      "Feature for (MD661,233,(6677,1022)) is not in pool. Re-compute.\n",
      "Feature for (MD661,233,(6742,892)) is not in pool. Re-compute.\n",
      "Feature for (MD661,233,(6742,957)) is not in pool. Re-compute.\n",
      "Feature for (MD661,233,(6807,827)) is not in pool. Re-compute.\n",
      "Not using image_cache.\n",
      "Load image: 18.57 seconds.\n",
      "Extract patches: 18.69 seconds\n"
     ]
    },
    {
     "name": "stdout",
     "output_type": "stream",
     "text": [
      "(256, 1, 224, 224)\n"
     ]
    },
    {
     "name": "stderr",
     "output_type": "stream",
     "text": [
      "Compute features: 0.37 seconds\n"
     ]
    },
    {
     "name": "stdout",
     "output_type": "stream",
     "text": [
      "('MD661', 164)\n",
      "('MD661', 287)\n"
     ]
    },
    {
     "name": "stderr",
     "output_type": "stream",
     "text": [
      "Feature for (MD661,287,(5832,1347)) is not in pool. Re-compute.\n",
      "Feature for (MD661,287,(5832,1412)) is not in pool. Re-compute.\n",
      "Feature for (MD661,287,(5897,1282)) is not in pool. Re-compute.\n",
      "Feature for (MD661,287,(5897,1347)) is not in pool. Re-compute.\n",
      "Feature for (MD661,287,(5897,1412)) is not in pool. Re-compute.\n",
      "Feature for (MD661,287,(5897,1477)) is not in pool. Re-compute.\n",
      "Feature for (MD661,287,(5962,1152)) is not in pool. Re-compute.\n",
      "Feature for (MD661,287,(5962,1217)) is not in pool. Re-compute.\n",
      "Feature for (MD661,287,(5962,1282)) is not in pool. Re-compute.\n",
      "Feature for (MD661,287,(5962,1347)) is not in pool. Re-compute.\n",
      "Feature for (MD661,287,(5962,1412)) is not in pool. Re-compute.\n",
      "Feature for (MD661,287,(5962,1477)) is not in pool. Re-compute.\n",
      "Feature for (MD661,287,(6027,1087)) is not in pool. Re-compute.\n",
      "Feature for (MD661,287,(6027,1152)) is not in pool. Re-compute.\n",
      "Feature for (MD661,287,(6027,1217)) is not in pool. Re-compute.\n",
      "Feature for (MD661,287,(6027,1282)) is not in pool. Re-compute.\n",
      "Feature for (MD661,287,(6027,1347)) is not in pool. Re-compute.\n",
      "Feature for (MD661,287,(6027,1412)) is not in pool. Re-compute.\n",
      "Feature for (MD661,287,(6092,1087)) is not in pool. Re-compute.\n",
      "Feature for (MD661,287,(6092,1152)) is not in pool. Re-compute.\n",
      "Feature for (MD661,287,(6092,1217)) is not in pool. Re-compute.\n",
      "Feature for (MD661,287,(6092,1282)) is not in pool. Re-compute.\n",
      "Feature for (MD661,287,(6092,1347)) is not in pool. Re-compute.\n",
      "Feature for (MD661,287,(6157,1087)) is not in pool. Re-compute.\n",
      "Feature for (MD661,287,(6157,1152)) is not in pool. Re-compute.\n",
      "Feature for (MD661,287,(6157,1217)) is not in pool. Re-compute.\n",
      "Feature for (MD661,287,(6157,1282)) is not in pool. Re-compute.\n",
      "Feature for (MD661,287,(6222,1152)) is not in pool. Re-compute.\n",
      "Feature for (MD661,287,(6222,1217)) is not in pool. Re-compute.\n",
      "Feature for (MD661,287,(6287,1152)) is not in pool. Re-compute.\n",
      "Feature for (MD661,287,(6287,1217)) is not in pool. Re-compute.\n",
      "Feature for (MD661,287,(6352,1152)) is not in pool. Re-compute.\n",
      "Not using image_cache.\n",
      "Load image: 19.59 seconds.\n",
      "Extract patches: 19.73 seconds\n"
     ]
    },
    {
     "name": "stdout",
     "output_type": "stream",
     "text": [
      "(256, 1, 224, 224)\n"
     ]
    },
    {
     "name": "stderr",
     "output_type": "stream",
     "text": [
      "Compute features: 0.40 seconds\n"
     ]
    },
    {
     "name": "stdout",
     "output_type": "stream",
     "text": [
      "('MD662', 171)\n"
     ]
    },
    {
     "name": "stderr",
     "output_type": "stream",
     "text": [
      "Feature for (MD662,171,(5117,1997)) is not in pool. Re-compute.\n",
      "Feature for (MD662,171,(5117,2062)) is not in pool. Re-compute.\n",
      "Feature for (MD662,171,(5117,2127)) is not in pool. Re-compute.\n",
      "Feature for (MD662,171,(5117,2192)) is not in pool. Re-compute.\n",
      "Feature for (MD662,171,(5117,2257)) is not in pool. Re-compute.\n",
      "Feature for (MD662,171,(5182,1867)) is not in pool. Re-compute.\n",
      "Feature for (MD662,171,(5182,1932)) is not in pool. Re-compute.\n",
      "Feature for (MD662,171,(5182,1997)) is not in pool. Re-compute.\n",
      "Feature for (MD662,171,(5182,2062)) is not in pool. Re-compute.\n",
      "Feature for (MD662,171,(5182,2127)) is not in pool. Re-compute.\n",
      "Feature for (MD662,171,(5182,2192)) is not in pool. Re-compute.\n",
      "Feature for (MD662,171,(5182,2257)) is not in pool. Re-compute.\n",
      "Feature for (MD662,171,(5247,1867)) is not in pool. Re-compute.\n",
      "Feature for (MD662,171,(5247,1932)) is not in pool. Re-compute.\n",
      "Feature for (MD662,171,(5247,1997)) is not in pool. Re-compute.\n",
      "Feature for (MD662,171,(5247,2062)) is not in pool. Re-compute.\n",
      "Feature for (MD662,171,(5247,2127)) is not in pool. Re-compute.\n",
      "Feature for (MD662,171,(5247,2192)) is not in pool. Re-compute.\n",
      "Feature for (MD662,171,(5312,1867)) is not in pool. Re-compute.\n",
      "Feature for (MD662,171,(5312,1932)) is not in pool. Re-compute.\n",
      "Feature for (MD662,171,(5312,1997)) is not in pool. Re-compute.\n",
      "Feature for (MD662,171,(5312,2062)) is not in pool. Re-compute.\n",
      "Feature for (MD662,171,(5377,1932)) is not in pool. Re-compute.\n",
      "Feature for (MD662,171,(5377,1997)) is not in pool. Re-compute.\n",
      "Feature for (MD662,171,(5442,1932)) is not in pool. Re-compute.\n",
      "Not using image_cache.\n",
      "Load image: 14.03 seconds.\n",
      "Extract patches: 14.14 seconds\n"
     ]
    },
    {
     "name": "stdout",
     "output_type": "stream",
     "text": [
      "(256, 1, 224, 224)\n"
     ]
    },
    {
     "name": "stderr",
     "output_type": "stream",
     "text": [
      "Compute features: 0.37 seconds\n"
     ]
    },
    {
     "name": "stdout",
     "output_type": "stream",
     "text": [
      "('MD662', 151)\n",
      "('MD662', 259)\n"
     ]
    },
    {
     "name": "stderr",
     "output_type": "stream",
     "text": [
      "Feature for (MD662,259,(4792,1672)) is not in pool. Re-compute.\n",
      "Feature for (MD662,259,(4792,1737)) is not in pool. Re-compute.\n",
      "Feature for (MD662,259,(4857,1477)) is not in pool. Re-compute.\n",
      "Feature for (MD662,259,(4857,1542)) is not in pool. Re-compute.\n",
      "Feature for (MD662,259,(4857,1607)) is not in pool. Re-compute.\n",
      "Feature for (MD662,259,(4857,1672)) is not in pool. Re-compute.\n",
      "Feature for (MD662,259,(4922,1347)) is not in pool. Re-compute.\n",
      "Feature for (MD662,259,(4922,1412)) is not in pool. Re-compute.\n",
      "Feature for (MD662,259,(4922,1477)) is not in pool. Re-compute.\n",
      "Feature for (MD662,259,(4922,1542)) is not in pool. Re-compute.\n",
      "Feature for (MD662,259,(4922,1607)) is not in pool. Re-compute.\n",
      "Feature for (MD662,259,(4987,1282)) is not in pool. Re-compute.\n",
      "Feature for (MD662,259,(4987,1347)) is not in pool. Re-compute.\n",
      "Feature for (MD662,259,(4987,1412)) is not in pool. Re-compute.\n",
      "Feature for (MD662,259,(4987,1477)) is not in pool. Re-compute.\n",
      "Feature for (MD662,259,(4987,1542)) is not in pool. Re-compute.\n",
      "Feature for (MD662,259,(5052,1282)) is not in pool. Re-compute.\n",
      "Feature for (MD662,259,(5052,1347)) is not in pool. Re-compute.\n",
      "Feature for (MD662,259,(5052,1412)) is not in pool. Re-compute.\n",
      "Feature for (MD662,259,(5052,1477)) is not in pool. Re-compute.\n",
      "Feature for (MD662,259,(5117,1282)) is not in pool. Re-compute.\n",
      "Feature for (MD662,259,(5117,1347)) is not in pool. Re-compute.\n",
      "Feature for (MD662,259,(5117,1412)) is not in pool. Re-compute.\n",
      "Feature for (MD662,259,(5182,1282)) is not in pool. Re-compute.\n",
      "Feature for (MD662,259,(5182,1347)) is not in pool. Re-compute.\n",
      "Feature for (MD662,259,(5247,1282)) is not in pool. Re-compute.\n",
      "Feature for (MD662,259,(5312,1282)) is not in pool. Re-compute.\n",
      "Feature for (MD662,259,(5377,1282)) is not in pool. Re-compute.\n",
      "Not using image_cache.\n",
      "Load image: 17.80 seconds.\n",
      "Extract patches: 17.92 seconds\n"
     ]
    },
    {
     "name": "stdout",
     "output_type": "stream",
     "text": [
      "(256, 1, 224, 224)\n"
     ]
    },
    {
     "name": "stderr",
     "output_type": "stream",
     "text": [
      "Compute features: 0.38 seconds\n"
     ]
    },
    {
     "name": "stdout",
     "output_type": "stream",
     "text": [
      "('MD661', 213)\n"
     ]
    },
    {
     "name": "stderr",
     "output_type": "stream",
     "text": [
      "Feature for (MD661,213,(6157,697)) is not in pool. Re-compute.\n",
      "Feature for (MD661,213,(6157,762)) is not in pool. Re-compute.\n",
      "Feature for (MD661,213,(6157,827)) is not in pool. Re-compute.\n",
      "Feature for (MD661,213,(6222,632)) is not in pool. Re-compute.\n",
      "Feature for (MD661,213,(6222,697)) is not in pool. Re-compute.\n",
      "Feature for (MD661,213,(6222,762)) is not in pool. Re-compute.\n",
      "Feature for (MD661,213,(6222,827)) is not in pool. Re-compute.\n",
      "Feature for (MD661,213,(6287,567)) is not in pool. Re-compute.\n",
      "Feature for (MD661,213,(6287,632)) is not in pool. Re-compute.\n",
      "Feature for (MD661,213,(6287,697)) is not in pool. Re-compute.\n",
      "Feature for (MD661,213,(6287,762)) is not in pool. Re-compute.\n",
      "Feature for (MD661,213,(6287,827)) is not in pool. Re-compute.\n",
      "Feature for (MD661,213,(6352,502)) is not in pool. Re-compute.\n",
      "Feature for (MD661,213,(6352,567)) is not in pool. Re-compute.\n",
      "Feature for (MD661,213,(6352,632)) is not in pool. Re-compute.\n",
      "Feature for (MD661,213,(6352,697)) is not in pool. Re-compute.\n",
      "Feature for (MD661,213,(6352,762)) is not in pool. Re-compute.\n",
      "Feature for (MD661,213,(6417,437)) is not in pool. Re-compute.\n",
      "Feature for (MD661,213,(6417,502)) is not in pool. Re-compute.\n",
      "Feature for (MD661,213,(6417,567)) is not in pool. Re-compute.\n",
      "Feature for (MD661,213,(6417,632)) is not in pool. Re-compute.\n",
      "Feature for (MD661,213,(6417,697)) is not in pool. Re-compute.\n",
      "Feature for (MD661,213,(6417,762)) is not in pool. Re-compute.\n",
      "Feature for (MD661,213,(6482,372)) is not in pool. Re-compute.\n",
      "Feature for (MD661,213,(6482,437)) is not in pool. Re-compute.\n",
      "Feature for (MD661,213,(6482,502)) is not in pool. Re-compute.\n",
      "Feature for (MD661,213,(6482,567)) is not in pool. Re-compute.\n",
      "Feature for (MD661,213,(6482,632)) is not in pool. Re-compute.\n",
      "Feature for (MD661,213,(6482,697)) is not in pool. Re-compute.\n",
      "Feature for (MD661,213,(6482,762)) is not in pool. Re-compute.\n",
      "Feature for (MD661,213,(6547,372)) is not in pool. Re-compute.\n",
      "Feature for (MD661,213,(6547,437)) is not in pool. Re-compute.\n",
      "Feature for (MD661,213,(6547,502)) is not in pool. Re-compute.\n",
      "Feature for (MD661,213,(6547,567)) is not in pool. Re-compute.\n",
      "Feature for (MD661,213,(6547,632)) is not in pool. Re-compute.\n",
      "Feature for (MD661,213,(6547,697)) is not in pool. Re-compute.\n",
      "Feature for (MD661,213,(6547,762)) is not in pool. Re-compute.\n",
      "Feature for (MD661,213,(6612,372)) is not in pool. Re-compute.\n",
      "Feature for (MD661,213,(6612,437)) is not in pool. Re-compute.\n",
      "Feature for (MD661,213,(6612,502)) is not in pool. Re-compute.\n",
      "Feature for (MD661,213,(6612,567)) is not in pool. Re-compute.\n",
      "Feature for (MD661,213,(6612,632)) is not in pool. Re-compute.\n",
      "Feature for (MD661,213,(6612,697)) is not in pool. Re-compute.\n",
      "Feature for (MD661,213,(6612,762)) is not in pool. Re-compute.\n",
      "Feature for (MD661,213,(6677,372)) is not in pool. Re-compute.\n",
      "Feature for (MD661,213,(6677,437)) is not in pool. Re-compute.\n",
      "Feature for (MD661,213,(6677,502)) is not in pool. Re-compute.\n",
      "Feature for (MD661,213,(6677,567)) is not in pool. Re-compute.\n",
      "Feature for (MD661,213,(6677,632)) is not in pool. Re-compute.\n",
      "Feature for (MD661,213,(6677,697)) is not in pool. Re-compute.\n",
      "Feature for (MD661,213,(6742,437)) is not in pool. Re-compute.\n",
      "Feature for (MD661,213,(6742,502)) is not in pool. Re-compute.\n",
      "Feature for (MD661,213,(6742,567)) is not in pool. Re-compute.\n",
      "Feature for (MD661,213,(6742,632)) is not in pool. Re-compute.\n",
      "Feature for (MD661,213,(6742,697)) is not in pool. Re-compute.\n",
      "Feature for (MD661,213,(6807,502)) is not in pool. Re-compute.\n",
      "Feature for (MD661,213,(6807,567)) is not in pool. Re-compute.\n",
      "Feature for (MD661,213,(6807,632)) is not in pool. Re-compute.\n",
      "Feature for (MD661,213,(6807,697)) is not in pool. Re-compute.\n",
      "Feature for (MD661,213,(6872,567)) is not in pool. Re-compute.\n",
      "Feature for (MD661,213,(6872,632)) is not in pool. Re-compute.\n",
      "Feature for (MD661,213,(6872,697)) is not in pool. Re-compute.\n",
      "Feature for (MD661,213,(6937,632)) is not in pool. Re-compute.\n",
      "Not using image_cache.\n",
      "Load image: 18.18 seconds.\n",
      "Extract patches: 18.36 seconds\n"
     ]
    },
    {
     "name": "stdout",
     "output_type": "stream",
     "text": [
      "(256, 1, 224, 224)\n"
     ]
    },
    {
     "name": "stderr",
     "output_type": "stream",
     "text": [
      "Compute features: 0.39 seconds\n"
     ]
    },
    {
     "name": "stdout",
     "output_type": "stream",
     "text": [
      "('MD662', 205)\n"
     ]
    },
    {
     "name": "stderr",
     "output_type": "stream",
     "text": [
      "Feature for (MD662,205,(5247,1542)) is not in pool. Re-compute.\n",
      "Feature for (MD662,205,(5247,1607)) is not in pool. Re-compute.\n",
      "Feature for (MD662,205,(5312,1477)) is not in pool. Re-compute.\n",
      "Feature for (MD662,205,(5312,1542)) is not in pool. Re-compute.\n",
      "Feature for (MD662,205,(5312,1607)) is not in pool. Re-compute.\n",
      "Feature for (MD662,205,(5377,1412)) is not in pool. Re-compute.\n",
      "Feature for (MD662,205,(5377,1477)) is not in pool. Re-compute.\n",
      "Feature for (MD662,205,(5377,1542)) is not in pool. Re-compute.\n",
      "Feature for (MD662,205,(5442,1347)) is not in pool. Re-compute.\n",
      "Feature for (MD662,205,(5442,1412)) is not in pool. Re-compute.\n",
      "Feature for (MD662,205,(5442,1477)) is not in pool. Re-compute.\n",
      "Feature for (MD662,205,(5442,1542)) is not in pool. Re-compute.\n",
      "Feature for (MD662,205,(5507,1347)) is not in pool. Re-compute.\n",
      "Feature for (MD662,205,(5507,1412)) is not in pool. Re-compute.\n",
      "Feature for (MD662,205,(5507,1477)) is not in pool. Re-compute.\n",
      "Feature for (MD662,205,(5572,1282)) is not in pool. Re-compute.\n",
      "Feature for (MD662,205,(5572,1347)) is not in pool. Re-compute.\n",
      "Feature for (MD662,205,(5572,1412)) is not in pool. Re-compute.\n",
      "Feature for (MD662,205,(5637,1217)) is not in pool. Re-compute.\n",
      "Feature for (MD662,205,(5637,1282)) is not in pool. Re-compute.\n",
      "Feature for (MD662,205,(5637,1347)) is not in pool. Re-compute.\n",
      "Feature for (MD662,205,(5702,1282)) is not in pool. Re-compute.\n",
      "Feature for (MD662,205,(5702,1347)) is not in pool. Re-compute.\n",
      "Feature for (MD662,205,(5767,1282)) is not in pool. Re-compute.\n",
      "Not using image_cache.\n",
      "Load image: 16.63 seconds.\n",
      "Extract patches: 16.74 seconds\n"
     ]
    },
    {
     "name": "stdout",
     "output_type": "stream",
     "text": [
      "(256, 1, 224, 224)\n"
     ]
    },
    {
     "name": "stderr",
     "output_type": "stream",
     "text": [
      "Compute features: 0.38 seconds\n"
     ]
    },
    {
     "name": "stdout",
     "output_type": "stream",
     "text": [
      "('MD662', 240)\n"
     ]
    },
    {
     "name": "stderr",
     "output_type": "stream",
     "text": [
      "Feature for (MD662,240,(5052,1542)) is not in pool. Re-compute.\n",
      "Feature for (MD662,240,(5182,1412)) is not in pool. Re-compute.\n",
      "Feature for (MD662,240,(5182,1477)) is not in pool. Re-compute.\n",
      "Feature for (MD662,240,(5247,1347)) is not in pool. Re-compute.\n",
      "Feature for (MD662,240,(5247,1412)) is not in pool. Re-compute.\n",
      "Feature for (MD662,240,(5247,1477)) is not in pool. Re-compute.\n",
      "Feature for (MD662,240,(5247,1542)) is not in pool. Re-compute.\n",
      "Feature for (MD662,240,(5312,1347)) is not in pool. Re-compute.\n",
      "Feature for (MD662,240,(5312,1412)) is not in pool. Re-compute.\n",
      "Feature for (MD662,240,(5312,1477)) is not in pool. Re-compute.\n",
      "Feature for (MD662,240,(5377,1282)) is not in pool. Re-compute.\n",
      "Feature for (MD662,240,(5377,1347)) is not in pool. Re-compute.\n",
      "Feature for (MD662,240,(5377,1412)) is not in pool. Re-compute.\n",
      "Feature for (MD662,240,(5377,1477)) is not in pool. Re-compute.\n",
      "Feature for (MD662,240,(5442,1217)) is not in pool. Re-compute.\n",
      "Feature for (MD662,240,(5442,1282)) is not in pool. Re-compute.\n",
      "Feature for (MD662,240,(5442,1347)) is not in pool. Re-compute.\n",
      "Feature for (MD662,240,(5442,1412)) is not in pool. Re-compute.\n",
      "Feature for (MD662,240,(5507,1217)) is not in pool. Re-compute.\n",
      "Feature for (MD662,240,(5507,1282)) is not in pool. Re-compute.\n",
      "Feature for (MD662,240,(5507,1347)) is not in pool. Re-compute.\n",
      "Feature for (MD662,240,(5507,1412)) is not in pool. Re-compute.\n",
      "Feature for (MD662,240,(5572,1217)) is not in pool. Re-compute.\n",
      "Feature for (MD662,240,(5572,1282)) is not in pool. Re-compute.\n",
      "Feature for (MD662,240,(5572,1347)) is not in pool. Re-compute.\n",
      "Feature for (MD662,240,(5572,1412)) is not in pool. Re-compute.\n",
      "Feature for (MD662,240,(5637,1217)) is not in pool. Re-compute.\n",
      "Feature for (MD662,240,(5637,1282)) is not in pool. Re-compute.\n",
      "Feature for (MD662,240,(5637,1347)) is not in pool. Re-compute.\n",
      "Feature for (MD662,240,(5637,1412)) is not in pool. Re-compute.\n",
      "Feature for (MD662,240,(5702,1282)) is not in pool. Re-compute.\n",
      "Feature for (MD662,240,(5702,1347)) is not in pool. Re-compute.\n",
      "Feature for (MD662,240,(5702,1412)) is not in pool. Re-compute.\n",
      "Feature for (MD662,240,(5767,1282)) is not in pool. Re-compute.\n",
      "Feature for (MD662,240,(5767,1347)) is not in pool. Re-compute.\n",
      "Feature for (MD662,240,(5767,1412)) is not in pool. Re-compute.\n",
      "Feature for (MD662,240,(5832,1347)) is not in pool. Re-compute.\n",
      "Not using image_cache.\n",
      "Load image: 16.30 seconds.\n",
      "Extract patches: 16.42 seconds\n"
     ]
    },
    {
     "name": "stdout",
     "output_type": "stream",
     "text": [
      "(256, 1, 224, 224)\n"
     ]
    },
    {
     "name": "stderr",
     "output_type": "stream",
     "text": [
      "Compute features: 0.38 seconds\n"
     ]
    },
    {
     "name": "stdout",
     "output_type": "stream",
     "text": [
      "('MD661', 170)\n",
      "('MD662', 296)\n",
      "('MD661', 274)\n"
     ]
    },
    {
     "name": "stderr",
     "output_type": "stream",
     "text": [
      "Feature for (MD661,274,(5832,1347)) is not in pool. Re-compute.\n",
      "Feature for (MD661,274,(5832,1412)) is not in pool. Re-compute.\n",
      "Feature for (MD661,274,(5897,1087)) is not in pool. Re-compute.\n",
      "Feature for (MD661,274,(5897,1152)) is not in pool. Re-compute.\n",
      "Feature for (MD661,274,(5897,1217)) is not in pool. Re-compute.\n",
      "Feature for (MD661,274,(5897,1282)) is not in pool. Re-compute.\n",
      "Feature for (MD661,274,(5897,1347)) is not in pool. Re-compute.\n",
      "Feature for (MD661,274,(5962,1022)) is not in pool. Re-compute.\n",
      "Feature for (MD661,274,(5962,1087)) is not in pool. Re-compute.\n",
      "Feature for (MD661,274,(5962,1152)) is not in pool. Re-compute.\n",
      "Feature for (MD661,274,(5962,1217)) is not in pool. Re-compute.\n",
      "Feature for (MD661,274,(5962,1282)) is not in pool. Re-compute.\n",
      "Feature for (MD661,274,(6027,892)) is not in pool. Re-compute.\n",
      "Feature for (MD661,274,(6027,957)) is not in pool. Re-compute.\n",
      "Feature for (MD661,274,(6027,1022)) is not in pool. Re-compute.\n",
      "Feature for (MD661,274,(6027,1087)) is not in pool. Re-compute.\n",
      "Feature for (MD661,274,(6027,1152)) is not in pool. Re-compute.\n",
      "Feature for (MD661,274,(6027,1217)) is not in pool. Re-compute.\n",
      "Feature for (MD661,274,(6092,827)) is not in pool. Re-compute.\n",
      "Feature for (MD661,274,(6092,892)) is not in pool. Re-compute.\n",
      "Feature for (MD661,274,(6092,957)) is not in pool. Re-compute.\n",
      "Feature for (MD661,274,(6092,1022)) is not in pool. Re-compute.\n",
      "Feature for (MD661,274,(6092,1087)) is not in pool. Re-compute.\n",
      "Feature for (MD661,274,(6092,1152)) is not in pool. Re-compute.\n",
      "Feature for (MD661,274,(6157,762)) is not in pool. Re-compute.\n",
      "Feature for (MD661,274,(6157,827)) is not in pool. Re-compute.\n",
      "Feature for (MD661,274,(6157,892)) is not in pool. Re-compute.\n",
      "Feature for (MD661,274,(6157,957)) is not in pool. Re-compute.\n",
      "Feature for (MD661,274,(6157,1022)) is not in pool. Re-compute.\n",
      "Feature for (MD661,274,(6157,1087)) is not in pool. Re-compute.\n",
      "Feature for (MD661,274,(6157,1152)) is not in pool. Re-compute.\n",
      "Feature for (MD661,274,(6222,762)) is not in pool. Re-compute.\n",
      "Feature for (MD661,274,(6222,827)) is not in pool. Re-compute.\n",
      "Feature for (MD661,274,(6222,892)) is not in pool. Re-compute.\n",
      "Feature for (MD661,274,(6222,957)) is not in pool. Re-compute.\n",
      "Feature for (MD661,274,(6222,1022)) is not in pool. Re-compute.\n",
      "Feature for (MD661,274,(6222,1087)) is not in pool. Re-compute.\n",
      "Feature for (MD661,274,(6287,632)) is not in pool. Re-compute.\n",
      "Feature for (MD661,274,(6287,697)) is not in pool. Re-compute.\n",
      "Feature for (MD661,274,(6287,762)) is not in pool. Re-compute.\n",
      "Feature for (MD661,274,(6287,827)) is not in pool. Re-compute.\n",
      "Feature for (MD661,274,(6287,892)) is not in pool. Re-compute.\n",
      "Feature for (MD661,274,(6287,957)) is not in pool. Re-compute.\n",
      "Feature for (MD661,274,(6287,1022)) is not in pool. Re-compute.\n",
      "Feature for (MD661,274,(6352,697)) is not in pool. Re-compute.\n",
      "Feature for (MD661,274,(6352,762)) is not in pool. Re-compute.\n",
      "Feature for (MD661,274,(6352,827)) is not in pool. Re-compute.\n",
      "Feature for (MD661,274,(6352,892)) is not in pool. Re-compute.\n",
      "Feature for (MD661,274,(6352,957)) is not in pool. Re-compute.\n",
      "Feature for (MD661,274,(6417,697)) is not in pool. Re-compute.\n",
      "Feature for (MD661,274,(6417,762)) is not in pool. Re-compute.\n",
      "Feature for (MD661,274,(6417,827)) is not in pool. Re-compute.\n",
      "Feature for (MD661,274,(6417,892)) is not in pool. Re-compute.\n",
      "Feature for (MD661,274,(6482,697)) is not in pool. Re-compute.\n",
      "Feature for (MD661,274,(6482,762)) is not in pool. Re-compute.\n",
      "Feature for (MD661,274,(6482,827)) is not in pool. Re-compute.\n",
      "Feature for (MD661,274,(6547,762)) is not in pool. Re-compute.\n",
      "Feature for (MD661,274,(6547,827)) is not in pool. Re-compute.\n",
      "Feature for (MD661,274,(6612,762)) is not in pool. Re-compute.\n",
      "Feature for (MD661,274,(6612,827)) is not in pool. Re-compute.\n",
      "Not using image_cache.\n",
      "Load image: 18.15 seconds.\n",
      "Extract patches: 18.32 seconds\n"
     ]
    },
    {
     "name": "stdout",
     "output_type": "stream",
     "text": [
      "(256, 1, 224, 224)\n"
     ]
    },
    {
     "name": "stderr",
     "output_type": "stream",
     "text": [
      "Compute features: 0.39 seconds\n"
     ]
    },
    {
     "name": "stdout",
     "output_type": "stream",
     "text": [
      "Training: 15000 positive, 15000 negative\n"
     ]
    },
    {
     "name": "stderr",
     "output_type": "stream",
     "text": [
      "Fitting classifier: 24.21 seconds\n"
     ]
    },
    {
     "name": "stdout",
     "output_type": "stream",
     "text": [
      "aws s3 cp \"/media/yuncong/BstemAtlasData/CSHL_classifiers/setting_999/classifiers/SC_clf_setting_999.dump\" \"s3://mousebrainatlas-data/CSHL_classifiers/setting_999/classifiers/SC_clf_setting_999.dump\"\n",
      "# positive train = 116806\n",
      "# negative train = 270405\n",
      "('MD662', 281)\n",
      "('MD661', 271)\n"
     ]
    },
    {
     "name": "stderr",
     "output_type": "stream",
     "text": [
      "Feature for (MD661,271,(5442,1217)) is not in pool. Re-compute.\n",
      "Feature for (MD661,271,(5442,1282)) is not in pool. Re-compute.\n",
      "Feature for (MD661,271,(5507,1217)) is not in pool. Re-compute.\n",
      "Feature for (MD661,271,(5507,1282)) is not in pool. Re-compute.\n",
      "Feature for (MD661,271,(5572,1152)) is not in pool. Re-compute.\n",
      "Feature for (MD661,271,(5572,1217)) is not in pool. Re-compute.\n",
      "Feature for (MD661,271,(5572,1282)) is not in pool. Re-compute.\n",
      "Feature for (MD661,271,(5637,1152)) is not in pool. Re-compute.\n",
      "Feature for (MD661,271,(5637,1217)) is not in pool. Re-compute.\n",
      "Feature for (MD661,271,(5637,1282)) is not in pool. Re-compute.\n",
      "Feature for (MD661,271,(5702,1087)) is not in pool. Re-compute.\n",
      "Feature for (MD661,271,(5702,1152)) is not in pool. Re-compute.\n",
      "Feature for (MD661,271,(5702,1217)) is not in pool. Re-compute.\n",
      "Feature for (MD661,271,(5702,1282)) is not in pool. Re-compute.\n",
      "Feature for (MD661,271,(5767,1087)) is not in pool. Re-compute.\n",
      "Feature for (MD661,271,(5767,1152)) is not in pool. Re-compute.\n",
      "Feature for (MD661,271,(5767,1217)) is not in pool. Re-compute.\n",
      "Feature for (MD661,271,(5767,1282)) is not in pool. Re-compute.\n",
      "Feature for (MD661,271,(5832,1022)) is not in pool. Re-compute.\n",
      "Feature for (MD661,271,(5832,1087)) is not in pool. Re-compute.\n",
      "Feature for (MD661,271,(5832,1152)) is not in pool. Re-compute.\n",
      "Feature for (MD661,271,(5832,1217)) is not in pool. Re-compute.\n",
      "Feature for (MD661,271,(5832,1282)) is not in pool. Re-compute.\n",
      "Feature for (MD661,271,(5832,1347)) is not in pool. Re-compute.\n",
      "Feature for (MD661,271,(5897,1022)) is not in pool. Re-compute.\n",
      "Feature for (MD661,271,(5897,1087)) is not in pool. Re-compute.\n",
      "Feature for (MD661,271,(5897,1152)) is not in pool. Re-compute.\n",
      "Feature for (MD661,271,(5897,1217)) is not in pool. Re-compute.\n",
      "Feature for (MD661,271,(5897,1282)) is not in pool. Re-compute.\n",
      "Feature for (MD661,271,(5962,1022)) is not in pool. Re-compute.\n",
      "Feature for (MD661,271,(5962,1087)) is not in pool. Re-compute.\n",
      "Feature for (MD661,271,(5962,1152)) is not in pool. Re-compute.\n",
      "Feature for (MD661,271,(6027,1022)) is not in pool. Re-compute.\n",
      "Feature for (MD661,271,(6027,1087)) is not in pool. Re-compute.\n",
      "Feature for (MD661,271,(6027,1152)) is not in pool. Re-compute.\n",
      "Feature for (MD661,271,(6092,1022)) is not in pool. Re-compute.\n",
      "Feature for (MD661,271,(6092,1087)) is not in pool. Re-compute.\n",
      "Feature for (MD661,271,(6157,1022)) is not in pool. Re-compute.\n",
      "Feature for (MD661,271,(6157,1087)) is not in pool. Re-compute.\n",
      "Feature for (MD661,271,(6222,1022)) is not in pool. Re-compute.\n",
      "Feature for (MD661,271,(6222,1087)) is not in pool. Re-compute.\n",
      "Feature for (MD661,271,(6287,1022)) is not in pool. Re-compute.\n",
      "Not using image_cache.\n",
      "Load image: 17.81 seconds.\n",
      "Extract patches: 17.96 seconds\n"
     ]
    },
    {
     "name": "stdout",
     "output_type": "stream",
     "text": [
      "(256, 1, 224, 224)\n"
     ]
    },
    {
     "name": "stderr",
     "output_type": "stream",
     "text": [
      "Compute features: 0.37 seconds\n"
     ]
    },
    {
     "name": "stdout",
     "output_type": "stream",
     "text": [
      "('MD661', 219)\n"
     ]
    },
    {
     "name": "stderr",
     "output_type": "stream",
     "text": [
      "Feature for (MD661,219,(5962,762)) is not in pool. Re-compute.\n",
      "Feature for (MD661,219,(6027,762)) is not in pool. Re-compute.\n",
      "Feature for (MD661,219,(6092,762)) is not in pool. Re-compute.\n",
      "Feature for (MD661,219,(6157,697)) is not in pool. Re-compute.\n",
      "Feature for (MD661,219,(6157,762)) is not in pool. Re-compute.\n",
      "Feature for (MD661,219,(6157,827)) is not in pool. Re-compute.\n",
      "Feature for (MD661,219,(6222,697)) is not in pool. Re-compute.\n",
      "Feature for (MD661,219,(6222,762)) is not in pool. Re-compute.\n",
      "Feature for (MD661,219,(6222,827)) is not in pool. Re-compute.\n",
      "Feature for (MD661,219,(6287,697)) is not in pool. Re-compute.\n",
      "Feature for (MD661,219,(6287,762)) is not in pool. Re-compute.\n",
      "Feature for (MD661,219,(6287,827)) is not in pool. Re-compute.\n",
      "Feature for (MD661,219,(6352,762)) is not in pool. Re-compute.\n",
      "Feature for (MD661,219,(6352,827)) is not in pool. Re-compute.\n",
      "Feature for (MD661,219,(6417,762)) is not in pool. Re-compute.\n",
      "Feature for (MD661,219,(6417,827)) is not in pool. Re-compute.\n",
      "Feature for (MD661,219,(7457,112)) is not in pool. Re-compute.\n",
      "Feature for (MD661,219,(7522,112)) is not in pool. Re-compute.\n",
      "Feature for (MD661,219,(7587,112)) is not in pool. Re-compute.\n",
      "Not using image_cache.\n",
      "Load image: 17.94 seconds.\n",
      "Extract patches: 18.06 seconds\n"
     ]
    },
    {
     "name": "stdout",
     "output_type": "stream",
     "text": [
      "(256, 1, 224, 224)\n"
     ]
    },
    {
     "name": "stderr",
     "output_type": "stream",
     "text": [
      "Compute features: 0.36 seconds\n"
     ]
    },
    {
     "name": "stdout",
     "output_type": "stream",
     "text": [
      "('MD662', 268)\n"
     ]
    },
    {
     "name": "stderr",
     "output_type": "stream",
     "text": [
      "Feature for (MD662,268,(4532,1932)) is not in pool. Re-compute.\n",
      "Feature for (MD662,268,(4532,1997)) is not in pool. Re-compute.\n",
      "Feature for (MD662,268,(4532,2062)) is not in pool. Re-compute.\n",
      "Feature for (MD662,268,(4532,2127)) is not in pool. Re-compute.\n",
      "Feature for (MD662,268,(4532,2192)) is not in pool. Re-compute.\n",
      "Feature for (MD662,268,(4597,1932)) is not in pool. Re-compute.\n",
      "Feature for (MD662,268,(4597,1997)) is not in pool. Re-compute.\n",
      "Feature for (MD662,268,(4597,2062)) is not in pool. Re-compute.\n",
      "Feature for (MD662,268,(4597,2127)) is not in pool. Re-compute.\n",
      "Feature for (MD662,268,(4662,1932)) is not in pool. Re-compute.\n",
      "Feature for (MD662,268,(4662,1997)) is not in pool. Re-compute.\n",
      "Feature for (MD662,268,(4727,1932)) is not in pool. Re-compute.\n",
      "Not using image_cache.\n",
      "Load image: 16.07 seconds.\n",
      "Extract patches: 16.18 seconds\n"
     ]
    },
    {
     "name": "stdout",
     "output_type": "stream",
     "text": [
      "(256, 1, 224, 224)\n"
     ]
    },
    {
     "name": "stderr",
     "output_type": "stream",
     "text": [
      "Compute features: 0.36 seconds\n"
     ]
    },
    {
     "name": "stdout",
     "output_type": "stream",
     "text": [
      "('MD661', 200)\n"
     ]
    },
    {
     "name": "stderr",
     "output_type": "stream",
     "text": [
      "Feature for (MD661,200,(5767,892)) is not in pool. Re-compute.\n",
      "Feature for (MD661,200,(5832,827)) is not in pool. Re-compute.\n",
      "Feature for (MD661,200,(5832,892)) is not in pool. Re-compute.\n",
      "Feature for (MD661,200,(5897,827)) is not in pool. Re-compute.\n",
      "Feature for (MD661,200,(5897,892)) is not in pool. Re-compute.\n",
      "Feature for (MD661,200,(5962,827)) is not in pool. Re-compute.\n",
      "Feature for (MD661,200,(5962,892)) is not in pool. Re-compute.\n",
      "Feature for (MD661,200,(6027,827)) is not in pool. Re-compute.\n",
      "Feature for (MD661,200,(6027,892)) is not in pool. Re-compute.\n",
      "Feature for (MD661,200,(6092,827)) is not in pool. Re-compute.\n",
      "Feature for (MD661,200,(6092,892)) is not in pool. Re-compute.\n",
      "Feature for (MD661,200,(6157,827)) is not in pool. Re-compute.\n",
      "Feature for (MD661,200,(7782,112)) is not in pool. Re-compute.\n",
      "Feature for (MD661,200,(7847,112)) is not in pool. Re-compute.\n",
      "Feature for (MD661,200,(7912,112)) is not in pool. Re-compute.\n",
      "Feature for (MD661,200,(7977,112)) is not in pool. Re-compute.\n",
      "Feature for (MD661,200,(8042,112)) is not in pool. Re-compute.\n",
      "Feature for (MD661,200,(8107,112)) is not in pool. Re-compute.\n",
      "Feature for (MD661,200,(8172,112)) is not in pool. Re-compute.\n",
      "Not using image_cache.\n",
      "Load image: 16.48 seconds.\n",
      "Extract patches: 16.59 seconds\n"
     ]
    },
    {
     "name": "stdout",
     "output_type": "stream",
     "text": [
      "(256, 1, 224, 224)\n"
     ]
    },
    {
     "name": "stderr",
     "output_type": "stream",
     "text": [
      "Compute features: 0.38 seconds\n"
     ]
    },
    {
     "name": "stdout",
     "output_type": "stream",
     "text": [
      "('MD661', 297)\n",
      "('MD661', 197)\n"
     ]
    },
    {
     "name": "stderr",
     "output_type": "stream",
     "text": [
      "Feature for (MD661,197,(7002,567)) is not in pool. Re-compute.\n",
      "Feature for (MD661,197,(7262,502)) is not in pool. Re-compute.\n",
      "Feature for (MD661,197,(7327,502)) is not in pool. Re-compute.\n",
      "Feature for (MD661,197,(5702,957)) is not in pool. Re-compute.\n",
      "Feature for (MD661,197,(5767,957)) is not in pool. Re-compute.\n",
      "Feature for (MD661,197,(5832,892)) is not in pool. Re-compute.\n",
      "Feature for (MD661,197,(5897,892)) is not in pool. Re-compute.\n",
      "Feature for (MD661,197,(5897,957)) is not in pool. Re-compute.\n",
      "Feature for (MD661,197,(5962,892)) is not in pool. Re-compute.\n",
      "Feature for (MD661,197,(5962,957)) is not in pool. Re-compute.\n",
      "Feature for (MD661,197,(6027,892)) is not in pool. Re-compute.\n",
      "Feature for (MD661,197,(6027,957)) is not in pool. Re-compute.\n",
      "Feature for (MD661,197,(6092,892)) is not in pool. Re-compute.\n",
      "Feature for (MD661,197,(7847,112)) is not in pool. Re-compute.\n",
      "Feature for (MD661,197,(7912,112)) is not in pool. Re-compute.\n",
      "Feature for (MD661,197,(7977,112)) is not in pool. Re-compute.\n",
      "Feature for (MD661,197,(8042,112)) is not in pool. Re-compute.\n",
      "Feature for (MD661,197,(8107,112)) is not in pool. Re-compute.\n",
      "Feature for (MD661,197,(8172,112)) is not in pool. Re-compute.\n",
      "Not using image_cache.\n",
      "Load image: 17.06 seconds.\n",
      "Extract patches: 17.17 seconds\n"
     ]
    },
    {
     "name": "stdout",
     "output_type": "stream",
     "text": [
      "(256, 1, 224, 224)\n"
     ]
    },
    {
     "name": "stderr",
     "output_type": "stream",
     "text": [
      "Compute features: 0.36 seconds\n"
     ]
    },
    {
     "name": "stdout",
     "output_type": "stream",
     "text": [
      "('MD661', 176)\n"
     ]
    },
    {
     "name": "stderr",
     "output_type": "stream",
     "text": [
      "Feature for (MD661,176,(6937,502)) is not in pool. Re-compute.\n",
      "Feature for (MD661,176,(7002,502)) is not in pool. Re-compute.\n",
      "Feature for (MD661,176,(7067,502)) is not in pool. Re-compute.\n",
      "Feature for (MD661,176,(7132,437)) is not in pool. Re-compute.\n",
      "Feature for (MD661,176,(7197,437)) is not in pool. Re-compute.\n",
      "Feature for (MD661,176,(7262,437)) is not in pool. Re-compute.\n",
      "Feature for (MD661,176,(7262,502)) is not in pool. Re-compute.\n",
      "Feature for (MD661,176,(7327,437)) is not in pool. Re-compute.\n",
      "Feature for (MD661,176,(7327,502)) is not in pool. Re-compute.\n",
      "Feature for (MD661,176,(7392,502)) is not in pool. Re-compute.\n",
      "Not using image_cache.\n",
      "Load image: 17.30 seconds.\n",
      "Extract patches: 17.40 seconds\n"
     ]
    },
    {
     "name": "stdout",
     "output_type": "stream",
     "text": [
      "(256, 1, 224, 224)\n"
     ]
    },
    {
     "name": "stderr",
     "output_type": "stream",
     "text": [
      "Compute features: 0.36 seconds\n"
     ]
    },
    {
     "name": "stdout",
     "output_type": "stream",
     "text": [
      "('MD662', 294)\n",
      "('MD661', 294)\n",
      "('MD661', 242)\n"
     ]
    },
    {
     "name": "stderr",
     "output_type": "stream",
     "text": [
      "Feature for (MD661,242,(5897,957)) is not in pool. Re-compute.\n",
      "Feature for (MD661,242,(5897,1022)) is not in pool. Re-compute.\n",
      "Feature for (MD661,242,(5962,892)) is not in pool. Re-compute.\n",
      "Feature for (MD661,242,(5962,957)) is not in pool. Re-compute.\n",
      "Feature for (MD661,242,(5962,1022)) is not in pool. Re-compute.\n",
      "Feature for (MD661,242,(6027,892)) is not in pool. Re-compute.\n",
      "Feature for (MD661,242,(6027,957)) is not in pool. Re-compute.\n",
      "Feature for (MD661,242,(6027,1022)) is not in pool. Re-compute.\n",
      "Feature for (MD661,242,(6092,827)) is not in pool. Re-compute.\n",
      "Feature for (MD661,242,(6092,892)) is not in pool. Re-compute.\n",
      "Feature for (MD661,242,(6092,957)) is not in pool. Re-compute.\n",
      "Feature for (MD661,242,(6092,1022)) is not in pool. Re-compute.\n",
      "Feature for (MD661,242,(6157,827)) is not in pool. Re-compute.\n",
      "Feature for (MD661,242,(6157,892)) is not in pool. Re-compute.\n",
      "Feature for (MD661,242,(6157,957)) is not in pool. Re-compute.\n",
      "Feature for (MD661,242,(6157,1022)) is not in pool. Re-compute.\n",
      "Feature for (MD661,242,(6222,827)) is not in pool. Re-compute.\n",
      "Feature for (MD661,242,(6222,892)) is not in pool. Re-compute.\n",
      "Feature for (MD661,242,(6222,957)) is not in pool. Re-compute.\n",
      "Feature for (MD661,242,(6222,1022)) is not in pool. Re-compute.\n",
      "Feature for (MD661,242,(6222,1087)) is not in pool. Re-compute.\n",
      "Feature for (MD661,242,(6287,827)) is not in pool. Re-compute.\n",
      "Feature for (MD661,242,(6287,892)) is not in pool. Re-compute.\n",
      "Feature for (MD661,242,(6287,957)) is not in pool. Re-compute.\n",
      "Feature for (MD661,242,(6287,1022)) is not in pool. Re-compute.\n",
      "Feature for (MD661,242,(6287,1087)) is not in pool. Re-compute.\n",
      "Feature for (MD661,242,(6352,827)) is not in pool. Re-compute.\n",
      "Feature for (MD661,242,(6352,892)) is not in pool. Re-compute.\n",
      "Feature for (MD661,242,(6352,957)) is not in pool. Re-compute.\n",
      "Feature for (MD661,242,(6352,1022)) is not in pool. Re-compute.\n",
      "Feature for (MD661,242,(6352,1087)) is not in pool. Re-compute.\n",
      "Feature for (MD661,242,(6417,827)) is not in pool. Re-compute.\n",
      "Feature for (MD661,242,(6417,892)) is not in pool. Re-compute.\n",
      "Feature for (MD661,242,(6417,957)) is not in pool. Re-compute.\n",
      "Feature for (MD661,242,(6417,1022)) is not in pool. Re-compute.\n",
      "Feature for (MD661,242,(6417,1087)) is not in pool. Re-compute.\n",
      "Feature for (MD661,242,(6482,892)) is not in pool. Re-compute.\n",
      "Feature for (MD661,242,(6482,957)) is not in pool. Re-compute.\n",
      "Feature for (MD661,242,(6482,1022)) is not in pool. Re-compute.\n",
      "Feature for (MD661,242,(6482,1087)) is not in pool. Re-compute.\n",
      "Feature for (MD661,242,(6547,892)) is not in pool. Re-compute.\n",
      "Feature for (MD661,242,(6547,957)) is not in pool. Re-compute.\n",
      "Feature for (MD661,242,(6547,1022)) is not in pool. Re-compute.\n",
      "Feature for (MD661,242,(6547,1087)) is not in pool. Re-compute.\n",
      "Feature for (MD661,242,(6612,957)) is not in pool. Re-compute.\n",
      "Feature for (MD661,242,(6612,1022)) is not in pool. Re-compute.\n",
      "Feature for (MD661,242,(6677,1022)) is not in pool. Re-compute.\n",
      "Not using image_cache.\n",
      "Load image: 16.74 seconds.\n",
      "Extract patches: 16.88 seconds\n"
     ]
    },
    {
     "name": "stdout",
     "output_type": "stream",
     "text": [
      "(256, 1, 224, 224)\n"
     ]
    },
    {
     "name": "stderr",
     "output_type": "stream",
     "text": [
      "Compute features: 0.37 seconds\n"
     ]
    },
    {
     "name": "stdout",
     "output_type": "stream",
     "text": [
      "('MD661', 280)\n"
     ]
    },
    {
     "name": "stderr",
     "output_type": "stream",
     "text": [
      "Feature for (MD661,280,(5572,1542)) is not in pool. Re-compute.\n",
      "Feature for (MD661,280,(5572,1607)) is not in pool. Re-compute.\n",
      "Feature for (MD661,280,(5572,1672)) is not in pool. Re-compute.\n",
      "Feature for (MD661,280,(5637,1347)) is not in pool. Re-compute.\n",
      "Feature for (MD661,280,(5637,1542)) is not in pool. Re-compute.\n",
      "Feature for (MD661,280,(5637,1607)) is not in pool. Re-compute.\n",
      "Feature for (MD661,280,(5637,1672)) is not in pool. Re-compute.\n",
      "Feature for (MD661,280,(5702,1347)) is not in pool. Re-compute.\n",
      "Feature for (MD661,280,(5702,1542)) is not in pool. Re-compute.\n",
      "Feature for (MD661,280,(5702,1607)) is not in pool. Re-compute.\n",
      "Feature for (MD661,280,(5702,1672)) is not in pool. Re-compute.\n",
      "Feature for (MD661,280,(5702,1737)) is not in pool. Re-compute.\n",
      "Feature for (MD661,280,(5767,1282)) is not in pool. Re-compute.\n",
      "Feature for (MD661,280,(5767,1347)) is not in pool. Re-compute.\n",
      "Feature for (MD661,280,(5767,1412)) is not in pool. Re-compute.\n",
      "Feature for (MD661,280,(5767,1477)) is not in pool. Re-compute.\n",
      "Feature for (MD661,280,(5767,1542)) is not in pool. Re-compute.\n",
      "Feature for (MD661,280,(5767,1607)) is not in pool. Re-compute.\n",
      "Feature for (MD661,280,(5767,1672)) is not in pool. Re-compute.\n",
      "Feature for (MD661,280,(5767,1737)) is not in pool. Re-compute.\n",
      "Feature for (MD661,280,(5832,1282)) is not in pool. Re-compute.\n",
      "Feature for (MD661,280,(5832,1347)) is not in pool. Re-compute.\n",
      "Feature for (MD661,280,(5832,1412)) is not in pool. Re-compute.\n",
      "Feature for (MD661,280,(5832,1477)) is not in pool. Re-compute.\n",
      "Feature for (MD661,280,(5832,1542)) is not in pool. Re-compute.\n",
      "Feature for (MD661,280,(5832,1607)) is not in pool. Re-compute.\n",
      "Feature for (MD661,280,(5897,1282)) is not in pool. Re-compute.\n",
      "Feature for (MD661,280,(5897,1347)) is not in pool. Re-compute.\n",
      "Feature for (MD661,280,(5897,1412)) is not in pool. Re-compute.\n",
      "Feature for (MD661,280,(5897,1477)) is not in pool. Re-compute.\n",
      "Feature for (MD661,280,(5962,1282)) is not in pool. Re-compute.\n",
      "Feature for (MD661,280,(5962,1347)) is not in pool. Re-compute.\n",
      "Feature for (MD661,280,(5962,1412)) is not in pool. Re-compute.\n",
      "Feature for (MD661,280,(6027,1282)) is not in pool. Re-compute.\n",
      "Feature for (MD661,280,(6027,1347)) is not in pool. Re-compute.\n",
      "Feature for (MD661,280,(6092,1282)) is not in pool. Re-compute.\n",
      "Not using image_cache.\n",
      "Load image: 16.57 seconds.\n",
      "Extract patches: 16.69 seconds\n"
     ]
    },
    {
     "name": "stdout",
     "output_type": "stream",
     "text": [
      "(256, 1, 224, 224)\n"
     ]
    },
    {
     "name": "stderr",
     "output_type": "stream",
     "text": [
      "Compute features: 0.36 seconds\n"
     ]
    },
    {
     "name": "stdout",
     "output_type": "stream",
     "text": [
      "('MD661', 239)\n"
     ]
    },
    {
     "name": "stderr",
     "output_type": "stream",
     "text": [
      "Feature for (MD661,239,(5962,957)) is not in pool. Re-compute.\n",
      "Feature for (MD661,239,(5962,1022)) is not in pool. Re-compute.\n",
      "Feature for (MD661,239,(6027,892)) is not in pool. Re-compute.\n",
      "Feature for (MD661,239,(6027,957)) is not in pool. Re-compute.\n",
      "Feature for (MD661,239,(6027,1022)) is not in pool. Re-compute.\n",
      "Feature for (MD661,239,(6092,892)) is not in pool. Re-compute.\n",
      "Feature for (MD661,239,(6092,957)) is not in pool. Re-compute.\n",
      "Feature for (MD661,239,(6092,1022)) is not in pool. Re-compute.\n",
      "Feature for (MD661,239,(6092,1087)) is not in pool. Re-compute.\n",
      "Feature for (MD661,239,(6157,892)) is not in pool. Re-compute.\n",
      "Feature for (MD661,239,(6157,957)) is not in pool. Re-compute.\n",
      "Feature for (MD661,239,(6157,1022)) is not in pool. Re-compute.\n",
      "Feature for (MD661,239,(6157,1087)) is not in pool. Re-compute.\n",
      "Feature for (MD661,239,(6222,892)) is not in pool. Re-compute.\n",
      "Feature for (MD661,239,(6222,957)) is not in pool. Re-compute.\n",
      "Feature for (MD661,239,(6222,1022)) is not in pool. Re-compute.\n",
      "Feature for (MD661,239,(6222,1087)) is not in pool. Re-compute.\n",
      "Feature for (MD661,239,(6287,892)) is not in pool. Re-compute.\n",
      "Feature for (MD661,239,(6287,957)) is not in pool. Re-compute.\n",
      "Feature for (MD661,239,(6287,1022)) is not in pool. Re-compute.\n",
      "Feature for (MD661,239,(6287,1087)) is not in pool. Re-compute.\n",
      "Feature for (MD661,239,(6352,892)) is not in pool. Re-compute.\n",
      "Feature for (MD661,239,(6352,957)) is not in pool. Re-compute.\n",
      "Feature for (MD661,239,(6352,1022)) is not in pool. Re-compute.\n",
      "Feature for (MD661,239,(6352,1087)) is not in pool. Re-compute.\n",
      "Feature for (MD661,239,(6417,892)) is not in pool. Re-compute.\n",
      "Feature for (MD661,239,(6417,957)) is not in pool. Re-compute.\n",
      "Feature for (MD661,239,(6417,1022)) is not in pool. Re-compute.\n",
      "Feature for (MD661,239,(6417,1087)) is not in pool. Re-compute.\n",
      "Feature for (MD661,239,(6482,892)) is not in pool. Re-compute.\n",
      "Feature for (MD661,239,(6482,957)) is not in pool. Re-compute.\n",
      "Feature for (MD661,239,(6482,1022)) is not in pool. Re-compute.\n",
      "Feature for (MD661,239,(6482,1087)) is not in pool. Re-compute.\n",
      "Feature for (MD661,239,(6547,957)) is not in pool. Re-compute.\n",
      "Feature for (MD661,239,(6547,1022)) is not in pool. Re-compute.\n",
      "Feature for (MD661,239,(6547,1087)) is not in pool. Re-compute.\n",
      "Feature for (MD661,239,(6612,957)) is not in pool. Re-compute.\n",
      "Feature for (MD661,239,(6612,1022)) is not in pool. Re-compute.\n",
      "Feature for (MD661,239,(6612,1087)) is not in pool. Re-compute.\n",
      "Feature for (MD661,239,(6677,1022)) is not in pool. Re-compute.\n",
      "Feature for (MD661,239,(6677,1087)) is not in pool. Re-compute.\n",
      "Feature for (MD661,239,(6742,1022)) is not in pool. Re-compute.\n",
      "Not using image_cache.\n",
      "Load image: 18.10 seconds.\n",
      "Extract patches: 18.22 seconds\n"
     ]
    },
    {
     "name": "stdout",
     "output_type": "stream",
     "text": [
      "(256, 1, 224, 224)\n"
     ]
    },
    {
     "name": "stderr",
     "output_type": "stream",
     "text": [
      "Compute features: 0.36 seconds\n"
     ]
    },
    {
     "name": "stdout",
     "output_type": "stream",
     "text": [
      "('MD662', 279)\n",
      "('MD661', 277)\n"
     ]
    },
    {
     "name": "stderr",
     "output_type": "stream",
     "text": [
      "Feature for (MD661,277,(5572,1282)) is not in pool. Re-compute.\n",
      "Feature for (MD661,277,(5637,1282)) is not in pool. Re-compute.\n",
      "Feature for (MD661,277,(5702,1282)) is not in pool. Re-compute.\n",
      "Feature for (MD661,277,(5702,1347)) is not in pool. Re-compute.\n",
      "Feature for (MD661,277,(5702,1542)) is not in pool. Re-compute.\n",
      "Feature for (MD661,277,(5767,1282)) is not in pool. Re-compute.\n",
      "Feature for (MD661,277,(5767,1347)) is not in pool. Re-compute.\n",
      "Feature for (MD661,277,(5767,1412)) is not in pool. Re-compute.\n",
      "Feature for (MD661,277,(5767,1477)) is not in pool. Re-compute.\n",
      "Feature for (MD661,277,(5767,1542)) is not in pool. Re-compute.\n",
      "Feature for (MD661,277,(5767,1607)) is not in pool. Re-compute.\n",
      "Feature for (MD661,277,(5832,1217)) is not in pool. Re-compute.\n",
      "Feature for (MD661,277,(5832,1282)) is not in pool. Re-compute.\n",
      "Feature for (MD661,277,(5832,1347)) is not in pool. Re-compute.\n",
      "Feature for (MD661,277,(5832,1412)) is not in pool. Re-compute.\n",
      "Feature for (MD661,277,(5832,1477)) is not in pool. Re-compute.\n",
      "Feature for (MD661,277,(5832,1542)) is not in pool. Re-compute.\n",
      "Feature for (MD661,277,(5897,1217)) is not in pool. Re-compute.\n",
      "Feature for (MD661,277,(5897,1282)) is not in pool. Re-compute.\n",
      "Feature for (MD661,277,(5897,1347)) is not in pool. Re-compute.\n",
      "Feature for (MD661,277,(5897,1412)) is not in pool. Re-compute.\n",
      "Feature for (MD661,277,(5897,1477)) is not in pool. Re-compute.\n",
      "Feature for (MD661,277,(5962,1152)) is not in pool. Re-compute.\n",
      "Feature for (MD661,277,(5962,1217)) is not in pool. Re-compute.\n",
      "Feature for (MD661,277,(5962,1282)) is not in pool. Re-compute.\n",
      "Feature for (MD661,277,(5962,1347)) is not in pool. Re-compute.\n",
      "Feature for (MD661,277,(6027,1152)) is not in pool. Re-compute.\n",
      "Feature for (MD661,277,(6027,1217)) is not in pool. Re-compute.\n",
      "Feature for (MD661,277,(6027,1282)) is not in pool. Re-compute.\n",
      "Feature for (MD661,277,(6092,1152)) is not in pool. Re-compute.\n",
      "Feature for (MD661,277,(6092,1217)) is not in pool. Re-compute.\n",
      "Feature for (MD661,277,(6157,1152)) is not in pool. Re-compute.\n",
      "Not using image_cache.\n",
      "Load image: 17.32 seconds.\n",
      "Extract patches: 17.43 seconds\n"
     ]
    },
    {
     "name": "stdout",
     "output_type": "stream",
     "text": [
      "(256, 1, 224, 224)\n"
     ]
    },
    {
     "name": "stderr",
     "output_type": "stream",
     "text": [
      "Compute features: 0.38 seconds\n"
     ]
    },
    {
     "name": "stdout",
     "output_type": "stream",
     "text": [
      "('MD661', 156)\n",
      "('MD662', 150)\n",
      "('MD661', 258)\n"
     ]
    },
    {
     "name": "stderr",
     "output_type": "stream",
     "text": [
      "Feature for (MD661,258,(5572,1022)) is not in pool. Re-compute.\n",
      "Feature for (MD661,258,(5572,1087)) is not in pool. Re-compute.\n",
      "Feature for (MD661,258,(5572,1152)) is not in pool. Re-compute.\n",
      "Feature for (MD661,258,(5637,957)) is not in pool. Re-compute.\n",
      "Feature for (MD661,258,(5637,1022)) is not in pool. Re-compute.\n",
      "Feature for (MD661,258,(5637,1087)) is not in pool. Re-compute.\n",
      "Feature for (MD661,258,(5637,1152)) is not in pool. Re-compute.\n",
      "Feature for (MD661,258,(5702,892)) is not in pool. Re-compute.\n",
      "Feature for (MD661,258,(5702,957)) is not in pool. Re-compute.\n",
      "Feature for (MD661,258,(5702,1022)) is not in pool. Re-compute.\n",
      "Feature for (MD661,258,(5702,1087)) is not in pool. Re-compute.\n",
      "Feature for (MD661,258,(5702,1152)) is not in pool. Re-compute.\n",
      "Feature for (MD661,258,(5767,892)) is not in pool. Re-compute.\n",
      "Feature for (MD661,258,(5767,957)) is not in pool. Re-compute.\n",
      "Feature for (MD661,258,(5767,1022)) is not in pool. Re-compute.\n",
      "Feature for (MD661,258,(5767,1087)) is not in pool. Re-compute.\n",
      "Feature for (MD661,258,(5767,1152)) is not in pool. Re-compute.\n",
      "Feature for (MD661,258,(5832,827)) is not in pool. Re-compute.\n",
      "Feature for (MD661,258,(5832,892)) is not in pool. Re-compute.\n",
      "Feature for (MD661,258,(5832,957)) is not in pool. Re-compute.\n",
      "Feature for (MD661,258,(5832,1022)) is not in pool. Re-compute.\n",
      "Feature for (MD661,258,(5832,1087)) is not in pool. Re-compute.\n",
      "Feature for (MD661,258,(5832,1152)) is not in pool. Re-compute.\n",
      "Feature for (MD661,258,(5897,827)) is not in pool. Re-compute.\n",
      "Feature for (MD661,258,(5897,892)) is not in pool. Re-compute.\n",
      "Feature for (MD661,258,(5897,957)) is not in pool. Re-compute.\n",
      "Feature for (MD661,258,(5897,1022)) is not in pool. Re-compute.\n",
      "Feature for (MD661,258,(5897,1087)) is not in pool. Re-compute.\n",
      "Feature for (MD661,258,(5897,1152)) is not in pool. Re-compute.\n",
      "Feature for (MD661,258,(5962,827)) is not in pool. Re-compute.\n",
      "Feature for (MD661,258,(5962,892)) is not in pool. Re-compute.\n",
      "Feature for (MD661,258,(5962,957)) is not in pool. Re-compute.\n",
      "Feature for (MD661,258,(5962,1022)) is not in pool. Re-compute.\n",
      "Feature for (MD661,258,(5962,1087)) is not in pool. Re-compute.\n",
      "Feature for (MD661,258,(6027,827)) is not in pool. Re-compute.\n",
      "Feature for (MD661,258,(6027,892)) is not in pool. Re-compute.\n",
      "Feature for (MD661,258,(6027,957)) is not in pool. Re-compute.\n",
      "Feature for (MD661,258,(6027,1022)) is not in pool. Re-compute.\n",
      "Feature for (MD661,258,(6027,1087)) is not in pool. Re-compute.\n",
      "Feature for (MD661,258,(6092,762)) is not in pool. Re-compute.\n",
      "Feature for (MD661,258,(6092,827)) is not in pool. Re-compute.\n",
      "Feature for (MD661,258,(6092,892)) is not in pool. Re-compute.\n",
      "Feature for (MD661,258,(6092,957)) is not in pool. Re-compute.\n",
      "Feature for (MD661,258,(6092,1022)) is not in pool. Re-compute.\n",
      "Feature for (MD661,258,(6092,1087)) is not in pool. Re-compute.\n",
      "Feature for (MD661,258,(6157,762)) is not in pool. Re-compute.\n",
      "Feature for (MD661,258,(6157,827)) is not in pool. Re-compute.\n",
      "Feature for (MD661,258,(6157,892)) is not in pool. Re-compute.\n",
      "Feature for (MD661,258,(6157,957)) is not in pool. Re-compute.\n",
      "Feature for (MD661,258,(6157,1022)) is not in pool. Re-compute.\n",
      "Feature for (MD661,258,(6157,1087)) is not in pool. Re-compute.\n",
      "Feature for (MD661,258,(6222,762)) is not in pool. Re-compute.\n",
      "Feature for (MD661,258,(6222,827)) is not in pool. Re-compute.\n",
      "Feature for (MD661,258,(6222,892)) is not in pool. Re-compute.\n",
      "Feature for (MD661,258,(6222,957)) is not in pool. Re-compute.\n",
      "Feature for (MD661,258,(6222,1022)) is not in pool. Re-compute.\n",
      "Feature for (MD661,258,(6287,827)) is not in pool. Re-compute.\n",
      "Feature for (MD661,258,(6287,892)) is not in pool. Re-compute.\n",
      "Feature for (MD661,258,(6352,827)) is not in pool. Re-compute.\n",
      "Feature for (MD661,258,(6352,892)) is not in pool. Re-compute.\n",
      "Feature for (MD661,258,(6417,892)) is not in pool. Re-compute.\n",
      "Feature for (MD661,258,(6547,1022)) is not in pool. Re-compute.\n",
      "Not using image_cache.\n",
      "Load image: 17.21 seconds.\n",
      "Extract patches: 17.35 seconds\n"
     ]
    },
    {
     "name": "stdout",
     "output_type": "stream",
     "text": [
      "(256, 1, 224, 224)\n"
     ]
    },
    {
     "name": "stderr",
     "output_type": "stream",
     "text": [
      "Compute features: 0.36 seconds\n"
     ]
    },
    {
     "name": "stdout",
     "output_type": "stream",
     "text": [
      "('MD662', 160)\n"
     ]
    },
    {
     "name": "stderr",
     "output_type": "stream",
     "text": [
      "Feature for (MD662,160,(6352,1672)) is not in pool. Re-compute.\n",
      "Feature for (MD662,160,(6417,1672)) is not in pool. Re-compute.\n",
      "Not using image_cache.\n",
      "Load image: 13.66 seconds.\n",
      "Extract patches: 13.73 seconds\n"
     ]
    },
    {
     "name": "stdout",
     "output_type": "stream",
     "text": [
      "(256, 1, 224, 224)\n"
     ]
    },
    {
     "name": "stderr",
     "output_type": "stream",
     "text": [
      "Compute features: 0.35 seconds\n"
     ]
    },
    {
     "name": "stdout",
     "output_type": "stream",
     "text": [
      "('MD662', 196)\n"
     ]
    },
    {
     "name": "stderr",
     "output_type": "stream",
     "text": [
      "Feature for (MD662,196,(4727,1802)) is not in pool. Re-compute.\n",
      "Feature for (MD662,196,(4727,1867)) is not in pool. Re-compute.\n",
      "Feature for (MD662,196,(4792,1802)) is not in pool. Re-compute.\n",
      "Feature for (MD662,196,(4792,1867)) is not in pool. Re-compute.\n",
      "Feature for (MD662,196,(4857,1802)) is not in pool. Re-compute.\n",
      "Feature for (MD662,196,(4857,1867)) is not in pool. Re-compute.\n",
      "Feature for (MD662,196,(4922,1802)) is not in pool. Re-compute.\n",
      "Feature for (MD662,196,(4922,1867)) is not in pool. Re-compute.\n",
      "Feature for (MD662,196,(4987,1737)) is not in pool. Re-compute.\n",
      "Feature for (MD662,196,(4987,1802)) is not in pool. Re-compute.\n",
      "Feature for (MD662,196,(4987,1867)) is not in pool. Re-compute.\n",
      "Feature for (MD662,196,(5052,1737)) is not in pool. Re-compute.\n",
      "Feature for (MD662,196,(5052,1802)) is not in pool. Re-compute.\n",
      "Feature for (MD662,196,(5052,1867)) is not in pool. Re-compute.\n",
      "Feature for (MD662,196,(5052,1932)) is not in pool. Re-compute.\n",
      "Feature for (MD662,196,(5117,1737)) is not in pool. Re-compute.\n",
      "Feature for (MD662,196,(5117,1802)) is not in pool. Re-compute.\n",
      "Feature for (MD662,196,(5117,1867)) is not in pool. Re-compute.\n",
      "Feature for (MD662,196,(5117,1932)) is not in pool. Re-compute.\n",
      "Feature for (MD662,196,(5182,1672)) is not in pool. Re-compute.\n",
      "Feature for (MD662,196,(5182,1737)) is not in pool. Re-compute.\n",
      "Feature for (MD662,196,(5182,1802)) is not in pool. Re-compute.\n",
      "Feature for (MD662,196,(5182,1867)) is not in pool. Re-compute.\n",
      "Feature for (MD662,196,(5247,1672)) is not in pool. Re-compute.\n",
      "Feature for (MD662,196,(5247,1737)) is not in pool. Re-compute.\n",
      "Feature for (MD662,196,(5247,1802)) is not in pool. Re-compute.\n",
      "Feature for (MD662,196,(5312,1672)) is not in pool. Re-compute.\n",
      "Feature for (MD662,196,(5377,1672)) is not in pool. Re-compute.\n",
      "Feature for (MD662,196,(5442,1672)) is not in pool. Re-compute.\n",
      "Not using image_cache.\n",
      "Load image: 13.58 seconds.\n",
      "Extract patches: 13.68 seconds\n"
     ]
    },
    {
     "name": "stdout",
     "output_type": "stream",
     "text": [
      "(256, 1, 224, 224)\n"
     ]
    },
    {
     "name": "stderr",
     "output_type": "stream",
     "text": [
      "Compute features: 0.37 seconds\n"
     ]
    },
    {
     "name": "stdout",
     "output_type": "stream",
     "text": [
      "('MD662', 265)\n"
     ]
    },
    {
     "name": "stderr",
     "output_type": "stream",
     "text": [
      "Feature for (MD662,265,(4467,1932)) is not in pool. Re-compute.\n",
      "Feature for (MD662,265,(4467,1997)) is not in pool. Re-compute.\n",
      "Feature for (MD662,265,(4467,2062)) is not in pool. Re-compute.\n",
      "Feature for (MD662,265,(4467,2127)) is not in pool. Re-compute.\n",
      "Feature for (MD662,265,(4532,1932)) is not in pool. Re-compute.\n",
      "Feature for (MD662,265,(4532,1997)) is not in pool. Re-compute.\n",
      "Feature for (MD662,265,(4532,2062)) is not in pool. Re-compute.\n",
      "Feature for (MD662,265,(4532,2127)) is not in pool. Re-compute.\n",
      "Feature for (MD662,265,(4597,1867)) is not in pool. Re-compute.\n",
      "Feature for (MD662,265,(4597,1932)) is not in pool. Re-compute.\n",
      "Feature for (MD662,265,(4597,1997)) is not in pool. Re-compute.\n",
      "Feature for (MD662,265,(4597,2062)) is not in pool. Re-compute.\n",
      "Feature for (MD662,265,(4597,2127)) is not in pool. Re-compute.\n",
      "Feature for (MD662,265,(4662,1867)) is not in pool. Re-compute.\n",
      "Feature for (MD662,265,(4662,1932)) is not in pool. Re-compute.\n",
      "Feature for (MD662,265,(4662,1997)) is not in pool. Re-compute.\n",
      "Feature for (MD662,265,(4662,2062)) is not in pool. Re-compute.\n",
      "Feature for (MD662,265,(4662,2127)) is not in pool. Re-compute.\n",
      "Feature for (MD662,265,(4727,1867)) is not in pool. Re-compute.\n",
      "Feature for (MD662,265,(4727,1932)) is not in pool. Re-compute.\n",
      "Feature for (MD662,265,(4727,1997)) is not in pool. Re-compute.\n",
      "Feature for (MD662,265,(4792,1867)) is not in pool. Re-compute.\n",
      "Not using image_cache.\n",
      "Load image: 16.26 seconds.\n",
      "Extract patches: 16.36 seconds\n"
     ]
    },
    {
     "name": "stdout",
     "output_type": "stream",
     "text": [
      "(256, 1, 224, 224)\n"
     ]
    },
    {
     "name": "stderr",
     "output_type": "stream",
     "text": [
      "Compute features: 0.36 seconds\n"
     ]
    },
    {
     "name": "stdout",
     "output_type": "stream",
     "text": [
      "('MD661', 203)\n"
     ]
    },
    {
     "name": "stderr",
     "output_type": "stream",
     "text": [
      "Feature for (MD661,203,(5702,892)) is not in pool. Re-compute.\n",
      "Feature for (MD661,203,(5767,892)) is not in pool. Re-compute.\n",
      "Feature for (MD661,203,(5832,827)) is not in pool. Re-compute.\n",
      "Feature for (MD661,203,(5832,892)) is not in pool. Re-compute.\n",
      "Feature for (MD661,203,(5897,827)) is not in pool. Re-compute.\n",
      "Feature for (MD661,203,(5897,892)) is not in pool. Re-compute.\n",
      "Feature for (MD661,203,(5962,762)) is not in pool. Re-compute.\n",
      "Feature for (MD661,203,(5962,827)) is not in pool. Re-compute.\n",
      "Feature for (MD661,203,(5962,892)) is not in pool. Re-compute.\n",
      "Feature for (MD661,203,(6027,762)) is not in pool. Re-compute.\n",
      "Feature for (MD661,203,(6027,827)) is not in pool. Re-compute.\n",
      "Feature for (MD661,203,(6027,892)) is not in pool. Re-compute.\n",
      "Feature for (MD661,203,(6092,762)) is not in pool. Re-compute.\n",
      "Feature for (MD661,203,(6092,827)) is not in pool. Re-compute.\n",
      "Feature for (MD661,203,(6092,892)) is not in pool. Re-compute.\n",
      "Feature for (MD661,203,(6157,762)) is not in pool. Re-compute.\n",
      "Feature for (MD661,203,(6157,827)) is not in pool. Re-compute.\n",
      "Feature for (MD661,203,(6157,892)) is not in pool. Re-compute.\n",
      "Feature for (MD661,203,(6222,762)) is not in pool. Re-compute.\n",
      "Feature for (MD661,203,(6222,827)) is not in pool. Re-compute.\n",
      "Feature for (MD661,203,(6287,762)) is not in pool. Re-compute.\n",
      "Feature for (MD661,203,(7717,112)) is not in pool. Re-compute.\n",
      "Feature for (MD661,203,(7782,112)) is not in pool. Re-compute.\n",
      "Feature for (MD661,203,(7847,112)) is not in pool. Re-compute.\n",
      "Feature for (MD661,203,(7912,112)) is not in pool. Re-compute.\n",
      "Feature for (MD661,203,(7977,112)) is not in pool. Re-compute.\n",
      "Feature for (MD661,203,(8042,112)) is not in pool. Re-compute.\n",
      "Feature for (MD661,203,(8107,112)) is not in pool. Re-compute.\n",
      "Not using image_cache.\n",
      "Load image: 17.69 seconds.\n",
      "Extract patches: 17.82 seconds\n"
     ]
    },
    {
     "name": "stdout",
     "output_type": "stream",
     "text": [
      "(256, 1, 224, 224)\n"
     ]
    },
    {
     "name": "stderr",
     "output_type": "stream",
     "text": [
      "Compute features: 0.36 seconds\n"
     ]
    },
    {
     "name": "stdout",
     "output_type": "stream",
     "text": [
      "('MD662', 203)\n"
     ]
    },
    {
     "name": "stderr",
     "output_type": "stream",
     "text": [
      "Feature for (MD662,203,(4727,1737)) is not in pool. Re-compute.\n",
      "Feature for (MD662,203,(4792,1737)) is not in pool. Re-compute.\n",
      "Feature for (MD662,203,(4792,1802)) is not in pool. Re-compute.\n",
      "Feature for (MD662,203,(4792,1867)) is not in pool. Re-compute.\n",
      "Feature for (MD662,203,(4857,1737)) is not in pool. Re-compute.\n",
      "Feature for (MD662,203,(4857,1802)) is not in pool. Re-compute.\n",
      "Feature for (MD662,203,(4857,1867)) is not in pool. Re-compute.\n",
      "Feature for (MD662,203,(4922,1737)) is not in pool. Re-compute.\n",
      "Feature for (MD662,203,(4922,1802)) is not in pool. Re-compute.\n",
      "Feature for (MD662,203,(4922,1867)) is not in pool. Re-compute.\n",
      "Feature for (MD662,203,(4987,1737)) is not in pool. Re-compute.\n",
      "Feature for (MD662,203,(4987,1802)) is not in pool. Re-compute.\n",
      "Feature for (MD662,203,(4987,1867)) is not in pool. Re-compute.\n",
      "Feature for (MD662,203,(5052,1737)) is not in pool. Re-compute.\n",
      "Feature for (MD662,203,(5052,1802)) is not in pool. Re-compute.\n",
      "Feature for (MD662,203,(5052,1867)) is not in pool. Re-compute.\n",
      "Feature for (MD662,203,(5117,1672)) is not in pool. Re-compute.\n",
      "Feature for (MD662,203,(5117,1737)) is not in pool. Re-compute.\n",
      "Feature for (MD662,203,(5117,1802)) is not in pool. Re-compute.\n",
      "Feature for (MD662,203,(5117,1867)) is not in pool. Re-compute.\n",
      "Feature for (MD662,203,(5117,1932)) is not in pool. Re-compute.\n",
      "Feature for (MD662,203,(5182,1672)) is not in pool. Re-compute.\n",
      "Feature for (MD662,203,(5182,1737)) is not in pool. Re-compute.\n",
      "Feature for (MD662,203,(5182,1802)) is not in pool. Re-compute.\n",
      "Feature for (MD662,203,(5182,1867)) is not in pool. Re-compute.\n",
      "Feature for (MD662,203,(5182,1932)) is not in pool. Re-compute.\n",
      "Feature for (MD662,203,(5247,1672)) is not in pool. Re-compute.\n",
      "Feature for (MD662,203,(5247,1737)) is not in pool. Re-compute.\n",
      "Feature for (MD662,203,(5247,1802)) is not in pool. Re-compute.\n",
      "Feature for (MD662,203,(5247,1867)) is not in pool. Re-compute.\n",
      "Feature for (MD662,203,(5312,1672)) is not in pool. Re-compute.\n",
      "Feature for (MD662,203,(5312,1737)) is not in pool. Re-compute.\n",
      "Feature for (MD662,203,(5377,1672)) is not in pool. Re-compute.\n",
      "Feature for (MD662,203,(5377,1737)) is not in pool. Re-compute.\n",
      "Feature for (MD662,203,(5442,1607)) is not in pool. Re-compute.\n",
      "Feature for (MD662,203,(5442,1672)) is not in pool. Re-compute.\n",
      "Feature for (MD662,203,(5507,1672)) is not in pool. Re-compute.\n",
      "Not using image_cache.\n",
      "Load image: 15.92 seconds.\n",
      "Extract patches: 16.04 seconds\n"
     ]
    },
    {
     "name": "stdout",
     "output_type": "stream",
     "text": [
      "(256, 1, 224, 224)\n"
     ]
    },
    {
     "name": "stderr",
     "output_type": "stream",
     "text": [
      "Compute features: 0.37 seconds\n"
     ]
    },
    {
     "name": "stdout",
     "output_type": "stream",
     "text": [
      "('MD661', 300)\n",
      "('MD661', 248)\n"
     ]
    },
    {
     "name": "stderr",
     "output_type": "stream",
     "text": [
      "Feature for (MD661,248,(5767,892)) is not in pool. Re-compute.\n",
      "Feature for (MD661,248,(5767,957)) is not in pool. Re-compute.\n",
      "Feature for (MD661,248,(5767,1022)) is not in pool. Re-compute.\n",
      "Feature for (MD661,248,(5832,892)) is not in pool. Re-compute.\n",
      "Feature for (MD661,248,(5832,957)) is not in pool. Re-compute.\n",
      "Feature for (MD661,248,(5832,1022)) is not in pool. Re-compute.\n",
      "Feature for (MD661,248,(5897,892)) is not in pool. Re-compute.\n",
      "Feature for (MD661,248,(5897,957)) is not in pool. Re-compute.\n",
      "Feature for (MD661,248,(5897,1022)) is not in pool. Re-compute.\n",
      "Feature for (MD661,248,(5962,892)) is not in pool. Re-compute.\n",
      "Feature for (MD661,248,(5962,957)) is not in pool. Re-compute.\n",
      "Feature for (MD661,248,(5962,1022)) is not in pool. Re-compute.\n",
      "Feature for (MD661,248,(6027,827)) is not in pool. Re-compute.\n",
      "Feature for (MD661,248,(6027,892)) is not in pool. Re-compute.\n",
      "Feature for (MD661,248,(6027,957)) is not in pool. Re-compute.\n",
      "Feature for (MD661,248,(6027,1022)) is not in pool. Re-compute.\n",
      "Feature for (MD661,248,(6092,827)) is not in pool. Re-compute.\n",
      "Feature for (MD661,248,(6092,892)) is not in pool. Re-compute.\n",
      "Feature for (MD661,248,(6092,957)) is not in pool. Re-compute.\n",
      "Feature for (MD661,248,(6092,1022)) is not in pool. Re-compute.\n",
      "Feature for (MD661,248,(6157,762)) is not in pool. Re-compute.\n",
      "Feature for (MD661,248,(6157,827)) is not in pool. Re-compute.\n",
      "Feature for (MD661,248,(6157,892)) is not in pool. Re-compute.\n",
      "Feature for (MD661,248,(6157,957)) is not in pool. Re-compute.\n",
      "Feature for (MD661,248,(6157,1022)) is not in pool. Re-compute.\n",
      "Feature for (MD661,248,(6222,762)) is not in pool. Re-compute.\n",
      "Feature for (MD661,248,(6222,827)) is not in pool. Re-compute.\n",
      "Feature for (MD661,248,(6222,892)) is not in pool. Re-compute.\n",
      "Feature for (MD661,248,(6222,957)) is not in pool. Re-compute.\n",
      "Feature for (MD661,248,(6222,1022)) is not in pool. Re-compute.\n",
      "Feature for (MD661,248,(6287,762)) is not in pool. Re-compute.\n",
      "Feature for (MD661,248,(6287,827)) is not in pool. Re-compute.\n",
      "Feature for (MD661,248,(6287,892)) is not in pool. Re-compute.\n",
      "Feature for (MD661,248,(6287,957)) is not in pool. Re-compute.\n",
      "Feature for (MD661,248,(6287,1022)) is not in pool. Re-compute.\n",
      "Feature for (MD661,248,(6352,762)) is not in pool. Re-compute.\n",
      "Feature for (MD661,248,(6352,827)) is not in pool. Re-compute.\n",
      "Feature for (MD661,248,(6352,892)) is not in pool. Re-compute.\n",
      "Feature for (MD661,248,(6352,957)) is not in pool. Re-compute.\n",
      "Feature for (MD661,248,(6352,1022)) is not in pool. Re-compute.\n",
      "Feature for (MD661,248,(6417,827)) is not in pool. Re-compute.\n",
      "Feature for (MD661,248,(6417,892)) is not in pool. Re-compute.\n",
      "Feature for (MD661,248,(6417,957)) is not in pool. Re-compute.\n",
      "Feature for (MD661,248,(6417,1022)) is not in pool. Re-compute.\n",
      "Feature for (MD661,248,(6482,892)) is not in pool. Re-compute.\n",
      "Feature for (MD661,248,(6482,957)) is not in pool. Re-compute.\n",
      "Feature for (MD661,248,(6482,1022)) is not in pool. Re-compute.\n",
      "Feature for (MD661,248,(6547,892)) is not in pool. Re-compute.\n",
      "Feature for (MD661,248,(6547,957)) is not in pool. Re-compute.\n",
      "Feature for (MD661,248,(6547,1022)) is not in pool. Re-compute.\n",
      "Feature for (MD661,248,(6612,957)) is not in pool. Re-compute.\n",
      "Not using image_cache.\n",
      "Load image: 17.92 seconds.\n",
      "Extract patches: 18.09 seconds\n"
     ]
    },
    {
     "name": "stdout",
     "output_type": "stream",
     "text": [
      "(256, 1, 224, 224)\n"
     ]
    },
    {
     "name": "stderr",
     "output_type": "stream",
     "text": [
      "Compute features: 0.36 seconds\n"
     ]
    },
    {
     "name": "stdout",
     "output_type": "stream",
     "text": [
      "('MD662', 254)\n"
     ]
    },
    {
     "name": "stderr",
     "output_type": "stream",
     "text": [
      "Feature for (MD662,254,(4467,1737)) is not in pool. Re-compute.\n",
      "Feature for (MD662,254,(4467,1802)) is not in pool. Re-compute.\n",
      "Feature for (MD662,254,(4467,1867)) is not in pool. Re-compute.\n",
      "Feature for (MD662,254,(4467,1932)) is not in pool. Re-compute.\n",
      "Feature for (MD662,254,(4532,1737)) is not in pool. Re-compute.\n",
      "Feature for (MD662,254,(4532,1802)) is not in pool. Re-compute.\n",
      "Feature for (MD662,254,(4532,1867)) is not in pool. Re-compute.\n",
      "Feature for (MD662,254,(4532,1932)) is not in pool. Re-compute.\n",
      "Feature for (MD662,254,(4597,1737)) is not in pool. Re-compute.\n",
      "Feature for (MD662,254,(4597,1802)) is not in pool. Re-compute.\n",
      "Feature for (MD662,254,(4597,1867)) is not in pool. Re-compute.\n",
      "Feature for (MD662,254,(4597,1932)) is not in pool. Re-compute.\n",
      "Feature for (MD662,254,(4662,1737)) is not in pool. Re-compute.\n",
      "Feature for (MD662,254,(4662,1802)) is not in pool. Re-compute.\n",
      "Feature for (MD662,254,(4662,1867)) is not in pool. Re-compute.\n",
      "Feature for (MD662,254,(4662,1932)) is not in pool. Re-compute.\n",
      "Feature for (MD662,254,(4727,1672)) is not in pool. Re-compute.\n",
      "Feature for (MD662,254,(4727,1737)) is not in pool. Re-compute.\n",
      "Feature for (MD662,254,(4727,1802)) is not in pool. Re-compute.\n",
      "Feature for (MD662,254,(4727,1867)) is not in pool. Re-compute.\n",
      "Feature for (MD662,254,(4727,1932)) is not in pool. Re-compute.\n",
      "Feature for (MD662,254,(4792,1672)) is not in pool. Re-compute.\n",
      "Feature for (MD662,254,(4792,1737)) is not in pool. Re-compute.\n",
      "Feature for (MD662,254,(4792,1802)) is not in pool. Re-compute.\n",
      "Feature for (MD662,254,(4792,1867)) is not in pool. Re-compute.\n",
      "Feature for (MD662,254,(4792,1932)) is not in pool. Re-compute.\n",
      "Feature for (MD662,254,(4857,1672)) is not in pool. Re-compute.\n",
      "Feature for (MD662,254,(4857,1737)) is not in pool. Re-compute.\n",
      "Feature for (MD662,254,(4857,1802)) is not in pool. Re-compute.\n",
      "Feature for (MD662,254,(4857,1867)) is not in pool. Re-compute.\n",
      "Feature for (MD662,254,(4922,1607)) is not in pool. Re-compute.\n",
      "Feature for (MD662,254,(4922,1672)) is not in pool. Re-compute.\n",
      "Feature for (MD662,254,(4987,1607)) is not in pool. Re-compute.\n",
      "Not using image_cache.\n",
      "Load image: 16.66 seconds.\n",
      "Extract patches: 16.78 seconds\n"
     ]
    },
    {
     "name": "stdout",
     "output_type": "stream",
     "text": [
      "(256, 1, 224, 224)\n"
     ]
    },
    {
     "name": "stderr",
     "output_type": "stream",
     "text": [
      "Compute features: 0.36 seconds\n"
     ]
    },
    {
     "name": "stdout",
     "output_type": "stream",
     "text": [
      "('MD662', 291)\n",
      "('MD662', 186)\n"
     ]
    },
    {
     "name": "stderr",
     "output_type": "stream",
     "text": [
      "Feature for (MD662,186,(4727,1997)) is not in pool. Re-compute.\n",
      "Feature for (MD662,186,(4727,2062)) is not in pool. Re-compute.\n",
      "Feature for (MD662,186,(4792,1997)) is not in pool. Re-compute.\n",
      "Feature for (MD662,186,(4792,2062)) is not in pool. Re-compute.\n",
      "Feature for (MD662,186,(4857,1932)) is not in pool. Re-compute.\n",
      "Feature for (MD662,186,(4857,1997)) is not in pool. Re-compute.\n",
      "Feature for (MD662,186,(4857,2062)) is not in pool. Re-compute.\n",
      "Feature for (MD662,186,(4922,1932)) is not in pool. Re-compute.\n",
      "Feature for (MD662,186,(4922,1997)) is not in pool. Re-compute.\n",
      "Feature for (MD662,186,(4922,2062)) is not in pool. Re-compute.\n",
      "Feature for (MD662,186,(4987,1932)) is not in pool. Re-compute.\n",
      "Feature for (MD662,186,(4987,1997)) is not in pool. Re-compute.\n",
      "Feature for (MD662,186,(4987,2062)) is not in pool. Re-compute.\n",
      "Feature for (MD662,186,(4987,2127)) is not in pool. Re-compute.\n",
      "Feature for (MD662,186,(5052,1932)) is not in pool. Re-compute.\n",
      "Feature for (MD662,186,(5052,1997)) is not in pool. Re-compute.\n",
      "Feature for (MD662,186,(5052,2062)) is not in pool. Re-compute.\n",
      "Feature for (MD662,186,(5052,2127)) is not in pool. Re-compute.\n",
      "Feature for (MD662,186,(5117,1932)) is not in pool. Re-compute.\n",
      "Feature for (MD662,186,(5117,1997)) is not in pool. Re-compute.\n",
      "Feature for (MD662,186,(5117,2062)) is not in pool. Re-compute.\n",
      "Feature for (MD662,186,(5182,1867)) is not in pool. Re-compute.\n",
      "Feature for (MD662,186,(5182,1932)) is not in pool. Re-compute.\n",
      "Feature for (MD662,186,(5182,1997)) is not in pool. Re-compute.\n",
      "Feature for (MD662,186,(5247,1867)) is not in pool. Re-compute.\n",
      "Not using image_cache.\n",
      "Load image: 15.58 seconds.\n",
      "Extract patches: 15.69 seconds\n"
     ]
    },
    {
     "name": "stdout",
     "output_type": "stream",
     "text": [
      "(256, 1, 224, 224)\n"
     ]
    },
    {
     "name": "stderr",
     "output_type": "stream",
     "text": [
      "Compute features: 0.38 seconds\n"
     ]
    },
    {
     "name": "stdout",
     "output_type": "stream",
     "text": [
      "('MD661', 245)\n"
     ]
    },
    {
     "name": "stderr",
     "output_type": "stream",
     "text": [
      "Feature for (MD661,245,(5832,957)) is not in pool. Re-compute.\n",
      "Feature for (MD661,245,(5832,1022)) is not in pool. Re-compute.\n",
      "Feature for (MD661,245,(5897,892)) is not in pool. Re-compute.\n",
      "Feature for (MD661,245,(5897,957)) is not in pool. Re-compute.\n",
      "Feature for (MD661,245,(5897,1022)) is not in pool. Re-compute.\n",
      "Feature for (MD661,245,(5962,892)) is not in pool. Re-compute.\n",
      "Feature for (MD661,245,(5962,957)) is not in pool. Re-compute.\n",
      "Feature for (MD661,245,(5962,1022)) is not in pool. Re-compute.\n",
      "Feature for (MD661,245,(6027,827)) is not in pool. Re-compute.\n",
      "Feature for (MD661,245,(6027,892)) is not in pool. Re-compute.\n",
      "Feature for (MD661,245,(6027,957)) is not in pool. Re-compute.\n",
      "Feature for (MD661,245,(6027,1022)) is not in pool. Re-compute.\n",
      "Feature for (MD661,245,(6092,827)) is not in pool. Re-compute.\n",
      "Feature for (MD661,245,(6092,892)) is not in pool. Re-compute.\n",
      "Feature for (MD661,245,(6092,957)) is not in pool. Re-compute.\n",
      "Feature for (MD661,245,(6092,1022)) is not in pool. Re-compute.\n",
      "Feature for (MD661,245,(6157,827)) is not in pool. Re-compute.\n",
      "Feature for (MD661,245,(6157,892)) is not in pool. Re-compute.\n",
      "Feature for (MD661,245,(6157,957)) is not in pool. Re-compute.\n",
      "Feature for (MD661,245,(6157,1022)) is not in pool. Re-compute.\n",
      "Feature for (MD661,245,(6222,827)) is not in pool. Re-compute.\n",
      "Feature for (MD661,245,(6222,892)) is not in pool. Re-compute.\n",
      "Feature for (MD661,245,(6222,957)) is not in pool. Re-compute.\n",
      "Feature for (MD661,245,(6222,1022)) is not in pool. Re-compute.\n",
      "Feature for (MD661,245,(6287,762)) is not in pool. Re-compute.\n",
      "Feature for (MD661,245,(6287,827)) is not in pool. Re-compute.\n",
      "Feature for (MD661,245,(6287,892)) is not in pool. Re-compute.\n",
      "Feature for (MD661,245,(6287,957)) is not in pool. Re-compute.\n",
      "Feature for (MD661,245,(6287,1022)) is not in pool. Re-compute.\n",
      "Feature for (MD661,245,(6352,827)) is not in pool. Re-compute.\n",
      "Feature for (MD661,245,(6352,892)) is not in pool. Re-compute.\n",
      "Feature for (MD661,245,(6352,957)) is not in pool. Re-compute.\n",
      "Feature for (MD661,245,(6352,1022)) is not in pool. Re-compute.\n",
      "Feature for (MD661,245,(6417,827)) is not in pool. Re-compute.\n",
      "Feature for (MD661,245,(6417,892)) is not in pool. Re-compute.\n",
      "Feature for (MD661,245,(6417,957)) is not in pool. Re-compute.\n",
      "Feature for (MD661,245,(6417,1022)) is not in pool. Re-compute.\n",
      "Feature for (MD661,245,(6482,892)) is not in pool. Re-compute.\n",
      "Feature for (MD661,245,(6482,957)) is not in pool. Re-compute.\n",
      "Feature for (MD661,245,(6482,1022)) is not in pool. Re-compute.\n",
      "Feature for (MD661,245,(6547,957)) is not in pool. Re-compute.\n",
      "Feature for (MD661,245,(6547,1022)) is not in pool. Re-compute.\n",
      "Feature for (MD661,245,(6612,957)) is not in pool. Re-compute.\n",
      "Feature for (MD661,245,(6612,1022)) is not in pool. Re-compute.\n",
      "Not using image_cache.\n",
      "Load image: 19.45 seconds.\n",
      "Extract patches: 19.59 seconds\n"
     ]
    },
    {
     "name": "stdout",
     "output_type": "stream",
     "text": [
      "(256, 1, 224, 224)\n"
     ]
    },
    {
     "name": "stderr",
     "output_type": "stream",
     "text": [
      "Compute features: 0.36 seconds\n"
     ]
    },
    {
     "name": "stdout",
     "output_type": "stream",
     "text": [
      "('MD661', 160)\n"
     ]
    },
    {
     "name": "stderr",
     "output_type": "stream",
     "text": [
      "Feature for (MD661,160,(7132,827)) is not in pool. Re-compute.\n",
      "Feature for (MD661,160,(7197,827)) is not in pool. Re-compute.\n",
      "Not using image_cache.\n",
      "Load image: 16.85 seconds.\n",
      "Extract patches: 16.95 seconds\n"
     ]
    },
    {
     "name": "stdout",
     "output_type": "stream",
     "text": [
      "(256, 1, 224, 224)\n"
     ]
    },
    {
     "name": "stderr",
     "output_type": "stream",
     "text": [
      "Compute features: 0.36 seconds\n"
     ]
    },
    {
     "name": "stdout",
     "output_type": "stream",
     "text": [
      "('MD662', 239)\n"
     ]
    },
    {
     "name": "stderr",
     "output_type": "stream",
     "text": [
      "Feature for (MD662,239,(4597,1672)) is not in pool. Re-compute.\n",
      "Feature for (MD662,239,(4597,1737)) is not in pool. Re-compute.\n",
      "Feature for (MD662,239,(4597,1802)) is not in pool. Re-compute.\n",
      "Feature for (MD662,239,(4662,1672)) is not in pool. Re-compute.\n",
      "Feature for (MD662,239,(4662,1737)) is not in pool. Re-compute.\n",
      "Feature for (MD662,239,(4662,1802)) is not in pool. Re-compute.\n",
      "Feature for (MD662,239,(4727,1672)) is not in pool. Re-compute.\n",
      "Feature for (MD662,239,(4727,1737)) is not in pool. Re-compute.\n",
      "Feature for (MD662,239,(4727,1802)) is not in pool. Re-compute.\n",
      "Feature for (MD662,239,(4792,1672)) is not in pool. Re-compute.\n",
      "Feature for (MD662,239,(4792,1737)) is not in pool. Re-compute.\n",
      "Feature for (MD662,239,(4857,1672)) is not in pool. Re-compute.\n",
      "Feature for (MD662,239,(4857,1737)) is not in pool. Re-compute.\n",
      "Feature for (MD662,239,(4922,1672)) is not in pool. Re-compute.\n",
      "Feature for (MD662,239,(4987,1672)) is not in pool. Re-compute.\n",
      "Feature for (MD662,239,(5247,1542)) is not in pool. Re-compute.\n",
      "Feature for (MD662,239,(5312,1542)) is not in pool. Re-compute.\n",
      "Not using image_cache.\n",
      "Load image: 17.63 seconds.\n",
      "Extract patches: 17.74 seconds\n"
     ]
    },
    {
     "name": "stdout",
     "output_type": "stream",
     "text": [
      "(256, 1, 224, 224)\n"
     ]
    },
    {
     "name": "stderr",
     "output_type": "stream",
     "text": [
      "Compute features: 0.38 seconds\n"
     ]
    },
    {
     "name": "stdout",
     "output_type": "stream",
     "text": [
      "('MD662', 175)\n"
     ]
    },
    {
     "name": "stderr",
     "output_type": "stream",
     "text": [
      "Feature for (MD662,175,(5962,1542)) is not in pool. Re-compute.\n",
      "Feature for (MD662,175,(6222,1477)) is not in pool. Re-compute.\n",
      "Feature for (MD662,175,(6287,1477)) is not in pool. Re-compute.\n",
      "Feature for (MD662,175,(4792,2192)) is not in pool. Re-compute.\n",
      "Feature for (MD662,175,(4857,2192)) is not in pool. Re-compute.\n",
      "Feature for (MD662,175,(4922,2192)) is not in pool. Re-compute.\n",
      "Feature for (MD662,175,(4987,2192)) is not in pool. Re-compute.\n",
      "Feature for (MD662,175,(4987,2257)) is not in pool. Re-compute.\n",
      "Feature for (MD662,175,(4987,2322)) is not in pool. Re-compute.\n",
      "Feature for (MD662,175,(5052,2192)) is not in pool. Re-compute.\n",
      "Feature for (MD662,175,(5052,2257)) is not in pool. Re-compute.\n",
      "Feature for (MD662,175,(5052,2322)) is not in pool. Re-compute.\n",
      "Feature for (MD662,175,(5117,2192)) is not in pool. Re-compute.\n",
      "Feature for (MD662,175,(5117,2257)) is not in pool. Re-compute.\n",
      "Feature for (MD662,175,(5117,2322)) is not in pool. Re-compute.\n",
      "Feature for (MD662,175,(5182,2192)) is not in pool. Re-compute.\n",
      "Not using image_cache.\n",
      "Load image: 14.44 seconds.\n",
      "Extract patches: 14.54 seconds\n"
     ]
    },
    {
     "name": "stdout",
     "output_type": "stream",
     "text": [
      "(256, 1, 224, 224)\n"
     ]
    },
    {
     "name": "stderr",
     "output_type": "stream",
     "text": [
      "Compute features: 0.36 seconds\n"
     ]
    },
    {
     "name": "stdout",
     "output_type": "stream",
     "text": [
      "('MD662', 154)\n",
      "('MD661', 159)\n",
      "('MD662', 252)\n"
     ]
    },
    {
     "name": "stderr",
     "output_type": "stream",
     "text": [
      "Feature for (MD662,252,(4467,1737)) is not in pool. Re-compute.\n",
      "Feature for (MD662,252,(4467,1802)) is not in pool. Re-compute.\n",
      "Feature for (MD662,252,(4467,1867)) is not in pool. Re-compute.\n",
      "Feature for (MD662,252,(4532,1737)) is not in pool. Re-compute.\n",
      "Feature for (MD662,252,(4532,1802)) is not in pool. Re-compute.\n",
      "Feature for (MD662,252,(4532,1867)) is not in pool. Re-compute.\n",
      "Feature for (MD662,252,(4597,1737)) is not in pool. Re-compute.\n",
      "Feature for (MD662,252,(4597,1802)) is not in pool. Re-compute.\n",
      "Feature for (MD662,252,(4597,1867)) is not in pool. Re-compute.\n",
      "Feature for (MD662,252,(4662,1737)) is not in pool. Re-compute.\n",
      "Feature for (MD662,252,(4662,1802)) is not in pool. Re-compute.\n",
      "Feature for (MD662,252,(4662,1867)) is not in pool. Re-compute.\n",
      "Feature for (MD662,252,(4727,1672)) is not in pool. Re-compute.\n",
      "Feature for (MD662,252,(4727,1737)) is not in pool. Re-compute.\n",
      "Feature for (MD662,252,(4727,1802)) is not in pool. Re-compute.\n",
      "Feature for (MD662,252,(4727,1867)) is not in pool. Re-compute.\n",
      "Feature for (MD662,252,(4792,1672)) is not in pool. Re-compute.\n",
      "Feature for (MD662,252,(4792,1737)) is not in pool. Re-compute.\n",
      "Feature for (MD662,252,(4792,1802)) is not in pool. Re-compute.\n",
      "Feature for (MD662,252,(4792,1867)) is not in pool. Re-compute.\n",
      "Feature for (MD662,252,(4857,1672)) is not in pool. Re-compute.\n",
      "Feature for (MD662,252,(4857,1737)) is not in pool. Re-compute.\n",
      "Feature for (MD662,252,(4857,1802)) is not in pool. Re-compute.\n",
      "Feature for (MD662,252,(4857,1867)) is not in pool. Re-compute.\n",
      "Feature for (MD662,252,(4922,1607)) is not in pool. Re-compute.\n",
      "Feature for (MD662,252,(4922,1672)) is not in pool. Re-compute.\n",
      "Feature for (MD662,252,(4922,1737)) is not in pool. Re-compute.\n",
      "Feature for (MD662,252,(4987,1607)) is not in pool. Re-compute.\n",
      "Not using image_cache.\n",
      "Load image: 16.65 seconds.\n",
      "Extract patches: 16.76 seconds\n"
     ]
    },
    {
     "name": "stdout",
     "output_type": "stream",
     "text": [
      "(256, 1, 224, 224)\n"
     ]
    },
    {
     "name": "stderr",
     "output_type": "stream",
     "text": [
      "Compute features: 0.38 seconds\n"
     ]
    },
    {
     "name": "stdout",
     "output_type": "stream",
     "text": [
      "('MD661', 261)\n"
     ]
    },
    {
     "name": "stderr",
     "output_type": "stream",
     "text": [
      "Feature for (MD661,261,(5507,1152)) is not in pool. Re-compute.\n",
      "Feature for (MD661,261,(5572,957)) is not in pool. Re-compute.\n",
      "Feature for (MD661,261,(5572,1022)) is not in pool. Re-compute.\n",
      "Feature for (MD661,261,(5572,1087)) is not in pool. Re-compute.\n",
      "Feature for (MD661,261,(5572,1152)) is not in pool. Re-compute.\n",
      "Feature for (MD661,261,(5637,957)) is not in pool. Re-compute.\n",
      "Feature for (MD661,261,(5637,1022)) is not in pool. Re-compute.\n",
      "Feature for (MD661,261,(5637,1087)) is not in pool. Re-compute.\n",
      "Feature for (MD661,261,(5637,1152)) is not in pool. Re-compute.\n",
      "Feature for (MD661,261,(5702,957)) is not in pool. Re-compute.\n",
      "Feature for (MD661,261,(5702,1022)) is not in pool. Re-compute.\n",
      "Feature for (MD661,261,(5702,1087)) is not in pool. Re-compute.\n",
      "Feature for (MD661,261,(5702,1152)) is not in pool. Re-compute.\n",
      "Feature for (MD661,261,(5767,957)) is not in pool. Re-compute.\n",
      "Feature for (MD661,261,(5767,1022)) is not in pool. Re-compute.\n",
      "Feature for (MD661,261,(5767,1087)) is not in pool. Re-compute.\n",
      "Feature for (MD661,261,(5767,1152)) is not in pool. Re-compute.\n",
      "Feature for (MD661,261,(5832,892)) is not in pool. Re-compute.\n",
      "Feature for (MD661,261,(5832,957)) is not in pool. Re-compute.\n",
      "Feature for (MD661,261,(5832,1022)) is not in pool. Re-compute.\n",
      "Feature for (MD661,261,(5832,1087)) is not in pool. Re-compute.\n",
      "Feature for (MD661,261,(5897,892)) is not in pool. Re-compute.\n",
      "Feature for (MD661,261,(5897,957)) is not in pool. Re-compute.\n",
      "Feature for (MD661,261,(5897,1022)) is not in pool. Re-compute.\n",
      "Feature for (MD661,261,(5897,1087)) is not in pool. Re-compute.\n",
      "Feature for (MD661,261,(5962,827)) is not in pool. Re-compute.\n",
      "Feature for (MD661,261,(5962,892)) is not in pool. Re-compute.\n",
      "Feature for (MD661,261,(5962,957)) is not in pool. Re-compute.\n",
      "Feature for (MD661,261,(5962,1022)) is not in pool. Re-compute.\n",
      "Feature for (MD661,261,(5962,1087)) is not in pool. Re-compute.\n",
      "Feature for (MD661,261,(5962,1152)) is not in pool. Re-compute.\n",
      "Feature for (MD661,261,(6027,827)) is not in pool. Re-compute.\n",
      "Feature for (MD661,261,(6027,892)) is not in pool. Re-compute.\n",
      "Feature for (MD661,261,(6027,957)) is not in pool. Re-compute.\n",
      "Feature for (MD661,261,(6027,1022)) is not in pool. Re-compute.\n",
      "Feature for (MD661,261,(6027,1087)) is not in pool. Re-compute.\n",
      "Feature for (MD661,261,(6027,1152)) is not in pool. Re-compute.\n",
      "Feature for (MD661,261,(6092,827)) is not in pool. Re-compute.\n",
      "Feature for (MD661,261,(6092,892)) is not in pool. Re-compute.\n",
      "Feature for (MD661,261,(6092,957)) is not in pool. Re-compute.\n",
      "Feature for (MD661,261,(6092,1022)) is not in pool. Re-compute.\n",
      "Feature for (MD661,261,(6092,1087)) is not in pool. Re-compute.\n",
      "Feature for (MD661,261,(6092,1152)) is not in pool. Re-compute.\n",
      "Feature for (MD661,261,(6157,827)) is not in pool. Re-compute.\n",
      "Feature for (MD661,261,(6157,892)) is not in pool. Re-compute.\n",
      "Feature for (MD661,261,(6157,957)) is not in pool. Re-compute.\n",
      "Feature for (MD661,261,(6157,1022)) is not in pool. Re-compute.\n",
      "Feature for (MD661,261,(6157,1087)) is not in pool. Re-compute.\n",
      "Feature for (MD661,261,(6222,827)) is not in pool. Re-compute.\n",
      "Feature for (MD661,261,(6222,892)) is not in pool. Re-compute.\n",
      "Feature for (MD661,261,(6222,957)) is not in pool. Re-compute.\n",
      "Feature for (MD661,261,(6222,1022)) is not in pool. Re-compute.\n",
      "Feature for (MD661,261,(6287,827)) is not in pool. Re-compute.\n",
      "Feature for (MD661,261,(6287,892)) is not in pool. Re-compute.\n",
      "Feature for (MD661,261,(6352,827)) is not in pool. Re-compute.\n",
      "Not using image_cache.\n",
      "Load image: 19.02 seconds.\n",
      "Extract patches: 19.17 seconds\n"
     ]
    },
    {
     "name": "stdout",
     "output_type": "stream",
     "text": [
      "(256, 1, 224, 224)\n"
     ]
    },
    {
     "name": "stderr",
     "output_type": "stream",
     "text": [
      "Compute features: 0.40 seconds\n"
     ]
    },
    {
     "name": "stdout",
     "output_type": "stream",
     "text": [
      "('MD662', 188)\n"
     ]
    },
    {
     "name": "stderr",
     "output_type": "stream",
     "text": [
      "Feature for (MD662,188,(4662,1932)) is not in pool. Re-compute.\n",
      "Feature for (MD662,188,(4727,1932)) is not in pool. Re-compute.\n",
      "Feature for (MD662,188,(4727,1997)) is not in pool. Re-compute.\n",
      "Feature for (MD662,188,(4727,2062)) is not in pool. Re-compute.\n",
      "Feature for (MD662,188,(4792,1932)) is not in pool. Re-compute.\n",
      "Feature for (MD662,188,(4792,1997)) is not in pool. Re-compute.\n",
      "Feature for (MD662,188,(4792,2062)) is not in pool. Re-compute.\n",
      "Feature for (MD662,188,(4857,1932)) is not in pool. Re-compute.\n",
      "Feature for (MD662,188,(4857,1997)) is not in pool. Re-compute.\n",
      "Feature for (MD662,188,(4857,2062)) is not in pool. Re-compute.\n",
      "Feature for (MD662,188,(4922,1932)) is not in pool. Re-compute.\n",
      "Feature for (MD662,188,(4922,1997)) is not in pool. Re-compute.\n",
      "Feature for (MD662,188,(4922,2062)) is not in pool. Re-compute.\n",
      "Feature for (MD662,188,(4987,1932)) is not in pool. Re-compute.\n",
      "Feature for (MD662,188,(4987,1997)) is not in pool. Re-compute.\n",
      "Feature for (MD662,188,(4987,2062)) is not in pool. Re-compute.\n",
      "Feature for (MD662,188,(5052,1867)) is not in pool. Re-compute.\n",
      "Feature for (MD662,188,(5052,1932)) is not in pool. Re-compute.\n",
      "Feature for (MD662,188,(5052,1997)) is not in pool. Re-compute.\n",
      "Feature for (MD662,188,(5052,2062)) is not in pool. Re-compute.\n",
      "Feature for (MD662,188,(5117,1867)) is not in pool. Re-compute.\n",
      "Feature for (MD662,188,(5117,1932)) is not in pool. Re-compute.\n",
      "Feature for (MD662,188,(5117,1997)) is not in pool. Re-compute.\n",
      "Feature for (MD662,188,(5182,1867)) is not in pool. Re-compute.\n",
      "Feature for (MD662,188,(5182,1932)) is not in pool. Re-compute.\n",
      "Not using image_cache.\n",
      "Load image: 14.81 seconds.\n",
      "Extract patches: 14.92 seconds\n"
     ]
    },
    {
     "name": "stdout",
     "output_type": "stream",
     "text": [
      "(256, 1, 224, 224)\n"
     ]
    },
    {
     "name": "stderr",
     "output_type": "stream",
     "text": [
      "Compute features: 0.38 seconds\n"
     ]
    },
    {
     "name": "stdout",
     "output_type": "stream",
     "text": [
      "('MD662', 156)\n",
      "('MD662', 193)\n"
     ]
    },
    {
     "name": "stderr",
     "output_type": "stream",
     "text": [
      "Feature for (MD662,193,(4727,1867)) is not in pool. Re-compute.\n",
      "Feature for (MD662,193,(4727,1932)) is not in pool. Re-compute.\n",
      "Feature for (MD662,193,(4727,1997)) is not in pool. Re-compute.\n",
      "Feature for (MD662,193,(4792,1867)) is not in pool. Re-compute.\n",
      "Feature for (MD662,193,(4792,1932)) is not in pool. Re-compute.\n",
      "Feature for (MD662,193,(4857,1802)) is not in pool. Re-compute.\n",
      "Feature for (MD662,193,(4857,1867)) is not in pool. Re-compute.\n",
      "Feature for (MD662,193,(4857,1932)) is not in pool. Re-compute.\n",
      "Feature for (MD662,193,(4922,1802)) is not in pool. Re-compute.\n",
      "Feature for (MD662,193,(4922,1867)) is not in pool. Re-compute.\n",
      "Feature for (MD662,193,(4922,1932)) is not in pool. Re-compute.\n",
      "Feature for (MD662,193,(4987,1802)) is not in pool. Re-compute.\n",
      "Feature for (MD662,193,(4987,1867)) is not in pool. Re-compute.\n",
      "Feature for (MD662,193,(4987,1932)) is not in pool. Re-compute.\n",
      "Feature for (MD662,193,(5052,1802)) is not in pool. Re-compute.\n",
      "Feature for (MD662,193,(5052,1867)) is not in pool. Re-compute.\n",
      "Feature for (MD662,193,(5052,1932)) is not in pool. Re-compute.\n",
      "Feature for (MD662,193,(5117,1802)) is not in pool. Re-compute.\n",
      "Feature for (MD662,193,(5117,1867)) is not in pool. Re-compute.\n",
      "Feature for (MD662,193,(5117,1932)) is not in pool. Re-compute.\n",
      "Feature for (MD662,193,(5182,1737)) is not in pool. Re-compute.\n",
      "Feature for (MD662,193,(5182,1802)) is not in pool. Re-compute.\n",
      "Feature for (MD662,193,(5182,1867)) is not in pool. Re-compute.\n",
      "Feature for (MD662,193,(5182,1932)) is not in pool. Re-compute.\n",
      "Feature for (MD662,193,(5247,1737)) is not in pool. Re-compute.\n",
      "Feature for (MD662,193,(5247,1802)) is not in pool. Re-compute.\n",
      "Not using image_cache.\n",
      "Load image: 14.52 seconds.\n",
      "Extract patches: 14.63 seconds\n"
     ]
    },
    {
     "name": "stdout",
     "output_type": "stream",
     "text": [
      "(256, 1, 224, 224)\n"
     ]
    },
    {
     "name": "stderr",
     "output_type": "stream",
     "text": [
      "Compute features: 0.38 seconds\n"
     ]
    },
    {
     "name": "stdout",
     "output_type": "stream",
     "text": [
      "('MD662', 266)\n"
     ]
    },
    {
     "name": "stderr",
     "output_type": "stream",
     "text": [
      "Feature for (MD662,266,(4402,2127)) is not in pool. Re-compute.\n",
      "Feature for (MD662,266,(4467,1932)) is not in pool. Re-compute.\n",
      "Feature for (MD662,266,(4467,1997)) is not in pool. Re-compute.\n",
      "Feature for (MD662,266,(4467,2062)) is not in pool. Re-compute.\n",
      "Feature for (MD662,266,(4467,2127)) is not in pool. Re-compute.\n",
      "Feature for (MD662,266,(4467,2192)) is not in pool. Re-compute.\n",
      "Feature for (MD662,266,(4532,1932)) is not in pool. Re-compute.\n",
      "Feature for (MD662,266,(4532,1997)) is not in pool. Re-compute.\n",
      "Feature for (MD662,266,(4532,2062)) is not in pool. Re-compute.\n",
      "Feature for (MD662,266,(4532,2127)) is not in pool. Re-compute.\n",
      "Feature for (MD662,266,(4532,2192)) is not in pool. Re-compute.\n",
      "Feature for (MD662,266,(4597,1932)) is not in pool. Re-compute.\n",
      "Feature for (MD662,266,(4597,1997)) is not in pool. Re-compute.\n",
      "Feature for (MD662,266,(4597,2062)) is not in pool. Re-compute.\n",
      "Feature for (MD662,266,(4597,2127)) is not in pool. Re-compute.\n",
      "Feature for (MD662,266,(4597,2192)) is not in pool. Re-compute.\n",
      "Feature for (MD662,266,(4662,1867)) is not in pool. Re-compute.\n",
      "Feature for (MD662,266,(4662,1932)) is not in pool. Re-compute.\n",
      "Feature for (MD662,266,(4662,1997)) is not in pool. Re-compute.\n",
      "Feature for (MD662,266,(4662,2062)) is not in pool. Re-compute.\n",
      "Feature for (MD662,266,(4662,2127)) is not in pool. Re-compute.\n",
      "Feature for (MD662,266,(4727,1867)) is not in pool. Re-compute.\n",
      "Feature for (MD662,266,(4727,1932)) is not in pool. Re-compute.\n",
      "Feature for (MD662,266,(4727,1997)) is not in pool. Re-compute.\n",
      "Not using image_cache.\n",
      "Load image: 16.04 seconds.\n",
      "Extract patches: 16.14 seconds\n"
     ]
    },
    {
     "name": "stdout",
     "output_type": "stream",
     "text": [
      "(256, 1, 224, 224)\n"
     ]
    },
    {
     "name": "stderr",
     "output_type": "stream",
     "text": [
      "Compute features: 0.39 seconds\n"
     ]
    },
    {
     "name": "stdout",
     "output_type": "stream",
     "text": [
      "('MD661', 306)\n",
      "('MD661', 206)\n"
     ]
    },
    {
     "name": "stderr",
     "output_type": "stream",
     "text": [
      "Feature for (MD661,206,(5702,827)) is not in pool. Re-compute.\n",
      "Feature for (MD661,206,(5702,892)) is not in pool. Re-compute.\n",
      "Feature for (MD661,206,(5767,827)) is not in pool. Re-compute.\n",
      "Feature for (MD661,206,(5767,892)) is not in pool. Re-compute.\n",
      "Feature for (MD661,206,(5832,762)) is not in pool. Re-compute.\n",
      "Feature for (MD661,206,(5832,827)) is not in pool. Re-compute.\n",
      "Feature for (MD661,206,(5832,892)) is not in pool. Re-compute.\n",
      "Feature for (MD661,206,(5897,762)) is not in pool. Re-compute.\n",
      "Feature for (MD661,206,(5897,827)) is not in pool. Re-compute.\n",
      "Feature for (MD661,206,(5897,892)) is not in pool. Re-compute.\n",
      "Feature for (MD661,206,(5962,697)) is not in pool. Re-compute.\n",
      "Feature for (MD661,206,(5962,762)) is not in pool. Re-compute.\n",
      "Feature for (MD661,206,(5962,827)) is not in pool. Re-compute.\n",
      "Feature for (MD661,206,(5962,892)) is not in pool. Re-compute.\n",
      "Feature for (MD661,206,(6027,697)) is not in pool. Re-compute.\n",
      "Feature for (MD661,206,(6027,762)) is not in pool. Re-compute.\n",
      "Feature for (MD661,206,(6027,827)) is not in pool. Re-compute.\n",
      "Feature for (MD661,206,(6027,892)) is not in pool. Re-compute.\n",
      "Feature for (MD661,206,(6092,697)) is not in pool. Re-compute.\n",
      "Feature for (MD661,206,(6092,762)) is not in pool. Re-compute.\n",
      "Feature for (MD661,206,(6092,827)) is not in pool. Re-compute.\n",
      "Feature for (MD661,206,(6092,892)) is not in pool. Re-compute.\n",
      "Feature for (MD661,206,(6157,697)) is not in pool. Re-compute.\n",
      "Feature for (MD661,206,(6157,762)) is not in pool. Re-compute.\n",
      "Feature for (MD661,206,(6157,827)) is not in pool. Re-compute.\n",
      "Feature for (MD661,206,(6157,892)) is not in pool. Re-compute.\n",
      "Feature for (MD661,206,(6222,697)) is not in pool. Re-compute.\n",
      "Feature for (MD661,206,(6222,762)) is not in pool. Re-compute.\n",
      "Feature for (MD661,206,(6222,827)) is not in pool. Re-compute.\n",
      "Feature for (MD661,206,(6287,762)) is not in pool. Re-compute.\n",
      "Feature for (MD661,206,(7652,112)) is not in pool. Re-compute.\n",
      "Feature for (MD661,206,(7717,112)) is not in pool. Re-compute.\n",
      "Feature for (MD661,206,(7782,112)) is not in pool. Re-compute.\n",
      "Feature for (MD661,206,(7847,112)) is not in pool. Re-compute.\n",
      "Feature for (MD661,206,(7912,112)) is not in pool. Re-compute.\n",
      "Feature for (MD661,206,(7977,112)) is not in pool. Re-compute.\n",
      "Feature for (MD661,206,(8042,112)) is not in pool. Re-compute.\n",
      "Not using image_cache.\n",
      "Load image: 18.82 seconds.\n",
      "Extract patches: 18.95 seconds\n"
     ]
    },
    {
     "name": "stdout",
     "output_type": "stream",
     "text": [
      "(256, 1, 224, 224)\n"
     ]
    },
    {
     "name": "stderr",
     "output_type": "stream",
     "text": [
      "Compute features: 0.38 seconds\n"
     ]
    },
    {
     "name": "stdout",
     "output_type": "stream",
     "text": [
      "('MD661', 303)\n",
      "('MD662', 182)\n"
     ]
    },
    {
     "name": "stderr",
     "output_type": "stream",
     "text": [
      "Feature for (MD662,182,(4662,2062)) is not in pool. Re-compute.\n",
      "Feature for (MD662,182,(4727,2062)) is not in pool. Re-compute.\n",
      "Feature for (MD662,182,(4727,2127)) is not in pool. Re-compute.\n",
      "Feature for (MD662,182,(4727,2192)) is not in pool. Re-compute.\n",
      "Feature for (MD662,182,(4792,2062)) is not in pool. Re-compute.\n",
      "Feature for (MD662,182,(4792,2127)) is not in pool. Re-compute.\n",
      "Feature for (MD662,182,(4792,2192)) is not in pool. Re-compute.\n",
      "Feature for (MD662,182,(4857,2062)) is not in pool. Re-compute.\n",
      "Feature for (MD662,182,(4857,2127)) is not in pool. Re-compute.\n",
      "Feature for (MD662,182,(4857,2192)) is not in pool. Re-compute.\n",
      "Feature for (MD662,182,(4922,2062)) is not in pool. Re-compute.\n",
      "Feature for (MD662,182,(4922,2127)) is not in pool. Re-compute.\n",
      "Feature for (MD662,182,(4922,2192)) is not in pool. Re-compute.\n",
      "Feature for (MD662,182,(4987,1997)) is not in pool. Re-compute.\n",
      "Feature for (MD662,182,(4987,2062)) is not in pool. Re-compute.\n",
      "Feature for (MD662,182,(4987,2127)) is not in pool. Re-compute.\n",
      "Feature for (MD662,182,(4987,2192)) is not in pool. Re-compute.\n",
      "Feature for (MD662,182,(5052,1997)) is not in pool. Re-compute.\n",
      "Feature for (MD662,182,(5052,2062)) is not in pool. Re-compute.\n",
      "Feature for (MD662,182,(5052,2127)) is not in pool. Re-compute.\n",
      "Feature for (MD662,182,(5052,2192)) is not in pool. Re-compute.\n",
      "Feature for (MD662,182,(5117,1997)) is not in pool. Re-compute.\n",
      "Feature for (MD662,182,(5117,2062)) is not in pool. Re-compute.\n",
      "Feature for (MD662,182,(5117,2127)) is not in pool. Re-compute.\n",
      "Feature for (MD662,182,(5117,2192)) is not in pool. Re-compute.\n",
      "Feature for (MD662,182,(5182,1997)) is not in pool. Re-compute.\n",
      "Feature for (MD662,182,(5182,2062)) is not in pool. Re-compute.\n",
      "Feature for (MD662,182,(5182,2127)) is not in pool. Re-compute.\n",
      "Feature for (MD662,182,(5247,1997)) is not in pool. Re-compute.\n",
      "Not using image_cache.\n",
      "Load image: 14.37 seconds.\n",
      "Extract patches: 14.48 seconds\n"
     ]
    },
    {
     "name": "stdout",
     "output_type": "stream",
     "text": [
      "(256, 1, 224, 224)\n"
     ]
    },
    {
     "name": "stderr",
     "output_type": "stream",
     "text": [
      "Compute features: 0.38 seconds\n"
     ]
    },
    {
     "name": "stdout",
     "output_type": "stream",
     "text": [
      "('MD661', 232)\n"
     ]
    },
    {
     "name": "stderr",
     "output_type": "stream",
     "text": [
      "Feature for (MD661,232,(5962,957)) is not in pool. Re-compute.\n",
      "Feature for (MD661,232,(5962,1022)) is not in pool. Re-compute.\n",
      "Feature for (MD661,232,(6027,892)) is not in pool. Re-compute.\n",
      "Feature for (MD661,232,(6027,957)) is not in pool. Re-compute.\n",
      "Feature for (MD661,232,(6027,1022)) is not in pool. Re-compute.\n",
      "Feature for (MD661,232,(6092,892)) is not in pool. Re-compute.\n",
      "Feature for (MD661,232,(6092,957)) is not in pool. Re-compute.\n",
      "Feature for (MD661,232,(6092,1022)) is not in pool. Re-compute.\n",
      "Feature for (MD661,232,(6157,892)) is not in pool. Re-compute.\n",
      "Feature for (MD661,232,(6157,957)) is not in pool. Re-compute.\n",
      "Feature for (MD661,232,(6157,1022)) is not in pool. Re-compute.\n",
      "Feature for (MD661,232,(6222,892)) is not in pool. Re-compute.\n",
      "Feature for (MD661,232,(6222,957)) is not in pool. Re-compute.\n",
      "Feature for (MD661,232,(6222,1022)) is not in pool. Re-compute.\n",
      "Feature for (MD661,232,(6287,892)) is not in pool. Re-compute.\n",
      "Feature for (MD661,232,(6287,957)) is not in pool. Re-compute.\n",
      "Feature for (MD661,232,(6287,1022)) is not in pool. Re-compute.\n",
      "Feature for (MD661,232,(6352,892)) is not in pool. Re-compute.\n",
      "Feature for (MD661,232,(6352,957)) is not in pool. Re-compute.\n",
      "Feature for (MD661,232,(6352,1022)) is not in pool. Re-compute.\n",
      "Feature for (MD661,232,(6417,892)) is not in pool. Re-compute.\n",
      "Feature for (MD661,232,(6417,957)) is not in pool. Re-compute.\n",
      "Feature for (MD661,232,(6417,1022)) is not in pool. Re-compute.\n",
      "Feature for (MD661,232,(6482,892)) is not in pool. Re-compute.\n",
      "Feature for (MD661,232,(6482,957)) is not in pool. Re-compute.\n",
      "Feature for (MD661,232,(6482,1022)) is not in pool. Re-compute.\n",
      "Feature for (MD661,232,(6547,957)) is not in pool. Re-compute.\n",
      "Feature for (MD661,232,(6547,1022)) is not in pool. Re-compute.\n",
      "Feature for (MD661,232,(6612,957)) is not in pool. Re-compute.\n",
      "Feature for (MD661,232,(6612,1022)) is not in pool. Re-compute.\n",
      "Not using image_cache.\n",
      "Load image: 17.83 seconds.\n",
      "Extract patches: 17.95 seconds\n"
     ]
    },
    {
     "name": "stdout",
     "output_type": "stream",
     "text": [
      "(256, 1, 224, 224)\n"
     ]
    },
    {
     "name": "stderr",
     "output_type": "stream",
     "text": [
      "Compute features: 0.39 seconds\n"
     ]
    },
    {
     "name": "stdout",
     "output_type": "stream",
     "text": [
      "('MD661', 163)\n"
     ]
    },
    {
     "name": "stderr",
     "output_type": "stream",
     "text": [
      "Feature for (MD661,163,(7002,827)) is not in pool. Re-compute.\n",
      "Not using image_cache.\n",
      "Load image: 15.39 seconds.\n",
      "Extract patches: 15.48 seconds\n"
     ]
    },
    {
     "name": "stdout",
     "output_type": "stream",
     "text": [
      "(256, 1, 224, 224)\n"
     ]
    },
    {
     "name": "stderr",
     "output_type": "stream",
     "text": [
      "Compute features: 0.37 seconds\n"
     ]
    },
    {
     "name": "stdout",
     "output_type": "stream",
     "text": [
      "('MD662', 168)\n"
     ]
    },
    {
     "name": "stderr",
     "output_type": "stream",
     "text": [
      "Feature for (MD662,168,(6157,1542)) is not in pool. Re-compute.\n",
      "Feature for (MD662,168,(6222,1542)) is not in pool. Re-compute.\n",
      "Feature for (MD662,168,(6287,1542)) is not in pool. Re-compute.\n",
      "Feature for (MD662,168,(6352,1542)) is not in pool. Re-compute.\n",
      "Feature for (MD662,168,(6417,1542)) is not in pool. Re-compute.\n",
      "Not using image_cache.\n",
      "Load image: 13.49 seconds.\n",
      "Extract patches: 13.57 seconds\n"
     ]
    },
    {
     "name": "stdout",
     "output_type": "stream",
     "text": [
      "(256, 1, 224, 224)\n"
     ]
    },
    {
     "name": "stderr",
     "output_type": "stream",
     "text": [
      "Compute features: 0.37 seconds\n"
     ]
    },
    {
     "name": "stdout",
     "output_type": "stream",
     "text": [
      "('MD662', 285)\n",
      "('MD661', 267)\n"
     ]
    },
    {
     "name": "stderr",
     "output_type": "stream",
     "text": [
      "Feature for (MD661,267,(5507,1152)) is not in pool. Re-compute.\n",
      "Feature for (MD661,267,(5572,1087)) is not in pool. Re-compute.\n",
      "Feature for (MD661,267,(5572,1152)) is not in pool. Re-compute.\n",
      "Feature for (MD661,267,(5637,1087)) is not in pool. Re-compute.\n",
      "Feature for (MD661,267,(5637,1152)) is not in pool. Re-compute.\n",
      "Feature for (MD661,267,(5702,1022)) is not in pool. Re-compute.\n",
      "Feature for (MD661,267,(5702,1087)) is not in pool. Re-compute.\n",
      "Feature for (MD661,267,(5702,1152)) is not in pool. Re-compute.\n",
      "Feature for (MD661,267,(5767,1022)) is not in pool. Re-compute.\n",
      "Feature for (MD661,267,(5767,1087)) is not in pool. Re-compute.\n",
      "Feature for (MD661,267,(5767,1152)) is not in pool. Re-compute.\n",
      "Feature for (MD661,267,(5767,1217)) is not in pool. Re-compute.\n",
      "Feature for (MD661,267,(5832,957)) is not in pool. Re-compute.\n",
      "Feature for (MD661,267,(5832,1022)) is not in pool. Re-compute.\n",
      "Feature for (MD661,267,(5832,1087)) is not in pool. Re-compute.\n",
      "Feature for (MD661,267,(5832,1152)) is not in pool. Re-compute.\n",
      "Feature for (MD661,267,(5832,1217)) is not in pool. Re-compute.\n",
      "Feature for (MD661,267,(5897,957)) is not in pool. Re-compute.\n",
      "Feature for (MD661,267,(5897,1022)) is not in pool. Re-compute.\n",
      "Feature for (MD661,267,(5897,1087)) is not in pool. Re-compute.\n",
      "Feature for (MD661,267,(5897,1152)) is not in pool. Re-compute.\n",
      "Feature for (MD661,267,(5897,1217)) is not in pool. Re-compute.\n",
      "Feature for (MD661,267,(5962,957)) is not in pool. Re-compute.\n",
      "Feature for (MD661,267,(5962,1022)) is not in pool. Re-compute.\n",
      "Feature for (MD661,267,(5962,1087)) is not in pool. Re-compute.\n",
      "Feature for (MD661,267,(5962,1152)) is not in pool. Re-compute.\n",
      "Feature for (MD661,267,(6027,892)) is not in pool. Re-compute.\n",
      "Feature for (MD661,267,(6027,957)) is not in pool. Re-compute.\n",
      "Feature for (MD661,267,(6027,1022)) is not in pool. Re-compute.\n",
      "Feature for (MD661,267,(6027,1087)) is not in pool. Re-compute.\n",
      "Feature for (MD661,267,(6092,957)) is not in pool. Re-compute.\n",
      "Feature for (MD661,267,(6092,1022)) is not in pool. Re-compute.\n",
      "Feature for (MD661,267,(6157,957)) is not in pool. Re-compute.\n",
      "Feature for (MD661,267,(6222,957)) is not in pool. Re-compute.\n",
      "Not using image_cache.\n",
      "Load image: 18.49 seconds.\n",
      "Extract patches: 18.62 seconds\n"
     ]
    },
    {
     "name": "stdout",
     "output_type": "stream",
     "text": [
      "(256, 1, 224, 224)\n"
     ]
    },
    {
     "name": "stderr",
     "output_type": "stream",
     "text": [
      "Compute features: 0.40 seconds\n"
     ]
    },
    {
     "name": "stdout",
     "output_type": "stream",
     "text": [
      "('MD662', 223)\n"
     ]
    },
    {
     "name": "stderr",
     "output_type": "stream",
     "text": [
      "Feature for (MD662,223,(4987,1802)) is not in pool. Re-compute.\n",
      "Feature for (MD662,223,(4987,1867)) is not in pool. Re-compute.\n",
      "Feature for (MD662,223,(5052,1802)) is not in pool. Re-compute.\n",
      "Feature for (MD662,223,(5052,1867)) is not in pool. Re-compute.\n",
      "Feature for (MD662,223,(5117,1802)) is not in pool. Re-compute.\n",
      "Feature for (MD662,223,(5117,1867)) is not in pool. Re-compute.\n",
      "Feature for (MD662,223,(5182,1802)) is not in pool. Re-compute.\n",
      "Feature for (MD662,223,(5182,1867)) is not in pool. Re-compute.\n",
      "Feature for (MD662,223,(5247,1802)) is not in pool. Re-compute.\n",
      "Feature for (MD662,223,(5247,1867)) is not in pool. Re-compute.\n",
      "Feature for (MD662,223,(5312,1737)) is not in pool. Re-compute.\n",
      "Feature for (MD662,223,(5312,1802)) is not in pool. Re-compute.\n",
      "Feature for (MD662,223,(5312,1867)) is not in pool. Re-compute.\n",
      "Feature for (MD662,223,(5312,1932)) is not in pool. Re-compute.\n",
      "Feature for (MD662,223,(5377,1737)) is not in pool. Re-compute.\n",
      "Feature for (MD662,223,(5377,1802)) is not in pool. Re-compute.\n",
      "Feature for (MD662,223,(5377,1867)) is not in pool. Re-compute.\n",
      "Feature for (MD662,223,(5442,1737)) is not in pool. Re-compute.\n",
      "Feature for (MD662,223,(5442,1802)) is not in pool. Re-compute.\n",
      "Feature for (MD662,223,(5442,1867)) is not in pool. Re-compute.\n",
      "Feature for (MD662,223,(5507,1802)) is not in pool. Re-compute.\n",
      "Feature for (MD662,223,(5507,1867)) is not in pool. Re-compute.\n",
      "Feature for (MD662,223,(5572,1802)) is not in pool. Re-compute.\n",
      "Not using image_cache.\n",
      "Load image: 17.06 seconds.\n",
      "Extract patches: 17.17 seconds\n"
     ]
    },
    {
     "name": "stdout",
     "output_type": "stream",
     "text": [
      "(256, 1, 224, 224)\n"
     ]
    },
    {
     "name": "stderr",
     "output_type": "stream",
     "text": [
      "Compute features: 0.38 seconds\n"
     ]
    },
    {
     "name": "stdout",
     "output_type": "stream",
     "text": [
      "('MD662', 256)\n"
     ]
    },
    {
     "name": "stderr",
     "output_type": "stream",
     "text": [
      "Feature for (MD662,256,(4467,1802)) is not in pool. Re-compute.\n",
      "Feature for (MD662,256,(4467,1867)) is not in pool. Re-compute.\n",
      "Feature for (MD662,256,(4467,1932)) is not in pool. Re-compute.\n",
      "Feature for (MD662,256,(4532,1802)) is not in pool. Re-compute.\n",
      "Feature for (MD662,256,(4532,1867)) is not in pool. Re-compute.\n",
      "Feature for (MD662,256,(4532,1932)) is not in pool. Re-compute.\n",
      "Feature for (MD662,256,(4597,1737)) is not in pool. Re-compute.\n",
      "Feature for (MD662,256,(4597,1802)) is not in pool. Re-compute.\n",
      "Feature for (MD662,256,(4597,1867)) is not in pool. Re-compute.\n",
      "Feature for (MD662,256,(4597,1932)) is not in pool. Re-compute.\n",
      "Feature for (MD662,256,(4662,1737)) is not in pool. Re-compute.\n",
      "Feature for (MD662,256,(4662,1802)) is not in pool. Re-compute.\n",
      "Feature for (MD662,256,(4662,1867)) is not in pool. Re-compute.\n",
      "Feature for (MD662,256,(4662,1932)) is not in pool. Re-compute.\n",
      "Feature for (MD662,256,(4727,1737)) is not in pool. Re-compute.\n",
      "Feature for (MD662,256,(4727,1802)) is not in pool. Re-compute.\n",
      "Feature for (MD662,256,(4727,1867)) is not in pool. Re-compute.\n",
      "Feature for (MD662,256,(4727,1932)) is not in pool. Re-compute.\n",
      "Feature for (MD662,256,(4792,1737)) is not in pool. Re-compute.\n",
      "Feature for (MD662,256,(4792,1802)) is not in pool. Re-compute.\n",
      "Feature for (MD662,256,(4792,1867)) is not in pool. Re-compute.\n",
      "Feature for (MD662,256,(4857,1672)) is not in pool. Re-compute.\n",
      "Feature for (MD662,256,(4857,1737)) is not in pool. Re-compute.\n",
      "Feature for (MD662,256,(4857,1802)) is not in pool. Re-compute.\n",
      "Feature for (MD662,256,(4922,1672)) is not in pool. Re-compute.\n",
      "Not using image_cache.\n",
      "Load image: 16.65 seconds.\n",
      "Extract patches: 16.77 seconds\n"
     ]
    },
    {
     "name": "stdout",
     "output_type": "stream",
     "text": [
      "(256, 1, 224, 224)\n"
     ]
    },
    {
     "name": "stderr",
     "output_type": "stream",
     "text": [
      "Compute features: 0.38 seconds\n"
     ]
    },
    {
     "name": "stdout",
     "output_type": "stream",
     "text": [
      "('MD661', 212)\n"
     ]
    },
    {
     "name": "stderr",
     "output_type": "stream",
     "text": [
      "Feature for (MD661,212,(5832,762)) is not in pool. Re-compute.\n",
      "Feature for (MD661,212,(5832,827)) is not in pool. Re-compute.\n",
      "Feature for (MD661,212,(5897,762)) is not in pool. Re-compute.\n",
      "Feature for (MD661,212,(5897,827)) is not in pool. Re-compute.\n",
      "Feature for (MD661,212,(5962,697)) is not in pool. Re-compute.\n",
      "Feature for (MD661,212,(5962,762)) is not in pool. Re-compute.\n",
      "Feature for (MD661,212,(5962,827)) is not in pool. Re-compute.\n",
      "Feature for (MD661,212,(6027,697)) is not in pool. Re-compute.\n",
      "Feature for (MD661,212,(6027,762)) is not in pool. Re-compute.\n",
      "Feature for (MD661,212,(6027,827)) is not in pool. Re-compute.\n",
      "Feature for (MD661,212,(6092,697)) is not in pool. Re-compute.\n",
      "Feature for (MD661,212,(6092,762)) is not in pool. Re-compute.\n",
      "Feature for (MD661,212,(6092,827)) is not in pool. Re-compute.\n",
      "Feature for (MD661,212,(6157,697)) is not in pool. Re-compute.\n",
      "Feature for (MD661,212,(6157,762)) is not in pool. Re-compute.\n",
      "Feature for (MD661,212,(6157,827)) is not in pool. Re-compute.\n",
      "Feature for (MD661,212,(6222,697)) is not in pool. Re-compute.\n",
      "Feature for (MD661,212,(6222,762)) is not in pool. Re-compute.\n",
      "Feature for (MD661,212,(6222,827)) is not in pool. Re-compute.\n",
      "Feature for (MD661,212,(6287,697)) is not in pool. Re-compute.\n",
      "Feature for (MD661,212,(6287,762)) is not in pool. Re-compute.\n",
      "Feature for (MD661,212,(6287,827)) is not in pool. Re-compute.\n",
      "Feature for (MD661,212,(6352,762)) is not in pool. Re-compute.\n",
      "Feature for (MD661,212,(7457,112)) is not in pool. Re-compute.\n",
      "Feature for (MD661,212,(7522,112)) is not in pool. Re-compute.\n",
      "Feature for (MD661,212,(7587,112)) is not in pool. Re-compute.\n",
      "Feature for (MD661,212,(7652,112)) is not in pool. Re-compute.\n",
      "Feature for (MD661,212,(7717,112)) is not in pool. Re-compute.\n",
      "Feature for (MD661,212,(7782,112)) is not in pool. Re-compute.\n",
      "Feature for (MD661,212,(7847,112)) is not in pool. Re-compute.\n",
      "Feature for (MD661,212,(7912,112)) is not in pool. Re-compute.\n",
      "Not using image_cache.\n",
      "Load image: 18.52 seconds.\n",
      "Extract patches: 18.65 seconds\n"
     ]
    },
    {
     "name": "stdout",
     "output_type": "stream",
     "text": [
      "(256, 1, 224, 224)\n"
     ]
    },
    {
     "name": "stderr",
     "output_type": "stream",
     "text": [
      "Compute features: 0.39 seconds\n"
     ]
    },
    {
     "name": "stdout",
     "output_type": "stream",
     "text": [
      "('MD662', 194)\n"
     ]
    },
    {
     "name": "stderr",
     "output_type": "stream",
     "text": [
      "Feature for (MD662,194,(4727,1867)) is not in pool. Re-compute.\n",
      "Feature for (MD662,194,(4727,1932)) is not in pool. Re-compute.\n",
      "Feature for (MD662,194,(4792,1867)) is not in pool. Re-compute.\n",
      "Feature for (MD662,194,(4792,1932)) is not in pool. Re-compute.\n",
      "Feature for (MD662,194,(4857,1802)) is not in pool. Re-compute.\n",
      "Feature for (MD662,194,(4857,1867)) is not in pool. Re-compute.\n",
      "Feature for (MD662,194,(4857,1932)) is not in pool. Re-compute.\n",
      "Feature for (MD662,194,(4922,1802)) is not in pool. Re-compute.\n",
      "Feature for (MD662,194,(4922,1867)) is not in pool. Re-compute.\n",
      "Feature for (MD662,194,(4922,1932)) is not in pool. Re-compute.\n",
      "Feature for (MD662,194,(4987,1802)) is not in pool. Re-compute.\n",
      "Feature for (MD662,194,(4987,1867)) is not in pool. Re-compute.\n",
      "Feature for (MD662,194,(4987,1932)) is not in pool. Re-compute.\n",
      "Feature for (MD662,194,(5052,1802)) is not in pool. Re-compute.\n",
      "Feature for (MD662,194,(5052,1867)) is not in pool. Re-compute.\n",
      "Feature for (MD662,194,(5117,1737)) is not in pool. Re-compute.\n",
      "Feature for (MD662,194,(5117,1802)) is not in pool. Re-compute.\n",
      "Feature for (MD662,194,(5117,1867)) is not in pool. Re-compute.\n",
      "Feature for (MD662,194,(5182,1737)) is not in pool. Re-compute.\n",
      "Feature for (MD662,194,(5182,1802)) is not in pool. Re-compute.\n",
      "Feature for (MD662,194,(5247,1737)) is not in pool. Re-compute.\n",
      "Feature for (MD662,194,(5312,1672)) is not in pool. Re-compute.\n",
      "Not using image_cache.\n",
      "Load image: 15.39 seconds.\n",
      "Extract patches: 15.50 seconds\n"
     ]
    },
    {
     "name": "stdout",
     "output_type": "stream",
     "text": [
      "(256, 1, 224, 224)\n"
     ]
    },
    {
     "name": "stderr",
     "output_type": "stream",
     "text": [
      "Compute features: 0.38 seconds\n"
     ]
    },
    {
     "name": "stdout",
     "output_type": "stream",
     "text": [
      "('MD661', 309)\n",
      "('MD661', 193)\n"
     ]
    },
    {
     "name": "stderr",
     "output_type": "stream",
     "text": [
      "Feature for (MD661,193,(6937,502)) is not in pool. Re-compute.\n",
      "Feature for (MD661,193,(7002,502)) is not in pool. Re-compute.\n",
      "Feature for (MD661,193,(7067,502)) is not in pool. Re-compute.\n",
      "Feature for (MD661,193,(7132,502)) is not in pool. Re-compute.\n",
      "Feature for (MD661,193,(7197,502)) is not in pool. Re-compute.\n",
      "Feature for (MD661,193,(7262,502)) is not in pool. Re-compute.\n",
      "Feature for (MD661,193,(7327,502)) is not in pool. Re-compute.\n",
      "Feature for (MD661,193,(7392,502)) is not in pool. Re-compute.\n",
      "Feature for (MD661,193,(5767,1022)) is not in pool. Re-compute.\n",
      "Feature for (MD661,193,(5832,1022)) is not in pool. Re-compute.\n",
      "Feature for (MD661,193,(5897,957)) is not in pool. Re-compute.\n",
      "Feature for (MD661,193,(5897,1022)) is not in pool. Re-compute.\n",
      "Feature for (MD661,193,(5962,957)) is not in pool. Re-compute.\n",
      "Feature for (MD661,193,(5962,1022)) is not in pool. Re-compute.\n",
      "Feature for (MD661,193,(6027,957)) is not in pool. Re-compute.\n",
      "Feature for (MD661,193,(6027,1022)) is not in pool. Re-compute.\n",
      "Feature for (MD661,193,(7912,112)) is not in pool. Re-compute.\n",
      "Feature for (MD661,193,(7977,112)) is not in pool. Re-compute.\n",
      "Feature for (MD661,193,(8042,112)) is not in pool. Re-compute.\n",
      "Feature for (MD661,193,(8107,112)) is not in pool. Re-compute.\n",
      "Feature for (MD661,193,(8172,112)) is not in pool. Re-compute.\n",
      "Feature for (MD661,193,(8237,112)) is not in pool. Re-compute.\n",
      "Not using image_cache.\n",
      "Load image: 16.43 seconds.\n",
      "Extract patches: 16.55 seconds\n"
     ]
    },
    {
     "name": "stdout",
     "output_type": "stream",
     "text": [
      "(256, 1, 224, 224)\n"
     ]
    },
    {
     "name": "stderr",
     "output_type": "stream",
     "text": [
      "Compute features: 0.38 seconds\n"
     ]
    },
    {
     "name": "stdout",
     "output_type": "stream",
     "text": [
      "('MD661', 290)\n",
      "('MD661', 169)\n"
     ]
    },
    {
     "name": "stderr",
     "output_type": "stream",
     "text": [
      "Feature for (MD661,169,(7002,567)) is not in pool. Re-compute.\n",
      "Feature for (MD661,169,(7067,567)) is not in pool. Re-compute.\n",
      "Not using image_cache.\n",
      "Load image: 16.19 seconds.\n",
      "Extract patches: 16.28 seconds\n"
     ]
    },
    {
     "name": "stdout",
     "output_type": "stream",
     "text": [
      "(256, 1, 224, 224)\n"
     ]
    },
    {
     "name": "stderr",
     "output_type": "stream",
     "text": [
      "Compute features: 0.39 seconds\n"
     ]
    },
    {
     "name": "stdout",
     "output_type": "stream",
     "text": [
      "('MD662', 165)\n"
     ]
    },
    {
     "name": "stderr",
     "output_type": "stream",
     "text": [
      "Feature for (MD662,165,(6157,1542)) is not in pool. Re-compute.\n",
      "Feature for (MD662,165,(6222,1542)) is not in pool. Re-compute.\n",
      "Feature for (MD662,165,(6287,1542)) is not in pool. Re-compute.\n",
      "Feature for (MD662,165,(6352,1542)) is not in pool. Re-compute.\n",
      "Feature for (MD662,165,(6482,1607)) is not in pool. Re-compute.\n",
      "Not using image_cache.\n",
      "Load image: 15.96 seconds.\n",
      "Extract patches: 16.04 seconds\n"
     ]
    },
    {
     "name": "stdout",
     "output_type": "stream",
     "text": [
      "(256, 1, 224, 224)\n"
     ]
    },
    {
     "name": "stderr",
     "output_type": "stream",
     "text": [
      "Compute features: 0.38 seconds\n"
     ]
    },
    {
     "name": "stdout",
     "output_type": "stream",
     "text": [
      "('MD661', 235)\n"
     ]
    },
    {
     "name": "stderr",
     "output_type": "stream",
     "text": [
      "Feature for (MD661,235,(5962,1152)) is not in pool. Re-compute.\n",
      "Feature for (MD661,235,(6027,957)) is not in pool. Re-compute.\n",
      "Feature for (MD661,235,(6027,1022)) is not in pool. Re-compute.\n",
      "Feature for (MD661,235,(6027,1087)) is not in pool. Re-compute.\n",
      "Feature for (MD661,235,(6027,1152)) is not in pool. Re-compute.\n",
      "Feature for (MD661,235,(6092,892)) is not in pool. Re-compute.\n",
      "Feature for (MD661,235,(6092,957)) is not in pool. Re-compute.\n",
      "Feature for (MD661,235,(6092,1022)) is not in pool. Re-compute.\n",
      "Feature for (MD661,235,(6092,1087)) is not in pool. Re-compute.\n",
      "Feature for (MD661,235,(6092,1152)) is not in pool. Re-compute.\n",
      "Feature for (MD661,235,(6157,892)) is not in pool. Re-compute.\n",
      "Feature for (MD661,235,(6157,957)) is not in pool. Re-compute.\n",
      "Feature for (MD661,235,(6157,1022)) is not in pool. Re-compute.\n",
      "Feature for (MD661,235,(6157,1087)) is not in pool. Re-compute.\n",
      "Feature for (MD661,235,(6157,1152)) is not in pool. Re-compute.\n",
      "Feature for (MD661,235,(6222,892)) is not in pool. Re-compute.\n",
      "Feature for (MD661,235,(6222,957)) is not in pool. Re-compute.\n",
      "Feature for (MD661,235,(6222,1022)) is not in pool. Re-compute.\n",
      "Feature for (MD661,235,(6222,1087)) is not in pool. Re-compute.\n",
      "Feature for (MD661,235,(6222,1152)) is not in pool. Re-compute.\n",
      "Feature for (MD661,235,(6287,892)) is not in pool. Re-compute.\n",
      "Feature for (MD661,235,(6287,957)) is not in pool. Re-compute.\n",
      "Feature for (MD661,235,(6287,1022)) is not in pool. Re-compute.\n",
      "Feature for (MD661,235,(6287,1087)) is not in pool. Re-compute.\n",
      "Feature for (MD661,235,(6287,1152)) is not in pool. Re-compute.\n",
      "Feature for (MD661,235,(6352,892)) is not in pool. Re-compute.\n",
      "Feature for (MD661,235,(6352,957)) is not in pool. Re-compute.\n",
      "Feature for (MD661,235,(6352,1022)) is not in pool. Re-compute.\n",
      "Feature for (MD661,235,(6352,1087)) is not in pool. Re-compute.\n",
      "Feature for (MD661,235,(6417,892)) is not in pool. Re-compute.\n",
      "Feature for (MD661,235,(6417,957)) is not in pool. Re-compute.\n",
      "Feature for (MD661,235,(6417,1022)) is not in pool. Re-compute.\n",
      "Feature for (MD661,235,(6417,1087)) is not in pool. Re-compute.\n",
      "Feature for (MD661,235,(6482,892)) is not in pool. Re-compute.\n",
      "Feature for (MD661,235,(6482,957)) is not in pool. Re-compute.\n",
      "Feature for (MD661,235,(6482,1022)) is not in pool. Re-compute.\n",
      "Feature for (MD661,235,(6482,1087)) is not in pool. Re-compute.\n",
      "Feature for (MD661,235,(6547,957)) is not in pool. Re-compute.\n",
      "Feature for (MD661,235,(6547,1022)) is not in pool. Re-compute.\n",
      "Feature for (MD661,235,(6547,1087)) is not in pool. Re-compute.\n",
      "Feature for (MD661,235,(6612,957)) is not in pool. Re-compute.\n",
      "Feature for (MD661,235,(6612,1022)) is not in pool. Re-compute.\n",
      "Feature for (MD661,235,(6612,1087)) is not in pool. Re-compute.\n",
      "Feature for (MD661,235,(6677,1022)) is not in pool. Re-compute.\n",
      "Not using image_cache.\n",
      "Load image: 18.51 seconds.\n",
      "Extract patches: 18.65 seconds\n"
     ]
    },
    {
     "name": "stdout",
     "output_type": "stream",
     "text": [
      "(256, 1, 224, 224)\n"
     ]
    },
    {
     "name": "stderr",
     "output_type": "stream",
     "text": [
      "Compute features: 0.38 seconds\n"
     ]
    },
    {
     "name": "stdout",
     "output_type": "stream",
     "text": [
      "('MD661', 166)\n",
      "('MD661', 273)\n"
     ]
    },
    {
     "name": "stderr",
     "output_type": "stream",
     "text": [
      "Feature for (MD661,273,(5442,1217)) is not in pool. Re-compute.\n",
      "Feature for (MD661,273,(5442,1282)) is not in pool. Re-compute.\n",
      "Feature for (MD661,273,(5442,1347)) is not in pool. Re-compute.\n",
      "Feature for (MD661,273,(5507,1217)) is not in pool. Re-compute.\n",
      "Feature for (MD661,273,(5507,1282)) is not in pool. Re-compute.\n",
      "Feature for (MD661,273,(5507,1347)) is not in pool. Re-compute.\n",
      "Feature for (MD661,273,(5572,1217)) is not in pool. Re-compute.\n",
      "Feature for (MD661,273,(5572,1282)) is not in pool. Re-compute.\n",
      "Feature for (MD661,273,(5572,1347)) is not in pool. Re-compute.\n",
      "Feature for (MD661,273,(5572,1412)) is not in pool. Re-compute.\n",
      "Feature for (MD661,273,(5637,1217)) is not in pool. Re-compute.\n",
      "Feature for (MD661,273,(5637,1282)) is not in pool. Re-compute.\n",
      "Feature for (MD661,273,(5637,1347)) is not in pool. Re-compute.\n",
      "Feature for (MD661,273,(5637,1412)) is not in pool. Re-compute.\n",
      "Feature for (MD661,273,(5702,1152)) is not in pool. Re-compute.\n",
      "Feature for (MD661,273,(5702,1217)) is not in pool. Re-compute.\n",
      "Feature for (MD661,273,(5702,1282)) is not in pool. Re-compute.\n",
      "Feature for (MD661,273,(5702,1347)) is not in pool. Re-compute.\n",
      "Feature for (MD661,273,(5767,1152)) is not in pool. Re-compute.\n",
      "Feature for (MD661,273,(5767,1217)) is not in pool. Re-compute.\n",
      "Feature for (MD661,273,(5767,1282)) is not in pool. Re-compute.\n",
      "Feature for (MD661,273,(5767,1347)) is not in pool. Re-compute.\n",
      "Feature for (MD661,273,(5767,1412)) is not in pool. Re-compute.\n",
      "Feature for (MD661,273,(5832,1087)) is not in pool. Re-compute.\n",
      "Feature for (MD661,273,(5832,1152)) is not in pool. Re-compute.\n",
      "Feature for (MD661,273,(5832,1217)) is not in pool. Re-compute.\n",
      "Feature for (MD661,273,(5832,1282)) is not in pool. Re-compute.\n",
      "Feature for (MD661,273,(5832,1347)) is not in pool. Re-compute.\n",
      "Feature for (MD661,273,(5832,1412)) is not in pool. Re-compute.\n",
      "Feature for (MD661,273,(5897,1087)) is not in pool. Re-compute.\n",
      "Feature for (MD661,273,(5897,1152)) is not in pool. Re-compute.\n",
      "Feature for (MD661,273,(5897,1217)) is not in pool. Re-compute.\n",
      "Feature for (MD661,273,(5897,1282)) is not in pool. Re-compute.\n",
      "Feature for (MD661,273,(5897,1347)) is not in pool. Re-compute.\n",
      "Feature for (MD661,273,(5962,1087)) is not in pool. Re-compute.\n",
      "Feature for (MD661,273,(5962,1152)) is not in pool. Re-compute.\n",
      "Feature for (MD661,273,(5962,1217)) is not in pool. Re-compute.\n",
      "Feature for (MD661,273,(6027,1087)) is not in pool. Re-compute.\n",
      "Feature for (MD661,273,(6027,1152)) is not in pool. Re-compute.\n",
      "Feature for (MD661,273,(6027,1217)) is not in pool. Re-compute.\n",
      "Feature for (MD661,273,(6092,1087)) is not in pool. Re-compute.\n",
      "Feature for (MD661,273,(6092,1152)) is not in pool. Re-compute.\n",
      "Feature for (MD661,273,(6157,1087)) is not in pool. Re-compute.\n",
      "Feature for (MD661,273,(6157,1152)) is not in pool. Re-compute.\n",
      "Feature for (MD661,273,(6222,1087)) is not in pool. Re-compute.\n",
      "Not using image_cache.\n",
      "Load image: 18.39 seconds.\n",
      "Extract patches: 18.53 seconds\n"
     ]
    },
    {
     "name": "stdout",
     "output_type": "stream",
     "text": [
      "(256, 1, 224, 224)\n"
     ]
    },
    {
     "name": "stderr",
     "output_type": "stream",
     "text": [
      "Compute features: 0.40 seconds\n"
     ]
    },
    {
     "name": "stdout",
     "output_type": "stream",
     "text": [
      "('MD662', 238)\n"
     ]
    },
    {
     "name": "stderr",
     "output_type": "stream",
     "text": [
      "Feature for (MD662,238,(4662,1672)) is not in pool. Re-compute.\n",
      "Feature for (MD662,238,(4662,1737)) is not in pool. Re-compute.\n",
      "Feature for (MD662,238,(4662,1802)) is not in pool. Re-compute.\n",
      "Feature for (MD662,238,(4727,1672)) is not in pool. Re-compute.\n",
      "Feature for (MD662,238,(4727,1737)) is not in pool. Re-compute.\n",
      "Feature for (MD662,238,(4727,1802)) is not in pool. Re-compute.\n",
      "Feature for (MD662,238,(4792,1672)) is not in pool. Re-compute.\n",
      "Feature for (MD662,238,(4792,1737)) is not in pool. Re-compute.\n",
      "Feature for (MD662,238,(4792,1802)) is not in pool. Re-compute.\n",
      "Feature for (MD662,238,(4857,1672)) is not in pool. Re-compute.\n",
      "Feature for (MD662,238,(4857,1737)) is not in pool. Re-compute.\n",
      "Feature for (MD662,238,(4922,1672)) is not in pool. Re-compute.\n",
      "Feature for (MD662,238,(4987,1672)) is not in pool. Re-compute.\n",
      "Not using image_cache.\n",
      "Load image: 16.11 seconds.\n",
      "Extract patches: 16.20 seconds\n"
     ]
    },
    {
     "name": "stdout",
     "output_type": "stream",
     "text": [
      "(256, 1, 224, 224)\n"
     ]
    },
    {
     "name": "stderr",
     "output_type": "stream",
     "text": [
      "Compute features: 0.37 seconds\n"
     ]
    },
    {
     "name": "stdout",
     "output_type": "stream",
     "text": [
      "('MD661', 152)\n",
      "('MD662', 286)\n",
      "('MD661', 270)\n"
     ]
    },
    {
     "name": "stderr",
     "output_type": "stream",
     "text": [
      "Feature for (MD661,270,(5442,1217)) is not in pool. Re-compute.\n",
      "Feature for (MD661,270,(5442,1282)) is not in pool. Re-compute.\n",
      "Feature for (MD661,270,(5507,1152)) is not in pool. Re-compute.\n",
      "Feature for (MD661,270,(5507,1217)) is not in pool. Re-compute.\n",
      "Feature for (MD661,270,(5507,1282)) is not in pool. Re-compute.\n",
      "Feature for (MD661,270,(5572,1152)) is not in pool. Re-compute.\n",
      "Feature for (MD661,270,(5572,1217)) is not in pool. Re-compute.\n",
      "Feature for (MD661,270,(5637,1152)) is not in pool. Re-compute.\n",
      "Feature for (MD661,270,(5637,1217)) is not in pool. Re-compute.\n",
      "Feature for (MD661,270,(5702,1087)) is not in pool. Re-compute.\n",
      "Feature for (MD661,270,(5702,1152)) is not in pool. Re-compute.\n",
      "Feature for (MD661,270,(5702,1217)) is not in pool. Re-compute.\n",
      "Feature for (MD661,270,(5767,1087)) is not in pool. Re-compute.\n",
      "Feature for (MD661,270,(5767,1152)) is not in pool. Re-compute.\n",
      "Feature for (MD661,270,(5767,1217)) is not in pool. Re-compute.\n",
      "Feature for (MD661,270,(5767,1282)) is not in pool. Re-compute.\n",
      "Feature for (MD661,270,(5832,1022)) is not in pool. Re-compute.\n",
      "Feature for (MD661,270,(5832,1087)) is not in pool. Re-compute.\n",
      "Feature for (MD661,270,(5832,1152)) is not in pool. Re-compute.\n",
      "Feature for (MD661,270,(5832,1217)) is not in pool. Re-compute.\n",
      "Feature for (MD661,270,(5832,1282)) is not in pool. Re-compute.\n",
      "Feature for (MD661,270,(5897,1022)) is not in pool. Re-compute.\n",
      "Feature for (MD661,270,(5897,1087)) is not in pool. Re-compute.\n",
      "Feature for (MD661,270,(5897,1152)) is not in pool. Re-compute.\n",
      "Feature for (MD661,270,(5897,1217)) is not in pool. Re-compute.\n",
      "Feature for (MD661,270,(5962,1022)) is not in pool. Re-compute.\n",
      "Feature for (MD661,270,(5962,1087)) is not in pool. Re-compute.\n",
      "Feature for (MD661,270,(5962,1152)) is not in pool. Re-compute.\n",
      "Feature for (MD661,270,(6027,1022)) is not in pool. Re-compute.\n",
      "Feature for (MD661,270,(6027,1087)) is not in pool. Re-compute.\n",
      "Feature for (MD661,270,(6092,1022)) is not in pool. Re-compute.\n",
      "Feature for (MD661,270,(6092,1087)) is not in pool. Re-compute.\n",
      "Feature for (MD661,270,(6157,1022)) is not in pool. Re-compute.\n",
      "Feature for (MD661,270,(6157,1087)) is not in pool. Re-compute.\n",
      "Feature for (MD661,270,(6222,1022)) is not in pool. Re-compute.\n",
      "Feature for (MD661,270,(6287,1022)) is not in pool. Re-compute.\n",
      "Not using image_cache.\n",
      "Load image: 18.17 seconds.\n",
      "Extract patches: 18.29 seconds\n"
     ]
    },
    {
     "name": "stdout",
     "output_type": "stream",
     "text": [
      "(256, 1, 224, 224)\n"
     ]
    },
    {
     "name": "stderr",
     "output_type": "stream",
     "text": [
      "Compute features: 0.41 seconds\n"
     ]
    },
    {
     "name": "stdout",
     "output_type": "stream",
     "text": [
      "('MD662', 151)\n",
      "('MD661', 149)\n",
      "('MD662', 269)\n"
     ]
    },
    {
     "name": "stderr",
     "output_type": "stream",
     "text": [
      "Feature for (MD662,269,(4597,1932)) is not in pool. Re-compute.\n",
      "Not using image_cache.\n",
      "Load image: 16.61 seconds.\n",
      "Extract patches: 16.70 seconds\n"
     ]
    },
    {
     "name": "stdout",
     "output_type": "stream",
     "text": [
      "(256, 1, 224, 224)\n"
     ]
    },
    {
     "name": "stderr",
     "output_type": "stream",
     "text": [
      "Compute features: 0.44 seconds\n"
     ]
    },
    {
     "name": "stdout",
     "output_type": "stream",
     "text": [
      "('MD661', 215)\n"
     ]
    },
    {
     "name": "stderr",
     "output_type": "stream",
     "text": [
      "Feature for (MD661,215,(5897,827)) is not in pool. Re-compute.\n",
      "Feature for (MD661,215,(5962,762)) is not in pool. Re-compute.\n",
      "Feature for (MD661,215,(5962,827)) is not in pool. Re-compute.\n",
      "Feature for (MD661,215,(6027,762)) is not in pool. Re-compute.\n",
      "Feature for (MD661,215,(6027,827)) is not in pool. Re-compute.\n",
      "Feature for (MD661,215,(6092,697)) is not in pool. Re-compute.\n",
      "Feature for (MD661,215,(6092,762)) is not in pool. Re-compute.\n",
      "Feature for (MD661,215,(6092,827)) is not in pool. Re-compute.\n",
      "Feature for (MD661,215,(6157,697)) is not in pool. Re-compute.\n",
      "Feature for (MD661,215,(6157,762)) is not in pool. Re-compute.\n",
      "Feature for (MD661,215,(6157,827)) is not in pool. Re-compute.\n",
      "Feature for (MD661,215,(6222,697)) is not in pool. Re-compute.\n",
      "Feature for (MD661,215,(6222,762)) is not in pool. Re-compute.\n",
      "Feature for (MD661,215,(6222,827)) is not in pool. Re-compute.\n",
      "Feature for (MD661,215,(6287,697)) is not in pool. Re-compute.\n",
      "Feature for (MD661,215,(6287,762)) is not in pool. Re-compute.\n",
      "Feature for (MD661,215,(6287,827)) is not in pool. Re-compute.\n",
      "Feature for (MD661,215,(6352,762)) is not in pool. Re-compute.\n",
      "Feature for (MD661,215,(6417,762)) is not in pool. Re-compute.\n",
      "Feature for (MD661,215,(7457,112)) is not in pool. Re-compute.\n",
      "Feature for (MD661,215,(7522,112)) is not in pool. Re-compute.\n",
      "Feature for (MD661,215,(7587,112)) is not in pool. Re-compute.\n",
      "Feature for (MD661,215,(7652,112)) is not in pool. Re-compute.\n",
      "Feature for (MD661,215,(7717,112)) is not in pool. Re-compute.\n",
      "Feature for (MD661,215,(7782,112)) is not in pool. Re-compute.\n",
      "Not using image_cache.\n",
      "Load image: 18.31 seconds.\n",
      "Extract patches: 18.42 seconds\n"
     ]
    },
    {
     "name": "stdout",
     "output_type": "stream",
     "text": [
      "(256, 1, 224, 224)\n"
     ]
    },
    {
     "name": "stderr",
     "output_type": "stream",
     "text": [
      "Compute features: 0.38 seconds\n"
     ]
    },
    {
     "name": "stdout",
     "output_type": "stream",
     "text": [
      "('MD661', 196)\n"
     ]
    },
    {
     "name": "stderr",
     "output_type": "stream",
     "text": [
      "Feature for (MD661,196,(6872,567)) is not in pool. Re-compute.\n",
      "Feature for (MD661,196,(6937,567)) is not in pool. Re-compute.\n",
      "Feature for (MD661,196,(7002,567)) is not in pool. Re-compute.\n",
      "Feature for (MD661,196,(7132,502)) is not in pool. Re-compute.\n",
      "Feature for (MD661,196,(7197,502)) is not in pool. Re-compute.\n",
      "Feature for (MD661,196,(7262,502)) is not in pool. Re-compute.\n",
      "Feature for (MD661,196,(7327,502)) is not in pool. Re-compute.\n",
      "Feature for (MD661,196,(5767,957)) is not in pool. Re-compute.\n",
      "Feature for (MD661,196,(5832,957)) is not in pool. Re-compute.\n",
      "Feature for (MD661,196,(5897,892)) is not in pool. Re-compute.\n",
      "Feature for (MD661,196,(5897,957)) is not in pool. Re-compute.\n",
      "Feature for (MD661,196,(5962,892)) is not in pool. Re-compute.\n",
      "Feature for (MD661,196,(5962,957)) is not in pool. Re-compute.\n",
      "Feature for (MD661,196,(6027,892)) is not in pool. Re-compute.\n",
      "Feature for (MD661,196,(6027,957)) is not in pool. Re-compute.\n",
      "Feature for (MD661,196,(6092,892)) is not in pool. Re-compute.\n",
      "Feature for (MD661,196,(7847,112)) is not in pool. Re-compute.\n",
      "Feature for (MD661,196,(7912,112)) is not in pool. Re-compute.\n",
      "Feature for (MD661,196,(7977,112)) is not in pool. Re-compute.\n",
      "Feature for (MD661,196,(8042,112)) is not in pool. Re-compute.\n",
      "Feature for (MD661,196,(8107,112)) is not in pool. Re-compute.\n",
      "Feature for (MD661,196,(8172,112)) is not in pool. Re-compute.\n",
      "Feature for (MD661,196,(8237,112)) is not in pool. Re-compute.\n",
      "Not using image_cache.\n",
      "Load image: 16.79 seconds.\n",
      "Extract patches: 16.92 seconds\n"
     ]
    },
    {
     "name": "stdout",
     "output_type": "stream",
     "text": [
      "(256, 1, 224, 224)\n"
     ]
    },
    {
     "name": "stderr",
     "output_type": "stream",
     "text": [
      "Compute features: 0.38 seconds\n"
     ]
    },
    {
     "name": "stdout",
     "output_type": "stream",
     "text": [
      "('MD661', 191)\n"
     ]
    },
    {
     "name": "stderr",
     "output_type": "stream",
     "text": [
      "Feature for (MD661,191,(6937,502)) is not in pool. Re-compute.\n",
      "Feature for (MD661,191,(7002,502)) is not in pool. Re-compute.\n",
      "Feature for (MD661,191,(7067,502)) is not in pool. Re-compute.\n",
      "Feature for (MD661,191,(7132,502)) is not in pool. Re-compute.\n",
      "Feature for (MD661,191,(7197,502)) is not in pool. Re-compute.\n",
      "Feature for (MD661,191,(7262,502)) is not in pool. Re-compute.\n",
      "Feature for (MD661,191,(7327,502)) is not in pool. Re-compute.\n",
      "Feature for (MD661,191,(7392,502)) is not in pool. Re-compute.\n",
      "Feature for (MD661,191,(7457,502)) is not in pool. Re-compute.\n",
      "Feature for (MD661,191,(5702,1087)) is not in pool. Re-compute.\n",
      "Feature for (MD661,191,(5767,1087)) is not in pool. Re-compute.\n",
      "Feature for (MD661,191,(5832,1022)) is not in pool. Re-compute.\n",
      "Feature for (MD661,191,(5832,1087)) is not in pool. Re-compute.\n",
      "Feature for (MD661,191,(5897,1022)) is not in pool. Re-compute.\n",
      "Feature for (MD661,191,(5897,1087)) is not in pool. Re-compute.\n",
      "Feature for (MD661,191,(5962,1022)) is not in pool. Re-compute.\n",
      "Feature for (MD661,191,(6027,957)) is not in pool. Re-compute.\n",
      "Feature for (MD661,191,(7977,112)) is not in pool. Re-compute.\n",
      "Feature for (MD661,191,(8042,112)) is not in pool. Re-compute.\n",
      "Feature for (MD661,191,(8107,112)) is not in pool. Re-compute.\n",
      "Feature for (MD661,191,(8172,112)) is not in pool. Re-compute.\n",
      "Feature for (MD661,191,(8237,112)) is not in pool. Re-compute.\n",
      "Not using image_cache.\n",
      "Load image: 16.90 seconds.\n",
      "Extract patches: 17.02 seconds\n"
     ]
    },
    {
     "name": "stdout",
     "output_type": "stream",
     "text": [
      "(256, 1, 224, 224)\n"
     ]
    },
    {
     "name": "stderr",
     "output_type": "stream",
     "text": [
      "Compute features: 0.39 seconds\n"
     ]
    },
    {
     "name": "stdout",
     "output_type": "stream",
     "text": [
      "('MD662', 295)\n",
      "('MD661', 241)\n"
     ]
    },
    {
     "name": "stderr",
     "output_type": "stream",
     "text": [
      "Feature for (MD661,241,(5897,957)) is not in pool. Re-compute.\n",
      "Feature for (MD661,241,(5897,1022)) is not in pool. Re-compute.\n",
      "Feature for (MD661,241,(5962,892)) is not in pool. Re-compute.\n",
      "Feature for (MD661,241,(5962,957)) is not in pool. Re-compute.\n",
      "Feature for (MD661,241,(5962,1022)) is not in pool. Re-compute.\n",
      "Feature for (MD661,241,(6027,892)) is not in pool. Re-compute.\n",
      "Feature for (MD661,241,(6027,957)) is not in pool. Re-compute.\n",
      "Feature for (MD661,241,(6027,1022)) is not in pool. Re-compute.\n",
      "Feature for (MD661,241,(6092,892)) is not in pool. Re-compute.\n",
      "Feature for (MD661,241,(6092,957)) is not in pool. Re-compute.\n",
      "Feature for (MD661,241,(6092,1022)) is not in pool. Re-compute.\n",
      "Feature for (MD661,241,(6157,827)) is not in pool. Re-compute.\n",
      "Feature for (MD661,241,(6157,892)) is not in pool. Re-compute.\n",
      "Feature for (MD661,241,(6157,957)) is not in pool. Re-compute.\n",
      "Feature for (MD661,241,(6157,1022)) is not in pool. Re-compute.\n",
      "Feature for (MD661,241,(6222,827)) is not in pool. Re-compute.\n",
      "Feature for (MD661,241,(6222,892)) is not in pool. Re-compute.\n",
      "Feature for (MD661,241,(6222,957)) is not in pool. Re-compute.\n",
      "Feature for (MD661,241,(6222,1022)) is not in pool. Re-compute.\n",
      "Feature for (MD661,241,(6222,1087)) is not in pool. Re-compute.\n",
      "Feature for (MD661,241,(6287,827)) is not in pool. Re-compute.\n",
      "Feature for (MD661,241,(6287,892)) is not in pool. Re-compute.\n",
      "Feature for (MD661,241,(6287,957)) is not in pool. Re-compute.\n",
      "Feature for (MD661,241,(6287,1022)) is not in pool. Re-compute.\n",
      "Feature for (MD661,241,(6287,1087)) is not in pool. Re-compute.\n",
      "Feature for (MD661,241,(6352,827)) is not in pool. Re-compute.\n",
      "Feature for (MD661,241,(6352,892)) is not in pool. Re-compute.\n",
      "Feature for (MD661,241,(6352,957)) is not in pool. Re-compute.\n",
      "Feature for (MD661,241,(6352,1022)) is not in pool. Re-compute.\n",
      "Feature for (MD661,241,(6352,1087)) is not in pool. Re-compute.\n",
      "Feature for (MD661,241,(6417,892)) is not in pool. Re-compute.\n",
      "Feature for (MD661,241,(6417,957)) is not in pool. Re-compute.\n",
      "Feature for (MD661,241,(6417,1022)) is not in pool. Re-compute.\n",
      "Feature for (MD661,241,(6417,1087)) is not in pool. Re-compute.\n",
      "Feature for (MD661,241,(6482,892)) is not in pool. Re-compute.\n",
      "Feature for (MD661,241,(6482,957)) is not in pool. Re-compute.\n",
      "Feature for (MD661,241,(6482,1022)) is not in pool. Re-compute.\n",
      "Feature for (MD661,241,(6482,1087)) is not in pool. Re-compute.\n",
      "Feature for (MD661,241,(6547,892)) is not in pool. Re-compute.\n",
      "Feature for (MD661,241,(6547,957)) is not in pool. Re-compute.\n",
      "Feature for (MD661,241,(6547,1022)) is not in pool. Re-compute.\n",
      "Feature for (MD661,241,(6547,1087)) is not in pool. Re-compute.\n",
      "Feature for (MD661,241,(6612,957)) is not in pool. Re-compute.\n",
      "Feature for (MD661,241,(6612,1022)) is not in pool. Re-compute.\n",
      "Feature for (MD661,241,(6612,1087)) is not in pool. Re-compute.\n",
      "Feature for (MD661,241,(6677,1022)) is not in pool. Re-compute.\n",
      "Not using image_cache.\n",
      "Load image: 17.75 seconds.\n",
      "Extract patches: 17.89 seconds\n"
     ]
    },
    {
     "name": "stdout",
     "output_type": "stream",
     "text": [
      "(256, 1, 224, 224)\n"
     ]
    },
    {
     "name": "stderr",
     "output_type": "stream",
     "text": [
      "Compute features: 0.38 seconds\n"
     ]
    },
    {
     "name": "stdout",
     "output_type": "stream",
     "text": [
      "('MD662', 225)\n"
     ]
    },
    {
     "name": "stderr",
     "output_type": "stream",
     "text": [
      "Feature for (MD662,225,(4922,1802)) is not in pool. Re-compute.\n",
      "Feature for (MD662,225,(4987,1802)) is not in pool. Re-compute.\n",
      "Feature for (MD662,225,(5052,1802)) is not in pool. Re-compute.\n",
      "Feature for (MD662,225,(5117,1802)) is not in pool. Re-compute.\n",
      "Feature for (MD662,225,(5182,1737)) is not in pool. Re-compute.\n",
      "Feature for (MD662,225,(5182,1802)) is not in pool. Re-compute.\n",
      "Feature for (MD662,225,(5247,1737)) is not in pool. Re-compute.\n",
      "Feature for (MD662,225,(5247,1802)) is not in pool. Re-compute.\n",
      "Feature for (MD662,225,(5247,1867)) is not in pool. Re-compute.\n",
      "Feature for (MD662,225,(5312,1737)) is not in pool. Re-compute.\n",
      "Feature for (MD662,225,(5312,1802)) is not in pool. Re-compute.\n",
      "Feature for (MD662,225,(5312,1867)) is not in pool. Re-compute.\n",
      "Feature for (MD662,225,(5377,1737)) is not in pool. Re-compute.\n",
      "Feature for (MD662,225,(5377,1802)) is not in pool. Re-compute.\n",
      "Feature for (MD662,225,(5442,1737)) is not in pool. Re-compute.\n",
      "Feature for (MD662,225,(5442,1802)) is not in pool. Re-compute.\n",
      "Feature for (MD662,225,(5507,1802)) is not in pool. Re-compute.\n",
      "Not using image_cache.\n",
      "Load image: 17.03 seconds.\n",
      "Extract patches: 17.12 seconds\n"
     ]
    },
    {
     "name": "stdout",
     "output_type": "stream",
     "text": [
      "(256, 1, 224, 224)\n"
     ]
    },
    {
     "name": "stderr",
     "output_type": "stream",
     "text": [
      "Compute features: 0.38 seconds\n"
     ]
    },
    {
     "name": "stdout",
     "output_type": "stream",
     "text": [
      "('MD662', 298)\n",
      "('MD662', 163)\n"
     ]
    },
    {
     "name": "stderr",
     "output_type": "stream",
     "text": [
      "Feature for (MD662,163,(5897,1737)) is not in pool. Re-compute.\n",
      "Feature for (MD662,163,(6157,1607)) is not in pool. Re-compute.\n",
      "Feature for (MD662,163,(6222,1607)) is not in pool. Re-compute.\n",
      "Feature for (MD662,163,(6287,1607)) is not in pool. Re-compute.\n",
      "Feature for (MD662,163,(6352,1607)) is not in pool. Re-compute.\n",
      "Feature for (MD662,163,(6417,1607)) is not in pool. Re-compute.\n",
      "Not using image_cache.\n",
      "Load image: 14.01 seconds.\n",
      "Extract patches: 14.10 seconds\n"
     ]
    },
    {
     "name": "stdout",
     "output_type": "stream",
     "text": [
      "(256, 1, 224, 224)\n"
     ]
    },
    {
     "name": "stderr",
     "output_type": "stream",
     "text": [
      "Compute features: 0.40 seconds\n"
     ]
    },
    {
     "name": "stdout",
     "output_type": "stream",
     "text": [
      "('MD661', 276)\n"
     ]
    },
    {
     "name": "stderr",
     "output_type": "stream",
     "text": [
      "Feature for (MD661,276,(5637,1217)) is not in pool. Re-compute.\n",
      "Feature for (MD661,276,(5637,1282)) is not in pool. Re-compute.\n",
      "Feature for (MD661,276,(5702,1217)) is not in pool. Re-compute.\n",
      "Feature for (MD661,276,(5702,1282)) is not in pool. Re-compute.\n",
      "Feature for (MD661,276,(5702,1347)) is not in pool. Re-compute.\n",
      "Feature for (MD661,276,(5702,1412)) is not in pool. Re-compute.\n",
      "Feature for (MD661,276,(5702,1477)) is not in pool. Re-compute.\n",
      "Feature for (MD661,276,(5767,1217)) is not in pool. Re-compute.\n",
      "Feature for (MD661,276,(5767,1282)) is not in pool. Re-compute.\n",
      "Feature for (MD661,276,(5767,1347)) is not in pool. Re-compute.\n",
      "Feature for (MD661,276,(5767,1412)) is not in pool. Re-compute.\n",
      "Feature for (MD661,276,(5767,1477)) is not in pool. Re-compute.\n",
      "Feature for (MD661,276,(5767,1542)) is not in pool. Re-compute.\n",
      "Feature for (MD661,276,(5767,1607)) is not in pool. Re-compute.\n",
      "Feature for (MD661,276,(5832,1152)) is not in pool. Re-compute.\n",
      "Feature for (MD661,276,(5832,1217)) is not in pool. Re-compute.\n",
      "Feature for (MD661,276,(5832,1282)) is not in pool. Re-compute.\n",
      "Feature for (MD661,276,(5832,1347)) is not in pool. Re-compute.\n",
      "Feature for (MD661,276,(5832,1412)) is not in pool. Re-compute.\n",
      "Feature for (MD661,276,(5832,1477)) is not in pool. Re-compute.\n",
      "Feature for (MD661,276,(5832,1542)) is not in pool. Re-compute.\n",
      "Feature for (MD661,276,(5897,1152)) is not in pool. Re-compute.\n",
      "Feature for (MD661,276,(5897,1217)) is not in pool. Re-compute.\n",
      "Feature for (MD661,276,(5897,1282)) is not in pool. Re-compute.\n",
      "Feature for (MD661,276,(5897,1347)) is not in pool. Re-compute.\n",
      "Feature for (MD661,276,(5897,1412)) is not in pool. Re-compute.\n",
      "Feature for (MD661,276,(5962,1152)) is not in pool. Re-compute.\n",
      "Feature for (MD661,276,(5962,1217)) is not in pool. Re-compute.\n",
      "Feature for (MD661,276,(5962,1282)) is not in pool. Re-compute.\n",
      "Feature for (MD661,276,(5962,1347)) is not in pool. Re-compute.\n",
      "Feature for (MD661,276,(6027,1152)) is not in pool. Re-compute.\n",
      "Feature for (MD661,276,(6027,1217)) is not in pool. Re-compute.\n",
      "Feature for (MD661,276,(6027,1282)) is not in pool. Re-compute.\n",
      "Feature for (MD661,276,(6092,1152)) is not in pool. Re-compute.\n",
      "Feature for (MD661,276,(6092,1217)) is not in pool. Re-compute.\n",
      "Feature for (MD661,276,(6157,1152)) is not in pool. Re-compute.\n",
      "Not using image_cache.\n",
      "Load image: 17.60 seconds.\n",
      "Extract patches: 17.73 seconds\n"
     ]
    },
    {
     "name": "stdout",
     "output_type": "stream",
     "text": [
      "(256, 1, 224, 224)\n"
     ]
    },
    {
     "name": "stderr",
     "output_type": "stream",
     "text": [
      "Compute features: 0.38 seconds\n"
     ]
    },
    {
     "name": "stdout",
     "output_type": "stream",
     "text": [
      "('MD662', 250)\n"
     ]
    },
    {
     "name": "stderr",
     "output_type": "stream",
     "text": [
      "Feature for (MD662,250,(4532,1737)) is not in pool. Re-compute.\n",
      "Feature for (MD662,250,(4532,1802)) is not in pool. Re-compute.\n",
      "Feature for (MD662,250,(4597,1672)) is not in pool. Re-compute.\n",
      "Feature for (MD662,250,(4597,1737)) is not in pool. Re-compute.\n",
      "Feature for (MD662,250,(4597,1802)) is not in pool. Re-compute.\n",
      "Feature for (MD662,250,(4662,1672)) is not in pool. Re-compute.\n",
      "Feature for (MD662,250,(4662,1737)) is not in pool. Re-compute.\n",
      "Feature for (MD662,250,(4662,1802)) is not in pool. Re-compute.\n",
      "Feature for (MD662,250,(4727,1672)) is not in pool. Re-compute.\n",
      "Feature for (MD662,250,(4727,1737)) is not in pool. Re-compute.\n",
      "Feature for (MD662,250,(4727,1802)) is not in pool. Re-compute.\n",
      "Feature for (MD662,250,(4792,1672)) is not in pool. Re-compute.\n",
      "Feature for (MD662,250,(4792,1737)) is not in pool. Re-compute.\n",
      "Feature for (MD662,250,(4792,1802)) is not in pool. Re-compute.\n",
      "Feature for (MD662,250,(4857,1607)) is not in pool. Re-compute.\n",
      "Feature for (MD662,250,(4857,1672)) is not in pool. Re-compute.\n",
      "Feature for (MD662,250,(4857,1737)) is not in pool. Re-compute.\n",
      "Feature for (MD662,250,(4857,1802)) is not in pool. Re-compute.\n",
      "Feature for (MD662,250,(4922,1607)) is not in pool. Re-compute.\n",
      "Feature for (MD662,250,(4922,1672)) is not in pool. Re-compute.\n",
      "Feature for (MD662,250,(4922,1737)) is not in pool. Re-compute.\n",
      "Feature for (MD662,250,(4922,1802)) is not in pool. Re-compute.\n",
      "Feature for (MD662,250,(4987,1542)) is not in pool. Re-compute.\n",
      "Feature for (MD662,250,(4987,1607)) is not in pool. Re-compute.\n",
      "Feature for (MD662,250,(4987,1672)) is not in pool. Re-compute.\n",
      "Feature for (MD662,250,(5052,1542)) is not in pool. Re-compute.\n",
      "Not using image_cache.\n",
      "Load image: 16.80 seconds.\n",
      "Extract patches: 16.92 seconds\n"
     ]
    },
    {
     "name": "stdout",
     "output_type": "stream",
     "text": [
      "(256, 1, 224, 224)\n"
     ]
    },
    {
     "name": "stderr",
     "output_type": "stream",
     "text": [
      "Compute features: 0.40 seconds\n"
     ]
    },
    {
     "name": "stdout",
     "output_type": "stream",
     "text": [
      "('MD662', 214)\n"
     ]
    },
    {
     "name": "stderr",
     "output_type": "stream",
     "text": [
      "Feature for (MD662,214,(4922,1802)) is not in pool. Re-compute.\n",
      "Feature for (MD662,214,(4987,1802)) is not in pool. Re-compute.\n",
      "Feature for (MD662,214,(5052,1737)) is not in pool. Re-compute.\n",
      "Feature for (MD662,214,(5117,1737)) is not in pool. Re-compute.\n",
      "Not using image_cache.\n",
      "Load image: 16.56 seconds.\n",
      "Extract patches: 16.64 seconds\n"
     ]
    },
    {
     "name": "stdout",
     "output_type": "stream",
     "text": [
      "(256, 1, 224, 224)\n"
     ]
    },
    {
     "name": "stderr",
     "output_type": "stream",
     "text": [
      "Compute features: 0.38 seconds\n"
     ]
    },
    {
     "name": "stdout",
     "output_type": "stream",
     "text": [
      "('MD662', 283)\n",
      "('MD661', 257)\n"
     ]
    },
    {
     "name": "stderr",
     "output_type": "stream",
     "text": [
      "Feature for (MD661,257,(5572,1087)) is not in pool. Re-compute.\n",
      "Feature for (MD661,257,(5572,1152)) is not in pool. Re-compute.\n",
      "Feature for (MD661,257,(5637,957)) is not in pool. Re-compute.\n",
      "Feature for (MD661,257,(5637,1022)) is not in pool. Re-compute.\n",
      "Feature for (MD661,257,(5637,1087)) is not in pool. Re-compute.\n",
      "Feature for (MD661,257,(5637,1152)) is not in pool. Re-compute.\n",
      "Feature for (MD661,257,(5702,892)) is not in pool. Re-compute.\n",
      "Feature for (MD661,257,(5702,957)) is not in pool. Re-compute.\n",
      "Feature for (MD661,257,(5702,1022)) is not in pool. Re-compute.\n",
      "Feature for (MD661,257,(5702,1087)) is not in pool. Re-compute.\n",
      "Feature for (MD661,257,(5767,892)) is not in pool. Re-compute.\n",
      "Feature for (MD661,257,(5767,957)) is not in pool. Re-compute.\n",
      "Feature for (MD661,257,(5767,1022)) is not in pool. Re-compute.\n",
      "Feature for (MD661,257,(5767,1087)) is not in pool. Re-compute.\n",
      "Feature for (MD661,257,(5832,827)) is not in pool. Re-compute.\n",
      "Feature for (MD661,257,(5832,892)) is not in pool. Re-compute.\n",
      "Feature for (MD661,257,(5832,957)) is not in pool. Re-compute.\n",
      "Feature for (MD661,257,(5832,1022)) is not in pool. Re-compute.\n",
      "Feature for (MD661,257,(5832,1087)) is not in pool. Re-compute.\n",
      "Feature for (MD661,257,(5832,1152)) is not in pool. Re-compute.\n",
      "Feature for (MD661,257,(5897,827)) is not in pool. Re-compute.\n",
      "Feature for (MD661,257,(5897,892)) is not in pool. Re-compute.\n",
      "Feature for (MD661,257,(5897,957)) is not in pool. Re-compute.\n",
      "Feature for (MD661,257,(5897,1022)) is not in pool. Re-compute.\n",
      "Feature for (MD661,257,(5897,1087)) is not in pool. Re-compute.\n",
      "Feature for (MD661,257,(5897,1152)) is not in pool. Re-compute.\n",
      "Feature for (MD661,257,(5962,827)) is not in pool. Re-compute.\n",
      "Feature for (MD661,257,(5962,892)) is not in pool. Re-compute.\n",
      "Feature for (MD661,257,(5962,957)) is not in pool. Re-compute.\n",
      "Feature for (MD661,257,(5962,1022)) is not in pool. Re-compute.\n",
      "Feature for (MD661,257,(5962,1087)) is not in pool. Re-compute.\n",
      "Feature for (MD661,257,(6027,827)) is not in pool. Re-compute.\n",
      "Feature for (MD661,257,(6027,892)) is not in pool. Re-compute.\n",
      "Feature for (MD661,257,(6027,957)) is not in pool. Re-compute.\n",
      "Feature for (MD661,257,(6027,1022)) is not in pool. Re-compute.\n",
      "Feature for (MD661,257,(6027,1087)) is not in pool. Re-compute.\n",
      "Feature for (MD661,257,(6092,762)) is not in pool. Re-compute.\n",
      "Feature for (MD661,257,(6092,827)) is not in pool. Re-compute.\n",
      "Feature for (MD661,257,(6092,892)) is not in pool. Re-compute.\n",
      "Feature for (MD661,257,(6092,957)) is not in pool. Re-compute.\n",
      "Feature for (MD661,257,(6092,1022)) is not in pool. Re-compute.\n",
      "Feature for (MD661,257,(6092,1087)) is not in pool. Re-compute.\n",
      "Feature for (MD661,257,(6157,762)) is not in pool. Re-compute.\n",
      "Feature for (MD661,257,(6157,827)) is not in pool. Re-compute.\n",
      "Feature for (MD661,257,(6157,892)) is not in pool. Re-compute.\n",
      "Feature for (MD661,257,(6157,957)) is not in pool. Re-compute.\n",
      "Feature for (MD661,257,(6157,1022)) is not in pool. Re-compute.\n",
      "Feature for (MD661,257,(6157,1087)) is not in pool. Re-compute.\n",
      "Feature for (MD661,257,(6222,762)) is not in pool. Re-compute.\n",
      "Feature for (MD661,257,(6222,827)) is not in pool. Re-compute.\n",
      "Feature for (MD661,257,(6222,892)) is not in pool. Re-compute.\n",
      "Feature for (MD661,257,(6222,957)) is not in pool. Re-compute.\n",
      "Feature for (MD661,257,(6222,1022)) is not in pool. Re-compute.\n",
      "Feature for (MD661,257,(6287,762)) is not in pool. Re-compute.\n",
      "Feature for (MD661,257,(6287,827)) is not in pool. Re-compute.\n",
      "Feature for (MD661,257,(6287,892)) is not in pool. Re-compute.\n",
      "Feature for (MD661,257,(6352,827)) is not in pool. Re-compute.\n",
      "Feature for (MD661,257,(6352,892)) is not in pool. Re-compute.\n",
      "Feature for (MD661,257,(6417,827)) is not in pool. Re-compute.\n",
      "Feature for (MD661,257,(6417,892)) is not in pool. Re-compute.\n",
      "Feature for (MD661,257,(6547,957)) is not in pool. Re-compute.\n",
      "Not using image_cache.\n",
      "Load image: 18.44 seconds.\n",
      "Extract patches: 18.60 seconds\n"
     ]
    },
    {
     "name": "stdout",
     "output_type": "stream",
     "text": [
      "(256, 1, 224, 224)\n"
     ]
    },
    {
     "name": "stderr",
     "output_type": "stream",
     "text": [
      "Compute features: 0.38 seconds\n"
     ]
    },
    {
     "name": "stdout",
     "output_type": "stream",
     "text": [
      "('MD661', 221)\n"
     ]
    },
    {
     "name": "stderr",
     "output_type": "stream",
     "text": [
      "Feature for (MD661,221,(6027,762)) is not in pool. Re-compute.\n",
      "Feature for (MD661,221,(6092,762)) is not in pool. Re-compute.\n",
      "Feature for (MD661,221,(6157,762)) is not in pool. Re-compute.\n",
      "Feature for (MD661,221,(6157,827)) is not in pool. Re-compute.\n",
      "Feature for (MD661,221,(6222,762)) is not in pool. Re-compute.\n",
      "Feature for (MD661,221,(6222,827)) is not in pool. Re-compute.\n",
      "Feature for (MD661,221,(6287,762)) is not in pool. Re-compute.\n",
      "Feature for (MD661,221,(6287,827)) is not in pool. Re-compute.\n",
      "Feature for (MD661,221,(6352,762)) is not in pool. Re-compute.\n",
      "Feature for (MD661,221,(6352,827)) is not in pool. Re-compute.\n",
      "Feature for (MD661,221,(6417,762)) is not in pool. Re-compute.\n",
      "Feature for (MD661,221,(6417,827)) is not in pool. Re-compute.\n",
      "Feature for (MD661,221,(6482,827)) is not in pool. Re-compute.\n",
      "Feature for (MD661,221,(7392,112)) is not in pool. Re-compute.\n",
      "Feature for (MD661,221,(7457,112)) is not in pool. Re-compute.\n",
      "Feature for (MD661,221,(7522,112)) is not in pool. Re-compute.\n",
      "Not using image_cache.\n",
      "Load image: 18.89 seconds.\n",
      "Extract patches: 19.00 seconds\n"
     ]
    },
    {
     "name": "stdout",
     "output_type": "stream",
     "text": [
      "(256, 1, 224, 224)\n"
     ]
    },
    {
     "name": "stderr",
     "output_type": "stream",
     "text": [
      "Compute features: 0.39 seconds\n"
     ]
    },
    {
     "name": "stdout",
     "output_type": "stream",
     "text": [
      "('MD662', 270)\n"
     ]
    },
    {
     "name": "stderr",
     "output_type": "stream",
     "text": [
      "Feature for (MD662,270,(4662,1932)) is not in pool. Re-compute.\n",
      "Feature for (MD662,270,(4662,1997)) is not in pool. Re-compute.\n",
      "Feature for (MD662,270,(4727,1932)) is not in pool. Re-compute.\n",
      "Feature for (MD662,270,(4727,1997)) is not in pool. Re-compute.\n",
      "Not using image_cache.\n",
      "Load image: 16.58 seconds.\n",
      "Extract patches: 16.66 seconds\n"
     ]
    },
    {
     "name": "stdout",
     "output_type": "stream",
     "text": [
      "(256, 1, 224, 224)\n"
     ]
    },
    {
     "name": "stderr",
     "output_type": "stream",
     "text": [
      "Compute features: 0.37 seconds\n"
     ]
    },
    {
     "name": "stdout",
     "output_type": "stream",
     "text": [
      "('MD662', 200)\n"
     ]
    },
    {
     "name": "stderr",
     "output_type": "stream",
     "text": [
      "Feature for (MD662,200,(4727,1802)) is not in pool. Re-compute.\n",
      "Feature for (MD662,200,(4727,1867)) is not in pool. Re-compute.\n",
      "Feature for (MD662,200,(4792,1802)) is not in pool. Re-compute.\n",
      "Feature for (MD662,200,(4792,1867)) is not in pool. Re-compute.\n",
      "Feature for (MD662,200,(4857,1802)) is not in pool. Re-compute.\n",
      "Feature for (MD662,200,(4857,1867)) is not in pool. Re-compute.\n",
      "Feature for (MD662,200,(4922,1802)) is not in pool. Re-compute.\n",
      "Feature for (MD662,200,(4922,1867)) is not in pool. Re-compute.\n",
      "Feature for (MD662,200,(4987,1737)) is not in pool. Re-compute.\n",
      "Feature for (MD662,200,(4987,1802)) is not in pool. Re-compute.\n",
      "Feature for (MD662,200,(4987,1867)) is not in pool. Re-compute.\n",
      "Feature for (MD662,200,(5052,1737)) is not in pool. Re-compute.\n",
      "Feature for (MD662,200,(5052,1802)) is not in pool. Re-compute.\n",
      "Feature for (MD662,200,(5052,1867)) is not in pool. Re-compute.\n",
      "Feature for (MD662,200,(5117,1672)) is not in pool. Re-compute.\n",
      "Feature for (MD662,200,(5117,1737)) is not in pool. Re-compute.\n",
      "Feature for (MD662,200,(5117,1802)) is not in pool. Re-compute.\n",
      "Feature for (MD662,200,(5117,1867)) is not in pool. Re-compute.\n",
      "Feature for (MD662,200,(5117,1932)) is not in pool. Re-compute.\n",
      "Feature for (MD662,200,(5182,1672)) is not in pool. Re-compute.\n",
      "Feature for (MD662,200,(5182,1737)) is not in pool. Re-compute.\n",
      "Feature for (MD662,200,(5182,1802)) is not in pool. Re-compute.\n",
      "Feature for (MD662,200,(5182,1867)) is not in pool. Re-compute.\n",
      "Feature for (MD662,200,(5182,1932)) is not in pool. Re-compute.\n",
      "Feature for (MD662,200,(5247,1672)) is not in pool. Re-compute.\n",
      "Feature for (MD662,200,(5247,1737)) is not in pool. Re-compute.\n",
      "Feature for (MD662,200,(5247,1802)) is not in pool. Re-compute.\n",
      "Feature for (MD662,200,(5247,1867)) is not in pool. Re-compute.\n",
      "Feature for (MD662,200,(5312,1607)) is not in pool. Re-compute.\n",
      "Feature for (MD662,200,(5312,1672)) is not in pool. Re-compute.\n",
      "Feature for (MD662,200,(5312,1737)) is not in pool. Re-compute.\n",
      "Feature for (MD662,200,(5377,1607)) is not in pool. Re-compute.\n",
      "Feature for (MD662,200,(5377,1672)) is not in pool. Re-compute.\n",
      "Feature for (MD662,200,(5442,1672)) is not in pool. Re-compute.\n",
      "Feature for (MD662,200,(5507,1672)) is not in pool. Re-compute.\n",
      "Not using image_cache.\n",
      "Load image: 15.76 seconds.\n",
      "Extract patches: 15.89 seconds\n"
     ]
    },
    {
     "name": "stdout",
     "output_type": "stream",
     "text": [
      "(256, 1, 224, 224)\n"
     ]
    },
    {
     "name": "stderr",
     "output_type": "stream",
     "text": [
      "Compute features: 0.38 seconds\n"
     ]
    },
    {
     "name": "stdout",
     "output_type": "stream",
     "text": [
      "('MD661', 299)\n",
      "('MD661', 199)\n"
     ]
    },
    {
     "name": "stderr",
     "output_type": "stream",
     "text": [
      "Feature for (MD661,199,(7067,567)) is not in pool. Re-compute.\n",
      "Feature for (MD661,199,(5767,957)) is not in pool. Re-compute.\n",
      "Feature for (MD661,199,(5832,892)) is not in pool. Re-compute.\n",
      "Feature for (MD661,199,(5897,892)) is not in pool. Re-compute.\n",
      "Feature for (MD661,199,(5962,827)) is not in pool. Re-compute.\n",
      "Feature for (MD661,199,(5962,892)) is not in pool. Re-compute.\n",
      "Feature for (MD661,199,(6027,827)) is not in pool. Re-compute.\n",
      "Feature for (MD661,199,(6027,892)) is not in pool. Re-compute.\n",
      "Feature for (MD661,199,(6092,827)) is not in pool. Re-compute.\n",
      "Feature for (MD661,199,(6092,892)) is not in pool. Re-compute.\n",
      "Feature for (MD661,199,(6157,827)) is not in pool. Re-compute.\n",
      "Feature for (MD661,199,(6157,892)) is not in pool. Re-compute.\n",
      "Feature for (MD661,199,(7782,112)) is not in pool. Re-compute.\n",
      "Feature for (MD661,199,(7847,112)) is not in pool. Re-compute.\n",
      "Feature for (MD661,199,(7912,112)) is not in pool. Re-compute.\n",
      "Feature for (MD661,199,(7977,112)) is not in pool. Re-compute.\n",
      "Feature for (MD661,199,(8042,112)) is not in pool. Re-compute.\n",
      "Feature for (MD661,199,(8107,112)) is not in pool. Re-compute.\n",
      "Feature for (MD661,199,(8172,112)) is not in pool. Re-compute.\n",
      "Not using image_cache.\n",
      "Load image: 16.30 seconds.\n",
      "Extract patches: 16.41 seconds\n"
     ]
    },
    {
     "name": "stdout",
     "output_type": "stream",
     "text": [
      "(256, 1, 224, 224)\n"
     ]
    },
    {
     "name": "stderr",
     "output_type": "stream",
     "text": [
      "Compute features: 0.39 seconds\n"
     ]
    },
    {
     "name": "stdout",
     "output_type": "stream",
     "text": [
      "('MD661', 178)\n"
     ]
    },
    {
     "name": "stderr",
     "output_type": "stream",
     "text": [
      "Feature for (MD661,178,(6937,502)) is not in pool. Re-compute.\n",
      "Feature for (MD661,178,(7002,502)) is not in pool. Re-compute.\n",
      "Feature for (MD661,178,(7067,502)) is not in pool. Re-compute.\n",
      "Feature for (MD661,178,(7132,437)) is not in pool. Re-compute.\n",
      "Feature for (MD661,178,(7132,502)) is not in pool. Re-compute.\n",
      "Feature for (MD661,178,(7197,437)) is not in pool. Re-compute.\n",
      "Feature for (MD661,178,(7197,502)) is not in pool. Re-compute.\n",
      "Feature for (MD661,178,(7262,437)) is not in pool. Re-compute.\n",
      "Feature for (MD661,178,(7262,502)) is not in pool. Re-compute.\n",
      "Feature for (MD661,178,(7327,437)) is not in pool. Re-compute.\n",
      "Feature for (MD661,178,(7327,502)) is not in pool. Re-compute.\n",
      "Feature for (MD661,178,(7392,502)) is not in pool. Re-compute.\n",
      "Feature for (MD661,178,(7457,502)) is not in pool. Re-compute.\n",
      "Not using image_cache.\n",
      "Load image: 16.04 seconds.\n",
      "Extract patches: 16.14 seconds\n"
     ]
    },
    {
     "name": "stdout",
     "output_type": "stream",
     "text": [
      "(256, 1, 224, 224)\n"
     ]
    },
    {
     "name": "stderr",
     "output_type": "stream",
     "text": [
      "Compute features: 0.38 seconds\n"
     ]
    },
    {
     "name": "stdout",
     "output_type": "stream",
     "text": [
      "('MD662', 216)\n"
     ]
    },
    {
     "name": "stderr",
     "output_type": "stream",
     "text": [
      "Feature for (MD662,216,(4857,1867)) is not in pool. Re-compute.\n",
      "Feature for (MD662,216,(4857,1932)) is not in pool. Re-compute.\n",
      "Feature for (MD662,216,(4922,1802)) is not in pool. Re-compute.\n",
      "Feature for (MD662,216,(4922,1867)) is not in pool. Re-compute.\n",
      "Feature for (MD662,216,(4922,1932)) is not in pool. Re-compute.\n",
      "Feature for (MD662,216,(4987,1802)) is not in pool. Re-compute.\n",
      "Feature for (MD662,216,(4987,1867)) is not in pool. Re-compute.\n",
      "Feature for (MD662,216,(4987,1932)) is not in pool. Re-compute.\n",
      "Feature for (MD662,216,(5052,1737)) is not in pool. Re-compute.\n",
      "Feature for (MD662,216,(5052,1802)) is not in pool. Re-compute.\n",
      "Feature for (MD662,216,(5052,1867)) is not in pool. Re-compute.\n",
      "Feature for (MD662,216,(5117,1737)) is not in pool. Re-compute.\n",
      "Feature for (MD662,216,(5117,1802)) is not in pool. Re-compute.\n",
      "Feature for (MD662,216,(5117,1867)) is not in pool. Re-compute.\n",
      "Feature for (MD662,216,(5182,1737)) is not in pool. Re-compute.\n",
      "Feature for (MD662,216,(5182,1802)) is not in pool. Re-compute.\n",
      "Feature for (MD662,216,(5182,1867)) is not in pool. Re-compute.\n",
      "Feature for (MD662,216,(5247,1737)) is not in pool. Re-compute.\n",
      "Feature for (MD662,216,(5247,1802)) is not in pool. Re-compute.\n",
      "Feature for (MD662,216,(5312,1737)) is not in pool. Re-compute.\n",
      "Feature for (MD662,216,(5312,1802)) is not in pool. Re-compute.\n",
      "Feature for (MD662,216,(5377,1737)) is not in pool. Re-compute.\n",
      "Feature for (MD662,216,(5377,1802)) is not in pool. Re-compute.\n",
      "Feature for (MD662,216,(5442,1672)) is not in pool. Re-compute.\n",
      "Feature for (MD662,216,(5442,1737)) is not in pool. Re-compute.\n",
      "Feature for (MD662,216,(5507,1672)) is not in pool. Re-compute.\n",
      "Feature for (MD662,216,(5507,1737)) is not in pool. Re-compute.\n",
      "Feature for (MD662,216,(5572,1737)) is not in pool. Re-compute.\n",
      "Not using image_cache.\n",
      "Load image: 16.73 seconds.\n",
      "Extract patches: 16.84 seconds\n"
     ]
    },
    {
     "name": "stdout",
     "output_type": "stream",
     "text": [
      "(256, 1, 224, 224)\n"
     ]
    },
    {
     "name": "stderr",
     "output_type": "stream",
     "text": [
      "Compute features: 0.40 seconds\n"
     ]
    },
    {
     "name": "stdout",
     "output_type": "stream",
     "text": [
      "('MD661', 244)\n"
     ]
    },
    {
     "name": "stderr",
     "output_type": "stream",
     "text": [
      "Feature for (MD661,244,(5832,957)) is not in pool. Re-compute.\n",
      "Feature for (MD661,244,(5832,1022)) is not in pool. Re-compute.\n",
      "Feature for (MD661,244,(5897,892)) is not in pool. Re-compute.\n",
      "Feature for (MD661,244,(5897,957)) is not in pool. Re-compute.\n",
      "Feature for (MD661,244,(5897,1022)) is not in pool. Re-compute.\n",
      "Feature for (MD661,244,(5962,892)) is not in pool. Re-compute.\n",
      "Feature for (MD661,244,(5962,957)) is not in pool. Re-compute.\n",
      "Feature for (MD661,244,(5962,1022)) is not in pool. Re-compute.\n",
      "Feature for (MD661,244,(6027,827)) is not in pool. Re-compute.\n",
      "Feature for (MD661,244,(6027,892)) is not in pool. Re-compute.\n",
      "Feature for (MD661,244,(6027,957)) is not in pool. Re-compute.\n",
      "Feature for (MD661,244,(6027,1022)) is not in pool. Re-compute.\n",
      "Feature for (MD661,244,(6092,827)) is not in pool. Re-compute.\n",
      "Feature for (MD661,244,(6092,892)) is not in pool. Re-compute.\n",
      "Feature for (MD661,244,(6092,957)) is not in pool. Re-compute.\n",
      "Feature for (MD661,244,(6092,1022)) is not in pool. Re-compute.\n",
      "Feature for (MD661,244,(6157,827)) is not in pool. Re-compute.\n",
      "Feature for (MD661,244,(6157,892)) is not in pool. Re-compute.\n",
      "Feature for (MD661,244,(6157,957)) is not in pool. Re-compute.\n",
      "Feature for (MD661,244,(6157,1022)) is not in pool. Re-compute.\n",
      "Feature for (MD661,244,(6222,827)) is not in pool. Re-compute.\n",
      "Feature for (MD661,244,(6222,892)) is not in pool. Re-compute.\n",
      "Feature for (MD661,244,(6222,957)) is not in pool. Re-compute.\n",
      "Feature for (MD661,244,(6222,1022)) is not in pool. Re-compute.\n",
      "Feature for (MD661,244,(6287,827)) is not in pool. Re-compute.\n",
      "Feature for (MD661,244,(6287,892)) is not in pool. Re-compute.\n",
      "Feature for (MD661,244,(6287,957)) is not in pool. Re-compute.\n",
      "Feature for (MD661,244,(6287,1022)) is not in pool. Re-compute.\n",
      "Feature for (MD661,244,(6352,827)) is not in pool. Re-compute.\n",
      "Feature for (MD661,244,(6352,892)) is not in pool. Re-compute.\n",
      "Feature for (MD661,244,(6352,957)) is not in pool. Re-compute.\n",
      "Feature for (MD661,244,(6352,1022)) is not in pool. Re-compute.\n",
      "Feature for (MD661,244,(6352,1087)) is not in pool. Re-compute.\n",
      "Feature for (MD661,244,(6417,827)) is not in pool. Re-compute.\n",
      "Feature for (MD661,244,(6417,892)) is not in pool. Re-compute.\n",
      "Feature for (MD661,244,(6417,957)) is not in pool. Re-compute.\n",
      "Feature for (MD661,244,(6417,1022)) is not in pool. Re-compute.\n",
      "Feature for (MD661,244,(6417,1087)) is not in pool. Re-compute.\n",
      "Feature for (MD661,244,(6482,892)) is not in pool. Re-compute.\n",
      "Feature for (MD661,244,(6482,957)) is not in pool. Re-compute.\n",
      "Feature for (MD661,244,(6482,1022)) is not in pool. Re-compute.\n",
      "Feature for (MD661,244,(6547,957)) is not in pool. Re-compute.\n",
      "Feature for (MD661,244,(6547,1022)) is not in pool. Re-compute.\n",
      "Feature for (MD661,244,(6612,957)) is not in pool. Re-compute.\n",
      "Feature for (MD661,244,(6612,1022)) is not in pool. Re-compute.\n",
      "Not using image_cache.\n",
      "Load image: 17.35 seconds.\n",
      "Extract patches: 17.48 seconds\n"
     ]
    },
    {
     "name": "stdout",
     "output_type": "stream",
     "text": [
      "(256, 1, 224, 224)\n"
     ]
    },
    {
     "name": "stderr",
     "output_type": "stream",
     "text": [
      "Compute features: 0.40 seconds\n"
     ]
    },
    {
     "name": "stdout",
     "output_type": "stream",
     "text": [
      "('MD661', 282)\n"
     ]
    },
    {
     "name": "stderr",
     "output_type": "stream",
     "text": [
      "Feature for (MD661,282,(5702,1347)) is not in pool. Re-compute.\n",
      "Feature for (MD661,282,(5767,1347)) is not in pool. Re-compute.\n",
      "Feature for (MD661,282,(5767,1412)) is not in pool. Re-compute.\n",
      "Feature for (MD661,282,(5832,1347)) is not in pool. Re-compute.\n",
      "Feature for (MD661,282,(5832,1412)) is not in pool. Re-compute.\n",
      "Feature for (MD661,282,(5832,1477)) is not in pool. Re-compute.\n",
      "Feature for (MD661,282,(5897,1347)) is not in pool. Re-compute.\n",
      "Feature for (MD661,282,(5897,1412)) is not in pool. Re-compute.\n",
      "Feature for (MD661,282,(5897,1477)) is not in pool. Re-compute.\n",
      "Feature for (MD661,282,(5962,1282)) is not in pool. Re-compute.\n",
      "Feature for (MD661,282,(5962,1347)) is not in pool. Re-compute.\n",
      "Feature for (MD661,282,(5962,1412)) is not in pool. Re-compute.\n",
      "Feature for (MD661,282,(6027,1282)) is not in pool. Re-compute.\n",
      "Feature for (MD661,282,(6027,1347)) is not in pool. Re-compute.\n",
      "Not using image_cache.\n",
      "Load image: 18.65 seconds.\n",
      "Extract patches: 18.77 seconds\n"
     ]
    },
    {
     "name": "stdout",
     "output_type": "stream",
     "text": [
      "(256, 1, 224, 224)\n"
     ]
    },
    {
     "name": "stderr",
     "output_type": "stream",
     "text": [
      "Compute features: 0.39 seconds\n"
     ]
    },
    {
     "name": "stdout",
     "output_type": "stream",
     "text": [
      "('MD661', 225)\n"
     ]
    },
    {
     "name": "stderr",
     "output_type": "stream",
     "text": [
      "Feature for (MD661,225,(5962,827)) is not in pool. Re-compute.\n",
      "Feature for (MD661,225,(6157,827)) is not in pool. Re-compute.\n",
      "Feature for (MD661,225,(6222,762)) is not in pool. Re-compute.\n",
      "Feature for (MD661,225,(6222,827)) is not in pool. Re-compute.\n",
      "Feature for (MD661,225,(6287,762)) is not in pool. Re-compute.\n",
      "Feature for (MD661,225,(6287,827)) is not in pool. Re-compute.\n",
      "Feature for (MD661,225,(6352,827)) is not in pool. Re-compute.\n",
      "Feature for (MD661,225,(6352,892)) is not in pool. Re-compute.\n",
      "Feature for (MD661,225,(6417,827)) is not in pool. Re-compute.\n",
      "Feature for (MD661,225,(6417,892)) is not in pool. Re-compute.\n",
      "Feature for (MD661,225,(6482,827)) is not in pool. Re-compute.\n",
      "Not using image_cache.\n",
      "Load image: 17.82 seconds.\n",
      "Extract patches: 17.92 seconds\n"
     ]
    },
    {
     "name": "stdout",
     "output_type": "stream",
     "text": [
      "(256, 1, 224, 224)\n"
     ]
    },
    {
     "name": "stderr",
     "output_type": "stream",
     "text": [
      "Compute features: 0.38 seconds\n"
     ]
    },
    {
     "name": "stdout",
     "output_type": "stream",
     "text": [
      "('MD662', 273)\n",
      "('MD661', 279)\n"
     ]
    },
    {
     "name": "stderr",
     "output_type": "stream",
     "text": [
      "Feature for (MD661,279,(5637,1347)) is not in pool. Re-compute.\n",
      "Feature for (MD661,279,(5702,1282)) is not in pool. Re-compute.\n",
      "Feature for (MD661,279,(5702,1347)) is not in pool. Re-compute.\n",
      "Feature for (MD661,279,(5767,1282)) is not in pool. Re-compute.\n",
      "Feature for (MD661,279,(5767,1347)) is not in pool. Re-compute.\n",
      "Feature for (MD661,279,(5767,1412)) is not in pool. Re-compute.\n",
      "Feature for (MD661,279,(5832,1282)) is not in pool. Re-compute.\n",
      "Feature for (MD661,279,(5832,1347)) is not in pool. Re-compute.\n",
      "Feature for (MD661,279,(5832,1412)) is not in pool. Re-compute.\n",
      "Feature for (MD661,279,(5832,1477)) is not in pool. Re-compute.\n",
      "Feature for (MD661,279,(5897,1217)) is not in pool. Re-compute.\n",
      "Feature for (MD661,279,(5897,1282)) is not in pool. Re-compute.\n",
      "Feature for (MD661,279,(5897,1347)) is not in pool. Re-compute.\n",
      "Feature for (MD661,279,(5897,1412)) is not in pool. Re-compute.\n",
      "Feature for (MD661,279,(5897,1477)) is not in pool. Re-compute.\n",
      "Feature for (MD661,279,(5962,1217)) is not in pool. Re-compute.\n",
      "Feature for (MD661,279,(5962,1282)) is not in pool. Re-compute.\n",
      "Feature for (MD661,279,(5962,1347)) is not in pool. Re-compute.\n",
      "Feature for (MD661,279,(5962,1412)) is not in pool. Re-compute.\n",
      "Feature for (MD661,279,(6027,1217)) is not in pool. Re-compute.\n",
      "Feature for (MD661,279,(6027,1282)) is not in pool. Re-compute.\n",
      "Feature for (MD661,279,(6027,1347)) is not in pool. Re-compute.\n",
      "Feature for (MD661,279,(6092,1217)) is not in pool. Re-compute.\n",
      "Feature for (MD661,279,(6092,1282)) is not in pool. Re-compute.\n",
      "Not using image_cache.\n",
      "Load image: 17.87 seconds.\n",
      "Extract patches: 17.99 seconds\n"
     ]
    },
    {
     "name": "stdout",
     "output_type": "stream",
     "text": [
      "(256, 1, 224, 224)\n"
     ]
    },
    {
     "name": "stderr",
     "output_type": "stream",
     "text": [
      "Compute features: 0.41 seconds\n"
     ]
    },
    {
     "name": "stdout",
     "output_type": "stream",
     "text": [
      "('MD661', 158)\n"
     ]
    },
    {
     "name": "stderr",
     "output_type": "stream",
     "text": [
      "Feature for (MD661,158,(7132,957)) is not in pool. Re-compute.\n",
      "Not using image_cache.\n",
      "Load image: 16.35 seconds.\n",
      "Extract patches: 16.44 seconds\n"
     ]
    },
    {
     "name": "stdout",
     "output_type": "stream",
     "text": [
      "(256, 1, 224, 224)\n"
     ]
    },
    {
     "name": "stderr",
     "output_type": "stream",
     "text": [
      "Compute features: 0.38 seconds\n"
     ]
    },
    {
     "name": "stdout",
     "output_type": "stream",
     "text": [
      "('MD661', 208)\n"
     ]
    },
    {
     "name": "stderr",
     "output_type": "stream",
     "text": [
      "Feature for (MD661,208,(5702,827)) is not in pool. Re-compute.\n",
      "Feature for (MD661,208,(5702,892)) is not in pool. Re-compute.\n",
      "Feature for (MD661,208,(5767,827)) is not in pool. Re-compute.\n",
      "Feature for (MD661,208,(5767,892)) is not in pool. Re-compute.\n",
      "Feature for (MD661,208,(5832,762)) is not in pool. Re-compute.\n",
      "Feature for (MD661,208,(5832,827)) is not in pool. Re-compute.\n",
      "Feature for (MD661,208,(5832,892)) is not in pool. Re-compute.\n",
      "Feature for (MD661,208,(5897,762)) is not in pool. Re-compute.\n",
      "Feature for (MD661,208,(5897,827)) is not in pool. Re-compute.\n",
      "Feature for (MD661,208,(5897,892)) is not in pool. Re-compute.\n",
      "Feature for (MD661,208,(5962,697)) is not in pool. Re-compute.\n",
      "Feature for (MD661,208,(5962,762)) is not in pool. Re-compute.\n",
      "Feature for (MD661,208,(5962,827)) is not in pool. Re-compute.\n",
      "Feature for (MD661,208,(5962,892)) is not in pool. Re-compute.\n",
      "Feature for (MD661,208,(6027,697)) is not in pool. Re-compute.\n",
      "Feature for (MD661,208,(6027,762)) is not in pool. Re-compute.\n",
      "Feature for (MD661,208,(6027,827)) is not in pool. Re-compute.\n",
      "Feature for (MD661,208,(6027,892)) is not in pool. Re-compute.\n",
      "Feature for (MD661,208,(6092,697)) is not in pool. Re-compute.\n",
      "Feature for (MD661,208,(6092,762)) is not in pool. Re-compute.\n",
      "Feature for (MD661,208,(6092,827)) is not in pool. Re-compute.\n",
      "Feature for (MD661,208,(6092,892)) is not in pool. Re-compute.\n",
      "Feature for (MD661,208,(6157,697)) is not in pool. Re-compute.\n",
      "Feature for (MD661,208,(6157,762)) is not in pool. Re-compute.\n",
      "Feature for (MD661,208,(6157,827)) is not in pool. Re-compute.\n",
      "Feature for (MD661,208,(6157,892)) is not in pool. Re-compute.\n",
      "Feature for (MD661,208,(6222,697)) is not in pool. Re-compute.\n",
      "Feature for (MD661,208,(6222,762)) is not in pool. Re-compute.\n",
      "Feature for (MD661,208,(6222,827)) is not in pool. Re-compute.\n",
      "Feature for (MD661,208,(6287,697)) is not in pool. Re-compute.\n",
      "Feature for (MD661,208,(6287,762)) is not in pool. Re-compute.\n",
      "Feature for (MD661,208,(7587,112)) is not in pool. Re-compute.\n",
      "Feature for (MD661,208,(7652,112)) is not in pool. Re-compute.\n",
      "Feature for (MD661,208,(7717,112)) is not in pool. Re-compute.\n",
      "Feature for (MD661,208,(7782,112)) is not in pool. Re-compute.\n",
      "Feature for (MD661,208,(7847,112)) is not in pool. Re-compute.\n",
      "Feature for (MD661,208,(7912,112)) is not in pool. Re-compute.\n",
      "Feature for (MD661,208,(7977,112)) is not in pool. Re-compute.\n",
      "Not using image_cache.\n",
      "Load image: 17.76 seconds.\n",
      "Extract patches: 17.90 seconds\n"
     ]
    },
    {
     "name": "stdout",
     "output_type": "stream",
     "text": [
      "(256, 1, 224, 224)\n"
     ]
    },
    {
     "name": "stderr",
     "output_type": "stream",
     "text": [
      "Compute features: 0.38 seconds\n"
     ]
    },
    {
     "name": "stdout",
     "output_type": "stream",
     "text": [
      "('MD661', 305)\n",
      "('MD662', 209)\n"
     ]
    },
    {
     "name": "stderr",
     "output_type": "stream",
     "text": [
      "Feature for (MD662,209,(4792,1802)) is not in pool. Re-compute.\n",
      "Feature for (MD662,209,(4792,1867)) is not in pool. Re-compute.\n",
      "Feature for (MD662,209,(4857,1737)) is not in pool. Re-compute.\n",
      "Feature for (MD662,209,(4857,1802)) is not in pool. Re-compute.\n",
      "Feature for (MD662,209,(4857,1867)) is not in pool. Re-compute.\n",
      "Feature for (MD662,209,(4922,1737)) is not in pool. Re-compute.\n",
      "Feature for (MD662,209,(4922,1802)) is not in pool. Re-compute.\n",
      "Feature for (MD662,209,(4922,1867)) is not in pool. Re-compute.\n",
      "Feature for (MD662,209,(4987,1737)) is not in pool. Re-compute.\n",
      "Feature for (MD662,209,(4987,1802)) is not in pool. Re-compute.\n",
      "Feature for (MD662,209,(4987,1867)) is not in pool. Re-compute.\n",
      "Feature for (MD662,209,(5052,1737)) is not in pool. Re-compute.\n",
      "Feature for (MD662,209,(5052,1802)) is not in pool. Re-compute.\n",
      "Feature for (MD662,209,(5052,1867)) is not in pool. Re-compute.\n",
      "Feature for (MD662,209,(5117,1737)) is not in pool. Re-compute.\n",
      "Feature for (MD662,209,(5117,1802)) is not in pool. Re-compute.\n",
      "Feature for (MD662,209,(5117,1867)) is not in pool. Re-compute.\n",
      "Feature for (MD662,209,(5182,1672)) is not in pool. Re-compute.\n",
      "Feature for (MD662,209,(5182,1737)) is not in pool. Re-compute.\n",
      "Feature for (MD662,209,(5182,1802)) is not in pool. Re-compute.\n",
      "Feature for (MD662,209,(5182,1867)) is not in pool. Re-compute.\n",
      "Feature for (MD662,209,(5182,1932)) is not in pool. Re-compute.\n",
      "Feature for (MD662,209,(5247,1672)) is not in pool. Re-compute.\n",
      "Feature for (MD662,209,(5247,1737)) is not in pool. Re-compute.\n",
      "Feature for (MD662,209,(5247,1802)) is not in pool. Re-compute.\n",
      "Feature for (MD662,209,(5247,1867)) is not in pool. Re-compute.\n",
      "Feature for (MD662,209,(5247,1932)) is not in pool. Re-compute.\n",
      "Feature for (MD662,209,(5312,1672)) is not in pool. Re-compute.\n",
      "Feature for (MD662,209,(5312,1737)) is not in pool. Re-compute.\n",
      "Feature for (MD662,209,(5312,1802)) is not in pool. Re-compute.\n",
      "Feature for (MD662,209,(5377,1672)) is not in pool. Re-compute.\n",
      "Feature for (MD662,209,(5377,1737)) is not in pool. Re-compute.\n",
      "Feature for (MD662,209,(5442,1607)) is not in pool. Re-compute.\n",
      "Feature for (MD662,209,(5442,1672)) is not in pool. Re-compute.\n",
      "Feature for (MD662,209,(5442,1737)) is not in pool. Re-compute.\n",
      "Feature for (MD662,209,(5507,1672)) is not in pool. Re-compute.\n",
      "Not using image_cache.\n",
      "Load image: 16.91 seconds.\n",
      "Extract patches: 17.04 seconds\n"
     ]
    },
    {
     "name": "stdout",
     "output_type": "stream",
     "text": [
      "(256, 1, 224, 224)\n"
     ]
    },
    {
     "name": "stderr",
     "output_type": "stream",
     "text": [
      "Compute features: 0.39 seconds\n"
     ]
    },
    {
     "name": "stdout",
     "output_type": "stream",
     "text": [
      "('MD662', 282)\n",
      "('MD661', 250)\n"
     ]
    },
    {
     "name": "stderr",
     "output_type": "stream",
     "text": [
      "Feature for (MD661,250,(5702,1022)) is not in pool. Re-compute.\n",
      "Feature for (MD661,250,(5767,892)) is not in pool. Re-compute.\n",
      "Feature for (MD661,250,(5767,957)) is not in pool. Re-compute.\n",
      "Feature for (MD661,250,(5767,1022)) is not in pool. Re-compute.\n",
      "Feature for (MD661,250,(5832,892)) is not in pool. Re-compute.\n",
      "Feature for (MD661,250,(5832,957)) is not in pool. Re-compute.\n",
      "Feature for (MD661,250,(5832,1022)) is not in pool. Re-compute.\n",
      "Feature for (MD661,250,(5897,892)) is not in pool. Re-compute.\n",
      "Feature for (MD661,250,(5897,957)) is not in pool. Re-compute.\n",
      "Feature for (MD661,250,(5897,1022)) is not in pool. Re-compute.\n",
      "Feature for (MD661,250,(5962,827)) is not in pool. Re-compute.\n",
      "Feature for (MD661,250,(5962,892)) is not in pool. Re-compute.\n",
      "Feature for (MD661,250,(5962,957)) is not in pool. Re-compute.\n",
      "Feature for (MD661,250,(5962,1022)) is not in pool. Re-compute.\n",
      "Feature for (MD661,250,(6027,827)) is not in pool. Re-compute.\n",
      "Feature for (MD661,250,(6027,892)) is not in pool. Re-compute.\n",
      "Feature for (MD661,250,(6027,957)) is not in pool. Re-compute.\n",
      "Feature for (MD661,250,(6027,1022)) is not in pool. Re-compute.\n",
      "Feature for (MD661,250,(6092,762)) is not in pool. Re-compute.\n",
      "Feature for (MD661,250,(6092,827)) is not in pool. Re-compute.\n",
      "Feature for (MD661,250,(6092,892)) is not in pool. Re-compute.\n",
      "Feature for (MD661,250,(6092,957)) is not in pool. Re-compute.\n",
      "Feature for (MD661,250,(6092,1022)) is not in pool. Re-compute.\n",
      "Feature for (MD661,250,(6157,762)) is not in pool. Re-compute.\n",
      "Feature for (MD661,250,(6157,827)) is not in pool. Re-compute.\n",
      "Feature for (MD661,250,(6157,892)) is not in pool. Re-compute.\n",
      "Feature for (MD661,250,(6157,957)) is not in pool. Re-compute.\n",
      "Feature for (MD661,250,(6157,1022)) is not in pool. Re-compute.\n",
      "Feature for (MD661,250,(6222,762)) is not in pool. Re-compute.\n",
      "Feature for (MD661,250,(6222,827)) is not in pool. Re-compute.\n",
      "Feature for (MD661,250,(6222,892)) is not in pool. Re-compute.\n",
      "Feature for (MD661,250,(6222,957)) is not in pool. Re-compute.\n",
      "Feature for (MD661,250,(6222,1022)) is not in pool. Re-compute.\n",
      "Feature for (MD661,250,(6287,762)) is not in pool. Re-compute.\n",
      "Feature for (MD661,250,(6287,827)) is not in pool. Re-compute.\n",
      "Feature for (MD661,250,(6287,892)) is not in pool. Re-compute.\n",
      "Feature for (MD661,250,(6287,957)) is not in pool. Re-compute.\n",
      "Feature for (MD661,250,(6287,1022)) is not in pool. Re-compute.\n",
      "Feature for (MD661,250,(6352,827)) is not in pool. Re-compute.\n",
      "Feature for (MD661,250,(6352,892)) is not in pool. Re-compute.\n",
      "Feature for (MD661,250,(6352,957)) is not in pool. Re-compute.\n",
      "Feature for (MD661,250,(6417,827)) is not in pool. Re-compute.\n",
      "Feature for (MD661,250,(6417,892)) is not in pool. Re-compute.\n",
      "Feature for (MD661,250,(6417,957)) is not in pool. Re-compute.\n",
      "Feature for (MD661,250,(6482,892)) is not in pool. Re-compute.\n",
      "Feature for (MD661,250,(6482,957)) is not in pool. Re-compute.\n",
      "Feature for (MD661,250,(6547,892)) is not in pool. Re-compute.\n",
      "Feature for (MD661,250,(6547,957)) is not in pool. Re-compute.\n",
      "Not using image_cache.\n",
      "Load image: 18.27 seconds.\n",
      "Extract patches: 18.42 seconds\n"
     ]
    },
    {
     "name": "stdout",
     "output_type": "stream",
     "text": [
      "(256, 1, 224, 224)\n"
     ]
    },
    {
     "name": "stderr",
     "output_type": "stream",
     "text": [
      "Compute features: 0.38 seconds\n"
     ]
    },
    {
     "name": "stdout",
     "output_type": "stream",
     "text": [
      "('MD662', 248)\n"
     ]
    },
    {
     "name": "stderr",
     "output_type": "stream",
     "text": [
      "Feature for (MD662,248,(4532,1672)) is not in pool. Re-compute.\n",
      "Feature for (MD662,248,(4532,1737)) is not in pool. Re-compute.\n",
      "Feature for (MD662,248,(4532,1802)) is not in pool. Re-compute.\n",
      "Feature for (MD662,248,(4532,1867)) is not in pool. Re-compute.\n",
      "Feature for (MD662,248,(4597,1672)) is not in pool. Re-compute.\n",
      "Feature for (MD662,248,(4597,1737)) is not in pool. Re-compute.\n",
      "Feature for (MD662,248,(4597,1802)) is not in pool. Re-compute.\n",
      "Feature for (MD662,248,(4662,1672)) is not in pool. Re-compute.\n",
      "Feature for (MD662,248,(4662,1737)) is not in pool. Re-compute.\n",
      "Feature for (MD662,248,(4727,1672)) is not in pool. Re-compute.\n",
      "Feature for (MD662,248,(4727,1737)) is not in pool. Re-compute.\n",
      "Feature for (MD662,248,(4792,1672)) is not in pool. Re-compute.\n",
      "Feature for (MD662,248,(4792,1737)) is not in pool. Re-compute.\n",
      "Feature for (MD662,248,(4857,1607)) is not in pool. Re-compute.\n",
      "Feature for (MD662,248,(4857,1672)) is not in pool. Re-compute.\n",
      "Feature for (MD662,248,(4857,1737)) is not in pool. Re-compute.\n",
      "Feature for (MD662,248,(4857,1802)) is not in pool. Re-compute.\n",
      "Feature for (MD662,248,(4922,1607)) is not in pool. Re-compute.\n",
      "Feature for (MD662,248,(4922,1672)) is not in pool. Re-compute.\n",
      "Feature for (MD662,248,(4922,1737)) is not in pool. Re-compute.\n",
      "Feature for (MD662,248,(4922,1802)) is not in pool. Re-compute.\n",
      "Feature for (MD662,248,(4987,1542)) is not in pool. Re-compute.\n",
      "Feature for (MD662,248,(4987,1607)) is not in pool. Re-compute.\n",
      "Feature for (MD662,248,(4987,1672)) is not in pool. Re-compute.\n",
      "Feature for (MD662,248,(5052,1542)) is not in pool. Re-compute.\n",
      "Not using image_cache.\n",
      "Load image: 16.24 seconds.\n",
      "Extract patches: 16.36 seconds\n"
     ]
    },
    {
     "name": "stdout",
     "output_type": "stream",
     "text": [
      "(256, 1, 224, 224)\n"
     ]
    },
    {
     "name": "stderr",
     "output_type": "stream",
     "text": [
      "Compute features: 0.38 seconds\n"
     ]
    },
    {
     "name": "stdout",
     "output_type": "stream",
     "text": [
      "('MD662', 301)\n",
      "('MD661', 247)\n"
     ]
    },
    {
     "name": "stderr",
     "output_type": "stream",
     "text": [
      "Feature for (MD661,247,(5767,957)) is not in pool. Re-compute.\n",
      "Feature for (MD661,247,(5767,1022)) is not in pool. Re-compute.\n",
      "Feature for (MD661,247,(5832,892)) is not in pool. Re-compute.\n",
      "Feature for (MD661,247,(5832,957)) is not in pool. Re-compute.\n",
      "Feature for (MD661,247,(5832,1022)) is not in pool. Re-compute.\n",
      "Feature for (MD661,247,(5897,892)) is not in pool. Re-compute.\n",
      "Feature for (MD661,247,(5897,957)) is not in pool. Re-compute.\n",
      "Feature for (MD661,247,(5897,1022)) is not in pool. Re-compute.\n",
      "Feature for (MD661,247,(5962,892)) is not in pool. Re-compute.\n",
      "Feature for (MD661,247,(5962,957)) is not in pool. Re-compute.\n",
      "Feature for (MD661,247,(5962,1022)) is not in pool. Re-compute.\n",
      "Feature for (MD661,247,(6027,827)) is not in pool. Re-compute.\n",
      "Feature for (MD661,247,(6027,892)) is not in pool. Re-compute.\n",
      "Feature for (MD661,247,(6027,957)) is not in pool. Re-compute.\n",
      "Feature for (MD661,247,(6027,1022)) is not in pool. Re-compute.\n",
      "Feature for (MD661,247,(6092,827)) is not in pool. Re-compute.\n",
      "Feature for (MD661,247,(6092,892)) is not in pool. Re-compute.\n",
      "Feature for (MD661,247,(6092,957)) is not in pool. Re-compute.\n",
      "Feature for (MD661,247,(6092,1022)) is not in pool. Re-compute.\n",
      "Feature for (MD661,247,(6157,762)) is not in pool. Re-compute.\n",
      "Feature for (MD661,247,(6157,827)) is not in pool. Re-compute.\n",
      "Feature for (MD661,247,(6157,892)) is not in pool. Re-compute.\n",
      "Feature for (MD661,247,(6157,957)) is not in pool. Re-compute.\n",
      "Feature for (MD661,247,(6157,1022)) is not in pool. Re-compute.\n",
      "Feature for (MD661,247,(6222,762)) is not in pool. Re-compute.\n",
      "Feature for (MD661,247,(6222,827)) is not in pool. Re-compute.\n",
      "Feature for (MD661,247,(6222,892)) is not in pool. Re-compute.\n",
      "Feature for (MD661,247,(6222,957)) is not in pool. Re-compute.\n",
      "Feature for (MD661,247,(6222,1022)) is not in pool. Re-compute.\n",
      "Feature for (MD661,247,(6287,762)) is not in pool. Re-compute.\n",
      "Feature for (MD661,247,(6287,827)) is not in pool. Re-compute.\n",
      "Feature for (MD661,247,(6287,892)) is not in pool. Re-compute.\n",
      "Feature for (MD661,247,(6287,957)) is not in pool. Re-compute.\n",
      "Feature for (MD661,247,(6287,1022)) is not in pool. Re-compute.\n",
      "Feature for (MD661,247,(6352,827)) is not in pool. Re-compute.\n",
      "Feature for (MD661,247,(6352,892)) is not in pool. Re-compute.\n",
      "Feature for (MD661,247,(6352,957)) is not in pool. Re-compute.\n",
      "Feature for (MD661,247,(6352,1022)) is not in pool. Re-compute.\n",
      "Feature for (MD661,247,(6417,827)) is not in pool. Re-compute.\n",
      "Feature for (MD661,247,(6417,892)) is not in pool. Re-compute.\n",
      "Feature for (MD661,247,(6417,957)) is not in pool. Re-compute.\n",
      "Feature for (MD661,247,(6417,1022)) is not in pool. Re-compute.\n",
      "Feature for (MD661,247,(6482,892)) is not in pool. Re-compute.\n",
      "Feature for (MD661,247,(6482,957)) is not in pool. Re-compute.\n",
      "Feature for (MD661,247,(6482,1022)) is not in pool. Re-compute.\n",
      "Feature for (MD661,247,(6547,892)) is not in pool. Re-compute.\n",
      "Feature for (MD661,247,(6547,957)) is not in pool. Re-compute.\n",
      "Feature for (MD661,247,(6547,1022)) is not in pool. Re-compute.\n",
      "Feature for (MD661,247,(6612,957)) is not in pool. Re-compute.\n",
      "Not using image_cache.\n",
      "Load image: 18.66 seconds.\n",
      "Extract patches: 18.80 seconds\n"
     ]
    },
    {
     "name": "stdout",
     "output_type": "stream",
     "text": [
      "(256, 1, 224, 224)\n"
     ]
    },
    {
     "name": "stderr",
     "output_type": "stream",
     "text": [
      "Compute features: 0.40 seconds\n"
     ]
    },
    {
     "name": "stdout",
     "output_type": "stream",
     "text": [
      "('MD661', 162)\n",
      "('MD662', 153)\n",
      "('MD662', 155)\n",
      "('MD662', 169)\n"
     ]
    },
    {
     "name": "stderr",
     "output_type": "stream",
     "text": [
      "Feature for (MD662,169,(6092,1542)) is not in pool. Re-compute.\n",
      "Feature for (MD662,169,(6157,1542)) is not in pool. Re-compute.\n",
      "Feature for (MD662,169,(6222,1542)) is not in pool. Re-compute.\n",
      "Feature for (MD662,169,(6287,1542)) is not in pool. Re-compute.\n",
      "Feature for (MD662,169,(6352,1542)) is not in pool. Re-compute.\n",
      "Feature for (MD662,169,(6417,1542)) is not in pool. Re-compute.\n",
      "Not using image_cache.\n",
      "Load image: 14.08 seconds.\n",
      "Extract patches: 14.17 seconds\n"
     ]
    },
    {
     "name": "stdout",
     "output_type": "stream",
     "text": [
      "(256, 1, 224, 224)\n"
     ]
    },
    {
     "name": "stderr",
     "output_type": "stream",
     "text": [
      "Compute features: 0.38 seconds\n"
     ]
    },
    {
     "name": "stdout",
     "output_type": "stream",
     "text": [
      "('MD662', 274)\n",
      "('MD662', 229)\n"
     ]
    },
    {
     "name": "stderr",
     "output_type": "stream",
     "text": [
      "Feature for (MD662,229,(4857,1737)) is not in pool. Re-compute.\n",
      "Feature for (MD662,229,(4922,1737)) is not in pool. Re-compute.\n",
      "Feature for (MD662,229,(4987,1737)) is not in pool. Re-compute.\n",
      "Feature for (MD662,229,(5052,1737)) is not in pool. Re-compute.\n",
      "Feature for (MD662,229,(5182,1737)) is not in pool. Re-compute.\n",
      "Feature for (MD662,229,(5247,1737)) is not in pool. Re-compute.\n",
      "Feature for (MD662,229,(5312,1737)) is not in pool. Re-compute.\n",
      "Feature for (MD662,229,(5377,1737)) is not in pool. Re-compute.\n",
      "Not using image_cache.\n",
      "Load image: 17.02 seconds.\n",
      "Extract patches: 17.11 seconds\n"
     ]
    },
    {
     "name": "stdout",
     "output_type": "stream",
     "text": [
      "(256, 1, 224, 224)\n"
     ]
    },
    {
     "name": "stderr",
     "output_type": "stream",
     "text": [
      "Compute features: 0.38 seconds\n"
     ]
    },
    {
     "name": "stdout",
     "output_type": "stream",
     "text": [
      "('MD662', 257)\n"
     ]
    },
    {
     "name": "stderr",
     "output_type": "stream",
     "text": [
      "Feature for (MD662,257,(4402,1802)) is not in pool. Re-compute.\n",
      "Feature for (MD662,257,(4402,1867)) is not in pool. Re-compute.\n",
      "Feature for (MD662,257,(4402,1932)) is not in pool. Re-compute.\n",
      "Feature for (MD662,257,(4467,1802)) is not in pool. Re-compute.\n",
      "Feature for (MD662,257,(4467,1867)) is not in pool. Re-compute.\n",
      "Feature for (MD662,257,(4467,1932)) is not in pool. Re-compute.\n",
      "Feature for (MD662,257,(4532,1802)) is not in pool. Re-compute.\n",
      "Feature for (MD662,257,(4532,1867)) is not in pool. Re-compute.\n",
      "Feature for (MD662,257,(4532,1932)) is not in pool. Re-compute.\n",
      "Feature for (MD662,257,(4597,1802)) is not in pool. Re-compute.\n",
      "Feature for (MD662,257,(4597,1867)) is not in pool. Re-compute.\n",
      "Feature for (MD662,257,(4597,1932)) is not in pool. Re-compute.\n",
      "Feature for (MD662,257,(4662,1802)) is not in pool. Re-compute.\n",
      "Feature for (MD662,257,(4662,1867)) is not in pool. Re-compute.\n",
      "Feature for (MD662,257,(4662,1932)) is not in pool. Re-compute.\n",
      "Feature for (MD662,257,(4727,1737)) is not in pool. Re-compute.\n",
      "Feature for (MD662,257,(4727,1802)) is not in pool. Re-compute.\n",
      "Feature for (MD662,257,(4727,1867)) is not in pool. Re-compute.\n",
      "Feature for (MD662,257,(4727,1932)) is not in pool. Re-compute.\n",
      "Feature for (MD662,257,(4792,1737)) is not in pool. Re-compute.\n",
      "Feature for (MD662,257,(4792,1802)) is not in pool. Re-compute.\n",
      "Feature for (MD662,257,(4792,1867)) is not in pool. Re-compute.\n",
      "Feature for (MD662,257,(4857,1672)) is not in pool. Re-compute.\n",
      "Feature for (MD662,257,(4857,1737)) is not in pool. Re-compute.\n",
      "Feature for (MD662,257,(4922,1672)) is not in pool. Re-compute.\n",
      "Not using image_cache.\n",
      "Load image: 16.55 seconds.\n",
      "Extract patches: 16.65 seconds\n"
     ]
    },
    {
     "name": "stdout",
     "output_type": "stream",
     "text": [
      "(256, 1, 224, 224)\n"
     ]
    },
    {
     "name": "stderr",
     "output_type": "stream",
     "text": [
      "Compute features: 0.40 seconds\n"
     ]
    },
    {
     "name": "stdout",
     "output_type": "stream",
     "text": [
      "('MD662', 195)\n"
     ]
    },
    {
     "name": "stderr",
     "output_type": "stream",
     "text": [
      "Feature for (MD662,195,(4727,1802)) is not in pool. Re-compute.\n",
      "Feature for (MD662,195,(4792,1802)) is not in pool. Re-compute.\n",
      "Feature for (MD662,195,(4857,1802)) is not in pool. Re-compute.\n",
      "Feature for (MD662,195,(4922,1802)) is not in pool. Re-compute.\n",
      "Feature for (MD662,195,(4987,1802)) is not in pool. Re-compute.\n",
      "Feature for (MD662,195,(4987,1867)) is not in pool. Re-compute.\n",
      "Feature for (MD662,195,(5052,1737)) is not in pool. Re-compute.\n",
      "Feature for (MD662,195,(5052,1802)) is not in pool. Re-compute.\n",
      "Feature for (MD662,195,(5052,1867)) is not in pool. Re-compute.\n",
      "Feature for (MD662,195,(5117,1737)) is not in pool. Re-compute.\n",
      "Feature for (MD662,195,(5117,1802)) is not in pool. Re-compute.\n",
      "Feature for (MD662,195,(5117,1867)) is not in pool. Re-compute.\n",
      "Feature for (MD662,195,(5182,1737)) is not in pool. Re-compute.\n",
      "Feature for (MD662,195,(5182,1802)) is not in pool. Re-compute.\n",
      "Feature for (MD662,195,(5247,1672)) is not in pool. Re-compute.\n",
      "Feature for (MD662,195,(5247,1737)) is not in pool. Re-compute.\n",
      "Feature for (MD662,195,(5247,1802)) is not in pool. Re-compute.\n",
      "Feature for (MD662,195,(5312,1672)) is not in pool. Re-compute.\n",
      "Feature for (MD662,195,(5377,1672)) is not in pool. Re-compute.\n",
      "Not using image_cache.\n",
      "Load image: 15.06 seconds.\n",
      "Extract patches: 15.16 seconds\n"
     ]
    },
    {
     "name": "stdout",
     "output_type": "stream",
     "text": [
      "(256, 1, 224, 224)\n"
     ]
    },
    {
     "name": "stderr",
     "output_type": "stream",
     "text": [
      "Compute features: 0.38 seconds\n"
     ]
    },
    {
     "name": "stdout",
     "output_type": "stream",
     "text": [
      "('MD661', 308)\n",
      "('MD661', 192)\n"
     ]
    },
    {
     "name": "stderr",
     "output_type": "stream",
     "text": [
      "Feature for (MD661,192,(6937,502)) is not in pool. Re-compute.\n",
      "Feature for (MD661,192,(7002,502)) is not in pool. Re-compute.\n",
      "Feature for (MD661,192,(7067,502)) is not in pool. Re-compute.\n",
      "Feature for (MD661,192,(7132,502)) is not in pool. Re-compute.\n",
      "Feature for (MD661,192,(7197,502)) is not in pool. Re-compute.\n",
      "Feature for (MD661,192,(7262,502)) is not in pool. Re-compute.\n",
      "Feature for (MD661,192,(7327,502)) is not in pool. Re-compute.\n",
      "Feature for (MD661,192,(7392,502)) is not in pool. Re-compute.\n",
      "Feature for (MD661,192,(7457,502)) is not in pool. Re-compute.\n",
      "Feature for (MD661,192,(5702,1087)) is not in pool. Re-compute.\n",
      "Feature for (MD661,192,(5767,1022)) is not in pool. Re-compute.\n",
      "Feature for (MD661,192,(5767,1087)) is not in pool. Re-compute.\n",
      "Feature for (MD661,192,(5832,1022)) is not in pool. Re-compute.\n",
      "Feature for (MD661,192,(5832,1087)) is not in pool. Re-compute.\n",
      "Feature for (MD661,192,(5897,957)) is not in pool. Re-compute.\n",
      "Feature for (MD661,192,(5897,1022)) is not in pool. Re-compute.\n",
      "Feature for (MD661,192,(5897,1087)) is not in pool. Re-compute.\n",
      "Feature for (MD661,192,(5962,957)) is not in pool. Re-compute.\n",
      "Feature for (MD661,192,(5962,1022)) is not in pool. Re-compute.\n",
      "Feature for (MD661,192,(6027,957)) is not in pool. Re-compute.\n",
      "Feature for (MD661,192,(7912,112)) is not in pool. Re-compute.\n",
      "Feature for (MD661,192,(7977,112)) is not in pool. Re-compute.\n",
      "Feature for (MD661,192,(8042,112)) is not in pool. Re-compute.\n",
      "Feature for (MD661,192,(8107,112)) is not in pool. Re-compute.\n",
      "Feature for (MD661,192,(8172,112)) is not in pool. Re-compute.\n",
      "Feature for (MD661,192,(8237,112)) is not in pool. Re-compute.\n",
      "Not using image_cache.\n",
      "Load image: 17.53 seconds.\n",
      "Extract patches: 17.65 seconds\n"
     ]
    },
    {
     "name": "stdout",
     "output_type": "stream",
     "text": [
      "(256, 1, 224, 224)\n"
     ]
    },
    {
     "name": "stderr",
     "output_type": "stream",
     "text": [
      "Compute features: 0.38 seconds\n"
     ]
    },
    {
     "name": "stdout",
     "output_type": "stream",
     "text": [
      "('MD662', 246)\n"
     ]
    },
    {
     "name": "stderr",
     "output_type": "stream",
     "text": [
      "Feature for (MD662,246,(4532,1672)) is not in pool. Re-compute.\n",
      "Feature for (MD662,246,(4532,1737)) is not in pool. Re-compute.\n",
      "Feature for (MD662,246,(4532,1802)) is not in pool. Re-compute.\n",
      "Feature for (MD662,246,(4597,1672)) is not in pool. Re-compute.\n",
      "Feature for (MD662,246,(4597,1737)) is not in pool. Re-compute.\n",
      "Feature for (MD662,246,(4597,1802)) is not in pool. Re-compute.\n",
      "Feature for (MD662,246,(4662,1672)) is not in pool. Re-compute.\n",
      "Feature for (MD662,246,(4662,1737)) is not in pool. Re-compute.\n",
      "Feature for (MD662,246,(4727,1672)) is not in pool. Re-compute.\n",
      "Feature for (MD662,246,(4727,1737)) is not in pool. Re-compute.\n",
      "Feature for (MD662,246,(4792,1672)) is not in pool. Re-compute.\n",
      "Feature for (MD662,246,(4792,1737)) is not in pool. Re-compute.\n",
      "Feature for (MD662,246,(4857,1607)) is not in pool. Re-compute.\n",
      "Feature for (MD662,246,(4857,1672)) is not in pool. Re-compute.\n",
      "Feature for (MD662,246,(4857,1737)) is not in pool. Re-compute.\n",
      "Feature for (MD662,246,(4922,1607)) is not in pool. Re-compute.\n",
      "Feature for (MD662,246,(4922,1672)) is not in pool. Re-compute.\n",
      "Feature for (MD662,246,(4922,1737)) is not in pool. Re-compute.\n",
      "Feature for (MD662,246,(4987,1607)) is not in pool. Re-compute.\n",
      "Feature for (MD662,246,(4987,1672)) is not in pool. Re-compute.\n",
      "Feature for (MD662,246,(5052,1542)) is not in pool. Re-compute.\n",
      "Not using image_cache.\n",
      "Load image: 16.18 seconds.\n",
      "Extract patches: 16.29 seconds\n"
     ]
    },
    {
     "name": "stdout",
     "output_type": "stream",
     "text": [
      "(256, 1, 224, 224)\n"
     ]
    },
    {
     "name": "stderr",
     "output_type": "stream",
     "text": [
      "Compute features: 0.39 seconds\n"
     ]
    },
    {
     "name": "stdout",
     "output_type": "stream",
     "text": [
      "('MD662', 255)\n"
     ]
    },
    {
     "name": "stderr",
     "output_type": "stream",
     "text": [
      "Feature for (MD662,255,(4402,1802)) is not in pool. Re-compute.\n",
      "Feature for (MD662,255,(4467,1737)) is not in pool. Re-compute.\n",
      "Feature for (MD662,255,(4467,1802)) is not in pool. Re-compute.\n",
      "Feature for (MD662,255,(4467,1867)) is not in pool. Re-compute.\n",
      "Feature for (MD662,255,(4467,1932)) is not in pool. Re-compute.\n",
      "Feature for (MD662,255,(4532,1737)) is not in pool. Re-compute.\n",
      "Feature for (MD662,255,(4532,1802)) is not in pool. Re-compute.\n",
      "Feature for (MD662,255,(4532,1867)) is not in pool. Re-compute.\n",
      "Feature for (MD662,255,(4532,1932)) is not in pool. Re-compute.\n",
      "Feature for (MD662,255,(4597,1737)) is not in pool. Re-compute.\n",
      "Feature for (MD662,255,(4597,1802)) is not in pool. Re-compute.\n",
      "Feature for (MD662,255,(4597,1867)) is not in pool. Re-compute.\n",
      "Feature for (MD662,255,(4597,1932)) is not in pool. Re-compute.\n",
      "Feature for (MD662,255,(4662,1737)) is not in pool. Re-compute.\n",
      "Feature for (MD662,255,(4662,1802)) is not in pool. Re-compute.\n",
      "Feature for (MD662,255,(4662,1867)) is not in pool. Re-compute.\n",
      "Feature for (MD662,255,(4662,1932)) is not in pool. Re-compute.\n",
      "Feature for (MD662,255,(4727,1737)) is not in pool. Re-compute.\n",
      "Feature for (MD662,255,(4727,1802)) is not in pool. Re-compute.\n",
      "Feature for (MD662,255,(4727,1867)) is not in pool. Re-compute.\n",
      "Feature for (MD662,255,(4727,1932)) is not in pool. Re-compute.\n",
      "Feature for (MD662,255,(4792,1672)) is not in pool. Re-compute.\n",
      "Feature for (MD662,255,(4792,1737)) is not in pool. Re-compute.\n",
      "Feature for (MD662,255,(4792,1802)) is not in pool. Re-compute.\n",
      "Feature for (MD662,255,(4792,1867)) is not in pool. Re-compute.\n",
      "Feature for (MD662,255,(4792,1932)) is not in pool. Re-compute.\n",
      "Feature for (MD662,255,(4857,1672)) is not in pool. Re-compute.\n",
      "Feature for (MD662,255,(4857,1737)) is not in pool. Re-compute.\n",
      "Feature for (MD662,255,(4857,1802)) is not in pool. Re-compute.\n",
      "Feature for (MD662,255,(4922,1672)) is not in pool. Re-compute.\n",
      "Not using image_cache.\n",
      "Load image: 16.55 seconds.\n",
      "Extract patches: 16.67 seconds\n"
     ]
    },
    {
     "name": "stdout",
     "output_type": "stream",
     "text": [
      "(256, 1, 224, 224)\n"
     ]
    },
    {
     "name": "stderr",
     "output_type": "stream",
     "text": [
      "Compute features: 0.38 seconds\n"
     ]
    },
    {
     "name": "stdout",
     "output_type": "stream",
     "text": [
      "('MD662', 278)\n",
      "('MD661', 253)\n"
     ]
    },
    {
     "name": "stderr",
     "output_type": "stream",
     "text": [
      "Feature for (MD661,253,(5637,1022)) is not in pool. Re-compute.\n",
      "Feature for (MD661,253,(5637,1087)) is not in pool. Re-compute.\n",
      "Feature for (MD661,253,(5702,892)) is not in pool. Re-compute.\n",
      "Feature for (MD661,253,(5702,957)) is not in pool. Re-compute.\n",
      "Feature for (MD661,253,(5702,1022)) is not in pool. Re-compute.\n",
      "Feature for (MD661,253,(5702,1087)) is not in pool. Re-compute.\n",
      "Feature for (MD661,253,(5767,892)) is not in pool. Re-compute.\n",
      "Feature for (MD661,253,(5767,957)) is not in pool. Re-compute.\n",
      "Feature for (MD661,253,(5767,1022)) is not in pool. Re-compute.\n",
      "Feature for (MD661,253,(5767,1087)) is not in pool. Re-compute.\n",
      "Feature for (MD661,253,(5832,892)) is not in pool. Re-compute.\n",
      "Feature for (MD661,253,(5832,957)) is not in pool. Re-compute.\n",
      "Feature for (MD661,253,(5832,1022)) is not in pool. Re-compute.\n",
      "Feature for (MD661,253,(5832,1087)) is not in pool. Re-compute.\n",
      "Feature for (MD661,253,(5897,827)) is not in pool. Re-compute.\n",
      "Feature for (MD661,253,(5897,892)) is not in pool. Re-compute.\n",
      "Feature for (MD661,253,(5897,957)) is not in pool. Re-compute.\n",
      "Feature for (MD661,253,(5897,1022)) is not in pool. Re-compute.\n",
      "Feature for (MD661,253,(5897,1087)) is not in pool. Re-compute.\n",
      "Feature for (MD661,253,(5962,827)) is not in pool. Re-compute.\n",
      "Feature for (MD661,253,(5962,892)) is not in pool. Re-compute.\n",
      "Feature for (MD661,253,(5962,957)) is not in pool. Re-compute.\n",
      "Feature for (MD661,253,(5962,1022)) is not in pool. Re-compute.\n",
      "Feature for (MD661,253,(5962,1087)) is not in pool. Re-compute.\n",
      "Feature for (MD661,253,(6027,827)) is not in pool. Re-compute.\n",
      "Feature for (MD661,253,(6027,892)) is not in pool. Re-compute.\n",
      "Feature for (MD661,253,(6027,957)) is not in pool. Re-compute.\n",
      "Feature for (MD661,253,(6027,1022)) is not in pool. Re-compute.\n",
      "Feature for (MD661,253,(6027,1087)) is not in pool. Re-compute.\n",
      "Feature for (MD661,253,(6092,762)) is not in pool. Re-compute.\n",
      "Feature for (MD661,253,(6092,827)) is not in pool. Re-compute.\n",
      "Feature for (MD661,253,(6092,892)) is not in pool. Re-compute.\n",
      "Feature for (MD661,253,(6092,957)) is not in pool. Re-compute.\n",
      "Feature for (MD661,253,(6092,1022)) is not in pool. Re-compute.\n",
      "Feature for (MD661,253,(6092,1087)) is not in pool. Re-compute.\n",
      "Feature for (MD661,253,(6157,762)) is not in pool. Re-compute.\n",
      "Feature for (MD661,253,(6157,827)) is not in pool. Re-compute.\n",
      "Feature for (MD661,253,(6157,892)) is not in pool. Re-compute.\n",
      "Feature for (MD661,253,(6157,957)) is not in pool. Re-compute.\n",
      "Feature for (MD661,253,(6157,1022)) is not in pool. Re-compute.\n",
      "Feature for (MD661,253,(6222,762)) is not in pool. Re-compute.\n",
      "Feature for (MD661,253,(6222,827)) is not in pool. Re-compute.\n",
      "Feature for (MD661,253,(6222,892)) is not in pool. Re-compute.\n",
      "Feature for (MD661,253,(6222,957)) is not in pool. Re-compute.\n",
      "Feature for (MD661,253,(6222,1022)) is not in pool. Re-compute.\n",
      "Feature for (MD661,253,(6287,762)) is not in pool. Re-compute.\n",
      "Feature for (MD661,253,(6287,827)) is not in pool. Re-compute.\n",
      "Feature for (MD661,253,(6287,892)) is not in pool. Re-compute.\n",
      "Feature for (MD661,253,(6287,957)) is not in pool. Re-compute.\n",
      "Feature for (MD661,253,(6352,762)) is not in pool. Re-compute.\n",
      "Feature for (MD661,253,(6352,827)) is not in pool. Re-compute.\n",
      "Feature for (MD661,253,(6352,892)) is not in pool. Re-compute.\n",
      "Feature for (MD661,253,(6417,827)) is not in pool. Re-compute.\n",
      "Feature for (MD661,253,(6417,892)) is not in pool. Re-compute.\n",
      "Feature for (MD661,253,(6482,892)) is not in pool. Re-compute.\n",
      "Feature for (MD661,253,(6482,957)) is not in pool. Re-compute.\n",
      "Feature for (MD661,253,(6547,892)) is not in pool. Re-compute.\n",
      "Not using image_cache.\n",
      "Load image: 17.84 seconds.\n",
      "Extract patches: 18.00 seconds\n"
     ]
    },
    {
     "name": "stdout",
     "output_type": "stream",
     "text": [
      "(256, 1, 224, 224)\n"
     ]
    },
    {
     "name": "stderr",
     "output_type": "stream",
     "text": [
      "Compute features: 0.38 seconds\n"
     ]
    },
    {
     "name": "stdout",
     "output_type": "stream",
     "text": [
      "('MD661', 168)\n"
     ]
    },
    {
     "name": "stderr",
     "output_type": "stream",
     "text": [
      "Feature for (MD661,168,(7067,567)) is not in pool. Re-compute.\n",
      "Feature for (MD661,168,(7132,567)) is not in pool. Re-compute.\n",
      "Not using image_cache.\n",
      "Load image: 16.98 seconds.\n",
      "Extract patches: 17.08 seconds\n"
     ]
    },
    {
     "name": "stdout",
     "output_type": "stream",
     "text": [
      "(256, 1, 224, 224)\n"
     ]
    },
    {
     "name": "stderr",
     "output_type": "stream",
     "text": [
      "Compute features: 0.39 seconds\n"
     ]
    },
    {
     "name": "stdout",
     "output_type": "stream",
     "text": [
      "('MD662', 302)\n",
      "('MD662', 167)\n"
     ]
    },
    {
     "name": "stderr",
     "output_type": "stream",
     "text": [
      "Feature for (MD662,167,(6157,1542)) is not in pool. Re-compute.\n",
      "Feature for (MD662,167,(6222,1542)) is not in pool. Re-compute.\n",
      "Feature for (MD662,167,(6287,1542)) is not in pool. Re-compute.\n",
      "Feature for (MD662,167,(6352,1542)) is not in pool. Re-compute.\n",
      "Not using image_cache.\n",
      "Load image: 13.74 seconds.\n",
      "Extract patches: 13.83 seconds\n"
     ]
    },
    {
     "name": "stdout",
     "output_type": "stream",
     "text": [
      "(256, 1, 224, 224)\n"
     ]
    },
    {
     "name": "stderr",
     "output_type": "stream",
     "text": [
      "Compute features: 0.38 seconds\n"
     ]
    },
    {
     "name": "stdout",
     "output_type": "stream",
     "text": [
      "('MD662', 149)\n",
      "('MD661', 272)\n"
     ]
    },
    {
     "name": "stderr",
     "output_type": "stream",
     "text": [
      "Feature for (MD661,272,(5442,1217)) is not in pool. Re-compute.\n",
      "Feature for (MD661,272,(5442,1282)) is not in pool. Re-compute.\n",
      "Feature for (MD661,272,(5442,1347)) is not in pool. Re-compute.\n",
      "Feature for (MD661,272,(5507,1217)) is not in pool. Re-compute.\n",
      "Feature for (MD661,272,(5507,1282)) is not in pool. Re-compute.\n",
      "Feature for (MD661,272,(5507,1347)) is not in pool. Re-compute.\n",
      "Feature for (MD661,272,(5572,1217)) is not in pool. Re-compute.\n",
      "Feature for (MD661,272,(5572,1282)) is not in pool. Re-compute.\n",
      "Feature for (MD661,272,(5572,1347)) is not in pool. Re-compute.\n",
      "Feature for (MD661,272,(5637,1217)) is not in pool. Re-compute.\n",
      "Feature for (MD661,272,(5637,1282)) is not in pool. Re-compute.\n",
      "Feature for (MD661,272,(5637,1347)) is not in pool. Re-compute.\n",
      "Feature for (MD661,272,(5702,1152)) is not in pool. Re-compute.\n",
      "Feature for (MD661,272,(5702,1217)) is not in pool. Re-compute.\n",
      "Feature for (MD661,272,(5702,1282)) is not in pool. Re-compute.\n",
      "Feature for (MD661,272,(5702,1347)) is not in pool. Re-compute.\n",
      "Feature for (MD661,272,(5767,1152)) is not in pool. Re-compute.\n",
      "Feature for (MD661,272,(5767,1217)) is not in pool. Re-compute.\n",
      "Feature for (MD661,272,(5767,1282)) is not in pool. Re-compute.\n",
      "Feature for (MD661,272,(5767,1347)) is not in pool. Re-compute.\n",
      "Feature for (MD661,272,(5832,1087)) is not in pool. Re-compute.\n",
      "Feature for (MD661,272,(5832,1152)) is not in pool. Re-compute.\n",
      "Feature for (MD661,272,(5832,1217)) is not in pool. Re-compute.\n",
      "Feature for (MD661,272,(5832,1282)) is not in pool. Re-compute.\n",
      "Feature for (MD661,272,(5832,1347)) is not in pool. Re-compute.\n",
      "Feature for (MD661,272,(5832,1412)) is not in pool. Re-compute.\n",
      "Feature for (MD661,272,(5897,1087)) is not in pool. Re-compute.\n",
      "Feature for (MD661,272,(5897,1152)) is not in pool. Re-compute.\n",
      "Feature for (MD661,272,(5897,1217)) is not in pool. Re-compute.\n",
      "Feature for (MD661,272,(5897,1282)) is not in pool. Re-compute.\n",
      "Feature for (MD661,272,(5962,1022)) is not in pool. Re-compute.\n",
      "Feature for (MD661,272,(5962,1087)) is not in pool. Re-compute.\n",
      "Feature for (MD661,272,(5962,1152)) is not in pool. Re-compute.\n",
      "Feature for (MD661,272,(5962,1217)) is not in pool. Re-compute.\n",
      "Feature for (MD661,272,(6027,1022)) is not in pool. Re-compute.\n",
      "Feature for (MD661,272,(6027,1087)) is not in pool. Re-compute.\n",
      "Feature for (MD661,272,(6027,1152)) is not in pool. Re-compute.\n",
      "Feature for (MD661,272,(6092,1022)) is not in pool. Re-compute.\n",
      "Feature for (MD661,272,(6092,1087)) is not in pool. Re-compute.\n",
      "Feature for (MD661,272,(6092,1152)) is not in pool. Re-compute.\n",
      "Feature for (MD661,272,(6157,1022)) is not in pool. Re-compute.\n",
      "Feature for (MD661,272,(6157,1087)) is not in pool. Re-compute.\n",
      "Feature for (MD661,272,(6222,1087)) is not in pool. Re-compute.\n",
      "Feature for (MD661,272,(6287,1087)) is not in pool. Re-compute.\n",
      "Not using image_cache.\n",
      "Load image: 17.72 seconds.\n",
      "Extract patches: 17.86 seconds\n"
     ]
    },
    {
     "name": "stdout",
     "output_type": "stream",
     "text": [
      "(256, 1, 224, 224)\n"
     ]
    },
    {
     "name": "stderr",
     "output_type": "stream",
     "text": [
      "Compute features: 0.38 seconds\n"
     ]
    },
    {
     "name": "stdout",
     "output_type": "stream",
     "text": [
      "('MD662', 208)\n"
     ]
    },
    {
     "name": "stderr",
     "output_type": "stream",
     "text": [
      "Feature for (MD662,208,(4792,1737)) is not in pool. Re-compute.\n",
      "Feature for (MD662,208,(4792,1802)) is not in pool. Re-compute.\n",
      "Feature for (MD662,208,(4792,1867)) is not in pool. Re-compute.\n",
      "Feature for (MD662,208,(4857,1737)) is not in pool. Re-compute.\n",
      "Feature for (MD662,208,(4857,1802)) is not in pool. Re-compute.\n",
      "Feature for (MD662,208,(4922,1737)) is not in pool. Re-compute.\n",
      "Feature for (MD662,208,(4922,1802)) is not in pool. Re-compute.\n",
      "Feature for (MD662,208,(4922,1867)) is not in pool. Re-compute.\n",
      "Feature for (MD662,208,(4987,1737)) is not in pool. Re-compute.\n",
      "Feature for (MD662,208,(4987,1802)) is not in pool. Re-compute.\n",
      "Feature for (MD662,208,(4987,1867)) is not in pool. Re-compute.\n",
      "Feature for (MD662,208,(5052,1737)) is not in pool. Re-compute.\n",
      "Feature for (MD662,208,(5052,1802)) is not in pool. Re-compute.\n",
      "Feature for (MD662,208,(5052,1867)) is not in pool. Re-compute.\n",
      "Feature for (MD662,208,(5117,1737)) is not in pool. Re-compute.\n",
      "Feature for (MD662,208,(5117,1802)) is not in pool. Re-compute.\n",
      "Feature for (MD662,208,(5117,1867)) is not in pool. Re-compute.\n",
      "Feature for (MD662,208,(5182,1672)) is not in pool. Re-compute.\n",
      "Feature for (MD662,208,(5182,1737)) is not in pool. Re-compute.\n",
      "Feature for (MD662,208,(5182,1802)) is not in pool. Re-compute.\n",
      "Feature for (MD662,208,(5182,1867)) is not in pool. Re-compute.\n",
      "Feature for (MD662,208,(5182,1932)) is not in pool. Re-compute.\n",
      "Feature for (MD662,208,(5247,1672)) is not in pool. Re-compute.\n",
      "Feature for (MD662,208,(5247,1737)) is not in pool. Re-compute.\n",
      "Feature for (MD662,208,(5247,1802)) is not in pool. Re-compute.\n",
      "Feature for (MD662,208,(5247,1867)) is not in pool. Re-compute.\n",
      "Feature for (MD662,208,(5312,1672)) is not in pool. Re-compute.\n",
      "Feature for (MD662,208,(5312,1737)) is not in pool. Re-compute.\n",
      "Feature for (MD662,208,(5312,1802)) is not in pool. Re-compute.\n",
      "Feature for (MD662,208,(5377,1672)) is not in pool. Re-compute.\n",
      "Feature for (MD662,208,(5377,1737)) is not in pool. Re-compute.\n",
      "Feature for (MD662,208,(5442,1672)) is not in pool. Re-compute.\n",
      "Feature for (MD662,208,(5507,1672)) is not in pool. Re-compute.\n",
      "Not using image_cache.\n",
      "Load image: 16.81 seconds.\n",
      "Extract patches: 16.93 seconds\n"
     ]
    },
    {
     "name": "stdout",
     "output_type": "stream",
     "text": [
      "(256, 1, 224, 224)\n"
     ]
    },
    {
     "name": "stderr",
     "output_type": "stream",
     "text": [
      "Compute features: 0.40 seconds\n"
     ]
    },
    {
     "name": "stdout",
     "output_type": "stream",
     "text": [
      "('MD662', 222)\n"
     ]
    },
    {
     "name": "stderr",
     "output_type": "stream",
     "text": [
      "Feature for (MD662,222,(4987,1802)) is not in pool. Re-compute.\n",
      "Feature for (MD662,222,(4987,1867)) is not in pool. Re-compute.\n",
      "Feature for (MD662,222,(5052,1802)) is not in pool. Re-compute.\n",
      "Feature for (MD662,222,(5052,1867)) is not in pool. Re-compute.\n",
      "Feature for (MD662,222,(5052,1932)) is not in pool. Re-compute.\n",
      "Feature for (MD662,222,(5117,1802)) is not in pool. Re-compute.\n",
      "Feature for (MD662,222,(5117,1867)) is not in pool. Re-compute.\n",
      "Feature for (MD662,222,(5117,1932)) is not in pool. Re-compute.\n",
      "Feature for (MD662,222,(5182,1737)) is not in pool. Re-compute.\n",
      "Feature for (MD662,222,(5182,1802)) is not in pool. Re-compute.\n",
      "Feature for (MD662,222,(5182,1867)) is not in pool. Re-compute.\n",
      "Feature for (MD662,222,(5182,1932)) is not in pool. Re-compute.\n",
      "Feature for (MD662,222,(5247,1737)) is not in pool. Re-compute.\n",
      "Feature for (MD662,222,(5247,1802)) is not in pool. Re-compute.\n",
      "Feature for (MD662,222,(5247,1867)) is not in pool. Re-compute.\n",
      "Feature for (MD662,222,(5247,1932)) is not in pool. Re-compute.\n",
      "Feature for (MD662,222,(5312,1737)) is not in pool. Re-compute.\n",
      "Feature for (MD662,222,(5312,1802)) is not in pool. Re-compute.\n",
      "Feature for (MD662,222,(5312,1867)) is not in pool. Re-compute.\n",
      "Feature for (MD662,222,(5377,1737)) is not in pool. Re-compute.\n",
      "Feature for (MD662,222,(5377,1802)) is not in pool. Re-compute.\n",
      "Feature for (MD662,222,(5442,1737)) is not in pool. Re-compute.\n",
      "Not using image_cache.\n",
      "Load image: 17.14 seconds.\n",
      "Extract patches: 17.25 seconds\n"
     ]
    },
    {
     "name": "stdout",
     "output_type": "stream",
     "text": [
      "(256, 1, 224, 224)\n"
     ]
    },
    {
     "name": "stderr",
     "output_type": "stream",
     "text": [
      "Compute features: 0.37 seconds\n"
     ]
    },
    {
     "name": "stdout",
     "output_type": "stream",
     "text": [
      "('MD662', 232)\n"
     ]
    },
    {
     "name": "stderr",
     "output_type": "stream",
     "text": [
      "Feature for (MD662,232,(4792,1737)) is not in pool. Re-compute.\n",
      "Feature for (MD662,232,(4857,1737)) is not in pool. Re-compute.\n",
      "Feature for (MD662,232,(4922,1737)) is not in pool. Re-compute.\n",
      "Feature for (MD662,232,(5052,1672)) is not in pool. Re-compute.\n",
      "Feature for (MD662,232,(5117,1672)) is not in pool. Re-compute.\n",
      "Feature for (MD662,232,(5247,1672)) is not in pool. Re-compute.\n",
      "Feature for (MD662,232,(5312,1672)) is not in pool. Re-compute.\n",
      "Feature for (MD662,232,(5312,1737)) is not in pool. Re-compute.\n",
      "Feature for (MD662,232,(5377,1672)) is not in pool. Re-compute.\n",
      "Feature for (MD662,232,(5442,1672)) is not in pool. Re-compute.\n",
      "Not using image_cache.\n",
      "Load image: 15.72 seconds.\n",
      "Extract patches: 15.82 seconds\n"
     ]
    },
    {
     "name": "stdout",
     "output_type": "stream",
     "text": [
      "(256, 1, 224, 224)\n"
     ]
    },
    {
     "name": "stderr",
     "output_type": "stream",
     "text": [
      "Compute features: 0.38 seconds\n"
     ]
    },
    {
     "name": "stdout",
     "output_type": "stream",
     "text": [
      "('MD661', 217)\n"
     ]
    },
    {
     "name": "stderr",
     "output_type": "stream",
     "text": [
      "Feature for (MD661,217,(5962,762)) is not in pool. Re-compute.\n",
      "Feature for (MD661,217,(6027,762)) is not in pool. Re-compute.\n",
      "Feature for (MD661,217,(6092,697)) is not in pool. Re-compute.\n",
      "Feature for (MD661,217,(6092,762)) is not in pool. Re-compute.\n",
      "Feature for (MD661,217,(6092,827)) is not in pool. Re-compute.\n",
      "Feature for (MD661,217,(6157,697)) is not in pool. Re-compute.\n",
      "Feature for (MD661,217,(6157,762)) is not in pool. Re-compute.\n",
      "Feature for (MD661,217,(6157,827)) is not in pool. Re-compute.\n",
      "Feature for (MD661,217,(6222,697)) is not in pool. Re-compute.\n",
      "Feature for (MD661,217,(6222,762)) is not in pool. Re-compute.\n",
      "Feature for (MD661,217,(6222,827)) is not in pool. Re-compute.\n",
      "Feature for (MD661,217,(6287,697)) is not in pool. Re-compute.\n",
      "Feature for (MD661,217,(6287,762)) is not in pool. Re-compute.\n",
      "Feature for (MD661,217,(6287,827)) is not in pool. Re-compute.\n",
      "Feature for (MD661,217,(6352,762)) is not in pool. Re-compute.\n",
      "Feature for (MD661,217,(6352,827)) is not in pool. Re-compute.\n",
      "Feature for (MD661,217,(6417,762)) is not in pool. Re-compute.\n",
      "Feature for (MD661,217,(6482,762)) is not in pool. Re-compute.\n",
      "Feature for (MD661,217,(7457,112)) is not in pool. Re-compute.\n",
      "Feature for (MD661,217,(7522,112)) is not in pool. Re-compute.\n",
      "Feature for (MD661,217,(7587,112)) is not in pool. Re-compute.\n",
      "Feature for (MD661,217,(7652,112)) is not in pool. Re-compute.\n",
      "Not using image_cache.\n",
      "Load image: 18.38 seconds.\n",
      "Extract patches: 18.49 seconds\n"
     ]
    },
    {
     "name": "stdout",
     "output_type": "stream",
     "text": [
      "(256, 1, 224, 224)\n"
     ]
    },
    {
     "name": "stderr",
     "output_type": "stream",
     "text": [
      "Compute features: 0.39 seconds\n"
     ]
    },
    {
     "name": "stdout",
     "output_type": "stream",
     "text": [
      "('MD662', 217)\n"
     ]
    },
    {
     "name": "stderr",
     "output_type": "stream",
     "text": [
      "Feature for (MD662,217,(4922,1802)) is not in pool. Re-compute.\n",
      "Feature for (MD662,217,(4922,1867)) is not in pool. Re-compute.\n",
      "Feature for (MD662,217,(4922,1932)) is not in pool. Re-compute.\n",
      "Feature for (MD662,217,(4922,1997)) is not in pool. Re-compute.\n",
      "Feature for (MD662,217,(4987,1802)) is not in pool. Re-compute.\n",
      "Feature for (MD662,217,(4987,1867)) is not in pool. Re-compute.\n",
      "Feature for (MD662,217,(4987,1932)) is not in pool. Re-compute.\n",
      "Feature for (MD662,217,(4987,1997)) is not in pool. Re-compute.\n",
      "Feature for (MD662,217,(5052,1802)) is not in pool. Re-compute.\n",
      "Feature for (MD662,217,(5052,1867)) is not in pool. Re-compute.\n",
      "Feature for (MD662,217,(5052,1932)) is not in pool. Re-compute.\n",
      "Feature for (MD662,217,(5052,1997)) is not in pool. Re-compute.\n",
      "Feature for (MD662,217,(5117,1737)) is not in pool. Re-compute.\n",
      "Feature for (MD662,217,(5117,1802)) is not in pool. Re-compute.\n",
      "Feature for (MD662,217,(5117,1867)) is not in pool. Re-compute.\n",
      "Feature for (MD662,217,(5117,1932)) is not in pool. Re-compute.\n",
      "Feature for (MD662,217,(5182,1737)) is not in pool. Re-compute.\n",
      "Feature for (MD662,217,(5182,1802)) is not in pool. Re-compute.\n",
      "Feature for (MD662,217,(5182,1867)) is not in pool. Re-compute.\n",
      "Feature for (MD662,217,(5182,1932)) is not in pool. Re-compute.\n",
      "Feature for (MD662,217,(5247,1737)) is not in pool. Re-compute.\n",
      "Feature for (MD662,217,(5247,1802)) is not in pool. Re-compute.\n",
      "Feature for (MD662,217,(5247,1867)) is not in pool. Re-compute.\n",
      "Feature for (MD662,217,(5247,1932)) is not in pool. Re-compute.\n",
      "Feature for (MD662,217,(5312,1737)) is not in pool. Re-compute.\n",
      "Feature for (MD662,217,(5312,1802)) is not in pool. Re-compute.\n",
      "Feature for (MD662,217,(5312,1867)) is not in pool. Re-compute.\n",
      "Feature for (MD662,217,(5377,1737)) is not in pool. Re-compute.\n",
      "Feature for (MD662,217,(5377,1802)) is not in pool. Re-compute.\n",
      "Feature for (MD662,217,(5377,1867)) is not in pool. Re-compute.\n",
      "Feature for (MD662,217,(5442,1737)) is not in pool. Re-compute.\n",
      "Feature for (MD662,217,(5442,1802)) is not in pool. Re-compute.\n",
      "Feature for (MD662,217,(5507,1737)) is not in pool. Re-compute.\n",
      "Feature for (MD662,217,(5507,1802)) is not in pool. Re-compute.\n",
      "Not using image_cache.\n",
      "Load image: 16.78 seconds.\n",
      "Extract patches: 16.90 seconds\n"
     ]
    },
    {
     "name": "stdout",
     "output_type": "stream",
     "text": [
      "(256, 1, 224, 224)\n"
     ]
    },
    {
     "name": "stderr",
     "output_type": "stream",
     "text": [
      "Compute features: 0.38 seconds\n"
     ]
    },
    {
     "name": "stdout",
     "output_type": "stream",
     "text": [
      "('MD661', 214)\n"
     ]
    },
    {
     "name": "stderr",
     "output_type": "stream",
     "text": [
      "Feature for (MD661,214,(5832,827)) is not in pool. Re-compute.\n",
      "Feature for (MD661,214,(5897,762)) is not in pool. Re-compute.\n",
      "Feature for (MD661,214,(5897,827)) is not in pool. Re-compute.\n",
      "Feature for (MD661,214,(5962,762)) is not in pool. Re-compute.\n",
      "Feature for (MD661,214,(5962,827)) is not in pool. Re-compute.\n",
      "Feature for (MD661,214,(6027,762)) is not in pool. Re-compute.\n",
      "Feature for (MD661,214,(6027,827)) is not in pool. Re-compute.\n",
      "Feature for (MD661,214,(6092,697)) is not in pool. Re-compute.\n",
      "Feature for (MD661,214,(6092,762)) is not in pool. Re-compute.\n",
      "Feature for (MD661,214,(6092,827)) is not in pool. Re-compute.\n",
      "Feature for (MD661,214,(6157,697)) is not in pool. Re-compute.\n",
      "Feature for (MD661,214,(6157,762)) is not in pool. Re-compute.\n",
      "Feature for (MD661,214,(6157,827)) is not in pool. Re-compute.\n",
      "Feature for (MD661,214,(6222,697)) is not in pool. Re-compute.\n",
      "Feature for (MD661,214,(6222,762)) is not in pool. Re-compute.\n",
      "Feature for (MD661,214,(6222,827)) is not in pool. Re-compute.\n",
      "Feature for (MD661,214,(6287,697)) is not in pool. Re-compute.\n",
      "Feature for (MD661,214,(6287,762)) is not in pool. Re-compute.\n",
      "Feature for (MD661,214,(6287,827)) is not in pool. Re-compute.\n",
      "Feature for (MD661,214,(6352,762)) is not in pool. Re-compute.\n",
      "Feature for (MD661,214,(6417,762)) is not in pool. Re-compute.\n",
      "Feature for (MD661,214,(7457,112)) is not in pool. Re-compute.\n",
      "Feature for (MD661,214,(7522,112)) is not in pool. Re-compute.\n",
      "Feature for (MD661,214,(7587,112)) is not in pool. Re-compute.\n",
      "Feature for (MD661,214,(7652,112)) is not in pool. Re-compute.\n",
      "Feature for (MD661,214,(7717,112)) is not in pool. Re-compute.\n",
      "Feature for (MD661,214,(7782,112)) is not in pool. Re-compute.\n",
      "Feature for (MD661,214,(7847,112)) is not in pool. Re-compute.\n",
      "Not using image_cache.\n",
      "Load image: 17.80 seconds.\n",
      "Extract patches: 17.91 seconds\n"
     ]
    },
    {
     "name": "stdout",
     "output_type": "stream",
     "text": [
      "(256, 1, 224, 224)\n"
     ]
    },
    {
     "name": "stderr",
     "output_type": "stream",
     "text": [
      "Compute features: 0.38 seconds\n"
     ]
    },
    {
     "name": "stdout",
     "output_type": "stream",
     "text": [
      "('MD662', 204)\n"
     ]
    },
    {
     "name": "stderr",
     "output_type": "stream",
     "text": [
      "Feature for (MD662,204,(4792,1802)) is not in pool. Re-compute.\n",
      "Feature for (MD662,204,(4792,1867)) is not in pool. Re-compute.\n",
      "Feature for (MD662,204,(4857,1737)) is not in pool. Re-compute.\n",
      "Feature for (MD662,204,(4857,1802)) is not in pool. Re-compute.\n",
      "Feature for (MD662,204,(4857,1867)) is not in pool. Re-compute.\n",
      "Feature for (MD662,204,(4922,1737)) is not in pool. Re-compute.\n",
      "Feature for (MD662,204,(4922,1802)) is not in pool. Re-compute.\n",
      "Feature for (MD662,204,(4922,1867)) is not in pool. Re-compute.\n",
      "Feature for (MD662,204,(4987,1737)) is not in pool. Re-compute.\n",
      "Feature for (MD662,204,(4987,1802)) is not in pool. Re-compute.\n",
      "Feature for (MD662,204,(4987,1867)) is not in pool. Re-compute.\n",
      "Feature for (MD662,204,(5052,1737)) is not in pool. Re-compute.\n",
      "Feature for (MD662,204,(5052,1802)) is not in pool. Re-compute.\n",
      "Feature for (MD662,204,(5052,1867)) is not in pool. Re-compute.\n",
      "Feature for (MD662,204,(5117,1672)) is not in pool. Re-compute.\n",
      "Feature for (MD662,204,(5117,1737)) is not in pool. Re-compute.\n",
      "Feature for (MD662,204,(5117,1802)) is not in pool. Re-compute.\n",
      "Feature for (MD662,204,(5182,1672)) is not in pool. Re-compute.\n",
      "Feature for (MD662,204,(5182,1737)) is not in pool. Re-compute.\n",
      "Feature for (MD662,204,(5182,1802)) is not in pool. Re-compute.\n",
      "Feature for (MD662,204,(5247,1672)) is not in pool. Re-compute.\n",
      "Feature for (MD662,204,(5247,1737)) is not in pool. Re-compute.\n",
      "Feature for (MD662,204,(5312,1607)) is not in pool. Re-compute.\n",
      "Feature for (MD662,204,(5312,1672)) is not in pool. Re-compute.\n",
      "Feature for (MD662,204,(5312,1737)) is not in pool. Re-compute.\n",
      "Feature for (MD662,204,(5377,1607)) is not in pool. Re-compute.\n",
      "Feature for (MD662,204,(5377,1672)) is not in pool. Re-compute.\n",
      "Feature for (MD662,204,(5442,1607)) is not in pool. Re-compute.\n",
      "Feature for (MD662,204,(5442,1672)) is not in pool. Re-compute.\n",
      "Not using image_cache.\n",
      "Load image: 16.17 seconds.\n",
      "Extract patches: 16.29 seconds\n"
     ]
    },
    {
     "name": "stdout",
     "output_type": "stream",
     "text": [
      "(256, 1, 224, 224)\n"
     ]
    },
    {
     "name": "stderr",
     "output_type": "stream",
     "text": [
      "Compute features: 0.39 seconds\n"
     ]
    },
    {
     "name": "stdout",
     "output_type": "stream",
     "text": [
      "('MD662', 253)\n"
     ]
    },
    {
     "name": "stderr",
     "output_type": "stream",
     "text": [
      "Feature for (MD662,253,(4467,1737)) is not in pool. Re-compute.\n",
      "Feature for (MD662,253,(4467,1802)) is not in pool. Re-compute.\n",
      "Feature for (MD662,253,(4467,1867)) is not in pool. Re-compute.\n",
      "Feature for (MD662,253,(4532,1737)) is not in pool. Re-compute.\n",
      "Feature for (MD662,253,(4532,1802)) is not in pool. Re-compute.\n",
      "Feature for (MD662,253,(4532,1867)) is not in pool. Re-compute.\n",
      "Feature for (MD662,253,(4597,1737)) is not in pool. Re-compute.\n",
      "Feature for (MD662,253,(4597,1802)) is not in pool. Re-compute.\n",
      "Feature for (MD662,253,(4597,1867)) is not in pool. Re-compute.\n",
      "Feature for (MD662,253,(4662,1737)) is not in pool. Re-compute.\n",
      "Feature for (MD662,253,(4662,1802)) is not in pool. Re-compute.\n",
      "Feature for (MD662,253,(4662,1867)) is not in pool. Re-compute.\n",
      "Feature for (MD662,253,(4727,1672)) is not in pool. Re-compute.\n",
      "Feature for (MD662,253,(4727,1737)) is not in pool. Re-compute.\n",
      "Feature for (MD662,253,(4727,1802)) is not in pool. Re-compute.\n",
      "Feature for (MD662,253,(4727,1867)) is not in pool. Re-compute.\n",
      "Feature for (MD662,253,(4792,1672)) is not in pool. Re-compute.\n",
      "Feature for (MD662,253,(4792,1737)) is not in pool. Re-compute.\n",
      "Feature for (MD662,253,(4792,1802)) is not in pool. Re-compute.\n",
      "Feature for (MD662,253,(4792,1867)) is not in pool. Re-compute.\n",
      "Feature for (MD662,253,(4857,1607)) is not in pool. Re-compute.\n",
      "Feature for (MD662,253,(4857,1672)) is not in pool. Re-compute.\n",
      "Feature for (MD662,253,(4857,1737)) is not in pool. Re-compute.\n",
      "Feature for (MD662,253,(4857,1802)) is not in pool. Re-compute.\n",
      "Feature for (MD662,253,(4857,1867)) is not in pool. Re-compute.\n",
      "Feature for (MD662,253,(4922,1607)) is not in pool. Re-compute.\n",
      "Feature for (MD662,253,(4922,1672)) is not in pool. Re-compute.\n",
      "Feature for (MD662,253,(4987,1607)) is not in pool. Re-compute.\n",
      "Not using image_cache.\n",
      "Load image: 17.19 seconds.\n",
      "Extract patches: 17.31 seconds\n"
     ]
    },
    {
     "name": "stdout",
     "output_type": "stream",
     "text": [
      "(256, 1, 224, 224)\n"
     ]
    },
    {
     "name": "stderr",
     "output_type": "stream",
     "text": [
      "Compute features: 0.38 seconds\n"
     ]
    },
    {
     "name": "stdout",
     "output_type": "stream",
     "text": [
      "('MD662', 185)\n"
     ]
    },
    {
     "name": "stderr",
     "output_type": "stream",
     "text": [
      "Feature for (MD662,185,(4727,1997)) is not in pool. Re-compute.\n",
      "Feature for (MD662,185,(4727,2062)) is not in pool. Re-compute.\n",
      "Feature for (MD662,185,(4727,2127)) is not in pool. Re-compute.\n",
      "Feature for (MD662,185,(4792,1997)) is not in pool. Re-compute.\n",
      "Feature for (MD662,185,(4792,2062)) is not in pool. Re-compute.\n",
      "Feature for (MD662,185,(4792,2127)) is not in pool. Re-compute.\n",
      "Feature for (MD662,185,(4857,1997)) is not in pool. Re-compute.\n",
      "Feature for (MD662,185,(4857,2062)) is not in pool. Re-compute.\n",
      "Feature for (MD662,185,(4857,2127)) is not in pool. Re-compute.\n",
      "Feature for (MD662,185,(4922,1997)) is not in pool. Re-compute.\n",
      "Feature for (MD662,185,(4922,2062)) is not in pool. Re-compute.\n",
      "Feature for (MD662,185,(4922,2127)) is not in pool. Re-compute.\n",
      "Feature for (MD662,185,(4987,1997)) is not in pool. Re-compute.\n",
      "Feature for (MD662,185,(4987,2062)) is not in pool. Re-compute.\n",
      "Feature for (MD662,185,(4987,2127)) is not in pool. Re-compute.\n",
      "Feature for (MD662,185,(5052,1997)) is not in pool. Re-compute.\n",
      "Feature for (MD662,185,(5052,2062)) is not in pool. Re-compute.\n",
      "Feature for (MD662,185,(5052,2127)) is not in pool. Re-compute.\n",
      "Feature for (MD662,185,(5117,1932)) is not in pool. Re-compute.\n",
      "Feature for (MD662,185,(5117,1997)) is not in pool. Re-compute.\n",
      "Feature for (MD662,185,(5117,2062)) is not in pool. Re-compute.\n",
      "Feature for (MD662,185,(5182,1932)) is not in pool. Re-compute.\n",
      "Not using image_cache.\n",
      "Load image: 15.33 seconds.\n",
      "Extract patches: 15.44 seconds\n"
     ]
    },
    {
     "name": "stdout",
     "output_type": "stream",
     "text": [
      "(256, 1, 224, 224)\n"
     ]
    },
    {
     "name": "stderr",
     "output_type": "stream",
     "text": [
      "Compute features: 0.38 seconds\n"
     ]
    },
    {
     "name": "stdout",
     "output_type": "stream",
     "text": [
      "('MD661', 195)\n"
     ]
    },
    {
     "name": "stderr",
     "output_type": "stream",
     "text": [
      "Feature for (MD661,195,(7002,567)) is not in pool. Re-compute.\n",
      "Feature for (MD661,195,(7132,502)) is not in pool. Re-compute.\n",
      "Feature for (MD661,195,(7197,502)) is not in pool. Re-compute.\n",
      "Feature for (MD661,195,(7262,502)) is not in pool. Re-compute.\n",
      "Feature for (MD661,195,(7327,502)) is not in pool. Re-compute.\n",
      "Feature for (MD661,195,(7392,502)) is not in pool. Re-compute.\n",
      "Feature for (MD661,195,(5832,957)) is not in pool. Re-compute.\n",
      "Feature for (MD661,195,(5897,957)) is not in pool. Re-compute.\n",
      "Feature for (MD661,195,(5962,957)) is not in pool. Re-compute.\n",
      "Feature for (MD661,195,(5962,1022)) is not in pool. Re-compute.\n",
      "Feature for (MD661,195,(6027,892)) is not in pool. Re-compute.\n",
      "Feature for (MD661,195,(6027,957)) is not in pool. Re-compute.\n",
      "Feature for (MD661,195,(6092,892)) is not in pool. Re-compute.\n",
      "Feature for (MD661,195,(7847,112)) is not in pool. Re-compute.\n",
      "Feature for (MD661,195,(7912,112)) is not in pool. Re-compute.\n",
      "Feature for (MD661,195,(7977,112)) is not in pool. Re-compute.\n",
      "Feature for (MD661,195,(8042,112)) is not in pool. Re-compute.\n",
      "Feature for (MD661,195,(8107,112)) is not in pool. Re-compute.\n",
      "Feature for (MD661,195,(8172,112)) is not in pool. Re-compute.\n",
      "Feature for (MD661,195,(8237,112)) is not in pool. Re-compute.\n",
      "Not using image_cache.\n",
      "Load image: 19.01 seconds.\n",
      "Extract patches: 19.12 seconds\n"
     ]
    },
    {
     "name": "stdout",
     "output_type": "stream",
     "text": [
      "(256, 1, 224, 224)\n"
     ]
    },
    {
     "name": "stderr",
     "output_type": "stream",
     "text": [
      "Compute features: 0.38 seconds\n"
     ]
    },
    {
     "name": "stdout",
     "output_type": "stream",
     "text": [
      "('MD661', 190)\n"
     ]
    },
    {
     "name": "stderr",
     "output_type": "stream",
     "text": [
      "Feature for (MD661,190,(6937,502)) is not in pool. Re-compute.\n",
      "Feature for (MD661,190,(7002,502)) is not in pool. Re-compute.\n",
      "Feature for (MD661,190,(7067,502)) is not in pool. Re-compute.\n",
      "Feature for (MD661,190,(7132,502)) is not in pool. Re-compute.\n",
      "Feature for (MD661,190,(7197,502)) is not in pool. Re-compute.\n",
      "Feature for (MD661,190,(7262,502)) is not in pool. Re-compute.\n",
      "Feature for (MD661,190,(7327,502)) is not in pool. Re-compute.\n",
      "Feature for (MD661,190,(7392,502)) is not in pool. Re-compute.\n",
      "Feature for (MD661,190,(7457,502)) is not in pool. Re-compute.\n",
      "Feature for (MD661,190,(5767,1087)) is not in pool. Re-compute.\n",
      "Feature for (MD661,190,(5832,1087)) is not in pool. Re-compute.\n",
      "Feature for (MD661,190,(5897,1022)) is not in pool. Re-compute.\n",
      "Feature for (MD661,190,(5897,1087)) is not in pool. Re-compute.\n",
      "Feature for (MD661,190,(5962,1022)) is not in pool. Re-compute.\n",
      "Feature for (MD661,190,(5962,1087)) is not in pool. Re-compute.\n",
      "Feature for (MD661,190,(7977,112)) is not in pool. Re-compute.\n",
      "Feature for (MD661,190,(8042,112)) is not in pool. Re-compute.\n",
      "Feature for (MD661,190,(8107,112)) is not in pool. Re-compute.\n",
      "Feature for (MD661,190,(8172,112)) is not in pool. Re-compute.\n",
      "Feature for (MD661,190,(8237,112)) is not in pool. Re-compute.\n",
      "Not using image_cache.\n",
      "Load image: 16.35 seconds.\n",
      "Extract patches: 16.46 seconds\n"
     ]
    },
    {
     "name": "stdout",
     "output_type": "stream",
     "text": [
      "(256, 1, 224, 224)\n"
     ]
    },
    {
     "name": "stderr",
     "output_type": "stream",
     "text": [
      "Compute features: 0.37 seconds\n"
     ]
    },
    {
     "name": "stdout",
     "output_type": "stream",
     "text": [
      "('MD662', 189)\n"
     ]
    },
    {
     "name": "stderr",
     "output_type": "stream",
     "text": [
      "Feature for (MD662,189,(4727,1932)) is not in pool. Re-compute.\n",
      "Feature for (MD662,189,(4727,1997)) is not in pool. Re-compute.\n",
      "Feature for (MD662,189,(4727,2062)) is not in pool. Re-compute.\n",
      "Feature for (MD662,189,(4792,1932)) is not in pool. Re-compute.\n",
      "Feature for (MD662,189,(4792,1997)) is not in pool. Re-compute.\n",
      "Feature for (MD662,189,(4792,2062)) is not in pool. Re-compute.\n",
      "Feature for (MD662,189,(4857,1932)) is not in pool. Re-compute.\n",
      "Feature for (MD662,189,(4857,1997)) is not in pool. Re-compute.\n",
      "Feature for (MD662,189,(4857,2062)) is not in pool. Re-compute.\n",
      "Feature for (MD662,189,(4922,1867)) is not in pool. Re-compute.\n",
      "Feature for (MD662,189,(4922,1932)) is not in pool. Re-compute.\n",
      "Feature for (MD662,189,(4922,1997)) is not in pool. Re-compute.\n",
      "Feature for (MD662,189,(4987,1867)) is not in pool. Re-compute.\n",
      "Feature for (MD662,189,(4987,1932)) is not in pool. Re-compute.\n",
      "Feature for (MD662,189,(4987,1997)) is not in pool. Re-compute.\n",
      "Feature for (MD662,189,(4987,2062)) is not in pool. Re-compute.\n",
      "Feature for (MD662,189,(5052,1867)) is not in pool. Re-compute.\n",
      "Feature for (MD662,189,(5052,1932)) is not in pool. Re-compute.\n",
      "Feature for (MD662,189,(5052,1997)) is not in pool. Re-compute.\n",
      "Feature for (MD662,189,(5052,2062)) is not in pool. Re-compute.\n",
      "Feature for (MD662,189,(5117,1867)) is not in pool. Re-compute.\n",
      "Feature for (MD662,189,(5117,1932)) is not in pool. Re-compute.\n",
      "Feature for (MD662,189,(5117,1997)) is not in pool. Re-compute.\n",
      "Feature for (MD662,189,(5182,1867)) is not in pool. Re-compute.\n",
      "Feature for (MD662,189,(5182,1932)) is not in pool. Re-compute.\n",
      "Feature for (MD662,189,(5247,1802)) is not in pool. Re-compute.\n",
      "Not using image_cache.\n",
      "Load image: 14.72 seconds.\n",
      "Extract patches: 14.83 seconds\n"
     ]
    },
    {
     "name": "stdout",
     "output_type": "stream",
     "text": [
      "(256, 1, 224, 224)\n"
     ]
    },
    {
     "name": "stderr",
     "output_type": "stream",
     "text": [
      "Compute features: 0.38 seconds\n"
     ]
    },
    {
     "name": "stdout",
     "output_type": "stream",
     "text": [
      "('MD661', 171)\n"
     ]
    },
    {
     "name": "stderr",
     "output_type": "stream",
     "text": [
      "Feature for (MD661,171,(6872,632)) is not in pool. Re-compute.\n",
      "Feature for (MD661,171,(6937,567)) is not in pool. Re-compute.\n",
      "Feature for (MD661,171,(7132,502)) is not in pool. Re-compute.\n",
      "Feature for (MD661,171,(7197,502)) is not in pool. Re-compute.\n",
      "Feature for (MD661,171,(7262,502)) is not in pool. Re-compute.\n",
      "Feature for (MD661,171,(7327,502)) is not in pool. Re-compute.\n",
      "Not using image_cache.\n",
      "Load image: 17.91 seconds.\n",
      "Extract patches: 18.00 seconds\n"
     ]
    },
    {
     "name": "stdout",
     "output_type": "stream",
     "text": [
      "(256, 1, 224, 224)\n"
     ]
    },
    {
     "name": "stderr",
     "output_type": "stream",
     "text": [
      "Compute features: 0.40 seconds\n"
     ]
    },
    {
     "name": "stdout",
     "output_type": "stream",
     "text": [
      "('MD661', 237)\n"
     ]
    },
    {
     "name": "stderr",
     "output_type": "stream",
     "text": [
      "Feature for (MD661,237,(5962,1087)) is not in pool. Re-compute.\n",
      "Feature for (MD661,237,(6027,957)) is not in pool. Re-compute.\n",
      "Feature for (MD661,237,(6027,1022)) is not in pool. Re-compute.\n",
      "Feature for (MD661,237,(6027,1087)) is not in pool. Re-compute.\n",
      "Feature for (MD661,237,(6092,892)) is not in pool. Re-compute.\n",
      "Feature for (MD661,237,(6092,957)) is not in pool. Re-compute.\n",
      "Feature for (MD661,237,(6092,1022)) is not in pool. Re-compute.\n",
      "Feature for (MD661,237,(6092,1087)) is not in pool. Re-compute.\n",
      "Feature for (MD661,237,(6157,892)) is not in pool. Re-compute.\n",
      "Feature for (MD661,237,(6157,957)) is not in pool. Re-compute.\n",
      "Feature for (MD661,237,(6157,1022)) is not in pool. Re-compute.\n",
      "Feature for (MD661,237,(6157,1087)) is not in pool. Re-compute.\n",
      "Feature for (MD661,237,(6222,892)) is not in pool. Re-compute.\n",
      "Feature for (MD661,237,(6222,957)) is not in pool. Re-compute.\n",
      "Feature for (MD661,237,(6222,1022)) is not in pool. Re-compute.\n",
      "Feature for (MD661,237,(6222,1087)) is not in pool. Re-compute.\n",
      "Feature for (MD661,237,(6287,892)) is not in pool. Re-compute.\n",
      "Feature for (MD661,237,(6287,957)) is not in pool. Re-compute.\n",
      "Feature for (MD661,237,(6287,1022)) is not in pool. Re-compute.\n",
      "Feature for (MD661,237,(6287,1087)) is not in pool. Re-compute.\n",
      "Feature for (MD661,237,(6287,1152)) is not in pool. Re-compute.\n",
      "Feature for (MD661,237,(6352,892)) is not in pool. Re-compute.\n",
      "Feature for (MD661,237,(6352,957)) is not in pool. Re-compute.\n",
      "Feature for (MD661,237,(6352,1022)) is not in pool. Re-compute.\n",
      "Feature for (MD661,237,(6352,1087)) is not in pool. Re-compute.\n",
      "Feature for (MD661,237,(6417,892)) is not in pool. Re-compute.\n",
      "Feature for (MD661,237,(6417,957)) is not in pool. Re-compute.\n",
      "Feature for (MD661,237,(6417,1022)) is not in pool. Re-compute.\n",
      "Feature for (MD661,237,(6417,1087)) is not in pool. Re-compute.\n",
      "Feature for (MD661,237,(6482,892)) is not in pool. Re-compute.\n",
      "Feature for (MD661,237,(6482,957)) is not in pool. Re-compute.\n",
      "Feature for (MD661,237,(6482,1022)) is not in pool. Re-compute.\n",
      "Feature for (MD661,237,(6482,1087)) is not in pool. Re-compute.\n",
      "Feature for (MD661,237,(6547,957)) is not in pool. Re-compute.\n",
      "Feature for (MD661,237,(6547,1022)) is not in pool. Re-compute.\n",
      "Feature for (MD661,237,(6547,1087)) is not in pool. Re-compute.\n",
      "Feature for (MD661,237,(6612,957)) is not in pool. Re-compute.\n",
      "Feature for (MD661,237,(6612,1022)) is not in pool. Re-compute.\n",
      "Feature for (MD661,237,(6612,1087)) is not in pool. Re-compute.\n",
      "Feature for (MD661,237,(6677,1022)) is not in pool. Re-compute.\n",
      "Feature for (MD661,237,(6677,1087)) is not in pool. Re-compute.\n",
      "Feature for (MD661,237,(6742,1022)) is not in pool. Re-compute.\n",
      "Not using image_cache.\n",
      "Load image: 18.70 seconds.\n",
      "Extract patches: 18.83 seconds\n"
     ]
    },
    {
     "name": "stdout",
     "output_type": "stream",
     "text": [
      "(256, 1, 224, 224)\n"
     ]
    },
    {
     "name": "stderr",
     "output_type": "stream",
     "text": [
      "Compute features: 0.38 seconds\n"
     ]
    },
    {
     "name": "stdout",
     "output_type": "stream",
     "text": [
      "('MD662', 215)\n"
     ]
    },
    {
     "name": "stderr",
     "output_type": "stream",
     "text": [
      "Feature for (MD662,215,(4857,1802)) is not in pool. Re-compute.\n",
      "Feature for (MD662,215,(4922,1802)) is not in pool. Re-compute.\n",
      "Feature for (MD662,215,(4922,1867)) is not in pool. Re-compute.\n",
      "Feature for (MD662,215,(4922,1932)) is not in pool. Re-compute.\n",
      "Feature for (MD662,215,(4987,1802)) is not in pool. Re-compute.\n",
      "Feature for (MD662,215,(4987,1867)) is not in pool. Re-compute.\n",
      "Feature for (MD662,215,(4987,1932)) is not in pool. Re-compute.\n",
      "Feature for (MD662,215,(5052,1737)) is not in pool. Re-compute.\n",
      "Feature for (MD662,215,(5052,1802)) is not in pool. Re-compute.\n",
      "Feature for (MD662,215,(5052,1867)) is not in pool. Re-compute.\n",
      "Feature for (MD662,215,(5052,1932)) is not in pool. Re-compute.\n",
      "Feature for (MD662,215,(5117,1737)) is not in pool. Re-compute.\n",
      "Feature for (MD662,215,(5117,1802)) is not in pool. Re-compute.\n",
      "Feature for (MD662,215,(5117,1867)) is not in pool. Re-compute.\n",
      "Feature for (MD662,215,(5117,1932)) is not in pool. Re-compute.\n",
      "Feature for (MD662,215,(5182,1737)) is not in pool. Re-compute.\n",
      "Feature for (MD662,215,(5182,1802)) is not in pool. Re-compute.\n",
      "Feature for (MD662,215,(5182,1867)) is not in pool. Re-compute.\n",
      "Feature for (MD662,215,(5247,1737)) is not in pool. Re-compute.\n",
      "Feature for (MD662,215,(5247,1802)) is not in pool. Re-compute.\n",
      "Feature for (MD662,215,(5247,1867)) is not in pool. Re-compute.\n",
      "Feature for (MD662,215,(5312,1672)) is not in pool. Re-compute.\n",
      "Feature for (MD662,215,(5312,1737)) is not in pool. Re-compute.\n",
      "Feature for (MD662,215,(5312,1802)) is not in pool. Re-compute.\n",
      "Feature for (MD662,215,(5312,1867)) is not in pool. Re-compute.\n",
      "Feature for (MD662,215,(5377,1672)) is not in pool. Re-compute.\n",
      "Feature for (MD662,215,(5377,1737)) is not in pool. Re-compute.\n",
      "Feature for (MD662,215,(5377,1802)) is not in pool. Re-compute.\n",
      "Feature for (MD662,215,(5442,1672)) is not in pool. Re-compute.\n",
      "Feature for (MD662,215,(5442,1737)) is not in pool. Re-compute.\n",
      "Feature for (MD662,215,(5442,1802)) is not in pool. Re-compute.\n",
      "Feature for (MD662,215,(5507,1672)) is not in pool. Re-compute.\n",
      "Feature for (MD662,215,(5507,1737)) is not in pool. Re-compute.\n",
      "Feature for (MD662,215,(5572,1737)) is not in pool. Re-compute.\n",
      "Not using image_cache.\n",
      "Load image: 16.93 seconds.\n",
      "Extract patches: 17.05 seconds\n"
     ]
    },
    {
     "name": "stdout",
     "output_type": "stream",
     "text": [
      "(256, 1, 224, 224)\n"
     ]
    },
    {
     "name": "stderr",
     "output_type": "stream",
     "text": [
      "Compute features: 0.38 seconds\n"
     ]
    },
    {
     "name": "stdout",
     "output_type": "stream",
     "text": [
      "('MD662', 280)\n",
      "('MD661', 256)\n"
     ]
    },
    {
     "name": "stderr",
     "output_type": "stream",
     "text": [
      "Feature for (MD661,256,(5572,1087)) is not in pool. Re-compute.\n",
      "Feature for (MD661,256,(5637,957)) is not in pool. Re-compute.\n",
      "Feature for (MD661,256,(5637,1022)) is not in pool. Re-compute.\n",
      "Feature for (MD661,256,(5637,1087)) is not in pool. Re-compute.\n",
      "Feature for (MD661,256,(5702,892)) is not in pool. Re-compute.\n",
      "Feature for (MD661,256,(5702,957)) is not in pool. Re-compute.\n",
      "Feature for (MD661,256,(5702,1022)) is not in pool. Re-compute.\n",
      "Feature for (MD661,256,(5702,1087)) is not in pool. Re-compute.\n",
      "Feature for (MD661,256,(5767,892)) is not in pool. Re-compute.\n",
      "Feature for (MD661,256,(5767,957)) is not in pool. Re-compute.\n",
      "Feature for (MD661,256,(5767,1022)) is not in pool. Re-compute.\n",
      "Feature for (MD661,256,(5767,1087)) is not in pool. Re-compute.\n",
      "Feature for (MD661,256,(5832,827)) is not in pool. Re-compute.\n",
      "Feature for (MD661,256,(5832,892)) is not in pool. Re-compute.\n",
      "Feature for (MD661,256,(5832,957)) is not in pool. Re-compute.\n",
      "Feature for (MD661,256,(5832,1022)) is not in pool. Re-compute.\n",
      "Feature for (MD661,256,(5832,1087)) is not in pool. Re-compute.\n",
      "Feature for (MD661,256,(5897,827)) is not in pool. Re-compute.\n",
      "Feature for (MD661,256,(5897,892)) is not in pool. Re-compute.\n",
      "Feature for (MD661,256,(5897,957)) is not in pool. Re-compute.\n",
      "Feature for (MD661,256,(5897,1022)) is not in pool. Re-compute.\n",
      "Feature for (MD661,256,(5897,1087)) is not in pool. Re-compute.\n",
      "Feature for (MD661,256,(5897,1152)) is not in pool. Re-compute.\n",
      "Feature for (MD661,256,(5962,827)) is not in pool. Re-compute.\n",
      "Feature for (MD661,256,(5962,892)) is not in pool. Re-compute.\n",
      "Feature for (MD661,256,(5962,957)) is not in pool. Re-compute.\n",
      "Feature for (MD661,256,(5962,1022)) is not in pool. Re-compute.\n",
      "Feature for (MD661,256,(5962,1087)) is not in pool. Re-compute.\n",
      "Feature for (MD661,256,(6027,827)) is not in pool. Re-compute.\n",
      "Feature for (MD661,256,(6027,892)) is not in pool. Re-compute.\n",
      "Feature for (MD661,256,(6027,957)) is not in pool. Re-compute.\n",
      "Feature for (MD661,256,(6027,1022)) is not in pool. Re-compute.\n",
      "Feature for (MD661,256,(6027,1087)) is not in pool. Re-compute.\n",
      "Feature for (MD661,256,(6092,762)) is not in pool. Re-compute.\n",
      "Feature for (MD661,256,(6092,827)) is not in pool. Re-compute.\n",
      "Feature for (MD661,256,(6092,892)) is not in pool. Re-compute.\n",
      "Feature for (MD661,256,(6092,957)) is not in pool. Re-compute.\n",
      "Feature for (MD661,256,(6092,1022)) is not in pool. Re-compute.\n",
      "Feature for (MD661,256,(6092,1087)) is not in pool. Re-compute.\n",
      "Feature for (MD661,256,(6157,762)) is not in pool. Re-compute.\n",
      "Feature for (MD661,256,(6157,827)) is not in pool. Re-compute.\n",
      "Feature for (MD661,256,(6157,892)) is not in pool. Re-compute.\n",
      "Feature for (MD661,256,(6157,957)) is not in pool. Re-compute.\n",
      "Feature for (MD661,256,(6157,1022)) is not in pool. Re-compute.\n",
      "Feature for (MD661,256,(6157,1087)) is not in pool. Re-compute.\n",
      "Feature for (MD661,256,(6222,762)) is not in pool. Re-compute.\n",
      "Feature for (MD661,256,(6222,827)) is not in pool. Re-compute.\n",
      "Feature for (MD661,256,(6222,892)) is not in pool. Re-compute.\n",
      "Feature for (MD661,256,(6222,957)) is not in pool. Re-compute.\n",
      "Feature for (MD661,256,(6222,1022)) is not in pool. Re-compute.\n",
      "Feature for (MD661,256,(6222,1087)) is not in pool. Re-compute.\n",
      "Feature for (MD661,256,(6287,762)) is not in pool. Re-compute.\n",
      "Feature for (MD661,256,(6287,827)) is not in pool. Re-compute.\n",
      "Feature for (MD661,256,(6287,892)) is not in pool. Re-compute.\n",
      "Feature for (MD661,256,(6352,827)) is not in pool. Re-compute.\n",
      "Feature for (MD661,256,(6352,892)) is not in pool. Re-compute.\n",
      "Feature for (MD661,256,(6417,827)) is not in pool. Re-compute.\n",
      "Feature for (MD661,256,(6417,892)) is not in pool. Re-compute.\n",
      "Feature for (MD661,256,(6547,957)) is not in pool. Re-compute.\n",
      "Not using image_cache.\n",
      "Load image: 17.86 seconds.\n",
      "Extract patches: 18.02 seconds\n"
     ]
    },
    {
     "name": "stdout",
     "output_type": "stream",
     "text": [
      "(256, 1, 224, 224)\n"
     ]
    },
    {
     "name": "stderr",
     "output_type": "stream",
     "text": [
      "Compute features: 0.39 seconds\n"
     ]
    },
    {
     "name": "stdout",
     "output_type": "stream",
     "text": [
      "('MD662', 228)\n"
     ]
    },
    {
     "name": "stderr",
     "output_type": "stream",
     "text": [
      "Feature for (MD662,228,(4857,1737)) is not in pool. Re-compute.\n",
      "Feature for (MD662,228,(4857,1802)) is not in pool. Re-compute.\n",
      "Feature for (MD662,228,(4922,1737)) is not in pool. Re-compute.\n",
      "Feature for (MD662,228,(4987,1737)) is not in pool. Re-compute.\n",
      "Feature for (MD662,228,(5052,1737)) is not in pool. Re-compute.\n",
      "Feature for (MD662,228,(5117,1737)) is not in pool. Re-compute.\n",
      "Feature for (MD662,228,(5182,1737)) is not in pool. Re-compute.\n",
      "Feature for (MD662,228,(5247,1737)) is not in pool. Re-compute.\n",
      "Feature for (MD662,228,(5247,1802)) is not in pool. Re-compute.\n",
      "Feature for (MD662,228,(5312,1737)) is not in pool. Re-compute.\n",
      "Feature for (MD662,228,(5312,1802)) is not in pool. Re-compute.\n",
      "Feature for (MD662,228,(5377,1737)) is not in pool. Re-compute.\n",
      "Feature for (MD662,228,(5377,1802)) is not in pool. Re-compute.\n",
      "Feature for (MD662,228,(5442,1737)) is not in pool. Re-compute.\n",
      "Feature for (MD662,228,(5507,1737)) is not in pool. Re-compute.\n",
      "Not using image_cache.\n",
      "Load image: 16.62 seconds.\n",
      "Extract patches: 16.72 seconds\n"
     ]
    },
    {
     "name": "stdout",
     "output_type": "stream",
     "text": [
      "(256, 1, 224, 224)\n"
     ]
    },
    {
     "name": "stderr",
     "output_type": "stream",
     "text": [
      "Compute features: 0.37 seconds\n"
     ]
    },
    {
     "name": "stdout",
     "output_type": "stream",
     "text": [
      "('MD661', 220)\n"
     ]
    },
    {
     "name": "stderr",
     "output_type": "stream",
     "text": [
      "Feature for (MD661,220,(6027,762)) is not in pool. Re-compute.\n",
      "Feature for (MD661,220,(6092,762)) is not in pool. Re-compute.\n",
      "Feature for (MD661,220,(6157,762)) is not in pool. Re-compute.\n",
      "Feature for (MD661,220,(6157,827)) is not in pool. Re-compute.\n",
      "Feature for (MD661,220,(6222,762)) is not in pool. Re-compute.\n",
      "Feature for (MD661,220,(6222,827)) is not in pool. Re-compute.\n",
      "Feature for (MD661,220,(6287,697)) is not in pool. Re-compute.\n",
      "Feature for (MD661,220,(6287,762)) is not in pool. Re-compute.\n",
      "Feature for (MD661,220,(6287,827)) is not in pool. Re-compute.\n",
      "Feature for (MD661,220,(6352,762)) is not in pool. Re-compute.\n",
      "Feature for (MD661,220,(6352,827)) is not in pool. Re-compute.\n",
      "Feature for (MD661,220,(6417,762)) is not in pool. Re-compute.\n",
      "Feature for (MD661,220,(6417,827)) is not in pool. Re-compute.\n",
      "Feature for (MD661,220,(7457,112)) is not in pool. Re-compute.\n",
      "Feature for (MD661,220,(7522,112)) is not in pool. Re-compute.\n",
      "Not using image_cache.\n",
      "Load image: 18.14 seconds.\n",
      "Extract patches: 18.24 seconds\n"
     ]
    },
    {
     "name": "stdout",
     "output_type": "stream",
     "text": [
      "(256, 1, 224, 224)\n"
     ]
    },
    {
     "name": "stderr",
     "output_type": "stream",
     "text": [
      "Compute features: 0.38 seconds\n"
     ]
    },
    {
     "name": "stdout",
     "output_type": "stream",
     "text": [
      "('MD662', 218)\n"
     ]
    },
    {
     "name": "stderr",
     "output_type": "stream",
     "text": [
      "Feature for (MD662,218,(4922,1802)) is not in pool. Re-compute.\n",
      "Feature for (MD662,218,(4922,1867)) is not in pool. Re-compute.\n",
      "Feature for (MD662,218,(4922,1932)) is not in pool. Re-compute.\n",
      "Feature for (MD662,218,(4922,1997)) is not in pool. Re-compute.\n",
      "Feature for (MD662,218,(4922,2062)) is not in pool. Re-compute.\n",
      "Feature for (MD662,218,(4922,2127)) is not in pool. Re-compute.\n",
      "Feature for (MD662,218,(4987,1802)) is not in pool. Re-compute.\n",
      "Feature for (MD662,218,(4987,1867)) is not in pool. Re-compute.\n",
      "Feature for (MD662,218,(4987,1932)) is not in pool. Re-compute.\n",
      "Feature for (MD662,218,(4987,1997)) is not in pool. Re-compute.\n",
      "Feature for (MD662,218,(4987,2062)) is not in pool. Re-compute.\n",
      "Feature for (MD662,218,(4987,2127)) is not in pool. Re-compute.\n",
      "Feature for (MD662,218,(5052,1802)) is not in pool. Re-compute.\n",
      "Feature for (MD662,218,(5052,1867)) is not in pool. Re-compute.\n",
      "Feature for (MD662,218,(5052,1932)) is not in pool. Re-compute.\n",
      "Feature for (MD662,218,(5052,1997)) is not in pool. Re-compute.\n",
      "Feature for (MD662,218,(5052,2062)) is not in pool. Re-compute.\n",
      "Feature for (MD662,218,(5117,1737)) is not in pool. Re-compute.\n",
      "Feature for (MD662,218,(5117,1802)) is not in pool. Re-compute.\n",
      "Feature for (MD662,218,(5117,1867)) is not in pool. Re-compute.\n",
      "Feature for (MD662,218,(5117,1932)) is not in pool. Re-compute.\n",
      "Feature for (MD662,218,(5117,1997)) is not in pool. Re-compute.\n",
      "Feature for (MD662,218,(5117,2062)) is not in pool. Re-compute.\n",
      "Feature for (MD662,218,(5182,1737)) is not in pool. Re-compute.\n",
      "Feature for (MD662,218,(5182,1802)) is not in pool. Re-compute.\n",
      "Feature for (MD662,218,(5182,1867)) is not in pool. Re-compute.\n",
      "Feature for (MD662,218,(5182,1932)) is not in pool. Re-compute.\n",
      "Feature for (MD662,218,(5182,1997)) is not in pool. Re-compute.\n",
      "Feature for (MD662,218,(5182,2062)) is not in pool. Re-compute.\n",
      "Feature for (MD662,218,(5247,1737)) is not in pool. Re-compute.\n",
      "Feature for (MD662,218,(5247,1802)) is not in pool. Re-compute.\n",
      "Feature for (MD662,218,(5247,1867)) is not in pool. Re-compute.\n",
      "Feature for (MD662,218,(5247,1932)) is not in pool. Re-compute.\n",
      "Feature for (MD662,218,(5247,1997)) is not in pool. Re-compute.\n",
      "Feature for (MD662,218,(5312,1737)) is not in pool. Re-compute.\n",
      "Feature for (MD662,218,(5312,1802)) is not in pool. Re-compute.\n",
      "Feature for (MD662,218,(5312,1867)) is not in pool. Re-compute.\n",
      "Feature for (MD662,218,(5312,1932)) is not in pool. Re-compute.\n",
      "Feature for (MD662,218,(5377,1737)) is not in pool. Re-compute.\n",
      "Feature for (MD662,218,(5377,1802)) is not in pool. Re-compute.\n",
      "Feature for (MD662,218,(5377,1867)) is not in pool. Re-compute.\n",
      "Feature for (MD662,218,(5377,1932)) is not in pool. Re-compute.\n",
      "Feature for (MD662,218,(5442,1737)) is not in pool. Re-compute.\n",
      "Feature for (MD662,218,(5442,1802)) is not in pool. Re-compute.\n",
      "Feature for (MD662,218,(5442,1867)) is not in pool. Re-compute.\n",
      "Feature for (MD662,218,(5507,1737)) is not in pool. Re-compute.\n",
      "Feature for (MD662,218,(5507,1802)) is not in pool. Re-compute.\n",
      "Feature for (MD662,218,(5507,1867)) is not in pool. Re-compute.\n",
      "Feature for (MD662,218,(5572,1737)) is not in pool. Re-compute.\n",
      "Feature for (MD662,218,(5572,1802)) is not in pool. Re-compute.\n",
      "Feature for (MD662,218,(5572,1867)) is not in pool. Re-compute.\n",
      "Feature for (MD662,218,(5637,1802)) is not in pool. Re-compute.\n",
      "Not using image_cache.\n",
      "Load image: 17.04 seconds.\n",
      "Extract patches: 17.17 seconds\n"
     ]
    },
    {
     "name": "stdout",
     "output_type": "stream",
     "text": [
      "(256, 1, 224, 224)\n"
     ]
    },
    {
     "name": "stderr",
     "output_type": "stream",
     "text": [
      "Compute features: 0.40 seconds\n"
     ]
    },
    {
     "name": "stdout",
     "output_type": "stream",
     "text": [
      "('MD662', 271)\n"
     ]
    },
    {
     "name": "stderr",
     "output_type": "stream",
     "text": [
      "Feature for (MD662,271,(4727,1932)) is not in pool. Re-compute.\n",
      "Feature for (MD662,271,(4727,1997)) is not in pool. Re-compute.\n",
      "Not using image_cache.\n",
      "Load image: 16.68 seconds.\n",
      "Extract patches: 16.76 seconds\n"
     ]
    },
    {
     "name": "stdout",
     "output_type": "stream",
     "text": [
      "(256, 1, 224, 224)\n"
     ]
    },
    {
     "name": "stderr",
     "output_type": "stream",
     "text": [
      "Compute features: 0.38 seconds\n"
     ]
    },
    {
     "name": "stdout",
     "output_type": "stream",
     "text": [
      "('MD661', 201)\n"
     ]
    },
    {
     "name": "stderr",
     "output_type": "stream",
     "text": [
      "Feature for (MD661,201,(5702,892)) is not in pool. Re-compute.\n",
      "Feature for (MD661,201,(5767,892)) is not in pool. Re-compute.\n",
      "Feature for (MD661,201,(5832,827)) is not in pool. Re-compute.\n",
      "Feature for (MD661,201,(5832,892)) is not in pool. Re-compute.\n",
      "Feature for (MD661,201,(5897,827)) is not in pool. Re-compute.\n",
      "Feature for (MD661,201,(5897,892)) is not in pool. Re-compute.\n",
      "Feature for (MD661,201,(5962,827)) is not in pool. Re-compute.\n",
      "Feature for (MD661,201,(5962,892)) is not in pool. Re-compute.\n",
      "Feature for (MD661,201,(6027,762)) is not in pool. Re-compute.\n",
      "Feature for (MD661,201,(6027,827)) is not in pool. Re-compute.\n",
      "Feature for (MD661,201,(6027,892)) is not in pool. Re-compute.\n",
      "Feature for (MD661,201,(6092,762)) is not in pool. Re-compute.\n",
      "Feature for (MD661,201,(6092,827)) is not in pool. Re-compute.\n",
      "Feature for (MD661,201,(6092,892)) is not in pool. Re-compute.\n",
      "Feature for (MD661,201,(6157,762)) is not in pool. Re-compute.\n",
      "Feature for (MD661,201,(6157,827)) is not in pool. Re-compute.\n",
      "Feature for (MD661,201,(6157,892)) is not in pool. Re-compute.\n",
      "Feature for (MD661,201,(6222,827)) is not in pool. Re-compute.\n",
      "Feature for (MD661,201,(7782,112)) is not in pool. Re-compute.\n",
      "Feature for (MD661,201,(7847,112)) is not in pool. Re-compute.\n",
      "Feature for (MD661,201,(7912,112)) is not in pool. Re-compute.\n",
      "Feature for (MD661,201,(7977,112)) is not in pool. Re-compute.\n",
      "Feature for (MD661,201,(8042,112)) is not in pool. Re-compute.\n",
      "Feature for (MD661,201,(8107,112)) is not in pool. Re-compute.\n",
      "Feature for (MD661,201,(8172,112)) is not in pool. Re-compute.\n",
      "Not using image_cache.\n",
      "Load image: 16.79 seconds.\n",
      "Extract patches: 16.92 seconds\n"
     ]
    },
    {
     "name": "stdout",
     "output_type": "stream",
     "text": [
      "(256, 1, 224, 224)\n"
     ]
    },
    {
     "name": "stderr",
     "output_type": "stream",
     "text": [
      "Compute features: 0.37 seconds\n"
     ]
    },
    {
     "name": "stdout",
     "output_type": "stream",
     "text": [
      "('MD662', 306)\n",
      "('MD661', 177)\n"
     ]
    },
    {
     "name": "stderr",
     "output_type": "stream",
     "text": [
      "Feature for (MD661,177,(6937,502)) is not in pool. Re-compute.\n",
      "Feature for (MD661,177,(7002,502)) is not in pool. Re-compute.\n",
      "Feature for (MD661,177,(7067,502)) is not in pool. Re-compute.\n",
      "Feature for (MD661,177,(7132,437)) is not in pool. Re-compute.\n",
      "Feature for (MD661,177,(7132,502)) is not in pool. Re-compute.\n",
      "Feature for (MD661,177,(7197,437)) is not in pool. Re-compute.\n",
      "Feature for (MD661,177,(7197,502)) is not in pool. Re-compute.\n",
      "Feature for (MD661,177,(7262,437)) is not in pool. Re-compute.\n",
      "Feature for (MD661,177,(7262,502)) is not in pool. Re-compute.\n",
      "Feature for (MD661,177,(7327,502)) is not in pool. Re-compute.\n",
      "Feature for (MD661,177,(7392,502)) is not in pool. Re-compute.\n",
      "Feature for (MD661,177,(7457,502)) is not in pool. Re-compute.\n",
      "Not using image_cache.\n",
      "Load image: 17.43 seconds.\n",
      "Extract patches: 17.54 seconds\n"
     ]
    },
    {
     "name": "stdout",
     "output_type": "stream",
     "text": [
      "(256, 1, 224, 224)\n"
     ]
    },
    {
     "name": "stderr",
     "output_type": "stream",
     "text": [
      "Compute features: 0.39 seconds\n"
     ]
    },
    {
     "name": "stdout",
     "output_type": "stream",
     "text": [
      "('MD662', 289)\n",
      "('MD661', 243)\n"
     ]
    },
    {
     "name": "stderr",
     "output_type": "stream",
     "text": [
      "Feature for (MD661,243,(5832,1022)) is not in pool. Re-compute.\n",
      "Feature for (MD661,243,(5897,892)) is not in pool. Re-compute.\n",
      "Feature for (MD661,243,(5897,957)) is not in pool. Re-compute.\n",
      "Feature for (MD661,243,(5897,1022)) is not in pool. Re-compute.\n",
      "Feature for (MD661,243,(5962,892)) is not in pool. Re-compute.\n",
      "Feature for (MD661,243,(5962,957)) is not in pool. Re-compute.\n",
      "Feature for (MD661,243,(5962,1022)) is not in pool. Re-compute.\n",
      "Feature for (MD661,243,(6027,892)) is not in pool. Re-compute.\n",
      "Feature for (MD661,243,(6027,957)) is not in pool. Re-compute.\n",
      "Feature for (MD661,243,(6027,1022)) is not in pool. Re-compute.\n",
      "Feature for (MD661,243,(6092,827)) is not in pool. Re-compute.\n",
      "Feature for (MD661,243,(6092,892)) is not in pool. Re-compute.\n",
      "Feature for (MD661,243,(6092,957)) is not in pool. Re-compute.\n",
      "Feature for (MD661,243,(6092,1022)) is not in pool. Re-compute.\n",
      "Feature for (MD661,243,(6157,827)) is not in pool. Re-compute.\n",
      "Feature for (MD661,243,(6157,892)) is not in pool. Re-compute.\n",
      "Feature for (MD661,243,(6157,957)) is not in pool. Re-compute.\n",
      "Feature for (MD661,243,(6157,1022)) is not in pool. Re-compute.\n",
      "Feature for (MD661,243,(6222,827)) is not in pool. Re-compute.\n",
      "Feature for (MD661,243,(6222,892)) is not in pool. Re-compute.\n",
      "Feature for (MD661,243,(6222,957)) is not in pool. Re-compute.\n",
      "Feature for (MD661,243,(6222,1022)) is not in pool. Re-compute.\n",
      "Feature for (MD661,243,(6287,827)) is not in pool. Re-compute.\n",
      "Feature for (MD661,243,(6287,892)) is not in pool. Re-compute.\n",
      "Feature for (MD661,243,(6287,957)) is not in pool. Re-compute.\n",
      "Feature for (MD661,243,(6287,1022)) is not in pool. Re-compute.\n",
      "Feature for (MD661,243,(6287,1087)) is not in pool. Re-compute.\n",
      "Feature for (MD661,243,(6352,827)) is not in pool. Re-compute.\n",
      "Feature for (MD661,243,(6352,892)) is not in pool. Re-compute.\n",
      "Feature for (MD661,243,(6352,957)) is not in pool. Re-compute.\n",
      "Feature for (MD661,243,(6352,1022)) is not in pool. Re-compute.\n",
      "Feature for (MD661,243,(6352,1087)) is not in pool. Re-compute.\n",
      "Feature for (MD661,243,(6417,827)) is not in pool. Re-compute.\n",
      "Feature for (MD661,243,(6417,892)) is not in pool. Re-compute.\n",
      "Feature for (MD661,243,(6417,957)) is not in pool. Re-compute.\n",
      "Feature for (MD661,243,(6417,1022)) is not in pool. Re-compute.\n",
      "Feature for (MD661,243,(6417,1087)) is not in pool. Re-compute.\n",
      "Feature for (MD661,243,(6482,892)) is not in pool. Re-compute.\n",
      "Feature for (MD661,243,(6482,957)) is not in pool. Re-compute.\n",
      "Feature for (MD661,243,(6482,1022)) is not in pool. Re-compute.\n",
      "Feature for (MD661,243,(6482,1087)) is not in pool. Re-compute.\n",
      "Feature for (MD661,243,(6547,957)) is not in pool. Re-compute.\n",
      "Feature for (MD661,243,(6547,1022)) is not in pool. Re-compute.\n",
      "Feature for (MD661,243,(6612,957)) is not in pool. Re-compute.\n",
      "Feature for (MD661,243,(6612,1022)) is not in pool. Re-compute.\n",
      "Feature for (MD661,243,(6677,1022)) is not in pool. Re-compute.\n",
      "Not using image_cache.\n",
      "Load image: 18.94 seconds.\n",
      "Extract patches: 19.09 seconds\n"
     ]
    },
    {
     "name": "stdout",
     "output_type": "stream",
     "text": [
      "(256, 1, 224, 224)\n"
     ]
    },
    {
     "name": "stderr",
     "output_type": "stream",
     "text": [
      "Compute features: 0.38 seconds\n"
     ]
    },
    {
     "name": "stdout",
     "output_type": "stream",
     "text": [
      "('MD662', 227)\n"
     ]
    },
    {
     "name": "stderr",
     "output_type": "stream",
     "text": [
      "Feature for (MD662,227,(5052,1737)) is not in pool. Re-compute.\n",
      "Feature for (MD662,227,(5117,1737)) is not in pool. Re-compute.\n",
      "Feature for (MD662,227,(5182,1737)) is not in pool. Re-compute.\n",
      "Feature for (MD662,227,(5247,1737)) is not in pool. Re-compute.\n",
      "Feature for (MD662,227,(5247,1802)) is not in pool. Re-compute.\n",
      "Feature for (MD662,227,(5312,1737)) is not in pool. Re-compute.\n",
      "Feature for (MD662,227,(5312,1802)) is not in pool. Re-compute.\n",
      "Feature for (MD662,227,(5377,1737)) is not in pool. Re-compute.\n",
      "Feature for (MD662,227,(5442,1737)) is not in pool. Re-compute.\n",
      "Feature for (MD662,227,(5507,1737)) is not in pool. Re-compute.\n",
      "Not using image_cache.\n",
      "Load image: 17.26 seconds.\n",
      "Extract patches: 17.34 seconds\n"
     ]
    },
    {
     "name": "stdout",
     "output_type": "stream",
     "text": [
      "(256, 1, 224, 224)\n"
     ]
    },
    {
     "name": "stderr",
     "output_type": "stream",
     "text": [
      "Compute features: 0.37 seconds\n"
     ]
    },
    {
     "name": "stdout",
     "output_type": "stream",
     "text": [
      "('MD661', 281)\n"
     ]
    },
    {
     "name": "stderr",
     "output_type": "stream",
     "text": [
      "Feature for (MD661,281,(5702,1347)) is not in pool. Re-compute.\n",
      "Feature for (MD661,281,(5767,1347)) is not in pool. Re-compute.\n",
      "Feature for (MD661,281,(5832,1347)) is not in pool. Re-compute.\n",
      "Feature for (MD661,281,(5832,1412)) is not in pool. Re-compute.\n",
      "Feature for (MD661,281,(5897,1347)) is not in pool. Re-compute.\n",
      "Feature for (MD661,281,(5897,1412)) is not in pool. Re-compute.\n",
      "Feature for (MD661,281,(5897,1477)) is not in pool. Re-compute.\n",
      "Feature for (MD661,281,(5962,1282)) is not in pool. Re-compute.\n",
      "Feature for (MD661,281,(5962,1347)) is not in pool. Re-compute.\n",
      "Feature for (MD661,281,(5962,1412)) is not in pool. Re-compute.\n",
      "Feature for (MD661,281,(6027,1282)) is not in pool. Re-compute.\n",
      "Feature for (MD661,281,(6027,1347)) is not in pool. Re-compute.\n",
      "Not using image_cache.\n",
      "Load image: 19.31 seconds.\n",
      "Extract patches: 19.41 seconds\n"
     ]
    },
    {
     "name": "stdout",
     "output_type": "stream",
     "text": [
      "(256, 1, 224, 224)\n"
     ]
    },
    {
     "name": "stderr",
     "output_type": "stream",
     "text": [
      "Compute features: 0.39 seconds\n"
     ]
    },
    {
     "name": "stdout",
     "output_type": "stream",
     "text": [
      "('MD661', 224)\n"
     ]
    },
    {
     "name": "stderr",
     "output_type": "stream",
     "text": [
      "Feature for (MD661,224,(6222,762)) is not in pool. Re-compute.\n",
      "Feature for (MD661,224,(6287,762)) is not in pool. Re-compute.\n",
      "Feature for (MD661,224,(6287,827)) is not in pool. Re-compute.\n",
      "Feature for (MD661,224,(6352,827)) is not in pool. Re-compute.\n",
      "Feature for (MD661,224,(6417,827)) is not in pool. Re-compute.\n",
      "Feature for (MD661,224,(6482,827)) is not in pool. Re-compute.\n",
      "Not using image_cache.\n",
      "Load image: 18.70 seconds.\n",
      "Extract patches: 18.80 seconds\n"
     ]
    },
    {
     "name": "stdout",
     "output_type": "stream",
     "text": [
      "(256, 1, 224, 224)\n"
     ]
    },
    {
     "name": "stderr",
     "output_type": "stream",
     "text": [
      "Compute features: 0.37 seconds\n"
     ]
    },
    {
     "name": "stdout",
     "output_type": "stream",
     "text": [
      "('MD662', 148)\n",
      "('MD661', 278)\n"
     ]
    },
    {
     "name": "stderr",
     "output_type": "stream",
     "text": [
      "Feature for (MD661,278,(5572,1282)) is not in pool. Re-compute.\n",
      "Feature for (MD661,278,(5572,1542)) is not in pool. Re-compute.\n",
      "Feature for (MD661,278,(5637,1282)) is not in pool. Re-compute.\n",
      "Feature for (MD661,278,(5637,1347)) is not in pool. Re-compute.\n",
      "Feature for (MD661,278,(5637,1477)) is not in pool. Re-compute.\n",
      "Feature for (MD661,278,(5637,1542)) is not in pool. Re-compute.\n",
      "Feature for (MD661,278,(5637,1607)) is not in pool. Re-compute.\n",
      "Feature for (MD661,278,(5702,1282)) is not in pool. Re-compute.\n",
      "Feature for (MD661,278,(5702,1347)) is not in pool. Re-compute.\n",
      "Feature for (MD661,278,(5702,1477)) is not in pool. Re-compute.\n",
      "Feature for (MD661,278,(5702,1542)) is not in pool. Re-compute.\n",
      "Feature for (MD661,278,(5702,1607)) is not in pool. Re-compute.\n",
      "Feature for (MD661,278,(5767,1282)) is not in pool. Re-compute.\n",
      "Feature for (MD661,278,(5767,1347)) is not in pool. Re-compute.\n",
      "Feature for (MD661,278,(5767,1412)) is not in pool. Re-compute.\n",
      "Feature for (MD661,278,(5767,1477)) is not in pool. Re-compute.\n",
      "Feature for (MD661,278,(5767,1542)) is not in pool. Re-compute.\n",
      "Feature for (MD661,278,(5767,1607)) is not in pool. Re-compute.\n",
      "Feature for (MD661,278,(5767,1672)) is not in pool. Re-compute.\n",
      "Feature for (MD661,278,(5832,1217)) is not in pool. Re-compute.\n",
      "Feature for (MD661,278,(5832,1282)) is not in pool. Re-compute.\n",
      "Feature for (MD661,278,(5832,1347)) is not in pool. Re-compute.\n",
      "Feature for (MD661,278,(5832,1412)) is not in pool. Re-compute.\n",
      "Feature for (MD661,278,(5832,1477)) is not in pool. Re-compute.\n",
      "Feature for (MD661,278,(5832,1542)) is not in pool. Re-compute.\n",
      "Feature for (MD661,278,(5832,1607)) is not in pool. Re-compute.\n",
      "Feature for (MD661,278,(5897,1217)) is not in pool. Re-compute.\n",
      "Feature for (MD661,278,(5897,1282)) is not in pool. Re-compute.\n",
      "Feature for (MD661,278,(5897,1347)) is not in pool. Re-compute.\n",
      "Feature for (MD661,278,(5897,1412)) is not in pool. Re-compute.\n",
      "Feature for (MD661,278,(5897,1477)) is not in pool. Re-compute.\n",
      "Feature for (MD661,278,(5962,1217)) is not in pool. Re-compute.\n",
      "Feature for (MD661,278,(5962,1282)) is not in pool. Re-compute.\n",
      "Feature for (MD661,278,(5962,1347)) is not in pool. Re-compute.\n",
      "Feature for (MD661,278,(6027,1217)) is not in pool. Re-compute.\n",
      "Feature for (MD661,278,(6027,1282)) is not in pool. Re-compute.\n",
      "Feature for (MD661,278,(6092,1217)) is not in pool. Re-compute.\n",
      "Not using image_cache.\n",
      "Load image: 17.26 seconds.\n",
      "Extract patches: 17.40 seconds\n"
     ]
    },
    {
     "name": "stdout",
     "output_type": "stream",
     "text": [
      "(256, 1, 224, 224)\n"
     ]
    },
    {
     "name": "stderr",
     "output_type": "stream",
     "text": [
      "Compute features: 0.38 seconds\n"
     ]
    },
    {
     "name": "stdout",
     "output_type": "stream",
     "text": [
      "('MD661', 157)\n"
     ]
    },
    {
     "name": "stderr",
     "output_type": "stream",
     "text": [
      "Feature for (MD661,157,(7067,1087)) is not in pool. Re-compute.\n",
      "Feature for (MD661,157,(7132,1022)) is not in pool. Re-compute.\n",
      "Not using image_cache.\n",
      "Load image: 15.20 seconds.\n",
      "Extract patches: 15.29 seconds\n"
     ]
    },
    {
     "name": "stdout",
     "output_type": "stream",
     "text": [
      "(256, 1, 224, 224)\n"
     ]
    },
    {
     "name": "stderr",
     "output_type": "stream",
     "text": [
      "Compute features: 0.39 seconds\n"
     ]
    },
    {
     "name": "stdout",
     "output_type": "stream",
     "text": [
      "('MD662', 261)\n"
     ]
    },
    {
     "name": "stderr",
     "output_type": "stream",
     "text": [
      "Feature for (MD662,261,(4337,1932)) is not in pool. Re-compute.\n",
      "Feature for (MD662,261,(4402,1867)) is not in pool. Re-compute.\n",
      "Feature for (MD662,261,(4402,1932)) is not in pool. Re-compute.\n",
      "Feature for (MD662,261,(4402,1997)) is not in pool. Re-compute.\n",
      "Feature for (MD662,261,(4402,2062)) is not in pool. Re-compute.\n",
      "Feature for (MD662,261,(4467,1867)) is not in pool. Re-compute.\n",
      "Feature for (MD662,261,(4467,1932)) is not in pool. Re-compute.\n",
      "Feature for (MD662,261,(4467,1997)) is not in pool. Re-compute.\n",
      "Feature for (MD662,261,(4467,2062)) is not in pool. Re-compute.\n",
      "Feature for (MD662,261,(4532,1867)) is not in pool. Re-compute.\n",
      "Feature for (MD662,261,(4532,1932)) is not in pool. Re-compute.\n",
      "Feature for (MD662,261,(4532,1997)) is not in pool. Re-compute.\n",
      "Feature for (MD662,261,(4532,2062)) is not in pool. Re-compute.\n",
      "Feature for (MD662,261,(4597,1802)) is not in pool. Re-compute.\n",
      "Feature for (MD662,261,(4597,1867)) is not in pool. Re-compute.\n",
      "Feature for (MD662,261,(4597,1932)) is not in pool. Re-compute.\n",
      "Feature for (MD662,261,(4597,1997)) is not in pool. Re-compute.\n",
      "Feature for (MD662,261,(4597,2062)) is not in pool. Re-compute.\n",
      "Feature for (MD662,261,(4662,1802)) is not in pool. Re-compute.\n",
      "Feature for (MD662,261,(4662,1867)) is not in pool. Re-compute.\n",
      "Feature for (MD662,261,(4662,1932)) is not in pool. Re-compute.\n",
      "Feature for (MD662,261,(4662,1997)) is not in pool. Re-compute.\n",
      "Feature for (MD662,261,(4662,2062)) is not in pool. Re-compute.\n",
      "Feature for (MD662,261,(4727,1802)) is not in pool. Re-compute.\n",
      "Feature for (MD662,261,(4727,1867)) is not in pool. Re-compute.\n",
      "Feature for (MD662,261,(4727,1932)) is not in pool. Re-compute.\n",
      "Feature for (MD662,261,(4727,1997)) is not in pool. Re-compute.\n",
      "Feature for (MD662,261,(4792,1802)) is not in pool. Re-compute.\n",
      "Feature for (MD662,261,(4792,1867)) is not in pool. Re-compute.\n",
      "Feature for (MD662,261,(4857,1737)) is not in pool. Re-compute.\n",
      "Not using image_cache.\n",
      "Load image: 16.30 seconds.\n",
      "Extract patches: 16.42 seconds\n"
     ]
    },
    {
     "name": "stdout",
     "output_type": "stream",
     "text": [
      "(256, 1, 224, 224)\n"
     ]
    },
    {
     "name": "stderr",
     "output_type": "stream",
     "text": [
      "Compute features: 0.38 seconds\n"
     ]
    },
    {
     "name": "stdout",
     "output_type": "stream",
     "text": [
      "('MD662', 146)\n",
      "('MD662', 199)\n"
     ]
    },
    {
     "name": "stderr",
     "output_type": "stream",
     "text": [
      "Feature for (MD662,199,(4727,1802)) is not in pool. Re-compute.\n",
      "Feature for (MD662,199,(4727,1867)) is not in pool. Re-compute.\n",
      "Feature for (MD662,199,(4727,1932)) is not in pool. Re-compute.\n",
      "Feature for (MD662,199,(4792,1802)) is not in pool. Re-compute.\n",
      "Feature for (MD662,199,(4792,1867)) is not in pool. Re-compute.\n",
      "Feature for (MD662,199,(4792,1932)) is not in pool. Re-compute.\n",
      "Feature for (MD662,199,(4857,1802)) is not in pool. Re-compute.\n",
      "Feature for (MD662,199,(4857,1867)) is not in pool. Re-compute.\n",
      "Feature for (MD662,199,(4922,1802)) is not in pool. Re-compute.\n",
      "Feature for (MD662,199,(4922,1867)) is not in pool. Re-compute.\n",
      "Feature for (MD662,199,(4987,1737)) is not in pool. Re-compute.\n",
      "Feature for (MD662,199,(4987,1802)) is not in pool. Re-compute.\n",
      "Feature for (MD662,199,(4987,1867)) is not in pool. Re-compute.\n",
      "Feature for (MD662,199,(5052,1737)) is not in pool. Re-compute.\n",
      "Feature for (MD662,199,(5052,1802)) is not in pool. Re-compute.\n",
      "Feature for (MD662,199,(5052,1867)) is not in pool. Re-compute.\n",
      "Feature for (MD662,199,(5117,1672)) is not in pool. Re-compute.\n",
      "Feature for (MD662,199,(5117,1737)) is not in pool. Re-compute.\n",
      "Feature for (MD662,199,(5117,1802)) is not in pool. Re-compute.\n",
      "Feature for (MD662,199,(5117,1867)) is not in pool. Re-compute.\n",
      "Feature for (MD662,199,(5117,1932)) is not in pool. Re-compute.\n",
      "Feature for (MD662,199,(5182,1672)) is not in pool. Re-compute.\n",
      "Feature for (MD662,199,(5182,1737)) is not in pool. Re-compute.\n",
      "Feature for (MD662,199,(5182,1802)) is not in pool. Re-compute.\n",
      "Feature for (MD662,199,(5182,1867)) is not in pool. Re-compute.\n",
      "Feature for (MD662,199,(5247,1672)) is not in pool. Re-compute.\n",
      "Feature for (MD662,199,(5247,1737)) is not in pool. Re-compute.\n",
      "Feature for (MD662,199,(5247,1802)) is not in pool. Re-compute.\n",
      "Feature for (MD662,199,(5247,1867)) is not in pool. Re-compute.\n",
      "Feature for (MD662,199,(5312,1672)) is not in pool. Re-compute.\n",
      "Feature for (MD662,199,(5312,1737)) is not in pool. Re-compute.\n",
      "Feature for (MD662,199,(5377,1607)) is not in pool. Re-compute.\n",
      "Feature for (MD662,199,(5377,1672)) is not in pool. Re-compute.\n",
      "Feature for (MD662,199,(5377,1737)) is not in pool. Re-compute.\n",
      "Feature for (MD662,199,(5442,1672)) is not in pool. Re-compute.\n",
      "Feature for (MD662,199,(5507,1672)) is not in pool. Re-compute.\n",
      "Not using image_cache.\n",
      "Load image: 13.91 seconds.\n",
      "Extract patches: 14.05 seconds\n"
     ]
    },
    {
     "name": "stdout",
     "output_type": "stream",
     "text": [
      "(256, 1, 224, 224)\n"
     ]
    },
    {
     "name": "stderr",
     "output_type": "stream",
     "text": [
      "Compute features: 0.38 seconds\n"
     ]
    },
    {
     "name": "stdout",
     "output_type": "stream",
     "text": [
      "('MD661', 304)\n",
      "('MD661', 204)\n"
     ]
    },
    {
     "name": "stderr",
     "output_type": "stream",
     "text": [
      "Feature for (MD661,204,(5637,892)) is not in pool. Re-compute.\n",
      "Feature for (MD661,204,(5702,892)) is not in pool. Re-compute.\n",
      "Feature for (MD661,204,(5767,827)) is not in pool. Re-compute.\n",
      "Feature for (MD661,204,(5767,892)) is not in pool. Re-compute.\n",
      "Feature for (MD661,204,(5832,762)) is not in pool. Re-compute.\n",
      "Feature for (MD661,204,(5832,827)) is not in pool. Re-compute.\n",
      "Feature for (MD661,204,(5832,892)) is not in pool. Re-compute.\n",
      "Feature for (MD661,204,(5897,762)) is not in pool. Re-compute.\n",
      "Feature for (MD661,204,(5897,827)) is not in pool. Re-compute.\n",
      "Feature for (MD661,204,(5897,892)) is not in pool. Re-compute.\n",
      "Feature for (MD661,204,(5962,762)) is not in pool. Re-compute.\n",
      "Feature for (MD661,204,(5962,827)) is not in pool. Re-compute.\n",
      "Feature for (MD661,204,(5962,892)) is not in pool. Re-compute.\n",
      "Feature for (MD661,204,(6027,762)) is not in pool. Re-compute.\n",
      "Feature for (MD661,204,(6027,827)) is not in pool. Re-compute.\n",
      "Feature for (MD661,204,(6027,892)) is not in pool. Re-compute.\n",
      "Feature for (MD661,204,(6092,762)) is not in pool. Re-compute.\n",
      "Feature for (MD661,204,(6092,827)) is not in pool. Re-compute.\n",
      "Feature for (MD661,204,(6092,892)) is not in pool. Re-compute.\n",
      "Feature for (MD661,204,(6157,762)) is not in pool. Re-compute.\n",
      "Feature for (MD661,204,(6157,827)) is not in pool. Re-compute.\n",
      "Feature for (MD661,204,(6157,892)) is not in pool. Re-compute.\n",
      "Feature for (MD661,204,(6222,762)) is not in pool. Re-compute.\n",
      "Feature for (MD661,204,(6222,827)) is not in pool. Re-compute.\n",
      "Feature for (MD661,204,(6287,762)) is not in pool. Re-compute.\n",
      "Feature for (MD661,204,(7717,112)) is not in pool. Re-compute.\n",
      "Feature for (MD661,204,(7782,112)) is not in pool. Re-compute.\n",
      "Feature for (MD661,204,(7847,112)) is not in pool. Re-compute.\n",
      "Feature for (MD661,204,(7912,112)) is not in pool. Re-compute.\n",
      "Feature for (MD661,204,(7977,112)) is not in pool. Re-compute.\n",
      "Feature for (MD661,204,(8042,112)) is not in pool. Re-compute.\n",
      "Feature for (MD661,204,(8107,112)) is not in pool. Re-compute.\n",
      "Not using image_cache.\n",
      "Load image: 18.80 seconds.\n",
      "Extract patches: 18.94 seconds\n"
     ]
    },
    {
     "name": "stdout",
     "output_type": "stream",
     "text": [
      "(256, 1, 224, 224)\n"
     ]
    },
    {
     "name": "stderr",
     "output_type": "stream",
     "text": [
      "Compute features: 0.39 seconds\n"
     ]
    },
    {
     "name": "stdout",
     "output_type": "stream",
     "text": [
      "('MD662', 202)\n"
     ]
    },
    {
     "name": "stderr",
     "output_type": "stream",
     "text": [
      "Feature for (MD662,202,(4727,1802)) is not in pool. Re-compute.\n",
      "Feature for (MD662,202,(4727,1867)) is not in pool. Re-compute.\n",
      "Feature for (MD662,202,(4792,1737)) is not in pool. Re-compute.\n",
      "Feature for (MD662,202,(4792,1802)) is not in pool. Re-compute.\n",
      "Feature for (MD662,202,(4792,1867)) is not in pool. Re-compute.\n",
      "Feature for (MD662,202,(4857,1737)) is not in pool. Re-compute.\n",
      "Feature for (MD662,202,(4857,1802)) is not in pool. Re-compute.\n",
      "Feature for (MD662,202,(4857,1867)) is not in pool. Re-compute.\n",
      "Feature for (MD662,202,(4922,1737)) is not in pool. Re-compute.\n",
      "Feature for (MD662,202,(4922,1802)) is not in pool. Re-compute.\n",
      "Feature for (MD662,202,(4987,1737)) is not in pool. Re-compute.\n",
      "Feature for (MD662,202,(4987,1802)) is not in pool. Re-compute.\n",
      "Feature for (MD662,202,(5052,1737)) is not in pool. Re-compute.\n",
      "Feature for (MD662,202,(5052,1802)) is not in pool. Re-compute.\n",
      "Feature for (MD662,202,(5052,1867)) is not in pool. Re-compute.\n",
      "Feature for (MD662,202,(5117,1672)) is not in pool. Re-compute.\n",
      "Feature for (MD662,202,(5117,1737)) is not in pool. Re-compute.\n",
      "Feature for (MD662,202,(5117,1802)) is not in pool. Re-compute.\n",
      "Feature for (MD662,202,(5117,1867)) is not in pool. Re-compute.\n",
      "Feature for (MD662,202,(5182,1672)) is not in pool. Re-compute.\n",
      "Feature for (MD662,202,(5182,1737)) is not in pool. Re-compute.\n",
      "Feature for (MD662,202,(5182,1802)) is not in pool. Re-compute.\n",
      "Feature for (MD662,202,(5182,1867)) is not in pool. Re-compute.\n",
      "Feature for (MD662,202,(5247,1672)) is not in pool. Re-compute.\n",
      "Feature for (MD662,202,(5247,1737)) is not in pool. Re-compute.\n",
      "Feature for (MD662,202,(5247,1802)) is not in pool. Re-compute.\n",
      "Feature for (MD662,202,(5247,1867)) is not in pool. Re-compute.\n",
      "Feature for (MD662,202,(5312,1607)) is not in pool. Re-compute.\n",
      "Feature for (MD662,202,(5312,1672)) is not in pool. Re-compute.\n",
      "Feature for (MD662,202,(5312,1737)) is not in pool. Re-compute.\n",
      "Feature for (MD662,202,(5377,1672)) is not in pool. Re-compute.\n",
      "Feature for (MD662,202,(5442,1607)) is not in pool. Re-compute.\n",
      "Feature for (MD662,202,(5442,1672)) is not in pool. Re-compute.\n",
      "Feature for (MD662,202,(5507,1672)) is not in pool. Re-compute.\n",
      "Not using image_cache.\n",
      "Load image: 15.86 seconds.\n",
      "Extract patches: 15.98 seconds\n"
     ]
    },
    {
     "name": "stdout",
     "output_type": "stream",
     "text": [
      "(256, 1, 224, 224)\n"
     ]
    },
    {
     "name": "stderr",
     "output_type": "stream",
     "text": [
      "Compute features: 0.38 seconds\n"
     ]
    },
    {
     "name": "stdout",
     "output_type": "stream",
     "text": [
      "('MD662', 184)\n"
     ]
    },
    {
     "name": "stderr",
     "output_type": "stream",
     "text": [
      "Feature for (MD662,184,(4727,1997)) is not in pool. Re-compute.\n",
      "Feature for (MD662,184,(4727,2062)) is not in pool. Re-compute.\n",
      "Feature for (MD662,184,(4792,1997)) is not in pool. Re-compute.\n",
      "Feature for (MD662,184,(4792,2062)) is not in pool. Re-compute.\n",
      "Feature for (MD662,184,(4857,1997)) is not in pool. Re-compute.\n",
      "Feature for (MD662,184,(4857,2062)) is not in pool. Re-compute.\n",
      "Feature for (MD662,184,(4922,1997)) is not in pool. Re-compute.\n",
      "Feature for (MD662,184,(4922,2062)) is not in pool. Re-compute.\n",
      "Feature for (MD662,184,(4987,1997)) is not in pool. Re-compute.\n",
      "Feature for (MD662,184,(4987,2062)) is not in pool. Re-compute.\n",
      "Feature for (MD662,184,(5052,1997)) is not in pool. Re-compute.\n",
      "Feature for (MD662,184,(5052,2062)) is not in pool. Re-compute.\n",
      "Feature for (MD662,184,(5117,1932)) is not in pool. Re-compute.\n",
      "Feature for (MD662,184,(5117,1997)) is not in pool. Re-compute.\n",
      "Feature for (MD662,184,(5182,1932)) is not in pool. Re-compute.\n",
      "Not using image_cache.\n",
      "Load image: 13.21 seconds.\n",
      "Extract patches: 13.31 seconds\n"
     ]
    },
    {
     "name": "stdout",
     "output_type": "stream",
     "text": [
      "(256, 1, 224, 224)\n"
     ]
    },
    {
     "name": "stderr",
     "output_type": "stream",
     "text": [
      "Compute features: 0.37 seconds\n"
     ]
    },
    {
     "name": "stdout",
     "output_type": "stream",
     "text": [
      "('MD661', 180)\n"
     ]
    },
    {
     "name": "stderr",
     "output_type": "stream",
     "text": [
      "Feature for (MD661,180,(6937,502)) is not in pool. Re-compute.\n",
      "Feature for (MD661,180,(7002,502)) is not in pool. Re-compute.\n",
      "Feature for (MD661,180,(7067,437)) is not in pool. Re-compute.\n",
      "Feature for (MD661,180,(7067,502)) is not in pool. Re-compute.\n",
      "Feature for (MD661,180,(7132,437)) is not in pool. Re-compute.\n",
      "Feature for (MD661,180,(7132,502)) is not in pool. Re-compute.\n",
      "Feature for (MD661,180,(7197,437)) is not in pool. Re-compute.\n",
      "Feature for (MD661,180,(7197,502)) is not in pool. Re-compute.\n",
      "Feature for (MD661,180,(7262,437)) is not in pool. Re-compute.\n",
      "Feature for (MD661,180,(7262,502)) is not in pool. Re-compute.\n",
      "Feature for (MD661,180,(7327,437)) is not in pool. Re-compute.\n",
      "Feature for (MD661,180,(7327,502)) is not in pool. Re-compute.\n",
      "Feature for (MD661,180,(7392,437)) is not in pool. Re-compute.\n",
      "Feature for (MD661,180,(7392,502)) is not in pool. Re-compute.\n",
      "Feature for (MD661,180,(7457,502)) is not in pool. Re-compute.\n",
      "Not using image_cache.\n",
      "Load image: 16.63 seconds.\n",
      "Extract patches: 16.74 seconds\n"
     ]
    },
    {
     "name": "stdout",
     "output_type": "stream",
     "text": [
      "(256, 1, 224, 224)\n"
     ]
    },
    {
     "name": "stderr",
     "output_type": "stream",
     "text": [
      "Compute features: 0.39 seconds\n"
     ]
    },
    {
     "name": "stdout",
     "output_type": "stream",
     "text": [
      "('MD662', 237)\n"
     ]
    },
    {
     "name": "stderr",
     "output_type": "stream",
     "text": [
      "Feature for (MD662,237,(4662,1737)) is not in pool. Re-compute.\n",
      "Feature for (MD662,237,(4662,1802)) is not in pool. Re-compute.\n",
      "Feature for (MD662,237,(4727,1737)) is not in pool. Re-compute.\n",
      "Feature for (MD662,237,(4727,1802)) is not in pool. Re-compute.\n",
      "Feature for (MD662,237,(4792,1672)) is not in pool. Re-compute.\n",
      "Feature for (MD662,237,(4792,1737)) is not in pool. Re-compute.\n",
      "Feature for (MD662,237,(4857,1672)) is not in pool. Re-compute.\n",
      "Feature for (MD662,237,(4857,1737)) is not in pool. Re-compute.\n",
      "Feature for (MD662,237,(4922,1672)) is not in pool. Re-compute.\n",
      "Feature for (MD662,237,(4922,1737)) is not in pool. Re-compute.\n",
      "Feature for (MD662,237,(4987,1672)) is not in pool. Re-compute.\n",
      "Feature for (MD662,237,(5247,1607)) is not in pool. Re-compute.\n",
      "Not using image_cache.\n",
      "Load image: 16.71 seconds.\n",
      "Extract patches: 16.81 seconds\n"
     ]
    },
    {
     "name": "stdout",
     "output_type": "stream",
     "text": [
      "(256, 1, 224, 224)\n"
     ]
    },
    {
     "name": "stderr",
     "output_type": "stream",
     "text": [
      "Compute features: 0.37 seconds\n"
     ]
    },
    {
     "name": "stdout",
     "output_type": "stream",
     "text": [
      "('MD661', 161)\n",
      "('MD661', 284)\n"
     ]
    },
    {
     "name": "stderr",
     "output_type": "stream",
     "text": [
      "Feature for (MD661,284,(5832,1412)) is not in pool. Re-compute.\n",
      "Feature for (MD661,284,(5897,1412)) is not in pool. Re-compute.\n",
      "Feature for (MD661,284,(5897,1477)) is not in pool. Re-compute.\n",
      "Feature for (MD661,284,(5962,1412)) is not in pool. Re-compute.\n",
      "Feature for (MD661,284,(5962,1477)) is not in pool. Re-compute.\n",
      "Not using image_cache.\n",
      "Load image: 19.01 seconds.\n",
      "Extract patches: 19.12 seconds\n"
     ]
    },
    {
     "name": "stdout",
     "output_type": "stream",
     "text": [
      "(256, 1, 224, 224)\n"
     ]
    },
    {
     "name": "stderr",
     "output_type": "stream",
     "text": [
      "Compute features: 0.37 seconds\n"
     ]
    },
    {
     "name": "stdout",
     "output_type": "stream",
     "text": [
      "('MD661', 227)\n"
     ]
    },
    {
     "name": "stderr",
     "output_type": "stream",
     "text": [
      "Feature for (MD661,227,(6092,827)) is not in pool. Re-compute.\n",
      "Feature for (MD661,227,(6157,827)) is not in pool. Re-compute.\n",
      "Feature for (MD661,227,(6222,827)) is not in pool. Re-compute.\n",
      "Feature for (MD661,227,(6222,892)) is not in pool. Re-compute.\n",
      "Feature for (MD661,227,(6287,827)) is not in pool. Re-compute.\n",
      "Feature for (MD661,227,(6287,892)) is not in pool. Re-compute.\n",
      "Feature for (MD661,227,(6352,827)) is not in pool. Re-compute.\n",
      "Feature for (MD661,227,(6352,892)) is not in pool. Re-compute.\n",
      "Feature for (MD661,227,(6417,892)) is not in pool. Re-compute.\n",
      "Feature for (MD661,227,(6482,892)) is not in pool. Re-compute.\n",
      "Feature for (MD661,227,(6547,892)) is not in pool. Re-compute.\n",
      "Not using image_cache.\n",
      "Load image: 18.55 seconds.\n",
      "Extract patches: 18.66 seconds\n"
     ]
    },
    {
     "name": "stdout",
     "output_type": "stream",
     "text": [
      "(256, 1, 224, 224)\n"
     ]
    },
    {
     "name": "stderr",
     "output_type": "stream",
     "text": [
      "Compute features: 0.40 seconds\n"
     ]
    },
    {
     "name": "stdout",
     "output_type": "stream",
     "text": [
      "('MD662', 275)\n",
      "('MD661', 265)\n"
     ]
    },
    {
     "name": "stderr",
     "output_type": "stream",
     "text": [
      "Feature for (MD661,265,(5507,1087)) is not in pool. Re-compute.\n",
      "Feature for (MD661,265,(5507,1152)) is not in pool. Re-compute.\n",
      "Feature for (MD661,265,(5572,1022)) is not in pool. Re-compute.\n",
      "Feature for (MD661,265,(5572,1087)) is not in pool. Re-compute.\n",
      "Feature for (MD661,265,(5572,1152)) is not in pool. Re-compute.\n",
      "Feature for (MD661,265,(5637,1022)) is not in pool. Re-compute.\n",
      "Feature for (MD661,265,(5637,1087)) is not in pool. Re-compute.\n",
      "Feature for (MD661,265,(5637,1152)) is not in pool. Re-compute.\n",
      "Feature for (MD661,265,(5702,1022)) is not in pool. Re-compute.\n",
      "Feature for (MD661,265,(5702,1087)) is not in pool. Re-compute.\n",
      "Feature for (MD661,265,(5702,1152)) is not in pool. Re-compute.\n",
      "Feature for (MD661,265,(5767,1022)) is not in pool. Re-compute.\n",
      "Feature for (MD661,265,(5767,1087)) is not in pool. Re-compute.\n",
      "Feature for (MD661,265,(5767,1152)) is not in pool. Re-compute.\n",
      "Feature for (MD661,265,(5832,957)) is not in pool. Re-compute.\n",
      "Feature for (MD661,265,(5832,1022)) is not in pool. Re-compute.\n",
      "Feature for (MD661,265,(5832,1087)) is not in pool. Re-compute.\n",
      "Feature for (MD661,265,(5832,1152)) is not in pool. Re-compute.\n",
      "Feature for (MD661,265,(5832,1217)) is not in pool. Re-compute.\n",
      "Feature for (MD661,265,(5897,957)) is not in pool. Re-compute.\n",
      "Feature for (MD661,265,(5897,1022)) is not in pool. Re-compute.\n",
      "Feature for (MD661,265,(5897,1087)) is not in pool. Re-compute.\n",
      "Feature for (MD661,265,(5897,1152)) is not in pool. Re-compute.\n",
      "Feature for (MD661,265,(5897,1217)) is not in pool. Re-compute.\n",
      "Feature for (MD661,265,(5962,892)) is not in pool. Re-compute.\n",
      "Feature for (MD661,265,(5962,957)) is not in pool. Re-compute.\n",
      "Feature for (MD661,265,(5962,1022)) is not in pool. Re-compute.\n",
      "Feature for (MD661,265,(5962,1087)) is not in pool. Re-compute.\n",
      "Feature for (MD661,265,(5962,1152)) is not in pool. Re-compute.\n",
      "Feature for (MD661,265,(5962,1217)) is not in pool. Re-compute.\n",
      "Feature for (MD661,265,(6027,892)) is not in pool. Re-compute.\n",
      "Feature for (MD661,265,(6027,957)) is not in pool. Re-compute.\n",
      "Feature for (MD661,265,(6027,1022)) is not in pool. Re-compute.\n",
      "Feature for (MD661,265,(6027,1087)) is not in pool. Re-compute.\n",
      "Feature for (MD661,265,(6027,1152)) is not in pool. Re-compute.\n",
      "Feature for (MD661,265,(6092,892)) is not in pool. Re-compute.\n",
      "Feature for (MD661,265,(6092,957)) is not in pool. Re-compute.\n",
      "Feature for (MD661,265,(6092,1022)) is not in pool. Re-compute.\n",
      "Feature for (MD661,265,(6092,1087)) is not in pool. Re-compute.\n",
      "Feature for (MD661,265,(6157,892)) is not in pool. Re-compute.\n",
      "Feature for (MD661,265,(6157,957)) is not in pool. Re-compute.\n",
      "Feature for (MD661,265,(6222,892)) is not in pool. Re-compute.\n",
      "Feature for (MD661,265,(6287,892)) is not in pool. Re-compute.\n",
      "Not using image_cache.\n",
      "Load image: 19.77 seconds.\n",
      "Extract patches: 19.92 seconds\n"
     ]
    },
    {
     "name": "stdout",
     "output_type": "stream",
     "text": [
      "(256, 1, 224, 224)\n"
     ]
    },
    {
     "name": "stderr",
     "output_type": "stream",
     "text": [
      "Compute features: 0.37 seconds\n"
     ]
    },
    {
     "name": "stdout",
     "output_type": "stream",
     "text": [
      "('MD662', 213)\n"
     ]
    },
    {
     "name": "stderr",
     "output_type": "stream",
     "text": [
      "Feature for (MD662,213,(4857,1737)) is not in pool. Re-compute.\n",
      "Feature for (MD662,213,(4857,1802)) is not in pool. Re-compute.\n",
      "Feature for (MD662,213,(4857,1867)) is not in pool. Re-compute.\n",
      "Feature for (MD662,213,(4922,1737)) is not in pool. Re-compute.\n",
      "Feature for (MD662,213,(4922,1802)) is not in pool. Re-compute.\n",
      "Feature for (MD662,213,(4922,1867)) is not in pool. Re-compute.\n",
      "Feature for (MD662,213,(4987,1737)) is not in pool. Re-compute.\n",
      "Feature for (MD662,213,(4987,1802)) is not in pool. Re-compute.\n",
      "Feature for (MD662,213,(4987,1867)) is not in pool. Re-compute.\n",
      "Feature for (MD662,213,(5052,1737)) is not in pool. Re-compute.\n",
      "Feature for (MD662,213,(5052,1802)) is not in pool. Re-compute.\n",
      "Feature for (MD662,213,(5052,1867)) is not in pool. Re-compute.\n",
      "Feature for (MD662,213,(5117,1737)) is not in pool. Re-compute.\n",
      "Feature for (MD662,213,(5117,1802)) is not in pool. Re-compute.\n",
      "Feature for (MD662,213,(5117,1867)) is not in pool. Re-compute.\n",
      "Feature for (MD662,213,(5182,1737)) is not in pool. Re-compute.\n",
      "Feature for (MD662,213,(5182,1802)) is not in pool. Re-compute.\n",
      "Feature for (MD662,213,(5182,1867)) is not in pool. Re-compute.\n",
      "Feature for (MD662,213,(5247,1672)) is not in pool. Re-compute.\n",
      "Feature for (MD662,213,(5247,1737)) is not in pool. Re-compute.\n",
      "Feature for (MD662,213,(5247,1802)) is not in pool. Re-compute.\n",
      "Feature for (MD662,213,(5247,1867)) is not in pool. Re-compute.\n",
      "Feature for (MD662,213,(5312,1672)) is not in pool. Re-compute.\n",
      "Feature for (MD662,213,(5312,1737)) is not in pool. Re-compute.\n",
      "Feature for (MD662,213,(5312,1802)) is not in pool. Re-compute.\n",
      "Feature for (MD662,213,(5312,1867)) is not in pool. Re-compute.\n",
      "Feature for (MD662,213,(5377,1672)) is not in pool. Re-compute.\n",
      "Feature for (MD662,213,(5377,1737)) is not in pool. Re-compute.\n",
      "Feature for (MD662,213,(5377,1802)) is not in pool. Re-compute.\n",
      "Feature for (MD662,213,(5442,1672)) is not in pool. Re-compute.\n",
      "Feature for (MD662,213,(5442,1737)) is not in pool. Re-compute.\n",
      "Feature for (MD662,213,(5507,1672)) is not in pool. Re-compute.\n",
      "Feature for (MD662,213,(5507,1737)) is not in pool. Re-compute.\n",
      "Feature for (MD662,213,(5572,1672)) is not in pool. Re-compute.\n",
      "Not using image_cache.\n",
      "Load image: 17.32 seconds.\n",
      "Extract patches: 17.44 seconds\n"
     ]
    },
    {
     "name": "stdout",
     "output_type": "stream",
     "text": [
      "(256, 1, 224, 224)\n"
     ]
    },
    {
     "name": "stderr",
     "output_type": "stream",
     "text": [
      "Compute features: 0.38 seconds\n"
     ]
    },
    {
     "name": "stdout",
     "output_type": "stream",
     "text": [
      "('MD661', 262)\n"
     ]
    },
    {
     "name": "stderr",
     "output_type": "stream",
     "text": [
      "Feature for (MD661,262,(5507,1152)) is not in pool. Re-compute.\n",
      "Feature for (MD661,262,(5572,1022)) is not in pool. Re-compute.\n",
      "Feature for (MD661,262,(5572,1087)) is not in pool. Re-compute.\n",
      "Feature for (MD661,262,(5572,1152)) is not in pool. Re-compute.\n",
      "Feature for (MD661,262,(5637,1022)) is not in pool. Re-compute.\n",
      "Feature for (MD661,262,(5637,1087)) is not in pool. Re-compute.\n",
      "Feature for (MD661,262,(5637,1152)) is not in pool. Re-compute.\n",
      "Feature for (MD661,262,(5702,957)) is not in pool. Re-compute.\n",
      "Feature for (MD661,262,(5702,1022)) is not in pool. Re-compute.\n",
      "Feature for (MD661,262,(5702,1087)) is not in pool. Re-compute.\n",
      "Feature for (MD661,262,(5767,957)) is not in pool. Re-compute.\n",
      "Feature for (MD661,262,(5767,1022)) is not in pool. Re-compute.\n",
      "Feature for (MD661,262,(5767,1087)) is not in pool. Re-compute.\n",
      "Feature for (MD661,262,(5832,892)) is not in pool. Re-compute.\n",
      "Feature for (MD661,262,(5832,957)) is not in pool. Re-compute.\n",
      "Feature for (MD661,262,(5832,1022)) is not in pool. Re-compute.\n",
      "Feature for (MD661,262,(5832,1087)) is not in pool. Re-compute.\n",
      "Feature for (MD661,262,(5897,892)) is not in pool. Re-compute.\n",
      "Feature for (MD661,262,(5897,957)) is not in pool. Re-compute.\n",
      "Feature for (MD661,262,(5897,1022)) is not in pool. Re-compute.\n",
      "Feature for (MD661,262,(5897,1087)) is not in pool. Re-compute.\n",
      "Feature for (MD661,262,(5897,1152)) is not in pool. Re-compute.\n",
      "Feature for (MD661,262,(5962,827)) is not in pool. Re-compute.\n",
      "Feature for (MD661,262,(5962,892)) is not in pool. Re-compute.\n",
      "Feature for (MD661,262,(5962,957)) is not in pool. Re-compute.\n",
      "Feature for (MD661,262,(5962,1022)) is not in pool. Re-compute.\n",
      "Feature for (MD661,262,(5962,1087)) is not in pool. Re-compute.\n",
      "Feature for (MD661,262,(5962,1152)) is not in pool. Re-compute.\n",
      "Feature for (MD661,262,(6027,827)) is not in pool. Re-compute.\n",
      "Feature for (MD661,262,(6027,892)) is not in pool. Re-compute.\n",
      "Feature for (MD661,262,(6027,957)) is not in pool. Re-compute.\n",
      "Feature for (MD661,262,(6027,1022)) is not in pool. Re-compute.\n",
      "Feature for (MD661,262,(6027,1087)) is not in pool. Re-compute.\n",
      "Feature for (MD661,262,(6027,1152)) is not in pool. Re-compute.\n",
      "Feature for (MD661,262,(6027,1217)) is not in pool. Re-compute.\n",
      "Feature for (MD661,262,(6092,827)) is not in pool. Re-compute.\n",
      "Feature for (MD661,262,(6092,892)) is not in pool. Re-compute.\n",
      "Feature for (MD661,262,(6092,957)) is not in pool. Re-compute.\n",
      "Feature for (MD661,262,(6092,1022)) is not in pool. Re-compute.\n",
      "Feature for (MD661,262,(6092,1087)) is not in pool. Re-compute.\n",
      "Feature for (MD661,262,(6092,1152)) is not in pool. Re-compute.\n",
      "Feature for (MD661,262,(6157,827)) is not in pool. Re-compute.\n",
      "Feature for (MD661,262,(6157,892)) is not in pool. Re-compute.\n",
      "Feature for (MD661,262,(6157,957)) is not in pool. Re-compute.\n",
      "Feature for (MD661,262,(6157,1022)) is not in pool. Re-compute.\n",
      "Feature for (MD661,262,(6157,1087)) is not in pool. Re-compute.\n",
      "Feature for (MD661,262,(6222,827)) is not in pool. Re-compute.\n",
      "Feature for (MD661,262,(6222,892)) is not in pool. Re-compute.\n",
      "Feature for (MD661,262,(6222,957)) is not in pool. Re-compute.\n",
      "Feature for (MD661,262,(6287,827)) is not in pool. Re-compute.\n",
      "Not using image_cache.\n",
      "Load image: 18.37 seconds.\n",
      "Extract patches: 18.52 seconds\n"
     ]
    },
    {
     "name": "stdout",
     "output_type": "stream",
     "text": [
      "(256, 1, 224, 224)\n"
     ]
    },
    {
     "name": "stderr",
     "output_type": "stream",
     "text": [
      "Compute features: 0.40 seconds\n"
     ]
    },
    {
     "name": "stdout",
     "output_type": "stream",
     "text": [
      "('MD662', 159)\n",
      "('MD662', 192)\n"
     ]
    },
    {
     "name": "stderr",
     "output_type": "stream",
     "text": [
      "Feature for (MD662,192,(4727,1867)) is not in pool. Re-compute.\n",
      "Feature for (MD662,192,(4727,1932)) is not in pool. Re-compute.\n",
      "Feature for (MD662,192,(4727,1997)) is not in pool. Re-compute.\n",
      "Feature for (MD662,192,(4792,1867)) is not in pool. Re-compute.\n",
      "Feature for (MD662,192,(4792,1932)) is not in pool. Re-compute.\n",
      "Feature for (MD662,192,(4792,1997)) is not in pool. Re-compute.\n",
      "Feature for (MD662,192,(4857,1867)) is not in pool. Re-compute.\n",
      "Feature for (MD662,192,(4857,1932)) is not in pool. Re-compute.\n",
      "Feature for (MD662,192,(4922,1802)) is not in pool. Re-compute.\n",
      "Feature for (MD662,192,(4922,1867)) is not in pool. Re-compute.\n",
      "Feature for (MD662,192,(4922,1932)) is not in pool. Re-compute.\n",
      "Feature for (MD662,192,(4987,1802)) is not in pool. Re-compute.\n",
      "Feature for (MD662,192,(4987,1867)) is not in pool. Re-compute.\n",
      "Feature for (MD662,192,(4987,1932)) is not in pool. Re-compute.\n",
      "Feature for (MD662,192,(4987,1997)) is not in pool. Re-compute.\n",
      "Feature for (MD662,192,(5052,1802)) is not in pool. Re-compute.\n",
      "Feature for (MD662,192,(5052,1867)) is not in pool. Re-compute.\n",
      "Feature for (MD662,192,(5052,1932)) is not in pool. Re-compute.\n",
      "Feature for (MD662,192,(5052,1997)) is not in pool. Re-compute.\n",
      "Feature for (MD662,192,(5117,1802)) is not in pool. Re-compute.\n",
      "Feature for (MD662,192,(5117,1867)) is not in pool. Re-compute.\n",
      "Feature for (MD662,192,(5117,1932)) is not in pool. Re-compute.\n",
      "Feature for (MD662,192,(5182,1802)) is not in pool. Re-compute.\n",
      "Feature for (MD662,192,(5182,1867)) is not in pool. Re-compute.\n",
      "Feature for (MD662,192,(5247,1737)) is not in pool. Re-compute.\n",
      "Feature for (MD662,192,(5247,1802)) is not in pool. Re-compute.\n",
      "Not using image_cache.\n",
      "Load image: 15.79 seconds.\n",
      "Extract patches: 15.91 seconds\n"
     ]
    },
    {
     "name": "stdout",
     "output_type": "stream",
     "text": [
      "(256, 1, 224, 224)\n"
     ]
    },
    {
     "name": "stderr",
     "output_type": "stream",
     "text": [
      "Compute features: 0.38 seconds\n"
     ]
    },
    {
     "name": "stdout",
     "output_type": "stream",
     "text": [
      "('MD661', 207)\n"
     ]
    },
    {
     "name": "stderr",
     "output_type": "stream",
     "text": [
      "Feature for (MD661,207,(5702,827)) is not in pool. Re-compute.\n",
      "Feature for (MD661,207,(5702,892)) is not in pool. Re-compute.\n",
      "Feature for (MD661,207,(5767,827)) is not in pool. Re-compute.\n",
      "Feature for (MD661,207,(5767,892)) is not in pool. Re-compute.\n",
      "Feature for (MD661,207,(5832,762)) is not in pool. Re-compute.\n",
      "Feature for (MD661,207,(5832,827)) is not in pool. Re-compute.\n",
      "Feature for (MD661,207,(5832,892)) is not in pool. Re-compute.\n",
      "Feature for (MD661,207,(5897,762)) is not in pool. Re-compute.\n",
      "Feature for (MD661,207,(5897,827)) is not in pool. Re-compute.\n",
      "Feature for (MD661,207,(5897,892)) is not in pool. Re-compute.\n",
      "Feature for (MD661,207,(5962,697)) is not in pool. Re-compute.\n",
      "Feature for (MD661,207,(5962,762)) is not in pool. Re-compute.\n",
      "Feature for (MD661,207,(5962,827)) is not in pool. Re-compute.\n",
      "Feature for (MD661,207,(5962,892)) is not in pool. Re-compute.\n",
      "Feature for (MD661,207,(6027,697)) is not in pool. Re-compute.\n",
      "Feature for (MD661,207,(6027,762)) is not in pool. Re-compute.\n",
      "Feature for (MD661,207,(6027,827)) is not in pool. Re-compute.\n",
      "Feature for (MD661,207,(6027,892)) is not in pool. Re-compute.\n",
      "Feature for (MD661,207,(6092,697)) is not in pool. Re-compute.\n",
      "Feature for (MD661,207,(6092,762)) is not in pool. Re-compute.\n",
      "Feature for (MD661,207,(6092,827)) is not in pool. Re-compute.\n",
      "Feature for (MD661,207,(6092,892)) is not in pool. Re-compute.\n",
      "Feature for (MD661,207,(6157,697)) is not in pool. Re-compute.\n",
      "Feature for (MD661,207,(6157,762)) is not in pool. Re-compute.\n",
      "Feature for (MD661,207,(6157,827)) is not in pool. Re-compute.\n",
      "Feature for (MD661,207,(6157,892)) is not in pool. Re-compute.\n",
      "Feature for (MD661,207,(6222,697)) is not in pool. Re-compute.\n",
      "Feature for (MD661,207,(6222,762)) is not in pool. Re-compute.\n",
      "Feature for (MD661,207,(6222,827)) is not in pool. Re-compute.\n",
      "Feature for (MD661,207,(6287,697)) is not in pool. Re-compute.\n",
      "Feature for (MD661,207,(6287,762)) is not in pool. Re-compute.\n",
      "Feature for (MD661,207,(7587,112)) is not in pool. Re-compute.\n",
      "Feature for (MD661,207,(7652,112)) is not in pool. Re-compute.\n",
      "Feature for (MD661,207,(7717,112)) is not in pool. Re-compute.\n",
      "Feature for (MD661,207,(7782,112)) is not in pool. Re-compute.\n",
      "Feature for (MD661,207,(7847,112)) is not in pool. Re-compute.\n",
      "Feature for (MD661,207,(7912,112)) is not in pool. Re-compute.\n",
      "Feature for (MD661,207,(7977,112)) is not in pool. Re-compute.\n",
      "Feature for (MD661,207,(8042,112)) is not in pool. Re-compute.\n",
      "Not using image_cache.\n",
      "Load image: 19.04 seconds.\n",
      "Extract patches: 19.19 seconds\n"
     ]
    },
    {
     "name": "stdout",
     "output_type": "stream",
     "text": [
      "(256, 1, 224, 224)\n"
     ]
    },
    {
     "name": "stderr",
     "output_type": "stream",
     "text": [
      "Compute features: 0.38 seconds\n"
     ]
    },
    {
     "name": "stdout",
     "output_type": "stream",
     "text": [
      "('MD661', 186)\n"
     ]
    },
    {
     "name": "stderr",
     "output_type": "stream",
     "text": [
      "Feature for (MD661,186,(6742,567)) is not in pool. Re-compute.\n",
      "Feature for (MD661,186,(6807,567)) is not in pool. Re-compute.\n",
      "Feature for (MD661,186,(6872,502)) is not in pool. Re-compute.\n",
      "Feature for (MD661,186,(6872,567)) is not in pool. Re-compute.\n",
      "Feature for (MD661,186,(6937,502)) is not in pool. Re-compute.\n",
      "Feature for (MD661,186,(6937,567)) is not in pool. Re-compute.\n",
      "Feature for (MD661,186,(7002,502)) is not in pool. Re-compute.\n",
      "Feature for (MD661,186,(7067,502)) is not in pool. Re-compute.\n",
      "Feature for (MD661,186,(7132,437)) is not in pool. Re-compute.\n",
      "Feature for (MD661,186,(7132,502)) is not in pool. Re-compute.\n",
      "Feature for (MD661,186,(7197,437)) is not in pool. Re-compute.\n",
      "Feature for (MD661,186,(7197,502)) is not in pool. Re-compute.\n",
      "Feature for (MD661,186,(7262,437)) is not in pool. Re-compute.\n",
      "Feature for (MD661,186,(7262,502)) is not in pool. Re-compute.\n",
      "Feature for (MD661,186,(7327,437)) is not in pool. Re-compute.\n",
      "Feature for (MD661,186,(7327,502)) is not in pool. Re-compute.\n",
      "Feature for (MD661,186,(8042,112)) is not in pool. Re-compute.\n",
      "Feature for (MD661,186,(8107,112)) is not in pool. Re-compute.\n",
      "Feature for (MD661,186,(8172,112)) is not in pool. Re-compute.\n",
      "Feature for (MD661,186,(8237,112)) is not in pool. Re-compute.\n",
      "Not using image_cache.\n",
      "Load image: 17.44 seconds.\n",
      "Extract patches: 17.56 seconds\n"
     ]
    },
    {
     "name": "stdout",
     "output_type": "stream",
     "text": [
      "(256, 1, 224, 224)\n"
     ]
    },
    {
     "name": "stderr",
     "output_type": "stream",
     "text": [
      "Compute features: 0.39 seconds\n"
     ]
    },
    {
     "name": "stdout",
     "output_type": "stream",
     "text": [
      "('MD662', 157)\n",
      "('MD662', 177)\n"
     ]
    },
    {
     "name": "stderr",
     "output_type": "stream",
     "text": [
      "Feature for (MD662,177,(5962,1542)) is not in pool. Re-compute.\n",
      "Feature for (MD662,177,(6092,1477)) is not in pool. Re-compute.\n",
      "Feature for (MD662,177,(6157,1477)) is not in pool. Re-compute.\n",
      "Feature for (MD662,177,(6222,1477)) is not in pool. Re-compute.\n",
      "Feature for (MD662,177,(6287,1477)) is not in pool. Re-compute.\n",
      "Feature for (MD662,177,(4727,2192)) is not in pool. Re-compute.\n",
      "Feature for (MD662,177,(4792,2192)) is not in pool. Re-compute.\n",
      "Feature for (MD662,177,(4792,2257)) is not in pool. Re-compute.\n",
      "Feature for (MD662,177,(4857,2127)) is not in pool. Re-compute.\n",
      "Feature for (MD662,177,(4857,2192)) is not in pool. Re-compute.\n",
      "Feature for (MD662,177,(4857,2257)) is not in pool. Re-compute.\n",
      "Feature for (MD662,177,(4922,2127)) is not in pool. Re-compute.\n",
      "Feature for (MD662,177,(4922,2192)) is not in pool. Re-compute.\n",
      "Feature for (MD662,177,(4922,2257)) is not in pool. Re-compute.\n",
      "Feature for (MD662,177,(4987,2127)) is not in pool. Re-compute.\n",
      "Feature for (MD662,177,(4987,2192)) is not in pool. Re-compute.\n",
      "Feature for (MD662,177,(4987,2257)) is not in pool. Re-compute.\n",
      "Feature for (MD662,177,(4987,2322)) is not in pool. Re-compute.\n",
      "Feature for (MD662,177,(5052,2127)) is not in pool. Re-compute.\n",
      "Feature for (MD662,177,(5052,2192)) is not in pool. Re-compute.\n",
      "Feature for (MD662,177,(5052,2257)) is not in pool. Re-compute.\n",
      "Feature for (MD662,177,(5052,2322)) is not in pool. Re-compute.\n",
      "Feature for (MD662,177,(5117,2127)) is not in pool. Re-compute.\n",
      "Feature for (MD662,177,(5117,2192)) is not in pool. Re-compute.\n",
      "Feature for (MD662,177,(5117,2257)) is not in pool. Re-compute.\n",
      "Feature for (MD662,177,(5117,2322)) is not in pool. Re-compute.\n",
      "Feature for (MD662,177,(5182,2127)) is not in pool. Re-compute.\n",
      "Feature for (MD662,177,(5182,2192)) is not in pool. Re-compute.\n",
      "Not using image_cache.\n",
      "Load image: 15.04 seconds.\n",
      "Extract patches: 15.16 seconds\n"
     ]
    },
    {
     "name": "stdout",
     "output_type": "stream",
     "text": [
      "(256, 1, 224, 224)\n"
     ]
    },
    {
     "name": "stderr",
     "output_type": "stream",
     "text": [
      "Compute features: 0.38 seconds\n"
     ]
    },
    {
     "name": "stdout",
     "output_type": "stream",
     "text": [
      "('MD661', 183)\n"
     ]
    },
    {
     "name": "stderr",
     "output_type": "stream",
     "text": [
      "Feature for (MD661,183,(6872,502)) is not in pool. Re-compute.\n",
      "Feature for (MD661,183,(6937,502)) is not in pool. Re-compute.\n",
      "Feature for (MD661,183,(7002,502)) is not in pool. Re-compute.\n",
      "Feature for (MD661,183,(7067,437)) is not in pool. Re-compute.\n",
      "Feature for (MD661,183,(7067,502)) is not in pool. Re-compute.\n",
      "Feature for (MD661,183,(7132,437)) is not in pool. Re-compute.\n",
      "Feature for (MD661,183,(7132,502)) is not in pool. Re-compute.\n",
      "Feature for (MD661,183,(7197,437)) is not in pool. Re-compute.\n",
      "Feature for (MD661,183,(7197,502)) is not in pool. Re-compute.\n",
      "Feature for (MD661,183,(7262,437)) is not in pool. Re-compute.\n",
      "Feature for (MD661,183,(7262,502)) is not in pool. Re-compute.\n",
      "Feature for (MD661,183,(7327,437)) is not in pool. Re-compute.\n",
      "Feature for (MD661,183,(7327,502)) is not in pool. Re-compute.\n",
      "Feature for (MD661,183,(7392,437)) is not in pool. Re-compute.\n",
      "Feature for (MD661,183,(7392,502)) is not in pool. Re-compute.\n",
      "Feature for (MD661,183,(7457,502)) is not in pool. Re-compute.\n",
      "Feature for (MD661,183,(8172,112)) is not in pool. Re-compute.\n",
      "Feature for (MD661,183,(8237,112)) is not in pool. Re-compute.\n",
      "Feature for (MD661,183,(8302,112)) is not in pool. Re-compute.\n",
      "Not using image_cache.\n",
      "Load image: 18.70 seconds.\n",
      "Extract patches: 18.82 seconds\n"
     ]
    },
    {
     "name": "stdout",
     "output_type": "stream",
     "text": [
      "(256, 1, 224, 224)\n"
     ]
    },
    {
     "name": "stderr",
     "output_type": "stream",
     "text": [
      "Compute features: 0.37 seconds\n"
     ]
    },
    {
     "name": "stdout",
     "output_type": "stream",
     "text": [
      "('MD662', 303)\n",
      "('MD662', 249)\n"
     ]
    },
    {
     "name": "stderr",
     "output_type": "stream",
     "text": [
      "Feature for (MD662,249,(4532,1672)) is not in pool. Re-compute.\n",
      "Feature for (MD662,249,(4532,1737)) is not in pool. Re-compute.\n",
      "Feature for (MD662,249,(4532,1802)) is not in pool. Re-compute.\n",
      "Feature for (MD662,249,(4532,1867)) is not in pool. Re-compute.\n",
      "Feature for (MD662,249,(4597,1672)) is not in pool. Re-compute.\n",
      "Feature for (MD662,249,(4597,1737)) is not in pool. Re-compute.\n",
      "Feature for (MD662,249,(4597,1802)) is not in pool. Re-compute.\n",
      "Feature for (MD662,249,(4662,1672)) is not in pool. Re-compute.\n",
      "Feature for (MD662,249,(4662,1737)) is not in pool. Re-compute.\n",
      "Feature for (MD662,249,(4662,1802)) is not in pool. Re-compute.\n",
      "Feature for (MD662,249,(4727,1672)) is not in pool. Re-compute.\n",
      "Feature for (MD662,249,(4727,1737)) is not in pool. Re-compute.\n",
      "Feature for (MD662,249,(4792,1607)) is not in pool. Re-compute.\n",
      "Feature for (MD662,249,(4792,1672)) is not in pool. Re-compute.\n",
      "Feature for (MD662,249,(4792,1737)) is not in pool. Re-compute.\n",
      "Feature for (MD662,249,(4857,1607)) is not in pool. Re-compute.\n",
      "Feature for (MD662,249,(4857,1672)) is not in pool. Re-compute.\n",
      "Feature for (MD662,249,(4857,1737)) is not in pool. Re-compute.\n",
      "Feature for (MD662,249,(4857,1802)) is not in pool. Re-compute.\n",
      "Feature for (MD662,249,(4922,1607)) is not in pool. Re-compute.\n",
      "Feature for (MD662,249,(4922,1672)) is not in pool. Re-compute.\n",
      "Feature for (MD662,249,(4922,1737)) is not in pool. Re-compute.\n",
      "Feature for (MD662,249,(4922,1802)) is not in pool. Re-compute.\n",
      "Feature for (MD662,249,(4987,1542)) is not in pool. Re-compute.\n",
      "Feature for (MD662,249,(4987,1607)) is not in pool. Re-compute.\n",
      "Feature for (MD662,249,(4987,1672)) is not in pool. Re-compute.\n",
      "Feature for (MD662,249,(5052,1542)) is not in pool. Re-compute.\n",
      "Not using image_cache.\n",
      "Load image: 17.62 seconds.\n",
      "Extract patches: 17.74 seconds\n"
     ]
    },
    {
     "name": "stdout",
     "output_type": "stream",
     "text": [
      "(256, 1, 224, 224)\n"
     ]
    },
    {
     "name": "stderr",
     "output_type": "stream",
     "text": [
      "Compute features: 0.38 seconds\n"
     ]
    },
    {
     "name": "stdout",
     "output_type": "stream",
     "text": [
      "('MD662', 164)\n"
     ]
    },
    {
     "name": "stderr",
     "output_type": "stream",
     "text": [
      "Feature for (MD662,164,(5962,1672)) is not in pool. Re-compute.\n",
      "Feature for (MD662,164,(6092,1607)) is not in pool. Re-compute.\n",
      "Feature for (MD662,164,(6287,1542)) is not in pool. Re-compute.\n",
      "Feature for (MD662,164,(6352,1542)) is not in pool. Re-compute.\n",
      "Feature for (MD662,164,(6417,1607)) is not in pool. Re-compute.\n",
      "Feature for (MD662,164,(6482,1607)) is not in pool. Re-compute.\n",
      "Not using image_cache.\n",
      "Load image: 15.16 seconds.\n",
      "Extract patches: 15.26 seconds\n"
     ]
    },
    {
     "name": "stdout",
     "output_type": "stream",
     "text": [
      "(256, 1, 224, 224)\n"
     ]
    },
    {
     "name": "stderr",
     "output_type": "stream",
     "text": [
      "Compute features: 0.37 seconds\n"
     ]
    },
    {
     "name": "stdout",
     "output_type": "stream",
     "text": [
      "('MD662', 233)\n"
     ]
    },
    {
     "name": "stderr",
     "output_type": "stream",
     "text": [
      "Feature for (MD662,233,(4792,1737)) is not in pool. Re-compute.\n",
      "Feature for (MD662,233,(4857,1737)) is not in pool. Re-compute.\n",
      "Feature for (MD662,233,(4922,1737)) is not in pool. Re-compute.\n",
      "Feature for (MD662,233,(5052,1672)) is not in pool. Re-compute.\n",
      "Feature for (MD662,233,(5247,1672)) is not in pool. Re-compute.\n",
      "Feature for (MD662,233,(5312,1672)) is not in pool. Re-compute.\n",
      "Feature for (MD662,233,(5377,1672)) is not in pool. Re-compute.\n",
      "Not using image_cache.\n",
      "Load image: 15.95 seconds.\n",
      "Extract patches: 16.04 seconds\n"
     ]
    },
    {
     "name": "stdout",
     "output_type": "stream",
     "text": [
      "(256, 1, 224, 224)\n"
     ]
    },
    {
     "name": "stderr",
     "output_type": "stream",
     "text": [
      "Compute features: 0.37 seconds\n"
     ]
    },
    {
     "name": "stdout",
     "output_type": "stream",
     "text": [
      "('MD661', 230)\n"
     ]
    },
    {
     "name": "stderr",
     "output_type": "stream",
     "text": [
      "Feature for (MD661,230,(5962,892)) is not in pool. Re-compute.\n",
      "Feature for (MD661,230,(5962,957)) is not in pool. Re-compute.\n",
      "Feature for (MD661,230,(6027,892)) is not in pool. Re-compute.\n",
      "Feature for (MD661,230,(6027,957)) is not in pool. Re-compute.\n",
      "Feature for (MD661,230,(6092,892)) is not in pool. Re-compute.\n",
      "Feature for (MD661,230,(6092,957)) is not in pool. Re-compute.\n",
      "Feature for (MD661,230,(6157,892)) is not in pool. Re-compute.\n",
      "Feature for (MD661,230,(6157,957)) is not in pool. Re-compute.\n",
      "Feature for (MD661,230,(6222,892)) is not in pool. Re-compute.\n",
      "Feature for (MD661,230,(6222,957)) is not in pool. Re-compute.\n",
      "Feature for (MD661,230,(6287,892)) is not in pool. Re-compute.\n",
      "Feature for (MD661,230,(6287,957)) is not in pool. Re-compute.\n",
      "Feature for (MD661,230,(6352,892)) is not in pool. Re-compute.\n",
      "Feature for (MD661,230,(6352,957)) is not in pool. Re-compute.\n",
      "Feature for (MD661,230,(6417,892)) is not in pool. Re-compute.\n",
      "Feature for (MD661,230,(6417,957)) is not in pool. Re-compute.\n",
      "Feature for (MD661,230,(6482,892)) is not in pool. Re-compute.\n",
      "Feature for (MD661,230,(6482,957)) is not in pool. Re-compute.\n",
      "Feature for (MD661,230,(6547,957)) is not in pool. Re-compute.\n",
      "Feature for (MD661,230,(6612,957)) is not in pool. Re-compute.\n",
      "Not using image_cache.\n",
      "Load image: 17.35 seconds.\n",
      "Extract patches: 17.46 seconds\n"
     ]
    },
    {
     "name": "stdout",
     "output_type": "stream",
     "text": [
      "(256, 1, 224, 224)\n"
     ]
    },
    {
     "name": "stderr",
     "output_type": "stream",
     "text": [
      "Compute features: 0.39 seconds\n"
     ]
    },
    {
     "name": "stdout",
     "output_type": "stream",
     "text": [
      "('MD662', 284)\n",
      "('MD661', 268)\n"
     ]
    },
    {
     "name": "stderr",
     "output_type": "stream",
     "text": [
      "Feature for (MD661,268,(5507,1152)) is not in pool. Re-compute.\n",
      "Feature for (MD661,268,(5507,1217)) is not in pool. Re-compute.\n",
      "Feature for (MD661,268,(5572,1087)) is not in pool. Re-compute.\n",
      "Feature for (MD661,268,(5572,1152)) is not in pool. Re-compute.\n",
      "Feature for (MD661,268,(5572,1217)) is not in pool. Re-compute.\n",
      "Feature for (MD661,268,(5637,1087)) is not in pool. Re-compute.\n",
      "Feature for (MD661,268,(5637,1152)) is not in pool. Re-compute.\n",
      "Feature for (MD661,268,(5702,1087)) is not in pool. Re-compute.\n",
      "Feature for (MD661,268,(5702,1152)) is not in pool. Re-compute.\n",
      "Feature for (MD661,268,(5702,1217)) is not in pool. Re-compute.\n",
      "Feature for (MD661,268,(5767,1022)) is not in pool. Re-compute.\n",
      "Feature for (MD661,268,(5767,1087)) is not in pool. Re-compute.\n",
      "Feature for (MD661,268,(5767,1152)) is not in pool. Re-compute.\n",
      "Feature for (MD661,268,(5767,1217)) is not in pool. Re-compute.\n",
      "Feature for (MD661,268,(5832,1022)) is not in pool. Re-compute.\n",
      "Feature for (MD661,268,(5832,1087)) is not in pool. Re-compute.\n",
      "Feature for (MD661,268,(5832,1152)) is not in pool. Re-compute.\n",
      "Feature for (MD661,268,(5832,1217)) is not in pool. Re-compute.\n",
      "Feature for (MD661,268,(5897,957)) is not in pool. Re-compute.\n",
      "Feature for (MD661,268,(5897,1022)) is not in pool. Re-compute.\n",
      "Feature for (MD661,268,(5897,1087)) is not in pool. Re-compute.\n",
      "Feature for (MD661,268,(5897,1152)) is not in pool. Re-compute.\n",
      "Feature for (MD661,268,(5897,1217)) is not in pool. Re-compute.\n",
      "Feature for (MD661,268,(5962,957)) is not in pool. Re-compute.\n",
      "Feature for (MD661,268,(5962,1022)) is not in pool. Re-compute.\n",
      "Feature for (MD661,268,(5962,1087)) is not in pool. Re-compute.\n",
      "Feature for (MD661,268,(5962,1152)) is not in pool. Re-compute.\n",
      "Feature for (MD661,268,(6027,957)) is not in pool. Re-compute.\n",
      "Feature for (MD661,268,(6027,1022)) is not in pool. Re-compute.\n",
      "Feature for (MD661,268,(6027,1087)) is not in pool. Re-compute.\n",
      "Feature for (MD661,268,(6092,957)) is not in pool. Re-compute.\n",
      "Feature for (MD661,268,(6092,1022)) is not in pool. Re-compute.\n",
      "Feature for (MD661,268,(6157,957)) is not in pool. Re-compute.\n",
      "Feature for (MD661,268,(6222,957)) is not in pool. Re-compute.\n",
      "Not using image_cache.\n",
      "Load image: 18.57 seconds.\n",
      "Extract patches: 18.71 seconds\n"
     ]
    },
    {
     "name": "stdout",
     "output_type": "stream",
     "text": [
      "(256, 1, 224, 224)\n"
     ]
    },
    {
     "name": "stderr",
     "output_type": "stream",
     "text": [
      "Compute features: 0.37 seconds\n"
     ]
    },
    {
     "name": "stdout",
     "output_type": "stream",
     "text": [
      "('MD662', 161)\n"
     ]
    },
    {
     "name": "stderr",
     "output_type": "stream",
     "text": [
      "Feature for (MD662,161,(6157,1607)) is not in pool. Re-compute.\n",
      "Feature for (MD662,161,(6222,1607)) is not in pool. Re-compute.\n",
      "Feature for (MD662,161,(6287,1607)) is not in pool. Re-compute.\n",
      "Feature for (MD662,161,(6352,1607)) is not in pool. Re-compute.\n",
      "Not using image_cache.\n",
      "Load image: 14.13 seconds.\n",
      "Extract patches: 14.22 seconds\n"
     ]
    },
    {
     "name": "stdout",
     "output_type": "stream",
     "text": [
      "(256, 1, 224, 224)\n"
     ]
    },
    {
     "name": "stderr",
     "output_type": "stream",
     "text": [
      "Compute features: 0.38 seconds\n"
     ]
    },
    {
     "name": "stdout",
     "output_type": "stream",
     "text": [
      "('MD661', 216)\n"
     ]
    },
    {
     "name": "stderr",
     "output_type": "stream",
     "text": [
      "Feature for (MD661,216,(5962,762)) is not in pool. Re-compute.\n",
      "Feature for (MD661,216,(6027,762)) is not in pool. Re-compute.\n",
      "Feature for (MD661,216,(6027,827)) is not in pool. Re-compute.\n",
      "Feature for (MD661,216,(6092,697)) is not in pool. Re-compute.\n",
      "Feature for (MD661,216,(6092,762)) is not in pool. Re-compute.\n",
      "Feature for (MD661,216,(6157,697)) is not in pool. Re-compute.\n",
      "Feature for (MD661,216,(6157,762)) is not in pool. Re-compute.\n",
      "Feature for (MD661,216,(6157,827)) is not in pool. Re-compute.\n",
      "Feature for (MD661,216,(6222,697)) is not in pool. Re-compute.\n",
      "Feature for (MD661,216,(6222,762)) is not in pool. Re-compute.\n",
      "Feature for (MD661,216,(6222,827)) is not in pool. Re-compute.\n",
      "Feature for (MD661,216,(6287,697)) is not in pool. Re-compute.\n",
      "Feature for (MD661,216,(6287,762)) is not in pool. Re-compute.\n",
      "Feature for (MD661,216,(6287,827)) is not in pool. Re-compute.\n",
      "Feature for (MD661,216,(6352,762)) is not in pool. Re-compute.\n",
      "Feature for (MD661,216,(6417,762)) is not in pool. Re-compute.\n",
      "Feature for (MD661,216,(7457,112)) is not in pool. Re-compute.\n",
      "Feature for (MD661,216,(7522,112)) is not in pool. Re-compute.\n",
      "Feature for (MD661,216,(7587,112)) is not in pool. Re-compute.\n",
      "Feature for (MD661,216,(7652,112)) is not in pool. Re-compute.\n",
      "Feature for (MD661,216,(7717,112)) is not in pool. Re-compute.\n",
      "Not using image_cache.\n",
      "Load image: 17.80 seconds.\n",
      "Extract patches: 17.92 seconds\n"
     ]
    },
    {
     "name": "stdout",
     "output_type": "stream",
     "text": [
      "(256, 1, 224, 224)\n"
     ]
    },
    {
     "name": "stderr",
     "output_type": "stream",
     "text": [
      "Compute features: 0.40 seconds\n"
     ]
    },
    {
     "name": "stdout",
     "output_type": "stream",
     "text": [
      "('MD661', 147)\n",
      "('MD662', 259)\n"
     ]
    },
    {
     "name": "stderr",
     "output_type": "stream",
     "text": [
      "Feature for (MD662,259,(4402,1867)) is not in pool. Re-compute.\n",
      "Feature for (MD662,259,(4402,1932)) is not in pool. Re-compute.\n",
      "Feature for (MD662,259,(4467,1802)) is not in pool. Re-compute.\n",
      "Feature for (MD662,259,(4467,1867)) is not in pool. Re-compute.\n",
      "Feature for (MD662,259,(4467,1932)) is not in pool. Re-compute.\n",
      "Feature for (MD662,259,(4532,1802)) is not in pool. Re-compute.\n",
      "Feature for (MD662,259,(4532,1867)) is not in pool. Re-compute.\n",
      "Feature for (MD662,259,(4597,1802)) is not in pool. Re-compute.\n",
      "Feature for (MD662,259,(4597,1867)) is not in pool. Re-compute.\n",
      "Feature for (MD662,259,(4662,1802)) is not in pool. Re-compute.\n",
      "Feature for (MD662,259,(4727,1802)) is not in pool. Re-compute.\n",
      "Feature for (MD662,259,(4792,1737)) is not in pool. Re-compute.\n",
      "Not using image_cache.\n",
      "Load image: 17.55 seconds.\n",
      "Extract patches: 17.65 seconds\n"
     ]
    },
    {
     "name": "stdout",
     "output_type": "stream",
     "text": [
      "(256, 1, 224, 224)\n"
     ]
    },
    {
     "name": "stderr",
     "output_type": "stream",
     "text": [
      "Compute features: 0.37 seconds\n"
     ]
    },
    {
     "name": "stdout",
     "output_type": "stream",
     "text": [
      "('MD662', 234)\n"
     ]
    },
    {
     "name": "stderr",
     "output_type": "stream",
     "text": [
      "Feature for (MD662,234,(4727,1737)) is not in pool. Re-compute.\n",
      "Feature for (MD662,234,(4727,1802)) is not in pool. Re-compute.\n",
      "Feature for (MD662,234,(4792,1737)) is not in pool. Re-compute.\n",
      "Feature for (MD662,234,(4857,1737)) is not in pool. Re-compute.\n",
      "Feature for (MD662,234,(4922,1672)) is not in pool. Re-compute.\n",
      "Feature for (MD662,234,(4922,1737)) is not in pool. Re-compute.\n",
      "Feature for (MD662,234,(4987,1672)) is not in pool. Re-compute.\n",
      "Feature for (MD662,234,(5052,1672)) is not in pool. Re-compute.\n",
      "Feature for (MD662,234,(5312,1607)) is not in pool. Re-compute.\n",
      "Feature for (MD662,234,(5312,1672)) is not in pool. Re-compute.\n",
      "Feature for (MD662,234,(5377,1607)) is not in pool. Re-compute.\n",
      "Not using image_cache.\n",
      "Load image: 15.78 seconds.\n",
      "Extract patches: 15.88 seconds\n"
     ]
    },
    {
     "name": "stdout",
     "output_type": "stream",
     "text": [
      "(256, 1, 224, 224)\n"
     ]
    },
    {
     "name": "stderr",
     "output_type": "stream",
     "text": [
      "Compute features: 0.37 seconds\n"
     ]
    },
    {
     "name": "stdout",
     "output_type": "stream",
     "text": [
      "('MD662', 152)\n",
      "('MD662', 205)\n"
     ]
    },
    {
     "name": "stderr",
     "output_type": "stream",
     "text": [
      "Feature for (MD662,205,(4857,1737)) is not in pool. Re-compute.\n",
      "Feature for (MD662,205,(4922,1737)) is not in pool. Re-compute.\n",
      "Feature for (MD662,205,(5312,1607)) is not in pool. Re-compute.\n",
      "Not using image_cache.\n",
      "Load image: 15.75 seconds.\n",
      "Extract patches: 15.84 seconds\n"
     ]
    },
    {
     "name": "stdout",
     "output_type": "stream",
     "text": [
      "(256, 1, 224, 224)\n"
     ]
    },
    {
     "name": "stderr",
     "output_type": "stream",
     "text": [
      "Compute features: 0.39 seconds\n"
     ]
    },
    {
     "name": "stdout",
     "output_type": "stream",
     "text": [
      "('MD661', 310)\n",
      "('MD661', 189)\n"
     ]
    },
    {
     "name": "stderr",
     "output_type": "stream",
     "text": [
      "Feature for (MD661,189,(6807,567)) is not in pool. Re-compute.\n",
      "Feature for (MD661,189,(6937,502)) is not in pool. Re-compute.\n",
      "Feature for (MD661,189,(7002,502)) is not in pool. Re-compute.\n",
      "Feature for (MD661,189,(7067,502)) is not in pool. Re-compute.\n",
      "Feature for (MD661,189,(7132,502)) is not in pool. Re-compute.\n",
      "Feature for (MD661,189,(7197,437)) is not in pool. Re-compute.\n",
      "Feature for (MD661,189,(7197,502)) is not in pool. Re-compute.\n",
      "Feature for (MD661,189,(7262,437)) is not in pool. Re-compute.\n",
      "Feature for (MD661,189,(7262,502)) is not in pool. Re-compute.\n",
      "Feature for (MD661,189,(7327,502)) is not in pool. Re-compute.\n",
      "Feature for (MD661,189,(7392,502)) is not in pool. Re-compute.\n",
      "Feature for (MD661,189,(7457,502)) is not in pool. Re-compute.\n",
      "Feature for (MD661,189,(5767,1087)) is not in pool. Re-compute.\n",
      "Feature for (MD661,189,(5832,1087)) is not in pool. Re-compute.\n",
      "Feature for (MD661,189,(5897,1087)) is not in pool. Re-compute.\n",
      "Feature for (MD661,189,(5962,1022)) is not in pool. Re-compute.\n",
      "Feature for (MD661,189,(5962,1087)) is not in pool. Re-compute.\n",
      "Feature for (MD661,189,(6027,1022)) is not in pool. Re-compute.\n",
      "Feature for (MD661,189,(7977,112)) is not in pool. Re-compute.\n",
      "Feature for (MD661,189,(8042,112)) is not in pool. Re-compute.\n",
      "Feature for (MD661,189,(8107,112)) is not in pool. Re-compute.\n",
      "Feature for (MD661,189,(8172,112)) is not in pool. Re-compute.\n",
      "Feature for (MD661,189,(8237,112)) is not in pool. Re-compute.\n",
      "Not using image_cache.\n",
      "Load image: 18.14 seconds.\n",
      "Extract patches: 18.27 seconds\n"
     ]
    },
    {
     "name": "stdout",
     "output_type": "stream",
     "text": [
      "(256, 1, 224, 224)\n"
     ]
    },
    {
     "name": "stderr",
     "output_type": "stream",
     "text": [
      "Compute features: 0.38 seconds\n"
     ]
    },
    {
     "name": "stdout",
     "output_type": "stream",
     "text": [
      "('MD661', 291)\n",
      "('MD662', 178)\n"
     ]
    },
    {
     "name": "stderr",
     "output_type": "stream",
     "text": [
      "Feature for (MD662,178,(6092,1477)) is not in pool. Re-compute.\n",
      "Feature for (MD662,178,(6157,1477)) is not in pool. Re-compute.\n",
      "Feature for (MD662,178,(6222,1477)) is not in pool. Re-compute.\n",
      "Feature for (MD662,178,(4662,2127)) is not in pool. Re-compute.\n",
      "Feature for (MD662,178,(4662,2192)) is not in pool. Re-compute.\n",
      "Feature for (MD662,178,(4727,2127)) is not in pool. Re-compute.\n",
      "Feature for (MD662,178,(4727,2192)) is not in pool. Re-compute.\n",
      "Feature for (MD662,178,(4792,2127)) is not in pool. Re-compute.\n",
      "Feature for (MD662,178,(4792,2192)) is not in pool. Re-compute.\n",
      "Feature for (MD662,178,(4792,2257)) is not in pool. Re-compute.\n",
      "Feature for (MD662,178,(4857,2127)) is not in pool. Re-compute.\n",
      "Feature for (MD662,178,(4857,2192)) is not in pool. Re-compute.\n",
      "Feature for (MD662,178,(4857,2257)) is not in pool. Re-compute.\n",
      "Feature for (MD662,178,(4922,2127)) is not in pool. Re-compute.\n",
      "Feature for (MD662,178,(4922,2192)) is not in pool. Re-compute.\n",
      "Feature for (MD662,178,(4922,2257)) is not in pool. Re-compute.\n",
      "Feature for (MD662,178,(4987,2127)) is not in pool. Re-compute.\n",
      "Feature for (MD662,178,(4987,2192)) is not in pool. Re-compute.\n",
      "Feature for (MD662,178,(4987,2257)) is not in pool. Re-compute.\n",
      "Feature for (MD662,178,(5052,2127)) is not in pool. Re-compute.\n",
      "Feature for (MD662,178,(5052,2192)) is not in pool. Re-compute.\n",
      "Feature for (MD662,178,(5052,2257)) is not in pool. Re-compute.\n",
      "Feature for (MD662,178,(5052,2322)) is not in pool. Re-compute.\n",
      "Feature for (MD662,178,(5117,2127)) is not in pool. Re-compute.\n",
      "Feature for (MD662,178,(5117,2192)) is not in pool. Re-compute.\n",
      "Feature for (MD662,178,(5117,2257)) is not in pool. Re-compute.\n",
      "Feature for (MD662,178,(5182,2062)) is not in pool. Re-compute.\n",
      "Feature for (MD662,178,(5182,2127)) is not in pool. Re-compute.\n",
      "Feature for (MD662,178,(5182,2192)) is not in pool. Re-compute.\n",
      "Feature for (MD662,178,(5247,2062)) is not in pool. Re-compute.\n",
      "Not using image_cache.\n",
      "Load image: 14.12 seconds.\n",
      "Extract patches: 14.24 seconds\n"
     ]
    },
    {
     "name": "stdout",
     "output_type": "stream",
     "text": [
      "(256, 1, 224, 224)\n"
     ]
    },
    {
     "name": "stderr",
     "output_type": "stream",
     "text": [
      "Compute features: 0.37 seconds\n"
     ]
    },
    {
     "name": "stdout",
     "output_type": "stream",
     "text": [
      "('MD661', 170)\n"
     ]
    },
    {
     "name": "stderr",
     "output_type": "stream",
     "text": [
      "Feature for (MD661,170,(7197,502)) is not in pool. Re-compute.\n",
      "Not using image_cache.\n",
      "Load image: 17.13 seconds.\n",
      "Extract patches: 17.23 seconds\n"
     ]
    },
    {
     "name": "stdout",
     "output_type": "stream",
     "text": [
      "(256, 1, 224, 224)\n"
     ]
    },
    {
     "name": "stderr",
     "output_type": "stream",
     "text": [
      "Compute features: 0.38 seconds\n"
     ]
    },
    {
     "name": "stdout",
     "output_type": "stream",
     "text": [
      "('MD661', 236)\n"
     ]
    },
    {
     "name": "stderr",
     "output_type": "stream",
     "text": [
      "Feature for (MD661,236,(6027,957)) is not in pool. Re-compute.\n",
      "Feature for (MD661,236,(6027,1022)) is not in pool. Re-compute.\n",
      "Feature for (MD661,236,(6027,1087)) is not in pool. Re-compute.\n",
      "Feature for (MD661,236,(6092,892)) is not in pool. Re-compute.\n",
      "Feature for (MD661,236,(6092,957)) is not in pool. Re-compute.\n",
      "Feature for (MD661,236,(6092,1022)) is not in pool. Re-compute.\n",
      "Feature for (MD661,236,(6092,1087)) is not in pool. Re-compute.\n",
      "Feature for (MD661,236,(6092,1152)) is not in pool. Re-compute.\n",
      "Feature for (MD661,236,(6157,892)) is not in pool. Re-compute.\n",
      "Feature for (MD661,236,(6157,957)) is not in pool. Re-compute.\n",
      "Feature for (MD661,236,(6157,1022)) is not in pool. Re-compute.\n",
      "Feature for (MD661,236,(6157,1087)) is not in pool. Re-compute.\n",
      "Feature for (MD661,236,(6157,1152)) is not in pool. Re-compute.\n",
      "Feature for (MD661,236,(6222,892)) is not in pool. Re-compute.\n",
      "Feature for (MD661,236,(6222,957)) is not in pool. Re-compute.\n",
      "Feature for (MD661,236,(6222,1022)) is not in pool. Re-compute.\n",
      "Feature for (MD661,236,(6222,1087)) is not in pool. Re-compute.\n",
      "Feature for (MD661,236,(6222,1152)) is not in pool. Re-compute.\n",
      "Feature for (MD661,236,(6287,892)) is not in pool. Re-compute.\n",
      "Feature for (MD661,236,(6287,957)) is not in pool. Re-compute.\n",
      "Feature for (MD661,236,(6287,1022)) is not in pool. Re-compute.\n",
      "Feature for (MD661,236,(6287,1087)) is not in pool. Re-compute.\n",
      "Feature for (MD661,236,(6287,1152)) is not in pool. Re-compute.\n",
      "Feature for (MD661,236,(6352,892)) is not in pool. Re-compute.\n",
      "Feature for (MD661,236,(6352,957)) is not in pool. Re-compute.\n",
      "Feature for (MD661,236,(6352,1022)) is not in pool. Re-compute.\n",
      "Feature for (MD661,236,(6352,1087)) is not in pool. Re-compute.\n",
      "Feature for (MD661,236,(6417,892)) is not in pool. Re-compute.\n",
      "Feature for (MD661,236,(6417,957)) is not in pool. Re-compute.\n",
      "Feature for (MD661,236,(6417,1022)) is not in pool. Re-compute.\n",
      "Feature for (MD661,236,(6417,1087)) is not in pool. Re-compute.\n",
      "Feature for (MD661,236,(6482,892)) is not in pool. Re-compute.\n",
      "Feature for (MD661,236,(6482,957)) is not in pool. Re-compute.\n",
      "Feature for (MD661,236,(6482,1022)) is not in pool. Re-compute.\n",
      "Feature for (MD661,236,(6482,1087)) is not in pool. Re-compute.\n",
      "Feature for (MD661,236,(6547,957)) is not in pool. Re-compute.\n",
      "Feature for (MD661,236,(6547,1022)) is not in pool. Re-compute.\n",
      "Feature for (MD661,236,(6547,1087)) is not in pool. Re-compute.\n",
      "Feature for (MD661,236,(6612,957)) is not in pool. Re-compute.\n",
      "Feature for (MD661,236,(6612,1022)) is not in pool. Re-compute.\n",
      "Feature for (MD661,236,(6612,1087)) is not in pool. Re-compute.\n",
      "Feature for (MD661,236,(6677,1022)) is not in pool. Re-compute.\n",
      "Feature for (MD661,236,(6742,1022)) is not in pool. Re-compute.\n",
      "Not using image_cache.\n",
      "Load image: 18.16 seconds.\n",
      "Extract patches: 18.31 seconds\n"
     ]
    },
    {
     "name": "stdout",
     "output_type": "stream",
     "text": [
      "(256, 1, 224, 224)\n"
     ]
    },
    {
     "name": "stderr",
     "output_type": "stream",
     "text": [
      "Compute features: 0.38 seconds\n"
     ]
    },
    {
     "name": "stdout",
     "output_type": "stream",
     "text": [
      "('MD661', 167)\n",
      "('MD661', 274)\n"
     ]
    },
    {
     "name": "stderr",
     "output_type": "stream",
     "text": [
      "Feature for (MD661,274,(5442,1217)) is not in pool. Re-compute.\n",
      "Feature for (MD661,274,(5442,1282)) is not in pool. Re-compute.\n",
      "Feature for (MD661,274,(5442,1347)) is not in pool. Re-compute.\n",
      "Feature for (MD661,274,(5507,1217)) is not in pool. Re-compute.\n",
      "Feature for (MD661,274,(5507,1282)) is not in pool. Re-compute.\n",
      "Feature for (MD661,274,(5507,1347)) is not in pool. Re-compute.\n",
      "Feature for (MD661,274,(5507,1412)) is not in pool. Re-compute.\n",
      "Feature for (MD661,274,(5572,1217)) is not in pool. Re-compute.\n",
      "Feature for (MD661,274,(5572,1282)) is not in pool. Re-compute.\n",
      "Feature for (MD661,274,(5572,1347)) is not in pool. Re-compute.\n",
      "Feature for (MD661,274,(5572,1412)) is not in pool. Re-compute.\n",
      "Feature for (MD661,274,(5637,1217)) is not in pool. Re-compute.\n",
      "Feature for (MD661,274,(5637,1282)) is not in pool. Re-compute.\n",
      "Feature for (MD661,274,(5637,1347)) is not in pool. Re-compute.\n",
      "Feature for (MD661,274,(5637,1412)) is not in pool. Re-compute.\n",
      "Feature for (MD661,274,(5702,1217)) is not in pool. Re-compute.\n",
      "Feature for (MD661,274,(5702,1282)) is not in pool. Re-compute.\n",
      "Feature for (MD661,274,(5702,1347)) is not in pool. Re-compute.\n",
      "Feature for (MD661,274,(5702,1412)) is not in pool. Re-compute.\n",
      "Feature for (MD661,274,(5767,1152)) is not in pool. Re-compute.\n",
      "Feature for (MD661,274,(5767,1217)) is not in pool. Re-compute.\n",
      "Feature for (MD661,274,(5767,1282)) is not in pool. Re-compute.\n",
      "Feature for (MD661,274,(5767,1347)) is not in pool. Re-compute.\n",
      "Feature for (MD661,274,(5767,1412)) is not in pool. Re-compute.\n",
      "Feature for (MD661,274,(5767,1477)) is not in pool. Re-compute.\n",
      "Feature for (MD661,274,(5832,1152)) is not in pool. Re-compute.\n",
      "Feature for (MD661,274,(5832,1217)) is not in pool. Re-compute.\n",
      "Feature for (MD661,274,(5832,1282)) is not in pool. Re-compute.\n",
      "Feature for (MD661,274,(5832,1347)) is not in pool. Re-compute.\n",
      "Feature for (MD661,274,(5832,1412)) is not in pool. Re-compute.\n",
      "Feature for (MD661,274,(5897,1087)) is not in pool. Re-compute.\n",
      "Feature for (MD661,274,(5897,1152)) is not in pool. Re-compute.\n",
      "Feature for (MD661,274,(5897,1217)) is not in pool. Re-compute.\n",
      "Feature for (MD661,274,(5897,1282)) is not in pool. Re-compute.\n",
      "Feature for (MD661,274,(5897,1347)) is not in pool. Re-compute.\n",
      "Feature for (MD661,274,(5962,1087)) is not in pool. Re-compute.\n",
      "Feature for (MD661,274,(5962,1152)) is not in pool. Re-compute.\n",
      "Feature for (MD661,274,(5962,1217)) is not in pool. Re-compute.\n",
      "Feature for (MD661,274,(5962,1282)) is not in pool. Re-compute.\n",
      "Feature for (MD661,274,(6027,1087)) is not in pool. Re-compute.\n",
      "Feature for (MD661,274,(6027,1152)) is not in pool. Re-compute.\n",
      "Feature for (MD661,274,(6027,1217)) is not in pool. Re-compute.\n",
      "Feature for (MD661,274,(6092,1087)) is not in pool. Re-compute.\n",
      "Feature for (MD661,274,(6092,1152)) is not in pool. Re-compute.\n",
      "Feature for (MD661,274,(6157,1087)) is not in pool. Re-compute.\n",
      "Feature for (MD661,274,(6157,1152)) is not in pool. Re-compute.\n",
      "Feature for (MD661,274,(6222,1087)) is not in pool. Re-compute.\n",
      "Not using image_cache.\n",
      "Load image: 18.83 seconds.\n",
      "Extract patches: 18.98 seconds\n"
     ]
    },
    {
     "name": "stdout",
     "output_type": "stream",
     "text": [
      "(256, 1, 224, 224)\n"
     ]
    },
    {
     "name": "stderr",
     "output_type": "stream",
     "text": [
      "Compute features: 0.38 seconds\n"
     ]
    },
    {
     "name": "stdout",
     "output_type": "stream",
     "text": [
      "Training: 15000 positive, 15000 negative\n"
     ]
    },
    {
     "name": "stderr",
     "output_type": "stream",
     "text": [
      "Fitting classifier: 20.15 seconds\n"
     ]
    },
    {
     "name": "stdout",
     "output_type": "stream",
     "text": [
      "aws s3 cp \"/media/yuncong/BstemAtlasData/CSHL_classifiers/setting_999/classifiers/IC_clf_setting_999.dump\" \"s3://mousebrainatlas-data/CSHL_classifiers/setting_999/classifiers/IC_clf_setting_999.dump\"\n"
     ]
    }
   ],
   "source": [
    "# for structure in all_known_structures:\n",
    "for structure in [\n",
    " 'VCA',\n",
    " 'VCP',\n",
    " 'DC',\n",
    " 'AP',\n",
    " '12N',\n",
    " 'RtTg',\n",
    " 'SC',\n",
    " 'IC']:\n",
    "# for structure in ['LRt']:\n",
    "    \n",
    "    surround_margins = [200]\n",
    "\n",
    "# structure = 'Amb'\n",
    "#     structure = '7N'\n",
    "    # structure = 'SNR'\n",
    "    positive_labels = [structure]\n",
    "    negative_labels = get_negative_labels(structure, 'neg_has_all_surround', margin_um=200, \n",
    "                                          labels_found=all_labels)    \n",
    "    \n",
    "    positive_addresses_traindata_all_stacks = {}\n",
    "    negative_addresses_traindata_all_stacks = {}\n",
    "\n",
    "    for train_stack in train_stacks:\n",
    "        \n",
    "        train_sections = list(chain(*[grid_indices_lookup_allStacks[train_stack][pl].dropna(how='any').index.tolist() \n",
    "                                      for pl in positive_labels]))\n",
    "\n",
    "        ###################################################################################\n",
    "\n",
    "        n_train_sections = train_stack_section_number[train_stack][structure]\n",
    "        # n_train_sections = 10\n",
    "        # n_train_sections = len(train_sections)\n",
    "\n",
    "        if train_stack_stain[train_stack] == 'F':\n",
    "            neurotrace_sections = []\n",
    "            nissl_sections = []\n",
    "            for sec in train_sections:\n",
    "                if metadata_cache['sections_to_filenames'][train_stack][sec].split('-')[1][0] == 'F':\n",
    "                    neurotrace_sections.append(sec)\n",
    "                else:\n",
    "                    nissl_sections.append(sec)\n",
    "            random_train_sections = np.random.choice(neurotrace_sections, min(len(neurotrace_sections), n_train_sections), replace=False)\n",
    "        else:\n",
    "            random_train_sections = np.random.choice(train_sections, min(len(train_sections), n_train_sections), replace=False)\n",
    "\n",
    "        positive_addresses_traindata_all_stacks[train_stack] = sorted([(train_stack, sec, tuple(loc))\n",
    "for nl in set(positive_labels) & set(grid_indices_lookup_allStacks[train_stack].columns)\n",
    "  for sec, locs in grid_indices_lookup_allStacks[train_stack][nl].loc[random_train_sections].dropna().iteritems()\n",
    "  for loc in locs])\n",
    "        \n",
    "        negative_addresses_traindata_all_stacks[train_stack] = sorted([(train_stack, sec, tuple(loc))\n",
    "for nl in set(negative_labels) & set(grid_indices_lookup_allStacks[train_stack].columns)\n",
    "  for sec, locs in grid_indices_lookup_allStacks[train_stack][nl].loc[random_train_sections].dropna().iteritems()\n",
    "  for loc in locs])\n",
    "   \n",
    "    positive_addresses_traindata = sum(positive_addresses_traindata_all_stacks.values(), [])\n",
    "    negative_addresses_traindata = sum(negative_addresses_traindata_all_stacks.values(), [])\n",
    "\n",
    "    print '# positive train =', len(positive_addresses_traindata)\n",
    "    print '# negative train =', len(negative_addresses_traindata)\n",
    "\n",
    "    del positive_addresses_traindata_all_stacks, negative_addresses_traindata_all_stacks\n",
    "    \n",
    "    # features_dict = {(scheme, tfv): {} for scheme in schemes for tfv in transforms}\n",
    "    features_dict = defaultdict(dict)\n",
    "    \n",
    "    # train_scheme = 'stretch_min_max'\n",
    "    # train_scheme = 'normalize_mu_sigma_global_(-1,5)'\n",
    "    train_scheme = 'normalize_mu_region_sigma_wholeImage_(-1,5)'\n",
    "    # train_scheme = 'normalize_mu_region_sigma_wholeImage_(-1,9)'\n",
    "    # train_scheme = 'none'\n",
    "    addresses_to_compute = positive_addresses_traindata + negative_addresses_traindata\n",
    "    \n",
    "    features_loaded = read_cnn_features(addresses=addresses_to_compute, \n",
    "                                        scheme=train_scheme, win_id=7, prep_id=2, \n",
    "                                        model=model, mean_img=mean_img, model_name=model_name, \n",
    "                                        batch_size=batch_size)\n",
    "        \n",
    "    for addr, f in izip(addresses_to_compute, features_loaded):\n",
    "        features_dict[(train_scheme, 'transform0')][addr] = f\n",
    "    \n",
    "#     for i, f in enumerate(features_loaded):\n",
    "#         features_dict[(train_scheme, 'transform0')][addresses_to_compute[i]] = f\n",
    "\n",
    "    ###########################################################\n",
    "    \n",
    "    # n_train_list = [10, 100, 200, 500, 1000, 2000, 5000, 10000, 15000]\n",
    "#     n_train_list = [10, 1000]\n",
    "    n_train_list = [15000]\n",
    "#     test_metrics_all_ntrain = defaultdict(lambda: defaultdict(list))\n",
    "    train_metrics_all_ntrain = defaultdict(lambda: defaultdict(list))\n",
    "\n",
    "    for n_train in n_train_list:\n",
    "\n",
    "        for trial in range(1):\n",
    "\n",
    "            # If train and test data are from different sets\n",
    "        #     n_train_pos = 5000\n",
    "            n_train_pos = min(n_train, len(positive_addresses_traindata))\n",
    "#             if len(positive_addresses_traindata) < n_train_pos:\n",
    "#                 continue\n",
    "            training_pos_indices = np.random.choice(range(len(positive_addresses_traindata)), n_train_pos, replace=False)\n",
    "            \n",
    "#             n_test_pos = 1000\n",
    "#             test_pos_indices = np.random.choice(range(len(positive_addresses_testdata)),\n",
    "#                                                 size=min(len(positive_addresses_testdata), n_test_pos), \n",
    "#                                                 replace=False)\n",
    "\n",
    "            # If train and test are from same set\n",
    "        #     n_pos_total = len(positive_addresses)\n",
    "        #     n_train_pos = 1000\n",
    "        #     training_pos_indices = np.random.choice(range(n_pos_total), n_train_pos, replace=False)\n",
    "        #     test_pos_indices = np.random.choice(np.setdiff1d(range(n_pos_total), training_pos_indices),\n",
    "        #                                         size=min(2000, n_pos_total-n_train_pos), replace=False)\n",
    "        #     n_test_pos = len(test_pos_indices)\n",
    "\n",
    "            ###############\n",
    "\n",
    "            # If train and test data are from different sets\n",
    "        #     n_train_neg = 5000\n",
    "            n_train_neg = n_train_pos\n",
    "            training_neg_indices = np.random.choice(range(len(negative_addresses_traindata)), n_train_neg, replace=False)\n",
    "#             n_test_neg = 1000\n",
    "#             test_neg_indices = np.random.choice(range(len(negative_addresses_testdata)),\n",
    "#                                                 size=min(len(negative_addresses_testdata), n_test_neg), \n",
    "#                                                 replace=False)\n",
    "\n",
    "            # If train and test are from same set\n",
    "        #     n_neg_total = len(negative_addresses)\n",
    "        #     n_train_neg = 1000\n",
    "        #     training_neg_indices = np.random.choice(range(n_neg_total), n_train_neg, replace=False)\n",
    "        #     test_neg_indices = np.random.choice(np.setdiff1d(range(n_neg_total), training_neg_indices), \n",
    "        #                                         size=min(2000, n_pos_total-n_train_pos), replace=False)\n",
    "        #     n_test_neg = len(test_neg_indices)\n",
    "\n",
    "            print \"Training: %d positive, %d negative\" % (n_train_pos, n_train_neg)\n",
    "#             print \"Test: %d positive, %d negative\" % (n_test_pos, n_test_neg)\n",
    "\n",
    "            ################\n",
    "\n",
    "            # If train and test data are from different sets\n",
    "            addresses_train_pos = [positive_addresses_traindata[i] for i in training_pos_indices]\n",
    "            addresses_train_neg = [negative_addresses_traindata[i] for i in training_neg_indices]\n",
    "\n",
    "            #################\n",
    "\n",
    "#             for augment_training in [True, False]:\n",
    "            for augment_training in [False]:\n",
    "\n",
    "                feature_classifier_alg = 'lr'\n",
    "        #             feature_classifier_alg = 'xgb2'\n",
    "        #             feature_classifier_alg = 'lin_svc'\n",
    "        #             feature_classifier_alg = 'lin_svc_calib'\n",
    "                sample_weights = None   \n",
    "\n",
    "                if augment_training:\n",
    "                    train_transforms = range(8)\n",
    "                else:\n",
    "                    train_transforms = range(1)\n",
    "\n",
    "                test_transforms = range(1)\n",
    "\n",
    "                features_train_pos = {(train_scheme, 'transform%d'%tf_variant): \n",
    "                                      [features_dict[(train_scheme, 'transform%d'%tf_variant)][addr] \n",
    "                                       for addr in addresses_train_pos]\n",
    "                                          for tf_variant in train_transforms}\n",
    "                features_train_neg = {(train_scheme, 'transform%d'%tf_variant): \n",
    "                                      [features_dict[(train_scheme, 'transform%d'%tf_variant)][addr] \n",
    "                                       for addr in addresses_train_neg]\n",
    "                                          for tf_variant in train_transforms}\n",
    "\n",
    "                if augment_training:\n",
    "\n",
    "                    train_data_list = []\n",
    "                    train_label_list = []\n",
    "                    for tf in range(8):\n",
    "                        train_data = np.r_[features_train_pos[(train_scheme,'transform%d'%tf)], \n",
    "                                           features_train_neg[(train_scheme,'transform%d'%tf)]]\n",
    "                        train_data_list.append(train_data)\n",
    "\n",
    "                        train_labels = np.r_[np.ones((len(features_train_pos[(train_scheme,'transform%d'%tf)]), )), \n",
    "                                             -np.ones((len(features_train_neg[(train_scheme,'transform%d'%tf)]), ))]\n",
    "                        train_label_list.append(train_labels)\n",
    "\n",
    "                    train_data = np.concatenate(train_data_list)\n",
    "                    train_labels = np.concatenate(train_label_list)        \n",
    "                else:\n",
    "\n",
    "                    train_data = np.r_[features_train_pos[(train_scheme,'transform0')], \n",
    "                                       features_train_neg[(train_scheme,'transform0')]]\n",
    "                    train_labels = np.r_[np.ones((len(features_train_pos[(train_scheme,'transform0')]), )), \n",
    "                                         -np.ones((len(features_train_neg[(train_scheme,'transform0')]), ))]\n",
    "\n",
    "\n",
    "                clf = train_binary_classifier(train_data, train_labels,\n",
    "                                       alg=feature_classifier_alg, \n",
    "                                       sample_weights=sample_weights)\n",
    "                \n",
    "                del train_data, features_train_pos, features_train_neg, features_loaded, features_dict\n",
    "\n",
    "                clf_fp = DataManager.get_classifier_filepath(classifier_id=999, structure=structure)\n",
    "                create_parent_dir_if_not_exists(clf_fp)\n",
    "                joblib.dump(clf, clf_fp)\n",
    "                upload_to_s3(clf_fp)"
   ]
  },
  {
   "cell_type": "markdown",
   "metadata": {},
   "source": [
    "classfier 999 is trained from 15,000 pos and 15,000 neg from both MD661 and MD662"
   ]
  }
 ],
 "metadata": {
  "kernelspec": {
   "display_name": "Python 2",
   "language": "python",
   "name": "python2"
  },
  "language_info": {
   "codemirror_mode": {
    "name": "ipython",
    "version": 2
   },
   "file_extension": ".py",
   "mimetype": "text/x-python",
   "name": "python",
   "nbconvert_exporter": "python",
   "pygments_lexer": "ipython2",
   "version": "2.7.12"
  }
 },
 "nbformat": 4,
 "nbformat_minor": 2
}
