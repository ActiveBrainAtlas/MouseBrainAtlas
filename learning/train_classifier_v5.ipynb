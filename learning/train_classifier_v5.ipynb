{
 "cells": [
  {
   "cell_type": "code",
   "execution_count": 1,
   "metadata": {
    "scrolled": true
   },
   "outputs": [
    {
     "name": "stderr",
     "output_type": "stream",
     "text": [
      "/usr/local/lib/python2.7/dist-packages/matplotlib/__init__.py:1350: UserWarning:  This call to matplotlib.use() has no effect\n",
      "because the backend has already been chosen;\n",
      "matplotlib.use() must be called *before* pylab, matplotlib.pyplot,\n",
      "or matplotlib.backends is imported for the first time.\n",
      "\n",
      "  warnings.warn(_use_error_msg)\n",
      "No vtk\n",
      "No vtkNot using image_cache.\n",
      "Not using image_cache.\n"
     ]
    },
    {
     "name": "stdout",
     "output_type": "stream",
     "text": [
      "Setting environment for Precision WorkStation\n"
     ]
    },
    {
     "name": "stderr",
     "output_type": "stream",
     "text": [
      "Not using image_cache.\n",
      "Not using image_cache.\n",
      "Not using image_cache.\n",
      "Not using image_cache.\n",
      "Not using image_cache.\n",
      "Not using image_cache.\n",
      "Not using image_cache.\n",
      "Not using image_cache.\n",
      "Not using image_cache.\n",
      "Not using image_cache.\n",
      "Not using image_cache.\n",
      "Not using image_cache.\n",
      "Not using image_cache.\n",
      "Not using image_cache.\n",
      "Not using image_cache.\n",
      "Not using image_cache.\n",
      "Not using image_cache.\n",
      "Not using image_cache.\n",
      "Not using image_cache.\n",
      "/usr/local/lib/python2.7/dist-packages/sklearn/cross_validation.py:44: DeprecationWarning: This module was deprecated in version 0.18 in favor of the model_selection module into which all the refactored classes and functions are moved. Also note that the interface of the new CV iterators are different from that of this module. This module will be removed in 0.20.\n",
      "  \"This module will be removed in 0.20.\", DeprecationWarning)\n"
     ]
    }
   ],
   "source": [
    "%load_ext autoreload\n",
    "%autoreload 2\n",
    "\n",
    "import sys\n",
    "import os\n",
    "import time\n",
    "\n",
    "import numpy as np\n",
    "try:\n",
    "    import mxnet as mx\n",
    "except:\n",
    "    sys.stderr.write(\"Cannot import mxnet.\\n\")\n",
    "import matplotlib.pyplot as plt\n",
    "%matplotlib inline\n",
    "from skimage.exposure import rescale_intensity\n",
    "from skimage.transform import rotate\n",
    "\n",
    "sys.path.append(os.environ['REPO_DIR'] + '/utilities')\n",
    "from utilities2015 import *\n",
    "from metadata import *\n",
    "from data_manager import *\n",
    "from learning_utilities import *\n",
    "from distributed_utilities import *\n",
    "from visualization_utilities import *"
   ]
  },
  {
   "cell_type": "code",
   "execution_count": 2,
   "metadata": {
    "collapsed": true
   },
   "outputs": [],
   "source": [
    "from sklearn.externals import joblib\n",
    "\n",
    "from sklearn.linear_model import LogisticRegression\n",
    "from sklearn.svm import LinearSVC, SVC\n",
    "from sklearn.calibration import CalibratedClassifierCV\n",
    "from sklearn.ensemble import GradientBoostingClassifier \n",
    "\n",
    "sys.path.append('/home/yuncong/csd395/xgboost/python-package')\n",
    "try:\n",
    "    from xgboost.sklearn import XGBClassifier\n",
    "except:\n",
    "    sys.stderr.write('xgboost is not loaded.')"
   ]
  },
  {
   "cell_type": "code",
   "execution_count": 3,
   "metadata": {},
   "outputs": [
    {
     "name": "stderr",
     "output_type": "stream",
     "text": [
      "/usr/local/lib/python2.7/dist-packages/mxnet/module/base_module.py:53: UserWarning: \u001b[91mYou created Module with Module(..., label_names=['softmax_label']) but input with name 'softmax_label' is not found in symbol.list_arguments(). Did you mean one of:\n",
      "\tdata\u001b[0m\n",
      "  warnings.warn(msg)\n",
      "/usr/local/lib/python2.7/dist-packages/mxnet/module/base_module.py:65: UserWarning: Data provided by label_shapes don't match names specified by label_names ([] vs. ['softmax_label'])\n",
      "  warnings.warn(msg)\n"
     ]
    }
   ],
   "source": [
    "batch_size = 256\n",
    "model_dir_name = 'inception-bn-blue'\n",
    "model_name = 'inception-bn-blue'\n",
    "model, mean_img = load_mxnet_model(model_dir_name=model_dir_name, model_name=model_name, \n",
    "                                   num_gpus=1, batch_size=batch_size)"
   ]
  },
  {
   "cell_type": "code",
   "execution_count": 4,
   "metadata": {
    "collapsed": true
   },
   "outputs": [],
   "source": [
    "win_id = 5"
   ]
  },
  {
   "cell_type": "code",
   "execution_count": 5,
   "metadata": {
    "scrolled": true
   },
   "outputs": [
    {
     "data": {
      "text/html": [
       "<div>\n",
       "<table border=\"1\" class=\"dataframe\">\n",
       "  <thead>\n",
       "    <tr style=\"text-align: right;\">\n",
       "      <th></th>\n",
       "      <th>input_version</th>\n",
       "      <th>windowing_id</th>\n",
       "      <th>feature_network</th>\n",
       "      <th>feature_classifier_id</th>\n",
       "      <th>comments</th>\n",
       "    </tr>\n",
       "    <tr>\n",
       "      <th>detector_id</th>\n",
       "      <th></th>\n",
       "      <th></th>\n",
       "      <th></th>\n",
       "      <th></th>\n",
       "      <th></th>\n",
       "    </tr>\n",
       "  </thead>\n",
       "  <tbody>\n",
       "    <tr>\n",
       "      <th>1</th>\n",
       "      <td>gray</td>\n",
       "      <td>1</td>\n",
       "      <td>inception-bn-blue</td>\n",
       "      <td>38</td>\n",
       "      <td>NaN</td>\n",
       "    </tr>\n",
       "    <tr>\n",
       "      <th>2</th>\n",
       "      <td>grayL500H0</td>\n",
       "      <td>1</td>\n",
       "      <td>inception-bn-blue</td>\n",
       "      <td>38</td>\n",
       "      <td>NaN</td>\n",
       "    </tr>\n",
       "    <tr>\n",
       "      <th>3</th>\n",
       "      <td>grayL1000H0</td>\n",
       "      <td>1</td>\n",
       "      <td>inception-bn-blue</td>\n",
       "      <td>38</td>\n",
       "      <td>NaN</td>\n",
       "    </tr>\n",
       "    <tr>\n",
       "      <th>4</th>\n",
       "      <td>grayL1500H0</td>\n",
       "      <td>1</td>\n",
       "      <td>inception-bn-blue</td>\n",
       "      <td>38</td>\n",
       "      <td>NaN</td>\n",
       "    </tr>\n",
       "    <tr>\n",
       "      <th>5</th>\n",
       "      <td>grayL2000H0</td>\n",
       "      <td>1</td>\n",
       "      <td>inception-bn-blue</td>\n",
       "      <td>38</td>\n",
       "      <td>NaN</td>\n",
       "    </tr>\n",
       "    <tr>\n",
       "      <th>6</th>\n",
       "      <td>grayL2500H0</td>\n",
       "      <td>1</td>\n",
       "      <td>inception-bn-blue</td>\n",
       "      <td>38</td>\n",
       "      <td>NaN</td>\n",
       "    </tr>\n",
       "    <tr>\n",
       "      <th>7</th>\n",
       "      <td>grayL600H0</td>\n",
       "      <td>1</td>\n",
       "      <td>inception-bn-blue</td>\n",
       "      <td>38</td>\n",
       "      <td>NaN</td>\n",
       "    </tr>\n",
       "    <tr>\n",
       "      <th>8</th>\n",
       "      <td>grayL700H0</td>\n",
       "      <td>1</td>\n",
       "      <td>inception-bn-blue</td>\n",
       "      <td>38</td>\n",
       "      <td>NaN</td>\n",
       "    </tr>\n",
       "    <tr>\n",
       "      <th>9</th>\n",
       "      <td>grayL800H0</td>\n",
       "      <td>1</td>\n",
       "      <td>inception-bn-blue</td>\n",
       "      <td>38</td>\n",
       "      <td>NaN</td>\n",
       "    </tr>\n",
       "    <tr>\n",
       "      <th>10</th>\n",
       "      <td>grayL900H0</td>\n",
       "      <td>1</td>\n",
       "      <td>inception-bn-blue</td>\n",
       "      <td>38</td>\n",
       "      <td>NaN</td>\n",
       "    </tr>\n",
       "    <tr>\n",
       "      <th>12</th>\n",
       "      <td>grayDefault</td>\n",
       "      <td>4</td>\n",
       "      <td>inception-bn-blue</td>\n",
       "      <td>72</td>\n",
       "      <td>NaN</td>\n",
       "    </tr>\n",
       "    <tr>\n",
       "      <th>13</th>\n",
       "      <td>grayDefault</td>\n",
       "      <td>5</td>\n",
       "      <td>inception-bn-blue</td>\n",
       "      <td>73</td>\n",
       "      <td>NaN</td>\n",
       "    </tr>\n",
       "    <tr>\n",
       "      <th>14</th>\n",
       "      <td>grayDefault</td>\n",
       "      <td>5</td>\n",
       "      <td>inception-bn-blue</td>\n",
       "      <td>72</td>\n",
       "      <td>NaN</td>\n",
       "    </tr>\n",
       "    <tr>\n",
       "      <th>15</th>\n",
       "      <td>gray</td>\n",
       "      <td>5</td>\n",
       "      <td>inception-bn-blue</td>\n",
       "      <td>73</td>\n",
       "      <td>NaN</td>\n",
       "    </tr>\n",
       "    <tr>\n",
       "      <th>16</th>\n",
       "      <td>gray</td>\n",
       "      <td>6</td>\n",
       "      <td>inception-bn-blue</td>\n",
       "      <td>130</td>\n",
       "      <td>twice as large patches</td>\n",
       "    </tr>\n",
       "  </tbody>\n",
       "</table>\n",
       "</div>"
      ],
      "text/plain": [
       "            input_version  windowing_id    feature_network  \\\n",
       "detector_id                                                  \n",
       "1                    gray             1  inception-bn-blue   \n",
       "2              grayL500H0             1  inception-bn-blue   \n",
       "3             grayL1000H0             1  inception-bn-blue   \n",
       "4             grayL1500H0             1  inception-bn-blue   \n",
       "5             grayL2000H0             1  inception-bn-blue   \n",
       "6             grayL2500H0             1  inception-bn-blue   \n",
       "7              grayL600H0             1  inception-bn-blue   \n",
       "8              grayL700H0             1  inception-bn-blue   \n",
       "9              grayL800H0             1  inception-bn-blue   \n",
       "10             grayL900H0             1  inception-bn-blue   \n",
       "12            grayDefault             4  inception-bn-blue   \n",
       "13            grayDefault             5  inception-bn-blue   \n",
       "14            grayDefault             5  inception-bn-blue   \n",
       "15                   gray             5  inception-bn-blue   \n",
       "16                   gray             6  inception-bn-blue   \n",
       "\n",
       "             feature_classifier_id                comments  \n",
       "detector_id                                                 \n",
       "1                               38                     NaN  \n",
       "2                               38                     NaN  \n",
       "3                               38                     NaN  \n",
       "4                               38                     NaN  \n",
       "5                               38                     NaN  \n",
       "6                               38                     NaN  \n",
       "7                               38                     NaN  \n",
       "8                               38                     NaN  \n",
       "9                               38                     NaN  \n",
       "10                              38                     NaN  \n",
       "12                              72                     NaN  \n",
       "13                              73                     NaN  \n",
       "14                              72                     NaN  \n",
       "15                              73                     NaN  \n",
       "16                             130  twice as large patches  "
      ]
     },
     "execution_count": 5,
     "metadata": {},
     "output_type": "execute_result"
    }
   ],
   "source": [
    "detector_settings"
   ]
  },
  {
   "cell_type": "code",
   "execution_count": null,
   "metadata": {
    "collapsed": true
   },
   "outputs": [],
   "source": [
    "# stacks = ['MD661', 'MD662']\n",
    "# stacks = ['MD661', 'ChatCryoJane201710']\n",
    "# stacks = ['MD642', 'MD661']\n",
    "stacks = ['MD642', 'MD652', 'MD653', 'ChatCryoJane201710']\n",
    "# stacks = ['MD589', 'MD661']\n",
    "# stacks = ['MD589', 'ChatCryoJane201710']"
   ]
  },
  {
   "cell_type": "code",
   "execution_count": null,
   "metadata": {
    "collapsed": true
   },
   "outputs": [],
   "source": [
    "sample_locations_allStacks = {stack: grid_parameters_to_sample_locations(win_id_to_gridspec(win_id=5, stack=stack)) \n",
    "                              for stack in stacks}"
   ]
  },
  {
   "cell_type": "code",
   "execution_count": null,
   "metadata": {
    "collapsed": true
   },
   "outputs": [],
   "source": [
    "grid_indices_lookup_allStacks = {}\n",
    "\n",
    "stack = 'MD642'\n",
    "try:\n",
    "    grid_indices_lookup_allStacks[stack] = \\\n",
    "    DataManager.load_annotation_to_grid_indices_lookup(stack=stack, win_id=win_id,\n",
    "                                                       by_human=False, timestamp='latest',\n",
    "                                                       detector_id_f=13)\n",
    "#     grid_indices_lookup_allStacks[stack] = \\\n",
    "#     DataManager.load_annotation_to_grid_indices_lookup(stack=stack, win_id=win_id,\n",
    "#                                                        by_human=True, timestamp='latest')\n",
    "except Exception as e:\n",
    "    print e\n",
    "    sys.stderr.write(\"Fail to load annotation grid lookup for %s.\\n\" % stack)\n",
    "    \n",
    "\n",
    "stack = 'MD661'\n",
    "# stack = 'ChatCryoJane201710'\n",
    "try:\n",
    "    grid_indices_lookup_allStacks[stack] = \\\n",
    "    DataManager.load_annotation_to_grid_indices_lookup(stack=stack, win_id=win_id,\n",
    "                                                       by_human=True, timestamp='latest')\n",
    "except:\n",
    "    sys.stderr.write(\"Fail to load annotation grid lookup for %s.\\n\" % stack)"
   ]
  },
  {
   "cell_type": "code",
   "execution_count": null,
   "metadata": {
    "collapsed": true
   },
   "outputs": [],
   "source": [
    "from itertools import chain\n",
    "all_labels = sorted(list(set(chain.from_iterable(set(grid_indices_lookup_allStacks[st].columns.tolist()) for st in stacks))))"
   ]
  },
  {
   "cell_type": "code",
   "execution_count": null,
   "metadata": {
    "collapsed": true
   },
   "outputs": [],
   "source": [
    "address_multidx = pd.MultiIndex.from_tuples([(stack, sec, grid_idx) \n",
    "           for stack in sorted(stacks)\n",
    "           for sec in np.arange(metadata_cache['section_limits'][stack][0], \n",
    "                                metadata_cache['section_limits'][stack][-1]+1)\n",
    "           for grid_idx in range(len(sample_locations_allStacks[stack]))], \n",
    "          names=['stack', 'section', 'grid_idx'])"
   ]
  },
  {
   "cell_type": "code",
   "execution_count": null,
   "metadata": {
    "collapsed": true
   },
   "outputs": [],
   "source": [
    "address_label_df_allStacks = DataFrame(columns=all_labels,\n",
    "    index=address_multidx, data=False)"
   ]
  },
  {
   "cell_type": "code",
   "execution_count": null,
   "metadata": {
    "collapsed": true
   },
   "outputs": [],
   "source": []
  }
 ],
 "metadata": {
  "kernelspec": {
   "display_name": "Python 2",
   "language": "python",
   "name": "python2"
  },
  "language_info": {
   "codemirror_mode": {
    "name": "ipython",
    "version": 2
   },
   "file_extension": ".py",
   "mimetype": "text/x-python",
   "name": "python",
   "nbconvert_exporter": "python",
   "pygments_lexer": "ipython2",
   "version": "2.7.12"
  }
 },
 "nbformat": 4,
 "nbformat_minor": 2
}
