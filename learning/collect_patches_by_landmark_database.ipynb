{
 "cells": [
  {
   "cell_type": "code",
   "execution_count": 15,
   "metadata": {
    "collapsed": true
   },
   "outputs": [],
   "source": [
    "%reload_ext autoreload\n",
    "%autoreload 2\n",
    "\n",
    "import cv2\n",
    "\n",
    "import os\n",
    "import sys\n",
    "sys.path.append(os.path.join(os.environ['REPO_DIR'], 'utilities'))\n",
    "from utilities2015 import *\n",
    "\n",
    "from collections import defaultdict\n",
    "\n",
    "from matplotlib.path import Path\n",
    "%matplotlib inline"
   ]
  },
  {
   "cell_type": "code",
   "execution_count": 2,
   "metadata": {
    "collapsed": false
   },
   "outputs": [],
   "source": [
    "stack = 'MD589'\n",
    "first, last = section_range_lookup[stack]"
   ]
  },
  {
   "cell_type": "code",
   "execution_count": null,
   "metadata": {
    "collapsed": true
   },
   "outputs": [],
   "source": [
    "# label_polygon = defaultdict(lambda: {})\n",
    "\n",
    "# for sec, dm in dms.iteritems():\n",
    "    \n",
    "#     res = dm.load_proposal_review_result(None, 'latest', 'consolidated')\n",
    "#     if res is None:\n",
    "#         continue\n",
    "#     usr, ts, suffix, result = res\n",
    "#     for props in result:\n",
    "#         label_polygon[props['label']][sec] = props['vertices']\n",
    "    \n",
    "# label_polygon.default_factory = None\n",
    "\n",
    "# pickle.dump(label_polygon, open(os.environ['REPO_DIR']+'/database/'+stack+'_label_polygons.pkl', 'w'))"
   ]
  },
  {
   "cell_type": "code",
   "execution_count": 3,
   "metadata": {
    "collapsed": true
   },
   "outputs": [],
   "source": [
    "label_polygon = pickle.load(open(os.environ['REPO_DIR']+'/database/'+stack+'_label_polygons.pkl', 'r'))\n",
    "\n",
    "labels_to_collect = ['5N', '7n', '7N', '12N', 'Gr', 'LVe', 'Pn', 'SuVe', 'VLL']\n",
    "\n",
    "assert set(labels_to_collect).issubset(set(label_polygon.keys()))"
   ]
  },
  {
   "cell_type": "code",
   "execution_count": 4,
   "metadata": {
    "collapsed": true
   },
   "outputs": [],
   "source": [
    "section_contains_labels = defaultdict(set)\n",
    "for l, secs in label_polygon.iteritems():\n",
    "    for s in secs:\n",
    "        section_contains_labels[s].add(l)\n",
    "section_contains_labels.default_factory = None"
   ]
  },
  {
   "cell_type": "code",
   "execution_count": 5,
   "metadata": {
    "collapsed": false
   },
   "outputs": [],
   "source": [
    "patch_size = 224\n",
    "half_size = patch_size/2\n",
    "stride = 56\n",
    "\n",
    "dm = DataManager(stack=stack, section=first, segm_params_id='tSLIC200', load_mask=False)\n",
    "\n",
    "w = dm.image_width\n",
    "h = dm.image_height \n",
    "\n",
    "ys, xs = np.meshgrid(np.arange(half_size, h-half_size, stride), np.arange(half_size, w-half_size, stride),\n",
    "                     indexing='xy')\n",
    "    \n",
    "sample_locations = np.c_[xs.flat, ys.flat]"
   ]
  },
  {
   "cell_type": "code",
   "execution_count": 16,
   "metadata": {
    "collapsed": false
   },
   "outputs": [],
   "source": [
    "from shapely.geometry import Polygon, Point\n",
    "from shapely.ops import cascaded_union"
   ]
  },
  {
   "cell_type": "code",
   "execution_count": 17,
   "metadata": {
    "collapsed": true
   },
   "outputs": [],
   "source": [
    "margin = int(.3*half_size)"
   ]
  },
  {
   "cell_type": "code",
   "execution_count": 20,
   "metadata": {
    "collapsed": true
   },
   "outputs": [],
   "source": [
    "sample_locations_ul = sample_locations - (margin, margin)\n",
    "sample_locations_ur = sample_locations - (-margin, margin)\n",
    "sample_locations_ll = sample_locations - (margin, -margin)\n",
    "sample_locations_lr = sample_locations - (-margin, -margin)"
   ]
  },
  {
   "cell_type": "code",
   "execution_count": 24,
   "metadata": {
    "collapsed": false,
    "scrolled": true
   },
   "outputs": [
    {
     "name": "stdout",
     "output_type": "stream",
     "text": [
      "111\n",
      "113\n",
      "115\n",
      "117\n",
      "119\n",
      "121\n",
      "123\n",
      "125\n",
      "127\n",
      "129\n",
      "131\n",
      "133\n",
      "135\n",
      "137\n",
      "139\n",
      "141\n",
      "143\n",
      "145\n",
      "147\n",
      "149\n",
      "151\n",
      "153\n",
      "155\n",
      "157\n",
      "159\n",
      "161\n",
      "163\n",
      "165\n",
      "167\n",
      "169\n",
      "171\n",
      "173\n",
      "175\n",
      "177\n",
      "179\n",
      "181\n",
      "183\n",
      "185\n",
      "187\n",
      "189\n",
      "191\n",
      "193\n",
      "195\n",
      "197\n",
      "199\n",
      "201\n",
      "203\n",
      "205\n",
      "207\n",
      "209\n",
      "211\n",
      "213\n",
      "215\n",
      "217\n",
      "219\n",
      "223\n",
      "225\n",
      "227\n",
      "229\n",
      "231\n",
      "233\n",
      "235\n",
      "237\n",
      "239\n",
      "241\n",
      "243\n",
      "245\n",
      "247\n",
      "249\n",
      "251\n",
      "253\n",
      "255\n",
      "257\n",
      "259\n",
      "261\n",
      "263\n",
      "265\n",
      "267\n",
      "269\n",
      "271\n",
      "273\n",
      "275\n",
      "277\n",
      "279\n",
      "281\n",
      "283\n",
      "285\n",
      "287\n",
      "289\n",
      "291\n",
      "293\n",
      "295\n",
      "297\n",
      "299\n",
      "300\n",
      "302\n",
      "304\n",
      "306\n",
      "308\n",
      "310\n",
      "312\n",
      "314\n",
      "316\n",
      "318\n",
      "320\n",
      "322\n",
      "323\n",
      "325\n",
      "327\n",
      "329\n",
      "331\n",
      "333\n",
      "335\n",
      "337\n",
      "339\n",
      "341\n",
      "343\n",
      "345\n",
      "347\n",
      "349\n",
      "351\n"
     ]
    }
   ],
   "source": [
    "# import time\n",
    "# t = time.time()\n",
    "\n",
    "all_indices = defaultdict(dict)\n",
    "\n",
    "for sec, labels in section_contains_labels.iteritems():\n",
    "\n",
    "# sec = 155\n",
    "# labels = section_contains_labels[sec]\n",
    "\n",
    "    print sec\n",
    "\n",
    "    labs = set(labels) & set(labels_to_collect)\n",
    "\n",
    "    if len(labs) == 0:\n",
    "        continue\n",
    "\n",
    "    dm = DataManager(stack=stack, section=sec, segm_params_id='tSLIC200', load_mask=False)\n",
    "\n",
    "    mask = dm.load_thumbnail_mask()\n",
    "    indices_fg = np.where(mask[sample_locations[:,1]/32, sample_locations[:,0]/32])[0]\n",
    "    indices_bg = np.setdiff1d(range(sample_locations.shape[0]), indices_fg)\n",
    "\n",
    "    all_polygons = {}\n",
    "    indices_inside = {}\n",
    "    indices_buffer = {}\n",
    "\n",
    "    # dm._load_image(['rgb'])\n",
    "#     dm._load_image(['rgb-jpg'])\n",
    "\n",
    "    for label in labs:\n",
    "\n",
    "        path = Path(label_polygon[label][sec])\n",
    "        indices_inside[label] =  np.where(path.contains_points(sample_locations_ll) &\\\n",
    "                                          path.contains_points(sample_locations_lr) &\\\n",
    "                                          path.contains_points(sample_locations_ul) &\\\n",
    "                                          path.contains_points(sample_locations_ur))[0]\n",
    "\n",
    "    indices_allInside = np.concatenate(indices_inside.values())\n",
    "        \n",
    "    for label in labs:\n",
    " \n",
    "        surround = Polygon(label_polygon[label][sec]).buffer(500, resolution=2)\n",
    "\n",
    "        path = Path(list(surround.exterior.coords))\n",
    "        indices_buf =  np.where(path.contains_points(sample_locations_ll) &\\\n",
    "                                path.contains_points(sample_locations_lr) &\\\n",
    "                                path.contains_points(sample_locations_ul) &\\\n",
    "                                path.contains_points(sample_locations_ur))[0]\n",
    "\n",
    "        indices_buffer[label] = np.setdiff1d(indices_buf, np.r_[indices_bg, indices_allInside])\n",
    "\n",
    "#         if len(indices_inside[label]) > 0:\n",
    "\n",
    "#             output_dir = '/home/yuncong/CSHL_data_patches/%s/%04d/%s'%(stack, sec, label)\n",
    "#             if not os.path.exists(output_dir):\n",
    "#                 os.makedirs(output_dir)\n",
    "\n",
    "#     #         for i in indices_inside[label]:\n",
    "#             for i in np.random.choice(indices_inside[label], min(10, len(indices_inside[label])), replace=False):\n",
    "#                 x, y = sample_locations[i]\n",
    "#                 patch = dm.image_rgb_jpg[y-half_size:y+half_size, x-half_size:x+half_size]\n",
    "#                 cv2.imwrite(output_dir + '/%s_%04d_%08d.jpg'%(stack, sec, i), img_as_ubyte(patch[..., ::-1]))\n",
    "\n",
    "#     #         for i in indices_buffer[label]:\n",
    "#         if len(indices_buffer[label]) > 0:\n",
    "\n",
    "#             output_dir = '/home/yuncong/CSHL_data_patches/%s/%04d/%s_surround'%(stack, sec, label)\n",
    "#             if not os.path.exists(output_dir):\n",
    "#                 os.makedirs(output_dir)\n",
    "\n",
    "#             for i in np.random.choice(indices_buffer[label], min(10, len(indices_buffer[label])), replace=False):\n",
    "#                 x, y = sample_locations[i]\n",
    "#                 patch = dm.image_rgb_jpg[y-half_size:y+half_size, x-half_size:x+half_size]\n",
    "#                 cv2.imwrite(output_dir + '/%s_%04d_%08d.jpg'%(stack, sec, i), img_as_ubyte(patch[..., ::-1]))\n",
    "\n",
    "#     output_dir = '/home/yuncong/CSHL_data_patches/%s/%04d/bg'%(stack, sec)\n",
    "#     if not os.path.exists(output_dir):\n",
    "#         os.makedirs(output_dir)\n",
    "\n",
    "#     for i in np.random.choice(indices_bg, 10, replace=False):\n",
    "#         x, y = sample_locations[i]\n",
    "#         patch = dm.image_rgb[y-half_size:y+half_size, x-half_size:x+half_size]\n",
    "#         cv2.imwrite(output_dir + '/%08d.jpg'%i, img_as_ubyte(patch[..., ::-1]))\n",
    "\n",
    "    all_indices[sec] = {}\n",
    "    for l, inds in indices_inside.iteritems():\n",
    "        all_indices[sec][l] = inds\n",
    "    for l, inds in indices_buffer.iteritems():\n",
    "        all_indices[sec][l+'_surround'] = inds\n",
    "\n",
    "all_indices.default_factory = None\n",
    "        \n",
    "# print time.time() - t"
   ]
  },
  {
   "cell_type": "code",
   "execution_count": 23,
   "metadata": {
    "collapsed": false,
    "scrolled": true
   },
   "outputs": [
    {
     "data": {
      "text/plain": [
       "{'7N': array([20564, 20769, 20770, 20771, 20975, 20976, 20977, 21181, 21182,\n",
       "        21183, 21387, 21388, 21389, 21593, 21594, 21595, 21596, 21799,\n",
       "        21800, 21801, 21802, 22005, 22006, 22007, 22008, 22212, 22213,\n",
       "        22214, 22419, 22420, 22626]),\n",
       " '7N_surround': array([18709, 18710, 18711, 18913, 18914, 18915, 18916, 18917, 18918,\n",
       "        18919, 18920, 18921, 19117, 19118, 19119, 19120, 19121, 19122,\n",
       "        19123, 19124, 19125, 19126, 19127, 19128, 19322, 19323, 19324,\n",
       "        19325, 19326, 19327, 19328, 19329, 19330, 19331, 19332, 19333,\n",
       "        19334, 19527, 19528, 19529, 19530, 19531, 19532, 19533, 19534,\n",
       "        19535, 19536, 19537, 19538, 19539, 19540, 19541, 19732, 19733,\n",
       "        19734, 19735, 19736, 19737, 19738, 19739, 19740, 19741, 19742,\n",
       "        19743, 19744, 19745, 19746, 19747, 19748, 19938, 19939, 19940,\n",
       "        19941, 19942, 19943, 19944, 19945, 19946, 19947, 19948, 19949,\n",
       "        19950, 19951, 19952, 19953, 19954, 19955, 20143, 20144, 20145,\n",
       "        20146, 20147, 20148, 20149, 20150, 20151, 20152, 20153, 20154,\n",
       "        20155, 20156, 20157, 20158, 20159, 20160, 20161, 20349, 20350,\n",
       "        20351, 20352, 20353, 20354, 20355, 20356, 20357, 20358, 20359,\n",
       "        20360, 20361, 20362, 20363, 20364, 20365, 20366, 20367, 20554,\n",
       "        20555, 20556, 20557, 20558, 20559, 20560, 20561, 20562, 20563,\n",
       "        20565, 20566, 20567, 20568, 20569, 20570, 20571, 20572, 20573,\n",
       "        20574, 20760, 20761, 20762, 20763, 20764, 20765, 20766, 20767,\n",
       "        20768, 20772, 20773, 20774, 20775, 20776, 20777, 20778, 20779,\n",
       "        20780, 20966, 20967, 20968, 20969, 20970, 20971, 20972, 20973,\n",
       "        20974, 20978, 20979, 20980, 20981, 20982, 20983, 20984, 20985,\n",
       "        21172, 21173, 21174, 21175, 21176, 21177, 21178, 21179, 21180,\n",
       "        21184, 21185, 21186, 21187, 21188, 21189, 21190, 21191, 21378,\n",
       "        21379, 21380, 21381, 21382, 21383, 21384, 21385, 21386, 21390,\n",
       "        21391, 21392, 21393, 21394, 21395, 21396, 21397, 21584, 21585,\n",
       "        21586, 21587, 21588, 21589, 21590, 21591, 21592, 21597, 21598,\n",
       "        21599, 21600, 21601, 21602, 21603, 21790, 21791, 21792, 21793,\n",
       "        21794, 21795, 21796, 21797, 21798, 21803, 21804, 21805, 21806,\n",
       "        21807, 21808, 21809, 21996, 21997, 21998, 21999, 22000, 22001,\n",
       "        22002, 22003, 22004, 22009, 22010, 22011, 22012, 22013, 22014,\n",
       "        22015, 22202, 22203, 22204, 22205, 22206, 22207, 22208, 22209,\n",
       "        22210, 22211, 22215, 22216, 22217, 22218, 22219, 22220, 22221,\n",
       "        22408, 22409, 22410, 22411, 22412, 22413, 22414, 22415, 22416,\n",
       "        22417, 22418, 22421, 22422, 22423, 22424, 22425, 22426, 22615,\n",
       "        22616, 22617, 22618, 22619, 22620, 22621, 22622, 22623, 22624,\n",
       "        22625, 22627, 22628, 22629, 22630, 22631, 22632, 22821, 22822,\n",
       "        22823, 22824, 22825, 22826, 22827, 22828, 22829, 22830, 22831,\n",
       "        22832, 22833, 22834, 22835, 22836, 22837, 22838, 23028, 23029,\n",
       "        23030, 23031, 23032, 23033, 23034, 23035, 23036, 23037, 23038,\n",
       "        23039, 23040, 23041, 23042, 23043, 23044, 23234, 23235, 23236,\n",
       "        23237, 23238, 23239, 23240, 23241, 23242, 23243, 23244, 23245,\n",
       "        23246, 23247, 23248, 23249, 23250, 23441, 23442, 23443, 23444,\n",
       "        23445, 23446, 23447, 23448, 23449, 23450, 23451, 23452, 23453,\n",
       "        23454, 23455, 23456, 23648, 23649, 23650, 23651, 23652, 23653,\n",
       "        23654, 23655, 23656, 23657, 23658, 23659, 23660, 23661, 23662,\n",
       "        23855, 23856, 23857, 23858, 23859, 23860, 23861, 23862, 23863,\n",
       "        23864, 23865, 23866, 23867, 23868, 24063, 24064, 24065, 24066,\n",
       "        24067, 24068, 24069, 24070, 24071, 24072, 24073, 24272, 24273,\n",
       "        24274, 24275, 24276, 24277]),\n",
       " '7n': array([14378, 14584, 14585, 14790, 14791, 14792, 14996, 14997, 14998,\n",
       "        15202, 15203, 15204, 15408, 15409, 15410, 15614, 15615, 15616,\n",
       "        15617, 15821, 15822, 15823, 16027, 16028, 16029, 16234, 16235,\n",
       "        16440, 16441]),\n",
       " '7n_surround': array([12521, 12522, 12523, 12524, 12525, 12526, 12725, 12726, 12727,\n",
       "        12728, 12729, 12730, 12731, 12732, 12733, 12734, 12930, 12931,\n",
       "        12932, 12933, 12934, 12935, 12936, 12937, 12938, 12939, 12940,\n",
       "        12941, 12942, 13135, 13136, 13137, 13138, 13139, 13140, 13141,\n",
       "        13142, 13143, 13144, 13145, 13146, 13147, 13148, 13149, 13341,\n",
       "        13342, 13343, 13344, 13345, 13346, 13347, 13348, 13349, 13350,\n",
       "        13351, 13352, 13353, 13354, 13355, 13356, 13546, 13547, 13548,\n",
       "        13549, 13550, 13551, 13552, 13553, 13554, 13555, 13556, 13557,\n",
       "        13558, 13559, 13560, 13561, 13562, 13752, 13753, 13754, 13755,\n",
       "        13756, 13757, 13758, 13759, 13760, 13761, 13762, 13763, 13764,\n",
       "        13765, 13766, 13767, 13768, 13769, 13957, 13958, 13959, 13960,\n",
       "        13961, 13962, 13963, 13964, 13965, 13966, 13967, 13968, 13969,\n",
       "        13970, 13971, 13972, 13973, 13974, 13975, 13976, 14163, 14164,\n",
       "        14165, 14166, 14167, 14168, 14169, 14170, 14171, 14172, 14173,\n",
       "        14174, 14175, 14176, 14177, 14178, 14179, 14180, 14181, 14182,\n",
       "        14369, 14370, 14371, 14372, 14373, 14374, 14375, 14376, 14377,\n",
       "        14379, 14380, 14381, 14382, 14383, 14384, 14385, 14386, 14387,\n",
       "        14388, 14575, 14576, 14577, 14578, 14579, 14580, 14581, 14582,\n",
       "        14583, 14586, 14587, 14588, 14589, 14590, 14591, 14592, 14593,\n",
       "        14594, 14781, 14782, 14783, 14784, 14785, 14786, 14787, 14788,\n",
       "        14789, 14793, 14794, 14795, 14796, 14797, 14798, 14799, 14800,\n",
       "        14801, 14987, 14988, 14989, 14990, 14991, 14992, 14993, 14994,\n",
       "        14995, 14999, 15000, 15001, 15002, 15003, 15004, 15005, 15006,\n",
       "        15007, 15193, 15194, 15195, 15196, 15197, 15198, 15199, 15200,\n",
       "        15201, 15205, 15206, 15207, 15208, 15209, 15210, 15211, 15212,\n",
       "        15213, 15399, 15400, 15401, 15402, 15403, 15404, 15405, 15406,\n",
       "        15407, 15411, 15412, 15413, 15414, 15415, 15416, 15417, 15418,\n",
       "        15419, 15605, 15606, 15607, 15608, 15609, 15610, 15611, 15612,\n",
       "        15613, 15618, 15619, 15620, 15621, 15622, 15623, 15624, 15625,\n",
       "        15626, 15811, 15812, 15813, 15814, 15815, 15816, 15817, 15818,\n",
       "        15819, 15820, 15824, 15825, 15826, 15827, 15828, 15829, 15830,\n",
       "        15831, 15832, 16017, 16018, 16019, 16020, 16021, 16022, 16023,\n",
       "        16024, 16025, 16026, 16030, 16031, 16032, 16033, 16034, 16035,\n",
       "        16036, 16037, 16038, 16224, 16225, 16226, 16227, 16228, 16229,\n",
       "        16230, 16231, 16232, 16233, 16236, 16237, 16238, 16239, 16240,\n",
       "        16241, 16242, 16243, 16244, 16430, 16431, 16432, 16433, 16434,\n",
       "        16435, 16436, 16437, 16438, 16439, 16442, 16443, 16444, 16445,\n",
       "        16446, 16447, 16448, 16449, 16450, 16637, 16638, 16639, 16640,\n",
       "        16641, 16642, 16643, 16644, 16645, 16646, 16647, 16648, 16649,\n",
       "        16650, 16651, 16652, 16653, 16654, 16655, 16843, 16844, 16845,\n",
       "        16846, 16847, 16848, 16849, 16850, 16851, 16852, 16853, 16854,\n",
       "        16855, 16856, 16857, 16858, 16859, 16860, 16861, 17050, 17051,\n",
       "        17052, 17053, 17054, 17055, 17056, 17057, 17058, 17059, 17060,\n",
       "        17061, 17062, 17063, 17064, 17065, 17066, 17067, 17256, 17257,\n",
       "        17258, 17259, 17260, 17261, 17262, 17263, 17264, 17265, 17266,\n",
       "        17267, 17268, 17269, 17270, 17271, 17272, 17463, 17464, 17465,\n",
       "        17466, 17467, 17468, 17469, 17470, 17471, 17472, 17473, 17474,\n",
       "        17475, 17476, 17477, 17478, 17670, 17671, 17672, 17673, 17674,\n",
       "        17675, 17676, 17677, 17678, 17679, 17680, 17681, 17682, 17683,\n",
       "        17877, 17878, 17879, 17880, 17881, 17882, 17883, 17884, 17885,\n",
       "        17886, 17887, 17888, 18084, 18085, 18086, 18087, 18088, 18089,\n",
       "        18090, 18091, 18092, 18093, 18292, 18293, 18294, 18295, 18296, 18297])}"
      ]
     },
     "execution_count": 23,
     "metadata": {},
     "output_type": "execute_result"
    }
   ],
   "source": [
    "all_indices"
   ]
  },
  {
   "cell_type": "code",
   "execution_count": 22,
   "metadata": {
    "collapsed": true
   },
   "outputs": [],
   "source": [
    "all_indices = dict([])\n",
    "for l, inds in indices_inside.iteritems():\n",
    "    all_indices[l] = inds\n",
    "for l, inds in indices_buffer.iteritems():\n",
    "    all_indices[l+'_surround'] = inds\n",
    "    \n",
    "import cPickle as pickle\n",
    "pickle.dump(all_indices, open('%(stack)s_%(sec)04d_indices.pkl'%{'stack':stack, 'sec':sec}, 'w'))"
   ]
  },
  {
   "cell_type": "code",
   "execution_count": 19,
   "metadata": {
    "collapsed": true
   },
   "outputs": [],
   "source": []
  },
  {
   "cell_type": "code",
   "execution_count": null,
   "metadata": {
    "collapsed": true
   },
   "outputs": [],
   "source": [
    "# Whole slide\n",
    "\n",
    "sec = 195\n",
    "output_dir = '/home/yuncong/CSHL_data_patches/%s/%04d/%s'%(stack, sec, label)\n",
    "if not os.path.exists(output_dir):\n",
    "    os.makedirs(output_dir)\n",
    "\n",
    "for i in indices_fg:\n",
    "    x, y = sample_locations[i]\n",
    "#             patch = dm.image_rgb[y-half_size:y+half_size, x-half_size:x+half_size]\n",
    "    patch = dm.image_rgb_jpg[y-half_size:y+half_size, x-half_size:x+half_size]\n",
    "    cv2.imwrite(output_dir + '/%s_%04d_%08d.jpg'%(stack, sec, i), img_as_ubyte(patch[..., ::-1]))"
   ]
  },
  {
   "cell_type": "code",
   "execution_count": 7,
   "metadata": {
    "collapsed": false
   },
   "outputs": [
    {
     "name": "stdout",
     "output_type": "stream",
     "text": [
      "22401 patches\n"
     ]
    },
    {
     "name": "stderr",
     "output_type": "stream",
     "text": [
      "/oasis/projects/nsf/csd181/yuncong/virtualenv-1.9.1/yuncongve/lib/python2.7/site-packages/PIL/Image.py:2224: DecompressionBombWarning: Image size (157463552 pixels) exceeds limit of 89478485 pixels, could be decompression bomb DOS attack.\n",
      "  DecompressionBombWarning)\n"
     ]
    }
   ],
   "source": [
    "# ROI\n",
    "\n",
    "box_x = 37\n",
    "box_y = 122\n",
    "box_w = 393\n",
    "box_h = 219\n",
    "xmin = box_x*32\n",
    "xmax = (box_x+box_w)*32\n",
    "ymin = box_y*32\n",
    "ymax = (box_y+box_h)*32\n",
    "\n",
    "sec = 195\n",
    "\n",
    "dm = DataManager(stack=stack, section=sec, segm_params_id='tSLIC200', load_mask=False)\n",
    "\n",
    "mask = dm.load_thumbnail_mask()\n",
    "indices_fg = np.where(mask[sample_locations[:,1]/32, sample_locations[:,0]/32])[0]\n",
    "indices_bg = np.setdiff1d(range(sample_locations.shape[0]), indices_fg)\n",
    "\n",
    "# dm._load_image(['rgb'])\n",
    "dm._load_image(['rgb-jpg'])\n",
    "\n",
    "output_dir = '/home/yuncong/CSHL_data_patches/%s_byROI/%04d/roi1'%(stack, sec)\n",
    "if not os.path.exists(output_dir):\n",
    "    os.makedirs(output_dir)\n",
    "\n",
    "indices_roi = np.where(np.all(np.c_[sample_locations[:,0] > xmin, sample_locations[:,1] > ymin, \n",
    "                                    sample_locations[:,0] < xmax, sample_locations[:,1] < ymax], axis=1))[0]\n",
    "\n",
    "indices_roi = np.setdiff1d(indices_roi, indices_bg)\n",
    "\n",
    "print len(indices_roi), 'patches'\n",
    "\n",
    "# for i in indices_roi:\n",
    "# # for i in np.random.choice(indices_roi, min(10, len(indices_roi)), replace=False):\n",
    "#     x, y = sample_locations[i]\n",
    "# #             patch = dm.image_rgb[y-half_size:y+half_size, x-half_size:x+half_size]\n",
    "#     patch = dm.image_rgb_jpg[y-half_size:y+half_size, x-half_size:x+half_size]\n",
    "#     cv2.imwrite(output_dir + '/%s_%04d_%08d.jpg'%(stack, sec, i), img_as_ubyte(patch[..., ::-1]))"
   ]
  },
  {
   "cell_type": "code",
   "execution_count": 8,
   "metadata": {
    "collapsed": true
   },
   "outputs": [],
   "source": [
    "for i in indices_roi:\n",
    "# for i in np.random.choice(indices_roi, min(10, len(indices_roi)), replace=False):\n",
    "    x, y = sample_locations[i]\n",
    "#             patch = dm.image_rgb[y-half_size:y+half_size, x-half_size:x+half_size]\n",
    "    patch = dm.image_rgb_jpg[y-half_size:y+half_size, x-half_size:x+half_size]\n",
    "    cv2.imwrite(output_dir + '/%s_%04d_%08d.jpg'%(stack, sec, i), img_as_ubyte(patch[..., ::-1]))"
   ]
  },
  {
   "cell_type": "code",
   "execution_count": 13,
   "metadata": {
    "collapsed": false
   },
   "outputs": [
    {
     "name": "stdout",
     "output_type": "stream",
     "text": [
      "tar -I pigz -C MD589_byROI/0195/roi1 -cf MD589_0195_roi1.tar .\n"
     ]
    }
   ],
   "source": [
    "print 'tar -I pigz -C %(stack)s_byROI/%(sec)04d/roi1 -cf %(stack)s_%(sec)04d_roi1.tar .'% {'stack': stack, 'sec': sec}"
   ]
  },
  {
   "cell_type": "code",
   "execution_count": null,
   "metadata": {
    "collapsed": false
   },
   "outputs": [],
   "source": [
    "# copy patches to byLandmark folder\n",
    "\n",
    "bg_dir = '/home/yuncong/CSHL_data_patches/%s_byLandmark/BackG/'%stack\n",
    "if not os.path.exists(bg_dir):\n",
    "    os.makedirs(bg_dir)\n",
    "    \n",
    "for l in labels_to_collect:\n",
    "    output_dir = '/home/yuncong/CSHL_data_patches/%s_byLandmark/%s/'%(stack, l)\n",
    "    if not os.path.exists(output_dir):\n",
    "        os.makedirs(output_dir)\n",
    "\n",
    "for f in os.listdir('/home/yuncong/CSHL_data_patches/%s'%(stack)):\n",
    "    os.chdir('/home/yuncong/CSHL_data_patches/%s'%(stack))\n",
    "    for s in os.listdir('.'):\n",
    "        for l in os.listdir(s):\n",
    "            if len(l.split('_')) == 2:\n",
    "                os.system('cp /home/yuncong/CSHL_data_patches/%s/%04d/%s/*'%(stack, int(s), l) + ' ' + bg_dir)\n",
    "            else:\n",
    "                output_dir = '/home/yuncong/CSHL_data_patches/%s_byLandmark/%s/'%(stack, l)\n",
    "                os.system('cp /home/yuncong/CSHL_data_patches/%s/%04d/%s/*'%(stack, int(s), l) + ' ' + output_dir)"
   ]
  },
  {
   "cell_type": "code",
   "execution_count": 14,
   "metadata": {
    "collapsed": false,
    "scrolled": true
   },
   "outputs": [
    {
     "name": "stdout",
     "output_type": "stream",
     "text": [
      "BackG 2668\n",
      "7N 430\n",
      "Gr 350\n",
      "SuVe 80\n",
      "Pn 505\n",
      "VLL 260\n",
      "LVe 110\n",
      "12N 200\n",
      "7n 500\n",
      "5N 230\n"
     ]
    }
   ],
   "source": [
    "# Count number of patches each landmark\n",
    "\n",
    "patches_dir = '/oasis/projects/nsf/csd395/yuncong/CSHL_data_patches/'\n",
    "labels = os.listdir(patches_dir + stack + '_byLandmark')\n",
    "for l in labels:\n",
    "    print l, len(os.listdir(patches_dir + stack + '_byLandmark/' + l))"
   ]
  },
  {
   "cell_type": "code",
   "execution_count": null,
   "metadata": {
    "collapsed": true
   },
   "outputs": [],
   "source": [
    "# from joblib import delayed, Parallel\n",
    "\n",
    "# import time\n",
    "# t = time.time()\n",
    "\n",
    "# _ = Parallel(n_jobs=16)(delayed(os.system)('cp %(f1)s %(f2)s'%{'f1': output_dir + '/%08d.jpg'%i,\n",
    "#                                             'f2': output_dir2 + '/%08d.jpg'%i}) for i in reduced_sample_indices)\n",
    "\n",
    "# print time.time() - t"
   ]
  }
 ],
 "metadata": {
  "kernelspec": {
   "display_name": "Python 2",
   "language": "python",
   "name": "python2"
  },
  "language_info": {
   "codemirror_mode": {
    "name": "ipython",
    "version": 2
   },
   "file_extension": ".py",
   "mimetype": "text/x-python",
   "name": "python",
   "nbconvert_exporter": "python",
   "pygments_lexer": "ipython2",
   "version": "2.7.3"
  }
 },
 "nbformat": 4,
 "nbformat_minor": 0
}
