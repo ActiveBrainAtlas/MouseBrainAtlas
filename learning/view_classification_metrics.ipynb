{
 "cells": [
  {
   "cell_type": "code",
   "execution_count": 1,
   "metadata": {
    "scrolled": true
   },
   "outputs": [
    {
     "name": "stderr",
     "output_type": "stream",
     "text": [
      "/usr/local/lib/python2.7/dist-packages/matplotlib/__init__.py:1350: UserWarning:  This call to matplotlib.use() has no effect\n",
      "because the backend has already been chosen;\n",
      "matplotlib.use() must be called *before* pylab, matplotlib.pyplot,\n",
      "or matplotlib.backends is imported for the first time.\n",
      "\n",
      "  warnings.warn(_use_error_msg)\n"
     ]
    },
    {
     "name": "stdout",
     "output_type": "stream",
     "text": [
      "Setting environment for Precision WorkStation\n"
     ]
    },
    {
     "name": "stderr",
     "output_type": "stream",
     "text": [
      "No vtk\n",
      "No vtkNot using image_cache.\n",
      "Not using image_cache.\n",
      "Not using image_cache.\n",
      "Not using image_cache.\n",
      "Not using image_cache.\n",
      "Not using image_cache.\n",
      "Not using image_cache.\n",
      "Not using image_cache.\n",
      "Not using image_cache.\n",
      "Not using image_cache.\n",
      "Not using image_cache.\n",
      "Not using image_cache.\n",
      "Not using image_cache.\n",
      "Not using image_cache.\n",
      "Not using image_cache.\n",
      "Not using image_cache.\n",
      "Not using image_cache.\n",
      "Not using image_cache.\n",
      "Not using image_cache.\n",
      "Not using image_cache.\n",
      "Not using image_cache.\n"
     ]
    }
   ],
   "source": [
    "%load_ext autoreload\n",
    "%autoreload 2\n",
    "\n",
    "import sys\n",
    "import os\n",
    "import time\n",
    "\n",
    "import numpy as np\n",
    "import matplotlib.pyplot as plt\n",
    "%matplotlib inline\n",
    "\n",
    "sys.path.append(os.environ['REPO_DIR'] + '/utilities')\n",
    "from utilities2015 import *\n",
    "from metadata import *\n",
    "from data_manager import *"
   ]
  },
  {
   "cell_type": "code",
   "execution_count": 2,
   "metadata": {
    "scrolled": true
   },
   "outputs": [
    {
     "name": "stdout",
     "output_type": "stream",
     "text": [
      "train: MD589, {'MD589': 10} sections, none, {'MD589': 'A'}\n",
      "test: MD642, {'MD642': 10} sections, none, {'MD642': 'N'}\n",
      "('none', 'no-augment') auroc = 0.8334915\n",
      "('none', 'augment') auroc = 0.7142865\n",
      "train: MD594, {'MD594': 10} sections, none, {'MD594': 'A'}\n",
      "test: MD642, {'MD642': 10} sections, median_curve, {'MD642': 'N'}\n",
      "('median_curve', 'no-augment') auroc = 0.7234745\n",
      "('median_curve', 'augment') auroc = 0.606591\n",
      "train: MD589, {'MD589': 10} sections, none, {'MD589': 'A'}\n",
      "test: MD652, {'MD652': 10} sections, none, {'MD652': 'N'}\n",
      "('none', 'no-augment') auroc = 0.87095\n",
      "('none', 'augment') auroc = 0.8644335\n",
      "train: MD594, {'MD594': 10} sections, none, {'MD594': 'A'}\n",
      "test: MD642, {'MD642': 10} sections, none, {'MD642': 'N'}\n",
      "('none', 'no-augment') auroc = 0.820924\n",
      "('none', 'augment') auroc = 0.7915855\n"
     ]
    }
   ],
   "source": [
    "for fn in os.listdir(os.path.join(ROOT_DIR + '/assessment_results_v2')):\n",
    "#     print fn\n",
    "    fp = os.path.join(ROOT_DIR + '/assessment_results_v2', fn)\n",
    "    res = load_pickle(fp)\n",
    "    \n",
    "#     if res['train_stack'] == 'MD589' and res['test_stack'] == 'MD594':\n",
    "    if res['train_stack'] in all_nissl_stacks and \\\n",
    "    (res['test_stack'] in all_alt_nissl_ntb_stacks):\n",
    "#     if res['train_stack'] == 'MD661' and res['test_stack'] == 'ChatCryoJane201710':\n",
    "#     if res['test_stack'] == 'MD661':\n",
    "    \n",
    "        print 'train: %s, %s sections, %s, %s' % (res['train_stack'], res['n_train_sections'], res['train_scheme'], res['train_stain'])\n",
    "        print 'test: %s, %s sections, %s, %s' % (res['test_stack'], res['n_test_sections'], res['test_scheme'], res['test_stain'])\n",
    "\n",
    "    #         plot_result_wrt_ntrain(extract_one_metric(res['test_metrics_all_ntrain'], 'auroc'), ylabel='Area under ROC')\n",
    "    #     plot_result_wrt_ntrain(extract_one_metric(res['test_metrics_all_ntrain'], 'acc', 0.5), ylabel='Test accuracy @ 0.5 threshold')\n",
    "\n",
    "    #     plot_roc_curve(res['test_metrics_all_ntrain'][1000][('normalize_mu_region_sigma_wholeImage_(-1,5)',\n",
    "    #               'augment')][0]['fp'], \n",
    "    #                res['test_metrics_all_ntrain'][1000][('normalize_mu_region_sigma_wholeImage_(-1,5)',\n",
    "    #               'augment')][0]['tp'], \n",
    "    #               res['test_metrics_all_ntrain'][1000][('normalize_mu_region_sigma_wholeImage_(-1,5)',\n",
    "    #               'augment')][0]['opt_thresh']);\n",
    " \n",
    "        for test_scheme in res['test_metrics_all_ntrain'][1000].keys():\n",
    "#             print test_scheme, res['test_metrics_all_ntrain'][1000][test_scheme][0]['acc'][0.5]\n",
    "            print test_scheme, 'auroc =',res['test_metrics_all_ntrain'][1000][test_scheme][0]['auroc']"
   ]
  },
  {
   "cell_type": "code",
   "execution_count": null,
   "metadata": {
    "collapsed": true
   },
   "outputs": [],
   "source": [
    "for fn in os.listdir(os.path.join(ROOT_DIR + '/assessment_results')):\n",
    "    fp = os.path.join(ROOT_DIR + '/assessment_results', fn)\n",
    "    res = load_pickle(fp)\n",
    "    \n",
    "    if res['train_stack'] == 'MD589' and res['test_stack'] == 'MD661':\n",
    "#     if res['train_stack'] == 'MD661' and res['test_stack'] == 'ChatCryoJane201710':\n",
    "    \n",
    "        print 'train: %s, %d sections, %s' % (res['train_stack'], res['n_train_sections'], res['train_scheme'])\n",
    "        print 'test: %s, %d sections, %s' % (res['test_stack'], res['n_test_sections'], res['test_scheme'])\n",
    "        if 'test_auroc_all_ntrain' in res:\n",
    "            plot_result_wrt_ntrain(res['test_auroc_all_ntrain'], ylabel='Area under ROC')\n",
    "        if 'test_accs05_all_ntrain' in res:\n",
    "            plot_result_wrt_ntrain(res['test_accs05_all_ntrain'], ylabel='Test accuracy')"
   ]
  }
 ],
 "metadata": {
  "kernelspec": {
   "display_name": "Python 2",
   "language": "python",
   "name": "python2"
  },
  "language_info": {
   "codemirror_mode": {
    "name": "ipython",
    "version": 2
   },
   "file_extension": ".py",
   "mimetype": "text/x-python",
   "name": "python",
   "nbconvert_exporter": "python",
   "pygments_lexer": "ipython2",
   "version": "2.7.12"
  }
 },
 "nbformat": 4,
 "nbformat_minor": 2
}
