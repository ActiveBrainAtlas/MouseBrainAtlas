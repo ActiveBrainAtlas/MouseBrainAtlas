{
 "cells": [
  {
   "cell_type": "code",
   "execution_count": 2,
   "metadata": {
    "scrolled": true
   },
   "outputs": [
    {
     "name": "stdout",
     "output_type": "stream",
     "text": [
      "The autoreload extension is already loaded. To reload it, use:\n",
      "  %reload_ext autoreload\n"
     ]
    }
   ],
   "source": [
    "%load_ext autoreload\n",
    "%autoreload 2\n",
    "\n",
    "import sys\n",
    "import os\n",
    "import time\n",
    "\n",
    "import numpy as np\n",
    "import matplotlib.pyplot as plt\n",
    "%matplotlib inline\n",
    "\n",
    "sys.path.append(os.environ['REPO_DIR'] + '/utilities')\n",
    "from utilities2015 import *\n",
    "from metadata import *\n",
    "from data_manager import *"
   ]
  },
  {
   "cell_type": "code",
   "execution_count": 4,
   "metadata": {
    "scrolled": true
   },
   "outputs": [
    {
     "name": "stdout",
     "output_type": "stream",
     "text": [
      "train: MD589, {'MD589': 10} sections, normalize_mu_region_sigma_wholeImage_(-1,5), {'MD589': 'A'}\n",
      "test: MD661, {'MD661': 10} sections, normalize_mu_region_sigma_wholeImage_(-1,5), {'MD661': 'A'}\n",
      "('normalize_mu_region_sigma_wholeImage_(-1,5)', 'no-augment') auroc = 0.6911214999999999\n",
      "('normalize_mu_region_sigma_wholeImage_(-1,5)', 'augment') auroc = 0.6208809999999999\n",
      "\n",
      "train: MD589, {'MD589': 10} sections, none, {'MD589': 'A'}\n",
      "test: MD642, {'MD642': 10} sections, none, {'MD642': 'N'}\n",
      "('none', 'no-augment') auroc = 0.8334915000000002\n",
      "('none', 'augment') auroc = 0.7142865\n",
      "\n",
      "train: MD589, 10 sections, normalize_mu_region_sigma_wholeImage_(-1,5), \n",
      "test: ChatCryoJane201710, 10 sections, normalize_mu_region_sigma_wholeImage_(-1,5), \n",
      "('normalize_mu_region_sigma_wholeImage_(-1,5)', 'no-augment') auroc = 0.577557\n",
      "('normalize_mu_region_sigma_wholeImage_(-1,5)', 'augment') auroc = 0.6410799999999998\n",
      "\n",
      "train: MD589, 10 sections, normalize_mu_region_sigma_wholeImage_(-1,5), \n",
      "test: MD594, 10 sections, normalize_mu_region_sigma_wholeImage_(-1,5), \n",
      "('normalize_mu_region_sigma_wholeImage_(-1,5)', 'no-augment') auroc = 0.8638039999999999\n",
      "('normalize_mu_region_sigma_wholeImage_(-1,5)', 'augment') auroc = 0.882805\n",
      "\n",
      "train: MD589, 10 sections, normalize_mu_region_sigma_wholeImage_(-1,5), \n",
      "test: MD661, 10 sections, normalize_mu_region_sigma_wholeImage_(-1,5), \n",
      "('normalize_mu_region_sigma_wholeImage_(-1,5)', 'no-augment') auroc = 0.6603039999999999\n",
      "('normalize_mu_region_sigma_wholeImage_(-1,5)', 'augment') auroc = 0.7052155\n",
      "\n",
      "train: MD589, 10 sections, normalize_mu_region_sigma_wholeImage_(-1,5), \n",
      "test: ChatCryoJane201710, 10 sections, normalize_mu_region_sigma_wholeImage_(-1,5), \n",
      "('normalize_mu_region_sigma_wholeImage_(-1,5)', 'no-augment') auroc = 0.688395\n",
      "('normalize_mu_region_sigma_wholeImage_(-1,5)', 'augment') auroc = 0.7188579999999999\n",
      "\n",
      "train: MD589, {'MD589': 10} sections, none, {'MD589': 'A'}\n",
      "test: MD652, {'MD652': 10} sections, none, {'MD652': 'N'}\n",
      "('none', 'no-augment') auroc = 0.8709499999999999\n",
      "('none', 'augment') auroc = 0.8644335000000002\n",
      "\n"
     ]
    }
   ],
   "source": [
    "for fn in os.listdir(os.path.join(ROOT_DIR + '/assessment_results_v2')):\n",
    "#     print fn\n",
    "    fp = os.path.join(ROOT_DIR + '/assessment_results_v2', fn)\n",
    "    res = load_pickle(fp)\n",
    "    \n",
    "    if res['train_stack'] == 'MD589':\n",
    "#     if res['train_stack'] == 'MD589' and res['test_stack'] == 'MD594':\n",
    "#     if res['train_stack'] in all_nissl_stacks and \\\n",
    "#     (res['test_stack'] in all_alt_nissl_ntb_stacks):\n",
    "#     if res['test_stack'] == 'ChatCryoJane201710':\n",
    "#     if res['test_stack'] == 'MD661':\n",
    "    \n",
    "        print 'train: %s, %s sections, %s, %s' % (res['train_stack'], res['n_train_sections'], res['train_scheme'], res['train_stain'] if 'train_stain' in res else '')\n",
    "        print 'test: %s, %s sections, %s, %s' % (res['test_stack'], res['n_test_sections'], res['test_scheme'], res['test_stain'] if 'test_stain' in res else '')\n",
    "\n",
    "    #         plot_result_wrt_ntrain(extract_one_metric(res['test_metrics_all_ntrain'], 'auroc'), ylabel='Area under ROC')\n",
    "    #     plot_result_wrt_ntrain(extract_one_metric(res['test_metrics_all_ntrain'], 'acc', 0.5), ylabel='Test accuracy @ 0.5 threshold')\n",
    "\n",
    "    #     plot_roc_curve(res['test_metrics_all_ntrain'][1000][('normalize_mu_region_sigma_wholeImage_(-1,5)',\n",
    "    #               'augment')][0]['fp'], \n",
    "    #                res['test_metrics_all_ntrain'][1000][('normalize_mu_region_sigma_wholeImage_(-1,5)',\n",
    "    #               'augment')][0]['tp'], \n",
    "    #               res['test_metrics_all_ntrain'][1000][('normalize_mu_region_sigma_wholeImage_(-1,5)',\n",
    "    #               'augment')][0]['opt_thresh']);\n",
    " \n",
    "        for test_scheme in res['test_metrics_all_ntrain'][1000].keys():\n",
    "#             print test_scheme, res['test_metrics_all_ntrain'][1000][test_scheme][0]['acc'][0.5]\n",
    "            print test_scheme, 'auroc =',res['test_metrics_all_ntrain'][1000][test_scheme][0]['auroc']\n",
    "        print"
   ]
  },
  {
   "cell_type": "code",
   "execution_count": null,
   "metadata": {
    "collapsed": true
   },
   "outputs": [],
   "source": [
    "for fn in os.listdir(os.path.join(ROOT_DIR + '/assessment_results')):\n",
    "    fp = os.path.join(ROOT_DIR + '/assessment_results', fn)\n",
    "    res = load_pickle(fp)\n",
    "    \n",
    "    if res['train_stack'] == 'MD589' and res['test_stack'] == 'MD661':\n",
    "#     if res['train_stack'] == 'MD661' and res['test_stack'] == 'ChatCryoJane201710':\n",
    "    \n",
    "        print 'train: %s, %d sections, %s' % (res['train_stack'], res['n_train_sections'], res['train_scheme'])\n",
    "        print 'test: %s, %d sections, %s' % (res['test_stack'], res['n_test_sections'], res['test_scheme'])\n",
    "        if 'test_auroc_all_ntrain' in res:\n",
    "            plot_result_wrt_ntrain(res['test_auroc_all_ntrain'], ylabel='Area under ROC')\n",
    "        if 'test_accs05_all_ntrain' in res:\n",
    "            plot_result_wrt_ntrain(res['test_accs05_all_ntrain'], ylabel='Test accuracy')"
   ]
  }
 ],
 "metadata": {
  "kernelspec": {
   "display_name": "Python 2",
   "language": "python",
   "name": "python2"
  },
  "language_info": {
   "codemirror_mode": {
    "name": "ipython",
    "version": 2
   },
   "file_extension": ".py",
   "mimetype": "text/x-python",
   "name": "python",
   "nbconvert_exporter": "python",
   "pygments_lexer": "ipython2",
   "version": "2.7.12"
  }
 },
 "nbformat": 4,
 "nbformat_minor": 2
}
