{
 "cells": [
  {
   "cell_type": "code",
   "execution_count": 1,
   "metadata": {
    "collapsed": false
   },
   "outputs": [
    {
     "name": "stdout",
     "output_type": "stream",
     "text": [
      "Setting environment for Gordon\n"
     ]
    },
    {
     "name": "stderr",
     "output_type": "stream",
     "text": [
      "No vtk\n"
     ]
    }
   ],
   "source": [
    "%load_ext autoreload\n",
    "%autoreload 2\n",
    "\n",
    "import os\n",
    "import sys\n",
    "import time\n",
    "\n",
    "sys.path.append(os.path.join(os.environ['REPO_DIR'], 'utilities'))\n",
    "from utilities2015 import *\n",
    "from metadata import *\n",
    "from data_manager import *\n",
    "\n",
    "from visualization_utilities import *\n",
    "\n",
    "from multiprocess import Pool"
   ]
  },
  {
   "cell_type": "code",
   "execution_count": 2,
   "metadata": {
    "collapsed": true
   },
   "outputs": [],
   "source": [
    "stack = 'MD642'"
   ]
  },
  {
   "cell_type": "code",
   "execution_count": 4,
   "metadata": {
    "collapsed": true
   },
   "outputs": [],
   "source": [
    "classifier_setting = 12\n",
    "\n",
    "# add_annotation = True\n",
    "downscale = 8"
   ]
  },
  {
   "cell_type": "code",
   "execution_count": 7,
   "metadata": {
    "collapsed": false
   },
   "outputs": [
    {
     "name": "stderr",
     "output_type": "stream",
     "text": [
      "/oasis/projects/nsf/csd395/yuncong/brain_virtualenv/lib/python2.7/site-packages/skimage/util/dtype.py:122: UserWarning: Possible precision loss when converting from float64 to uint8\n",
      "  .format(dtypeobj_in, dtypeobj_out))\n"
     ]
    }
   ],
   "source": [
    "sec = 193\n",
    "viz = scoremap_overlay(stack=stack, sec=sec, structure='7N', downscale=downscale, \n",
    "                       setting=resolve_actual_setting(setting=classifier_setting, stack=stack, sec=sec))"
   ]
  },
  {
   "cell_type": "code",
   "execution_count": 8,
   "metadata": {
    "collapsed": false
   },
   "outputs": [
    {
     "data": {
      "text/html": [
       "<a href='tmp.png' target='_blank'>tmp.png</a><br>"
      ],
      "text/plain": [
       "/oasis/projects/nsf/csd395/yuncong/Brain/learning/tmp.png"
      ]
     },
     "execution_count": 8,
     "metadata": {},
     "output_type": "execute_result"
    }
   ],
   "source": [
    "display_image(viz, filename='tmp.png')"
   ]
  },
  {
   "cell_type": "code",
   "execution_count": 9,
   "metadata": {
    "collapsed": true
   },
   "outputs": [],
   "source": [
    "first_sec, last_sec = metadata_cache['section_limits'][stack]"
   ]
  },
  {
   "cell_type": "code",
   "execution_count": null,
   "metadata": {
    "collapsed": false,
    "scrolled": true
   },
   "outputs": [],
   "source": [
    "# for sec in range(200, 202):\n",
    "# for sec in [230, 231]:\n",
    "for sec in range(first_sec, last_sec+1):\n",
    "    \n",
    "    print sec\n",
    "    \n",
    "    if is_invalid(stack=stack, sec=sec):\n",
    "        continue\n",
    "    \n",
    "    actual_setting = resolve_actual_setting(setting=classifier_setting, stack=stack, sec=sec)\n",
    "    \n",
    "    t = time.time()\n",
    "    \n",
    "    bg = imread(DataManager.get_image_filepath(stack=stack, section=sec, resol='lossless', version='compressed'))\n",
    "    \n",
    "    def f(structure):\n",
    "        viz_fp = DataManager.get_scoremap_viz_filepath(stack=stack, section=sec, structure=structure, setting=actual_setting)\n",
    "        try:\n",
    "            viz = scoremap_overlay_on(bg=bg, stack=stack, sec=sec, structure=structure, \n",
    "                                      downscale=downscale, label_text=None, setting=actual_setting)\n",
    "            create_if_not_exists(os.path.dirname(viz_fp))\n",
    "            imsave(viz_fp, img_as_ubyte(viz))\n",
    "        except Exception as e:\n",
    "            sys.stderr.write('%s\\n' % e)\n",
    "            return\n",
    "    \n",
    "    pool = Pool(8)\n",
    "    pool.map(f, all_known_structures)\n",
    "    pool.close()\n",
    "    pool.join()\n",
    "\n",
    "    sys.stderr.write('Visualize scoremaps: %.2f seconds.\\n' % (time.time() - t)) \n",
    "    # 7s for one structure, one section, single process\n",
    "    # 20s for all structures, one section, 8 processes"
   ]
  },
  {
   "cell_type": "code",
   "execution_count": null,
   "metadata": {
    "collapsed": false,
    "scrolled": true
   },
   "outputs": [],
   "source": [
    "# if not add_annotation:\n",
    "# export_scoremaps_multiprocess(bg='original', stack=stack, sections=range(200, 201),\n",
    "#                               structures=all_known_structures, downscale_factor=8,\n",
    "#                               label_text=True, setting=setting) # 93s/section\n",
    "# else:\n",
    "#     outputViz_rootdir = '/oasis/projects/nsf/csd395/yuncong/CSHL_scoremapPlusAnnotationViz'\n",
    "#     export_filepath_fmt = outputViz_rootdir + '/%(name)s/%(stack)s/%(fn)s_alignedTo_%(anchor_fn)s_scoremapPlusAnnotationViz_%(name)s_%(annofn)s.jpg' % dict(anchor_fn=anchor_fn)\n",
    "#     export_scoremapPlusAnnotationVizs('original', stack, range(first_sec, last_sec+1),\n",
    "#                                       structures, 8, export_filepath_fmt=export_filepath_fmt,\n",
    "#                                       users=['yuncong', 'localAdjusted', 'autoAnnotate', 'globalAligned'])\n"
   ]
  }
 ],
 "metadata": {
  "kernelspec": {
   "display_name": "Python 2",
   "language": "python",
   "name": "python2"
  },
  "language_info": {
   "codemirror_mode": {
    "name": "ipython",
    "version": 2
   },
   "file_extension": ".py",
   "mimetype": "text/x-python",
   "name": "python",
   "nbconvert_exporter": "python",
   "pygments_lexer": "ipython2",
   "version": "2.7.3"
  }
 },
 "nbformat": 4,
 "nbformat_minor": 1
}
