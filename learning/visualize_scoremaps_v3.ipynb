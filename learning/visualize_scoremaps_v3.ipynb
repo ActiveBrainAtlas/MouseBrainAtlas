{
 "cells": [
  {
   "cell_type": "code",
   "execution_count": 1,
   "metadata": {
    "collapsed": false
   },
   "outputs": [
    {
     "name": "stdout",
     "output_type": "stream",
     "text": [
      "Setting environment for Gordon\n"
     ]
    },
    {
     "name": "stderr",
     "output_type": "stream",
     "text": [
      "No vtk\n"
     ]
    }
   ],
   "source": [
    "%load_ext autoreload\n",
    "%autoreload 2\n",
    "\n",
    "import os\n",
    "import sys\n",
    "\n",
    "sys.path.append(os.path.join(os.environ['REPO_DIR'], 'utilities'))\n",
    "from utilities2015 import *\n",
    "from metadata import *\n",
    "from data_manager import *\n",
    "\n",
    "from visualization_utilities import *\n",
    "\n",
    "import time\n",
    "\n",
    "from multiprocess import Pool"
   ]
  },
  {
   "cell_type": "code",
   "execution_count": 22,
   "metadata": {
    "collapsed": true
   },
   "outputs": [],
   "source": [
    "stack = 'MD589'"
   ]
  },
  {
   "cell_type": "code",
   "execution_count": 26,
   "metadata": {
    "collapsed": true
   },
   "outputs": [],
   "source": [
    "setting = 2\n",
    "# add_annotation = True\n",
    "downscale = 8"
   ]
  },
  {
   "cell_type": "code",
   "execution_count": 77,
   "metadata": {
    "collapsed": false
   },
   "outputs": [],
   "source": [
    "c = np.array(random_colors(3)[0])/255."
   ]
  },
  {
   "cell_type": "code",
   "execution_count": 94,
   "metadata": {
    "collapsed": false
   },
   "outputs": [],
   "source": [
    "sec = 232\n",
    "viz = scoremap_overlay(stack=stack, sec=sec, structure='10N', downscale=downscale, setting=2, color=(1,1,0))"
   ]
  },
  {
   "cell_type": "code",
   "execution_count": 95,
   "metadata": {
    "collapsed": false
   },
   "outputs": [
    {
     "data": {
      "text/html": [
       "<a href='tmp.png' target='_blank'>tmp.png</a><br>"
      ],
      "text/plain": [
       "/oasis/projects/nsf/csd395/yuncong/Brain/learning/tmp.png"
      ]
     },
     "execution_count": 95,
     "metadata": {},
     "output_type": "execute_result"
    }
   ],
   "source": [
    "display_image(viz, filename='tmp.png')"
   ]
  },
  {
   "cell_type": "code",
   "execution_count": 23,
   "metadata": {
    "collapsed": false,
    "scrolled": true
   },
   "outputs": [
    {
     "name": "stderr",
     "output_type": "stream",
     "text": [
      "/oasis/projects/nsf/csd395/yuncong/Brain/utilities/visualization_utilities.py:131: FutureWarning: elementwise comparison failed; returning scalar instead, but in the future will perform elementwise comparison\n",
      "  if bg == 'original':\n",
      "/oasis/projects/nsf/csd395/yuncong/Brain/utilities/visualization_utilities.py:131: FutureWarning: elementwise comparison failed; returning scalar instead, but in the future will perform elementwise comparison\n",
      "  if bg == 'original':\n",
      "/oasis/projects/nsf/csd395/yuncong/Brain/utilities/visualization_utilities.py:131: FutureWarning: elementwise comparison failed; returning scalar instead, but in the future will perform elementwise comparison\n",
      "  if bg == 'original':\n",
      "/oasis/projects/nsf/csd395/yuncong/Brain/utilities/visualization_utilities.py:131: FutureWarning: elementwise comparison failed; returning scalar instead, but in the future will perform elementwise comparison\n",
      "  if bg == 'original':\n",
      "/oasis/projects/nsf/csd395/yuncong/Brain/utilities/visualization_utilities.py:131: FutureWarning: elementwise comparison failed; returning scalar instead, but in the future will perform elementwise comparison\n",
      "  if bg == 'original':\n",
      "/oasis/projects/nsf/csd395/yuncong/Brain/utilities/visualization_utilities.py:131: FutureWarning: elementwise comparison failed; returning scalar instead, but in the future will perform elementwise comparison\n",
      "  if bg == 'original':\n",
      "/oasis/projects/nsf/csd395/yuncong/Brain/utilities/visualization_utilities.py:131: FutureWarning: elementwise comparison failed; returning scalar instead, but in the future will perform elementwise comparison\n",
      "  if bg == 'original':\n",
      "/oasis/projects/nsf/csd395/yuncong/Brain/utilities/visualization_utilities.py:131: FutureWarning: elementwise comparison failed; returning scalar instead, but in the future will perform elementwise comparison\n",
      "  if bg == 'original':\n",
      "/oasis/projects/nsf/csd395/yuncong/brain_virtualenv/lib/python2.7/site-packages/skimage/util/dtype.py:122: UserWarning: Possible precision loss when converting from float64 to uint8\n",
      "  .format(dtypeobj_in, dtypeobj_out))\n",
      "/oasis/projects/nsf/csd395/yuncong/brain_virtualenv/lib/python2.7/site-packages/skimage/util/dtype.py:122: UserWarning: Possible precision loss when converting from float64 to uint8\n",
      "  .format(dtypeobj_in, dtypeobj_out))\n",
      "/oasis/projects/nsf/csd395/yuncong/brain_virtualenv/lib/python2.7/site-packages/skimage/util/dtype.py:122: UserWarning: Possible precision loss when converting from float64 to uint8\n",
      "  .format(dtypeobj_in, dtypeobj_out))\n",
      "/oasis/projects/nsf/csd395/yuncong/brain_virtualenv/lib/python2.7/site-packages/skimage/util/dtype.py:122: UserWarning: Possible precision loss when converting from float64 to uint8\n",
      "  .format(dtypeobj_in, dtypeobj_out))\n",
      "/oasis/projects/nsf/csd395/yuncong/brain_virtualenv/lib/python2.7/site-packages/skimage/util/dtype.py:122: UserWarning: Possible precision loss when converting from float64 to uint8\n",
      "  .format(dtypeobj_in, dtypeobj_out))\n",
      "/oasis/projects/nsf/csd395/yuncong/brain_virtualenv/lib/python2.7/site-packages/skimage/util/dtype.py:122: UserWarning: Possible precision loss when converting from float64 to uint8\n",
      "  .format(dtypeobj_in, dtypeobj_out))\n",
      "/oasis/projects/nsf/csd395/yuncong/brain_virtualenv/lib/python2.7/site-packages/skimage/util/dtype.py:122: UserWarning: Possible precision loss when converting from float64 to uint8\n",
      "  .format(dtypeobj_in, dtypeobj_out))\n",
      "/oasis/projects/nsf/csd395/yuncong/brain_virtualenv/lib/python2.7/site-packages/skimage/util/dtype.py:122: UserWarning: Possible precision loss when converting from float64 to uint8\n",
      "  .format(dtypeobj_in, dtypeobj_out))\n",
      "No scoremap of sp5 for filename MD635-F74-2016.05.19-12.15.18_MD635_2_0221.\n",
      "No scoremap of outerContour for filename MD635-F74-2016.05.19-12.15.18_MD635_2_0221.\n",
      "Visualize scoremaps: 23.58 seconds.\n"
     ]
    }
   ],
   "source": [
    "# for sec in range(200, 202):\n",
    "for sec in [201]:\n",
    "    \n",
    "    t = time.time()\n",
    "    \n",
    "    bg = imread(DataManager.get_image_filepath(stack=stack, section=sec, resol='lossless', version='compressed'))\n",
    "    \n",
    "    def f(structure):\n",
    "        viz_fp = DataManager.get_scoremap_viz_filepath(stack=stack, section=sec, structure=structure, setting=setting)\n",
    "        try:\n",
    "            viz = scoremap_overlay_on(bg=bg, stack=stack, sec=sec, structure=structure, downscale=downscale, label_text=None, setting=setting)\n",
    "            create_if_not_exists(os.path.dirname(viz_fp))\n",
    "            imsave(viz_fp, img_as_ubyte(viz))\n",
    "        except Exception as e:\n",
    "            sys.stderr.write('%s\\n' % e)\n",
    "            return\n",
    "    \n",
    "    pool = Pool(8)\n",
    "    pool.map(f, all_known_structures)\n",
    "    pool.close()\n",
    "    pool.join()\n",
    "\n",
    "    sys.stderr.write('Visualize scoremaps: %.2f seconds.\\n' % (time.time() - t)) \n",
    "    # 7s for one structure, one section, single process\n",
    "    # 20s for all structures, one section, 8 processes"
   ]
  },
  {
   "cell_type": "code",
   "execution_count": null,
   "metadata": {
    "collapsed": false,
    "scrolled": true
   },
   "outputs": [],
   "source": [
    "# if not add_annotation:\n",
    "# export_scoremaps_multiprocess(bg='original', stack=stack, sections=range(200, 201),\n",
    "#                               structures=all_known_structures, downscale_factor=8,\n",
    "#                               label_text=True, setting=setting) # 93s/section\n",
    "# else:\n",
    "#     outputViz_rootdir = '/oasis/projects/nsf/csd395/yuncong/CSHL_scoremapPlusAnnotationViz'\n",
    "#     export_filepath_fmt = outputViz_rootdir + '/%(name)s/%(stack)s/%(fn)s_alignedTo_%(anchor_fn)s_scoremapPlusAnnotationViz_%(name)s_%(annofn)s.jpg' % dict(anchor_fn=anchor_fn)\n",
    "#     export_scoremapPlusAnnotationVizs('original', stack, range(first_sec, last_sec+1),\n",
    "#                                       structures, 8, export_filepath_fmt=export_filepath_fmt,\n",
    "#                                       users=['yuncong', 'localAdjusted', 'autoAnnotate', 'globalAligned'])\n"
   ]
  }
 ],
 "metadata": {
  "kernelspec": {
   "display_name": "Python 2",
   "language": "python",
   "name": "python2"
  },
  "language_info": {
   "codemirror_mode": {
    "name": "ipython",
    "version": 2
   },
   "file_extension": ".py",
   "mimetype": "text/x-python",
   "name": "python",
   "nbconvert_exporter": "python",
   "pygments_lexer": "ipython2",
   "version": "2.7.3"
  }
 },
 "nbformat": 4,
 "nbformat_minor": 1
}
