{
 "cells": [
  {
   "cell_type": "code",
   "execution_count": 1,
   "metadata": {},
   "outputs": [
    {
     "name": "stdout",
     "output_type": "stream",
     "text": [
      "Setting environment for Local Macbook Pro\n"
     ]
    }
   ],
   "source": [
    "%load_ext autoreload\n",
    "%autoreload 2\n",
    "\n",
    "import os\n",
    "import sys\n",
    "import time\n",
    "\n",
    "from multiprocess import Pool\n",
    "\n",
    "sys.path.append(os.path.join(os.environ['REPO_DIR'], 'utilities'))\n",
    "from utilities2015 import *\n",
    "from metadata import *\n",
    "from data_manager import *\n",
    "from visualization_utilities import *"
   ]
  },
  {
   "cell_type": "code",
   "execution_count": 2,
   "metadata": {
    "collapsed": true
   },
   "outputs": [],
   "source": [
    "stack = 'MD589'"
   ]
  },
  {
   "cell_type": "code",
   "execution_count": 3,
   "metadata": {
    "collapsed": true
   },
   "outputs": [],
   "source": [
    "# classifier_id = 38\n",
    "# downscale = 4\n",
    "\n",
    "detector_id = 15\n",
    "downscale = 8"
   ]
  },
  {
   "cell_type": "markdown",
   "metadata": {},
   "source": [
    "# One section"
   ]
  },
  {
   "cell_type": "code",
   "execution_count": 4,
   "metadata": {
    "collapsed": true
   },
   "outputs": [],
   "source": [
    "fn = 'MD589-IHC40-2015.07.31-00.02.21_MD589_2_0119'"
   ]
  },
  {
   "cell_type": "code",
   "execution_count": 5,
   "metadata": {
    "collapsed": true
   },
   "outputs": [],
   "source": [
    "from metadata import *"
   ]
  },
  {
   "cell_type": "code",
   "execution_count": 10,
   "metadata": {},
   "outputs": [],
   "source": [
    "viz = scoremap_overlay_on(bg='original', stack=stack, fn=fn, structure='AP', \n",
    "                          out_downscale=8, detector_id=detector_id,\n",
    "                         image_version='jpeg')"
   ]
  },
  {
   "cell_type": "code",
   "execution_count": 11,
   "metadata": {
    "collapsed": true
   },
   "outputs": [],
   "source": [
    "%matplotlib inline"
   ]
  },
  {
   "cell_type": "code",
   "execution_count": 15,
   "metadata": {},
   "outputs": [
    {
     "name": "stdout",
     "output_type": "stream",
     "text": [
      "rm -rf \"/home/yuncong/CSHL_scoremaps/down8/MD589/MD589_prep2_down8_detector15/MD589-IHC40-2015.07.31-00.02.21_MD589_2_0119_prep2_down8_detector15/MD589-IHC40-2015.07.31-00.02.21_MD589_2_0119_prep2_down8_detector15_AP_scoremap.bp\" && mkdir -p \"/home/yuncong/CSHL_scoremaps/down8/MD589/MD589_prep2_down8_detector15/MD589-IHC40-2015.07.31-00.02.21_MD589_2_0119_prep2_down8_detector15\"\n",
      "aws s3 cp \"s3://mousebrainatlas-data/CSHL_scoremaps/down8/MD589/MD589_prep2_down8_detector15/MD589-IHC40-2015.07.31-00.02.21_MD589_2_0119_prep2_down8_detector15/MD589-IHC40-2015.07.31-00.02.21_MD589_2_0119_prep2_down8_detector15_AP_scoremap.bp\" \"/home/yuncong/CSHL_scoremaps/down8/MD589/MD589_prep2_down8_detector15/MD589-IHC40-2015.07.31-00.02.21_MD589_2_0119_prep2_down8_detector15/MD589-IHC40-2015.07.31-00.02.21_MD589_2_0119_prep2_down8_detector15_AP_scoremap.bp\"\n"
     ]
    },
    {
     "ename": "KeyError",
     "evalue": "None",
     "output_type": "error",
     "traceback": [
      "\u001b[0;31m---------------------------------------------------------------------------\u001b[0m",
      "\u001b[0;31mKeyError\u001b[0m                                  Traceback (most recent call last)",
      "\u001b[0;32m<ipython-input-15-a235b6d2b6ba>\u001b[0m in \u001b[0;36m<module>\u001b[0;34m()\u001b[0m\n\u001b[1;32m      1\u001b[0m sm = DataManager.load_scoremap(stack='MD589', structure='AP', \n\u001b[1;32m      2\u001b[0m                           \u001b[0mdetector_id\u001b[0m\u001b[0;34m=\u001b[0m\u001b[0mdetector_id\u001b[0m\u001b[0;34m,\u001b[0m \u001b[0mdownscale\u001b[0m\u001b[0;34m=\u001b[0m\u001b[0;36m8\u001b[0m\u001b[0;34m,\u001b[0m \u001b[0mprep_id\u001b[0m\u001b[0;34m=\u001b[0m\u001b[0;36m2\u001b[0m\u001b[0;34m,\u001b[0m\u001b[0;34m\u001b[0m\u001b[0m\n\u001b[0;32m----> 3\u001b[0;31m                           fn=fn)\n\u001b[0m",
      "\u001b[0;32m/home/yuncong/Brain/utilities/data_manager.pyc\u001b[0m in \u001b[0;36mload_scoremap\u001b[0;34m(stack, structure, detector_id, downscale, prep_id, section, fn)\u001b[0m\n\u001b[1;32m   1625\u001b[0m         \u001b[0mReturn\u001b[0m \u001b[0mscoremap\u001b[0m \u001b[0;32mas\u001b[0m \u001b[0mbp\u001b[0m \u001b[0mfile\u001b[0m\u001b[0;34m.\u001b[0m\u001b[0;34m\u001b[0m\u001b[0m\n\u001b[1;32m   1626\u001b[0m         \"\"\"\n\u001b[0;32m-> 1627\u001b[0;31m         \u001b[0;32mreturn\u001b[0m \u001b[0mDataManager\u001b[0m\u001b[0;34m.\u001b[0m\u001b[0mload_downscaled_scoremap\u001b[0m\u001b[0;34m(\u001b[0m\u001b[0;34m**\u001b[0m\u001b[0mlocals\u001b[0m\u001b[0;34m(\u001b[0m\u001b[0;34m)\u001b[0m\u001b[0;34m)\u001b[0m\u001b[0;34m\u001b[0m\u001b[0m\n\u001b[0m\u001b[1;32m   1628\u001b[0m \u001b[0;34m\u001b[0m\u001b[0m\n\u001b[1;32m   1629\u001b[0m \u001b[0;34m\u001b[0m\u001b[0m\n",
      "\u001b[0;32m/home/yuncong/Brain/utilities/data_manager.pyc\u001b[0m in \u001b[0;36mload_downscaled_scoremap\u001b[0;34m(stack, structure, detector_id, downscale, prep_id, section, fn)\u001b[0m\n\u001b[1;32m   1615\u001b[0m         \u001b[0;32mif\u001b[0m \u001b[0;32mnot\u001b[0m \u001b[0mos\u001b[0m\u001b[0;34m.\u001b[0m\u001b[0mpath\u001b[0m\u001b[0;34m.\u001b[0m\u001b[0mexists\u001b[0m\u001b[0;34m(\u001b[0m\u001b[0mscoremap_bp_filepath\u001b[0m\u001b[0;34m)\u001b[0m\u001b[0;34m:\u001b[0m\u001b[0;34m\u001b[0m\u001b[0m\n\u001b[1;32m   1616\u001b[0m             raise Exception('No scoremap for image %s (section %d) for label %s\\n' % \\\n\u001b[0;32m-> 1617\u001b[0;31m             (metadata_cache['sections_to_filenames'][stack][section], section, structure))\n\u001b[0m\u001b[1;32m   1618\u001b[0m \u001b[0;34m\u001b[0m\u001b[0m\n\u001b[1;32m   1619\u001b[0m         \u001b[0mscoremap_downscaled\u001b[0m \u001b[0;34m=\u001b[0m \u001b[0mDataManager\u001b[0m\u001b[0;34m.\u001b[0m\u001b[0mload_data\u001b[0m\u001b[0;34m(\u001b[0m\u001b[0mscoremap_bp_filepath\u001b[0m\u001b[0;34m,\u001b[0m \u001b[0mfiletype\u001b[0m\u001b[0;34m=\u001b[0m\u001b[0;34m'bp'\u001b[0m\u001b[0;34m)\u001b[0m\u001b[0;34m\u001b[0m\u001b[0m\n",
      "\u001b[0;31mKeyError\u001b[0m: None"
     ]
    }
   ],
   "source": [
    "sm = DataManager.load_scoremap(stack='MD589', structure='AP', \n",
    "                          detector_id=detector_id, downscale=8, prep_id=2, \n",
    "                          fn=fn)"
   ]
  },
  {
   "cell_type": "code",
   "execution_count": 13,
   "metadata": {},
   "outputs": [
    {
     "data": {
      "text/html": [
       "<a href='tmp.jpg' target='_blank'>tmp.jpg</a><br>"
      ],
      "text/plain": [
       "/home/yuncong/Brain/learning/tmp.jpg"
      ]
     },
     "execution_count": 13,
     "metadata": {},
     "output_type": "execute_result"
    }
   ],
   "source": [
    "display_image(viz)"
   ]
  },
  {
   "cell_type": "code",
   "execution_count": null,
   "metadata": {
    "collapsed": true
   },
   "outputs": [],
   "source": [
    "# Old"
   ]
  },
  {
   "cell_type": "code",
   "execution_count": 15,
   "metadata": {
    "collapsed": true
   },
   "outputs": [],
   "source": [
    "sec = 290\n",
    "actual_setting = resolve_actual_setting(setting=classifier_id, stack=stack, sec=sec)\n",
    "# DataManager.get_downscaled_scoremap_viz_filepath(stack=stack, section=sec, structure='7N', setting=actual_setting)\n",
    "viz = scoremap_overlay(stack=stack, sec=sec, structure='7N', downscale=downscale, setting=actual_setting)\n",
    "# viz = scoremap_overlay_on(bg=bg, stack=stack, sec=sec, structure='7N', \n",
    "#                           downscale=downscale, label_text=None, setting=actual_setting)"
   ]
  },
  {
   "cell_type": "code",
   "execution_count": 16,
   "metadata": {},
   "outputs": [
    {
     "data": {
      "text/html": [
       "<a href='tmp.png' target='_blank'>tmp.png</a><br>"
      ],
      "text/plain": [
       "/shared/MouseBrainAtlas/learning/tmp.png"
      ]
     },
     "execution_count": 16,
     "metadata": {},
     "output_type": "execute_result"
    }
   ],
   "source": [
    "display_image(viz, filename='tmp.png')"
   ]
  },
  {
   "cell_type": "markdown",
   "metadata": {},
   "source": [
    "# Many sections"
   ]
  },
  {
   "cell_type": "code",
   "execution_count": 4,
   "metadata": {
    "collapsed": true
   },
   "outputs": [],
   "source": [
    "add_label_text = True"
   ]
  },
  {
   "cell_type": "code",
   "execution_count": 5,
   "metadata": {
    "scrolled": true
   },
   "outputs": [
    {
     "name": "stderr",
     "output_type": "stream",
     "text": [
      "/usr/local/lib/python2.7/dist-packages/skimage/transform/_warps.py:84: UserWarning: The default mode, 'constant', will be changed to 'reflect' in skimage 0.15.\n",
      "  warn(\"The default mode, 'constant', will be changed to 'reflect' in \"\n",
      "/usr/local/lib/python2.7/dist-packages/skimage/transform/_warps.py:84: UserWarning: The default mode, 'constant', will be changed to 'reflect' in skimage 0.15.\n",
      "  warn(\"The default mode, 'constant', will be changed to 'reflect' in \"\n",
      "/usr/local/lib/python2.7/dist-packages/skimage/transform/_warps.py:84: UserWarning: The default mode, 'constant', will be changed to 'reflect' in skimage 0.15.\n",
      "  warn(\"The default mode, 'constant', will be changed to 'reflect' in \"\n",
      "/usr/local/lib/python2.7/dist-packages/skimage/transform/_warps.py:84: UserWarning: The default mode, 'constant', will be changed to 'reflect' in skimage 0.15.\n",
      "  warn(\"The default mode, 'constant', will be changed to 'reflect' in \"\n",
      "/usr/local/lib/python2.7/dist-packages/skimage/transform/_warps.py:84: UserWarning: The default mode, 'constant', will be changed to 'reflect' in skimage 0.15.\n",
      "  warn(\"The default mode, 'constant', will be changed to 'reflect' in \"\n",
      "/usr/local/lib/python2.7/dist-packages/skimage/transform/_warps.py:84: UserWarning: The default mode, 'constant', will be changed to 'reflect' in skimage 0.15.\n",
      "  warn(\"The default mode, 'constant', will be changed to 'reflect' in \"\n",
      "/usr/local/lib/python2.7/dist-packages/skimage/transform/_warps.py:84: UserWarning: The default mode, 'constant', will be changed to 'reflect' in skimage 0.15.\n",
      "  warn(\"The default mode, 'constant', will be changed to 'reflect' in \"\n",
      "/usr/local/lib/python2.7/dist-packages/skimage/transform/_warps.py:84: UserWarning: The default mode, 'constant', will be changed to 'reflect' in skimage 0.15.\n",
      "  warn(\"The default mode, 'constant', will be changed to 'reflect' in \"\n",
      "/usr/local/lib/python2.7/dist-packages/skimage/transform/_warps.py:84: UserWarning: The default mode, 'constant', will be changed to 'reflect' in skimage 0.15.\n",
      "  warn(\"The default mode, 'constant', will be changed to 'reflect' in \"\n",
      "/usr/local/lib/python2.7/dist-packages/skimage/transform/_warps.py:84: UserWarning: The default mode, 'constant', will be changed to 'reflect' in skimage 0.15.\n",
      "  warn(\"The default mode, 'constant', will be changed to 'reflect' in \"\n",
      "/usr/local/lib/python2.7/dist-packages/skimage/transform/_warps.py:84: UserWarning: The default mode, 'constant', will be changed to 'reflect' in skimage 0.15.\n",
      "  warn(\"The default mode, 'constant', will be changed to 'reflect' in \"\n",
      "/usr/local/lib/python2.7/dist-packages/skimage/transform/_warps.py:84: UserWarning: The default mode, 'constant', will be changed to 'reflect' in skimage 0.15.\n",
      "  warn(\"The default mode, 'constant', will be changed to 'reflect' in \"\n",
      "/usr/local/lib/python2.7/dist-packages/skimage/transform/_warps.py:84: UserWarning: The default mode, 'constant', will be changed to 'reflect' in skimage 0.15.\n",
      "  warn(\"The default mode, 'constant', will be changed to 'reflect' in \"\n",
      "/usr/local/lib/python2.7/dist-packages/skimage/transform/_warps.py:84: UserWarning: The default mode, 'constant', will be changed to 'reflect' in skimage 0.15.\n",
      "  warn(\"The default mode, 'constant', will be changed to 'reflect' in \"\n",
      "/usr/local/lib/python2.7/dist-packages/skimage/transform/_warps.py:84: UserWarning: The default mode, 'constant', will be changed to 'reflect' in skimage 0.15.\n",
      "  warn(\"The default mode, 'constant', will be changed to 'reflect' in \"\n",
      "/usr/local/lib/python2.7/dist-packages/skimage/transform/_warps.py:84: UserWarning: The default mode, 'constant', will be changed to 'reflect' in skimage 0.15.\n",
      "  warn(\"The default mode, 'constant', will be changed to 'reflect' in \"\n",
      "/usr/local/lib/python2.7/dist-packages/skimage/util/dtype.py:122: UserWarning: Possible precision loss when converting from float64 to uint8\n",
      "  .format(dtypeobj_in, dtypeobj_out))\n",
      "/usr/local/lib/python2.7/dist-packages/skimage/util/dtype.py:122: UserWarning: Possible precision loss when converting from float64 to uint8\n",
      "  .format(dtypeobj_in, dtypeobj_out))\n",
      "/usr/local/lib/python2.7/dist-packages/skimage/util/dtype.py:122: UserWarning: Possible precision loss when converting from float64 to uint8\n",
      "  .format(dtypeobj_in, dtypeobj_out))\n",
      "/usr/local/lib/python2.7/dist-packages/skimage/util/dtype.py:122: UserWarning: Possible precision loss when converting from float64 to uint8\n",
      "  .format(dtypeobj_in, dtypeobj_out))\n",
      "/usr/local/lib/python2.7/dist-packages/skimage/util/dtype.py:122: UserWarning: Possible precision loss when converting from float64 to uint8\n",
      "  .format(dtypeobj_in, dtypeobj_out))\n",
      "/usr/local/lib/python2.7/dist-packages/skimage/util/dtype.py:122: UserWarning: Possible precision loss when converting from float64 to uint8\n",
      "  .format(dtypeobj_in, dtypeobj_out))\n",
      "/usr/local/lib/python2.7/dist-packages/skimage/util/dtype.py:122: UserWarning: Possible precision loss when converting from float64 to uint8\n",
      "  .format(dtypeobj_in, dtypeobj_out))\n",
      "/usr/local/lib/python2.7/dist-packages/skimage/util/dtype.py:122: UserWarning: Possible precision loss when converting from float64 to uint8\n",
      "  .format(dtypeobj_in, dtypeobj_out))\n",
      "/usr/local/lib/python2.7/dist-packages/skimage/util/dtype.py:122: UserWarning: Possible precision loss when converting from float64 to uint8\n",
      "  .format(dtypeobj_in, dtypeobj_out))\n",
      "/usr/local/lib/python2.7/dist-packages/skimage/util/dtype.py:122: UserWarning: Possible precision loss when converting from float64 to uint8\n",
      "  .format(dtypeobj_in, dtypeobj_out))\n",
      "/usr/local/lib/python2.7/dist-packages/skimage/util/dtype.py:122: UserWarning: Possible precision loss when converting from float64 to uint8\n",
      "  .format(dtypeobj_in, dtypeobj_out))\n",
      "/usr/local/lib/python2.7/dist-packages/skimage/util/dtype.py:122: UserWarning: Possible precision loss when converting from float64 to uint8\n",
      "  .format(dtypeobj_in, dtypeobj_out))\n",
      "/usr/local/lib/python2.7/dist-packages/skimage/util/dtype.py:122: UserWarning: Possible precision loss when converting from float64 to uint8\n",
      "  .format(dtypeobj_in, dtypeobj_out))\n",
      "/usr/local/lib/python2.7/dist-packages/skimage/util/dtype.py:122: UserWarning: Possible precision loss when converting from float64 to uint8\n",
      "  .format(dtypeobj_in, dtypeobj_out))\n",
      "/usr/local/lib/python2.7/dist-packages/skimage/util/dtype.py:122: UserWarning: Possible precision loss when converting from float64 to uint8\n",
      "  .format(dtypeobj_in, dtypeobj_out))\n",
      "/usr/local/lib/python2.7/dist-packages/skimage/util/dtype.py:122: UserWarning: Possible precision loss when converting from float64 to uint8\n",
      "  .format(dtypeobj_in, dtypeobj_out))\n"
     ]
    },
    {
     "name": "stdout",
     "output_type": "stream",
     "text": [
      "aws s3 cp /shared/CSHL_scoremaps_down4_viz/4N/MD590/clf38/MD590-IHC41-2015.08.10-20.50.09_MD590_3_0121_lossless_alignedTo_MD590-N47-2015.09.12-05.32.06_MD590_2_0140_cropped_down4_clf38_scoremap.jpg s3://mousebrainatlas-data/CSHL_scoremaps_down4_viz/4N/MD590/clf38/MD590-IHC41-2015.08.10-20.50.09_MD590_3_0121_lossless_alignedTo_MD590-N47-2015.09.12-05.32.06_MD590_2_0140_cropped_down4_clf38_scoremap.jpg\n",
      "aws s3 cp /shared/CSHL_scoremaps_down4_viz/6N/MD590/clf38/MD590-IHC41-2015.08.10-20.50.09_MD590_3_0121_lossless_alignedTo_MD590-N47-2015.09.12-05.32.06_MD590_2_0140_cropped_down4_clf38_scoremap.jpg s3://mousebrainatlas-data/CSHL_scoremaps_down4_viz/6N/MD590/clf38/MD590-IHC41-2015.08.10-20.50.09_MD590_3_0121_lossless_alignedTo_MD590-N47-2015.09.12-05.32.06_MD590_2_0140_cropped_down4_clf38_scoremap.jpg\n",
      "aws s3 cp /shared/CSHL_scoremaps_down4_viz/Amb/MD590/clf38/MD590-IHC41-2015.08.10-20.50.09_MD590_3_0121_lossless_alignedTo_MD590-N47-2015.09.12-05.32.06_MD590_2_0140_cropped_down4_clf38_scoremap.jpg s3://mousebrainatlas-data/CSHL_scoremaps_down4_viz/Amb/MD590/clf38/MD590-IHC41-2015.08.10-20.50.09_MD590_3_0121_lossless_alignedTo_MD590-N47-2015.09.12-05.32.06_MD590_2_0140_cropped_down4_clf38_scoremap.jpg\n",
      "aws s3 cp /shared/CSHL_scoremaps_down4_viz/3N/MD590/clf38/MD590-IHC41-2015.08.10-20.50.09_MD590_3_0121_lossless_alignedTo_MD590-N47-2015.09.12-05.32.06_MD590_2_0140_cropped_down4_clf38_scoremap.jpg s3://mousebrainatlas-data/CSHL_scoremaps_down4_viz/3N/MD590/clf38/MD590-IHC41-2015.08.10-20.50.09_MD590_3_0121_lossless_alignedTo_MD590-N47-2015.09.12-05.32.06_MD590_2_0140_cropped_down4_clf38_scoremap.jpg\n",
      "aws s3 cp /shared/CSHL_scoremaps_down4_viz/7n/MD590/clf38/MD590-IHC41-2015.08.10-20.50.09_MD590_3_0121_lossless_alignedTo_MD590-N47-2015.09.12-05.32.06_MD590_2_0140_cropped_down4_clf38_scoremap.jpg s3://mousebrainatlas-data/CSHL_scoremaps_down4_viz/7n/MD590/clf38/MD590-IHC41-2015.08.10-20.50.09_MD590_3_0121_lossless_alignedTo_MD590-N47-2015.09.12-05.32.06_MD590_2_0140_cropped_down4_clf38_scoremap.jpg\n",
      "aws s3 cp /shared/CSHL_scoremaps_down4_viz/5N/MD590/clf38/MD590-IHC41-2015.08.10-20.50.09_MD590_3_0121_lossless_alignedTo_MD590-N47-2015.09.12-05.32.06_MD590_2_0140_cropped_down4_clf38_scoremap.jpg s3://mousebrainatlas-data/CSHL_scoremaps_down4_viz/5N/MD590/clf38/MD590-IHC41-2015.08.10-20.50.09_MD590_3_0121_lossless_alignedTo_MD590-N47-2015.09.12-05.32.06_MD590_2_0140_cropped_down4_clf38_scoremap.jpg\n",
      "aws s3 cp /shared/CSHL_scoremaps_down4_viz/LRt/MD590/clf38/MD590-IHC41-2015.08.10-20.50.09_MD590_3_0121_lossless_alignedTo_MD590-N47-2015.09.12-05.32.06_MD590_2_0140_cropped_down4_clf38_scoremap.jpg s3://mousebrainatlas-data/CSHL_scoremaps_down4_viz/LRt/MD590/clf38/MD590-IHC41-2015.08.10-20.50.09_MD590_3_0121_lossless_alignedTo_MD590-N47-2015.09.12-05.32.06_MD590_2_0140_cropped_down4_clf38_scoremap.jpg\n",
      "aws s3 cp /shared/CSHL_scoremaps_down4_viz/SNR/MD590/clf38/MD590-IHC41-2015.08.10-20.50.09_MD590_3_0121_lossless_alignedTo_MD590-N47-2015.09.12-05.32.06_MD590_2_0140_cropped_down4_clf38_scoremap.jpg s3://mousebrainatlas-data/CSHL_scoremaps_down4_viz/SNR/MD590/clf38/MD590-IHC41-2015.08.10-20.50.09_MD590_3_0121_lossless_alignedTo_MD590-N47-2015.09.12-05.32.06_MD590_2_0140_cropped_down4_clf38_scoremap.jpg\n",
      "aws s3 cp /shared/CSHL_scoremaps_down4_viz/Tz/MD590/clf38/MD590-IHC41-2015.08.10-20.50.09_MD590_3_0121_lossless_alignedTo_MD590-N47-2015.09.12-05.32.06_MD590_2_0140_cropped_down4_clf38_scoremap.jpg s3://mousebrainatlas-data/CSHL_scoremaps_down4_viz/Tz/MD590/clf38/MD590-IHC41-2015.08.10-20.50.09_MD590_3_0121_lossless_alignedTo_MD590-N47-2015.09.12-05.32.06_MD590_2_0140_cropped_down4_clf38_scoremap.jpg\n",
      "aws s3 cp /shared/CSHL_scoremaps_down4_viz/LC/MD590/clf38/MD590-IHC41-2015.08.10-20.50.09_MD590_3_0121_lossless_alignedTo_MD590-N47-2015.09.12-05.32.06_MD590_2_0140_cropped_down4_clf38_scoremap.jpg s3://mousebrainatlas-data/CSHL_scoremaps_down4_viz/LC/MD590/clf38/MD590-IHC41-2015.08.10-20.50.09_MD590_3_0121_lossless_alignedTo_MD590-N47-2015.09.12-05.32.06_MD590_2_0140_cropped_down4_clf38_scoremap.jpg\n",
      "aws s3 cp /shared/CSHL_scoremaps_down4_viz/Sp5I/MD590/clf38/MD590-IHC41-2015.08.10-20.50.09_MD590_3_0121_lossless_alignedTo_MD590-N47-2015.09.12-05.32.06_MD590_2_0140_cropped_down4_clf38_scoremap.jpg s3://mousebrainatlas-data/CSHL_scoremaps_down4_viz/Sp5I/MD590/clf38/MD590-IHC41-2015.08.10-20.50.09_MD590_3_0121_lossless_alignedTo_MD590-N47-2015.09.12-05.32.06_MD590_2_0140_cropped_down4_clf38_scoremap.jpg\n",
      "aws s3 cp /shared/CSHL_scoremaps_down4_viz/SNC/MD590/clf38/MD590-IHC41-2015.08.10-20.50.09_MD590_3_0121_lossless_alignedTo_MD590-N47-2015.09.12-05.32.06_MD590_2_0140_cropped_down4_clf38_scoremap.jpg s3://mousebrainatlas-data/CSHL_scoremaps_down4_viz/SNC/MD590/clf38/MD590-IHC41-2015.08.10-20.50.09_MD590_3_0121_lossless_alignedTo_MD590-N47-2015.09.12-05.32.06_MD590_2_0140_cropped_down4_clf38_scoremap.jpg\n",
      "aws s3 cp /shared/CSHL_scoremaps_down4_viz/VLL/MD590/clf38/MD590-IHC41-2015.08.10-20.50.09_MD590_3_0121_lossless_alignedTo_MD590-N47-2015.09.12-05.32.06_MD590_2_0140_cropped_down4_clf38_scoremap.jpg s3://mousebrainatlas-data/CSHL_scoremaps_down4_viz/VLL/MD590/clf38/MD590-IHC41-2015.08.10-20.50.09_MD590_3_0121_lossless_alignedTo_MD590-N47-2015.09.12-05.32.06_MD590_2_0140_cropped_down4_clf38_scoremap.jpg\n",
      "aws s3 cp /shared/CSHL_scoremaps_down4_viz/RMC/MD590/clf38/MD590-IHC41-2015.08.10-20.50.09_MD590_3_0121_lossless_alignedTo_MD590-N47-2015.09.12-05.32.06_MD590_2_0140_cropped_down4_clf38_scoremap.jpg s3://mousebrainatlas-data/CSHL_scoremaps_down4_viz/RMC/MD590/clf38/MD590-IHC41-2015.08.10-20.50.09_MD590_3_0121_lossless_alignedTo_MD590-N47-2015.09.12-05.32.06_MD590_2_0140_cropped_down4_clf38_scoremap.jpg\n",
      "aws s3 cp /shared/CSHL_scoremaps_down4_viz/7N/MD590/clf38/MD590-IHC41-2015.08.10-20.50.09_MD590_3_0121_lossless_alignedTo_MD590-N47-2015.09.12-05.32.06_MD590_2_0140_cropped_down4_clf38_scoremap.jpg s3://mousebrainatlas-data/CSHL_scoremaps_down4_viz/7N/MD590/clf38/MD590-IHC41-2015.08.10-20.50.09_MD590_3_0121_lossless_alignedTo_MD590-N47-2015.09.12-05.32.06_MD590_2_0140_cropped_down4_clf38_scoremap.jpg\n",
      "aws s3 cp /shared/CSHL_scoremaps_down4_viz/Pn/MD590/clf38/MD590-IHC41-2015.08.10-20.50.09_MD590_3_0121_lossless_alignedTo_MD590-N47-2015.09.12-05.32.06_MD590_2_0140_cropped_down4_clf38_scoremap.jpg s3://mousebrainatlas-data/CSHL_scoremaps_down4_viz/Pn/MD590/clf38/MD590-IHC41-2015.08.10-20.50.09_MD590_3_0121_lossless_alignedTo_MD590-N47-2015.09.12-05.32.06_MD590_2_0140_cropped_down4_clf38_scoremap.jpg\n",
      "rm -rf /shared/CSHL_scoremaps_down32/MD590/MD590-IHC41-2015.08.10-20.50.09_MD590_3_0121_alignedTo_MD590-N47-2015.09.12-05.32.06_MD590_2_0140_cropped_down32/MD590-IHC41-2015.08.10-20.50.09_MD590_3_0121_alignedTo_MD590-N47-2015.09.12-05.32.06_MD590_2_0140_cropped_down32_sp5_denseScoreMap_setting_38.bp && mkdir -p /shared/CSHL_scoremaps_down32/MD590/MD590-IHC41-2015.08.10-20.50.09_MD590_3_0121_alignedTo_MD590-N47-2015.09.12-05.32.06_MD590_2_0140_cropped_down32\n",
      "rm -rf /shared/CSHL_scoremaps_down32/MD590/MD590-IHC41-2015.08.10-20.50.09_MD590_3_0121_alignedTo_MD590-N47-2015.09.12-05.32.06_MD590_2_0140_cropped_down32/MD590-IHC41-2015.08.10-20.50.09_MD590_3_0121_alignedTo_MD590-N47-2015.09.12-05.32.06_MD590_2_0140_cropped_down32_outerContour_denseScoreMap_setting_38.bp && mkdir -p /shared/CSHL_scoremaps_down32/MD590/MD590-IHC41-2015.08.10-20.50.09_MD590_3_0121_alignedTo_MD590-N47-2015.09.12-05.32.06_MD590_2_0140_cropped_down32\n",
      "aws s3 cp s3://mousebrainatlas-data/CSHL_scoremaps_down32/MD590/MD590-IHC41-2015.08.10-20.50.09_MD590_3_0121_alignedTo_MD590-N47-2015.09.12-05.32.06_MD590_2_0140_cropped_down32/MD590-IHC41-2015.08.10-20.50.09_MD590_3_0121_alignedTo_MD590-N47-2015.09.12-05.32.06_MD590_2_0140_cropped_down32_outerContour_denseScoreMap_setting_38.bp /shared/CSHL_scoremaps_down32/MD590/MD590-IHC41-2015.08.10-20.50.09_MD590_3_0121_alignedTo_MD590-N47-2015.09.12-05.32.06_MD590_2_0140_cropped_down32/MD590-IHC41-2015.08.10-20.50.09_MD590_3_0121_alignedTo_MD590-N47-2015.09.12-05.32.06_MD590_2_0140_cropped_down32_outerContour_denseScoreMap_setting_38.bp\n",
      "aws s3 cp s3://mousebrainatlas-data/CSHL_scoremaps_down32/MD590/MD590-IHC41-2015.08.10-20.50.09_MD590_3_0121_alignedTo_MD590-N47-2015.09.12-05.32.06_MD590_2_0140_cropped_down32/MD590-IHC41-2015.08.10-20.50.09_MD590_3_0121_alignedTo_MD590-N47-2015.09.12-05.32.06_MD590_2_0140_cropped_down32_sp5_denseScoreMap_setting_38.bp /shared/CSHL_scoremaps_down32/MD590/MD590-IHC41-2015.08.10-20.50.09_MD590_3_0121_alignedTo_MD590-N47-2015.09.12-05.32.06_MD590_2_0140_cropped_down32/MD590-IHC41-2015.08.10-20.50.09_MD590_3_0121_alignedTo_MD590-N47-2015.09.12-05.32.06_MD590_2_0140_cropped_down32_sp5_denseScoreMap_setting_38.bp\n"
     ]
    },
    {
     "name": "stderr",
     "output_type": "stream",
     "text": [
      "Error loading scoremap of sp5 for image MD590-IHC41-2015.08.10-20.50.09_MD590_3_0121: No scoremap for image MD590-IHC41-2015.08.10-20.50.09_MD590_3_0121 (section 201) for label sp5\n",
      "\n",
      "\n",
      "Error loading scoremap of outerContour for image MD590-IHC41-2015.08.10-20.50.09_MD590_3_0121: No scoremap for image MD590-IHC41-2015.08.10-20.50.09_MD590_3_0121 (section 201) for label outerContour\n",
      "\n",
      "\n"
     ]
    },
    {
     "name": "stdout",
     "output_type": "stream",
     "text": [
      "aws s3 cp /shared/CSHL_scoremaps_down4_viz/Sp5C/MD590/clf38/MD590-IHC41-2015.08.10-20.50.09_MD590_3_0121_lossless_alignedTo_MD590-N47-2015.09.12-05.32.06_MD590_2_0140_cropped_down4_clf38_scoremap.jpg s3://mousebrainatlas-data/CSHL_scoremaps_down4_viz/Sp5C/MD590/clf38/MD590-IHC41-2015.08.10-20.50.09_MD590_3_0121_lossless_alignedTo_MD590-N47-2015.09.12-05.32.06_MD590_2_0140_cropped_down4_clf38_scoremap.jpg\n",
      "aws s3 cp /shared/CSHL_scoremaps_down4_viz/PBG/MD590/clf38/MD590-IHC41-2015.08.10-20.50.09_MD590_3_0121_lossless_alignedTo_MD590-N47-2015.09.12-05.32.06_MD590_2_0140_cropped_down4_clf38_scoremap.jpg s3://mousebrainatlas-data/CSHL_scoremaps_down4_viz/PBG/MD590/clf38/MD590-IHC41-2015.08.10-20.50.09_MD590_3_0121_lossless_alignedTo_MD590-N47-2015.09.12-05.32.06_MD590_2_0140_cropped_down4_clf38_scoremap.jpg\n",
      "aws s3 cp /shared/CSHL_scoremaps_down4_viz/Sp5O/MD590/clf38/MD590-IHC41-2015.08.10-20.50.09_MD590_3_0121_lossless_alignedTo_MD590-N47-2015.09.12-05.32.06_MD590_2_0140_cropped_down4_clf38_scoremap.jpg s3://mousebrainatlas-data/CSHL_scoremaps_down4_viz/Sp5O/MD590/clf38/MD590-IHC41-2015.08.10-20.50.09_MD590_3_0121_lossless_alignedTo_MD590-N47-2015.09.12-05.32.06_MD590_2_0140_cropped_down4_clf38_scoremap.jpg\n",
      "aws s3 cp /shared/CSHL_scoremaps_down4_viz/10N/MD590/clf38/MD590-IHC41-2015.08.10-20.50.09_MD590_3_0121_lossless_alignedTo_MD590-N47-2015.09.12-05.32.06_MD590_2_0140_cropped_down4_clf38_scoremap.jpg s3://mousebrainatlas-data/CSHL_scoremaps_down4_viz/10N/MD590/clf38/MD590-IHC41-2015.08.10-20.50.09_MD590_3_0121_lossless_alignedTo_MD590-N47-2015.09.12-05.32.06_MD590_2_0140_cropped_down4_clf38_scoremap.jpg\n",
      "aws s3 cp /shared/CSHL_scoremaps_down4_viz/AP/MD590/clf38/MD590-IHC41-2015.08.10-20.50.09_MD590_3_0121_lossless_alignedTo_MD590-N47-2015.09.12-05.32.06_MD590_2_0140_cropped_down4_clf38_scoremap.jpg s3://mousebrainatlas-data/CSHL_scoremaps_down4_viz/AP/MD590/clf38/MD590-IHC41-2015.08.10-20.50.09_MD590_3_0121_lossless_alignedTo_MD590-N47-2015.09.12-05.32.06_MD590_2_0140_cropped_down4_clf38_scoremap.jpg\n",
      "aws s3 cp /shared/CSHL_scoremaps_down4_viz/RtTg/MD590/clf38/MD590-IHC41-2015.08.10-20.50.09_MD590_3_0121_lossless_alignedTo_MD590-N47-2015.09.12-05.32.06_MD590_2_0140_cropped_down4_clf38_scoremap.jpg s3://mousebrainatlas-data/CSHL_scoremaps_down4_viz/RtTg/MD590/clf38/MD590-IHC41-2015.08.10-20.50.09_MD590_3_0121_lossless_alignedTo_MD590-N47-2015.09.12-05.32.06_MD590_2_0140_cropped_down4_clf38_scoremap.jpg\n",
      "aws s3 cp /shared/CSHL_scoremaps_down4_viz/DC/MD590/clf38/MD590-IHC41-2015.08.10-20.50.09_MD590_3_0121_lossless_alignedTo_MD590-N47-2015.09.12-05.32.06_MD590_2_0140_cropped_down4_clf38_scoremap.jpg s3://mousebrainatlas-data/CSHL_scoremaps_down4_viz/DC/MD590/clf38/MD590-IHC41-2015.08.10-20.50.09_MD590_3_0121_lossless_alignedTo_MD590-N47-2015.09.12-05.32.06_MD590_2_0140_cropped_down4_clf38_scoremap.jpg\n",
      "aws s3 cp /shared/CSHL_scoremaps_down4_viz/VCP/MD590/clf38/MD590-IHC41-2015.08.10-20.50.09_MD590_3_0121_lossless_alignedTo_MD590-N47-2015.09.12-05.32.06_MD590_2_0140_cropped_down4_clf38_scoremap.jpg s3://mousebrainatlas-data/CSHL_scoremaps_down4_viz/VCP/MD590/clf38/MD590-IHC41-2015.08.10-20.50.09_MD590_3_0121_lossless_alignedTo_MD590-N47-2015.09.12-05.32.06_MD590_2_0140_cropped_down4_clf38_scoremap.jpg\n",
      "aws s3 cp /shared/CSHL_scoremaps_down4_viz/VCA/MD590/clf38/MD590-IHC41-2015.08.10-20.50.09_MD590_3_0121_lossless_alignedTo_MD590-N47-2015.09.12-05.32.06_MD590_2_0140_cropped_down4_clf38_scoremap.jpg s3://mousebrainatlas-data/CSHL_scoremaps_down4_viz/VCA/MD590/clf38/MD590-IHC41-2015.08.10-20.50.09_MD590_3_0121_lossless_alignedTo_MD590-N47-2015.09.12-05.32.06_MD590_2_0140_cropped_down4_clf38_scoremap.jpg\n",
      "aws s3 cp /shared/CSHL_scoremaps_down4_viz/12N/MD590/clf38/MD590-IHC41-2015.08.10-20.50.09_MD590_3_0121_lossless_alignedTo_MD590-N47-2015.09.12-05.32.06_MD590_2_0140_cropped_down4_clf38_scoremap.jpg s3://mousebrainatlas-data/CSHL_scoremaps_down4_viz/12N/MD590/clf38/MD590-IHC41-2015.08.10-20.50.09_MD590_3_0121_lossless_alignedTo_MD590-N47-2015.09.12-05.32.06_MD590_2_0140_cropped_down4_clf38_scoremap.jpg\n",
      "aws s3 cp /shared/CSHL_scoremaps_down4_viz/SC/MD590/clf38/MD590-IHC41-2015.08.10-20.50.09_MD590_3_0121_lossless_alignedTo_MD590-N47-2015.09.12-05.32.06_MD590_2_0140_cropped_down4_clf38_scoremap.jpg s3://mousebrainatlas-data/CSHL_scoremaps_down4_viz/SC/MD590/clf38/MD590-IHC41-2015.08.10-20.50.09_MD590_3_0121_lossless_alignedTo_MD590-N47-2015.09.12-05.32.06_MD590_2_0140_cropped_down4_clf38_scoremap.jpg\n",
      "aws s3 cp /shared/CSHL_scoremaps_down4_viz/IC/MD590/clf38/MD590-IHC41-2015.08.10-20.50.09_MD590_3_0121_lossless_alignedTo_MD590-N47-2015.09.12-05.32.06_MD590_2_0140_cropped_down4_clf38_scoremap.jpg s3://mousebrainatlas-data/CSHL_scoremaps_down4_viz/IC/MD590/clf38/MD590-IHC41-2015.08.10-20.50.09_MD590_3_0121_lossless_alignedTo_MD590-N47-2015.09.12-05.32.06_MD590_2_0140_cropped_down4_clf38_scoremap.jpg\n"
     ]
    },
    {
     "name": "stderr",
     "output_type": "stream",
     "text": [
      "Visualize scoremaps: 29.20 seconds.\n"
     ]
    }
   ],
   "source": [
    "for sec in [201]:\n",
    "# for sec in metadata_cache['valid_sections'][stack]:\n",
    "\n",
    "    actual_setting = resolve_actual_setting(setting=classifier_id, stack=stack, sec=sec)\n",
    "\n",
    "    t = time.time()\n",
    "\n",
    "    def save_scoremap(structure):\n",
    "        viz_fp = DataManager.get_scoremap_viz_filepath(stack=stack, downscale=downscale, section=sec, \n",
    "                                                       structure=structure, classifier_id=actual_setting)\n",
    "        create_parent_dir_if_not_exists(viz_fp)\n",
    "        try:\n",
    "            if add_label_text:\n",
    "                label_text = str(structure)\n",
    "            else:\n",
    "                label_text = None\n",
    "\n",
    "            viz = scoremap_overlay_on(bg='original', stack=stack, sec=sec, structure=structure,\n",
    "                                out_downscale=downscale, label_text=label_text, classifier_id=actual_setting,\n",
    "                                     cmap_name='hot')\n",
    "            imsave(viz_fp, img_as_ubyte(viz))\n",
    "            upload_to_s3(viz_fp)\n",
    "        except Exception as e:\n",
    "            sys.stderr.write('%s\\n' % e)\n",
    "            return\n",
    "    \n",
    "    pool = Pool(NUM_CORES)\n",
    "    pool.map(save_scoremap, all_known_structures)\n",
    "    pool.close()\n",
    "    pool.join()\n",
    "\n",
    "    sys.stderr.write('Visualize scoremaps: %.2f seconds.\\n' % (time.time() - t)) \n",
    "    # 7s for one structure, one section, single process\n",
    "    # 20s for all structures, one section, 8 processes"
   ]
  }
 ],
 "metadata": {
  "kernelspec": {
   "display_name": "Python 2",
   "language": "python",
   "name": "python2"
  },
  "language_info": {
   "codemirror_mode": {
    "name": "ipython",
    "version": 2
   },
   "file_extension": ".py",
   "mimetype": "text/x-python",
   "name": "python",
   "nbconvert_exporter": "python",
   "pygments_lexer": "ipython2",
   "version": "2.7.12"
  }
 },
 "nbformat": 4,
 "nbformat_minor": 1
}
