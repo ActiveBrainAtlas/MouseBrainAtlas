{
 "cells": [
  {
   "cell_type": "code",
   "execution_count": 1,
   "metadata": {
    "collapsed": false
   },
   "outputs": [],
   "source": [
    "%reload_ext autoreload\n",
    "%autoreload 2\n",
    "\n",
    "import cv2\n",
    "\n",
    "import os\n",
    "import sys\n",
    "sys.path.append(os.path.join(os.environ['REPO_DIR'], 'utilities'))\n",
    "from utilities2015 import *\n",
    "\n",
    "from collections import defaultdict\n",
    "\n",
    "from matplotlib.path import Path\n",
    "%matplotlib inline\n",
    "\n",
    "import pandas as pd\n",
    "\n",
    "from joblib import Parallel, delayed\n",
    "\n",
    "import time"
   ]
  },
  {
   "cell_type": "code",
   "execution_count": 2,
   "metadata": {
    "collapsed": true
   },
   "outputs": [],
   "source": [
    "scoremaps_rootdir = '/oasis/projects/nsf/csd395/yuncong/CSHL_scoremaps_lossless_svm'\n",
    "\n",
    "scoremapViz_rootdir = '/oasis/projects/nsf/csd395/yuncong/CSHL_scoremapViz_svm'\n",
    "if not os.path.exists(scoremapViz_rootdir):\n",
    "    os.makedirs(scoremapViz_rootdir)"
   ]
  },
  {
   "cell_type": "code",
   "execution_count": 3,
   "metadata": {
    "collapsed": true
   },
   "outputs": [],
   "source": [
    "labels = ['BackG', '5N', '7n', '7N', '12N', 'Pn', 'VLL', \n",
    "          '6N', 'Amb', 'R', 'Tz', 'RtTg', 'LRt', 'LC', 'AP', 'sp5']"
   ]
  },
  {
   "cell_type": "code",
   "execution_count": 4,
   "metadata": {
    "collapsed": true
   },
   "outputs": [],
   "source": [
    "downscale_factor = 8"
   ]
  },
  {
   "cell_type": "code",
   "execution_count": 8,
   "metadata": {
    "collapsed": false
   },
   "outputs": [],
   "source": [
    "def func(sec):\n",
    "    \n",
    "    global stack\n",
    "    \n",
    "    scoremapViz_dir = os.path.join(scoremapViz_rootdir, stack, '%04d'%sec)\n",
    "    if not os.path.exists(scoremapViz_dir):\n",
    "        os.makedirs(scoremapViz_dir)\n",
    "\n",
    "    dm = DataManager(stack=stack, section=sec)\n",
    "    dm._load_image(['rgb-jpg'])\n",
    "\n",
    "    dataset = '%(stack)s_%(sec)04d_roi1' % {'stack': stack, 'sec': sec}\n",
    "\n",
    "    for l in labels[1:]:\n",
    "        \n",
    "        scoremap_bp_filepath = scoremaps_rootdir + '/%(stack)s/%(slice)04d/%(stack)s_%(slice)04d_roi1_denseScoreMapLossless_%(label)s.hdf' \\\n",
    "            % {'stack': stack, 'slice': sec, 'label': l}\n",
    "            \n",
    "        if not os.path.exists(scoremap_bp_filepath):\n",
    "            sys.stderr.write('No scoremap for %s for section %d\\n' % (l, sec))\n",
    "            continue\n",
    "    \n",
    "#         t = time.time()\n",
    "#         scoremap = bp.unpack_ndarray_file(scoremap_bp_filepath)   \n",
    "        scoremap = load_hdf(scoremap_bp_filepath)\n",
    "#         sys.stderr.write('load scoremap: %.2f seconds\\n' % (time.time() - t))\n",
    "                \n",
    "        interpolation_xmin, interpolation_xmax, \\\n",
    "        interpolation_ymin, interpolation_ymax = np.loadtxt(os.path.join(scoremaps_rootdir, stack, '%04d'%sec,\n",
    "                                                                         '%(dataset)s_denseScoreMapLossless_%(label)s_interpBox.txt' % \\\n",
    "                                        {'dataset': dataset, 'label': l})).astype(np.int)\n",
    "                \n",
    "        dense_score_map_lossless = np.zeros((dm.image_height, dm.image_width))\n",
    "        dense_score_map_lossless[interpolation_ymin:interpolation_ymax+1,\n",
    "                                interpolation_xmin:interpolation_xmax+1] = scoremap\n",
    "        \n",
    "        scoremap_viz = plt.cm.hot(dense_score_map_lossless[::downscale_factor, ::downscale_factor])\n",
    "#         scoremap_viz = plt.cm.hot(scoremap[::downscale_factor, ::downscale_factor])\n",
    "        \n",
    "        viz = (.3 * img_as_ubyte(scoremap_viz[..., :3]) + .7 * dm.image_rgb_jpg[::downscale_factor, ::downscale_factor]).astype(np.uint8)\n",
    "#         viz = alpha_blending(scoremap_viz[..., :3], dm.image_rgb_jpg[::downscale_factor, ::downscale_factor], .3, 1.)\n",
    "\n",
    "        cv2.putText(viz, l, (50, 50), cv2.FONT_HERSHEY_DUPLEX, 2, ((0,0,0)), 3)\n",
    "        \n",
    "        cv2.imwrite(os.path.join(scoremapViz_dir, dataset+'_scoremapViz_%s.jpg' % l), \n",
    "                    img_as_ubyte(viz[..., [2,1,0]]))        "
   ]
  },
  {
   "cell_type": "code",
   "execution_count": 7,
   "metadata": {
    "collapsed": false,
    "scrolled": true
   },
   "outputs": [
    {
     "name": "stdout",
     "output_type": "stream",
     "text": [
      "25.5092740059\n"
     ]
    },
    {
     "name": "stderr",
     "output_type": "stream",
     "text": [
      "load scoremap: 0.18 seconds\n",
      "load scoremap: 0.21 seconds\n",
      "load scoremap: 0.23 seconds\n",
      "load scoremap: 0.34 seconds\n",
      "load scoremap: 0.15 seconds\n",
      "load scoremap: 0.11 seconds\n",
      "No scoremap for 7n for section 135\n",
      "load scoremap: 0.16 seconds\n",
      "load scoremap: 0.38 seconds\n",
      "load scoremap: 0.20 seconds\n",
      "load scoremap: 0.22 seconds\n",
      "load scoremap: 0.15 seconds\n",
      "load scoremap: 0.10 seconds\n",
      "load scoremap: 0.11 seconds\n",
      "No scoremap for 12N for section 135\n",
      "load scoremap: 0.16 seconds\n",
      "No scoremap for Gr for section 133\n",
      "No scoremap for Gr for section 134\n",
      "No scoremap for Gr for section 135\n",
      "No scoremap for Gr for section 132\n",
      "No scoremap for LVe for section 133\n",
      "No scoremap for LVe for section 134\n",
      "No scoremap for LVe for section 135\n",
      "No scoremap for LVe for section 132\n",
      "load scoremap: 0.19 seconds\n",
      "load scoremap: 0.30 seconds\n",
      "load scoremap: 0.26 seconds\n",
      "load scoremap: 0.20 seconds\n",
      "No scoremap for SuVe for section 133\n",
      "No scoremap for SuVe for section 134\n",
      "No scoremap for SuVe for section 135\n",
      "No scoremap for SuVe for section 132\n",
      "load scoremap: 0.33 seconds\n",
      "load scoremap: 0.25 seconds\n",
      "load scoremap: 0.25 seconds\n",
      "load scoremap: 0.20 seconds\n",
      "No scoremap for 6N for section 133\n",
      "No scoremap for 6N for section 134\n",
      "No scoremap for 6N for section 135\n",
      "load scoremap: 0.16 seconds\n",
      "load scoremap: 0.13 seconds\n",
      "load scoremap: 0.17 seconds\n",
      "load scoremap: 0.15 seconds\n",
      "load scoremap: 0.13 seconds\n",
      "load scoremap: 0.24 seconds\n",
      "load scoremap: 0.12 seconds\n",
      "load scoremap: 0.14 seconds\n",
      "load scoremap: 0.12 seconds\n",
      "load scoremap: 0.17 seconds\n",
      "load scoremap: 0.19 seconds\n",
      "load scoremap: 0.12 seconds\n",
      "load scoremap: 0.12 seconds\n",
      "No scoremap for Sol for section 133\n",
      "No scoremap for Sol for section 134\n",
      "No scoremap for Sol for section 135\n",
      "No scoremap for Sol for section 132\n",
      "load scoremap: 0.38 seconds\n",
      "load scoremap: 0.21 seconds\n",
      "load scoremap: 0.18 seconds\n",
      "load scoremap: 0.32 seconds\n",
      "load scoremap: 0.20 seconds\n",
      "load scoremap: 0.16 seconds\n",
      "load scoremap: 0.18 seconds\n",
      "load scoremap: 0.15 seconds\n",
      "load scoremap: 0.10 seconds\n",
      "load scoremap: 0.20 seconds\n",
      "load scoremap: 0.13 seconds\n",
      "load scoremap: 0.17 seconds\n",
      "load scoremap: 0.14 seconds\n",
      "load scoremap: 0.17 seconds\n",
      "load scoremap: 0.12 seconds\n",
      "load scoremap: 0.10 seconds\n",
      "load scoremap: 0.13 seconds\n",
      "load scoremap: 0.15 seconds\n",
      "load scoremap: 0.15 seconds\n",
      "load scoremap: 0.29 seconds\n"
     ]
    }
   ],
   "source": [
    "# for stack in ['MD589']:\n",
    "for stack in ['MD585']:\n",
    "# for stack in ['MD592', 'MD590', 'MD591', 'MD595', 'MD598', 'MD602']:\n",
    "\n",
    "    first_detect_sec, last_detect_sec = detect_bbox_range_lookup[stack]\n",
    "    \n",
    "#     for sec in range(first_detect_sec, last_detect_sec):\n",
    "\n",
    "    t = time.time()\n",
    "#     for sec in [162]:    \n",
    "#         print sec\n",
    "\n",
    "#         _ = func(sec)\n",
    "        \n",
    "    _ = Parallel(n_jobs=4)(delayed(func)(sec) for sec in range(first_detect_sec, first_detect_sec+4))\n",
    "#     _ = Parallel(n_jobs=16)(delayed(func)(sec) for sec in range(first_detect_sec, first_detect_sec+16))\n",
    "    \n",
    "    print time.time() - t    \n"
   ]
  }
 ],
 "metadata": {
  "kernelspec": {
   "display_name": "Python 2",
   "language": "python",
   "name": "python2"
  },
  "language_info": {
   "codemirror_mode": {
    "name": "ipython",
    "version": 2
   },
   "file_extension": ".py",
   "mimetype": "text/x-python",
   "name": "python",
   "nbconvert_exporter": "python",
   "pygments_lexer": "ipython2",
   "version": "2.7.3"
  }
 },
 "nbformat": 4,
 "nbformat_minor": 0
}
