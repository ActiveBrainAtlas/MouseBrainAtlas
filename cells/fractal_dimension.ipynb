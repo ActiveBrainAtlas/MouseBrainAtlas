{
 "cells": [
  {
   "cell_type": "code",
   "execution_count": 1,
   "metadata": {
    "collapsed": false
   },
   "outputs": [
    {
     "name": "stdout",
     "output_type": "stream",
     "text": [
      "Setting environment for Gordon\n"
     ]
    }
   ],
   "source": [
    "%reload_ext autoreload\n",
    "%autoreload 2\n",
    "\n",
    "import os\n",
    "import sys\n",
    "import time\n",
    "import cv2\n",
    "\n",
    "from joblib import Parallel, delayed\n",
    "\n",
    "sys.path.append(os.path.join(os.environ['REPO_DIR'], 'utilities'))\n",
    "from utilities2015 import *\n",
    "from data_manager import *\n",
    "from metadata import *\n",
    "\n",
    "import matplotlib.pyplot as plt\n",
    "%matplotlib inline\n",
    "\n",
    "from skimage.transform import rotate"
   ]
  },
  {
   "cell_type": "code",
   "execution_count": null,
   "metadata": {
    "collapsed": false
   },
   "outputs": [],
   "source": [
    "cell_masks = []\n",
    "\n",
    "stack = 'MD589'\n",
    "\n",
    "for sec in range(93, 143, 10):\n",
    "# sec = 113\n",
    "    blob_coords = pickle.load(open('/home/yuncong/csd395/CSHL_cells/%(stack)s_%(sec)04d_blobCoords.pkl' % {'stack': stack, 'sec': sec}, 'r'))\n",
    "    blob_orientations = bp.unpack_ndarray_file('/home/yuncong/csd395/CSHL_cells/%(stack)s_%(sec)04d_blobOrientations.bp' % {'stack': stack, 'sec': sec})\n",
    "\n",
    "    blob_centers = [coords.mean(axis=0) for coords in blob_coords]\n",
    "\n",
    "    for blob_index_inSec, coords in enumerate(blob_coords):\n",
    "        ymin, xmin = coords.min(axis=0)\n",
    "        ymax, xmax = coords.max(axis=0)\n",
    "        cell_mask = np.zeros((ymax+1-ymin, xmax+1-xmin), np.bool)\n",
    "        cell_mask[coords[:,0]-ymin, coords[:,1]-xmin] = 1\n",
    "\n",
    "        patch_rotationNormalized = rotate(cell_mask, angle=-np.rad2deg(blob_orientations[blob_index_inSec]), \n",
    "                      center=(blob_centers[blob_index_inSec][1] - xmin, blob_centers[blob_index_inSec][0] - ymin),\n",
    "                      cval=0.) > .5\n",
    "\n",
    "        cell_masks.append(patch_rotationNormalized)"
   ]
  },
  {
   "cell_type": "code",
   "execution_count": null,
   "metadata": {
    "collapsed": true
   },
   "outputs": [],
   "source": [
    "cell_masks_normalized = np.asarray(pad_patches_to_same_size(cell_masks, pad_value=0, keep_center=True))"
   ]
  },
  {
   "cell_type": "code",
   "execution_count": null,
   "metadata": {
    "collapsed": true
   },
   "outputs": [],
   "source": [
    "bp.pack_ndarray_file(cell_masks_normalized, '/home/yuncong/csd395/CSHL_cells/fractal_dim/cell_masks_normalized.bp')"
   ]
  },
  {
   "cell_type": "code",
   "execution_count": null,
   "metadata": {
    "collapsed": true
   },
   "outputs": [],
   "source": []
  },
  {
   "cell_type": "code",
   "execution_count": 2,
   "metadata": {
    "collapsed": false
   },
   "outputs": [],
   "source": [
    "cell_masks_normalized = bp.unpack_ndarray_file('/home/yuncong/csd395/CSHL_cells/fractal_dim/cell_masks_normalized.bp')"
   ]
  },
  {
   "cell_type": "code",
   "execution_count": 3,
   "metadata": {
    "collapsed": false
   },
   "outputs": [
    {
     "name": "stdout",
     "output_type": "stream",
     "text": [
      "197953 cells\n"
     ]
    }
   ],
   "source": [
    "n_cells = len(cell_masks_normalized)\n",
    "print n_cells, 'cells'\n",
    "\n",
    "cell_masks_normalized_flattened = np.reshape(cell_masks_normalized, (len(cell_masks_normalized), -1))\n",
    "cell_masks_normalized_flattened.shape\n",
    "\n",
    "cell_masks_normalized_size = cell_masks_normalized_flattened.sum(axis=1)"
   ]
  },
  {
   "cell_type": "code",
   "execution_count": null,
   "metadata": {
    "collapsed": true
   },
   "outputs": [],
   "source": []
  },
  {
   "cell_type": "code",
   "execution_count": null,
   "metadata": {
    "collapsed": false
   },
   "outputs": [],
   "source": [
    "# visualize some random cells\n",
    "indices = np.random.randint(0, n_cells, 10)\n",
    "display_images_in_grids([cell_masks_normalized[i] for i in indices], 10, maintain_shape=False)"
   ]
  },
  {
   "cell_type": "code",
   "execution_count": null,
   "metadata": {
    "collapsed": true
   },
   "outputs": [],
   "source": []
  },
  {
   "cell_type": "code",
   "execution_count": 5,
   "metadata": {
    "collapsed": false
   },
   "outputs": [],
   "source": [
    "memberCount = np.bincount(indices_of_closest_seed, minlength=len(seeds))\n",
    "seedIndices_sorted_by_memberCount = np.argsort(memberCount)[::-1]\n",
    "memberCount_sorted = memberCount[seedIndices_sorted_by_memberCount]\n",
    "seeds_ranked_by_memberCount = seeds[seedIndices_sorted_by_memberCount]"
   ]
  },
  {
   "cell_type": "code",
   "execution_count": 6,
   "metadata": {
    "collapsed": false,
    "scrolled": true
   },
   "outputs": [
    {
     "data": {
      "text/plain": [
       "array([252, 245, 196, ...,   1,   1,   1])"
      ]
     },
     "execution_count": 6,
     "metadata": {},
     "output_type": "execute_result"
    }
   ],
   "source": [
    "memberCount_sorted"
   ]
  },
  {
   "cell_type": "code",
   "execution_count": 7,
   "metadata": {
    "collapsed": false
   },
   "outputs": [
    {
     "data": {
      "image/png": "[encoded data removed]",
      "text/plain": [
       "<matplotlib.figure.Figure at 0x24bc410>"
      ]
     },
     "metadata": {},
     "output_type": "display_data"
    }
   ],
   "source": [
    "plt.plot(np.cumsum(memberCount_sorted) / float(n_cells));\n",
    "plt.xlabel('top # seeds');\n",
    "plt.ylabel('percentage coverage');"
   ]
  },
  {
   "cell_type": "code",
   "execution_count": null,
   "metadata": {
    "collapsed": true
   },
   "outputs": [],
   "source": []
  },
  {
   "cell_type": "code",
   "execution_count": 8,
   "metadata": {
    "collapsed": false
   },
   "outputs": [],
   "source": [
    "from multiprocess import Pool"
   ]
  },
  {
   "cell_type": "code",
   "execution_count": 9,
   "metadata": {
    "collapsed": true
   },
   "outputs": [],
   "source": [
    "from scipy.sparse import dok_matrix, coo_matrix"
   ]
  },
  {
   "cell_type": "code",
   "execution_count": 10,
   "metadata": {
    "collapsed": true
   },
   "outputs": [],
   "source": [
    "from scipy.spatial.distance import squareform\n",
    "\n",
    "def compute_jaccard_list_with_all(seed_indices):\n",
    "\n",
    "    pool = Pool(14)\n",
    "    affinities_to_seeds = pool.map(compute_jaccard_with_i, seed_indices)\n",
    "    pool.close()\n",
    "    pool.join()\n",
    "    return np.asarray(affinities_to_seeds)\n",
    "\n",
    "def compute_jaccard_with_i_list(i, indices):\n",
    "    intersections = cell_masks_normalized_flattened[indices[:,None], cell_masks_normalized_flattened[i]].sum(axis=1)\n",
    "    unions = cell_masks_normalized_size[i] + cell_masks_normalized_size[indices] - intersections\n",
    "    scores = intersections.astype(np.float)/unions\n",
    "    return scores\n",
    "    \n",
    "def compute_jaccard_pairwise(indices, square_form=True, parallel=True):\n",
    "    n = len(indices)\n",
    "\n",
    "    if parallel:\n",
    "        pool = Pool(16)\n",
    "        pairwise_scores = pool.map(lambda x: compute_jaccard_with_i_list(x[0],x[1]), \n",
    "                                   [(indices[i], indices[i+1:]) for i in range(n)])\n",
    "        pool.close()\n",
    "        pool.join()\n",
    "    else:\n",
    "        pairwise_scores = [compute_jaccard_with_i_list(indices[i], indices[i+1:]) for i in range(n)]\n",
    "        \n",
    "    if square_form:\n",
    "        return squareform(np.concatenate(pairwise_scores))\n",
    "    else:\n",
    "        return pairwise_scores\n",
    "    \n",
    "# def compute_jaccard_with_i_slave(args):\n",
    "#     i, j1, j2 = args\n",
    "# #     intersections_with_i = (cell_masks_normalized_flattened[i] & cell_masks_normalized_flattened[j1:j2+1]).sum(axis=1)\n",
    "#     intersections_with_i = cell_masks_normalized_flattened[j1:j2+1, cell_masks_normalized_flattened[i]].sum(axis=1)\n",
    "#     unions_with_i = cell_masks_normalized_size[i] + cell_masks_normalized_size[j1:j2+1] - intersections_with_i\n",
    "    \n",
    "# #     S = cell_masks_normalized_flattened[j1:j2+1]\n",
    "# #     intersections_with_i = S[:, cell_masks_normalized_flattened[i]].sum(axis=1)\n",
    "# #     unions_with_i = cell_masks_normalized_size[i] + S - intersections_with_i\n",
    "    \n",
    "# #     intersections_with_i = cell_masks_normalized_flattened[j1:j2+1, cell_masks_normalized_flattened[i]].sum(axis=1)\n",
    "# #     unions_with_i = cell_masks_normalized_size[i] + cell_masks_normalized_size[j1:j2+1] - intersections_with_i\n",
    "#     return intersections_with_i.astype(np.float)/unions_with_i\n",
    "\n",
    "# def compute_jaccard_with_i_parallel(i):\n",
    "    \n",
    "#     # overhead is too much, not saving time\n",
    "    \n",
    "#     from multiprocess import Pool\n",
    "    \n",
    "#     n_jobs = 8\n",
    "#     pool = Pool(n_jobs)\n",
    "\n",
    "#     slave_start_indices = np.linspace(0, n_cells, n_jobs+1).astype(np.int)\n",
    "#     jaccard_with_i = pool.map(compute_jaccard_with_i_slave,\n",
    "#                               [(i, slave_start_indices[s], slave_start_indices[s+1]-1) for s in range(n_jobs)])\n",
    "#     jaccard_with_i = np.concatenate(jaccard_with_i)\n",
    "\n",
    "#     pool.terminate()\n",
    "#     pool.close()\n",
    "            \n",
    "#     return jaccard_with_i\n",
    "\n",
    "def compute_jaccard_with_i(i, upper=False):\n",
    "    if upper:\n",
    "        intersections_with_i = cell_masks_normalized_flattened[i+1:, cell_masks_normalized_flattened[i]].sum(axis=1)\n",
    "        unions_with_i = cell_masks_normalized_size[i] + cell_masks_normalized_size[i+1:] - intersections_with_i\n",
    "    else:\n",
    "        intersections_with_i = cell_masks_normalized_flattened[:, cell_masks_normalized_flattened[i]].sum(axis=1)\n",
    "        unions_with_i = cell_masks_normalized_size[i] + cell_masks_normalized_size - intersections_with_i\n",
    "        \n",
    "    return intersections_with_i.astype(np.float)/unions_with_i\n",
    "\n",
    "def compute_jaccard_with_template(template):\n",
    "    intersections_with_template = [template[m].sum() for m in cell_masks_normalized_flattened]\n",
    "    unions_with_template = (template + cell_masks_normalized_size - intersections_with_template)\n",
    "    return intersections_with_template.astype(np.float)/unions_with_template\n",
    "\n",
    "def compute_jaccard_with_i_sparse(i, upper=False, threshold=.85, n_neighbors=10):\n",
    "    if upper:\n",
    "        scores = compute_jaccard_with_i(i, upper=True)\n",
    "        nearest_neighbors = np.where(scores > threshold)[0]\n",
    "        return i+1+nearest_neighbors, scores[nearest_neighbors]\n",
    "    else:\n",
    "        scores = compute_jaccard_with_i(i, upper=False)\n",
    "        nearest_neighbors = np.argsort(scores)[::-1][:10]\n",
    "        return nearest_neighbors, scores[nearest_neighbors]"
   ]
  },
  {
   "cell_type": "code",
   "execution_count": 11,
   "metadata": {
    "collapsed": true
   },
   "outputs": [],
   "source": [
    "def compute_jaccard_list_vs_list(indices1, indices2, parallel, mem_limited):\n",
    "    pass"
   ]
  },
  {
   "cell_type": "code",
   "execution_count": null,
   "metadata": {
    "collapsed": false,
    "scrolled": true
   },
   "outputs": [],
   "source": [
    "data_per_batch = 1000\n",
    "n_batches = n_cells / data_per_batch\n",
    "print 'n_batches =', n_batches\n",
    "slave_start_indices = np.linspace(0, n_cells, n_batches+1).astype(np.int)\n",
    "\n",
    "for batch_index in range(n_batches):\n",
    "    \n",
    "    print batch_index\n",
    "    t = time.time()\n",
    "\n",
    "    begin_data_index = slave_start_indices[batch_index]\n",
    "    end_data_index = slave_start_indices[batch_index+1]-1\n",
    "    scores = compute_jaccard_list_with_all(range(begin_data_index, end_data_index+1))\n",
    "#     scores[scores < threshold] = 0\n",
    "    bp.pack_ndarray_file(scores.astype(np.float16), '/home/yuncong/csd395/CSHL_cells/fractal_dim/pairwise_scores_%d_%d.bp' % (begin_data_index,\n",
    "                                                                                                          end_data_index))\n",
    "    \n",
    "    sys.stderr.write('Compute pairwise affinities: %f s.\\n' % (time.time()-t)) # 44s / 1000 x 200k"
   ]
  },
  {
   "cell_type": "code",
   "execution_count": null,
   "metadata": {
    "collapsed": false
   },
   "outputs": [],
   "source": [
    "S = dok_matrix((n_cells, n_cells), dtype=np.float16)\n",
    "\n",
    "data_per_batch = 1000\n",
    "n_batches = n_cells / data_per_batch\n",
    "print 'n_batches =', n_batches\n",
    "slave_start_indices = np.linspace(0, n_cells, n_batches+1).astype(np.int)\n",
    "\n",
    "threshold = 0.8\n",
    "\n",
    "for batch_index in range(n_batches):\n",
    "    \n",
    "    print batch_index\n",
    "    t = time.time()\n",
    "\n",
    "    begin_data_index = slave_start_indices[batch_index]\n",
    "    end_data_index = slave_start_indices[batch_index+1]-1\n",
    "    \n",
    "    scores = bp.unpack_ndarray_file('/home/yuncong/csd395/CSHL_cells/fractal_dim/pairwise_scores_%d_%d.bp' % (begin_data_index,\n",
    "                                                                                                          end_data_index))\n",
    "    \n",
    "    sys.stderr.write('Load pairwise affinities: %f s.\\n' % (time.time()-t)) # 15s / 1000 x 200k\n",
    "    \n",
    "    t = time.time()\n",
    "    \n",
    "#     nearest_neighbors_cols = np.argsort(scores, axis=1)[:, ::-1][:, :10]\n",
    "#     for i in range\n",
    "    \n",
    "    nearest_neighbors_rows, nearest_neighbors_cols = np.where(scores > threshold)\n",
    "    \n",
    "    sys.stderr.write('Load pairwise affinities: %f s.\\n' % (time.time()-t)) # 15s / 1000 x 200k\n",
    "    \n",
    "    t = time.time()\n",
    "    S[begin_data_index + nearest_neighbors_rows, nearest_neighbors_cols] = scores[nearest_neighbors_rows, nearest_neighbors_cols]\n",
    "    \n",
    "    sys.stderr.write('Load pairwise affinities: %f s.\\n' % (time.time()-t)) # 15s / 1000 x 200k\n",
    "    \n",
    "    break"
   ]
  },
  {
   "cell_type": "code",
   "execution_count": null,
   "metadata": {
    "collapsed": true
   },
   "outputs": [],
   "source": [
    "import scipy.sparse.linalg\n",
    "\n",
    "D = np.sum(affinities_mat_full, axis=1)\n",
    "L = D - affinities_mat_full\n",
    "eigenvalues, eigenvectors = scipy.sparse.linalg.eigsh(L, M=D)\n",
    "embedding = eigenvectors[:7, :]"
   ]
  },
  {
   "cell_type": "code",
   "execution_count": null,
   "metadata": {
    "collapsed": true
   },
   "outputs": [],
   "source": []
  },
  {
   "cell_type": "code",
   "execution_count": null,
   "metadata": {
    "collapsed": true
   },
   "outputs": [],
   "source": []
  },
  {
   "cell_type": "code",
   "execution_count": null,
   "metadata": {
    "collapsed": false
   },
   "outputs": [],
   "source": [
    "# toy example\n",
    "\n",
    "n_classes = 3\n",
    "\n",
    "data1 = np.random.multivariate_normal([0,0], np.eye(2), 100)\n",
    "data2 = np.random.multivariate_normal([4,4], np.eye(2), 100)\n",
    "data3 = np.random.multivariate_normal([-4,4], np.eye(2), 100)\n",
    "data = np.r_[data1, data2, data3]\n",
    "\n",
    "colors = ['b', 'r', 'g']\n",
    "\n",
    "plt.scatter(data1[:,0], data1[:,1], c=colors[0]);\n",
    "plt.scatter(data2[:,0], data2[:,1], c=colors[1]);\n",
    "plt.scatter(data3[:,0], data3[:,1], c=colors[2]);\n",
    "plt.show();"
   ]
  },
  {
   "cell_type": "code",
   "execution_count": null,
   "metadata": {
    "collapsed": true
   },
   "outputs": [],
   "source": [
    "# Full Spectral Clutering\n",
    "\n",
    "import scipy.linalg\n",
    "\n",
    "affinities_mat_full = squareform(pdist(data))\n",
    "affinities_mat_full = np.exp(-affinities_mat_full**2/10.)\n",
    "\n",
    "D = np.diag(np.sum(affinities_mat_full, axis=1))\n",
    "L = D - affinities_mat_full\n",
    "eigenvalues, eigenvectors = scipy.linalg.eigh(L, D)\n",
    "nvec = 2\n",
    "E_original_order = eigenvectors[:, 1:1+nvec]"
   ]
  },
  {
   "cell_type": "code",
   "execution_count": null,
   "metadata": {
    "collapsed": false
   },
   "outputs": [],
   "source": [
    "from sklearn.cluster import KMeans, MiniBatchKMeans\n",
    "\n",
    "kmeans = KMeans(n_clusters=n_classes)\n",
    "kmeans.fit(E_original_order);\n",
    "\n",
    "print np.bincount(kmeans.labels_, minlength=n_classes)\n",
    "\n",
    "for i in range(n_classes):\n",
    "    indices = np.where(kmeans.labels_ == i)[0]\n",
    "    plt.scatter(data[indices,0], data[indices,1], c=colors[i]);\n",
    "plt.show();"
   ]
  },
  {
   "cell_type": "code",
   "execution_count": null,
   "metadata": {
    "collapsed": false
   },
   "outputs": [],
   "source": [
    "# Nystroem extension, example\n",
    "\n",
    "from scipy.spatial.distance import cdist, pdist\n",
    "\n",
    "t = time.time()\n",
    "\n",
    "n_seeds = 3\n",
    "sampled = np.random.choice(range(len(data)), n_seeds, replace=False)\n",
    "\n",
    "affinities_with_samples = cdist(data[sampled], data)\n",
    "affinities_with_samples = np.exp(-affinities_with_samples**2/10.)\n",
    "\n",
    "sys.stderr.write('Compute pairwise affinities (with samples): %f s.\\n' % (time.time()-t))"
   ]
  },
  {
   "cell_type": "code",
   "execution_count": 14,
   "metadata": {
    "collapsed": false
   },
   "outputs": [
    {
     "name": "stderr",
     "output_type": "stream",
     "text": [
      "Compute pairwise affinities (with samples): 2.909890 s.\n"
     ]
    }
   ],
   "source": [
    "# our data, Nystroem extension\n",
    "# https://people.eecs.berkeley.edu/~malik/papers/FBCM-nystrom.pdf\n",
    "\n",
    "t = time.time()\n",
    "\n",
    "n_seeds = 100\n",
    "sampled = seeds_ranked_by_memberCount[:n_seeds].copy()\n",
    "\n",
    "affinities_with_samples = compute_jaccard_list_with_all(sampled)\n",
    "\n",
    "sys.stderr.write('Compute pairwise affinities (with samples): %f s.\\n' % (time.time()-t))"
   ]
  },
  {
   "cell_type": "code",
   "execution_count": 16,
   "metadata": {
    "collapsed": false
   },
   "outputs": [],
   "source": [
    "nonsampled = np.setdiff1d(range(affinities_with_samples.shape[1]), sampled)\n",
    "permutation = np.r_[sampled, nonsampled]"
   ]
  },
  {
   "cell_type": "code",
   "execution_count": 41,
   "metadata": {
    "collapsed": false
   },
   "outputs": [
    {
     "name": "stderr",
     "output_type": "stream",
     "text": [
      "Nystroem: 65.594154 s.\n"
     ]
    }
   ],
   "source": [
    "t = time.time()\n",
    "\n",
    "from scipy.linalg import sqrtm\n",
    "\n",
    "A = affinities_with_samples[:, sampled].copy()\n",
    "B = affinities_with_samples[:, nonsampled].copy()\n",
    "\n",
    "d1 = np.sum(np.c_[A, B], axis=1)\n",
    "Ai = np.linalg.inv(A)\n",
    "d2 = np.sum(B, axis=0) + np.dot(B.T, np.dot(Ai, np.sum(B, axis=1)))\n",
    "dhat_si = np.sqrt(1./np.r_[d1, d2])\n",
    "A = A*np.outer(dhat_si[:n_seeds], dhat_si[:n_seeds])\n",
    "B = B*np.outer(dhat_si[:n_seeds], dhat_si[n_seeds:])\n",
    "\n",
    "Asi = sqrtm(Ai)\n",
    "\n",
    "M = np.dot(B.T, Asi)\n",
    "S = A + np.dot(M.T, M)\n",
    "\n",
    "U, L, T = np.linalg.svd(S)\n",
    "\n",
    "V = np.dot(np.vstack([A, B.T]), np.dot(Asi, np.dot(U, np.linalg.inv(np.diag(np.sqrt(L))))))\n",
    "\n",
    "sys.stderr.write('Nystroem: %f s.\\n' % (time.time()-t)) # 60s / 100 samples"
   ]
  },
  {
   "cell_type": "code",
   "execution_count": 50,
   "metadata": {
    "collapsed": true
   },
   "outputs": [],
   "source": [
    "nvec = 1\n",
    "E = V[:,1:1+nvec]/V[:,0][:,None]"
   ]
  },
  {
   "cell_type": "code",
   "execution_count": 51,
   "metadata": {
    "collapsed": false
   },
   "outputs": [
    {
     "name": "stdout",
     "output_type": "stream",
     "text": [
      "[-0.7743411]\n",
      "[ 1.21912011]\n"
     ]
    }
   ],
   "source": [
    "E_original_order = np.zeros_like(E)\n",
    "E_original_order[permutation] = E\n",
    "\n",
    "print E_original_order.mean(axis=0)\n",
    "print E_original_order.std(axis=0)\n",
    "\n",
    "E_original_order = (E_original_order-E_original_order.mean(axis=0))/E_original_order.std(axis=0)"
   ]
  },
  {
   "cell_type": "code",
   "execution_count": null,
   "metadata": {
    "collapsed": false,
    "scrolled": true
   },
   "outputs": [],
   "source": [
    "for i in range(E_original_order.shape[1]):\n",
    "    plt.stem(E_original_order[:,i]);\n",
    "    plt.xlabel('data index');\n",
    "    plt.ylabel('value of embedding coordinate %d' % i);\n",
    "    plt.show();"
   ]
  },
  {
   "cell_type": "code",
   "execution_count": 56,
   "metadata": {
    "collapsed": false,
    "scrolled": true
   },
   "outputs": [
    {
     "name": "stdout",
     "output_type": "stream",
     "text": [
      "[252 351 248 107 180 272 267  75 183 290 170 114 345 182 199 164 218 197\n",
      " 220 301 198 162 248 198 203 267 213  64 193 223 210 412 134 351 163 203\n",
      " 121 111 224 170 183 236  92 174 213 176 167 265 297 259 229 200 259 358\n",
      " 160 199 147  77 241 180 232 277  93 213 238 277 288 353 369 208 233 261\n",
      " 179 129 111 170 275 112 196 177 150 272 355 115 213 320 274 193 268 180\n",
      " 178 178 371 141 220 259 187  98 247 145 302 189 120 435 145 167  42 183\n",
      "  76 208 132 176 129 216 377 415  94 151 175 331 115 224 153 198 173 173\n",
      "  80 224 254 171 177 103 173 170 225 188 342 251 341  84 154 241 235 246\n",
      " 396 326 229 124 239  82 222 482 158 155 382 109 213 185 157  86 228 116\n",
      " 270 258 271 202 151 252 231 204 233 193 253 194 326 234 296 229 441 306\n",
      " 167 158 153 257 203 196 324 204 177 245 174 297  43  58 224 259  98 258\n",
      " 258 174 254 113 186 173 188 175 198 185 260 158 295 106 190 324 184 165\n",
      " 102 249 123 140 108 151 126 238 113 341 252 140  95 188 240 146 397 170\n",
      " 239 139 223 221 144 165 245 200 150 148 263 331 202 155 241 176 136 264\n",
      " 293 305 140 455 320 247 163 186 152 309 148 322 203  69 148 265 203 298\n",
      " 285 263 275 164 188 273 219 104 162 118 119 221 209 285 237 189  92 108\n",
      " 192 261 182 120  80  81 352 246 240 170 242 283 176 107 323 267 144 110\n",
      " 108  73 131 309 162 269 219 352 250 164 178 127 381 315 209  56 350 324\n",
      " 239 218 209 204 205 227 387 185 130 181 308 105  96 292 254 189  86  32\n",
      " 276 219 200 182 168 221 218 180 185 141 223 170 133 260 203 195 275 202\n",
      " 297 171 145 303 180 214 270 243 208  93 123 184 170 137 243 302 327 226\n",
      " 162 139 341 126 254 138 237 121 246 187 371 366 210 208 211 100 249 207\n",
      " 281 152 188 134 182 182 190 176 353 260 286 307 197 299 287 151 220 135\n",
      " 213 334 398 201 200 127 142 221 473 203 202 241 224 281 134 166 247 153\n",
      " 171 289 144 315 305 224 146 144 133 125 196 149 145 388 103 195  64 214\n",
      " 290 170  83 214 127 212 238 255 165  90 327 109 167 153 133 217 226 154\n",
      " 231 132 242 238 279 246 243 179 191 214 129 256 232 236 173 180 133 223\n",
      " 267  54 201 179 194  65 132 282  88 148 281 274 112 216 130 134  78 189\n",
      " 251 249 266 121 232 162 225 390 199 247  92 120 136 146 189 234 289 268\n",
      " 211 261 187 143 108 199 120 103 207 229 252 247 174 129 162 114 207 151\n",
      " 385 210 260  81 188 229 323 205 190 160 207 147 278 258 145 314 212  47\n",
      " 246 167 102 192 129 260 225 152 152 139 111 227 256 349 152 124 206 173\n",
      " 218 192 192 401 338 248  66 105 259 209  97 146 146 305 181 213 287 169\n",
      " 169  63 357 260 189 160 351 308 177 358 220 208 114 297 154 206 221 245\n",
      " 211 168 261 119 221 174 203 212 227 139 155 238 205 258 153 164 275 244\n",
      " 273 271 252 302 109  54 262 116 101 146 245 107 194 139 292 132  93 214\n",
      " 110 143 271  92 119 259 250 252 198 202 149 103 159  58 175 249 162 217\n",
      " 186 199 268 176 166 245 185 193 154 274 141 243 235 230 230 175 278 216\n",
      " 182 273 243 228 109 329 205 177 234 268 166 180 112 228 225 195 267  82\n",
      " 136 352 156 518 184 159 168 131 112 157 137 158 129 216 444 211 182 153\n",
      " 236 239 131 136 222 224  56 206 129 208 205 189 238 198 254 185 154 207\n",
      "  99 179  89  57  96 191 131 230 220 192 230 196 172 146 144 217 146 227\n",
      " 313 319  79 277 219 146 166  64 175 183 193 280 230 222 265 115 209 183\n",
      " 346 144 140 167 316 288 161  94 168  70  89 117 256  85  85 255 178 204\n",
      "  78 210 129 138 210 162 242 169 163  94 143 168 207 144 260 319 156 121\n",
      " 181 176 271  99 312 108 330 194 182 111  97 145 165 186 139 136 245 134\n",
      " 138 252 129 119 113 262 153 218 206 101 105 165 246 180 221  94 241 128\n",
      " 117 224 139 204 175 243 324 190 121 212 234 147 135 261 108 166 185 243\n",
      " 148 190  71 126 137 355 183 144 201 154 197 193 205 108 344  70 281 193\n",
      " 215 191 156 190 218 158 378 166 172 137 280 209 211 221  67 203 311  67\n",
      "  73 137 224 161 206 233 225  45  32 127 187 169  75 120 149 136 152 127\n",
      " 161 242 140 115 280 117 196 177 170 144 278 120 157 114 103 201 262 177\n",
      " 281  60 149 190  63 131 368 210 242 241 190 161 167 144 197 131 123 162\n",
      " 220 306 147 185  86 234 245  34  72 256 141 286 183 118 115 287 172 168\n",
      " 196 199 185 300 115 175 121 178 241 304 151 162 100 246 297 289  74 174\n",
      " 141 141 314 165 191 216 145 103  85 147]\n"
     ]
    }
   ],
   "source": [
    "from sklearn.cluster import KMeans, MiniBatchKMeans\n",
    "\n",
    "n_classes = 1000\n",
    "\n",
    "kmeans = MiniBatchKMeans(n_clusters=n_classes)\n",
    "kmeans.fit(E_original_order);\n",
    "\n",
    "print np.bincount(kmeans.labels_, minlength=n_classes)"
   ]
  },
  {
   "cell_type": "code",
   "execution_count": null,
   "metadata": {
    "collapsed": true
   },
   "outputs": [],
   "source": [
    "for i in range(n_classes):\n",
    "    indices = np.where(kmeans.labels_ == i)[0]\n",
    "    plt.scatter(data[indices,0], data[indices,1], c=colors[i]);\n",
    "\n",
    "plt.scatter(data[sampled,0], data[sampled,1], c='y', marker='*', s=400);    \n",
    "\n",
    "plt.show();"
   ]
  },
  {
   "cell_type": "code",
   "execution_count": 57,
   "metadata": {
    "collapsed": false
   },
   "outputs": [
    {
     "name": "stdout",
     "output_type": "stream",
     "text": [
      "462\n",
      "880\n",
      "932\n",
      "689\n",
      "855\n",
      "725\n",
      "886\n",
      "264\n",
      "746\n",
      "256\n"
     ]
    }
   ],
   "source": [
    "# Show examples\n",
    "\n",
    "example_indices = []\n",
    "\n",
    "for clusterLabel in np.random.choice(range(n_classes), 10, replace=False):\n",
    "    \n",
    "    print clusterLabel\n",
    "    inCluster_indices = np.where(kmeans.labels_ == clusterLabel)[0]\n",
    "    example_indices += list(inCluster_indices[np.random.choice(range(len(inCluster_indices)), min(10, len(inCluster_indices)), replace=False)])\n",
    "    \n",
    "display_images_in_grids([cell_masks_normalized[i] for i in example_indices], nc=10,\n",
    "                        export_fn='/home/yuncong/csd395/CSHL_cells/gallery/gridplots_spectralClustering/cluster_random10Classes_%dclasses_%dev.png' % \\\n",
    "                       (n_classes, nvec))\n",
    "#     plt.show();"
   ]
  },
  {
   "cell_type": "code",
   "execution_count": 33,
   "metadata": {
    "collapsed": false,
    "scrolled": true
   },
   "outputs": [
    {
     "name": "stdout",
     "output_type": "stream",
     "text": [
      "0\n",
      "1\n",
      "2\n",
      "3\n",
      "4\n",
      "5\n",
      "6\n",
      "7\n",
      "8\n",
      "9\n",
      "10\n",
      "11\n",
      "12\n",
      "13\n",
      "14\n",
      "15\n",
      "16\n",
      "17\n",
      "18\n",
      "19\n",
      "20\n",
      "21\n",
      "22\n",
      "23\n",
      "24\n",
      "25\n",
      "26\n",
      "27\n",
      "28\n",
      "29\n",
      "30\n",
      "31\n",
      "32\n",
      "33\n",
      "34\n",
      "35\n",
      "36\n",
      "37\n",
      "38\n",
      "39\n",
      "40\n",
      "41\n",
      "42\n",
      "43\n",
      "44\n",
      "45\n",
      "46\n",
      "47\n",
      "48\n",
      "49\n",
      "50\n",
      "51\n",
      "52\n",
      "53\n",
      "54\n",
      "55\n",
      "56\n",
      "57\n",
      "58\n",
      "59\n",
      "60\n",
      "61\n",
      "62\n",
      "63\n",
      "64\n",
      "65\n",
      "66\n",
      "67\n",
      "68\n",
      "69\n",
      "70\n",
      "71\n",
      "72\n",
      "73\n",
      "74\n",
      "75\n",
      "76\n",
      "77\n",
      "78\n",
      "79\n",
      "80\n",
      "81\n",
      "82\n",
      "83\n",
      "84\n",
      "85\n",
      "86\n",
      "87\n",
      "88\n",
      "89\n",
      "90\n",
      "91\n",
      "92\n",
      "93\n",
      "94\n",
      "95\n",
      "96\n",
      "97\n",
      "98\n",
      "99\n"
     ]
    },
    {
     "name": "stderr",
     "output_type": "stream",
     "text": [
      "[autoreload of utilities2015 failed: Traceback (most recent call last):\n",
      "  File \"/oasis/projects/nsf/csd181/yuncong/virtualenv-1.9.1/yuncongve/lib/python2.7/site-packages/IPython/extensions/autoreload.py\", line 247, in check\n",
      "    superreload(m, reload, self.old_objects)\n",
      "AttributeError: __abstractmethods__\n",
      "]\n"
     ]
    }
   ],
   "source": [
    "# Show examples\n",
    "\n",
    "for clusterLabel in range(n_classes):\n",
    "# for clusterLabel in range(10):\n",
    "    print clusterLabel\n",
    "    inCluster_indices = np.where(kmeans.labels_ == clusterLabel)[0]\n",
    "    example_indices = list(inCluster_indices[np.random.choice(range(len(inCluster_indices)), min(10, len(inCluster_indices)), replace=False)])\n",
    "    \n",
    "    display_images_in_grids([cell_masks_normalized[i] for i in example_indices], nc=10,\n",
    "                            export_fn='/home/yuncong/csd395/CSHL_cells/gallery/gridplots_spectralClustering/cluster_%05d.png'%clusterLabel)\n",
    "#     plt.show();"
   ]
  },
  {
   "cell_type": "code",
   "execution_count": null,
   "metadata": {
    "collapsed": true
   },
   "outputs": [],
   "source": []
  },
  {
   "cell_type": "code",
   "execution_count": null,
   "metadata": {
    "collapsed": false
   },
   "outputs": [],
   "source": [
    "t = time.time()\n",
    "\n",
    "pool = Pool(16)\n",
    "cols_vals = pool.map(lambda i: compute_jaccard_with_i_sparse(i, upper=True), range(n_cells))\n",
    "pool.close()\n",
    "pool.join()\n",
    "\n",
    "sys.stderr.write('Compute pairwise affinities (sparse): %f s.\\n' % (time.time()-t)) # 4s / 100 data (14 cores)"
   ]
  },
  {
   "cell_type": "code",
   "execution_count": null,
   "metadata": {
    "collapsed": true
   },
   "outputs": [],
   "source": [
    "S = dok_matrix((n_cells, n_cells), dtype=np.float32)\n",
    "for i, (cols, vals) in enumerate(cols_vals):\n",
    "    S[i, cols] = vals"
   ]
  },
  {
   "cell_type": "code",
   "execution_count": null,
   "metadata": {
    "collapsed": true
   },
   "outputs": [],
   "source": [
    "def compute_new_medoid_cluster_i(i, cluster_indicator):\n",
    "    member_indices = np.where(cluster_indicator == i)[0]               \n",
    "    pairwise_scores = compute_jaccard_pairwise(member_indices, parallel=False)\n",
    "    total_scores_i_as_medoid = np.sum(pairwise_scores, axis=1)\n",
    "    return member_indices[np.argmax(total_scores_i_as_medoid)]\n",
    "\n",
    "def compute_new_medoids(cluster_indicator):\n",
    "\n",
    "    pool = Pool(14)\n",
    "    new_medoids = pool.map(lambda i: compute_new_medoid_cluster_i(i, cluster_indicator), \n",
    "                           range(n_seeds))\n",
    "    pool.close()\n",
    "    pool.join()\n",
    "\n",
    "    return np.asarray(new_medoids)"
   ]
  },
  {
   "cell_type": "code",
   "execution_count": null,
   "metadata": {
    "collapsed": true
   },
   "outputs": [],
   "source": [
    "# Kernel K-Means http://www.cs.utexas.edu/users/inderjit/public_papers/kdd_spectral_kernelkmeans.pdf"
   ]
  },
  {
   "cell_type": "code",
   "execution_count": null,
   "metadata": {
    "collapsed": false,
    "scrolled": true
   },
   "outputs": [],
   "source": [
    "# K-Medoids https://www.wikiwand.com/en/K-medoids\n",
    "# Start with the top 1000 centroids found by K-means++.\n",
    "\n",
    "# K-means is not guaranteed to converge if Jaccard index is used as distance measure but centroids are computed as mean vector.\n",
    "# ref: http://www.statistik.lmu.de/~leisch/papers/Leisch-2006.pdf - 3.2.2\n",
    "\n",
    "n_iter = 10\n",
    "\n",
    "n_seeds = 1000\n",
    "seeds_init = seeds_ranked_by_memberCount[:n_seeds]\n",
    "\n",
    "for it in range(n_iter):\n",
    "\n",
    "    t = time.time()\n",
    "\n",
    "    if it == 0:\n",
    "        medoids = seeds_init.copy()\n",
    "    \n",
    "    affinities_to_medoids = compute_jaccard_list_with_all(medoids)\n",
    "    cluster_indicator = np.argmax(affinities_to_medoids, axis=0)\n",
    "\n",
    "    sys.stderr.write('Compute affinities to all medoids: %f s.\\n' % (time.time()-t)) # 37s / 1000 seeds (14 cores)\n",
    "\n",
    "    t = time.time()\n",
    "    \n",
    "    new_medoids = compute_new_medoids(cluster_indicator)\n",
    "    \n",
    "    if np.count_nonzero(new_medoids != medoids) == 0:\n",
    "        break\n",
    "    \n",
    "    medoids = new_medoids.copy()\n",
    "    \n",
    "    sys.stderr.write('Compute new medoid: %f s.\\n' % (time.time()-t)) # 10s / 1000 seeds"
   ]
  },
  {
   "cell_type": "code",
   "execution_count": null,
   "metadata": {
    "collapsed": false,
    "scrolled": true
   },
   "outputs": [],
   "source": [
    "np.bincount(cluster_indicator, minlength=n_seeds)"
   ]
  },
  {
   "cell_type": "code",
   "execution_count": null,
   "metadata": {
    "collapsed": true
   },
   "outputs": [],
   "source": [
    "# Fast Approximate Spectral Clustering https://people.eecs.berkeley.edu/~jordan/papers/yan-huang-jordan-kdd09.pdf\n",
    "\n",
    "reduced_data = cell_masks_normalized_flattened[medoids]\n",
    "reduced_data_size = cell_masks_normalized_size[medoids]\n",
    "n_reduced_data = len(reduced_data)"
   ]
  },
  {
   "cell_type": "code",
   "execution_count": null,
   "metadata": {
    "collapsed": true
   },
   "outputs": [],
   "source": [
    "affinities_mat_reduced_data = compute_jaccard_pairwise(medoids, nearest_k=10)"
   ]
  },
  {
   "cell_type": "code",
   "execution_count": null,
   "metadata": {
    "collapsed": true
   },
   "outputs": [],
   "source": []
  },
  {
   "cell_type": "code",
   "execution_count": null,
   "metadata": {
    "collapsed": false
   },
   "outputs": [],
   "source": [
    "t = time.time()\n",
    "affinities_mat_full = compute_jaccard_pairwise(np.arange(n_cells))\n",
    "sys.stderr.write('Compute new medoid: %f s.\\n' % (time.time()-t))"
   ]
  },
  {
   "cell_type": "code",
   "execution_count": null,
   "metadata": {
    "collapsed": true
   },
   "outputs": [],
   "source": []
  },
  {
   "cell_type": "code",
   "execution_count": null,
   "metadata": {
    "collapsed": true
   },
   "outputs": [],
   "source": [
    "# Use K-means++ to select 20000 seeds, then assign clusters and compute radius\n",
    "# Reference: http://ilpubs.stanford.edu:8090/778/1/2006-13.pdf"
   ]
  },
  {
   "cell_type": "code",
   "execution_count": null,
   "metadata": {
    "collapsed": false,
    "scrolled": true
   },
   "outputs": [],
   "source": [
    "n_class = 20000\n",
    "\n",
    "# distances_to_seeds = np.empty((n_class, n_cells))\n",
    "cluster_max_radius_evolution = np.empty((n_class, ))\n",
    "cluster_mean_radius_evolution = np.empty((n_class, ))\n",
    "cluster_random1_radius_evolution = np.empty((n_class, ))\n",
    "cluster_random100_radius_evolution = np.empty((n_class, ))\n",
    "cluster_random1run_radius_evolution = np.empty((n_class, ))\n",
    "seeds = np.empty((n_class, ), np.int)\n",
    "\n",
    "distances_to_closest_seed = np.empty((n_cells, ))\n",
    "indices_of_closest_seed = np.empty((n_cells, ), np.int)\n",
    "\n",
    "t1 = time.time()\n",
    "\n",
    "bar = show_progress_bar(0, n_class)\n",
    "\n",
    "for it in range(n_class):\n",
    "            \n",
    "    bar.value = it\n",
    "        \n",
    "    if it == 0:\n",
    "        seed = np.random.randint(n_cells)\n",
    "    else:\n",
    "        seed = np.random.choice(range(n_cells), 1, p=d2_weights)[0]\n",
    "        \n",
    "    seeds[it] = int(seed)\n",
    "    \n",
    "#     t = time.time()\n",
    "    distances = 1. - compute_jaccard_with_i(seed)\n",
    "#     distances = 1. - compute_jaccard_with_i_parallel(seed)\n",
    "#     print time.time() - t\n",
    "    # sequential: 0.05-0.5s / 20k cells\n",
    "    # parallel: 0.35s, even slower than sequential\n",
    "\n",
    "    \n",
    "    if it == 0:\n",
    "        distances_to_closest_seed = distances\n",
    "        indices_of_closest_seed[:] = 0\n",
    "    else:    \n",
    "        needs_update = distances < distances_to_closest_seed\n",
    "        distances_to_closest_seed[needs_update] = distances[needs_update]\n",
    "        indices_of_closest_seed[needs_update] = it\n",
    "        \n",
    "    d2s = distances_to_closest_seed**2\n",
    "    d2_weights = d2s / d2s.sum()\n",
    "    \n",
    "    # different ways to compute r\n",
    "    cluster_max_radius = np.max(distances_to_closest_seed)\n",
    "    cluster_mean_radius = np.mean(distances_to_closest_seed)\n",
    "    cluster_random1_radius = distances_to_closest_seed[np.random.randint(0, n_cells, 1)]\n",
    "    cluster_random100_radius = distances_to_closest_seed[np.random.randint(0, n_cells, 100)].mean()\n",
    "    \n",
    "    if it == 0:\n",
    "        cluster_random1run_radius = cluster_random1_radius\n",
    "    else:\n",
    "        cluster_random1run_radius = (it * cluster_random1run_radius + cluster_random1_radius) / float(it+1)    \n",
    "    \n",
    "    cluster_max_radius_evolution[it] = cluster_max_radius\n",
    "    cluster_mean_radius_evolution[it] = cluster_mean_radius\n",
    "    cluster_random1_radius_evolution[it] = cluster_random1_radius\n",
    "    cluster_random100_radius_evolution[it] = cluster_random100_radius\n",
    "    cluster_random1run_radius_evolution[it] = cluster_random1run_radius\n",
    "    \n",
    "#     print 2, time.time() - t\n",
    "    \n",
    "print time.time() - t1 # 21s / 100 iterations; 4800s / 20000 iters\n",
    "\n",
    "bp.pack_ndarray_file(seeds, '/home/yuncong/csd395/CSHL_cells/fractal_dim/seeds_%d.bp' % n_class)\n",
    "bp.pack_ndarray_file(distances_to_closest_seed, '/home/yuncong/csd395/CSHL_cells/fractal_dim/distancesToClosestSeed_%d.bp' % n_class)\n",
    "bp.pack_ndarray_file(indices_of_closest_seed, '/home/yuncong/csd395/CSHL_cells/fractal_dim/indicesToClosestSeed_%d.bp' % n_class)\n",
    "bp.pack_ndarray_file(cluster_mean_radius_evolution, '/home/yuncong/csd395/CSHL_cells/fractal_dim/clusterMeanRadiusEvolution_%d.bp' % n_class)\n",
    "bp.pack_ndarray_file(cluster_random1run_radius_evolution, '/home/yuncong/csd395/CSHL_cells/fractal_dim/clusterRand1RunRadiusEvolution_%d.bp' % n_class)"
   ]
  },
  {
   "cell_type": "code",
   "execution_count": null,
   "metadata": {
    "collapsed": true
   },
   "outputs": [],
   "source": []
  },
  {
   "cell_type": "code",
   "execution_count": null,
   "metadata": {
    "collapsed": true
   },
   "outputs": [],
   "source": []
  },
  {
   "cell_type": "code",
   "execution_count": 4,
   "metadata": {
    "collapsed": true
   },
   "outputs": [],
   "source": [
    "seeds = bp.unpack_ndarray_file('/home/yuncong/csd395/CSHL_cells/fractal_dim/seeds_20000.bp').astype(np.int)\n",
    "distances_to_closest_seed = bp.unpack_ndarray_file('/home/yuncong/csd395/CSHL_cells/fractal_dim/distancesToClosestSeed_20000.bp')\n",
    "indices_of_closest_seed = bp.unpack_ndarray_file('/home/yuncong/csd395/CSHL_cells/fractal_dim/indicesToClosestSeed_20000.bp')\n",
    "cluster_mean_radius_evolution = bp.unpack_ndarray_file('/home/yuncong/csd395/CSHL_cells/fractal_dim/clusterMeanRadiusEvolution_20000.bp')\n",
    "cluster_random1run_radius_evolution = bp.unpack_ndarray_file('/home/yuncong/csd395/CSHL_cells/fractal_dim/clusterRand1RunRadiusEvolution_20000.bp')"
   ]
  },
  {
   "cell_type": "code",
   "execution_count": null,
   "metadata": {
    "collapsed": false,
    "scrolled": true
   },
   "outputs": [],
   "source": [
    "plt.figure(figsize=(20,3));\n",
    "plt.bar(1+np.arange(n_class), np.bincount(indices_of_closest_seed, minlength=n_class));\n",
    "plt.xlabel('k-means label');\n",
    "plt.ylabel('number of cells');"
   ]
  },
  {
   "cell_type": "code",
   "execution_count": null,
   "metadata": {
    "collapsed": false
   },
   "outputs": [],
   "source": [
    "# plt.plot(np.log(1./cluster_max_radius_evolution), np.log(np.arange(n_class)));\n",
    "plt.plot(np.log(1./cluster_mean_radius_evolution), np.log(np.arange(n_class)), label='mean');\n",
    "# plt.plot(np.log(1./cluster_random1_radius_evolution), np.log(np.arange(n_class)), label='random1');\n",
    "# plt.plot(np.log(1./cluster_random100_radius_evolution), np.log(np.arange(n_class)), label='random100');\n",
    "# plt.plot(np.log(1./cluster_random1run_radius_evolution), np.log(np.arange(n_class)), label='random1run');\n",
    "plt.xlabel('log(1/r)');\n",
    "plt.ylabel('log(N)');\n",
    "plt.title('log-log plot');\n",
    "plt.legend(loc='lower right');"
   ]
  },
  {
   "cell_type": "code",
   "execution_count": null,
   "metadata": {
    "collapsed": false
   },
   "outputs": [],
   "source": [
    "fractal_dimensions = np.log(np.arange(n_class))/np.log(1./cluster_mean_radius_evolution)"
   ]
  },
  {
   "cell_type": "code",
   "execution_count": null,
   "metadata": {
    "collapsed": false
   },
   "outputs": [],
   "source": [
    "valid_starting_from = np.where(~np.isnan(fractal_dimensions) & ~np.isinf(fractal_dimensions) & (fractal_dimensions > 0))[0].min()\n",
    "plt.plot(np.arange(valid_starting_from, n_class), fractal_dimensions[valid_starting_from:]);\n",
    "plt.xlabel('number of classes');\n",
    "plt.ylabel('fractal dimension');\n",
    "plt.title('estimation of fractal dimension');"
   ]
  },
  {
   "cell_type": "code",
   "execution_count": null,
   "metadata": {
    "collapsed": false
   },
   "outputs": [],
   "source": [
    "valid_fractal_dimensions = fractal_dimensions[valid_starting_from:]\n",
    "print 'Estimated fractal dimension :', 'lower bound =', np.min(valid_fractal_dimensions), \\\n",
    "        ', upper bound =', np.max(valid_fractal_dimensions)"
   ]
  },
  {
   "cell_type": "code",
   "execution_count": null,
   "metadata": {
    "collapsed": true
   },
   "outputs": [],
   "source": []
  },
  {
   "cell_type": "code",
   "execution_count": null,
   "metadata": {
    "collapsed": true
   },
   "outputs": [],
   "source": [
    "from sklearn.cluster import SpectralClustering"
   ]
  },
  {
   "cell_type": "code",
   "execution_count": null,
   "metadata": {
    "collapsed": false
   },
   "outputs": [],
   "source": [
    "n_clusters = 100\n",
    "spectral_clustering = SpectralClustering(n_clusters=n_clusters, n_init=10, affinity='precomputed')"
   ]
  },
  {
   "cell_type": "code",
   "execution_count": null,
   "metadata": {
    "collapsed": false
   },
   "outputs": [],
   "source": [
    "spectral_clustering.fit(affinities_mat_reduced_data)"
   ]
  },
  {
   "cell_type": "code",
   "execution_count": null,
   "metadata": {
    "collapsed": false
   },
   "outputs": [],
   "source": [
    "reducedData_to_clusterLabel = spectral_clustering.labels_"
   ]
  },
  {
   "cell_type": "code",
   "execution_count": null,
   "metadata": {
    "collapsed": false,
    "scrolled": true
   },
   "outputs": [],
   "source": [
    "np.bincount(reducedData_to_clusterLabel, minlength=n_clusters)"
   ]
  },
  {
   "cell_type": "code",
   "execution_count": null,
   "metadata": {
    "collapsed": false
   },
   "outputs": [],
   "source": [
    "data_to_clusterLabel = reducedData_to_clusterLabel[cluster_indicator]"
   ]
  },
  {
   "cell_type": "code",
   "execution_count": null,
   "metadata": {
    "collapsed": false
   },
   "outputs": [],
   "source": [
    "np.bincount(data_to_clusterLabel, minlength=n_clusters)"
   ]
  },
  {
   "cell_type": "code",
   "execution_count": null,
   "metadata": {
    "collapsed": false,
    "scrolled": true
   },
   "outputs": [],
   "source": [
    "# Show examples\n",
    "\n",
    "# for clusterLabel in range(n_clusters):\n",
    "for clusterLabel in range(10):\n",
    "    print clusterLabel\n",
    "    inCluster_indices = np.where(data_to_clusterLabel == clusterLabel)[0]\n",
    "    example_indices = list(inCluster_indices[np.random.choice(range(len(inCluster_indices)), min(10, len(inCluster_indices)), replace=False)])\n",
    "    \n",
    "    display_images_in_grids([cell_masks_normalized[i] for i in example_indices], nc=10)\n",
    "#                            export_fn='/home/yuncong/csd395/CSHL_cells/gallery/gridplots_kmeans++/seed_%d.png'%seed_ind)\n",
    "    plt.show();"
   ]
  },
  {
   "cell_type": "code",
   "execution_count": null,
   "metadata": {
    "collapsed": false,
    "scrolled": false
   },
   "outputs": [],
   "source": [
    "# Show examples\n",
    "\n",
    "seed_indices = np.random.randint(0, len(seeds), 10)\n",
    "\n",
    "for seed_ind in seed_indices:\n",
    "    \n",
    "    seed = seeds[seed_ind]\n",
    "    \n",
    "    inCluster_indices = np.where(indices_of_closest_seed == seed_ind)[0]\n",
    "    example_indices = list(inCluster_indices[np.random.choice(range(len(inCluster_indices)), min(10, len(inCluster_indices)), replace=False)])\n",
    "    example_indices = [i for i in example_indices if i != seed_ind]\n",
    "    \n",
    "    display_images_in_grids([cell_masks_normalized[i] for i in [seed] + example_indices], nc=10, \n",
    "                            titles=['seed no.%d'%seed_ind] + ['' for _ in range(len(example_indices))],\n",
    "                           export_fn='/home/yuncong/csd395/CSHL_cells/gallery/gridplots_kmeans++/seed_%d.png'%seed_ind)\n",
    "    plt.show();"
   ]
  },
  {
   "cell_type": "code",
   "execution_count": null,
   "metadata": {
    "collapsed": true
   },
   "outputs": [],
   "source": []
  }
 ],
 "metadata": {
  "kernelspec": {
   "display_name": "Python 2",
   "language": "python",
   "name": "python2"
  },
  "language_info": {
   "codemirror_mode": {
    "name": "ipython",
    "version": 2
   },
   "file_extension": ".py",
   "mimetype": "text/x-python",
   "name": "python",
   "nbconvert_exporter": "python",
   "pygments_lexer": "ipython2",
   "version": "2.7.3"
  }
 },
 "nbformat": 4,
 "nbformat_minor": 0
}
