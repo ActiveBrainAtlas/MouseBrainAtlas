{
 "cells": [
  {
   "cell_type": "code",
   "execution_count": 3,
   "metadata": {
    "collapsed": false
   },
   "outputs": [
    {
     "name": "stdout",
     "output_type": "stream",
     "text": [
      "Setting environment for Gordon\n"
     ]
    }
   ],
   "source": [
    "%reload_ext autoreload\n",
    "%autoreload 2\n",
    "\n",
    "import os\n",
    "import sys\n",
    "import time\n",
    "import cv2\n",
    "\n",
    "from joblib import Parallel, delayed\n",
    "\n",
    "sys.path.append(os.path.join(os.environ['REPO_DIR'], 'utilities'))\n",
    "from utilities2015 import *\n",
    "from data_manager import *\n",
    "from metadata import *\n",
    "\n",
    "import matplotlib.pyplot as plt\n",
    "%matplotlib inline"
   ]
  },
  {
   "cell_type": "code",
   "execution_count": 4,
   "metadata": {
    "collapsed": true
   },
   "outputs": [],
   "source": [
    "from skimage.transform import rotate"
   ]
  },
  {
   "cell_type": "code",
   "execution_count": 160,
   "metadata": {
    "collapsed": true
   },
   "outputs": [],
   "source": [
    "cell_masks = []"
   ]
  },
  {
   "cell_type": "code",
   "execution_count": 161,
   "metadata": {
    "collapsed": false
   },
   "outputs": [],
   "source": [
    "stack = 'MD589'\n",
    "\n",
    "for sec in range(93, 143, 10):\n",
    "# sec = 113\n",
    "    blob_coords = pickle.load(open('/home/yuncong/csd395/CSHL_cells/%(stack)s_%(sec)04d_blobCoords.pkl' % {'stack': stack, 'sec': sec}, 'r'))\n",
    "    blob_orientations = bp.unpack_ndarray_file('/home/yuncong/csd395/CSHL_cells/%(stack)s_%(sec)04d_blobOrientations.bp' % {'stack': stack, 'sec': sec})\n",
    "\n",
    "    blob_centers = [coords.mean(axis=0) for coords in blob_coords]\n",
    "\n",
    "    for blob_index_inSec, coords in enumerate(blob_coords):\n",
    "        ymin, xmin = coords.min(axis=0)\n",
    "        ymax, xmax = coords.max(axis=0)\n",
    "        cell_mask = np.zeros((ymax+1-ymin, xmax+1-xmin), np.bool)\n",
    "        cell_mask[coords[:,0]-ymin, coords[:,1]-xmin] = 1\n",
    "\n",
    "        patch_rotationNormalized = rotate(cell_mask, angle=-np.rad2deg(blob_orientations[blob_index_inSec]), \n",
    "                      center=(blob_centers[blob_index_inSec][1] - xmin, blob_centers[blob_index_inSec][0] - ymin),\n",
    "                      cval=0.) > .5\n",
    "\n",
    "        cell_masks.append(patch_rotationNormalized)"
   ]
  },
  {
   "cell_type": "code",
   "execution_count": 162,
   "metadata": {
    "collapsed": true
   },
   "outputs": [],
   "source": [
    "cell_masks_normalized = pad_patches_to_same_size(cell_masks, pad_value=0, keep_center=True)"
   ]
  },
  {
   "cell_type": "code",
   "execution_count": 163,
   "metadata": {
    "collapsed": false
   },
   "outputs": [
    {
     "name": "stdout",
     "output_type": "stream",
     "text": [
      "197953 cells\n"
     ]
    }
   ],
   "source": [
    "n_cells = len(cell_masks_normalized)\n",
    "print n_cells, 'cells'\n",
    "\n",
    "cell_masks_normalized_flattened = np.reshape(cell_masks_normalized, (len(cell_masks_normalized), -1))\n",
    "cell_masks_normalized_flattened.shape\n",
    "\n",
    "cell_masks_normalized_size = cell_masks_normalized_flattened.sum(axis=1)"
   ]
  },
  {
   "cell_type": "code",
   "execution_count": 164,
   "metadata": {
    "collapsed": false
   },
   "outputs": [
    {
     "data": {
      "image/png": "[encoded data removed]",
      "text/plain": [
       "<matplotlib.figure.Figure at 0x222bda50>"
      ]
     },
     "metadata": {},
     "output_type": "display_data"
    }
   ],
   "source": [
    "# visualize some random cells\n",
    "indices = np.random.randint(0, n_cells, 10)\n",
    "display_images_in_grids([cell_masks_normalized[i] for i in indices], 10, maintain_shape=False)"
   ]
  },
  {
   "cell_type": "code",
   "execution_count": 165,
   "metadata": {
    "collapsed": true
   },
   "outputs": [],
   "source": [
    "def compute_jaccard_with_i_slave(args):\n",
    "    i, j1, j2 = args\n",
    "    intersections_with_i = (cell_masks_normalized_flattened[i] & cell_masks_normalized_flattened[j1:j2+1]).sum(axis=1)\n",
    "    unions_with_i = (cell_masks_normalized_size[i] + cell_masks_normalized_size[j1:j2+1] - intersections_with_i)\n",
    "    return 1 - intersections_with_i.astype(np.float)/unions_with_i\n",
    "\n",
    "def compute_jaccard_with_i_parallel(i):\n",
    "    \n",
    "    from multiprocess import Pool\n",
    "    \n",
    "    pool = Pool(16)\n",
    "\n",
    "    slave_start_indices = np.linspace(0, n_cells, 17).astype(np.int)\n",
    "    jaccard_with_i = pool.map(compute_jaccard_with_i_slave,\n",
    "                              [(i, slave_start_indices[s], slave_start_indices[s+1]-1) for s in range(16)])\n",
    "    jaccard_with_i = np.concatenate(jaccard_with_i)\n",
    "\n",
    "    pool.terminate()\n",
    "    pool.close()\n",
    "            \n",
    "    return jaccard_with_i"
   ]
  },
  {
   "cell_type": "code",
   "execution_count": 166,
   "metadata": {
    "collapsed": true
   },
   "outputs": [],
   "source": [
    "def compute_jaccard_with_i(i, upper=False):\n",
    "    if upper:\n",
    "        intersections_with_i = (cell_masks_normalized_flattened[i] & cell_masks_normalized_flattened[i+1:]).sum(axis=1)\n",
    "        unions_with_i = (cell_masks_normalized_size[i] + cell_masks_normalized_size[i+1:] - intersections_with_i)\n",
    "    else:\n",
    "        intersections_with_i = (cell_masks_normalized_flattened[i] & cell_masks_normalized_flattened).sum(axis=1)\n",
    "        unions_with_i = (cell_masks_normalized_size[i] + cell_masks_normalized_size - intersections_with_i)\n",
    "    return 1 - intersections_with_i.astype(np.float)/unions_with_i"
   ]
  },
  {
   "cell_type": "code",
   "execution_count": 167,
   "metadata": {
    "collapsed": true
   },
   "outputs": [],
   "source": [
    "def compute_jaccard_with_template(template):\n",
    "    intersections_with_template = [template[m].sum() for m in cell_masks_normalized_flattened]\n",
    "    unions_with_template = (template + cell_masks_normalized_size - intersections_with_template)\n",
    "    return 1 - intersections_with_template.astype(np.float)/unions_with_template"
   ]
  },
  {
   "cell_type": "code",
   "execution_count": null,
   "metadata": {
    "collapsed": true
   },
   "outputs": [],
   "source": []
  },
  {
   "cell_type": "code",
   "execution_count": null,
   "metadata": {
    "collapsed": true
   },
   "outputs": [],
   "source": [
    "# Use K-means++ to select 100 seeds, then assign clusters and compute radius"
   ]
  },
  {
   "cell_type": "code",
   "execution_count": 180,
   "metadata": {
    "collapsed": true
   },
   "outputs": [],
   "source": [
    "n_class = 1000"
   ]
  },
  {
   "cell_type": "code",
   "execution_count": null,
   "metadata": {
    "collapsed": false,
    "scrolled": true
   },
   "outputs": [],
   "source": [
    "distances_to_seeds = np.empty((n_class, n_cells))\n",
    "cluster_radius_evolution = np.empty((n_class, ))\n",
    "seeds = np.empty((n_class, ))\n",
    "\n",
    "t1 = time.time()\n",
    "\n",
    "for it in range(n_class):\n",
    "        \n",
    "    if it == 0:\n",
    "        seed = np.random.randint(n_cells)\n",
    "    else:\n",
    "        seed = np.random.choice(range(n_cells), 1, p=d2_weights)[0]\n",
    "        \n",
    "    seeds[it] = seed\n",
    "    \n",
    "#     t = time.time()\n",
    "    distances = compute_jaccard_with_i(seed)\n",
    "#     distances = compute_jaccard_with_i_parallel(seed)\n",
    "#     print time.time() - t\n",
    "# 0.4s / 4k cells ； 9s / 20k cells\n",
    "\n",
    "    distances_to_seeds[it] = distances\n",
    "    d = np.atleast_2d(distances_to_seeds[:it+1])\n",
    "    \n",
    "#     t = time.time()\n",
    "    distances_to_closest_seed = d.min(axis=0)\n",
    "#     print time.time() - t\n",
    "\n",
    "#     t = time.time()\n",
    "#     index_of_closest_seed = d.argmin(axis=0)\n",
    "#     print time.time() - t\n",
    "    \n",
    "    d2s = distances_to_closest_seed**2\n",
    "    d2_weights = d2s / d2s.sum()\n",
    "    \n",
    "    cluster_radius = np.max(distances_to_closest_seed)\n",
    "    cluster_radius_evolution[it] = cluster_radius\n",
    "    \n",
    "print time.time() - t1"
   ]
  },
  {
   "cell_type": "code",
   "execution_count": 174,
   "metadata": {
    "collapsed": true
   },
   "outputs": [],
   "source": [
    "index_of_closest_seed = d.argmin(axis=0)"
   ]
  },
  {
   "cell_type": "code",
   "execution_count": 175,
   "metadata": {
    "collapsed": false
   },
   "outputs": [
    {
     "data": {
      "image/png": "[encoded data removed]",
      "text/plain": [
       "<matplotlib.figure.Figure at 0x1fea8790>"
      ]
     },
     "metadata": {},
     "output_type": "display_data"
    }
   ],
   "source": [
    "plt.figure(figsize=(20,3));\n",
    "plt.bar(1+np.arange(n_class), np.bincount(index_of_closest_seed, minlength=n_class));\n",
    "plt.xlabel('k-means label');\n",
    "plt.ylabel('number of cells');"
   ]
  },
  {
   "cell_type": "code",
   "execution_count": 176,
   "metadata": {
    "collapsed": false
   },
   "outputs": [
    {
     "name": "stderr",
     "output_type": "stream",
     "text": [
      "/oasis/projects/nsf/csd181/yuncong/virtualenv-1.9.1/yuncongve/lib/python2.7/site-packages/ipykernel/__main__.py:1: RuntimeWarning: divide by zero encountered in log\n",
      "  if __name__ == '__main__':\n"
     ]
    },
    {
     "data": {
      "image/png": "[encoded data removed]",
      "text/plain": [
       "<matplotlib.figure.Figure at 0x228f6e50>"
      ]
     },
     "metadata": {},
     "output_type": "display_data"
    }
   ],
   "source": [
    "plt.plot(np.log(1./cluster_radius_evolution), np.log(np.arange(n_class)));\n",
    "plt.xlabel('log(1/r)');\n",
    "plt.ylabel('log(N)');"
   ]
  },
  {
   "cell_type": "code",
   "execution_count": 177,
   "metadata": {
    "collapsed": false
   },
   "outputs": [
    {
     "name": "stderr",
     "output_type": "stream",
     "text": [
      "/oasis/projects/nsf/csd181/yuncong/virtualenv-1.9.1/yuncongve/lib/python2.7/site-packages/ipykernel/__main__.py:1: RuntimeWarning: divide by zero encountered in log\n",
      "  if __name__ == '__main__':\n"
     ]
    }
   ],
   "source": [
    "fractal_dimensions = np.log(np.arange(n_class))/np.log(1./cluster_radius_evolution)"
   ]
  },
  {
   "cell_type": "code",
   "execution_count": 178,
   "metadata": {
    "collapsed": false
   },
   "outputs": [
    {
     "data": {
      "image/png": "[encoded data removed]",
      "text/plain": [
       "<matplotlib.figure.Figure at 0x1954f050>"
      ]
     },
     "metadata": {},
     "output_type": "display_data"
    }
   ],
   "source": [
    "valid_starting_from = np.where(~np.isnan(fractal_dimensions) & ~np.isinf(fractal_dimensions) & (fractal_dimensions > 0))[0].min()\n",
    "plt.plot(np.arange(valid_starting_from, n_class), fractal_dimensions[valid_starting_from:]);\n",
    "plt.xlabel('number of classes');\n",
    "plt.ylabel('fractal dimension');"
   ]
  },
  {
   "cell_type": "code",
   "execution_count": 179,
   "metadata": {
    "collapsed": false
   },
   "outputs": [
    {
     "name": "stdout",
     "output_type": "stream",
     "text": [
      "Estimated fractal dimension : lower bound = 13.3400820486 , upper bound = 45.781936992\n"
     ]
    }
   ],
   "source": [
    "valid_fractal_dimensions = fractal_dimensions[valid_starting_from:]\n",
    "print 'Estimated fractal dimension :', 'lower bound =', np.min(valid_fractal_dimensions), \\\n",
    "        ', upper bound =', np.max(valid_fractal_dimensions)"
   ]
  },
  {
   "cell_type": "code",
   "execution_count": null,
   "metadata": {
    "collapsed": true
   },
   "outputs": [],
   "source": []
  }
 ],
 "metadata": {
  "kernelspec": {
   "display_name": "Python 2",
   "language": "python",
   "name": "python2"
  },
  "language_info": {
   "codemirror_mode": {
    "name": "ipython",
    "version": 2
   },
   "file_extension": ".py",
   "mimetype": "text/x-python",
   "name": "python",
   "nbconvert_exporter": "python",
   "pygments_lexer": "ipython2",
   "version": "2.7.3"
  }
 },
 "nbformat": 4,
 "nbformat_minor": 0
}
