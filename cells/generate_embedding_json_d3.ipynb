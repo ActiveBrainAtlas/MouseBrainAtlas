{
 "cells": [
  {
   "cell_type": "code",
   "execution_count": 1,
   "metadata": {
    "collapsed": false
   },
   "outputs": [
    {
     "name": "stdout",
     "output_type": "stream",
     "text": [
      "Setting environment for Gordon\n"
     ]
    }
   ],
   "source": [
    "%reload_ext autoreload\n",
    "%autoreload 2\n",
    "\n",
    "import os\n",
    "import sys\n",
    "import time\n",
    "import cv2\n",
    "\n",
    "from joblib import Parallel, delayed\n",
    "\n",
    "sys.path.append(os.path.join(os.environ['REPO_DIR'], 'utilities'))\n",
    "from utilities2015 import *\n",
    "from data_manager import *\n",
    "from metadata import *\n",
    "\n",
    "import matplotlib.pyplot as plt\n",
    "%matplotlib inline\n",
    "\n",
    "from skimage.transform import rotate\n",
    "from registration_utilities import *"
   ]
  },
  {
   "cell_type": "code",
   "execution_count": 3,
   "metadata": {
    "collapsed": true
   },
   "outputs": [],
   "source": [
    "cell_data_dir = '/home/yuncong/csd395/CSHL_cells_v2/processed_cells/'"
   ]
  },
  {
   "cell_type": "code",
   "execution_count": 4,
   "metadata": {
    "collapsed": true
   },
   "outputs": [],
   "source": [
    "cells_aligned_padded = bp.unpack_ndarray_file(cell_data_dir + '/cells_aligned_padded.bp')\n",
    "n_cells = len(cells_aligned_padded)"
   ]
  },
  {
   "cell_type": "code",
   "execution_count": 5,
   "metadata": {
    "collapsed": true
   },
   "outputs": [],
   "source": [
    "# dataset_name = 'mediumCells'\n",
    "dataset_name = 'largeCells'"
   ]
  },
  {
   "cell_type": "code",
   "execution_count": 22,
   "metadata": {
    "collapsed": true
   },
   "outputs": [],
   "source": [
    "kmeanspp_center_indices = bp.unpack_ndarray_file(os.path.join(cell_data_dir, \\\n",
    "                        '%(dataset_name)s_kmeansppCenters_cutoff70.bp' % {'dataset_name': dataset_name}))\n",
    "\n",
    "closest_center_indices = bp.unpack_ndarray_file(os.path.join(cell_data_dir, \\\n",
    "                '%(dataset_name)s_closestKmeansppCenters_cutoff70.bp' % {'dataset_name': dataset_name}))"
   ]
  },
  {
   "cell_type": "code",
   "execution_count": 23,
   "metadata": {
    "collapsed": false
   },
   "outputs": [],
   "source": [
    "kmeanspp_center_member_counts = np.bincount(closest_center_indices, minlength=len(kmeanspp_center_indices))"
   ]
  },
  {
   "cell_type": "code",
   "execution_count": 24,
   "metadata": {
    "collapsed": false
   },
   "outputs": [],
   "source": [
    "dataset_cells_indices = bp.unpack_ndarray_file(os.path.join(cell_data_dir, \\\n",
    "                                        '%(dataset_name)s_indices_cutoff70.bp' % {'dataset_name': dataset_name}))"
   ]
  },
  {
   "cell_type": "code",
   "execution_count": 31,
   "metadata": {
    "collapsed": true
   },
   "outputs": [],
   "source": [
    "n_dataset_cells = len(dataset_cells_indices)"
   ]
  },
  {
   "cell_type": "code",
   "execution_count": 25,
   "metadata": {
    "collapsed": false
   },
   "outputs": [],
   "source": [
    "dataset_cells_aligned_padded = cells_aligned_padded[dataset_cells_indices]"
   ]
  },
  {
   "cell_type": "code",
   "execution_count": 28,
   "metadata": {
    "collapsed": false
   },
   "outputs": [],
   "source": [
    "output_dir = create_if_not_exists('/home/yuncong/csd395/CSHL_cells_v2/gallery/%(dataset_name)s' % {'dataset_name':dataset_name})\n",
    "! rm -r {output_dir}/*"
   ]
  },
  {
   "cell_type": "code",
   "execution_count": null,
   "metadata": {
    "collapsed": true
   },
   "outputs": [],
   "source": []
  },
  {
   "cell_type": "code",
   "execution_count": 35,
   "metadata": {
    "collapsed": false,
    "scrolled": true
   },
   "outputs": [
    {
     "name": "stderr",
     "output_type": "stream",
     "text": [
      "/oasis/projects/nsf/csd181/yuncong/virtualenv-1.9.1/yuncongve/lib/python2.7/site-packages/skimage/io/_io.py:131: UserWarning: /home/yuncong/csd395/CSHL_cells_v2/gallery/largeCells/random1000/contours/cellMask_random1000Contours_112_125383.png is a low contrast image\n",
      "  warn('%s is a low contrast image' % fname)\n",
      "/oasis/projects/nsf/csd181/yuncong/virtualenv-1.9.1/yuncongve/lib/python2.7/site-packages/skimage/io/_io.py:131: UserWarning: /home/yuncong/csd395/CSHL_cells_v2/gallery/largeCells/random1000/blobs/cellMask_random1000Blobs_112_125383.png is a low contrast image\n",
      "  warn('%s is a low contrast image' % fname)\n",
      "/oasis/projects/nsf/csd181/yuncong/virtualenv-1.9.1/yuncongve/lib/python2.7/site-packages/skimage/io/_io.py:131: UserWarning: /home/yuncong/csd395/CSHL_cells_v2/gallery/largeCells/random1000/contours/cellMask_random1000Contours_439_52266.png is a low contrast image\n",
      "  warn('%s is a low contrast image' % fname)\n",
      "/oasis/projects/nsf/csd181/yuncong/virtualenv-1.9.1/yuncongve/lib/python2.7/site-packages/skimage/io/_io.py:131: UserWarning: /home/yuncong/csd395/CSHL_cells_v2/gallery/largeCells/random1000/blobs/cellMask_random1000Blobs_439_52266.png is a low contrast image\n",
      "  warn('%s is a low contrast image' % fname)\n"
     ]
    }
   ],
   "source": [
    "# for nystrom_sample in [100, 200, 1000]:\n",
    "for nystrom_sample in [100]:\n",
    "    \n",
    "    E = bp.unpack_ndarray_file(os.path.join(cell_data_dir, \\\n",
    "                        'embeddings_normalized_%(dataset_name)s_nystromSample%(nystrom_sample)d.bp' % \\\n",
    "                        {'dataset_name': dataset_name, 'nystrom_sample': nystrom_sample}))\n",
    "    \n",
    "    for n in [10, 100, 1000]:\n",
    "\n",
    "        # n = 1000\n",
    "        colors = random_colors(n)\n",
    "        indices = np.random.choice(np.arange(n_dataset_cells), n, replace=False)\n",
    "\n",
    "        # n = 1000\n",
    "        # colors = random_colors(n)\n",
    "        # indices = kmeanspp_center_indices\n",
    "\n",
    "        # n = 10\n",
    "#         colors = random_colors(n)\n",
    "#         indices = kmeanspp_center_indices[:n]\n",
    "\n",
    "        sizes = np.zeros((n, 2), np.int)\n",
    "\n",
    "        for r, i in enumerate(indices):\n",
    "\n",
    "            contour_mask = np.zeros_like(dataset_cells_aligned_padded[i])\n",
    "            contour_pts = np.array(find_contour_points(dataset_cells_aligned_padded[i].astype(np.int), sample_every=1)[1][0], np.int)\n",
    "            contour_mask[contour_pts[:,1], contour_pts[:,0]] = 1\n",
    "            xmin, xmax, ymin, ymax = bbox_2d(contour_mask)      \n",
    "            m = contour_mask[ymin:ymax+1, xmin:xmax+1].copy()\n",
    "\n",
    "            m_rgba = np.zeros(m.shape+(4,), np.uint8)\n",
    "            m_rgba[m > 0, :3] = colors[r]\n",
    "            m_rgba[m > 0, 3] = 255\n",
    "\n",
    "            contour_output_dir = create_if_not_exists(os.path.join(output_dir, 'random%d/contours' % (n)))\n",
    "            imsave(os.path.join(contour_output_dir, 'cellMask_random%dContours_%d_%d.png' % (n,r, i)), m_rgba)\n",
    "\n",
    "            xmin, xmax, ymin, ymax = bbox_2d(dataset_cells_aligned_padded[i])  \n",
    "            m = dataset_cells_aligned_padded[i][ymin:ymax+1, xmin:xmax+1].copy()\n",
    "\n",
    "            m_rgba = np.zeros(m.shape+(4,), np.uint8)\n",
    "            m_rgba[m > 0, :3] = colors[r]\n",
    "            m_rgba[m > 0, 3] = 255\n",
    "\n",
    "            blob_output_dir = create_if_not_exists(os.path.join(output_dir, 'random%d/blobs' % (n)))\n",
    "            imsave(os.path.join(blob_output_dir, 'cellMask_random%dBlobs_%d_%d.png' % (n, r, i)), m_rgba)\n",
    "\n",
    "            sizes[r] = m_rgba.shape[:2]\n",
    "\n",
    "\n",
    "        E_dict = []\n",
    "\n",
    "        for r, i in enumerate(indices):\n",
    "            e1, e2, e3, e4, e5 = E[i, :5]\n",
    "            s = sizes[r]\n",
    "#             E_dict.append({'e1':e1, 'e2':e2, 'e3':e3, 'e4':e4, 'e5':e5, 'id':r, 'index':i, 'w':s[1], 'h':s[0], \n",
    "#                            'memberCount': kmeanspp_center_member_counts[r]})\n",
    "            E_dict.append({'e1':e1, 'e2':e2, 'e3':e3, 'e4':e4, 'e5':e5, 'id':r, 'index':i, 'w':s[1], 'h':s[0], \n",
    "                           'memberCount': 1})\n",
    "\n",
    "        import json\n",
    "        json.dump(E_dict, open(os.path.join(output_dir, 'random%d/embedding_random%d_nystrom%d.json' % (n, n, nystrom_sample)), 'w'))"
   ]
  },
  {
   "cell_type": "code",
   "execution_count": null,
   "metadata": {
    "collapsed": true
   },
   "outputs": [],
   "source": [
    "! cd /home/yuncong/csd395/CSHL_cells/gallery/; tar -czf random.tar.gz random"
   ]
  },
  {
   "cell_type": "code",
   "execution_count": null,
   "metadata": {
    "collapsed": true
   },
   "outputs": [],
   "source": []
  }
 ],
 "metadata": {
  "kernelspec": {
   "display_name": "Python 2",
   "language": "python",
   "name": "python2"
  },
  "language_info": {
   "codemirror_mode": {
    "name": "ipython",
    "version": 2
   },
   "file_extension": ".py",
   "mimetype": "text/x-python",
   "name": "python",
   "nbconvert_exporter": "python",
   "pygments_lexer": "ipython2",
   "version": "2.7.3"
  }
 },
 "nbformat": 4,
 "nbformat_minor": 0
}
