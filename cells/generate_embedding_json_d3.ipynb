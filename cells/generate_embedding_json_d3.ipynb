{
 "cells": [
  {
   "cell_type": "code",
   "execution_count": 1,
   "metadata": {
    "collapsed": false
   },
   "outputs": [
    {
     "name": "stdout",
     "output_type": "stream",
     "text": [
      "Setting environment for Gordon\n"
     ]
    }
   ],
   "source": [
    "%reload_ext autoreload\n",
    "%autoreload 2\n",
    "\n",
    "import os\n",
    "import sys\n",
    "import time\n",
    "import cv2\n",
    "\n",
    "from joblib import Parallel, delayed\n",
    "\n",
    "sys.path.append(os.path.join(os.environ['REPO_DIR'], 'utilities'))\n",
    "from utilities2015 import *\n",
    "from data_manager import *\n",
    "from metadata import *\n",
    "\n",
    "import matplotlib.pyplot as plt\n",
    "%matplotlib inline\n",
    "\n",
    "from skimage.transform import rotate"
   ]
  },
  {
   "cell_type": "code",
   "execution_count": 2,
   "metadata": {
    "collapsed": true
   },
   "outputs": [],
   "source": [
    "cell_masks_normalized = bp.unpack_ndarray_file('/home/yuncong/csd395/CSHL_cells/fractal_dim/cell_masks_normalized.bp')"
   ]
  },
  {
   "cell_type": "code",
   "execution_count": 3,
   "metadata": {
    "collapsed": true
   },
   "outputs": [],
   "source": [
    "n_cells = len(cell_masks_normalized)"
   ]
  },
  {
   "cell_type": "code",
   "execution_count": 6,
   "metadata": {
    "collapsed": true
   },
   "outputs": [],
   "source": [
    "from registration_utilities import *"
   ]
  },
  {
   "cell_type": "code",
   "execution_count": 5,
   "metadata": {
    "collapsed": false
   },
   "outputs": [],
   "source": [
    "nonsmall_cells_indices = bp.unpack_ndarray_file('/home/yuncong/csd395/CSHL_cells/fractal_dim/nonsmallCells_indices_cutoff30.bp')"
   ]
  },
  {
   "cell_type": "code",
   "execution_count": 8,
   "metadata": {
    "collapsed": true
   },
   "outputs": [],
   "source": [
    "n_nonsmallCells = len(nonsmall_cells_indices)"
   ]
  },
  {
   "cell_type": "code",
   "execution_count": 10,
   "metadata": {
    "collapsed": true
   },
   "outputs": [],
   "source": [
    "nonsmall_cell_masks_normalized = cell_masks_normalized[nonsmall_cells_indices].copy()"
   ]
  },
  {
   "cell_type": "code",
   "execution_count": 15,
   "metadata": {
    "collapsed": true
   },
   "outputs": [],
   "source": [
    "# E = bp.unpack_ndarray_file('/home/yuncong/csd395/CSHL_cells/fractal_dim/embeddingAllEigenNormalized_nonsmallCells_nystromSample100.bp')\n",
    "E = bp.unpack_ndarray_file('/home/yuncong/csd395/CSHL_cells/fractal_dim/embeddingAllEigenNormalized_nonsmallCells_nystromSample200.bp')"
   ]
  },
  {
   "cell_type": "code",
   "execution_count": null,
   "metadata": {
    "collapsed": true
   },
   "outputs": [],
   "source": [
    "! rm -r /home/yuncong/csd395/CSHL_cells/gallery/nonsmallKMeans/*"
   ]
  },
  {
   "cell_type": "code",
   "execution_count": 17,
   "metadata": {
    "collapsed": false
   },
   "outputs": [],
   "source": [
    "n = 100\n",
    "\n",
    "colors = random_colors(n)\n",
    "\n",
    "indices = np.random.choice(np.arange(n_nonsmallCells), n, replace=False)\n",
    "\n",
    "sizes = np.zeros((n, 2), np.int)\n",
    "\n",
    "for r, i in enumerate(indices):\n",
    "    \n",
    "    contour_mask = np.zeros_like(nonsmall_cell_masks_normalized[i])\n",
    "    contour_pts = np.array(find_contour_points(nonsmall_cell_masks_normalized[i].astype(np.int), sample_every=1)[1][0], np.int)\n",
    "    contour_mask[contour_pts[:,1], contour_pts[:,0]] = 1\n",
    "    xmin, xmax, ymin, ymax = bbox_2d(contour_mask)      \n",
    "    m = contour_mask[ymin:ymax+1, xmin:xmax+1].copy()\n",
    "\n",
    "    m_rgba = np.zeros(m.shape+(4,), np.uint8)\n",
    "    m_rgba[m > 0, :3] = colors[r]\n",
    "    m_rgba[m > 0, 3] = 255\n",
    "    \n",
    "    contour_output_dir = create_if_not_exists('/home/yuncong/csd395/CSHL_cells/gallery/nonsmallKMeans/random%d/contours' % (n))\n",
    "    imsave(contour_output_dir + '/cellMask_random%dContours_%d_%d.png' % (n,r, i), m_rgba)\n",
    "    \n",
    "    xmin, xmax, ymin, ymax = bbox_2d(nonsmall_cell_masks_normalized[i])  \n",
    "    m = nonsmall_cell_masks_normalized[i][ymin:ymax+1, xmin:xmax+1].copy()\n",
    "\n",
    "    m_rgba = np.zeros(m.shape+(4,), np.uint8)\n",
    "    m_rgba[m > 0, :3] = colors[r]\n",
    "    m_rgba[m > 0, 3] = 255\n",
    "    \n",
    "    blob_output_dir = create_if_not_exists('/home/yuncong/csd395/CSHL_cells/gallery/nonsmallKMeans/random%d/blobs' % (n))\n",
    "    imsave(blob_output_dir + '/cellMask_random%dBlobs_%d_%d.png' % (n, r, i), m_rgba)\n",
    "\n",
    "    sizes[r] = m_rgba.shape[:2]\n",
    "    \n",
    "    \n",
    "E_dict = []\n",
    "\n",
    "for r, i in enumerate(indices):\n",
    "    e1, e2, e3, e4, e5 = E[i, :5]\n",
    "    s = sizes[r]\n",
    "    E_dict.append({'e1':e1, 'e2':e2, 'e3':e3, 'e4':e4, 'e5':e5, 'id':r, 'index':i, 'w':s[1], 'h':s[0]})\n",
    "\n",
    "import json\n",
    "json.dump(E_dict, open('/home/yuncong/csd395/CSHL_cells/gallery/nonsmallKMeans/random%d/embedding_random%d.json' % (n, n), 'w'))"
   ]
  },
  {
   "cell_type": "code",
   "execution_count": null,
   "metadata": {
    "collapsed": true
   },
   "outputs": [],
   "source": [
    "! cd /home/yuncong/csd395/CSHL_cells/gallery/; tar -czf random.tar.gz random"
   ]
  },
  {
   "cell_type": "code",
   "execution_count": null,
   "metadata": {
    "collapsed": true
   },
   "outputs": [],
   "source": []
  }
 ],
 "metadata": {
  "kernelspec": {
   "display_name": "Python 2",
   "language": "python",
   "name": "python2"
  },
  "language_info": {
   "codemirror_mode": {
    "name": "ipython",
    "version": 2
   },
   "file_extension": ".py",
   "mimetype": "text/x-python",
   "name": "python",
   "nbconvert_exporter": "python",
   "pygments_lexer": "ipython2",
   "version": "2.7.3"
  }
 },
 "nbformat": 4,
 "nbformat_minor": 0
}
