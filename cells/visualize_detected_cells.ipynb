{
 "cells": [
  {
   "cell_type": "code",
   "execution_count": 1,
   "metadata": {
    "collapsed": false
   },
   "outputs": [
    {
     "name": "stdout",
     "output_type": "stream",
     "text": [
      "Setting environment for Gordon\n"
     ]
    },
    {
     "name": "stderr",
     "output_type": "stream",
     "text": [
      "No vtk\n"
     ]
    }
   ],
   "source": [
    "%reload_ext autoreload\n",
    "%autoreload 2\n",
    "\n",
    "import os\n",
    "import sys\n",
    "import time\n",
    "import cv2\n",
    "\n",
    "sys.path.append(os.path.join(os.environ['REPO_DIR'], 'utilities'))\n",
    "from utilities2015 import *\n",
    "from data_manager import *\n",
    "from metadata import *\n",
    "\n",
    "import matplotlib.pyplot as plt\n",
    "%matplotlib inline"
   ]
  },
  {
   "cell_type": "code",
   "execution_count": 2,
   "metadata": {
    "collapsed": true
   },
   "outputs": [],
   "source": [
    "from cell_utilities import *"
   ]
  },
  {
   "cell_type": "code",
   "execution_count": 3,
   "metadata": {
    "collapsed": true
   },
   "outputs": [],
   "source": [
    "alg = 'cellprofiler'\n",
    "# alg = 'farsight'\n",
    "# alg = 'myown'"
   ]
  },
  {
   "cell_type": "code",
   "execution_count": 4,
   "metadata": {
    "collapsed": false
   },
   "outputs": [
    {
     "name": "stderr",
     "output_type": "stream",
     "text": [
      "Save image: 37.46\n"
     ]
    }
   ],
   "source": [
    "# Visualize\n",
    "\n",
    "for stack in ['MD594']:\n",
    "    \n",
    "    output_dir = create_if_not_exists(os.path.join(DETECTED_CELLS_ROOTDIR, stack))\n",
    "    \n",
    "    sections_to_filenames = metadata_cache['sections_to_filenames'][stack]\n",
    "    first_bs_section, last_bs_section = metadata_cache['section_limits'][stack]\n",
    "    \n",
    "    for sec in [200]:\n",
    "    # for sec in range(first_bs_section, last_bs_section, 50):\n",
    "\n",
    "        t = time.time()\n",
    "\n",
    "        fn = sections_to_filenames[sec]\n",
    "        fn_output_dir = create_if_not_exists(os.path.join(output_dir, fn))\n",
    "\n",
    "        blob_contours = pandas.read_hdf(fn_output_dir + '/%(fn)s_blobContoursGlobal_%(alg)s.hdf' % {'fn': fn, 'alg': alg}, 'data')\n",
    "\n",
    "        w, h = metadata_cache['image_shape'][stack]\n",
    "\n",
    "        n_blobs = len(blob_contours)\n",
    "\n",
    "        blob_contour_viz = np.zeros((h, w, 4), np.uint8)\n",
    "\n",
    "        bar = show_progress_bar(first_bs_section, last_bs_section)\n",
    "        for i in range(n_blobs):\n",
    "            bar.value = i\n",
    "            cnt = blob_contours[i]\n",
    "            blob_contour_viz[np.minimum(h-1, np.maximum(cnt[:,1], 0)), \n",
    "                             np.minimum(w-1, np.maximum(cnt[:,0], 0))] = (255,0,0,255)\n",
    "    #         img[np.minimum(h-1, np.maximum(cnt[:,1], 0)), np.minimum(w-1, np.maximum(cnt[:,0], 0))] = (255,0,0)\n",
    "\n",
    "        imsave(os.path.join(fn_output_dir, '%(fn)s_blobContours_viz_%(alg)s.png' % {'fn':fn, 'alg': alg, 'stack': stack}), \n",
    "               blob_contour_viz)\n",
    "        sys.stderr.write('Save image: %.2f\\n' % (time.time() - t) ) # 40s / section"
   ]
  },
  {
   "cell_type": "code",
   "execution_count": null,
   "metadata": {
    "collapsed": true
   },
   "outputs": [],
   "source": []
  }
 ],
 "metadata": {
  "kernelspec": {
   "display_name": "Python 2",
   "language": "python",
   "name": "python2"
  },
  "language_info": {
   "codemirror_mode": {
    "name": "ipython",
    "version": 2
   },
   "file_extension": ".py",
   "mimetype": "text/x-python",
   "name": "python",
   "nbconvert_exporter": "python",
   "pygments_lexer": "ipython2",
   "version": "2.7.3"
  },
  "widgets": {
   "state": {
    "6750cf608ee040e18cbaa92b6eb1747d": {
     "views": [
      {
       "cell_index": 3
      }
     ]
    }
   },
   "version": "1.2.0"
  }
 },
 "nbformat": 4,
 "nbformat_minor": 1
}
