{
 "cells": [
  {
   "cell_type": "code",
   "execution_count": 2,
   "metadata": {
    "collapsed": false
   },
   "outputs": [
    {
     "name": "stdout",
     "output_type": "stream",
     "text": [
      "Setting environment for Local Macbook Pro\n"
     ]
    }
   ],
   "source": [
    "%reload_ext autoreload\n",
    "%autoreload 2\n",
    "\n",
    "import os\n",
    "import sys\n",
    "import time\n",
    "import cv2\n",
    "\n",
    "# from joblib import Parallel, delayed\n",
    "\n",
    "sys.path.append(os.path.join(os.environ['REPO_DIR'], 'utilities'))\n",
    "from utilities2015 import *\n",
    "from data_manager import *\n",
    "from metadata import *\n",
    "\n",
    "import matplotlib.pyplot as plt\n",
    "%matplotlib inline"
   ]
  },
  {
   "cell_type": "code",
   "execution_count": 3,
   "metadata": {
    "collapsed": true
   },
   "outputs": [],
   "source": [
    "DETECTED_CELLS_DIR = '/home/yuncong/CSHL_cells_v2/detected_cells'\n",
    "\n",
    "stack = 'MD589'"
   ]
  },
  {
   "cell_type": "code",
   "execution_count": 4,
   "metadata": {
    "collapsed": false
   },
   "outputs": [],
   "source": [
    "first_sec, last_sec = metadata_cache['section_limits'][stack]\n",
    "s2f = metadata_cache['sections_to_filenames'][stack]"
   ]
  },
  {
   "cell_type": "code",
   "execution_count": 10,
   "metadata": {
    "collapsed": false,
    "scrolled": true
   },
   "outputs": [
    {
     "name": "stderr",
     "output_type": "stream",
     "text": [
      "Widget Javascript not detected.  It may not be installed properly. Did you enable the widgetsnbextension? If not, then run \"jupyter nbextension enable --py --sys-prefix widgetsnbextension\"\n"
     ]
    },
    {
     "name": "stdout",
     "output_type": "stream",
     "text": [
      "cellprofiler -c --file-list=/tmp/cellprofiler_filelist.txt -p /home/yuncong/CSHL_cells_v2/SegmentCells.cppipe\n"
     ]
    },
    {
     "name": "stderr",
     "output_type": "stream",
     "text": [
      "Child returned 0\n",
      "Cell profiler: 307.44 seconds.\n",
      "Child returned 0\n",
      "Child returned 0\n",
      "Child returned 0\n",
      "Child returned 0\n"
     ]
    },
    {
     "name": "stdout",
     "output_type": "stream",
     "text": [
      "rm /home/yuncong/CSHL_cells_v2/detected_cells/MD589/MD589-N16-2015.07.30-17.03.43_MD589_3_0048/MD589-N16-2015.07.30-17.03.43_MD589_3_0048_image_inverted_00_labeled.mat\n",
      "rm /home/yuncong/CSHL_cells_v2/detected_cells/MD589/MD589-N16-2015.07.30-17.03.43_MD589_3_0048/MD589-N16-2015.07.30-17.03.43_MD589_3_0048_image_inverted_01_labeled.mat\n",
      "rm /home/yuncong/CSHL_cells_v2/detected_cells/MD589/MD589-N16-2015.07.30-17.03.43_MD589_3_0048/MD589-N16-2015.07.30-17.03.43_MD589_3_0048_image_inverted_02_labeled.mat\n",
      "rm /home/yuncong/CSHL_cells_v2/detected_cells/MD589/MD589-N16-2015.07.30-17.03.43_MD589_3_0048/MD589-N16-2015.07.30-17.03.43_MD589_3_0048_image_inverted_03_labeled.mat\n",
      "rm /home/yuncong/CSHL_cells_v2/detected_cells/MD589/MD589-N16-2015.07.30-17.03.43_MD589_3_0048/MD589-N16-2015.07.30-17.03.43_MD589_3_0048_image_inverted_04_labeled.mat\n"
     ]
    },
    {
     "name": "stderr",
     "output_type": "stream",
     "text": [
      "Child returned 0\n",
      "Child returned 0\n",
      "Child returned 0\n",
      "Child returned 0\n",
      "Child returned 0\n",
      "Child returned 0\n",
      "Child returned 0\n",
      "Child returned 0\n"
     ]
    },
    {
     "name": "stdout",
     "output_type": "stream",
     "text": [
      "rm /home/yuncong/CSHL_cells_v2/detected_cells/MD589/MD589-N16-2015.07.30-17.03.43_MD589_3_0048/MD589-N16-2015.07.30-17.03.43_MD589_3_0048_image_inverted_05_labeled.mat\n",
      "rm /home/yuncong/CSHL_cells_v2/detected_cells/MD589/MD589-N16-2015.07.30-17.03.43_MD589_3_0048/MD589-N16-2015.07.30-17.03.43_MD589_3_0048_image_inverted_06_labeled.mat\n",
      "rm /home/yuncong/CSHL_cells_v2/detected_cells/MD589/MD589-N16-2015.07.30-17.03.43_MD589_3_0048/MD589-N16-2015.07.30-17.03.43_MD589_3_0048_image_inverted_07_labeled.mat\n",
      "rm /home/yuncong/CSHL_cells_v2/detected_cells/MD589/MD589-N16-2015.07.30-17.03.43_MD589_3_0048/MD589-N16-2015.07.30-17.03.43_MD589_3_0048_image_inverted_08_labeled.mat\n",
      "rm /home/yuncong/CSHL_cells_v2/detected_cells/MD589/MD589-N16-2015.07.30-17.03.43_MD589_3_0048/MD589-N16-2015.07.30-17.03.43_MD589_3_0048_image_inverted_09_labeled.mat\n",
      "rm /home/yuncong/CSHL_cells_v2/detected_cells/MD589/MD589-N16-2015.07.30-17.03.43_MD589_3_0048/MD589-N16-2015.07.30-17.03.43_MD589_3_0048_image_inverted_10_labeled.mat\n",
      "rm /home/yuncong/CSHL_cells_v2/detected_cells/MD589/MD589-N16-2015.07.30-17.03.43_MD589_3_0048/MD589-N16-2015.07.30-17.03.43_MD589_3_0048_image_inverted_11_labeled.mat\n",
      "cellprofiler -c --file-list=/tmp/cellprofiler_filelist.txt -p /home/yuncong/CSHL_cells_v2/SegmentCells.cppipe\n"
     ]
    },
    {
     "name": "stderr",
     "output_type": "stream",
     "text": [
      "Child returned 0\n",
      "Cell profiler: 266.77 seconds.\n",
      "Child returned 0\n",
      "Child returned 0\n",
      "Child returned 0\n",
      "Child returned 0\n"
     ]
    },
    {
     "name": "stdout",
     "output_type": "stream",
     "text": [
      "rm /home/yuncong/CSHL_cells_v2/detected_cells/MD589/MD589-N18-2015.07.30-17.11.24_MD589_2_0053/MD589-N18-2015.07.30-17.11.24_MD589_2_0053_image_inverted_00_labeled.mat\n",
      "rm /home/yuncong/CSHL_cells_v2/detected_cells/MD589/MD589-N18-2015.07.30-17.11.24_MD589_2_0053/MD589-N18-2015.07.30-17.11.24_MD589_2_0053_image_inverted_01_labeled.mat\n",
      "rm /home/yuncong/CSHL_cells_v2/detected_cells/MD589/MD589-N18-2015.07.30-17.11.24_MD589_2_0053/MD589-N18-2015.07.30-17.11.24_MD589_2_0053_image_inverted_02_labeled.mat\n",
      "rm /home/yuncong/CSHL_cells_v2/detected_cells/MD589/MD589-N18-2015.07.30-17.11.24_MD589_2_0053/MD589-N18-2015.07.30-17.11.24_MD589_2_0053_image_inverted_03_labeled.mat\n",
      "rm /home/yuncong/CSHL_cells_v2/detected_cells/MD589/MD589-N18-2015.07.30-17.11.24_MD589_2_0053/MD589-N18-2015.07.30-17.11.24_MD589_2_0053_image_inverted_04_labeled.mat\n"
     ]
    },
    {
     "name": "stderr",
     "output_type": "stream",
     "text": [
      "Child returned 0\n",
      "Child returned 0\n",
      "Child returned 0\n",
      "Child returned 0\n",
      "Child returned 0\n",
      "Child returned 0\n",
      "Child returned 0\n",
      "Child returned 0\n"
     ]
    },
    {
     "name": "stdout",
     "output_type": "stream",
     "text": [
      "rm /home/yuncong/CSHL_cells_v2/detected_cells/MD589/MD589-N18-2015.07.30-17.11.24_MD589_2_0053/MD589-N18-2015.07.30-17.11.24_MD589_2_0053_image_inverted_05_labeled.mat\n",
      "rm /home/yuncong/CSHL_cells_v2/detected_cells/MD589/MD589-N18-2015.07.30-17.11.24_MD589_2_0053/MD589-N18-2015.07.30-17.11.24_MD589_2_0053_image_inverted_06_labeled.mat\n",
      "rm /home/yuncong/CSHL_cells_v2/detected_cells/MD589/MD589-N18-2015.07.30-17.11.24_MD589_2_0053/MD589-N18-2015.07.30-17.11.24_MD589_2_0053_image_inverted_07_labeled.mat\n",
      "rm /home/yuncong/CSHL_cells_v2/detected_cells/MD589/MD589-N18-2015.07.30-17.11.24_MD589_2_0053/MD589-N18-2015.07.30-17.11.24_MD589_2_0053_image_inverted_08_labeled.mat\n",
      "rm /home/yuncong/CSHL_cells_v2/detected_cells/MD589/MD589-N18-2015.07.30-17.11.24_MD589_2_0053/MD589-N18-2015.07.30-17.11.24_MD589_2_0053_image_inverted_09_labeled.mat\n",
      "rm /home/yuncong/CSHL_cells_v2/detected_cells/MD589/MD589-N18-2015.07.30-17.11.24_MD589_2_0053/MD589-N18-2015.07.30-17.11.24_MD589_2_0053_image_inverted_10_labeled.mat\n",
      "rm /home/yuncong/CSHL_cells_v2/detected_cells/MD589/MD589-N18-2015.07.30-17.11.24_MD589_2_0053/MD589-N18-2015.07.30-17.11.24_MD589_2_0053_image_inverted_11_labeled.mat\n",
      "cellprofiler -c --file-list=/tmp/cellprofiler_filelist.txt -p /home/yuncong/CSHL_cells_v2/SegmentCells.cppipe\n"
     ]
    },
    {
     "name": "stderr",
     "output_type": "stream",
     "text": [
      "Child returned 0\n",
      "Cell profiler: 248.57 seconds.\n",
      "Child returned 0\n"
     ]
    },
    {
     "name": "stdout",
     "output_type": "stream",
     "text": [
      "rm /home/yuncong/CSHL_cells_v2/detected_cells/MD589/MD589-N20-2015.07.30-17.19.14_MD589_1_0058/MD589-N20-2015.07.30-17.19.14_MD589_1_0058_image_inverted_00_labeled.mat\n",
      "rm /home/yuncong/CSHL_cells_v2/detected_cells/MD589/MD589-N20-2015.07.30-17.19.14_MD589_1_0058/MD589-N20-2015.07.30-17.19.14_MD589_1_0058_image_inverted_01_labeled.mat\n",
      "rm /home/yuncong/CSHL_cells_v2/detected_cells/MD589/MD589-N20-2015.07.30-17.19.14_MD589_1_0058/MD589-N20-2015.07.30-17.19.14_MD589_1_0058_image_inverted_02_labeled.mat\n",
      "rm /home/yuncong/CSHL_cells_v2/detected_cells/MD589/MD589-N20-2015.07.30-17.19.14_MD589_1_0058/MD589-N20-2015.07.30-17.19.14_MD589_1_0058_image_inverted_03_labeled.mat\n",
      "rm /home/yuncong/CSHL_cells_v2/detected_cells/MD589/MD589-N20-2015.07.30-17.19.14_MD589_1_0058/MD589-N20-2015.07.30-17.19.14_MD589_1_0058_image_inverted_04_labeled.mat\n"
     ]
    },
    {
     "name": "stderr",
     "output_type": "stream",
     "text": [
      "Child returned 0\n",
      "Child returned 0\n",
      "Child returned 0\n",
      "Child returned 0\n",
      "Child returned 0\n"
     ]
    },
    {
     "name": "stdout",
     "output_type": "stream",
     "text": [
      "rm /home/yuncong/CSHL_cells_v2/detected_cells/MD589/MD589-N20-2015.07.30-17.19.14_MD589_1_0058/MD589-N20-2015.07.30-17.19.14_MD589_1_0058_image_inverted_05_labeled.mat\n",
      "rm /home/yuncong/CSHL_cells_v2/detected_cells/MD589/MD589-N20-2015.07.30-17.19.14_MD589_1_0058/MD589-N20-2015.07.30-17.19.14_MD589_1_0058_image_inverted_06_labeled.mat\n",
      "rm /home/yuncong/CSHL_cells_v2/detected_cells/MD589/MD589-N20-2015.07.30-17.19.14_MD589_1_0058/MD589-N20-2015.07.30-17.19.14_MD589_1_0058_image_inverted_07_labeled.mat\n",
      "rm /home/yuncong/CSHL_cells_v2/detected_cells/MD589/MD589-N20-2015.07.30-17.19.14_MD589_1_0058/MD589-N20-2015.07.30-17.19.14_MD589_1_0058_image_inverted_08_labeled.mat\n",
      "rm /home/yuncong/CSHL_cells_v2/detected_cells/MD589/MD589-N20-2015.07.30-17.19.14_MD589_1_0058/MD589-N20-2015.07.30-17.19.14_MD589_1_0058_image_inverted_09_labeled.mat\n",
      "rm /home/yuncong/CSHL_cells_v2/detected_cells/MD589/MD589-N20-2015.07.30-17.19.14_MD589_1_0058/MD589-N20-2015.07.30-17.19.14_MD589_1_0058_image_inverted_10_labeled.mat\n",
      "rm /home/yuncong/CSHL_cells_v2/detected_cells/MD589/MD589-N20-2015.07.30-17.19.14_MD589_1_0058/MD589-N20-2015.07.30-17.19.14_MD589_1_0058_image_inverted_11_labeled.mat\n"
     ]
    },
    {
     "name": "stderr",
     "output_type": "stream",
     "text": [
      "Child returned 0\n",
      "Child returned 0\n",
      "Child returned 0\n",
      "Child returned 0\n",
      "Child returned 0\n",
      "Child returned 0\n"
     ]
    },
    {
     "name": "stdout",
     "output_type": "stream",
     "text": [
      "scp -r yuncong@gcn:/home/yuncong/csd395/CSHL_cells_v2/detected_cells/MD589/MD589-N21-2015.07.30-17.23.23_MD589_3_0063/ /home/yuncong/CSHL_cells_v2/detected_cells/MD589/\n"
     ]
    },
    {
     "name": "stderr",
     "output_type": "stream",
     "text": [
      "Child returned 0\n"
     ]
    },
    {
     "name": "stdout",
     "output_type": "stream",
     "text": [
      "cellprofiler -c --file-list=/tmp/cellprofiler_filelist.txt -p /home/yuncong/CSHL_cells_v2/SegmentCells.cppipe\n"
     ]
    },
    {
     "name": "stderr",
     "output_type": "stream",
     "text": [
      "Child returned 0\n",
      "Cell profiler: 216.34 seconds.\n",
      "Child returned 0\n",
      "Child returned 0\n",
      "Child returned 0\n",
      "Child returned 0\n"
     ]
    },
    {
     "name": "stdout",
     "output_type": "stream",
     "text": [
      "rm /home/yuncong/CSHL_cells_v2/detected_cells/MD589/MD589-N21-2015.07.30-17.23.23_MD589_3_0063/MD589-N21-2015.07.30-17.23.23_MD589_3_0063_image_inverted_00_labeled.mat\n",
      "rm /home/yuncong/CSHL_cells_v2/detected_cells/MD589/MD589-N21-2015.07.30-17.23.23_MD589_3_0063/MD589-N21-2015.07.30-17.23.23_MD589_3_0063_image_inverted_01_labeled.mat\n",
      "rm /home/yuncong/CSHL_cells_v2/detected_cells/MD589/MD589-N21-2015.07.30-17.23.23_MD589_3_0063/MD589-N21-2015.07.30-17.23.23_MD589_3_0063_image_inverted_02_labeled.mat\n",
      "rm /home/yuncong/CSHL_cells_v2/detected_cells/MD589/MD589-N21-2015.07.30-17.23.23_MD589_3_0063/MD589-N21-2015.07.30-17.23.23_MD589_3_0063_image_inverted_03_labeled.mat\n",
      "rm /home/yuncong/CSHL_cells_v2/detected_cells/MD589/MD589-N21-2015.07.30-17.23.23_MD589_3_0063/MD589-N21-2015.07.30-17.23.23_MD589_3_0063_image_inverted_04_labeled.mat\n"
     ]
    },
    {
     "name": "stderr",
     "output_type": "stream",
     "text": [
      "Child returned 0\n",
      "Child returned 0\n",
      "Child returned 0\n",
      "Child returned 0\n",
      "Child returned 0\n",
      "Child returned 0\n",
      "Child returned 0\n",
      "Child returned 0\n"
     ]
    },
    {
     "name": "stdout",
     "output_type": "stream",
     "text": [
      "rm /home/yuncong/CSHL_cells_v2/detected_cells/MD589/MD589-N21-2015.07.30-17.23.23_MD589_3_0063/MD589-N21-2015.07.30-17.23.23_MD589_3_0063_image_inverted_05_labeled.mat\n",
      "rm /home/yuncong/CSHL_cells_v2/detected_cells/MD589/MD589-N21-2015.07.30-17.23.23_MD589_3_0063/MD589-N21-2015.07.30-17.23.23_MD589_3_0063_image_inverted_06_labeled.mat\n",
      "rm /home/yuncong/CSHL_cells_v2/detected_cells/MD589/MD589-N21-2015.07.30-17.23.23_MD589_3_0063/MD589-N21-2015.07.30-17.23.23_MD589_3_0063_image_inverted_07_labeled.mat\n",
      "rm /home/yuncong/CSHL_cells_v2/detected_cells/MD589/MD589-N21-2015.07.30-17.23.23_MD589_3_0063/MD589-N21-2015.07.30-17.23.23_MD589_3_0063_image_inverted_08_labeled.mat\n",
      "rm /home/yuncong/CSHL_cells_v2/detected_cells/MD589/MD589-N21-2015.07.30-17.23.23_MD589_3_0063/MD589-N21-2015.07.30-17.23.23_MD589_3_0063_image_inverted_09_labeled.mat\n",
      "rm /home/yuncong/CSHL_cells_v2/detected_cells/MD589/MD589-N21-2015.07.30-17.23.23_MD589_3_0063/MD589-N21-2015.07.30-17.23.23_MD589_3_0063_image_inverted_10_labeled.mat\n",
      "rm /home/yuncong/CSHL_cells_v2/detected_cells/MD589/MD589-N21-2015.07.30-17.23.23_MD589_3_0063/MD589-N21-2015.07.30-17.23.23_MD589_3_0063_image_inverted_11_labeled.mat\n",
      "scp -r yuncong@gcn:/home/yuncong/csd395/CSHL_cells_v2/detected_cells/MD589/MD589-N23-2015.07.30-17.31.29_MD589_2_0068/ /home/yuncong/CSHL_cells_v2/detected_cells/MD589/\n"
     ]
    },
    {
     "name": "stderr",
     "output_type": "stream",
     "text": [
      "Child returned 0\n"
     ]
    },
    {
     "name": "stdout",
     "output_type": "stream",
     "text": [
      "cellprofiler -c --file-list=/tmp/cellprofiler_filelist.txt -p /home/yuncong/CSHL_cells_v2/SegmentCells.cppipe\n"
     ]
    },
    {
     "name": "stderr",
     "output_type": "stream",
     "text": [
      "Child returned 0\n",
      "Cell profiler: 227.06 seconds.\n",
      "Child returned 0\n",
      "Child returned 0\n",
      "Child returned 0\n",
      "Child returned 0\n"
     ]
    },
    {
     "name": "stdout",
     "output_type": "stream",
     "text": [
      "rm /home/yuncong/CSHL_cells_v2/detected_cells/MD589/MD589-N23-2015.07.30-17.31.29_MD589_2_0068/MD589-N23-2015.07.30-17.31.29_MD589_2_0068_image_inverted_00_labeled.mat\n",
      "rm /home/yuncong/CSHL_cells_v2/detected_cells/MD589/MD589-N23-2015.07.30-17.31.29_MD589_2_0068/MD589-N23-2015.07.30-17.31.29_MD589_2_0068_image_inverted_01_labeled.mat\n",
      "rm /home/yuncong/CSHL_cells_v2/detected_cells/MD589/MD589-N23-2015.07.30-17.31.29_MD589_2_0068/MD589-N23-2015.07.30-17.31.29_MD589_2_0068_image_inverted_02_labeled.mat\n",
      "rm /home/yuncong/CSHL_cells_v2/detected_cells/MD589/MD589-N23-2015.07.30-17.31.29_MD589_2_0068/MD589-N23-2015.07.30-17.31.29_MD589_2_0068_image_inverted_03_labeled.mat\n",
      "rm /home/yuncong/CSHL_cells_v2/detected_cells/MD589/MD589-N23-2015.07.30-17.31.29_MD589_2_0068/MD589-N23-2015.07.30-17.31.29_MD589_2_0068_image_inverted_04_labeled.mat\n"
     ]
    },
    {
     "name": "stderr",
     "output_type": "stream",
     "text": [
      "Child returned 0\n",
      "Child returned 0\n",
      "Child returned 0\n",
      "Child returned 0\n",
      "Child returned 0\n",
      "Child returned 0\n"
     ]
    },
    {
     "name": "stdout",
     "output_type": "stream",
     "text": [
      "rm /home/yuncong/CSHL_cells_v2/detected_cells/MD589/MD589-N23-2015.07.30-17.31.29_MD589_2_0068/MD589-N23-2015.07.30-17.31.29_MD589_2_0068_image_inverted_05_labeled.mat\n",
      "rm /home/yuncong/CSHL_cells_v2/detected_cells/MD589/MD589-N23-2015.07.30-17.31.29_MD589_2_0068/MD589-N23-2015.07.30-17.31.29_MD589_2_0068_image_inverted_06_labeled.mat\n",
      "rm /home/yuncong/CSHL_cells_v2/detected_cells/MD589/MD589-N23-2015.07.30-17.31.29_MD589_2_0068/MD589-N23-2015.07.30-17.31.29_MD589_2_0068_image_inverted_07_labeled.mat\n",
      "rm /home/yuncong/CSHL_cells_v2/detected_cells/MD589/MD589-N23-2015.07.30-17.31.29_MD589_2_0068/MD589-N23-2015.07.30-17.31.29_MD589_2_0068_image_inverted_08_labeled.mat\n",
      "rm /home/yuncong/CSHL_cells_v2/detected_cells/MD589/MD589-N23-2015.07.30-17.31.29_MD589_2_0068/MD589-N23-2015.07.30-17.31.29_MD589_2_0068_image_inverted_09_labeled.mat\n",
      "rm /home/yuncong/CSHL_cells_v2/detected_cells/MD589/MD589-N23-2015.07.30-17.31.29_MD589_2_0068/MD589-N23-2015.07.30-17.31.29_MD589_2_0068_image_inverted_10_labeled.mat\n",
      "rm /home/yuncong/CSHL_cells_v2/detected_cells/MD589/MD589-N23-2015.07.30-17.31.29_MD589_2_0068/MD589-N23-2015.07.30-17.31.29_MD589_2_0068_image_inverted_11_labeled.mat\n"
     ]
    },
    {
     "name": "stderr",
     "output_type": "stream",
     "text": [
      "Child returned 0\n",
      "Child returned 0\n"
     ]
    },
    {
     "name": "stdout",
     "output_type": "stream",
     "text": [
      "scp -r yuncong@gcn:/home/yuncong/csd395/CSHL_cells_v2/detected_cells/MD589/MD589-N25-2015.07.30-17.40.16_MD589_1_0073/ /home/yuncong/CSHL_cells_v2/detected_cells/MD589/\n"
     ]
    },
    {
     "name": "stderr",
     "output_type": "stream",
     "text": [
      "Child returned 0\n"
     ]
    },
    {
     "name": "stdout",
     "output_type": "stream",
     "text": [
      "cellprofiler -c --file-list=/tmp/cellprofiler_filelist.txt -p /home/yuncong/CSHL_cells_v2/SegmentCells.cppipe\n"
     ]
    },
    {
     "name": "stderr",
     "output_type": "stream",
     "text": [
      "Child returned 0\n",
      "Cell profiler: 219.92 seconds.\n",
      "Child returned 0\n",
      "Child returned 0\n",
      "Child returned 0\n",
      "Child returned 0\n"
     ]
    },
    {
     "name": "stdout",
     "output_type": "stream",
     "text": [
      "rm /home/yuncong/CSHL_cells_v2/detected_cells/MD589/MD589-N25-2015.07.30-17.40.16_MD589_1_0073/MD589-N25-2015.07.30-17.40.16_MD589_1_0073_image_inverted_00_labeled.mat\n",
      "rm /home/yuncong/CSHL_cells_v2/detected_cells/MD589/MD589-N25-2015.07.30-17.40.16_MD589_1_0073/MD589-N25-2015.07.30-17.40.16_MD589_1_0073_image_inverted_01_labeled.mat\n",
      "rm /home/yuncong/CSHL_cells_v2/detected_cells/MD589/MD589-N25-2015.07.30-17.40.16_MD589_1_0073/MD589-N25-2015.07.30-17.40.16_MD589_1_0073_image_inverted_02_labeled.mat\n",
      "rm /home/yuncong/CSHL_cells_v2/detected_cells/MD589/MD589-N25-2015.07.30-17.40.16_MD589_1_0073/MD589-N25-2015.07.30-17.40.16_MD589_1_0073_image_inverted_03_labeled.mat\n",
      "rm /home/yuncong/CSHL_cells_v2/detected_cells/MD589/MD589-N25-2015.07.30-17.40.16_MD589_1_0073/MD589-N25-2015.07.30-17.40.16_MD589_1_0073_image_inverted_04_labeled.mat\n"
     ]
    },
    {
     "name": "stderr",
     "output_type": "stream",
     "text": [
      "Child returned 0\n",
      "Child returned 0\n",
      "Child returned 0\n",
      "Child returned 0\n",
      "Child returned 0\n",
      "Child returned 0\n",
      "Child returned 0\n"
     ]
    },
    {
     "name": "stdout",
     "output_type": "stream",
     "text": [
      "rm /home/yuncong/CSHL_cells_v2/detected_cells/MD589/MD589-N25-2015.07.30-17.40.16_MD589_1_0073/MD589-N25-2015.07.30-17.40.16_MD589_1_0073_image_inverted_05_labeled.mat\n",
      "rm /home/yuncong/CSHL_cells_v2/detected_cells/MD589/MD589-N25-2015.07.30-17.40.16_MD589_1_0073/MD589-N25-2015.07.30-17.40.16_MD589_1_0073_image_inverted_06_labeled.mat\n",
      "rm /home/yuncong/CSHL_cells_v2/detected_cells/MD589/MD589-N25-2015.07.30-17.40.16_MD589_1_0073/MD589-N25-2015.07.30-17.40.16_MD589_1_0073_image_inverted_07_labeled.mat\n",
      "rm /home/yuncong/CSHL_cells_v2/detected_cells/MD589/MD589-N25-2015.07.30-17.40.16_MD589_1_0073/MD589-N25-2015.07.30-17.40.16_MD589_1_0073_image_inverted_08_labeled.mat\n",
      "rm /home/yuncong/CSHL_cells_v2/detected_cells/MD589/MD589-N25-2015.07.30-17.40.16_MD589_1_0073/MD589-N25-2015.07.30-17.40.16_MD589_1_0073_image_inverted_09_labeled.mat\n",
      "rm /home/yuncong/CSHL_cells_v2/detected_cells/MD589/MD589-N25-2015.07.30-17.40.16_MD589_1_0073/MD589-N25-2015.07.30-17.40.16_MD589_1_0073_image_inverted_10_labeled.mat\n",
      "rm /home/yuncong/CSHL_cells_v2/detected_cells/MD589/MD589-N25-2015.07.30-17.40.16_MD589_1_0073/MD589-N25-2015.07.30-17.40.16_MD589_1_0073_image_inverted_11_labeled.mat\n"
     ]
    },
    {
     "name": "stderr",
     "output_type": "stream",
     "text": [
      "Child returned 0\n"
     ]
    },
    {
     "name": "stdout",
     "output_type": "stream",
     "text": [
      "scp -r yuncong@gcn:/home/yuncong/csd395/CSHL_cells_v2/detected_cells/MD589/MD589-N26-2015.07.30-17.44.37_MD589_3_0078/ /home/yuncong/CSHL_cells_v2/detected_cells/MD589/\n"
     ]
    },
    {
     "name": "stderr",
     "output_type": "stream",
     "text": [
      "Child returned 0\n"
     ]
    },
    {
     "name": "stdout",
     "output_type": "stream",
     "text": [
      "cellprofiler -c --file-list=/tmp/cellprofiler_filelist.txt -p /home/yuncong/CSHL_cells_v2/SegmentCells.cppipe\n"
     ]
    },
    {
     "name": "stderr",
     "output_type": "stream",
     "text": [
      "Child returned 0\n",
      "Cell profiler: 224.31 seconds.\n",
      "Child returned 0\n",
      "Child returned 0\n",
      "Child returned 0\n",
      "Child returned 0\n"
     ]
    },
    {
     "name": "stdout",
     "output_type": "stream",
     "text": [
      "rm /home/yuncong/CSHL_cells_v2/detected_cells/MD589/MD589-N26-2015.07.30-17.44.37_MD589_3_0078/MD589-N26-2015.07.30-17.44.37_MD589_3_0078_image_inverted_00_labeled.mat\n",
      "rm /home/yuncong/CSHL_cells_v2/detected_cells/MD589/MD589-N26-2015.07.30-17.44.37_MD589_3_0078/MD589-N26-2015.07.30-17.44.37_MD589_3_0078_image_inverted_01_labeled.mat\n",
      "rm /home/yuncong/CSHL_cells_v2/detected_cells/MD589/MD589-N26-2015.07.30-17.44.37_MD589_3_0078/MD589-N26-2015.07.30-17.44.37_MD589_3_0078_image_inverted_02_labeled.mat\n",
      "rm /home/yuncong/CSHL_cells_v2/detected_cells/MD589/MD589-N26-2015.07.30-17.44.37_MD589_3_0078/MD589-N26-2015.07.30-17.44.37_MD589_3_0078_image_inverted_03_labeled.mat\n",
      "rm /home/yuncong/CSHL_cells_v2/detected_cells/MD589/MD589-N26-2015.07.30-17.44.37_MD589_3_0078/MD589-N26-2015.07.30-17.44.37_MD589_3_0078_image_inverted_04_labeled.mat\n"
     ]
    },
    {
     "name": "stderr",
     "output_type": "stream",
     "text": [
      "Child returned 0\n",
      "Child returned 0\n",
      "Child returned 0\n",
      "Child returned 0\n",
      "Child returned 0\n",
      "Child returned 0\n",
      "Child returned 0\n",
      "Child returned 0\n"
     ]
    },
    {
     "name": "stdout",
     "output_type": "stream",
     "text": [
      "rm /home/yuncong/CSHL_cells_v2/detected_cells/MD589/MD589-N26-2015.07.30-17.44.37_MD589_3_0078/MD589-N26-2015.07.30-17.44.37_MD589_3_0078_image_inverted_05_labeled.mat\n",
      "rm /home/yuncong/CSHL_cells_v2/detected_cells/MD589/MD589-N26-2015.07.30-17.44.37_MD589_3_0078/MD589-N26-2015.07.30-17.44.37_MD589_3_0078_image_inverted_06_labeled.mat\n",
      "rm /home/yuncong/CSHL_cells_v2/detected_cells/MD589/MD589-N26-2015.07.30-17.44.37_MD589_3_0078/MD589-N26-2015.07.30-17.44.37_MD589_3_0078_image_inverted_07_labeled.mat\n",
      "rm /home/yuncong/CSHL_cells_v2/detected_cells/MD589/MD589-N26-2015.07.30-17.44.37_MD589_3_0078/MD589-N26-2015.07.30-17.44.37_MD589_3_0078_image_inverted_08_labeled.mat\n",
      "rm /home/yuncong/CSHL_cells_v2/detected_cells/MD589/MD589-N26-2015.07.30-17.44.37_MD589_3_0078/MD589-N26-2015.07.30-17.44.37_MD589_3_0078_image_inverted_09_labeled.mat\n",
      "rm /home/yuncong/CSHL_cells_v2/detected_cells/MD589/MD589-N26-2015.07.30-17.44.37_MD589_3_0078/MD589-N26-2015.07.30-17.44.37_MD589_3_0078_image_inverted_10_labeled.mat\n",
      "rm /home/yuncong/CSHL_cells_v2/detected_cells/MD589/MD589-N26-2015.07.30-17.44.37_MD589_3_0078/MD589-N26-2015.07.30-17.44.37_MD589_3_0078_image_inverted_11_labeled.mat\n",
      "scp -r yuncong@gcn:/home/yuncong/csd395/CSHL_cells_v2/detected_cells/MD589/MD589-N28-2015.07.30-17.53.43_MD589_2_0083/ /home/yuncong/CSHL_cells_v2/detected_cells/MD589/\n"
     ]
    },
    {
     "name": "stderr",
     "output_type": "stream",
     "text": [
      "Child returned 0\n"
     ]
    },
    {
     "name": "stdout",
     "output_type": "stream",
     "text": [
      "cellprofiler -c --file-list=/tmp/cellprofiler_filelist.txt -p /home/yuncong/CSHL_cells_v2/SegmentCells.cppipe\n"
     ]
    },
    {
     "name": "stderr",
     "output_type": "stream",
     "text": [
      "Child returned 0\n",
      "Cell profiler: 227.28 seconds.\n",
      "Child returned 0\n",
      "Child returned 0\n",
      "Child returned 0\n",
      "Child returned 0\n"
     ]
    },
    {
     "name": "stdout",
     "output_type": "stream",
     "text": [
      "rm /home/yuncong/CSHL_cells_v2/detected_cells/MD589/MD589-N28-2015.07.30-17.53.43_MD589_2_0083/MD589-N28-2015.07.30-17.53.43_MD589_2_0083_image_inverted_00_labeled.mat\n",
      "rm /home/yuncong/CSHL_cells_v2/detected_cells/MD589/MD589-N28-2015.07.30-17.53.43_MD589_2_0083/MD589-N28-2015.07.30-17.53.43_MD589_2_0083_image_inverted_01_labeled.mat\n",
      "rm /home/yuncong/CSHL_cells_v2/detected_cells/MD589/MD589-N28-2015.07.30-17.53.43_MD589_2_0083/MD589-N28-2015.07.30-17.53.43_MD589_2_0083_image_inverted_02_labeled.mat\n",
      "rm /home/yuncong/CSHL_cells_v2/detected_cells/MD589/MD589-N28-2015.07.30-17.53.43_MD589_2_0083/MD589-N28-2015.07.30-17.53.43_MD589_2_0083_image_inverted_03_labeled.mat\n",
      "rm /home/yuncong/CSHL_cells_v2/detected_cells/MD589/MD589-N28-2015.07.30-17.53.43_MD589_2_0083/MD589-N28-2015.07.30-17.53.43_MD589_2_0083_image_inverted_04_labeled.mat\n"
     ]
    },
    {
     "name": "stderr",
     "output_type": "stream",
     "text": [
      "Child returned 0\n",
      "Child returned 0\n",
      "Child returned 0\n",
      "Child returned 0\n",
      "Child returned 0\n",
      "Child returned 0\n"
     ]
    },
    {
     "name": "stdout",
     "output_type": "stream",
     "text": [
      "rm /home/yuncong/CSHL_cells_v2/detected_cells/MD589/MD589-N28-2015.07.30-17.53.43_MD589_2_0083/MD589-N28-2015.07.30-17.53.43_MD589_2_0083_image_inverted_05_labeled.mat\n",
      "rm /home/yuncong/CSHL_cells_v2/detected_cells/MD589/MD589-N28-2015.07.30-17.53.43_MD589_2_0083/MD589-N28-2015.07.30-17.53.43_MD589_2_0083_image_inverted_06_labeled.mat\n",
      "rm /home/yuncong/CSHL_cells_v2/detected_cells/MD589/MD589-N28-2015.07.30-17.53.43_MD589_2_0083/MD589-N28-2015.07.30-17.53.43_MD589_2_0083_image_inverted_07_labeled.mat\n",
      "rm /home/yuncong/CSHL_cells_v2/detected_cells/MD589/MD589-N28-2015.07.30-17.53.43_MD589_2_0083/MD589-N28-2015.07.30-17.53.43_MD589_2_0083_image_inverted_08_labeled.mat\n",
      "rm /home/yuncong/CSHL_cells_v2/detected_cells/MD589/MD589-N28-2015.07.30-17.53.43_MD589_2_0083/MD589-N28-2015.07.30-17.53.43_MD589_2_0083_image_inverted_09_labeled.mat\n",
      "rm /home/yuncong/CSHL_cells_v2/detected_cells/MD589/MD589-N28-2015.07.30-17.53.43_MD589_2_0083/MD589-N28-2015.07.30-17.53.43_MD589_2_0083_image_inverted_10_labeled.mat\n",
      "rm /home/yuncong/CSHL_cells_v2/detected_cells/MD589/MD589-N28-2015.07.30-17.53.43_MD589_2_0083/MD589-N28-2015.07.30-17.53.43_MD589_2_0083_image_inverted_11_labeled.mat\n"
     ]
    },
    {
     "name": "stderr",
     "output_type": "stream",
     "text": [
      "Child returned 0\n",
      "Child returned 0\n"
     ]
    },
    {
     "name": "stdout",
     "output_type": "stream",
     "text": [
      "scp -r yuncong@gcn:/home/yuncong/csd395/CSHL_cells_v2/detected_cells/MD589/MD589-N30-2015.07.30-18.03.11_MD589_1_0088/ /home/yuncong/CSHL_cells_v2/detected_cells/MD589/\n"
     ]
    },
    {
     "name": "stderr",
     "output_type": "stream",
     "text": [
      "Child returned 0\n"
     ]
    },
    {
     "name": "stdout",
     "output_type": "stream",
     "text": [
      "cellprofiler -c --file-list=/tmp/cellprofiler_filelist.txt -p /home/yuncong/CSHL_cells_v2/SegmentCells.cppipe\n"
     ]
    },
    {
     "name": "stderr",
     "output_type": "stream",
     "text": [
      "Child returned 0\n",
      "Cell profiler: 214.77 seconds.\n",
      "Child returned 0\n",
      "Child returned 0\n",
      "Child returned 0\n",
      "Child returned 0\n"
     ]
    },
    {
     "name": "stdout",
     "output_type": "stream",
     "text": [
      "rm /home/yuncong/CSHL_cells_v2/detected_cells/MD589/MD589-N30-2015.07.30-18.03.11_MD589_1_0088/MD589-N30-2015.07.30-18.03.11_MD589_1_0088_image_inverted_00_labeled.mat\n",
      "rm /home/yuncong/CSHL_cells_v2/detected_cells/MD589/MD589-N30-2015.07.30-18.03.11_MD589_1_0088/MD589-N30-2015.07.30-18.03.11_MD589_1_0088_image_inverted_01_labeled.mat\n",
      "rm /home/yuncong/CSHL_cells_v2/detected_cells/MD589/MD589-N30-2015.07.30-18.03.11_MD589_1_0088/MD589-N30-2015.07.30-18.03.11_MD589_1_0088_image_inverted_02_labeled.mat\n",
      "rm /home/yuncong/CSHL_cells_v2/detected_cells/MD589/MD589-N30-2015.07.30-18.03.11_MD589_1_0088/MD589-N30-2015.07.30-18.03.11_MD589_1_0088_image_inverted_03_labeled.mat\n",
      "rm /home/yuncong/CSHL_cells_v2/detected_cells/MD589/MD589-N30-2015.07.30-18.03.11_MD589_1_0088/MD589-N30-2015.07.30-18.03.11_MD589_1_0088_image_inverted_04_labeled.mat\n"
     ]
    },
    {
     "name": "stderr",
     "output_type": "stream",
     "text": [
      "Child returned 0\n",
      "Child returned 0\n",
      "Child returned 0\n",
      "Child returned 0\n",
      "Child returned 0\n",
      "Child returned 0\n",
      "Child returned 0\n"
     ]
    },
    {
     "name": "stdout",
     "output_type": "stream",
     "text": [
      "rm /home/yuncong/CSHL_cells_v2/detected_cells/MD589/MD589-N30-2015.07.30-18.03.11_MD589_1_0088/MD589-N30-2015.07.30-18.03.11_MD589_1_0088_image_inverted_05_labeled.mat\n",
      "rm /home/yuncong/CSHL_cells_v2/detected_cells/MD589/MD589-N30-2015.07.30-18.03.11_MD589_1_0088/MD589-N30-2015.07.30-18.03.11_MD589_1_0088_image_inverted_06_labeled.mat\n",
      "rm /home/yuncong/CSHL_cells_v2/detected_cells/MD589/MD589-N30-2015.07.30-18.03.11_MD589_1_0088/MD589-N30-2015.07.30-18.03.11_MD589_1_0088_image_inverted_07_labeled.mat\n",
      "rm /home/yuncong/CSHL_cells_v2/detected_cells/MD589/MD589-N30-2015.07.30-18.03.11_MD589_1_0088/MD589-N30-2015.07.30-18.03.11_MD589_1_0088_image_inverted_08_labeled.mat\n",
      "rm /home/yuncong/CSHL_cells_v2/detected_cells/MD589/MD589-N30-2015.07.30-18.03.11_MD589_1_0088/MD589-N30-2015.07.30-18.03.11_MD589_1_0088_image_inverted_09_labeled.mat\n",
      "rm /home/yuncong/CSHL_cells_v2/detected_cells/MD589/MD589-N30-2015.07.30-18.03.11_MD589_1_0088/MD589-N30-2015.07.30-18.03.11_MD589_1_0088_image_inverted_10_labeled.mat\n",
      "rm /home/yuncong/CSHL_cells_v2/detected_cells/MD589/MD589-N30-2015.07.30-18.03.11_MD589_1_0088/MD589-N30-2015.07.30-18.03.11_MD589_1_0088_image_inverted_11_labeled.mat\n"
     ]
    },
    {
     "name": "stderr",
     "output_type": "stream",
     "text": [
      "Child returned 0\n"
     ]
    },
    {
     "name": "stdout",
     "output_type": "stream",
     "text": [
      "scp -r yuncong@gcn:/home/yuncong/csd395/CSHL_cells_v2/detected_cells/MD589/MD589-N32-2015.07.30-18.12.36_MD589_1_0094/ /home/yuncong/CSHL_cells_v2/detected_cells/MD589/\n"
     ]
    },
    {
     "name": "stderr",
     "output_type": "stream",
     "text": [
      "Child returned 0\n"
     ]
    },
    {
     "name": "stdout",
     "output_type": "stream",
     "text": [
      "cellprofiler -c --file-list=/tmp/cellprofiler_filelist.txt -p /home/yuncong/CSHL_cells_v2/SegmentCells.cppipe\n"
     ]
    },
    {
     "name": "stderr",
     "output_type": "stream",
     "text": [
      "Child returned 0\n",
      "Cell profiler: 215.72 seconds.\n",
      "Child returned 0\n",
      "Child returned 0\n",
      "Child returned 0\n",
      "Child returned 0\n"
     ]
    },
    {
     "name": "stdout",
     "output_type": "stream",
     "text": [
      "rm /home/yuncong/CSHL_cells_v2/detected_cells/MD589/MD589-N32-2015.07.30-18.12.36_MD589_1_0094/MD589-N32-2015.07.30-18.12.36_MD589_1_0094_image_inverted_00_labeled.mat\n",
      "rm /home/yuncong/CSHL_cells_v2/detected_cells/MD589/MD589-N32-2015.07.30-18.12.36_MD589_1_0094/MD589-N32-2015.07.30-18.12.36_MD589_1_0094_image_inverted_01_labeled.mat\n",
      "rm /home/yuncong/CSHL_cells_v2/detected_cells/MD589/MD589-N32-2015.07.30-18.12.36_MD589_1_0094/MD589-N32-2015.07.30-18.12.36_MD589_1_0094_image_inverted_02_labeled.mat\n",
      "rm /home/yuncong/CSHL_cells_v2/detected_cells/MD589/MD589-N32-2015.07.30-18.12.36_MD589_1_0094/MD589-N32-2015.07.30-18.12.36_MD589_1_0094_image_inverted_03_labeled.mat\n",
      "rm /home/yuncong/CSHL_cells_v2/detected_cells/MD589/MD589-N32-2015.07.30-18.12.36_MD589_1_0094/MD589-N32-2015.07.30-18.12.36_MD589_1_0094_image_inverted_04_labeled.mat\n"
     ]
    },
    {
     "name": "stderr",
     "output_type": "stream",
     "text": [
      "Child returned 0\n",
      "Child returned 0\n",
      "Child returned 0\n",
      "Child returned 0\n",
      "Child returned 0\n",
      "Child returned 0\n",
      "Child returned 0\n",
      "Child returned 0\n"
     ]
    },
    {
     "name": "stdout",
     "output_type": "stream",
     "text": [
      "rm /home/yuncong/CSHL_cells_v2/detected_cells/MD589/MD589-N32-2015.07.30-18.12.36_MD589_1_0094/MD589-N32-2015.07.30-18.12.36_MD589_1_0094_image_inverted_05_labeled.mat\n",
      "rm /home/yuncong/CSHL_cells_v2/detected_cells/MD589/MD589-N32-2015.07.30-18.12.36_MD589_1_0094/MD589-N32-2015.07.30-18.12.36_MD589_1_0094_image_inverted_06_labeled.mat\n",
      "rm /home/yuncong/CSHL_cells_v2/detected_cells/MD589/MD589-N32-2015.07.30-18.12.36_MD589_1_0094/MD589-N32-2015.07.30-18.12.36_MD589_1_0094_image_inverted_07_labeled.mat\n",
      "rm /home/yuncong/CSHL_cells_v2/detected_cells/MD589/MD589-N32-2015.07.30-18.12.36_MD589_1_0094/MD589-N32-2015.07.30-18.12.36_MD589_1_0094_image_inverted_08_labeled.mat\n",
      "rm /home/yuncong/CSHL_cells_v2/detected_cells/MD589/MD589-N32-2015.07.30-18.12.36_MD589_1_0094/MD589-N32-2015.07.30-18.12.36_MD589_1_0094_image_inverted_09_labeled.mat\n",
      "rm /home/yuncong/CSHL_cells_v2/detected_cells/MD589/MD589-N32-2015.07.30-18.12.36_MD589_1_0094/MD589-N32-2015.07.30-18.12.36_MD589_1_0094_image_inverted_10_labeled.mat\n",
      "rm /home/yuncong/CSHL_cells_v2/detected_cells/MD589/MD589-N32-2015.07.30-18.12.36_MD589_1_0094/MD589-N32-2015.07.30-18.12.36_MD589_1_0094_image_inverted_11_labeled.mat\n",
      "cellprofiler -c --file-list=/tmp/cellprofiler_filelist.txt -p /home/yuncong/CSHL_cells_v2/SegmentCells.cppipe\n"
     ]
    },
    {
     "name": "stderr",
     "output_type": "stream",
     "text": [
      "Child returned 0\n",
      "Cell profiler: 220.34 seconds.\n",
      "Child returned 0\n",
      "Child returned 0\n",
      "Child returned 0\n",
      "Child returned 0\n"
     ]
    },
    {
     "name": "stdout",
     "output_type": "stream",
     "text": [
      "rm /home/yuncong/CSHL_cells_v2/detected_cells/MD589/MD589-N34-2015.07.30-18.20.43_MD589_2_0101/MD589-N34-2015.07.30-18.20.43_MD589_2_0101_image_inverted_00_labeled.mat\n",
      "rm /home/yuncong/CSHL_cells_v2/detected_cells/MD589/MD589-N34-2015.07.30-18.20.43_MD589_2_0101/MD589-N34-2015.07.30-18.20.43_MD589_2_0101_image_inverted_01_labeled.mat\n",
      "rm /home/yuncong/CSHL_cells_v2/detected_cells/MD589/MD589-N34-2015.07.30-18.20.43_MD589_2_0101/MD589-N34-2015.07.30-18.20.43_MD589_2_0101_image_inverted_02_labeled.mat\n",
      "rm /home/yuncong/CSHL_cells_v2/detected_cells/MD589/MD589-N34-2015.07.30-18.20.43_MD589_2_0101/MD589-N34-2015.07.30-18.20.43_MD589_2_0101_image_inverted_03_labeled.mat\n",
      "rm /home/yuncong/CSHL_cells_v2/detected_cells/MD589/MD589-N34-2015.07.30-18.20.43_MD589_2_0101/MD589-N34-2015.07.30-18.20.43_MD589_2_0101_image_inverted_04_labeled.mat\n"
     ]
    },
    {
     "name": "stderr",
     "output_type": "stream",
     "text": [
      "Child returned 0\n",
      "Child returned 0\n",
      "Child returned 0\n",
      "Child returned 0\n",
      "Child returned 0\n",
      "Child returned 0\n"
     ]
    },
    {
     "name": "stdout",
     "output_type": "stream",
     "text": [
      "rm /home/yuncong/CSHL_cells_v2/detected_cells/MD589/MD589-N34-2015.07.30-18.20.43_MD589_2_0101/MD589-N34-2015.07.30-18.20.43_MD589_2_0101_image_inverted_05_labeled.mat\n",
      "rm /home/yuncong/CSHL_cells_v2/detected_cells/MD589/MD589-N34-2015.07.30-18.20.43_MD589_2_0101/MD589-N34-2015.07.30-18.20.43_MD589_2_0101_image_inverted_06_labeled.mat\n",
      "rm /home/yuncong/CSHL_cells_v2/detected_cells/MD589/MD589-N34-2015.07.30-18.20.43_MD589_2_0101/MD589-N34-2015.07.30-18.20.43_MD589_2_0101_image_inverted_07_labeled.mat\n",
      "rm /home/yuncong/CSHL_cells_v2/detected_cells/MD589/MD589-N34-2015.07.30-18.20.43_MD589_2_0101/MD589-N34-2015.07.30-18.20.43_MD589_2_0101_image_inverted_08_labeled.mat\n",
      "rm /home/yuncong/CSHL_cells_v2/detected_cells/MD589/MD589-N34-2015.07.30-18.20.43_MD589_2_0101/MD589-N34-2015.07.30-18.20.43_MD589_2_0101_image_inverted_09_labeled.mat\n",
      "rm /home/yuncong/CSHL_cells_v2/detected_cells/MD589/MD589-N34-2015.07.30-18.20.43_MD589_2_0101/MD589-N34-2015.07.30-18.20.43_MD589_2_0101_image_inverted_10_labeled.mat\n",
      "rm /home/yuncong/CSHL_cells_v2/detected_cells/MD589/MD589-N34-2015.07.30-18.20.43_MD589_2_0101/MD589-N34-2015.07.30-18.20.43_MD589_2_0101_image_inverted_11_labeled.mat\n"
     ]
    },
    {
     "name": "stderr",
     "output_type": "stream",
     "text": [
      "Child returned 0\n",
      "Child returned 0\n"
     ]
    },
    {
     "name": "stdout",
     "output_type": "stream",
     "text": [
      "scp -r yuncong@gcn:/home/yuncong/csd395/CSHL_cells_v2/detected_cells/MD589/MD589-N37-2015.07.30-18.32.51_MD589_1_0109/ /home/yuncong/CSHL_cells_v2/detected_cells/MD589/\n"
     ]
    },
    {
     "name": "stderr",
     "output_type": "stream",
     "text": [
      "Child returned 0\n"
     ]
    },
    {
     "name": "stdout",
     "output_type": "stream",
     "text": [
      "cellprofiler -c --file-list=/tmp/cellprofiler_filelist.txt -p /home/yuncong/CSHL_cells_v2/SegmentCells.cppipe\n"
     ]
    },
    {
     "name": "stderr",
     "output_type": "stream",
     "text": [
      "Child returned 0\n",
      "Cell profiler: 214.64 seconds.\n",
      "Child returned 0\n",
      "Child returned 0\n",
      "Child returned 0\n",
      "Child returned 0\n",
      "Child returned 0\n"
     ]
    },
    {
     "name": "stdout",
     "output_type": "stream",
     "text": [
      "rm /home/yuncong/CSHL_cells_v2/detected_cells/MD589/MD589-N37-2015.07.30-18.32.51_MD589_1_0109/MD589-N37-2015.07.30-18.32.51_MD589_1_0109_image_inverted_00_labeled.mat\n",
      "rm /home/yuncong/CSHL_cells_v2/detected_cells/MD589/MD589-N37-2015.07.30-18.32.51_MD589_1_0109/MD589-N37-2015.07.30-18.32.51_MD589_1_0109_image_inverted_01_labeled.mat\n",
      "rm /home/yuncong/CSHL_cells_v2/detected_cells/MD589/MD589-N37-2015.07.30-18.32.51_MD589_1_0109/MD589-N37-2015.07.30-18.32.51_MD589_1_0109_image_inverted_02_labeled.mat\n",
      "rm /home/yuncong/CSHL_cells_v2/detected_cells/MD589/MD589-N37-2015.07.30-18.32.51_MD589_1_0109/MD589-N37-2015.07.30-18.32.51_MD589_1_0109_image_inverted_03_labeled.mat\n",
      "rm /home/yuncong/CSHL_cells_v2/detected_cells/MD589/MD589-N37-2015.07.30-18.32.51_MD589_1_0109/MD589-N37-2015.07.30-18.32.51_MD589_1_0109_image_inverted_04_labeled.mat\n",
      "rm /home/yuncong/CSHL_cells_v2/detected_cells/MD589/MD589-N37-2015.07.30-18.32.51_MD589_1_0109/MD589-N37-2015.07.30-18.32.51_MD589_1_0109_image_inverted_05_labeled.mat\n"
     ]
    },
    {
     "name": "stderr",
     "output_type": "stream",
     "text": [
      "Child returned 0\n",
      "Child returned 0\n",
      "Child returned 0\n",
      "Child returned 0\n",
      "Child returned 0\n",
      "Child returned 0\n",
      "Child returned 0\n"
     ]
    },
    {
     "name": "stdout",
     "output_type": "stream",
     "text": [
      "rm /home/yuncong/CSHL_cells_v2/detected_cells/MD589/MD589-N37-2015.07.30-18.32.51_MD589_1_0109/MD589-N37-2015.07.30-18.32.51_MD589_1_0109_image_inverted_06_labeled.mat\n",
      "rm /home/yuncong/CSHL_cells_v2/detected_cells/MD589/MD589-N37-2015.07.30-18.32.51_MD589_1_0109/MD589-N37-2015.07.30-18.32.51_MD589_1_0109_image_inverted_07_labeled.mat\n",
      "rm /home/yuncong/CSHL_cells_v2/detected_cells/MD589/MD589-N37-2015.07.30-18.32.51_MD589_1_0109/MD589-N37-2015.07.30-18.32.51_MD589_1_0109_image_inverted_08_labeled.mat\n",
      "rm /home/yuncong/CSHL_cells_v2/detected_cells/MD589/MD589-N37-2015.07.30-18.32.51_MD589_1_0109/MD589-N37-2015.07.30-18.32.51_MD589_1_0109_image_inverted_09_labeled.mat\n",
      "rm /home/yuncong/CSHL_cells_v2/detected_cells/MD589/MD589-N37-2015.07.30-18.32.51_MD589_1_0109/MD589-N37-2015.07.30-18.32.51_MD589_1_0109_image_inverted_10_labeled.mat\n",
      "rm /home/yuncong/CSHL_cells_v2/detected_cells/MD589/MD589-N37-2015.07.30-18.32.51_MD589_1_0109/MD589-N37-2015.07.30-18.32.51_MD589_1_0109_image_inverted_11_labeled.mat\n",
      "scp -r yuncong@gcn:/home/yuncong/csd395/CSHL_cells_v2/detected_cells/MD589/MD589-N39-2015.07.30-18.40.43_MD589_2_0116/ /home/yuncong/CSHL_cells_v2/detected_cells/MD589/\n"
     ]
    },
    {
     "name": "stderr",
     "output_type": "stream",
     "text": [
      "Child returned 0\n"
     ]
    },
    {
     "name": "stdout",
     "output_type": "stream",
     "text": [
      "cellprofiler -c --file-list=/tmp/cellprofiler_filelist.txt -p /home/yuncong/CSHL_cells_v2/SegmentCells.cppipe\n"
     ]
    },
    {
     "name": "stderr",
     "output_type": "stream",
     "text": [
      "Child returned 0\n",
      "Cell profiler: 208.52 seconds.\n",
      "Child returned 0\n",
      "Child returned 0\n",
      "Child returned 0\n",
      "Child returned 0\n"
     ]
    },
    {
     "name": "stdout",
     "output_type": "stream",
     "text": [
      "rm /home/yuncong/CSHL_cells_v2/detected_cells/MD589/MD589-N39-2015.07.30-18.40.43_MD589_2_0116/MD589-N39-2015.07.30-18.40.43_MD589_2_0116_image_inverted_00_labeled.mat\n",
      "rm /home/yuncong/CSHL_cells_v2/detected_cells/MD589/MD589-N39-2015.07.30-18.40.43_MD589_2_0116/MD589-N39-2015.07.30-18.40.43_MD589_2_0116_image_inverted_01_labeled.mat\n",
      "rm /home/yuncong/CSHL_cells_v2/detected_cells/MD589/MD589-N39-2015.07.30-18.40.43_MD589_2_0116/MD589-N39-2015.07.30-18.40.43_MD589_2_0116_image_inverted_02_labeled.mat\n",
      "rm /home/yuncong/CSHL_cells_v2/detected_cells/MD589/MD589-N39-2015.07.30-18.40.43_MD589_2_0116/MD589-N39-2015.07.30-18.40.43_MD589_2_0116_image_inverted_03_labeled.mat\n",
      "rm /home/yuncong/CSHL_cells_v2/detected_cells/MD589/MD589-N39-2015.07.30-18.40.43_MD589_2_0116/MD589-N39-2015.07.30-18.40.43_MD589_2_0116_image_inverted_04_labeled.mat\n"
     ]
    },
    {
     "name": "stderr",
     "output_type": "stream",
     "text": [
      "Child returned 0\n",
      "Child returned 0\n",
      "Child returned 0\n",
      "Child returned 0\n",
      "Child returned 0\n",
      "Child returned 0\n",
      "Child returned 0\n"
     ]
    },
    {
     "name": "stdout",
     "output_type": "stream",
     "text": [
      "rm /home/yuncong/CSHL_cells_v2/detected_cells/MD589/MD589-N39-2015.07.30-18.40.43_MD589_2_0116/MD589-N39-2015.07.30-18.40.43_MD589_2_0116_image_inverted_05_labeled.mat\n",
      "rm /home/yuncong/CSHL_cells_v2/detected_cells/MD589/MD589-N39-2015.07.30-18.40.43_MD589_2_0116/MD589-N39-2015.07.30-18.40.43_MD589_2_0116_image_inverted_06_labeled.mat\n",
      "rm /home/yuncong/CSHL_cells_v2/detected_cells/MD589/MD589-N39-2015.07.30-18.40.43_MD589_2_0116/MD589-N39-2015.07.30-18.40.43_MD589_2_0116_image_inverted_07_labeled.mat\n",
      "rm /home/yuncong/CSHL_cells_v2/detected_cells/MD589/MD589-N39-2015.07.30-18.40.43_MD589_2_0116/MD589-N39-2015.07.30-18.40.43_MD589_2_0116_image_inverted_08_labeled.mat\n",
      "rm /home/yuncong/CSHL_cells_v2/detected_cells/MD589/MD589-N39-2015.07.30-18.40.43_MD589_2_0116/MD589-N39-2015.07.30-18.40.43_MD589_2_0116_image_inverted_09_labeled.mat\n",
      "rm /home/yuncong/CSHL_cells_v2/detected_cells/MD589/MD589-N39-2015.07.30-18.40.43_MD589_2_0116/MD589-N39-2015.07.30-18.40.43_MD589_2_0116_image_inverted_10_labeled.mat\n",
      "rm /home/yuncong/CSHL_cells_v2/detected_cells/MD589/MD589-N39-2015.07.30-18.40.43_MD589_2_0116/MD589-N39-2015.07.30-18.40.43_MD589_2_0116_image_inverted_11_labeled.mat\n"
     ]
    },
    {
     "name": "stderr",
     "output_type": "stream",
     "text": [
      "Child returned 0\n"
     ]
    },
    {
     "name": "stdout",
     "output_type": "stream",
     "text": [
      "scp -r yuncong@gcn:/home/yuncong/csd395/CSHL_cells_v2/detected_cells/MD589/MD589-N42-2015.07.30-18.52.37_MD589_1_0124/ /home/yuncong/CSHL_cells_v2/detected_cells/MD589/\n"
     ]
    },
    {
     "name": "stderr",
     "output_type": "stream",
     "text": [
      "Child returned 0\n"
     ]
    },
    {
     "name": "stdout",
     "output_type": "stream",
     "text": [
      "cellprofiler -c --file-list=/tmp/cellprofiler_filelist.txt -p /home/yuncong/CSHL_cells_v2/SegmentCells.cppipe\n"
     ]
    },
    {
     "name": "stderr",
     "output_type": "stream",
     "text": [
      "Child returned 0\n",
      "Cell profiler: 218.59 seconds.\n",
      "Child returned 0\n",
      "Child returned 0\n",
      "Child returned 0\n",
      "Child returned 0\n"
     ]
    },
    {
     "name": "stdout",
     "output_type": "stream",
     "text": [
      "rm /home/yuncong/CSHL_cells_v2/detected_cells/MD589/MD589-N42-2015.07.30-18.52.37_MD589_1_0124/MD589-N42-2015.07.30-18.52.37_MD589_1_0124_image_inverted_00_labeled.mat\n",
      "rm /home/yuncong/CSHL_cells_v2/detected_cells/MD589/MD589-N42-2015.07.30-18.52.37_MD589_1_0124/MD589-N42-2015.07.30-18.52.37_MD589_1_0124_image_inverted_01_labeled.mat\n",
      "rm /home/yuncong/CSHL_cells_v2/detected_cells/MD589/MD589-N42-2015.07.30-18.52.37_MD589_1_0124/MD589-N42-2015.07.30-18.52.37_MD589_1_0124_image_inverted_02_labeled.mat\n",
      "rm /home/yuncong/CSHL_cells_v2/detected_cells/MD589/MD589-N42-2015.07.30-18.52.37_MD589_1_0124/MD589-N42-2015.07.30-18.52.37_MD589_1_0124_image_inverted_03_labeled.mat\n",
      "rm /home/yuncong/CSHL_cells_v2/detected_cells/MD589/MD589-N42-2015.07.30-18.52.37_MD589_1_0124/MD589-N42-2015.07.30-18.52.37_MD589_1_0124_image_inverted_04_labeled.mat\n"
     ]
    },
    {
     "name": "stderr",
     "output_type": "stream",
     "text": [
      "Child returned 0\n",
      "Child returned 0\n",
      "Child returned 0\n",
      "Child returned 0\n",
      "Child returned 0\n",
      "Child returned 0\n",
      "Child returned 0\n",
      "Child returned 0\n"
     ]
    },
    {
     "name": "stdout",
     "output_type": "stream",
     "text": [
      "rm /home/yuncong/CSHL_cells_v2/detected_cells/MD589/MD589-N42-2015.07.30-18.52.37_MD589_1_0124/MD589-N42-2015.07.30-18.52.37_MD589_1_0124_image_inverted_05_labeled.mat\n",
      "rm /home/yuncong/CSHL_cells_v2/detected_cells/MD589/MD589-N42-2015.07.30-18.52.37_MD589_1_0124/MD589-N42-2015.07.30-18.52.37_MD589_1_0124_image_inverted_06_labeled.mat\n",
      "rm /home/yuncong/CSHL_cells_v2/detected_cells/MD589/MD589-N42-2015.07.30-18.52.37_MD589_1_0124/MD589-N42-2015.07.30-18.52.37_MD589_1_0124_image_inverted_07_labeled.mat\n",
      "rm /home/yuncong/CSHL_cells_v2/detected_cells/MD589/MD589-N42-2015.07.30-18.52.37_MD589_1_0124/MD589-N42-2015.07.30-18.52.37_MD589_1_0124_image_inverted_08_labeled.mat\n",
      "rm /home/yuncong/CSHL_cells_v2/detected_cells/MD589/MD589-N42-2015.07.30-18.52.37_MD589_1_0124/MD589-N42-2015.07.30-18.52.37_MD589_1_0124_image_inverted_09_labeled.mat\n",
      "rm /home/yuncong/CSHL_cells_v2/detected_cells/MD589/MD589-N42-2015.07.30-18.52.37_MD589_1_0124/MD589-N42-2015.07.30-18.52.37_MD589_1_0124_image_inverted_10_labeled.mat\n",
      "rm /home/yuncong/CSHL_cells_v2/detected_cells/MD589/MD589-N42-2015.07.30-18.52.37_MD589_1_0124/MD589-N42-2015.07.30-18.52.37_MD589_1_0124_image_inverted_11_labeled.mat\n",
      "scp -r yuncong@gcn:/home/yuncong/csd395/CSHL_cells_v2/detected_cells/MD589/MD589-N44-2015.07.30-19.00.35_MD589_2_0131/ /home/yuncong/CSHL_cells_v2/detected_cells/MD589/\n"
     ]
    },
    {
     "name": "stderr",
     "output_type": "stream",
     "text": [
      "Child returned 0\n"
     ]
    },
    {
     "name": "stdout",
     "output_type": "stream",
     "text": [
      "cellprofiler -c --file-list=/tmp/cellprofiler_filelist.txt -p /home/yuncong/CSHL_cells_v2/SegmentCells.cppipe\n"
     ]
    },
    {
     "name": "stderr",
     "output_type": "stream",
     "text": [
      "Child returned 0\n",
      "Cell profiler: 235.66 seconds.\n",
      "Child returned 0\n",
      "Child returned 0\n",
      "Child returned 0\n",
      "Child returned 0\n"
     ]
    },
    {
     "name": "stdout",
     "output_type": "stream",
     "text": [
      "rm /home/yuncong/CSHL_cells_v2/detected_cells/MD589/MD589-N44-2015.07.30-19.00.35_MD589_2_0131/MD589-N44-2015.07.30-19.00.35_MD589_2_0131_image_inverted_00_labeled.mat\n",
      "rm /home/yuncong/CSHL_cells_v2/detected_cells/MD589/MD589-N44-2015.07.30-19.00.35_MD589_2_0131/MD589-N44-2015.07.30-19.00.35_MD589_2_0131_image_inverted_01_labeled.mat\n",
      "rm /home/yuncong/CSHL_cells_v2/detected_cells/MD589/MD589-N44-2015.07.30-19.00.35_MD589_2_0131/MD589-N44-2015.07.30-19.00.35_MD589_2_0131_image_inverted_02_labeled.mat\n",
      "rm /home/yuncong/CSHL_cells_v2/detected_cells/MD589/MD589-N44-2015.07.30-19.00.35_MD589_2_0131/MD589-N44-2015.07.30-19.00.35_MD589_2_0131_image_inverted_03_labeled.mat\n",
      "rm /home/yuncong/CSHL_cells_v2/detected_cells/MD589/MD589-N44-2015.07.30-19.00.35_MD589_2_0131/MD589-N44-2015.07.30-19.00.35_MD589_2_0131_image_inverted_04_labeled.mat\n"
     ]
    },
    {
     "name": "stderr",
     "output_type": "stream",
     "text": [
      "Child returned 0\n",
      "Child returned 0\n",
      "Child returned 0\n",
      "Child returned 0\n",
      "Child returned 0\n",
      "Child returned 0\n"
     ]
    },
    {
     "name": "stdout",
     "output_type": "stream",
     "text": [
      "rm /home/yuncong/CSHL_cells_v2/detected_cells/MD589/MD589-N44-2015.07.30-19.00.35_MD589_2_0131/MD589-N44-2015.07.30-19.00.35_MD589_2_0131_image_inverted_05_labeled.mat\n",
      "rm /home/yuncong/CSHL_cells_v2/detected_cells/MD589/MD589-N44-2015.07.30-19.00.35_MD589_2_0131/MD589-N44-2015.07.30-19.00.35_MD589_2_0131_image_inverted_06_labeled.mat\n",
      "rm /home/yuncong/CSHL_cells_v2/detected_cells/MD589/MD589-N44-2015.07.30-19.00.35_MD589_2_0131/MD589-N44-2015.07.30-19.00.35_MD589_2_0131_image_inverted_07_labeled.mat\n",
      "rm /home/yuncong/CSHL_cells_v2/detected_cells/MD589/MD589-N44-2015.07.30-19.00.35_MD589_2_0131/MD589-N44-2015.07.30-19.00.35_MD589_2_0131_image_inverted_08_labeled.mat\n",
      "rm /home/yuncong/CSHL_cells_v2/detected_cells/MD589/MD589-N44-2015.07.30-19.00.35_MD589_2_0131/MD589-N44-2015.07.30-19.00.35_MD589_2_0131_image_inverted_09_labeled.mat\n",
      "rm /home/yuncong/CSHL_cells_v2/detected_cells/MD589/MD589-N44-2015.07.30-19.00.35_MD589_2_0131/MD589-N44-2015.07.30-19.00.35_MD589_2_0131_image_inverted_10_labeled.mat\n",
      "rm /home/yuncong/CSHL_cells_v2/detected_cells/MD589/MD589-N44-2015.07.30-19.00.35_MD589_2_0131/MD589-N44-2015.07.30-19.00.35_MD589_2_0131_image_inverted_11_labeled.mat\n"
     ]
    },
    {
     "name": "stderr",
     "output_type": "stream",
     "text": [
      "Child returned 0\n",
      "Child returned 0\n"
     ]
    },
    {
     "name": "stdout",
     "output_type": "stream",
     "text": [
      "cellprofiler -c --file-list=/tmp/cellprofiler_filelist.txt -p /home/yuncong/CSHL_cells_v2/SegmentCells.cppipe\n"
     ]
    },
    {
     "name": "stderr",
     "output_type": "stream",
     "text": [
      "Child returned 0\n",
      "Cell profiler: 228.54 seconds.\n",
      "Child returned 0\n",
      "Child returned 0\n",
      "Child returned 0\n",
      "Child returned 0\n"
     ]
    },
    {
     "name": "stdout",
     "output_type": "stream",
     "text": [
      "rm /home/yuncong/CSHL_cells_v2/detected_cells/MD589/MD589-N47-2015.07.30-19.12.19_MD589_1_0139/MD589-N47-2015.07.30-19.12.19_MD589_1_0139_image_inverted_00_labeled.mat\n",
      "rm /home/yuncong/CSHL_cells_v2/detected_cells/MD589/MD589-N47-2015.07.30-19.12.19_MD589_1_0139/MD589-N47-2015.07.30-19.12.19_MD589_1_0139_image_inverted_01_labeled.mat\n",
      "rm /home/yuncong/CSHL_cells_v2/detected_cells/MD589/MD589-N47-2015.07.30-19.12.19_MD589_1_0139/MD589-N47-2015.07.30-19.12.19_MD589_1_0139_image_inverted_02_labeled.mat\n",
      "rm /home/yuncong/CSHL_cells_v2/detected_cells/MD589/MD589-N47-2015.07.30-19.12.19_MD589_1_0139/MD589-N47-2015.07.30-19.12.19_MD589_1_0139_image_inverted_03_labeled.mat\n",
      "rm /home/yuncong/CSHL_cells_v2/detected_cells/MD589/MD589-N47-2015.07.30-19.12.19_MD589_1_0139/MD589-N47-2015.07.30-19.12.19_MD589_1_0139_image_inverted_04_labeled.mat\n"
     ]
    },
    {
     "name": "stderr",
     "output_type": "stream",
     "text": [
      "Child returned 0\n",
      "Child returned 0\n",
      "Child returned 0\n",
      "Child returned 0\n",
      "Child returned 0\n",
      "Child returned 0\n",
      "Child returned 0\n"
     ]
    },
    {
     "name": "stdout",
     "output_type": "stream",
     "text": [
      "rm /home/yuncong/CSHL_cells_v2/detected_cells/MD589/MD589-N47-2015.07.30-19.12.19_MD589_1_0139/MD589-N47-2015.07.30-19.12.19_MD589_1_0139_image_inverted_05_labeled.mat\n",
      "rm /home/yuncong/CSHL_cells_v2/detected_cells/MD589/MD589-N47-2015.07.30-19.12.19_MD589_1_0139/MD589-N47-2015.07.30-19.12.19_MD589_1_0139_image_inverted_06_labeled.mat\n",
      "rm /home/yuncong/CSHL_cells_v2/detected_cells/MD589/MD589-N47-2015.07.30-19.12.19_MD589_1_0139/MD589-N47-2015.07.30-19.12.19_MD589_1_0139_image_inverted_07_labeled.mat\n",
      "rm /home/yuncong/CSHL_cells_v2/detected_cells/MD589/MD589-N47-2015.07.30-19.12.19_MD589_1_0139/MD589-N47-2015.07.30-19.12.19_MD589_1_0139_image_inverted_08_labeled.mat\n",
      "rm /home/yuncong/CSHL_cells_v2/detected_cells/MD589/MD589-N47-2015.07.30-19.12.19_MD589_1_0139/MD589-N47-2015.07.30-19.12.19_MD589_1_0139_image_inverted_09_labeled.mat\n",
      "rm /home/yuncong/CSHL_cells_v2/detected_cells/MD589/MD589-N47-2015.07.30-19.12.19_MD589_1_0139/MD589-N47-2015.07.30-19.12.19_MD589_1_0139_image_inverted_10_labeled.mat\n",
      "rm /home/yuncong/CSHL_cells_v2/detected_cells/MD589/MD589-N47-2015.07.30-19.12.19_MD589_1_0139/MD589-N47-2015.07.30-19.12.19_MD589_1_0139_image_inverted_11_labeled.mat\n"
     ]
    },
    {
     "name": "stderr",
     "output_type": "stream",
     "text": [
      "Child returned 0\n"
     ]
    },
    {
     "name": "stdout",
     "output_type": "stream",
     "text": [
      "scp -r yuncong@gcn:/home/yuncong/csd395/CSHL_cells_v2/detected_cells/MD589/MD589-N49-2015.07.30-19.20.15_MD589_2_0146/ /home/yuncong/CSHL_cells_v2/detected_cells/MD589/\n"
     ]
    },
    {
     "name": "stderr",
     "output_type": "stream",
     "text": [
      "Child returned 0\n"
     ]
    },
    {
     "name": "stdout",
     "output_type": "stream",
     "text": [
      "cellprofiler -c --file-list=/tmp/cellprofiler_filelist.txt -p /home/yuncong/CSHL_cells_v2/SegmentCells.cppipe\n"
     ]
    },
    {
     "name": "stderr",
     "output_type": "stream",
     "text": [
      "Child returned 0\n",
      "Cell profiler: 221.80 seconds.\n",
      "Child returned 0\n",
      "Child returned 0\n",
      "Child returned 0\n",
      "Child returned 0\n"
     ]
    },
    {
     "name": "stdout",
     "output_type": "stream",
     "text": [
      "rm /home/yuncong/CSHL_cells_v2/detected_cells/MD589/MD589-N49-2015.07.30-19.20.15_MD589_2_0146/MD589-N49-2015.07.30-19.20.15_MD589_2_0146_image_inverted_00_labeled.mat\n",
      "rm /home/yuncong/CSHL_cells_v2/detected_cells/MD589/MD589-N49-2015.07.30-19.20.15_MD589_2_0146/MD589-N49-2015.07.30-19.20.15_MD589_2_0146_image_inverted_01_labeled.mat\n",
      "rm /home/yuncong/CSHL_cells_v2/detected_cells/MD589/MD589-N49-2015.07.30-19.20.15_MD589_2_0146/MD589-N49-2015.07.30-19.20.15_MD589_2_0146_image_inverted_02_labeled.mat\n",
      "rm /home/yuncong/CSHL_cells_v2/detected_cells/MD589/MD589-N49-2015.07.30-19.20.15_MD589_2_0146/MD589-N49-2015.07.30-19.20.15_MD589_2_0146_image_inverted_03_labeled.mat\n",
      "rm /home/yuncong/CSHL_cells_v2/detected_cells/MD589/MD589-N49-2015.07.30-19.20.15_MD589_2_0146/MD589-N49-2015.07.30-19.20.15_MD589_2_0146_image_inverted_04_labeled.mat\n"
     ]
    },
    {
     "name": "stderr",
     "output_type": "stream",
     "text": [
      "Child returned 0\n",
      "Child returned 0\n",
      "Child returned 0\n",
      "Child returned 0\n",
      "Child returned 0\n",
      "Child returned 0\n"
     ]
    },
    {
     "name": "stdout",
     "output_type": "stream",
     "text": [
      "rm /home/yuncong/CSHL_cells_v2/detected_cells/MD589/MD589-N49-2015.07.30-19.20.15_MD589_2_0146/MD589-N49-2015.07.30-19.20.15_MD589_2_0146_image_inverted_05_labeled.mat\n",
      "rm /home/yuncong/CSHL_cells_v2/detected_cells/MD589/MD589-N49-2015.07.30-19.20.15_MD589_2_0146/MD589-N49-2015.07.30-19.20.15_MD589_2_0146_image_inverted_06_labeled.mat\n",
      "rm /home/yuncong/CSHL_cells_v2/detected_cells/MD589/MD589-N49-2015.07.30-19.20.15_MD589_2_0146/MD589-N49-2015.07.30-19.20.15_MD589_2_0146_image_inverted_07_labeled.mat\n",
      "rm /home/yuncong/CSHL_cells_v2/detected_cells/MD589/MD589-N49-2015.07.30-19.20.15_MD589_2_0146/MD589-N49-2015.07.30-19.20.15_MD589_2_0146_image_inverted_08_labeled.mat\n",
      "rm /home/yuncong/CSHL_cells_v2/detected_cells/MD589/MD589-N49-2015.07.30-19.20.15_MD589_2_0146/MD589-N49-2015.07.30-19.20.15_MD589_2_0146_image_inverted_09_labeled.mat\n",
      "rm /home/yuncong/CSHL_cells_v2/detected_cells/MD589/MD589-N49-2015.07.30-19.20.15_MD589_2_0146/MD589-N49-2015.07.30-19.20.15_MD589_2_0146_image_inverted_10_labeled.mat\n",
      "rm /home/yuncong/CSHL_cells_v2/detected_cells/MD589/MD589-N49-2015.07.30-19.20.15_MD589_2_0146/MD589-N49-2015.07.30-19.20.15_MD589_2_0146_image_inverted_11_labeled.mat\n"
     ]
    },
    {
     "name": "stderr",
     "output_type": "stream",
     "text": [
      "Child returned 0\n",
      "Child returned 0\n"
     ]
    },
    {
     "name": "stdout",
     "output_type": "stream",
     "text": [
      "scp -r yuncong@gcn:/home/yuncong/csd395/CSHL_cells_v2/detected_cells/MD589/MD589-N51-2015.07.30-19.28.17_MD589_3_0153/ /home/yuncong/CSHL_cells_v2/detected_cells/MD589/\n"
     ]
    },
    {
     "name": "stderr",
     "output_type": "stream",
     "text": [
      "Child returned 0\n"
     ]
    },
    {
     "name": "stdout",
     "output_type": "stream",
     "text": [
      "cellprofiler -c --file-list=/tmp/cellprofiler_filelist.txt -p /home/yuncong/CSHL_cells_v2/SegmentCells.cppipe\n"
     ]
    },
    {
     "name": "stderr",
     "output_type": "stream",
     "text": [
      "Child returned 0\n",
      "Cell profiler: 217.01 seconds.\n",
      "Child returned 0\n",
      "Child returned 0\n",
      "Child returned 0\n",
      "Child returned 0\n"
     ]
    },
    {
     "name": "stdout",
     "output_type": "stream",
     "text": [
      "rm /home/yuncong/CSHL_cells_v2/detected_cells/MD589/MD589-N51-2015.07.30-19.28.17_MD589_3_0153/MD589-N51-2015.07.30-19.28.17_MD589_3_0153_image_inverted_00_labeled.mat\n",
      "rm /home/yuncong/CSHL_cells_v2/detected_cells/MD589/MD589-N51-2015.07.30-19.28.17_MD589_3_0153/MD589-N51-2015.07.30-19.28.17_MD589_3_0153_image_inverted_01_labeled.mat\n",
      "rm /home/yuncong/CSHL_cells_v2/detected_cells/MD589/MD589-N51-2015.07.30-19.28.17_MD589_3_0153/MD589-N51-2015.07.30-19.28.17_MD589_3_0153_image_inverted_02_labeled.mat\n",
      "rm /home/yuncong/CSHL_cells_v2/detected_cells/MD589/MD589-N51-2015.07.30-19.28.17_MD589_3_0153/MD589-N51-2015.07.30-19.28.17_MD589_3_0153_image_inverted_03_labeled.mat\n",
      "rm /home/yuncong/CSHL_cells_v2/detected_cells/MD589/MD589-N51-2015.07.30-19.28.17_MD589_3_0153/MD589-N51-2015.07.30-19.28.17_MD589_3_0153_image_inverted_04_labeled.mat\n"
     ]
    },
    {
     "name": "stderr",
     "output_type": "stream",
     "text": [
      "Child returned 0\n",
      "Child returned 0\n",
      "Child returned 0\n",
      "Child returned 0\n",
      "Child returned 0\n",
      "Child returned 0\n"
     ]
    },
    {
     "name": "stdout",
     "output_type": "stream",
     "text": [
      "rm /home/yuncong/CSHL_cells_v2/detected_cells/MD589/MD589-N51-2015.07.30-19.28.17_MD589_3_0153/MD589-N51-2015.07.30-19.28.17_MD589_3_0153_image_inverted_05_labeled.mat\n",
      "rm /home/yuncong/CSHL_cells_v2/detected_cells/MD589/MD589-N51-2015.07.30-19.28.17_MD589_3_0153/MD589-N51-2015.07.30-19.28.17_MD589_3_0153_image_inverted_06_labeled.mat\n",
      "rm /home/yuncong/CSHL_cells_v2/detected_cells/MD589/MD589-N51-2015.07.30-19.28.17_MD589_3_0153/MD589-N51-2015.07.30-19.28.17_MD589_3_0153_image_inverted_07_labeled.mat\n",
      "rm /home/yuncong/CSHL_cells_v2/detected_cells/MD589/MD589-N51-2015.07.30-19.28.17_MD589_3_0153/MD589-N51-2015.07.30-19.28.17_MD589_3_0153_image_inverted_08_labeled.mat\n",
      "rm /home/yuncong/CSHL_cells_v2/detected_cells/MD589/MD589-N51-2015.07.30-19.28.17_MD589_3_0153/MD589-N51-2015.07.30-19.28.17_MD589_3_0153_image_inverted_09_labeled.mat\n",
      "rm /home/yuncong/CSHL_cells_v2/detected_cells/MD589/MD589-N51-2015.07.30-19.28.17_MD589_3_0153/MD589-N51-2015.07.30-19.28.17_MD589_3_0153_image_inverted_10_labeled.mat\n",
      "rm /home/yuncong/CSHL_cells_v2/detected_cells/MD589/MD589-N51-2015.07.30-19.28.17_MD589_3_0153/MD589-N51-2015.07.30-19.28.17_MD589_3_0153_image_inverted_11_labeled.mat\n"
     ]
    },
    {
     "name": "stderr",
     "output_type": "stream",
     "text": [
      "Child returned 0\n",
      "Child returned 0\n"
     ]
    },
    {
     "name": "stdout",
     "output_type": "stream",
     "text": [
      "scp -r yuncong@gcn:/home/yuncong/csd395/CSHL_cells_v2/detected_cells/MD589/MD589-N53-2015.07.30-19.39.11_MD589_2_0158/ /home/yuncong/CSHL_cells_v2/detected_cells/MD589/\n"
     ]
    },
    {
     "name": "stderr",
     "output_type": "stream",
     "text": [
      "Child returned 0\n"
     ]
    },
    {
     "name": "stdout",
     "output_type": "stream",
     "text": [
      "cellprofiler -c --file-list=/tmp/cellprofiler_filelist.txt -p /home/yuncong/CSHL_cells_v2/SegmentCells.cppipe\n"
     ]
    },
    {
     "name": "stderr",
     "output_type": "stream",
     "text": [
      "Child returned 0\n",
      "Cell profiler: 227.17 seconds.\n",
      "Child returned 0\n",
      "Child returned 0\n",
      "Child returned 0\n",
      "Child returned 0\n",
      "Child returned 0\n"
     ]
    },
    {
     "name": "stdout",
     "output_type": "stream",
     "text": [
      "rm /home/yuncong/CSHL_cells_v2/detected_cells/MD589/MD589-N53-2015.07.30-19.39.11_MD589_2_0158/MD589-N53-2015.07.30-19.39.11_MD589_2_0158_image_inverted_00_labeled.mat\n",
      "rm /home/yuncong/CSHL_cells_v2/detected_cells/MD589/MD589-N53-2015.07.30-19.39.11_MD589_2_0158/MD589-N53-2015.07.30-19.39.11_MD589_2_0158_image_inverted_01_labeled.mat\n",
      "rm /home/yuncong/CSHL_cells_v2/detected_cells/MD589/MD589-N53-2015.07.30-19.39.11_MD589_2_0158/MD589-N53-2015.07.30-19.39.11_MD589_2_0158_image_inverted_02_labeled.mat\n",
      "rm /home/yuncong/CSHL_cells_v2/detected_cells/MD589/MD589-N53-2015.07.30-19.39.11_MD589_2_0158/MD589-N53-2015.07.30-19.39.11_MD589_2_0158_image_inverted_03_labeled.mat\n",
      "rm /home/yuncong/CSHL_cells_v2/detected_cells/MD589/MD589-N53-2015.07.30-19.39.11_MD589_2_0158/MD589-N53-2015.07.30-19.39.11_MD589_2_0158_image_inverted_04_labeled.mat\n",
      "rm /home/yuncong/CSHL_cells_v2/detected_cells/MD589/MD589-N53-2015.07.30-19.39.11_MD589_2_0158/MD589-N53-2015.07.30-19.39.11_MD589_2_0158_image_inverted_05_labeled.mat\n",
      "rm /home/yuncong/CSHL_cells_v2/detected_cells/MD589/MD589-N53-2015.07.30-19.39.11_MD589_2_0158/MD589-N53-2015.07.30-19.39.11_MD589_2_0158_image_inverted_06_labeled.mat\n",
      "rm /home/yuncong/CSHL_cells_v2/detected_cells/MD589/MD589-N53-2015.07.30-19.39.11_MD589_2_0158/MD589-N53-2015.07.30-19.39.11_MD589_2_0158_image_inverted_07_labeled.mat\n",
      "rm /home/yuncong/CSHL_cells_v2/detected_cells/MD589/MD589-N53-2015.07.30-19.39.11_MD589_2_0158/MD589-N53-2015.07.30-19.39.11_MD589_2_0158_image_inverted_08_labeled.mat\n",
      "rm /home/yuncong/CSHL_cells_v2/detected_cells/MD589/MD589-N53-2015.07.30-19.39.11_MD589_2_0158/MD589-N53-2015.07.30-19.39.11_MD589_2_0158_image_inverted_09_labeled.mat\n",
      "rm /home/yuncong/CSHL_cells_v2/detected_cells/MD589/MD589-N53-2015.07.30-19.39.11_MD589_2_0158/MD589-N53-2015.07.30-19.39.11_MD589_2_0158_image_inverted_10_labeled.mat\n",
      "rm /home/yuncong/CSHL_cells_v2/detected_cells/MD589/MD589-N53-2015.07.30-19.39.11_MD589_2_0158/MD589-N53-2015.07.30-19.39.11_MD589_2_0158_image_inverted_11_labeled.mat\n"
     ]
    },
    {
     "name": "stderr",
     "output_type": "stream",
     "text": [
      "Child returned 0\n",
      "Child returned 0\n",
      "Child returned 0\n",
      "Child returned 0\n",
      "Child returned 0\n",
      "Child returned 0\n",
      "Child returned 0\n"
     ]
    },
    {
     "name": "stdout",
     "output_type": "stream",
     "text": [
      "scp -r yuncong@gcn:/home/yuncong/csd395/CSHL_cells_v2/detected_cells/MD589/MD589-N55-2015.07.30-19.49.42_MD589_1_0163/ /home/yuncong/CSHL_cells_v2/detected_cells/MD589/\n"
     ]
    },
    {
     "name": "stderr",
     "output_type": "stream",
     "text": [
      "Child returned 0\n"
     ]
    },
    {
     "name": "stdout",
     "output_type": "stream",
     "text": [
      "cellprofiler -c --file-list=/tmp/cellprofiler_filelist.txt -p /home/yuncong/CSHL_cells_v2/SegmentCells.cppipe\n"
     ]
    },
    {
     "name": "stderr",
     "output_type": "stream",
     "text": [
      "Child returned 0\n",
      "Cell profiler: 230.34 seconds.\n",
      "Child returned 0\n",
      "Child returned 0\n",
      "Child returned 0\n",
      "Child returned 0\n"
     ]
    },
    {
     "name": "stdout",
     "output_type": "stream",
     "text": [
      "rm /home/yuncong/CSHL_cells_v2/detected_cells/MD589/MD589-N55-2015.07.30-19.49.42_MD589_1_0163/MD589-N55-2015.07.30-19.49.42_MD589_1_0163_image_inverted_00_labeled.mat\n",
      "rm /home/yuncong/CSHL_cells_v2/detected_cells/MD589/MD589-N55-2015.07.30-19.49.42_MD589_1_0163/MD589-N55-2015.07.30-19.49.42_MD589_1_0163_image_inverted_01_labeled.mat\n",
      "rm /home/yuncong/CSHL_cells_v2/detected_cells/MD589/MD589-N55-2015.07.30-19.49.42_MD589_1_0163/MD589-N55-2015.07.30-19.49.42_MD589_1_0163_image_inverted_02_labeled.mat\n",
      "rm /home/yuncong/CSHL_cells_v2/detected_cells/MD589/MD589-N55-2015.07.30-19.49.42_MD589_1_0163/MD589-N55-2015.07.30-19.49.42_MD589_1_0163_image_inverted_03_labeled.mat\n",
      "rm /home/yuncong/CSHL_cells_v2/detected_cells/MD589/MD589-N55-2015.07.30-19.49.42_MD589_1_0163/MD589-N55-2015.07.30-19.49.42_MD589_1_0163_image_inverted_04_labeled.mat\n"
     ]
    },
    {
     "name": "stderr",
     "output_type": "stream",
     "text": [
      "Child returned 0\n",
      "Child returned 0\n",
      "Child returned 0\n",
      "Child returned 0\n",
      "Child returned 0\n",
      "Child returned 0\n"
     ]
    },
    {
     "name": "stdout",
     "output_type": "stream",
     "text": [
      "rm /home/yuncong/CSHL_cells_v2/detected_cells/MD589/MD589-N55-2015.07.30-19.49.42_MD589_1_0163/MD589-N55-2015.07.30-19.49.42_MD589_1_0163_image_inverted_05_labeled.mat\n",
      "rm /home/yuncong/CSHL_cells_v2/detected_cells/MD589/MD589-N55-2015.07.30-19.49.42_MD589_1_0163/MD589-N55-2015.07.30-19.49.42_MD589_1_0163_image_inverted_06_labeled.mat\n",
      "rm /home/yuncong/CSHL_cells_v2/detected_cells/MD589/MD589-N55-2015.07.30-19.49.42_MD589_1_0163/MD589-N55-2015.07.30-19.49.42_MD589_1_0163_image_inverted_07_labeled.mat\n",
      "rm /home/yuncong/CSHL_cells_v2/detected_cells/MD589/MD589-N55-2015.07.30-19.49.42_MD589_1_0163/MD589-N55-2015.07.30-19.49.42_MD589_1_0163_image_inverted_08_labeled.mat\n",
      "rm /home/yuncong/CSHL_cells_v2/detected_cells/MD589/MD589-N55-2015.07.30-19.49.42_MD589_1_0163/MD589-N55-2015.07.30-19.49.42_MD589_1_0163_image_inverted_09_labeled.mat\n",
      "rm /home/yuncong/CSHL_cells_v2/detected_cells/MD589/MD589-N55-2015.07.30-19.49.42_MD589_1_0163/MD589-N55-2015.07.30-19.49.42_MD589_1_0163_image_inverted_10_labeled.mat\n",
      "rm /home/yuncong/CSHL_cells_v2/detected_cells/MD589/MD589-N55-2015.07.30-19.49.42_MD589_1_0163/MD589-N55-2015.07.30-19.49.42_MD589_1_0163_image_inverted_11_labeled.mat\n"
     ]
    },
    {
     "name": "stderr",
     "output_type": "stream",
     "text": [
      "Child returned 0\n",
      "Child returned 0\n"
     ]
    },
    {
     "name": "stdout",
     "output_type": "stream",
     "text": [
      "scp -r yuncong@gcn:/home/yuncong/csd395/CSHL_cells_v2/detected_cells/MD589/MD589-N56-2015.07.30-19.54.42_MD589_3_0168/ /home/yuncong/CSHL_cells_v2/detected_cells/MD589/\n"
     ]
    },
    {
     "name": "stderr",
     "output_type": "stream",
     "text": [
      "Child returned 0\n"
     ]
    },
    {
     "name": "stdout",
     "output_type": "stream",
     "text": [
      "cellprofiler -c --file-list=/tmp/cellprofiler_filelist.txt -p /home/yuncong/CSHL_cells_v2/SegmentCells.cppipe\n"
     ]
    },
    {
     "name": "stderr",
     "output_type": "stream",
     "text": [
      "Child returned 0\n",
      "Cell profiler: 244.83 seconds.\n",
      "Child returned 0\n",
      "Child returned 0\n",
      "Child returned 0\n",
      "Child returned 0\n"
     ]
    },
    {
     "name": "stdout",
     "output_type": "stream",
     "text": [
      "rm /home/yuncong/CSHL_cells_v2/detected_cells/MD589/MD589-N56-2015.07.30-19.54.42_MD589_3_0168/MD589-N56-2015.07.30-19.54.42_MD589_3_0168_image_inverted_00_labeled.mat\n",
      "rm /home/yuncong/CSHL_cells_v2/detected_cells/MD589/MD589-N56-2015.07.30-19.54.42_MD589_3_0168/MD589-N56-2015.07.30-19.54.42_MD589_3_0168_image_inverted_01_labeled.mat\n",
      "rm /home/yuncong/CSHL_cells_v2/detected_cells/MD589/MD589-N56-2015.07.30-19.54.42_MD589_3_0168/MD589-N56-2015.07.30-19.54.42_MD589_3_0168_image_inverted_02_labeled.mat\n",
      "rm /home/yuncong/CSHL_cells_v2/detected_cells/MD589/MD589-N56-2015.07.30-19.54.42_MD589_3_0168/MD589-N56-2015.07.30-19.54.42_MD589_3_0168_image_inverted_03_labeled.mat\n",
      "rm /home/yuncong/CSHL_cells_v2/detected_cells/MD589/MD589-N56-2015.07.30-19.54.42_MD589_3_0168/MD589-N56-2015.07.30-19.54.42_MD589_3_0168_image_inverted_04_labeled.mat\n"
     ]
    },
    {
     "name": "stderr",
     "output_type": "stream",
     "text": [
      "Child returned 0\n",
      "Child returned 0\n",
      "Child returned 0\n",
      "Child returned 0\n",
      "Child returned 0\n",
      "Child returned 0\n",
      "Child returned 0\n"
     ]
    },
    {
     "name": "stdout",
     "output_type": "stream",
     "text": [
      "rm /home/yuncong/CSHL_cells_v2/detected_cells/MD589/MD589-N56-2015.07.30-19.54.42_MD589_3_0168/MD589-N56-2015.07.30-19.54.42_MD589_3_0168_image_inverted_05_labeled.mat\n",
      "rm /home/yuncong/CSHL_cells_v2/detected_cells/MD589/MD589-N56-2015.07.30-19.54.42_MD589_3_0168/MD589-N56-2015.07.30-19.54.42_MD589_3_0168_image_inverted_06_labeled.mat\n",
      "rm /home/yuncong/CSHL_cells_v2/detected_cells/MD589/MD589-N56-2015.07.30-19.54.42_MD589_3_0168/MD589-N56-2015.07.30-19.54.42_MD589_3_0168_image_inverted_07_labeled.mat\n",
      "rm /home/yuncong/CSHL_cells_v2/detected_cells/MD589/MD589-N56-2015.07.30-19.54.42_MD589_3_0168/MD589-N56-2015.07.30-19.54.42_MD589_3_0168_image_inverted_08_labeled.mat\n",
      "rm /home/yuncong/CSHL_cells_v2/detected_cells/MD589/MD589-N56-2015.07.30-19.54.42_MD589_3_0168/MD589-N56-2015.07.30-19.54.42_MD589_3_0168_image_inverted_09_labeled.mat\n",
      "rm /home/yuncong/CSHL_cells_v2/detected_cells/MD589/MD589-N56-2015.07.30-19.54.42_MD589_3_0168/MD589-N56-2015.07.30-19.54.42_MD589_3_0168_image_inverted_10_labeled.mat\n",
      "rm /home/yuncong/CSHL_cells_v2/detected_cells/MD589/MD589-N56-2015.07.30-19.54.42_MD589_3_0168/MD589-N56-2015.07.30-19.54.42_MD589_3_0168_image_inverted_11_labeled.mat\n"
     ]
    },
    {
     "name": "stderr",
     "output_type": "stream",
     "text": [
      "Child returned 0\n"
     ]
    },
    {
     "name": "stdout",
     "output_type": "stream",
     "text": [
      "scp -r yuncong@gcn:/home/yuncong/csd395/CSHL_cells_v2/detected_cells/MD589/MD589-N58-2015.07.30-20.03.53_MD589_1_0172/ /home/yuncong/CSHL_cells_v2/detected_cells/MD589/\n"
     ]
    },
    {
     "name": "stderr",
     "output_type": "stream",
     "text": [
      "Child returned 0\n"
     ]
    },
    {
     "name": "stdout",
     "output_type": "stream",
     "text": [
      "cellprofiler -c --file-list=/tmp/cellprofiler_filelist.txt -p /home/yuncong/CSHL_cells_v2/SegmentCells.cppipe\n"
     ]
    },
    {
     "name": "stderr",
     "output_type": "stream",
     "text": [
      "Child returned 0\n",
      "Cell profiler: 243.12 seconds.\n",
      "Child returned 0\n",
      "Child returned 0\n",
      "Child returned 0\n",
      "Child returned 0\n",
      "Child returned 0\n"
     ]
    },
    {
     "name": "stdout",
     "output_type": "stream",
     "text": [
      "rm /home/yuncong/CSHL_cells_v2/detected_cells/MD589/MD589-N58-2015.07.30-20.03.53_MD589_1_0172/MD589-N58-2015.07.30-20.03.53_MD589_1_0172_image_inverted_00_labeled.mat\n",
      "rm /home/yuncong/CSHL_cells_v2/detected_cells/MD589/MD589-N58-2015.07.30-20.03.53_MD589_1_0172/MD589-N58-2015.07.30-20.03.53_MD589_1_0172_image_inverted_01_labeled.mat\n",
      "rm /home/yuncong/CSHL_cells_v2/detected_cells/MD589/MD589-N58-2015.07.30-20.03.53_MD589_1_0172/MD589-N58-2015.07.30-20.03.53_MD589_1_0172_image_inverted_02_labeled.mat\n",
      "rm /home/yuncong/CSHL_cells_v2/detected_cells/MD589/MD589-N58-2015.07.30-20.03.53_MD589_1_0172/MD589-N58-2015.07.30-20.03.53_MD589_1_0172_image_inverted_03_labeled.mat\n",
      "rm /home/yuncong/CSHL_cells_v2/detected_cells/MD589/MD589-N58-2015.07.30-20.03.53_MD589_1_0172/MD589-N58-2015.07.30-20.03.53_MD589_1_0172_image_inverted_04_labeled.mat\n",
      "rm /home/yuncong/CSHL_cells_v2/detected_cells/MD589/MD589-N58-2015.07.30-20.03.53_MD589_1_0172/MD589-N58-2015.07.30-20.03.53_MD589_1_0172_image_inverted_05_labeled.mat\n"
     ]
    },
    {
     "name": "stderr",
     "output_type": "stream",
     "text": [
      "Child returned 0\n",
      "Child returned 0\n",
      "Child returned 0\n",
      "Child returned 0\n",
      "Child returned 0\n",
      "Child returned 0\n",
      "Child returned 0\n"
     ]
    },
    {
     "name": "stdout",
     "output_type": "stream",
     "text": [
      "rm /home/yuncong/CSHL_cells_v2/detected_cells/MD589/MD589-N58-2015.07.30-20.03.53_MD589_1_0172/MD589-N58-2015.07.30-20.03.53_MD589_1_0172_image_inverted_06_labeled.mat\n",
      "rm /home/yuncong/CSHL_cells_v2/detected_cells/MD589/MD589-N58-2015.07.30-20.03.53_MD589_1_0172/MD589-N58-2015.07.30-20.03.53_MD589_1_0172_image_inverted_07_labeled.mat\n",
      "rm /home/yuncong/CSHL_cells_v2/detected_cells/MD589/MD589-N58-2015.07.30-20.03.53_MD589_1_0172/MD589-N58-2015.07.30-20.03.53_MD589_1_0172_image_inverted_08_labeled.mat\n",
      "rm /home/yuncong/CSHL_cells_v2/detected_cells/MD589/MD589-N58-2015.07.30-20.03.53_MD589_1_0172/MD589-N58-2015.07.30-20.03.53_MD589_1_0172_image_inverted_09_labeled.mat\n",
      "rm /home/yuncong/CSHL_cells_v2/detected_cells/MD589/MD589-N58-2015.07.30-20.03.53_MD589_1_0172/MD589-N58-2015.07.30-20.03.53_MD589_1_0172_image_inverted_10_labeled.mat\n",
      "rm /home/yuncong/CSHL_cells_v2/detected_cells/MD589/MD589-N58-2015.07.30-20.03.53_MD589_1_0172/MD589-N58-2015.07.30-20.03.53_MD589_1_0172_image_inverted_11_labeled.mat\n",
      "scp -r yuncong@gcn:/home/yuncong/csd395/CSHL_cells_v2/detected_cells/MD589/MD589-N60-2015.07.30-20.11.20_MD589_1_0178/ /home/yuncong/CSHL_cells_v2/detected_cells/MD589/\n"
     ]
    },
    {
     "name": "stderr",
     "output_type": "stream",
     "text": [
      "Child returned 0\n"
     ]
    },
    {
     "name": "stdout",
     "output_type": "stream",
     "text": [
      "cellprofiler -c --file-list=/tmp/cellprofiler_filelist.txt -p /home/yuncong/CSHL_cells_v2/SegmentCells.cppipe\n"
     ]
    },
    {
     "name": "stderr",
     "output_type": "stream",
     "text": [
      "Child returned 0\n",
      "Cell profiler: 254.87 seconds.\n",
      "Child returned 0\n",
      "Child returned 0\n"
     ]
    },
    {
     "name": "stdout",
     "output_type": "stream",
     "text": [
      "rm /home/yuncong/CSHL_cells_v2/detected_cells/MD589/MD589-N60-2015.07.30-20.11.20_MD589_1_0178/MD589-N60-2015.07.30-20.11.20_MD589_1_0178_image_inverted_00_labeled.mat\n",
      "rm /home/yuncong/CSHL_cells_v2/detected_cells/MD589/MD589-N60-2015.07.30-20.11.20_MD589_1_0178/MD589-N60-2015.07.30-20.11.20_MD589_1_0178_image_inverted_01_labeled.mat\n",
      "rm /home/yuncong/CSHL_cells_v2/detected_cells/MD589/MD589-N60-2015.07.30-20.11.20_MD589_1_0178/MD589-N60-2015.07.30-20.11.20_MD589_1_0178_image_inverted_02_labeled.mat\n",
      "rm /home/yuncong/CSHL_cells_v2/detected_cells/MD589/MD589-N60-2015.07.30-20.11.20_MD589_1_0178/MD589-N60-2015.07.30-20.11.20_MD589_1_0178_image_inverted_03_labeled.mat\n"
     ]
    },
    {
     "name": "stderr",
     "output_type": "stream",
     "text": [
      "Child returned 0\n",
      "Child returned 0\n",
      "Child returned 0\n"
     ]
    },
    {
     "name": "stdout",
     "output_type": "stream",
     "text": [
      "rm /home/yuncong/CSHL_cells_v2/detected_cells/MD589/MD589-N60-2015.07.30-20.11.20_MD589_1_0178/MD589-N60-2015.07.30-20.11.20_MD589_1_0178_image_inverted_04_labeled.mat\n",
      "rm /home/yuncong/CSHL_cells_v2/detected_cells/MD589/MD589-N60-2015.07.30-20.11.20_MD589_1_0178/MD589-N60-2015.07.30-20.11.20_MD589_1_0178_image_inverted_05_labeled.mat\n",
      "rm /home/yuncong/CSHL_cells_v2/detected_cells/MD589/MD589-N60-2015.07.30-20.11.20_MD589_1_0178/MD589-N60-2015.07.30-20.11.20_MD589_1_0178_image_inverted_06_labeled.mat\n",
      "rm /home/yuncong/CSHL_cells_v2/detected_cells/MD589/MD589-N60-2015.07.30-20.11.20_MD589_1_0178/MD589-N60-2015.07.30-20.11.20_MD589_1_0178_image_inverted_07_labeled.mat\n"
     ]
    },
    {
     "name": "stderr",
     "output_type": "stream",
     "text": [
      "Child returned 0\n",
      "Child returned 0\n",
      "Child returned 0\n",
      "Child returned 0\n",
      "Child returned 0\n",
      "Child returned 0\n"
     ]
    },
    {
     "name": "stdout",
     "output_type": "stream",
     "text": [
      "rm /home/yuncong/CSHL_cells_v2/detected_cells/MD589/MD589-N60-2015.07.30-20.11.20_MD589_1_0178/MD589-N60-2015.07.30-20.11.20_MD589_1_0178_image_inverted_08_labeled.mat\n",
      "rm /home/yuncong/CSHL_cells_v2/detected_cells/MD589/MD589-N60-2015.07.30-20.11.20_MD589_1_0178/MD589-N60-2015.07.30-20.11.20_MD589_1_0178_image_inverted_09_labeled.mat\n",
      "rm /home/yuncong/CSHL_cells_v2/detected_cells/MD589/MD589-N60-2015.07.30-20.11.20_MD589_1_0178/MD589-N60-2015.07.30-20.11.20_MD589_1_0178_image_inverted_10_labeled.mat\n",
      "rm /home/yuncong/CSHL_cells_v2/detected_cells/MD589/MD589-N60-2015.07.30-20.11.20_MD589_1_0178/MD589-N60-2015.07.30-20.11.20_MD589_1_0178_image_inverted_11_labeled.mat\n"
     ]
    },
    {
     "name": "stderr",
     "output_type": "stream",
     "text": [
      "Child returned 0\n"
     ]
    },
    {
     "name": "stdout",
     "output_type": "stream",
     "text": [
      "scp -r yuncong@gcn:/home/yuncong/csd395/CSHL_cells_v2/detected_cells/MD589/MD589-N61-2015.07.30-20.15.47_MD589_3_0183/ /home/yuncong/CSHL_cells_v2/detected_cells/MD589/\n"
     ]
    },
    {
     "name": "stderr",
     "output_type": "stream",
     "text": [
      "Child returned 0\n"
     ]
    },
    {
     "name": "stdout",
     "output_type": "stream",
     "text": [
      "cellprofiler -c --file-list=/tmp/cellprofiler_filelist.txt -p /home/yuncong/CSHL_cells_v2/SegmentCells.cppipe\n"
     ]
    },
    {
     "name": "stderr",
     "output_type": "stream",
     "text": [
      "Child returned 0\n",
      "Cell profiler: 243.48 seconds.\n",
      "Child returned 0\n",
      "Child returned 0\n",
      "Child returned 0\n",
      "Child returned 0\n"
     ]
    },
    {
     "name": "stdout",
     "output_type": "stream",
     "text": [
      "rm /home/yuncong/CSHL_cells_v2/detected_cells/MD589/MD589-N61-2015.07.30-20.15.47_MD589_3_0183/MD589-N61-2015.07.30-20.15.47_MD589_3_0183_image_inverted_00_labeled.mat\n",
      "rm /home/yuncong/CSHL_cells_v2/detected_cells/MD589/MD589-N61-2015.07.30-20.15.47_MD589_3_0183/MD589-N61-2015.07.30-20.15.47_MD589_3_0183_image_inverted_01_labeled.mat\n",
      "rm /home/yuncong/CSHL_cells_v2/detected_cells/MD589/MD589-N61-2015.07.30-20.15.47_MD589_3_0183/MD589-N61-2015.07.30-20.15.47_MD589_3_0183_image_inverted_02_labeled.mat\n",
      "rm /home/yuncong/CSHL_cells_v2/detected_cells/MD589/MD589-N61-2015.07.30-20.15.47_MD589_3_0183/MD589-N61-2015.07.30-20.15.47_MD589_3_0183_image_inverted_03_labeled.mat\n",
      "rm /home/yuncong/CSHL_cells_v2/detected_cells/MD589/MD589-N61-2015.07.30-20.15.47_MD589_3_0183/MD589-N61-2015.07.30-20.15.47_MD589_3_0183_image_inverted_04_labeled.mat\n"
     ]
    },
    {
     "name": "stderr",
     "output_type": "stream",
     "text": [
      "Child returned 0\n",
      "Child returned 0\n",
      "Child returned 0\n",
      "Child returned 0\n",
      "Child returned 0\n",
      "Child returned 0\n",
      "Child returned 0\n",
      "Child returned 0\n"
     ]
    },
    {
     "name": "stdout",
     "output_type": "stream",
     "text": [
      "rm /home/yuncong/CSHL_cells_v2/detected_cells/MD589/MD589-N61-2015.07.30-20.15.47_MD589_3_0183/MD589-N61-2015.07.30-20.15.47_MD589_3_0183_image_inverted_05_labeled.mat\n",
      "rm /home/yuncong/CSHL_cells_v2/detected_cells/MD589/MD589-N61-2015.07.30-20.15.47_MD589_3_0183/MD589-N61-2015.07.30-20.15.47_MD589_3_0183_image_inverted_06_labeled.mat\n",
      "rm /home/yuncong/CSHL_cells_v2/detected_cells/MD589/MD589-N61-2015.07.30-20.15.47_MD589_3_0183/MD589-N61-2015.07.30-20.15.47_MD589_3_0183_image_inverted_07_labeled.mat\n",
      "rm /home/yuncong/CSHL_cells_v2/detected_cells/MD589/MD589-N61-2015.07.30-20.15.47_MD589_3_0183/MD589-N61-2015.07.30-20.15.47_MD589_3_0183_image_inverted_08_labeled.mat\n",
      "rm /home/yuncong/CSHL_cells_v2/detected_cells/MD589/MD589-N61-2015.07.30-20.15.47_MD589_3_0183/MD589-N61-2015.07.30-20.15.47_MD589_3_0183_image_inverted_09_labeled.mat\n",
      "rm /home/yuncong/CSHL_cells_v2/detected_cells/MD589/MD589-N61-2015.07.30-20.15.47_MD589_3_0183/MD589-N61-2015.07.30-20.15.47_MD589_3_0183_image_inverted_10_labeled.mat\n",
      "rm /home/yuncong/CSHL_cells_v2/detected_cells/MD589/MD589-N61-2015.07.30-20.15.47_MD589_3_0183/MD589-N61-2015.07.30-20.15.47_MD589_3_0183_image_inverted_11_labeled.mat\n",
      "scp -r yuncong@gcn:/home/yuncong/csd395/CSHL_cells_v2/detected_cells/MD589/MD589-N63-2015.07.30-20.23.12_MD589_2_0188/ /home/yuncong/CSHL_cells_v2/detected_cells/MD589/\n"
     ]
    },
    {
     "name": "stderr",
     "output_type": "stream",
     "text": [
      "Child returned 0\n"
     ]
    },
    {
     "name": "stdout",
     "output_type": "stream",
     "text": [
      "cellprofiler -c --file-list=/tmp/cellprofiler_filelist.txt -p /home/yuncong/CSHL_cells_v2/SegmentCells.cppipe\n"
     ]
    },
    {
     "name": "stderr",
     "output_type": "stream",
     "text": [
      "Child returned 0\n",
      "Cell profiler: 255.47 seconds.\n",
      "Child returned 0\n",
      "Child returned 0\n",
      "Child returned 0\n",
      "Child returned 0\n"
     ]
    },
    {
     "name": "stdout",
     "output_type": "stream",
     "text": [
      "rm /home/yuncong/CSHL_cells_v2/detected_cells/MD589/MD589-N63-2015.07.30-20.23.12_MD589_2_0188/MD589-N63-2015.07.30-20.23.12_MD589_2_0188_image_inverted_00_labeled.mat\n",
      "rm /home/yuncong/CSHL_cells_v2/detected_cells/MD589/MD589-N63-2015.07.30-20.23.12_MD589_2_0188/MD589-N63-2015.07.30-20.23.12_MD589_2_0188_image_inverted_01_labeled.mat\n",
      "rm /home/yuncong/CSHL_cells_v2/detected_cells/MD589/MD589-N63-2015.07.30-20.23.12_MD589_2_0188/MD589-N63-2015.07.30-20.23.12_MD589_2_0188_image_inverted_02_labeled.mat\n",
      "rm /home/yuncong/CSHL_cells_v2/detected_cells/MD589/MD589-N63-2015.07.30-20.23.12_MD589_2_0188/MD589-N63-2015.07.30-20.23.12_MD589_2_0188_image_inverted_03_labeled.mat\n",
      "rm /home/yuncong/CSHL_cells_v2/detected_cells/MD589/MD589-N63-2015.07.30-20.23.12_MD589_2_0188/MD589-N63-2015.07.30-20.23.12_MD589_2_0188_image_inverted_04_labeled.mat\n"
     ]
    },
    {
     "name": "stderr",
     "output_type": "stream",
     "text": [
      "Child returned 0\n",
      "Child returned 0\n",
      "Child returned 0\n",
      "Child returned 0\n",
      "Child returned 0\n",
      "Child returned 0\n"
     ]
    },
    {
     "name": "stdout",
     "output_type": "stream",
     "text": [
      "rm /home/yuncong/CSHL_cells_v2/detected_cells/MD589/MD589-N63-2015.07.30-20.23.12_MD589_2_0188/MD589-N63-2015.07.30-20.23.12_MD589_2_0188_image_inverted_05_labeled.mat\n",
      "rm /home/yuncong/CSHL_cells_v2/detected_cells/MD589/MD589-N63-2015.07.30-20.23.12_MD589_2_0188/MD589-N63-2015.07.30-20.23.12_MD589_2_0188_image_inverted_06_labeled.mat\n",
      "rm /home/yuncong/CSHL_cells_v2/detected_cells/MD589/MD589-N63-2015.07.30-20.23.12_MD589_2_0188/MD589-N63-2015.07.30-20.23.12_MD589_2_0188_image_inverted_07_labeled.mat\n",
      "rm /home/yuncong/CSHL_cells_v2/detected_cells/MD589/MD589-N63-2015.07.30-20.23.12_MD589_2_0188/MD589-N63-2015.07.30-20.23.12_MD589_2_0188_image_inverted_08_labeled.mat\n",
      "rm /home/yuncong/CSHL_cells_v2/detected_cells/MD589/MD589-N63-2015.07.30-20.23.12_MD589_2_0188/MD589-N63-2015.07.30-20.23.12_MD589_2_0188_image_inverted_09_labeled.mat\n",
      "rm /home/yuncong/CSHL_cells_v2/detected_cells/MD589/MD589-N63-2015.07.30-20.23.12_MD589_2_0188/MD589-N63-2015.07.30-20.23.12_MD589_2_0188_image_inverted_10_labeled.mat\n",
      "rm /home/yuncong/CSHL_cells_v2/detected_cells/MD589/MD589-N63-2015.07.30-20.23.12_MD589_2_0188/MD589-N63-2015.07.30-20.23.12_MD589_2_0188_image_inverted_11_labeled.mat\n"
     ]
    },
    {
     "name": "stderr",
     "output_type": "stream",
     "text": [
      "Child returned 0\n",
      "Child returned 0\n"
     ]
    },
    {
     "name": "stdout",
     "output_type": "stream",
     "text": [
      "scp -r yuncong@gcn:/home/yuncong/csd395/CSHL_cells_v2/detected_cells/MD589/MD589-N65-2015.07.30-20.31.20_MD589_1_0193/ /home/yuncong/CSHL_cells_v2/detected_cells/MD589/\n"
     ]
    },
    {
     "name": "stderr",
     "output_type": "stream",
     "text": [
      "Child returned 0\n"
     ]
    },
    {
     "name": "stdout",
     "output_type": "stream",
     "text": [
      "cellprofiler -c --file-list=/tmp/cellprofiler_filelist.txt -p /home/yuncong/CSHL_cells_v2/SegmentCells.cppipe\n"
     ]
    },
    {
     "name": "stderr",
     "output_type": "stream",
     "text": [
      "Child returned 0\n",
      "Cell profiler: 253.03 seconds.\n",
      "Child returned 0\n",
      "Child returned 0\n",
      "Child returned 0\n",
      "Child returned 0\n"
     ]
    },
    {
     "name": "stdout",
     "output_type": "stream",
     "text": [
      "rm /home/yuncong/CSHL_cells_v2/detected_cells/MD589/MD589-N65-2015.07.30-20.31.20_MD589_1_0193/MD589-N65-2015.07.30-20.31.20_MD589_1_0193_image_inverted_00_labeled.mat\n",
      "rm /home/yuncong/CSHL_cells_v2/detected_cells/MD589/MD589-N65-2015.07.30-20.31.20_MD589_1_0193/MD589-N65-2015.07.30-20.31.20_MD589_1_0193_image_inverted_01_labeled.mat\n",
      "rm /home/yuncong/CSHL_cells_v2/detected_cells/MD589/MD589-N65-2015.07.30-20.31.20_MD589_1_0193/MD589-N65-2015.07.30-20.31.20_MD589_1_0193_image_inverted_02_labeled.mat\n",
      "rm /home/yuncong/CSHL_cells_v2/detected_cells/MD589/MD589-N65-2015.07.30-20.31.20_MD589_1_0193/MD589-N65-2015.07.30-20.31.20_MD589_1_0193_image_inverted_03_labeled.mat\n",
      "rm /home/yuncong/CSHL_cells_v2/detected_cells/MD589/MD589-N65-2015.07.30-20.31.20_MD589_1_0193/MD589-N65-2015.07.30-20.31.20_MD589_1_0193_image_inverted_04_labeled.mat\n"
     ]
    },
    {
     "name": "stderr",
     "output_type": "stream",
     "text": [
      "Child returned 0\n",
      "Child returned 0\n",
      "Child returned 0\n",
      "Child returned 0\n",
      "Child returned 0\n",
      "Child returned 0\n",
      "Child returned 0\n",
      "Child returned 0\n"
     ]
    },
    {
     "name": "stdout",
     "output_type": "stream",
     "text": [
      "rm /home/yuncong/CSHL_cells_v2/detected_cells/MD589/MD589-N65-2015.07.30-20.31.20_MD589_1_0193/MD589-N65-2015.07.30-20.31.20_MD589_1_0193_image_inverted_05_labeled.mat\n",
      "rm /home/yuncong/CSHL_cells_v2/detected_cells/MD589/MD589-N65-2015.07.30-20.31.20_MD589_1_0193/MD589-N65-2015.07.30-20.31.20_MD589_1_0193_image_inverted_06_labeled.mat\n",
      "rm /home/yuncong/CSHL_cells_v2/detected_cells/MD589/MD589-N65-2015.07.30-20.31.20_MD589_1_0193/MD589-N65-2015.07.30-20.31.20_MD589_1_0193_image_inverted_07_labeled.mat\n",
      "rm /home/yuncong/CSHL_cells_v2/detected_cells/MD589/MD589-N65-2015.07.30-20.31.20_MD589_1_0193/MD589-N65-2015.07.30-20.31.20_MD589_1_0193_image_inverted_08_labeled.mat\n",
      "rm /home/yuncong/CSHL_cells_v2/detected_cells/MD589/MD589-N65-2015.07.30-20.31.20_MD589_1_0193/MD589-N65-2015.07.30-20.31.20_MD589_1_0193_image_inverted_09_labeled.mat\n",
      "rm /home/yuncong/CSHL_cells_v2/detected_cells/MD589/MD589-N65-2015.07.30-20.31.20_MD589_1_0193/MD589-N65-2015.07.30-20.31.20_MD589_1_0193_image_inverted_10_labeled.mat\n",
      "rm /home/yuncong/CSHL_cells_v2/detected_cells/MD589/MD589-N65-2015.07.30-20.31.20_MD589_1_0193/MD589-N65-2015.07.30-20.31.20_MD589_1_0193_image_inverted_11_labeled.mat\n",
      "scp -r yuncong@gcn:/home/yuncong/csd395/CSHL_cells_v2/detected_cells/MD589/MD589-N66-2015.07.30-20.35.16_MD589_3_0198/ /home/yuncong/CSHL_cells_v2/detected_cells/MD589/\n"
     ]
    },
    {
     "name": "stderr",
     "output_type": "stream",
     "text": [
      "Child returned 0\n"
     ]
    },
    {
     "name": "stdout",
     "output_type": "stream",
     "text": [
      "cellprofiler -c --file-list=/tmp/cellprofiler_filelist.txt -p /home/yuncong/CSHL_cells_v2/SegmentCells.cppipe\n"
     ]
    },
    {
     "name": "stderr",
     "output_type": "stream",
     "text": [
      "Child returned 0\n",
      "Cell profiler: 251.33 seconds.\n",
      "Child returned 0\n",
      "Child returned 0\n",
      "Child returned 0\n",
      "Child returned 0\n"
     ]
    },
    {
     "name": "stdout",
     "output_type": "stream",
     "text": [
      "rm /home/yuncong/CSHL_cells_v2/detected_cells/MD589/MD589-N66-2015.07.30-20.35.16_MD589_3_0198/MD589-N66-2015.07.30-20.35.16_MD589_3_0198_image_inverted_00_labeled.mat\n",
      "rm /home/yuncong/CSHL_cells_v2/detected_cells/MD589/MD589-N66-2015.07.30-20.35.16_MD589_3_0198/MD589-N66-2015.07.30-20.35.16_MD589_3_0198_image_inverted_01_labeled.mat\n",
      "rm /home/yuncong/CSHL_cells_v2/detected_cells/MD589/MD589-N66-2015.07.30-20.35.16_MD589_3_0198/MD589-N66-2015.07.30-20.35.16_MD589_3_0198_image_inverted_02_labeled.mat\n",
      "rm /home/yuncong/CSHL_cells_v2/detected_cells/MD589/MD589-N66-2015.07.30-20.35.16_MD589_3_0198/MD589-N66-2015.07.30-20.35.16_MD589_3_0198_image_inverted_03_labeled.mat\n",
      "rm /home/yuncong/CSHL_cells_v2/detected_cells/MD589/MD589-N66-2015.07.30-20.35.16_MD589_3_0198/MD589-N66-2015.07.30-20.35.16_MD589_3_0198_image_inverted_04_labeled.mat\n"
     ]
    },
    {
     "name": "stderr",
     "output_type": "stream",
     "text": [
      "Child returned 0\n",
      "Child returned 0\n",
      "Child returned 0\n",
      "Child returned 0\n",
      "Child returned 0\n",
      "Child returned 0\n",
      "Child returned 0\n",
      "Child returned 0\n"
     ]
    },
    {
     "name": "stdout",
     "output_type": "stream",
     "text": [
      "rm /home/yuncong/CSHL_cells_v2/detected_cells/MD589/MD589-N66-2015.07.30-20.35.16_MD589_3_0198/MD589-N66-2015.07.30-20.35.16_MD589_3_0198_image_inverted_05_labeled.mat\n",
      "rm /home/yuncong/CSHL_cells_v2/detected_cells/MD589/MD589-N66-2015.07.30-20.35.16_MD589_3_0198/MD589-N66-2015.07.30-20.35.16_MD589_3_0198_image_inverted_06_labeled.mat\n",
      "rm /home/yuncong/CSHL_cells_v2/detected_cells/MD589/MD589-N66-2015.07.30-20.35.16_MD589_3_0198/MD589-N66-2015.07.30-20.35.16_MD589_3_0198_image_inverted_07_labeled.mat\n",
      "rm /home/yuncong/CSHL_cells_v2/detected_cells/MD589/MD589-N66-2015.07.30-20.35.16_MD589_3_0198/MD589-N66-2015.07.30-20.35.16_MD589_3_0198_image_inverted_08_labeled.mat\n",
      "rm /home/yuncong/CSHL_cells_v2/detected_cells/MD589/MD589-N66-2015.07.30-20.35.16_MD589_3_0198/MD589-N66-2015.07.30-20.35.16_MD589_3_0198_image_inverted_09_labeled.mat\n",
      "rm /home/yuncong/CSHL_cells_v2/detected_cells/MD589/MD589-N66-2015.07.30-20.35.16_MD589_3_0198/MD589-N66-2015.07.30-20.35.16_MD589_3_0198_image_inverted_10_labeled.mat\n",
      "rm /home/yuncong/CSHL_cells_v2/detected_cells/MD589/MD589-N66-2015.07.30-20.35.16_MD589_3_0198/MD589-N66-2015.07.30-20.35.16_MD589_3_0198_image_inverted_11_labeled.mat\n",
      "scp -r yuncong@gcn:/home/yuncong/csd395/CSHL_cells_v2/detected_cells/MD589/MD589-N68-2015.07.30-20.43.04_MD589_2_0203/ /home/yuncong/CSHL_cells_v2/detected_cells/MD589/\n"
     ]
    },
    {
     "name": "stderr",
     "output_type": "stream",
     "text": [
      "Child returned 0\n"
     ]
    },
    {
     "name": "stdout",
     "output_type": "stream",
     "text": [
      "cellprofiler -c --file-list=/tmp/cellprofiler_filelist.txt -p /home/yuncong/CSHL_cells_v2/SegmentCells.cppipe\n"
     ]
    },
    {
     "name": "stderr",
     "output_type": "stream",
     "text": [
      "Child returned 0\n",
      "Cell profiler: 253.64 seconds.\n",
      "Child returned 0\n",
      "Child returned 0\n",
      "Child returned 0\n",
      "Child returned 0\n"
     ]
    },
    {
     "name": "stdout",
     "output_type": "stream",
     "text": [
      "rm /home/yuncong/CSHL_cells_v2/detected_cells/MD589/MD589-N68-2015.07.30-20.43.04_MD589_2_0203/MD589-N68-2015.07.30-20.43.04_MD589_2_0203_image_inverted_00_labeled.mat\n",
      "rm /home/yuncong/CSHL_cells_v2/detected_cells/MD589/MD589-N68-2015.07.30-20.43.04_MD589_2_0203/MD589-N68-2015.07.30-20.43.04_MD589_2_0203_image_inverted_01_labeled.mat\n",
      "rm /home/yuncong/CSHL_cells_v2/detected_cells/MD589/MD589-N68-2015.07.30-20.43.04_MD589_2_0203/MD589-N68-2015.07.30-20.43.04_MD589_2_0203_image_inverted_02_labeled.mat\n",
      "rm /home/yuncong/CSHL_cells_v2/detected_cells/MD589/MD589-N68-2015.07.30-20.43.04_MD589_2_0203/MD589-N68-2015.07.30-20.43.04_MD589_2_0203_image_inverted_03_labeled.mat\n",
      "rm /home/yuncong/CSHL_cells_v2/detected_cells/MD589/MD589-N68-2015.07.30-20.43.04_MD589_2_0203/MD589-N68-2015.07.30-20.43.04_MD589_2_0203_image_inverted_04_labeled.mat\n"
     ]
    },
    {
     "name": "stderr",
     "output_type": "stream",
     "text": [
      "Child returned 0\n",
      "Child returned 0\n",
      "Child returned 0\n",
      "Child returned 0\n",
      "Child returned 0\n",
      "Child returned 0\n"
     ]
    },
    {
     "name": "stdout",
     "output_type": "stream",
     "text": [
      "rm /home/yuncong/CSHL_cells_v2/detected_cells/MD589/MD589-N68-2015.07.30-20.43.04_MD589_2_0203/MD589-N68-2015.07.30-20.43.04_MD589_2_0203_image_inverted_05_labeled.mat\n",
      "rm /home/yuncong/CSHL_cells_v2/detected_cells/MD589/MD589-N68-2015.07.30-20.43.04_MD589_2_0203/MD589-N68-2015.07.30-20.43.04_MD589_2_0203_image_inverted_06_labeled.mat\n",
      "rm /home/yuncong/CSHL_cells_v2/detected_cells/MD589/MD589-N68-2015.07.30-20.43.04_MD589_2_0203/MD589-N68-2015.07.30-20.43.04_MD589_2_0203_image_inverted_07_labeled.mat\n",
      "rm /home/yuncong/CSHL_cells_v2/detected_cells/MD589/MD589-N68-2015.07.30-20.43.04_MD589_2_0203/MD589-N68-2015.07.30-20.43.04_MD589_2_0203_image_inverted_08_labeled.mat\n",
      "rm /home/yuncong/CSHL_cells_v2/detected_cells/MD589/MD589-N68-2015.07.30-20.43.04_MD589_2_0203/MD589-N68-2015.07.30-20.43.04_MD589_2_0203_image_inverted_09_labeled.mat\n",
      "rm /home/yuncong/CSHL_cells_v2/detected_cells/MD589/MD589-N68-2015.07.30-20.43.04_MD589_2_0203/MD589-N68-2015.07.30-20.43.04_MD589_2_0203_image_inverted_10_labeled.mat\n",
      "rm /home/yuncong/CSHL_cells_v2/detected_cells/MD589/MD589-N68-2015.07.30-20.43.04_MD589_2_0203/MD589-N68-2015.07.30-20.43.04_MD589_2_0203_image_inverted_11_labeled.mat\n"
     ]
    },
    {
     "name": "stderr",
     "output_type": "stream",
     "text": [
      "Child returned 0\n",
      "Child returned 0\n"
     ]
    }
   ],
   "source": [
    "bar = show_progress_bar(first_sec, last_sec)\n",
    "\n",
    "for sec in range(first_sec, last_sec+1, 10):\n",
    "    \n",
    "    bar.value = sec\n",
    "    \n",
    "    img_fn = s2f[sec]\n",
    "\n",
    "    if img_fn in ['Nonexisting', 'Rescan', 'Placeholder']:\n",
    "        continue\n",
    "\n",
    "    input_img_fp = DETECTED_CELLS_DIR + '/%(stack)s/%(img_fn)s/%(img_fn)s_image_inverted.jpg' % dict(stack=stack, img_fn=img_fn)\n",
    "    \n",
    "    if not os.path.exists(input_img_fp):\n",
    "        # download from Gordon\n",
    "        execute_command('scp -r yuncong@gcn:/home/yuncong/csd395/CSHL_cells_v2/detected_cells/%(stack)s/%(img_fn)s/ %(DETECTED_CELLS_DIR)s/%(stack)s/' % \\\n",
    "                       dict(stack=stack, img_fn=img_fn, DETECTED_CELLS_DIR=DETECTED_CELLS_DIR))\n",
    "        \n",
    "    \n",
    "    img = imread(input_img_fp)\n",
    "    img_h, img_w = img.shape[:2]\n",
    "\n",
    "    input_fps = [os.path.splitext(input_img_fp)[0] + '_%02d.tif' % tile_idx for tile_idx in range(12)]\n",
    "    \n",
    "    #############\n",
    "    # Farsight\n",
    "    #############\n",
    "\n",
    "#     output_fps = [os.path.splitext(input_fp)[0] + '_labeled_farsight.tif' for input_fp in input_fps]\n",
    "\n",
    "#     FARSIGHT_EXEC = '/home/yuncong/Farsight-0.4.4-Linux/bin/segment_nuclei'\n",
    "\n",
    "#     # # Use without parameters\n",
    "\n",
    "#     # for input_fp, output_fp in zip(input_fps, output_fps):\n",
    "#     #     execute_command(FARSIGHT_EXEC + ' %(input_fp)s %(output_fp)s' % \\\n",
    "#     #                    dict(input_fp=input_fp,\n",
    "#     #                         output_fp=output_fp))\n",
    "\n",
    "#     # Use with parameters\n",
    "\n",
    "#     FARSIGHT_PARAMS_FP = '/home/yuncong/CSHL_cells_v2/farsight_parameters.txt'\n",
    "\n",
    "#     with open(FARSIGHT_PARAMS_FP, 'w') as f:\n",
    "#         f.write('! Segmentation parameters File\\n! All parameters are case sensitive\\n')\n",
    "#         f.write('min_object_size 100\\n')\n",
    "\n",
    "#     for input_fp, output_fp in zip(input_fps, output_fps):\n",
    "\n",
    "#         execute_command(FARSIGHT_EXEC + ' %(input_fp)s %(output_fp)s %(params)s' % \\\n",
    "#                    dict(input_fp=input_fp,\n",
    "#                         output_fp=output_fp,\n",
    "#                         params=FARSIGHT_PARAMS_FP))\n",
    "\n",
    "#     for input_fp in input_fps:\n",
    "#         prefix = os.path.splitext(input_fp)[0]\n",
    "#         labelmap = imread(prefix + '_labeled_farsight.tif')\n",
    "#         bp.pack_ndarray_file(labelmap, prefix + '_labelmap_farsight.bp')\n",
    "#         execute_command('rm ' + prefix + '_seg_final.dat')\n",
    "#         execute_command('rm ' + prefix + '_seedPoints.txt')\n",
    "#         execute_command('rm ' + prefix + '_labeled_farsight.tif')\n",
    "\n",
    "    ###############\n",
    "    # CellProfiler\n",
    "    ###############\n",
    "\n",
    "    CELLPROFILER_EXEC = 'cellprofiler' # /usr/local/bin/cellprofiler\n",
    "    CELLPROFILER_PIPELINE_FP = '/home/yuncong/CSHL_cells_v2/SegmentCells.cppipe'\n",
    "\n",
    "    with open('/tmp/cellprofiler_filelist.txt', 'w') as f:\n",
    "        for input_fp in input_fps:\n",
    "            f.write(input_fp + '\\n')\n",
    "\n",
    "    t = time.time()\n",
    "\n",
    "    execute_command(CELLPROFILER_EXEC + ' -c --file-list=/tmp/cellprofiler_filelist.txt -p %(pipeline_fp)s' % dict(pipeline_fp=CELLPROFILER_PIPELINE_FP))\n",
    "\n",
    "    sys.stderr.write('Cell profiler: %.2f seconds.\\n' % (time.time()-t))\n",
    "\n",
    "    from scipy.io import loadmat\n",
    "\n",
    "    for input_fp in input_fps:\n",
    "        prefix = os.path.splitext(input_fp)[0]\n",
    "        labelmap = loadmat(prefix + '_labeled.mat')['Image']\n",
    "        bp.pack_ndarray_file(labelmap, prefix + '_labelmap_cellprofiler.bp')\n",
    "        execute_command('rm ' + prefix + '_labeled.mat')\n",
    "\n",
    "    ##########\n",
    "    # Mosaic\n",
    "    ##########\n",
    "\n",
    "    # tile_h, tile_w = (5000, 5000)\n",
    "\n",
    "    origins = []\n",
    "    for iy, y0 in enumerate(np.arange(0, img_h, 5000)):\n",
    "        for ix, x0 in enumerate(np.arange(0, img_w, 5000)):\n",
    "            origins.append((x0, y0))\n",
    "\n",
    "    alg = 'cellprofiler'\n",
    "    # alg = 'farsight'\n",
    "\n",
    "    big_labelmap = np.zeros((img_h, img_w), dtype=np.int64)\n",
    "\n",
    "    n = 0\n",
    "\n",
    "    for i, input_fp in enumerate(input_fps):\n",
    "        prefix = os.path.splitext(input_fp)[0]\n",
    "        labelmap = bp.unpack_ndarray_file(prefix + '_labelmap_%(alg)s.bp' % dict(alg=alg)).astype(np.int64)\n",
    "\n",
    "        x0, y0 = origins[i]\n",
    "        big_labelmap[y0:y0+5000, x0:x0+5000][labelmap != 0] = labelmap[labelmap != 0] + n\n",
    "        n += labelmap.max()\n",
    "\n",
    "    bp.pack_ndarray_file(big_labelmap, os.path.splitext(input_img_fp)[0] + '_labelmap_%(alg)s.bp' % dict(alg=alg))"
   ]
  },
  {
   "cell_type": "code",
   "execution_count": 11,
   "metadata": {
    "collapsed": false
   },
   "outputs": [
    {
     "name": "stdout",
     "output_type": "stream",
     "text": [
      "Setting environment for Local Macbook Pro\n",
      "scp /home/yuncong/CSHL_cells_v2/detected_cells/MD589/MD589-N16-2015.07.30-17.03.43_MD589_3_0048/MD589-N16-2015.07.30-17.03.43_MD589_3_0048_image_inverted_labelmap_cellprofiler.bp yuncong@gcn:/home/yuncong/csd395/CSHL_cells_v2/detected_cells/MD589/MD589-N16-2015.07.30-17.03.43_MD589_3_0048/ \n"
     ]
    },
    {
     "name": "stderr",
     "output_type": "stream",
     "text": [
      "Child returned 0\n"
     ]
    },
    {
     "name": "stdout",
     "output_type": "stream",
     "text": [
      "scp /home/yuncong/CSHL_cells_v2/detected_cells/MD589/MD589-N18-2015.07.30-17.11.24_MD589_2_0053/MD589-N18-2015.07.30-17.11.24_MD589_2_0053_image_inverted_labelmap_cellprofiler.bp yuncong@gcn:/home/yuncong/csd395/CSHL_cells_v2/detected_cells/MD589/MD589-N18-2015.07.30-17.11.24_MD589_2_0053/ \n"
     ]
    },
    {
     "name": "stderr",
     "output_type": "stream",
     "text": [
      "Child returned 0\n"
     ]
    },
    {
     "name": "stdout",
     "output_type": "stream",
     "text": [
      "scp /home/yuncong/CSHL_cells_v2/detected_cells/MD589/MD589-N20-2015.07.30-17.19.14_MD589_1_0058/MD589-N20-2015.07.30-17.19.14_MD589_1_0058_image_inverted_labelmap_cellprofiler.bp yuncong@gcn:/home/yuncong/csd395/CSHL_cells_v2/detected_cells/MD589/MD589-N20-2015.07.30-17.19.14_MD589_1_0058/ \n"
     ]
    },
    {
     "name": "stderr",
     "output_type": "stream",
     "text": [
      "Child returned 0\n"
     ]
    },
    {
     "name": "stdout",
     "output_type": "stream",
     "text": [
      "scp /home/yuncong/CSHL_cells_v2/detected_cells/MD589/MD589-N21-2015.07.30-17.23.23_MD589_3_0063/MD589-N21-2015.07.30-17.23.23_MD589_3_0063_image_inverted_labelmap_cellprofiler.bp yuncong@gcn:/home/yuncong/csd395/CSHL_cells_v2/detected_cells/MD589/MD589-N21-2015.07.30-17.23.23_MD589_3_0063/ \n"
     ]
    },
    {
     "name": "stderr",
     "output_type": "stream",
     "text": [
      "Child returned 0\n"
     ]
    },
    {
     "name": "stdout",
     "output_type": "stream",
     "text": [
      "scp /home/yuncong/CSHL_cells_v2/detected_cells/MD589/MD589-N23-2015.07.30-17.31.29_MD589_2_0068/MD589-N23-2015.07.30-17.31.29_MD589_2_0068_image_inverted_labelmap_cellprofiler.bp yuncong@gcn:/home/yuncong/csd395/CSHL_cells_v2/detected_cells/MD589/MD589-N23-2015.07.30-17.31.29_MD589_2_0068/ \n"
     ]
    },
    {
     "name": "stderr",
     "output_type": "stream",
     "text": [
      "Child returned 0\n"
     ]
    },
    {
     "name": "stdout",
     "output_type": "stream",
     "text": [
      "scp /home/yuncong/CSHL_cells_v2/detected_cells/MD589/MD589-N25-2015.07.30-17.40.16_MD589_1_0073/MD589-N25-2015.07.30-17.40.16_MD589_1_0073_image_inverted_labelmap_cellprofiler.bp yuncong@gcn:/home/yuncong/csd395/CSHL_cells_v2/detected_cells/MD589/MD589-N25-2015.07.30-17.40.16_MD589_1_0073/ \n"
     ]
    },
    {
     "name": "stderr",
     "output_type": "stream",
     "text": [
      "Child returned 0\n"
     ]
    },
    {
     "name": "stdout",
     "output_type": "stream",
     "text": [
      "scp /home/yuncong/CSHL_cells_v2/detected_cells/MD589/MD589-N26-2015.07.30-17.44.37_MD589_3_0078/MD589-N26-2015.07.30-17.44.37_MD589_3_0078_image_inverted_labelmap_cellprofiler.bp yuncong@gcn:/home/yuncong/csd395/CSHL_cells_v2/detected_cells/MD589/MD589-N26-2015.07.30-17.44.37_MD589_3_0078/ \n"
     ]
    },
    {
     "name": "stderr",
     "output_type": "stream",
     "text": [
      "Child returned 0\n"
     ]
    },
    {
     "name": "stdout",
     "output_type": "stream",
     "text": [
      "scp /home/yuncong/CSHL_cells_v2/detected_cells/MD589/MD589-N28-2015.07.30-17.53.43_MD589_2_0083/MD589-N28-2015.07.30-17.53.43_MD589_2_0083_image_inverted_labelmap_cellprofiler.bp yuncong@gcn:/home/yuncong/csd395/CSHL_cells_v2/detected_cells/MD589/MD589-N28-2015.07.30-17.53.43_MD589_2_0083/ \n"
     ]
    },
    {
     "name": "stderr",
     "output_type": "stream",
     "text": [
      "Child returned 0\n"
     ]
    },
    {
     "name": "stdout",
     "output_type": "stream",
     "text": [
      "scp /home/yuncong/CSHL_cells_v2/detected_cells/MD589/MD589-N30-2015.07.30-18.03.11_MD589_1_0088/MD589-N30-2015.07.30-18.03.11_MD589_1_0088_image_inverted_labelmap_cellprofiler.bp yuncong@gcn:/home/yuncong/csd395/CSHL_cells_v2/detected_cells/MD589/MD589-N30-2015.07.30-18.03.11_MD589_1_0088/ \n"
     ]
    },
    {
     "name": "stderr",
     "output_type": "stream",
     "text": [
      "Child returned 0\n"
     ]
    },
    {
     "name": "stdout",
     "output_type": "stream",
     "text": [
      "scp /home/yuncong/CSHL_cells_v2/detected_cells/MD589/MD589-N32-2015.07.30-18.12.36_MD589_1_0094/MD589-N32-2015.07.30-18.12.36_MD589_1_0094_image_inverted_labelmap_cellprofiler.bp yuncong@gcn:/home/yuncong/csd395/CSHL_cells_v2/detected_cells/MD589/MD589-N32-2015.07.30-18.12.36_MD589_1_0094/ \n"
     ]
    },
    {
     "name": "stderr",
     "output_type": "stream",
     "text": [
      "Child returned 0\n"
     ]
    },
    {
     "name": "stdout",
     "output_type": "stream",
     "text": [
      "scp /home/yuncong/CSHL_cells_v2/detected_cells/MD589/MD589-N34-2015.07.30-18.20.43_MD589_2_0101/MD589-N34-2015.07.30-18.20.43_MD589_2_0101_image_inverted_labelmap_cellprofiler.bp yuncong@gcn:/home/yuncong/csd395/CSHL_cells_v2/detected_cells/MD589/MD589-N34-2015.07.30-18.20.43_MD589_2_0101/ \n"
     ]
    },
    {
     "name": "stderr",
     "output_type": "stream",
     "text": [
      "Child returned 0\n"
     ]
    },
    {
     "name": "stdout",
     "output_type": "stream",
     "text": [
      "scp /home/yuncong/CSHL_cells_v2/detected_cells/MD589/MD589-N37-2015.07.30-18.32.51_MD589_1_0109/MD589-N37-2015.07.30-18.32.51_MD589_1_0109_image_inverted_labelmap_cellprofiler.bp yuncong@gcn:/home/yuncong/csd395/CSHL_cells_v2/detected_cells/MD589/MD589-N37-2015.07.30-18.32.51_MD589_1_0109/ \n"
     ]
    },
    {
     "name": "stderr",
     "output_type": "stream",
     "text": [
      "Child returned 0\n"
     ]
    },
    {
     "name": "stdout",
     "output_type": "stream",
     "text": [
      "scp /home/yuncong/CSHL_cells_v2/detected_cells/MD589/MD589-N39-2015.07.30-18.40.43_MD589_2_0116/MD589-N39-2015.07.30-18.40.43_MD589_2_0116_image_inverted_labelmap_cellprofiler.bp yuncong@gcn:/home/yuncong/csd395/CSHL_cells_v2/detected_cells/MD589/MD589-N39-2015.07.30-18.40.43_MD589_2_0116/ \n"
     ]
    },
    {
     "name": "stderr",
     "output_type": "stream",
     "text": [
      "Child returned 0\n"
     ]
    },
    {
     "name": "stdout",
     "output_type": "stream",
     "text": [
      "scp /home/yuncong/CSHL_cells_v2/detected_cells/MD589/MD589-N42-2015.07.30-18.52.37_MD589_1_0124/MD589-N42-2015.07.30-18.52.37_MD589_1_0124_image_inverted_labelmap_cellprofiler.bp yuncong@gcn:/home/yuncong/csd395/CSHL_cells_v2/detected_cells/MD589/MD589-N42-2015.07.30-18.52.37_MD589_1_0124/ \n"
     ]
    },
    {
     "name": "stderr",
     "output_type": "stream",
     "text": [
      "Child returned 0\n"
     ]
    },
    {
     "name": "stdout",
     "output_type": "stream",
     "text": [
      "scp /home/yuncong/CSHL_cells_v2/detected_cells/MD589/MD589-N44-2015.07.30-19.00.35_MD589_2_0131/MD589-N44-2015.07.30-19.00.35_MD589_2_0131_image_inverted_labelmap_cellprofiler.bp yuncong@gcn:/home/yuncong/csd395/CSHL_cells_v2/detected_cells/MD589/MD589-N44-2015.07.30-19.00.35_MD589_2_0131/ \n"
     ]
    },
    {
     "name": "stderr",
     "output_type": "stream",
     "text": [
      "Child returned 0\n"
     ]
    },
    {
     "name": "stdout",
     "output_type": "stream",
     "text": [
      "scp /home/yuncong/CSHL_cells_v2/detected_cells/MD589/MD589-N47-2015.07.30-19.12.19_MD589_1_0139/MD589-N47-2015.07.30-19.12.19_MD589_1_0139_image_inverted_labelmap_cellprofiler.bp yuncong@gcn:/home/yuncong/csd395/CSHL_cells_v2/detected_cells/MD589/MD589-N47-2015.07.30-19.12.19_MD589_1_0139/ \n"
     ]
    },
    {
     "name": "stderr",
     "output_type": "stream",
     "text": [
      "Child returned 0\n"
     ]
    },
    {
     "name": "stdout",
     "output_type": "stream",
     "text": [
      "scp /home/yuncong/CSHL_cells_v2/detected_cells/MD589/MD589-N49-2015.07.30-19.20.15_MD589_2_0146/MD589-N49-2015.07.30-19.20.15_MD589_2_0146_image_inverted_labelmap_cellprofiler.bp yuncong@gcn:/home/yuncong/csd395/CSHL_cells_v2/detected_cells/MD589/MD589-N49-2015.07.30-19.20.15_MD589_2_0146/ \n"
     ]
    },
    {
     "name": "stderr",
     "output_type": "stream",
     "text": [
      "Child returned 0\n"
     ]
    },
    {
     "name": "stdout",
     "output_type": "stream",
     "text": [
      "scp /home/yuncong/CSHL_cells_v2/detected_cells/MD589/MD589-N51-2015.07.30-19.28.17_MD589_3_0153/MD589-N51-2015.07.30-19.28.17_MD589_3_0153_image_inverted_labelmap_cellprofiler.bp yuncong@gcn:/home/yuncong/csd395/CSHL_cells_v2/detected_cells/MD589/MD589-N51-2015.07.30-19.28.17_MD589_3_0153/ \n"
     ]
    },
    {
     "name": "stderr",
     "output_type": "stream",
     "text": [
      "Child returned 0\n"
     ]
    },
    {
     "name": "stdout",
     "output_type": "stream",
     "text": [
      "scp /home/yuncong/CSHL_cells_v2/detected_cells/MD589/MD589-N53-2015.07.30-19.39.11_MD589_2_0158/MD589-N53-2015.07.30-19.39.11_MD589_2_0158_image_inverted_labelmap_cellprofiler.bp yuncong@gcn:/home/yuncong/csd395/CSHL_cells_v2/detected_cells/MD589/MD589-N53-2015.07.30-19.39.11_MD589_2_0158/ \n"
     ]
    },
    {
     "name": "stderr",
     "output_type": "stream",
     "text": [
      "Child returned 0\n"
     ]
    },
    {
     "name": "stdout",
     "output_type": "stream",
     "text": [
      "scp /home/yuncong/CSHL_cells_v2/detected_cells/MD589/MD589-N55-2015.07.30-19.49.42_MD589_1_0163/MD589-N55-2015.07.30-19.49.42_MD589_1_0163_image_inverted_labelmap_cellprofiler.bp yuncong@gcn:/home/yuncong/csd395/CSHL_cells_v2/detected_cells/MD589/MD589-N55-2015.07.30-19.49.42_MD589_1_0163/ \n"
     ]
    },
    {
     "name": "stderr",
     "output_type": "stream",
     "text": [
      "Child returned 0\n"
     ]
    },
    {
     "name": "stdout",
     "output_type": "stream",
     "text": [
      "scp /home/yuncong/CSHL_cells_v2/detected_cells/MD589/MD589-N56-2015.07.30-19.54.42_MD589_3_0168/MD589-N56-2015.07.30-19.54.42_MD589_3_0168_image_inverted_labelmap_cellprofiler.bp yuncong@gcn:/home/yuncong/csd395/CSHL_cells_v2/detected_cells/MD589/MD589-N56-2015.07.30-19.54.42_MD589_3_0168/ \n"
     ]
    },
    {
     "name": "stderr",
     "output_type": "stream",
     "text": [
      "Child returned 0\n"
     ]
    },
    {
     "name": "stdout",
     "output_type": "stream",
     "text": [
      "scp /home/yuncong/CSHL_cells_v2/detected_cells/MD589/MD589-N58-2015.07.30-20.03.53_MD589_1_0172/MD589-N58-2015.07.30-20.03.53_MD589_1_0172_image_inverted_labelmap_cellprofiler.bp yuncong@gcn:/home/yuncong/csd395/CSHL_cells_v2/detected_cells/MD589/MD589-N58-2015.07.30-20.03.53_MD589_1_0172/ \n"
     ]
    },
    {
     "name": "stderr",
     "output_type": "stream",
     "text": [
      "Child returned 0\n"
     ]
    },
    {
     "name": "stdout",
     "output_type": "stream",
     "text": [
      "scp /home/yuncong/CSHL_cells_v2/detected_cells/MD589/MD589-N60-2015.07.30-20.11.20_MD589_1_0178/MD589-N60-2015.07.30-20.11.20_MD589_1_0178_image_inverted_labelmap_cellprofiler.bp yuncong@gcn:/home/yuncong/csd395/CSHL_cells_v2/detected_cells/MD589/MD589-N60-2015.07.30-20.11.20_MD589_1_0178/ \n"
     ]
    },
    {
     "name": "stderr",
     "output_type": "stream",
     "text": [
      "Child returned 0\n"
     ]
    },
    {
     "name": "stdout",
     "output_type": "stream",
     "text": [
      "scp /home/yuncong/CSHL_cells_v2/detected_cells/MD589/MD589-N61-2015.07.30-20.15.47_MD589_3_0183/MD589-N61-2015.07.30-20.15.47_MD589_3_0183_image_inverted_labelmap_cellprofiler.bp yuncong@gcn:/home/yuncong/csd395/CSHL_cells_v2/detected_cells/MD589/MD589-N61-2015.07.30-20.15.47_MD589_3_0183/ \n"
     ]
    },
    {
     "name": "stderr",
     "output_type": "stream",
     "text": [
      "Child returned 0\n"
     ]
    },
    {
     "name": "stdout",
     "output_type": "stream",
     "text": [
      "scp /home/yuncong/CSHL_cells_v2/detected_cells/MD589/MD589-N63-2015.07.30-20.23.12_MD589_2_0188/MD589-N63-2015.07.30-20.23.12_MD589_2_0188_image_inverted_labelmap_cellprofiler.bp yuncong@gcn:/home/yuncong/csd395/CSHL_cells_v2/detected_cells/MD589/MD589-N63-2015.07.30-20.23.12_MD589_2_0188/ \n"
     ]
    },
    {
     "name": "stderr",
     "output_type": "stream",
     "text": [
      "Child returned 0\n"
     ]
    },
    {
     "name": "stdout",
     "output_type": "stream",
     "text": [
      "scp /home/yuncong/CSHL_cells_v2/detected_cells/MD589/MD589-N65-2015.07.30-20.31.20_MD589_1_0193/MD589-N65-2015.07.30-20.31.20_MD589_1_0193_image_inverted_labelmap_cellprofiler.bp yuncong@gcn:/home/yuncong/csd395/CSHL_cells_v2/detected_cells/MD589/MD589-N65-2015.07.30-20.31.20_MD589_1_0193/ \n"
     ]
    },
    {
     "name": "stderr",
     "output_type": "stream",
     "text": [
      "Child returned 0\n"
     ]
    },
    {
     "name": "stdout",
     "output_type": "stream",
     "text": [
      "scp /home/yuncong/CSHL_cells_v2/detected_cells/MD589/MD589-N66-2015.07.30-20.35.16_MD589_3_0198/MD589-N66-2015.07.30-20.35.16_MD589_3_0198_image_inverted_labelmap_cellprofiler.bp yuncong@gcn:/home/yuncong/csd395/CSHL_cells_v2/detected_cells/MD589/MD589-N66-2015.07.30-20.35.16_MD589_3_0198/ \n"
     ]
    },
    {
     "name": "stderr",
     "output_type": "stream",
     "text": [
      "Child returned 0\n"
     ]
    },
    {
     "name": "stdout",
     "output_type": "stream",
     "text": [
      "scp /home/yuncong/CSHL_cells_v2/detected_cells/MD589/MD589-N68-2015.07.30-20.43.04_MD589_2_0203/MD589-N68-2015.07.30-20.43.04_MD589_2_0203_image_inverted_labelmap_cellprofiler.bp yuncong@gcn:/home/yuncong/csd395/CSHL_cells_v2/detected_cells/MD589/MD589-N68-2015.07.30-20.43.04_MD589_2_0203/ \n"
     ]
    },
    {
     "name": "stderr",
     "output_type": "stream",
     "text": [
      "Child returned 0\n"
     ]
    }
   ],
   "source": [
    "# Upload generated labelmap bp files\n",
    "\n",
    "for sec in range(first_sec, last_sec+1, 10):\n",
    "        \n",
    "    img_fn = s2f[sec]\n",
    "\n",
    "    if img_fn in ['Nonexisting', 'Rescan', 'Placeholder']:\n",
    "        continue\n",
    "\n",
    "    input_img_fp = DETECTED_CELLS_DIR + '/%(stack)s/%(img_fn)s/%(img_fn)s_image_inverted.jpg' % dict(stack=stack, img_fn=img_fn)\n",
    "    \n",
    "    labelmap_fp = os.path.splitext(input_img_fp)[0] + '_labelmap_%(alg)s.bp' % dict(alg=alg)\n",
    "    \n",
    "    # upload to Gordon\n",
    "    execute_command('scp %(labelmap_fp)s yuncong@gcn:/home/yuncong/csd395/CSHL_cells_v2/detected_cells/%(stack)s/%(img_fn)s/ ' % \\\n",
    "                   dict(labelmap_fp=labelmap_fp, stack=stack, img_fn=img_fn))"
   ]
  },
  {
   "cell_type": "code",
   "execution_count": 13,
   "metadata": {
    "collapsed": true
   },
   "outputs": [],
   "source": []
  },
  {
   "cell_type": "code",
   "execution_count": 14,
   "metadata": {
    "collapsed": false
   },
   "outputs": [
    {
     "name": "stderr",
     "output_type": "stream",
     "text": [
      "/usr/local/lib/python2.7/dist-packages/skimage/util/dtype.py:110: UserWarning: Possible precision loss when converting from float64 to uint8\n",
      "  \"%s to %s\" % (dtypeobj_in, dtypeobj))\n"
     ]
    }
   ],
   "source": [
    "viz = img_as_ubyte(label2rgb(big_labelmap, bg_label=0, bg_color=(0, 0, 0)))"
   ]
  },
  {
   "cell_type": "code",
   "execution_count": 15,
   "metadata": {
    "collapsed": false
   },
   "outputs": [],
   "source": [
    "cv2.imwrite(os.path.splitext(input_img_fp)[0] + '_labelmap_%(alg)s.png' % dict(alg=alg), viz);"
   ]
  },
  {
   "cell_type": "code",
   "execution_count": null,
   "metadata": {
    "collapsed": true
   },
   "outputs": [],
   "source": []
  }
 ],
 "metadata": {
  "kernelspec": {
   "display_name": "Python 2",
   "language": "python",
   "name": "python2"
  },
  "language_info": {
   "codemirror_mode": {
    "name": "ipython",
    "version": 2
   },
   "file_extension": ".py",
   "mimetype": "text/x-python",
   "name": "python",
   "nbconvert_exporter": "python",
   "pygments_lexer": "ipython2",
   "version": "2.7.12"
  }
 },
 "nbformat": 4,
 "nbformat_minor": 1
}
