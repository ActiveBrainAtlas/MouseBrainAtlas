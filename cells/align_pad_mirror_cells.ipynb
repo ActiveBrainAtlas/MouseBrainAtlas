{
 "cells": [
  {
   "cell_type": "code",
   "execution_count": 1,
   "metadata": {
    "collapsed": false
   },
   "outputs": [
    {
     "name": "stdout",
     "output_type": "stream",
     "text": [
      "Setting environment for Gordon\n"
     ]
    },
    {
     "name": "stderr",
     "output_type": "stream",
     "text": [
      "No vtk\n"
     ]
    }
   ],
   "source": [
    "%reload_ext autoreload\n",
    "%autoreload 2\n",
    "\n",
    "\"\"\"\n",
    "Align cells, pad to the same size, generate other three mirroring versions.\n",
    "\"\"\"\n",
    "\n",
    "import os\n",
    "import sys\n",
    "import time\n",
    "\n",
    "sys.path.append(os.path.join(os.environ['REPO_DIR'], 'utilities'))\n",
    "from utilities2015 import *\n",
    "from data_manager import *\n",
    "from metadata import *\n",
    "\n",
    "import matplotlib.pyplot as plt\n",
    "%matplotlib inline\n",
    "\n",
    "from skimage.transform import rotate\n",
    "from multiprocess import Pool\n",
    "\n",
    "from cell_utilities import *"
   ]
  },
  {
   "cell_type": "code",
   "execution_count": 2,
   "metadata": {
    "collapsed": true
   },
   "outputs": [],
   "source": [
    "stack = 'MD594'"
   ]
  },
  {
   "cell_type": "code",
   "execution_count": 3,
   "metadata": {
    "collapsed": true
   },
   "outputs": [],
   "source": [
    "# all_shapes = []\n",
    "# for sec in range(first_bs_section, last_bs_section+1):\n",
    "#     masks = load_cell_data('mask', stack=stack, sec=sec)\n",
    "#     if masks is not None:\n",
    "#         shapes = [m.shape for m in masks.tolist()]\n",
    "#         all_shapes += shapes\n",
    "\n",
    "# common_shape = np.percentile(all_shapes, 99, axis=0).astype(np.int)\n",
    "# print common_shape\n",
    "\n",
    "common_shape = (57,62)"
   ]
  },
  {
   "cell_type": "code",
   "execution_count": 25,
   "metadata": {
    "collapsed": false
   },
   "outputs": [],
   "source": [
    "def align_pad_cells(stack, sec, common_shape):\n",
    "    \"\"\"\n",
    "    Rotate cells so that its major axis is horizontal.\n",
    "    Mirror in three ways.\n",
    "    Output as hdf file.\n",
    "    \"\"\"\n",
    "\n",
    "    sys.stderr.write('Processing section: %03d\\n' % sec)\n",
    "\n",
    "    try:\n",
    "        blob_orientations = load_cell_data('orientation', stack, sec)\n",
    "        blob_masks = load_cell_data('mask', stack, sec)\n",
    "        blob_mask_centers = load_cell_data('mask_center', stack, sec)\n",
    "    except:\n",
    "        sys.stderr.write('ERROR: %d\\n' % sec)\n",
    "        return\n",
    "\n",
    "    n_blobs = len(blob_masks)\n",
    "\n",
    "    t = time.time()\n",
    "\n",
    "    # Align major axis\n",
    "    cells_aligned = [rotate(blob_masks[i], angle=-np.rad2deg(blob_orientations[i]),\n",
    "                               center=blob_mask_centers[i],\n",
    "                               cval=0.) > .5\n",
    "                    for i in range(n_blobs)]\n",
    "    cells_aligned_h = [m[:, ::-1] for m in cells_aligned]\n",
    "    cells_aligned_v = [m[::-1, :] for m in cells_aligned]\n",
    "    cells_aligned_d = [m[::-1, ::-1] for m in cells_aligned]\n",
    "\n",
    "    sys.stderr.write('Rotate cell masks: %.2f\\n' % (time.time() - t)) # 60s\n",
    "\n",
    "#     save_hdf_v2(cells_aligned, get_cell_data_filepath('cells_aligned', stack, sec))\n",
    "#     save_hdf_v2(cells_aligned_h, get_cell_data_filepath('cells_aligned_h', stack, sec))\n",
    "#     save_hdf_v2(cells_aligned_v, get_cell_data_filepath('cells_aligned_v', stack, sec))\n",
    "#     save_hdf_v2(cells_aligned_d, get_cell_data_filepath('cells_aligned_d', stack, sec))\n",
    "    \n",
    "    \n",
    "    cells_padded = pad_patches_to_same_size(cells_aligned, pad_value=0, keep_center=True, common_shape=common_shape)\n",
    "    bp.pack_ndarray_file(np.asarray(cells_padded), get_cell_data_filepath('cells_aligned_padded', stack, sec))\n",
    "    \n",
    "    cells_padded_h = pad_patches_to_same_size(cells_aligned_h, pad_value=0, keep_center=True, common_shape=common_shape)\n",
    "    bp.pack_ndarray_file(np.asarray(cells_padded_h), get_cell_data_filepath('cells_aligned_padded_h', stack, sec))\n",
    "    \n",
    "    cells_padded_v = pad_patches_to_same_size(cells_aligned_v, pad_value=0, keep_center=True, common_shape=common_shape)\n",
    "    bp.pack_ndarray_file(np.asarray(cells_padded_v), get_cell_data_filepath('cells_aligned_padded_v', stack, sec))\n",
    "    \n",
    "    cells_padded_d = pad_patches_to_same_size(cells_aligned_d, pad_value=0, keep_center=True, common_shape=common_shape)\n",
    "    bp.pack_ndarray_file(np.asarray(cells_padded_d), get_cell_data_filepath('cells_aligned_padded_d', stack, sec))"
   ]
  },
  {
   "cell_type": "code",
   "execution_count": 31,
   "metadata": {
    "collapsed": true
   },
   "outputs": [],
   "source": [
    "first_bs_section, last_bs_section = metadata_cache['section_limits'][stack]"
   ]
  },
  {
   "cell_type": "code",
   "execution_count": null,
   "metadata": {
    "collapsed": false
   },
   "outputs": [
    {
     "name": "stderr",
     "output_type": "stream",
     "text": [
      "Processing section: 097\n",
      "Processing section: 092\n",
      "Processing section: 102\n",
      "Processing section: 107\n",
      "Processing section: 112\n",
      "Processing section: 117\n",
      "Processing section: 122\n",
      "Processing section: 127\n",
      "Processing section: 132\n",
      "Processing section: 137\n",
      "Processing section: 142\n",
      "Processing section: 147\n",
      "Processing section: 152\n",
      "Processing section: 157\n",
      "Processing section: 162\n"
     ]
    }
   ],
   "source": [
    "t = time.time()\n",
    "\n",
    "pool = Pool(15)\n",
    "pool.map(lambda sec: align_pad_cells(stack, sec, common_shape=common_shape), \n",
    "         range(first_bs_section, last_bs_section+1))\n",
    "pool.close()\n",
    "pool.join()\n",
    "\n",
    "sys.stderr.write('Align cells overall: %.2f\\n' % (time.time() - t)) # 330 seconds"
   ]
  },
  {
   "cell_type": "code",
   "execution_count": null,
   "metadata": {
    "collapsed": true
   },
   "outputs": [],
   "source": []
  }
 ],
 "metadata": {
  "kernelspec": {
   "display_name": "Python 2",
   "language": "python",
   "name": "python2"
  },
  "language_info": {
   "codemirror_mode": {
    "name": "ipython",
    "version": 2
   },
   "file_extension": ".py",
   "mimetype": "text/x-python",
   "name": "python",
   "nbconvert_exporter": "python",
   "pygments_lexer": "ipython2",
   "version": "2.7.3"
  }
 },
 "nbformat": 4,
 "nbformat_minor": 1
}
