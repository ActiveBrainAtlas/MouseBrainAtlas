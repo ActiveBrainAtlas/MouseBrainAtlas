{
 "cells": [
  {
   "cell_type": "code",
   "execution_count": 2,
   "metadata": {
    "collapsed": false
   },
   "outputs": [
    {
     "name": "stdout",
     "output_type": "stream",
     "text": [
      "Setting environment for Gordon\n"
     ]
    },
    {
     "name": "stderr",
     "output_type": "stream",
     "text": [
      "No vtk\n"
     ]
    }
   ],
   "source": [
    "%reload_ext autoreload\n",
    "%autoreload 2\n",
    "\n",
    "import os\n",
    "import sys\n",
    "import time\n",
    "import cv2\n",
    "\n",
    "sys.path.append(os.path.join(os.environ['REPO_DIR'], 'utilities'))\n",
    "from utilities2015 import *\n",
    "from data_manager import *\n",
    "from metadata import *\n",
    "\n",
    "import matplotlib.pyplot as plt\n",
    "%matplotlib inline\n",
    "\n",
    "from skimage.transform import rotate\n",
    "from multiprocess import Pool\n",
    "\n",
    "import pandas"
   ]
  },
  {
   "cell_type": "code",
   "execution_count": 11,
   "metadata": {
    "collapsed": false
   },
   "outputs": [],
   "source": [
    "from cell_utilities import *"
   ]
  },
  {
   "cell_type": "code",
   "execution_count": 14,
   "metadata": {
    "collapsed": true
   },
   "outputs": [],
   "source": [
    "stack = 'MD594'"
   ]
  },
  {
   "cell_type": "code",
   "execution_count": 15,
   "metadata": {
    "collapsed": false
   },
   "outputs": [],
   "source": [
    "sections_to_filenames = metadata_cache['sections_to_filenames'][stack]\n",
    "first_bs_section, last_bs_section = metadata_cache['section_limits'][stack]"
   ]
  },
  {
   "cell_type": "code",
   "execution_count": 16,
   "metadata": {
    "collapsed": true
   },
   "outputs": [],
   "source": [
    "DETECTED_CELLS_DIR = os.path.join(DETECTED_CELLS_ROOTDIR, stack)"
   ]
  },
  {
   "cell_type": "markdown",
   "metadata": {
    "collapsed": true
   },
   "source": [
    "# Load processed cells"
   ]
  },
  {
   "cell_type": "code",
   "execution_count": 17,
   "metadata": {
    "collapsed": false
   },
   "outputs": [],
   "source": [
    "cells_aligned_padded = load_cell_data(what='cells_aligned_padded', stack=stack, sec=200)\n",
    "cells_aligned_padded_h = load_cell_data(what='cells_aligned_padded_h', stack=stack, sec=200)\n",
    "cells_aligned_padded_v = load_cell_data(what='cells_aligned_padded_v', stack=stack, sec=200)\n",
    "cells_aligned_padded_d = load_cell_data(what='cells_aligned_padded_d', stack=stack, sec=200)"
   ]
  },
  {
   "cell_type": "code",
   "execution_count": 18,
   "metadata": {
    "collapsed": false
   },
   "outputs": [
    {
     "name": "stdout",
     "output_type": "stream",
     "text": [
      "91511 cells\n"
     ]
    }
   ],
   "source": [
    "n_cells = len(cells_aligned_padded)\n",
    "print n_cells, 'cells'\n",
    "\n",
    "# cells_aligned_padded_flattened = np.reshape(cells_aligned_padded, (n_cells, -1))\n",
    "# cells_aligned_padded.shape\n",
    "\n",
    "cell_sizes = np.reshape(cells_aligned_padded, (n_cells, -1)).sum(axis=1)"
   ]
  },
  {
   "cell_type": "code",
   "execution_count": 19,
   "metadata": {
    "collapsed": false,
    "scrolled": true
   },
   "outputs": [
    {
     "data": {
      "image/png": "[encoded data removed]",
      "text/plain": [
       "<matplotlib.figure.Figure at 0x5c50950>"
      ]
     },
     "metadata": {},
     "output_type": "display_data"
    }
   ],
   "source": [
    "plt.hist(cell_sizes, bins=np.linspace(0, 1000, 100));\n",
    "plt.title('Histogram of cell sizes');\n",
    "plt.xlabel('size');\n",
    "plt.ylabel('count');\n",
    "plt.show();"
   ]
  },
  {
   "cell_type": "code",
   "execution_count": 20,
   "metadata": {
    "collapsed": false
   },
   "outputs": [
    {
     "name": "stdout",
     "output_type": "stream",
     "text": [
      "27453 36604 27454\n"
     ]
    }
   ],
   "source": [
    "# Select only the top 30% large cells and do spectral embedding only for them.\n",
    "\n",
    "cutoff_percentage_small_medium = .3\n",
    "cutoff_percentage_medium_large = .7\n",
    "c1 = int(cutoff_percentage_small_medium*n_cells)\n",
    "c2 = int(cutoff_percentage_medium_large*n_cells)\n",
    "indices_sorted_by_size = np.argsort(cell_sizes)\n",
    "small_cell_indices = indices_sorted_by_size[:c1]\n",
    "medium_cell_indices = indices_sorted_by_size[c1:c2]\n",
    "large_cell_indices = indices_sorted_by_size[c2:]\n",
    "\n",
    "n_small_cells = len(small_cell_indices)\n",
    "n_medium_cells = len(medium_cell_indices)\n",
    "n_large_cells = len(large_cell_indices)\n",
    "\n",
    "print n_small_cells, n_medium_cells, n_large_cells"
   ]
  },
  {
   "cell_type": "code",
   "execution_count": 21,
   "metadata": {
    "collapsed": true
   },
   "outputs": [],
   "source": [
    "selected_cell_indices = np.sort(large_cell_indices)\n",
    "# dataset_name = 'largest30p'\n",
    "dataset_name = 'largest30p_sizeNormalized'\n",
    "\n",
    "n_selected_cells = len(selected_cell_indices)"
   ]
  },
  {
   "cell_type": "code",
   "execution_count": 22,
   "metadata": {
    "collapsed": true
   },
   "outputs": [],
   "source": [
    "CELL_EMBEDDING_DIR = create_if_not_exists(os.path.join(CELL_EMBEDDING_ROOTDIR, dataset_name))"
   ]
  },
  {
   "cell_type": "code",
   "execution_count": null,
   "metadata": {
    "collapsed": true
   },
   "outputs": [],
   "source": []
  },
  {
   "cell_type": "code",
   "execution_count": 20,
   "metadata": {
    "collapsed": true
   },
   "outputs": [],
   "source": [
    "# cells_aligned_padded = bp.unpack_ndarray_file(output_dir + '/cells_aligned_padded.bp')\n",
    "selected_cells_aligned_padded = cells_aligned_padded[selected_cell_indices].copy()\n",
    "del cells_aligned_padded"
   ]
  },
  {
   "cell_type": "code",
   "execution_count": 22,
   "metadata": {
    "collapsed": false
   },
   "outputs": [],
   "source": [
    "# cells_h_aligned_padded = bp.unpack_ndarray_file(output_dir + '/cells_h_aligned_padded.bp')\n",
    "selected_cells_aligned_padded_h = cells_aligned_padded_h[selected_cell_indices].copy()\n",
    "del cells_aligned_padded_h"
   ]
  },
  {
   "cell_type": "code",
   "execution_count": 23,
   "metadata": {
    "collapsed": true
   },
   "outputs": [],
   "source": [
    "# cells_v_aligned_padded = bp.unpack_ndarray_file(output_dir + '/cells_v_aligned_padded.bp')\n",
    "selected_cells_aligned_padded_v = cells_aligned_padded_v[selected_cell_indices].copy()\n",
    "del cells_aligned_padded_v"
   ]
  },
  {
   "cell_type": "code",
   "execution_count": 24,
   "metadata": {
    "collapsed": false
   },
   "outputs": [],
   "source": [
    "# cells_d_aligned_padded = bp.unpack_ndarray_file(output_dir + '/cells_d_aligned_padded.bp')\n",
    "selected_cells_aligned_padded_d = cells_aligned_padded_d[selected_cell_indices].copy()\n",
    "del cells_aligned_padded_d"
   ]
  },
  {
   "cell_type": "code",
   "execution_count": 56,
   "metadata": {
    "collapsed": false
   },
   "outputs": [],
   "source": [
    "selected_cell_sizes = cell_sizes[selected_cell_indices]"
   ]
  },
  {
   "cell_type": "code",
   "execution_count": 51,
   "metadata": {
    "collapsed": true
   },
   "outputs": [],
   "source": [
    "bp.pack_ndarray_file(selected_cells_aligned_padded, os.path.join(CELL_EMBEDDING_DIR, '%(dataset_name)s_cellsAlignedPadded.bp' % dict(dataset_name=dataset_name)))"
   ]
  },
  {
   "cell_type": "code",
   "execution_count": null,
   "metadata": {
    "collapsed": false
   },
   "outputs": [],
   "source": [
    "# nonsmall_cell_masks_normalized_flattened = cell_masks_normalized_flattened[nonsmall_cells_indices].copy()\n",
    "# nonsmall_cell_masks_normalized_size = cell_masks_normalized_size[nonsmall_cells_indices].copy()\n",
    "# print nonsmall_cell_masks_normalized_flattened.shape"
   ]
  },
  {
   "cell_type": "markdown",
   "metadata": {
    "collapsed": true
   },
   "source": [
    "# Rescale all cells to the same size (optional)"
   ]
  },
  {
   "cell_type": "code",
   "execution_count": 61,
   "metadata": {
    "collapsed": false
   },
   "outputs": [
    {
     "name": "stdout",
     "output_type": "stream",
     "text": [
      "mean 382 median 290\n"
     ]
    }
   ],
   "source": [
    "mean_size = int(selected_cell_sizes.mean())\n",
    "median_size = int(np.median(selected_cell_sizes))\n",
    "print 'mean', mean_size, 'median', median_size"
   ]
  },
  {
   "cell_type": "code",
   "execution_count": 62,
   "metadata": {
    "collapsed": true
   },
   "outputs": [],
   "source": [
    "def rescale_cell(i, mean_size):\n",
    "    c = selected_cells_aligned_padded[i]\n",
    "    s = selected_cell_sizes[i]\n",
    "    rescaled = rescale(c, np.sqrt(float(mean_size)/s), cval=0) > .5\n",
    "    xmin, xmax, ymin, ymax = bbox_2d(rescaled)\n",
    "    rescaled_centered = rescaled[ymin:ymax+1, xmin:xmax+1].copy()\n",
    "    return rescaled_centered"
   ]
  },
  {
   "cell_type": "code",
   "execution_count": 64,
   "metadata": {
    "collapsed": false
   },
   "outputs": [
    {
     "name": "stderr",
     "output_type": "stream",
     "text": [
      "Scale to same size: 6.936948 s.\n"
     ]
    }
   ],
   "source": [
    "t = time.time()\n",
    "\n",
    "pool = Pool(15)\n",
    "selected_cells_aligned_rescaled = pool.map(lambda i: rescale_cell(i, mean_size), range(n_selected_cells))\n",
    "pool.terminate()\n",
    "pool.join()\n",
    "\n",
    "sys.stderr.write('Scale to same size: %f s.\\n' % (time.time()-t)) # 24s / 60k cells"
   ]
  },
  {
   "cell_type": "code",
   "execution_count": 65,
   "metadata": {
    "collapsed": true
   },
   "outputs": [],
   "source": [
    "common_shape = (57,62)"
   ]
  },
  {
   "cell_type": "code",
   "execution_count": 77,
   "metadata": {
    "collapsed": true
   },
   "outputs": [],
   "source": [
    "selected_cells_aligned_rescaled_padded = np.asarray(pad_patches_to_same_size(selected_cells_aligned_rescaled, \n",
    "                                          pad_value=0, keep_center=True, common_shape=common_shape))"
   ]
  },
  {
   "cell_type": "code",
   "execution_count": 78,
   "metadata": {
    "collapsed": true
   },
   "outputs": [],
   "source": [
    "selected_cells_aligned_rescaled_padded_h = np.asarray([m[:, ::-1] for m in selected_cells_aligned_rescaled_padded])\n",
    "selected_cells_aligned_rescaled_padded_v = np.asarray([m[::-1, :] for m in selected_cells_aligned_rescaled_padded])\n",
    "selected_cells_aligned_rescaled_padded_d = np.asarray([m[::-1, ::-1] for m in selected_cells_aligned_rescaled_padded])"
   ]
  },
  {
   "cell_type": "code",
   "execution_count": 122,
   "metadata": {
    "collapsed": false
   },
   "outputs": [],
   "source": [
    "# selected_cells_aligned_rescaled_padded_flattened = np.reshape(selected_cells_aligned_rescaled_padded, (n_selected_cells, -1))\n",
    "selected_cell_rescaled_sizes = selected_cells_aligned_rescaled_padded_flattened.sum(axis=1)"
   ]
  },
  {
   "cell_type": "code",
   "execution_count": 153,
   "metadata": {
    "collapsed": true
   },
   "outputs": [],
   "source": [
    "bp.pack_ndarray_file(selected_cells_aligned_rescaled_padded, \n",
    "                     os.path.join(CELL_EMBEDDING_DIR, '%(dataset_name)s_cellsAlignedPadded.bp' % \n",
    "                                  {'dataset_name': dataset_name}))\n",
    "\n",
    "bp.pack_ndarray_file(selected_cells_aligned_rescaled_padded_h, \n",
    "                     os.path.join(CELL_EMBEDDING_DIR, '%(dataset_name)s_cellsAlignedPadded_h.bp' % \n",
    "                                  {'dataset_name': dataset_name}))\n",
    "\n",
    "bp.pack_ndarray_file(selected_cells_aligned_rescaled_padded_v, \n",
    "                     os.path.join(CELL_EMBEDDING_DIR, '%(dataset_name)s_cellsAlignedPadded_v.bp' % \n",
    "                                  {'dataset_name': dataset_name}))\n",
    "\n",
    "bp.pack_ndarray_file(selected_cells_aligned_rescaled_padded_d, \n",
    "                     os.path.join(CELL_EMBEDDING_DIR, '%(dataset_name)s_cellsAlignedPadded_d.bp' % \n",
    "                                  {'dataset_name': dataset_name}))\n",
    "\n",
    "bp.pack_ndarray_file(np.array(selected_cell_rescaled_sizes), \n",
    "                     os.path.join(CELL_EMBEDDING_DIR, '%(dataset_name)s_rescaledSizes.bp' % \n",
    "                                  {'dataset_name': dataset_name}))\n",
    "\n",
    "# bp.pack_ndarray_file(selected_cells_indices, \n",
    "#                      os.path.join(CELL_EMBEDDING_DIR, '%(dataset_name)s_indices.bp' % \\\n",
    "#                                   {'dataset_name': dataset_name, 'cutoff': cutoff_percentage_small_medium*100}))"
   ]
  },
  {
   "cell_type": "code",
   "execution_count": null,
   "metadata": {
    "collapsed": true
   },
   "outputs": [],
   "source": []
  },
  {
   "cell_type": "code",
   "execution_count": 21,
   "metadata": {
    "collapsed": false
   },
   "outputs": [],
   "source": [
    "# bp.pack_ndarray_file(np.array(selected_cells_aligned_padded), output_dir + '/%(dataset_name)s_aligned_padded_cutoff%(cutoff)d.bp' % \n",
    "#                      {'dataset_name': dataset_name, 'cutoff': cutoff_percentage_medium_large*100})\n",
    "\n",
    "# bp.pack_ndarray_file(np.array(selected_cells_h_aligned_padded), output_dir + '/%(dataset_name)s_h_aligned_padded_cutoff%(cutoff)d.bp' % \n",
    "#                      {'dataset_name': dataset_name, 'cutoff': cutoff_percentage_medium_large*100})\n",
    "\n",
    "# bp.pack_ndarray_file(np.array(selected_cells_v_aligned_padded), output_dir + '/%(dataset_name)s_v_aligned_padded_cutoff%(cutoff)d.bp' % \n",
    "#                      {'dataset_name': dataset_name, 'cutoff': cutoff_percentage_medium_large*100})\n",
    "\n",
    "# bp.pack_ndarray_file(np.array(selected_cells_d_aligned_padded), output_dir + '/%(dataset_name)s_d_aligned_padded_cutoff%(cutoff)d.bp' % \n",
    "#                      {'dataset_name': dataset_name, 'cutoff': cutoff_percentage_medium_large*100})\n",
    "\n",
    "bp.pack_ndarray_file(np.array(selected_cell_sizes), output_dir + '/%(dataset_name)s_sizes.bp' % \n",
    "                     {'dataset_name': dataset_name})\n",
    "\n",
    "bp.pack_ndarray_file(selected_cell_indices, output_dir + '/%(dataset_name)s_indices.bp' % \n",
    "                     {'dataset_name': dataset_name})"
   ]
  },
  {
   "cell_type": "markdown",
   "metadata": {
    "collapsed": true
   },
   "source": [
    "# KMeans++"
   ]
  },
  {
   "cell_type": "code",
   "execution_count": null,
   "metadata": {
    "collapsed": true
   },
   "outputs": [],
   "source": [
    "# set_selected_cell_arrays(selected_cells_aligned_padded.reshape((n_selected_cells, -1)), \n",
    "#                          selected_cells_aligned_padded_h.reshape((n_selected_cells, -1)),\n",
    "#                         selected_cells_aligned_padded_v.reshape((n_selected_cells, -1)),\n",
    "#                         selected_cells_aligned_padded_d.reshape((n_selected_cells, -1)),\n",
    "#                         selected_cell_sizes)"
   ]
  },
  {
   "cell_type": "code",
   "execution_count": 143,
   "metadata": {
    "collapsed": false
   },
   "outputs": [],
   "source": [
    "set_selected_cell_arrays(selected_cells_aligned_rescaled_padded.reshape((n_selected_cells, -1)), \n",
    "                         selected_cells_aligned_rescaled_padded_h.reshape((n_selected_cells, -1)),\n",
    "                        selected_cells_aligned_rescaled_padded_v.reshape((n_selected_cells, -1)),\n",
    "                        selected_cells_aligned_rescaled_padded_d.reshape((n_selected_cells, -1)),\n",
    "                        selected_cell_rescaled_sizes)"
   ]
  },
  {
   "cell_type": "code",
   "execution_count": 144,
   "metadata": {
    "collapsed": true
   },
   "outputs": [],
   "source": [
    "def kmeans_plusplus(n_class):\n",
    "    \"\"\"\n",
    "    compute_jaccard_i_vs_all() uses module-wide variables set by set_selected_cell_arrays().\n",
    "    \"\"\"\n",
    "    \n",
    "    seeds = np.empty((n_class, ), np.int)\n",
    "\n",
    "    distances_to_closest_seed = np.empty((n_selected_cells, ))\n",
    "    indices_of_closest_seed = np.empty((n_selected_cells, ), np.int)\n",
    "\n",
    "    t1 = time.time()\n",
    "\n",
    "    bar = show_progress_bar(0, n_class)\n",
    "\n",
    "    for it in range(n_class):\n",
    "\n",
    "        bar.value = it\n",
    "\n",
    "        if it == 0:\n",
    "            seed = np.random.randint(n_selected_cells)\n",
    "        else:\n",
    "            seed = np.random.choice(range(n_selected_cells), 1, p=d2_weights)[0]\n",
    "\n",
    "        seeds[it] = int(seed)\n",
    "\n",
    "    #     t = time.time()\n",
    "        distances = 1. - compute_jaccard_i_vs_all(seed)\n",
    "    #     distances = 1. - compute_jaccard_with_i_parallel(seed)\n",
    "    #     print time.time() - t\n",
    "        # sequential: 0.05-0.5s / 20k cells\n",
    "        # parallel: 0.35s, even slower than sequential\n",
    "\n",
    "\n",
    "        if it == 0:\n",
    "            distances_to_closest_seed = distances\n",
    "            indices_of_closest_seed[:] = 0\n",
    "        else:    \n",
    "            needs_update = distances < distances_to_closest_seed\n",
    "            distances_to_closest_seed[needs_update] = distances[needs_update]\n",
    "            indices_of_closest_seed[needs_update] = it\n",
    "            \n",
    "        d2s = distances_to_closest_seed**2\n",
    "        d2_weights = d2s / d2s.sum()\n",
    "\n",
    "    sys.stderr.write('Kmeans++: %.2f seconds.\\n' % (time.time() - t1)) # 164s / 1000 centers\n",
    "    \n",
    "    return seeds, indices_of_closest_seed"
   ]
  },
  {
   "cell_type": "code",
   "execution_count": 145,
   "metadata": {
    "collapsed": false
   },
   "outputs": [
    {
     "name": "stderr",
     "output_type": "stream",
     "text": [
      "Kmeans++: 25.35 seconds.\n"
     ]
    }
   ],
   "source": [
    "seeds, indices_of_closest_seed = kmeans_plusplus(n_class=100)"
   ]
  },
  {
   "cell_type": "code",
   "execution_count": 146,
   "metadata": {
    "collapsed": false
   },
   "outputs": [],
   "source": [
    "bp.pack_ndarray_file(seeds, os.path.join(CELL_EMBEDDING_DIR, '%(dataset_name)s_kmeansppCenters.bp' % {'dataset_name': dataset_name}))\n",
    "\n",
    "bp.pack_ndarray_file(indices_of_closest_seed, os.path.join(CELL_EMBEDDING_DIR, '%(dataset_name)s_closestKmeansppCenters.bp' % \\\n",
    "                     {'dataset_name': dataset_name}))\n",
    "\n",
    "# bp.pack_ndarray_file(memberCount, output_dir + '/%(dataset_name)s_indices_cutoff%(cutoff)d_kmeansppCentersMemberCount.bp' % \\\n",
    "#                     {'dataset_name': dataset_name, 'cutoff': cutoff_percentage_medium_large*100})"
   ]
  },
  {
   "cell_type": "markdown",
   "metadata": {
    "collapsed": true
   },
   "source": [
    "# Load Kmeans++ results"
   ]
  },
  {
   "cell_type": "code",
   "execution_count": 42,
   "metadata": {
    "collapsed": false
   },
   "outputs": [
    {
     "name": "stdout",
     "output_type": "stream",
     "text": [
      "100 kmeans++ centers\n"
     ]
    }
   ],
   "source": [
    "seeds = bp.unpack_ndarray_file(os.path.join(CELL_EMBEDDING_ROOTDIR, '%(dataset_name)s_kmeansppCenters.bp' % \\\n",
    "                               {'dataset_name': dataset_name}))\n",
    "\n",
    "indices_of_closest_seed = bp.unpack_ndarray_file(os.path.join(CELL_EMBEDDING_ROOTDIR, '%(dataset_name)s_closestKmeansppCenters.bp' % \\\n",
    "                                                 {'dataset_name': dataset_name}))\n",
    "\n",
    "print len(seeds), 'kmeans++ centers'"
   ]
  },
  {
   "cell_type": "code",
   "execution_count": 147,
   "metadata": {
    "collapsed": true
   },
   "outputs": [],
   "source": [
    "memberCount = np.bincount(indices_of_closest_seed, minlength=len(seeds))\n",
    "seedIndices_sorted_by_memberCount = np.argsort(memberCount)[::-1]\n",
    "memberCount_sorted = memberCount[seedIndices_sorted_by_memberCount]\n",
    "seeds_ranked_by_memberCount = seeds[seedIndices_sorted_by_memberCount]"
   ]
  },
  {
   "cell_type": "code",
   "execution_count": 148,
   "metadata": {
    "collapsed": false
   },
   "outputs": [
    {
     "data": {
      "image/png": "[encoded data removed]",
      "text/plain": [
       "<matplotlib.figure.Figure at 0x1e35db50>"
      ]
     },
     "metadata": {},
     "output_type": "display_data"
    }
   ],
   "source": [
    "plt.plot(np.cumsum(memberCount_sorted) / float(n_selected_cells));\n",
    "plt.xlabel('top # seeds');\n",
    "plt.ylabel('percentage of data covered');"
   ]
  },
  {
   "cell_type": "code",
   "execution_count": 149,
   "metadata": {
    "collapsed": true
   },
   "outputs": [],
   "source": [
    "def compute_embedding(sample_indices):\n",
    "    \"\"\"\n",
    "    compute_jaccard_i_vs_all() uses module-wide variables set by set_selected_cell_arrays().\n",
    "    \"\"\"\n",
    "    \n",
    "    n_samples = len(sample_indices)\n",
    "    \n",
    "    t = time.time()\n",
    "\n",
    "    affinities_with_samples = compute_jaccard_list_vs_all(sample_indices)\n",
    "\n",
    "    sys.stderr.write('Compute pairwise affinities (with samples): %f s.\\n' % (time.time()-t)) # 10 s / 200\n",
    "    \n",
    "    nonsample_indices = np.setdiff1d(range(affinities_with_samples.shape[1]), sample_indices)\n",
    "    permutation = np.r_[sample_indices, nonsample_indices]\n",
    "\n",
    "    ########################\n",
    "\n",
    "    t = time.time()\n",
    "\n",
    "    from scipy.linalg import sqrtm\n",
    "\n",
    "    A = affinities_with_samples[:, sample_indices].copy()\n",
    "    B = affinities_with_samples[:, nonsample_indices].copy()\n",
    "\n",
    "    d1 = np.sum(np.c_[A, B], axis=1)\n",
    "    Ai = np.linalg.inv(A)\n",
    "    d2 = np.sum(B, axis=0) + np.dot(B.T, np.dot(Ai, np.sum(B, axis=1)))\n",
    "    dhat_si = np.sqrt(1./np.r_[d1, d2])\n",
    "    A = A*np.outer(dhat_si[:n_samples], dhat_si[:n_samples])\n",
    "    B = B*np.outer(dhat_si[:n_samples], dhat_si[n_samples:])\n",
    "\n",
    "    if any(np.linalg.eigvals(A) < 0):\n",
    "        # A is indefinite\n",
    "        print 'A is indefinite'\n",
    "\n",
    "        U, L, UT = np.linalg.svd(A)\n",
    "\n",
    "        Ubar = np.c_[U.T, np.dot(np.dot(np.linalg.inv(np.diag(L)), U.T), B)]\n",
    "        Z = np.dot(Ubar.T, np.diag(np.sqrt(L)))\n",
    "        F, S, FT = np.linalg.svd(np.dot(Z.T, Z))\n",
    "        V = np.dot(np.dot(Z, F), np.linalg.inv(np.diag(np.sqrt(S))))\n",
    "\n",
    "    else:\n",
    "        # A is positive definite\n",
    "        print 'A is positive definite'\n",
    "        \n",
    "        Asi = sqrtm(Ai)\n",
    "\n",
    "        M = np.dot(B.T, Asi)\n",
    "        S = A + np.dot(M.T, M)\n",
    "\n",
    "        U, L, T = np.linalg.svd(S)\n",
    "\n",
    "        V = np.dot(np.vstack([A, B.T]), np.dot(Asi, np.dot(U, np.linalg.inv(np.diag(np.sqrt(L))))))\n",
    "\n",
    "    sys.stderr.write('Nystroem: %f s.\\n' % (time.time()-t))\n",
    "\n",
    "\n",
    "    ##########################\n",
    "\n",
    "    E_allEig = V[:,1:]/V[:,0][:,None]\n",
    "\n",
    "    E_allEig_original_order = np.zeros_like(E_allEig)\n",
    "    E_allEig_original_order[permutation] = E_allEig\n",
    "    \n",
    "    return E_allEig_original_order"
   ]
  },
  {
   "cell_type": "code",
   "execution_count": 150,
   "metadata": {
    "collapsed": false
   },
   "outputs": [
    {
     "name": "stderr",
     "output_type": "stream",
     "text": [
      "Compute pairwise affinities (with samples): 2.521326 s.\n",
      "Nystroem: 0.184314 s.\n"
     ]
    },
    {
     "name": "stdout",
     "output_type": "stream",
     "text": [
      "A is positive definite\n"
     ]
    }
   ],
   "source": [
    "# our data, Nystroem extension\n",
    "# https://people.eecs.berkeley.edu/~malik/papers/FBCM-nystrom.pdf\n",
    "\n",
    "\n",
    "# for n_seeds in [100, 200, 1000]:\n",
    "n_nystrom_samples = 100\n",
    "nystrom_sample_indices = seeds_ranked_by_memberCount[:n_nystrom_samples].copy() # Use top n_nystrom_samples most populated kmeans++ centers\n",
    "embeddings = compute_embedding(nystrom_sample_indices)\n",
    "\n",
    "embeddings_normalized = (embeddings - embeddings.mean(axis=0)) / embeddings.std(axis=0)\n",
    "\n",
    "#     bp.pack_ndarray_file(E_allEig_original_order, \n",
    "#                          output_dir +  '/embeddingAllEigen_%(dataset_name)s_nystromSample%(n_seeds)d.bp' % \\\n",
    "#                          {'dataset_name': dataset_name, 'n_seeds': n_seeds})\n",
    "\n",
    "# print E_allEig_original_order.mean(axis=0)\n",
    "# print E_allEig_original_order.std(axis=0)\n",
    "\n",
    "# E_allEig_original_order_normalized = (E_allEig_original_order-E_allEig_original_order.mean(axis=0))/E_allEig_original_order.std(axis=0)\n",
    "\n",
    "#     bp.pack_ndarray_file(E_allEig_original_order_normalized, \n",
    "#                          output_dir + '/embeddingAllEigenNormalized_%(dataset_name)s_nystromSample%(n_seeds)d.bp' % \\\n",
    "#                          {'dataset_name': dataset_name, 'n_seeds': n_seeds})"
   ]
  },
  {
   "cell_type": "code",
   "execution_count": 151,
   "metadata": {
    "collapsed": false
   },
   "outputs": [],
   "source": [
    "bp.pack_ndarray_file(embeddings, os.path.join(CELL_EMBEDDING_DIR, 'embeddings_%(dataset_name)s_nystromSample%(n_samples)d.bp' % \\\n",
    "                     {'dataset_name': dataset_name, 'n_samples': n_nystrom_samples}))\n",
    "bp.pack_ndarray_file(embeddings_normalized, os.path.join(CELL_EMBEDDING_DIR, 'embeddings_normalized_%(dataset_name)s_nystromSample%(n_samples)d.bp' % \\\n",
    "                     {'dataset_name': dataset_name, 'n_samples': n_nystrom_samples}))"
   ]
  },
  {
   "cell_type": "code",
   "execution_count": 152,
   "metadata": {
    "collapsed": false,
    "scrolled": true
   },
   "outputs": [
    {
     "name": "stdout",
     "output_type": "stream",
     "text": [
      "(26350, 99)\n"
     ]
    }
   ],
   "source": [
    "print embeddings.shape"
   ]
  }
 ],
 "metadata": {
  "kernelspec": {
   "display_name": "Python 2",
   "language": "python",
   "name": "python2"
  },
  "language_info": {
   "codemirror_mode": {
    "name": "ipython",
    "version": 2
   },
   "file_extension": ".py",
   "mimetype": "text/x-python",
   "name": "python",
   "nbconvert_exporter": "python",
   "pygments_lexer": "ipython2",
   "version": "2.7.3"
  },
  "widgets": {
   "state": {
    "e0c8fc5c9eb44db38578588bc139d391": {
     "views": [
      {
       "cell_index": 42
      }
     ]
    }
   },
   "version": "1.2.0"
  }
 },
 "nbformat": 4,
 "nbformat_minor": 0
}
