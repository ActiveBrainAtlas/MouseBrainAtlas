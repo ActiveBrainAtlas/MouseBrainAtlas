{
 "cells": [
  {
   "cell_type": "code",
   "execution_count": 1,
   "metadata": {
    "collapsed": false
   },
   "outputs": [
    {
     "name": "stdout",
     "output_type": "stream",
     "text": [
      "Setting environment for Gordon\n"
     ]
    },
    {
     "name": "stderr",
     "output_type": "stream",
     "text": [
      "No vtk\n"
     ]
    }
   ],
   "source": [
    "%reload_ext autoreload\n",
    "%autoreload 2\n",
    "\n",
    "import os\n",
    "import sys\n",
    "import time\n",
    "import cv2\n",
    "\n",
    "# from joblib import Parallel, delayed\n",
    "\n",
    "sys.path.append(os.path.join(os.environ['REPO_DIR'], 'utilities'))\n",
    "from utilities2015 import *\n",
    "from data_manager import *\n",
    "from metadata import *\n",
    "\n",
    "import matplotlib.pyplot as plt\n",
    "%matplotlib inline"
   ]
  },
  {
   "cell_type": "code",
   "execution_count": 2,
   "metadata": {
    "collapsed": false
   },
   "outputs": [],
   "source": [
    "from skimage.filters import threshold_otsu\n",
    "from scipy.ndimage.morphology import distance_transform_edt\n",
    "from skimage.feature import peak_local_max\n",
    "from skimage.morphology import watershed\n",
    "from skimage.measure import regionprops, label, find_contours\n",
    "from skimage.transform import resize\n",
    "\n",
    "from annotation_utilities import *\n",
    "from registration_utilities import *\n",
    "\n",
    "import pandas"
   ]
  },
  {
   "cell_type": "code",
   "execution_count": 3,
   "metadata": {
    "collapsed": true
   },
   "outputs": [],
   "source": [
    "stack = 'MD589'"
   ]
  },
  {
   "cell_type": "code",
   "execution_count": 4,
   "metadata": {
    "collapsed": true
   },
   "outputs": [],
   "source": [
    "min_blob_area = 10\n",
    "max_blob_area = 10000"
   ]
  },
  {
   "cell_type": "code",
   "execution_count": 5,
   "metadata": {
    "collapsed": true
   },
   "outputs": [],
   "source": [
    "sections_to_filenames = metadata_cache['sections_to_filenames'][stack]\n",
    "first_bs_section, last_bs_section = metadata_cache['section_limits'][stack]"
   ]
  },
  {
   "cell_type": "code",
   "execution_count": 6,
   "metadata": {
    "collapsed": true
   },
   "outputs": [],
   "source": [
    "output_dir = create_if_not_exists('/home/yuncong/csd395/CSHL_cells_v2/detected_cells/' + stack)"
   ]
  },
  {
   "cell_type": "code",
   "execution_count": 7,
   "metadata": {
    "collapsed": true
   },
   "outputs": [],
   "source": [
    "alg = 'cellprofiler'\n",
    "# alg = 'farsight'\n",
    "# alg = 'myown'"
   ]
  },
  {
   "cell_type": "code",
   "execution_count": 11,
   "metadata": {
    "collapsed": false,
    "scrolled": true
   },
   "outputs": [
    {
     "name": "stderr",
     "output_type": "stream",
     "text": [
      "Processing section: 092\n",
      "Child returned 0\n"
     ]
    },
    {
     "name": "stdout",
     "output_type": "stream",
     "text": [
      "cp /oasis/projects/nsf/csd395/yuncong/CSHL_data_processed/MD589/MD589_lossless_unsorted_alignedTo_MD589-IHC31-2015.07.30-23.26.22_MD589_1_0091_cropped_compressed/MD589-N16-2015.07.30-17.03.43_MD589_3_0048_lossless_alignedTo_MD589-IHC31-2015.07.30-23.26.22_MD589_1_0091_cropped_compressed.jpg /home/yuncong/csd395/CSHL_cells_v2/detected_cells/MD589/MD589-N16-2015.07.30-17.03.43_MD589_3_0048/MD589-N16-2015.07.30-17.03.43_MD589_3_0048_image.jpg\n"
     ]
    },
    {
     "name": "stderr",
     "output_type": "stream",
     "text": [
      "Load mask: 9.61\n",
      "regionprops: 1.61\n",
      "55333 blobs identified.\n",
      "/oasis/projects/nsf/csd395/yuncong/brain_virtualenv/lib/python2.7/site-packages/pandas/core/generic.py:1101: PerformanceWarning: \n",
      "your performance may suffer as PyTables will pickle object types that it cannot\n",
      "map directly to c-types [inferred_type->mixed,key->values] [items->None]\n",
      "\n",
      "  return pytables.to_hdf(path_or_buf, key, self, **kwargs)\n",
      "Save blob coords: 2.68\n",
      "Save blob masks: 7.25\n",
      "Save blob contours, save: 8.81\n",
      "Compute blob properties, save: 9.14\n",
      "Processing section: 102\n"
     ]
    },
    {
     "name": "stdout",
     "output_type": "stream",
     "text": [
      "cp /oasis/projects/nsf/csd395/yuncong/CSHL_data_processed/MD589/MD589_lossless_unsorted_alignedTo_MD589-IHC31-2015.07.30-23.26.22_MD589_1_0091_cropped_compressed/MD589-N18-2015.07.30-17.11.24_MD589_2_0053_lossless_alignedTo_MD589-IHC31-2015.07.30-23.26.22_MD589_1_0091_cropped_compressed.jpg /home/yuncong/csd395/CSHL_cells_v2/detected_cells/MD589/MD589-N18-2015.07.30-17.11.24_MD589_2_0053/MD589-N18-2015.07.30-17.11.24_MD589_2_0053_image.jpg\n"
     ]
    },
    {
     "name": "stderr",
     "output_type": "stream",
     "text": [
      "Child returned 0\n",
      "Load mask: 9.51\n",
      "regionprops: 2.16\n",
      "57643 blobs identified.\n",
      "Save blob coords: 2.88\n",
      "Save blob masks: 7.59\n",
      "Save blob contours, save: 9.13\n",
      "Compute blob properties, save: 9.89\n",
      "Processing section: 112\n"
     ]
    },
    {
     "name": "stdout",
     "output_type": "stream",
     "text": [
      "cp /oasis/projects/nsf/csd395/yuncong/CSHL_data_processed/MD589/MD589_lossless_unsorted_alignedTo_MD589-IHC31-2015.07.30-23.26.22_MD589_1_0091_cropped_compressed/MD589-N20-2015.07.30-17.19.14_MD589_1_0058_lossless_alignedTo_MD589-IHC31-2015.07.30-23.26.22_MD589_1_0091_cropped_compressed.jpg /home/yuncong/csd395/CSHL_cells_v2/detected_cells/MD589/MD589-N20-2015.07.30-17.19.14_MD589_1_0058/MD589-N20-2015.07.30-17.19.14_MD589_1_0058_image.jpg\n"
     ]
    },
    {
     "name": "stderr",
     "output_type": "stream",
     "text": [
      "Child returned 0\n",
      "Load mask: 9.52\n",
      "regionprops: 2.24\n",
      "62419 blobs identified.\n",
      "Save blob coords: 3.39\n",
      "Save blob masks: 8.72\n",
      "Save blob contours, save: 9.85\n",
      "Compute blob properties, save: 11.13\n",
      "Processing section: 122\n"
     ]
    },
    {
     "name": "stdout",
     "output_type": "stream",
     "text": [
      "cp /oasis/projects/nsf/csd395/yuncong/CSHL_data_processed/MD589/MD589_lossless_unsorted_alignedTo_MD589-IHC31-2015.07.30-23.26.22_MD589_1_0091_cropped_compressed/MD589-N21-2015.07.30-17.23.23_MD589_3_0063_lossless_alignedTo_MD589-IHC31-2015.07.30-23.26.22_MD589_1_0091_cropped_compressed.jpg /home/yuncong/csd395/CSHL_cells_v2/detected_cells/MD589/MD589-N21-2015.07.30-17.23.23_MD589_3_0063/MD589-N21-2015.07.30-17.23.23_MD589_3_0063_image.jpg\n"
     ]
    },
    {
     "name": "stderr",
     "output_type": "stream",
     "text": [
      "Child returned 0\n",
      "Load mask: 9.53\n",
      "regionprops: 1.91\n",
      "61464 blobs identified.\n",
      "Save blob coords: 3.07\n",
      "Save blob masks: 8.32\n",
      "Save blob contours, save: 9.62\n",
      "Compute blob properties, save: 10.53\n",
      "Processing section: 132\n"
     ]
    },
    {
     "name": "stdout",
     "output_type": "stream",
     "text": [
      "cp /oasis/projects/nsf/csd395/yuncong/CSHL_data_processed/MD589/MD589_lossless_unsorted_alignedTo_MD589-IHC31-2015.07.30-23.26.22_MD589_1_0091_cropped_compressed/MD589-N23-2015.07.30-17.31.29_MD589_2_0068_lossless_alignedTo_MD589-IHC31-2015.07.30-23.26.22_MD589_1_0091_cropped_compressed.jpg /home/yuncong/csd395/CSHL_cells_v2/detected_cells/MD589/MD589-N23-2015.07.30-17.31.29_MD589_2_0068/MD589-N23-2015.07.30-17.31.29_MD589_2_0068_image.jpg\n"
     ]
    },
    {
     "name": "stderr",
     "output_type": "stream",
     "text": [
      "Child returned 0\n",
      "Load mask: 9.53\n",
      "regionprops: 2.27\n",
      "67014 blobs identified.\n",
      "Save blob coords: 3.39\n",
      "Save blob masks: 8.98\n",
      "Save blob contours, save: 10.75\n",
      "Compute blob properties, save: 11.33\n",
      "Processing section: 142\n"
     ]
    },
    {
     "name": "stdout",
     "output_type": "stream",
     "text": [
      "cp /oasis/projects/nsf/csd395/yuncong/CSHL_data_processed/MD589/MD589_lossless_unsorted_alignedTo_MD589-IHC31-2015.07.30-23.26.22_MD589_1_0091_cropped_compressed/MD589-N25-2015.07.30-17.40.16_MD589_1_0073_lossless_alignedTo_MD589-IHC31-2015.07.30-23.26.22_MD589_1_0091_cropped_compressed.jpg /home/yuncong/csd395/CSHL_cells_v2/detected_cells/MD589/MD589-N25-2015.07.30-17.40.16_MD589_1_0073/MD589-N25-2015.07.30-17.40.16_MD589_1_0073_image.jpg\n"
     ]
    },
    {
     "name": "stderr",
     "output_type": "stream",
     "text": [
      "Child returned 0\n",
      "Load mask: 9.65\n",
      "regionprops: 2.35\n",
      "60411 blobs identified.\n",
      "Save blob coords: 2.99\n",
      "Save blob masks: 8.09\n",
      "Save blob contours, save: 9.60\n",
      "Compute blob properties, save: 10.26\n",
      "Processing section: 152\n"
     ]
    },
    {
     "name": "stdout",
     "output_type": "stream",
     "text": [
      "cp /oasis/projects/nsf/csd395/yuncong/CSHL_data_processed/MD589/MD589_lossless_unsorted_alignedTo_MD589-IHC31-2015.07.30-23.26.22_MD589_1_0091_cropped_compressed/MD589-N26-2015.07.30-17.44.37_MD589_3_0078_lossless_alignedTo_MD589-IHC31-2015.07.30-23.26.22_MD589_1_0091_cropped_compressed.jpg /home/yuncong/csd395/CSHL_cells_v2/detected_cells/MD589/MD589-N26-2015.07.30-17.44.37_MD589_3_0078/MD589-N26-2015.07.30-17.44.37_MD589_3_0078_image.jpg\n"
     ]
    },
    {
     "name": "stderr",
     "output_type": "stream",
     "text": [
      "Child returned 0\n",
      "Load mask: 9.55\n",
      "regionprops: 1.93\n",
      "75778 blobs identified.\n",
      "Save blob coords: 3.78\n",
      "Save blob masks: 10.37\n",
      "Save blob contours, save: 11.78\n",
      "Compute blob properties, save: 13.01\n",
      "Processing section: 162\n"
     ]
    },
    {
     "name": "stdout",
     "output_type": "stream",
     "text": [
      "cp /oasis/projects/nsf/csd395/yuncong/CSHL_data_processed/MD589/MD589_lossless_unsorted_alignedTo_MD589-IHC31-2015.07.30-23.26.22_MD589_1_0091_cropped_compressed/MD589-N28-2015.07.30-17.53.43_MD589_2_0083_lossless_alignedTo_MD589-IHC31-2015.07.30-23.26.22_MD589_1_0091_cropped_compressed.jpg /home/yuncong/csd395/CSHL_cells_v2/detected_cells/MD589/MD589-N28-2015.07.30-17.53.43_MD589_2_0083/MD589-N28-2015.07.30-17.53.43_MD589_2_0083_image.jpg\n"
     ]
    },
    {
     "name": "stderr",
     "output_type": "stream",
     "text": [
      "Child returned 0\n",
      "Load mask: 9.66\n",
      "regionprops: 2.62\n",
      "83833 blobs identified.\n",
      "Save blob coords: 4.20\n",
      "Save blob masks: 11.17\n",
      "Save blob contours, save: 13.18\n",
      "Compute blob properties, save: 14.08\n",
      "Processing section: 172\n"
     ]
    },
    {
     "name": "stdout",
     "output_type": "stream",
     "text": [
      "cp /oasis/projects/nsf/csd395/yuncong/CSHL_data_processed/MD589/MD589_lossless_unsorted_alignedTo_MD589-IHC31-2015.07.30-23.26.22_MD589_1_0091_cropped_compressed/MD589-N30-2015.07.30-18.03.11_MD589_1_0088_lossless_alignedTo_MD589-IHC31-2015.07.30-23.26.22_MD589_1_0091_cropped_compressed.jpg /home/yuncong/csd395/CSHL_cells_v2/detected_cells/MD589/MD589-N30-2015.07.30-18.03.11_MD589_1_0088/MD589-N30-2015.07.30-18.03.11_MD589_1_0088_image.jpg\n"
     ]
    },
    {
     "name": "stderr",
     "output_type": "stream",
     "text": [
      "Child returned 0\n",
      "Load mask: 9.53\n",
      "regionprops: 2.25\n",
      "90066 blobs identified.\n",
      "Save blob coords: 4.48\n",
      "Save blob masks: 12.11\n",
      "Save blob contours, save: 14.24\n",
      "Compute blob properties, save: 15.21\n",
      "Processing section: 182\n"
     ]
    },
    {
     "name": "stdout",
     "output_type": "stream",
     "text": [
      "cp /oasis/projects/nsf/csd395/yuncong/CSHL_data_processed/MD589/MD589_lossless_unsorted_alignedTo_MD589-IHC31-2015.07.30-23.26.22_MD589_1_0091_cropped_compressed/MD589-N32-2015.07.30-18.12.36_MD589_1_0094_lossless_alignedTo_MD589-IHC31-2015.07.30-23.26.22_MD589_1_0091_cropped_compressed.jpg /home/yuncong/csd395/CSHL_cells_v2/detected_cells/MD589/MD589-N32-2015.07.30-18.12.36_MD589_1_0094/MD589-N32-2015.07.30-18.12.36_MD589_1_0094_image.jpg\n"
     ]
    },
    {
     "name": "stderr",
     "output_type": "stream",
     "text": [
      "Child returned 0\n",
      "Load mask: 9.64\n",
      "regionprops: 2.32\n",
      "89272 blobs identified.\n",
      "Save blob coords: 4.42\n",
      "Save blob masks: 11.92\n",
      "Save blob contours, save: 14.27\n",
      "Compute blob properties, save: 14.82\n",
      "Processing section: 192\n"
     ]
    },
    {
     "name": "stdout",
     "output_type": "stream",
     "text": [
      "cp /oasis/projects/nsf/csd395/yuncong/CSHL_data_processed/MD589/MD589_lossless_unsorted_alignedTo_MD589-IHC31-2015.07.30-23.26.22_MD589_1_0091_cropped_compressed/MD589-N34-2015.07.30-18.20.43_MD589_2_0101_lossless_alignedTo_MD589-IHC31-2015.07.30-23.26.22_MD589_1_0091_cropped_compressed.jpg /home/yuncong/csd395/CSHL_cells_v2/detected_cells/MD589/MD589-N34-2015.07.30-18.20.43_MD589_2_0101/MD589-N34-2015.07.30-18.20.43_MD589_2_0101_image.jpg\n"
     ]
    },
    {
     "name": "stderr",
     "output_type": "stream",
     "text": [
      "Child returned 0\n",
      "Load mask: 9.59\n",
      "regionprops: 2.68\n",
      "92351 blobs identified.\n",
      "Save blob coords: 4.59\n",
      "Save blob masks: 12.13\n",
      "Save blob contours, save: 14.72\n",
      "Compute blob properties, save: 15.62\n",
      "Processing section: 202\n"
     ]
    },
    {
     "name": "stdout",
     "output_type": "stream",
     "text": [
      "cp /oasis/projects/nsf/csd395/yuncong/CSHL_data_processed/MD589/MD589_lossless_unsorted_alignedTo_MD589-IHC31-2015.07.30-23.26.22_MD589_1_0091_cropped_compressed/MD589-N37-2015.07.30-18.32.51_MD589_1_0109_lossless_alignedTo_MD589-IHC31-2015.07.30-23.26.22_MD589_1_0091_cropped_compressed.jpg /home/yuncong/csd395/CSHL_cells_v2/detected_cells/MD589/MD589-N37-2015.07.30-18.32.51_MD589_1_0109/MD589-N37-2015.07.30-18.32.51_MD589_1_0109_image.jpg\n"
     ]
    },
    {
     "name": "stderr",
     "output_type": "stream",
     "text": [
      "Child returned 0\n",
      "Load mask: 9.73\n",
      "regionprops: 2.75\n",
      "85451 blobs identified.\n",
      "Save blob coords: 4.44\n",
      "Save blob masks: 11.51\n",
      "Save blob contours, save: 13.38\n",
      "Compute blob properties, save: 14.89\n",
      "Processing section: 212\n"
     ]
    },
    {
     "name": "stdout",
     "output_type": "stream",
     "text": [
      "cp /oasis/projects/nsf/csd395/yuncong/CSHL_data_processed/MD589/MD589_lossless_unsorted_alignedTo_MD589-IHC31-2015.07.30-23.26.22_MD589_1_0091_cropped_compressed/MD589-N39-2015.07.30-18.40.43_MD589_2_0116_lossless_alignedTo_MD589-IHC31-2015.07.30-23.26.22_MD589_1_0091_cropped_compressed.jpg /home/yuncong/csd395/CSHL_cells_v2/detected_cells/MD589/MD589-N39-2015.07.30-18.40.43_MD589_2_0116/MD589-N39-2015.07.30-18.40.43_MD589_2_0116_image.jpg\n"
     ]
    },
    {
     "name": "stderr",
     "output_type": "stream",
     "text": [
      "Child returned 0\n",
      "Load mask: 9.60\n",
      "regionprops: 2.72\n",
      "80558 blobs identified.\n",
      "Save blob coords: 4.20\n",
      "Save blob masks: 10.99\n",
      "Save blob contours, save: 12.85\n",
      "Compute blob properties, save: 13.73\n",
      "Processing section: 222\n"
     ]
    },
    {
     "name": "stdout",
     "output_type": "stream",
     "text": [
      "cp /oasis/projects/nsf/csd395/yuncong/CSHL_data_processed/MD589/MD589_lossless_unsorted_alignedTo_MD589-IHC31-2015.07.30-23.26.22_MD589_1_0091_cropped_compressed/MD589-N42-2015.07.30-18.52.37_MD589_1_0124_lossless_alignedTo_MD589-IHC31-2015.07.30-23.26.22_MD589_1_0091_cropped_compressed.jpg /home/yuncong/csd395/CSHL_cells_v2/detected_cells/MD589/MD589-N42-2015.07.30-18.52.37_MD589_1_0124/MD589-N42-2015.07.30-18.52.37_MD589_1_0124_image.jpg\n"
     ]
    },
    {
     "name": "stderr",
     "output_type": "stream",
     "text": [
      "Child returned 0\n",
      "Load mask: 9.52\n",
      "regionprops: 2.62\n",
      "77258 blobs identified.\n",
      "Save blob coords: 4.12\n",
      "Save blob masks: 10.69\n",
      "Save blob contours, save: 12.60\n",
      "Compute blob properties, save: 13.53\n",
      "Processing section: 232\n"
     ]
    },
    {
     "name": "stdout",
     "output_type": "stream",
     "text": [
      "cp /oasis/projects/nsf/csd395/yuncong/CSHL_data_processed/MD589/MD589_lossless_unsorted_alignedTo_MD589-IHC31-2015.07.30-23.26.22_MD589_1_0091_cropped_compressed/MD589-N44-2015.07.30-19.00.35_MD589_2_0131_lossless_alignedTo_MD589-IHC31-2015.07.30-23.26.22_MD589_1_0091_cropped_compressed.jpg /home/yuncong/csd395/CSHL_cells_v2/detected_cells/MD589/MD589-N44-2015.07.30-19.00.35_MD589_2_0131/MD589-N44-2015.07.30-19.00.35_MD589_2_0131_image.jpg\n"
     ]
    },
    {
     "name": "stderr",
     "output_type": "stream",
     "text": [
      "Child returned 0\n",
      "Load mask: 9.71\n",
      "regionprops: 2.58\n",
      "84503 blobs identified.\n",
      "Save blob coords: 4.39\n",
      "Save blob masks: 11.56\n",
      "Save blob contours, save: 13.48\n",
      "Compute blob properties, save: 14.55\n",
      "Processing section: 242\n"
     ]
    },
    {
     "name": "stdout",
     "output_type": "stream",
     "text": [
      "cp /oasis/projects/nsf/csd395/yuncong/CSHL_data_processed/MD589/MD589_lossless_unsorted_alignedTo_MD589-IHC31-2015.07.30-23.26.22_MD589_1_0091_cropped_compressed/MD589-N47-2015.07.30-19.12.19_MD589_1_0139_lossless_alignedTo_MD589-IHC31-2015.07.30-23.26.22_MD589_1_0091_cropped_compressed.jpg /home/yuncong/csd395/CSHL_cells_v2/detected_cells/MD589/MD589-N47-2015.07.30-19.12.19_MD589_1_0139/MD589-N47-2015.07.30-19.12.19_MD589_1_0139_image.jpg\n"
     ]
    },
    {
     "name": "stderr",
     "output_type": "stream",
     "text": [
      "Child returned 0\n",
      "Load mask: 9.54\n",
      "regionprops: 2.59\n",
      "80647 blobs identified.\n",
      "Save blob coords: 4.09\n",
      "Save blob masks: 10.86\n",
      "Save blob contours, save: 12.58\n",
      "Compute blob properties, save: 13.75\n",
      "Processing section: 252\n"
     ]
    },
    {
     "name": "stdout",
     "output_type": "stream",
     "text": [
      "cp /oasis/projects/nsf/csd395/yuncong/CSHL_data_processed/MD589/MD589_lossless_unsorted_alignedTo_MD589-IHC31-2015.07.30-23.26.22_MD589_1_0091_cropped_compressed/MD589-N49-2015.07.30-19.20.15_MD589_2_0146_lossless_alignedTo_MD589-IHC31-2015.07.30-23.26.22_MD589_1_0091_cropped_compressed.jpg /home/yuncong/csd395/CSHL_cells_v2/detected_cells/MD589/MD589-N49-2015.07.30-19.20.15_MD589_2_0146/MD589-N49-2015.07.30-19.20.15_MD589_2_0146_image.jpg\n"
     ]
    },
    {
     "name": "stderr",
     "output_type": "stream",
     "text": [
      "Child returned 0\n",
      "Load mask: 9.64\n",
      "regionprops: 2.24\n",
      "90237 blobs identified.\n",
      "Save blob coords: 4.61\n",
      "Save blob masks: 12.34\n",
      "Save blob contours, save: 13.90\n",
      "Compute blob properties, save: 15.51\n",
      "Processing section: 262\n"
     ]
    },
    {
     "name": "stdout",
     "output_type": "stream",
     "text": [
      "cp /oasis/projects/nsf/csd395/yuncong/CSHL_data_processed/MD589/MD589_lossless_unsorted_alignedTo_MD589-IHC31-2015.07.30-23.26.22_MD589_1_0091_cropped_compressed/MD589-N51-2015.07.30-19.28.17_MD589_3_0153_lossless_alignedTo_MD589-IHC31-2015.07.30-23.26.22_MD589_1_0091_cropped_compressed.jpg /home/yuncong/csd395/CSHL_cells_v2/detected_cells/MD589/MD589-N51-2015.07.30-19.28.17_MD589_3_0153/MD589-N51-2015.07.30-19.28.17_MD589_3_0153_image.jpg\n"
     ]
    },
    {
     "name": "stderr",
     "output_type": "stream",
     "text": [
      "Child returned 0\n",
      "Load mask: 9.76\n",
      "regionprops: 2.31\n",
      "87603 blobs identified.\n",
      "Save blob coords: 4.33\n",
      "Save blob masks: 11.58\n",
      "Save blob contours, save: 14.36\n",
      "Compute blob properties, save: 14.84\n",
      "Processing section: 272\n"
     ]
    },
    {
     "name": "stdout",
     "output_type": "stream",
     "text": [
      "cp /oasis/projects/nsf/csd395/yuncong/CSHL_data_processed/MD589/MD589_lossless_unsorted_alignedTo_MD589-IHC31-2015.07.30-23.26.22_MD589_1_0091_cropped_compressed/MD589-N53-2015.07.30-19.39.11_MD589_2_0158_lossless_alignedTo_MD589-IHC31-2015.07.30-23.26.22_MD589_1_0091_cropped_compressed.jpg /home/yuncong/csd395/CSHL_cells_v2/detected_cells/MD589/MD589-N53-2015.07.30-19.39.11_MD589_2_0158/MD589-N53-2015.07.30-19.39.11_MD589_2_0158_image.jpg\n"
     ]
    },
    {
     "name": "stderr",
     "output_type": "stream",
     "text": [
      "Child returned 0\n",
      "Load mask: 9.74\n",
      "regionprops: 2.79\n",
      "87611 blobs identified.\n",
      "Save blob coords: 4.89\n",
      "Save blob masks: 11.83\n",
      "Save blob contours, save: 14.27\n",
      "Compute blob properties, save: 15.34\n",
      "Processing section: 282\n"
     ]
    },
    {
     "name": "stdout",
     "output_type": "stream",
     "text": [
      "cp /oasis/projects/nsf/csd395/yuncong/CSHL_data_processed/MD589/MD589_lossless_unsorted_alignedTo_MD589-IHC31-2015.07.30-23.26.22_MD589_1_0091_cropped_compressed/MD589-N55-2015.07.30-19.49.42_MD589_1_0163_lossless_alignedTo_MD589-IHC31-2015.07.30-23.26.22_MD589_1_0091_cropped_compressed.jpg /home/yuncong/csd395/CSHL_cells_v2/detected_cells/MD589/MD589-N55-2015.07.30-19.49.42_MD589_1_0163/MD589-N55-2015.07.30-19.49.42_MD589_1_0163_image.jpg\n"
     ]
    },
    {
     "name": "stderr",
     "output_type": "stream",
     "text": [
      "Child returned 0\n",
      "Load mask: 9.78\n",
      "regionprops: 2.79\n",
      "83320 blobs identified.\n",
      "Save blob coords: 4.47\n",
      "Save blob masks: 11.13\n",
      "Save blob contours, save: 13.32\n",
      "Compute blob properties, save: 13.83\n",
      "Processing section: 292\n"
     ]
    },
    {
     "name": "stdout",
     "output_type": "stream",
     "text": [
      "cp /oasis/projects/nsf/csd395/yuncong/CSHL_data_processed/MD589/MD589_lossless_unsorted_alignedTo_MD589-IHC31-2015.07.30-23.26.22_MD589_1_0091_cropped_compressed/MD589-N56-2015.07.30-19.54.42_MD589_3_0168_lossless_alignedTo_MD589-IHC31-2015.07.30-23.26.22_MD589_1_0091_cropped_compressed.jpg /home/yuncong/csd395/CSHL_cells_v2/detected_cells/MD589/MD589-N56-2015.07.30-19.54.42_MD589_3_0168/MD589-N56-2015.07.30-19.54.42_MD589_3_0168_image.jpg\n"
     ]
    },
    {
     "name": "stderr",
     "output_type": "stream",
     "text": [
      "Child returned 0\n",
      "Load mask: 9.51\n",
      "regionprops: 2.53\n",
      "78901 blobs identified.\n",
      "Save blob coords: 4.01\n",
      "Save blob masks: 10.66\n",
      "Save blob contours, save: 12.87\n",
      "Compute blob properties, save: 13.21\n",
      "Processing section: 302\n"
     ]
    },
    {
     "name": "stdout",
     "output_type": "stream",
     "text": [
      "cp /oasis/projects/nsf/csd395/yuncong/CSHL_data_processed/MD589/MD589_lossless_unsorted_alignedTo_MD589-IHC31-2015.07.30-23.26.22_MD589_1_0091_cropped_compressed/MD589-N58-2015.07.30-20.03.53_MD589_1_0172_lossless_alignedTo_MD589-IHC31-2015.07.30-23.26.22_MD589_1_0091_cropped_compressed.jpg /home/yuncong/csd395/CSHL_cells_v2/detected_cells/MD589/MD589-N58-2015.07.30-20.03.53_MD589_1_0172/MD589-N58-2015.07.30-20.03.53_MD589_1_0172_image.jpg\n"
     ]
    },
    {
     "name": "stderr",
     "output_type": "stream",
     "text": [
      "Child returned 0\n",
      "Load mask: 9.76\n",
      "regionprops: 2.60\n",
      "71356 blobs identified.\n",
      "Save blob coords: 4.08\n",
      "Save blob masks: 9.63\n",
      "Save blob contours, save: 11.80\n",
      "Compute blob properties, save: 11.95\n",
      "Processing section: 312\n"
     ]
    },
    {
     "name": "stdout",
     "output_type": "stream",
     "text": [
      "cp /oasis/projects/nsf/csd395/yuncong/CSHL_data_processed/MD589/MD589_lossless_unsorted_alignedTo_MD589-IHC31-2015.07.30-23.26.22_MD589_1_0091_cropped_compressed/MD589-N60-2015.07.30-20.11.20_MD589_1_0178_lossless_alignedTo_MD589-IHC31-2015.07.30-23.26.22_MD589_1_0091_cropped_compressed.jpg /home/yuncong/csd395/CSHL_cells_v2/detected_cells/MD589/MD589-N60-2015.07.30-20.11.20_MD589_1_0178/MD589-N60-2015.07.30-20.11.20_MD589_1_0178_image.jpg\n"
     ]
    },
    {
     "name": "stderr",
     "output_type": "stream",
     "text": [
      "Child returned 0\n",
      "Load mask: 9.52\n",
      "regionprops: 2.28\n",
      "66578 blobs identified.\n",
      "Save blob coords: 3.38\n",
      "Save blob masks: 8.98\n",
      "Save blob contours, save: 10.81\n",
      "Compute blob properties, save: 11.23\n",
      "Processing section: 322\n"
     ]
    },
    {
     "name": "stdout",
     "output_type": "stream",
     "text": [
      "cp /oasis/projects/nsf/csd395/yuncong/CSHL_data_processed/MD589/MD589_lossless_unsorted_alignedTo_MD589-IHC31-2015.07.30-23.26.22_MD589_1_0091_cropped_compressed/MD589-N61-2015.07.30-20.15.47_MD589_3_0183_lossless_alignedTo_MD589-IHC31-2015.07.30-23.26.22_MD589_1_0091_cropped_compressed.jpg /home/yuncong/csd395/CSHL_cells_v2/detected_cells/MD589/MD589-N61-2015.07.30-20.15.47_MD589_3_0183/MD589-N61-2015.07.30-20.15.47_MD589_3_0183_image.jpg\n"
     ]
    },
    {
     "name": "stderr",
     "output_type": "stream",
     "text": [
      "Child returned 0\n",
      "Load mask: 9.80\n",
      "regionprops: 1.86\n",
      "61625 blobs identified.\n",
      "Save blob coords: 3.17\n",
      "Save blob masks: 8.53\n",
      "Save blob contours, save: 10.19\n",
      "Compute blob properties, save: 10.97\n",
      "Processing section: 332\n"
     ]
    },
    {
     "name": "stdout",
     "output_type": "stream",
     "text": [
      "cp /oasis/projects/nsf/csd395/yuncong/CSHL_data_processed/MD589/MD589_lossless_unsorted_alignedTo_MD589-IHC31-2015.07.30-23.26.22_MD589_1_0091_cropped_compressed/MD589-N63-2015.07.30-20.23.12_MD589_2_0188_lossless_alignedTo_MD589-IHC31-2015.07.30-23.26.22_MD589_1_0091_cropped_compressed.jpg /home/yuncong/csd395/CSHL_cells_v2/detected_cells/MD589/MD589-N63-2015.07.30-20.23.12_MD589_2_0188/MD589-N63-2015.07.30-20.23.12_MD589_2_0188_image.jpg\n"
     ]
    },
    {
     "name": "stderr",
     "output_type": "stream",
     "text": [
      "Child returned 0\n",
      "Load mask: 9.79\n",
      "regionprops: 1.93\n",
      "56101 blobs identified.\n",
      "Save blob coords: 3.10\n",
      "Save blob masks: 7.76\n",
      "Save blob contours, save: 9.32\n",
      "Compute blob properties, save: 9.39\n",
      "Processing section: 342\n"
     ]
    },
    {
     "name": "stdout",
     "output_type": "stream",
     "text": [
      "cp /oasis/projects/nsf/csd395/yuncong/CSHL_data_processed/MD589/MD589_lossless_unsorted_alignedTo_MD589-IHC31-2015.07.30-23.26.22_MD589_1_0091_cropped_compressed/MD589-N65-2015.07.30-20.31.20_MD589_1_0193_lossless_alignedTo_MD589-IHC31-2015.07.30-23.26.22_MD589_1_0091_cropped_compressed.jpg /home/yuncong/csd395/CSHL_cells_v2/detected_cells/MD589/MD589-N65-2015.07.30-20.31.20_MD589_1_0193/MD589-N65-2015.07.30-20.31.20_MD589_1_0193_image.jpg\n"
     ]
    },
    {
     "name": "stderr",
     "output_type": "stream",
     "text": [
      "Child returned 0\n",
      "Load mask: 9.78\n",
      "regionprops: 2.22\n",
      "52616 blobs identified.\n",
      "Save blob coords: 2.98\n",
      "Save blob masks: 7.21\n",
      "Save blob contours, save: 8.69\n",
      "Compute blob properties, save: 9.45\n",
      "Processing section: 352\n"
     ]
    },
    {
     "name": "stdout",
     "output_type": "stream",
     "text": [
      "cp /oasis/projects/nsf/csd395/yuncong/CSHL_data_processed/MD589/MD589_lossless_unsorted_alignedTo_MD589-IHC31-2015.07.30-23.26.22_MD589_1_0091_cropped_compressed/MD589-N66-2015.07.30-20.35.16_MD589_3_0198_lossless_alignedTo_MD589-IHC31-2015.07.30-23.26.22_MD589_1_0091_cropped_compressed.jpg /home/yuncong/csd395/CSHL_cells_v2/detected_cells/MD589/MD589-N66-2015.07.30-20.35.16_MD589_3_0198/MD589-N66-2015.07.30-20.35.16_MD589_3_0198_image.jpg\n"
     ]
    },
    {
     "name": "stderr",
     "output_type": "stream",
     "text": [
      "Child returned 0\n",
      "Load mask: 9.78\n",
      "regionprops: 1.84\n",
      "51234 blobs identified.\n",
      "Save blob coords: 3.01\n",
      "Save blob masks: 7.13\n",
      "Save blob contours, save: 8.95\n",
      "Compute blob properties, save: 9.28\n",
      "Processing section: 362\n"
     ]
    },
    {
     "name": "stdout",
     "output_type": "stream",
     "text": [
      "cp /oasis/projects/nsf/csd395/yuncong/CSHL_data_processed/MD589/MD589_lossless_unsorted_alignedTo_MD589-IHC31-2015.07.30-23.26.22_MD589_1_0091_cropped_compressed/MD589-N68-2015.07.30-20.43.04_MD589_2_0203_lossless_alignedTo_MD589-IHC31-2015.07.30-23.26.22_MD589_1_0091_cropped_compressed.jpg /home/yuncong/csd395/CSHL_cells_v2/detected_cells/MD589/MD589-N68-2015.07.30-20.43.04_MD589_2_0203/MD589-N68-2015.07.30-20.43.04_MD589_2_0203_image.jpg\n"
     ]
    },
    {
     "name": "stderr",
     "output_type": "stream",
     "text": [
      "Child returned 0\n",
      "Load mask: 9.78\n",
      "regionprops: 1.81\n",
      "47450 blobs identified.\n",
      "Save blob coords: 2.63\n",
      "Save blob masks: 6.76\n",
      "Save blob contours, save: 8.19\n",
      "Compute blob properties, save: 8.40\n"
     ]
    }
   ],
   "source": [
    "# for sec in [192, 242]:\n",
    "for sec in range(first_bs_section, last_bs_section+1, 10):\n",
    "# for sec in range(242, last_bs_section, 50):\n",
    "\n",
    "    fn = sections_to_filenames[sec]\n",
    "    fn_output_dir = create_if_not_exists(os.path.join(output_dir, fn))\n",
    "\n",
    "    sys.stderr.write('Processing section: %03d\\n' % sec)\n",
    "\n",
    "    jpeg_filename = DataManager.get_image_filepath(stack=stack, section=sec, resol='lossless', version='compressed')\n",
    "    copyto_filename ='/home/yuncong/csd395/CSHL_cells_v2/detected_cells/MD589/%(fn)s/%(fn)s_image.jpg' % {'fn':fn}\n",
    "    execute_command(\"cp %s %s\" % (jpeg_filename, copyto_filename))\n",
    "    \n",
    "    # Load mask\n",
    "    t = time.time()\n",
    "    mask_tb = DataManager.load_thumbnail_mask_v2(stack=stack, section=sec)\n",
    "    mask = resize(mask_tb, metadata_cache['image_shape'][stack][::-1]) > .5\n",
    "    sys.stderr.write('Load mask: %.2f\\n' % (time.time() - t) )\n",
    "\n",
    "    \n",
    "    if alg == 'myown':\n",
    "        \n",
    "        img_filename = DataManager.get_image_filepath(stack=stack, section=sec, resol='lossless', version='cropped')\n",
    "\n",
    "        img = imread(img_filename)\n",
    "        sys.stderr.write('Load image: %.2f\\n' % (time.time() - t) )\n",
    "\n",
    "        t = time.time()\n",
    "        im = rgb2gray(img)\n",
    "        sys.stderr.write('Convert to gray: %.2f\\n' % (time.time() - t) )\n",
    "\n",
    "        t = time.time()\n",
    "\n",
    "        thresh = threshold_otsu(im)\n",
    "        binary = im < thresh\n",
    "        binary[~mask] = 0\n",
    "\n",
    "        sys.stderr.write('threshold: %.2f\\n' % (time.time() - t) )\n",
    "    #     imsave(fn_output_dir + '/%(fn)s_otsu.png' % {'fn':fn}, binary.astype(np.uint8)*255)\n",
    "\n",
    "        # plt.imshow(binary, cmap=plt.cm.gray);\n",
    "        # plt.axis('off');\n",
    "        # plt.title('binary');\n",
    "\n",
    "        t = time.time()\n",
    "        dt = distance_transform_edt(binary)\n",
    "        sys.stderr.write('distance transform: %.2f\\n' % (time.time() - t) )\n",
    "\n",
    "    #     imsave(fn_output_dir + '/%(fn)s_dt.png' % {'fn':fn}, img_as_ubyte(plt.cm.jet(dt/dt.max())))\n",
    "\n",
    "        # plt.imshow(dt, cmap=plt.cm.gray);\n",
    "        # plt.axis('off');\n",
    "        # plt.title('distance tranform');\n",
    "\n",
    "        t = time.time()\n",
    "        local_maxi = peak_local_max(dt, labels=binary, footprint=np.ones((10, 10)), indices=False)\n",
    "        sys.stderr.write('local max: %.2f\\n' % (time.time() - t) )\n",
    "\n",
    "        # plt.imshow(local_maxi, cmap=plt.cm.gray);\n",
    "        # plt.axis('off');\n",
    "        # plt.title('local maxima');\n",
    "\n",
    "        t = time.time()\n",
    "        markers = label(local_maxi)\n",
    "        sys.stderr.write('label: %.2f\\n' % (time.time() - t) )\n",
    "\n",
    "        t = time.time()\n",
    "        labels = watershed(-dt, markers, mask=binary)\n",
    "        sys.stderr.write('watershed: %.2f\\n' % (time.time() - t) )\n",
    "        \n",
    "    elif alg == 'cellprofiler':\n",
    "        labels = bp.unpack_ndarray_file(output_dir + '/%(fn)s/%(fn)s_image_inverted_labelmap_cellprofiler.bp' % \\\n",
    "                                        dict(fn=fn))\n",
    "        labels[~mask] = 0\n",
    "    \n",
    "    elif alg == 'farsight':\n",
    "        labels = bp.unpack_ndarray_file(output_dir + '/%(fn)s/%(fn)s_image_inverted_labelmap_farsight.bp' % \\\n",
    "                                       dict(fn=fn))\n",
    "        labels[~mask] = 0\n",
    "    \n",
    "    else:\n",
    "        raise 'Algorithm not recognized.'\n",
    "    \n",
    "    # plt.imshow(labels);\n",
    "    # plt.axis('off');\n",
    "    # plt.title('labels');\n",
    "\n",
    "    t = time.time()\n",
    "    props = regionprops(labels)\n",
    "    sys.stderr.write('regionprops: %.2f\\n' % (time.time() - t) )\n",
    "\n",
    "#     plt.hist([p.area for p in props], bins=100);\n",
    "#     plt.title('Area histograms');\n",
    "#     plt.show();\n",
    "\n",
    "    valid_blob_indices = [i for i, p in enumerate(props) if p.area > min_blob_area and p.area < max_blob_area]\n",
    "    sys.stderr.write('%d blobs identified.\\n' % len(valid_blob_indices))\n",
    "    \n",
    "    # Get blobs\n",
    "    t = time.time()\n",
    "    valid_blob_coords = [props[i].coords for i in valid_blob_indices] # r,c\n",
    "    #     pickle.dump(valid_blob_coords, open(fn_output_dir + '/%(fn)s_blobCoords.pkl' % {'fn':fn}, 'w'))\n",
    "    pandas.Series(data=valid_blob_coords).to_hdf(fn_output_dir + '/%(fn)s_blobCoords.hdf' % {'fn': fn}, 'data', mode='w')\n",
    "    sys.stderr.write('Save blob coords: %.2f\\n' % (time.time() - t) )\n",
    "    \n",
    "    # Generate masks\n",
    "    t = time.time()\n",
    "#     bar = show_progress_bar(first_bs_section, last_bs_section)\n",
    "\n",
    "    cell_masks = []\n",
    "    cell_mask_centers = []\n",
    "    for i, coords in enumerate(valid_blob_coords):\n",
    "#         bar.value = i\n",
    "        ymin, xmin = coords.min(axis=0)\n",
    "        ymax, xmax = coords.max(axis=0)\n",
    "        cell_mask = np.zeros((ymax+1-ymin, xmax+1-xmin), np.bool)\n",
    "        cell_mask[coords[:,0]-ymin, coords[:,1]-xmin] = 1\n",
    "        yc, xc = np.mean(np.where(cell_mask), axis=1)\n",
    "        cell_masks.append(cell_mask)\n",
    "        cell_mask_centers.append([xc, yc])\n",
    "    \n",
    "    pandas.Series(data=cell_masks).to_hdf(fn_output_dir + '/%(fn)s_blobMasks.hdf' % {'fn': fn}, 'data', mode='w')    \n",
    "    bp.pack_ndarray_file(np.array(cell_mask_centers), fn_output_dir + '/%(fn)s_blobMaskCenters.bp' % {'fn':fn})\n",
    "\n",
    "    sys.stderr.write('Save blob masks: %.2f\\n' % (time.time() - t) )\n",
    "    \n",
    "    # Other blob attributes\n",
    "    t = time.time()\n",
    "\n",
    "#     valid_blob_contours = [find_contour_points(msk, sample_every=1)[1][0] for msk in cell_masks]\n",
    "\n",
    "    def find_contour_worker(msk):\n",
    "        if msk.shape[0] == 1:\n",
    "            # if mask is a straight line, append another line to it.\n",
    "            msk = np.vstack([msk, np.ones((msk.shape[1],))])\n",
    "        elif msk.shape[1] == 1:\n",
    "            msk = np.c_[msk, np.ones((msk.shape[0],))]\n",
    "        return find_contour_points(msk, sample_every=1)[1][0]\n",
    "        \n",
    "    pool = Pool(16)\n",
    "    valid_blob_contours = pool.map(lambda msk: find_contour_worker(msk), cell_masks)\n",
    "    pool.terminate()\n",
    "    pool.join()\n",
    "\n",
    "#     pickle.dump(valid_blob_contours, open(fn_output_dir + '/%(fn)s_blobContours.pkl' % {'fn':fn}, 'w'))\n",
    "    pandas.Series(data=valid_blob_contours).to_hdf(fn_output_dir + '/%(fn)s_blobContours.hdf' % {'fn': fn}, 'data', mode='w')\n",
    "      \n",
    "    sys.stderr.write('Save blob contours, save: %.2f\\n' % (time.time() - t) )\n",
    "    \n",
    "    t = time.time()\n",
    "\n",
    "    valid_blob_orientations = np.array([props[i].orientation for i in valid_blob_indices])\n",
    "    valid_blob_centroids = np.array([props[i].centroid for i in valid_blob_indices])[:,::-1] # r,c -> x,y\n",
    "    valid_blob_majorAxisLen = np.array([props[i].major_axis_length for i in valid_blob_indices])\n",
    "    valid_blob_minorAxisLen = np.array([props[i].minor_axis_length for i in valid_blob_indices])\n",
    "\n",
    "    bp.pack_ndarray_file(valid_blob_orientations, fn_output_dir + '/%(fn)s_blobOrientations.bp' % {'fn':fn})\n",
    "    bp.pack_ndarray_file(valid_blob_centroids, fn_output_dir + '/%(fn)s_blobCentroids.bp' % {'fn':fn})\n",
    "    bp.pack_ndarray_file(valid_blob_majorAxisLen, fn_output_dir + '/%(fn)s_blobMajorAxisLen.bp' % {'fn':fn})\n",
    "    bp.pack_ndarray_file(valid_blob_minorAxisLen, fn_output_dir + '/%(fn)s_blobMinorAxisLen.bp' % {'fn':fn})\n",
    "\n",
    "    blob_contours_global = [(valid_blob_contours[i] - cell_mask_centers[i] + valid_blob_centroids[i]).astype(np.int)\n",
    "                            for i in range(len(valid_blob_coords))]\n",
    "    pandas.Series(data=blob_contours_global).to_hdf(fn_output_dir + '/%(fn)s_blobContoursGlobal_%(alg)s.hdf' % {'fn': fn, 'alg':alg}, \n",
    "                                                    'data', mode='w')\n",
    "    \n",
    "    sys.stderr.write('Compute blob properties, save: %.2f\\n' % (time.time() - t) )"
   ]
  },
  {
   "cell_type": "markdown",
   "metadata": {},
   "source": [
    "# Visualize"
   ]
  },
  {
   "cell_type": "code",
   "execution_count": 10,
   "metadata": {
    "collapsed": false
   },
   "outputs": [
    {
     "name": "stderr",
     "output_type": "stream",
     "text": [
      "Save image: 37.84\n",
      "Save image: 35.43\n"
     ]
    }
   ],
   "source": [
    "# Visualize\n",
    "\n",
    "for sec in [192, 242]:\n",
    "# for sec in range(first_bs_section, last_bs_section, 50):\n",
    "\n",
    "    t = time.time()\n",
    "    \n",
    "    fn = sections_to_filenames[sec]\n",
    "    fn_output_dir = create_if_not_exists(os.path.join(output_dir, fn))\n",
    "\n",
    "    blob_contours = pandas.read_hdf(fn_output_dir + '/%(fn)s_blobContoursGlobal_%(alg)s.hdf' % {'fn': fn, 'alg': alg}, 'data')\n",
    "    \n",
    "    w, h = metadata_cache['image_shape'][stack]\n",
    "    \n",
    "    n_blobs = len(blob_contours)\n",
    "    \n",
    "    blob_contour_viz = np.zeros((h, w, 4), np.uint8)\n",
    "    \n",
    "    bar = show_progress_bar(first_bs_section, last_bs_section)\n",
    "    for i in range(n_blobs):\n",
    "        bar.value = i\n",
    "        cnt = blob_contours[i]\n",
    "        blob_contour_viz[np.minimum(h-1, np.maximum(cnt[:,1], 0)), \n",
    "                         np.minimum(w-1, np.maximum(cnt[:,0], 0))] = (255,0,0,255)\n",
    "#         img[np.minimum(h-1, np.maximum(cnt[:,1], 0)), np.minimum(w-1, np.maximum(cnt[:,0], 0))] = (255,0,0)\n",
    "\n",
    "    imsave('/home/yuncong/csd395/CSHL_cells_v2/detected_cells/MD589/%(fn)s/%(fn)s_blobContours_viz_%(alg)s.png' % {'fn':fn, 'alg': alg}, \n",
    "           blob_contour_viz)\n",
    "\n",
    "#     imsave('/home/yuncong/csd395/CSHL_cells_v2/detected_cells/MD589/%(fn)s/%(fn)s_detection_image.jpg' % {'fn':fn}, img)\n",
    "    sys.stderr.write('Save image: %.2f\\n' % (time.time() - t) )"
   ]
  },
  {
   "cell_type": "code",
   "execution_count": null,
   "metadata": {
    "collapsed": true
   },
   "outputs": [],
   "source": []
  }
 ],
 "metadata": {
  "kernelspec": {
   "display_name": "Python 2",
   "language": "python",
   "name": "python2"
  },
  "language_info": {
   "codemirror_mode": {
    "name": "ipython",
    "version": 2
   },
   "file_extension": ".py",
   "mimetype": "text/x-python",
   "name": "python",
   "nbconvert_exporter": "python",
   "pygments_lexer": "ipython2",
   "version": "2.7.3"
  },
  "widgets": {
   "state": {
    "1d0e050fc3544eb8ab9add1e6ffa42b7": {
     "views": [
      {
       "cell_index": 7
      }
     ]
    },
    "213e4bb4b1694191afbb8759ff72bfb9": {
     "views": [
      {
       "cell_index": 7
      }
     ]
    },
    "26cd4bf0db9848c79a893385d7610ee7": {
     "views": [
      {
       "cell_index": 7
      }
     ]
    },
    "452ba9cec3ed46e2bc64c057669e4dff": {
     "views": [
      {
       "cell_index": 7
      }
     ]
    },
    "467e0bbeab124a87bc6d36f42142d73b": {
     "views": [
      {
       "cell_index": 7
      }
     ]
    },
    "480c37de26c343fe84a8942206d77492": {
     "views": [
      {
       "cell_index": 7
      }
     ]
    },
    "4859676cee224a9caed93002505d20bd": {
     "views": [
      {
       "cell_index": 7
      }
     ]
    },
    "4bf7ce8dea1d4b7398f74bacde13cbe6": {
     "views": [
      {
       "cell_index": 7
      }
     ]
    },
    "5aa07653a7e4452089e5a4520667dc81": {
     "views": [
      {
       "cell_index": 7
      }
     ]
    },
    "60f202429b094785a0f3235eb485000f": {
     "views": [
      {
       "cell_index": 7
      }
     ]
    },
    "64c990ce660e4f949f0e7159a094b793": {
     "views": [
      {
       "cell_index": 7
      }
     ]
    },
    "73d2910e6b3b4ae8a19bf7992352d263": {
     "views": [
      {
       "cell_index": 7
      }
     ]
    },
    "77adbd92156a45afb7eed7c04169951b": {
     "views": [
      {
       "cell_index": 7
      }
     ]
    },
    "861390fcf732444ebc4e81643d8b2d4d": {
     "views": [
      {
       "cell_index": 7
      }
     ]
    },
    "8e8a14030a894425884e45f65a1cdf09": {
     "views": [
      {
       "cell_index": 7
      }
     ]
    },
    "90dc3050c2f543cb8992dc2c6e1bd04a": {
     "views": [
      {
       "cell_index": 7
      }
     ]
    },
    "9f82e013e2a64c6fbc79a3a85952dd12": {
     "views": [
      {
       "cell_index": 7
      }
     ]
    },
    "a202f1c4487a416c8bc3b046974d7098": {
     "views": [
      {
       "cell_index": 7
      }
     ]
    },
    "a903b16b64e943a08ca394e7ffc9e725": {
     "views": [
      {
       "cell_index": 7
      }
     ]
    },
    "b66cd9d372ea4ab082d94949d1319cce": {
     "views": [
      {
       "cell_index": 7
      }
     ]
    },
    "c31716d4ece848d9a09c97b02648036b": {
     "views": [
      {
       "cell_index": 7
      }
     ]
    },
    "c3af81ddfa024091ace39a6c094c15df": {
     "views": [
      {
       "cell_index": 7
      }
     ]
    },
    "cbac6ff47cf74f0ca4e8dcb26324097c": {
     "views": [
      {
       "cell_index": 7
      }
     ]
    },
    "d309d237ab104e06885f9091a7925588": {
     "views": [
      {
       "cell_index": 7
      }
     ]
    },
    "e1e660a663d8489dbf078c5192f75a2f": {
     "views": [
      {
       "cell_index": 7
      }
     ]
    },
    "f858b623c49d4363a429da0f4453a773": {
     "views": [
      {
       "cell_index": 7
      }
     ]
    },
    "f8f2698ed85448afafc3b4f5446f6e51": {
     "views": [
      {
       "cell_index": 7
      }
     ]
    },
    "fa9ed63851f641f6ab1b7c3c1d6d86b1": {
     "views": [
      {
       "cell_index": 7
      }
     ]
    }
   },
   "version": "1.2.0"
  }
 },
 "nbformat": 4,
 "nbformat_minor": 0
}
