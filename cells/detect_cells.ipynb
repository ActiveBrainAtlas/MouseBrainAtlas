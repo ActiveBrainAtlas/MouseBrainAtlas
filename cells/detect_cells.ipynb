{
 "cells": [
  {
   "cell_type": "code",
   "execution_count": 2,
   "metadata": {
    "collapsed": false
   },
   "outputs": [
    {
     "name": "stdout",
     "output_type": "stream",
     "text": [
      "Setting environment for Gordon\n"
     ]
    },
    {
     "name": "stderr",
     "output_type": "stream",
     "text": [
      "No vtk\n"
     ]
    }
   ],
   "source": [
    "%reload_ext autoreload\n",
    "%autoreload 2\n",
    "\n",
    "import os\n",
    "import sys\n",
    "import time\n",
    "import cv2\n",
    "\n",
    "# from joblib import Parallel, delayed\n",
    "\n",
    "sys.path.append(os.path.join(os.environ['REPO_DIR'], 'utilities'))\n",
    "from utilities2015 import *\n",
    "from data_manager import *\n",
    "from metadata import *\n",
    "\n",
    "import matplotlib.pyplot as plt\n",
    "%matplotlib inline"
   ]
  },
  {
   "cell_type": "code",
   "execution_count": 3,
   "metadata": {
    "collapsed": false
   },
   "outputs": [],
   "source": [
    "from skimage.filters import threshold_otsu\n",
    "from scipy.ndimage.morphology import distance_transform_edt\n",
    "from skimage.feature import peak_local_max\n",
    "from skimage.morphology import watershed\n",
    "from skimage.measure import regionprops, label, find_contours\n",
    "from skimage.transform import resize\n",
    "\n",
    "from annotation_utilities import *\n",
    "from registration_utilities import *\n",
    "\n",
    "import pandas"
   ]
  },
  {
   "cell_type": "code",
   "execution_count": 4,
   "metadata": {
    "collapsed": true
   },
   "outputs": [],
   "source": [
    "from cell_utilities import *"
   ]
  },
  {
   "cell_type": "code",
   "execution_count": 5,
   "metadata": {
    "collapsed": true
   },
   "outputs": [],
   "source": [
    "min_blob_area = 10\n",
    "max_blob_area = 10000"
   ]
  },
  {
   "cell_type": "code",
   "execution_count": 6,
   "metadata": {
    "collapsed": true
   },
   "outputs": [],
   "source": [
    "alg = 'cellprofiler'\n",
    "# alg = 'farsight'\n",
    "# alg = 'myown'"
   ]
  },
  {
   "cell_type": "markdown",
   "metadata": {},
   "source": [
    "# One stack"
   ]
  },
  {
   "cell_type": "code",
   "execution_count": 8,
   "metadata": {
    "collapsed": true
   },
   "outputs": [],
   "source": [
    "stack = 'MD589'"
   ]
  },
  {
   "cell_type": "code",
   "execution_count": 9,
   "metadata": {
    "collapsed": true
   },
   "outputs": [],
   "source": [
    "sections_to_filenames = metadata_cache['sections_to_filenames'][stack]\n",
    "first_bs_section, last_bs_section = metadata_cache['section_limits'][stack]"
   ]
  },
  {
   "cell_type": "code",
   "execution_count": 6,
   "metadata": {
    "collapsed": true
   },
   "outputs": [],
   "source": [
    "output_dir = create_if_not_exists(os.path.join(DETECTED_CELLS_ROOTDIR, stack))"
   ]
  },
  {
   "cell_type": "code",
   "execution_count": null,
   "metadata": {
    "collapsed": false,
    "scrolled": true
   },
   "outputs": [],
   "source": [
    "# for sec in [192, 242]:\n",
    "# for sec in range(first_bs_section, last_bs_section+1):\n",
    "for sec in range(117, last_bs_section+1):\n",
    "\n",
    "    fn = sections_to_filenames[sec]\n",
    "    if fn in ['Placeholder', 'Rescan', 'Nonexisting']:\n",
    "        continue\n",
    "        \n",
    "    fn_output_dir = create_if_not_exists(os.path.join(output_dir, fn))\n",
    "\n",
    "    sys.stderr.write('Processing section: %03d\\n' % sec)\n",
    "\n",
    "    jpeg_filename = DataManager.get_image_filepath(stack=stack, section=sec, resol='lossless', version='compressed')\n",
    "    copyto_filename ='/home/yuncong/csd395/CSHL_cells_v2/detected_cells/MD589/%(fn)s/%(fn)s_image.jpg' % {'fn':fn}\n",
    "    execute_command(\"cp %s %s\" % (jpeg_filename, copyto_filename))\n",
    "    \n",
    "    # Load mask\n",
    "    t = time.time()\n",
    "    mask_tb = DataManager.load_thumbnail_mask_v2(stack=stack, section=sec)\n",
    "    mask = resize(mask_tb, metadata_cache['image_shape'][stack][::-1]) > .5\n",
    "    sys.stderr.write('Load mask: %.2f\\n' % (time.time() - t) )\n",
    "\n",
    "    \n",
    "    if alg == 'myown':\n",
    "        \n",
    "        img_filename = DataManager.get_image_filepath(stack=stack, section=sec, resol='lossless', version='cropped')\n",
    "\n",
    "        img = imread(img_filename)\n",
    "        sys.stderr.write('Load image: %.2f\\n' % (time.time() - t) )\n",
    "\n",
    "        t = time.time()\n",
    "        im = rgb2gray(img)\n",
    "        sys.stderr.write('Convert to gray: %.2f\\n' % (time.time() - t) )\n",
    "\n",
    "        t = time.time()\n",
    "\n",
    "        thresh = threshold_otsu(im)\n",
    "        binary = im < thresh\n",
    "        binary[~mask] = 0\n",
    "\n",
    "        sys.stderr.write('threshold: %.2f\\n' % (time.time() - t) )\n",
    "    #     imsave(fn_output_dir + '/%(fn)s_otsu.png' % {'fn':fn}, binary.astype(np.uint8)*255)\n",
    "\n",
    "        # plt.imshow(binary, cmap=plt.cm.gray);\n",
    "        # plt.axis('off');\n",
    "        # plt.title('binary');\n",
    "\n",
    "        t = time.time()\n",
    "        dt = distance_transform_edt(binary)\n",
    "        sys.stderr.write('distance transform: %.2f\\n' % (time.time() - t) )\n",
    "\n",
    "    #     imsave(fn_output_dir + '/%(fn)s_dt.png' % {'fn':fn}, img_as_ubyte(plt.cm.jet(dt/dt.max())))\n",
    "\n",
    "        # plt.imshow(dt, cmap=plt.cm.gray);\n",
    "        # plt.axis('off');\n",
    "        # plt.title('distance tranform');\n",
    "\n",
    "        t = time.time()\n",
    "        local_maxi = peak_local_max(dt, labels=binary, footprint=np.ones((10, 10)), indices=False)\n",
    "        sys.stderr.write('local max: %.2f\\n' % (time.time() - t) )\n",
    "\n",
    "        # plt.imshow(local_maxi, cmap=plt.cm.gray);\n",
    "        # plt.axis('off');\n",
    "        # plt.title('local maxima');\n",
    "\n",
    "        t = time.time()\n",
    "        markers = label(local_maxi)\n",
    "        sys.stderr.write('label: %.2f\\n' % (time.time() - t) )\n",
    "\n",
    "        t = time.time()\n",
    "        labels = watershed(-dt, markers, mask=binary)\n",
    "        sys.stderr.write('watershed: %.2f\\n' % (time.time() - t) )\n",
    "        \n",
    "    elif alg == 'cellprofiler':\n",
    "        labels = bp.unpack_ndarray_file(output_dir + '/%(fn)s/%(fn)s_image_inverted_labelmap_cellprofiler.bp' % \\\n",
    "                                        dict(fn=fn))\n",
    "        labels[~mask] = 0\n",
    "    \n",
    "    elif alg == 'farsight':\n",
    "        labels = bp.unpack_ndarray_file(output_dir + '/%(fn)s/%(fn)s_image_inverted_labelmap_farsight.bp' % \\\n",
    "                                       dict(fn=fn))\n",
    "        labels[~mask] = 0\n",
    "    \n",
    "    else:\n",
    "        raise 'Algorithm not recognized.'\n",
    "    \n",
    "    # plt.imshow(labels);\n",
    "    # plt.axis('off');\n",
    "    # plt.title('labels');\n",
    "\n",
    "    t = time.time()\n",
    "    props = regionprops(labels)\n",
    "    sys.stderr.write('regionprops: %.2f\\n' % (time.time() - t) )\n",
    "\n",
    "#     plt.hist([p.area for p in props], bins=100);\n",
    "#     plt.title('Area histograms');\n",
    "#     plt.show();\n",
    "\n",
    "    valid_blob_indices = [i for i, p in enumerate(props) if p.area > min_blob_area and p.area < max_blob_area]\n",
    "    sys.stderr.write('%d blobs identified.\\n' % len(valid_blob_indices))\n",
    "    \n",
    "    # Get blobs\n",
    "    t = time.time()\n",
    "    valid_blob_coords = [props[i].coords for i in valid_blob_indices] # r,c\n",
    "    #     pickle.dump(valid_blob_coords, open(fn_output_dir + '/%(fn)s_blobCoords.pkl' % {'fn':fn}, 'w'))\n",
    "    pandas.Series(data=valid_blob_coords).to_hdf(fn_output_dir + '/%(fn)s_blobCoords.hdf' % {'fn': fn}, 'data', mode='w')\n",
    "    sys.stderr.write('Save blob coords: %.2f\\n' % (time.time() - t) )\n",
    "    \n",
    "    # Generate masks\n",
    "    t = time.time()\n",
    "#     bar = show_progress_bar(first_bs_section, last_bs_section)\n",
    "\n",
    "    cell_masks = []\n",
    "    cell_mask_centers = []\n",
    "    for i, coords in enumerate(valid_blob_coords):\n",
    "#         bar.value = i\n",
    "        ymin, xmin = coords.min(axis=0)\n",
    "        ymax, xmax = coords.max(axis=0)\n",
    "        cell_mask = np.zeros((ymax+1-ymin, xmax+1-xmin), np.bool)\n",
    "        cell_mask[coords[:,0]-ymin, coords[:,1]-xmin] = 1\n",
    "        yc, xc = np.mean(np.where(cell_mask), axis=1)\n",
    "        cell_masks.append(cell_mask)\n",
    "        cell_mask_centers.append([xc, yc])\n",
    "    \n",
    "    pandas.Series(data=cell_masks).to_hdf(fn_output_dir + '/%(fn)s_blobMasks.hdf' % {'fn': fn}, 'data', mode='w')    \n",
    "    bp.pack_ndarray_file(np.array(cell_mask_centers), fn_output_dir + '/%(fn)s_blobMaskCenters.bp' % {'fn':fn})\n",
    "\n",
    "    sys.stderr.write('Save blob masks: %.2f\\n' % (time.time() - t) )\n",
    "    \n",
    "    # Other blob attributes\n",
    "    t = time.time()\n",
    "\n",
    "#     valid_blob_contours = [find_contour_points(msk, sample_every=1)[1][0] for msk in cell_masks]\n",
    "\n",
    "    def find_contour_worker(msk):\n",
    "        if msk.shape[0] == 1:\n",
    "            # if mask is a straight line, append another line to it.\n",
    "            msk = np.vstack([msk, np.ones((msk.shape[1],))])\n",
    "        elif msk.shape[1] == 1:\n",
    "            msk = np.c_[msk, np.ones((msk.shape[0],))]\n",
    "        return find_contour_points(msk, sample_every=1)[1][0]\n",
    "        \n",
    "    pool = Pool(16)\n",
    "    valid_blob_contours = pool.map(lambda msk: find_contour_worker(msk), cell_masks)\n",
    "    pool.terminate()\n",
    "    pool.join()\n",
    "\n",
    "#     pickle.dump(valid_blob_contours, open(fn_output_dir + '/%(fn)s_blobContours.pkl' % {'fn':fn}, 'w'))\n",
    "    pandas.Series(data=valid_blob_contours).to_hdf(fn_output_dir + '/%(fn)s_blobContours.hdf' % {'fn': fn}, 'data', mode='w')\n",
    "      \n",
    "    sys.stderr.write('Save blob contours, save: %.2f\\n' % (time.time() - t) )\n",
    "    \n",
    "    t = time.time()\n",
    "\n",
    "    valid_blob_orientations = np.array([props[i].orientation for i in valid_blob_indices])\n",
    "    valid_blob_centroids = np.array([props[i].centroid for i in valid_blob_indices])[:,::-1] # r,c -> x,y\n",
    "    valid_blob_majorAxisLen = np.array([props[i].major_axis_length for i in valid_blob_indices])\n",
    "    valid_blob_minorAxisLen = np.array([props[i].minor_axis_length for i in valid_blob_indices])\n",
    "\n",
    "    bp.pack_ndarray_file(valid_blob_orientations, fn_output_dir + '/%(fn)s_blobOrientations.bp' % {'fn':fn})\n",
    "    bp.pack_ndarray_file(valid_blob_centroids, fn_output_dir + '/%(fn)s_blobCentroids.bp' % {'fn':fn})\n",
    "    bp.pack_ndarray_file(valid_blob_majorAxisLen, fn_output_dir + '/%(fn)s_blobMajorAxisLen.bp' % {'fn':fn})\n",
    "    bp.pack_ndarray_file(valid_blob_minorAxisLen, fn_output_dir + '/%(fn)s_blobMinorAxisLen.bp' % {'fn':fn})\n",
    "\n",
    "    blob_contours_global = [(valid_blob_contours[i] - cell_mask_centers[i] + valid_blob_centroids[i]).astype(np.int)\n",
    "                            for i in range(len(valid_blob_coords))]\n",
    "    pandas.Series(data=blob_contours_global).to_hdf(fn_output_dir + '/%(fn)s_blobContoursGlobal_%(alg)s.hdf' % {'fn': fn, 'alg':alg}, \n",
    "                                                    'data', mode='w')\n",
    "    \n",
    "    sys.stderr.write('Compute blob properties, save: %.2f\\n' % (time.time() - t) )"
   ]
  },
  {
   "cell_type": "markdown",
   "metadata": {},
   "source": [
    "# All stacks"
   ]
  },
  {
   "cell_type": "code",
   "execution_count": 14,
   "metadata": {
    "collapsed": false,
    "scrolled": true
   },
   "outputs": [
    {
     "name": "stdout",
     "output_type": "stream",
     "text": [
      "Setting environment for Gordon\n"
     ]
    },
    {
     "name": "stderr",
     "output_type": "stream",
     "text": [
      "Processing section: 092\n"
     ]
    },
    {
     "name": "stdout",
     "output_type": "stream",
     "text": [
      "cp /oasis/projects/nsf/csd395/yuncong/CSHL_data_processed/MD594/MD594_lossless_unsorted_alignedTo_MD594-IHC58-2015.08.26-18.48.50_MD594_1_0172_cropped_compressed/MD594-IHC16-2015.08.26-16.11.01_MD594_1_0046_lossless_alignedTo_MD594-IHC58-2015.08.26-18.48.50_MD594_1_0172_cropped_compressed.jpg /home/yuncong/csd395/CSHL_cells_v2/detected_cells/MD594/MD594-IHC16-2015.08.26-16.11.01_MD594_1_0046/MD594-IHC16-2015.08.26-16.11.01_MD594_1_0046_image.jpg\n"
     ]
    },
    {
     "name": "stderr",
     "output_type": "stream",
     "text": [
      "Child returned 0\n",
      "Load mask: 10.04\n",
      "regionprops: 1.53\n",
      "40739 blobs identified.\n",
      "Save blob coords: 2.07\n",
      "Save blob masks: 4.47\n",
      "Save blob contours, save: 7.41\n",
      "Compute blob properties, save: 8.90\n",
      "Processing section: 093\n"
     ]
    },
    {
     "name": "stdout",
     "output_type": "stream",
     "text": [
      "cp /oasis/projects/nsf/csd395/yuncong/CSHL_data_processed/MD594/MD594_lossless_unsorted_alignedTo_MD594-IHC58-2015.08.26-18.48.50_MD594_1_0172_cropped_compressed/MD594-N16-2015.08.26-21.44.15_MD594_2_0047_lossless_alignedTo_MD594-IHC58-2015.08.26-18.48.50_MD594_1_0172_cropped_compressed.jpg /home/yuncong/csd395/CSHL_cells_v2/detected_cells/MD594/MD594-N16-2015.08.26-21.44.15_MD594_2_0047/MD594-N16-2015.08.26-21.44.15_MD594_2_0047_image.jpg\n"
     ]
    },
    {
     "name": "stderr",
     "output_type": "stream",
     "text": [
      "Child returned 0\n",
      "Load mask: 9.98\n",
      "regionprops: 1.65\n",
      "40826 blobs identified.\n",
      "Save blob coords: 2.10\n",
      "Save blob masks: 4.58\n",
      "Save blob contours, save: 7.26\n",
      "Compute blob properties, save: 8.70\n",
      "Processing section: 094\n"
     ]
    },
    {
     "name": "stdout",
     "output_type": "stream",
     "text": [
      "cp /oasis/projects/nsf/csd395/yuncong/CSHL_data_processed/MD594/MD594_lossless_unsorted_alignedTo_MD594-IHC58-2015.08.26-18.48.50_MD594_1_0172_cropped_compressed/MD594-IHC16-2015.08.26-16.11.01_MD594_2_0047_lossless_alignedTo_MD594-IHC58-2015.08.26-18.48.50_MD594_1_0172_cropped_compressed.jpg /home/yuncong/csd395/CSHL_cells_v2/detected_cells/MD594/MD594-IHC16-2015.08.26-16.11.01_MD594_2_0047/MD594-IHC16-2015.08.26-16.11.01_MD594_2_0047_image.jpg\n"
     ]
    },
    {
     "name": "stderr",
     "output_type": "stream",
     "text": [
      "Child returned 0\n",
      "Load mask: 9.96\n",
      "regionprops: 1.92\n",
      "40707 blobs identified.\n",
      "Save blob coords: 2.09\n",
      "Save blob masks: 4.44\n",
      "Save blob contours, save: 7.13\n",
      "Compute blob properties, save: 8.68\n",
      "Processing section: 095\n"
     ]
    },
    {
     "name": "stdout",
     "output_type": "stream",
     "text": [
      "cp /oasis/projects/nsf/csd395/yuncong/CSHL_data_processed/MD594/MD594_lossless_unsorted_alignedTo_MD594-IHC58-2015.08.26-18.48.50_MD594_1_0172_cropped_compressed/MD594-N16-2015.08.26-21.44.15_MD594_3_0048_lossless_alignedTo_MD594-IHC58-2015.08.26-18.48.50_MD594_1_0172_cropped_compressed.jpg /home/yuncong/csd395/CSHL_cells_v2/detected_cells/MD594/MD594-N16-2015.08.26-21.44.15_MD594_3_0048/MD594-N16-2015.08.26-21.44.15_MD594_3_0048_image.jpg\n"
     ]
    },
    {
     "name": "stderr",
     "output_type": "stream",
     "text": [
      "Child returned 0\n",
      "Load mask: 9.99\n",
      "regionprops: 1.97\n",
      "41056 blobs identified.\n",
      "Save blob coords: 2.10\n",
      "Save blob masks: 4.49\n",
      "Save blob contours, save: 7.09\n",
      "Compute blob properties, save: 9.07\n",
      "Processing section: 096\n"
     ]
    },
    {
     "name": "stdout",
     "output_type": "stream",
     "text": [
      "cp /oasis/projects/nsf/csd395/yuncong/CSHL_data_processed/MD594/MD594_lossless_unsorted_alignedTo_MD594-IHC58-2015.08.26-18.48.50_MD594_1_0172_cropped_compressed/MD594-IHC16-2015.08.26-16.11.01_MD594_3_0048_lossless_alignedTo_MD594-IHC58-2015.08.26-18.48.50_MD594_1_0172_cropped_compressed.jpg /home/yuncong/csd395/CSHL_cells_v2/detected_cells/MD594/MD594-IHC16-2015.08.26-16.11.01_MD594_3_0048/MD594-IHC16-2015.08.26-16.11.01_MD594_3_0048_image.jpg\n"
     ]
    },
    {
     "name": "stderr",
     "output_type": "stream",
     "text": [
      "Child returned 0\n",
      "Load mask: 9.96\n",
      "regionprops: 1.65\n",
      "40674 blobs identified.\n",
      "Save blob coords: 2.10\n",
      "Save blob masks: 4.46\n",
      "Save blob contours, save: 9.37\n",
      "Compute blob properties, save: 8.58\n",
      "Processing section: 097\n"
     ]
    },
    {
     "name": "stdout",
     "output_type": "stream",
     "text": [
      "cp /oasis/projects/nsf/csd395/yuncong/CSHL_data_processed/MD594/MD594_lossless_unsorted_alignedTo_MD594-IHC58-2015.08.26-18.48.50_MD594_1_0172_cropped_compressed/MD594-N17-2015.08.26-21.48.26_MD594_1_0049_lossless_alignedTo_MD594-IHC58-2015.08.26-18.48.50_MD594_1_0172_cropped_compressed.jpg /home/yuncong/csd395/CSHL_cells_v2/detected_cells/MD594/MD594-N17-2015.08.26-21.48.26_MD594_1_0049/MD594-N17-2015.08.26-21.48.26_MD594_1_0049_image.jpg\n"
     ]
    },
    {
     "name": "stderr",
     "output_type": "stream",
     "text": [
      "Child returned 0\n",
      "Load mask: 10.02\n",
      "regionprops: 1.88\n",
      "41143 blobs identified.\n",
      "Save blob coords: 2.12\n",
      "Save blob masks: 4.59\n",
      "Save blob contours, save: 7.12\n",
      "Compute blob properties, save: 8.91\n",
      "Processing section: 098\n"
     ]
    },
    {
     "name": "stdout",
     "output_type": "stream",
     "text": [
      "cp /oasis/projects/nsf/csd395/yuncong/CSHL_data_processed/MD594/MD594_lossless_unsorted_alignedTo_MD594-IHC58-2015.08.26-18.48.50_MD594_1_0172_cropped_compressed/MD594-IHC17-2015.08.26-16.15.19_MD594_1_0049_lossless_alignedTo_MD594-IHC58-2015.08.26-18.48.50_MD594_1_0172_cropped_compressed.jpg /home/yuncong/csd395/CSHL_cells_v2/detected_cells/MD594/MD594-IHC17-2015.08.26-16.15.19_MD594_1_0049/MD594-IHC17-2015.08.26-16.15.19_MD594_1_0049_image.jpg\n"
     ]
    },
    {
     "name": "stderr",
     "output_type": "stream",
     "text": [
      "Child returned 0\n",
      "Load mask: 10.10\n",
      "regionprops: 2.04\n",
      "57337 blobs identified.\n",
      "Save blob coords: 2.92\n",
      "Save blob masks: 6.30\n",
      "Save blob contours, save: 9.64\n",
      "Compute blob properties, save: 12.31\n",
      "Processing section: 099\n"
     ]
    },
    {
     "name": "stdout",
     "output_type": "stream",
     "text": [
      "cp /oasis/projects/nsf/csd395/yuncong/CSHL_data_processed/MD594/MD594_lossless_unsorted_alignedTo_MD594-IHC58-2015.08.26-18.48.50_MD594_1_0172_cropped_compressed/MD594-N17-2015.08.26-21.48.26_MD594_2_0050_lossless_alignedTo_MD594-IHC58-2015.08.26-18.48.50_MD594_1_0172_cropped_compressed.jpg /home/yuncong/csd395/CSHL_cells_v2/detected_cells/MD594/MD594-N17-2015.08.26-21.48.26_MD594_2_0050/MD594-N17-2015.08.26-21.48.26_MD594_2_0050_image.jpg\n"
     ]
    },
    {
     "name": "stderr",
     "output_type": "stream",
     "text": [
      "Child returned 0\n",
      "Load mask: 9.96\n",
      "regionprops: 2.12\n",
      "41541 blobs identified.\n",
      "Save blob coords: 2.19\n",
      "Save blob masks: 4.57\n",
      "Save blob contours, save: 7.32\n",
      "Compute blob properties, save: 9.04\n",
      "Processing section: 100\n"
     ]
    },
    {
     "name": "stdout",
     "output_type": "stream",
     "text": [
      "cp /oasis/projects/nsf/csd395/yuncong/CSHL_data_processed/MD594/MD594_lossless_unsorted_alignedTo_MD594-IHC58-2015.08.26-18.48.50_MD594_1_0172_cropped_compressed/MD594-IHC17-2015.08.26-16.15.19_MD594_2_0050_lossless_alignedTo_MD594-IHC58-2015.08.26-18.48.50_MD594_1_0172_cropped_compressed.jpg /home/yuncong/csd395/CSHL_cells_v2/detected_cells/MD594/MD594-IHC17-2015.08.26-16.15.19_MD594_2_0050/MD594-IHC17-2015.08.26-16.15.19_MD594_2_0050_image.jpg\n"
     ]
    },
    {
     "name": "stderr",
     "output_type": "stream",
     "text": [
      "Child returned 0\n",
      "Load mask: 9.97\n",
      "regionprops: 1.70\n",
      "41903 blobs identified.\n",
      "Save blob coords: 2.12\n",
      "Save blob masks: 4.73\n",
      "Save blob contours, save: 7.33\n",
      "Compute blob properties, save: 9.13\n",
      "Processing section: 101\n"
     ]
    },
    {
     "name": "stdout",
     "output_type": "stream",
     "text": [
      "cp /oasis/projects/nsf/csd395/yuncong/CSHL_data_processed/MD594/MD594_lossless_unsorted_alignedTo_MD594-IHC58-2015.08.26-18.48.50_MD594_1_0172_cropped_compressed/MD594-N17-2015.08.26-21.48.26_MD594_3_0051_lossless_alignedTo_MD594-IHC58-2015.08.26-18.48.50_MD594_1_0172_cropped_compressed.jpg /home/yuncong/csd395/CSHL_cells_v2/detected_cells/MD594/MD594-N17-2015.08.26-21.48.26_MD594_3_0051/MD594-N17-2015.08.26-21.48.26_MD594_3_0051_image.jpg\n"
     ]
    },
    {
     "name": "stderr",
     "output_type": "stream",
     "text": [
      "Child returned 0\n",
      "Load mask: 10.09\n",
      "regionprops: 1.66\n",
      "41651 blobs identified.\n",
      "Save blob coords: 2.15\n",
      "Save blob masks: 4.85\n",
      "Save blob contours, save: 7.12\n",
      "Compute blob properties, save: 9.16\n",
      "Processing section: 102\n"
     ]
    },
    {
     "name": "stdout",
     "output_type": "stream",
     "text": [
      "cp /oasis/projects/nsf/csd395/yuncong/CSHL_data_processed/MD594/MD594_lossless_unsorted_alignedTo_MD594-IHC58-2015.08.26-18.48.50_MD594_1_0172_cropped_compressed/MD594-IHC17-2015.08.26-16.15.19_MD594_3_0051_lossless_alignedTo_MD594-IHC58-2015.08.26-18.48.50_MD594_1_0172_cropped_compressed.jpg /home/yuncong/csd395/CSHL_cells_v2/detected_cells/MD594/MD594-IHC17-2015.08.26-16.15.19_MD594_3_0051/MD594-IHC17-2015.08.26-16.15.19_MD594_3_0051_image.jpg\n"
     ]
    },
    {
     "name": "stderr",
     "output_type": "stream",
     "text": [
      "Child returned 0\n",
      "Load mask: 9.99\n",
      "regionprops: 1.68\n",
      "41584 blobs identified.\n",
      "Save blob coords: 2.17\n",
      "Save blob masks: 4.61\n",
      "Save blob contours, save: 7.28\n",
      "Compute blob properties, save: 9.07\n",
      "Processing section: 103\n"
     ]
    },
    {
     "name": "stdout",
     "output_type": "stream",
     "text": [
      "cp /oasis/projects/nsf/csd395/yuncong/CSHL_data_processed/MD594/MD594_lossless_unsorted_alignedTo_MD594-IHC58-2015.08.26-18.48.50_MD594_1_0172_cropped_compressed/MD594-N18-2015.08.26-21.52.46_MD594_1_0052_lossless_alignedTo_MD594-IHC58-2015.08.26-18.48.50_MD594_1_0172_cropped_compressed.jpg /home/yuncong/csd395/CSHL_cells_v2/detected_cells/MD594/MD594-N18-2015.08.26-21.52.46_MD594_1_0052/MD594-N18-2015.08.26-21.52.46_MD594_1_0052_image.jpg\n"
     ]
    },
    {
     "name": "stderr",
     "output_type": "stream",
     "text": [
      "Child returned 0\n",
      "Load mask: 9.98\n",
      "regionprops: 1.64\n",
      "42186 blobs identified.\n",
      "Save blob coords: 2.18\n",
      "Save blob masks: 4.82\n",
      "Save blob contours, save: 7.26\n",
      "Compute blob properties, save: 9.21\n",
      "Processing section: 104\n"
     ]
    },
    {
     "name": "stdout",
     "output_type": "stream",
     "text": [
      "cp /oasis/projects/nsf/csd395/yuncong/CSHL_data_processed/MD594/MD594_lossless_unsorted_alignedTo_MD594-IHC58-2015.08.26-18.48.50_MD594_1_0172_cropped_compressed/MD594-IHC18-2015.08.26-16.19.43_MD594_1_0052_lossless_alignedTo_MD594-IHC58-2015.08.26-18.48.50_MD594_1_0172_cropped_compressed.jpg /home/yuncong/csd395/CSHL_cells_v2/detected_cells/MD594/MD594-IHC18-2015.08.26-16.19.43_MD594_1_0052/MD594-IHC18-2015.08.26-16.19.43_MD594_1_0052_image.jpg\n"
     ]
    },
    {
     "name": "stderr",
     "output_type": "stream",
     "text": [
      "Child returned 0\n",
      "Load mask: 10.08\n",
      "regionprops: 1.79\n",
      "58101 blobs identified.\n",
      "Save blob coords: 2.95\n",
      "Save blob masks: 6.41\n",
      "Save blob contours, save: 9.52\n",
      "Compute blob properties, save: 12.43\n",
      "Processing section: 105\n"
     ]
    },
    {
     "name": "stdout",
     "output_type": "stream",
     "text": [
      "cp /oasis/projects/nsf/csd395/yuncong/CSHL_data_processed/MD594/MD594_lossless_unsorted_alignedTo_MD594-IHC58-2015.08.26-18.48.50_MD594_1_0172_cropped_compressed/MD594-N18-2015.08.26-21.52.46_MD594_2_0053_lossless_alignedTo_MD594-IHC58-2015.08.26-18.48.50_MD594_1_0172_cropped_compressed.jpg /home/yuncong/csd395/CSHL_cells_v2/detected_cells/MD594/MD594-N18-2015.08.26-21.52.46_MD594_2_0053/MD594-N18-2015.08.26-21.52.46_MD594_2_0053_image.jpg\n"
     ]
    },
    {
     "name": "stderr",
     "output_type": "stream",
     "text": [
      "Child returned 0\n",
      "Load mask: 9.99\n",
      "regionprops: 2.17\n",
      "39109 blobs identified.\n",
      "Save blob coords: 2.09\n",
      "Save blob masks: 4.29\n",
      "Save blob contours, save: 6.84\n",
      "Compute blob properties, save: 8.31\n",
      "Processing section: 106\n"
     ]
    },
    {
     "name": "stdout",
     "output_type": "stream",
     "text": [
      "cp /oasis/projects/nsf/csd395/yuncong/CSHL_data_processed/MD594/MD594_lossless_unsorted_alignedTo_MD594-IHC58-2015.08.26-18.48.50_MD594_1_0172_cropped_compressed/MD594-IHC18-2015.08.26-16.19.43_MD594_2_0053_lossless_alignedTo_MD594-IHC58-2015.08.26-18.48.50_MD594_1_0172_cropped_compressed.jpg /home/yuncong/csd395/CSHL_cells_v2/detected_cells/MD594/MD594-IHC18-2015.08.26-16.19.43_MD594_2_0053/MD594-IHC18-2015.08.26-16.19.43_MD594_2_0053_image.jpg\n"
     ]
    },
    {
     "name": "stderr",
     "output_type": "stream",
     "text": [
      "Child returned 0\n",
      "Load mask: 10.05\n",
      "regionprops: 2.07\n",
      "58397 blobs identified.\n",
      "Save blob coords: 2.98\n",
      "Save blob masks: 6.50\n",
      "Save blob contours, save: 9.83\n",
      "Compute blob properties, save: 12.65\n",
      "Processing section: 107\n"
     ]
    },
    {
     "name": "stdout",
     "output_type": "stream",
     "text": [
      "cp /oasis/projects/nsf/csd395/yuncong/CSHL_data_processed/MD594/MD594_lossless_unsorted_alignedTo_MD594-IHC58-2015.08.26-18.48.50_MD594_1_0172_cropped_compressed/MD594-N19-2015.08.26-21.55.55_MD594_1_0055_lossless_alignedTo_MD594-IHC58-2015.08.26-18.48.50_MD594_1_0172_cropped_compressed.jpg /home/yuncong/csd395/CSHL_cells_v2/detected_cells/MD594/MD594-N19-2015.08.26-21.55.55_MD594_1_0055/MD594-N19-2015.08.26-21.55.55_MD594_1_0055_image.jpg\n"
     ]
    },
    {
     "name": "stderr",
     "output_type": "stream",
     "text": [
      "Child returned 0\n",
      "Load mask: 9.97\n",
      "regionprops: 2.23\n",
      "59234 blobs identified.\n",
      "Save blob coords: 2.93\n",
      "Save blob masks: 6.52\n",
      "Save blob contours, save: 9.67\n",
      "Compute blob properties, save: 12.37\n",
      "Processing section: 108\n"
     ]
    },
    {
     "name": "stdout",
     "output_type": "stream",
     "text": [
      "cp /oasis/projects/nsf/csd395/yuncong/CSHL_data_processed/MD594/MD594_lossless_unsorted_alignedTo_MD594-IHC58-2015.08.26-18.48.50_MD594_1_0172_cropped_compressed/MD594-IHC19-2015.08.26-16.22.51_MD594_1_0055_lossless_alignedTo_MD594-IHC58-2015.08.26-18.48.50_MD594_1_0172_cropped_compressed.jpg /home/yuncong/csd395/CSHL_cells_v2/detected_cells/MD594/MD594-IHC19-2015.08.26-16.22.51_MD594_1_0055/MD594-IHC19-2015.08.26-16.22.51_MD594_1_0055_image.jpg\n"
     ]
    },
    {
     "name": "stderr",
     "output_type": "stream",
     "text": [
      "Child returned 0\n",
      "Load mask: 9.96\n",
      "regionprops: 1.70\n",
      "43154 blobs identified.\n",
      "Save blob coords: 2.23\n",
      "Save blob masks: 4.81\n",
      "Save blob contours, save: 7.12\n",
      "Compute blob properties, save: 9.32\n",
      "Processing section: 109\n"
     ]
    },
    {
     "name": "stdout",
     "output_type": "stream",
     "text": [
      "cp /oasis/projects/nsf/csd395/yuncong/CSHL_data_processed/MD594/MD594_lossless_unsorted_alignedTo_MD594-IHC58-2015.08.26-18.48.50_MD594_1_0172_cropped_compressed/MD594-N19-2015.08.26-21.55.55_MD594_2_0056_lossless_alignedTo_MD594-IHC58-2015.08.26-18.48.50_MD594_1_0172_cropped_compressed.jpg /home/yuncong/csd395/CSHL_cells_v2/detected_cells/MD594/MD594-N19-2015.08.26-21.55.55_MD594_2_0056/MD594-N19-2015.08.26-21.55.55_MD594_2_0056_image.jpg\n"
     ]
    },
    {
     "name": "stderr",
     "output_type": "stream",
     "text": [
      "Child returned 0\n",
      "Load mask: 9.98\n",
      "regionprops: 1.60\n",
      "43787 blobs identified.\n",
      "Save blob coords: 2.19\n",
      "Save blob masks: 4.91\n",
      "Save blob contours, save: 7.36\n",
      "Compute blob properties, save: 9.18\n",
      "Processing section: 110\n"
     ]
    },
    {
     "name": "stdout",
     "output_type": "stream",
     "text": [
      "cp /oasis/projects/nsf/csd395/yuncong/CSHL_data_processed/MD594/MD594_lossless_unsorted_alignedTo_MD594-IHC58-2015.08.26-18.48.50_MD594_1_0172_cropped_compressed/MD594-IHC19-2015.08.26-16.22.51_MD594_2_0056_lossless_alignedTo_MD594-IHC58-2015.08.26-18.48.50_MD594_1_0172_cropped_compressed.jpg /home/yuncong/csd395/CSHL_cells_v2/detected_cells/MD594/MD594-IHC19-2015.08.26-16.22.51_MD594_2_0056/MD594-IHC19-2015.08.26-16.22.51_MD594_2_0056_image.jpg\n"
     ]
    },
    {
     "name": "stderr",
     "output_type": "stream",
     "text": [
      "Child returned 0\n",
      "Load mask: 9.97\n",
      "regionprops: 1.85\n",
      "43750 blobs identified.\n",
      "Save blob coords: 2.28\n",
      "Save blob masks: 4.79\n",
      "Save blob contours, save: 7.56\n",
      "Compute blob properties, save: 9.45\n",
      "Processing section: 111\n"
     ]
    },
    {
     "name": "stdout",
     "output_type": "stream",
     "text": [
      "cp /oasis/projects/nsf/csd395/yuncong/CSHL_data_processed/MD594/MD594_lossless_unsorted_alignedTo_MD594-IHC58-2015.08.26-18.48.50_MD594_1_0172_cropped_compressed/MD594-N20-2015.08.26-21.59.11_MD594_1_0058_lossless_alignedTo_MD594-IHC58-2015.08.26-18.48.50_MD594_1_0172_cropped_compressed.jpg /home/yuncong/csd395/CSHL_cells_v2/detected_cells/MD594/MD594-N20-2015.08.26-21.59.11_MD594_1_0058/MD594-N20-2015.08.26-21.59.11_MD594_1_0058_image.jpg\n"
     ]
    },
    {
     "name": "stderr",
     "output_type": "stream",
     "text": [
      "Child returned 0\n",
      "Load mask: 9.96\n",
      "regionprops: 1.71\n",
      "59467 blobs identified.\n",
      "Save blob coords: 2.98\n",
      "Save blob masks: 6.64\n",
      "Save blob contours, save: 9.63\n",
      "Compute blob properties, save: 12.56\n",
      "Processing section: 112\n"
     ]
    },
    {
     "name": "stdout",
     "output_type": "stream",
     "text": [
      "cp /oasis/projects/nsf/csd395/yuncong/CSHL_data_processed/MD594/MD594_lossless_unsorted_alignedTo_MD594-IHC58-2015.08.26-18.48.50_MD594_1_0172_cropped_compressed/MD594-IHC20-2015.08.26-16.26.10_MD594_1_0058_lossless_alignedTo_MD594-IHC58-2015.08.26-18.48.50_MD594_1_0172_cropped_compressed.jpg /home/yuncong/csd395/CSHL_cells_v2/detected_cells/MD594/MD594-IHC20-2015.08.26-16.26.10_MD594_1_0058/MD594-IHC20-2015.08.26-16.26.10_MD594_1_0058_image.jpg\n"
     ]
    },
    {
     "name": "stderr",
     "output_type": "stream",
     "text": [
      "Child returned 0\n",
      "Load mask: 9.91\n",
      "regionprops: 2.04\n",
      "44015 blobs identified.\n",
      "Save blob coords: 2.27\n",
      "Save blob masks: 4.83\n",
      "Save blob contours, save: 7.33\n",
      "Compute blob properties, save: 9.60\n",
      "Processing section: 113\n"
     ]
    },
    {
     "name": "stdout",
     "output_type": "stream",
     "text": [
      "cp /oasis/projects/nsf/csd395/yuncong/CSHL_data_processed/MD594/MD594_lossless_unsorted_alignedTo_MD594-IHC58-2015.08.26-18.48.50_MD594_1_0172_cropped_compressed/MD594-N20-2015.08.26-21.59.11_MD594_2_0059_lossless_alignedTo_MD594-IHC58-2015.08.26-18.48.50_MD594_1_0172_cropped_compressed.jpg /home/yuncong/csd395/CSHL_cells_v2/detected_cells/MD594/MD594-N20-2015.08.26-21.59.11_MD594_2_0059/MD594-N20-2015.08.26-21.59.11_MD594_2_0059_image.jpg\n"
     ]
    },
    {
     "name": "stderr",
     "output_type": "stream",
     "text": [
      "Child returned 0\n",
      "Load mask: 9.96\n",
      "regionprops: 1.61\n",
      "43859 blobs identified.\n",
      "Save blob coords: 2.18\n",
      "Save blob masks: 5.03\n",
      "Save blob contours, save: 7.28\n",
      "Compute blob properties, save: 9.23\n",
      "Processing section: 114\n"
     ]
    },
    {
     "name": "stdout",
     "output_type": "stream",
     "text": [
      "cp /oasis/projects/nsf/csd395/yuncong/CSHL_data_processed/MD594/MD594_lossless_unsorted_alignedTo_MD594-IHC58-2015.08.26-18.48.50_MD594_1_0172_cropped_compressed/MD594-IHC20-2015.08.26-16.26.10_MD594_2_0059_lossless_alignedTo_MD594-IHC58-2015.08.26-18.48.50_MD594_1_0172_cropped_compressed.jpg /home/yuncong/csd395/CSHL_cells_v2/detected_cells/MD594/MD594-IHC20-2015.08.26-16.26.10_MD594_2_0059/MD594-IHC20-2015.08.26-16.26.10_MD594_2_0059_image.jpg\n"
     ]
    },
    {
     "name": "stderr",
     "output_type": "stream",
     "text": [
      "Child returned 0\n",
      "Load mask: 9.96\n",
      "regionprops: 1.84\n",
      "44024 blobs identified.\n",
      "Save blob coords: 2.28\n",
      "Save blob masks: 4.86\n",
      "Save blob contours, save: 7.37\n",
      "Compute blob properties, save: 9.50\n",
      "Processing section: 115\n"
     ]
    },
    {
     "name": "stdout",
     "output_type": "stream",
     "text": [
      "cp /oasis/projects/nsf/csd395/yuncong/CSHL_data_processed/MD594/MD594_lossless_unsorted_alignedTo_MD594-IHC58-2015.08.26-18.48.50_MD594_1_0172_cropped_compressed/MD594-N21-2015.08.26-22.02.28_MD594_1_0061_lossless_alignedTo_MD594-IHC58-2015.08.26-18.48.50_MD594_1_0172_cropped_compressed.jpg /home/yuncong/csd395/CSHL_cells_v2/detected_cells/MD594/MD594-N21-2015.08.26-22.02.28_MD594_1_0061/MD594-N21-2015.08.26-22.02.28_MD594_1_0061_image.jpg\n"
     ]
    },
    {
     "name": "stderr",
     "output_type": "stream",
     "text": [
      "Child returned 0\n",
      "Load mask: 9.96\n",
      "regionprops: 1.61\n",
      "44747 blobs identified.\n",
      "Save blob coords: 2.27\n",
      "Save blob masks: 5.01\n",
      "Save blob contours, save: 7.65\n",
      "Compute blob properties, save: 9.30\n",
      "Processing section: 116\n"
     ]
    },
    {
     "name": "stdout",
     "output_type": "stream",
     "text": [
      "cp /oasis/projects/nsf/csd395/yuncong/CSHL_data_processed/MD594/MD594_lossless_unsorted_alignedTo_MD594-IHC58-2015.08.26-18.48.50_MD594_1_0172_cropped_compressed/MD594-IHC21-2015.08.26-16.29.30_MD594_1_0061_lossless_alignedTo_MD594-IHC58-2015.08.26-18.48.50_MD594_1_0172_cropped_compressed.jpg /home/yuncong/csd395/CSHL_cells_v2/detected_cells/MD594/MD594-IHC21-2015.08.26-16.29.30_MD594_1_0061/MD594-IHC21-2015.08.26-16.29.30_MD594_1_0061_image.jpg\n"
     ]
    },
    {
     "name": "stderr",
     "output_type": "stream",
     "text": [
      "Child returned 0\n",
      "Load mask: 10.00\n",
      "regionprops: 1.85\n",
      "44448 blobs identified.\n",
      "Save blob coords: 2.47\n",
      "Save blob masks: 4.94\n",
      "Save blob contours, save: 7.41\n",
      "Compute blob properties, save: 9.45\n",
      "Processing section: 117\n"
     ]
    },
    {
     "name": "stdout",
     "output_type": "stream",
     "text": [
      "cp /oasis/projects/nsf/csd395/yuncong/CSHL_data_processed/MD594/MD594_lossless_unsorted_alignedTo_MD594-IHC58-2015.08.26-18.48.50_MD594_1_0172_cropped_compressed/MD594-N21-2015.08.26-22.02.28_MD594_2_0062_lossless_alignedTo_MD594-IHC58-2015.08.26-18.48.50_MD594_1_0172_cropped_compressed.jpg /home/yuncong/csd395/CSHL_cells_v2/detected_cells/MD594/MD594-N21-2015.08.26-22.02.28_MD594_2_0062/MD594-N21-2015.08.26-22.02.28_MD594_2_0062_image.jpg\n"
     ]
    },
    {
     "name": "stderr",
     "output_type": "stream",
     "text": [
      "Child returned 0\n",
      "Load mask: 10.06\n",
      "regionprops: 1.91\n",
      "44774 blobs identified.\n",
      "Save blob coords: 2.28\n",
      "Save blob masks: 4.96\n",
      "Save blob contours, save: 7.64\n",
      "Compute blob properties, save: 9.55\n",
      "Processing section: 118\n"
     ]
    },
    {
     "name": "stdout",
     "output_type": "stream",
     "text": [
      "cp /oasis/projects/nsf/csd395/yuncong/CSHL_data_processed/MD594/MD594_lossless_unsorted_alignedTo_MD594-IHC58-2015.08.26-18.48.50_MD594_1_0172_cropped_compressed/MD594-IHC21-2015.08.26-16.29.30_MD594_2_0062_lossless_alignedTo_MD594-IHC58-2015.08.26-18.48.50_MD594_1_0172_cropped_compressed.jpg /home/yuncong/csd395/CSHL_cells_v2/detected_cells/MD594/MD594-IHC21-2015.08.26-16.29.30_MD594_2_0062/MD594-IHC21-2015.08.26-16.29.30_MD594_2_0062_image.jpg\n"
     ]
    },
    {
     "name": "stderr",
     "output_type": "stream",
     "text": [
      "Child returned 0\n",
      "Load mask: 9.97\n",
      "regionprops: 2.14\n",
      "60426 blobs identified.\n",
      "Save blob coords: 3.16\n",
      "Save blob masks: 6.80\n",
      "Save blob contours, save: 10.29\n",
      "Compute blob properties, save: 13.15\n",
      "Processing section: 119\n"
     ]
    },
    {
     "name": "stdout",
     "output_type": "stream",
     "text": [
      "cp /oasis/projects/nsf/csd395/yuncong/CSHL_data_processed/MD594/MD594_lossless_unsorted_alignedTo_MD594-IHC58-2015.08.26-18.48.50_MD594_1_0172_cropped_compressed/MD594-N22-2015.08.26-22.05.55_MD594_1_0064_lossless_alignedTo_MD594-IHC58-2015.08.26-18.48.50_MD594_1_0172_cropped_compressed.jpg /home/yuncong/csd395/CSHL_cells_v2/detected_cells/MD594/MD594-N22-2015.08.26-22.05.55_MD594_1_0064/MD594-N22-2015.08.26-22.05.55_MD594_1_0064_image.jpg\n"
     ]
    },
    {
     "name": "stderr",
     "output_type": "stream",
     "text": [
      "Child returned 0\n",
      "Load mask: 9.97\n",
      "regionprops: 2.29\n",
      "60806 blobs identified.\n",
      "Save blob coords: 3.33\n",
      "Save blob masks: 6.91\n",
      "Save blob contours, save: 10.26\n",
      "Compute blob properties, save: 13.50\n",
      "Processing section: 120\n"
     ]
    },
    {
     "name": "stdout",
     "output_type": "stream",
     "text": [
      "cp /oasis/projects/nsf/csd395/yuncong/CSHL_data_processed/MD594/MD594_lossless_unsorted_alignedTo_MD594-IHC58-2015.08.26-18.48.50_MD594_1_0172_cropped_compressed/MD594-IHC22-2015.08.26-16.32.52_MD594_1_0064_lossless_alignedTo_MD594-IHC58-2015.08.26-18.48.50_MD594_1_0172_cropped_compressed.jpg /home/yuncong/csd395/CSHL_cells_v2/detected_cells/MD594/MD594-IHC22-2015.08.26-16.32.52_MD594_1_0064/MD594-IHC22-2015.08.26-16.32.52_MD594_1_0064_image.jpg\n"
     ]
    },
    {
     "name": "stderr",
     "output_type": "stream",
     "text": [
      "Child returned 0\n",
      "Load mask: 9.96\n",
      "regionprops: 1.90\n",
      "44310 blobs identified.\n",
      "Save blob coords: 2.33\n",
      "Save blob masks: 4.93\n",
      "Save blob contours, save: 7.75\n",
      "Compute blob properties, save: 9.65\n",
      "Processing section: 121\n"
     ]
    },
    {
     "name": "stdout",
     "output_type": "stream",
     "text": [
      "cp /oasis/projects/nsf/csd395/yuncong/CSHL_data_processed/MD594/MD594_lossless_unsorted_alignedTo_MD594-IHC58-2015.08.26-18.48.50_MD594_1_0172_cropped_compressed/MD594-N22-2015.08.26-22.05.55_MD594_2_0065_lossless_alignedTo_MD594-IHC58-2015.08.26-18.48.50_MD594_1_0172_cropped_compressed.jpg /home/yuncong/csd395/CSHL_cells_v2/detected_cells/MD594/MD594-N22-2015.08.26-22.05.55_MD594_2_0065/MD594-N22-2015.08.26-22.05.55_MD594_2_0065_image.jpg\n"
     ]
    },
    {
     "name": "stderr",
     "output_type": "stream",
     "text": [
      "Child returned 0\n",
      "Load mask: 9.98\n",
      "regionprops: 1.68\n",
      "44981 blobs identified.\n",
      "Save blob coords: 2.36\n",
      "Save blob masks: 5.17\n",
      "Save blob contours, save: 7.69\n",
      "Compute blob properties, save: 9.91\n",
      "Processing section: 122\n"
     ]
    },
    {
     "name": "stdout",
     "output_type": "stream",
     "text": [
      "cp /oasis/projects/nsf/csd395/yuncong/CSHL_data_processed/MD594/MD594_lossless_unsorted_alignedTo_MD594-IHC58-2015.08.26-18.48.50_MD594_1_0172_cropped_compressed/MD594-IHC22-2015.08.26-16.32.52_MD594_2_0065_lossless_alignedTo_MD594-IHC58-2015.08.26-18.48.50_MD594_1_0172_cropped_compressed.jpg /home/yuncong/csd395/CSHL_cells_v2/detected_cells/MD594/MD594-IHC22-2015.08.26-16.32.52_MD594_2_0065/MD594-IHC22-2015.08.26-16.32.52_MD594_2_0065_image.jpg\n"
     ]
    },
    {
     "name": "stderr",
     "output_type": "stream",
     "text": [
      "Child returned 0\n",
      "Load mask: 9.96\n",
      "regionprops: 1.77\n",
      "44255 blobs identified.\n",
      "Save blob coords: 2.31\n",
      "Save blob masks: 5.05\n",
      "Save blob contours, save: 7.87\n",
      "Compute blob properties, save: 9.38\n",
      "Processing section: 123\n"
     ]
    },
    {
     "name": "stdout",
     "output_type": "stream",
     "text": [
      "cp /oasis/projects/nsf/csd395/yuncong/CSHL_data_processed/MD594/MD594_lossless_unsorted_alignedTo_MD594-IHC58-2015.08.26-18.48.50_MD594_1_0172_cropped_compressed/MD594-N23-2015.08.26-22.09.28_MD594_1_0067_lossless_alignedTo_MD594-IHC58-2015.08.26-18.48.50_MD594_1_0172_cropped_compressed.jpg /home/yuncong/csd395/CSHL_cells_v2/detected_cells/MD594/MD594-N23-2015.08.26-22.09.28_MD594_1_0067/MD594-N23-2015.08.26-22.09.28_MD594_1_0067_image.jpg\n"
     ]
    },
    {
     "name": "stderr",
     "output_type": "stream",
     "text": [
      "Child returned 0\n",
      "Load mask: 9.98\n",
      "regionprops: 2.04\n",
      "43725 blobs identified.\n",
      "Save blob coords: 2.35\n",
      "Save blob masks: 4.89\n",
      "Save blob contours, save: 7.55\n",
      "Compute blob properties, save: 9.54\n",
      "Processing section: 124\n"
     ]
    },
    {
     "name": "stdout",
     "output_type": "stream",
     "text": [
      "cp /oasis/projects/nsf/csd395/yuncong/CSHL_data_processed/MD594/MD594_lossless_unsorted_alignedTo_MD594-IHC58-2015.08.26-18.48.50_MD594_1_0172_cropped_compressed/MD594-IHC23-2015.08.26-16.36.13_MD594_1_0067_lossless_alignedTo_MD594-IHC58-2015.08.26-18.48.50_MD594_1_0172_cropped_compressed.jpg /home/yuncong/csd395/CSHL_cells_v2/detected_cells/MD594/MD594-IHC23-2015.08.26-16.36.13_MD594_1_0067/MD594-IHC23-2015.08.26-16.36.13_MD594_1_0067_image.jpg\n"
     ]
    },
    {
     "name": "stderr",
     "output_type": "stream",
     "text": [
      "Child returned 0\n",
      "Load mask: 9.96\n",
      "regionprops: 2.04\n",
      "45667 blobs identified.\n",
      "Save blob coords: 2.39\n",
      "Save blob masks: 5.13\n",
      "Save blob contours, save: 7.92\n",
      "Compute blob properties, save: 10.05\n",
      "Processing section: 125\n"
     ]
    },
    {
     "name": "stdout",
     "output_type": "stream",
     "text": [
      "cp /oasis/projects/nsf/csd395/yuncong/CSHL_data_processed/MD594/MD594_lossless_unsorted_alignedTo_MD594-IHC58-2015.08.26-18.48.50_MD594_1_0172_cropped_compressed/MD594-N23-2015.08.26-22.09.28_MD594_2_0068_lossless_alignedTo_MD594-IHC58-2015.08.26-18.48.50_MD594_1_0172_cropped_compressed.jpg /home/yuncong/csd395/CSHL_cells_v2/detected_cells/MD594/MD594-N23-2015.08.26-22.09.28_MD594_2_0068/MD594-N23-2015.08.26-22.09.28_MD594_2_0068_image.jpg\n"
     ]
    },
    {
     "name": "stderr",
     "output_type": "stream",
     "text": [
      "Child returned 0\n",
      "Load mask: 9.96\n",
      "regionprops: 1.68\n",
      "45900 blobs identified.\n",
      "Save blob coords: 2.29\n",
      "Save blob masks: 5.16\n",
      "Save blob contours, save: 7.88\n",
      "Compute blob properties, save: 10.17\n",
      "Processing section: 126\n"
     ]
    },
    {
     "name": "stdout",
     "output_type": "stream",
     "text": [
      "cp /oasis/projects/nsf/csd395/yuncong/CSHL_data_processed/MD594/MD594_lossless_unsorted_alignedTo_MD594-IHC58-2015.08.26-18.48.50_MD594_1_0172_cropped_compressed/MD594-IHC23-2015.08.26-16.36.13_MD594_2_0068_lossless_alignedTo_MD594-IHC58-2015.08.26-18.48.50_MD594_1_0172_cropped_compressed.jpg /home/yuncong/csd395/CSHL_cells_v2/detected_cells/MD594/MD594-IHC23-2015.08.26-16.36.13_MD594_2_0068/MD594-IHC23-2015.08.26-16.36.13_MD594_2_0068_image.jpg\n"
     ]
    },
    {
     "name": "stderr",
     "output_type": "stream",
     "text": [
      "Child returned 0\n",
      "Load mask: 9.97\n",
      "regionprops: 1.78\n",
      "46948 blobs identified.\n",
      "Save blob coords: 2.49\n",
      "Save blob masks: 5.26\n",
      "Save blob contours, save: 8.22\n",
      "Compute blob properties, save: 9.95\n",
      "Processing section: 127\n"
     ]
    },
    {
     "name": "stdout",
     "output_type": "stream",
     "text": [
      "cp /oasis/projects/nsf/csd395/yuncong/CSHL_data_processed/MD594/MD594_lossless_unsorted_alignedTo_MD594-IHC58-2015.08.26-18.48.50_MD594_1_0172_cropped_compressed/MD594-N24-2015.08.26-22.12.42_MD594_1_0070_lossless_alignedTo_MD594-IHC58-2015.08.26-18.48.50_MD594_1_0172_cropped_compressed.jpg /home/yuncong/csd395/CSHL_cells_v2/detected_cells/MD594/MD594-N24-2015.08.26-22.12.42_MD594_1_0070/MD594-N24-2015.08.26-22.12.42_MD594_1_0070_image.jpg\n"
     ]
    },
    {
     "name": "stderr",
     "output_type": "stream",
     "text": [
      "Child returned 0\n",
      "Load mask: 9.97\n",
      "regionprops: 2.02\n",
      "47595 blobs identified.\n",
      "Save blob coords: 2.53\n",
      "Save blob masks: 5.27\n",
      "Save blob contours, save: 8.01\n",
      "Compute blob properties, save: 10.65\n",
      "Processing section: 128\n"
     ]
    },
    {
     "name": "stdout",
     "output_type": "stream",
     "text": [
      "cp /oasis/projects/nsf/csd395/yuncong/CSHL_data_processed/MD594/MD594_lossless_unsorted_alignedTo_MD594-IHC58-2015.08.26-18.48.50_MD594_1_0172_cropped_compressed/MD594-IHC24-2015.08.26-16.39.39_MD594_1_0070_lossless_alignedTo_MD594-IHC58-2015.08.26-18.48.50_MD594_1_0172_cropped_compressed.jpg /home/yuncong/csd395/CSHL_cells_v2/detected_cells/MD594/MD594-IHC24-2015.08.26-16.39.39_MD594_1_0070/MD594-IHC24-2015.08.26-16.39.39_MD594_1_0070_image.jpg\n"
     ]
    },
    {
     "name": "stderr",
     "output_type": "stream",
     "text": [
      "Child returned 0\n",
      "Load mask: 10.13\n",
      "regionprops: 2.26\n",
      "63392 blobs identified.\n",
      "Save blob coords: 3.31\n",
      "Save blob masks: 7.07\n",
      "Save blob contours, save: 10.52\n",
      "Compute blob properties, save: 13.50\n",
      "Processing section: 129\n"
     ]
    },
    {
     "name": "stdout",
     "output_type": "stream",
     "text": [
      "cp /oasis/projects/nsf/csd395/yuncong/CSHL_data_processed/MD594/MD594_lossless_unsorted_alignedTo_MD594-IHC58-2015.08.26-18.48.50_MD594_1_0172_cropped_compressed/MD594-N24-2015.08.26-22.12.42_MD594_2_0071_lossless_alignedTo_MD594-IHC58-2015.08.26-18.48.50_MD594_1_0172_cropped_compressed.jpg /home/yuncong/csd395/CSHL_cells_v2/detected_cells/MD594/MD594-N24-2015.08.26-22.12.42_MD594_2_0071/MD594-N24-2015.08.26-22.12.42_MD594_2_0071_image.jpg\n"
     ]
    },
    {
     "name": "stderr",
     "output_type": "stream",
     "text": [
      "Child returned 0\n",
      "Load mask: 9.99\n",
      "regionprops: 2.35\n",
      "65257 blobs identified.\n",
      "Save blob coords: 3.34\n",
      "Save blob masks: 7.15\n",
      "Save blob contours, save: 11.09\n",
      "Compute blob properties, save: 13.95\n",
      "Processing section: 130\n"
     ]
    },
    {
     "name": "stdout",
     "output_type": "stream",
     "text": [
      "cp /oasis/projects/nsf/csd395/yuncong/CSHL_data_processed/MD594/MD594_lossless_unsorted_alignedTo_MD594-IHC58-2015.08.26-18.48.50_MD594_1_0172_cropped_compressed/MD594-IHC24-2015.08.26-16.39.39_MD594_2_0071_lossless_alignedTo_MD594-IHC58-2015.08.26-18.48.50_MD594_1_0172_cropped_compressed.jpg /home/yuncong/csd395/CSHL_cells_v2/detected_cells/MD594/MD594-IHC24-2015.08.26-16.39.39_MD594_2_0071/MD594-IHC24-2015.08.26-16.39.39_MD594_2_0071_image.jpg\n"
     ]
    },
    {
     "name": "stderr",
     "output_type": "stream",
     "text": [
      "Child returned 0\n",
      "Load mask: 10.00\n",
      "regionprops: 2.39\n",
      "65513 blobs identified.\n",
      "Save blob coords: 3.46\n",
      "Save blob masks: 7.23\n",
      "Save blob contours, save: 10.99\n",
      "Compute blob properties, save: 14.10\n",
      "Processing section: 132\n"
     ]
    },
    {
     "name": "stdout",
     "output_type": "stream",
     "text": [
      "cp /oasis/projects/nsf/csd395/yuncong/CSHL_data_processed/MD594/MD594_lossless_unsorted_alignedTo_MD594-IHC58-2015.08.26-18.48.50_MD594_1_0172_cropped_compressed/MD594-IHC25-2015.08.26-16.43.04_MD594_1_0073_lossless_alignedTo_MD594-IHC58-2015.08.26-18.48.50_MD594_1_0172_cropped_compressed.jpg /home/yuncong/csd395/CSHL_cells_v2/detected_cells/MD594/MD594-IHC25-2015.08.26-16.43.04_MD594_1_0073/MD594-IHC25-2015.08.26-16.43.04_MD594_1_0073_image.jpg\n"
     ]
    },
    {
     "name": "stderr",
     "output_type": "stream",
     "text": [
      "Child returned 0\n",
      "Load mask: 10.10\n",
      "regionprops: 2.42\n",
      "66268 blobs identified.\n",
      "Save blob coords: 3.46\n",
      "Save blob masks: 7.34\n",
      "Save blob contours, save: 11.17\n",
      "Compute blob properties, save: 14.27\n",
      "Processing section: 133\n"
     ]
    },
    {
     "name": "stdout",
     "output_type": "stream",
     "text": [
      "cp /oasis/projects/nsf/csd395/yuncong/CSHL_data_processed/MD594/MD594_lossless_unsorted_alignedTo_MD594-IHC58-2015.08.26-18.48.50_MD594_1_0172_cropped_compressed/MD594-N25-2015.08.26-22.16.07_MD594_2_0074_lossless_alignedTo_MD594-IHC58-2015.08.26-18.48.50_MD594_1_0172_cropped_compressed.jpg /home/yuncong/csd395/CSHL_cells_v2/detected_cells/MD594/MD594-N25-2015.08.26-22.16.07_MD594_2_0074/MD594-N25-2015.08.26-22.16.07_MD594_2_0074_image.jpg\n"
     ]
    },
    {
     "name": "stderr",
     "output_type": "stream",
     "text": [
      "Child returned 0\n",
      "Load mask: 10.02\n",
      "regionprops: 1.89\n",
      "51455 blobs identified.\n",
      "Save blob coords: 2.66\n",
      "Save blob masks: 5.65\n",
      "Save blob contours, save: 9.10\n",
      "Compute blob properties, save: 10.96\n",
      "Processing section: 134\n"
     ]
    },
    {
     "name": "stdout",
     "output_type": "stream",
     "text": [
      "cp /oasis/projects/nsf/csd395/yuncong/CSHL_data_processed/MD594/MD594_lossless_unsorted_alignedTo_MD594-IHC58-2015.08.26-18.48.50_MD594_1_0172_cropped_compressed/MD594-IHC25-2015.08.26-16.43.04_MD594_2_0074_lossless_alignedTo_MD594-IHC58-2015.08.26-18.48.50_MD594_1_0172_cropped_compressed.jpg /home/yuncong/csd395/CSHL_cells_v2/detected_cells/MD594/MD594-IHC25-2015.08.26-16.43.04_MD594_2_0074/MD594-IHC25-2015.08.26-16.43.04_MD594_2_0074_image.jpg\n"
     ]
    },
    {
     "name": "stderr",
     "output_type": "stream",
     "text": [
      "Child returned 0\n",
      "Load mask: 9.96\n",
      "regionprops: 1.90\n",
      "67302 blobs identified.\n",
      "Save blob coords: 3.48\n",
      "Save blob masks: 7.51\n",
      "Save blob contours, save: 10.95\n",
      "Compute blob properties, save: 14.67\n",
      "Processing section: 135\n"
     ]
    },
    {
     "name": "stdout",
     "output_type": "stream",
     "text": [
      "cp /oasis/projects/nsf/csd395/yuncong/CSHL_data_processed/MD594/MD594_lossless_unsorted_alignedTo_MD594-IHC58-2015.08.26-18.48.50_MD594_1_0172_cropped_compressed/MD594-N26-2015.08.26-22.19.23_MD594_1_0076_lossless_alignedTo_MD594-IHC58-2015.08.26-18.48.50_MD594_1_0172_cropped_compressed.jpg /home/yuncong/csd395/CSHL_cells_v2/detected_cells/MD594/MD594-N26-2015.08.26-22.19.23_MD594_1_0076/MD594-N26-2015.08.26-22.19.23_MD594_1_0076_image.jpg\n"
     ]
    },
    {
     "name": "stderr",
     "output_type": "stream",
     "text": [
      "Child returned 0\n",
      "Load mask: 10.02\n",
      "regionprops: 2.04\n",
      "67749 blobs identified.\n",
      "Save blob coords: 3.53\n",
      "Save blob masks: 7.48\n",
      "Save blob contours, save: 11.53\n",
      "Compute blob properties, save: 14.41\n",
      "Processing section: 136\n"
     ]
    },
    {
     "name": "stdout",
     "output_type": "stream",
     "text": [
      "cp /oasis/projects/nsf/csd395/yuncong/CSHL_data_processed/MD594/MD594_lossless_unsorted_alignedTo_MD594-IHC58-2015.08.26-18.48.50_MD594_1_0172_cropped_compressed/MD594-IHC26-2015.08.26-16.46.33_MD594_1_0076_lossless_alignedTo_MD594-IHC58-2015.08.26-18.48.50_MD594_1_0172_cropped_compressed.jpg /home/yuncong/csd395/CSHL_cells_v2/detected_cells/MD594/MD594-IHC26-2015.08.26-16.46.33_MD594_1_0076/MD594-IHC26-2015.08.26-16.46.33_MD594_1_0076_image.jpg\n"
     ]
    },
    {
     "name": "stderr",
     "output_type": "stream",
     "text": [
      "Child returned 0\n",
      "Load mask: 10.00\n",
      "regionprops: 2.46\n",
      "66844 blobs identified.\n",
      "Save blob coords: 3.36\n",
      "Save blob masks: 7.29\n",
      "Save blob contours, save: 11.23\n",
      "Compute blob properties, save: 14.19\n",
      "Processing section: 137\n"
     ]
    },
    {
     "name": "stdout",
     "output_type": "stream",
     "text": [
      "cp /oasis/projects/nsf/csd395/yuncong/CSHL_data_processed/MD594/MD594_lossless_unsorted_alignedTo_MD594-IHC58-2015.08.26-18.48.50_MD594_1_0172_cropped_compressed/MD594-N26-2015.08.26-22.19.23_MD594_2_0077_lossless_alignedTo_MD594-IHC58-2015.08.26-18.48.50_MD594_1_0172_cropped_compressed.jpg /home/yuncong/csd395/CSHL_cells_v2/detected_cells/MD594/MD594-N26-2015.08.26-22.19.23_MD594_2_0077/MD594-N26-2015.08.26-22.19.23_MD594_2_0077_image.jpg\n"
     ]
    },
    {
     "name": "stderr",
     "output_type": "stream",
     "text": [
      "Child returned 0\n",
      "Load mask: 10.14\n",
      "regionprops: 2.35\n",
      "52571 blobs identified.\n",
      "Save blob coords: 2.74\n",
      "Save blob masks: 5.88\n",
      "Save blob contours, save: 8.92\n",
      "Compute blob properties, save: 11.60\n",
      "Processing section: 138\n"
     ]
    },
    {
     "name": "stdout",
     "output_type": "stream",
     "text": [
      "cp /oasis/projects/nsf/csd395/yuncong/CSHL_data_processed/MD594/MD594_lossless_unsorted_alignedTo_MD594-IHC58-2015.08.26-18.48.50_MD594_1_0172_cropped_compressed/MD594-IHC26-2015.08.26-16.46.33_MD594_2_0077_lossless_alignedTo_MD594-IHC58-2015.08.26-18.48.50_MD594_1_0172_cropped_compressed.jpg /home/yuncong/csd395/CSHL_cells_v2/detected_cells/MD594/MD594-IHC26-2015.08.26-16.46.33_MD594_2_0077/MD594-IHC26-2015.08.26-16.46.33_MD594_2_0077_image.jpg\n"
     ]
    },
    {
     "name": "stderr",
     "output_type": "stream",
     "text": [
      "Child returned 0\n",
      "Load mask: 10.03\n",
      "regionprops: 1.96\n",
      "68781 blobs identified.\n",
      "Save blob coords: 3.55\n",
      "Save blob masks: 7.67\n",
      "Save blob contours, save: 11.23\n",
      "Compute blob properties, save: 15.05\n",
      "Processing section: 139\n"
     ]
    },
    {
     "name": "stdout",
     "output_type": "stream",
     "text": [
      "cp /oasis/projects/nsf/csd395/yuncong/CSHL_data_processed/MD594/MD594_lossless_unsorted_alignedTo_MD594-IHC58-2015.08.26-18.48.50_MD594_1_0172_cropped_compressed/MD594-N27-2015.08.26-22.22.46_MD594_1_0079_lossless_alignedTo_MD594-IHC58-2015.08.26-18.48.50_MD594_1_0172_cropped_compressed.jpg /home/yuncong/csd395/CSHL_cells_v2/detected_cells/MD594/MD594-N27-2015.08.26-22.22.46_MD594_1_0079/MD594-N27-2015.08.26-22.22.46_MD594_1_0079_image.jpg\n"
     ]
    },
    {
     "name": "stderr",
     "output_type": "stream",
     "text": [
      "Child returned 0\n",
      "Load mask: 10.01\n",
      "regionprops: 2.01\n",
      "65864 blobs identified.\n",
      "Save blob coords: 3.35\n",
      "Save blob masks: 7.21\n",
      "Save blob contours, save: 14.10\n",
      "Compute blob properties, save: 13.94\n",
      "Processing section: 140\n"
     ]
    },
    {
     "name": "stdout",
     "output_type": "stream",
     "text": [
      "cp /oasis/projects/nsf/csd395/yuncong/CSHL_data_processed/MD594/MD594_lossless_unsorted_alignedTo_MD594-IHC58-2015.08.26-18.48.50_MD594_1_0172_cropped_compressed/MD594-IHC27-2015.08.26-16.50.00_MD594_1_0079_lossless_alignedTo_MD594-IHC58-2015.08.26-18.48.50_MD594_1_0172_cropped_compressed.jpg /home/yuncong/csd395/CSHL_cells_v2/detected_cells/MD594/MD594-IHC27-2015.08.26-16.50.00_MD594_1_0079/MD594-IHC27-2015.08.26-16.50.00_MD594_1_0079_image.jpg\n"
     ]
    },
    {
     "name": "stderr",
     "output_type": "stream",
     "text": [
      "Child returned 0\n",
      "Load mask: 10.04\n",
      "regionprops: 2.44\n",
      "69679 blobs identified.\n",
      "Save blob coords: 3.56\n",
      "Save blob masks: 7.64\n",
      "Save blob contours, save: 11.75\n",
      "Compute blob properties, save: 15.10\n",
      "Processing section: 141\n"
     ]
    },
    {
     "name": "stdout",
     "output_type": "stream",
     "text": [
      "cp /oasis/projects/nsf/csd395/yuncong/CSHL_data_processed/MD594/MD594_lossless_unsorted_alignedTo_MD594-IHC58-2015.08.26-18.48.50_MD594_1_0172_cropped_compressed/MD594-N27-2015.08.26-22.22.46_MD594_2_0080_lossless_alignedTo_MD594-IHC58-2015.08.26-18.48.50_MD594_1_0172_cropped_compressed.jpg /home/yuncong/csd395/CSHL_cells_v2/detected_cells/MD594/MD594-N27-2015.08.26-22.22.46_MD594_2_0080/MD594-N27-2015.08.26-22.22.46_MD594_2_0080_image.jpg\n"
     ]
    },
    {
     "name": "stderr",
     "output_type": "stream",
     "text": [
      "Child returned 0\n",
      "Load mask: 10.08\n",
      "regionprops: 1.98\n",
      "54015 blobs identified.\n",
      "Save blob coords: 2.71\n",
      "Save blob masks: 5.86\n",
      "Save blob contours, save: 9.09\n",
      "Compute blob properties, save: 11.32\n",
      "Processing section: 142\n"
     ]
    },
    {
     "name": "stdout",
     "output_type": "stream",
     "text": [
      "cp /oasis/projects/nsf/csd395/yuncong/CSHL_data_processed/MD594/MD594_lossless_unsorted_alignedTo_MD594-IHC58-2015.08.26-18.48.50_MD594_1_0172_cropped_compressed/MD594-IHC27-2015.08.26-16.50.00_MD594_2_0080_lossless_alignedTo_MD594-IHC58-2015.08.26-18.48.50_MD594_1_0172_cropped_compressed.jpg /home/yuncong/csd395/CSHL_cells_v2/detected_cells/MD594/MD594-IHC27-2015.08.26-16.50.00_MD594_2_0080/MD594-IHC27-2015.08.26-16.50.00_MD594_2_0080_image.jpg\n"
     ]
    },
    {
     "name": "stderr",
     "output_type": "stream",
     "text": [
      "Child returned 0\n",
      "Load mask: 9.97\n",
      "regionprops: 2.35\n",
      "70170 blobs identified.\n",
      "Save blob coords: 3.54\n",
      "Save blob masks: 7.65\n",
      "Save blob contours, save: 11.50\n",
      "Compute blob properties, save: 15.22\n",
      "Processing section: 143\n"
     ]
    },
    {
     "name": "stdout",
     "output_type": "stream",
     "text": [
      "cp /oasis/projects/nsf/csd395/yuncong/CSHL_data_processed/MD594/MD594_lossless_unsorted_alignedTo_MD594-IHC58-2015.08.26-18.48.50_MD594_1_0172_cropped_compressed/MD594-N28-2015.08.26-22.26.13_MD594_1_0082_lossless_alignedTo_MD594-IHC58-2015.08.26-18.48.50_MD594_1_0172_cropped_compressed.jpg /home/yuncong/csd395/CSHL_cells_v2/detected_cells/MD594/MD594-N28-2015.08.26-22.26.13_MD594_1_0082/MD594-N28-2015.08.26-22.26.13_MD594_1_0082_image.jpg\n"
     ]
    },
    {
     "name": "stderr",
     "output_type": "stream",
     "text": [
      "Child returned 0\n",
      "Load mask: 10.07\n",
      "regionprops: 1.99\n",
      "55595 blobs identified.\n",
      "Save blob coords: 2.80\n",
      "Save blob masks: 6.09\n",
      "Save blob contours, save: 9.38\n",
      "Compute blob properties, save: 11.84\n",
      "Processing section: 144\n"
     ]
    },
    {
     "name": "stdout",
     "output_type": "stream",
     "text": [
      "cp /oasis/projects/nsf/csd395/yuncong/CSHL_data_processed/MD594/MD594_lossless_unsorted_alignedTo_MD594-IHC58-2015.08.26-18.48.50_MD594_1_0172_cropped_compressed/MD594-IHC28-2015.08.26-16.53.26_MD594_1_0082_lossless_alignedTo_MD594-IHC58-2015.08.26-18.48.50_MD594_1_0172_cropped_compressed.jpg /home/yuncong/csd395/CSHL_cells_v2/detected_cells/MD594/MD594-IHC28-2015.08.26-16.53.26_MD594_1_0082/MD594-IHC28-2015.08.26-16.53.26_MD594_1_0082_image.jpg\n"
     ]
    },
    {
     "name": "stderr",
     "output_type": "stream",
     "text": [
      "Child returned 0\n",
      "Load mask: 9.98\n",
      "regionprops: 1.89\n",
      "71719 blobs identified.\n",
      "Save blob coords: 3.79\n",
      "Save blob masks: 7.85\n",
      "Save blob contours, save: 11.79\n",
      "Compute blob properties, save: 15.15\n",
      "Processing section: 145\n"
     ]
    },
    {
     "name": "stdout",
     "output_type": "stream",
     "text": [
      "cp /oasis/projects/nsf/csd395/yuncong/CSHL_data_processed/MD594/MD594_lossless_unsorted_alignedTo_MD594-IHC58-2015.08.26-18.48.50_MD594_1_0172_cropped_compressed/MD594-N28-2015.08.26-22.26.13_MD594_2_0083_lossless_alignedTo_MD594-IHC58-2015.08.26-18.48.50_MD594_1_0172_cropped_compressed.jpg /home/yuncong/csd395/CSHL_cells_v2/detected_cells/MD594/MD594-N28-2015.08.26-22.26.13_MD594_2_0083/MD594-N28-2015.08.26-22.26.13_MD594_2_0083_image.jpg\n"
     ]
    },
    {
     "name": "stderr",
     "output_type": "stream",
     "text": [
      "Child returned 0\n",
      "Load mask: 9.96\n",
      "regionprops: 2.48\n",
      "70428 blobs identified.\n",
      "Save blob coords: 3.52\n",
      "Save blob masks: 7.59\n",
      "Save blob contours, save: 11.77\n",
      "Compute blob properties, save: 14.91\n",
      "Processing section: 146\n"
     ]
    },
    {
     "name": "stdout",
     "output_type": "stream",
     "text": [
      "cp /oasis/projects/nsf/csd395/yuncong/CSHL_data_processed/MD594/MD594_lossless_unsorted_alignedTo_MD594-IHC58-2015.08.26-18.48.50_MD594_1_0172_cropped_compressed/MD594-IHC28-2015.08.26-16.53.26_MD594_2_0083_lossless_alignedTo_MD594-IHC58-2015.08.26-18.48.50_MD594_1_0172_cropped_compressed.jpg /home/yuncong/csd395/CSHL_cells_v2/detected_cells/MD594/MD594-IHC28-2015.08.26-16.53.26_MD594_2_0083/MD594-IHC28-2015.08.26-16.53.26_MD594_2_0083_image.jpg\n"
     ]
    },
    {
     "name": "stderr",
     "output_type": "stream",
     "text": [
      "Child returned 0\n",
      "Load mask: 9.98\n",
      "regionprops: 2.11\n",
      "71873 blobs identified.\n",
      "Save blob coords: 3.63\n",
      "Save blob masks: 8.17\n",
      "Save blob contours, save: 11.69\n",
      "Compute blob properties, save: 15.32\n",
      "Processing section: 147\n"
     ]
    },
    {
     "name": "stdout",
     "output_type": "stream",
     "text": [
      "cp /oasis/projects/nsf/csd395/yuncong/CSHL_data_processed/MD594/MD594_lossless_unsorted_alignedTo_MD594-IHC58-2015.08.26-18.48.50_MD594_1_0172_cropped_compressed/MD594-N29-2015.08.26-22.29.38_MD594_1_0085_lossless_alignedTo_MD594-IHC58-2015.08.26-18.48.50_MD594_1_0172_cropped_compressed.jpg /home/yuncong/csd395/CSHL_cells_v2/detected_cells/MD594/MD594-N29-2015.08.26-22.29.38_MD594_1_0085/MD594-N29-2015.08.26-22.29.38_MD594_1_0085_image.jpg\n"
     ]
    },
    {
     "name": "stderr",
     "output_type": "stream",
     "text": [
      "Child returned 0\n",
      "Load mask: 9.96\n",
      "regionprops: 2.47\n",
      "71523 blobs identified.\n",
      "Save blob coords: 3.59\n",
      "Save blob masks: 7.68\n",
      "Save blob contours, save: 11.98\n",
      "Compute blob properties, save: 15.01\n",
      "Processing section: 148\n"
     ]
    },
    {
     "name": "stdout",
     "output_type": "stream",
     "text": [
      "cp /oasis/projects/nsf/csd395/yuncong/CSHL_data_processed/MD594/MD594_lossless_unsorted_alignedTo_MD594-IHC58-2015.08.26-18.48.50_MD594_1_0172_cropped_compressed/MD594-IHC29-2015.08.26-16.56.59_MD594_1_0085_lossless_alignedTo_MD594-IHC58-2015.08.26-18.48.50_MD594_1_0172_cropped_compressed.jpg /home/yuncong/csd395/CSHL_cells_v2/detected_cells/MD594/MD594-IHC29-2015.08.26-16.56.59_MD594_1_0085/MD594-IHC29-2015.08.26-16.56.59_MD594_1_0085_image.jpg\n"
     ]
    },
    {
     "name": "stderr",
     "output_type": "stream",
     "text": [
      "Child returned 0\n",
      "Load mask: 9.98\n",
      "regionprops: 2.52\n",
      "72429 blobs identified.\n",
      "Save blob coords: 3.75\n",
      "Save blob masks: 7.98\n",
      "Save blob contours, save: 11.72\n",
      "Compute blob properties, save: 15.50\n",
      "Processing section: 149\n"
     ]
    },
    {
     "name": "stdout",
     "output_type": "stream",
     "text": [
      "cp /oasis/projects/nsf/csd395/yuncong/CSHL_data_processed/MD594/MD594_lossless_unsorted_alignedTo_MD594-IHC58-2015.08.26-18.48.50_MD594_1_0172_cropped_compressed/MD594-N29-2015.08.26-22.29.38_MD594_2_0086_lossless_alignedTo_MD594-IHC58-2015.08.26-18.48.50_MD594_1_0172_cropped_compressed.jpg /home/yuncong/csd395/CSHL_cells_v2/detected_cells/MD594/MD594-N29-2015.08.26-22.29.38_MD594_2_0086/MD594-N29-2015.08.26-22.29.38_MD594_2_0086_image.jpg\n"
     ]
    },
    {
     "name": "stderr",
     "output_type": "stream",
     "text": [
      "Child returned 0\n",
      "Load mask: 9.96\n",
      "regionprops: 2.57\n",
      "71358 blobs identified.\n",
      "Save blob coords: 3.56\n",
      "Save blob masks: 7.70\n",
      "Save blob contours, save: 11.66\n",
      "Compute blob properties, save: 15.00\n",
      "Processing section: 150\n"
     ]
    },
    {
     "name": "stdout",
     "output_type": "stream",
     "text": [
      "cp /oasis/projects/nsf/csd395/yuncong/CSHL_data_processed/MD594/MD594_lossless_unsorted_alignedTo_MD594-IHC58-2015.08.26-18.48.50_MD594_1_0172_cropped_compressed/MD594-IHC29-2015.08.26-16.56.59_MD594_2_0086_lossless_alignedTo_MD594-IHC58-2015.08.26-18.48.50_MD594_1_0172_cropped_compressed.jpg /home/yuncong/csd395/CSHL_cells_v2/detected_cells/MD594/MD594-IHC29-2015.08.26-16.56.59_MD594_2_0086/MD594-IHC29-2015.08.26-16.56.59_MD594_2_0086_image.jpg\n"
     ]
    },
    {
     "name": "stderr",
     "output_type": "stream",
     "text": [
      "Child returned 0\n",
      "Load mask: 9.96\n",
      "regionprops: 2.50\n",
      "73279 blobs identified.\n",
      "Save blob coords: 3.79\n",
      "Save blob masks: 8.02\n",
      "Save blob contours, save: 12.08\n",
      "Compute blob properties, save: 15.64\n",
      "Processing section: 151\n"
     ]
    },
    {
     "name": "stdout",
     "output_type": "stream",
     "text": [
      "cp /oasis/projects/nsf/csd395/yuncong/CSHL_data_processed/MD594/MD594_lossless_unsorted_alignedTo_MD594-IHC58-2015.08.26-18.48.50_MD594_1_0172_cropped_compressed/MD594-N30-2015.08.26-22.33.07_MD594_1_0088_lossless_alignedTo_MD594-IHC58-2015.08.26-18.48.50_MD594_1_0172_cropped_compressed.jpg /home/yuncong/csd395/CSHL_cells_v2/detected_cells/MD594/MD594-N30-2015.08.26-22.33.07_MD594_1_0088/MD594-N30-2015.08.26-22.33.07_MD594_1_0088_image.jpg\n"
     ]
    },
    {
     "name": "stderr",
     "output_type": "stream",
     "text": [
      "Child returned 0\n",
      "Load mask: 9.97\n",
      "regionprops: 2.54\n",
      "73180 blobs identified.\n",
      "Save blob coords: 3.66\n",
      "Save blob masks: 7.93\n",
      "Save blob contours, save: 11.95\n",
      "Compute blob properties, save: 15.45\n",
      "Processing section: 152\n"
     ]
    },
    {
     "name": "stdout",
     "output_type": "stream",
     "text": [
      "cp /oasis/projects/nsf/csd395/yuncong/CSHL_data_processed/MD594/MD594_lossless_unsorted_alignedTo_MD594-IHC58-2015.08.26-18.48.50_MD594_1_0172_cropped_compressed/MD594-IHC30-2015.08.26-17.00.29_MD594_1_0088_lossless_alignedTo_MD594-IHC58-2015.08.26-18.48.50_MD594_1_0172_cropped_compressed.jpg /home/yuncong/csd395/CSHL_cells_v2/detected_cells/MD594/MD594-IHC30-2015.08.26-17.00.29_MD594_1_0088/MD594-IHC30-2015.08.26-17.00.29_MD594_1_0088_image.jpg\n"
     ]
    },
    {
     "name": "stderr",
     "output_type": "stream",
     "text": [
      "Child returned 0\n",
      "Load mask: 9.97\n",
      "regionprops: 2.00\n",
      "73776 blobs identified.\n",
      "Save blob coords: 3.67\n",
      "Save blob masks: 8.16\n",
      "Save blob contours, save: 11.72\n",
      "Compute blob properties, save: 15.49\n",
      "Processing section: 153\n"
     ]
    },
    {
     "name": "stdout",
     "output_type": "stream",
     "text": [
      "cp /oasis/projects/nsf/csd395/yuncong/CSHL_data_processed/MD594/MD594_lossless_unsorted_alignedTo_MD594-IHC58-2015.08.26-18.48.50_MD594_1_0172_cropped_compressed/MD594-N30-2015.08.26-22.33.07_MD594_2_0089_lossless_alignedTo_MD594-IHC58-2015.08.26-18.48.50_MD594_1_0172_cropped_compressed.jpg /home/yuncong/csd395/CSHL_cells_v2/detected_cells/MD594/MD594-N30-2015.08.26-22.33.07_MD594_2_0089/MD594-N30-2015.08.26-22.33.07_MD594_2_0089_image.jpg\n"
     ]
    },
    {
     "name": "stderr",
     "output_type": "stream",
     "text": [
      "Child returned 0\n",
      "Load mask: 9.96\n",
      "regionprops: 2.38\n",
      "73431 blobs identified.\n",
      "Save blob coords: 3.59\n",
      "Save blob masks: 7.83\n",
      "Save blob contours, save: 11.59\n",
      "Compute blob properties, save: 15.19\n",
      "Processing section: 154\n"
     ]
    },
    {
     "name": "stdout",
     "output_type": "stream",
     "text": [
      "cp /oasis/projects/nsf/csd395/yuncong/CSHL_data_processed/MD594/MD594_lossless_unsorted_alignedTo_MD594-IHC58-2015.08.26-18.48.50_MD594_1_0172_cropped_compressed/MD594-IHC30-2015.08.26-17.00.29_MD594_3_0090_lossless_alignedTo_MD594-IHC58-2015.08.26-18.48.50_MD594_1_0172_cropped_compressed.jpg /home/yuncong/csd395/CSHL_cells_v2/detected_cells/MD594/MD594-IHC30-2015.08.26-17.00.29_MD594_3_0090/MD594-IHC30-2015.08.26-17.00.29_MD594_3_0090_image.jpg\n"
     ]
    },
    {
     "name": "stderr",
     "output_type": "stream",
     "text": [
      "Child returned 0\n",
      "Load mask: 10.25\n",
      "regionprops: 2.36\n",
      "74427 blobs identified.\n",
      "Save blob coords: 3.64\n",
      "Save blob masks: 8.07\n",
      "Save blob contours, save: 11.79\n",
      "Compute blob properties, save: 16.02\n",
      "Processing section: 155\n"
     ]
    },
    {
     "name": "stdout",
     "output_type": "stream",
     "text": [
      "cp /oasis/projects/nsf/csd395/yuncong/CSHL_data_processed/MD594/MD594_lossless_unsorted_alignedTo_MD594-IHC58-2015.08.26-18.48.50_MD594_1_0172_cropped_compressed/MD594-N31-2015.08.26-22.36.37_MD594_1_0091_lossless_alignedTo_MD594-IHC58-2015.08.26-18.48.50_MD594_1_0172_cropped_compressed.jpg /home/yuncong/csd395/CSHL_cells_v2/detected_cells/MD594/MD594-N31-2015.08.26-22.36.37_MD594_1_0091/MD594-N31-2015.08.26-22.36.37_MD594_1_0091_image.jpg\n"
     ]
    },
    {
     "name": "stderr",
     "output_type": "stream",
     "text": [
      "Child returned 0\n",
      "Load mask: 10.35\n",
      "regionprops: 2.44\n",
      "85622 blobs identified.\n",
      "Save blob coords: 4.37\n",
      "Save blob masks: 9.53\n",
      "Save blob contours, save: 13.37\n",
      "Compute blob properties, save: 17.91\n",
      "Processing section: 156\n"
     ]
    },
    {
     "name": "stdout",
     "output_type": "stream",
     "text": [
      "cp /oasis/projects/nsf/csd395/yuncong/CSHL_data_processed/MD594/MD594_lossless_unsorted_alignedTo_MD594-IHC58-2015.08.26-18.48.50_MD594_1_0172_cropped_compressed/MD594-IHC31-2015.08.26-17.04.03_MD594_1_0091_lossless_alignedTo_MD594-IHC58-2015.08.26-18.48.50_MD594_1_0172_cropped_compressed.jpg /home/yuncong/csd395/CSHL_cells_v2/detected_cells/MD594/MD594-IHC31-2015.08.26-17.04.03_MD594_1_0091/MD594-IHC31-2015.08.26-17.04.03_MD594_1_0091_image.jpg\n"
     ]
    },
    {
     "name": "stderr",
     "output_type": "stream",
     "text": [
      "Child returned 0\n",
      "Load mask: 10.27\n",
      "regionprops: 2.46\n",
      "72897 blobs identified.\n",
      "Save blob coords: 3.58\n",
      "Save blob masks: 7.79\n",
      "Save blob contours, save: 11.92\n",
      "Compute blob properties, save: 15.31\n",
      "Processing section: 157\n"
     ]
    },
    {
     "name": "stdout",
     "output_type": "stream",
     "text": [
      "cp /oasis/projects/nsf/csd395/yuncong/CSHL_data_processed/MD594/MD594_lossless_unsorted_alignedTo_MD594-IHC58-2015.08.26-18.48.50_MD594_1_0172_cropped_compressed/MD594-N31-2015.08.26-22.36.37_MD594_2_0092_lossless_alignedTo_MD594-IHC58-2015.08.26-18.48.50_MD594_1_0172_cropped_compressed.jpg /home/yuncong/csd395/CSHL_cells_v2/detected_cells/MD594/MD594-N31-2015.08.26-22.36.37_MD594_2_0092/MD594-N31-2015.08.26-22.36.37_MD594_2_0092_image.jpg\n"
     ]
    },
    {
     "name": "stderr",
     "output_type": "stream",
     "text": [
      "Child returned 0\n",
      "Load mask: 10.26\n",
      "regionprops: 2.36\n",
      "72260 blobs identified.\n",
      "Save blob coords: 3.46\n",
      "Save blob masks: 7.71\n",
      "Save blob contours, save: 11.56\n",
      "Compute blob properties, save: 15.25\n",
      "Processing section: 158\n"
     ]
    },
    {
     "name": "stdout",
     "output_type": "stream",
     "text": [
      "cp /oasis/projects/nsf/csd395/yuncong/CSHL_data_processed/MD594/MD594_lossless_unsorted_alignedTo_MD594-IHC58-2015.08.26-18.48.50_MD594_1_0172_cropped_compressed/MD594-IHC31-2015.08.26-17.04.03_MD594_3_0093_lossless_alignedTo_MD594-IHC58-2015.08.26-18.48.50_MD594_1_0172_cropped_compressed.jpg /home/yuncong/csd395/CSHL_cells_v2/detected_cells/MD594/MD594-IHC31-2015.08.26-17.04.03_MD594_3_0093/MD594-IHC31-2015.08.26-17.04.03_MD594_3_0093_image.jpg\n"
     ]
    },
    {
     "name": "stderr",
     "output_type": "stream",
     "text": [
      "Child returned 0\n",
      "Load mask: 9.94\n",
      "regionprops: 1.99\n",
      "74910 blobs identified.\n",
      "Save blob coords: 3.74\n",
      "Save blob masks: 8.22\n",
      "Save blob contours, save: 11.83\n",
      "Compute blob properties, save: 15.62\n",
      "Processing section: 159\n"
     ]
    },
    {
     "name": "stdout",
     "output_type": "stream",
     "text": [
      "cp /oasis/projects/nsf/csd395/yuncong/CSHL_data_processed/MD594/MD594_lossless_unsorted_alignedTo_MD594-IHC58-2015.08.26-18.48.50_MD594_1_0172_cropped_compressed/MD594-N32-2015.08.26-22.40.16_MD594_1_0094_lossless_alignedTo_MD594-IHC58-2015.08.26-18.48.50_MD594_1_0172_cropped_compressed.jpg /home/yuncong/csd395/CSHL_cells_v2/detected_cells/MD594/MD594-N32-2015.08.26-22.40.16_MD594_1_0094/MD594-N32-2015.08.26-22.40.16_MD594_1_0094_image.jpg\n"
     ]
    },
    {
     "name": "stderr",
     "output_type": "stream",
     "text": [
      "Child returned 0\n",
      "Load mask: 9.91\n",
      "regionprops: 1.89\n",
      "57925 blobs identified.\n",
      "Save blob coords: 2.77\n",
      "Save blob masks: 6.31\n",
      "Save blob contours, save: 9.48\n",
      "Compute blob properties, save: 12.12\n",
      "Processing section: 160\n"
     ]
    },
    {
     "name": "stdout",
     "output_type": "stream",
     "text": [
      "cp /oasis/projects/nsf/csd395/yuncong/CSHL_data_processed/MD594/MD594_lossless_unsorted_alignedTo_MD594-IHC58-2015.08.26-18.48.50_MD594_1_0172_cropped_compressed/MD594-IHC32-2015.08.26-17.07.31_MD594_1_0094_lossless_alignedTo_MD594-IHC58-2015.08.26-18.48.50_MD594_1_0172_cropped_compressed.jpg /home/yuncong/csd395/CSHL_cells_v2/detected_cells/MD594/MD594-IHC32-2015.08.26-17.07.31_MD594_1_0094/MD594-IHC32-2015.08.26-17.07.31_MD594_1_0094_image.jpg\n"
     ]
    },
    {
     "name": "stderr",
     "output_type": "stream",
     "text": [
      "Child returned 0\n",
      "Load mask: 9.92\n",
      "regionprops: 2.29\n",
      "84446 blobs identified.\n",
      "Save blob coords: 4.05\n",
      "Save blob masks: 9.10\n",
      "Save blob contours, save: 13.53\n",
      "Compute blob properties, save: 17.85\n",
      "Processing section: 161\n"
     ]
    },
    {
     "name": "stdout",
     "output_type": "stream",
     "text": [
      "cp /oasis/projects/nsf/csd395/yuncong/CSHL_data_processed/MD594/MD594_lossless_unsorted_alignedTo_MD594-IHC58-2015.08.26-18.48.50_MD594_1_0172_cropped_compressed/MD594-N32-2015.08.26-22.40.16_MD594_2_0095_lossless_alignedTo_MD594-IHC58-2015.08.26-18.48.50_MD594_1_0172_cropped_compressed.jpg /home/yuncong/csd395/CSHL_cells_v2/detected_cells/MD594/MD594-N32-2015.08.26-22.40.16_MD594_2_0095/MD594-N32-2015.08.26-22.40.16_MD594_2_0095_image.jpg\n"
     ]
    },
    {
     "name": "stderr",
     "output_type": "stream",
     "text": [
      "Child returned 0\n",
      "Load mask: 9.92\n",
      "regionprops: 2.10\n",
      "78204 blobs identified.\n",
      "Save blob coords: 3.78\n",
      "Save blob masks: 8.57\n",
      "Save blob contours, save: 12.68\n",
      "Compute blob properties, save: 16.21\n",
      "Processing section: 162\n"
     ]
    },
    {
     "name": "stdout",
     "output_type": "stream",
     "text": [
      "cp /oasis/projects/nsf/csd395/yuncong/CSHL_data_processed/MD594/MD594_lossless_unsorted_alignedTo_MD594-IHC58-2015.08.26-18.48.50_MD594_1_0172_cropped_compressed/MD594-IHC32-2015.08.26-17.07.31_MD594_3_0096_lossless_alignedTo_MD594-IHC58-2015.08.26-18.48.50_MD594_1_0172_cropped_compressed.jpg /home/yuncong/csd395/CSHL_cells_v2/detected_cells/MD594/MD594-IHC32-2015.08.26-17.07.31_MD594_3_0096/MD594-IHC32-2015.08.26-17.07.31_MD594_3_0096_image.jpg\n"
     ]
    },
    {
     "name": "stderr",
     "output_type": "stream",
     "text": [
      "Child returned 0\n",
      "Load mask: 9.96\n",
      "regionprops: 2.54\n",
      "78261 blobs identified.\n",
      "Save blob coords: 3.86\n",
      "Save blob masks: 8.46\n",
      "Save blob contours, save: 12.97\n",
      "Compute blob properties, save: 16.65\n",
      "Processing section: 163\n"
     ]
    },
    {
     "name": "stdout",
     "output_type": "stream",
     "text": [
      "cp /oasis/projects/nsf/csd395/yuncong/CSHL_data_processed/MD594/MD594_lossless_unsorted_alignedTo_MD594-IHC58-2015.08.26-18.48.50_MD594_1_0172_cropped_compressed/MD594-N33-2015.08.26-22.44.00_MD594_1_0097_lossless_alignedTo_MD594-IHC58-2015.08.26-18.48.50_MD594_1_0172_cropped_compressed.jpg /home/yuncong/csd395/CSHL_cells_v2/detected_cells/MD594/MD594-N33-2015.08.26-22.44.00_MD594_1_0097/MD594-N33-2015.08.26-22.44.00_MD594_1_0097_image.jpg\n"
     ]
    },
    {
     "name": "stderr",
     "output_type": "stream",
     "text": [
      "Child returned 0\n",
      "Load mask: 10.08\n",
      "regionprops: 2.21\n",
      "81957 blobs identified.\n",
      "Save blob coords: 4.19\n",
      "Save blob masks: 9.16\n",
      "Save blob contours, save: 13.48\n",
      "Compute blob properties, save: 17.83\n",
      "Processing section: 164\n"
     ]
    },
    {
     "name": "stdout",
     "output_type": "stream",
     "text": [
      "cp /oasis/projects/nsf/csd395/yuncong/CSHL_data_processed/MD594/MD594_lossless_unsorted_alignedTo_MD594-IHC58-2015.08.26-18.48.50_MD594_1_0172_cropped_compressed/MD594-IHC33-2015.08.26-17.11.04_MD594_1_0097_lossless_alignedTo_MD594-IHC58-2015.08.26-18.48.50_MD594_1_0172_cropped_compressed.jpg /home/yuncong/csd395/CSHL_cells_v2/detected_cells/MD594/MD594-IHC33-2015.08.26-17.11.04_MD594_1_0097/MD594-IHC33-2015.08.26-17.11.04_MD594_1_0097_image.jpg\n"
     ]
    },
    {
     "name": "stderr",
     "output_type": "stream",
     "text": [
      "Child returned 0\n",
      "Load mask: 10.00\n",
      "regionprops: 2.29\n",
      "84723 blobs identified.\n",
      "Save blob coords: 4.30\n",
      "Save blob masks: 9.39\n",
      "Save blob contours, save: 13.57\n",
      "Compute blob properties, save: 18.38\n",
      "Processing section: 165\n"
     ]
    },
    {
     "name": "stdout",
     "output_type": "stream",
     "text": [
      "cp /oasis/projects/nsf/csd395/yuncong/CSHL_data_processed/MD594/MD594_lossless_unsorted_alignedTo_MD594-IHC58-2015.08.26-18.48.50_MD594_1_0172_cropped_compressed/MD594-N33-2015.08.26-22.44.00_MD594_2_0098_lossless_alignedTo_MD594-IHC58-2015.08.26-18.48.50_MD594_1_0172_cropped_compressed.jpg /home/yuncong/csd395/CSHL_cells_v2/detected_cells/MD594/MD594-N33-2015.08.26-22.44.00_MD594_2_0098/MD594-N33-2015.08.26-22.44.00_MD594_2_0098_image.jpg\n"
     ]
    },
    {
     "name": "stderr",
     "output_type": "stream",
     "text": [
      "Child returned 0\n",
      "Load mask: 9.97\n",
      "regionprops: 2.77\n",
      "79320 blobs identified.\n",
      "Save blob coords: 4.01\n",
      "Save blob masks: 8.65\n",
      "Save blob contours, save: 13.09\n",
      "Compute blob properties, save: 16.72\n",
      "Processing section: 166\n"
     ]
    },
    {
     "name": "stdout",
     "output_type": "stream",
     "text": [
      "cp /oasis/projects/nsf/csd395/yuncong/CSHL_data_processed/MD594/MD594_lossless_unsorted_alignedTo_MD594-IHC58-2015.08.26-18.48.50_MD594_1_0172_cropped_compressed/MD594-IHC33-2015.08.26-17.11.04_MD594_2_0098_lossless_alignedTo_MD594-IHC58-2015.08.26-18.48.50_MD594_1_0172_cropped_compressed.jpg /home/yuncong/csd395/CSHL_cells_v2/detected_cells/MD594/MD594-IHC33-2015.08.26-17.11.04_MD594_2_0098/MD594-IHC33-2015.08.26-17.11.04_MD594_2_0098_image.jpg\n"
     ]
    },
    {
     "name": "stderr",
     "output_type": "stream",
     "text": [
      "Child returned 0\n",
      "Load mask: 9.96\n",
      "regionprops: 2.60\n",
      "79218 blobs identified.\n",
      "Save blob coords: 4.08\n",
      "Save blob masks: 8.65\n",
      "Save blob contours, save: 12.90\n",
      "Compute blob properties, save: 16.87\n",
      "Processing section: 167\n"
     ]
    },
    {
     "name": "stdout",
     "output_type": "stream",
     "text": [
      "cp /oasis/projects/nsf/csd395/yuncong/CSHL_data_processed/MD594/MD594_lossless_unsorted_alignedTo_MD594-IHC58-2015.08.26-18.48.50_MD594_1_0172_cropped_compressed/MD594-N34-2015.08.26-22.47.56_MD594_1_0100_lossless_alignedTo_MD594-IHC58-2015.08.26-18.48.50_MD594_1_0172_cropped_compressed.jpg /home/yuncong/csd395/CSHL_cells_v2/detected_cells/MD594/MD594-N34-2015.08.26-22.47.56_MD594_1_0100/MD594-N34-2015.08.26-22.47.56_MD594_1_0100_image.jpg\n"
     ]
    },
    {
     "name": "stderr",
     "output_type": "stream",
     "text": [
      "Child returned 0\n",
      "Load mask: 9.96\n",
      "regionprops: 2.71\n",
      "85329 blobs identified.\n",
      "Save blob coords: 4.32\n",
      "Save blob masks: 9.27\n",
      "Save blob contours, save: 13.74\n",
      "Compute blob properties, save: 18.03\n",
      "Processing section: 168\n"
     ]
    },
    {
     "name": "stdout",
     "output_type": "stream",
     "text": [
      "cp /oasis/projects/nsf/csd395/yuncong/CSHL_data_processed/MD594/MD594_lossless_unsorted_alignedTo_MD594-IHC58-2015.08.26-18.48.50_MD594_1_0172_cropped_compressed/MD594-IHC34-2015.08.26-17.14.47_MD594_1_0100_lossless_alignedTo_MD594-IHC58-2015.08.26-18.48.50_MD594_1_0172_cropped_compressed.jpg /home/yuncong/csd395/CSHL_cells_v2/detected_cells/MD594/MD594-IHC34-2015.08.26-17.14.47_MD594_1_0100/MD594-IHC34-2015.08.26-17.14.47_MD594_1_0100_image.jpg\n"
     ]
    },
    {
     "name": "stderr",
     "output_type": "stream",
     "text": [
      "Child returned 0\n",
      "Load mask: 9.97\n",
      "regionprops: 2.74\n",
      "79256 blobs identified.\n",
      "Save blob coords: 3.97\n",
      "Save blob masks: 8.52\n",
      "Save blob contours, save: 13.40\n",
      "Compute blob properties, save: 16.67\n",
      "Processing section: 169\n"
     ]
    },
    {
     "name": "stdout",
     "output_type": "stream",
     "text": [
      "cp /oasis/projects/nsf/csd395/yuncong/CSHL_data_processed/MD594/MD594_lossless_unsorted_alignedTo_MD594-IHC58-2015.08.26-18.48.50_MD594_1_0172_cropped_compressed/MD594-N34-2015.08.26-22.47.56_MD594_2_0101_lossless_alignedTo_MD594-IHC58-2015.08.26-18.48.50_MD594_1_0172_cropped_compressed.jpg /home/yuncong/csd395/CSHL_cells_v2/detected_cells/MD594/MD594-N34-2015.08.26-22.47.56_MD594_2_0101/MD594-N34-2015.08.26-22.47.56_MD594_2_0101_image.jpg\n"
     ]
    },
    {
     "name": "stderr",
     "output_type": "stream",
     "text": [
      "Child returned 0\n",
      "Load mask: 9.96\n",
      "regionprops: 2.64\n",
      "85095 blobs identified.\n",
      "Save blob coords: 4.14\n",
      "Save blob masks: 9.11\n",
      "Save blob contours, save: 13.55\n",
      "Compute blob properties, save: 18.20\n",
      "Processing section: 170\n"
     ]
    },
    {
     "name": "stdout",
     "output_type": "stream",
     "text": [
      "cp /oasis/projects/nsf/csd395/yuncong/CSHL_data_processed/MD594/MD594_lossless_unsorted_alignedTo_MD594-IHC58-2015.08.26-18.48.50_MD594_1_0172_cropped_compressed/MD594-IHC34-2015.08.26-17.14.47_MD594_2_0101_lossless_alignedTo_MD594-IHC58-2015.08.26-18.48.50_MD594_1_0172_cropped_compressed.jpg /home/yuncong/csd395/CSHL_cells_v2/detected_cells/MD594/MD594-IHC34-2015.08.26-17.14.47_MD594_2_0101/MD594-IHC34-2015.08.26-17.14.47_MD594_2_0101_image.jpg\n"
     ]
    },
    {
     "name": "stderr",
     "output_type": "stream",
     "text": [
      "Child returned 0\n",
      "Load mask: 9.97\n",
      "regionprops: 2.34\n",
      "86700 blobs identified.\n",
      "Save blob coords: 4.55\n",
      "Save blob masks: 9.41\n",
      "Save blob contours, save: 14.16\n",
      "Compute blob properties, save: 18.20\n",
      "Processing section: 171\n"
     ]
    },
    {
     "name": "stdout",
     "output_type": "stream",
     "text": [
      "cp /oasis/projects/nsf/csd395/yuncong/CSHL_data_processed/MD594/MD594_lossless_unsorted_alignedTo_MD594-IHC58-2015.08.26-18.48.50_MD594_1_0172_cropped_compressed/MD594-N35-2015.08.26-22.51.43_MD594_1_0103_lossless_alignedTo_MD594-IHC58-2015.08.26-18.48.50_MD594_1_0172_cropped_compressed.jpg /home/yuncong/csd395/CSHL_cells_v2/detected_cells/MD594/MD594-N35-2015.08.26-22.51.43_MD594_1_0103/MD594-N35-2015.08.26-22.51.43_MD594_1_0103_image.jpg\n"
     ]
    },
    {
     "name": "stderr",
     "output_type": "stream",
     "text": [
      "Child returned 0\n",
      "Load mask: 10.00\n",
      "regionprops: 2.71\n",
      "80505 blobs identified.\n",
      "Save blob coords: 4.12\n",
      "Save blob masks: 8.64\n",
      "Save blob contours, save: 13.27\n",
      "Compute blob properties, save: 17.06\n",
      "Processing section: 172\n"
     ]
    },
    {
     "name": "stdout",
     "output_type": "stream",
     "text": [
      "cp /oasis/projects/nsf/csd395/yuncong/CSHL_data_processed/MD594/MD594_lossless_unsorted_alignedTo_MD594-IHC58-2015.08.26-18.48.50_MD594_1_0172_cropped_compressed/MD594-IHC35-2015.08.26-17.18.27_MD594_1_0103_lossless_alignedTo_MD594-IHC58-2015.08.26-18.48.50_MD594_1_0172_cropped_compressed.jpg /home/yuncong/csd395/CSHL_cells_v2/detected_cells/MD594/MD594-IHC35-2015.08.26-17.18.27_MD594_1_0103/MD594-IHC35-2015.08.26-17.18.27_MD594_1_0103_image.jpg\n"
     ]
    },
    {
     "name": "stderr",
     "output_type": "stream",
     "text": [
      "Child returned 0\n",
      "Load mask: 10.02\n",
      "regionprops: 2.62\n",
      "83625 blobs identified.\n",
      "Save blob coords: 4.17\n",
      "Save blob masks: 8.99\n",
      "Save blob contours, save: 13.62\n",
      "Compute blob properties, save: 17.38\n",
      "Processing section: 173\n"
     ]
    },
    {
     "name": "stdout",
     "output_type": "stream",
     "text": [
      "cp /oasis/projects/nsf/csd395/yuncong/CSHL_data_processed/MD594/MD594_lossless_unsorted_alignedTo_MD594-IHC58-2015.08.26-18.48.50_MD594_1_0172_cropped_compressed/MD594-N35-2015.08.26-22.51.43_MD594_2_0104_lossless_alignedTo_MD594-IHC58-2015.08.26-18.48.50_MD594_1_0172_cropped_compressed.jpg /home/yuncong/csd395/CSHL_cells_v2/detected_cells/MD594/MD594-N35-2015.08.26-22.51.43_MD594_2_0104/MD594-N35-2015.08.26-22.51.43_MD594_2_0104_image.jpg\n"
     ]
    },
    {
     "name": "stderr",
     "output_type": "stream",
     "text": [
      "Child returned 0\n",
      "Load mask: 10.00\n",
      "regionprops: 2.89\n",
      "86992 blobs identified.\n",
      "Save blob coords: 4.55\n",
      "Save blob masks: 9.29\n",
      "Save blob contours, save: 14.28\n",
      "Compute blob properties, save: 18.60\n",
      "Processing section: 174\n"
     ]
    },
    {
     "name": "stdout",
     "output_type": "stream",
     "text": [
      "cp /oasis/projects/nsf/csd395/yuncong/CSHL_data_processed/MD594/MD594_lossless_unsorted_alignedTo_MD594-IHC58-2015.08.26-18.48.50_MD594_1_0172_cropped_compressed/MD594-IHC35-2015.08.26-17.18.27_MD594_2_0104_lossless_alignedTo_MD594-IHC58-2015.08.26-18.48.50_MD594_1_0172_cropped_compressed.jpg /home/yuncong/csd395/CSHL_cells_v2/detected_cells/MD594/MD594-IHC35-2015.08.26-17.18.27_MD594_2_0104/MD594-IHC35-2015.08.26-17.18.27_MD594_2_0104_image.jpg\n"
     ]
    },
    {
     "name": "stderr",
     "output_type": "stream",
     "text": [
      "Child returned 0\n",
      "Load mask: 9.96\n",
      "regionprops: 2.79\n",
      "85734 blobs identified.\n",
      "Save blob coords: 4.22\n",
      "Save blob masks: 9.16\n",
      "Save blob contours, save: 13.95\n",
      "Compute blob properties, save: 17.93\n",
      "Processing section: 175\n"
     ]
    },
    {
     "name": "stdout",
     "output_type": "stream",
     "text": [
      "cp /oasis/projects/nsf/csd395/yuncong/CSHL_data_processed/MD594/MD594_lossless_unsorted_alignedTo_MD594-IHC58-2015.08.26-18.48.50_MD594_1_0172_cropped_compressed/MD594-N36-2015.08.26-22.55.28_MD594_1_0106_lossless_alignedTo_MD594-IHC58-2015.08.26-18.48.50_MD594_1_0172_cropped_compressed.jpg /home/yuncong/csd395/CSHL_cells_v2/detected_cells/MD594/MD594-N36-2015.08.26-22.55.28_MD594_1_0106/MD594-N36-2015.08.26-22.55.28_MD594_1_0106_image.jpg\n"
     ]
    },
    {
     "name": "stderr",
     "output_type": "stream",
     "text": [
      "Child returned 0\n",
      "Load mask: 9.96\n",
      "regionprops: 2.22\n",
      "82918 blobs identified.\n",
      "Save blob coords: 4.17\n",
      "Save blob masks: 9.21\n",
      "Save blob contours, save: 13.34\n",
      "Compute blob properties, save: 17.87\n",
      "Processing section: 176\n"
     ]
    },
    {
     "name": "stdout",
     "output_type": "stream",
     "text": [
      "cp /oasis/projects/nsf/csd395/yuncong/CSHL_data_processed/MD594/MD594_lossless_unsorted_alignedTo_MD594-IHC58-2015.08.26-18.48.50_MD594_1_0172_cropped_compressed/MD594-IHC36-2015.08.26-17.22.13_MD594_1_0106_lossless_alignedTo_MD594-IHC58-2015.08.26-18.48.50_MD594_1_0172_cropped_compressed.jpg /home/yuncong/csd395/CSHL_cells_v2/detected_cells/MD594/MD594-IHC36-2015.08.26-17.22.13_MD594_1_0106/MD594-IHC36-2015.08.26-17.22.13_MD594_1_0106_image.jpg\n"
     ]
    },
    {
     "name": "stderr",
     "output_type": "stream",
     "text": [
      "Child returned 0\n",
      "Load mask: 9.96\n",
      "regionprops: 2.32\n",
      "88394 blobs identified.\n",
      "Save blob coords: 4.39\n",
      "Save blob masks: 9.67\n",
      "Save blob contours, save: 14.73\n",
      "Compute blob properties, save: 18.47\n",
      "Processing section: 177\n"
     ]
    },
    {
     "name": "stdout",
     "output_type": "stream",
     "text": [
      "cp /oasis/projects/nsf/csd395/yuncong/CSHL_data_processed/MD594/MD594_lossless_unsorted_alignedTo_MD594-IHC58-2015.08.26-18.48.50_MD594_1_0172_cropped_compressed/MD594-N36-2015.08.26-22.55.28_MD594_2_0107_lossless_alignedTo_MD594-IHC58-2015.08.26-18.48.50_MD594_1_0172_cropped_compressed.jpg /home/yuncong/csd395/CSHL_cells_v2/detected_cells/MD594/MD594-N36-2015.08.26-22.55.28_MD594_2_0107/MD594-N36-2015.08.26-22.55.28_MD594_2_0107_image.jpg\n"
     ]
    },
    {
     "name": "stderr",
     "output_type": "stream",
     "text": [
      "Child returned 0\n",
      "Load mask: 9.96\n",
      "regionprops: 2.75\n",
      "85336 blobs identified.\n",
      "Save blob coords: 4.13\n",
      "Save blob masks: 8.97\n",
      "Save blob contours, save: 13.86\n",
      "Compute blob properties, save: 18.21\n",
      "Processing section: 178\n"
     ]
    },
    {
     "name": "stdout",
     "output_type": "stream",
     "text": [
      "cp /oasis/projects/nsf/csd395/yuncong/CSHL_data_processed/MD594/MD594_lossless_unsorted_alignedTo_MD594-IHC58-2015.08.26-18.48.50_MD594_1_0172_cropped_compressed/MD594-IHC36-2015.08.26-17.22.13_MD594_2_0107_lossless_alignedTo_MD594-IHC58-2015.08.26-18.48.50_MD594_1_0172_cropped_compressed.jpg /home/yuncong/csd395/CSHL_cells_v2/detected_cells/MD594/MD594-IHC36-2015.08.26-17.22.13_MD594_2_0107/MD594-IHC36-2015.08.26-17.22.13_MD594_2_0107_image.jpg\n"
     ]
    },
    {
     "name": "stderr",
     "output_type": "stream",
     "text": [
      "Child returned 0\n",
      "Load mask: 9.97\n",
      "regionprops: 2.31\n",
      "88698 blobs identified.\n",
      "Save blob coords: 4.36\n",
      "Save blob masks: 9.67\n",
      "Save blob contours, save: 14.72\n",
      "Compute blob properties, save: 19.12\n",
      "Processing section: 179\n"
     ]
    },
    {
     "name": "stdout",
     "output_type": "stream",
     "text": [
      "cp /oasis/projects/nsf/csd395/yuncong/CSHL_data_processed/MD594/MD594_lossless_unsorted_alignedTo_MD594-IHC58-2015.08.26-18.48.50_MD594_1_0172_cropped_compressed/MD594-N37-2015.08.26-22.59.18_MD594_1_0109_lossless_alignedTo_MD594-IHC58-2015.08.26-18.48.50_MD594_1_0172_cropped_compressed.jpg /home/yuncong/csd395/CSHL_cells_v2/detected_cells/MD594/MD594-N37-2015.08.26-22.59.18_MD594_1_0109/MD594-N37-2015.08.26-22.59.18_MD594_1_0109_image.jpg\n"
     ]
    },
    {
     "name": "stderr",
     "output_type": "stream",
     "text": [
      "Child returned 0\n",
      "Load mask: 9.96\n",
      "regionprops: 2.32\n",
      "87382 blobs identified.\n",
      "Save blob coords: 4.33\n",
      "Save blob masks: 9.47\n",
      "Save blob contours, save: 14.36\n",
      "Compute blob properties, save: 18.36\n",
      "Processing section: 180\n"
     ]
    },
    {
     "name": "stdout",
     "output_type": "stream",
     "text": [
      "cp /oasis/projects/nsf/csd395/yuncong/CSHL_data_processed/MD594/MD594_lossless_unsorted_alignedTo_MD594-IHC58-2015.08.26-18.48.50_MD594_1_0172_cropped_compressed/MD594-IHC37-2015.08.26-17.26.13_MD594_1_0109_lossless_alignedTo_MD594-IHC58-2015.08.26-18.48.50_MD594_1_0172_cropped_compressed.jpg /home/yuncong/csd395/CSHL_cells_v2/detected_cells/MD594/MD594-IHC37-2015.08.26-17.26.13_MD594_1_0109/MD594-IHC37-2015.08.26-17.26.13_MD594_1_0109_image.jpg\n"
     ]
    },
    {
     "name": "stderr",
     "output_type": "stream",
     "text": [
      "Child returned 0\n",
      "Load mask: 9.96\n",
      "regionprops: 2.80\n",
      "90564 blobs identified.\n",
      "Save blob coords: 4.49\n",
      "Save blob masks: 9.68\n",
      "Save blob contours, save: 14.89\n",
      "Compute blob properties, save: 19.15\n",
      "Processing section: 181\n"
     ]
    },
    {
     "name": "stdout",
     "output_type": "stream",
     "text": [
      "cp /oasis/projects/nsf/csd395/yuncong/CSHL_data_processed/MD594/MD594_lossless_unsorted_alignedTo_MD594-IHC58-2015.08.26-18.48.50_MD594_1_0172_cropped_compressed/MD594-N37-2015.08.26-22.59.18_MD594_2_0110_lossless_alignedTo_MD594-IHC58-2015.08.26-18.48.50_MD594_1_0172_cropped_compressed.jpg /home/yuncong/csd395/CSHL_cells_v2/detected_cells/MD594/MD594-N37-2015.08.26-22.59.18_MD594_2_0110/MD594-N37-2015.08.26-22.59.18_MD594_2_0110_image.jpg\n"
     ]
    },
    {
     "name": "stderr",
     "output_type": "stream",
     "text": [
      "Child returned 0\n",
      "Load mask: 9.96\n",
      "regionprops: 2.79\n",
      "89775 blobs identified.\n",
      "Save blob coords: 4.50\n",
      "Save blob masks: 9.73\n",
      "Save blob contours, save: 14.54\n",
      "Compute blob properties, save: 18.73\n",
      "Processing section: 182\n"
     ]
    },
    {
     "name": "stdout",
     "output_type": "stream",
     "text": [
      "cp /oasis/projects/nsf/csd395/yuncong/CSHL_data_processed/MD594/MD594_lossless_unsorted_alignedTo_MD594-IHC58-2015.08.26-18.48.50_MD594_1_0172_cropped_compressed/MD594-IHC37-2015.08.26-17.26.13_MD594_2_0110_lossless_alignedTo_MD594-IHC58-2015.08.26-18.48.50_MD594_1_0172_cropped_compressed.jpg /home/yuncong/csd395/CSHL_cells_v2/detected_cells/MD594/MD594-IHC37-2015.08.26-17.26.13_MD594_2_0110/MD594-IHC37-2015.08.26-17.26.13_MD594_2_0110_image.jpg\n"
     ]
    },
    {
     "name": "stderr",
     "output_type": "stream",
     "text": [
      "Child returned 0\n",
      "Load mask: 9.97\n",
      "regionprops: 2.77\n",
      "89535 blobs identified.\n",
      "Save blob coords: 4.42\n",
      "Save blob masks: 9.63\n",
      "Save blob contours, save: 14.63\n",
      "Compute blob properties, save: 18.79\n",
      "Processing section: 183\n"
     ]
    },
    {
     "name": "stdout",
     "output_type": "stream",
     "text": [
      "cp /oasis/projects/nsf/csd395/yuncong/CSHL_data_processed/MD594/MD594_lossless_unsorted_alignedTo_MD594-IHC58-2015.08.26-18.48.50_MD594_1_0172_cropped_compressed/MD594-N38-2015.08.26-23.03.12_MD594_1_0112_lossless_alignedTo_MD594-IHC58-2015.08.26-18.48.50_MD594_1_0172_cropped_compressed.jpg /home/yuncong/csd395/CSHL_cells_v2/detected_cells/MD594/MD594-N38-2015.08.26-23.03.12_MD594_1_0112/MD594-N38-2015.08.26-23.03.12_MD594_1_0112_image.jpg\n"
     ]
    },
    {
     "name": "stderr",
     "output_type": "stream",
     "text": [
      "Child returned 0\n",
      "Load mask: 9.97\n",
      "regionprops: 2.86\n",
      "95732 blobs identified.\n",
      "Save blob coords: 4.96\n",
      "Save blob masks: 10.58\n",
      "Save blob contours, save: 15.56\n",
      "Compute blob properties, save: 20.32\n",
      "Processing section: 184\n"
     ]
    },
    {
     "name": "stdout",
     "output_type": "stream",
     "text": [
      "cp /oasis/projects/nsf/csd395/yuncong/CSHL_data_processed/MD594/MD594_lossless_unsorted_alignedTo_MD594-IHC58-2015.08.26-18.48.50_MD594_1_0172_cropped_compressed/MD594-IHC38-2015.08.26-17.30.18_MD594_1_0112_lossless_alignedTo_MD594-IHC58-2015.08.26-18.48.50_MD594_1_0172_cropped_compressed.jpg /home/yuncong/csd395/CSHL_cells_v2/detected_cells/MD594/MD594-IHC38-2015.08.26-17.30.18_MD594_1_0112/MD594-IHC38-2015.08.26-17.30.18_MD594_1_0112_image.jpg\n"
     ]
    },
    {
     "name": "stderr",
     "output_type": "stream",
     "text": [
      "Child returned 0\n",
      "Load mask: 9.97\n",
      "regionprops: 2.85\n",
      "89481 blobs identified.\n",
      "Save blob coords: 4.43\n",
      "Save blob masks: 9.72\n",
      "Save blob contours, save: 14.66\n",
      "Compute blob properties, save: 18.88\n",
      "Processing section: 185\n"
     ]
    },
    {
     "name": "stdout",
     "output_type": "stream",
     "text": [
      "cp /oasis/projects/nsf/csd395/yuncong/CSHL_data_processed/MD594/MD594_lossless_unsorted_alignedTo_MD594-IHC58-2015.08.26-18.48.50_MD594_1_0172_cropped_compressed/MD594-N38-2015.08.26-23.03.12_MD594_2_0113_lossless_alignedTo_MD594-IHC58-2015.08.26-18.48.50_MD594_1_0172_cropped_compressed.jpg /home/yuncong/csd395/CSHL_cells_v2/detected_cells/MD594/MD594-N38-2015.08.26-23.03.12_MD594_2_0113/MD594-N38-2015.08.26-23.03.12_MD594_2_0113_image.jpg\n"
     ]
    },
    {
     "name": "stderr",
     "output_type": "stream",
     "text": [
      "Child returned 0\n",
      "Load mask: 9.99\n",
      "regionprops: 2.29\n",
      "89953 blobs identified.\n",
      "Save blob coords: 4.53\n",
      "Save blob masks: 10.19\n",
      "Save blob contours, save: 14.70\n",
      "Compute blob properties, save: 19.06\n",
      "Processing section: 186\n"
     ]
    },
    {
     "name": "stdout",
     "output_type": "stream",
     "text": [
      "cp /oasis/projects/nsf/csd395/yuncong/CSHL_data_processed/MD594/MD594_lossless_unsorted_alignedTo_MD594-IHC58-2015.08.26-18.48.50_MD594_1_0172_cropped_compressed/MD594-IHC38-2015.08.26-17.30.18_MD594_2_0113_lossless_alignedTo_MD594-IHC58-2015.08.26-18.48.50_MD594_1_0172_cropped_compressed.jpg /home/yuncong/csd395/CSHL_cells_v2/detected_cells/MD594/MD594-IHC38-2015.08.26-17.30.18_MD594_2_0113/MD594-IHC38-2015.08.26-17.30.18_MD594_2_0113_image.jpg\n"
     ]
    },
    {
     "name": "stderr",
     "output_type": "stream",
     "text": [
      "Child returned 0\n",
      "Load mask: 9.96\n",
      "regionprops: 2.76\n",
      "89335 blobs identified.\n",
      "Save blob coords: 4.45\n",
      "Save blob masks: 9.51\n",
      "Save blob contours, save: 14.88\n",
      "Compute blob properties, save: 18.74\n",
      "Processing section: 188\n"
     ]
    },
    {
     "name": "stdout",
     "output_type": "stream",
     "text": [
      "cp /oasis/projects/nsf/csd395/yuncong/CSHL_data_processed/MD594/MD594_lossless_unsorted_alignedTo_MD594-IHC58-2015.08.26-18.48.50_MD594_1_0172_cropped_compressed/MD594-IHC39-2015.08.26-17.34.24_MD594_1_0115_lossless_alignedTo_MD594-IHC58-2015.08.26-18.48.50_MD594_1_0172_cropped_compressed.jpg /home/yuncong/csd395/CSHL_cells_v2/detected_cells/MD594/MD594-IHC39-2015.08.26-17.34.24_MD594_1_0115/MD594-IHC39-2015.08.26-17.34.24_MD594_1_0115_image.jpg\n"
     ]
    },
    {
     "name": "stderr",
     "output_type": "stream",
     "text": [
      "Child returned 0\n",
      "Load mask: 9.97\n",
      "regionprops: 2.78\n",
      "93950 blobs identified.\n",
      "Save blob coords: 4.88\n",
      "Save blob masks: 10.23\n",
      "Save blob contours, save: 15.68\n",
      "Compute blob properties, save: 20.22\n",
      "Processing section: 189\n"
     ]
    },
    {
     "name": "stdout",
     "output_type": "stream",
     "text": [
      "cp /oasis/projects/nsf/csd395/yuncong/CSHL_data_processed/MD594/MD594_lossless_unsorted_alignedTo_MD594-IHC58-2015.08.26-18.48.50_MD594_1_0172_cropped_compressed/MD594-N39-2015.08.26-23.07.15_MD594_2_0116_lossless_alignedTo_MD594-IHC58-2015.08.26-18.48.50_MD594_1_0172_cropped_compressed.jpg /home/yuncong/csd395/CSHL_cells_v2/detected_cells/MD594/MD594-N39-2015.08.26-23.07.15_MD594_2_0116/MD594-N39-2015.08.26-23.07.15_MD594_2_0116_image.jpg\n"
     ]
    },
    {
     "name": "stderr",
     "output_type": "stream",
     "text": [
      "Child returned 0\n",
      "Load mask: 9.97\n",
      "regionprops: 2.83\n",
      "89354 blobs identified.\n",
      "Save blob coords: 4.32\n",
      "Save blob masks: 9.53\n",
      "Save blob contours, save: 14.69\n",
      "Compute blob properties, save: 18.27\n",
      "Processing section: 190\n"
     ]
    },
    {
     "name": "stdout",
     "output_type": "stream",
     "text": [
      "cp /oasis/projects/nsf/csd395/yuncong/CSHL_data_processed/MD594/MD594_lossless_unsorted_alignedTo_MD594-IHC58-2015.08.26-18.48.50_MD594_1_0172_cropped_compressed/MD594-IHC39-2015.08.26-17.34.24_MD594_2_0116_lossless_alignedTo_MD594-IHC58-2015.08.26-18.48.50_MD594_1_0172_cropped_compressed.jpg /home/yuncong/csd395/CSHL_cells_v2/detected_cells/MD594/MD594-IHC39-2015.08.26-17.34.24_MD594_2_0116/MD594-IHC39-2015.08.26-17.34.24_MD594_2_0116_image.jpg\n"
     ]
    },
    {
     "name": "stderr",
     "output_type": "stream",
     "text": [
      "Child returned 0\n",
      "Load mask: 10.03\n",
      "regionprops: 2.69\n",
      "91362 blobs identified.\n",
      "Save blob coords: 4.49\n",
      "Save blob masks: 9.81\n",
      "Save blob contours, save: 14.74\n",
      "Compute blob properties, save: 19.32\n",
      "Processing section: 191\n"
     ]
    },
    {
     "name": "stdout",
     "output_type": "stream",
     "text": [
      "cp /oasis/projects/nsf/csd395/yuncong/CSHL_data_processed/MD594/MD594_lossless_unsorted_alignedTo_MD594-IHC58-2015.08.26-18.48.50_MD594_1_0172_cropped_compressed/MD594-N40-2015.08.26-23.11.10_MD594_1_0118_lossless_alignedTo_MD594-IHC58-2015.08.26-18.48.50_MD594_1_0172_cropped_compressed.jpg /home/yuncong/csd395/CSHL_cells_v2/detected_cells/MD594/MD594-N40-2015.08.26-23.11.10_MD594_1_0118/MD594-N40-2015.08.26-23.11.10_MD594_1_0118_image.jpg\n"
     ]
    },
    {
     "name": "stderr",
     "output_type": "stream",
     "text": [
      "Child returned 0\n",
      "Load mask: 10.08\n",
      "regionprops: 2.74\n",
      "90268 blobs identified.\n",
      "Save blob coords: 4.55\n",
      "Save blob masks: 9.69\n",
      "Save blob contours, save: 14.89\n",
      "Compute blob properties, save: 18.98\n",
      "Processing section: 192\n"
     ]
    },
    {
     "name": "stdout",
     "output_type": "stream",
     "text": [
      "cp /oasis/projects/nsf/csd395/yuncong/CSHL_data_processed/MD594/MD594_lossless_unsorted_alignedTo_MD594-IHC58-2015.08.26-18.48.50_MD594_1_0172_cropped_compressed/MD594-IHC40-2015.08.26-17.38.31_MD594_1_0118_lossless_alignedTo_MD594-IHC58-2015.08.26-18.48.50_MD594_1_0172_cropped_compressed.jpg /home/yuncong/csd395/CSHL_cells_v2/detected_cells/MD594/MD594-IHC40-2015.08.26-17.38.31_MD594_1_0118/MD594-IHC40-2015.08.26-17.38.31_MD594_1_0118_image.jpg\n"
     ]
    },
    {
     "name": "stderr",
     "output_type": "stream",
     "text": [
      "Child returned 0\n",
      "Load mask: 10.09\n",
      "regionprops: 2.30\n",
      "91088 blobs identified.\n",
      "Save blob coords: 4.55\n",
      "Save blob masks: 10.03\n",
      "Save blob contours, save: 14.83\n",
      "Compute blob properties, save: 19.12\n",
      "Processing section: 194\n"
     ]
    },
    {
     "name": "stdout",
     "output_type": "stream",
     "text": [
      "cp /oasis/projects/nsf/csd395/yuncong/CSHL_data_processed/MD594/MD594_lossless_unsorted_alignedTo_MD594-IHC58-2015.08.26-18.48.50_MD594_1_0172_cropped_compressed/MD594-IHC40-2015.08.26-17.38.31_MD594_2_0119_lossless_alignedTo_MD594-IHC58-2015.08.26-18.48.50_MD594_1_0172_cropped_compressed.jpg /home/yuncong/csd395/CSHL_cells_v2/detected_cells/MD594/MD594-IHC40-2015.08.26-17.38.31_MD594_2_0119/MD594-IHC40-2015.08.26-17.38.31_MD594_2_0119_image.jpg\n"
     ]
    },
    {
     "name": "stderr",
     "output_type": "stream",
     "text": [
      "Child returned 0\n",
      "Load mask: 10.06\n",
      "regionprops: 2.79\n",
      "90203 blobs identified.\n",
      "Save blob coords: 4.46\n",
      "Save blob masks: 9.74\n",
      "Save blob contours, save: 14.76\n",
      "Compute blob properties, save: 18.78\n",
      "Processing section: 195\n"
     ]
    },
    {
     "name": "stdout",
     "output_type": "stream",
     "text": [
      "cp /oasis/projects/nsf/csd395/yuncong/CSHL_data_processed/MD594/MD594_lossless_unsorted_alignedTo_MD594-IHC58-2015.08.26-18.48.50_MD594_1_0172_cropped_compressed/MD594-N41-2015.08.26-23.15.05_MD594_1_0121_lossless_alignedTo_MD594-IHC58-2015.08.26-18.48.50_MD594_1_0172_cropped_compressed.jpg /home/yuncong/csd395/CSHL_cells_v2/detected_cells/MD594/MD594-N41-2015.08.26-23.15.05_MD594_1_0121/MD594-N41-2015.08.26-23.15.05_MD594_1_0121_image.jpg\n"
     ]
    },
    {
     "name": "stderr",
     "output_type": "stream",
     "text": [
      "Child returned 0\n",
      "Load mask: 9.96\n",
      "regionprops: 2.86\n",
      "89454 blobs identified.\n",
      "Save blob coords: 4.34\n",
      "Save blob masks: 9.65\n",
      "Save blob contours, save: 14.59\n",
      "Compute blob properties, save: 18.65\n",
      "Processing section: 196\n"
     ]
    },
    {
     "name": "stdout",
     "output_type": "stream",
     "text": [
      "cp /oasis/projects/nsf/csd395/yuncong/CSHL_data_processed/MD594/MD594_lossless_unsorted_alignedTo_MD594-IHC58-2015.08.26-18.48.50_MD594_1_0172_cropped_compressed/MD594-IHC41-2015.08.26-17.42.44_MD594_1_0121_lossless_alignedTo_MD594-IHC58-2015.08.26-18.48.50_MD594_1_0172_cropped_compressed.jpg /home/yuncong/csd395/CSHL_cells_v2/detected_cells/MD594/MD594-IHC41-2015.08.26-17.42.44_MD594_1_0121/MD594-IHC41-2015.08.26-17.42.44_MD594_1_0121_image.jpg\n"
     ]
    },
    {
     "name": "stderr",
     "output_type": "stream",
     "text": [
      "Child returned 0\n",
      "Load mask: 9.97\n",
      "regionprops: 2.88\n",
      "92339 blobs identified.\n",
      "Save blob coords: 4.60\n",
      "Save blob masks: 9.92\n",
      "Save blob contours, save: 14.94\n",
      "Compute blob properties, save: 19.88\n",
      "Processing section: 197\n"
     ]
    },
    {
     "name": "stdout",
     "output_type": "stream",
     "text": [
      "cp /oasis/projects/nsf/csd395/yuncong/CSHL_data_processed/MD594/MD594_lossless_unsorted_alignedTo_MD594-IHC58-2015.08.26-18.48.50_MD594_1_0172_cropped_compressed/MD594-N41-2015.08.26-23.15.05_MD594_2_0122_lossless_alignedTo_MD594-IHC58-2015.08.26-18.48.50_MD594_1_0172_cropped_compressed.jpg /home/yuncong/csd395/CSHL_cells_v2/detected_cells/MD594/MD594-N41-2015.08.26-23.15.05_MD594_2_0122/MD594-N41-2015.08.26-23.15.05_MD594_2_0122_image.jpg\n"
     ]
    },
    {
     "name": "stderr",
     "output_type": "stream",
     "text": [
      "Child returned 0\n",
      "Load mask: 9.97\n",
      "regionprops: 2.36\n",
      "89338 blobs identified.\n",
      "Save blob coords: 4.42\n",
      "Save blob masks: 9.50\n",
      "Save blob contours, save: 14.72\n",
      "Compute blob properties, save: 18.84\n",
      "Processing section: 198\n"
     ]
    },
    {
     "name": "stdout",
     "output_type": "stream",
     "text": [
      "cp /oasis/projects/nsf/csd395/yuncong/CSHL_data_processed/MD594/MD594_lossless_unsorted_alignedTo_MD594-IHC58-2015.08.26-18.48.50_MD594_1_0172_cropped_compressed/MD594-IHC41-2015.08.26-17.42.44_MD594_2_0122_lossless_alignedTo_MD594-IHC58-2015.08.26-18.48.50_MD594_1_0172_cropped_compressed.jpg /home/yuncong/csd395/CSHL_cells_v2/detected_cells/MD594/MD594-IHC41-2015.08.26-17.42.44_MD594_2_0122/MD594-IHC41-2015.08.26-17.42.44_MD594_2_0122_image.jpg\n"
     ]
    },
    {
     "name": "stderr",
     "output_type": "stream",
     "text": [
      "Child returned 0\n",
      "Load mask: 9.98\n",
      "regionprops: 2.90\n",
      "91423 blobs identified.\n",
      "Save blob coords: 4.57\n",
      "Save blob masks: 9.86\n",
      "Save blob contours, save: 15.00\n",
      "Compute blob properties, save: 19.54\n",
      "Processing section: 199\n"
     ]
    },
    {
     "name": "stdout",
     "output_type": "stream",
     "text": [
      "cp /oasis/projects/nsf/csd395/yuncong/CSHL_data_processed/MD594/MD594_lossless_unsorted_alignedTo_MD594-IHC58-2015.08.26-18.48.50_MD594_1_0172_cropped_compressed/MD594-N42-2015.08.26-23.18.56_MD594_1_0124_lossless_alignedTo_MD594-IHC58-2015.08.26-18.48.50_MD594_1_0172_cropped_compressed.jpg /home/yuncong/csd395/CSHL_cells_v2/detected_cells/MD594/MD594-N42-2015.08.26-23.18.56_MD594_1_0124/MD594-N42-2015.08.26-23.18.56_MD594_1_0124_image.jpg\n"
     ]
    },
    {
     "name": "stderr",
     "output_type": "stream",
     "text": [
      "Child returned 0\n",
      "Load mask: 9.97\n",
      "regionprops: 2.89\n",
      "89708 blobs identified.\n",
      "Save blob coords: 4.49\n",
      "Save blob masks: 9.72\n",
      "Save blob contours, save: 14.71\n",
      "Compute blob properties, save: 18.57\n",
      "Processing section: 200\n"
     ]
    },
    {
     "name": "stdout",
     "output_type": "stream",
     "text": [
      "cp /oasis/projects/nsf/csd395/yuncong/CSHL_data_processed/MD594/MD594_lossless_unsorted_alignedTo_MD594-IHC58-2015.08.26-18.48.50_MD594_1_0172_cropped_compressed/MD594-IHC42-2015.08.26-17.46.49_MD594_1_0124_lossless_alignedTo_MD594-IHC58-2015.08.26-18.48.50_MD594_1_0172_cropped_compressed.jpg /home/yuncong/csd395/CSHL_cells_v2/detected_cells/MD594/MD594-IHC42-2015.08.26-17.46.49_MD594_1_0124/MD594-IHC42-2015.08.26-17.46.49_MD594_1_0124_image.jpg\n"
     ]
    },
    {
     "name": "stderr",
     "output_type": "stream",
     "text": [
      "Child returned 0\n",
      "Load mask: 9.97\n",
      "regionprops: 2.89\n",
      "91511 blobs identified.\n",
      "Save blob coords: 4.57\n",
      "Save blob masks: 10.16\n",
      "Save blob contours, save: 14.79\n",
      "Compute blob properties, save: 19.52\n",
      "Processing section: 201\n"
     ]
    },
    {
     "name": "stdout",
     "output_type": "stream",
     "text": [
      "cp /oasis/projects/nsf/csd395/yuncong/CSHL_data_processed/MD594/MD594_lossless_unsorted_alignedTo_MD594-IHC58-2015.08.26-18.48.50_MD594_1_0172_cropped_compressed/MD594-N42-2015.08.26-23.18.56_MD594_2_0125_lossless_alignedTo_MD594-IHC58-2015.08.26-18.48.50_MD594_1_0172_cropped_compressed.jpg /home/yuncong/csd395/CSHL_cells_v2/detected_cells/MD594/MD594-N42-2015.08.26-23.18.56_MD594_2_0125/MD594-N42-2015.08.26-23.18.56_MD594_2_0125_image.jpg\n"
     ]
    },
    {
     "name": "stderr",
     "output_type": "stream",
     "text": [
      "Child returned 0\n",
      "Load mask: 9.96\n",
      "regionprops: 2.36\n",
      "89514 blobs identified.\n",
      "Save blob coords: 4.47\n",
      "Save blob masks: 9.74\n",
      "Save blob contours, save: 14.33\n",
      "Compute blob properties, save: 18.90\n",
      "Processing section: 202\n"
     ]
    },
    {
     "name": "stdout",
     "output_type": "stream",
     "text": [
      "cp /oasis/projects/nsf/csd395/yuncong/CSHL_data_processed/MD594/MD594_lossless_unsorted_alignedTo_MD594-IHC58-2015.08.26-18.48.50_MD594_1_0172_cropped_compressed/MD594-IHC42-2015.08.26-17.46.49_MD594_2_0125_lossless_alignedTo_MD594-IHC58-2015.08.26-18.48.50_MD594_1_0172_cropped_compressed.jpg /home/yuncong/csd395/CSHL_cells_v2/detected_cells/MD594/MD594-IHC42-2015.08.26-17.46.49_MD594_2_0125/MD594-IHC42-2015.08.26-17.46.49_MD594_2_0125_image.jpg\n"
     ]
    },
    {
     "name": "stderr",
     "output_type": "stream",
     "text": [
      "Child returned 0\n",
      "Load mask: 9.99\n",
      "regionprops: 2.75\n",
      "90656 blobs identified.\n",
      "Save blob coords: 4.55\n",
      "Save blob masks: 9.81\n",
      "Save blob contours, save: 14.75\n",
      "Compute blob properties, save: 19.21\n",
      "Processing section: 203\n"
     ]
    },
    {
     "name": "stdout",
     "output_type": "stream",
     "text": [
      "cp /oasis/projects/nsf/csd395/yuncong/CSHL_data_processed/MD594/MD594_lossless_unsorted_alignedTo_MD594-IHC58-2015.08.26-18.48.50_MD594_1_0172_cropped_compressed/MD594-N43-2015.08.26-23.22.56_MD594_1_0127_lossless_alignedTo_MD594-IHC58-2015.08.26-18.48.50_MD594_1_0172_cropped_compressed.jpg /home/yuncong/csd395/CSHL_cells_v2/detected_cells/MD594/MD594-N43-2015.08.26-23.22.56_MD594_1_0127/MD594-N43-2015.08.26-23.22.56_MD594_1_0127_image.jpg\n"
     ]
    },
    {
     "name": "stderr",
     "output_type": "stream",
     "text": [
      "Child returned 0\n",
      "Load mask: 9.98\n",
      "regionprops: 2.84\n",
      "90690 blobs identified.\n",
      "Save blob coords: 4.53\n",
      "Save blob masks: 9.83\n",
      "Save blob contours, save: 14.62\n",
      "Compute blob properties, save: 18.95\n",
      "Processing section: 204\n"
     ]
    },
    {
     "name": "stdout",
     "output_type": "stream",
     "text": [
      "cp /oasis/projects/nsf/csd395/yuncong/CSHL_data_processed/MD594/MD594_lossless_unsorted_alignedTo_MD594-IHC58-2015.08.26-18.48.50_MD594_1_0172_cropped_compressed/MD594-IHC43-2015.08.26-17.50.40_MD594_1_0127_lossless_alignedTo_MD594-IHC58-2015.08.26-18.48.50_MD594_1_0172_cropped_compressed.jpg /home/yuncong/csd395/CSHL_cells_v2/detected_cells/MD594/MD594-IHC43-2015.08.26-17.50.40_MD594_1_0127/MD594-IHC43-2015.08.26-17.50.40_MD594_1_0127_image.jpg\n"
     ]
    },
    {
     "name": "stderr",
     "output_type": "stream",
     "text": [
      "Child returned 0\n",
      "Load mask: 9.99\n",
      "regionprops: 2.86\n",
      "91132 blobs identified.\n",
      "Save blob coords: 4.55\n",
      "Save blob masks: 9.85\n",
      "Save blob contours, save: 14.90\n",
      "Compute blob properties, save: 19.59\n",
      "Processing section: 205\n"
     ]
    },
    {
     "name": "stdout",
     "output_type": "stream",
     "text": [
      "cp /oasis/projects/nsf/csd395/yuncong/CSHL_data_processed/MD594/MD594_lossless_unsorted_alignedTo_MD594-IHC58-2015.08.26-18.48.50_MD594_1_0172_cropped_compressed/MD594-N43-2015.08.26-23.22.56_MD594_2_0128_lossless_alignedTo_MD594-IHC58-2015.08.26-18.48.50_MD594_1_0172_cropped_compressed.jpg /home/yuncong/csd395/CSHL_cells_v2/detected_cells/MD594/MD594-N43-2015.08.26-23.22.56_MD594_2_0128/MD594-N43-2015.08.26-23.22.56_MD594_2_0128_image.jpg\n"
     ]
    },
    {
     "name": "stderr",
     "output_type": "stream",
     "text": [
      "Child returned 0\n",
      "Load mask: 9.98\n",
      "regionprops: 2.83\n",
      "90302 blobs identified.\n",
      "Save blob coords: 4.51\n",
      "Save blob masks: 9.67\n",
      "Save blob contours, save: 14.94\n",
      "Compute blob properties, save: 19.18\n",
      "Processing section: 206\n"
     ]
    },
    {
     "name": "stdout",
     "output_type": "stream",
     "text": [
      "cp /oasis/projects/nsf/csd395/yuncong/CSHL_data_processed/MD594/MD594_lossless_unsorted_alignedTo_MD594-IHC58-2015.08.26-18.48.50_MD594_1_0172_cropped_compressed/MD594-IHC43-2015.08.26-17.50.40_MD594_2_0128_lossless_alignedTo_MD594-IHC58-2015.08.26-18.48.50_MD594_1_0172_cropped_compressed.jpg /home/yuncong/csd395/CSHL_cells_v2/detected_cells/MD594/MD594-IHC43-2015.08.26-17.50.40_MD594_2_0128/MD594-IHC43-2015.08.26-17.50.40_MD594_2_0128_image.jpg\n"
     ]
    },
    {
     "name": "stderr",
     "output_type": "stream",
     "text": [
      "Child returned 0\n",
      "Load mask: 9.96\n",
      "regionprops: 2.94\n",
      "91498 blobs identified.\n",
      "Save blob coords: 4.58\n",
      "Save blob masks: 9.93\n",
      "Save blob contours, save: 15.02\n",
      "Compute blob properties, save: 19.28\n",
      "Processing section: 207\n"
     ]
    },
    {
     "name": "stdout",
     "output_type": "stream",
     "text": [
      "cp /oasis/projects/nsf/csd395/yuncong/CSHL_data_processed/MD594/MD594_lossless_unsorted_alignedTo_MD594-IHC58-2015.08.26-18.48.50_MD594_1_0172_cropped_compressed/MD594-N44-2015.08.26-23.26.52_MD594_1_0130_lossless_alignedTo_MD594-IHC58-2015.08.26-18.48.50_MD594_1_0172_cropped_compressed.jpg /home/yuncong/csd395/CSHL_cells_v2/detected_cells/MD594/MD594-N44-2015.08.26-23.26.52_MD594_1_0130/MD594-N44-2015.08.26-23.26.52_MD594_1_0130_image.jpg\n"
     ]
    },
    {
     "name": "stderr",
     "output_type": "stream",
     "text": [
      "Child returned 0\n",
      "Load mask: 10.00\n",
      "regionprops: 2.76\n",
      "85972 blobs identified.\n",
      "Save blob coords: 4.27\n",
      "Save blob masks: 9.29\n",
      "Save blob contours, save: 14.10\n",
      "Compute blob properties, save: 18.54\n",
      "Processing section: 208\n"
     ]
    },
    {
     "name": "stdout",
     "output_type": "stream",
     "text": [
      "cp /oasis/projects/nsf/csd395/yuncong/CSHL_data_processed/MD594/MD594_lossless_unsorted_alignedTo_MD594-IHC58-2015.08.26-18.48.50_MD594_1_0172_cropped_compressed/MD594-IHC44-2015.08.26-17.54.29_MD594_1_0130_lossless_alignedTo_MD594-IHC58-2015.08.26-18.48.50_MD594_1_0172_cropped_compressed.jpg /home/yuncong/csd395/CSHL_cells_v2/detected_cells/MD594/MD594-IHC44-2015.08.26-17.54.29_MD594_1_0130/MD594-IHC44-2015.08.26-17.54.29_MD594_1_0130_image.jpg\n"
     ]
    },
    {
     "name": "stderr",
     "output_type": "stream",
     "text": [
      "Child returned 0\n",
      "Load mask: 9.98\n",
      "regionprops: 2.80\n",
      "93303 blobs identified.\n",
      "Save blob coords: 4.73\n",
      "Save blob masks: 10.25\n",
      "Save blob contours, save: 15.50\n",
      "Compute blob properties, save: 20.16\n",
      "Processing section: 209\n"
     ]
    },
    {
     "name": "stdout",
     "output_type": "stream",
     "text": [
      "cp /oasis/projects/nsf/csd395/yuncong/CSHL_data_processed/MD594/MD594_lossless_unsorted_alignedTo_MD594-IHC58-2015.08.26-18.48.50_MD594_1_0172_cropped_compressed/MD594-N44-2015.08.26-23.26.52_MD594_2_0131_lossless_alignedTo_MD594-IHC58-2015.08.26-18.48.50_MD594_1_0172_cropped_compressed.jpg /home/yuncong/csd395/CSHL_cells_v2/detected_cells/MD594/MD594-N44-2015.08.26-23.26.52_MD594_2_0131/MD594-N44-2015.08.26-23.26.52_MD594_2_0131_image.jpg\n"
     ]
    },
    {
     "name": "stderr",
     "output_type": "stream",
     "text": [
      "Child returned 0\n",
      "Load mask: 10.12\n",
      "regionprops: 2.34\n",
      "86870 blobs identified.\n",
      "Save blob coords: 4.35\n",
      "Save blob masks: 9.56\n",
      "Save blob contours, save: 14.07\n",
      "Compute blob properties, save: 18.56\n",
      "Processing section: 210\n"
     ]
    },
    {
     "name": "stdout",
     "output_type": "stream",
     "text": [
      "cp /oasis/projects/nsf/csd395/yuncong/CSHL_data_processed/MD594/MD594_lossless_unsorted_alignedTo_MD594-IHC58-2015.08.26-18.48.50_MD594_1_0172_cropped_compressed/MD594-IHC44-2015.08.26-17.54.29_MD594_2_0131_lossless_alignedTo_MD594-IHC58-2015.08.26-18.48.50_MD594_1_0172_cropped_compressed.jpg /home/yuncong/csd395/CSHL_cells_v2/detected_cells/MD594/MD594-IHC44-2015.08.26-17.54.29_MD594_2_0131/MD594-IHC44-2015.08.26-17.54.29_MD594_2_0131_image.jpg\n"
     ]
    },
    {
     "name": "stderr",
     "output_type": "stream",
     "text": [
      "Child returned 0\n",
      "Load mask: 9.98\n",
      "regionprops: 2.79\n",
      "87308 blobs identified.\n",
      "Save blob coords: 4.55\n",
      "Save blob masks: 9.49\n",
      "Save blob contours, save: 14.27\n",
      "Compute blob properties, save: 18.81\n",
      "Processing section: 211\n"
     ]
    },
    {
     "name": "stdout",
     "output_type": "stream",
     "text": [
      "cp /oasis/projects/nsf/csd395/yuncong/CSHL_data_processed/MD594/MD594_lossless_unsorted_alignedTo_MD594-IHC58-2015.08.26-18.48.50_MD594_1_0172_cropped_compressed/MD594-N45-2015.08.26-23.30.45_MD594_1_0133_lossless_alignedTo_MD594-IHC58-2015.08.26-18.48.50_MD594_1_0172_cropped_compressed.jpg /home/yuncong/csd395/CSHL_cells_v2/detected_cells/MD594/MD594-N45-2015.08.26-23.30.45_MD594_1_0133/MD594-N45-2015.08.26-23.30.45_MD594_1_0133_image.jpg\n"
     ]
    },
    {
     "name": "stderr",
     "output_type": "stream",
     "text": [
      "Child returned 0\n",
      "Load mask: 10.04\n",
      "regionprops: 2.29\n",
      "86700 blobs identified.\n",
      "Save blob coords: 4.43\n",
      "Save blob masks: 9.62\n",
      "Save blob contours, save: 14.59\n",
      "Compute blob properties, save: 18.53\n",
      "Processing section: 212\n"
     ]
    },
    {
     "name": "stdout",
     "output_type": "stream",
     "text": [
      "cp /oasis/projects/nsf/csd395/yuncong/CSHL_data_processed/MD594/MD594_lossless_unsorted_alignedTo_MD594-IHC58-2015.08.26-18.48.50_MD594_1_0172_cropped_compressed/MD594-IHC45-2015.08.26-17.58.25_MD594_1_0133_lossless_alignedTo_MD594-IHC58-2015.08.26-18.48.50_MD594_1_0172_cropped_compressed.jpg /home/yuncong/csd395/CSHL_cells_v2/detected_cells/MD594/MD594-IHC45-2015.08.26-17.58.25_MD594_1_0133/MD594-IHC45-2015.08.26-17.58.25_MD594_1_0133_image.jpg\n"
     ]
    },
    {
     "name": "stderr",
     "output_type": "stream",
     "text": [
      "Child returned 0\n",
      "Load mask: 9.97\n",
      "regionprops: 2.80\n",
      "84557 blobs identified.\n",
      "Save blob coords: 4.38\n",
      "Save blob masks: 9.15\n",
      "Save blob contours, save: 13.80\n",
      "Compute blob properties, save: 18.10\n",
      "Processing section: 213\n"
     ]
    },
    {
     "name": "stdout",
     "output_type": "stream",
     "text": [
      "cp /oasis/projects/nsf/csd395/yuncong/CSHL_data_processed/MD594/MD594_lossless_unsorted_alignedTo_MD594-IHC58-2015.08.26-18.48.50_MD594_1_0172_cropped_compressed/MD594-N45-2015.08.26-23.30.45_MD594_2_0134_lossless_alignedTo_MD594-IHC58-2015.08.26-18.48.50_MD594_1_0172_cropped_compressed.jpg /home/yuncong/csd395/CSHL_cells_v2/detected_cells/MD594/MD594-N45-2015.08.26-23.30.45_MD594_2_0134/MD594-N45-2015.08.26-23.30.45_MD594_2_0134_image.jpg\n"
     ]
    },
    {
     "name": "stderr",
     "output_type": "stream",
     "text": [
      "Child returned 0\n",
      "Load mask: 10.19\n",
      "regionprops: 2.73\n",
      "85478 blobs identified.\n",
      "Save blob coords: 4.28\n",
      "Save blob masks: 9.28\n",
      "Save blob contours, save: 14.26\n",
      "Compute blob properties, save: 18.51\n",
      "Processing section: 214\n"
     ]
    },
    {
     "name": "stdout",
     "output_type": "stream",
     "text": [
      "cp /oasis/projects/nsf/csd395/yuncong/CSHL_data_processed/MD594/MD594_lossless_unsorted_alignedTo_MD594-IHC58-2015.08.26-18.48.50_MD594_1_0172_cropped_compressed/MD594-IHC45-2015.08.26-17.58.25_MD594_2_0134_lossless_alignedTo_MD594-IHC58-2015.08.26-18.48.50_MD594_1_0172_cropped_compressed.jpg /home/yuncong/csd395/CSHL_cells_v2/detected_cells/MD594/MD594-IHC45-2015.08.26-17.58.25_MD594_2_0134/MD594-IHC45-2015.08.26-17.58.25_MD594_2_0134_image.jpg\n"
     ]
    },
    {
     "name": "stderr",
     "output_type": "stream",
     "text": [
      "Child returned 0\n",
      "Load mask: 9.96\n",
      "regionprops: 2.30\n",
      "84009 blobs identified.\n",
      "Save blob coords: 4.30\n",
      "Save blob masks: 9.42\n",
      "Save blob contours, save: 13.41\n",
      "Compute blob properties, save: 17.74\n",
      "Processing section: 215\n"
     ]
    },
    {
     "name": "stdout",
     "output_type": "stream",
     "text": [
      "cp /oasis/projects/nsf/csd395/yuncong/CSHL_data_processed/MD594/MD594_lossless_unsorted_alignedTo_MD594-IHC58-2015.08.26-18.48.50_MD594_1_0172_cropped_compressed/MD594-N46-2015.08.26-23.34.38_MD594_1_0136_lossless_alignedTo_MD594-IHC58-2015.08.26-18.48.50_MD594_1_0172_cropped_compressed.jpg /home/yuncong/csd395/CSHL_cells_v2/detected_cells/MD594/MD594-N46-2015.08.26-23.34.38_MD594_1_0136/MD594-N46-2015.08.26-23.34.38_MD594_1_0136_image.jpg\n"
     ]
    },
    {
     "name": "stderr",
     "output_type": "stream",
     "text": [
      "Child returned 0\n",
      "Load mask: 9.98\n",
      "regionprops: 2.73\n",
      "85630 blobs identified.\n",
      "Save blob coords: 4.39\n",
      "Save blob masks: 9.30\n",
      "Save blob contours, save: 14.20\n",
      "Compute blob properties, save: 18.57\n",
      "Processing section: 216\n"
     ]
    },
    {
     "name": "stdout",
     "output_type": "stream",
     "text": [
      "cp /oasis/projects/nsf/csd395/yuncong/CSHL_data_processed/MD594/MD594_lossless_unsorted_alignedTo_MD594-IHC58-2015.08.26-18.48.50_MD594_1_0172_cropped_compressed/MD594-IHC46-2015.08.26-18.02.16_MD594_1_0136_lossless_alignedTo_MD594-IHC58-2015.08.26-18.48.50_MD594_1_0172_cropped_compressed.jpg /home/yuncong/csd395/CSHL_cells_v2/detected_cells/MD594/MD594-IHC46-2015.08.26-18.02.16_MD594_1_0136/MD594-IHC46-2015.08.26-18.02.16_MD594_1_0136_image.jpg\n"
     ]
    },
    {
     "name": "stderr",
     "output_type": "stream",
     "text": [
      "Child returned 0\n",
      "Load mask: 10.07\n",
      "regionprops: 2.66\n",
      "82601 blobs identified.\n",
      "Save blob coords: 4.37\n",
      "Save blob masks: 9.05\n",
      "Save blob contours, save: 13.88\n",
      "Compute blob properties, save: 17.61\n",
      "Processing section: 217\n"
     ]
    },
    {
     "name": "stdout",
     "output_type": "stream",
     "text": [
      "cp /oasis/projects/nsf/csd395/yuncong/CSHL_data_processed/MD594/MD594_lossless_unsorted_alignedTo_MD594-IHC58-2015.08.26-18.48.50_MD594_1_0172_cropped_compressed/MD594-N46-2015.08.26-23.34.38_MD594_2_0137_lossless_alignedTo_MD594-IHC58-2015.08.26-18.48.50_MD594_1_0172_cropped_compressed.jpg /home/yuncong/csd395/CSHL_cells_v2/detected_cells/MD594/MD594-N46-2015.08.26-23.34.38_MD594_2_0137/MD594-N46-2015.08.26-23.34.38_MD594_2_0137_image.jpg\n"
     ]
    },
    {
     "name": "stderr",
     "output_type": "stream",
     "text": [
      "Child returned 0\n",
      "Load mask: 10.00\n",
      "regionprops: 2.53\n",
      "66977 blobs identified.\n",
      "Save blob coords: 3.43\n",
      "Save blob masks: 7.25\n",
      "Save blob contours, save: 11.41\n",
      "Compute blob properties, save: 14.46\n",
      "Processing section: 218\n"
     ]
    },
    {
     "name": "stdout",
     "output_type": "stream",
     "text": [
      "cp /oasis/projects/nsf/csd395/yuncong/CSHL_data_processed/MD594/MD594_lossless_unsorted_alignedTo_MD594-IHC58-2015.08.26-18.48.50_MD594_1_0172_cropped_compressed/MD594-IHC46-2015.08.26-18.02.16_MD594_2_0137_lossless_alignedTo_MD594-IHC58-2015.08.26-18.48.50_MD594_1_0172_cropped_compressed.jpg /home/yuncong/csd395/CSHL_cells_v2/detected_cells/MD594/MD594-IHC46-2015.08.26-18.02.16_MD594_2_0137/MD594-IHC46-2015.08.26-18.02.16_MD594_2_0137_image.jpg\n"
     ]
    },
    {
     "name": "stderr",
     "output_type": "stream",
     "text": [
      "Child returned 0\n",
      "Load mask: 9.97\n",
      "regionprops: 2.47\n",
      "79155 blobs identified.\n",
      "Save blob coords: 4.08\n",
      "Save blob masks: 8.66\n",
      "Save blob contours, save: 13.43\n",
      "Compute blob properties, save: 17.38\n",
      "Processing section: 219\n"
     ]
    },
    {
     "name": "stdout",
     "output_type": "stream",
     "text": [
      "cp /oasis/projects/nsf/csd395/yuncong/CSHL_data_processed/MD594/MD594_lossless_unsorted_alignedTo_MD594-IHC58-2015.08.26-18.48.50_MD594_1_0172_cropped_compressed/MD594-N47-2015.08.26-23.38.33_MD594_1_0139_lossless_alignedTo_MD594-IHC58-2015.08.26-18.48.50_MD594_1_0172_cropped_compressed.jpg /home/yuncong/csd395/CSHL_cells_v2/detected_cells/MD594/MD594-N47-2015.08.26-23.38.33_MD594_1_0139/MD594-N47-2015.08.26-23.38.33_MD594_1_0139_image.jpg\n"
     ]
    },
    {
     "name": "stderr",
     "output_type": "stream",
     "text": [
      "Child returned 0\n",
      "Load mask: 10.07\n",
      "regionprops: 2.71\n",
      "80638 blobs identified.\n",
      "Save blob coords: 4.14\n",
      "Save blob masks: 8.80\n",
      "Save blob contours, save: 13.28\n",
      "Compute blob properties, save: 16.97\n",
      "Processing section: 220\n"
     ]
    },
    {
     "name": "stdout",
     "output_type": "stream",
     "text": [
      "cp /oasis/projects/nsf/csd395/yuncong/CSHL_data_processed/MD594/MD594_lossless_unsorted_alignedTo_MD594-IHC58-2015.08.26-18.48.50_MD594_1_0172_cropped_compressed/MD594-IHC47-2015.08.26-18.06.03_MD594_1_0139_lossless_alignedTo_MD594-IHC58-2015.08.26-18.48.50_MD594_1_0172_cropped_compressed.jpg /home/yuncong/csd395/CSHL_cells_v2/detected_cells/MD594/MD594-IHC47-2015.08.26-18.06.03_MD594_1_0139/MD594-IHC47-2015.08.26-18.06.03_MD594_1_0139_image.jpg\n"
     ]
    },
    {
     "name": "stderr",
     "output_type": "stream",
     "text": [
      "Child returned 0\n",
      "Load mask: 10.13\n",
      "regionprops: 2.64\n",
      "72903 blobs identified.\n",
      "Save blob coords: 3.86\n",
      "Save blob masks: 8.05\n",
      "Save blob contours, save: 12.08\n",
      "Compute blob properties, save: 15.76\n",
      "Processing section: 221\n"
     ]
    },
    {
     "name": "stdout",
     "output_type": "stream",
     "text": [
      "cp /oasis/projects/nsf/csd395/yuncong/CSHL_data_processed/MD594/MD594_lossless_unsorted_alignedTo_MD594-IHC58-2015.08.26-18.48.50_MD594_1_0172_cropped_compressed/MD594-N47-2015.08.26-23.38.33_MD594_2_0140_lossless_alignedTo_MD594-IHC58-2015.08.26-18.48.50_MD594_1_0172_cropped_compressed.jpg /home/yuncong/csd395/CSHL_cells_v2/detected_cells/MD594/MD594-N47-2015.08.26-23.38.33_MD594_2_0140/MD594-N47-2015.08.26-23.38.33_MD594_2_0140_image.jpg\n"
     ]
    },
    {
     "name": "stderr",
     "output_type": "stream",
     "text": [
      "Child returned 0\n",
      "Load mask: 9.98\n",
      "regionprops: 2.51\n",
      "78558 blobs identified.\n",
      "Save blob coords: 4.11\n",
      "Save blob masks: 8.64\n",
      "Save blob contours, save: 13.03\n",
      "Compute blob properties, save: 17.09\n",
      "Processing section: 222\n"
     ]
    },
    {
     "name": "stdout",
     "output_type": "stream",
     "text": [
      "cp /oasis/projects/nsf/csd395/yuncong/CSHL_data_processed/MD594/MD594_lossless_unsorted_alignedTo_MD594-IHC58-2015.08.26-18.48.50_MD594_1_0172_cropped_compressed/MD594-IHC47-2015.08.26-18.06.03_MD594_2_0140_lossless_alignedTo_MD594-IHC58-2015.08.26-18.48.50_MD594_1_0172_cropped_compressed.jpg /home/yuncong/csd395/CSHL_cells_v2/detected_cells/MD594/MD594-IHC47-2015.08.26-18.06.03_MD594_2_0140/MD594-IHC47-2015.08.26-18.06.03_MD594_2_0140_image.jpg\n"
     ]
    },
    {
     "name": "stderr",
     "output_type": "stream",
     "text": [
      "Child returned 0\n",
      "Load mask: 9.97\n",
      "regionprops: 2.00\n",
      "65104 blobs identified.\n",
      "Save blob coords: 3.42\n",
      "Save blob masks: 7.42\n",
      "Save blob contours, save: 10.69\n",
      "Compute blob properties, save: 13.94\n",
      "Processing section: 223\n"
     ]
    },
    {
     "name": "stdout",
     "output_type": "stream",
     "text": [
      "cp /oasis/projects/nsf/csd395/yuncong/CSHL_data_processed/MD594/MD594_lossless_unsorted_alignedTo_MD594-IHC58-2015.08.26-18.48.50_MD594_1_0172_cropped_compressed/MD594-N48-2015.08.26-23.42.33_MD594_1_0142_lossless_alignedTo_MD594-IHC58-2015.08.26-18.48.50_MD594_1_0172_cropped_compressed.jpg /home/yuncong/csd395/CSHL_cells_v2/detected_cells/MD594/MD594-N48-2015.08.26-23.42.33_MD594_1_0142/MD594-N48-2015.08.26-23.42.33_MD594_1_0142_image.jpg\n"
     ]
    },
    {
     "name": "stderr",
     "output_type": "stream",
     "text": [
      "Child returned 0\n",
      "Load mask: 10.00\n",
      "regionprops: 2.60\n",
      "78545 blobs identified.\n",
      "Save blob coords: 4.03\n",
      "Save blob masks: 8.61\n",
      "Save blob contours, save: 12.81\n",
      "Compute blob properties, save: 16.56\n",
      "Processing section: 224\n"
     ]
    },
    {
     "name": "stdout",
     "output_type": "stream",
     "text": [
      "cp /oasis/projects/nsf/csd395/yuncong/CSHL_data_processed/MD594/MD594_lossless_unsorted_alignedTo_MD594-IHC58-2015.08.26-18.48.50_MD594_1_0172_cropped_compressed/MD594-IHC48-2015.08.26-18.09.45_MD594_1_0142_lossless_alignedTo_MD594-IHC58-2015.08.26-18.48.50_MD594_1_0172_cropped_compressed.jpg /home/yuncong/csd395/CSHL_cells_v2/detected_cells/MD594/MD594-IHC48-2015.08.26-18.09.45_MD594_1_0142/MD594-IHC48-2015.08.26-18.09.45_MD594_1_0142_image.jpg\n"
     ]
    },
    {
     "name": "stderr",
     "output_type": "stream",
     "text": [
      "Child returned 0\n",
      "Load mask: 9.94\n",
      "regionprops: 2.43\n",
      "76290 blobs identified.\n",
      "Save blob coords: 3.88\n",
      "Save blob masks: 8.32\n",
      "Save blob contours, save: 12.48\n",
      "Compute blob properties, save: 16.00\n",
      "Processing section: 225\n"
     ]
    },
    {
     "name": "stdout",
     "output_type": "stream",
     "text": [
      "cp /oasis/projects/nsf/csd395/yuncong/CSHL_data_processed/MD594/MD594_lossless_unsorted_alignedTo_MD594-IHC58-2015.08.26-18.48.50_MD594_1_0172_cropped_compressed/MD594-N48-2015.08.26-23.42.33_MD594_2_0143_lossless_alignedTo_MD594-IHC58-2015.08.26-18.48.50_MD594_1_0172_cropped_compressed.jpg /home/yuncong/csd395/CSHL_cells_v2/detected_cells/MD594/MD594-N48-2015.08.26-23.42.33_MD594_2_0143/MD594-N48-2015.08.26-23.42.33_MD594_2_0143_image.jpg\n"
     ]
    },
    {
     "name": "stderr",
     "output_type": "stream",
     "text": [
      "Child returned 0\n",
      "Load mask: 9.92\n",
      "regionprops: 2.43\n",
      "79950 blobs identified.\n",
      "Save blob coords: 4.07\n",
      "Save blob masks: 8.68\n",
      "Save blob contours, save: 13.15\n",
      "Compute blob properties, save: 16.79\n",
      "Processing section: 226\n"
     ]
    },
    {
     "name": "stdout",
     "output_type": "stream",
     "text": [
      "cp /oasis/projects/nsf/csd395/yuncong/CSHL_data_processed/MD594/MD594_lossless_unsorted_alignedTo_MD594-IHC58-2015.08.26-18.48.50_MD594_1_0172_cropped_compressed/MD594-IHC48-2015.08.26-18.09.45_MD594_2_0143_lossless_alignedTo_MD594-IHC58-2015.08.26-18.48.50_MD594_1_0172_cropped_compressed.jpg /home/yuncong/csd395/CSHL_cells_v2/detected_cells/MD594/MD594-IHC48-2015.08.26-18.09.45_MD594_2_0143/MD594-IHC48-2015.08.26-18.09.45_MD594_2_0143_image.jpg\n"
     ]
    },
    {
     "name": "stderr",
     "output_type": "stream",
     "text": [
      "Child returned 0\n",
      "Load mask: 9.92\n",
      "regionprops: 2.48\n",
      "78728 blobs identified.\n",
      "Save blob coords: 3.97\n",
      "Save blob masks: 8.54\n",
      "Save blob contours, save: 12.78\n",
      "Compute blob properties, save: 16.96\n",
      "Processing section: 227\n"
     ]
    },
    {
     "name": "stdout",
     "output_type": "stream",
     "text": [
      "cp /oasis/projects/nsf/csd395/yuncong/CSHL_data_processed/MD594/MD594_lossless_unsorted_alignedTo_MD594-IHC58-2015.08.26-18.48.50_MD594_1_0172_cropped_compressed/MD594-N49-2015.08.26-23.46.35_MD594_1_0145_lossless_alignedTo_MD594-IHC58-2015.08.26-18.48.50_MD594_1_0172_cropped_compressed.jpg /home/yuncong/csd395/CSHL_cells_v2/detected_cells/MD594/MD594-N49-2015.08.26-23.46.35_MD594_1_0145/MD594-N49-2015.08.26-23.46.35_MD594_1_0145_image.jpg\n"
     ]
    },
    {
     "name": "stderr",
     "output_type": "stream",
     "text": [
      "Child returned 0\n",
      "Load mask: 9.92\n",
      "regionprops: 2.46\n",
      "80124 blobs identified.\n",
      "Save blob coords: 4.32\n",
      "Save blob masks: 8.75\n",
      "Save blob contours, save: 13.10\n",
      "Compute blob properties, save: 16.83\n",
      "Processing section: 228\n"
     ]
    },
    {
     "name": "stdout",
     "output_type": "stream",
     "text": [
      "cp /oasis/projects/nsf/csd395/yuncong/CSHL_data_processed/MD594/MD594_lossless_unsorted_alignedTo_MD594-IHC58-2015.08.26-18.48.50_MD594_1_0172_cropped_compressed/MD594-IHC49-2015.08.26-18.13.29_MD594_1_0145_lossless_alignedTo_MD594-IHC58-2015.08.26-18.48.50_MD594_1_0172_cropped_compressed.jpg /home/yuncong/csd395/CSHL_cells_v2/detected_cells/MD594/MD594-IHC49-2015.08.26-18.13.29_MD594_1_0145/MD594-IHC49-2015.08.26-18.13.29_MD594_1_0145_image.jpg\n"
     ]
    },
    {
     "name": "stderr",
     "output_type": "stream",
     "text": [
      "Child returned 0\n",
      "Load mask: 9.95\n",
      "regionprops: 2.48\n",
      "79593 blobs identified.\n",
      "Save blob coords: 4.05\n",
      "Save blob masks: 8.65\n",
      "Save blob contours, save: 12.94\n",
      "Compute blob properties, save: 17.02\n",
      "Processing section: 229\n"
     ]
    },
    {
     "name": "stdout",
     "output_type": "stream",
     "text": [
      "cp /oasis/projects/nsf/csd395/yuncong/CSHL_data_processed/MD594/MD594_lossless_unsorted_alignedTo_MD594-IHC58-2015.08.26-18.48.50_MD594_1_0172_cropped_compressed/MD594-N49-2015.08.26-23.46.35_MD594_2_0146_lossless_alignedTo_MD594-IHC58-2015.08.26-18.48.50_MD594_1_0172_cropped_compressed.jpg /home/yuncong/csd395/CSHL_cells_v2/detected_cells/MD594/MD594-N49-2015.08.26-23.46.35_MD594_2_0146/MD594-N49-2015.08.26-23.46.35_MD594_2_0146_image.jpg\n"
     ]
    },
    {
     "name": "stderr",
     "output_type": "stream",
     "text": [
      "Child returned 0\n",
      "Load mask: 9.96\n",
      "regionprops: 2.05\n",
      "80825 blobs identified.\n",
      "Save blob coords: 4.05\n",
      "Save blob masks: 8.95\n",
      "Save blob contours, save: 12.94\n",
      "Compute blob properties, save: 17.12\n",
      "Processing section: 230\n"
     ]
    },
    {
     "name": "stdout",
     "output_type": "stream",
     "text": [
      "cp /oasis/projects/nsf/csd395/yuncong/CSHL_data_processed/MD594/MD594_lossless_unsorted_alignedTo_MD594-IHC58-2015.08.26-18.48.50_MD594_1_0172_cropped_compressed/MD594-IHC49-2015.08.26-18.13.29_MD594_2_0146_lossless_alignedTo_MD594-IHC58-2015.08.26-18.48.50_MD594_1_0172_cropped_compressed.jpg /home/yuncong/csd395/CSHL_cells_v2/detected_cells/MD594/MD594-IHC49-2015.08.26-18.13.29_MD594_2_0146/MD594-IHC49-2015.08.26-18.13.29_MD594_2_0146_image.jpg\n"
     ]
    },
    {
     "name": "stderr",
     "output_type": "stream",
     "text": [
      "Child returned 0\n",
      "Load mask: 9.92\n",
      "regionprops: 2.10\n",
      "82443 blobs identified.\n",
      "Save blob coords: 4.22\n",
      "Save blob masks: 9.16\n",
      "Save blob contours, save: 13.83\n",
      "Compute blob properties, save: 17.52\n",
      "Processing section: 231\n"
     ]
    },
    {
     "name": "stdout",
     "output_type": "stream",
     "text": [
      "cp /oasis/projects/nsf/csd395/yuncong/CSHL_data_processed/MD594/MD594_lossless_unsorted_alignedTo_MD594-IHC58-2015.08.26-18.48.50_MD594_1_0172_cropped_compressed/MD594-N50-2015.08.26-23.50.36_MD594_1_0148_lossless_alignedTo_MD594-IHC58-2015.08.26-18.48.50_MD594_1_0172_cropped_compressed.jpg /home/yuncong/csd395/CSHL_cells_v2/detected_cells/MD594/MD594-N50-2015.08.26-23.50.36_MD594_1_0148/MD594-N50-2015.08.26-23.50.36_MD594_1_0148_image.jpg\n"
     ]
    },
    {
     "name": "stderr",
     "output_type": "stream",
     "text": [
      "Child returned 0\n",
      "Load mask: 9.99\n",
      "regionprops: 2.53\n",
      "81397 blobs identified.\n",
      "Save blob coords: 4.11\n",
      "Save blob masks: 8.90\n",
      "Save blob contours, save: 13.72\n",
      "Compute blob properties, save: 17.66\n",
      "Processing section: 232\n"
     ]
    },
    {
     "name": "stdout",
     "output_type": "stream",
     "text": [
      "cp /oasis/projects/nsf/csd395/yuncong/CSHL_data_processed/MD594/MD594_lossless_unsorted_alignedTo_MD594-IHC58-2015.08.26-18.48.50_MD594_1_0172_cropped_compressed/MD594-IHC50-2015.08.26-18.17.23_MD594_1_0148_lossless_alignedTo_MD594-IHC58-2015.08.26-18.48.50_MD594_1_0172_cropped_compressed.jpg /home/yuncong/csd395/CSHL_cells_v2/detected_cells/MD594/MD594-IHC50-2015.08.26-18.17.23_MD594_1_0148/MD594-IHC50-2015.08.26-18.17.23_MD594_1_0148_image.jpg\n"
     ]
    },
    {
     "name": "stderr",
     "output_type": "stream",
     "text": [
      "Child returned 0\n",
      "Load mask: 9.98\n",
      "regionprops: 2.75\n",
      "84425 blobs identified.\n",
      "Save blob coords: 4.43\n",
      "Save blob masks: 9.34\n",
      "Save blob contours, save: 13.96\n",
      "Compute blob properties, save: 18.67\n",
      "Processing section: 233\n"
     ]
    },
    {
     "name": "stdout",
     "output_type": "stream",
     "text": [
      "cp /oasis/projects/nsf/csd395/yuncong/CSHL_data_processed/MD594/MD594_lossless_unsorted_alignedTo_MD594-IHC58-2015.08.26-18.48.50_MD594_1_0172_cropped_compressed/MD594-N50-2015.08.26-23.50.36_MD594_2_0149_lossless_alignedTo_MD594-IHC58-2015.08.26-18.48.50_MD594_1_0172_cropped_compressed.jpg /home/yuncong/csd395/CSHL_cells_v2/detected_cells/MD594/MD594-N50-2015.08.26-23.50.36_MD594_2_0149/MD594-N50-2015.08.26-23.50.36_MD594_2_0149_image.jpg\n"
     ]
    },
    {
     "name": "stderr",
     "output_type": "stream",
     "text": [
      "Child returned 0\n",
      "Load mask: 10.08\n",
      "regionprops: 2.26\n",
      "84463 blobs identified.\n",
      "Save blob coords: 4.42\n",
      "Save blob masks: 9.70\n",
      "Save blob contours, save: 13.95\n",
      "Compute blob properties, save: 18.10\n",
      "Processing section: 234\n"
     ]
    },
    {
     "name": "stdout",
     "output_type": "stream",
     "text": [
      "cp /oasis/projects/nsf/csd395/yuncong/CSHL_data_processed/MD594/MD594_lossless_unsorted_alignedTo_MD594-IHC58-2015.08.26-18.48.50_MD594_1_0172_cropped_compressed/MD594-IHC50-2015.08.26-18.17.23_MD594_2_0149_lossless_alignedTo_MD594-IHC58-2015.08.26-18.48.50_MD594_1_0172_cropped_compressed.jpg /home/yuncong/csd395/CSHL_cells_v2/detected_cells/MD594/MD594-IHC50-2015.08.26-18.17.23_MD594_2_0149/MD594-IHC50-2015.08.26-18.17.23_MD594_2_0149_image.jpg\n"
     ]
    },
    {
     "name": "stderr",
     "output_type": "stream",
     "text": [
      "Child returned 0\n",
      "Load mask: 9.99\n",
      "regionprops: 2.73\n",
      "83682 blobs identified.\n",
      "Save blob coords: 4.35\n",
      "Save blob masks: 9.37\n",
      "Save blob contours, save: 14.22\n",
      "Compute blob properties, save: 18.46\n",
      "Processing section: 235\n"
     ]
    },
    {
     "name": "stdout",
     "output_type": "stream",
     "text": [
      "cp /oasis/projects/nsf/csd395/yuncong/CSHL_data_processed/MD594/MD594_lossless_unsorted_alignedTo_MD594-IHC58-2015.08.26-18.48.50_MD594_1_0172_cropped_compressed/MD594-N51-2015.08.26-23.54.38_MD594_1_0151_lossless_alignedTo_MD594-IHC58-2015.08.26-18.48.50_MD594_1_0172_cropped_compressed.jpg /home/yuncong/csd395/CSHL_cells_v2/detected_cells/MD594/MD594-N51-2015.08.26-23.54.38_MD594_1_0151/MD594-N51-2015.08.26-23.54.38_MD594_1_0151_image.jpg\n"
     ]
    },
    {
     "name": "stderr",
     "output_type": "stream",
     "text": [
      "Child returned 0\n",
      "Load mask: 10.14\n",
      "regionprops: 2.32\n",
      "83907 blobs identified.\n",
      "Save blob coords: 4.53\n",
      "Save blob masks: 9.66\n",
      "Save blob contours, save: 13.93\n",
      "Compute blob properties, save: 18.24\n",
      "Processing section: 236\n"
     ]
    },
    {
     "name": "stdout",
     "output_type": "stream",
     "text": [
      "cp /oasis/projects/nsf/csd395/yuncong/CSHL_data_processed/MD594/MD594_lossless_unsorted_alignedTo_MD594-IHC58-2015.08.26-18.48.50_MD594_1_0172_cropped_compressed/MD594-IHC51-2015.08.26-18.21.11_MD594_1_0151_lossless_alignedTo_MD594-IHC58-2015.08.26-18.48.50_MD594_1_0172_cropped_compressed.jpg /home/yuncong/csd395/CSHL_cells_v2/detected_cells/MD594/MD594-IHC51-2015.08.26-18.21.11_MD594_1_0151/MD594-IHC51-2015.08.26-18.21.11_MD594_1_0151_image.jpg\n"
     ]
    },
    {
     "name": "stderr",
     "output_type": "stream",
     "text": [
      "Child returned 0\n",
      "Load mask: 10.21\n",
      "regionprops: 2.75\n",
      "82432 blobs identified.\n",
      "Save blob coords: 4.34\n",
      "Save blob masks: 9.15\n",
      "Save blob contours, save: 13.83\n",
      "Compute blob properties, save: 18.34\n",
      "Processing section: 237\n"
     ]
    },
    {
     "name": "stdout",
     "output_type": "stream",
     "text": [
      "cp /oasis/projects/nsf/csd395/yuncong/CSHL_data_processed/MD594/MD594_lossless_unsorted_alignedTo_MD594-IHC58-2015.08.26-18.48.50_MD594_1_0172_cropped_compressed/MD594-N51-2015.08.26-23.54.38_MD594_2_0152_lossless_alignedTo_MD594-IHC58-2015.08.26-18.48.50_MD594_1_0172_cropped_compressed.jpg /home/yuncong/csd395/CSHL_cells_v2/detected_cells/MD594/MD594-N51-2015.08.26-23.54.38_MD594_2_0152/MD594-N51-2015.08.26-23.54.38_MD594_2_0152_image.jpg\n"
     ]
    },
    {
     "name": "stderr",
     "output_type": "stream",
     "text": [
      "Child returned 0\n",
      "Load mask: 9.97\n",
      "regionprops: 2.28\n",
      "83450 blobs identified.\n",
      "Save blob coords: 4.35\n",
      "Save blob masks: 9.22\n",
      "Save blob contours, save: 15.89\n",
      "Compute blob properties, save: 18.11\n",
      "Processing section: 239\n"
     ]
    },
    {
     "name": "stdout",
     "output_type": "stream",
     "text": [
      "cp /oasis/projects/nsf/csd395/yuncong/CSHL_data_processed/MD594/MD594_lossless_unsorted_alignedTo_MD594-IHC58-2015.08.26-18.48.50_MD594_1_0172_cropped_compressed/MD594-IHC52-2015.08.26-18.25.10_MD594_1_0154_lossless_alignedTo_MD594-IHC58-2015.08.26-18.48.50_MD594_1_0172_cropped_compressed.jpg /home/yuncong/csd395/CSHL_cells_v2/detected_cells/MD594/MD594-IHC52-2015.08.26-18.25.10_MD594_1_0154/MD594-IHC52-2015.08.26-18.25.10_MD594_1_0154_image.jpg\n"
     ]
    },
    {
     "name": "stderr",
     "output_type": "stream",
     "text": [
      "Child returned 0\n",
      "Load mask: 10.01\n",
      "regionprops: 2.69\n",
      "84169 blobs identified.\n",
      "Save blob coords: 4.27\n",
      "Save blob masks: 9.18\n",
      "Save blob contours, save: 13.50\n",
      "Compute blob properties, save: 18.26\n",
      "Processing section: 240\n"
     ]
    },
    {
     "name": "stdout",
     "output_type": "stream",
     "text": [
      "cp /oasis/projects/nsf/csd395/yuncong/CSHL_data_processed/MD594/MD594_lossless_unsorted_alignedTo_MD594-IHC58-2015.08.26-18.48.50_MD594_1_0172_cropped_compressed/MD594-IHC52-2015.08.26-18.25.10_MD594_2_0155_lossless_alignedTo_MD594-IHC58-2015.08.26-18.48.50_MD594_1_0172_cropped_compressed.jpg /home/yuncong/csd395/CSHL_cells_v2/detected_cells/MD594/MD594-IHC52-2015.08.26-18.25.10_MD594_2_0155/MD594-IHC52-2015.08.26-18.25.10_MD594_2_0155_image.jpg\n"
     ]
    },
    {
     "name": "stderr",
     "output_type": "stream",
     "text": [
      "Child returned 0\n",
      "Load mask: 10.23\n",
      "regionprops: 2.14\n",
      "85672 blobs identified.\n",
      "Save blob coords: 4.32\n",
      "Save blob masks: 9.63\n",
      "Save blob contours, save: 13.77\n",
      "Compute blob properties, save: 18.10\n",
      "Processing section: 241\n"
     ]
    },
    {
     "name": "stdout",
     "output_type": "stream",
     "text": [
      "cp /oasis/projects/nsf/csd395/yuncong/CSHL_data_processed/MD594/MD594_lossless_unsorted_alignedTo_MD594-IHC58-2015.08.26-18.48.50_MD594_1_0172_cropped_compressed/MD594-N53-2015.08.26-23.58.45_MD594_1_0157_lossless_alignedTo_MD594-IHC58-2015.08.26-18.48.50_MD594_1_0172_cropped_compressed.jpg /home/yuncong/csd395/CSHL_cells_v2/detected_cells/MD594/MD594-N53-2015.08.26-23.58.45_MD594_1_0157/MD594-N53-2015.08.26-23.58.45_MD594_1_0157_image.jpg\n"
     ]
    },
    {
     "name": "stderr",
     "output_type": "stream",
     "text": [
      "Child returned 0\n",
      "Load mask: 9.97\n",
      "regionprops: 2.60\n",
      "93562 blobs identified.\n",
      "Save blob coords: 4.61\n",
      "Save blob masks: 10.08\n",
      "Save blob contours, save: 14.75\n",
      "Compute blob properties, save: 20.02\n",
      "Processing section: 242\n"
     ]
    },
    {
     "name": "stdout",
     "output_type": "stream",
     "text": [
      "cp /oasis/projects/nsf/csd395/yuncong/CSHL_data_processed/MD594/MD594_lossless_unsorted_alignedTo_MD594-IHC58-2015.08.26-18.48.50_MD594_1_0172_cropped_compressed/MD594-IHC53-2015.08.26-18.29.03_MD594_1_0157_lossless_alignedTo_MD594-IHC58-2015.08.26-18.48.50_MD594_1_0172_cropped_compressed.jpg /home/yuncong/csd395/CSHL_cells_v2/detected_cells/MD594/MD594-IHC53-2015.08.26-18.29.03_MD594_1_0157/MD594-IHC53-2015.08.26-18.29.03_MD594_1_0157_image.jpg\n"
     ]
    },
    {
     "name": "stderr",
     "output_type": "stream",
     "text": [
      "Child returned 0\n",
      "Load mask: 9.97\n",
      "regionprops: 2.89\n",
      "89545 blobs identified.\n",
      "Save blob coords: 4.53\n",
      "Save blob masks: 9.91\n",
      "Save blob contours, save: 14.63\n",
      "Compute blob properties, save: 19.03\n",
      "Processing section: 243\n"
     ]
    },
    {
     "name": "stdout",
     "output_type": "stream",
     "text": [
      "cp /oasis/projects/nsf/csd395/yuncong/CSHL_data_processed/MD594/MD594_lossless_unsorted_alignedTo_MD594-IHC58-2015.08.26-18.48.50_MD594_1_0172_cropped_compressed/MD594-N53-2015.08.26-23.58.45_MD594_2_0158_lossless_alignedTo_MD594-IHC58-2015.08.26-18.48.50_MD594_1_0172_cropped_compressed.jpg /home/yuncong/csd395/CSHL_cells_v2/detected_cells/MD594/MD594-N53-2015.08.26-23.58.45_MD594_2_0158/MD594-N53-2015.08.26-23.58.45_MD594_2_0158_image.jpg\n"
     ]
    },
    {
     "name": "stderr",
     "output_type": "stream",
     "text": [
      "Child returned 0\n",
      "Load mask: 10.02\n",
      "regionprops: 2.31\n",
      "90736 blobs identified.\n",
      "Save blob coords: 4.61\n",
      "Save blob masks: 10.16\n",
      "Save blob contours, save: 14.70\n",
      "Compute blob properties, save: 19.05\n",
      "Processing section: 244\n"
     ]
    },
    {
     "name": "stdout",
     "output_type": "stream",
     "text": [
      "cp /oasis/projects/nsf/csd395/yuncong/CSHL_data_processed/MD594/MD594_lossless_unsorted_alignedTo_MD594-IHC58-2015.08.26-18.48.50_MD594_1_0172_cropped_compressed/MD594-IHC53-2015.08.26-18.29.03_MD594_2_0158_lossless_alignedTo_MD594-IHC58-2015.08.26-18.48.50_MD594_1_0172_cropped_compressed.jpg /home/yuncong/csd395/CSHL_cells_v2/detected_cells/MD594/MD594-IHC53-2015.08.26-18.29.03_MD594_2_0158/MD594-IHC53-2015.08.26-18.29.03_MD594_2_0158_image.jpg\n"
     ]
    },
    {
     "name": "stderr",
     "output_type": "stream",
     "text": [
      "Child returned 0\n",
      "Load mask: 10.00\n",
      "regionprops: 2.71\n",
      "90709 blobs identified.\n",
      "Save blob coords: 4.55\n",
      "Save blob masks: 9.88\n",
      "Save blob contours, save: 15.24\n",
      "Compute blob properties, save: 19.43\n",
      "Processing section: 245\n"
     ]
    },
    {
     "name": "stdout",
     "output_type": "stream",
     "text": [
      "cp /oasis/projects/nsf/csd395/yuncong/CSHL_data_processed/MD594/MD594_lossless_unsorted_alignedTo_MD594-IHC58-2015.08.26-18.48.50_MD594_1_0172_cropped_compressed/MD594-N54-2015.08.27-00.02.48_MD594_1_0160_lossless_alignedTo_MD594-IHC58-2015.08.26-18.48.50_MD594_1_0172_cropped_compressed.jpg /home/yuncong/csd395/CSHL_cells_v2/detected_cells/MD594/MD594-N54-2015.08.27-00.02.48_MD594_1_0160/MD594-N54-2015.08.27-00.02.48_MD594_1_0160_image.jpg\n"
     ]
    },
    {
     "name": "stderr",
     "output_type": "stream",
     "text": [
      "Child returned 0\n",
      "Load mask: 9.97\n",
      "regionprops: 2.89\n",
      "92888 blobs identified.\n",
      "Save blob coords: 4.63\n",
      "Save blob masks: 9.96\n",
      "Save blob contours, save: 15.49\n",
      "Compute blob properties, save: 19.58\n",
      "Processing section: 246\n"
     ]
    },
    {
     "name": "stdout",
     "output_type": "stream",
     "text": [
      "cp /oasis/projects/nsf/csd395/yuncong/CSHL_data_processed/MD594/MD594_lossless_unsorted_alignedTo_MD594-IHC58-2015.08.26-18.48.50_MD594_1_0172_cropped_compressed/MD594-IHC54-2015.08.26-18.33.01_MD594_1_0160_lossless_alignedTo_MD594-IHC58-2015.08.26-18.48.50_MD594_1_0172_cropped_compressed.jpg /home/yuncong/csd395/CSHL_cells_v2/detected_cells/MD594/MD594-IHC54-2015.08.26-18.33.01_MD594_1_0160/MD594-IHC54-2015.08.26-18.33.01_MD594_1_0160_image.jpg\n"
     ]
    },
    {
     "name": "stderr",
     "output_type": "stream",
     "text": [
      "Child returned 0\n",
      "Load mask: 9.98\n",
      "regionprops: 2.86\n",
      "91165 blobs identified.\n",
      "Save blob coords: 4.59\n",
      "Save blob masks: 10.00\n",
      "Save blob contours, save: 15.23\n",
      "Compute blob properties, save: 19.43\n",
      "Processing section: 247\n"
     ]
    },
    {
     "name": "stdout",
     "output_type": "stream",
     "text": [
      "cp /oasis/projects/nsf/csd395/yuncong/CSHL_data_processed/MD594/MD594_lossless_unsorted_alignedTo_MD594-IHC58-2015.08.26-18.48.50_MD594_1_0172_cropped_compressed/MD594-N54-2015.08.27-00.02.48_MD594_2_0161_lossless_alignedTo_MD594-IHC58-2015.08.26-18.48.50_MD594_1_0172_cropped_compressed.jpg /home/yuncong/csd395/CSHL_cells_v2/detected_cells/MD594/MD594-N54-2015.08.27-00.02.48_MD594_2_0161/MD594-N54-2015.08.27-00.02.48_MD594_2_0161_image.jpg\n"
     ]
    },
    {
     "name": "stderr",
     "output_type": "stream",
     "text": [
      "Child returned 0\n",
      "Load mask: 10.09\n",
      "regionprops: 2.86\n",
      "92183 blobs identified.\n",
      "Save blob coords: 4.61\n",
      "Save blob masks: 9.94\n",
      "Save blob contours, save: 15.20\n",
      "Compute blob properties, save: 19.51\n",
      "Processing section: 248\n"
     ]
    },
    {
     "name": "stdout",
     "output_type": "stream",
     "text": [
      "cp /oasis/projects/nsf/csd395/yuncong/CSHL_data_processed/MD594/MD594_lossless_unsorted_alignedTo_MD594-IHC58-2015.08.26-18.48.50_MD594_1_0172_cropped_compressed/MD594-IHC54-2015.08.26-18.33.01_MD594_2_0161_lossless_alignedTo_MD594-IHC58-2015.08.26-18.48.50_MD594_1_0172_cropped_compressed.jpg /home/yuncong/csd395/CSHL_cells_v2/detected_cells/MD594/MD594-IHC54-2015.08.26-18.33.01_MD594_2_0161/MD594-IHC54-2015.08.26-18.33.01_MD594_2_0161_image.jpg\n"
     ]
    },
    {
     "name": "stderr",
     "output_type": "stream",
     "text": [
      "Child returned 0\n",
      "Load mask: 9.97\n",
      "regionprops: 2.81\n",
      "91098 blobs identified.\n",
      "Save blob coords: 4.57\n",
      "Save blob masks: 9.86\n",
      "Save blob contours, save: 15.39\n",
      "Compute blob properties, save: 19.21\n",
      "Processing section: 249\n"
     ]
    },
    {
     "name": "stdout",
     "output_type": "stream",
     "text": [
      "cp /oasis/projects/nsf/csd395/yuncong/CSHL_data_processed/MD594/MD594_lossless_unsorted_alignedTo_MD594-IHC58-2015.08.26-18.48.50_MD594_1_0172_cropped_compressed/MD594-N55-2015.08.27-00.06.50_MD594_1_0163_lossless_alignedTo_MD594-IHC58-2015.08.26-18.48.50_MD594_1_0172_cropped_compressed.jpg /home/yuncong/csd395/CSHL_cells_v2/detected_cells/MD594/MD594-N55-2015.08.27-00.06.50_MD594_1_0163/MD594-N55-2015.08.27-00.06.50_MD594_1_0163_image.jpg\n"
     ]
    },
    {
     "name": "stderr",
     "output_type": "stream",
     "text": [
      "Child returned 0\n",
      "Load mask: 10.08\n",
      "regionprops: 2.83\n",
      "91509 blobs identified.\n",
      "Save blob coords: 4.56\n",
      "Save blob masks: 9.90\n",
      "Save blob contours, save: 14.89\n",
      "Compute blob properties, save: 19.20\n",
      "Processing section: 250\n"
     ]
    },
    {
     "name": "stdout",
     "output_type": "stream",
     "text": [
      "cp /oasis/projects/nsf/csd395/yuncong/CSHL_data_processed/MD594/MD594_lossless_unsorted_alignedTo_MD594-IHC58-2015.08.26-18.48.50_MD594_1_0172_cropped_compressed/MD594-IHC55-2015.08.26-18.37.04_MD594_1_0163_lossless_alignedTo_MD594-IHC58-2015.08.26-18.48.50_MD594_1_0172_cropped_compressed.jpg /home/yuncong/csd395/CSHL_cells_v2/detected_cells/MD594/MD594-IHC55-2015.08.26-18.37.04_MD594_1_0163/MD594-IHC55-2015.08.26-18.37.04_MD594_1_0163_image.jpg\n"
     ]
    },
    {
     "name": "stderr",
     "output_type": "stream",
     "text": [
      "Child returned 0\n",
      "Load mask: 10.14\n",
      "regionprops: 2.68\n",
      "90731 blobs identified.\n",
      "Save blob coords: 4.56\n",
      "Save blob masks: 9.80\n",
      "Save blob contours, save: 14.94\n",
      "Compute blob properties, save: 19.12\n",
      "Processing section: 251\n"
     ]
    },
    {
     "name": "stdout",
     "output_type": "stream",
     "text": [
      "cp /oasis/projects/nsf/csd395/yuncong/CSHL_data_processed/MD594/MD594_lossless_unsorted_alignedTo_MD594-IHC58-2015.08.26-18.48.50_MD594_1_0172_cropped_compressed/MD594-N55-2015.08.27-00.06.50_MD594_2_0164_lossless_alignedTo_MD594-IHC58-2015.08.26-18.48.50_MD594_1_0172_cropped_compressed.jpg /home/yuncong/csd395/CSHL_cells_v2/detected_cells/MD594/MD594-N55-2015.08.27-00.06.50_MD594_2_0164/MD594-N55-2015.08.27-00.06.50_MD594_2_0164_image.jpg\n"
     ]
    },
    {
     "name": "stderr",
     "output_type": "stream",
     "text": [
      "Child returned 0\n",
      "Load mask: 9.98\n",
      "regionprops: 2.61\n",
      "90906 blobs identified.\n",
      "Save blob coords: 4.41\n",
      "Save blob masks: 9.75\n",
      "Save blob contours, save: 14.50\n",
      "Compute blob properties, save: 18.81\n",
      "Processing section: 252\n"
     ]
    },
    {
     "name": "stdout",
     "output_type": "stream",
     "text": [
      "cp /oasis/projects/nsf/csd395/yuncong/CSHL_data_processed/MD594/MD594_lossless_unsorted_alignedTo_MD594-IHC58-2015.08.26-18.48.50_MD594_1_0172_cropped_compressed/MD594-IHC55-2015.08.26-18.37.04_MD594_2_0164_lossless_alignedTo_MD594-IHC58-2015.08.26-18.48.50_MD594_1_0172_cropped_compressed.jpg /home/yuncong/csd395/CSHL_cells_v2/detected_cells/MD594/MD594-IHC55-2015.08.26-18.37.04_MD594_2_0164/MD594-IHC55-2015.08.26-18.37.04_MD594_2_0164_image.jpg\n"
     ]
    },
    {
     "name": "stderr",
     "output_type": "stream",
     "text": [
      "Child returned 0\n",
      "Load mask: 9.98\n",
      "regionprops: 2.65\n",
      "91345 blobs identified.\n",
      "Save blob coords: 4.52\n",
      "Save blob masks: 9.85\n",
      "Save blob contours, save: 14.84\n",
      "Compute blob properties, save: 19.49\n",
      "Processing section: 253\n"
     ]
    },
    {
     "name": "stdout",
     "output_type": "stream",
     "text": [
      "cp /oasis/projects/nsf/csd395/yuncong/CSHL_data_processed/MD594/MD594_lossless_unsorted_alignedTo_MD594-IHC58-2015.08.26-18.48.50_MD594_1_0172_cropped_compressed/MD594-N56-2015.08.27-00.10.53_MD594_1_0166_lossless_alignedTo_MD594-IHC58-2015.08.26-18.48.50_MD594_1_0172_cropped_compressed.jpg /home/yuncong/csd395/CSHL_cells_v2/detected_cells/MD594/MD594-N56-2015.08.27-00.10.53_MD594_1_0166/MD594-N56-2015.08.27-00.10.53_MD594_1_0166_image.jpg\n"
     ]
    },
    {
     "name": "stderr",
     "output_type": "stream",
     "text": [
      "Child returned 0\n",
      "Load mask: 10.73\n",
      "regionprops: 1.98\n",
      "28403 blobs identified.\n",
      "Save blob coords: 2.56\n",
      "Save blob masks: 4.26\n",
      "Save blob contours, save: 6.08\n",
      "Compute blob properties, save: 7.73\n",
      "Processing section: 254\n"
     ]
    },
    {
     "name": "stdout",
     "output_type": "stream",
     "text": [
      "cp /oasis/projects/nsf/csd395/yuncong/CSHL_data_processed/MD594/MD594_lossless_unsorted_alignedTo_MD594-IHC58-2015.08.26-18.48.50_MD594_1_0172_cropped_compressed/MD594-IHC56-2015.08.26-18.40.59_MD594_1_0166_lossless_alignedTo_MD594-IHC58-2015.08.26-18.48.50_MD594_1_0172_cropped_compressed.jpg /home/yuncong/csd395/CSHL_cells_v2/detected_cells/MD594/MD594-IHC56-2015.08.26-18.40.59_MD594_1_0166/MD594-IHC56-2015.08.26-18.40.59_MD594_1_0166_image.jpg\n"
     ]
    },
    {
     "name": "stderr",
     "output_type": "stream",
     "text": [
      "Child returned 0\n",
      "Load mask: 9.91\n",
      "regionprops: 2.14\n",
      "90754 blobs identified.\n",
      "Save blob coords: 4.42\n",
      "Save blob masks: 9.67\n",
      "Save blob contours, save: 14.55\n",
      "Compute blob properties, save: 19.00\n",
      "Processing section: 255\n"
     ]
    },
    {
     "name": "stdout",
     "output_type": "stream",
     "text": [
      "cp /oasis/projects/nsf/csd395/yuncong/CSHL_data_processed/MD594/MD594_lossless_unsorted_alignedTo_MD594-IHC58-2015.08.26-18.48.50_MD594_1_0172_cropped_compressed/MD594-N56-2015.08.27-00.10.53_MD594_2_0167_lossless_alignedTo_MD594-IHC58-2015.08.26-18.48.50_MD594_1_0172_cropped_compressed.jpg /home/yuncong/csd395/CSHL_cells_v2/detected_cells/MD594/MD594-N56-2015.08.27-00.10.53_MD594_2_0167/MD594-N56-2015.08.27-00.10.53_MD594_2_0167_image.jpg\n"
     ]
    },
    {
     "name": "stderr",
     "output_type": "stream",
     "text": [
      "Child returned 0\n",
      "Load mask: 9.96\n",
      "regionprops: 2.59\n",
      "67601 blobs identified.\n",
      "Save blob coords: 3.83\n",
      "Save blob masks: 7.79\n",
      "Save blob contours, save: 11.32\n",
      "Compute blob properties, save: 15.12\n",
      "Processing section: 256\n"
     ]
    },
    {
     "name": "stdout",
     "output_type": "stream",
     "text": [
      "cp /oasis/projects/nsf/csd395/yuncong/CSHL_data_processed/MD594/MD594_lossless_unsorted_alignedTo_MD594-IHC58-2015.08.26-18.48.50_MD594_1_0172_cropped_compressed/MD594-IHC56-2015.08.26-18.40.59_MD594_2_0167_lossless_alignedTo_MD594-IHC58-2015.08.26-18.48.50_MD594_1_0172_cropped_compressed.jpg /home/yuncong/csd395/CSHL_cells_v2/detected_cells/MD594/MD594-IHC56-2015.08.26-18.40.59_MD594_2_0167/MD594-IHC56-2015.08.26-18.40.59_MD594_2_0167_image.jpg\n"
     ]
    },
    {
     "name": "stderr",
     "output_type": "stream",
     "text": [
      "Child returned 0\n",
      "Load mask: 9.92\n",
      "regionprops: 2.50\n",
      "90787 blobs identified.\n",
      "Save blob coords: 4.54\n",
      "Save blob masks: 9.90\n",
      "Save blob contours, save: 14.81\n",
      "Compute blob properties, save: 19.35\n",
      "Processing section: 257\n"
     ]
    },
    {
     "name": "stdout",
     "output_type": "stream",
     "text": [
      "cp /oasis/projects/nsf/csd395/yuncong/CSHL_data_processed/MD594/MD594_lossless_unsorted_alignedTo_MD594-IHC58-2015.08.26-18.48.50_MD594_1_0172_cropped_compressed/MD594-N57-2015.08.27-00.14.56_MD594_1_0169_lossless_alignedTo_MD594-IHC58-2015.08.26-18.48.50_MD594_1_0172_cropped_compressed.jpg /home/yuncong/csd395/CSHL_cells_v2/detected_cells/MD594/MD594-N57-2015.08.27-00.14.56_MD594_1_0169/MD594-N57-2015.08.27-00.14.56_MD594_1_0169_image.jpg\n"
     ]
    },
    {
     "name": "stderr",
     "output_type": "stream",
     "text": [
      "Child returned 0\n",
      "Load mask: 9.97\n",
      "regionprops: 2.98\n",
      "97067 blobs identified.\n",
      "Save blob coords: 5.16\n",
      "Save blob masks: 10.86\n",
      "Save blob contours, save: 15.83\n",
      "Compute blob properties, save: 21.22\n",
      "Processing section: 258\n"
     ]
    },
    {
     "name": "stdout",
     "output_type": "stream",
     "text": [
      "cp /oasis/projects/nsf/csd395/yuncong/CSHL_data_processed/MD594/MD594_lossless_unsorted_alignedTo_MD594-IHC58-2015.08.26-18.48.50_MD594_1_0172_cropped_compressed/MD594-IHC57-2015.08.26-18.45.01_MD594_1_0169_lossless_alignedTo_MD594-IHC58-2015.08.26-18.48.50_MD594_1_0172_cropped_compressed.jpg /home/yuncong/csd395/CSHL_cells_v2/detected_cells/MD594/MD594-IHC57-2015.08.26-18.45.01_MD594_1_0169/MD594-IHC57-2015.08.26-18.45.01_MD594_1_0169_image.jpg\n"
     ]
    },
    {
     "name": "stderr",
     "output_type": "stream",
     "text": [
      "Child returned 0\n",
      "Load mask: 9.99\n",
      "regionprops: 2.41\n",
      "89500 blobs identified.\n",
      "Save blob coords: 4.49\n",
      "Save blob masks: 9.77\n",
      "Save blob contours, save: 15.12\n",
      "Compute blob properties, save: 18.63\n",
      "Processing section: 259\n"
     ]
    },
    {
     "name": "stdout",
     "output_type": "stream",
     "text": [
      "cp /oasis/projects/nsf/csd395/yuncong/CSHL_data_processed/MD594/MD594_lossless_unsorted_alignedTo_MD594-IHC58-2015.08.26-18.48.50_MD594_1_0172_cropped_compressed/MD594-N57-2015.08.27-00.14.56_MD594_2_0170_lossless_alignedTo_MD594-IHC58-2015.08.26-18.48.50_MD594_1_0172_cropped_compressed.jpg /home/yuncong/csd395/CSHL_cells_v2/detected_cells/MD594/MD594-N57-2015.08.27-00.14.56_MD594_2_0170/MD594-N57-2015.08.27-00.14.56_MD594_2_0170_image.jpg\n"
     ]
    },
    {
     "name": "stderr",
     "output_type": "stream",
     "text": [
      "Child returned 0\n",
      "Load mask: 9.99\n",
      "regionprops: 2.73\n",
      "90534 blobs identified.\n",
      "Save blob coords: 4.48\n",
      "Save blob masks: 9.77\n",
      "Save blob contours, save: 14.59\n",
      "Compute blob properties, save: 18.69\n",
      "Processing section: 260\n"
     ]
    },
    {
     "name": "stdout",
     "output_type": "stream",
     "text": [
      "cp /oasis/projects/nsf/csd395/yuncong/CSHL_data_processed/MD594/MD594_lossless_unsorted_alignedTo_MD594-IHC58-2015.08.26-18.48.50_MD594_1_0172_cropped_compressed/MD594-IHC57-2015.08.26-18.45.01_MD594_2_0170_lossless_alignedTo_MD594-IHC58-2015.08.26-18.48.50_MD594_1_0172_cropped_compressed.jpg /home/yuncong/csd395/CSHL_cells_v2/detected_cells/MD594/MD594-IHC57-2015.08.26-18.45.01_MD594_2_0170/MD594-IHC57-2015.08.26-18.45.01_MD594_2_0170_image.jpg\n"
     ]
    },
    {
     "name": "stderr",
     "output_type": "stream",
     "text": [
      "Child returned 0\n",
      "Load mask: 10.01\n",
      "regionprops: 2.75\n",
      "90117 blobs identified.\n",
      "Save blob coords: 4.51\n",
      "Save blob masks: 9.72\n",
      "Save blob contours, save: 14.80\n",
      "Compute blob properties, save: 18.97\n",
      "Processing section: 262\n"
     ]
    },
    {
     "name": "stdout",
     "output_type": "stream",
     "text": [
      "cp /oasis/projects/nsf/csd395/yuncong/CSHL_data_processed/MD594/MD594_lossless_unsorted_alignedTo_MD594-IHC58-2015.08.26-18.48.50_MD594_1_0172_cropped_compressed/MD594-IHC58-2015.08.26-18.48.50_MD594_1_0172_lossless_alignedTo_MD594-IHC58-2015.08.26-18.48.50_MD594_1_0172_cropped_compressed.jpg /home/yuncong/csd395/CSHL_cells_v2/detected_cells/MD594/MD594-IHC58-2015.08.26-18.48.50_MD594_1_0172/MD594-IHC58-2015.08.26-18.48.50_MD594_1_0172_image.jpg\n"
     ]
    },
    {
     "name": "stderr",
     "output_type": "stream",
     "text": [
      "Child returned 0\n",
      "Load mask: 9.98\n",
      "regionprops: 2.80\n",
      "91959 blobs identified.\n",
      "Save blob coords: 4.74\n",
      "Save blob masks: 10.10\n",
      "Save blob contours, save: 15.35\n",
      "Compute blob properties, save: 20.08\n",
      "Processing section: 263\n"
     ]
    },
    {
     "name": "stdout",
     "output_type": "stream",
     "text": [
      "cp /oasis/projects/nsf/csd395/yuncong/CSHL_data_processed/MD594/MD594_lossless_unsorted_alignedTo_MD594-IHC58-2015.08.26-18.48.50_MD594_1_0172_cropped_compressed/MD594-N58-2015.08.27-00.19.01_MD594_2_0173_lossless_alignedTo_MD594-IHC58-2015.08.26-18.48.50_MD594_1_0172_cropped_compressed.jpg /home/yuncong/csd395/CSHL_cells_v2/detected_cells/MD594/MD594-N58-2015.08.27-00.19.01_MD594_2_0173/MD594-N58-2015.08.27-00.19.01_MD594_2_0173_image.jpg\n"
     ]
    },
    {
     "name": "stderr",
     "output_type": "stream",
     "text": [
      "Child returned 0\n",
      "Load mask: 9.96\n",
      "regionprops: 2.38\n",
      "88612 blobs identified.\n",
      "Save blob coords: 4.42\n",
      "Save blob masks: 9.64\n",
      "Save blob contours, save: 14.36\n",
      "Compute blob properties, save: 18.37\n",
      "Processing section: 264\n"
     ]
    },
    {
     "name": "stdout",
     "output_type": "stream",
     "text": [
      "cp /oasis/projects/nsf/csd395/yuncong/CSHL_data_processed/MD594/MD594_lossless_unsorted_alignedTo_MD594-IHC58-2015.08.26-18.48.50_MD594_1_0172_cropped_compressed/MD594-IHC58-2015.08.26-18.48.50_MD594_2_0173_lossless_alignedTo_MD594-IHC58-2015.08.26-18.48.50_MD594_1_0172_cropped_compressed.jpg /home/yuncong/csd395/CSHL_cells_v2/detected_cells/MD594/MD594-IHC58-2015.08.26-18.48.50_MD594_2_0173/MD594-IHC58-2015.08.26-18.48.50_MD594_2_0173_image.jpg\n"
     ]
    },
    {
     "name": "stderr",
     "output_type": "stream",
     "text": [
      "Child returned 0\n",
      "Load mask: 10.02\n",
      "regionprops: 2.71\n",
      "90522 blobs identified.\n",
      "Save blob coords: 4.53\n",
      "Save blob masks: 9.77\n",
      "Save blob contours, save: 14.97\n",
      "Compute blob properties, save: 19.21\n",
      "Processing section: 265\n"
     ]
    },
    {
     "name": "stdout",
     "output_type": "stream",
     "text": [
      "cp /oasis/projects/nsf/csd395/yuncong/CSHL_data_processed/MD594/MD594_lossless_unsorted_alignedTo_MD594-IHC58-2015.08.26-18.48.50_MD594_1_0172_cropped_compressed/MD594-N59-2015.08.27-00.23.42_MD594_1_0175_lossless_alignedTo_MD594-IHC58-2015.08.26-18.48.50_MD594_1_0172_cropped_compressed.jpg /home/yuncong/csd395/CSHL_cells_v2/detected_cells/MD594/MD594-N59-2015.08.27-00.23.42_MD594_1_0175/MD594-N59-2015.08.27-00.23.42_MD594_1_0175_image.jpg\n"
     ]
    },
    {
     "name": "stderr",
     "output_type": "stream",
     "text": [
      "Child returned 0\n",
      "Load mask: 9.97\n",
      "regionprops: 2.86\n",
      "89964 blobs identified.\n",
      "Save blob coords: 4.53\n",
      "Save blob masks: 9.70\n",
      "Save blob contours, save: 14.86\n",
      "Compute blob properties, save: 18.90\n",
      "Processing section: 266\n"
     ]
    },
    {
     "name": "stdout",
     "output_type": "stream",
     "text": [
      "cp /oasis/projects/nsf/csd395/yuncong/CSHL_data_processed/MD594/MD594_lossless_unsorted_alignedTo_MD594-IHC58-2015.08.26-18.48.50_MD594_1_0172_cropped_compressed/MD594-IHC59-2015.08.26-18.52.40_MD594_1_0175_lossless_alignedTo_MD594-IHC58-2015.08.26-18.48.50_MD594_1_0172_cropped_compressed.jpg /home/yuncong/csd395/CSHL_cells_v2/detected_cells/MD594/MD594-IHC59-2015.08.26-18.52.40_MD594_1_0175/MD594-IHC59-2015.08.26-18.52.40_MD594_1_0175_image.jpg\n"
     ]
    },
    {
     "name": "stderr",
     "output_type": "stream",
     "text": [
      "Child returned 0\n",
      "Load mask: 9.98\n",
      "regionprops: 2.74\n",
      "89420 blobs identified.\n",
      "Save blob coords: 4.79\n",
      "Save blob masks: 9.62\n",
      "Save blob contours, save: 14.81\n",
      "Compute blob properties, save: 19.30\n",
      "Processing section: 267\n"
     ]
    },
    {
     "name": "stdout",
     "output_type": "stream",
     "text": [
      "cp /oasis/projects/nsf/csd395/yuncong/CSHL_data_processed/MD594/MD594_lossless_unsorted_alignedTo_MD594-IHC58-2015.08.26-18.48.50_MD594_1_0172_cropped_compressed/MD594-N59-2015.08.27-00.23.42_MD594_2_0176_lossless_alignedTo_MD594-IHC58-2015.08.26-18.48.50_MD594_1_0172_cropped_compressed.jpg /home/yuncong/csd395/CSHL_cells_v2/detected_cells/MD594/MD594-N59-2015.08.27-00.23.42_MD594_2_0176/MD594-N59-2015.08.27-00.23.42_MD594_2_0176_image.jpg\n"
     ]
    },
    {
     "name": "stderr",
     "output_type": "stream",
     "text": [
      "Child returned 0\n",
      "Load mask: 10.20\n",
      "regionprops: 2.34\n",
      "89510 blobs identified.\n",
      "Save blob coords: 4.48\n",
      "Save blob masks: 10.05\n",
      "Save blob contours, save: 14.60\n",
      "Compute blob properties, save: 18.75\n",
      "Processing section: 268\n"
     ]
    },
    {
     "name": "stdout",
     "output_type": "stream",
     "text": [
      "cp /oasis/projects/nsf/csd395/yuncong/CSHL_data_processed/MD594/MD594_lossless_unsorted_alignedTo_MD594-IHC58-2015.08.26-18.48.50_MD594_1_0172_cropped_compressed/MD594-IHC59-2015.08.26-18.52.40_MD594_2_0176_lossless_alignedTo_MD594-IHC58-2015.08.26-18.48.50_MD594_1_0172_cropped_compressed.jpg /home/yuncong/csd395/CSHL_cells_v2/detected_cells/MD594/MD594-IHC59-2015.08.26-18.52.40_MD594_2_0176/MD594-IHC59-2015.08.26-18.52.40_MD594_2_0176_image.jpg\n"
     ]
    },
    {
     "name": "stderr",
     "output_type": "stream",
     "text": [
      "Child returned 0\n",
      "Load mask: 9.98\n",
      "regionprops: 2.82\n",
      "89647 blobs identified.\n",
      "Save blob coords: 4.51\n",
      "Save blob masks: 9.65\n",
      "Save blob contours, save: 15.01\n",
      "Compute blob properties, save: 19.37\n",
      "Processing section: 269\n"
     ]
    },
    {
     "name": "stdout",
     "output_type": "stream",
     "text": [
      "cp /oasis/projects/nsf/csd395/yuncong/CSHL_data_processed/MD594/MD594_lossless_unsorted_alignedTo_MD594-IHC58-2015.08.26-18.48.50_MD594_1_0172_cropped_compressed/MD594-N60-2015.08.27-00.27.50_MD594_1_0178_lossless_alignedTo_MD594-IHC58-2015.08.26-18.48.50_MD594_1_0172_cropped_compressed.jpg /home/yuncong/csd395/CSHL_cells_v2/detected_cells/MD594/MD594-N60-2015.08.27-00.27.50_MD594_1_0178/MD594-N60-2015.08.27-00.27.50_MD594_1_0178_image.jpg\n"
     ]
    },
    {
     "name": "stderr",
     "output_type": "stream",
     "text": [
      "Child returned 0\n",
      "Load mask: 10.11\n",
      "regionprops: 2.87\n",
      "91040 blobs identified.\n",
      "Save blob coords: 4.56\n",
      "Save blob masks: 9.83\n",
      "Save blob contours, save: 15.12\n",
      "Compute blob properties, save: 18.79\n",
      "Processing section: 270\n"
     ]
    },
    {
     "name": "stdout",
     "output_type": "stream",
     "text": [
      "cp /oasis/projects/nsf/csd395/yuncong/CSHL_data_processed/MD594/MD594_lossless_unsorted_alignedTo_MD594-IHC58-2015.08.26-18.48.50_MD594_1_0172_cropped_compressed/MD594-IHC60-2015.08.26-18.56.37_MD594_1_0178_lossless_alignedTo_MD594-IHC58-2015.08.26-18.48.50_MD594_1_0172_cropped_compressed.jpg /home/yuncong/csd395/CSHL_cells_v2/detected_cells/MD594/MD594-IHC60-2015.08.26-18.56.37_MD594_1_0178/MD594-IHC60-2015.08.26-18.56.37_MD594_1_0178_image.jpg\n"
     ]
    },
    {
     "name": "stderr",
     "output_type": "stream",
     "text": [
      "Child returned 0\n",
      "Load mask: 10.14\n",
      "regionprops: 2.79\n",
      "89023 blobs identified.\n",
      "Save blob coords: 4.46\n",
      "Save blob masks: 9.60\n",
      "Save blob contours, save: 14.47\n",
      "Compute blob properties, save: 19.27\n",
      "Processing section: 271\n"
     ]
    },
    {
     "name": "stdout",
     "output_type": "stream",
     "text": [
      "cp /oasis/projects/nsf/csd395/yuncong/CSHL_data_processed/MD594/MD594_lossless_unsorted_alignedTo_MD594-IHC58-2015.08.26-18.48.50_MD594_1_0172_cropped_compressed/MD594-N60-2015.08.27-00.27.50_MD594_2_0179_lossless_alignedTo_MD594-IHC58-2015.08.26-18.48.50_MD594_1_0172_cropped_compressed.jpg /home/yuncong/csd395/CSHL_cells_v2/detected_cells/MD594/MD594-N60-2015.08.27-00.27.50_MD594_2_0179/MD594-N60-2015.08.27-00.27.50_MD594_2_0179_image.jpg\n"
     ]
    },
    {
     "name": "stderr",
     "output_type": "stream",
     "text": [
      "Child returned 0\n",
      "Load mask: 10.06\n",
      "regionprops: 2.31\n",
      "89204 blobs identified.\n",
      "Save blob coords: 4.47\n",
      "Save blob masks: 9.89\n",
      "Save blob contours, save: 14.67\n",
      "Compute blob properties, save: 18.99\n",
      "Processing section: 272\n"
     ]
    },
    {
     "name": "stdout",
     "output_type": "stream",
     "text": [
      "cp /oasis/projects/nsf/csd395/yuncong/CSHL_data_processed/MD594/MD594_lossless_unsorted_alignedTo_MD594-IHC58-2015.08.26-18.48.50_MD594_1_0172_cropped_compressed/MD594-IHC60-2015.08.26-18.56.37_MD594_2_0179_lossless_alignedTo_MD594-IHC58-2015.08.26-18.48.50_MD594_1_0172_cropped_compressed.jpg /home/yuncong/csd395/CSHL_cells_v2/detected_cells/MD594/MD594-IHC60-2015.08.26-18.56.37_MD594_2_0179/MD594-IHC60-2015.08.26-18.56.37_MD594_2_0179_image.jpg\n"
     ]
    },
    {
     "name": "stderr",
     "output_type": "stream",
     "text": [
      "Child returned 0\n",
      "Load mask: 10.15\n",
      "regionprops: 2.28\n",
      "89793 blobs identified.\n",
      "Save blob coords: 4.57\n",
      "Save blob masks: 9.92\n",
      "Save blob contours, save: 14.71\n",
      "Compute blob properties, save: 18.99\n",
      "Processing section: 273\n"
     ]
    },
    {
     "name": "stdout",
     "output_type": "stream",
     "text": [
      "cp /oasis/projects/nsf/csd395/yuncong/CSHL_data_processed/MD594/MD594_lossless_unsorted_alignedTo_MD594-IHC58-2015.08.26-18.48.50_MD594_1_0172_cropped_compressed/MD594-N61-2015.08.27-00.31.50_MD594_1_0181_lossless_alignedTo_MD594-IHC58-2015.08.26-18.48.50_MD594_1_0172_cropped_compressed.jpg /home/yuncong/csd395/CSHL_cells_v2/detected_cells/MD594/MD594-N61-2015.08.27-00.31.50_MD594_1_0181/MD594-N61-2015.08.27-00.31.50_MD594_1_0181_image.jpg\n"
     ]
    },
    {
     "name": "stderr",
     "output_type": "stream",
     "text": [
      "Child returned 0\n",
      "Load mask: 10.13\n",
      "regionprops: 2.78\n",
      "88858 blobs identified.\n",
      "Save blob coords: 4.59\n",
      "Save blob masks: 9.61\n",
      "Save blob contours, save: 14.82\n",
      "Compute blob properties, save: 19.55\n",
      "Processing section: 274\n"
     ]
    },
    {
     "name": "stdout",
     "output_type": "stream",
     "text": [
      "cp /oasis/projects/nsf/csd395/yuncong/CSHL_data_processed/MD594/MD594_lossless_unsorted_alignedTo_MD594-IHC58-2015.08.26-18.48.50_MD594_1_0172_cropped_compressed/MD594-IHC61-2015.08.26-19.00.29_MD594_1_0181_lossless_alignedTo_MD594-IHC58-2015.08.26-18.48.50_MD594_1_0172_cropped_compressed.jpg /home/yuncong/csd395/CSHL_cells_v2/detected_cells/MD594/MD594-IHC61-2015.08.26-19.00.29_MD594_1_0181/MD594-IHC61-2015.08.26-19.00.29_MD594_1_0181_image.jpg\n"
     ]
    },
    {
     "name": "stderr",
     "output_type": "stream",
     "text": [
      "Child returned 0\n",
      "Load mask: 10.11\n",
      "regionprops: 2.27\n",
      "87030 blobs identified.\n",
      "Save blob coords: 4.45\n",
      "Save blob masks: 9.53\n",
      "Save blob contours, save: 14.90\n",
      "Compute blob properties, save: 18.77\n",
      "Processing section: 275\n"
     ]
    },
    {
     "name": "stdout",
     "output_type": "stream",
     "text": [
      "cp /oasis/projects/nsf/csd395/yuncong/CSHL_data_processed/MD594/MD594_lossless_unsorted_alignedTo_MD594-IHC58-2015.08.26-18.48.50_MD594_1_0172_cropped_compressed/MD594-N61-2015.08.27-00.31.50_MD594_2_0182_lossless_alignedTo_MD594-IHC58-2015.08.26-18.48.50_MD594_1_0172_cropped_compressed.jpg /home/yuncong/csd395/CSHL_cells_v2/detected_cells/MD594/MD594-N61-2015.08.27-00.31.50_MD594_2_0182/MD594-N61-2015.08.27-00.31.50_MD594_2_0182_image.jpg\n"
     ]
    },
    {
     "name": "stderr",
     "output_type": "stream",
     "text": [
      "Child returned 0\n",
      "Load mask: 10.11\n",
      "regionprops: 2.77\n",
      "90107 blobs identified.\n",
      "Save blob coords: 4.58\n",
      "Save blob masks: 9.82\n",
      "Save blob contours, save: 15.04\n",
      "Compute blob properties, save: 19.28\n",
      "Processing section: 276\n"
     ]
    },
    {
     "name": "stdout",
     "output_type": "stream",
     "text": [
      "cp /oasis/projects/nsf/csd395/yuncong/CSHL_data_processed/MD594/MD594_lossless_unsorted_alignedTo_MD594-IHC58-2015.08.26-18.48.50_MD594_1_0172_cropped_compressed/MD594-IHC61-2015.08.26-19.00.29_MD594_2_0182_lossless_alignedTo_MD594-IHC58-2015.08.26-18.48.50_MD594_1_0172_cropped_compressed.jpg /home/yuncong/csd395/CSHL_cells_v2/detected_cells/MD594/MD594-IHC61-2015.08.26-19.00.29_MD594_2_0182/MD594-IHC61-2015.08.26-19.00.29_MD594_2_0182_image.jpg\n"
     ]
    },
    {
     "name": "stderr",
     "output_type": "stream",
     "text": [
      "Child returned 0\n",
      "Load mask: 10.15\n",
      "regionprops: 2.30\n",
      "87740 blobs identified.\n",
      "Save blob coords: 4.50\n",
      "Save blob masks: 9.70\n",
      "Save blob contours, save: 14.58\n",
      "Compute blob properties, save: 18.51\n",
      "Processing section: 277\n"
     ]
    },
    {
     "name": "stdout",
     "output_type": "stream",
     "text": [
      "cp /oasis/projects/nsf/csd395/yuncong/CSHL_data_processed/MD594/MD594_lossless_unsorted_alignedTo_MD594-IHC58-2015.08.26-18.48.50_MD594_1_0172_cropped_compressed/MD594-N62-2015.08.27-00.35.50_MD594_1_0184_lossless_alignedTo_MD594-IHC58-2015.08.26-18.48.50_MD594_1_0172_cropped_compressed.jpg /home/yuncong/csd395/CSHL_cells_v2/detected_cells/MD594/MD594-N62-2015.08.27-00.35.50_MD594_1_0184/MD594-N62-2015.08.27-00.35.50_MD594_1_0184_image.jpg\n"
     ]
    },
    {
     "name": "stderr",
     "output_type": "stream",
     "text": [
      "Child returned 0\n",
      "Load mask: 10.07\n",
      "regionprops: 2.72\n",
      "88016 blobs identified.\n",
      "Save blob coords: 4.53\n",
      "Save blob masks: 9.50\n",
      "Save blob contours, save: 14.83\n",
      "Compute blob properties, save: 18.98\n",
      "Processing section: 278\n"
     ]
    },
    {
     "name": "stdout",
     "output_type": "stream",
     "text": [
      "cp /oasis/projects/nsf/csd395/yuncong/CSHL_data_processed/MD594/MD594_lossless_unsorted_alignedTo_MD594-IHC58-2015.08.26-18.48.50_MD594_1_0172_cropped_compressed/MD594-IHC62-2015.08.26-19.04.18_MD594_1_0184_lossless_alignedTo_MD594-IHC58-2015.08.26-18.48.50_MD594_1_0172_cropped_compressed.jpg /home/yuncong/csd395/CSHL_cells_v2/detected_cells/MD594/MD594-IHC62-2015.08.26-19.04.18_MD594_1_0184/MD594-IHC62-2015.08.26-19.04.18_MD594_1_0184_image.jpg\n"
     ]
    },
    {
     "name": "stderr",
     "output_type": "stream",
     "text": [
      "Child returned 0\n",
      "Load mask: 10.14\n",
      "regionprops: 2.27\n",
      "88534 blobs identified.\n",
      "Save blob coords: 4.56\n",
      "Save blob masks: 9.82\n",
      "Save blob contours, save: 14.66\n",
      "Compute blob properties, save: 18.99\n",
      "Processing section: 279\n"
     ]
    },
    {
     "name": "stdout",
     "output_type": "stream",
     "text": [
      "cp /oasis/projects/nsf/csd395/yuncong/CSHL_data_processed/MD594/MD594_lossless_unsorted_alignedTo_MD594-IHC58-2015.08.26-18.48.50_MD594_1_0172_cropped_compressed/MD594-N62-2015.08.27-00.35.50_MD594_2_0185_lossless_alignedTo_MD594-IHC58-2015.08.26-18.48.50_MD594_1_0172_cropped_compressed.jpg /home/yuncong/csd395/CSHL_cells_v2/detected_cells/MD594/MD594-N62-2015.08.27-00.35.50_MD594_2_0185/MD594-N62-2015.08.27-00.35.50_MD594_2_0185_image.jpg\n"
     ]
    },
    {
     "name": "stderr",
     "output_type": "stream",
     "text": [
      "Child returned 0\n",
      "Load mask: 10.07\n",
      "regionprops: 2.80\n",
      "86047 blobs identified.\n",
      "Save blob coords: 4.46\n",
      "Save blob masks: 9.37\n",
      "Save blob contours, save: 14.25\n",
      "Compute blob properties, save: 18.62\n",
      "Processing section: 280\n"
     ]
    },
    {
     "name": "stdout",
     "output_type": "stream",
     "text": [
      "cp /oasis/projects/nsf/csd395/yuncong/CSHL_data_processed/MD594/MD594_lossless_unsorted_alignedTo_MD594-IHC58-2015.08.26-18.48.50_MD594_1_0172_cropped_compressed/MD594-IHC62-2015.08.26-19.04.18_MD594_2_0185_lossless_alignedTo_MD594-IHC58-2015.08.26-18.48.50_MD594_1_0172_cropped_compressed.jpg /home/yuncong/csd395/CSHL_cells_v2/detected_cells/MD594/MD594-IHC62-2015.08.26-19.04.18_MD594_2_0185/MD594-IHC62-2015.08.26-19.04.18_MD594_2_0185_image.jpg\n"
     ]
    },
    {
     "name": "stderr",
     "output_type": "stream",
     "text": [
      "Child returned 0\n",
      "Load mask: 10.11\n",
      "regionprops: 2.30\n",
      "88194 blobs identified.\n",
      "Save blob coords: 4.69\n",
      "Save blob masks: 9.95\n",
      "Save blob contours, save: 14.69\n",
      "Compute blob properties, save: 18.87\n",
      "Processing section: 281\n"
     ]
    },
    {
     "name": "stdout",
     "output_type": "stream",
     "text": [
      "cp /oasis/projects/nsf/csd395/yuncong/CSHL_data_processed/MD594/MD594_lossless_unsorted_alignedTo_MD594-IHC58-2015.08.26-18.48.50_MD594_1_0172_cropped_compressed/MD594-N63-2015.08.27-00.39.46_MD594_1_0187_lossless_alignedTo_MD594-IHC58-2015.08.26-18.48.50_MD594_1_0172_cropped_compressed.jpg /home/yuncong/csd395/CSHL_cells_v2/detected_cells/MD594/MD594-N63-2015.08.27-00.39.46_MD594_1_0187/MD594-N63-2015.08.27-00.39.46_MD594_1_0187_image.jpg\n"
     ]
    },
    {
     "name": "stderr",
     "output_type": "stream",
     "text": [
      "Child returned 0\n",
      "Load mask: 10.11\n",
      "regionprops: 2.75\n",
      "86834 blobs identified.\n",
      "Save blob coords: 4.70\n",
      "Save blob masks: 9.42\n",
      "Save blob contours, save: 14.31\n",
      "Compute blob properties, save: 18.77\n",
      "Processing section: 282\n"
     ]
    },
    {
     "name": "stdout",
     "output_type": "stream",
     "text": [
      "cp /oasis/projects/nsf/csd395/yuncong/CSHL_data_processed/MD594/MD594_lossless_unsorted_alignedTo_MD594-IHC58-2015.08.26-18.48.50_MD594_1_0172_cropped_compressed/MD594-IHC63-2015.08.26-19.08.03_MD594_1_0187_lossless_alignedTo_MD594-IHC58-2015.08.26-18.48.50_MD594_1_0172_cropped_compressed.jpg /home/yuncong/csd395/CSHL_cells_v2/detected_cells/MD594/MD594-IHC63-2015.08.26-19.08.03_MD594_1_0187/MD594-IHC63-2015.08.26-19.08.03_MD594_1_0187_image.jpg\n"
     ]
    },
    {
     "name": "stderr",
     "output_type": "stream",
     "text": [
      "Child returned 0\n",
      "Load mask: 10.13\n",
      "regionprops: 2.29\n",
      "85543 blobs identified.\n",
      "Save blob coords: 4.34\n",
      "Save blob masks: 9.50\n",
      "Save blob contours, save: 14.15\n",
      "Compute blob properties, save: 18.30\n",
      "Processing section: 283\n"
     ]
    },
    {
     "name": "stdout",
     "output_type": "stream",
     "text": [
      "cp /oasis/projects/nsf/csd395/yuncong/CSHL_data_processed/MD594/MD594_lossless_unsorted_alignedTo_MD594-IHC58-2015.08.26-18.48.50_MD594_1_0172_cropped_compressed/MD594-N63-2015.08.27-00.39.46_MD594_2_0188_lossless_alignedTo_MD594-IHC58-2015.08.26-18.48.50_MD594_1_0172_cropped_compressed.jpg /home/yuncong/csd395/CSHL_cells_v2/detected_cells/MD594/MD594-N63-2015.08.27-00.39.46_MD594_2_0188/MD594-N63-2015.08.27-00.39.46_MD594_2_0188_image.jpg\n"
     ]
    },
    {
     "name": "stderr",
     "output_type": "stream",
     "text": [
      "Child returned 0\n",
      "Load mask: 10.13\n",
      "regionprops: 2.74\n",
      "85421 blobs identified.\n",
      "Save blob coords: 4.33\n",
      "Save blob masks: 9.20\n",
      "Save blob contours, save: 14.27\n",
      "Compute blob properties, save: 17.83\n",
      "Processing section: 284\n"
     ]
    },
    {
     "name": "stdout",
     "output_type": "stream",
     "text": [
      "cp /oasis/projects/nsf/csd395/yuncong/CSHL_data_processed/MD594/MD594_lossless_unsorted_alignedTo_MD594-IHC58-2015.08.26-18.48.50_MD594_1_0172_cropped_compressed/MD594-IHC63-2015.08.26-19.08.03_MD594_2_0188_lossless_alignedTo_MD594-IHC58-2015.08.26-18.48.50_MD594_1_0172_cropped_compressed.jpg /home/yuncong/csd395/CSHL_cells_v2/detected_cells/MD594/MD594-IHC63-2015.08.26-19.08.03_MD594_2_0188/MD594-IHC63-2015.08.26-19.08.03_MD594_2_0188_image.jpg\n"
     ]
    },
    {
     "name": "stderr",
     "output_type": "stream",
     "text": [
      "Child returned 0\n",
      "Load mask: 10.08\n",
      "regionprops: 2.71\n",
      "84773 blobs identified.\n",
      "Save blob coords: 4.31\n",
      "Save blob masks: 9.15\n",
      "Save blob contours, save: 14.26\n",
      "Compute blob properties, save: 18.50\n",
      "Processing section: 285\n"
     ]
    },
    {
     "name": "stdout",
     "output_type": "stream",
     "text": [
      "cp /oasis/projects/nsf/csd395/yuncong/CSHL_data_processed/MD594/MD594_lossless_unsorted_alignedTo_MD594-IHC58-2015.08.26-18.48.50_MD594_1_0172_cropped_compressed/MD594-N64-2015.08.27-00.43.47_MD594_1_0190_lossless_alignedTo_MD594-IHC58-2015.08.26-18.48.50_MD594_1_0172_cropped_compressed.jpg /home/yuncong/csd395/CSHL_cells_v2/detected_cells/MD594/MD594-N64-2015.08.27-00.43.47_MD594_1_0190/MD594-N64-2015.08.27-00.43.47_MD594_1_0190_image.jpg\n"
     ]
    },
    {
     "name": "stderr",
     "output_type": "stream",
     "text": [
      "Child returned 0\n",
      "Load mask: 10.11\n",
      "regionprops: 2.28\n",
      "84642 blobs identified.\n",
      "Save blob coords: 4.42\n",
      "Save blob masks: 9.46\n",
      "Save blob contours, save: 14.08\n",
      "Compute blob properties, save: 18.29\n",
      "Processing section: 286\n"
     ]
    },
    {
     "name": "stdout",
     "output_type": "stream",
     "text": [
      "cp /oasis/projects/nsf/csd395/yuncong/CSHL_data_processed/MD594/MD594_lossless_unsorted_alignedTo_MD594-IHC58-2015.08.26-18.48.50_MD594_1_0172_cropped_compressed/MD594-IHC64-2015.08.26-19.11.52_MD594_1_0190_lossless_alignedTo_MD594-IHC58-2015.08.26-18.48.50_MD594_1_0172_cropped_compressed.jpg /home/yuncong/csd395/CSHL_cells_v2/detected_cells/MD594/MD594-IHC64-2015.08.26-19.11.52_MD594_1_0190/MD594-IHC64-2015.08.26-19.11.52_MD594_1_0190_image.jpg\n"
     ]
    },
    {
     "name": "stderr",
     "output_type": "stream",
     "text": [
      "Child returned 0\n",
      "Load mask: 10.34\n",
      "regionprops: 2.25\n",
      "84191 blobs identified.\n",
      "Save blob coords: 4.33\n",
      "Save blob masks: 9.36\n",
      "Save blob contours, save: 13.68\n",
      "Compute blob properties, save: 18.10\n",
      "Processing section: 287\n"
     ]
    },
    {
     "name": "stdout",
     "output_type": "stream",
     "text": [
      "cp /oasis/projects/nsf/csd395/yuncong/CSHL_data_processed/MD594/MD594_lossless_unsorted_alignedTo_MD594-IHC58-2015.08.26-18.48.50_MD594_1_0172_cropped_compressed/MD594-N64-2015.08.27-00.43.47_MD594_2_0191_lossless_alignedTo_MD594-IHC58-2015.08.26-18.48.50_MD594_1_0172_cropped_compressed.jpg /home/yuncong/csd395/CSHL_cells_v2/detected_cells/MD594/MD594-N64-2015.08.27-00.43.47_MD594_2_0191/MD594-N64-2015.08.27-00.43.47_MD594_2_0191_image.jpg\n"
     ]
    },
    {
     "name": "stderr",
     "output_type": "stream",
     "text": [
      "Child returned 0\n",
      "Load mask: 10.09\n",
      "regionprops: 2.21\n",
      "84614 blobs identified.\n",
      "Save blob coords: 4.40\n",
      "Save blob masks: 9.35\n",
      "Save blob contours, save: 13.72\n",
      "Compute blob properties, save: 18.46\n",
      "Processing section: 288\n"
     ]
    },
    {
     "name": "stdout",
     "output_type": "stream",
     "text": [
      "cp /oasis/projects/nsf/csd395/yuncong/CSHL_data_processed/MD594/MD594_lossless_unsorted_alignedTo_MD594-IHC58-2015.08.26-18.48.50_MD594_1_0172_cropped_compressed/MD594-IHC64-2015.08.26-19.11.52_MD594_2_0191_lossless_alignedTo_MD594-IHC58-2015.08.26-18.48.50_MD594_1_0172_cropped_compressed.jpg /home/yuncong/csd395/CSHL_cells_v2/detected_cells/MD594/MD594-IHC64-2015.08.26-19.11.52_MD594_2_0191/MD594-IHC64-2015.08.26-19.11.52_MD594_2_0191_image.jpg\n"
     ]
    },
    {
     "name": "stderr",
     "output_type": "stream",
     "text": [
      "Child returned 0\n",
      "Load mask: 9.99\n",
      "regionprops: 2.28\n",
      "84837 blobs identified.\n",
      "Save blob coords: 4.63\n",
      "Save blob masks: 9.73\n",
      "Save blob contours, save: 14.15\n",
      "Compute blob properties, save: 18.27\n",
      "Processing section: 289\n"
     ]
    },
    {
     "name": "stdout",
     "output_type": "stream",
     "text": [
      "cp /oasis/projects/nsf/csd395/yuncong/CSHL_data_processed/MD594/MD594_lossless_unsorted_alignedTo_MD594-IHC58-2015.08.26-18.48.50_MD594_1_0172_cropped_compressed/MD594-N65-2015.08.27-00.47.47_MD594_1_0193_lossless_alignedTo_MD594-IHC58-2015.08.26-18.48.50_MD594_1_0172_cropped_compressed.jpg /home/yuncong/csd395/CSHL_cells_v2/detected_cells/MD594/MD594-N65-2015.08.27-00.47.47_MD594_1_0193/MD594-N65-2015.08.27-00.47.47_MD594_1_0193_image.jpg\n"
     ]
    },
    {
     "name": "stderr",
     "output_type": "stream",
     "text": [
      "Child returned 0\n",
      "Load mask: 10.09\n",
      "regionprops: 2.62\n",
      "67459 blobs identified.\n",
      "Save blob coords: 3.50\n",
      "Save blob masks: 7.29\n",
      "Save blob contours, save: 11.70\n",
      "Compute blob properties, save: 14.53\n",
      "Processing section: 290\n"
     ]
    },
    {
     "name": "stdout",
     "output_type": "stream",
     "text": [
      "cp /oasis/projects/nsf/csd395/yuncong/CSHL_data_processed/MD594/MD594_lossless_unsorted_alignedTo_MD594-IHC58-2015.08.26-18.48.50_MD594_1_0172_cropped_compressed/MD594-IHC65-2015.08.26-19.15.27_MD594_1_0193_lossless_alignedTo_MD594-IHC58-2015.08.26-18.48.50_MD594_1_0172_cropped_compressed.jpg /home/yuncong/csd395/CSHL_cells_v2/detected_cells/MD594/MD594-IHC65-2015.08.26-19.15.27_MD594_1_0193/MD594-IHC65-2015.08.26-19.15.27_MD594_1_0193_image.jpg\n"
     ]
    },
    {
     "name": "stderr",
     "output_type": "stream",
     "text": [
      "Child returned 0\n",
      "Load mask: 10.13\n",
      "regionprops: 2.54\n",
      "79012 blobs identified.\n",
      "Save blob coords: 4.15\n",
      "Save blob masks: 8.67\n",
      "Save blob contours, save: 13.38\n",
      "Compute blob properties, save: 17.11\n",
      "Processing section: 291\n"
     ]
    },
    {
     "name": "stdout",
     "output_type": "stream",
     "text": [
      "cp /oasis/projects/nsf/csd395/yuncong/CSHL_data_processed/MD594/MD594_lossless_unsorted_alignedTo_MD594-IHC58-2015.08.26-18.48.50_MD594_1_0172_cropped_compressed/MD594-N65-2015.08.27-00.47.47_MD594_2_0194_lossless_alignedTo_MD594-IHC58-2015.08.26-18.48.50_MD594_1_0172_cropped_compressed.jpg /home/yuncong/csd395/CSHL_cells_v2/detected_cells/MD594/MD594-N65-2015.08.27-00.47.47_MD594_2_0194/MD594-N65-2015.08.27-00.47.47_MD594_2_0194_image.jpg\n"
     ]
    },
    {
     "name": "stderr",
     "output_type": "stream",
     "text": [
      "Child returned 0\n",
      "Load mask: 10.12\n",
      "regionprops: 2.69\n",
      "79461 blobs identified.\n",
      "Save blob coords: 4.13\n",
      "Save blob masks: 8.65\n",
      "Save blob contours, save: 13.40\n",
      "Compute blob properties, save: 16.94\n",
      "Processing section: 292\n"
     ]
    },
    {
     "name": "stdout",
     "output_type": "stream",
     "text": [
      "cp /oasis/projects/nsf/csd395/yuncong/CSHL_data_processed/MD594/MD594_lossless_unsorted_alignedTo_MD594-IHC58-2015.08.26-18.48.50_MD594_1_0172_cropped_compressed/MD594-IHC65-2015.08.26-19.15.27_MD594_2_0194_lossless_alignedTo_MD594-IHC58-2015.08.26-18.48.50_MD594_1_0172_cropped_compressed.jpg /home/yuncong/csd395/CSHL_cells_v2/detected_cells/MD594/MD594-IHC65-2015.08.26-19.15.27_MD594_2_0194/MD594-IHC65-2015.08.26-19.15.27_MD594_2_0194_image.jpg\n"
     ]
    },
    {
     "name": "stderr",
     "output_type": "stream",
     "text": [
      "Child returned 0\n",
      "Load mask: 10.15\n",
      "regionprops: 2.61\n",
      "78953 blobs identified.\n",
      "Save blob coords: 4.13\n",
      "Save blob masks: 8.68\n",
      "Save blob contours, save: 13.24\n",
      "Compute blob properties, save: 17.51\n",
      "Processing section: 293\n"
     ]
    },
    {
     "name": "stdout",
     "output_type": "stream",
     "text": [
      "cp /oasis/projects/nsf/csd395/yuncong/CSHL_data_processed/MD594/MD594_lossless_unsorted_alignedTo_MD594-IHC58-2015.08.26-18.48.50_MD594_1_0172_cropped_compressed/MD594-N66-2015.08.27-00.51.38_MD594_1_0196_lossless_alignedTo_MD594-IHC58-2015.08.26-18.48.50_MD594_1_0172_cropped_compressed.jpg /home/yuncong/csd395/CSHL_cells_v2/detected_cells/MD594/MD594-N66-2015.08.27-00.51.38_MD594_1_0196/MD594-N66-2015.08.27-00.51.38_MD594_1_0196_image.jpg\n"
     ]
    },
    {
     "name": "stderr",
     "output_type": "stream",
     "text": [
      "Child returned 0\n",
      "Load mask: 10.14\n",
      "regionprops: 2.16\n",
      "79160 blobs identified.\n",
      "Save blob coords: 4.13\n",
      "Save blob masks: 8.87\n",
      "Save blob contours, save: 13.69\n",
      "Compute blob properties, save: 16.98\n",
      "Processing section: 294\n"
     ]
    },
    {
     "name": "stdout",
     "output_type": "stream",
     "text": [
      "cp /oasis/projects/nsf/csd395/yuncong/CSHL_data_processed/MD594/MD594_lossless_unsorted_alignedTo_MD594-IHC58-2015.08.26-18.48.50_MD594_1_0172_cropped_compressed/MD594-IHC66-2015.08.26-19.18.59_MD594_1_0196_lossless_alignedTo_MD594-IHC58-2015.08.26-18.48.50_MD594_1_0172_cropped_compressed.jpg /home/yuncong/csd395/CSHL_cells_v2/detected_cells/MD594/MD594-IHC66-2015.08.26-19.18.59_MD594_1_0196/MD594-IHC66-2015.08.26-19.18.59_MD594_1_0196_image.jpg\n"
     ]
    },
    {
     "name": "stderr",
     "output_type": "stream",
     "text": [
      "Child returned 0\n",
      "Load mask: 10.15\n",
      "regionprops: 3.19\n",
      "78312 blobs identified.\n",
      "Save blob coords: 4.20\n",
      "Save blob masks: 8.62\n",
      "Save blob contours, save: 13.24\n",
      "Compute blob properties, save: 16.84\n",
      "Processing section: 295\n"
     ]
    },
    {
     "name": "stdout",
     "output_type": "stream",
     "text": [
      "cp /oasis/projects/nsf/csd395/yuncong/CSHL_data_processed/MD594/MD594_lossless_unsorted_alignedTo_MD594-IHC58-2015.08.26-18.48.50_MD594_1_0172_cropped_compressed/MD594-N66-2015.08.27-00.51.38_MD594_2_0197_lossless_alignedTo_MD594-IHC58-2015.08.26-18.48.50_MD594_1_0172_cropped_compressed.jpg /home/yuncong/csd395/CSHL_cells_v2/detected_cells/MD594/MD594-N66-2015.08.27-00.51.38_MD594_2_0197/MD594-N66-2015.08.27-00.51.38_MD594_2_0197_image.jpg\n"
     ]
    },
    {
     "name": "stderr",
     "output_type": "stream",
     "text": [
      "Child returned 0\n",
      "Load mask: 10.14\n",
      "regionprops: 2.61\n",
      "77087 blobs identified.\n",
      "Save blob coords: 4.08\n",
      "Save blob masks: 8.43\n",
      "Save blob contours, save: 13.11\n",
      "Compute blob properties, save: 16.86\n",
      "Processing section: 296\n"
     ]
    },
    {
     "name": "stdout",
     "output_type": "stream",
     "text": [
      "cp /oasis/projects/nsf/csd395/yuncong/CSHL_data_processed/MD594/MD594_lossless_unsorted_alignedTo_MD594-IHC58-2015.08.26-18.48.50_MD594_1_0172_cropped_compressed/MD594-IHC66-2015.08.26-19.18.59_MD594_2_0197_lossless_alignedTo_MD594-IHC58-2015.08.26-18.48.50_MD594_1_0172_cropped_compressed.jpg /home/yuncong/csd395/CSHL_cells_v2/detected_cells/MD594/MD594-IHC66-2015.08.26-19.18.59_MD594_2_0197/MD594-IHC66-2015.08.26-19.18.59_MD594_2_0197_image.jpg\n"
     ]
    },
    {
     "name": "stderr",
     "output_type": "stream",
     "text": [
      "Child returned 0\n",
      "Load mask: 10.19\n",
      "regionprops: 2.18\n",
      "76759 blobs identified.\n",
      "Save blob coords: 3.99\n",
      "Save blob masks: 8.47\n",
      "Save blob contours, save: 13.20\n",
      "Compute blob properties, save: 16.60\n",
      "Processing section: 297\n"
     ]
    },
    {
     "name": "stdout",
     "output_type": "stream",
     "text": [
      "cp /oasis/projects/nsf/csd395/yuncong/CSHL_data_processed/MD594/MD594_lossless_unsorted_alignedTo_MD594-IHC58-2015.08.26-18.48.50_MD594_1_0172_cropped_compressed/MD594-N66-2015.08.27-00.51.38_MD594_3_0198_lossless_alignedTo_MD594-IHC58-2015.08.26-18.48.50_MD594_1_0172_cropped_compressed.jpg /home/yuncong/csd395/CSHL_cells_v2/detected_cells/MD594/MD594-N66-2015.08.27-00.51.38_MD594_3_0198/MD594-N66-2015.08.27-00.51.38_MD594_3_0198_image.jpg\n"
     ]
    },
    {
     "name": "stderr",
     "output_type": "stream",
     "text": [
      "Child returned 0\n",
      "Load mask: 10.12\n",
      "regionprops: 2.63\n",
      "71035 blobs identified.\n",
      "Save blob coords: 4.02\n",
      "Save blob masks: 8.01\n",
      "Save blob contours, save: 12.21\n",
      "Compute blob properties, save: 15.83\n",
      "Processing section: 298\n"
     ]
    },
    {
     "name": "stdout",
     "output_type": "stream",
     "text": [
      "cp /oasis/projects/nsf/csd395/yuncong/CSHL_data_processed/MD594/MD594_lossless_unsorted_alignedTo_MD594-IHC58-2015.08.26-18.48.50_MD594_1_0172_cropped_compressed/MD594-IHC66-2015.08.26-19.18.59_MD594_3_0198_lossless_alignedTo_MD594-IHC58-2015.08.26-18.48.50_MD594_1_0172_cropped_compressed.jpg /home/yuncong/csd395/CSHL_cells_v2/detected_cells/MD594/MD594-IHC66-2015.08.26-19.18.59_MD594_3_0198/MD594-IHC66-2015.08.26-19.18.59_MD594_3_0198_image.jpg\n"
     ]
    },
    {
     "name": "stderr",
     "output_type": "stream",
     "text": [
      "Child returned 0\n",
      "Load mask: 9.96\n",
      "regionprops: 2.52\n",
      "75767 blobs identified.\n",
      "Save blob coords: 3.97\n",
      "Save blob masks: 8.45\n",
      "Save blob contours, save: 12.72\n",
      "Compute blob properties, save: 16.17\n",
      "Processing section: 299\n"
     ]
    },
    {
     "name": "stdout",
     "output_type": "stream",
     "text": [
      "cp /oasis/projects/nsf/csd395/yuncong/CSHL_data_processed/MD594/MD594_lossless_unsorted_alignedTo_MD594-IHC58-2015.08.26-18.48.50_MD594_1_0172_cropped_compressed/MD594-N67-2015.08.27-00.56.36_MD594_1_0199_lossless_alignedTo_MD594-IHC58-2015.08.26-18.48.50_MD594_1_0172_cropped_compressed.jpg /home/yuncong/csd395/CSHL_cells_v2/detected_cells/MD594/MD594-N67-2015.08.27-00.56.36_MD594_1_0199/MD594-N67-2015.08.27-00.56.36_MD594_1_0199_image.jpg\n"
     ]
    },
    {
     "name": "stderr",
     "output_type": "stream",
     "text": [
      "Child returned 0\n",
      "Load mask: 10.14\n",
      "regionprops: 2.47\n",
      "59291 blobs identified.\n",
      "Save blob coords: 3.27\n",
      "Save blob masks: 6.64\n",
      "Save blob contours, save: 10.59\n",
      "Compute blob properties, save: 13.06\n",
      "Processing section: 300\n"
     ]
    },
    {
     "name": "stdout",
     "output_type": "stream",
     "text": [
      "cp /oasis/projects/nsf/csd395/yuncong/CSHL_data_processed/MD594/MD594_lossless_unsorted_alignedTo_MD594-IHC58-2015.08.26-18.48.50_MD594_1_0172_cropped_compressed/MD594-IHC67-2015.08.26-19.23.30_MD594_1_0199_lossless_alignedTo_MD594-IHC58-2015.08.26-18.48.50_MD594_1_0172_cropped_compressed.jpg /home/yuncong/csd395/CSHL_cells_v2/detected_cells/MD594/MD594-IHC67-2015.08.26-19.23.30_MD594_1_0199/MD594-IHC67-2015.08.26-19.23.30_MD594_1_0199_image.jpg\n"
     ]
    },
    {
     "name": "stderr",
     "output_type": "stream",
     "text": [
      "Child returned 0\n",
      "Load mask: 9.98\n",
      "regionprops: 2.06\n",
      "75017 blobs identified.\n",
      "Save blob coords: 3.99\n",
      "Save blob masks: 8.60\n",
      "Save blob contours, save: 12.85\n",
      "Compute blob properties, save: 16.17\n",
      "Processing section: 301\n"
     ]
    },
    {
     "name": "stdout",
     "output_type": "stream",
     "text": [
      "cp /oasis/projects/nsf/csd395/yuncong/CSHL_data_processed/MD594/MD594_lossless_unsorted_alignedTo_MD594-IHC58-2015.08.26-18.48.50_MD594_1_0172_cropped_compressed/MD594-N67-2015.08.27-00.56.36_MD594_2_0200_lossless_alignedTo_MD594-IHC58-2015.08.26-18.48.50_MD594_1_0172_cropped_compressed.jpg /home/yuncong/csd395/CSHL_cells_v2/detected_cells/MD594/MD594-N67-2015.08.27-00.56.36_MD594_2_0200/MD594-N67-2015.08.27-00.56.36_MD594_2_0200_image.jpg\n"
     ]
    },
    {
     "name": "stderr",
     "output_type": "stream",
     "text": [
      "Child returned 0\n",
      "Load mask: 10.14\n",
      "regionprops: 2.58\n",
      "74437 blobs identified.\n",
      "Save blob coords: 3.96\n",
      "Save blob masks: 8.17\n",
      "Save blob contours, save: 12.53\n",
      "Compute blob properties, save: 16.07\n",
      "Processing section: 302\n"
     ]
    },
    {
     "name": "stdout",
     "output_type": "stream",
     "text": [
      "cp /oasis/projects/nsf/csd395/yuncong/CSHL_data_processed/MD594/MD594_lossless_unsorted_alignedTo_MD594-IHC58-2015.08.26-18.48.50_MD594_1_0172_cropped_compressed/MD594-IHC67-2015.08.26-19.23.30_MD594_2_0200_lossless_alignedTo_MD594-IHC58-2015.08.26-18.48.50_MD594_1_0172_cropped_compressed.jpg /home/yuncong/csd395/CSHL_cells_v2/detected_cells/MD594/MD594-IHC67-2015.08.26-19.23.30_MD594_2_0200/MD594-IHC67-2015.08.26-19.23.30_MD594_2_0200_image.jpg\n"
     ]
    },
    {
     "name": "stderr",
     "output_type": "stream",
     "text": [
      "Child returned 0\n",
      "Load mask: 10.17\n",
      "regionprops: 2.14\n",
      "73395 blobs identified.\n",
      "Save blob coords: 3.84\n",
      "Save blob masks: 8.23\n",
      "Save blob contours, save: 14.56\n",
      "Compute blob properties, save: 15.64\n",
      "Processing section: 303\n"
     ]
    },
    {
     "name": "stdout",
     "output_type": "stream",
     "text": [
      "cp /oasis/projects/nsf/csd395/yuncong/CSHL_data_processed/MD594/MD594_lossless_unsorted_alignedTo_MD594-IHC58-2015.08.26-18.48.50_MD594_1_0172_cropped_compressed/MD594-N67-2015.08.27-00.56.36_MD594_3_0201_lossless_alignedTo_MD594-IHC58-2015.08.26-18.48.50_MD594_1_0172_cropped_compressed.jpg /home/yuncong/csd395/CSHL_cells_v2/detected_cells/MD594/MD594-N67-2015.08.27-00.56.36_MD594_3_0201/MD594-N67-2015.08.27-00.56.36_MD594_3_0201_image.jpg\n"
     ]
    },
    {
     "name": "stderr",
     "output_type": "stream",
     "text": [
      "Child returned 0\n",
      "Load mask: 10.14\n",
      "regionprops: 2.51\n",
      "73268 blobs identified.\n",
      "Save blob coords: 3.85\n",
      "Save blob masks: 7.98\n",
      "Save blob contours, save: 12.37\n",
      "Compute blob properties, save: 15.97\n",
      "Processing section: 304\n"
     ]
    },
    {
     "name": "stdout",
     "output_type": "stream",
     "text": [
      "cp /oasis/projects/nsf/csd395/yuncong/CSHL_data_processed/MD594/MD594_lossless_unsorted_alignedTo_MD594-IHC58-2015.08.26-18.48.50_MD594_1_0172_cropped_compressed/MD594-IHC67-2015.08.26-19.23.30_MD594_3_0201_lossless_alignedTo_MD594-IHC58-2015.08.26-18.48.50_MD594_1_0172_cropped_compressed.jpg /home/yuncong/csd395/CSHL_cells_v2/detected_cells/MD594/MD594-IHC67-2015.08.26-19.23.30_MD594_3_0201/MD594-IHC67-2015.08.26-19.23.30_MD594_3_0201_image.jpg\n"
     ]
    },
    {
     "name": "stderr",
     "output_type": "stream",
     "text": [
      "Child returned 0\n",
      "Load mask: 9.97\n",
      "regionprops: 2.14\n",
      "73760 blobs identified.\n",
      "Save blob coords: 3.89\n",
      "Save blob masks: 8.35\n",
      "Save blob contours, save: 12.62\n",
      "Compute blob properties, save: 15.81\n",
      "Processing section: 305\n"
     ]
    },
    {
     "name": "stdout",
     "output_type": "stream",
     "text": [
      "cp /oasis/projects/nsf/csd395/yuncong/CSHL_data_processed/MD594/MD594_lossless_unsorted_alignedTo_MD594-IHC58-2015.08.26-18.48.50_MD594_1_0172_cropped_compressed/MD594-N68-2015.08.27-01.01.13_MD594_1_0202_lossless_alignedTo_MD594-IHC58-2015.08.26-18.48.50_MD594_1_0172_cropped_compressed.jpg /home/yuncong/csd395/CSHL_cells_v2/detected_cells/MD594/MD594-N68-2015.08.27-01.01.13_MD594_1_0202/MD594-N68-2015.08.27-01.01.13_MD594_1_0202_image.jpg\n"
     ]
    },
    {
     "name": "stderr",
     "output_type": "stream",
     "text": [
      "Child returned 0\n",
      "Load mask: 10.15\n",
      "regionprops: 2.52\n",
      "73307 blobs identified.\n",
      "Save blob coords: 3.86\n",
      "Save blob masks: 7.99\n",
      "Save blob contours, save: 12.38\n",
      "Compute blob properties, save: 15.98\n",
      "Processing section: 306\n"
     ]
    },
    {
     "name": "stdout",
     "output_type": "stream",
     "text": [
      "cp /oasis/projects/nsf/csd395/yuncong/CSHL_data_processed/MD594/MD594_lossless_unsorted_alignedTo_MD594-IHC58-2015.08.26-18.48.50_MD594_1_0172_cropped_compressed/MD594-IHC68-2015.08.26-19.27.59_MD594_1_0202_lossless_alignedTo_MD594-IHC58-2015.08.26-18.48.50_MD594_1_0172_cropped_compressed.jpg /home/yuncong/csd395/CSHL_cells_v2/detected_cells/MD594/MD594-IHC68-2015.08.26-19.27.59_MD594_1_0202/MD594-IHC68-2015.08.26-19.27.59_MD594_1_0202_image.jpg\n"
     ]
    },
    {
     "name": "stderr",
     "output_type": "stream",
     "text": [
      "Child returned 0\n",
      "Load mask: 9.97\n",
      "regionprops: 2.12\n",
      "70870 blobs identified.\n",
      "Save blob coords: 3.84\n",
      "Save blob masks: 8.14\n",
      "Save blob contours, save: 11.71\n",
      "Compute blob properties, save: 15.55\n",
      "Processing section: 307\n"
     ]
    },
    {
     "name": "stdout",
     "output_type": "stream",
     "text": [
      "cp /oasis/projects/nsf/csd395/yuncong/CSHL_data_processed/MD594/MD594_lossless_unsorted_alignedTo_MD594-IHC58-2015.08.26-18.48.50_MD594_1_0172_cropped_compressed/MD594-N68-2015.08.27-01.01.13_MD594_2_0203_lossless_alignedTo_MD594-IHC58-2015.08.26-18.48.50_MD594_1_0172_cropped_compressed.jpg /home/yuncong/csd395/CSHL_cells_v2/detected_cells/MD594/MD594-N68-2015.08.27-01.01.13_MD594_2_0203/MD594-N68-2015.08.27-01.01.13_MD594_2_0203_image.jpg\n"
     ]
    },
    {
     "name": "stderr",
     "output_type": "stream",
     "text": [
      "Child returned 0\n",
      "Load mask: 10.15\n",
      "regionprops: 2.52\n",
      "72630 blobs identified.\n",
      "Save blob coords: 3.79\n",
      "Save blob masks: 8.05\n",
      "Save blob contours, save: 12.45\n",
      "Compute blob properties, save: 15.62\n",
      "Processing section: 308\n"
     ]
    },
    {
     "name": "stdout",
     "output_type": "stream",
     "text": [
      "cp /oasis/projects/nsf/csd395/yuncong/CSHL_data_processed/MD594/MD594_lossless_unsorted_alignedTo_MD594-IHC58-2015.08.26-18.48.50_MD594_1_0172_cropped_compressed/MD594-IHC68-2015.08.26-19.27.59_MD594_2_0203_lossless_alignedTo_MD594-IHC58-2015.08.26-18.48.50_MD594_1_0172_cropped_compressed.jpg /home/yuncong/csd395/CSHL_cells_v2/detected_cells/MD594/MD594-IHC68-2015.08.26-19.27.59_MD594_2_0203/MD594-IHC68-2015.08.26-19.27.59_MD594_2_0203_image.jpg\n"
     ]
    },
    {
     "name": "stderr",
     "output_type": "stream",
     "text": [
      "Child returned 0\n",
      "Load mask: 9.98\n",
      "regionprops: 2.57\n",
      "72603 blobs identified.\n",
      "Save blob coords: 3.90\n",
      "Save blob masks: 8.08\n",
      "Save blob contours, save: 12.22\n",
      "Compute blob properties, save: 16.12\n",
      "Processing section: 309\n"
     ]
    },
    {
     "name": "stdout",
     "output_type": "stream",
     "text": [
      "cp /oasis/projects/nsf/csd395/yuncong/CSHL_data_processed/MD594/MD594_lossless_unsorted_alignedTo_MD594-IHC58-2015.08.26-18.48.50_MD594_1_0172_cropped_compressed/MD594-N68-2015.08.27-01.01.13_MD594_3_0204_lossless_alignedTo_MD594-IHC58-2015.08.26-18.48.50_MD594_1_0172_cropped_compressed.jpg /home/yuncong/csd395/CSHL_cells_v2/detected_cells/MD594/MD594-N68-2015.08.27-01.01.13_MD594_3_0204/MD594-N68-2015.08.27-01.01.13_MD594_3_0204_image.jpg\n"
     ]
    },
    {
     "name": "stderr",
     "output_type": "stream",
     "text": [
      "Child returned 0\n",
      "Load mask: 10.12\n",
      "regionprops: 2.11\n",
      "71523 blobs identified.\n",
      "Save blob coords: 3.79\n",
      "Save blob masks: 7.86\n",
      "Save blob contours, save: 12.25\n",
      "Compute blob properties, save: 15.46\n",
      "Processing section: 310\n"
     ]
    },
    {
     "name": "stdout",
     "output_type": "stream",
     "text": [
      "cp /oasis/projects/nsf/csd395/yuncong/CSHL_data_processed/MD594/MD594_lossless_unsorted_alignedTo_MD594-IHC58-2015.08.26-18.48.50_MD594_1_0172_cropped_compressed/MD594-IHC68-2015.08.26-19.27.59_MD594_3_0204_lossless_alignedTo_MD594-IHC58-2015.08.26-18.48.50_MD594_1_0172_cropped_compressed.jpg /home/yuncong/csd395/CSHL_cells_v2/detected_cells/MD594/MD594-IHC68-2015.08.26-19.27.59_MD594_3_0204/MD594-IHC68-2015.08.26-19.27.59_MD594_3_0204_image.jpg\n"
     ]
    },
    {
     "name": "stderr",
     "output_type": "stream",
     "text": [
      "Child returned 0\n",
      "Load mask: 9.97\n",
      "regionprops: 2.56\n",
      "72177 blobs identified.\n",
      "Save blob coords: 3.76\n",
      "Save blob masks: 7.97\n",
      "Save blob contours, save: 12.14\n",
      "Compute blob properties, save: 15.88\n",
      "Processing section: 311\n"
     ]
    },
    {
     "name": "stdout",
     "output_type": "stream",
     "text": [
      "cp /oasis/projects/nsf/csd395/yuncong/CSHL_data_processed/MD594/MD594_lossless_unsorted_alignedTo_MD594-IHC58-2015.08.26-18.48.50_MD594_1_0172_cropped_compressed/MD594-N69-2015.08.27-01.05.43_MD594_1_0205_lossless_alignedTo_MD594-IHC58-2015.08.26-18.48.50_MD594_1_0172_cropped_compressed.jpg /home/yuncong/csd395/CSHL_cells_v2/detected_cells/MD594/MD594-N69-2015.08.27-01.05.43_MD594_1_0205/MD594-N69-2015.08.27-01.05.43_MD594_1_0205_image.jpg\n"
     ]
    },
    {
     "name": "stderr",
     "output_type": "stream",
     "text": [
      "Child returned 0\n",
      "Load mask: 10.15\n",
      "regionprops: 2.11\n",
      "69561 blobs identified.\n",
      "Save blob coords: 4.32\n",
      "Save blob masks: 8.17\n",
      "Save blob contours, save: 12.31\n",
      "Compute blob properties, save: 16.05\n",
      "Processing section: 312\n"
     ]
    },
    {
     "name": "stdout",
     "output_type": "stream",
     "text": [
      "cp /oasis/projects/nsf/csd395/yuncong/CSHL_data_processed/MD594/MD594_lossless_unsorted_alignedTo_MD594-IHC58-2015.08.26-18.48.50_MD594_1_0172_cropped_compressed/MD594-IHC69-2015.08.26-19.32.32_MD594_1_0205_lossless_alignedTo_MD594-IHC58-2015.08.26-18.48.50_MD594_1_0172_cropped_compressed.jpg /home/yuncong/csd395/CSHL_cells_v2/detected_cells/MD594/MD594-IHC69-2015.08.26-19.32.32_MD594_1_0205/MD594-IHC69-2015.08.26-19.32.32_MD594_1_0205_image.jpg\n"
     ]
    },
    {
     "name": "stderr",
     "output_type": "stream",
     "text": [
      "Child returned 0\n",
      "Load mask: 10.05\n",
      "regionprops: 1.96\n",
      "55060 blobs identified.\n",
      "Save blob coords: 2.95\n",
      "Save blob masks: 6.24\n",
      "Save blob contours, save: 9.49\n",
      "Compute blob properties, save: 11.86\n",
      "Processing section: 313\n"
     ]
    },
    {
     "name": "stdout",
     "output_type": "stream",
     "text": [
      "cp /oasis/projects/nsf/csd395/yuncong/CSHL_data_processed/MD594/MD594_lossless_unsorted_alignedTo_MD594-IHC58-2015.08.26-18.48.50_MD594_1_0172_cropped_compressed/MD594-N69-2015.08.27-01.05.43_MD594_2_0206_lossless_alignedTo_MD594-IHC58-2015.08.26-18.48.50_MD594_1_0172_cropped_compressed.jpg /home/yuncong/csd395/CSHL_cells_v2/detected_cells/MD594/MD594-N69-2015.08.27-01.05.43_MD594_2_0206/MD594-N69-2015.08.27-01.05.43_MD594_2_0206_image.jpg\n"
     ]
    },
    {
     "name": "stderr",
     "output_type": "stream",
     "text": [
      "Child returned 0\n",
      "Load mask: 10.16\n",
      "regionprops: 2.16\n",
      "53945 blobs identified.\n",
      "Save blob coords: 2.80\n",
      "Save blob masks: 5.86\n",
      "Save blob contours, save: 9.28\n",
      "Compute blob properties, save: 11.85\n",
      "Processing section: 314\n"
     ]
    },
    {
     "name": "stdout",
     "output_type": "stream",
     "text": [
      "cp /oasis/projects/nsf/csd395/yuncong/CSHL_data_processed/MD594/MD594_lossless_unsorted_alignedTo_MD594-IHC58-2015.08.26-18.48.50_MD594_1_0172_cropped_compressed/MD594-IHC69-2015.08.26-19.32.32_MD594_2_0206_lossless_alignedTo_MD594-IHC58-2015.08.26-18.48.50_MD594_1_0172_cropped_compressed.jpg /home/yuncong/csd395/CSHL_cells_v2/detected_cells/MD594/MD594-IHC69-2015.08.26-19.32.32_MD594_2_0206/MD594-IHC69-2015.08.26-19.32.32_MD594_2_0206_image.jpg\n"
     ]
    },
    {
     "name": "stderr",
     "output_type": "stream",
     "text": [
      "Child returned 0\n",
      "Load mask: 10.14\n",
      "regionprops: 1.85\n",
      "52440 blobs identified.\n",
      "Save blob coords: 2.77\n",
      "Save blob masks: 5.79\n",
      "Save blob contours, save: 9.18\n",
      "Compute blob properties, save: 11.41\n",
      "Processing section: 315\n"
     ]
    },
    {
     "name": "stdout",
     "output_type": "stream",
     "text": [
      "cp /oasis/projects/nsf/csd395/yuncong/CSHL_data_processed/MD594/MD594_lossless_unsorted_alignedTo_MD594-IHC58-2015.08.26-18.48.50_MD594_1_0172_cropped_compressed/MD594-N69-2015.08.27-01.05.43_MD594_3_0207_lossless_alignedTo_MD594-IHC58-2015.08.26-18.48.50_MD594_1_0172_cropped_compressed.jpg /home/yuncong/csd395/CSHL_cells_v2/detected_cells/MD594/MD594-N69-2015.08.27-01.05.43_MD594_3_0207/MD594-N69-2015.08.27-01.05.43_MD594_3_0207_image.jpg\n"
     ]
    },
    {
     "name": "stderr",
     "output_type": "stream",
     "text": [
      "Child returned 0\n",
      "Load mask: 10.16\n",
      "regionprops: 1.81\n",
      "53647 blobs identified.\n",
      "Save blob coords: 2.75\n",
      "Save blob masks: 5.85\n",
      "Save blob contours, save: 9.37\n",
      "Compute blob properties, save: 11.61\n",
      "Processing section: 316\n"
     ]
    },
    {
     "name": "stdout",
     "output_type": "stream",
     "text": [
      "cp /oasis/projects/nsf/csd395/yuncong/CSHL_data_processed/MD594/MD594_lossless_unsorted_alignedTo_MD594-IHC58-2015.08.26-18.48.50_MD594_1_0172_cropped_compressed/MD594-IHC69-2015.08.26-19.32.32_MD594_3_0207_lossless_alignedTo_MD594-IHC58-2015.08.26-18.48.50_MD594_1_0172_cropped_compressed.jpg /home/yuncong/csd395/CSHL_cells_v2/detected_cells/MD594/MD594-IHC69-2015.08.26-19.32.32_MD594_3_0207/MD594-IHC69-2015.08.26-19.32.32_MD594_3_0207_image.jpg\n"
     ]
    },
    {
     "name": "stderr",
     "output_type": "stream",
     "text": [
      "Child returned 0\n",
      "Load mask: 9.98\n",
      "regionprops: 1.82\n",
      "54608 blobs identified.\n",
      "Save blob coords: 2.84\n",
      "Save blob masks: 6.12\n",
      "Save blob contours, save: 9.38\n",
      "Compute blob properties, save: 11.84\n",
      "Processing section: 317\n"
     ]
    },
    {
     "name": "stdout",
     "output_type": "stream",
     "text": [
      "cp /oasis/projects/nsf/csd395/yuncong/CSHL_data_processed/MD594/MD594_lossless_unsorted_alignedTo_MD594-IHC58-2015.08.26-18.48.50_MD594_1_0172_cropped_compressed/MD594-N70-2015.08.27-01.10.06_MD594_1_0208_lossless_alignedTo_MD594-IHC58-2015.08.26-18.48.50_MD594_1_0172_cropped_compressed.jpg /home/yuncong/csd395/CSHL_cells_v2/detected_cells/MD594/MD594-N70-2015.08.27-01.10.06_MD594_1_0208/MD594-N70-2015.08.27-01.10.06_MD594_1_0208_image.jpg\n"
     ]
    },
    {
     "name": "stderr",
     "output_type": "stream",
     "text": [
      "Child returned 0\n",
      "Load mask: 10.19\n",
      "regionprops: 2.28\n",
      "65090 blobs identified.\n",
      "Save blob coords: 3.47\n",
      "Save blob masks: 7.17\n",
      "Save blob contours, save: 10.94\n",
      "Compute blob properties, save: 14.12\n",
      "Processing section: 318\n"
     ]
    },
    {
     "name": "stdout",
     "output_type": "stream",
     "text": [
      "cp /oasis/projects/nsf/csd395/yuncong/CSHL_data_processed/MD594/MD594_lossless_unsorted_alignedTo_MD594-IHC58-2015.08.26-18.48.50_MD594_1_0172_cropped_compressed/MD594-IHC70-2015.08.26-19.36.50_MD594_1_0208_lossless_alignedTo_MD594-IHC58-2015.08.26-18.48.50_MD594_1_0172_cropped_compressed.jpg /home/yuncong/csd395/CSHL_cells_v2/detected_cells/MD594/MD594-IHC70-2015.08.26-19.36.50_MD594_1_0208/MD594-IHC70-2015.08.26-19.36.50_MD594_1_0208_image.jpg\n"
     ]
    },
    {
     "name": "stderr",
     "output_type": "stream",
     "text": [
      "Child returned 0\n",
      "Load mask: 9.97\n",
      "regionprops: 1.94\n",
      "52625 blobs identified.\n",
      "Save blob coords: 2.91\n",
      "Save blob masks: 5.93\n",
      "Save blob contours, save: 8.87\n",
      "Compute blob properties, save: 11.73\n",
      "Processing section: 319\n"
     ]
    },
    {
     "name": "stdout",
     "output_type": "stream",
     "text": [
      "cp /oasis/projects/nsf/csd395/yuncong/CSHL_data_processed/MD594/MD594_lossless_unsorted_alignedTo_MD594-IHC58-2015.08.26-18.48.50_MD594_1_0172_cropped_compressed/MD594-N70-2015.08.27-01.10.06_MD594_2_0209_lossless_alignedTo_MD594-IHC58-2015.08.26-18.48.50_MD594_1_0172_cropped_compressed.jpg /home/yuncong/csd395/CSHL_cells_v2/detected_cells/MD594/MD594-N70-2015.08.27-01.10.06_MD594_2_0209/MD594-N70-2015.08.27-01.10.06_MD594_2_0209_image.jpg\n"
     ]
    },
    {
     "name": "stderr",
     "output_type": "stream",
     "text": [
      "Child returned 0\n",
      "Load mask: 10.14\n",
      "regionprops: 2.13\n",
      "52270 blobs identified.\n",
      "Save blob coords: 2.71\n",
      "Save blob masks: 5.74\n",
      "Save blob contours, save: 8.84\n",
      "Compute blob properties, save: 11.37\n",
      "Processing section: 320\n"
     ]
    },
    {
     "name": "stdout",
     "output_type": "stream",
     "text": [
      "cp /oasis/projects/nsf/csd395/yuncong/CSHL_data_processed/MD594/MD594_lossless_unsorted_alignedTo_MD594-IHC58-2015.08.26-18.48.50_MD594_1_0172_cropped_compressed/MD594-IHC70-2015.08.26-19.36.50_MD594_2_0209_lossless_alignedTo_MD594-IHC58-2015.08.26-18.48.50_MD594_1_0172_cropped_compressed.jpg /home/yuncong/csd395/CSHL_cells_v2/detected_cells/MD594/MD594-IHC70-2015.08.26-19.36.50_MD594_2_0209/MD594-IHC70-2015.08.26-19.36.50_MD594_2_0209_image.jpg\n"
     ]
    },
    {
     "name": "stderr",
     "output_type": "stream",
     "text": [
      "Child returned 0\n",
      "Load mask: 9.97\n",
      "regionprops: 2.22\n",
      "61709 blobs identified.\n",
      "Save blob coords: 3.31\n",
      "Save blob masks: 6.89\n",
      "Save blob contours, save: 10.69\n",
      "Compute blob properties, save: 13.76\n",
      "Processing section: 321\n"
     ]
    },
    {
     "name": "stdout",
     "output_type": "stream",
     "text": [
      "cp /oasis/projects/nsf/csd395/yuncong/CSHL_data_processed/MD594/MD594_lossless_unsorted_alignedTo_MD594-IHC58-2015.08.26-18.48.50_MD594_1_0172_cropped_compressed/MD594-N70-2015.08.27-01.10.06_MD594_3_0210_lossless_alignedTo_MD594-IHC58-2015.08.26-18.48.50_MD594_1_0172_cropped_compressed.jpg /home/yuncong/csd395/CSHL_cells_v2/detected_cells/MD594/MD594-N70-2015.08.27-01.10.06_MD594_3_0210/MD594-N70-2015.08.27-01.10.06_MD594_3_0210_image.jpg\n"
     ]
    },
    {
     "name": "stderr",
     "output_type": "stream",
     "text": [
      "Child returned 0\n",
      "Load mask: 10.15\n",
      "regionprops: 1.90\n",
      "50464 blobs identified.\n",
      "Save blob coords: 2.70\n",
      "Save blob masks: 5.78\n",
      "Save blob contours, save: 8.56\n",
      "Compute blob properties, save: 11.09\n",
      "Processing section: 322\n"
     ]
    },
    {
     "name": "stdout",
     "output_type": "stream",
     "text": [
      "cp /oasis/projects/nsf/csd395/yuncong/CSHL_data_processed/MD594/MD594_lossless_unsorted_alignedTo_MD594-IHC58-2015.08.26-18.48.50_MD594_1_0172_cropped_compressed/MD594-IHC70-2015.08.26-19.36.50_MD594_3_0210_lossless_alignedTo_MD594-IHC58-2015.08.26-18.48.50_MD594_1_0172_cropped_compressed.jpg /home/yuncong/csd395/CSHL_cells_v2/detected_cells/MD594/MD594-IHC70-2015.08.26-19.36.50_MD594_3_0210/MD594-IHC70-2015.08.26-19.36.50_MD594_3_0210_image.jpg\n"
     ]
    },
    {
     "name": "stderr",
     "output_type": "stream",
     "text": [
      "Child returned 0\n",
      "Load mask: 10.17\n",
      "regionprops: 1.79\n",
      "49699 blobs identified.\n",
      "Save blob coords: 2.60\n",
      "Save blob masks: 5.67\n",
      "Save blob contours, save: 8.32\n",
      "Compute blob properties, save: 10.85\n",
      "Processing section: 323\n"
     ]
    },
    {
     "name": "stdout",
     "output_type": "stream",
     "text": [
      "cp /oasis/projects/nsf/csd395/yuncong/CSHL_data_processed/MD594/MD594_lossless_unsorted_alignedTo_MD594-IHC58-2015.08.26-18.48.50_MD594_1_0172_cropped_compressed/MD594-N71-2015.08.27-01.14.30_MD594_1_0211_lossless_alignedTo_MD594-IHC58-2015.08.26-18.48.50_MD594_1_0172_cropped_compressed.jpg /home/yuncong/csd395/CSHL_cells_v2/detected_cells/MD594/MD594-N71-2015.08.27-01.14.30_MD594_1_0211/MD594-N71-2015.08.27-01.14.30_MD594_1_0211_image.jpg\n"
     ]
    },
    {
     "name": "stderr",
     "output_type": "stream",
     "text": [
      "Child returned 0\n",
      "Load mask: 10.16\n",
      "regionprops: 1.78\n",
      "49906 blobs identified.\n",
      "Save blob coords: 2.59\n",
      "Save blob masks: 5.48\n",
      "Save blob contours, save: 8.84\n",
      "Compute blob properties, save: 10.95\n",
      "Processing section: 324\n"
     ]
    },
    {
     "name": "stdout",
     "output_type": "stream",
     "text": [
      "cp /oasis/projects/nsf/csd395/yuncong/CSHL_data_processed/MD594/MD594_lossless_unsorted_alignedTo_MD594-IHC58-2015.08.26-18.48.50_MD594_1_0172_cropped_compressed/MD594-IHC71-2015.08.26-19.41.10_MD594_1_0211_lossless_alignedTo_MD594-IHC58-2015.08.26-18.48.50_MD594_1_0172_cropped_compressed.jpg /home/yuncong/csd395/CSHL_cells_v2/detected_cells/MD594/MD594-IHC71-2015.08.26-19.41.10_MD594_1_0211/MD594-IHC71-2015.08.26-19.41.10_MD594_1_0211_image.jpg\n"
     ]
    },
    {
     "name": "stderr",
     "output_type": "stream",
     "text": [
      "Child returned 0\n",
      "Load mask: 9.98\n",
      "regionprops: 1.76\n",
      "48558 blobs identified.\n",
      "Save blob coords: 2.57\n",
      "Save blob masks: 5.40\n",
      "Save blob contours, save: 8.30\n",
      "Compute blob properties, save: 10.69\n",
      "Processing section: 325\n"
     ]
    },
    {
     "name": "stdout",
     "output_type": "stream",
     "text": [
      "cp /oasis/projects/nsf/csd395/yuncong/CSHL_data_processed/MD594/MD594_lossless_unsorted_alignedTo_MD594-IHC58-2015.08.26-18.48.50_MD594_1_0172_cropped_compressed/MD594-N71-2015.08.27-01.14.30_MD594_2_0212_lossless_alignedTo_MD594-IHC58-2015.08.26-18.48.50_MD594_1_0172_cropped_compressed.jpg /home/yuncong/csd395/CSHL_cells_v2/detected_cells/MD594/MD594-N71-2015.08.27-01.14.30_MD594_2_0212/MD594-N71-2015.08.27-01.14.30_MD594_2_0212_image.jpg\n"
     ]
    },
    {
     "name": "stderr",
     "output_type": "stream",
     "text": [
      "Child returned 0\n",
      "Load mask: 10.21\n",
      "regionprops: 2.09\n",
      "47720 blobs identified.\n",
      "Save blob coords: 2.45\n",
      "Save blob masks: 5.22\n",
      "Save blob contours, save: 8.05\n",
      "Compute blob properties, save: 10.21\n",
      "Processing section: 326\n"
     ]
    },
    {
     "name": "stdout",
     "output_type": "stream",
     "text": [
      "cp /oasis/projects/nsf/csd395/yuncong/CSHL_data_processed/MD594/MD594_lossless_unsorted_alignedTo_MD594-IHC58-2015.08.26-18.48.50_MD594_1_0172_cropped_compressed/MD594-IHC71-2015.08.26-19.41.10_MD594_2_0212_lossless_alignedTo_MD594-IHC58-2015.08.26-18.48.50_MD594_1_0172_cropped_compressed.jpg /home/yuncong/csd395/CSHL_cells_v2/detected_cells/MD594/MD594-IHC71-2015.08.26-19.41.10_MD594_2_0212/MD594-IHC71-2015.08.26-19.41.10_MD594_2_0212_image.jpg\n"
     ]
    },
    {
     "name": "stderr",
     "output_type": "stream",
     "text": [
      "Child returned 0\n",
      "Load mask: 9.97\n",
      "regionprops: 2.08\n",
      "47403 blobs identified.\n",
      "Save blob coords: 2.43\n",
      "Save blob masks: 5.21\n",
      "Save blob contours, save: 8.16\n",
      "Compute blob properties, save: 10.20\n",
      "Processing section: 327\n"
     ]
    },
    {
     "name": "stdout",
     "output_type": "stream",
     "text": [
      "cp /oasis/projects/nsf/csd395/yuncong/CSHL_data_processed/MD594/MD594_lossless_unsorted_alignedTo_MD594-IHC58-2015.08.26-18.48.50_MD594_1_0172_cropped_compressed/MD594-N71-2015.08.27-01.14.30_MD594_3_0213_lossless_alignedTo_MD594-IHC58-2015.08.26-18.48.50_MD594_1_0172_cropped_compressed.jpg /home/yuncong/csd395/CSHL_cells_v2/detected_cells/MD594/MD594-N71-2015.08.27-01.14.30_MD594_3_0213/MD594-N71-2015.08.27-01.14.30_MD594_3_0213_image.jpg\n"
     ]
    },
    {
     "name": "stderr",
     "output_type": "stream",
     "text": [
      "Child returned 0\n",
      "Load mask: 10.16\n",
      "regionprops: 2.05\n",
      "46361 blobs identified.\n",
      "Save blob coords: 2.35\n",
      "Save blob masks: 5.04\n",
      "Save blob contours, save: 7.95\n",
      "Compute blob properties, save: 10.26\n",
      "Processing section: 328\n"
     ]
    },
    {
     "name": "stdout",
     "output_type": "stream",
     "text": [
      "cp /oasis/projects/nsf/csd395/yuncong/CSHL_data_processed/MD594/MD594_lossless_unsorted_alignedTo_MD594-IHC58-2015.08.26-18.48.50_MD594_1_0172_cropped_compressed/MD594-IHC71-2015.08.26-19.41.10_MD594_3_0213_lossless_alignedTo_MD594-IHC58-2015.08.26-18.48.50_MD594_1_0172_cropped_compressed.jpg /home/yuncong/csd395/CSHL_cells_v2/detected_cells/MD594/MD594-IHC71-2015.08.26-19.41.10_MD594_3_0213/MD594-IHC71-2015.08.26-19.41.10_MD594_3_0213_image.jpg\n"
     ]
    },
    {
     "name": "stderr",
     "output_type": "stream",
     "text": [
      "Child returned 0\n",
      "Load mask: 10.16\n",
      "regionprops: 1.70\n",
      "46198 blobs identified.\n",
      "Save blob coords: 2.45\n",
      "Save blob masks: 5.08\n",
      "Save blob contours, save: 7.89\n",
      "Compute blob properties, save: 10.09\n",
      "Processing section: 329\n"
     ]
    },
    {
     "name": "stdout",
     "output_type": "stream",
     "text": [
      "cp /oasis/projects/nsf/csd395/yuncong/CSHL_data_processed/MD594/MD594_lossless_unsorted_alignedTo_MD594-IHC58-2015.08.26-18.48.50_MD594_1_0172_cropped_compressed/MD594-N72-2015.08.27-01.18.48_MD594_1_0214_lossless_alignedTo_MD594-IHC58-2015.08.26-18.48.50_MD594_1_0172_cropped_compressed.jpg /home/yuncong/csd395/CSHL_cells_v2/detected_cells/MD594/MD594-N72-2015.08.27-01.18.48_MD594_1_0214/MD594-N72-2015.08.27-01.18.48_MD594_1_0214_image.jpg\n"
     ]
    },
    {
     "name": "stderr",
     "output_type": "stream",
     "text": [
      "Child returned 0\n",
      "Load mask: 10.14\n",
      "regionprops: 2.07\n",
      "46504 blobs identified.\n",
      "Save blob coords: 2.41\n",
      "Save blob masks: 5.14\n",
      "Save blob contours, save: 7.89\n",
      "Compute blob properties, save: 10.18\n",
      "Processing section: 330\n"
     ]
    },
    {
     "name": "stdout",
     "output_type": "stream",
     "text": [
      "cp /oasis/projects/nsf/csd395/yuncong/CSHL_data_processed/MD594/MD594_lossless_unsorted_alignedTo_MD594-IHC58-2015.08.26-18.48.50_MD594_1_0172_cropped_compressed/MD594-IHC72-2015.08.26-19.45.24_MD594_1_0214_lossless_alignedTo_MD594-IHC58-2015.08.26-18.48.50_MD594_1_0172_cropped_compressed.jpg /home/yuncong/csd395/CSHL_cells_v2/detected_cells/MD594/MD594-IHC72-2015.08.26-19.45.24_MD594_1_0214/MD594-IHC72-2015.08.26-19.45.24_MD594_1_0214_image.jpg\n"
     ]
    },
    {
     "name": "stderr",
     "output_type": "stream",
     "text": [
      "Child returned 0\n",
      "Load mask: 10.16\n",
      "regionprops: 1.75\n",
      "46108 blobs identified.\n",
      "Save blob coords: 2.38\n",
      "Save blob masks: 5.32\n",
      "Save blob contours, save: 7.85\n",
      "Compute blob properties, save: 10.28\n",
      "Processing section: 331\n"
     ]
    },
    {
     "name": "stdout",
     "output_type": "stream",
     "text": [
      "cp /oasis/projects/nsf/csd395/yuncong/CSHL_data_processed/MD594/MD594_lossless_unsorted_alignedTo_MD594-IHC58-2015.08.26-18.48.50_MD594_1_0172_cropped_compressed/MD594-N72-2015.08.27-01.18.48_MD594_2_0215_lossless_alignedTo_MD594-IHC58-2015.08.26-18.48.50_MD594_1_0172_cropped_compressed.jpg /home/yuncong/csd395/CSHL_cells_v2/detected_cells/MD594/MD594-N72-2015.08.27-01.18.48_MD594_2_0215/MD594-N72-2015.08.27-01.18.48_MD594_2_0215_image.jpg\n"
     ]
    },
    {
     "name": "stderr",
     "output_type": "stream",
     "text": [
      "Child returned 0\n",
      "Load mask: 10.18\n",
      "regionprops: 1.86\n",
      "60743 blobs identified.\n",
      "Save blob coords: 3.19\n",
      "Save blob masks: 6.87\n",
      "Save blob contours, save: 10.41\n",
      "Compute blob properties, save: 13.09\n",
      "Processing section: 332\n"
     ]
    },
    {
     "name": "stdout",
     "output_type": "stream",
     "text": [
      "cp /oasis/projects/nsf/csd395/yuncong/CSHL_data_processed/MD594/MD594_lossless_unsorted_alignedTo_MD594-IHC58-2015.08.26-18.48.50_MD594_1_0172_cropped_compressed/MD594-IHC72-2015.08.26-19.45.24_MD594_2_0215_lossless_alignedTo_MD594-IHC58-2015.08.26-18.48.50_MD594_1_0172_cropped_compressed.jpg /home/yuncong/csd395/CSHL_cells_v2/detected_cells/MD594/MD594-IHC72-2015.08.26-19.45.24_MD594_2_0215/MD594-IHC72-2015.08.26-19.45.24_MD594_2_0215_image.jpg\n"
     ]
    },
    {
     "name": "stderr",
     "output_type": "stream",
     "text": [
      "Child returned 0\n",
      "Load mask: 10.01\n",
      "regionprops: 1.81\n",
      "45550 blobs identified.\n",
      "Save blob coords: 2.40\n",
      "Save blob masks: 4.97\n",
      "Save blob contours, save: 7.72\n",
      "Compute blob properties, save: 10.01\n",
      "Processing section: 333\n"
     ]
    },
    {
     "name": "stdout",
     "output_type": "stream",
     "text": [
      "cp /oasis/projects/nsf/csd395/yuncong/CSHL_data_processed/MD594/MD594_lossless_unsorted_alignedTo_MD594-IHC58-2015.08.26-18.48.50_MD594_1_0172_cropped_compressed/MD594-N72-2015.08.27-01.18.48_MD594_3_0216_lossless_alignedTo_MD594-IHC58-2015.08.26-18.48.50_MD594_1_0172_cropped_compressed.jpg /home/yuncong/csd395/CSHL_cells_v2/detected_cells/MD594/MD594-N72-2015.08.27-01.18.48_MD594_3_0216/MD594-N72-2015.08.27-01.18.48_MD594_3_0216_image.jpg\n"
     ]
    },
    {
     "name": "stderr",
     "output_type": "stream",
     "text": [
      "Child returned 0\n",
      "Load mask: 10.16\n",
      "regionprops: 1.73\n",
      "45278 blobs identified.\n",
      "Save blob coords: 2.51\n",
      "Save blob masks: 4.96\n",
      "Save blob contours, save: 7.84\n",
      "Compute blob properties, save: 9.84\n",
      "Processing section: 334\n"
     ]
    },
    {
     "name": "stdout",
     "output_type": "stream",
     "text": [
      "cp /oasis/projects/nsf/csd395/yuncong/CSHL_data_processed/MD594/MD594_lossless_unsorted_alignedTo_MD594-IHC58-2015.08.26-18.48.50_MD594_1_0172_cropped_compressed/MD594-IHC72-2015.08.26-19.45.24_MD594_3_0216_lossless_alignedTo_MD594-IHC58-2015.08.26-18.48.50_MD594_1_0172_cropped_compressed.jpg /home/yuncong/csd395/CSHL_cells_v2/detected_cells/MD594/MD594-IHC72-2015.08.26-19.45.24_MD594_3_0216/MD594-IHC72-2015.08.26-19.45.24_MD594_3_0216_image.jpg\n"
     ]
    },
    {
     "name": "stderr",
     "output_type": "stream",
     "text": [
      "Child returned 0\n",
      "Load mask: 9.97\n",
      "regionprops: 2.17\n",
      "60345 blobs identified.\n",
      "Save blob coords: 3.15\n",
      "Save blob masks: 6.60\n",
      "Save blob contours, save: 10.01\n",
      "Compute blob properties, save: 13.05\n",
      "Processing section: 335\n"
     ]
    },
    {
     "name": "stdout",
     "output_type": "stream",
     "text": [
      "cp /oasis/projects/nsf/csd395/yuncong/CSHL_data_processed/MD594/MD594_lossless_unsorted_alignedTo_MD594-IHC58-2015.08.26-18.48.50_MD594_1_0172_cropped_compressed/MD594-N73-2015.08.27-01.23.07_MD594_1_0217_lossless_alignedTo_MD594-IHC58-2015.08.26-18.48.50_MD594_1_0172_cropped_compressed.jpg /home/yuncong/csd395/CSHL_cells_v2/detected_cells/MD594/MD594-N73-2015.08.27-01.23.07_MD594_1_0217/MD594-N73-2015.08.27-01.23.07_MD594_1_0217_image.jpg\n"
     ]
    },
    {
     "name": "stderr",
     "output_type": "stream",
     "text": [
      "Child returned 0\n",
      "Load mask: 10.17\n",
      "regionprops: 1.85\n",
      "45565 blobs identified.\n",
      "Save blob coords: 2.37\n",
      "Save blob masks: 5.12\n",
      "Save blob contours, save: 8.15\n",
      "Compute blob properties, save: 9.76\n",
      "Processing section: 336\n"
     ]
    },
    {
     "name": "stdout",
     "output_type": "stream",
     "text": [
      "cp /oasis/projects/nsf/csd395/yuncong/CSHL_data_processed/MD594/MD594_lossless_unsorted_alignedTo_MD594-IHC58-2015.08.26-18.48.50_MD594_1_0172_cropped_compressed/MD594-IHC73-2015.08.26-19.49.55_MD594_1_0217_lossless_alignedTo_MD594-IHC58-2015.08.26-18.48.50_MD594_1_0172_cropped_compressed.jpg /home/yuncong/csd395/CSHL_cells_v2/detected_cells/MD594/MD594-IHC73-2015.08.26-19.49.55_MD594_1_0217/MD594-IHC73-2015.08.26-19.49.55_MD594_1_0217_image.jpg\n"
     ]
    },
    {
     "name": "stderr",
     "output_type": "stream",
     "text": [
      "Child returned 0\n",
      "Load mask: 10.17\n",
      "regionprops: 2.03\n",
      "45109 blobs identified.\n",
      "Save blob coords: 2.39\n",
      "Save blob masks: 4.99\n",
      "Save blob contours, save: 7.77\n",
      "Compute blob properties, save: 9.69\n",
      "Processing section: 337\n"
     ]
    },
    {
     "name": "stdout",
     "output_type": "stream",
     "text": [
      "cp /oasis/projects/nsf/csd395/yuncong/CSHL_data_processed/MD594/MD594_lossless_unsorted_alignedTo_MD594-IHC58-2015.08.26-18.48.50_MD594_1_0172_cropped_compressed/MD594-N73-2015.08.27-01.23.07_MD594_2_0218_lossless_alignedTo_MD594-IHC58-2015.08.26-18.48.50_MD594_1_0172_cropped_compressed.jpg /home/yuncong/csd395/CSHL_cells_v2/detected_cells/MD594/MD594-N73-2015.08.27-01.23.07_MD594_2_0218/MD594-N73-2015.08.27-01.23.07_MD594_2_0218_image.jpg\n"
     ]
    },
    {
     "name": "stderr",
     "output_type": "stream",
     "text": [
      "Child returned 0\n",
      "Load mask: 10.16\n",
      "regionprops: 2.11\n",
      "59695 blobs identified.\n",
      "Save blob coords: 3.17\n",
      "Save blob masks: 6.72\n",
      "Save blob contours, save: 9.93\n",
      "Compute blob properties, save: 12.88\n",
      "Processing section: 338\n"
     ]
    },
    {
     "name": "stdout",
     "output_type": "stream",
     "text": [
      "cp /oasis/projects/nsf/csd395/yuncong/CSHL_data_processed/MD594/MD594_lossless_unsorted_alignedTo_MD594-IHC58-2015.08.26-18.48.50_MD594_1_0172_cropped_compressed/MD594-IHC73-2015.08.26-19.49.55_MD594_2_0218_lossless_alignedTo_MD594-IHC58-2015.08.26-18.48.50_MD594_1_0172_cropped_compressed.jpg /home/yuncong/csd395/CSHL_cells_v2/detected_cells/MD594/MD594-IHC73-2015.08.26-19.49.55_MD594_2_0218/MD594-IHC73-2015.08.26-19.49.55_MD594_2_0218_image.jpg\n"
     ]
    },
    {
     "name": "stderr",
     "output_type": "stream",
     "text": [
      "Child returned 0\n",
      "Load mask: 10.17\n",
      "regionprops: 2.36\n",
      "59901 blobs identified.\n",
      "Save blob coords: 3.22\n",
      "Save blob masks: 6.61\n",
      "Save blob contours, save: 10.10\n",
      "Compute blob properties, save: 13.08\n",
      "Processing section: 339\n"
     ]
    },
    {
     "name": "stdout",
     "output_type": "stream",
     "text": [
      "cp /oasis/projects/nsf/csd395/yuncong/CSHL_data_processed/MD594/MD594_lossless_unsorted_alignedTo_MD594-IHC58-2015.08.26-18.48.50_MD594_1_0172_cropped_compressed/MD594-N73-2015.08.27-01.23.07_MD594_3_0219_lossless_alignedTo_MD594-IHC58-2015.08.26-18.48.50_MD594_1_0172_cropped_compressed.jpg /home/yuncong/csd395/CSHL_cells_v2/detected_cells/MD594/MD594-N73-2015.08.27-01.23.07_MD594_3_0219/MD594-N73-2015.08.27-01.23.07_MD594_3_0219_image.jpg\n"
     ]
    },
    {
     "name": "stderr",
     "output_type": "stream",
     "text": [
      "Child returned 0\n",
      "Load mask: 10.15\n",
      "regionprops: 2.32\n",
      "59172 blobs identified.\n",
      "Save blob coords: 3.13\n",
      "Save blob masks: 6.51\n",
      "Save blob contours, save: 10.32\n",
      "Compute blob properties, save: 12.75\n",
      "Processing section: 340\n"
     ]
    },
    {
     "name": "stdout",
     "output_type": "stream",
     "text": [
      "cp /oasis/projects/nsf/csd395/yuncong/CSHL_data_processed/MD594/MD594_lossless_unsorted_alignedTo_MD594-IHC58-2015.08.26-18.48.50_MD594_1_0172_cropped_compressed/MD594-IHC73-2015.08.26-19.49.55_MD594_3_0219_lossless_alignedTo_MD594-IHC58-2015.08.26-18.48.50_MD594_1_0172_cropped_compressed.jpg /home/yuncong/csd395/CSHL_cells_v2/detected_cells/MD594/MD594-IHC73-2015.08.26-19.49.55_MD594_3_0219/MD594-IHC73-2015.08.26-19.49.55_MD594_3_0219_image.jpg\n"
     ]
    },
    {
     "name": "stderr",
     "output_type": "stream",
     "text": [
      "Child returned 0\n",
      "Load mask: 10.16\n",
      "regionprops: 1.82\n",
      "44044 blobs identified.\n",
      "Save blob coords: 2.36\n",
      "Save blob masks: 5.06\n",
      "Save blob contours, save: 7.51\n",
      "Compute blob properties, save: 9.73\n",
      "Processing section: 342\n"
     ]
    },
    {
     "name": "stdout",
     "output_type": "stream",
     "text": [
      "cp /oasis/projects/nsf/csd395/yuncong/CSHL_data_processed/MD594/MD594_lossless_unsorted_alignedTo_MD594-IHC58-2015.08.26-18.48.50_MD594_1_0172_cropped_compressed/MD594-IHC74-2015.08.26-19.54.07_MD594_1_0220_lossless_alignedTo_MD594-IHC58-2015.08.26-18.48.50_MD594_1_0172_cropped_compressed.jpg /home/yuncong/csd395/CSHL_cells_v2/detected_cells/MD594/MD594-IHC74-2015.08.26-19.54.07_MD594_1_0220/MD594-IHC74-2015.08.26-19.54.07_MD594_1_0220_image.jpg\n"
     ]
    },
    {
     "name": "stderr",
     "output_type": "stream",
     "text": [
      "Child returned 0\n",
      "Load mask: 10.17\n",
      "regionprops: 2.16\n",
      "58408 blobs identified.\n",
      "Save blob coords: 3.13\n",
      "Save blob masks: 6.44\n",
      "Save blob contours, save: 10.09\n",
      "Compute blob properties, save: 12.46\n",
      "Processing section: 343\n"
     ]
    },
    {
     "name": "stdout",
     "output_type": "stream",
     "text": [
      "cp /oasis/projects/nsf/csd395/yuncong/CSHL_data_processed/MD594/MD594_lossless_unsorted_alignedTo_MD594-IHC58-2015.08.26-18.48.50_MD594_1_0172_cropped_compressed/MD594-N74-2015.08.27-01.27.25_MD594_2_0221_lossless_alignedTo_MD594-IHC58-2015.08.26-18.48.50_MD594_1_0172_cropped_compressed.jpg /home/yuncong/csd395/CSHL_cells_v2/detected_cells/MD594/MD594-N74-2015.08.27-01.27.25_MD594_2_0221/MD594-N74-2015.08.27-01.27.25_MD594_2_0221_image.jpg\n"
     ]
    },
    {
     "name": "stderr",
     "output_type": "stream",
     "text": [
      "Child returned 0\n",
      "Load mask: 9.97\n",
      "regionprops: 2.13\n",
      "43048 blobs identified.\n",
      "Save blob coords: 2.29\n",
      "Save blob masks: 4.77\n",
      "Save blob contours, save: 7.55\n",
      "Compute blob properties, save: 9.24\n",
      "Processing section: 344\n"
     ]
    },
    {
     "name": "stdout",
     "output_type": "stream",
     "text": [
      "cp /oasis/projects/nsf/csd395/yuncong/CSHL_data_processed/MD594/MD594_lossless_unsorted_alignedTo_MD594-IHC58-2015.08.26-18.48.50_MD594_1_0172_cropped_compressed/MD594-IHC74-2015.08.26-19.54.07_MD594_2_0221_lossless_alignedTo_MD594-IHC58-2015.08.26-18.48.50_MD594_1_0172_cropped_compressed.jpg /home/yuncong/csd395/CSHL_cells_v2/detected_cells/MD594/MD594-IHC74-2015.08.26-19.54.07_MD594_2_0221/MD594-IHC74-2015.08.26-19.54.07_MD594_2_0221_image.jpg\n"
     ]
    },
    {
     "name": "stderr",
     "output_type": "stream",
     "text": [
      "Child returned 0\n",
      "Load mask: 10.04\n",
      "regionprops: 1.95\n",
      "42891 blobs identified.\n",
      "Save blob coords: 2.24\n",
      "Save blob masks: 4.73\n",
      "Save blob contours, save: 7.41\n",
      "Compute blob properties, save: 9.41\n",
      "Processing section: 345\n"
     ]
    },
    {
     "name": "stdout",
     "output_type": "stream",
     "text": [
      "cp /oasis/projects/nsf/csd395/yuncong/CSHL_data_processed/MD594/MD594_lossless_unsorted_alignedTo_MD594-IHC58-2015.08.26-18.48.50_MD594_1_0172_cropped_compressed/MD594-N74-2015.08.27-01.27.25_MD594_3_0222_lossless_alignedTo_MD594-IHC58-2015.08.26-18.48.50_MD594_1_0172_cropped_compressed.jpg /home/yuncong/csd395/CSHL_cells_v2/detected_cells/MD594/MD594-N74-2015.08.27-01.27.25_MD594_3_0222/MD594-N74-2015.08.27-01.27.25_MD594_3_0222_image.jpg\n"
     ]
    },
    {
     "name": "stderr",
     "output_type": "stream",
     "text": [
      "Child returned 0\n",
      "Load mask: 9.96\n",
      "regionprops: 1.93\n",
      "42929 blobs identified.\n",
      "Save blob coords: 2.23\n",
      "Save blob masks: 4.70\n",
      "Save blob contours, save: 7.53\n",
      "Compute blob properties, save: 9.24\n",
      "Processing section: 346\n"
     ]
    },
    {
     "name": "stdout",
     "output_type": "stream",
     "text": [
      "cp /oasis/projects/nsf/csd395/yuncong/CSHL_data_processed/MD594/MD594_lossless_unsorted_alignedTo_MD594-IHC58-2015.08.26-18.48.50_MD594_1_0172_cropped_compressed/MD594-IHC74-2015.08.26-19.54.07_MD594_3_0222_lossless_alignedTo_MD594-IHC58-2015.08.26-18.48.50_MD594_1_0172_cropped_compressed.jpg /home/yuncong/csd395/CSHL_cells_v2/detected_cells/MD594/MD594-IHC74-2015.08.26-19.54.07_MD594_3_0222/MD594-IHC74-2015.08.26-19.54.07_MD594_3_0222_image.jpg\n"
     ]
    },
    {
     "name": "stderr",
     "output_type": "stream",
     "text": [
      "Child returned 0\n",
      "Load mask: 10.18\n",
      "regionprops: 2.01\n",
      "42870 blobs identified.\n",
      "Save blob coords: 2.25\n",
      "Save blob masks: 4.76\n",
      "Save blob contours, save: 7.58\n",
      "Compute blob properties, save: 9.29\n",
      "Processing section: 347\n"
     ]
    },
    {
     "name": "stdout",
     "output_type": "stream",
     "text": [
      "cp /oasis/projects/nsf/csd395/yuncong/CSHL_data_processed/MD594/MD594_lossless_unsorted_alignedTo_MD594-IHC58-2015.08.26-18.48.50_MD594_1_0172_cropped_compressed/MD594-N75-2015.08.27-01.31.30_MD594_1_0223_lossless_alignedTo_MD594-IHC58-2015.08.26-18.48.50_MD594_1_0172_cropped_compressed.jpg /home/yuncong/csd395/CSHL_cells_v2/detected_cells/MD594/MD594-N75-2015.08.27-01.31.30_MD594_1_0223/MD594-N75-2015.08.27-01.31.30_MD594_1_0223_image.jpg\n"
     ]
    },
    {
     "name": "stderr",
     "output_type": "stream",
     "text": [
      "Child returned 0\n",
      "Load mask: 9.97\n",
      "regionprops: 2.14\n",
      "55886 blobs identified.\n",
      "Save blob coords: 3.24\n",
      "Save blob masks: 6.32\n",
      "Save blob contours, save: 9.39\n",
      "Compute blob properties, save: 12.59\n",
      "Processing section: 348\n"
     ]
    },
    {
     "name": "stdout",
     "output_type": "stream",
     "text": [
      "cp /oasis/projects/nsf/csd395/yuncong/CSHL_data_processed/MD594/MD594_lossless_unsorted_alignedTo_MD594-IHC58-2015.08.26-18.48.50_MD594_1_0172_cropped_compressed/MD594-IHC75-2015.08.26-19.58.13_MD594_1_0223_lossless_alignedTo_MD594-IHC58-2015.08.26-18.48.50_MD594_1_0172_cropped_compressed.jpg /home/yuncong/csd395/CSHL_cells_v2/detected_cells/MD594/MD594-IHC75-2015.08.26-19.58.13_MD594_1_0223/MD594-IHC75-2015.08.26-19.58.13_MD594_1_0223_image.jpg\n"
     ]
    },
    {
     "name": "stderr",
     "output_type": "stream",
     "text": [
      "Child returned 0\n",
      "Load mask: 10.16\n",
      "regionprops: 1.82\n",
      "41779 blobs identified.\n",
      "Save blob coords: 2.27\n",
      "Save blob masks: 4.64\n",
      "Save blob contours, save: 7.32\n",
      "Compute blob properties, save: 9.23\n",
      "Processing section: 349\n"
     ]
    },
    {
     "name": "stdout",
     "output_type": "stream",
     "text": [
      "cp /oasis/projects/nsf/csd395/yuncong/CSHL_data_processed/MD594/MD594_lossless_unsorted_alignedTo_MD594-IHC58-2015.08.26-18.48.50_MD594_1_0172_cropped_compressed/MD594-N75-2015.08.27-01.31.30_MD594_2_0224_lossless_alignedTo_MD594-IHC58-2015.08.26-18.48.50_MD594_1_0172_cropped_compressed.jpg /home/yuncong/csd395/CSHL_cells_v2/detected_cells/MD594/MD594-N75-2015.08.27-01.31.30_MD594_2_0224/MD594-N75-2015.08.27-01.31.30_MD594_2_0224_image.jpg\n"
     ]
    },
    {
     "name": "stderr",
     "output_type": "stream",
     "text": [
      "Child returned 0\n",
      "Load mask: 10.01\n",
      "regionprops: 1.69\n",
      "41961 blobs identified.\n",
      "Save blob coords: 2.20\n",
      "Save blob masks: 4.84\n",
      "Save blob contours, save: 7.12\n",
      "Compute blob properties, save: 9.04\n",
      "Processing section: 350\n"
     ]
    },
    {
     "name": "stdout",
     "output_type": "stream",
     "text": [
      "cp /oasis/projects/nsf/csd395/yuncong/CSHL_data_processed/MD594/MD594_lossless_unsorted_alignedTo_MD594-IHC58-2015.08.26-18.48.50_MD594_1_0172_cropped_compressed/MD594-IHC75-2015.08.26-19.58.13_MD594_2_0224_lossless_alignedTo_MD594-IHC58-2015.08.26-18.48.50_MD594_1_0172_cropped_compressed.jpg /home/yuncong/csd395/CSHL_cells_v2/detected_cells/MD594/MD594-IHC75-2015.08.26-19.58.13_MD594_2_0224/MD594-IHC75-2015.08.26-19.58.13_MD594_2_0224_image.jpg\n"
     ]
    },
    {
     "name": "stderr",
     "output_type": "stream",
     "text": [
      "Child returned 0\n",
      "Load mask: 10.17\n",
      "regionprops: 1.97\n",
      "41176 blobs identified.\n",
      "Save blob coords: 2.18\n",
      "Save blob masks: 4.59\n",
      "Save blob contours, save: 7.15\n",
      "Compute blob properties, save: 9.02\n",
      "Processing section: 351\n"
     ]
    },
    {
     "name": "stdout",
     "output_type": "stream",
     "text": [
      "cp /oasis/projects/nsf/csd395/yuncong/CSHL_data_processed/MD594/MD594_lossless_unsorted_alignedTo_MD594-IHC58-2015.08.26-18.48.50_MD594_1_0172_cropped_compressed/MD594-N75-2015.08.27-01.31.30_MD594_3_0225_lossless_alignedTo_MD594-IHC58-2015.08.26-18.48.50_MD594_1_0172_cropped_compressed.jpg /home/yuncong/csd395/CSHL_cells_v2/detected_cells/MD594/MD594-N75-2015.08.27-01.31.30_MD594_3_0225/MD594-N75-2015.08.27-01.31.30_MD594_3_0225_image.jpg\n"
     ]
    },
    {
     "name": "stderr",
     "output_type": "stream",
     "text": [
      "Child returned 0\n",
      "Load mask: 11.09\n",
      "regionprops: 1.97\n",
      "40853 blobs identified.\n",
      "Save blob coords: 2.17\n",
      "Save blob masks: 4.55\n",
      "Save blob contours, save: 7.26\n",
      "Compute blob properties, save: 8.88\n",
      "Processing section: 352\n"
     ]
    },
    {
     "name": "stdout",
     "output_type": "stream",
     "text": [
      "cp /oasis/projects/nsf/csd395/yuncong/CSHL_data_processed/MD594/MD594_lossless_unsorted_alignedTo_MD594-IHC58-2015.08.26-18.48.50_MD594_1_0172_cropped_compressed/MD594-IHC75-2015.08.26-19.58.13_MD594_3_0225_lossless_alignedTo_MD594-IHC58-2015.08.26-18.48.50_MD594_1_0172_cropped_compressed.jpg /home/yuncong/csd395/CSHL_cells_v2/detected_cells/MD594/MD594-IHC75-2015.08.26-19.58.13_MD594_3_0225/MD594-IHC75-2015.08.26-19.58.13_MD594_3_0225_image.jpg\n"
     ]
    },
    {
     "name": "stderr",
     "output_type": "stream",
     "text": [
      "Child returned 0\n",
      "Load mask: 10.12\n",
      "regionprops: 1.95\n",
      "41254 blobs identified.\n",
      "Save blob coords: 2.15\n",
      "Save blob masks: 4.53\n",
      "Save blob contours, save: 7.10\n",
      "Compute blob properties, save: 8.90\n",
      "Processing section: 353\n"
     ]
    },
    {
     "name": "stdout",
     "output_type": "stream",
     "text": [
      "cp /oasis/projects/nsf/csd395/yuncong/CSHL_data_processed/MD594/MD594_lossless_unsorted_alignedTo_MD594-IHC58-2015.08.26-18.48.50_MD594_1_0172_cropped_compressed/MD594-N76-2015.08.27-01.35.41_MD594_1_0226_lossless_alignedTo_MD594-IHC58-2015.08.26-18.48.50_MD594_1_0172_cropped_compressed.jpg /home/yuncong/csd395/CSHL_cells_v2/detected_cells/MD594/MD594-N76-2015.08.27-01.35.41_MD594_1_0226/MD594-N76-2015.08.27-01.35.41_MD594_1_0226_image.jpg\n"
     ]
    },
    {
     "name": "stderr",
     "output_type": "stream",
     "text": [
      "Child returned 0\n",
      "Load mask: 9.97\n",
      "regionprops: 1.93\n",
      "40908 blobs identified.\n",
      "Save blob coords: 2.34\n",
      "Save blob masks: 4.51\n",
      "Save blob contours, save: 7.11\n",
      "Compute blob properties, save: 8.80\n",
      "Processing section: 354\n"
     ]
    },
    {
     "name": "stdout",
     "output_type": "stream",
     "text": [
      "cp /oasis/projects/nsf/csd395/yuncong/CSHL_data_processed/MD594/MD594_lossless_unsorted_alignedTo_MD594-IHC58-2015.08.26-18.48.50_MD594_1_0172_cropped_compressed/MD594-IHC76-2015.08.26-20.02.20_MD594_1_0226_lossless_alignedTo_MD594-IHC58-2015.08.26-18.48.50_MD594_1_0172_cropped_compressed.jpg /home/yuncong/csd395/CSHL_cells_v2/detected_cells/MD594/MD594-IHC76-2015.08.26-20.02.20_MD594_1_0226/MD594-IHC76-2015.08.26-20.02.20_MD594_1_0226_image.jpg\n"
     ]
    },
    {
     "name": "stderr",
     "output_type": "stream",
     "text": [
      "Child returned 0\n",
      "Load mask: 10.21\n",
      "regionprops: 1.98\n",
      "40608 blobs identified.\n",
      "Save blob coords: 2.20\n",
      "Save blob masks: 4.55\n",
      "Save blob contours, save: 7.10\n",
      "Compute blob properties, save: 8.79\n",
      "Processing section: 355\n"
     ]
    },
    {
     "name": "stdout",
     "output_type": "stream",
     "text": [
      "cp /oasis/projects/nsf/csd395/yuncong/CSHL_data_processed/MD594/MD594_lossless_unsorted_alignedTo_MD594-IHC58-2015.08.26-18.48.50_MD594_1_0172_cropped_compressed/MD594-N76-2015.08.27-01.35.41_MD594_2_0227_lossless_alignedTo_MD594-IHC58-2015.08.26-18.48.50_MD594_1_0172_cropped_compressed.jpg /home/yuncong/csd395/CSHL_cells_v2/detected_cells/MD594/MD594-N76-2015.08.27-01.35.41_MD594_2_0227/MD594-N76-2015.08.27-01.35.41_MD594_2_0227_image.jpg\n"
     ]
    },
    {
     "name": "stderr",
     "output_type": "stream",
     "text": [
      "Child returned 0\n",
      "Load mask: 10.11\n",
      "regionprops: 1.93\n",
      "40035 blobs identified.\n",
      "Save blob coords: 2.15\n",
      "Save blob masks: 4.44\n",
      "Save blob contours, save: 6.99\n",
      "Compute blob properties, save: 8.67\n",
      "Processing section: 356\n"
     ]
    },
    {
     "name": "stdout",
     "output_type": "stream",
     "text": [
      "cp /oasis/projects/nsf/csd395/yuncong/CSHL_data_processed/MD594/MD594_lossless_unsorted_alignedTo_MD594-IHC58-2015.08.26-18.48.50_MD594_1_0172_cropped_compressed/MD594-IHC76-2015.08.26-20.02.20_MD594_2_0227_lossless_alignedTo_MD594-IHC58-2015.08.26-18.48.50_MD594_1_0172_cropped_compressed.jpg /home/yuncong/csd395/CSHL_cells_v2/detected_cells/MD594/MD594-IHC76-2015.08.26-20.02.20_MD594_2_0227/MD594-IHC76-2015.08.26-20.02.20_MD594_2_0227_image.jpg\n"
     ]
    },
    {
     "name": "stderr",
     "output_type": "stream",
     "text": [
      "Child returned 0\n",
      "Load mask: 10.11\n",
      "regionprops: 1.94\n",
      "39821 blobs identified.\n",
      "Save blob coords: 2.36\n",
      "Save blob masks: 4.47\n",
      "Save blob contours, save: 6.91\n",
      "Compute blob properties, save: 8.81\n",
      "Processing section: 357\n"
     ]
    },
    {
     "name": "stdout",
     "output_type": "stream",
     "text": [
      "cp /oasis/projects/nsf/csd395/yuncong/CSHL_data_processed/MD594/MD594_lossless_unsorted_alignedTo_MD594-IHC58-2015.08.26-18.48.50_MD594_1_0172_cropped_compressed/MD594-N76-2015.08.27-01.35.41_MD594_3_0228_lossless_alignedTo_MD594-IHC58-2015.08.26-18.48.50_MD594_1_0172_cropped_compressed.jpg /home/yuncong/csd395/CSHL_cells_v2/detected_cells/MD594/MD594-N76-2015.08.27-01.35.41_MD594_3_0228/MD594-N76-2015.08.27-01.35.41_MD594_3_0228_image.jpg\n"
     ]
    },
    {
     "name": "stderr",
     "output_type": "stream",
     "text": [
      "Child returned 0\n",
      "Load mask: 10.22\n",
      "regionprops: 1.95\n",
      "40132 blobs identified.\n",
      "Save blob coords: 2.15\n",
      "Save blob masks: 4.44\n",
      "Save blob contours, save: 7.00\n",
      "Compute blob properties, save: 8.82\n",
      "Processing section: 358\n"
     ]
    },
    {
     "name": "stdout",
     "output_type": "stream",
     "text": [
      "cp /oasis/projects/nsf/csd395/yuncong/CSHL_data_processed/MD594/MD594_lossless_unsorted_alignedTo_MD594-IHC58-2015.08.26-18.48.50_MD594_1_0172_cropped_compressed/MD594-IHC76-2015.08.26-20.02.20_MD594_3_0228_lossless_alignedTo_MD594-IHC58-2015.08.26-18.48.50_MD594_1_0172_cropped_compressed.jpg /home/yuncong/csd395/CSHL_cells_v2/detected_cells/MD594/MD594-IHC76-2015.08.26-20.02.20_MD594_3_0228/MD594-IHC76-2015.08.26-20.02.20_MD594_3_0228_image.jpg\n"
     ]
    },
    {
     "name": "stderr",
     "output_type": "stream",
     "text": [
      "Child returned 0\n",
      "Load mask: 10.13\n",
      "regionprops: 1.69\n",
      "39280 blobs identified.\n",
      "Save blob coords: 2.08\n",
      "Save blob masks: 4.76\n",
      "Save blob contours, save: 6.76\n",
      "Compute blob properties, save: 8.75\n",
      "Processing section: 359\n"
     ]
    },
    {
     "name": "stdout",
     "output_type": "stream",
     "text": [
      "cp /oasis/projects/nsf/csd395/yuncong/CSHL_data_processed/MD594/MD594_lossless_unsorted_alignedTo_MD594-IHC58-2015.08.26-18.48.50_MD594_1_0172_cropped_compressed/MD594-N77-2015.08.27-01.39.57_MD594_1_0229_lossless_alignedTo_MD594-IHC58-2015.08.26-18.48.50_MD594_1_0172_cropped_compressed.jpg /home/yuncong/csd395/CSHL_cells_v2/detected_cells/MD594/MD594-N77-2015.08.27-01.39.57_MD594_1_0229/MD594-N77-2015.08.27-01.39.57_MD594_1_0229_image.jpg\n"
     ]
    },
    {
     "name": "stderr",
     "output_type": "stream",
     "text": [
      "Child returned 0\n",
      "Load mask: 10.17\n",
      "regionprops: 1.64\n",
      "38828 blobs identified.\n",
      "Save blob coords: 2.23\n",
      "Save blob masks: 4.28\n",
      "Save blob contours, save: 9.34\n",
      "Compute blob properties, save: 8.42\n",
      "Processing section: 360\n"
     ]
    },
    {
     "name": "stdout",
     "output_type": "stream",
     "text": [
      "cp /oasis/projects/nsf/csd395/yuncong/CSHL_data_processed/MD594/MD594_lossless_unsorted_alignedTo_MD594-IHC58-2015.08.26-18.48.50_MD594_1_0172_cropped_compressed/MD594-IHC77-2015.08.26-20.06.30_MD594_1_0229_lossless_alignedTo_MD594-IHC58-2015.08.26-18.48.50_MD594_1_0172_cropped_compressed.jpg /home/yuncong/csd395/CSHL_cells_v2/detected_cells/MD594/MD594-IHC77-2015.08.26-20.06.30_MD594_1_0229/MD594-IHC77-2015.08.26-20.06.30_MD594_1_0229_image.jpg\n"
     ]
    },
    {
     "name": "stderr",
     "output_type": "stream",
     "text": [
      "Child returned 0\n",
      "Load mask: 10.21\n",
      "regionprops: 1.96\n",
      "38279 blobs identified.\n",
      "Save blob coords: 2.06\n",
      "Save blob masks: 4.24\n",
      "Save blob contours, save: 6.74\n",
      "Compute blob properties, save: 8.35\n",
      "Processing section: 361\n"
     ]
    },
    {
     "name": "stdout",
     "output_type": "stream",
     "text": [
      "cp /oasis/projects/nsf/csd395/yuncong/CSHL_data_processed/MD594/MD594_lossless_unsorted_alignedTo_MD594-IHC58-2015.08.26-18.48.50_MD594_1_0172_cropped_compressed/MD594-N77-2015.08.27-01.39.57_MD594_2_0230_lossless_alignedTo_MD594-IHC58-2015.08.26-18.48.50_MD594_1_0172_cropped_compressed.jpg /home/yuncong/csd395/CSHL_cells_v2/detected_cells/MD594/MD594-N77-2015.08.27-01.39.57_MD594_2_0230/MD594-N77-2015.08.27-01.39.57_MD594_2_0230_image.jpg\n"
     ]
    },
    {
     "name": "stderr",
     "output_type": "stream",
     "text": [
      "Child returned 0\n",
      "Load mask: 10.13\n",
      "regionprops: 1.64\n",
      "38521 blobs identified.\n",
      "Save blob coords: 2.04\n",
      "Save blob masks: 4.37\n",
      "Save blob contours, save: 6.83\n",
      "Compute blob properties, save: 8.38\n",
      "Processing section: 362\n"
     ]
    },
    {
     "name": "stdout",
     "output_type": "stream",
     "text": [
      "cp /oasis/projects/nsf/csd395/yuncong/CSHL_data_processed/MD594/MD594_lossless_unsorted_alignedTo_MD594-IHC58-2015.08.26-18.48.50_MD594_1_0172_cropped_compressed/MD594-IHC77-2015.08.26-20.06.30_MD594_2_0230_lossless_alignedTo_MD594-IHC58-2015.08.26-18.48.50_MD594_1_0172_cropped_compressed.jpg /home/yuncong/csd395/CSHL_cells_v2/detected_cells/MD594/MD594-IHC77-2015.08.26-20.06.30_MD594_2_0230/MD594-IHC77-2015.08.26-20.06.30_MD594_2_0230_image.jpg\n"
     ]
    },
    {
     "name": "stderr",
     "output_type": "stream",
     "text": [
      "Child returned 0\n",
      "Load mask: 10.13\n",
      "regionprops: 2.00\n",
      "47335 blobs identified.\n",
      "Save blob coords: 2.81\n",
      "Save blob masks: 5.26\n",
      "Save blob contours, save: 8.22\n",
      "Compute blob properties, save: 10.45\n",
      "Processing section: 363\n"
     ]
    },
    {
     "name": "stdout",
     "output_type": "stream",
     "text": [
      "cp /oasis/projects/nsf/csd395/yuncong/CSHL_data_processed/MD594/MD594_lossless_unsorted_alignedTo_MD594-IHC58-2015.08.26-18.48.50_MD594_1_0172_cropped_compressed/MD594-N77-2015.08.27-01.39.57_MD594_3_0231_lossless_alignedTo_MD594-IHC58-2015.08.26-18.48.50_MD594_1_0172_cropped_compressed.jpg /home/yuncong/csd395/CSHL_cells_v2/detected_cells/MD594/MD594-N77-2015.08.27-01.39.57_MD594_3_0231/MD594-N77-2015.08.27-01.39.57_MD594_3_0231_image.jpg\n"
     ]
    },
    {
     "name": "stderr",
     "output_type": "stream",
     "text": [
      "Child returned 0\n",
      "Load mask: 9.97\n",
      "regionprops: 1.95\n",
      "38188 blobs identified.\n",
      "Save blob coords: 2.04\n",
      "Save blob masks: 4.23\n",
      "Save blob contours, save: 6.81\n",
      "Compute blob properties, save: 8.05\n",
      "Processing section: 364\n"
     ]
    },
    {
     "name": "stdout",
     "output_type": "stream",
     "text": [
      "cp /oasis/projects/nsf/csd395/yuncong/CSHL_data_processed/MD594/MD594_lossless_unsorted_alignedTo_MD594-IHC58-2015.08.26-18.48.50_MD594_1_0172_cropped_compressed/MD594-IHC77-2015.08.26-20.06.30_MD594_3_0231_lossless_alignedTo_MD594-IHC58-2015.08.26-18.48.50_MD594_1_0172_cropped_compressed.jpg /home/yuncong/csd395/CSHL_cells_v2/detected_cells/MD594/MD594-IHC77-2015.08.26-20.06.30_MD594_3_0231/MD594-IHC77-2015.08.26-20.06.30_MD594_3_0231_image.jpg\n"
     ]
    },
    {
     "name": "stderr",
     "output_type": "stream",
     "text": [
      "Child returned 0\n",
      "Load mask: 10.39\n",
      "regionprops: 1.96\n",
      "37474 blobs identified.\n",
      "Save blob coords: 2.01\n",
      "Save blob masks: 4.18\n",
      "Save blob contours, save: 6.66\n",
      "Compute blob properties, save: 8.09\n",
      "Processing section: 070\n"
     ]
    },
    {
     "name": "stdout",
     "output_type": "stream",
     "text": [
      "cp /oasis/projects/nsf/csd395/yuncong/CSHL_data_processed/MD595/MD595_lossless_unsorted_alignedTo_MD595-IHC48-2015.09.15-18.38.44_MD595_1_0142_cropped_compressed/MD595-IHC12-2015.09.15-01.21.39_MD595_2_0035_lossless_alignedTo_MD595-IHC48-2015.09.15-18.38.44_MD595_1_0142_cropped_compressed.jpg /home/yuncong/csd395/CSHL_cells_v2/detected_cells/MD595/MD595-IHC12-2015.09.15-01.21.39_MD595_2_0035/MD595-IHC12-2015.09.15-01.21.39_MD595_2_0035_image.jpg\n"
     ]
    },
    {
     "name": "stderr",
     "output_type": "stream",
     "text": [
      "Child returned 0\n",
      "Load mask: 12.71\n",
      "regionprops: 2.19\n",
      "32833 blobs identified.\n",
      "Save blob coords: 2.19\n",
      "Save blob masks: 3.82\n",
      "Save blob contours, save: 6.22\n",
      "Compute blob properties, save: 7.33\n",
      "Processing section: 071\n"
     ]
    },
    {
     "name": "stdout",
     "output_type": "stream",
     "text": [
      "cp /oasis/projects/nsf/csd395/yuncong/CSHL_data_processed/MD595/MD595_lossless_unsorted_alignedTo_MD595-IHC48-2015.09.15-18.38.44_MD595_1_0142_cropped_compressed/MD595-N12-2015.09.14-19.43.30_MD595_3_0036_lossless_alignedTo_MD595-IHC48-2015.09.15-18.38.44_MD595_1_0142_cropped_compressed.jpg /home/yuncong/csd395/CSHL_cells_v2/detected_cells/MD595/MD595-N12-2015.09.14-19.43.30_MD595_3_0036/MD595-N12-2015.09.14-19.43.30_MD595_3_0036_image.jpg\n"
     ]
    },
    {
     "name": "stderr",
     "output_type": "stream",
     "text": [
      "Child returned 0\n",
      "Load mask: 13.02\n",
      "regionprops: 2.19\n",
      "37141 blobs identified.\n",
      "Save blob coords: 2.20\n",
      "Save blob masks: 4.34\n",
      "Save blob contours, save: 6.71\n",
      "Compute blob properties, save: 8.42\n",
      "Processing section: 072\n"
     ]
    },
    {
     "name": "stdout",
     "output_type": "stream",
     "text": [
      "cp /oasis/projects/nsf/csd395/yuncong/CSHL_data_processed/MD595/MD595_lossless_unsorted_alignedTo_MD595-IHC48-2015.09.15-18.38.44_MD595_1_0142_cropped_compressed/MD595-IHC12-2015.09.15-01.21.39_MD595_3_0036_lossless_alignedTo_MD595-IHC48-2015.09.15-18.38.44_MD595_1_0142_cropped_compressed.jpg /home/yuncong/csd395/CSHL_cells_v2/detected_cells/MD595/MD595-IHC12-2015.09.15-01.21.39_MD595_3_0036/MD595-IHC12-2015.09.15-01.21.39_MD595_3_0036_image.jpg\n"
     ]
    },
    {
     "name": "stderr",
     "output_type": "stream",
     "text": [
      "Child returned 0\n",
      "Load mask: 12.92\n",
      "regionprops: 2.19\n",
      "37198 blobs identified.\n",
      "Save blob coords: 2.32\n",
      "Save blob masks: 4.26\n",
      "Save blob contours, save: 6.71\n",
      "Compute blob properties, save: 8.32\n",
      "Processing section: 073\n"
     ]
    },
    {
     "name": "stdout",
     "output_type": "stream",
     "text": [
      "cp /oasis/projects/nsf/csd395/yuncong/CSHL_data_processed/MD595/MD595_lossless_unsorted_alignedTo_MD595-IHC48-2015.09.15-18.38.44_MD595_1_0142_cropped_compressed/MD595-N13-2015.09.14-19.47.30_MD595_1_0037_lossless_alignedTo_MD595-IHC48-2015.09.15-18.38.44_MD595_1_0142_cropped_compressed.jpg /home/yuncong/csd395/CSHL_cells_v2/detected_cells/MD595/MD595-N13-2015.09.14-19.47.30_MD595_1_0037/MD595-N13-2015.09.14-19.47.30_MD595_1_0037_image.jpg\n"
     ]
    },
    {
     "name": "stderr",
     "output_type": "stream",
     "text": [
      "Child returned 0\n",
      "Load mask: 12.99\n",
      "regionprops: 2.23\n",
      "37616 blobs identified.\n",
      "Save blob coords: 2.22\n",
      "Save blob masks: 4.37\n",
      "Save blob contours, save: 6.96\n",
      "Compute blob properties, save: 8.52\n",
      "Processing section: 074\n"
     ]
    },
    {
     "name": "stdout",
     "output_type": "stream",
     "text": [
      "cp /oasis/projects/nsf/csd395/yuncong/CSHL_data_processed/MD595/MD595_lossless_unsorted_alignedTo_MD595-IHC48-2015.09.15-18.38.44_MD595_1_0142_cropped_compressed/MD595-IHC13-2015.09.15-01.25.33_MD595_1_0037_lossless_alignedTo_MD595-IHC48-2015.09.15-18.38.44_MD595_1_0142_cropped_compressed.jpg /home/yuncong/csd395/CSHL_cells_v2/detected_cells/MD595/MD595-IHC13-2015.09.15-01.25.33_MD595_1_0037/MD595-IHC13-2015.09.15-01.25.33_MD595_1_0037_image.jpg\n"
     ]
    },
    {
     "name": "stderr",
     "output_type": "stream",
     "text": [
      "Child returned 0\n",
      "Load mask: 12.94\n",
      "regionprops: 2.17\n",
      "37785 blobs identified.\n",
      "Save blob coords: 2.22\n",
      "Save blob masks: 4.37\n",
      "Save blob contours, save: 6.70\n",
      "Compute blob properties, save: 8.74\n",
      "Processing section: 075\n"
     ]
    },
    {
     "name": "stdout",
     "output_type": "stream",
     "text": [
      "cp /oasis/projects/nsf/csd395/yuncong/CSHL_data_processed/MD595/MD595_lossless_unsorted_alignedTo_MD595-IHC48-2015.09.15-18.38.44_MD595_1_0142_cropped_compressed/MD595-N13-2015.09.14-19.47.30_MD595_2_0038_lossless_alignedTo_MD595-IHC48-2015.09.15-18.38.44_MD595_1_0142_cropped_compressed.jpg /home/yuncong/csd395/CSHL_cells_v2/detected_cells/MD595/MD595-N13-2015.09.14-19.47.30_MD595_2_0038/MD595-N13-2015.09.14-19.47.30_MD595_2_0038_image.jpg\n"
     ]
    },
    {
     "name": "stderr",
     "output_type": "stream",
     "text": [
      "Child returned 0\n",
      "Load mask: 12.99\n",
      "regionprops: 1.97\n",
      "38209 blobs identified.\n",
      "Save blob coords: 2.23\n",
      "Save blob masks: 4.40\n",
      "Save blob contours, save: 7.12\n",
      "Compute blob properties, save: 8.47\n",
      "Processing section: 076\n"
     ]
    },
    {
     "name": "stdout",
     "output_type": "stream",
     "text": [
      "cp /oasis/projects/nsf/csd395/yuncong/CSHL_data_processed/MD595/MD595_lossless_unsorted_alignedTo_MD595-IHC48-2015.09.15-18.38.44_MD595_1_0142_cropped_compressed/MD595-IHC13-2015.09.15-01.25.33_MD595_2_0038_lossless_alignedTo_MD595-IHC48-2015.09.15-18.38.44_MD595_1_0142_cropped_compressed.jpg /home/yuncong/csd395/CSHL_cells_v2/detected_cells/MD595/MD595-IHC13-2015.09.15-01.25.33_MD595_2_0038/MD595-IHC13-2015.09.15-01.25.33_MD595_2_0038_image.jpg\n"
     ]
    },
    {
     "name": "stderr",
     "output_type": "stream",
     "text": [
      "Child returned 0\n",
      "Load mask: 12.69\n",
      "regionprops: 2.23\n",
      "37934 blobs identified.\n",
      "Save blob coords: 2.30\n",
      "Save blob masks: 4.43\n",
      "Save blob contours, save: 7.00\n",
      "Compute blob properties, save: 8.72\n",
      "Processing section: 077\n"
     ]
    },
    {
     "name": "stdout",
     "output_type": "stream",
     "text": [
      "cp /oasis/projects/nsf/csd395/yuncong/CSHL_data_processed/MD595/MD595_lossless_unsorted_alignedTo_MD595-IHC48-2015.09.15-18.38.44_MD595_1_0142_cropped_compressed/MD595-N13-2015.09.14-19.47.30_MD595_3_0039_lossless_alignedTo_MD595-IHC48-2015.09.15-18.38.44_MD595_1_0142_cropped_compressed.jpg /home/yuncong/csd395/CSHL_cells_v2/detected_cells/MD595/MD595-N13-2015.09.14-19.47.30_MD595_3_0039/MD595-N13-2015.09.14-19.47.30_MD595_3_0039_image.jpg\n"
     ]
    },
    {
     "name": "stderr",
     "output_type": "stream",
     "text": [
      "Child returned 0\n",
      "Load mask: 12.81\n",
      "regionprops: 1.92\n",
      "39045 blobs identified.\n",
      "Save blob coords: 2.32\n",
      "Save blob masks: 4.51\n",
      "Save blob contours, save: 7.34\n",
      "Compute blob properties, save: 8.82\n",
      "Processing section: 078\n"
     ]
    },
    {
     "name": "stdout",
     "output_type": "stream",
     "text": [
      "cp /oasis/projects/nsf/csd395/yuncong/CSHL_data_processed/MD595/MD595_lossless_unsorted_alignedTo_MD595-IHC48-2015.09.15-18.38.44_MD595_1_0142_cropped_compressed/MD595-IHC13-2015.09.15-01.25.33_MD595_3_0039_lossless_alignedTo_MD595-IHC48-2015.09.15-18.38.44_MD595_1_0142_cropped_compressed.jpg /home/yuncong/csd395/CSHL_cells_v2/detected_cells/MD595/MD595-IHC13-2015.09.15-01.25.33_MD595_3_0039/MD595-IHC13-2015.09.15-01.25.33_MD595_3_0039_image.jpg\n"
     ]
    },
    {
     "name": "stderr",
     "output_type": "stream",
     "text": [
      "Child returned 0\n",
      "Load mask: 12.69\n",
      "regionprops: 2.20\n",
      "39186 blobs identified.\n",
      "Save blob coords: 2.31\n",
      "Save blob masks: 4.55\n",
      "Save blob contours, save: 7.01\n",
      "Compute blob properties, save: 8.82\n",
      "Processing section: 079\n"
     ]
    },
    {
     "name": "stdout",
     "output_type": "stream",
     "text": [
      "cp /oasis/projects/nsf/csd395/yuncong/CSHL_data_processed/MD595/MD595_lossless_unsorted_alignedTo_MD595-IHC48-2015.09.15-18.38.44_MD595_1_0142_cropped_compressed/MD595-N14-2015.09.14-19.51.38_MD595_1_0040_lossless_alignedTo_MD595-IHC48-2015.09.15-18.38.44_MD595_1_0142_cropped_compressed.jpg /home/yuncong/csd395/CSHL_cells_v2/detected_cells/MD595/MD595-N14-2015.09.14-19.51.38_MD595_1_0040/MD595-N14-2015.09.14-19.51.38_MD595_1_0040_image.jpg\n"
     ]
    },
    {
     "name": "stderr",
     "output_type": "stream",
     "text": [
      "Child returned 0\n",
      "Load mask: 12.94\n",
      "regionprops: 2.25\n",
      "38689 blobs identified.\n",
      "Save blob coords: 2.39\n",
      "Save blob masks: 4.63\n",
      "Save blob contours, save: 6.87\n",
      "Compute blob properties, save: 8.86\n",
      "Processing section: 080\n"
     ]
    },
    {
     "name": "stdout",
     "output_type": "stream",
     "text": [
      "cp /oasis/projects/nsf/csd395/yuncong/CSHL_data_processed/MD595/MD595_lossless_unsorted_alignedTo_MD595-IHC48-2015.09.15-18.38.44_MD595_1_0142_cropped_compressed/MD595-IHC14-2015.09.15-01.29.30_MD595_1_0040_lossless_alignedTo_MD595-IHC48-2015.09.15-18.38.44_MD595_1_0142_cropped_compressed.jpg /home/yuncong/csd395/CSHL_cells_v2/detected_cells/MD595/MD595-IHC14-2015.09.15-01.29.30_MD595_1_0040/MD595-IHC14-2015.09.15-01.29.30_MD595_1_0040_image.jpg\n"
     ]
    },
    {
     "name": "stderr",
     "output_type": "stream",
     "text": [
      "Child returned 0\n",
      "Load mask: 12.69\n",
      "regionprops: 1.90\n",
      "32494 blobs identified.\n",
      "Save blob coords: 1.95\n",
      "Save blob masks: 3.76\n",
      "Save blob contours, save: 6.08\n",
      "Compute blob properties, save: 7.22\n",
      "Processing section: 081\n"
     ]
    },
    {
     "name": "stdout",
     "output_type": "stream",
     "text": [
      "cp /oasis/projects/nsf/csd395/yuncong/CSHL_data_processed/MD595/MD595_lossless_unsorted_alignedTo_MD595-IHC48-2015.09.15-18.38.44_MD595_1_0142_cropped_compressed/MD595-N14-2015.09.14-19.51.38_MD595_2_0041_lossless_alignedTo_MD595-IHC48-2015.09.15-18.38.44_MD595_1_0142_cropped_compressed.jpg /home/yuncong/csd395/CSHL_cells_v2/detected_cells/MD595/MD595-N14-2015.09.14-19.51.38_MD595_2_0041/MD595-N14-2015.09.14-19.51.38_MD595_2_0041_image.jpg\n"
     ]
    },
    {
     "name": "stderr",
     "output_type": "stream",
     "text": [
      "Child returned 0\n",
      "Load mask: 12.92\n",
      "regionprops: 2.13\n",
      "38919 blobs identified.\n",
      "Save blob coords: 2.32\n",
      "Save blob masks: 4.55\n",
      "Save blob contours, save: 6.96\n",
      "Compute blob properties, save: 8.96\n",
      "Processing section: 082\n"
     ]
    },
    {
     "name": "stdout",
     "output_type": "stream",
     "text": [
      "cp /oasis/projects/nsf/csd395/yuncong/CSHL_data_processed/MD595/MD595_lossless_unsorted_alignedTo_MD595-IHC48-2015.09.15-18.38.44_MD595_1_0142_cropped_compressed/MD595-IHC14-2015.09.15-01.29.30_MD595_2_0041_lossless_alignedTo_MD595-IHC48-2015.09.15-18.38.44_MD595_1_0142_cropped_compressed.jpg /home/yuncong/csd395/CSHL_cells_v2/detected_cells/MD595/MD595-IHC14-2015.09.15-01.29.30_MD595_2_0041/MD595-IHC14-2015.09.15-01.29.30_MD595_2_0041_image.jpg\n"
     ]
    },
    {
     "name": "stderr",
     "output_type": "stream",
     "text": [
      "Child returned 0\n",
      "Load mask: 12.70\n",
      "regionprops: 2.15\n",
      "32396 blobs identified.\n",
      "Save blob coords: 1.87\n",
      "Save blob masks: 3.71\n",
      "Save blob contours, save: 6.07\n",
      "Compute blob properties, save: 7.12\n",
      "Processing section: 083\n"
     ]
    },
    {
     "name": "stdout",
     "output_type": "stream",
     "text": [
      "cp /oasis/projects/nsf/csd395/yuncong/CSHL_data_processed/MD595/MD595_lossless_unsorted_alignedTo_MD595-IHC48-2015.09.15-18.38.44_MD595_1_0142_cropped_compressed/MD595-N14-2015.09.14-19.51.38_MD595_3_0042_lossless_alignedTo_MD595-IHC48-2015.09.15-18.38.44_MD595_1_0142_cropped_compressed.jpg /home/yuncong/csd395/CSHL_cells_v2/detected_cells/MD595/MD595-N14-2015.09.14-19.51.38_MD595_3_0042/MD595-N14-2015.09.14-19.51.38_MD595_3_0042_image.jpg\n"
     ]
    },
    {
     "name": "stderr",
     "output_type": "stream",
     "text": [
      "Child returned 0\n",
      "Load mask: 12.94\n",
      "regionprops: 2.12\n",
      "32078 blobs identified.\n",
      "Save blob coords: 1.86\n",
      "Save blob masks: 3.71\n",
      "Save blob contours, save: 5.84\n",
      "Compute blob properties, save: 7.18\n",
      "Processing section: 084\n"
     ]
    },
    {
     "name": "stdout",
     "output_type": "stream",
     "text": [
      "cp /oasis/projects/nsf/csd395/yuncong/CSHL_data_processed/MD595/MD595_lossless_unsorted_alignedTo_MD595-IHC48-2015.09.15-18.38.44_MD595_1_0142_cropped_compressed/MD595-IHC14-2015.09.15-01.29.30_MD595_3_0042_lossless_alignedTo_MD595-IHC48-2015.09.15-18.38.44_MD595_1_0142_cropped_compressed.jpg /home/yuncong/csd395/CSHL_cells_v2/detected_cells/MD595/MD595-IHC14-2015.09.15-01.29.30_MD595_3_0042/MD595-IHC14-2015.09.15-01.29.30_MD595_3_0042_image.jpg\n"
     ]
    },
    {
     "name": "stderr",
     "output_type": "stream",
     "text": [
      "Child returned 0\n",
      "Load mask: 12.71\n",
      "regionprops: 1.91\n",
      "39207 blobs identified.\n",
      "Save blob coords: 2.24\n",
      "Save blob masks: 4.57\n",
      "Save blob contours, save: 6.85\n",
      "Compute blob properties, save: 8.85\n",
      "Processing section: 085\n"
     ]
    },
    {
     "name": "stdout",
     "output_type": "stream",
     "text": [
      "cp /oasis/projects/nsf/csd395/yuncong/CSHL_data_processed/MD595/MD595_lossless_unsorted_alignedTo_MD595-IHC48-2015.09.15-18.38.44_MD595_1_0142_cropped_compressed/MD595-N15-2015.09.14-19.55.52_MD595_1_0043_lossless_alignedTo_MD595-IHC48-2015.09.15-18.38.44_MD595_1_0142_cropped_compressed.jpg /home/yuncong/csd395/CSHL_cells_v2/detected_cells/MD595/MD595-N15-2015.09.14-19.55.52_MD595_1_0043/MD595-N15-2015.09.14-19.55.52_MD595_1_0043_image.jpg\n"
     ]
    },
    {
     "name": "stderr",
     "output_type": "stream",
     "text": [
      "Child returned 0\n",
      "Load mask: 12.95\n",
      "regionprops: 1.96\n",
      "39423 blobs identified.\n",
      "Save blob coords: 2.41\n",
      "Save blob masks: 4.61\n",
      "Save blob contours, save: 7.45\n",
      "Compute blob properties, save: 8.93\n",
      "Processing section: 086\n"
     ]
    },
    {
     "name": "stdout",
     "output_type": "stream",
     "text": [
      "cp /oasis/projects/nsf/csd395/yuncong/CSHL_data_processed/MD595/MD595_lossless_unsorted_alignedTo_MD595-IHC48-2015.09.15-18.38.44_MD595_1_0142_cropped_compressed/MD595-IHC15-2015.09.15-01.33.33_MD595_1_0043_lossless_alignedTo_MD595-IHC48-2015.09.15-18.38.44_MD595_1_0142_cropped_compressed.jpg /home/yuncong/csd395/CSHL_cells_v2/detected_cells/MD595/MD595-IHC15-2015.09.15-01.33.33_MD595_1_0043/MD595-IHC15-2015.09.15-01.33.33_MD595_1_0043_image.jpg\n"
     ]
    },
    {
     "name": "stderr",
     "output_type": "stream",
     "text": [
      "Child returned 0\n",
      "Load mask: 12.70\n",
      "regionprops: 2.17\n",
      "40101 blobs identified.\n",
      "Save blob coords: 2.36\n",
      "Save blob masks: 4.60\n",
      "Save blob contours, save: 7.16\n",
      "Compute blob properties, save: 9.10\n",
      "Processing section: 087\n"
     ]
    },
    {
     "name": "stdout",
     "output_type": "stream",
     "text": [
      "cp /oasis/projects/nsf/csd395/yuncong/CSHL_data_processed/MD595/MD595_lossless_unsorted_alignedTo_MD595-IHC48-2015.09.15-18.38.44_MD595_1_0142_cropped_compressed/MD595-N15-2015.09.14-19.55.52_MD595_2_0044_lossless_alignedTo_MD595-IHC48-2015.09.15-18.38.44_MD595_1_0142_cropped_compressed.jpg /home/yuncong/csd395/CSHL_cells_v2/detected_cells/MD595/MD595-N15-2015.09.14-19.55.52_MD595_2_0044/MD595-N15-2015.09.14-19.55.52_MD595_2_0044_image.jpg\n"
     ]
    },
    {
     "name": "stderr",
     "output_type": "stream",
     "text": [
      "Child returned 0\n",
      "Load mask: 12.69\n",
      "regionprops: 1.93\n",
      "40306 blobs identified.\n",
      "Save blob coords: 2.37\n",
      "Save blob masks: 4.83\n",
      "Save blob contours, save: 7.35\n",
      "Compute blob properties, save: 8.97\n",
      "Processing section: 088\n"
     ]
    },
    {
     "name": "stdout",
     "output_type": "stream",
     "text": [
      "cp /oasis/projects/nsf/csd395/yuncong/CSHL_data_processed/MD595/MD595_lossless_unsorted_alignedTo_MD595-IHC48-2015.09.15-18.38.44_MD595_1_0142_cropped_compressed/MD595-IHC15-2015.09.15-01.33.33_MD595_2_0044_lossless_alignedTo_MD595-IHC48-2015.09.15-18.38.44_MD595_1_0142_cropped_compressed.jpg /home/yuncong/csd395/CSHL_cells_v2/detected_cells/MD595/MD595-IHC15-2015.09.15-01.33.33_MD595_2_0044/MD595-IHC15-2015.09.15-01.33.33_MD595_2_0044_image.jpg\n"
     ]
    },
    {
     "name": "stderr",
     "output_type": "stream",
     "text": [
      "Child returned 0\n",
      "Load mask: 12.70\n",
      "regionprops: 2.21\n",
      "40158 blobs identified.\n",
      "Save blob coords: 2.33\n",
      "Save blob masks: 4.62\n",
      "Save blob contours, save: 7.19\n",
      "Compute blob properties, save: 9.07\n",
      "Processing section: 089\n"
     ]
    },
    {
     "name": "stdout",
     "output_type": "stream",
     "text": [
      "cp /oasis/projects/nsf/csd395/yuncong/CSHL_data_processed/MD595/MD595_lossless_unsorted_alignedTo_MD595-IHC48-2015.09.15-18.38.44_MD595_1_0142_cropped_compressed/MD595-N15-2015.09.14-19.55.52_MD595_3_0045_lossless_alignedTo_MD595-IHC48-2015.09.15-18.38.44_MD595_1_0142_cropped_compressed.jpg /home/yuncong/csd395/CSHL_cells_v2/detected_cells/MD595/MD595-N15-2015.09.14-19.55.52_MD595_3_0045/MD595-N15-2015.09.14-19.55.52_MD595_3_0045_image.jpg\n"
     ]
    },
    {
     "name": "stderr",
     "output_type": "stream",
     "text": [
      "Child returned 0\n",
      "Load mask: 12.95\n",
      "regionprops: 2.28\n",
      "41437 blobs identified.\n",
      "Save blob coords: 2.36\n",
      "Save blob masks: 4.74\n",
      "Save blob contours, save: 7.30\n",
      "Compute blob properties, save: 9.21\n",
      "Processing section: 090\n"
     ]
    },
    {
     "name": "stdout",
     "output_type": "stream",
     "text": [
      "cp /oasis/projects/nsf/csd395/yuncong/CSHL_data_processed/MD595/MD595_lossless_unsorted_alignedTo_MD595-IHC48-2015.09.15-18.38.44_MD595_1_0142_cropped_compressed/MD595-IHC15-2015.09.15-01.33.33_MD595_3_0045_lossless_alignedTo_MD595-IHC48-2015.09.15-18.38.44_MD595_1_0142_cropped_compressed.jpg /home/yuncong/csd395/CSHL_cells_v2/detected_cells/MD595/MD595-IHC15-2015.09.15-01.33.33_MD595_3_0045/MD595-IHC15-2015.09.15-01.33.33_MD595_3_0045_image.jpg\n"
     ]
    },
    {
     "name": "stderr",
     "output_type": "stream",
     "text": [
      "Child returned 0\n"
     ]
    },
    {
     "ename": "KeyboardInterrupt",
     "evalue": "",
     "output_type": "error",
     "traceback": [
      "\u001b[0;31m---------------------------------------------------------------------------\u001b[0m",
      "\u001b[0;31mKeyboardInterrupt\u001b[0m                         Traceback (most recent call last)",
      "\u001b[0;32m<ipython-input-14-550af635b81e>\u001b[0m in \u001b[0;36m<module>\u001b[0;34m()\u001b[0m\n\u001b[1;32m     25\u001b[0m         \u001b[0mt\u001b[0m \u001b[0;34m=\u001b[0m \u001b[0mtime\u001b[0m\u001b[0;34m.\u001b[0m\u001b[0mtime\u001b[0m\u001b[0;34m(\u001b[0m\u001b[0;34m)\u001b[0m\u001b[0;34m\u001b[0m\u001b[0m\n\u001b[1;32m     26\u001b[0m         \u001b[0mmask_tb\u001b[0m \u001b[0;34m=\u001b[0m \u001b[0mDataManager\u001b[0m\u001b[0;34m.\u001b[0m\u001b[0mload_thumbnail_mask_v2\u001b[0m\u001b[0;34m(\u001b[0m\u001b[0mstack\u001b[0m\u001b[0;34m=\u001b[0m\u001b[0mstack\u001b[0m\u001b[0;34m,\u001b[0m \u001b[0msection\u001b[0m\u001b[0;34m=\u001b[0m\u001b[0msec\u001b[0m\u001b[0;34m)\u001b[0m\u001b[0;34m\u001b[0m\u001b[0m\n\u001b[0;32m---> 27\u001b[0;31m         \u001b[0mmask\u001b[0m \u001b[0;34m=\u001b[0m \u001b[0mresize\u001b[0m\u001b[0;34m(\u001b[0m\u001b[0mmask_tb\u001b[0m\u001b[0;34m,\u001b[0m \u001b[0mmetadata_cache\u001b[0m\u001b[0;34m[\u001b[0m\u001b[0;34m'image_shape'\u001b[0m\u001b[0;34m]\u001b[0m\u001b[0;34m[\u001b[0m\u001b[0mstack\u001b[0m\u001b[0;34m]\u001b[0m\u001b[0;34m[\u001b[0m\u001b[0;34m:\u001b[0m\u001b[0;34m:\u001b[0m\u001b[0;34m-\u001b[0m\u001b[0;36m1\u001b[0m\u001b[0;34m]\u001b[0m\u001b[0;34m)\u001b[0m \u001b[0;34m>\u001b[0m \u001b[0;36m.5\u001b[0m\u001b[0;34m\u001b[0m\u001b[0m\n\u001b[0m\u001b[1;32m     28\u001b[0m         \u001b[0msys\u001b[0m\u001b[0;34m.\u001b[0m\u001b[0mstderr\u001b[0m\u001b[0;34m.\u001b[0m\u001b[0mwrite\u001b[0m\u001b[0;34m(\u001b[0m\u001b[0;34m'Load mask: %.2f\\n'\u001b[0m \u001b[0;34m%\u001b[0m \u001b[0;34m(\u001b[0m\u001b[0mtime\u001b[0m\u001b[0;34m.\u001b[0m\u001b[0mtime\u001b[0m\u001b[0;34m(\u001b[0m\u001b[0;34m)\u001b[0m \u001b[0;34m-\u001b[0m \u001b[0mt\u001b[0m\u001b[0;34m)\u001b[0m \u001b[0;34m)\u001b[0m\u001b[0;34m\u001b[0m\u001b[0m\n\u001b[1;32m     29\u001b[0m \u001b[0;34m\u001b[0m\u001b[0m\n",
      "\u001b[0;32m/oasis/projects/nsf/csd395/yuncong/brain_virtualenv/lib/python2.7/site-packages/skimage/transform/_warps.pyc\u001b[0m in \u001b[0;36mresize\u001b[0;34m(image, output_shape, order, mode, cval, clip, preserve_range)\u001b[0m\n\u001b[1;32m    127\u001b[0m         out = warp(image, tform, output_shape=output_shape, order=order,\n\u001b[1;32m    128\u001b[0m                    \u001b[0mmode\u001b[0m\u001b[0;34m=\u001b[0m\u001b[0mmode\u001b[0m\u001b[0;34m,\u001b[0m \u001b[0mcval\u001b[0m\u001b[0;34m=\u001b[0m\u001b[0mcval\u001b[0m\u001b[0;34m,\u001b[0m \u001b[0mclip\u001b[0m\u001b[0;34m=\u001b[0m\u001b[0mclip\u001b[0m\u001b[0;34m,\u001b[0m\u001b[0;34m\u001b[0m\u001b[0m\n\u001b[0;32m--> 129\u001b[0;31m                    preserve_range=preserve_range)\n\u001b[0m\u001b[1;32m    130\u001b[0m \u001b[0;34m\u001b[0m\u001b[0m\n\u001b[1;32m    131\u001b[0m     \u001b[0;32mreturn\u001b[0m \u001b[0mout\u001b[0m\u001b[0;34m\u001b[0m\u001b[0m\n",
      "\u001b[0;32m/oasis/projects/nsf/csd395/yuncong/brain_virtualenv/lib/python2.7/site-packages/skimage/transform/_warps.pyc\u001b[0m in \u001b[0;36mwarp\u001b[0;34m(image, inverse_map, map_args, output_shape, order, mode, cval, clip, preserve_range)\u001b[0m\n\u001b[1;32m    760\u001b[0m                 warped = _warp_fast(image, matrix,\n\u001b[1;32m    761\u001b[0m                                  \u001b[0moutput_shape\u001b[0m\u001b[0;34m=\u001b[0m\u001b[0moutput_shape\u001b[0m\u001b[0;34m,\u001b[0m\u001b[0;34m\u001b[0m\u001b[0m\n\u001b[0;32m--> 762\u001b[0;31m                                  order=order, mode=mode, cval=cval)\n\u001b[0m\u001b[1;32m    763\u001b[0m             \u001b[0;32melif\u001b[0m \u001b[0mimage\u001b[0m\u001b[0;34m.\u001b[0m\u001b[0mndim\u001b[0m \u001b[0;34m==\u001b[0m \u001b[0;36m3\u001b[0m\u001b[0;34m:\u001b[0m\u001b[0;34m\u001b[0m\u001b[0m\n\u001b[1;32m    764\u001b[0m                 \u001b[0mdims\u001b[0m \u001b[0;34m=\u001b[0m \u001b[0;34m[\u001b[0m\u001b[0;34m]\u001b[0m\u001b[0;34m\u001b[0m\u001b[0m\n",
      "\u001b[0;32mskimage/transform/_warps_cy.pyx\u001b[0m in \u001b[0;36mskimage.transform._warps_cy._warp_fast (skimage/transform/_warps_cy.c:2968)\u001b[0;34m()\u001b[0m\n",
      "\u001b[0;32m/oasis/projects/nsf/csd395/yuncong/brain_virtualenv/lib/python2.7/site-packages/numpy/core/numeric.pyc\u001b[0m in \u001b[0;36masarray\u001b[0;34m(a, dtype, order)\u001b[0m\n\u001b[1;32m    412\u001b[0m \u001b[0;34m\u001b[0m\u001b[0m\n\u001b[1;32m    413\u001b[0m \u001b[0;34m\u001b[0m\u001b[0m\n\u001b[0;32m--> 414\u001b[0;31m \u001b[0;32mdef\u001b[0m \u001b[0masarray\u001b[0m\u001b[0;34m(\u001b[0m\u001b[0ma\u001b[0m\u001b[0;34m,\u001b[0m \u001b[0mdtype\u001b[0m\u001b[0;34m=\u001b[0m\u001b[0mNone\u001b[0m\u001b[0;34m,\u001b[0m \u001b[0morder\u001b[0m\u001b[0;34m=\u001b[0m\u001b[0mNone\u001b[0m\u001b[0;34m)\u001b[0m\u001b[0;34m:\u001b[0m\u001b[0;34m\u001b[0m\u001b[0m\n\u001b[0m\u001b[1;32m    415\u001b[0m     \"\"\"Convert the input to an array.\n\u001b[1;32m    416\u001b[0m \u001b[0;34m\u001b[0m\u001b[0m\n",
      "\u001b[0;31mKeyboardInterrupt\u001b[0m: "
     ]
    }
   ],
   "source": [
    "# for stack in all_nissl_stacks:\n",
    "for stack in ['MD595', 'MD598', 'MD599', 'MD602', 'MD603']:\n",
    "        \n",
    "    sections_to_filenames = metadata_cache['sections_to_filenames'][stack]\n",
    "    first_bs_section, last_bs_section = metadata_cache['section_limits'][stack]\n",
    "    \n",
    "    output_dir = create_if_not_exists(os.path.join(DETECTED_CELLS_ROOTDIR, stack))\n",
    "    \n",
    "    for sec in range(first_bs_section, last_bs_section+1):\n",
    "    \n",
    "        fn = sections_to_filenames[sec]\n",
    "        \n",
    "        if is_invalid(fn=fn):\n",
    "            continue\n",
    "\n",
    "        fn_output_dir = create_if_not_exists(os.path.join(output_dir, fn))\n",
    "\n",
    "        sys.stderr.write('Processing section: %03d\\n' % sec)\n",
    "\n",
    "        jpeg_filename = DataManager.get_image_filepath(stack=stack, section=sec, resol='lossless', version='compressed')\n",
    "        copyto_filename ='/home/yuncong/csd395/CSHL_cells_v2/detected_cells/%(stack)s/%(fn)s/%(fn)s_image.jpg' % {'fn':fn, 'stack':stack}\n",
    "        execute_command(\"cp %s %s\" % (jpeg_filename, copyto_filename))\n",
    "\n",
    "        # Load mask\n",
    "        t = time.time()\n",
    "        mask_tb = DataManager.load_thumbnail_mask_v2(stack=stack, section=sec)\n",
    "        mask = resize(mask_tb, metadata_cache['image_shape'][stack][::-1]) > .5\n",
    "        sys.stderr.write('Load mask: %.2f\\n' % (time.time() - t) )\n",
    "\n",
    "\n",
    "        if alg == 'myown':\n",
    "\n",
    "            img_filename = DataManager.get_image_filepath(stack=stack, section=sec, resol='lossless', version='cropped')\n",
    "\n",
    "            img = imread(img_filename)\n",
    "            sys.stderr.write('Load image: %.2f\\n' % (time.time() - t) )\n",
    "\n",
    "            t = time.time()\n",
    "            im = rgb2gray(img)\n",
    "            sys.stderr.write('Convert to gray: %.2f\\n' % (time.time() - t) )\n",
    "\n",
    "            t = time.time()\n",
    "\n",
    "            thresh = threshold_otsu(im)\n",
    "            binary = im < thresh\n",
    "            binary[~mask] = 0\n",
    "\n",
    "            sys.stderr.write('threshold: %.2f\\n' % (time.time() - t) )\n",
    "        #     imsave(fn_output_dir + '/%(fn)s_otsu.png' % {'fn':fn}, binary.astype(np.uint8)*255)\n",
    "\n",
    "            # plt.imshow(binary, cmap=plt.cm.gray);\n",
    "            # plt.axis('off');\n",
    "            # plt.title('binary');\n",
    "\n",
    "            t = time.time()\n",
    "            dt = distance_transform_edt(binary)\n",
    "            sys.stderr.write('distance transform: %.2f\\n' % (time.time() - t) )\n",
    "\n",
    "        #     imsave(fn_output_dir + '/%(fn)s_dt.png' % {'fn':fn}, img_as_ubyte(plt.cm.jet(dt/dt.max())))\n",
    "\n",
    "            # plt.imshow(dt, cmap=plt.cm.gray);\n",
    "            # plt.axis('off');\n",
    "            # plt.title('distance tranform');\n",
    "\n",
    "            t = time.time()\n",
    "            local_maxi = peak_local_max(dt, labels=binary, footprint=np.ones((10, 10)), indices=False)\n",
    "            sys.stderr.write('local max: %.2f\\n' % (time.time() - t) )\n",
    "\n",
    "            # plt.imshow(local_maxi, cmap=plt.cm.gray);\n",
    "            # plt.axis('off');\n",
    "            # plt.title('local maxima');\n",
    "\n",
    "            t = time.time()\n",
    "            markers = label(local_maxi)\n",
    "            sys.stderr.write('label: %.2f\\n' % (time.time() - t) )\n",
    "\n",
    "            t = time.time()\n",
    "            labels = watershed(-dt, markers, mask=binary)\n",
    "            sys.stderr.write('watershed: %.2f\\n' % (time.time() - t) )\n",
    "\n",
    "        elif alg == 'cellprofiler':\n",
    "            labels = bp.unpack_ndarray_file(output_dir + '/%(fn)s/%(fn)s_image_inverted_labelmap_cellprofiler.bp' % \\\n",
    "                                            dict(fn=fn))\n",
    "            labels[~mask] = 0\n",
    "\n",
    "        elif alg == 'farsight':\n",
    "            labels = bp.unpack_ndarray_file(output_dir + '/%(fn)s/%(fn)s_image_inverted_labelmap_farsight.bp' % \\\n",
    "                                           dict(fn=fn))\n",
    "            labels[~mask] = 0\n",
    "\n",
    "        else:\n",
    "            raise 'Algorithm not recognized.'\n",
    "\n",
    "        # plt.imshow(labels);\n",
    "        # plt.axis('off');\n",
    "        # plt.title('labels');\n",
    "\n",
    "        t = time.time()\n",
    "        props = regionprops(labels)\n",
    "        sys.stderr.write('regionprops: %.2f\\n' % (time.time() - t) )\n",
    "\n",
    "    #     plt.hist([p.area for p in props], bins=100);\n",
    "    #     plt.title('Area histograms');\n",
    "    #     plt.show();\n",
    "\n",
    "        valid_blob_indices = [i for i, p in enumerate(props) if p.area > min_blob_area and p.area < max_blob_area]\n",
    "        sys.stderr.write('%d blobs identified.\\n' % len(valid_blob_indices))\n",
    "\n",
    "        # Get blobs\n",
    "        t = time.time()\n",
    "        valid_blob_coords = [props[i].coords for i in valid_blob_indices] # r,c\n",
    "        #     pickle.dump(valid_blob_coords, open(fn_output_dir + '/%(fn)s_blobCoords.pkl' % {'fn':fn}, 'w'))\n",
    "        pandas.Series(data=valid_blob_coords).to_hdf(fn_output_dir + '/%(fn)s_blobCoords.hdf' % {'fn': fn}, 'data', mode='w')\n",
    "        sys.stderr.write('Save blob coords: %.2f\\n' % (time.time() - t) )\n",
    "\n",
    "        # Generate masks\n",
    "        t = time.time()\n",
    "    #     bar = show_progress_bar(first_bs_section, last_bs_section)\n",
    "\n",
    "        cell_masks = []\n",
    "        cell_mask_centers = []\n",
    "        for i, coords in enumerate(valid_blob_coords):\n",
    "    #         bar.value = i\n",
    "            ymin, xmin = coords.min(axis=0)\n",
    "            ymax, xmax = coords.max(axis=0)\n",
    "            cell_mask = np.zeros((ymax+1-ymin, xmax+1-xmin), np.bool)\n",
    "            cell_mask[coords[:,0]-ymin, coords[:,1]-xmin] = 1\n",
    "            yc, xc = np.mean(np.where(cell_mask), axis=1)\n",
    "            cell_masks.append(cell_mask)\n",
    "            cell_mask_centers.append([xc, yc])\n",
    "\n",
    "        pandas.Series(data=cell_masks).to_hdf(fn_output_dir + '/%(fn)s_blobMasks.hdf' % {'fn': fn}, 'data', mode='w')    \n",
    "        bp.pack_ndarray_file(np.array(cell_mask_centers), fn_output_dir + '/%(fn)s_blobMaskCenters.bp' % {'fn':fn})\n",
    "\n",
    "        sys.stderr.write('Save blob masks: %.2f\\n' % (time.time() - t) )\n",
    "\n",
    "        # Other blob attributes\n",
    "        t = time.time()\n",
    "\n",
    "    #     valid_blob_contours = [find_contour_points(msk, sample_every=1)[1][0] for msk in cell_masks]\n",
    "\n",
    "        def find_contour_worker(msk):\n",
    "            if msk.shape[0] == 1:\n",
    "                # if mask is a straight line, append another line to it.\n",
    "                msk = np.vstack([msk, np.ones((msk.shape[1],))])\n",
    "            elif msk.shape[1] == 1:\n",
    "                msk = np.c_[msk, np.ones((msk.shape[0],))]\n",
    "            return find_contour_points(msk, sample_every=1)[1][0]\n",
    "\n",
    "        pool = Pool(16)\n",
    "        valid_blob_contours = pool.map(lambda msk: find_contour_worker(msk), cell_masks)\n",
    "        pool.terminate()\n",
    "        pool.join()\n",
    "\n",
    "    #     pickle.dump(valid_blob_contours, open(fn_output_dir + '/%(fn)s_blobContours.pkl' % {'fn':fn}, 'w'))\n",
    "        pandas.Series(data=valid_blob_contours).to_hdf(fn_output_dir + '/%(fn)s_blobContours.hdf' % {'fn': fn}, 'data', mode='w')\n",
    "\n",
    "        sys.stderr.write('Save blob contours, save: %.2f\\n' % (time.time() - t) )\n",
    "\n",
    "        t = time.time()\n",
    "\n",
    "        valid_blob_orientations = np.array([props[i].orientation for i in valid_blob_indices])\n",
    "        valid_blob_centroids = np.array([props[i].centroid for i in valid_blob_indices])[:,::-1] # r,c -> x,y\n",
    "        valid_blob_majorAxisLen = np.array([props[i].major_axis_length for i in valid_blob_indices])\n",
    "        valid_blob_minorAxisLen = np.array([props[i].minor_axis_length for i in valid_blob_indices])\n",
    "\n",
    "        bp.pack_ndarray_file(valid_blob_orientations, fn_output_dir + '/%(fn)s_blobOrientations.bp' % {'fn':fn})\n",
    "        bp.pack_ndarray_file(valid_blob_centroids, fn_output_dir + '/%(fn)s_blobCentroids.bp' % {'fn':fn})\n",
    "        bp.pack_ndarray_file(valid_blob_majorAxisLen, fn_output_dir + '/%(fn)s_blobMajorAxisLen.bp' % {'fn':fn})\n",
    "        bp.pack_ndarray_file(valid_blob_minorAxisLen, fn_output_dir + '/%(fn)s_blobMinorAxisLen.bp' % {'fn':fn})\n",
    "\n",
    "        blob_contours_global = [(valid_blob_contours[i] - cell_mask_centers[i] + valid_blob_centroids[i]).astype(np.int)\n",
    "                                for i in range(len(valid_blob_coords))]\n",
    "        pandas.Series(data=blob_contours_global).to_hdf(fn_output_dir + '/%(fn)s_blobContoursGlobal_%(alg)s.hdf' % {'fn': fn, 'alg':alg}, \n",
    "                                                        'data', mode='w')\n",
    "\n",
    "        sys.stderr.write('Compute blob properties, save: %.2f\\n' % (time.time() - t) )\n"
   ]
  }
 ],
 "metadata": {
  "kernelspec": {
   "display_name": "Python 2",
   "language": "python",
   "name": "python2"
  },
  "language_info": {
   "codemirror_mode": {
    "name": "ipython",
    "version": 2
   },
   "file_extension": ".py",
   "mimetype": "text/x-python",
   "name": "python",
   "nbconvert_exporter": "python",
   "pygments_lexer": "ipython2",
   "version": "2.7.3"
  }
 },
 "nbformat": 4,
 "nbformat_minor": 0
}
