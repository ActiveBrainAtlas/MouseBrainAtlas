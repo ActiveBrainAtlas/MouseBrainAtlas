{
 "cells": [
  {
   "cell_type": "code",
   "execution_count": 1,
   "metadata": {
    "collapsed": false
   },
   "outputs": [
    {
     "name": "stdout",
     "output_type": "stream",
     "text": [
      "Setting environment for Gordon\n"
     ]
    }
   ],
   "source": [
    "%reload_ext autoreload\n",
    "%autoreload 2\n",
    "\n",
    "import os\n",
    "import sys\n",
    "import time\n",
    "import cv2\n",
    "\n",
    "from joblib import Parallel, delayed\n",
    "\n",
    "sys.path.append(os.path.join(os.environ['REPO_DIR'], 'utilities'))\n",
    "from utilities2015 import *\n",
    "from data_manager import *\n",
    "from metadata import *\n",
    "\n",
    "import matplotlib.pyplot as plt\n",
    "%matplotlib inline\n",
    "\n",
    "from skimage.transform import rotate"
   ]
  },
  {
   "cell_type": "code",
   "execution_count": 2,
   "metadata": {
    "collapsed": false
   },
   "outputs": [
    {
     "name": "stderr",
     "output_type": "stream",
     "text": [
      "/oasis/projects/nsf/csd181/yuncong/virtualenv-1.9.1/yuncongve/lib/python2.7/site-packages/requests/packages/urllib3/util/ssl_.py:90: InsecurePlatformWarning: A true SSLContext object is not available. This prevents urllib3 from configuring SSL appropriately and may cause certain SSL connections to fail. For more information, see https://urllib3.readthedocs.org/en/latest/security.html#insecureplatformwarning.\n",
      "  InsecurePlatformWarning\n"
     ]
    }
   ],
   "source": [
    "import plotly.plotly as py\n",
    "import plotly.graph_objs as go\n",
    "import plotly.tools as tls\n",
    "tls.set_credentials_file(username='mistycheney', api_key='cjx2w6a4si')"
   ]
  },
  {
   "cell_type": "code",
   "execution_count": 3,
   "metadata": {
    "collapsed": true
   },
   "outputs": [],
   "source": [
    "cell_masks_normalized = bp.unpack_ndarray_file('/home/yuncong/csd395/CSHL_cells/fractal_dim/cell_masks_normalized.bp')"
   ]
  },
  {
   "cell_type": "code",
   "execution_count": 21,
   "metadata": {
    "collapsed": true
   },
   "outputs": [],
   "source": [
    "n_cells = len(cell_masks_normalized)"
   ]
  },
  {
   "cell_type": "code",
   "execution_count": 76,
   "metadata": {
    "collapsed": true
   },
   "outputs": [],
   "source": [
    "from registration_utilities import *"
   ]
  },
  {
   "cell_type": "code",
   "execution_count": 112,
   "metadata": {
    "collapsed": true
   },
   "outputs": [],
   "source": [
    "! rm -r /home/yuncong/csd395/CSHL_cells/gallery/random/*"
   ]
  },
  {
   "cell_type": "code",
   "execution_count": 114,
   "metadata": {
    "collapsed": false,
    "scrolled": true
   },
   "outputs": [
    {
     "name": "stderr",
     "output_type": "stream",
     "text": [
      "/oasis/projects/nsf/csd181/yuncong/virtualenv-1.9.1/yuncongve/lib/python2.7/site-packages/skimage/io/_io.py:131: UserWarning:\n",
      "\n",
      "/home/yuncong/csd395/CSHL_cells/gallery/random/random1000/blobs/cellMask_random1000Blobs_66_149557.png is a low contrast image\n",
      "\n",
      "/oasis/projects/nsf/csd181/yuncong/virtualenv-1.9.1/yuncongve/lib/python2.7/site-packages/skimage/io/_io.py:131: UserWarning:\n",
      "\n",
      "/home/yuncong/csd395/CSHL_cells/gallery/random/random1000/blobs/cellMask_random1000Blobs_186_66605.png is a low contrast image\n",
      "\n",
      "/oasis/projects/nsf/csd181/yuncong/virtualenv-1.9.1/yuncongve/lib/python2.7/site-packages/skimage/io/_io.py:131: UserWarning:\n",
      "\n",
      "/home/yuncong/csd395/CSHL_cells/gallery/random/random1000/contours/cellMask_random1000Contours_357_189927.png is a low contrast image\n",
      "\n",
      "/oasis/projects/nsf/csd181/yuncong/virtualenv-1.9.1/yuncongve/lib/python2.7/site-packages/skimage/io/_io.py:131: UserWarning:\n",
      "\n",
      "/home/yuncong/csd395/CSHL_cells/gallery/random/random1000/blobs/cellMask_random1000Blobs_357_189927.png is a low contrast image\n",
      "\n",
      "/oasis/projects/nsf/csd181/yuncong/virtualenv-1.9.1/yuncongve/lib/python2.7/site-packages/skimage/io/_io.py:131: UserWarning:\n",
      "\n",
      "/home/yuncong/csd395/CSHL_cells/gallery/random/random1000/blobs/cellMask_random1000Blobs_360_54855.png is a low contrast image\n",
      "\n",
      "/oasis/projects/nsf/csd181/yuncong/virtualenv-1.9.1/yuncongve/lib/python2.7/site-packages/skimage/io/_io.py:131: UserWarning:\n",
      "\n",
      "/home/yuncong/csd395/CSHL_cells/gallery/random/random1000/blobs/cellMask_random1000Blobs_523_156290.png is a low contrast image\n",
      "\n",
      "/oasis/projects/nsf/csd181/yuncong/virtualenv-1.9.1/yuncongve/lib/python2.7/site-packages/skimage/io/_io.py:131: UserWarning:\n",
      "\n",
      "/home/yuncong/csd395/CSHL_cells/gallery/random/random1000/blobs/cellMask_random1000Blobs_630_117169.png is a low contrast image\n",
      "\n"
     ]
    }
   ],
   "source": [
    "n = 1000\n",
    "\n",
    "colors = random_colors(n)\n",
    "\n",
    "indices = np.random.choice(np.arange(n_cells), n)\n",
    "for r, i in enumerate(indices):\n",
    "    \n",
    "    contour_mask = np.zeros_like(cell_masks_normalized[i])\n",
    "    contour_pts = np.array(find_contour_points(cell_masks_normalized[i].astype(np.int), sample_every=1)[1][0], np.int)\n",
    "    contour_mask[contour_pts[:,1], contour_pts[:,0]] = 1\n",
    "    xmin, xmax, ymin, ymax = bbox_2d(contour_mask)      \n",
    "    m = contour_mask[ymin:ymax+1, xmin:xmax+1].copy()\n",
    "\n",
    "    m_rgba = np.zeros(m.shape+(4,), np.uint8)\n",
    "    m_rgba[m > 0, :3] = colors[r]\n",
    "    m_rgba[m > 0, 3] = 255\n",
    "    \n",
    "    contour_output_dir = create_if_not_exists('/home/yuncong/csd395/CSHL_cells/gallery/random/random%d/contours' % (n))\n",
    "    imsave(contour_output_dir + '/cellMask_random%dContours_%d_%d.png' % (n,r, i), m_rgba)\n",
    "    \n",
    "    xmin, xmax, ymin, ymax = bbox_2d(cell_masks_normalized[i])  \n",
    "    m = cell_masks_normalized[i][ymin:ymax+1, xmin:xmax+1].copy()\n",
    "\n",
    "    m_rgba = np.zeros(m.shape+(4,), np.uint8)\n",
    "    m_rgba[m > 0, :3] = colors[r]\n",
    "    m_rgba[m > 0, 3] = 255\n",
    "    \n",
    "    blob_output_dir = create_if_not_exists('/home/yuncong/csd395/CSHL_cells/gallery/random/random%d/blobs' % (n))\n",
    "    imsave(blob_output_dir + '/cellMask_random%dBlobs_%d_%d.png' % (n, r, i), m_rgba)\n",
    "\n",
    "\n",
    "E_dict = []\n",
    "\n",
    "for r, i in enumerate(indices):\n",
    "    e1, e2, e3, e4, e5 = E[i, :5]\n",
    "    E_dict.append({'e1':e1, 'e2':e2, 'e3':e3, 'e4':e4, 'e5':e5, 'id':r, 'index':i})\n",
    "\n",
    "import json\n",
    "json.dump(E_dict, open('/home/yuncong/csd395/CSHL_cells/gallery/random/random%d/embedding_random%d.json' % (n, n), 'w'))"
   ]
  },
  {
   "cell_type": "code",
   "execution_count": 115,
   "metadata": {
    "collapsed": false
   },
   "outputs": [],
   "source": [
    "! cd /home/yuncong/csd395/CSHL_cells/gallery/; tar -czf random.tar.gz random"
   ]
  },
  {
   "cell_type": "code",
   "execution_count": null,
   "metadata": {
    "collapsed": true
   },
   "outputs": [],
   "source": []
  },
  {
   "cell_type": "code",
   "execution_count": 49,
   "metadata": {
    "collapsed": false
   },
   "outputs": [],
   "source": []
  },
  {
   "cell_type": "code",
   "execution_count": 6,
   "metadata": {
    "collapsed": true
   },
   "outputs": [],
   "source": [
    "E = bp.unpack_ndarray_file('/home/yuncong/csd395/CSHL_cells/fractal_dim/embeddingAllEigen_nystromSample100.bp')"
   ]
  },
  {
   "cell_type": "code",
   "execution_count": 23,
   "metadata": {
    "collapsed": true
   },
   "outputs": [],
   "source": [
    "E_normalized = bp.unpack_ndarray_file('/home/yuncong/csd395/CSHL_cells/fractal_dim/embeddingAllEigenNormalized_nystromSample100.bp')"
   ]
  },
  {
   "cell_type": "code",
   "execution_count": 4,
   "metadata": {
    "collapsed": false,
    "scrolled": true
   },
   "outputs": [
    {
     "name": "stdout",
     "output_type": "stream",
     "text": [
      "[1954  829 2163 2190 1999 2224 1138 3610 1659 1611 1792 1340 3102 1223 2196\n",
      " 1642 2632 1084 2840 1291 2143 1114  547 2435 2577  456 2524 1745 3261 3868\n",
      " 1377  811 2395 1898 2576  276  914  817 1942 3343 2069 2085 2847 2328 2295\n",
      " 3079 3567 2342 1616 1386 3719 2092 1110 2735 2078 1527 1788 1812 3417 1865\n",
      " 1261 1521 1833 1067  768 1325 3715 1309 2330 2202 2128 1987  263 1565 1924\n",
      " 1566 3169 1170  695 1979 2701 1885 2410 2411 1701 1206 3009 1765 3028 2111\n",
      " 1441 3566 2941 1794 3075  920 1440 2172 1711 1594]\n"
     ]
    }
   ],
   "source": [
    "from sklearn.cluster import KMeans, MiniBatchKMeans\n",
    "\n",
    "n_classes = 100\n",
    "\n",
    "kmeans = MiniBatchKMeans(n_clusters=n_classes)\n",
    "kmeans.fit(E_original_order);\n",
    "\n",
    "print np.bincount(kmeans.labels_, minlength=n_classes)"
   ]
  },
  {
   "cell_type": "code",
   "execution_count": 5,
   "metadata": {
    "collapsed": true
   },
   "outputs": [],
   "source": [
    "colors = np.asarray(random_colors(n_classes))\n",
    "colors = ['rgb(%d,%d,%d)'%(r,g,b) for r,g,b in colors]"
   ]
  },
  {
   "cell_type": "code",
   "execution_count": 6,
   "metadata": {
    "collapsed": true
   },
   "outputs": [],
   "source": [
    "import plotly"
   ]
  },
  {
   "cell_type": "code",
   "execution_count": 26,
   "metadata": {
    "collapsed": false
   },
   "outputs": [
    {
     "data": {
      "text/plain": [
       "'file:///home/yuncong/csd395/CSHL_cells/fractal_dim/embedding_nystromSample100_2d0and1.html'"
      ]
     },
     "execution_count": 26,
     "metadata": {},
     "output_type": "execute_result"
    }
   ],
   "source": [
    "data = []\n",
    "\n",
    "\n",
    "trace = go.Scattergl(\n",
    "    x = E[:,0],\n",
    "    y = E[:,1],\n",
    "    mode = 'markers',\n",
    "    name = 'cluster %d'%i,\n",
    "    marker = dict(\n",
    "        line = dict(width = 1)\n",
    "    )\n",
    ")\n",
    "data += [trace]\n",
    "\n",
    "plotly.offline.plot(data, filename='/home/yuncong/csd395/CSHL_cells/fractal_dim/embedding_nystromSample100_2d0and1.html', auto_open=False)"
   ]
  },
  {
   "cell_type": "code",
   "execution_count": 27,
   "metadata": {
    "collapsed": false
   },
   "outputs": [
    {
     "data": {
      "text/plain": [
       "'file:///home/yuncong/csd395/CSHL_cells/fractal_dim/embeddingNormalized_nystromSample100_2d1and2.html'"
      ]
     },
     "execution_count": 27,
     "metadata": {},
     "output_type": "execute_result"
    }
   ],
   "source": [
    "data = []\n",
    "\n",
    "\n",
    "trace = go.Scattergl(\n",
    "    x = E_normalized[:,1],\n",
    "    y = E_normalized[:,2],\n",
    "    mode = 'markers',\n",
    "    name = 'cluster %d'%i,\n",
    "    marker = dict(\n",
    "        line = dict(width = 1)\n",
    "    )\n",
    ")\n",
    "data += [trace]\n",
    "\n",
    "plotly.offline.plot(data, filename='/home/yuncong/csd395/CSHL_cells/fractal_dim/embeddingNormalized_nystromSample100_2d1and2.html', auto_open=False)"
   ]
  },
  {
   "cell_type": "code",
   "execution_count": 7,
   "metadata": {
    "collapsed": false
   },
   "outputs": [
    {
     "ename": "IndexError",
     "evalue": "index 2 is out of bounds for axis 1 with size 2",
     "output_type": "error",
     "traceback": [
      "\u001b[1;31m---------------------------------------------------------------------------\u001b[0m",
      "\u001b[1;31mIndexError\u001b[0m                                Traceback (most recent call last)",
      "\u001b[1;32m<ipython-input-7-1c309c91c6b8>\u001b[0m in \u001b[0;36m<module>\u001b[1;34m()\u001b[0m\n\u001b[0;32m      7\u001b[0m     trace = go.Scattergl(\n\u001b[0;32m      8\u001b[0m         \u001b[0mx\u001b[0m \u001b[1;33m=\u001b[0m \u001b[0mE_original_order\u001b[0m\u001b[1;33m[\u001b[0m\u001b[0mm\u001b[0m\u001b[1;33m,\u001b[0m\u001b[1;36m0\u001b[0m\u001b[1;33m]\u001b[0m\u001b[1;33m,\u001b[0m\u001b[1;33m\u001b[0m\u001b[0m\n\u001b[1;32m----> 9\u001b[1;33m         \u001b[0my\u001b[0m \u001b[1;33m=\u001b[0m \u001b[0mE_original_order\u001b[0m\u001b[1;33m[\u001b[0m\u001b[0mm\u001b[0m\u001b[1;33m,\u001b[0m\u001b[1;36m2\u001b[0m\u001b[1;33m]\u001b[0m\u001b[1;33m,\u001b[0m\u001b[1;33m\u001b[0m\u001b[0m\n\u001b[0m\u001b[0;32m     10\u001b[0m         \u001b[0mmode\u001b[0m \u001b[1;33m=\u001b[0m \u001b[1;34m'markers'\u001b[0m\u001b[1;33m,\u001b[0m\u001b[1;33m\u001b[0m\u001b[0m\n\u001b[0;32m     11\u001b[0m         \u001b[0mname\u001b[0m \u001b[1;33m=\u001b[0m \u001b[1;34m'cluster %d'\u001b[0m\u001b[1;33m%\u001b[0m\u001b[0mi\u001b[0m\u001b[1;33m,\u001b[0m\u001b[1;33m\u001b[0m\u001b[0m\n",
      "\u001b[1;31mIndexError\u001b[0m: index 2 is out of bounds for axis 1 with size 2"
     ]
    }
   ],
   "source": [
    "data = []\n",
    "\n",
    "for i in range(n_classes):\n",
    "\n",
    "    m = kmeans.labels_ == i\n",
    "\n",
    "    trace = go.Scattergl(\n",
    "        x = E_original_order[m,0],\n",
    "        y = E_original_order[m,2],\n",
    "        mode = 'markers',\n",
    "        name = 'cluster %d'%i,\n",
    "        marker = dict(\n",
    "            line = dict(width = 1),\n",
    "            color = colors[i]\n",
    "        )\n",
    "    )\n",
    "    data += [trace]\n",
    "\n",
    "plotly.offline.plot(data, filename='/home/yuncong/csd395/CSHL_cells/fractal_dim/embedding_nystromSample100_2d0and2.html', auto_open=False)"
   ]
  },
  {
   "cell_type": "code",
   "execution_count": null,
   "metadata": {
    "collapsed": true
   },
   "outputs": [],
   "source": []
  }
 ],
 "metadata": {
  "kernelspec": {
   "display_name": "Python 2",
   "language": "python",
   "name": "python2"
  },
  "language_info": {
   "codemirror_mode": {
    "name": "ipython",
    "version": 2
   },
   "file_extension": ".py",
   "mimetype": "text/x-python",
   "name": "python",
   "nbconvert_exporter": "python",
   "pygments_lexer": "ipython2",
   "version": "2.7.3"
  }
 },
 "nbformat": 4,
 "nbformat_minor": 0
}
