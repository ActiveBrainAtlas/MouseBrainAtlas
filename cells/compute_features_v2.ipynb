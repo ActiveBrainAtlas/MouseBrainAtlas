{
 "cells": [
  {
   "cell_type": "code",
   "execution_count": 1,
   "metadata": {
    "collapsed": false
   },
   "outputs": [
    {
     "name": "stderr",
     "output_type": "stream",
     "text": [
      "/oasis/projects/nsf/csd395/yuncong/brain_virtualenv/lib/python2.7/site-packages/matplotlib/__init__.py:1357: UserWarning:  This call to matplotlib.use() has no effect\n",
      "because the backend has already been chosen;\n",
      "matplotlib.use() must be called *before* pylab, matplotlib.pyplot,\n",
      "or matplotlib.backends is imported for the first time.\n",
      "\n",
      "  warnings.warn(_use_error_msg)\n"
     ]
    },
    {
     "name": "stdout",
     "output_type": "stream",
     "text": [
      "Setting environment for Gordon\n"
     ]
    },
    {
     "name": "stderr",
     "output_type": "stream",
     "text": [
      "No vtk\n",
      "Cannot import mxnet.\n"
     ]
    }
   ],
   "source": [
    "%reload_ext autoreload\n",
    "%autoreload 2\n",
    "\n",
    "import os\n",
    "import sys\n",
    "import time\n",
    "\n",
    "import matplotlib.pyplot as plt\n",
    "%matplotlib inline\n",
    "from matplotlib.path import Path\n",
    "from multiprocess import Pool\n",
    "\n",
    "sys.path.append(os.path.join(os.environ['REPO_DIR'], 'utilities'))\n",
    "from utilities2015 import *\n",
    "from data_manager import *\n",
    "from metadata import *\n",
    "from cell_utilities import *\n",
    "from learning_utilities import *"
   ]
  },
  {
   "cell_type": "code",
   "execution_count": 2,
   "metadata": {
    "collapsed": true
   },
   "outputs": [],
   "source": [
    "patch_size = 224\n",
    "half_size = patch_size/2\n",
    "patch_spacing = 56"
   ]
  },
  {
   "cell_type": "code",
   "execution_count": 3,
   "metadata": {
    "collapsed": true
   },
   "outputs": [],
   "source": [
    "# for stack in all_annotated_stacks:\n",
    "for stack in ['MD594']:\n",
    "    \n",
    "    grid_spec = (patch_size, patch_spacing, ) + metadata_cache['image_shape'][stack]\n",
    "    grid_locations = grid_parameters_to_sample_locations(grid_spec)\n",
    "\n",
    "    first_section, last_section = metadata_cache['section_limits'][stack]\n",
    "    \n",
    "#     for sec in range(first_section, last_section+1):\n",
    "    for sec in range(204, 205):\n",
    "\n",
    "        if is_invalid(sec=sec, stack=stack):\n",
    "            continue\n",
    "            \n",
    "        mask_tb = DataManager.load_thumbnail_mask_v2(stack, sec)\n",
    "        region_patch_indices = locate_patches_v2(stack=stack, grid_spec=grid_spec, mask_tb=mask_tb)\n",
    "        \n",
    "        # Patch as regions\n",
    "        region_patch_locations = grid_locations[region_patch_indices]\n",
    "        ul = region_patch_locations + (-half_size, -half_size)\n",
    "        ur = region_patch_locations + (-half_size, half_size)\n",
    "        lr = region_patch_locations + (half_size, half_size)\n",
    "        ll = region_patch_locations + (half_size, -half_size)\n",
    "        \n",
    "        region_contours = np.array(zip(ul, ur, lr, ll))\n",
    "        \n",
    "        t = time.time()\n",
    "        compute_features_regions(stack, sec, region_contours)\n",
    "        sys.stderr.write('Time: %d seconds\\n' % (time.time()-t)) # 257 seconds\n",
    "        \n",
    "        locations_fp = get_cell_classifier_data_filepath('region_locations', stack=stack, sec=sec, ext='txt')\n",
    "#         np.savetxt(locations_fp, np.c_[region_patch_indices, region_patch_locations], fmt='%d %d %d')"
   ]
  },
  {
   "cell_type": "code",
   "execution_count": 6,
   "metadata": {
    "collapsed": false
   },
   "outputs": [
    {
     "data": {
      "text/plain": [
       "(43616, 4, 2)"
      ]
     },
     "execution_count": 6,
     "metadata": {},
     "output_type": "execute_result"
    }
   ],
   "source": [
    "region_contours.shape"
   ]
  }
 ],
 "metadata": {
  "kernelspec": {
   "display_name": "Python 2",
   "language": "python",
   "name": "python2"
  },
  "language_info": {
   "codemirror_mode": {
    "name": "ipython",
    "version": 2
   },
   "file_extension": ".py",
   "mimetype": "text/x-python",
   "name": "python",
   "nbconvert_exporter": "python",
   "pygments_lexer": "ipython2",
   "version": "2.7.3"
  }
 },
 "nbformat": 4,
 "nbformat_minor": 1
}
