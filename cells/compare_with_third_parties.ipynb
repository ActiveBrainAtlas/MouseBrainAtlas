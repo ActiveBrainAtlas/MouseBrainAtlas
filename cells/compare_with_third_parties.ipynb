{
 "cells": [
  {
   "cell_type": "code",
   "execution_count": 2,
   "metadata": {
    "collapsed": true
   },
   "outputs": [],
   "source": [
    "import sys, os\n",
    "sys.path.append(os.path.join(os.environ['REPO_DIR'], 'utilities'))\n",
    "from registration_utilities import *\n",
    "from scipy.io import loadmat\n",
    "import numpy as np\n",
    "from skimage.measure import regionprops"
   ]
  },
  {
   "cell_type": "code",
   "execution_count": 5,
   "metadata": {
    "collapsed": false
   },
   "outputs": [],
   "source": [
    "from skimage.color import label2rgb"
   ]
  },
  {
   "cell_type": "code",
   "execution_count": 15,
   "metadata": {
    "collapsed": false
   },
   "outputs": [],
   "source": [
    "stack = 'MD589'"
   ]
  },
  {
   "cell_type": "code",
   "execution_count": 20,
   "metadata": {
    "collapsed": true
   },
   "outputs": [],
   "source": [
    "img_fn = 'MD589-N34-2015.07.30-18.20.43_MD589_2_0101'"
   ]
  },
  {
   "cell_type": "code",
   "execution_count": 23,
   "metadata": {
    "collapsed": false
   },
   "outputs": [],
   "source": [
    "img_fp = os.path.join(DETECTED_CELLS_DIR, stack, img_fn, img_fn + '_image_inverted.jpg')\n",
    "img = imread(img_fp)\n",
    "img_h, img_w = img.shape[:2]"
   ]
  },
  {
   "cell_type": "code",
   "execution_count": 33,
   "metadata": {
    "collapsed": false,
    "scrolled": true
   },
   "outputs": [
    {
     "name": "stdout",
     "output_type": "stream",
     "text": [
      "convert /oasis/projects/nsf/csd395/yuncong/CSHL_cells_v2/detected_cells/MD589/MD589-N34-2015.07.30-18.20.43_MD589_2_0101/MD589-N34-2015.07.30-18.20.43_MD589_2_0101_image_inverted.jpg -crop 5000x5000+0+0 /oasis/projects/nsf/csd395/yuncong/CSHL_cells_v2/detected_cells/MD589/MD589-N34-2015.07.30-18.20.43_MD589_2_0101/MD589-N34-2015.07.30-18.20.43_MD589_2_0101_image_inverted_00.tif\n"
     ]
    },
    {
     "name": "stderr",
     "output_type": "stream",
     "text": [
      "Child returned 0\n"
     ]
    },
    {
     "name": "stdout",
     "output_type": "stream",
     "text": [
      "convert /oasis/projects/nsf/csd395/yuncong/CSHL_cells_v2/detected_cells/MD589/MD589-N34-2015.07.30-18.20.43_MD589_2_0101/MD589-N34-2015.07.30-18.20.43_MD589_2_0101_image_inverted.jpg -crop 5000x5000+5000+0 /oasis/projects/nsf/csd395/yuncong/CSHL_cells_v2/detected_cells/MD589/MD589-N34-2015.07.30-18.20.43_MD589_2_0101/MD589-N34-2015.07.30-18.20.43_MD589_2_0101_image_inverted_01.tif\n"
     ]
    },
    {
     "name": "stderr",
     "output_type": "stream",
     "text": [
      "Child returned 0\n"
     ]
    },
    {
     "name": "stdout",
     "output_type": "stream",
     "text": [
      "convert /oasis/projects/nsf/csd395/yuncong/CSHL_cells_v2/detected_cells/MD589/MD589-N34-2015.07.30-18.20.43_MD589_2_0101/MD589-N34-2015.07.30-18.20.43_MD589_2_0101_image_inverted.jpg -crop 5000x5000+10000+0 /oasis/projects/nsf/csd395/yuncong/CSHL_cells_v2/detected_cells/MD589/MD589-N34-2015.07.30-18.20.43_MD589_2_0101/MD589-N34-2015.07.30-18.20.43_MD589_2_0101_image_inverted_02.tif\n"
     ]
    },
    {
     "name": "stderr",
     "output_type": "stream",
     "text": [
      "Child returned 0\n"
     ]
    },
    {
     "name": "stdout",
     "output_type": "stream",
     "text": [
      "convert /oasis/projects/nsf/csd395/yuncong/CSHL_cells_v2/detected_cells/MD589/MD589-N34-2015.07.30-18.20.43_MD589_2_0101/MD589-N34-2015.07.30-18.20.43_MD589_2_0101_image_inverted.jpg -crop 5000x5000+15000+0 /oasis/projects/nsf/csd395/yuncong/CSHL_cells_v2/detected_cells/MD589/MD589-N34-2015.07.30-18.20.43_MD589_2_0101/MD589-N34-2015.07.30-18.20.43_MD589_2_0101_image_inverted_03.tif\n"
     ]
    },
    {
     "name": "stderr",
     "output_type": "stream",
     "text": [
      "Child returned 0\n"
     ]
    },
    {
     "name": "stdout",
     "output_type": "stream",
     "text": [
      "convert /oasis/projects/nsf/csd395/yuncong/CSHL_cells_v2/detected_cells/MD589/MD589-N34-2015.07.30-18.20.43_MD589_2_0101/MD589-N34-2015.07.30-18.20.43_MD589_2_0101_image_inverted.jpg -crop 5000x5000+0+5000 /oasis/projects/nsf/csd395/yuncong/CSHL_cells_v2/detected_cells/MD589/MD589-N34-2015.07.30-18.20.43_MD589_2_0101/MD589-N34-2015.07.30-18.20.43_MD589_2_0101_image_inverted_04.tif\n"
     ]
    },
    {
     "name": "stderr",
     "output_type": "stream",
     "text": [
      "Child returned 0\n"
     ]
    },
    {
     "name": "stdout",
     "output_type": "stream",
     "text": [
      "convert /oasis/projects/nsf/csd395/yuncong/CSHL_cells_v2/detected_cells/MD589/MD589-N34-2015.07.30-18.20.43_MD589_2_0101/MD589-N34-2015.07.30-18.20.43_MD589_2_0101_image_inverted.jpg -crop 5000x5000+5000+5000 /oasis/projects/nsf/csd395/yuncong/CSHL_cells_v2/detected_cells/MD589/MD589-N34-2015.07.30-18.20.43_MD589_2_0101/MD589-N34-2015.07.30-18.20.43_MD589_2_0101_image_inverted_05.tif\n"
     ]
    },
    {
     "name": "stderr",
     "output_type": "stream",
     "text": [
      "Child returned 0\n"
     ]
    },
    {
     "name": "stdout",
     "output_type": "stream",
     "text": [
      "convert /oasis/projects/nsf/csd395/yuncong/CSHL_cells_v2/detected_cells/MD589/MD589-N34-2015.07.30-18.20.43_MD589_2_0101/MD589-N34-2015.07.30-18.20.43_MD589_2_0101_image_inverted.jpg -crop 5000x5000+10000+5000 /oasis/projects/nsf/csd395/yuncong/CSHL_cells_v2/detected_cells/MD589/MD589-N34-2015.07.30-18.20.43_MD589_2_0101/MD589-N34-2015.07.30-18.20.43_MD589_2_0101_image_inverted_06.tif\n"
     ]
    },
    {
     "name": "stderr",
     "output_type": "stream",
     "text": [
      "Child returned 0\n"
     ]
    },
    {
     "name": "stdout",
     "output_type": "stream",
     "text": [
      "convert /oasis/projects/nsf/csd395/yuncong/CSHL_cells_v2/detected_cells/MD589/MD589-N34-2015.07.30-18.20.43_MD589_2_0101/MD589-N34-2015.07.30-18.20.43_MD589_2_0101_image_inverted.jpg -crop 5000x5000+15000+5000 /oasis/projects/nsf/csd395/yuncong/CSHL_cells_v2/detected_cells/MD589/MD589-N34-2015.07.30-18.20.43_MD589_2_0101/MD589-N34-2015.07.30-18.20.43_MD589_2_0101_image_inverted_07.tif\n"
     ]
    },
    {
     "name": "stderr",
     "output_type": "stream",
     "text": [
      "Child returned 0\n"
     ]
    },
    {
     "name": "stdout",
     "output_type": "stream",
     "text": [
      "convert /oasis/projects/nsf/csd395/yuncong/CSHL_cells_v2/detected_cells/MD589/MD589-N34-2015.07.30-18.20.43_MD589_2_0101/MD589-N34-2015.07.30-18.20.43_MD589_2_0101_image_inverted.jpg -crop 5000x5000+0+10000 /oasis/projects/nsf/csd395/yuncong/CSHL_cells_v2/detected_cells/MD589/MD589-N34-2015.07.30-18.20.43_MD589_2_0101/MD589-N34-2015.07.30-18.20.43_MD589_2_0101_image_inverted_08.tif\n"
     ]
    },
    {
     "name": "stderr",
     "output_type": "stream",
     "text": [
      "Child returned 0\n"
     ]
    },
    {
     "name": "stdout",
     "output_type": "stream",
     "text": [
      "convert /oasis/projects/nsf/csd395/yuncong/CSHL_cells_v2/detected_cells/MD589/MD589-N34-2015.07.30-18.20.43_MD589_2_0101/MD589-N34-2015.07.30-18.20.43_MD589_2_0101_image_inverted.jpg -crop 5000x5000+5000+10000 /oasis/projects/nsf/csd395/yuncong/CSHL_cells_v2/detected_cells/MD589/MD589-N34-2015.07.30-18.20.43_MD589_2_0101/MD589-N34-2015.07.30-18.20.43_MD589_2_0101_image_inverted_09.tif\n"
     ]
    },
    {
     "name": "stderr",
     "output_type": "stream",
     "text": [
      "Child returned 0\n"
     ]
    },
    {
     "name": "stdout",
     "output_type": "stream",
     "text": [
      "convert /oasis/projects/nsf/csd395/yuncong/CSHL_cells_v2/detected_cells/MD589/MD589-N34-2015.07.30-18.20.43_MD589_2_0101/MD589-N34-2015.07.30-18.20.43_MD589_2_0101_image_inverted.jpg -crop 5000x5000+10000+10000 /oasis/projects/nsf/csd395/yuncong/CSHL_cells_v2/detected_cells/MD589/MD589-N34-2015.07.30-18.20.43_MD589_2_0101/MD589-N34-2015.07.30-18.20.43_MD589_2_0101_image_inverted_10.tif\n"
     ]
    },
    {
     "name": "stderr",
     "output_type": "stream",
     "text": [
      "Child returned 0\n"
     ]
    },
    {
     "name": "stdout",
     "output_type": "stream",
     "text": [
      "convert /oasis/projects/nsf/csd395/yuncong/CSHL_cells_v2/detected_cells/MD589/MD589-N34-2015.07.30-18.20.43_MD589_2_0101/MD589-N34-2015.07.30-18.20.43_MD589_2_0101_image_inverted.jpg -crop 5000x5000+15000+10000 /oasis/projects/nsf/csd395/yuncong/CSHL_cells_v2/detected_cells/MD589/MD589-N34-2015.07.30-18.20.43_MD589_2_0101/MD589-N34-2015.07.30-18.20.43_MD589_2_0101_image_inverted_11.tif\n"
     ]
    },
    {
     "name": "stderr",
     "output_type": "stream",
     "text": [
      "Child returned 0\n"
     ]
    }
   ],
   "source": [
    "tile_h, tile_w = (5000, 5000)\n",
    "\n",
    "i = 0\n",
    "for iy, y0 in enumerate(np.arange(0, img_h, 5000)):\n",
    "    for ix, x0 in enumerate(np.arange(0, img_w, 5000)):\n",
    "        tile_fp = os.path.join(DETECTED_CELLS_DIR, stack, img_fn, img_fn + '_image_inverted_%02d.tif') % i\n",
    "        execute_command(\"convert %(img_fp)s -crop %(tile_w)dx%(tile_h)d+%(x0)d+%(y0)d %(tile_fp)s\" % \\\n",
    "                        dict(img_fp=img_fp, x0=x0, y0=y0, tile_w=tile_w, tile_h=tile_h, tile_fp=tile_fp))\n",
    "        i += 1"
   ]
  },
  {
   "cell_type": "code",
   "execution_count": null,
   "metadata": {
    "collapsed": true
   },
   "outputs": [],
   "source": [
    "DETECTED_CELLS_DIR = '/oasis/projects/nsf/csd395/yuncong/CSHL_cells_v2/detected_cells'\n",
    "\n",
    "labeled_img = {}"
   ]
  },
  {
   "cell_type": "code",
   "execution_count": 7,
   "metadata": {
    "collapsed": false
   },
   "outputs": [],
   "source": [
    "# Farsight\n",
    "\n",
    "# farsight_result_fn = DETECTED_CELLS_DIR + '/MD589/MD589-N34-2015.07.30-18.20.43_MD589_2_0101/MD589-N34-2015.07.30-18.20.43_MD589_2_0101_image_cropped_inverted_seg_final.dat'\n",
    "# labeled_img['farsight'] = np.fromfile(farsight_result_fn, dtype=np.int16).reshape((h,w))[::-1,:]\n",
    "\n",
    "# ~/Farsight-0.4.4-Linux/bin/segment_nuclei MD589-N34-2015.07.30-18.20.43_MD589_2_0101_image_cropped_inverted.jpg MD589-N34-2015.07.30-18.20.43_MD589_2_0101_image_inverted_labeled_farsight.tif\n",
    "\n",
    "farsight_result_fn = DETECTED_CELLS_DIR + '/MD589/MD589-N34-2015.07.30-18.20.43_MD589_2_0101/MD589-N34-2015.07.30-18.20.43_MD589_2_0101_image_inverted_labeled_farsight.tif'\n",
    "labeled_img['farsight'] = imread(farsight_result_fn)"
   ]
  },
  {
   "cell_type": "code",
   "execution_count": 10,
   "metadata": {
    "collapsed": false
   },
   "outputs": [],
   "source": [
    "bp.pack_ndarray_file(labeled_img['farsight'], DETECTED_CELLS_DIR + '/MD589/MD589-N34-2015.07.30-18.20.43_MD589_2_0101/MD589-N34-2015.07.30-18.20.43_MD589_2_0101_image_inverted_labeled_farsight.bp')"
   ]
  },
  {
   "cell_type": "code",
   "execution_count": 12,
   "metadata": {
    "collapsed": true
   },
   "outputs": [],
   "source": [
    "# Cell Profiler\n",
    "\n",
    "# cellprofiler -c --file-list=test.txt -p CSHL_cells_v2/SegmentCells.cppipe\n",
    "\n",
    "cp_result_fn = DETECTED_CELLS_DIR + '/MD589/MD589-N34-2015.07.30-18.20.43_MD589_2_0101/MD589-N34-2015.07.30-18.20.43_MD589_2_0101_image_cropped_inverted_labeled.mat'\n",
    "labeled_img['cellprofiler'] = loadmat(cp_result_fn)['Image']"
   ]
  },
  {
   "cell_type": "code",
   "execution_count": 13,
   "metadata": {
    "collapsed": true
   },
   "outputs": [],
   "source": [
    "bp.pack_ndarray_file(labeled_img['cellprofiler'], DETECTED_CELLS_DIR + '/MD589/MD589-N34-2015.07.30-18.20.43_MD589_2_0101/MD589-N34-2015.07.30-18.20.43_MD589_2_0101_image_inverted_labeled_cellprofiler.bp')"
   ]
  },
  {
   "cell_type": "code",
   "execution_count": 11,
   "metadata": {
    "collapsed": false
   },
   "outputs": [
    {
     "name": "stdout",
     "output_type": "stream",
     "text": [
      "1885 cells\n",
      "1883 cells\n"
     ]
    }
   ],
   "source": [
    "# Generate cell contour overlay\n",
    "\n",
    "colors = dict(farsight=(0,0,255), cellprofiler=(0,255,0))\n",
    "\n",
    "for prog, label_img in labeled_img.iteritems():\n",
    "        \n",
    "    bg = np.zeros(label_img.shape[:2] + (4,), np.uint8)\n",
    "    \n",
    "    props = regionprops(label_img)\n",
    "    print len(props), \"cells\"\n",
    "    cell_contours = find_contour_points(label_img, sample_every=1)\n",
    "    for i, cnts in cell_contours.iteritems():\n",
    "        cnt = cnts[0]\n",
    "        xs = cnt[:,0]\n",
    "        ys = cnt[:,1]\n",
    "        bg[ys, xs] = colors[prog] + (255,)\n",
    "    \n",
    "    imsave(DETECTED_CELLS_DIR + '/MD589/MD589-N34-2015.07.30-18.20.43_MD589_2_0101/MD589-N34-2015.07.30-18.20.43_MD589_2_0101_image_cropped_inverted_contoured_%s.png' % prog, bg)"
   ]
  }
 ],
 "metadata": {
  "kernelspec": {
   "display_name": "Python 2",
   "language": "python",
   "name": "python2"
  },
  "language_info": {
   "codemirror_mode": {
    "name": "ipython",
    "version": 2
   },
   "file_extension": ".py",
   "mimetype": "text/x-python",
   "name": "python",
   "nbconvert_exporter": "python",
   "pygments_lexer": "ipython2",
   "version": "2.7.3"
  }
 },
 "nbformat": 4,
 "nbformat_minor": 1
}
