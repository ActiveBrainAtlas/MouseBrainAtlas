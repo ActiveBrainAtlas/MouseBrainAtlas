{
 "cells": [
  {
   "cell_type": "code",
   "execution_count": 1,
   "metadata": {
    "collapsed": false
   },
   "outputs": [
    {
     "name": "stdout",
     "output_type": "stream",
     "text": [
      "Setting environment for Gordon\n"
     ]
    }
   ],
   "source": [
    "%reload_ext autoreload\n",
    "%autoreload 2\n",
    "\n",
    "import os\n",
    "import sys\n",
    "import time\n",
    "import cv2\n",
    "\n",
    "from joblib import Parallel, delayed\n",
    "\n",
    "sys.path.append(os.path.join(os.environ['REPO_DIR'], 'utilities'))\n",
    "from utilities2015 import *\n",
    "from data_manager import *\n",
    "from metadata import *\n",
    "\n",
    "import matplotlib.pyplot as plt\n",
    "%matplotlib inline\n",
    "\n",
    "from skimage.transform import rotate"
   ]
  },
  {
   "cell_type": "code",
   "execution_count": 2,
   "metadata": {
    "collapsed": true
   },
   "outputs": [],
   "source": [
    "cell_masks_normalized = bp.unpack_ndarray_file('/home/yuncong/csd395/CSHL_cells/fractal_dim/cell_masks_normalized.bp')"
   ]
  },
  {
   "cell_type": "code",
   "execution_count": 3,
   "metadata": {
    "collapsed": false
   },
   "outputs": [
    {
     "name": "stdout",
     "output_type": "stream",
     "text": [
      "197953 cells\n"
     ]
    }
   ],
   "source": [
    "n_cells = len(cell_masks_normalized)\n",
    "print n_cells, 'cells'\n",
    "\n",
    "cell_masks_normalized_flattened = np.reshape(cell_masks_normalized, (len(cell_masks_normalized), -1))\n",
    "cell_masks_normalized_flattened.shape\n",
    "\n",
    "cell_masks_normalized_size = cell_masks_normalized_flattened.sum(axis=1)"
   ]
  },
  {
   "cell_type": "code",
   "execution_count": 48,
   "metadata": {
    "collapsed": false
   },
   "outputs": [
    {
     "data": {
      "image/png": "[encoded data removed]",
      "text/plain": [
       "<matplotlib.figure.Figure at 0x71c7ad0>"
      ]
     },
     "metadata": {},
     "output_type": "display_data"
    },
    {
     "data": {
      "image/png": "[encoded data removed]",
      "text/plain": [
       "<matplotlib.figure.Figure at 0x8247150>"
      ]
     },
     "metadata": {},
     "output_type": "display_data"
    }
   ],
   "source": [
    "# plt.hist(cell_masks_normalized_size, bins=100);\n",
    "# plt.title('Histogram of cell sizes');\n",
    "# plt.xlabel('bin');\n",
    "# plt.ylabel('count');\n",
    "# plt.show();\n",
    "\n",
    "# counts, edges = np.histogram(cell_masks_normalized_size, bins=100)\n",
    "# counts = counts / float(n_cells)\n",
    "# counts_cumsum = np.cumsum(counts)\n",
    "# plt.plot(edges[:-1], counts_cumsum);\n",
    "# plt.title('Cumulative');\n",
    "# plt.xlabel('bins');\n",
    "# plt.ylabel('percentage cumulatively covered');\n",
    "\n",
    "# cutoff_percentage = .3 # 30% of the smallest cells will be below the threshold\n",
    "# cell_size_threshold_small_medium = edges[np.where(counts_cumsum < cutoff_percentage)[0][-1]]\n",
    "# plt.vlines(cell_size_threshold_small_medium, 0, 1, color='r');\n",
    "\n",
    "# cutoff_percentage = .7\n",
    "# cell_size_threshold_medium_large = edges[np.where(counts_cumsum < cutoff_percentage)[0][-1]]\n",
    "# plt.vlines(cell_size_threshold_medium_large, 0, 1, color='r');\n",
    "# plt.show();"
   ]
  },
  {
   "cell_type": "code",
   "execution_count": 81,
   "metadata": {
    "collapsed": false
   },
   "outputs": [
    {
     "name": "stdout",
     "output_type": "stream",
     "text": [
      "59385 79182 59386\n"
     ]
    }
   ],
   "source": [
    "cutoff_percentage_small_medium = .3\n",
    "cutoff_percentage_medium_large = .7\n",
    "c1 = int(cutoff_percentage_small_medium*n_cells)\n",
    "c2 = int(cutoff_percentage_medium_large*n_cells)\n",
    "indices_sorted_by_size = np.argsort(cell_masks_normalized_size)\n",
    "small_cells_indices = indices_sorted_by_size[:c1]\n",
    "medium_cells_indices = indices_sorted_by_size[c1:c2]\n",
    "large_cells_indices = indices_sorted_by_size[c2:]\n",
    "\n",
    "# small_cells_indices = np.where(cell_masks_normalized_size < cell_size_threshold_small_medium)[0]\n",
    "# medium_cells_indices = np.where((cell_masks_normalized_size >= cell_size_threshold_small_medium) & \\\n",
    "#                                (cell_masks_normalized_size < cell_size_threshold_medium_large))[0]\n",
    "\n",
    "# large_cells_indices = np.setdiff1d(range(n_cells), np.r_[small_cells_indices, medium_cells_indices])\n",
    "\n",
    "print len(small_cells_indices), len(medium_cells_indices), len(large_cells_indices)"
   ]
  },
  {
   "cell_type": "code",
   "execution_count": 84,
   "metadata": {
    "collapsed": false
   },
   "outputs": [],
   "source": [
    "nonsmall_cells_indices = np.sort(np.r_[medium_cells_indices, large_cells_indices])"
   ]
  },
  {
   "cell_type": "code",
   "execution_count": 96,
   "metadata": {
    "collapsed": false
   },
   "outputs": [
    {
     "name": "stdout",
     "output_type": "stream",
     "text": [
      "(138568, 9086)\n"
     ]
    }
   ],
   "source": [
    "nonsmall_cell_masks_normalized_flattened = cell_masks_normalized_flattened[nonsmall_cells_indices].copy()\n",
    "nonsmall_cell_masks_normalized_size = cell_masks_normalized_size[nonsmall_cells_indices].copy()\n",
    "print nonsmall_cell_masks_normalized_flattened.shape\n",
    "n_nonsmallCells = len(nonsmall_cells_indices)"
   ]
  },
  {
   "cell_type": "code",
   "execution_count": 94,
   "metadata": {
    "collapsed": true
   },
   "outputs": [],
   "source": [
    "from multiprocess import Pool\n",
    "from scipy.spatial.distance import squareform\n",
    "\n",
    "# def compute_jaccard_list_with_all(seed_indices):\n",
    "\n",
    "#     pool = Pool(14)\n",
    "#     affinities_to_seeds = pool.map(compute_jaccard_with_i, seed_indices)\n",
    "#     pool.close()\n",
    "#     pool.join()\n",
    "#     return np.asarray(affinities_to_seeds)\n",
    "\n",
    "# def compute_jaccard_with_i_list(i, indices):\n",
    "#     intersections = cell_masks_normalized_flattened[indices[:,None], cell_masks_normalized_flattened[i]].sum(axis=1)\n",
    "#     unions = cell_masks_normalized_size[i] + cell_masks_normalized_size[indices] - intersections\n",
    "#     scores = intersections.astype(np.float)/unions\n",
    "#     return scores\n",
    "    \n",
    "# def compute_jaccard_pairwise(indices, square_form=True, parallel=True):\n",
    "#     n = len(indices)\n",
    "\n",
    "#     if parallel:\n",
    "#         pool = Pool(16)\n",
    "#         pairwise_scores = pool.map(lambda x: compute_jaccard_with_i_list(x[0],x[1]), \n",
    "#                                    [(indices[i], indices[i+1:]) for i in range(n)])\n",
    "#         pool.close()\n",
    "#         pool.join()\n",
    "#     else:\n",
    "#         pairwise_scores = [compute_jaccard_with_i_list(indices[i], indices[i+1:]) for i in range(n)]\n",
    "        \n",
    "#     if square_form:\n",
    "#         return squareform(np.concatenate(pairwise_scores))\n",
    "#     else:\n",
    "#         return pairwise_scores\n",
    "\n",
    "# def compute_jaccard_with_i(i, upper=False):\n",
    "#     if upper:\n",
    "#         intersections_with_i = cell_masks_normalized_flattened[i+1:, cell_masks_normalized_flattened[i]].sum(axis=1)\n",
    "#         unions_with_i = cell_masks_normalized_size[i] + cell_masks_normalized_size[i+1:] - intersections_with_i\n",
    "#     else:\n",
    "#         intersections_with_i = cell_masks_normalized_flattened[:, cell_masks_normalized_flattened[i]].sum(axis=1)\n",
    "#         unions_with_i = cell_masks_normalized_size[i] + cell_masks_normalized_size - intersections_with_i\n",
    "        \n",
    "#     return intersections_with_i.astype(np.float)/unions_with_i\n",
    "\n",
    "\n",
    "# def compute_jaccard_with_template(template):\n",
    "#     intersections_with_template = [template[m].sum() for m in cell_masks_normalized_flattened]\n",
    "#     unions_with_template = (template + cell_masks_normalized_size - intersections_with_template)\n",
    "#     return intersections_with_template.astype(np.float)/unions_with_template\n",
    "\n",
    "# def compute_jaccard_with_i_sparse(i, upper=False, threshold=.85, n_neighbors=10):\n",
    "#     if upper:\n",
    "#         scores = compute_jaccard_with_i(i, upper=True)\n",
    "#         nearest_neighbors = np.where(scores > threshold)[0]\n",
    "#         return i+1+nearest_neighbors, scores[nearest_neighbors]\n",
    "#     else:\n",
    "#         scores = compute_jaccard_with_i(i, upper=False)\n",
    "#         nearest_neighbors = np.argsort(scores)[::-1][:10]\n",
    "#         return nearest_neighbors, scores[nearest_neighbors]"
   ]
  },
  {
   "cell_type": "code",
   "execution_count": 113,
   "metadata": {
    "collapsed": true
   },
   "outputs": [],
   "source": [
    "\n",
    "def compute_jaccard_with_i_nonsmallCellsOnly(i):\n",
    "    intersections_with_i = nonsmall_cell_masks_normalized_flattened[:, nonsmall_cell_masks_normalized_flattened[i]].sum(axis=1)\n",
    "    unions_with_i = nonsmall_cell_masks_normalized_size[i] + nonsmall_cell_masks_normalized_size - intersections_with_i\n",
    "        \n",
    "    return intersections_with_i.astype(np.float)/unions_with_i\n",
    "\n",
    "def compute_jaccard_pairwise_nonsmallCellsOnly(indices, square_form=True, parallel=True):\n",
    "    n = len(indices)\n",
    "\n",
    "    if parallel:\n",
    "        pool = Pool(16)\n",
    "        pairwise_scores = pool.map(lambda x: compute_jaccard_with_i_list_nonsmallCellsOnly(x[0],x[1]), \n",
    "                                   [(indices[i], indices[i+1:]) for i in range(n)])\n",
    "        pool.close()\n",
    "        pool.join()\n",
    "    else:\n",
    "        pairwise_scores = [compute_jaccard_with_i_list_nonsmallCellsOnly(indices[i], indices[i+1:]) for i in range(n)]\n",
    "        \n",
    "    if square_form:\n",
    "        return squareform(np.concatenate(pairwise_scores))\n",
    "    else:\n",
    "        return pairwise_scores\n",
    "    \n",
    "    \n",
    "def compute_jaccard_with_i_list_nonsmallCellsOnly(i, indices):\n",
    "    intersections = nonsmall_cell_masks_normalized_flattened[indices[:,None], nonsmall_cell_masks_normalized_flattened[i]].sum(axis=1)\n",
    "    unions = nonsmall_cell_masks_normalized_size[i] + nonsmall_cell_masks_normalized_size[indices] - intersections\n",
    "    scores = intersections.astype(np.float)/unions\n",
    "    return scores\n",
    "\n",
    "\n",
    "def compute_jaccard_list_with_all_nonsmallCellsOnly(seed_indices):\n",
    "\n",
    "    pool = Pool(14)\n",
    "    affinities_to_seeds = pool.map(compute_jaccard_with_i_nonsmallCellsOnly, seed_indices)\n",
    "    pool.close()\n",
    "    pool.join()\n",
    "    return np.asarray(affinities_to_seeds)"
   ]
  },
  {
   "cell_type": "code",
   "execution_count": 97,
   "metadata": {
    "collapsed": false
   },
   "outputs": [
    {
     "name": "stdout",
     "output_type": "stream",
     "text": [
      "159.724170923\n"
     ]
    }
   ],
   "source": [
    "n_class = 1000\n",
    "\n",
    "# distances_to_seeds = np.empty((n_class, n_cells))\n",
    "# cluster_max_radius_evolution = np.empty((n_class, ))\n",
    "# cluster_mean_radius_evolution = np.empty((n_class, ))\n",
    "# cluster_random1_radius_evolution = np.empty((n_class, ))\n",
    "# cluster_random100_radius_evolution = np.empty((n_class, ))\n",
    "# cluster_random1run_radius_evolution = np.empty((n_class, ))\n",
    "seeds = np.empty((n_class, ), np.int)\n",
    "\n",
    "distances_to_closest_seed = np.empty((n_nonsmallCells, ))\n",
    "indices_of_closest_seed = np.empty((n_nonsmallCells, ), np.int)\n",
    "\n",
    "t1 = time.time()\n",
    "\n",
    "bar = show_progress_bar(0, n_class)\n",
    "\n",
    "for it in range(n_class):\n",
    "            \n",
    "    bar.value = it\n",
    "        \n",
    "    if it == 0:\n",
    "        seed = np.random.randint(n_nonsmallCells)\n",
    "    else:\n",
    "        seed = np.random.choice(range(n_nonsmallCells), 1, p=d2_weights)[0]\n",
    "        \n",
    "    seeds[it] = int(seed)\n",
    "    \n",
    "#     t = time.time()\n",
    "    distances = 1. - compute_jaccard_with_i_nonsmallCellsOnly(seed)\n",
    "#     distances = 1. - compute_jaccard_with_i_parallel(seed)\n",
    "#     print time.time() - t\n",
    "    # sequential: 0.05-0.5s / 20k cells\n",
    "    # parallel: 0.35s, even slower than sequential\n",
    "\n",
    "    \n",
    "    if it == 0:\n",
    "        distances_to_closest_seed = distances\n",
    "        indices_of_closest_seed[:] = 0\n",
    "    else:    \n",
    "        needs_update = distances < distances_to_closest_seed\n",
    "        distances_to_closest_seed[needs_update] = distances[needs_update]\n",
    "        indices_of_closest_seed[needs_update] = it\n",
    "        \n",
    "    d2s = distances_to_closest_seed**2\n",
    "    d2_weights = d2s / d2s.sum()\n",
    "    \n",
    "#     # different ways to compute r\n",
    "#     cluster_max_radius = np.max(distances_to_closest_seed)\n",
    "#     cluster_mean_radius = np.mean(distances_to_closest_seed)\n",
    "#     cluster_random1_radius = distances_to_closest_seed[np.random.randint(0, n_cells, 1)]\n",
    "#     cluster_random100_radius = distances_to_closest_seed[np.random.randint(0, n_cells, 100)].mean()\n",
    "    \n",
    "#     if it == 0:\n",
    "#         cluster_random1run_radius = cluster_random1_radius\n",
    "#     else:\n",
    "#         cluster_random1run_radius = (it * cluster_random1run_radius + cluster_random1_radius) / float(it+1)    \n",
    "    \n",
    "#     cluster_max_radius_evolution[it] = cluster_max_radius\n",
    "#     cluster_mean_radius_evolution[it] = cluster_mean_radius\n",
    "#     cluster_random1_radius_evolution[it] = cluster_random1_radius\n",
    "#     cluster_random100_radius_evolution[it] = cluster_random100_radius\n",
    "#     cluster_random1run_radius_evolution[it] = cluster_random1run_radius\n",
    "    \n",
    "#     print 2, time.time() - t\n",
    "    \n",
    "print time.time() - t1 # 21s / 100 iterations; 4800s / 20000 iters\n",
    "\n",
    "# bp.pack_ndarray_file(seeds, '/home/yuncong/csd395/CSHL_cells/fractal_dim/seeds_%d.bp' % n_class)\n",
    "# bp.pack_ndarray_file(distances_to_closest_seed, '/home/yuncong/csd395/CSHL_cells/fractal_dim/distancesToClosestSeed_%d.bp' % n_class)\n",
    "# bp.pack_ndarray_file(indices_of_closest_seed, '/home/yuncong/csd395/CSHL_cells/fractal_dim/indicesToClosestSeed_%d.bp' % n_class)\n",
    "# bp.pack_ndarray_file(cluster_mean_radius_evolution, '/home/yuncong/csd395/CSHL_cells/fractal_dim/clusterMeanRadiusEvolution_%d.bp' % n_class)\n",
    "# bp.pack_ndarray_file(cluster_random1run_radius_evolution, '/home/yuncong/csd395/CSHL_cells/fractal_dim/clusterRand1RunRadiusEvolution_%d.bp' % n_class)"
   ]
  },
  {
   "cell_type": "code",
   "execution_count": 99,
   "metadata": {
    "collapsed": true
   },
   "outputs": [],
   "source": [
    "memberCount = np.bincount(indices_of_closest_seed, minlength=len(seeds))\n",
    "seedIndices_sorted_by_memberCount = np.argsort(memberCount)[::-1]\n",
    "memberCount_sorted = memberCount[seedIndices_sorted_by_memberCount]\n",
    "seeds_ranked_by_memberCount = seeds[seedIndices_sorted_by_memberCount]"
   ]
  },
  {
   "cell_type": "code",
   "execution_count": 104,
   "metadata": {
    "collapsed": false
   },
   "outputs": [
    {
     "data": {
      "image/png": "[encoded data removed]",
      "text/plain": [
       "<matplotlib.figure.Figure at 0x6919e50>"
      ]
     },
     "metadata": {},
     "output_type": "display_data"
    }
   ],
   "source": [
    "plt.plot(np.cumsum(memberCount_sorted) / float(n_nonsmallCells));\n",
    "plt.xlabel('top # seeds');\n",
    "plt.ylabel('percentage of data covered');"
   ]
  },
  {
   "cell_type": "code",
   "execution_count": null,
   "metadata": {
    "collapsed": true
   },
   "outputs": [],
   "source": []
  },
  {
   "cell_type": "code",
   "execution_count": 123,
   "metadata": {
    "collapsed": false
   },
   "outputs": [
    {
     "name": "stderr",
     "output_type": "stream",
     "text": [
      "Compute pairwise affinities (with samples): 9.674370 s.\n"
     ]
    }
   ],
   "source": [
    "# our data, Nystroem extension\n",
    "# https://people.eecs.berkeley.edu/~malik/papers/FBCM-nystrom.pdf\n",
    "\n",
    "t = time.time()\n",
    "\n",
    "n_seeds = 200\n",
    "sampled = seeds_ranked_by_memberCount[:n_seeds].copy()\n",
    "\n",
    "affinities_with_samples = compute_jaccard_list_with_all_nonsmallCellsOnly(sampled)\n",
    "\n",
    "sys.stderr.write('Compute pairwise affinities (with samples): %f s.\\n' % (time.time()-t))"
   ]
  },
  {
   "cell_type": "code",
   "execution_count": 124,
   "metadata": {
    "collapsed": true
   },
   "outputs": [],
   "source": [
    "nonsampled = np.setdiff1d(range(affinities_with_samples.shape[1]), sampled)\n",
    "permutation = np.r_[sampled, nonsampled]"
   ]
  },
  {
   "cell_type": "code",
   "execution_count": 125,
   "metadata": {
    "collapsed": false
   },
   "outputs": [
    {
     "name": "stderr",
     "output_type": "stream",
     "text": [
      "Nystroem: 94.123109 s.\n"
     ]
    }
   ],
   "source": [
    "t = time.time()\n",
    "\n",
    "from scipy.linalg import sqrtm\n",
    "\n",
    "A = affinities_with_samples[:, sampled].copy()\n",
    "B = affinities_with_samples[:, nonsampled].copy()\n",
    "\n",
    "d1 = np.sum(np.c_[A, B], axis=1)\n",
    "Ai = np.linalg.inv(A)\n",
    "d2 = np.sum(B, axis=0) + np.dot(B.T, np.dot(Ai, np.sum(B, axis=1)))\n",
    "dhat_si = np.sqrt(1./np.r_[d1, d2])\n",
    "A = A*np.outer(dhat_si[:n_seeds], dhat_si[:n_seeds])\n",
    "B = B*np.outer(dhat_si[:n_seeds], dhat_si[n_seeds:])\n",
    "\n",
    "Asi = sqrtm(Ai)\n",
    "\n",
    "M = np.dot(B.T, Asi)\n",
    "S = A + np.dot(M.T, M)\n",
    "\n",
    "U, L, T = np.linalg.svd(S)\n",
    "\n",
    "V = np.dot(np.vstack([A, B.T]), np.dot(Asi, np.dot(U, np.linalg.inv(np.diag(np.sqrt(L))))))\n",
    "\n",
    "sys.stderr.write('Nystroem: %f s.\\n' % (time.time()-t)) # 60s / 100 samples"
   ]
  },
  {
   "cell_type": "code",
   "execution_count": 126,
   "metadata": {
    "collapsed": true
   },
   "outputs": [],
   "source": [
    "E_allEig = V[:,1:]/V[:,0][:,None]"
   ]
  },
  {
   "cell_type": "code",
   "execution_count": 127,
   "metadata": {
    "collapsed": true
   },
   "outputs": [],
   "source": [
    "E_allEig_original_order = np.zeros_like(E_allEig)\n",
    "E_allEig_original_order[permutation] = E_allEig\n",
    "\n",
    "bp.pack_ndarray_file(E_allEig_original_order, \n",
    "                     '/home/yuncong/csd395/CSHL_cells/fractal_dim/embeddingAllEigen_nonsmallCells_nystromSample%d.bp' % n_seeds)\n",
    "\n",
    "# print E_allEig_original_order.mean(axis=0)\n",
    "# print E_allEig_original_order.std(axis=0)\n",
    "\n",
    "E_allEig_original_order_normalized = (E_allEig_original_order-E_allEig_original_order.mean(axis=0))/E_allEig_original_order.std(axis=0)\n",
    "\n",
    "bp.pack_ndarray_file(E_allEig_original_order_normalized, \n",
    "                     '/home/yuncong/csd395/CSHL_cells/fractal_dim/embeddingAllEigenNormalized_nonsmallCells_nystromSample%d.bp' % n_seeds)"
   ]
  },
  {
   "cell_type": "code",
   "execution_count": 128,
   "metadata": {
    "collapsed": true
   },
   "outputs": [],
   "source": [
    "bp.pack_ndarray_file(nonsmall_cells_indices, '/home/yuncong/csd395/CSHL_cells/fractal_dim/nonsmallCells_indices_cutoff%d.bp' % (cutoff_percentage_small_medium*100))"
   ]
  }
 ],
 "metadata": {
  "kernelspec": {
   "display_name": "Python 2",
   "language": "python",
   "name": "python2"
  },
  "language_info": {
   "codemirror_mode": {
    "name": "ipython",
    "version": 2
   },
   "file_extension": ".py",
   "mimetype": "text/x-python",
   "name": "python",
   "nbconvert_exporter": "python",
   "pygments_lexer": "ipython2",
   "version": "2.7.3"
  }
 },
 "nbformat": 4,
 "nbformat_minor": 0
}
