{
 "cells": [
  {
   "cell_type": "code",
   "execution_count": 1,
   "metadata": {
    "collapsed": false
   },
   "outputs": [
    {
     "name": "stdout",
     "output_type": "stream",
     "text": [
      "Setting environment for Gordon\n"
     ]
    },
    {
     "name": "stderr",
     "output_type": "stream",
     "text": [
      "No vtk\n"
     ]
    }
   ],
   "source": [
    "%reload_ext autoreload\n",
    "%autoreload 2\n",
    "\n",
    "import os\n",
    "import sys\n",
    "import time\n",
    "import cv2\n",
    "\n",
    "from joblib import Parallel, delayed\n",
    "\n",
    "sys.path.append(os.path.join(os.environ['REPO_DIR'], 'utilities'))\n",
    "from utilities2015 import *\n",
    "from data_manager import *\n",
    "from metadata import *\n",
    "\n",
    "import matplotlib.pyplot as plt\n",
    "%matplotlib inline\n",
    "\n",
    "from skimage.transform import rotate\n",
    "from multiprocess import Pool\n",
    "\n",
    "import pandas"
   ]
  },
  {
   "cell_type": "code",
   "execution_count": 2,
   "metadata": {
    "collapsed": true
   },
   "outputs": [],
   "source": [
    "stack = 'MD589'"
   ]
  },
  {
   "cell_type": "code",
   "execution_count": 3,
   "metadata": {
    "collapsed": false
   },
   "outputs": [],
   "source": [
    "sections_to_filenames = metadata_cache['sections_to_filenames'][stack]\n",
    "first_bs_section, last_bs_section = metadata_cache['section_limits'][stack]"
   ]
  },
  {
   "cell_type": "code",
   "execution_count": 4,
   "metadata": {
    "collapsed": true
   },
   "outputs": [],
   "source": [
    "detected_cells_dir = '/home/yuncong/csd395/CSHL_cells_v2/detected_cells/' + stack"
   ]
  },
  {
   "cell_type": "code",
   "execution_count": 20,
   "metadata": {
    "collapsed": false
   },
   "outputs": [
    {
     "name": "stderr",
     "output_type": "stream",
     "text": [
      "Processing section: 092\n",
      "Generate cell masks: 0.02\n",
      "Generate cell masks: 0.00\n",
      "Processing section: 142\n",
      "Generate cell masks: 0.01\n",
      "Generate cell masks: 0.00\n",
      "Processing section: 192\n",
      "Generate cell masks: 0.04\n",
      "Generate cell masks: 0.00\n",
      "Processing section: 242\n",
      "Generate cell masks: 0.02\n",
      "Generate cell masks: 0.00\n",
      "Processing section: 292\n",
      "Generate cell masks: 0.01\n",
      "Generate cell masks: 0.00\n",
      "Processing section: 342\n",
      "Generate cell masks: 0.05\n",
      "Generate cell masks: 0.00\n"
     ]
    }
   ],
   "source": [
    "# Create variations of blobs\n",
    "# Rotate cells so that major axis is horizontal.\n",
    "\n",
    "cell_orientations = []\n",
    "cell_majorAxisLens = []\n",
    "cell_minorAxisLens = []\n",
    "cell_addresses = []\n",
    "\n",
    "cells_aligned = []\n",
    "cells_aligned_h = []\n",
    "cells_aligned_v = []\n",
    "cells_aligned_d = []\n",
    "\n",
    "for sec in range(first_bs_section, last_bs_section, 50):\n",
    "\n",
    "    fn = sections_to_filenames[sec]\n",
    "    fn_output_dir = create_if_not_exists(os.path.join(detected_cells_dir, fn))\n",
    "\n",
    "    sys.stderr.write('Processing section: %03d\\n' % sec)\n",
    "    \n",
    "    t = time.time()\n",
    "    \n",
    "#     blob_coords = pandas.read_hdf(fn_output_dir + '/%(fn)s_blobCoords.hdf' % {'fn': fn}, 'data')\n",
    "#     blob_coords = pickle.load(open(detected_cells_dir + '/%(fn)s/%(fn)s_blobCoords.pkl' % {'fn': fn}, 'r'))\n",
    "    \n",
    "    blob_orientations = bp.unpack_ndarray_file(fn_output_dir + '/%(fn)s_blobOrientations.bp' % {'fn': fn})\n",
    "    blob_majorAxisLens = bp.unpack_ndarray_file(fn_output_dir + '/%(fn)s_blobMajorAxisLen.bp' % {'fn': fn})\n",
    "    blob_minorAxisLens = bp.unpack_ndarray_file(fn_output_dir + '/%(fn)s_blobMinorAxisLen.bp' % {'fn': fn})\n",
    "    \n",
    "    sys.stderr.write('Generate cell masks: %.2f\\n' % (time.time() - t))\n",
    "\n",
    "#     blob_centers = bp.unpack_ndarray_file(fn_output_dir + '/%(fn)s_blobCentroids.bp' % {'fn': fn})\n",
    "#     blob_centers = [coords.mean(axis=0) for coords in blob_coords]\n",
    "\n",
    "    blob_masks = pandas.read_hdf(fn_output_dir + '/%(fn)s_blobMasks.hdf' % {'fn': fn}, 'data')\n",
    "    n_blobs = len(blob_masks)\n",
    "    \n",
    "    blob_mask_centers = bp.unpack_ndarray_file(fn_output_dir + '/%(fn)s_blobMaskCenters.bp' % {'fn': fn})\n",
    "    \n",
    "    bar = show_progress_bar(0, n_blobs-1)\n",
    "    \n",
    "    t = time.time()\n",
    "    \n",
    "    for i in range(n_blobs):\n",
    "        \n",
    "        bar.value = i\n",
    "        \n",
    "        patch_rotated = rotate(blob_masks[i], angle=-np.rad2deg(blob_orientations[i]), \n",
    "                               center=blob_mask_centers[i], \n",
    "                               cval=0.) > .5\n",
    "        \n",
    "        # horizontal mirrored\n",
    "        patch_rotated_h = patch_rotated[:, ::-1].copy()\n",
    "        \n",
    "        # vertical mirrored\n",
    "        patch_rotated_v = patch_rotated[::-1, :].copy()\n",
    "        \n",
    "        # diagonally mirrored\n",
    "        patch_rotated_d = patch_rotated[::-1, ::-1].copy()\n",
    "\n",
    "        cells_aligned.append(patch_rotated)\n",
    "        cells_aligned_h.append(patch_rotated_h)\n",
    "        cells_aligned_v.append(patch_rotated_v)\n",
    "        cells_aligned_d.append(patch_rotated_d)\n",
    "        \n",
    "    sys.stderr.write('Generate cell masks: %.2f\\n' % (time.time() - t))\n",
    "        \n",
    "#     cells_aligned = bp.unpack_ndarray_file(detected_cells_dir + '/%(fn)s/%(fn)s_cellsAligned.bp' % {'fn': fn})\n",
    "#     cells_aligned_h = bp.unpack_ndarray_file(detected_cells_dir + '/%(fn)s/%(fn)s_cellsAligned_h.bp' % {'fn': fn})\n",
    "#     cells_aligned_v = bp.unpack_ndarray_file(detected_cells_dir + '/%(fn)s/%(fn)s_cellsAligned_v.bp' % {'fn': fn})\n",
    "#     cells_aligned_d = bp.unpack_ndarray_file(detected_cells_dir + '/%(fn)s/%(fn)s_cellsAligned_d.bp' % {'fn': fn})\n",
    "     \n",
    "    cell_orientations.append(blob_orientations)\n",
    "    cell_majorAxisLens.append(blob_majorAxisLens)\n",
    "    cell_minorAxisLens.append(blob_minorAxisLens)\n",
    "    cell_addresses += [(sec, i) for i in range(n_blobs)]\n",
    "    \n",
    "cell_orientations = np.concatenate(cell_orientations)\n",
    "cell_majorAxisLens = np.concatenate(cell_majorAxisLens)\n",
    "cell_minorAxisLens = np.concatenate(cell_minorAxisLens)"
   ]
  },
  {
   "cell_type": "code",
   "execution_count": 11,
   "metadata": {
    "collapsed": false
   },
   "outputs": [],
   "source": [
    "# pickle.dump(cells_aligned, open(detected_cells_dir + '/%(fn)s/%(fn)s_cellsAligned.bp' % {'fn': fn}, 'w'))\n",
    "# pickle.dump(cells_aligned_h, open(detected_cells_dir + '/%(fn)s/%(fn)s_cellsAligned_h.bp' % {'fn': fn}, 'w'))\n",
    "# pickle.dump(cells_aligned_v, open(detected_cells_dir + '/%(fn)s/%(fn)s_cellsAligned_v.bp' % {'fn': fn}, 'w'))\n",
    "# pickle.dump(cells_aligned_d, open(detected_cells_dir + '/%(fn)s/%(fn)s_cellsAligned_d.bp' % {'fn': fn}, 'w'))"
   ]
  },
  {
   "cell_type": "code",
   "execution_count": 17,
   "metadata": {
    "collapsed": false
   },
   "outputs": [],
   "source": [
    "# Place cell masks at the center and pad the surroundings with zeros.\n",
    "\n",
    "output_dir = create_if_not_exists('/home/yuncong/csd395/CSHL_cells_v2/processed_cells')\n",
    "\n",
    "cells_aligned_padded = np.asarray(pad_patches_to_same_size(cells_aligned, pad_value=0, keep_center=True))\n",
    "bp.pack_ndarray_file(cells_aligned_padded, output_dir + '/cells_aligned_padded.bp')\n",
    "del cells_aligned_padded\n",
    "\n",
    "cells_h_aligned_padded = np.asarray(pad_patches_to_same_size(cells_aligned_h, pad_value=0, keep_center=True))\n",
    "bp.pack_ndarray_file(cells_h_aligned_padded, output_dir + '/cells_h_aligned_padded.bp')\n",
    "del cells_h_aligned_padded\n",
    "\n",
    "cells_v_aligned_padded = np.asarray(pad_patches_to_same_size(cells_aligned_v, pad_value=0, keep_center=True))\n",
    "bp.pack_ndarray_file(cells_v_aligned_padded, output_dir + '/cells_v_aligned_padded.bp')\n",
    "del cells_v_aligned_padded\n",
    "\n",
    "cells_d_aligned_padded = np.asarray(pad_patches_to_same_size(cells_aligned_d, pad_value=0, keep_center=True))\n",
    "bp.pack_ndarray_file(cells_d_aligned_padded, output_dir + '/cells_d_aligned_padded.bp')\n",
    "del cells_d_aligned_padded"
   ]
  },
  {
   "cell_type": "code",
   "execution_count": 23,
   "metadata": {
    "collapsed": false
   },
   "outputs": [],
   "source": [
    "bp.pack_ndarray_file(np.array(cell_addresses), output_dir + '/cell_addresses.bp')"
   ]
  },
  {
   "cell_type": "code",
   "execution_count": null,
   "metadata": {
    "collapsed": true
   },
   "outputs": [],
   "source": []
  },
  {
   "cell_type": "code",
   "execution_count": null,
   "metadata": {
    "collapsed": true
   },
   "outputs": [],
   "source": [
    "# Load processed cells"
   ]
  },
  {
   "cell_type": "code",
   "execution_count": 5,
   "metadata": {
    "collapsed": true
   },
   "outputs": [],
   "source": [
    "output_dir = create_if_not_exists('/home/yuncong/csd395/CSHL_cells_v2/processed_cells')"
   ]
  },
  {
   "cell_type": "code",
   "execution_count": 11,
   "metadata": {
    "collapsed": false
   },
   "outputs": [],
   "source": [
    "cell_addresses = bp.unpack_ndarray_file(output_dir + '/cell_addresses.bp')"
   ]
  },
  {
   "cell_type": "code",
   "execution_count": 6,
   "metadata": {
    "collapsed": false,
    "scrolled": true
   },
   "outputs": [],
   "source": [
    "cells_aligned_padded = bp.unpack_ndarray_file(output_dir + '/cells_aligned_padded.bp')"
   ]
  },
  {
   "cell_type": "code",
   "execution_count": 7,
   "metadata": {
    "collapsed": true
   },
   "outputs": [],
   "source": [
    "cells_h_aligned_padded = bp.unpack_ndarray_file(output_dir + '/cells_h_aligned_padded.bp')"
   ]
  },
  {
   "cell_type": "code",
   "execution_count": 9,
   "metadata": {
    "collapsed": true
   },
   "outputs": [],
   "source": [
    "cells_v_aligned_padded = bp.unpack_ndarray_file(output_dir + '/cells_v_aligned_padded.bp')"
   ]
  },
  {
   "cell_type": "code",
   "execution_count": null,
   "metadata": {
    "collapsed": true
   },
   "outputs": [],
   "source": [
    "cells_d_aligned_padded = bp.unpack_ndarray_file(output_dir + '/cells_d_aligned_padded.bp')"
   ]
  },
  {
   "cell_type": "code",
   "execution_count": 12,
   "metadata": {
    "collapsed": false
   },
   "outputs": [
    {
     "name": "stdout",
     "output_type": "stream",
     "text": [
      "827638 cells\n"
     ]
    }
   ],
   "source": [
    "n_cells = len(cells_aligned_padded)\n",
    "print n_cells, 'cells'\n",
    "\n",
    "# cells_aligned_padded_flattened = np.reshape(cells_aligned_padded, (n_cells, -1))\n",
    "# cells_aligned_padded.shape\n",
    "\n",
    "cell_sizes = np.reshape(cells_aligned_padded, (n_cells, -1)).sum(axis=1)"
   ]
  },
  {
   "cell_type": "code",
   "execution_count": 13,
   "metadata": {
    "collapsed": false
   },
   "outputs": [
    {
     "data": {
      "image/png": "[encoded data removed]",
      "text/plain": [
       "<matplotlib.figure.Figure at 0x3413fd0>"
      ]
     },
     "metadata": {},
     "output_type": "display_data"
    }
   ],
   "source": [
    "plt.hist(cell_sizes, bins=np.linspace(0, 1000, 100));\n",
    "plt.title('Histogram of cell sizes');\n",
    "plt.xlabel('size');\n",
    "plt.ylabel('count');\n",
    "plt.show();"
   ]
  },
  {
   "cell_type": "code",
   "execution_count": 51,
   "metadata": {
    "collapsed": false
   },
   "outputs": [],
   "source": [
    "# counts, edges = np.histogram(cell_sizes, bins=1000)\n",
    "# counts = counts / float(n_cells)\n",
    "# counts_cumsum = np.cumsum(counts)\n",
    "# plt.plot(edges[:-1], counts_cumsum);\n",
    "# plt.title('Cumulative');\n",
    "# plt.xlabel('bins');\n",
    "# plt.ylabel('percentage cumulatively covered');\n",
    "\n",
    "# cutoff_percentage = .3 # 30% of the smallest cells will be below the threshold\n",
    "# cell_size_threshold_small_medium = edges[np.where(counts_cumsum < cutoff_percentage)[0][-1]]\n",
    "# plt.vlines(cell_size_threshold_small_medium, 0, 1, color='r');\n",
    "\n",
    "# cutoff_percentage = .7\n",
    "# cell_size_threshold_medium_large = edges[np.where(counts_cumsum < cutoff_percentage)[0][-1]]\n",
    "# plt.vlines(cell_size_threshold_medium_large, 0, 1, color='r');\n",
    "# plt.show();"
   ]
  },
  {
   "cell_type": "code",
   "execution_count": 14,
   "metadata": {
    "collapsed": false
   },
   "outputs": [
    {
     "name": "stdout",
     "output_type": "stream",
     "text": [
      "248291 331055 248292\n"
     ]
    }
   ],
   "source": [
    "cutoff_percentage_small_medium = .3\n",
    "cutoff_percentage_medium_large = .7\n",
    "c1 = int(cutoff_percentage_small_medium*n_cells)\n",
    "c2 = int(cutoff_percentage_medium_large*n_cells)\n",
    "indices_sorted_by_size = np.argsort(cell_sizes)\n",
    "small_cell_indices = indices_sorted_by_size[:c1]\n",
    "medium_cell_indices = indices_sorted_by_size[c1:c2]\n",
    "large_cell_indices = indices_sorted_by_size[c2:]\n",
    "\n",
    "n_small_cells = len(small_cell_indices)\n",
    "n_medium_cells = len(medium_cell_indices)\n",
    "n_large_cells = len(large_cell_indices)\n",
    "\n",
    "print n_small_cells, n_medium_cells, n_large_cells"
   ]
  },
  {
   "cell_type": "code",
   "execution_count": 32,
   "metadata": {
    "collapsed": true
   },
   "outputs": [],
   "source": [
    "selected_cell_indices = np.sort(large_cell_indices)\n",
    "dataset_name = 'largest30p'\n",
    "\n",
    "n_selected_cells = len(selected_cell_indices)"
   ]
  },
  {
   "cell_type": "code",
   "execution_count": 18,
   "metadata": {
    "collapsed": true
   },
   "outputs": [],
   "source": [
    "cells_aligned_padded = bp.unpack_ndarray_file(output_dir + '/cells_aligned_padded.bp')\n",
    "selected_cells_aligned_padded = cells_aligned_padded[selected_cell_indices].copy()\n",
    "del cells_aligned_padded"
   ]
  },
  {
   "cell_type": "code",
   "execution_count": 20,
   "metadata": {
    "collapsed": true
   },
   "outputs": [],
   "source": [
    "cells_h_aligned_padded = bp.unpack_ndarray_file(output_dir + '/cells_h_aligned_padded.bp')\n",
    "selected_cells_h_aligned_padded = cells_h_aligned_padded[selected_cell_indices].copy()\n",
    "del cells_h_aligned_padded"
   ]
  },
  {
   "cell_type": "code",
   "execution_count": 22,
   "metadata": {
    "collapsed": true
   },
   "outputs": [],
   "source": [
    "cells_v_aligned_padded = bp.unpack_ndarray_file(output_dir + '/cells_v_aligned_padded.bp')\n",
    "selected_cells_v_aligned_padded = cells_v_aligned_padded[selected_cell_indices].copy()\n",
    "del cells_v_aligned_padded"
   ]
  },
  {
   "cell_type": "code",
   "execution_count": 24,
   "metadata": {
    "collapsed": false
   },
   "outputs": [],
   "source": [
    "cells_d_aligned_padded = bp.unpack_ndarray_file(output_dir + '/cells_d_aligned_padded.bp')\n",
    "selected_cells_d_aligned_padded = cells_d_aligned_padded[selected_cell_indices].copy()\n",
    "del cells_d_aligned_padded"
   ]
  },
  {
   "cell_type": "code",
   "execution_count": 25,
   "metadata": {
    "collapsed": true
   },
   "outputs": [],
   "source": [
    "selected_cell_sizes = cell_sizes[selected_cell_indices]"
   ]
  },
  {
   "cell_type": "code",
   "execution_count": null,
   "metadata": {
    "collapsed": true
   },
   "outputs": [],
   "source": []
  },
  {
   "cell_type": "code",
   "execution_count": null,
   "metadata": {
    "collapsed": false
   },
   "outputs": [],
   "source": [
    "# nonsmall_cell_masks_normalized_flattened = cell_masks_normalized_flattened[nonsmall_cells_indices].copy()\n",
    "# nonsmall_cell_masks_normalized_size = cell_masks_normalized_size[nonsmall_cells_indices].copy()\n",
    "# print nonsmall_cell_masks_normalized_flattened.shape"
   ]
  },
  {
   "cell_type": "code",
   "execution_count": null,
   "metadata": {
    "collapsed": true
   },
   "outputs": [],
   "source": [
    "# Rescale all cells to the same size"
   ]
  },
  {
   "cell_type": "code",
   "execution_count": null,
   "metadata": {
    "collapsed": false
   },
   "outputs": [],
   "source": [
    "mean_size = int(nonsmall_cell_sizes.mean())\n",
    "median_size = np.sort(nonsmall_cell_sizes)[len(nonsmall_cell_sizes)/2]\n",
    "print mean_size, median_size"
   ]
  },
  {
   "cell_type": "code",
   "execution_count": null,
   "metadata": {
    "collapsed": true
   },
   "outputs": [],
   "source": [
    "def rescale_cell(i, mean_size):\n",
    "    c = nonsmall_cells_aligned_padded[i]\n",
    "    s = nonsmall_cell_sizes[i]\n",
    "    rescaled = rescale(c, np.sqrt(float(mean_size)/s), cval=0) > .5\n",
    "    xmin, xmax, ymin, ymax = bbox_2d(rescaled)\n",
    "    rescaled_centered = rescaled[ymin:ymax+1, xmin:xmax+1].copy()\n",
    "    return rescaled_centered"
   ]
  },
  {
   "cell_type": "code",
   "execution_count": null,
   "metadata": {
    "collapsed": false
   },
   "outputs": [],
   "source": [
    "t = time.time()\n",
    "\n",
    "pool = Pool(16)\n",
    "nonsmall_cells_aligned_rescaled = pool.map(lambda i: rescale_cell(i, mean_size), range(n_nonsmall_cells))\n",
    "pool.terminate()\n",
    "pool.join()\n",
    "\n",
    "print time.time() - t # 24s / 60k cells"
   ]
  },
  {
   "cell_type": "code",
   "execution_count": null,
   "metadata": {
    "collapsed": true
   },
   "outputs": [],
   "source": [
    "nonsmall_cells_aligned_rescaled_padded = pad_patches_to_same_size(nonsmall_cells_aligned_rescaled, \n",
    "                                                         pad_value=0, keep_center=True)"
   ]
  },
  {
   "cell_type": "code",
   "execution_count": null,
   "metadata": {
    "collapsed": false
   },
   "outputs": [],
   "source": [
    "nonsmall_cells_padded_shape = nonsmall_cells_aligned_rescaled_padded[0].shape"
   ]
  },
  {
   "cell_type": "code",
   "execution_count": null,
   "metadata": {
    "collapsed": false
   },
   "outputs": [],
   "source": [
    "nonsmall_cells_aligned_rescaled_padded_flattened = np.reshape(nonsmall_cells_aligned_rescaled_padded, (n_nonsmall_cells, -1))\n",
    "nonsmall_cell_rescaled_sizes = nonsmall_cells_aligned_rescaled_padded_flattened.sum(axis=1)"
   ]
  },
  {
   "cell_type": "code",
   "execution_count": null,
   "metadata": {
    "collapsed": true
   },
   "outputs": [],
   "source": [
    "bp.pack_ndarray_file(np.array(nonsmall_cells_aligned_rescaled_padded), output_dir + '/%(dataset_name)s_alignedRescaledPadded_cutoff%(cutoff)d.bp' % \n",
    "                     {'dataset_name': dataset_name, 'cutoff': cutoff_percentage_small_medium*100})\n",
    "\n",
    "bp.pack_ndarray_file(np.array(nonsmall_cell_rescaled_sizes), output_dir + '/%(dataset_name)s_rescaledSizes_cutoff%(cutoff)d.bp' % \n",
    "                     {'dataset_name': dataset_name, 'cutoff': cutoff_percentage_small_medium*100})\n",
    "\n",
    "bp.pack_ndarray_file(nonsmall_cells_indices, output_dir + '/%(dataset_name)s_indices_cutoff%(cutoff)d.bp' % \n",
    "                     {'dataset_name': dataset_name, 'cutoff': cutoff_percentage_small_medium*100})"
   ]
  },
  {
   "cell_type": "code",
   "execution_count": null,
   "metadata": {
    "collapsed": true
   },
   "outputs": [],
   "source": []
  },
  {
   "cell_type": "code",
   "execution_count": 34,
   "metadata": {
    "collapsed": false
   },
   "outputs": [],
   "source": [
    "# bp.pack_ndarray_file(np.array(selected_cells_aligned_padded), output_dir + '/%(dataset_name)s_aligned_padded_cutoff%(cutoff)d.bp' % \n",
    "#                      {'dataset_name': dataset_name, 'cutoff': cutoff_percentage_medium_large*100})\n",
    "\n",
    "# bp.pack_ndarray_file(np.array(selected_cells_h_aligned_padded), output_dir + '/%(dataset_name)s_h_aligned_padded_cutoff%(cutoff)d.bp' % \n",
    "#                      {'dataset_name': dataset_name, 'cutoff': cutoff_percentage_medium_large*100})\n",
    "\n",
    "# bp.pack_ndarray_file(np.array(selected_cells_v_aligned_padded), output_dir + '/%(dataset_name)s_v_aligned_padded_cutoff%(cutoff)d.bp' % \n",
    "#                      {'dataset_name': dataset_name, 'cutoff': cutoff_percentage_medium_large*100})\n",
    "\n",
    "# bp.pack_ndarray_file(np.array(selected_cells_d_aligned_padded), output_dir + '/%(dataset_name)s_d_aligned_padded_cutoff%(cutoff)d.bp' % \n",
    "#                      {'dataset_name': dataset_name, 'cutoff': cutoff_percentage_medium_large*100})\n",
    "\n",
    "bp.pack_ndarray_file(np.array(selected_cell_sizes), output_dir + '/%(dataset_name)s_sizes.bp' % \n",
    "                     {'dataset_name': dataset_name})\n",
    "\n",
    "bp.pack_ndarray_file(selected_cell_indices, output_dir + '/%(dataset_name)s_indices.bp' % \n",
    "                     {'dataset_name': dataset_name})"
   ]
  },
  {
   "cell_type": "code",
   "execution_count": null,
   "metadata": {
    "collapsed": true
   },
   "outputs": [],
   "source": []
  },
  {
   "cell_type": "code",
   "execution_count": 26,
   "metadata": {
    "collapsed": true
   },
   "outputs": [],
   "source": [
    "from scipy.spatial.distance import squareform"
   ]
  },
  {
   "cell_type": "code",
   "execution_count": 27,
   "metadata": {
    "collapsed": true
   },
   "outputs": [],
   "source": [
    "selected_cell_arrays = selected_cells_aligned_padded.reshape((n_selected_cells, -1))\n",
    "selected_cell_arrays_h = selected_cells_h_aligned_padded.reshape((n_selected_cells, -1))\n",
    "selected_cell_arrays_v = selected_cells_v_aligned_padded.reshape((n_selected_cells, -1))\n",
    "selected_cell_arrays_d = selected_cells_d_aligned_padded.reshape((n_selected_cells, -1))"
   ]
  },
  {
   "cell_type": "code",
   "execution_count": 29,
   "metadata": {
    "collapsed": true
   },
   "outputs": [],
   "source": [
    "def kmeans_plusplus(n_class):\n",
    "    \n",
    "    seeds = np.empty((n_class, ), np.int)\n",
    "\n",
    "    distances_to_closest_seed = np.empty((n_selected_cells, ))\n",
    "    indices_of_closest_seed = np.empty((n_selected_cells, ), np.int)\n",
    "\n",
    "    t1 = time.time()\n",
    "\n",
    "    bar = show_progress_bar(0, n_class)\n",
    "\n",
    "    for it in range(n_class):\n",
    "\n",
    "        bar.value = it\n",
    "\n",
    "        if it == 0:\n",
    "            seed = np.random.randint(n_selected_cells)\n",
    "        else:\n",
    "            seed = np.random.choice(range(n_selected_cells), 1, p=d2_weights)[0]\n",
    "\n",
    "        seeds[it] = int(seed)\n",
    "\n",
    "    #     t = time.time()\n",
    "        distances = 1. - compute_jaccard_i_vs_all(seed)\n",
    "    #     distances = 1. - compute_jaccard_with_i_parallel(seed)\n",
    "    #     print time.time() - t\n",
    "        # sequential: 0.05-0.5s / 20k cells\n",
    "        # parallel: 0.35s, even slower than sequential\n",
    "\n",
    "\n",
    "        if it == 0:\n",
    "            distances_to_closest_seed = distances\n",
    "            indices_of_closest_seed[:] = 0\n",
    "        else:    \n",
    "            needs_update = distances < distances_to_closest_seed\n",
    "            distances_to_closest_seed[needs_update] = distances[needs_update]\n",
    "            indices_of_closest_seed[needs_update] = it\n",
    "\n",
    "        d2s = distances_to_closest_seed**2\n",
    "        d2_weights = d2s / d2s.sum()\n",
    "\n",
    "    print time.time() - t1 # 164s / 1000 centers\n",
    "    \n",
    "    return seeds, indices_of_closest_seed"
   ]
  },
  {
   "cell_type": "code",
   "execution_count": 30,
   "metadata": {
    "collapsed": false
   },
   "outputs": [
    {
     "name": "stdout",
     "output_type": "stream",
     "text": [
      "245.907529116\n"
     ]
    }
   ],
   "source": [
    "seeds, indices_of_closest_seed = kmeans_plusplus(n_class=100)"
   ]
  },
  {
   "cell_type": "code",
   "execution_count": 35,
   "metadata": {
    "collapsed": true
   },
   "outputs": [],
   "source": [
    "bp.pack_ndarray_file(seeds, output_dir + '/%(dataset_name)s_kmeansppCenters.bp' % {'dataset_name': dataset_name})\n",
    "\n",
    "bp.pack_ndarray_file(indices_of_closest_seed, output_dir + '/%(dataset_name)s_closestKmeansppCenters.bp' % \\\n",
    "                     {'dataset_name': dataset_name})\n",
    "\n",
    "# bp.pack_ndarray_file(memberCount, output_dir + '/%(dataset_name)s_indices_cutoff%(cutoff)d_kmeansppCentersMemberCount.bp' % \\\n",
    "#                     {'dataset_name': dataset_name, 'cutoff': cutoff_percentage_medium_large*100})"
   ]
  },
  {
   "cell_type": "code",
   "execution_count": null,
   "metadata": {
    "collapsed": true
   },
   "outputs": [],
   "source": []
  },
  {
   "cell_type": "code",
   "execution_count": 36,
   "metadata": {
    "collapsed": true
   },
   "outputs": [],
   "source": [
    "# Load Kmeans++ results"
   ]
  },
  {
   "cell_type": "code",
   "execution_count": 44,
   "metadata": {
    "collapsed": false
   },
   "outputs": [
    {
     "name": "stdout",
     "output_type": "stream",
     "text": [
      "100 kmeans++ centers\n"
     ]
    }
   ],
   "source": [
    "seeds = bp.unpack_ndarray_file(output_dir + '/%(dataset_name)s_kmeansppCenters.bp' % \\\n",
    "                               {'dataset_name': dataset_name})\n",
    "\n",
    "indices_of_closest_seed = bp.unpack_ndarray_file(output_dir + '/%(dataset_name)s_closestKmeansppCenters.bp' % \\\n",
    "                                                 {'dataset_name': dataset_name})\n",
    "\n",
    "print len(seeds), 'kmeans++ centers'"
   ]
  },
  {
   "cell_type": "code",
   "execution_count": 37,
   "metadata": {
    "collapsed": true
   },
   "outputs": [],
   "source": [
    "memberCount = np.bincount(indices_of_closest_seed, minlength=len(seeds))\n",
    "seedIndices_sorted_by_memberCount = np.argsort(memberCount)[::-1]\n",
    "memberCount_sorted = memberCount[seedIndices_sorted_by_memberCount]\n",
    "seeds_ranked_by_memberCount = seeds[seedIndices_sorted_by_memberCount]"
   ]
  },
  {
   "cell_type": "code",
   "execution_count": 40,
   "metadata": {
    "collapsed": false
   },
   "outputs": [
    {
     "data": {
      "image/png": "[encoded data removed]",
      "text/plain": [
       "<matplotlib.figure.Figure at 0x773eb50>"
      ]
     },
     "metadata": {},
     "output_type": "display_data"
    }
   ],
   "source": [
    "plt.plot(np.cumsum(memberCount_sorted) / float(n_selected_cells));\n",
    "plt.xlabel('top # seeds');\n",
    "plt.ylabel('percentage of data covered');"
   ]
  },
  {
   "cell_type": "code",
   "execution_count": null,
   "metadata": {
    "collapsed": true
   },
   "outputs": [],
   "source": []
  },
  {
   "cell_type": "code",
   "execution_count": 45,
   "metadata": {
    "collapsed": true
   },
   "outputs": [],
   "source": [
    "def compute_embedding(sample_indices):\n",
    "    \n",
    "    n_samples = len(sample_indices)\n",
    "    \n",
    "    t = time.time()\n",
    "\n",
    "    affinities_with_samples = compute_jaccard_list_vs_all(sample_indices)\n",
    "\n",
    "    sys.stderr.write('Compute pairwise affinities (with samples): %f s.\\n' % (time.time()-t)) # 10 s / 200\n",
    "    \n",
    "    nonsample_indices = np.setdiff1d(range(affinities_with_samples.shape[1]), sample_indices)\n",
    "    permutation = np.r_[sample_indices, nonsample_indices]\n",
    "\n",
    "    ########################\n",
    "\n",
    "    t = time.time()\n",
    "\n",
    "    from scipy.linalg import sqrtm\n",
    "\n",
    "    A = affinities_with_samples[:, sample_indices].copy()\n",
    "    B = affinities_with_samples[:, nonsample_indices].copy()\n",
    "\n",
    "    d1 = np.sum(np.c_[A, B], axis=1)\n",
    "    Ai = np.linalg.inv(A)\n",
    "    d2 = np.sum(B, axis=0) + np.dot(B.T, np.dot(Ai, np.sum(B, axis=1)))\n",
    "    dhat_si = np.sqrt(1./np.r_[d1, d2])\n",
    "    A = A*np.outer(dhat_si[:n_samples], dhat_si[:n_samples])\n",
    "    B = B*np.outer(dhat_si[:n_samples], dhat_si[n_samples:])\n",
    "\n",
    "    if any(np.linalg.eigvals(A) < 0):\n",
    "        # A is indefinite\n",
    "        print 'A is indefinite'\n",
    "\n",
    "        U, L, UT = np.linalg.svd(A)\n",
    "\n",
    "        Ubar = np.c_[U.T, np.dot(np.dot(np.linalg.inv(np.diag(L)), U.T), B)]\n",
    "        Z = np.dot(Ubar.T, np.diag(np.sqrt(L)))\n",
    "        F, S, FT = np.linalg.svd(np.dot(Z.T, Z))\n",
    "        V = np.dot(np.dot(Z, F), np.linalg.inv(np.diag(np.sqrt(S))))\n",
    "\n",
    "    else:\n",
    "        # A is positive definite\n",
    "        print 'A is positive definite'\n",
    "        \n",
    "        Asi = sqrtm(Ai)\n",
    "\n",
    "        M = np.dot(B.T, Asi)\n",
    "        S = A + np.dot(M.T, M)\n",
    "\n",
    "        U, L, T = np.linalg.svd(S)\n",
    "\n",
    "        V = np.dot(np.vstack([A, B.T]), np.dot(Asi, np.dot(U, np.linalg.inv(np.diag(np.sqrt(L))))))\n",
    "\n",
    "    sys.stderr.write('Nystroem: %f s.\\n' % (time.time()-t)) # 60s / 100 samples\n",
    "\n",
    "\n",
    "    ##########################\n",
    "\n",
    "    E_allEig = V[:,1:]/V[:,0][:,None]\n",
    "\n",
    "    E_allEig_original_order = np.zeros_like(E_allEig)\n",
    "    E_allEig_original_order[permutation] = E_allEig\n",
    "    \n",
    "    return E_allEig_original_order"
   ]
  },
  {
   "cell_type": "code",
   "execution_count": 48,
   "metadata": {
    "collapsed": false
   },
   "outputs": [
    {
     "name": "stderr",
     "output_type": "stream",
     "text": [
      "Compute pairwise affinities (with samples): 64.492144 s.\n"
     ]
    },
    {
     "name": "stdout",
     "output_type": "stream",
     "text": [
      "A is indefinite\n"
     ]
    },
    {
     "name": "stderr",
     "output_type": "stream",
     "text": [
      "Nystroem: 1.748129 s.\n"
     ]
    }
   ],
   "source": [
    "# our data, Nystroem extension\n",
    "# https://people.eecs.berkeley.edu/~malik/papers/FBCM-nystrom.pdf\n",
    "\n",
    "\n",
    "# for n_seeds in [100, 200, 1000]:\n",
    "n_nystrom_samples = 100\n",
    "nystrom_sample_indices = seeds_ranked_by_memberCount[:n_nystrom_samples].copy() # Use top n_nystrom_samples most populated kmeans++ centers\n",
    "embeddings = compute_embedding(nystrom_sample_indices)\n",
    "\n",
    "embeddings_normalized = (embeddings - embeddings.mean(axis=0)) / embeddings.std(axis=0)\n",
    "\n",
    "#     bp.pack_ndarray_file(E_allEig_original_order, \n",
    "#                          output_dir +  '/embeddingAllEigen_%(dataset_name)s_nystromSample%(n_seeds)d.bp' % \\\n",
    "#                          {'dataset_name': dataset_name, 'n_seeds': n_seeds})\n",
    "\n",
    "# print E_allEig_original_order.mean(axis=0)\n",
    "# print E_allEig_original_order.std(axis=0)\n",
    "\n",
    "# E_allEig_original_order_normalized = (E_allEig_original_order-E_allEig_original_order.mean(axis=0))/E_allEig_original_order.std(axis=0)\n",
    "\n",
    "#     bp.pack_ndarray_file(E_allEig_original_order_normalized, \n",
    "#                          output_dir + '/embeddingAllEigenNormalized_%(dataset_name)s_nystromSample%(n_seeds)d.bp' % \\\n",
    "#                          {'dataset_name': dataset_name, 'n_seeds': n_seeds})"
   ]
  },
  {
   "cell_type": "code",
   "execution_count": 51,
   "metadata": {
    "collapsed": false
   },
   "outputs": [],
   "source": [
    "bp.pack_ndarray_file(embeddings, output_dir + '/embeddings_%(dataset_name)s_nystromSample%(n_samples)d.bp' % \\\n",
    "                     {'dataset_name': dataset_name, 'n_samples': n_nystrom_samples})"
   ]
  },
  {
   "cell_type": "code",
   "execution_count": 52,
   "metadata": {
    "collapsed": true
   },
   "outputs": [],
   "source": [
    "bp.pack_ndarray_file(embeddings_normalized, output_dir + '/embeddings_normalized_%(dataset_name)s_nystromSample%(n_samples)d.bp' % \\\n",
    "                     {'dataset_name': dataset_name, 'n_samples': n_nystrom_samples})"
   ]
  },
  {
   "cell_type": "code",
   "execution_count": 49,
   "metadata": {
    "collapsed": false
   },
   "outputs": [
    {
     "data": {
      "text/plain": [
       "(248292, 99)"
      ]
     },
     "execution_count": 49,
     "metadata": {},
     "output_type": "execute_result"
    }
   ],
   "source": [
    "embeddings.shape"
   ]
  }
 ],
 "metadata": {
  "kernelspec": {
   "display_name": "Python 2",
   "language": "python",
   "name": "python2"
  },
  "language_info": {
   "codemirror_mode": {
    "name": "ipython",
    "version": 2
   },
   "file_extension": ".py",
   "mimetype": "text/x-python",
   "name": "python",
   "nbconvert_exporter": "python",
   "pygments_lexer": "ipython2",
   "version": "2.7.3"
  }
 },
 "nbformat": 4,
 "nbformat_minor": 0
}
