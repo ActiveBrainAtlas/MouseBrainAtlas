{
 "cells": [
  {
   "cell_type": "code",
   "execution_count": 1,
   "metadata": {
    "collapsed": false
   },
   "outputs": [
    {
     "name": "stdout",
     "output_type": "stream",
     "text": [
      "Setting environment for Gordon\n"
     ]
    },
    {
     "name": "stderr",
     "output_type": "stream",
     "text": [
      "No vtk\n",
      "Cannot import mxnet.\n"
     ]
    }
   ],
   "source": [
    "%reload_ext autoreload\n",
    "%autoreload 2\n",
    "\n",
    "import os\n",
    "import sys\n",
    "import time\n",
    "import cv2\n",
    "\n",
    "sys.path.append(os.path.join(os.environ['REPO_DIR'], 'utilities'))\n",
    "from utilities2015 import *\n",
    "from data_manager import *\n",
    "from metadata import *\n",
    "\n",
    "import matplotlib.pyplot as plt\n",
    "%matplotlib inline\n",
    "\n",
    "from multiprocess import Pool\n",
    "\n",
    "import pandas\n",
    "\n",
    "from cell_utilities import *\n",
    "from learning_utilities import *\n",
    "\n",
    "from matplotlib.path import Path"
   ]
  },
  {
   "cell_type": "code",
   "execution_count": 26,
   "metadata": {
    "collapsed": true
   },
   "outputs": [],
   "source": [
    "stack = 'MD589'"
   ]
  },
  {
   "cell_type": "code",
   "execution_count": 27,
   "metadata": {
    "collapsed": false
   },
   "outputs": [
    {
     "name": "stdout",
     "output_type": "stream",
     "text": [
      "'No object named structures in the file'\n"
     ]
    },
    {
     "name": "stderr",
     "output_type": "stream",
     "text": [
      "Annotation has no structures.\n"
     ]
    }
   ],
   "source": [
    "contour_df, _ = DataManager.load_annotation_v3(stack=stack)\n",
    "from annotation_utilities import *\n",
    "contour_df = convert_annotation_v3_original_to_aligned_cropped(contour_df, stack)"
   ]
  },
  {
   "cell_type": "code",
   "execution_count": 30,
   "metadata": {
    "collapsed": true
   },
   "outputs": [],
   "source": [
    "first_sec, last_sec = metadata_cache['section_limits'][stack]"
   ]
  },
  {
   "cell_type": "code",
   "execution_count": 34,
   "metadata": {
    "collapsed": false,
    "scrolled": true
   },
   "outputs": [
    {
     "name": "stdout",
     "output_type": "stream",
     "text": [
      "58 large cells are identified in VCA.\n",
      "51 small cells are identified in VCA.\n"
     ]
    }
   ],
   "source": [
    "for sec in range(first_sec, last_sec+1):\n",
    "    \n",
    "    fn = metadata_cache['sections_to_filenames'][stack][sec]\n",
    "    if is_invalid(fn):\n",
    "        continue\n",
    "    \n",
    "    neighbor_info = load_cell_classifier_data(what='neighbor_info', stack=stack, sec=sec, ext='pkl')\n",
    "    neighbors = neighbor_info['neighbors']\n",
    "    radial_indices = neighbor_info['radial_indices']\n",
    "    angular_indices = neighbor_info['angular_indices']\n",
    "\n",
    "    # sample_indices = np.random.choice(neighbors.keys(), 10, replace=False)\n",
    "\n",
    "    # context_histograms = {cell_ind: np.bincount([n_angular*ri+ai \n",
    "    #                                  for ri, ai in zip(radial_indices[cell_ind], angular_indices[cell_ind])],\n",
    "    #                                   minlength=n_angular*n_radial)\n",
    "    #                       for cell_ind in sample_indices}\n",
    "\n",
    "    # plot_histograms(context_histograms, bins=range(n_angular*n_radial), \n",
    "    #                xlabel='Radial-angular bin',\n",
    "    #                ylabel='Number of cells',\n",
    "    #                suptitle='Neighbor placement histogram for random cells')\n",
    "\n",
    "    cell_orientations = load_cell_data('orientation', stack, sec)\n",
    "    cell_orientations = np.array(map(normalize_angle, cell_orientations))\n",
    "\n",
    "    cell_centroids = load_cell_data('centroid', stack, sec)\n",
    "    cell_numbers = cell_centroids.shape[0]\n",
    "\n",
    "    image = load_cell_data('image', stack=stack, sec=sec)\n",
    "\n",
    "    # For visualization\n",
    "\n",
    "    cell_contours = load_cell_data('contours', stack=stack, sec=sec)\n",
    "    n_cells = len(cell_contours)\n",
    "\n",
    "    cell_mask_centers = load_cell_data('mask_center', stack=stack, sec=sec)\n",
    "    cell_contours_global = {i: cell_centroids[i].astype(np.int) - cell_mask_centers[i] + cell_contours[i]\n",
    "                            for i in range(cell_numbers)}\n",
    "\n",
    "    ######################################\n",
    "\n",
    "    cells = load_cell_data('cells_aligned_padded', stack, sec)\n",
    "    cell_sizes = np.sum(cells.reshape((cells.shape[0], -1)), axis=1)\n",
    "\n",
    "    ######################################\n",
    "\n",
    "    large_cell_threshold = 163\n",
    "    large_cell_indices = np.where(cell_sizes > large_cell_threshold)[0]\n",
    "\n",
    "    contours = {cnt['name']: cnt['vertices'] for cnt_id, cnt in contour_df[contour_df['section'] == sec].iterrows()}\n",
    "\n",
    "    #######################################\n",
    "\n",
    "    cell_graph_output_dir = create_if_not_exists(os.path.join(CELLS_ROOTDIR, 'cell_graphs', fn))\n",
    "\n",
    "    #######################################\n",
    "\n",
    "    large_cell_centroids = cell_centroids[large_cell_indices]\n",
    "\n",
    "    for name_u, cnt in contours.iteritems():\n",
    "    # for name_u, cnt in [('Tz', contours['Tz'])]:\n",
    "\n",
    "        # Get large cells\n",
    "\n",
    "        large_cell_is_inside = Path(cnt.astype(np.int)).contains_points(large_cell_centroids)\n",
    "        large_cell_indices_inside = large_cell_indices[large_cell_is_inside]\n",
    "\n",
    "        if len(large_cell_indices_inside) == 0:\n",
    "            continue\n",
    "        \n",
    "        print '%d large cells are identified in %s.' % (len(large_cell_indices_inside), name_u)\n",
    "\n",
    "        # Small cells\n",
    "\n",
    "        small_cell_indices = np.array(list(set(range(cell_numbers)) - set(large_cell_indices.tolist())))\n",
    "        small_cell_centroids = cell_centroids[small_cell_indices]\n",
    "        small_cell_is_inside = Path(cnt.astype(np.int)).contains_points(small_cell_centroids)\n",
    "        small_cell_indices_inside = small_cell_indices[small_cell_is_inside]\n",
    "\n",
    "        print '%d small cells are identified in %s.' % (len(small_cell_indices_inside), name_u)\n",
    "\n",
    "        ##############################\n",
    "        # Visualize\n",
    "        ##############################\n",
    "\n",
    "        viz = image.copy()\n",
    "\n",
    "        # Draw large cell boundaries\n",
    "        for i in large_cell_indices_inside:\n",
    "            cv2.polylines(viz, [cell_contours_global[i].astype(np.int)], isClosed=True, color=(255,0,0), thickness=1)\n",
    "\n",
    "        # Draw small cell boundaries\n",
    "        for i in small_cell_indices_inside:\n",
    "            cv2.polylines(viz, [cell_contours_global[i].astype(np.int)], isClosed=True, color=(0,255,0), thickness=1)\n",
    "\n",
    "        # Draw structure boundary\n",
    "        cv2.polylines(viz, [cnt.astype(np.int)], isClosed=True, color=(0,0,255), thickness=1)\n",
    "\n",
    "        # Visualize radial-angular histogram of selected cells\n",
    "        random_large_cell_indices = large_cell_indices_inside\n",
    "    #     random_large_cell_indices = np.random.choice(large_cell_indices_inside, 2, replace=False)\n",
    "\n",
    "        for source in random_large_cell_indices:\n",
    "\n",
    "            cv2.circle(viz, tuple(cell_centroids[source].astype(np.int)), 6, color=(255,0,0), thickness=-1)\n",
    "\n",
    "            neighbor_distances = np.sqrt(np.sum(neighbor_info['neighbor_vectors'][source]**2, axis=1))\n",
    "\n",
    "            c = 0\n",
    "            for i in np.array(neighbors[source])[np.argsort(neighbor_distances)]:\n",
    "    #         for i in neighbors[source]:\n",
    "\n",
    "                # Draw link to large cells\n",
    "                if i in large_cell_indices_inside:\n",
    "                        \n",
    "\n",
    "                    cv2.circle(viz, tuple(cell_centroids[i].astype(np.int)), 3, color=(255,0,0), thickness=-1)\n",
    "\n",
    "                    cv2.line(viz, tuple(cell_centroids[source].astype(np.int)), \n",
    "                         tuple(cell_centroids[i].astype(np.int)), \n",
    "                         color=(255,0,0), thickness=1)\n",
    "                    \n",
    "                    c += 1\n",
    "                    if c == 2:\n",
    "                        break\n",
    "\n",
    "    #             # Draw link to small cells\n",
    "    #             if i in small_cell_indices_inside:\n",
    "    #                 cv2.circle(viz, tuple(cell_centroids[i].astype(np.int)), 3, color=(0,255,0), thickness=-1)            \n",
    "\n",
    "    #                 cv2.line(viz, tuple(cell_centroids[source].astype(np.int)), \n",
    "    #                          tuple(cell_centroids[i].astype(np.int)), \n",
    "    #                          color=(0,255,0), thickness=1)\n",
    "\n",
    "\n",
    "    #         # Draw radial bins\n",
    "    #         for rb in radial_bins:\n",
    "    #             cv2.circle(viz, tuple(cell_centroids[source].astype(np.int)), \n",
    "    #                       int(rb), color=(0,0,255), thickness=1)\n",
    "\n",
    "    #         # Draw angular bins\n",
    "    #         for ab in angular_bins:\n",
    "    #             cv2.line(viz, tuple(cell_centroids[source].astype(np.int)), \n",
    "    #                      tuple((cell_centroids[source] + (np.cos(ab)*100, np.sin(ab)*100)).astype(np.int)),\n",
    "    #              color=(0,0,255), thickness=1)\n",
    "\n",
    "\n",
    "        # Find crop box\n",
    "\n",
    "        margin = 50\n",
    "        roi_xmin, roi_ymin = cnt.astype(np.int).min(axis=0) - margin\n",
    "        roi_xmax, roi_ymax = cnt.astype(np.int).max(axis=0) + margin\n",
    "    #     print roi_xmin, roi_xmax, roi_ymin, roi_ymax\n",
    "\n",
    "    #     plt.figure(figsize=(20, 20));\n",
    "    # #     plt.title('%s, %s' % (name_u, random_large_cell_indices))\n",
    "    #     plt.title('%s' % (name_u))\n",
    "    #     plt.imshow(viz[roi_ymin:roi_ymax+1, roi_xmin:roi_xmax+1]);\n",
    "    #     plt.show();\n",
    "\n",
    "        imsave(os.path.join(cell_graph_output_dir, '%(fn)s_%(name_u)s_largeGraph.png' % dict(fn=fn, name_u=name_u)), \n",
    "               viz[roi_ymin:roi_ymax+1, roi_xmin:roi_xmax+1])\n",
    "\n",
    "        ####################################################################################\n",
    "\n",
    "        viz = image.copy()\n",
    "\n",
    "        # Draw large cell boundaries\n",
    "        for i in large_cell_indices_inside:\n",
    "            cv2.polylines(viz, [cell_contours_global[i].astype(np.int)], isClosed=True, color=(255,0,0), thickness=1)\n",
    "\n",
    "        # Draw small cell boundaries\n",
    "        for i in small_cell_indices_inside:\n",
    "            cv2.polylines(viz, [cell_contours_global[i].astype(np.int)], isClosed=True, color=(0,255,0), thickness=1)\n",
    "\n",
    "        # Draw structure boundary\n",
    "        cv2.polylines(viz, [cnt.astype(np.int)], isClosed=True, color=(0,0,255), thickness=1)\n",
    "\n",
    "        # Visualize radial-angular histogram of selected cells\n",
    "    #     random_large_cell_indices = large_cell_indices_inside\n",
    "    #     random_large_cell_indices = np.random.choice(large_cell_indices_inside, 2, replace=False)\n",
    "\n",
    "        ###################################\n",
    "        tree = KDTree(cell_centroids[large_cell_indices_inside])\n",
    "\n",
    "        pool = Pool(12)\n",
    "        small_large_neighbors = pool.map(lambda i: list(tree.query_ball_point(cell_centroids[i], r=100)),\n",
    "                             small_cell_indices_inside)\n",
    "        pool.terminate()\n",
    "        pool.join()\n",
    "\n",
    "        small_large_neighbors = dict(zip(small_cell_indices_inside, \n",
    "                                         [large_cell_indices_inside[ns] for ns in small_large_neighbors]))\n",
    "\n",
    "        small_large_neighbors = {i: nbrs[np.argsort(cdist([cell_centroids[i]], cell_centroids[nbrs]))][0] for i, nbrs in small_large_neighbors.iteritems()}\n",
    "        ###################################\n",
    "\n",
    "        for source in small_cell_indices_inside:\n",
    "\n",
    "            cv2.circle(viz, tuple(cell_centroids[source].astype(np.int)), 1, color=(0,255,0), thickness=-1)            \n",
    "\n",
    "            c = 0\n",
    "\n",
    "            for i in small_large_neighbors[source]:\n",
    "\n",
    "                # Draw link to large cells\n",
    "                if i in large_cell_indices_inside:\n",
    "\n",
    "                    cv2.circle(viz, tuple(cell_centroids[i].astype(np.int)), 3, color=(255,0,0), thickness=-1)\n",
    "\n",
    "                    cv2.line(viz, tuple(cell_centroids[source].astype(np.int)), \n",
    "                         tuple(cell_centroids[i].astype(np.int)), \n",
    "                         color=(0,0,0), thickness=1)\n",
    "                \n",
    "                    c += 1\n",
    "                    if c == 1:\n",
    "                        break\n",
    "\n",
    "\n",
    "    #             # Draw link to small cells\n",
    "    #             if i in small_cell_indices_inside:\n",
    "    #                 c += 1\n",
    "    #                 if c == 2:\n",
    "    #                     break\n",
    "    #                 cv2.circle(viz, tuple(cell_centroids[i].astype(np.int)), 3, color=(0,255,0), thickness=-1)            \n",
    "\n",
    "    #                 cv2.line(viz, tuple(cell_centroids[source].astype(np.int)), \n",
    "    #                          tuple(cell_centroids[i].astype(np.int)), \n",
    "    #                          color=(0,255,0), thickness=1)\n",
    "\n",
    "\n",
    "    #         # Draw radial bins\n",
    "    #         for rb in radial_bins:\n",
    "    #             cv2.circle(viz, tuple(cell_centroids[source].astype(np.int)), \n",
    "    #                       int(rb), color=(0,0,255), thickness=1)\n",
    "\n",
    "    #         # Draw angular bins\n",
    "    #         for ab in angular_bins:\n",
    "    #             cv2.line(viz, tuple(cell_centroids[source].astype(np.int)), \n",
    "    #                      tuple((cell_centroids[source] + (np.cos(ab)*100, np.sin(ab)*100)).astype(np.int)),\n",
    "    #              color=(0,0,255), thickness=1)\n",
    "\n",
    "\n",
    "        # Find crop box\n",
    "\n",
    "        margin = 50\n",
    "        roi_xmin, roi_ymin = cnt.astype(np.int).min(axis=0) - margin\n",
    "        roi_xmax, roi_ymax = cnt.astype(np.int).max(axis=0) + margin\n",
    "    #     print roi_xmin, roi_xmax, roi_ymin, roi_ymax\n",
    "\n",
    "        imsave(os.path.join(cell_graph_output_dir, '%(fn)s_%(name_u)s_smallToLargeGraph.png' % dict(fn=fn, name_u=name_u)), \n",
    "               viz[roi_ymin:roi_ymax+1, roi_xmin:roi_xmax+1])\n",
    "\n",
    "    #     plt.figure(figsize=(20, 20));\n",
    "    # #     plt.title('%s, %s' % (name_u, random_large_cell_indices))\n",
    "    #     plt.title('%s' % (name_u))\n",
    "    #     plt.imshow(viz[roi_ymin:roi_ymax+1, roi_xmin:roi_xmax+1]);\n",
    "    #     plt.show();"
   ]
  },
  {
   "cell_type": "markdown",
   "metadata": {},
   "source": [
    "# Histograms"
   ]
  },
  {
   "cell_type": "code",
   "execution_count": null,
   "metadata": {
    "collapsed": false
   },
   "outputs": [],
   "source": [
    "plot_histograms({name_u: h/float(h.sum()) for name_u, h in large_cell_size_histogram_all_regions.iteritems()},\n",
    "                bins=size_bins[:-1],\n",
    "               xlabel='Size (pixels)', \n",
    "                ylabel='Number of cells',\n",
    "               suptitle='Histogram of LARGE cell size')"
   ]
  },
  {
   "cell_type": "code",
   "execution_count": null,
   "metadata": {
    "collapsed": true
   },
   "outputs": [],
   "source": [
    "plot_histograms({name_u: h/float(h.sum()) for name_u, h in all_cell_size_weighted_histogram_all_regions.iteritems()},\n",
    "                bins=size_bins[:-1],\n",
    "               xlabel='Size (pixels)', \n",
    "                ylabel='Number of cells',\n",
    "               suptitle='WEIGHTED histogram of cell size')"
   ]
  },
  {
   "cell_type": "code",
   "execution_count": null,
   "metadata": {
    "collapsed": true
   },
   "outputs": [],
   "source": [
    "plot_histograms({name_u: h/float(h.sum()) for name_u, h in all_cell_size_histogram_all_regions.iteritems()},\n",
    "                bins=size_bins[:-1],\n",
    "               xlabel='Size (pixels)', \n",
    "                ylabel='Number of cells',\n",
    "               suptitle='Histogram of cell size')"
   ]
  },
  {
   "cell_type": "code",
   "execution_count": null,
   "metadata": {
    "collapsed": true
   },
   "outputs": [],
   "source": [
    "plot_histograms({name_u: h/float(h.sum()) for name_u, h in large_cell_orientation_histogram_all_regions.iteritems()},\n",
    "                bins=orientation_bins[:-1],\n",
    "               xlabel='Orientation (radian)', \n",
    "                ylabel='Number of cells',\n",
    "               suptitle='Histogram of LARGE cell orientation')"
   ]
  },
  {
   "cell_type": "code",
   "execution_count": null,
   "metadata": {
    "collapsed": true
   },
   "outputs": [],
   "source": [
    "plot_histograms({name_u: h/float(h.sum()) for name_u, h in neighbor_distance_histogram_all_regions.iteritems()},\n",
    "                bins=edge_length_bins[:-1],\n",
    "               xlabel='Neighbor distance (pixel)', \n",
    "                ylabel='Number of cells',\n",
    "               suptitle='Histogram of neighbor distance')"
   ]
  },
  {
   "cell_type": "code",
   "execution_count": null,
   "metadata": {
    "collapsed": true
   },
   "outputs": [],
   "source": [
    "plot_histograms({name_u: h/float(h.sum()) for name_u, h in neighbor_direction_histogram_all_regions.iteritems()},\n",
    "                bins=edge_direction_bins[:-1],\n",
    "               xlabel='Neighbor direction (radian)', \n",
    "                ylabel='Number of cells',\n",
    "               suptitle='Histogram of neighbor direction')"
   ]
  },
  {
   "cell_type": "code",
   "execution_count": null,
   "metadata": {
    "collapsed": true
   },
   "outputs": [],
   "source": [
    "plot_histograms({name_u: h/float(h.sum()) for name_u, h in large_cell_graph_neighbor_distance_histogram_all_regions.iteritems()},\n",
    "                bins=edge_length_bins[:-1],\n",
    "               xlabel='Neighbor distance (pixel)', \n",
    "                ylabel='Number of cells',\n",
    "               suptitle='Histogram of neighbor distance for large cell graphs')"
   ]
  },
  {
   "cell_type": "code",
   "execution_count": null,
   "metadata": {
    "collapsed": true
   },
   "outputs": [],
   "source": [
    "plot_histograms({name_u: h/float(h.sum()) for name_u, h in large_cell_graph_neighbor_direction_histogram_all_regions.iteritems()},\n",
    "                bins=edge_direction_bins[:-1],\n",
    "               xlabel='Neighbor direction (radian)', \n",
    "                ylabel='Number of cells',\n",
    "               suptitle='Histogram of neighbor direction for large cell graphs')"
   ]
  },
  {
   "cell_type": "code",
   "execution_count": null,
   "metadata": {
    "collapsed": true
   },
   "outputs": [],
   "source": [
    "plot_histograms({name_u: h/float(h.sum()) for name_u, h in large_small_cell_graph_neighbor_distance_histogram_all_regions.iteritems()},\n",
    "                bins=edge_length_bins[:-1],\n",
    "               xlabel='Neighbor distance (pixel)', \n",
    "                ylabel='Number of cells',\n",
    "               suptitle='Histogram of neighbor distance for large-small cell graphs')"
   ]
  },
  {
   "cell_type": "code",
   "execution_count": null,
   "metadata": {
    "collapsed": true
   },
   "outputs": [],
   "source": [
    "plot_histograms({name_u: h/float(h.sum()) for name_u, h in large_small_cell_graph_neighbor_direction_histogram_all_regions.iteritems()},\n",
    "                bins=edge_direction_bins[:-1],\n",
    "               xlabel='Neighbor direction (radian)', \n",
    "                ylabel='Number of cells',\n",
    "               suptitle='Histogram of neighbor direction for large-small cell graphs')"
   ]
  }
 ],
 "metadata": {
  "kernelspec": {
   "display_name": "Python 2",
   "language": "python",
   "name": "python2"
  },
  "language_info": {
   "codemirror_mode": {
    "name": "ipython",
    "version": 2
   },
   "file_extension": ".py",
   "mimetype": "text/x-python",
   "name": "python",
   "nbconvert_exporter": "python",
   "pygments_lexer": "ipython2",
   "version": "2.7.3"
  }
 },
 "nbformat": 4,
 "nbformat_minor": 1
}
