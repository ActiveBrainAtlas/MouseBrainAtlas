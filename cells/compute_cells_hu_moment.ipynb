{
 "cells": [
  {
   "cell_type": "code",
   "execution_count": 1,
   "metadata": {
    "collapsed": false
   },
   "outputs": [
    {
     "name": "stdout",
     "output_type": "stream",
     "text": [
      "Setting environment for Gordon\n"
     ]
    },
    {
     "name": "stderr",
     "output_type": "stream",
     "text": [
      "No vtk\n"
     ]
    }
   ],
   "source": [
    "%reload_ext autoreload\n",
    "%autoreload 2\n",
    "\n",
    "import os\n",
    "import sys\n",
    "import time\n",
    "\n",
    "import matplotlib.pyplot as plt\n",
    "%matplotlib inline\n",
    "from multiprocess import Pool\n",
    "from skimage.measure import moments_central, moments_hu, moments_normalized, moments\n",
    "\n",
    "sys.path.append(os.path.join(os.environ['REPO_DIR'], 'utilities'))\n",
    "from utilities2015 import *\n",
    "from data_manager import *\n",
    "from metadata import *\n",
    "from cell_utilities import *"
   ]
  },
  {
   "cell_type": "code",
   "execution_count": 3,
   "metadata": {
    "collapsed": false
   },
   "outputs": [
    {
     "name": "stdout",
     "output_type": "stream",
     "text": [
      "Cell size threshold = 141.78\n"
     ]
    }
   ],
   "source": [
    "cell_size_thresh_um2 = 30\n",
    "cell_size_thresh = cell_size_thresh_um2 / XY_PIXEL_DISTANCE_LOSSLESS**2\n",
    "print 'Cell size threshold = %.2f' % cell_size_thresh"
   ]
  },
  {
   "cell_type": "code",
   "execution_count": 16,
   "metadata": {
    "collapsed": false
   },
   "outputs": [
    {
     "ename": "IOError",
     "evalue": "[Errno 2] No such file or directory: '/home/yuncong/csd395/CSHL_cells_v2/detected_cells/MD603/MD603-N11-2016.03.02-12.51.47_MD603_1_0031/MD603-N11-2016.03.02-12.51.47_MD603_1_0031_cells_aligned_mirrored_padded.bp'",
     "output_type": "error",
     "traceback": [
      "\u001b[0;31m---------------------------------------------------------------------------\u001b[0m",
      "\u001b[0;31mIOError\u001b[0m                                   Traceback (most recent call last)",
      "\u001b[0;32m<ipython-input-16-3a5dbf138690>\u001b[0m in \u001b[0;36m<module>\u001b[0;34m()\u001b[0m\n\u001b[1;32m     21\u001b[0m         \u001b[0mbar\u001b[0m\u001b[0;34m.\u001b[0m\u001b[0mvalue\u001b[0m \u001b[0;34m=\u001b[0m \u001b[0msec\u001b[0m\u001b[0;34m\u001b[0m\u001b[0m\n\u001b[1;32m     22\u001b[0m \u001b[0;34m\u001b[0m\u001b[0m\n\u001b[0;32m---> 23\u001b[0;31m         \u001b[0mcells_aligned_padded\u001b[0m \u001b[0;34m=\u001b[0m \u001b[0mload_cell_data\u001b[0m\u001b[0;34m(\u001b[0m\u001b[0mwhat\u001b[0m\u001b[0;34m=\u001b[0m\u001b[0;34m'cells_aligned_mirrored_padded'\u001b[0m\u001b[0;34m,\u001b[0m \u001b[0mstack\u001b[0m\u001b[0;34m=\u001b[0m\u001b[0mstack\u001b[0m\u001b[0;34m,\u001b[0m \u001b[0msec\u001b[0m\u001b[0;34m=\u001b[0m\u001b[0msec\u001b[0m\u001b[0;34m,\u001b[0m \u001b[0mext\u001b[0m\u001b[0;34m=\u001b[0m\u001b[0;34m'bp'\u001b[0m\u001b[0;34m)\u001b[0m\u001b[0;34m\u001b[0m\u001b[0m\n\u001b[0m\u001b[1;32m     24\u001b[0m \u001b[0;34m\u001b[0m\u001b[0m\n\u001b[1;32m     25\u001b[0m         \u001b[0mn_cells\u001b[0m \u001b[0;34m=\u001b[0m \u001b[0mcells_aligned_padded\u001b[0m\u001b[0;34m.\u001b[0m\u001b[0mshape\u001b[0m\u001b[0;34m[\u001b[0m\u001b[0;36m0\u001b[0m\u001b[0;34m]\u001b[0m\u001b[0;34m\u001b[0m\u001b[0m\n",
      "\u001b[0;32m/oasis/projects/nsf/csd395/yuncong/Brain/cells/cell_utilities.pyc\u001b[0m in \u001b[0;36mload_cell_data\u001b[0;34m(what, stack, sec, ext)\u001b[0m\n\u001b[1;32m    748\u001b[0m         \u001b[0;32mraise\u001b[0m \u001b[0;34m'Cannot load data for section %d.'\u001b[0m\u001b[0;34m\u001b[0m\u001b[0m\n\u001b[1;32m    749\u001b[0m \u001b[0;34m\u001b[0m\u001b[0m\n\u001b[0;32m--> 750\u001b[0;31m     \u001b[0mdata\u001b[0m \u001b[0;34m=\u001b[0m \u001b[0mload_data\u001b[0m\u001b[0;34m(\u001b[0m\u001b[0mfp\u001b[0m\u001b[0;34m)\u001b[0m\u001b[0;34m\u001b[0m\u001b[0m\n\u001b[0m\u001b[1;32m    751\u001b[0m     \u001b[0;32mreturn\u001b[0m \u001b[0mdata\u001b[0m\u001b[0;34m\u001b[0m\u001b[0m\n\u001b[1;32m    752\u001b[0m \u001b[0;34m\u001b[0m\u001b[0m\n",
      "\u001b[0;32m/oasis/projects/nsf/csd395/yuncong/Brain/cells/cell_utilities.pyc\u001b[0m in \u001b[0;36mload_data\u001b[0;34m(fp)\u001b[0m\n\u001b[1;32m    652\u001b[0m \u001b[0;34m\u001b[0m\u001b[0m\n\u001b[1;32m    653\u001b[0m     \u001b[0;32mif\u001b[0m \u001b[0mfp\u001b[0m\u001b[0;34m.\u001b[0m\u001b[0mendswith\u001b[0m\u001b[0;34m(\u001b[0m\u001b[0;34m'bp'\u001b[0m\u001b[0;34m)\u001b[0m\u001b[0;34m:\u001b[0m\u001b[0;34m\u001b[0m\u001b[0m\n\u001b[0;32m--> 654\u001b[0;31m         \u001b[0mdata\u001b[0m \u001b[0;34m=\u001b[0m \u001b[0mbp\u001b[0m\u001b[0;34m.\u001b[0m\u001b[0munpack_ndarray_file\u001b[0m\u001b[0;34m(\u001b[0m\u001b[0mfp\u001b[0m\u001b[0;34m)\u001b[0m\u001b[0;34m\u001b[0m\u001b[0m\n\u001b[0m\u001b[1;32m    655\u001b[0m     \u001b[0;32melif\u001b[0m \u001b[0mfp\u001b[0m\u001b[0;34m.\u001b[0m\u001b[0mendswith\u001b[0m\u001b[0;34m(\u001b[0m\u001b[0;34m'jpg'\u001b[0m\u001b[0;34m)\u001b[0m\u001b[0;34m:\u001b[0m\u001b[0;34m\u001b[0m\u001b[0m\n\u001b[1;32m    656\u001b[0m         \u001b[0mdata\u001b[0m \u001b[0;34m=\u001b[0m \u001b[0mimread\u001b[0m\u001b[0;34m(\u001b[0m\u001b[0mfp\u001b[0m\u001b[0;34m)\u001b[0m\u001b[0;34m\u001b[0m\u001b[0m\n",
      "\u001b[0;32m/oasis/projects/nsf/csd395/yuncong/brain_virtualenv/lib/python2.7/site-packages/bloscpack/numpy_io.pyc\u001b[0m in \u001b[0;36munpack_ndarray_file\u001b[0;34m(filename)\u001b[0m\n\u001b[1;32m    240\u001b[0m \u001b[0;34m\u001b[0m\u001b[0m\n\u001b[1;32m    241\u001b[0m \u001b[0;32mdef\u001b[0m \u001b[0munpack_ndarray_file\u001b[0m\u001b[0;34m(\u001b[0m\u001b[0mfilename\u001b[0m\u001b[0;34m)\u001b[0m\u001b[0;34m:\u001b[0m\u001b[0;34m\u001b[0m\u001b[0m\n\u001b[0;32m--> 242\u001b[0;31m     \u001b[0msource\u001b[0m \u001b[0;34m=\u001b[0m \u001b[0mCompressedFPSource\u001b[0m\u001b[0;34m(\u001b[0m\u001b[0mopen\u001b[0m\u001b[0;34m(\u001b[0m\u001b[0mfilename\u001b[0m\u001b[0;34m,\u001b[0m \u001b[0;34m'rb'\u001b[0m\u001b[0;34m)\u001b[0m\u001b[0;34m)\u001b[0m\u001b[0;34m\u001b[0m\u001b[0m\n\u001b[0m\u001b[1;32m    243\u001b[0m     \u001b[0;32mreturn\u001b[0m \u001b[0munpack_ndarray\u001b[0m\u001b[0;34m(\u001b[0m\u001b[0msource\u001b[0m\u001b[0;34m)\u001b[0m\u001b[0;34m\u001b[0m\u001b[0m\n\u001b[1;32m    244\u001b[0m \u001b[0;34m\u001b[0m\u001b[0m\n",
      "\u001b[0;31mIOError\u001b[0m: [Errno 2] No such file or directory: '/home/yuncong/csd395/CSHL_cells_v2/detected_cells/MD603/MD603-N11-2016.03.02-12.51.47_MD603_1_0031/MD603-N11-2016.03.02-12.51.47_MD603_1_0031_cells_aligned_mirrored_padded.bp'"
     ]
    }
   ],
   "source": [
    "# for stack in all_nissl_stacks:\n",
    "for stack in ['MD595',\n",
    " 'MD598',\n",
    " 'MD599',\n",
    " 'MD602',\n",
    " 'MD603']:\n",
    "\n",
    "    first_section, last_section = metadata_cache['section_limits'][stack]\n",
    "    \n",
    "    bar = show_progress_bar(first_section, last_section+1)\n",
    "\n",
    "    # for sec in [200, 201]:\n",
    "    for sec in range(first_section, last_section+1):\n",
    "\n",
    "        if is_invalid(stack=stack, sec=sec):\n",
    "            continue\n",
    "\n",
    "        bar.value = sec\n",
    "\n",
    "        cells_aligned_padded = load_cell_data(what='cells_aligned_mirrored_padded', stack=stack, sec=sec, ext='bp')\n",
    "\n",
    "        n_cells = cells_aligned_padded.shape[0]\n",
    "        print 'Extract %d cells from section %d.' % (n_cells, sec)\n",
    "\n",
    "        cell_sizes = np.reshape(cells_aligned_padded, (n_cells, -1)).sum(axis=1)\n",
    "\n",
    "        cell_sizes_fp = get_cell_data_filepath('cellSizes', stack=stack, sec=sec, ext='bp')\n",
    "        bp.pack_ndarray_file(cell_sizes, cell_sizes_fp)\n",
    "\n",
    "        large_cell_indices = np.where(cell_sizes > cell_size_thresh)[0]\n",
    "        print 'Got %s large cells.' % len(large_cell_indices)\n",
    "\n",
    "        large_cell_indices_fp = get_cell_data_filepath('largeCellIndices', stack=stack, sec=sec, ext='bp')\n",
    "        bp.pack_ndarray_file(large_cell_indices, large_cell_indices_fp)\n",
    "\n",
    "        def compute_hu_moments(i):\n",
    "            b = cells_aligned_padded[i].astype(np.uint8)\n",
    "            m = moments(b, order=1)\n",
    "            hu = moments_hu(moments_normalized(moments_central(b, cc=m[0,1]/m[0,0], cr=m[1,0]/m[0,0])))    \n",
    "            return hu\n",
    "\n",
    "        t = time.time()\n",
    "\n",
    "    # Using parallel sometimes causes stall. Not much faster than sequential anyway.\n",
    "    #     pool = Pool(8)\n",
    "    #     large_cell_hu_moments = np.array(pool.map(compute_hu_moments, large_cell_indices))\n",
    "    #     pool.close()\n",
    "    #     pool.join()\n",
    "\n",
    "        large_cell_hu_moments = np.array([compute_hu_moments(i) for i in large_cell_indices])\n",
    "\n",
    "        sys.stderr.write('Compute hu moments: %.2f seconds.\\n' % (time.time()-t)) # 1.5-3s\n",
    "\n",
    "        cell_orientations = load_cell_data(what='blobOrientations', stack=stack, sec=sec, ext='bp')\n",
    "        cell_mirrors = load_cell_data(what='cells_aligned_mirrorDirections', stack=stack, sec=sec, ext='bp')\n",
    "\n",
    "        large_cell_features = np.c_[cell_orientations[large_cell_indices],\n",
    "                                         cell_mirrors[large_cell_indices],\n",
    "                                         cell_sizes[large_cell_indices], \n",
    "                                         large_cell_hu_moments]\n",
    "\n",
    "        large_cell_features_fp = get_cell_data_filepath('largeCellFeatures', stack=stack, sec=sec, ext='bp')\n",
    "        bp.pack_ndarray_file(large_cell_features, large_cell_features_fp)"
   ]
  },
  {
   "cell_type": "code",
   "execution_count": null,
   "metadata": {
    "collapsed": true
   },
   "outputs": [],
   "source": []
  }
 ],
 "metadata": {
  "kernelspec": {
   "display_name": "Python 2",
   "language": "python",
   "name": "python2"
  },
  "language_info": {
   "codemirror_mode": {
    "name": "ipython",
    "version": 2
   },
   "file_extension": ".py",
   "mimetype": "text/x-python",
   "name": "python",
   "nbconvert_exporter": "python",
   "pygments_lexer": "ipython2",
   "version": "2.7.3"
  },
  "widgets": {
   "state": {
    "1e99bee6129e478a9a1a37aa6862ed8c": {
     "views": [
      {
       "cell_index": 2
      }
     ]
    },
    "a21fe9c7400748c4877d0af44ee35481": {
     "views": [
      {
       "cell_index": 2
      }
     ]
    },
    "bb74dd1fb1504098a8b6b000a4085ed9": {
     "views": [
      {
       "cell_index": 2
      }
     ]
    },
    "ee0c686d4d7a4788b2090fa76ca98b2a": {
     "views": [
      {
       "cell_index": 2
      }
     ]
    }
   },
   "version": "1.2.0"
  }
 },
 "nbformat": 4,
 "nbformat_minor": 1
}
