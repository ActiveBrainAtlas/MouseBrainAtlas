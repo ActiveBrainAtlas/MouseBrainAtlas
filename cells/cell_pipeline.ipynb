{
 "cells": [
  {
   "cell_type": "code",
   "execution_count": 1,
   "metadata": {
    "scrolled": true
   },
   "outputs": [
    {
     "name": "stdout",
     "output_type": "stream",
     "text": [
      "Setting environment for AWS compute node\n"
     ]
    },
    {
     "name": "stderr",
     "output_type": "stream",
     "text": [
      "No vtk\n",
      "Child returned 0\n"
     ]
    },
    {
     "name": "stdout",
     "output_type": "stream",
     "text": [
      "rm -rf /shared/CSHL_data_processed/MD635/MD635_alignedTo_MD635-F63-2016.05.19-08.39.03_MD635_2_0188_cropbox.txt && mkdir -p /shared/CSHL_data_processed/MD635\n",
      "aws s3 cp s3://mousebrainatlas-data/CSHL_data_processed/MD635/MD635_alignedTo_MD635-F63-2016.05.19-08.39.03_MD635_2_0188_cropbox.txt /shared/CSHL_data_processed/MD635/MD635_alignedTo_MD635-F63-2016.05.19-08.39.03_MD635_2_0188_cropbox.txt\n"
     ]
    },
    {
     "name": "stderr",
     "output_type": "stream",
     "text": [
      "Child returned 1\n",
      "0.38 seconds.\n",
      "File does not exist: /shared/CSHL_data_processed/MD635/MD635_alignedTo_MD635-F63-2016.05.19-08.39.03_MD635_2_0188_cropbox.txt\n",
      "Child returned 0\n"
     ]
    },
    {
     "name": "stdout",
     "output_type": "stream",
     "text": [
      "rm -rf /shared/CSHL_data_processed/MD635/MD635_alignedTo_MD635-F63-2016.05.19-08.39.03_MD635_2_0188_cropbox.txt && mkdir -p /shared/CSHL_data_processed/MD635\n",
      "aws s3 cp s3://mousebrainatlas-data/CSHL_data_processed/MD635/MD635_alignedTo_MD635-F63-2016.05.19-08.39.03_MD635_2_0188_cropbox.txt /shared/CSHL_data_processed/MD635/MD635_alignedTo_MD635-F63-2016.05.19-08.39.03_MD635_2_0188_cropbox.txt\n"
     ]
    },
    {
     "name": "stderr",
     "output_type": "stream",
     "text": [
      "Child returned 1\n",
      "0.36 seconds.\n",
      "File does not exist: /shared/CSHL_data_processed/MD635/MD635_alignedTo_MD635-F63-2016.05.19-08.39.03_MD635_2_0188_cropbox.txt\n"
     ]
    }
   ],
   "source": [
    "%load_ext autoreload\n",
    "%autoreload 2\n",
    "\n",
    "import os\n",
    "import time\n",
    "import sys\n",
    "\n",
    "sys.path.append(os.path.join(os.environ['REPO_DIR'], 'utilities'))\n",
    "from utilities2015 import *\n",
    "from metadata import *\n",
    "from data_manager import *\n",
    "from distributed_utilities import *\n",
    "from preprocess_utilities import *\n",
    "from cell_utilities import *"
   ]
  },
  {
   "cell_type": "code",
   "execution_count": 2,
   "metadata": {
    "collapsed": true
   },
   "outputs": [],
   "source": [
    "# run_distributed(command='sudo apt-get install -y \\\n",
    "#   build-essential \\\n",
    "#   cython \\\n",
    "#   libmysqlclient-dev \\\n",
    "#   libhdf5-dev \\\n",
    "#   libxml2-dev \\\n",
    "#   libxslt1-dev \\\n",
    "#   openjdk-8-jdk \\\n",
    "#   python-dev \\\n",
    "#     python-h5py \\\n",
    "#     python-mysqldb \\\n",
    "#     python-vigra \\\n",
    "#   python-wxgtk3.0 \\\n",
    "#   python-zmq',\n",
    "#                     argument_type='single',\n",
    "#                    cluster_size=16)\n",
    "\n",
    "# wait_qsub_complete()\n"
   ]
  },
  {
   "cell_type": "code",
   "execution_count": 3,
   "metadata": {
    "collapsed": true
   },
   "outputs": [],
   "source": [
    "# run_distributed(command='cd /shared/CellProfiler/; sudo pip install --editable .',\n",
    "#                     argument_type='single',\n",
    "#                    cluster_size=16)\n",
    "\n",
    "# wait_qsub_complete()"
   ]
  },
  {
   "cell_type": "code",
   "execution_count": 4,
   "metadata": {
    "collapsed": true
   },
   "outputs": [],
   "source": [
    "download_from_s3(CELLPROFILER_PIPELINE_FP)"
   ]
  },
  {
   "cell_type": "markdown",
   "metadata": {},
   "source": [
    "# Whole pipeline"
   ]
  },
  {
   "cell_type": "code",
   "execution_count": 13,
   "metadata": {
    "scrolled": true
   },
   "outputs": [
    {
     "name": "stderr",
     "output_type": "stream",
     "text": [
      "Detect cells using Cell Profiler ...Child returned 0\n",
      "16 nodes requested, 16 nodes available...Continuing\n"
     ]
    },
    {
     "name": "stdout",
     "output_type": "stream",
     "text": [
      "rm -f ~/stderr_*; rm -f ~/stdout_*\n"
     ]
    },
    {
     "name": "stderr",
     "output_type": "stream",
     "text": [
      "Jobs submitted. Use wait_qsub_complete() to check if they finish.\n",
      "qsub returned.\n",
      "Child returned 0\n",
      "16 nodes requested, 16 nodes available...Continuing\n"
     ]
    },
    {
     "name": "stdout",
     "output_type": "stream",
     "text": [
      "rm -f ~/stderr_*; rm -f ~/stdout_*\n"
     ]
    },
    {
     "name": "stderr",
     "output_type": "stream",
     "text": [
      "Jobs submitted. Use wait_qsub_complete() to check if they finish.\n",
      "qsub returned.\n",
      "done in 1122.817226 seconds\n",
      "Detect cells ...Child returned 0\n",
      "16 nodes requested, 16 nodes available...Continuing\n"
     ]
    },
    {
     "name": "stdout",
     "output_type": "stream",
     "text": [
      "rm -f ~/stderr_*; rm -f ~/stdout_*\n"
     ]
    },
    {
     "name": "stderr",
     "output_type": "stream",
     "text": [
      "Jobs submitted. Use wait_qsub_complete() to check if they finish.\n",
      "qsub returned.\n",
      "Child returned 0\n",
      "16 nodes requested, 16 nodes available...Continuing\n"
     ]
    },
    {
     "name": "stdout",
     "output_type": "stream",
     "text": [
      "rm -f ~/stderr_*; rm -f ~/stdout_*\n"
     ]
    },
    {
     "name": "stderr",
     "output_type": "stream",
     "text": [
      "Jobs submitted. Use wait_qsub_complete() to check if they finish.\n",
      "qsub returned.\n",
      "done in 589.686618 seconds\n",
      "Detect cells using Cell Profiler ...Child returned 0\n",
      "16 nodes requested, 16 nodes available...Continuing\n"
     ]
    },
    {
     "name": "stdout",
     "output_type": "stream",
     "text": [
      "rm -f ~/stderr_*; rm -f ~/stdout_*\n"
     ]
    },
    {
     "name": "stderr",
     "output_type": "stream",
     "text": [
      "Jobs submitted. Use wait_qsub_complete() to check if they finish.\n",
      "qsub returned.\n",
      "Child returned 0\n",
      "16 nodes requested, 16 nodes available...Continuing\n"
     ]
    },
    {
     "name": "stdout",
     "output_type": "stream",
     "text": [
      "rm -f ~/stderr_*; rm -f ~/stdout_*\n"
     ]
    },
    {
     "name": "stderr",
     "output_type": "stream",
     "text": [
      "Jobs submitted. Use wait_qsub_complete() to check if they finish.\n",
      "qsub returned.\n",
      "done in 1263.511496 seconds\n",
      "Detect cells ...Child returned 0\n",
      "16 nodes requested, 16 nodes available...Continuing\n"
     ]
    },
    {
     "name": "stdout",
     "output_type": "stream",
     "text": [
      "rm -f ~/stderr_*; rm -f ~/stdout_*\n"
     ]
    },
    {
     "name": "stderr",
     "output_type": "stream",
     "text": [
      "Jobs submitted. Use wait_qsub_complete() to check if they finish.\n",
      "qsub returned.\n",
      "Child returned 0\n",
      "16 nodes requested, 16 nodes available...Continuing\n"
     ]
    },
    {
     "name": "stdout",
     "output_type": "stream",
     "text": [
      "rm -f ~/stderr_*; rm -f ~/stdout_*\n"
     ]
    },
    {
     "name": "stderr",
     "output_type": "stream",
     "text": [
      "Jobs submitted. Use wait_qsub_complete() to check if they finish.\n",
      "qsub returned.\n",
      "done in 428.753305 seconds\n",
      "Detect cells using Cell Profiler ...Child returned 0\n",
      "16 nodes requested, 16 nodes available...Continuing\n"
     ]
    },
    {
     "name": "stdout",
     "output_type": "stream",
     "text": [
      "rm -f ~/stderr_*; rm -f ~/stdout_*\n"
     ]
    },
    {
     "name": "stderr",
     "output_type": "stream",
     "text": [
      "Jobs submitted. Use wait_qsub_complete() to check if they finish.\n",
      "qsub returned.\n",
      "Child returned 0\n",
      "16 nodes requested, 16 nodes available...Continuing\n"
     ]
    },
    {
     "name": "stdout",
     "output_type": "stream",
     "text": [
      "rm -f ~/stderr_*; rm -f ~/stdout_*\n"
     ]
    },
    {
     "name": "stderr",
     "output_type": "stream",
     "text": [
      "Jobs submitted. Use wait_qsub_complete() to check if they finish.\n",
      "qsub returned.\n",
      "done in 966.848311 seconds\n",
      "Detect cells ...Child returned 0\n",
      "16 nodes requested, 16 nodes available...Continuing\n"
     ]
    },
    {
     "name": "stdout",
     "output_type": "stream",
     "text": [
      "rm -f ~/stderr_*; rm -f ~/stdout_*\n"
     ]
    },
    {
     "name": "stderr",
     "output_type": "stream",
     "text": [
      "Jobs submitted. Use wait_qsub_complete() to check if they finish.\n",
      "qsub returned.\n",
      "Child returned 0\n",
      "16 nodes requested, 16 nodes available...Continuing\n"
     ]
    },
    {
     "name": "stdout",
     "output_type": "stream",
     "text": [
      "rm -f ~/stderr_*; rm -f ~/stdout_*\n"
     ]
    },
    {
     "name": "stderr",
     "output_type": "stream",
     "text": [
      "Jobs submitted. Use wait_qsub_complete() to check if they finish.\n",
      "qsub returned.\n",
      "done in 655.035222 seconds\n",
      "Detect cells using Cell Profiler ...Child returned 0\n",
      "16 nodes requested, 16 nodes available...Continuing\n"
     ]
    },
    {
     "name": "stdout",
     "output_type": "stream",
     "text": [
      "rm -f ~/stderr_*; rm -f ~/stdout_*\n"
     ]
    },
    {
     "name": "stderr",
     "output_type": "stream",
     "text": [
      "Jobs submitted. Use wait_qsub_complete() to check if they finish.\n",
      "qsub returned.\n",
      "Child returned 0\n",
      "16 nodes requested, 16 nodes available...Continuing\n"
     ]
    },
    {
     "name": "stdout",
     "output_type": "stream",
     "text": [
      "rm -f ~/stderr_*; rm -f ~/stdout_*\n"
     ]
    },
    {
     "name": "stderr",
     "output_type": "stream",
     "text": [
      "Jobs submitted. Use wait_qsub_complete() to check if they finish.\n",
      "qsub returned.\n",
      "done in 1374.120662 seconds\n",
      "Detect cells ...Child returned 0\n",
      "16 nodes requested, 16 nodes available...Continuing\n"
     ]
    },
    {
     "name": "stdout",
     "output_type": "stream",
     "text": [
      "rm -f ~/stderr_*; rm -f ~/stdout_*\n"
     ]
    },
    {
     "name": "stderr",
     "output_type": "stream",
     "text": [
      "Jobs submitted. Use wait_qsub_complete() to check if they finish.\n",
      "qsub returned.\n",
      "Child returned 0\n",
      "16 nodes requested, 16 nodes available...Continuing\n"
     ]
    },
    {
     "name": "stdout",
     "output_type": "stream",
     "text": [
      "rm -f ~/stderr_*; rm -f ~/stdout_*\n"
     ]
    },
    {
     "name": "stderr",
     "output_type": "stream",
     "text": [
      "Jobs submitted. Use wait_qsub_complete() to check if they finish.\n",
      "qsub returned.\n",
      "done in 639.973372 seconds\n",
      "Detect cells using Cell Profiler ...Child returned 0\n",
      "16 nodes requested, 16 nodes available...Continuing\n"
     ]
    },
    {
     "name": "stdout",
     "output_type": "stream",
     "text": [
      "rm -f ~/stderr_*; rm -f ~/stdout_*\n"
     ]
    },
    {
     "name": "stderr",
     "output_type": "stream",
     "text": [
      "Jobs submitted. Use wait_qsub_complete() to check if they finish.\n",
      "qsub returned.\n",
      "Child returned 0\n",
      "16 nodes requested, 16 nodes available...Continuing\n"
     ]
    },
    {
     "name": "stdout",
     "output_type": "stream",
     "text": [
      "rm -f ~/stderr_*; rm -f ~/stdout_*\n"
     ]
    },
    {
     "name": "stderr",
     "output_type": "stream",
     "text": [
      "Jobs submitted. Use wait_qsub_complete() to check if they finish.\n",
      "qsub returned.\n",
      "done in 1313.977659 seconds\n",
      "Detect cells ...Child returned 0\n",
      "16 nodes requested, 16 nodes available...Continuing\n"
     ]
    },
    {
     "name": "stdout",
     "output_type": "stream",
     "text": [
      "rm -f ~/stderr_*; rm -f ~/stdout_*\n"
     ]
    },
    {
     "name": "stderr",
     "output_type": "stream",
     "text": [
      "Jobs submitted. Use wait_qsub_complete() to check if they finish.\n",
      "qsub returned.\n",
      "Child returned 0\n",
      "16 nodes requested, 16 nodes available...Continuing\n"
     ]
    },
    {
     "name": "stdout",
     "output_type": "stream",
     "text": [
      "rm -f ~/stderr_*; rm -f ~/stdout_*\n"
     ]
    },
    {
     "name": "stderr",
     "output_type": "stream",
     "text": [
      "Jobs submitted. Use wait_qsub_complete() to check if they finish.\n",
      "qsub returned.\n",
      "done in 700.391786 seconds\n",
      "Detect cells using Cell Profiler ...Child returned 0\n",
      "16 nodes requested, 16 nodes available...Continuing\n"
     ]
    },
    {
     "name": "stdout",
     "output_type": "stream",
     "text": [
      "rm -f ~/stderr_*; rm -f ~/stdout_*\n"
     ]
    },
    {
     "name": "stderr",
     "output_type": "stream",
     "text": [
      "Jobs submitted. Use wait_qsub_complete() to check if they finish.\n",
      "qsub returned.\n",
      "Child returned 0\n",
      "16 nodes requested, 16 nodes available...Continuing\n"
     ]
    },
    {
     "name": "stdout",
     "output_type": "stream",
     "text": [
      "rm -f ~/stderr_*; rm -f ~/stdout_*\n"
     ]
    },
    {
     "name": "stderr",
     "output_type": "stream",
     "text": [
      "Jobs submitted. Use wait_qsub_complete() to check if they finish.\n",
      "qsub returned.\n",
      "done in 1313.930018 seconds\n",
      "Detect cells ...Child returned 0\n",
      "16 nodes requested, 16 nodes available...Continuing\n"
     ]
    },
    {
     "name": "stdout",
     "output_type": "stream",
     "text": [
      "rm -f ~/stderr_*; rm -f ~/stdout_*\n"
     ]
    },
    {
     "name": "stderr",
     "output_type": "stream",
     "text": [
      "Jobs submitted. Use wait_qsub_complete() to check if they finish.\n",
      "qsub returned.\n",
      "Child returned 0\n",
      "16 nodes requested, 16 nodes available...Continuing\n"
     ]
    },
    {
     "name": "stdout",
     "output_type": "stream",
     "text": [
      "rm -f ~/stderr_*; rm -f ~/stdout_*\n"
     ]
    },
    {
     "name": "stderr",
     "output_type": "stream",
     "text": [
      "Jobs submitted. Use wait_qsub_complete() to check if they finish.\n",
      "qsub returned.\n",
      "done in 574.660058 seconds\n",
      "Detect cells using Cell Profiler ...Child returned 0\n",
      "16 nodes requested, 16 nodes available...Continuing\n"
     ]
    },
    {
     "name": "stdout",
     "output_type": "stream",
     "text": [
      "rm -f ~/stderr_*; rm -f ~/stdout_*\n"
     ]
    },
    {
     "name": "stderr",
     "output_type": "stream",
     "text": [
      "Jobs submitted. Use wait_qsub_complete() to check if they finish.\n",
      "qsub returned.\n",
      "Child returned 0\n",
      "16 nodes requested, 16 nodes available...Continuing\n"
     ]
    },
    {
     "name": "stdout",
     "output_type": "stream",
     "text": [
      "rm -f ~/stderr_*; rm -f ~/stdout_*\n"
     ]
    },
    {
     "name": "stderr",
     "output_type": "stream",
     "text": [
      "Jobs submitted. Use wait_qsub_complete() to check if they finish.\n",
      "qsub returned.\n",
      "done in 1218.407765 seconds\n",
      "Detect cells ...Child returned 0\n",
      "16 nodes requested, 16 nodes available...Continuing\n"
     ]
    },
    {
     "name": "stdout",
     "output_type": "stream",
     "text": [
      "rm -f ~/stderr_*; rm -f ~/stdout_*\n"
     ]
    },
    {
     "name": "stderr",
     "output_type": "stream",
     "text": [
      "Jobs submitted. Use wait_qsub_complete() to check if they finish.\n",
      "qsub returned.\n",
      "Child returned 0\n",
      "16 nodes requested, 16 nodes available...Continuing\n"
     ]
    },
    {
     "name": "stdout",
     "output_type": "stream",
     "text": [
      "rm -f ~/stderr_*; rm -f ~/stdout_*\n"
     ]
    },
    {
     "name": "stderr",
     "output_type": "stream",
     "text": [
      "Jobs submitted. Use wait_qsub_complete() to check if they finish.\n",
      "qsub returned.\n",
      "done in 509.290112 seconds\n",
      "Detect cells using Cell Profiler ...Child returned 0\n",
      "16 nodes requested, 16 nodes available...Continuing\n"
     ]
    },
    {
     "name": "stdout",
     "output_type": "stream",
     "text": [
      "rm -f ~/stderr_*; rm -f ~/stdout_*\n"
     ]
    },
    {
     "name": "stderr",
     "output_type": "stream",
     "text": [
      "Jobs submitted. Use wait_qsub_complete() to check if they finish.\n",
      "qsub returned.\n",
      "Child returned 0\n",
      "16 nodes requested, 16 nodes available...Continuing\n"
     ]
    },
    {
     "name": "stdout",
     "output_type": "stream",
     "text": [
      "rm -f ~/stderr_*; rm -f ~/stdout_*\n"
     ]
    },
    {
     "name": "stderr",
     "output_type": "stream",
     "text": [
      "Jobs submitted. Use wait_qsub_complete() to check if they finish.\n",
      "qsub returned.\n",
      "done in 1283.788293 seconds\n",
      "Detect cells ...Child returned 0\n",
      "16 nodes requested, 16 nodes available...Continuing\n"
     ]
    },
    {
     "name": "stdout",
     "output_type": "stream",
     "text": [
      "rm -f ~/stderr_*; rm -f ~/stdout_*\n"
     ]
    },
    {
     "name": "stderr",
     "output_type": "stream",
     "text": [
      "Jobs submitted. Use wait_qsub_complete() to check if they finish.\n",
      "qsub returned.\n",
      "Child returned 0\n",
      "16 nodes requested, 16 nodes available...Continuing\n"
     ]
    },
    {
     "name": "stdout",
     "output_type": "stream",
     "text": [
      "rm -f ~/stderr_*; rm -f ~/stdout_*\n"
     ]
    },
    {
     "name": "stderr",
     "output_type": "stream",
     "text": [
      "Jobs submitted. Use wait_qsub_complete() to check if they finish.\n",
      "qsub returned.\n",
      "done in 816.126658 seconds\n",
      "Detect cells using Cell Profiler ...Child returned 0\n",
      "16 nodes requested, 16 nodes available...Continuing\n"
     ]
    },
    {
     "name": "stdout",
     "output_type": "stream",
     "text": [
      "rm -f ~/stderr_*; rm -f ~/stdout_*\n"
     ]
    },
    {
     "name": "stderr",
     "output_type": "stream",
     "text": [
      "Jobs submitted. Use wait_qsub_complete() to check if they finish.\n",
      "qsub returned.\n",
      "Child returned 0\n",
      "16 nodes requested, 16 nodes available...Continuing\n"
     ]
    },
    {
     "name": "stdout",
     "output_type": "stream",
     "text": [
      "rm -f ~/stderr_*; rm -f ~/stdout_*\n"
     ]
    },
    {
     "name": "stderr",
     "output_type": "stream",
     "text": [
      "Jobs submitted. Use wait_qsub_complete() to check if they finish.\n",
      "qsub returned.\n",
      "done in 1384.395589 seconds\n",
      "Detect cells ...Child returned 0\n",
      "16 nodes requested, 16 nodes available...Continuing\n"
     ]
    },
    {
     "name": "stdout",
     "output_type": "stream",
     "text": [
      "rm -f ~/stderr_*; rm -f ~/stdout_*\n"
     ]
    },
    {
     "name": "stderr",
     "output_type": "stream",
     "text": [
      "Jobs submitted. Use wait_qsub_complete() to check if they finish.\n",
      "qsub returned.\n",
      "Child returned 0\n",
      "16 nodes requested, 16 nodes available...Continuing\n"
     ]
    },
    {
     "name": "stdout",
     "output_type": "stream",
     "text": [
      "rm -f ~/stderr_*; rm -f ~/stdout_*\n"
     ]
    },
    {
     "name": "stderr",
     "output_type": "stream",
     "text": [
      "Jobs submitted. Use wait_qsub_complete() to check if they finish.\n",
      "qsub returned.\n",
      "done in 645.160764 seconds\n",
      "Detect cells using Cell Profiler ...Child returned 0\n",
      "16 nodes requested, 16 nodes available...Continuing\n"
     ]
    },
    {
     "name": "stdout",
     "output_type": "stream",
     "text": [
      "rm -f ~/stderr_*; rm -f ~/stdout_*\n"
     ]
    },
    {
     "name": "stderr",
     "output_type": "stream",
     "text": [
      "Jobs submitted. Use wait_qsub_complete() to check if they finish.\n",
      "qsub returned.\n",
      "Child returned 0\n",
      "16 nodes requested, 16 nodes available...Continuing\n"
     ]
    },
    {
     "name": "stdout",
     "output_type": "stream",
     "text": [
      "rm -f ~/stderr_*; rm -f ~/stdout_*\n"
     ]
    },
    {
     "name": "stderr",
     "output_type": "stream",
     "text": [
      "Jobs submitted. Use wait_qsub_complete() to check if they finish.\n",
      "qsub returned.\n",
      "done in 1243.600130 seconds\n",
      "Detect cells ...Child returned 0\n",
      "16 nodes requested, 16 nodes available...Continuing\n"
     ]
    },
    {
     "name": "stdout",
     "output_type": "stream",
     "text": [
      "rm -f ~/stderr_*; rm -f ~/stdout_*\n"
     ]
    },
    {
     "name": "stderr",
     "output_type": "stream",
     "text": [
      "Jobs submitted. Use wait_qsub_complete() to check if they finish.\n",
      "qsub returned.\n",
      "Child returned 0\n",
      "16 nodes requested, 16 nodes available...Continuing\n"
     ]
    },
    {
     "name": "stdout",
     "output_type": "stream",
     "text": [
      "rm -f ~/stderr_*; rm -f ~/stdout_*\n"
     ]
    },
    {
     "name": "stderr",
     "output_type": "stream",
     "text": [
      "Jobs submitted. Use wait_qsub_complete() to check if they finish.\n",
      "qsub returned.\n",
      "done in 504.317807 seconds\n",
      "Detect cells using Cell Profiler ...Child returned 0\n",
      "16 nodes requested, 16 nodes available...Continuing\n"
     ]
    },
    {
     "name": "stdout",
     "output_type": "stream",
     "text": [
      "rm -f ~/stderr_*; rm -f ~/stdout_*\n"
     ]
    },
    {
     "name": "stderr",
     "output_type": "stream",
     "text": [
      "Jobs submitted. Use wait_qsub_complete() to check if they finish.\n",
      "qsub returned.\n",
      "Child returned 0\n",
      "16 nodes requested, 16 nodes available...Continuing\n"
     ]
    },
    {
     "name": "stdout",
     "output_type": "stream",
     "text": [
      "rm -f ~/stderr_*; rm -f ~/stdout_*\n"
     ]
    },
    {
     "name": "stderr",
     "output_type": "stream",
     "text": [
      "Jobs submitted. Use wait_qsub_complete() to check if they finish.\n",
      "qsub returned.\n",
      "done in 1434.718510 seconds\n",
      "Detect cells ...Child returned 0\n",
      "16 nodes requested, 16 nodes available...Continuing\n"
     ]
    },
    {
     "name": "stdout",
     "output_type": "stream",
     "text": [
      "rm -f ~/stderr_*; rm -f ~/stdout_*\n"
     ]
    },
    {
     "name": "stderr",
     "output_type": "stream",
     "text": [
      "Jobs submitted. Use wait_qsub_complete() to check if they finish.\n",
      "qsub returned.\n",
      "Child returned 0\n",
      "16 nodes requested, 16 nodes available...Continuing\n"
     ]
    },
    {
     "name": "stdout",
     "output_type": "stream",
     "text": [
      "rm -f ~/stderr_*; rm -f ~/stdout_*\n"
     ]
    },
    {
     "name": "stderr",
     "output_type": "stream",
     "text": [
      "Jobs submitted. Use wait_qsub_complete() to check if they finish.\n",
      "qsub returned.\n",
      "done in 690.414803 seconds\n",
      "Detect cells using Cell Profiler ...Child returned 0\n",
      "16 nodes requested, 16 nodes available...Continuing\n"
     ]
    },
    {
     "name": "stdout",
     "output_type": "stream",
     "text": [
      "rm -f ~/stderr_*; rm -f ~/stdout_*\n"
     ]
    },
    {
     "name": "stderr",
     "output_type": "stream",
     "text": [
      "Jobs submitted. Use wait_qsub_complete() to check if they finish.\n",
      "qsub returned.\n",
      "Child returned 0\n",
      "16 nodes requested, 16 nodes available...Continuing\n"
     ]
    },
    {
     "name": "stdout",
     "output_type": "stream",
     "text": [
      "rm -f ~/stderr_*; rm -f ~/stdout_*\n"
     ]
    },
    {
     "name": "stderr",
     "output_type": "stream",
     "text": [
      "Jobs submitted. Use wait_qsub_complete() to check if they finish.\n",
      "qsub returned.\n",
      "done in 1429.613490 seconds\n",
      "Detect cells ...Child returned 0\n",
      "16 nodes requested, 16 nodes available...Continuing\n"
     ]
    },
    {
     "name": "stdout",
     "output_type": "stream",
     "text": [
      "rm -f ~/stderr_*; rm -f ~/stdout_*\n"
     ]
    },
    {
     "name": "stderr",
     "output_type": "stream",
     "text": [
      "Jobs submitted. Use wait_qsub_complete() to check if they finish.\n",
      "qsub returned.\n",
      "Child returned 0\n",
      "16 nodes requested, 16 nodes available...Continuing\n"
     ]
    },
    {
     "name": "stdout",
     "output_type": "stream",
     "text": [
      "rm -f ~/stderr_*; rm -f ~/stdout_*\n"
     ]
    },
    {
     "name": "stderr",
     "output_type": "stream",
     "text": [
      "Jobs submitted. Use wait_qsub_complete() to check if they finish.\n",
      "qsub returned.\n",
      "done in 544.575458 seconds\n"
     ]
    }
   ],
   "source": [
    "for stack in all_nissl_stacks:\n",
    "# for stack in ['MD589']:\n",
    "    \n",
    "    _, sections_to_filenames = DataManager.load_sorted_filenames(stack=stack)\n",
    "    valid_filenames = [fn for fn in sections_to_filenames.values() if not is_invalid(fn=fn)]\n",
    "\n",
    "    _, _, _, _, first_sec, last_sec = DataManager.load_cropbox(stack=stack)\n",
    "    first_fn = sections_to_filenames[first_sec]\n",
    "    last_fn = sections_to_filenames[last_sec]\n",
    "    first_idx_among_valid = valid_filenames.index(first_fn)\n",
    "    last_idx_among_valid = valid_filenames.index(last_fn)\n",
    "    \n",
    "    # Detect cells.\n",
    "    \n",
    "    t = time.time()\n",
    "    sys.stderr.write('Detect cells using Cell Profiler ...')\n",
    "    \n",
    "    \n",
    "    run_distributed(command='rm -r /scratch/*',\n",
    "                        argument_type='single',\n",
    "                       cluster_size=16)\n",
    "    wait_qsub_complete()\n",
    "\n",
    "    script_fp = os.path.join(REPO_DIR, 'cells', 'detect_cells_cellprofiler_v2.py')\n",
    "    \n",
    "    run_distributed(command='ROOT_DIR=/scratch/ %(script_path)s %(stack)s \\'%%(filenames)s\\''%\\\n",
    "                        {'script_path': script_fp, \n",
    "                        'stack': stack},\n",
    "                        kwargs_list={'filenames': valid_filenames[first_idx_among_valid:last_idx_among_valid+1]},\n",
    "                        argument_type='list2',\n",
    "                       cluster_size=16)\n",
    "\n",
    "    wait_qsub_complete()\n",
    "\n",
    "    sys.stderr.write('done in %f seconds\\n' % (time.time() - t)) # 1300 sec / stack\n",
    "\n",
    "    # Generate derived data.\n",
    "\n",
    "    t = time.time()\n",
    "    sys.stderr.write('Detect cells ...')\n",
    "    \n",
    "    run_distributed(command='rm -r /scratch/*',\n",
    "                        argument_type='single',\n",
    "                       cluster_size=16)\n",
    "    wait_qsub_complete()\n",
    "\n",
    "    script_fp = os.path.join(REPO_DIR, 'cells', 'derive_cell_information.py')\n",
    "    \n",
    "    run_distributed(command='ROOT_DIR=/scratch/ %(script_path)s %(stack)s \\'%%(filenames)s\\''%\\\n",
    "                        {'script_path': script_fp, \n",
    "                        'stack': stack},\n",
    "                        kwargs_list={'filenames': valid_filenames[first_idx_among_valid:last_idx_among_valid+1]},\n",
    "                        argument_type='list2',\n",
    "                       cluster_size=16)\n",
    "\n",
    "    wait_qsub_complete()\n",
    "\n",
    "    sys.stderr.write('done in %f seconds\\n' % (time.time() - t)) # 700 sec / stack"
   ]
  },
  {
   "cell_type": "markdown",
   "metadata": {},
   "source": [
    "# Step 1: Run cellprofiler"
   ]
  },
  {
   "cell_type": "code",
   "execution_count": null,
   "metadata": {
    "collapsed": true
   },
   "outputs": [],
   "source": [
    "script_fp = os.path.join(REPO_DIR, 'cells', 'detect_cells_cellprofiler_v2.py')"
   ]
  },
  {
   "cell_type": "code",
   "execution_count": null,
   "metadata": {
    "collapsed": true
   },
   "outputs": [],
   "source": [
    "for stack in all_nissl_stacks:\n",
    "# for stack in ['MD585']:\n",
    "    \n",
    "    _, sections_to_filenames = DataManager.load_sorted_filenames(stack=stack)\n",
    "    valid_filenames = [fn for fn in sections_to_filenames.values() if not is_invalid(fn=fn)]\n",
    "\n",
    "    _, _, _, _, first_sec, last_sec = DataManager.load_cropbox(stack=stack)\n",
    "    first_fn = sections_to_filenames[first_sec]\n",
    "    last_fn = sections_to_filenames[last_sec]\n",
    "    first_idx_among_valid = valid_filenames.index(first_fn)\n",
    "    last_idx_among_valid = valid_filenames.index(last_fn)\n",
    "    \n",
    "    \n",
    "    run_distributed(command='rm -r /scratch/*',\n",
    "                        argument_type='single',\n",
    "                       cluster_size=16)\n",
    "    wait_qsub_complete()\n",
    "    \n",
    "    \n",
    "    t = time.time()\n",
    "    sys.stderr.write('Detect cells using Cell Profiler ...')\n",
    "\n",
    "    run_distributed(command='ROOT_DIR=/scratch/ %(script_path)s %(stack)s \\'%%(filenames)s\\''%\\\n",
    "                        {'script_path': script_fp, \n",
    "                        'stack': stack},\n",
    "                        kwargs_list={'filenames': valid_filenames[first_idx_among_valid:last_idx_among_valid+1]},\n",
    "                        argument_type='list2',\n",
    "                       cluster_size=16)\n",
    "\n",
    "    wait_qsub_complete()\n",
    "\n",
    "    sys.stderr.write('done in %f seconds\\n' % (time.time() - t)) \n",
    "    # 16 or 32 or 64 sections, 420 seconds\n",
    "    # 128, 568\n",
    "    # all 1300 seconds."
   ]
  },
  {
   "cell_type": "markdown",
   "metadata": {},
   "source": [
    "# Step 2: Generate derived data for "
   ]
  },
  {
   "cell_type": "code",
   "execution_count": 8,
   "metadata": {
    "collapsed": true
   },
   "outputs": [],
   "source": [
    "script_fp = os.path.join(REPO_DIR, 'cells', 'derive_cell_information.py')"
   ]
  },
  {
   "cell_type": "code",
   "execution_count": 12,
   "metadata": {},
   "outputs": [
    {
     "name": "stderr",
     "output_type": "stream",
     "text": [
      "Detect cells ...Child returned 0\n",
      "16 nodes requested, 16 nodes available...Continuing\n"
     ]
    },
    {
     "name": "stdout",
     "output_type": "stream",
     "text": [
      "rm -f ~/stderr_*; rm -f ~/stdout_*\n"
     ]
    },
    {
     "name": "stderr",
     "output_type": "stream",
     "text": [
      "Jobs submitted. Use wait_qsub_complete() to check if they finish.\n",
      "qsub returned.\n",
      "done in 689.528857 seconds\n"
     ]
    }
   ],
   "source": [
    "# for stack in all_nissl_stacks:\n",
    "for stack in ['MD589']:\n",
    "    \n",
    "    _, sections_to_filenames = DataManager.load_sorted_filenames(stack=stack)\n",
    "    valid_filenames = [fn for fn in sections_to_filenames.values() if not is_invalid(fn=fn)]\n",
    "\n",
    "    _, _, _, _, first_sec, last_sec = DataManager.load_cropbox(stack=stack)\n",
    "    first_fn = sections_to_filenames[first_sec]\n",
    "    last_fn = sections_to_filenames[last_sec]\n",
    "    first_idx_among_valid = valid_filenames.index(first_fn)\n",
    "    last_idx_among_valid = valid_filenames.index(last_fn)\n",
    "    \n",
    "    \n",
    "    run_distributed(command='rm -r /scratch/*',\n",
    "                        argument_type='single',\n",
    "                       cluster_size=16)\n",
    "    wait_qsub_complete()\n",
    "    \n",
    "    t = time.time()\n",
    "    sys.stderr.write('Detect cells ...')\n",
    "\n",
    "    run_distributed(command='ROOT_DIR=/scratch/ %(script_path)s %(stack)s \\'%%(filenames)s\\''%\\\n",
    "                        {'script_path': script_fp, \n",
    "                        'stack': stack},\n",
    "                        kwargs_list={'filenames': valid_filenames[first_idx_among_valid:last_idx_among_valid+1]},\n",
    "                        argument_type='list2',\n",
    "                       cluster_size=16)\n",
    "\n",
    "    wait_qsub_complete()\n",
    "\n",
    "    sys.stderr.write('done in %f seconds\\n' % (time.time() - t)) # 271 sec / stack"
   ]
  },
  {
   "cell_type": "code",
   "execution_count": 5,
   "metadata": {},
   "outputs": [
    {
     "name": "stdout",
     "output_type": "stream",
     "text": [
      "MD585-N16-2015.07.16-20.32.33_MD585_2_0047\n",
      "move: s3://mousebrainatlas-data/CSHL_cells_v2/detected_cells/MD585/MD585-N16-2015.07.16-20.32.33_MD585_2_0047/MD585-N16-2015.07.16-20.32.33_MD585_2_0047_blobMaskCenters.hdf to s3://mousebrainatlas-data/CSHL_cells_v2/detected_cells/MD585/MD585-N16-2015.07.16-20.32.33_MD585_2_0047/MD585-N16-2015.07.16-20.32.33_MD585_2_0047_blobMaskCenters.bp\n",
      "MD585-IHC16-2015.08.19-13.14.51_MD585_3_0048\n",
      "move: s3://mousebrainatlas-data/CSHL_cells_v2/detected_cells/MD585/MD585-IHC16-2015.08.19-13.14.51_MD585_3_0048/MD585-IHC16-2015.08.19-13.14.51_MD585_3_0048_blobMaskCenters.hdf to s3://mousebrainatlas-data/CSHL_cells_v2/detected_cells/MD585/MD585-IHC16-2015.08.19-13.14.51_MD585_3_0048/MD585-IHC16-2015.08.19-13.14.51_MD585_3_0048_blobMaskCenters.bp\n",
      "MD585-N17-2015.07.16-20.35.23_MD585_1_0049\n",
      "move: s3://mousebrainatlas-data/CSHL_cells_v2/detected_cells/MD585/MD585-N17-2015.07.16-20.35.23_MD585_1_0049/MD585-N17-2015.07.16-20.35.23_MD585_1_0049_blobMaskCenters.hdf to s3://mousebrainatlas-data/CSHL_cells_v2/detected_cells/MD585/MD585-N17-2015.07.16-20.35.23_MD585_1_0049/MD585-N17-2015.07.16-20.35.23_MD585_1_0049_blobMaskCenters.bp\n",
      "MD585-IHC17-2015.07.16-15.32.03_MD585_1_0049\n",
      "move: s3://mousebrainatlas-data/CSHL_cells_v2/detected_cells/MD585/MD585-IHC17-2015.07.16-15.32.03_MD585_1_0049/MD585-IHC17-2015.07.16-15.32.03_MD585_1_0049_blobMaskCenters.hdf to s3://mousebrainatlas-data/CSHL_cells_v2/detected_cells/MD585/MD585-IHC17-2015.07.16-15.32.03_MD585_1_0049/MD585-IHC17-2015.07.16-15.32.03_MD585_1_0049_blobMaskCenters.bp\n",
      "MD585-N17-2015.07.16-20.35.23_MD585_2_0050\n",
      "move: s3://mousebrainatlas-data/CSHL_cells_v2/detected_cells/MD585/MD585-N17-2015.07.16-20.35.23_MD585_2_0050/MD585-N17-2015.07.16-20.35.23_MD585_2_0050_blobMaskCenters.hdf to s3://mousebrainatlas-data/CSHL_cells_v2/detected_cells/MD585/MD585-N17-2015.07.16-20.35.23_MD585_2_0050/MD585-N17-2015.07.16-20.35.23_MD585_2_0050_blobMaskCenters.bp\n",
      "MD585-IHC17-2015.07.16-15.32.03_MD585_2_0050\n",
      "move: s3://mousebrainatlas-data/CSHL_cells_v2/detected_cells/MD585/MD585-IHC17-2015.07.16-15.32.03_MD585_2_0050/MD585-IHC17-2015.07.16-15.32.03_MD585_2_0050_blobMaskCenters.hdf to s3://mousebrainatlas-data/CSHL_cells_v2/detected_cells/MD585/MD585-IHC17-2015.07.16-15.32.03_MD585_2_0050/MD585-IHC17-2015.07.16-15.32.03_MD585_2_0050_blobMaskCenters.bp\n",
      "MD585-N17-2015.07.16-20.35.23_MD585_3_0051\n",
      "move: s3://mousebrainatlas-data/CSHL_cells_v2/detected_cells/MD585/MD585-N17-2015.07.16-20.35.23_MD585_3_0051/MD585-N17-2015.07.16-20.35.23_MD585_3_0051_blobMaskCenters.hdf to s3://mousebrainatlas-data/CSHL_cells_v2/detected_cells/MD585/MD585-N17-2015.07.16-20.35.23_MD585_3_0051/MD585-N17-2015.07.16-20.35.23_MD585_3_0051_blobMaskCenters.bp\n",
      "MD585-IHC17-2015.07.16-15.32.03_MD585_3_0051\n",
      "move: s3://mousebrainatlas-data/CSHL_cells_v2/detected_cells/MD585/MD585-IHC17-2015.07.16-15.32.03_MD585_3_0051/MD585-IHC17-2015.07.16-15.32.03_MD585_3_0051_blobMaskCenters.hdf to s3://mousebrainatlas-data/CSHL_cells_v2/detected_cells/MD585/MD585-IHC17-2015.07.16-15.32.03_MD585_3_0051/MD585-IHC17-2015.07.16-15.32.03_MD585_3_0051_blobMaskCenters.bp\n",
      "MD585-N18-2015.07.16-20.39.16_MD585_1_0052\n",
      "move: s3://mousebrainatlas-data/CSHL_cells_v2/detected_cells/MD585/MD585-N18-2015.07.16-20.39.16_MD585_1_0052/MD585-N18-2015.07.16-20.39.16_MD585_1_0052_blobMaskCenters.hdf to s3://mousebrainatlas-data/CSHL_cells_v2/detected_cells/MD585/MD585-N18-2015.07.16-20.39.16_MD585_1_0052/MD585-N18-2015.07.16-20.39.16_MD585_1_0052_blobMaskCenters.bp\n",
      "MD585-IHC18-2015.07.16-15.35.58_MD585_1_0052\n",
      "move: s3://mousebrainatlas-data/CSHL_cells_v2/detected_cells/MD585/MD585-IHC18-2015.07.16-15.35.58_MD585_1_0052/MD585-IHC18-2015.07.16-15.35.58_MD585_1_0052_blobMaskCenters.hdf to s3://mousebrainatlas-data/CSHL_cells_v2/detected_cells/MD585/MD585-IHC18-2015.07.16-15.35.58_MD585_1_0052/MD585-IHC18-2015.07.16-15.35.58_MD585_1_0052_blobMaskCenters.bp\n",
      "MD585-N18-2015.07.16-20.39.16_MD585_2_0053\n",
      "move: s3://mousebrainatlas-data/CSHL_cells_v2/detected_cells/MD585/MD585-N18-2015.07.16-20.39.16_MD585_2_0053/MD585-N18-2015.07.16-20.39.16_MD585_2_0053_blobMaskCenters.hdf to s3://mousebrainatlas-data/CSHL_cells_v2/detected_cells/MD585/MD585-N18-2015.07.16-20.39.16_MD585_2_0053/MD585-N18-2015.07.16-20.39.16_MD585_2_0053_blobMaskCenters.bp\n",
      "MD585-IHC18-2015.07.16-15.35.58_MD585_2_0053\n",
      "move: s3://mousebrainatlas-data/CSHL_cells_v2/detected_cells/MD585/MD585-IHC18-2015.07.16-15.35.58_MD585_2_0053/MD585-IHC18-2015.07.16-15.35.58_MD585_2_0053_blobMaskCenters.hdf to s3://mousebrainatlas-data/CSHL_cells_v2/detected_cells/MD585/MD585-IHC18-2015.07.16-15.35.58_MD585_2_0053/MD585-IHC18-2015.07.16-15.35.58_MD585_2_0053_blobMaskCenters.bp\n",
      "MD585-N18-2015.07.16-20.39.16_MD585_3_0054\n",
      "move: s3://mousebrainatlas-data/CSHL_cells_v2/detected_cells/MD585/MD585-N18-2015.07.16-20.39.16_MD585_3_0054/MD585-N18-2015.07.16-20.39.16_MD585_3_0054_blobMaskCenters.hdf to s3://mousebrainatlas-data/CSHL_cells_v2/detected_cells/MD585/MD585-N18-2015.07.16-20.39.16_MD585_3_0054/MD585-N18-2015.07.16-20.39.16_MD585_3_0054_blobMaskCenters.bp\n",
      "MD585-IHC18-2015.07.16-15.35.58_MD585_3_0054\n",
      "move: s3://mousebrainatlas-data/CSHL_cells_v2/detected_cells/MD585/MD585-IHC18-2015.07.16-15.35.58_MD585_3_0054/MD585-IHC18-2015.07.16-15.35.58_MD585_3_0054_blobMaskCenters.hdf to s3://mousebrainatlas-data/CSHL_cells_v2/detected_cells/MD585/MD585-IHC18-2015.07.16-15.35.58_MD585_3_0054/MD585-IHC18-2015.07.16-15.35.58_MD585_3_0054_blobMaskCenters.bp\n",
      "MD585-N19-2015.07.16-20.43.18_MD585_1_0055\n",
      "move: s3://mousebrainatlas-data/CSHL_cells_v2/detected_cells/MD585/MD585-N19-2015.07.16-20.43.18_MD585_1_0055/MD585-N19-2015.07.16-20.43.18_MD585_1_0055_blobMaskCenters.hdf to s3://mousebrainatlas-data/CSHL_cells_v2/detected_cells/MD585/MD585-N19-2015.07.16-20.43.18_MD585_1_0055/MD585-N19-2015.07.16-20.43.18_MD585_1_0055_blobMaskCenters.bp\n",
      "MD585-IHC19-2015.07.16-15.39.52_MD585_1_0055\n",
      "move: s3://mousebrainatlas-data/CSHL_cells_v2/detected_cells/MD585/MD585-IHC19-2015.07.16-15.39.52_MD585_1_0055/MD585-IHC19-2015.07.16-15.39.52_MD585_1_0055_blobMaskCenters.hdf to s3://mousebrainatlas-data/CSHL_cells_v2/detected_cells/MD585/MD585-IHC19-2015.07.16-15.39.52_MD585_1_0055/MD585-IHC19-2015.07.16-15.39.52_MD585_1_0055_blobMaskCenters.bp\n",
      "MD585-N19-2015.07.16-20.43.18_MD585_2_0056\n",
      "move: s3://mousebrainatlas-data/CSHL_cells_v2/detected_cells/MD585/MD585-N19-2015.07.16-20.43.18_MD585_2_0056/MD585-N19-2015.07.16-20.43.18_MD585_2_0056_blobMaskCenters.hdf to s3://mousebrainatlas-data/CSHL_cells_v2/detected_cells/MD585/MD585-N19-2015.07.16-20.43.18_MD585_2_0056/MD585-N19-2015.07.16-20.43.18_MD585_2_0056_blobMaskCenters.bp\n",
      "MD585-IHC19-2015.07.16-15.39.52_MD585_2_0056\n",
      "move: s3://mousebrainatlas-data/CSHL_cells_v2/detected_cells/MD585/MD585-IHC19-2015.07.16-15.39.52_MD585_2_0056/MD585-IHC19-2015.07.16-15.39.52_MD585_2_0056_blobMaskCenters.hdf to s3://mousebrainatlas-data/CSHL_cells_v2/detected_cells/MD585/MD585-IHC19-2015.07.16-15.39.52_MD585_2_0056/MD585-IHC19-2015.07.16-15.39.52_MD585_2_0056_blobMaskCenters.bp\n",
      "MD585-N19-2015.07.16-20.43.18_MD585_3_0057\n",
      "move: s3://mousebrainatlas-data/CSHL_cells_v2/detected_cells/MD585/MD585-N19-2015.07.16-20.43.18_MD585_3_0057/MD585-N19-2015.07.16-20.43.18_MD585_3_0057_blobMaskCenters.hdf to s3://mousebrainatlas-data/CSHL_cells_v2/detected_cells/MD585/MD585-N19-2015.07.16-20.43.18_MD585_3_0057/MD585-N19-2015.07.16-20.43.18_MD585_3_0057_blobMaskCenters.bp\n",
      "MD585-IHC19-2015.07.16-15.39.52_MD585_3_0057\n",
      "move: s3://mousebrainatlas-data/CSHL_cells_v2/detected_cells/MD585/MD585-IHC19-2015.07.16-15.39.52_MD585_3_0057/MD585-IHC19-2015.07.16-15.39.52_MD585_3_0057_blobMaskCenters.hdf to s3://mousebrainatlas-data/CSHL_cells_v2/detected_cells/MD585/MD585-IHC19-2015.07.16-15.39.52_MD585_3_0057/MD585-IHC19-2015.07.16-15.39.52_MD585_3_0057_blobMaskCenters.bp\n",
      "MD585-N20-2015.07.16-20.47.19_MD585_1_0058\n",
      "move: s3://mousebrainatlas-data/CSHL_cells_v2/detected_cells/MD585/MD585-N20-2015.07.16-20.47.19_MD585_1_0058/MD585-N20-2015.07.16-20.47.19_MD585_1_0058_blobMaskCenters.hdf to s3://mousebrainatlas-data/CSHL_cells_v2/detected_cells/MD585/MD585-N20-2015.07.16-20.47.19_MD585_1_0058/MD585-N20-2015.07.16-20.47.19_MD585_1_0058_blobMaskCenters.bp\n",
      "MD585-IHC20-2015.07.16-15.43.53_MD585_1_0058\n"
     ]
    },
    {
     "name": "stdout",
     "output_type": "stream",
     "text": [
      "move: s3://mousebrainatlas-data/CSHL_cells_v2/detected_cells/MD585/MD585-IHC20-2015.07.16-15.43.53_MD585_1_0058/MD585-IHC20-2015.07.16-15.43.53_MD585_1_0058_blobMaskCenters.hdf to s3://mousebrainatlas-data/CSHL_cells_v2/detected_cells/MD585/MD585-IHC20-2015.07.16-15.43.53_MD585_1_0058/MD585-IHC20-2015.07.16-15.43.53_MD585_1_0058_blobMaskCenters.bp\n",
      "MD585-N20-2015.07.16-20.47.19_MD585_2_0059\n",
      "move: s3://mousebrainatlas-data/CSHL_cells_v2/detected_cells/MD585/MD585-N20-2015.07.16-20.47.19_MD585_2_0059/MD585-N20-2015.07.16-20.47.19_MD585_2_0059_blobMaskCenters.hdf to s3://mousebrainatlas-data/CSHL_cells_v2/detected_cells/MD585/MD585-N20-2015.07.16-20.47.19_MD585_2_0059/MD585-N20-2015.07.16-20.47.19_MD585_2_0059_blobMaskCenters.bp\n",
      "MD585-IHC20-2015.07.16-15.43.53_MD585_2_0059\n",
      "move: s3://mousebrainatlas-data/CSHL_cells_v2/detected_cells/MD585/MD585-IHC20-2015.07.16-15.43.53_MD585_2_0059/MD585-IHC20-2015.07.16-15.43.53_MD585_2_0059_blobMaskCenters.hdf to s3://mousebrainatlas-data/CSHL_cells_v2/detected_cells/MD585/MD585-IHC20-2015.07.16-15.43.53_MD585_2_0059/MD585-IHC20-2015.07.16-15.43.53_MD585_2_0059_blobMaskCenters.bp\n",
      "MD585-N20-2015.07.16-20.47.19_MD585_3_0060\n",
      "move: s3://mousebrainatlas-data/CSHL_cells_v2/detected_cells/MD585/MD585-N20-2015.07.16-20.47.19_MD585_3_0060/MD585-N20-2015.07.16-20.47.19_MD585_3_0060_blobMaskCenters.hdf to s3://mousebrainatlas-data/CSHL_cells_v2/detected_cells/MD585/MD585-N20-2015.07.16-20.47.19_MD585_3_0060/MD585-N20-2015.07.16-20.47.19_MD585_3_0060_blobMaskCenters.bp\n",
      "MD585-IHC20-2015.07.16-15.43.53_MD585_3_0060\n",
      "move: s3://mousebrainatlas-data/CSHL_cells_v2/detected_cells/MD585/MD585-IHC20-2015.07.16-15.43.53_MD585_3_0060/MD585-IHC20-2015.07.16-15.43.53_MD585_3_0060_blobMaskCenters.hdf to s3://mousebrainatlas-data/CSHL_cells_v2/detected_cells/MD585/MD585-IHC20-2015.07.16-15.43.53_MD585_3_0060/MD585-IHC20-2015.07.16-15.43.53_MD585_3_0060_blobMaskCenters.bp\n",
      "MD585-N21-2015.07.18-07.06.33_MD585_1_0061\n",
      "move: s3://mousebrainatlas-data/CSHL_cells_v2/detected_cells/MD585/MD585-N21-2015.07.18-07.06.33_MD585_1_0061/MD585-N21-2015.07.18-07.06.33_MD585_1_0061_blobMaskCenters.hdf to s3://mousebrainatlas-data/CSHL_cells_v2/detected_cells/MD585/MD585-N21-2015.07.18-07.06.33_MD585_1_0061/MD585-N21-2015.07.18-07.06.33_MD585_1_0061_blobMaskCenters.bp\n",
      "MD585-IHC21-2015.07.16-15.47.52_MD585_1_0061\n",
      "move: s3://mousebrainatlas-data/CSHL_cells_v2/detected_cells/MD585/MD585-IHC21-2015.07.16-15.47.52_MD585_1_0061/MD585-IHC21-2015.07.16-15.47.52_MD585_1_0061_blobMaskCenters.hdf to s3://mousebrainatlas-data/CSHL_cells_v2/detected_cells/MD585/MD585-IHC21-2015.07.16-15.47.52_MD585_1_0061/MD585-IHC21-2015.07.16-15.47.52_MD585_1_0061_blobMaskCenters.bp\n",
      "MD585-N21-2015.07.18-07.06.33_MD585_2_0062\n",
      "move: s3://mousebrainatlas-data/CSHL_cells_v2/detected_cells/MD585/MD585-N21-2015.07.18-07.06.33_MD585_2_0062/MD585-N21-2015.07.18-07.06.33_MD585_2_0062_blobMaskCenters.hdf to s3://mousebrainatlas-data/CSHL_cells_v2/detected_cells/MD585/MD585-N21-2015.07.18-07.06.33_MD585_2_0062/MD585-N21-2015.07.18-07.06.33_MD585_2_0062_blobMaskCenters.bp\n",
      "MD585-IHC21-2015.07.16-15.47.52_MD585_2_0062\n",
      "move: s3://mousebrainatlas-data/CSHL_cells_v2/detected_cells/MD585/MD585-IHC21-2015.07.16-15.47.52_MD585_2_0062/MD585-IHC21-2015.07.16-15.47.52_MD585_2_0062_blobMaskCenters.hdf to s3://mousebrainatlas-data/CSHL_cells_v2/detected_cells/MD585/MD585-IHC21-2015.07.16-15.47.52_MD585_2_0062/MD585-IHC21-2015.07.16-15.47.52_MD585_2_0062_blobMaskCenters.bp\n",
      "MD585-N21-2015.07.18-07.06.33_MD585_3_0063\n",
      "move: s3://mousebrainatlas-data/CSHL_cells_v2/detected_cells/MD585/MD585-N21-2015.07.18-07.06.33_MD585_3_0063/MD585-N21-2015.07.18-07.06.33_MD585_3_0063_blobMaskCenters.hdf to s3://mousebrainatlas-data/CSHL_cells_v2/detected_cells/MD585/MD585-N21-2015.07.18-07.06.33_MD585_3_0063/MD585-N21-2015.07.18-07.06.33_MD585_3_0063_blobMaskCenters.bp\n",
      "MD585-IHC21-2015.07.16-15.47.52_MD585_3_0063\n",
      "move: s3://mousebrainatlas-data/CSHL_cells_v2/detected_cells/MD585/MD585-IHC21-2015.07.16-15.47.52_MD585_3_0063/MD585-IHC21-2015.07.16-15.47.52_MD585_3_0063_blobMaskCenters.hdf to s3://mousebrainatlas-data/CSHL_cells_v2/detected_cells/MD585/MD585-IHC21-2015.07.16-15.47.52_MD585_3_0063/MD585-IHC21-2015.07.16-15.47.52_MD585_3_0063_blobMaskCenters.bp\n",
      "MD585-N22-2015.07.18-07.10.40_MD585_1_0064\n",
      "move: s3://mousebrainatlas-data/CSHL_cells_v2/detected_cells/MD585/MD585-N22-2015.07.18-07.10.40_MD585_1_0064/MD585-N22-2015.07.18-07.10.40_MD585_1_0064_blobMaskCenters.hdf to s3://mousebrainatlas-data/CSHL_cells_v2/detected_cells/MD585/MD585-N22-2015.07.18-07.10.40_MD585_1_0064/MD585-N22-2015.07.18-07.10.40_MD585_1_0064_blobMaskCenters.bp\n",
      "MD585-IHC22-2015.07.16-15.51.54_MD585_1_0064\n",
      "move: s3://mousebrainatlas-data/CSHL_cells_v2/detected_cells/MD585/MD585-IHC22-2015.07.16-15.51.54_MD585_1_0064/MD585-IHC22-2015.07.16-15.51.54_MD585_1_0064_blobMaskCenters.hdf to s3://mousebrainatlas-data/CSHL_cells_v2/detected_cells/MD585/MD585-IHC22-2015.07.16-15.51.54_MD585_1_0064/MD585-IHC22-2015.07.16-15.51.54_MD585_1_0064_blobMaskCenters.bp\n",
      "MD585-N22-2015.07.18-07.10.40_MD585_2_0065\n",
      "move: s3://mousebrainatlas-data/CSHL_cells_v2/detected_cells/MD585/MD585-N22-2015.07.18-07.10.40_MD585_2_0065/MD585-N22-2015.07.18-07.10.40_MD585_2_0065_blobMaskCenters.hdf to s3://mousebrainatlas-data/CSHL_cells_v2/detected_cells/MD585/MD585-N22-2015.07.18-07.10.40_MD585_2_0065/MD585-N22-2015.07.18-07.10.40_MD585_2_0065_blobMaskCenters.bp\n",
      "MD585-N22-2015.07.18-07.10.40_MD585_3_0066\n",
      "move: s3://mousebrainatlas-data/CSHL_cells_v2/detected_cells/MD585/MD585-N22-2015.07.18-07.10.40_MD585_3_0066/MD585-N22-2015.07.18-07.10.40_MD585_3_0066_blobMaskCenters.hdf to s3://mousebrainatlas-data/CSHL_cells_v2/detected_cells/MD585/MD585-N22-2015.07.18-07.10.40_MD585_3_0066/MD585-N22-2015.07.18-07.10.40_MD585_3_0066_blobMaskCenters.bp\n",
      "MD585-IHC22-2015.07.16-15.51.54_MD585_3_0066\n",
      "move: s3://mousebrainatlas-data/CSHL_cells_v2/detected_cells/MD585/MD585-IHC22-2015.07.16-15.51.54_MD585_3_0066/MD585-IHC22-2015.07.16-15.51.54_MD585_3_0066_blobMaskCenters.hdf to s3://mousebrainatlas-data/CSHL_cells_v2/detected_cells/MD585/MD585-IHC22-2015.07.16-15.51.54_MD585_3_0066/MD585-IHC22-2015.07.16-15.51.54_MD585_3_0066_blobMaskCenters.bp\n",
      "MD585-N23-2015.07.16-20.51.24_MD585_1_0067\n",
      "move: s3://mousebrainatlas-data/CSHL_cells_v2/detected_cells/MD585/MD585-N23-2015.07.16-20.51.24_MD585_1_0067/MD585-N23-2015.07.16-20.51.24_MD585_1_0067_blobMaskCenters.hdf to s3://mousebrainatlas-data/CSHL_cells_v2/detected_cells/MD585/MD585-N23-2015.07.16-20.51.24_MD585_1_0067/MD585-N23-2015.07.16-20.51.24_MD585_1_0067_blobMaskCenters.bp\n",
      "MD585-IHC23-2015.08.19-13.18.49_MD585_1_0067\n",
      "move: s3://mousebrainatlas-data/CSHL_cells_v2/detected_cells/MD585/MD585-IHC23-2015.08.19-13.18.49_MD585_1_0067/MD585-IHC23-2015.08.19-13.18.49_MD585_1_0067_blobMaskCenters.hdf to s3://mousebrainatlas-data/CSHL_cells_v2/detected_cells/MD585/MD585-IHC23-2015.08.19-13.18.49_MD585_1_0067/MD585-IHC23-2015.08.19-13.18.49_MD585_1_0067_blobMaskCenters.bp\n",
      "MD585-N23-2015.07.16-20.51.24_MD585_2_0068\n",
      "move: s3://mousebrainatlas-data/CSHL_cells_v2/detected_cells/MD585/MD585-N23-2015.07.16-20.51.24_MD585_2_0068/MD585-N23-2015.07.16-20.51.24_MD585_2_0068_blobMaskCenters.hdf to s3://mousebrainatlas-data/CSHL_cells_v2/detected_cells/MD585/MD585-N23-2015.07.16-20.51.24_MD585_2_0068/MD585-N23-2015.07.16-20.51.24_MD585_2_0068_blobMaskCenters.bp\n",
      "MD585-IHC23-2015.08.19-13.18.49_MD585_2_0068\n",
      "move: s3://mousebrainatlas-data/CSHL_cells_v2/detected_cells/MD585/MD585-IHC23-2015.08.19-13.18.49_MD585_2_0068/MD585-IHC23-2015.08.19-13.18.49_MD585_2_0068_blobMaskCenters.hdf to s3://mousebrainatlas-data/CSHL_cells_v2/detected_cells/MD585/MD585-IHC23-2015.08.19-13.18.49_MD585_2_0068/MD585-IHC23-2015.08.19-13.18.49_MD585_2_0068_blobMaskCenters.bp\n",
      "MD585-N23-2015.07.16-20.51.24_MD585_3_0069\n",
      "move: s3://mousebrainatlas-data/CSHL_cells_v2/detected_cells/MD585/MD585-N23-2015.07.16-20.51.24_MD585_3_0069/MD585-N23-2015.07.16-20.51.24_MD585_3_0069_blobMaskCenters.hdf to s3://mousebrainatlas-data/CSHL_cells_v2/detected_cells/MD585/MD585-N23-2015.07.16-20.51.24_MD585_3_0069/MD585-N23-2015.07.16-20.51.24_MD585_3_0069_blobMaskCenters.bp\n",
      "MD585-IHC23-2015.08.19-13.18.49_MD585_3_0069\n",
      "move: s3://mousebrainatlas-data/CSHL_cells_v2/detected_cells/MD585/MD585-IHC23-2015.08.19-13.18.49_MD585_3_0069/MD585-IHC23-2015.08.19-13.18.49_MD585_3_0069_blobMaskCenters.hdf to s3://mousebrainatlas-data/CSHL_cells_v2/detected_cells/MD585/MD585-IHC23-2015.08.19-13.18.49_MD585_3_0069/MD585-IHC23-2015.08.19-13.18.49_MD585_3_0069_blobMaskCenters.bp\n"
     ]
    },
    {
     "name": "stdout",
     "output_type": "stream",
     "text": [
      "MD585-N24-2015.08.19-15.29.12_MD585_1_0070\n",
      "move: s3://mousebrainatlas-data/CSHL_cells_v2/detected_cells/MD585/MD585-N24-2015.08.19-15.29.12_MD585_1_0070/MD585-N24-2015.08.19-15.29.12_MD585_1_0070_blobMaskCenters.hdf to s3://mousebrainatlas-data/CSHL_cells_v2/detected_cells/MD585/MD585-N24-2015.08.19-15.29.12_MD585_1_0070/MD585-N24-2015.08.19-15.29.12_MD585_1_0070_blobMaskCenters.bp\n",
      "MD585-IHC24-2015.07.18-07.14.51_MD585_1_0070\n",
      "move: s3://mousebrainatlas-data/CSHL_cells_v2/detected_cells/MD585/MD585-IHC24-2015.07.18-07.14.51_MD585_1_0070/MD585-IHC24-2015.07.18-07.14.51_MD585_1_0070_blobMaskCenters.hdf to s3://mousebrainatlas-data/CSHL_cells_v2/detected_cells/MD585/MD585-IHC24-2015.07.18-07.14.51_MD585_1_0070/MD585-IHC24-2015.07.18-07.14.51_MD585_1_0070_blobMaskCenters.bp\n",
      "MD585-N24-2015.08.19-15.29.12_MD585_2_0071\n",
      "move: s3://mousebrainatlas-data/CSHL_cells_v2/detected_cells/MD585/MD585-N24-2015.08.19-15.29.12_MD585_2_0071/MD585-N24-2015.08.19-15.29.12_MD585_2_0071_blobMaskCenters.hdf to s3://mousebrainatlas-data/CSHL_cells_v2/detected_cells/MD585/MD585-N24-2015.08.19-15.29.12_MD585_2_0071/MD585-N24-2015.08.19-15.29.12_MD585_2_0071_blobMaskCenters.bp\n",
      "MD585-IHC24-2015.07.18-07.14.51_MD585_2_0071\n",
      "move: s3://mousebrainatlas-data/CSHL_cells_v2/detected_cells/MD585/MD585-IHC24-2015.07.18-07.14.51_MD585_2_0071/MD585-IHC24-2015.07.18-07.14.51_MD585_2_0071_blobMaskCenters.hdf to s3://mousebrainatlas-data/CSHL_cells_v2/detected_cells/MD585/MD585-IHC24-2015.07.18-07.14.51_MD585_2_0071/MD585-IHC24-2015.07.18-07.14.51_MD585_2_0071_blobMaskCenters.bp\n",
      "MD585-N24-2015.08.19-15.29.12_MD585_3_0072\n",
      "move: s3://mousebrainatlas-data/CSHL_cells_v2/detected_cells/MD585/MD585-N24-2015.08.19-15.29.12_MD585_3_0072/MD585-N24-2015.08.19-15.29.12_MD585_3_0072_blobMaskCenters.hdf to s3://mousebrainatlas-data/CSHL_cells_v2/detected_cells/MD585/MD585-N24-2015.08.19-15.29.12_MD585_3_0072/MD585-N24-2015.08.19-15.29.12_MD585_3_0072_blobMaskCenters.bp\n",
      "MD585-IHC24-2015.07.18-07.14.51_MD585_3_0072\n",
      "move: s3://mousebrainatlas-data/CSHL_cells_v2/detected_cells/MD585/MD585-IHC24-2015.07.18-07.14.51_MD585_3_0072/MD585-IHC24-2015.07.18-07.14.51_MD585_3_0072_blobMaskCenters.hdf to s3://mousebrainatlas-data/CSHL_cells_v2/detected_cells/MD585/MD585-IHC24-2015.07.18-07.14.51_MD585_3_0072/MD585-IHC24-2015.07.18-07.14.51_MD585_3_0072_blobMaskCenters.bp\n",
      "MD585-N25-2015.08.19-15.33.31_MD585_1_0073\n",
      "move: s3://mousebrainatlas-data/CSHL_cells_v2/detected_cells/MD585/MD585-N25-2015.08.19-15.33.31_MD585_1_0073/MD585-N25-2015.08.19-15.33.31_MD585_1_0073_blobMaskCenters.hdf to s3://mousebrainatlas-data/CSHL_cells_v2/detected_cells/MD585/MD585-N25-2015.08.19-15.33.31_MD585_1_0073/MD585-N25-2015.08.19-15.33.31_MD585_1_0073_blobMaskCenters.bp\n",
      "MD585-IHC25-2015.07.18-07.19.12_MD585_1_0073\n",
      "move: s3://mousebrainatlas-data/CSHL_cells_v2/detected_cells/MD585/MD585-IHC25-2015.07.18-07.19.12_MD585_1_0073/MD585-IHC25-2015.07.18-07.19.12_MD585_1_0073_blobMaskCenters.hdf to s3://mousebrainatlas-data/CSHL_cells_v2/detected_cells/MD585/MD585-IHC25-2015.07.18-07.19.12_MD585_1_0073/MD585-IHC25-2015.07.18-07.19.12_MD585_1_0073_blobMaskCenters.bp\n",
      "MD585-N25-2015.08.19-15.33.31_MD585_2_0074\n",
      "move: s3://mousebrainatlas-data/CSHL_cells_v2/detected_cells/MD585/MD585-N25-2015.08.19-15.33.31_MD585_2_0074/MD585-N25-2015.08.19-15.33.31_MD585_2_0074_blobMaskCenters.hdf to s3://mousebrainatlas-data/CSHL_cells_v2/detected_cells/MD585/MD585-N25-2015.08.19-15.33.31_MD585_2_0074/MD585-N25-2015.08.19-15.33.31_MD585_2_0074_blobMaskCenters.bp\n",
      "MD585-IHC25-2015.07.18-07.19.12_MD585_2_0074\n",
      "move: s3://mousebrainatlas-data/CSHL_cells_v2/detected_cells/MD585/MD585-IHC25-2015.07.18-07.19.12_MD585_2_0074/MD585-IHC25-2015.07.18-07.19.12_MD585_2_0074_blobMaskCenters.hdf to s3://mousebrainatlas-data/CSHL_cells_v2/detected_cells/MD585/MD585-IHC25-2015.07.18-07.19.12_MD585_2_0074/MD585-IHC25-2015.07.18-07.19.12_MD585_2_0074_blobMaskCenters.bp\n",
      "MD585-N25-2015.08.19-15.33.31_MD585_3_0075\n",
      "move: s3://mousebrainatlas-data/CSHL_cells_v2/detected_cells/MD585/MD585-N25-2015.08.19-15.33.31_MD585_3_0075/MD585-N25-2015.08.19-15.33.31_MD585_3_0075_blobMaskCenters.hdf to s3://mousebrainatlas-data/CSHL_cells_v2/detected_cells/MD585/MD585-N25-2015.08.19-15.33.31_MD585_3_0075/MD585-N25-2015.08.19-15.33.31_MD585_3_0075_blobMaskCenters.bp\n",
      "MD585-IHC25-2015.07.18-07.19.12_MD585_3_0075\n",
      "move: s3://mousebrainatlas-data/CSHL_cells_v2/detected_cells/MD585/MD585-IHC25-2015.07.18-07.19.12_MD585_3_0075/MD585-IHC25-2015.07.18-07.19.12_MD585_3_0075_blobMaskCenters.hdf to s3://mousebrainatlas-data/CSHL_cells_v2/detected_cells/MD585/MD585-IHC25-2015.07.18-07.19.12_MD585_3_0075/MD585-IHC25-2015.07.18-07.19.12_MD585_3_0075_blobMaskCenters.bp\n",
      "MD585-N26-2015.08.19-15.37.53_MD585_1_0076\n",
      "move: s3://mousebrainatlas-data/CSHL_cells_v2/detected_cells/MD585/MD585-N26-2015.08.19-15.37.53_MD585_1_0076/MD585-N26-2015.08.19-15.37.53_MD585_1_0076_blobMaskCenters.hdf to s3://mousebrainatlas-data/CSHL_cells_v2/detected_cells/MD585/MD585-N26-2015.08.19-15.37.53_MD585_1_0076/MD585-N26-2015.08.19-15.37.53_MD585_1_0076_blobMaskCenters.bp\n",
      "MD585-IHC26-2015.08.19-13.23.15_MD585_1_0076\n",
      "move: s3://mousebrainatlas-data/CSHL_cells_v2/detected_cells/MD585/MD585-IHC26-2015.08.19-13.23.15_MD585_1_0076/MD585-IHC26-2015.08.19-13.23.15_MD585_1_0076_blobMaskCenters.hdf to s3://mousebrainatlas-data/CSHL_cells_v2/detected_cells/MD585/MD585-IHC26-2015.08.19-13.23.15_MD585_1_0076/MD585-IHC26-2015.08.19-13.23.15_MD585_1_0076_blobMaskCenters.bp\n",
      "MD585-N26-2015.08.19-15.37.53_MD585_2_0077\n",
      "move: s3://mousebrainatlas-data/CSHL_cells_v2/detected_cells/MD585/MD585-N26-2015.08.19-15.37.53_MD585_2_0077/MD585-N26-2015.08.19-15.37.53_MD585_2_0077_blobMaskCenters.hdf to s3://mousebrainatlas-data/CSHL_cells_v2/detected_cells/MD585/MD585-N26-2015.08.19-15.37.53_MD585_2_0077/MD585-N26-2015.08.19-15.37.53_MD585_2_0077_blobMaskCenters.bp\n",
      "MD585-IHC26-2015.08.19-13.23.15_MD585_2_0077\n",
      "move: s3://mousebrainatlas-data/CSHL_cells_v2/detected_cells/MD585/MD585-IHC26-2015.08.19-13.23.15_MD585_2_0077/MD585-IHC26-2015.08.19-13.23.15_MD585_2_0077_blobMaskCenters.hdf to s3://mousebrainatlas-data/CSHL_cells_v2/detected_cells/MD585/MD585-IHC26-2015.08.19-13.23.15_MD585_2_0077/MD585-IHC26-2015.08.19-13.23.15_MD585_2_0077_blobMaskCenters.bp\n",
      "MD585-N26-2015.08.19-15.37.53_MD585_3_0078\n",
      "move: s3://mousebrainatlas-data/CSHL_cells_v2/detected_cells/MD585/MD585-N26-2015.08.19-15.37.53_MD585_3_0078/MD585-N26-2015.08.19-15.37.53_MD585_3_0078_blobMaskCenters.hdf to s3://mousebrainatlas-data/CSHL_cells_v2/detected_cells/MD585/MD585-N26-2015.08.19-15.37.53_MD585_3_0078/MD585-N26-2015.08.19-15.37.53_MD585_3_0078_blobMaskCenters.bp\n",
      "MD585-IHC26-2015.08.19-13.23.15_MD585_3_0078\n",
      "move: s3://mousebrainatlas-data/CSHL_cells_v2/detected_cells/MD585/MD585-IHC26-2015.08.19-13.23.15_MD585_3_0078/MD585-IHC26-2015.08.19-13.23.15_MD585_3_0078_blobMaskCenters.hdf to s3://mousebrainatlas-data/CSHL_cells_v2/detected_cells/MD585/MD585-IHC26-2015.08.19-13.23.15_MD585_3_0078/MD585-IHC26-2015.08.19-13.23.15_MD585_3_0078_blobMaskCenters.bp\n",
      "MD585-N27-2015.08.19-15.42.30_MD585_1_0079\n",
      "move: s3://mousebrainatlas-data/CSHL_cells_v2/detected_cells/MD585/MD585-N27-2015.08.19-15.42.30_MD585_1_0079/MD585-N27-2015.08.19-15.42.30_MD585_1_0079_blobMaskCenters.hdf to s3://mousebrainatlas-data/CSHL_cells_v2/detected_cells/MD585/MD585-N27-2015.08.19-15.42.30_MD585_1_0079/MD585-N27-2015.08.19-15.42.30_MD585_1_0079_blobMaskCenters.bp\n",
      "MD585-IHC27-2015.08.19-13.28.05_MD585_1_0079\n",
      "move: s3://mousebrainatlas-data/CSHL_cells_v2/detected_cells/MD585/MD585-IHC27-2015.08.19-13.28.05_MD585_1_0079/MD585-IHC27-2015.08.19-13.28.05_MD585_1_0079_blobMaskCenters.hdf to s3://mousebrainatlas-data/CSHL_cells_v2/detected_cells/MD585/MD585-IHC27-2015.08.19-13.28.05_MD585_1_0079/MD585-IHC27-2015.08.19-13.28.05_MD585_1_0079_blobMaskCenters.bp\n",
      "MD585-N27-2015.08.19-15.42.30_MD585_2_0080\n",
      "move: s3://mousebrainatlas-data/CSHL_cells_v2/detected_cells/MD585/MD585-N27-2015.08.19-15.42.30_MD585_2_0080/MD585-N27-2015.08.19-15.42.30_MD585_2_0080_blobMaskCenters.hdf to s3://mousebrainatlas-data/CSHL_cells_v2/detected_cells/MD585/MD585-N27-2015.08.19-15.42.30_MD585_2_0080/MD585-N27-2015.08.19-15.42.30_MD585_2_0080_blobMaskCenters.bp\n",
      "MD585-IHC27-2015.08.19-13.28.05_MD585_2_0080\n"
     ]
    },
    {
     "name": "stdout",
     "output_type": "stream",
     "text": [
      "move: s3://mousebrainatlas-data/CSHL_cells_v2/detected_cells/MD585/MD585-IHC27-2015.08.19-13.28.05_MD585_2_0080/MD585-IHC27-2015.08.19-13.28.05_MD585_2_0080_blobMaskCenters.hdf to s3://mousebrainatlas-data/CSHL_cells_v2/detected_cells/MD585/MD585-IHC27-2015.08.19-13.28.05_MD585_2_0080/MD585-IHC27-2015.08.19-13.28.05_MD585_2_0080_blobMaskCenters.bp\n",
      "MD585-N27-2015.08.19-15.42.30_MD585_3_0081\n",
      "move: s3://mousebrainatlas-data/CSHL_cells_v2/detected_cells/MD585/MD585-N27-2015.08.19-15.42.30_MD585_3_0081/MD585-N27-2015.08.19-15.42.30_MD585_3_0081_blobMaskCenters.hdf to s3://mousebrainatlas-data/CSHL_cells_v2/detected_cells/MD585/MD585-N27-2015.08.19-15.42.30_MD585_3_0081/MD585-N27-2015.08.19-15.42.30_MD585_3_0081_blobMaskCenters.bp\n",
      "MD585-IHC27-2015.08.19-13.28.05_MD585_3_0081\n",
      "move: s3://mousebrainatlas-data/CSHL_cells_v2/detected_cells/MD585/MD585-IHC27-2015.08.19-13.28.05_MD585_3_0081/MD585-IHC27-2015.08.19-13.28.05_MD585_3_0081_blobMaskCenters.hdf to s3://mousebrainatlas-data/CSHL_cells_v2/detected_cells/MD585/MD585-IHC27-2015.08.19-13.28.05_MD585_3_0081/MD585-IHC27-2015.08.19-13.28.05_MD585_3_0081_blobMaskCenters.bp\n",
      "MD585-N28-2015.08.19-15.47.09_MD585_1_0082\n",
      "move: s3://mousebrainatlas-data/CSHL_cells_v2/detected_cells/MD585/MD585-N28-2015.08.19-15.47.09_MD585_1_0082/MD585-N28-2015.08.19-15.47.09_MD585_1_0082_blobMaskCenters.hdf to s3://mousebrainatlas-data/CSHL_cells_v2/detected_cells/MD585/MD585-N28-2015.08.19-15.47.09_MD585_1_0082/MD585-N28-2015.08.19-15.47.09_MD585_1_0082_blobMaskCenters.bp\n",
      "MD585-IHC28-2015.08.19-13.33.04_MD585_1_0082\n",
      "move: s3://mousebrainatlas-data/CSHL_cells_v2/detected_cells/MD585/MD585-IHC28-2015.08.19-13.33.04_MD585_1_0082/MD585-IHC28-2015.08.19-13.33.04_MD585_1_0082_blobMaskCenters.hdf to s3://mousebrainatlas-data/CSHL_cells_v2/detected_cells/MD585/MD585-IHC28-2015.08.19-13.33.04_MD585_1_0082/MD585-IHC28-2015.08.19-13.33.04_MD585_1_0082_blobMaskCenters.bp\n",
      "MD585-N28-2015.08.19-15.47.09_MD585_2_0083\n",
      "move: s3://mousebrainatlas-data/CSHL_cells_v2/detected_cells/MD585/MD585-N28-2015.08.19-15.47.09_MD585_2_0083/MD585-N28-2015.08.19-15.47.09_MD585_2_0083_blobMaskCenters.hdf to s3://mousebrainatlas-data/CSHL_cells_v2/detected_cells/MD585/MD585-N28-2015.08.19-15.47.09_MD585_2_0083/MD585-N28-2015.08.19-15.47.09_MD585_2_0083_blobMaskCenters.bp\n",
      "MD585-IHC28-2015.08.19-13.33.04_MD585_2_0083\n",
      "move: s3://mousebrainatlas-data/CSHL_cells_v2/detected_cells/MD585/MD585-IHC28-2015.08.19-13.33.04_MD585_2_0083/MD585-IHC28-2015.08.19-13.33.04_MD585_2_0083_blobMaskCenters.hdf to s3://mousebrainatlas-data/CSHL_cells_v2/detected_cells/MD585/MD585-IHC28-2015.08.19-13.33.04_MD585_2_0083/MD585-IHC28-2015.08.19-13.33.04_MD585_2_0083_blobMaskCenters.bp\n",
      "MD585-N28-2015.08.19-15.47.09_MD585_3_0084\n",
      "move: s3://mousebrainatlas-data/CSHL_cells_v2/detected_cells/MD585/MD585-N28-2015.08.19-15.47.09_MD585_3_0084/MD585-N28-2015.08.19-15.47.09_MD585_3_0084_blobMaskCenters.hdf to s3://mousebrainatlas-data/CSHL_cells_v2/detected_cells/MD585/MD585-N28-2015.08.19-15.47.09_MD585_3_0084/MD585-N28-2015.08.19-15.47.09_MD585_3_0084_blobMaskCenters.bp\n",
      "MD585-IHC28-2015.08.19-13.33.04_MD585_3_0084\n",
      "move: s3://mousebrainatlas-data/CSHL_cells_v2/detected_cells/MD585/MD585-IHC28-2015.08.19-13.33.04_MD585_3_0084/MD585-IHC28-2015.08.19-13.33.04_MD585_3_0084_blobMaskCenters.hdf to s3://mousebrainatlas-data/CSHL_cells_v2/detected_cells/MD585/MD585-IHC28-2015.08.19-13.33.04_MD585_3_0084/MD585-IHC28-2015.08.19-13.33.04_MD585_3_0084_blobMaskCenters.bp\n",
      "MD585-N29-2015.08.19-15.51.55_MD585_1_0085\n",
      "move: s3://mousebrainatlas-data/CSHL_cells_v2/detected_cells/MD585/MD585-N29-2015.08.19-15.51.55_MD585_1_0085/MD585-N29-2015.08.19-15.51.55_MD585_1_0085_blobMaskCenters.hdf to s3://mousebrainatlas-data/CSHL_cells_v2/detected_cells/MD585/MD585-N29-2015.08.19-15.51.55_MD585_1_0085/MD585-N29-2015.08.19-15.51.55_MD585_1_0085_blobMaskCenters.bp\n",
      "MD585-IHC29-2015.08.19-13.38.04_MD585_1_0085\n",
      "move: s3://mousebrainatlas-data/CSHL_cells_v2/detected_cells/MD585/MD585-IHC29-2015.08.19-13.38.04_MD585_1_0085/MD585-IHC29-2015.08.19-13.38.04_MD585_1_0085_blobMaskCenters.hdf to s3://mousebrainatlas-data/CSHL_cells_v2/detected_cells/MD585/MD585-IHC29-2015.08.19-13.38.04_MD585_1_0085/MD585-IHC29-2015.08.19-13.38.04_MD585_1_0085_blobMaskCenters.bp\n",
      "MD585-N29-2015.07.30-15.11.04_MD585_2_0086\n",
      "move: s3://mousebrainatlas-data/CSHL_cells_v2/detected_cells/MD585/MD585-N29-2015.07.30-15.11.04_MD585_2_0086/MD585-N29-2015.07.30-15.11.04_MD585_2_0086_blobMaskCenters.hdf to s3://mousebrainatlas-data/CSHL_cells_v2/detected_cells/MD585/MD585-N29-2015.07.30-15.11.04_MD585_2_0086/MD585-N29-2015.07.30-15.11.04_MD585_2_0086_blobMaskCenters.bp\n",
      "MD585-IHC29-2015.08.19-13.38.04_MD585_2_0086\n",
      "move: s3://mousebrainatlas-data/CSHL_cells_v2/detected_cells/MD585/MD585-IHC29-2015.08.19-13.38.04_MD585_2_0086/MD585-IHC29-2015.08.19-13.38.04_MD585_2_0086_blobMaskCenters.hdf to s3://mousebrainatlas-data/CSHL_cells_v2/detected_cells/MD585/MD585-IHC29-2015.08.19-13.38.04_MD585_2_0086/MD585-IHC29-2015.08.19-13.38.04_MD585_2_0086_blobMaskCenters.bp\n",
      "MD585-N29-2015.08.19-15.51.55_MD585_3_0087\n",
      "move: s3://mousebrainatlas-data/CSHL_cells_v2/detected_cells/MD585/MD585-N29-2015.08.19-15.51.55_MD585_3_0087/MD585-N29-2015.08.19-15.51.55_MD585_3_0087_blobMaskCenters.hdf to s3://mousebrainatlas-data/CSHL_cells_v2/detected_cells/MD585/MD585-N29-2015.08.19-15.51.55_MD585_3_0087/MD585-N29-2015.08.19-15.51.55_MD585_3_0087_blobMaskCenters.bp\n",
      "MD585-IHC29-2015.08.19-13.38.04_MD585_3_0087\n",
      "move: s3://mousebrainatlas-data/CSHL_cells_v2/detected_cells/MD585/MD585-IHC29-2015.08.19-13.38.04_MD585_3_0087/MD585-IHC29-2015.08.19-13.38.04_MD585_3_0087_blobMaskCenters.hdf to s3://mousebrainatlas-data/CSHL_cells_v2/detected_cells/MD585/MD585-IHC29-2015.08.19-13.38.04_MD585_3_0087/MD585-IHC29-2015.08.19-13.38.04_MD585_3_0087_blobMaskCenters.bp\n",
      "MD585-N30-2015.08.19-15.56.52_MD585_1_0088\n",
      "move: s3://mousebrainatlas-data/CSHL_cells_v2/detected_cells/MD585/MD585-N30-2015.08.19-15.56.52_MD585_1_0088/MD585-N30-2015.08.19-15.56.52_MD585_1_0088_blobMaskCenters.hdf to s3://mousebrainatlas-data/CSHL_cells_v2/detected_cells/MD585/MD585-N30-2015.08.19-15.56.52_MD585_1_0088/MD585-N30-2015.08.19-15.56.52_MD585_1_0088_blobMaskCenters.bp\n",
      "MD585-IHC30-2015.08.19-13.43.06_MD585_1_0088\n",
      "move: s3://mousebrainatlas-data/CSHL_cells_v2/detected_cells/MD585/MD585-IHC30-2015.08.19-13.43.06_MD585_1_0088/MD585-IHC30-2015.08.19-13.43.06_MD585_1_0088_blobMaskCenters.hdf to s3://mousebrainatlas-data/CSHL_cells_v2/detected_cells/MD585/MD585-IHC30-2015.08.19-13.43.06_MD585_1_0088/MD585-IHC30-2015.08.19-13.43.06_MD585_1_0088_blobMaskCenters.bp\n",
      "MD585-N30-2015.08.19-15.56.52_MD585_2_0089\n",
      "move: s3://mousebrainatlas-data/CSHL_cells_v2/detected_cells/MD585/MD585-N30-2015.08.19-15.56.52_MD585_2_0089/MD585-N30-2015.08.19-15.56.52_MD585_2_0089_blobMaskCenters.hdf to s3://mousebrainatlas-data/CSHL_cells_v2/detected_cells/MD585/MD585-N30-2015.08.19-15.56.52_MD585_2_0089/MD585-N30-2015.08.19-15.56.52_MD585_2_0089_blobMaskCenters.bp\n",
      "MD585-IHC30-2015.08.19-13.43.06_MD585_2_0089\n",
      "move: s3://mousebrainatlas-data/CSHL_cells_v2/detected_cells/MD585/MD585-IHC30-2015.08.19-13.43.06_MD585_2_0089/MD585-IHC30-2015.08.19-13.43.06_MD585_2_0089_blobMaskCenters.hdf to s3://mousebrainatlas-data/CSHL_cells_v2/detected_cells/MD585/MD585-IHC30-2015.08.19-13.43.06_MD585_2_0089/MD585-IHC30-2015.08.19-13.43.06_MD585_2_0089_blobMaskCenters.bp\n",
      "MD585-N30-2015.08.19-15.56.52_MD585_3_0090\n",
      "move: s3://mousebrainatlas-data/CSHL_cells_v2/detected_cells/MD585/MD585-N30-2015.08.19-15.56.52_MD585_3_0090/MD585-N30-2015.08.19-15.56.52_MD585_3_0090_blobMaskCenters.hdf to s3://mousebrainatlas-data/CSHL_cells_v2/detected_cells/MD585/MD585-N30-2015.08.19-15.56.52_MD585_3_0090/MD585-N30-2015.08.19-15.56.52_MD585_3_0090_blobMaskCenters.bp\n",
      "MD585-IHC30-2015.08.19-13.43.06_MD585_3_0090\n",
      "move: s3://mousebrainatlas-data/CSHL_cells_v2/detected_cells/MD585/MD585-IHC30-2015.08.19-13.43.06_MD585_3_0090/MD585-IHC30-2015.08.19-13.43.06_MD585_3_0090_blobMaskCenters.hdf to s3://mousebrainatlas-data/CSHL_cells_v2/detected_cells/MD585/MD585-IHC30-2015.08.19-13.43.06_MD585_3_0090/MD585-IHC30-2015.08.19-13.43.06_MD585_3_0090_blobMaskCenters.bp\n",
      "MD585-N31-2015.08.19-16.01.47_MD585_1_0091\n"
     ]
    },
    {
     "name": "stdout",
     "output_type": "stream",
     "text": [
      "move: s3://mousebrainatlas-data/CSHL_cells_v2/detected_cells/MD585/MD585-N31-2015.08.19-16.01.47_MD585_1_0091/MD585-N31-2015.08.19-16.01.47_MD585_1_0091_blobMaskCenters.hdf to s3://mousebrainatlas-data/CSHL_cells_v2/detected_cells/MD585/MD585-N31-2015.08.19-16.01.47_MD585_1_0091/MD585-N31-2015.08.19-16.01.47_MD585_1_0091_blobMaskCenters.bp\n",
      "MD585-IHC31-2015.08.19-13.48.12_MD585_1_0091\n",
      "move: s3://mousebrainatlas-data/CSHL_cells_v2/detected_cells/MD585/MD585-IHC31-2015.08.19-13.48.12_MD585_1_0091/MD585-IHC31-2015.08.19-13.48.12_MD585_1_0091_blobMaskCenters.hdf to s3://mousebrainatlas-data/CSHL_cells_v2/detected_cells/MD585/MD585-IHC31-2015.08.19-13.48.12_MD585_1_0091/MD585-IHC31-2015.08.19-13.48.12_MD585_1_0091_blobMaskCenters.bp\n",
      "MD585-N31-2015.08.19-16.01.47_MD585_2_0092\n",
      "move: s3://mousebrainatlas-data/CSHL_cells_v2/detected_cells/MD585/MD585-N31-2015.08.19-16.01.47_MD585_2_0092/MD585-N31-2015.08.19-16.01.47_MD585_2_0092_blobMaskCenters.hdf to s3://mousebrainatlas-data/CSHL_cells_v2/detected_cells/MD585/MD585-N31-2015.08.19-16.01.47_MD585_2_0092/MD585-N31-2015.08.19-16.01.47_MD585_2_0092_blobMaskCenters.bp\n",
      "MD585-IHC31-2015.08.19-13.48.12_MD585_2_0092\n",
      "move: s3://mousebrainatlas-data/CSHL_cells_v2/detected_cells/MD585/MD585-IHC31-2015.08.19-13.48.12_MD585_2_0092/MD585-IHC31-2015.08.19-13.48.12_MD585_2_0092_blobMaskCenters.hdf to s3://mousebrainatlas-data/CSHL_cells_v2/detected_cells/MD585/MD585-IHC31-2015.08.19-13.48.12_MD585_2_0092/MD585-IHC31-2015.08.19-13.48.12_MD585_2_0092_blobMaskCenters.bp\n",
      "MD585-N31-2015.08.19-16.01.47_MD585_3_0093\n",
      "move: s3://mousebrainatlas-data/CSHL_cells_v2/detected_cells/MD585/MD585-N31-2015.08.19-16.01.47_MD585_3_0093/MD585-N31-2015.08.19-16.01.47_MD585_3_0093_blobMaskCenters.hdf to s3://mousebrainatlas-data/CSHL_cells_v2/detected_cells/MD585/MD585-N31-2015.08.19-16.01.47_MD585_3_0093/MD585-N31-2015.08.19-16.01.47_MD585_3_0093_blobMaskCenters.bp\n",
      "MD585-IHC31-2015.08.19-13.48.12_MD585_3_0093\n",
      "move: s3://mousebrainatlas-data/CSHL_cells_v2/detected_cells/MD585/MD585-IHC31-2015.08.19-13.48.12_MD585_3_0093/MD585-IHC31-2015.08.19-13.48.12_MD585_3_0093_blobMaskCenters.hdf to s3://mousebrainatlas-data/CSHL_cells_v2/detected_cells/MD585/MD585-IHC31-2015.08.19-13.48.12_MD585_3_0093/MD585-IHC31-2015.08.19-13.48.12_MD585_3_0093_blobMaskCenters.bp\n",
      "MD585-N32-2015.08.19-16.07.10_MD585_1_0094\n",
      "move: s3://mousebrainatlas-data/CSHL_cells_v2/detected_cells/MD585/MD585-N32-2015.08.19-16.07.10_MD585_1_0094/MD585-N32-2015.08.19-16.07.10_MD585_1_0094_blobMaskCenters.hdf to s3://mousebrainatlas-data/CSHL_cells_v2/detected_cells/MD585/MD585-N32-2015.08.19-16.07.10_MD585_1_0094/MD585-N32-2015.08.19-16.07.10_MD585_1_0094_blobMaskCenters.bp\n",
      "MD585-IHC32-2015.08.19-13.53.29_MD585_1_0094\n",
      "move: s3://mousebrainatlas-data/CSHL_cells_v2/detected_cells/MD585/MD585-IHC32-2015.08.19-13.53.29_MD585_1_0094/MD585-IHC32-2015.08.19-13.53.29_MD585_1_0094_blobMaskCenters.hdf to s3://mousebrainatlas-data/CSHL_cells_v2/detected_cells/MD585/MD585-IHC32-2015.08.19-13.53.29_MD585_1_0094/MD585-IHC32-2015.08.19-13.53.29_MD585_1_0094_blobMaskCenters.bp\n",
      "MD585-N32-2015.08.19-16.07.10_MD585_2_0095\n",
      "move: s3://mousebrainatlas-data/CSHL_cells_v2/detected_cells/MD585/MD585-N32-2015.08.19-16.07.10_MD585_2_0095/MD585-N32-2015.08.19-16.07.10_MD585_2_0095_blobMaskCenters.hdf to s3://mousebrainatlas-data/CSHL_cells_v2/detected_cells/MD585/MD585-N32-2015.08.19-16.07.10_MD585_2_0095/MD585-N32-2015.08.19-16.07.10_MD585_2_0095_blobMaskCenters.bp\n",
      "MD585-IHC32-2015.08.19-13.53.29_MD585_2_0095\n",
      "move: s3://mousebrainatlas-data/CSHL_cells_v2/detected_cells/MD585/MD585-IHC32-2015.08.19-13.53.29_MD585_2_0095/MD585-IHC32-2015.08.19-13.53.29_MD585_2_0095_blobMaskCenters.hdf to s3://mousebrainatlas-data/CSHL_cells_v2/detected_cells/MD585/MD585-IHC32-2015.08.19-13.53.29_MD585_2_0095/MD585-IHC32-2015.08.19-13.53.29_MD585_2_0095_blobMaskCenters.bp\n",
      "MD585-N32-2015.08.19-16.07.10_MD585_3_0096\n",
      "move: s3://mousebrainatlas-data/CSHL_cells_v2/detected_cells/MD585/MD585-N32-2015.08.19-16.07.10_MD585_3_0096/MD585-N32-2015.08.19-16.07.10_MD585_3_0096_blobMaskCenters.hdf to s3://mousebrainatlas-data/CSHL_cells_v2/detected_cells/MD585/MD585-N32-2015.08.19-16.07.10_MD585_3_0096/MD585-N32-2015.08.19-16.07.10_MD585_3_0096_blobMaskCenters.bp\n",
      "MD585-IHC32-2015.08.19-13.53.29_MD585_3_0096\n",
      "move: s3://mousebrainatlas-data/CSHL_cells_v2/detected_cells/MD585/MD585-IHC32-2015.08.19-13.53.29_MD585_3_0096/MD585-IHC32-2015.08.19-13.53.29_MD585_3_0096_blobMaskCenters.hdf to s3://mousebrainatlas-data/CSHL_cells_v2/detected_cells/MD585/MD585-IHC32-2015.08.19-13.53.29_MD585_3_0096/MD585-IHC32-2015.08.19-13.53.29_MD585_3_0096_blobMaskCenters.bp\n",
      "MD585-N33-2015.07.16-21.37.52_MD585_1_0097\n",
      "move: s3://mousebrainatlas-data/CSHL_cells_v2/detected_cells/MD585/MD585-N33-2015.07.16-21.37.52_MD585_1_0097/MD585-N33-2015.07.16-21.37.52_MD585_1_0097_blobMaskCenters.hdf to s3://mousebrainatlas-data/CSHL_cells_v2/detected_cells/MD585/MD585-N33-2015.07.16-21.37.52_MD585_1_0097/MD585-N33-2015.07.16-21.37.52_MD585_1_0097_blobMaskCenters.bp\n",
      "MD585-IHC33-2015.07.16-16.33.07_MD585_1_0097\n",
      "move: s3://mousebrainatlas-data/CSHL_cells_v2/detected_cells/MD585/MD585-IHC33-2015.07.16-16.33.07_MD585_1_0097/MD585-IHC33-2015.07.16-16.33.07_MD585_1_0097_blobMaskCenters.hdf to s3://mousebrainatlas-data/CSHL_cells_v2/detected_cells/MD585/MD585-IHC33-2015.07.16-16.33.07_MD585_1_0097/MD585-IHC33-2015.07.16-16.33.07_MD585_1_0097_blobMaskCenters.bp\n",
      "MD585-N33-2015.07.16-21.37.52_MD585_2_0098\n",
      "move: s3://mousebrainatlas-data/CSHL_cells_v2/detected_cells/MD585/MD585-N33-2015.07.16-21.37.52_MD585_2_0098/MD585-N33-2015.07.16-21.37.52_MD585_2_0098_blobMaskCenters.hdf to s3://mousebrainatlas-data/CSHL_cells_v2/detected_cells/MD585/MD585-N33-2015.07.16-21.37.52_MD585_2_0098/MD585-N33-2015.07.16-21.37.52_MD585_2_0098_blobMaskCenters.bp\n",
      "MD585-IHC33-2015.07.16-16.33.07_MD585_2_0098\n",
      "move: s3://mousebrainatlas-data/CSHL_cells_v2/detected_cells/MD585/MD585-IHC33-2015.07.16-16.33.07_MD585_2_0098/MD585-IHC33-2015.07.16-16.33.07_MD585_2_0098_blobMaskCenters.hdf to s3://mousebrainatlas-data/CSHL_cells_v2/detected_cells/MD585/MD585-IHC33-2015.07.16-16.33.07_MD585_2_0098/MD585-IHC33-2015.07.16-16.33.07_MD585_2_0098_blobMaskCenters.bp\n",
      "MD585-N33-2015.07.16-21.37.52_MD585_3_0099\n",
      "move: s3://mousebrainatlas-data/CSHL_cells_v2/detected_cells/MD585/MD585-N33-2015.07.16-21.37.52_MD585_3_0099/MD585-N33-2015.07.16-21.37.52_MD585_3_0099_blobMaskCenters.hdf to s3://mousebrainatlas-data/CSHL_cells_v2/detected_cells/MD585/MD585-N33-2015.07.16-21.37.52_MD585_3_0099/MD585-N33-2015.07.16-21.37.52_MD585_3_0099_blobMaskCenters.bp\n",
      "MD585-IHC33-2015.07.16-16.33.07_MD585_3_0099\n",
      "move: s3://mousebrainatlas-data/CSHL_cells_v2/detected_cells/MD585/MD585-IHC33-2015.07.16-16.33.07_MD585_3_0099/MD585-IHC33-2015.07.16-16.33.07_MD585_3_0099_blobMaskCenters.hdf to s3://mousebrainatlas-data/CSHL_cells_v2/detected_cells/MD585/MD585-IHC33-2015.07.16-16.33.07_MD585_3_0099/MD585-IHC33-2015.07.16-16.33.07_MD585_3_0099_blobMaskCenters.bp\n",
      "MD585-N34-2015.07.16-21.43.03_MD585_1_0100\n",
      "move: s3://mousebrainatlas-data/CSHL_cells_v2/detected_cells/MD585/MD585-N34-2015.07.16-21.43.03_MD585_1_0100/MD585-N34-2015.07.16-21.43.03_MD585_1_0100_blobMaskCenters.hdf to s3://mousebrainatlas-data/CSHL_cells_v2/detected_cells/MD585/MD585-N34-2015.07.16-21.43.03_MD585_1_0100/MD585-N34-2015.07.16-21.43.03_MD585_1_0100_blobMaskCenters.bp\n",
      "MD585-IHC34-2015.07.16-16.38.23_MD585_1_0100\n",
      "move: s3://mousebrainatlas-data/CSHL_cells_v2/detected_cells/MD585/MD585-IHC34-2015.07.16-16.38.23_MD585_1_0100/MD585-IHC34-2015.07.16-16.38.23_MD585_1_0100_blobMaskCenters.hdf to s3://mousebrainatlas-data/CSHL_cells_v2/detected_cells/MD585/MD585-IHC34-2015.07.16-16.38.23_MD585_1_0100/MD585-IHC34-2015.07.16-16.38.23_MD585_1_0100_blobMaskCenters.bp\n",
      "MD585-N34-2015.07.16-21.43.03_MD585_2_0101\n",
      "move: s3://mousebrainatlas-data/CSHL_cells_v2/detected_cells/MD585/MD585-N34-2015.07.16-21.43.03_MD585_2_0101/MD585-N34-2015.07.16-21.43.03_MD585_2_0101_blobMaskCenters.hdf to s3://mousebrainatlas-data/CSHL_cells_v2/detected_cells/MD585/MD585-N34-2015.07.16-21.43.03_MD585_2_0101/MD585-N34-2015.07.16-21.43.03_MD585_2_0101_blobMaskCenters.bp\n",
      "MD585-IHC34-2015.07.16-16.38.23_MD585_2_0101\n",
      "move: s3://mousebrainatlas-data/CSHL_cells_v2/detected_cells/MD585/MD585-IHC34-2015.07.16-16.38.23_MD585_2_0101/MD585-IHC34-2015.07.16-16.38.23_MD585_2_0101_blobMaskCenters.hdf to s3://mousebrainatlas-data/CSHL_cells_v2/detected_cells/MD585/MD585-IHC34-2015.07.16-16.38.23_MD585_2_0101/MD585-IHC34-2015.07.16-16.38.23_MD585_2_0101_blobMaskCenters.bp\n"
     ]
    },
    {
     "name": "stdout",
     "output_type": "stream",
     "text": [
      "MD585-N34-2015.07.16-21.43.03_MD585_3_0102\n",
      "move: s3://mousebrainatlas-data/CSHL_cells_v2/detected_cells/MD585/MD585-N34-2015.07.16-21.43.03_MD585_3_0102/MD585-N34-2015.07.16-21.43.03_MD585_3_0102_blobMaskCenters.hdf to s3://mousebrainatlas-data/CSHL_cells_v2/detected_cells/MD585/MD585-N34-2015.07.16-21.43.03_MD585_3_0102/MD585-N34-2015.07.16-21.43.03_MD585_3_0102_blobMaskCenters.bp\n",
      "MD585-IHC34-2015.07.16-16.38.23_MD585_3_0102\n",
      "move: s3://mousebrainatlas-data/CSHL_cells_v2/detected_cells/MD585/MD585-IHC34-2015.07.16-16.38.23_MD585_3_0102/MD585-IHC34-2015.07.16-16.38.23_MD585_3_0102_blobMaskCenters.hdf to s3://mousebrainatlas-data/CSHL_cells_v2/detected_cells/MD585/MD585-IHC34-2015.07.16-16.38.23_MD585_3_0102/MD585-IHC34-2015.07.16-16.38.23_MD585_3_0102_blobMaskCenters.bp\n",
      "MD585-N35-2015.07.16-21.48.15_MD585_1_0103\n",
      "move: s3://mousebrainatlas-data/CSHL_cells_v2/detected_cells/MD585/MD585-N35-2015.07.16-21.48.15_MD585_1_0103/MD585-N35-2015.07.16-21.48.15_MD585_1_0103_blobMaskCenters.hdf to s3://mousebrainatlas-data/CSHL_cells_v2/detected_cells/MD585/MD585-N35-2015.07.16-21.48.15_MD585_1_0103/MD585-N35-2015.07.16-21.48.15_MD585_1_0103_blobMaskCenters.bp\n",
      "MD585-IHC35-2015.07.16-16.43.41_MD585_1_0103\n",
      "move: s3://mousebrainatlas-data/CSHL_cells_v2/detected_cells/MD585/MD585-IHC35-2015.07.16-16.43.41_MD585_1_0103/MD585-IHC35-2015.07.16-16.43.41_MD585_1_0103_blobMaskCenters.hdf to s3://mousebrainatlas-data/CSHL_cells_v2/detected_cells/MD585/MD585-IHC35-2015.07.16-16.43.41_MD585_1_0103/MD585-IHC35-2015.07.16-16.43.41_MD585_1_0103_blobMaskCenters.bp\n",
      "MD585-N35-2015.07.16-21.48.15_MD585_2_0104\n",
      "move: s3://mousebrainatlas-data/CSHL_cells_v2/detected_cells/MD585/MD585-N35-2015.07.16-21.48.15_MD585_2_0104/MD585-N35-2015.07.16-21.48.15_MD585_2_0104_blobMaskCenters.hdf to s3://mousebrainatlas-data/CSHL_cells_v2/detected_cells/MD585/MD585-N35-2015.07.16-21.48.15_MD585_2_0104/MD585-N35-2015.07.16-21.48.15_MD585_2_0104_blobMaskCenters.bp\n",
      "MD585-IHC35-2015.07.16-16.43.41_MD585_2_0104\n",
      "move: s3://mousebrainatlas-data/CSHL_cells_v2/detected_cells/MD585/MD585-IHC35-2015.07.16-16.43.41_MD585_2_0104/MD585-IHC35-2015.07.16-16.43.41_MD585_2_0104_blobMaskCenters.hdf to s3://mousebrainatlas-data/CSHL_cells_v2/detected_cells/MD585/MD585-IHC35-2015.07.16-16.43.41_MD585_2_0104/MD585-IHC35-2015.07.16-16.43.41_MD585_2_0104_blobMaskCenters.bp\n",
      "MD585-N35-2015.07.16-21.48.15_MD585_3_0105\n",
      "move: s3://mousebrainatlas-data/CSHL_cells_v2/detected_cells/MD585/MD585-N35-2015.07.16-21.48.15_MD585_3_0105/MD585-N35-2015.07.16-21.48.15_MD585_3_0105_blobMaskCenters.hdf to s3://mousebrainatlas-data/CSHL_cells_v2/detected_cells/MD585/MD585-N35-2015.07.16-21.48.15_MD585_3_0105/MD585-N35-2015.07.16-21.48.15_MD585_3_0105_blobMaskCenters.bp\n",
      "MD585-IHC35-2015.07.16-16.43.41_MD585_3_0105\n",
      "move: s3://mousebrainatlas-data/CSHL_cells_v2/detected_cells/MD585/MD585-IHC35-2015.07.16-16.43.41_MD585_3_0105/MD585-IHC35-2015.07.16-16.43.41_MD585_3_0105_blobMaskCenters.hdf to s3://mousebrainatlas-data/CSHL_cells_v2/detected_cells/MD585/MD585-IHC35-2015.07.16-16.43.41_MD585_3_0105/MD585-IHC35-2015.07.16-16.43.41_MD585_3_0105_blobMaskCenters.bp\n",
      "MD585-N36-2015.07.16-21.53.31_MD585_1_0106\n",
      "move: s3://mousebrainatlas-data/CSHL_cells_v2/detected_cells/MD585/MD585-N36-2015.07.16-21.53.31_MD585_1_0106/MD585-N36-2015.07.16-21.53.31_MD585_1_0106_blobMaskCenters.hdf to s3://mousebrainatlas-data/CSHL_cells_v2/detected_cells/MD585/MD585-N36-2015.07.16-21.53.31_MD585_1_0106/MD585-N36-2015.07.16-21.53.31_MD585_1_0106_blobMaskCenters.bp\n",
      "MD585-IHC36-2015.08.19-13.58.57_MD585_1_0106\n",
      "move: s3://mousebrainatlas-data/CSHL_cells_v2/detected_cells/MD585/MD585-IHC36-2015.08.19-13.58.57_MD585_1_0106/MD585-IHC36-2015.08.19-13.58.57_MD585_1_0106_blobMaskCenters.hdf to s3://mousebrainatlas-data/CSHL_cells_v2/detected_cells/MD585/MD585-IHC36-2015.08.19-13.58.57_MD585_1_0106/MD585-IHC36-2015.08.19-13.58.57_MD585_1_0106_blobMaskCenters.bp\n",
      "MD585-N36-2015.07.16-21.53.31_MD585_2_0107\n",
      "move: s3://mousebrainatlas-data/CSHL_cells_v2/detected_cells/MD585/MD585-N36-2015.07.16-21.53.31_MD585_2_0107/MD585-N36-2015.07.16-21.53.31_MD585_2_0107_blobMaskCenters.hdf to s3://mousebrainatlas-data/CSHL_cells_v2/detected_cells/MD585/MD585-N36-2015.07.16-21.53.31_MD585_2_0107/MD585-N36-2015.07.16-21.53.31_MD585_2_0107_blobMaskCenters.bp\n",
      "MD585-IHC36-2015.08.19-13.58.57_MD585_2_0107\n",
      "move: s3://mousebrainatlas-data/CSHL_cells_v2/detected_cells/MD585/MD585-IHC36-2015.08.19-13.58.57_MD585_2_0107/MD585-IHC36-2015.08.19-13.58.57_MD585_2_0107_blobMaskCenters.hdf to s3://mousebrainatlas-data/CSHL_cells_v2/detected_cells/MD585/MD585-IHC36-2015.08.19-13.58.57_MD585_2_0107/MD585-IHC36-2015.08.19-13.58.57_MD585_2_0107_blobMaskCenters.bp\n",
      "MD585-N36-2015.07.16-21.53.31_MD585_3_0108\n",
      "move: s3://mousebrainatlas-data/CSHL_cells_v2/detected_cells/MD585/MD585-N36-2015.07.16-21.53.31_MD585_3_0108/MD585-N36-2015.07.16-21.53.31_MD585_3_0108_blobMaskCenters.hdf to s3://mousebrainatlas-data/CSHL_cells_v2/detected_cells/MD585/MD585-N36-2015.07.16-21.53.31_MD585_3_0108/MD585-N36-2015.07.16-21.53.31_MD585_3_0108_blobMaskCenters.bp\n",
      "MD585-IHC36-2015.08.19-13.58.57_MD585_3_0108\n",
      "move: s3://mousebrainatlas-data/CSHL_cells_v2/detected_cells/MD585/MD585-IHC36-2015.08.19-13.58.57_MD585_3_0108/MD585-IHC36-2015.08.19-13.58.57_MD585_3_0108_blobMaskCenters.hdf to s3://mousebrainatlas-data/CSHL_cells_v2/detected_cells/MD585/MD585-IHC36-2015.08.19-13.58.57_MD585_3_0108/MD585-IHC36-2015.08.19-13.58.57_MD585_3_0108_blobMaskCenters.bp\n",
      "MD585-N37-2015.07.16-21.59.03_MD585_1_0109\n",
      "move: s3://mousebrainatlas-data/CSHL_cells_v2/detected_cells/MD585/MD585-N37-2015.07.16-21.59.03_MD585_1_0109/MD585-N37-2015.07.16-21.59.03_MD585_1_0109_blobMaskCenters.hdf to s3://mousebrainatlas-data/CSHL_cells_v2/detected_cells/MD585/MD585-N37-2015.07.16-21.59.03_MD585_1_0109/MD585-N37-2015.07.16-21.59.03_MD585_1_0109_blobMaskCenters.bp\n",
      "MD585-IHC37-2015.08.19-14.04.32_MD585_1_0109\n",
      "move: s3://mousebrainatlas-data/CSHL_cells_v2/detected_cells/MD585/MD585-IHC37-2015.08.19-14.04.32_MD585_1_0109/MD585-IHC37-2015.08.19-14.04.32_MD585_1_0109_blobMaskCenters.hdf to s3://mousebrainatlas-data/CSHL_cells_v2/detected_cells/MD585/MD585-IHC37-2015.08.19-14.04.32_MD585_1_0109/MD585-IHC37-2015.08.19-14.04.32_MD585_1_0109_blobMaskCenters.bp\n",
      "MD585-N37-2015.07.16-21.59.03_MD585_2_0110\n",
      "move: s3://mousebrainatlas-data/CSHL_cells_v2/detected_cells/MD585/MD585-N37-2015.07.16-21.59.03_MD585_2_0110/MD585-N37-2015.07.16-21.59.03_MD585_2_0110_blobMaskCenters.hdf to s3://mousebrainatlas-data/CSHL_cells_v2/detected_cells/MD585/MD585-N37-2015.07.16-21.59.03_MD585_2_0110/MD585-N37-2015.07.16-21.59.03_MD585_2_0110_blobMaskCenters.bp\n",
      "MD585-IHC37-2015.08.19-14.04.32_MD585_2_0110\n",
      "move: s3://mousebrainatlas-data/CSHL_cells_v2/detected_cells/MD585/MD585-IHC37-2015.08.19-14.04.32_MD585_2_0110/MD585-IHC37-2015.08.19-14.04.32_MD585_2_0110_blobMaskCenters.hdf to s3://mousebrainatlas-data/CSHL_cells_v2/detected_cells/MD585/MD585-IHC37-2015.08.19-14.04.32_MD585_2_0110/MD585-IHC37-2015.08.19-14.04.32_MD585_2_0110_blobMaskCenters.bp\n",
      "MD585-N37-2015.07.16-21.59.03_MD585_3_0111\n",
      "move: s3://mousebrainatlas-data/CSHL_cells_v2/detected_cells/MD585/MD585-N37-2015.07.16-21.59.03_MD585_3_0111/MD585-N37-2015.07.16-21.59.03_MD585_3_0111_blobMaskCenters.hdf to s3://mousebrainatlas-data/CSHL_cells_v2/detected_cells/MD585/MD585-N37-2015.07.16-21.59.03_MD585_3_0111/MD585-N37-2015.07.16-21.59.03_MD585_3_0111_blobMaskCenters.bp\n",
      "MD585-IHC37-2015.08.19-14.04.32_MD585_3_0111\n",
      "move: s3://mousebrainatlas-data/CSHL_cells_v2/detected_cells/MD585/MD585-IHC37-2015.08.19-14.04.32_MD585_3_0111/MD585-IHC37-2015.08.19-14.04.32_MD585_3_0111_blobMaskCenters.hdf to s3://mousebrainatlas-data/CSHL_cells_v2/detected_cells/MD585/MD585-IHC37-2015.08.19-14.04.32_MD585_3_0111/MD585-IHC37-2015.08.19-14.04.32_MD585_3_0111_blobMaskCenters.bp\n",
      "MD585-N38-2015.07.16-22.04.12_MD585_1_0112\n",
      "move: s3://mousebrainatlas-data/CSHL_cells_v2/detected_cells/MD585/MD585-N38-2015.07.16-22.04.12_MD585_1_0112/MD585-N38-2015.07.16-22.04.12_MD585_1_0112_blobMaskCenters.hdf to s3://mousebrainatlas-data/CSHL_cells_v2/detected_cells/MD585/MD585-N38-2015.07.16-22.04.12_MD585_1_0112/MD585-N38-2015.07.16-22.04.12_MD585_1_0112_blobMaskCenters.bp\n",
      "MD585-IHC38-2015.07.16-17.00.35_MD585_1_0112\n"
     ]
    },
    {
     "name": "stdout",
     "output_type": "stream",
     "text": [
      "move: s3://mousebrainatlas-data/CSHL_cells_v2/detected_cells/MD585/MD585-IHC38-2015.07.16-17.00.35_MD585_1_0112/MD585-IHC38-2015.07.16-17.00.35_MD585_1_0112_blobMaskCenters.hdf to s3://mousebrainatlas-data/CSHL_cells_v2/detected_cells/MD585/MD585-IHC38-2015.07.16-17.00.35_MD585_1_0112/MD585-IHC38-2015.07.16-17.00.35_MD585_1_0112_blobMaskCenters.bp\n",
      "MD585-N38-2015.07.16-22.04.12_MD585_2_0113\n",
      "move: s3://mousebrainatlas-data/CSHL_cells_v2/detected_cells/MD585/MD585-N38-2015.07.16-22.04.12_MD585_2_0113/MD585-N38-2015.07.16-22.04.12_MD585_2_0113_blobMaskCenters.hdf to s3://mousebrainatlas-data/CSHL_cells_v2/detected_cells/MD585/MD585-N38-2015.07.16-22.04.12_MD585_2_0113/MD585-N38-2015.07.16-22.04.12_MD585_2_0113_blobMaskCenters.bp\n",
      "MD585-IHC38-2015.07.16-17.00.35_MD585_2_0113\n",
      "move: s3://mousebrainatlas-data/CSHL_cells_v2/detected_cells/MD585/MD585-IHC38-2015.07.16-17.00.35_MD585_2_0113/MD585-IHC38-2015.07.16-17.00.35_MD585_2_0113_blobMaskCenters.hdf to s3://mousebrainatlas-data/CSHL_cells_v2/detected_cells/MD585/MD585-IHC38-2015.07.16-17.00.35_MD585_2_0113/MD585-IHC38-2015.07.16-17.00.35_MD585_2_0113_blobMaskCenters.bp\n",
      "MD585-N38-2015.07.16-22.04.12_MD585_3_0114\n",
      "move: s3://mousebrainatlas-data/CSHL_cells_v2/detected_cells/MD585/MD585-N38-2015.07.16-22.04.12_MD585_3_0114/MD585-N38-2015.07.16-22.04.12_MD585_3_0114_blobMaskCenters.hdf to s3://mousebrainatlas-data/CSHL_cells_v2/detected_cells/MD585/MD585-N38-2015.07.16-22.04.12_MD585_3_0114/MD585-N38-2015.07.16-22.04.12_MD585_3_0114_blobMaskCenters.bp\n",
      "MD585-IHC38-2015.07.16-17.00.35_MD585_3_0114\n",
      "move: s3://mousebrainatlas-data/CSHL_cells_v2/detected_cells/MD585/MD585-IHC38-2015.07.16-17.00.35_MD585_3_0114/MD585-IHC38-2015.07.16-17.00.35_MD585_3_0114_blobMaskCenters.hdf to s3://mousebrainatlas-data/CSHL_cells_v2/detected_cells/MD585/MD585-IHC38-2015.07.16-17.00.35_MD585_3_0114/MD585-IHC38-2015.07.16-17.00.35_MD585_3_0114_blobMaskCenters.bp\n",
      "MD585-N39-2015.07.16-22.09.19_MD585_1_0115\n",
      "move: s3://mousebrainatlas-data/CSHL_cells_v2/detected_cells/MD585/MD585-N39-2015.07.16-22.09.19_MD585_1_0115/MD585-N39-2015.07.16-22.09.19_MD585_1_0115_blobMaskCenters.hdf to s3://mousebrainatlas-data/CSHL_cells_v2/detected_cells/MD585/MD585-N39-2015.07.16-22.09.19_MD585_1_0115/MD585-N39-2015.07.16-22.09.19_MD585_1_0115_blobMaskCenters.bp\n",
      "MD585-IHC39-2015.08.19-14.10.09_MD585_1_0115\n",
      "move: s3://mousebrainatlas-data/CSHL_cells_v2/detected_cells/MD585/MD585-IHC39-2015.08.19-14.10.09_MD585_1_0115/MD585-IHC39-2015.08.19-14.10.09_MD585_1_0115_blobMaskCenters.hdf to s3://mousebrainatlas-data/CSHL_cells_v2/detected_cells/MD585/MD585-IHC39-2015.08.19-14.10.09_MD585_1_0115/MD585-IHC39-2015.08.19-14.10.09_MD585_1_0115_blobMaskCenters.bp\n",
      "MD585-N39-2015.07.16-22.09.19_MD585_2_0116\n",
      "move: s3://mousebrainatlas-data/CSHL_cells_v2/detected_cells/MD585/MD585-N39-2015.07.16-22.09.19_MD585_2_0116/MD585-N39-2015.07.16-22.09.19_MD585_2_0116_blobMaskCenters.hdf to s3://mousebrainatlas-data/CSHL_cells_v2/detected_cells/MD585/MD585-N39-2015.07.16-22.09.19_MD585_2_0116/MD585-N39-2015.07.16-22.09.19_MD585_2_0116_blobMaskCenters.bp\n",
      "MD585-IHC39-2015.08.19-14.10.09_MD585_2_0116\n",
      "move: s3://mousebrainatlas-data/CSHL_cells_v2/detected_cells/MD585/MD585-IHC39-2015.08.19-14.10.09_MD585_2_0116/MD585-IHC39-2015.08.19-14.10.09_MD585_2_0116_blobMaskCenters.hdf to s3://mousebrainatlas-data/CSHL_cells_v2/detected_cells/MD585/MD585-IHC39-2015.08.19-14.10.09_MD585_2_0116/MD585-IHC39-2015.08.19-14.10.09_MD585_2_0116_blobMaskCenters.bp\n",
      "MD585-N39-2015.07.16-22.09.19_MD585_3_0117\n",
      "move: s3://mousebrainatlas-data/CSHL_cells_v2/detected_cells/MD585/MD585-N39-2015.07.16-22.09.19_MD585_3_0117/MD585-N39-2015.07.16-22.09.19_MD585_3_0117_blobMaskCenters.hdf to s3://mousebrainatlas-data/CSHL_cells_v2/detected_cells/MD585/MD585-N39-2015.07.16-22.09.19_MD585_3_0117/MD585-N39-2015.07.16-22.09.19_MD585_3_0117_blobMaskCenters.bp\n",
      "MD585-IHC39-2015.08.19-14.10.09_MD585_3_0117\n",
      "move: s3://mousebrainatlas-data/CSHL_cells_v2/detected_cells/MD585/MD585-IHC39-2015.08.19-14.10.09_MD585_3_0117/MD585-IHC39-2015.08.19-14.10.09_MD585_3_0117_blobMaskCenters.hdf to s3://mousebrainatlas-data/CSHL_cells_v2/detected_cells/MD585/MD585-IHC39-2015.08.19-14.10.09_MD585_3_0117/MD585-IHC39-2015.08.19-14.10.09_MD585_3_0117_blobMaskCenters.bp\n",
      "MD585-N40-2015.07.16-22.14.28_MD585_1_0118\n",
      "move: s3://mousebrainatlas-data/CSHL_cells_v2/detected_cells/MD585/MD585-N40-2015.07.16-22.14.28_MD585_1_0118/MD585-N40-2015.07.16-22.14.28_MD585_1_0118_blobMaskCenters.hdf to s3://mousebrainatlas-data/CSHL_cells_v2/detected_cells/MD585/MD585-N40-2015.07.16-22.14.28_MD585_1_0118/MD585-N40-2015.07.16-22.14.28_MD585_1_0118_blobMaskCenters.bp\n",
      "MD585-IHC40-2015.08.19-14.15.44_MD585_1_0118\n",
      "move: s3://mousebrainatlas-data/CSHL_cells_v2/detected_cells/MD585/MD585-IHC40-2015.08.19-14.15.44_MD585_1_0118/MD585-IHC40-2015.08.19-14.15.44_MD585_1_0118_blobMaskCenters.hdf to s3://mousebrainatlas-data/CSHL_cells_v2/detected_cells/MD585/MD585-IHC40-2015.08.19-14.15.44_MD585_1_0118/MD585-IHC40-2015.08.19-14.15.44_MD585_1_0118_blobMaskCenters.bp\n",
      "MD585-N40-2015.07.16-22.14.28_MD585_2_0119\n",
      "move: s3://mousebrainatlas-data/CSHL_cells_v2/detected_cells/MD585/MD585-N40-2015.07.16-22.14.28_MD585_2_0119/MD585-N40-2015.07.16-22.14.28_MD585_2_0119_blobMaskCenters.hdf to s3://mousebrainatlas-data/CSHL_cells_v2/detected_cells/MD585/MD585-N40-2015.07.16-22.14.28_MD585_2_0119/MD585-N40-2015.07.16-22.14.28_MD585_2_0119_blobMaskCenters.bp\n",
      "MD585-IHC40-2015.08.19-14.15.44_MD585_2_0119\n",
      "move: s3://mousebrainatlas-data/CSHL_cells_v2/detected_cells/MD585/MD585-IHC40-2015.08.19-14.15.44_MD585_2_0119/MD585-IHC40-2015.08.19-14.15.44_MD585_2_0119_blobMaskCenters.hdf to s3://mousebrainatlas-data/CSHL_cells_v2/detected_cells/MD585/MD585-IHC40-2015.08.19-14.15.44_MD585_2_0119/MD585-IHC40-2015.08.19-14.15.44_MD585_2_0119_blobMaskCenters.bp\n",
      "MD585-N40-2015.07.16-22.14.28_MD585_3_0120\n",
      "move: s3://mousebrainatlas-data/CSHL_cells_v2/detected_cells/MD585/MD585-N40-2015.07.16-22.14.28_MD585_3_0120/MD585-N40-2015.07.16-22.14.28_MD585_3_0120_blobMaskCenters.hdf to s3://mousebrainatlas-data/CSHL_cells_v2/detected_cells/MD585/MD585-N40-2015.07.16-22.14.28_MD585_3_0120/MD585-N40-2015.07.16-22.14.28_MD585_3_0120_blobMaskCenters.bp\n",
      "MD585-IHC40-2015.08.19-14.15.44_MD585_3_0120\n",
      "move: s3://mousebrainatlas-data/CSHL_cells_v2/detected_cells/MD585/MD585-IHC40-2015.08.19-14.15.44_MD585_3_0120/MD585-IHC40-2015.08.19-14.15.44_MD585_3_0120_blobMaskCenters.hdf to s3://mousebrainatlas-data/CSHL_cells_v2/detected_cells/MD585/MD585-IHC40-2015.08.19-14.15.44_MD585_3_0120/MD585-IHC40-2015.08.19-14.15.44_MD585_3_0120_blobMaskCenters.bp\n",
      "MD585-N41-2015.07.16-22.19.30_MD585_1_0121\n",
      "move: s3://mousebrainatlas-data/CSHL_cells_v2/detected_cells/MD585/MD585-N41-2015.07.16-22.19.30_MD585_1_0121/MD585-N41-2015.07.16-22.19.30_MD585_1_0121_blobMaskCenters.hdf to s3://mousebrainatlas-data/CSHL_cells_v2/detected_cells/MD585/MD585-N41-2015.07.16-22.19.30_MD585_1_0121/MD585-N41-2015.07.16-22.19.30_MD585_1_0121_blobMaskCenters.bp\n",
      "MD585-IHC41-2015.08.19-14.21.09_MD585_1_0121\n",
      "move: s3://mousebrainatlas-data/CSHL_cells_v2/detected_cells/MD585/MD585-IHC41-2015.08.19-14.21.09_MD585_1_0121/MD585-IHC41-2015.08.19-14.21.09_MD585_1_0121_blobMaskCenters.hdf to s3://mousebrainatlas-data/CSHL_cells_v2/detected_cells/MD585/MD585-IHC41-2015.08.19-14.21.09_MD585_1_0121/MD585-IHC41-2015.08.19-14.21.09_MD585_1_0121_blobMaskCenters.bp\n",
      "MD585-N41-2015.07.16-22.19.30_MD585_2_0122\n",
      "move: s3://mousebrainatlas-data/CSHL_cells_v2/detected_cells/MD585/MD585-N41-2015.07.16-22.19.30_MD585_2_0122/MD585-N41-2015.07.16-22.19.30_MD585_2_0122_blobMaskCenters.hdf to s3://mousebrainatlas-data/CSHL_cells_v2/detected_cells/MD585/MD585-N41-2015.07.16-22.19.30_MD585_2_0122/MD585-N41-2015.07.16-22.19.30_MD585_2_0122_blobMaskCenters.bp\n",
      "MD585-IHC41-2015.08.19-14.21.09_MD585_2_0122\n",
      "move: s3://mousebrainatlas-data/CSHL_cells_v2/detected_cells/MD585/MD585-IHC41-2015.08.19-14.21.09_MD585_2_0122/MD585-IHC41-2015.08.19-14.21.09_MD585_2_0122_blobMaskCenters.hdf to s3://mousebrainatlas-data/CSHL_cells_v2/detected_cells/MD585/MD585-IHC41-2015.08.19-14.21.09_MD585_2_0122/MD585-IHC41-2015.08.19-14.21.09_MD585_2_0122_blobMaskCenters.bp\n",
      "MD585-N41-2015.07.16-22.19.30_MD585_3_0123\n"
     ]
    },
    {
     "name": "stdout",
     "output_type": "stream",
     "text": [
      "move: s3://mousebrainatlas-data/CSHL_cells_v2/detected_cells/MD585/MD585-N41-2015.07.16-22.19.30_MD585_3_0123/MD585-N41-2015.07.16-22.19.30_MD585_3_0123_blobMaskCenters.hdf to s3://mousebrainatlas-data/CSHL_cells_v2/detected_cells/MD585/MD585-N41-2015.07.16-22.19.30_MD585_3_0123/MD585-N41-2015.07.16-22.19.30_MD585_3_0123_blobMaskCenters.bp\n",
      "MD585-IHC41-2015.08.19-14.21.09_MD585_3_0123\n",
      "move: s3://mousebrainatlas-data/CSHL_cells_v2/detected_cells/MD585/MD585-IHC41-2015.08.19-14.21.09_MD585_3_0123/MD585-IHC41-2015.08.19-14.21.09_MD585_3_0123_blobMaskCenters.hdf to s3://mousebrainatlas-data/CSHL_cells_v2/detected_cells/MD585/MD585-IHC41-2015.08.19-14.21.09_MD585_3_0123/MD585-IHC41-2015.08.19-14.21.09_MD585_3_0123_blobMaskCenters.bp\n",
      "MD585-N42-2015.07.16-22.24.42_MD585_1_0124\n",
      "move: s3://mousebrainatlas-data/CSHL_cells_v2/detected_cells/MD585/MD585-N42-2015.07.16-22.24.42_MD585_1_0124/MD585-N42-2015.07.16-22.24.42_MD585_1_0124_blobMaskCenters.hdf to s3://mousebrainatlas-data/CSHL_cells_v2/detected_cells/MD585/MD585-N42-2015.07.16-22.24.42_MD585_1_0124/MD585-N42-2015.07.16-22.24.42_MD585_1_0124_blobMaskCenters.bp\n",
      "MD585-IHC42-2015.08.19-14.26.30_MD585_1_0124\n",
      "move: s3://mousebrainatlas-data/CSHL_cells_v2/detected_cells/MD585/MD585-IHC42-2015.08.19-14.26.30_MD585_1_0124/MD585-IHC42-2015.08.19-14.26.30_MD585_1_0124_blobMaskCenters.hdf to s3://mousebrainatlas-data/CSHL_cells_v2/detected_cells/MD585/MD585-IHC42-2015.08.19-14.26.30_MD585_1_0124/MD585-IHC42-2015.08.19-14.26.30_MD585_1_0124_blobMaskCenters.bp\n",
      "MD585-N42-2015.07.16-22.24.42_MD585_2_0125\n",
      "move: s3://mousebrainatlas-data/CSHL_cells_v2/detected_cells/MD585/MD585-N42-2015.07.16-22.24.42_MD585_2_0125/MD585-N42-2015.07.16-22.24.42_MD585_2_0125_blobMaskCenters.hdf to s3://mousebrainatlas-data/CSHL_cells_v2/detected_cells/MD585/MD585-N42-2015.07.16-22.24.42_MD585_2_0125/MD585-N42-2015.07.16-22.24.42_MD585_2_0125_blobMaskCenters.bp\n",
      "MD585-IHC42-2015.08.19-14.26.30_MD585_2_0125\n",
      "move: s3://mousebrainatlas-data/CSHL_cells_v2/detected_cells/MD585/MD585-IHC42-2015.08.19-14.26.30_MD585_2_0125/MD585-IHC42-2015.08.19-14.26.30_MD585_2_0125_blobMaskCenters.hdf to s3://mousebrainatlas-data/CSHL_cells_v2/detected_cells/MD585/MD585-IHC42-2015.08.19-14.26.30_MD585_2_0125/MD585-IHC42-2015.08.19-14.26.30_MD585_2_0125_blobMaskCenters.bp\n",
      "MD585-N42-2015.07.16-22.24.42_MD585_3_0126\n",
      "move: s3://mousebrainatlas-data/CSHL_cells_v2/detected_cells/MD585/MD585-N42-2015.07.16-22.24.42_MD585_3_0126/MD585-N42-2015.07.16-22.24.42_MD585_3_0126_blobMaskCenters.hdf to s3://mousebrainatlas-data/CSHL_cells_v2/detected_cells/MD585/MD585-N42-2015.07.16-22.24.42_MD585_3_0126/MD585-N42-2015.07.16-22.24.42_MD585_3_0126_blobMaskCenters.bp\n",
      "MD585-IHC42-2015.08.19-14.26.30_MD585_3_0126\n",
      "move: s3://mousebrainatlas-data/CSHL_cells_v2/detected_cells/MD585/MD585-IHC42-2015.08.19-14.26.30_MD585_3_0126/MD585-IHC42-2015.08.19-14.26.30_MD585_3_0126_blobMaskCenters.hdf to s3://mousebrainatlas-data/CSHL_cells_v2/detected_cells/MD585/MD585-IHC42-2015.08.19-14.26.30_MD585_3_0126/MD585-IHC42-2015.08.19-14.26.30_MD585_3_0126_blobMaskCenters.bp\n",
      "MD585-N43-2015.07.16-22.29.50_MD585_1_0127\n",
      "move: s3://mousebrainatlas-data/CSHL_cells_v2/detected_cells/MD585/MD585-N43-2015.07.16-22.29.50_MD585_1_0127/MD585-N43-2015.07.16-22.29.50_MD585_1_0127_blobMaskCenters.hdf to s3://mousebrainatlas-data/CSHL_cells_v2/detected_cells/MD585/MD585-N43-2015.07.16-22.29.50_MD585_1_0127/MD585-N43-2015.07.16-22.29.50_MD585_1_0127_blobMaskCenters.bp\n",
      "MD585-IHC43-2015.08.19-14.32.02_MD585_1_0127\n",
      "move: s3://mousebrainatlas-data/CSHL_cells_v2/detected_cells/MD585/MD585-IHC43-2015.08.19-14.32.02_MD585_1_0127/MD585-IHC43-2015.08.19-14.32.02_MD585_1_0127_blobMaskCenters.hdf to s3://mousebrainatlas-data/CSHL_cells_v2/detected_cells/MD585/MD585-IHC43-2015.08.19-14.32.02_MD585_1_0127/MD585-IHC43-2015.08.19-14.32.02_MD585_1_0127_blobMaskCenters.bp\n",
      "MD585-N43-2015.07.16-22.29.50_MD585_2_0128\n",
      "move: s3://mousebrainatlas-data/CSHL_cells_v2/detected_cells/MD585/MD585-N43-2015.07.16-22.29.50_MD585_2_0128/MD585-N43-2015.07.16-22.29.50_MD585_2_0128_blobMaskCenters.hdf to s3://mousebrainatlas-data/CSHL_cells_v2/detected_cells/MD585/MD585-N43-2015.07.16-22.29.50_MD585_2_0128/MD585-N43-2015.07.16-22.29.50_MD585_2_0128_blobMaskCenters.bp\n",
      "MD585-IHC43-2015.08.19-14.32.02_MD585_2_0128\n",
      "move: s3://mousebrainatlas-data/CSHL_cells_v2/detected_cells/MD585/MD585-IHC43-2015.08.19-14.32.02_MD585_2_0128/MD585-IHC43-2015.08.19-14.32.02_MD585_2_0128_blobMaskCenters.hdf to s3://mousebrainatlas-data/CSHL_cells_v2/detected_cells/MD585/MD585-IHC43-2015.08.19-14.32.02_MD585_2_0128/MD585-IHC43-2015.08.19-14.32.02_MD585_2_0128_blobMaskCenters.bp\n",
      "MD585-N43-2015.07.16-22.29.50_MD585_3_0129\n",
      "move: s3://mousebrainatlas-data/CSHL_cells_v2/detected_cells/MD585/MD585-N43-2015.07.16-22.29.50_MD585_3_0129/MD585-N43-2015.07.16-22.29.50_MD585_3_0129_blobMaskCenters.hdf to s3://mousebrainatlas-data/CSHL_cells_v2/detected_cells/MD585/MD585-N43-2015.07.16-22.29.50_MD585_3_0129/MD585-N43-2015.07.16-22.29.50_MD585_3_0129_blobMaskCenters.bp\n",
      "MD585-IHC43-2015.08.19-14.32.02_MD585_3_0129\n",
      "move: s3://mousebrainatlas-data/CSHL_cells_v2/detected_cells/MD585/MD585-IHC43-2015.08.19-14.32.02_MD585_3_0129/MD585-IHC43-2015.08.19-14.32.02_MD585_3_0129_blobMaskCenters.hdf to s3://mousebrainatlas-data/CSHL_cells_v2/detected_cells/MD585/MD585-IHC43-2015.08.19-14.32.02_MD585_3_0129/MD585-IHC43-2015.08.19-14.32.02_MD585_3_0129_blobMaskCenters.bp\n",
      "MD585-N44-2015.07.16-22.35.02_MD585_1_0130\n",
      "move: s3://mousebrainatlas-data/CSHL_cells_v2/detected_cells/MD585/MD585-N44-2015.07.16-22.35.02_MD585_1_0130/MD585-N44-2015.07.16-22.35.02_MD585_1_0130_blobMaskCenters.hdf to s3://mousebrainatlas-data/CSHL_cells_v2/detected_cells/MD585/MD585-N44-2015.07.16-22.35.02_MD585_1_0130/MD585-N44-2015.07.16-22.35.02_MD585_1_0130_blobMaskCenters.bp\n",
      "MD585-IHC44-2015.08.19-14.37.23_MD585_1_0130\n",
      "move: s3://mousebrainatlas-data/CSHL_cells_v2/detected_cells/MD585/MD585-IHC44-2015.08.19-14.37.23_MD585_1_0130/MD585-IHC44-2015.08.19-14.37.23_MD585_1_0130_blobMaskCenters.hdf to s3://mousebrainatlas-data/CSHL_cells_v2/detected_cells/MD585/MD585-IHC44-2015.08.19-14.37.23_MD585_1_0130/MD585-IHC44-2015.08.19-14.37.23_MD585_1_0130_blobMaskCenters.bp\n",
      "MD585-N44-2015.07.16-22.35.02_MD585_2_0131\n",
      "move: s3://mousebrainatlas-data/CSHL_cells_v2/detected_cells/MD585/MD585-N44-2015.07.16-22.35.02_MD585_2_0131/MD585-N44-2015.07.16-22.35.02_MD585_2_0131_blobMaskCenters.hdf to s3://mousebrainatlas-data/CSHL_cells_v2/detected_cells/MD585/MD585-N44-2015.07.16-22.35.02_MD585_2_0131/MD585-N44-2015.07.16-22.35.02_MD585_2_0131_blobMaskCenters.bp\n",
      "MD585-IHC44-2015.08.19-14.37.23_MD585_2_0131\n",
      "move: s3://mousebrainatlas-data/CSHL_cells_v2/detected_cells/MD585/MD585-IHC44-2015.08.19-14.37.23_MD585_2_0131/MD585-IHC44-2015.08.19-14.37.23_MD585_2_0131_blobMaskCenters.hdf to s3://mousebrainatlas-data/CSHL_cells_v2/detected_cells/MD585/MD585-IHC44-2015.08.19-14.37.23_MD585_2_0131/MD585-IHC44-2015.08.19-14.37.23_MD585_2_0131_blobMaskCenters.bp\n",
      "MD585-N44-2015.07.16-22.35.02_MD585_3_0132\n",
      "move: s3://mousebrainatlas-data/CSHL_cells_v2/detected_cells/MD585/MD585-N44-2015.07.16-22.35.02_MD585_3_0132/MD585-N44-2015.07.16-22.35.02_MD585_3_0132_blobMaskCenters.hdf to s3://mousebrainatlas-data/CSHL_cells_v2/detected_cells/MD585/MD585-N44-2015.07.16-22.35.02_MD585_3_0132/MD585-N44-2015.07.16-22.35.02_MD585_3_0132_blobMaskCenters.bp\n",
      "MD585-IHC44-2015.08.19-14.37.23_MD585_3_0132\n",
      "move: s3://mousebrainatlas-data/CSHL_cells_v2/detected_cells/MD585/MD585-IHC44-2015.08.19-14.37.23_MD585_3_0132/MD585-IHC44-2015.08.19-14.37.23_MD585_3_0132_blobMaskCenters.hdf to s3://mousebrainatlas-data/CSHL_cells_v2/detected_cells/MD585/MD585-IHC44-2015.08.19-14.37.23_MD585_3_0132/MD585-IHC44-2015.08.19-14.37.23_MD585_3_0132_blobMaskCenters.bp\n",
      "MD585-N45-2015.07.16-22.40.26_MD585_1_0133\n",
      "move: s3://mousebrainatlas-data/CSHL_cells_v2/detected_cells/MD585/MD585-N45-2015.07.16-22.40.26_MD585_1_0133/MD585-N45-2015.07.16-22.40.26_MD585_1_0133_blobMaskCenters.hdf to s3://mousebrainatlas-data/CSHL_cells_v2/detected_cells/MD585/MD585-N45-2015.07.16-22.40.26_MD585_1_0133/MD585-N45-2015.07.16-22.40.26_MD585_1_0133_blobMaskCenters.bp\n",
      "MD585-IHC45-2015.08.19-14.42.34_MD585_1_0133\n",
      "move: s3://mousebrainatlas-data/CSHL_cells_v2/detected_cells/MD585/MD585-IHC45-2015.08.19-14.42.34_MD585_1_0133/MD585-IHC45-2015.08.19-14.42.34_MD585_1_0133_blobMaskCenters.hdf to s3://mousebrainatlas-data/CSHL_cells_v2/detected_cells/MD585/MD585-IHC45-2015.08.19-14.42.34_MD585_1_0133/MD585-IHC45-2015.08.19-14.42.34_MD585_1_0133_blobMaskCenters.bp\n"
     ]
    },
    {
     "name": "stdout",
     "output_type": "stream",
     "text": [
      "MD585-N45-2015.07.16-22.40.26_MD585_2_0134\n",
      "move: s3://mousebrainatlas-data/CSHL_cells_v2/detected_cells/MD585/MD585-N45-2015.07.16-22.40.26_MD585_2_0134/MD585-N45-2015.07.16-22.40.26_MD585_2_0134_blobMaskCenters.hdf to s3://mousebrainatlas-data/CSHL_cells_v2/detected_cells/MD585/MD585-N45-2015.07.16-22.40.26_MD585_2_0134/MD585-N45-2015.07.16-22.40.26_MD585_2_0134_blobMaskCenters.bp\n",
      "MD585-IHC45-2015.08.19-14.42.34_MD585_2_0134\n",
      "move: s3://mousebrainatlas-data/CSHL_cells_v2/detected_cells/MD585/MD585-IHC45-2015.08.19-14.42.34_MD585_2_0134/MD585-IHC45-2015.08.19-14.42.34_MD585_2_0134_blobMaskCenters.hdf to s3://mousebrainatlas-data/CSHL_cells_v2/detected_cells/MD585/MD585-IHC45-2015.08.19-14.42.34_MD585_2_0134/MD585-IHC45-2015.08.19-14.42.34_MD585_2_0134_blobMaskCenters.bp\n",
      "MD585-N45-2015.07.16-22.40.26_MD585_3_0135\n",
      "move: s3://mousebrainatlas-data/CSHL_cells_v2/detected_cells/MD585/MD585-N45-2015.07.16-22.40.26_MD585_3_0135/MD585-N45-2015.07.16-22.40.26_MD585_3_0135_blobMaskCenters.hdf to s3://mousebrainatlas-data/CSHL_cells_v2/detected_cells/MD585/MD585-N45-2015.07.16-22.40.26_MD585_3_0135/MD585-N45-2015.07.16-22.40.26_MD585_3_0135_blobMaskCenters.bp\n",
      "MD585-IHC45-2015.08.19-14.42.34_MD585_3_0135\n",
      "move: s3://mousebrainatlas-data/CSHL_cells_v2/detected_cells/MD585/MD585-IHC45-2015.08.19-14.42.34_MD585_3_0135/MD585-IHC45-2015.08.19-14.42.34_MD585_3_0135_blobMaskCenters.hdf to s3://mousebrainatlas-data/CSHL_cells_v2/detected_cells/MD585/MD585-IHC45-2015.08.19-14.42.34_MD585_3_0135/MD585-IHC45-2015.08.19-14.42.34_MD585_3_0135_blobMaskCenters.bp\n",
      "MD585-N46-2015.07.16-22.45.37_MD585_1_0136\n",
      "move: s3://mousebrainatlas-data/CSHL_cells_v2/detected_cells/MD585/MD585-N46-2015.07.16-22.45.37_MD585_1_0136/MD585-N46-2015.07.16-22.45.37_MD585_1_0136_blobMaskCenters.hdf to s3://mousebrainatlas-data/CSHL_cells_v2/detected_cells/MD585/MD585-N46-2015.07.16-22.45.37_MD585_1_0136/MD585-N46-2015.07.16-22.45.37_MD585_1_0136_blobMaskCenters.bp\n",
      "MD585-IHC46-2015.08.19-14.47.51_MD585_1_0136\n",
      "move: s3://mousebrainatlas-data/CSHL_cells_v2/detected_cells/MD585/MD585-IHC46-2015.08.19-14.47.51_MD585_1_0136/MD585-IHC46-2015.08.19-14.47.51_MD585_1_0136_blobMaskCenters.hdf to s3://mousebrainatlas-data/CSHL_cells_v2/detected_cells/MD585/MD585-IHC46-2015.08.19-14.47.51_MD585_1_0136/MD585-IHC46-2015.08.19-14.47.51_MD585_1_0136_blobMaskCenters.bp\n",
      "MD585-N46-2015.07.16-22.45.37_MD585_2_0137\n",
      "move: s3://mousebrainatlas-data/CSHL_cells_v2/detected_cells/MD585/MD585-N46-2015.07.16-22.45.37_MD585_2_0137/MD585-N46-2015.07.16-22.45.37_MD585_2_0137_blobMaskCenters.hdf to s3://mousebrainatlas-data/CSHL_cells_v2/detected_cells/MD585/MD585-N46-2015.07.16-22.45.37_MD585_2_0137/MD585-N46-2015.07.16-22.45.37_MD585_2_0137_blobMaskCenters.bp\n",
      "MD585-IHC46-2015.08.19-14.47.51_MD585_2_0137\n",
      "move: s3://mousebrainatlas-data/CSHL_cells_v2/detected_cells/MD585/MD585-IHC46-2015.08.19-14.47.51_MD585_2_0137/MD585-IHC46-2015.08.19-14.47.51_MD585_2_0137_blobMaskCenters.hdf to s3://mousebrainatlas-data/CSHL_cells_v2/detected_cells/MD585/MD585-IHC46-2015.08.19-14.47.51_MD585_2_0137/MD585-IHC46-2015.08.19-14.47.51_MD585_2_0137_blobMaskCenters.bp\n",
      "MD585-N46-2015.07.16-22.45.37_MD585_3_0138\n",
      "move: s3://mousebrainatlas-data/CSHL_cells_v2/detected_cells/MD585/MD585-N46-2015.07.16-22.45.37_MD585_3_0138/MD585-N46-2015.07.16-22.45.37_MD585_3_0138_blobMaskCenters.hdf to s3://mousebrainatlas-data/CSHL_cells_v2/detected_cells/MD585/MD585-N46-2015.07.16-22.45.37_MD585_3_0138/MD585-N46-2015.07.16-22.45.37_MD585_3_0138_blobMaskCenters.bp\n",
      "MD585-IHC46-2015.08.19-14.47.51_MD585_3_0138\n",
      "move: s3://mousebrainatlas-data/CSHL_cells_v2/detected_cells/MD585/MD585-IHC46-2015.08.19-14.47.51_MD585_3_0138/MD585-IHC46-2015.08.19-14.47.51_MD585_3_0138_blobMaskCenters.hdf to s3://mousebrainatlas-data/CSHL_cells_v2/detected_cells/MD585/MD585-IHC46-2015.08.19-14.47.51_MD585_3_0138/MD585-IHC46-2015.08.19-14.47.51_MD585_3_0138_blobMaskCenters.bp\n",
      "MD585-N47-2015.07.16-22.50.52_MD585_1_0139\n",
      "move: s3://mousebrainatlas-data/CSHL_cells_v2/detected_cells/MD585/MD585-N47-2015.07.16-22.50.52_MD585_1_0139/MD585-N47-2015.07.16-22.50.52_MD585_1_0139_blobMaskCenters.hdf to s3://mousebrainatlas-data/CSHL_cells_v2/detected_cells/MD585/MD585-N47-2015.07.16-22.50.52_MD585_1_0139/MD585-N47-2015.07.16-22.50.52_MD585_1_0139_blobMaskCenters.bp\n",
      "MD585-IHC47-2015.08.19-14.53.04_MD585_1_0139\n",
      "move: s3://mousebrainatlas-data/CSHL_cells_v2/detected_cells/MD585/MD585-IHC47-2015.08.19-14.53.04_MD585_1_0139/MD585-IHC47-2015.08.19-14.53.04_MD585_1_0139_blobMaskCenters.hdf to s3://mousebrainatlas-data/CSHL_cells_v2/detected_cells/MD585/MD585-IHC47-2015.08.19-14.53.04_MD585_1_0139/MD585-IHC47-2015.08.19-14.53.04_MD585_1_0139_blobMaskCenters.bp\n",
      "MD585-N47-2015.07.16-22.50.52_MD585_2_0140\n",
      "move: s3://mousebrainatlas-data/CSHL_cells_v2/detected_cells/MD585/MD585-N47-2015.07.16-22.50.52_MD585_2_0140/MD585-N47-2015.07.16-22.50.52_MD585_2_0140_blobMaskCenters.hdf to s3://mousebrainatlas-data/CSHL_cells_v2/detected_cells/MD585/MD585-N47-2015.07.16-22.50.52_MD585_2_0140/MD585-N47-2015.07.16-22.50.52_MD585_2_0140_blobMaskCenters.bp\n",
      "MD585-IHC47-2015.08.19-14.53.04_MD585_2_0140\n",
      "move: s3://mousebrainatlas-data/CSHL_cells_v2/detected_cells/MD585/MD585-IHC47-2015.08.19-14.53.04_MD585_2_0140/MD585-IHC47-2015.08.19-14.53.04_MD585_2_0140_blobMaskCenters.hdf to s3://mousebrainatlas-data/CSHL_cells_v2/detected_cells/MD585/MD585-IHC47-2015.08.19-14.53.04_MD585_2_0140/MD585-IHC47-2015.08.19-14.53.04_MD585_2_0140_blobMaskCenters.bp\n",
      "MD585-N47-2015.07.16-22.50.52_MD585_3_0141\n",
      "move: s3://mousebrainatlas-data/CSHL_cells_v2/detected_cells/MD585/MD585-N47-2015.07.16-22.50.52_MD585_3_0141/MD585-N47-2015.07.16-22.50.52_MD585_3_0141_blobMaskCenters.hdf to s3://mousebrainatlas-data/CSHL_cells_v2/detected_cells/MD585/MD585-N47-2015.07.16-22.50.52_MD585_3_0141/MD585-N47-2015.07.16-22.50.52_MD585_3_0141_blobMaskCenters.bp\n",
      "MD585-IHC47-2015.08.19-14.53.04_MD585_3_0141\n",
      "move: s3://mousebrainatlas-data/CSHL_cells_v2/detected_cells/MD585/MD585-IHC47-2015.08.19-14.53.04_MD585_3_0141/MD585-IHC47-2015.08.19-14.53.04_MD585_3_0141_blobMaskCenters.hdf to s3://mousebrainatlas-data/CSHL_cells_v2/detected_cells/MD585/MD585-IHC47-2015.08.19-14.53.04_MD585_3_0141/MD585-IHC47-2015.08.19-14.53.04_MD585_3_0141_blobMaskCenters.bp\n",
      "MD585-N48-2015.07.16-22.56.02_MD585_1_0142\n",
      "move: s3://mousebrainatlas-data/CSHL_cells_v2/detected_cells/MD585/MD585-N48-2015.07.16-22.56.02_MD585_1_0142/MD585-N48-2015.07.16-22.56.02_MD585_1_0142_blobMaskCenters.hdf to s3://mousebrainatlas-data/CSHL_cells_v2/detected_cells/MD585/MD585-N48-2015.07.16-22.56.02_MD585_1_0142/MD585-N48-2015.07.16-22.56.02_MD585_1_0142_blobMaskCenters.bp\n",
      "MD585-IHC48-2015.08.19-14.58.14_MD585_1_0142\n",
      "move: s3://mousebrainatlas-data/CSHL_cells_v2/detected_cells/MD585/MD585-IHC48-2015.08.19-14.58.14_MD585_1_0142/MD585-IHC48-2015.08.19-14.58.14_MD585_1_0142_blobMaskCenters.hdf to s3://mousebrainatlas-data/CSHL_cells_v2/detected_cells/MD585/MD585-IHC48-2015.08.19-14.58.14_MD585_1_0142/MD585-IHC48-2015.08.19-14.58.14_MD585_1_0142_blobMaskCenters.bp\n",
      "MD585-N48-2015.07.16-22.56.02_MD585_2_0143\n",
      "move: s3://mousebrainatlas-data/CSHL_cells_v2/detected_cells/MD585/MD585-N48-2015.07.16-22.56.02_MD585_2_0143/MD585-N48-2015.07.16-22.56.02_MD585_2_0143_blobMaskCenters.hdf to s3://mousebrainatlas-data/CSHL_cells_v2/detected_cells/MD585/MD585-N48-2015.07.16-22.56.02_MD585_2_0143/MD585-N48-2015.07.16-22.56.02_MD585_2_0143_blobMaskCenters.bp\n",
      "MD585-IHC48-2015.08.19-14.58.14_MD585_2_0143\n",
      "move: s3://mousebrainatlas-data/CSHL_cells_v2/detected_cells/MD585/MD585-IHC48-2015.08.19-14.58.14_MD585_2_0143/MD585-IHC48-2015.08.19-14.58.14_MD585_2_0143_blobMaskCenters.hdf to s3://mousebrainatlas-data/CSHL_cells_v2/detected_cells/MD585/MD585-IHC48-2015.08.19-14.58.14_MD585_2_0143/MD585-IHC48-2015.08.19-14.58.14_MD585_2_0143_blobMaskCenters.bp\n",
      "MD585-N48-2015.07.16-22.56.02_MD585_3_0144\n",
      "move: s3://mousebrainatlas-data/CSHL_cells_v2/detected_cells/MD585/MD585-N48-2015.07.16-22.56.02_MD585_3_0144/MD585-N48-2015.07.16-22.56.02_MD585_3_0144_blobMaskCenters.hdf to s3://mousebrainatlas-data/CSHL_cells_v2/detected_cells/MD585/MD585-N48-2015.07.16-22.56.02_MD585_3_0144/MD585-N48-2015.07.16-22.56.02_MD585_3_0144_blobMaskCenters.bp\n",
      "MD585-IHC48-2015.08.19-14.58.14_MD585_3_0144\n"
     ]
    },
    {
     "name": "stdout",
     "output_type": "stream",
     "text": [
      "move: s3://mousebrainatlas-data/CSHL_cells_v2/detected_cells/MD585/MD585-IHC48-2015.08.19-14.58.14_MD585_3_0144/MD585-IHC48-2015.08.19-14.58.14_MD585_3_0144_blobMaskCenters.hdf to s3://mousebrainatlas-data/CSHL_cells_v2/detected_cells/MD585/MD585-IHC48-2015.08.19-14.58.14_MD585_3_0144/MD585-IHC48-2015.08.19-14.58.14_MD585_3_0144_blobMaskCenters.bp\n",
      "MD585-N49-2015.07.16-23.01.02_MD585_1_0145\n",
      "move: s3://mousebrainatlas-data/CSHL_cells_v2/detected_cells/MD585/MD585-N49-2015.07.16-23.01.02_MD585_1_0145/MD585-N49-2015.07.16-23.01.02_MD585_1_0145_blobMaskCenters.hdf to s3://mousebrainatlas-data/CSHL_cells_v2/detected_cells/MD585/MD585-N49-2015.07.16-23.01.02_MD585_1_0145/MD585-N49-2015.07.16-23.01.02_MD585_1_0145_blobMaskCenters.bp\n",
      "MD585-IHC49-2015.07.16-17.58.21_MD585_3_0147\n",
      "move: s3://mousebrainatlas-data/CSHL_cells_v2/detected_cells/MD585/MD585-IHC49-2015.07.16-17.58.21_MD585_3_0147/MD585-IHC49-2015.07.16-17.58.21_MD585_3_0147_blobMaskCenters.hdf to s3://mousebrainatlas-data/CSHL_cells_v2/detected_cells/MD585/MD585-IHC49-2015.07.16-17.58.21_MD585_3_0147/MD585-IHC49-2015.07.16-17.58.21_MD585_3_0147_blobMaskCenters.bp\n",
      "MD585-N49-2015.07.16-23.01.02_MD585_2_0146\n",
      "move: s3://mousebrainatlas-data/CSHL_cells_v2/detected_cells/MD585/MD585-N49-2015.07.16-23.01.02_MD585_2_0146/MD585-N49-2015.07.16-23.01.02_MD585_2_0146_blobMaskCenters.hdf to s3://mousebrainatlas-data/CSHL_cells_v2/detected_cells/MD585/MD585-N49-2015.07.16-23.01.02_MD585_2_0146/MD585-N49-2015.07.16-23.01.02_MD585_2_0146_blobMaskCenters.bp\n",
      "MD585-IHC49-2015.07.16-17.58.21_MD585_2_0146\n",
      "move: s3://mousebrainatlas-data/CSHL_cells_v2/detected_cells/MD585/MD585-IHC49-2015.07.16-17.58.21_MD585_2_0146/MD585-IHC49-2015.07.16-17.58.21_MD585_2_0146_blobMaskCenters.hdf to s3://mousebrainatlas-data/CSHL_cells_v2/detected_cells/MD585/MD585-IHC49-2015.07.16-17.58.21_MD585_2_0146/MD585-IHC49-2015.07.16-17.58.21_MD585_2_0146_blobMaskCenters.bp\n",
      "MD585-N49-2015.07.16-23.01.02_MD585_3_0147\n",
      "move: s3://mousebrainatlas-data/CSHL_cells_v2/detected_cells/MD585/MD585-N49-2015.07.16-23.01.02_MD585_3_0147/MD585-N49-2015.07.16-23.01.02_MD585_3_0147_blobMaskCenters.hdf to s3://mousebrainatlas-data/CSHL_cells_v2/detected_cells/MD585/MD585-N49-2015.07.16-23.01.02_MD585_3_0147/MD585-N49-2015.07.16-23.01.02_MD585_3_0147_blobMaskCenters.bp\n",
      "MD585-IHC49-2015.07.16-17.58.21_MD585_1_0145\n",
      "move: s3://mousebrainatlas-data/CSHL_cells_v2/detected_cells/MD585/MD585-IHC49-2015.07.16-17.58.21_MD585_1_0145/MD585-IHC49-2015.07.16-17.58.21_MD585_1_0145_blobMaskCenters.hdf to s3://mousebrainatlas-data/CSHL_cells_v2/detected_cells/MD585/MD585-IHC49-2015.07.16-17.58.21_MD585_1_0145/MD585-IHC49-2015.07.16-17.58.21_MD585_1_0145_blobMaskCenters.bp\n",
      "MD585-N50-2015.07.16-23.05.49_MD585_1_0148\n",
      "move: s3://mousebrainatlas-data/CSHL_cells_v2/detected_cells/MD585/MD585-N50-2015.07.16-23.05.49_MD585_1_0148/MD585-N50-2015.07.16-23.05.49_MD585_1_0148_blobMaskCenters.hdf to s3://mousebrainatlas-data/CSHL_cells_v2/detected_cells/MD585/MD585-N50-2015.07.16-23.05.49_MD585_1_0148/MD585-N50-2015.07.16-23.05.49_MD585_1_0148_blobMaskCenters.bp\n",
      "MD585-IHC50-2015.07.16-18.02.54_MD585_3_0150\n",
      "move: s3://mousebrainatlas-data/CSHL_cells_v2/detected_cells/MD585/MD585-IHC50-2015.07.16-18.02.54_MD585_3_0150/MD585-IHC50-2015.07.16-18.02.54_MD585_3_0150_blobMaskCenters.hdf to s3://mousebrainatlas-data/CSHL_cells_v2/detected_cells/MD585/MD585-IHC50-2015.07.16-18.02.54_MD585_3_0150/MD585-IHC50-2015.07.16-18.02.54_MD585_3_0150_blobMaskCenters.bp\n",
      "MD585-N50-2015.07.16-23.05.49_MD585_2_0149\n",
      "move: s3://mousebrainatlas-data/CSHL_cells_v2/detected_cells/MD585/MD585-N50-2015.07.16-23.05.49_MD585_2_0149/MD585-N50-2015.07.16-23.05.49_MD585_2_0149_blobMaskCenters.hdf to s3://mousebrainatlas-data/CSHL_cells_v2/detected_cells/MD585/MD585-N50-2015.07.16-23.05.49_MD585_2_0149/MD585-N50-2015.07.16-23.05.49_MD585_2_0149_blobMaskCenters.bp\n",
      "MD585-IHC50-2015.07.16-18.02.54_MD585_2_0149\n",
      "move: s3://mousebrainatlas-data/CSHL_cells_v2/detected_cells/MD585/MD585-IHC50-2015.07.16-18.02.54_MD585_2_0149/MD585-IHC50-2015.07.16-18.02.54_MD585_2_0149_blobMaskCenters.hdf to s3://mousebrainatlas-data/CSHL_cells_v2/detected_cells/MD585/MD585-IHC50-2015.07.16-18.02.54_MD585_2_0149/MD585-IHC50-2015.07.16-18.02.54_MD585_2_0149_blobMaskCenters.bp\n",
      "MD585-N50-2015.07.16-23.05.49_MD585_3_0150\n",
      "move: s3://mousebrainatlas-data/CSHL_cells_v2/detected_cells/MD585/MD585-N50-2015.07.16-23.05.49_MD585_3_0150/MD585-N50-2015.07.16-23.05.49_MD585_3_0150_blobMaskCenters.hdf to s3://mousebrainatlas-data/CSHL_cells_v2/detected_cells/MD585/MD585-N50-2015.07.16-23.05.49_MD585_3_0150/MD585-N50-2015.07.16-23.05.49_MD585_3_0150_blobMaskCenters.bp\n",
      "MD585-IHC50-2015.07.16-18.02.54_MD585_1_0148\n",
      "move: s3://mousebrainatlas-data/CSHL_cells_v2/detected_cells/MD585/MD585-IHC50-2015.07.16-18.02.54_MD585_1_0148/MD585-IHC50-2015.07.16-18.02.54_MD585_1_0148_blobMaskCenters.hdf to s3://mousebrainatlas-data/CSHL_cells_v2/detected_cells/MD585/MD585-IHC50-2015.07.16-18.02.54_MD585_1_0148/MD585-IHC50-2015.07.16-18.02.54_MD585_1_0148_blobMaskCenters.bp\n",
      "MD585-N51-2015.07.16-23.10.35_MD585_1_0151\n",
      "move: s3://mousebrainatlas-data/CSHL_cells_v2/detected_cells/MD585/MD585-N51-2015.07.16-23.10.35_MD585_1_0151/MD585-N51-2015.07.16-23.10.35_MD585_1_0151_blobMaskCenters.hdf to s3://mousebrainatlas-data/CSHL_cells_v2/detected_cells/MD585/MD585-N51-2015.07.16-23.10.35_MD585_1_0151/MD585-N51-2015.07.16-23.10.35_MD585_1_0151_blobMaskCenters.bp\n",
      "MD585-IHC51-2015.08.19-15.03.10_MD585_1_0151\n",
      "move: s3://mousebrainatlas-data/CSHL_cells_v2/detected_cells/MD585/MD585-IHC51-2015.08.19-15.03.10_MD585_1_0151/MD585-IHC51-2015.08.19-15.03.10_MD585_1_0151_blobMaskCenters.hdf to s3://mousebrainatlas-data/CSHL_cells_v2/detected_cells/MD585/MD585-IHC51-2015.08.19-15.03.10_MD585_1_0151/MD585-IHC51-2015.08.19-15.03.10_MD585_1_0151_blobMaskCenters.bp\n",
      "MD585-N51-2015.07.16-23.10.35_MD585_2_0152\n",
      "move: s3://mousebrainatlas-data/CSHL_cells_v2/detected_cells/MD585/MD585-N51-2015.07.16-23.10.35_MD585_2_0152/MD585-N51-2015.07.16-23.10.35_MD585_2_0152_blobMaskCenters.hdf to s3://mousebrainatlas-data/CSHL_cells_v2/detected_cells/MD585/MD585-N51-2015.07.16-23.10.35_MD585_2_0152/MD585-N51-2015.07.16-23.10.35_MD585_2_0152_blobMaskCenters.bp\n",
      "MD585-IHC51-2015.08.19-15.03.10_MD585_2_0152\n",
      "move: s3://mousebrainatlas-data/CSHL_cells_v2/detected_cells/MD585/MD585-IHC51-2015.08.19-15.03.10_MD585_2_0152/MD585-IHC51-2015.08.19-15.03.10_MD585_2_0152_blobMaskCenters.hdf to s3://mousebrainatlas-data/CSHL_cells_v2/detected_cells/MD585/MD585-IHC51-2015.08.19-15.03.10_MD585_2_0152/MD585-IHC51-2015.08.19-15.03.10_MD585_2_0152_blobMaskCenters.bp\n",
      "MD585-N51-2015.07.16-23.10.35_MD585_3_0153\n",
      "move: s3://mousebrainatlas-data/CSHL_cells_v2/detected_cells/MD585/MD585-N51-2015.07.16-23.10.35_MD585_3_0153/MD585-N51-2015.07.16-23.10.35_MD585_3_0153_blobMaskCenters.hdf to s3://mousebrainatlas-data/CSHL_cells_v2/detected_cells/MD585/MD585-N51-2015.07.16-23.10.35_MD585_3_0153/MD585-N51-2015.07.16-23.10.35_MD585_3_0153_blobMaskCenters.bp\n",
      "MD585-IHC51-2015.08.19-15.03.10_MD585_3_0153\n",
      "move: s3://mousebrainatlas-data/CSHL_cells_v2/detected_cells/MD585/MD585-IHC51-2015.08.19-15.03.10_MD585_3_0153/MD585-IHC51-2015.08.19-15.03.10_MD585_3_0153_blobMaskCenters.hdf to s3://mousebrainatlas-data/CSHL_cells_v2/detected_cells/MD585/MD585-IHC51-2015.08.19-15.03.10_MD585_3_0153/MD585-IHC51-2015.08.19-15.03.10_MD585_3_0153_blobMaskCenters.bp\n",
      "MD585-N52-2015.08.19-16.12.22_MD585_1_0154\n",
      "move: s3://mousebrainatlas-data/CSHL_cells_v2/detected_cells/MD585/MD585-N52-2015.08.19-16.12.22_MD585_1_0154/MD585-N52-2015.08.19-16.12.22_MD585_1_0154_blobMaskCenters.hdf to s3://mousebrainatlas-data/CSHL_cells_v2/detected_cells/MD585/MD585-N52-2015.08.19-16.12.22_MD585_1_0154/MD585-N52-2015.08.19-16.12.22_MD585_1_0154_blobMaskCenters.bp\n",
      "MD585-IHC52-2015.08.19-15.07.35_MD585_1_0154\n",
      "move: s3://mousebrainatlas-data/CSHL_cells_v2/detected_cells/MD585/MD585-IHC52-2015.08.19-15.07.35_MD585_1_0154/MD585-IHC52-2015.08.19-15.07.35_MD585_1_0154_blobMaskCenters.hdf to s3://mousebrainatlas-data/CSHL_cells_v2/detected_cells/MD585/MD585-IHC52-2015.08.19-15.07.35_MD585_1_0154/MD585-IHC52-2015.08.19-15.07.35_MD585_1_0154_blobMaskCenters.bp\n",
      "MD585-N52-2015.08.19-16.12.22_MD585_2_0155\n"
     ]
    },
    {
     "name": "stdout",
     "output_type": "stream",
     "text": [
      "move: s3://mousebrainatlas-data/CSHL_cells_v2/detected_cells/MD585/MD585-N52-2015.08.19-16.12.22_MD585_2_0155/MD585-N52-2015.08.19-16.12.22_MD585_2_0155_blobMaskCenters.hdf to s3://mousebrainatlas-data/CSHL_cells_v2/detected_cells/MD585/MD585-N52-2015.08.19-16.12.22_MD585_2_0155/MD585-N52-2015.08.19-16.12.22_MD585_2_0155_blobMaskCenters.bp\n",
      "MD585-IHC52-2015.08.19-15.07.35_MD585_2_0155\n",
      "move: s3://mousebrainatlas-data/CSHL_cells_v2/detected_cells/MD585/MD585-IHC52-2015.08.19-15.07.35_MD585_2_0155/MD585-IHC52-2015.08.19-15.07.35_MD585_2_0155_blobMaskCenters.hdf to s3://mousebrainatlas-data/CSHL_cells_v2/detected_cells/MD585/MD585-IHC52-2015.08.19-15.07.35_MD585_2_0155/MD585-IHC52-2015.08.19-15.07.35_MD585_2_0155_blobMaskCenters.bp\n",
      "MD585-IHC52-2015.08.19-15.07.35_MD585_3_0156\n",
      "move: s3://mousebrainatlas-data/CSHL_cells_v2/detected_cells/MD585/MD585-IHC52-2015.08.19-15.07.35_MD585_3_0156/MD585-IHC52-2015.08.19-15.07.35_MD585_3_0156_blobMaskCenters.hdf to s3://mousebrainatlas-data/CSHL_cells_v2/detected_cells/MD585/MD585-IHC52-2015.08.19-15.07.35_MD585_3_0156/MD585-IHC52-2015.08.19-15.07.35_MD585_3_0156_blobMaskCenters.bp\n",
      "MD585-N53-2015.08.19-16.16.47_MD585_1_0157\n",
      "move: s3://mousebrainatlas-data/CSHL_cells_v2/detected_cells/MD585/MD585-N53-2015.08.19-16.16.47_MD585_1_0157/MD585-N53-2015.08.19-16.16.47_MD585_1_0157_blobMaskCenters.hdf to s3://mousebrainatlas-data/CSHL_cells_v2/detected_cells/MD585/MD585-N53-2015.08.19-16.16.47_MD585_1_0157/MD585-N53-2015.08.19-16.16.47_MD585_1_0157_blobMaskCenters.bp\n",
      "MD585-IHC53-2015.08.19-15.12.08_MD585_1_0157\n",
      "move: s3://mousebrainatlas-data/CSHL_cells_v2/detected_cells/MD585/MD585-IHC53-2015.08.19-15.12.08_MD585_1_0157/MD585-IHC53-2015.08.19-15.12.08_MD585_1_0157_blobMaskCenters.hdf to s3://mousebrainatlas-data/CSHL_cells_v2/detected_cells/MD585/MD585-IHC53-2015.08.19-15.12.08_MD585_1_0157/MD585-IHC53-2015.08.19-15.12.08_MD585_1_0157_blobMaskCenters.bp\n",
      "MD585-N53-2015.08.19-16.16.47_MD585_2_0158\n",
      "move: s3://mousebrainatlas-data/CSHL_cells_v2/detected_cells/MD585/MD585-N53-2015.08.19-16.16.47_MD585_2_0158/MD585-N53-2015.08.19-16.16.47_MD585_2_0158_blobMaskCenters.hdf to s3://mousebrainatlas-data/CSHL_cells_v2/detected_cells/MD585/MD585-N53-2015.08.19-16.16.47_MD585_2_0158/MD585-N53-2015.08.19-16.16.47_MD585_2_0158_blobMaskCenters.bp\n",
      "MD585-IHC53-2015.08.19-15.12.08_MD585_2_0158\n",
      "move: s3://mousebrainatlas-data/CSHL_cells_v2/detected_cells/MD585/MD585-IHC53-2015.08.19-15.12.08_MD585_2_0158/MD585-IHC53-2015.08.19-15.12.08_MD585_2_0158_blobMaskCenters.hdf to s3://mousebrainatlas-data/CSHL_cells_v2/detected_cells/MD585/MD585-IHC53-2015.08.19-15.12.08_MD585_2_0158/MD585-IHC53-2015.08.19-15.12.08_MD585_2_0158_blobMaskCenters.bp\n",
      "MD585-N53-2015.08.19-16.16.47_MD585_3_0159\n",
      "move: s3://mousebrainatlas-data/CSHL_cells_v2/detected_cells/MD585/MD585-N53-2015.08.19-16.16.47_MD585_3_0159/MD585-N53-2015.08.19-16.16.47_MD585_3_0159_blobMaskCenters.hdf to s3://mousebrainatlas-data/CSHL_cells_v2/detected_cells/MD585/MD585-N53-2015.08.19-16.16.47_MD585_3_0159/MD585-N53-2015.08.19-16.16.47_MD585_3_0159_blobMaskCenters.bp\n",
      "MD585-IHC53-2015.08.19-15.12.08_MD585_3_0159\n",
      "move: s3://mousebrainatlas-data/CSHL_cells_v2/detected_cells/MD585/MD585-IHC53-2015.08.19-15.12.08_MD585_3_0159/MD585-IHC53-2015.08.19-15.12.08_MD585_3_0159_blobMaskCenters.hdf to s3://mousebrainatlas-data/CSHL_cells_v2/detected_cells/MD585/MD585-IHC53-2015.08.19-15.12.08_MD585_3_0159/MD585-IHC53-2015.08.19-15.12.08_MD585_3_0159_blobMaskCenters.bp\n",
      "MD585-N54-2015.08.19-16.21.14_MD585_1_0160\n",
      "move: s3://mousebrainatlas-data/CSHL_cells_v2/detected_cells/MD585/MD585-N54-2015.08.19-16.21.14_MD585_1_0160/MD585-N54-2015.08.19-16.21.14_MD585_1_0160_blobMaskCenters.hdf to s3://mousebrainatlas-data/CSHL_cells_v2/detected_cells/MD585/MD585-N54-2015.08.19-16.21.14_MD585_1_0160/MD585-N54-2015.08.19-16.21.14_MD585_1_0160_blobMaskCenters.bp\n",
      "MD585-IHC54-2015.08.19-15.16.31_MD585_1_0160\n",
      "move: s3://mousebrainatlas-data/CSHL_cells_v2/detected_cells/MD585/MD585-IHC54-2015.08.19-15.16.31_MD585_1_0160/MD585-IHC54-2015.08.19-15.16.31_MD585_1_0160_blobMaskCenters.hdf to s3://mousebrainatlas-data/CSHL_cells_v2/detected_cells/MD585/MD585-IHC54-2015.08.19-15.16.31_MD585_1_0160/MD585-IHC54-2015.08.19-15.16.31_MD585_1_0160_blobMaskCenters.bp\n",
      "MD585-N54-2015.08.19-16.21.14_MD585_2_0161\n",
      "move: s3://mousebrainatlas-data/CSHL_cells_v2/detected_cells/MD585/MD585-N54-2015.08.19-16.21.14_MD585_2_0161/MD585-N54-2015.08.19-16.21.14_MD585_2_0161_blobMaskCenters.hdf to s3://mousebrainatlas-data/CSHL_cells_v2/detected_cells/MD585/MD585-N54-2015.08.19-16.21.14_MD585_2_0161/MD585-N54-2015.08.19-16.21.14_MD585_2_0161_blobMaskCenters.bp\n",
      "MD585-IHC54-2015.08.19-15.16.31_MD585_2_0161\n",
      "move: s3://mousebrainatlas-data/CSHL_cells_v2/detected_cells/MD585/MD585-IHC54-2015.08.19-15.16.31_MD585_2_0161/MD585-IHC54-2015.08.19-15.16.31_MD585_2_0161_blobMaskCenters.hdf to s3://mousebrainatlas-data/CSHL_cells_v2/detected_cells/MD585/MD585-IHC54-2015.08.19-15.16.31_MD585_2_0161/MD585-IHC54-2015.08.19-15.16.31_MD585_2_0161_blobMaskCenters.bp\n",
      "MD585-N54-2015.08.19-16.21.14_MD585_3_0162\n",
      "move: s3://mousebrainatlas-data/CSHL_cells_v2/detected_cells/MD585/MD585-N54-2015.08.19-16.21.14_MD585_3_0162/MD585-N54-2015.08.19-16.21.14_MD585_3_0162_blobMaskCenters.hdf to s3://mousebrainatlas-data/CSHL_cells_v2/detected_cells/MD585/MD585-N54-2015.08.19-16.21.14_MD585_3_0162/MD585-N54-2015.08.19-16.21.14_MD585_3_0162_blobMaskCenters.bp\n",
      "MD585-IHC54-2015.08.19-15.16.31_MD585_3_0162\n",
      "move: s3://mousebrainatlas-data/CSHL_cells_v2/detected_cells/MD585/MD585-IHC54-2015.08.19-15.16.31_MD585_3_0162/MD585-IHC54-2015.08.19-15.16.31_MD585_3_0162_blobMaskCenters.hdf to s3://mousebrainatlas-data/CSHL_cells_v2/detected_cells/MD585/MD585-IHC54-2015.08.19-15.16.31_MD585_3_0162/MD585-IHC54-2015.08.19-15.16.31_MD585_3_0162_blobMaskCenters.bp\n",
      "MD585-N55-2015.08.19-16.25.32_MD585_1_0163\n",
      "move: s3://mousebrainatlas-data/CSHL_cells_v2/detected_cells/MD585/MD585-N55-2015.08.19-16.25.32_MD585_1_0163/MD585-N55-2015.08.19-16.25.32_MD585_1_0163_blobMaskCenters.hdf to s3://mousebrainatlas-data/CSHL_cells_v2/detected_cells/MD585/MD585-N55-2015.08.19-16.25.32_MD585_1_0163/MD585-N55-2015.08.19-16.25.32_MD585_1_0163_blobMaskCenters.bp\n",
      "MD585-IHC55-2015.08.19-15.21.01_MD585_1_0163\n",
      "move: s3://mousebrainatlas-data/CSHL_cells_v2/detected_cells/MD585/MD585-IHC55-2015.08.19-15.21.01_MD585_1_0163/MD585-IHC55-2015.08.19-15.21.01_MD585_1_0163_blobMaskCenters.hdf to s3://mousebrainatlas-data/CSHL_cells_v2/detected_cells/MD585/MD585-IHC55-2015.08.19-15.21.01_MD585_1_0163/MD585-IHC55-2015.08.19-15.21.01_MD585_1_0163_blobMaskCenters.bp\n",
      "MD585-N55-2015.08.19-16.25.32_MD585_2_0164\n",
      "move: s3://mousebrainatlas-data/CSHL_cells_v2/detected_cells/MD585/MD585-N55-2015.08.19-16.25.32_MD585_2_0164/MD585-N55-2015.08.19-16.25.32_MD585_2_0164_blobMaskCenters.hdf to s3://mousebrainatlas-data/CSHL_cells_v2/detected_cells/MD585/MD585-N55-2015.08.19-16.25.32_MD585_2_0164/MD585-N55-2015.08.19-16.25.32_MD585_2_0164_blobMaskCenters.bp\n",
      "MD585-IHC55-2015.08.19-15.21.01_MD585_2_0164\n",
      "move: s3://mousebrainatlas-data/CSHL_cells_v2/detected_cells/MD585/MD585-IHC55-2015.08.19-15.21.01_MD585_2_0164/MD585-IHC55-2015.08.19-15.21.01_MD585_2_0164_blobMaskCenters.hdf to s3://mousebrainatlas-data/CSHL_cells_v2/detected_cells/MD585/MD585-IHC55-2015.08.19-15.21.01_MD585_2_0164/MD585-IHC55-2015.08.19-15.21.01_MD585_2_0164_blobMaskCenters.bp\n",
      "MD585-N55-2015.08.19-16.25.32_MD585_3_0165\n",
      "move: s3://mousebrainatlas-data/CSHL_cells_v2/detected_cells/MD585/MD585-N55-2015.08.19-16.25.32_MD585_3_0165/MD585-N55-2015.08.19-16.25.32_MD585_3_0165_blobMaskCenters.hdf to s3://mousebrainatlas-data/CSHL_cells_v2/detected_cells/MD585/MD585-N55-2015.08.19-16.25.32_MD585_3_0165/MD585-N55-2015.08.19-16.25.32_MD585_3_0165_blobMaskCenters.bp\n",
      "MD585-IHC55-2015.08.19-15.21.01_MD585_3_0165\n",
      "move: s3://mousebrainatlas-data/CSHL_cells_v2/detected_cells/MD585/MD585-IHC55-2015.08.19-15.21.01_MD585_3_0165/MD585-IHC55-2015.08.19-15.21.01_MD585_3_0165_blobMaskCenters.hdf to s3://mousebrainatlas-data/CSHL_cells_v2/detected_cells/MD585/MD585-IHC55-2015.08.19-15.21.01_MD585_3_0165/MD585-IHC55-2015.08.19-15.21.01_MD585_3_0165_blobMaskCenters.bp\n",
      "MD585-N56-2015.07.16-23.31.53_MD585_1_0166\n"
     ]
    },
    {
     "name": "stdout",
     "output_type": "stream",
     "text": [
      "move: s3://mousebrainatlas-data/CSHL_cells_v2/detected_cells/MD585/MD585-N56-2015.07.16-23.31.53_MD585_1_0166/MD585-N56-2015.07.16-23.31.53_MD585_1_0166_blobMaskCenters.hdf to s3://mousebrainatlas-data/CSHL_cells_v2/detected_cells/MD585/MD585-N56-2015.07.16-23.31.53_MD585_1_0166/MD585-N56-2015.07.16-23.31.53_MD585_1_0166_blobMaskCenters.bp\n",
      "MD585-IHC56-2015.07.16-18.29.48_MD585_1_0166\n",
      "move: s3://mousebrainatlas-data/CSHL_cells_v2/detected_cells/MD585/MD585-IHC56-2015.07.16-18.29.48_MD585_1_0166/MD585-IHC56-2015.07.16-18.29.48_MD585_1_0166_blobMaskCenters.hdf to s3://mousebrainatlas-data/CSHL_cells_v2/detected_cells/MD585/MD585-IHC56-2015.07.16-18.29.48_MD585_1_0166/MD585-IHC56-2015.07.16-18.29.48_MD585_1_0166_blobMaskCenters.bp\n",
      "MD585-N56-2015.07.16-23.31.53_MD585_2_0167\n",
      "move: s3://mousebrainatlas-data/CSHL_cells_v2/detected_cells/MD585/MD585-N56-2015.07.16-23.31.53_MD585_2_0167/MD585-N56-2015.07.16-23.31.53_MD585_2_0167_blobMaskCenters.hdf to s3://mousebrainatlas-data/CSHL_cells_v2/detected_cells/MD585/MD585-N56-2015.07.16-23.31.53_MD585_2_0167/MD585-N56-2015.07.16-23.31.53_MD585_2_0167_blobMaskCenters.bp\n",
      "MD585-IHC56-2015.07.16-18.29.48_MD585_2_0167\n",
      "move: s3://mousebrainatlas-data/CSHL_cells_v2/detected_cells/MD585/MD585-IHC56-2015.07.16-18.29.48_MD585_2_0167/MD585-IHC56-2015.07.16-18.29.48_MD585_2_0167_blobMaskCenters.hdf to s3://mousebrainatlas-data/CSHL_cells_v2/detected_cells/MD585/MD585-IHC56-2015.07.16-18.29.48_MD585_2_0167/MD585-IHC56-2015.07.16-18.29.48_MD585_2_0167_blobMaskCenters.bp\n",
      "MD585-N56-2015.07.16-23.31.53_MD585_3_0168\n",
      "move: s3://mousebrainatlas-data/CSHL_cells_v2/detected_cells/MD585/MD585-N56-2015.07.16-23.31.53_MD585_3_0168/MD585-N56-2015.07.16-23.31.53_MD585_3_0168_blobMaskCenters.hdf to s3://mousebrainatlas-data/CSHL_cells_v2/detected_cells/MD585/MD585-N56-2015.07.16-23.31.53_MD585_3_0168/MD585-N56-2015.07.16-23.31.53_MD585_3_0168_blobMaskCenters.bp\n",
      "MD585-IHC56-2015.07.16-18.29.48_MD585_3_0168\n",
      "move: s3://mousebrainatlas-data/CSHL_cells_v2/detected_cells/MD585/MD585-IHC56-2015.07.16-18.29.48_MD585_3_0168/MD585-IHC56-2015.07.16-18.29.48_MD585_3_0168_blobMaskCenters.hdf to s3://mousebrainatlas-data/CSHL_cells_v2/detected_cells/MD585/MD585-IHC56-2015.07.16-18.29.48_MD585_3_0168/MD585-IHC56-2015.07.16-18.29.48_MD585_3_0168_blobMaskCenters.bp\n",
      "MD585-N57-2015.07.16-23.36.08_MD585_1_0169\n",
      "move: s3://mousebrainatlas-data/CSHL_cells_v2/detected_cells/MD585/MD585-N57-2015.07.16-23.36.08_MD585_1_0169/MD585-N57-2015.07.16-23.36.08_MD585_1_0169_blobMaskCenters.hdf to s3://mousebrainatlas-data/CSHL_cells_v2/detected_cells/MD585/MD585-N57-2015.07.16-23.36.08_MD585_1_0169/MD585-N57-2015.07.16-23.36.08_MD585_1_0169_blobMaskCenters.bp\n",
      "MD585-IHC57-2015.07.16-18.33.52_MD585_1_0169\n",
      "move: s3://mousebrainatlas-data/CSHL_cells_v2/detected_cells/MD585/MD585-IHC57-2015.07.16-18.33.52_MD585_1_0169/MD585-IHC57-2015.07.16-18.33.52_MD585_1_0169_blobMaskCenters.hdf to s3://mousebrainatlas-data/CSHL_cells_v2/detected_cells/MD585/MD585-IHC57-2015.07.16-18.33.52_MD585_1_0169/MD585-IHC57-2015.07.16-18.33.52_MD585_1_0169_blobMaskCenters.bp\n",
      "MD585-N57-2015.07.16-23.36.08_MD585_2_0170\n",
      "move: s3://mousebrainatlas-data/CSHL_cells_v2/detected_cells/MD585/MD585-N57-2015.07.16-23.36.08_MD585_2_0170/MD585-N57-2015.07.16-23.36.08_MD585_2_0170_blobMaskCenters.hdf to s3://mousebrainatlas-data/CSHL_cells_v2/detected_cells/MD585/MD585-N57-2015.07.16-23.36.08_MD585_2_0170/MD585-N57-2015.07.16-23.36.08_MD585_2_0170_blobMaskCenters.bp\n",
      "MD585-IHC57-2015.07.16-18.33.52_MD585_2_0170\n",
      "move: s3://mousebrainatlas-data/CSHL_cells_v2/detected_cells/MD585/MD585-IHC57-2015.07.16-18.33.52_MD585_2_0170/MD585-IHC57-2015.07.16-18.33.52_MD585_2_0170_blobMaskCenters.hdf to s3://mousebrainatlas-data/CSHL_cells_v2/detected_cells/MD585/MD585-IHC57-2015.07.16-18.33.52_MD585_2_0170/MD585-IHC57-2015.07.16-18.33.52_MD585_2_0170_blobMaskCenters.bp\n",
      "MD585-N57-2015.07.16-23.36.08_MD585_3_0171\n",
      "move: s3://mousebrainatlas-data/CSHL_cells_v2/detected_cells/MD585/MD585-N57-2015.07.16-23.36.08_MD585_3_0171/MD585-N57-2015.07.16-23.36.08_MD585_3_0171_blobMaskCenters.hdf to s3://mousebrainatlas-data/CSHL_cells_v2/detected_cells/MD585/MD585-N57-2015.07.16-23.36.08_MD585_3_0171/MD585-N57-2015.07.16-23.36.08_MD585_3_0171_blobMaskCenters.bp\n",
      "MD585-IHC57-2015.07.16-18.33.52_MD585_3_0171\n",
      "move: s3://mousebrainatlas-data/CSHL_cells_v2/detected_cells/MD585/MD585-IHC57-2015.07.16-18.33.52_MD585_3_0171/MD585-IHC57-2015.07.16-18.33.52_MD585_3_0171_blobMaskCenters.hdf to s3://mousebrainatlas-data/CSHL_cells_v2/detected_cells/MD585/MD585-IHC57-2015.07.16-18.33.52_MD585_3_0171/MD585-IHC57-2015.07.16-18.33.52_MD585_3_0171_blobMaskCenters.bp\n",
      "MD585-N58-2015.07.16-23.40.18_MD585_1_0172\n",
      "move: s3://mousebrainatlas-data/CSHL_cells_v2/detected_cells/MD585/MD585-N58-2015.07.16-23.40.18_MD585_1_0172/MD585-N58-2015.07.16-23.40.18_MD585_1_0172_blobMaskCenters.hdf to s3://mousebrainatlas-data/CSHL_cells_v2/detected_cells/MD585/MD585-N58-2015.07.16-23.40.18_MD585_1_0172/MD585-N58-2015.07.16-23.40.18_MD585_1_0172_blobMaskCenters.bp\n",
      "MD585-IHC58-2015.07.16-18.38.08_MD585_1_0172\n",
      "move: s3://mousebrainatlas-data/CSHL_cells_v2/detected_cells/MD585/MD585-IHC58-2015.07.16-18.38.08_MD585_1_0172/MD585-IHC58-2015.07.16-18.38.08_MD585_1_0172_blobMaskCenters.hdf to s3://mousebrainatlas-data/CSHL_cells_v2/detected_cells/MD585/MD585-IHC58-2015.07.16-18.38.08_MD585_1_0172/MD585-IHC58-2015.07.16-18.38.08_MD585_1_0172_blobMaskCenters.bp\n",
      "MD585-N58-2015.07.16-23.40.18_MD585_2_0173\n",
      "move: s3://mousebrainatlas-data/CSHL_cells_v2/detected_cells/MD585/MD585-N58-2015.07.16-23.40.18_MD585_2_0173/MD585-N58-2015.07.16-23.40.18_MD585_2_0173_blobMaskCenters.hdf to s3://mousebrainatlas-data/CSHL_cells_v2/detected_cells/MD585/MD585-N58-2015.07.16-23.40.18_MD585_2_0173/MD585-N58-2015.07.16-23.40.18_MD585_2_0173_blobMaskCenters.bp\n",
      "MD585-IHC58-2015.07.16-18.38.08_MD585_2_0173\n",
      "move: s3://mousebrainatlas-data/CSHL_cells_v2/detected_cells/MD585/MD585-IHC58-2015.07.16-18.38.08_MD585_2_0173/MD585-IHC58-2015.07.16-18.38.08_MD585_2_0173_blobMaskCenters.hdf to s3://mousebrainatlas-data/CSHL_cells_v2/detected_cells/MD585/MD585-IHC58-2015.07.16-18.38.08_MD585_2_0173/MD585-IHC58-2015.07.16-18.38.08_MD585_2_0173_blobMaskCenters.bp\n",
      "MD585-N58-2015.07.16-23.40.18_MD585_3_0174\n",
      "move: s3://mousebrainatlas-data/CSHL_cells_v2/detected_cells/MD585/MD585-N58-2015.07.16-23.40.18_MD585_3_0174/MD585-N58-2015.07.16-23.40.18_MD585_3_0174_blobMaskCenters.hdf to s3://mousebrainatlas-data/CSHL_cells_v2/detected_cells/MD585/MD585-N58-2015.07.16-23.40.18_MD585_3_0174/MD585-N58-2015.07.16-23.40.18_MD585_3_0174_blobMaskCenters.bp\n",
      "MD585-IHC58-2015.07.16-18.38.08_MD585_3_0174\n",
      "move: s3://mousebrainatlas-data/CSHL_cells_v2/detected_cells/MD585/MD585-IHC58-2015.07.16-18.38.08_MD585_3_0174/MD585-IHC58-2015.07.16-18.38.08_MD585_3_0174_blobMaskCenters.hdf to s3://mousebrainatlas-data/CSHL_cells_v2/detected_cells/MD585/MD585-IHC58-2015.07.16-18.38.08_MD585_3_0174/MD585-IHC58-2015.07.16-18.38.08_MD585_3_0174_blobMaskCenters.bp\n",
      "MD585-N59-2015.07.16-23.44.31_MD585_3_0177\n",
      "move: s3://mousebrainatlas-data/CSHL_cells_v2/detected_cells/MD585/MD585-N59-2015.07.16-23.44.31_MD585_3_0177/MD585-N59-2015.07.16-23.44.31_MD585_3_0177_blobMaskCenters.hdf to s3://mousebrainatlas-data/CSHL_cells_v2/detected_cells/MD585/MD585-N59-2015.07.16-23.44.31_MD585_3_0177/MD585-N59-2015.07.16-23.44.31_MD585_3_0177_blobMaskCenters.bp\n",
      "MD585-IHC59-2015.07.16-18.42.14_MD585_1_0175\n",
      "move: s3://mousebrainatlas-data/CSHL_cells_v2/detected_cells/MD585/MD585-IHC59-2015.07.16-18.42.14_MD585_1_0175/MD585-IHC59-2015.07.16-18.42.14_MD585_1_0175_blobMaskCenters.hdf to s3://mousebrainatlas-data/CSHL_cells_v2/detected_cells/MD585/MD585-IHC59-2015.07.16-18.42.14_MD585_1_0175/MD585-IHC59-2015.07.16-18.42.14_MD585_1_0175_blobMaskCenters.bp\n",
      "MD585-N59-2015.07.16-23.44.31_MD585_2_0176\n",
      "move: s3://mousebrainatlas-data/CSHL_cells_v2/detected_cells/MD585/MD585-N59-2015.07.16-23.44.31_MD585_2_0176/MD585-N59-2015.07.16-23.44.31_MD585_2_0176_blobMaskCenters.hdf to s3://mousebrainatlas-data/CSHL_cells_v2/detected_cells/MD585/MD585-N59-2015.07.16-23.44.31_MD585_2_0176/MD585-N59-2015.07.16-23.44.31_MD585_2_0176_blobMaskCenters.bp\n",
      "MD585-IHC59-2015.07.16-18.42.14_MD585_2_0176\n",
      "move: s3://mousebrainatlas-data/CSHL_cells_v2/detected_cells/MD585/MD585-IHC59-2015.07.16-18.42.14_MD585_2_0176/MD585-IHC59-2015.07.16-18.42.14_MD585_2_0176_blobMaskCenters.hdf to s3://mousebrainatlas-data/CSHL_cells_v2/detected_cells/MD585/MD585-IHC59-2015.07.16-18.42.14_MD585_2_0176/MD585-IHC59-2015.07.16-18.42.14_MD585_2_0176_blobMaskCenters.bp\n"
     ]
    },
    {
     "name": "stdout",
     "output_type": "stream",
     "text": [
      "MD585-N59-2015.07.16-23.44.31_MD585_1_0175\n",
      "move: s3://mousebrainatlas-data/CSHL_cells_v2/detected_cells/MD585/MD585-N59-2015.07.16-23.44.31_MD585_1_0175/MD585-N59-2015.07.16-23.44.31_MD585_1_0175_blobMaskCenters.hdf to s3://mousebrainatlas-data/CSHL_cells_v2/detected_cells/MD585/MD585-N59-2015.07.16-23.44.31_MD585_1_0175/MD585-N59-2015.07.16-23.44.31_MD585_1_0175_blobMaskCenters.bp\n",
      "MD585-IHC59-2015.07.16-18.42.14_MD585_3_0177\n",
      "move: s3://mousebrainatlas-data/CSHL_cells_v2/detected_cells/MD585/MD585-IHC59-2015.07.16-18.42.14_MD585_3_0177/MD585-IHC59-2015.07.16-18.42.14_MD585_3_0177_blobMaskCenters.hdf to s3://mousebrainatlas-data/CSHL_cells_v2/detected_cells/MD585/MD585-IHC59-2015.07.16-18.42.14_MD585_3_0177/MD585-IHC59-2015.07.16-18.42.14_MD585_3_0177_blobMaskCenters.bp\n",
      "MD585-N60-2015.07.16-23.48.44_MD585_1_0178\n",
      "move: s3://mousebrainatlas-data/CSHL_cells_v2/detected_cells/MD585/MD585-N60-2015.07.16-23.48.44_MD585_1_0178/MD585-N60-2015.07.16-23.48.44_MD585_1_0178_blobMaskCenters.hdf to s3://mousebrainatlas-data/CSHL_cells_v2/detected_cells/MD585/MD585-N60-2015.07.16-23.48.44_MD585_1_0178/MD585-N60-2015.07.16-23.48.44_MD585_1_0178_blobMaskCenters.bp\n",
      "MD585-IHC60-2015.08.19-15.25.07_MD585_1_0178\n",
      "move: s3://mousebrainatlas-data/CSHL_cells_v2/detected_cells/MD585/MD585-IHC60-2015.08.19-15.25.07_MD585_1_0178/MD585-IHC60-2015.08.19-15.25.07_MD585_1_0178_blobMaskCenters.hdf to s3://mousebrainatlas-data/CSHL_cells_v2/detected_cells/MD585/MD585-IHC60-2015.08.19-15.25.07_MD585_1_0178/MD585-IHC60-2015.08.19-15.25.07_MD585_1_0178_blobMaskCenters.bp\n",
      "MD585-N60-2015.07.16-23.48.44_MD585_2_0179\n",
      "move: s3://mousebrainatlas-data/CSHL_cells_v2/detected_cells/MD585/MD585-N60-2015.07.16-23.48.44_MD585_2_0179/MD585-N60-2015.07.16-23.48.44_MD585_2_0179_blobMaskCenters.hdf to s3://mousebrainatlas-data/CSHL_cells_v2/detected_cells/MD585/MD585-N60-2015.07.16-23.48.44_MD585_2_0179/MD585-N60-2015.07.16-23.48.44_MD585_2_0179_blobMaskCenters.bp\n",
      "MD585-IHC60-2015.08.19-15.25.07_MD585_2_0179\n",
      "move: s3://mousebrainatlas-data/CSHL_cells_v2/detected_cells/MD585/MD585-IHC60-2015.08.19-15.25.07_MD585_2_0179/MD585-IHC60-2015.08.19-15.25.07_MD585_2_0179_blobMaskCenters.hdf to s3://mousebrainatlas-data/CSHL_cells_v2/detected_cells/MD585/MD585-IHC60-2015.08.19-15.25.07_MD585_2_0179/MD585-IHC60-2015.08.19-15.25.07_MD585_2_0179_blobMaskCenters.bp\n",
      "MD585-N60-2015.07.16-23.48.44_MD585_3_0180\n",
      "move: s3://mousebrainatlas-data/CSHL_cells_v2/detected_cells/MD585/MD585-N60-2015.07.16-23.48.44_MD585_3_0180/MD585-N60-2015.07.16-23.48.44_MD585_3_0180_blobMaskCenters.hdf to s3://mousebrainatlas-data/CSHL_cells_v2/detected_cells/MD585/MD585-N60-2015.07.16-23.48.44_MD585_3_0180/MD585-N60-2015.07.16-23.48.44_MD585_3_0180_blobMaskCenters.bp\n",
      "MD585-IHC60-2015.08.19-15.25.07_MD585_3_0180\n",
      "move: s3://mousebrainatlas-data/CSHL_cells_v2/detected_cells/MD585/MD585-IHC60-2015.08.19-15.25.07_MD585_3_0180/MD585-IHC60-2015.08.19-15.25.07_MD585_3_0180_blobMaskCenters.hdf to s3://mousebrainatlas-data/CSHL_cells_v2/detected_cells/MD585/MD585-IHC60-2015.08.19-15.25.07_MD585_3_0180/MD585-IHC60-2015.08.19-15.25.07_MD585_3_0180_blobMaskCenters.bp\n",
      "MD585-N61-2015.07.16-23.52.50_MD585_1_0181\n",
      "move: s3://mousebrainatlas-data/CSHL_cells_v2/detected_cells/MD585/MD585-N61-2015.07.16-23.52.50_MD585_1_0181/MD585-N61-2015.07.16-23.52.50_MD585_1_0181_blobMaskCenters.hdf to s3://mousebrainatlas-data/CSHL_cells_v2/detected_cells/MD585/MD585-N61-2015.07.16-23.52.50_MD585_1_0181/MD585-N61-2015.07.16-23.52.50_MD585_1_0181_blobMaskCenters.bp\n",
      "MD585-IHC61-2015.07.16-18.50.40_MD585_3_0183\n",
      "move: s3://mousebrainatlas-data/CSHL_cells_v2/detected_cells/MD585/MD585-IHC61-2015.07.16-18.50.40_MD585_3_0183/MD585-IHC61-2015.07.16-18.50.40_MD585_3_0183_blobMaskCenters.hdf to s3://mousebrainatlas-data/CSHL_cells_v2/detected_cells/MD585/MD585-IHC61-2015.07.16-18.50.40_MD585_3_0183/MD585-IHC61-2015.07.16-18.50.40_MD585_3_0183_blobMaskCenters.bp\n",
      "MD585-N61-2015.07.16-23.52.50_MD585_2_0182\n",
      "move: s3://mousebrainatlas-data/CSHL_cells_v2/detected_cells/MD585/MD585-N61-2015.07.16-23.52.50_MD585_2_0182/MD585-N61-2015.07.16-23.52.50_MD585_2_0182_blobMaskCenters.hdf to s3://mousebrainatlas-data/CSHL_cells_v2/detected_cells/MD585/MD585-N61-2015.07.16-23.52.50_MD585_2_0182/MD585-N61-2015.07.16-23.52.50_MD585_2_0182_blobMaskCenters.bp\n",
      "MD585-IHC61-2015.07.16-18.50.40_MD585_2_0182\n",
      "move: s3://mousebrainatlas-data/CSHL_cells_v2/detected_cells/MD585/MD585-IHC61-2015.07.16-18.50.40_MD585_2_0182/MD585-IHC61-2015.07.16-18.50.40_MD585_2_0182_blobMaskCenters.hdf to s3://mousebrainatlas-data/CSHL_cells_v2/detected_cells/MD585/MD585-IHC61-2015.07.16-18.50.40_MD585_2_0182/MD585-IHC61-2015.07.16-18.50.40_MD585_2_0182_blobMaskCenters.bp\n"
     ]
    }
   ],
   "source": [
    "for stack in all_nissl_stacks:\n",
    "# for stack in ['MD585']:\n",
    "\n",
    "    if stack == 'MD585': continue\n",
    "    \n",
    "    _, sections_to_filenames = DataManager.load_sorted_filenames(stack=stack)\n",
    "    valid_filenames = [fn for fn in sections_to_filenames.values() if not is_invalid(fn=fn)]\n",
    "\n",
    "    _, _, _, _, first_sec, last_sec = DataManager.load_cropbox(stack=stack)\n",
    "    first_fn = sections_to_filenames[first_sec]\n",
    "    last_fn = sections_to_filenames[last_sec]\n",
    "    first_idx_among_valid = valid_filenames.index(first_fn)\n",
    "    last_idx_among_valid = valid_filenames.index(last_fn)\n",
    "    \n",
    "    for fn in valid_filenames[first_idx_among_valid:last_idx_among_valid+1]:\n",
    "        print fn\n",
    "        ! aws s3 mv s3://mousebrainatlas-data/CSHL_cells_v2/detected_cells/{stack}/{fn}/{fn}_blobMaskCenters.hdf s3://mousebrainatlas-data/CSHL_cells_v2/detected_cells/{stack}/{fn}/{fn}_blobMaskCenters.bp"
   ]
  },
  {
   "cell_type": "code",
   "execution_count": null,
   "metadata": {
    "collapsed": true
   },
   "outputs": [],
   "source": []
  }
 ],
 "metadata": {
  "kernelspec": {
   "display_name": "Python 2",
   "language": "python",
   "name": "python2"
  },
  "language_info": {
   "codemirror_mode": {
    "name": "ipython",
    "version": 2
   },
   "file_extension": ".py",
   "mimetype": "text/x-python",
   "name": "python",
   "nbconvert_exporter": "python",
   "pygments_lexer": "ipython2",
   "version": "2.7.12"
  }
 },
 "nbformat": 4,
 "nbformat_minor": 2
}
