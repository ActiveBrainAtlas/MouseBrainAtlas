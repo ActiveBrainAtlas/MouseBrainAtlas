{
 "cells": [
  {
   "cell_type": "code",
   "execution_count": 2,
   "metadata": {
    "collapsed": false
   },
   "outputs": [],
   "source": [
    "%reload_ext autoreload\n",
    "%autoreload 2\n",
    "\n",
    "import os\n",
    "import sys\n",
    "import time\n",
    "\n",
    "import matplotlib.pyplot as plt\n",
    "%matplotlib inline\n",
    "from matplotlib.path import Path\n",
    "from multiprocess import Pool\n",
    "\n",
    "from scipy.spatial.kdtree import KDTree\n",
    "from scipy.spatial.distance import cdist, pdist\n",
    "\n",
    "sys.path.append(os.path.join(os.environ['REPO_DIR'], 'utilities'))\n",
    "from utilities2015 import *\n",
    "from data_manager import *\n",
    "from metadata import *\n",
    "from cell_utilities import *\n",
    "from learning_utilities import *"
   ]
  },
  {
   "cell_type": "code",
   "execution_count": 3,
   "metadata": {
    "collapsed": true
   },
   "outputs": [],
   "source": [
    "n_radial = 4\n",
    "# radial_bins = np.logspace(0, 2, 10, base=10)\n",
    "radial_bins = np.linspace(0, 100, n_radial+1)\n",
    "\n",
    "n_angular = 8\n",
    "angular_bins = np.linspace(-np.pi, np.pi, n_angular+1)\n",
    "\n",
    "n_orientation_bins = 10\n",
    "orientation_bins = np.linspace(-np.pi/2, np.pi/2, n_orientation_bins+1)\n",
    "\n",
    "size_bins = np.r_[np.linspace(0, 3000, 10), np.inf]\n",
    "\n",
    "n_edge_length_bins = 10\n",
    "edge_length_bins = np.r_[np.linspace(0, 100, n_edge_length_bins), np.inf]\n",
    "\n",
    "n_edge_direction_bins = 10\n",
    "edge_direction_bins = np.linspace(-np.pi/2, np.pi/2, n_edge_direction_bins+1)"
   ]
  },
  {
   "cell_type": "code",
   "execution_count": 24,
   "metadata": {
    "collapsed": false
   },
   "outputs": [
    {
     "name": "stdout",
     "output_type": "stream",
     "text": [
      "neighborhood_radius = 108.70\n"
     ]
    }
   ],
   "source": [
    "neighborhood_radius_um = 50\n",
    "neighborhood_radius = neighborhood_radius_um / XY_PIXEL_DISTANCE_LOSSLESS\n",
    "print 'neighborhood_radius = %.2f' % neighborhood_radius"
   ]
  },
  {
   "cell_type": "code",
   "execution_count": 39,
   "metadata": {
    "collapsed": false
   },
   "outputs": [
    {
     "name": "stderr",
     "output_type": "stream",
     "text": [
      "Neighbor search: 7.59 seconds\n"
     ]
    }
   ],
   "source": [
    "for stack in ['MD594']:\n",
    "    \n",
    "    first_section, last_section = metadata_cache['section_limits'][stack]\n",
    "    \n",
    "#     for sec in range(first_section, last_section+1):\n",
    "    for sec in [203]:\n",
    "        \n",
    "        cell_centroids = load_cell_data('centroid', stack, sec)\n",
    "\n",
    "        cell_orientations = load_cell_data('orientation', stack, sec)\n",
    "        cell_orientations = np.array(map(normalize_angle, cell_orientations))\n",
    "        \n",
    "        large_cell_indices = load_cell_data('largeCellIndices', stack=stack, sec=sec, ext='bp')\n",
    "        \n",
    "        t = time.time()\n",
    "\n",
    "        tree = KDTree(cell_centroids)\n",
    "        \n",
    "        def get_neighbors(cell_ind):\n",
    "            \"\"\"\n",
    "            Return neighbor cell indices sorted by distance.\n",
    "            \"\"\"\n",
    "            neighbor_cell_indices = np.array(list(set(tree.query_ball_point(cell_centroids[i], r=neighborhood_radius)) - {i}))\n",
    "            if len(neighbor_cell_indices) == 0:\n",
    "                return None\n",
    "            ngbr_vecs = cell_centroids[cell_ind] - cell_centroids[neighbor_cell_indices]\n",
    "            neighbor_distances = np.sqrt(np.sum(ngbr_vecs**2, axis=1))\n",
    "            order = np.argsort(neighbor_distances)\n",
    "            \n",
    "            radial_indices, angular_indices = \\\n",
    "            allocate_radial_angular_bins(ngbr_vecs, cell_orientations[cell_ind],\n",
    "                                         angular_bins=angular_bins, radial_bins=radial_bins)\n",
    "            \n",
    "            return neighbor_cell_indices[order], ngbr_vecs[order], radial_indices[order], angular_indices[order]\n",
    "                \n",
    "        pool = Pool(12)\n",
    "        neighbor_info = pool.map(get_neighbors, large_cell_indices)\n",
    "        pool.terminate()\n",
    "        pool.join()\n",
    "\n",
    "        sys.stderr.write('Neighbor search: %.2f seconds\\n' % (time.time()-t)) # 10 seconds\n",
    "\n",
    "        ##############################\n",
    "\n",
    "#         neighbor_info = {'neighbors': neighbors_sorted_by_distance,\n",
    "#          'neighbor_vectors': neighbor_vectors_sorted_by_distance,\n",
    "#          'radial_indices': radial_indices_all_sorted_by_distance,\n",
    "#          'angular_indices': angular_indices_all_sorted_by_distance\n",
    "#         }\n",
    "\n",
    "#         fp = get_cell_data_filepath(what='neighbor_info', stack=stack, sec=sec, ext='pkl')\n",
    "#         create_parent_dir_if_not_exists(fp)\n",
    "#         save_pickle(neighbor_info, fp)"
   ]
  },
  {
   "cell_type": "code",
   "execution_count": 40,
   "metadata": {
    "collapsed": false
   },
   "outputs": [
    {
     "data": {
      "text/plain": [
       "array([    1,     2,     3, ..., 90680, 90683, 90687])"
      ]
     },
     "execution_count": 40,
     "metadata": {},
     "output_type": "execute_result"
    }
   ],
   "source": [
    "large_cell_indices"
   ]
  },
  {
   "cell_type": "code",
   "execution_count": 41,
   "metadata": {
    "collapsed": false
   },
   "outputs": [],
   "source": [
    "neighbor_info[0]"
   ]
  },
  {
   "cell_type": "code",
   "execution_count": null,
   "metadata": {
    "collapsed": true
   },
   "outputs": [],
   "source": []
  }
 ],
 "metadata": {
  "kernelspec": {
   "display_name": "Python 2",
   "language": "python",
   "name": "python2"
  },
  "language_info": {
   "codemirror_mode": {
    "name": "ipython",
    "version": 2
   },
   "file_extension": ".py",
   "mimetype": "text/x-python",
   "name": "python",
   "nbconvert_exporter": "python",
   "pygments_lexer": "ipython2",
   "version": "2.7.3"
  }
 },
 "nbformat": 4,
 "nbformat_minor": 1
}
