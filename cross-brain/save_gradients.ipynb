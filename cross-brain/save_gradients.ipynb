{
 "cells": [
  {
   "cell_type": "code",
   "execution_count": null,
   "metadata": {
    "collapsed": true
   },
   "outputs": [],
   "source": [
    "%load_ext autoreload\n",
    "%autoreload 2\n",
    "\n",
    "import numpy as np\n",
    "\n",
    "import sys\n",
    "import os\n",
    "\n",
    "sys.path.append(os.environ['REPO_DIR'] + '/utilities')\n",
    "from utilities2015 import *\n",
    "\n",
    "import matplotlib.pyplot as plt\n",
    "%matplotlib inline"
   ]
  },
  {
   "cell_type": "code",
   "execution_count": null,
   "metadata": {
    "collapsed": true
   },
   "outputs": [],
   "source": [
    "labels = ['BackG', '5N', '7n', '7N', '12N', 'Gr', 'LVe', 'Pn', 'SuVe', 'VLL']\n",
    "label_dict = dict([(l,i) for i, l in enumerate(labels)])"
   ]
  },
  {
   "cell_type": "code",
   "execution_count": null,
   "metadata": {
    "collapsed": true
   },
   "outputs": [],
   "source": [
    "volume_dir = '/oasis/projects/nsf/csd395/yuncong/CSHL_volumes/'"
   ]
  },
  {
   "cell_type": "code",
   "execution_count": null,
   "metadata": {
    "collapsed": true
   },
   "outputs": [],
   "source": [
    "# nzs = [np.where(v) for v in volume2_allLabels]\n",
    "# [(np.min(v, axis=1), np.max(v, axis=1)) for v in nzs]\n",
    "\n",
    "volume_xmin, volume_xmax = (399, 1778)\n",
    "volume_ymin, volume_ymax = (567, 1316)"
   ]
  },
  {
   "cell_type": "code",
   "execution_count": null,
   "metadata": {
    "collapsed": false
   },
   "outputs": [],
   "source": [
    "volume2_allLabels = []\n",
    "\n",
    "for l in range(1, 10):\n",
    "#     volume2 = np.load(os.path.join(volume_dir, 'volume_MD594_scoreMap_%(label)d.npz'%{'label': l}))['arr_0']\n",
    "    \n",
    "    volume2 = bp.unpack_ndarray_file(os.path.join(volume_dir, 'volume_MD594_scoreMap_%(label)s.bp' % \\\n",
    "                                                  {'label': labels[l]}))\n",
    "\n",
    "#     volume2[volume2 < 1e-2] = 0\n",
    "    \n",
    "    volume2_cropped = volume2[volume_ymin:volume_ymax+1, volume_xmin:volume_xmax+1].copy()\n",
    "    # copy is important, because then you can delete the large array\n",
    "    \n",
    "    ny2, nx2, nz2 = volume2_cropped.shape\n",
    "    print nx2, ny2, nz2\n",
    "    \n",
    "#     volume2_allLabels.append(volume2[volume_ymin:volume_ymax+1, volume_xmin:volume_xmax+1])\n",
    "\n",
    "    volume2_allLabels.append(volume2_cropped)\n",
    "    \n",
    "    del volume2"
   ]
  },
  {
   "cell_type": "code",
   "execution_count": null,
   "metadata": {
    "collapsed": true
   },
   "outputs": [],
   "source": [
    "import time"
   ]
  },
  {
   "cell_type": "code",
   "execution_count": null,
   "metadata": {
    "collapsed": false
   },
   "outputs": [],
   "source": [
    "for l in range(2, 10):\n",
    "    print labels[l]\n",
    "    \n",
    "    t = time.time()\n",
    "    dSdyxz = np.gradient(volume2_allLabels[l-1], 10, 10, 10)\n",
    "    \n",
    "    for i, p in enumerate(['y', 'x', 'z']):\n",
    "        bp.pack_ndarray_file(dSdyxz[i], os.path.join(volume_dir, \n",
    "             'volume_MD594_scoreMap_%(label)s_d%(p)s.bp'%{'label':labels[l], 'p': p}))\n",
    "    \n",
    "    del dSdyxz\n",
    "    print time.time() - t"
   ]
  },
  {
   "cell_type": "code",
   "execution_count": null,
   "metadata": {
    "collapsed": true
   },
   "outputs": [],
   "source": []
  }
 ],
 "metadata": {
  "kernelspec": {
   "display_name": "Python 2",
   "language": "python",
   "name": "python2"
  },
  "language_info": {
   "codemirror_mode": {
    "name": "ipython",
    "version": 2
   },
   "file_extension": ".py",
   "mimetype": "text/x-python",
   "name": "python",
   "nbconvert_exporter": "python",
   "pygments_lexer": "ipython2",
   "version": "2.7.3"
  }
 },
 "nbformat": 4,
 "nbformat_minor": 0
}
