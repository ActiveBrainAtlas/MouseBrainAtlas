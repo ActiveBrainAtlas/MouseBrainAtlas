{
 "cells": [
  {
   "cell_type": "code",
   "execution_count": 1,
   "metadata": {
    "collapsed": false
   },
   "outputs": [],
   "source": [
    "%load_ext autoreload\n",
    "%autoreload 2"
   ]
  },
  {
   "cell_type": "code",
   "execution_count": 2,
   "metadata": {
    "collapsed": true
   },
   "outputs": [],
   "source": [
    "import numpy as np\n",
    "\n",
    "import sys\n",
    "import os\n",
    "\n",
    "sys.path.append(os.environ['REPO_DIR'] + '/utilities')\n",
    "from utilities2015 import *\n",
    "\n",
    "import matplotlib.pyplot as plt\n",
    "%matplotlib inline"
   ]
  },
  {
   "cell_type": "code",
   "execution_count": 3,
   "metadata": {
    "collapsed": true
   },
   "outputs": [],
   "source": [
    "volume_dir = '/oasis/projects/nsf/csd395/yuncong/CSHL_volumes/'"
   ]
  },
  {
   "cell_type": "code",
   "execution_count": 4,
   "metadata": {
    "collapsed": false
   },
   "outputs": [
    {
     "ename": "IOError",
     "evalue": "[Errno 2] No such file or directory: '/oasis/projects/nsf/csd395/yuncong/CSHL_volumes/volume_MD589.npz'",
     "output_type": "error",
     "traceback": [
      "\u001b[1;31m---------------------------------------------------------------------------\u001b[0m",
      "\u001b[1;31mIOError\u001b[0m                                   Traceback (most recent call last)",
      "\u001b[1;32m<ipython-input-4-72394e91d9f6>\u001b[0m in \u001b[0;36m<module>\u001b[1;34m()\u001b[0m\n\u001b[1;32m----> 1\u001b[1;33m \u001b[0mvolume1\u001b[0m \u001b[1;33m=\u001b[0m \u001b[0mnp\u001b[0m\u001b[1;33m.\u001b[0m\u001b[0mload\u001b[0m\u001b[1;33m(\u001b[0m\u001b[0mos\u001b[0m\u001b[1;33m.\u001b[0m\u001b[0mpath\u001b[0m\u001b[1;33m.\u001b[0m\u001b[0mjoin\u001b[0m\u001b[1;33m(\u001b[0m\u001b[0mvolume_dir\u001b[0m\u001b[1;33m,\u001b[0m \u001b[1;34m'volume_MD589.npz'\u001b[0m\u001b[1;33m)\u001b[0m\u001b[1;33m)\u001b[0m\u001b[1;33m[\u001b[0m\u001b[1;34m'arr_0'\u001b[0m\u001b[1;33m]\u001b[0m\u001b[1;33m\u001b[0m\u001b[0m\n\u001b[0m\u001b[0;32m      2\u001b[0m \u001b[0mnx1\u001b[0m\u001b[1;33m,\u001b[0m \u001b[0mny1\u001b[0m\u001b[1;33m,\u001b[0m \u001b[0mnz1\u001b[0m \u001b[1;33m=\u001b[0m \u001b[0mvolume1\u001b[0m\u001b[1;33m.\u001b[0m\u001b[0mshape\u001b[0m\u001b[1;33m\u001b[0m\u001b[0m\n\u001b[0;32m      3\u001b[0m \u001b[1;32mprint\u001b[0m \u001b[0mnx1\u001b[0m\u001b[1;33m,\u001b[0m \u001b[0mny1\u001b[0m\u001b[1;33m,\u001b[0m \u001b[0mnz1\u001b[0m\u001b[1;33m\u001b[0m\u001b[0m\n",
      "\u001b[1;32m/oasis/projects/nsf/csd181/yuncong/virtualenv-1.9.1/yuncongve/lib/python2.7/site-packages/numpy/lib/npyio.pyc\u001b[0m in \u001b[0;36mload\u001b[1;34m(file, mmap_mode, allow_pickle, fix_imports, encoding)\u001b[0m\n\u001b[0;32m    360\u001b[0m     \u001b[0mown_fid\u001b[0m \u001b[1;33m=\u001b[0m \u001b[0mFalse\u001b[0m\u001b[1;33m\u001b[0m\u001b[0m\n\u001b[0;32m    361\u001b[0m     \u001b[1;32mif\u001b[0m \u001b[0misinstance\u001b[0m\u001b[1;33m(\u001b[0m\u001b[0mfile\u001b[0m\u001b[1;33m,\u001b[0m \u001b[0mbasestring\u001b[0m\u001b[1;33m)\u001b[0m\u001b[1;33m:\u001b[0m\u001b[1;33m\u001b[0m\u001b[0m\n\u001b[1;32m--> 362\u001b[1;33m         \u001b[0mfid\u001b[0m \u001b[1;33m=\u001b[0m \u001b[0mopen\u001b[0m\u001b[1;33m(\u001b[0m\u001b[0mfile\u001b[0m\u001b[1;33m,\u001b[0m \u001b[1;34m\"rb\"\u001b[0m\u001b[1;33m)\u001b[0m\u001b[1;33m\u001b[0m\u001b[0m\n\u001b[0m\u001b[0;32m    363\u001b[0m         \u001b[0mown_fid\u001b[0m \u001b[1;33m=\u001b[0m \u001b[0mTrue\u001b[0m\u001b[1;33m\u001b[0m\u001b[0m\n\u001b[0;32m    364\u001b[0m     \u001b[1;32melse\u001b[0m\u001b[1;33m:\u001b[0m\u001b[1;33m\u001b[0m\u001b[0m\n",
      "\u001b[1;31mIOError\u001b[0m: [Errno 2] No such file or directory: '/oasis/projects/nsf/csd395/yuncong/CSHL_volumes/volume_MD589.npz'"
     ]
    }
   ],
   "source": [
    "volume1 = np.load(os.path.join(volume_dir, 'volume_MD589.npz'))['arr_0']\n",
    "nx1, ny1, nz1 = volume1.shape\n",
    "print nx1, ny1, nz1"
   ]
  },
  {
   "cell_type": "code",
   "execution_count": null,
   "metadata": {
    "collapsed": true
   },
   "outputs": [],
   "source": [
    "volume2 = np.load(os.path.join(volume_dir, 'volume_MD594.npz'))['arr_0']\n",
    "nx2, ny2, nz2 = volume2.shape\n",
    "print nx2, ny2, nz2"
   ]
  },
  {
   "cell_type": "code",
   "execution_count": 8,
   "metadata": {
    "collapsed": true
   },
   "outputs": [],
   "source": [
    "# canvas2 = np.zeros((2000,2500,1500), np.int8)\n",
    "# canvas2_center = (canvas2.shape[0]/2, canvas2.shape[1]/2, canvas2.shape[2]/2)\n",
    "# canvas2[canvas2_center[0]-nx2/2:canvas2_center[0]+(nx2-nx2/2), \n",
    "#        canvas2_center[1]-ny2/2:canvas2_center[1]+(ny2-ny2/2), \n",
    "#        canvas2_center[2]-nz2/2:canvas2_center[2]+(nz2-nz2/2)] = volume2"
   ]
  },
  {
   "cell_type": "code",
   "execution_count": 38,
   "metadata": {
    "collapsed": false,
    "scrolled": true
   },
   "outputs": [],
   "source": [
    "canvas1 = np.zeros((1000,2000,1000), np.int8)\n",
    "canvas1_center = (canvas1.shape[0]/2, canvas1.shape[1]/2, canvas1.shape[2]/2)\n",
    "canvas1[canvas1_center[0]-nx1/2:canvas1_center[0]+(nx1-nx1/2), \n",
    "       canvas1_center[1]-ny1/2:canvas1_center[1]+(ny1-ny1/2), \n",
    "       canvas1_center[2]-nz1/2:canvas1_center[2]+(nz1-nz1/2)] = volume1"
   ]
  },
  {
   "cell_type": "code",
   "execution_count": 40,
   "metadata": {
    "collapsed": true
   },
   "outputs": [],
   "source": [
    "x1s_nz, y1s_nz, z1s_nz = np.where(canvas1)"
   ]
  },
  {
   "cell_type": "code",
   "execution_count": 41,
   "metadata": {
    "collapsed": false
   },
   "outputs": [
    {
     "name": "stdout",
     "output_type": "stream",
     "text": [
      "178 821 256 1744 139 861\n"
     ]
    }
   ],
   "source": [
    "print x1s_nz.min(), x1s_nz.max(), y1s_nz.min(), y1s_nz.max(), z1s_nz.min(), z1s_nz.max()"
   ]
  },
  {
   "cell_type": "code",
   "execution_count": 45,
   "metadata": {
    "collapsed": false
   },
   "outputs": [
    {
     "name": "stdout",
     "output_type": "stream",
     "text": [
      "(577.36733618629978, 759.18129272541194, 483.05166324577505)\n"
     ]
    }
   ],
   "source": [
    "centroid1 = (x1s_nz.mean(), y1s_nz.mean(), z1s_nz.mean())\n",
    "print centroid1"
   ]
  },
  {
   "cell_type": "code",
   "execution_count": 42,
   "metadata": {
    "collapsed": true
   },
   "outputs": [],
   "source": [
    "x2s, y2s, z2s = np.where(volume2)"
   ]
  },
  {
   "cell_type": "code",
   "execution_count": 46,
   "metadata": {
    "collapsed": false
   },
   "outputs": [
    {
     "name": "stdout",
     "output_type": "stream",
     "text": [
      "(379.77627564048566, 546.81517678475086, 30.169603214171616)\n"
     ]
    }
   ],
   "source": [
    "centroid2 = (x2s.mean(), y2s.mean(), z2s.mean())\n",
    "print centroid2"
   ]
  },
  {
   "cell_type": "code",
   "execution_count": 8,
   "metadata": {
    "collapsed": false
   },
   "outputs": [
    {
     "name": "stdout",
     "output_type": "stream",
     "text": [
      "0 703 0 1378 0 53\n"
     ]
    }
   ],
   "source": [
    "print x2s.min(), x2s.max(), y2s.min(), y2s.max(), z2s.min(), z2s.max()"
   ]
  },
  {
   "cell_type": "code",
   "execution_count": 9,
   "metadata": {
    "collapsed": true
   },
   "outputs": [],
   "source": [
    "from itertools import product"
   ]
  },
  {
   "cell_type": "code",
   "execution_count": 10,
   "metadata": {
    "collapsed": true
   },
   "outputs": [],
   "source": [
    "# C = canvas2[x2s, y2s, z2s]\n",
    "C = volume2[x2s, y2s, z2s]"
   ]
  },
  {
   "cell_type": "code",
   "execution_count": 11,
   "metadata": {
    "collapsed": true
   },
   "outputs": [],
   "source": [
    "P = np.c_[x2s, y2s, z2s, np.ones((x2s.shape[0],))].T"
   ]
  },
  {
   "cell_type": "code",
   "execution_count": 106,
   "metadata": {
    "collapsed": true
   },
   "outputs": [],
   "source": [
    "def f(tx, ty, tz, theta_z, theta_y):\n",
    "    \n",
    "    cos_z = np.cos(theta_z)\n",
    "    sin_z = np.sin(theta_z)\n",
    "    cos_y = np.cos(theta_y)\n",
    "    sin_y = np.sin(theta_y)\n",
    "    Rz = np.array([[cos_z, -sin_z, 0], [sin_z, cos_z, 0], [0,0,1]])\n",
    "    Ry = np.array([[cos_y, 0, -sin_y], [0, 1, 0], [sin_y,0,cos_y]])\n",
    "    R = np.dot(Rz, Ry)    \n",
    "    \n",
    "    T = np.c_[R, [tx,ty,tz]]\n",
    "#     T = np.c_[R, np.dot(R, [tx,ty,tz])]\n",
    "\n",
    "    x1s, y1s, z1s = np.dot(T, P).astype(np.int)\n",
    "    \n",
    "    try:\n",
    "        s = np.count_nonzero(C == canvas1[x1s, y1s, z1s])\n",
    "    except IndexError:\n",
    "        return 0\n",
    "        \n",
    "    return s"
   ]
  },
  {
   "cell_type": "code",
   "execution_count": 107,
   "metadata": {
    "collapsed": true
   },
   "outputs": [],
   "source": [
    "from joblib import Parallel, delayed"
   ]
  },
  {
   "cell_type": "code",
   "execution_count": null,
   "metadata": {
    "collapsed": true
   },
   "outputs": [],
   "source": [
    "init_tx = centroid1[0] - centroid2[0]\n",
    "init_ty = centroid1[1] - centroid2[1]\n",
    "init_tz = centroid1[2] - centroid2[2]"
   ]
  },
  {
   "cell_type": "code",
   "execution_count": 115,
   "metadata": {
    "collapsed": true
   },
   "outputs": [],
   "source": [
    "tx_grid = np.linspace(init_tx-400,init_tx+400,10)\n",
    "ty_grid = np.linspace(init_ty-400,init_ty+400,10)\n",
    "tz_grid = np.linspace(init_tz-200,init_tz+200,10)\n",
    "theta_z_grid = np.deg2rad(np.linspace(-20,20,5))\n",
    "theta_y_grid = np.deg2rad(np.linspace(-20,20,5))"
   ]
  },
  {
   "cell_type": "code",
   "execution_count": 108,
   "metadata": {
    "collapsed": true
   },
   "outputs": [],
   "source": [
    "n = 1000\n",
    "\n",
    "tx_grid = np.random.randint(init_tx-400, init_tx+400, n)\n",
    "ty_grid = np.random.randint(init_ty-400, init_ty+400, n)\n",
    "tz_grid = np.random.randint(init_tz-200, init_tz+200, n)\n",
    "# theta_z_grid = [0 for _ in range(n)]\n",
    "# theta_y_grid = [0 for _ in range(n)]\n",
    "theta_z_grid = np.deg2rad(np.random.randint(-20, 20, n))\n",
    "theta_y_grid = np.deg2rad(np.random.randint(-20, 20, n))"
   ]
  },
  {
   "cell_type": "code",
   "execution_count": 116,
   "metadata": {
    "collapsed": false
   },
   "outputs": [
    {
     "ename": "NameError",
     "evalue": "name 'scores_mat' is not defined",
     "output_type": "error",
     "traceback": [
      "\u001b[1;31m---------------------------------------------------------------------------\u001b[0m",
      "\u001b[1;31mNameError\u001b[0m                                 Traceback (most recent call last)",
      "\u001b[1;32m<ipython-input-116-865ac31a211f>\u001b[0m in \u001b[0;36m<module>\u001b[1;34m()\u001b[0m\n\u001b[0;32m      9\u001b[0m scores = Parallel(n_jobs=16)(delayed(f)(tx, ty, tz, theta_z, theta_y ) \n\u001b[0;32m     10\u001b[0m              for tx, ty, tz, theta_z, theta_y in product(tx_grid, ty_grid, tz_grid, theta_z_grid, theta_y_grid))\n\u001b[1;32m---> 11\u001b[1;33m \u001b[0mxi\u001b[0m\u001b[1;33m,\u001b[0m \u001b[0myi\u001b[0m\u001b[1;33m,\u001b[0m \u001b[0mzi\u001b[0m \u001b[1;33m=\u001b[0m \u001b[0mnp\u001b[0m\u001b[1;33m.\u001b[0m\u001b[0munravel_index\u001b[0m\u001b[1;33m(\u001b[0m\u001b[0mnp\u001b[0m\u001b[1;33m.\u001b[0m\u001b[0margmax\u001b[0m\u001b[1;33m(\u001b[0m\u001b[0mscores_mat\u001b[0m\u001b[1;33m)\u001b[0m\u001b[1;33m,\u001b[0m \u001b[0mscores_mat\u001b[0m\u001b[1;33m.\u001b[0m\u001b[0mshape\u001b[0m\u001b[1;33m)\u001b[0m\u001b[1;33m\u001b[0m\u001b[0m\n\u001b[0m\u001b[0;32m     12\u001b[0m \u001b[1;32mprint\u001b[0m \u001b[0mtx_grid\u001b[0m\u001b[1;33m[\u001b[0m\u001b[0mxi\u001b[0m\u001b[1;33m]\u001b[0m\u001b[1;33m,\u001b[0m \u001b[0mty_grid\u001b[0m\u001b[1;33m[\u001b[0m\u001b[0myi\u001b[0m\u001b[1;33m]\u001b[0m\u001b[1;33m,\u001b[0m \u001b[0mtz_grid\u001b[0m\u001b[1;33m[\u001b[0m\u001b[0mzi\u001b[0m\u001b[1;33m]\u001b[0m\u001b[1;33m\u001b[0m\u001b[0m\n\u001b[0;32m     13\u001b[0m \u001b[1;33m\u001b[0m\u001b[0m\n",
      "\u001b[1;31mNameError\u001b[0m: name 'scores_mat' is not defined"
     ]
    }
   ],
   "source": [
    "import time\n",
    "t = time.time()\n",
    "\n",
    "# scores = Parallel(n_jobs=16)(delayed(f)(tx, ty, tz, theta_z, theta_y ) \n",
    "#              for tx, ty, tz, theta_z, theta_y in zip(tx_grid, ty_grid, tz_grid, theta_z_grid, theta_y_grid))\n",
    "# print np.max(scores)\n",
    "# print zip(tx_grid, ty_grid, tz_grid, np.rad2deg(theta_z_grid), np.rad2deg(theta_y_grid))[np.argmax(scores)]\n",
    "\n",
    "scores = Parallel(n_jobs=16)(delayed(f)(tx, ty, tz, theta_z, theta_y ) \n",
    "             for tx, ty, tz, theta_z, theta_y in product(tx_grid, ty_grid, tz_grid, theta_z_grid, theta_y_grid))\n",
    "xi, yi, zi = np.unravel_index(np.argmax(scores_mat), scores_mat.shape)\n",
    "print tx_grid[xi], ty_grid[yi], tz_grid[zi]\n",
    "\n",
    "print time.time() - t"
   ]
  },
  {
   "cell_type": "code",
   "execution_count": 96,
   "metadata": {
    "collapsed": false
   },
   "outputs": [
    {
     "name": "stdout",
     "output_type": "stream",
     "text": [
      "27.6544790268\n",
      "274177\n",
      "(69, 421, 330, -9.0, -13.0)\n"
     ]
    }
   ],
   "source": [
    "import time\n",
    "t = time.time()\n",
    "\n",
    "scores = Parallel(n_jobs=16)(delayed(f)(tx, ty, tz, theta_z, theta_y ) \n",
    "             for tx, ty, tz, theta_z, theta_y in zip(tx_grid, ty_grid, tz_grid, theta_z_grid, theta_y_grid))\n",
    "\n",
    "print time.time() - t\n",
    "\n",
    "print np.max(scores)\n",
    "print zip(tx_grid, ty_grid, tz_grid, np.rad2deg(theta_z_grid), np.rad2deg(theta_y_grid))[np.argmax(scores)]"
   ]
  },
  {
   "cell_type": "code",
   "execution_count": 69,
   "metadata": {
    "collapsed": false,
    "scrolled": false
   },
   "outputs": [
    {
     "name": "stdout",
     "output_type": "stream",
     "text": [
      "100 212 452.882060032 0 0\n",
      "100 803 212 1590 452 505\n",
      "868\n",
      "0.37620806694\n",
      "94 358 452.882060032 0 0\n",
      "94 797 358 1736 452 505\n",
      "0\n",
      "0.375512838364\n",
      "101 318 452.882060032 0 0\n",
      "101 804 318 1696 452 505\n",
      "0\n",
      "0.375268936157\n",
      "258 239 452.882060032 0 0\n",
      "258 961 239 1617 452 505\n",
      "201\n",
      "0.37552690506\n",
      "268 114 452.882060032 0 0\n",
      "268 971 114 1492 452 505\n",
      "126\n",
      "0.375246047974\n",
      "153 314 452.882060032 0 0\n",
      "153 856 314 1692 452 505\n",
      "42\n",
      "0.375594139099\n",
      "240 182 452.882060032 0 0\n",
      "240 943 182 1560 452 505\n",
      "462\n",
      "0.375012159348\n",
      "341 165 452.882060032 0 0\n",
      "341 1044 165 1543 452 505\n",
      "0.280470132828\n",
      "42 129 452.882060032 0 0\n",
      "42 745 129 1507 452 505\n",
      "1293\n",
      "0.375720977783\n",
      "45 157 452.882060032 0 0\n",
      "45 748 157 1535 452 505\n",
      "851\n",
      "0.375609874725\n"
     ]
    }
   ],
   "source": [
    "scores = []\n",
    "\n",
    "# for tx, ty, tz, theta_z, theta_y in product(tx_grid, ty_grid, tz_grid, theta_z_grid, theta_y_grid):\n",
    "for tx, ty, tz, theta_z, theta_y in zip(tx_grid, ty_grid, tz_grid, theta_z_grid, theta_y_grid):\n",
    "    \n",
    "    import time\n",
    "    t = time.time()\n",
    "    \n",
    "    print tx, ty, tz, theta_z, theta_y\n",
    "    \n",
    "    cos_z = np.cos(theta_z)\n",
    "    sin_z = np.sin(theta_z)\n",
    "    cos_y = np.cos(theta_y)\n",
    "    sin_y = np.sin(theta_y)\n",
    "    Rz = np.array([[cos_z, -sin_z, 0], [sin_z, cos_z, 0], [0,0,1]])\n",
    "    Ry = np.array([[cos_y, 0, -sin_y], [0, 1, 0], [sin_y,0,cos_y]])\n",
    "    R = np.dot(Rz, Ry)    \n",
    "    \n",
    "    T = np.c_[R, [tx,ty,tz]]\n",
    "    x1s, y1s, z1s = np.dot(T, P).astype(np.int)\n",
    "    \n",
    "    print x1s.min(), x1s.max(), y1s.min(), y1s.max(), z1s.min(), z1s.max()\n",
    "    \n",
    "    try:\n",
    "        s = np.count_nonzero(C == canvas1[x1s, y1s, z1s])\n",
    "        print s\n",
    "    except IndexError:\n",
    "        s = 0\n",
    "    \n",
    "    scores.append(s) \n",
    "    \n",
    "    print time.time() - t"
   ]
  },
  {
   "cell_type": "code",
   "execution_count": null,
   "metadata": {
    "collapsed": false
   },
   "outputs": [],
   "source": [
    "xi, yi, zi = np.unravel_index(np.argmax(scores_mat), scores_mat.shape)\n",
    "tx_grid[xi], ty_grid[yi], tz_grid[zi]"
   ]
  },
  {
   "cell_type": "code",
   "execution_count": null,
   "metadata": {
    "collapsed": false
   },
   "outputs": [],
   "source": []
  },
  {
   "cell_type": "code",
   "execution_count": null,
   "metadata": {
    "collapsed": false
   },
   "outputs": [],
   "source": [
    "scores_mat = np.reshape(scores, (len(tx_grid), len(ty_grid), len(tz_grid)))\n",
    "plt.matshow(scores_mat[:,0]);\n",
    "plt.colorbar();\n",
    "plt.matshow(scores_mat[:,1]);\n",
    "plt.colorbar();\n",
    "plt.matshow(scores_mat[:,2]);\n",
    "plt.colorbar();"
   ]
  },
  {
   "cell_type": "code",
   "execution_count": null,
   "metadata": {
    "collapsed": true
   },
   "outputs": [],
   "source": [
    "for x in range(canvas.shape[0]):\n",
    "    for y in range(canvas.shape[1]):\n",
    "        for z in range(canvas.shape[2]):\n",
    "            if x != 0 and y != 0 and z != 0:\n",
    "                p2 = np.dot(T, [x,y,z,1])\n",
    "                x2,y2,z2 = p2[:3]/p2[-1]\n",
    "                canvas1[x,y,z] = volume2[int(x2),int(y2),int(z2)]"
   ]
  },
  {
   "cell_type": "code",
   "execution_count": null,
   "metadata": {
    "collapsed": true
   },
   "outputs": [],
   "source": [
    "canvas1[]"
   ]
  }
 ],
 "metadata": {
  "kernelspec": {
   "display_name": "Python 2",
   "language": "python",
   "name": "python2"
  },
  "language_info": {
   "codemirror_mode": {
    "name": "ipython",
    "version": 2
   },
   "file_extension": ".py",
   "mimetype": "text/x-python",
   "name": "python",
   "nbconvert_exporter": "python",
   "pygments_lexer": "ipython2",
   "version": "2.7.3"
  }
 },
 "nbformat": 4,
 "nbformat_minor": 0
}
