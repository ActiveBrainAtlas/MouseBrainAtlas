{
 "cells": [
  {
   "cell_type": "code",
   "execution_count": 1,
   "metadata": {
    "collapsed": false
   },
   "outputs": [],
   "source": [
    "%load_ext autoreload\n",
    "%autoreload 2\n",
    "\n",
    "import numpy as np\n",
    "\n",
    "import sys\n",
    "import os\n",
    "\n",
    "sys.path.append(os.environ['REPO_DIR'] + '/utilities')\n",
    "from utilities2015 import *\n",
    "\n",
    "import matplotlib.pyplot as plt\n",
    "%matplotlib inline\n",
    "\n",
    "from matplotlib.path import Path\n",
    "\n",
    "from joblib import Parallel, delayed"
   ]
  },
  {
   "cell_type": "code",
   "execution_count": 2,
   "metadata": {
    "collapsed": true
   },
   "outputs": [],
   "source": [
    "from enum import Enum\n",
    "\n",
    "class PolygonType(Enum):\n",
    "    CLOSED = 'closed'\n",
    "    OPEN = 'open'\n",
    "    TEXTURE = 'textured'\n",
    "    TEXTURE_WITH_CONTOUR = 'texture with contour'\n",
    "    DIRECTION = 'directionality'"
   ]
  },
  {
   "cell_type": "code",
   "execution_count": 3,
   "metadata": {
    "collapsed": true
   },
   "outputs": [],
   "source": [
    "stack = 'MD594'\n",
    "\n",
    "first_bs_sec, last_bs_sec = section_range_lookup[stack]"
   ]
  },
  {
   "cell_type": "code",
   "execution_count": 4,
   "metadata": {
    "collapsed": true
   },
   "outputs": [],
   "source": [
    "autoAnnotation_rootdir = '/oasis/projects/nsf/csd395/yuncong/CSHL_autoAnnotationViz'\n",
    "\n",
    "autoAnnotation_dir = os.path.join(autoAnnotation_rootdir, stack)\n",
    "if not os.path.exists(autoAnnotation_dir):\n",
    "    os.makedirs(autoAnnotation_dir)"
   ]
  },
  {
   "cell_type": "code",
   "execution_count": 40,
   "metadata": {
    "collapsed": false,
    "scrolled": true
   },
   "outputs": [
    {
     "name": "stderr",
     "output_type": "stream",
     "text": [
      "username yuncong does not have any labelings\n",
      "username yuncong does not have any labelings\n",
      "username yuncong does not have any labelings\n",
      "username yuncong does not have any labelings\n",
      "username yuncong does not have any labelings\n",
      "username yuncong does not have any labelings\n",
      "username yuncong does not have any labelings\n",
      "username yuncong does not have any labelings\n",
      "username yuncong does not have any labelings\n",
      "username yuncong does not have any labelings\n",
      "username yuncong does not have any labelings\n",
      "username yuncong does not have any labelings\n",
      "username yuncong does not have any labelings\n",
      "username yuncong does not have any labelings\n",
      "username yuncong does not have any labelings\n",
      "username yuncong does not have any labelings\n",
      "username yuncong does not have any labelings\n",
      "username yuncong does not have any labelings\n",
      "username yuncong does not have any labelings\n",
      "username yuncong does not have any labelings\n",
      "username yuncong does not have any labelings\n",
      "username yuncong does not have any labelings\n",
      "username yuncong does not have any labelings\n",
      "username yuncong does not have any labelings\n",
      "username yuncong does not have any labelings\n",
      "username yuncong does not have any labelings\n",
      "username yuncong does not have any labelings\n",
      "username yuncong does not have any labelings\n",
      "username yuncong does not have any labelings\n",
      "username yuncong does not have any labelings\n",
      "username yuncong does not have any labelings\n",
      "username yuncong does not have any labelings\n",
      "username yuncong does not have any labelings\n",
      "username yuncong does not have any labelings\n",
      "username yuncong does not have any labelings\n",
      "username yuncong does not have any labelings\n",
      "username yuncong does not have any labelings\n",
      "username yuncong does not have any labelings\n",
      "username yuncong does not have any labelings\n",
      "username yuncong does not have any labelings\n",
      "username yuncong does not have any labelings\n",
      "username yuncong does not have any labelings\n",
      "username yuncong does not have any labelings\n",
      "username yuncong does not have any labelings\n",
      "username yuncong does not have any labelings\n",
      "username yuncong does not have any labelings\n",
      "username yuncong does not have any labelings\n",
      "username yuncong does not have any labelings\n",
      "username yuncong does not have any labelings\n",
      "username yuncong does not have any labelings\n",
      "username yuncong does not have any labelings\n",
      "username yuncong does not have any labelings\n",
      "username yuncong does not have any labelings\n",
      "username yuncong does not have any labelings\n",
      "username yuncong does not have any labelings\n",
      "username yuncong does not have any labelings\n",
      "username yuncong does not have any labelings\n",
      "username yuncong does not have any labelings\n",
      "username yuncong does not have any labelings\n",
      "username yuncong does not have any labelings\n",
      "username yuncong does not have any labelings\n",
      "username yuncong does not have any labelings\n",
      "username yuncong does not have any labelings\n",
      "username yuncong does not have any labelings\n",
      "username yuncong does not have any labelings\n",
      "username yuncong does not have any labelings\n",
      "username yuncong does not have any labelings\n",
      "username yuncong does not have any labelings\n",
      "username yuncong does not have any labelings\n",
      "username yuncong does not have any labelings\n",
      "username yuncong does not have any labelings\n",
      "username yuncong does not have any labelings\n",
      "username yuncong does not have any labelings\n",
      "username yuncong does not have any labelings\n",
      "username yuncong does not have any labelings\n",
      "username yuncong does not have any labelings\n",
      "username yuncong does not have any labelings\n",
      "username yuncong does not have any labelings\n",
      "username yuncong does not have any labelings\n",
      "username yuncong does not have any labelings\n",
      "username yuncong does not have any labelings\n",
      "username yuncong does not have any labelings\n",
      "username yuncong does not have any labelings\n",
      "username yuncong does not have any labelings\n",
      "username yuncong does not have any labelings\n",
      "username yuncong does not have any labelings\n",
      "username yuncong does not have any labelings\n",
      "username yuncong does not have any labelings\n",
      "username yuncong does not have any labelings\n",
      "username yuncong does not have any labelings\n",
      "username yuncong does not have any labelings\n",
      "username yuncong does not have any labelings\n",
      "username yuncong does not have any labelings\n",
      "username yuncong does not have any labelings\n",
      "username yuncong does not have any labelings\n",
      "username yuncong does not have any labelings\n",
      "username yuncong does not have any labelings\n",
      "username yuncong does not have any labelings\n",
      "username yuncong does not have any labelings\n",
      "username yuncong does not have any labelings\n",
      "username yuncong does not have any labelings\n",
      "username yuncong does not have any labelings\n",
      "username yuncong does not have any labelings\n",
      "username yuncong does not have any labelings\n",
      "username yuncong does not have any labelings\n",
      "username yuncong does not have any labelings\n",
      "username yuncong does not have any labelings\n",
      "username yuncong does not have any labelings\n",
      "username yuncong does not have any labelings\n",
      "username yuncong does not have any labelings\n",
      "username yuncong does not have any labelings\n",
      "username yuncong does not have any labelings\n",
      "username yuncong does not have any labelings\n",
      "username yuncong does not have any labelings\n",
      "username yuncong does not have any labelings\n",
      "username yuncong does not have any labelings\n",
      "username yuncong does not have any labelings\n",
      "username yuncong does not have any labelings\n",
      "username yuncong does not have any labelings\n",
      "username yuncong does not have any labelings\n",
      "username yuncong does not have any labelings\n",
      "username yuncong does not have any labelings\n",
      "username yuncong does not have any labelings\n",
      "username yuncong does not have any labelings\n",
      "username yuncong does not have any labelings\n",
      "username yuncong does not have any labelings\n",
      "username yuncong does not have any labelings\n",
      "username yuncong does not have any labelings\n",
      "username yuncong does not have any labelings\n",
      "username yuncong does not have any labelings\n",
      "username yuncong does not have any labelings\n",
      "username yuncong does not have any labelings\n",
      "username yuncong does not have any labelings\n",
      "username yuncong does not have any labelings\n",
      "username yuncong does not have any labelings\n",
      "username yuncong does not have any labelings\n",
      "username yuncong does not have any labelings\n",
      "username yuncong does not have any labelings\n",
      "username yuncong does not have any labelings\n"
     ]
    }
   ],
   "source": [
    "section_contains_label = {}\n",
    "for sec in range(first_bs_sec, last_bs_sec+1):\n",
    "    dm = DataManager(stack=stack, section=sec)\n",
    "    try:\n",
    "        user, ts, _, res = dm.load_proposal_review_result('yuncong', 'latest', 'consolidated')\n",
    "        section_contains_label[sec] = set([lm['label'] for lm in res])\n",
    "    except:\n",
    "        pass"
   ]
  },
  {
   "cell_type": "code",
   "execution_count": 6,
   "metadata": {
    "collapsed": true
   },
   "outputs": [],
   "source": [
    "scoremap = None"
   ]
  },
  {
   "cell_type": "code",
   "execution_count": 7,
   "metadata": {
    "collapsed": true
   },
   "outputs": [],
   "source": [
    "def score_transform_affine(tx, ty, theta, scx, scy, a, b, init_cnt):\n",
    "    \n",
    "    xmin, ymin = np.min(init_cnt, axis=0)\n",
    "    xmax, ymax = np.max(init_cnt, axis=0)\n",
    "    cx, cy = np.mean(init_cnt, axis=0)\n",
    "    center = np.array([cx, cy])\n",
    "\n",
    "    xs, ys = np.meshgrid(np.arange(xmin, xmax+1), np.arange(ymin, ymax+1))\n",
    "    pts = np.c_[xs.flat, ys.flat]\n",
    "    nzs = pts[np.where(Path(init_cnt).contains_points(pts))[0]]\n",
    "        \n",
    "    cos_z = np.cos(theta)\n",
    "    sin_z = np.sin(theta)\n",
    "    R = np.array([[scx*cos_z, -scx*sin_z], [scy*sin_z, scy*cos_z]])\n",
    "    \n",
    "    test_xs, test_ys = (np.dot(np.dot([[1, a], [b, 1]], R), nzs.T - np.array([cx,cy])[:,np.newaxis]) + \\\n",
    "                        np.array([tx+cx,ty+cy])[:,np.newaxis]).astype(np.int)\n",
    "\n",
    "    valid = (test_xs >= 0) & (test_ys >= 0) & \\\n",
    "            (test_xs < scoremap.shape[1]) & (test_ys < scoremap.shape[0])\n",
    "    \n",
    "    score = scoremap[test_ys[valid], test_xs[valid]].sum() * scx * scy\n",
    "\n",
    "    return score"
   ]
  },
  {
   "cell_type": "code",
   "execution_count": 13,
   "metadata": {
    "collapsed": true
   },
   "outputs": [],
   "source": [
    "def grid_search_affine(init_cnt, init_params=(0, 0, 0, 1., 1., 0, 0), iter_num=10, \n",
    "                       sigma_tx0=300, sigma_ty0=300, sigma_theta_z0=0, \n",
    "                                        sigma_scx0=0, sigma_scy0=0,\n",
    "                                        sigma_a0=0, sigma_b0=0):\n",
    "    \n",
    "    params_best_upToNow = init_params\n",
    "    score_best_upToNow = 0\n",
    "\n",
    "    for iteration in range(iter_num):\n",
    "\n",
    "#         print iteration\n",
    "\n",
    "        init_tx, init_ty, init_theta_z, init_scalex, init_scaley, init_a, init_b = params_best_upToNow\n",
    "\n",
    "        n = int(1000*np.exp(-iteration/10.))\n",
    "        if n < 10:\n",
    "            break\n",
    "\n",
    "        sigma_tx = sigma_tx0*np.exp(-iteration/3.)\n",
    "        sigma_ty = sigma_ty0*np.exp(-iteration/3.)\n",
    "        sigma_theta_z = np.deg2rad(sigma_theta_z0*np.exp(-iteration/.6))\n",
    "        sigma_scx = sigma_scx0*np.exp(-iteration/20.)\n",
    "        sigma_scy = sigma_scy0*np.exp(-iteration/20.)\n",
    "        sigma_a = sigma_a0*np.exp(-iteration/5.)\n",
    "        sigma_b = sigma_b0*np.exp(-iteration/5.)\n",
    "\n",
    "#         print sigma_tx, sigma_ty, sigma_theta_z, sigma_scx, sigma_scy\n",
    "            \n",
    "        tx_grid = init_tx + 2*sigma_tx*np.random.random(n) - sigma_tx\n",
    "        ty_grid = init_ty + 2*sigma_ty*np.random.random(n) - sigma_ty\n",
    "        theta_z_grid = init_theta_z + 2*sigma_theta_z*np.random.random(n) - sigma_theta_z\n",
    "        scalex_grid = init_scalex * np.exp(2*sigma_scx*np.random.random(n) - sigma_scx)\n",
    "        scaley_grid = init_scaley * np.exp(2*sigma_scy*np.random.random(n) - sigma_scy)\n",
    "        a_grid = init_a + 2*sigma_a*np.random.random(n) - sigma_a\n",
    "        b_grid = init_b + 2*sigma_b*np.random.random(n) - sigma_b\n",
    "        \n",
    "\n",
    "        scores = Parallel(n_jobs=16)(delayed(score_transform_affine)(tx, ty, theta_z, scx, scy, a, b, init_cnt) \n",
    "                                     for tx, ty, theta_z, scx, scy, a, b in zip(tx_grid, ty_grid, theta_z_grid,\n",
    "                                                               scalex_grid, scaley_grid, a_grid, b_grid))\n",
    "\n",
    "#         scores = [score_transform_affine(tx, ty, theta_z, scx, scy, a, b, init_cnt) \n",
    "#                                      for tx, ty, theta_z, scx, scy, a, b in zip(tx_grid, ty_grid, theta_z_grid,\n",
    "#                                                                scalex_grid, scaley_grid, a_grid, b_grid)]\n",
    "        \n",
    "        \n",
    "        score_best = np.max(scores)\n",
    "\n",
    "        tx_best, ty_best, theta_z_best, scalex_best, scaley_best, a_best, b_best = \\\n",
    "            zip(tx_grid, ty_grid, theta_z_grid, scalex_grid, scaley_grid, a_grid, b_grid)[np.argmax(scores)]\n",
    "            \n",
    "        \n",
    "        scalex_best = min(2., max(scalex_best, 0.1))\n",
    "        scaley_best = min(2., max(scaley_best, 0.1))\n",
    "            \n",
    "            \n",
    "        if score_best > score_best_upToNow:\n",
    "#             print score_best_upToNow, score_best\n",
    "\n",
    "            score_best_upToNow = score_best\n",
    "            params_best_upToNow = tx_best, ty_best, theta_z_best, scalex_best, scaley_best, a_best, b_best\n",
    "\n",
    "#             print tx_best, ty_best, np.rad2deg(theta_z_best), scalex_best, scaley_best, a_best, b_best\n",
    "            \n",
    "    return params_best_upToNow"
   ]
  },
  {
   "cell_type": "code",
   "execution_count": 14,
   "metadata": {
    "collapsed": true
   },
   "outputs": [],
   "source": [
    "def optimal_params_slice_affine(init_cnt, scoremap, init_params=(0,0,0,1,1,0,0), \n",
    "                                iter_num=100, return_scores=False, lr=(.1,0,1e-6,0)):\n",
    "    \n",
    "    lr1, lr2, lr3, lr4 = lr\n",
    "    \n",
    "    score_best = 0\n",
    "    \n",
    "    xmin, ymin = np.min(init_cnt, axis=0)\n",
    "    xmax, ymax = np.max(init_cnt, axis=0)\n",
    "    cx, cy = np.mean(init_cnt, axis=0)\n",
    "    \n",
    "    xs, ys = np.meshgrid(np.arange(xmin, xmax+1), np.arange(ymin, ymax+1))\n",
    "    pts = np.c_[xs.flat, ys.flat]\n",
    "    nzs = pts[np.where(Path(init_cnt).contains_points(pts))[0]].T\n",
    "\n",
    "    dSdxyz = np.gradient(scoremap, 3, 3)\n",
    "\n",
    "    scores = []\n",
    "\n",
    "    tx_best, ty_best, theta_best, sx_best, sy_best, a_best, b_best  = init_params\n",
    "\n",
    "    for iteration in range(iter_num):\n",
    "\n",
    "        dMdu = 0\n",
    "        dMdv = 0\n",
    "        dMdaz = 0\n",
    "        dMdsx = 0\n",
    "        dMdsy = 0\n",
    "        dMda = 0\n",
    "        dMdb = 0\n",
    "\n",
    "        cos_z = np.cos(theta_best)\n",
    "        sin_z = np.sin(theta_best)\n",
    "        Rz_best = np.array([[sx_best*cos_z, -sx_best*sin_z], \n",
    "                            [sy_best*sin_z, sy_best*cos_z]])\n",
    "        \n",
    "        t = np.array([tx_best, ty_best])\n",
    "        center = np.array([cx, cy])\n",
    "        ds = nzs - center[:, np.newaxis]\n",
    "                \n",
    "        xs_prime, ys_prime = (np.dot([[1, a_best],[b_best, 1]], np.dot(Rz_best, ds)) + (t + center)[:,np.newaxis]).astype(np.int)\n",
    "\n",
    "        valid = (xs_prime >= 0) & (ys_prime >= 0) & \\\n",
    "                (xs_prime < scoremap.shape[1]) & (ys_prime < scoremap.shape[0])\n",
    "\n",
    "        if np.count_nonzero(valid) > 0:\n",
    "\n",
    "            xs_prime_valid = xs_prime[valid]\n",
    "            ys_prime_valid = ys_prime[valid]\n",
    "            \n",
    "            dxs, dys = ds\n",
    "            dxs_valid = dxs[valid]\n",
    "            dys_valid = dys[valid]\n",
    "\n",
    "            xs, ys = nzs\n",
    "            xs_valid = xs[valid]\n",
    "            ys_valid = ys[valid]\n",
    "\n",
    "            Sx = dSdxyz[1][ys_prime_valid, xs_prime_valid]\n",
    "            Sy = dSdxyz[0][ys_prime_valid, xs_prime_valid]\n",
    "            S = scoremap[ys_prime_valid, xs_prime_valid].sum()\n",
    "            \n",
    "#             fxx = sx_best*cos_z + a_best*sy_best*sin_z\n",
    "#             fxy = -sx_best*sin_z + a_best*sy_best*cos_z\n",
    "#             fyx = b_best*sx_best*cos_z + sy_best*sin_z\n",
    "#             fyy = -b_best*sin_z*sx_best + sy_best*cos_z\n",
    "            \n",
    "#             dMdu += (np.dot(Sx, (-fxx+1)*dxs_valid) + np.dot(Sy, (-fyx+1)*dys_valid)) * sx_best * sy_best\n",
    "#             dMdv += (np.dot(Sx, (-fxy+1)*dxs_valid) + np.dot(Sy, (-fyy+1)*dys_valid)) * sx_best * sy_best\n",
    "            \n",
    "            dMdu += Sx.sum() * sx_best * sy_best\n",
    "            dMdv += Sy.sum() * sx_best * sy_best\n",
    "            \n",
    "            dx2dsx = dxs_valid*cos_z - dys_valid*sin_z\n",
    "            dx2dsy = dxs_valid*a_best*sin_z + dys_valid*a_best*cos_z\n",
    "            \n",
    "            dy2dsx = dxs_valid*b_best*cos_z + dys_valid*(-b_best*sin_z)\n",
    "            dy2dsy = dxs_valid*sin_z + dys_valid*cos_z\n",
    "            \n",
    "            dMdsx += ((np.dot(Sx, dx2dsx) + np.dot(Sy, dy2dsx)) * sx_best + .1*S) * sy_best\n",
    "            dMdsy += ((np.dot(Sx, dx2dsy) + np.dot(Sy, dy2dsy)) * sy_best + .1*S) * sx_best\n",
    "            \n",
    "\n",
    "            dx2dtheta = dxs_valid*(-sx_best*sin_z+a_best*sy_best*cos_z) + \\\n",
    "                        dys_valid*(-sx_best*cos_z-a_best*sy_best*sin_z)\n",
    "        \n",
    "            dy2dtheta = dxs_valid*(-b_best*sin_z*sx_best+sy_best*cos_z) + \\\n",
    "                        dys_valid*(-b_best*sx_best*cos_z-sy_best*sin_z)\n",
    "\n",
    "            dMdaz += (np.dot(Sx, dx2dtheta) + np.dot(Sy, dy2dtheta)) * sy_best * sx_best\n",
    "\n",
    "#             dMdsx += np.dot(dSdxyz[1][ys_prime_valid, xs_prime_valid],\n",
    "#                             (cos_z-b_best*sin_z)*xs_valid + (-a_best*cos_z-sin_z)*ys_valid) * scx_best * scy_best + \\\n",
    "#                     .5*scoremap[ys_prime_valid, xs_prime_valid].sum() * scy_best\n",
    "\n",
    "#             dMdsy += np.dot(dSdxyz[0][ys_prime_valid, xs_prime_valid],\n",
    "#                             (sin_z+b_best*cos_z)*xs_valid + (a_best*sin_z+cos_z)*ys_valid) * scx_best * scy_best + \\\n",
    "#                     .1*scoremap[ys_prime_valid, xs_prime_valid].sum() * scx_best\n",
    "                \n",
    "#             dMda += (np.dot(dSdxyz[1][ys_prime_valid, xs_prime_valid], -sin_z*sc_best*ys_valid) + \\\n",
    "#                     np.dot(dSdxyz[0][ys_prime_valid, xs_prime_valid], cos_z*sc_best*ys_valid)) * sc_best\n",
    "                \n",
    "#             dMdb += (np.dot(dSdxyz[1][ys_prime_valid, xs_prime_valid], -cos_z*sc_best*xs_valid) + \\\n",
    "#                     np.dot(dSdxyz[0][ys_prime_valid, xs_prime_valid], -sin_z*sc_best*xs_valid)) * sc_best\n",
    "\n",
    "#         print '(dMdu, dMdv):', dMdu, dMdv\n",
    "#         print '(dMdaz):', dMdaz\n",
    "#         print '(dMdsx, dMdsy):', dMdsx, dMdsy\n",
    "#         print '(dMda, dMdb):', dMda, dMdb\n",
    "\n",
    "#         print 'lr1:', lr1, ', lr2:', lr2, ', lr3:', lr3, ', lr4:', lr4\n",
    "\n",
    "#         lr1 = lr[0]*np.exp(-iteration/30.)\n",
    "        \n",
    "#         lr3 = lr[2]*np.exp(-iteration/30.)\n",
    "        \n",
    "        tx_best += lr1*dMdu\n",
    "        ty_best += lr1*dMdv\n",
    "        theta_best += lr2*dMdaz\n",
    "\n",
    "        theta_best = theta_best%(2*np.pi)\n",
    "        if theta_best > np.pi:\n",
    "            theta_best -= 2*np.pi\n",
    "        elif theta_best < -np.pi:\n",
    "            theta_best += 2*np.pi\n",
    "            \n",
    "        sx_best += lr3*dMdsx\n",
    "        sy_best += lr3*dMdsy\n",
    "        \n",
    "        sx_best = min(2., max(sx_best, 0.1))\n",
    "        sy_best = min(2., max(sy_best, 0.1))\n",
    "        \n",
    "        a_best += lr4*dMda\n",
    "        b_best += lr4*dMdb\n",
    "    \n",
    "#         print '(tx_best, ty_best):', tx_best, ty_best\n",
    "#         print '(theta_best):', theta_best\n",
    "#         print '(theta_best) in degrees:', np.rad2deg(theta_best)\n",
    "#         print '(scx_best, scy_best):', sx_best, sy_best\n",
    "#         print '(a, b):', a_best, b_best\n",
    "\n",
    "        s = scoremap[ys_prime_valid, xs_prime_valid].sum() * sx_best * sy_best\n",
    "#         s = scoremap[ys_prime_valid, xs_prime_valid].sum()\n",
    "\n",
    "#         print 'score:', s\n",
    "        scores.append(s)\n",
    "\n",
    "#         print '\\n'\n",
    "        \n",
    "        params_best_upToNow = (tx_best, ty_best, theta_best, sx_best, sy_best, a_best, b_best)\n",
    "\n",
    "#         if s > score_best:\n",
    "#             print 'Current best'\n",
    "#             params_best_upToNow = (tx_best, ty_best, theta_best, sx_best, sy_best, a_best, b_best)\n",
    "#             score_best = s\n",
    "        \n",
    "    best_finetune_params = params_best_upToNow\n",
    "    \n",
    "    if return_scores:\n",
    "        return best_finetune_params, scores\n",
    "    else:\n",
    "        return best_finetune_params"
   ]
  },
  {
   "cell_type": "code",
   "execution_count": 15,
   "metadata": {
    "collapsed": true
   },
   "outputs": [],
   "source": [
    "labels_to_detect = ['5N', '7n', '7N', '12N', 'Gr', 'LVe', 'Pn', 'SuVe', 'VLL']"
   ]
  },
  {
   "cell_type": "code",
   "execution_count": 66,
   "metadata": {
    "collapsed": true
   },
   "outputs": [],
   "source": [
    "import cPickle as pickle\n",
    "import datetime"
   ]
  },
  {
   "cell_type": "code",
   "execution_count": 74,
   "metadata": {
    "collapsed": true
   },
   "outputs": [],
   "source": [
    "autoAnnotations_rootdir = '/oasis/projects/nsf/csd395/yuncong/CSHL_autoAnnotations'\n",
    "\n",
    "autoAnnotations_dir = os.path.join(autoAnnotations_rootdir, stack)\n",
    "if not os.path.exists(autoAnnotations_dir):\n",
    "    os.makedirs(autoAnnotations_dir)"
   ]
  },
  {
   "cell_type": "code",
   "execution_count": 80,
   "metadata": {
    "collapsed": false,
    "scrolled": true
   },
   "outputs": [
    {
     "name": "stdout",
     "output_type": "stream",
     "text": [
      "150\n",
      "5N\n",
      "VLL\n"
     ]
    },
    {
     "name": "stderr",
     "output_type": "stream",
     "text": [
      "No neighbor within three sections has annotation of class 7n.\n",
      "No neighbor within three sections has annotation of class 7N.\n",
      "No neighbor within three sections has annotation of class 12N.\n",
      "No neighbor within three sections has annotation of class Gr.\n",
      "No neighbor within three sections has annotation of class LVe.\n",
      "No neighbor within three sections has annotation of class Pn.\n",
      "No neighbor within three sections has annotation of class SuVe.\n"
     ]
    },
    {
     "name": "stdout",
     "output_type": "stream",
     "text": [
      "151\n",
      "5N\n",
      "7n\n",
      "7N\n",
      "VLL\n"
     ]
    },
    {
     "name": "stderr",
     "output_type": "stream",
     "text": [
      "No neighbor within three sections has annotation of class 12N.\n",
      "No neighbor within three sections has annotation of class Gr.\n",
      "No neighbor within three sections has annotation of class LVe.\n",
      "No neighbor within three sections has annotation of class Pn.\n",
      "No neighbor within three sections has annotation of class SuVe.\n"
     ]
    },
    {
     "name": "stdout",
     "output_type": "stream",
     "text": [
      "152\n",
      "5N\n",
      "7n\n",
      "7N\n",
      "VLL\n"
     ]
    },
    {
     "name": "stderr",
     "output_type": "stream",
     "text": [
      "No neighbor within three sections has annotation of class 12N.\n",
      "No neighbor within three sections has annotation of class Gr.\n",
      "No neighbor within three sections has annotation of class LVe.\n",
      "No neighbor within three sections has annotation of class Pn.\n",
      "No neighbor within three sections has annotation of class SuVe.\n"
     ]
    },
    {
     "name": "stdout",
     "output_type": "stream",
     "text": [
      "153\n",
      "5N\n",
      "7n\n",
      "7N\n",
      "VLL\n"
     ]
    },
    {
     "name": "stderr",
     "output_type": "stream",
     "text": [
      "No neighbor within three sections has annotation of class 12N.\n",
      "No neighbor within three sections has annotation of class Gr.\n",
      "No neighbor within three sections has annotation of class LVe.\n",
      "No neighbor within three sections has annotation of class Pn.\n",
      "No neighbor within three sections has annotation of class SuVe.\n"
     ]
    },
    {
     "name": "stdout",
     "output_type": "stream",
     "text": [
      "154\n",
      "155\n",
      "5N\n"
     ]
    },
    {
     "name": "stderr",
     "output_type": "stream",
     "text": [
      "No neighbor within three sections has annotation of class 5N.\n",
      "No neighbor within three sections has annotation of class 7n.\n",
      "No neighbor within three sections has annotation of class 7N.\n",
      "No neighbor within three sections has annotation of class 12N.\n",
      "No neighbor within three sections has annotation of class Gr.\n",
      "No neighbor within three sections has annotation of class LVe.\n",
      "No neighbor within three sections has annotation of class Pn.\n",
      "No neighbor within three sections has annotation of class SuVe.\n",
      "No neighbor within three sections has annotation of class VLL.\n"
     ]
    },
    {
     "name": "stdout",
     "output_type": "stream",
     "text": [
      "7n\n",
      "7N\n",
      "VLL\n"
     ]
    },
    {
     "name": "stderr",
     "output_type": "stream",
     "text": [
      "No neighbor within three sections has annotation of class 12N.\n",
      "No neighbor within three sections has annotation of class Gr.\n",
      "No neighbor within three sections has annotation of class LVe.\n",
      "No neighbor within three sections has annotation of class Pn.\n",
      "No neighbor within three sections has annotation of class SuVe.\n"
     ]
    },
    {
     "name": "stdout",
     "output_type": "stream",
     "text": [
      "156\n",
      "5N\n",
      "7n\n",
      "7N\n",
      "VLL\n"
     ]
    },
    {
     "name": "stderr",
     "output_type": "stream",
     "text": [
      "No neighbor within three sections has annotation of class 12N.\n",
      "No neighbor within three sections has annotation of class Gr.\n",
      "No neighbor within three sections has annotation of class LVe.\n",
      "No neighbor within three sections has annotation of class Pn.\n",
      "No neighbor within three sections has annotation of class SuVe.\n"
     ]
    },
    {
     "name": "stdout",
     "output_type": "stream",
     "text": [
      "157\n",
      "5N\n",
      "7n\n",
      "7N\n",
      "VLL\n"
     ]
    },
    {
     "name": "stderr",
     "output_type": "stream",
     "text": [
      "No neighbor within three sections has annotation of class 12N.\n",
      "No neighbor within three sections has annotation of class Gr.\n",
      "No neighbor within three sections has annotation of class LVe.\n",
      "No neighbor within three sections has annotation of class Pn.\n",
      "No neighbor within three sections has annotation of class SuVe.\n"
     ]
    },
    {
     "name": "stdout",
     "output_type": "stream",
     "text": [
      "158\n",
      "5N\n",
      "7n\n",
      "7N\n",
      "VLL\n"
     ]
    },
    {
     "name": "stderr",
     "output_type": "stream",
     "text": [
      "No neighbor within three sections has annotation of class 12N.\n",
      "No neighbor within three sections has annotation of class Gr.\n",
      "No neighbor within three sections has annotation of class LVe.\n",
      "No neighbor within three sections has annotation of class Pn.\n",
      "No neighbor within three sections has annotation of class SuVe.\n"
     ]
    },
    {
     "name": "stdout",
     "output_type": "stream",
     "text": [
      "159\n",
      "5N\n",
      "7n\n",
      "7N\n",
      "VLL\n"
     ]
    },
    {
     "name": "stderr",
     "output_type": "stream",
     "text": [
      "No neighbor within three sections has annotation of class 12N.\n",
      "No neighbor within three sections has annotation of class Gr.\n",
      "No neighbor within three sections has annotation of class LVe.\n",
      "No neighbor within three sections has annotation of class Pn.\n",
      "No neighbor within three sections has annotation of class SuVe.\n"
     ]
    },
    {
     "name": "stdout",
     "output_type": "stream",
     "text": [
      "160\n",
      "5N\n",
      "7n\n",
      "7N\n",
      "VLL\n"
     ]
    },
    {
     "name": "stderr",
     "output_type": "stream",
     "text": [
      "No neighbor within three sections has annotation of class 12N.\n",
      "No neighbor within three sections has annotation of class Gr.\n",
      "No neighbor within three sections has annotation of class LVe.\n",
      "No neighbor within three sections has annotation of class Pn.\n",
      "No neighbor within three sections has annotation of class SuVe.\n"
     ]
    },
    {
     "name": "stdout",
     "output_type": "stream",
     "text": [
      "161\n",
      "5N\n",
      "7n\n",
      "7N\n",
      "LVe\n"
     ]
    },
    {
     "name": "stderr",
     "output_type": "stream",
     "text": [
      "No neighbor within three sections has annotation of class 12N.\n",
      "No neighbor within three sections has annotation of class Gr.\n"
     ]
    },
    {
     "name": "stdout",
     "output_type": "stream",
     "text": [
      "SuVe\n"
     ]
    },
    {
     "name": "stderr",
     "output_type": "stream",
     "text": [
      "No neighbor within three sections has annotation of class Pn.\n"
     ]
    },
    {
     "name": "stdout",
     "output_type": "stream",
     "text": [
      "VLL\n",
      "162\n",
      "5N\n",
      "7n\n",
      "7N\n",
      "LVe\n"
     ]
    },
    {
     "name": "stderr",
     "output_type": "stream",
     "text": [
      "No neighbor within three sections has annotation of class 12N.\n",
      "No neighbor within three sections has annotation of class Gr.\n"
     ]
    },
    {
     "name": "stdout",
     "output_type": "stream",
     "text": [
      "SuVe\n"
     ]
    },
    {
     "name": "stderr",
     "output_type": "stream",
     "text": [
      "No neighbor within three sections has annotation of class Pn.\n"
     ]
    },
    {
     "name": "stdout",
     "output_type": "stream",
     "text": [
      "VLL\n",
      "163\n",
      "5N\n",
      "7n\n",
      "7N\n",
      "LVe\n"
     ]
    },
    {
     "name": "stderr",
     "output_type": "stream",
     "text": [
      "No neighbor within three sections has annotation of class 12N.\n",
      "No neighbor within three sections has annotation of class Gr.\n"
     ]
    },
    {
     "name": "stdout",
     "output_type": "stream",
     "text": [
      "SuVe\n"
     ]
    },
    {
     "name": "stderr",
     "output_type": "stream",
     "text": [
      "No neighbor within three sections has annotation of class Pn.\n"
     ]
    },
    {
     "name": "stdout",
     "output_type": "stream",
     "text": [
      "VLL\n",
      "164\n",
      "5N\n",
      "7n\n",
      "7N\n",
      "LVe\n"
     ]
    },
    {
     "name": "stderr",
     "output_type": "stream",
     "text": [
      "No neighbor within three sections has annotation of class 12N.\n",
      "No neighbor within three sections has annotation of class Gr.\n"
     ]
    },
    {
     "name": "stdout",
     "output_type": "stream",
     "text": [
      "SuVe\n"
     ]
    },
    {
     "name": "stderr",
     "output_type": "stream",
     "text": [
      "No neighbor within three sections has annotation of class Pn.\n"
     ]
    },
    {
     "name": "stdout",
     "output_type": "stream",
     "text": [
      "VLL\n",
      "165\n",
      "5N\n",
      "7n\n",
      "7N\n",
      "LVe\n"
     ]
    },
    {
     "name": "stderr",
     "output_type": "stream",
     "text": [
      "No neighbor within three sections has annotation of class 12N.\n",
      "No neighbor within three sections has annotation of class Gr.\n"
     ]
    },
    {
     "name": "stdout",
     "output_type": "stream",
     "text": [
      "Pn\n",
      "SuVe\n",
      "VLL\n",
      "166\n",
      "5N\n",
      "7n\n",
      "7N\n",
      "LVe\n"
     ]
    },
    {
     "name": "stderr",
     "output_type": "stream",
     "text": [
      "No neighbor within three sections has annotation of class 12N.\n",
      "No neighbor within three sections has annotation of class Gr.\n"
     ]
    },
    {
     "name": "stdout",
     "output_type": "stream",
     "text": [
      "Pn\n",
      "SuVe\n",
      "VLL\n",
      "167\n",
      "5N\n",
      "7n\n",
      "7N\n",
      "LVe\n"
     ]
    },
    {
     "name": "stderr",
     "output_type": "stream",
     "text": [
      "No neighbor within three sections has annotation of class 12N.\n",
      "No neighbor within three sections has annotation of class Gr.\n"
     ]
    },
    {
     "name": "stdout",
     "output_type": "stream",
     "text": [
      "Pn\n",
      "SuVe\n",
      "VLL\n",
      "168\n",
      "5N\n",
      "7n\n",
      "7N\n",
      "LVe\n"
     ]
    },
    {
     "name": "stderr",
     "output_type": "stream",
     "text": [
      "No neighbor within three sections has annotation of class 12N.\n",
      "No neighbor within three sections has annotation of class Gr.\n"
     ]
    },
    {
     "name": "stdout",
     "output_type": "stream",
     "text": [
      "Pn\n",
      "SuVe\n",
      "VLL\n",
      "169\n",
      "5N\n",
      "7n\n",
      "7N\n",
      "LVe\n"
     ]
    },
    {
     "name": "stderr",
     "output_type": "stream",
     "text": [
      "No neighbor within three sections has annotation of class 12N.\n",
      "No neighbor within three sections has annotation of class Gr.\n"
     ]
    },
    {
     "name": "stdout",
     "output_type": "stream",
     "text": [
      "Pn\n",
      "SuVe\n",
      "VLL\n",
      "170\n",
      "5N\n",
      "7n\n",
      "7N\n",
      "LVe\n"
     ]
    },
    {
     "name": "stderr",
     "output_type": "stream",
     "text": [
      "No neighbor within three sections has annotation of class 12N.\n",
      "No neighbor within three sections has annotation of class Gr.\n"
     ]
    },
    {
     "name": "stdout",
     "output_type": "stream",
     "text": [
      "Pn\n",
      "SuVe\n",
      "171\n",
      "5N\n"
     ]
    },
    {
     "name": "stderr",
     "output_type": "stream",
     "text": [
      "No neighbor within three sections has annotation of class VLL.\n"
     ]
    },
    {
     "name": "stdout",
     "output_type": "stream",
     "text": [
      "7n\n",
      "7N\n",
      "LVe\n"
     ]
    },
    {
     "name": "stderr",
     "output_type": "stream",
     "text": [
      "No neighbor within three sections has annotation of class 12N.\n",
      "No neighbor within three sections has annotation of class Gr.\n"
     ]
    },
    {
     "name": "stdout",
     "output_type": "stream",
     "text": [
      "Pn\n",
      "SuVe\n",
      "172\n",
      "5N\n"
     ]
    },
    {
     "name": "stderr",
     "output_type": "stream",
     "text": [
      "No neighbor within three sections has annotation of class VLL.\n"
     ]
    },
    {
     "name": "stdout",
     "output_type": "stream",
     "text": [
      "7n\n",
      "7N\n",
      "LVe\n"
     ]
    },
    {
     "name": "stderr",
     "output_type": "stream",
     "text": [
      "No neighbor within three sections has annotation of class 12N.\n",
      "No neighbor within three sections has annotation of class Gr.\n"
     ]
    },
    {
     "name": "stdout",
     "output_type": "stream",
     "text": [
      "Pn\n",
      "SuVe\n",
      "173\n",
      "5N\n"
     ]
    },
    {
     "name": "stderr",
     "output_type": "stream",
     "text": [
      "No neighbor within three sections has annotation of class VLL.\n"
     ]
    },
    {
     "name": "stdout",
     "output_type": "stream",
     "text": [
      "7n\n",
      "7N\n",
      "LVe\n"
     ]
    },
    {
     "name": "stderr",
     "output_type": "stream",
     "text": [
      "No neighbor within three sections has annotation of class 12N.\n",
      "No neighbor within three sections has annotation of class Gr.\n"
     ]
    },
    {
     "name": "stdout",
     "output_type": "stream",
     "text": [
      "Pn\n",
      "SuVe\n"
     ]
    },
    {
     "name": "stderr",
     "output_type": "stream",
     "text": [
      "No neighbor within three sections has annotation of class VLL.\n",
      "No neighbor within three sections has annotation of class 5N.\n"
     ]
    },
    {
     "name": "stdout",
     "output_type": "stream",
     "text": [
      "174\n",
      "7n\n",
      "7N\n",
      "Pn\n"
     ]
    },
    {
     "name": "stderr",
     "output_type": "stream",
     "text": [
      "No neighbor within three sections has annotation of class 12N.\n",
      "No neighbor within three sections has annotation of class Gr.\n",
      "No neighbor within three sections has annotation of class LVe.\n"
     ]
    },
    {
     "name": "stdout",
     "output_type": "stream",
     "text": [
      "SuVe\n"
     ]
    },
    {
     "name": "stderr",
     "output_type": "stream",
     "text": [
      "No neighbor within three sections has annotation of class VLL.\n",
      "No neighbor within three sections has annotation of class 5N.\n"
     ]
    },
    {
     "name": "stdout",
     "output_type": "stream",
     "text": [
      "175\n",
      "7n\n",
      "7N\n",
      "Pn\n"
     ]
    },
    {
     "name": "stderr",
     "output_type": "stream",
     "text": [
      "No neighbor within three sections has annotation of class 12N.\n",
      "No neighbor within three sections has annotation of class Gr.\n",
      "No neighbor within three sections has annotation of class LVe.\n"
     ]
    },
    {
     "name": "stdout",
     "output_type": "stream",
     "text": [
      "SuVe\n"
     ]
    },
    {
     "name": "stderr",
     "output_type": "stream",
     "text": [
      "No neighbor within three sections has annotation of class VLL.\n",
      "No neighbor within three sections has annotation of class 5N.\n"
     ]
    },
    {
     "name": "stdout",
     "output_type": "stream",
     "text": [
      "176\n",
      "7n\n",
      "7N\n",
      "Pn\n"
     ]
    },
    {
     "name": "stderr",
     "output_type": "stream",
     "text": [
      "No neighbor within three sections has annotation of class 12N.\n",
      "No neighbor within three sections has annotation of class Gr.\n",
      "No neighbor within three sections has annotation of class LVe.\n",
      "No neighbor within three sections has annotation of class SuVe.\n",
      "No neighbor within three sections has annotation of class VLL.\n",
      "No neighbor within three sections has annotation of class 5N.\n"
     ]
    },
    {
     "name": "stdout",
     "output_type": "stream",
     "text": [
      "177\n",
      "7n\n",
      "7N\n",
      "Pn\n"
     ]
    },
    {
     "name": "stderr",
     "output_type": "stream",
     "text": [
      "No neighbor within three sections has annotation of class 12N.\n",
      "No neighbor within three sections has annotation of class Gr.\n",
      "No neighbor within three sections has annotation of class LVe.\n",
      "No neighbor within three sections has annotation of class SuVe.\n",
      "No neighbor within three sections has annotation of class VLL.\n",
      "No neighbor within three sections has annotation of class 5N.\n"
     ]
    },
    {
     "name": "stdout",
     "output_type": "stream",
     "text": [
      "178\n",
      "7n\n",
      "7N\n",
      "Pn\n"
     ]
    },
    {
     "name": "stderr",
     "output_type": "stream",
     "text": [
      "No neighbor within three sections has annotation of class 12N.\n",
      "No neighbor within three sections has annotation of class Gr.\n",
      "No neighbor within three sections has annotation of class LVe.\n",
      "No neighbor within three sections has annotation of class SuVe.\n",
      "No neighbor within three sections has annotation of class VLL.\n",
      "No neighbor within three sections has annotation of class 5N.\n"
     ]
    },
    {
     "name": "stdout",
     "output_type": "stream",
     "text": [
      "179\n",
      "7n\n",
      "7N\n",
      "Pn\n"
     ]
    },
    {
     "name": "stderr",
     "output_type": "stream",
     "text": [
      "No neighbor within three sections has annotation of class 12N.\n",
      "No neighbor within three sections has annotation of class Gr.\n",
      "No neighbor within three sections has annotation of class LVe.\n",
      "No neighbor within three sections has annotation of class SuVe.\n",
      "No neighbor within three sections has annotation of class VLL.\n",
      "No neighbor within three sections has annotation of class 5N.\n"
     ]
    },
    {
     "name": "stdout",
     "output_type": "stream",
     "text": [
      "180\n",
      "7n\n",
      "7N\n",
      "Pn\n"
     ]
    },
    {
     "name": "stderr",
     "output_type": "stream",
     "text": [
      "No neighbor within three sections has annotation of class 12N.\n",
      "No neighbor within three sections has annotation of class Gr.\n",
      "No neighbor within three sections has annotation of class LVe.\n",
      "No neighbor within three sections has annotation of class SuVe.\n",
      "No neighbor within three sections has annotation of class VLL.\n",
      "No neighbor within three sections has annotation of class 5N.\n"
     ]
    },
    {
     "name": "stdout",
     "output_type": "stream",
     "text": [
      "181\n",
      "7n\n",
      "7N\n",
      "Gr\n"
     ]
    },
    {
     "name": "stderr",
     "output_type": "stream",
     "text": [
      "No neighbor within three sections has annotation of class 12N.\n"
     ]
    },
    {
     "name": "stdout",
     "output_type": "stream",
     "text": [
      "Pn\n"
     ]
    },
    {
     "name": "stderr",
     "output_type": "stream",
     "text": [
      "No neighbor within three sections has annotation of class LVe.\n",
      "No neighbor within three sections has annotation of class SuVe.\n",
      "No neighbor within three sections has annotation of class VLL.\n",
      "No neighbor within three sections has annotation of class 5N.\n"
     ]
    },
    {
     "name": "stdout",
     "output_type": "stream",
     "text": [
      "182\n",
      "7n\n",
      "7N\n",
      "Gr\n"
     ]
    },
    {
     "name": "stderr",
     "output_type": "stream",
     "text": [
      "No neighbor within three sections has annotation of class 12N.\n"
     ]
    },
    {
     "name": "stdout",
     "output_type": "stream",
     "text": [
      "Pn\n"
     ]
    },
    {
     "name": "stderr",
     "output_type": "stream",
     "text": [
      "No neighbor within three sections has annotation of class LVe.\n",
      "No neighbor within three sections has annotation of class SuVe.\n",
      "No neighbor within three sections has annotation of class VLL.\n",
      "No neighbor within three sections has annotation of class 5N.\n"
     ]
    },
    {
     "name": "stdout",
     "output_type": "stream",
     "text": [
      "183\n",
      "7n\n",
      "7N\n",
      "Gr\n"
     ]
    },
    {
     "name": "stderr",
     "output_type": "stream",
     "text": [
      "No neighbor within three sections has annotation of class 12N.\n"
     ]
    },
    {
     "name": "stdout",
     "output_type": "stream",
     "text": [
      "Pn\n"
     ]
    },
    {
     "name": "stderr",
     "output_type": "stream",
     "text": [
      "No neighbor within three sections has annotation of class LVe.\n",
      "No neighbor within three sections has annotation of class SuVe.\n",
      "No neighbor within three sections has annotation of class VLL.\n",
      "No neighbor within three sections has annotation of class 5N.\n"
     ]
    },
    {
     "name": "stdout",
     "output_type": "stream",
     "text": [
      "184\n",
      "7n\n",
      "7N\n",
      "Gr\n"
     ]
    },
    {
     "name": "stderr",
     "output_type": "stream",
     "text": [
      "No neighbor within three sections has annotation of class 12N.\n"
     ]
    },
    {
     "name": "stdout",
     "output_type": "stream",
     "text": [
      "Pn\n"
     ]
    },
    {
     "name": "stderr",
     "output_type": "stream",
     "text": [
      "No neighbor within three sections has annotation of class LVe.\n",
      "No neighbor within three sections has annotation of class SuVe.\n",
      "No neighbor within three sections has annotation of class VLL.\n",
      "No neighbor within three sections has annotation of class 5N.\n"
     ]
    },
    {
     "name": "stdout",
     "output_type": "stream",
     "text": [
      "185\n",
      "7n\n",
      "7N\n",
      "Gr\n"
     ]
    },
    {
     "name": "stderr",
     "output_type": "stream",
     "text": [
      "No neighbor within three sections has annotation of class 12N.\n"
     ]
    },
    {
     "name": "stdout",
     "output_type": "stream",
     "text": [
      "Pn\n"
     ]
    },
    {
     "name": "stderr",
     "output_type": "stream",
     "text": [
      "No neighbor within three sections has annotation of class LVe.\n",
      "No neighbor within three sections has annotation of class SuVe.\n",
      "No neighbor within three sections has annotation of class VLL.\n",
      "No neighbor within three sections has annotation of class 5N.\n"
     ]
    },
    {
     "name": "stdout",
     "output_type": "stream",
     "text": [
      "186\n",
      "7n\n",
      "7N\n",
      "Gr\n"
     ]
    },
    {
     "name": "stderr",
     "output_type": "stream",
     "text": [
      "No neighbor within three sections has annotation of class 12N.\n"
     ]
    },
    {
     "name": "stdout",
     "output_type": "stream",
     "text": [
      "Pn\n"
     ]
    },
    {
     "name": "stderr",
     "output_type": "stream",
     "text": [
      "No neighbor within three sections has annotation of class LVe.\n",
      "No neighbor within three sections has annotation of class SuVe.\n",
      "No neighbor within three sections has annotation of class VLL.\n",
      "No neighbor within three sections has annotation of class 5N.\n"
     ]
    },
    {
     "name": "stdout",
     "output_type": "stream",
     "text": [
      "187\n",
      "7n\n",
      "7N\n",
      "Gr\n"
     ]
    },
    {
     "name": "stderr",
     "output_type": "stream",
     "text": [
      "No neighbor within three sections has annotation of class 12N.\n"
     ]
    },
    {
     "name": "stdout",
     "output_type": "stream",
     "text": [
      "Pn\n"
     ]
    },
    {
     "name": "stderr",
     "output_type": "stream",
     "text": [
      "No neighbor within three sections has annotation of class LVe.\n",
      "No neighbor within three sections has annotation of class SuVe.\n",
      "No neighbor within three sections has annotation of class VLL.\n",
      "No neighbor within three sections has annotation of class 5N.\n"
     ]
    },
    {
     "name": "stdout",
     "output_type": "stream",
     "text": [
      "188\n",
      "7n\n",
      "7N\n",
      "Gr\n"
     ]
    },
    {
     "name": "stderr",
     "output_type": "stream",
     "text": [
      "No neighbor within three sections has annotation of class 12N.\n"
     ]
    },
    {
     "name": "stdout",
     "output_type": "stream",
     "text": [
      "Pn\n"
     ]
    },
    {
     "name": "stderr",
     "output_type": "stream",
     "text": [
      "No neighbor within three sections has annotation of class LVe.\n",
      "No neighbor within three sections has annotation of class SuVe.\n",
      "No neighbor within three sections has annotation of class VLL.\n",
      "No neighbor within three sections has annotation of class 5N.\n"
     ]
    },
    {
     "name": "stdout",
     "output_type": "stream",
     "text": [
      "189\n",
      "7n\n",
      "7N\n",
      "Gr\n"
     ]
    },
    {
     "name": "stderr",
     "output_type": "stream",
     "text": [
      "No neighbor within three sections has annotation of class 12N.\n"
     ]
    },
    {
     "name": "stdout",
     "output_type": "stream",
     "text": [
      "Pn\n"
     ]
    },
    {
     "name": "stderr",
     "output_type": "stream",
     "text": [
      "No neighbor within three sections has annotation of class LVe.\n",
      "No neighbor within three sections has annotation of class SuVe.\n",
      "No neighbor within three sections has annotation of class VLL.\n",
      "No neighbor within three sections has annotation of class 5N.\n"
     ]
    },
    {
     "name": "stdout",
     "output_type": "stream",
     "text": [
      "190\n",
      "7n\n",
      "7N\n",
      "Gr\n"
     ]
    },
    {
     "name": "stderr",
     "output_type": "stream",
     "text": [
      "No neighbor within three sections has annotation of class 12N.\n"
     ]
    },
    {
     "name": "stdout",
     "output_type": "stream",
     "text": [
      "Pn\n"
     ]
    },
    {
     "name": "stderr",
     "output_type": "stream",
     "text": [
      "No neighbor within three sections has annotation of class LVe.\n",
      "No neighbor within three sections has annotation of class SuVe.\n",
      "No neighbor within three sections has annotation of class VLL.\n",
      "No neighbor within three sections has annotation of class 5N.\n"
     ]
    },
    {
     "name": "stdout",
     "output_type": "stream",
     "text": [
      "191\n",
      "7n\n",
      "7N\n",
      "Gr\n"
     ]
    },
    {
     "name": "stderr",
     "output_type": "stream",
     "text": [
      "No neighbor within three sections has annotation of class 12N.\n"
     ]
    },
    {
     "name": "stdout",
     "output_type": "stream",
     "text": [
      "Pn\n"
     ]
    },
    {
     "name": "stderr",
     "output_type": "stream",
     "text": [
      "No neighbor within three sections has annotation of class LVe.\n",
      "No neighbor within three sections has annotation of class SuVe.\n",
      "No neighbor within three sections has annotation of class VLL.\n",
      "No neighbor within three sections has annotation of class 5N.\n"
     ]
    },
    {
     "name": "stdout",
     "output_type": "stream",
     "text": [
      "192\n",
      "7n\n",
      "7N\n",
      "Gr\n"
     ]
    },
    {
     "name": "stderr",
     "output_type": "stream",
     "text": [
      "No neighbor within three sections has annotation of class 12N.\n"
     ]
    },
    {
     "name": "stdout",
     "output_type": "stream",
     "text": [
      "Pn\n"
     ]
    },
    {
     "name": "stderr",
     "output_type": "stream",
     "text": [
      "No neighbor within three sections has annotation of class LVe.\n",
      "No neighbor within three sections has annotation of class SuVe.\n",
      "No neighbor within three sections has annotation of class VLL.\n",
      "No neighbor within three sections has annotation of class 5N.\n"
     ]
    },
    {
     "name": "stdout",
     "output_type": "stream",
     "text": [
      "193\n",
      "7n\n",
      "7N\n",
      "Gr\n"
     ]
    },
    {
     "name": "stderr",
     "output_type": "stream",
     "text": [
      "No neighbor within three sections has annotation of class 12N.\n"
     ]
    },
    {
     "name": "stdout",
     "output_type": "stream",
     "text": [
      "Pn\n"
     ]
    },
    {
     "name": "stderr",
     "output_type": "stream",
     "text": [
      "No neighbor within three sections has annotation of class LVe.\n",
      "No neighbor within three sections has annotation of class SuVe.\n",
      "No neighbor within three sections has annotation of class VLL.\n",
      "No neighbor within three sections has annotation of class 5N.\n"
     ]
    },
    {
     "name": "stdout",
     "output_type": "stream",
     "text": [
      "194\n",
      "7n\n",
      "7N\n",
      "Gr\n"
     ]
    },
    {
     "name": "stderr",
     "output_type": "stream",
     "text": [
      "No neighbor within three sections has annotation of class 12N.\n"
     ]
    },
    {
     "name": "stdout",
     "output_type": "stream",
     "text": [
      "Pn\n"
     ]
    },
    {
     "name": "stderr",
     "output_type": "stream",
     "text": [
      "No neighbor within three sections has annotation of class LVe.\n",
      "No neighbor within three sections has annotation of class SuVe.\n",
      "No neighbor within three sections has annotation of class VLL.\n",
      "No neighbor within three sections has annotation of class 5N.\n"
     ]
    },
    {
     "name": "stdout",
     "output_type": "stream",
     "text": [
      "195\n",
      "7n\n",
      "7N\n",
      "Gr\n"
     ]
    },
    {
     "name": "stderr",
     "output_type": "stream",
     "text": [
      "No neighbor within three sections has annotation of class 12N.\n"
     ]
    },
    {
     "name": "stdout",
     "output_type": "stream",
     "text": [
      "Pn\n"
     ]
    },
    {
     "name": "stderr",
     "output_type": "stream",
     "text": [
      "No neighbor within three sections has annotation of class LVe.\n",
      "No neighbor within three sections has annotation of class SuVe.\n",
      "No neighbor within three sections has annotation of class VLL.\n",
      "No neighbor within three sections has annotation of class 5N.\n"
     ]
    },
    {
     "name": "stdout",
     "output_type": "stream",
     "text": [
      "196\n",
      "7n\n",
      "7N\n",
      "Gr\n"
     ]
    },
    {
     "name": "stderr",
     "output_type": "stream",
     "text": [
      "No neighbor within three sections has annotation of class 12N.\n"
     ]
    },
    {
     "name": "stdout",
     "output_type": "stream",
     "text": [
      "Pn\n"
     ]
    },
    {
     "name": "stderr",
     "output_type": "stream",
     "text": [
      "No neighbor within three sections has annotation of class LVe.\n",
      "No neighbor within three sections has annotation of class SuVe.\n",
      "No neighbor within three sections has annotation of class VLL.\n",
      "No neighbor within three sections has annotation of class 5N.\n"
     ]
    },
    {
     "name": "stdout",
     "output_type": "stream",
     "text": [
      "197\n",
      "7n\n",
      "7N\n",
      "Gr\n"
     ]
    },
    {
     "name": "stderr",
     "output_type": "stream",
     "text": [
      "No neighbor within three sections has annotation of class 12N.\n"
     ]
    },
    {
     "name": "stdout",
     "output_type": "stream",
     "text": [
      "Pn\n"
     ]
    },
    {
     "name": "stderr",
     "output_type": "stream",
     "text": [
      "No neighbor within three sections has annotation of class LVe.\n",
      "No neighbor within three sections has annotation of class SuVe.\n",
      "No neighbor within three sections has annotation of class VLL.\n",
      "No neighbor within three sections has annotation of class 5N.\n"
     ]
    },
    {
     "name": "stdout",
     "output_type": "stream",
     "text": [
      "198\n",
      "7n\n",
      "7N\n",
      "Gr\n"
     ]
    },
    {
     "name": "stderr",
     "output_type": "stream",
     "text": [
      "No neighbor within three sections has annotation of class 12N.\n"
     ]
    },
    {
     "name": "stdout",
     "output_type": "stream",
     "text": [
      "Pn\n"
     ]
    },
    {
     "name": "stderr",
     "output_type": "stream",
     "text": [
      "No neighbor within three sections has annotation of class LVe.\n",
      "No neighbor within three sections has annotation of class SuVe.\n",
      "No neighbor within three sections has annotation of class VLL.\n",
      "No neighbor within three sections has annotation of class 5N.\n"
     ]
    },
    {
     "name": "stdout",
     "output_type": "stream",
     "text": [
      "199\n",
      "7n\n",
      "7N\n",
      "Gr\n"
     ]
    },
    {
     "name": "stderr",
     "output_type": "stream",
     "text": [
      "No neighbor within three sections has annotation of class 12N.\n"
     ]
    },
    {
     "name": "stdout",
     "output_type": "stream",
     "text": [
      "Pn\n"
     ]
    },
    {
     "name": "stderr",
     "output_type": "stream",
     "text": [
      "No neighbor within three sections has annotation of class LVe.\n",
      "No neighbor within three sections has annotation of class SuVe.\n",
      "No neighbor within three sections has annotation of class VLL.\n"
     ]
    }
   ],
   "source": [
    "# for sec in range(first_bs_sec, last_bs_sec+1):\n",
    "# for sec in [158]:\n",
    "for sec in range(150, 200):\n",
    "# for sec in range(157, 167):\n",
    "\n",
    "    print sec\n",
    "\n",
    "    new_res = []\n",
    "\n",
    "    for l in labels_to_detect:\n",
    "\n",
    "        nbrs_containing_this_label = [(abs(nbr-sec), nbr) for i, nbr in enumerate(range(sec-3,sec)+range(sec+1,sec+4)) \n",
    "                if nbr in section_contains_label and l in section_contains_label[nbr]]\n",
    "\n",
    "        if len(nbrs_containing_this_label) == 0:\n",
    "            sys.stderr.write('No neighbor within three sections has annotation of class %s.\\n' % l)\n",
    "            continue\n",
    "\n",
    "        closest_nbr = sorted(nbrs_containing_this_label)[0][1]\n",
    "\n",
    "        print l\n",
    "\n",
    "        dm = DataManager(stack=stack, section=closest_nbr)\n",
    "        user, ts, _, res = dm.load_proposal_review_result('yuncong', 'latest', 'consolidated')\n",
    "\n",
    "        lm = [lm for lm in res if lm['label'] == l][0]\n",
    "\n",
    "        init_cnt = np.array(lm['vertices'])\n",
    "\n",
    "        init_cnt = (init_cnt/8 - (399, 567)).astype(np.int)\n",
    "\n",
    "        global scoremap\n",
    "        scoremap = np.load('/oasis/projects/nsf/csd395/yuncong/CSHL_scoremaps_lossless/%(stack)s/%(sec)04d/%(stack)s_%(sec)04d_roi1_denseScoreMapLossless_%(label)s.npz' % \\\n",
    "                          {'stack': stack, 'sec': sec, 'label': l})['arr_0']\n",
    "\n",
    "        scoremap = scoremap[::8, ::8][567:1316+1, 399:1778+1]\n",
    "\n",
    "\n",
    "        params = grid_search_affine(init_cnt,iter_num=10, init_params=(0, 0, 0, 1., 1, 0, 0), \n",
    "                                   sigma_tx0=300, sigma_ty0=300, sigma_theta_z0=0, \n",
    "                                            sigma_scx0=0, sigma_scy0=0,\n",
    "                                            sigma_a0=0, sigma_b0=0)\n",
    "\n",
    "        best_finetune_params = optimal_params_slice_affine(init_cnt, scoremap, init_params=params,\n",
    "                                                          iter_num=1000, return_scores=False, lr=(1e-2,1e-6,1e-6,0))\n",
    "\n",
    "\n",
    "        tx_best, ty_best, theta_best, sx_best, sy_best, a_best, b_best = best_finetune_params\n",
    "\n",
    "\n",
    "        xmin, ymin = np.min(init_cnt, axis=0)\n",
    "        xmax, ymax = np.max(init_cnt, axis=0)\n",
    "        cx, cy = np.mean(init_cnt, axis=0)\n",
    "        center = np.array([cx, cy])\n",
    "\n",
    "        cos_z = np.cos(theta_best)\n",
    "        sin_z = np.sin(theta_best)\n",
    "        R = np.array([[sx_best*cos_z, -sx_best*sin_z], \n",
    "                      [sy_best*sin_z, sy_best*cos_z]])\n",
    "\n",
    "        t = np.array([tx_best, ty_best])\n",
    "\n",
    "        xs, ys = (np.dot(np.dot([[1, a_best], [b_best, 1]], R), \n",
    "                         init_cnt.T - center[:, np.newaxis]) + (t+center)[:, np.newaxis]).astype(np.int)\n",
    "\n",
    "        valid = (xs >= 0) & (ys >= 0) & (xs < scoremap.shape[1]) & (ys < scoremap.shape[0])\n",
    "\n",
    "        new_cnt = np.c_[xs, ys][valid]\n",
    "\n",
    "\n",
    "        new_lm = lm.copy()\n",
    "        new_lm['vertices'] = (new_cnt + (399, 567)) * 8\n",
    "        new_lm['labelPos'] = np.array(lm['labelPos']) + (tx_best*8, ty_best*8)\n",
    "\n",
    "        new_lm['refVertices'] = lm['vertices']\n",
    "        new_lm['refSection'] = closest_nbr\n",
    "\n",
    "        new_res.append(new_lm)\n",
    "\n",
    "    ##########################################\n",
    "\n",
    "    \n",
    "    timestamp = datetime.datetime.now().strftime(\"%m%d%Y%H%M%S\")\n",
    "\n",
    "    autoAnnotation_filepath = autoAnnotations_dir + '/%(stack)s_%(sec)04d_autoAnnotate_%(timestamp)s_consolidated.pkl' % \\\n",
    "                        {'stack': stack, 'sec': sec, 'timestamp': timestamp}\n",
    "\n",
    "    pickle.dump(new_res, open(autoAnnotation_filepath, 'w'))\n",
    "    \n",
    "    \n",
    "    ##########################################\n",
    "\n",
    "    # viz1 = cropped_img\n",
    "    # viz2 = plt.cm.hot(scoremap)\n",
    "    # viz = img_as_ubyte(alpha_blending(viz1, viz2[...,:3], .9, 1.))\n",
    "\n",
    "\n",
    "    dm = DataManager(stack=stack, section=sec)\n",
    "    dm._load_image(versions=['rgb-jpg'])\n",
    "    cropped_img = dm.image_rgb_jpg[::8, ::8][567:1316+1, 399:1778+1]\n",
    "\n",
    "    viz = cropped_img.copy()\n",
    "\n",
    "    for lm in new_res:\n",
    "\n",
    "    # for pt in init_cnt:\n",
    "    #     cv2.circle(viz, tuple(pt), 2, (0,255,0,255), -1)\n",
    "\n",
    "        ref_cnt = np.array(lm['refVertices']).astype(np.int)/8-(399,567)\n",
    "        for xy in ref_cnt:\n",
    "            cv2.circle(viz, tuple(xy), 3, (0,255,0), -1)\n",
    "\n",
    "        new_cnt = np.array(lm['vertices'])/8-(399,567)\n",
    "        for xy in new_cnt:\n",
    "            cv2.circle(viz, tuple(xy), 5, (255,0,0), -1)\n",
    "        cv2.polylines(viz, [new_cnt.astype(np.int)], True, (255,0,0), 2)\n",
    "\n",
    "\n",
    "        if sec in section_contains_label and lm['label'] in section_contains_label[sec]:\n",
    "            dm = DataManager(stack=stack, section=sec)\n",
    "            user, ts, _, res = dm.load_proposal_review_result('yuncong', 'latest', 'consolidated')\n",
    "            manual_cnt = [x['vertices'] for x in res if x['label'] == lm['label']][0]\n",
    "            manual_cnt = np.array(manual_cnt)/8-(399,567)\n",
    "\n",
    "            for xy in manual_cnt.astype(np.int):\n",
    "                cv2.circle(viz, tuple(xy), 3, (0,0,255), -1)\n",
    "            cv2.polylines(viz, [manual_cnt.astype(np.int)], True, (0,0,255), 2)\n",
    "\n",
    "\n",
    "        lx, ly = lm['labelPos']/8 - (399, 567)\n",
    "        cv2.putText(viz, lm['label'], (int(lx)-10, int(ly)+10), cv2.FONT_HERSHEY_DUPLEX, 1, ((0,0,0)), 3)\n",
    "\n",
    "    cv2.imwrite(autoAnnotation_dir + '/%(stack)s_%(sec)04d_autoAnnotationViz.jpg' % \\\n",
    "                {'stack': stack, 'sec': sec}, viz[..., ::-1])"
   ]
  },
  {
   "cell_type": "code",
   "execution_count": null,
   "metadata": {
    "collapsed": true
   },
   "outputs": [],
   "source": []
  }
 ],
 "metadata": {
  "kernelspec": {
   "display_name": "Python 2",
   "language": "python",
   "name": "python2"
  },
  "language_info": {
   "codemirror_mode": {
    "name": "ipython",
    "version": 2
   },
   "file_extension": ".py",
   "mimetype": "text/x-python",
   "name": "python",
   "nbconvert_exporter": "python",
   "pygments_lexer": "ipython2",
   "version": "2.7.3"
  }
 },
 "nbformat": 4,
 "nbformat_minor": 0
}
