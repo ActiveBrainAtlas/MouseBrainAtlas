{
 "cells": [
  {
   "cell_type": "code",
   "execution_count": 1,
   "metadata": {
    "collapsed": true
   },
   "outputs": [],
   "source": [
    "%load_ext autoreload\n",
    "%autoreload 2"
   ]
  },
  {
   "cell_type": "code",
   "execution_count": 2,
   "metadata": {
    "collapsed": true
   },
   "outputs": [],
   "source": [
    "import numpy as np\n",
    "\n",
    "import sys\n",
    "import os\n",
    "\n",
    "sys.path.append(os.environ['REPO_DIR'] + '/utilities')\n",
    "from utilities2015 import *\n",
    "# from registration_utilities import *\n",
    "\n",
    "# import matplotlib.pyplot as plt\n",
    "# %matplotlib inline\n",
    "\n",
    "import time"
   ]
  },
  {
   "cell_type": "code",
   "execution_count": 3,
   "metadata": {
    "collapsed": true
   },
   "outputs": [],
   "source": [
    "volume_dir = '/oasis/projects/nsf/csd395/yuncong/CSHL_volumes/'"
   ]
  },
  {
   "cell_type": "code",
   "execution_count": 4,
   "metadata": {
    "collapsed": true
   },
   "outputs": [],
   "source": [
    "labels_twoSides = []\n",
    "labels_twoSides_indices = {}\n",
    "with open(volume_dir + '/MD589/volume_MD589_annotation_withOuterContour_labelIndices.txt', 'r') as f:\n",
    "    lines = f.readlines()\n",
    "    for line in lines:\n",
    "        name, index = line.split()\n",
    "        labels_twoSides.append(name)\n",
    "        labels_twoSides_indices[name] = int(index)\n",
    "        \n",
    "labelMap_sidedToUnsided = {name: name if '_' not in name else name[:-2] for name in labels_twoSides_indices.keys()}\n",
    "labels_unsided = ['BackG'] + sorted(set(labelMap_sidedToUnsided.values()) - {'BackG', 'outerContour'}) + ['outerContour']\n",
    "labels_unsided_indices = dict((j, i) for i, j in enumerate(labels_unsided))"
   ]
  },
  {
   "cell_type": "code",
   "execution_count": 6,
   "metadata": {
    "collapsed": false
   },
   "outputs": [
    {
     "name": "stderr",
     "output_type": "stream",
     "text": [
      "gradient 12N: 5.249961 seconds\n",
      "save 12N: 1.050805 seconds\n",
      "gradient 5N: 4.673109 seconds\n",
      "save 5N: 2.395558 seconds\n",
      "gradient 6N: 4.037278 seconds\n",
      "save 6N: 1.136426 seconds\n",
      "gradient 7N: 4.736048 seconds\n",
      "save 7N: 1.560394 seconds\n",
      "gradient 7n: 4.808370 seconds\n",
      "save 7n: 0.815435 seconds\n",
      "gradient AP: 4.609349 seconds\n",
      "save AP: 0.915774 seconds\n",
      "gradient Amb: 4.030600 seconds\n",
      "save Amb: 0.846174 seconds\n",
      "gradient LC: 4.050351 seconds\n",
      "save LC: 1.536055 seconds\n",
      "gradient LRt: 4.060812 seconds\n",
      "save LRt: 1.826033 seconds\n",
      "gradient Pn: 4.710207 seconds\n",
      "save Pn: 3.172536 seconds\n",
      "gradient R: 7.971203 seconds\n",
      "save R: 1.417074 seconds\n",
      "gradient RtTg: 6.340144 seconds\n",
      "save RtTg: 3.167528 seconds\n",
      "gradient Tz: 7.586206 seconds\n",
      "save Tz: 1.297478 seconds\n",
      "gradient VLL: 15.853624 seconds\n",
      "save VLL: 2.655700 seconds\n",
      "gradient sp5: 4.090281 seconds\n",
      "save sp5: 2.248874 seconds\n",
      "gradient outerContour: 10.123843 seconds\n",
      "save outerContour: 2.257859 seconds\n"
     ]
    },
    {
     "name": "stdout",
     "output_type": "stream",
     "text": [
      "78 347\n",
      "69"
     ]
    },
    {
     "name": "stderr",
     "output_type": "stream",
     "text": [
      "overall: 125.243022 seconds\n",
      "gradient 12N: 4.696668 seconds\n",
      "save 12N: 0.984536 seconds\n",
      "gradient 5N: 4.166005 seconds\n",
      "save 5N: 2.395205 seconds\n",
      "gradient 6N: 8.071139 seconds\n",
      "save 6N: 0.992314 seconds\n",
      "gradient 7N: 4.027176 seconds\n",
      "save 7N: 1.653568 seconds\n",
      "gradient 7n: 6.211119 seconds\n",
      "save 7n: 0.889103 seconds\n",
      "gradient AP: 4.064348 seconds\n",
      "save AP: 1.007847 seconds\n",
      "gradient Amb: 3.994384 seconds\n",
      "save Amb: 0.756051 seconds\n",
      "gradient LC: 4.034483 seconds\n",
      "save LC: 1.723342 seconds\n",
      "gradient LRt: 4.164167 seconds\n",
      "save LRt: 2.012055 seconds\n",
      "gradient Pn: 4.769119 seconds\n",
      "save Pn: 2.548429 seconds\n",
      "gradient R: 4.590654 seconds\n",
      "save R: 1.554018 seconds\n",
      "gradient RtTg: 4.278875 seconds\n",
      "save RtTg: 2.896422 seconds\n",
      "gradient Tz: 4.000751 seconds\n",
      "save Tz: 0.964723 seconds\n",
      "gradient VLL: 4.050683 seconds\n",
      "save VLL: 2.296248 seconds\n",
      "gradient sp5: 4.056530 seconds\n",
      "save sp5: 2.122499 seconds\n",
      "gradient outerContour: 4.000128 seconds\n"
     ]
    },
    {
     "name": "stdout",
     "output_type": "stream",
     "text": [
      " 350\n",
      "91"
     ]
    },
    {
     "name": "stderr",
     "output_type": "stream",
     "text": [
      "save outerContour: 2.089002 seconds\n",
      "overall: 100.073725 seconds\n",
      "gradient 12N: 18.802227 seconds\n",
      "save 12N: 1.444358 seconds\n",
      "gradient 5N: 18.047562 seconds\n",
      "save 5N: 3.068046 seconds\n",
      "gradient 6N: 7.462195 seconds\n",
      "save 6N: 1.837976 seconds\n",
      "gradient 7N: 6.374830 seconds\n",
      "save 7N: 2.422818 seconds\n",
      "gradient 7n: 5.204798 seconds\n",
      "save 7n: 0.884697 seconds\n",
      "gradient AP: 4.764803 seconds\n",
      "save AP: 1.074304 seconds\n",
      "gradient Amb: 5.480652 seconds\n",
      "save Amb: 1.003451 seconds\n",
      "gradient LC: 7.023496 seconds\n",
      "save LC: 1.979870 seconds\n",
      "gradient LRt: 4.852829 seconds\n",
      "save LRt: 2.247521 seconds\n",
      "gradient Pn: 5.536680 seconds\n",
      "save Pn: 3.638933 seconds\n",
      "gradient R: 9.260550 seconds\n",
      "save R: 2.077424 seconds\n",
      "gradient RtTg: 4.828134 seconds\n",
      "save RtTg: 3.686652 seconds\n",
      "gradient Tz: 4.747327 seconds\n",
      "save Tz: 1.295681 seconds\n",
      "gradient VLL: 7.060604 seconds\n",
      "save VLL: 2.872616 seconds\n",
      "gradient sp5: 4.760917 seconds\n",
      "save sp5: 2.016600 seconds\n",
      "gradient outerContour: 4.722149 seconds\n"
     ]
    },
    {
     "name": "stdout",
     "output_type": "stream",
     "text": [
      " 371\n",
      "80"
     ]
    },
    {
     "name": "stderr",
     "output_type": "stream",
     "text": [
      "save outerContour: 2.490163 seconds\n",
      "overall: 152.983879 seconds\n",
      "gradient 12N: 3.834394 seconds\n",
      "save 12N: 0.779005 seconds\n",
      "gradient 5N: 3.876924 seconds\n",
      "save 5N: 1.808132 seconds\n",
      "gradient 6N: 3.908521 seconds\n",
      "save 6N: 0.655530 seconds\n",
      "gradient 7N: 3.853109 seconds\n",
      "save 7N: 1.416531 seconds\n",
      "gradient 7n: 3.835397 seconds\n",
      "save 7n: 0.818307 seconds\n",
      "gradient AP: 3.826125 seconds\n",
      "save AP: 0.819319 seconds\n",
      "gradient Amb: 3.833285 seconds\n",
      "save Amb: 0.760503 seconds\n",
      "gradient LC: 3.861770 seconds\n",
      "save LC: 1.483815 seconds\n",
      "gradient LRt: 3.863176 seconds\n",
      "save LRt: 1.524490 seconds\n",
      "gradient Pn: 3.888996 seconds\n",
      "save Pn: 2.030752 seconds\n",
      "gradient R: 3.856815 seconds\n",
      "save R: 1.453358 seconds\n",
      "gradient RtTg: 3.913973 seconds\n",
      "save RtTg: 2.656571 seconds\n",
      "gradient Tz: 3.836008 seconds\n",
      "save Tz: 0.950337 seconds\n",
      "gradient VLL: 3.893832 seconds\n",
      "save VLL: 2.099137 seconds\n",
      "gradient sp5: 3.919151 seconds\n",
      "save sp5: 2.920679 seconds\n",
      "gradient outerContour: 3.828840 seconds\n"
     ]
    },
    {
     "name": "stdout",
     "output_type": "stream",
     "text": [
      " 336\n",
      "98"
     ]
    },
    {
     "name": "stderr",
     "output_type": "stream",
     "text": [
      "save outerContour: 2.133186 seconds\n",
      "overall: 86.152773 seconds\n",
      "gradient 12N: 5.143759 seconds\n",
      "save 12N: 1.383897 seconds\n",
      "gradient 5N: 7.023382 seconds\n",
      "save 5N: 3.111141 seconds\n",
      "gradient 6N: 8.188824 seconds\n",
      "save 6N: 1.568578 seconds\n",
      "gradient 7N: 7.129207 seconds\n",
      "save 7N: 2.235616 seconds\n",
      "gradient 7n: 6.802137 seconds\n",
      "save 7n: 0.745868 seconds\n",
      "gradient AP: 6.738727 seconds\n",
      "save AP: 1.273832 seconds\n",
      "gradient Amb: 6.710171 seconds\n",
      "save Amb: 0.860893 seconds\n",
      "gradient LC: 6.530515 seconds\n",
      "save LC: 2.258460 seconds\n",
      "gradient LRt: 7.669622 seconds\n",
      "save LRt: 2.041516 seconds\n",
      "gradient Pn: 5.860623 seconds\n",
      "save Pn: 3.644550 seconds\n",
      "gradient R: 10.659163 seconds\n",
      "save R: 2.058203 seconds\n",
      "gradient RtTg: 5.690203 seconds\n",
      "save RtTg: 3.934501 seconds\n",
      "gradient Tz: 5.598348 seconds\n",
      "save Tz: 1.173000 seconds\n",
      "gradient VLL: 5.308127 seconds\n",
      "save VLL: 3.160307 seconds\n",
      "gradient sp5: 5.108438 seconds\n",
      "save sp5: 1.791283 seconds\n",
      "gradient outerContour: 5.969256 seconds\n"
     ]
    },
    {
     "name": "stdout",
     "output_type": "stream",
     "text": [
      " 387\n",
      "67"
     ]
    },
    {
     "name": "stderr",
     "output_type": "stream",
     "text": [
      "save outerContour: 2.670621 seconds\n",
      "overall: 140.055750 seconds\n",
      "gradient 12N: 4.585838 seconds\n",
      "save 12N: 0.948769 seconds\n",
      "gradient 5N: 4.639634 seconds\n",
      "save 5N: 2.243090 seconds\n",
      "gradient 6N: 6.166534 seconds\n",
      "save 6N: 1.016981 seconds\n",
      "gradient 7N: 5.160258 seconds\n",
      "save 7N: 2.010202 seconds\n",
      "gradient 7n: 4.580822 seconds\n",
      "save 7n: 0.815687 seconds\n",
      "gradient AP: 4.564906 seconds\n",
      "save AP: 0.856289 seconds\n",
      "gradient Amb: 4.583616 seconds\n",
      "save Amb: 0.925362 seconds\n",
      "gradient LC: 4.602222 seconds\n",
      "save LC: 1.780963 seconds\n",
      "gradient LRt: 4.633099 seconds\n",
      "save LRt: 2.298831 seconds\n",
      "gradient Pn: 4.679480 seconds\n",
      "save Pn: 3.063053 seconds\n",
      "gradient R: 4.618126 seconds\n",
      "save R: 1.664850 seconds\n",
      "gradient RtTg: 4.647214 seconds\n",
      "save RtTg: 3.029931 seconds\n",
      "gradient Tz: 4.611170 seconds\n",
      "save Tz: 1.298133 seconds\n",
      "gradient VLL: 6.056779 seconds\n",
      "save VLL: 2.651071 seconds\n",
      "gradient sp5: 7.130857 seconds\n",
      "save sp5: 2.470378 seconds\n",
      "gradient outerContour: 5.544671 seconds\n"
     ]
    },
    {
     "name": "stdout",
     "output_type": "stream",
     "text": [
      " 330\n",
      "95"
     ]
    },
    {
     "name": "stderr",
     "output_type": "stream",
     "text": [
      "save outerContour: 2.537118 seconds\n",
      "overall: 110.429025 seconds\n",
      "gradient 12N: 4.234730 seconds\n",
      "save 12N: 1.029906 seconds\n",
      "gradient 5N: 4.296973 seconds\n",
      "save 5N: 2.346138 seconds\n",
      "gradient 6N: 4.243767 seconds\n",
      "save 6N: 0.997710 seconds\n",
      "gradient 7N: 4.263830 seconds\n",
      "save 7N: 1.724679 seconds\n",
      "gradient 7n: 5.409599 seconds\n",
      "save 7n: 0.970817 seconds\n",
      "gradient AP: 4.239210 seconds\n",
      "save AP: 0.854847 seconds\n",
      "gradient Amb: 4.428385 seconds\n",
      "save Amb: 0.785303 seconds\n",
      "gradient LC: 4.419500 seconds\n",
      "save LC: 1.684538 seconds\n",
      "gradient LRt: 4.269571 seconds\n",
      "save LRt: 1.635979 seconds\n",
      "gradient Pn: 4.305605 seconds\n",
      "save Pn: 2.410533 seconds\n",
      "gradient R: 4.244120 seconds\n",
      "save R: 1.490755 seconds\n",
      "gradient RtTg: 4.305177 seconds\n",
      "save RtTg: 2.715951 seconds\n",
      "gradient Tz: 4.235169 seconds\n",
      "save Tz: 1.002795 seconds\n",
      "gradient VLL: 4.284710 seconds\n",
      "save VLL: 2.165288 seconds\n",
      "gradient sp5: 4.281940 seconds\n",
      "save sp5: 2.177734 seconds\n",
      "gradient outerContour: 7.772768 seconds\n"
     ]
    },
    {
     "name": "stdout",
     "output_type": "stream",
     "text": [
      " 354\n",
      "96"
     ]
    },
    {
     "name": "stderr",
     "output_type": "stream",
     "text": [
      "save outerContour: 2.229926 seconds\n",
      "overall: 99.470992 seconds\n",
      "gradient 12N: 4.325926 seconds\n",
      "save 12N: 0.945675 seconds\n",
      "gradient 5N: 5.644328 seconds\n",
      "save 5N: 2.880973 seconds\n",
      "gradient 6N: 27.002277 seconds\n",
      "save 6N: 1.083506 seconds\n",
      "gradient 7N: 4.683401 seconds\n",
      "save 7N: 2.210441 seconds\n",
      "gradient 7n: 6.891470 seconds\n",
      "save 7n: 0.765895 seconds\n",
      "gradient AP: 8.880473 seconds\n",
      "save AP: 0.995260 seconds\n",
      "gradient Amb: 4.608893 seconds\n",
      "save Amb: 1.134467 seconds\n",
      "gradient LC: 4.657837 seconds\n",
      "save LC: 1.874423 seconds\n",
      "gradient LRt: 4.366127 seconds\n",
      "save LRt: 2.237036 seconds\n",
      "gradient Pn: 8.090448 seconds\n",
      "save Pn: 3.143130 seconds\n",
      "gradient R: 4.344657 seconds\n",
      "save R: 1.803358 seconds\n",
      "gradient RtTg: 4.400163 seconds\n",
      "save RtTg: 3.122116 seconds\n",
      "gradient Tz: 8.587287 seconds\n",
      "save Tz: 1.576159 seconds\n",
      "gradient VLL: 4.401689 seconds\n",
      "save VLL: 3.098834 seconds\n",
      "gradient sp5: 13.037865 seconds\n",
      "save sp5: 2.490404 seconds\n",
      "gradient outerContour: 4.317760 seconds\n"
     ]
    },
    {
     "name": "stdout",
     "output_type": "stream",
     "text": [
      " 352\n"
     ]
    },
    {
     "name": "stderr",
     "output_type": "stream",
     "text": [
      "save outerContour: 2.146275 seconds\n",
      "overall: 149.760600 seconds\n"
     ]
    }
   ],
   "source": [
    "# Compute Gradient\n",
    "\n",
    "# for stack in ['MD594', 'MD585', 'MD593', 'MD592', 'MD590', 'MD591', 'MD595', 'MD598', 'MD602']:\n",
    "for stack in ['MD585', 'MD593', 'MD592', 'MD590', 'MD591', 'MD595', 'MD598', 'MD602']:\n",
    "    \n",
    "    print stack\n",
    "    \n",
    "    # numpy sparse does not support 3d\n",
    "    section_bs_begin, section_bs_end = section_range_lookup[stack]\n",
    "\n",
    "    (volume_xmin, volume_xmax, volume_ymin, volume_ymax, volume_zmin, volume_zmax) = \\\n",
    "    np.loadtxt(os.path.join(volume_dir, '%(stack)s/%(stack)s_scoreVolume_limits.txt' % {'stack': stack}), dtype=np.int)\n",
    "            \n",
    "    volume2_allLabels = {}\n",
    "\n",
    "    for name in labels_unsided:\n",
    "\n",
    "        if name == 'BackG':\n",
    "            continue\n",
    "\n",
    "        volume2_roi = bp.unpack_ndarray_file(os.path.join(volume_dir, '%(stack)s/%(stack)s_scoreVolume_%(label)s.bp' % \\\n",
    "                                                          {'stack': stack, 'label': name})).astype(np.float16)\n",
    "        volume2_allLabels[name] = volume2_roi\n",
    "        del volume2_roi\n",
    "\n",
    "    test_ydim, test_xdim, test_zdim = volume2_allLabels.values()[0].shape\n",
    "    test_centroid = np.array([.5*test_xdim, .5*test_ydim, .5*test_zdim])\n",
    "\n",
    "    t1 = time.time()\n",
    "\n",
    "    for name in labels_unsided:\n",
    "\n",
    "        if name == 'BackG':\n",
    "            continue\n",
    "\n",
    "        t = time.time()\n",
    "\n",
    "        gy_gx_gz = np.gradient(volume2_allLabels[name].astype(np.float32), 3, 3, 3) \n",
    "        # 3.3 second, much faster than loading\n",
    "\n",
    "        sys.stderr.write('gradient %s: %f seconds\\n' % (name, time.time() - t))\n",
    "\n",
    "        t = time.time()\n",
    "\n",
    "        bp.pack_ndarray_file(gy_gx_gz[0], volume_dir + '/%(stack)s/%(stack)s_scoreVolume_%(label)s_gy.bp' % {'stack':stack, 'label':name})\n",
    "        bp.pack_ndarray_file(gy_gx_gz[1], volume_dir + '/%(stack)s/%(stack)s_scoreVolume_%(label)s_gx.bp' % {'stack':stack, 'label':name})\n",
    "        bp.pack_ndarray_file(gy_gx_gz[2], volume_dir + '/%(stack)s/%(stack)s_scoreVolume_%(label)s_gz.bp' % {'stack':stack, 'label':name})\n",
    "\n",
    "        del gy_gx_gz\n",
    "\n",
    "        sys.stderr.write('save %s: %f seconds\\n' % (name, time.time() - t))\n",
    "\n",
    "\n",
    "    sys.stderr.write('overall: %f seconds\\n' % (time.time() - t1))"
   ]
  },
  {
   "cell_type": "code",
   "execution_count": null,
   "metadata": {
    "collapsed": true
   },
   "outputs": [],
   "source": []
  }
 ],
 "metadata": {
  "kernelspec": {
   "display_name": "Python 2",
   "language": "python",
   "name": "python2"
  },
  "language_info": {
   "codemirror_mode": {
    "name": "ipython",
    "version": 2
   },
   "file_extension": ".py",
   "mimetype": "text/x-python",
   "name": "python",
   "nbconvert_exporter": "python",
   "pygments_lexer": "ipython2",
   "version": "2.7.3"
  }
 },
 "nbformat": 4,
 "nbformat_minor": 0
}
