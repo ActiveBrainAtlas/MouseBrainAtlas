{
 "cells": [
  {
   "cell_type": "code",
   "execution_count": 1,
   "metadata": {
    "collapsed": false
   },
   "outputs": [],
   "source": [
    "\"\"\"\n",
    "Construct score volume from score maps of each landmark\n",
    "\"\"\"\n",
    "\n",
    "%load_ext autoreload\n",
    "%autoreload 2"
   ]
  },
  {
   "cell_type": "code",
   "execution_count": 1,
   "metadata": {
    "collapsed": false
   },
   "outputs": [],
   "source": [
    "import numpy as np\n",
    "\n",
    "import sys\n",
    "import os\n",
    "\n",
    "sys.path.append(os.environ['REPO_DIR'] + '/utilities')\n",
    "from utilities2015 import *\n",
    "\n",
    "import time\n",
    "\n",
    "import matplotlib.pyplot as plt\n",
    "%matplotlib inline\n",
    "\n",
    "from joblib import Parallel, delayed"
   ]
  },
  {
   "cell_type": "code",
   "execution_count": 2,
   "metadata": {
    "collapsed": true
   },
   "outputs": [],
   "source": [
    "volume_rootdir = '/oasis/projects/nsf/csd395/yuncong/CSHL_volumes/'\n",
    "patch_dir = '/oasis/projects/nsf/csd395/yuncong/CSHL_data_patches/'\n",
    "scoremaps_rootdir = '/oasis/projects/nsf/csd395/yuncong/CSHL_scoremaps_lossless_svm_Sat16ClassFinetuned_v3/'\n",
    "contourMap_rootdir = '/oasis/projects/nsf/csd395/yuncong/CSHL_outerContourMap'"
   ]
  },
  {
   "cell_type": "code",
   "execution_count": 3,
   "metadata": {
    "collapsed": true
   },
   "outputs": [],
   "source": [
    "labels = ['BackG'] + ['5N', '7n', '7N', '12N', 'Pn', 'VLL', \n",
    "          '6N', 'Amb', 'R', 'Tz', 'RtTg', 'LRt', 'LC', 'AP', 'sp5'] + ['outerContour']"
   ]
  },
  {
   "cell_type": "code",
   "execution_count": 4,
   "metadata": {
    "collapsed": true
   },
   "outputs": [],
   "source": [
    "downsample_factor = 16\n",
    "\n",
    "section_thickness = 20 # in um\n",
    "xy_pixel_distance_lossless = 0.46\n",
    "xy_pixel_distance_tb = xy_pixel_distance_lossless * 32 # in um, thumbnail\n",
    "\n",
    "xy_pixel_distance_downsampled = xy_pixel_distance_lossless * downsample_factor # 7.36 um\n",
    "z_xy_ratio_downsampled = section_thickness / xy_pixel_distance_downsampled"
   ]
  },
  {
   "cell_type": "code",
   "execution_count": 5,
   "metadata": {
    "collapsed": false
   },
   "outputs": [],
   "source": [
    "def load_scoremap(sec, name):\n",
    "    '''\n",
    "    Get the scoremap.\n",
    "    Assume the scoremap is stored as a 2D array for scores within ROI at lossless scale +\n",
    "    an interpBox file specifying bounding box coordinates at lossless scale\n",
    "\n",
    "    Parameters\n",
    "    ----------\n",
    "    sec : int\n",
    "        section number\n",
    "    name : str\n",
    "        label name\n",
    "    \n",
    "    Returns\n",
    "    --------\n",
    "    2d array\n",
    "        downsampled full-frame scoremap\n",
    "    '''\n",
    "    \n",
    "    global stack, downsample_factor\n",
    "    \n",
    "    scoremap_bp_filepath = scoremaps_rootdir + '/%(stack)s/%(slice)04d/%(stack)s_%(slice)04d_roi1_denseScoreMapLossless_%(label)s.hdf' \\\n",
    "            % {'stack': stack, 'slice': sec, 'label': name}\n",
    "        \n",
    "    if not os.path.exists(scoremap_bp_filepath):\n",
    "        sys.stderr.write('No scoremap for section %d\\n' % sec)\n",
    "        return None\n",
    "    \n",
    "#     t = time.time()\n",
    "    \n",
    "    scoremap_roi = load_hdf(scoremap_bp_filepath)\n",
    "    \n",
    "#     sys.stderr.write('load hdf: %.2f seconds\\n' % (time.time() - t))  \n",
    "\n",
    "    interpolation_xmin, interpolation_xmax, \\\n",
    "    interpolation_ymin, interpolation_ymax = np.loadtxt(scoremaps_rootdir + \\\n",
    "                        '/%(stack)s/%(sec)04d/%(stack)s_%(sec)04d_roi1_denseScoreMapLossless_%(label)s_interpBox.txt' % \\\n",
    "                                    {'stack': stack, 'sec': sec, 'label': name}).astype(np.int)\n",
    "\n",
    "#     t = time.time()\n",
    "    \n",
    "    scoremap = np.zeros((dm.image_height/downsample_factor, dm.image_width/downsample_factor), np.float32)\n",
    "    \n",
    "    interp_ymin = interpolation_ymin/downsample_factor\n",
    "    interp_xmin = interpolation_xmin/downsample_factor\n",
    "    \n",
    "    scoremap_roi_downscaled = scoremap_roi[::downsample_factor, ::downsample_factor]\n",
    "    interp_h, interp_w = scoremap_roi_downscaled.shape\n",
    "    \n",
    "#     print 'image width, height', dm.image_width/downsample_factor, dm.image_height/downsample_factor\n",
    "#     print 'interp x', interpolation_xmin/downsample_factor, interpolation_xmax/downsample_factor\n",
    "#     print 'interp y', interpolation_ymin/downsample_factor, interpolation_ymax/downsample_factor\n",
    "#     print 'interp width, height', (interpolation_xmax-interpolation_xmin+1)/downsample_factor, (interpolation_ymax-interpolation_ymin+1)/downsample_factor\n",
    "#     print 'roi x,y,w,h', roi_xmin_down, roi_ymin_down, roi_w_down, roi_h_down\n",
    "#     print '\\n'\n",
    "    \n",
    "    scoremap[interp_ymin:interp_ymin+interp_h, interp_xmin:interp_xmin+interp_w] = scoremap_roi_downscaled\n",
    "        \n",
    "    return scoremap"
   ]
  },
  {
   "cell_type": "code",
   "execution_count": 6,
   "metadata": {
    "collapsed": false
   },
   "outputs": [],
   "source": [
    "from skimage.transform import rescale, resize\n",
    "\n",
    "def load_scoremap_tb(sec):\n",
    "    ''' \n",
    "    Get scoremap. \n",
    "    Assume scoremap is stored as a 2D array for scores of the full frame at thumbnail scale.\n",
    "    \n",
    "    Parameters\n",
    "    ----------\n",
    "    sec : int\n",
    "        section number\n",
    "    \n",
    "    Returns\n",
    "    -------\n",
    "    2d array\n",
    "        downsampled full-frame scoremap\n",
    "    '''\n",
    "    global stack\n",
    "        \n",
    "    img_fn = contourMap_rootdir + '/%(stack)s/%(sec)04d/%(stack)s_%(sec)04d_denseScoremapThumbnail_outerContour.hdf' % \\\n",
    "                {'stack': stack, 'sec': sec}\n",
    "\n",
    "    contour_prob_map = load_hdf(img_fn)\n",
    "    \n",
    "#     # crop at upper border of ROI box\n",
    "#     xmin, ymin, w, h = detect_bbox_lookup[stack]\n",
    "#     contour_prob_map[:ymin] = 0\n",
    "\n",
    "    scoremap = resize(contour_prob_map, (h_down, w_down))\n",
    "    return scoremap"
   ]
  },
  {
   "cell_type": "code",
   "execution_count": 8,
   "metadata": {
    "collapsed": false,
    "scrolled": true
   },
   "outputs": [
    {
     "name": "stdout",
     "output_type": "stream",
     "text": [
      "MD603\n",
      "353 789\n",
      "5N\n"
     ]
    },
    {
     "name": "stderr",
     "output_type": "stream",
     "text": [
      "load scoremap for 5N: 5.67 seconds\n",
      "build volume for 5N: 22.13 seconds\n"
     ]
    },
    {
     "name": "stdout",
     "output_type": "stream",
     "text": [
      "7n\n"
     ]
    },
    {
     "name": "stderr",
     "output_type": "stream",
     "text": [
      "load scoremap for 7n: 4.82 seconds\n",
      "build volume for 7n: 19.81 seconds\n",
      "No scoremap for section 188\n"
     ]
    },
    {
     "name": "stdout",
     "output_type": "stream",
     "text": [
      "7N\n"
     ]
    },
    {
     "name": "stderr",
     "output_type": "stream",
     "text": [
      "load scoremap for 7N: 5.90 seconds\n",
      "build volume for 7N: 23.10 seconds\n"
     ]
    },
    {
     "name": "stdout",
     "output_type": "stream",
     "text": [
      "12N\n"
     ]
    },
    {
     "name": "stderr",
     "output_type": "stream",
     "text": [
      "load scoremap for 12N: 5.14 seconds\n",
      "build volume for 12N: 28.74 seconds\n"
     ]
    },
    {
     "name": "stdout",
     "output_type": "stream",
     "text": [
      "Pn\n"
     ]
    },
    {
     "name": "stderr",
     "output_type": "stream",
     "text": [
      "load scoremap for Pn: 8.18 seconds\n",
      "build volume for Pn: 20.53 seconds\n"
     ]
    },
    {
     "name": "stdout",
     "output_type": "stream",
     "text": [
      "VLL\n"
     ]
    },
    {
     "name": "stderr",
     "output_type": "stream",
     "text": [
      "load scoremap for VLL: 7.37 seconds\n",
      "build volume for VLL: 21.82 seconds\n"
     ]
    },
    {
     "name": "stdout",
     "output_type": "stream",
     "text": [
      "6N\n"
     ]
    },
    {
     "name": "stderr",
     "output_type": "stream",
     "text": [
      "load scoremap for 6N: 5.62 seconds\n",
      "build volume for 6N: 20.40 seconds\n"
     ]
    },
    {
     "name": "stdout",
     "output_type": "stream",
     "text": [
      "Amb\n"
     ]
    },
    {
     "name": "stderr",
     "output_type": "stream",
     "text": [
      "load scoremap for Amb: 5.31 seconds\n",
      "build volume for Amb: 19.56 seconds\n"
     ]
    },
    {
     "name": "stdout",
     "output_type": "stream",
     "text": [
      "R\n"
     ]
    },
    {
     "name": "stderr",
     "output_type": "stream",
     "text": [
      "load scoremap for R: 6.01 seconds\n",
      "build volume for R: 21.74 seconds\n"
     ]
    },
    {
     "name": "stdout",
     "output_type": "stream",
     "text": [
      "Tz\n"
     ]
    },
    {
     "name": "stderr",
     "output_type": "stream",
     "text": [
      "load scoremap for Tz: 5.63 seconds\n",
      "build volume for Tz: 20.70 seconds\n"
     ]
    },
    {
     "name": "stdout",
     "output_type": "stream",
     "text": [
      "RtTg\n"
     ]
    },
    {
     "name": "stderr",
     "output_type": "stream",
     "text": [
      "load scoremap for RtTg: 8.55 seconds\n",
      "build volume for RtTg: 20.32 seconds\n"
     ]
    },
    {
     "name": "stdout",
     "output_type": "stream",
     "text": [
      "LRt\n"
     ]
    },
    {
     "name": "stderr",
     "output_type": "stream",
     "text": [
      "load scoremap for LRt: 6.70 seconds\n",
      "build volume for LRt: 18.49 seconds\n"
     ]
    },
    {
     "name": "stdout",
     "output_type": "stream",
     "text": [
      "LC\n"
     ]
    },
    {
     "name": "stderr",
     "output_type": "stream",
     "text": [
      "load scoremap for LC: 6.05 seconds\n",
      "build volume for LC: 18.93 seconds\n"
     ]
    },
    {
     "name": "stdout",
     "output_type": "stream",
     "text": [
      "AP\n"
     ]
    },
    {
     "name": "stderr",
     "output_type": "stream",
     "text": [
      "load scoremap for AP: 5.52 seconds\n",
      "build volume for AP: 20.85 seconds\n"
     ]
    },
    {
     "name": "stdout",
     "output_type": "stream",
     "text": [
      "sp5\n"
     ]
    },
    {
     "name": "stderr",
     "output_type": "stream",
     "text": [
      "load scoremap for sp5: 7.65 seconds\n",
      "build volume for sp5: 20.81 seconds\n"
     ]
    },
    {
     "name": "stdout",
     "output_type": "stream",
     "text": [
      "outerContour\n"
     ]
    },
    {
     "name": "stderr",
     "output_type": "stream",
     "text": [
      "load scoremap for outerContour: 5.42 seconds\n",
      "build volume for outerContour: 19.87 seconds\n",
      "build volume all: 509.96 seconds\n"
     ]
    }
   ],
   "source": [
    "for stack in ['MD603']:\n",
    "# for stack in ['MD585', 'MD593', 'MD592', 'MD590', 'MD591', 'MD595', 'MD598', 'MD602']:\n",
    "# for stack in ['MD591', 'MD595', 'MD598', 'MD602']:\n",
    "    \n",
    "    print stack\n",
    "    \n",
    "    section_roi_begin, section_roi_end = detect_bbox_range_lookup[stack]\n",
    "\n",
    "    roi_xmin, roi_ymin, roi_w, roi_h = detect_bbox_lookup[stack]\n",
    "    \n",
    "    roi_h_down = roi_h*32/downsample_factor\n",
    "    roi_w_down = roi_w*32/downsample_factor\n",
    "    roi_ymin_down = roi_ymin*32/downsample_factor\n",
    "    roi_xmin_down = roi_xmin*32/downsample_factor\n",
    "    roi_zmin = int(section_roi_begin*z_xy_ratio_downsampled)\n",
    "    roi_zmax = int((section_roi_end+1)*z_xy_ratio_downsampled)-1\n",
    "    print roi_zmin, roi_zmax\n",
    "    \n",
    "    volume_dir = create_if_not_exists(os.path.join(volume_rootdir, stack))\n",
    "    \n",
    "    dm = DataManager(stack=stack)\n",
    "    h_down = dm.image_height/downsample_factor\n",
    "    w_down = dm.image_width/downsample_factor\n",
    "    \n",
    "    volume_xmin, volume_ymin, volume_zmin = (np.inf, np.inf, np.inf)\n",
    "    volume_xmax, volume_ymax, volume_zmax = (0,0,0)\n",
    "\n",
    "    t = time.time()\n",
    "    \n",
    "    for name in labels:\n",
    "        \n",
    "        if name == 'BackG':\n",
    "            continue\n",
    "\n",
    "        print name\n",
    "                \n",
    "        volume = np.zeros((h_down, w_down, int(section_number_lookup[stack]*z_xy_ratio_downsampled)), np.float32)\n",
    "        \n",
    "        t1 = time.time()\n",
    "        \n",
    "        if name == 'outerContour':\n",
    "            scoremaps = Parallel(n_jobs=16)(delayed(load_scoremap_tb)(sec) for sec in range(section_roi_begin, section_roi_end+1))\n",
    "        else:\n",
    "            scoremaps = Parallel(n_jobs=16)(delayed(load_scoremap)(sec, name) for sec in range(section_roi_begin, section_roi_end+1))\n",
    "        \n",
    "        sys.stderr.write('load scoremap for %s: %.2f seconds\\n' % (name, time.time() - t1)) # ~5s\n",
    "        \n",
    "        t1 = time.time()\n",
    "        \n",
    "        for i, sec in enumerate(range(section_roi_begin, section_roi_end+1)):\n",
    "            m = scoremaps[i]\n",
    "            if m is not None:\n",
    "                volume[..., int(sec*z_xy_ratio_downsampled):int((sec+1)*z_xy_ratio_downsampled)] = m[..., None]\n",
    "        \n",
    "        volume_roi = volume[roi_ymin_down:roi_ymin_down+roi_h_down, \n",
    "                            roi_xmin_down:roi_xmin_down+roi_w_down,\n",
    "                            roi_zmin:roi_zmax+1]\n",
    "\n",
    "        sys.stderr.write('build volume for %s: %.2f seconds\\n' % (name, time.time() - t1)) # ~30s\n",
    "\n",
    "        bp.pack_ndarray_file(volume_roi,\n",
    "                             volume_dir + '/%(stack)s_scoreVolume_%(label)s.bp' % {'stack': stack, 'label': name})\n",
    "\n",
    "        del volume, volume_roi, scoremaps\n",
    "\n",
    "    sys.stderr.write('build volume all: %.2f seconds\\n' % (time.time() - t)) # 400 sec\n",
    "    \n",
    "    np.savetxt(volume_dir + '/%(stack)s_scoreVolume_limits.txt' % {'stack': stack},\n",
    "               np.array((roi_xmin_down, roi_xmin_down+roi_w_down-1, \n",
    "                         roi_ymin_down, roi_ymin_down+roi_h_down-1, \n",
    "                         roi_zmin, roi_zmax))[None, :], \n",
    "               fmt='%d')"
   ]
  },
  {
   "cell_type": "code",
   "execution_count": 9,
   "metadata": {
    "collapsed": false
   },
   "outputs": [
    {
     "data": {
      "image/png": "[encoded data removed]",
      "text/plain": [
       "<matplotlib.figure.Figure at 0x5818690>"
      ]
     },
     "metadata": {},
     "output_type": "display_data"
    }
   ],
   "source": [
    "volume_roi = bp.unpack_ndarray_file(volume_dir + '/%(stack)s_scoreVolume_%(label)s.bp' % {'stack': stack, 'label': '5N'})\n",
    "plt.imshow(volume_roi[..., 100]);"
   ]
  },
  {
   "cell_type": "code",
   "execution_count": null,
   "metadata": {
    "collapsed": true
   },
   "outputs": [],
   "source": []
  }
 ],
 "metadata": {
  "kernelspec": {
   "display_name": "Python 2",
   "language": "python",
   "name": "python2"
  },
  "language_info": {
   "codemirror_mode": {
    "name": "ipython",
    "version": 2
   },
   "file_extension": ".py",
   "mimetype": "text/x-python",
   "name": "python",
   "nbconvert_exporter": "python",
   "pygments_lexer": "ipython2",
   "version": "2.7.3"
  }
 },
 "nbformat": 4,
 "nbformat_minor": 0
}
