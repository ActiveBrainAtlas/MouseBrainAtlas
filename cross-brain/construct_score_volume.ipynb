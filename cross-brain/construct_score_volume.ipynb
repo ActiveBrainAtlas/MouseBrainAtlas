{
 "cells": [
  {
   "cell_type": "code",
   "execution_count": 2,
   "metadata": {
    "collapsed": false
   },
   "outputs": [],
   "source": [
    "%load_ext autoreload\n",
    "%autoreload 2"
   ]
  },
  {
   "cell_type": "code",
   "execution_count": 3,
   "metadata": {
    "collapsed": true
   },
   "outputs": [],
   "source": [
    "import numpy as np\n",
    "\n",
    "import sys\n",
    "import os\n",
    "\n",
    "sys.path.append(os.environ['REPO_DIR'] + '/utilities')\n",
    "from utilities2015 import *\n",
    "\n",
    "import matplotlib.pyplot as plt\n",
    "%matplotlib inline\n",
    "\n",
    "import time"
   ]
  },
  {
   "cell_type": "code",
   "execution_count": 4,
   "metadata": {
    "collapsed": true
   },
   "outputs": [],
   "source": [
    "volume_dir = '/oasis/projects/nsf/csd395/yuncong/CSHL_volumes/'\n",
    "if not os.path.exists(volume_dir):\n",
    "    os.makedirs(volume_dir)"
   ]
  },
  {
   "cell_type": "code",
   "execution_count": 5,
   "metadata": {
    "collapsed": true
   },
   "outputs": [],
   "source": [
    "patch_dir = '/oasis/projects/nsf/csd395/yuncong/CSHL_data_patches/'"
   ]
  },
  {
   "cell_type": "code",
   "execution_count": 6,
   "metadata": {
    "collapsed": true
   },
   "outputs": [],
   "source": [
    "scoremaps_rootdir = '/oasis/projects/nsf/csd395/yuncong/CSHL_scoremaps_lossless'"
   ]
  },
  {
   "cell_type": "code",
   "execution_count": 7,
   "metadata": {
    "collapsed": true
   },
   "outputs": [],
   "source": [
    "labels = ['BackG', '5N', '7n', '7N', '12N', 'Gr', 'LVe', 'Pn', 'SuVe', 'VLL']\n",
    "label_dict = dict([(l,i) for i, l in enumerate(labels)])\n",
    "\n",
    "# colors = (np.loadtxt(os.environ['REPO_DIR'] + '/visualization/100colors.txt')*255).astype(np.uint8)\n",
    "# colors[label_dict['BackG']] = 255"
   ]
  },
  {
   "cell_type": "code",
   "execution_count": 8,
   "metadata": {
    "collapsed": true
   },
   "outputs": [],
   "source": [
    "downsample_factor = 16\n",
    "\n",
    "section_thickness = 20 # in um\n",
    "xy_pixel_distance_lossless = 0.46\n",
    "xy_pixel_distance_tb = xy_pixel_distance_lossless * 32 # in um, thumbnail\n",
    "# factor = section_thickness/xy_pixel_distance_lossless\n",
    "\n",
    "xy_pixel_distance_downsampled = xy_pixel_distance_lossless * downsample_factor\n",
    "z_xy_ratio_downsampled = section_thickness / xy_pixel_distance_downsampled"
   ]
  },
  {
   "cell_type": "code",
   "execution_count": 4,
   "metadata": {
    "collapsed": true
   },
   "outputs": [],
   "source": [
    "##### reconstruct score volume ######"
   ]
  },
  {
   "cell_type": "code",
   "execution_count": 9,
   "metadata": {
    "collapsed": false,
    "scrolled": true
   },
   "outputs": [
    {
     "name": "stdout",
     "output_type": "stream",
     "text": [
      "91 371\n",
      "147 319\n",
      "399 868\n",
      "5N\n",
      "(814, 1252, 1233)\n",
      "147\n",
      "148\n",
      "150\n",
      "151\n",
      "152\n",
      "153\n",
      "154\n",
      "155\n",
      "156\n",
      "157\n",
      "158\n",
      "159\n",
      "160\n",
      "161\n",
      "162\n",
      "163\n",
      "164\n",
      "165\n",
      "166\n",
      "167\n",
      "168\n",
      "169\n",
      "170\n",
      "171\n",
      "172\n",
      "173\n",
      "174\n",
      "175\n",
      "176\n",
      "177\n",
      "178\n",
      "179\n",
      "180\n",
      "181\n",
      "182\n",
      "183\n",
      "184\n",
      "185\n",
      "186\n",
      "187\n",
      "188\n",
      "189\n",
      "190\n",
      "191\n",
      "192\n",
      "193\n",
      "194\n",
      "195\n",
      "196\n",
      "197\n",
      "198\n",
      "199\n",
      "200\n",
      "201\n",
      "202\n",
      "203\n",
      "204\n",
      "205\n",
      "206\n",
      "207\n",
      "208\n",
      "209\n",
      "210\n",
      "211\n",
      "212\n",
      "213\n",
      "214\n",
      "215\n",
      "216\n",
      "217\n",
      "218\n",
      "219\n",
      "220\n",
      "221\n",
      "222\n",
      "223\n",
      "224\n",
      "225\n",
      "226\n",
      "227\n",
      "228\n",
      "229\n",
      "230\n",
      "231\n",
      "232\n",
      "233\n",
      "234\n",
      "235\n",
      "236\n",
      "237\n",
      "238\n",
      "239\n",
      "240\n",
      "241\n",
      "242\n",
      "243\n",
      "244\n",
      "245\n",
      "246\n",
      "247\n",
      "248"
     ]
    },
    {
     "name": "stderr",
     "output_type": "stream",
     "text": [
      "No scoremap for section 149\n",
      "No scoremap for section 249\n"
     ]
    },
    {
     "name": "stdout",
     "output_type": "stream",
     "text": [
      "\n",
      "250\n",
      "251\n",
      "252\n",
      "253\n",
      "254\n",
      "255\n",
      "256\n",
      "257\n",
      "258\n",
      "259\n",
      "260\n",
      "261\n",
      "262\n",
      "263\n",
      "264\n",
      "265\n",
      "266\n",
      "267\n",
      "268\n",
      "269\n",
      "270\n",
      "271\n",
      "272\n",
      "273\n",
      "274\n",
      "275\n",
      "276\n",
      "277\n",
      "278\n",
      "279\n",
      "280\n",
      "281\n",
      "282\n",
      "283\n",
      "284\n",
      "285\n",
      "286\n",
      "287\n",
      "288\n",
      "289\n",
      "290\n",
      "291\n",
      "292\n",
      "293\n",
      "294\n",
      "295\n",
      "296\n",
      "297\n",
      "298\n",
      "299\n",
      "300\n",
      "301\n",
      "302\n",
      "303\n",
      "304\n",
      "305\n",
      "306\n",
      "307\n",
      "308\n",
      "309\n",
      "310\n",
      "311\n",
      "312\n",
      "313\n",
      "314\n",
      "315\n",
      "316\n",
      "317\n",
      "318\n",
      "319\n",
      "88 920\n",
      "259 731\n",
      "399 868\n",
      "7n\n",
      "(814, 1252, 1233)\n",
      "147\n",
      "148\n",
      "150\n",
      "151"
     ]
    },
    {
     "name": "stderr",
     "output_type": "stream",
     "text": [
      "No scoremap for section 149\n",
      "No scoremap for section 152\n"
     ]
    },
    {
     "name": "stdout",
     "output_type": "stream",
     "text": [
      "\n",
      "153\n",
      "154\n",
      "155\n",
      "156\n",
      "157\n",
      "158\n",
      "159\n",
      "160\n",
      "161\n",
      "162\n",
      "163\n",
      "164\n",
      "165\n",
      "166\n",
      "167\n",
      "168\n",
      "169\n",
      "170\n",
      "171\n",
      "172\n",
      "174\n",
      "175\n",
      "176\n",
      "177\n",
      "178\n",
      "179\n",
      "180\n",
      "181\n",
      "182\n",
      "183\n",
      "184\n",
      "185\n",
      "186\n",
      "187\n",
      "188\n",
      "189\n",
      "190\n",
      "191\n",
      "192\n",
      "193\n",
      "194\n",
      "195\n",
      "196"
     ]
    },
    {
     "name": "stderr",
     "output_type": "stream",
     "text": [
      "No scoremap for section 173\n",
      "No scoremap for section 197\n"
     ]
    },
    {
     "name": "stdout",
     "output_type": "stream",
     "text": [
      "\n",
      "198\n",
      "200"
     ]
    },
    {
     "name": "stderr",
     "output_type": "stream",
     "text": [
      "No scoremap for section 199\n",
      "No scoremap for section 201\n"
     ]
    },
    {
     "name": "stdout",
     "output_type": "stream",
     "text": [
      "\n",
      "202\n",
      "203\n",
      "204\n",
      "206"
     ]
    },
    {
     "name": "stderr",
     "output_type": "stream",
     "text": [
      "No scoremap for section 205\n",
      "No scoremap for section 207\n"
     ]
    },
    {
     "name": "stdout",
     "output_type": "stream",
     "text": [
      "\n",
      "219\n",
      "220"
     ]
    },
    {
     "name": "stderr",
     "output_type": "stream",
     "text": [
      "No scoremap for section 208\n",
      "No scoremap for section 209\n",
      "No scoremap for section 210\n",
      "No scoremap for section 211\n",
      "No scoremap for section 212\n",
      "No scoremap for section 213\n",
      "No scoremap for section 214\n",
      "No scoremap for section 215\n",
      "No scoremap for section 216\n",
      "No scoremap for section 217\n",
      "No scoremap for section 218\n",
      "No scoremap for section 221\n"
     ]
    },
    {
     "name": "stdout",
     "output_type": "stream",
     "text": [
      "\n",
      "222\n",
      "223\n",
      "224\n",
      "226\n",
      "227\n",
      "228\n",
      "229\n",
      "230\n",
      "231\n",
      "232\n",
      "233\n",
      "234\n",
      "235\n",
      "236\n",
      "237\n",
      "238\n",
      "239"
     ]
    },
    {
     "name": "stderr",
     "output_type": "stream",
     "text": [
      "No scoremap for section 225\n",
      "No scoremap for section 240\n"
     ]
    },
    {
     "name": "stdout",
     "output_type": "stream",
     "text": [
      "\n",
      "241\n",
      "243"
     ]
    },
    {
     "name": "stderr",
     "output_type": "stream",
     "text": [
      "No scoremap for section 242\n",
      "No scoremap for section 244\n"
     ]
    },
    {
     "name": "stdout",
     "output_type": "stream",
     "text": [
      "\n",
      "254\n",
      "255\n",
      "256\n",
      "257\n",
      "258\n",
      "259\n",
      "260\n",
      "261\n",
      "262\n",
      "263\n",
      "264\n",
      "265\n",
      "266\n",
      "267\n",
      "268\n",
      "269\n",
      "270\n",
      "271\n",
      "272\n",
      "273\n",
      "274\n",
      "275\n",
      "276\n",
      "277\n",
      "278\n",
      "279\n",
      "280\n",
      "281\n",
      "282\n",
      "283\n",
      "284\n",
      "285\n",
      "286\n",
      "287\n",
      "288\n",
      "289\n",
      "290\n",
      "291\n",
      "292\n",
      "293\n",
      "294\n",
      "295\n",
      "296\n",
      "297\n",
      "298\n",
      "299\n",
      "300\n",
      "301\n",
      "302\n",
      "303\n",
      "304\n",
      "305\n",
      "306\n",
      "307\n",
      "308\n",
      "309\n",
      "310\n",
      "311\n",
      "312\n",
      "313\n",
      "314\n",
      "315\n",
      "316\n",
      "317\n",
      "318\n",
      "319\n",
      "88 898\n",
      "259 709\n",
      "399 868\n",
      "7N\n",
      "(814, 1252, 1233)\n",
      "147\n",
      "148"
     ]
    },
    {
     "name": "stderr",
     "output_type": "stream",
     "text": [
      "No scoremap for section 245\n",
      "No scoremap for section 246\n",
      "No scoremap for section 247\n",
      "No scoremap for section 248\n",
      "No scoremap for section 249\n",
      "No scoremap for section 250\n",
      "No scoremap for section 251\n",
      "No scoremap for section 252\n",
      "No scoremap for section 253\n",
      "No scoremap for section 149\n"
     ]
    },
    {
     "name": "stdout",
     "output_type": "stream",
     "text": [
      "\n",
      "150\n",
      "151\n",
      "152\n",
      "153\n",
      "154\n",
      "155\n",
      "156\n",
      "157\n",
      "158\n",
      "159\n",
      "160\n",
      "161\n",
      "162\n",
      "163\n",
      "164\n",
      "165\n",
      "166\n",
      "167\n",
      "168\n",
      "169\n",
      "170\n",
      "171\n",
      "172\n",
      "173\n",
      "174\n",
      "175\n",
      "176\n",
      "177\n",
      "178\n",
      "179\n",
      "180\n",
      "181\n",
      "182\n",
      "183\n",
      "184\n",
      "185\n",
      "186\n",
      "187\n",
      "188\n",
      "189\n",
      "190\n",
      "191\n",
      "192\n",
      "193\n",
      "194\n",
      "195\n",
      "196\n",
      "197\n",
      "198\n",
      "199\n",
      "200\n",
      "201\n",
      "202\n",
      "203\n",
      "204\n",
      "205\n",
      "206\n",
      "207\n",
      "208\n",
      "209\n",
      "210\n",
      "211\n",
      "212\n",
      "213\n",
      "214\n",
      "215\n",
      "216\n",
      "217\n",
      "218\n",
      "219\n",
      "220\n",
      "221\n",
      "222\n",
      "223\n",
      "224\n",
      "225\n",
      "226\n",
      "227\n",
      "228\n",
      "229\n",
      "230\n",
      "231\n",
      "232\n",
      "233\n",
      "234\n",
      "235\n",
      "236\n",
      "237\n",
      "238\n",
      "239\n",
      "240\n",
      "241\n",
      "242\n",
      "243\n",
      "244\n",
      "245\n",
      "246\n",
      "247\n",
      "248\n",
      "250\n",
      "251\n",
      "252\n",
      "253\n",
      "254\n",
      "255\n",
      "256\n",
      "257\n",
      "258\n",
      "259\n",
      "260\n",
      "261\n",
      "262\n",
      "263\n",
      "264\n",
      "265\n",
      "266\n",
      "267\n",
      "268\n",
      "269\n",
      "270\n",
      "271\n",
      "272\n",
      "273\n",
      "274\n",
      "275\n",
      "276\n",
      "277\n",
      "278\n",
      "279\n",
      "280\n",
      "281\n",
      "282\n",
      "283\n",
      "284\n",
      "285\n",
      "286\n",
      "287\n",
      "288\n",
      "289\n",
      "290\n",
      "291\n",
      "292\n",
      "293\n",
      "294\n",
      "295\n",
      "296\n",
      "297\n",
      "298\n",
      "299\n",
      "300\n",
      "301\n",
      "302\n",
      "303\n",
      "304\n",
      "305\n",
      "306\n",
      "307\n",
      "308\n",
      "309\n",
      "310\n",
      "311\n",
      "312\n",
      "313\n",
      "314\n",
      "315\n",
      "316\n",
      "317\n",
      "318\n",
      "319\n",
      "88 920\n",
      "259 727\n",
      "399 868\n",
      "12N\n",
      "(814, 1252, 1233)\n",
      "147\n",
      "148"
     ]
    },
    {
     "name": "stderr",
     "output_type": "stream",
     "text": [
      "No scoremap for section 249\n",
      "No scoremap for section 149\n"
     ]
    },
    {
     "name": "stdout",
     "output_type": "stream",
     "text": [
      "\n",
      "151"
     ]
    },
    {
     "name": "stderr",
     "output_type": "stream",
     "text": [
      "No scoremap for section 150\n",
      "No scoremap for section 152\n"
     ]
    },
    {
     "name": "stdout",
     "output_type": "stream",
     "text": [
      "\n",
      "153\n",
      "154\n",
      "155\n",
      "157\n",
      "158\n",
      "159\n",
      "160\n",
      "161\n",
      "162\n",
      "163\n",
      "164\n",
      "165\n",
      "166\n",
      "167\n",
      "168\n",
      "169\n",
      "170\n",
      "171\n",
      "172\n",
      "173\n",
      "174\n",
      "175\n",
      "176\n",
      "177"
     ]
    },
    {
     "name": "stderr",
     "output_type": "stream",
     "text": [
      "No scoremap for section 156\n",
      "No scoremap for section 178\n"
     ]
    },
    {
     "name": "stdout",
     "output_type": "stream",
     "text": [
      "\n",
      "179\n",
      "180\n",
      "181\n",
      "182\n",
      "183\n",
      "184\n",
      "185\n",
      "186\n",
      "187\n",
      "188\n",
      "189\n",
      "190\n",
      "191\n",
      "192\n",
      "193\n",
      "194\n",
      "195\n",
      "196\n",
      "197\n",
      "198\n",
      "199\n",
      "200\n",
      "202\n",
      "203\n",
      "204\n",
      "205\n",
      "206\n",
      "207\n",
      "208\n",
      "209\n",
      "210\n",
      "211\n",
      "212\n",
      "213"
     ]
    },
    {
     "name": "stderr",
     "output_type": "stream",
     "text": [
      "No scoremap for section 201\n",
      "No scoremap for section 214\n"
     ]
    },
    {
     "name": "stdout",
     "output_type": "stream",
     "text": [
      "\n",
      "215\n",
      "216\n",
      "217\n",
      "219\n",
      "220\n",
      "221\n",
      "222\n",
      "223\n",
      "224"
     ]
    },
    {
     "name": "stderr",
     "output_type": "stream",
     "text": [
      "No scoremap for section 218\n",
      "No scoremap for section 225\n"
     ]
    },
    {
     "name": "stdout",
     "output_type": "stream",
     "text": [
      "\n",
      "226\n",
      "227\n",
      "228\n",
      "229\n",
      "230\n",
      "231\n",
      "232\n",
      "233\n",
      "234\n",
      "235\n",
      "236\n",
      "237\n",
      "238\n",
      "239\n",
      "240\n",
      "241\n",
      "242\n",
      "245"
     ]
    },
    {
     "name": "stderr",
     "output_type": "stream",
     "text": [
      "No scoremap for section 243\n",
      "No scoremap for section 244\n",
      "No scoremap for section 246\n"
     ]
    },
    {
     "name": "stdout",
     "output_type": "stream",
     "text": [
      "\n",
      "247\n",
      "248\n",
      "251\n",
      "252\n",
      "253\n",
      "254\n",
      "255\n",
      "256\n",
      "257\n",
      "258\n",
      "259\n",
      "260\n",
      "261\n",
      "262\n",
      "263\n",
      "264\n",
      "265"
     ]
    },
    {
     "name": "stderr",
     "output_type": "stream",
     "text": [
      "No scoremap for section 249\n",
      "No scoremap for section 250\n",
      "No scoremap for section 266\n"
     ]
    },
    {
     "name": "stdout",
     "output_type": "stream",
     "text": [
      "\n",
      "267\n",
      "268\n",
      "271\n",
      "272\n",
      "273\n",
      "274\n",
      "275\n",
      "276\n",
      "277\n",
      "278\n",
      "279\n",
      "280\n",
      "281\n",
      "282\n",
      "283\n",
      "284\n",
      "285"
     ]
    },
    {
     "name": "stderr",
     "output_type": "stream",
     "text": [
      "No scoremap for section 269\n",
      "No scoremap for section 270\n",
      "No scoremap for section 286\n"
     ]
    },
    {
     "name": "stdout",
     "output_type": "stream",
     "text": [
      "\n",
      "287\n",
      "288\n",
      "289\n",
      "291\n",
      "292"
     ]
    },
    {
     "name": "stderr",
     "output_type": "stream",
     "text": [
      "No scoremap for section 290\n",
      "No scoremap for section 293\n"
     ]
    },
    {
     "name": "stdout",
     "output_type": "stream",
     "text": [
      "\n",
      "295\n",
      "296\n",
      "297"
     ]
    },
    {
     "name": "stderr",
     "output_type": "stream",
     "text": [
      "No scoremap for section 294\n",
      "No scoremap for section 298\n"
     ]
    },
    {
     "name": "stdout",
     "output_type": "stream",
     "text": [
      "\n",
      "299\n",
      "300\n",
      "301\n",
      "302\n",
      "303\n",
      "305"
     ]
    },
    {
     "name": "stderr",
     "output_type": "stream",
     "text": [
      "No scoremap for section 304\n",
      "No scoremap for section 306\n"
     ]
    },
    {
     "name": "stdout",
     "output_type": "stream",
     "text": [
      "\n",
      "307\n",
      "309"
     ]
    },
    {
     "name": "stderr",
     "output_type": "stream",
     "text": [
      "No scoremap for section 308\n",
      "No scoremap for section 310\n"
     ]
    },
    {
     "name": "stdout",
     "output_type": "stream",
     "text": [
      "\n",
      "312"
     ]
    },
    {
     "name": "stderr",
     "output_type": "stream",
     "text": [
      "No scoremap for section 311\n",
      "No scoremap for section 313\n"
     ]
    },
    {
     "name": "stdout",
     "output_type": "stream",
     "text": [
      "\n",
      "314\n",
      "88 920\n",
      "259 712\n",
      "399 854\n",
      "Gr\n",
      "(814, 1252, 1233)\n",
      "147\n",
      "148"
     ]
    },
    {
     "name": "stderr",
     "output_type": "stream",
     "text": [
      "No scoremap for section 315\n",
      "No scoremap for section 316\n",
      "No scoremap for section 317\n",
      "No scoremap for section 318\n",
      "No scoremap for section 319\n",
      "No scoremap for section 149\n"
     ]
    },
    {
     "name": "stdout",
     "output_type": "stream",
     "text": [
      "\n",
      "150\n",
      "151\n",
      "153\n",
      "154\n",
      "155\n",
      "156\n",
      "157\n",
      "158\n",
      "159\n",
      "160\n",
      "161\n",
      "162\n",
      "163\n",
      "164\n",
      "165\n",
      "166\n",
      "167\n",
      "168\n",
      "169\n",
      "170\n",
      "171\n",
      "172\n",
      "173\n",
      "174\n",
      "175\n",
      "176\n",
      "177\n",
      "178\n",
      "179\n",
      "180\n",
      "181\n",
      "182\n",
      "183\n",
      "184\n",
      "185\n",
      "186\n",
      "187\n",
      "188\n",
      "189\n",
      "190\n",
      "191\n",
      "192\n",
      "193\n",
      "194\n",
      "195\n",
      "196\n",
      "197\n",
      "198\n",
      "199\n",
      "200\n",
      "201\n",
      "202\n",
      "203\n",
      "204\n",
      "205\n",
      "206\n",
      "207\n",
      "208\n",
      "209\n",
      "210\n",
      "211\n",
      "212\n",
      "213\n",
      "214\n",
      "215\n",
      "216\n",
      "217\n",
      "218\n",
      "219\n",
      "220\n",
      "221\n",
      "222\n",
      "223\n",
      "224\n",
      "225\n",
      "226\n",
      "227\n",
      "228\n",
      "229\n",
      "230\n",
      "231\n",
      "232\n",
      "233\n",
      "234\n",
      "235\n",
      "236\n",
      "237\n",
      "238\n",
      "239\n",
      "240\n",
      "241\n",
      "242\n",
      "243\n",
      "244\n",
      "245\n",
      "246\n",
      "247\n",
      "248"
     ]
    },
    {
     "name": "stderr",
     "output_type": "stream",
     "text": [
      "No scoremap for section 152\n",
      "No scoremap for section 249\n"
     ]
    },
    {
     "name": "stdout",
     "output_type": "stream",
     "text": [
      "\n",
      "250\n",
      "251\n",
      "252\n",
      "253\n",
      "254\n",
      "255\n",
      "256\n",
      "257\n",
      "258\n",
      "259\n",
      "260\n",
      "261\n",
      "262\n",
      "263\n",
      "264\n",
      "265\n",
      "266\n",
      "267\n",
      "268\n",
      "269\n",
      "270\n",
      "271\n",
      "272\n",
      "273\n",
      "274\n",
      "275\n",
      "276\n",
      "277\n",
      "278\n",
      "279\n",
      "280\n",
      "281\n",
      "282\n",
      "283\n",
      "284\n",
      "285\n",
      "286\n",
      "287\n",
      "288\n",
      "289\n",
      "290\n",
      "291\n",
      "292\n",
      "293\n",
      "294\n",
      "295\n",
      "296\n",
      "297\n",
      "298\n",
      "299\n",
      "300\n",
      "301\n",
      "302\n",
      "303\n",
      "304\n",
      "305\n",
      "306\n",
      "307\n",
      "308\n",
      "309\n",
      "310\n",
      "311\n",
      "312\n",
      "313\n",
      "314\n",
      "315\n",
      "316\n",
      "317\n",
      "318\n",
      "319\n",
      "88 920\n",
      "259 724\n",
      "399 868\n",
      "LVe"
     ]
    },
    {
     "name": "stderr",
     "output_type": "stream",
     "text": [
      "No scoremap for section 147\n",
      "No scoremap for section 148\n",
      "No scoremap for section 149\n",
      "No scoremap for section 150\n",
      "No scoremap for section 152\n"
     ]
    },
    {
     "name": "stdout",
     "output_type": "stream",
     "text": [
      "\n",
      "(814, 1252, 1233)\n",
      "151\n",
      "155"
     ]
    },
    {
     "name": "stderr",
     "output_type": "stream",
     "text": [
      "No scoremap for section 153\n",
      "No scoremap for section 154\n",
      "No scoremap for section 156\n"
     ]
    },
    {
     "name": "stdout",
     "output_type": "stream",
     "text": [
      "\n",
      "159"
     ]
    },
    {
     "name": "stderr",
     "output_type": "stream",
     "text": [
      "No scoremap for section 157\n",
      "No scoremap for section 158\n",
      "No scoremap for section 160\n"
     ]
    },
    {
     "name": "stdout",
     "output_type": "stream",
     "text": [
      "\n",
      "169"
     ]
    },
    {
     "name": "stderr",
     "output_type": "stream",
     "text": [
      "No scoremap for section 161\n",
      "No scoremap for section 162\n",
      "No scoremap for section 163\n",
      "No scoremap for section 164\n",
      "No scoremap for section 165\n",
      "No scoremap for section 166\n",
      "No scoremap for section 167\n",
      "No scoremap for section 168\n",
      "No scoremap for section 170\n",
      "No scoremap for section 171\n",
      "No scoremap for section 172\n",
      "No scoremap for section 173\n",
      "No scoremap for section 174\n",
      "No scoremap for section 175\n",
      "No scoremap for section 176\n",
      "No scoremap for section 177\n",
      "No scoremap for section 178\n",
      "No scoremap for section 179\n",
      "No scoremap for section 180\n",
      "No scoremap for section 181\n",
      "No scoremap for section 182\n",
      "No scoremap for section 183\n",
      "No scoremap for section 184\n",
      "No scoremap for section 185\n",
      "No scoremap for section 186\n",
      "No scoremap for section 187\n",
      "No scoremap for section 188\n",
      "No scoremap for section 189\n",
      "No scoremap for section 190\n",
      "No scoremap for section 191\n",
      "No scoremap for section 192\n",
      "No scoremap for section 193\n",
      "No scoremap for section 194\n",
      "No scoremap for section 195\n",
      "No scoremap for section 196\n",
      "No scoremap for section 197\n",
      "No scoremap for section 198\n",
      "No scoremap for section 199\n",
      "No scoremap for section 200\n"
     ]
    },
    {
     "name": "stdout",
     "output_type": "stream",
     "text": [
      "\n",
      "213"
     ]
    },
    {
     "name": "stderr",
     "output_type": "stream",
     "text": [
      "No scoremap for section 201\n",
      "No scoremap for section 202\n",
      "No scoremap for section 203\n",
      "No scoremap for section 204\n",
      "No scoremap for section 205\n",
      "No scoremap for section 206\n",
      "No scoremap for section 207\n",
      "No scoremap for section 208\n",
      "No scoremap for section 209\n",
      "No scoremap for section 210\n",
      "No scoremap for section 211\n",
      "No scoremap for section 212\n",
      "No scoremap for section 214\n"
     ]
    },
    {
     "name": "stdout",
     "output_type": "stream",
     "text": [
      "\n",
      "247"
     ]
    },
    {
     "name": "stderr",
     "output_type": "stream",
     "text": [
      "No scoremap for section 215\n",
      "No scoremap for section 216\n",
      "No scoremap for section 217\n",
      "No scoremap for section 218\n",
      "No scoremap for section 219\n",
      "No scoremap for section 220\n",
      "No scoremap for section 221\n",
      "No scoremap for section 222\n",
      "No scoremap for section 223\n",
      "No scoremap for section 224\n",
      "No scoremap for section 225\n",
      "No scoremap for section 226\n",
      "No scoremap for section 227\n",
      "No scoremap for section 228\n",
      "No scoremap for section 229\n",
      "No scoremap for section 230\n",
      "No scoremap for section 231\n",
      "No scoremap for section 232\n",
      "No scoremap for section 233\n",
      "No scoremap for section 234\n",
      "No scoremap for section 235\n",
      "No scoremap for section 236\n",
      "No scoremap for section 237\n",
      "No scoremap for section 238\n",
      "No scoremap for section 239\n",
      "No scoremap for section 240\n",
      "No scoremap for section 241\n",
      "No scoremap for section 242\n",
      "No scoremap for section 243\n",
      "No scoremap for section 244\n",
      "No scoremap for section 245\n",
      "No scoremap for section 246\n",
      "No scoremap for section 248\n",
      "No scoremap for section 249\n",
      "No scoremap for section 250\n",
      "No scoremap for section 251\n",
      "No scoremap for section 252\n",
      "No scoremap for section 253\n",
      "No scoremap for section 254\n",
      "No scoremap for section 255\n",
      "No scoremap for section 256\n",
      "No scoremap for section 257\n",
      "No scoremap for section 258\n",
      "No scoremap for section 259\n",
      "No scoremap for section 260\n",
      "No scoremap for section 261\n",
      "No scoremap for section 262\n",
      "No scoremap for section 263\n",
      "No scoremap for section 264\n",
      "No scoremap for section 265\n",
      "No scoremap for section 266\n",
      "No scoremap for section 267\n",
      "No scoremap for section 268\n",
      "No scoremap for section 269\n",
      "No scoremap for section 270\n",
      "No scoremap for section 271\n",
      "No scoremap for section 272\n",
      "No scoremap for section 273\n",
      "No scoremap for section 274\n",
      "No scoremap for section 275\n",
      "No scoremap for section 276\n",
      "No scoremap for section 277\n",
      "No scoremap for section 278\n",
      "No scoremap for section 279\n",
      "No scoremap for section 280\n",
      "No scoremap for section 281\n",
      "No scoremap for section 282\n",
      "No scoremap for section 283\n",
      "No scoremap for section 284\n",
      "No scoremap for section 285\n",
      "No scoremap for section 286\n",
      "No scoremap for section 287\n",
      "No scoremap for section 288\n",
      "No scoremap for section 289\n",
      "No scoremap for section 290\n"
     ]
    },
    {
     "name": "stdout",
     "output_type": "stream",
     "text": [
      "\n",
      "293"
     ]
    },
    {
     "name": "stderr",
     "output_type": "stream",
     "text": [
      "No scoremap for section 291\n",
      "No scoremap for section 292\n",
      "No scoremap for section 294\n"
     ]
    },
    {
     "name": "stdout",
     "output_type": "stream",
     "text": [
      "\n",
      "117 747\n",
      "259 608\n",
      "410 797\n",
      "Pn\n",
      "(814, 1252, 1233)\n",
      "147\n",
      "148"
     ]
    },
    {
     "name": "stderr",
     "output_type": "stream",
     "text": [
      "No scoremap for section 295\n",
      "No scoremap for section 296\n",
      "No scoremap for section 297\n",
      "No scoremap for section 298\n",
      "No scoremap for section 299\n",
      "No scoremap for section 300\n",
      "No scoremap for section 301\n",
      "No scoremap for section 302\n",
      "No scoremap for section 303\n",
      "No scoremap for section 304\n",
      "No scoremap for section 305\n",
      "No scoremap for section 306\n",
      "No scoremap for section 307\n",
      "No scoremap for section 308\n",
      "No scoremap for section 309\n",
      "No scoremap for section 310\n",
      "No scoremap for section 311\n",
      "No scoremap for section 312\n",
      "No scoremap for section 313\n",
      "No scoremap for section 314\n",
      "No scoremap for section 315\n",
      "No scoremap for section 316\n",
      "No scoremap for section 317\n",
      "No scoremap for section 318\n",
      "No scoremap for section 319\n",
      "No scoremap for section 149\n"
     ]
    },
    {
     "name": "stdout",
     "output_type": "stream",
     "text": [
      "\n",
      "150\n",
      "151\n",
      "152\n",
      "153\n",
      "154\n",
      "155\n",
      "156\n",
      "157\n",
      "158\n",
      "159\n",
      "160\n",
      "162\n",
      "163\n",
      "164\n",
      "165\n",
      "166\n",
      "167\n",
      "168\n",
      "169\n",
      "170"
     ]
    },
    {
     "name": "stderr",
     "output_type": "stream",
     "text": [
      "No scoremap for section 161\n",
      "No scoremap for section 171\n"
     ]
    },
    {
     "name": "stdout",
     "output_type": "stream",
     "text": [
      "\n",
      "173\n",
      "174\n",
      "175\n",
      "176\n",
      "177\n",
      "178\n",
      "179\n",
      "180\n",
      "181\n",
      "182\n",
      "183\n",
      "184\n",
      "185\n",
      "186\n",
      "187\n",
      "188\n",
      "189\n",
      "190\n",
      "191\n",
      "192\n",
      "193\n",
      "194\n",
      "195\n",
      "196\n",
      "197\n",
      "198\n",
      "199\n",
      "200\n",
      "201\n",
      "202\n",
      "203\n",
      "204\n",
      "205\n",
      "206\n",
      "207\n",
      "208\n",
      "209\n",
      "210\n",
      "211\n",
      "212\n",
      "213\n",
      "214\n",
      "215\n",
      "216\n",
      "217\n",
      "218\n",
      "219\n",
      "220\n",
      "221\n",
      "222\n",
      "223\n",
      "224\n",
      "225\n",
      "226\n",
      "227\n",
      "228\n",
      "229\n",
      "230\n",
      "231\n",
      "232\n",
      "233\n",
      "234\n",
      "235\n",
      "236\n",
      "237\n",
      "238\n",
      "239\n",
      "240\n",
      "241\n",
      "242\n",
      "243\n",
      "244\n",
      "245\n",
      "246\n",
      "247\n",
      "248"
     ]
    },
    {
     "name": "stderr",
     "output_type": "stream",
     "text": [
      "No scoremap for section 172\n",
      "No scoremap for section 249\n"
     ]
    },
    {
     "name": "stdout",
     "output_type": "stream",
     "text": [
      "\n",
      "250\n",
      "251\n",
      "252\n",
      "253\n",
      "254\n",
      "255\n",
      "256\n",
      "257\n",
      "258\n",
      "259\n",
      "260\n",
      "261\n",
      "262\n",
      "263\n",
      "264\n",
      "265\n",
      "266\n",
      "267\n",
      "268\n",
      "269\n",
      "270\n",
      "271\n",
      "272\n",
      "273\n",
      "274\n",
      "275\n",
      "276\n",
      "277\n",
      "278\n",
      "279\n",
      "280\n",
      "281\n",
      "282\n",
      "283\n",
      "284\n",
      "285\n",
      "286\n",
      "287\n",
      "288\n",
      "289\n",
      "290\n",
      "291\n",
      "292\n",
      "293\n",
      "294\n",
      "295\n",
      "296\n",
      "297\n",
      "298\n",
      "299\n",
      "300\n",
      "301\n",
      "302\n",
      "303\n",
      "304\n",
      "305\n",
      "306\n",
      "307\n",
      "308\n",
      "309\n",
      "310\n",
      "311\n",
      "312\n",
      "313\n",
      "314\n",
      "315\n",
      "316\n",
      "318\n",
      "319\n",
      "88 920\n",
      "259 717\n",
      "399 868\n",
      "SuVe\n",
      "(814, 1252, 1233)\n",
      "147\n",
      "148"
     ]
    },
    {
     "name": "stderr",
     "output_type": "stream",
     "text": [
      "No scoremap for section 317\n",
      "No scoremap for section 149\n"
     ]
    },
    {
     "name": "stdout",
     "output_type": "stream",
     "text": [
      "\n",
      "150\n",
      "151\n",
      "153\n",
      "154\n",
      "155\n",
      "156\n",
      "157\n",
      "158\n",
      "159\n",
      "160\n",
      "161\n",
      "162\n",
      "163\n",
      "164\n",
      "165\n",
      "166\n",
      "167\n",
      "168\n",
      "169\n",
      "170\n",
      "171\n",
      "172\n",
      "173\n",
      "174\n",
      "175\n",
      "176\n",
      "177\n",
      "178\n",
      "179\n",
      "180\n",
      "181\n",
      "182\n",
      "183\n",
      "184\n",
      "185\n",
      "186\n",
      "187\n",
      "188\n",
      "189\n",
      "190\n",
      "191\n",
      "192\n",
      "193\n",
      "194\n",
      "195\n",
      "196\n",
      "197\n",
      "198\n",
      "199\n",
      "200\n",
      "201\n",
      "202\n",
      "203\n",
      "204\n",
      "205\n",
      "206\n",
      "207\n",
      "208\n",
      "209\n",
      "210\n",
      "211\n",
      "212\n",
      "213\n",
      "214\n",
      "215\n",
      "216\n",
      "217\n",
      "218\n",
      "219\n",
      "220\n",
      "221\n",
      "222\n",
      "223\n",
      "224\n",
      "225\n",
      "226\n",
      "227\n",
      "228\n",
      "229\n",
      "230\n",
      "231\n",
      "232\n",
      "233\n",
      "234\n",
      "235\n",
      "236\n",
      "237\n",
      "238\n",
      "239\n",
      "240\n",
      "241\n",
      "242\n",
      "243\n",
      "244\n",
      "245\n",
      "246\n",
      "247\n",
      "248"
     ]
    },
    {
     "name": "stderr",
     "output_type": "stream",
     "text": [
      "No scoremap for section 152\n",
      "No scoremap for section 249\n"
     ]
    },
    {
     "name": "stdout",
     "output_type": "stream",
     "text": [
      "\n",
      "250\n",
      "251\n",
      "252\n",
      "253\n",
      "254\n",
      "255\n",
      "256\n",
      "257\n",
      "258\n",
      "259\n",
      "260\n",
      "261\n",
      "262\n",
      "263\n",
      "264\n",
      "265\n",
      "266\n",
      "267\n",
      "268\n",
      "269\n",
      "270\n",
      "271\n",
      "272\n",
      "273\n",
      "274\n",
      "275\n",
      "276\n",
      "277\n",
      "278\n",
      "279\n",
      "280\n",
      "281\n",
      "282\n",
      "283\n",
      "284\n",
      "285\n",
      "286\n",
      "287\n",
      "288\n",
      "289\n",
      "290\n",
      "291\n",
      "292\n",
      "293\n",
      "294\n",
      "295\n",
      "296\n",
      "297\n",
      "298\n",
      "299\n",
      "300\n",
      "301\n",
      "302\n",
      "303\n",
      "304\n",
      "305\n",
      "306\n",
      "307\n",
      "308\n",
      "309\n",
      "310\n",
      "311\n",
      "312\n",
      "313\n",
      "314\n",
      "315\n",
      "316\n",
      "317\n",
      "318\n",
      "319\n",
      "88 920\n",
      "259 716\n",
      "399 868\n",
      "VLL\n",
      "(814, 1252, 1233)\n",
      "147\n",
      "148\n",
      "150\n",
      "151\n",
      "152\n",
      "153\n",
      "154\n",
      "155\n",
      "156\n",
      "157\n",
      "158\n",
      "159\n",
      "160\n",
      "161\n",
      "162\n",
      "163\n",
      "164\n",
      "165\n",
      "166\n",
      "167\n",
      "168\n",
      "169\n",
      "170\n",
      "171\n",
      "172\n",
      "173\n",
      "174\n",
      "175\n",
      "176\n",
      "177\n",
      "178\n",
      "179\n",
      "180\n",
      "181\n",
      "182\n",
      "183\n",
      "184\n",
      "185\n",
      "186\n",
      "187\n",
      "188\n",
      "189\n",
      "190\n",
      "191\n",
      "192\n",
      "193\n",
      "194\n",
      "195\n",
      "196\n",
      "197\n",
      "198\n",
      "199\n",
      "200\n",
      "201\n",
      "202\n",
      "203\n",
      "204\n",
      "205\n",
      "206\n",
      "207\n",
      "208\n",
      "209\n",
      "210\n",
      "211\n",
      "212\n",
      "213\n",
      "214\n",
      "215\n",
      "216\n",
      "217\n",
      "218\n",
      "219\n",
      "220\n",
      "221\n",
      "222\n",
      "223\n",
      "224\n",
      "225\n",
      "226\n",
      "227\n",
      "228\n",
      "229\n",
      "230\n",
      "231\n",
      "232\n",
      "233\n",
      "234\n",
      "235\n",
      "236\n",
      "237\n",
      "238\n",
      "239\n",
      "240\n",
      "241\n",
      "242\n",
      "243\n",
      "244\n",
      "245\n",
      "246\n",
      "247\n",
      "248"
     ]
    },
    {
     "name": "stderr",
     "output_type": "stream",
     "text": [
      "No scoremap for section 149\n",
      "No scoremap for section 249\n"
     ]
    },
    {
     "name": "stdout",
     "output_type": "stream",
     "text": [
      "\n",
      "250\n",
      "251\n",
      "252\n",
      "253\n",
      "254\n",
      "255\n",
      "256\n",
      "257\n",
      "258\n",
      "259\n",
      "260\n",
      "261\n",
      "262\n",
      "263\n",
      "264\n",
      "265\n",
      "266\n",
      "267\n",
      "268\n",
      "269\n",
      "270\n",
      "271\n",
      "272\n",
      "273\n",
      "274\n",
      "275\n",
      "276\n",
      "277\n",
      "278\n",
      "279\n",
      "280\n",
      "281\n",
      "282\n",
      "283\n",
      "284\n",
      "285\n",
      "286\n",
      "287\n",
      "288\n",
      "289\n",
      "290\n",
      "291\n",
      "292\n",
      "293\n",
      "294\n",
      "295\n",
      "296\n",
      "297\n",
      "298\n",
      "299\n",
      "300\n",
      "301\n",
      "302\n",
      "303\n",
      "304\n",
      "305\n",
      "306\n",
      "307\n",
      "308\n",
      "309\n",
      "310\n",
      "311\n",
      "312\n",
      "313\n",
      "314\n",
      "315\n",
      "316\n",
      "317\n",
      "318\n",
      "319\n",
      "88 920\n",
      "259 716\n",
      "399 868\n",
      "88 259 399\n",
      "920 731 868\n",
      "80 336\n",
      "135 280\n",
      "366 762\n",
      "5N\n",
      "(1072, 1202, 1138)\n",
      "135\n",
      "136\n",
      "137\n",
      "138\n",
      "139\n",
      "140\n",
      "141\n",
      "142\n",
      "143\n",
      "144\n",
      "145\n",
      "146\n",
      "147\n",
      "148\n",
      "149\n",
      "150\n",
      "151\n",
      "153"
     ]
    },
    {
     "name": "stderr",
     "output_type": "stream",
     "text": [
      "No scoremap for section 152\n",
      "No scoremap for section 154\n"
     ]
    },
    {
     "name": "stdout",
     "output_type": "stream",
     "text": [
      "\n",
      "155\n",
      "157\n",
      "158\n",
      "159"
     ]
    },
    {
     "name": "stderr",
     "output_type": "stream",
     "text": [
      "No scoremap for section 156\n",
      "No scoremap for section 160\n"
     ]
    },
    {
     "name": "stdout",
     "output_type": "stream",
     "text": [
      "\n",
      "161\n",
      "164"
     ]
    },
    {
     "name": "stderr",
     "output_type": "stream",
     "text": [
      "No scoremap for section 162\n",
      "No scoremap for section 163\n",
      "No scoremap for section 165\n"
     ]
    },
    {
     "name": "stdout",
     "output_type": "stream",
     "text": [
      "\n",
      "166\n",
      "167\n",
      "168\n",
      "169\n",
      "170\n",
      "171\n",
      "173\n",
      "174\n",
      "175"
     ]
    },
    {
     "name": "stderr",
     "output_type": "stream",
     "text": [
      "No scoremap for section 172\n",
      "No scoremap for section 176\n"
     ]
    },
    {
     "name": "stdout",
     "output_type": "stream",
     "text": [
      "\n",
      "177\n",
      "178\n",
      "179\n",
      "181\n",
      "182\n",
      "183"
     ]
    },
    {
     "name": "stderr",
     "output_type": "stream",
     "text": [
      "No scoremap for section 180\n",
      "No scoremap for section 184\n"
     ]
    },
    {
     "name": "stdout",
     "output_type": "stream",
     "text": [
      "\n",
      "185\n",
      "186\n",
      "187\n",
      "189"
     ]
    },
    {
     "name": "stderr",
     "output_type": "stream",
     "text": [
      "No scoremap for section 188\n",
      "No scoremap for section 190\n"
     ]
    },
    {
     "name": "stdout",
     "output_type": "stream",
     "text": [
      "\n",
      "191\n",
      "192\n",
      "193\n",
      "195"
     ]
    },
    {
     "name": "stderr",
     "output_type": "stream",
     "text": [
      "No scoremap for section 194\n",
      "No scoremap for section 196\n"
     ]
    },
    {
     "name": "stdout",
     "output_type": "stream",
     "text": [
      "\n",
      "197\n",
      "199\n",
      "200\n",
      "201\n",
      "202\n",
      "203\n",
      "204\n",
      "205\n",
      "206\n",
      "207"
     ]
    },
    {
     "name": "stderr",
     "output_type": "stream",
     "text": [
      "No scoremap for section 198\n",
      "No scoremap for section 208\n"
     ]
    },
    {
     "name": "stdout",
     "output_type": "stream",
     "text": [
      "\n",
      "209\n",
      "211\n",
      "212\n",
      "213\n",
      "214\n",
      "215"
     ]
    },
    {
     "name": "stderr",
     "output_type": "stream",
     "text": [
      "No scoremap for section 210\n",
      "No scoremap for section 216\n"
     ]
    },
    {
     "name": "stdout",
     "output_type": "stream",
     "text": [
      "\n",
      "217\n",
      "218\n",
      "219\n",
      "221\n",
      "222\n",
      "223"
     ]
    },
    {
     "name": "stderr",
     "output_type": "stream",
     "text": [
      "No scoremap for section 220\n",
      "No scoremap for section 224\n"
     ]
    },
    {
     "name": "stdout",
     "output_type": "stream",
     "text": [
      "\n",
      "227\n",
      "228"
     ]
    },
    {
     "name": "stderr",
     "output_type": "stream",
     "text": [
      "No scoremap for section 225\n",
      "No scoremap for section 226\n",
      "No scoremap for section 229\n"
     ]
    },
    {
     "name": "stdout",
     "output_type": "stream",
     "text": [
      "\n",
      "230\n",
      "231\n",
      "232\n",
      "233\n",
      "234\n",
      "236\n",
      "237\n",
      "238"
     ]
    },
    {
     "name": "stderr",
     "output_type": "stream",
     "text": [
      "No scoremap for section 235\n",
      "No scoremap for section 239\n"
     ]
    },
    {
     "name": "stdout",
     "output_type": "stream",
     "text": [
      "\n",
      "240\n",
      "241\n",
      "242\n",
      "243\n",
      "244\n",
      "245\n",
      "246\n",
      "247\n",
      "248\n",
      "249\n",
      "250\n",
      "251\n",
      "252\n",
      "253\n",
      "254\n",
      "255\n",
      "256\n",
      "257\n",
      "258\n",
      "259\n",
      "260\n",
      "261\n",
      "262\n",
      "263\n",
      "264\n",
      "265\n",
      "266\n",
      "267\n",
      "268\n",
      "269\n",
      "270\n",
      "271\n",
      "272\n",
      "273\n",
      "275"
     ]
    },
    {
     "name": "stderr",
     "output_type": "stream",
     "text": [
      "No scoremap for section 274\n",
      "No scoremap for section 276\n"
     ]
    },
    {
     "name": "stdout",
     "output_type": "stream",
     "text": [
      "\n",
      "277\n",
      "278\n",
      "279\n",
      "280\n",
      "91 909\n",
      "249 717\n",
      "366 762\n",
      "7n\n",
      "(1072, 1202, 1138)\n",
      "135\n",
      "136\n",
      "137\n",
      "138\n",
      "139\n",
      "140\n",
      "141\n",
      "142\n",
      "143\n",
      "144\n",
      "145\n",
      "146\n",
      "147\n",
      "148\n",
      "149\n",
      "150\n",
      "151\n",
      "152\n",
      "153\n",
      "154\n",
      "155\n",
      "156\n",
      "157\n",
      "158\n",
      "159\n",
      "160\n",
      "161\n",
      "162\n",
      "164"
     ]
    },
    {
     "name": "stderr",
     "output_type": "stream",
     "text": [
      "No scoremap for section 163\n",
      "No scoremap for section 165\n"
     ]
    },
    {
     "name": "stdout",
     "output_type": "stream",
     "text": [
      "\n",
      "166\n",
      "167\n",
      "168\n",
      "169\n",
      "170\n",
      "171\n",
      "172\n",
      "173\n",
      "174\n",
      "175\n",
      "176\n",
      "177\n",
      "178\n",
      "179\n",
      "180\n",
      "181\n",
      "182\n",
      "190"
     ]
    },
    {
     "name": "stderr",
     "output_type": "stream",
     "text": [
      "No scoremap for section 183\n",
      "No scoremap for section 184\n",
      "No scoremap for section 185\n",
      "No scoremap for section 186\n",
      "No scoremap for section 187\n",
      "No scoremap for section 188\n",
      "No scoremap for section 189\n",
      "No scoremap for section 191\n"
     ]
    },
    {
     "name": "stdout",
     "output_type": "stream",
     "text": [
      "\n",
      "196\n",
      "197\n",
      "198\n",
      "199\n",
      "200\n",
      "201\n",
      "202\n",
      "203\n",
      "204\n",
      "205\n",
      "206\n",
      "207\n",
      "208\n",
      "209\n",
      "210\n",
      "211\n",
      "212\n",
      "213\n",
      "214\n",
      "215\n",
      "216\n",
      "217\n",
      "218"
     ]
    },
    {
     "name": "stderr",
     "output_type": "stream",
     "text": [
      "No scoremap for section 192\n",
      "No scoremap for section 193\n",
      "No scoremap for section 194\n",
      "No scoremap for section 195\n",
      "No scoremap for section 219\n",
      "No scoremap for section 220\n",
      "No scoremap for section 221\n",
      "No scoremap for section 222\n",
      "No scoremap for section 223\n",
      "No scoremap for section 224\n",
      "No scoremap for section 225\n",
      "No scoremap for section 226\n"
     ]
    },
    {
     "name": "stdout",
     "output_type": "stream",
     "text": [
      "\n",
      "231"
     ]
    },
    {
     "name": "stderr",
     "output_type": "stream",
     "text": [
      "No scoremap for section 227\n",
      "No scoremap for section 228\n",
      "No scoremap for section 229\n",
      "No scoremap for section 230\n",
      "No scoremap for section 232\n"
     ]
    },
    {
     "name": "stdout",
     "output_type": "stream",
     "text": [
      "\n",
      "234\n",
      "235\n",
      "236\n",
      "237\n",
      "238\n",
      "239\n",
      "240\n",
      "241\n",
      "242\n",
      "243\n",
      "244\n",
      "245\n",
      "246\n",
      "247\n",
      "248\n",
      "249\n",
      "250\n",
      "251\n",
      "252\n",
      "253\n",
      "254\n",
      "255\n",
      "256\n",
      "257\n",
      "258\n",
      "259\n",
      "260\n",
      "261\n",
      "262\n",
      "263\n",
      "264\n",
      "265\n",
      "266\n",
      "267\n",
      "268\n",
      "269\n",
      "270\n",
      "271\n",
      "272\n",
      "273\n",
      "274\n",
      "275\n",
      "276\n",
      "277\n",
      "278\n",
      "279\n",
      "280\n",
      "91 846\n",
      "249 717\n",
      "366 762\n",
      "7N\n",
      "(1072, 1202, 1138)\n",
      "135\n",
      "136\n",
      "137\n",
      "138\n",
      "139\n",
      "140\n",
      "141\n",
      "142\n",
      "143\n",
      "144\n",
      "145\n",
      "146\n",
      "147\n",
      "148\n",
      "149\n",
      "150\n",
      "151\n",
      "152\n",
      "153\n",
      "154\n",
      "155\n",
      "156\n",
      "157\n",
      "158\n",
      "159\n",
      "160\n",
      "161\n",
      "162"
     ]
    },
    {
     "name": "stderr",
     "output_type": "stream",
     "text": [
      "No scoremap for section 233\n",
      "No scoremap for section 163\n"
     ]
    },
    {
     "name": "stdout",
     "output_type": "stream",
     "text": [
      "\n",
      "164\n",
      "165\n",
      "166\n",
      "167\n",
      "168\n",
      "169\n",
      "170\n",
      "171\n",
      "172\n",
      "173\n",
      "174\n",
      "175\n",
      "177"
     ]
    },
    {
     "name": "stderr",
     "output_type": "stream",
     "text": [
      "No scoremap for section 176\n",
      "No scoremap for section 178\n"
     ]
    },
    {
     "name": "stdout",
     "output_type": "stream",
     "text": [
      "\n",
      "179\n",
      "181"
     ]
    },
    {
     "name": "stderr",
     "output_type": "stream",
     "text": [
      "No scoremap for section 180\n",
      "No scoremap for section 182\n"
     ]
    },
    {
     "name": "stdout",
     "output_type": "stream",
     "text": [
      "\n",
      "183\n",
      "185\n",
      "186\n",
      "187\n",
      "188\n",
      "189\n",
      "190\n",
      "191\n",
      "192\n",
      "193\n",
      "194\n",
      "195"
     ]
    },
    {
     "name": "stderr",
     "output_type": "stream",
     "text": [
      "No scoremap for section 184\n",
      "No scoremap for section 196\n"
     ]
    },
    {
     "name": "stdout",
     "output_type": "stream",
     "text": [
      "\n",
      "197\n",
      "199\n",
      "200\n",
      "201\n",
      "202\n",
      "203\n",
      "204\n",
      "205\n",
      "206\n",
      "207"
     ]
    },
    {
     "name": "stderr",
     "output_type": "stream",
     "text": [
      "No scoremap for section 198\n",
      "No scoremap for section 208\n"
     ]
    },
    {
     "name": "stdout",
     "output_type": "stream",
     "text": [
      "\n",
      "209\n",
      "210\n",
      "211\n",
      "213\n",
      "214\n",
      "215"
     ]
    },
    {
     "name": "stderr",
     "output_type": "stream",
     "text": [
      "No scoremap for section 212\n",
      "No scoremap for section 216\n"
     ]
    },
    {
     "name": "stdout",
     "output_type": "stream",
     "text": [
      "\n",
      "217\n",
      "218\n",
      "219\n",
      "220\n",
      "221\n",
      "222\n",
      "223\n",
      "224\n",
      "226\n",
      "227\n",
      "228\n",
      "229\n",
      "230\n",
      "231\n",
      "232\n",
      "233\n",
      "234"
     ]
    },
    {
     "name": "stderr",
     "output_type": "stream",
     "text": [
      "No scoremap for section 225\n",
      "No scoremap for section 235\n"
     ]
    },
    {
     "name": "stdout",
     "output_type": "stream",
     "text": [
      "\n",
      "236\n",
      "238"
     ]
    },
    {
     "name": "stderr",
     "output_type": "stream",
     "text": [
      "No scoremap for section 237\n",
      "No scoremap for section 239\n"
     ]
    },
    {
     "name": "stdout",
     "output_type": "stream",
     "text": [
      "\n",
      "240\n",
      "241\n",
      "242\n",
      "243\n",
      "244\n",
      "245\n",
      "246\n",
      "247\n",
      "248\n",
      "249\n",
      "250\n",
      "251\n",
      "252\n",
      "253\n",
      "254\n",
      "255\n",
      "256\n",
      "257\n",
      "258\n",
      "259\n",
      "260\n",
      "261\n",
      "262\n",
      "263\n",
      "264\n",
      "265\n",
      "266\n",
      "267\n",
      "268\n",
      "269\n",
      "270\n",
      "271\n",
      "272\n",
      "273\n",
      "275"
     ]
    },
    {
     "name": "stderr",
     "output_type": "stream",
     "text": [
      "No scoremap for section 274\n",
      "No scoremap for section 276\n"
     ]
    },
    {
     "name": "stdout",
     "output_type": "stream",
     "text": [
      "\n",
      "277\n",
      "278\n",
      "279\n",
      "91 910\n",
      "249 717\n",
      "366 759\n",
      "12N"
     ]
    },
    {
     "name": "stderr",
     "output_type": "stream",
     "text": [
      "No scoremap for section 280\n",
      "No scoremap for section 135\n"
     ]
    },
    {
     "name": "stdout",
     "output_type": "stream",
     "text": [
      "\n",
      "(1072, 1202, 1138)\n",
      "136\n",
      "144"
     ]
    },
    {
     "name": "stderr",
     "output_type": "stream",
     "text": [
      "No scoremap for section 137\n",
      "No scoremap for section 138\n",
      "No scoremap for section 139\n",
      "No scoremap for section 140\n",
      "No scoremap for section 141\n",
      "No scoremap for section 142\n",
      "No scoremap for section 143\n",
      "No scoremap for section 145\n"
     ]
    },
    {
     "name": "stdout",
     "output_type": "stream",
     "text": [
      "\n",
      "146\n",
      "147\n",
      "148\n",
      "149\n",
      "151\n",
      "152\n",
      "153\n",
      "154\n",
      "155\n",
      "156\n",
      "157\n",
      "158\n",
      "159\n",
      "160"
     ]
    },
    {
     "name": "stderr",
     "output_type": "stream",
     "text": [
      "No scoremap for section 150\n",
      "No scoremap for section 161\n"
     ]
    },
    {
     "name": "stdout",
     "output_type": "stream",
     "text": [
      "\n",
      "164"
     ]
    },
    {
     "name": "stderr",
     "output_type": "stream",
     "text": [
      "No scoremap for section 162\n",
      "No scoremap for section 163\n",
      "No scoremap for section 165\n"
     ]
    },
    {
     "name": "stdout",
     "output_type": "stream",
     "text": [
      "\n",
      "166\n",
      "167\n",
      "168\n",
      "169\n",
      "170\n",
      "171\n",
      "172\n",
      "173\n",
      "174\n",
      "177\n",
      "178"
     ]
    },
    {
     "name": "stderr",
     "output_type": "stream",
     "text": [
      "No scoremap for section 175\n",
      "No scoremap for section 176\n",
      "No scoremap for section 179\n"
     ]
    },
    {
     "name": "stdout",
     "output_type": "stream",
     "text": [
      "\n",
      "181\n",
      "182\n",
      "183\n",
      "184\n",
      "185\n",
      "186\n",
      "187\n",
      "188\n",
      "189\n",
      "190\n",
      "191\n",
      "192\n",
      "193\n",
      "194\n",
      "195\n",
      "196\n",
      "197\n",
      "198\n",
      "199\n",
      "200\n",
      "201\n",
      "202\n",
      "203\n",
      "204\n",
      "205\n",
      "206\n",
      "207\n",
      "208\n",
      "209\n",
      "210\n",
      "211\n",
      "212\n",
      "213\n",
      "214\n",
      "215\n",
      "216\n",
      "217"
     ]
    },
    {
     "name": "stderr",
     "output_type": "stream",
     "text": [
      "No scoremap for section 180\n",
      "No scoremap for section 218\n"
     ]
    },
    {
     "name": "stdout",
     "output_type": "stream",
     "text": [
      "\n",
      "219\n",
      "221"
     ]
    },
    {
     "name": "stderr",
     "output_type": "stream",
     "text": [
      "No scoremap for section 220\n",
      "No scoremap for section 222\n"
     ]
    },
    {
     "name": "stdout",
     "output_type": "stream",
     "text": [
      "\n",
      "229"
     ]
    },
    {
     "name": "stderr",
     "output_type": "stream",
     "text": [
      "No scoremap for section 223\n",
      "No scoremap for section 224\n",
      "No scoremap for section 225\n",
      "No scoremap for section 226\n",
      "No scoremap for section 227\n",
      "No scoremap for section 228\n",
      "No scoremap for section 230\n"
     ]
    },
    {
     "name": "stdout",
     "output_type": "stream",
     "text": [
      "\n",
      "234\n",
      "235\n",
      "236\n",
      "237\n",
      "238\n",
      "239\n",
      "240"
     ]
    },
    {
     "name": "stderr",
     "output_type": "stream",
     "text": [
      "No scoremap for section 231\n",
      "No scoremap for section 232\n",
      "No scoremap for section 233\n",
      "No scoremap for section 241\n"
     ]
    },
    {
     "name": "stdout",
     "output_type": "stream",
     "text": [
      "\n",
      "242\n",
      "244\n",
      "245"
     ]
    },
    {
     "name": "stderr",
     "output_type": "stream",
     "text": [
      "No scoremap for section 243\n",
      "No scoremap for section 246\n"
     ]
    },
    {
     "name": "stdout",
     "output_type": "stream",
     "text": [
      "\n",
      "247\n",
      "248\n",
      "249\n",
      "250\n",
      "253"
     ]
    },
    {
     "name": "stderr",
     "output_type": "stream",
     "text": [
      "No scoremap for section 251\n",
      "No scoremap for section 252\n",
      "No scoremap for section 254\n"
     ]
    },
    {
     "name": "stdout",
     "output_type": "stream",
     "text": [
      "\n",
      "255\n",
      "257\n",
      "258"
     ]
    },
    {
     "name": "stderr",
     "output_type": "stream",
     "text": [
      "No scoremap for section 256\n",
      "No scoremap for section 259\n"
     ]
    },
    {
     "name": "stdout",
     "output_type": "stream",
     "text": [
      "\n",
      "267"
     ]
    },
    {
     "name": "stderr",
     "output_type": "stream",
     "text": [
      "No scoremap for section 260\n",
      "No scoremap for section 261\n",
      "No scoremap for section 262\n",
      "No scoremap for section 263\n",
      "No scoremap for section 264\n",
      "No scoremap for section 265\n",
      "No scoremap for section 266\n",
      "No scoremap for section 268\n"
     ]
    },
    {
     "name": "stdout",
     "output_type": "stream",
     "text": [
      "\n",
      "275"
     ]
    },
    {
     "name": "stderr",
     "output_type": "stream",
     "text": [
      "No scoremap for section 269\n",
      "No scoremap for section 270\n",
      "No scoremap for section 271\n",
      "No scoremap for section 272\n",
      "No scoremap for section 273\n",
      "No scoremap for section 274\n",
      "No scoremap for section 276\n"
     ]
    },
    {
     "name": "stdout",
     "output_type": "stream",
     "text": [
      "\n",
      "280\n",
      "91 910\n",
      "249 717\n",
      "369 762\n",
      "Gr\n",
      "(1072, 1202, 1138)\n",
      "135\n",
      "136\n",
      "137"
     ]
    },
    {
     "name": "stderr",
     "output_type": "stream",
     "text": [
      "No scoremap for section 277\n",
      "No scoremap for section 278\n",
      "No scoremap for section 279\n",
      "No scoremap for section 138\n"
     ]
    },
    {
     "name": "stdout",
     "output_type": "stream",
     "text": [
      "\n",
      "141\n",
      "142"
     ]
    },
    {
     "name": "stderr",
     "output_type": "stream",
     "text": [
      "No scoremap for section 139\n",
      "No scoremap for section 140\n",
      "No scoremap for section 143\n"
     ]
    },
    {
     "name": "stdout",
     "output_type": "stream",
     "text": [
      "\n",
      "144\n",
      "146\n",
      "147\n",
      "148\n",
      "149\n",
      "150\n",
      "151\n",
      "152\n",
      "153\n",
      "154\n",
      "155\n",
      "156\n",
      "157\n",
      "158\n",
      "159\n",
      "160\n",
      "161\n",
      "162"
     ]
    },
    {
     "name": "stderr",
     "output_type": "stream",
     "text": [
      "No scoremap for section 145\n",
      "No scoremap for section 163\n"
     ]
    },
    {
     "name": "stdout",
     "output_type": "stream",
     "text": [
      "\n",
      "164\n",
      "166\n",
      "167\n",
      "168\n",
      "169\n",
      "170\n",
      "171\n",
      "172\n",
      "173\n",
      "174\n",
      "175\n",
      "176\n",
      "177\n",
      "178\n",
      "179\n",
      "180\n",
      "181\n",
      "182\n",
      "183\n",
      "184\n",
      "185\n",
      "186\n",
      "187\n",
      "188\n",
      "189\n",
      "190\n",
      "191\n",
      "192\n",
      "193\n",
      "194\n",
      "195\n",
      "196\n",
      "197\n",
      "198\n",
      "199\n",
      "200\n",
      "201\n",
      "202"
     ]
    },
    {
     "name": "stderr",
     "output_type": "stream",
     "text": [
      "No scoremap for section 165\n",
      "No scoremap for section 203\n"
     ]
    },
    {
     "name": "stdout",
     "output_type": "stream",
     "text": [
      "\n",
      "204\n",
      "205\n",
      "206\n",
      "207\n",
      "208\n",
      "210\n",
      "211\n",
      "212\n",
      "213\n",
      "214\n",
      "215\n",
      "216"
     ]
    },
    {
     "name": "stderr",
     "output_type": "stream",
     "text": [
      "No scoremap for section 209\n",
      "No scoremap for section 217\n"
     ]
    },
    {
     "name": "stdout",
     "output_type": "stream",
     "text": [
      "\n",
      "218\n",
      "219\n",
      "220\n",
      "221\n",
      "222\n",
      "224"
     ]
    },
    {
     "name": "stderr",
     "output_type": "stream",
     "text": [
      "No scoremap for section 223\n",
      "No scoremap for section 225\n"
     ]
    },
    {
     "name": "stdout",
     "output_type": "stream",
     "text": [
      "\n",
      "226\n",
      "227\n",
      "228\n",
      "229\n",
      "230\n",
      "231\n",
      "232\n",
      "233\n",
      "234\n",
      "235\n",
      "236\n",
      "237\n",
      "238\n",
      "239\n",
      "240\n",
      "241\n",
      "242\n",
      "243\n",
      "244\n",
      "245\n",
      "246\n",
      "247\n",
      "248\n",
      "249\n",
      "250\n",
      "251\n",
      "252\n",
      "253\n",
      "254\n",
      "255\n",
      "256\n",
      "257\n",
      "259\n",
      "260\n",
      "261\n",
      "262\n",
      "263\n",
      "264\n",
      "265"
     ]
    },
    {
     "name": "stderr",
     "output_type": "stream",
     "text": [
      "No scoremap for section 258\n",
      "No scoremap for section 266\n"
     ]
    },
    {
     "name": "stdout",
     "output_type": "stream",
     "text": [
      "\n",
      "268\n",
      "269\n",
      "270\n",
      "271\n",
      "272"
     ]
    },
    {
     "name": "stderr",
     "output_type": "stream",
     "text": [
      "No scoremap for section 267\n",
      "No scoremap for section 273\n"
     ]
    },
    {
     "name": "stdout",
     "output_type": "stream",
     "text": [
      "\n",
      "274\n",
      "278"
     ]
    },
    {
     "name": "stderr",
     "output_type": "stream",
     "text": [
      "No scoremap for section 275\n",
      "No scoremap for section 276\n",
      "No scoremap for section 277\n",
      "No scoremap for section 279\n"
     ]
    },
    {
     "name": "stdout",
     "output_type": "stream",
     "text": [
      "\n",
      "280\n",
      "91 910\n",
      "249 717\n",
      "366 762\n",
      "LVe\n",
      "(1072, 1202, 1138)\n",
      "135\n",
      "136\n",
      "137\n",
      "140\n",
      "141"
     ]
    },
    {
     "name": "stderr",
     "output_type": "stream",
     "text": [
      "No scoremap for section 138\n",
      "No scoremap for section 139\n",
      "No scoremap for section 142\n"
     ]
    },
    {
     "name": "stdout",
     "output_type": "stream",
     "text": [
      "\n",
      "143\n",
      "144\n",
      "146\n",
      "147\n",
      "148\n",
      "149\n",
      "150\n",
      "151\n",
      "152\n",
      "153\n",
      "154"
     ]
    },
    {
     "name": "stderr",
     "output_type": "stream",
     "text": [
      "No scoremap for section 145\n",
      "No scoremap for section 155\n"
     ]
    },
    {
     "name": "stdout",
     "output_type": "stream",
     "text": [
      "\n",
      "156\n",
      "158"
     ]
    },
    {
     "name": "stderr",
     "output_type": "stream",
     "text": [
      "No scoremap for section 157\n",
      "No scoremap for section 159\n"
     ]
    },
    {
     "name": "stdout",
     "output_type": "stream",
     "text": [
      "\n",
      "160\n",
      "162"
     ]
    },
    {
     "name": "stderr",
     "output_type": "stream",
     "text": [
      "No scoremap for section 161\n",
      "No scoremap for section 163\n"
     ]
    },
    {
     "name": "stdout",
     "output_type": "stream",
     "text": [
      "\n",
      "166"
     ]
    },
    {
     "name": "stderr",
     "output_type": "stream",
     "text": [
      "No scoremap for section 164\n",
      "No scoremap for section 165\n",
      "No scoremap for section 167\n"
     ]
    },
    {
     "name": "stdout",
     "output_type": "stream",
     "text": [
      "\n",
      "168\n",
      "170"
     ]
    },
    {
     "name": "stderr",
     "output_type": "stream",
     "text": [
      "No scoremap for section 169\n",
      "No scoremap for section 171\n"
     ]
    },
    {
     "name": "stdout",
     "output_type": "stream",
     "text": [
      "\n",
      "174\n",
      "175\n",
      "176"
     ]
    },
    {
     "name": "stderr",
     "output_type": "stream",
     "text": [
      "No scoremap for section 172\n",
      "No scoremap for section 173\n",
      "No scoremap for section 177\n"
     ]
    },
    {
     "name": "stdout",
     "output_type": "stream",
     "text": [
      "\n",
      "178\n",
      "180"
     ]
    },
    {
     "name": "stderr",
     "output_type": "stream",
     "text": [
      "No scoremap for section 179\n",
      "No scoremap for section 181\n"
     ]
    },
    {
     "name": "stdout",
     "output_type": "stream",
     "text": [
      "\n",
      "182\n",
      "183\n",
      "184\n",
      "185\n",
      "186\n",
      "188"
     ]
    },
    {
     "name": "stderr",
     "output_type": "stream",
     "text": [
      "No scoremap for section 187\n",
      "No scoremap for section 189\n"
     ]
    },
    {
     "name": "stdout",
     "output_type": "stream",
     "text": [
      "\n",
      "191"
     ]
    },
    {
     "name": "stderr",
     "output_type": "stream",
     "text": [
      "No scoremap for section 190\n",
      "No scoremap for section 192\n"
     ]
    },
    {
     "name": "stdout",
     "output_type": "stream",
     "text": [
      "\n",
      "194"
     ]
    },
    {
     "name": "stderr",
     "output_type": "stream",
     "text": [
      "No scoremap for section 193\n",
      "No scoremap for section 195\n"
     ]
    },
    {
     "name": "stdout",
     "output_type": "stream",
     "text": [
      "\n",
      "196\n",
      "198"
     ]
    },
    {
     "name": "stderr",
     "output_type": "stream",
     "text": [
      "No scoremap for section 197\n",
      "No scoremap for section 199\n"
     ]
    },
    {
     "name": "stdout",
     "output_type": "stream",
     "text": [
      "\n",
      "210"
     ]
    },
    {
     "name": "stderr",
     "output_type": "stream",
     "text": [
      "No scoremap for section 200\n",
      "No scoremap for section 201\n",
      "No scoremap for section 202\n",
      "No scoremap for section 203\n",
      "No scoremap for section 204\n",
      "No scoremap for section 205\n",
      "No scoremap for section 206\n",
      "No scoremap for section 207\n",
      "No scoremap for section 208\n",
      "No scoremap for section 209\n",
      "No scoremap for section 211\n"
     ]
    },
    {
     "name": "stdout",
     "output_type": "stream",
     "text": [
      "\n",
      "214"
     ]
    },
    {
     "name": "stderr",
     "output_type": "stream",
     "text": [
      "No scoremap for section 212\n",
      "No scoremap for section 213\n",
      "No scoremap for section 215\n"
     ]
    },
    {
     "name": "stdout",
     "output_type": "stream",
     "text": [
      "\n",
      "225"
     ]
    },
    {
     "name": "stderr",
     "output_type": "stream",
     "text": [
      "No scoremap for section 216\n",
      "No scoremap for section 217\n",
      "No scoremap for section 218\n",
      "No scoremap for section 219\n",
      "No scoremap for section 220\n",
      "No scoremap for section 221\n",
      "No scoremap for section 222\n",
      "No scoremap for section 223\n",
      "No scoremap for section 224\n",
      "No scoremap for section 226\n"
     ]
    },
    {
     "name": "stdout",
     "output_type": "stream",
     "text": [
      "\n",
      "229"
     ]
    },
    {
     "name": "stderr",
     "output_type": "stream",
     "text": [
      "No scoremap for section 227\n",
      "No scoremap for section 228\n",
      "No scoremap for section 230\n"
     ]
    },
    {
     "name": "stdout",
     "output_type": "stream",
     "text": [
      "\n",
      "232\n",
      "233"
     ]
    },
    {
     "name": "stderr",
     "output_type": "stream",
     "text": [
      "No scoremap for section 231\n",
      "No scoremap for section 234\n"
     ]
    },
    {
     "name": "stdout",
     "output_type": "stream",
     "text": [
      "\n",
      "235\n",
      "237"
     ]
    },
    {
     "name": "stderr",
     "output_type": "stream",
     "text": [
      "No scoremap for section 236\n",
      "No scoremap for section 238\n"
     ]
    },
    {
     "name": "stdout",
     "output_type": "stream",
     "text": [
      "\n",
      "239\n",
      "241"
     ]
    },
    {
     "name": "stderr",
     "output_type": "stream",
     "text": [
      "No scoremap for section 240\n",
      "No scoremap for section 242\n"
     ]
    },
    {
     "name": "stdout",
     "output_type": "stream",
     "text": [
      "\n",
      "245"
     ]
    },
    {
     "name": "stderr",
     "output_type": "stream",
     "text": [
      "No scoremap for section 243\n",
      "No scoremap for section 244\n",
      "No scoremap for section 246\n"
     ]
    },
    {
     "name": "stdout",
     "output_type": "stream",
     "text": [
      "\n",
      "247\n",
      "248\n",
      "249\n",
      "265"
     ]
    },
    {
     "name": "stderr",
     "output_type": "stream",
     "text": [
      "No scoremap for section 250\n",
      "No scoremap for section 251\n",
      "No scoremap for section 252\n",
      "No scoremap for section 253\n",
      "No scoremap for section 254\n",
      "No scoremap for section 255\n",
      "No scoremap for section 256\n",
      "No scoremap for section 257\n",
      "No scoremap for section 258\n",
      "No scoremap for section 259\n",
      "No scoremap for section 260\n",
      "No scoremap for section 261\n",
      "No scoremap for section 262\n",
      "No scoremap for section 263\n",
      "No scoremap for section 264\n",
      "No scoremap for section 266\n"
     ]
    },
    {
     "name": "stdout",
     "output_type": "stream",
     "text": [
      "\n",
      "267\n",
      "271\n",
      "272\n",
      "273\n",
      "274"
     ]
    },
    {
     "name": "stderr",
     "output_type": "stream",
     "text": [
      "No scoremap for section 268\n",
      "No scoremap for section 269\n",
      "No scoremap for section 270\n",
      "No scoremap for section 275\n"
     ]
    },
    {
     "name": "stdout",
     "output_type": "stream",
     "text": [
      "\n",
      "278"
     ]
    },
    {
     "name": "stderr",
     "output_type": "stream",
     "text": [
      "No scoremap for section 276\n",
      "No scoremap for section 277\n",
      "No scoremap for section 279\n"
     ]
    },
    {
     "name": "stdout",
     "output_type": "stream",
     "text": [
      "\n",
      "280\n",
      "91 910\n",
      "249 717\n",
      "366 762\n",
      "Pn\n",
      "(1072, 1202, 1138)\n",
      "135\n",
      "136\n",
      "137\n",
      "138\n",
      "139\n",
      "140\n",
      "141\n",
      "142\n",
      "143\n",
      "144\n",
      "146"
     ]
    },
    {
     "name": "stderr",
     "output_type": "stream",
     "text": [
      "No scoremap for section 145\n",
      "No scoremap for section 147\n"
     ]
    },
    {
     "name": "stdout",
     "output_type": "stream",
     "text": [
      "\n",
      "154\n",
      "155\n",
      "156\n",
      "157\n",
      "158\n",
      "159\n",
      "160\n",
      "161\n",
      "162"
     ]
    },
    {
     "name": "stderr",
     "output_type": "stream",
     "text": [
      "No scoremap for section 148\n",
      "No scoremap for section 149\n",
      "No scoremap for section 150\n",
      "No scoremap for section 151\n",
      "No scoremap for section 152\n",
      "No scoremap for section 153\n",
      "No scoremap for section 163\n"
     ]
    },
    {
     "name": "stdout",
     "output_type": "stream",
     "text": [
      "\n",
      "164\n",
      "165\n",
      "166\n",
      "167\n",
      "168\n",
      "169\n",
      "170\n",
      "171\n",
      "172\n",
      "173\n",
      "174\n",
      "175\n",
      "176\n",
      "177\n",
      "178\n",
      "179\n",
      "180\n",
      "181\n",
      "182\n",
      "183\n",
      "184\n",
      "185\n",
      "186\n",
      "187\n",
      "188\n",
      "189\n",
      "190\n",
      "191\n",
      "192\n",
      "193\n",
      "194\n",
      "195\n",
      "196\n",
      "197\n",
      "198\n",
      "199\n",
      "200\n",
      "201\n",
      "202\n",
      "203\n",
      "204\n",
      "205\n",
      "206\n",
      "207\n",
      "208\n",
      "209\n",
      "210\n",
      "211\n",
      "212\n",
      "213\n",
      "214\n",
      "215\n",
      "216\n",
      "217\n",
      "218\n",
      "219\n",
      "220\n",
      "221\n",
      "222\n",
      "223\n",
      "224\n",
      "225\n",
      "226\n",
      "227\n",
      "228\n",
      "229\n",
      "230\n",
      "231\n",
      "232\n",
      "234\n",
      "235\n",
      "236"
     ]
    },
    {
     "name": "stderr",
     "output_type": "stream",
     "text": [
      "No scoremap for section 233\n",
      "No scoremap for section 237\n"
     ]
    },
    {
     "name": "stdout",
     "output_type": "stream",
     "text": [
      "\n",
      "238\n",
      "239\n",
      "240\n",
      "241\n",
      "242\n",
      "243\n",
      "244\n",
      "245\n",
      "247\n",
      "248\n",
      "249\n",
      "250\n",
      "251\n",
      "252\n",
      "253\n",
      "254\n",
      "255\n",
      "256\n",
      "257\n",
      "258\n",
      "259\n",
      "260\n",
      "261\n",
      "262"
     ]
    },
    {
     "name": "stderr",
     "output_type": "stream",
     "text": [
      "No scoremap for section 246\n",
      "No scoremap for section 263\n"
     ]
    },
    {
     "name": "stdout",
     "output_type": "stream",
     "text": [
      "\n",
      "264\n",
      "266\n",
      "267\n",
      "268\n",
      "269\n",
      "270"
     ]
    },
    {
     "name": "stderr",
     "output_type": "stream",
     "text": [
      "No scoremap for section 265\n",
      "No scoremap for section 271\n"
     ]
    },
    {
     "name": "stdout",
     "output_type": "stream",
     "text": [
      "\n",
      "273\n",
      "274\n",
      "275\n",
      "276\n",
      "277\n",
      "278\n",
      "279\n",
      "280\n",
      "91 910\n",
      "249 717\n",
      "366 762\n",
      "SuVe"
     ]
    },
    {
     "name": "stderr",
     "output_type": "stream",
     "text": [
      "No scoremap for section 272\n",
      "No scoremap for section 135\n",
      "No scoremap for section 136\n",
      "No scoremap for section 137\n",
      "No scoremap for section 138\n",
      "No scoremap for section 140\n"
     ]
    },
    {
     "name": "stdout",
     "output_type": "stream",
     "text": [
      "\n",
      "(1072, 1202, 1138)\n",
      "139\n",
      "141\n",
      "143"
     ]
    },
    {
     "name": "stderr",
     "output_type": "stream",
     "text": [
      "No scoremap for section 142\n",
      "No scoremap for section 144\n"
     ]
    },
    {
     "name": "stdout",
     "output_type": "stream",
     "text": [
      "\n",
      "145\n",
      "146\n",
      "147\n",
      "149\n",
      "150"
     ]
    },
    {
     "name": "stderr",
     "output_type": "stream",
     "text": [
      "No scoremap for section 148\n",
      "No scoremap for section 151\n"
     ]
    },
    {
     "name": "stdout",
     "output_type": "stream",
     "text": [
      "\n",
      "154"
     ]
    },
    {
     "name": "stderr",
     "output_type": "stream",
     "text": [
      "No scoremap for section 152\n",
      "No scoremap for section 153\n",
      "No scoremap for section 155\n"
     ]
    },
    {
     "name": "stdout",
     "output_type": "stream",
     "text": [
      "\n",
      "167"
     ]
    },
    {
     "name": "stderr",
     "output_type": "stream",
     "text": [
      "No scoremap for section 156\n",
      "No scoremap for section 157\n",
      "No scoremap for section 158\n",
      "No scoremap for section 159\n",
      "No scoremap for section 160\n",
      "No scoremap for section 161\n",
      "No scoremap for section 162\n",
      "No scoremap for section 163\n",
      "No scoremap for section 164\n",
      "No scoremap for section 165\n",
      "No scoremap for section 166\n",
      "No scoremap for section 168\n"
     ]
    },
    {
     "name": "stdout",
     "output_type": "stream",
     "text": [
      "\n",
      "169\n",
      "171"
     ]
    },
    {
     "name": "stderr",
     "output_type": "stream",
     "text": [
      "No scoremap for section 170\n",
      "No scoremap for section 172\n"
     ]
    },
    {
     "name": "stdout",
     "output_type": "stream",
     "text": [
      "\n",
      "173\n",
      "200"
     ]
    },
    {
     "name": "stderr",
     "output_type": "stream",
     "text": [
      "No scoremap for section 174\n",
      "No scoremap for section 175\n",
      "No scoremap for section 176\n",
      "No scoremap for section 177\n",
      "No scoremap for section 178\n",
      "No scoremap for section 179\n",
      "No scoremap for section 180\n",
      "No scoremap for section 181\n",
      "No scoremap for section 182\n",
      "No scoremap for section 183\n",
      "No scoremap for section 184\n",
      "No scoremap for section 185\n",
      "No scoremap for section 186\n",
      "No scoremap for section 187\n",
      "No scoremap for section 188\n",
      "No scoremap for section 189\n",
      "No scoremap for section 190\n",
      "No scoremap for section 191\n",
      "No scoremap for section 192\n",
      "No scoremap for section 193\n",
      "No scoremap for section 194\n",
      "No scoremap for section 195\n",
      "No scoremap for section 196\n",
      "No scoremap for section 197\n",
      "No scoremap for section 198\n",
      "No scoremap for section 199\n",
      "No scoremap for section 201\n"
     ]
    },
    {
     "name": "stdout",
     "output_type": "stream",
     "text": [
      "\n",
      "223"
     ]
    },
    {
     "name": "stderr",
     "output_type": "stream",
     "text": [
      "No scoremap for section 202\n",
      "No scoremap for section 203\n",
      "No scoremap for section 204\n",
      "No scoremap for section 205\n",
      "No scoremap for section 206\n",
      "No scoremap for section 207\n",
      "No scoremap for section 208\n",
      "No scoremap for section 209\n",
      "No scoremap for section 210\n",
      "No scoremap for section 211\n",
      "No scoremap for section 212\n",
      "No scoremap for section 213\n",
      "No scoremap for section 214\n",
      "No scoremap for section 215\n",
      "No scoremap for section 216\n",
      "No scoremap for section 217\n",
      "No scoremap for section 218\n",
      "No scoremap for section 219\n",
      "No scoremap for section 220\n",
      "No scoremap for section 221\n",
      "No scoremap for section 222\n",
      "No scoremap for section 224\n"
     ]
    },
    {
     "name": "stdout",
     "output_type": "stream",
     "text": [
      "\n",
      "236\n",
      "237\n",
      "238"
     ]
    },
    {
     "name": "stderr",
     "output_type": "stream",
     "text": [
      "No scoremap for section 225\n",
      "No scoremap for section 226\n",
      "No scoremap for section 227\n",
      "No scoremap for section 228\n",
      "No scoremap for section 229\n",
      "No scoremap for section 230\n",
      "No scoremap for section 231\n",
      "No scoremap for section 232\n",
      "No scoremap for section 233\n",
      "No scoremap for section 234\n",
      "No scoremap for section 235\n",
      "No scoremap for section 239\n"
     ]
    },
    {
     "name": "stdout",
     "output_type": "stream",
     "text": [
      "\n",
      "240\n",
      "241\n",
      "244\n",
      "245\n",
      "246\n",
      "247\n",
      "248"
     ]
    },
    {
     "name": "stderr",
     "output_type": "stream",
     "text": [
      "No scoremap for section 242\n",
      "No scoremap for section 243\n",
      "No scoremap for section 249\n"
     ]
    },
    {
     "name": "stdout",
     "output_type": "stream",
     "text": [
      "\n",
      "250\n",
      "251\n",
      "252\n",
      "253\n",
      "254\n",
      "255\n",
      "256\n",
      "257\n",
      "262\n",
      "263"
     ]
    },
    {
     "name": "stderr",
     "output_type": "stream",
     "text": [
      "No scoremap for section 258\n",
      "No scoremap for section 259\n",
      "No scoremap for section 260\n",
      "No scoremap for section 261\n",
      "No scoremap for section 264\n"
     ]
    },
    {
     "name": "stdout",
     "output_type": "stream",
     "text": [
      "\n",
      "265\n",
      "267"
     ]
    },
    {
     "name": "stderr",
     "output_type": "stream",
     "text": [
      "No scoremap for section 266\n",
      "No scoremap for section 268\n"
     ]
    },
    {
     "name": "stdout",
     "output_type": "stream",
     "text": [
      "\n",
      "269\n",
      "270\n",
      "271\n",
      "272\n",
      "273\n",
      "277\n",
      "278\n",
      "279\n",
      "280\n",
      "91 910\n",
      "249 692\n",
      "377 762\n",
      "VLL\n",
      "(1072, 1202, 1138)\n",
      "135\n",
      "136\n",
      "137\n",
      "138\n",
      "139\n",
      "140\n",
      "141\n",
      "142\n",
      "143\n",
      "144\n",
      "145\n",
      "146\n",
      "147\n",
      "148\n",
      "149\n",
      "150\n",
      "151\n",
      "152\n",
      "153\n",
      "154\n",
      "155\n",
      "156\n",
      "157\n",
      "158\n",
      "159\n",
      "160\n",
      "161\n",
      "162"
     ]
    },
    {
     "name": "stderr",
     "output_type": "stream",
     "text": [
      "No scoremap for section 274\n",
      "No scoremap for section 275\n",
      "No scoremap for section 276\n",
      "No scoremap for section 163\n"
     ]
    },
    {
     "name": "stdout",
     "output_type": "stream",
     "text": [
      "\n",
      "164\n",
      "166\n",
      "167\n",
      "168\n",
      "169\n",
      "170\n",
      "171\n",
      "172\n",
      "173\n",
      "174\n",
      "175\n",
      "176\n",
      "177\n",
      "178\n",
      "179\n",
      "180\n",
      "181\n",
      "182\n",
      "183\n",
      "184\n",
      "185\n",
      "186\n",
      "187\n",
      "188\n",
      "189"
     ]
    },
    {
     "name": "stderr",
     "output_type": "stream",
     "text": [
      "No scoremap for section 165\n",
      "No scoremap for section 190\n"
     ]
    },
    {
     "name": "stdout",
     "output_type": "stream",
     "text": [
      "\n",
      "191\n",
      "192\n",
      "193\n",
      "195"
     ]
    },
    {
     "name": "stderr",
     "output_type": "stream",
     "text": [
      "No scoremap for section 194\n",
      "No scoremap for section 196\n"
     ]
    },
    {
     "name": "stdout",
     "output_type": "stream",
     "text": [
      "\n",
      "197\n",
      "198\n",
      "199\n",
      "201\n",
      "202\n",
      "203\n",
      "204\n",
      "205\n",
      "206\n",
      "207\n",
      "208\n",
      "209\n",
      "210\n",
      "211\n",
      "212\n",
      "213\n",
      "214\n",
      "215\n",
      "216\n",
      "217\n",
      "218\n",
      "219\n",
      "220\n",
      "221\n",
      "222\n",
      "223"
     ]
    },
    {
     "name": "stderr",
     "output_type": "stream",
     "text": [
      "No scoremap for section 200\n",
      "No scoremap for section 224\n"
     ]
    },
    {
     "name": "stdout",
     "output_type": "stream",
     "text": [
      "\n",
      "226\n",
      "227\n",
      "228\n",
      "229\n",
      "230\n",
      "231\n",
      "232\n",
      "233\n",
      "234\n",
      "235\n",
      "236\n",
      "237\n",
      "238\n",
      "239\n",
      "240\n",
      "241\n",
      "242\n",
      "243\n",
      "244\n",
      "245\n",
      "246\n",
      "247\n",
      "248"
     ]
    },
    {
     "name": "stderr",
     "output_type": "stream",
     "text": [
      "No scoremap for section 225\n",
      "No scoremap for section 249\n"
     ]
    },
    {
     "name": "stdout",
     "output_type": "stream",
     "text": [
      "\n",
      "250\n",
      "251\n",
      "252\n",
      "253\n",
      "254\n",
      "255\n",
      "256\n",
      "257\n",
      "258\n",
      "259\n",
      "260\n",
      "261\n",
      "262\n",
      "263\n",
      "264\n",
      "265\n",
      "266\n",
      "267\n",
      "268\n",
      "269\n",
      "270\n",
      "271\n",
      "272\n",
      "273\n",
      "274\n",
      "275\n",
      "276\n",
      "277\n",
      "278\n",
      "279\n",
      "280\n",
      "91 910\n",
      "249 717\n",
      "366 762\n",
      "91 249 366\n",
      "910 717 762\n",
      "98 387\n",
      "150 315\n",
      "407 857\n",
      "5N\n",
      "(1330, 1100, 1228)\n",
      "150\n",
      "151\n",
      "152\n",
      "153\n",
      "154\n",
      "155\n",
      "156\n",
      "157\n",
      "158\n",
      "159\n",
      "160\n",
      "161\n",
      "162\n",
      "163\n",
      "164\n",
      "165\n",
      "166\n",
      "167\n",
      "168\n",
      "169\n",
      "170\n",
      "171\n",
      "172\n",
      "173\n",
      "174\n",
      "175\n",
      "176\n",
      "177\n",
      "178\n",
      "179\n",
      "180\n",
      "181\n",
      "182\n",
      "183\n",
      "184\n",
      "185\n",
      "186\n",
      "187\n",
      "188\n",
      "189\n",
      "190\n",
      "191\n",
      "192\n",
      "193\n",
      "194\n",
      "195\n",
      "196\n",
      "197\n",
      "198\n",
      "199\n",
      "200\n",
      "201\n",
      "202\n",
      "203\n",
      "204\n",
      "205\n",
      "206\n",
      "207\n",
      "208\n",
      "209\n",
      "210\n",
      "211\n",
      "212\n",
      "213\n",
      "214\n",
      "215\n",
      "216\n",
      "217\n",
      "218\n",
      "219\n",
      "220\n",
      "221\n",
      "222\n",
      "223\n",
      "224\n",
      "225\n",
      "226\n",
      "227\n",
      "228\n",
      "229\n",
      "230\n",
      "231\n",
      "232\n",
      "233\n",
      "234\n",
      "235\n",
      "236\n",
      "237\n",
      "238\n",
      "239\n",
      "240\n",
      "241\n",
      "242\n",
      "243\n",
      "244\n",
      "245\n",
      "246\n",
      "248\n",
      "249\n",
      "250\n",
      "251\n",
      "252\n",
      "253\n",
      "254\n",
      "255\n",
      "256\n",
      "257\n",
      "258\n",
      "259\n",
      "260\n",
      "261\n",
      "262\n",
      "263\n",
      "264\n",
      "265\n",
      "266\n",
      "267\n",
      "268\n",
      "269\n",
      "270"
     ]
    },
    {
     "name": "stderr",
     "output_type": "stream",
     "text": [
      "No scoremap for section 247\n",
      "No scoremap for section 271\n"
     ]
    },
    {
     "name": "stdout",
     "output_type": "stream",
     "text": [
      "\n",
      "272\n",
      "273\n",
      "274\n",
      "275\n",
      "276\n",
      "277\n",
      "278\n",
      "279\n",
      "280\n",
      "281\n",
      "282\n",
      "283\n",
      "284\n",
      "285\n",
      "286\n",
      "287\n",
      "288\n",
      "289\n",
      "290\n",
      "291\n",
      "292\n",
      "293\n",
      "294\n",
      "295\n",
      "296\n",
      "297\n",
      "298\n",
      "299\n",
      "300\n",
      "301\n",
      "302\n",
      "303\n",
      "304\n",
      "305\n",
      "306\n",
      "307\n",
      "308\n",
      "309\n",
      "310\n",
      "311\n",
      "312\n",
      "313\n",
      "314\n",
      "315\n",
      "77 892\n",
      "235 777\n",
      "407 857\n",
      "7n\n",
      "(1330, 1100, 1228)\n",
      "150\n",
      "151\n",
      "152\n",
      "153\n",
      "154\n",
      "155\n",
      "156\n",
      "157\n",
      "158\n",
      "159\n",
      "160\n",
      "161\n",
      "162\n",
      "163\n",
      "164\n",
      "165\n",
      "166\n",
      "167\n",
      "168\n",
      "169\n",
      "170\n",
      "171\n",
      "172\n",
      "173\n",
      "174\n",
      "175\n",
      "176\n",
      "177\n",
      "178\n",
      "179\n",
      "180\n",
      "181\n",
      "182\n",
      "183\n",
      "184\n",
      "186"
     ]
    },
    {
     "name": "stderr",
     "output_type": "stream",
     "text": [
      "No scoremap for section 185\n",
      "No scoremap for section 187\n"
     ]
    },
    {
     "name": "stdout",
     "output_type": "stream",
     "text": [
      "\n",
      "188\n",
      "189\n",
      "190\n",
      "191\n",
      "192\n",
      "193\n",
      "194\n",
      "195\n",
      "201"
     ]
    },
    {
     "name": "stderr",
     "output_type": "stream",
     "text": [
      "No scoremap for section 196\n",
      "No scoremap for section 197\n",
      "No scoremap for section 198\n",
      "No scoremap for section 199\n",
      "No scoremap for section 200\n",
      "No scoremap for section 202\n"
     ]
    },
    {
     "name": "stdout",
     "output_type": "stream",
     "text": [
      "\n",
      "203\n",
      "205"
     ]
    },
    {
     "name": "stderr",
     "output_type": "stream",
     "text": [
      "No scoremap for section 204\n",
      "No scoremap for section 206\n"
     ]
    },
    {
     "name": "stdout",
     "output_type": "stream",
     "text": [
      "\n",
      "220\n",
      "221\n",
      "222\n",
      "223\n",
      "224\n",
      "225\n",
      "226"
     ]
    },
    {
     "name": "stderr",
     "output_type": "stream",
     "text": [
      "No scoremap for section 207\n",
      "No scoremap for section 208\n",
      "No scoremap for section 209\n",
      "No scoremap for section 210\n",
      "No scoremap for section 211\n",
      "No scoremap for section 212\n",
      "No scoremap for section 213\n",
      "No scoremap for section 214\n",
      "No scoremap for section 215\n",
      "No scoremap for section 216\n",
      "No scoremap for section 217\n",
      "No scoremap for section 218\n",
      "No scoremap for section 219\n",
      "No scoremap for section 227\n"
     ]
    },
    {
     "name": "stdout",
     "output_type": "stream",
     "text": [
      "\n",
      "228\n",
      "229\n",
      "230\n",
      "231\n",
      "232\n",
      "234\n",
      "235\n",
      "236\n",
      "237\n",
      "238\n",
      "239\n",
      "240"
     ]
    },
    {
     "name": "stderr",
     "output_type": "stream",
     "text": [
      "No scoremap for section 233\n",
      "No scoremap for section 241\n"
     ]
    },
    {
     "name": "stdout",
     "output_type": "stream",
     "text": [
      "\n",
      "242\n",
      "243\n",
      "245"
     ]
    },
    {
     "name": "stderr",
     "output_type": "stream",
     "text": [
      "No scoremap for section 244\n",
      "No scoremap for section 246\n"
     ]
    },
    {
     "name": "stdout",
     "output_type": "stream",
     "text": [
      "\n",
      "259"
     ]
    },
    {
     "name": "stderr",
     "output_type": "stream",
     "text": [
      "No scoremap for section 247\n",
      "No scoremap for section 248\n",
      "No scoremap for section 249\n",
      "No scoremap for section 250\n",
      "No scoremap for section 251\n",
      "No scoremap for section 252\n",
      "No scoremap for section 253\n",
      "No scoremap for section 254\n",
      "No scoremap for section 255\n",
      "No scoremap for section 256\n",
      "No scoremap for section 257\n",
      "No scoremap for section 258\n",
      "No scoremap for section 260\n"
     ]
    },
    {
     "name": "stdout",
     "output_type": "stream",
     "text": [
      "\n",
      "261\n",
      "263\n",
      "264\n",
      "265\n",
      "266"
     ]
    },
    {
     "name": "stderr",
     "output_type": "stream",
     "text": [
      "No scoremap for section 262\n",
      "No scoremap for section 267\n"
     ]
    },
    {
     "name": "stdout",
     "output_type": "stream",
     "text": [
      "\n",
      "268\n",
      "269\n",
      "270\n",
      "272\n",
      "273\n",
      "274\n",
      "275\n",
      "276\n",
      "277\n",
      "278\n",
      "279\n",
      "280\n",
      "281\n",
      "282\n",
      "283\n",
      "284\n",
      "285\n",
      "286\n",
      "287\n",
      "288\n",
      "289\n",
      "290\n",
      "291\n",
      "292\n",
      "293\n",
      "294\n",
      "295\n",
      "296\n",
      "297\n",
      "298\n",
      "299\n",
      "300\n",
      "301\n",
      "302\n",
      "303\n",
      "304\n",
      "305\n",
      "306\n",
      "307\n",
      "308\n",
      "309\n",
      "310\n",
      "311\n",
      "312\n",
      "313\n",
      "314\n",
      "315\n",
      "77 786\n",
      "235 777\n",
      "407 857\n",
      "7N\n",
      "(1330, 1100, 1228)\n",
      "150\n",
      "151\n",
      "152\n",
      "153\n",
      "154\n",
      "155\n",
      "156\n",
      "157\n",
      "158\n",
      "159\n",
      "160\n",
      "161\n",
      "162\n",
      "163\n",
      "164\n",
      "165\n",
      "166\n",
      "167\n",
      "168\n",
      "169\n",
      "170\n",
      "171\n",
      "172\n",
      "173\n",
      "174\n",
      "175\n",
      "176\n",
      "177\n",
      "178\n",
      "179\n",
      "180\n",
      "181\n",
      "182\n",
      "183\n",
      "184\n",
      "185\n",
      "186\n",
      "187\n",
      "188\n",
      "189\n",
      "190\n",
      "191\n",
      "192\n",
      "193\n",
      "194\n",
      "195\n",
      "196\n",
      "197"
     ]
    },
    {
     "name": "stderr",
     "output_type": "stream",
     "text": [
      "No scoremap for section 271\n",
      "No scoremap for section 198\n"
     ]
    },
    {
     "name": "stdout",
     "output_type": "stream",
     "text": [
      "\n",
      "199\n",
      "200\n",
      "201\n",
      "202\n",
      "203\n",
      "204\n",
      "205\n",
      "206\n",
      "207\n",
      "208\n",
      "209\n",
      "210\n",
      "211\n",
      "212\n",
      "213\n",
      "214\n",
      "215\n",
      "216\n",
      "217\n",
      "218\n",
      "220\n",
      "221\n",
      "222\n",
      "223\n",
      "224\n",
      "225\n",
      "226\n",
      "227\n",
      "228\n",
      "229\n",
      "230\n",
      "231\n",
      "232\n",
      "233\n",
      "234\n",
      "235\n",
      "236\n",
      "237\n",
      "238\n",
      "239\n",
      "240\n",
      "241\n",
      "242\n",
      "243\n",
      "244\n",
      "245\n",
      "246"
     ]
    },
    {
     "name": "stderr",
     "output_type": "stream",
     "text": [
      "No scoremap for section 219\n",
      "No scoremap for section 247\n"
     ]
    },
    {
     "name": "stdout",
     "output_type": "stream",
     "text": [
      "\n",
      "248\n",
      "249\n",
      "250\n",
      "251\n",
      "252\n",
      "253\n",
      "254\n",
      "255\n",
      "256\n",
      "257\n",
      "258\n",
      "259\n",
      "260\n",
      "261\n",
      "262\n",
      "263\n",
      "264\n",
      "265\n",
      "266\n",
      "267\n",
      "268\n",
      "269\n",
      "270\n",
      "272\n",
      "273\n",
      "274\n",
      "275\n",
      "276\n",
      "277\n",
      "278\n",
      "279\n",
      "280\n",
      "281\n",
      "282\n",
      "283\n",
      "284\n",
      "285\n",
      "286\n",
      "287\n",
      "288\n",
      "289\n",
      "290\n",
      "291\n",
      "292\n",
      "293\n",
      "294\n",
      "295\n",
      "296\n",
      "297\n",
      "298\n",
      "299\n",
      "300\n",
      "301\n",
      "302\n",
      "303\n",
      "304\n",
      "305\n",
      "306\n",
      "307\n",
      "308\n",
      "309\n",
      "310\n",
      "311\n",
      "312\n",
      "313\n",
      "314\n",
      "315\n",
      "77 892\n",
      "235 777\n",
      "407 857\n",
      "12N\n",
      "(1330, 1100, 1228)\n",
      "150\n",
      "151\n",
      "152"
     ]
    },
    {
     "name": "stderr",
     "output_type": "stream",
     "text": [
      "No scoremap for section 271\n",
      "No scoremap for section 153\n"
     ]
    },
    {
     "name": "stdout",
     "output_type": "stream",
     "text": [
      "\n",
      "154\n",
      "155\n",
      "156\n",
      "157\n",
      "159"
     ]
    },
    {
     "name": "stderr",
     "output_type": "stream",
     "text": [
      "No scoremap for section 158\n",
      "No scoremap for section 160\n"
     ]
    },
    {
     "name": "stdout",
     "output_type": "stream",
     "text": [
      "\n",
      "161\n",
      "162\n",
      "163\n",
      "164\n",
      "165\n",
      "166\n",
      "167\n",
      "168\n",
      "169\n",
      "170\n",
      "171\n",
      "172\n",
      "173\n",
      "174\n",
      "175\n",
      "176\n",
      "177\n",
      "179"
     ]
    },
    {
     "name": "stderr",
     "output_type": "stream",
     "text": [
      "No scoremap for section 178\n",
      "No scoremap for section 180\n"
     ]
    },
    {
     "name": "stdout",
     "output_type": "stream",
     "text": [
      "\n",
      "181\n",
      "182\n",
      "183\n",
      "184\n",
      "185\n",
      "186\n",
      "187\n",
      "188\n",
      "189\n",
      "190\n",
      "191\n",
      "192\n",
      "193\n",
      "194\n",
      "195\n",
      "196\n",
      "197\n",
      "198\n",
      "199\n",
      "200\n",
      "201\n",
      "202\n",
      "203\n",
      "204\n",
      "205\n",
      "206\n",
      "207\n",
      "208\n",
      "209\n",
      "210\n",
      "211\n",
      "212\n",
      "213\n",
      "214\n",
      "215\n",
      "216\n",
      "217\n",
      "218\n",
      "219\n",
      "220\n",
      "221\n",
      "222\n",
      "223\n",
      "224\n",
      "225\n",
      "226\n",
      "227\n",
      "228\n",
      "229\n",
      "230\n",
      "231\n",
      "232\n",
      "233\n",
      "234\n",
      "235\n",
      "236\n",
      "237\n",
      "238\n",
      "239\n",
      "240\n",
      "241\n",
      "242\n",
      "244"
     ]
    },
    {
     "name": "stderr",
     "output_type": "stream",
     "text": [
      "No scoremap for section 243\n",
      "No scoremap for section 245\n"
     ]
    },
    {
     "name": "stdout",
     "output_type": "stream",
     "text": [
      "\n",
      "246\n",
      "248\n",
      "249\n",
      "250\n",
      "251\n",
      "252\n",
      "253\n",
      "254\n",
      "255\n",
      "256\n",
      "257\n",
      "258"
     ]
    },
    {
     "name": "stderr",
     "output_type": "stream",
     "text": [
      "No scoremap for section 247\n",
      "No scoremap for section 259\n"
     ]
    },
    {
     "name": "stdout",
     "output_type": "stream",
     "text": [
      "\n",
      "260\n",
      "262"
     ]
    },
    {
     "name": "stderr",
     "output_type": "stream",
     "text": [
      "No scoremap for section 261\n",
      "No scoremap for section 263\n"
     ]
    },
    {
     "name": "stdout",
     "output_type": "stream",
     "text": [
      "\n",
      "264\n",
      "266\n",
      "267\n",
      "268\n",
      "269\n",
      "270"
     ]
    },
    {
     "name": "stderr",
     "output_type": "stream",
     "text": [
      "No scoremap for section 265\n",
      "No scoremap for section 271\n"
     ]
    },
    {
     "name": "stdout",
     "output_type": "stream",
     "text": [
      "\n",
      "272\n",
      "273\n",
      "274\n",
      "275\n",
      "276\n",
      "277\n",
      "278\n",
      "279\n",
      "280\n",
      "281\n",
      "282\n",
      "283\n",
      "284\n",
      "285\n",
      "286\n",
      "287\n",
      "288\n",
      "289\n",
      "290\n",
      "291\n",
      "292\n",
      "293\n",
      "294\n",
      "295\n",
      "296\n",
      "297\n",
      "298\n",
      "299\n",
      "300\n",
      "301\n",
      "302\n",
      "303\n",
      "304\n",
      "305\n",
      "306\n",
      "307\n",
      "308\n",
      "309\n",
      "310\n",
      "311\n",
      "312\n",
      "313\n",
      "314\n",
      "315\n",
      "77 892\n",
      "235 777\n",
      "407 857\n",
      "Gr"
     ]
    },
    {
     "name": "stderr",
     "output_type": "stream",
     "text": [
      "No scoremap for section 150\n",
      "No scoremap for section 151\n",
      "No scoremap for section 152\n",
      "No scoremap for section 153\n",
      "No scoremap for section 154\n",
      "No scoremap for section 155\n",
      "No scoremap for section 156\n",
      "No scoremap for section 157\n",
      "No scoremap for section 158\n",
      "No scoremap for section 159\n",
      "No scoremap for section 160\n",
      "No scoremap for section 161\n",
      "No scoremap for section 162\n",
      "No scoremap for section 163\n",
      "No scoremap for section 164\n",
      "No scoremap for section 166\n"
     ]
    },
    {
     "name": "stdout",
     "output_type": "stream",
     "text": [
      "\n",
      "(1330, 1100, 1228)\n",
      "165\n",
      "169\n",
      "170\n",
      "171\n",
      "172\n",
      "173"
     ]
    },
    {
     "name": "stderr",
     "output_type": "stream",
     "text": [
      "No scoremap for section 167\n",
      "No scoremap for section 168\n",
      "No scoremap for section 174\n"
     ]
    },
    {
     "name": "stdout",
     "output_type": "stream",
     "text": [
      "\n",
      "175\n",
      "176\n",
      "177\n",
      "178\n",
      "179\n",
      "180\n",
      "181\n",
      "182\n",
      "183\n",
      "184\n",
      "186\n",
      "187\n",
      "188\n",
      "189\n",
      "190\n",
      "191\n",
      "192\n",
      "193\n",
      "194"
     ]
    },
    {
     "name": "stderr",
     "output_type": "stream",
     "text": [
      "No scoremap for section 185\n",
      "No scoremap for section 195\n"
     ]
    },
    {
     "name": "stdout",
     "output_type": "stream",
     "text": [
      "\n",
      "196\n",
      "197\n",
      "199\n",
      "200\n",
      "201\n",
      "202\n",
      "203\n",
      "204\n",
      "205\n",
      "206"
     ]
    },
    {
     "name": "stderr",
     "output_type": "stream",
     "text": [
      "No scoremap for section 198\n",
      "No scoremap for section 207\n"
     ]
    },
    {
     "name": "stdout",
     "output_type": "stream",
     "text": [
      "\n",
      "208\n",
      "210"
     ]
    },
    {
     "name": "stderr",
     "output_type": "stream",
     "text": [
      "No scoremap for section 209\n",
      "No scoremap for section 211\n"
     ]
    },
    {
     "name": "stdout",
     "output_type": "stream",
     "text": [
      "\n",
      "212\n",
      "214"
     ]
    },
    {
     "name": "stderr",
     "output_type": "stream",
     "text": [
      "No scoremap for section 213\n",
      "No scoremap for section 215\n"
     ]
    },
    {
     "name": "stdout",
     "output_type": "stream",
     "text": [
      "\n",
      "216\n",
      "220"
     ]
    },
    {
     "name": "stderr",
     "output_type": "stream",
     "text": [
      "No scoremap for section 217\n",
      "No scoremap for section 218\n",
      "No scoremap for section 219\n",
      "No scoremap for section 221\n"
     ]
    },
    {
     "name": "stdout",
     "output_type": "stream",
     "text": [
      "\n",
      "222\n",
      "224"
     ]
    },
    {
     "name": "stderr",
     "output_type": "stream",
     "text": [
      "No scoremap for section 223\n",
      "No scoremap for section 225\n"
     ]
    },
    {
     "name": "stdout",
     "output_type": "stream",
     "text": [
      "\n",
      "226\n",
      "228"
     ]
    },
    {
     "name": "stderr",
     "output_type": "stream",
     "text": [
      "No scoremap for section 227\n",
      "No scoremap for section 229\n"
     ]
    },
    {
     "name": "stdout",
     "output_type": "stream",
     "text": [
      "\n",
      "232"
     ]
    },
    {
     "name": "stderr",
     "output_type": "stream",
     "text": [
      "No scoremap for section 230\n",
      "No scoremap for section 231\n",
      "No scoremap for section 233\n"
     ]
    },
    {
     "name": "stdout",
     "output_type": "stream",
     "text": [
      "\n",
      "236"
     ]
    },
    {
     "name": "stderr",
     "output_type": "stream",
     "text": [
      "No scoremap for section 234\n",
      "No scoremap for section 235\n",
      "No scoremap for section 237\n"
     ]
    },
    {
     "name": "stdout",
     "output_type": "stream",
     "text": [
      "\n",
      "238\n",
      "240"
     ]
    },
    {
     "name": "stderr",
     "output_type": "stream",
     "text": [
      "No scoremap for section 239\n",
      "No scoremap for section 241\n"
     ]
    },
    {
     "name": "stdout",
     "output_type": "stream",
     "text": [
      "\n",
      "242\n",
      "244"
     ]
    },
    {
     "name": "stderr",
     "output_type": "stream",
     "text": [
      "No scoremap for section 243\n",
      "No scoremap for section 245\n"
     ]
    },
    {
     "name": "stdout",
     "output_type": "stream",
     "text": [
      "\n",
      "246\n",
      "248"
     ]
    },
    {
     "name": "stderr",
     "output_type": "stream",
     "text": [
      "No scoremap for section 247\n",
      "No scoremap for section 249\n"
     ]
    },
    {
     "name": "stdout",
     "output_type": "stream",
     "text": [
      "\n",
      "250\n",
      "252"
     ]
    },
    {
     "name": "stderr",
     "output_type": "stream",
     "text": [
      "No scoremap for section 251\n",
      "No scoremap for section 253\n"
     ]
    },
    {
     "name": "stdout",
     "output_type": "stream",
     "text": [
      "\n",
      "254\n",
      "255\n",
      "256\n",
      "258\n",
      "259\n",
      "260\n",
      "261\n",
      "262\n",
      "263\n",
      "264\n",
      "265\n",
      "266"
     ]
    },
    {
     "name": "stderr",
     "output_type": "stream",
     "text": [
      "No scoremap for section 257\n",
      "No scoremap for section 267\n"
     ]
    },
    {
     "name": "stdout",
     "output_type": "stream",
     "text": [
      "\n",
      "268\n",
      "270"
     ]
    },
    {
     "name": "stderr",
     "output_type": "stream",
     "text": [
      "No scoremap for section 269\n",
      "No scoremap for section 271\n"
     ]
    },
    {
     "name": "stdout",
     "output_type": "stream",
     "text": [
      "\n",
      "272\n",
      "273\n",
      "274\n",
      "275\n",
      "276\n",
      "277\n",
      "278\n",
      "279\n",
      "280\n",
      "281\n",
      "282\n",
      "283\n",
      "284\n",
      "285\n",
      "286\n",
      "287\n",
      "288\n",
      "289\n",
      "290\n",
      "291\n",
      "292\n",
      "294\n",
      "295"
     ]
    },
    {
     "name": "stderr",
     "output_type": "stream",
     "text": [
      "No scoremap for section 293\n",
      "No scoremap for section 296\n"
     ]
    },
    {
     "name": "stdout",
     "output_type": "stream",
     "text": [
      "\n",
      "297\n",
      "307\n",
      "308\n",
      "309"
     ]
    },
    {
     "name": "stderr",
     "output_type": "stream",
     "text": [
      "No scoremap for section 298\n",
      "No scoremap for section 299\n",
      "No scoremap for section 300\n",
      "No scoremap for section 301\n",
      "No scoremap for section 302\n",
      "No scoremap for section 303\n",
      "No scoremap for section 304\n",
      "No scoremap for section 305\n",
      "No scoremap for section 306\n",
      "No scoremap for section 310\n"
     ]
    },
    {
     "name": "stdout",
     "output_type": "stream",
     "text": [
      "\n",
      "311\n",
      "312\n",
      "314"
     ]
    },
    {
     "name": "stderr",
     "output_type": "stream",
     "text": [
      "No scoremap for section 313\n",
      "No scoremap for section 315\n"
     ]
    },
    {
     "name": "stdout",
     "output_type": "stream",
     "text": [
      "\n",
      "77 892\n",
      "235 765\n",
      "448 854\n",
      "LVe"
     ]
    },
    {
     "name": "stderr",
     "output_type": "stream",
     "text": [
      "No scoremap for section 150\n",
      "No scoremap for section 151\n",
      "No scoremap for section 153\n"
     ]
    },
    {
     "name": "stdout",
     "output_type": "stream",
     "text": [
      "\n",
      "(1330, 1100, 1228)\n",
      "152\n",
      "154\n",
      "157\n",
      "158"
     ]
    },
    {
     "name": "stderr",
     "output_type": "stream",
     "text": [
      "No scoremap for section 155\n",
      "No scoremap for section 156\n",
      "No scoremap for section 159\n"
     ]
    },
    {
     "name": "stdout",
     "output_type": "stream",
     "text": [
      "\n",
      "160\n",
      "162"
     ]
    },
    {
     "name": "stderr",
     "output_type": "stream",
     "text": [
      "No scoremap for section 161\n",
      "No scoremap for section 163\n"
     ]
    },
    {
     "name": "stdout",
     "output_type": "stream",
     "text": [
      "\n",
      "164\n",
      "166"
     ]
    },
    {
     "name": "stderr",
     "output_type": "stream",
     "text": [
      "No scoremap for section 165\n",
      "No scoremap for section 167\n"
     ]
    },
    {
     "name": "stdout",
     "output_type": "stream",
     "text": [
      "\n",
      "168\n",
      "176"
     ]
    },
    {
     "name": "stderr",
     "output_type": "stream",
     "text": [
      "No scoremap for section 169\n",
      "No scoremap for section 170\n",
      "No scoremap for section 171\n",
      "No scoremap for section 172\n",
      "No scoremap for section 173\n",
      "No scoremap for section 174\n",
      "No scoremap for section 175\n",
      "No scoremap for section 177\n"
     ]
    },
    {
     "name": "stdout",
     "output_type": "stream",
     "text": [
      "\n",
      "209"
     ]
    },
    {
     "name": "stderr",
     "output_type": "stream",
     "text": [
      "No scoremap for section 178\n",
      "No scoremap for section 179\n",
      "No scoremap for section 180\n",
      "No scoremap for section 181\n",
      "No scoremap for section 182\n",
      "No scoremap for section 183\n",
      "No scoremap for section 184\n",
      "No scoremap for section 185\n",
      "No scoremap for section 186\n",
      "No scoremap for section 187\n",
      "No scoremap for section 188\n",
      "No scoremap for section 189\n",
      "No scoremap for section 190\n",
      "No scoremap for section 191\n",
      "No scoremap for section 192\n",
      "No scoremap for section 193\n",
      "No scoremap for section 194\n",
      "No scoremap for section 195\n",
      "No scoremap for section 196\n",
      "No scoremap for section 197\n",
      "No scoremap for section 198\n",
      "No scoremap for section 199\n",
      "No scoremap for section 200\n",
      "No scoremap for section 201\n",
      "No scoremap for section 202\n",
      "No scoremap for section 203\n",
      "No scoremap for section 204\n",
      "No scoremap for section 205\n",
      "No scoremap for section 206\n",
      "No scoremap for section 207\n",
      "No scoremap for section 208\n",
      "No scoremap for section 210\n"
     ]
    },
    {
     "name": "stdout",
     "output_type": "stream",
     "text": [
      "\n",
      "211\n",
      "223"
     ]
    },
    {
     "name": "stderr",
     "output_type": "stream",
     "text": [
      "No scoremap for section 212\n",
      "No scoremap for section 213\n",
      "No scoremap for section 214\n",
      "No scoremap for section 215\n",
      "No scoremap for section 216\n",
      "No scoremap for section 217\n",
      "No scoremap for section 218\n",
      "No scoremap for section 219\n",
      "No scoremap for section 220\n",
      "No scoremap for section 221\n",
      "No scoremap for section 222\n",
      "No scoremap for section 224\n"
     ]
    },
    {
     "name": "stdout",
     "output_type": "stream",
     "text": [
      "\n",
      "269"
     ]
    },
    {
     "name": "stderr",
     "output_type": "stream",
     "text": [
      "No scoremap for section 225\n",
      "No scoremap for section 226\n",
      "No scoremap for section 227\n",
      "No scoremap for section 228\n",
      "No scoremap for section 229\n",
      "No scoremap for section 230\n",
      "No scoremap for section 231\n",
      "No scoremap for section 232\n",
      "No scoremap for section 233\n",
      "No scoremap for section 234\n",
      "No scoremap for section 235\n",
      "No scoremap for section 236\n",
      "No scoremap for section 237\n",
      "No scoremap for section 238\n",
      "No scoremap for section 239\n",
      "No scoremap for section 240\n",
      "No scoremap for section 241\n",
      "No scoremap for section 242\n",
      "No scoremap for section 243\n",
      "No scoremap for section 244\n",
      "No scoremap for section 245\n",
      "No scoremap for section 246\n",
      "No scoremap for section 247\n",
      "No scoremap for section 248\n",
      "No scoremap for section 249\n",
      "No scoremap for section 250\n",
      "No scoremap for section 251\n",
      "No scoremap for section 252\n",
      "No scoremap for section 253\n",
      "No scoremap for section 254\n",
      "No scoremap for section 255\n",
      "No scoremap for section 256\n",
      "No scoremap for section 257\n",
      "No scoremap for section 258\n",
      "No scoremap for section 259\n",
      "No scoremap for section 260\n",
      "No scoremap for section 261\n",
      "No scoremap for section 262\n",
      "No scoremap for section 263\n",
      "No scoremap for section 264\n",
      "No scoremap for section 265\n",
      "No scoremap for section 266\n",
      "No scoremap for section 267\n",
      "No scoremap for section 268\n",
      "No scoremap for section 270\n"
     ]
    },
    {
     "name": "stdout",
     "output_type": "stream",
     "text": [
      "\n",
      "283"
     ]
    },
    {
     "name": "stderr",
     "output_type": "stream",
     "text": [
      "No scoremap for section 271\n",
      "No scoremap for section 272\n",
      "No scoremap for section 273\n",
      "No scoremap for section 274\n",
      "No scoremap for section 275\n",
      "No scoremap for section 276\n",
      "No scoremap for section 277\n",
      "No scoremap for section 278\n",
      "No scoremap for section 279\n",
      "No scoremap for section 280\n",
      "No scoremap for section 281\n",
      "No scoremap for section 282\n",
      "No scoremap for section 284\n"
     ]
    },
    {
     "name": "stdout",
     "output_type": "stream",
     "text": [
      "\n",
      "285\n",
      "289"
     ]
    },
    {
     "name": "stderr",
     "output_type": "stream",
     "text": [
      "No scoremap for section 286\n",
      "No scoremap for section 287\n",
      "No scoremap for section 288\n",
      "No scoremap for section 290\n"
     ]
    },
    {
     "name": "stdout",
     "output_type": "stream",
     "text": [
      "\n",
      "291\n",
      "293"
     ]
    },
    {
     "name": "stderr",
     "output_type": "stream",
     "text": [
      "No scoremap for section 292\n",
      "No scoremap for section 294\n"
     ]
    },
    {
     "name": "stdout",
     "output_type": "stream",
     "text": [
      "\n",
      "295\n",
      "297"
     ]
    },
    {
     "name": "stderr",
     "output_type": "stream",
     "text": [
      "No scoremap for section 296\n",
      "No scoremap for section 298\n"
     ]
    },
    {
     "name": "stdout",
     "output_type": "stream",
     "text": [
      "\n",
      "300"
     ]
    },
    {
     "name": "stderr",
     "output_type": "stream",
     "text": [
      "No scoremap for section 299\n",
      "No scoremap for section 301\n"
     ]
    },
    {
     "name": "stdout",
     "output_type": "stream",
     "text": [
      "\n",
      "127 792\n",
      "257 777\n",
      "413 816\n",
      "Pn\n",
      "(1330, 1100, 1228)\n",
      "150\n",
      "151\n",
      "152\n",
      "153\n",
      "154\n",
      "155"
     ]
    },
    {
     "name": "stderr",
     "output_type": "stream",
     "text": [
      "No scoremap for section 302\n",
      "No scoremap for section 303\n",
      "No scoremap for section 304\n",
      "No scoremap for section 305\n",
      "No scoremap for section 306\n",
      "No scoremap for section 307\n",
      "No scoremap for section 308\n",
      "No scoremap for section 309\n",
      "No scoremap for section 310\n",
      "No scoremap for section 311\n",
      "No scoremap for section 312\n",
      "No scoremap for section 313\n",
      "No scoremap for section 314\n",
      "No scoremap for section 315\n",
      "No scoremap for section 156\n"
     ]
    },
    {
     "name": "stdout",
     "output_type": "stream",
     "text": [
      "\n",
      "157\n",
      "159\n",
      "160\n",
      "161\n",
      "162"
     ]
    },
    {
     "name": "stderr",
     "output_type": "stream",
     "text": [
      "No scoremap for section 158\n",
      "No scoremap for section 163\n"
     ]
    },
    {
     "name": "stdout",
     "output_type": "stream",
     "text": [
      "\n",
      "164\n",
      "165\n",
      "166\n",
      "167\n",
      "168\n",
      "169\n",
      "170\n",
      "171\n",
      "172\n",
      "174\n",
      "175\n",
      "176\n",
      "177\n",
      "178\n",
      "179\n",
      "180\n",
      "181\n",
      "182\n",
      "183\n",
      "184\n",
      "185\n",
      "186\n",
      "187\n",
      "188\n",
      "189\n",
      "190\n",
      "191\n",
      "192\n",
      "193\n",
      "194\n",
      "195\n",
      "196\n",
      "197\n",
      "198\n",
      "199\n",
      "200\n",
      "201\n",
      "202\n",
      "203\n",
      "204\n",
      "205\n",
      "206\n",
      "207\n",
      "208\n",
      "209\n",
      "210\n",
      "211\n",
      "212\n",
      "213\n",
      "214\n",
      "215\n",
      "216\n",
      "217\n",
      "218\n",
      "219\n",
      "220\n",
      "221\n",
      "222\n",
      "223\n",
      "224\n",
      "225\n",
      "226\n",
      "227\n",
      "228\n",
      "229\n",
      "230\n",
      "231\n",
      "232\n",
      "233\n",
      "234\n",
      "235\n",
      "236\n",
      "237\n",
      "238\n",
      "239\n",
      "240\n",
      "241\n",
      "242\n",
      "243\n",
      "244\n",
      "245\n",
      "246\n",
      "247\n",
      "248\n",
      "249\n",
      "250\n",
      "251\n",
      "252\n",
      "253\n",
      "254\n",
      "255\n",
      "256\n",
      "257\n",
      "258\n",
      "259\n",
      "260\n",
      "261\n",
      "262\n",
      "263\n",
      "264\n",
      "265\n",
      "266\n",
      "267\n",
      "268\n",
      "269\n",
      "270\n",
      "271\n",
      "272\n",
      "273\n",
      "274\n",
      "275\n",
      "276\n",
      "277\n",
      "278\n",
      "279\n",
      "280\n",
      "281\n",
      "282\n",
      "283\n",
      "284\n",
      "285\n",
      "286\n",
      "287\n",
      "288\n",
      "289\n",
      "290\n",
      "291\n",
      "292\n",
      "293\n",
      "294\n",
      "295\n",
      "296\n",
      "297\n",
      "298\n",
      "299\n",
      "300\n",
      "301\n",
      "302\n",
      "303\n",
      "304\n",
      "305\n",
      "306\n",
      "307\n",
      "308\n",
      "309\n",
      "310\n",
      "311\n",
      "312\n",
      "313\n",
      "314\n",
      "315\n",
      "77 892\n",
      "235 777\n",
      "407 857\n",
      "SuVe"
     ]
    },
    {
     "name": "stderr",
     "output_type": "stream",
     "text": [
      "No scoremap for section 173\n",
      "No scoremap for section 151\n"
     ]
    },
    {
     "name": "stdout",
     "output_type": "stream",
     "text": [
      "\n",
      "(1330, 1100, 1228)\n",
      "150\n",
      "153\n",
      "154"
     ]
    },
    {
     "name": "stderr",
     "output_type": "stream",
     "text": [
      "No scoremap for section 152\n",
      "No scoremap for section 155\n"
     ]
    },
    {
     "name": "stdout",
     "output_type": "stream",
     "text": [
      "\n",
      "156\n",
      "157\n",
      "158\n",
      "162"
     ]
    },
    {
     "name": "stderr",
     "output_type": "stream",
     "text": [
      "No scoremap for section 159\n",
      "No scoremap for section 160\n",
      "No scoremap for section 161\n",
      "No scoremap for section 163\n"
     ]
    },
    {
     "name": "stdout",
     "output_type": "stream",
     "text": [
      "\n",
      "164\n",
      "166"
     ]
    },
    {
     "name": "stderr",
     "output_type": "stream",
     "text": [
      "No scoremap for section 165\n",
      "No scoremap for section 167\n"
     ]
    },
    {
     "name": "stdout",
     "output_type": "stream",
     "text": [
      "\n",
      "168\n",
      "169\n",
      "170\n",
      "171\n",
      "172\n",
      "173\n",
      "176\n",
      "177\n",
      "178"
     ]
    },
    {
     "name": "stderr",
     "output_type": "stream",
     "text": [
      "No scoremap for section 174\n",
      "No scoremap for section 175\n",
      "No scoremap for section 179\n"
     ]
    },
    {
     "name": "stdout",
     "output_type": "stream",
     "text": [
      "\n",
      "181"
     ]
    },
    {
     "name": "stderr",
     "output_type": "stream",
     "text": [
      "No scoremap for section 180\n",
      "No scoremap for section 182\n"
     ]
    },
    {
     "name": "stdout",
     "output_type": "stream",
     "text": [
      "\n",
      "187"
     ]
    },
    {
     "name": "stderr",
     "output_type": "stream",
     "text": [
      "No scoremap for section 183\n",
      "No scoremap for section 184\n",
      "No scoremap for section 185\n",
      "No scoremap for section 186\n",
      "No scoremap for section 188\n"
     ]
    },
    {
     "name": "stdout",
     "output_type": "stream",
     "text": [
      "\n",
      "190"
     ]
    },
    {
     "name": "stderr",
     "output_type": "stream",
     "text": [
      "No scoremap for section 189\n",
      "No scoremap for section 191\n"
     ]
    },
    {
     "name": "stdout",
     "output_type": "stream",
     "text": [
      "\n",
      "200"
     ]
    },
    {
     "name": "stderr",
     "output_type": "stream",
     "text": [
      "No scoremap for section 192\n",
      "No scoremap for section 193\n",
      "No scoremap for section 194\n",
      "No scoremap for section 195\n",
      "No scoremap for section 196\n",
      "No scoremap for section 197\n",
      "No scoremap for section 198\n",
      "No scoremap for section 199\n",
      "No scoremap for section 201\n"
     ]
    },
    {
     "name": "stdout",
     "output_type": "stream",
     "text": [
      "\n",
      "218"
     ]
    },
    {
     "name": "stderr",
     "output_type": "stream",
     "text": [
      "No scoremap for section 202\n",
      "No scoremap for section 203\n",
      "No scoremap for section 204\n",
      "No scoremap for section 205\n",
      "No scoremap for section 206\n",
      "No scoremap for section 207\n",
      "No scoremap for section 208\n",
      "No scoremap for section 209\n",
      "No scoremap for section 210\n",
      "No scoremap for section 211\n",
      "No scoremap for section 212\n",
      "No scoremap for section 213\n",
      "No scoremap for section 214\n",
      "No scoremap for section 215\n",
      "No scoremap for section 216\n",
      "No scoremap for section 217\n",
      "No scoremap for section 219\n"
     ]
    },
    {
     "name": "stdout",
     "output_type": "stream",
     "text": [
      "\n",
      "222"
     ]
    },
    {
     "name": "stderr",
     "output_type": "stream",
     "text": [
      "No scoremap for section 220\n",
      "No scoremap for section 221\n",
      "No scoremap for section 223\n"
     ]
    },
    {
     "name": "stdout",
     "output_type": "stream",
     "text": [
      "\n",
      "226"
     ]
    },
    {
     "name": "stderr",
     "output_type": "stream",
     "text": [
      "No scoremap for section 224\n",
      "No scoremap for section 225\n",
      "No scoremap for section 227\n"
     ]
    },
    {
     "name": "stdout",
     "output_type": "stream",
     "text": [
      "\n",
      "232"
     ]
    },
    {
     "name": "stderr",
     "output_type": "stream",
     "text": [
      "No scoremap for section 228\n",
      "No scoremap for section 229\n",
      "No scoremap for section 230\n",
      "No scoremap for section 231\n",
      "No scoremap for section 233\n"
     ]
    },
    {
     "name": "stdout",
     "output_type": "stream",
     "text": [
      "\n",
      "234\n",
      "235\n",
      "236\n",
      "238"
     ]
    },
    {
     "name": "stderr",
     "output_type": "stream",
     "text": [
      "No scoremap for section 237\n",
      "No scoremap for section 239\n"
     ]
    },
    {
     "name": "stdout",
     "output_type": "stream",
     "text": [
      "\n",
      "240\n",
      "242"
     ]
    },
    {
     "name": "stderr",
     "output_type": "stream",
     "text": [
      "No scoremap for section 241\n",
      "No scoremap for section 243\n"
     ]
    },
    {
     "name": "stdout",
     "output_type": "stream",
     "text": [
      "\n",
      "244\n",
      "248"
     ]
    },
    {
     "name": "stderr",
     "output_type": "stream",
     "text": [
      "No scoremap for section 245\n",
      "No scoremap for section 246\n",
      "No scoremap for section 247\n",
      "No scoremap for section 249\n"
     ]
    },
    {
     "name": "stdout",
     "output_type": "stream",
     "text": [
      "\n",
      "250\n",
      "252"
     ]
    },
    {
     "name": "stderr",
     "output_type": "stream",
     "text": [
      "No scoremap for section 251\n",
      "No scoremap for section 253\n"
     ]
    },
    {
     "name": "stdout",
     "output_type": "stream",
     "text": [
      "\n",
      "256"
     ]
    },
    {
     "name": "stderr",
     "output_type": "stream",
     "text": [
      "No scoremap for section 254\n",
      "No scoremap for section 255\n",
      "No scoremap for section 257\n"
     ]
    },
    {
     "name": "stdout",
     "output_type": "stream",
     "text": [
      "\n",
      "258\n",
      "259\n",
      "261"
     ]
    },
    {
     "name": "stderr",
     "output_type": "stream",
     "text": [
      "No scoremap for section 260\n",
      "No scoremap for section 262\n"
     ]
    },
    {
     "name": "stdout",
     "output_type": "stream",
     "text": [
      "\n",
      "263\n",
      "264\n",
      "265\n",
      "266\n",
      "268"
     ]
    },
    {
     "name": "stderr",
     "output_type": "stream",
     "text": [
      "No scoremap for section 267\n",
      "No scoremap for section 269\n"
     ]
    },
    {
     "name": "stdout",
     "output_type": "stream",
     "text": [
      "\n",
      "270\n",
      "272\n",
      "273\n",
      "274\n",
      "275\n",
      "276"
     ]
    },
    {
     "name": "stderr",
     "output_type": "stream",
     "text": [
      "No scoremap for section 271\n",
      "No scoremap for section 277\n"
     ]
    },
    {
     "name": "stdout",
     "output_type": "stream",
     "text": [
      "\n",
      "278\n",
      "279\n",
      "280\n",
      "281\n",
      "282\n",
      "283\n",
      "284\n",
      "285\n",
      "286\n",
      "287\n",
      "288\n",
      "289\n",
      "290\n",
      "291\n",
      "292\n",
      "293\n",
      "294\n",
      "295\n",
      "297\n",
      "298\n",
      "299\n",
      "300\n",
      "301\n",
      "302\n",
      "303\n",
      "304\n",
      "305\n",
      "306\n",
      "307\n",
      "308"
     ]
    },
    {
     "name": "stderr",
     "output_type": "stream",
     "text": [
      "No scoremap for section 296\n",
      "No scoremap for section 309\n"
     ]
    },
    {
     "name": "stdout",
     "output_type": "stream",
     "text": [
      "\n",
      "311\n",
      "312\n",
      "313"
     ]
    },
    {
     "name": "stderr",
     "output_type": "stream",
     "text": [
      "No scoremap for section 310\n",
      "No scoremap for section 314\n"
     ]
    },
    {
     "name": "stdout",
     "output_type": "stream",
     "text": [
      "\n",
      "77 892\n",
      "235 777\n",
      "407 852\n",
      "VLL\n",
      "(1330, 1100, 1228)\n",
      "150\n",
      "151\n",
      "152\n",
      "153\n",
      "154\n",
      "155\n",
      "156\n",
      "157\n",
      "158\n",
      "159\n",
      "160\n",
      "161\n",
      "162\n",
      "163\n",
      "164\n",
      "165\n",
      "166\n",
      "167\n",
      "168\n",
      "169\n",
      "170\n",
      "171\n",
      "172\n",
      "173\n",
      "174\n",
      "175\n",
      "176\n",
      "177\n",
      "178\n",
      "179\n",
      "180\n",
      "181\n",
      "182\n",
      "183\n",
      "184\n",
      "185\n",
      "186\n",
      "187\n",
      "188\n",
      "189\n",
      "190\n",
      "191\n",
      "192\n",
      "193\n",
      "194\n",
      "195\n",
      "196\n",
      "197\n",
      "198\n",
      "199\n",
      "200\n",
      "201\n",
      "202\n",
      "203\n",
      "204\n",
      "205\n",
      "206\n",
      "207\n",
      "208\n",
      "209\n",
      "210\n",
      "211\n",
      "212\n",
      "213\n",
      "214\n",
      "215\n",
      "216\n",
      "217\n",
      "218\n",
      "219\n",
      "220\n",
      "221\n",
      "222\n",
      "223\n",
      "224\n",
      "225\n",
      "226\n",
      "227\n",
      "228\n",
      "229\n",
      "230\n",
      "231\n",
      "232\n",
      "233\n",
      "234\n",
      "235\n",
      "236\n",
      "237\n",
      "238\n",
      "239\n",
      "240\n",
      "241\n",
      "242\n",
      "243\n",
      "244\n",
      "245\n",
      "246"
     ]
    },
    {
     "name": "stderr",
     "output_type": "stream",
     "text": [
      "No scoremap for section 315\n",
      "No scoremap for section 247\n"
     ]
    },
    {
     "name": "stdout",
     "output_type": "stream",
     "text": [
      "\n",
      "248\n",
      "249\n",
      "250\n",
      "251\n",
      "252\n",
      "253\n",
      "254\n",
      "255\n",
      "256\n",
      "257\n",
      "258\n",
      "259\n",
      "260\n",
      "261\n",
      "262\n",
      "263\n",
      "264\n",
      "265\n",
      "266\n",
      "267\n",
      "268\n",
      "269\n",
      "270\n",
      "272\n",
      "273\n",
      "274\n",
      "275\n",
      "276\n",
      "277\n",
      "278\n",
      "279\n",
      "280\n",
      "281\n",
      "282\n",
      "283\n",
      "284\n",
      "285\n",
      "286\n",
      "287\n",
      "288\n",
      "289\n",
      "290\n",
      "291\n",
      "292\n",
      "293\n",
      "294\n",
      "295\n",
      "296\n",
      "297\n",
      "298\n",
      "299\n",
      "300\n",
      "301\n",
      "302\n",
      "303\n",
      "304\n",
      "305\n",
      "306\n",
      "307\n",
      "308\n",
      "309\n",
      "310\n",
      "311\n",
      "312\n",
      "313\n",
      "314\n",
      "315\n",
      "77 892\n",
      "235 777\n",
      "407 857\n",
      "77 235 407\n",
      "892 777 857\n",
      "67 330\n",
      "115 279\n",
      "312 759\n",
      "5N\n",
      "(1038, 1470, 1198)\n",
      "115\n",
      "116\n",
      "117\n",
      "118\n",
      "119\n",
      "120\n",
      "121\n",
      "122\n",
      "123\n",
      "124\n",
      "125\n",
      "126\n",
      "127\n",
      "128\n",
      "129\n",
      "130\n",
      "131\n",
      "132\n",
      "133\n",
      "134\n",
      "135\n",
      "136\n",
      "137\n",
      "138\n",
      "139\n",
      "140\n",
      "141\n",
      "142\n",
      "143\n",
      "144\n",
      "145\n",
      "146\n",
      "147\n",
      "148\n",
      "149\n",
      "150\n",
      "151\n",
      "152\n",
      "153\n",
      "154\n",
      "155\n",
      "156\n",
      "157\n",
      "158\n",
      "159\n",
      "160\n",
      "161\n",
      "162"
     ]
    },
    {
     "name": "stderr",
     "output_type": "stream",
     "text": [
      "No scoremap for section 271\n",
      "No scoremap for section 163\n"
     ]
    },
    {
     "name": "stdout",
     "output_type": "stream",
     "text": [
      "\n",
      "164\n",
      "165\n",
      "166\n",
      "167\n",
      "168\n",
      "169\n",
      "170\n",
      "171\n",
      "172\n",
      "173\n",
      "174\n",
      "175\n",
      "176\n",
      "177\n",
      "178\n",
      "179\n",
      "180\n",
      "181\n",
      "182\n",
      "183\n",
      "184\n",
      "185\n",
      "186\n",
      "188\n",
      "189\n",
      "190\n",
      "191\n",
      "192\n",
      "193\n",
      "194\n",
      "195\n",
      "196\n",
      "197\n",
      "198\n",
      "199\n",
      "200\n",
      "201\n",
      "202\n",
      "203\n",
      "204\n",
      "205\n",
      "206\n",
      "207\n",
      "208\n",
      "209\n",
      "210\n",
      "211\n",
      "212\n",
      "213\n",
      "214\n",
      "215\n",
      "216\n",
      "217\n",
      "218\n",
      "219\n",
      "220\n",
      "221\n",
      "222\n",
      "223\n",
      "224\n",
      "225\n",
      "226\n",
      "227\n",
      "228\n",
      "229\n",
      "230\n",
      "231\n",
      "232\n",
      "233\n",
      "234\n",
      "235\n",
      "236\n",
      "237\n",
      "238\n",
      "239\n",
      "240\n",
      "241\n",
      "242\n",
      "243\n",
      "244\n",
      "245\n",
      "246\n",
      "247\n",
      "248\n",
      "249\n",
      "250\n",
      "251\n",
      "252\n",
      "253\n",
      "254\n",
      "255\n",
      "256\n",
      "257\n",
      "258\n",
      "259\n",
      "260\n",
      "261\n",
      "262\n",
      "263\n",
      "264\n",
      "265\n",
      "266\n",
      "267\n",
      "268\n",
      "269\n",
      "270\n",
      "271\n",
      "272\n",
      "273\n",
      "274\n",
      "275\n",
      "276\n",
      "277\n",
      "278\n",
      "279\n",
      "123 990\n",
      "287 755\n",
      "312 759\n",
      "7n\n",
      "(1038, 1470, 1198)\n",
      "115\n",
      "116\n",
      "117\n",
      "118\n",
      "119\n",
      "120\n",
      "121\n",
      "122\n",
      "123\n",
      "124\n",
      "125\n",
      "126\n",
      "127\n",
      "128\n",
      "129\n",
      "130\n",
      "131\n",
      "132\n",
      "133\n",
      "134\n",
      "135"
     ]
    },
    {
     "name": "stderr",
     "output_type": "stream",
     "text": [
      "No scoremap for section 187\n",
      "No scoremap for section 136\n"
     ]
    },
    {
     "name": "stdout",
     "output_type": "stream",
     "text": [
      "\n",
      "137\n",
      "138\n",
      "139\n",
      "140\n",
      "141\n",
      "143\n",
      "144\n",
      "145\n",
      "146\n",
      "147\n",
      "148\n",
      "149\n",
      "150\n",
      "151\n",
      "152\n",
      "153"
     ]
    },
    {
     "name": "stderr",
     "output_type": "stream",
     "text": [
      "No scoremap for section 142\n",
      "No scoremap for section 154\n"
     ]
    },
    {
     "name": "stdout",
     "output_type": "stream",
     "text": [
      "\n",
      "155\n",
      "157"
     ]
    },
    {
     "name": "stderr",
     "output_type": "stream",
     "text": [
      "No scoremap for section 156\n",
      "No scoremap for section 158\n"
     ]
    },
    {
     "name": "stdout",
     "output_type": "stream",
     "text": [
      "\n",
      "159\n",
      "160\n",
      "161\n",
      "162\n",
      "165"
     ]
    },
    {
     "name": "stderr",
     "output_type": "stream",
     "text": [
      "No scoremap for section 163\n",
      "No scoremap for section 164\n",
      "No scoremap for section 166\n"
     ]
    },
    {
     "name": "stdout",
     "output_type": "stream",
     "text": [
      "\n",
      "167\n",
      "169"
     ]
    },
    {
     "name": "stderr",
     "output_type": "stream",
     "text": [
      "No scoremap for section 168\n",
      "No scoremap for section 170\n"
     ]
    },
    {
     "name": "stdout",
     "output_type": "stream",
     "text": [
      "\n",
      "171\n",
      "172\n",
      "173\n",
      "174\n",
      "175\n",
      "177\n",
      "178\n",
      "179\n",
      "180\n",
      "181\n",
      "182\n",
      "183\n",
      "184\n",
      "185"
     ]
    },
    {
     "name": "stderr",
     "output_type": "stream",
     "text": [
      "No scoremap for section 176\n",
      "No scoremap for section 186\n"
     ]
    },
    {
     "name": "stdout",
     "output_type": "stream",
     "text": [
      "\n",
      "189\n",
      "190\n",
      "191\n",
      "192\n",
      "193\n",
      "194\n",
      "195\n",
      "196\n",
      "197\n",
      "198\n",
      "199\n",
      "200\n",
      "201\n",
      "202\n",
      "203\n",
      "204"
     ]
    },
    {
     "name": "stderr",
     "output_type": "stream",
     "text": [
      "No scoremap for section 187\n",
      "No scoremap for section 188\n",
      "No scoremap for section 205\n"
     ]
    },
    {
     "name": "stdout",
     "output_type": "stream",
     "text": [
      "\n",
      "207\n",
      "208\n",
      "209\n",
      "210"
     ]
    },
    {
     "name": "stderr",
     "output_type": "stream",
     "text": [
      "No scoremap for section 206\n",
      "No scoremap for section 211\n"
     ]
    },
    {
     "name": "stdout",
     "output_type": "stream",
     "text": [
      "\n",
      "212\n",
      "213\n",
      "214\n",
      "215\n",
      "216\n",
      "217\n",
      "218\n",
      "219\n",
      "220\n",
      "221\n",
      "222\n",
      "223\n",
      "228\n",
      "229\n",
      "230\n",
      "231\n",
      "232\n",
      "233\n",
      "234\n",
      "235\n",
      "236\n",
      "237\n",
      "238\n",
      "239"
     ]
    },
    {
     "name": "stderr",
     "output_type": "stream",
     "text": [
      "No scoremap for section 224\n",
      "No scoremap for section 225\n",
      "No scoremap for section 226\n",
      "No scoremap for section 227\n",
      "No scoremap for section 240\n"
     ]
    },
    {
     "name": "stdout",
     "output_type": "stream",
     "text": [
      "\n",
      "241\n",
      "243\n",
      "244\n",
      "245\n",
      "246\n",
      "247\n",
      "248\n",
      "249\n",
      "250\n",
      "251\n",
      "252"
     ]
    },
    {
     "name": "stderr",
     "output_type": "stream",
     "text": [
      "No scoremap for section 242\n",
      "No scoremap for section 253\n"
     ]
    },
    {
     "name": "stdout",
     "output_type": "stream",
     "text": [
      "\n",
      "254\n",
      "255\n",
      "256\n",
      "257\n",
      "258\n",
      "259\n",
      "260\n",
      "261\n",
      "262\n",
      "263\n",
      "264\n",
      "265\n",
      "266\n",
      "267\n",
      "268\n",
      "269\n",
      "270\n",
      "271\n",
      "272\n",
      "273\n",
      "274\n",
      "275\n",
      "276\n",
      "277\n",
      "278\n",
      "279\n",
      "123 966\n",
      "287 741\n",
      "312 759\n",
      "7N\n",
      "(1038, 1470, 1198)\n",
      "115\n",
      "116\n",
      "117\n",
      "118\n",
      "119\n",
      "120\n",
      "121\n",
      "122\n",
      "123\n",
      "124\n",
      "125\n",
      "126\n",
      "127\n",
      "128\n",
      "129\n",
      "130\n",
      "131\n",
      "132\n",
      "133\n",
      "134\n",
      "135\n",
      "136\n",
      "137\n",
      "138\n",
      "139\n",
      "140\n",
      "141\n",
      "142\n",
      "143\n",
      "144\n",
      "145\n",
      "146\n",
      "147\n",
      "148\n",
      "149\n",
      "150\n",
      "151\n",
      "152\n",
      "153\n",
      "154\n",
      "155\n",
      "156\n",
      "157\n",
      "158\n",
      "159\n",
      "160\n",
      "161\n",
      "162\n",
      "164\n",
      "165\n",
      "166\n",
      "167\n",
      "168\n",
      "169\n",
      "170\n",
      "171\n",
      "172\n",
      "173\n",
      "174\n",
      "175\n",
      "176\n",
      "177\n",
      "178\n",
      "179\n",
      "180\n",
      "181\n",
      "182\n",
      "183\n",
      "184\n",
      "185\n",
      "186"
     ]
    },
    {
     "name": "stderr",
     "output_type": "stream",
     "text": [
      "No scoremap for section 163\n",
      "No scoremap for section 187\n"
     ]
    },
    {
     "name": "stdout",
     "output_type": "stream",
     "text": [
      "\n",
      "188\n",
      "189\n",
      "190\n",
      "191\n",
      "192\n",
      "193\n",
      "194\n",
      "195\n",
      "196\n",
      "197\n",
      "198\n",
      "199\n",
      "200\n",
      "201\n",
      "202\n",
      "203\n",
      "204\n",
      "205\n",
      "206\n",
      "207\n",
      "208\n",
      "209\n",
      "210\n",
      "211\n",
      "212\n",
      "213\n",
      "214\n",
      "216\n",
      "217\n",
      "218\n",
      "219\n",
      "220\n",
      "221\n",
      "222\n",
      "223\n",
      "224\n",
      "225\n",
      "226\n",
      "227\n",
      "228\n",
      "229\n",
      "230\n",
      "231\n",
      "232\n",
      "233\n",
      "234\n",
      "235\n",
      "236\n",
      "237\n",
      "238\n",
      "239\n",
      "240\n",
      "241\n",
      "242\n",
      "243\n",
      "244\n",
      "245\n",
      "246\n",
      "247\n",
      "248\n",
      "249\n",
      "250\n",
      "251\n",
      "252\n",
      "253\n",
      "254\n",
      "255\n",
      "256\n",
      "257\n",
      "258\n",
      "259\n",
      "260\n",
      "261\n",
      "262\n",
      "263\n",
      "264\n",
      "265\n",
      "266\n",
      "267\n",
      "268\n",
      "269\n",
      "270\n",
      "271\n",
      "272\n",
      "273\n",
      "274\n",
      "275\n",
      "276\n",
      "277\n",
      "278\n",
      "279\n",
      "123 990\n",
      "287 745\n",
      "312 759\n",
      "12N"
     ]
    },
    {
     "name": "stderr",
     "output_type": "stream",
     "text": [
      "No scoremap for section 215\n",
      "No scoremap for section 116\n"
     ]
    },
    {
     "name": "stdout",
     "output_type": "stream",
     "text": [
      "\n",
      "(1038, 1470, 1198)\n",
      "115\n",
      "117\n",
      "119"
     ]
    },
    {
     "name": "stderr",
     "output_type": "stream",
     "text": [
      "No scoremap for section 118\n",
      "No scoremap for section 120\n"
     ]
    },
    {
     "name": "stdout",
     "output_type": "stream",
     "text": [
      "\n",
      "121\n",
      "123\n",
      "124\n",
      "125"
     ]
    },
    {
     "name": "stderr",
     "output_type": "stream",
     "text": [
      "No scoremap for section 122\n",
      "No scoremap for section 126\n"
     ]
    },
    {
     "name": "stdout",
     "output_type": "stream",
     "text": [
      "\n",
      "127\n",
      "130\n",
      "131"
     ]
    },
    {
     "name": "stderr",
     "output_type": "stream",
     "text": [
      "No scoremap for section 128\n",
      "No scoremap for section 129\n",
      "No scoremap for section 132\n"
     ]
    },
    {
     "name": "stdout",
     "output_type": "stream",
     "text": [
      "\n",
      "133\n",
      "135\n",
      "136\n",
      "137\n",
      "138\n",
      "139\n",
      "140\n",
      "141"
     ]
    },
    {
     "name": "stderr",
     "output_type": "stream",
     "text": [
      "No scoremap for section 134\n",
      "No scoremap for section 142\n"
     ]
    },
    {
     "name": "stdout",
     "output_type": "stream",
     "text": [
      "\n",
      "143\n",
      "144\n",
      "145\n",
      "146\n",
      "147\n",
      "148\n",
      "149\n",
      "150\n",
      "151\n",
      "152\n",
      "153\n",
      "154\n",
      "155\n",
      "157\n",
      "158\n",
      "159\n",
      "160\n",
      "161\n",
      "162"
     ]
    },
    {
     "name": "stderr",
     "output_type": "stream",
     "text": [
      "No scoremap for section 156\n",
      "No scoremap for section 163\n"
     ]
    },
    {
     "name": "stdout",
     "output_type": "stream",
     "text": [
      "\n",
      "164\n",
      "165\n",
      "166\n",
      "167\n",
      "169\n",
      "170\n",
      "171\n",
      "172\n",
      "173\n",
      "174\n",
      "175\n",
      "176\n",
      "177\n",
      "178\n",
      "179\n",
      "180\n",
      "181\n",
      "182\n",
      "183\n",
      "184\n",
      "185\n",
      "186"
     ]
    },
    {
     "name": "stderr",
     "output_type": "stream",
     "text": [
      "No scoremap for section 168\n",
      "No scoremap for section 187\n"
     ]
    },
    {
     "name": "stdout",
     "output_type": "stream",
     "text": [
      "\n",
      "188\n",
      "189\n",
      "190\n",
      "191\n",
      "192\n",
      "193\n",
      "194\n",
      "195\n",
      "196\n",
      "197\n",
      "198\n",
      "199\n",
      "200\n",
      "201\n",
      "202\n",
      "203\n",
      "204\n",
      "205\n",
      "206\n",
      "207\n",
      "208\n",
      "209\n",
      "210\n",
      "212\n",
      "213\n",
      "214\n",
      "215\n",
      "216\n",
      "217\n",
      "218\n",
      "219\n",
      "220\n",
      "221\n",
      "222\n",
      "223\n",
      "224\n",
      "225"
     ]
    },
    {
     "name": "stderr",
     "output_type": "stream",
     "text": [
      "No scoremap for section 211\n",
      "No scoremap for section 226\n"
     ]
    },
    {
     "name": "stdout",
     "output_type": "stream",
     "text": [
      "\n",
      "228\n",
      "229\n",
      "230\n",
      "231\n",
      "232\n",
      "233\n",
      "234"
     ]
    },
    {
     "name": "stderr",
     "output_type": "stream",
     "text": [
      "No scoremap for section 227\n",
      "No scoremap for section 235\n"
     ]
    },
    {
     "name": "stdout",
     "output_type": "stream",
     "text": [
      "\n",
      "236\n",
      "237\n",
      "238\n",
      "239\n",
      "240\n",
      "241\n",
      "242\n",
      "243\n",
      "244\n",
      "245\n",
      "246\n",
      "247\n",
      "248\n",
      "249\n",
      "250\n",
      "251\n",
      "252\n",
      "254\n",
      "255\n",
      "256\n",
      "257\n",
      "258\n",
      "259"
     ]
    },
    {
     "name": "stderr",
     "output_type": "stream",
     "text": [
      "No scoremap for section 253\n",
      "No scoremap for section 260\n"
     ]
    },
    {
     "name": "stdout",
     "output_type": "stream",
     "text": [
      "\n",
      "261\n",
      "262\n",
      "273"
     ]
    },
    {
     "name": "stderr",
     "output_type": "stream",
     "text": [
      "No scoremap for section 263\n",
      "No scoremap for section 264\n",
      "No scoremap for section 265\n",
      "No scoremap for section 266\n",
      "No scoremap for section 267\n",
      "No scoremap for section 268\n",
      "No scoremap for section 269\n",
      "No scoremap for section 270\n",
      "No scoremap for section 271\n",
      "No scoremap for section 272\n",
      "No scoremap for section 274\n"
     ]
    },
    {
     "name": "stdout",
     "output_type": "stream",
     "text": [
      "\n",
      "123 990\n",
      "287 745\n",
      "312 743\n",
      "Gr\n",
      "(1038, 1470, 1198)\n",
      "115\n",
      "116\n",
      "117\n",
      "118\n",
      "119\n",
      "120\n",
      "121\n",
      "122\n",
      "123\n",
      "124\n",
      "125\n",
      "126\n",
      "127\n",
      "128\n",
      "129\n",
      "130\n",
      "131\n",
      "132\n",
      "133\n",
      "134\n",
      "135\n",
      "136\n",
      "137\n",
      "138\n",
      "139\n",
      "140\n",
      "141\n",
      "142\n",
      "143\n",
      "144\n",
      "145\n",
      "146\n",
      "147\n",
      "148\n",
      "149\n",
      "150\n",
      "151\n",
      "152\n",
      "153\n",
      "154\n",
      "155\n",
      "156\n",
      "157\n",
      "158\n",
      "159\n",
      "160\n",
      "161\n",
      "162"
     ]
    },
    {
     "name": "stderr",
     "output_type": "stream",
     "text": [
      "No scoremap for section 275\n",
      "No scoremap for section 276\n",
      "No scoremap for section 277\n",
      "No scoremap for section 278\n",
      "No scoremap for section 279\n",
      "No scoremap for section 163\n"
     ]
    },
    {
     "name": "stdout",
     "output_type": "stream",
     "text": [
      "\n",
      "164\n",
      "165\n",
      "166\n",
      "167\n",
      "168\n",
      "169\n",
      "170\n",
      "171\n",
      "172\n",
      "173\n",
      "174\n",
      "175\n",
      "176\n",
      "177\n",
      "178\n",
      "179\n",
      "180\n",
      "181\n",
      "182\n",
      "183\n",
      "184\n",
      "185\n",
      "186\n",
      "188\n",
      "189\n",
      "190\n",
      "191\n",
      "192\n",
      "193\n",
      "194\n",
      "195\n",
      "196\n",
      "197\n",
      "198\n",
      "199\n",
      "200\n",
      "201\n",
      "202\n",
      "203\n",
      "204\n",
      "205\n",
      "206\n",
      "207\n",
      "208\n",
      "209\n",
      "210\n",
      "211\n",
      "212\n",
      "213\n",
      "214\n",
      "215\n",
      "216\n",
      "217\n",
      "218\n",
      "219\n",
      "220\n",
      "221\n",
      "222\n",
      "223\n",
      "224\n",
      "225\n",
      "226\n",
      "227\n",
      "228\n",
      "229\n",
      "230\n",
      "231\n",
      "232\n",
      "233\n",
      "234\n",
      "235\n",
      "236\n",
      "237\n",
      "238\n",
      "239\n",
      "240\n",
      "241\n",
      "242\n",
      "243\n",
      "244\n",
      "245\n",
      "246\n",
      "247\n",
      "248\n",
      "249\n",
      "250\n",
      "251\n",
      "252\n",
      "253\n",
      "254\n",
      "255\n",
      "256\n",
      "257\n",
      "258\n",
      "259\n",
      "260\n",
      "261\n",
      "262\n",
      "263\n",
      "264\n",
      "265\n",
      "266\n",
      "267\n",
      "268\n",
      "269\n",
      "270\n",
      "271\n",
      "272\n",
      "273\n",
      "274\n",
      "275\n",
      "276\n",
      "277\n",
      "278\n",
      "279\n",
      "123 990\n",
      "287 744\n",
      "312 759\n",
      "LVe"
     ]
    },
    {
     "name": "stderr",
     "output_type": "stream",
     "text": [
      "No scoremap for section 187\n",
      "No scoremap for section 115\n",
      "No scoremap for section 116\n",
      "No scoremap for section 117\n",
      "No scoremap for section 118\n",
      "No scoremap for section 119\n",
      "No scoremap for section 120\n",
      "No scoremap for section 121\n",
      "No scoremap for section 122\n",
      "No scoremap for section 123\n",
      "No scoremap for section 124\n",
      "No scoremap for section 125\n",
      "No scoremap for section 126\n",
      "No scoremap for section 127\n",
      "No scoremap for section 128\n",
      "No scoremap for section 129\n",
      "No scoremap for section 130\n",
      "No scoremap for section 131\n",
      "No scoremap for section 132\n",
      "No scoremap for section 133\n",
      "No scoremap for section 134\n",
      "No scoremap for section 135\n",
      "No scoremap for section 136\n",
      "No scoremap for section 137\n",
      "No scoremap for section 138\n",
      "No scoremap for section 139\n",
      "No scoremap for section 140\n",
      "No scoremap for section 141\n",
      "No scoremap for section 142\n",
      "No scoremap for section 143\n",
      "No scoremap for section 145\n"
     ]
    },
    {
     "name": "stdout",
     "output_type": "stream",
     "text": [
      "\n",
      "(1038, 1470, 1198)\n",
      "144\n",
      "146\n",
      "147\n",
      "148\n",
      "149\n",
      "150\n",
      "151\n",
      "152\n",
      "153\n",
      "154\n",
      "155\n",
      "156\n",
      "158\n",
      "159\n",
      "160\n",
      "161"
     ]
    },
    {
     "name": "stderr",
     "output_type": "stream",
     "text": [
      "No scoremap for section 157\n",
      "No scoremap for section 162\n"
     ]
    },
    {
     "name": "stdout",
     "output_type": "stream",
     "text": [
      "\n",
      "164"
     ]
    },
    {
     "name": "stderr",
     "output_type": "stream",
     "text": [
      "No scoremap for section 163\n",
      "No scoremap for section 165\n"
     ]
    },
    {
     "name": "stdout",
     "output_type": "stream",
     "text": [
      "\n",
      "166\n",
      "168"
     ]
    },
    {
     "name": "stderr",
     "output_type": "stream",
     "text": [
      "No scoremap for section 167\n",
      "No scoremap for section 169\n"
     ]
    },
    {
     "name": "stdout",
     "output_type": "stream",
     "text": [
      "\n",
      "176"
     ]
    },
    {
     "name": "stderr",
     "output_type": "stream",
     "text": [
      "No scoremap for section 170\n",
      "No scoremap for section 171\n",
      "No scoremap for section 172\n",
      "No scoremap for section 173\n",
      "No scoremap for section 174\n",
      "No scoremap for section 175\n",
      "No scoremap for section 177\n"
     ]
    },
    {
     "name": "stdout",
     "output_type": "stream",
     "text": [
      "\n",
      "179"
     ]
    },
    {
     "name": "stderr",
     "output_type": "stream",
     "text": [
      "No scoremap for section 178\n",
      "No scoremap for section 180\n"
     ]
    },
    {
     "name": "stdout",
     "output_type": "stream",
     "text": [
      "\n",
      "183\n",
      "184"
     ]
    },
    {
     "name": "stderr",
     "output_type": "stream",
     "text": [
      "No scoremap for section 181\n",
      "No scoremap for section 182\n",
      "No scoremap for section 185\n"
     ]
    },
    {
     "name": "stdout",
     "output_type": "stream",
     "text": [
      "\n",
      "186\n",
      "188"
     ]
    },
    {
     "name": "stderr",
     "output_type": "stream",
     "text": [
      "No scoremap for section 187\n",
      "No scoremap for section 189\n"
     ]
    },
    {
     "name": "stdout",
     "output_type": "stream",
     "text": [
      "\n",
      "191"
     ]
    },
    {
     "name": "stderr",
     "output_type": "stream",
     "text": [
      "No scoremap for section 190\n",
      "No scoremap for section 192\n"
     ]
    },
    {
     "name": "stdout",
     "output_type": "stream",
     "text": [
      "\n",
      "194"
     ]
    },
    {
     "name": "stderr",
     "output_type": "stream",
     "text": [
      "No scoremap for section 193\n",
      "No scoremap for section 195\n"
     ]
    },
    {
     "name": "stdout",
     "output_type": "stream",
     "text": [
      "\n",
      "196\n",
      "201"
     ]
    },
    {
     "name": "stderr",
     "output_type": "stream",
     "text": [
      "No scoremap for section 197\n",
      "No scoremap for section 198\n",
      "No scoremap for section 199\n",
      "No scoremap for section 200\n",
      "No scoremap for section 202\n"
     ]
    },
    {
     "name": "stdout",
     "output_type": "stream",
     "text": [
      "\n",
      "203\n",
      "204\n",
      "205\n",
      "211"
     ]
    },
    {
     "name": "stderr",
     "output_type": "stream",
     "text": [
      "No scoremap for section 206\n",
      "No scoremap for section 207\n",
      "No scoremap for section 208\n",
      "No scoremap for section 209\n",
      "No scoremap for section 210\n",
      "No scoremap for section 212\n"
     ]
    },
    {
     "name": "stdout",
     "output_type": "stream",
     "text": [
      "\n",
      "216"
     ]
    },
    {
     "name": "stderr",
     "output_type": "stream",
     "text": [
      "No scoremap for section 213\n",
      "No scoremap for section 214\n",
      "No scoremap for section 215\n",
      "No scoremap for section 217\n"
     ]
    },
    {
     "name": "stdout",
     "output_type": "stream",
     "text": [
      "\n",
      "227"
     ]
    },
    {
     "name": "stderr",
     "output_type": "stream",
     "text": [
      "No scoremap for section 218\n",
      "No scoremap for section 219\n",
      "No scoremap for section 220\n",
      "No scoremap for section 221\n",
      "No scoremap for section 222\n",
      "No scoremap for section 223\n",
      "No scoremap for section 224\n",
      "No scoremap for section 225\n",
      "No scoremap for section 226\n",
      "No scoremap for section 228\n"
     ]
    },
    {
     "name": "stdout",
     "output_type": "stream",
     "text": [
      "\n",
      "229\n",
      "230\n",
      "232\n",
      "233\n",
      "234\n",
      "235"
     ]
    },
    {
     "name": "stderr",
     "output_type": "stream",
     "text": [
      "No scoremap for section 231\n",
      "No scoremap for section 236\n"
     ]
    },
    {
     "name": "stdout",
     "output_type": "stream",
     "text": [
      "\n",
      "238"
     ]
    },
    {
     "name": "stderr",
     "output_type": "stream",
     "text": [
      "No scoremap for section 237\n",
      "No scoremap for section 239\n"
     ]
    },
    {
     "name": "stdout",
     "output_type": "stream",
     "text": [
      "\n",
      "242"
     ]
    },
    {
     "name": "stderr",
     "output_type": "stream",
     "text": [
      "No scoremap for section 240\n",
      "No scoremap for section 241\n",
      "No scoremap for section 243\n"
     ]
    },
    {
     "name": "stdout",
     "output_type": "stream",
     "text": [
      "\n",
      "244\n",
      "251"
     ]
    },
    {
     "name": "stderr",
     "output_type": "stream",
     "text": [
      "No scoremap for section 245\n",
      "No scoremap for section 246\n",
      "No scoremap for section 247\n",
      "No scoremap for section 248\n",
      "No scoremap for section 249\n",
      "No scoremap for section 250\n",
      "No scoremap for section 252\n"
     ]
    },
    {
     "name": "stdout",
     "output_type": "stream",
     "text": [
      "\n",
      "256"
     ]
    },
    {
     "name": "stderr",
     "output_type": "stream",
     "text": [
      "No scoremap for section 253\n",
      "No scoremap for section 254\n",
      "No scoremap for section 255\n",
      "No scoremap for section 257\n"
     ]
    },
    {
     "name": "stdout",
     "output_type": "stream",
     "text": [
      "\n",
      "258\n",
      "259\n",
      "260\n",
      "261\n",
      "262\n",
      "263\n",
      "264\n",
      "265\n",
      "266\n",
      "267\n",
      "268\n",
      "269\n",
      "270\n",
      "271\n",
      "272\n",
      "273\n",
      "274\n",
      "275\n",
      "276\n",
      "277\n",
      "278\n",
      "279\n",
      "123 990\n",
      "287 727\n",
      "391 759\n",
      "Pn\n",
      "(1038, 1470, 1198)\n",
      "115\n",
      "116\n",
      "117\n",
      "118\n",
      "119\n",
      "120\n",
      "121\n",
      "122\n",
      "123\n",
      "124\n",
      "125\n",
      "127\n",
      "128\n",
      "129"
     ]
    },
    {
     "name": "stderr",
     "output_type": "stream",
     "text": [
      "No scoremap for section 126\n",
      "No scoremap for section 130\n"
     ]
    },
    {
     "name": "stdout",
     "output_type": "stream",
     "text": [
      "\n",
      "131\n",
      "133\n",
      "134\n",
      "135"
     ]
    },
    {
     "name": "stderr",
     "output_type": "stream",
     "text": [
      "No scoremap for section 132\n",
      "No scoremap for section 136\n"
     ]
    },
    {
     "name": "stdout",
     "output_type": "stream",
     "text": [
      "\n",
      "137\n",
      "139\n",
      "140\n",
      "141\n",
      "142\n",
      "143\n",
      "144\n",
      "145\n",
      "146\n",
      "147\n",
      "148\n",
      "149\n",
      "150\n",
      "151\n",
      "152\n",
      "153\n",
      "154\n",
      "155\n",
      "156\n",
      "157\n",
      "158\n",
      "159\n",
      "160\n",
      "161\n",
      "162\n",
      "163"
     ]
    },
    {
     "name": "stderr",
     "output_type": "stream",
     "text": [
      "No scoremap for section 138\n",
      "No scoremap for section 164\n"
     ]
    },
    {
     "name": "stdout",
     "output_type": "stream",
     "text": [
      "\n",
      "165\n",
      "166\n",
      "167\n",
      "169\n",
      "170\n",
      "171\n",
      "172\n",
      "173\n",
      "174\n",
      "175\n",
      "176\n",
      "177\n",
      "178\n",
      "179\n",
      "180\n",
      "181\n",
      "182\n",
      "183"
     ]
    },
    {
     "name": "stderr",
     "output_type": "stream",
     "text": [
      "No scoremap for section 168\n",
      "No scoremap for section 184\n"
     ]
    },
    {
     "name": "stdout",
     "output_type": "stream",
     "text": [
      "\n",
      "185\n",
      "186\n",
      "187\n",
      "188\n",
      "189\n",
      "190\n",
      "191\n",
      "192\n",
      "194\n",
      "195\n",
      "196\n",
      "197\n",
      "198\n",
      "199\n",
      "200\n",
      "201\n",
      "202\n",
      "203\n",
      "204\n",
      "205\n",
      "206\n",
      "207\n",
      "208\n",
      "209\n",
      "210\n",
      "211\n",
      "212\n",
      "213\n",
      "214\n",
      "215\n",
      "216\n",
      "217\n",
      "218\n",
      "219\n",
      "220\n",
      "221\n",
      "222\n",
      "223\n",
      "224\n",
      "225\n",
      "226\n",
      "227\n",
      "228\n",
      "229\n",
      "230\n",
      "231\n",
      "232\n",
      "233\n",
      "234\n",
      "235\n",
      "236\n",
      "237\n",
      "238\n",
      "239\n",
      "240\n",
      "241\n",
      "242\n",
      "243\n",
      "244\n",
      "245\n",
      "246\n",
      "247\n",
      "248\n",
      "249\n",
      "250\n",
      "251\n",
      "252"
     ]
    },
    {
     "name": "stderr",
     "output_type": "stream",
     "text": [
      "No scoremap for section 193\n",
      "No scoremap for section 253\n"
     ]
    },
    {
     "name": "stdout",
     "output_type": "stream",
     "text": [
      "\n",
      "265\n",
      "266\n",
      "267\n",
      "268"
     ]
    },
    {
     "name": "stderr",
     "output_type": "stream",
     "text": [
      "No scoremap for section 254\n",
      "No scoremap for section 255\n",
      "No scoremap for section 256\n",
      "No scoremap for section 257\n",
      "No scoremap for section 258\n",
      "No scoremap for section 259\n",
      "No scoremap for section 260\n",
      "No scoremap for section 261\n",
      "No scoremap for section 262\n",
      "No scoremap for section 263\n",
      "No scoremap for section 264\n",
      "No scoremap for section 269\n"
     ]
    },
    {
     "name": "stdout",
     "output_type": "stream",
     "text": [
      "\n",
      "123 990\n",
      "287 755\n",
      "312 729\n",
      "SuVe"
     ]
    },
    {
     "name": "stderr",
     "output_type": "stream",
     "text": [
      "No scoremap for section 270\n",
      "No scoremap for section 271\n",
      "No scoremap for section 272\n",
      "No scoremap for section 273\n",
      "No scoremap for section 274\n",
      "No scoremap for section 275\n",
      "No scoremap for section 276\n",
      "No scoremap for section 277\n",
      "No scoremap for section 278\n",
      "No scoremap for section 279\n",
      "No scoremap for section 115\n",
      "No scoremap for section 116\n",
      "No scoremap for section 117\n",
      "No scoremap for section 118\n",
      "No scoremap for section 119\n",
      "No scoremap for section 120\n",
      "No scoremap for section 121\n",
      "No scoremap for section 122\n",
      "No scoremap for section 123\n",
      "No scoremap for section 124\n",
      "No scoremap for section 125\n",
      "No scoremap for section 126\n",
      "No scoremap for section 127\n",
      "No scoremap for section 128\n",
      "No scoremap for section 129\n",
      "No scoremap for section 130\n",
      "No scoremap for section 131\n",
      "No scoremap for section 133\n"
     ]
    },
    {
     "name": "stdout",
     "output_type": "stream",
     "text": [
      "\n",
      "(1038, 1470, 1198)\n",
      "132\n",
      "134\n",
      "138"
     ]
    },
    {
     "name": "stderr",
     "output_type": "stream",
     "text": [
      "No scoremap for section 135\n",
      "No scoremap for section 136\n",
      "No scoremap for section 137\n",
      "No scoremap for section 139\n"
     ]
    },
    {
     "name": "stdout",
     "output_type": "stream",
     "text": [
      "\n",
      "142"
     ]
    },
    {
     "name": "stderr",
     "output_type": "stream",
     "text": [
      "No scoremap for section 140\n",
      "No scoremap for section 141\n",
      "No scoremap for section 143\n"
     ]
    },
    {
     "name": "stdout",
     "output_type": "stream",
     "text": [
      "\n",
      "144\n",
      "146"
     ]
    },
    {
     "name": "stderr",
     "output_type": "stream",
     "text": [
      "No scoremap for section 145\n",
      "No scoremap for section 147\n"
     ]
    },
    {
     "name": "stdout",
     "output_type": "stream",
     "text": [
      "\n",
      "149\n",
      "150\n",
      "151\n",
      "152\n",
      "153\n",
      "154\n",
      "155\n",
      "156"
     ]
    },
    {
     "name": "stderr",
     "output_type": "stream",
     "text": [
      "No scoremap for section 148\n",
      "No scoremap for section 157\n"
     ]
    },
    {
     "name": "stdout",
     "output_type": "stream",
     "text": [
      "\n",
      "158\n",
      "161\n",
      "162"
     ]
    },
    {
     "name": "stderr",
     "output_type": "stream",
     "text": [
      "No scoremap for section 159\n",
      "No scoremap for section 160\n",
      "No scoremap for section 163\n"
     ]
    },
    {
     "name": "stdout",
     "output_type": "stream",
     "text": [
      "\n",
      "166\n",
      "167\n",
      "168\n",
      "169\n",
      "170"
     ]
    },
    {
     "name": "stderr",
     "output_type": "stream",
     "text": [
      "No scoremap for section 164\n",
      "No scoremap for section 165\n",
      "No scoremap for section 171\n"
     ]
    },
    {
     "name": "stdout",
     "output_type": "stream",
     "text": [
      "\n",
      "172\n",
      "176"
     ]
    },
    {
     "name": "stderr",
     "output_type": "stream",
     "text": [
      "No scoremap for section 173\n",
      "No scoremap for section 174\n",
      "No scoremap for section 175\n",
      "No scoremap for section 177\n"
     ]
    },
    {
     "name": "stdout",
     "output_type": "stream",
     "text": [
      "\n",
      "178\n",
      "180"
     ]
    },
    {
     "name": "stderr",
     "output_type": "stream",
     "text": [
      "No scoremap for section 179\n",
      "No scoremap for section 181\n"
     ]
    },
    {
     "name": "stdout",
     "output_type": "stream",
     "text": [
      "\n",
      "182\n",
      "184\n",
      "185\n",
      "186"
     ]
    },
    {
     "name": "stderr",
     "output_type": "stream",
     "text": [
      "No scoremap for section 183\n",
      "No scoremap for section 187\n"
     ]
    },
    {
     "name": "stdout",
     "output_type": "stream",
     "text": [
      "\n",
      "188\n",
      "189\n",
      "190\n",
      "191\n",
      "193"
     ]
    },
    {
     "name": "stderr",
     "output_type": "stream",
     "text": [
      "No scoremap for section 192\n",
      "No scoremap for section 194\n"
     ]
    },
    {
     "name": "stdout",
     "output_type": "stream",
     "text": [
      "\n",
      "196"
     ]
    },
    {
     "name": "stderr",
     "output_type": "stream",
     "text": [
      "No scoremap for section 195\n",
      "No scoremap for section 197\n"
     ]
    },
    {
     "name": "stdout",
     "output_type": "stream",
     "text": [
      "\n",
      "198\n",
      "199\n",
      "204"
     ]
    },
    {
     "name": "stderr",
     "output_type": "stream",
     "text": [
      "No scoremap for section 200\n",
      "No scoremap for section 201\n",
      "No scoremap for section 202\n",
      "No scoremap for section 203\n",
      "No scoremap for section 205\n"
     ]
    },
    {
     "name": "stdout",
     "output_type": "stream",
     "text": [
      "\n",
      "212\n",
      "213\n",
      "214"
     ]
    },
    {
     "name": "stderr",
     "output_type": "stream",
     "text": [
      "No scoremap for section 206\n",
      "No scoremap for section 207\n",
      "No scoremap for section 208\n",
      "No scoremap for section 209\n",
      "No scoremap for section 210\n",
      "No scoremap for section 211\n",
      "No scoremap for section 215\n"
     ]
    },
    {
     "name": "stdout",
     "output_type": "stream",
     "text": [
      "\n",
      "216\n",
      "217\n",
      "218\n",
      "219\n",
      "220\n",
      "221\n",
      "223\n",
      "224"
     ]
    },
    {
     "name": "stderr",
     "output_type": "stream",
     "text": [
      "No scoremap for section 222\n",
      "No scoremap for section 225\n"
     ]
    },
    {
     "name": "stdout",
     "output_type": "stream",
     "text": [
      "\n",
      "228"
     ]
    },
    {
     "name": "stderr",
     "output_type": "stream",
     "text": [
      "No scoremap for section 226\n",
      "No scoremap for section 227\n",
      "No scoremap for section 229\n"
     ]
    },
    {
     "name": "stdout",
     "output_type": "stream",
     "text": [
      "\n",
      "230\n",
      "231\n",
      "232\n",
      "233\n",
      "235\n",
      "236\n",
      "237\n",
      "238\n",
      "239\n",
      "240\n",
      "241\n",
      "242\n",
      "243\n",
      "244\n",
      "245\n",
      "246\n",
      "247\n",
      "248\n",
      "249\n",
      "250"
     ]
    },
    {
     "name": "stderr",
     "output_type": "stream",
     "text": [
      "No scoremap for section 234\n",
      "No scoremap for section 251\n"
     ]
    },
    {
     "name": "stdout",
     "output_type": "stream",
     "text": [
      "\n",
      "252\n",
      "253\n",
      "254\n",
      "255\n",
      "257\n",
      "258\n",
      "259\n",
      "260\n",
      "261\n",
      "262\n",
      "263\n",
      "264\n",
      "265\n",
      "266\n",
      "267\n",
      "268\n",
      "269\n",
      "270\n",
      "271\n",
      "272\n",
      "273\n",
      "274\n",
      "275\n",
      "276\n",
      "277\n",
      "278"
     ]
    },
    {
     "name": "stderr",
     "output_type": "stream",
     "text": [
      "No scoremap for section 256\n",
      "No scoremap for section 279\n"
     ]
    },
    {
     "name": "stdout",
     "output_type": "stream",
     "text": [
      "\n",
      "123 990\n",
      "287 745\n",
      "358 757\n",
      "VLL\n",
      "(1038, 1470, 1198)\n",
      "115\n",
      "116\n",
      "117\n",
      "118\n",
      "119\n",
      "120\n",
      "121\n",
      "122\n",
      "123\n",
      "124\n",
      "125\n",
      "126\n",
      "127\n",
      "128\n",
      "129\n",
      "130\n",
      "131\n",
      "132\n",
      "133\n",
      "134\n",
      "135\n",
      "136\n",
      "137\n",
      "138\n",
      "139\n",
      "140\n",
      "141\n",
      "142\n",
      "143\n",
      "144\n",
      "145\n",
      "146\n",
      "147\n",
      "148\n",
      "149\n",
      "150\n",
      "151\n",
      "152\n",
      "153\n",
      "154\n",
      "155\n",
      "156\n",
      "157\n",
      "158\n",
      "159\n",
      "160\n",
      "161\n",
      "162\n",
      "164\n",
      "165\n",
      "166\n",
      "167\n",
      "168\n",
      "169\n",
      "170\n",
      "171\n",
      "172\n",
      "173\n",
      "174\n",
      "175\n",
      "176\n",
      "177\n",
      "178\n",
      "179\n",
      "180\n",
      "181\n",
      "182\n",
      "183\n",
      "184\n",
      "185\n",
      "186"
     ]
    },
    {
     "name": "stderr",
     "output_type": "stream",
     "text": [
      "No scoremap for section 163\n",
      "No scoremap for section 187\n"
     ]
    },
    {
     "name": "stdout",
     "output_type": "stream",
     "text": [
      "\n",
      "188\n",
      "189\n",
      "190\n",
      "191\n",
      "192\n",
      "193\n",
      "194\n",
      "195\n",
      "196\n",
      "197\n",
      "198\n",
      "199\n",
      "200\n",
      "201\n",
      "202\n",
      "203\n",
      "204\n",
      "205\n",
      "206\n",
      "207\n",
      "208\n",
      "209\n",
      "210\n",
      "211\n",
      "212\n",
      "213\n",
      "214\n",
      "215\n",
      "216\n",
      "217\n",
      "218\n",
      "219\n",
      "220\n",
      "221\n",
      "222\n",
      "223\n",
      "224\n",
      "225\n",
      "226\n",
      "227\n",
      "228\n",
      "229\n",
      "230\n",
      "231\n",
      "232\n",
      "233\n",
      "234\n",
      "235\n",
      "236\n",
      "237\n",
      "238\n",
      "239\n",
      "240\n",
      "241\n",
      "242\n",
      "243\n",
      "244\n",
      "245\n",
      "246\n",
      "247\n",
      "248\n",
      "249\n",
      "250\n",
      "251\n",
      "252\n",
      "254\n",
      "255\n",
      "256\n",
      "257\n",
      "258\n",
      "259\n",
      "260\n",
      "261\n",
      "262\n",
      "263\n",
      "264\n",
      "265\n",
      "266\n",
      "267\n",
      "268\n",
      "269\n",
      "270\n",
      "271\n",
      "272\n",
      "273\n",
      "274\n",
      "275\n",
      "276\n",
      "277\n",
      "278\n",
      "279\n",
      "123 990\n",
      "287 748\n",
      "312 759\n",
      "123 287 312\n",
      "990 755 759\n",
      "95 354\n",
      "150 300\n",
      "407 816\n",
      "5N\n",
      "(918, 1390, 1168)\n",
      "150\n",
      "151\n",
      "152\n",
      "153\n",
      "154\n",
      "155\n",
      "156\n",
      "157\n",
      "158\n",
      "159\n",
      "160\n",
      "161\n",
      "162\n",
      "163\n",
      "164\n",
      "165\n",
      "166\n",
      "167\n",
      "168\n",
      "169\n",
      "170\n",
      "171\n",
      "172\n",
      "173\n",
      "174\n",
      "175\n",
      "176\n",
      "177\n",
      "178\n",
      "179\n",
      "180\n",
      "181\n",
      "182\n",
      "183\n",
      "184\n",
      "185\n",
      "186\n",
      "187\n",
      "188\n",
      "189\n",
      "190\n",
      "191\n",
      "192\n",
      "193\n",
      "194\n",
      "195\n",
      "196"
     ]
    },
    {
     "name": "stderr",
     "output_type": "stream",
     "text": [
      "No scoremap for section 253\n",
      "No scoremap for section 197\n"
     ]
    },
    {
     "name": "stdout",
     "output_type": "stream",
     "text": [
      "\n",
      "198\n",
      "199\n",
      "200\n",
      "201\n",
      "202\n",
      "203\n",
      "204\n",
      "205\n",
      "206\n",
      "207\n",
      "208\n",
      "209\n",
      "210\n",
      "211\n",
      "212\n",
      "213\n",
      "214\n",
      "215\n",
      "216\n",
      "217\n",
      "218\n",
      "219\n",
      "220\n",
      "221\n",
      "222\n",
      "223\n",
      "224\n",
      "225\n",
      "226\n",
      "227\n",
      "228\n",
      "229\n",
      "230\n",
      "231\n",
      "232\n",
      "233\n",
      "234\n",
      "235\n",
      "236\n",
      "237\n",
      "238\n",
      "239\n",
      "240\n",
      "241\n",
      "242\n",
      "243\n",
      "244\n",
      "245\n",
      "246\n",
      "247\n",
      "248\n",
      "249\n",
      "250\n",
      "251\n",
      "252\n",
      "253\n",
      "254\n",
      "255\n",
      "256\n",
      "257\n",
      "258\n",
      "259\n",
      "260\n",
      "261\n",
      "262\n",
      "263\n",
      "264\n",
      "265\n",
      "266\n",
      "267\n",
      "268\n",
      "269\n",
      "270\n",
      "271\n",
      "272\n",
      "273\n",
      "274\n",
      "275\n",
      "277\n",
      "278\n",
      "279\n",
      "280\n",
      "281\n",
      "282\n",
      "283\n",
      "284\n",
      "285\n",
      "286\n",
      "287\n",
      "288\n",
      "289\n",
      "290\n",
      "291\n",
      "292\n",
      "293\n",
      "294\n",
      "295\n",
      "296\n",
      "297\n",
      "298\n",
      "299\n",
      "300\n",
      "98 994\n",
      "238 696\n",
      "407 816\n",
      "7n\n",
      "(918, 1390, 1168)\n",
      "150\n",
      "151\n",
      "152\n",
      "153\n",
      "154\n",
      "155\n",
      "156\n",
      "157\n",
      "158\n",
      "159\n",
      "160\n",
      "161\n",
      "162\n",
      "163\n",
      "164\n",
      "165\n",
      "166\n",
      "167\n",
      "168\n",
      "169\n",
      "170\n",
      "171\n",
      "172\n",
      "173\n",
      "174\n",
      "175\n",
      "176\n",
      "177\n",
      "178\n",
      "179\n",
      "180\n",
      "181\n",
      "182\n",
      "183\n",
      "184\n",
      "185\n",
      "186\n",
      "187\n",
      "188\n",
      "189\n",
      "190\n",
      "191\n",
      "192\n",
      "193\n",
      "194\n",
      "195\n",
      "196"
     ]
    },
    {
     "name": "stderr",
     "output_type": "stream",
     "text": [
      "No scoremap for section 276\n",
      "No scoremap for section 197\n"
     ]
    },
    {
     "name": "stdout",
     "output_type": "stream",
     "text": [
      "\n",
      "198\n",
      "199\n",
      "200\n",
      "201\n",
      "202\n",
      "203\n",
      "204\n",
      "205\n",
      "206\n",
      "207\n",
      "208\n",
      "209\n",
      "210\n",
      "211\n",
      "212\n",
      "213\n",
      "214\n",
      "215\n",
      "216\n",
      "217\n",
      "218\n",
      "219\n",
      "220\n",
      "221\n",
      "222\n",
      "223\n",
      "224\n",
      "225\n",
      "226\n",
      "227\n",
      "228\n",
      "229\n",
      "230\n",
      "231\n",
      "232\n",
      "237\n",
      "238\n",
      "239\n",
      "240\n",
      "241\n",
      "242\n",
      "243\n",
      "244\n",
      "245\n",
      "246\n",
      "247\n",
      "248\n",
      "249\n",
      "250\n",
      "251\n",
      "252\n",
      "253\n",
      "254\n",
      "255\n",
      "256\n",
      "257\n",
      "258\n",
      "259\n",
      "260\n",
      "261\n",
      "262\n",
      "263\n",
      "264\n",
      "265\n",
      "266\n",
      "267\n",
      "268\n",
      "269\n",
      "270\n",
      "271\n",
      "272\n",
      "273\n",
      "274\n",
      "275"
     ]
    },
    {
     "name": "stderr",
     "output_type": "stream",
     "text": [
      "No scoremap for section 233\n",
      "No scoremap for section 234\n",
      "No scoremap for section 235\n",
      "No scoremap for section 236\n",
      "No scoremap for section 276\n"
     ]
    },
    {
     "name": "stdout",
     "output_type": "stream",
     "text": [
      "\n",
      "277\n",
      "278\n",
      "279\n",
      "280\n",
      "281\n",
      "282\n",
      "283\n",
      "284\n",
      "285\n",
      "286\n",
      "287\n",
      "288\n",
      "289\n",
      "290\n",
      "291\n",
      "292\n",
      "293\n",
      "294\n",
      "295\n",
      "296\n",
      "297\n",
      "298\n",
      "299\n",
      "300\n",
      "98 994\n",
      "238 696\n",
      "407 816\n",
      "7N\n",
      "(918, 1390, 1168)\n",
      "150\n",
      "151\n",
      "152\n",
      "153\n",
      "154\n",
      "155\n",
      "156\n",
      "157\n",
      "158\n",
      "159\n",
      "160\n",
      "161\n",
      "162\n",
      "163\n",
      "164\n",
      "165\n",
      "166\n",
      "167\n",
      "168\n",
      "169\n",
      "170\n",
      "171\n",
      "172\n",
      "173\n",
      "174\n",
      "175\n",
      "176\n",
      "177\n",
      "178\n",
      "179\n",
      "180\n",
      "181\n",
      "182\n",
      "183\n",
      "184\n",
      "185\n",
      "186\n",
      "187\n",
      "188\n",
      "189\n",
      "190\n",
      "191\n",
      "192\n",
      "193\n",
      "194\n",
      "195\n",
      "196\n",
      "198\n",
      "199\n",
      "200\n",
      "201\n",
      "202\n",
      "203\n",
      "204\n",
      "205\n",
      "206\n",
      "207\n",
      "208\n",
      "209\n",
      "210\n",
      "211\n",
      "212\n",
      "213\n",
      "214\n",
      "215\n",
      "216\n",
      "217\n",
      "218"
     ]
    },
    {
     "name": "stderr",
     "output_type": "stream",
     "text": [
      "No scoremap for section 197\n",
      "No scoremap for section 219\n"
     ]
    },
    {
     "name": "stdout",
     "output_type": "stream",
     "text": [
      "\n",
      "220\n",
      "221\n",
      "222\n",
      "223\n",
      "224\n",
      "225\n",
      "226\n",
      "227\n",
      "228\n",
      "229\n",
      "230\n",
      "231\n",
      "232\n",
      "233\n",
      "234\n",
      "235\n",
      "236\n",
      "237\n",
      "238\n",
      "239\n",
      "240\n",
      "241\n",
      "242\n",
      "243\n",
      "244\n",
      "245\n",
      "246\n",
      "247\n",
      "248\n",
      "249\n",
      "251\n",
      "252\n",
      "253\n",
      "254\n",
      "255\n",
      "256\n",
      "257\n",
      "258\n",
      "259\n",
      "260\n",
      "261\n",
      "262\n",
      "263\n",
      "264\n",
      "265\n",
      "266\n",
      "267\n",
      "268\n",
      "269\n",
      "270\n",
      "271\n",
      "272\n",
      "273\n",
      "274\n",
      "275"
     ]
    },
    {
     "name": "stderr",
     "output_type": "stream",
     "text": [
      "No scoremap for section 250\n",
      "No scoremap for section 276\n"
     ]
    },
    {
     "name": "stdout",
     "output_type": "stream",
     "text": [
      "\n",
      "277\n",
      "278\n",
      "279\n",
      "280\n",
      "281\n",
      "282\n",
      "283\n",
      "284\n",
      "285\n",
      "286\n",
      "287\n",
      "288\n",
      "289\n",
      "290\n",
      "291\n",
      "292\n",
      "293\n",
      "294\n",
      "295\n",
      "296\n",
      "297\n",
      "298\n",
      "299\n",
      "300\n",
      "98 994\n",
      "238 696\n",
      "407 816\n",
      "12N"
     ]
    },
    {
     "name": "stderr",
     "output_type": "stream",
     "text": [
      "No scoremap for section 150\n",
      "No scoremap for section 151\n",
      "No scoremap for section 152\n",
      "No scoremap for section 153\n",
      "No scoremap for section 155\n"
     ]
    },
    {
     "name": "stdout",
     "output_type": "stream",
     "text": [
      "\n",
      "(918, 1390, 1168)\n",
      "154\n",
      "158"
     ]
    },
    {
     "name": "stderr",
     "output_type": "stream",
     "text": [
      "No scoremap for section 156\n",
      "No scoremap for section 157\n",
      "No scoremap for section 159\n"
     ]
    },
    {
     "name": "stdout",
     "output_type": "stream",
     "text": [
      "\n",
      "160\n",
      "161\n",
      "162\n",
      "164\n",
      "165\n",
      "166\n",
      "167"
     ]
    },
    {
     "name": "stderr",
     "output_type": "stream",
     "text": [
      "No scoremap for section 163\n",
      "No scoremap for section 168\n"
     ]
    },
    {
     "name": "stdout",
     "output_type": "stream",
     "text": [
      "\n",
      "169\n",
      "170\n",
      "171\n",
      "172\n",
      "173\n",
      "174\n",
      "175\n",
      "176\n",
      "177\n",
      "178\n",
      "179\n",
      "180\n",
      "181\n",
      "182\n",
      "183\n",
      "184\n",
      "185\n",
      "186\n",
      "187\n",
      "188\n",
      "190\n",
      "191\n",
      "192\n",
      "193\n",
      "194\n",
      "195\n",
      "196"
     ]
    },
    {
     "name": "stderr",
     "output_type": "stream",
     "text": [
      "No scoremap for section 189\n",
      "No scoremap for section 197\n"
     ]
    },
    {
     "name": "stdout",
     "output_type": "stream",
     "text": [
      "\n",
      "198\n",
      "199\n",
      "200\n",
      "201\n",
      "203\n",
      "204\n",
      "205\n",
      "206\n",
      "207\n",
      "208\n",
      "209\n",
      "210"
     ]
    },
    {
     "name": "stderr",
     "output_type": "stream",
     "text": [
      "No scoremap for section 202\n",
      "No scoremap for section 211\n"
     ]
    },
    {
     "name": "stdout",
     "output_type": "stream",
     "text": [
      "\n",
      "212\n",
      "213\n",
      "214\n",
      "215\n",
      "216\n",
      "217\n",
      "218\n",
      "219\n",
      "220\n",
      "221\n",
      "222\n",
      "223\n",
      "224\n",
      "225\n",
      "226\n",
      "227\n",
      "228\n",
      "229\n",
      "230\n",
      "231\n",
      "232\n",
      "233\n",
      "234\n",
      "235\n",
      "236\n",
      "237\n",
      "238\n",
      "239\n",
      "240\n",
      "241\n",
      "242\n",
      "243\n",
      "244\n",
      "245\n",
      "246\n",
      "247\n",
      "248\n",
      "249\n",
      "250\n",
      "251\n",
      "252\n",
      "253\n",
      "254\n",
      "255\n",
      "256\n",
      "257\n",
      "258\n",
      "259\n",
      "260\n",
      "261\n",
      "262\n",
      "263\n",
      "264\n",
      "265\n",
      "266\n",
      "267\n",
      "268\n",
      "269\n",
      "270\n",
      "271\n",
      "272\n",
      "273\n",
      "274\n",
      "275\n",
      "277\n",
      "278\n",
      "279\n",
      "280\n",
      "281\n",
      "282\n",
      "283\n",
      "284\n",
      "285\n",
      "286\n",
      "287\n",
      "288\n",
      "289\n",
      "290\n",
      "291\n",
      "292\n",
      "293\n",
      "294\n",
      "295\n",
      "296\n",
      "297\n",
      "298\n",
      "299\n",
      "300\n",
      "98 994\n",
      "238 696\n",
      "418 816\n",
      "Gr"
     ]
    },
    {
     "name": "stderr",
     "output_type": "stream",
     "text": [
      "No scoremap for section 276\n",
      "No scoremap for section 150\n",
      "No scoremap for section 151\n",
      "No scoremap for section 152\n",
      "No scoremap for section 153\n",
      "No scoremap for section 154\n",
      "No scoremap for section 155\n",
      "No scoremap for section 156\n",
      "No scoremap for section 157\n",
      "No scoremap for section 158\n",
      "No scoremap for section 160\n"
     ]
    },
    {
     "name": "stdout",
     "output_type": "stream",
     "text": [
      "\n",
      "(918, 1390, 1168)\n",
      "159\n",
      "165"
     ]
    },
    {
     "name": "stderr",
     "output_type": "stream",
     "text": [
      "No scoremap for section 161\n",
      "No scoremap for section 162\n",
      "No scoremap for section 163\n",
      "No scoremap for section 164\n",
      "No scoremap for section 166\n"
     ]
    },
    {
     "name": "stdout",
     "output_type": "stream",
     "text": [
      "\n",
      "172"
     ]
    },
    {
     "name": "stderr",
     "output_type": "stream",
     "text": [
      "No scoremap for section 167\n",
      "No scoremap for section 168\n",
      "No scoremap for section 169\n",
      "No scoremap for section 170\n",
      "No scoremap for section 171\n",
      "No scoremap for section 173\n"
     ]
    },
    {
     "name": "stdout",
     "output_type": "stream",
     "text": [
      "\n",
      "178"
     ]
    },
    {
     "name": "stderr",
     "output_type": "stream",
     "text": [
      "No scoremap for section 174\n",
      "No scoremap for section 175\n",
      "No scoremap for section 176\n",
      "No scoremap for section 177\n",
      "No scoremap for section 179\n"
     ]
    },
    {
     "name": "stdout",
     "output_type": "stream",
     "text": [
      "\n",
      "183"
     ]
    },
    {
     "name": "stderr",
     "output_type": "stream",
     "text": [
      "No scoremap for section 180\n",
      "No scoremap for section 181\n",
      "No scoremap for section 182\n",
      "No scoremap for section 184\n"
     ]
    },
    {
     "name": "stdout",
     "output_type": "stream",
     "text": [
      "\n",
      "188\n",
      "189"
     ]
    },
    {
     "name": "stderr",
     "output_type": "stream",
     "text": [
      "No scoremap for section 185\n",
      "No scoremap for section 186\n",
      "No scoremap for section 187\n",
      "No scoremap for section 190\n"
     ]
    },
    {
     "name": "stdout",
     "output_type": "stream",
     "text": [
      "\n",
      "193"
     ]
    },
    {
     "name": "stderr",
     "output_type": "stream",
     "text": [
      "No scoremap for section 191\n",
      "No scoremap for section 192\n",
      "No scoremap for section 194\n"
     ]
    },
    {
     "name": "stdout",
     "output_type": "stream",
     "text": [
      "\n",
      "204\n",
      "205"
     ]
    },
    {
     "name": "stderr",
     "output_type": "stream",
     "text": [
      "No scoremap for section 195\n",
      "No scoremap for section 196\n",
      "No scoremap for section 197\n",
      "No scoremap for section 198\n",
      "No scoremap for section 199\n",
      "No scoremap for section 200\n",
      "No scoremap for section 201\n",
      "No scoremap for section 202\n",
      "No scoremap for section 203\n",
      "No scoremap for section 206\n"
     ]
    },
    {
     "name": "stdout",
     "output_type": "stream",
     "text": [
      "\n",
      "212\n",
      "213"
     ]
    },
    {
     "name": "stderr",
     "output_type": "stream",
     "text": [
      "No scoremap for section 207\n",
      "No scoremap for section 208\n",
      "No scoremap for section 209\n",
      "No scoremap for section 210\n",
      "No scoremap for section 211\n",
      "No scoremap for section 214\n"
     ]
    },
    {
     "name": "stdout",
     "output_type": "stream",
     "text": [
      "\n",
      "217"
     ]
    },
    {
     "name": "stderr",
     "output_type": "stream",
     "text": [
      "No scoremap for section 215\n",
      "No scoremap for section 216\n",
      "No scoremap for section 218\n"
     ]
    },
    {
     "name": "stdout",
     "output_type": "stream",
     "text": [
      "\n",
      "221"
     ]
    },
    {
     "name": "stderr",
     "output_type": "stream",
     "text": [
      "No scoremap for section 219\n",
      "No scoremap for section 220\n",
      "No scoremap for section 222\n"
     ]
    },
    {
     "name": "stdout",
     "output_type": "stream",
     "text": [
      "\n",
      "226\n",
      "227\n",
      "228\n",
      "229"
     ]
    },
    {
     "name": "stderr",
     "output_type": "stream",
     "text": [
      "No scoremap for section 223\n",
      "No scoremap for section 224\n",
      "No scoremap for section 225\n",
      "No scoremap for section 230\n"
     ]
    },
    {
     "name": "stdout",
     "output_type": "stream",
     "text": [
      "\n",
      "232\n",
      "233"
     ]
    },
    {
     "name": "stderr",
     "output_type": "stream",
     "text": [
      "No scoremap for section 231\n",
      "No scoremap for section 234\n"
     ]
    },
    {
     "name": "stdout",
     "output_type": "stream",
     "text": [
      "\n",
      "245"
     ]
    },
    {
     "name": "stderr",
     "output_type": "stream",
     "text": [
      "No scoremap for section 235\n",
      "No scoremap for section 236\n",
      "No scoremap for section 237\n",
      "No scoremap for section 238\n",
      "No scoremap for section 239\n",
      "No scoremap for section 240\n",
      "No scoremap for section 241\n",
      "No scoremap for section 242\n",
      "No scoremap for section 243\n",
      "No scoremap for section 244\n",
      "No scoremap for section 246\n"
     ]
    },
    {
     "name": "stdout",
     "output_type": "stream",
     "text": [
      "\n",
      "248"
     ]
    },
    {
     "name": "stderr",
     "output_type": "stream",
     "text": [
      "No scoremap for section 247\n",
      "No scoremap for section 249\n"
     ]
    },
    {
     "name": "stdout",
     "output_type": "stream",
     "text": [
      "\n",
      "251"
     ]
    },
    {
     "name": "stderr",
     "output_type": "stream",
     "text": [
      "No scoremap for section 250\n",
      "No scoremap for section 252\n"
     ]
    },
    {
     "name": "stdout",
     "output_type": "stream",
     "text": [
      "\n",
      "253\n",
      "254\n",
      "255\n",
      "256\n",
      "257\n",
      "258\n",
      "259\n",
      "260\n",
      "261\n",
      "262\n",
      "263\n",
      "264\n",
      "265\n",
      "266\n",
      "267\n",
      "268\n",
      "269\n",
      "270\n",
      "271\n",
      "273\n",
      "274\n",
      "275"
     ]
    },
    {
     "name": "stderr",
     "output_type": "stream",
     "text": [
      "No scoremap for section 272\n",
      "No scoremap for section 276\n"
     ]
    },
    {
     "name": "stdout",
     "output_type": "stream",
     "text": [
      "\n",
      "277\n",
      "278\n",
      "279\n",
      "280\n",
      "281\n",
      "282\n",
      "283\n",
      "284\n",
      "285\n",
      "286\n",
      "287\n",
      "288\n",
      "289\n",
      "290\n",
      "291\n",
      "292\n",
      "293\n",
      "294\n",
      "295\n",
      "296\n",
      "297\n",
      "298\n",
      "299\n",
      "300\n",
      "98 994\n",
      "239 680\n",
      "432 816\n",
      "LVe"
     ]
    },
    {
     "name": "stderr",
     "output_type": "stream",
     "text": [
      "No scoremap for section 150\n",
      "No scoremap for section 151\n",
      "No scoremap for section 152\n",
      "No scoremap for section 153\n",
      "No scoremap for section 155\n"
     ]
    },
    {
     "name": "stdout",
     "output_type": "stream",
     "text": [
      "\n",
      "(918, 1390, 1168)\n",
      "154\n",
      "158"
     ]
    },
    {
     "name": "stderr",
     "output_type": "stream",
     "text": [
      "No scoremap for section 156\n",
      "No scoremap for section 157\n",
      "No scoremap for section 159\n"
     ]
    },
    {
     "name": "stdout",
     "output_type": "stream",
     "text": [
      "\n",
      "164"
     ]
    },
    {
     "name": "stderr",
     "output_type": "stream",
     "text": [
      "No scoremap for section 160\n",
      "No scoremap for section 161\n",
      "No scoremap for section 162\n",
      "No scoremap for section 163\n",
      "No scoremap for section 165\n"
     ]
    },
    {
     "name": "stdout",
     "output_type": "stream",
     "text": [
      "\n",
      "166\n",
      "168\n",
      "169"
     ]
    },
    {
     "name": "stderr",
     "output_type": "stream",
     "text": [
      "No scoremap for section 167\n",
      "No scoremap for section 170\n"
     ]
    },
    {
     "name": "stdout",
     "output_type": "stream",
     "text": [
      "\n",
      "171\n",
      "172\n",
      "173\n",
      "174\n",
      "175\n",
      "176\n",
      "177\n",
      "178\n",
      "179\n",
      "180\n",
      "181\n",
      "182\n",
      "183\n",
      "184\n",
      "185\n",
      "187\n",
      "188\n",
      "189\n",
      "190\n",
      "191"
     ]
    },
    {
     "name": "stderr",
     "output_type": "stream",
     "text": [
      "No scoremap for section 186\n",
      "No scoremap for section 192\n"
     ]
    },
    {
     "name": "stdout",
     "output_type": "stream",
     "text": [
      "\n",
      "193\n",
      "194\n",
      "195\n",
      "196\n",
      "198\n",
      "199\n",
      "200\n",
      "201\n",
      "202\n",
      "203"
     ]
    },
    {
     "name": "stderr",
     "output_type": "stream",
     "text": [
      "No scoremap for section 197\n",
      "No scoremap for section 204\n"
     ]
    },
    {
     "name": "stdout",
     "output_type": "stream",
     "text": [
      "\n",
      "205\n",
      "226"
     ]
    },
    {
     "name": "stderr",
     "output_type": "stream",
     "text": [
      "No scoremap for section 206\n",
      "No scoremap for section 207\n",
      "No scoremap for section 208\n",
      "No scoremap for section 209\n",
      "No scoremap for section 210\n",
      "No scoremap for section 211\n",
      "No scoremap for section 212\n",
      "No scoremap for section 213\n",
      "No scoremap for section 214\n",
      "No scoremap for section 215\n",
      "No scoremap for section 216\n",
      "No scoremap for section 217\n",
      "No scoremap for section 218\n",
      "No scoremap for section 219\n",
      "No scoremap for section 220\n",
      "No scoremap for section 221\n",
      "No scoremap for section 222\n",
      "No scoremap for section 223\n",
      "No scoremap for section 224\n",
      "No scoremap for section 225\n",
      "No scoremap for section 227\n"
     ]
    },
    {
     "name": "stdout",
     "output_type": "stream",
     "text": [
      "\n",
      "228\n",
      "229\n",
      "230\n",
      "231\n",
      "232\n",
      "233\n",
      "234\n",
      "235\n",
      "237"
     ]
    },
    {
     "name": "stderr",
     "output_type": "stream",
     "text": [
      "No scoremap for section 236\n",
      "No scoremap for section 238\n"
     ]
    },
    {
     "name": "stdout",
     "output_type": "stream",
     "text": [
      "\n",
      "239\n",
      "240\n",
      "241\n",
      "242\n",
      "244\n",
      "245\n",
      "246\n",
      "247\n",
      "248\n",
      "249"
     ]
    },
    {
     "name": "stderr",
     "output_type": "stream",
     "text": [
      "No scoremap for section 243\n",
      "No scoremap for section 250\n"
     ]
    },
    {
     "name": "stdout",
     "output_type": "stream",
     "text": [
      "\n",
      "253\n",
      "254\n",
      "255\n",
      "256\n",
      "257\n",
      "258\n",
      "259\n",
      "260\n",
      "261\n",
      "262\n",
      "263\n",
      "264"
     ]
    },
    {
     "name": "stderr",
     "output_type": "stream",
     "text": [
      "No scoremap for section 251\n",
      "No scoremap for section 252\n",
      "No scoremap for section 265\n"
     ]
    },
    {
     "name": "stdout",
     "output_type": "stream",
     "text": [
      "\n",
      "266\n",
      "272\n",
      "273"
     ]
    },
    {
     "name": "stderr",
     "output_type": "stream",
     "text": [
      "No scoremap for section 267\n",
      "No scoremap for section 268\n",
      "No scoremap for section 269\n",
      "No scoremap for section 270\n",
      "No scoremap for section 271\n",
      "No scoremap for section 274\n"
     ]
    },
    {
     "name": "stdout",
     "output_type": "stream",
     "text": [
      "\n",
      "278"
     ]
    },
    {
     "name": "stderr",
     "output_type": "stream",
     "text": [
      "No scoremap for section 275\n",
      "No scoremap for section 276\n",
      "No scoremap for section 277\n",
      "No scoremap for section 279\n"
     ]
    },
    {
     "name": "stdout",
     "output_type": "stream",
     "text": [
      "\n",
      "280\n",
      "282\n",
      "283\n",
      "284\n",
      "285\n",
      "286\n",
      "287\n",
      "288\n",
      "289\n",
      "290\n",
      "291\n",
      "292\n",
      "293\n",
      "294\n",
      "295\n",
      "296\n",
      "297\n",
      "298\n",
      "299\n",
      "300\n",
      "98 994\n",
      "238 696\n",
      "418 816\n",
      "Pn\n",
      "(918, 1390, 1168)\n",
      "150\n",
      "151\n",
      "152\n",
      "153\n",
      "154\n",
      "155\n",
      "156"
     ]
    },
    {
     "name": "stderr",
     "output_type": "stream",
     "text": [
      "No scoremap for section 281\n",
      "No scoremap for section 157\n"
     ]
    },
    {
     "name": "stdout",
     "output_type": "stream",
     "text": [
      "\n",
      "158\n",
      "159\n",
      "160\n",
      "161\n",
      "162\n",
      "163\n",
      "164\n",
      "165\n",
      "166\n",
      "167\n",
      "168\n",
      "169\n",
      "170\n",
      "171\n",
      "172\n",
      "173\n",
      "174\n",
      "175\n",
      "176\n",
      "177\n",
      "178\n",
      "179\n",
      "180\n",
      "181\n",
      "182\n",
      "183\n",
      "184\n",
      "185\n",
      "186\n",
      "187\n",
      "188\n",
      "189\n",
      "190\n",
      "191\n",
      "192\n",
      "193\n",
      "194\n",
      "195\n",
      "196\n",
      "198\n",
      "199\n",
      "200\n",
      "201\n",
      "202\n",
      "203\n",
      "204\n",
      "205\n",
      "206\n",
      "207\n",
      "208\n",
      "209\n",
      "210\n",
      "211\n",
      "212\n",
      "213\n",
      "214\n",
      "215\n",
      "216\n",
      "217\n",
      "218\n",
      "219\n",
      "220\n",
      "221\n",
      "222\n",
      "223\n",
      "224\n",
      "225\n",
      "226\n",
      "227\n",
      "228\n",
      "229\n",
      "230\n",
      "231\n",
      "232\n",
      "233\n",
      "234\n",
      "235\n",
      "236\n",
      "237\n",
      "238\n",
      "239\n",
      "240\n",
      "241\n",
      "242\n",
      "243\n",
      "244\n",
      "245\n",
      "246\n",
      "247\n",
      "248\n",
      "249\n",
      "250\n",
      "251\n",
      "252\n",
      "253\n",
      "254\n",
      "255\n",
      "256\n",
      "257\n",
      "258\n",
      "259\n",
      "260\n",
      "261\n",
      "262\n",
      "263\n",
      "264\n",
      "265\n",
      "266\n",
      "267\n",
      "268\n",
      "269\n",
      "270\n",
      "271\n",
      "272\n",
      "273\n",
      "274\n",
      "275"
     ]
    },
    {
     "name": "stderr",
     "output_type": "stream",
     "text": [
      "No scoremap for section 197\n",
      "No scoremap for section 276\n"
     ]
    },
    {
     "name": "stdout",
     "output_type": "stream",
     "text": [
      "\n",
      "277\n",
      "278\n",
      "279\n",
      "280\n",
      "281\n",
      "282\n",
      "283\n",
      "284\n",
      "285\n",
      "286\n",
      "287\n",
      "288\n",
      "289\n",
      "290\n",
      "291\n",
      "292\n",
      "293\n",
      "294\n",
      "295\n",
      "296\n",
      "297\n",
      "298\n",
      "299\n",
      "300\n",
      "98 994\n",
      "238 696\n",
      "407 816\n",
      "SuVe"
     ]
    },
    {
     "name": "stderr",
     "output_type": "stream",
     "text": [
      "No scoremap for section 150\n",
      "No scoremap for section 151\n",
      "No scoremap for section 152\n",
      "No scoremap for section 153\n",
      "No scoremap for section 154\n",
      "No scoremap for section 156\n"
     ]
    },
    {
     "name": "stdout",
     "output_type": "stream",
     "text": [
      "\n",
      "(918, 1390, 1168)\n",
      "155\n",
      "157\n",
      "163"
     ]
    },
    {
     "name": "stderr",
     "output_type": "stream",
     "text": [
      "No scoremap for section 158\n",
      "No scoremap for section 159\n",
      "No scoremap for section 160\n",
      "No scoremap for section 161\n",
      "No scoremap for section 162\n",
      "No scoremap for section 164\n"
     ]
    },
    {
     "name": "stdout",
     "output_type": "stream",
     "text": [
      "\n",
      "167"
     ]
    },
    {
     "name": "stderr",
     "output_type": "stream",
     "text": [
      "No scoremap for section 165\n",
      "No scoremap for section 166\n",
      "No scoremap for section 168\n"
     ]
    },
    {
     "name": "stdout",
     "output_type": "stream",
     "text": [
      "\n",
      "172"
     ]
    },
    {
     "name": "stderr",
     "output_type": "stream",
     "text": [
      "No scoremap for section 169\n",
      "No scoremap for section 170\n",
      "No scoremap for section 171\n",
      "No scoremap for section 173\n"
     ]
    },
    {
     "name": "stdout",
     "output_type": "stream",
     "text": [
      "\n",
      "177\n",
      "178"
     ]
    },
    {
     "name": "stderr",
     "output_type": "stream",
     "text": [
      "No scoremap for section 174\n",
      "No scoremap for section 175\n",
      "No scoremap for section 176\n",
      "No scoremap for section 179\n"
     ]
    },
    {
     "name": "stdout",
     "output_type": "stream",
     "text": [
      "\n",
      "182\n",
      "183\n",
      "184"
     ]
    },
    {
     "name": "stderr",
     "output_type": "stream",
     "text": [
      "No scoremap for section 180\n",
      "No scoremap for section 181\n",
      "No scoremap for section 185\n"
     ]
    },
    {
     "name": "stdout",
     "output_type": "stream",
     "text": [
      "\n",
      "187\n",
      "188"
     ]
    },
    {
     "name": "stderr",
     "output_type": "stream",
     "text": [
      "No scoremap for section 186\n",
      "No scoremap for section 189\n"
     ]
    },
    {
     "name": "stdout",
     "output_type": "stream",
     "text": [
      "\n",
      "204"
     ]
    },
    {
     "name": "stderr",
     "output_type": "stream",
     "text": [
      "No scoremap for section 190\n",
      "No scoremap for section 191\n",
      "No scoremap for section 192\n",
      "No scoremap for section 193\n",
      "No scoremap for section 194\n",
      "No scoremap for section 195\n",
      "No scoremap for section 196\n",
      "No scoremap for section 197\n",
      "No scoremap for section 198\n",
      "No scoremap for section 199\n",
      "No scoremap for section 200\n",
      "No scoremap for section 201\n",
      "No scoremap for section 202\n",
      "No scoremap for section 203\n",
      "No scoremap for section 205\n"
     ]
    },
    {
     "name": "stdout",
     "output_type": "stream",
     "text": [
      "\n",
      "235"
     ]
    },
    {
     "name": "stderr",
     "output_type": "stream",
     "text": [
      "No scoremap for section 206\n",
      "No scoremap for section 207\n",
      "No scoremap for section 208\n",
      "No scoremap for section 209\n",
      "No scoremap for section 210\n",
      "No scoremap for section 211\n",
      "No scoremap for section 212\n",
      "No scoremap for section 213\n",
      "No scoremap for section 214\n",
      "No scoremap for section 215\n",
      "No scoremap for section 216\n",
      "No scoremap for section 217\n",
      "No scoremap for section 218\n",
      "No scoremap for section 219\n",
      "No scoremap for section 220\n",
      "No scoremap for section 221\n",
      "No scoremap for section 222\n",
      "No scoremap for section 223\n",
      "No scoremap for section 224\n",
      "No scoremap for section 225\n",
      "No scoremap for section 226\n",
      "No scoremap for section 227\n",
      "No scoremap for section 228\n",
      "No scoremap for section 229\n",
      "No scoremap for section 230\n",
      "No scoremap for section 231\n",
      "No scoremap for section 232\n",
      "No scoremap for section 233\n",
      "No scoremap for section 234\n",
      "No scoremap for section 236\n"
     ]
    },
    {
     "name": "stdout",
     "output_type": "stream",
     "text": [
      "\n",
      "248"
     ]
    },
    {
     "name": "stderr",
     "output_type": "stream",
     "text": [
      "No scoremap for section 237\n",
      "No scoremap for section 238\n",
      "No scoremap for section 239\n",
      "No scoremap for section 240\n",
      "No scoremap for section 241\n",
      "No scoremap for section 242\n",
      "No scoremap for section 243\n",
      "No scoremap for section 244\n",
      "No scoremap for section 245\n",
      "No scoremap for section 246\n",
      "No scoremap for section 247\n",
      "No scoremap for section 249\n"
     ]
    },
    {
     "name": "stdout",
     "output_type": "stream",
     "text": [
      "\n",
      "254"
     ]
    },
    {
     "name": "stderr",
     "output_type": "stream",
     "text": [
      "No scoremap for section 250\n",
      "No scoremap for section 251\n",
      "No scoremap for section 252\n",
      "No scoremap for section 253\n",
      "No scoremap for section 255\n"
     ]
    },
    {
     "name": "stdout",
     "output_type": "stream",
     "text": [
      "\n",
      "263"
     ]
    },
    {
     "name": "stderr",
     "output_type": "stream",
     "text": [
      "No scoremap for section 256\n",
      "No scoremap for section 257\n",
      "No scoremap for section 258\n",
      "No scoremap for section 259\n",
      "No scoremap for section 260\n",
      "No scoremap for section 261\n",
      "No scoremap for section 262\n",
      "No scoremap for section 264\n"
     ]
    },
    {
     "name": "stdout",
     "output_type": "stream",
     "text": [
      "\n",
      "277\n",
      "278"
     ]
    },
    {
     "name": "stderr",
     "output_type": "stream",
     "text": [
      "No scoremap for section 265\n",
      "No scoremap for section 266\n",
      "No scoremap for section 267\n",
      "No scoremap for section 268\n",
      "No scoremap for section 269\n",
      "No scoremap for section 270\n",
      "No scoremap for section 271\n",
      "No scoremap for section 272\n",
      "No scoremap for section 273\n",
      "No scoremap for section 274\n",
      "No scoremap for section 275\n",
      "No scoremap for section 276\n",
      "No scoremap for section 279\n"
     ]
    },
    {
     "name": "stdout",
     "output_type": "stream",
     "text": [
      "\n",
      "280\n",
      "281\n",
      "289"
     ]
    },
    {
     "name": "stderr",
     "output_type": "stream",
     "text": [
      "No scoremap for section 282\n",
      "No scoremap for section 283\n",
      "No scoremap for section 284\n",
      "No scoremap for section 285\n",
      "No scoremap for section 286\n",
      "No scoremap for section 287\n",
      "No scoremap for section 288\n",
      "No scoremap for section 290\n"
     ]
    },
    {
     "name": "stdout",
     "output_type": "stream",
     "text": [
      "\n",
      "292"
     ]
    },
    {
     "name": "stderr",
     "output_type": "stream",
     "text": [
      "No scoremap for section 291\n",
      "No scoremap for section 293\n"
     ]
    },
    {
     "name": "stdout",
     "output_type": "stream",
     "text": [
      "\n",
      "294\n",
      "296"
     ]
    },
    {
     "name": "stderr",
     "output_type": "stream",
     "text": [
      "No scoremap for section 295\n",
      "No scoremap for section 297\n"
     ]
    },
    {
     "name": "stdout",
     "output_type": "stream",
     "text": [
      "\n",
      "298\n",
      "98 994\n",
      "238 692\n",
      "421 811\n",
      "VLL\n",
      "(918, 1390, 1168)\n",
      "150\n",
      "151\n",
      "152\n",
      "153\n",
      "154\n",
      "155\n",
      "156\n",
      "157\n",
      "158\n",
      "159\n",
      "160\n",
      "161\n",
      "162\n",
      "163\n",
      "164\n",
      "165\n",
      "166\n",
      "167\n",
      "168\n",
      "169"
     ]
    },
    {
     "name": "stderr",
     "output_type": "stream",
     "text": [
      "No scoremap for section 299\n",
      "No scoremap for section 300\n",
      "No scoremap for section 170\n"
     ]
    },
    {
     "name": "stdout",
     "output_type": "stream",
     "text": [
      "\n",
      "171\n",
      "172\n",
      "173\n",
      "174\n",
      "175\n",
      "176\n",
      "177\n",
      "178\n",
      "179\n",
      "180\n",
      "181\n",
      "182\n",
      "183\n",
      "184\n",
      "185\n",
      "186\n",
      "187\n",
      "188\n",
      "189\n",
      "190\n",
      "191\n",
      "192\n",
      "193\n",
      "194\n",
      "195\n",
      "196\n",
      "198\n",
      "199\n",
      "200\n",
      "201\n",
      "202\n",
      "203\n",
      "204\n",
      "205\n",
      "206\n",
      "207\n",
      "208\n",
      "209\n",
      "210\n",
      "211\n",
      "212\n",
      "213\n",
      "214\n",
      "215\n",
      "216\n",
      "217\n",
      "218\n",
      "219\n",
      "220\n",
      "221\n",
      "222\n",
      "223\n",
      "224\n",
      "225\n",
      "226\n",
      "227\n",
      "228\n",
      "229\n",
      "230\n",
      "231\n",
      "232\n",
      "233\n",
      "234\n",
      "235\n",
      "236\n",
      "237\n",
      "238\n",
      "239\n",
      "240\n",
      "241\n",
      "242\n",
      "243\n",
      "244\n",
      "245\n",
      "246\n",
      "247\n",
      "248\n",
      "249\n",
      "250\n",
      "251\n",
      "252\n",
      "253\n",
      "254\n",
      "255\n",
      "256\n",
      "257\n",
      "258\n",
      "259\n",
      "260\n",
      "261\n",
      "262\n",
      "263\n",
      "264\n",
      "265\n",
      "266\n",
      "267\n",
      "268\n",
      "269\n",
      "270\n",
      "271\n",
      "272\n",
      "273\n",
      "274\n",
      "275"
     ]
    },
    {
     "name": "stderr",
     "output_type": "stream",
     "text": [
      "No scoremap for section 197\n",
      "No scoremap for section 276\n"
     ]
    },
    {
     "name": "stdout",
     "output_type": "stream",
     "text": [
      "\n",
      "277\n",
      "278\n",
      "279\n",
      "280\n",
      "281\n",
      "282\n",
      "283\n",
      "284\n",
      "285\n",
      "286\n",
      "287\n",
      "288\n",
      "289\n",
      "290\n",
      "291\n",
      "292\n",
      "293\n",
      "294\n",
      "295\n",
      "296\n",
      "297\n",
      "298\n",
      "299\n",
      "300\n",
      "98 994\n",
      "238 696\n",
      "407 816\n",
      "98 238 407\n",
      "994 696 816\n",
      "96 352\n",
      "147 302\n",
      "399 822\n",
      "5N\n",
      "(948, 1522, 1141)\n",
      "147\n",
      "148\n",
      "149\n",
      "150\n",
      "151\n",
      "152\n",
      "154\n",
      "155\n",
      "156\n",
      "157\n",
      "158\n",
      "159\n",
      "160\n",
      "161\n",
      "162\n",
      "163\n",
      "164\n",
      "165\n",
      "166\n",
      "167\n",
      "168\n",
      "169\n",
      "170\n",
      "171\n",
      "172\n",
      "173\n",
      "174\n",
      "175\n",
      "176\n",
      "177\n",
      "178\n",
      "179\n",
      "180\n",
      "181\n",
      "182\n",
      "183\n",
      "184\n",
      "185\n",
      "186\n",
      "187\n",
      "188\n",
      "189\n",
      "190\n",
      "191\n",
      "192\n",
      "193\n",
      "194\n",
      "195\n",
      "196\n",
      "197\n",
      "198\n",
      "199\n",
      "200\n",
      "201\n",
      "202\n",
      "203\n",
      "204\n",
      "205\n",
      "206\n",
      "207\n",
      "208\n",
      "209\n",
      "210\n",
      "211\n",
      "212\n",
      "213"
     ]
    },
    {
     "name": "stderr",
     "output_type": "stream",
     "text": [
      "No scoremap for section 153\n",
      "No scoremap for section 214\n"
     ]
    },
    {
     "name": "stdout",
     "output_type": "stream",
     "text": [
      "\n",
      "215\n",
      "216\n",
      "217\n",
      "218\n",
      "219\n",
      "220\n",
      "221\n",
      "222\n",
      "223\n",
      "224\n",
      "225\n",
      "226\n",
      "227\n",
      "228\n",
      "229\n",
      "230\n",
      "231\n",
      "232\n",
      "233\n",
      "234\n",
      "235\n",
      "236\n",
      "237\n",
      "238\n",
      "239\n",
      "240\n",
      "241\n",
      "242\n",
      "243\n",
      "244\n",
      "245\n",
      "246\n",
      "247\n",
      "248\n",
      "249\n",
      "250\n",
      "251\n",
      "252\n",
      "253\n",
      "254\n",
      "255\n",
      "256\n",
      "257\n",
      "258\n",
      "260\n",
      "261\n",
      "262\n",
      "263\n",
      "264\n",
      "265"
     ]
    },
    {
     "name": "stderr",
     "output_type": "stream",
     "text": [
      "No scoremap for section 259\n",
      "No scoremap for section 266\n"
     ]
    },
    {
     "name": "stdout",
     "output_type": "stream",
     "text": [
      "\n",
      "267\n",
      "268\n",
      "269\n",
      "270\n",
      "271\n",
      "272\n",
      "273\n",
      "274\n",
      "275\n",
      "277\n",
      "278\n",
      "279\n",
      "280\n",
      "281\n",
      "282\n",
      "283\n",
      "284\n",
      "285\n",
      "286\n",
      "287\n",
      "288\n",
      "289\n",
      "290\n",
      "291\n",
      "292\n",
      "293\n",
      "294\n",
      "295\n",
      "296\n",
      "297\n",
      "298\n",
      "299\n",
      "300\n",
      "301\n",
      "302\n",
      "116 1046\n",
      "235 668\n",
      "399 822\n",
      "7n\n",
      "(948, 1522, 1141)\n",
      "147\n",
      "148\n",
      "149\n",
      "150\n",
      "151\n",
      "152"
     ]
    },
    {
     "name": "stderr",
     "output_type": "stream",
     "text": [
      "No scoremap for section 276\n",
      "No scoremap for section 153\n"
     ]
    },
    {
     "name": "stdout",
     "output_type": "stream",
     "text": [
      "\n",
      "154\n",
      "155\n",
      "156\n",
      "157\n",
      "158\n",
      "160\n",
      "161\n",
      "162"
     ]
    },
    {
     "name": "stderr",
     "output_type": "stream",
     "text": [
      "No scoremap for section 159\n",
      "No scoremap for section 163\n"
     ]
    },
    {
     "name": "stdout",
     "output_type": "stream",
     "text": [
      "\n",
      "164\n",
      "168"
     ]
    },
    {
     "name": "stderr",
     "output_type": "stream",
     "text": [
      "No scoremap for section 165\n",
      "No scoremap for section 166\n",
      "No scoremap for section 167\n",
      "No scoremap for section 169\n"
     ]
    },
    {
     "name": "stdout",
     "output_type": "stream",
     "text": [
      "\n",
      "197\n",
      "198\n",
      "199"
     ]
    },
    {
     "name": "stderr",
     "output_type": "stream",
     "text": [
      "No scoremap for section 170\n",
      "No scoremap for section 171\n",
      "No scoremap for section 172\n",
      "No scoremap for section 173\n",
      "No scoremap for section 174\n",
      "No scoremap for section 175\n",
      "No scoremap for section 176\n",
      "No scoremap for section 177\n",
      "No scoremap for section 178\n",
      "No scoremap for section 179\n",
      "No scoremap for section 180\n",
      "No scoremap for section 181\n",
      "No scoremap for section 182\n",
      "No scoremap for section 183\n",
      "No scoremap for section 184\n",
      "No scoremap for section 185\n",
      "No scoremap for section 186\n",
      "No scoremap for section 187\n",
      "No scoremap for section 188\n",
      "No scoremap for section 189\n",
      "No scoremap for section 190\n",
      "No scoremap for section 191\n",
      "No scoremap for section 192\n",
      "No scoremap for section 193\n",
      "No scoremap for section 194\n",
      "No scoremap for section 195\n",
      "No scoremap for section 196\n",
      "No scoremap for section 200\n"
     ]
    },
    {
     "name": "stdout",
     "output_type": "stream",
     "text": [
      "\n",
      "204"
     ]
    },
    {
     "name": "stderr",
     "output_type": "stream",
     "text": [
      "No scoremap for section 201\n",
      "No scoremap for section 202\n",
      "No scoremap for section 203\n",
      "No scoremap for section 205\n"
     ]
    },
    {
     "name": "stdout",
     "output_type": "stream",
     "text": [
      "\n",
      "210"
     ]
    },
    {
     "name": "stderr",
     "output_type": "stream",
     "text": [
      "No scoremap for section 206\n",
      "No scoremap for section 207\n",
      "No scoremap for section 208\n",
      "No scoremap for section 209\n",
      "No scoremap for section 211\n"
     ]
    },
    {
     "name": "stdout",
     "output_type": "stream",
     "text": [
      "\n",
      "212\n",
      "217\n",
      "218\n",
      "219\n",
      "220\n",
      "221\n",
      "222\n",
      "223"
     ]
    },
    {
     "name": "stderr",
     "output_type": "stream",
     "text": [
      "No scoremap for section 213\n",
      "No scoremap for section 214\n",
      "No scoremap for section 215\n",
      "No scoremap for section 216\n",
      "No scoremap for section 224\n"
     ]
    },
    {
     "name": "stdout",
     "output_type": "stream",
     "text": [
      "\n",
      "225\n",
      "229"
     ]
    },
    {
     "name": "stderr",
     "output_type": "stream",
     "text": [
      "No scoremap for section 226\n",
      "No scoremap for section 227\n",
      "No scoremap for section 228\n",
      "No scoremap for section 230\n"
     ]
    },
    {
     "name": "stdout",
     "output_type": "stream",
     "text": [
      "\n",
      "249"
     ]
    },
    {
     "name": "stderr",
     "output_type": "stream",
     "text": [
      "No scoremap for section 231\n",
      "No scoremap for section 232\n",
      "No scoremap for section 233\n",
      "No scoremap for section 234\n",
      "No scoremap for section 235\n",
      "No scoremap for section 236\n",
      "No scoremap for section 237\n",
      "No scoremap for section 238\n",
      "No scoremap for section 239\n",
      "No scoremap for section 240\n",
      "No scoremap for section 241\n",
      "No scoremap for section 242\n",
      "No scoremap for section 243\n",
      "No scoremap for section 244\n",
      "No scoremap for section 245\n",
      "No scoremap for section 246\n",
      "No scoremap for section 247\n",
      "No scoremap for section 248\n",
      "No scoremap for section 250\n"
     ]
    },
    {
     "name": "stdout",
     "output_type": "stream",
     "text": [
      "\n",
      "251\n",
      "253\n",
      "254\n",
      "255\n",
      "256\n",
      "257\n",
      "258"
     ]
    },
    {
     "name": "stderr",
     "output_type": "stream",
     "text": [
      "No scoremap for section 252\n",
      "No scoremap for section 259\n"
     ]
    },
    {
     "name": "stdout",
     "output_type": "stream",
     "text": [
      "\n",
      "261\n",
      "262\n",
      "263"
     ]
    },
    {
     "name": "stderr",
     "output_type": "stream",
     "text": [
      "No scoremap for section 260\n",
      "No scoremap for section 264\n"
     ]
    },
    {
     "name": "stdout",
     "output_type": "stream",
     "text": [
      "\n",
      "265\n",
      "269"
     ]
    },
    {
     "name": "stderr",
     "output_type": "stream",
     "text": [
      "No scoremap for section 266\n",
      "No scoremap for section 267\n",
      "No scoremap for section 268\n",
      "No scoremap for section 270\n"
     ]
    },
    {
     "name": "stdout",
     "output_type": "stream",
     "text": [
      "\n",
      "271\n",
      "272\n",
      "273\n",
      "274\n",
      "275\n",
      "277\n",
      "278\n",
      "279"
     ]
    },
    {
     "name": "stderr",
     "output_type": "stream",
     "text": [
      "No scoremap for section 276\n",
      "No scoremap for section 280\n"
     ]
    },
    {
     "name": "stdout",
     "output_type": "stream",
     "text": [
      "\n",
      "281\n",
      "282\n",
      "283\n",
      "284\n",
      "285\n",
      "286\n",
      "287\n",
      "288\n",
      "289\n",
      "290\n",
      "291\n",
      "292\n",
      "293\n",
      "294\n",
      "295\n",
      "296\n",
      "297\n",
      "298\n",
      "299\n",
      "134 1018\n",
      "235 646\n",
      "399 814\n",
      "7N\n",
      "(948, 1522, 1141)\n",
      "147\n",
      "148\n",
      "149\n",
      "150\n",
      "151\n",
      "152"
     ]
    },
    {
     "name": "stderr",
     "output_type": "stream",
     "text": [
      "No scoremap for section 300\n",
      "No scoremap for section 301\n",
      "No scoremap for section 302\n",
      "No scoremap for section 153\n"
     ]
    },
    {
     "name": "stdout",
     "output_type": "stream",
     "text": [
      "\n",
      "154\n",
      "155\n",
      "156\n",
      "157\n",
      "158\n",
      "159\n",
      "160\n",
      "161\n",
      "162\n",
      "163\n",
      "164\n",
      "165\n",
      "166\n",
      "167\n",
      "168\n",
      "169\n",
      "170\n",
      "171\n",
      "172\n",
      "173\n",
      "174\n",
      "175\n",
      "176\n",
      "177\n",
      "178\n",
      "179\n",
      "180\n",
      "181\n",
      "182\n",
      "183\n",
      "184\n",
      "185\n",
      "186\n",
      "187\n",
      "188\n",
      "189\n",
      "190\n",
      "191\n",
      "192\n",
      "193\n",
      "194\n",
      "195\n",
      "196\n",
      "197\n",
      "198\n",
      "199\n",
      "200\n",
      "201\n",
      "202\n",
      "203\n",
      "204\n",
      "205\n",
      "206\n",
      "207\n",
      "208\n",
      "209\n",
      "210\n",
      "211\n",
      "212\n",
      "213\n",
      "215\n",
      "216\n",
      "217\n",
      "218\n",
      "219\n",
      "220\n",
      "221\n",
      "222\n",
      "223\n",
      "224\n",
      "225\n",
      "226\n",
      "227\n",
      "228\n",
      "229\n",
      "230\n",
      "231\n",
      "232\n",
      "233\n",
      "234\n",
      "235\n",
      "236\n",
      "237\n",
      "238\n",
      "239\n",
      "240\n",
      "241\n",
      "242\n",
      "243\n",
      "244\n",
      "245\n",
      "246\n",
      "247\n",
      "248\n",
      "249\n",
      "250\n",
      "251\n",
      "252\n",
      "253\n",
      "254\n",
      "255\n",
      "256\n",
      "257\n",
      "258"
     ]
    },
    {
     "name": "stderr",
     "output_type": "stream",
     "text": [
      "No scoremap for section 214\n",
      "No scoremap for section 259\n"
     ]
    },
    {
     "name": "stdout",
     "output_type": "stream",
     "text": [
      "\n",
      "260\n",
      "261\n",
      "262\n",
      "263\n",
      "264\n",
      "265\n",
      "267\n",
      "268\n",
      "269\n",
      "270\n",
      "271\n",
      "272\n",
      "273\n",
      "274\n",
      "275"
     ]
    },
    {
     "name": "stderr",
     "output_type": "stream",
     "text": [
      "No scoremap for section 266\n",
      "No scoremap for section 276\n"
     ]
    },
    {
     "name": "stdout",
     "output_type": "stream",
     "text": [
      "\n",
      "277\n",
      "278\n",
      "279\n",
      "280\n",
      "281\n",
      "282\n",
      "283\n",
      "284\n",
      "285\n",
      "286\n",
      "287\n",
      "288\n",
      "289\n",
      "290\n",
      "291\n",
      "292\n",
      "293\n",
      "294\n",
      "295\n",
      "296\n",
      "297\n",
      "298\n",
      "299\n",
      "300\n",
      "301\n",
      "302\n",
      "116 1046\n",
      "235 668\n",
      "399 822\n",
      "12N\n",
      "(948, 1522, 1141)\n",
      "163\n",
      "164"
     ]
    },
    {
     "name": "stderr",
     "output_type": "stream",
     "text": [
      "No scoremap for section 147\n",
      "No scoremap for section 148\n",
      "No scoremap for section 149\n",
      "No scoremap for section 150\n",
      "No scoremap for section 151\n",
      "No scoremap for section 152\n",
      "No scoremap for section 153\n",
      "No scoremap for section 154\n",
      "No scoremap for section 155\n",
      "No scoremap for section 156\n",
      "No scoremap for section 157\n",
      "No scoremap for section 158\n",
      "No scoremap for section 159\n",
      "No scoremap for section 160\n",
      "No scoremap for section 161\n",
      "No scoremap for section 162\n",
      "No scoremap for section 165\n"
     ]
    },
    {
     "name": "stdout",
     "output_type": "stream",
     "text": [
      "\n",
      "172\n",
      "173"
     ]
    },
    {
     "name": "stderr",
     "output_type": "stream",
     "text": [
      "No scoremap for section 166\n",
      "No scoremap for section 167\n",
      "No scoremap for section 168\n",
      "No scoremap for section 169\n",
      "No scoremap for section 170\n",
      "No scoremap for section 171\n",
      "No scoremap for section 174\n"
     ]
    },
    {
     "name": "stdout",
     "output_type": "stream",
     "text": [
      "\n",
      "177"
     ]
    },
    {
     "name": "stderr",
     "output_type": "stream",
     "text": [
      "No scoremap for section 175\n",
      "No scoremap for section 176\n",
      "No scoremap for section 178\n"
     ]
    },
    {
     "name": "stdout",
     "output_type": "stream",
     "text": [
      "\n",
      "179\n",
      "181\n",
      "182\n",
      "183\n",
      "184\n",
      "185"
     ]
    },
    {
     "name": "stderr",
     "output_type": "stream",
     "text": [
      "No scoremap for section 180\n",
      "No scoremap for section 186\n"
     ]
    },
    {
     "name": "stdout",
     "output_type": "stream",
     "text": [
      "\n",
      "187\n",
      "189\n",
      "190\n",
      "191"
     ]
    },
    {
     "name": "stderr",
     "output_type": "stream",
     "text": [
      "No scoremap for section 188\n",
      "No scoremap for section 192\n"
     ]
    },
    {
     "name": "stdout",
     "output_type": "stream",
     "text": [
      "\n",
      "193\n",
      "195"
     ]
    },
    {
     "name": "stderr",
     "output_type": "stream",
     "text": [
      "No scoremap for section 194\n",
      "No scoremap for section 196\n"
     ]
    },
    {
     "name": "stdout",
     "output_type": "stream",
     "text": [
      "\n",
      "197\n",
      "199\n",
      "200"
     ]
    },
    {
     "name": "stderr",
     "output_type": "stream",
     "text": [
      "No scoremap for section 198\n",
      "No scoremap for section 201\n"
     ]
    },
    {
     "name": "stdout",
     "output_type": "stream",
     "text": [
      "\n",
      "204"
     ]
    },
    {
     "name": "stderr",
     "output_type": "stream",
     "text": [
      "No scoremap for section 202\n",
      "No scoremap for section 203\n",
      "No scoremap for section 205\n"
     ]
    },
    {
     "name": "stdout",
     "output_type": "stream",
     "text": [
      "\n",
      "208"
     ]
    },
    {
     "name": "stderr",
     "output_type": "stream",
     "text": [
      "No scoremap for section 206\n",
      "No scoremap for section 207\n",
      "No scoremap for section 209\n"
     ]
    },
    {
     "name": "stdout",
     "output_type": "stream",
     "text": [
      "\n",
      "220"
     ]
    },
    {
     "name": "stderr",
     "output_type": "stream",
     "text": [
      "No scoremap for section 210\n",
      "No scoremap for section 211\n",
      "No scoremap for section 212\n",
      "No scoremap for section 213\n",
      "No scoremap for section 214\n",
      "No scoremap for section 215\n",
      "No scoremap for section 216\n",
      "No scoremap for section 217\n",
      "No scoremap for section 218\n",
      "No scoremap for section 219\n",
      "No scoremap for section 221\n"
     ]
    },
    {
     "name": "stdout",
     "output_type": "stream",
     "text": [
      "\n",
      "222\n",
      "228"
     ]
    },
    {
     "name": "stderr",
     "output_type": "stream",
     "text": [
      "No scoremap for section 223\n",
      "No scoremap for section 224\n",
      "No scoremap for section 225\n",
      "No scoremap for section 226\n",
      "No scoremap for section 227\n",
      "No scoremap for section 229\n"
     ]
    },
    {
     "name": "stdout",
     "output_type": "stream",
     "text": [
      "\n",
      "234\n",
      "235\n",
      "236"
     ]
    },
    {
     "name": "stderr",
     "output_type": "stream",
     "text": [
      "No scoremap for section 230\n",
      "No scoremap for section 231\n",
      "No scoremap for section 232\n",
      "No scoremap for section 233\n",
      "No scoremap for section 237\n"
     ]
    },
    {
     "name": "stdout",
     "output_type": "stream",
     "text": [
      "\n",
      "238\n",
      "240\n",
      "241\n",
      "242\n",
      "243\n",
      "244\n",
      "245\n",
      "246"
     ]
    },
    {
     "name": "stderr",
     "output_type": "stream",
     "text": [
      "No scoremap for section 239\n",
      "No scoremap for section 247\n"
     ]
    },
    {
     "name": "stdout",
     "output_type": "stream",
     "text": [
      "\n",
      "249\n",
      "250"
     ]
    },
    {
     "name": "stderr",
     "output_type": "stream",
     "text": [
      "No scoremap for section 248\n",
      "No scoremap for section 251\n"
     ]
    },
    {
     "name": "stdout",
     "output_type": "stream",
     "text": [
      "\n",
      "252\n",
      "253\n",
      "254\n",
      "258\n",
      "259"
     ]
    },
    {
     "name": "stderr",
     "output_type": "stream",
     "text": [
      "No scoremap for section 255\n",
      "No scoremap for section 256\n",
      "No scoremap for section 257\n",
      "No scoremap for section 260\n"
     ]
    },
    {
     "name": "stdout",
     "output_type": "stream",
     "text": [
      "\n",
      "262"
     ]
    },
    {
     "name": "stderr",
     "output_type": "stream",
     "text": [
      "No scoremap for section 261\n",
      "No scoremap for section 263\n"
     ]
    },
    {
     "name": "stdout",
     "output_type": "stream",
     "text": [
      "\n",
      "267"
     ]
    },
    {
     "name": "stderr",
     "output_type": "stream",
     "text": [
      "No scoremap for section 264\n",
      "No scoremap for section 265\n",
      "No scoremap for section 266\n",
      "No scoremap for section 268\n"
     ]
    },
    {
     "name": "stdout",
     "output_type": "stream",
     "text": [
      "\n",
      "269\n",
      "270\n",
      "280\n",
      "281\n",
      "282"
     ]
    },
    {
     "name": "stderr",
     "output_type": "stream",
     "text": [
      "No scoremap for section 271\n",
      "No scoremap for section 272\n",
      "No scoremap for section 273\n",
      "No scoremap for section 274\n",
      "No scoremap for section 275\n",
      "No scoremap for section 276\n",
      "No scoremap for section 277\n",
      "No scoremap for section 278\n",
      "No scoremap for section 279\n",
      "No scoremap for section 283\n"
     ]
    },
    {
     "name": "stdout",
     "output_type": "stream",
     "text": [
      "\n",
      "287"
     ]
    },
    {
     "name": "stderr",
     "output_type": "stream",
     "text": [
      "No scoremap for section 284\n",
      "No scoremap for section 285\n",
      "No scoremap for section 286\n",
      "No scoremap for section 288\n"
     ]
    },
    {
     "name": "stdout",
     "output_type": "stream",
     "text": [
      "\n",
      "292\n",
      "293"
     ]
    },
    {
     "name": "stderr",
     "output_type": "stream",
     "text": [
      "No scoremap for section 289\n",
      "No scoremap for section 290\n",
      "No scoremap for section 291\n",
      "No scoremap for section 294\n"
     ]
    },
    {
     "name": "stdout",
     "output_type": "stream",
     "text": [
      "\n",
      "297"
     ]
    },
    {
     "name": "stderr",
     "output_type": "stream",
     "text": [
      "No scoremap for section 295\n",
      "No scoremap for section 296\n",
      "No scoremap for section 298\n"
     ]
    },
    {
     "name": "stdout",
     "output_type": "stream",
     "text": [
      "\n",
      "116 1046\n",
      "235 650\n",
      "442 808\n",
      "Gr"
     ]
    },
    {
     "name": "stderr",
     "output_type": "stream",
     "text": [
      "No scoremap for section 299\n",
      "No scoremap for section 300\n",
      "No scoremap for section 301\n",
      "No scoremap for section 302\n",
      "No scoremap for section 147\n"
     ]
    },
    {
     "name": "stdout",
     "output_type": "stream",
     "text": [
      "\n",
      "(948, 1522, 1141)\n",
      "148\n",
      "151\n",
      "152"
     ]
    },
    {
     "name": "stderr",
     "output_type": "stream",
     "text": [
      "No scoremap for section 149\n",
      "No scoremap for section 150\n",
      "No scoremap for section 153\n"
     ]
    },
    {
     "name": "stdout",
     "output_type": "stream",
     "text": [
      "\n",
      "154\n",
      "155\n",
      "156\n",
      "157\n",
      "158\n",
      "159\n",
      "160\n",
      "161\n",
      "162\n",
      "163\n",
      "164\n",
      "165\n",
      "166\n",
      "167\n",
      "168\n",
      "169\n",
      "170\n",
      "171\n",
      "173\n",
      "174\n",
      "175\n",
      "176\n",
      "177\n",
      "178\n",
      "179\n",
      "180\n",
      "181\n",
      "182\n",
      "183\n",
      "184\n",
      "185\n",
      "186\n",
      "187\n",
      "188\n",
      "189\n",
      "190\n",
      "191\n",
      "192\n",
      "193\n",
      "194\n",
      "195\n",
      "196\n",
      "197\n",
      "198\n",
      "199\n",
      "200\n",
      "201\n",
      "202\n",
      "203\n",
      "204\n",
      "205\n",
      "206\n",
      "207\n",
      "208\n",
      "209\n",
      "210\n",
      "211\n",
      "212\n",
      "213"
     ]
    },
    {
     "name": "stderr",
     "output_type": "stream",
     "text": [
      "No scoremap for section 172\n",
      "No scoremap for section 214\n"
     ]
    },
    {
     "name": "stdout",
     "output_type": "stream",
     "text": [
      "\n",
      "215\n",
      "216\n",
      "217\n",
      "218\n",
      "219\n",
      "220\n",
      "221\n",
      "222\n",
      "223\n",
      "224\n",
      "225\n",
      "226\n",
      "227\n",
      "228\n",
      "229\n",
      "230\n",
      "231\n",
      "232\n",
      "233\n",
      "234\n",
      "235\n",
      "236\n",
      "237\n",
      "238\n",
      "239\n",
      "240\n",
      "241\n",
      "242\n",
      "243\n",
      "244\n",
      "245\n",
      "246\n",
      "247\n",
      "248\n",
      "249\n",
      "250\n",
      "251\n",
      "252\n",
      "253\n",
      "254\n",
      "255\n",
      "256\n",
      "257\n",
      "258\n",
      "260\n",
      "261\n",
      "262\n",
      "263\n",
      "264\n",
      "265"
     ]
    },
    {
     "name": "stderr",
     "output_type": "stream",
     "text": [
      "No scoremap for section 259\n",
      "No scoremap for section 266\n"
     ]
    },
    {
     "name": "stdout",
     "output_type": "stream",
     "text": [
      "\n",
      "267\n",
      "268\n",
      "269\n",
      "270\n",
      "271\n",
      "272\n",
      "273\n",
      "274\n",
      "275\n",
      "277\n",
      "278\n",
      "279\n",
      "280\n",
      "281\n",
      "282\n",
      "283\n",
      "284\n",
      "285\n",
      "286\n",
      "287\n",
      "288\n",
      "289\n",
      "290\n",
      "291\n",
      "292\n",
      "293\n",
      "294\n",
      "295\n",
      "296\n",
      "297\n",
      "298\n",
      "299\n",
      "300\n",
      "301\n",
      "302\n",
      "116 1046\n",
      "235 660\n",
      "402 822\n",
      "LVe"
     ]
    },
    {
     "name": "stderr",
     "output_type": "stream",
     "text": [
      "No scoremap for section 276\n",
      "No scoremap for section 147\n",
      "No scoremap for section 148\n",
      "No scoremap for section 149\n",
      "No scoremap for section 150\n",
      "No scoremap for section 151\n",
      "No scoremap for section 152\n",
      "No scoremap for section 153\n",
      "No scoremap for section 154\n",
      "No scoremap for section 155\n",
      "No scoremap for section 156\n",
      "No scoremap for section 157\n",
      "No scoremap for section 158\n",
      "No scoremap for section 159\n",
      "No scoremap for section 160\n",
      "No scoremap for section 161\n",
      "No scoremap for section 162\n",
      "No scoremap for section 163\n",
      "No scoremap for section 164\n",
      "No scoremap for section 165\n",
      "No scoremap for section 166\n",
      "No scoremap for section 167\n",
      "No scoremap for section 168\n",
      "No scoremap for section 170\n",
      "No scoremap for section 171\n",
      "No scoremap for section 172\n",
      "No scoremap for section 173\n",
      "No scoremap for section 174\n",
      "No scoremap for section 175\n",
      "No scoremap for section 176\n",
      "No scoremap for section 177\n",
      "No scoremap for section 178\n",
      "No scoremap for section 179\n",
      "No scoremap for section 180\n",
      "No scoremap for section 181\n",
      "No scoremap for section 182\n",
      "No scoremap for section 183\n",
      "No scoremap for section 184\n",
      "No scoremap for section 185\n",
      "No scoremap for section 186\n",
      "No scoremap for section 187\n",
      "No scoremap for section 188\n",
      "No scoremap for section 189\n",
      "No scoremap for section 190\n",
      "No scoremap for section 191\n",
      "No scoremap for section 192\n",
      "No scoremap for section 193\n",
      "No scoremap for section 194\n",
      "No scoremap for section 195\n",
      "No scoremap for section 196\n",
      "No scoremap for section 197\n",
      "No scoremap for section 198\n",
      "No scoremap for section 199\n",
      "No scoremap for section 200\n",
      "No scoremap for section 201\n",
      "No scoremap for section 202\n",
      "No scoremap for section 203\n",
      "No scoremap for section 204\n",
      "No scoremap for section 205\n",
      "No scoremap for section 206\n",
      "No scoremap for section 207\n",
      "No scoremap for section 208\n",
      "No scoremap for section 209\n",
      "No scoremap for section 210\n",
      "No scoremap for section 211\n",
      "No scoremap for section 212\n",
      "No scoremap for section 213\n",
      "No scoremap for section 214\n",
      "No scoremap for section 215\n",
      "No scoremap for section 216\n",
      "No scoremap for section 217\n",
      "No scoremap for section 218\n",
      "No scoremap for section 219\n",
      "No scoremap for section 220\n",
      "No scoremap for section 221\n",
      "No scoremap for section 222\n",
      "No scoremap for section 223\n",
      "No scoremap for section 224\n",
      "No scoremap for section 225\n",
      "No scoremap for section 226\n",
      "No scoremap for section 227\n"
     ]
    },
    {
     "name": "stdout",
     "output_type": "stream",
     "text": [
      "\n",
      "(948, 1522, 1141)\n",
      "169\n",
      "229\n",
      "230"
     ]
    },
    {
     "name": "stderr",
     "output_type": "stream",
     "text": [
      "No scoremap for section 228\n",
      "No scoremap for section 231\n"
     ]
    },
    {
     "name": "stdout",
     "output_type": "stream",
     "text": [
      "\n",
      "257"
     ]
    },
    {
     "name": "stderr",
     "output_type": "stream",
     "text": [
      "No scoremap for section 232\n",
      "No scoremap for section 233\n",
      "No scoremap for section 234\n",
      "No scoremap for section 235\n",
      "No scoremap for section 236\n",
      "No scoremap for section 237\n",
      "No scoremap for section 238\n",
      "No scoremap for section 239\n",
      "No scoremap for section 240\n",
      "No scoremap for section 241\n",
      "No scoremap for section 242\n",
      "No scoremap for section 243\n",
      "No scoremap for section 244\n",
      "No scoremap for section 245\n",
      "No scoremap for section 246\n",
      "No scoremap for section 247\n",
      "No scoremap for section 248\n",
      "No scoremap for section 249\n",
      "No scoremap for section 250\n",
      "No scoremap for section 251\n",
      "No scoremap for section 252\n",
      "No scoremap for section 253\n",
      "No scoremap for section 254\n",
      "No scoremap for section 255\n",
      "No scoremap for section 256\n",
      "No scoremap for section 258\n"
     ]
    },
    {
     "name": "stdout",
     "output_type": "stream",
     "text": [
      "\n",
      "271"
     ]
    },
    {
     "name": "stderr",
     "output_type": "stream",
     "text": [
      "No scoremap for section 259\n",
      "No scoremap for section 260\n",
      "No scoremap for section 261\n",
      "No scoremap for section 262\n",
      "No scoremap for section 263\n",
      "No scoremap for section 264\n",
      "No scoremap for section 265\n",
      "No scoremap for section 266\n",
      "No scoremap for section 267\n",
      "No scoremap for section 268\n",
      "No scoremap for section 269\n",
      "No scoremap for section 270\n",
      "No scoremap for section 272\n"
     ]
    },
    {
     "name": "stdout",
     "output_type": "stream",
     "text": [
      "\n",
      "286"
     ]
    },
    {
     "name": "stderr",
     "output_type": "stream",
     "text": [
      "No scoremap for section 273\n",
      "No scoremap for section 274\n",
      "No scoremap for section 275\n",
      "No scoremap for section 276\n",
      "No scoremap for section 277\n",
      "No scoremap for section 278\n",
      "No scoremap for section 279\n",
      "No scoremap for section 280\n",
      "No scoremap for section 281\n",
      "No scoremap for section 282\n",
      "No scoremap for section 283\n",
      "No scoremap for section 284\n",
      "No scoremap for section 285\n",
      "No scoremap for section 287\n"
     ]
    },
    {
     "name": "stdout",
     "output_type": "stream",
     "text": [
      "\n",
      "135 792\n",
      "235 636\n",
      "459 778\n",
      "Pn\n",
      "(948, 1522, 1141)\n",
      "147\n",
      "148\n",
      "149\n",
      "150\n",
      "151\n",
      "152"
     ]
    },
    {
     "name": "stderr",
     "output_type": "stream",
     "text": [
      "No scoremap for section 288\n",
      "No scoremap for section 289\n",
      "No scoremap for section 290\n",
      "No scoremap for section 291\n",
      "No scoremap for section 292\n",
      "No scoremap for section 293\n",
      "No scoremap for section 294\n",
      "No scoremap for section 295\n",
      "No scoremap for section 296\n",
      "No scoremap for section 297\n",
      "No scoremap for section 298\n",
      "No scoremap for section 299\n",
      "No scoremap for section 300\n",
      "No scoremap for section 301\n",
      "No scoremap for section 302\n",
      "No scoremap for section 153\n"
     ]
    },
    {
     "name": "stdout",
     "output_type": "stream",
     "text": [
      "\n",
      "154\n",
      "155\n",
      "156\n",
      "157\n",
      "158\n",
      "159\n",
      "160\n",
      "161\n",
      "162\n",
      "163\n",
      "164\n",
      "165\n",
      "166\n",
      "167\n",
      "168\n",
      "169\n",
      "170\n",
      "171\n",
      "172\n",
      "173\n",
      "174\n",
      "175\n",
      "176\n",
      "177\n",
      "178\n",
      "179\n",
      "180\n",
      "181\n",
      "182\n",
      "183\n",
      "184\n",
      "185\n",
      "186\n",
      "187\n",
      "188\n",
      "189\n",
      "190\n",
      "191\n",
      "192\n",
      "193\n",
      "194\n",
      "195\n",
      "196\n",
      "197\n",
      "198\n",
      "199\n",
      "200\n",
      "201\n",
      "202\n",
      "203\n",
      "204\n",
      "205\n",
      "206\n",
      "207\n",
      "208\n",
      "209\n",
      "210\n",
      "211\n",
      "212\n",
      "213\n",
      "214\n",
      "215\n",
      "216\n",
      "217\n",
      "218\n",
      "219\n",
      "220\n",
      "221\n",
      "222\n",
      "223\n",
      "224\n",
      "225\n",
      "226\n",
      "227\n",
      "228\n",
      "229\n",
      "230\n",
      "231\n",
      "232\n",
      "233\n",
      "234\n",
      "235\n",
      "236\n",
      "237\n",
      "238\n",
      "239\n",
      "240\n",
      "241\n",
      "242\n",
      "243\n",
      "244\n",
      "245\n",
      "246\n",
      "247\n",
      "248\n",
      "249\n",
      "250\n",
      "251\n",
      "252\n",
      "253\n",
      "254\n",
      "255\n",
      "256\n",
      "257\n",
      "258\n",
      "259\n",
      "260\n",
      "261\n",
      "262\n",
      "263\n",
      "264\n",
      "265\n",
      "267\n",
      "268\n",
      "269\n",
      "270\n",
      "271\n",
      "272\n",
      "273\n",
      "274\n",
      "275"
     ]
    },
    {
     "name": "stderr",
     "output_type": "stream",
     "text": [
      "No scoremap for section 266\n",
      "No scoremap for section 276\n"
     ]
    },
    {
     "name": "stdout",
     "output_type": "stream",
     "text": [
      "\n",
      "277\n",
      "278\n",
      "279\n",
      "280\n",
      "281\n",
      "282\n",
      "283\n",
      "284\n",
      "285\n",
      "286\n",
      "287\n",
      "288\n",
      "289\n",
      "290\n",
      "291\n",
      "292\n",
      "293\n",
      "294\n",
      "295\n",
      "296\n",
      "297\n",
      "298\n",
      "299\n",
      "300\n",
      "301\n",
      "302\n",
      "116 1046\n",
      "235 664\n",
      "399 822\n",
      "SuVe\n",
      "(948, 1522, 1141)\n",
      "147\n",
      "148\n",
      "149\n",
      "150\n",
      "151\n",
      "152\n",
      "154\n",
      "155\n",
      "156\n",
      "157\n",
      "158\n",
      "159\n",
      "160\n",
      "161\n",
      "162\n",
      "163\n",
      "164\n",
      "165\n",
      "166\n",
      "167\n",
      "168\n",
      "169\n",
      "170\n",
      "171"
     ]
    },
    {
     "name": "stderr",
     "output_type": "stream",
     "text": [
      "No scoremap for section 153\n",
      "No scoremap for section 172\n"
     ]
    },
    {
     "name": "stdout",
     "output_type": "stream",
     "text": [
      "\n",
      "173\n",
      "174\n",
      "175\n",
      "176\n",
      "177\n",
      "178\n",
      "179\n",
      "180\n",
      "181\n",
      "182\n",
      "183\n",
      "184\n",
      "185\n",
      "186\n",
      "187\n",
      "188\n",
      "189\n",
      "190\n",
      "191\n",
      "192\n",
      "193\n",
      "194\n",
      "195\n",
      "196\n",
      "197\n",
      "198\n",
      "199\n",
      "200\n",
      "201\n",
      "202\n",
      "203\n",
      "204\n",
      "205\n",
      "206\n",
      "207\n",
      "208\n",
      "209\n",
      "210\n",
      "212\n",
      "213"
     ]
    },
    {
     "name": "stderr",
     "output_type": "stream",
     "text": [
      "No scoremap for section 211\n",
      "No scoremap for section 214\n"
     ]
    },
    {
     "name": "stdout",
     "output_type": "stream",
     "text": [
      "\n",
      "215\n",
      "216\n",
      "217\n",
      "218\n",
      "219\n",
      "220\n",
      "221\n",
      "222\n",
      "223\n",
      "224\n",
      "225\n",
      "226\n",
      "227\n",
      "228\n",
      "229\n",
      "230\n",
      "231\n",
      "232\n",
      "233\n",
      "234\n",
      "235\n",
      "236\n",
      "237\n",
      "238\n",
      "239\n",
      "240\n",
      "241\n",
      "242\n",
      "243\n",
      "244\n",
      "245\n",
      "246\n",
      "247\n",
      "248\n",
      "249\n",
      "250\n",
      "251\n",
      "252\n",
      "253\n",
      "254\n",
      "255\n",
      "256\n",
      "257\n",
      "258\n",
      "260\n",
      "261\n",
      "262\n",
      "263\n",
      "264\n",
      "265"
     ]
    },
    {
     "name": "stderr",
     "output_type": "stream",
     "text": [
      "No scoremap for section 259\n",
      "No scoremap for section 266\n"
     ]
    },
    {
     "name": "stdout",
     "output_type": "stream",
     "text": [
      "\n",
      "267\n",
      "268\n",
      "269\n",
      "270\n",
      "271\n",
      "272\n",
      "273\n",
      "274\n",
      "275\n",
      "277\n",
      "278\n",
      "279\n",
      "280\n",
      "281\n",
      "282\n",
      "283\n",
      "284\n",
      "285\n",
      "286\n",
      "287"
     ]
    },
    {
     "name": "stderr",
     "output_type": "stream",
     "text": [
      "No scoremap for section 276\n",
      "No scoremap for section 288\n"
     ]
    },
    {
     "name": "stdout",
     "output_type": "stream",
     "text": [
      "\n",
      "289\n",
      "290\n",
      "291\n",
      "293\n",
      "294\n",
      "295\n",
      "296\n",
      "297\n",
      "298"
     ]
    },
    {
     "name": "stderr",
     "output_type": "stream",
     "text": [
      "No scoremap for section 292\n",
      "No scoremap for section 299\n"
     ]
    },
    {
     "name": "stdout",
     "output_type": "stream",
     "text": [
      "\n",
      "300\n",
      "116 1046\n",
      "235 657\n",
      "399 816\n",
      "VLL\n",
      "(948, 1522, 1141)\n",
      "147\n",
      "148\n",
      "149\n",
      "150\n",
      "151\n",
      "152"
     ]
    },
    {
     "name": "stderr",
     "output_type": "stream",
     "text": [
      "No scoremap for section 301\n",
      "No scoremap for section 302\n",
      "No scoremap for section 153\n"
     ]
    },
    {
     "name": "stdout",
     "output_type": "stream",
     "text": [
      "\n",
      "154\n",
      "155\n",
      "156\n",
      "157\n",
      "158\n",
      "159\n",
      "160\n",
      "161\n",
      "162\n",
      "163\n",
      "164\n",
      "165\n",
      "166\n",
      "167\n",
      "168\n",
      "169\n",
      "170\n",
      "171\n",
      "172\n",
      "173\n",
      "174\n",
      "175\n",
      "176\n",
      "177\n",
      "178\n",
      "179\n",
      "180\n",
      "181\n",
      "182\n",
      "183\n",
      "184\n",
      "185\n",
      "186\n",
      "187\n",
      "188\n",
      "189\n",
      "190\n",
      "191\n",
      "192\n",
      "193\n",
      "194\n",
      "195\n",
      "196\n",
      "197\n",
      "198\n",
      "199\n",
      "200\n",
      "201\n",
      "202\n",
      "203\n",
      "204\n",
      "205\n",
      "206\n",
      "207\n",
      "208\n",
      "209\n",
      "210\n",
      "211\n",
      "212\n",
      "213\n",
      "215\n",
      "216\n",
      "217\n",
      "218\n",
      "219\n",
      "220\n",
      "221\n",
      "222\n",
      "223\n",
      "224\n",
      "225\n",
      "226\n",
      "227\n",
      "228\n",
      "229\n",
      "230\n",
      "231\n",
      "232\n",
      "233\n",
      "234\n",
      "235\n",
      "236\n",
      "237\n",
      "238\n",
      "239\n",
      "240\n",
      "241\n",
      "242\n",
      "243\n",
      "244\n",
      "245\n",
      "246\n",
      "247\n",
      "248\n",
      "249\n",
      "250\n",
      "251\n",
      "252\n",
      "253\n",
      "254\n",
      "255\n",
      "256\n",
      "257\n",
      "258"
     ]
    },
    {
     "name": "stderr",
     "output_type": "stream",
     "text": [
      "No scoremap for section 214\n",
      "No scoremap for section 259\n"
     ]
    },
    {
     "name": "stdout",
     "output_type": "stream",
     "text": [
      "\n",
      "260\n",
      "261\n",
      "262\n",
      "263\n",
      "264\n",
      "265\n",
      "267\n",
      "268\n",
      "269\n",
      "270\n",
      "271\n",
      "272\n",
      "273\n",
      "274\n",
      "275"
     ]
    },
    {
     "name": "stderr",
     "output_type": "stream",
     "text": [
      "No scoremap for section 266\n",
      "No scoremap for section 276\n"
     ]
    },
    {
     "name": "stdout",
     "output_type": "stream",
     "text": [
      "\n",
      "277\n",
      "278\n",
      "279\n",
      "280\n",
      "281\n",
      "282\n",
      "283\n",
      "284\n",
      "285\n",
      "286\n",
      "287\n",
      "288\n",
      "289\n",
      "290\n",
      "291\n",
      "292\n",
      "293\n",
      "294\n",
      "295\n",
      "296\n",
      "297\n",
      "298\n",
      "299\n",
      "300\n",
      "301\n",
      "302\n",
      "116 1046\n",
      "235 667\n",
      "399 822\n",
      "116 235 399\n",
      "1046 668 822\n",
      "78 347\n",
      "132 292\n",
      "358 795\n",
      "5N\n",
      "(816, 890, 1195)\n",
      "132\n",
      "133\n",
      "134\n",
      "135\n",
      "136\n",
      "137\n",
      "138\n",
      "139\n",
      "140\n",
      "141\n",
      "142\n",
      "143\n",
      "144\n",
      "145\n",
      "146\n",
      "147\n",
      "148\n",
      "149\n",
      "150\n",
      "151\n",
      "152\n",
      "153\n",
      "154\n",
      "155\n",
      "156\n",
      "157\n",
      "158\n",
      "159\n",
      "160\n",
      "161\n",
      "162\n",
      "163\n",
      "164\n",
      "165\n",
      "166\n",
      "167\n",
      "168\n",
      "169\n",
      "170\n",
      "171\n",
      "172\n",
      "173\n",
      "174\n",
      "175\n",
      "176\n",
      "177\n",
      "178\n",
      "179\n",
      "180\n",
      "181\n",
      "182\n",
      "183\n",
      "184\n",
      "185\n",
      "186\n",
      "187\n",
      "188\n",
      "189\n",
      "190\n",
      "191\n",
      "192\n",
      "193\n",
      "194\n",
      "195\n",
      "196\n",
      "197\n",
      "198\n",
      "199\n",
      "200\n",
      "201\n",
      "202\n",
      "203\n",
      "204\n",
      "205\n",
      "206\n",
      "207\n",
      "208\n",
      "209\n",
      "210\n",
      "211\n",
      "212\n",
      "213\n",
      "214\n",
      "215\n",
      "216\n",
      "217\n",
      "218\n",
      "219\n",
      "220\n",
      "221\n",
      "222\n",
      "223\n",
      "224\n",
      "225\n",
      "226\n",
      "227\n",
      "228\n",
      "229\n",
      "230\n",
      "231\n",
      "232\n",
      "233\n",
      "234\n",
      "235\n",
      "236\n",
      "237\n",
      "238\n",
      "239\n",
      "240\n",
      "241\n",
      "242\n",
      "243\n",
      "244\n",
      "245\n",
      "246\n",
      "247\n",
      "248\n",
      "249\n",
      "250\n",
      "251\n",
      "252\n",
      "253\n",
      "254\n",
      "255\n",
      "256\n",
      "257\n",
      "258\n",
      "259\n",
      "260\n",
      "262\n",
      "263\n",
      "264\n",
      "265\n",
      "266\n",
      "267\n",
      "268\n",
      "269\n",
      "270\n",
      "271\n",
      "272\n",
      "273\n",
      "274\n",
      "275\n",
      "276\n",
      "277\n",
      "278\n",
      "279\n",
      "280\n",
      "281\n",
      "282\n",
      "283\n",
      "284\n",
      "285\n",
      "286\n",
      "287\n",
      "288\n",
      "289\n",
      "290\n",
      "291\n",
      "292\n",
      "35 850\n",
      "291 735\n",
      "358 795\n",
      "7n\n",
      "(816, 890, 1195)\n",
      "132\n",
      "133\n",
      "134\n",
      "135\n",
      "136\n",
      "137\n",
      "138\n",
      "139\n",
      "140\n",
      "141\n",
      "142\n",
      "143\n",
      "144\n",
      "145\n",
      "146\n",
      "147\n",
      "148\n",
      "149\n",
      "150\n",
      "151\n",
      "152\n",
      "153\n",
      "154\n",
      "155\n",
      "156\n",
      "157\n",
      "158\n",
      "159\n",
      "160\n",
      "161\n",
      "162\n",
      "163\n",
      "164\n",
      "165\n",
      "166\n",
      "167\n",
      "168\n",
      "169\n",
      "170\n",
      "171\n",
      "172\n",
      "173\n",
      "174\n",
      "175"
     ]
    },
    {
     "name": "stderr",
     "output_type": "stream",
     "text": [
      "No scoremap for section 261\n",
      "No scoremap for section 176\n"
     ]
    },
    {
     "name": "stdout",
     "output_type": "stream",
     "text": [
      "\n",
      "191"
     ]
    },
    {
     "name": "stderr",
     "output_type": "stream",
     "text": [
      "No scoremap for section 177\n",
      "No scoremap for section 178\n",
      "No scoremap for section 179\n",
      "No scoremap for section 180\n",
      "No scoremap for section 181\n",
      "No scoremap for section 182\n",
      "No scoremap for section 183\n",
      "No scoremap for section 184\n",
      "No scoremap for section 185\n",
      "No scoremap for section 186\n",
      "No scoremap for section 187\n",
      "No scoremap for section 188\n",
      "No scoremap for section 189\n",
      "No scoremap for section 190\n",
      "No scoremap for section 192\n"
     ]
    },
    {
     "name": "stdout",
     "output_type": "stream",
     "text": [
      "\n",
      "195"
     ]
    },
    {
     "name": "stderr",
     "output_type": "stream",
     "text": [
      "No scoremap for section 193\n",
      "No scoremap for section 194\n",
      "No scoremap for section 196\n"
     ]
    },
    {
     "name": "stdout",
     "output_type": "stream",
     "text": [
      "\n",
      "199"
     ]
    },
    {
     "name": "stderr",
     "output_type": "stream",
     "text": [
      "No scoremap for section 197\n",
      "No scoremap for section 198\n",
      "No scoremap for section 200\n"
     ]
    },
    {
     "name": "stdout",
     "output_type": "stream",
     "text": [
      "\n",
      "201\n",
      "203"
     ]
    },
    {
     "name": "stderr",
     "output_type": "stream",
     "text": [
      "No scoremap for section 202\n",
      "No scoremap for section 204\n"
     ]
    },
    {
     "name": "stdout",
     "output_type": "stream",
     "text": [
      "\n",
      "205\n",
      "207\n",
      "208\n",
      "209\n",
      "210"
     ]
    },
    {
     "name": "stderr",
     "output_type": "stream",
     "text": [
      "No scoremap for section 206\n",
      "No scoremap for section 211\n"
     ]
    },
    {
     "name": "stdout",
     "output_type": "stream",
     "text": [
      "\n",
      "213"
     ]
    },
    {
     "name": "stderr",
     "output_type": "stream",
     "text": [
      "No scoremap for section 212\n",
      "No scoremap for section 214\n"
     ]
    },
    {
     "name": "stdout",
     "output_type": "stream",
     "text": [
      "\n",
      "215\n",
      "217"
     ]
    },
    {
     "name": "stderr",
     "output_type": "stream",
     "text": [
      "No scoremap for section 216\n",
      "No scoremap for section 218\n"
     ]
    },
    {
     "name": "stdout",
     "output_type": "stream",
     "text": [
      "\n",
      "219\n",
      "220\n",
      "222"
     ]
    },
    {
     "name": "stderr",
     "output_type": "stream",
     "text": [
      "No scoremap for section 221\n",
      "No scoremap for section 223\n"
     ]
    },
    {
     "name": "stdout",
     "output_type": "stream",
     "text": [
      "\n",
      "235"
     ]
    },
    {
     "name": "stderr",
     "output_type": "stream",
     "text": [
      "No scoremap for section 224\n",
      "No scoremap for section 225\n",
      "No scoremap for section 226\n",
      "No scoremap for section 227\n",
      "No scoremap for section 228\n",
      "No scoremap for section 229\n",
      "No scoremap for section 230\n",
      "No scoremap for section 231\n",
      "No scoremap for section 232\n",
      "No scoremap for section 233\n",
      "No scoremap for section 234\n",
      "No scoremap for section 236\n"
     ]
    },
    {
     "name": "stdout",
     "output_type": "stream",
     "text": [
      "\n",
      "237\n",
      "238\n",
      "239\n",
      "241"
     ]
    },
    {
     "name": "stderr",
     "output_type": "stream",
     "text": [
      "No scoremap for section 240\n",
      "No scoremap for section 242\n"
     ]
    },
    {
     "name": "stdout",
     "output_type": "stream",
     "text": [
      "\n",
      "243\n",
      "245"
     ]
    },
    {
     "name": "stderr",
     "output_type": "stream",
     "text": [
      "No scoremap for section 244\n",
      "No scoremap for section 246\n"
     ]
    },
    {
     "name": "stdout",
     "output_type": "stream",
     "text": [
      "\n",
      "247\n",
      "255"
     ]
    },
    {
     "name": "stderr",
     "output_type": "stream",
     "text": [
      "No scoremap for section 248\n",
      "No scoremap for section 249\n",
      "No scoremap for section 250\n",
      "No scoremap for section 251\n",
      "No scoremap for section 252\n",
      "No scoremap for section 253\n",
      "No scoremap for section 254\n",
      "No scoremap for section 256\n"
     ]
    },
    {
     "name": "stdout",
     "output_type": "stream",
     "text": [
      "\n",
      "257\n",
      "259"
     ]
    },
    {
     "name": "stderr",
     "output_type": "stream",
     "text": [
      "No scoremap for section 258\n",
      "No scoremap for section 260\n"
     ]
    },
    {
     "name": "stdout",
     "output_type": "stream",
     "text": [
      "\n",
      "265"
     ]
    },
    {
     "name": "stderr",
     "output_type": "stream",
     "text": [
      "No scoremap for section 261\n",
      "No scoremap for section 262\n",
      "No scoremap for section 263\n",
      "No scoremap for section 264\n",
      "No scoremap for section 266\n"
     ]
    },
    {
     "name": "stdout",
     "output_type": "stream",
     "text": [
      "\n",
      "267\n",
      "269"
     ]
    },
    {
     "name": "stderr",
     "output_type": "stream",
     "text": [
      "No scoremap for section 268\n",
      "No scoremap for section 270\n"
     ]
    },
    {
     "name": "stdout",
     "output_type": "stream",
     "text": [
      "\n",
      "271\n",
      "273"
     ]
    },
    {
     "name": "stderr",
     "output_type": "stream",
     "text": [
      "No scoremap for section 272\n",
      "No scoremap for section 274\n"
     ]
    },
    {
     "name": "stdout",
     "output_type": "stream",
     "text": [
      "\n",
      "275\n",
      "277"
     ]
    },
    {
     "name": "stderr",
     "output_type": "stream",
     "text": [
      "No scoremap for section 276\n",
      "No scoremap for section 278\n"
     ]
    },
    {
     "name": "stdout",
     "output_type": "stream",
     "text": [
      "\n",
      "279\n",
      "280\n",
      "281\n",
      "283"
     ]
    },
    {
     "name": "stderr",
     "output_type": "stream",
     "text": [
      "No scoremap for section 282\n",
      "No scoremap for section 284\n"
     ]
    },
    {
     "name": "stdout",
     "output_type": "stream",
     "text": [
      "\n",
      "285\n",
      "286\n",
      "287\n",
      "289\n",
      "290\n",
      "291\n",
      "292\n",
      "35 850\n",
      "291 735\n",
      "358 795\n",
      "7N\n",
      "(816, 890, 1195)\n",
      "132\n",
      "133\n",
      "134\n",
      "135\n",
      "136\n",
      "137\n",
      "138\n",
      "139\n",
      "140\n",
      "141\n",
      "142\n",
      "143\n",
      "144\n",
      "145\n",
      "146\n",
      "147\n",
      "148\n",
      "149\n",
      "150\n",
      "151\n",
      "152\n",
      "153\n",
      "154\n",
      "155\n",
      "156\n",
      "157\n",
      "158\n",
      "159\n",
      "160\n",
      "161\n",
      "162\n",
      "163\n",
      "164\n",
      "165\n",
      "166\n",
      "167\n",
      "168\n",
      "169\n",
      "170\n",
      "171\n",
      "172\n",
      "173\n",
      "174\n",
      "175\n",
      "176\n",
      "177\n",
      "178\n",
      "179\n",
      "180\n",
      "181\n",
      "182\n",
      "183\n",
      "184\n",
      "185\n",
      "186\n",
      "187\n",
      "188\n",
      "189\n",
      "190\n",
      "191\n",
      "192\n",
      "193\n",
      "194\n",
      "195\n",
      "196\n",
      "197\n",
      "198\n",
      "199\n",
      "200\n",
      "201\n",
      "202\n",
      "203\n",
      "204\n",
      "205\n",
      "206\n",
      "207\n",
      "208\n",
      "209\n",
      "210\n",
      "211\n",
      "212\n",
      "213\n",
      "214\n",
      "215\n",
      "216\n",
      "217\n",
      "218\n",
      "219\n",
      "220\n",
      "221\n",
      "222\n",
      "223\n",
      "224\n",
      "225\n",
      "226\n",
      "227\n",
      "228\n",
      "229\n",
      "230\n",
      "231\n",
      "232\n",
      "233\n",
      "234\n",
      "235\n",
      "236\n",
      "237\n",
      "238\n",
      "239\n",
      "240\n",
      "241\n",
      "242\n",
      "243\n",
      "244\n",
      "245\n",
      "246\n",
      "247\n",
      "248\n",
      "249\n",
      "250\n",
      "251\n",
      "252\n",
      "253\n",
      "254\n",
      "255\n",
      "256\n",
      "257\n",
      "258\n",
      "259\n",
      "260"
     ]
    },
    {
     "name": "stderr",
     "output_type": "stream",
     "text": [
      "No scoremap for section 288\n",
      "No scoremap for section 261\n"
     ]
    },
    {
     "name": "stdout",
     "output_type": "stream",
     "text": [
      "\n",
      "262\n",
      "263\n",
      "264\n",
      "265\n",
      "266\n",
      "267\n",
      "268\n",
      "269\n",
      "270\n",
      "271\n",
      "272\n",
      "273\n",
      "274\n",
      "275\n",
      "276\n",
      "277\n",
      "278\n",
      "279\n",
      "280\n",
      "281\n",
      "282\n",
      "283\n",
      "284\n",
      "285\n",
      "286\n",
      "287\n",
      "288\n",
      "289\n",
      "290\n",
      "291\n",
      "292\n",
      "35 850\n",
      "291 735\n",
      "358 795\n",
      "12N"
     ]
    },
    {
     "name": "stderr",
     "output_type": "stream",
     "text": [
      "No scoremap for section 132\n",
      "No scoremap for section 134\n"
     ]
    },
    {
     "name": "stdout",
     "output_type": "stream",
     "text": [
      "\n",
      "(816, 890, 1195)\n",
      "133\n",
      "142\n",
      "143\n",
      "144"
     ]
    },
    {
     "name": "stderr",
     "output_type": "stream",
     "text": [
      "No scoremap for section 135\n",
      "No scoremap for section 136\n",
      "No scoremap for section 137\n",
      "No scoremap for section 138\n",
      "No scoremap for section 139\n",
      "No scoremap for section 140\n",
      "No scoremap for section 141\n",
      "No scoremap for section 145\n"
     ]
    },
    {
     "name": "stdout",
     "output_type": "stream",
     "text": [
      "\n",
      "154"
     ]
    },
    {
     "name": "stderr",
     "output_type": "stream",
     "text": [
      "No scoremap for section 146\n",
      "No scoremap for section 147\n",
      "No scoremap for section 148\n",
      "No scoremap for section 149\n",
      "No scoremap for section 150\n",
      "No scoremap for section 151\n",
      "No scoremap for section 152\n",
      "No scoremap for section 153\n",
      "No scoremap for section 155\n"
     ]
    },
    {
     "name": "stdout",
     "output_type": "stream",
     "text": [
      "\n",
      "157\n",
      "158\n",
      "159\n",
      "160"
     ]
    },
    {
     "name": "stderr",
     "output_type": "stream",
     "text": [
      "No scoremap for section 156\n",
      "No scoremap for section 161\n"
     ]
    },
    {
     "name": "stdout",
     "output_type": "stream",
     "text": [
      "\n",
      "165"
     ]
    },
    {
     "name": "stderr",
     "output_type": "stream",
     "text": [
      "No scoremap for section 162\n",
      "No scoremap for section 163\n",
      "No scoremap for section 164\n",
      "No scoremap for section 166\n"
     ]
    },
    {
     "name": "stdout",
     "output_type": "stream",
     "text": [
      "\n",
      "167\n",
      "176\n",
      "177\n",
      "178\n",
      "179\n",
      "180\n",
      "181\n",
      "182"
     ]
    },
    {
     "name": "stderr",
     "output_type": "stream",
     "text": [
      "No scoremap for section 168\n",
      "No scoremap for section 169\n",
      "No scoremap for section 170\n",
      "No scoremap for section 171\n",
      "No scoremap for section 172\n",
      "No scoremap for section 173\n",
      "No scoremap for section 174\n",
      "No scoremap for section 175\n",
      "No scoremap for section 183\n"
     ]
    },
    {
     "name": "stdout",
     "output_type": "stream",
     "text": [
      "\n",
      "184\n",
      "185\n",
      "186\n",
      "187\n",
      "188\n",
      "189\n",
      "190\n",
      "191\n",
      "192\n",
      "193\n",
      "194\n",
      "195\n",
      "196\n",
      "197\n",
      "198\n",
      "199\n",
      "200\n",
      "201\n",
      "202\n",
      "203\n",
      "204\n",
      "205\n",
      "206\n",
      "207\n",
      "208\n",
      "209\n",
      "210\n",
      "211\n",
      "212\n",
      "213\n",
      "214\n",
      "216"
     ]
    },
    {
     "name": "stderr",
     "output_type": "stream",
     "text": [
      "No scoremap for section 215\n",
      "No scoremap for section 217\n"
     ]
    },
    {
     "name": "stdout",
     "output_type": "stream",
     "text": [
      "\n",
      "218\n",
      "220"
     ]
    },
    {
     "name": "stderr",
     "output_type": "stream",
     "text": [
      "No scoremap for section 219\n",
      "No scoremap for section 221\n"
     ]
    },
    {
     "name": "stdout",
     "output_type": "stream",
     "text": [
      "\n",
      "222\n",
      "224"
     ]
    },
    {
     "name": "stderr",
     "output_type": "stream",
     "text": [
      "No scoremap for section 223\n",
      "No scoremap for section 225\n"
     ]
    },
    {
     "name": "stdout",
     "output_type": "stream",
     "text": [
      "\n",
      "226\n",
      "227\n",
      "228\n",
      "230\n",
      "231\n",
      "232\n",
      "233\n",
      "234"
     ]
    },
    {
     "name": "stderr",
     "output_type": "stream",
     "text": [
      "No scoremap for section 229\n",
      "No scoremap for section 235\n"
     ]
    },
    {
     "name": "stdout",
     "output_type": "stream",
     "text": [
      "\n",
      "236\n",
      "237\n",
      "238\n",
      "239\n",
      "240\n",
      "241\n",
      "242\n",
      "244"
     ]
    },
    {
     "name": "stderr",
     "output_type": "stream",
     "text": [
      "No scoremap for section 243\n",
      "No scoremap for section 245\n"
     ]
    },
    {
     "name": "stdout",
     "output_type": "stream",
     "text": [
      "\n",
      "246\n",
      "248"
     ]
    },
    {
     "name": "stderr",
     "output_type": "stream",
     "text": [
      "No scoremap for section 247\n",
      "No scoremap for section 249\n"
     ]
    },
    {
     "name": "stdout",
     "output_type": "stream",
     "text": [
      "\n",
      "250\n",
      "252"
     ]
    },
    {
     "name": "stderr",
     "output_type": "stream",
     "text": [
      "No scoremap for section 251\n",
      "No scoremap for section 253\n"
     ]
    },
    {
     "name": "stdout",
     "output_type": "stream",
     "text": [
      "\n",
      "254\n",
      "255\n",
      "256\n",
      "257\n",
      "258\n",
      "262\n",
      "263\n",
      "264\n",
      "265\n",
      "266"
     ]
    },
    {
     "name": "stderr",
     "output_type": "stream",
     "text": [
      "No scoremap for section 259\n",
      "No scoremap for section 260\n",
      "No scoremap for section 261\n",
      "No scoremap for section 267\n"
     ]
    },
    {
     "name": "stdout",
     "output_type": "stream",
     "text": [
      "\n",
      "268\n",
      "270"
     ]
    },
    {
     "name": "stderr",
     "output_type": "stream",
     "text": [
      "No scoremap for section 269\n",
      "No scoremap for section 271\n"
     ]
    },
    {
     "name": "stdout",
     "output_type": "stream",
     "text": [
      "\n",
      "272\n",
      "273\n",
      "274\n",
      "275\n",
      "276\n",
      "277\n",
      "278\n",
      "280\n",
      "281\n",
      "282\n",
      "283\n",
      "284"
     ]
    },
    {
     "name": "stderr",
     "output_type": "stream",
     "text": [
      "No scoremap for section 279\n",
      "No scoremap for section 285\n"
     ]
    },
    {
     "name": "stdout",
     "output_type": "stream",
     "text": [
      "\n",
      "286\n",
      "288"
     ]
    },
    {
     "name": "stderr",
     "output_type": "stream",
     "text": [
      "No scoremap for section 287\n",
      "No scoremap for section 289\n"
     ]
    },
    {
     "name": "stdout",
     "output_type": "stream",
     "text": [
      "\n",
      "35 850\n",
      "291 735\n",
      "361 784\n",
      "Gr\n",
      "(816, 890, 1195)\n",
      "132\n",
      "133\n",
      "134\n",
      "135\n",
      "136\n",
      "137\n",
      "138\n",
      "139\n",
      "140\n",
      "141\n",
      "142\n",
      "143\n",
      "144\n",
      "145\n",
      "146\n",
      "147\n",
      "148\n",
      "149\n",
      "150\n",
      "151\n",
      "152\n",
      "153\n",
      "154\n",
      "155\n",
      "156\n",
      "157\n",
      "158\n",
      "159\n",
      "160\n",
      "161\n",
      "162\n",
      "163\n",
      "164\n",
      "165\n",
      "166\n",
      "167\n",
      "168\n",
      "169\n",
      "170\n",
      "171\n",
      "172\n",
      "173\n",
      "174\n",
      "175\n",
      "176\n",
      "177\n",
      "178\n",
      "179\n",
      "180\n",
      "181\n",
      "182\n",
      "183\n",
      "184\n",
      "185\n",
      "186\n",
      "187\n",
      "188\n",
      "189\n",
      "190\n",
      "191\n",
      "192\n",
      "193\n",
      "194\n",
      "195\n",
      "196\n",
      "197\n",
      "198\n",
      "199\n",
      "200\n",
      "201\n",
      "202\n",
      "203\n",
      "204\n",
      "205\n",
      "206\n",
      "207\n",
      "208\n",
      "209\n",
      "210\n",
      "211\n",
      "212\n",
      "213\n",
      "214\n",
      "215\n",
      "216\n",
      "217\n",
      "218\n",
      "219\n",
      "220\n",
      "221\n",
      "222\n",
      "223\n",
      "224\n",
      "225\n",
      "226\n",
      "227\n",
      "228\n",
      "229\n",
      "230\n",
      "231\n",
      "232\n",
      "233\n",
      "234\n",
      "235\n",
      "236\n",
      "237\n",
      "238\n",
      "239\n",
      "240\n",
      "241\n",
      "242\n",
      "243\n",
      "244\n",
      "245\n",
      "246\n",
      "247\n",
      "248"
     ]
    },
    {
     "name": "stderr",
     "output_type": "stream",
     "text": [
      "No scoremap for section 290\n",
      "No scoremap for section 291\n",
      "No scoremap for section 292\n",
      "No scoremap for section 249\n"
     ]
    },
    {
     "name": "stdout",
     "output_type": "stream",
     "text": [
      "\n",
      "250\n",
      "252"
     ]
    },
    {
     "name": "stderr",
     "output_type": "stream",
     "text": [
      "No scoremap for section 251\n",
      "No scoremap for section 253\n"
     ]
    },
    {
     "name": "stdout",
     "output_type": "stream",
     "text": [
      "\n",
      "254\n",
      "255\n",
      "256\n",
      "257\n",
      "258\n",
      "259\n",
      "260\n",
      "262"
     ]
    },
    {
     "name": "stderr",
     "output_type": "stream",
     "text": [
      "No scoremap for section 261\n",
      "No scoremap for section 263\n"
     ]
    },
    {
     "name": "stdout",
     "output_type": "stream",
     "text": [
      "\n",
      "264\n",
      "265\n",
      "266\n",
      "267\n",
      "268\n",
      "269\n",
      "270\n",
      "272\n",
      "273\n",
      "274\n",
      "275\n",
      "276\n",
      "277\n",
      "278\n",
      "279\n",
      "280\n",
      "281\n",
      "282\n",
      "283\n",
      "284"
     ]
    },
    {
     "name": "stderr",
     "output_type": "stream",
     "text": [
      "No scoremap for section 271\n",
      "No scoremap for section 285\n"
     ]
    },
    {
     "name": "stdout",
     "output_type": "stream",
     "text": [
      "\n",
      "286\n",
      "287\n",
      "288\n",
      "292\n",
      "35 850\n",
      "291 735\n",
      "358 795\n",
      "LVe"
     ]
    },
    {
     "name": "stderr",
     "output_type": "stream",
     "text": [
      "No scoremap for section 289\n",
      "No scoremap for section 290\n",
      "No scoremap for section 291\n",
      "No scoremap for section 132\n",
      "No scoremap for section 133\n",
      "No scoremap for section 134\n",
      "No scoremap for section 135\n",
      "No scoremap for section 136\n",
      "No scoremap for section 137\n",
      "No scoremap for section 138\n",
      "No scoremap for section 139\n",
      "No scoremap for section 141\n"
     ]
    },
    {
     "name": "stdout",
     "output_type": "stream",
     "text": [
      "\n",
      "(816, 890, 1195)\n",
      "140\n",
      "142\n",
      "144"
     ]
    },
    {
     "name": "stderr",
     "output_type": "stream",
     "text": [
      "No scoremap for section 143\n",
      "No scoremap for section 145\n",
      "No scoremap for section 146\n",
      "No scoremap for section 147\n",
      "No scoremap for section 148\n",
      "No scoremap for section 149\n",
      "No scoremap for section 150\n",
      "No scoremap for section 151\n",
      "No scoremap for section 152\n",
      "No scoremap for section 153\n",
      "No scoremap for section 154\n",
      "No scoremap for section 155\n",
      "No scoremap for section 156\n",
      "No scoremap for section 157\n",
      "No scoremap for section 158\n",
      "No scoremap for section 159\n",
      "No scoremap for section 160\n",
      "No scoremap for section 161\n",
      "No scoremap for section 162\n",
      "No scoremap for section 163\n",
      "No scoremap for section 164\n",
      "No scoremap for section 165\n",
      "No scoremap for section 166\n",
      "No scoremap for section 167\n",
      "No scoremap for section 168\n",
      "No scoremap for section 169\n",
      "No scoremap for section 170\n",
      "No scoremap for section 171\n",
      "No scoremap for section 172\n",
      "No scoremap for section 173\n",
      "No scoremap for section 174\n",
      "No scoremap for section 175\n",
      "No scoremap for section 176\n",
      "No scoremap for section 177\n",
      "No scoremap for section 178\n",
      "No scoremap for section 179\n",
      "No scoremap for section 180\n",
      "No scoremap for section 181\n",
      "No scoremap for section 182\n",
      "No scoremap for section 183\n",
      "No scoremap for section 184\n",
      "No scoremap for section 185\n",
      "No scoremap for section 186\n",
      "No scoremap for section 187\n",
      "No scoremap for section 188\n",
      "No scoremap for section 189\n",
      "No scoremap for section 190\n",
      "No scoremap for section 191\n",
      "No scoremap for section 192\n",
      "No scoremap for section 193\n",
      "No scoremap for section 194\n",
      "No scoremap for section 195\n",
      "No scoremap for section 196\n",
      "No scoremap for section 197\n",
      "No scoremap for section 198\n",
      "No scoremap for section 199\n",
      "No scoremap for section 200\n",
      "No scoremap for section 201\n",
      "No scoremap for section 202\n",
      "No scoremap for section 203\n",
      "No scoremap for section 204\n",
      "No scoremap for section 205\n",
      "No scoremap for section 206\n",
      "No scoremap for section 207\n",
      "No scoremap for section 208\n",
      "No scoremap for section 209\n",
      "No scoremap for section 210\n",
      "No scoremap for section 211\n",
      "No scoremap for section 212\n",
      "No scoremap for section 213\n",
      "No scoremap for section 214\n",
      "No scoremap for section 215\n",
      "No scoremap for section 216\n",
      "No scoremap for section 217\n",
      "No scoremap for section 218\n",
      "No scoremap for section 219\n",
      "No scoremap for section 220\n",
      "No scoremap for section 221\n",
      "No scoremap for section 222\n",
      "No scoremap for section 223\n",
      "No scoremap for section 224\n",
      "No scoremap for section 225\n",
      "No scoremap for section 226\n",
      "No scoremap for section 227\n",
      "No scoremap for section 228\n",
      "No scoremap for section 229\n",
      "No scoremap for section 230\n",
      "No scoremap for section 231\n",
      "No scoremap for section 232\n",
      "No scoremap for section 233\n",
      "No scoremap for section 234\n",
      "No scoremap for section 235\n",
      "No scoremap for section 236\n",
      "No scoremap for section 237\n",
      "No scoremap for section 238\n",
      "No scoremap for section 239\n",
      "No scoremap for section 240\n",
      "No scoremap for section 241\n",
      "No scoremap for section 242\n",
      "No scoremap for section 243\n",
      "No scoremap for section 244\n",
      "No scoremap for section 245\n",
      "No scoremap for section 246\n",
      "No scoremap for section 247\n",
      "No scoremap for section 248\n",
      "No scoremap for section 249\n",
      "No scoremap for section 250\n",
      "No scoremap for section 251\n",
      "No scoremap for section 252\n",
      "No scoremap for section 253\n",
      "No scoremap for section 254\n",
      "No scoremap for section 255\n",
      "No scoremap for section 256\n",
      "No scoremap for section 257\n",
      "No scoremap for section 258\n",
      "No scoremap for section 259\n",
      "No scoremap for section 260\n",
      "No scoremap for section 261\n",
      "No scoremap for section 262\n"
     ]
    },
    {
     "name": "stdout",
     "output_type": "stream",
     "text": [
      "\n",
      "270"
     ]
    },
    {
     "name": "stderr",
     "output_type": "stream",
     "text": [
      "No scoremap for section 263\n",
      "No scoremap for section 264\n",
      "No scoremap for section 265\n",
      "No scoremap for section 266\n",
      "No scoremap for section 267\n",
      "No scoremap for section 268\n",
      "No scoremap for section 269\n",
      "No scoremap for section 271\n"
     ]
    },
    {
     "name": "stdout",
     "output_type": "stream",
     "text": [
      "\n",
      "277"
     ]
    },
    {
     "name": "stderr",
     "output_type": "stream",
     "text": [
      "No scoremap for section 272\n",
      "No scoremap for section 273\n",
      "No scoremap for section 274\n",
      "No scoremap for section 275\n",
      "No scoremap for section 276\n",
      "No scoremap for section 278\n"
     ]
    },
    {
     "name": "stdout",
     "output_type": "stream",
     "text": [
      "\n",
      "96 682\n",
      "301 643\n",
      "380 754\n",
      "Pn\n",
      "(816, 890, 1195)\n",
      "132\n",
      "133\n",
      "134\n",
      "135\n",
      "136\n",
      "137\n",
      "138\n",
      "139\n",
      "140\n",
      "141\n",
      "142\n",
      "143\n",
      "144\n",
      "145\n",
      "146"
     ]
    },
    {
     "name": "stderr",
     "output_type": "stream",
     "text": [
      "No scoremap for section 279\n",
      "No scoremap for section 280\n",
      "No scoremap for section 281\n",
      "No scoremap for section 282\n",
      "No scoremap for section 283\n",
      "No scoremap for section 284\n",
      "No scoremap for section 285\n",
      "No scoremap for section 286\n",
      "No scoremap for section 287\n",
      "No scoremap for section 288\n",
      "No scoremap for section 289\n",
      "No scoremap for section 290\n",
      "No scoremap for section 291\n",
      "No scoremap for section 292\n",
      "No scoremap for section 147\n"
     ]
    },
    {
     "name": "stdout",
     "output_type": "stream",
     "text": [
      "\n",
      "148\n",
      "150\n",
      "151\n",
      "152\n",
      "153"
     ]
    },
    {
     "name": "stderr",
     "output_type": "stream",
     "text": [
      "No scoremap for section 149\n",
      "No scoremap for section 154\n"
     ]
    },
    {
     "name": "stdout",
     "output_type": "stream",
     "text": [
      "\n",
      "155\n",
      "156\n",
      "157\n",
      "158\n",
      "159\n",
      "160\n",
      "161\n",
      "162\n",
      "163\n",
      "164\n",
      "165\n",
      "166\n",
      "167\n",
      "168\n",
      "169\n",
      "170\n",
      "171\n",
      "172\n",
      "173\n",
      "174\n",
      "175\n",
      "176\n",
      "177\n",
      "178\n",
      "179\n",
      "180\n",
      "181\n",
      "182\n",
      "183\n",
      "184\n",
      "185\n",
      "186\n",
      "187\n",
      "188\n",
      "189\n",
      "190\n",
      "191\n",
      "192\n",
      "193\n",
      "194\n",
      "195\n",
      "196\n",
      "197\n",
      "198\n",
      "199\n",
      "200\n",
      "201\n",
      "202\n",
      "203\n",
      "204\n",
      "205\n",
      "206\n",
      "207\n",
      "208\n",
      "209\n",
      "210\n",
      "211\n",
      "212\n",
      "213\n",
      "214\n",
      "215\n",
      "216\n",
      "217\n",
      "218\n",
      "219\n",
      "220\n",
      "221\n",
      "222\n",
      "223\n",
      "224\n",
      "225\n",
      "226\n",
      "227\n",
      "228\n",
      "229\n",
      "230\n",
      "231\n",
      "232\n",
      "233\n",
      "234\n",
      "235\n",
      "236\n",
      "237\n",
      "238\n",
      "239\n",
      "240\n",
      "241\n",
      "242\n",
      "243\n",
      "244\n",
      "245\n",
      "246\n",
      "247\n",
      "248\n",
      "249\n",
      "250\n",
      "251\n",
      "252\n",
      "253\n",
      "254\n",
      "255\n",
      "256\n",
      "257\n",
      "258\n",
      "259\n",
      "260\n",
      "261\n",
      "262\n",
      "263\n",
      "264\n",
      "265\n",
      "266\n",
      "267\n",
      "268\n",
      "269\n",
      "270\n",
      "271\n",
      "272\n",
      "273\n",
      "274\n",
      "275\n",
      "276\n",
      "277\n",
      "278\n",
      "279\n",
      "280\n",
      "282\n",
      "283\n",
      "284\n",
      "285\n",
      "286"
     ]
    },
    {
     "name": "stderr",
     "output_type": "stream",
     "text": [
      "No scoremap for section 281\n",
      "No scoremap for section 287\n"
     ]
    },
    {
     "name": "stdout",
     "output_type": "stream",
     "text": [
      "\n",
      "288\n",
      "289\n",
      "292\n",
      "35 850\n",
      "291 735\n",
      "358 795\n",
      "SuVe\n",
      "(816, 890, 1195)\n",
      "132\n",
      "133\n",
      "134\n",
      "135\n",
      "136\n",
      "137\n",
      "138\n",
      "139\n",
      "140\n",
      "141\n",
      "142\n",
      "143\n",
      "144\n",
      "145\n",
      "146\n",
      "147\n",
      "148\n",
      "149\n",
      "150\n",
      "151\n",
      "152\n",
      "153\n",
      "154\n",
      "155\n",
      "156"
     ]
    },
    {
     "name": "stderr",
     "output_type": "stream",
     "text": [
      "No scoremap for section 290\n",
      "No scoremap for section 291\n",
      "No scoremap for section 157\n"
     ]
    },
    {
     "name": "stdout",
     "output_type": "stream",
     "text": [
      "\n",
      "158\n",
      "159\n",
      "160\n",
      "161\n",
      "162\n",
      "163\n",
      "164\n",
      "166\n",
      "167\n",
      "168\n",
      "169\n",
      "170\n",
      "171\n",
      "172\n",
      "173\n",
      "174\n",
      "175\n",
      "176\n",
      "177\n",
      "178\n",
      "179\n",
      "180\n",
      "181\n",
      "182\n",
      "183\n",
      "184\n",
      "185\n",
      "186\n",
      "187\n",
      "188\n",
      "189\n",
      "190\n",
      "191\n",
      "192\n",
      "193\n",
      "194\n",
      "195\n",
      "196\n",
      "197\n",
      "198\n",
      "199"
     ]
    },
    {
     "name": "stderr",
     "output_type": "stream",
     "text": [
      "No scoremap for section 165\n",
      "No scoremap for section 200\n"
     ]
    },
    {
     "name": "stdout",
     "output_type": "stream",
     "text": [
      "\n",
      "201\n",
      "202\n",
      "203\n",
      "204\n",
      "205\n",
      "206\n",
      "207\n",
      "208\n",
      "209\n",
      "210\n",
      "211\n",
      "212\n",
      "213\n",
      "214\n",
      "215\n",
      "216\n",
      "217\n",
      "218\n",
      "219\n",
      "220\n",
      "221\n",
      "222\n",
      "223\n",
      "224\n",
      "225\n",
      "226\n",
      "227\n",
      "228\n",
      "229\n",
      "230\n",
      "231\n",
      "232\n",
      "233\n",
      "234\n",
      "235\n",
      "236\n",
      "237\n",
      "238\n",
      "239\n",
      "240\n",
      "241\n",
      "242\n",
      "243\n",
      "244\n",
      "245\n",
      "246\n",
      "248"
     ]
    },
    {
     "name": "stderr",
     "output_type": "stream",
     "text": [
      "No scoremap for section 247\n",
      "No scoremap for section 249\n"
     ]
    },
    {
     "name": "stdout",
     "output_type": "stream",
     "text": [
      "\n",
      "250\n",
      "252"
     ]
    },
    {
     "name": "stderr",
     "output_type": "stream",
     "text": [
      "No scoremap for section 251\n",
      "No scoremap for section 253\n"
     ]
    },
    {
     "name": "stdout",
     "output_type": "stream",
     "text": [
      "\n",
      "254\n",
      "255\n",
      "256\n",
      "257\n",
      "258\n",
      "259\n",
      "260\n",
      "262"
     ]
    },
    {
     "name": "stderr",
     "output_type": "stream",
     "text": [
      "No scoremap for section 261\n",
      "No scoremap for section 263\n"
     ]
    },
    {
     "name": "stdout",
     "output_type": "stream",
     "text": [
      "\n",
      "264\n",
      "266\n",
      "267\n",
      "268\n",
      "269\n",
      "270"
     ]
    },
    {
     "name": "stderr",
     "output_type": "stream",
     "text": [
      "No scoremap for section 265\n",
      "No scoremap for section 271\n"
     ]
    },
    {
     "name": "stdout",
     "output_type": "stream",
     "text": [
      "\n",
      "272\n",
      "273\n",
      "274\n",
      "275\n",
      "276\n",
      "277\n",
      "278\n",
      "279\n",
      "280\n",
      "281\n",
      "282\n",
      "283\n",
      "284\n",
      "286\n",
      "287\n",
      "288\n",
      "289\n",
      "290\n",
      "291\n",
      "292\n",
      "35 850\n",
      "291 735\n",
      "358 795\n",
      "VLL\n",
      "(816, 890, 1195)\n",
      "132\n",
      "133\n",
      "134\n",
      "135\n",
      "136\n",
      "137\n",
      "138\n",
      "139\n",
      "140\n",
      "141\n",
      "142\n",
      "143\n",
      "144\n",
      "145\n",
      "146\n",
      "147\n",
      "148\n",
      "149\n",
      "150\n",
      "151\n",
      "152\n",
      "153\n",
      "154\n",
      "155\n",
      "156\n",
      "157\n",
      "158\n",
      "159\n",
      "160\n",
      "161\n",
      "162\n",
      "163\n",
      "164\n",
      "165\n",
      "166\n",
      "167\n",
      "168\n",
      "169\n",
      "170\n",
      "171\n",
      "172\n",
      "173\n",
      "174\n",
      "175\n",
      "176\n",
      "177\n",
      "178\n",
      "179\n",
      "180\n",
      "181\n",
      "182\n",
      "183\n",
      "184\n",
      "185\n",
      "186\n",
      "187\n",
      "188\n",
      "189\n",
      "190\n",
      "191\n",
      "192\n",
      "193\n",
      "194\n",
      "195\n",
      "196\n",
      "197\n",
      "198\n",
      "199\n",
      "200\n",
      "201\n",
      "202\n",
      "203\n",
      "204\n",
      "205\n",
      "206\n",
      "207\n",
      "208\n",
      "209\n",
      "210\n",
      "211\n",
      "212\n",
      "213\n",
      "214\n",
      "215\n",
      "216\n",
      "217\n",
      "218\n",
      "219\n",
      "220\n",
      "221\n",
      "222\n",
      "223\n",
      "224\n",
      "225\n",
      "226\n",
      "227\n",
      "228\n",
      "229\n",
      "230\n",
      "231\n",
      "232\n",
      "233\n",
      "234\n",
      "235\n",
      "236\n",
      "237\n",
      "238\n",
      "239\n",
      "240\n",
      "241\n",
      "242\n",
      "243\n",
      "244\n",
      "245\n",
      "246\n",
      "247\n",
      "248"
     ]
    },
    {
     "name": "stderr",
     "output_type": "stream",
     "text": [
      "No scoremap for section 285\n",
      "No scoremap for section 249\n"
     ]
    },
    {
     "name": "stdout",
     "output_type": "stream",
     "text": [
      "\n",
      "250\n",
      "252"
     ]
    },
    {
     "name": "stderr",
     "output_type": "stream",
     "text": [
      "No scoremap for section 251\n",
      "No scoremap for section 253\n"
     ]
    },
    {
     "name": "stdout",
     "output_type": "stream",
     "text": [
      "\n",
      "254\n",
      "255\n",
      "256\n",
      "257\n",
      "258\n",
      "259\n",
      "260\n",
      "262"
     ]
    },
    {
     "name": "stderr",
     "output_type": "stream",
     "text": [
      "No scoremap for section 261\n",
      "No scoremap for section 263\n"
     ]
    },
    {
     "name": "stdout",
     "output_type": "stream",
     "text": [
      "\n",
      "264\n",
      "265\n",
      "266\n",
      "267\n",
      "268\n",
      "269\n",
      "270\n",
      "271\n",
      "272\n",
      "273\n",
      "274\n",
      "275\n",
      "276\n",
      "277\n",
      "278\n",
      "279\n",
      "280\n",
      "281\n",
      "282\n",
      "283\n",
      "284\n",
      "286\n",
      "287\n",
      "288\n",
      "289\n",
      "290\n",
      "291\n",
      "292\n",
      "35 850\n",
      "291 735\n",
      "358 795\n",
      "35 291 358\n",
      "850 735 795\n"
     ]
    },
    {
     "name": "stderr",
     "output_type": "stream",
     "text": [
      "No scoremap for section 285\n"
     ]
    }
   ],
   "source": [
    "# stack = 'MD594'\n",
    "# stack = 'MD593'\n",
    "\n",
    "for stack in ['MD592', 'MD590', 'MD591', 'MD595', 'MD598', 'MD602', 'MD585']:\n",
    "\n",
    "    # build annotation volume\n",
    "    section_bs_begin, section_bs_end = section_range_lookup[stack]\n",
    "    print section_bs_begin, section_bs_end\n",
    "\n",
    "    section_roi_begin, section_roi_end = detect_bbox_range_lookup[stack]\n",
    "    print section_roi_begin, section_roi_end\n",
    "\n",
    "    dm = DataManager(stack=stack)\n",
    "\n",
    "    roi_zmin = int(section_roi_begin*z_xy_ratio_downsampled)\n",
    "    roi_zmax = int((section_roi_end+1)*z_xy_ratio_downsampled)-1\n",
    "    print roi_zmin, roi_zmax\n",
    "\n",
    "\n",
    "    volume_xmin, volume_ymin, volume_zmin = (np.inf, np.inf, np.inf)\n",
    "    volume_xmax, volume_ymax, volume_zmax = (0,0,0)\n",
    "\n",
    "    for l in labels:\n",
    "    # for l in ['VLL']:\n",
    "\n",
    "        if l == 'BackG': continue\n",
    "\n",
    "        print l\n",
    "\n",
    "        volume = np.zeros((dm.image_height/downsample_factor, \n",
    "                           dm.image_width/downsample_factor, \n",
    "                           int(section_number_lookup[stack]*z_xy_ratio_downsampled)), np.float32)\n",
    "        print volume.shape\n",
    "\n",
    "        for sec in range(section_roi_begin, section_roi_end+1):\n",
    "\n",
    "            scoremap_bp_filepath = scoremaps_rootdir + '/%(stack)s/%(slice)04d/%(stack)s_%(slice)04d_roi1_denseScoreMapLossless_%(label)s.bp' \\\n",
    "                % {'stack': stack, 'slice': sec, 'label': l}\n",
    "\n",
    "            if not os.path.exists(scoremap_bp_filepath):\n",
    "                sys.stderr.write('No scoremap for section %d\\n' % sec)\n",
    "                continue\n",
    "\n",
    "            print sec\n",
    "\n",
    "            scoremap_roi = bp.unpack_ndarray_file(scoremap_bp_filepath)\n",
    "\n",
    "            dataset = stack + '_' + '%04d'%sec + '_roi1'\n",
    "\n",
    "            interpolation_xmin, interpolation_xmax, \\\n",
    "            interpolation_ymin, interpolation_ymax = np.loadtxt(os.path.join(scoremaps_rootdir, stack, '%04d'%sec,\n",
    "                                                                             '%(dataset)s_denseScoreMapLossless_%(label)s_interpBox.txt' % \\\n",
    "                                            {'dataset': dataset, 'label': l})).astype(np.int)\n",
    "\n",
    "            dense_scoremap_lossless = np.zeros((dm.image_height, dm.image_width), np.float32)\n",
    "\n",
    "    #         dense_scoremap_lossless[interpolation_ymin:interpolation_ymax+1,\n",
    "    #                                 interpolation_xmin:interpolation_xmax+1] = scoremap_roi.copy()\n",
    "    #         scoremap = dense_scoremap_lossless[::downsample_factor, ::downsample_factor].copy()\n",
    "    #         volume[:, :, int(sec*z_xy_ratio_downsampled):int((sec+1)*z_xy_ratio_downsampled)] = scoremap[..., np.newaxis].copy()\n",
    "\n",
    "            dense_scoremap_lossless[interpolation_ymin:interpolation_ymax+1,\n",
    "                                    interpolation_xmin:interpolation_xmax+1] = scoremap_roi\n",
    "            scoremap = dense_scoremap_lossless[::downsample_factor, ::downsample_factor]\n",
    "            volume[:, :, int(sec*z_xy_ratio_downsampled):int((sec+1)*z_xy_ratio_downsampled)] = scoremap[..., np.newaxis].copy()\n",
    "\n",
    "            del scoremap, scoremap_roi, dense_scoremap_lossless\n",
    "\n",
    "        ys, xs, zs = np.where(volume > 0)\n",
    "\n",
    "        xmin = xs.min()\n",
    "        xmax = xs.max()\n",
    "        ymin = ys.min()\n",
    "        ymax = ys.max()\n",
    "        zmin = zs.min()\n",
    "        zmax = zs.max()\n",
    "\n",
    "        print xmin, xmax\n",
    "        print ymin, ymax\n",
    "        print zmin, zmax\n",
    "\n",
    "        if xmin < volume_xmin:\n",
    "            volume_xmin = xmin\n",
    "        if ymin < volume_ymin:\n",
    "            volume_ymin = ymin\n",
    "        if zmin < volume_zmin:\n",
    "            volume_zmin = zmin\n",
    "        if xmax > volume_xmax:\n",
    "            volume_xmax = xmax\n",
    "        if ymax > volume_ymax:\n",
    "            volume_ymax = ymax\n",
    "        if zmax > volume_zmax:\n",
    "            volume_zmax = zmax\n",
    "\n",
    "        bp.pack_ndarray_file(volume[..., roi_zmin:roi_zmax+1],\n",
    "                     os.path.join(volume_dir, 'volume_%(stack)s_scoreMap_%(label)s.bp' % {'stack': stack, 'label': l}))    \n",
    "\n",
    "        del volume, ys, xs, zs\n",
    "\n",
    "    print volume_xmin, volume_ymin, volume_zmin\n",
    "    print volume_xmax, volume_ymax, volume_zmax\n",
    "\n",
    "    with open(os.path.join(volume_dir, 'volume_%(stack)s_scoreMap_limits.txt' % {'stack': stack}), 'w') as f:\n",
    "        f.write((' '.join(['%d']*6)+'\\n') % (volume_xmin, volume_xmax, volume_ymin, volume_ymax, volume_zmin, volume_zmax))"
   ]
  },
  {
   "cell_type": "code",
   "execution_count": null,
   "metadata": {
    "collapsed": true
   },
   "outputs": [],
   "source": []
  }
 ],
 "metadata": {
  "kernelspec": {
   "display_name": "Python 2",
   "language": "python",
   "name": "python2"
  },
  "language_info": {
   "codemirror_mode": {
    "name": "ipython",
    "version": 2
   },
   "file_extension": ".py",
   "mimetype": "text/x-python",
   "name": "python",
   "nbconvert_exporter": "python",
   "pygments_lexer": "ipython2",
   "version": "2.7.3"
  }
 },
 "nbformat": 4,
 "nbformat_minor": 0
}
