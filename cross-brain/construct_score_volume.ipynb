{
 "cells": [
  {
   "cell_type": "code",
   "execution_count": 1,
   "metadata": {
    "collapsed": false
   },
   "outputs": [],
   "source": [
    "%load_ext autoreload\n",
    "%autoreload 2"
   ]
  },
  {
   "cell_type": "code",
   "execution_count": 11,
   "metadata": {
    "collapsed": false
   },
   "outputs": [],
   "source": [
    "import numpy as np\n",
    "\n",
    "import sys\n",
    "import os\n",
    "\n",
    "sys.path.append(os.environ['REPO_DIR'] + '/utilities')\n",
    "from utilities2015 import *\n",
    "\n",
    "import time"
   ]
  },
  {
   "cell_type": "code",
   "execution_count": 3,
   "metadata": {
    "collapsed": true
   },
   "outputs": [],
   "source": [
    "volume_dir = '/oasis/projects/nsf/csd395/yuncong/CSHL_volumes/'\n",
    "if not os.path.exists(volume_dir):\n",
    "    os.makedirs(volume_dir)"
   ]
  },
  {
   "cell_type": "code",
   "execution_count": 4,
   "metadata": {
    "collapsed": true
   },
   "outputs": [],
   "source": [
    "patch_dir = '/oasis/projects/nsf/csd395/yuncong/CSHL_data_patches/'"
   ]
  },
  {
   "cell_type": "code",
   "execution_count": 5,
   "metadata": {
    "collapsed": true
   },
   "outputs": [],
   "source": [
    "scoremaps_rootdir = '/oasis/projects/nsf/csd395/yuncong/CSHL_scoremaps_lossless_svm_Sat16ClassFinetuned_v3/'"
   ]
  },
  {
   "cell_type": "code",
   "execution_count": 6,
   "metadata": {
    "collapsed": true
   },
   "outputs": [],
   "source": [
    "labels = ['BackG', '5N', '7n', '7N', '12N', 'Pn', 'VLL', \n",
    "          '6N', 'Amb', 'R', 'Tz', 'RtTg', 'LRt', 'LC', 'AP', 'sp5']\n",
    "\n",
    "labels_index = dict((j, i) for i, j in enumerate(labels))\n",
    "\n",
    "labels_from_surround = dict( (l+'_surround', l) for l in labels[1:])\n",
    "\n",
    "labels_surroundIncluded_list = labels[1:] + [l+'_surround' for l in labels[1:]]\n",
    "labels_surroundIncluded = set(labels_surroundIncluded_list)\n",
    "\n",
    "labels_surroundIncluded_index = dict((j, i) for i, j in enumerate(labels_surroundIncluded_list))\n",
    "\n",
    "colors = np.random.randint(0, 255, (len(labels_index), 3))"
   ]
  },
  {
   "cell_type": "code",
   "execution_count": 7,
   "metadata": {
    "collapsed": true
   },
   "outputs": [],
   "source": [
    "downsample_factor = 16\n",
    "\n",
    "section_thickness = 20 # in um\n",
    "xy_pixel_distance_lossless = 0.46\n",
    "xy_pixel_distance_tb = xy_pixel_distance_lossless * 32 # in um, thumbnail\n",
    "# factor = section_thickness/xy_pixel_distance_lossless\n",
    "\n",
    "xy_pixel_distance_downsampled = xy_pixel_distance_lossless * downsample_factor\n",
    "z_xy_ratio_downsampled = section_thickness / xy_pixel_distance_downsampled"
   ]
  },
  {
   "cell_type": "code",
   "execution_count": 8,
   "metadata": {
    "collapsed": true
   },
   "outputs": [],
   "source": [
    "##### reconstruct score volume ######"
   ]
  },
  {
   "cell_type": "code",
   "execution_count": 8,
   "metadata": {
    "collapsed": false
   },
   "outputs": [],
   "source": [
    "from joblib import Parallel, delayed"
   ]
  },
  {
   "cell_type": "code",
   "execution_count": 9,
   "metadata": {
    "collapsed": false
   },
   "outputs": [],
   "source": [
    "def load_scoremap(sec, l):\n",
    "    \n",
    "    scoremap_bp_filepath = scoremaps_rootdir + '/%(stack)s/%(slice)04d/%(stack)s_%(slice)04d_roi1_denseScoreMapLossless_%(label)s.hdf' \\\n",
    "            % {'stack': stack, 'slice': sec, 'label': l}\n",
    "        \n",
    "    if not os.path.exists(scoremap_bp_filepath):\n",
    "        sys.stderr.write('No scoremap for section %d\\n' % sec)\n",
    "        return None\n",
    "\n",
    "    scoremap_roi = load_hdf(scoremap_bp_filepath)\n",
    "\n",
    "    interpolation_xmin, interpolation_xmax, \\\n",
    "    interpolation_ymin, interpolation_ymax = np.loadtxt(scoremaps_rootdir + \\\n",
    "                        '/%(stack)s/%(sec)04d/%(stack)s_%(sec)04d_roi1_denseScoreMapLossless_%(label)s_interpBox.txt' % \\\n",
    "                                    {'stack': stack, 'sec': sec, 'label': l}).astype(np.int)\n",
    "\n",
    "    dense_scoremap_lossless = np.zeros((dm.image_height, dm.image_width), np.float32)\n",
    "\n",
    "    dense_scoremap_lossless[interpolation_ymin:interpolation_ymax+1,\n",
    "                            interpolation_xmin:interpolation_xmax+1] = scoremap_roi\n",
    "    scoremap = dense_scoremap_lossless[::downsample_factor, ::downsample_factor].copy()\n",
    "    \n",
    "    del scoremap_roi, dense_scoremap_lossless\n",
    "\n",
    "    return scoremap"
   ]
  },
  {
   "cell_type": "code",
   "execution_count": null,
   "metadata": {
    "collapsed": false
   },
   "outputs": [],
   "source": [
    "# t = time.time()\n",
    "\n",
    "# W = Parallel(n_jobs=16)(delayed(load_scoremap)(sec, l) for sec in range(section_roi_begin, section_roi_end+1))\n",
    "\n",
    "# volume = np.zeros((dm.image_height/downsample_factor, \n",
    "#                            dm.image_width/downsample_factor, \n",
    "#                            int(section_number_lookup[stack]*z_xy_ratio_downsampled)), np.float32)\n",
    "\n",
    "# for sec in range(section_roi_begin, section_roi_end+1):\n",
    "#     volume[:, :, int(sec*z_xy_ratio_downsampled):int((sec+1)*z_xy_ratio_downsampled)] = W[sec-section_roi_begin][..., None]\n",
    "\n",
    "# sys.stderr.write('build volume: %.2f seconds\\n' % (time.time() - t))"
   ]
  },
  {
   "cell_type": "code",
   "execution_count": null,
   "metadata": {
    "collapsed": false,
    "scrolled": true
   },
   "outputs": [
    {
     "name": "stdout",
     "output_type": "stream",
     "text": [
      "MD585\n",
      "132 292\n",
      "358 795\n",
      "5N\n",
      "(816, 890, 1195)\n",
      "35 850\n",
      "291 735\n",
      "358 795\n",
      "7n\n",
      "(816, 890, 1195)\n"
     ]
    },
    {
     "name": "stderr",
     "output_type": "stream",
     "text": [
      "build volume: 24.05 seconds\n"
     ]
    },
    {
     "name": "stdout",
     "output_type": "stream",
     "text": [
      "35 850\n",
      "291 735\n",
      "358 795\n",
      "7N\n",
      "(816, 890, 1195)\n"
     ]
    },
    {
     "name": "stderr",
     "output_type": "stream",
     "text": [
      "build volume: 19.60 seconds\n",
      "No scoremap for section 179\n",
      "No scoremap for section 181\n",
      "No scoremap for section 196\n",
      "No scoremap for section 198\n",
      "No scoremap for section 202\n",
      "No scoremap for section 204\n",
      "No scoremap for section 222\n",
      "No scoremap for section 224\n",
      "No scoremap for section 226\n",
      "No scoremap for section 232\n",
      "No scoremap for section 263\n",
      "No scoremap for section 182\n",
      "No scoremap for section 228\n",
      "No scoremap for section 230\n",
      "No scoremap for section 183\n",
      "No scoremap for section 184\n",
      "No scoremap for section 185\n",
      "No scoremap for section 186\n",
      "No scoremap for section 187\n",
      "No scoremap for section 188\n",
      "No scoremap for section 189\n",
      "No scoremap for section 190\n",
      "No scoremap for section 191\n",
      "No scoremap for section 192\n",
      "No scoremap for section 193\n",
      "No scoremap for section 194\n"
     ]
    }
   ],
   "source": [
    "# stack = 'MD594'\n",
    "# stack = 'MD593'\n",
    "\n",
    "for stack in ['MD585', 'MD593', 'MD592', 'MD590', 'MD591', 'MD595', 'MD598', 'MD602']:\n",
    "# for stack in ['MD594']:\n",
    "    \n",
    "    print stack\n",
    "\n",
    "    section_roi_begin, section_roi_end = detect_bbox_range_lookup[stack]\n",
    "    print section_roi_begin, section_roi_end\n",
    "\n",
    "    dm = DataManager(stack=stack)\n",
    "\n",
    "    roi_zmin = int(section_roi_begin*z_xy_ratio_downsampled)\n",
    "    roi_zmax = int((section_roi_end+1)*z_xy_ratio_downsampled)-1\n",
    "    print roi_zmin, roi_zmax\n",
    "\n",
    "    volume_xmin, volume_ymin, volume_zmin = (np.inf, np.inf, np.inf)\n",
    "    volume_xmax, volume_ymax, volume_zmax = (0,0,0)\n",
    "\n",
    "    t = time.time()\n",
    "    \n",
    "    for l in labels[1:]:\n",
    "\n",
    "        print l\n",
    "\n",
    "        volume = np.zeros((dm.image_height/downsample_factor, \n",
    "                           dm.image_width/downsample_factor, \n",
    "                           int(section_number_lookup[stack]*z_xy_ratio_downsampled)), np.float32)\n",
    "        print volume.shape\n",
    "\n",
    "        \n",
    "        t1 = time.time()\n",
    "        \n",
    "#         for sec in range(section_roi_begin, section_roi_end+1):\n",
    "            \n",
    "#             scoremap_bp_filepath = scoremaps_rootdir + '/%(stack)s/%(slice)04d/%(stack)s_%(slice)04d_roi1_denseScoreMapLossless_%(label)s.hdf' \\\n",
    "#             % {'stack': stack, 'slice': sec, 'label': l}\n",
    "        \n",
    "#             if not os.path.exists(scoremap_bp_filepath):\n",
    "#                 sys.stderr.write('No scoremap for section %d\\n' % sec)\n",
    "#                 continue\n",
    "\n",
    "# #             print sec\n",
    "\n",
    "#             scoremap_roi = load_hdf(scoremap_bp_filepath)\n",
    "\n",
    "\n",
    "#             dataset = stack + '_' + '%04d'%sec + '_roi1'\n",
    "\n",
    "#             interpolation_xmin, interpolation_xmax, \\\n",
    "#             interpolation_ymin, interpolation_ymax = np.loadtxt(scoremaps_rootdir + \\\n",
    "#                                 '/%(stack)s/%(sec)04d/%(stack)s_%(sec)04d_roi1_denseScoreMapLossless_%(label)s_interpBox.txt' % \\\n",
    "#                                             {'stack': stack, 'sec': sec, 'label': l}).astype(np.int)\n",
    "\n",
    "#             dense_scoremap_lossless = np.zeros((dm.image_height, dm.image_width), np.float32)\n",
    "\n",
    "#             dense_scoremap_lossless[interpolation_ymin:interpolation_ymax+1,\n",
    "#                                     interpolation_xmin:interpolation_xmax+1] = scoremap_roi\n",
    "#             scoremap = dense_scoremap_lossless[::downsample_factor, ::downsample_factor]\n",
    "#             volume[:, :, int(sec*z_xy_ratio_downsampled):int((sec+1)*z_xy_ratio_downsampled)] = scoremap[..., np.newaxis].copy()\n",
    "\n",
    "#             del scoremap, scoremap_roi, dense_scoremap_lossless\n",
    "\n",
    "        W = Parallel(n_jobs=16)(delayed(load_scoremap)(sec, l) for sec in range(section_roi_begin, section_roi_end+1))\n",
    "        \n",
    "        for sec in range(section_roi_begin, section_roi_end+1):\n",
    "            if W[sec-section_roi_begin] is None:\n",
    "                continue\n",
    "            volume[:, :, int(sec*z_xy_ratio_downsampled):int((sec+1)*z_xy_ratio_downsampled)] = W[sec-section_roi_begin][..., None]\n",
    "\n",
    "        sys.stderr.write('build volume: %.2f seconds\\n' % (time.time() - t1)) # ~1.5s / section\n",
    "    \n",
    "        ys, xs, zs = np.where(volume > 0)\n",
    "\n",
    "        xmin = xs.min()\n",
    "        xmax = xs.max()\n",
    "        ymin = ys.min()\n",
    "        ymax = ys.max()\n",
    "        zmin = zs.min()\n",
    "        zmax = zs.max()\n",
    "\n",
    "        print xmin, xmax\n",
    "        print ymin, ymax\n",
    "        print zmin, zmax\n",
    "\n",
    "        if xmin < volume_xmin:\n",
    "            volume_xmin = xmin\n",
    "        if ymin < volume_ymin:\n",
    "            volume_ymin = ymin\n",
    "        if zmin < volume_zmin:\n",
    "            volume_zmin = zmin\n",
    "        if xmax > volume_xmax:\n",
    "            volume_xmax = xmax\n",
    "        if ymax > volume_ymax:\n",
    "            volume_ymax = ymax\n",
    "        if zmax > volume_zmax:\n",
    "            volume_zmax = zmax\n",
    "\n",
    "        bp.pack_ndarray_file(volume[..., roi_zmin:roi_zmax+1],\n",
    "                     os.path.join(volume_dir, 'volume_%(stack)s_scoreMap_%(label)s.bp' % {'stack': stack, 'label': l}))    \n",
    "\n",
    "        del volume, ys, xs, zs, W\n",
    "\n",
    "    sys.stderr.write('build volume all: %.2f seconds\\n' % (time.time() - t))\n",
    "    \n",
    "    print volume_xmin, volume_ymin, volume_zmin\n",
    "    print volume_xmax, volume_ymax, volume_zmax\n",
    "\n",
    "    with open(os.path.join(volume_dir, 'volume_%(stack)s_scoreMap_limits.txt' % {'stack': stack}), 'w') as f:\n",
    "        f.write((' '.join(['%d']*6)+'\\n') % (volume_xmin, volume_xmax, volume_ymin, volume_ymax, volume_zmin, volume_zmax))"
   ]
  },
  {
   "cell_type": "code",
   "execution_count": null,
   "metadata": {
    "collapsed": true
   },
   "outputs": [],
   "source": []
  }
 ],
 "metadata": {
  "kernelspec": {
   "display_name": "Python 2",
   "language": "python",
   "name": "python2"
  },
  "language_info": {
   "codemirror_mode": {
    "name": "ipython",
    "version": 2
   },
   "file_extension": ".py",
   "mimetype": "text/x-python",
   "name": "python",
   "nbconvert_exporter": "python",
   "pygments_lexer": "ipython2",
   "version": "2.7.3"
  }
 },
 "nbformat": 4,
 "nbformat_minor": 0
}
