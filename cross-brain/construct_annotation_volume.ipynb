{
 "cells": [
  {
   "cell_type": "code",
   "execution_count": 1,
   "metadata": {
    "collapsed": false
   },
   "outputs": [],
   "source": [
    "%load_ext autoreload\n",
    "%autoreload 2"
   ]
  },
  {
   "cell_type": "code",
   "execution_count": 2,
   "metadata": {
    "collapsed": true
   },
   "outputs": [],
   "source": [
    "import numpy as np\n",
    "\n",
    "import sys\n",
    "import os\n",
    "\n",
    "sys.path.append(os.environ['REPO_DIR'] + '/utilities')\n",
    "from utilities2015 import *\n",
    "\n",
    "import matplotlib.pyplot as plt\n",
    "%matplotlib inline"
   ]
  },
  {
   "cell_type": "code",
   "execution_count": 3,
   "metadata": {
    "collapsed": true
   },
   "outputs": [],
   "source": [
    "volume_dir = '/oasis/projects/nsf/csd395/yuncong/CSHL_volumes/'\n",
    "if not os.path.exists(volume_dir):\n",
    "    os.makedirs(volume_dir)"
   ]
  },
  {
   "cell_type": "code",
   "execution_count": null,
   "metadata": {
    "collapsed": true
   },
   "outputs": [],
   "source": [
    "##### reconstruct annotation volume ######"
   ]
  },
  {
   "cell_type": "code",
   "execution_count": null,
   "metadata": {
    "collapsed": false
   },
   "outputs": [],
   "source": [
    "downsample_factor = 8\n",
    "\n",
    "section_thickness = 20 # in um\n",
    "xy_pixel_distance_lossless = 0.46\n",
    "xy_pixel_distance_tb = xy_pixel_distance_lossless * 32 # in um, thumbnail\n",
    "# factor = section_thickness/xy_pixel_distance_lossless\n",
    "\n",
    "xy_pixel_distance_downsampled = xy_pixel_distance_lossless * downsample_factor\n",
    "z_xy_ratio_downsampled = section_thickness / xy_pixel_distance_downsampled\n",
    "\n",
    "stack = 'MD589'\n",
    "\n",
    "n_sec = {'MD589': 445, 'MD594': 432}\n",
    "    \n",
    "# build annotation volume\n",
    "section_bs_begin, section_bs_end = section_range_lookup[stack]\n",
    "print section_bs_begin, section_bs_end"
   ]
  },
  {
   "cell_type": "code",
   "execution_count": null,
   "metadata": {
    "collapsed": false,
    "scrolled": true
   },
   "outputs": [],
   "source": [
    "dm = DataManager(stack=stack)\n",
    "\n",
    "volume = np.zeros((dm.image_height/downsample_factor, \n",
    "                   dm.image_width/downsample_factor, \n",
    "                   int(n_sec[stack]*z_xy_ratio_downsampled)), np.int8)\n",
    "\n",
    "print volume.shape\n",
    "\n",
    "for sec in range(section_bs_begin, section_bs_end+1):\n",
    "    \n",
    "    # only 9 class\n",
    "    \n",
    "#     fn = '/oasis/projects/nsf/csd395/yuncong/CSHL_labelMapsLossless/%(stack)s/%(stack)s_%(slice)04d_labelMapLossless.npz' % \\\n",
    "#         {'stack': stack, 'slice': sec}\n",
    "    fn = '/oasis/projects/nsf/csd395/yuncong/CSHL_labelMapsLossless/%(stack)s/%(stack)s_%(slice)04d_labelMapLossless.bp' % \\\n",
    "        {'stack': stack, 'slice': sec}\n",
    "\n",
    "    # or, all classes\n",
    "#     fn = '/oasis/projects/nsf/csd395/yuncong/CSHL_labelMapsLossless/%(stack)s/%(stack)s_%(slice)04d_labelMapLossless_AllClasses.npz' % \\\n",
    "#         {'stack': stack, 'slice': sec}\n",
    "        \n",
    "    if os.path.exists(fn):\n",
    "        print sec\n",
    "#         label_map = np.load(fn)['arr_0'][::downsample_factor, ::downsample_factor]\n",
    "        label_map = bp.unpack_ndarray_file(fn)[::downsample_factor, ::downsample_factor]\n",
    "        volume[:, :, int(z_xy_ratio_downsampled*sec):int(z_xy_ratio_downsampled*(sec+1))] = label_map[..., np.newaxis]\n",
    "\n",
    "    # np.savez_compressed(os.path.join(volume_dir, 'volume_'+stack+'_labelmap'), volume[xmin:xmax+1, ymin:ymax+1, zmin:zmax+1])\n",
    "    # np.savez_compressed(os.path.join(volume_dir, 'volume_'+stack+'_predMap'), volume[xmin:xmax+1, ymin:ymax+1, zmin:zmax+1])\n",
    "#     np.savez_compressed(os.path.join(volume_dir, 'volume_%(stack)s_scoreMap_%(label)d' % {'stack': stack, 'label': l}),\n",
    "#                         volume[xmin:xmax+1, ymin:ymax+1, zmin:zmax+1])"
   ]
  },
  {
   "cell_type": "code",
   "execution_count": null,
   "metadata": {
    "collapsed": false
   },
   "outputs": [],
   "source": [
    "# for sec in range(section_bs_begin, section_bs_end+1):\n",
    "\n",
    "sec = 351\n",
    "plt.matshow(volume[..., int(sec*z_xy_ratio_downsampled)]);\n",
    "plt.title('section %d, z = (%d, %d)'%(sec, int(sec*z_xy_ratio_downsampled), \n",
    "                                     int(z_xy_ratio_downsampled*(sec+1))-1));\n",
    "plt.show();"
   ]
  },
  {
   "cell_type": "code",
   "execution_count": null,
   "metadata": {
    "collapsed": false
   },
   "outputs": [],
   "source": [
    "ys, xs, zs = np.where(volume != 0)\n",
    "\n",
    "xmin = xs.min()\n",
    "xmax = xs.max()\n",
    "ymin = ys.min()\n",
    "ymax = ys.max()\n",
    "zmin = zs.min()\n",
    "zmax = zs.max()\n",
    "\n",
    "print xmin, xmax\n",
    "print ymin, ymax\n",
    "print zmin, zmax\n",
    "\n",
    "reduced_xdim = xmax+1-xmin\n",
    "reduced_ydim = ymax+1-ymin\n",
    "reduced_zdim = zmax+1-zmin\n",
    "print reduced_xdim, reduced_ydim, reduced_zdim"
   ]
  },
  {
   "cell_type": "code",
   "execution_count": null,
   "metadata": {
    "collapsed": true
   },
   "outputs": [],
   "source": [
    "bp.pack_ndarray_file(volume[ymin:ymax+1, xmin:xmax+1, zmin:zmax+1],\n",
    "                     os.path.join(volume_dir, 'volume_%(stack)s_annotation.bp' % {'stack': stack}))"
   ]
  },
  {
   "cell_type": "code",
   "execution_count": null,
   "metadata": {
    "collapsed": false
   },
   "outputs": [],
   "source": [
    "np.savez_compressed(os.path.join(volume_dir, \n",
    "                                 'volume_%(stack)s_annotationAllClasses' % {'stack': stack}),\n",
    "                    volume[xmin:xmax+1, ymin:ymax+1, zmin:zmax+1])"
   ]
  },
  {
   "cell_type": "code",
   "execution_count": null,
   "metadata": {
    "collapsed": true
   },
   "outputs": [],
   "source": [
    "np.savez_compressed(os.path.join(volume_dir, \n",
    "                                 'volume_%(stack)s_annotation' % {'stack': stack}),\n",
    "                    volume[xmin:xmax+1, ymin:ymax+1, zmin:zmax+1])"
   ]
  }
 ],
 "metadata": {
  "kernelspec": {
   "display_name": "Python 2",
   "language": "python",
   "name": "python2"
  },
  "language_info": {
   "codemirror_mode": {
    "name": "ipython",
    "version": 2
   },
   "file_extension": ".py",
   "mimetype": "text/x-python",
   "name": "python",
   "nbconvert_exporter": "python",
   "pygments_lexer": "ipython2",
   "version": "2.7.3"
  }
 },
 "nbformat": 4,
 "nbformat_minor": 0
}
