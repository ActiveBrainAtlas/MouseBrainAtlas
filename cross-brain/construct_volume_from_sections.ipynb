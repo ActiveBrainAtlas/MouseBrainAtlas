{
 "cells": [
  {
   "cell_type": "code",
   "execution_count": 1,
   "metadata": {
    "collapsed": true
   },
   "outputs": [],
   "source": [
    "%load_ext autoreload\n",
    "%autoreload 2"
   ]
  },
  {
   "cell_type": "code",
   "execution_count": 2,
   "metadata": {
    "collapsed": true
   },
   "outputs": [],
   "source": [
    "import numpy as np\n",
    "\n",
    "import sys\n",
    "import os\n",
    "\n",
    "sys.path.append(os.environ['REPO_DIR'] + '/utilities')\n",
    "from utilities2015 import *\n",
    "\n",
    "import matplotlib.pyplot as plt\n",
    "%matplotlib inline"
   ]
  },
  {
   "cell_type": "code",
   "execution_count": 6,
   "metadata": {
    "collapsed": false
   },
   "outputs": [],
   "source": [
    "# stack = 'MD585'\n",
    "stack = 'MD589'\n",
    "# first1, last1 = section_range_lookup[stack]\n",
    "first1, last1 = (1,445)\n",
    "\n",
    "tb_masks1 = [img_as_float(imread(os.environ['DATA_DIR'] + '/%(stack)s_thumbnail_aligned_masked/%(stack)s_%(slice)04d_thumbnail_aligned_masked.png' \\\n",
    "        % {'stack': stack, 'slice': i})) for i in range(first1, last1+1)]"
   ]
  },
  {
   "cell_type": "code",
   "execution_count": null,
   "metadata": {
    "collapsed": false
   },
   "outputs": [],
   "source": [
    "section_thickness = 20 # in um\n",
    "xy_pixel_distance_lossless = 0.46\n",
    "xy_pixel_distance_tb = xy_pixel_distance_lossless * 32 # in um, thumbnail\n",
    "factor = section_thickness/xy_pixel_distance_tb\n",
    "\n",
    "n_sec = last1 + 1 - first1\n",
    "volume1 = np.zeros(tb_masks1[0].shape+(n_sec*factor,))\n",
    "\n",
    "for i, m in enumerate(tb_masks1):\n",
    "    volume1[:,:, int(factor*i): int(factor*(i+1))] = m[...,np.newaxis]"
   ]
  },
  {
   "cell_type": "code",
   "execution_count": 5,
   "metadata": {
    "collapsed": false
   },
   "outputs": [
    {
     "name": "stdout",
     "output_type": "stream",
     "text": [
      "21 669\n",
      "0 1275\n",
      "0 610\n"
     ]
    }
   ],
   "source": [
    "volume1[volume1 < 1e-6] = 0\n",
    "xs1, ys1, zs1 = np.where(volume1 > 0)\n",
    "\n",
    "xmin = xs1.min()\n",
    "xmax = xs1.max()\n",
    "ymin = ys1.min()\n",
    "ymax = ys1.max()\n",
    "zmin = zs1.min()\n",
    "zmax = zs1.max()\n",
    "\n",
    "print xmin, xmax\n",
    "print ymin, ymax\n",
    "print zmin, zmax\n",
    "\n",
    "np.save('volume_'+stack+'.npy', volume1[xmin:xmax+1, ymin:ymax+1, zmin:zmax+1])"
   ]
  },
  {
   "cell_type": "code",
   "execution_count": null,
   "metadata": {
    "collapsed": true
   },
   "outputs": [],
   "source": []
  }
 ],
 "metadata": {
  "kernelspec": {
   "display_name": "Python 2",
   "language": "python",
   "name": "python2"
  },
  "language_info": {
   "codemirror_mode": {
    "name": "ipython",
    "version": 2
   },
   "file_extension": ".py",
   "mimetype": "text/x-python",
   "name": "python",
   "nbconvert_exporter": "python",
   "pygments_lexer": "ipython2",
   "version": "2.7.6"
  }
 },
 "nbformat": 4,
 "nbformat_minor": 0
}
