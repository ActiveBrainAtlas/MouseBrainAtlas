{
 "cells": [
  {
   "cell_type": "code",
   "execution_count": 1,
   "metadata": {
    "collapsed": true
   },
   "outputs": [],
   "source": [
    "%load_ext autoreload\n",
    "%autoreload 2"
   ]
  },
  {
   "cell_type": "code",
   "execution_count": 2,
   "metadata": {
    "collapsed": true
   },
   "outputs": [],
   "source": [
    "import numpy as np\n",
    "\n",
    "import sys\n",
    "import os\n",
    "\n",
    "sys.path.append(os.environ['REPO_DIR'] + '/utilities')\n",
    "from utilities2015 import *\n",
    "\n",
    "import matplotlib.pyplot as plt\n",
    "%matplotlib inline"
   ]
  },
  {
   "cell_type": "code",
   "execution_count": null,
   "metadata": {
    "collapsed": false
   },
   "outputs": [],
   "source": [
    "stack = 'MD589'\n",
    "\n",
    "first, last = (1, 445)\n",
    "\n",
    "images = {}\n",
    "\n",
    "for i in range(first, last+1):\n",
    "    \n",
    "    images[i] = img_as_float(imread(os.environ['DATA_DIR'] + '/%(stack)s_thumbnail_aligned_masked/%(stack)s_%(slice)04d_thumbnail_aligned_masked.png' \\\n",
    "        % {'stack': stack, 'slice': i})) "
   ]
  },
  {
   "cell_type": "code",
   "execution_count": 7,
   "metadata": {
    "collapsed": false
   },
   "outputs": [
    {
     "name": "stderr",
     "output_type": "stream",
     "text": [
      "/oasis/projects/nsf/csd181/yuncong/virtualenv-1.9.1/yuncongve/lib/python2.7/site-packages/ipykernel/__main__.py:7: DeprecationWarning: using a non-integer number instead of an integer will result in an error in the future\n"
     ]
    }
   ],
   "source": [
    "section_thickness = 20 # in um\n",
    "xy_pixel_distance_lossless = 0.46\n",
    "xy_pixel_distance_tb = xy_pixel_distance_lossless * 32 # in um, thumbnail\n",
    "factor = section_thickness/xy_pixel_distance_tb\n",
    "\n",
    "n_sec = last + 1 - first\n",
    "volume = np.zeros(images.values()[0].shape+(n_sec*factor,))\n",
    "\n",
    "for i, m in images.iteritems():\n",
    "    volume[:,:, int(factor*i): int(factor*(i+1))] = m[...,np.newaxis]"
   ]
  },
  {
   "cell_type": "code",
   "execution_count": 8,
   "metadata": {
    "collapsed": true
   },
   "outputs": [],
   "source": [
    "volume_dir = '/oasis/projects/nsf/csd395/yuncong/CSHL_volumes'"
   ]
  },
  {
   "cell_type": "code",
   "execution_count": 9,
   "metadata": {
    "collapsed": false
   },
   "outputs": [
    {
     "name": "stdout",
     "output_type": "stream",
     "text": [
      "54 691\n",
      "92 1210\n",
      "1 603\n"
     ]
    }
   ],
   "source": [
    "volume[volume < 1e-6] = 0\n",
    "xs, ys, zs = np.where(volume > 0)\n",
    "\n",
    "xmin = xs.min()\n",
    "xmax = xs.max()\n",
    "ymin = ys.min()\n",
    "ymax = ys.max()\n",
    "zmin = zs.min()\n",
    "zmax = zs.max()\n",
    "\n",
    "print xmin, xmax\n",
    "print ymin, ymax\n",
    "print zmin, zmax"
   ]
  },
  {
   "cell_type": "code",
   "execution_count": null,
   "metadata": {
    "collapsed": true
   },
   "outputs": [],
   "source": [
    "# np.save(os.path.join(volume_dir, 'volume_'+stack+'_thumbnail.npy'),\n",
    "#         volume[xmin:xmax+1, ymin:ymax+1, zmin:zmax+1])"
   ]
  },
  {
   "cell_type": "code",
   "execution_count": 10,
   "metadata": {
    "collapsed": true
   },
   "outputs": [],
   "source": [
    "np.savez_compressed(os.path.join(volume_dir, 'volume_'+stack+'_thumbnail'), \n",
    "                    volume[xmin:xmax+1, ymin:ymax+1, zmin:zmax+1])"
   ]
  }
 ],
 "metadata": {
  "kernelspec": {
   "display_name": "Python 2",
   "language": "python",
   "name": "python2"
  },
  "language_info": {
   "codemirror_mode": {
    "name": "ipython",
    "version": 2
   },
   "file_extension": ".py",
   "mimetype": "text/x-python",
   "name": "python",
   "nbconvert_exporter": "python",
   "pygments_lexer": "ipython2",
   "version": "2.7.3"
  }
 },
 "nbformat": 4,
 "nbformat_minor": 0
}
