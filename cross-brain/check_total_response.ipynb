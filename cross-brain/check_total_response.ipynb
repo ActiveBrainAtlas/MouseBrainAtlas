{
 "cells": [
  {
   "cell_type": "code",
   "execution_count": 1,
   "metadata": {
    "collapsed": true
   },
   "outputs": [],
   "source": [
    "import numpy as np\n",
    "\n",
    "import sys\n",
    "import os\n",
    "\n",
    "sys.path.append(os.environ['REPO_DIR'] + '/utilities')\n",
    "from utilities2015 import *\n",
    "\n",
    "import matplotlib.pyplot as plt\n",
    "%matplotlib inline"
   ]
  },
  {
   "cell_type": "code",
   "execution_count": 6,
   "metadata": {
    "collapsed": true
   },
   "outputs": [],
   "source": [
    "stack = 'MD594'\n",
    "section_roi_begin, section_roi_end = detect_bbox_range_lookup[stack]"
   ]
  },
  {
   "cell_type": "code",
   "execution_count": 4,
   "metadata": {
    "collapsed": true
   },
   "outputs": [],
   "source": [
    "labels = ['BackG', '5N', '7n', '7N', '12N', 'Gr', 'LVe', 'Pn', 'SuVe', 'VLL']\n",
    "label_dict = dict([(l,i) for i, l in enumerate(labels)])"
   ]
  },
  {
   "cell_type": "code",
   "execution_count": 8,
   "metadata": {
    "collapsed": true
   },
   "outputs": [],
   "source": [
    "scoremaps_rootdir = '/oasis/projects/nsf/csd395/yuncong/CSHL_scoremaps_lossless'"
   ]
  },
  {
   "cell_type": "code",
   "execution_count": 10,
   "metadata": {
    "collapsed": true
   },
   "outputs": [],
   "source": [
    "downsample_factor = 8"
   ]
  },
  {
   "cell_type": "code",
   "execution_count": 23,
   "metadata": {
    "collapsed": false,
    "scrolled": true
   },
   "outputs": [
    {
     "name": "stderr",
     "output_type": "stream",
     "text": [
      "No scoremap for 5N section 143\n",
      "No scoremap for 7n section 143\n",
      "No scoremap for 7N section 143\n",
      "No scoremap for 12N section 143\n",
      "No scoremap for Gr section 143\n",
      "No scoremap for LVe section 143\n",
      "No scoremap for Pn section 143\n",
      "No scoremap for SuVe section 143\n",
      "No scoremap for VLL section 143\n",
      "No scoremap for 5N section 144\n",
      "No scoremap for 7n section 144\n",
      "No scoremap for 7N section 144\n",
      "No scoremap for 12N section 144\n",
      "No scoremap for Gr section 144\n",
      "No scoremap for LVe section 144\n",
      "No scoremap for Pn section 144\n",
      "No scoremap for SuVe section 144\n",
      "No scoremap for VLL section 144\n",
      "No scoremap for 5N section 145\n",
      "No scoremap for 7n section 145\n",
      "No scoremap for 7N section 145\n",
      "No scoremap for 12N section 145\n",
      "No scoremap for Gr section 145\n",
      "No scoremap for LVe section 145\n",
      "No scoremap for Pn section 145\n",
      "No scoremap for SuVe section 145\n",
      "No scoremap for VLL section 145\n",
      "No scoremap for 5N section 146\n",
      "No scoremap for 7n section 146\n",
      "No scoremap for 7N section 146\n",
      "No scoremap for 12N section 146\n",
      "No scoremap for Gr section 146\n",
      "No scoremap for LVe section 146\n",
      "No scoremap for Pn section 146\n",
      "No scoremap for SuVe section 146\n",
      "No scoremap for VLL section 146\n",
      "No scoremap for 5N section 147\n",
      "No scoremap for 7n section 147\n",
      "No scoremap for 7N section 147\n",
      "No scoremap for 12N section 147\n",
      "No scoremap for Gr section 147\n",
      "No scoremap for LVe section 147\n",
      "No scoremap for Pn section 147\n",
      "No scoremap for SuVe section 147\n",
      "No scoremap for VLL section 147\n",
      "No scoremap for 5N section 148\n",
      "No scoremap for 7n section 148\n",
      "No scoremap for 7N section 148\n",
      "No scoremap for 12N section 148\n",
      "No scoremap for Gr section 148\n",
      "No scoremap for LVe section 148\n",
      "No scoremap for Pn section 148\n",
      "No scoremap for SuVe section 148\n",
      "No scoremap for VLL section 148\n",
      "No scoremap for 5N section 149\n",
      "No scoremap for 7n section 149\n",
      "No scoremap for 7N section 149\n",
      "No scoremap for 12N section 149\n",
      "No scoremap for Gr section 149\n",
      "No scoremap for LVe section 149\n",
      "No scoremap for Pn section 149\n",
      "No scoremap for SuVe section 149\n",
      "No scoremap for VLL section 149\n",
      "2, No 12N is detected on section 150\n",
      "2, No Gr is detected on section 150\n",
      "2, No SuVe is detected on section 150\n"
     ]
    },
    {
     "name": "stdout",
     "output_type": "stream",
     "text": [
      "143\n",
      "144\n",
      "145\n",
      "146\n",
      "147\n",
      "148\n",
      "149\n",
      "150\n",
      "151"
     ]
    },
    {
     "name": "stderr",
     "output_type": "stream",
     "text": [
      "2, No Gr is detected on section 151\n",
      "2, No LVe is detected on section 151\n"
     ]
    },
    {
     "name": "stdout",
     "output_type": "stream",
     "text": [
      "\n",
      "152"
     ]
    },
    {
     "name": "stderr",
     "output_type": "stream",
     "text": [
      "2, No SuVe is detected on section 151\n",
      "2, No 12N is detected on section 152\n",
      "2, No Gr is detected on section 152\n",
      "2, No SuVe is detected on section 152\n"
     ]
    },
    {
     "name": "stdout",
     "output_type": "stream",
     "text": [
      "\n",
      "153"
     ]
    },
    {
     "name": "stderr",
     "output_type": "stream",
     "text": [
      "2, No 12N is detected on section 153\n",
      "2, No Gr is detected on section 153\n"
     ]
    },
    {
     "name": "stdout",
     "output_type": "stream",
     "text": [
      "\n",
      "154"
     ]
    },
    {
     "name": "stderr",
     "output_type": "stream",
     "text": [
      "2, No SuVe is detected on section 153\n",
      "2, No 12N is detected on section 154\n",
      "2, No Gr is detected on section 154\n",
      "2, No SuVe is detected on section 154\n"
     ]
    },
    {
     "name": "stdout",
     "output_type": "stream",
     "text": [
      "\n",
      "155"
     ]
    },
    {
     "name": "stderr",
     "output_type": "stream",
     "text": [
      "2, No 12N is detected on section 155\n",
      "2, No Gr is detected on section 155\n"
     ]
    },
    {
     "name": "stdout",
     "output_type": "stream",
     "text": [
      "\n",
      "156"
     ]
    },
    {
     "name": "stderr",
     "output_type": "stream",
     "text": [
      "2, No SuVe is detected on section 155\n",
      "2, No 12N is detected on section 156\n",
      "2, No Gr is detected on section 156\n",
      "2, No SuVe is detected on section 156\n"
     ]
    },
    {
     "name": "stdout",
     "output_type": "stream",
     "text": [
      "\n",
      "157"
     ]
    },
    {
     "name": "stderr",
     "output_type": "stream",
     "text": [
      "2, No 12N is detected on section 157\n",
      "2, No Gr is detected on section 157\n",
      "2, No LVe is detected on section 157\n",
      "2, No SuVe is detected on section 157\n"
     ]
    },
    {
     "name": "stdout",
     "output_type": "stream",
     "text": [
      "\n",
      "158"
     ]
    },
    {
     "name": "stderr",
     "output_type": "stream",
     "text": [
      "2, No 12N is detected on section 158\n",
      "2, No Gr is detected on section 158\n"
     ]
    },
    {
     "name": "stdout",
     "output_type": "stream",
     "text": [
      "\n",
      "159"
     ]
    },
    {
     "name": "stderr",
     "output_type": "stream",
     "text": [
      "2, No SuVe is detected on section 158\n",
      "2, No 12N is detected on section 159\n",
      "2, No Gr is detected on section 159\n",
      "2, No SuVe is detected on section 159\n"
     ]
    },
    {
     "name": "stdout",
     "output_type": "stream",
     "text": [
      "\n",
      "160"
     ]
    },
    {
     "name": "stderr",
     "output_type": "stream",
     "text": [
      "2, No 12N is detected on section 160\n",
      "2, No Gr is detected on section 160\n"
     ]
    },
    {
     "name": "stdout",
     "output_type": "stream",
     "text": [
      "\n",
      "161"
     ]
    },
    {
     "name": "stderr",
     "output_type": "stream",
     "text": [
      "2, No SuVe is detected on section 160\n",
      "2, No 12N is detected on section 161\n",
      "2, No Gr is detected on section 161\n",
      "2, No SuVe is detected on section 161\n"
     ]
    },
    {
     "name": "stdout",
     "output_type": "stream",
     "text": [
      "\n",
      "162"
     ]
    },
    {
     "name": "stderr",
     "output_type": "stream",
     "text": [
      "2, No 12N is detected on section 162\n",
      "2, No Gr is detected on section 162\n"
     ]
    },
    {
     "name": "stdout",
     "output_type": "stream",
     "text": [
      "\n",
      "163"
     ]
    },
    {
     "name": "stderr",
     "output_type": "stream",
     "text": [
      "2, No SuVe is detected on section 162\n",
      "2, No 12N is detected on section 163\n",
      "2, No Gr is detected on section 163\n",
      "2, No SuVe is detected on section 163\n"
     ]
    },
    {
     "name": "stdout",
     "output_type": "stream",
     "text": [
      "\n",
      "164\n",
      "165"
     ]
    },
    {
     "name": "stderr",
     "output_type": "stream",
     "text": [
      "2, No Gr is detected on section 164\n",
      "2, No Gr is detected on section 165\n"
     ]
    },
    {
     "name": "stdout",
     "output_type": "stream",
     "text": [
      "\n",
      "166"
     ]
    },
    {
     "name": "stderr",
     "output_type": "stream",
     "text": [
      "2, No 12N is detected on section 166\n",
      "2, No Gr is detected on section 166\n"
     ]
    },
    {
     "name": "stdout",
     "output_type": "stream",
     "text": [
      "\n",
      "167\n",
      "168"
     ]
    },
    {
     "name": "stderr",
     "output_type": "stream",
     "text": [
      "2, No SuVe is detected on section 167\n",
      "2, No SuVe is detected on section 168\n"
     ]
    },
    {
     "name": "stdout",
     "output_type": "stream",
     "text": [
      "\n",
      "169"
     ]
    },
    {
     "name": "stderr",
     "output_type": "stream",
     "text": [
      "2, No Gr is detected on section 169\n",
      "2, No SuVe is detected on section 169\n"
     ]
    },
    {
     "name": "stdout",
     "output_type": "stream",
     "text": [
      "\n",
      "170"
     ]
    },
    {
     "name": "stderr",
     "output_type": "stream",
     "text": [
      "2, No 12N is detected on section 170\n",
      "2, No SuVe is detected on section 170\n"
     ]
    },
    {
     "name": "stdout",
     "output_type": "stream",
     "text": [
      "\n",
      "171\n",
      "172"
     ]
    },
    {
     "name": "stderr",
     "output_type": "stream",
     "text": [
      "2, No SuVe is detected on section 171\n",
      "2, No SuVe is detected on section 172\n"
     ]
    },
    {
     "name": "stdout",
     "output_type": "stream",
     "text": [
      "\n",
      "173"
     ]
    },
    {
     "name": "stderr",
     "output_type": "stream",
     "text": [
      "2, No Gr is detected on section 173\n",
      "2, No SuVe is detected on section 173\n"
     ]
    },
    {
     "name": "stdout",
     "output_type": "stream",
     "text": [
      "\n",
      "174"
     ]
    },
    {
     "name": "stderr",
     "output_type": "stream",
     "text": [
      "2, No Gr is detected on section 174\n",
      "2, No LVe is detected on section 174\n"
     ]
    },
    {
     "name": "stdout",
     "output_type": "stream",
     "text": [
      "\n",
      "175"
     ]
    },
    {
     "name": "stderr",
     "output_type": "stream",
     "text": [
      "2, No SuVe is detected on section 174\n",
      "2, No SuVe is detected on section 175\n"
     ]
    },
    {
     "name": "stdout",
     "output_type": "stream",
     "text": [
      "\n",
      "176\n",
      "177"
     ]
    },
    {
     "name": "stderr",
     "output_type": "stream",
     "text": [
      "2, No 12N is detected on section 177\n",
      "2, No Gr is detected on section 177\n",
      "2, No LVe is detected on section 177\n",
      "2, No SuVe is detected on section 177\n"
     ]
    },
    {
     "name": "stdout",
     "output_type": "stream",
     "text": [
      "\n",
      "178\n",
      "179"
     ]
    },
    {
     "name": "stderr",
     "output_type": "stream",
     "text": [
      "2, No SuVe is detected on section 178\n",
      "2, No Gr is detected on section 179\n",
      "2, No LVe is detected on section 179\n",
      "2, No SuVe is detected on section 179\n"
     ]
    },
    {
     "name": "stdout",
     "output_type": "stream",
     "text": [
      "\n",
      "180\n",
      "181"
     ]
    },
    {
     "name": "stderr",
     "output_type": "stream",
     "text": [
      "2, No LVe is detected on section 181\n",
      "2, No SuVe is detected on section 181\n"
     ]
    },
    {
     "name": "stdout",
     "output_type": "stream",
     "text": [
      "\n",
      "182\n",
      "183"
     ]
    },
    {
     "name": "stderr",
     "output_type": "stream",
     "text": [
      "2, No LVe is detected on section 182\n",
      "2, No 12N is detected on section 183\n",
      "2, No Gr is detected on section 183\n",
      "2, No SuVe is detected on section 183\n"
     ]
    },
    {
     "name": "stdout",
     "output_type": "stream",
     "text": [
      "\n",
      "184\n",
      "185"
     ]
    },
    {
     "name": "stderr",
     "output_type": "stream",
     "text": [
      "2, No LVe is detected on section 184\n",
      "2, No Gr is detected on section 185\n"
     ]
    },
    {
     "name": "stdout",
     "output_type": "stream",
     "text": [
      "\n",
      "186\n",
      "187"
     ]
    },
    {
     "name": "stderr",
     "output_type": "stream",
     "text": [
      "2, No SuVe is detected on section 185\n",
      "2, No 5N is detected on section 187\n",
      "2, No 7n is detected on section 187\n",
      "2, No 7N is detected on section 187\n",
      "2, No 12N is detected on section 187\n",
      "2, No Gr is detected on section 187\n",
      "2, No LVe is detected on section 187\n",
      "2, No Pn is detected on section 187\n",
      "2, No SuVe is detected on section 187\n",
      "2, No VLL is detected on section 187\n"
     ]
    },
    {
     "name": "stdout",
     "output_type": "stream",
     "text": [
      "\n",
      "188\n",
      "189"
     ]
    },
    {
     "name": "stderr",
     "output_type": "stream",
     "text": [
      "2, No LVe is detected on section 189\n",
      "2, No SuVe is detected on section 189\n"
     ]
    },
    {
     "name": "stdout",
     "output_type": "stream",
     "text": [
      "\n",
      "190\n",
      "191"
     ]
    },
    {
     "name": "stderr",
     "output_type": "stream",
     "text": [
      "2, No LVe is detected on section 190\n",
      "2, No LVe is detected on section 191\n"
     ]
    },
    {
     "name": "stdout",
     "output_type": "stream",
     "text": [
      "\n",
      "192\n",
      "193"
     ]
    },
    {
     "name": "stderr",
     "output_type": "stream",
     "text": [
      "2, No SuVe is detected on section 191\n",
      "2, No LVe is detected on section 193\n"
     ]
    },
    {
     "name": "stdout",
     "output_type": "stream",
     "text": [
      "\n",
      "194"
     ]
    },
    {
     "name": "stderr",
     "output_type": "stream",
     "text": [
      "2, No SuVe is detected on section 193\n",
      "2, No 12N is detected on section 194\n",
      "2, No LVe is detected on section 194\n",
      "2, No SuVe is detected on section 194\n"
     ]
    },
    {
     "name": "stdout",
     "output_type": "stream",
     "text": [
      "\n",
      "195"
     ]
    },
    {
     "name": "stderr",
     "output_type": "stream",
     "text": [
      "2, No Gr is detected on section 195\n",
      "2, No LVe is detected on section 195\n"
     ]
    },
    {
     "name": "stdout",
     "output_type": "stream",
     "text": [
      "\n",
      "196"
     ]
    },
    {
     "name": "stderr",
     "output_type": "stream",
     "text": [
      "2, No SuVe is detected on section 195\n",
      "2, No SuVe is detected on section 196\n"
     ]
    },
    {
     "name": "stdout",
     "output_type": "stream",
     "text": [
      "\n",
      "197"
     ]
    },
    {
     "name": "stderr",
     "output_type": "stream",
     "text": [
      "2, No 12N is detected on section 197\n",
      "2, No LVe is detected on section 197\n"
     ]
    },
    {
     "name": "stdout",
     "output_type": "stream",
     "text": [
      "\n",
      "198"
     ]
    },
    {
     "name": "stderr",
     "output_type": "stream",
     "text": [
      "2, No SuVe is detected on section 197\n",
      "2, No SuVe is detected on section 198\n"
     ]
    },
    {
     "name": "stdout",
     "output_type": "stream",
     "text": [
      "\n",
      "199"
     ]
    },
    {
     "name": "stderr",
     "output_type": "stream",
     "text": [
      "2, No 12N is detected on section 199\n",
      "2, No LVe is detected on section 199\n"
     ]
    },
    {
     "name": "stdout",
     "output_type": "stream",
     "text": [
      "\n",
      "200"
     ]
    },
    {
     "name": "stderr",
     "output_type": "stream",
     "text": [
      "2, No SuVe is detected on section 199\n",
      "2, No 12N is detected on section 200\n",
      "2, No LVe is detected on section 200\n",
      "2, No SuVe is detected on section 200\n"
     ]
    },
    {
     "name": "stdout",
     "output_type": "stream",
     "text": [
      "\n",
      "201"
     ]
    },
    {
     "name": "stderr",
     "output_type": "stream",
     "text": [
      "2, No 12N is detected on section 201\n",
      "2, No LVe is detected on section 201\n"
     ]
    },
    {
     "name": "stdout",
     "output_type": "stream",
     "text": [
      "\n",
      "202"
     ]
    },
    {
     "name": "stderr",
     "output_type": "stream",
     "text": [
      "2, No SuVe is detected on section 201\n",
      "2, No 5N is detected on section 202\n",
      "2, No 12N is detected on section 202\n",
      "2, No LVe is detected on section 202\n"
     ]
    },
    {
     "name": "stdout",
     "output_type": "stream",
     "text": [
      "\n",
      "203"
     ]
    },
    {
     "name": "stderr",
     "output_type": "stream",
     "text": [
      "2, No SuVe is detected on section 202\n",
      "2, No 7n is detected on section 203\n",
      "2, No 12N is detected on section 203\n",
      "2, No LVe is detected on section 203\n"
     ]
    },
    {
     "name": "stdout",
     "output_type": "stream",
     "text": [
      "\n",
      "204"
     ]
    },
    {
     "name": "stderr",
     "output_type": "stream",
     "text": [
      "2, No SuVe is detected on section 203\n",
      "2, No 12N is detected on section 204\n",
      "2, No LVe is detected on section 204\n",
      "2, No SuVe is detected on section 204\n"
     ]
    },
    {
     "name": "stdout",
     "output_type": "stream",
     "text": [
      "\n",
      "205"
     ]
    },
    {
     "name": "stderr",
     "output_type": "stream",
     "text": [
      "2, No 12N is detected on section 205\n",
      "2, No LVe is detected on section 205\n"
     ]
    },
    {
     "name": "stdout",
     "output_type": "stream",
     "text": [
      "\n",
      "206"
     ]
    },
    {
     "name": "stderr",
     "output_type": "stream",
     "text": [
      "2, No SuVe is detected on section 205\n",
      "2, No 12N is detected on section 206\n"
     ]
    },
    {
     "name": "stdout",
     "output_type": "stream",
     "text": [
      "\n",
      "207"
     ]
    },
    {
     "name": "stderr",
     "output_type": "stream",
     "text": [
      "2, No SuVe is detected on section 206\n",
      "2, No 7n is detected on section 207\n",
      "2, No 12N is detected on section 207\n",
      "2, No LVe is detected on section 207\n"
     ]
    },
    {
     "name": "stdout",
     "output_type": "stream",
     "text": [
      "\n",
      "208"
     ]
    },
    {
     "name": "stderr",
     "output_type": "stream",
     "text": [
      "2, No SuVe is detected on section 207\n",
      "2, No 7n is detected on section 208\n"
     ]
    },
    {
     "name": "stdout",
     "output_type": "stream",
     "text": [
      "\n",
      "209"
     ]
    },
    {
     "name": "stderr",
     "output_type": "stream",
     "text": [
      "2, No SuVe is detected on section 208\n",
      "2, No 7n is detected on section 209\n",
      "2, No 12N is detected on section 209\n",
      "2, No SuVe is detected on section 209\n"
     ]
    },
    {
     "name": "stdout",
     "output_type": "stream",
     "text": [
      "\n",
      "210"
     ]
    },
    {
     "name": "stderr",
     "output_type": "stream",
     "text": [
      "2, No 7n is detected on section 210\n",
      "2, No 12N is detected on section 210\n"
     ]
    },
    {
     "name": "stdout",
     "output_type": "stream",
     "text": [
      "\n",
      "211"
     ]
    },
    {
     "name": "stderr",
     "output_type": "stream",
     "text": [
      "2, No 7n is detected on section 211\n",
      "2, No 12N is detected on section 211\n",
      "2, No LVe is detected on section 211\n",
      "2, No SuVe is detected on section 211\n"
     ]
    },
    {
     "name": "stdout",
     "output_type": "stream",
     "text": [
      "\n",
      "212\n",
      "213"
     ]
    },
    {
     "name": "stderr",
     "output_type": "stream",
     "text": [
      "2, No 7n is detected on section 212\n",
      "2, No 7n is detected on section 213\n"
     ]
    },
    {
     "name": "stdout",
     "output_type": "stream",
     "text": [
      "\n",
      "214"
     ]
    },
    {
     "name": "stderr",
     "output_type": "stream",
     "text": [
      "2, No SuVe is detected on section 213\n",
      "2, No 7n is detected on section 214\n"
     ]
    },
    {
     "name": "stdout",
     "output_type": "stream",
     "text": [
      "\n",
      "215"
     ]
    },
    {
     "name": "stderr",
     "output_type": "stream",
     "text": [
      "2, No 7n is detected on section 215\n",
      "2, No SuVe is detected on section 215\n"
     ]
    },
    {
     "name": "stdout",
     "output_type": "stream",
     "text": [
      "\n",
      "216\n",
      "217"
     ]
    },
    {
     "name": "stderr",
     "output_type": "stream",
     "text": [
      "2, No 7n is detected on section 216\n",
      "2, No Gr is detected on section 217\n"
     ]
    },
    {
     "name": "stdout",
     "output_type": "stream",
     "text": [
      "\n",
      "218"
     ]
    },
    {
     "name": "stderr",
     "output_type": "stream",
     "text": [
      "2, No SuVe is detected on section 217\n",
      "2, No 7n is detected on section 218\n"
     ]
    },
    {
     "name": "stdout",
     "output_type": "stream",
     "text": [
      "\n",
      "219"
     ]
    },
    {
     "name": "stderr",
     "output_type": "stream",
     "text": [
      "2, No Gr is detected on section 219\n",
      "2, No LVe is detected on section 219\n"
     ]
    },
    {
     "name": "stdout",
     "output_type": "stream",
     "text": [
      "\n",
      "220"
     ]
    },
    {
     "name": "stderr",
     "output_type": "stream",
     "text": [
      "2, No SuVe is detected on section 219\n",
      "2, No LVe is detected on section 220\n"
     ]
    },
    {
     "name": "stdout",
     "output_type": "stream",
     "text": [
      "\n",
      "221"
     ]
    },
    {
     "name": "stderr",
     "output_type": "stream",
     "text": [
      "2, No SuVe is detected on section 220\n",
      "2, No LVe is detected on section 221\n"
     ]
    },
    {
     "name": "stdout",
     "output_type": "stream",
     "text": [
      "\n",
      "222"
     ]
    },
    {
     "name": "stderr",
     "output_type": "stream",
     "text": [
      "2, No SuVe is detected on section 221\n",
      "2, No LVe is detected on section 222\n"
     ]
    },
    {
     "name": "stdout",
     "output_type": "stream",
     "text": [
      "\n",
      "223"
     ]
    },
    {
     "name": "stderr",
     "output_type": "stream",
     "text": [
      "2, No SuVe is detected on section 222\n",
      "2, No LVe is detected on section 223\n"
     ]
    },
    {
     "name": "stdout",
     "output_type": "stream",
     "text": [
      "\n",
      "224"
     ]
    },
    {
     "name": "stderr",
     "output_type": "stream",
     "text": [
      "2, No SuVe is detected on section 223\n",
      "2, No LVe is detected on section 224\n"
     ]
    },
    {
     "name": "stdout",
     "output_type": "stream",
     "text": [
      "\n",
      "225"
     ]
    },
    {
     "name": "stderr",
     "output_type": "stream",
     "text": [
      "2, No SuVe is detected on section 224\n",
      "2, No LVe is detected on section 225\n"
     ]
    },
    {
     "name": "stdout",
     "output_type": "stream",
     "text": [
      "\n",
      "226"
     ]
    },
    {
     "name": "stderr",
     "output_type": "stream",
     "text": [
      "2, No SuVe is detected on section 225\n",
      "2, No LVe is detected on section 226\n"
     ]
    },
    {
     "name": "stdout",
     "output_type": "stream",
     "text": [
      "\n",
      "227"
     ]
    },
    {
     "name": "stderr",
     "output_type": "stream",
     "text": [
      "2, No SuVe is detected on section 226\n",
      "2, No LVe is detected on section 227\n"
     ]
    },
    {
     "name": "stdout",
     "output_type": "stream",
     "text": [
      "\n",
      "228"
     ]
    },
    {
     "name": "stderr",
     "output_type": "stream",
     "text": [
      "2, No SuVe is detected on section 227\n",
      "2, No SuVe is detected on section 228\n"
     ]
    },
    {
     "name": "stdout",
     "output_type": "stream",
     "text": [
      "\n",
      "229"
     ]
    },
    {
     "name": "stderr",
     "output_type": "stream",
     "text": [
      "2, No LVe is detected on section 229\n",
      "2, No SuVe is detected on section 229\n"
     ]
    },
    {
     "name": "stdout",
     "output_type": "stream",
     "text": [
      "\n",
      "230\n",
      "231"
     ]
    },
    {
     "name": "stderr",
     "output_type": "stream",
     "text": [
      "2, No Gr is detected on section 231\n",
      "2, No LVe is detected on section 231\n"
     ]
    },
    {
     "name": "stdout",
     "output_type": "stream",
     "text": [
      "\n",
      "232\n",
      "233"
     ]
    },
    {
     "name": "stderr",
     "output_type": "stream",
     "text": [
      "2, No SuVe is detected on section 231\n",
      "2, No Gr is detected on section 233\n"
     ]
    },
    {
     "name": "stdout",
     "output_type": "stream",
     "text": [
      "\n",
      "234"
     ]
    },
    {
     "name": "stderr",
     "output_type": "stream",
     "text": [
      "2, No SuVe is detected on section 233\n",
      "2, No LVe is detected on section 234\n"
     ]
    },
    {
     "name": "stdout",
     "output_type": "stream",
     "text": [
      "\n",
      "235\n",
      "236\n",
      "237\n",
      "238\n",
      "239"
     ]
    },
    {
     "name": "stderr",
     "output_type": "stream",
     "text": [
      "2, No 7n is detected on section 238\n",
      "2, No 7n is detected on section 239\n"
     ]
    },
    {
     "name": "stdout",
     "output_type": "stream",
     "text": [
      "\n",
      "240\n",
      "241"
     ]
    },
    {
     "name": "stderr",
     "output_type": "stream",
     "text": [
      "2, No 7n is detected on section 240\n",
      "2, No 7n is detected on section 241\n"
     ]
    },
    {
     "name": "stdout",
     "output_type": "stream",
     "text": [
      "\n",
      "242\n",
      "243"
     ]
    },
    {
     "name": "stderr",
     "output_type": "stream",
     "text": [
      "2, No 7n is detected on section 242\n",
      "2, No 7n is detected on section 243\n"
     ]
    },
    {
     "name": "stdout",
     "output_type": "stream",
     "text": [
      "\n",
      "244"
     ]
    },
    {
     "name": "stderr",
     "output_type": "stream",
     "text": [
      "2, No SuVe is detected on section 243\n",
      "2, No 7n is detected on section 244\n"
     ]
    },
    {
     "name": "stdout",
     "output_type": "stream",
     "text": [
      "\n",
      "245\n",
      "246"
     ]
    },
    {
     "name": "stderr",
     "output_type": "stream",
     "text": [
      "2, No 7n is detected on section 245\n",
      "2, No 7n is detected on section 246\n"
     ]
    },
    {
     "name": "stdout",
     "output_type": "stream",
     "text": [
      "\n",
      "247"
     ]
    },
    {
     "name": "stderr",
     "output_type": "stream",
     "text": [
      "2, No 7n is detected on section 247\n",
      "2, No SuVe is detected on section 247\n"
     ]
    },
    {
     "name": "stdout",
     "output_type": "stream",
     "text": [
      "\n",
      "248\n",
      "249"
     ]
    },
    {
     "name": "stderr",
     "output_type": "stream",
     "text": [
      "2, No 7n is detected on section 248\n",
      "2, No 7n is detected on section 249\n"
     ]
    },
    {
     "name": "stdout",
     "output_type": "stream",
     "text": [
      "\n",
      "250"
     ]
    },
    {
     "name": "stderr",
     "output_type": "stream",
     "text": [
      "2, No LVe is detected on section 249\n",
      "2, No 7n is detected on section 250\n"
     ]
    },
    {
     "name": "stdout",
     "output_type": "stream",
     "text": [
      "\n",
      "251"
     ]
    },
    {
     "name": "stderr",
     "output_type": "stream",
     "text": [
      "2, No 7n is detected on section 251\n",
      "2, No SuVe is detected on section 251\n"
     ]
    },
    {
     "name": "stdout",
     "output_type": "stream",
     "text": [
      "\n",
      "252"
     ]
    },
    {
     "name": "stderr",
     "output_type": "stream",
     "text": [
      "2, No 7n is detected on section 252\n",
      "2, No 12N is detected on section 252\n"
     ]
    },
    {
     "name": "stdout",
     "output_type": "stream",
     "text": [
      "\n",
      "253"
     ]
    },
    {
     "name": "stderr",
     "output_type": "stream",
     "text": [
      "2, No 7n is detected on section 253\n",
      "2, No 12N is detected on section 253\n",
      "2, No Gr is detected on section 253\n",
      "2, No LVe is detected on section 253\n",
      "2, No SuVe is detected on section 253\n",
      "2, No VLL is detected on section 253\n"
     ]
    },
    {
     "name": "stdout",
     "output_type": "stream",
     "text": [
      "\n",
      "254\n",
      "255"
     ]
    },
    {
     "name": "stderr",
     "output_type": "stream",
     "text": [
      "2, No 12N is detected on section 254\n",
      "2, No 7n is detected on section 255\n",
      "2, No 12N is detected on section 255\n",
      "2, No Gr is detected on section 255\n",
      "2, No LVe is detected on section 255\n",
      "2, No SuVe is detected on section 255\n"
     ]
    },
    {
     "name": "stdout",
     "output_type": "stream",
     "text": [
      "\n",
      "256"
     ]
    },
    {
     "name": "stderr",
     "output_type": "stream",
     "text": [
      "2, No VLL is detected on section 255\n",
      "2, No 7n is detected on section 256\n"
     ]
    },
    {
     "name": "stdout",
     "output_type": "stream",
     "text": [
      "\n",
      "257"
     ]
    },
    {
     "name": "stderr",
     "output_type": "stream",
     "text": [
      "2, No 12N is detected on section 256\n",
      "2, No 12N is detected on section 257\n"
     ]
    },
    {
     "name": "stdout",
     "output_type": "stream",
     "text": [
      "\n",
      "258\n",
      "259"
     ]
    },
    {
     "name": "stderr",
     "output_type": "stream",
     "text": [
      "2, No SuVe is detected on section 257\n",
      "2, No LVe is detected on section 259\n"
     ]
    },
    {
     "name": "stdout",
     "output_type": "stream",
     "text": [
      "\n",
      "260\n",
      "261"
     ]
    },
    {
     "name": "stderr",
     "output_type": "stream",
     "text": [
      "2, No 5N is detected on section 261\n",
      "2, No 7n is detected on section 261\n",
      "2, No 7N is detected on section 261\n",
      "2, No 12N is detected on section 261\n",
      "2, No Gr is detected on section 261\n",
      "2, No LVe is detected on section 261\n",
      "2, No SuVe is detected on section 261\n",
      "2, No VLL is detected on section 261\n"
     ]
    },
    {
     "name": "stdout",
     "output_type": "stream",
     "text": [
      "\n",
      "262\n",
      "263"
     ]
    },
    {
     "name": "stderr",
     "output_type": "stream",
     "text": [
      "2, No 12N is detected on section 262\n",
      "2, No 12N is detected on section 263\n"
     ]
    },
    {
     "name": "stdout",
     "output_type": "stream",
     "text": [
      "\n",
      "264\n",
      "265"
     ]
    },
    {
     "name": "stderr",
     "output_type": "stream",
     "text": [
      "2, No SuVe is detected on section 263\n",
      "2, No 12N is detected on section 265\n"
     ]
    },
    {
     "name": "stdout",
     "output_type": "stream",
     "text": [
      "\n",
      "266\n",
      "267\n",
      "268\n",
      "269\n",
      "270"
     ]
    },
    {
     "name": "stderr",
     "output_type": "stream",
     "text": [
      "2, No LVe is detected on section 269\n",
      "2, No LVe is detected on section 270\n"
     ]
    },
    {
     "name": "stdout",
     "output_type": "stream",
     "text": [
      "\n",
      "271\n",
      "272\n",
      "273\n",
      "274\n",
      "275\n",
      "276\n",
      "277"
     ]
    },
    {
     "name": "stderr",
     "output_type": "stream",
     "text": [
      "2, No LVe is detected on section 272\n",
      "2, No 12N is detected on section 277\n"
     ]
    },
    {
     "name": "stdout",
     "output_type": "stream",
     "text": [
      "\n",
      "278\n",
      "279\n",
      "280"
     ]
    },
    {
     "name": "stderr",
     "output_type": "stream",
     "text": [
      "2, No LVe is detected on section 279\n",
      "2, No 12N is detected on section 280\n"
     ]
    },
    {
     "name": "stdout",
     "output_type": "stream",
     "text": [
      "\n",
      "281\n",
      "282\n",
      "283\n",
      "284\n",
      "285\n",
      "286\n",
      "287\n",
      "288"
     ]
    },
    {
     "name": "stderr",
     "output_type": "stream",
     "text": [
      "2, No 12N is detected on section 285\n",
      "2, No 12N is detected on section 288\n"
     ]
    },
    {
     "name": "stdout",
     "output_type": "stream",
     "text": [
      "\n",
      "289"
     ]
    },
    {
     "name": "stderr",
     "output_type": "stream",
     "text": [
      "2, No Pn is detected on section 288\n",
      "2, No LVe is detected on section 289\n"
     ]
    },
    {
     "name": "stdout",
     "output_type": "stream",
     "text": [
      "\n",
      "290\n",
      "291"
     ]
    },
    {
     "name": "stderr",
     "output_type": "stream",
     "text": [
      "2, No 12N is detected on section 290\n",
      "2, No Pn is detected on section 291\n"
     ]
    },
    {
     "name": "stdout",
     "output_type": "stream",
     "text": [
      "\n",
      "292\n",
      "293"
     ]
    },
    {
     "name": "stderr",
     "output_type": "stream",
     "text": [
      "2, No 12N is detected on section 292\n",
      "2, No 12N is detected on section 293\n"
     ]
    },
    {
     "name": "stdout",
     "output_type": "stream",
     "text": [
      "\n",
      "294\n",
      "295\n",
      "296"
     ]
    },
    {
     "name": "stderr",
     "output_type": "stream",
     "text": [
      "2, No 12N is detected on section 294\n",
      "2, No 12N is detected on section 296\n"
     ]
    },
    {
     "name": "stdout",
     "output_type": "stream",
     "text": [
      "\n",
      "297"
     ]
    },
    {
     "name": "stderr",
     "output_type": "stream",
     "text": [
      "2, No 12N is detected on section 297\n",
      "2, No Pn is detected on section 297\n"
     ]
    },
    {
     "name": "stdout",
     "output_type": "stream",
     "text": [
      "\n",
      "298\n",
      "299"
     ]
    },
    {
     "name": "stderr",
     "output_type": "stream",
     "text": [
      "2, No 12N is detected on section 298\n",
      "2, No 12N is detected on section 299\n"
     ]
    },
    {
     "name": "stdout",
     "output_type": "stream",
     "text": [
      "\n",
      "300\n",
      "301"
     ]
    },
    {
     "name": "stderr",
     "output_type": "stream",
     "text": [
      "2, No 12N is detected on section 300\n",
      "2, No 12N is detected on section 301\n"
     ]
    },
    {
     "name": "stdout",
     "output_type": "stream",
     "text": [
      "\n",
      "302\n",
      "303"
     ]
    },
    {
     "name": "stderr",
     "output_type": "stream",
     "text": [
      "2, No 12N is detected on section 302\n",
      "2, No 12N is detected on section 303\n"
     ]
    },
    {
     "name": "stdout",
     "output_type": "stream",
     "text": [
      "\n",
      "304"
     ]
    },
    {
     "name": "stderr",
     "output_type": "stream",
     "text": [
      "2, No Gr is detected on section 303\n",
      "No scoremap for 5N section 304\n"
     ]
    },
    {
     "name": "stdout",
     "output_type": "stream",
     "text": [
      "\n",
      "305\n"
     ]
    },
    {
     "name": "stderr",
     "output_type": "stream",
     "text": [
      "No scoremap for 7n section 304\n",
      "No scoremap for 7N section 304\n",
      "No scoremap for 12N section 304\n",
      "No scoremap for Gr section 304\n",
      "No scoremap for LVe section 304\n",
      "No scoremap for Pn section 304\n",
      "No scoremap for SuVe section 304\n",
      "No scoremap for VLL section 304\n",
      "No scoremap for 5N section 305\n",
      "No scoremap for 7n section 305\n",
      "No scoremap for 7N section 305\n",
      "No scoremap for 12N section 305\n",
      "No scoremap for Gr section 305\n",
      "No scoremap for LVe section 305\n",
      "No scoremap for Pn section 305\n",
      "No scoremap for SuVe section 305\n",
      "No scoremap for VLL section 305\n"
     ]
    }
   ],
   "source": [
    "for sec in range(section_roi_begin, section_roi_end+1):\n",
    "    print sec\n",
    "    \n",
    "    for l in labels:\n",
    "\n",
    "        if l == 'BackG': continue\n",
    "    \n",
    "#     for sec in range(section_roi_begin, section_roi_end+1):        \n",
    "    \n",
    "        scoremap_bp_filepath = scoremaps_rootdir + '/%(stack)s/%(slice)04d/%(stack)s_%(slice)04d_roi1_denseScoreMapLossless_%(label)s.bp' \\\n",
    "            % {'stack': stack, 'slice': sec, 'label': l}\n",
    "            \n",
    "        if not os.path.exists(scoremap_bp_filepath):\n",
    "            sys.stderr.write('No scoremap for %s section %d\\n' % (l, sec))\n",
    "            continue\n",
    "    \n",
    "        score_map = bp.unpack_ndarray_file(scoremap_bp_filepath)[::downsample_factor, ::downsample_factor]                \n",
    "\n",
    "#         if np.count_nonzero(score_map) < 5e3:\n",
    "#             sys.stderr.write('1, No %s is detected on section %d\\n' % (l, sec))\n",
    "            \n",
    "        if np.count_nonzero(score_map > .1) < 1e3:\n",
    "            sys.stderr.write('No %s is detected on section %d\\n' % (l, sec))\n",
    "            os.system('rm %s' % (scoremap_bp_filepath))\n",
    "            \n",
    "#         print l, sec, score_map.mean(), score_map.max(), np.count_nonzero(score_map), np.count_nonzero(score_map > .1)\n"
   ]
  },
  {
   "cell_type": "code",
   "execution_count": null,
   "metadata": {
    "collapsed": true
   },
   "outputs": [],
   "source": []
  }
 ],
 "metadata": {
  "kernelspec": {
   "display_name": "Python 2",
   "language": "python",
   "name": "python2"
  },
  "language_info": {
   "codemirror_mode": {
    "name": "ipython",
    "version": 2
   },
   "file_extension": ".py",
   "mimetype": "text/x-python",
   "name": "python",
   "nbconvert_exporter": "python",
   "pygments_lexer": "ipython2",
   "version": "2.7.3"
  }
 },
 "nbformat": 4,
 "nbformat_minor": 0
}
