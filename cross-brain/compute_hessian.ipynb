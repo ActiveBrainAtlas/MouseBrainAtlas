{
 "cells": [
  {
   "cell_type": "code",
   "execution_count": 1,
   "metadata": {
    "collapsed": true
   },
   "outputs": [],
   "source": [
    "%load_ext autoreload\n",
    "%autoreload 2"
   ]
  },
  {
   "cell_type": "code",
   "execution_count": 2,
   "metadata": {
    "collapsed": true
   },
   "outputs": [],
   "source": [
    "import numpy as np\n",
    "\n",
    "import sys\n",
    "import os\n",
    "\n",
    "sys.path.append(os.environ['REPO_DIR'] + '/utilities')\n",
    "from utilities2015 import *\n",
    "\n",
    "import matplotlib.pyplot as plt\n",
    "%matplotlib inline\n",
    "\n",
    "from joblib import Parallel, delayed\n",
    "import time"
   ]
  },
  {
   "cell_type": "code",
   "execution_count": 3,
   "metadata": {
    "collapsed": true
   },
   "outputs": [],
   "source": [
    "labels = ['BackG', '5N', '7n', '7N', '12N', 'Pn', 'VLL', \n",
    "          '6N', 'Amb', 'R', 'Tz', 'RtTg', 'LRt', 'LC', 'AP', 'sp5']\n",
    "\n",
    "n_labels = len(labels)\n",
    "\n",
    "labels_index = dict((j, i) for i, j in enumerate(labels))\n",
    "\n",
    "labels_from_surround = dict( (l+'_surround', l) for l in labels[1:])\n",
    "\n",
    "labels_surroundIncluded_list = labels[1:] + [l+'_surround' for l in labels[1:]]\n",
    "labels_surroundIncluded = set(labels_surroundIncluded_list)\n",
    "\n",
    "labels_surroundIncluded_index = dict((j, i) for i, j in enumerate(labels_surroundIncluded_list))\n",
    "\n",
    "# colors = np.random.randint(0, 255, (len(labels_index), 3))\n",
    "colors = np.loadtxt(os.environ['REPO_DIR'] + '/visualization/100colors.txt')\n",
    "colors[labels_index['BackG']] = 1."
   ]
  },
  {
   "cell_type": "code",
   "execution_count": 4,
   "metadata": {
    "collapsed": true
   },
   "outputs": [],
   "source": [
    "volume_dir = '/oasis/projects/nsf/csd395/yuncong/CSHL_volumes/'"
   ]
  },
  {
   "cell_type": "code",
   "execution_count": 5,
   "metadata": {
    "collapsed": false
   },
   "outputs": [
    {
     "name": "stdout",
     "output_type": "stream",
     "text": [
      "810 405 534\n"
     ]
    }
   ],
   "source": [
    "volume1 = bp.unpack_ndarray_file(os.path.join(volume_dir, 'volume_MD589_annotation.bp'))\n",
    "atlas_ydim, atlas_xdim, atlas_zdim = volume1.shape\n",
    "print atlas_xdim, atlas_ydim, atlas_zdim"
   ]
  },
  {
   "cell_type": "code",
   "execution_count": 6,
   "metadata": {
    "collapsed": false
   },
   "outputs": [
    {
     "name": "stdout",
     "output_type": "stream",
     "text": [
      "2.20446491241 seconds\n",
      "0 809 0 404 0 533\n",
      "[ 404.5  202.   266.5]\n"
     ]
    }
   ],
   "source": [
    "def parallel_where(l):\n",
    "    w = np.where(volume1 == l)\n",
    "    return [w[1], w[0], w[2]]\n",
    "\n",
    "t = time.time()\n",
    "\n",
    "atlas_nzs = Parallel(n_jobs=16)(delayed(parallel_where)(l) for l in range(1, n_labels))\n",
    "\n",
    "print time.time() - t, 'seconds'\n",
    "\n",
    "atlas_xmin, atlas_ymin, atlas_zmin = np.min([np.min(atlas_nzs[l-1], axis=1) for l in range(1, n_labels)], axis=0)\n",
    "atlas_xmax, atlas_ymax, atlas_zmax = np.max([np.max(atlas_nzs[l-1], axis=1) for l in range(1, n_labels)], axis=0)\n",
    "print atlas_xmin, atlas_xmax, atlas_ymin, atlas_ymax, atlas_zmin, atlas_zmax\n",
    "\n",
    "atlas_centroid = np.array([.5*atlas_xmin+.5*atlas_xmax, .5*atlas_ymin+.5*atlas_ymax, .5*atlas_zmin+.5*atlas_zmax])\n",
    "print atlas_centroid\n",
    "\n",
    "atlas_cx, atlas_cy, atlas_cz = atlas_centroid"
   ]
  },
  {
   "cell_type": "code",
   "execution_count": 7,
   "metadata": {
    "collapsed": true
   },
   "outputs": [],
   "source": [
    "downsample_factor = 16\n",
    "\n",
    "section_thickness = 20 # in um\n",
    "xy_pixel_distance_lossless = 0.46\n",
    "xy_pixel_distance_tb = xy_pixel_distance_lossless * 32 # in um, thumbnail\n",
    "# factor = section_thickness/xy_pixel_distance_lossless\n",
    "\n",
    "xy_pixel_distance_downsampled = xy_pixel_distance_lossless * downsample_factor\n",
    "z_xy_ratio_downsampled = section_thickness / xy_pixel_distance_downsampled"
   ]
  },
  {
   "cell_type": "code",
   "execution_count": 8,
   "metadata": {
    "collapsed": true
   },
   "outputs": [],
   "source": [
    "atlasAlignOptLogs_dir = '/oasis/projects/nsf/csd395/yuncong/CSHL_atlasAlignOptLogs'\n",
    "if not os.path.exists(atlasAlignOptLogs_dir):\n",
    "    os.makedirs(atlasAlignOptLogs_dir)"
   ]
  },
  {
   "cell_type": "code",
   "execution_count": 9,
   "metadata": {
    "collapsed": true
   },
   "outputs": [],
   "source": [
    "atlasAlignParams_dir = '/oasis/projects/nsf/csd395/yuncong/CSHL_atlasAlignParams'\n",
    "if not os.path.exists(atlasAlignParams_dir):\n",
    "    os.makedirs(atlasAlignParams_dir)"
   ]
  },
  {
   "cell_type": "code",
   "execution_count": 10,
   "metadata": {
    "collapsed": true
   },
   "outputs": [],
   "source": [
    "annotationsViz_rootdir = '/oasis/projects/nsf/csd395/yuncong/CSHL_annotaionsPojectedViz'"
   ]
  },
  {
   "cell_type": "code",
   "execution_count": 11,
   "metadata": {
    "collapsed": true
   },
   "outputs": [],
   "source": [
    "stack = 'MD594'"
   ]
  },
  {
   "cell_type": "code",
   "execution_count": 12,
   "metadata": {
    "collapsed": true
   },
   "outputs": [],
   "source": [
    "with open(atlasAlignParams_dir + '/%(stack)s_3dAlignParams.txt' % {'stack': stack}, 'r') as f:\n",
    "    lines = f.readlines()\n",
    "T_final = map(float, lines[1].strip().split())"
   ]
  },
  {
   "cell_type": "code",
   "execution_count": 13,
   "metadata": {
    "collapsed": false
   },
   "outputs": [],
   "source": [
    "ds = []\n",
    "for l in range(1, n_labels):\n",
    "    ds.append(np.array(atlas_nzs[l-1]) - atlas_centroid[:, np.newaxis])"
   ]
  },
  {
   "cell_type": "code",
   "execution_count": 14,
   "metadata": {
    "collapsed": false
   },
   "outputs": [
    {
     "name": "stdout",
     "output_type": "stream",
     "text": [
      "93 364\n",
      "5N\n",
      "7n\n",
      "7N\n",
      "12N\n",
      "Pn\n",
      "VLL\n",
      "6N\n",
      "Amb\n",
      "R\n",
      "Tz\n",
      "RtTg\n",
      "LRt\n",
      "LC\n",
      "AP\n",
      "sp5\n",
      "833 473 443\n",
      "(416.5, 236.5, 236.5)\n"
     ]
    }
   ],
   "source": [
    "section_bs_begin, section_bs_end = section_range_lookup[stack]\n",
    "print section_bs_begin, section_bs_end\n",
    "\n",
    "(volume_xmin, volume_xmax, volume_ymin, volume_ymax, volume_zmin, volume_zmax) = \\\n",
    "np.loadtxt(os.path.join(volume_dir, 'volume_%(stack)s_scoreMap_limits.txt' % {'stack': stack}), dtype=np.int)\n",
    "\n",
    "map_z_to_section = {}\n",
    "for s in range(section_bs_begin, section_bs_end+1):\n",
    "    for z in range(int(z_xy_ratio_downsampled*s) - volume_zmin, int(z_xy_ratio_downsampled*(s+1)) - volume_zmin + 1):\n",
    "        map_z_to_section[z] = s\n",
    "\n",
    "global volume2_allLabels\n",
    "volume2_allLabels = []\n",
    "\n",
    "for l in labels[1:]:\n",
    "\n",
    "    print l\n",
    "\n",
    "    volume2 = bp.unpack_ndarray_file(os.path.join(volume_dir, 'volume_%(stack)s_scoreMap_%(label)s.bp' % \\\n",
    "                                                  {'stack': stack, 'label': l}))\n",
    "\n",
    "    volume2_cropped = volume2[volume_ymin:volume_ymax+1, volume_xmin:volume_xmax+1]\n",
    "    # copy is important, because then you can delete the large array\n",
    "\n",
    "    volume2_allLabels.append(volume2_cropped.copy())\n",
    "\n",
    "    del volume2, volume2_cropped\n",
    "\n",
    "test_ydim, test_xdim, test_zdim = volume2_allLabels[0].shape\n",
    "test_centroid = (.5*test_xdim, .5*test_ydim, .5*test_ydim)\n",
    "test_cx, test_cy, test_cz = test_centroid\n",
    "\n",
    "print test_xdim, test_ydim, test_zdim\n",
    "print test_centroid"
   ]
  },
  {
   "cell_type": "code",
   "execution_count": 40,
   "metadata": {
    "collapsed": false
   },
   "outputs": [
    {
     "name": "stdout",
     "output_type": "stream",
     "text": [
      "5N\n",
      "49.2545080185\n",
      "7n\n",
      "24.7514629364\n",
      "7N\n",
      "42.891974926\n",
      "12N\n",
      "27.2598628998\n",
      "Pn\n",
      "48.5611140728\n",
      "VLL\n",
      "49.3607850075\n",
      "6N\n",
      "37.0516579151\n",
      "Amb\n",
      "35.4038779736\n",
      "R\n",
      "47.9618051052\n",
      "Tz\n",
      "36.8326151371\n",
      "RtTg\n",
      "66.1060168743\n",
      "LRt\n",
      "49.6135981083\n",
      "LC\n",
      "52.8415188789\n",
      "AP\n",
      "35.5167138577\n",
      "sp5\n",
      "41.8120119572\n"
     ]
    }
   ],
   "source": [
    "d2Sdxyz2 = []\n",
    "\n",
    "for l in range(1, n_labels):\n",
    "    \n",
    "    print labels[l]\n",
    "    \n",
    "    t = time.time()\n",
    "    \n",
    "    gxx = load_hdf(volume_dir + '/volume_%(stack)s_scoreMap_%(lab)s_gxx.hdf' % {'stack': stack, 'lab': labels[l]}).astype(np.float16)\n",
    "    gxy = load_hdf(volume_dir + '/volume_%(stack)s_scoreMap_%(lab)s_gxy.hdf' % {'stack': stack, 'lab': labels[l]}).astype(np.float16)\n",
    "    gxz = load_hdf(volume_dir + '/volume_%(stack)s_scoreMap_%(lab)s_gxz.hdf' % {'stack': stack, 'lab': labels[l]}).astype(np.float16)\n",
    "    gyx = load_hdf(volume_dir + '/volume_%(stack)s_scoreMap_%(lab)s_gyx.hdf' % {'stack': stack, 'lab': labels[l]}).astype(np.float16)\n",
    "    gyy = load_hdf(volume_dir + '/volume_%(stack)s_scoreMap_%(lab)s_gyy.hdf' % {'stack': stack, 'lab': labels[l]}).astype(np.float16)\n",
    "    gyz = load_hdf(volume_dir + '/volume_%(stack)s_scoreMap_%(lab)s_gyz.hdf' % {'stack': stack, 'lab': labels[l]}).astype(np.float16)\n",
    "    gzx = load_hdf(volume_dir + '/volume_%(stack)s_scoreMap_%(lab)s_gzx.hdf' % {'stack': stack, 'lab': labels[l]}).astype(np.float16)\n",
    "    gzy = load_hdf(volume_dir + '/volume_%(stack)s_scoreMap_%(lab)s_gzy.hdf' % {'stack': stack, 'lab': labels[l]}).astype(np.float16)\n",
    "    gzz = load_hdf(volume_dir + '/volume_%(stack)s_scoreMap_%(lab)s_gzz.hdf' % {'stack': stack, 'lab': labels[l]}).astype(np.float16)\n",
    "    \n",
    "    print time.time() - t\n",
    "    \n",
    "    d2Sdxyz2.append([gxx, gxy, gxz, gyx, gyy, gyz, gzx, gzy, gzz])"
   ]
  },
  {
   "cell_type": "code",
   "execution_count": null,
   "metadata": {
    "collapsed": true
   },
   "outputs": [],
   "source": [
    "d2Sdxyz2[l-1]"
   ]
  },
  {
   "cell_type": "code",
   "execution_count": 79,
   "metadata": {
    "collapsed": true
   },
   "outputs": [],
   "source": [
    "def compute_score_hessian(T):\n",
    "    \n",
    "    Tm = np.reshape(T, (3,4))\n",
    "    tx, ty, tz = Tm[:, 3]\n",
    "    A = Tm[:, :3]\n",
    "\n",
    "    d2MdT2 = np.zeros((12, 12))\n",
    "    \n",
    "    for l in range(1, n_labels):\n",
    "\n",
    "        xs_prime, ys_prime, zs_prime = (np.dot(A, ds[l-1]) + \\\n",
    "                                        np.asarray([tx + test_cx, \n",
    "                                                    ty + test_cy, \n",
    "                                                    tz + test_cz])[:,np.newaxis]).astype(np.int)\n",
    "\n",
    "        valid = (xs_prime >= 0) & (ys_prime >= 0) & (zs_prime >= 0) & \\\n",
    "            (xs_prime < test_xdim) & (ys_prime < test_ydim) & (zs_prime < test_zdim)\n",
    "\n",
    "        if np.count_nonzero(valid) > 0:\n",
    "\n",
    "            xs_prime_valid = xs_prime[valid]\n",
    "            ys_prime_valid = ys_prime[valid]\n",
    "            zs_prime_valid = zs_prime[valid]\n",
    "            \n",
    "            dxs, dys, dzs = ds[l-1][:, valid]\n",
    "\n",
    "            Sxx_full, Sxy_full, Sxz_full, Syx_full, Syy_full, Syz_full, Szx_full, Szy_full, Szz_full = d2Sdxyz2[l-1]\n",
    "            Sxx = Sxx_full[ys_prime_valid, xs_prime_valid, zs_prime_valid]\n",
    "            Sxy = Sxy_full[ys_prime_valid, xs_prime_valid, zs_prime_valid]\n",
    "            Sxz = Sxz_full[ys_prime_valid, xs_prime_valid, zs_prime_valid]\n",
    "            Syx = Syx_full[ys_prime_valid, xs_prime_valid, zs_prime_valid]\n",
    "            Syy = Syy_full[ys_prime_valid, xs_prime_valid, zs_prime_valid]\n",
    "            Syz = Syz_full[ys_prime_valid, xs_prime_valid, zs_prime_valid]\n",
    "            Szx = Szx_full[ys_prime_valid, xs_prime_valid, zs_prime_valid]\n",
    "            Szy = Szy_full[ys_prime_valid, xs_prime_valid, zs_prime_valid]\n",
    "            Szz = Szz_full[ys_prime_valid, xs_prime_valid, zs_prime_valid]\n",
    "\n",
    "            rx = np.c_[Sxx*dxs, Sxx*dys, Sxx*dzs, Sxx, Sxy*dxs, Sxy*dys, Sxy*dzs, Sxy, Sxz*dxs, Sxz*dys, Sxz*dzs, Sxz]\n",
    "            ry = np.c_[Syx*dxs, Syx*dys, Syx*dzs, Syx, Syy*dxs, Syy*dys, Syy*dzs, Syy, Syz*dxs, Syz*dys, Syz*dzs, Syz]\n",
    "            rz = np.c_[Szx*dxs, Szx*dys, Szx*dzs, Szx, Szy*dxs, Szy*dys, Szy*dzs, Szy, Szz*dxs, Szz*dys, Szz*dzs, Szz]\n",
    "            r1 = (rx*dxs[:,None]).sum(axis=0)\n",
    "            r2 = (rx*dys[:,None]).sum(axis=0)\n",
    "            r3 = (rx*dzs[:,None]).sum(axis=0)\n",
    "            r4 = rx.sum(axis=0)\n",
    "            r5 = (ry*dxs[:,None]).sum(axis=0)\n",
    "            r6 = (ry*dys[:,None]).sum(axis=0)\n",
    "            r7 = (ry*dzs[:,None]).sum(axis=0)\n",
    "            r8 = ry.sum(axis=0)\n",
    "            r9 = (rz*dxs[:,None]).sum(axis=0)\n",
    "            r10 = (rz*dys[:,None]).sum(axis=0)\n",
    "            r11 = (rz*dzs[:,None]).sum(axis=0)\n",
    "            r12 = rz.sum(axis=0)\n",
    "            \n",
    "            d2MdT2_l = np.vstack([r1, r2, r3, r4, r5, r6, r7, r8, r9, r10, r11, r12])\n",
    "        \n",
    "            del xs_prime_valid, ys_prime_valid, zs_prime_valid\n",
    "            del dxs, dys, dzs\n",
    "            del Sxx_full, Sxy_full, Sxz_full, Syx_full, Syy_full, Syz_full, Szx_full, Szy_full, Szz_full\n",
    "            del Sxx, Sxy, Sxz, Syx, Syy, Syz, Szx, Szy, Szz\n",
    "            del rx, ry, rz\n",
    "            del r1, r2, r3, r4, r5, r6, r7, r8, r9, r10, r11, r12\n",
    "            \n",
    "        \n",
    "            d2MdT2 += d2MdT2_l\n",
    "        \n",
    "            del d2MdT2_l\n",
    "        del xs_prime, ys_prime, zs_prime, valid\n",
    "    \n",
    "    return d2MdT2"
   ]
  },
  {
   "cell_type": "code",
   "execution_count": 90,
   "metadata": {
    "collapsed": false
   },
   "outputs": [
    {
     "name": "stdout",
     "output_type": "stream",
     "text": [
      "mean curvature: -17090915.1771\n",
      "mean curvature related to translations -206.960147858\n"
     ]
    },
    {
     "data": {
      "image/png": "[encoded data removed]",
      "text/plain": [
       "<matplotlib.figure.Figure at 0xc6d4610>"
      ]
     },
     "metadata": {},
     "output_type": "display_data"
    }
   ],
   "source": [
    "H = compute_score_hessian(T_final)\n",
    "plt.stem(range(12), H.diagonal());\n",
    "print 'mean curvature:', np.sum(H.diagonal())\n",
    "print 'mean curvature related to translations:', np.sum(H.diagonal()[[3,7,11]])"
   ]
  },
  {
   "cell_type": "code",
   "execution_count": 56,
   "metadata": {
    "collapsed": false
   },
   "outputs": [
    {
     "data": {
      "image/png": "[encoded data removed]",
      "text/plain": [
       "<matplotlib.figure.Figure at 0xdcfd8d0>"
      ]
     },
     "metadata": {},
     "output_type": "display_data"
    }
   ],
   "source": [
    "plt.matshow(H, cmap=plt.cm.RdBu, vmin=-1e5, vmax=1e5);\n",
    "plt.colorbar();"
   ]
  },
  {
   "cell_type": "code",
   "execution_count": 92,
   "metadata": {
    "collapsed": false,
    "scrolled": true
   },
   "outputs": [
    {
     "name": "stdout",
     "output_type": "stream",
     "text": [
      "mean curvature: -11185278.0965\n",
      "mean curvature related to translations: -135.706656814\n",
      "mean curvature: -6857306.63935\n",
      "mean curvature related to translations: -92.6542387009\n",
      "mean curvature: -16831300.6413\n",
      "mean curvature related to translations: -201.508896232\n",
      "mean curvature: -7253946.35548\n",
      "mean curvature related to translations: -97.7462262511\n",
      "mean curvature: -9101965.79851\n",
      "mean curvature related to translations: -109.957354486\n",
      "mean curvature: -4572370.69073\n",
      "mean curvature related to translations: -67.3117328286\n",
      "mean curvature: -9407685.10045\n",
      "mean curvature related to translations: -125.558754146\n",
      "mean curvature: -7734177.82181\n",
      "mean curvature related to translations: -101.155700922\n",
      "mean curvature: -7756772.58399\n",
      "mean curvature related to translations: -84.1475672126\n",
      "mean curvature: -10984504.2703\n",
      "mean curvature related to translations: -138.46647507\n"
     ]
    }
   ],
   "source": [
    "# check hessian at neighborhoods of the optimum\n",
    "for _ in range(10):\n",
    "    Hr = compute_score_hessian(np.array(T_final) + [0,0,0,np.random.randint(-10,10),\n",
    "                                                   0,0,0,np.random.randint(-10,10),\n",
    "                                                   0,0,0,np.random.randint(-10,10)])\n",
    "    print 'mean curvature:', np.sum(Hr.diagonal())\n",
    "    print 'mean curvature related to translations:', np.sum(Hr.diagonal()[[3,7,11]])"
   ]
  }
 ],
 "metadata": {
  "kernelspec": {
   "display_name": "Python 2",
   "language": "python",
   "name": "python2"
  },
  "language_info": {
   "codemirror_mode": {
    "name": "ipython",
    "version": 2
   },
   "file_extension": ".py",
   "mimetype": "text/x-python",
   "name": "python",
   "nbconvert_exporter": "python",
   "pygments_lexer": "ipython2",
   "version": "2.7.3"
  }
 },
 "nbformat": 4,
 "nbformat_minor": 0
}
