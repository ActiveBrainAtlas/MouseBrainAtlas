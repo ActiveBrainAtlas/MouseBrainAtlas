{
 "cells": [
  {
   "cell_type": "code",
   "execution_count": 1,
   "metadata": {
    "collapsed": true
   },
   "outputs": [],
   "source": [
    "%load_ext autoreload\n",
    "%autoreload 2"
   ]
  },
  {
   "cell_type": "code",
   "execution_count": 2,
   "metadata": {
    "collapsed": true
   },
   "outputs": [],
   "source": [
    "import numpy as np\n",
    "\n",
    "import sys\n",
    "import os\n",
    "\n",
    "sys.path.append(os.environ['REPO_DIR'] + '/utilities')\n",
    "from utilities2015 import *\n",
    "\n",
    "import matplotlib.pyplot as plt\n",
    "%matplotlib inline"
   ]
  },
  {
   "cell_type": "code",
   "execution_count": 21,
   "metadata": {
    "collapsed": false
   },
   "outputs": [
    {
     "name": "stdout",
     "output_type": "stream",
     "text": [
      "93 368\n"
     ]
    }
   ],
   "source": [
    "stack = 'MD589'\n",
    "\n",
    "first_wholeStack, last_wholeStack = section_range_lookup[stack]\n",
    "print first_wholeStack, last_wholeStack\n",
    "\n",
    "first, last = (200, 220)\n",
    "\n",
    "images = {}\n",
    "\n",
    "for i in range(first, last+1):\n",
    "    \n",
    "    dm = DataManager(stack=stack, section=i, load_mask=False)\n",
    "#     dm.load_thumbnail_mask()\n",
    "#     mask = rescale(dm.thumbmail_mask.astype(np.bool), 32).astype(np.bool)\n",
    "        \n",
    "    dm._load_image(['rgb-jpg'])\n",
    "    images[i] = rgb2gray(dm.image_rgb_jpg[7000:9000, 5000:7000])"
   ]
  },
  {
   "cell_type": "code",
   "execution_count": 16,
   "metadata": {
    "collapsed": false
   },
   "outputs": [
    {
     "data": {
      "text/plain": [
       "0"
      ]
     },
     "execution_count": 16,
     "metadata": {},
     "output_type": "execute_result"
    }
   ],
   "source": [
    "int(factor*(i-first))"
   ]
  },
  {
   "cell_type": "code",
   "execution_count": 17,
   "metadata": {
    "collapsed": false
   },
   "outputs": [
    {
     "data": {
      "text/plain": [
       "43"
      ]
     },
     "execution_count": 17,
     "metadata": {},
     "output_type": "execute_result"
    }
   ],
   "source": [
    "int(factor*(i+1-first))"
   ]
  },
  {
   "cell_type": "code",
   "execution_count": 23,
   "metadata": {
    "collapsed": false
   },
   "outputs": [],
   "source": [
    "section_thickness = 20 # in um\n",
    "xy_pixel_distance_lossless = 0.46\n",
    "xy_pixel_distance_tb = xy_pixel_distance_lossless * 32 # in um, thumbnail\n",
    "factor = section_thickness/xy_pixel_distance_lossless\n",
    "\n",
    "n_sec = last + 1 - first\n",
    "volume = np.zeros((2000, 2000, int(n_sec*factor)), np.uint8)\n",
    "\n",
    "for i, m in images.iteritems():\n",
    "    volume[:,:, int(factor*(i-first)):int(factor*(i+1-first))] = m[..., np.newaxis]"
   ]
  },
  {
   "cell_type": "code",
   "execution_count": null,
   "metadata": {
    "collapsed": true
   },
   "outputs": [],
   "source": [
    "volume_dir = '/oasis/projects/nsf/csd395/yuncong/CSHL_volumes'"
   ]
  },
  {
   "cell_type": "code",
   "execution_count": 25,
   "metadata": {
    "collapsed": false
   },
   "outputs": [
    {
     "name": "stdout",
     "output_type": "stream",
     "text": [
      "14 1243\n",
      "589 1861\n",
      "0 912\n"
     ]
    }
   ],
   "source": [
    "volume[volume < 1e-6] = 0\n",
    "xs, ys, zs = np.where(volume > 0)\n",
    "\n",
    "xmin = xs.min()\n",
    "xmax = xs.max()\n",
    "ymin = ys.min()\n",
    "ymax = ys.max()\n",
    "zmin = zs.min()\n",
    "zmax = zs.max()\n",
    "\n",
    "print xmin, xmax\n",
    "print ymin, ymax\n",
    "print zmin, zmax"
   ]
  },
  {
   "cell_type": "code",
   "execution_count": null,
   "metadata": {
    "collapsed": true
   },
   "outputs": [],
   "source": [
    "np.save(os.path.join(volume_dir, 'volume_'+stack+'_lossless.npy'),\n",
    "        volume[xmin:xmax+1, ymin:ymax+1, zmin:zmax+1])"
   ]
  },
  {
   "cell_type": "code",
   "execution_count": null,
   "metadata": {
    "collapsed": true
   },
   "outputs": [],
   "source": [
    "np.savez_compressed(os.path.join(volume_dir, 'volume_'+stack+'_lossless'), \n",
    "                    volume[xmin:xmax+1, ymin:ymax+1, zmin:zmax+1])"
   ]
  }
 ],
 "metadata": {
  "kernelspec": {
   "display_name": "Python 2",
   "language": "python",
   "name": "python2"
  },
  "language_info": {
   "codemirror_mode": {
    "name": "ipython",
    "version": 2
   },
   "file_extension": ".py",
   "mimetype": "text/x-python",
   "name": "python",
   "nbconvert_exporter": "python",
   "pygments_lexer": "ipython2",
   "version": "2.7.3"
  }
 },
 "nbformat": 4,
 "nbformat_minor": 0
}
