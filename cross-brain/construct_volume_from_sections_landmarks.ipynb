{
 "cells": [
  {
   "cell_type": "code",
   "execution_count": 1,
   "metadata": {
    "collapsed": true
   },
   "outputs": [],
   "source": [
    "%load_ext autoreload\n",
    "%autoreload 2"
   ]
  },
  {
   "cell_type": "code",
   "execution_count": 16,
   "metadata": {
    "collapsed": true
   },
   "outputs": [],
   "source": [
    "import numpy as np\n",
    "\n",
    "import sys\n",
    "import os\n",
    "\n",
    "sys.path.append(os.environ['REPO_DIR'] + '/utilities')\n",
    "from utilities2015 import *\n",
    "\n",
    "import matplotlib.pyplot as plt\n",
    "%matplotlib inline"
   ]
  },
  {
   "cell_type": "code",
   "execution_count": 17,
   "metadata": {
    "collapsed": true
   },
   "outputs": [],
   "source": [
    "patch_dir = '/oasis/projects/nsf/csd395/yuncong/CSHL_data_patches/'"
   ]
  },
  {
   "cell_type": "code",
   "execution_count": 22,
   "metadata": {
    "collapsed": false
   },
   "outputs": [
    {
     "name": "stdout",
     "output_type": "stream",
     "text": [
      "93 368\n",
      "/oasis/projects/nsf/csd395/yuncong/CSHL_labelMapsLossless/MD589/MD589_0093_labelMapLossless.npz\n",
      "/oasis/projects/nsf/csd395/yuncong/CSHL_labelMapsLossless/MD589/MD589_0094_labelMapLossless.npz\n",
      "/oasis/projects/nsf/csd395/yuncong/CSHL_labelMapsLossless/MD589/MD589_0095_labelMapLossless.npz\n",
      "/oasis/projects/nsf/csd395/yuncong/CSHL_labelMapsLossless/MD589/MD589_0096_labelMapLossless.npz\n",
      "/oasis/projects/nsf/csd395/yuncong/CSHL_labelMapsLossless/MD589/MD589_0097_labelMapLossless.npz\n",
      "/oasis/projects/nsf/csd395/yuncong/CSHL_labelMapsLossless/MD589/MD589_0098_labelMapLossless.npz\n",
      "/oasis/projects/nsf/csd395/yuncong/CSHL_labelMapsLossless/MD589/MD589_0099_labelMapLossless.npz\n",
      "/oasis/projects/nsf/csd395/yuncong/CSHL_labelMapsLossless/MD589/MD589_0100_labelMapLossless.npz\n",
      "/oasis/projects/nsf/csd395/yuncong/CSHL_labelMapsLossless/MD589/MD589_0101_labelMapLossless.npz\n",
      "/oasis/projects/nsf/csd395/yuncong/CSHL_labelMapsLossless/MD589/MD589_0102_labelMapLossless.npz\n",
      "/oasis/projects/nsf/csd395/yuncong/CSHL_labelMapsLossless/MD589/MD589_0103_labelMapLossless.npz\n",
      "/oasis/projects/nsf/csd395/yuncong/CSHL_labelMapsLossless/MD589/MD589_0104_labelMapLossless.npz\n",
      "/oasis/projects/nsf/csd395/yuncong/CSHL_labelMapsLossless/MD589/MD589_0105_labelMapLossless.npz\n",
      "/oasis/projects/nsf/csd395/yuncong/CSHL_labelMapsLossless/MD589/MD589_0106_labelMapLossless.npz\n",
      "/oasis/projects/nsf/csd395/yuncong/CSHL_labelMapsLossless/MD589/MD589_0107_labelMapLossless.npz\n",
      "/oasis/projects/nsf/csd395/yuncong/CSHL_labelMapsLossless/MD589/MD589_0108_labelMapLossless.npz\n",
      "/oasis/projects/nsf/csd395/yuncong/CSHL_labelMapsLossless/MD589/MD589_0109_labelMapLossless.npz\n",
      "/oasis/projects/nsf/csd395/yuncong/CSHL_labelMapsLossless/MD589/MD589_0110_labelMapLossless.npz\n",
      "/oasis/projects/nsf/csd395/yuncong/CSHL_labelMapsLossless/MD589/MD589_0111_labelMapLossless.npz\n",
      "/oasis/projects/nsf/csd395/yuncong/CSHL_labelMapsLossless/MD589/MD589_0112_labelMapLossless.npz\n",
      "/oasis/projects/nsf/csd395/yuncong/CSHL_labelMapsLossless/MD589/MD589_0113_labelMapLossless.npz\n",
      "/oasis/projects/nsf/csd395/yuncong/CSHL_labelMapsLossless/MD589/MD589_0114_labelMapLossless.npz\n",
      "/oasis/projects/nsf/csd395/yuncong/CSHL_labelMapsLossless/MD589/MD589_0115_labelMapLossless.npz\n",
      "/oasis/projects/nsf/csd395/yuncong/CSHL_labelMapsLossless/MD589/MD589_0116_labelMapLossless.npz\n",
      "/oasis/projects/nsf/csd395/yuncong/CSHL_labelMapsLossless/MD589/MD589_0117_labelMapLossless.npz\n",
      "/oasis/projects/nsf/csd395/yuncong/CSHL_labelMapsLossless/MD589/MD589_0118_labelMapLossless.npz\n",
      "/oasis/projects/nsf/csd395/yuncong/CSHL_labelMapsLossless/MD589/MD589_0119_labelMapLossless.npz\n",
      "/oasis/projects/nsf/csd395/yuncong/CSHL_labelMapsLossless/MD589/MD589_0120_labelMapLossless.npz\n",
      "/oasis/projects/nsf/csd395/yuncong/CSHL_labelMapsLossless/MD589/MD589_0121_labelMapLossless.npz\n",
      "/oasis/projects/nsf/csd395/yuncong/CSHL_labelMapsLossless/MD589/MD589_0122_labelMapLossless.npz\n",
      "/oasis/projects/nsf/csd395/yuncong/CSHL_labelMapsLossless/MD589/MD589_0123_labelMapLossless.npz\n",
      "/oasis/projects/nsf/csd395/yuncong/CSHL_labelMapsLossless/MD589/MD589_0124_labelMapLossless.npz\n",
      "/oasis/projects/nsf/csd395/yuncong/CSHL_labelMapsLossless/MD589/MD589_0125_labelMapLossless.npz\n",
      "/oasis/projects/nsf/csd395/yuncong/CSHL_labelMapsLossless/MD589/MD589_0126_labelMapLossless.npz\n",
      "/oasis/projects/nsf/csd395/yuncong/CSHL_labelMapsLossless/MD589/MD589_0127_labelMapLossless.npz\n",
      "/oasis/projects/nsf/csd395/yuncong/CSHL_labelMapsLossless/MD589/MD589_0128_labelMapLossless.npz\n",
      "/oasis/projects/nsf/csd395/yuncong/CSHL_labelMapsLossless/MD589/MD589_0129_labelMapLossless.npz\n",
      "/oasis/projects/nsf/csd395/yuncong/CSHL_labelMapsLossless/MD589/MD589_0130_labelMapLossless.npz\n",
      "/oasis/projects/nsf/csd395/yuncong/CSHL_labelMapsLossless/MD589/MD589_0131_labelMapLossless.npz\n",
      "/oasis/projects/nsf/csd395/yuncong/CSHL_labelMapsLossless/MD589/MD589_0132_labelMapLossless.npz\n",
      "/oasis/projects/nsf/csd395/yuncong/CSHL_labelMapsLossless/MD589/MD589_0133_labelMapLossless.npz\n",
      "/oasis/projects/nsf/csd395/yuncong/CSHL_labelMapsLossless/MD589/MD589_0134_labelMapLossless.npz\n",
      "/oasis/projects/nsf/csd395/yuncong/CSHL_labelMapsLossless/MD589/MD589_0135_labelMapLossless.npz\n",
      "/oasis/projects/nsf/csd395/yuncong/CSHL_labelMapsLossless/MD589/MD589_0136_labelMapLossless.npz\n",
      "/oasis/projects/nsf/csd395/yuncong/CSHL_labelMapsLossless/MD589/MD589_0137_labelMapLossless.npz\n",
      "/oasis/projects/nsf/csd395/yuncong/CSHL_labelMapsLossless/MD589/MD589_0138_labelMapLossless.npz\n",
      "/oasis/projects/nsf/csd395/yuncong/CSHL_labelMapsLossless/MD589/MD589_0139_labelMapLossless.npz\n",
      "/oasis/projects/nsf/csd395/yuncong/CSHL_labelMapsLossless/MD589/MD589_0140_labelMapLossless.npz\n",
      "/oasis/projects/nsf/csd395/yuncong/CSHL_labelMapsLossless/MD589/MD589_0141_labelMapLossless.npz\n",
      "/oasis/projects/nsf/csd395/yuncong/CSHL_labelMapsLossless/MD589/MD589_0142_labelMapLossless.npz\n",
      "/oasis/projects/nsf/csd395/yuncong/CSHL_labelMapsLossless/MD589/MD589_0143_labelMapLossless.npz\n",
      "/oasis/projects/nsf/csd395/yuncong/CSHL_labelMapsLossless/MD589/MD589_0144_labelMapLossless.npz\n",
      "/oasis/projects/nsf/csd395/yuncong/CSHL_labelMapsLossless/MD589/MD589_0145_labelMapLossless.npz\n",
      "/oasis/projects/nsf/csd395/yuncong/CSHL_labelMapsLossless/MD589/MD589_0146_labelMapLossless.npz\n",
      "/oasis/projects/nsf/csd395/yuncong/CSHL_labelMapsLossless/MD589/MD589_0147_labelMapLossless.npz\n",
      "/oasis/projects/nsf/csd395/yuncong/CSHL_labelMapsLossless/MD589/MD589_0148_labelMapLossless.npz\n",
      "/oasis/projects/nsf/csd395/yuncong/CSHL_labelMapsLossless/MD589/MD589_0149_labelMapLossless.npz\n",
      "/oasis/projects/nsf/csd395/yuncong/CSHL_labelMapsLossless/MD589/MD589_0150_labelMapLossless.npz\n",
      "/oasis/projects/nsf/csd395/yuncong/CSHL_labelMapsLossless/MD589/MD589_0151_labelMapLossless.npz\n",
      "/oasis/projects/nsf/csd395/yuncong/CSHL_labelMapsLossless/MD589/MD589_0152_labelMapLossless.npz\n",
      "/oasis/projects/nsf/csd395/yuncong/CSHL_labelMapsLossless/MD589/MD589_0153_labelMapLossless.npz\n",
      "/oasis/projects/nsf/csd395/yuncong/CSHL_labelMapsLossless/MD589/MD589_0154_labelMapLossless.npz\n",
      "/oasis/projects/nsf/csd395/yuncong/CSHL_labelMapsLossless/MD589/MD589_0155_labelMapLossless.npz\n",
      "/oasis/projects/nsf/csd395/yuncong/CSHL_labelMapsLossless/MD589/MD589_0156_labelMapLossless.npz\n",
      "/oasis/projects/nsf/csd395/yuncong/CSHL_labelMapsLossless/MD589/MD589_0157_labelMapLossless.npz\n",
      "/oasis/projects/nsf/csd395/yuncong/CSHL_labelMapsLossless/MD589/MD589_0158_labelMapLossless.npz\n",
      "/oasis/projects/nsf/csd395/yuncong/CSHL_labelMapsLossless/MD589/MD589_0159_labelMapLossless.npz\n",
      "/oasis/projects/nsf/csd395/yuncong/CSHL_labelMapsLossless/MD589/MD589_0160_labelMapLossless.npz\n",
      "/oasis/projects/nsf/csd395/yuncong/CSHL_labelMapsLossless/MD589/MD589_0161_labelMapLossless.npz\n",
      "/oasis/projects/nsf/csd395/yuncong/CSHL_labelMapsLossless/MD589/MD589_0162_labelMapLossless.npz\n",
      "/oasis/projects/nsf/csd395/yuncong/CSHL_labelMapsLossless/MD589/MD589_0163_labelMapLossless.npz\n",
      "/oasis/projects/nsf/csd395/yuncong/CSHL_labelMapsLossless/MD589/MD589_0164_labelMapLossless.npz\n",
      "/oasis/projects/nsf/csd395/yuncong/CSHL_labelMapsLossless/MD589/MD589_0165_labelMapLossless.npz\n",
      "/oasis/projects/nsf/csd395/yuncong/CSHL_labelMapsLossless/MD589/MD589_0166_labelMapLossless.npz\n",
      "/oasis/projects/nsf/csd395/yuncong/CSHL_labelMapsLossless/MD589/MD589_0167_labelMapLossless.npz\n",
      "/oasis/projects/nsf/csd395/yuncong/CSHL_labelMapsLossless/MD589/MD589_0168_labelMapLossless.npz\n",
      "/oasis/projects/nsf/csd395/yuncong/CSHL_labelMapsLossless/MD589/MD589_0169_labelMapLossless.npz\n",
      "/oasis/projects/nsf/csd395/yuncong/CSHL_labelMapsLossless/MD589/MD589_0170_labelMapLossless.npz\n",
      "/oasis/projects/nsf/csd395/yuncong/CSHL_labelMapsLossless/MD589/MD589_0171_labelMapLossless.npz\n",
      "/oasis/projects/nsf/csd395/yuncong/CSHL_labelMapsLossless/MD589/MD589_0172_labelMapLossless.npz\n",
      "/oasis/projects/nsf/csd395/yuncong/CSHL_labelMapsLossless/MD589/MD589_0173_labelMapLossless.npz\n",
      "/oasis/projects/nsf/csd395/yuncong/CSHL_labelMapsLossless/MD589/MD589_0174_labelMapLossless.npz\n",
      "/oasis/projects/nsf/csd395/yuncong/CSHL_labelMapsLossless/MD589/MD589_0175_labelMapLossless.npz\n",
      "/oasis/projects/nsf/csd395/yuncong/CSHL_labelMapsLossless/MD589/MD589_0176_labelMapLossless.npz\n",
      "/oasis/projects/nsf/csd395/yuncong/CSHL_labelMapsLossless/MD589/MD589_0177_labelMapLossless.npz\n",
      "/oasis/projects/nsf/csd395/yuncong/CSHL_labelMapsLossless/MD589/MD589_0178_labelMapLossless.npz\n",
      "/oasis/projects/nsf/csd395/yuncong/CSHL_labelMapsLossless/MD589/MD589_0179_labelMapLossless.npz\n",
      "/oasis/projects/nsf/csd395/yuncong/CSHL_labelMapsLossless/MD589/MD589_0180_labelMapLossless.npz\n",
      "/oasis/projects/nsf/csd395/yuncong/CSHL_labelMapsLossless/MD589/MD589_0181_labelMapLossless.npz\n",
      "/oasis/projects/nsf/csd395/yuncong/CSHL_labelMapsLossless/MD589/MD589_0182_labelMapLossless.npz\n",
      "/oasis/projects/nsf/csd395/yuncong/CSHL_labelMapsLossless/MD589/MD589_0183_labelMapLossless.npz\n",
      "/oasis/projects/nsf/csd395/yuncong/CSHL_labelMapsLossless/MD589/MD589_0184_labelMapLossless.npz\n",
      "/oasis/projects/nsf/csd395/yuncong/CSHL_labelMapsLossless/MD589/MD589_0185_labelMapLossless.npz\n",
      "/oasis/projects/nsf/csd395/yuncong/CSHL_labelMapsLossless/MD589/MD589_0186_labelMapLossless.npz\n",
      "/oasis/projects/nsf/csd395/yuncong/CSHL_labelMapsLossless/MD589/MD589_0187_labelMapLossless.npz\n",
      "/oasis/projects/nsf/csd395/yuncong/CSHL_labelMapsLossless/MD589/MD589_0188_labelMapLossless.npz\n",
      "/oasis/projects/nsf/csd395/yuncong/CSHL_labelMapsLossless/MD589/MD589_0189_labelMapLossless.npz\n",
      "/oasis/projects/nsf/csd395/yuncong/CSHL_labelMapsLossless/MD589/MD589_0190_labelMapLossless.npz\n",
      "/oasis/projects/nsf/csd395/yuncong/CSHL_labelMapsLossless/MD589/MD589_0191_labelMapLossless.npz\n",
      "/oasis/projects/nsf/csd395/yuncong/CSHL_labelMapsLossless/MD589/MD589_0192_labelMapLossless.npz\n",
      "/oasis/projects/nsf/csd395/yuncong/CSHL_labelMapsLossless/MD589/MD589_0193_labelMapLossless.npz\n",
      "/oasis/projects/nsf/csd395/yuncong/CSHL_labelMapsLossless/MD589/MD589_0194_labelMapLossless.npz\n",
      "/oasis/projects/nsf/csd395/yuncong/CSHL_labelMapsLossless/MD589/MD589_0195_labelMapLossless.npz\n",
      "/oasis/projects/nsf/csd395/yuncong/CSHL_labelMapsLossless/MD589/MD589_0196_labelMapLossless.npz\n",
      "/oasis/projects/nsf/csd395/yuncong/CSHL_labelMapsLossless/MD589/MD589_0197_labelMapLossless.npz\n",
      "/oasis/projects/nsf/csd395/yuncong/CSHL_labelMapsLossless/MD589/MD589_0198_labelMapLossless.npz\n",
      "/oasis/projects/nsf/csd395/yuncong/CSHL_labelMapsLossless/MD589/MD589_0199_labelMapLossless.npz\n",
      "/oasis/projects/nsf/csd395/yuncong/CSHL_labelMapsLossless/MD589/MD589_0200_labelMapLossless.npz\n",
      "/oasis/projects/nsf/csd395/yuncong/CSHL_labelMapsLossless/MD589/MD589_0201_labelMapLossless.npz\n",
      "/oasis/projects/nsf/csd395/yuncong/CSHL_labelMapsLossless/MD589/MD589_0202_labelMapLossless.npz\n",
      "/oasis/projects/nsf/csd395/yuncong/CSHL_labelMapsLossless/MD589/MD589_0203_labelMapLossless.npz\n",
      "/oasis/projects/nsf/csd395/yuncong/CSHL_labelMapsLossless/MD589/MD589_0204_labelMapLossless.npz\n",
      "/oasis/projects/nsf/csd395/yuncong/CSHL_labelMapsLossless/MD589/MD589_0205_labelMapLossless.npz\n",
      "/oasis/projects/nsf/csd395/yuncong/CSHL_labelMapsLossless/MD589/MD589_0206_labelMapLossless.npz\n",
      "/oasis/projects/nsf/csd395/yuncong/CSHL_labelMapsLossless/MD589/MD589_0207_labelMapLossless.npz\n",
      "/oasis/projects/nsf/csd395/yuncong/CSHL_labelMapsLossless/MD589/MD589_0208_labelMapLossless.npz\n",
      "/oasis/projects/nsf/csd395/yuncong/CSHL_labelMapsLossless/MD589/MD589_0209_labelMapLossless.npz\n",
      "/oasis/projects/nsf/csd395/yuncong/CSHL_labelMapsLossless/MD589/MD589_0210_labelMapLossless.npz\n",
      "/oasis/projects/nsf/csd395/yuncong/CSHL_labelMapsLossless/MD589/MD589_0211_labelMapLossless.npz\n",
      "/oasis/projects/nsf/csd395/yuncong/CSHL_labelMapsLossless/MD589/MD589_0212_labelMapLossless.npz\n",
      "/oasis/projects/nsf/csd395/yuncong/CSHL_labelMapsLossless/MD589/MD589_0213_labelMapLossless.npz\n",
      "/oasis/projects/nsf/csd395/yuncong/CSHL_labelMapsLossless/MD589/MD589_0214_labelMapLossless.npz\n",
      "/oasis/projects/nsf/csd395/yuncong/CSHL_labelMapsLossless/MD589/MD589_0215_labelMapLossless.npz\n",
      "/oasis/projects/nsf/csd395/yuncong/CSHL_labelMapsLossless/MD589/MD589_0216_labelMapLossless.npz\n",
      "/oasis/projects/nsf/csd395/yuncong/CSHL_labelMapsLossless/MD589/MD589_0217_labelMapLossless.npz\n",
      "/oasis/projects/nsf/csd395/yuncong/CSHL_labelMapsLossless/MD589/MD589_0218_labelMapLossless.npz\n",
      "/oasis/projects/nsf/csd395/yuncong/CSHL_labelMapsLossless/MD589/MD589_0219_labelMapLossless.npz\n",
      "/oasis/projects/nsf/csd395/yuncong/CSHL_labelMapsLossless/MD589/MD589_0220_labelMapLossless.npz\n",
      "/oasis/projects/nsf/csd395/yuncong/CSHL_labelMapsLossless/MD589/MD589_0221_labelMapLossless.npz\n",
      "/oasis/projects/nsf/csd395/yuncong/CSHL_labelMapsLossless/MD589/MD589_0222_labelMapLossless.npz\n",
      "/oasis/projects/nsf/csd395/yuncong/CSHL_labelMapsLossless/MD589/MD589_0223_labelMapLossless.npz\n",
      "/oasis/projects/nsf/csd395/yuncong/CSHL_labelMapsLossless/MD589/MD589_0224_labelMapLossless.npz\n",
      "/oasis/projects/nsf/csd395/yuncong/CSHL_labelMapsLossless/MD589/MD589_0225_labelMapLossless.npz\n",
      "/oasis/projects/nsf/csd395/yuncong/CSHL_labelMapsLossless/MD589/MD589_0226_labelMapLossless.npz\n",
      "/oasis/projects/nsf/csd395/yuncong/CSHL_labelMapsLossless/MD589/MD589_0227_labelMapLossless.npz\n",
      "/oasis/projects/nsf/csd395/yuncong/CSHL_labelMapsLossless/MD589/MD589_0228_labelMapLossless.npz\n",
      "/oasis/projects/nsf/csd395/yuncong/CSHL_labelMapsLossless/MD589/MD589_0229_labelMapLossless.npz\n",
      "/oasis/projects/nsf/csd395/yuncong/CSHL_labelMapsLossless/MD589/MD589_0230_labelMapLossless.npz\n",
      "/oasis/projects/nsf/csd395/yuncong/CSHL_labelMapsLossless/MD589/MD589_0231_labelMapLossless.npz\n",
      "/oasis/projects/nsf/csd395/yuncong/CSHL_labelMapsLossless/MD589/MD589_0232_labelMapLossless.npz\n",
      "/oasis/projects/nsf/csd395/yuncong/CSHL_labelMapsLossless/MD589/MD589_0233_labelMapLossless.npz\n",
      "/oasis/projects/nsf/csd395/yuncong/CSHL_labelMapsLossless/MD589/MD589_0234_labelMapLossless.npz\n",
      "/oasis/projects/nsf/csd395/yuncong/CSHL_labelMapsLossless/MD589/MD589_0235_labelMapLossless.npz\n",
      "/oasis/projects/nsf/csd395/yuncong/CSHL_labelMapsLossless/MD589/MD589_0236_labelMapLossless.npz\n",
      "/oasis/projects/nsf/csd395/yuncong/CSHL_labelMapsLossless/MD589/MD589_0237_labelMapLossless.npz\n",
      "/oasis/projects/nsf/csd395/yuncong/CSHL_labelMapsLossless/MD589/MD589_0238_labelMapLossless.npz\n",
      "/oasis/projects/nsf/csd395/yuncong/CSHL_labelMapsLossless/MD589/MD589_0239_labelMapLossless.npz\n",
      "/oasis/projects/nsf/csd395/yuncong/CSHL_labelMapsLossless/MD589/MD589_0240_labelMapLossless.npz\n",
      "/oasis/projects/nsf/csd395/yuncong/CSHL_labelMapsLossless/MD589/MD589_0241_labelMapLossless.npz\n",
      "/oasis/projects/nsf/csd395/yuncong/CSHL_labelMapsLossless/MD589/MD589_0242_labelMapLossless.npz\n",
      "/oasis/projects/nsf/csd395/yuncong/CSHL_labelMapsLossless/MD589/MD589_0243_labelMapLossless.npz\n",
      "/oasis/projects/nsf/csd395/yuncong/CSHL_labelMapsLossless/MD589/MD589_0244_labelMapLossless.npz\n",
      "/oasis/projects/nsf/csd395/yuncong/CSHL_labelMapsLossless/MD589/MD589_0245_labelMapLossless.npz\n",
      "/oasis/projects/nsf/csd395/yuncong/CSHL_labelMapsLossless/MD589/MD589_0246_labelMapLossless.npz\n",
      "/oasis/projects/nsf/csd395/yuncong/CSHL_labelMapsLossless/MD589/MD589_0247_labelMapLossless.npz\n",
      "/oasis/projects/nsf/csd395/yuncong/CSHL_labelMapsLossless/MD589/MD589_0248_labelMapLossless.npz\n",
      "/oasis/projects/nsf/csd395/yuncong/CSHL_labelMapsLossless/MD589/MD589_0249_labelMapLossless.npz\n",
      "/oasis/projects/nsf/csd395/yuncong/CSHL_labelMapsLossless/MD589/MD589_0250_labelMapLossless.npz\n",
      "/oasis/projects/nsf/csd395/yuncong/CSHL_labelMapsLossless/MD589/MD589_0251_labelMapLossless.npz\n",
      "/oasis/projects/nsf/csd395/yuncong/CSHL_labelMapsLossless/MD589/MD589_0252_labelMapLossless.npz\n",
      "/oasis/projects/nsf/csd395/yuncong/CSHL_labelMapsLossless/MD589/MD589_0253_labelMapLossless.npz\n",
      "/oasis/projects/nsf/csd395/yuncong/CSHL_labelMapsLossless/MD589/MD589_0254_labelMapLossless.npz\n",
      "/oasis/projects/nsf/csd395/yuncong/CSHL_labelMapsLossless/MD589/MD589_0255_labelMapLossless.npz\n",
      "/oasis/projects/nsf/csd395/yuncong/CSHL_labelMapsLossless/MD589/MD589_0256_labelMapLossless.npz\n",
      "/oasis/projects/nsf/csd395/yuncong/CSHL_labelMapsLossless/MD589/MD589_0257_labelMapLossless.npz\n",
      "/oasis/projects/nsf/csd395/yuncong/CSHL_labelMapsLossless/MD589/MD589_0258_labelMapLossless.npz\n",
      "/oasis/projects/nsf/csd395/yuncong/CSHL_labelMapsLossless/MD589/MD589_0259_labelMapLossless.npz\n",
      "/oasis/projects/nsf/csd395/yuncong/CSHL_labelMapsLossless/MD589/MD589_0260_labelMapLossless.npz\n",
      "/oasis/projects/nsf/csd395/yuncong/CSHL_labelMapsLossless/MD589/MD589_0261_labelMapLossless.npz\n",
      "/oasis/projects/nsf/csd395/yuncong/CSHL_labelMapsLossless/MD589/MD589_0262_labelMapLossless.npz\n",
      "/oasis/projects/nsf/csd395/yuncong/CSHL_labelMapsLossless/MD589/MD589_0263_labelMapLossless.npz\n",
      "/oasis/projects/nsf/csd395/yuncong/CSHL_labelMapsLossless/MD589/MD589_0264_labelMapLossless.npz\n",
      "/oasis/projects/nsf/csd395/yuncong/CSHL_labelMapsLossless/MD589/MD589_0265_labelMapLossless.npz\n",
      "/oasis/projects/nsf/csd395/yuncong/CSHL_labelMapsLossless/MD589/MD589_0266_labelMapLossless.npz\n",
      "/oasis/projects/nsf/csd395/yuncong/CSHL_labelMapsLossless/MD589/MD589_0267_labelMapLossless.npz\n",
      "/oasis/projects/nsf/csd395/yuncong/CSHL_labelMapsLossless/MD589/MD589_0268_labelMapLossless.npz\n",
      "/oasis/projects/nsf/csd395/yuncong/CSHL_labelMapsLossless/MD589/MD589_0269_labelMapLossless.npz\n",
      "/oasis/projects/nsf/csd395/yuncong/CSHL_labelMapsLossless/MD589/MD589_0270_labelMapLossless.npz\n",
      "/oasis/projects/nsf/csd395/yuncong/CSHL_labelMapsLossless/MD589/MD589_0271_labelMapLossless.npz\n",
      "/oasis/projects/nsf/csd395/yuncong/CSHL_labelMapsLossless/MD589/MD589_0272_labelMapLossless.npz\n",
      "/oasis/projects/nsf/csd395/yuncong/CSHL_labelMapsLossless/MD589/MD589_0273_labelMapLossless.npz\n",
      "/oasis/projects/nsf/csd395/yuncong/CSHL_labelMapsLossless/MD589/MD589_0274_labelMapLossless.npz\n",
      "/oasis/projects/nsf/csd395/yuncong/CSHL_labelMapsLossless/MD589/MD589_0275_labelMapLossless.npz\n",
      "/oasis/projects/nsf/csd395/yuncong/CSHL_labelMapsLossless/MD589/MD589_0276_labelMapLossless.npz\n",
      "/oasis/projects/nsf/csd395/yuncong/CSHL_labelMapsLossless/MD589/MD589_0277_labelMapLossless.npz\n",
      "/oasis/projects/nsf/csd395/yuncong/CSHL_labelMapsLossless/MD589/MD589_0278_labelMapLossless.npz\n",
      "/oasis/projects/nsf/csd395/yuncong/CSHL_labelMapsLossless/MD589/MD589_0279_labelMapLossless.npz\n",
      "/oasis/projects/nsf/csd395/yuncong/CSHL_labelMapsLossless/MD589/MD589_0280_labelMapLossless.npz\n",
      "/oasis/projects/nsf/csd395/yuncong/CSHL_labelMapsLossless/MD589/MD589_0281_labelMapLossless.npz\n",
      "/oasis/projects/nsf/csd395/yuncong/CSHL_labelMapsLossless/MD589/MD589_0282_labelMapLossless.npz\n",
      "/oasis/projects/nsf/csd395/yuncong/CSHL_labelMapsLossless/MD589/MD589_0283_labelMapLossless.npz\n",
      "/oasis/projects/nsf/csd395/yuncong/CSHL_labelMapsLossless/MD589/MD589_0284_labelMapLossless.npz\n",
      "/oasis/projects/nsf/csd395/yuncong/CSHL_labelMapsLossless/MD589/MD589_0285_labelMapLossless.npz\n",
      "/oasis/projects/nsf/csd395/yuncong/CSHL_labelMapsLossless/MD589/MD589_0286_labelMapLossless.npz\n",
      "/oasis/projects/nsf/csd395/yuncong/CSHL_labelMapsLossless/MD589/MD589_0287_labelMapLossless.npz\n",
      "/oasis/projects/nsf/csd395/yuncong/CSHL_labelMapsLossless/MD589/MD589_0288_labelMapLossless.npz\n",
      "/oasis/projects/nsf/csd395/yuncong/CSHL_labelMapsLossless/MD589/MD589_0289_labelMapLossless.npz\n",
      "/oasis/projects/nsf/csd395/yuncong/CSHL_labelMapsLossless/MD589/MD589_0290_labelMapLossless.npz\n",
      "/oasis/projects/nsf/csd395/yuncong/CSHL_labelMapsLossless/MD589/MD589_0291_labelMapLossless.npz\n",
      "/oasis/projects/nsf/csd395/yuncong/CSHL_labelMapsLossless/MD589/MD589_0292_labelMapLossless.npz\n",
      "/oasis/projects/nsf/csd395/yuncong/CSHL_labelMapsLossless/MD589/MD589_0293_labelMapLossless.npz\n",
      "/oasis/projects/nsf/csd395/yuncong/CSHL_labelMapsLossless/MD589/MD589_0294_labelMapLossless.npz\n",
      "/oasis/projects/nsf/csd395/yuncong/CSHL_labelMapsLossless/MD589/MD589_0295_labelMapLossless.npz\n",
      "/oasis/projects/nsf/csd395/yuncong/CSHL_labelMapsLossless/MD589/MD589_0296_labelMapLossless.npz\n",
      "/oasis/projects/nsf/csd395/yuncong/CSHL_labelMapsLossless/MD589/MD589_0297_labelMapLossless.npz\n",
      "/oasis/projects/nsf/csd395/yuncong/CSHL_labelMapsLossless/MD589/MD589_0298_labelMapLossless.npz\n",
      "/oasis/projects/nsf/csd395/yuncong/CSHL_labelMapsLossless/MD589/MD589_0299_labelMapLossless.npz\n",
      "/oasis/projects/nsf/csd395/yuncong/CSHL_labelMapsLossless/MD589/MD589_0300_labelMapLossless.npz\n",
      "/oasis/projects/nsf/csd395/yuncong/CSHL_labelMapsLossless/MD589/MD589_0301_labelMapLossless.npz\n",
      "/oasis/projects/nsf/csd395/yuncong/CSHL_labelMapsLossless/MD589/MD589_0302_labelMapLossless.npz\n",
      "/oasis/projects/nsf/csd395/yuncong/CSHL_labelMapsLossless/MD589/MD589_0303_labelMapLossless.npz\n",
      "/oasis/projects/nsf/csd395/yuncong/CSHL_labelMapsLossless/MD589/MD589_0304_labelMapLossless.npz\n",
      "/oasis/projects/nsf/csd395/yuncong/CSHL_labelMapsLossless/MD589/MD589_0305_labelMapLossless.npz\n",
      "/oasis/projects/nsf/csd395/yuncong/CSHL_labelMapsLossless/MD589/MD589_0306_labelMapLossless.npz\n",
      "/oasis/projects/nsf/csd395/yuncong/CSHL_labelMapsLossless/MD589/MD589_0307_labelMapLossless.npz\n",
      "/oasis/projects/nsf/csd395/yuncong/CSHL_labelMapsLossless/MD589/MD589_0308_labelMapLossless.npz\n",
      "/oasis/projects/nsf/csd395/yuncong/CSHL_labelMapsLossless/MD589/MD589_0309_labelMapLossless.npz\n",
      "/oasis/projects/nsf/csd395/yuncong/CSHL_labelMapsLossless/MD589/MD589_0310_labelMapLossless.npz\n",
      "/oasis/projects/nsf/csd395/yuncong/CSHL_labelMapsLossless/MD589/MD589_0311_labelMapLossless.npz\n",
      "/oasis/projects/nsf/csd395/yuncong/CSHL_labelMapsLossless/MD589/MD589_0312_labelMapLossless.npz\n",
      "/oasis/projects/nsf/csd395/yuncong/CSHL_labelMapsLossless/MD589/MD589_0313_labelMapLossless.npz\n",
      "/oasis/projects/nsf/csd395/yuncong/CSHL_labelMapsLossless/MD589/MD589_0314_labelMapLossless.npz\n",
      "/oasis/projects/nsf/csd395/yuncong/CSHL_labelMapsLossless/MD589/MD589_0315_labelMapLossless.npz\n",
      "/oasis/projects/nsf/csd395/yuncong/CSHL_labelMapsLossless/MD589/MD589_0316_labelMapLossless.npz\n",
      "/oasis/projects/nsf/csd395/yuncong/CSHL_labelMapsLossless/MD589/MD589_0317_labelMapLossless.npz\n",
      "/oasis/projects/nsf/csd395/yuncong/CSHL_labelMapsLossless/MD589/MD589_0318_labelMapLossless.npz\n",
      "/oasis/projects/nsf/csd395/yuncong/CSHL_labelMapsLossless/MD589/MD589_0319_labelMapLossless.npz\n",
      "/oasis/projects/nsf/csd395/yuncong/CSHL_labelMapsLossless/MD589/MD589_0320_labelMapLossless.npz\n",
      "/oasis/projects/nsf/csd395/yuncong/CSHL_labelMapsLossless/MD589/MD589_0321_labelMapLossless.npz\n",
      "/oasis/projects/nsf/csd395/yuncong/CSHL_labelMapsLossless/MD589/MD589_0322_labelMapLossless.npz\n",
      "/oasis/projects/nsf/csd395/yuncong/CSHL_labelMapsLossless/MD589/MD589_0323_labelMapLossless.npz\n",
      "/oasis/projects/nsf/csd395/yuncong/CSHL_labelMapsLossless/MD589/MD589_0324_labelMapLossless.npz\n",
      "/oasis/projects/nsf/csd395/yuncong/CSHL_labelMapsLossless/MD589/MD589_0325_labelMapLossless.npz\n",
      "/oasis/projects/nsf/csd395/yuncong/CSHL_labelMapsLossless/MD589/MD589_0326_labelMapLossless.npz\n",
      "/oasis/projects/nsf/csd395/yuncong/CSHL_labelMapsLossless/MD589/MD589_0327_labelMapLossless.npz\n",
      "/oasis/projects/nsf/csd395/yuncong/CSHL_labelMapsLossless/MD589/MD589_0328_labelMapLossless.npz\n",
      "/oasis/projects/nsf/csd395/yuncong/CSHL_labelMapsLossless/MD589/MD589_0329_labelMapLossless.npz\n",
      "/oasis/projects/nsf/csd395/yuncong/CSHL_labelMapsLossless/MD589/MD589_0330_labelMapLossless.npz\n",
      "/oasis/projects/nsf/csd395/yuncong/CSHL_labelMapsLossless/MD589/MD589_0331_labelMapLossless.npz\n",
      "/oasis/projects/nsf/csd395/yuncong/CSHL_labelMapsLossless/MD589/MD589_0332_labelMapLossless.npz\n",
      "/oasis/projects/nsf/csd395/yuncong/CSHL_labelMapsLossless/MD589/MD589_0333_labelMapLossless.npz\n",
      "/oasis/projects/nsf/csd395/yuncong/CSHL_labelMapsLossless/MD589/MD589_0334_labelMapLossless.npz\n",
      "/oasis/projects/nsf/csd395/yuncong/CSHL_labelMapsLossless/MD589/MD589_0335_labelMapLossless.npz\n",
      "/oasis/projects/nsf/csd395/yuncong/CSHL_labelMapsLossless/MD589/MD589_0336_labelMapLossless.npz\n",
      "/oasis/projects/nsf/csd395/yuncong/CSHL_labelMapsLossless/MD589/MD589_0337_labelMapLossless.npz\n",
      "/oasis/projects/nsf/csd395/yuncong/CSHL_labelMapsLossless/MD589/MD589_0338_labelMapLossless.npz\n",
      "/oasis/projects/nsf/csd395/yuncong/CSHL_labelMapsLossless/MD589/MD589_0339_labelMapLossless.npz\n",
      "/oasis/projects/nsf/csd395/yuncong/CSHL_labelMapsLossless/MD589/MD589_0340_labelMapLossless.npz\n",
      "/oasis/projects/nsf/csd395/yuncong/CSHL_labelMapsLossless/MD589/MD589_0341_labelMapLossless.npz\n",
      "/oasis/projects/nsf/csd395/yuncong/CSHL_labelMapsLossless/MD589/MD589_0342_labelMapLossless.npz\n",
      "/oasis/projects/nsf/csd395/yuncong/CSHL_labelMapsLossless/MD589/MD589_0343_labelMapLossless.npz\n",
      "/oasis/projects/nsf/csd395/yuncong/CSHL_labelMapsLossless/MD589/MD589_0344_labelMapLossless.npz\n",
      "/oasis/projects/nsf/csd395/yuncong/CSHL_labelMapsLossless/MD589/MD589_0345_labelMapLossless.npz\n",
      "/oasis/projects/nsf/csd395/yuncong/CSHL_labelMapsLossless/MD589/MD589_0346_labelMapLossless.npz\n",
      "/oasis/projects/nsf/csd395/yuncong/CSHL_labelMapsLossless/MD589/MD589_0347_labelMapLossless.npz\n",
      "/oasis/projects/nsf/csd395/yuncong/CSHL_labelMapsLossless/MD589/MD589_0348_labelMapLossless.npz\n",
      "/oasis/projects/nsf/csd395/yuncong/CSHL_labelMapsLossless/MD589/MD589_0349_labelMapLossless.npz\n",
      "/oasis/projects/nsf/csd395/yuncong/CSHL_labelMapsLossless/MD589/MD589_0350_labelMapLossless.npz\n",
      "/oasis/projects/nsf/csd395/yuncong/CSHL_labelMapsLossless/MD589/MD589_0351_labelMapLossless.npz\n",
      "/oasis/projects/nsf/csd395/yuncong/CSHL_labelMapsLossless/MD589/MD589_0352_labelMapLossless.npz\n",
      "/oasis/projects/nsf/csd395/yuncong/CSHL_labelMapsLossless/MD589/MD589_0353_labelMapLossless.npz\n",
      "/oasis/projects/nsf/csd395/yuncong/CSHL_labelMapsLossless/MD589/MD589_0354_labelMapLossless.npz\n",
      "/oasis/projects/nsf/csd395/yuncong/CSHL_labelMapsLossless/MD589/MD589_0355_labelMapLossless.npz\n",
      "/oasis/projects/nsf/csd395/yuncong/CSHL_labelMapsLossless/MD589/MD589_0356_labelMapLossless.npz\n",
      "/oasis/projects/nsf/csd395/yuncong/CSHL_labelMapsLossless/MD589/MD589_0357_labelMapLossless.npz\n",
      "/oasis/projects/nsf/csd395/yuncong/CSHL_labelMapsLossless/MD589/MD589_0358_labelMapLossless.npz\n",
      "/oasis/projects/nsf/csd395/yuncong/CSHL_labelMapsLossless/MD589/MD589_0359_labelMapLossless.npz\n",
      "/oasis/projects/nsf/csd395/yuncong/CSHL_labelMapsLossless/MD589/MD589_0360_labelMapLossless.npz\n",
      "/oasis/projects/nsf/csd395/yuncong/CSHL_labelMapsLossless/MD589/MD589_0361_labelMapLossless.npz\n",
      "/oasis/projects/nsf/csd395/yuncong/CSHL_labelMapsLossless/MD589/MD589_0362_labelMapLossless.npz\n",
      "/oasis/projects/nsf/csd395/yuncong/CSHL_labelMapsLossless/MD589/MD589_0363_labelMapLossless.npz\n",
      "/oasis/projects/nsf/csd395/yuncong/CSHL_labelMapsLossless/MD589/MD589_0364_labelMapLossless.npz\n",
      "/oasis/projects/nsf/csd395/yuncong/CSHL_labelMapsLossless/MD589/MD589_0365_labelMapLossless.npz\n",
      "/oasis/projects/nsf/csd395/yuncong/CSHL_labelMapsLossless/MD589/MD589_0366_labelMapLossless.npz\n",
      "/oasis/projects/nsf/csd395/yuncong/CSHL_labelMapsLossless/MD589/MD589_0367_labelMapLossless.npz\n",
      "/oasis/projects/nsf/csd395/yuncong/CSHL_labelMapsLossless/MD589/MD589_0368_labelMapLossless.npz\n"
     ]
    }
   ],
   "source": [
    "stack = 'MD589'\n",
    "\n",
    "first_wholeStack, last_wholeStack = section_range_lookup[stack]\n",
    "print first_wholeStack, last_wholeStack\n",
    "\n",
    "first, last = (first_wholeStack, last_wholeStack)\n",
    "\n",
    "prediction_maps = {}\n",
    "\n",
    "for i in range(first, last+1):\n",
    "    \n",
    "    fn = '/oasis/projects/nsf/csd395/yuncong/CSHL_labelMapsLossless/%(stack)s/%(stack)s_%(slice)04d_labelMapLossless.npz' % \\\n",
    "            {'stack': stack, 'slice': i}\n",
    "    if os.path.exists(fn):\n",
    "        prediction_maps[i] = np.load(fn)['arr_0'][::8, ::8].copy()"
   ]
  },
  {
   "cell_type": "code",
   "execution_count": 38,
   "metadata": {
    "collapsed": false
   },
   "outputs": [
    {
     "name": "stdout",
     "output_type": "stream",
     "text": [
      "93 364\n"
     ]
    }
   ],
   "source": [
    "# stack = 'MD589'\n",
    "stack = 'MD594'\n",
    "\n",
    "first_wholeStack, last_wholeStack = section_range_lookup[stack]\n",
    "print first_wholeStack, last_wholeStack\n",
    "\n",
    "first, last = (157, 166)\n",
    "\n",
    "prediction_maps = {}\n",
    "\n",
    "for i in range(first, last+1):\n",
    "    prediction_maps[i] = np.load(patch_dir + '/%(stack)s_roi1_densePredictionMapsLossless/%(stack)s_%(slice)04d_roi1_denseTopPredictionMapLossless_margin0.20.npz' \\\n",
    "        % {'stack': stack, 'slice': i})['arr_0'][::8, ::8].copy()"
   ]
  },
  {
   "cell_type": "code",
   "execution_count": 39,
   "metadata": {
    "collapsed": false
   },
   "outputs": [],
   "source": [
    "section_thickness = 20 # in um\n",
    "xy_pixel_distance_lossless = 0.46\n",
    "xy_pixel_distance_tb = xy_pixel_distance_lossless * 32 # in um, thumbnail\n",
    "xy_pixel_distance = xy_pixel_distance_lossless * 8\n",
    "\n",
    "factor = section_thickness/xy_pixel_distance\n",
    "\n",
    "n_sec = last_wholeStack + 1 - first_wholeStack"
   ]
  },
  {
   "cell_type": "code",
   "execution_count": 40,
   "metadata": {
    "collapsed": true
   },
   "outputs": [],
   "source": [
    "labels = ['BackG', '5N', '7n', '7N', '12N', 'Gr', 'LVe', 'Pn', 'SuVe', 'VLL']\n",
    "label_dict = dict([(l,i) for i, l in enumerate(labels)])\n",
    "\n",
    "# colors = (np.loadtxt(os.environ['REPO_DIR'] + '/visualization/100colors.txt')*255).astype(np.uint8)\n",
    "# colors[label_dict['BackG']] = 255"
   ]
  },
  {
   "cell_type": "code",
   "execution_count": 41,
   "metadata": {
    "collapsed": false
   },
   "outputs": [
    {
     "name": "stdout",
     "output_type": "stream",
     "text": [
      "(1448, 1804, 1478)\n"
     ]
    }
   ],
   "source": [
    "dm = DataManager(stack=stack, load_mask=False)\n",
    "volume = np.zeros((dm.image_height/8, dm.image_width/8, int(n_sec*factor)), np.int8)\n",
    "print volume.shape"
   ]
  },
  {
   "cell_type": "code",
   "execution_count": 42,
   "metadata": {
    "collapsed": false
   },
   "outputs": [],
   "source": [
    "for sec, pred_map in prediction_maps.iteritems():\n",
    "    volume[:, :, int(factor*sec): int(factor*(sec+1))] = pred_map[..., np.newaxis]"
   ]
  },
  {
   "cell_type": "code",
   "execution_count": 12,
   "metadata": {
    "collapsed": false,
    "scrolled": true
   },
   "outputs": [
    {
     "name": "stderr",
     "output_type": "stream",
     "text": [
      "/oasis/projects/nsf/csd181/yuncong/virtualenv-1.9.1/yuncongve/lib/python2.7/site-packages/ipykernel/__main__.py:3: DeprecationWarning: using a non-integer number instead of an integer will result in an error in the future\n",
      "  app.launch_new_instance()\n"
     ]
    },
    {
     "data": {
      "text/plain": [
       "<matplotlib.figure.Figure at 0x552cb90>"
      ]
     },
     "metadata": {},
     "output_type": "display_data"
    },
    {
     "data": {
      "image/png": "[encoded data removed]",
      "text/plain": [
       "<matplotlib.figure.Figure at 0x553e0d0>"
      ]
     },
     "metadata": {},
     "output_type": "display_data"
    },
    {
     "data": {
      "text/plain": [
       "<matplotlib.figure.Figure at 0x561af90>"
      ]
     },
     "metadata": {},
     "output_type": "display_data"
    },
    {
     "data": {
      "image/png": "[encoded data removed]",
      "text/plain": [
       "<matplotlib.figure.Figure at 0x5619810>"
      ]
     },
     "metadata": {},
     "output_type": "display_data"
    },
    {
     "data": {
      "text/plain": [
       "<matplotlib.figure.Figure at 0x6d1df90>"
      ]
     },
     "metadata": {},
     "output_type": "display_data"
    },
    {
     "data": {
      "image/png": "[encoded data removed]",
      "text/plain": [
       "<matplotlib.figure.Figure at 0x6cf8bd0>"
      ]
     },
     "metadata": {},
     "output_type": "display_data"
    },
    {
     "data": {
      "text/plain": [
       "<matplotlib.figure.Figure at 0x8326690>"
      ]
     },
     "metadata": {},
     "output_type": "display_data"
    },
    {
     "data": {
      "image/png": "[encoded data removed]",
      "text/plain": [
       "<matplotlib.figure.Figure at 0x8300510>"
      ]
     },
     "metadata": {},
     "output_type": "display_data"
    },
    {
     "data": {
      "text/plain": [
       "<matplotlib.figure.Figure at 0x6d22c90>"
      ]
     },
     "metadata": {},
     "output_type": "display_data"
    },
    {
     "data": {
      "image/png": "[encoded data removed]",
      "text/plain": [
       "<matplotlib.figure.Figure at 0x8326ad0>"
      ]
     },
     "metadata": {},
     "output_type": "display_data"
    },
    {
     "data": {
      "text/plain": [
       "<matplotlib.figure.Figure at 0x5620dd0>"
      ]
     },
     "metadata": {},
     "output_type": "display_data"
    },
    {
     "data": {
      "image/png": "[encoded data removed]",
      "text/plain": [
       "<matplotlib.figure.Figure at 0x6cf8710>"
      ]
     },
     "metadata": {},
     "output_type": "display_data"
    },
    {
     "data": {
      "text/plain": [
       "<matplotlib.figure.Figure at 0x55efd50>"
      ]
     },
     "metadata": {},
     "output_type": "display_data"
    },
    {
     "data": {
      "image/png": "[encoded data removed]",
      "text/plain": [
       "<matplotlib.figure.Figure at 0x55f9050>"
      ]
     },
     "metadata": {},
     "output_type": "display_data"
    },
    {
     "data": {
      "text/plain": [
       "<matplotlib.figure.Figure at 0x98898d0>"
      ]
     },
     "metadata": {},
     "output_type": "display_data"
    },
    {
     "data": {
      "image/png": "[encoded data removed]",
      "text/plain": [
       "<matplotlib.figure.Figure at 0x6d253d0>"
      ]
     },
     "metadata": {},
     "output_type": "display_data"
    },
    {
     "data": {
      "text/plain": [
       "<matplotlib.figure.Figure at 0x994fd50>"
      ]
     },
     "metadata": {},
     "output_type": "display_data"
    },
    {
     "data": {
      "image/png": "[encoded data removed]",
      "text/plain": [
       "<matplotlib.figure.Figure at 0x989b310>"
      ]
     },
     "metadata": {},
     "output_type": "display_data"
    },
    {
     "data": {
      "text/plain": [
       "<matplotlib.figure.Figure at 0xaf51b10>"
      ]
     },
     "metadata": {},
     "output_type": "display_data"
    },
    {
     "data": {
      "image/png": "[encoded data removed]",
      "text/plain": [
       "<matplotlib.figure.Figure at 0x9963b90>"
      ]
     },
     "metadata": {},
     "output_type": "display_data"
    }
   ],
   "source": [
    "for i in range(first, last+1):\n",
    "    plt.figure();\n",
    "    plt.matshow(volume[:,:,factor*i]);\n",
    "    plt.show();"
   ]
  },
  {
   "cell_type": "code",
   "execution_count": 43,
   "metadata": {
    "collapsed": true
   },
   "outputs": [],
   "source": [
    "volume_dir = '/oasis/projects/nsf/csd395/yuncong/CSHL_volumes/'\n",
    "if not os.path.exists(volume_dir):\n",
    "    os.makedirs(volume_dir)"
   ]
  },
  {
   "cell_type": "code",
   "execution_count": 44,
   "metadata": {
    "collapsed": false
   },
   "outputs": [
    {
     "name": "stdout",
     "output_type": "stream",
     "text": [
      "567 1270\n",
      "399 1777\n",
      "853 906\n"
     ]
    }
   ],
   "source": [
    "volume[volume < 1e-6] = 0\n",
    "xs, ys, zs = np.where(volume > 0)\n",
    "\n",
    "xmin = xs.min()\n",
    "xmax = xs.max()\n",
    "ymin = ys.min()\n",
    "ymax = ys.max()\n",
    "zmin = zs.min()\n",
    "zmax = zs.max()\n",
    "\n",
    "print xmin, xmax\n",
    "print ymin, ymax\n",
    "print zmin, zmax"
   ]
  },
  {
   "cell_type": "code",
   "execution_count": 45,
   "metadata": {
    "collapsed": true
   },
   "outputs": [],
   "source": [
    "np.savez_compressed(os.path.join(volume_dir, 'volume_'+stack), volume[xmin:xmax+1, ymin:ymax+1, zmin:zmax+1])"
   ]
  },
  {
   "cell_type": "code",
   "execution_count": null,
   "metadata": {
    "collapsed": true
   },
   "outputs": [],
   "source": []
  }
 ],
 "metadata": {
  "kernelspec": {
   "display_name": "Python 2",
   "language": "python",
   "name": "python2"
  },
  "language_info": {
   "codemirror_mode": {
    "name": "ipython",
    "version": 2
   },
   "file_extension": ".py",
   "mimetype": "text/x-python",
   "name": "python",
   "nbconvert_exporter": "python",
   "pygments_lexer": "ipython2",
   "version": "2.7.3"
  }
 },
 "nbformat": 4,
 "nbformat_minor": 0
}
