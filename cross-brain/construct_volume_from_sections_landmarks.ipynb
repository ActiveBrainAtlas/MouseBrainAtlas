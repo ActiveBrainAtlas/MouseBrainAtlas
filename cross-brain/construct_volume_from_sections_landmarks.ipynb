{
 "cells": [
  {
   "cell_type": "code",
   "execution_count": 1,
   "metadata": {
    "collapsed": false
   },
   "outputs": [],
   "source": [
    "%load_ext autoreload\n",
    "%autoreload 2"
   ]
  },
  {
   "cell_type": "code",
   "execution_count": 2,
   "metadata": {
    "collapsed": true
   },
   "outputs": [],
   "source": [
    "import numpy as np\n",
    "\n",
    "import sys\n",
    "import os\n",
    "\n",
    "sys.path.append(os.environ['REPO_DIR'] + '/utilities')\n",
    "from utilities2015 import *\n",
    "\n",
    "import matplotlib.pyplot as plt\n",
    "%matplotlib inline"
   ]
  },
  {
   "cell_type": "code",
   "execution_count": null,
   "metadata": {
    "collapsed": false
   },
   "outputs": [],
   "source": [
    "# reconstruct thumbnail volume\n",
    "\n",
    "stack = 'MD589'\n",
    "\n",
    "downsample_factor = 32\n",
    "\n",
    "section_thickness = 20 # in um\n",
    "xy_pixel_distance_lossless = 0.46\n",
    "xy_pixel_distance_tb = xy_pixel_distance_lossless * 32 # in um, thumbnail\n",
    "# factor = section_thickness/xy_pixel_distance_lossless\n",
    "\n",
    "xy_pixel_distance_downsampled = xy_pixel_distance_lossless * downsample_factor\n",
    "z_xy_ratio_downsampled = section_thickness / xy_pixel_distance_downsampled\n",
    "\n",
    "n_sec = {'MD589': 445, 'MD594': 432}\n",
    "\n",
    "dm = DataManager(stack=stack)\n",
    "\n",
    "# volume = np.zeros((dm.image_height/downsample_factor, \n",
    "#                    dm.image_width/downsample_factor, \n",
    "#                    int(n_sec[stack]*z_xy_ratio_downsampled)), np.uint8)\n",
    "\n",
    "volume = np.zeros((1500, 2000, int(n_sec[stack]*z_xy_ratio_downsampled)), np.uint8)\n",
    "\n",
    "section_bs_begin, section_bs_end = section_range_lookup[stack]\n",
    "print section_bs_begin, section_bs_end\n",
    "\n",
    "for sec in range(section_bs_begin, section_bs_end+1):\n",
    "    \n",
    "    print sec\n",
    "    \n",
    "#     dm.set_slice(section=sec)\n",
    "\n",
    "#     im = img_as_ubyte(rgb2gray(imread(os.environ['DATA_DIR'] + '/%(stack)s_thumbnail_aligned_cropped/%(stack)s_%(slice)04d_thumbnail_aligned_cropped.tif' \\\n",
    "#                         % {'stack': stack, 'slice': sec})))\n",
    "\n",
    "    im = img_as_ubyte(imread(os.environ['DATA_DIR'] + '/%(stack)s_thumbnail_aligned_masked/%(stack)s_%(slice)04d_thumbnail_aligned_masked.png' \\\n",
    "        % {'stack': stack, 'slice': sec})) \n",
    "    \n",
    "    volume[:,:, int(z_xy_ratio_downsampled*sec):int(z_xy_ratio_downsampled*(sec+1))] = im[..., np.newaxis]"
   ]
  },
  {
   "cell_type": "code",
   "execution_count": null,
   "metadata": {
    "collapsed": false
   },
   "outputs": [],
   "source": [
    "volume.shape"
   ]
  },
  {
   "cell_type": "code",
   "execution_count": null,
   "metadata": {
    "collapsed": false
   },
   "outputs": [],
   "source": [
    "# volume_dir = '/oasis/projects/nsf/csd395/yuncong/CSHL_volumes'\n",
    "\n",
    "volume[volume < 1e-6] = 0\n",
    "xs, ys, zs = np.where(volume > 0)\n",
    "\n",
    "xmin = xs.min()\n",
    "xmax = xs.max()\n",
    "ymin = ys.min()\n",
    "ymax = ys.max()\n",
    "zmin = zs.min()\n",
    "zmax = zs.max()\n",
    "\n",
    "print xmin, xmax\n",
    "print ymin, ymax\n",
    "print zmin, zmax"
   ]
  },
  {
   "cell_type": "code",
   "execution_count": null,
   "metadata": {
    "collapsed": true
   },
   "outputs": [],
   "source": [
    "volume = volume[xmin:xmax+1, ymin:ymax+1, zmin:zmax+1]"
   ]
  },
  {
   "cell_type": "code",
   "execution_count": null,
   "metadata": {
    "collapsed": true
   },
   "outputs": [],
   "source": [
    "dm = DataManager(stack=stack)\n",
    "\n",
    "theta_z = 0\n",
    "theta_y = 0\n",
    "theta_x = 0\n",
    "tx = 0\n",
    "ty = 0\n",
    "tz = 0\n",
    "skew_z = 0\n",
    "skew_y = 0\n",
    "skew_x = 0\n",
    "\n",
    "# cos_z = np.cos(theta_z)\n",
    "# sin_z = np.sin(theta_z)\n",
    "# cos_y = np.cos(theta_y)\n",
    "# sin_y = np.sin(theta_y)\n",
    "# Rz = np.array([[cos_z, -sin_z, 0], [sin_z, cos_z, 0], [0,0,1]])\n",
    "# Ry = np.array([[cos_y, 0, -sin_y], [0, 1, 0], [sin_y, 0, cos_y]])\n",
    "# Rx = np.array([[1, 0, 0], [0, cos_y, -sin_y], [0, sin_y, cos_y]])\n",
    "# R = np.dot(Rz, Ry, Rx)\n"
   ]
  },
  {
   "cell_type": "code",
   "execution_count": null,
   "metadata": {
    "collapsed": false
   },
   "outputs": [],
   "source": [
    "xs, ys, zs = np.meshgrid(range(volume.shape[0]), \n",
    "                         range(volume.shape[1]), \n",
    "                         range(volume.shape[2]))"
   ]
  },
  {
   "cell_type": "code",
   "execution_count": null,
   "metadata": {
    "collapsed": true
   },
   "outputs": [],
   "source": [
    "xys = np.c_[xs.flat, ys.flat, zs.flat]"
   ]
  },
  {
   "cell_type": "code",
   "execution_count": null,
   "metadata": {
    "collapsed": false
   },
   "outputs": [],
   "source": [
    "# manual affine correction\n",
    "T = np.eye(3)\n",
    "T[0,2] = .1 # + move right side down\n",
    "T[2,0] = -.1 # + move bottom side left\n",
    "# T[2,0] = .1\n",
    "\n",
    "print T"
   ]
  },
  {
   "cell_type": "code",
   "execution_count": null,
   "metadata": {
    "collapsed": true
   },
   "outputs": [],
   "source": [
    "xyzs_new = np.dot(T, np.c_[xs.flat, ys.flat, zs.flat].T).astype(np.int).T"
   ]
  },
  {
   "cell_type": "code",
   "execution_count": null,
   "metadata": {
    "collapsed": false
   },
   "outputs": [],
   "source": [
    "valid = (xyzs_new[:,0] >= 0) & (xyzs_new[:,1] >= 0) & (xyzs_new[:,2] >= 0) &\\\n",
    "(xyzs_new[:,0] < volume.shape[0]) & (xyzs_new[:,1] < volume.shape[1]) & (xyzs_new[:,2] < volume.shape[2])"
   ]
  },
  {
   "cell_type": "code",
   "execution_count": null,
   "metadata": {
    "collapsed": false
   },
   "outputs": [],
   "source": [
    "# volume_new = np.zeros((dm.image_height/downsample_factor, \n",
    "#                    dm.image_width/downsample_factor, \n",
    "#                    int(n_sec[stack]*z_xy_ratio_downsampled)), np.uint8)\n",
    "\n",
    "volume_new = np.zeros_like(volume, np.uint8)\n",
    "\n",
    "volume_new[xyzs_new[valid, 0], xyzs_new[valid, 1], xyzs_new[valid, 2]] = \\\n",
    "volume[xys[valid, 0], xys[valid, 1], xys[valid, 2]]"
   ]
  },
  {
   "cell_type": "code",
   "execution_count": null,
   "metadata": {
    "collapsed": false,
    "scrolled": false
   },
   "outputs": [],
   "source": [
    "for y in range(0, volume.shape[1], 50):\n",
    "    plt.imshow(volume_new[:, y, :], cmap=plt.cm.gray);\n",
    "    plt.title('y = %d' % y);\n",
    "    plt.show();"
   ]
  },
  {
   "cell_type": "code",
   "execution_count": null,
   "metadata": {
    "collapsed": false,
    "scrolled": true
   },
   "outputs": [],
   "source": [
    "for y in range(0, volume.shape[1], 10):\n",
    "    plt.imshow(volume[:, y, :], cmap=plt.cm.gray);\n",
    "    plt.title('y = %d' % y);\n",
    "    plt.show();"
   ]
  },
  {
   "cell_type": "code",
   "execution_count": null,
   "metadata": {
    "collapsed": true
   },
   "outputs": [],
   "source": [
    "# reconstruct labelmap volume"
   ]
  },
  {
   "cell_type": "code",
   "execution_count": 3,
   "metadata": {
    "collapsed": false
   },
   "outputs": [
    {
     "name": "stdout",
     "output_type": "stream",
     "text": [
      "93 368\n"
     ]
    }
   ],
   "source": [
    "downsample_factor = 8\n",
    "\n",
    "section_thickness = 20 # in um\n",
    "xy_pixel_distance_lossless = 0.46\n",
    "xy_pixel_distance_tb = xy_pixel_distance_lossless * 32 # in um, thumbnail\n",
    "# factor = section_thickness/xy_pixel_distance_lossless\n",
    "\n",
    "xy_pixel_distance_downsampled = xy_pixel_distance_lossless * downsample_factor\n",
    "z_xy_ratio_downsampled = section_thickness / xy_pixel_distance_downsampled\n",
    "\n",
    "stack = 'MD589'\n",
    "\n",
    "n_sec = {'MD589': 445, 'MD594': 432}\n",
    "    \n",
    "# build annotation volume\n",
    "section_bs_begin, section_bs_end = section_range_lookup[stack]\n",
    "print section_bs_begin, section_bs_end"
   ]
  },
  {
   "cell_type": "code",
   "execution_count": 25,
   "metadata": {
    "collapsed": false,
    "scrolled": true
   },
   "outputs": [
    {
     "name": "stdout",
     "output_type": "stream",
     "text": [
      "(1468, 1676, 2418)\n",
      "111\n",
      "113\n",
      "115\n",
      "117\n",
      "119\n",
      "121\n",
      "123\n",
      "125\n",
      "127\n",
      "129\n",
      "131\n",
      "133\n",
      "135\n",
      "137\n",
      "139\n",
      "141\n",
      "143\n",
      "145\n",
      "147\n",
      "149\n",
      "151\n",
      "153\n",
      "155\n",
      "157\n",
      "159\n",
      "161\n",
      "163\n",
      "165\n",
      "167\n",
      "169\n",
      "171\n",
      "173\n",
      "175\n",
      "177\n",
      "179\n",
      "181\n",
      "183\n",
      "185\n",
      "187\n",
      "189\n",
      "191\n",
      "193\n",
      "195\n",
      "197\n",
      "199\n"
     ]
    }
   ],
   "source": [
    "dm = DataManager(stack=stack)\n",
    "\n",
    "volume = np.zeros((dm.image_height/downsample_factor, \n",
    "                   dm.image_width/downsample_factor, \n",
    "                   int(n_sec[stack]*z_xy_ratio_downsampled)), np.int8)\n",
    "\n",
    "print volume.shape\n",
    "\n",
    "for sec in range(section_bs_begin, section_bs_end+1):\n",
    "    \n",
    "    # only 9 class\n",
    "#     fn = '/oasis/projects/nsf/csd395/yuncong/CSHL_labelMapsLossless/%(stack)s/%(stack)s_%(slice)04d_labelMapLossless.npz' % \\\n",
    "#         {'stack': stack, 'slice': sec}\n",
    "    # or, all classes\n",
    "    fn = '/oasis/projects/nsf/csd395/yuncong/CSHL_labelMapsLossless/%(stack)s/%(stack)s_%(slice)04d_labelMapLossless_AllClasses.npz' % \\\n",
    "        {'stack': stack, 'slice': sec}\n",
    "        \n",
    "    if os.path.exists(fn):\n",
    "        print sec\n",
    "        label_map = np.load(fn)['arr_0'][::downsample_factor, ::downsample_factor]\n",
    "        volume[:, :, int(z_xy_ratio_downsampled*sec):int(z_xy_ratio_downsampled*(sec+1))] = label_map[..., np.newaxis]\n",
    "\n",
    "    # np.savez_compressed(os.path.join(volume_dir, 'volume_'+stack+'_labelmap'), volume[xmin:xmax+1, ymin:ymax+1, zmin:zmax+1])\n",
    "    # np.savez_compressed(os.path.join(volume_dir, 'volume_'+stack+'_predMap'), volume[xmin:xmax+1, ymin:ymax+1, zmin:zmax+1])\n",
    "#     np.savez_compressed(os.path.join(volume_dir, 'volume_%(stack)s_scoreMap_%(label)d' % {'stack': stack, 'label': l}),\n",
    "#                         volume[xmin:xmax+1, ymin:ymax+1, zmin:zmax+1])"
   ]
  },
  {
   "cell_type": "code",
   "execution_count": 24,
   "metadata": {
    "collapsed": false
   },
   "outputs": [
    {
     "data": {
      "image/png": "[encoded data removed]",
      "text/plain": [
       "<matplotlib.figure.Figure at 0x1193f490>"
      ]
     },
     "metadata": {},
     "output_type": "display_data"
    }
   ],
   "source": [
    "# for sec in range(section_bs_begin, section_bs_end+1):\n",
    "sec = 368\n",
    "plt.matshow(volume[..., int(sec*z_xy_ratio_downsampled)]);\n",
    "plt.title('section %d, z = (%d, %d)'%(sec, int(sec*z_xy_ratio_downsampled), \n",
    "                                     int(z_xy_ratio_downsampled*(sec+1))-1));\n",
    "plt.show();"
   ]
  },
  {
   "cell_type": "code",
   "execution_count": null,
   "metadata": {
    "collapsed": false
   },
   "outputs": [],
   "source": [
    "xs, ys, zs = np.where(volume != 0)\n",
    "\n",
    "xmin = xs.min()\n",
    "xmax = xs.max()\n",
    "ymin = ys.min()\n",
    "ymax = ys.max()\n",
    "zmin = zs.min()\n",
    "zmax = zs.max()\n",
    "\n",
    "print xmin, xmax\n",
    "print ymin, ymax\n",
    "print zmin, zmax\n",
    "\n",
    "reduced_height = xmax+1-xmin\n",
    "reduced_width = ymax+1-ymin\n",
    "reduced_depth = zmax+1-zmin\n",
    "print reduced_height, reduced_width, reduced_depth"
   ]
  },
  {
   "cell_type": "code",
   "execution_count": null,
   "metadata": {
    "collapsed": false
   },
   "outputs": [],
   "source": [
    "reduced_height = xmax+1-xmin\n",
    "reduced_width = ymax+1-ymin\n",
    "reduced_depth = zmax+1-zmin\n",
    "print reduced_height, reduced_width, reduced_depth"
   ]
  },
  {
   "cell_type": "code",
   "execution_count": null,
   "metadata": {
    "collapsed": true
   },
   "outputs": [],
   "source": [
    "np.savez_compressed(os.path.join(volume_dir, 'volume_%(stack)s_scoreMap_%(label)d' % {'stack': stack, 'label': l}),\n",
    "                    volume[xmin:xmax+1, ymin:ymax+1, zmin:zmax+1])"
   ]
  },
  {
   "cell_type": "code",
   "execution_count": null,
   "metadata": {
    "collapsed": true
   },
   "outputs": [],
   "source": [
    "# reconstruct score volume"
   ]
  },
  {
   "cell_type": "code",
   "execution_count": null,
   "metadata": {
    "collapsed": true
   },
   "outputs": [],
   "source": [
    "patch_dir = '/oasis/projects/nsf/csd395/yuncong/CSHL_data_patches/'"
   ]
  },
  {
   "cell_type": "code",
   "execution_count": null,
   "metadata": {
    "collapsed": false
   },
   "outputs": [],
   "source": [
    "stack = 'MD594'\n",
    "\n",
    "if stack == 'MD589':\n",
    "    section_roi_begin, section_roi_end = (154, 168)\n",
    "elif stack == 'MD594':\n",
    "    section_roi_begin, section_roi_end = (157, 166)"
   ]
  },
  {
   "cell_type": "code",
   "execution_count": null,
   "metadata": {
    "collapsed": true
   },
   "outputs": [],
   "source": [
    "labels = ['BackG', '5N', '7n', '7N', '12N', 'Gr', 'LVe', 'Pn', 'SuVe', 'VLL']\n",
    "label_dict = dict([(l,i) for i, l in enumerate(labels)])\n",
    "\n",
    "# colors = (np.loadtxt(os.environ['REPO_DIR'] + '/visualization/100colors.txt')*255).astype(np.uint8)\n",
    "# colors[label_dict['BackG']] = 255"
   ]
  },
  {
   "cell_type": "code",
   "execution_count": null,
   "metadata": {
    "collapsed": false
   },
   "outputs": [],
   "source": [
    "dm = DataManager(stack=stack)"
   ]
  },
  {
   "cell_type": "code",
   "execution_count": null,
   "metadata": {
    "collapsed": false
   },
   "outputs": [],
   "source": [
    "for l in range(1, 10):\n",
    "# for l in [1]:\n",
    "    \n",
    "    volume = np.zeros((dm.image_height/downsample_factor, \n",
    "                       dm.image_width/downsample_factor, \n",
    "                       int(n_sec[stack]*z_xy_ratio_downsampled)), np.float16)\n",
    "    print volume.shape\n",
    "\n",
    "    for sec in range(section_roi_begin, section_roi_end+1):        \n",
    "        print sec\n",
    "        score_map = np.load(patch_dir + '/%(stack)s_roi1_denseScoreMapsLossless/%(stack)s_%(slice)04d_roi1_denseScoreMapLossless_%(label)d.npz' \\\n",
    "            % {'stack': stack, 'slice': sec, 'label': l})['arr_0'][::downsample_factor, ::downsample_factor]\n",
    "        volume[:, :, int(sec*z_xy_ratio_downsampled):int((sec+1)*z_xy_ratio_downsampled)] = score_map[..., np.newaxis].copy()\n",
    "\n",
    "        # np.savez_compressed(os.path.join(volume_dir, 'volume_'+stack+'_labelmap'), volume[xmin:xmax+1, ymin:ymax+1, zmin:zmax+1])\n",
    "        # np.savez_compressed(os.path.join(volume_dir, 'volume_'+stack+'_predMap'), volume[xmin:xmax+1, ymin:ymax+1, zmin:zmax+1])\n",
    "#         np.savez_compressed(os.path.join(volume_dir, 'volume_%(stack)s_scoreMap_%(label)d' % {'stack': stack, 'label': l}),\n",
    "#                             volume[xmin:xmax+1, ymin:ymax+1, zmin:zmax+1])"
   ]
  },
  {
   "cell_type": "code",
   "execution_count": null,
   "metadata": {
    "collapsed": true
   },
   "outputs": [],
   "source": [
    "volume[volume < 1e-4] = 0"
   ]
  },
  {
   "cell_type": "code",
   "execution_count": null,
   "metadata": {
    "collapsed": false
   },
   "outputs": [],
   "source": [
    "xs, ys, zs = np.where(volume > 0)\n",
    "\n",
    "xmin = xs.min()\n",
    "xmax = xs.max()\n",
    "ymin = ys.min()\n",
    "ymax = ys.max()\n",
    "zmin = zs.min()\n",
    "zmax = zs.max()\n",
    "\n",
    "print xmin, xmax\n",
    "print ymin, ymax\n",
    "print zmin, zmax"
   ]
  },
  {
   "cell_type": "code",
   "execution_count": null,
   "metadata": {
    "collapsed": true
   },
   "outputs": [],
   "source": [
    "# reconstruct outer contour"
   ]
  },
  {
   "cell_type": "code",
   "execution_count": null,
   "metadata": {
    "collapsed": false,
    "scrolled": true
   },
   "outputs": [],
   "source": [
    "from skimage.measure import find_contours\n",
    "\n",
    "stack = 'MD589'\n",
    "\n",
    "dm = DataManager(stack=stack)\n",
    "volume = np.zeros((dm.image_height/downsample_factor, \n",
    "                   dm.image_width/downsample_factor, \n",
    "                   int(n_sec[stack]*z_xy_ratio_downsampled)), np.bool)\n",
    "\n",
    "for sec in range(section_bs_begin, section_bs_end+1):\n",
    "    \n",
    "    print sec\n",
    "    \n",
    "    dm.set_slice(sec)\n",
    "    \n",
    "#     dm = DataManager(stack=stack, section=sec)\n",
    "    m = dm.load_thumbnail_mask()\n",
    "\n",
    "    m[0,:] = 0\n",
    "    m[-1,:] = 0\n",
    "    m[:,0] = 0\n",
    "    m[:,-1] = 0\n",
    "\n",
    "    m_padded = np.pad(m, ((5,5),(5,5)), mode='constant', constant_values=0)\n",
    "    \n",
    "    cnts = find_contours(m_padded, .5)\n",
    "    cnts = [cnt.astype(np.int) - (5,5) for cnt in cnts if len(cnt) > 300]\n",
    "    yxs = np.array([(y,x) for y,x in cnts[0] if y > 1 and x > 1]).astype(np.int)\n",
    "    \n",
    "    b = np.ascontiguousarray(yxs).view(np.dtype((np.void, yxs.dtype.itemsize * yxs.shape[1])))\n",
    "    _, idx = np.unique(b, return_index=True)\n",
    "\n",
    "    yxs = yxs[idx] # in thumbnail frame\n",
    "    \n",
    "    volume[yxs[:,0]*32/downsample_factor, yxs[:,1]*32/downsample_factor, \n",
    "           int(z_xy_ratio_downsampled*sec):int(z_xy_ratio_downsampled*(sec+1))] = 1\n",
    "    \n",
    "#     if len(cnts) > 1:\n",
    "#         print map(len, cnts)\n",
    "#         print cnts\n",
    "#         plt.figure(figsize=(10,10));\n",
    "#         plt.imshow(m);\n",
    "#         plt.show();\n",
    "#         break\n",
    "\n",
    "#     contour_points_atlas[sec] = yxs[np.arange(0, yxs.shape[0], 10)]\n",
    "    "
   ]
  },
  {
   "cell_type": "code",
   "execution_count": null,
   "metadata": {
    "collapsed": false
   },
   "outputs": [],
   "source": [
    "plt.figure(figsize=(20,20));\n",
    "plt.imshow(volume[:, 1400, :], cmap=plt.cm.gray);\n",
    "plt.show();"
   ]
  },
  {
   "cell_type": "code",
   "execution_count": null,
   "metadata": {
    "collapsed": false,
    "scrolled": true
   },
   "outputs": [],
   "source": [
    "for sec in range(section_bs_begin, section_bs_end+1):\n",
    "#     plt.figure(figsize=(20,20));\n",
    "    plt.imshow(volume[..., int(sec*z_xy_ratio_downsampled)], cmap=plt.cm.gray);\n",
    "    plt.title('section %d, z = (%d, %d)'%(sec, int(sec*z_xy_ratio_downsampled), \n",
    "                                         int(z_xy_ratio_downsampled*(sec+1))-1));\n",
    "    plt.show();"
   ]
  },
  {
   "cell_type": "code",
   "execution_count": null,
   "metadata": {
    "collapsed": true
   },
   "outputs": [],
   "source": [
    "volume_dir = '/oasis/projects/nsf/csd395/yuncong/CSHL_volumes/'\n",
    "if not os.path.exists(volume_dir):\n",
    "    os.makedirs(volume_dir)"
   ]
  },
  {
   "cell_type": "code",
   "execution_count": null,
   "metadata": {
    "collapsed": false,
    "scrolled": true
   },
   "outputs": [],
   "source": [
    "np.savez_compressed(os.path.join(volume_dir, 'volume_%(stack)s_contour' % {'stack': stack}),\n",
    "                    volume)"
   ]
  }
 ],
 "metadata": {
  "kernelspec": {
   "display_name": "Python 2",
   "language": "python",
   "name": "python2"
  },
  "language_info": {
   "codemirror_mode": {
    "name": "ipython",
    "version": 2
   },
   "file_extension": ".py",
   "mimetype": "text/x-python",
   "name": "python",
   "nbconvert_exporter": "python",
   "pygments_lexer": "ipython2",
   "version": "2.7.3"
  }
 },
 "nbformat": 4,
 "nbformat_minor": 0
}
