{
 "cells": [
  {
   "cell_type": "code",
   "execution_count": 1,
   "metadata": {
    "collapsed": false
   },
   "outputs": [
    {
     "name": "stdout",
     "output_type": "stream",
     "text": [
      "Setting environment for Gordon\n"
     ]
    }
   ],
   "source": [
    "import numpy as np\n",
    "\n",
    "import sys\n",
    "import os\n",
    "\n",
    "sys.path.append(os.environ['REPO_DIR'] + '/utilities')\n",
    "from utilities2015 import *\n",
    "from data_manager import *\n",
    "from metadata import *\n",
    "\n",
    "import matplotlib.pyplot as plt\n",
    "%matplotlib inline\n",
    "\n",
    "import time"
   ]
  },
  {
   "cell_type": "code",
   "execution_count": 2,
   "metadata": {
    "collapsed": false
   },
   "outputs": [],
   "source": [
    "from skimage.transform import resize"
   ]
  },
  {
   "cell_type": "code",
   "execution_count": 3,
   "metadata": {
    "collapsed": true
   },
   "outputs": [],
   "source": [
    "resection_dir = '/home/yuncong/csd395/CSHL_volumes_resection'"
   ]
  },
  {
   "cell_type": "code",
   "execution_count": 4,
   "metadata": {
    "collapsed": false
   },
   "outputs": [
    {
     "name": "stdout",
     "output_type": "stream",
     "text": [
      "voxel size: 3.68 3.68 5.4347826087 um\n",
      "1996"
     ]
    },
    {
     "name": "stderr",
     "output_type": "stream",
     "text": [
      "/oasis/projects/nsf/csd181/yuncong/virtualenv-1.9.1/yuncongve/lib/python2.7/site-packages/PIL/Image.py:2224: DecompressionBombWarning: Image size (187528192 pixels) exceeds limit of 89478485 pixels, could be decompression bomb DOS attack.\n",
      "  DecompressionBombWarning)\n",
      "/oasis/projects/nsf/csd181/yuncong/virtualenv-1.9.1/yuncongve/lib/python2.7/site-packages/skimage/util/dtype.py:110: UserWarning: Possible precision loss when converting from float64 to uint8\n",
      "  \"%s to %s\" % (dtypeobj_in, dtypeobj))\n"
     ]
    },
    {
     "name": "stdout",
     "output_type": "stream",
     "text": [
      " 1468 1502\n",
      "voxel size: 3.68 3.68 5.4347826087 um\n",
      "2108 1632 1470\n",
      "voxel size: 3.68 3.68 5.4347826087 um\n",
      "2056"
     ]
    },
    {
     "name": "stderr",
     "output_type": "stream",
     "text": [
      "/oasis/projects/nsf/csd181/yuncong/virtualenv-1.9.1/yuncongve/lib/python2.7/site-packages/PIL/Image.py:2224: DecompressionBombWarning: Image size (220176384 pixels) exceeds limit of 89478485 pixels, could be decompression bomb DOS attack.\n",
      "  DecompressionBombWarning)\n",
      "/oasis/projects/nsf/csd181/yuncong/virtualenv-1.9.1/yuncongve/lib/python2.7/site-packages/PIL/Image.py:2224: DecompressionBombWarning: Image size (190533632 pixels) exceeds limit of 89478485 pixels, could be decompression bomb DOS attack.\n",
      "  DecompressionBombWarning)\n"
     ]
    },
    {
     "name": "stdout",
     "output_type": "stream",
     "text": [
      " 1448 1480\n"
     ]
    }
   ],
   "source": [
    "# for stack in all_stacks:\n",
    "for stack in ['MD589', 'MD585', 'MD594']:\n",
    "\n",
    "    first_sec, last_sec = section_range_lookup[stack]\n",
    "    \n",
    "#     first_sec = 200\n",
    "#     last_sec = 220\n",
    "\n",
    "    for downsample in [4]:\n",
    "    \n",
    "        xy_pixel_distance = xy_pixel_distance_lossless * downsample\n",
    "        voxel_z_size = section_thickness / xy_pixel_distance\n",
    "        print 'voxel size:', xy_pixel_distance, xy_pixel_distance, voxel_z_size, 'um'\n",
    "\n",
    "        full_width, full_height = DataManager.get_image_dimension(stack)\n",
    "        xdim = full_width/downsample\n",
    "        ydim = full_height/downsample\n",
    "        z_end = int(np.ceil((last_sec+1)*voxel_z_size))\n",
    "        z_begin = int(np.floor(first_sec*voxel_z_size))\n",
    "        zdim = z_end + 1 - z_begin\n",
    "\n",
    "        print xdim, ydim, zdim\n",
    "\n",
    "        volume = np.zeros((ydim, xdim, zdim), np.uint8)\n",
    "    #     volume = np.zeros((1000, 1000, zdim), np.uint8)\n",
    "\n",
    "        bar = show_progress_bar(first_sec, last_sec)\n",
    "\n",
    "        for sec in range(first_sec, last_sec+1):\n",
    "            bar.value = sec\n",
    "    #         t = time.time()\n",
    "            if downsample == 32:\n",
    "                img = img_as_ubyte(rgb2gray(imread(os.environ['DATA_DIR'] + '/%(stack)s_thumbnail_aligned_masked_cropped/%(stack)s_%(slice)04d_thumbnail_aligned_masked_cropped.png' \\\n",
    "                                % {'stack': stack, 'slice': sec})))\n",
    "            else:\n",
    "                img = img_as_ubyte(rgb2gray(imread(DataManager.get_image_filepath(stack=stack, section=sec))[::downsample, ::downsample]))\n",
    "                mask_tb = DataManager.load_thumbnail_mask(stack, sec)\n",
    "                mask = resize(mask_tb, img.shape[:2]) > .5\n",
    "                img[~mask] = 0\n",
    "\n",
    "    #         sys.stderr.write('%.2f seconds.\\n' % (time.time() - t))\n",
    "            z1 = sec * voxel_z_size\n",
    "            z2 = (sec + 1) * voxel_z_size\n",
    "    #         volume[:, :, int(z1)-z_begin:int(z2)+1-z_begin] = img[10000:11000, 10000:11000, None]\n",
    "            volume[:, :, int(z1)-z_begin:int(z2)+1-z_begin] = img[..., None]\n",
    "\n",
    "        bp.pack_ndarray_file(volume, volume_dir + '/%(stack)s/%(stack)s_down%(downsample)dVolume.bp' % {'stack': stack, \n",
    "                                                                                                        'downsample': downsample})\n",
    "        del volume\n",
    "\n",
    "#     for x in range(volume.shape[1]):\n",
    "#         create_if_not_exists(os.path.join(resection_dir, 'highres_coronal'))\n",
    "#         imsave(os.path.join(resection_dir, 'highres_coronal', '%s_highresVolume_coronal_%03d.jpg'%(stack, x)), volume[:,x,:])\n",
    "\n",
    "#     for y in range(volume.shape[0]):\n",
    "#         create_if_not_exists(os.path.join(resection_dir, 'highres_horizontal'))\n",
    "#         imsave(os.path.join(resection_dir, 'highres_horizontal', '%s_highresVolume_horizontal_%03d.jpg'%(stack, y)), volume[y,:,:])\n",
    "\n",
    "#     for z in range(volume.shape[2]):\n",
    "#         create_if_not_exists(os.path.join(resection_dir, 'highres_sagittal'))\n",
    "#         imsave(os.path.join(resection_dir, 'highres_sagittal', '%s_highresVolume_sagittal_%03d.jpg'%(stack, z)), volume[:,:,z])\n",
    "\n",
    "#     del volume"
   ]
  },
  {
   "cell_type": "code",
   "execution_count": null,
   "metadata": {
    "collapsed": true
   },
   "outputs": [],
   "source": []
  }
 ],
 "metadata": {
  "kernelspec": {
   "display_name": "Python 2",
   "language": "python",
   "name": "python2"
  },
  "language_info": {
   "codemirror_mode": {
    "name": "ipython",
    "version": 2
   },
   "file_extension": ".py",
   "mimetype": "text/x-python",
   "name": "python",
   "nbconvert_exporter": "python",
   "pygments_lexer": "ipython2",
   "version": "2.7.3"
  }
 },
 "nbformat": 4,
 "nbformat_minor": 0
}
