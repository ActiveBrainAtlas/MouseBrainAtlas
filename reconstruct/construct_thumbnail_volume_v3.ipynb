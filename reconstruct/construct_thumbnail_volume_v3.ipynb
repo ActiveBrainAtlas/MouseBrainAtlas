{
 "cells": [
  {
   "cell_type": "code",
   "execution_count": 1,
   "metadata": {
    "collapsed": false
   },
   "outputs": [
    {
     "name": "stdout",
     "output_type": "stream",
     "text": [
      "Setting environment for Gordon\n"
     ]
    },
    {
     "name": "stderr",
     "output_type": "stream",
     "text": [
      "No vtk\n"
     ]
    }
   ],
   "source": [
    "%load_ext autoreload\n",
    "%autoreload 2\n",
    "\n",
    "import numpy as np\n",
    "\n",
    "import sys\n",
    "import os\n",
    "\n",
    "sys.path.append(os.environ['REPO_DIR'] + '/utilities')\n",
    "from utilities2015 import *\n",
    "from data_manager import *\n",
    "from metadata import *\n",
    "\n",
    "from conversion import images_to_volume\n",
    "\n",
    "import matplotlib.pyplot as plt\n",
    "%matplotlib inline\n",
    "\n",
    "import time"
   ]
  },
  {
   "cell_type": "code",
   "execution_count": 18,
   "metadata": {
    "collapsed": false
   },
   "outputs": [],
   "source": [
    "for stack in all_nissl_stacks:\n",
    "\n",
    "    first_sec, last_sec = metadata_cache['section_limits'][stack]\n",
    "\n",
    "    bar = show_progress_bar(first_sec, last_sec)\n",
    "\n",
    "    images = {}\n",
    "    for sec in range(first_sec, last_sec):\n",
    "\n",
    "        bar.value = sec\n",
    "\n",
    "        try:\n",
    "            fn = DataManager.get_image_filepath(stack, section=sec, resol='thumbnail', version='cropped_tif')\n",
    "            img = img_as_ubyte(rgb2gray(imread(fn)))\n",
    "\n",
    "            # apply foreground mask\n",
    "            mask = DataManager.load_thumbnail_mask_v2(stack=stack, section=sec, version='aligned_cropped')\n",
    "            img[~mask] = 0\n",
    "\n",
    "            images[sec-1] = img\n",
    "        except:\n",
    "            pass\n",
    "\n",
    "    downsample = 32\n",
    "    voxel_z_size = SECTION_THICKNESS/(XY_PIXEL_DISTANCE_LOSSLESS * downsample)\n",
    "    \n",
    "    volume, volume_bbox = images_to_volume(images=images, voxel_size=(1, 1, voxel_z_size), first_sec=first_sec-1, last_sec=last_sec-1)\n",
    "    \n",
    "    basename = DataManager.get_original_volume_basename(stack=stack, volume_type='intensity')\n",
    "    vol_fp = os.path.join(VOLUME_ROOTDIR, stack, basename, basename + '.bp')\n",
    "    create_if_not_exists(os.path.dirname(vol_fp))\n",
    "\n",
    "    bp.pack_ndarray_file(volume, vol_fp)\n",
    "    \n",
    "    bbox_fp = os.path.join(VOLUME_ROOTDIR, stack, basename, basename + '_bbox.txt')\n",
    "    np.savetxt(bbox_fp, np.array(volume_bbox, np.int)[None, :], fmt='%d')"
   ]
  }
 ],
 "metadata": {
  "kernelspec": {
   "display_name": "Python 2",
   "language": "python",
   "name": "python2"
  },
  "language_info": {
   "codemirror_mode": {
    "name": "ipython",
    "version": 2
   },
   "file_extension": ".py",
   "mimetype": "text/x-python",
   "name": "python",
   "nbconvert_exporter": "python",
   "pygments_lexer": "ipython2",
   "version": "2.7.3"
  },
  "widgets": {
   "state": {
    "0de4a91bfd0546cd8058be4f2a2dfb7e": {
     "views": [
      {
       "cell_index": 1
      }
     ]
    },
    "3d1a9376470d4620aa2e06a7e653ca21": {
     "views": [
      {
       "cell_index": 1
      }
     ]
    },
    "56ab0d7f315b4656aec79d4b61c4e762": {
     "views": [
      {
       "cell_index": 1
      }
     ]
    },
    "5a9e5e4aee814af3a0ce354debd514e6": {
     "views": [
      {
       "cell_index": 1
      }
     ]
    },
    "671df3592f54421d9fefd8fd4dcff08a": {
     "views": [
      {
       "cell_index": 1
      }
     ]
    },
    "a283fb134c0e43708e591be1b6999030": {
     "views": [
      {
       "cell_index": 1
      }
     ]
    },
    "d2751ee4bc024740a8f51b4197bdfd09": {
     "views": [
      {
       "cell_index": 1
      }
     ]
    },
    "e552ceb41a2b4720ad93bd11dcad470f": {
     "views": [
      {
       "cell_index": 1
      }
     ]
    },
    "eadded46fde64381a687401ea57f87e9": {
     "views": [
      {
       "cell_index": 1
      }
     ]
    },
    "f3eb17a182c44e5cb93f2eb0351e07cb": {
     "views": [
      {
       "cell_index": 1
      }
     ]
    },
    "f6e7fdce70ec40eca6698080dd10bf3f": {
     "views": [
      {
       "cell_index": 1
      }
     ]
    },
    "f828164e116e4b5bb7b8ab1aaaf856fe": {
     "views": [
      {
       "cell_index": 1
      }
     ]
    }
   },
   "version": "1.2.0"
  }
 },
 "nbformat": 4,
 "nbformat_minor": 0
}
