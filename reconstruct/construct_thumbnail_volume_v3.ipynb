{
 "cells": [
  {
   "cell_type": "code",
   "execution_count": 1,
   "metadata": {
    "scrolled": true
   },
   "outputs": [
    {
     "name": "stdout",
     "output_type": "stream",
     "text": [
      "Setting environment for AWS compute node\n"
     ]
    },
    {
     "name": "stderr",
     "output_type": "stream",
     "text": [
      "No vtk\n"
     ]
    }
   ],
   "source": [
    "%load_ext autoreload\n",
    "%autoreload 2\n",
    "\n",
    "import sys\n",
    "import os\n",
    "import time\n",
    "\n",
    "import numpy as np\n",
    "from skimage.transform import resize\n",
    "\n",
    "sys.path.append(os.environ['REPO_DIR'] + '/utilities')\n",
    "from utilities2015 import *\n",
    "from data_manager import *\n",
    "from metadata import *\n",
    "from conversion import images_to_volume"
   ]
  },
  {
   "cell_type": "code",
   "execution_count": 5,
   "metadata": {
    "collapsed": true
   },
   "outputs": [],
   "source": [
    "# downsample = 4\n",
    "downsample = 32\n",
    "# downsample=8 is the maximum. Exceeding it results in memory error."
   ]
  },
  {
   "cell_type": "code",
   "execution_count": 6,
   "metadata": {
    "scrolled": true
   },
   "outputs": [
    {
     "name": "stderr",
     "output_type": "stream",
     "text": [
      "/usr/local/lib/python2.7/dist-packages/skimage/util/dtype.py:122: UserWarning: Possible precision loss when converting from float64 to uint8\n",
      "  .format(dtypeobj_in, dtypeobj_out))\n",
      "/usr/local/lib/python2.7/dist-packages/skimage/external/tifffile/tifffile.py:2611: RuntimeWarning: py_decodelzw encountered unexpected end of stream\n",
      "  strip = decompress(strip)\n"
     ]
    },
    {
     "name": "stdout",
     "output_type": "stream",
     "text": [
      "(448, 685, 397)\n",
      "aws s3 cp /shared/CSHL_volumes/MD635/MD635_down32_intensityVolume/MD635_down32_intensityVolume.bp s3://mousebrainatlas-data/CSHL_volumes/MD635/MD635_down32_intensityVolume/MD635_down32_intensityVolume.bp\n"
     ]
    },
    {
     "name": "stderr",
     "output_type": "stream",
     "text": [
      "Child returned 0\n",
      "1.73 seconds.\n"
     ]
    },
    {
     "name": "stdout",
     "output_type": "stream",
     "text": [
      "aws s3 cp /shared/CSHL_volumes/MD635/MD635_down32_intensityVolume/MD635_down32_intensityVolume_bbox.txt s3://mousebrainatlas-data/CSHL_volumes/MD635/MD635_down32_intensityVolume/MD635_down32_intensityVolume_bbox.txt\n"
     ]
    },
    {
     "name": "stderr",
     "output_type": "stream",
     "text": [
      "Child returned 0\n",
      "0.62 seconds.\n"
     ]
    }
   ],
   "source": [
    "# for stack in all_nissl_stacks:\n",
    "for stack in ['MD635']:\n",
    "    \n",
    "    first_sec, last_sec = metadata_cache['section_limits'][stack]\n",
    "\n",
    "    images = {}\n",
    "    for sec in metadata_cache['valid_sections'][stack]:\n",
    "        mask = DataManager.load_thumbnail_mask_v3(stack=stack, section=sec, version='aligned_cropped')\n",
    "    \n",
    "        if downsample == 32:\n",
    "            img_rgb = DataManager.load_image(stack, section=sec, resol='thumbnail', version='cropped_tif')\n",
    "            img = img_as_ubyte(rgb2gray(img_rgb))\n",
    "            img[~mask] = 0\n",
    "        else:\n",
    "            img_rgb = DataManager.load_image(stack, section=sec, resol='lossless', version='cropped_gray')\n",
    "            img = img_as_ubyte(rgb2gray(img_rgb[::downsample, ::downsample]))\n",
    "            mask = resize(mask, img.shape[:2]).astype(np.bool)\n",
    "            img[~mask] = 0\n",
    "        \n",
    "        images[sec-1] = img\n",
    "\n",
    "    voxel_z_size = SECTION_THICKNESS/(XY_PIXEL_DISTANCE_LOSSLESS * downsample)\n",
    "    \n",
    "    volume, volume_bbox = images_to_volume(images=images, voxel_size=(1, 1, voxel_z_size), first_sec=first_sec-1, last_sec=last_sec-1)\n",
    "    print volume.shape\n",
    "    \n",
    "    vol_fp = DataManager.get_intensity_volume_filepath(stack=stack, downscale=downsample)\n",
    "    create_if_not_exists(os.path.dirname(vol_fp))\n",
    "    bp.pack_ndarray_file(volume, vol_fp)\n",
    "    upload_to_s3(vol_fp)\n",
    "    \n",
    "    bbox_fp = DataManager.get_intensity_volume_bbox_filepath(stack=stack, downscale=downsample)\n",
    "    np.savetxt(bbox_fp, np.array(volume_bbox, np.int)[None, :], fmt='%d')\n",
    "    upload_to_s3(bbox_fp)"
   ]
  }
 ],
 "metadata": {
  "kernelspec": {
   "display_name": "Python 2",
   "language": "python",
   "name": "python2"
  },
  "language_info": {
   "codemirror_mode": {
    "name": "ipython",
    "version": 2
   },
   "file_extension": ".py",
   "mimetype": "text/x-python",
   "name": "python",
   "nbconvert_exporter": "python",
   "pygments_lexer": "ipython2",
   "version": "2.7.12"
  },
  "widgets": {
   "state": {
    "0de4a91bfd0546cd8058be4f2a2dfb7e": {
     "views": [
      {
       "cell_index": 1
      }
     ]
    },
    "3d1a9376470d4620aa2e06a7e653ca21": {
     "views": [
      {
       "cell_index": 1
      }
     ]
    },
    "56ab0d7f315b4656aec79d4b61c4e762": {
     "views": [
      {
       "cell_index": 1
      }
     ]
    },
    "5a9e5e4aee814af3a0ce354debd514e6": {
     "views": [
      {
       "cell_index": 1
      }
     ]
    },
    "671df3592f54421d9fefd8fd4dcff08a": {
     "views": [
      {
       "cell_index": 1
      }
     ]
    },
    "a283fb134c0e43708e591be1b6999030": {
     "views": [
      {
       "cell_index": 1
      }
     ]
    },
    "d2751ee4bc024740a8f51b4197bdfd09": {
     "views": [
      {
       "cell_index": 1
      }
     ]
    },
    "e552ceb41a2b4720ad93bd11dcad470f": {
     "views": [
      {
       "cell_index": 1
      }
     ]
    },
    "eadded46fde64381a687401ea57f87e9": {
     "views": [
      {
       "cell_index": 1
      }
     ]
    },
    "f3eb17a182c44e5cb93f2eb0351e07cb": {
     "views": [
      {
       "cell_index": 1
      }
     ]
    },
    "f6e7fdce70ec40eca6698080dd10bf3f": {
     "views": [
      {
       "cell_index": 1
      }
     ]
    },
    "f828164e116e4b5bb7b8ab1aaaf856fe": {
     "views": [
      {
       "cell_index": 1
      }
     ]
    }
   },
   "version": "1.2.0"
  }
 },
 "nbformat": 4,
 "nbformat_minor": 1
}
