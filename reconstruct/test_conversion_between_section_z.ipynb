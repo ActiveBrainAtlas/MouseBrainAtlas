{
 "cells": [
  {
   "cell_type": "code",
   "execution_count": 2,
   "metadata": {
    "collapsed": false
   },
   "outputs": [
    {
     "name": "stdout",
     "output_type": "stream",
     "text": [
      "Setting environment for Gordon\n"
     ]
    }
   ],
   "source": [
    "%load_ext autoreload\n",
    "%autoreload 2\n",
    "\n",
    "import numpy as np\n",
    "\n",
    "import sys\n",
    "import os\n",
    "\n",
    "sys.path.append(os.environ['REPO_DIR'] + '/utilities')\n",
    "from utilities2015 import *\n",
    "from metadata import *\n",
    "from data_manager import *\n",
    "\n",
    "import matplotlib.pyplot as plt\n",
    "%matplotlib inline\n",
    "\n",
    "from joblib import Parallel, delayed\n",
    "import time"
   ]
  },
  {
   "cell_type": "code",
   "execution_count": 57,
   "metadata": {
    "collapsed": false
   },
   "outputs": [],
   "source": [
    "# for stack in all_stacks:\n",
    "\n",
    "stack = 'MD589'\n",
    "\n",
    "first_sec, last_sec = section_range_lookup[stack]\n",
    "\n",
    "for sec in range(first_sec, last_sec+1):\n",
    "#     print 'sec =', sec\n",
    "    z1, z2 = DataManager.convert_section_to_z(stack=stack, sec=sec, downsample=1)\n",
    "    for z in range(int(np.ceil(z1)), int(np.floor(z2))+1):\n",
    "        sec0 = DataManager.convert_z_to_section(stack=stack, z=z, downsample=1)\n",
    "#         assert sec0 == sec, \"Insconsistency conversion: stack %s, section %d -> z=%d -> section %d\" % (stack, sec, z, sec0)\n",
    "        if sec0 != sec:\n",
    "            print \"Insconsistency conversion: stack %s, section %d -> z=%d -> section %d, z1=%.2f, z2=%.2f\" % (stack, sec, z, sec0, z1, z2)"
   ]
  }
 ],
 "metadata": {
  "kernelspec": {
   "display_name": "Python 2",
   "language": "python",
   "name": "python2"
  },
  "language_info": {
   "codemirror_mode": {
    "name": "ipython",
    "version": 2
   },
   "file_extension": ".py",
   "mimetype": "text/x-python",
   "name": "python",
   "nbconvert_exporter": "python",
   "pygments_lexer": "ipython2",
   "version": "2.7.3"
  }
 },
 "nbformat": 4,
 "nbformat_minor": 0
}
