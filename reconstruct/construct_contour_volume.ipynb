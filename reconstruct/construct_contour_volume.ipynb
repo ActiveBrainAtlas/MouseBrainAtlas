{
 "cells": [
  {
   "cell_type": "code",
   "execution_count": 63,
   "metadata": {},
   "outputs": [
    {
     "name": "stdout",
     "output_type": "stream",
     "text": [
      "The autoreload extension is already loaded. To reload it, use:\n",
      "  %reload_ext autoreload\n"
     ]
    }
   ],
   "source": [
    "%load_ext autoreload\n",
    "%autoreload 2"
   ]
  },
  {
   "cell_type": "code",
   "execution_count": 64,
   "metadata": {
    "collapsed": true
   },
   "outputs": [],
   "source": [
    "import numpy as np\n",
    "\n",
    "import sys\n",
    "import os\n",
    "\n",
    "sys.path.append(os.environ['REPO_DIR'] + '/utilities')\n",
    "from utilities2015 import *\n",
    "\n",
    "import matplotlib.pyplot as plt\n",
    "%matplotlib inline"
   ]
  },
  {
   "cell_type": "code",
   "execution_count": 3,
   "metadata": {
    "collapsed": true
   },
   "outputs": [],
   "source": [
    "volume_dir = '/oasis/projects/nsf/csd395/yuncong/CSHL_volumes/'\n",
    "if not os.path.exists(volume_dir):\n",
    "    os.makedirs(volume_dir)"
   ]
  },
  {
   "cell_type": "code",
   "execution_count": null,
   "metadata": {
    "collapsed": true
   },
   "outputs": [],
   "source": [
    "######## reconstruct outer contour #######"
   ]
  },
  {
   "cell_type": "code",
   "execution_count": 4,
   "metadata": {},
   "outputs": [],
   "source": [
    "downsample_factor = 8\n",
    "\n",
    "section_thickness = 20 # in um\n",
    "xy_pixel_distance_lossless = 0.46\n",
    "xy_pixel_distance_tb = xy_pixel_distance_lossless * 32 # in um, thumbnail\n",
    "# factor = section_thickness/xy_pixel_distance_lossless\n",
    "\n",
    "xy_pixel_distance_downsampled = xy_pixel_distance_lossless * downsample_factor\n",
    "z_xy_ratio_downsampled = section_thickness / xy_pixel_distance_downsampled"
   ]
  },
  {
   "cell_type": "code",
   "execution_count": 5,
   "metadata": {
    "collapsed": true
   },
   "outputs": [],
   "source": [
    "from skimage.measure import find_contours\n",
    "\n",
    "def construct_contour_volume(stack):\n",
    "    \n",
    "    # build annotation volume\n",
    "    section_bs_begin, section_bs_end = section_range_lookup[stack]\n",
    "    print section_bs_begin, section_bs_end\n",
    "    \n",
    "    dm = DataManager(stack=stack)\n",
    "\n",
    "    volume = np.zeros((dm.image_height/downsample_factor, \n",
    "                       dm.image_width/downsample_factor, \n",
    "                       int(section_number_lookup[stack]*z_xy_ratio_downsampled)), np.bool)\n",
    "\n",
    "    for sec in range(section_bs_begin, section_bs_end+1):\n",
    "\n",
    "#         print sec\n",
    "\n",
    "        m = cv2.imread(os.environ['DATA_DIR'] + \\\n",
    "        '/%(stack)s_thumbnail_aligned_mask_cropped/%(stack)s_%(sec)04d_thumbnail_aligned_mask_cropped.png' % \\\n",
    "                         {'stack': stack, 'sec': sec}, )[..., 0]\n",
    "\n",
    "        m[0,:] = 0\n",
    "        m[-1,:] = 0\n",
    "        m[:,0] = 0\n",
    "        m[:,-1] = 0\n",
    "\n",
    "        m_padded = np.pad(m, ((5,5),(5,5)), mode='constant', constant_values=0)\n",
    "\n",
    "        cnts = find_contours(m_padded, .5)\n",
    "        cnts = [cnt.astype(np.int) - (5,5) for cnt in cnts if len(cnt) > 300]\n",
    "        yxs = np.array([(y,x) for y,x in cnts[0] if y > 1 and x > 1]).astype(np.int)\n",
    "\n",
    "        b = np.ascontiguousarray(yxs).view(np.dtype((np.void, yxs.dtype.itemsize * yxs.shape[1])))\n",
    "        _, idx = np.unique(b, return_index=True)\n",
    "\n",
    "        yxs = yxs[idx] # in thumbnail frame\n",
    "\n",
    "        volume[yxs[:,0]*32/downsample_factor, \n",
    "               yxs[:,1]*32/downsample_factor, \n",
    "               int(z_xy_ratio_downsampled*sec):int(z_xy_ratio_downsampled*(sec+1))] = 1\n",
    "\n",
    "    return volume"
   ]
  },
  {
   "cell_type": "code",
   "execution_count": 6,
   "metadata": {
    "scrolled": true
   },
   "outputs": [
    {
     "name": "stdout",
     "output_type": "stream",
     "text": [
      "93 368\n",
      "93 364\n"
     ]
    }
   ],
   "source": [
    "atlas_contour_volume = construct_contour_volume('MD589')\n",
    "test_contour_volume = construct_contour_volume('MD594')"
   ]
  },
  {
   "cell_type": "markdown",
   "metadata": {},
   "source": [
    "# Matching experiment"
   ]
  },
  {
   "cell_type": "code",
   "execution_count": null,
   "metadata": {
    "scrolled": true
   },
   "outputs": [],
   "source": [
    "for sec in range(section_bs_begin, section_bs_end+1):\n",
    "#     plt.figure(figsize=(20,20));\n",
    "    plt.imshow(test_contour_volume[..., int(sec*z_xy_ratio_downsampled)], cmap=plt.cm.gray);\n",
    "    plt.title('section %d, z = (%d, %d)'%(sec, int(sec*z_xy_ratio_downsampled), \n",
    "                                         int(z_xy_ratio_downsampled*(sec+1))-1));\n",
    "    plt.show();"
   ]
  },
  {
   "cell_type": "code",
   "execution_count": null,
   "metadata": {
    "scrolled": true
   },
   "outputs": [],
   "source": [
    "# virtual section in coronal\n",
    "\n",
    "for x in range(0, volume.shape[1], 100):\n",
    "#     plt.figure(figsize=(20,20));\n",
    "    plt.imshow(volume[:, x, :], cmap=plt.cm.gray);\n",
    "    plt.title('x = %d' % x);\n",
    "    plt.show();"
   ]
  },
  {
   "cell_type": "code",
   "execution_count": 89,
   "metadata": {
    "collapsed": true
   },
   "outputs": [],
   "source": [
    "nzs_yxz = np.where(atlas_contour_volume)\n",
    "nzs_yxz = np.asarray(nzs_yxz).T\n",
    "nzs_xyz = nzs_yxz[:, [1,0,2]]"
   ]
  },
  {
   "cell_type": "code",
   "execution_count": null,
   "metadata": {},
   "outputs": [],
   "source": [
    "test_nzs_yxz = np.where(test_contour_volume)\n",
    "test_nzs_yxz = np.asarray(test_nzs_yxz).T\n",
    "test_nzs_xyz = test_nzs_yxz[:, [1,0,2]]"
   ]
  },
  {
   "cell_type": "code",
   "execution_count": 93,
   "metadata": {},
   "outputs": [
    {
     "name": "stdout",
     "output_type": "stream",
     "text": [
      "18001\n"
     ]
    }
   ],
   "source": [
    "test_nzs_xyz_subsampled = test_nzs_xyz[::100]\n",
    "n = test_nzs_xyz_subsampled.shape[0]\n",
    "print n"
   ]
  },
  {
   "cell_type": "code",
   "execution_count": 94,
   "metadata": {
    "collapsed": true
   },
   "outputs": [],
   "source": [
    "pp = np.random.permutation(n)"
   ]
  },
  {
   "cell_type": "code",
   "execution_count": 96,
   "metadata": {},
   "outputs": [],
   "source": [
    "test_nzs_xyz_subsampled = test_nzs_xyz_subsampled[pp]"
   ]
  },
  {
   "cell_type": "code",
   "execution_count": 97,
   "metadata": {
    "collapsed": true
   },
   "outputs": [],
   "source": [
    "from scipy.spatial import KDTree"
   ]
  },
  {
   "cell_type": "code",
   "execution_count": 98,
   "metadata": {},
   "outputs": [],
   "source": [
    "import sys\n",
    "sys.setrecursionlimit(10000)\n",
    "\n",
    "tree = KDTree(nzs_xyz)"
   ]
  },
  {
   "cell_type": "code",
   "execution_count": 99,
   "metadata": {
    "collapsed": true
   },
   "outputs": [],
   "source": [
    "import time\n",
    "from joblib import Parallel, delayed"
   ]
  },
  {
   "cell_type": "code",
   "execution_count": 105,
   "metadata": {
    "collapsed": true
   },
   "outputs": [],
   "source": [
    "def tree_query(f,l):\n",
    "    return [tree.query(xyz) for xyz in test_nzs_global[f:l+1]]"
   ]
  },
  {
   "cell_type": "code",
   "execution_count": 101,
   "metadata": {
    "collapsed": true
   },
   "outputs": [],
   "source": [
    "from itertools import chain"
   ]
  },
  {
   "cell_type": "code",
   "execution_count": 102,
   "metadata": {
    "collapsed": true
   },
   "outputs": [],
   "source": [
    "def first_last_tuples_distribute_over(first_sec, last_sec, n_host):\n",
    "    secs_per_job = (last_sec - first_sec + 1)/float(n_host)\n",
    "    if secs_per_job < 1:\n",
    "    \tfirst_last_tuples = [(i,i) for i in range(first_sec, last_sec+1)]\n",
    "    else:\n",
    "    \tfirst_last_tuples = [(int(first_sec+i*secs_per_job), int(first_sec+(i+1)*secs_per_job-1) if i != n_host - 1 else last_sec) for i in range(n_host)]\n",
    "    return first_last_tuples"
   ]
  },
  {
   "cell_type": "code",
   "execution_count": 109,
   "metadata": {
    "collapsed": true
   },
   "outputs": [],
   "source": [
    "test_nzs_global = None"
   ]
  },
  {
   "cell_type": "code",
   "execution_count": 110,
   "metadata": {
    "collapsed": true
   },
   "outputs": [],
   "source": [
    "def compute_nn_distance_parallel(test_nzs):\n",
    "    \n",
    "    global test_nzs_global\n",
    "    test_nzs_global = test_nzs\n",
    "    \n",
    "    num_per_iter = 10000\n",
    "\n",
    "    test_nns_all = []\n",
    "\n",
    "    t1 = time.time()\n",
    "\n",
    "    for i in range(0, n, num_per_iter):\n",
    "\n",
    "        t = time.time()\n",
    "\n",
    "        test_nns = Parallel(n_jobs=16)(delayed(tree_query)(f, l) \n",
    "                           for f, l in first_last_tuples_distribute_over(i, min(n-1, i+num_per_iter-1), 16))\n",
    "\n",
    "        test_nns_list = list(chain(*test_nns))\n",
    "\n",
    "        test_nns_all.append(test_nns_list)\n",
    "\n",
    "        print time.time() - t\n",
    "\n",
    "    print time.time() - t1\n",
    "    \n",
    "    test_nns_all = list(chain(*test_nns_all))\n",
    "    all_dists = np.array(test_nns_all)[:,0]\n",
    "    \n",
    "    return all_dists"
   ]
  },
  {
   "cell_type": "code",
   "execution_count": 111,
   "metadata": {},
   "outputs": [
    {
     "name": "stdout",
     "output_type": "stream",
     "text": [
      "19.6921889782\n",
      "17.6842420101\n",
      "37.3766350746\n"
     ]
    }
   ],
   "source": [
    "all_dists = compute_nn_distance_parallel(test_nzs_xyz_subsampled)"
   ]
  },
  {
   "cell_type": "code",
   "execution_count": 112,
   "metadata": {},
   "outputs": [
    {
     "data": {
      "image/png": "[encoded data removed]",
      "text/plain": [
       "<matplotlib.figure.Figure at 0x1085af50>"
      ]
     },
     "metadata": {},
     "output_type": "display_data"
    }
   ],
   "source": [
    "plt.hist(all_dists, bins=100);"
   ]
  },
  {
   "cell_type": "code",
   "execution_count": 116,
   "metadata": {},
   "outputs": [
    {
     "data": {
      "text/plain": [
       "(18001, 3)"
      ]
     },
     "execution_count": 116,
     "metadata": {},
     "output_type": "execute_result"
    }
   ],
   "source": [
    "test_nzs_xyz_subsampled.shape"
   ]
  },
  {
   "cell_type": "code",
   "execution_count": 114,
   "metadata": {},
   "outputs": [
    {
     "name": "stdout",
     "output_type": "stream",
     "text": [
      "8.67562294006\n",
      "8.56838607788\n",
      "17.244204998\n"
     ]
    }
   ],
   "source": [
    "all_dists = compute_nn_distance_parallel(test_nzs_xyz_prime_subsampled)"
   ]
  },
  {
   "cell_type": "code",
   "execution_count": null,
   "metadata": {
    "collapsed": true
   },
   "outputs": [],
   "source": []
  },
  {
   "cell_type": "code",
   "execution_count": 117,
   "metadata": {},
   "outputs": [
    {
     "data": {
      "image/png": "[encoded data removed]",
      "text/plain": [
       "<matplotlib.figure.Figure at 0x21a6ff10>"
      ]
     },
     "metadata": {},
     "output_type": "display_data"
    }
   ],
   "source": [
    "plt.hist(all_dists, bins=100);"
   ]
  }
 ],
 "metadata": {
  "kernelspec": {
   "display_name": "Python 2",
   "language": "python",
   "name": "python2"
  },
  "language_info": {
   "codemirror_mode": {
    "name": "ipython",
    "version": 2
   },
   "file_extension": ".py",
   "mimetype": "text/x-python",
   "name": "python",
   "nbconvert_exporter": "python",
   "pygments_lexer": "ipython2",
   "version": "2.7.12"
  }
 },
 "nbformat": 4,
 "nbformat_minor": 1
}
