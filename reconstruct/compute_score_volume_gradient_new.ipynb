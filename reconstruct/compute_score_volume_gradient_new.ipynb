{
 "cells": [
  {
   "cell_type": "code",
   "execution_count": 1,
   "metadata": {},
   "outputs": [
    {
     "name": "stdout",
     "output_type": "stream",
     "text": [
      "Setting environment for AWS compute node\n"
     ]
    },
    {
     "name": "stderr",
     "output_type": "stream",
     "text": [
      "No vtk\n"
     ]
    }
   ],
   "source": [
    "%load_ext autoreload\n",
    "%autoreload 2\n",
    "\n",
    "import sys\n",
    "import os\n",
    "import time\n",
    "\n",
    "from multiprocess import Pool\n",
    "import numpy as np\n",
    "\n",
    "sys.path.append(os.path.join(os.environ['REPO_DIR'], 'utilities'))\n",
    "from utilities2015 import *\n",
    "from metadata import *\n",
    "from data_manager import *\n",
    "from conversion import images_to_volume"
   ]
  },
  {
   "cell_type": "markdown",
   "metadata": {},
   "source": [
    "# All structures for annotation volume"
   ]
  },
  {
   "cell_type": "code",
   "execution_count": 2,
   "metadata": {
    "scrolled": true
   },
   "outputs": [
    {
     "name": "stdout",
     "output_type": "stream",
     "text": [
      "5N_L\n"
     ]
    },
    {
     "name": "stderr",
     "output_type": "stream",
     "text": [
      "Gradient 5N_L: 0.834519 seconds\n"
     ]
    },
    {
     "name": "stdout",
     "output_type": "stream",
     "text": [
      "aws s3 cp \"/shared/CSHL_volumes/MD589/MD589_down32_annotationAsScoreVolume/score_volume_gradients/MD589_down32_annotationAsScoreVolume_5N_L_gx.bp\" \"s3://mousebrainatlas-data/CSHL_volumes/MD589/MD589_down32_annotationAsScoreVolume/score_volume_gradients/MD589_down32_annotationAsScoreVolume_5N_L_gx.bp\"\n",
      "aws s3 cp \"/shared/CSHL_volumes/MD589/MD589_down32_annotationAsScoreVolume/score_volume_gradients/MD589_down32_annotationAsScoreVolume_5N_L_gy.bp\" \"s3://mousebrainatlas-data/CSHL_volumes/MD589/MD589_down32_annotationAsScoreVolume/score_volume_gradients/MD589_down32_annotationAsScoreVolume_5N_L_gy.bp\"\n",
      "aws s3 cp \"/shared/CSHL_volumes/MD589/MD589_down32_annotationAsScoreVolume/score_volume_gradients/MD589_down32_annotationAsScoreVolume_5N_L_gz.bp\" \"s3://mousebrainatlas-data/CSHL_volumes/MD589/MD589_down32_annotationAsScoreVolume/score_volume_gradients/MD589_down32_annotationAsScoreVolume_5N_L_gz.bp\"\n"
     ]
    },
    {
     "name": "stderr",
     "output_type": "stream",
     "text": [
      "save 5N_L: 1.615407 seconds\n"
     ]
    },
    {
     "name": "stdout",
     "output_type": "stream",
     "text": [
      "5N_R\n"
     ]
    },
    {
     "name": "stderr",
     "output_type": "stream",
     "text": [
      "Gradient 5N_R: 0.833638 seconds\n"
     ]
    },
    {
     "name": "stdout",
     "output_type": "stream",
     "text": [
      "aws s3 cp \"/shared/CSHL_volumes/MD589/MD589_down32_annotationAsScoreVolume/score_volume_gradients/MD589_down32_annotationAsScoreVolume_5N_R_gx.bp\" \"s3://mousebrainatlas-data/CSHL_volumes/MD589/MD589_down32_annotationAsScoreVolume/score_volume_gradients/MD589_down32_annotationAsScoreVolume_5N_R_gx.bp\"\n",
      "aws s3 cp \"/shared/CSHL_volumes/MD589/MD589_down32_annotationAsScoreVolume/score_volume_gradients/MD589_down32_annotationAsScoreVolume_5N_R_gy.bp\" \"s3://mousebrainatlas-data/CSHL_volumes/MD589/MD589_down32_annotationAsScoreVolume/score_volume_gradients/MD589_down32_annotationAsScoreVolume_5N_R_gy.bp\"\n",
      "aws s3 cp \"/shared/CSHL_volumes/MD589/MD589_down32_annotationAsScoreVolume/score_volume_gradients/MD589_down32_annotationAsScoreVolume_5N_R_gz.bp\" \"s3://mousebrainatlas-data/CSHL_volumes/MD589/MD589_down32_annotationAsScoreVolume/score_volume_gradients/MD589_down32_annotationAsScoreVolume_5N_R_gz.bp\"\n"
     ]
    },
    {
     "name": "stderr",
     "output_type": "stream",
     "text": [
      "save 5N_R: 1.430402 seconds\n"
     ]
    },
    {
     "name": "stdout",
     "output_type": "stream",
     "text": [
      "6N_L\n"
     ]
    },
    {
     "name": "stderr",
     "output_type": "stream",
     "text": [
      "Gradient 6N_L: 0.815314 seconds\n"
     ]
    },
    {
     "name": "stdout",
     "output_type": "stream",
     "text": [
      "aws s3 cp \"/shared/CSHL_volumes/MD589/MD589_down32_annotationAsScoreVolume/score_volume_gradients/MD589_down32_annotationAsScoreVolume_6N_L_gx.bp\" \"s3://mousebrainatlas-data/CSHL_volumes/MD589/MD589_down32_annotationAsScoreVolume/score_volume_gradients/MD589_down32_annotationAsScoreVolume_6N_L_gx.bp\"\n",
      "aws s3 cp \"/shared/CSHL_volumes/MD589/MD589_down32_annotationAsScoreVolume/score_volume_gradients/MD589_down32_annotationAsScoreVolume_6N_L_gy.bp\" \"s3://mousebrainatlas-data/CSHL_volumes/MD589/MD589_down32_annotationAsScoreVolume/score_volume_gradients/MD589_down32_annotationAsScoreVolume_6N_L_gy.bp\"\n",
      "aws s3 cp \"/shared/CSHL_volumes/MD589/MD589_down32_annotationAsScoreVolume/score_volume_gradients/MD589_down32_annotationAsScoreVolume_6N_L_gz.bp\" \"s3://mousebrainatlas-data/CSHL_volumes/MD589/MD589_down32_annotationAsScoreVolume/score_volume_gradients/MD589_down32_annotationAsScoreVolume_6N_L_gz.bp\"\n"
     ]
    },
    {
     "name": "stderr",
     "output_type": "stream",
     "text": [
      "save 6N_L: 1.437122 seconds\n"
     ]
    },
    {
     "name": "stdout",
     "output_type": "stream",
     "text": [
      "6N_R\n"
     ]
    },
    {
     "name": "stderr",
     "output_type": "stream",
     "text": [
      "Gradient 6N_R: 0.816234 seconds\n"
     ]
    },
    {
     "name": "stdout",
     "output_type": "stream",
     "text": [
      "aws s3 cp \"/shared/CSHL_volumes/MD589/MD589_down32_annotationAsScoreVolume/score_volume_gradients/MD589_down32_annotationAsScoreVolume_6N_R_gx.bp\" \"s3://mousebrainatlas-data/CSHL_volumes/MD589/MD589_down32_annotationAsScoreVolume/score_volume_gradients/MD589_down32_annotationAsScoreVolume_6N_R_gx.bp\"\n",
      "aws s3 cp \"/shared/CSHL_volumes/MD589/MD589_down32_annotationAsScoreVolume/score_volume_gradients/MD589_down32_annotationAsScoreVolume_6N_R_gy.bp\" \"s3://mousebrainatlas-data/CSHL_volumes/MD589/MD589_down32_annotationAsScoreVolume/score_volume_gradients/MD589_down32_annotationAsScoreVolume_6N_R_gy.bp\"\n",
      "aws s3 cp \"/shared/CSHL_volumes/MD589/MD589_down32_annotationAsScoreVolume/score_volume_gradients/MD589_down32_annotationAsScoreVolume_6N_R_gz.bp\" \"s3://mousebrainatlas-data/CSHL_volumes/MD589/MD589_down32_annotationAsScoreVolume/score_volume_gradients/MD589_down32_annotationAsScoreVolume_6N_R_gz.bp\"\n"
     ]
    },
    {
     "name": "stderr",
     "output_type": "stream",
     "text": [
      "save 6N_R: 1.487191 seconds\n"
     ]
    },
    {
     "name": "stdout",
     "output_type": "stream",
     "text": [
      "7N_L\n"
     ]
    },
    {
     "name": "stderr",
     "output_type": "stream",
     "text": [
      "Gradient 7N_L: 0.813709 seconds\n"
     ]
    },
    {
     "name": "stdout",
     "output_type": "stream",
     "text": [
      "aws s3 cp \"/shared/CSHL_volumes/MD589/MD589_down32_annotationAsScoreVolume/score_volume_gradients/MD589_down32_annotationAsScoreVolume_7N_L_gx.bp\" \"s3://mousebrainatlas-data/CSHL_volumes/MD589/MD589_down32_annotationAsScoreVolume/score_volume_gradients/MD589_down32_annotationAsScoreVolume_7N_L_gx.bp\"\n",
      "aws s3 cp \"/shared/CSHL_volumes/MD589/MD589_down32_annotationAsScoreVolume/score_volume_gradients/MD589_down32_annotationAsScoreVolume_7N_L_gy.bp\" \"s3://mousebrainatlas-data/CSHL_volumes/MD589/MD589_down32_annotationAsScoreVolume/score_volume_gradients/MD589_down32_annotationAsScoreVolume_7N_L_gy.bp\"\n",
      "aws s3 cp \"/shared/CSHL_volumes/MD589/MD589_down32_annotationAsScoreVolume/score_volume_gradients/MD589_down32_annotationAsScoreVolume_7N_L_gz.bp\" \"s3://mousebrainatlas-data/CSHL_volumes/MD589/MD589_down32_annotationAsScoreVolume/score_volume_gradients/MD589_down32_annotationAsScoreVolume_7N_L_gz.bp\"\n"
     ]
    },
    {
     "name": "stderr",
     "output_type": "stream",
     "text": [
      "save 7N_L: 1.448134 seconds\n"
     ]
    },
    {
     "name": "stdout",
     "output_type": "stream",
     "text": [
      "7N_R\n"
     ]
    },
    {
     "name": "stderr",
     "output_type": "stream",
     "text": [
      "Gradient 7N_R: 0.815952 seconds\n"
     ]
    },
    {
     "name": "stdout",
     "output_type": "stream",
     "text": [
      "aws s3 cp \"/shared/CSHL_volumes/MD589/MD589_down32_annotationAsScoreVolume/score_volume_gradients/MD589_down32_annotationAsScoreVolume_7N_R_gx.bp\" \"s3://mousebrainatlas-data/CSHL_volumes/MD589/MD589_down32_annotationAsScoreVolume/score_volume_gradients/MD589_down32_annotationAsScoreVolume_7N_R_gx.bp\"\n",
      "aws s3 cp \"/shared/CSHL_volumes/MD589/MD589_down32_annotationAsScoreVolume/score_volume_gradients/MD589_down32_annotationAsScoreVolume_7N_R_gy.bp\" \"s3://mousebrainatlas-data/CSHL_volumes/MD589/MD589_down32_annotationAsScoreVolume/score_volume_gradients/MD589_down32_annotationAsScoreVolume_7N_R_gy.bp\"\n",
      "aws s3 cp \"/shared/CSHL_volumes/MD589/MD589_down32_annotationAsScoreVolume/score_volume_gradients/MD589_down32_annotationAsScoreVolume_7N_R_gz.bp\" \"s3://mousebrainatlas-data/CSHL_volumes/MD589/MD589_down32_annotationAsScoreVolume/score_volume_gradients/MD589_down32_annotationAsScoreVolume_7N_R_gz.bp\"\n"
     ]
    },
    {
     "name": "stderr",
     "output_type": "stream",
     "text": [
      "save 7N_R: 1.486260 seconds\n"
     ]
    },
    {
     "name": "stdout",
     "output_type": "stream",
     "text": [
      "7n_L\n"
     ]
    },
    {
     "name": "stderr",
     "output_type": "stream",
     "text": [
      "Gradient 7n_L: 0.763140 seconds\n"
     ]
    },
    {
     "name": "stdout",
     "output_type": "stream",
     "text": [
      "aws s3 cp \"/shared/CSHL_volumes/MD589/MD589_down32_annotationAsScoreVolume/score_volume_gradients/MD589_down32_annotationAsScoreVolume_7n_L_gx.bp\" \"s3://mousebrainatlas-data/CSHL_volumes/MD589/MD589_down32_annotationAsScoreVolume/score_volume_gradients/MD589_down32_annotationAsScoreVolume_7n_L_gx.bp\"\n",
      "aws s3 cp \"/shared/CSHL_volumes/MD589/MD589_down32_annotationAsScoreVolume/score_volume_gradients/MD589_down32_annotationAsScoreVolume_7n_L_gy.bp\" \"s3://mousebrainatlas-data/CSHL_volumes/MD589/MD589_down32_annotationAsScoreVolume/score_volume_gradients/MD589_down32_annotationAsScoreVolume_7n_L_gy.bp\"\n",
      "aws s3 cp \"/shared/CSHL_volumes/MD589/MD589_down32_annotationAsScoreVolume/score_volume_gradients/MD589_down32_annotationAsScoreVolume_7n_L_gz.bp\" \"s3://mousebrainatlas-data/CSHL_volumes/MD589/MD589_down32_annotationAsScoreVolume/score_volume_gradients/MD589_down32_annotationAsScoreVolume_7n_L_gz.bp\"\n"
     ]
    },
    {
     "name": "stderr",
     "output_type": "stream",
     "text": [
      "save 7n_L: 1.446735 seconds\n"
     ]
    },
    {
     "name": "stdout",
     "output_type": "stream",
     "text": [
      "7n_R\n"
     ]
    },
    {
     "name": "stderr",
     "output_type": "stream",
     "text": [
      "Gradient 7n_R: 0.833480 seconds\n"
     ]
    },
    {
     "name": "stdout",
     "output_type": "stream",
     "text": [
      "aws s3 cp \"/shared/CSHL_volumes/MD589/MD589_down32_annotationAsScoreVolume/score_volume_gradients/MD589_down32_annotationAsScoreVolume_7n_R_gx.bp\" \"s3://mousebrainatlas-data/CSHL_volumes/MD589/MD589_down32_annotationAsScoreVolume/score_volume_gradients/MD589_down32_annotationAsScoreVolume_7n_R_gx.bp\"\n",
      "aws s3 cp \"/shared/CSHL_volumes/MD589/MD589_down32_annotationAsScoreVolume/score_volume_gradients/MD589_down32_annotationAsScoreVolume_7n_R_gy.bp\" \"s3://mousebrainatlas-data/CSHL_volumes/MD589/MD589_down32_annotationAsScoreVolume/score_volume_gradients/MD589_down32_annotationAsScoreVolume_7n_R_gy.bp\"\n",
      "aws s3 cp \"/shared/CSHL_volumes/MD589/MD589_down32_annotationAsScoreVolume/score_volume_gradients/MD589_down32_annotationAsScoreVolume_7n_R_gz.bp\" \"s3://mousebrainatlas-data/CSHL_volumes/MD589/MD589_down32_annotationAsScoreVolume/score_volume_gradients/MD589_down32_annotationAsScoreVolume_7n_R_gz.bp\"\n"
     ]
    },
    {
     "name": "stderr",
     "output_type": "stream",
     "text": [
      "save 7n_R: 1.513448 seconds\n"
     ]
    },
    {
     "name": "stdout",
     "output_type": "stream",
     "text": [
      "Amb_L\n"
     ]
    },
    {
     "name": "stderr",
     "output_type": "stream",
     "text": [
      "Gradient Amb_L: 0.832230 seconds\n"
     ]
    },
    {
     "name": "stdout",
     "output_type": "stream",
     "text": [
      "aws s3 cp \"/shared/CSHL_volumes/MD589/MD589_down32_annotationAsScoreVolume/score_volume_gradients/MD589_down32_annotationAsScoreVolume_Amb_L_gx.bp\" \"s3://mousebrainatlas-data/CSHL_volumes/MD589/MD589_down32_annotationAsScoreVolume/score_volume_gradients/MD589_down32_annotationAsScoreVolume_Amb_L_gx.bp\"\n",
      "aws s3 cp \"/shared/CSHL_volumes/MD589/MD589_down32_annotationAsScoreVolume/score_volume_gradients/MD589_down32_annotationAsScoreVolume_Amb_L_gy.bp\" \"s3://mousebrainatlas-data/CSHL_volumes/MD589/MD589_down32_annotationAsScoreVolume/score_volume_gradients/MD589_down32_annotationAsScoreVolume_Amb_L_gy.bp\"\n",
      "aws s3 cp \"/shared/CSHL_volumes/MD589/MD589_down32_annotationAsScoreVolume/score_volume_gradients/MD589_down32_annotationAsScoreVolume_Amb_L_gz.bp\" \"s3://mousebrainatlas-data/CSHL_volumes/MD589/MD589_down32_annotationAsScoreVolume/score_volume_gradients/MD589_down32_annotationAsScoreVolume_Amb_L_gz.bp\"\n"
     ]
    },
    {
     "name": "stderr",
     "output_type": "stream",
     "text": [
      "save Amb_L: 1.453280 seconds\n"
     ]
    },
    {
     "name": "stdout",
     "output_type": "stream",
     "text": [
      "Amb_R\n"
     ]
    },
    {
     "name": "stderr",
     "output_type": "stream",
     "text": [
      "Gradient Amb_R: 0.829417 seconds\n"
     ]
    },
    {
     "name": "stdout",
     "output_type": "stream",
     "text": [
      "aws s3 cp \"/shared/CSHL_volumes/MD589/MD589_down32_annotationAsScoreVolume/score_volume_gradients/MD589_down32_annotationAsScoreVolume_Amb_R_gx.bp\" \"s3://mousebrainatlas-data/CSHL_volumes/MD589/MD589_down32_annotationAsScoreVolume/score_volume_gradients/MD589_down32_annotationAsScoreVolume_Amb_R_gx.bp\"\n",
      "aws s3 cp \"/shared/CSHL_volumes/MD589/MD589_down32_annotationAsScoreVolume/score_volume_gradients/MD589_down32_annotationAsScoreVolume_Amb_R_gy.bp\" \"s3://mousebrainatlas-data/CSHL_volumes/MD589/MD589_down32_annotationAsScoreVolume/score_volume_gradients/MD589_down32_annotationAsScoreVolume_Amb_R_gy.bp\"\n",
      "aws s3 cp \"/shared/CSHL_volumes/MD589/MD589_down32_annotationAsScoreVolume/score_volume_gradients/MD589_down32_annotationAsScoreVolume_Amb_R_gz.bp\" \"s3://mousebrainatlas-data/CSHL_volumes/MD589/MD589_down32_annotationAsScoreVolume/score_volume_gradients/MD589_down32_annotationAsScoreVolume_Amb_R_gz.bp\"\n"
     ]
    },
    {
     "name": "stderr",
     "output_type": "stream",
     "text": [
      "save Amb_R: 1.534694 seconds\n"
     ]
    },
    {
     "name": "stdout",
     "output_type": "stream",
     "text": [
      "LC_L\n"
     ]
    },
    {
     "name": "stderr",
     "output_type": "stream",
     "text": [
      "Gradient LC_L: 0.831614 seconds\n"
     ]
    },
    {
     "name": "stdout",
     "output_type": "stream",
     "text": [
      "aws s3 cp \"/shared/CSHL_volumes/MD589/MD589_down32_annotationAsScoreVolume/score_volume_gradients/MD589_down32_annotationAsScoreVolume_LC_L_gx.bp\" \"s3://mousebrainatlas-data/CSHL_volumes/MD589/MD589_down32_annotationAsScoreVolume/score_volume_gradients/MD589_down32_annotationAsScoreVolume_LC_L_gx.bp\"\n",
      "aws s3 cp \"/shared/CSHL_volumes/MD589/MD589_down32_annotationAsScoreVolume/score_volume_gradients/MD589_down32_annotationAsScoreVolume_LC_L_gy.bp\" \"s3://mousebrainatlas-data/CSHL_volumes/MD589/MD589_down32_annotationAsScoreVolume/score_volume_gradients/MD589_down32_annotationAsScoreVolume_LC_L_gy.bp\"\n",
      "aws s3 cp \"/shared/CSHL_volumes/MD589/MD589_down32_annotationAsScoreVolume/score_volume_gradients/MD589_down32_annotationAsScoreVolume_LC_L_gz.bp\" \"s3://mousebrainatlas-data/CSHL_volumes/MD589/MD589_down32_annotationAsScoreVolume/score_volume_gradients/MD589_down32_annotationAsScoreVolume_LC_L_gz.bp\"\n"
     ]
    },
    {
     "name": "stderr",
     "output_type": "stream",
     "text": [
      "save LC_L: 1.598751 seconds\n"
     ]
    },
    {
     "name": "stdout",
     "output_type": "stream",
     "text": [
      "LC_R\n"
     ]
    },
    {
     "name": "stderr",
     "output_type": "stream",
     "text": [
      "Gradient LC_R: 0.828668 seconds\n"
     ]
    },
    {
     "name": "stdout",
     "output_type": "stream",
     "text": [
      "aws s3 cp \"/shared/CSHL_volumes/MD589/MD589_down32_annotationAsScoreVolume/score_volume_gradients/MD589_down32_annotationAsScoreVolume_LC_R_gx.bp\" \"s3://mousebrainatlas-data/CSHL_volumes/MD589/MD589_down32_annotationAsScoreVolume/score_volume_gradients/MD589_down32_annotationAsScoreVolume_LC_R_gx.bp\"\n",
      "aws s3 cp \"/shared/CSHL_volumes/MD589/MD589_down32_annotationAsScoreVolume/score_volume_gradients/MD589_down32_annotationAsScoreVolume_LC_R_gy.bp\" \"s3://mousebrainatlas-data/CSHL_volumes/MD589/MD589_down32_annotationAsScoreVolume/score_volume_gradients/MD589_down32_annotationAsScoreVolume_LC_R_gy.bp\"\n",
      "aws s3 cp \"/shared/CSHL_volumes/MD589/MD589_down32_annotationAsScoreVolume/score_volume_gradients/MD589_down32_annotationAsScoreVolume_LC_R_gz.bp\" \"s3://mousebrainatlas-data/CSHL_volumes/MD589/MD589_down32_annotationAsScoreVolume/score_volume_gradients/MD589_down32_annotationAsScoreVolume_LC_R_gz.bp\"\n"
     ]
    },
    {
     "name": "stderr",
     "output_type": "stream",
     "text": [
      "save LC_R: 1.446182 seconds\n"
     ]
    },
    {
     "name": "stdout",
     "output_type": "stream",
     "text": [
      "LRt_L\n"
     ]
    },
    {
     "name": "stderr",
     "output_type": "stream",
     "text": [
      "Gradient LRt_L: 0.849893 seconds\n"
     ]
    },
    {
     "name": "stdout",
     "output_type": "stream",
     "text": [
      "aws s3 cp \"/shared/CSHL_volumes/MD589/MD589_down32_annotationAsScoreVolume/score_volume_gradients/MD589_down32_annotationAsScoreVolume_LRt_L_gx.bp\" \"s3://mousebrainatlas-data/CSHL_volumes/MD589/MD589_down32_annotationAsScoreVolume/score_volume_gradients/MD589_down32_annotationAsScoreVolume_LRt_L_gx.bp\"\n",
      "aws s3 cp \"/shared/CSHL_volumes/MD589/MD589_down32_annotationAsScoreVolume/score_volume_gradients/MD589_down32_annotationAsScoreVolume_LRt_L_gy.bp\" \"s3://mousebrainatlas-data/CSHL_volumes/MD589/MD589_down32_annotationAsScoreVolume/score_volume_gradients/MD589_down32_annotationAsScoreVolume_LRt_L_gy.bp\"\n",
      "aws s3 cp \"/shared/CSHL_volumes/MD589/MD589_down32_annotationAsScoreVolume/score_volume_gradients/MD589_down32_annotationAsScoreVolume_LRt_L_gz.bp\" \"s3://mousebrainatlas-data/CSHL_volumes/MD589/MD589_down32_annotationAsScoreVolume/score_volume_gradients/MD589_down32_annotationAsScoreVolume_LRt_L_gz.bp\"\n"
     ]
    },
    {
     "name": "stderr",
     "output_type": "stream",
     "text": [
      "save LRt_L: 1.504280 seconds\n"
     ]
    },
    {
     "name": "stdout",
     "output_type": "stream",
     "text": [
      "LRt_R\n"
     ]
    },
    {
     "name": "stderr",
     "output_type": "stream",
     "text": [
      "Gradient LRt_R: 0.832030 seconds\n"
     ]
    },
    {
     "name": "stdout",
     "output_type": "stream",
     "text": [
      "aws s3 cp \"/shared/CSHL_volumes/MD589/MD589_down32_annotationAsScoreVolume/score_volume_gradients/MD589_down32_annotationAsScoreVolume_LRt_R_gx.bp\" \"s3://mousebrainatlas-data/CSHL_volumes/MD589/MD589_down32_annotationAsScoreVolume/score_volume_gradients/MD589_down32_annotationAsScoreVolume_LRt_R_gx.bp\"\n",
      "aws s3 cp \"/shared/CSHL_volumes/MD589/MD589_down32_annotationAsScoreVolume/score_volume_gradients/MD589_down32_annotationAsScoreVolume_LRt_R_gy.bp\" \"s3://mousebrainatlas-data/CSHL_volumes/MD589/MD589_down32_annotationAsScoreVolume/score_volume_gradients/MD589_down32_annotationAsScoreVolume_LRt_R_gy.bp\"\n",
      "aws s3 cp \"/shared/CSHL_volumes/MD589/MD589_down32_annotationAsScoreVolume/score_volume_gradients/MD589_down32_annotationAsScoreVolume_LRt_R_gz.bp\" \"s3://mousebrainatlas-data/CSHL_volumes/MD589/MD589_down32_annotationAsScoreVolume/score_volume_gradients/MD589_down32_annotationAsScoreVolume_LRt_R_gz.bp\"\n"
     ]
    },
    {
     "name": "stderr",
     "output_type": "stream",
     "text": [
      "save LRt_R: 1.513759 seconds\n"
     ]
    },
    {
     "name": "stdout",
     "output_type": "stream",
     "text": [
      "Pn_L\n"
     ]
    },
    {
     "name": "stderr",
     "output_type": "stream",
     "text": [
      "Gradient Pn_L: 0.833107 seconds\n"
     ]
    },
    {
     "name": "stdout",
     "output_type": "stream",
     "text": [
      "aws s3 cp \"/shared/CSHL_volumes/MD589/MD589_down32_annotationAsScoreVolume/score_volume_gradients/MD589_down32_annotationAsScoreVolume_Pn_L_gx.bp\" \"s3://mousebrainatlas-data/CSHL_volumes/MD589/MD589_down32_annotationAsScoreVolume/score_volume_gradients/MD589_down32_annotationAsScoreVolume_Pn_L_gx.bp\"\n",
      "aws s3 cp \"/shared/CSHL_volumes/MD589/MD589_down32_annotationAsScoreVolume/score_volume_gradients/MD589_down32_annotationAsScoreVolume_Pn_L_gy.bp\" \"s3://mousebrainatlas-data/CSHL_volumes/MD589/MD589_down32_annotationAsScoreVolume/score_volume_gradients/MD589_down32_annotationAsScoreVolume_Pn_L_gy.bp\"\n",
      "aws s3 cp \"/shared/CSHL_volumes/MD589/MD589_down32_annotationAsScoreVolume/score_volume_gradients/MD589_down32_annotationAsScoreVolume_Pn_L_gz.bp\" \"s3://mousebrainatlas-data/CSHL_volumes/MD589/MD589_down32_annotationAsScoreVolume/score_volume_gradients/MD589_down32_annotationAsScoreVolume_Pn_L_gz.bp\"\n"
     ]
    },
    {
     "name": "stderr",
     "output_type": "stream",
     "text": [
      "save Pn_L: 1.430560 seconds\n"
     ]
    },
    {
     "name": "stdout",
     "output_type": "stream",
     "text": [
      "Pn_R\n"
     ]
    },
    {
     "name": "stderr",
     "output_type": "stream",
     "text": [
      "Gradient Pn_R: 0.838267 seconds\n"
     ]
    },
    {
     "name": "stdout",
     "output_type": "stream",
     "text": [
      "aws s3 cp \"/shared/CSHL_volumes/MD589/MD589_down32_annotationAsScoreVolume/score_volume_gradients/MD589_down32_annotationAsScoreVolume_Pn_R_gx.bp\" \"s3://mousebrainatlas-data/CSHL_volumes/MD589/MD589_down32_annotationAsScoreVolume/score_volume_gradients/MD589_down32_annotationAsScoreVolume_Pn_R_gx.bp\"\n",
      "aws s3 cp \"/shared/CSHL_volumes/MD589/MD589_down32_annotationAsScoreVolume/score_volume_gradients/MD589_down32_annotationAsScoreVolume_Pn_R_gy.bp\" \"s3://mousebrainatlas-data/CSHL_volumes/MD589/MD589_down32_annotationAsScoreVolume/score_volume_gradients/MD589_down32_annotationAsScoreVolume_Pn_R_gy.bp\"\n",
      "aws s3 cp \"/shared/CSHL_volumes/MD589/MD589_down32_annotationAsScoreVolume/score_volume_gradients/MD589_down32_annotationAsScoreVolume_Pn_R_gz.bp\" \"s3://mousebrainatlas-data/CSHL_volumes/MD589/MD589_down32_annotationAsScoreVolume/score_volume_gradients/MD589_down32_annotationAsScoreVolume_Pn_R_gz.bp\"\n"
     ]
    },
    {
     "name": "stderr",
     "output_type": "stream",
     "text": [
      "save Pn_R: 1.489091 seconds\n"
     ]
    },
    {
     "name": "stdout",
     "output_type": "stream",
     "text": [
      "Tz_L\n"
     ]
    },
    {
     "name": "stderr",
     "output_type": "stream",
     "text": [
      "Gradient Tz_L: 0.837720 seconds\n"
     ]
    },
    {
     "name": "stdout",
     "output_type": "stream",
     "text": [
      "aws s3 cp \"/shared/CSHL_volumes/MD589/MD589_down32_annotationAsScoreVolume/score_volume_gradients/MD589_down32_annotationAsScoreVolume_Tz_L_gx.bp\" \"s3://mousebrainatlas-data/CSHL_volumes/MD589/MD589_down32_annotationAsScoreVolume/score_volume_gradients/MD589_down32_annotationAsScoreVolume_Tz_L_gx.bp\"\n",
      "aws s3 cp \"/shared/CSHL_volumes/MD589/MD589_down32_annotationAsScoreVolume/score_volume_gradients/MD589_down32_annotationAsScoreVolume_Tz_L_gy.bp\" \"s3://mousebrainatlas-data/CSHL_volumes/MD589/MD589_down32_annotationAsScoreVolume/score_volume_gradients/MD589_down32_annotationAsScoreVolume_Tz_L_gy.bp\"\n",
      "aws s3 cp \"/shared/CSHL_volumes/MD589/MD589_down32_annotationAsScoreVolume/score_volume_gradients/MD589_down32_annotationAsScoreVolume_Tz_L_gz.bp\" \"s3://mousebrainatlas-data/CSHL_volumes/MD589/MD589_down32_annotationAsScoreVolume/score_volume_gradients/MD589_down32_annotationAsScoreVolume_Tz_L_gz.bp\"\n"
     ]
    },
    {
     "name": "stderr",
     "output_type": "stream",
     "text": [
      "save Tz_L: 1.433987 seconds\n"
     ]
    },
    {
     "name": "stdout",
     "output_type": "stream",
     "text": [
      "Tz_R\n"
     ]
    },
    {
     "name": "stderr",
     "output_type": "stream",
     "text": [
      "Gradient Tz_R: 0.810108 seconds\n"
     ]
    },
    {
     "name": "stdout",
     "output_type": "stream",
     "text": [
      "aws s3 cp \"/shared/CSHL_volumes/MD589/MD589_down32_annotationAsScoreVolume/score_volume_gradients/MD589_down32_annotationAsScoreVolume_Tz_R_gx.bp\" \"s3://mousebrainatlas-data/CSHL_volumes/MD589/MD589_down32_annotationAsScoreVolume/score_volume_gradients/MD589_down32_annotationAsScoreVolume_Tz_R_gx.bp\"\n",
      "aws s3 cp \"/shared/CSHL_volumes/MD589/MD589_down32_annotationAsScoreVolume/score_volume_gradients/MD589_down32_annotationAsScoreVolume_Tz_R_gy.bp\" \"s3://mousebrainatlas-data/CSHL_volumes/MD589/MD589_down32_annotationAsScoreVolume/score_volume_gradients/MD589_down32_annotationAsScoreVolume_Tz_R_gy.bp\"\n",
      "aws s3 cp \"/shared/CSHL_volumes/MD589/MD589_down32_annotationAsScoreVolume/score_volume_gradients/MD589_down32_annotationAsScoreVolume_Tz_R_gz.bp\" \"s3://mousebrainatlas-data/CSHL_volumes/MD589/MD589_down32_annotationAsScoreVolume/score_volume_gradients/MD589_down32_annotationAsScoreVolume_Tz_R_gz.bp\"\n"
     ]
    },
    {
     "name": "stderr",
     "output_type": "stream",
     "text": [
      "save Tz_R: 1.418227 seconds\n"
     ]
    },
    {
     "name": "stdout",
     "output_type": "stream",
     "text": [
      "VLL_L\n"
     ]
    },
    {
     "name": "stderr",
     "output_type": "stream",
     "text": [
      "Gradient VLL_L: 0.816069 seconds\n"
     ]
    },
    {
     "name": "stdout",
     "output_type": "stream",
     "text": [
      "aws s3 cp \"/shared/CSHL_volumes/MD589/MD589_down32_annotationAsScoreVolume/score_volume_gradients/MD589_down32_annotationAsScoreVolume_VLL_L_gx.bp\" \"s3://mousebrainatlas-data/CSHL_volumes/MD589/MD589_down32_annotationAsScoreVolume/score_volume_gradients/MD589_down32_annotationAsScoreVolume_VLL_L_gx.bp\"\n",
      "aws s3 cp \"/shared/CSHL_volumes/MD589/MD589_down32_annotationAsScoreVolume/score_volume_gradients/MD589_down32_annotationAsScoreVolume_VLL_L_gy.bp\" \"s3://mousebrainatlas-data/CSHL_volumes/MD589/MD589_down32_annotationAsScoreVolume/score_volume_gradients/MD589_down32_annotationAsScoreVolume_VLL_L_gy.bp\"\n",
      "aws s3 cp \"/shared/CSHL_volumes/MD589/MD589_down32_annotationAsScoreVolume/score_volume_gradients/MD589_down32_annotationAsScoreVolume_VLL_L_gz.bp\" \"s3://mousebrainatlas-data/CSHL_volumes/MD589/MD589_down32_annotationAsScoreVolume/score_volume_gradients/MD589_down32_annotationAsScoreVolume_VLL_L_gz.bp\"\n"
     ]
    },
    {
     "name": "stderr",
     "output_type": "stream",
     "text": [
      "save VLL_L: 1.407502 seconds\n"
     ]
    },
    {
     "name": "stdout",
     "output_type": "stream",
     "text": [
      "VLL_R\n"
     ]
    },
    {
     "name": "stderr",
     "output_type": "stream",
     "text": [
      "Gradient VLL_R: 0.807616 seconds\n"
     ]
    },
    {
     "name": "stdout",
     "output_type": "stream",
     "text": [
      "aws s3 cp \"/shared/CSHL_volumes/MD589/MD589_down32_annotationAsScoreVolume/score_volume_gradients/MD589_down32_annotationAsScoreVolume_VLL_R_gx.bp\" \"s3://mousebrainatlas-data/CSHL_volumes/MD589/MD589_down32_annotationAsScoreVolume/score_volume_gradients/MD589_down32_annotationAsScoreVolume_VLL_R_gx.bp\"\n",
      "aws s3 cp \"/shared/CSHL_volumes/MD589/MD589_down32_annotationAsScoreVolume/score_volume_gradients/MD589_down32_annotationAsScoreVolume_VLL_R_gy.bp\" \"s3://mousebrainatlas-data/CSHL_volumes/MD589/MD589_down32_annotationAsScoreVolume/score_volume_gradients/MD589_down32_annotationAsScoreVolume_VLL_R_gy.bp\"\n",
      "aws s3 cp \"/shared/CSHL_volumes/MD589/MD589_down32_annotationAsScoreVolume/score_volume_gradients/MD589_down32_annotationAsScoreVolume_VLL_R_gz.bp\" \"s3://mousebrainatlas-data/CSHL_volumes/MD589/MD589_down32_annotationAsScoreVolume/score_volume_gradients/MD589_down32_annotationAsScoreVolume_VLL_R_gz.bp\"\n"
     ]
    },
    {
     "name": "stderr",
     "output_type": "stream",
     "text": [
      "save VLL_R: 1.510522 seconds\n"
     ]
    },
    {
     "name": "stdout",
     "output_type": "stream",
     "text": [
      "RMC_L\n"
     ]
    },
    {
     "name": "stderr",
     "output_type": "stream",
     "text": [
      "Gradient RMC_L: 0.832084 seconds\n"
     ]
    },
    {
     "name": "stdout",
     "output_type": "stream",
     "text": [
      "aws s3 cp \"/shared/CSHL_volumes/MD589/MD589_down32_annotationAsScoreVolume/score_volume_gradients/MD589_down32_annotationAsScoreVolume_RMC_L_gx.bp\" \"s3://mousebrainatlas-data/CSHL_volumes/MD589/MD589_down32_annotationAsScoreVolume/score_volume_gradients/MD589_down32_annotationAsScoreVolume_RMC_L_gx.bp\"\n",
      "aws s3 cp \"/shared/CSHL_volumes/MD589/MD589_down32_annotationAsScoreVolume/score_volume_gradients/MD589_down32_annotationAsScoreVolume_RMC_L_gy.bp\" \"s3://mousebrainatlas-data/CSHL_volumes/MD589/MD589_down32_annotationAsScoreVolume/score_volume_gradients/MD589_down32_annotationAsScoreVolume_RMC_L_gy.bp\"\n",
      "aws s3 cp \"/shared/CSHL_volumes/MD589/MD589_down32_annotationAsScoreVolume/score_volume_gradients/MD589_down32_annotationAsScoreVolume_RMC_L_gz.bp\" \"s3://mousebrainatlas-data/CSHL_volumes/MD589/MD589_down32_annotationAsScoreVolume/score_volume_gradients/MD589_down32_annotationAsScoreVolume_RMC_L_gz.bp\"\n"
     ]
    },
    {
     "name": "stderr",
     "output_type": "stream",
     "text": [
      "save RMC_L: 1.469729 seconds\n"
     ]
    },
    {
     "name": "stdout",
     "output_type": "stream",
     "text": [
      "RMC_R\n"
     ]
    },
    {
     "name": "stderr",
     "output_type": "stream",
     "text": [
      "Gradient RMC_R: 0.811652 seconds\n"
     ]
    },
    {
     "name": "stdout",
     "output_type": "stream",
     "text": [
      "aws s3 cp \"/shared/CSHL_volumes/MD589/MD589_down32_annotationAsScoreVolume/score_volume_gradients/MD589_down32_annotationAsScoreVolume_RMC_R_gx.bp\" \"s3://mousebrainatlas-data/CSHL_volumes/MD589/MD589_down32_annotationAsScoreVolume/score_volume_gradients/MD589_down32_annotationAsScoreVolume_RMC_R_gx.bp\"\n",
      "aws s3 cp \"/shared/CSHL_volumes/MD589/MD589_down32_annotationAsScoreVolume/score_volume_gradients/MD589_down32_annotationAsScoreVolume_RMC_R_gy.bp\" \"s3://mousebrainatlas-data/CSHL_volumes/MD589/MD589_down32_annotationAsScoreVolume/score_volume_gradients/MD589_down32_annotationAsScoreVolume_RMC_R_gy.bp\"\n",
      "aws s3 cp \"/shared/CSHL_volumes/MD589/MD589_down32_annotationAsScoreVolume/score_volume_gradients/MD589_down32_annotationAsScoreVolume_RMC_R_gz.bp\" \"s3://mousebrainatlas-data/CSHL_volumes/MD589/MD589_down32_annotationAsScoreVolume/score_volume_gradients/MD589_down32_annotationAsScoreVolume_RMC_R_gz.bp\"\n"
     ]
    },
    {
     "name": "stderr",
     "output_type": "stream",
     "text": [
      "save RMC_R: 1.243420 seconds\n"
     ]
    },
    {
     "name": "stdout",
     "output_type": "stream",
     "text": [
      "SNC_L\n"
     ]
    },
    {
     "name": "stderr",
     "output_type": "stream",
     "text": [
      "Gradient SNC_L: 0.817630 seconds\n"
     ]
    },
    {
     "name": "stdout",
     "output_type": "stream",
     "text": [
      "aws s3 cp \"/shared/CSHL_volumes/MD589/MD589_down32_annotationAsScoreVolume/score_volume_gradients/MD589_down32_annotationAsScoreVolume_SNC_L_gx.bp\" \"s3://mousebrainatlas-data/CSHL_volumes/MD589/MD589_down32_annotationAsScoreVolume/score_volume_gradients/MD589_down32_annotationAsScoreVolume_SNC_L_gx.bp\"\n",
      "aws s3 cp \"/shared/CSHL_volumes/MD589/MD589_down32_annotationAsScoreVolume/score_volume_gradients/MD589_down32_annotationAsScoreVolume_SNC_L_gy.bp\" \"s3://mousebrainatlas-data/CSHL_volumes/MD589/MD589_down32_annotationAsScoreVolume/score_volume_gradients/MD589_down32_annotationAsScoreVolume_SNC_L_gy.bp\"\n",
      "aws s3 cp \"/shared/CSHL_volumes/MD589/MD589_down32_annotationAsScoreVolume/score_volume_gradients/MD589_down32_annotationAsScoreVolume_SNC_L_gz.bp\" \"s3://mousebrainatlas-data/CSHL_volumes/MD589/MD589_down32_annotationAsScoreVolume/score_volume_gradients/MD589_down32_annotationAsScoreVolume_SNC_L_gz.bp\"\n"
     ]
    },
    {
     "name": "stderr",
     "output_type": "stream",
     "text": [
      "save SNC_L: 1.347722 seconds\n"
     ]
    },
    {
     "name": "stdout",
     "output_type": "stream",
     "text": [
      "SNC_R\n"
     ]
    },
    {
     "name": "stderr",
     "output_type": "stream",
     "text": [
      "Gradient SNC_R: 0.834726 seconds\n"
     ]
    },
    {
     "name": "stdout",
     "output_type": "stream",
     "text": [
      "aws s3 cp \"/shared/CSHL_volumes/MD589/MD589_down32_annotationAsScoreVolume/score_volume_gradients/MD589_down32_annotationAsScoreVolume_SNC_R_gx.bp\" \"s3://mousebrainatlas-data/CSHL_volumes/MD589/MD589_down32_annotationAsScoreVolume/score_volume_gradients/MD589_down32_annotationAsScoreVolume_SNC_R_gx.bp\"\n",
      "aws s3 cp \"/shared/CSHL_volumes/MD589/MD589_down32_annotationAsScoreVolume/score_volume_gradients/MD589_down32_annotationAsScoreVolume_SNC_R_gy.bp\" \"s3://mousebrainatlas-data/CSHL_volumes/MD589/MD589_down32_annotationAsScoreVolume/score_volume_gradients/MD589_down32_annotationAsScoreVolume_SNC_R_gy.bp\"\n",
      "aws s3 cp \"/shared/CSHL_volumes/MD589/MD589_down32_annotationAsScoreVolume/score_volume_gradients/MD589_down32_annotationAsScoreVolume_SNC_R_gz.bp\" \"s3://mousebrainatlas-data/CSHL_volumes/MD589/MD589_down32_annotationAsScoreVolume/score_volume_gradients/MD589_down32_annotationAsScoreVolume_SNC_R_gz.bp\"\n"
     ]
    },
    {
     "name": "stderr",
     "output_type": "stream",
     "text": [
      "save SNC_R: 1.469361 seconds\n"
     ]
    },
    {
     "name": "stdout",
     "output_type": "stream",
     "text": [
      "SNR_L\n"
     ]
    },
    {
     "name": "stderr",
     "output_type": "stream",
     "text": [
      "Gradient SNR_L: 0.833456 seconds\n"
     ]
    },
    {
     "name": "stdout",
     "output_type": "stream",
     "text": [
      "aws s3 cp \"/shared/CSHL_volumes/MD589/MD589_down32_annotationAsScoreVolume/score_volume_gradients/MD589_down32_annotationAsScoreVolume_SNR_L_gx.bp\" \"s3://mousebrainatlas-data/CSHL_volumes/MD589/MD589_down32_annotationAsScoreVolume/score_volume_gradients/MD589_down32_annotationAsScoreVolume_SNR_L_gx.bp\"\n",
      "aws s3 cp \"/shared/CSHL_volumes/MD589/MD589_down32_annotationAsScoreVolume/score_volume_gradients/MD589_down32_annotationAsScoreVolume_SNR_L_gy.bp\" \"s3://mousebrainatlas-data/CSHL_volumes/MD589/MD589_down32_annotationAsScoreVolume/score_volume_gradients/MD589_down32_annotationAsScoreVolume_SNR_L_gy.bp\"\n",
      "aws s3 cp \"/shared/CSHL_volumes/MD589/MD589_down32_annotationAsScoreVolume/score_volume_gradients/MD589_down32_annotationAsScoreVolume_SNR_L_gz.bp\" \"s3://mousebrainatlas-data/CSHL_volumes/MD589/MD589_down32_annotationAsScoreVolume/score_volume_gradients/MD589_down32_annotationAsScoreVolume_SNR_L_gz.bp\"\n"
     ]
    },
    {
     "name": "stderr",
     "output_type": "stream",
     "text": [
      "save SNR_L: 1.408928 seconds\n"
     ]
    },
    {
     "name": "stdout",
     "output_type": "stream",
     "text": [
      "SNR_R\n"
     ]
    },
    {
     "name": "stderr",
     "output_type": "stream",
     "text": [
      "Gradient SNR_R: 0.833929 seconds\n"
     ]
    },
    {
     "name": "stdout",
     "output_type": "stream",
     "text": [
      "aws s3 cp \"/shared/CSHL_volumes/MD589/MD589_down32_annotationAsScoreVolume/score_volume_gradients/MD589_down32_annotationAsScoreVolume_SNR_R_gx.bp\" \"s3://mousebrainatlas-data/CSHL_volumes/MD589/MD589_down32_annotationAsScoreVolume/score_volume_gradients/MD589_down32_annotationAsScoreVolume_SNR_R_gx.bp\"\n",
      "aws s3 cp \"/shared/CSHL_volumes/MD589/MD589_down32_annotationAsScoreVolume/score_volume_gradients/MD589_down32_annotationAsScoreVolume_SNR_R_gy.bp\" \"s3://mousebrainatlas-data/CSHL_volumes/MD589/MD589_down32_annotationAsScoreVolume/score_volume_gradients/MD589_down32_annotationAsScoreVolume_SNR_R_gy.bp\"\n",
      "aws s3 cp \"/shared/CSHL_volumes/MD589/MD589_down32_annotationAsScoreVolume/score_volume_gradients/MD589_down32_annotationAsScoreVolume_SNR_R_gz.bp\" \"s3://mousebrainatlas-data/CSHL_volumes/MD589/MD589_down32_annotationAsScoreVolume/score_volume_gradients/MD589_down32_annotationAsScoreVolume_SNR_R_gz.bp\"\n"
     ]
    },
    {
     "name": "stderr",
     "output_type": "stream",
     "text": [
      "save SNR_R: 1.496786 seconds\n"
     ]
    },
    {
     "name": "stdout",
     "output_type": "stream",
     "text": [
      "3N_L\n"
     ]
    },
    {
     "name": "stderr",
     "output_type": "stream",
     "text": [
      "Gradient 3N_L: 0.833998 seconds\n"
     ]
    },
    {
     "name": "stdout",
     "output_type": "stream",
     "text": [
      "aws s3 cp \"/shared/CSHL_volumes/MD589/MD589_down32_annotationAsScoreVolume/score_volume_gradients/MD589_down32_annotationAsScoreVolume_3N_L_gx.bp\" \"s3://mousebrainatlas-data/CSHL_volumes/MD589/MD589_down32_annotationAsScoreVolume/score_volume_gradients/MD589_down32_annotationAsScoreVolume_3N_L_gx.bp\"\n",
      "aws s3 cp \"/shared/CSHL_volumes/MD589/MD589_down32_annotationAsScoreVolume/score_volume_gradients/MD589_down32_annotationAsScoreVolume_3N_L_gy.bp\" \"s3://mousebrainatlas-data/CSHL_volumes/MD589/MD589_down32_annotationAsScoreVolume/score_volume_gradients/MD589_down32_annotationAsScoreVolume_3N_L_gy.bp\"\n",
      "aws s3 cp \"/shared/CSHL_volumes/MD589/MD589_down32_annotationAsScoreVolume/score_volume_gradients/MD589_down32_annotationAsScoreVolume_3N_L_gz.bp\" \"s3://mousebrainatlas-data/CSHL_volumes/MD589/MD589_down32_annotationAsScoreVolume/score_volume_gradients/MD589_down32_annotationAsScoreVolume_3N_L_gz.bp\"\n"
     ]
    },
    {
     "name": "stderr",
     "output_type": "stream",
     "text": [
      "save 3N_L: 1.346947 seconds\n"
     ]
    },
    {
     "name": "stdout",
     "output_type": "stream",
     "text": [
      "3N_R\n"
     ]
    },
    {
     "name": "stderr",
     "output_type": "stream",
     "text": [
      "Gradient 3N_R: 0.816378 seconds\n"
     ]
    },
    {
     "name": "stdout",
     "output_type": "stream",
     "text": [
      "aws s3 cp \"/shared/CSHL_volumes/MD589/MD589_down32_annotationAsScoreVolume/score_volume_gradients/MD589_down32_annotationAsScoreVolume_3N_R_gx.bp\" \"s3://mousebrainatlas-data/CSHL_volumes/MD589/MD589_down32_annotationAsScoreVolume/score_volume_gradients/MD589_down32_annotationAsScoreVolume_3N_R_gx.bp\"\n",
      "aws s3 cp \"/shared/CSHL_volumes/MD589/MD589_down32_annotationAsScoreVolume/score_volume_gradients/MD589_down32_annotationAsScoreVolume_3N_R_gy.bp\" \"s3://mousebrainatlas-data/CSHL_volumes/MD589/MD589_down32_annotationAsScoreVolume/score_volume_gradients/MD589_down32_annotationAsScoreVolume_3N_R_gy.bp\"\n",
      "aws s3 cp \"/shared/CSHL_volumes/MD589/MD589_down32_annotationAsScoreVolume/score_volume_gradients/MD589_down32_annotationAsScoreVolume_3N_R_gz.bp\" \"s3://mousebrainatlas-data/CSHL_volumes/MD589/MD589_down32_annotationAsScoreVolume/score_volume_gradients/MD589_down32_annotationAsScoreVolume_3N_R_gz.bp\"\n"
     ]
    },
    {
     "name": "stderr",
     "output_type": "stream",
     "text": [
      "save 3N_R: 1.381043 seconds\n"
     ]
    },
    {
     "name": "stdout",
     "output_type": "stream",
     "text": [
      "4N_L\n"
     ]
    },
    {
     "name": "stderr",
     "output_type": "stream",
     "text": [
      "Gradient 4N_L: 0.815363 seconds\n"
     ]
    },
    {
     "name": "stdout",
     "output_type": "stream",
     "text": [
      "aws s3 cp \"/shared/CSHL_volumes/MD589/MD589_down32_annotationAsScoreVolume/score_volume_gradients/MD589_down32_annotationAsScoreVolume_4N_L_gx.bp\" \"s3://mousebrainatlas-data/CSHL_volumes/MD589/MD589_down32_annotationAsScoreVolume/score_volume_gradients/MD589_down32_annotationAsScoreVolume_4N_L_gx.bp\"\n",
      "aws s3 cp \"/shared/CSHL_volumes/MD589/MD589_down32_annotationAsScoreVolume/score_volume_gradients/MD589_down32_annotationAsScoreVolume_4N_L_gy.bp\" \"s3://mousebrainatlas-data/CSHL_volumes/MD589/MD589_down32_annotationAsScoreVolume/score_volume_gradients/MD589_down32_annotationAsScoreVolume_4N_L_gy.bp\"\n",
      "aws s3 cp \"/shared/CSHL_volumes/MD589/MD589_down32_annotationAsScoreVolume/score_volume_gradients/MD589_down32_annotationAsScoreVolume_4N_L_gz.bp\" \"s3://mousebrainatlas-data/CSHL_volumes/MD589/MD589_down32_annotationAsScoreVolume/score_volume_gradients/MD589_down32_annotationAsScoreVolume_4N_L_gz.bp\"\n"
     ]
    },
    {
     "name": "stderr",
     "output_type": "stream",
     "text": [
      "save 4N_L: 1.932810 seconds\n"
     ]
    },
    {
     "name": "stdout",
     "output_type": "stream",
     "text": [
      "4N_R\n"
     ]
    },
    {
     "name": "stderr",
     "output_type": "stream",
     "text": [
      "Gradient 4N_R: 0.820746 seconds\n"
     ]
    },
    {
     "name": "stdout",
     "output_type": "stream",
     "text": [
      "aws s3 cp \"/shared/CSHL_volumes/MD589/MD589_down32_annotationAsScoreVolume/score_volume_gradients/MD589_down32_annotationAsScoreVolume_4N_R_gx.bp\" \"s3://mousebrainatlas-data/CSHL_volumes/MD589/MD589_down32_annotationAsScoreVolume/score_volume_gradients/MD589_down32_annotationAsScoreVolume_4N_R_gx.bp\"\n",
      "aws s3 cp \"/shared/CSHL_volumes/MD589/MD589_down32_annotationAsScoreVolume/score_volume_gradients/MD589_down32_annotationAsScoreVolume_4N_R_gy.bp\" \"s3://mousebrainatlas-data/CSHL_volumes/MD589/MD589_down32_annotationAsScoreVolume/score_volume_gradients/MD589_down32_annotationAsScoreVolume_4N_R_gy.bp\"\n",
      "aws s3 cp \"/shared/CSHL_volumes/MD589/MD589_down32_annotationAsScoreVolume/score_volume_gradients/MD589_down32_annotationAsScoreVolume_4N_R_gz.bp\" \"s3://mousebrainatlas-data/CSHL_volumes/MD589/MD589_down32_annotationAsScoreVolume/score_volume_gradients/MD589_down32_annotationAsScoreVolume_4N_R_gz.bp\"\n"
     ]
    },
    {
     "name": "stderr",
     "output_type": "stream",
     "text": [
      "save 4N_R: 1.375399 seconds\n"
     ]
    },
    {
     "name": "stdout",
     "output_type": "stream",
     "text": [
      "Sp5I_L\n"
     ]
    },
    {
     "name": "stderr",
     "output_type": "stream",
     "text": [
      "Gradient Sp5I_L: 0.816590 seconds\n"
     ]
    },
    {
     "name": "stdout",
     "output_type": "stream",
     "text": [
      "aws s3 cp \"/shared/CSHL_volumes/MD589/MD589_down32_annotationAsScoreVolume/score_volume_gradients/MD589_down32_annotationAsScoreVolume_Sp5I_L_gx.bp\" \"s3://mousebrainatlas-data/CSHL_volumes/MD589/MD589_down32_annotationAsScoreVolume/score_volume_gradients/MD589_down32_annotationAsScoreVolume_Sp5I_L_gx.bp\"\n",
      "aws s3 cp \"/shared/CSHL_volumes/MD589/MD589_down32_annotationAsScoreVolume/score_volume_gradients/MD589_down32_annotationAsScoreVolume_Sp5I_L_gy.bp\" \"s3://mousebrainatlas-data/CSHL_volumes/MD589/MD589_down32_annotationAsScoreVolume/score_volume_gradients/MD589_down32_annotationAsScoreVolume_Sp5I_L_gy.bp\"\n",
      "aws s3 cp \"/shared/CSHL_volumes/MD589/MD589_down32_annotationAsScoreVolume/score_volume_gradients/MD589_down32_annotationAsScoreVolume_Sp5I_L_gz.bp\" \"s3://mousebrainatlas-data/CSHL_volumes/MD589/MD589_down32_annotationAsScoreVolume/score_volume_gradients/MD589_down32_annotationAsScoreVolume_Sp5I_L_gz.bp\"\n"
     ]
    },
    {
     "name": "stderr",
     "output_type": "stream",
     "text": [
      "save Sp5I_L: 1.433230 seconds\n"
     ]
    },
    {
     "name": "stdout",
     "output_type": "stream",
     "text": [
      "Sp5I_R\n"
     ]
    },
    {
     "name": "stderr",
     "output_type": "stream",
     "text": [
      "Gradient Sp5I_R: 0.817459 seconds\n"
     ]
    },
    {
     "name": "stdout",
     "output_type": "stream",
     "text": [
      "aws s3 cp \"/shared/CSHL_volumes/MD589/MD589_down32_annotationAsScoreVolume/score_volume_gradients/MD589_down32_annotationAsScoreVolume_Sp5I_R_gx.bp\" \"s3://mousebrainatlas-data/CSHL_volumes/MD589/MD589_down32_annotationAsScoreVolume/score_volume_gradients/MD589_down32_annotationAsScoreVolume_Sp5I_R_gx.bp\"\n",
      "aws s3 cp \"/shared/CSHL_volumes/MD589/MD589_down32_annotationAsScoreVolume/score_volume_gradients/MD589_down32_annotationAsScoreVolume_Sp5I_R_gy.bp\" \"s3://mousebrainatlas-data/CSHL_volumes/MD589/MD589_down32_annotationAsScoreVolume/score_volume_gradients/MD589_down32_annotationAsScoreVolume_Sp5I_R_gy.bp\"\n",
      "aws s3 cp \"/shared/CSHL_volumes/MD589/MD589_down32_annotationAsScoreVolume/score_volume_gradients/MD589_down32_annotationAsScoreVolume_Sp5I_R_gz.bp\" \"s3://mousebrainatlas-data/CSHL_volumes/MD589/MD589_down32_annotationAsScoreVolume/score_volume_gradients/MD589_down32_annotationAsScoreVolume_Sp5I_R_gz.bp\"\n"
     ]
    },
    {
     "name": "stderr",
     "output_type": "stream",
     "text": [
      "save Sp5I_R: 1.428366 seconds\n"
     ]
    },
    {
     "name": "stdout",
     "output_type": "stream",
     "text": [
      "Sp5O_L\n"
     ]
    },
    {
     "name": "stderr",
     "output_type": "stream",
     "text": [
      "Gradient Sp5O_L: 0.815378 seconds\n"
     ]
    },
    {
     "name": "stdout",
     "output_type": "stream",
     "text": [
      "aws s3 cp \"/shared/CSHL_volumes/MD589/MD589_down32_annotationAsScoreVolume/score_volume_gradients/MD589_down32_annotationAsScoreVolume_Sp5O_L_gx.bp\" \"s3://mousebrainatlas-data/CSHL_volumes/MD589/MD589_down32_annotationAsScoreVolume/score_volume_gradients/MD589_down32_annotationAsScoreVolume_Sp5O_L_gx.bp\"\n",
      "aws s3 cp \"/shared/CSHL_volumes/MD589/MD589_down32_annotationAsScoreVolume/score_volume_gradients/MD589_down32_annotationAsScoreVolume_Sp5O_L_gy.bp\" \"s3://mousebrainatlas-data/CSHL_volumes/MD589/MD589_down32_annotationAsScoreVolume/score_volume_gradients/MD589_down32_annotationAsScoreVolume_Sp5O_L_gy.bp\"\n",
      "aws s3 cp \"/shared/CSHL_volumes/MD589/MD589_down32_annotationAsScoreVolume/score_volume_gradients/MD589_down32_annotationAsScoreVolume_Sp5O_L_gz.bp\" \"s3://mousebrainatlas-data/CSHL_volumes/MD589/MD589_down32_annotationAsScoreVolume/score_volume_gradients/MD589_down32_annotationAsScoreVolume_Sp5O_L_gz.bp\"\n"
     ]
    },
    {
     "name": "stderr",
     "output_type": "stream",
     "text": [
      "save Sp5O_L: 1.396789 seconds\n"
     ]
    },
    {
     "name": "stdout",
     "output_type": "stream",
     "text": [
      "Sp5O_R\n"
     ]
    },
    {
     "name": "stderr",
     "output_type": "stream",
     "text": [
      "Gradient Sp5O_R: 0.835629 seconds\n"
     ]
    },
    {
     "name": "stdout",
     "output_type": "stream",
     "text": [
      "aws s3 cp \"/shared/CSHL_volumes/MD589/MD589_down32_annotationAsScoreVolume/score_volume_gradients/MD589_down32_annotationAsScoreVolume_Sp5O_R_gx.bp\" \"s3://mousebrainatlas-data/CSHL_volumes/MD589/MD589_down32_annotationAsScoreVolume/score_volume_gradients/MD589_down32_annotationAsScoreVolume_Sp5O_R_gx.bp\"\n",
      "aws s3 cp \"/shared/CSHL_volumes/MD589/MD589_down32_annotationAsScoreVolume/score_volume_gradients/MD589_down32_annotationAsScoreVolume_Sp5O_R_gy.bp\" \"s3://mousebrainatlas-data/CSHL_volumes/MD589/MD589_down32_annotationAsScoreVolume/score_volume_gradients/MD589_down32_annotationAsScoreVolume_Sp5O_R_gy.bp\"\n",
      "aws s3 cp \"/shared/CSHL_volumes/MD589/MD589_down32_annotationAsScoreVolume/score_volume_gradients/MD589_down32_annotationAsScoreVolume_Sp5O_R_gz.bp\" \"s3://mousebrainatlas-data/CSHL_volumes/MD589/MD589_down32_annotationAsScoreVolume/score_volume_gradients/MD589_down32_annotationAsScoreVolume_Sp5O_R_gz.bp\"\n"
     ]
    },
    {
     "name": "stderr",
     "output_type": "stream",
     "text": [
      "save Sp5O_R: 1.417364 seconds\n"
     ]
    },
    {
     "name": "stdout",
     "output_type": "stream",
     "text": [
      "Sp5C_L\n"
     ]
    },
    {
     "name": "stderr",
     "output_type": "stream",
     "text": [
      "Gradient Sp5C_L: 0.833991 seconds\n"
     ]
    },
    {
     "name": "stdout",
     "output_type": "stream",
     "text": [
      "aws s3 cp \"/shared/CSHL_volumes/MD589/MD589_down32_annotationAsScoreVolume/score_volume_gradients/MD589_down32_annotationAsScoreVolume_Sp5C_L_gx.bp\" \"s3://mousebrainatlas-data/CSHL_volumes/MD589/MD589_down32_annotationAsScoreVolume/score_volume_gradients/MD589_down32_annotationAsScoreVolume_Sp5C_L_gx.bp\"\n",
      "aws s3 cp \"/shared/CSHL_volumes/MD589/MD589_down32_annotationAsScoreVolume/score_volume_gradients/MD589_down32_annotationAsScoreVolume_Sp5C_L_gy.bp\" \"s3://mousebrainatlas-data/CSHL_volumes/MD589/MD589_down32_annotationAsScoreVolume/score_volume_gradients/MD589_down32_annotationAsScoreVolume_Sp5C_L_gy.bp\"\n",
      "aws s3 cp \"/shared/CSHL_volumes/MD589/MD589_down32_annotationAsScoreVolume/score_volume_gradients/MD589_down32_annotationAsScoreVolume_Sp5C_L_gz.bp\" \"s3://mousebrainatlas-data/CSHL_volumes/MD589/MD589_down32_annotationAsScoreVolume/score_volume_gradients/MD589_down32_annotationAsScoreVolume_Sp5C_L_gz.bp\"\n"
     ]
    },
    {
     "name": "stderr",
     "output_type": "stream",
     "text": [
      "save Sp5C_L: 1.614265 seconds\n"
     ]
    },
    {
     "name": "stdout",
     "output_type": "stream",
     "text": [
      "Sp5C_R\n"
     ]
    },
    {
     "name": "stderr",
     "output_type": "stream",
     "text": [
      "Gradient Sp5C_R: 0.836609 seconds\n"
     ]
    },
    {
     "name": "stdout",
     "output_type": "stream",
     "text": [
      "aws s3 cp \"/shared/CSHL_volumes/MD589/MD589_down32_annotationAsScoreVolume/score_volume_gradients/MD589_down32_annotationAsScoreVolume_Sp5C_R_gx.bp\" \"s3://mousebrainatlas-data/CSHL_volumes/MD589/MD589_down32_annotationAsScoreVolume/score_volume_gradients/MD589_down32_annotationAsScoreVolume_Sp5C_R_gx.bp\"\n",
      "aws s3 cp \"/shared/CSHL_volumes/MD589/MD589_down32_annotationAsScoreVolume/score_volume_gradients/MD589_down32_annotationAsScoreVolume_Sp5C_R_gy.bp\" \"s3://mousebrainatlas-data/CSHL_volumes/MD589/MD589_down32_annotationAsScoreVolume/score_volume_gradients/MD589_down32_annotationAsScoreVolume_Sp5C_R_gy.bp\"\n",
      "aws s3 cp \"/shared/CSHL_volumes/MD589/MD589_down32_annotationAsScoreVolume/score_volume_gradients/MD589_down32_annotationAsScoreVolume_Sp5C_R_gz.bp\" \"s3://mousebrainatlas-data/CSHL_volumes/MD589/MD589_down32_annotationAsScoreVolume/score_volume_gradients/MD589_down32_annotationAsScoreVolume_Sp5C_R_gz.bp\"\n"
     ]
    },
    {
     "name": "stderr",
     "output_type": "stream",
     "text": [
      "save Sp5C_R: 1.518293 seconds\n"
     ]
    },
    {
     "name": "stdout",
     "output_type": "stream",
     "text": [
      "PBG_L\n"
     ]
    },
    {
     "name": "stderr",
     "output_type": "stream",
     "text": [
      "Gradient PBG_L: 0.820221 seconds\n"
     ]
    },
    {
     "name": "stdout",
     "output_type": "stream",
     "text": [
      "aws s3 cp \"/shared/CSHL_volumes/MD589/MD589_down32_annotationAsScoreVolume/score_volume_gradients/MD589_down32_annotationAsScoreVolume_PBG_L_gx.bp\" \"s3://mousebrainatlas-data/CSHL_volumes/MD589/MD589_down32_annotationAsScoreVolume/score_volume_gradients/MD589_down32_annotationAsScoreVolume_PBG_L_gx.bp\"\n",
      "aws s3 cp \"/shared/CSHL_volumes/MD589/MD589_down32_annotationAsScoreVolume/score_volume_gradients/MD589_down32_annotationAsScoreVolume_PBG_L_gy.bp\" \"s3://mousebrainatlas-data/CSHL_volumes/MD589/MD589_down32_annotationAsScoreVolume/score_volume_gradients/MD589_down32_annotationAsScoreVolume_PBG_L_gy.bp\"\n",
      "aws s3 cp \"/shared/CSHL_volumes/MD589/MD589_down32_annotationAsScoreVolume/score_volume_gradients/MD589_down32_annotationAsScoreVolume_PBG_L_gz.bp\" \"s3://mousebrainatlas-data/CSHL_volumes/MD589/MD589_down32_annotationAsScoreVolume/score_volume_gradients/MD589_down32_annotationAsScoreVolume_PBG_L_gz.bp\"\n"
     ]
    },
    {
     "name": "stderr",
     "output_type": "stream",
     "text": [
      "save PBG_L: 1.388357 seconds\n"
     ]
    },
    {
     "name": "stdout",
     "output_type": "stream",
     "text": [
      "PBG_R\n"
     ]
    },
    {
     "name": "stderr",
     "output_type": "stream",
     "text": [
      "Gradient PBG_R: 0.836802 seconds\n"
     ]
    },
    {
     "name": "stdout",
     "output_type": "stream",
     "text": [
      "aws s3 cp \"/shared/CSHL_volumes/MD589/MD589_down32_annotationAsScoreVolume/score_volume_gradients/MD589_down32_annotationAsScoreVolume_PBG_R_gx.bp\" \"s3://mousebrainatlas-data/CSHL_volumes/MD589/MD589_down32_annotationAsScoreVolume/score_volume_gradients/MD589_down32_annotationAsScoreVolume_PBG_R_gx.bp\"\n",
      "aws s3 cp \"/shared/CSHL_volumes/MD589/MD589_down32_annotationAsScoreVolume/score_volume_gradients/MD589_down32_annotationAsScoreVolume_PBG_R_gy.bp\" \"s3://mousebrainatlas-data/CSHL_volumes/MD589/MD589_down32_annotationAsScoreVolume/score_volume_gradients/MD589_down32_annotationAsScoreVolume_PBG_R_gy.bp\"\n",
      "aws s3 cp \"/shared/CSHL_volumes/MD589/MD589_down32_annotationAsScoreVolume/score_volume_gradients/MD589_down32_annotationAsScoreVolume_PBG_R_gz.bp\" \"s3://mousebrainatlas-data/CSHL_volumes/MD589/MD589_down32_annotationAsScoreVolume/score_volume_gradients/MD589_down32_annotationAsScoreVolume_PBG_R_gz.bp\"\n"
     ]
    },
    {
     "name": "stderr",
     "output_type": "stream",
     "text": [
      "save PBG_R: 1.945809 seconds\n"
     ]
    },
    {
     "name": "stdout",
     "output_type": "stream",
     "text": [
      "10N_L\n"
     ]
    },
    {
     "name": "stderr",
     "output_type": "stream",
     "text": [
      "Gradient 10N_L: 0.836264 seconds\n"
     ]
    },
    {
     "name": "stdout",
     "output_type": "stream",
     "text": [
      "aws s3 cp \"/shared/CSHL_volumes/MD589/MD589_down32_annotationAsScoreVolume/score_volume_gradients/MD589_down32_annotationAsScoreVolume_10N_L_gx.bp\" \"s3://mousebrainatlas-data/CSHL_volumes/MD589/MD589_down32_annotationAsScoreVolume/score_volume_gradients/MD589_down32_annotationAsScoreVolume_10N_L_gx.bp\"\n",
      "aws s3 cp \"/shared/CSHL_volumes/MD589/MD589_down32_annotationAsScoreVolume/score_volume_gradients/MD589_down32_annotationAsScoreVolume_10N_L_gy.bp\" \"s3://mousebrainatlas-data/CSHL_volumes/MD589/MD589_down32_annotationAsScoreVolume/score_volume_gradients/MD589_down32_annotationAsScoreVolume_10N_L_gy.bp\"\n",
      "aws s3 cp \"/shared/CSHL_volumes/MD589/MD589_down32_annotationAsScoreVolume/score_volume_gradients/MD589_down32_annotationAsScoreVolume_10N_L_gz.bp\" \"s3://mousebrainatlas-data/CSHL_volumes/MD589/MD589_down32_annotationAsScoreVolume/score_volume_gradients/MD589_down32_annotationAsScoreVolume_10N_L_gz.bp\"\n"
     ]
    },
    {
     "name": "stderr",
     "output_type": "stream",
     "text": [
      "save 10N_L: 1.487559 seconds\n"
     ]
    },
    {
     "name": "stdout",
     "output_type": "stream",
     "text": [
      "10N_R\n"
     ]
    },
    {
     "name": "stderr",
     "output_type": "stream",
     "text": [
      "Gradient 10N_R: 0.837920 seconds\n"
     ]
    },
    {
     "name": "stdout",
     "output_type": "stream",
     "text": [
      "aws s3 cp \"/shared/CSHL_volumes/MD589/MD589_down32_annotationAsScoreVolume/score_volume_gradients/MD589_down32_annotationAsScoreVolume_10N_R_gx.bp\" \"s3://mousebrainatlas-data/CSHL_volumes/MD589/MD589_down32_annotationAsScoreVolume/score_volume_gradients/MD589_down32_annotationAsScoreVolume_10N_R_gx.bp\"\n",
      "aws s3 cp \"/shared/CSHL_volumes/MD589/MD589_down32_annotationAsScoreVolume/score_volume_gradients/MD589_down32_annotationAsScoreVolume_10N_R_gy.bp\" \"s3://mousebrainatlas-data/CSHL_volumes/MD589/MD589_down32_annotationAsScoreVolume/score_volume_gradients/MD589_down32_annotationAsScoreVolume_10N_R_gy.bp\"\n",
      "aws s3 cp \"/shared/CSHL_volumes/MD589/MD589_down32_annotationAsScoreVolume/score_volume_gradients/MD589_down32_annotationAsScoreVolume_10N_R_gz.bp\" \"s3://mousebrainatlas-data/CSHL_volumes/MD589/MD589_down32_annotationAsScoreVolume/score_volume_gradients/MD589_down32_annotationAsScoreVolume_10N_R_gz.bp\"\n"
     ]
    },
    {
     "name": "stderr",
     "output_type": "stream",
     "text": [
      "save 10N_R: 1.580506 seconds\n"
     ]
    },
    {
     "name": "stdout",
     "output_type": "stream",
     "text": [
      "VCA_L\n"
     ]
    },
    {
     "name": "stderr",
     "output_type": "stream",
     "text": [
      "Gradient VCA_L: 0.837881 seconds\n"
     ]
    },
    {
     "name": "stdout",
     "output_type": "stream",
     "text": [
      "aws s3 cp \"/shared/CSHL_volumes/MD589/MD589_down32_annotationAsScoreVolume/score_volume_gradients/MD589_down32_annotationAsScoreVolume_VCA_L_gx.bp\" \"s3://mousebrainatlas-data/CSHL_volumes/MD589/MD589_down32_annotationAsScoreVolume/score_volume_gradients/MD589_down32_annotationAsScoreVolume_VCA_L_gx.bp\"\n",
      "aws s3 cp \"/shared/CSHL_volumes/MD589/MD589_down32_annotationAsScoreVolume/score_volume_gradients/MD589_down32_annotationAsScoreVolume_VCA_L_gy.bp\" \"s3://mousebrainatlas-data/CSHL_volumes/MD589/MD589_down32_annotationAsScoreVolume/score_volume_gradients/MD589_down32_annotationAsScoreVolume_VCA_L_gy.bp\"\n",
      "aws s3 cp \"/shared/CSHL_volumes/MD589/MD589_down32_annotationAsScoreVolume/score_volume_gradients/MD589_down32_annotationAsScoreVolume_VCA_L_gz.bp\" \"s3://mousebrainatlas-data/CSHL_volumes/MD589/MD589_down32_annotationAsScoreVolume/score_volume_gradients/MD589_down32_annotationAsScoreVolume_VCA_L_gz.bp\"\n"
     ]
    },
    {
     "name": "stderr",
     "output_type": "stream",
     "text": [
      "save VCA_L: 1.539828 seconds\n"
     ]
    },
    {
     "name": "stdout",
     "output_type": "stream",
     "text": [
      "VCA_R\n"
     ]
    },
    {
     "name": "stderr",
     "output_type": "stream",
     "text": [
      "Gradient VCA_R: 0.816885 seconds\n"
     ]
    },
    {
     "name": "stdout",
     "output_type": "stream",
     "text": [
      "aws s3 cp \"/shared/CSHL_volumes/MD589/MD589_down32_annotationAsScoreVolume/score_volume_gradients/MD589_down32_annotationAsScoreVolume_VCA_R_gx.bp\" \"s3://mousebrainatlas-data/CSHL_volumes/MD589/MD589_down32_annotationAsScoreVolume/score_volume_gradients/MD589_down32_annotationAsScoreVolume_VCA_R_gx.bp\"\n",
      "aws s3 cp \"/shared/CSHL_volumes/MD589/MD589_down32_annotationAsScoreVolume/score_volume_gradients/MD589_down32_annotationAsScoreVolume_VCA_R_gy.bp\" \"s3://mousebrainatlas-data/CSHL_volumes/MD589/MD589_down32_annotationAsScoreVolume/score_volume_gradients/MD589_down32_annotationAsScoreVolume_VCA_R_gy.bp\"\n",
      "aws s3 cp \"/shared/CSHL_volumes/MD589/MD589_down32_annotationAsScoreVolume/score_volume_gradients/MD589_down32_annotationAsScoreVolume_VCA_R_gz.bp\" \"s3://mousebrainatlas-data/CSHL_volumes/MD589/MD589_down32_annotationAsScoreVolume/score_volume_gradients/MD589_down32_annotationAsScoreVolume_VCA_R_gz.bp\"\n"
     ]
    },
    {
     "name": "stderr",
     "output_type": "stream",
     "text": [
      "save VCA_R: 1.437136 seconds\n"
     ]
    },
    {
     "name": "stdout",
     "output_type": "stream",
     "text": [
      "VCP_L\n"
     ]
    },
    {
     "name": "stderr",
     "output_type": "stream",
     "text": [
      "Gradient VCP_L: 0.815364 seconds\n"
     ]
    },
    {
     "name": "stdout",
     "output_type": "stream",
     "text": [
      "aws s3 cp \"/shared/CSHL_volumes/MD589/MD589_down32_annotationAsScoreVolume/score_volume_gradients/MD589_down32_annotationAsScoreVolume_VCP_L_gx.bp\" \"s3://mousebrainatlas-data/CSHL_volumes/MD589/MD589_down32_annotationAsScoreVolume/score_volume_gradients/MD589_down32_annotationAsScoreVolume_VCP_L_gx.bp\"\n",
      "aws s3 cp \"/shared/CSHL_volumes/MD589/MD589_down32_annotationAsScoreVolume/score_volume_gradients/MD589_down32_annotationAsScoreVolume_VCP_L_gy.bp\" \"s3://mousebrainatlas-data/CSHL_volumes/MD589/MD589_down32_annotationAsScoreVolume/score_volume_gradients/MD589_down32_annotationAsScoreVolume_VCP_L_gy.bp\"\n",
      "aws s3 cp \"/shared/CSHL_volumes/MD589/MD589_down32_annotationAsScoreVolume/score_volume_gradients/MD589_down32_annotationAsScoreVolume_VCP_L_gz.bp\" \"s3://mousebrainatlas-data/CSHL_volumes/MD589/MD589_down32_annotationAsScoreVolume/score_volume_gradients/MD589_down32_annotationAsScoreVolume_VCP_L_gz.bp\"\n"
     ]
    },
    {
     "name": "stderr",
     "output_type": "stream",
     "text": [
      "save VCP_L: 1.379368 seconds\n"
     ]
    },
    {
     "name": "stdout",
     "output_type": "stream",
     "text": [
      "VCP_R\n"
     ]
    },
    {
     "name": "stderr",
     "output_type": "stream",
     "text": [
      "Gradient VCP_R: 0.817448 seconds\n"
     ]
    },
    {
     "name": "stdout",
     "output_type": "stream",
     "text": [
      "aws s3 cp \"/shared/CSHL_volumes/MD589/MD589_down32_annotationAsScoreVolume/score_volume_gradients/MD589_down32_annotationAsScoreVolume_VCP_R_gx.bp\" \"s3://mousebrainatlas-data/CSHL_volumes/MD589/MD589_down32_annotationAsScoreVolume/score_volume_gradients/MD589_down32_annotationAsScoreVolume_VCP_R_gx.bp\"\n",
      "aws s3 cp \"/shared/CSHL_volumes/MD589/MD589_down32_annotationAsScoreVolume/score_volume_gradients/MD589_down32_annotationAsScoreVolume_VCP_R_gy.bp\" \"s3://mousebrainatlas-data/CSHL_volumes/MD589/MD589_down32_annotationAsScoreVolume/score_volume_gradients/MD589_down32_annotationAsScoreVolume_VCP_R_gy.bp\"\n",
      "aws s3 cp \"/shared/CSHL_volumes/MD589/MD589_down32_annotationAsScoreVolume/score_volume_gradients/MD589_down32_annotationAsScoreVolume_VCP_R_gz.bp\" \"s3://mousebrainatlas-data/CSHL_volumes/MD589/MD589_down32_annotationAsScoreVolume/score_volume_gradients/MD589_down32_annotationAsScoreVolume_VCP_R_gz.bp\"\n"
     ]
    },
    {
     "name": "stderr",
     "output_type": "stream",
     "text": [
      "save VCP_R: 1.440941 seconds\n"
     ]
    },
    {
     "name": "stdout",
     "output_type": "stream",
     "text": [
      "DC_L\n"
     ]
    },
    {
     "name": "stderr",
     "output_type": "stream",
     "text": [
      "Gradient DC_L: 0.816011 seconds\n"
     ]
    },
    {
     "name": "stdout",
     "output_type": "stream",
     "text": [
      "aws s3 cp \"/shared/CSHL_volumes/MD589/MD589_down32_annotationAsScoreVolume/score_volume_gradients/MD589_down32_annotationAsScoreVolume_DC_L_gx.bp\" \"s3://mousebrainatlas-data/CSHL_volumes/MD589/MD589_down32_annotationAsScoreVolume/score_volume_gradients/MD589_down32_annotationAsScoreVolume_DC_L_gx.bp\"\n",
      "aws s3 cp \"/shared/CSHL_volumes/MD589/MD589_down32_annotationAsScoreVolume/score_volume_gradients/MD589_down32_annotationAsScoreVolume_DC_L_gy.bp\" \"s3://mousebrainatlas-data/CSHL_volumes/MD589/MD589_down32_annotationAsScoreVolume/score_volume_gradients/MD589_down32_annotationAsScoreVolume_DC_L_gy.bp\"\n",
      "aws s3 cp \"/shared/CSHL_volumes/MD589/MD589_down32_annotationAsScoreVolume/score_volume_gradients/MD589_down32_annotationAsScoreVolume_DC_L_gz.bp\" \"s3://mousebrainatlas-data/CSHL_volumes/MD589/MD589_down32_annotationAsScoreVolume/score_volume_gradients/MD589_down32_annotationAsScoreVolume_DC_L_gz.bp\"\n"
     ]
    },
    {
     "name": "stderr",
     "output_type": "stream",
     "text": [
      "save DC_L: 1.389205 seconds\n"
     ]
    },
    {
     "name": "stdout",
     "output_type": "stream",
     "text": [
      "DC_R\n"
     ]
    },
    {
     "name": "stderr",
     "output_type": "stream",
     "text": [
      "Gradient DC_R: 0.817124 seconds\n"
     ]
    },
    {
     "name": "stdout",
     "output_type": "stream",
     "text": [
      "aws s3 cp \"/shared/CSHL_volumes/MD589/MD589_down32_annotationAsScoreVolume/score_volume_gradients/MD589_down32_annotationAsScoreVolume_DC_R_gx.bp\" \"s3://mousebrainatlas-data/CSHL_volumes/MD589/MD589_down32_annotationAsScoreVolume/score_volume_gradients/MD589_down32_annotationAsScoreVolume_DC_R_gx.bp\"\n",
      "aws s3 cp \"/shared/CSHL_volumes/MD589/MD589_down32_annotationAsScoreVolume/score_volume_gradients/MD589_down32_annotationAsScoreVolume_DC_R_gy.bp\" \"s3://mousebrainatlas-data/CSHL_volumes/MD589/MD589_down32_annotationAsScoreVolume/score_volume_gradients/MD589_down32_annotationAsScoreVolume_DC_R_gy.bp\"\n",
      "aws s3 cp \"/shared/CSHL_volumes/MD589/MD589_down32_annotationAsScoreVolume/score_volume_gradients/MD589_down32_annotationAsScoreVolume_DC_R_gz.bp\" \"s3://mousebrainatlas-data/CSHL_volumes/MD589/MD589_down32_annotationAsScoreVolume/score_volume_gradients/MD589_down32_annotationAsScoreVolume_DC_R_gz.bp\"\n"
     ]
    },
    {
     "name": "stderr",
     "output_type": "stream",
     "text": [
      "save DC_R: 1.565854 seconds\n"
     ]
    },
    {
     "name": "stdout",
     "output_type": "stream",
     "text": [
      "AP\n"
     ]
    },
    {
     "name": "stderr",
     "output_type": "stream",
     "text": [
      "Gradient AP: 0.816915 seconds\n"
     ]
    },
    {
     "name": "stdout",
     "output_type": "stream",
     "text": [
      "aws s3 cp \"/shared/CSHL_volumes/MD589/MD589_down32_annotationAsScoreVolume/score_volume_gradients/MD589_down32_annotationAsScoreVolume_AP_gx.bp\" \"s3://mousebrainatlas-data/CSHL_volumes/MD589/MD589_down32_annotationAsScoreVolume/score_volume_gradients/MD589_down32_annotationAsScoreVolume_AP_gx.bp\"\n",
      "aws s3 cp \"/shared/CSHL_volumes/MD589/MD589_down32_annotationAsScoreVolume/score_volume_gradients/MD589_down32_annotationAsScoreVolume_AP_gy.bp\" \"s3://mousebrainatlas-data/CSHL_volumes/MD589/MD589_down32_annotationAsScoreVolume/score_volume_gradients/MD589_down32_annotationAsScoreVolume_AP_gy.bp\"\n",
      "aws s3 cp \"/shared/CSHL_volumes/MD589/MD589_down32_annotationAsScoreVolume/score_volume_gradients/MD589_down32_annotationAsScoreVolume_AP_gz.bp\" \"s3://mousebrainatlas-data/CSHL_volumes/MD589/MD589_down32_annotationAsScoreVolume/score_volume_gradients/MD589_down32_annotationAsScoreVolume_AP_gz.bp\"\n"
     ]
    },
    {
     "name": "stderr",
     "output_type": "stream",
     "text": [
      "save AP: 1.484407 seconds\n"
     ]
    },
    {
     "name": "stdout",
     "output_type": "stream",
     "text": [
      "12N\n"
     ]
    },
    {
     "name": "stderr",
     "output_type": "stream",
     "text": [
      "Gradient 12N: 0.815975 seconds\n"
     ]
    },
    {
     "name": "stdout",
     "output_type": "stream",
     "text": [
      "aws s3 cp \"/shared/CSHL_volumes/MD589/MD589_down32_annotationAsScoreVolume/score_volume_gradients/MD589_down32_annotationAsScoreVolume_12N_gx.bp\" \"s3://mousebrainatlas-data/CSHL_volumes/MD589/MD589_down32_annotationAsScoreVolume/score_volume_gradients/MD589_down32_annotationAsScoreVolume_12N_gx.bp\"\n",
      "aws s3 cp \"/shared/CSHL_volumes/MD589/MD589_down32_annotationAsScoreVolume/score_volume_gradients/MD589_down32_annotationAsScoreVolume_12N_gy.bp\" \"s3://mousebrainatlas-data/CSHL_volumes/MD589/MD589_down32_annotationAsScoreVolume/score_volume_gradients/MD589_down32_annotationAsScoreVolume_12N_gy.bp\"\n",
      "aws s3 cp \"/shared/CSHL_volumes/MD589/MD589_down32_annotationAsScoreVolume/score_volume_gradients/MD589_down32_annotationAsScoreVolume_12N_gz.bp\" \"s3://mousebrainatlas-data/CSHL_volumes/MD589/MD589_down32_annotationAsScoreVolume/score_volume_gradients/MD589_down32_annotationAsScoreVolume_12N_gz.bp\"\n"
     ]
    },
    {
     "name": "stderr",
     "output_type": "stream",
     "text": [
      "save 12N: 1.437027 seconds\n"
     ]
    },
    {
     "name": "stdout",
     "output_type": "stream",
     "text": [
      "RtTg\n"
     ]
    },
    {
     "name": "stderr",
     "output_type": "stream",
     "text": [
      "Gradient RtTg: 0.817989 seconds\n"
     ]
    },
    {
     "name": "stdout",
     "output_type": "stream",
     "text": [
      "aws s3 cp \"/shared/CSHL_volumes/MD589/MD589_down32_annotationAsScoreVolume/score_volume_gradients/MD589_down32_annotationAsScoreVolume_RtTg_gx.bp\" \"s3://mousebrainatlas-data/CSHL_volumes/MD589/MD589_down32_annotationAsScoreVolume/score_volume_gradients/MD589_down32_annotationAsScoreVolume_RtTg_gx.bp\"\n",
      "aws s3 cp \"/shared/CSHL_volumes/MD589/MD589_down32_annotationAsScoreVolume/score_volume_gradients/MD589_down32_annotationAsScoreVolume_RtTg_gy.bp\" \"s3://mousebrainatlas-data/CSHL_volumes/MD589/MD589_down32_annotationAsScoreVolume/score_volume_gradients/MD589_down32_annotationAsScoreVolume_RtTg_gy.bp\"\n",
      "aws s3 cp \"/shared/CSHL_volumes/MD589/MD589_down32_annotationAsScoreVolume/score_volume_gradients/MD589_down32_annotationAsScoreVolume_RtTg_gz.bp\" \"s3://mousebrainatlas-data/CSHL_volumes/MD589/MD589_down32_annotationAsScoreVolume/score_volume_gradients/MD589_down32_annotationAsScoreVolume_RtTg_gz.bp\"\n"
     ]
    },
    {
     "name": "stderr",
     "output_type": "stream",
     "text": [
      "save RtTg: 1.443691 seconds\n"
     ]
    },
    {
     "name": "stdout",
     "output_type": "stream",
     "text": [
      "sp5\n",
      "rm -rf \"/shared/CSHL_volumes/MD589/MD589_down32_annotationAsScoreVolume/score_volumes/MD589_down32_annotationAsScoreVolume_sp5.bp\" && mkdir -p \"/shared/CSHL_volumes/MD589/MD589_down32_annotationAsScoreVolume/score_volumes\"\n",
      "aws s3 cp \"s3://mousebrainatlas-data/CSHL_volumes/MD589/MD589_down32_annotationAsScoreVolume/score_volumes/MD589_down32_annotationAsScoreVolume_sp5.bp\" \"/shared/CSHL_volumes/MD589/MD589_down32_annotationAsScoreVolume/score_volumes/MD589_down32_annotationAsScoreVolume_sp5.bp\"\n"
     ]
    },
    {
     "name": "stderr",
     "output_type": "stream",
     "text": [
      "File does not exist: /shared/CSHL_volumes/MD589/MD589_down32_annotationAsScoreVolume/score_volumes/MD589_down32_annotationAsScoreVolume_sp5.bp\n",
      "Error computing gradient for sp5: [Errno 2] No such file or directory: '/shared/CSHL_volumes/MD589/MD589_down32_annotationAsScoreVolume/score_volumes/MD589_down32_annotationAsScoreVolume_sp5.bp'.\n"
     ]
    },
    {
     "name": "stdout",
     "output_type": "stream",
     "text": [
      "outerContour\n",
      "rm -rf \"/shared/CSHL_volumes/MD589/MD589_down32_annotationAsScoreVolume/score_volumes/MD589_down32_annotationAsScoreVolume_outerContour.bp\" && mkdir -p \"/shared/CSHL_volumes/MD589/MD589_down32_annotationAsScoreVolume/score_volumes\"\n",
      "aws s3 cp \"s3://mousebrainatlas-data/CSHL_volumes/MD589/MD589_down32_annotationAsScoreVolume/score_volumes/MD589_down32_annotationAsScoreVolume_outerContour.bp\" \"/shared/CSHL_volumes/MD589/MD589_down32_annotationAsScoreVolume/score_volumes/MD589_down32_annotationAsScoreVolume_outerContour.bp\"\n"
     ]
    },
    {
     "name": "stderr",
     "output_type": "stream",
     "text": [
      "File does not exist: /shared/CSHL_volumes/MD589/MD589_down32_annotationAsScoreVolume/score_volumes/MD589_down32_annotationAsScoreVolume_outerContour.bp\n",
      "Error computing gradient for outerContour: [Errno 2] No such file or directory: '/shared/CSHL_volumes/MD589/MD589_down32_annotationAsScoreVolume/score_volumes/MD589_down32_annotationAsScoreVolume_outerContour.bp'.\n"
     ]
    },
    {
     "name": "stdout",
     "output_type": "stream",
     "text": [
      "SC\n"
     ]
    },
    {
     "name": "stderr",
     "output_type": "stream",
     "text": [
      "Gradient SC: 0.816914 seconds\n"
     ]
    },
    {
     "name": "stdout",
     "output_type": "stream",
     "text": [
      "aws s3 cp \"/shared/CSHL_volumes/MD589/MD589_down32_annotationAsScoreVolume/score_volume_gradients/MD589_down32_annotationAsScoreVolume_SC_gx.bp\" \"s3://mousebrainatlas-data/CSHL_volumes/MD589/MD589_down32_annotationAsScoreVolume/score_volume_gradients/MD589_down32_annotationAsScoreVolume_SC_gx.bp\"\n",
      "aws s3 cp \"/shared/CSHL_volumes/MD589/MD589_down32_annotationAsScoreVolume/score_volume_gradients/MD589_down32_annotationAsScoreVolume_SC_gy.bp\" \"s3://mousebrainatlas-data/CSHL_volumes/MD589/MD589_down32_annotationAsScoreVolume/score_volume_gradients/MD589_down32_annotationAsScoreVolume_SC_gy.bp\"\n",
      "aws s3 cp \"/shared/CSHL_volumes/MD589/MD589_down32_annotationAsScoreVolume/score_volume_gradients/MD589_down32_annotationAsScoreVolume_SC_gz.bp\" \"s3://mousebrainatlas-data/CSHL_volumes/MD589/MD589_down32_annotationAsScoreVolume/score_volume_gradients/MD589_down32_annotationAsScoreVolume_SC_gz.bp\"\n"
     ]
    },
    {
     "name": "stderr",
     "output_type": "stream",
     "text": [
      "save SC: 1.517532 seconds\n"
     ]
    },
    {
     "name": "stdout",
     "output_type": "stream",
     "text": [
      "IC\n"
     ]
    },
    {
     "name": "stderr",
     "output_type": "stream",
     "text": [
      "Gradient IC: 0.817659 seconds\n"
     ]
    },
    {
     "name": "stdout",
     "output_type": "stream",
     "text": [
      "aws s3 cp \"/shared/CSHL_volumes/MD589/MD589_down32_annotationAsScoreVolume/score_volume_gradients/MD589_down32_annotationAsScoreVolume_IC_gx.bp\" \"s3://mousebrainatlas-data/CSHL_volumes/MD589/MD589_down32_annotationAsScoreVolume/score_volume_gradients/MD589_down32_annotationAsScoreVolume_IC_gx.bp\"\n",
      "aws s3 cp \"/shared/CSHL_volumes/MD589/MD589_down32_annotationAsScoreVolume/score_volume_gradients/MD589_down32_annotationAsScoreVolume_IC_gy.bp\" \"s3://mousebrainatlas-data/CSHL_volumes/MD589/MD589_down32_annotationAsScoreVolume/score_volume_gradients/MD589_down32_annotationAsScoreVolume_IC_gy.bp\"\n",
      "aws s3 cp \"/shared/CSHL_volumes/MD589/MD589_down32_annotationAsScoreVolume/score_volume_gradients/MD589_down32_annotationAsScoreVolume_IC_gz.bp\" \"s3://mousebrainatlas-data/CSHL_volumes/MD589/MD589_down32_annotationAsScoreVolume/score_volume_gradients/MD589_down32_annotationAsScoreVolume_IC_gz.bp\"\n"
     ]
    },
    {
     "name": "stderr",
     "output_type": "stream",
     "text": [
      "save IC: 1.512995 seconds\n"
     ]
    }
   ],
   "source": [
    "stack = 'MD589'\n",
    "downscale = 32\n",
    "\n",
    "for structure in all_known_structures_sided:\n",
    "    print structure\n",
    "    try:\n",
    "        volume = DataManager.load_original_volume(stack=stack, volume_type='annotationAsScore', \n",
    "                                                  structure=structure, downscale=downscale)\n",
    "\n",
    "        t = time.time()\n",
    "\n",
    "        gy_gx_gz = np.gradient(volume.astype(np.float32), 3, 3, 3)\n",
    "        # 3.3 second - re-computing is much faster than loading\n",
    "        # .astype(np.float32) is important;\n",
    "        # Otherwise the score volume is type np.float16, np.gradient requires np.float32 and will have to convert which is very slow\n",
    "        # 2s (float32) vs. 20s (float16)\n",
    "\n",
    "        sys.stderr.write('Gradient %s: %f seconds\\n' % (structure, time.time() - t))\n",
    "\n",
    "        t = time.time()\n",
    "\n",
    "        gx_fp = DataManager.get_volume_gradient_filepath(stack=stack,volume_type='annotationAsScore',  structure=structure, downscale=downscale, suffix='gx')\n",
    "        gy_fp = DataManager.get_volume_gradient_filepath(stack=stack, volume_type='annotationAsScore', structure=structure, downscale=downscale, suffix='gy')\n",
    "        gz_fp = DataManager.get_volume_gradient_filepath(stack=stack,volume_type='annotationAsScore',  structure=structure, downscale=downscale, suffix='gz')\n",
    "\n",
    "        create_parent_dir_if_not_exists(gx_fp)\n",
    "\n",
    "        bp.pack_ndarray_file(gy_gx_gz[1], gx_fp)\n",
    "        bp.pack_ndarray_file(gy_gx_gz[0], gy_fp)\n",
    "        bp.pack_ndarray_file(gy_gx_gz[2], gz_fp)\n",
    "\n",
    "        del gy_gx_gz\n",
    "        \n",
    "        upload_to_s3(gx_fp)\n",
    "        upload_to_s3(gy_fp)\n",
    "        upload_to_s3(gz_fp)\n",
    "\n",
    "        sys.stderr.write('save %s: %f seconds\\n' % (structure, time.time() - t))\n",
    "\n",
    "    except Exception as e:\n",
    "        sys.stderr.write('Error computing gradient for %s: %s.\\n' % (structure, str(e)))"
   ]
  },
  {
   "cell_type": "markdown",
   "metadata": {},
   "source": [
    "# For classifier score volume"
   ]
  },
  {
   "cell_type": "code",
   "execution_count": 2,
   "metadata": {
    "collapsed": true
   },
   "outputs": [],
   "source": [
    "stack = 'MD657'\n",
    "classifier_setting = 30\n",
    "downscale = 32"
   ]
  },
  {
   "cell_type": "markdown",
   "metadata": {},
   "source": [
    "# All structures"
   ]
  },
  {
   "cell_type": "code",
   "execution_count": 5,
   "metadata": {
    "scrolled": true
   },
   "outputs": [
    {
     "name": "stderr",
     "output_type": "stream",
     "text": [
      "File does not exist: /shared/CSHL_data_processed/MD635/MD635_anchor.txt\n",
      "File does not exist: /shared/CSHL_data_processed/MD635/MD635_sorted_filenames.txt\n",
      "File does not exist: /shared/CSHL_data_processed/MD635/MD635_cropbox.txt\n",
      "File does not exist: /shared/CSHL_data_processed/MD635/MD635_cropbox.txt\n"
     ]
    },
    {
     "name": "stdout",
     "output_type": "stream",
     "text": [
      "5N\n"
     ]
    },
    {
     "name": "stderr",
     "output_type": "stream",
     "text": [
      "Gradient 5N: 24.655552 seconds\n",
      "save 5N: 0.074307 seconds\n"
     ]
    },
    {
     "name": "stdout",
     "output_type": "stream",
     "text": [
      "6N\n"
     ]
    },
    {
     "name": "stderr",
     "output_type": "stream",
     "text": [
      "Gradient 6N: 16.155491 seconds\n",
      "save 6N: 0.072583 seconds\n"
     ]
    },
    {
     "name": "stdout",
     "output_type": "stream",
     "text": [
      "7N\n"
     ]
    },
    {
     "name": "stderr",
     "output_type": "stream",
     "text": [
      "Gradient 7N: 15.829073 seconds\n",
      "save 7N: 0.072390 seconds\n"
     ]
    },
    {
     "name": "stdout",
     "output_type": "stream",
     "text": [
      "7n\n"
     ]
    },
    {
     "name": "stderr",
     "output_type": "stream",
     "text": [
      "Gradient 7n: 15.792059 seconds\n",
      "save 7n: 0.073104 seconds\n"
     ]
    },
    {
     "name": "stdout",
     "output_type": "stream",
     "text": [
      "Amb\n"
     ]
    },
    {
     "name": "stderr",
     "output_type": "stream",
     "text": [
      "Gradient Amb: 15.826242 seconds\n",
      "save Amb: 0.072607 seconds\n"
     ]
    },
    {
     "name": "stdout",
     "output_type": "stream",
     "text": [
      "LC\n"
     ]
    },
    {
     "name": "stderr",
     "output_type": "stream",
     "text": [
      "Gradient LC: 15.530725 seconds\n",
      "save LC: 0.071931 seconds\n"
     ]
    },
    {
     "name": "stdout",
     "output_type": "stream",
     "text": [
      "LRt\n"
     ]
    },
    {
     "name": "stderr",
     "output_type": "stream",
     "text": [
      "Gradient LRt: 15.544566 seconds\n",
      "save LRt: 0.072003 seconds\n"
     ]
    },
    {
     "name": "stdout",
     "output_type": "stream",
     "text": [
      "Pn\n"
     ]
    },
    {
     "name": "stderr",
     "output_type": "stream",
     "text": [
      "Gradient Pn: 15.526288 seconds\n",
      "save Pn: 0.071837 seconds\n"
     ]
    },
    {
     "name": "stdout",
     "output_type": "stream",
     "text": [
      "Tz\n"
     ]
    },
    {
     "ename": "KeyboardInterrupt",
     "evalue": "",
     "output_type": "error",
     "traceback": [
      "\u001b[0;31m---------------------------------------------------------------------------\u001b[0m",
      "\u001b[0;31mKeyboardInterrupt\u001b[0m                         Traceback (most recent call last)",
      "\u001b[0;32m<ipython-input-5-5dc7ea8386f6>\u001b[0m in \u001b[0;36m<module>\u001b[0;34m()\u001b[0m\n\u001b[1;32m      7\u001b[0m         \u001b[0mt\u001b[0m \u001b[0;34m=\u001b[0m \u001b[0mtime\u001b[0m\u001b[0;34m.\u001b[0m\u001b[0mtime\u001b[0m\u001b[0;34m(\u001b[0m\u001b[0;34m)\u001b[0m\u001b[0;34m\u001b[0m\u001b[0m\n\u001b[1;32m      8\u001b[0m \u001b[0;34m\u001b[0m\u001b[0m\n\u001b[0;32m----> 9\u001b[0;31m         \u001b[0mgy_gx_gz\u001b[0m \u001b[0;34m=\u001b[0m \u001b[0mnp\u001b[0m\u001b[0;34m.\u001b[0m\u001b[0mgradient\u001b[0m\u001b[0;34m(\u001b[0m\u001b[0mvolume\u001b[0m\u001b[0;34m.\u001b[0m\u001b[0mastype\u001b[0m\u001b[0;34m(\u001b[0m\u001b[0mnp\u001b[0m\u001b[0;34m.\u001b[0m\u001b[0mfloat32\u001b[0m\u001b[0;34m)\u001b[0m\u001b[0;34m,\u001b[0m \u001b[0;36m3\u001b[0m\u001b[0;34m,\u001b[0m \u001b[0;36m3\u001b[0m\u001b[0;34m,\u001b[0m \u001b[0;36m3\u001b[0m\u001b[0;34m)\u001b[0m\u001b[0;34m\u001b[0m\u001b[0m\n\u001b[0m\u001b[1;32m     10\u001b[0m         \u001b[0;31m# 3.3 second - re-computing is much faster than loading\u001b[0m\u001b[0;34m\u001b[0m\u001b[0;34m\u001b[0m\u001b[0m\n\u001b[1;32m     11\u001b[0m         \u001b[0;31m# .astype(np.float32) is important;\u001b[0m\u001b[0;34m\u001b[0m\u001b[0;34m\u001b[0m\u001b[0m\n",
      "\u001b[0;32m/usr/local/lib/python2.7/dist-packages/numpy/lib/function_base.pyc\u001b[0m in \u001b[0;36mgradient\u001b[0;34m(f, *varargs, **kwargs)\u001b[0m\n\u001b[1;32m   1652\u001b[0m             \u001b[0mslice3\u001b[0m\u001b[0;34m[\u001b[0m\u001b[0maxis\u001b[0m\u001b[0;34m]\u001b[0m \u001b[0;34m=\u001b[0m \u001b[0mslice\u001b[0m\u001b[0;34m(\u001b[0m\u001b[0mNone\u001b[0m\u001b[0;34m,\u001b[0m \u001b[0;34m-\u001b[0m\u001b[0;36m2\u001b[0m\u001b[0;34m)\u001b[0m\u001b[0;34m\u001b[0m\u001b[0m\n\u001b[1;32m   1653\u001b[0m             \u001b[0;31m# 1D equivalent -- out[1:-1] = (y[2:] - y[:-2])/2.0\u001b[0m\u001b[0;34m\u001b[0m\u001b[0;34m\u001b[0m\u001b[0m\n\u001b[0;32m-> 1654\u001b[0;31m             \u001b[0mout\u001b[0m\u001b[0;34m[\u001b[0m\u001b[0mslice1\u001b[0m\u001b[0;34m]\u001b[0m \u001b[0;34m=\u001b[0m \u001b[0;34m(\u001b[0m\u001b[0my\u001b[0m\u001b[0;34m[\u001b[0m\u001b[0mslice2\u001b[0m\u001b[0;34m]\u001b[0m \u001b[0;34m-\u001b[0m \u001b[0my\u001b[0m\u001b[0;34m[\u001b[0m\u001b[0mslice3\u001b[0m\u001b[0;34m]\u001b[0m\u001b[0;34m)\u001b[0m\u001b[0;34m/\u001b[0m\u001b[0;36m2.0\u001b[0m\u001b[0;34m\u001b[0m\u001b[0m\n\u001b[0m\u001b[1;32m   1655\u001b[0m \u001b[0;34m\u001b[0m\u001b[0m\n\u001b[1;32m   1656\u001b[0m             \u001b[0mslice1\u001b[0m\u001b[0;34m[\u001b[0m\u001b[0maxis\u001b[0m\u001b[0;34m]\u001b[0m \u001b[0;34m=\u001b[0m \u001b[0;36m0\u001b[0m\u001b[0;34m\u001b[0m\u001b[0m\n",
      "\u001b[0;31mKeyboardInterrupt\u001b[0m: "
     ]
    }
   ],
   "source": [
    "for structure in all_known_structures:\n",
    "    print structure\n",
    "    try:\n",
    "        volume = DataManager.load_original_volume(stack=stack, structure=structure, downscale=downscale,\n",
    "                                               classifier_setting=classifier_setting, volume_type='score')\n",
    "\n",
    "        t = time.time()\n",
    "\n",
    "        gy_gx_gz = np.gradient(volume.astype(np.float32), 3, 3, 3)\n",
    "        # 3.3 second - re-computing is much faster than loading\n",
    "        # .astype(np.float32) is important;\n",
    "        # Otherwise the score volume is type np.float16, np.gradient requires np.float32 and will have to convert which is very slow\n",
    "        # 2s (float32) vs. 20s (float16)\n",
    "\n",
    "        sys.stderr.write('Gradient %s: %f seconds\\n' % (structure, time.time() - t)) # 5s\n",
    "\n",
    "        t = time.time()\n",
    "\n",
    "        gx_fp = DataManager.get_volume_gradient_filepath(stack=stack, structure=structure, downscale=downscale, classifier_setting=classifier_setting, suffix='gx')\n",
    "        gy_fp = DataManager.get_volume_gradient_filepath(stack=stack, structure=structure, downscale=downscale, classifier_setting=classifier_setting, suffix='gy')\n",
    "        gz_fp = DataManager.get_volume_gradient_filepath(stack=stack, structure=structure, downscale=downscale, classifier_setting=classifier_setting, suffix='gz')\n",
    "\n",
    "#         create_if_not_exists(os.path.dirname(gx_fp))\n",
    "\n",
    "#         bp.pack_ndarray_file(gy_gx_gz[1], gx_fp)\n",
    "#         bp.pack_ndarray_file(gy_gx_gz[0], gy_fp)\n",
    "#         bp.pack_ndarray_file(gy_gx_gz[2], gz_fp)\n",
    "\n",
    "        del gy_gx_gz\n",
    "\n",
    "        sys.stderr.write('save %s: %f seconds\\n' % (structure, time.time() - t)) # 4-7s\n",
    "\n",
    "    except Exception as e:\n",
    "        sys.stderr.write('%s\\n' % e)\n",
    "        sys.stderr.write('Error computing gradient for %s.\\n' % structure)"
   ]
  },
  {
   "cell_type": "markdown",
   "metadata": {},
   "source": [
    "# Single structure"
   ]
  },
  {
   "cell_type": "code",
   "execution_count": 13,
   "metadata": {},
   "outputs": [
    {
     "name": "stderr",
     "output_type": "stream",
     "text": [
      "Gradient 7N: 2.818808 seconds\n",
      "save 7N: 0.000001 seconds\n"
     ]
    }
   ],
   "source": [
    "try:\n",
    "    volume = DataManager.load_score_volume(stack=stack, structure=structure, downscale=downscale,\n",
    "                                           classifier_setting=classifier_setting)\n",
    "\n",
    "    t = time.time()\n",
    "\n",
    "    gy_gx_gz = np.gradient(volume.astype(np.float32), 7, 7, )\n",
    "    # 3.3 second - re-computing is much faster than loading\n",
    "    # .astype(np.float32) is important;\n",
    "    # Otherwise the score volume is type np.float16, np.gradient requires np.float32 and will have to convert which is very slow\n",
    "    # 2s (float32) vs. 20s (float16)\n",
    "\n",
    "    sys.stderr.write('Gradient %s: %f seconds\\n' % (structure, time.time() - t))\n",
    "\n",
    "    t = time.time()\n",
    "\n",
    "#     gx_fp = DataManager.get_score_volume_gradient_filepath(stack=stack, structure=structure, downscale=downscale, classifier_setting=classifier_setting, suffix='gx')\n",
    "#     gy_fp = DataManager.get_score_volume_gradient_filepath(stack=stack, structure=structure, downscale=downscale, classifier_setting=classifier_setting, suffix='gy')\n",
    "#     gz_fp = DataManager.get_score_volume_gradient_filepath(stack=stack, structure=structure, downscale=downscale, classifier_setting=classifier_setting, suffix='gz')\n",
    "\n",
    "#     create_if_not_exists(os.path.dirname(gx_fp))\n",
    "\n",
    "#     bp.pack_ndarray_file(gy_gx_gz[1], gx_fp)\n",
    "#     bp.pack_ndarray_file(gy_gx_gz[0], gy_fp)\n",
    "#     bp.pack_ndarray_file(gy_gx_gz[2], gz_fp)\n",
    "\n",
    "#     del gy_gx_gz\n",
    "\n",
    "    sys.stderr.write('save %s: %f seconds\\n' % (structure, time.time() - t))\n",
    "\n",
    "except Exception as e:\n",
    "    sys.stderr.write('%s\\n' % e)\n",
    "    sys.stderr.write('Error computing gradient for %s.\\n' % structure)"
   ]
  },
  {
   "cell_type": "code",
   "execution_count": null,
   "metadata": {
    "collapsed": true,
    "scrolled": false
   },
   "outputs": [],
   "source": [
    "display_volume_sections(gy_gx_gz[0])"
   ]
  },
  {
   "cell_type": "code",
   "execution_count": null,
   "metadata": {
    "collapsed": true
   },
   "outputs": [],
   "source": []
  }
 ],
 "metadata": {
  "kernelspec": {
   "display_name": "Python 2",
   "language": "python",
   "name": "python2"
  },
  "language_info": {
   "codemirror_mode": {
    "name": "ipython",
    "version": 2
   },
   "file_extension": ".py",
   "mimetype": "text/x-python",
   "name": "python",
   "nbconvert_exporter": "python",
   "pygments_lexer": "ipython2",
   "version": "2.7.12"
  }
 },
 "nbformat": 4,
 "nbformat_minor": 1
}
