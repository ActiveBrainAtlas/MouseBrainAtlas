{
 "cells": [
  {
   "cell_type": "code",
   "execution_count": 1,
   "metadata": {},
   "outputs": [
    {
     "name": "stdout",
     "output_type": "stream",
     "text": [
      "Setting environment for Local Macbook Pro\n"
     ]
    }
   ],
   "source": [
    "%load_ext autoreload\n",
    "%autoreload 2\n",
    "\n",
    "import sys\n",
    "import os\n",
    "import time\n",
    "\n",
    "from multiprocess import Pool\n",
    "import numpy as np\n",
    "\n",
    "sys.path.append(os.path.join(os.environ['REPO_DIR'], 'utilities'))\n",
    "from utilities2015 import *\n",
    "from metadata import *\n",
    "from data_manager import *\n",
    "from conversion import images_to_volume"
   ]
  },
  {
   "cell_type": "markdown",
   "metadata": {},
   "source": [
    "# All structures for annotation volume"
   ]
  },
  {
   "cell_type": "code",
   "execution_count": null,
   "metadata": {
    "scrolled": true
   },
   "outputs": [],
   "source": [
    "stack = 'MD589'\n",
    "downscale = 32\n",
    "\n",
    "for structure in all_known_structures_sided:\n",
    "    print structure\n",
    "    try:\n",
    "        volume = DataManager.load_original_volume(stack=stack, volume_type='annotationAsScore', \n",
    "                                                  structure=structure, downscale=downscale)\n",
    "\n",
    "        t = time.time()\n",
    "\n",
    "        gy_gx_gz = np.gradient(volume.astype(np.float32), 3, 3, 3)\n",
    "        # 3.3 second - re-computing is much faster than loading\n",
    "        # .astype(np.float32) is important;\n",
    "        # Otherwise the score volume is type np.float16, np.gradient requires np.float32 and will have to convert which is very slow\n",
    "        # 2s (float32) vs. 20s (float16)\n",
    "\n",
    "        sys.stderr.write('Gradient %s: %f seconds\\n' % (structure, time.time() - t))\n",
    "\n",
    "        t = time.time()\n",
    "\n",
    "        gx_fp = DataManager.get_volume_gradient_filepath(stack=stack,volume_type='annotationAsScore',  structure=structure, downscale=downscale, suffix='gx')\n",
    "        gy_fp = DataManager.get_volume_gradient_filepath(stack=stack, volume_type='annotationAsScore', structure=structure, downscale=downscale, suffix='gy')\n",
    "        gz_fp = DataManager.get_volume_gradient_filepath(stack=stack,volume_type='annotationAsScore',  structure=structure, downscale=downscale, suffix='gz')\n",
    "\n",
    "        create_parent_dir_if_not_exists(gx_fp)\n",
    "\n",
    "        bp.pack_ndarray_file(gy_gx_gz[1], gx_fp)\n",
    "        bp.pack_ndarray_file(gy_gx_gz[0], gy_fp)\n",
    "        bp.pack_ndarray_file(gy_gx_gz[2], gz_fp)\n",
    "\n",
    "        del gy_gx_gz\n",
    "        \n",
    "        upload_to_s3(gx_fp)\n",
    "        upload_to_s3(gy_fp)\n",
    "        upload_to_s3(gz_fp)\n",
    "\n",
    "        sys.stderr.write('save %s: %f seconds\\n' % (structure, time.time() - t))\n",
    "\n",
    "    except Exception as e:\n",
    "        sys.stderr.write('Error computing gradient for %s: %s.\\n' % (structure, str(e)))"
   ]
  },
  {
   "cell_type": "markdown",
   "metadata": {},
   "source": [
    "# For classifier score volume"
   ]
  },
  {
   "cell_type": "code",
   "execution_count": 2,
   "metadata": {
    "collapsed": true
   },
   "outputs": [],
   "source": [
    "stack = 'MD657'\n",
    "classifier_setting = 30\n",
    "downscale = 32"
   ]
  },
  {
   "cell_type": "markdown",
   "metadata": {},
   "source": [
    "# All structures"
   ]
  },
  {
   "cell_type": "code",
   "execution_count": 5,
   "metadata": {
    "scrolled": true
   },
   "outputs": [
    {
     "name": "stderr",
     "output_type": "stream",
     "text": [
      "File does not exist: /shared/CSHL_data_processed/MD635/MD635_anchor.txt\n",
      "File does not exist: /shared/CSHL_data_processed/MD635/MD635_sorted_filenames.txt\n",
      "File does not exist: /shared/CSHL_data_processed/MD635/MD635_cropbox.txt\n",
      "File does not exist: /shared/CSHL_data_processed/MD635/MD635_cropbox.txt\n"
     ]
    },
    {
     "name": "stdout",
     "output_type": "stream",
     "text": [
      "5N\n"
     ]
    },
    {
     "name": "stderr",
     "output_type": "stream",
     "text": [
      "Gradient 5N: 24.655552 seconds\n",
      "save 5N: 0.074307 seconds\n"
     ]
    },
    {
     "name": "stdout",
     "output_type": "stream",
     "text": [
      "6N\n"
     ]
    },
    {
     "name": "stderr",
     "output_type": "stream",
     "text": [
      "Gradient 6N: 16.155491 seconds\n",
      "save 6N: 0.072583 seconds\n"
     ]
    },
    {
     "name": "stdout",
     "output_type": "stream",
     "text": [
      "7N\n"
     ]
    },
    {
     "name": "stderr",
     "output_type": "stream",
     "text": [
      "Gradient 7N: 15.829073 seconds\n",
      "save 7N: 0.072390 seconds\n"
     ]
    },
    {
     "name": "stdout",
     "output_type": "stream",
     "text": [
      "7n\n"
     ]
    },
    {
     "name": "stderr",
     "output_type": "stream",
     "text": [
      "Gradient 7n: 15.792059 seconds\n",
      "save 7n: 0.073104 seconds\n"
     ]
    },
    {
     "name": "stdout",
     "output_type": "stream",
     "text": [
      "Amb\n"
     ]
    },
    {
     "name": "stderr",
     "output_type": "stream",
     "text": [
      "Gradient Amb: 15.826242 seconds\n",
      "save Amb: 0.072607 seconds\n"
     ]
    },
    {
     "name": "stdout",
     "output_type": "stream",
     "text": [
      "LC\n"
     ]
    },
    {
     "name": "stderr",
     "output_type": "stream",
     "text": [
      "Gradient LC: 15.530725 seconds\n",
      "save LC: 0.071931 seconds\n"
     ]
    },
    {
     "name": "stdout",
     "output_type": "stream",
     "text": [
      "LRt\n"
     ]
    },
    {
     "name": "stderr",
     "output_type": "stream",
     "text": [
      "Gradient LRt: 15.544566 seconds\n",
      "save LRt: 0.072003 seconds\n"
     ]
    },
    {
     "name": "stdout",
     "output_type": "stream",
     "text": [
      "Pn\n"
     ]
    },
    {
     "name": "stderr",
     "output_type": "stream",
     "text": [
      "Gradient Pn: 15.526288 seconds\n",
      "save Pn: 0.071837 seconds\n"
     ]
    },
    {
     "name": "stdout",
     "output_type": "stream",
     "text": [
      "Tz\n"
     ]
    },
    {
     "ename": "KeyboardInterrupt",
     "evalue": "",
     "output_type": "error",
     "traceback": [
      "\u001b[0;31m---------------------------------------------------------------------------\u001b[0m",
      "\u001b[0;31mKeyboardInterrupt\u001b[0m                         Traceback (most recent call last)",
      "\u001b[0;32m<ipython-input-5-5dc7ea8386f6>\u001b[0m in \u001b[0;36m<module>\u001b[0;34m()\u001b[0m\n\u001b[1;32m      7\u001b[0m         \u001b[0mt\u001b[0m \u001b[0;34m=\u001b[0m \u001b[0mtime\u001b[0m\u001b[0;34m.\u001b[0m\u001b[0mtime\u001b[0m\u001b[0;34m(\u001b[0m\u001b[0;34m)\u001b[0m\u001b[0;34m\u001b[0m\u001b[0m\n\u001b[1;32m      8\u001b[0m \u001b[0;34m\u001b[0m\u001b[0m\n\u001b[0;32m----> 9\u001b[0;31m         \u001b[0mgy_gx_gz\u001b[0m \u001b[0;34m=\u001b[0m \u001b[0mnp\u001b[0m\u001b[0;34m.\u001b[0m\u001b[0mgradient\u001b[0m\u001b[0;34m(\u001b[0m\u001b[0mvolume\u001b[0m\u001b[0;34m.\u001b[0m\u001b[0mastype\u001b[0m\u001b[0;34m(\u001b[0m\u001b[0mnp\u001b[0m\u001b[0;34m.\u001b[0m\u001b[0mfloat32\u001b[0m\u001b[0;34m)\u001b[0m\u001b[0;34m,\u001b[0m \u001b[0;36m3\u001b[0m\u001b[0;34m,\u001b[0m \u001b[0;36m3\u001b[0m\u001b[0;34m,\u001b[0m \u001b[0;36m3\u001b[0m\u001b[0;34m)\u001b[0m\u001b[0;34m\u001b[0m\u001b[0m\n\u001b[0m\u001b[1;32m     10\u001b[0m         \u001b[0;31m# 3.3 second - re-computing is much faster than loading\u001b[0m\u001b[0;34m\u001b[0m\u001b[0;34m\u001b[0m\u001b[0m\n\u001b[1;32m     11\u001b[0m         \u001b[0;31m# .astype(np.float32) is important;\u001b[0m\u001b[0;34m\u001b[0m\u001b[0;34m\u001b[0m\u001b[0m\n",
      "\u001b[0;32m/usr/local/lib/python2.7/dist-packages/numpy/lib/function_base.pyc\u001b[0m in \u001b[0;36mgradient\u001b[0;34m(f, *varargs, **kwargs)\u001b[0m\n\u001b[1;32m   1652\u001b[0m             \u001b[0mslice3\u001b[0m\u001b[0;34m[\u001b[0m\u001b[0maxis\u001b[0m\u001b[0;34m]\u001b[0m \u001b[0;34m=\u001b[0m \u001b[0mslice\u001b[0m\u001b[0;34m(\u001b[0m\u001b[0mNone\u001b[0m\u001b[0;34m,\u001b[0m \u001b[0;34m-\u001b[0m\u001b[0;36m2\u001b[0m\u001b[0;34m)\u001b[0m\u001b[0;34m\u001b[0m\u001b[0m\n\u001b[1;32m   1653\u001b[0m             \u001b[0;31m# 1D equivalent -- out[1:-1] = (y[2:] - y[:-2])/2.0\u001b[0m\u001b[0;34m\u001b[0m\u001b[0;34m\u001b[0m\u001b[0m\n\u001b[0;32m-> 1654\u001b[0;31m             \u001b[0mout\u001b[0m\u001b[0;34m[\u001b[0m\u001b[0mslice1\u001b[0m\u001b[0;34m]\u001b[0m \u001b[0;34m=\u001b[0m \u001b[0;34m(\u001b[0m\u001b[0my\u001b[0m\u001b[0;34m[\u001b[0m\u001b[0mslice2\u001b[0m\u001b[0;34m]\u001b[0m \u001b[0;34m-\u001b[0m \u001b[0my\u001b[0m\u001b[0;34m[\u001b[0m\u001b[0mslice3\u001b[0m\u001b[0;34m]\u001b[0m\u001b[0;34m)\u001b[0m\u001b[0;34m/\u001b[0m\u001b[0;36m2.0\u001b[0m\u001b[0;34m\u001b[0m\u001b[0m\n\u001b[0m\u001b[1;32m   1655\u001b[0m \u001b[0;34m\u001b[0m\u001b[0m\n\u001b[1;32m   1656\u001b[0m             \u001b[0mslice1\u001b[0m\u001b[0;34m[\u001b[0m\u001b[0maxis\u001b[0m\u001b[0;34m]\u001b[0m \u001b[0;34m=\u001b[0m \u001b[0;36m0\u001b[0m\u001b[0;34m\u001b[0m\u001b[0m\n",
      "\u001b[0;31mKeyboardInterrupt\u001b[0m: "
     ]
    }
   ],
   "source": [
    "for structure in all_known_structures:\n",
    "    print structure\n",
    "    try:\n",
    "        volume = DataManager.load_original_volume(stack=stack, structure=structure, downscale=downscale,\n",
    "                                               classifier_setting=classifier_setting, volume_type='score')\n",
    "\n",
    "        t = time.time()\n",
    "\n",
    "        gy_gx_gz = np.gradient(volume.astype(np.float32), 3, 3, 3)\n",
    "        # 3.3 second - re-computing is much faster than loading\n",
    "        # .astype(np.float32) is important;\n",
    "        # Otherwise the score volume is type np.float16, np.gradient requires np.float32 and will have to convert which is very slow\n",
    "        # 2s (float32) vs. 20s (float16)\n",
    "\n",
    "        sys.stderr.write('Gradient %s: %f seconds\\n' % (structure, time.time() - t)) # 5s\n",
    "\n",
    "        t = time.time()\n",
    "\n",
    "        gx_fp = DataManager.get_volume_gradient_filepath(stack=stack, structure=structure, downscale=downscale, classifier_setting=classifier_setting, suffix='gx')\n",
    "        gy_fp = DataManager.get_volume_gradient_filepath(stack=stack, structure=structure, downscale=downscale, classifier_setting=classifier_setting, suffix='gy')\n",
    "        gz_fp = DataManager.get_volume_gradient_filepath(stack=stack, structure=structure, downscale=downscale, classifier_setting=classifier_setting, suffix='gz')\n",
    "\n",
    "#         create_if_not_exists(os.path.dirname(gx_fp))\n",
    "\n",
    "#         bp.pack_ndarray_file(gy_gx_gz[1], gx_fp)\n",
    "#         bp.pack_ndarray_file(gy_gx_gz[0], gy_fp)\n",
    "#         bp.pack_ndarray_file(gy_gx_gz[2], gz_fp)\n",
    "\n",
    "        del gy_gx_gz\n",
    "\n",
    "        sys.stderr.write('save %s: %f seconds\\n' % (structure, time.time() - t)) # 4-7s\n",
    "\n",
    "    except Exception as e:\n",
    "        sys.stderr.write('%s\\n' % e)\n",
    "        sys.stderr.write('Error computing gradient for %s.\\n' % structure)"
   ]
  },
  {
   "cell_type": "markdown",
   "metadata": {},
   "source": [
    "# Single structure"
   ]
  },
  {
   "cell_type": "code",
   "execution_count": 13,
   "metadata": {},
   "outputs": [
    {
     "name": "stderr",
     "output_type": "stream",
     "text": [
      "Gradient 7N: 2.818808 seconds\n",
      "save 7N: 0.000001 seconds\n"
     ]
    }
   ],
   "source": [
    "try:\n",
    "    volume = DataManager.load_score_volume(stack=stack, structure=structure, downscale=downscale,\n",
    "                                           classifier_setting=classifier_setting)\n",
    "\n",
    "    t = time.time()\n",
    "\n",
    "    gy_gx_gz = np.gradient(volume.astype(np.float32), 7, 7, )\n",
    "    # 3.3 second - re-computing is much faster than loading\n",
    "    # .astype(np.float32) is important;\n",
    "    # Otherwise the score volume is type np.float16, np.gradient requires np.float32 and will have to convert which is very slow\n",
    "    # 2s (float32) vs. 20s (float16)\n",
    "\n",
    "    sys.stderr.write('Gradient %s: %f seconds\\n' % (structure, time.time() - t))\n",
    "\n",
    "    t = time.time()\n",
    "\n",
    "#     gx_fp = DataManager.get_score_volume_gradient_filepath(stack=stack, structure=structure, downscale=downscale, classifier_setting=classifier_setting, suffix='gx')\n",
    "#     gy_fp = DataManager.get_score_volume_gradient_filepath(stack=stack, structure=structure, downscale=downscale, classifier_setting=classifier_setting, suffix='gy')\n",
    "#     gz_fp = DataManager.get_score_volume_gradient_filepath(stack=stack, structure=structure, downscale=downscale, classifier_setting=classifier_setting, suffix='gz')\n",
    "\n",
    "#     create_if_not_exists(os.path.dirname(gx_fp))\n",
    "\n",
    "#     bp.pack_ndarray_file(gy_gx_gz[1], gx_fp)\n",
    "#     bp.pack_ndarray_file(gy_gx_gz[0], gy_fp)\n",
    "#     bp.pack_ndarray_file(gy_gx_gz[2], gz_fp)\n",
    "\n",
    "#     del gy_gx_gz\n",
    "\n",
    "    sys.stderr.write('save %s: %f seconds\\n' % (structure, time.time() - t))\n",
    "\n",
    "except Exception as e:\n",
    "    sys.stderr.write('%s\\n' % e)\n",
    "    sys.stderr.write('Error computing gradient for %s.\\n' % structure)"
   ]
  },
  {
   "cell_type": "code",
   "execution_count": null,
   "metadata": {
    "collapsed": true,
    "scrolled": false
   },
   "outputs": [],
   "source": [
    "display_volume_sections(gy_gx_gz[0])"
   ]
  },
  {
   "cell_type": "code",
   "execution_count": null,
   "metadata": {
    "collapsed": true
   },
   "outputs": [],
   "source": []
  }
 ],
 "metadata": {
  "kernelspec": {
   "display_name": "Python 2",
   "language": "python",
   "name": "python2"
  },
  "language_info": {
   "codemirror_mode": {
    "name": "ipython",
    "version": 2
   },
   "file_extension": ".py",
   "mimetype": "text/x-python",
   "name": "python",
   "nbconvert_exporter": "python",
   "pygments_lexer": "ipython2",
   "version": "2.7.12"
  }
 },
 "nbformat": 4,
 "nbformat_minor": 1
}
