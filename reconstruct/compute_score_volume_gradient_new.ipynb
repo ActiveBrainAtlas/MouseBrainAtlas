{
 "cells": [
  {
   "cell_type": "code",
   "execution_count": 1,
   "metadata": {},
   "outputs": [
    {
     "name": "stdout",
     "output_type": "stream",
     "text": [
      "Setting environment for AWS compute node\n"
     ]
    },
    {
     "name": "stderr",
     "output_type": "stream",
     "text": [
      "No vtk\n"
     ]
    }
   ],
   "source": [
    "%load_ext autoreload\n",
    "%autoreload 2\n",
    "\n",
    "import sys\n",
    "import os\n",
    "import time\n",
    "\n",
    "from multiprocess import Pool\n",
    "import numpy as np\n",
    "\n",
    "sys.path.append(os.path.join(os.environ['REPO_DIR'], 'utilities'))\n",
    "from utilities2015 import *\n",
    "from metadata import *\n",
    "from data_manager import *\n",
    "from conversion import images_to_volume"
   ]
  },
  {
   "cell_type": "markdown",
   "metadata": {},
   "source": [
    "# All structures for annotation volume"
   ]
  },
  {
   "cell_type": "code",
   "execution_count": 2,
   "metadata": {},
   "outputs": [
    {
     "name": "stdout",
     "output_type": "stream",
     "text": [
      "10N_L\n",
      "rm -rf \"/shared/CSHL_volumes/RV9_53hrs/RV9_53hrs_down32_annotationAsScoreVolume/score_volumes/RV9_53hrs_down32_annotationAsScoreVolume_10N_L.bp\" && mkdir -p \"/shared/CSHL_volumes/RV9_53hrs/RV9_53hrs_down32_annotationAsScoreVolume/score_volumes\"\n",
      "aws s3 cp \"s3://mousebrainatlas-data/CSHL_volumes/RV9_53hrs/RV9_53hrs_down32_annotationAsScoreVolume/score_volumes/RV9_53hrs_down32_annotationAsScoreVolume_10N_L.bp\" \"/shared/CSHL_volumes/RV9_53hrs/RV9_53hrs_down32_annotationAsScoreVolume/score_volumes/RV9_53hrs_down32_annotationAsScoreVolume_10N_L.bp\"\n"
     ]
    },
    {
     "name": "stderr",
     "output_type": "stream",
     "text": [
      "File does not exist: /shared/CSHL_volumes/RV9_53hrs/RV9_53hrs_down32_annotationAsScoreVolume/score_volumes/RV9_53hrs_down32_annotationAsScoreVolume_10N_L.bp\n",
      "Error computing gradient for 10N_L: [Errno 2] No such file or directory: '/shared/CSHL_volumes/RV9_53hrs/RV9_53hrs_down32_annotationAsScoreVolume/score_volumes/RV9_53hrs_down32_annotationAsScoreVolume_10N_L.bp'.\n"
     ]
    },
    {
     "name": "stdout",
     "output_type": "stream",
     "text": [
      "10N_L_surround_200\n",
      "rm -rf \"/shared/CSHL_volumes/RV9_53hrs/RV9_53hrs_down32_annotationAsScoreVolume/score_volumes/RV9_53hrs_down32_annotationAsScoreVolume_10N_L_surround_200.bp\" && mkdir -p \"/shared/CSHL_volumes/RV9_53hrs/RV9_53hrs_down32_annotationAsScoreVolume/score_volumes\"\n",
      "aws s3 cp \"s3://mousebrainatlas-data/CSHL_volumes/RV9_53hrs/RV9_53hrs_down32_annotationAsScoreVolume/score_volumes/RV9_53hrs_down32_annotationAsScoreVolume_10N_L_surround_200.bp\" \"/shared/CSHL_volumes/RV9_53hrs/RV9_53hrs_down32_annotationAsScoreVolume/score_volumes/RV9_53hrs_down32_annotationAsScoreVolume_10N_L_surround_200.bp\"\n"
     ]
    },
    {
     "name": "stderr",
     "output_type": "stream",
     "text": [
      "File does not exist: /shared/CSHL_volumes/RV9_53hrs/RV9_53hrs_down32_annotationAsScoreVolume/score_volumes/RV9_53hrs_down32_annotationAsScoreVolume_10N_L_surround_200.bp\n",
      "Error computing gradient for 10N_L_surround_200: [Errno 2] No such file or directory: '/shared/CSHL_volumes/RV9_53hrs/RV9_53hrs_down32_annotationAsScoreVolume/score_volumes/RV9_53hrs_down32_annotationAsScoreVolume_10N_L_surround_200.bp'.\n"
     ]
    },
    {
     "name": "stdout",
     "output_type": "stream",
     "text": [
      "10N_R\n",
      "rm -rf \"/shared/CSHL_volumes/RV9_53hrs/RV9_53hrs_down32_annotationAsScoreVolume/score_volumes/RV9_53hrs_down32_annotationAsScoreVolume_10N_R.bp\" && mkdir -p \"/shared/CSHL_volumes/RV9_53hrs/RV9_53hrs_down32_annotationAsScoreVolume/score_volumes\"\n",
      "aws s3 cp \"s3://mousebrainatlas-data/CSHL_volumes/RV9_53hrs/RV9_53hrs_down32_annotationAsScoreVolume/score_volumes/RV9_53hrs_down32_annotationAsScoreVolume_10N_R.bp\" \"/shared/CSHL_volumes/RV9_53hrs/RV9_53hrs_down32_annotationAsScoreVolume/score_volumes/RV9_53hrs_down32_annotationAsScoreVolume_10N_R.bp\"\n"
     ]
    },
    {
     "name": "stderr",
     "output_type": "stream",
     "text": [
      "File does not exist: /shared/CSHL_volumes/RV9_53hrs/RV9_53hrs_down32_annotationAsScoreVolume/score_volumes/RV9_53hrs_down32_annotationAsScoreVolume_10N_R.bp\n",
      "Error computing gradient for 10N_R: [Errno 2] No such file or directory: '/shared/CSHL_volumes/RV9_53hrs/RV9_53hrs_down32_annotationAsScoreVolume/score_volumes/RV9_53hrs_down32_annotationAsScoreVolume_10N_R.bp'.\n"
     ]
    },
    {
     "name": "stdout",
     "output_type": "stream",
     "text": [
      "10N_R_surround_200\n",
      "rm -rf \"/shared/CSHL_volumes/RV9_53hrs/RV9_53hrs_down32_annotationAsScoreVolume/score_volumes/RV9_53hrs_down32_annotationAsScoreVolume_10N_R_surround_200.bp\" && mkdir -p \"/shared/CSHL_volumes/RV9_53hrs/RV9_53hrs_down32_annotationAsScoreVolume/score_volumes\"\n",
      "aws s3 cp \"s3://mousebrainatlas-data/CSHL_volumes/RV9_53hrs/RV9_53hrs_down32_annotationAsScoreVolume/score_volumes/RV9_53hrs_down32_annotationAsScoreVolume_10N_R_surround_200.bp\" \"/shared/CSHL_volumes/RV9_53hrs/RV9_53hrs_down32_annotationAsScoreVolume/score_volumes/RV9_53hrs_down32_annotationAsScoreVolume_10N_R_surround_200.bp\"\n"
     ]
    },
    {
     "name": "stderr",
     "output_type": "stream",
     "text": [
      "File does not exist: /shared/CSHL_volumes/RV9_53hrs/RV9_53hrs_down32_annotationAsScoreVolume/score_volumes/RV9_53hrs_down32_annotationAsScoreVolume_10N_R_surround_200.bp\n",
      "Error computing gradient for 10N_R_surround_200: [Errno 2] No such file or directory: '/shared/CSHL_volumes/RV9_53hrs/RV9_53hrs_down32_annotationAsScoreVolume/score_volumes/RV9_53hrs_down32_annotationAsScoreVolume_10N_R_surround_200.bp'.\n"
     ]
    },
    {
     "name": "stdout",
     "output_type": "stream",
     "text": [
      "12N\n",
      "rm -rf \"/shared/CSHL_volumes/RV9_53hrs/RV9_53hrs_down32_annotationAsScoreVolume/score_volumes/RV9_53hrs_down32_annotationAsScoreVolume_12N.bp\" && mkdir -p \"/shared/CSHL_volumes/RV9_53hrs/RV9_53hrs_down32_annotationAsScoreVolume/score_volumes\"\n",
      "aws s3 cp \"s3://mousebrainatlas-data/CSHL_volumes/RV9_53hrs/RV9_53hrs_down32_annotationAsScoreVolume/score_volumes/RV9_53hrs_down32_annotationAsScoreVolume_12N.bp\" \"/shared/CSHL_volumes/RV9_53hrs/RV9_53hrs_down32_annotationAsScoreVolume/score_volumes/RV9_53hrs_down32_annotationAsScoreVolume_12N.bp\"\n"
     ]
    },
    {
     "name": "stderr",
     "output_type": "stream",
     "text": [
      "File does not exist: /shared/CSHL_volumes/RV9_53hrs/RV9_53hrs_down32_annotationAsScoreVolume/score_volumes/RV9_53hrs_down32_annotationAsScoreVolume_12N.bp\n",
      "Error computing gradient for 12N: [Errno 2] No such file or directory: '/shared/CSHL_volumes/RV9_53hrs/RV9_53hrs_down32_annotationAsScoreVolume/score_volumes/RV9_53hrs_down32_annotationAsScoreVolume_12N.bp'.\n"
     ]
    },
    {
     "name": "stdout",
     "output_type": "stream",
     "text": [
      "12N_surround_200\n",
      "rm -rf \"/shared/CSHL_volumes/RV9_53hrs/RV9_53hrs_down32_annotationAsScoreVolume/score_volumes/RV9_53hrs_down32_annotationAsScoreVolume_12N_surround_200.bp\" && mkdir -p \"/shared/CSHL_volumes/RV9_53hrs/RV9_53hrs_down32_annotationAsScoreVolume/score_volumes\"\n",
      "aws s3 cp \"s3://mousebrainatlas-data/CSHL_volumes/RV9_53hrs/RV9_53hrs_down32_annotationAsScoreVolume/score_volumes/RV9_53hrs_down32_annotationAsScoreVolume_12N_surround_200.bp\" \"/shared/CSHL_volumes/RV9_53hrs/RV9_53hrs_down32_annotationAsScoreVolume/score_volumes/RV9_53hrs_down32_annotationAsScoreVolume_12N_surround_200.bp\"\n"
     ]
    },
    {
     "name": "stderr",
     "output_type": "stream",
     "text": [
      "File does not exist: /shared/CSHL_volumes/RV9_53hrs/RV9_53hrs_down32_annotationAsScoreVolume/score_volumes/RV9_53hrs_down32_annotationAsScoreVolume_12N_surround_200.bp\n",
      "Error computing gradient for 12N_surround_200: [Errno 2] No such file or directory: '/shared/CSHL_volumes/RV9_53hrs/RV9_53hrs_down32_annotationAsScoreVolume/score_volumes/RV9_53hrs_down32_annotationAsScoreVolume_12N_surround_200.bp'.\n"
     ]
    },
    {
     "name": "stdout",
     "output_type": "stream",
     "text": [
      "3N_L\n",
      "rm -rf \"/shared/CSHL_volumes/RV9_53hrs/RV9_53hrs_down32_annotationAsScoreVolume/score_volumes/RV9_53hrs_down32_annotationAsScoreVolume_3N_L.bp\" && mkdir -p \"/shared/CSHL_volumes/RV9_53hrs/RV9_53hrs_down32_annotationAsScoreVolume/score_volumes\"\n",
      "aws s3 cp \"s3://mousebrainatlas-data/CSHL_volumes/RV9_53hrs/RV9_53hrs_down32_annotationAsScoreVolume/score_volumes/RV9_53hrs_down32_annotationAsScoreVolume_3N_L.bp\" \"/shared/CSHL_volumes/RV9_53hrs/RV9_53hrs_down32_annotationAsScoreVolume/score_volumes/RV9_53hrs_down32_annotationAsScoreVolume_3N_L.bp\"\n"
     ]
    },
    {
     "name": "stderr",
     "output_type": "stream",
     "text": [
      "File does not exist: /shared/CSHL_volumes/RV9_53hrs/RV9_53hrs_down32_annotationAsScoreVolume/score_volumes/RV9_53hrs_down32_annotationAsScoreVolume_3N_L.bp\n",
      "Error computing gradient for 3N_L: [Errno 2] No such file or directory: '/shared/CSHL_volumes/RV9_53hrs/RV9_53hrs_down32_annotationAsScoreVolume/score_volumes/RV9_53hrs_down32_annotationAsScoreVolume_3N_L.bp'.\n"
     ]
    },
    {
     "name": "stdout",
     "output_type": "stream",
     "text": [
      "3N_L_surround_200\n",
      "rm -rf \"/shared/CSHL_volumes/RV9_53hrs/RV9_53hrs_down32_annotationAsScoreVolume/score_volumes/RV9_53hrs_down32_annotationAsScoreVolume_3N_L_surround_200.bp\" && mkdir -p \"/shared/CSHL_volumes/RV9_53hrs/RV9_53hrs_down32_annotationAsScoreVolume/score_volumes\"\n",
      "aws s3 cp \"s3://mousebrainatlas-data/CSHL_volumes/RV9_53hrs/RV9_53hrs_down32_annotationAsScoreVolume/score_volumes/RV9_53hrs_down32_annotationAsScoreVolume_3N_L_surround_200.bp\" \"/shared/CSHL_volumes/RV9_53hrs/RV9_53hrs_down32_annotationAsScoreVolume/score_volumes/RV9_53hrs_down32_annotationAsScoreVolume_3N_L_surround_200.bp\"\n"
     ]
    },
    {
     "name": "stderr",
     "output_type": "stream",
     "text": [
      "File does not exist: /shared/CSHL_volumes/RV9_53hrs/RV9_53hrs_down32_annotationAsScoreVolume/score_volumes/RV9_53hrs_down32_annotationAsScoreVolume_3N_L_surround_200.bp\n",
      "Error computing gradient for 3N_L_surround_200: [Errno 2] No such file or directory: '/shared/CSHL_volumes/RV9_53hrs/RV9_53hrs_down32_annotationAsScoreVolume/score_volumes/RV9_53hrs_down32_annotationAsScoreVolume_3N_L_surround_200.bp'.\n"
     ]
    },
    {
     "name": "stdout",
     "output_type": "stream",
     "text": [
      "3N_R\n",
      "rm -rf \"/shared/CSHL_volumes/RV9_53hrs/RV9_53hrs_down32_annotationAsScoreVolume/score_volumes/RV9_53hrs_down32_annotationAsScoreVolume_3N_R.bp\" && mkdir -p \"/shared/CSHL_volumes/RV9_53hrs/RV9_53hrs_down32_annotationAsScoreVolume/score_volumes\"\n",
      "aws s3 cp \"s3://mousebrainatlas-data/CSHL_volumes/RV9_53hrs/RV9_53hrs_down32_annotationAsScoreVolume/score_volumes/RV9_53hrs_down32_annotationAsScoreVolume_3N_R.bp\" \"/shared/CSHL_volumes/RV9_53hrs/RV9_53hrs_down32_annotationAsScoreVolume/score_volumes/RV9_53hrs_down32_annotationAsScoreVolume_3N_R.bp\"\n"
     ]
    },
    {
     "name": "stderr",
     "output_type": "stream",
     "text": [
      "File does not exist: /shared/CSHL_volumes/RV9_53hrs/RV9_53hrs_down32_annotationAsScoreVolume/score_volumes/RV9_53hrs_down32_annotationAsScoreVolume_3N_R.bp\n",
      "Error computing gradient for 3N_R: [Errno 2] No such file or directory: '/shared/CSHL_volumes/RV9_53hrs/RV9_53hrs_down32_annotationAsScoreVolume/score_volumes/RV9_53hrs_down32_annotationAsScoreVolume_3N_R.bp'.\n"
     ]
    },
    {
     "name": "stdout",
     "output_type": "stream",
     "text": [
      "3N_R_surround_200\n",
      "rm -rf \"/shared/CSHL_volumes/RV9_53hrs/RV9_53hrs_down32_annotationAsScoreVolume/score_volumes/RV9_53hrs_down32_annotationAsScoreVolume_3N_R_surround_200.bp\" && mkdir -p \"/shared/CSHL_volumes/RV9_53hrs/RV9_53hrs_down32_annotationAsScoreVolume/score_volumes\"\n",
      "aws s3 cp \"s3://mousebrainatlas-data/CSHL_volumes/RV9_53hrs/RV9_53hrs_down32_annotationAsScoreVolume/score_volumes/RV9_53hrs_down32_annotationAsScoreVolume_3N_R_surround_200.bp\" \"/shared/CSHL_volumes/RV9_53hrs/RV9_53hrs_down32_annotationAsScoreVolume/score_volumes/RV9_53hrs_down32_annotationAsScoreVolume_3N_R_surround_200.bp\"\n"
     ]
    },
    {
     "name": "stderr",
     "output_type": "stream",
     "text": [
      "File does not exist: /shared/CSHL_volumes/RV9_53hrs/RV9_53hrs_down32_annotationAsScoreVolume/score_volumes/RV9_53hrs_down32_annotationAsScoreVolume_3N_R_surround_200.bp\n",
      "Error computing gradient for 3N_R_surround_200: [Errno 2] No such file or directory: '/shared/CSHL_volumes/RV9_53hrs/RV9_53hrs_down32_annotationAsScoreVolume/score_volumes/RV9_53hrs_down32_annotationAsScoreVolume_3N_R_surround_200.bp'.\n"
     ]
    },
    {
     "name": "stdout",
     "output_type": "stream",
     "text": [
      "4N_L\n",
      "rm -rf \"/shared/CSHL_volumes/RV9_53hrs/RV9_53hrs_down32_annotationAsScoreVolume/score_volumes/RV9_53hrs_down32_annotationAsScoreVolume_4N_L.bp\" && mkdir -p \"/shared/CSHL_volumes/RV9_53hrs/RV9_53hrs_down32_annotationAsScoreVolume/score_volumes\"\n",
      "aws s3 cp \"s3://mousebrainatlas-data/CSHL_volumes/RV9_53hrs/RV9_53hrs_down32_annotationAsScoreVolume/score_volumes/RV9_53hrs_down32_annotationAsScoreVolume_4N_L.bp\" \"/shared/CSHL_volumes/RV9_53hrs/RV9_53hrs_down32_annotationAsScoreVolume/score_volumes/RV9_53hrs_down32_annotationAsScoreVolume_4N_L.bp\"\n"
     ]
    },
    {
     "name": "stderr",
     "output_type": "stream",
     "text": [
      "File does not exist: /shared/CSHL_volumes/RV9_53hrs/RV9_53hrs_down32_annotationAsScoreVolume/score_volumes/RV9_53hrs_down32_annotationAsScoreVolume_4N_L.bp\n",
      "Error computing gradient for 4N_L: [Errno 2] No such file or directory: '/shared/CSHL_volumes/RV9_53hrs/RV9_53hrs_down32_annotationAsScoreVolume/score_volumes/RV9_53hrs_down32_annotationAsScoreVolume_4N_L.bp'.\n"
     ]
    },
    {
     "name": "stdout",
     "output_type": "stream",
     "text": [
      "4N_L_surround_200\n",
      "rm -rf \"/shared/CSHL_volumes/RV9_53hrs/RV9_53hrs_down32_annotationAsScoreVolume/score_volumes/RV9_53hrs_down32_annotationAsScoreVolume_4N_L_surround_200.bp\" && mkdir -p \"/shared/CSHL_volumes/RV9_53hrs/RV9_53hrs_down32_annotationAsScoreVolume/score_volumes\"\n",
      "aws s3 cp \"s3://mousebrainatlas-data/CSHL_volumes/RV9_53hrs/RV9_53hrs_down32_annotationAsScoreVolume/score_volumes/RV9_53hrs_down32_annotationAsScoreVolume_4N_L_surround_200.bp\" \"/shared/CSHL_volumes/RV9_53hrs/RV9_53hrs_down32_annotationAsScoreVolume/score_volumes/RV9_53hrs_down32_annotationAsScoreVolume_4N_L_surround_200.bp\"\n"
     ]
    },
    {
     "name": "stderr",
     "output_type": "stream",
     "text": [
      "File does not exist: /shared/CSHL_volumes/RV9_53hrs/RV9_53hrs_down32_annotationAsScoreVolume/score_volumes/RV9_53hrs_down32_annotationAsScoreVolume_4N_L_surround_200.bp\n",
      "Error computing gradient for 4N_L_surround_200: [Errno 2] No such file or directory: '/shared/CSHL_volumes/RV9_53hrs/RV9_53hrs_down32_annotationAsScoreVolume/score_volumes/RV9_53hrs_down32_annotationAsScoreVolume_4N_L_surround_200.bp'.\n"
     ]
    },
    {
     "name": "stdout",
     "output_type": "stream",
     "text": [
      "4N_R\n",
      "rm -rf \"/shared/CSHL_volumes/RV9_53hrs/RV9_53hrs_down32_annotationAsScoreVolume/score_volumes/RV9_53hrs_down32_annotationAsScoreVolume_4N_R.bp\" && mkdir -p \"/shared/CSHL_volumes/RV9_53hrs/RV9_53hrs_down32_annotationAsScoreVolume/score_volumes\"\n",
      "aws s3 cp \"s3://mousebrainatlas-data/CSHL_volumes/RV9_53hrs/RV9_53hrs_down32_annotationAsScoreVolume/score_volumes/RV9_53hrs_down32_annotationAsScoreVolume_4N_R.bp\" \"/shared/CSHL_volumes/RV9_53hrs/RV9_53hrs_down32_annotationAsScoreVolume/score_volumes/RV9_53hrs_down32_annotationAsScoreVolume_4N_R.bp\"\n"
     ]
    },
    {
     "name": "stderr",
     "output_type": "stream",
     "text": [
      "File does not exist: /shared/CSHL_volumes/RV9_53hrs/RV9_53hrs_down32_annotationAsScoreVolume/score_volumes/RV9_53hrs_down32_annotationAsScoreVolume_4N_R.bp\n",
      "Error computing gradient for 4N_R: [Errno 2] No such file or directory: '/shared/CSHL_volumes/RV9_53hrs/RV9_53hrs_down32_annotationAsScoreVolume/score_volumes/RV9_53hrs_down32_annotationAsScoreVolume_4N_R.bp'.\n"
     ]
    },
    {
     "name": "stdout",
     "output_type": "stream",
     "text": [
      "4N_R_surround_200\n",
      "rm -rf \"/shared/CSHL_volumes/RV9_53hrs/RV9_53hrs_down32_annotationAsScoreVolume/score_volumes/RV9_53hrs_down32_annotationAsScoreVolume_4N_R_surround_200.bp\" && mkdir -p \"/shared/CSHL_volumes/RV9_53hrs/RV9_53hrs_down32_annotationAsScoreVolume/score_volumes\"\n",
      "aws s3 cp \"s3://mousebrainatlas-data/CSHL_volumes/RV9_53hrs/RV9_53hrs_down32_annotationAsScoreVolume/score_volumes/RV9_53hrs_down32_annotationAsScoreVolume_4N_R_surround_200.bp\" \"/shared/CSHL_volumes/RV9_53hrs/RV9_53hrs_down32_annotationAsScoreVolume/score_volumes/RV9_53hrs_down32_annotationAsScoreVolume_4N_R_surround_200.bp\"\n"
     ]
    },
    {
     "name": "stderr",
     "output_type": "stream",
     "text": [
      "File does not exist: /shared/CSHL_volumes/RV9_53hrs/RV9_53hrs_down32_annotationAsScoreVolume/score_volumes/RV9_53hrs_down32_annotationAsScoreVolume_4N_R_surround_200.bp\n",
      "Error computing gradient for 4N_R_surround_200: [Errno 2] No such file or directory: '/shared/CSHL_volumes/RV9_53hrs/RV9_53hrs_down32_annotationAsScoreVolume/score_volumes/RV9_53hrs_down32_annotationAsScoreVolume_4N_R_surround_200.bp'.\n"
     ]
    },
    {
     "name": "stdout",
     "output_type": "stream",
     "text": [
      "5N_L\n"
     ]
    },
    {
     "name": "stderr",
     "output_type": "stream",
     "text": [
      "Gradient 5N_L: 0.317604 seconds\n"
     ]
    },
    {
     "name": "stdout",
     "output_type": "stream",
     "text": [
      "aws s3 cp \"/shared/CSHL_volumes/RV9_53hrs/RV9_53hrs_down32_annotationAsScoreVolume/score_volume_gradients/RV9_53hrs_down32_annotationAsScoreVolume_5N_L_gx.bp\" \"s3://mousebrainatlas-data/CSHL_volumes/RV9_53hrs/RV9_53hrs_down32_annotationAsScoreVolume/score_volume_gradients/RV9_53hrs_down32_annotationAsScoreVolume_5N_L_gx.bp\"\n",
      "aws s3 cp \"/shared/CSHL_volumes/RV9_53hrs/RV9_53hrs_down32_annotationAsScoreVolume/score_volume_gradients/RV9_53hrs_down32_annotationAsScoreVolume_5N_L_gy.bp\" \"s3://mousebrainatlas-data/CSHL_volumes/RV9_53hrs/RV9_53hrs_down32_annotationAsScoreVolume/score_volume_gradients/RV9_53hrs_down32_annotationAsScoreVolume_5N_L_gy.bp\"\n",
      "aws s3 cp \"/shared/CSHL_volumes/RV9_53hrs/RV9_53hrs_down32_annotationAsScoreVolume/score_volume_gradients/RV9_53hrs_down32_annotationAsScoreVolume_5N_L_gz.bp\" \"s3://mousebrainatlas-data/CSHL_volumes/RV9_53hrs/RV9_53hrs_down32_annotationAsScoreVolume/score_volume_gradients/RV9_53hrs_down32_annotationAsScoreVolume_5N_L_gz.bp\"\n"
     ]
    },
    {
     "name": "stderr",
     "output_type": "stream",
     "text": [
      "save 5N_L: 1.407873 seconds\n"
     ]
    },
    {
     "name": "stdout",
     "output_type": "stream",
     "text": [
      "5N_L_surround_200\n"
     ]
    },
    {
     "name": "stderr",
     "output_type": "stream",
     "text": [
      "Gradient 5N_L_surround_200: 0.317808 seconds\n"
     ]
    },
    {
     "name": "stdout",
     "output_type": "stream",
     "text": [
      "aws s3 cp \"/shared/CSHL_volumes/RV9_53hrs/RV9_53hrs_down32_annotationAsScoreVolume/score_volume_gradients/RV9_53hrs_down32_annotationAsScoreVolume_5N_L_surround_200_gx.bp\" \"s3://mousebrainatlas-data/CSHL_volumes/RV9_53hrs/RV9_53hrs_down32_annotationAsScoreVolume/score_volume_gradients/RV9_53hrs_down32_annotationAsScoreVolume_5N_L_surround_200_gx.bp\"\n",
      "aws s3 cp \"/shared/CSHL_volumes/RV9_53hrs/RV9_53hrs_down32_annotationAsScoreVolume/score_volume_gradients/RV9_53hrs_down32_annotationAsScoreVolume_5N_L_surround_200_gy.bp\" \"s3://mousebrainatlas-data/CSHL_volumes/RV9_53hrs/RV9_53hrs_down32_annotationAsScoreVolume/score_volume_gradients/RV9_53hrs_down32_annotationAsScoreVolume_5N_L_surround_200_gy.bp\"\n",
      "aws s3 cp \"/shared/CSHL_volumes/RV9_53hrs/RV9_53hrs_down32_annotationAsScoreVolume/score_volume_gradients/RV9_53hrs_down32_annotationAsScoreVolume_5N_L_surround_200_gz.bp\" \"s3://mousebrainatlas-data/CSHL_volumes/RV9_53hrs/RV9_53hrs_down32_annotationAsScoreVolume/score_volume_gradients/RV9_53hrs_down32_annotationAsScoreVolume_5N_L_surround_200_gz.bp\"\n"
     ]
    },
    {
     "name": "stderr",
     "output_type": "stream",
     "text": [
      "save 5N_L_surround_200: 1.521203 seconds\n"
     ]
    },
    {
     "name": "stdout",
     "output_type": "stream",
     "text": [
      "5N_R\n",
      "rm -rf \"/shared/CSHL_volumes/RV9_53hrs/RV9_53hrs_down32_annotationAsScoreVolume/score_volumes/RV9_53hrs_down32_annotationAsScoreVolume_5N_R.bp\" && mkdir -p \"/shared/CSHL_volumes/RV9_53hrs/RV9_53hrs_down32_annotationAsScoreVolume/score_volumes\"\n",
      "aws s3 cp \"s3://mousebrainatlas-data/CSHL_volumes/RV9_53hrs/RV9_53hrs_down32_annotationAsScoreVolume/score_volumes/RV9_53hrs_down32_annotationAsScoreVolume_5N_R.bp\" \"/shared/CSHL_volumes/RV9_53hrs/RV9_53hrs_down32_annotationAsScoreVolume/score_volumes/RV9_53hrs_down32_annotationAsScoreVolume_5N_R.bp\"\n"
     ]
    },
    {
     "name": "stderr",
     "output_type": "stream",
     "text": [
      "File does not exist: /shared/CSHL_volumes/RV9_53hrs/RV9_53hrs_down32_annotationAsScoreVolume/score_volumes/RV9_53hrs_down32_annotationAsScoreVolume_5N_R.bp\n",
      "Error computing gradient for 5N_R: [Errno 2] No such file or directory: '/shared/CSHL_volumes/RV9_53hrs/RV9_53hrs_down32_annotationAsScoreVolume/score_volumes/RV9_53hrs_down32_annotationAsScoreVolume_5N_R.bp'.\n"
     ]
    },
    {
     "name": "stdout",
     "output_type": "stream",
     "text": [
      "5N_R_surround_200\n",
      "rm -rf \"/shared/CSHL_volumes/RV9_53hrs/RV9_53hrs_down32_annotationAsScoreVolume/score_volumes/RV9_53hrs_down32_annotationAsScoreVolume_5N_R_surround_200.bp\" && mkdir -p \"/shared/CSHL_volumes/RV9_53hrs/RV9_53hrs_down32_annotationAsScoreVolume/score_volumes\"\n",
      "aws s3 cp \"s3://mousebrainatlas-data/CSHL_volumes/RV9_53hrs/RV9_53hrs_down32_annotationAsScoreVolume/score_volumes/RV9_53hrs_down32_annotationAsScoreVolume_5N_R_surround_200.bp\" \"/shared/CSHL_volumes/RV9_53hrs/RV9_53hrs_down32_annotationAsScoreVolume/score_volumes/RV9_53hrs_down32_annotationAsScoreVolume_5N_R_surround_200.bp\"\n"
     ]
    },
    {
     "name": "stderr",
     "output_type": "stream",
     "text": [
      "File does not exist: /shared/CSHL_volumes/RV9_53hrs/RV9_53hrs_down32_annotationAsScoreVolume/score_volumes/RV9_53hrs_down32_annotationAsScoreVolume_5N_R_surround_200.bp\n",
      "Error computing gradient for 5N_R_surround_200: [Errno 2] No such file or directory: '/shared/CSHL_volumes/RV9_53hrs/RV9_53hrs_down32_annotationAsScoreVolume/score_volumes/RV9_53hrs_down32_annotationAsScoreVolume_5N_R_surround_200.bp'.\n"
     ]
    },
    {
     "name": "stdout",
     "output_type": "stream",
     "text": [
      "6N_L\n",
      "rm -rf \"/shared/CSHL_volumes/RV9_53hrs/RV9_53hrs_down32_annotationAsScoreVolume/score_volumes/RV9_53hrs_down32_annotationAsScoreVolume_6N_L.bp\" && mkdir -p \"/shared/CSHL_volumes/RV9_53hrs/RV9_53hrs_down32_annotationAsScoreVolume/score_volumes\"\n",
      "aws s3 cp \"s3://mousebrainatlas-data/CSHL_volumes/RV9_53hrs/RV9_53hrs_down32_annotationAsScoreVolume/score_volumes/RV9_53hrs_down32_annotationAsScoreVolume_6N_L.bp\" \"/shared/CSHL_volumes/RV9_53hrs/RV9_53hrs_down32_annotationAsScoreVolume/score_volumes/RV9_53hrs_down32_annotationAsScoreVolume_6N_L.bp\"\n"
     ]
    },
    {
     "name": "stderr",
     "output_type": "stream",
     "text": [
      "File does not exist: /shared/CSHL_volumes/RV9_53hrs/RV9_53hrs_down32_annotationAsScoreVolume/score_volumes/RV9_53hrs_down32_annotationAsScoreVolume_6N_L.bp\n",
      "Error computing gradient for 6N_L: [Errno 2] No such file or directory: '/shared/CSHL_volumes/RV9_53hrs/RV9_53hrs_down32_annotationAsScoreVolume/score_volumes/RV9_53hrs_down32_annotationAsScoreVolume_6N_L.bp'.\n"
     ]
    },
    {
     "name": "stdout",
     "output_type": "stream",
     "text": [
      "6N_L_surround_200\n",
      "rm -rf \"/shared/CSHL_volumes/RV9_53hrs/RV9_53hrs_down32_annotationAsScoreVolume/score_volumes/RV9_53hrs_down32_annotationAsScoreVolume_6N_L_surround_200.bp\" && mkdir -p \"/shared/CSHL_volumes/RV9_53hrs/RV9_53hrs_down32_annotationAsScoreVolume/score_volumes\"\n",
      "aws s3 cp \"s3://mousebrainatlas-data/CSHL_volumes/RV9_53hrs/RV9_53hrs_down32_annotationAsScoreVolume/score_volumes/RV9_53hrs_down32_annotationAsScoreVolume_6N_L_surround_200.bp\" \"/shared/CSHL_volumes/RV9_53hrs/RV9_53hrs_down32_annotationAsScoreVolume/score_volumes/RV9_53hrs_down32_annotationAsScoreVolume_6N_L_surround_200.bp\"\n"
     ]
    },
    {
     "name": "stderr",
     "output_type": "stream",
     "text": [
      "File does not exist: /shared/CSHL_volumes/RV9_53hrs/RV9_53hrs_down32_annotationAsScoreVolume/score_volumes/RV9_53hrs_down32_annotationAsScoreVolume_6N_L_surround_200.bp\n",
      "Error computing gradient for 6N_L_surround_200: [Errno 2] No such file or directory: '/shared/CSHL_volumes/RV9_53hrs/RV9_53hrs_down32_annotationAsScoreVolume/score_volumes/RV9_53hrs_down32_annotationAsScoreVolume_6N_L_surround_200.bp'.\n"
     ]
    },
    {
     "name": "stdout",
     "output_type": "stream",
     "text": [
      "6N_R\n",
      "rm -rf \"/shared/CSHL_volumes/RV9_53hrs/RV9_53hrs_down32_annotationAsScoreVolume/score_volumes/RV9_53hrs_down32_annotationAsScoreVolume_6N_R.bp\" && mkdir -p \"/shared/CSHL_volumes/RV9_53hrs/RV9_53hrs_down32_annotationAsScoreVolume/score_volumes\"\n",
      "aws s3 cp \"s3://mousebrainatlas-data/CSHL_volumes/RV9_53hrs/RV9_53hrs_down32_annotationAsScoreVolume/score_volumes/RV9_53hrs_down32_annotationAsScoreVolume_6N_R.bp\" \"/shared/CSHL_volumes/RV9_53hrs/RV9_53hrs_down32_annotationAsScoreVolume/score_volumes/RV9_53hrs_down32_annotationAsScoreVolume_6N_R.bp\"\n"
     ]
    },
    {
     "name": "stderr",
     "output_type": "stream",
     "text": [
      "File does not exist: /shared/CSHL_volumes/RV9_53hrs/RV9_53hrs_down32_annotationAsScoreVolume/score_volumes/RV9_53hrs_down32_annotationAsScoreVolume_6N_R.bp\n",
      "Error computing gradient for 6N_R: [Errno 2] No such file or directory: '/shared/CSHL_volumes/RV9_53hrs/RV9_53hrs_down32_annotationAsScoreVolume/score_volumes/RV9_53hrs_down32_annotationAsScoreVolume_6N_R.bp'.\n"
     ]
    },
    {
     "name": "stdout",
     "output_type": "stream",
     "text": [
      "6N_R_surround_200\n",
      "rm -rf \"/shared/CSHL_volumes/RV9_53hrs/RV9_53hrs_down32_annotationAsScoreVolume/score_volumes/RV9_53hrs_down32_annotationAsScoreVolume_6N_R_surround_200.bp\" && mkdir -p \"/shared/CSHL_volumes/RV9_53hrs/RV9_53hrs_down32_annotationAsScoreVolume/score_volumes\"\n",
      "aws s3 cp \"s3://mousebrainatlas-data/CSHL_volumes/RV9_53hrs/RV9_53hrs_down32_annotationAsScoreVolume/score_volumes/RV9_53hrs_down32_annotationAsScoreVolume_6N_R_surround_200.bp\" \"/shared/CSHL_volumes/RV9_53hrs/RV9_53hrs_down32_annotationAsScoreVolume/score_volumes/RV9_53hrs_down32_annotationAsScoreVolume_6N_R_surround_200.bp\"\n"
     ]
    },
    {
     "name": "stderr",
     "output_type": "stream",
     "text": [
      "File does not exist: /shared/CSHL_volumes/RV9_53hrs/RV9_53hrs_down32_annotationAsScoreVolume/score_volumes/RV9_53hrs_down32_annotationAsScoreVolume_6N_R_surround_200.bp\n",
      "Error computing gradient for 6N_R_surround_200: [Errno 2] No such file or directory: '/shared/CSHL_volumes/RV9_53hrs/RV9_53hrs_down32_annotationAsScoreVolume/score_volumes/RV9_53hrs_down32_annotationAsScoreVolume_6N_R_surround_200.bp'.\n"
     ]
    },
    {
     "name": "stdout",
     "output_type": "stream",
     "text": [
      "7N_L\n"
     ]
    },
    {
     "name": "stderr",
     "output_type": "stream",
     "text": [
      "Gradient 7N_L: 0.317657 seconds\n"
     ]
    },
    {
     "name": "stdout",
     "output_type": "stream",
     "text": [
      "aws s3 cp \"/shared/CSHL_volumes/RV9_53hrs/RV9_53hrs_down32_annotationAsScoreVolume/score_volume_gradients/RV9_53hrs_down32_annotationAsScoreVolume_7N_L_gx.bp\" \"s3://mousebrainatlas-data/CSHL_volumes/RV9_53hrs/RV9_53hrs_down32_annotationAsScoreVolume/score_volume_gradients/RV9_53hrs_down32_annotationAsScoreVolume_7N_L_gx.bp\"\n",
      "aws s3 cp \"/shared/CSHL_volumes/RV9_53hrs/RV9_53hrs_down32_annotationAsScoreVolume/score_volume_gradients/RV9_53hrs_down32_annotationAsScoreVolume_7N_L_gy.bp\" \"s3://mousebrainatlas-data/CSHL_volumes/RV9_53hrs/RV9_53hrs_down32_annotationAsScoreVolume/score_volume_gradients/RV9_53hrs_down32_annotationAsScoreVolume_7N_L_gy.bp\"\n",
      "aws s3 cp \"/shared/CSHL_volumes/RV9_53hrs/RV9_53hrs_down32_annotationAsScoreVolume/score_volume_gradients/RV9_53hrs_down32_annotationAsScoreVolume_7N_L_gz.bp\" \"s3://mousebrainatlas-data/CSHL_volumes/RV9_53hrs/RV9_53hrs_down32_annotationAsScoreVolume/score_volume_gradients/RV9_53hrs_down32_annotationAsScoreVolume_7N_L_gz.bp\"\n"
     ]
    },
    {
     "name": "stderr",
     "output_type": "stream",
     "text": [
      "save 7N_L: 1.458885 seconds\n"
     ]
    },
    {
     "name": "stdout",
     "output_type": "stream",
     "text": [
      "7N_L_surround_200\n"
     ]
    },
    {
     "name": "stderr",
     "output_type": "stream",
     "text": [
      "Gradient 7N_L_surround_200: 0.317330 seconds\n"
     ]
    },
    {
     "name": "stdout",
     "output_type": "stream",
     "text": [
      "aws s3 cp \"/shared/CSHL_volumes/RV9_53hrs/RV9_53hrs_down32_annotationAsScoreVolume/score_volume_gradients/RV9_53hrs_down32_annotationAsScoreVolume_7N_L_surround_200_gx.bp\" \"s3://mousebrainatlas-data/CSHL_volumes/RV9_53hrs/RV9_53hrs_down32_annotationAsScoreVolume/score_volume_gradients/RV9_53hrs_down32_annotationAsScoreVolume_7N_L_surround_200_gx.bp\"\n",
      "aws s3 cp \"/shared/CSHL_volumes/RV9_53hrs/RV9_53hrs_down32_annotationAsScoreVolume/score_volume_gradients/RV9_53hrs_down32_annotationAsScoreVolume_7N_L_surround_200_gy.bp\" \"s3://mousebrainatlas-data/CSHL_volumes/RV9_53hrs/RV9_53hrs_down32_annotationAsScoreVolume/score_volume_gradients/RV9_53hrs_down32_annotationAsScoreVolume_7N_L_surround_200_gy.bp\"\n",
      "aws s3 cp \"/shared/CSHL_volumes/RV9_53hrs/RV9_53hrs_down32_annotationAsScoreVolume/score_volume_gradients/RV9_53hrs_down32_annotationAsScoreVolume_7N_L_surround_200_gz.bp\" \"s3://mousebrainatlas-data/CSHL_volumes/RV9_53hrs/RV9_53hrs_down32_annotationAsScoreVolume/score_volume_gradients/RV9_53hrs_down32_annotationAsScoreVolume_7N_L_surround_200_gz.bp\"\n"
     ]
    },
    {
     "name": "stderr",
     "output_type": "stream",
     "text": [
      "save 7N_L_surround_200: 1.418244 seconds\n"
     ]
    },
    {
     "name": "stdout",
     "output_type": "stream",
     "text": [
      "7N_R\n",
      "rm -rf \"/shared/CSHL_volumes/RV9_53hrs/RV9_53hrs_down32_annotationAsScoreVolume/score_volumes/RV9_53hrs_down32_annotationAsScoreVolume_7N_R.bp\" && mkdir -p \"/shared/CSHL_volumes/RV9_53hrs/RV9_53hrs_down32_annotationAsScoreVolume/score_volumes\"\n",
      "aws s3 cp \"s3://mousebrainatlas-data/CSHL_volumes/RV9_53hrs/RV9_53hrs_down32_annotationAsScoreVolume/score_volumes/RV9_53hrs_down32_annotationAsScoreVolume_7N_R.bp\" \"/shared/CSHL_volumes/RV9_53hrs/RV9_53hrs_down32_annotationAsScoreVolume/score_volumes/RV9_53hrs_down32_annotationAsScoreVolume_7N_R.bp\"\n"
     ]
    },
    {
     "name": "stderr",
     "output_type": "stream",
     "text": [
      "File does not exist: /shared/CSHL_volumes/RV9_53hrs/RV9_53hrs_down32_annotationAsScoreVolume/score_volumes/RV9_53hrs_down32_annotationAsScoreVolume_7N_R.bp\n",
      "Error computing gradient for 7N_R: [Errno 2] No such file or directory: '/shared/CSHL_volumes/RV9_53hrs/RV9_53hrs_down32_annotationAsScoreVolume/score_volumes/RV9_53hrs_down32_annotationAsScoreVolume_7N_R.bp'.\n"
     ]
    },
    {
     "name": "stdout",
     "output_type": "stream",
     "text": [
      "7N_R_surround_200\n",
      "rm -rf \"/shared/CSHL_volumes/RV9_53hrs/RV9_53hrs_down32_annotationAsScoreVolume/score_volumes/RV9_53hrs_down32_annotationAsScoreVolume_7N_R_surround_200.bp\" && mkdir -p \"/shared/CSHL_volumes/RV9_53hrs/RV9_53hrs_down32_annotationAsScoreVolume/score_volumes\"\n",
      "aws s3 cp \"s3://mousebrainatlas-data/CSHL_volumes/RV9_53hrs/RV9_53hrs_down32_annotationAsScoreVolume/score_volumes/RV9_53hrs_down32_annotationAsScoreVolume_7N_R_surround_200.bp\" \"/shared/CSHL_volumes/RV9_53hrs/RV9_53hrs_down32_annotationAsScoreVolume/score_volumes/RV9_53hrs_down32_annotationAsScoreVolume_7N_R_surround_200.bp\"\n"
     ]
    },
    {
     "name": "stderr",
     "output_type": "stream",
     "text": [
      "File does not exist: /shared/CSHL_volumes/RV9_53hrs/RV9_53hrs_down32_annotationAsScoreVolume/score_volumes/RV9_53hrs_down32_annotationAsScoreVolume_7N_R_surround_200.bp\n",
      "Error computing gradient for 7N_R_surround_200: [Errno 2] No such file or directory: '/shared/CSHL_volumes/RV9_53hrs/RV9_53hrs_down32_annotationAsScoreVolume/score_volumes/RV9_53hrs_down32_annotationAsScoreVolume_7N_R_surround_200.bp'.\n"
     ]
    },
    {
     "name": "stdout",
     "output_type": "stream",
     "text": [
      "7n_L\n"
     ]
    },
    {
     "name": "stderr",
     "output_type": "stream",
     "text": [
      "Gradient 7n_L: 0.316528 seconds\n"
     ]
    },
    {
     "name": "stdout",
     "output_type": "stream",
     "text": [
      "aws s3 cp \"/shared/CSHL_volumes/RV9_53hrs/RV9_53hrs_down32_annotationAsScoreVolume/score_volume_gradients/RV9_53hrs_down32_annotationAsScoreVolume_7n_L_gx.bp\" \"s3://mousebrainatlas-data/CSHL_volumes/RV9_53hrs/RV9_53hrs_down32_annotationAsScoreVolume/score_volume_gradients/RV9_53hrs_down32_annotationAsScoreVolume_7n_L_gx.bp\"\n",
      "aws s3 cp \"/shared/CSHL_volumes/RV9_53hrs/RV9_53hrs_down32_annotationAsScoreVolume/score_volume_gradients/RV9_53hrs_down32_annotationAsScoreVolume_7n_L_gy.bp\" \"s3://mousebrainatlas-data/CSHL_volumes/RV9_53hrs/RV9_53hrs_down32_annotationAsScoreVolume/score_volume_gradients/RV9_53hrs_down32_annotationAsScoreVolume_7n_L_gy.bp\"\n",
      "aws s3 cp \"/shared/CSHL_volumes/RV9_53hrs/RV9_53hrs_down32_annotationAsScoreVolume/score_volume_gradients/RV9_53hrs_down32_annotationAsScoreVolume_7n_L_gz.bp\" \"s3://mousebrainatlas-data/CSHL_volumes/RV9_53hrs/RV9_53hrs_down32_annotationAsScoreVolume/score_volume_gradients/RV9_53hrs_down32_annotationAsScoreVolume_7n_L_gz.bp\"\n"
     ]
    },
    {
     "name": "stderr",
     "output_type": "stream",
     "text": [
      "save 7n_L: 1.457940 seconds\n"
     ]
    },
    {
     "name": "stdout",
     "output_type": "stream",
     "text": [
      "7n_L_surround_200\n"
     ]
    },
    {
     "name": "stderr",
     "output_type": "stream",
     "text": [
      "Gradient 7n_L_surround_200: 0.318049 seconds\n"
     ]
    },
    {
     "name": "stdout",
     "output_type": "stream",
     "text": [
      "aws s3 cp \"/shared/CSHL_volumes/RV9_53hrs/RV9_53hrs_down32_annotationAsScoreVolume/score_volume_gradients/RV9_53hrs_down32_annotationAsScoreVolume_7n_L_surround_200_gx.bp\" \"s3://mousebrainatlas-data/CSHL_volumes/RV9_53hrs/RV9_53hrs_down32_annotationAsScoreVolume/score_volume_gradients/RV9_53hrs_down32_annotationAsScoreVolume_7n_L_surround_200_gx.bp\"\n",
      "aws s3 cp \"/shared/CSHL_volumes/RV9_53hrs/RV9_53hrs_down32_annotationAsScoreVolume/score_volume_gradients/RV9_53hrs_down32_annotationAsScoreVolume_7n_L_surround_200_gy.bp\" \"s3://mousebrainatlas-data/CSHL_volumes/RV9_53hrs/RV9_53hrs_down32_annotationAsScoreVolume/score_volume_gradients/RV9_53hrs_down32_annotationAsScoreVolume_7n_L_surround_200_gy.bp\"\n",
      "aws s3 cp \"/shared/CSHL_volumes/RV9_53hrs/RV9_53hrs_down32_annotationAsScoreVolume/score_volume_gradients/RV9_53hrs_down32_annotationAsScoreVolume_7n_L_surround_200_gz.bp\" \"s3://mousebrainatlas-data/CSHL_volumes/RV9_53hrs/RV9_53hrs_down32_annotationAsScoreVolume/score_volume_gradients/RV9_53hrs_down32_annotationAsScoreVolume_7n_L_surround_200_gz.bp\"\n"
     ]
    },
    {
     "name": "stderr",
     "output_type": "stream",
     "text": [
      "save 7n_L_surround_200: 1.475106 seconds\n"
     ]
    },
    {
     "name": "stdout",
     "output_type": "stream",
     "text": [
      "7n_R\n",
      "rm -rf \"/shared/CSHL_volumes/RV9_53hrs/RV9_53hrs_down32_annotationAsScoreVolume/score_volumes/RV9_53hrs_down32_annotationAsScoreVolume_7n_R.bp\" && mkdir -p \"/shared/CSHL_volumes/RV9_53hrs/RV9_53hrs_down32_annotationAsScoreVolume/score_volumes\"\n",
      "aws s3 cp \"s3://mousebrainatlas-data/CSHL_volumes/RV9_53hrs/RV9_53hrs_down32_annotationAsScoreVolume/score_volumes/RV9_53hrs_down32_annotationAsScoreVolume_7n_R.bp\" \"/shared/CSHL_volumes/RV9_53hrs/RV9_53hrs_down32_annotationAsScoreVolume/score_volumes/RV9_53hrs_down32_annotationAsScoreVolume_7n_R.bp\"\n"
     ]
    },
    {
     "name": "stderr",
     "output_type": "stream",
     "text": [
      "File does not exist: /shared/CSHL_volumes/RV9_53hrs/RV9_53hrs_down32_annotationAsScoreVolume/score_volumes/RV9_53hrs_down32_annotationAsScoreVolume_7n_R.bp\n",
      "Error computing gradient for 7n_R: [Errno 2] No such file or directory: '/shared/CSHL_volumes/RV9_53hrs/RV9_53hrs_down32_annotationAsScoreVolume/score_volumes/RV9_53hrs_down32_annotationAsScoreVolume_7n_R.bp'.\n"
     ]
    },
    {
     "name": "stdout",
     "output_type": "stream",
     "text": [
      "7n_R_surround_200\n",
      "rm -rf \"/shared/CSHL_volumes/RV9_53hrs/RV9_53hrs_down32_annotationAsScoreVolume/score_volumes/RV9_53hrs_down32_annotationAsScoreVolume_7n_R_surround_200.bp\" && mkdir -p \"/shared/CSHL_volumes/RV9_53hrs/RV9_53hrs_down32_annotationAsScoreVolume/score_volumes\"\n",
      "aws s3 cp \"s3://mousebrainatlas-data/CSHL_volumes/RV9_53hrs/RV9_53hrs_down32_annotationAsScoreVolume/score_volumes/RV9_53hrs_down32_annotationAsScoreVolume_7n_R_surround_200.bp\" \"/shared/CSHL_volumes/RV9_53hrs/RV9_53hrs_down32_annotationAsScoreVolume/score_volumes/RV9_53hrs_down32_annotationAsScoreVolume_7n_R_surround_200.bp\"\n"
     ]
    },
    {
     "name": "stderr",
     "output_type": "stream",
     "text": [
      "File does not exist: /shared/CSHL_volumes/RV9_53hrs/RV9_53hrs_down32_annotationAsScoreVolume/score_volumes/RV9_53hrs_down32_annotationAsScoreVolume_7n_R_surround_200.bp\n",
      "Error computing gradient for 7n_R_surround_200: [Errno 2] No such file or directory: '/shared/CSHL_volumes/RV9_53hrs/RV9_53hrs_down32_annotationAsScoreVolume/score_volumes/RV9_53hrs_down32_annotationAsScoreVolume_7n_R_surround_200.bp'.\n"
     ]
    },
    {
     "name": "stdout",
     "output_type": "stream",
     "text": [
      "AP\n",
      "rm -rf \"/shared/CSHL_volumes/RV9_53hrs/RV9_53hrs_down32_annotationAsScoreVolume/score_volumes/RV9_53hrs_down32_annotationAsScoreVolume_AP.bp\" && mkdir -p \"/shared/CSHL_volumes/RV9_53hrs/RV9_53hrs_down32_annotationAsScoreVolume/score_volumes\"\n",
      "aws s3 cp \"s3://mousebrainatlas-data/CSHL_volumes/RV9_53hrs/RV9_53hrs_down32_annotationAsScoreVolume/score_volumes/RV9_53hrs_down32_annotationAsScoreVolume_AP.bp\" \"/shared/CSHL_volumes/RV9_53hrs/RV9_53hrs_down32_annotationAsScoreVolume/score_volumes/RV9_53hrs_down32_annotationAsScoreVolume_AP.bp\"\n"
     ]
    },
    {
     "name": "stderr",
     "output_type": "stream",
     "text": [
      "File does not exist: /shared/CSHL_volumes/RV9_53hrs/RV9_53hrs_down32_annotationAsScoreVolume/score_volumes/RV9_53hrs_down32_annotationAsScoreVolume_AP.bp\n",
      "Error computing gradient for AP: [Errno 2] No such file or directory: '/shared/CSHL_volumes/RV9_53hrs/RV9_53hrs_down32_annotationAsScoreVolume/score_volumes/RV9_53hrs_down32_annotationAsScoreVolume_AP.bp'.\n"
     ]
    },
    {
     "name": "stdout",
     "output_type": "stream",
     "text": [
      "AP_surround_200\n",
      "rm -rf \"/shared/CSHL_volumes/RV9_53hrs/RV9_53hrs_down32_annotationAsScoreVolume/score_volumes/RV9_53hrs_down32_annotationAsScoreVolume_AP_surround_200.bp\" && mkdir -p \"/shared/CSHL_volumes/RV9_53hrs/RV9_53hrs_down32_annotationAsScoreVolume/score_volumes\"\n",
      "aws s3 cp \"s3://mousebrainatlas-data/CSHL_volumes/RV9_53hrs/RV9_53hrs_down32_annotationAsScoreVolume/score_volumes/RV9_53hrs_down32_annotationAsScoreVolume_AP_surround_200.bp\" \"/shared/CSHL_volumes/RV9_53hrs/RV9_53hrs_down32_annotationAsScoreVolume/score_volumes/RV9_53hrs_down32_annotationAsScoreVolume_AP_surround_200.bp\"\n"
     ]
    },
    {
     "name": "stderr",
     "output_type": "stream",
     "text": [
      "File does not exist: /shared/CSHL_volumes/RV9_53hrs/RV9_53hrs_down32_annotationAsScoreVolume/score_volumes/RV9_53hrs_down32_annotationAsScoreVolume_AP_surround_200.bp\n",
      "Error computing gradient for AP_surround_200: [Errno 2] No such file or directory: '/shared/CSHL_volumes/RV9_53hrs/RV9_53hrs_down32_annotationAsScoreVolume/score_volumes/RV9_53hrs_down32_annotationAsScoreVolume_AP_surround_200.bp'.\n"
     ]
    },
    {
     "name": "stdout",
     "output_type": "stream",
     "text": [
      "Amb_L\n"
     ]
    },
    {
     "name": "stderr",
     "output_type": "stream",
     "text": [
      "Gradient Amb_L: 0.317115 seconds\n"
     ]
    },
    {
     "name": "stdout",
     "output_type": "stream",
     "text": [
      "aws s3 cp \"/shared/CSHL_volumes/RV9_53hrs/RV9_53hrs_down32_annotationAsScoreVolume/score_volume_gradients/RV9_53hrs_down32_annotationAsScoreVolume_Amb_L_gx.bp\" \"s3://mousebrainatlas-data/CSHL_volumes/RV9_53hrs/RV9_53hrs_down32_annotationAsScoreVolume/score_volume_gradients/RV9_53hrs_down32_annotationAsScoreVolume_Amb_L_gx.bp\"\n",
      "aws s3 cp \"/shared/CSHL_volumes/RV9_53hrs/RV9_53hrs_down32_annotationAsScoreVolume/score_volume_gradients/RV9_53hrs_down32_annotationAsScoreVolume_Amb_L_gy.bp\" \"s3://mousebrainatlas-data/CSHL_volumes/RV9_53hrs/RV9_53hrs_down32_annotationAsScoreVolume/score_volume_gradients/RV9_53hrs_down32_annotationAsScoreVolume_Amb_L_gy.bp\"\n",
      "aws s3 cp \"/shared/CSHL_volumes/RV9_53hrs/RV9_53hrs_down32_annotationAsScoreVolume/score_volume_gradients/RV9_53hrs_down32_annotationAsScoreVolume_Amb_L_gz.bp\" \"s3://mousebrainatlas-data/CSHL_volumes/RV9_53hrs/RV9_53hrs_down32_annotationAsScoreVolume/score_volume_gradients/RV9_53hrs_down32_annotationAsScoreVolume_Amb_L_gz.bp\"\n"
     ]
    },
    {
     "name": "stderr",
     "output_type": "stream",
     "text": [
      "save Amb_L: 1.400881 seconds\n"
     ]
    },
    {
     "name": "stdout",
     "output_type": "stream",
     "text": [
      "Amb_L_surround_200\n"
     ]
    },
    {
     "name": "stderr",
     "output_type": "stream",
     "text": [
      "Gradient Amb_L_surround_200: 0.316715 seconds\n"
     ]
    },
    {
     "name": "stdout",
     "output_type": "stream",
     "text": [
      "aws s3 cp \"/shared/CSHL_volumes/RV9_53hrs/RV9_53hrs_down32_annotationAsScoreVolume/score_volume_gradients/RV9_53hrs_down32_annotationAsScoreVolume_Amb_L_surround_200_gx.bp\" \"s3://mousebrainatlas-data/CSHL_volumes/RV9_53hrs/RV9_53hrs_down32_annotationAsScoreVolume/score_volume_gradients/RV9_53hrs_down32_annotationAsScoreVolume_Amb_L_surround_200_gx.bp\"\n",
      "aws s3 cp \"/shared/CSHL_volumes/RV9_53hrs/RV9_53hrs_down32_annotationAsScoreVolume/score_volume_gradients/RV9_53hrs_down32_annotationAsScoreVolume_Amb_L_surround_200_gy.bp\" \"s3://mousebrainatlas-data/CSHL_volumes/RV9_53hrs/RV9_53hrs_down32_annotationAsScoreVolume/score_volume_gradients/RV9_53hrs_down32_annotationAsScoreVolume_Amb_L_surround_200_gy.bp\"\n",
      "aws s3 cp \"/shared/CSHL_volumes/RV9_53hrs/RV9_53hrs_down32_annotationAsScoreVolume/score_volume_gradients/RV9_53hrs_down32_annotationAsScoreVolume_Amb_L_surround_200_gz.bp\" \"s3://mousebrainatlas-data/CSHL_volumes/RV9_53hrs/RV9_53hrs_down32_annotationAsScoreVolume/score_volume_gradients/RV9_53hrs_down32_annotationAsScoreVolume_Amb_L_surround_200_gz.bp\"\n"
     ]
    },
    {
     "name": "stderr",
     "output_type": "stream",
     "text": [
      "save Amb_L_surround_200: 1.448269 seconds\n"
     ]
    },
    {
     "name": "stdout",
     "output_type": "stream",
     "text": [
      "Amb_R\n",
      "rm -rf \"/shared/CSHL_volumes/RV9_53hrs/RV9_53hrs_down32_annotationAsScoreVolume/score_volumes/RV9_53hrs_down32_annotationAsScoreVolume_Amb_R.bp\" && mkdir -p \"/shared/CSHL_volumes/RV9_53hrs/RV9_53hrs_down32_annotationAsScoreVolume/score_volumes\"\n",
      "aws s3 cp \"s3://mousebrainatlas-data/CSHL_volumes/RV9_53hrs/RV9_53hrs_down32_annotationAsScoreVolume/score_volumes/RV9_53hrs_down32_annotationAsScoreVolume_Amb_R.bp\" \"/shared/CSHL_volumes/RV9_53hrs/RV9_53hrs_down32_annotationAsScoreVolume/score_volumes/RV9_53hrs_down32_annotationAsScoreVolume_Amb_R.bp\"\n"
     ]
    },
    {
     "name": "stderr",
     "output_type": "stream",
     "text": [
      "File does not exist: /shared/CSHL_volumes/RV9_53hrs/RV9_53hrs_down32_annotationAsScoreVolume/score_volumes/RV9_53hrs_down32_annotationAsScoreVolume_Amb_R.bp\n",
      "Error computing gradient for Amb_R: [Errno 2] No such file or directory: '/shared/CSHL_volumes/RV9_53hrs/RV9_53hrs_down32_annotationAsScoreVolume/score_volumes/RV9_53hrs_down32_annotationAsScoreVolume_Amb_R.bp'.\n"
     ]
    },
    {
     "name": "stdout",
     "output_type": "stream",
     "text": [
      "Amb_R_surround_200\n",
      "rm -rf \"/shared/CSHL_volumes/RV9_53hrs/RV9_53hrs_down32_annotationAsScoreVolume/score_volumes/RV9_53hrs_down32_annotationAsScoreVolume_Amb_R_surround_200.bp\" && mkdir -p \"/shared/CSHL_volumes/RV9_53hrs/RV9_53hrs_down32_annotationAsScoreVolume/score_volumes\"\n",
      "aws s3 cp \"s3://mousebrainatlas-data/CSHL_volumes/RV9_53hrs/RV9_53hrs_down32_annotationAsScoreVolume/score_volumes/RV9_53hrs_down32_annotationAsScoreVolume_Amb_R_surround_200.bp\" \"/shared/CSHL_volumes/RV9_53hrs/RV9_53hrs_down32_annotationAsScoreVolume/score_volumes/RV9_53hrs_down32_annotationAsScoreVolume_Amb_R_surround_200.bp\"\n"
     ]
    },
    {
     "name": "stderr",
     "output_type": "stream",
     "text": [
      "File does not exist: /shared/CSHL_volumes/RV9_53hrs/RV9_53hrs_down32_annotationAsScoreVolume/score_volumes/RV9_53hrs_down32_annotationAsScoreVolume_Amb_R_surround_200.bp\n",
      "Error computing gradient for Amb_R_surround_200: [Errno 2] No such file or directory: '/shared/CSHL_volumes/RV9_53hrs/RV9_53hrs_down32_annotationAsScoreVolume/score_volumes/RV9_53hrs_down32_annotationAsScoreVolume_Amb_R_surround_200.bp'.\n"
     ]
    },
    {
     "name": "stdout",
     "output_type": "stream",
     "text": [
      "DC_L\n",
      "rm -rf \"/shared/CSHL_volumes/RV9_53hrs/RV9_53hrs_down32_annotationAsScoreVolume/score_volumes/RV9_53hrs_down32_annotationAsScoreVolume_DC_L.bp\" && mkdir -p \"/shared/CSHL_volumes/RV9_53hrs/RV9_53hrs_down32_annotationAsScoreVolume/score_volumes\"\n",
      "aws s3 cp \"s3://mousebrainatlas-data/CSHL_volumes/RV9_53hrs/RV9_53hrs_down32_annotationAsScoreVolume/score_volumes/RV9_53hrs_down32_annotationAsScoreVolume_DC_L.bp\" \"/shared/CSHL_volumes/RV9_53hrs/RV9_53hrs_down32_annotationAsScoreVolume/score_volumes/RV9_53hrs_down32_annotationAsScoreVolume_DC_L.bp\"\n"
     ]
    },
    {
     "name": "stderr",
     "output_type": "stream",
     "text": [
      "File does not exist: /shared/CSHL_volumes/RV9_53hrs/RV9_53hrs_down32_annotationAsScoreVolume/score_volumes/RV9_53hrs_down32_annotationAsScoreVolume_DC_L.bp\n",
      "Error computing gradient for DC_L: [Errno 2] No such file or directory: '/shared/CSHL_volumes/RV9_53hrs/RV9_53hrs_down32_annotationAsScoreVolume/score_volumes/RV9_53hrs_down32_annotationAsScoreVolume_DC_L.bp'.\n"
     ]
    },
    {
     "name": "stdout",
     "output_type": "stream",
     "text": [
      "DC_L_surround_200\n",
      "rm -rf \"/shared/CSHL_volumes/RV9_53hrs/RV9_53hrs_down32_annotationAsScoreVolume/score_volumes/RV9_53hrs_down32_annotationAsScoreVolume_DC_L_surround_200.bp\" && mkdir -p \"/shared/CSHL_volumes/RV9_53hrs/RV9_53hrs_down32_annotationAsScoreVolume/score_volumes\"\n",
      "aws s3 cp \"s3://mousebrainatlas-data/CSHL_volumes/RV9_53hrs/RV9_53hrs_down32_annotationAsScoreVolume/score_volumes/RV9_53hrs_down32_annotationAsScoreVolume_DC_L_surround_200.bp\" \"/shared/CSHL_volumes/RV9_53hrs/RV9_53hrs_down32_annotationAsScoreVolume/score_volumes/RV9_53hrs_down32_annotationAsScoreVolume_DC_L_surround_200.bp\"\n"
     ]
    },
    {
     "name": "stderr",
     "output_type": "stream",
     "text": [
      "File does not exist: /shared/CSHL_volumes/RV9_53hrs/RV9_53hrs_down32_annotationAsScoreVolume/score_volumes/RV9_53hrs_down32_annotationAsScoreVolume_DC_L_surround_200.bp\n",
      "Error computing gradient for DC_L_surround_200: [Errno 2] No such file or directory: '/shared/CSHL_volumes/RV9_53hrs/RV9_53hrs_down32_annotationAsScoreVolume/score_volumes/RV9_53hrs_down32_annotationAsScoreVolume_DC_L_surround_200.bp'.\n"
     ]
    },
    {
     "name": "stdout",
     "output_type": "stream",
     "text": [
      "DC_R\n",
      "rm -rf \"/shared/CSHL_volumes/RV9_53hrs/RV9_53hrs_down32_annotationAsScoreVolume/score_volumes/RV9_53hrs_down32_annotationAsScoreVolume_DC_R.bp\" && mkdir -p \"/shared/CSHL_volumes/RV9_53hrs/RV9_53hrs_down32_annotationAsScoreVolume/score_volumes\"\n",
      "aws s3 cp \"s3://mousebrainatlas-data/CSHL_volumes/RV9_53hrs/RV9_53hrs_down32_annotationAsScoreVolume/score_volumes/RV9_53hrs_down32_annotationAsScoreVolume_DC_R.bp\" \"/shared/CSHL_volumes/RV9_53hrs/RV9_53hrs_down32_annotationAsScoreVolume/score_volumes/RV9_53hrs_down32_annotationAsScoreVolume_DC_R.bp\"\n"
     ]
    },
    {
     "name": "stderr",
     "output_type": "stream",
     "text": [
      "File does not exist: /shared/CSHL_volumes/RV9_53hrs/RV9_53hrs_down32_annotationAsScoreVolume/score_volumes/RV9_53hrs_down32_annotationAsScoreVolume_DC_R.bp\n",
      "Error computing gradient for DC_R: [Errno 2] No such file or directory: '/shared/CSHL_volumes/RV9_53hrs/RV9_53hrs_down32_annotationAsScoreVolume/score_volumes/RV9_53hrs_down32_annotationAsScoreVolume_DC_R.bp'.\n"
     ]
    },
    {
     "name": "stdout",
     "output_type": "stream",
     "text": [
      "DC_R_surround_200\n",
      "rm -rf \"/shared/CSHL_volumes/RV9_53hrs/RV9_53hrs_down32_annotationAsScoreVolume/score_volumes/RV9_53hrs_down32_annotationAsScoreVolume_DC_R_surround_200.bp\" && mkdir -p \"/shared/CSHL_volumes/RV9_53hrs/RV9_53hrs_down32_annotationAsScoreVolume/score_volumes\"\n",
      "aws s3 cp \"s3://mousebrainatlas-data/CSHL_volumes/RV9_53hrs/RV9_53hrs_down32_annotationAsScoreVolume/score_volumes/RV9_53hrs_down32_annotationAsScoreVolume_DC_R_surround_200.bp\" \"/shared/CSHL_volumes/RV9_53hrs/RV9_53hrs_down32_annotationAsScoreVolume/score_volumes/RV9_53hrs_down32_annotationAsScoreVolume_DC_R_surround_200.bp\"\n"
     ]
    },
    {
     "name": "stderr",
     "output_type": "stream",
     "text": [
      "File does not exist: /shared/CSHL_volumes/RV9_53hrs/RV9_53hrs_down32_annotationAsScoreVolume/score_volumes/RV9_53hrs_down32_annotationAsScoreVolume_DC_R_surround_200.bp\n",
      "Error computing gradient for DC_R_surround_200: [Errno 2] No such file or directory: '/shared/CSHL_volumes/RV9_53hrs/RV9_53hrs_down32_annotationAsScoreVolume/score_volumes/RV9_53hrs_down32_annotationAsScoreVolume_DC_R_surround_200.bp'.\n"
     ]
    },
    {
     "name": "stdout",
     "output_type": "stream",
     "text": [
      "IC\n",
      "rm -rf \"/shared/CSHL_volumes/RV9_53hrs/RV9_53hrs_down32_annotationAsScoreVolume/score_volumes/RV9_53hrs_down32_annotationAsScoreVolume_IC.bp\" && mkdir -p \"/shared/CSHL_volumes/RV9_53hrs/RV9_53hrs_down32_annotationAsScoreVolume/score_volumes\"\n",
      "aws s3 cp \"s3://mousebrainatlas-data/CSHL_volumes/RV9_53hrs/RV9_53hrs_down32_annotationAsScoreVolume/score_volumes/RV9_53hrs_down32_annotationAsScoreVolume_IC.bp\" \"/shared/CSHL_volumes/RV9_53hrs/RV9_53hrs_down32_annotationAsScoreVolume/score_volumes/RV9_53hrs_down32_annotationAsScoreVolume_IC.bp\"\n"
     ]
    },
    {
     "name": "stderr",
     "output_type": "stream",
     "text": [
      "File does not exist: /shared/CSHL_volumes/RV9_53hrs/RV9_53hrs_down32_annotationAsScoreVolume/score_volumes/RV9_53hrs_down32_annotationAsScoreVolume_IC.bp\n",
      "Error computing gradient for IC: [Errno 2] No such file or directory: '/shared/CSHL_volumes/RV9_53hrs/RV9_53hrs_down32_annotationAsScoreVolume/score_volumes/RV9_53hrs_down32_annotationAsScoreVolume_IC.bp'.\n"
     ]
    },
    {
     "name": "stdout",
     "output_type": "stream",
     "text": [
      "IC_surround_200\n",
      "rm -rf \"/shared/CSHL_volumes/RV9_53hrs/RV9_53hrs_down32_annotationAsScoreVolume/score_volumes/RV9_53hrs_down32_annotationAsScoreVolume_IC_surround_200.bp\" && mkdir -p \"/shared/CSHL_volumes/RV9_53hrs/RV9_53hrs_down32_annotationAsScoreVolume/score_volumes\"\n",
      "aws s3 cp \"s3://mousebrainatlas-data/CSHL_volumes/RV9_53hrs/RV9_53hrs_down32_annotationAsScoreVolume/score_volumes/RV9_53hrs_down32_annotationAsScoreVolume_IC_surround_200.bp\" \"/shared/CSHL_volumes/RV9_53hrs/RV9_53hrs_down32_annotationAsScoreVolume/score_volumes/RV9_53hrs_down32_annotationAsScoreVolume_IC_surround_200.bp\"\n"
     ]
    },
    {
     "name": "stderr",
     "output_type": "stream",
     "text": [
      "File does not exist: /shared/CSHL_volumes/RV9_53hrs/RV9_53hrs_down32_annotationAsScoreVolume/score_volumes/RV9_53hrs_down32_annotationAsScoreVolume_IC_surround_200.bp\n",
      "Error computing gradient for IC_surround_200: [Errno 2] No such file or directory: '/shared/CSHL_volumes/RV9_53hrs/RV9_53hrs_down32_annotationAsScoreVolume/score_volumes/RV9_53hrs_down32_annotationAsScoreVolume_IC_surround_200.bp'.\n"
     ]
    },
    {
     "name": "stdout",
     "output_type": "stream",
     "text": [
      "LC_L\n",
      "rm -rf \"/shared/CSHL_volumes/RV9_53hrs/RV9_53hrs_down32_annotationAsScoreVolume/score_volumes/RV9_53hrs_down32_annotationAsScoreVolume_LC_L.bp\" && mkdir -p \"/shared/CSHL_volumes/RV9_53hrs/RV9_53hrs_down32_annotationAsScoreVolume/score_volumes\"\n",
      "aws s3 cp \"s3://mousebrainatlas-data/CSHL_volumes/RV9_53hrs/RV9_53hrs_down32_annotationAsScoreVolume/score_volumes/RV9_53hrs_down32_annotationAsScoreVolume_LC_L.bp\" \"/shared/CSHL_volumes/RV9_53hrs/RV9_53hrs_down32_annotationAsScoreVolume/score_volumes/RV9_53hrs_down32_annotationAsScoreVolume_LC_L.bp\"\n"
     ]
    },
    {
     "name": "stderr",
     "output_type": "stream",
     "text": [
      "File does not exist: /shared/CSHL_volumes/RV9_53hrs/RV9_53hrs_down32_annotationAsScoreVolume/score_volumes/RV9_53hrs_down32_annotationAsScoreVolume_LC_L.bp\n",
      "Error computing gradient for LC_L: [Errno 2] No such file or directory: '/shared/CSHL_volumes/RV9_53hrs/RV9_53hrs_down32_annotationAsScoreVolume/score_volumes/RV9_53hrs_down32_annotationAsScoreVolume_LC_L.bp'.\n"
     ]
    },
    {
     "name": "stdout",
     "output_type": "stream",
     "text": [
      "LC_L_surround_200\n",
      "rm -rf \"/shared/CSHL_volumes/RV9_53hrs/RV9_53hrs_down32_annotationAsScoreVolume/score_volumes/RV9_53hrs_down32_annotationAsScoreVolume_LC_L_surround_200.bp\" && mkdir -p \"/shared/CSHL_volumes/RV9_53hrs/RV9_53hrs_down32_annotationAsScoreVolume/score_volumes\"\n",
      "aws s3 cp \"s3://mousebrainatlas-data/CSHL_volumes/RV9_53hrs/RV9_53hrs_down32_annotationAsScoreVolume/score_volumes/RV9_53hrs_down32_annotationAsScoreVolume_LC_L_surround_200.bp\" \"/shared/CSHL_volumes/RV9_53hrs/RV9_53hrs_down32_annotationAsScoreVolume/score_volumes/RV9_53hrs_down32_annotationAsScoreVolume_LC_L_surround_200.bp\"\n"
     ]
    },
    {
     "name": "stderr",
     "output_type": "stream",
     "text": [
      "File does not exist: /shared/CSHL_volumes/RV9_53hrs/RV9_53hrs_down32_annotationAsScoreVolume/score_volumes/RV9_53hrs_down32_annotationAsScoreVolume_LC_L_surround_200.bp\n",
      "Error computing gradient for LC_L_surround_200: [Errno 2] No such file or directory: '/shared/CSHL_volumes/RV9_53hrs/RV9_53hrs_down32_annotationAsScoreVolume/score_volumes/RV9_53hrs_down32_annotationAsScoreVolume_LC_L_surround_200.bp'.\n"
     ]
    },
    {
     "name": "stdout",
     "output_type": "stream",
     "text": [
      "LC_R\n",
      "rm -rf \"/shared/CSHL_volumes/RV9_53hrs/RV9_53hrs_down32_annotationAsScoreVolume/score_volumes/RV9_53hrs_down32_annotationAsScoreVolume_LC_R.bp\" && mkdir -p \"/shared/CSHL_volumes/RV9_53hrs/RV9_53hrs_down32_annotationAsScoreVolume/score_volumes\"\n",
      "aws s3 cp \"s3://mousebrainatlas-data/CSHL_volumes/RV9_53hrs/RV9_53hrs_down32_annotationAsScoreVolume/score_volumes/RV9_53hrs_down32_annotationAsScoreVolume_LC_R.bp\" \"/shared/CSHL_volumes/RV9_53hrs/RV9_53hrs_down32_annotationAsScoreVolume/score_volumes/RV9_53hrs_down32_annotationAsScoreVolume_LC_R.bp\"\n"
     ]
    },
    {
     "name": "stderr",
     "output_type": "stream",
     "text": [
      "File does not exist: /shared/CSHL_volumes/RV9_53hrs/RV9_53hrs_down32_annotationAsScoreVolume/score_volumes/RV9_53hrs_down32_annotationAsScoreVolume_LC_R.bp\n",
      "Error computing gradient for LC_R: [Errno 2] No such file or directory: '/shared/CSHL_volumes/RV9_53hrs/RV9_53hrs_down32_annotationAsScoreVolume/score_volumes/RV9_53hrs_down32_annotationAsScoreVolume_LC_R.bp'.\n"
     ]
    },
    {
     "name": "stdout",
     "output_type": "stream",
     "text": [
      "LC_R_surround_200\n",
      "rm -rf \"/shared/CSHL_volumes/RV9_53hrs/RV9_53hrs_down32_annotationAsScoreVolume/score_volumes/RV9_53hrs_down32_annotationAsScoreVolume_LC_R_surround_200.bp\" && mkdir -p \"/shared/CSHL_volumes/RV9_53hrs/RV9_53hrs_down32_annotationAsScoreVolume/score_volumes\"\n",
      "aws s3 cp \"s3://mousebrainatlas-data/CSHL_volumes/RV9_53hrs/RV9_53hrs_down32_annotationAsScoreVolume/score_volumes/RV9_53hrs_down32_annotationAsScoreVolume_LC_R_surround_200.bp\" \"/shared/CSHL_volumes/RV9_53hrs/RV9_53hrs_down32_annotationAsScoreVolume/score_volumes/RV9_53hrs_down32_annotationAsScoreVolume_LC_R_surround_200.bp\"\n"
     ]
    },
    {
     "name": "stderr",
     "output_type": "stream",
     "text": [
      "File does not exist: /shared/CSHL_volumes/RV9_53hrs/RV9_53hrs_down32_annotationAsScoreVolume/score_volumes/RV9_53hrs_down32_annotationAsScoreVolume_LC_R_surround_200.bp\n",
      "Error computing gradient for LC_R_surround_200: [Errno 2] No such file or directory: '/shared/CSHL_volumes/RV9_53hrs/RV9_53hrs_down32_annotationAsScoreVolume/score_volumes/RV9_53hrs_down32_annotationAsScoreVolume_LC_R_surround_200.bp'.\n"
     ]
    },
    {
     "name": "stdout",
     "output_type": "stream",
     "text": [
      "LRt_L\n"
     ]
    },
    {
     "name": "stderr",
     "output_type": "stream",
     "text": [
      "Gradient LRt_L: 0.317967 seconds\n"
     ]
    },
    {
     "name": "stdout",
     "output_type": "stream",
     "text": [
      "aws s3 cp \"/shared/CSHL_volumes/RV9_53hrs/RV9_53hrs_down32_annotationAsScoreVolume/score_volume_gradients/RV9_53hrs_down32_annotationAsScoreVolume_LRt_L_gx.bp\" \"s3://mousebrainatlas-data/CSHL_volumes/RV9_53hrs/RV9_53hrs_down32_annotationAsScoreVolume/score_volume_gradients/RV9_53hrs_down32_annotationAsScoreVolume_LRt_L_gx.bp\"\n",
      "aws s3 cp \"/shared/CSHL_volumes/RV9_53hrs/RV9_53hrs_down32_annotationAsScoreVolume/score_volume_gradients/RV9_53hrs_down32_annotationAsScoreVolume_LRt_L_gy.bp\" \"s3://mousebrainatlas-data/CSHL_volumes/RV9_53hrs/RV9_53hrs_down32_annotationAsScoreVolume/score_volume_gradients/RV9_53hrs_down32_annotationAsScoreVolume_LRt_L_gy.bp\"\n",
      "aws s3 cp \"/shared/CSHL_volumes/RV9_53hrs/RV9_53hrs_down32_annotationAsScoreVolume/score_volume_gradients/RV9_53hrs_down32_annotationAsScoreVolume_LRt_L_gz.bp\" \"s3://mousebrainatlas-data/CSHL_volumes/RV9_53hrs/RV9_53hrs_down32_annotationAsScoreVolume/score_volume_gradients/RV9_53hrs_down32_annotationAsScoreVolume_LRt_L_gz.bp\"\n"
     ]
    },
    {
     "name": "stderr",
     "output_type": "stream",
     "text": [
      "save LRt_L: 1.363534 seconds\n"
     ]
    },
    {
     "name": "stdout",
     "output_type": "stream",
     "text": [
      "LRt_L_surround_200\n"
     ]
    },
    {
     "name": "stderr",
     "output_type": "stream",
     "text": [
      "Gradient LRt_L_surround_200: 0.317751 seconds\n"
     ]
    },
    {
     "name": "stdout",
     "output_type": "stream",
     "text": [
      "aws s3 cp \"/shared/CSHL_volumes/RV9_53hrs/RV9_53hrs_down32_annotationAsScoreVolume/score_volume_gradients/RV9_53hrs_down32_annotationAsScoreVolume_LRt_L_surround_200_gx.bp\" \"s3://mousebrainatlas-data/CSHL_volumes/RV9_53hrs/RV9_53hrs_down32_annotationAsScoreVolume/score_volume_gradients/RV9_53hrs_down32_annotationAsScoreVolume_LRt_L_surround_200_gx.bp\"\n",
      "aws s3 cp \"/shared/CSHL_volumes/RV9_53hrs/RV9_53hrs_down32_annotationAsScoreVolume/score_volume_gradients/RV9_53hrs_down32_annotationAsScoreVolume_LRt_L_surround_200_gy.bp\" \"s3://mousebrainatlas-data/CSHL_volumes/RV9_53hrs/RV9_53hrs_down32_annotationAsScoreVolume/score_volume_gradients/RV9_53hrs_down32_annotationAsScoreVolume_LRt_L_surround_200_gy.bp\"\n",
      "aws s3 cp \"/shared/CSHL_volumes/RV9_53hrs/RV9_53hrs_down32_annotationAsScoreVolume/score_volume_gradients/RV9_53hrs_down32_annotationAsScoreVolume_LRt_L_surround_200_gz.bp\" \"s3://mousebrainatlas-data/CSHL_volumes/RV9_53hrs/RV9_53hrs_down32_annotationAsScoreVolume/score_volume_gradients/RV9_53hrs_down32_annotationAsScoreVolume_LRt_L_surround_200_gz.bp\"\n"
     ]
    },
    {
     "name": "stderr",
     "output_type": "stream",
     "text": [
      "save LRt_L_surround_200: 1.440545 seconds\n"
     ]
    },
    {
     "name": "stdout",
     "output_type": "stream",
     "text": [
      "LRt_R\n",
      "rm -rf \"/shared/CSHL_volumes/RV9_53hrs/RV9_53hrs_down32_annotationAsScoreVolume/score_volumes/RV9_53hrs_down32_annotationAsScoreVolume_LRt_R.bp\" && mkdir -p \"/shared/CSHL_volumes/RV9_53hrs/RV9_53hrs_down32_annotationAsScoreVolume/score_volumes\"\n",
      "aws s3 cp \"s3://mousebrainatlas-data/CSHL_volumes/RV9_53hrs/RV9_53hrs_down32_annotationAsScoreVolume/score_volumes/RV9_53hrs_down32_annotationAsScoreVolume_LRt_R.bp\" \"/shared/CSHL_volumes/RV9_53hrs/RV9_53hrs_down32_annotationAsScoreVolume/score_volumes/RV9_53hrs_down32_annotationAsScoreVolume_LRt_R.bp\"\n"
     ]
    },
    {
     "name": "stderr",
     "output_type": "stream",
     "text": [
      "File does not exist: /shared/CSHL_volumes/RV9_53hrs/RV9_53hrs_down32_annotationAsScoreVolume/score_volumes/RV9_53hrs_down32_annotationAsScoreVolume_LRt_R.bp\n",
      "Error computing gradient for LRt_R: [Errno 2] No such file or directory: '/shared/CSHL_volumes/RV9_53hrs/RV9_53hrs_down32_annotationAsScoreVolume/score_volumes/RV9_53hrs_down32_annotationAsScoreVolume_LRt_R.bp'.\n"
     ]
    },
    {
     "name": "stdout",
     "output_type": "stream",
     "text": [
      "LRt_R_surround_200\n",
      "rm -rf \"/shared/CSHL_volumes/RV9_53hrs/RV9_53hrs_down32_annotationAsScoreVolume/score_volumes/RV9_53hrs_down32_annotationAsScoreVolume_LRt_R_surround_200.bp\" && mkdir -p \"/shared/CSHL_volumes/RV9_53hrs/RV9_53hrs_down32_annotationAsScoreVolume/score_volumes\"\n",
      "aws s3 cp \"s3://mousebrainatlas-data/CSHL_volumes/RV9_53hrs/RV9_53hrs_down32_annotationAsScoreVolume/score_volumes/RV9_53hrs_down32_annotationAsScoreVolume_LRt_R_surround_200.bp\" \"/shared/CSHL_volumes/RV9_53hrs/RV9_53hrs_down32_annotationAsScoreVolume/score_volumes/RV9_53hrs_down32_annotationAsScoreVolume_LRt_R_surround_200.bp\"\n"
     ]
    },
    {
     "name": "stderr",
     "output_type": "stream",
     "text": [
      "File does not exist: /shared/CSHL_volumes/RV9_53hrs/RV9_53hrs_down32_annotationAsScoreVolume/score_volumes/RV9_53hrs_down32_annotationAsScoreVolume_LRt_R_surround_200.bp\n",
      "Error computing gradient for LRt_R_surround_200: [Errno 2] No such file or directory: '/shared/CSHL_volumes/RV9_53hrs/RV9_53hrs_down32_annotationAsScoreVolume/score_volumes/RV9_53hrs_down32_annotationAsScoreVolume_LRt_R_surround_200.bp'.\n"
     ]
    },
    {
     "name": "stdout",
     "output_type": "stream",
     "text": [
      "PBG_L\n",
      "rm -rf \"/shared/CSHL_volumes/RV9_53hrs/RV9_53hrs_down32_annotationAsScoreVolume/score_volumes/RV9_53hrs_down32_annotationAsScoreVolume_PBG_L.bp\" && mkdir -p \"/shared/CSHL_volumes/RV9_53hrs/RV9_53hrs_down32_annotationAsScoreVolume/score_volumes\"\n",
      "aws s3 cp \"s3://mousebrainatlas-data/CSHL_volumes/RV9_53hrs/RV9_53hrs_down32_annotationAsScoreVolume/score_volumes/RV9_53hrs_down32_annotationAsScoreVolume_PBG_L.bp\" \"/shared/CSHL_volumes/RV9_53hrs/RV9_53hrs_down32_annotationAsScoreVolume/score_volumes/RV9_53hrs_down32_annotationAsScoreVolume_PBG_L.bp\"\n"
     ]
    },
    {
     "name": "stderr",
     "output_type": "stream",
     "text": [
      "File does not exist: /shared/CSHL_volumes/RV9_53hrs/RV9_53hrs_down32_annotationAsScoreVolume/score_volumes/RV9_53hrs_down32_annotationAsScoreVolume_PBG_L.bp\n",
      "Error computing gradient for PBG_L: [Errno 2] No such file or directory: '/shared/CSHL_volumes/RV9_53hrs/RV9_53hrs_down32_annotationAsScoreVolume/score_volumes/RV9_53hrs_down32_annotationAsScoreVolume_PBG_L.bp'.\n"
     ]
    },
    {
     "name": "stdout",
     "output_type": "stream",
     "text": [
      "PBG_L_surround_200\n",
      "rm -rf \"/shared/CSHL_volumes/RV9_53hrs/RV9_53hrs_down32_annotationAsScoreVolume/score_volumes/RV9_53hrs_down32_annotationAsScoreVolume_PBG_L_surround_200.bp\" && mkdir -p \"/shared/CSHL_volumes/RV9_53hrs/RV9_53hrs_down32_annotationAsScoreVolume/score_volumes\"\n",
      "aws s3 cp \"s3://mousebrainatlas-data/CSHL_volumes/RV9_53hrs/RV9_53hrs_down32_annotationAsScoreVolume/score_volumes/RV9_53hrs_down32_annotationAsScoreVolume_PBG_L_surround_200.bp\" \"/shared/CSHL_volumes/RV9_53hrs/RV9_53hrs_down32_annotationAsScoreVolume/score_volumes/RV9_53hrs_down32_annotationAsScoreVolume_PBG_L_surround_200.bp\"\n"
     ]
    },
    {
     "name": "stderr",
     "output_type": "stream",
     "text": [
      "File does not exist: /shared/CSHL_volumes/RV9_53hrs/RV9_53hrs_down32_annotationAsScoreVolume/score_volumes/RV9_53hrs_down32_annotationAsScoreVolume_PBG_L_surround_200.bp\n",
      "Error computing gradient for PBG_L_surround_200: [Errno 2] No such file or directory: '/shared/CSHL_volumes/RV9_53hrs/RV9_53hrs_down32_annotationAsScoreVolume/score_volumes/RV9_53hrs_down32_annotationAsScoreVolume_PBG_L_surround_200.bp'.\n"
     ]
    },
    {
     "name": "stdout",
     "output_type": "stream",
     "text": [
      "PBG_R\n",
      "rm -rf \"/shared/CSHL_volumes/RV9_53hrs/RV9_53hrs_down32_annotationAsScoreVolume/score_volumes/RV9_53hrs_down32_annotationAsScoreVolume_PBG_R.bp\" && mkdir -p \"/shared/CSHL_volumes/RV9_53hrs/RV9_53hrs_down32_annotationAsScoreVolume/score_volumes\"\n",
      "aws s3 cp \"s3://mousebrainatlas-data/CSHL_volumes/RV9_53hrs/RV9_53hrs_down32_annotationAsScoreVolume/score_volumes/RV9_53hrs_down32_annotationAsScoreVolume_PBG_R.bp\" \"/shared/CSHL_volumes/RV9_53hrs/RV9_53hrs_down32_annotationAsScoreVolume/score_volumes/RV9_53hrs_down32_annotationAsScoreVolume_PBG_R.bp\"\n"
     ]
    },
    {
     "name": "stderr",
     "output_type": "stream",
     "text": [
      "File does not exist: /shared/CSHL_volumes/RV9_53hrs/RV9_53hrs_down32_annotationAsScoreVolume/score_volumes/RV9_53hrs_down32_annotationAsScoreVolume_PBG_R.bp\n",
      "Error computing gradient for PBG_R: [Errno 2] No such file or directory: '/shared/CSHL_volumes/RV9_53hrs/RV9_53hrs_down32_annotationAsScoreVolume/score_volumes/RV9_53hrs_down32_annotationAsScoreVolume_PBG_R.bp'.\n"
     ]
    },
    {
     "name": "stdout",
     "output_type": "stream",
     "text": [
      "PBG_R_surround_200\n",
      "rm -rf \"/shared/CSHL_volumes/RV9_53hrs/RV9_53hrs_down32_annotationAsScoreVolume/score_volumes/RV9_53hrs_down32_annotationAsScoreVolume_PBG_R_surround_200.bp\" && mkdir -p \"/shared/CSHL_volumes/RV9_53hrs/RV9_53hrs_down32_annotationAsScoreVolume/score_volumes\"\n",
      "aws s3 cp \"s3://mousebrainatlas-data/CSHL_volumes/RV9_53hrs/RV9_53hrs_down32_annotationAsScoreVolume/score_volumes/RV9_53hrs_down32_annotationAsScoreVolume_PBG_R_surround_200.bp\" \"/shared/CSHL_volumes/RV9_53hrs/RV9_53hrs_down32_annotationAsScoreVolume/score_volumes/RV9_53hrs_down32_annotationAsScoreVolume_PBG_R_surround_200.bp\"\n"
     ]
    },
    {
     "name": "stderr",
     "output_type": "stream",
     "text": [
      "File does not exist: /shared/CSHL_volumes/RV9_53hrs/RV9_53hrs_down32_annotationAsScoreVolume/score_volumes/RV9_53hrs_down32_annotationAsScoreVolume_PBG_R_surround_200.bp\n",
      "Error computing gradient for PBG_R_surround_200: [Errno 2] No such file or directory: '/shared/CSHL_volumes/RV9_53hrs/RV9_53hrs_down32_annotationAsScoreVolume/score_volumes/RV9_53hrs_down32_annotationAsScoreVolume_PBG_R_surround_200.bp'.\n"
     ]
    },
    {
     "name": "stdout",
     "output_type": "stream",
     "text": [
      "Pn_L\n",
      "rm -rf \"/shared/CSHL_volumes/RV9_53hrs/RV9_53hrs_down32_annotationAsScoreVolume/score_volumes/RV9_53hrs_down32_annotationAsScoreVolume_Pn_L.bp\" && mkdir -p \"/shared/CSHL_volumes/RV9_53hrs/RV9_53hrs_down32_annotationAsScoreVolume/score_volumes\"\n",
      "aws s3 cp \"s3://mousebrainatlas-data/CSHL_volumes/RV9_53hrs/RV9_53hrs_down32_annotationAsScoreVolume/score_volumes/RV9_53hrs_down32_annotationAsScoreVolume_Pn_L.bp\" \"/shared/CSHL_volumes/RV9_53hrs/RV9_53hrs_down32_annotationAsScoreVolume/score_volumes/RV9_53hrs_down32_annotationAsScoreVolume_Pn_L.bp\"\n"
     ]
    },
    {
     "name": "stderr",
     "output_type": "stream",
     "text": [
      "File does not exist: /shared/CSHL_volumes/RV9_53hrs/RV9_53hrs_down32_annotationAsScoreVolume/score_volumes/RV9_53hrs_down32_annotationAsScoreVolume_Pn_L.bp\n",
      "Error computing gradient for Pn_L: [Errno 2] No such file or directory: '/shared/CSHL_volumes/RV9_53hrs/RV9_53hrs_down32_annotationAsScoreVolume/score_volumes/RV9_53hrs_down32_annotationAsScoreVolume_Pn_L.bp'.\n"
     ]
    },
    {
     "name": "stdout",
     "output_type": "stream",
     "text": [
      "Pn_L_surround_200\n",
      "rm -rf \"/shared/CSHL_volumes/RV9_53hrs/RV9_53hrs_down32_annotationAsScoreVolume/score_volumes/RV9_53hrs_down32_annotationAsScoreVolume_Pn_L_surround_200.bp\" && mkdir -p \"/shared/CSHL_volumes/RV9_53hrs/RV9_53hrs_down32_annotationAsScoreVolume/score_volumes\"\n",
      "aws s3 cp \"s3://mousebrainatlas-data/CSHL_volumes/RV9_53hrs/RV9_53hrs_down32_annotationAsScoreVolume/score_volumes/RV9_53hrs_down32_annotationAsScoreVolume_Pn_L_surround_200.bp\" \"/shared/CSHL_volumes/RV9_53hrs/RV9_53hrs_down32_annotationAsScoreVolume/score_volumes/RV9_53hrs_down32_annotationAsScoreVolume_Pn_L_surround_200.bp\"\n"
     ]
    },
    {
     "name": "stderr",
     "output_type": "stream",
     "text": [
      "File does not exist: /shared/CSHL_volumes/RV9_53hrs/RV9_53hrs_down32_annotationAsScoreVolume/score_volumes/RV9_53hrs_down32_annotationAsScoreVolume_Pn_L_surround_200.bp\n",
      "Error computing gradient for Pn_L_surround_200: [Errno 2] No such file or directory: '/shared/CSHL_volumes/RV9_53hrs/RV9_53hrs_down32_annotationAsScoreVolume/score_volumes/RV9_53hrs_down32_annotationAsScoreVolume_Pn_L_surround_200.bp'.\n"
     ]
    },
    {
     "name": "stdout",
     "output_type": "stream",
     "text": [
      "Pn_R\n",
      "rm -rf \"/shared/CSHL_volumes/RV9_53hrs/RV9_53hrs_down32_annotationAsScoreVolume/score_volumes/RV9_53hrs_down32_annotationAsScoreVolume_Pn_R.bp\" && mkdir -p \"/shared/CSHL_volumes/RV9_53hrs/RV9_53hrs_down32_annotationAsScoreVolume/score_volumes\"\n",
      "aws s3 cp \"s3://mousebrainatlas-data/CSHL_volumes/RV9_53hrs/RV9_53hrs_down32_annotationAsScoreVolume/score_volumes/RV9_53hrs_down32_annotationAsScoreVolume_Pn_R.bp\" \"/shared/CSHL_volumes/RV9_53hrs/RV9_53hrs_down32_annotationAsScoreVolume/score_volumes/RV9_53hrs_down32_annotationAsScoreVolume_Pn_R.bp\"\n"
     ]
    },
    {
     "name": "stderr",
     "output_type": "stream",
     "text": [
      "File does not exist: /shared/CSHL_volumes/RV9_53hrs/RV9_53hrs_down32_annotationAsScoreVolume/score_volumes/RV9_53hrs_down32_annotationAsScoreVolume_Pn_R.bp\n",
      "Error computing gradient for Pn_R: [Errno 2] No such file or directory: '/shared/CSHL_volumes/RV9_53hrs/RV9_53hrs_down32_annotationAsScoreVolume/score_volumes/RV9_53hrs_down32_annotationAsScoreVolume_Pn_R.bp'.\n"
     ]
    },
    {
     "name": "stdout",
     "output_type": "stream",
     "text": [
      "Pn_R_surround_200\n",
      "rm -rf \"/shared/CSHL_volumes/RV9_53hrs/RV9_53hrs_down32_annotationAsScoreVolume/score_volumes/RV9_53hrs_down32_annotationAsScoreVolume_Pn_R_surround_200.bp\" && mkdir -p \"/shared/CSHL_volumes/RV9_53hrs/RV9_53hrs_down32_annotationAsScoreVolume/score_volumes\"\n",
      "aws s3 cp \"s3://mousebrainatlas-data/CSHL_volumes/RV9_53hrs/RV9_53hrs_down32_annotationAsScoreVolume/score_volumes/RV9_53hrs_down32_annotationAsScoreVolume_Pn_R_surround_200.bp\" \"/shared/CSHL_volumes/RV9_53hrs/RV9_53hrs_down32_annotationAsScoreVolume/score_volumes/RV9_53hrs_down32_annotationAsScoreVolume_Pn_R_surround_200.bp\"\n"
     ]
    },
    {
     "name": "stderr",
     "output_type": "stream",
     "text": [
      "File does not exist: /shared/CSHL_volumes/RV9_53hrs/RV9_53hrs_down32_annotationAsScoreVolume/score_volumes/RV9_53hrs_down32_annotationAsScoreVolume_Pn_R_surround_200.bp\n",
      "Error computing gradient for Pn_R_surround_200: [Errno 2] No such file or directory: '/shared/CSHL_volumes/RV9_53hrs/RV9_53hrs_down32_annotationAsScoreVolume/score_volumes/RV9_53hrs_down32_annotationAsScoreVolume_Pn_R_surround_200.bp'.\n"
     ]
    },
    {
     "name": "stdout",
     "output_type": "stream",
     "text": [
      "RMC_L\n",
      "rm -rf \"/shared/CSHL_volumes/RV9_53hrs/RV9_53hrs_down32_annotationAsScoreVolume/score_volumes/RV9_53hrs_down32_annotationAsScoreVolume_RMC_L.bp\" && mkdir -p \"/shared/CSHL_volumes/RV9_53hrs/RV9_53hrs_down32_annotationAsScoreVolume/score_volumes\"\n",
      "aws s3 cp \"s3://mousebrainatlas-data/CSHL_volumes/RV9_53hrs/RV9_53hrs_down32_annotationAsScoreVolume/score_volumes/RV9_53hrs_down32_annotationAsScoreVolume_RMC_L.bp\" \"/shared/CSHL_volumes/RV9_53hrs/RV9_53hrs_down32_annotationAsScoreVolume/score_volumes/RV9_53hrs_down32_annotationAsScoreVolume_RMC_L.bp\"\n"
     ]
    },
    {
     "name": "stderr",
     "output_type": "stream",
     "text": [
      "File does not exist: /shared/CSHL_volumes/RV9_53hrs/RV9_53hrs_down32_annotationAsScoreVolume/score_volumes/RV9_53hrs_down32_annotationAsScoreVolume_RMC_L.bp\n",
      "Error computing gradient for RMC_L: [Errno 2] No such file or directory: '/shared/CSHL_volumes/RV9_53hrs/RV9_53hrs_down32_annotationAsScoreVolume/score_volumes/RV9_53hrs_down32_annotationAsScoreVolume_RMC_L.bp'.\n"
     ]
    },
    {
     "name": "stdout",
     "output_type": "stream",
     "text": [
      "RMC_L_surround_200\n",
      "rm -rf \"/shared/CSHL_volumes/RV9_53hrs/RV9_53hrs_down32_annotationAsScoreVolume/score_volumes/RV9_53hrs_down32_annotationAsScoreVolume_RMC_L_surround_200.bp\" && mkdir -p \"/shared/CSHL_volumes/RV9_53hrs/RV9_53hrs_down32_annotationAsScoreVolume/score_volumes\"\n",
      "aws s3 cp \"s3://mousebrainatlas-data/CSHL_volumes/RV9_53hrs/RV9_53hrs_down32_annotationAsScoreVolume/score_volumes/RV9_53hrs_down32_annotationAsScoreVolume_RMC_L_surround_200.bp\" \"/shared/CSHL_volumes/RV9_53hrs/RV9_53hrs_down32_annotationAsScoreVolume/score_volumes/RV9_53hrs_down32_annotationAsScoreVolume_RMC_L_surround_200.bp\"\n"
     ]
    },
    {
     "name": "stderr",
     "output_type": "stream",
     "text": [
      "File does not exist: /shared/CSHL_volumes/RV9_53hrs/RV9_53hrs_down32_annotationAsScoreVolume/score_volumes/RV9_53hrs_down32_annotationAsScoreVolume_RMC_L_surround_200.bp\n",
      "Error computing gradient for RMC_L_surround_200: [Errno 2] No such file or directory: '/shared/CSHL_volumes/RV9_53hrs/RV9_53hrs_down32_annotationAsScoreVolume/score_volumes/RV9_53hrs_down32_annotationAsScoreVolume_RMC_L_surround_200.bp'.\n"
     ]
    },
    {
     "name": "stdout",
     "output_type": "stream",
     "text": [
      "RMC_R\n",
      "rm -rf \"/shared/CSHL_volumes/RV9_53hrs/RV9_53hrs_down32_annotationAsScoreVolume/score_volumes/RV9_53hrs_down32_annotationAsScoreVolume_RMC_R.bp\" && mkdir -p \"/shared/CSHL_volumes/RV9_53hrs/RV9_53hrs_down32_annotationAsScoreVolume/score_volumes\"\n",
      "aws s3 cp \"s3://mousebrainatlas-data/CSHL_volumes/RV9_53hrs/RV9_53hrs_down32_annotationAsScoreVolume/score_volumes/RV9_53hrs_down32_annotationAsScoreVolume_RMC_R.bp\" \"/shared/CSHL_volumes/RV9_53hrs/RV9_53hrs_down32_annotationAsScoreVolume/score_volumes/RV9_53hrs_down32_annotationAsScoreVolume_RMC_R.bp\"\n"
     ]
    },
    {
     "name": "stderr",
     "output_type": "stream",
     "text": [
      "File does not exist: /shared/CSHL_volumes/RV9_53hrs/RV9_53hrs_down32_annotationAsScoreVolume/score_volumes/RV9_53hrs_down32_annotationAsScoreVolume_RMC_R.bp\n",
      "Error computing gradient for RMC_R: [Errno 2] No such file or directory: '/shared/CSHL_volumes/RV9_53hrs/RV9_53hrs_down32_annotationAsScoreVolume/score_volumes/RV9_53hrs_down32_annotationAsScoreVolume_RMC_R.bp'.\n"
     ]
    },
    {
     "name": "stdout",
     "output_type": "stream",
     "text": [
      "RMC_R_surround_200\n",
      "rm -rf \"/shared/CSHL_volumes/RV9_53hrs/RV9_53hrs_down32_annotationAsScoreVolume/score_volumes/RV9_53hrs_down32_annotationAsScoreVolume_RMC_R_surround_200.bp\" && mkdir -p \"/shared/CSHL_volumes/RV9_53hrs/RV9_53hrs_down32_annotationAsScoreVolume/score_volumes\"\n",
      "aws s3 cp \"s3://mousebrainatlas-data/CSHL_volumes/RV9_53hrs/RV9_53hrs_down32_annotationAsScoreVolume/score_volumes/RV9_53hrs_down32_annotationAsScoreVolume_RMC_R_surround_200.bp\" \"/shared/CSHL_volumes/RV9_53hrs/RV9_53hrs_down32_annotationAsScoreVolume/score_volumes/RV9_53hrs_down32_annotationAsScoreVolume_RMC_R_surround_200.bp\"\n"
     ]
    },
    {
     "name": "stderr",
     "output_type": "stream",
     "text": [
      "File does not exist: /shared/CSHL_volumes/RV9_53hrs/RV9_53hrs_down32_annotationAsScoreVolume/score_volumes/RV9_53hrs_down32_annotationAsScoreVolume_RMC_R_surround_200.bp\n",
      "Error computing gradient for RMC_R_surround_200: [Errno 2] No such file or directory: '/shared/CSHL_volumes/RV9_53hrs/RV9_53hrs_down32_annotationAsScoreVolume/score_volumes/RV9_53hrs_down32_annotationAsScoreVolume_RMC_R_surround_200.bp'.\n"
     ]
    },
    {
     "name": "stdout",
     "output_type": "stream",
     "text": [
      "RtTg\n",
      "rm -rf \"/shared/CSHL_volumes/RV9_53hrs/RV9_53hrs_down32_annotationAsScoreVolume/score_volumes/RV9_53hrs_down32_annotationAsScoreVolume_RtTg.bp\" && mkdir -p \"/shared/CSHL_volumes/RV9_53hrs/RV9_53hrs_down32_annotationAsScoreVolume/score_volumes\"\n",
      "aws s3 cp \"s3://mousebrainatlas-data/CSHL_volumes/RV9_53hrs/RV9_53hrs_down32_annotationAsScoreVolume/score_volumes/RV9_53hrs_down32_annotationAsScoreVolume_RtTg.bp\" \"/shared/CSHL_volumes/RV9_53hrs/RV9_53hrs_down32_annotationAsScoreVolume/score_volumes/RV9_53hrs_down32_annotationAsScoreVolume_RtTg.bp\"\n"
     ]
    },
    {
     "name": "stderr",
     "output_type": "stream",
     "text": [
      "File does not exist: /shared/CSHL_volumes/RV9_53hrs/RV9_53hrs_down32_annotationAsScoreVolume/score_volumes/RV9_53hrs_down32_annotationAsScoreVolume_RtTg.bp\n",
      "Error computing gradient for RtTg: [Errno 2] No such file or directory: '/shared/CSHL_volumes/RV9_53hrs/RV9_53hrs_down32_annotationAsScoreVolume/score_volumes/RV9_53hrs_down32_annotationAsScoreVolume_RtTg.bp'.\n"
     ]
    },
    {
     "name": "stdout",
     "output_type": "stream",
     "text": [
      "RtTg_surround_200\n",
      "rm -rf \"/shared/CSHL_volumes/RV9_53hrs/RV9_53hrs_down32_annotationAsScoreVolume/score_volumes/RV9_53hrs_down32_annotationAsScoreVolume_RtTg_surround_200.bp\" && mkdir -p \"/shared/CSHL_volumes/RV9_53hrs/RV9_53hrs_down32_annotationAsScoreVolume/score_volumes\"\n",
      "aws s3 cp \"s3://mousebrainatlas-data/CSHL_volumes/RV9_53hrs/RV9_53hrs_down32_annotationAsScoreVolume/score_volumes/RV9_53hrs_down32_annotationAsScoreVolume_RtTg_surround_200.bp\" \"/shared/CSHL_volumes/RV9_53hrs/RV9_53hrs_down32_annotationAsScoreVolume/score_volumes/RV9_53hrs_down32_annotationAsScoreVolume_RtTg_surround_200.bp\"\n"
     ]
    },
    {
     "name": "stderr",
     "output_type": "stream",
     "text": [
      "File does not exist: /shared/CSHL_volumes/RV9_53hrs/RV9_53hrs_down32_annotationAsScoreVolume/score_volumes/RV9_53hrs_down32_annotationAsScoreVolume_RtTg_surround_200.bp\n",
      "Error computing gradient for RtTg_surround_200: [Errno 2] No such file or directory: '/shared/CSHL_volumes/RV9_53hrs/RV9_53hrs_down32_annotationAsScoreVolume/score_volumes/RV9_53hrs_down32_annotationAsScoreVolume_RtTg_surround_200.bp'.\n"
     ]
    },
    {
     "name": "stdout",
     "output_type": "stream",
     "text": [
      "SC\n",
      "rm -rf \"/shared/CSHL_volumes/RV9_53hrs/RV9_53hrs_down32_annotationAsScoreVolume/score_volumes/RV9_53hrs_down32_annotationAsScoreVolume_SC.bp\" && mkdir -p \"/shared/CSHL_volumes/RV9_53hrs/RV9_53hrs_down32_annotationAsScoreVolume/score_volumes\"\n",
      "aws s3 cp \"s3://mousebrainatlas-data/CSHL_volumes/RV9_53hrs/RV9_53hrs_down32_annotationAsScoreVolume/score_volumes/RV9_53hrs_down32_annotationAsScoreVolume_SC.bp\" \"/shared/CSHL_volumes/RV9_53hrs/RV9_53hrs_down32_annotationAsScoreVolume/score_volumes/RV9_53hrs_down32_annotationAsScoreVolume_SC.bp\"\n"
     ]
    },
    {
     "name": "stderr",
     "output_type": "stream",
     "text": [
      "File does not exist: /shared/CSHL_volumes/RV9_53hrs/RV9_53hrs_down32_annotationAsScoreVolume/score_volumes/RV9_53hrs_down32_annotationAsScoreVolume_SC.bp\n",
      "Error computing gradient for SC: [Errno 2] No such file or directory: '/shared/CSHL_volumes/RV9_53hrs/RV9_53hrs_down32_annotationAsScoreVolume/score_volumes/RV9_53hrs_down32_annotationAsScoreVolume_SC.bp'.\n"
     ]
    },
    {
     "name": "stdout",
     "output_type": "stream",
     "text": [
      "SC_surround_200\n",
      "rm -rf \"/shared/CSHL_volumes/RV9_53hrs/RV9_53hrs_down32_annotationAsScoreVolume/score_volumes/RV9_53hrs_down32_annotationAsScoreVolume_SC_surround_200.bp\" && mkdir -p \"/shared/CSHL_volumes/RV9_53hrs/RV9_53hrs_down32_annotationAsScoreVolume/score_volumes\"\n",
      "aws s3 cp \"s3://mousebrainatlas-data/CSHL_volumes/RV9_53hrs/RV9_53hrs_down32_annotationAsScoreVolume/score_volumes/RV9_53hrs_down32_annotationAsScoreVolume_SC_surround_200.bp\" \"/shared/CSHL_volumes/RV9_53hrs/RV9_53hrs_down32_annotationAsScoreVolume/score_volumes/RV9_53hrs_down32_annotationAsScoreVolume_SC_surround_200.bp\"\n"
     ]
    },
    {
     "name": "stderr",
     "output_type": "stream",
     "text": [
      "File does not exist: /shared/CSHL_volumes/RV9_53hrs/RV9_53hrs_down32_annotationAsScoreVolume/score_volumes/RV9_53hrs_down32_annotationAsScoreVolume_SC_surround_200.bp\n",
      "Error computing gradient for SC_surround_200: [Errno 2] No such file or directory: '/shared/CSHL_volumes/RV9_53hrs/RV9_53hrs_down32_annotationAsScoreVolume/score_volumes/RV9_53hrs_down32_annotationAsScoreVolume_SC_surround_200.bp'.\n"
     ]
    },
    {
     "name": "stdout",
     "output_type": "stream",
     "text": [
      "SNC_L\n",
      "rm -rf \"/shared/CSHL_volumes/RV9_53hrs/RV9_53hrs_down32_annotationAsScoreVolume/score_volumes/RV9_53hrs_down32_annotationAsScoreVolume_SNC_L.bp\" && mkdir -p \"/shared/CSHL_volumes/RV9_53hrs/RV9_53hrs_down32_annotationAsScoreVolume/score_volumes\"\n",
      "aws s3 cp \"s3://mousebrainatlas-data/CSHL_volumes/RV9_53hrs/RV9_53hrs_down32_annotationAsScoreVolume/score_volumes/RV9_53hrs_down32_annotationAsScoreVolume_SNC_L.bp\" \"/shared/CSHL_volumes/RV9_53hrs/RV9_53hrs_down32_annotationAsScoreVolume/score_volumes/RV9_53hrs_down32_annotationAsScoreVolume_SNC_L.bp\"\n"
     ]
    },
    {
     "name": "stderr",
     "output_type": "stream",
     "text": [
      "File does not exist: /shared/CSHL_volumes/RV9_53hrs/RV9_53hrs_down32_annotationAsScoreVolume/score_volumes/RV9_53hrs_down32_annotationAsScoreVolume_SNC_L.bp\n",
      "Error computing gradient for SNC_L: [Errno 2] No such file or directory: '/shared/CSHL_volumes/RV9_53hrs/RV9_53hrs_down32_annotationAsScoreVolume/score_volumes/RV9_53hrs_down32_annotationAsScoreVolume_SNC_L.bp'.\n"
     ]
    },
    {
     "name": "stdout",
     "output_type": "stream",
     "text": [
      "SNC_L_surround_200\n",
      "rm -rf \"/shared/CSHL_volumes/RV9_53hrs/RV9_53hrs_down32_annotationAsScoreVolume/score_volumes/RV9_53hrs_down32_annotationAsScoreVolume_SNC_L_surround_200.bp\" && mkdir -p \"/shared/CSHL_volumes/RV9_53hrs/RV9_53hrs_down32_annotationAsScoreVolume/score_volumes\"\n",
      "aws s3 cp \"s3://mousebrainatlas-data/CSHL_volumes/RV9_53hrs/RV9_53hrs_down32_annotationAsScoreVolume/score_volumes/RV9_53hrs_down32_annotationAsScoreVolume_SNC_L_surround_200.bp\" \"/shared/CSHL_volumes/RV9_53hrs/RV9_53hrs_down32_annotationAsScoreVolume/score_volumes/RV9_53hrs_down32_annotationAsScoreVolume_SNC_L_surround_200.bp\"\n"
     ]
    },
    {
     "name": "stderr",
     "output_type": "stream",
     "text": [
      "File does not exist: /shared/CSHL_volumes/RV9_53hrs/RV9_53hrs_down32_annotationAsScoreVolume/score_volumes/RV9_53hrs_down32_annotationAsScoreVolume_SNC_L_surround_200.bp\n",
      "Error computing gradient for SNC_L_surround_200: [Errno 2] No such file or directory: '/shared/CSHL_volumes/RV9_53hrs/RV9_53hrs_down32_annotationAsScoreVolume/score_volumes/RV9_53hrs_down32_annotationAsScoreVolume_SNC_L_surround_200.bp'.\n"
     ]
    },
    {
     "name": "stdout",
     "output_type": "stream",
     "text": [
      "SNC_R\n",
      "rm -rf \"/shared/CSHL_volumes/RV9_53hrs/RV9_53hrs_down32_annotationAsScoreVolume/score_volumes/RV9_53hrs_down32_annotationAsScoreVolume_SNC_R.bp\" && mkdir -p \"/shared/CSHL_volumes/RV9_53hrs/RV9_53hrs_down32_annotationAsScoreVolume/score_volumes\"\n",
      "aws s3 cp \"s3://mousebrainatlas-data/CSHL_volumes/RV9_53hrs/RV9_53hrs_down32_annotationAsScoreVolume/score_volumes/RV9_53hrs_down32_annotationAsScoreVolume_SNC_R.bp\" \"/shared/CSHL_volumes/RV9_53hrs/RV9_53hrs_down32_annotationAsScoreVolume/score_volumes/RV9_53hrs_down32_annotationAsScoreVolume_SNC_R.bp\"\n"
     ]
    },
    {
     "name": "stderr",
     "output_type": "stream",
     "text": [
      "File does not exist: /shared/CSHL_volumes/RV9_53hrs/RV9_53hrs_down32_annotationAsScoreVolume/score_volumes/RV9_53hrs_down32_annotationAsScoreVolume_SNC_R.bp\n",
      "Error computing gradient for SNC_R: [Errno 2] No such file or directory: '/shared/CSHL_volumes/RV9_53hrs/RV9_53hrs_down32_annotationAsScoreVolume/score_volumes/RV9_53hrs_down32_annotationAsScoreVolume_SNC_R.bp'.\n"
     ]
    },
    {
     "name": "stdout",
     "output_type": "stream",
     "text": [
      "SNC_R_surround_200\n",
      "rm -rf \"/shared/CSHL_volumes/RV9_53hrs/RV9_53hrs_down32_annotationAsScoreVolume/score_volumes/RV9_53hrs_down32_annotationAsScoreVolume_SNC_R_surround_200.bp\" && mkdir -p \"/shared/CSHL_volumes/RV9_53hrs/RV9_53hrs_down32_annotationAsScoreVolume/score_volumes\"\n",
      "aws s3 cp \"s3://mousebrainatlas-data/CSHL_volumes/RV9_53hrs/RV9_53hrs_down32_annotationAsScoreVolume/score_volumes/RV9_53hrs_down32_annotationAsScoreVolume_SNC_R_surround_200.bp\" \"/shared/CSHL_volumes/RV9_53hrs/RV9_53hrs_down32_annotationAsScoreVolume/score_volumes/RV9_53hrs_down32_annotationAsScoreVolume_SNC_R_surround_200.bp\"\n"
     ]
    },
    {
     "name": "stderr",
     "output_type": "stream",
     "text": [
      "File does not exist: /shared/CSHL_volumes/RV9_53hrs/RV9_53hrs_down32_annotationAsScoreVolume/score_volumes/RV9_53hrs_down32_annotationAsScoreVolume_SNC_R_surround_200.bp\n",
      "Error computing gradient for SNC_R_surround_200: [Errno 2] No such file or directory: '/shared/CSHL_volumes/RV9_53hrs/RV9_53hrs_down32_annotationAsScoreVolume/score_volumes/RV9_53hrs_down32_annotationAsScoreVolume_SNC_R_surround_200.bp'.\n"
     ]
    },
    {
     "name": "stdout",
     "output_type": "stream",
     "text": [
      "SNR_L\n",
      "rm -rf \"/shared/CSHL_volumes/RV9_53hrs/RV9_53hrs_down32_annotationAsScoreVolume/score_volumes/RV9_53hrs_down32_annotationAsScoreVolume_SNR_L.bp\" && mkdir -p \"/shared/CSHL_volumes/RV9_53hrs/RV9_53hrs_down32_annotationAsScoreVolume/score_volumes\"\n",
      "aws s3 cp \"s3://mousebrainatlas-data/CSHL_volumes/RV9_53hrs/RV9_53hrs_down32_annotationAsScoreVolume/score_volumes/RV9_53hrs_down32_annotationAsScoreVolume_SNR_L.bp\" \"/shared/CSHL_volumes/RV9_53hrs/RV9_53hrs_down32_annotationAsScoreVolume/score_volumes/RV9_53hrs_down32_annotationAsScoreVolume_SNR_L.bp\"\n"
     ]
    },
    {
     "name": "stderr",
     "output_type": "stream",
     "text": [
      "File does not exist: /shared/CSHL_volumes/RV9_53hrs/RV9_53hrs_down32_annotationAsScoreVolume/score_volumes/RV9_53hrs_down32_annotationAsScoreVolume_SNR_L.bp\n",
      "Error computing gradient for SNR_L: [Errno 2] No such file or directory: '/shared/CSHL_volumes/RV9_53hrs/RV9_53hrs_down32_annotationAsScoreVolume/score_volumes/RV9_53hrs_down32_annotationAsScoreVolume_SNR_L.bp'.\n"
     ]
    },
    {
     "name": "stdout",
     "output_type": "stream",
     "text": [
      "SNR_L_surround_200\n",
      "rm -rf \"/shared/CSHL_volumes/RV9_53hrs/RV9_53hrs_down32_annotationAsScoreVolume/score_volumes/RV9_53hrs_down32_annotationAsScoreVolume_SNR_L_surround_200.bp\" && mkdir -p \"/shared/CSHL_volumes/RV9_53hrs/RV9_53hrs_down32_annotationAsScoreVolume/score_volumes\"\n",
      "aws s3 cp \"s3://mousebrainatlas-data/CSHL_volumes/RV9_53hrs/RV9_53hrs_down32_annotationAsScoreVolume/score_volumes/RV9_53hrs_down32_annotationAsScoreVolume_SNR_L_surround_200.bp\" \"/shared/CSHL_volumes/RV9_53hrs/RV9_53hrs_down32_annotationAsScoreVolume/score_volumes/RV9_53hrs_down32_annotationAsScoreVolume_SNR_L_surround_200.bp\"\n"
     ]
    },
    {
     "name": "stderr",
     "output_type": "stream",
     "text": [
      "File does not exist: /shared/CSHL_volumes/RV9_53hrs/RV9_53hrs_down32_annotationAsScoreVolume/score_volumes/RV9_53hrs_down32_annotationAsScoreVolume_SNR_L_surround_200.bp\n",
      "Error computing gradient for SNR_L_surround_200: [Errno 2] No such file or directory: '/shared/CSHL_volumes/RV9_53hrs/RV9_53hrs_down32_annotationAsScoreVolume/score_volumes/RV9_53hrs_down32_annotationAsScoreVolume_SNR_L_surround_200.bp'.\n"
     ]
    },
    {
     "name": "stdout",
     "output_type": "stream",
     "text": [
      "SNR_R\n",
      "rm -rf \"/shared/CSHL_volumes/RV9_53hrs/RV9_53hrs_down32_annotationAsScoreVolume/score_volumes/RV9_53hrs_down32_annotationAsScoreVolume_SNR_R.bp\" && mkdir -p \"/shared/CSHL_volumes/RV9_53hrs/RV9_53hrs_down32_annotationAsScoreVolume/score_volumes\"\n",
      "aws s3 cp \"s3://mousebrainatlas-data/CSHL_volumes/RV9_53hrs/RV9_53hrs_down32_annotationAsScoreVolume/score_volumes/RV9_53hrs_down32_annotationAsScoreVolume_SNR_R.bp\" \"/shared/CSHL_volumes/RV9_53hrs/RV9_53hrs_down32_annotationAsScoreVolume/score_volumes/RV9_53hrs_down32_annotationAsScoreVolume_SNR_R.bp\"\n"
     ]
    },
    {
     "name": "stderr",
     "output_type": "stream",
     "text": [
      "File does not exist: /shared/CSHL_volumes/RV9_53hrs/RV9_53hrs_down32_annotationAsScoreVolume/score_volumes/RV9_53hrs_down32_annotationAsScoreVolume_SNR_R.bp\n",
      "Error computing gradient for SNR_R: [Errno 2] No such file or directory: '/shared/CSHL_volumes/RV9_53hrs/RV9_53hrs_down32_annotationAsScoreVolume/score_volumes/RV9_53hrs_down32_annotationAsScoreVolume_SNR_R.bp'.\n"
     ]
    },
    {
     "name": "stdout",
     "output_type": "stream",
     "text": [
      "SNR_R_surround_200\n",
      "rm -rf \"/shared/CSHL_volumes/RV9_53hrs/RV9_53hrs_down32_annotationAsScoreVolume/score_volumes/RV9_53hrs_down32_annotationAsScoreVolume_SNR_R_surround_200.bp\" && mkdir -p \"/shared/CSHL_volumes/RV9_53hrs/RV9_53hrs_down32_annotationAsScoreVolume/score_volumes\"\n",
      "aws s3 cp \"s3://mousebrainatlas-data/CSHL_volumes/RV9_53hrs/RV9_53hrs_down32_annotationAsScoreVolume/score_volumes/RV9_53hrs_down32_annotationAsScoreVolume_SNR_R_surround_200.bp\" \"/shared/CSHL_volumes/RV9_53hrs/RV9_53hrs_down32_annotationAsScoreVolume/score_volumes/RV9_53hrs_down32_annotationAsScoreVolume_SNR_R_surround_200.bp\"\n"
     ]
    },
    {
     "name": "stderr",
     "output_type": "stream",
     "text": [
      "File does not exist: /shared/CSHL_volumes/RV9_53hrs/RV9_53hrs_down32_annotationAsScoreVolume/score_volumes/RV9_53hrs_down32_annotationAsScoreVolume_SNR_R_surround_200.bp\n",
      "Error computing gradient for SNR_R_surround_200: [Errno 2] No such file or directory: '/shared/CSHL_volumes/RV9_53hrs/RV9_53hrs_down32_annotationAsScoreVolume/score_volumes/RV9_53hrs_down32_annotationAsScoreVolume_SNR_R_surround_200.bp'.\n"
     ]
    },
    {
     "name": "stdout",
     "output_type": "stream",
     "text": [
      "Sp5C_L\n"
     ]
    },
    {
     "name": "stderr",
     "output_type": "stream",
     "text": [
      "Gradient Sp5C_L: 0.318965 seconds\n"
     ]
    },
    {
     "name": "stdout",
     "output_type": "stream",
     "text": [
      "aws s3 cp \"/shared/CSHL_volumes/RV9_53hrs/RV9_53hrs_down32_annotationAsScoreVolume/score_volume_gradients/RV9_53hrs_down32_annotationAsScoreVolume_Sp5C_L_gx.bp\" \"s3://mousebrainatlas-data/CSHL_volumes/RV9_53hrs/RV9_53hrs_down32_annotationAsScoreVolume/score_volume_gradients/RV9_53hrs_down32_annotationAsScoreVolume_Sp5C_L_gx.bp\"\n",
      "aws s3 cp \"/shared/CSHL_volumes/RV9_53hrs/RV9_53hrs_down32_annotationAsScoreVolume/score_volume_gradients/RV9_53hrs_down32_annotationAsScoreVolume_Sp5C_L_gy.bp\" \"s3://mousebrainatlas-data/CSHL_volumes/RV9_53hrs/RV9_53hrs_down32_annotationAsScoreVolume/score_volume_gradients/RV9_53hrs_down32_annotationAsScoreVolume_Sp5C_L_gy.bp\"\n",
      "aws s3 cp \"/shared/CSHL_volumes/RV9_53hrs/RV9_53hrs_down32_annotationAsScoreVolume/score_volume_gradients/RV9_53hrs_down32_annotationAsScoreVolume_Sp5C_L_gz.bp\" \"s3://mousebrainatlas-data/CSHL_volumes/RV9_53hrs/RV9_53hrs_down32_annotationAsScoreVolume/score_volume_gradients/RV9_53hrs_down32_annotationAsScoreVolume_Sp5C_L_gz.bp\"\n"
     ]
    },
    {
     "name": "stderr",
     "output_type": "stream",
     "text": [
      "save Sp5C_L: 1.577307 seconds\n"
     ]
    },
    {
     "name": "stdout",
     "output_type": "stream",
     "text": [
      "Sp5C_L_surround_200\n"
     ]
    },
    {
     "name": "stderr",
     "output_type": "stream",
     "text": [
      "Gradient Sp5C_L_surround_200: 0.319235 seconds\n"
     ]
    },
    {
     "name": "stdout",
     "output_type": "stream",
     "text": [
      "aws s3 cp \"/shared/CSHL_volumes/RV9_53hrs/RV9_53hrs_down32_annotationAsScoreVolume/score_volume_gradients/RV9_53hrs_down32_annotationAsScoreVolume_Sp5C_L_surround_200_gx.bp\" \"s3://mousebrainatlas-data/CSHL_volumes/RV9_53hrs/RV9_53hrs_down32_annotationAsScoreVolume/score_volume_gradients/RV9_53hrs_down32_annotationAsScoreVolume_Sp5C_L_surround_200_gx.bp\"\n",
      "aws s3 cp \"/shared/CSHL_volumes/RV9_53hrs/RV9_53hrs_down32_annotationAsScoreVolume/score_volume_gradients/RV9_53hrs_down32_annotationAsScoreVolume_Sp5C_L_surround_200_gy.bp\" \"s3://mousebrainatlas-data/CSHL_volumes/RV9_53hrs/RV9_53hrs_down32_annotationAsScoreVolume/score_volume_gradients/RV9_53hrs_down32_annotationAsScoreVolume_Sp5C_L_surround_200_gy.bp\"\n",
      "aws s3 cp \"/shared/CSHL_volumes/RV9_53hrs/RV9_53hrs_down32_annotationAsScoreVolume/score_volume_gradients/RV9_53hrs_down32_annotationAsScoreVolume_Sp5C_L_surround_200_gz.bp\" \"s3://mousebrainatlas-data/CSHL_volumes/RV9_53hrs/RV9_53hrs_down32_annotationAsScoreVolume/score_volume_gradients/RV9_53hrs_down32_annotationAsScoreVolume_Sp5C_L_surround_200_gz.bp\"\n"
     ]
    },
    {
     "name": "stderr",
     "output_type": "stream",
     "text": [
      "save Sp5C_L_surround_200: 1.559472 seconds\n"
     ]
    },
    {
     "name": "stdout",
     "output_type": "stream",
     "text": [
      "Sp5C_R\n",
      "rm -rf \"/shared/CSHL_volumes/RV9_53hrs/RV9_53hrs_down32_annotationAsScoreVolume/score_volumes/RV9_53hrs_down32_annotationAsScoreVolume_Sp5C_R.bp\" && mkdir -p \"/shared/CSHL_volumes/RV9_53hrs/RV9_53hrs_down32_annotationAsScoreVolume/score_volumes\"\n",
      "aws s3 cp \"s3://mousebrainatlas-data/CSHL_volumes/RV9_53hrs/RV9_53hrs_down32_annotationAsScoreVolume/score_volumes/RV9_53hrs_down32_annotationAsScoreVolume_Sp5C_R.bp\" \"/shared/CSHL_volumes/RV9_53hrs/RV9_53hrs_down32_annotationAsScoreVolume/score_volumes/RV9_53hrs_down32_annotationAsScoreVolume_Sp5C_R.bp\"\n"
     ]
    },
    {
     "name": "stderr",
     "output_type": "stream",
     "text": [
      "File does not exist: /shared/CSHL_volumes/RV9_53hrs/RV9_53hrs_down32_annotationAsScoreVolume/score_volumes/RV9_53hrs_down32_annotationAsScoreVolume_Sp5C_R.bp\n",
      "Error computing gradient for Sp5C_R: [Errno 2] No such file or directory: '/shared/CSHL_volumes/RV9_53hrs/RV9_53hrs_down32_annotationAsScoreVolume/score_volumes/RV9_53hrs_down32_annotationAsScoreVolume_Sp5C_R.bp'.\n"
     ]
    },
    {
     "name": "stdout",
     "output_type": "stream",
     "text": [
      "Sp5C_R_surround_200\n",
      "rm -rf \"/shared/CSHL_volumes/RV9_53hrs/RV9_53hrs_down32_annotationAsScoreVolume/score_volumes/RV9_53hrs_down32_annotationAsScoreVolume_Sp5C_R_surround_200.bp\" && mkdir -p \"/shared/CSHL_volumes/RV9_53hrs/RV9_53hrs_down32_annotationAsScoreVolume/score_volumes\"\n",
      "aws s3 cp \"s3://mousebrainatlas-data/CSHL_volumes/RV9_53hrs/RV9_53hrs_down32_annotationAsScoreVolume/score_volumes/RV9_53hrs_down32_annotationAsScoreVolume_Sp5C_R_surround_200.bp\" \"/shared/CSHL_volumes/RV9_53hrs/RV9_53hrs_down32_annotationAsScoreVolume/score_volumes/RV9_53hrs_down32_annotationAsScoreVolume_Sp5C_R_surround_200.bp\"\n"
     ]
    },
    {
     "name": "stderr",
     "output_type": "stream",
     "text": [
      "File does not exist: /shared/CSHL_volumes/RV9_53hrs/RV9_53hrs_down32_annotationAsScoreVolume/score_volumes/RV9_53hrs_down32_annotationAsScoreVolume_Sp5C_R_surround_200.bp\n",
      "Error computing gradient for Sp5C_R_surround_200: [Errno 2] No such file or directory: '/shared/CSHL_volumes/RV9_53hrs/RV9_53hrs_down32_annotationAsScoreVolume/score_volumes/RV9_53hrs_down32_annotationAsScoreVolume_Sp5C_R_surround_200.bp'.\n"
     ]
    },
    {
     "name": "stdout",
     "output_type": "stream",
     "text": [
      "Sp5I_L\n"
     ]
    },
    {
     "name": "stderr",
     "output_type": "stream",
     "text": [
      "Gradient Sp5I_L: 0.318740 seconds\n"
     ]
    },
    {
     "name": "stdout",
     "output_type": "stream",
     "text": [
      "aws s3 cp \"/shared/CSHL_volumes/RV9_53hrs/RV9_53hrs_down32_annotationAsScoreVolume/score_volume_gradients/RV9_53hrs_down32_annotationAsScoreVolume_Sp5I_L_gx.bp\" \"s3://mousebrainatlas-data/CSHL_volumes/RV9_53hrs/RV9_53hrs_down32_annotationAsScoreVolume/score_volume_gradients/RV9_53hrs_down32_annotationAsScoreVolume_Sp5I_L_gx.bp\"\n",
      "aws s3 cp \"/shared/CSHL_volumes/RV9_53hrs/RV9_53hrs_down32_annotationAsScoreVolume/score_volume_gradients/RV9_53hrs_down32_annotationAsScoreVolume_Sp5I_L_gy.bp\" \"s3://mousebrainatlas-data/CSHL_volumes/RV9_53hrs/RV9_53hrs_down32_annotationAsScoreVolume/score_volume_gradients/RV9_53hrs_down32_annotationAsScoreVolume_Sp5I_L_gy.bp\"\n",
      "aws s3 cp \"/shared/CSHL_volumes/RV9_53hrs/RV9_53hrs_down32_annotationAsScoreVolume/score_volume_gradients/RV9_53hrs_down32_annotationAsScoreVolume_Sp5I_L_gz.bp\" \"s3://mousebrainatlas-data/CSHL_volumes/RV9_53hrs/RV9_53hrs_down32_annotationAsScoreVolume/score_volume_gradients/RV9_53hrs_down32_annotationAsScoreVolume_Sp5I_L_gz.bp\"\n"
     ]
    },
    {
     "name": "stderr",
     "output_type": "stream",
     "text": [
      "save Sp5I_L: 1.407905 seconds\n"
     ]
    },
    {
     "name": "stdout",
     "output_type": "stream",
     "text": [
      "Sp5I_L_surround_200\n"
     ]
    },
    {
     "name": "stderr",
     "output_type": "stream",
     "text": [
      "Gradient Sp5I_L_surround_200: 0.316999 seconds\n"
     ]
    },
    {
     "name": "stdout",
     "output_type": "stream",
     "text": [
      "aws s3 cp \"/shared/CSHL_volumes/RV9_53hrs/RV9_53hrs_down32_annotationAsScoreVolume/score_volume_gradients/RV9_53hrs_down32_annotationAsScoreVolume_Sp5I_L_surround_200_gx.bp\" \"s3://mousebrainatlas-data/CSHL_volumes/RV9_53hrs/RV9_53hrs_down32_annotationAsScoreVolume/score_volume_gradients/RV9_53hrs_down32_annotationAsScoreVolume_Sp5I_L_surround_200_gx.bp\"\n",
      "aws s3 cp \"/shared/CSHL_volumes/RV9_53hrs/RV9_53hrs_down32_annotationAsScoreVolume/score_volume_gradients/RV9_53hrs_down32_annotationAsScoreVolume_Sp5I_L_surround_200_gy.bp\" \"s3://mousebrainatlas-data/CSHL_volumes/RV9_53hrs/RV9_53hrs_down32_annotationAsScoreVolume/score_volume_gradients/RV9_53hrs_down32_annotationAsScoreVolume_Sp5I_L_surround_200_gy.bp\"\n",
      "aws s3 cp \"/shared/CSHL_volumes/RV9_53hrs/RV9_53hrs_down32_annotationAsScoreVolume/score_volume_gradients/RV9_53hrs_down32_annotationAsScoreVolume_Sp5I_L_surround_200_gz.bp\" \"s3://mousebrainatlas-data/CSHL_volumes/RV9_53hrs/RV9_53hrs_down32_annotationAsScoreVolume/score_volume_gradients/RV9_53hrs_down32_annotationAsScoreVolume_Sp5I_L_surround_200_gz.bp\"\n"
     ]
    },
    {
     "name": "stderr",
     "output_type": "stream",
     "text": [
      "save Sp5I_L_surround_200: 1.525616 seconds\n"
     ]
    },
    {
     "name": "stdout",
     "output_type": "stream",
     "text": [
      "Sp5I_R\n",
      "rm -rf \"/shared/CSHL_volumes/RV9_53hrs/RV9_53hrs_down32_annotationAsScoreVolume/score_volumes/RV9_53hrs_down32_annotationAsScoreVolume_Sp5I_R.bp\" && mkdir -p \"/shared/CSHL_volumes/RV9_53hrs/RV9_53hrs_down32_annotationAsScoreVolume/score_volumes\"\n",
      "aws s3 cp \"s3://mousebrainatlas-data/CSHL_volumes/RV9_53hrs/RV9_53hrs_down32_annotationAsScoreVolume/score_volumes/RV9_53hrs_down32_annotationAsScoreVolume_Sp5I_R.bp\" \"/shared/CSHL_volumes/RV9_53hrs/RV9_53hrs_down32_annotationAsScoreVolume/score_volumes/RV9_53hrs_down32_annotationAsScoreVolume_Sp5I_R.bp\"\n"
     ]
    },
    {
     "name": "stderr",
     "output_type": "stream",
     "text": [
      "File does not exist: /shared/CSHL_volumes/RV9_53hrs/RV9_53hrs_down32_annotationAsScoreVolume/score_volumes/RV9_53hrs_down32_annotationAsScoreVolume_Sp5I_R.bp\n",
      "Error computing gradient for Sp5I_R: [Errno 2] No such file or directory: '/shared/CSHL_volumes/RV9_53hrs/RV9_53hrs_down32_annotationAsScoreVolume/score_volumes/RV9_53hrs_down32_annotationAsScoreVolume_Sp5I_R.bp'.\n"
     ]
    },
    {
     "name": "stdout",
     "output_type": "stream",
     "text": [
      "Sp5I_R_surround_200\n",
      "rm -rf \"/shared/CSHL_volumes/RV9_53hrs/RV9_53hrs_down32_annotationAsScoreVolume/score_volumes/RV9_53hrs_down32_annotationAsScoreVolume_Sp5I_R_surround_200.bp\" && mkdir -p \"/shared/CSHL_volumes/RV9_53hrs/RV9_53hrs_down32_annotationAsScoreVolume/score_volumes\"\n",
      "aws s3 cp \"s3://mousebrainatlas-data/CSHL_volumes/RV9_53hrs/RV9_53hrs_down32_annotationAsScoreVolume/score_volumes/RV9_53hrs_down32_annotationAsScoreVolume_Sp5I_R_surround_200.bp\" \"/shared/CSHL_volumes/RV9_53hrs/RV9_53hrs_down32_annotationAsScoreVolume/score_volumes/RV9_53hrs_down32_annotationAsScoreVolume_Sp5I_R_surround_200.bp\"\n"
     ]
    },
    {
     "name": "stderr",
     "output_type": "stream",
     "text": [
      "File does not exist: /shared/CSHL_volumes/RV9_53hrs/RV9_53hrs_down32_annotationAsScoreVolume/score_volumes/RV9_53hrs_down32_annotationAsScoreVolume_Sp5I_R_surround_200.bp\n",
      "Error computing gradient for Sp5I_R_surround_200: [Errno 2] No such file or directory: '/shared/CSHL_volumes/RV9_53hrs/RV9_53hrs_down32_annotationAsScoreVolume/score_volumes/RV9_53hrs_down32_annotationAsScoreVolume_Sp5I_R_surround_200.bp'.\n"
     ]
    },
    {
     "name": "stdout",
     "output_type": "stream",
     "text": [
      "Sp5O_L\n"
     ]
    },
    {
     "name": "stderr",
     "output_type": "stream",
     "text": [
      "Gradient Sp5O_L: 0.316481 seconds\n"
     ]
    },
    {
     "name": "stdout",
     "output_type": "stream",
     "text": [
      "aws s3 cp \"/shared/CSHL_volumes/RV9_53hrs/RV9_53hrs_down32_annotationAsScoreVolume/score_volume_gradients/RV9_53hrs_down32_annotationAsScoreVolume_Sp5O_L_gx.bp\" \"s3://mousebrainatlas-data/CSHL_volumes/RV9_53hrs/RV9_53hrs_down32_annotationAsScoreVolume/score_volume_gradients/RV9_53hrs_down32_annotationAsScoreVolume_Sp5O_L_gx.bp\"\n",
      "aws s3 cp \"/shared/CSHL_volumes/RV9_53hrs/RV9_53hrs_down32_annotationAsScoreVolume/score_volume_gradients/RV9_53hrs_down32_annotationAsScoreVolume_Sp5O_L_gy.bp\" \"s3://mousebrainatlas-data/CSHL_volumes/RV9_53hrs/RV9_53hrs_down32_annotationAsScoreVolume/score_volume_gradients/RV9_53hrs_down32_annotationAsScoreVolume_Sp5O_L_gy.bp\"\n",
      "aws s3 cp \"/shared/CSHL_volumes/RV9_53hrs/RV9_53hrs_down32_annotationAsScoreVolume/score_volume_gradients/RV9_53hrs_down32_annotationAsScoreVolume_Sp5O_L_gz.bp\" \"s3://mousebrainatlas-data/CSHL_volumes/RV9_53hrs/RV9_53hrs_down32_annotationAsScoreVolume/score_volume_gradients/RV9_53hrs_down32_annotationAsScoreVolume_Sp5O_L_gz.bp\"\n"
     ]
    },
    {
     "name": "stderr",
     "output_type": "stream",
     "text": [
      "save Sp5O_L: 1.396490 seconds\n"
     ]
    },
    {
     "name": "stdout",
     "output_type": "stream",
     "text": [
      "Sp5O_L_surround_200\n"
     ]
    },
    {
     "name": "stderr",
     "output_type": "stream",
     "text": [
      "Gradient Sp5O_L_surround_200: 0.316613 seconds\n"
     ]
    },
    {
     "name": "stdout",
     "output_type": "stream",
     "text": [
      "aws s3 cp \"/shared/CSHL_volumes/RV9_53hrs/RV9_53hrs_down32_annotationAsScoreVolume/score_volume_gradients/RV9_53hrs_down32_annotationAsScoreVolume_Sp5O_L_surround_200_gx.bp\" \"s3://mousebrainatlas-data/CSHL_volumes/RV9_53hrs/RV9_53hrs_down32_annotationAsScoreVolume/score_volume_gradients/RV9_53hrs_down32_annotationAsScoreVolume_Sp5O_L_surround_200_gx.bp\"\n",
      "aws s3 cp \"/shared/CSHL_volumes/RV9_53hrs/RV9_53hrs_down32_annotationAsScoreVolume/score_volume_gradients/RV9_53hrs_down32_annotationAsScoreVolume_Sp5O_L_surround_200_gy.bp\" \"s3://mousebrainatlas-data/CSHL_volumes/RV9_53hrs/RV9_53hrs_down32_annotationAsScoreVolume/score_volume_gradients/RV9_53hrs_down32_annotationAsScoreVolume_Sp5O_L_surround_200_gy.bp\"\n",
      "aws s3 cp \"/shared/CSHL_volumes/RV9_53hrs/RV9_53hrs_down32_annotationAsScoreVolume/score_volume_gradients/RV9_53hrs_down32_annotationAsScoreVolume_Sp5O_L_surround_200_gz.bp\" \"s3://mousebrainatlas-data/CSHL_volumes/RV9_53hrs/RV9_53hrs_down32_annotationAsScoreVolume/score_volume_gradients/RV9_53hrs_down32_annotationAsScoreVolume_Sp5O_L_surround_200_gz.bp\"\n"
     ]
    },
    {
     "name": "stderr",
     "output_type": "stream",
     "text": [
      "save Sp5O_L_surround_200: 1.464565 seconds\n"
     ]
    },
    {
     "name": "stdout",
     "output_type": "stream",
     "text": [
      "Sp5O_R\n",
      "rm -rf \"/shared/CSHL_volumes/RV9_53hrs/RV9_53hrs_down32_annotationAsScoreVolume/score_volumes/RV9_53hrs_down32_annotationAsScoreVolume_Sp5O_R.bp\" && mkdir -p \"/shared/CSHL_volumes/RV9_53hrs/RV9_53hrs_down32_annotationAsScoreVolume/score_volumes\"\n",
      "aws s3 cp \"s3://mousebrainatlas-data/CSHL_volumes/RV9_53hrs/RV9_53hrs_down32_annotationAsScoreVolume/score_volumes/RV9_53hrs_down32_annotationAsScoreVolume_Sp5O_R.bp\" \"/shared/CSHL_volumes/RV9_53hrs/RV9_53hrs_down32_annotationAsScoreVolume/score_volumes/RV9_53hrs_down32_annotationAsScoreVolume_Sp5O_R.bp\"\n"
     ]
    },
    {
     "name": "stderr",
     "output_type": "stream",
     "text": [
      "File does not exist: /shared/CSHL_volumes/RV9_53hrs/RV9_53hrs_down32_annotationAsScoreVolume/score_volumes/RV9_53hrs_down32_annotationAsScoreVolume_Sp5O_R.bp\n",
      "Error computing gradient for Sp5O_R: [Errno 2] No such file or directory: '/shared/CSHL_volumes/RV9_53hrs/RV9_53hrs_down32_annotationAsScoreVolume/score_volumes/RV9_53hrs_down32_annotationAsScoreVolume_Sp5O_R.bp'.\n"
     ]
    },
    {
     "name": "stdout",
     "output_type": "stream",
     "text": [
      "Sp5O_R_surround_200\n",
      "rm -rf \"/shared/CSHL_volumes/RV9_53hrs/RV9_53hrs_down32_annotationAsScoreVolume/score_volumes/RV9_53hrs_down32_annotationAsScoreVolume_Sp5O_R_surround_200.bp\" && mkdir -p \"/shared/CSHL_volumes/RV9_53hrs/RV9_53hrs_down32_annotationAsScoreVolume/score_volumes\"\n",
      "aws s3 cp \"s3://mousebrainatlas-data/CSHL_volumes/RV9_53hrs/RV9_53hrs_down32_annotationAsScoreVolume/score_volumes/RV9_53hrs_down32_annotationAsScoreVolume_Sp5O_R_surround_200.bp\" \"/shared/CSHL_volumes/RV9_53hrs/RV9_53hrs_down32_annotationAsScoreVolume/score_volumes/RV9_53hrs_down32_annotationAsScoreVolume_Sp5O_R_surround_200.bp\"\n"
     ]
    },
    {
     "name": "stderr",
     "output_type": "stream",
     "text": [
      "File does not exist: /shared/CSHL_volumes/RV9_53hrs/RV9_53hrs_down32_annotationAsScoreVolume/score_volumes/RV9_53hrs_down32_annotationAsScoreVolume_Sp5O_R_surround_200.bp\n",
      "Error computing gradient for Sp5O_R_surround_200: [Errno 2] No such file or directory: '/shared/CSHL_volumes/RV9_53hrs/RV9_53hrs_down32_annotationAsScoreVolume/score_volumes/RV9_53hrs_down32_annotationAsScoreVolume_Sp5O_R_surround_200.bp'.\n"
     ]
    },
    {
     "name": "stdout",
     "output_type": "stream",
     "text": [
      "Tz_L\n",
      "rm -rf \"/shared/CSHL_volumes/RV9_53hrs/RV9_53hrs_down32_annotationAsScoreVolume/score_volumes/RV9_53hrs_down32_annotationAsScoreVolume_Tz_L.bp\" && mkdir -p \"/shared/CSHL_volumes/RV9_53hrs/RV9_53hrs_down32_annotationAsScoreVolume/score_volumes\"\n",
      "aws s3 cp \"s3://mousebrainatlas-data/CSHL_volumes/RV9_53hrs/RV9_53hrs_down32_annotationAsScoreVolume/score_volumes/RV9_53hrs_down32_annotationAsScoreVolume_Tz_L.bp\" \"/shared/CSHL_volumes/RV9_53hrs/RV9_53hrs_down32_annotationAsScoreVolume/score_volumes/RV9_53hrs_down32_annotationAsScoreVolume_Tz_L.bp\"\n"
     ]
    },
    {
     "name": "stderr",
     "output_type": "stream",
     "text": [
      "File does not exist: /shared/CSHL_volumes/RV9_53hrs/RV9_53hrs_down32_annotationAsScoreVolume/score_volumes/RV9_53hrs_down32_annotationAsScoreVolume_Tz_L.bp\n",
      "Error computing gradient for Tz_L: [Errno 2] No such file or directory: '/shared/CSHL_volumes/RV9_53hrs/RV9_53hrs_down32_annotationAsScoreVolume/score_volumes/RV9_53hrs_down32_annotationAsScoreVolume_Tz_L.bp'.\n"
     ]
    },
    {
     "name": "stdout",
     "output_type": "stream",
     "text": [
      "Tz_L_surround_200\n",
      "rm -rf \"/shared/CSHL_volumes/RV9_53hrs/RV9_53hrs_down32_annotationAsScoreVolume/score_volumes/RV9_53hrs_down32_annotationAsScoreVolume_Tz_L_surround_200.bp\" && mkdir -p \"/shared/CSHL_volumes/RV9_53hrs/RV9_53hrs_down32_annotationAsScoreVolume/score_volumes\"\n",
      "aws s3 cp \"s3://mousebrainatlas-data/CSHL_volumes/RV9_53hrs/RV9_53hrs_down32_annotationAsScoreVolume/score_volumes/RV9_53hrs_down32_annotationAsScoreVolume_Tz_L_surround_200.bp\" \"/shared/CSHL_volumes/RV9_53hrs/RV9_53hrs_down32_annotationAsScoreVolume/score_volumes/RV9_53hrs_down32_annotationAsScoreVolume_Tz_L_surround_200.bp\"\n"
     ]
    },
    {
     "name": "stderr",
     "output_type": "stream",
     "text": [
      "File does not exist: /shared/CSHL_volumes/RV9_53hrs/RV9_53hrs_down32_annotationAsScoreVolume/score_volumes/RV9_53hrs_down32_annotationAsScoreVolume_Tz_L_surround_200.bp\n",
      "Error computing gradient for Tz_L_surround_200: [Errno 2] No such file or directory: '/shared/CSHL_volumes/RV9_53hrs/RV9_53hrs_down32_annotationAsScoreVolume/score_volumes/RV9_53hrs_down32_annotationAsScoreVolume_Tz_L_surround_200.bp'.\n"
     ]
    },
    {
     "name": "stdout",
     "output_type": "stream",
     "text": [
      "Tz_R\n",
      "rm -rf \"/shared/CSHL_volumes/RV9_53hrs/RV9_53hrs_down32_annotationAsScoreVolume/score_volumes/RV9_53hrs_down32_annotationAsScoreVolume_Tz_R.bp\" && mkdir -p \"/shared/CSHL_volumes/RV9_53hrs/RV9_53hrs_down32_annotationAsScoreVolume/score_volumes\"\n",
      "aws s3 cp \"s3://mousebrainatlas-data/CSHL_volumes/RV9_53hrs/RV9_53hrs_down32_annotationAsScoreVolume/score_volumes/RV9_53hrs_down32_annotationAsScoreVolume_Tz_R.bp\" \"/shared/CSHL_volumes/RV9_53hrs/RV9_53hrs_down32_annotationAsScoreVolume/score_volumes/RV9_53hrs_down32_annotationAsScoreVolume_Tz_R.bp\"\n"
     ]
    },
    {
     "name": "stderr",
     "output_type": "stream",
     "text": [
      "File does not exist: /shared/CSHL_volumes/RV9_53hrs/RV9_53hrs_down32_annotationAsScoreVolume/score_volumes/RV9_53hrs_down32_annotationAsScoreVolume_Tz_R.bp\n",
      "Error computing gradient for Tz_R: [Errno 2] No such file or directory: '/shared/CSHL_volumes/RV9_53hrs/RV9_53hrs_down32_annotationAsScoreVolume/score_volumes/RV9_53hrs_down32_annotationAsScoreVolume_Tz_R.bp'.\n"
     ]
    },
    {
     "name": "stdout",
     "output_type": "stream",
     "text": [
      "Tz_R_surround_200\n",
      "rm -rf \"/shared/CSHL_volumes/RV9_53hrs/RV9_53hrs_down32_annotationAsScoreVolume/score_volumes/RV9_53hrs_down32_annotationAsScoreVolume_Tz_R_surround_200.bp\" && mkdir -p \"/shared/CSHL_volumes/RV9_53hrs/RV9_53hrs_down32_annotationAsScoreVolume/score_volumes\"\n",
      "aws s3 cp \"s3://mousebrainatlas-data/CSHL_volumes/RV9_53hrs/RV9_53hrs_down32_annotationAsScoreVolume/score_volumes/RV9_53hrs_down32_annotationAsScoreVolume_Tz_R_surround_200.bp\" \"/shared/CSHL_volumes/RV9_53hrs/RV9_53hrs_down32_annotationAsScoreVolume/score_volumes/RV9_53hrs_down32_annotationAsScoreVolume_Tz_R_surround_200.bp\"\n"
     ]
    },
    {
     "name": "stderr",
     "output_type": "stream",
     "text": [
      "File does not exist: /shared/CSHL_volumes/RV9_53hrs/RV9_53hrs_down32_annotationAsScoreVolume/score_volumes/RV9_53hrs_down32_annotationAsScoreVolume_Tz_R_surround_200.bp\n",
      "Error computing gradient for Tz_R_surround_200: [Errno 2] No such file or directory: '/shared/CSHL_volumes/RV9_53hrs/RV9_53hrs_down32_annotationAsScoreVolume/score_volumes/RV9_53hrs_down32_annotationAsScoreVolume_Tz_R_surround_200.bp'.\n"
     ]
    },
    {
     "name": "stdout",
     "output_type": "stream",
     "text": [
      "VCA_L\n",
      "rm -rf \"/shared/CSHL_volumes/RV9_53hrs/RV9_53hrs_down32_annotationAsScoreVolume/score_volumes/RV9_53hrs_down32_annotationAsScoreVolume_VCA_L.bp\" && mkdir -p \"/shared/CSHL_volumes/RV9_53hrs/RV9_53hrs_down32_annotationAsScoreVolume/score_volumes\"\n",
      "aws s3 cp \"s3://mousebrainatlas-data/CSHL_volumes/RV9_53hrs/RV9_53hrs_down32_annotationAsScoreVolume/score_volumes/RV9_53hrs_down32_annotationAsScoreVolume_VCA_L.bp\" \"/shared/CSHL_volumes/RV9_53hrs/RV9_53hrs_down32_annotationAsScoreVolume/score_volumes/RV9_53hrs_down32_annotationAsScoreVolume_VCA_L.bp\"\n"
     ]
    },
    {
     "name": "stderr",
     "output_type": "stream",
     "text": [
      "File does not exist: /shared/CSHL_volumes/RV9_53hrs/RV9_53hrs_down32_annotationAsScoreVolume/score_volumes/RV9_53hrs_down32_annotationAsScoreVolume_VCA_L.bp\n",
      "Error computing gradient for VCA_L: [Errno 2] No such file or directory: '/shared/CSHL_volumes/RV9_53hrs/RV9_53hrs_down32_annotationAsScoreVolume/score_volumes/RV9_53hrs_down32_annotationAsScoreVolume_VCA_L.bp'.\n"
     ]
    },
    {
     "name": "stdout",
     "output_type": "stream",
     "text": [
      "VCA_L_surround_200\n",
      "rm -rf \"/shared/CSHL_volumes/RV9_53hrs/RV9_53hrs_down32_annotationAsScoreVolume/score_volumes/RV9_53hrs_down32_annotationAsScoreVolume_VCA_L_surround_200.bp\" && mkdir -p \"/shared/CSHL_volumes/RV9_53hrs/RV9_53hrs_down32_annotationAsScoreVolume/score_volumes\"\n",
      "aws s3 cp \"s3://mousebrainatlas-data/CSHL_volumes/RV9_53hrs/RV9_53hrs_down32_annotationAsScoreVolume/score_volumes/RV9_53hrs_down32_annotationAsScoreVolume_VCA_L_surround_200.bp\" \"/shared/CSHL_volumes/RV9_53hrs/RV9_53hrs_down32_annotationAsScoreVolume/score_volumes/RV9_53hrs_down32_annotationAsScoreVolume_VCA_L_surround_200.bp\"\n"
     ]
    },
    {
     "name": "stderr",
     "output_type": "stream",
     "text": [
      "File does not exist: /shared/CSHL_volumes/RV9_53hrs/RV9_53hrs_down32_annotationAsScoreVolume/score_volumes/RV9_53hrs_down32_annotationAsScoreVolume_VCA_L_surround_200.bp\n",
      "Error computing gradient for VCA_L_surround_200: [Errno 2] No such file or directory: '/shared/CSHL_volumes/RV9_53hrs/RV9_53hrs_down32_annotationAsScoreVolume/score_volumes/RV9_53hrs_down32_annotationAsScoreVolume_VCA_L_surround_200.bp'.\n"
     ]
    },
    {
     "name": "stdout",
     "output_type": "stream",
     "text": [
      "VCA_R\n",
      "rm -rf \"/shared/CSHL_volumes/RV9_53hrs/RV9_53hrs_down32_annotationAsScoreVolume/score_volumes/RV9_53hrs_down32_annotationAsScoreVolume_VCA_R.bp\" && mkdir -p \"/shared/CSHL_volumes/RV9_53hrs/RV9_53hrs_down32_annotationAsScoreVolume/score_volumes\"\n",
      "aws s3 cp \"s3://mousebrainatlas-data/CSHL_volumes/RV9_53hrs/RV9_53hrs_down32_annotationAsScoreVolume/score_volumes/RV9_53hrs_down32_annotationAsScoreVolume_VCA_R.bp\" \"/shared/CSHL_volumes/RV9_53hrs/RV9_53hrs_down32_annotationAsScoreVolume/score_volumes/RV9_53hrs_down32_annotationAsScoreVolume_VCA_R.bp\"\n"
     ]
    },
    {
     "name": "stderr",
     "output_type": "stream",
     "text": [
      "File does not exist: /shared/CSHL_volumes/RV9_53hrs/RV9_53hrs_down32_annotationAsScoreVolume/score_volumes/RV9_53hrs_down32_annotationAsScoreVolume_VCA_R.bp\n",
      "Error computing gradient for VCA_R: [Errno 2] No such file or directory: '/shared/CSHL_volumes/RV9_53hrs/RV9_53hrs_down32_annotationAsScoreVolume/score_volumes/RV9_53hrs_down32_annotationAsScoreVolume_VCA_R.bp'.\n"
     ]
    },
    {
     "name": "stdout",
     "output_type": "stream",
     "text": [
      "VCA_R_surround_200\n",
      "rm -rf \"/shared/CSHL_volumes/RV9_53hrs/RV9_53hrs_down32_annotationAsScoreVolume/score_volumes/RV9_53hrs_down32_annotationAsScoreVolume_VCA_R_surround_200.bp\" && mkdir -p \"/shared/CSHL_volumes/RV9_53hrs/RV9_53hrs_down32_annotationAsScoreVolume/score_volumes\"\n",
      "aws s3 cp \"s3://mousebrainatlas-data/CSHL_volumes/RV9_53hrs/RV9_53hrs_down32_annotationAsScoreVolume/score_volumes/RV9_53hrs_down32_annotationAsScoreVolume_VCA_R_surround_200.bp\" \"/shared/CSHL_volumes/RV9_53hrs/RV9_53hrs_down32_annotationAsScoreVolume/score_volumes/RV9_53hrs_down32_annotationAsScoreVolume_VCA_R_surround_200.bp\"\n"
     ]
    },
    {
     "name": "stderr",
     "output_type": "stream",
     "text": [
      "File does not exist: /shared/CSHL_volumes/RV9_53hrs/RV9_53hrs_down32_annotationAsScoreVolume/score_volumes/RV9_53hrs_down32_annotationAsScoreVolume_VCA_R_surround_200.bp\n",
      "Error computing gradient for VCA_R_surround_200: [Errno 2] No such file or directory: '/shared/CSHL_volumes/RV9_53hrs/RV9_53hrs_down32_annotationAsScoreVolume/score_volumes/RV9_53hrs_down32_annotationAsScoreVolume_VCA_R_surround_200.bp'.\n"
     ]
    },
    {
     "name": "stdout",
     "output_type": "stream",
     "text": [
      "VCP_L\n",
      "rm -rf \"/shared/CSHL_volumes/RV9_53hrs/RV9_53hrs_down32_annotationAsScoreVolume/score_volumes/RV9_53hrs_down32_annotationAsScoreVolume_VCP_L.bp\" && mkdir -p \"/shared/CSHL_volumes/RV9_53hrs/RV9_53hrs_down32_annotationAsScoreVolume/score_volumes\"\n",
      "aws s3 cp \"s3://mousebrainatlas-data/CSHL_volumes/RV9_53hrs/RV9_53hrs_down32_annotationAsScoreVolume/score_volumes/RV9_53hrs_down32_annotationAsScoreVolume_VCP_L.bp\" \"/shared/CSHL_volumes/RV9_53hrs/RV9_53hrs_down32_annotationAsScoreVolume/score_volumes/RV9_53hrs_down32_annotationAsScoreVolume_VCP_L.bp\"\n"
     ]
    },
    {
     "name": "stderr",
     "output_type": "stream",
     "text": [
      "File does not exist: /shared/CSHL_volumes/RV9_53hrs/RV9_53hrs_down32_annotationAsScoreVolume/score_volumes/RV9_53hrs_down32_annotationAsScoreVolume_VCP_L.bp\n",
      "Error computing gradient for VCP_L: [Errno 2] No such file or directory: '/shared/CSHL_volumes/RV9_53hrs/RV9_53hrs_down32_annotationAsScoreVolume/score_volumes/RV9_53hrs_down32_annotationAsScoreVolume_VCP_L.bp'.\n"
     ]
    },
    {
     "name": "stdout",
     "output_type": "stream",
     "text": [
      "VCP_L_surround_200\n",
      "rm -rf \"/shared/CSHL_volumes/RV9_53hrs/RV9_53hrs_down32_annotationAsScoreVolume/score_volumes/RV9_53hrs_down32_annotationAsScoreVolume_VCP_L_surround_200.bp\" && mkdir -p \"/shared/CSHL_volumes/RV9_53hrs/RV9_53hrs_down32_annotationAsScoreVolume/score_volumes\"\n",
      "aws s3 cp \"s3://mousebrainatlas-data/CSHL_volumes/RV9_53hrs/RV9_53hrs_down32_annotationAsScoreVolume/score_volumes/RV9_53hrs_down32_annotationAsScoreVolume_VCP_L_surround_200.bp\" \"/shared/CSHL_volumes/RV9_53hrs/RV9_53hrs_down32_annotationAsScoreVolume/score_volumes/RV9_53hrs_down32_annotationAsScoreVolume_VCP_L_surround_200.bp\"\n"
     ]
    },
    {
     "name": "stderr",
     "output_type": "stream",
     "text": [
      "File does not exist: /shared/CSHL_volumes/RV9_53hrs/RV9_53hrs_down32_annotationAsScoreVolume/score_volumes/RV9_53hrs_down32_annotationAsScoreVolume_VCP_L_surround_200.bp\n",
      "Error computing gradient for VCP_L_surround_200: [Errno 2] No such file or directory: '/shared/CSHL_volumes/RV9_53hrs/RV9_53hrs_down32_annotationAsScoreVolume/score_volumes/RV9_53hrs_down32_annotationAsScoreVolume_VCP_L_surround_200.bp'.\n"
     ]
    },
    {
     "name": "stdout",
     "output_type": "stream",
     "text": [
      "VCP_R\n",
      "rm -rf \"/shared/CSHL_volumes/RV9_53hrs/RV9_53hrs_down32_annotationAsScoreVolume/score_volumes/RV9_53hrs_down32_annotationAsScoreVolume_VCP_R.bp\" && mkdir -p \"/shared/CSHL_volumes/RV9_53hrs/RV9_53hrs_down32_annotationAsScoreVolume/score_volumes\"\n",
      "aws s3 cp \"s3://mousebrainatlas-data/CSHL_volumes/RV9_53hrs/RV9_53hrs_down32_annotationAsScoreVolume/score_volumes/RV9_53hrs_down32_annotationAsScoreVolume_VCP_R.bp\" \"/shared/CSHL_volumes/RV9_53hrs/RV9_53hrs_down32_annotationAsScoreVolume/score_volumes/RV9_53hrs_down32_annotationAsScoreVolume_VCP_R.bp\"\n"
     ]
    },
    {
     "name": "stderr",
     "output_type": "stream",
     "text": [
      "File does not exist: /shared/CSHL_volumes/RV9_53hrs/RV9_53hrs_down32_annotationAsScoreVolume/score_volumes/RV9_53hrs_down32_annotationAsScoreVolume_VCP_R.bp\n",
      "Error computing gradient for VCP_R: [Errno 2] No such file or directory: '/shared/CSHL_volumes/RV9_53hrs/RV9_53hrs_down32_annotationAsScoreVolume/score_volumes/RV9_53hrs_down32_annotationAsScoreVolume_VCP_R.bp'.\n"
     ]
    },
    {
     "name": "stdout",
     "output_type": "stream",
     "text": [
      "VCP_R_surround_200\n",
      "rm -rf \"/shared/CSHL_volumes/RV9_53hrs/RV9_53hrs_down32_annotationAsScoreVolume/score_volumes/RV9_53hrs_down32_annotationAsScoreVolume_VCP_R_surround_200.bp\" && mkdir -p \"/shared/CSHL_volumes/RV9_53hrs/RV9_53hrs_down32_annotationAsScoreVolume/score_volumes\"\n",
      "aws s3 cp \"s3://mousebrainatlas-data/CSHL_volumes/RV9_53hrs/RV9_53hrs_down32_annotationAsScoreVolume/score_volumes/RV9_53hrs_down32_annotationAsScoreVolume_VCP_R_surround_200.bp\" \"/shared/CSHL_volumes/RV9_53hrs/RV9_53hrs_down32_annotationAsScoreVolume/score_volumes/RV9_53hrs_down32_annotationAsScoreVolume_VCP_R_surround_200.bp\"\n"
     ]
    },
    {
     "name": "stderr",
     "output_type": "stream",
     "text": [
      "File does not exist: /shared/CSHL_volumes/RV9_53hrs/RV9_53hrs_down32_annotationAsScoreVolume/score_volumes/RV9_53hrs_down32_annotationAsScoreVolume_VCP_R_surround_200.bp\n",
      "Error computing gradient for VCP_R_surround_200: [Errno 2] No such file or directory: '/shared/CSHL_volumes/RV9_53hrs/RV9_53hrs_down32_annotationAsScoreVolume/score_volumes/RV9_53hrs_down32_annotationAsScoreVolume_VCP_R_surround_200.bp'.\n"
     ]
    },
    {
     "name": "stdout",
     "output_type": "stream",
     "text": [
      "VLL_L\n",
      "rm -rf \"/shared/CSHL_volumes/RV9_53hrs/RV9_53hrs_down32_annotationAsScoreVolume/score_volumes/RV9_53hrs_down32_annotationAsScoreVolume_VLL_L.bp\" && mkdir -p \"/shared/CSHL_volumes/RV9_53hrs/RV9_53hrs_down32_annotationAsScoreVolume/score_volumes\"\n",
      "aws s3 cp \"s3://mousebrainatlas-data/CSHL_volumes/RV9_53hrs/RV9_53hrs_down32_annotationAsScoreVolume/score_volumes/RV9_53hrs_down32_annotationAsScoreVolume_VLL_L.bp\" \"/shared/CSHL_volumes/RV9_53hrs/RV9_53hrs_down32_annotationAsScoreVolume/score_volumes/RV9_53hrs_down32_annotationAsScoreVolume_VLL_L.bp\"\n"
     ]
    },
    {
     "name": "stderr",
     "output_type": "stream",
     "text": [
      "File does not exist: /shared/CSHL_volumes/RV9_53hrs/RV9_53hrs_down32_annotationAsScoreVolume/score_volumes/RV9_53hrs_down32_annotationAsScoreVolume_VLL_L.bp\n",
      "Error computing gradient for VLL_L: [Errno 2] No such file or directory: '/shared/CSHL_volumes/RV9_53hrs/RV9_53hrs_down32_annotationAsScoreVolume/score_volumes/RV9_53hrs_down32_annotationAsScoreVolume_VLL_L.bp'.\n"
     ]
    },
    {
     "name": "stdout",
     "output_type": "stream",
     "text": [
      "VLL_L_surround_200\n",
      "rm -rf \"/shared/CSHL_volumes/RV9_53hrs/RV9_53hrs_down32_annotationAsScoreVolume/score_volumes/RV9_53hrs_down32_annotationAsScoreVolume_VLL_L_surround_200.bp\" && mkdir -p \"/shared/CSHL_volumes/RV9_53hrs/RV9_53hrs_down32_annotationAsScoreVolume/score_volumes\"\n",
      "aws s3 cp \"s3://mousebrainatlas-data/CSHL_volumes/RV9_53hrs/RV9_53hrs_down32_annotationAsScoreVolume/score_volumes/RV9_53hrs_down32_annotationAsScoreVolume_VLL_L_surround_200.bp\" \"/shared/CSHL_volumes/RV9_53hrs/RV9_53hrs_down32_annotationAsScoreVolume/score_volumes/RV9_53hrs_down32_annotationAsScoreVolume_VLL_L_surround_200.bp\"\n"
     ]
    },
    {
     "name": "stderr",
     "output_type": "stream",
     "text": [
      "File does not exist: /shared/CSHL_volumes/RV9_53hrs/RV9_53hrs_down32_annotationAsScoreVolume/score_volumes/RV9_53hrs_down32_annotationAsScoreVolume_VLL_L_surround_200.bp\n",
      "Error computing gradient for VLL_L_surround_200: [Errno 2] No such file or directory: '/shared/CSHL_volumes/RV9_53hrs/RV9_53hrs_down32_annotationAsScoreVolume/score_volumes/RV9_53hrs_down32_annotationAsScoreVolume_VLL_L_surround_200.bp'.\n"
     ]
    },
    {
     "name": "stdout",
     "output_type": "stream",
     "text": [
      "VLL_R\n",
      "rm -rf \"/shared/CSHL_volumes/RV9_53hrs/RV9_53hrs_down32_annotationAsScoreVolume/score_volumes/RV9_53hrs_down32_annotationAsScoreVolume_VLL_R.bp\" && mkdir -p \"/shared/CSHL_volumes/RV9_53hrs/RV9_53hrs_down32_annotationAsScoreVolume/score_volumes\"\n",
      "aws s3 cp \"s3://mousebrainatlas-data/CSHL_volumes/RV9_53hrs/RV9_53hrs_down32_annotationAsScoreVolume/score_volumes/RV9_53hrs_down32_annotationAsScoreVolume_VLL_R.bp\" \"/shared/CSHL_volumes/RV9_53hrs/RV9_53hrs_down32_annotationAsScoreVolume/score_volumes/RV9_53hrs_down32_annotationAsScoreVolume_VLL_R.bp\"\n"
     ]
    },
    {
     "name": "stderr",
     "output_type": "stream",
     "text": [
      "File does not exist: /shared/CSHL_volumes/RV9_53hrs/RV9_53hrs_down32_annotationAsScoreVolume/score_volumes/RV9_53hrs_down32_annotationAsScoreVolume_VLL_R.bp\n",
      "Error computing gradient for VLL_R: [Errno 2] No such file or directory: '/shared/CSHL_volumes/RV9_53hrs/RV9_53hrs_down32_annotationAsScoreVolume/score_volumes/RV9_53hrs_down32_annotationAsScoreVolume_VLL_R.bp'.\n"
     ]
    },
    {
     "name": "stdout",
     "output_type": "stream",
     "text": [
      "VLL_R_surround_200\n",
      "rm -rf \"/shared/CSHL_volumes/RV9_53hrs/RV9_53hrs_down32_annotationAsScoreVolume/score_volumes/RV9_53hrs_down32_annotationAsScoreVolume_VLL_R_surround_200.bp\" && mkdir -p \"/shared/CSHL_volumes/RV9_53hrs/RV9_53hrs_down32_annotationAsScoreVolume/score_volumes\"\n",
      "aws s3 cp \"s3://mousebrainatlas-data/CSHL_volumes/RV9_53hrs/RV9_53hrs_down32_annotationAsScoreVolume/score_volumes/RV9_53hrs_down32_annotationAsScoreVolume_VLL_R_surround_200.bp\" \"/shared/CSHL_volumes/RV9_53hrs/RV9_53hrs_down32_annotationAsScoreVolume/score_volumes/RV9_53hrs_down32_annotationAsScoreVolume_VLL_R_surround_200.bp\"\n"
     ]
    },
    {
     "name": "stderr",
     "output_type": "stream",
     "text": [
      "File does not exist: /shared/CSHL_volumes/RV9_53hrs/RV9_53hrs_down32_annotationAsScoreVolume/score_volumes/RV9_53hrs_down32_annotationAsScoreVolume_VLL_R_surround_200.bp\n",
      "Error computing gradient for VLL_R_surround_200: [Errno 2] No such file or directory: '/shared/CSHL_volumes/RV9_53hrs/RV9_53hrs_down32_annotationAsScoreVolume/score_volumes/RV9_53hrs_down32_annotationAsScoreVolume_VLL_R_surround_200.bp'.\n"
     ]
    },
    {
     "name": "stdout",
     "output_type": "stream",
     "text": [
      "10N_L\n",
      "rm -rf \"/shared/CSHL_volumes/RV19_61hrs/RV19_61hrs_down32_annotationAsScoreVolume/score_volumes/RV19_61hrs_down32_annotationAsScoreVolume_10N_L.bp\" && mkdir -p \"/shared/CSHL_volumes/RV19_61hrs/RV19_61hrs_down32_annotationAsScoreVolume/score_volumes\"\n",
      "aws s3 cp \"s3://mousebrainatlas-data/CSHL_volumes/RV19_61hrs/RV19_61hrs_down32_annotationAsScoreVolume/score_volumes/RV19_61hrs_down32_annotationAsScoreVolume_10N_L.bp\" \"/shared/CSHL_volumes/RV19_61hrs/RV19_61hrs_down32_annotationAsScoreVolume/score_volumes/RV19_61hrs_down32_annotationAsScoreVolume_10N_L.bp\"\n"
     ]
    },
    {
     "name": "stderr",
     "output_type": "stream",
     "text": [
      "File does not exist: /shared/CSHL_volumes/RV19_61hrs/RV19_61hrs_down32_annotationAsScoreVolume/score_volumes/RV19_61hrs_down32_annotationAsScoreVolume_10N_L.bp\n",
      "Error computing gradient for 10N_L: [Errno 2] No such file or directory: '/shared/CSHL_volumes/RV19_61hrs/RV19_61hrs_down32_annotationAsScoreVolume/score_volumes/RV19_61hrs_down32_annotationAsScoreVolume_10N_L.bp'.\n"
     ]
    },
    {
     "name": "stdout",
     "output_type": "stream",
     "text": [
      "10N_L_surround_200\n",
      "rm -rf \"/shared/CSHL_volumes/RV19_61hrs/RV19_61hrs_down32_annotationAsScoreVolume/score_volumes/RV19_61hrs_down32_annotationAsScoreVolume_10N_L_surround_200.bp\" && mkdir -p \"/shared/CSHL_volumes/RV19_61hrs/RV19_61hrs_down32_annotationAsScoreVolume/score_volumes\"\n",
      "aws s3 cp \"s3://mousebrainatlas-data/CSHL_volumes/RV19_61hrs/RV19_61hrs_down32_annotationAsScoreVolume/score_volumes/RV19_61hrs_down32_annotationAsScoreVolume_10N_L_surround_200.bp\" \"/shared/CSHL_volumes/RV19_61hrs/RV19_61hrs_down32_annotationAsScoreVolume/score_volumes/RV19_61hrs_down32_annotationAsScoreVolume_10N_L_surround_200.bp\"\n"
     ]
    },
    {
     "name": "stderr",
     "output_type": "stream",
     "text": [
      "File does not exist: /shared/CSHL_volumes/RV19_61hrs/RV19_61hrs_down32_annotationAsScoreVolume/score_volumes/RV19_61hrs_down32_annotationAsScoreVolume_10N_L_surround_200.bp\n",
      "Error computing gradient for 10N_L_surround_200: [Errno 2] No such file or directory: '/shared/CSHL_volumes/RV19_61hrs/RV19_61hrs_down32_annotationAsScoreVolume/score_volumes/RV19_61hrs_down32_annotationAsScoreVolume_10N_L_surround_200.bp'.\n"
     ]
    },
    {
     "name": "stdout",
     "output_type": "stream",
     "text": [
      "10N_R\n",
      "rm -rf \"/shared/CSHL_volumes/RV19_61hrs/RV19_61hrs_down32_annotationAsScoreVolume/score_volumes/RV19_61hrs_down32_annotationAsScoreVolume_10N_R.bp\" && mkdir -p \"/shared/CSHL_volumes/RV19_61hrs/RV19_61hrs_down32_annotationAsScoreVolume/score_volumes\"\n",
      "aws s3 cp \"s3://mousebrainatlas-data/CSHL_volumes/RV19_61hrs/RV19_61hrs_down32_annotationAsScoreVolume/score_volumes/RV19_61hrs_down32_annotationAsScoreVolume_10N_R.bp\" \"/shared/CSHL_volumes/RV19_61hrs/RV19_61hrs_down32_annotationAsScoreVolume/score_volumes/RV19_61hrs_down32_annotationAsScoreVolume_10N_R.bp\"\n"
     ]
    },
    {
     "name": "stderr",
     "output_type": "stream",
     "text": [
      "File does not exist: /shared/CSHL_volumes/RV19_61hrs/RV19_61hrs_down32_annotationAsScoreVolume/score_volumes/RV19_61hrs_down32_annotationAsScoreVolume_10N_R.bp\n",
      "Error computing gradient for 10N_R: [Errno 2] No such file or directory: '/shared/CSHL_volumes/RV19_61hrs/RV19_61hrs_down32_annotationAsScoreVolume/score_volumes/RV19_61hrs_down32_annotationAsScoreVolume_10N_R.bp'.\n"
     ]
    },
    {
     "name": "stdout",
     "output_type": "stream",
     "text": [
      "10N_R_surround_200\n",
      "rm -rf \"/shared/CSHL_volumes/RV19_61hrs/RV19_61hrs_down32_annotationAsScoreVolume/score_volumes/RV19_61hrs_down32_annotationAsScoreVolume_10N_R_surround_200.bp\" && mkdir -p \"/shared/CSHL_volumes/RV19_61hrs/RV19_61hrs_down32_annotationAsScoreVolume/score_volumes\"\n",
      "aws s3 cp \"s3://mousebrainatlas-data/CSHL_volumes/RV19_61hrs/RV19_61hrs_down32_annotationAsScoreVolume/score_volumes/RV19_61hrs_down32_annotationAsScoreVolume_10N_R_surround_200.bp\" \"/shared/CSHL_volumes/RV19_61hrs/RV19_61hrs_down32_annotationAsScoreVolume/score_volumes/RV19_61hrs_down32_annotationAsScoreVolume_10N_R_surround_200.bp\"\n"
     ]
    },
    {
     "name": "stderr",
     "output_type": "stream",
     "text": [
      "File does not exist: /shared/CSHL_volumes/RV19_61hrs/RV19_61hrs_down32_annotationAsScoreVolume/score_volumes/RV19_61hrs_down32_annotationAsScoreVolume_10N_R_surround_200.bp\n",
      "Error computing gradient for 10N_R_surround_200: [Errno 2] No such file or directory: '/shared/CSHL_volumes/RV19_61hrs/RV19_61hrs_down32_annotationAsScoreVolume/score_volumes/RV19_61hrs_down32_annotationAsScoreVolume_10N_R_surround_200.bp'.\n"
     ]
    },
    {
     "name": "stdout",
     "output_type": "stream",
     "text": [
      "12N\n",
      "rm -rf \"/shared/CSHL_volumes/RV19_61hrs/RV19_61hrs_down32_annotationAsScoreVolume/score_volumes/RV19_61hrs_down32_annotationAsScoreVolume_12N.bp\" && mkdir -p \"/shared/CSHL_volumes/RV19_61hrs/RV19_61hrs_down32_annotationAsScoreVolume/score_volumes\"\n",
      "aws s3 cp \"s3://mousebrainatlas-data/CSHL_volumes/RV19_61hrs/RV19_61hrs_down32_annotationAsScoreVolume/score_volumes/RV19_61hrs_down32_annotationAsScoreVolume_12N.bp\" \"/shared/CSHL_volumes/RV19_61hrs/RV19_61hrs_down32_annotationAsScoreVolume/score_volumes/RV19_61hrs_down32_annotationAsScoreVolume_12N.bp\"\n"
     ]
    },
    {
     "name": "stderr",
     "output_type": "stream",
     "text": [
      "File does not exist: /shared/CSHL_volumes/RV19_61hrs/RV19_61hrs_down32_annotationAsScoreVolume/score_volumes/RV19_61hrs_down32_annotationAsScoreVolume_12N.bp\n",
      "Error computing gradient for 12N: [Errno 2] No such file or directory: '/shared/CSHL_volumes/RV19_61hrs/RV19_61hrs_down32_annotationAsScoreVolume/score_volumes/RV19_61hrs_down32_annotationAsScoreVolume_12N.bp'.\n"
     ]
    },
    {
     "name": "stdout",
     "output_type": "stream",
     "text": [
      "12N_surround_200\n",
      "rm -rf \"/shared/CSHL_volumes/RV19_61hrs/RV19_61hrs_down32_annotationAsScoreVolume/score_volumes/RV19_61hrs_down32_annotationAsScoreVolume_12N_surround_200.bp\" && mkdir -p \"/shared/CSHL_volumes/RV19_61hrs/RV19_61hrs_down32_annotationAsScoreVolume/score_volumes\"\n",
      "aws s3 cp \"s3://mousebrainatlas-data/CSHL_volumes/RV19_61hrs/RV19_61hrs_down32_annotationAsScoreVolume/score_volumes/RV19_61hrs_down32_annotationAsScoreVolume_12N_surround_200.bp\" \"/shared/CSHL_volumes/RV19_61hrs/RV19_61hrs_down32_annotationAsScoreVolume/score_volumes/RV19_61hrs_down32_annotationAsScoreVolume_12N_surround_200.bp\"\n"
     ]
    },
    {
     "name": "stderr",
     "output_type": "stream",
     "text": [
      "File does not exist: /shared/CSHL_volumes/RV19_61hrs/RV19_61hrs_down32_annotationAsScoreVolume/score_volumes/RV19_61hrs_down32_annotationAsScoreVolume_12N_surround_200.bp\n",
      "Error computing gradient for 12N_surround_200: [Errno 2] No such file or directory: '/shared/CSHL_volumes/RV19_61hrs/RV19_61hrs_down32_annotationAsScoreVolume/score_volumes/RV19_61hrs_down32_annotationAsScoreVolume_12N_surround_200.bp'.\n"
     ]
    },
    {
     "name": "stdout",
     "output_type": "stream",
     "text": [
      "3N_L\n",
      "rm -rf \"/shared/CSHL_volumes/RV19_61hrs/RV19_61hrs_down32_annotationAsScoreVolume/score_volumes/RV19_61hrs_down32_annotationAsScoreVolume_3N_L.bp\" && mkdir -p \"/shared/CSHL_volumes/RV19_61hrs/RV19_61hrs_down32_annotationAsScoreVolume/score_volumes\"\n",
      "aws s3 cp \"s3://mousebrainatlas-data/CSHL_volumes/RV19_61hrs/RV19_61hrs_down32_annotationAsScoreVolume/score_volumes/RV19_61hrs_down32_annotationAsScoreVolume_3N_L.bp\" \"/shared/CSHL_volumes/RV19_61hrs/RV19_61hrs_down32_annotationAsScoreVolume/score_volumes/RV19_61hrs_down32_annotationAsScoreVolume_3N_L.bp\"\n"
     ]
    },
    {
     "name": "stderr",
     "output_type": "stream",
     "text": [
      "File does not exist: /shared/CSHL_volumes/RV19_61hrs/RV19_61hrs_down32_annotationAsScoreVolume/score_volumes/RV19_61hrs_down32_annotationAsScoreVolume_3N_L.bp\n",
      "Error computing gradient for 3N_L: [Errno 2] No such file or directory: '/shared/CSHL_volumes/RV19_61hrs/RV19_61hrs_down32_annotationAsScoreVolume/score_volumes/RV19_61hrs_down32_annotationAsScoreVolume_3N_L.bp'.\n"
     ]
    },
    {
     "name": "stdout",
     "output_type": "stream",
     "text": [
      "3N_L_surround_200\n",
      "rm -rf \"/shared/CSHL_volumes/RV19_61hrs/RV19_61hrs_down32_annotationAsScoreVolume/score_volumes/RV19_61hrs_down32_annotationAsScoreVolume_3N_L_surround_200.bp\" && mkdir -p \"/shared/CSHL_volumes/RV19_61hrs/RV19_61hrs_down32_annotationAsScoreVolume/score_volumes\"\n",
      "aws s3 cp \"s3://mousebrainatlas-data/CSHL_volumes/RV19_61hrs/RV19_61hrs_down32_annotationAsScoreVolume/score_volumes/RV19_61hrs_down32_annotationAsScoreVolume_3N_L_surround_200.bp\" \"/shared/CSHL_volumes/RV19_61hrs/RV19_61hrs_down32_annotationAsScoreVolume/score_volumes/RV19_61hrs_down32_annotationAsScoreVolume_3N_L_surround_200.bp\"\n"
     ]
    },
    {
     "name": "stderr",
     "output_type": "stream",
     "text": [
      "File does not exist: /shared/CSHL_volumes/RV19_61hrs/RV19_61hrs_down32_annotationAsScoreVolume/score_volumes/RV19_61hrs_down32_annotationAsScoreVolume_3N_L_surround_200.bp\n",
      "Error computing gradient for 3N_L_surround_200: [Errno 2] No such file or directory: '/shared/CSHL_volumes/RV19_61hrs/RV19_61hrs_down32_annotationAsScoreVolume/score_volumes/RV19_61hrs_down32_annotationAsScoreVolume_3N_L_surround_200.bp'.\n"
     ]
    },
    {
     "name": "stdout",
     "output_type": "stream",
     "text": [
      "3N_R\n",
      "rm -rf \"/shared/CSHL_volumes/RV19_61hrs/RV19_61hrs_down32_annotationAsScoreVolume/score_volumes/RV19_61hrs_down32_annotationAsScoreVolume_3N_R.bp\" && mkdir -p \"/shared/CSHL_volumes/RV19_61hrs/RV19_61hrs_down32_annotationAsScoreVolume/score_volumes\"\n",
      "aws s3 cp \"s3://mousebrainatlas-data/CSHL_volumes/RV19_61hrs/RV19_61hrs_down32_annotationAsScoreVolume/score_volumes/RV19_61hrs_down32_annotationAsScoreVolume_3N_R.bp\" \"/shared/CSHL_volumes/RV19_61hrs/RV19_61hrs_down32_annotationAsScoreVolume/score_volumes/RV19_61hrs_down32_annotationAsScoreVolume_3N_R.bp\"\n"
     ]
    },
    {
     "name": "stderr",
     "output_type": "stream",
     "text": [
      "File does not exist: /shared/CSHL_volumes/RV19_61hrs/RV19_61hrs_down32_annotationAsScoreVolume/score_volumes/RV19_61hrs_down32_annotationAsScoreVolume_3N_R.bp\n",
      "Error computing gradient for 3N_R: [Errno 2] No such file or directory: '/shared/CSHL_volumes/RV19_61hrs/RV19_61hrs_down32_annotationAsScoreVolume/score_volumes/RV19_61hrs_down32_annotationAsScoreVolume_3N_R.bp'.\n"
     ]
    },
    {
     "name": "stdout",
     "output_type": "stream",
     "text": [
      "3N_R_surround_200\n",
      "rm -rf \"/shared/CSHL_volumes/RV19_61hrs/RV19_61hrs_down32_annotationAsScoreVolume/score_volumes/RV19_61hrs_down32_annotationAsScoreVolume_3N_R_surround_200.bp\" && mkdir -p \"/shared/CSHL_volumes/RV19_61hrs/RV19_61hrs_down32_annotationAsScoreVolume/score_volumes\"\n",
      "aws s3 cp \"s3://mousebrainatlas-data/CSHL_volumes/RV19_61hrs/RV19_61hrs_down32_annotationAsScoreVolume/score_volumes/RV19_61hrs_down32_annotationAsScoreVolume_3N_R_surround_200.bp\" \"/shared/CSHL_volumes/RV19_61hrs/RV19_61hrs_down32_annotationAsScoreVolume/score_volumes/RV19_61hrs_down32_annotationAsScoreVolume_3N_R_surround_200.bp\"\n"
     ]
    },
    {
     "name": "stderr",
     "output_type": "stream",
     "text": [
      "File does not exist: /shared/CSHL_volumes/RV19_61hrs/RV19_61hrs_down32_annotationAsScoreVolume/score_volumes/RV19_61hrs_down32_annotationAsScoreVolume_3N_R_surround_200.bp\n",
      "Error computing gradient for 3N_R_surround_200: [Errno 2] No such file or directory: '/shared/CSHL_volumes/RV19_61hrs/RV19_61hrs_down32_annotationAsScoreVolume/score_volumes/RV19_61hrs_down32_annotationAsScoreVolume_3N_R_surround_200.bp'.\n"
     ]
    },
    {
     "name": "stdout",
     "output_type": "stream",
     "text": [
      "4N_L\n",
      "rm -rf \"/shared/CSHL_volumes/RV19_61hrs/RV19_61hrs_down32_annotationAsScoreVolume/score_volumes/RV19_61hrs_down32_annotationAsScoreVolume_4N_L.bp\" && mkdir -p \"/shared/CSHL_volumes/RV19_61hrs/RV19_61hrs_down32_annotationAsScoreVolume/score_volumes\"\n",
      "aws s3 cp \"s3://mousebrainatlas-data/CSHL_volumes/RV19_61hrs/RV19_61hrs_down32_annotationAsScoreVolume/score_volumes/RV19_61hrs_down32_annotationAsScoreVolume_4N_L.bp\" \"/shared/CSHL_volumes/RV19_61hrs/RV19_61hrs_down32_annotationAsScoreVolume/score_volumes/RV19_61hrs_down32_annotationAsScoreVolume_4N_L.bp\"\n"
     ]
    },
    {
     "name": "stderr",
     "output_type": "stream",
     "text": [
      "File does not exist: /shared/CSHL_volumes/RV19_61hrs/RV19_61hrs_down32_annotationAsScoreVolume/score_volumes/RV19_61hrs_down32_annotationAsScoreVolume_4N_L.bp\n",
      "Error computing gradient for 4N_L: [Errno 2] No such file or directory: '/shared/CSHL_volumes/RV19_61hrs/RV19_61hrs_down32_annotationAsScoreVolume/score_volumes/RV19_61hrs_down32_annotationAsScoreVolume_4N_L.bp'.\n"
     ]
    },
    {
     "name": "stdout",
     "output_type": "stream",
     "text": [
      "4N_L_surround_200\n",
      "rm -rf \"/shared/CSHL_volumes/RV19_61hrs/RV19_61hrs_down32_annotationAsScoreVolume/score_volumes/RV19_61hrs_down32_annotationAsScoreVolume_4N_L_surround_200.bp\" && mkdir -p \"/shared/CSHL_volumes/RV19_61hrs/RV19_61hrs_down32_annotationAsScoreVolume/score_volumes\"\n",
      "aws s3 cp \"s3://mousebrainatlas-data/CSHL_volumes/RV19_61hrs/RV19_61hrs_down32_annotationAsScoreVolume/score_volumes/RV19_61hrs_down32_annotationAsScoreVolume_4N_L_surround_200.bp\" \"/shared/CSHL_volumes/RV19_61hrs/RV19_61hrs_down32_annotationAsScoreVolume/score_volumes/RV19_61hrs_down32_annotationAsScoreVolume_4N_L_surround_200.bp\"\n"
     ]
    },
    {
     "name": "stderr",
     "output_type": "stream",
     "text": [
      "File does not exist: /shared/CSHL_volumes/RV19_61hrs/RV19_61hrs_down32_annotationAsScoreVolume/score_volumes/RV19_61hrs_down32_annotationAsScoreVolume_4N_L_surround_200.bp\n",
      "Error computing gradient for 4N_L_surround_200: [Errno 2] No such file or directory: '/shared/CSHL_volumes/RV19_61hrs/RV19_61hrs_down32_annotationAsScoreVolume/score_volumes/RV19_61hrs_down32_annotationAsScoreVolume_4N_L_surround_200.bp'.\n"
     ]
    },
    {
     "name": "stdout",
     "output_type": "stream",
     "text": [
      "4N_R\n",
      "rm -rf \"/shared/CSHL_volumes/RV19_61hrs/RV19_61hrs_down32_annotationAsScoreVolume/score_volumes/RV19_61hrs_down32_annotationAsScoreVolume_4N_R.bp\" && mkdir -p \"/shared/CSHL_volumes/RV19_61hrs/RV19_61hrs_down32_annotationAsScoreVolume/score_volumes\"\n",
      "aws s3 cp \"s3://mousebrainatlas-data/CSHL_volumes/RV19_61hrs/RV19_61hrs_down32_annotationAsScoreVolume/score_volumes/RV19_61hrs_down32_annotationAsScoreVolume_4N_R.bp\" \"/shared/CSHL_volumes/RV19_61hrs/RV19_61hrs_down32_annotationAsScoreVolume/score_volumes/RV19_61hrs_down32_annotationAsScoreVolume_4N_R.bp\"\n"
     ]
    },
    {
     "name": "stderr",
     "output_type": "stream",
     "text": [
      "File does not exist: /shared/CSHL_volumes/RV19_61hrs/RV19_61hrs_down32_annotationAsScoreVolume/score_volumes/RV19_61hrs_down32_annotationAsScoreVolume_4N_R.bp\n",
      "Error computing gradient for 4N_R: [Errno 2] No such file or directory: '/shared/CSHL_volumes/RV19_61hrs/RV19_61hrs_down32_annotationAsScoreVolume/score_volumes/RV19_61hrs_down32_annotationAsScoreVolume_4N_R.bp'.\n"
     ]
    },
    {
     "name": "stdout",
     "output_type": "stream",
     "text": [
      "4N_R_surround_200\n",
      "rm -rf \"/shared/CSHL_volumes/RV19_61hrs/RV19_61hrs_down32_annotationAsScoreVolume/score_volumes/RV19_61hrs_down32_annotationAsScoreVolume_4N_R_surround_200.bp\" && mkdir -p \"/shared/CSHL_volumes/RV19_61hrs/RV19_61hrs_down32_annotationAsScoreVolume/score_volumes\"\n",
      "aws s3 cp \"s3://mousebrainatlas-data/CSHL_volumes/RV19_61hrs/RV19_61hrs_down32_annotationAsScoreVolume/score_volumes/RV19_61hrs_down32_annotationAsScoreVolume_4N_R_surround_200.bp\" \"/shared/CSHL_volumes/RV19_61hrs/RV19_61hrs_down32_annotationAsScoreVolume/score_volumes/RV19_61hrs_down32_annotationAsScoreVolume_4N_R_surround_200.bp\"\n"
     ]
    },
    {
     "name": "stderr",
     "output_type": "stream",
     "text": [
      "File does not exist: /shared/CSHL_volumes/RV19_61hrs/RV19_61hrs_down32_annotationAsScoreVolume/score_volumes/RV19_61hrs_down32_annotationAsScoreVolume_4N_R_surround_200.bp\n",
      "Error computing gradient for 4N_R_surround_200: [Errno 2] No such file or directory: '/shared/CSHL_volumes/RV19_61hrs/RV19_61hrs_down32_annotationAsScoreVolume/score_volumes/RV19_61hrs_down32_annotationAsScoreVolume_4N_R_surround_200.bp'.\n"
     ]
    },
    {
     "name": "stdout",
     "output_type": "stream",
     "text": [
      "5N_L\n"
     ]
    },
    {
     "name": "stderr",
     "output_type": "stream",
     "text": [
      "Gradient 5N_L: 0.652371 seconds\n"
     ]
    },
    {
     "name": "stdout",
     "output_type": "stream",
     "text": [
      "aws s3 cp \"/shared/CSHL_volumes/RV19_61hrs/RV19_61hrs_down32_annotationAsScoreVolume/score_volume_gradients/RV19_61hrs_down32_annotationAsScoreVolume_5N_L_gx.bp\" \"s3://mousebrainatlas-data/CSHL_volumes/RV19_61hrs/RV19_61hrs_down32_annotationAsScoreVolume/score_volume_gradients/RV19_61hrs_down32_annotationAsScoreVolume_5N_L_gx.bp\"\n",
      "aws s3 cp \"/shared/CSHL_volumes/RV19_61hrs/RV19_61hrs_down32_annotationAsScoreVolume/score_volume_gradients/RV19_61hrs_down32_annotationAsScoreVolume_5N_L_gy.bp\" \"s3://mousebrainatlas-data/CSHL_volumes/RV19_61hrs/RV19_61hrs_down32_annotationAsScoreVolume/score_volume_gradients/RV19_61hrs_down32_annotationAsScoreVolume_5N_L_gy.bp\"\n",
      "aws s3 cp \"/shared/CSHL_volumes/RV19_61hrs/RV19_61hrs_down32_annotationAsScoreVolume/score_volume_gradients/RV19_61hrs_down32_annotationAsScoreVolume_5N_L_gz.bp\" \"s3://mousebrainatlas-data/CSHL_volumes/RV19_61hrs/RV19_61hrs_down32_annotationAsScoreVolume/score_volume_gradients/RV19_61hrs_down32_annotationAsScoreVolume_5N_L_gz.bp\"\n"
     ]
    },
    {
     "name": "stderr",
     "output_type": "stream",
     "text": [
      "save 5N_L: 1.577122 seconds\n"
     ]
    },
    {
     "name": "stdout",
     "output_type": "stream",
     "text": [
      "5N_L_surround_200\n"
     ]
    },
    {
     "name": "stderr",
     "output_type": "stream",
     "text": [
      "Gradient 5N_L_surround_200: 0.651644 seconds\n"
     ]
    },
    {
     "name": "stdout",
     "output_type": "stream",
     "text": [
      "aws s3 cp \"/shared/CSHL_volumes/RV19_61hrs/RV19_61hrs_down32_annotationAsScoreVolume/score_volume_gradients/RV19_61hrs_down32_annotationAsScoreVolume_5N_L_surround_200_gx.bp\" \"s3://mousebrainatlas-data/CSHL_volumes/RV19_61hrs/RV19_61hrs_down32_annotationAsScoreVolume/score_volume_gradients/RV19_61hrs_down32_annotationAsScoreVolume_5N_L_surround_200_gx.bp\"\n",
      "aws s3 cp \"/shared/CSHL_volumes/RV19_61hrs/RV19_61hrs_down32_annotationAsScoreVolume/score_volume_gradients/RV19_61hrs_down32_annotationAsScoreVolume_5N_L_surround_200_gy.bp\" \"s3://mousebrainatlas-data/CSHL_volumes/RV19_61hrs/RV19_61hrs_down32_annotationAsScoreVolume/score_volume_gradients/RV19_61hrs_down32_annotationAsScoreVolume_5N_L_surround_200_gy.bp\"\n",
      "aws s3 cp \"/shared/CSHL_volumes/RV19_61hrs/RV19_61hrs_down32_annotationAsScoreVolume/score_volume_gradients/RV19_61hrs_down32_annotationAsScoreVolume_5N_L_surround_200_gz.bp\" \"s3://mousebrainatlas-data/CSHL_volumes/RV19_61hrs/RV19_61hrs_down32_annotationAsScoreVolume/score_volume_gradients/RV19_61hrs_down32_annotationAsScoreVolume_5N_L_surround_200_gz.bp\"\n"
     ]
    },
    {
     "name": "stderr",
     "output_type": "stream",
     "text": [
      "save 5N_L_surround_200: 1.534868 seconds\n"
     ]
    },
    {
     "name": "stdout",
     "output_type": "stream",
     "text": [
      "5N_R\n"
     ]
    },
    {
     "name": "stderr",
     "output_type": "stream",
     "text": [
      "Gradient 5N_R: 0.653363 seconds\n"
     ]
    },
    {
     "name": "stdout",
     "output_type": "stream",
     "text": [
      "aws s3 cp \"/shared/CSHL_volumes/RV19_61hrs/RV19_61hrs_down32_annotationAsScoreVolume/score_volume_gradients/RV19_61hrs_down32_annotationAsScoreVolume_5N_R_gx.bp\" \"s3://mousebrainatlas-data/CSHL_volumes/RV19_61hrs/RV19_61hrs_down32_annotationAsScoreVolume/score_volume_gradients/RV19_61hrs_down32_annotationAsScoreVolume_5N_R_gx.bp\"\n",
      "aws s3 cp \"/shared/CSHL_volumes/RV19_61hrs/RV19_61hrs_down32_annotationAsScoreVolume/score_volume_gradients/RV19_61hrs_down32_annotationAsScoreVolume_5N_R_gy.bp\" \"s3://mousebrainatlas-data/CSHL_volumes/RV19_61hrs/RV19_61hrs_down32_annotationAsScoreVolume/score_volume_gradients/RV19_61hrs_down32_annotationAsScoreVolume_5N_R_gy.bp\"\n",
      "aws s3 cp \"/shared/CSHL_volumes/RV19_61hrs/RV19_61hrs_down32_annotationAsScoreVolume/score_volume_gradients/RV19_61hrs_down32_annotationAsScoreVolume_5N_R_gz.bp\" \"s3://mousebrainatlas-data/CSHL_volumes/RV19_61hrs/RV19_61hrs_down32_annotationAsScoreVolume/score_volume_gradients/RV19_61hrs_down32_annotationAsScoreVolume_5N_R_gz.bp\"\n"
     ]
    },
    {
     "name": "stderr",
     "output_type": "stream",
     "text": [
      "save 5N_R: 1.506002 seconds\n"
     ]
    },
    {
     "name": "stdout",
     "output_type": "stream",
     "text": [
      "5N_R_surround_200\n"
     ]
    },
    {
     "name": "stderr",
     "output_type": "stream",
     "text": [
      "Gradient 5N_R_surround_200: 0.652053 seconds\n"
     ]
    },
    {
     "name": "stdout",
     "output_type": "stream",
     "text": [
      "aws s3 cp \"/shared/CSHL_volumes/RV19_61hrs/RV19_61hrs_down32_annotationAsScoreVolume/score_volume_gradients/RV19_61hrs_down32_annotationAsScoreVolume_5N_R_surround_200_gx.bp\" \"s3://mousebrainatlas-data/CSHL_volumes/RV19_61hrs/RV19_61hrs_down32_annotationAsScoreVolume/score_volume_gradients/RV19_61hrs_down32_annotationAsScoreVolume_5N_R_surround_200_gx.bp\"\n",
      "aws s3 cp \"/shared/CSHL_volumes/RV19_61hrs/RV19_61hrs_down32_annotationAsScoreVolume/score_volume_gradients/RV19_61hrs_down32_annotationAsScoreVolume_5N_R_surround_200_gy.bp\" \"s3://mousebrainatlas-data/CSHL_volumes/RV19_61hrs/RV19_61hrs_down32_annotationAsScoreVolume/score_volume_gradients/RV19_61hrs_down32_annotationAsScoreVolume_5N_R_surround_200_gy.bp\"\n",
      "aws s3 cp \"/shared/CSHL_volumes/RV19_61hrs/RV19_61hrs_down32_annotationAsScoreVolume/score_volume_gradients/RV19_61hrs_down32_annotationAsScoreVolume_5N_R_surround_200_gz.bp\" \"s3://mousebrainatlas-data/CSHL_volumes/RV19_61hrs/RV19_61hrs_down32_annotationAsScoreVolume/score_volume_gradients/RV19_61hrs_down32_annotationAsScoreVolume_5N_R_surround_200_gz.bp\"\n"
     ]
    },
    {
     "name": "stderr",
     "output_type": "stream",
     "text": [
      "save 5N_R_surround_200: 1.504953 seconds\n"
     ]
    },
    {
     "name": "stdout",
     "output_type": "stream",
     "text": [
      "6N_L\n",
      "rm -rf \"/shared/CSHL_volumes/RV19_61hrs/RV19_61hrs_down32_annotationAsScoreVolume/score_volumes/RV19_61hrs_down32_annotationAsScoreVolume_6N_L.bp\" && mkdir -p \"/shared/CSHL_volumes/RV19_61hrs/RV19_61hrs_down32_annotationAsScoreVolume/score_volumes\"\n",
      "aws s3 cp \"s3://mousebrainatlas-data/CSHL_volumes/RV19_61hrs/RV19_61hrs_down32_annotationAsScoreVolume/score_volumes/RV19_61hrs_down32_annotationAsScoreVolume_6N_L.bp\" \"/shared/CSHL_volumes/RV19_61hrs/RV19_61hrs_down32_annotationAsScoreVolume/score_volumes/RV19_61hrs_down32_annotationAsScoreVolume_6N_L.bp\"\n"
     ]
    },
    {
     "name": "stderr",
     "output_type": "stream",
     "text": [
      "File does not exist: /shared/CSHL_volumes/RV19_61hrs/RV19_61hrs_down32_annotationAsScoreVolume/score_volumes/RV19_61hrs_down32_annotationAsScoreVolume_6N_L.bp\n",
      "Error computing gradient for 6N_L: [Errno 2] No such file or directory: '/shared/CSHL_volumes/RV19_61hrs/RV19_61hrs_down32_annotationAsScoreVolume/score_volumes/RV19_61hrs_down32_annotationAsScoreVolume_6N_L.bp'.\n"
     ]
    },
    {
     "name": "stdout",
     "output_type": "stream",
     "text": [
      "6N_L_surround_200\n",
      "rm -rf \"/shared/CSHL_volumes/RV19_61hrs/RV19_61hrs_down32_annotationAsScoreVolume/score_volumes/RV19_61hrs_down32_annotationAsScoreVolume_6N_L_surround_200.bp\" && mkdir -p \"/shared/CSHL_volumes/RV19_61hrs/RV19_61hrs_down32_annotationAsScoreVolume/score_volumes\"\n",
      "aws s3 cp \"s3://mousebrainatlas-data/CSHL_volumes/RV19_61hrs/RV19_61hrs_down32_annotationAsScoreVolume/score_volumes/RV19_61hrs_down32_annotationAsScoreVolume_6N_L_surround_200.bp\" \"/shared/CSHL_volumes/RV19_61hrs/RV19_61hrs_down32_annotationAsScoreVolume/score_volumes/RV19_61hrs_down32_annotationAsScoreVolume_6N_L_surround_200.bp\"\n"
     ]
    },
    {
     "name": "stderr",
     "output_type": "stream",
     "text": [
      "File does not exist: /shared/CSHL_volumes/RV19_61hrs/RV19_61hrs_down32_annotationAsScoreVolume/score_volumes/RV19_61hrs_down32_annotationAsScoreVolume_6N_L_surround_200.bp\n",
      "Error computing gradient for 6N_L_surround_200: [Errno 2] No such file or directory: '/shared/CSHL_volumes/RV19_61hrs/RV19_61hrs_down32_annotationAsScoreVolume/score_volumes/RV19_61hrs_down32_annotationAsScoreVolume_6N_L_surround_200.bp'.\n"
     ]
    },
    {
     "name": "stdout",
     "output_type": "stream",
     "text": [
      "6N_R\n",
      "rm -rf \"/shared/CSHL_volumes/RV19_61hrs/RV19_61hrs_down32_annotationAsScoreVolume/score_volumes/RV19_61hrs_down32_annotationAsScoreVolume_6N_R.bp\" && mkdir -p \"/shared/CSHL_volumes/RV19_61hrs/RV19_61hrs_down32_annotationAsScoreVolume/score_volumes\"\n",
      "aws s3 cp \"s3://mousebrainatlas-data/CSHL_volumes/RV19_61hrs/RV19_61hrs_down32_annotationAsScoreVolume/score_volumes/RV19_61hrs_down32_annotationAsScoreVolume_6N_R.bp\" \"/shared/CSHL_volumes/RV19_61hrs/RV19_61hrs_down32_annotationAsScoreVolume/score_volumes/RV19_61hrs_down32_annotationAsScoreVolume_6N_R.bp\"\n"
     ]
    },
    {
     "name": "stderr",
     "output_type": "stream",
     "text": [
      "File does not exist: /shared/CSHL_volumes/RV19_61hrs/RV19_61hrs_down32_annotationAsScoreVolume/score_volumes/RV19_61hrs_down32_annotationAsScoreVolume_6N_R.bp\n",
      "Error computing gradient for 6N_R: [Errno 2] No such file or directory: '/shared/CSHL_volumes/RV19_61hrs/RV19_61hrs_down32_annotationAsScoreVolume/score_volumes/RV19_61hrs_down32_annotationAsScoreVolume_6N_R.bp'.\n"
     ]
    },
    {
     "name": "stdout",
     "output_type": "stream",
     "text": [
      "6N_R_surround_200\n",
      "rm -rf \"/shared/CSHL_volumes/RV19_61hrs/RV19_61hrs_down32_annotationAsScoreVolume/score_volumes/RV19_61hrs_down32_annotationAsScoreVolume_6N_R_surround_200.bp\" && mkdir -p \"/shared/CSHL_volumes/RV19_61hrs/RV19_61hrs_down32_annotationAsScoreVolume/score_volumes\"\n",
      "aws s3 cp \"s3://mousebrainatlas-data/CSHL_volumes/RV19_61hrs/RV19_61hrs_down32_annotationAsScoreVolume/score_volumes/RV19_61hrs_down32_annotationAsScoreVolume_6N_R_surround_200.bp\" \"/shared/CSHL_volumes/RV19_61hrs/RV19_61hrs_down32_annotationAsScoreVolume/score_volumes/RV19_61hrs_down32_annotationAsScoreVolume_6N_R_surround_200.bp\"\n"
     ]
    },
    {
     "name": "stderr",
     "output_type": "stream",
     "text": [
      "File does not exist: /shared/CSHL_volumes/RV19_61hrs/RV19_61hrs_down32_annotationAsScoreVolume/score_volumes/RV19_61hrs_down32_annotationAsScoreVolume_6N_R_surround_200.bp\n",
      "Error computing gradient for 6N_R_surround_200: [Errno 2] No such file or directory: '/shared/CSHL_volumes/RV19_61hrs/RV19_61hrs_down32_annotationAsScoreVolume/score_volumes/RV19_61hrs_down32_annotationAsScoreVolume_6N_R_surround_200.bp'.\n"
     ]
    },
    {
     "name": "stdout",
     "output_type": "stream",
     "text": [
      "7N_L\n"
     ]
    },
    {
     "name": "stderr",
     "output_type": "stream",
     "text": [
      "Gradient 7N_L: 0.652084 seconds\n"
     ]
    },
    {
     "name": "stdout",
     "output_type": "stream",
     "text": [
      "aws s3 cp \"/shared/CSHL_volumes/RV19_61hrs/RV19_61hrs_down32_annotationAsScoreVolume/score_volume_gradients/RV19_61hrs_down32_annotationAsScoreVolume_7N_L_gx.bp\" \"s3://mousebrainatlas-data/CSHL_volumes/RV19_61hrs/RV19_61hrs_down32_annotationAsScoreVolume/score_volume_gradients/RV19_61hrs_down32_annotationAsScoreVolume_7N_L_gx.bp\"\n",
      "aws s3 cp \"/shared/CSHL_volumes/RV19_61hrs/RV19_61hrs_down32_annotationAsScoreVolume/score_volume_gradients/RV19_61hrs_down32_annotationAsScoreVolume_7N_L_gy.bp\" \"s3://mousebrainatlas-data/CSHL_volumes/RV19_61hrs/RV19_61hrs_down32_annotationAsScoreVolume/score_volume_gradients/RV19_61hrs_down32_annotationAsScoreVolume_7N_L_gy.bp\"\n",
      "aws s3 cp \"/shared/CSHL_volumes/RV19_61hrs/RV19_61hrs_down32_annotationAsScoreVolume/score_volume_gradients/RV19_61hrs_down32_annotationAsScoreVolume_7N_L_gz.bp\" \"s3://mousebrainatlas-data/CSHL_volumes/RV19_61hrs/RV19_61hrs_down32_annotationAsScoreVolume/score_volume_gradients/RV19_61hrs_down32_annotationAsScoreVolume_7N_L_gz.bp\"\n"
     ]
    },
    {
     "name": "stderr",
     "output_type": "stream",
     "text": [
      "save 7N_L: 1.572378 seconds\n"
     ]
    },
    {
     "name": "stdout",
     "output_type": "stream",
     "text": [
      "7N_L_surround_200\n"
     ]
    },
    {
     "name": "stderr",
     "output_type": "stream",
     "text": [
      "Gradient 7N_L_surround_200: 0.650536 seconds\n"
     ]
    },
    {
     "name": "stdout",
     "output_type": "stream",
     "text": [
      "aws s3 cp \"/shared/CSHL_volumes/RV19_61hrs/RV19_61hrs_down32_annotationAsScoreVolume/score_volume_gradients/RV19_61hrs_down32_annotationAsScoreVolume_7N_L_surround_200_gx.bp\" \"s3://mousebrainatlas-data/CSHL_volumes/RV19_61hrs/RV19_61hrs_down32_annotationAsScoreVolume/score_volume_gradients/RV19_61hrs_down32_annotationAsScoreVolume_7N_L_surround_200_gx.bp\"\n",
      "aws s3 cp \"/shared/CSHL_volumes/RV19_61hrs/RV19_61hrs_down32_annotationAsScoreVolume/score_volume_gradients/RV19_61hrs_down32_annotationAsScoreVolume_7N_L_surround_200_gy.bp\" \"s3://mousebrainatlas-data/CSHL_volumes/RV19_61hrs/RV19_61hrs_down32_annotationAsScoreVolume/score_volume_gradients/RV19_61hrs_down32_annotationAsScoreVolume_7N_L_surround_200_gy.bp\"\n",
      "aws s3 cp \"/shared/CSHL_volumes/RV19_61hrs/RV19_61hrs_down32_annotationAsScoreVolume/score_volume_gradients/RV19_61hrs_down32_annotationAsScoreVolume_7N_L_surround_200_gz.bp\" \"s3://mousebrainatlas-data/CSHL_volumes/RV19_61hrs/RV19_61hrs_down32_annotationAsScoreVolume/score_volume_gradients/RV19_61hrs_down32_annotationAsScoreVolume_7N_L_surround_200_gz.bp\"\n"
     ]
    },
    {
     "name": "stderr",
     "output_type": "stream",
     "text": [
      "save 7N_L_surround_200: 1.526251 seconds\n"
     ]
    },
    {
     "name": "stdout",
     "output_type": "stream",
     "text": [
      "7N_R\n"
     ]
    },
    {
     "name": "stderr",
     "output_type": "stream",
     "text": [
      "Gradient 7N_R: 0.652336 seconds\n"
     ]
    },
    {
     "name": "stdout",
     "output_type": "stream",
     "text": [
      "aws s3 cp \"/shared/CSHL_volumes/RV19_61hrs/RV19_61hrs_down32_annotationAsScoreVolume/score_volume_gradients/RV19_61hrs_down32_annotationAsScoreVolume_7N_R_gx.bp\" \"s3://mousebrainatlas-data/CSHL_volumes/RV19_61hrs/RV19_61hrs_down32_annotationAsScoreVolume/score_volume_gradients/RV19_61hrs_down32_annotationAsScoreVolume_7N_R_gx.bp\"\n",
      "aws s3 cp \"/shared/CSHL_volumes/RV19_61hrs/RV19_61hrs_down32_annotationAsScoreVolume/score_volume_gradients/RV19_61hrs_down32_annotationAsScoreVolume_7N_R_gy.bp\" \"s3://mousebrainatlas-data/CSHL_volumes/RV19_61hrs/RV19_61hrs_down32_annotationAsScoreVolume/score_volume_gradients/RV19_61hrs_down32_annotationAsScoreVolume_7N_R_gy.bp\"\n",
      "aws s3 cp \"/shared/CSHL_volumes/RV19_61hrs/RV19_61hrs_down32_annotationAsScoreVolume/score_volume_gradients/RV19_61hrs_down32_annotationAsScoreVolume_7N_R_gz.bp\" \"s3://mousebrainatlas-data/CSHL_volumes/RV19_61hrs/RV19_61hrs_down32_annotationAsScoreVolume/score_volume_gradients/RV19_61hrs_down32_annotationAsScoreVolume_7N_R_gz.bp\"\n"
     ]
    },
    {
     "name": "stderr",
     "output_type": "stream",
     "text": [
      "save 7N_R: 1.491577 seconds\n"
     ]
    },
    {
     "name": "stdout",
     "output_type": "stream",
     "text": [
      "7N_R_surround_200\n"
     ]
    },
    {
     "name": "stderr",
     "output_type": "stream",
     "text": [
      "Gradient 7N_R_surround_200: 0.652821 seconds\n"
     ]
    },
    {
     "name": "stdout",
     "output_type": "stream",
     "text": [
      "aws s3 cp \"/shared/CSHL_volumes/RV19_61hrs/RV19_61hrs_down32_annotationAsScoreVolume/score_volume_gradients/RV19_61hrs_down32_annotationAsScoreVolume_7N_R_surround_200_gx.bp\" \"s3://mousebrainatlas-data/CSHL_volumes/RV19_61hrs/RV19_61hrs_down32_annotationAsScoreVolume/score_volume_gradients/RV19_61hrs_down32_annotationAsScoreVolume_7N_R_surround_200_gx.bp\"\n",
      "aws s3 cp \"/shared/CSHL_volumes/RV19_61hrs/RV19_61hrs_down32_annotationAsScoreVolume/score_volume_gradients/RV19_61hrs_down32_annotationAsScoreVolume_7N_R_surround_200_gy.bp\" \"s3://mousebrainatlas-data/CSHL_volumes/RV19_61hrs/RV19_61hrs_down32_annotationAsScoreVolume/score_volume_gradients/RV19_61hrs_down32_annotationAsScoreVolume_7N_R_surround_200_gy.bp\"\n",
      "aws s3 cp \"/shared/CSHL_volumes/RV19_61hrs/RV19_61hrs_down32_annotationAsScoreVolume/score_volume_gradients/RV19_61hrs_down32_annotationAsScoreVolume_7N_R_surround_200_gz.bp\" \"s3://mousebrainatlas-data/CSHL_volumes/RV19_61hrs/RV19_61hrs_down32_annotationAsScoreVolume/score_volume_gradients/RV19_61hrs_down32_annotationAsScoreVolume_7N_R_surround_200_gz.bp\"\n"
     ]
    },
    {
     "name": "stderr",
     "output_type": "stream",
     "text": [
      "save 7N_R_surround_200: 1.506190 seconds\n"
     ]
    },
    {
     "name": "stdout",
     "output_type": "stream",
     "text": [
      "7n_L\n"
     ]
    },
    {
     "name": "stderr",
     "output_type": "stream",
     "text": [
      "Gradient 7n_L: 0.652118 seconds\n"
     ]
    },
    {
     "name": "stdout",
     "output_type": "stream",
     "text": [
      "aws s3 cp \"/shared/CSHL_volumes/RV19_61hrs/RV19_61hrs_down32_annotationAsScoreVolume/score_volume_gradients/RV19_61hrs_down32_annotationAsScoreVolume_7n_L_gx.bp\" \"s3://mousebrainatlas-data/CSHL_volumes/RV19_61hrs/RV19_61hrs_down32_annotationAsScoreVolume/score_volume_gradients/RV19_61hrs_down32_annotationAsScoreVolume_7n_L_gx.bp\"\n",
      "aws s3 cp \"/shared/CSHL_volumes/RV19_61hrs/RV19_61hrs_down32_annotationAsScoreVolume/score_volume_gradients/RV19_61hrs_down32_annotationAsScoreVolume_7n_L_gy.bp\" \"s3://mousebrainatlas-data/CSHL_volumes/RV19_61hrs/RV19_61hrs_down32_annotationAsScoreVolume/score_volume_gradients/RV19_61hrs_down32_annotationAsScoreVolume_7n_L_gy.bp\"\n",
      "aws s3 cp \"/shared/CSHL_volumes/RV19_61hrs/RV19_61hrs_down32_annotationAsScoreVolume/score_volume_gradients/RV19_61hrs_down32_annotationAsScoreVolume_7n_L_gz.bp\" \"s3://mousebrainatlas-data/CSHL_volumes/RV19_61hrs/RV19_61hrs_down32_annotationAsScoreVolume/score_volume_gradients/RV19_61hrs_down32_annotationAsScoreVolume_7n_L_gz.bp\"\n"
     ]
    },
    {
     "name": "stderr",
     "output_type": "stream",
     "text": [
      "save 7n_L: 1.347753 seconds\n"
     ]
    },
    {
     "name": "stdout",
     "output_type": "stream",
     "text": [
      "7n_L_surround_200\n"
     ]
    },
    {
     "name": "stderr",
     "output_type": "stream",
     "text": [
      "Gradient 7n_L_surround_200: 0.653130 seconds\n"
     ]
    },
    {
     "name": "stdout",
     "output_type": "stream",
     "text": [
      "aws s3 cp \"/shared/CSHL_volumes/RV19_61hrs/RV19_61hrs_down32_annotationAsScoreVolume/score_volume_gradients/RV19_61hrs_down32_annotationAsScoreVolume_7n_L_surround_200_gx.bp\" \"s3://mousebrainatlas-data/CSHL_volumes/RV19_61hrs/RV19_61hrs_down32_annotationAsScoreVolume/score_volume_gradients/RV19_61hrs_down32_annotationAsScoreVolume_7n_L_surround_200_gx.bp\"\n",
      "aws s3 cp \"/shared/CSHL_volumes/RV19_61hrs/RV19_61hrs_down32_annotationAsScoreVolume/score_volume_gradients/RV19_61hrs_down32_annotationAsScoreVolume_7n_L_surround_200_gy.bp\" \"s3://mousebrainatlas-data/CSHL_volumes/RV19_61hrs/RV19_61hrs_down32_annotationAsScoreVolume/score_volume_gradients/RV19_61hrs_down32_annotationAsScoreVolume_7n_L_surround_200_gy.bp\"\n",
      "aws s3 cp \"/shared/CSHL_volumes/RV19_61hrs/RV19_61hrs_down32_annotationAsScoreVolume/score_volume_gradients/RV19_61hrs_down32_annotationAsScoreVolume_7n_L_surround_200_gz.bp\" \"s3://mousebrainatlas-data/CSHL_volumes/RV19_61hrs/RV19_61hrs_down32_annotationAsScoreVolume/score_volume_gradients/RV19_61hrs_down32_annotationAsScoreVolume_7n_L_surround_200_gz.bp\"\n"
     ]
    },
    {
     "name": "stderr",
     "output_type": "stream",
     "text": [
      "save 7n_L_surround_200: 1.525990 seconds\n"
     ]
    },
    {
     "name": "stdout",
     "output_type": "stream",
     "text": [
      "7n_R\n"
     ]
    },
    {
     "name": "stderr",
     "output_type": "stream",
     "text": [
      "Gradient 7n_R: 0.653280 seconds\n"
     ]
    },
    {
     "name": "stdout",
     "output_type": "stream",
     "text": [
      "aws s3 cp \"/shared/CSHL_volumes/RV19_61hrs/RV19_61hrs_down32_annotationAsScoreVolume/score_volume_gradients/RV19_61hrs_down32_annotationAsScoreVolume_7n_R_gx.bp\" \"s3://mousebrainatlas-data/CSHL_volumes/RV19_61hrs/RV19_61hrs_down32_annotationAsScoreVolume/score_volume_gradients/RV19_61hrs_down32_annotationAsScoreVolume_7n_R_gx.bp\"\n",
      "aws s3 cp \"/shared/CSHL_volumes/RV19_61hrs/RV19_61hrs_down32_annotationAsScoreVolume/score_volume_gradients/RV19_61hrs_down32_annotationAsScoreVolume_7n_R_gy.bp\" \"s3://mousebrainatlas-data/CSHL_volumes/RV19_61hrs/RV19_61hrs_down32_annotationAsScoreVolume/score_volume_gradients/RV19_61hrs_down32_annotationAsScoreVolume_7n_R_gy.bp\"\n",
      "aws s3 cp \"/shared/CSHL_volumes/RV19_61hrs/RV19_61hrs_down32_annotationAsScoreVolume/score_volume_gradients/RV19_61hrs_down32_annotationAsScoreVolume_7n_R_gz.bp\" \"s3://mousebrainatlas-data/CSHL_volumes/RV19_61hrs/RV19_61hrs_down32_annotationAsScoreVolume/score_volume_gradients/RV19_61hrs_down32_annotationAsScoreVolume_7n_R_gz.bp\"\n"
     ]
    },
    {
     "name": "stderr",
     "output_type": "stream",
     "text": [
      "save 7n_R: 1.553437 seconds\n"
     ]
    },
    {
     "name": "stdout",
     "output_type": "stream",
     "text": [
      "7n_R_surround_200\n"
     ]
    },
    {
     "name": "stderr",
     "output_type": "stream",
     "text": [
      "Gradient 7n_R_surround_200: 0.650670 seconds\n"
     ]
    },
    {
     "name": "stdout",
     "output_type": "stream",
     "text": [
      "aws s3 cp \"/shared/CSHL_volumes/RV19_61hrs/RV19_61hrs_down32_annotationAsScoreVolume/score_volume_gradients/RV19_61hrs_down32_annotationAsScoreVolume_7n_R_surround_200_gx.bp\" \"s3://mousebrainatlas-data/CSHL_volumes/RV19_61hrs/RV19_61hrs_down32_annotationAsScoreVolume/score_volume_gradients/RV19_61hrs_down32_annotationAsScoreVolume_7n_R_surround_200_gx.bp\"\n",
      "aws s3 cp \"/shared/CSHL_volumes/RV19_61hrs/RV19_61hrs_down32_annotationAsScoreVolume/score_volume_gradients/RV19_61hrs_down32_annotationAsScoreVolume_7n_R_surround_200_gy.bp\" \"s3://mousebrainatlas-data/CSHL_volumes/RV19_61hrs/RV19_61hrs_down32_annotationAsScoreVolume/score_volume_gradients/RV19_61hrs_down32_annotationAsScoreVolume_7n_R_surround_200_gy.bp\"\n",
      "aws s3 cp \"/shared/CSHL_volumes/RV19_61hrs/RV19_61hrs_down32_annotationAsScoreVolume/score_volume_gradients/RV19_61hrs_down32_annotationAsScoreVolume_7n_R_surround_200_gz.bp\" \"s3://mousebrainatlas-data/CSHL_volumes/RV19_61hrs/RV19_61hrs_down32_annotationAsScoreVolume/score_volume_gradients/RV19_61hrs_down32_annotationAsScoreVolume_7n_R_surround_200_gz.bp\"\n"
     ]
    },
    {
     "name": "stderr",
     "output_type": "stream",
     "text": [
      "save 7n_R_surround_200: 1.508335 seconds\n"
     ]
    },
    {
     "name": "stdout",
     "output_type": "stream",
     "text": [
      "AP\n",
      "rm -rf \"/shared/CSHL_volumes/RV19_61hrs/RV19_61hrs_down32_annotationAsScoreVolume/score_volumes/RV19_61hrs_down32_annotationAsScoreVolume_AP.bp\" && mkdir -p \"/shared/CSHL_volumes/RV19_61hrs/RV19_61hrs_down32_annotationAsScoreVolume/score_volumes\"\n",
      "aws s3 cp \"s3://mousebrainatlas-data/CSHL_volumes/RV19_61hrs/RV19_61hrs_down32_annotationAsScoreVolume/score_volumes/RV19_61hrs_down32_annotationAsScoreVolume_AP.bp\" \"/shared/CSHL_volumes/RV19_61hrs/RV19_61hrs_down32_annotationAsScoreVolume/score_volumes/RV19_61hrs_down32_annotationAsScoreVolume_AP.bp\"\n"
     ]
    },
    {
     "name": "stderr",
     "output_type": "stream",
     "text": [
      "File does not exist: /shared/CSHL_volumes/RV19_61hrs/RV19_61hrs_down32_annotationAsScoreVolume/score_volumes/RV19_61hrs_down32_annotationAsScoreVolume_AP.bp\n",
      "Error computing gradient for AP: [Errno 2] No such file or directory: '/shared/CSHL_volumes/RV19_61hrs/RV19_61hrs_down32_annotationAsScoreVolume/score_volumes/RV19_61hrs_down32_annotationAsScoreVolume_AP.bp'.\n"
     ]
    },
    {
     "name": "stdout",
     "output_type": "stream",
     "text": [
      "AP_surround_200\n",
      "rm -rf \"/shared/CSHL_volumes/RV19_61hrs/RV19_61hrs_down32_annotationAsScoreVolume/score_volumes/RV19_61hrs_down32_annotationAsScoreVolume_AP_surround_200.bp\" && mkdir -p \"/shared/CSHL_volumes/RV19_61hrs/RV19_61hrs_down32_annotationAsScoreVolume/score_volumes\"\n",
      "aws s3 cp \"s3://mousebrainatlas-data/CSHL_volumes/RV19_61hrs/RV19_61hrs_down32_annotationAsScoreVolume/score_volumes/RV19_61hrs_down32_annotationAsScoreVolume_AP_surround_200.bp\" \"/shared/CSHL_volumes/RV19_61hrs/RV19_61hrs_down32_annotationAsScoreVolume/score_volumes/RV19_61hrs_down32_annotationAsScoreVolume_AP_surround_200.bp\"\n"
     ]
    },
    {
     "name": "stderr",
     "output_type": "stream",
     "text": [
      "File does not exist: /shared/CSHL_volumes/RV19_61hrs/RV19_61hrs_down32_annotationAsScoreVolume/score_volumes/RV19_61hrs_down32_annotationAsScoreVolume_AP_surround_200.bp\n",
      "Error computing gradient for AP_surround_200: [Errno 2] No such file or directory: '/shared/CSHL_volumes/RV19_61hrs/RV19_61hrs_down32_annotationAsScoreVolume/score_volumes/RV19_61hrs_down32_annotationAsScoreVolume_AP_surround_200.bp'.\n"
     ]
    },
    {
     "name": "stdout",
     "output_type": "stream",
     "text": [
      "Amb_L\n"
     ]
    },
    {
     "name": "stderr",
     "output_type": "stream",
     "text": [
      "Gradient Amb_L: 0.650638 seconds\n"
     ]
    },
    {
     "name": "stdout",
     "output_type": "stream",
     "text": [
      "aws s3 cp \"/shared/CSHL_volumes/RV19_61hrs/RV19_61hrs_down32_annotationAsScoreVolume/score_volume_gradients/RV19_61hrs_down32_annotationAsScoreVolume_Amb_L_gx.bp\" \"s3://mousebrainatlas-data/CSHL_volumes/RV19_61hrs/RV19_61hrs_down32_annotationAsScoreVolume/score_volume_gradients/RV19_61hrs_down32_annotationAsScoreVolume_Amb_L_gx.bp\"\n",
      "aws s3 cp \"/shared/CSHL_volumes/RV19_61hrs/RV19_61hrs_down32_annotationAsScoreVolume/score_volume_gradients/RV19_61hrs_down32_annotationAsScoreVolume_Amb_L_gy.bp\" \"s3://mousebrainatlas-data/CSHL_volumes/RV19_61hrs/RV19_61hrs_down32_annotationAsScoreVolume/score_volume_gradients/RV19_61hrs_down32_annotationAsScoreVolume_Amb_L_gy.bp\"\n",
      "aws s3 cp \"/shared/CSHL_volumes/RV19_61hrs/RV19_61hrs_down32_annotationAsScoreVolume/score_volume_gradients/RV19_61hrs_down32_annotationAsScoreVolume_Amb_L_gz.bp\" \"s3://mousebrainatlas-data/CSHL_volumes/RV19_61hrs/RV19_61hrs_down32_annotationAsScoreVolume/score_volume_gradients/RV19_61hrs_down32_annotationAsScoreVolume_Amb_L_gz.bp\"\n"
     ]
    },
    {
     "name": "stderr",
     "output_type": "stream",
     "text": [
      "save Amb_L: 1.487676 seconds\n"
     ]
    },
    {
     "name": "stdout",
     "output_type": "stream",
     "text": [
      "Amb_L_surround_200\n"
     ]
    },
    {
     "name": "stderr",
     "output_type": "stream",
     "text": [
      "Gradient Amb_L_surround_200: 0.649935 seconds\n"
     ]
    },
    {
     "name": "stdout",
     "output_type": "stream",
     "text": [
      "aws s3 cp \"/shared/CSHL_volumes/RV19_61hrs/RV19_61hrs_down32_annotationAsScoreVolume/score_volume_gradients/RV19_61hrs_down32_annotationAsScoreVolume_Amb_L_surround_200_gx.bp\" \"s3://mousebrainatlas-data/CSHL_volumes/RV19_61hrs/RV19_61hrs_down32_annotationAsScoreVolume/score_volume_gradients/RV19_61hrs_down32_annotationAsScoreVolume_Amb_L_surround_200_gx.bp\"\n",
      "aws s3 cp \"/shared/CSHL_volumes/RV19_61hrs/RV19_61hrs_down32_annotationAsScoreVolume/score_volume_gradients/RV19_61hrs_down32_annotationAsScoreVolume_Amb_L_surround_200_gy.bp\" \"s3://mousebrainatlas-data/CSHL_volumes/RV19_61hrs/RV19_61hrs_down32_annotationAsScoreVolume/score_volume_gradients/RV19_61hrs_down32_annotationAsScoreVolume_Amb_L_surround_200_gy.bp\"\n",
      "aws s3 cp \"/shared/CSHL_volumes/RV19_61hrs/RV19_61hrs_down32_annotationAsScoreVolume/score_volume_gradients/RV19_61hrs_down32_annotationAsScoreVolume_Amb_L_surround_200_gz.bp\" \"s3://mousebrainatlas-data/CSHL_volumes/RV19_61hrs/RV19_61hrs_down32_annotationAsScoreVolume/score_volume_gradients/RV19_61hrs_down32_annotationAsScoreVolume_Amb_L_surround_200_gz.bp\"\n"
     ]
    },
    {
     "name": "stderr",
     "output_type": "stream",
     "text": [
      "save Amb_L_surround_200: 1.445659 seconds\n"
     ]
    },
    {
     "name": "stdout",
     "output_type": "stream",
     "text": [
      "Amb_R\n",
      "rm -rf \"/shared/CSHL_volumes/RV19_61hrs/RV19_61hrs_down32_annotationAsScoreVolume/score_volumes/RV19_61hrs_down32_annotationAsScoreVolume_Amb_R.bp\" && mkdir -p \"/shared/CSHL_volumes/RV19_61hrs/RV19_61hrs_down32_annotationAsScoreVolume/score_volumes\"\n",
      "aws s3 cp \"s3://mousebrainatlas-data/CSHL_volumes/RV19_61hrs/RV19_61hrs_down32_annotationAsScoreVolume/score_volumes/RV19_61hrs_down32_annotationAsScoreVolume_Amb_R.bp\" \"/shared/CSHL_volumes/RV19_61hrs/RV19_61hrs_down32_annotationAsScoreVolume/score_volumes/RV19_61hrs_down32_annotationAsScoreVolume_Amb_R.bp\"\n"
     ]
    },
    {
     "name": "stderr",
     "output_type": "stream",
     "text": [
      "File does not exist: /shared/CSHL_volumes/RV19_61hrs/RV19_61hrs_down32_annotationAsScoreVolume/score_volumes/RV19_61hrs_down32_annotationAsScoreVolume_Amb_R.bp\n",
      "Error computing gradient for Amb_R: [Errno 2] No such file or directory: '/shared/CSHL_volumes/RV19_61hrs/RV19_61hrs_down32_annotationAsScoreVolume/score_volumes/RV19_61hrs_down32_annotationAsScoreVolume_Amb_R.bp'.\n"
     ]
    },
    {
     "name": "stdout",
     "output_type": "stream",
     "text": [
      "Amb_R_surround_200\n",
      "rm -rf \"/shared/CSHL_volumes/RV19_61hrs/RV19_61hrs_down32_annotationAsScoreVolume/score_volumes/RV19_61hrs_down32_annotationAsScoreVolume_Amb_R_surround_200.bp\" && mkdir -p \"/shared/CSHL_volumes/RV19_61hrs/RV19_61hrs_down32_annotationAsScoreVolume/score_volumes\"\n",
      "aws s3 cp \"s3://mousebrainatlas-data/CSHL_volumes/RV19_61hrs/RV19_61hrs_down32_annotationAsScoreVolume/score_volumes/RV19_61hrs_down32_annotationAsScoreVolume_Amb_R_surround_200.bp\" \"/shared/CSHL_volumes/RV19_61hrs/RV19_61hrs_down32_annotationAsScoreVolume/score_volumes/RV19_61hrs_down32_annotationAsScoreVolume_Amb_R_surround_200.bp\"\n"
     ]
    },
    {
     "name": "stderr",
     "output_type": "stream",
     "text": [
      "File does not exist: /shared/CSHL_volumes/RV19_61hrs/RV19_61hrs_down32_annotationAsScoreVolume/score_volumes/RV19_61hrs_down32_annotationAsScoreVolume_Amb_R_surround_200.bp\n",
      "Error computing gradient for Amb_R_surround_200: [Errno 2] No such file or directory: '/shared/CSHL_volumes/RV19_61hrs/RV19_61hrs_down32_annotationAsScoreVolume/score_volumes/RV19_61hrs_down32_annotationAsScoreVolume_Amb_R_surround_200.bp'.\n"
     ]
    },
    {
     "name": "stdout",
     "output_type": "stream",
     "text": [
      "DC_L\n",
      "rm -rf \"/shared/CSHL_volumes/RV19_61hrs/RV19_61hrs_down32_annotationAsScoreVolume/score_volumes/RV19_61hrs_down32_annotationAsScoreVolume_DC_L.bp\" && mkdir -p \"/shared/CSHL_volumes/RV19_61hrs/RV19_61hrs_down32_annotationAsScoreVolume/score_volumes\"\n",
      "aws s3 cp \"s3://mousebrainatlas-data/CSHL_volumes/RV19_61hrs/RV19_61hrs_down32_annotationAsScoreVolume/score_volumes/RV19_61hrs_down32_annotationAsScoreVolume_DC_L.bp\" \"/shared/CSHL_volumes/RV19_61hrs/RV19_61hrs_down32_annotationAsScoreVolume/score_volumes/RV19_61hrs_down32_annotationAsScoreVolume_DC_L.bp\"\n"
     ]
    },
    {
     "name": "stderr",
     "output_type": "stream",
     "text": [
      "File does not exist: /shared/CSHL_volumes/RV19_61hrs/RV19_61hrs_down32_annotationAsScoreVolume/score_volumes/RV19_61hrs_down32_annotationAsScoreVolume_DC_L.bp\n",
      "Error computing gradient for DC_L: [Errno 2] No such file or directory: '/shared/CSHL_volumes/RV19_61hrs/RV19_61hrs_down32_annotationAsScoreVolume/score_volumes/RV19_61hrs_down32_annotationAsScoreVolume_DC_L.bp'.\n"
     ]
    },
    {
     "name": "stdout",
     "output_type": "stream",
     "text": [
      "DC_L_surround_200\n",
      "rm -rf \"/shared/CSHL_volumes/RV19_61hrs/RV19_61hrs_down32_annotationAsScoreVolume/score_volumes/RV19_61hrs_down32_annotationAsScoreVolume_DC_L_surround_200.bp\" && mkdir -p \"/shared/CSHL_volumes/RV19_61hrs/RV19_61hrs_down32_annotationAsScoreVolume/score_volumes\"\n",
      "aws s3 cp \"s3://mousebrainatlas-data/CSHL_volumes/RV19_61hrs/RV19_61hrs_down32_annotationAsScoreVolume/score_volumes/RV19_61hrs_down32_annotationAsScoreVolume_DC_L_surround_200.bp\" \"/shared/CSHL_volumes/RV19_61hrs/RV19_61hrs_down32_annotationAsScoreVolume/score_volumes/RV19_61hrs_down32_annotationAsScoreVolume_DC_L_surround_200.bp\"\n"
     ]
    },
    {
     "name": "stderr",
     "output_type": "stream",
     "text": [
      "File does not exist: /shared/CSHL_volumes/RV19_61hrs/RV19_61hrs_down32_annotationAsScoreVolume/score_volumes/RV19_61hrs_down32_annotationAsScoreVolume_DC_L_surround_200.bp\n",
      "Error computing gradient for DC_L_surround_200: [Errno 2] No such file or directory: '/shared/CSHL_volumes/RV19_61hrs/RV19_61hrs_down32_annotationAsScoreVolume/score_volumes/RV19_61hrs_down32_annotationAsScoreVolume_DC_L_surround_200.bp'.\n"
     ]
    },
    {
     "name": "stdout",
     "output_type": "stream",
     "text": [
      "DC_R\n",
      "rm -rf \"/shared/CSHL_volumes/RV19_61hrs/RV19_61hrs_down32_annotationAsScoreVolume/score_volumes/RV19_61hrs_down32_annotationAsScoreVolume_DC_R.bp\" && mkdir -p \"/shared/CSHL_volumes/RV19_61hrs/RV19_61hrs_down32_annotationAsScoreVolume/score_volumes\"\n",
      "aws s3 cp \"s3://mousebrainatlas-data/CSHL_volumes/RV19_61hrs/RV19_61hrs_down32_annotationAsScoreVolume/score_volumes/RV19_61hrs_down32_annotationAsScoreVolume_DC_R.bp\" \"/shared/CSHL_volumes/RV19_61hrs/RV19_61hrs_down32_annotationAsScoreVolume/score_volumes/RV19_61hrs_down32_annotationAsScoreVolume_DC_R.bp\"\n"
     ]
    },
    {
     "name": "stderr",
     "output_type": "stream",
     "text": [
      "File does not exist: /shared/CSHL_volumes/RV19_61hrs/RV19_61hrs_down32_annotationAsScoreVolume/score_volumes/RV19_61hrs_down32_annotationAsScoreVolume_DC_R.bp\n",
      "Error computing gradient for DC_R: [Errno 2] No such file or directory: '/shared/CSHL_volumes/RV19_61hrs/RV19_61hrs_down32_annotationAsScoreVolume/score_volumes/RV19_61hrs_down32_annotationAsScoreVolume_DC_R.bp'.\n"
     ]
    },
    {
     "name": "stdout",
     "output_type": "stream",
     "text": [
      "DC_R_surround_200\n",
      "rm -rf \"/shared/CSHL_volumes/RV19_61hrs/RV19_61hrs_down32_annotationAsScoreVolume/score_volumes/RV19_61hrs_down32_annotationAsScoreVolume_DC_R_surround_200.bp\" && mkdir -p \"/shared/CSHL_volumes/RV19_61hrs/RV19_61hrs_down32_annotationAsScoreVolume/score_volumes\"\n",
      "aws s3 cp \"s3://mousebrainatlas-data/CSHL_volumes/RV19_61hrs/RV19_61hrs_down32_annotationAsScoreVolume/score_volumes/RV19_61hrs_down32_annotationAsScoreVolume_DC_R_surround_200.bp\" \"/shared/CSHL_volumes/RV19_61hrs/RV19_61hrs_down32_annotationAsScoreVolume/score_volumes/RV19_61hrs_down32_annotationAsScoreVolume_DC_R_surround_200.bp\"\n"
     ]
    },
    {
     "name": "stderr",
     "output_type": "stream",
     "text": [
      "File does not exist: /shared/CSHL_volumes/RV19_61hrs/RV19_61hrs_down32_annotationAsScoreVolume/score_volumes/RV19_61hrs_down32_annotationAsScoreVolume_DC_R_surround_200.bp\n",
      "Error computing gradient for DC_R_surround_200: [Errno 2] No such file or directory: '/shared/CSHL_volumes/RV19_61hrs/RV19_61hrs_down32_annotationAsScoreVolume/score_volumes/RV19_61hrs_down32_annotationAsScoreVolume_DC_R_surround_200.bp'.\n"
     ]
    },
    {
     "name": "stdout",
     "output_type": "stream",
     "text": [
      "IC\n",
      "rm -rf \"/shared/CSHL_volumes/RV19_61hrs/RV19_61hrs_down32_annotationAsScoreVolume/score_volumes/RV19_61hrs_down32_annotationAsScoreVolume_IC.bp\" && mkdir -p \"/shared/CSHL_volumes/RV19_61hrs/RV19_61hrs_down32_annotationAsScoreVolume/score_volumes\"\n",
      "aws s3 cp \"s3://mousebrainatlas-data/CSHL_volumes/RV19_61hrs/RV19_61hrs_down32_annotationAsScoreVolume/score_volumes/RV19_61hrs_down32_annotationAsScoreVolume_IC.bp\" \"/shared/CSHL_volumes/RV19_61hrs/RV19_61hrs_down32_annotationAsScoreVolume/score_volumes/RV19_61hrs_down32_annotationAsScoreVolume_IC.bp\"\n"
     ]
    },
    {
     "name": "stderr",
     "output_type": "stream",
     "text": [
      "File does not exist: /shared/CSHL_volumes/RV19_61hrs/RV19_61hrs_down32_annotationAsScoreVolume/score_volumes/RV19_61hrs_down32_annotationAsScoreVolume_IC.bp\n",
      "Error computing gradient for IC: [Errno 2] No such file or directory: '/shared/CSHL_volumes/RV19_61hrs/RV19_61hrs_down32_annotationAsScoreVolume/score_volumes/RV19_61hrs_down32_annotationAsScoreVolume_IC.bp'.\n"
     ]
    },
    {
     "name": "stdout",
     "output_type": "stream",
     "text": [
      "IC_surround_200\n",
      "rm -rf \"/shared/CSHL_volumes/RV19_61hrs/RV19_61hrs_down32_annotationAsScoreVolume/score_volumes/RV19_61hrs_down32_annotationAsScoreVolume_IC_surround_200.bp\" && mkdir -p \"/shared/CSHL_volumes/RV19_61hrs/RV19_61hrs_down32_annotationAsScoreVolume/score_volumes\"\n",
      "aws s3 cp \"s3://mousebrainatlas-data/CSHL_volumes/RV19_61hrs/RV19_61hrs_down32_annotationAsScoreVolume/score_volumes/RV19_61hrs_down32_annotationAsScoreVolume_IC_surround_200.bp\" \"/shared/CSHL_volumes/RV19_61hrs/RV19_61hrs_down32_annotationAsScoreVolume/score_volumes/RV19_61hrs_down32_annotationAsScoreVolume_IC_surround_200.bp\"\n"
     ]
    },
    {
     "name": "stderr",
     "output_type": "stream",
     "text": [
      "File does not exist: /shared/CSHL_volumes/RV19_61hrs/RV19_61hrs_down32_annotationAsScoreVolume/score_volumes/RV19_61hrs_down32_annotationAsScoreVolume_IC_surround_200.bp\n",
      "Error computing gradient for IC_surround_200: [Errno 2] No such file or directory: '/shared/CSHL_volumes/RV19_61hrs/RV19_61hrs_down32_annotationAsScoreVolume/score_volumes/RV19_61hrs_down32_annotationAsScoreVolume_IC_surround_200.bp'.\n"
     ]
    },
    {
     "name": "stdout",
     "output_type": "stream",
     "text": [
      "LC_L\n",
      "rm -rf \"/shared/CSHL_volumes/RV19_61hrs/RV19_61hrs_down32_annotationAsScoreVolume/score_volumes/RV19_61hrs_down32_annotationAsScoreVolume_LC_L.bp\" && mkdir -p \"/shared/CSHL_volumes/RV19_61hrs/RV19_61hrs_down32_annotationAsScoreVolume/score_volumes\"\n",
      "aws s3 cp \"s3://mousebrainatlas-data/CSHL_volumes/RV19_61hrs/RV19_61hrs_down32_annotationAsScoreVolume/score_volumes/RV19_61hrs_down32_annotationAsScoreVolume_LC_L.bp\" \"/shared/CSHL_volumes/RV19_61hrs/RV19_61hrs_down32_annotationAsScoreVolume/score_volumes/RV19_61hrs_down32_annotationAsScoreVolume_LC_L.bp\"\n"
     ]
    },
    {
     "name": "stderr",
     "output_type": "stream",
     "text": [
      "File does not exist: /shared/CSHL_volumes/RV19_61hrs/RV19_61hrs_down32_annotationAsScoreVolume/score_volumes/RV19_61hrs_down32_annotationAsScoreVolume_LC_L.bp\n",
      "Error computing gradient for LC_L: [Errno 2] No such file or directory: '/shared/CSHL_volumes/RV19_61hrs/RV19_61hrs_down32_annotationAsScoreVolume/score_volumes/RV19_61hrs_down32_annotationAsScoreVolume_LC_L.bp'.\n"
     ]
    },
    {
     "name": "stdout",
     "output_type": "stream",
     "text": [
      "LC_L_surround_200\n",
      "rm -rf \"/shared/CSHL_volumes/RV19_61hrs/RV19_61hrs_down32_annotationAsScoreVolume/score_volumes/RV19_61hrs_down32_annotationAsScoreVolume_LC_L_surround_200.bp\" && mkdir -p \"/shared/CSHL_volumes/RV19_61hrs/RV19_61hrs_down32_annotationAsScoreVolume/score_volumes\"\n",
      "aws s3 cp \"s3://mousebrainatlas-data/CSHL_volumes/RV19_61hrs/RV19_61hrs_down32_annotationAsScoreVolume/score_volumes/RV19_61hrs_down32_annotationAsScoreVolume_LC_L_surround_200.bp\" \"/shared/CSHL_volumes/RV19_61hrs/RV19_61hrs_down32_annotationAsScoreVolume/score_volumes/RV19_61hrs_down32_annotationAsScoreVolume_LC_L_surround_200.bp\"\n"
     ]
    },
    {
     "name": "stderr",
     "output_type": "stream",
     "text": [
      "File does not exist: /shared/CSHL_volumes/RV19_61hrs/RV19_61hrs_down32_annotationAsScoreVolume/score_volumes/RV19_61hrs_down32_annotationAsScoreVolume_LC_L_surround_200.bp\n",
      "Error computing gradient for LC_L_surround_200: [Errno 2] No such file or directory: '/shared/CSHL_volumes/RV19_61hrs/RV19_61hrs_down32_annotationAsScoreVolume/score_volumes/RV19_61hrs_down32_annotationAsScoreVolume_LC_L_surround_200.bp'.\n"
     ]
    },
    {
     "name": "stdout",
     "output_type": "stream",
     "text": [
      "LC_R\n",
      "rm -rf \"/shared/CSHL_volumes/RV19_61hrs/RV19_61hrs_down32_annotationAsScoreVolume/score_volumes/RV19_61hrs_down32_annotationAsScoreVolume_LC_R.bp\" && mkdir -p \"/shared/CSHL_volumes/RV19_61hrs/RV19_61hrs_down32_annotationAsScoreVolume/score_volumes\"\n",
      "aws s3 cp \"s3://mousebrainatlas-data/CSHL_volumes/RV19_61hrs/RV19_61hrs_down32_annotationAsScoreVolume/score_volumes/RV19_61hrs_down32_annotationAsScoreVolume_LC_R.bp\" \"/shared/CSHL_volumes/RV19_61hrs/RV19_61hrs_down32_annotationAsScoreVolume/score_volumes/RV19_61hrs_down32_annotationAsScoreVolume_LC_R.bp\"\n"
     ]
    },
    {
     "name": "stderr",
     "output_type": "stream",
     "text": [
      "File does not exist: /shared/CSHL_volumes/RV19_61hrs/RV19_61hrs_down32_annotationAsScoreVolume/score_volumes/RV19_61hrs_down32_annotationAsScoreVolume_LC_R.bp\n",
      "Error computing gradient for LC_R: [Errno 2] No such file or directory: '/shared/CSHL_volumes/RV19_61hrs/RV19_61hrs_down32_annotationAsScoreVolume/score_volumes/RV19_61hrs_down32_annotationAsScoreVolume_LC_R.bp'.\n"
     ]
    },
    {
     "name": "stdout",
     "output_type": "stream",
     "text": [
      "LC_R_surround_200\n",
      "rm -rf \"/shared/CSHL_volumes/RV19_61hrs/RV19_61hrs_down32_annotationAsScoreVolume/score_volumes/RV19_61hrs_down32_annotationAsScoreVolume_LC_R_surround_200.bp\" && mkdir -p \"/shared/CSHL_volumes/RV19_61hrs/RV19_61hrs_down32_annotationAsScoreVolume/score_volumes\"\n",
      "aws s3 cp \"s3://mousebrainatlas-data/CSHL_volumes/RV19_61hrs/RV19_61hrs_down32_annotationAsScoreVolume/score_volumes/RV19_61hrs_down32_annotationAsScoreVolume_LC_R_surround_200.bp\" \"/shared/CSHL_volumes/RV19_61hrs/RV19_61hrs_down32_annotationAsScoreVolume/score_volumes/RV19_61hrs_down32_annotationAsScoreVolume_LC_R_surround_200.bp\"\n"
     ]
    },
    {
     "name": "stderr",
     "output_type": "stream",
     "text": [
      "File does not exist: /shared/CSHL_volumes/RV19_61hrs/RV19_61hrs_down32_annotationAsScoreVolume/score_volumes/RV19_61hrs_down32_annotationAsScoreVolume_LC_R_surround_200.bp\n",
      "Error computing gradient for LC_R_surround_200: [Errno 2] No such file or directory: '/shared/CSHL_volumes/RV19_61hrs/RV19_61hrs_down32_annotationAsScoreVolume/score_volumes/RV19_61hrs_down32_annotationAsScoreVolume_LC_R_surround_200.bp'.\n"
     ]
    },
    {
     "name": "stdout",
     "output_type": "stream",
     "text": [
      "LRt_L\n"
     ]
    },
    {
     "name": "stderr",
     "output_type": "stream",
     "text": [
      "Gradient LRt_L: 0.651253 seconds\n"
     ]
    },
    {
     "name": "stdout",
     "output_type": "stream",
     "text": [
      "aws s3 cp \"/shared/CSHL_volumes/RV19_61hrs/RV19_61hrs_down32_annotationAsScoreVolume/score_volume_gradients/RV19_61hrs_down32_annotationAsScoreVolume_LRt_L_gx.bp\" \"s3://mousebrainatlas-data/CSHL_volumes/RV19_61hrs/RV19_61hrs_down32_annotationAsScoreVolume/score_volume_gradients/RV19_61hrs_down32_annotationAsScoreVolume_LRt_L_gx.bp\"\n",
      "aws s3 cp \"/shared/CSHL_volumes/RV19_61hrs/RV19_61hrs_down32_annotationAsScoreVolume/score_volume_gradients/RV19_61hrs_down32_annotationAsScoreVolume_LRt_L_gy.bp\" \"s3://mousebrainatlas-data/CSHL_volumes/RV19_61hrs/RV19_61hrs_down32_annotationAsScoreVolume/score_volume_gradients/RV19_61hrs_down32_annotationAsScoreVolume_LRt_L_gy.bp\"\n",
      "aws s3 cp \"/shared/CSHL_volumes/RV19_61hrs/RV19_61hrs_down32_annotationAsScoreVolume/score_volume_gradients/RV19_61hrs_down32_annotationAsScoreVolume_LRt_L_gz.bp\" \"s3://mousebrainatlas-data/CSHL_volumes/RV19_61hrs/RV19_61hrs_down32_annotationAsScoreVolume/score_volume_gradients/RV19_61hrs_down32_annotationAsScoreVolume_LRt_L_gz.bp\"\n"
     ]
    },
    {
     "name": "stderr",
     "output_type": "stream",
     "text": [
      "save LRt_L: 2.121228 seconds\n"
     ]
    },
    {
     "name": "stdout",
     "output_type": "stream",
     "text": [
      "LRt_L_surround_200\n"
     ]
    },
    {
     "name": "stderr",
     "output_type": "stream",
     "text": [
      "Gradient LRt_L_surround_200: 0.651872 seconds\n"
     ]
    },
    {
     "name": "stdout",
     "output_type": "stream",
     "text": [
      "aws s3 cp \"/shared/CSHL_volumes/RV19_61hrs/RV19_61hrs_down32_annotationAsScoreVolume/score_volume_gradients/RV19_61hrs_down32_annotationAsScoreVolume_LRt_L_surround_200_gx.bp\" \"s3://mousebrainatlas-data/CSHL_volumes/RV19_61hrs/RV19_61hrs_down32_annotationAsScoreVolume/score_volume_gradients/RV19_61hrs_down32_annotationAsScoreVolume_LRt_L_surround_200_gx.bp\"\n",
      "aws s3 cp \"/shared/CSHL_volumes/RV19_61hrs/RV19_61hrs_down32_annotationAsScoreVolume/score_volume_gradients/RV19_61hrs_down32_annotationAsScoreVolume_LRt_L_surround_200_gy.bp\" \"s3://mousebrainatlas-data/CSHL_volumes/RV19_61hrs/RV19_61hrs_down32_annotationAsScoreVolume/score_volume_gradients/RV19_61hrs_down32_annotationAsScoreVolume_LRt_L_surround_200_gy.bp\"\n",
      "aws s3 cp \"/shared/CSHL_volumes/RV19_61hrs/RV19_61hrs_down32_annotationAsScoreVolume/score_volume_gradients/RV19_61hrs_down32_annotationAsScoreVolume_LRt_L_surround_200_gz.bp\" \"s3://mousebrainatlas-data/CSHL_volumes/RV19_61hrs/RV19_61hrs_down32_annotationAsScoreVolume/score_volume_gradients/RV19_61hrs_down32_annotationAsScoreVolume_LRt_L_surround_200_gz.bp\"\n"
     ]
    },
    {
     "name": "stderr",
     "output_type": "stream",
     "text": [
      "save LRt_L_surround_200: 1.529694 seconds\n"
     ]
    },
    {
     "name": "stdout",
     "output_type": "stream",
     "text": [
      "LRt_R\n"
     ]
    },
    {
     "name": "stderr",
     "output_type": "stream",
     "text": [
      "Gradient LRt_R: 0.652929 seconds\n"
     ]
    },
    {
     "name": "stdout",
     "output_type": "stream",
     "text": [
      "aws s3 cp \"/shared/CSHL_volumes/RV19_61hrs/RV19_61hrs_down32_annotationAsScoreVolume/score_volume_gradients/RV19_61hrs_down32_annotationAsScoreVolume_LRt_R_gx.bp\" \"s3://mousebrainatlas-data/CSHL_volumes/RV19_61hrs/RV19_61hrs_down32_annotationAsScoreVolume/score_volume_gradients/RV19_61hrs_down32_annotationAsScoreVolume_LRt_R_gx.bp\"\n",
      "aws s3 cp \"/shared/CSHL_volumes/RV19_61hrs/RV19_61hrs_down32_annotationAsScoreVolume/score_volume_gradients/RV19_61hrs_down32_annotationAsScoreVolume_LRt_R_gy.bp\" \"s3://mousebrainatlas-data/CSHL_volumes/RV19_61hrs/RV19_61hrs_down32_annotationAsScoreVolume/score_volume_gradients/RV19_61hrs_down32_annotationAsScoreVolume_LRt_R_gy.bp\"\n",
      "aws s3 cp \"/shared/CSHL_volumes/RV19_61hrs/RV19_61hrs_down32_annotationAsScoreVolume/score_volume_gradients/RV19_61hrs_down32_annotationAsScoreVolume_LRt_R_gz.bp\" \"s3://mousebrainatlas-data/CSHL_volumes/RV19_61hrs/RV19_61hrs_down32_annotationAsScoreVolume/score_volume_gradients/RV19_61hrs_down32_annotationAsScoreVolume_LRt_R_gz.bp\"\n"
     ]
    },
    {
     "name": "stderr",
     "output_type": "stream",
     "text": [
      "save LRt_R: 1.547227 seconds\n"
     ]
    },
    {
     "name": "stdout",
     "output_type": "stream",
     "text": [
      "LRt_R_surround_200\n"
     ]
    },
    {
     "name": "stderr",
     "output_type": "stream",
     "text": [
      "Gradient LRt_R_surround_200: 0.652325 seconds\n"
     ]
    },
    {
     "name": "stdout",
     "output_type": "stream",
     "text": [
      "aws s3 cp \"/shared/CSHL_volumes/RV19_61hrs/RV19_61hrs_down32_annotationAsScoreVolume/score_volume_gradients/RV19_61hrs_down32_annotationAsScoreVolume_LRt_R_surround_200_gx.bp\" \"s3://mousebrainatlas-data/CSHL_volumes/RV19_61hrs/RV19_61hrs_down32_annotationAsScoreVolume/score_volume_gradients/RV19_61hrs_down32_annotationAsScoreVolume_LRt_R_surround_200_gx.bp\"\n",
      "aws s3 cp \"/shared/CSHL_volumes/RV19_61hrs/RV19_61hrs_down32_annotationAsScoreVolume/score_volume_gradients/RV19_61hrs_down32_annotationAsScoreVolume_LRt_R_surround_200_gy.bp\" \"s3://mousebrainatlas-data/CSHL_volumes/RV19_61hrs/RV19_61hrs_down32_annotationAsScoreVolume/score_volume_gradients/RV19_61hrs_down32_annotationAsScoreVolume_LRt_R_surround_200_gy.bp\"\n",
      "aws s3 cp \"/shared/CSHL_volumes/RV19_61hrs/RV19_61hrs_down32_annotationAsScoreVolume/score_volume_gradients/RV19_61hrs_down32_annotationAsScoreVolume_LRt_R_surround_200_gz.bp\" \"s3://mousebrainatlas-data/CSHL_volumes/RV19_61hrs/RV19_61hrs_down32_annotationAsScoreVolume/score_volume_gradients/RV19_61hrs_down32_annotationAsScoreVolume_LRt_R_surround_200_gz.bp\"\n"
     ]
    },
    {
     "name": "stderr",
     "output_type": "stream",
     "text": [
      "save LRt_R_surround_200: 1.617550 seconds\n"
     ]
    },
    {
     "name": "stdout",
     "output_type": "stream",
     "text": [
      "PBG_L\n",
      "rm -rf \"/shared/CSHL_volumes/RV19_61hrs/RV19_61hrs_down32_annotationAsScoreVolume/score_volumes/RV19_61hrs_down32_annotationAsScoreVolume_PBG_L.bp\" && mkdir -p \"/shared/CSHL_volumes/RV19_61hrs/RV19_61hrs_down32_annotationAsScoreVolume/score_volumes\"\n",
      "aws s3 cp \"s3://mousebrainatlas-data/CSHL_volumes/RV19_61hrs/RV19_61hrs_down32_annotationAsScoreVolume/score_volumes/RV19_61hrs_down32_annotationAsScoreVolume_PBG_L.bp\" \"/shared/CSHL_volumes/RV19_61hrs/RV19_61hrs_down32_annotationAsScoreVolume/score_volumes/RV19_61hrs_down32_annotationAsScoreVolume_PBG_L.bp\"\n"
     ]
    },
    {
     "name": "stderr",
     "output_type": "stream",
     "text": [
      "File does not exist: /shared/CSHL_volumes/RV19_61hrs/RV19_61hrs_down32_annotationAsScoreVolume/score_volumes/RV19_61hrs_down32_annotationAsScoreVolume_PBG_L.bp\n",
      "Error computing gradient for PBG_L: [Errno 2] No such file or directory: '/shared/CSHL_volumes/RV19_61hrs/RV19_61hrs_down32_annotationAsScoreVolume/score_volumes/RV19_61hrs_down32_annotationAsScoreVolume_PBG_L.bp'.\n"
     ]
    },
    {
     "name": "stdout",
     "output_type": "stream",
     "text": [
      "PBG_L_surround_200\n",
      "rm -rf \"/shared/CSHL_volumes/RV19_61hrs/RV19_61hrs_down32_annotationAsScoreVolume/score_volumes/RV19_61hrs_down32_annotationAsScoreVolume_PBG_L_surround_200.bp\" && mkdir -p \"/shared/CSHL_volumes/RV19_61hrs/RV19_61hrs_down32_annotationAsScoreVolume/score_volumes\"\n",
      "aws s3 cp \"s3://mousebrainatlas-data/CSHL_volumes/RV19_61hrs/RV19_61hrs_down32_annotationAsScoreVolume/score_volumes/RV19_61hrs_down32_annotationAsScoreVolume_PBG_L_surround_200.bp\" \"/shared/CSHL_volumes/RV19_61hrs/RV19_61hrs_down32_annotationAsScoreVolume/score_volumes/RV19_61hrs_down32_annotationAsScoreVolume_PBG_L_surround_200.bp\"\n"
     ]
    },
    {
     "name": "stderr",
     "output_type": "stream",
     "text": [
      "File does not exist: /shared/CSHL_volumes/RV19_61hrs/RV19_61hrs_down32_annotationAsScoreVolume/score_volumes/RV19_61hrs_down32_annotationAsScoreVolume_PBG_L_surround_200.bp\n",
      "Error computing gradient for PBG_L_surround_200: [Errno 2] No such file or directory: '/shared/CSHL_volumes/RV19_61hrs/RV19_61hrs_down32_annotationAsScoreVolume/score_volumes/RV19_61hrs_down32_annotationAsScoreVolume_PBG_L_surround_200.bp'.\n"
     ]
    },
    {
     "name": "stdout",
     "output_type": "stream",
     "text": [
      "PBG_R\n",
      "rm -rf \"/shared/CSHL_volumes/RV19_61hrs/RV19_61hrs_down32_annotationAsScoreVolume/score_volumes/RV19_61hrs_down32_annotationAsScoreVolume_PBG_R.bp\" && mkdir -p \"/shared/CSHL_volumes/RV19_61hrs/RV19_61hrs_down32_annotationAsScoreVolume/score_volumes\"\n",
      "aws s3 cp \"s3://mousebrainatlas-data/CSHL_volumes/RV19_61hrs/RV19_61hrs_down32_annotationAsScoreVolume/score_volumes/RV19_61hrs_down32_annotationAsScoreVolume_PBG_R.bp\" \"/shared/CSHL_volumes/RV19_61hrs/RV19_61hrs_down32_annotationAsScoreVolume/score_volumes/RV19_61hrs_down32_annotationAsScoreVolume_PBG_R.bp\"\n"
     ]
    },
    {
     "name": "stderr",
     "output_type": "stream",
     "text": [
      "File does not exist: /shared/CSHL_volumes/RV19_61hrs/RV19_61hrs_down32_annotationAsScoreVolume/score_volumes/RV19_61hrs_down32_annotationAsScoreVolume_PBG_R.bp\n",
      "Error computing gradient for PBG_R: [Errno 2] No such file or directory: '/shared/CSHL_volumes/RV19_61hrs/RV19_61hrs_down32_annotationAsScoreVolume/score_volumes/RV19_61hrs_down32_annotationAsScoreVolume_PBG_R.bp'.\n"
     ]
    },
    {
     "name": "stdout",
     "output_type": "stream",
     "text": [
      "PBG_R_surround_200\n",
      "rm -rf \"/shared/CSHL_volumes/RV19_61hrs/RV19_61hrs_down32_annotationAsScoreVolume/score_volumes/RV19_61hrs_down32_annotationAsScoreVolume_PBG_R_surround_200.bp\" && mkdir -p \"/shared/CSHL_volumes/RV19_61hrs/RV19_61hrs_down32_annotationAsScoreVolume/score_volumes\"\n",
      "aws s3 cp \"s3://mousebrainatlas-data/CSHL_volumes/RV19_61hrs/RV19_61hrs_down32_annotationAsScoreVolume/score_volumes/RV19_61hrs_down32_annotationAsScoreVolume_PBG_R_surround_200.bp\" \"/shared/CSHL_volumes/RV19_61hrs/RV19_61hrs_down32_annotationAsScoreVolume/score_volumes/RV19_61hrs_down32_annotationAsScoreVolume_PBG_R_surround_200.bp\"\n"
     ]
    },
    {
     "name": "stderr",
     "output_type": "stream",
     "text": [
      "File does not exist: /shared/CSHL_volumes/RV19_61hrs/RV19_61hrs_down32_annotationAsScoreVolume/score_volumes/RV19_61hrs_down32_annotationAsScoreVolume_PBG_R_surround_200.bp\n",
      "Error computing gradient for PBG_R_surround_200: [Errno 2] No such file or directory: '/shared/CSHL_volumes/RV19_61hrs/RV19_61hrs_down32_annotationAsScoreVolume/score_volumes/RV19_61hrs_down32_annotationAsScoreVolume_PBG_R_surround_200.bp'.\n"
     ]
    },
    {
     "name": "stdout",
     "output_type": "stream",
     "text": [
      "Pn_L\n",
      "rm -rf \"/shared/CSHL_volumes/RV19_61hrs/RV19_61hrs_down32_annotationAsScoreVolume/score_volumes/RV19_61hrs_down32_annotationAsScoreVolume_Pn_L.bp\" && mkdir -p \"/shared/CSHL_volumes/RV19_61hrs/RV19_61hrs_down32_annotationAsScoreVolume/score_volumes\"\n",
      "aws s3 cp \"s3://mousebrainatlas-data/CSHL_volumes/RV19_61hrs/RV19_61hrs_down32_annotationAsScoreVolume/score_volumes/RV19_61hrs_down32_annotationAsScoreVolume_Pn_L.bp\" \"/shared/CSHL_volumes/RV19_61hrs/RV19_61hrs_down32_annotationAsScoreVolume/score_volumes/RV19_61hrs_down32_annotationAsScoreVolume_Pn_L.bp\"\n"
     ]
    },
    {
     "name": "stderr",
     "output_type": "stream",
     "text": [
      "File does not exist: /shared/CSHL_volumes/RV19_61hrs/RV19_61hrs_down32_annotationAsScoreVolume/score_volumes/RV19_61hrs_down32_annotationAsScoreVolume_Pn_L.bp\n",
      "Error computing gradient for Pn_L: [Errno 2] No such file or directory: '/shared/CSHL_volumes/RV19_61hrs/RV19_61hrs_down32_annotationAsScoreVolume/score_volumes/RV19_61hrs_down32_annotationAsScoreVolume_Pn_L.bp'.\n"
     ]
    },
    {
     "name": "stdout",
     "output_type": "stream",
     "text": [
      "Pn_L_surround_200\n",
      "rm -rf \"/shared/CSHL_volumes/RV19_61hrs/RV19_61hrs_down32_annotationAsScoreVolume/score_volumes/RV19_61hrs_down32_annotationAsScoreVolume_Pn_L_surround_200.bp\" && mkdir -p \"/shared/CSHL_volumes/RV19_61hrs/RV19_61hrs_down32_annotationAsScoreVolume/score_volumes\"\n",
      "aws s3 cp \"s3://mousebrainatlas-data/CSHL_volumes/RV19_61hrs/RV19_61hrs_down32_annotationAsScoreVolume/score_volumes/RV19_61hrs_down32_annotationAsScoreVolume_Pn_L_surround_200.bp\" \"/shared/CSHL_volumes/RV19_61hrs/RV19_61hrs_down32_annotationAsScoreVolume/score_volumes/RV19_61hrs_down32_annotationAsScoreVolume_Pn_L_surround_200.bp\"\n"
     ]
    },
    {
     "name": "stderr",
     "output_type": "stream",
     "text": [
      "File does not exist: /shared/CSHL_volumes/RV19_61hrs/RV19_61hrs_down32_annotationAsScoreVolume/score_volumes/RV19_61hrs_down32_annotationAsScoreVolume_Pn_L_surround_200.bp\n",
      "Error computing gradient for Pn_L_surround_200: [Errno 2] No such file or directory: '/shared/CSHL_volumes/RV19_61hrs/RV19_61hrs_down32_annotationAsScoreVolume/score_volumes/RV19_61hrs_down32_annotationAsScoreVolume_Pn_L_surround_200.bp'.\n"
     ]
    },
    {
     "name": "stdout",
     "output_type": "stream",
     "text": [
      "Pn_R\n",
      "rm -rf \"/shared/CSHL_volumes/RV19_61hrs/RV19_61hrs_down32_annotationAsScoreVolume/score_volumes/RV19_61hrs_down32_annotationAsScoreVolume_Pn_R.bp\" && mkdir -p \"/shared/CSHL_volumes/RV19_61hrs/RV19_61hrs_down32_annotationAsScoreVolume/score_volumes\"\n",
      "aws s3 cp \"s3://mousebrainatlas-data/CSHL_volumes/RV19_61hrs/RV19_61hrs_down32_annotationAsScoreVolume/score_volumes/RV19_61hrs_down32_annotationAsScoreVolume_Pn_R.bp\" \"/shared/CSHL_volumes/RV19_61hrs/RV19_61hrs_down32_annotationAsScoreVolume/score_volumes/RV19_61hrs_down32_annotationAsScoreVolume_Pn_R.bp\"\n"
     ]
    },
    {
     "name": "stderr",
     "output_type": "stream",
     "text": [
      "File does not exist: /shared/CSHL_volumes/RV19_61hrs/RV19_61hrs_down32_annotationAsScoreVolume/score_volumes/RV19_61hrs_down32_annotationAsScoreVolume_Pn_R.bp\n",
      "Error computing gradient for Pn_R: [Errno 2] No such file or directory: '/shared/CSHL_volumes/RV19_61hrs/RV19_61hrs_down32_annotationAsScoreVolume/score_volumes/RV19_61hrs_down32_annotationAsScoreVolume_Pn_R.bp'.\n"
     ]
    },
    {
     "name": "stdout",
     "output_type": "stream",
     "text": [
      "Pn_R_surround_200\n",
      "rm -rf \"/shared/CSHL_volumes/RV19_61hrs/RV19_61hrs_down32_annotationAsScoreVolume/score_volumes/RV19_61hrs_down32_annotationAsScoreVolume_Pn_R_surround_200.bp\" && mkdir -p \"/shared/CSHL_volumes/RV19_61hrs/RV19_61hrs_down32_annotationAsScoreVolume/score_volumes\"\n",
      "aws s3 cp \"s3://mousebrainatlas-data/CSHL_volumes/RV19_61hrs/RV19_61hrs_down32_annotationAsScoreVolume/score_volumes/RV19_61hrs_down32_annotationAsScoreVolume_Pn_R_surround_200.bp\" \"/shared/CSHL_volumes/RV19_61hrs/RV19_61hrs_down32_annotationAsScoreVolume/score_volumes/RV19_61hrs_down32_annotationAsScoreVolume_Pn_R_surround_200.bp\"\n"
     ]
    },
    {
     "name": "stderr",
     "output_type": "stream",
     "text": [
      "File does not exist: /shared/CSHL_volumes/RV19_61hrs/RV19_61hrs_down32_annotationAsScoreVolume/score_volumes/RV19_61hrs_down32_annotationAsScoreVolume_Pn_R_surround_200.bp\n",
      "Error computing gradient for Pn_R_surround_200: [Errno 2] No such file or directory: '/shared/CSHL_volumes/RV19_61hrs/RV19_61hrs_down32_annotationAsScoreVolume/score_volumes/RV19_61hrs_down32_annotationAsScoreVolume_Pn_R_surround_200.bp'.\n"
     ]
    },
    {
     "name": "stdout",
     "output_type": "stream",
     "text": [
      "RMC_L\n",
      "rm -rf \"/shared/CSHL_volumes/RV19_61hrs/RV19_61hrs_down32_annotationAsScoreVolume/score_volumes/RV19_61hrs_down32_annotationAsScoreVolume_RMC_L.bp\" && mkdir -p \"/shared/CSHL_volumes/RV19_61hrs/RV19_61hrs_down32_annotationAsScoreVolume/score_volumes\"\n",
      "aws s3 cp \"s3://mousebrainatlas-data/CSHL_volumes/RV19_61hrs/RV19_61hrs_down32_annotationAsScoreVolume/score_volumes/RV19_61hrs_down32_annotationAsScoreVolume_RMC_L.bp\" \"/shared/CSHL_volumes/RV19_61hrs/RV19_61hrs_down32_annotationAsScoreVolume/score_volumes/RV19_61hrs_down32_annotationAsScoreVolume_RMC_L.bp\"\n"
     ]
    },
    {
     "name": "stderr",
     "output_type": "stream",
     "text": [
      "File does not exist: /shared/CSHL_volumes/RV19_61hrs/RV19_61hrs_down32_annotationAsScoreVolume/score_volumes/RV19_61hrs_down32_annotationAsScoreVolume_RMC_L.bp\n",
      "Error computing gradient for RMC_L: [Errno 2] No such file or directory: '/shared/CSHL_volumes/RV19_61hrs/RV19_61hrs_down32_annotationAsScoreVolume/score_volumes/RV19_61hrs_down32_annotationAsScoreVolume_RMC_L.bp'.\n"
     ]
    },
    {
     "name": "stdout",
     "output_type": "stream",
     "text": [
      "RMC_L_surround_200\n",
      "rm -rf \"/shared/CSHL_volumes/RV19_61hrs/RV19_61hrs_down32_annotationAsScoreVolume/score_volumes/RV19_61hrs_down32_annotationAsScoreVolume_RMC_L_surround_200.bp\" && mkdir -p \"/shared/CSHL_volumes/RV19_61hrs/RV19_61hrs_down32_annotationAsScoreVolume/score_volumes\"\n",
      "aws s3 cp \"s3://mousebrainatlas-data/CSHL_volumes/RV19_61hrs/RV19_61hrs_down32_annotationAsScoreVolume/score_volumes/RV19_61hrs_down32_annotationAsScoreVolume_RMC_L_surround_200.bp\" \"/shared/CSHL_volumes/RV19_61hrs/RV19_61hrs_down32_annotationAsScoreVolume/score_volumes/RV19_61hrs_down32_annotationAsScoreVolume_RMC_L_surround_200.bp\"\n"
     ]
    },
    {
     "name": "stderr",
     "output_type": "stream",
     "text": [
      "File does not exist: /shared/CSHL_volumes/RV19_61hrs/RV19_61hrs_down32_annotationAsScoreVolume/score_volumes/RV19_61hrs_down32_annotationAsScoreVolume_RMC_L_surround_200.bp\n",
      "Error computing gradient for RMC_L_surround_200: [Errno 2] No such file or directory: '/shared/CSHL_volumes/RV19_61hrs/RV19_61hrs_down32_annotationAsScoreVolume/score_volumes/RV19_61hrs_down32_annotationAsScoreVolume_RMC_L_surround_200.bp'.\n"
     ]
    },
    {
     "name": "stdout",
     "output_type": "stream",
     "text": [
      "RMC_R\n",
      "rm -rf \"/shared/CSHL_volumes/RV19_61hrs/RV19_61hrs_down32_annotationAsScoreVolume/score_volumes/RV19_61hrs_down32_annotationAsScoreVolume_RMC_R.bp\" && mkdir -p \"/shared/CSHL_volumes/RV19_61hrs/RV19_61hrs_down32_annotationAsScoreVolume/score_volumes\"\n",
      "aws s3 cp \"s3://mousebrainatlas-data/CSHL_volumes/RV19_61hrs/RV19_61hrs_down32_annotationAsScoreVolume/score_volumes/RV19_61hrs_down32_annotationAsScoreVolume_RMC_R.bp\" \"/shared/CSHL_volumes/RV19_61hrs/RV19_61hrs_down32_annotationAsScoreVolume/score_volumes/RV19_61hrs_down32_annotationAsScoreVolume_RMC_R.bp\"\n"
     ]
    },
    {
     "name": "stderr",
     "output_type": "stream",
     "text": [
      "File does not exist: /shared/CSHL_volumes/RV19_61hrs/RV19_61hrs_down32_annotationAsScoreVolume/score_volumes/RV19_61hrs_down32_annotationAsScoreVolume_RMC_R.bp\n",
      "Error computing gradient for RMC_R: [Errno 2] No such file or directory: '/shared/CSHL_volumes/RV19_61hrs/RV19_61hrs_down32_annotationAsScoreVolume/score_volumes/RV19_61hrs_down32_annotationAsScoreVolume_RMC_R.bp'.\n"
     ]
    },
    {
     "name": "stdout",
     "output_type": "stream",
     "text": [
      "RMC_R_surround_200\n",
      "rm -rf \"/shared/CSHL_volumes/RV19_61hrs/RV19_61hrs_down32_annotationAsScoreVolume/score_volumes/RV19_61hrs_down32_annotationAsScoreVolume_RMC_R_surround_200.bp\" && mkdir -p \"/shared/CSHL_volumes/RV19_61hrs/RV19_61hrs_down32_annotationAsScoreVolume/score_volumes\"\n",
      "aws s3 cp \"s3://mousebrainatlas-data/CSHL_volumes/RV19_61hrs/RV19_61hrs_down32_annotationAsScoreVolume/score_volumes/RV19_61hrs_down32_annotationAsScoreVolume_RMC_R_surround_200.bp\" \"/shared/CSHL_volumes/RV19_61hrs/RV19_61hrs_down32_annotationAsScoreVolume/score_volumes/RV19_61hrs_down32_annotationAsScoreVolume_RMC_R_surround_200.bp\"\n"
     ]
    },
    {
     "name": "stderr",
     "output_type": "stream",
     "text": [
      "File does not exist: /shared/CSHL_volumes/RV19_61hrs/RV19_61hrs_down32_annotationAsScoreVolume/score_volumes/RV19_61hrs_down32_annotationAsScoreVolume_RMC_R_surround_200.bp\n",
      "Error computing gradient for RMC_R_surround_200: [Errno 2] No such file or directory: '/shared/CSHL_volumes/RV19_61hrs/RV19_61hrs_down32_annotationAsScoreVolume/score_volumes/RV19_61hrs_down32_annotationAsScoreVolume_RMC_R_surround_200.bp'.\n"
     ]
    },
    {
     "name": "stdout",
     "output_type": "stream",
     "text": [
      "RtTg\n",
      "rm -rf \"/shared/CSHL_volumes/RV19_61hrs/RV19_61hrs_down32_annotationAsScoreVolume/score_volumes/RV19_61hrs_down32_annotationAsScoreVolume_RtTg.bp\" && mkdir -p \"/shared/CSHL_volumes/RV19_61hrs/RV19_61hrs_down32_annotationAsScoreVolume/score_volumes\"\n",
      "aws s3 cp \"s3://mousebrainatlas-data/CSHL_volumes/RV19_61hrs/RV19_61hrs_down32_annotationAsScoreVolume/score_volumes/RV19_61hrs_down32_annotationAsScoreVolume_RtTg.bp\" \"/shared/CSHL_volumes/RV19_61hrs/RV19_61hrs_down32_annotationAsScoreVolume/score_volumes/RV19_61hrs_down32_annotationAsScoreVolume_RtTg.bp\"\n"
     ]
    },
    {
     "name": "stderr",
     "output_type": "stream",
     "text": [
      "File does not exist: /shared/CSHL_volumes/RV19_61hrs/RV19_61hrs_down32_annotationAsScoreVolume/score_volumes/RV19_61hrs_down32_annotationAsScoreVolume_RtTg.bp\n",
      "Error computing gradient for RtTg: [Errno 2] No such file or directory: '/shared/CSHL_volumes/RV19_61hrs/RV19_61hrs_down32_annotationAsScoreVolume/score_volumes/RV19_61hrs_down32_annotationAsScoreVolume_RtTg.bp'.\n"
     ]
    },
    {
     "name": "stdout",
     "output_type": "stream",
     "text": [
      "RtTg_surround_200\n",
      "rm -rf \"/shared/CSHL_volumes/RV19_61hrs/RV19_61hrs_down32_annotationAsScoreVolume/score_volumes/RV19_61hrs_down32_annotationAsScoreVolume_RtTg_surround_200.bp\" && mkdir -p \"/shared/CSHL_volumes/RV19_61hrs/RV19_61hrs_down32_annotationAsScoreVolume/score_volumes\"\n",
      "aws s3 cp \"s3://mousebrainatlas-data/CSHL_volumes/RV19_61hrs/RV19_61hrs_down32_annotationAsScoreVolume/score_volumes/RV19_61hrs_down32_annotationAsScoreVolume_RtTg_surround_200.bp\" \"/shared/CSHL_volumes/RV19_61hrs/RV19_61hrs_down32_annotationAsScoreVolume/score_volumes/RV19_61hrs_down32_annotationAsScoreVolume_RtTg_surround_200.bp\"\n"
     ]
    },
    {
     "name": "stderr",
     "output_type": "stream",
     "text": [
      "File does not exist: /shared/CSHL_volumes/RV19_61hrs/RV19_61hrs_down32_annotationAsScoreVolume/score_volumes/RV19_61hrs_down32_annotationAsScoreVolume_RtTg_surround_200.bp\n",
      "Error computing gradient for RtTg_surround_200: [Errno 2] No such file or directory: '/shared/CSHL_volumes/RV19_61hrs/RV19_61hrs_down32_annotationAsScoreVolume/score_volumes/RV19_61hrs_down32_annotationAsScoreVolume_RtTg_surround_200.bp'.\n"
     ]
    },
    {
     "name": "stdout",
     "output_type": "stream",
     "text": [
      "SC\n",
      "rm -rf \"/shared/CSHL_volumes/RV19_61hrs/RV19_61hrs_down32_annotationAsScoreVolume/score_volumes/RV19_61hrs_down32_annotationAsScoreVolume_SC.bp\" && mkdir -p \"/shared/CSHL_volumes/RV19_61hrs/RV19_61hrs_down32_annotationAsScoreVolume/score_volumes\"\n",
      "aws s3 cp \"s3://mousebrainatlas-data/CSHL_volumes/RV19_61hrs/RV19_61hrs_down32_annotationAsScoreVolume/score_volumes/RV19_61hrs_down32_annotationAsScoreVolume_SC.bp\" \"/shared/CSHL_volumes/RV19_61hrs/RV19_61hrs_down32_annotationAsScoreVolume/score_volumes/RV19_61hrs_down32_annotationAsScoreVolume_SC.bp\"\n"
     ]
    },
    {
     "name": "stderr",
     "output_type": "stream",
     "text": [
      "File does not exist: /shared/CSHL_volumes/RV19_61hrs/RV19_61hrs_down32_annotationAsScoreVolume/score_volumes/RV19_61hrs_down32_annotationAsScoreVolume_SC.bp\n",
      "Error computing gradient for SC: [Errno 2] No such file or directory: '/shared/CSHL_volumes/RV19_61hrs/RV19_61hrs_down32_annotationAsScoreVolume/score_volumes/RV19_61hrs_down32_annotationAsScoreVolume_SC.bp'.\n"
     ]
    },
    {
     "name": "stdout",
     "output_type": "stream",
     "text": [
      "SC_surround_200\n",
      "rm -rf \"/shared/CSHL_volumes/RV19_61hrs/RV19_61hrs_down32_annotationAsScoreVolume/score_volumes/RV19_61hrs_down32_annotationAsScoreVolume_SC_surround_200.bp\" && mkdir -p \"/shared/CSHL_volumes/RV19_61hrs/RV19_61hrs_down32_annotationAsScoreVolume/score_volumes\"\n",
      "aws s3 cp \"s3://mousebrainatlas-data/CSHL_volumes/RV19_61hrs/RV19_61hrs_down32_annotationAsScoreVolume/score_volumes/RV19_61hrs_down32_annotationAsScoreVolume_SC_surround_200.bp\" \"/shared/CSHL_volumes/RV19_61hrs/RV19_61hrs_down32_annotationAsScoreVolume/score_volumes/RV19_61hrs_down32_annotationAsScoreVolume_SC_surround_200.bp\"\n"
     ]
    },
    {
     "name": "stderr",
     "output_type": "stream",
     "text": [
      "File does not exist: /shared/CSHL_volumes/RV19_61hrs/RV19_61hrs_down32_annotationAsScoreVolume/score_volumes/RV19_61hrs_down32_annotationAsScoreVolume_SC_surround_200.bp\n",
      "Error computing gradient for SC_surround_200: [Errno 2] No such file or directory: '/shared/CSHL_volumes/RV19_61hrs/RV19_61hrs_down32_annotationAsScoreVolume/score_volumes/RV19_61hrs_down32_annotationAsScoreVolume_SC_surround_200.bp'.\n"
     ]
    },
    {
     "name": "stdout",
     "output_type": "stream",
     "text": [
      "SNC_L\n",
      "rm -rf \"/shared/CSHL_volumes/RV19_61hrs/RV19_61hrs_down32_annotationAsScoreVolume/score_volumes/RV19_61hrs_down32_annotationAsScoreVolume_SNC_L.bp\" && mkdir -p \"/shared/CSHL_volumes/RV19_61hrs/RV19_61hrs_down32_annotationAsScoreVolume/score_volumes\"\n",
      "aws s3 cp \"s3://mousebrainatlas-data/CSHL_volumes/RV19_61hrs/RV19_61hrs_down32_annotationAsScoreVolume/score_volumes/RV19_61hrs_down32_annotationAsScoreVolume_SNC_L.bp\" \"/shared/CSHL_volumes/RV19_61hrs/RV19_61hrs_down32_annotationAsScoreVolume/score_volumes/RV19_61hrs_down32_annotationAsScoreVolume_SNC_L.bp\"\n"
     ]
    },
    {
     "name": "stderr",
     "output_type": "stream",
     "text": [
      "File does not exist: /shared/CSHL_volumes/RV19_61hrs/RV19_61hrs_down32_annotationAsScoreVolume/score_volumes/RV19_61hrs_down32_annotationAsScoreVolume_SNC_L.bp\n",
      "Error computing gradient for SNC_L: [Errno 2] No such file or directory: '/shared/CSHL_volumes/RV19_61hrs/RV19_61hrs_down32_annotationAsScoreVolume/score_volumes/RV19_61hrs_down32_annotationAsScoreVolume_SNC_L.bp'.\n"
     ]
    },
    {
     "name": "stdout",
     "output_type": "stream",
     "text": [
      "SNC_L_surround_200\n",
      "rm -rf \"/shared/CSHL_volumes/RV19_61hrs/RV19_61hrs_down32_annotationAsScoreVolume/score_volumes/RV19_61hrs_down32_annotationAsScoreVolume_SNC_L_surround_200.bp\" && mkdir -p \"/shared/CSHL_volumes/RV19_61hrs/RV19_61hrs_down32_annotationAsScoreVolume/score_volumes\"\n",
      "aws s3 cp \"s3://mousebrainatlas-data/CSHL_volumes/RV19_61hrs/RV19_61hrs_down32_annotationAsScoreVolume/score_volumes/RV19_61hrs_down32_annotationAsScoreVolume_SNC_L_surround_200.bp\" \"/shared/CSHL_volumes/RV19_61hrs/RV19_61hrs_down32_annotationAsScoreVolume/score_volumes/RV19_61hrs_down32_annotationAsScoreVolume_SNC_L_surround_200.bp\"\n"
     ]
    },
    {
     "name": "stderr",
     "output_type": "stream",
     "text": [
      "File does not exist: /shared/CSHL_volumes/RV19_61hrs/RV19_61hrs_down32_annotationAsScoreVolume/score_volumes/RV19_61hrs_down32_annotationAsScoreVolume_SNC_L_surround_200.bp\n",
      "Error computing gradient for SNC_L_surround_200: [Errno 2] No such file or directory: '/shared/CSHL_volumes/RV19_61hrs/RV19_61hrs_down32_annotationAsScoreVolume/score_volumes/RV19_61hrs_down32_annotationAsScoreVolume_SNC_L_surround_200.bp'.\n"
     ]
    },
    {
     "name": "stdout",
     "output_type": "stream",
     "text": [
      "SNC_R\n",
      "rm -rf \"/shared/CSHL_volumes/RV19_61hrs/RV19_61hrs_down32_annotationAsScoreVolume/score_volumes/RV19_61hrs_down32_annotationAsScoreVolume_SNC_R.bp\" && mkdir -p \"/shared/CSHL_volumes/RV19_61hrs/RV19_61hrs_down32_annotationAsScoreVolume/score_volumes\"\n",
      "aws s3 cp \"s3://mousebrainatlas-data/CSHL_volumes/RV19_61hrs/RV19_61hrs_down32_annotationAsScoreVolume/score_volumes/RV19_61hrs_down32_annotationAsScoreVolume_SNC_R.bp\" \"/shared/CSHL_volumes/RV19_61hrs/RV19_61hrs_down32_annotationAsScoreVolume/score_volumes/RV19_61hrs_down32_annotationAsScoreVolume_SNC_R.bp\"\n"
     ]
    },
    {
     "name": "stderr",
     "output_type": "stream",
     "text": [
      "File does not exist: /shared/CSHL_volumes/RV19_61hrs/RV19_61hrs_down32_annotationAsScoreVolume/score_volumes/RV19_61hrs_down32_annotationAsScoreVolume_SNC_R.bp\n",
      "Error computing gradient for SNC_R: [Errno 2] No such file or directory: '/shared/CSHL_volumes/RV19_61hrs/RV19_61hrs_down32_annotationAsScoreVolume/score_volumes/RV19_61hrs_down32_annotationAsScoreVolume_SNC_R.bp'.\n"
     ]
    },
    {
     "name": "stdout",
     "output_type": "stream",
     "text": [
      "SNC_R_surround_200\n",
      "rm -rf \"/shared/CSHL_volumes/RV19_61hrs/RV19_61hrs_down32_annotationAsScoreVolume/score_volumes/RV19_61hrs_down32_annotationAsScoreVolume_SNC_R_surround_200.bp\" && mkdir -p \"/shared/CSHL_volumes/RV19_61hrs/RV19_61hrs_down32_annotationAsScoreVolume/score_volumes\"\n",
      "aws s3 cp \"s3://mousebrainatlas-data/CSHL_volumes/RV19_61hrs/RV19_61hrs_down32_annotationAsScoreVolume/score_volumes/RV19_61hrs_down32_annotationAsScoreVolume_SNC_R_surround_200.bp\" \"/shared/CSHL_volumes/RV19_61hrs/RV19_61hrs_down32_annotationAsScoreVolume/score_volumes/RV19_61hrs_down32_annotationAsScoreVolume_SNC_R_surround_200.bp\"\n"
     ]
    },
    {
     "name": "stderr",
     "output_type": "stream",
     "text": [
      "File does not exist: /shared/CSHL_volumes/RV19_61hrs/RV19_61hrs_down32_annotationAsScoreVolume/score_volumes/RV19_61hrs_down32_annotationAsScoreVolume_SNC_R_surround_200.bp\n",
      "Error computing gradient for SNC_R_surround_200: [Errno 2] No such file or directory: '/shared/CSHL_volumes/RV19_61hrs/RV19_61hrs_down32_annotationAsScoreVolume/score_volumes/RV19_61hrs_down32_annotationAsScoreVolume_SNC_R_surround_200.bp'.\n"
     ]
    },
    {
     "name": "stdout",
     "output_type": "stream",
     "text": [
      "SNR_L\n",
      "rm -rf \"/shared/CSHL_volumes/RV19_61hrs/RV19_61hrs_down32_annotationAsScoreVolume/score_volumes/RV19_61hrs_down32_annotationAsScoreVolume_SNR_L.bp\" && mkdir -p \"/shared/CSHL_volumes/RV19_61hrs/RV19_61hrs_down32_annotationAsScoreVolume/score_volumes\"\n",
      "aws s3 cp \"s3://mousebrainatlas-data/CSHL_volumes/RV19_61hrs/RV19_61hrs_down32_annotationAsScoreVolume/score_volumes/RV19_61hrs_down32_annotationAsScoreVolume_SNR_L.bp\" \"/shared/CSHL_volumes/RV19_61hrs/RV19_61hrs_down32_annotationAsScoreVolume/score_volumes/RV19_61hrs_down32_annotationAsScoreVolume_SNR_L.bp\"\n"
     ]
    },
    {
     "name": "stderr",
     "output_type": "stream",
     "text": [
      "File does not exist: /shared/CSHL_volumes/RV19_61hrs/RV19_61hrs_down32_annotationAsScoreVolume/score_volumes/RV19_61hrs_down32_annotationAsScoreVolume_SNR_L.bp\n",
      "Error computing gradient for SNR_L: [Errno 2] No such file or directory: '/shared/CSHL_volumes/RV19_61hrs/RV19_61hrs_down32_annotationAsScoreVolume/score_volumes/RV19_61hrs_down32_annotationAsScoreVolume_SNR_L.bp'.\n"
     ]
    },
    {
     "name": "stdout",
     "output_type": "stream",
     "text": [
      "SNR_L_surround_200\n",
      "rm -rf \"/shared/CSHL_volumes/RV19_61hrs/RV19_61hrs_down32_annotationAsScoreVolume/score_volumes/RV19_61hrs_down32_annotationAsScoreVolume_SNR_L_surround_200.bp\" && mkdir -p \"/shared/CSHL_volumes/RV19_61hrs/RV19_61hrs_down32_annotationAsScoreVolume/score_volumes\"\n",
      "aws s3 cp \"s3://mousebrainatlas-data/CSHL_volumes/RV19_61hrs/RV19_61hrs_down32_annotationAsScoreVolume/score_volumes/RV19_61hrs_down32_annotationAsScoreVolume_SNR_L_surround_200.bp\" \"/shared/CSHL_volumes/RV19_61hrs/RV19_61hrs_down32_annotationAsScoreVolume/score_volumes/RV19_61hrs_down32_annotationAsScoreVolume_SNR_L_surround_200.bp\"\n"
     ]
    },
    {
     "name": "stderr",
     "output_type": "stream",
     "text": [
      "File does not exist: /shared/CSHL_volumes/RV19_61hrs/RV19_61hrs_down32_annotationAsScoreVolume/score_volumes/RV19_61hrs_down32_annotationAsScoreVolume_SNR_L_surround_200.bp\n",
      "Error computing gradient for SNR_L_surround_200: [Errno 2] No such file or directory: '/shared/CSHL_volumes/RV19_61hrs/RV19_61hrs_down32_annotationAsScoreVolume/score_volumes/RV19_61hrs_down32_annotationAsScoreVolume_SNR_L_surround_200.bp'.\n"
     ]
    },
    {
     "name": "stdout",
     "output_type": "stream",
     "text": [
      "SNR_R\n",
      "rm -rf \"/shared/CSHL_volumes/RV19_61hrs/RV19_61hrs_down32_annotationAsScoreVolume/score_volumes/RV19_61hrs_down32_annotationAsScoreVolume_SNR_R.bp\" && mkdir -p \"/shared/CSHL_volumes/RV19_61hrs/RV19_61hrs_down32_annotationAsScoreVolume/score_volumes\"\n",
      "aws s3 cp \"s3://mousebrainatlas-data/CSHL_volumes/RV19_61hrs/RV19_61hrs_down32_annotationAsScoreVolume/score_volumes/RV19_61hrs_down32_annotationAsScoreVolume_SNR_R.bp\" \"/shared/CSHL_volumes/RV19_61hrs/RV19_61hrs_down32_annotationAsScoreVolume/score_volumes/RV19_61hrs_down32_annotationAsScoreVolume_SNR_R.bp\"\n"
     ]
    },
    {
     "name": "stderr",
     "output_type": "stream",
     "text": [
      "File does not exist: /shared/CSHL_volumes/RV19_61hrs/RV19_61hrs_down32_annotationAsScoreVolume/score_volumes/RV19_61hrs_down32_annotationAsScoreVolume_SNR_R.bp\n",
      "Error computing gradient for SNR_R: [Errno 2] No such file or directory: '/shared/CSHL_volumes/RV19_61hrs/RV19_61hrs_down32_annotationAsScoreVolume/score_volumes/RV19_61hrs_down32_annotationAsScoreVolume_SNR_R.bp'.\n"
     ]
    },
    {
     "name": "stdout",
     "output_type": "stream",
     "text": [
      "SNR_R_surround_200\n",
      "rm -rf \"/shared/CSHL_volumes/RV19_61hrs/RV19_61hrs_down32_annotationAsScoreVolume/score_volumes/RV19_61hrs_down32_annotationAsScoreVolume_SNR_R_surround_200.bp\" && mkdir -p \"/shared/CSHL_volumes/RV19_61hrs/RV19_61hrs_down32_annotationAsScoreVolume/score_volumes\"\n",
      "aws s3 cp \"s3://mousebrainatlas-data/CSHL_volumes/RV19_61hrs/RV19_61hrs_down32_annotationAsScoreVolume/score_volumes/RV19_61hrs_down32_annotationAsScoreVolume_SNR_R_surround_200.bp\" \"/shared/CSHL_volumes/RV19_61hrs/RV19_61hrs_down32_annotationAsScoreVolume/score_volumes/RV19_61hrs_down32_annotationAsScoreVolume_SNR_R_surround_200.bp\"\n"
     ]
    },
    {
     "name": "stderr",
     "output_type": "stream",
     "text": [
      "File does not exist: /shared/CSHL_volumes/RV19_61hrs/RV19_61hrs_down32_annotationAsScoreVolume/score_volumes/RV19_61hrs_down32_annotationAsScoreVolume_SNR_R_surround_200.bp\n",
      "Error computing gradient for SNR_R_surround_200: [Errno 2] No such file or directory: '/shared/CSHL_volumes/RV19_61hrs/RV19_61hrs_down32_annotationAsScoreVolume/score_volumes/RV19_61hrs_down32_annotationAsScoreVolume_SNR_R_surround_200.bp'.\n"
     ]
    },
    {
     "name": "stdout",
     "output_type": "stream",
     "text": [
      "Sp5C_L\n"
     ]
    },
    {
     "name": "stderr",
     "output_type": "stream",
     "text": [
      "Gradient Sp5C_L: 0.651080 seconds\n"
     ]
    },
    {
     "name": "stdout",
     "output_type": "stream",
     "text": [
      "aws s3 cp \"/shared/CSHL_volumes/RV19_61hrs/RV19_61hrs_down32_annotationAsScoreVolume/score_volume_gradients/RV19_61hrs_down32_annotationAsScoreVolume_Sp5C_L_gx.bp\" \"s3://mousebrainatlas-data/CSHL_volumes/RV19_61hrs/RV19_61hrs_down32_annotationAsScoreVolume/score_volume_gradients/RV19_61hrs_down32_annotationAsScoreVolume_Sp5C_L_gx.bp\"\n",
      "aws s3 cp \"/shared/CSHL_volumes/RV19_61hrs/RV19_61hrs_down32_annotationAsScoreVolume/score_volume_gradients/RV19_61hrs_down32_annotationAsScoreVolume_Sp5C_L_gy.bp\" \"s3://mousebrainatlas-data/CSHL_volumes/RV19_61hrs/RV19_61hrs_down32_annotationAsScoreVolume/score_volume_gradients/RV19_61hrs_down32_annotationAsScoreVolume_Sp5C_L_gy.bp\"\n",
      "aws s3 cp \"/shared/CSHL_volumes/RV19_61hrs/RV19_61hrs_down32_annotationAsScoreVolume/score_volume_gradients/RV19_61hrs_down32_annotationAsScoreVolume_Sp5C_L_gz.bp\" \"s3://mousebrainatlas-data/CSHL_volumes/RV19_61hrs/RV19_61hrs_down32_annotationAsScoreVolume/score_volume_gradients/RV19_61hrs_down32_annotationAsScoreVolume_Sp5C_L_gz.bp\"\n"
     ]
    },
    {
     "name": "stderr",
     "output_type": "stream",
     "text": [
      "save Sp5C_L: 1.497028 seconds\n"
     ]
    },
    {
     "name": "stdout",
     "output_type": "stream",
     "text": [
      "Sp5C_L_surround_200\n"
     ]
    },
    {
     "name": "stderr",
     "output_type": "stream",
     "text": [
      "Gradient Sp5C_L_surround_200: 0.649978 seconds\n"
     ]
    },
    {
     "name": "stdout",
     "output_type": "stream",
     "text": [
      "aws s3 cp \"/shared/CSHL_volumes/RV19_61hrs/RV19_61hrs_down32_annotationAsScoreVolume/score_volume_gradients/RV19_61hrs_down32_annotationAsScoreVolume_Sp5C_L_surround_200_gx.bp\" \"s3://mousebrainatlas-data/CSHL_volumes/RV19_61hrs/RV19_61hrs_down32_annotationAsScoreVolume/score_volume_gradients/RV19_61hrs_down32_annotationAsScoreVolume_Sp5C_L_surround_200_gx.bp\"\n",
      "aws s3 cp \"/shared/CSHL_volumes/RV19_61hrs/RV19_61hrs_down32_annotationAsScoreVolume/score_volume_gradients/RV19_61hrs_down32_annotationAsScoreVolume_Sp5C_L_surround_200_gy.bp\" \"s3://mousebrainatlas-data/CSHL_volumes/RV19_61hrs/RV19_61hrs_down32_annotationAsScoreVolume/score_volume_gradients/RV19_61hrs_down32_annotationAsScoreVolume_Sp5C_L_surround_200_gy.bp\"\n",
      "aws s3 cp \"/shared/CSHL_volumes/RV19_61hrs/RV19_61hrs_down32_annotationAsScoreVolume/score_volume_gradients/RV19_61hrs_down32_annotationAsScoreVolume_Sp5C_L_surround_200_gz.bp\" \"s3://mousebrainatlas-data/CSHL_volumes/RV19_61hrs/RV19_61hrs_down32_annotationAsScoreVolume/score_volume_gradients/RV19_61hrs_down32_annotationAsScoreVolume_Sp5C_L_surround_200_gz.bp\"\n"
     ]
    },
    {
     "name": "stderr",
     "output_type": "stream",
     "text": [
      "save Sp5C_L_surround_200: 1.559727 seconds\n"
     ]
    },
    {
     "name": "stdout",
     "output_type": "stream",
     "text": [
      "Sp5C_R\n"
     ]
    },
    {
     "name": "stderr",
     "output_type": "stream",
     "text": [
      "Gradient Sp5C_R: 0.651715 seconds\n"
     ]
    },
    {
     "name": "stdout",
     "output_type": "stream",
     "text": [
      "aws s3 cp \"/shared/CSHL_volumes/RV19_61hrs/RV19_61hrs_down32_annotationAsScoreVolume/score_volume_gradients/RV19_61hrs_down32_annotationAsScoreVolume_Sp5C_R_gx.bp\" \"s3://mousebrainatlas-data/CSHL_volumes/RV19_61hrs/RV19_61hrs_down32_annotationAsScoreVolume/score_volume_gradients/RV19_61hrs_down32_annotationAsScoreVolume_Sp5C_R_gx.bp\"\n",
      "aws s3 cp \"/shared/CSHL_volumes/RV19_61hrs/RV19_61hrs_down32_annotationAsScoreVolume/score_volume_gradients/RV19_61hrs_down32_annotationAsScoreVolume_Sp5C_R_gy.bp\" \"s3://mousebrainatlas-data/CSHL_volumes/RV19_61hrs/RV19_61hrs_down32_annotationAsScoreVolume/score_volume_gradients/RV19_61hrs_down32_annotationAsScoreVolume_Sp5C_R_gy.bp\"\n",
      "aws s3 cp \"/shared/CSHL_volumes/RV19_61hrs/RV19_61hrs_down32_annotationAsScoreVolume/score_volume_gradients/RV19_61hrs_down32_annotationAsScoreVolume_Sp5C_R_gz.bp\" \"s3://mousebrainatlas-data/CSHL_volumes/RV19_61hrs/RV19_61hrs_down32_annotationAsScoreVolume/score_volume_gradients/RV19_61hrs_down32_annotationAsScoreVolume_Sp5C_R_gz.bp\"\n"
     ]
    },
    {
     "name": "stderr",
     "output_type": "stream",
     "text": [
      "save Sp5C_R: 1.457591 seconds\n"
     ]
    },
    {
     "name": "stdout",
     "output_type": "stream",
     "text": [
      "Sp5C_R_surround_200\n"
     ]
    },
    {
     "name": "stderr",
     "output_type": "stream",
     "text": [
      "Gradient Sp5C_R_surround_200: 0.651514 seconds\n"
     ]
    },
    {
     "name": "stdout",
     "output_type": "stream",
     "text": [
      "aws s3 cp \"/shared/CSHL_volumes/RV19_61hrs/RV19_61hrs_down32_annotationAsScoreVolume/score_volume_gradients/RV19_61hrs_down32_annotationAsScoreVolume_Sp5C_R_surround_200_gx.bp\" \"s3://mousebrainatlas-data/CSHL_volumes/RV19_61hrs/RV19_61hrs_down32_annotationAsScoreVolume/score_volume_gradients/RV19_61hrs_down32_annotationAsScoreVolume_Sp5C_R_surround_200_gx.bp\"\n",
      "aws s3 cp \"/shared/CSHL_volumes/RV19_61hrs/RV19_61hrs_down32_annotationAsScoreVolume/score_volume_gradients/RV19_61hrs_down32_annotationAsScoreVolume_Sp5C_R_surround_200_gy.bp\" \"s3://mousebrainatlas-data/CSHL_volumes/RV19_61hrs/RV19_61hrs_down32_annotationAsScoreVolume/score_volume_gradients/RV19_61hrs_down32_annotationAsScoreVolume_Sp5C_R_surround_200_gy.bp\"\n",
      "aws s3 cp \"/shared/CSHL_volumes/RV19_61hrs/RV19_61hrs_down32_annotationAsScoreVolume/score_volume_gradients/RV19_61hrs_down32_annotationAsScoreVolume_Sp5C_R_surround_200_gz.bp\" \"s3://mousebrainatlas-data/CSHL_volumes/RV19_61hrs/RV19_61hrs_down32_annotationAsScoreVolume/score_volume_gradients/RV19_61hrs_down32_annotationAsScoreVolume_Sp5C_R_surround_200_gz.bp\"\n"
     ]
    },
    {
     "name": "stderr",
     "output_type": "stream",
     "text": [
      "save Sp5C_R_surround_200: 1.476777 seconds\n"
     ]
    },
    {
     "name": "stdout",
     "output_type": "stream",
     "text": [
      "Sp5I_L\n",
      "rm -rf \"/shared/CSHL_volumes/RV19_61hrs/RV19_61hrs_down32_annotationAsScoreVolume/score_volumes/RV19_61hrs_down32_annotationAsScoreVolume_Sp5I_L.bp\" && mkdir -p \"/shared/CSHL_volumes/RV19_61hrs/RV19_61hrs_down32_annotationAsScoreVolume/score_volumes\"\n",
      "aws s3 cp \"s3://mousebrainatlas-data/CSHL_volumes/RV19_61hrs/RV19_61hrs_down32_annotationAsScoreVolume/score_volumes/RV19_61hrs_down32_annotationAsScoreVolume_Sp5I_L.bp\" \"/shared/CSHL_volumes/RV19_61hrs/RV19_61hrs_down32_annotationAsScoreVolume/score_volumes/RV19_61hrs_down32_annotationAsScoreVolume_Sp5I_L.bp\"\n"
     ]
    },
    {
     "name": "stderr",
     "output_type": "stream",
     "text": [
      "File does not exist: /shared/CSHL_volumes/RV19_61hrs/RV19_61hrs_down32_annotationAsScoreVolume/score_volumes/RV19_61hrs_down32_annotationAsScoreVolume_Sp5I_L.bp\n",
      "Error computing gradient for Sp5I_L: [Errno 2] No such file or directory: '/shared/CSHL_volumes/RV19_61hrs/RV19_61hrs_down32_annotationAsScoreVolume/score_volumes/RV19_61hrs_down32_annotationAsScoreVolume_Sp5I_L.bp'.\n"
     ]
    },
    {
     "name": "stdout",
     "output_type": "stream",
     "text": [
      "Sp5I_L_surround_200\n",
      "rm -rf \"/shared/CSHL_volumes/RV19_61hrs/RV19_61hrs_down32_annotationAsScoreVolume/score_volumes/RV19_61hrs_down32_annotationAsScoreVolume_Sp5I_L_surround_200.bp\" && mkdir -p \"/shared/CSHL_volumes/RV19_61hrs/RV19_61hrs_down32_annotationAsScoreVolume/score_volumes\"\n",
      "aws s3 cp \"s3://mousebrainatlas-data/CSHL_volumes/RV19_61hrs/RV19_61hrs_down32_annotationAsScoreVolume/score_volumes/RV19_61hrs_down32_annotationAsScoreVolume_Sp5I_L_surround_200.bp\" \"/shared/CSHL_volumes/RV19_61hrs/RV19_61hrs_down32_annotationAsScoreVolume/score_volumes/RV19_61hrs_down32_annotationAsScoreVolume_Sp5I_L_surround_200.bp\"\n"
     ]
    },
    {
     "name": "stderr",
     "output_type": "stream",
     "text": [
      "File does not exist: /shared/CSHL_volumes/RV19_61hrs/RV19_61hrs_down32_annotationAsScoreVolume/score_volumes/RV19_61hrs_down32_annotationAsScoreVolume_Sp5I_L_surround_200.bp\n",
      "Error computing gradient for Sp5I_L_surround_200: [Errno 2] No such file or directory: '/shared/CSHL_volumes/RV19_61hrs/RV19_61hrs_down32_annotationAsScoreVolume/score_volumes/RV19_61hrs_down32_annotationAsScoreVolume_Sp5I_L_surround_200.bp'.\n"
     ]
    },
    {
     "name": "stdout",
     "output_type": "stream",
     "text": [
      "Sp5I_R\n"
     ]
    },
    {
     "name": "stderr",
     "output_type": "stream",
     "text": [
      "Gradient Sp5I_R: 0.651575 seconds\n"
     ]
    },
    {
     "name": "stdout",
     "output_type": "stream",
     "text": [
      "aws s3 cp \"/shared/CSHL_volumes/RV19_61hrs/RV19_61hrs_down32_annotationAsScoreVolume/score_volume_gradients/RV19_61hrs_down32_annotationAsScoreVolume_Sp5I_R_gx.bp\" \"s3://mousebrainatlas-data/CSHL_volumes/RV19_61hrs/RV19_61hrs_down32_annotationAsScoreVolume/score_volume_gradients/RV19_61hrs_down32_annotationAsScoreVolume_Sp5I_R_gx.bp\"\n",
      "aws s3 cp \"/shared/CSHL_volumes/RV19_61hrs/RV19_61hrs_down32_annotationAsScoreVolume/score_volume_gradients/RV19_61hrs_down32_annotationAsScoreVolume_Sp5I_R_gy.bp\" \"s3://mousebrainatlas-data/CSHL_volumes/RV19_61hrs/RV19_61hrs_down32_annotationAsScoreVolume/score_volume_gradients/RV19_61hrs_down32_annotationAsScoreVolume_Sp5I_R_gy.bp\"\n",
      "aws s3 cp \"/shared/CSHL_volumes/RV19_61hrs/RV19_61hrs_down32_annotationAsScoreVolume/score_volume_gradients/RV19_61hrs_down32_annotationAsScoreVolume_Sp5I_R_gz.bp\" \"s3://mousebrainatlas-data/CSHL_volumes/RV19_61hrs/RV19_61hrs_down32_annotationAsScoreVolume/score_volume_gradients/RV19_61hrs_down32_annotationAsScoreVolume_Sp5I_R_gz.bp\"\n"
     ]
    },
    {
     "name": "stderr",
     "output_type": "stream",
     "text": [
      "save Sp5I_R: 1.454311 seconds\n"
     ]
    },
    {
     "name": "stdout",
     "output_type": "stream",
     "text": [
      "Sp5I_R_surround_200\n"
     ]
    },
    {
     "name": "stderr",
     "output_type": "stream",
     "text": [
      "Gradient Sp5I_R_surround_200: 0.652081 seconds\n"
     ]
    },
    {
     "name": "stdout",
     "output_type": "stream",
     "text": [
      "aws s3 cp \"/shared/CSHL_volumes/RV19_61hrs/RV19_61hrs_down32_annotationAsScoreVolume/score_volume_gradients/RV19_61hrs_down32_annotationAsScoreVolume_Sp5I_R_surround_200_gx.bp\" \"s3://mousebrainatlas-data/CSHL_volumes/RV19_61hrs/RV19_61hrs_down32_annotationAsScoreVolume/score_volume_gradients/RV19_61hrs_down32_annotationAsScoreVolume_Sp5I_R_surround_200_gx.bp\"\n",
      "aws s3 cp \"/shared/CSHL_volumes/RV19_61hrs/RV19_61hrs_down32_annotationAsScoreVolume/score_volume_gradients/RV19_61hrs_down32_annotationAsScoreVolume_Sp5I_R_surround_200_gy.bp\" \"s3://mousebrainatlas-data/CSHL_volumes/RV19_61hrs/RV19_61hrs_down32_annotationAsScoreVolume/score_volume_gradients/RV19_61hrs_down32_annotationAsScoreVolume_Sp5I_R_surround_200_gy.bp\"\n",
      "aws s3 cp \"/shared/CSHL_volumes/RV19_61hrs/RV19_61hrs_down32_annotationAsScoreVolume/score_volume_gradients/RV19_61hrs_down32_annotationAsScoreVolume_Sp5I_R_surround_200_gz.bp\" \"s3://mousebrainatlas-data/CSHL_volumes/RV19_61hrs/RV19_61hrs_down32_annotationAsScoreVolume/score_volume_gradients/RV19_61hrs_down32_annotationAsScoreVolume_Sp5I_R_surround_200_gz.bp\"\n"
     ]
    },
    {
     "name": "stderr",
     "output_type": "stream",
     "text": [
      "save Sp5I_R_surround_200: 1.584832 seconds\n"
     ]
    },
    {
     "name": "stdout",
     "output_type": "stream",
     "text": [
      "Sp5O_L\n",
      "rm -rf \"/shared/CSHL_volumes/RV19_61hrs/RV19_61hrs_down32_annotationAsScoreVolume/score_volumes/RV19_61hrs_down32_annotationAsScoreVolume_Sp5O_L.bp\" && mkdir -p \"/shared/CSHL_volumes/RV19_61hrs/RV19_61hrs_down32_annotationAsScoreVolume/score_volumes\"\n",
      "aws s3 cp \"s3://mousebrainatlas-data/CSHL_volumes/RV19_61hrs/RV19_61hrs_down32_annotationAsScoreVolume/score_volumes/RV19_61hrs_down32_annotationAsScoreVolume_Sp5O_L.bp\" \"/shared/CSHL_volumes/RV19_61hrs/RV19_61hrs_down32_annotationAsScoreVolume/score_volumes/RV19_61hrs_down32_annotationAsScoreVolume_Sp5O_L.bp\"\n"
     ]
    },
    {
     "name": "stderr",
     "output_type": "stream",
     "text": [
      "File does not exist: /shared/CSHL_volumes/RV19_61hrs/RV19_61hrs_down32_annotationAsScoreVolume/score_volumes/RV19_61hrs_down32_annotationAsScoreVolume_Sp5O_L.bp\n",
      "Error computing gradient for Sp5O_L: [Errno 2] No such file or directory: '/shared/CSHL_volumes/RV19_61hrs/RV19_61hrs_down32_annotationAsScoreVolume/score_volumes/RV19_61hrs_down32_annotationAsScoreVolume_Sp5O_L.bp'.\n"
     ]
    },
    {
     "name": "stdout",
     "output_type": "stream",
     "text": [
      "Sp5O_L_surround_200\n",
      "rm -rf \"/shared/CSHL_volumes/RV19_61hrs/RV19_61hrs_down32_annotationAsScoreVolume/score_volumes/RV19_61hrs_down32_annotationAsScoreVolume_Sp5O_L_surround_200.bp\" && mkdir -p \"/shared/CSHL_volumes/RV19_61hrs/RV19_61hrs_down32_annotationAsScoreVolume/score_volumes\"\n",
      "aws s3 cp \"s3://mousebrainatlas-data/CSHL_volumes/RV19_61hrs/RV19_61hrs_down32_annotationAsScoreVolume/score_volumes/RV19_61hrs_down32_annotationAsScoreVolume_Sp5O_L_surround_200.bp\" \"/shared/CSHL_volumes/RV19_61hrs/RV19_61hrs_down32_annotationAsScoreVolume/score_volumes/RV19_61hrs_down32_annotationAsScoreVolume_Sp5O_L_surround_200.bp\"\n"
     ]
    },
    {
     "name": "stderr",
     "output_type": "stream",
     "text": [
      "File does not exist: /shared/CSHL_volumes/RV19_61hrs/RV19_61hrs_down32_annotationAsScoreVolume/score_volumes/RV19_61hrs_down32_annotationAsScoreVolume_Sp5O_L_surround_200.bp\n",
      "Error computing gradient for Sp5O_L_surround_200: [Errno 2] No such file or directory: '/shared/CSHL_volumes/RV19_61hrs/RV19_61hrs_down32_annotationAsScoreVolume/score_volumes/RV19_61hrs_down32_annotationAsScoreVolume_Sp5O_L_surround_200.bp'.\n"
     ]
    },
    {
     "name": "stdout",
     "output_type": "stream",
     "text": [
      "Sp5O_R\n",
      "rm -rf \"/shared/CSHL_volumes/RV19_61hrs/RV19_61hrs_down32_annotationAsScoreVolume/score_volumes/RV19_61hrs_down32_annotationAsScoreVolume_Sp5O_R.bp\" && mkdir -p \"/shared/CSHL_volumes/RV19_61hrs/RV19_61hrs_down32_annotationAsScoreVolume/score_volumes\"\n",
      "aws s3 cp \"s3://mousebrainatlas-data/CSHL_volumes/RV19_61hrs/RV19_61hrs_down32_annotationAsScoreVolume/score_volumes/RV19_61hrs_down32_annotationAsScoreVolume_Sp5O_R.bp\" \"/shared/CSHL_volumes/RV19_61hrs/RV19_61hrs_down32_annotationAsScoreVolume/score_volumes/RV19_61hrs_down32_annotationAsScoreVolume_Sp5O_R.bp\"\n"
     ]
    },
    {
     "name": "stderr",
     "output_type": "stream",
     "text": [
      "File does not exist: /shared/CSHL_volumes/RV19_61hrs/RV19_61hrs_down32_annotationAsScoreVolume/score_volumes/RV19_61hrs_down32_annotationAsScoreVolume_Sp5O_R.bp\n",
      "Error computing gradient for Sp5O_R: [Errno 2] No such file or directory: '/shared/CSHL_volumes/RV19_61hrs/RV19_61hrs_down32_annotationAsScoreVolume/score_volumes/RV19_61hrs_down32_annotationAsScoreVolume_Sp5O_R.bp'.\n"
     ]
    },
    {
     "name": "stdout",
     "output_type": "stream",
     "text": [
      "Sp5O_R_surround_200\n",
      "rm -rf \"/shared/CSHL_volumes/RV19_61hrs/RV19_61hrs_down32_annotationAsScoreVolume/score_volumes/RV19_61hrs_down32_annotationAsScoreVolume_Sp5O_R_surround_200.bp\" && mkdir -p \"/shared/CSHL_volumes/RV19_61hrs/RV19_61hrs_down32_annotationAsScoreVolume/score_volumes\"\n",
      "aws s3 cp \"s3://mousebrainatlas-data/CSHL_volumes/RV19_61hrs/RV19_61hrs_down32_annotationAsScoreVolume/score_volumes/RV19_61hrs_down32_annotationAsScoreVolume_Sp5O_R_surround_200.bp\" \"/shared/CSHL_volumes/RV19_61hrs/RV19_61hrs_down32_annotationAsScoreVolume/score_volumes/RV19_61hrs_down32_annotationAsScoreVolume_Sp5O_R_surround_200.bp\"\n"
     ]
    },
    {
     "name": "stderr",
     "output_type": "stream",
     "text": [
      "File does not exist: /shared/CSHL_volumes/RV19_61hrs/RV19_61hrs_down32_annotationAsScoreVolume/score_volumes/RV19_61hrs_down32_annotationAsScoreVolume_Sp5O_R_surround_200.bp\n",
      "Error computing gradient for Sp5O_R_surround_200: [Errno 2] No such file or directory: '/shared/CSHL_volumes/RV19_61hrs/RV19_61hrs_down32_annotationAsScoreVolume/score_volumes/RV19_61hrs_down32_annotationAsScoreVolume_Sp5O_R_surround_200.bp'.\n"
     ]
    },
    {
     "name": "stdout",
     "output_type": "stream",
     "text": [
      "Tz_L\n",
      "rm -rf \"/shared/CSHL_volumes/RV19_61hrs/RV19_61hrs_down32_annotationAsScoreVolume/score_volumes/RV19_61hrs_down32_annotationAsScoreVolume_Tz_L.bp\" && mkdir -p \"/shared/CSHL_volumes/RV19_61hrs/RV19_61hrs_down32_annotationAsScoreVolume/score_volumes\"\n",
      "aws s3 cp \"s3://mousebrainatlas-data/CSHL_volumes/RV19_61hrs/RV19_61hrs_down32_annotationAsScoreVolume/score_volumes/RV19_61hrs_down32_annotationAsScoreVolume_Tz_L.bp\" \"/shared/CSHL_volumes/RV19_61hrs/RV19_61hrs_down32_annotationAsScoreVolume/score_volumes/RV19_61hrs_down32_annotationAsScoreVolume_Tz_L.bp\"\n"
     ]
    },
    {
     "name": "stderr",
     "output_type": "stream",
     "text": [
      "File does not exist: /shared/CSHL_volumes/RV19_61hrs/RV19_61hrs_down32_annotationAsScoreVolume/score_volumes/RV19_61hrs_down32_annotationAsScoreVolume_Tz_L.bp\n",
      "Error computing gradient for Tz_L: [Errno 2] No such file or directory: '/shared/CSHL_volumes/RV19_61hrs/RV19_61hrs_down32_annotationAsScoreVolume/score_volumes/RV19_61hrs_down32_annotationAsScoreVolume_Tz_L.bp'.\n"
     ]
    },
    {
     "name": "stdout",
     "output_type": "stream",
     "text": [
      "Tz_L_surround_200\n",
      "rm -rf \"/shared/CSHL_volumes/RV19_61hrs/RV19_61hrs_down32_annotationAsScoreVolume/score_volumes/RV19_61hrs_down32_annotationAsScoreVolume_Tz_L_surround_200.bp\" && mkdir -p \"/shared/CSHL_volumes/RV19_61hrs/RV19_61hrs_down32_annotationAsScoreVolume/score_volumes\"\n",
      "aws s3 cp \"s3://mousebrainatlas-data/CSHL_volumes/RV19_61hrs/RV19_61hrs_down32_annotationAsScoreVolume/score_volumes/RV19_61hrs_down32_annotationAsScoreVolume_Tz_L_surround_200.bp\" \"/shared/CSHL_volumes/RV19_61hrs/RV19_61hrs_down32_annotationAsScoreVolume/score_volumes/RV19_61hrs_down32_annotationAsScoreVolume_Tz_L_surround_200.bp\"\n"
     ]
    },
    {
     "name": "stderr",
     "output_type": "stream",
     "text": [
      "File does not exist: /shared/CSHL_volumes/RV19_61hrs/RV19_61hrs_down32_annotationAsScoreVolume/score_volumes/RV19_61hrs_down32_annotationAsScoreVolume_Tz_L_surround_200.bp\n",
      "Error computing gradient for Tz_L_surround_200: [Errno 2] No such file or directory: '/shared/CSHL_volumes/RV19_61hrs/RV19_61hrs_down32_annotationAsScoreVolume/score_volumes/RV19_61hrs_down32_annotationAsScoreVolume_Tz_L_surround_200.bp'.\n"
     ]
    },
    {
     "name": "stdout",
     "output_type": "stream",
     "text": [
      "Tz_R\n",
      "rm -rf \"/shared/CSHL_volumes/RV19_61hrs/RV19_61hrs_down32_annotationAsScoreVolume/score_volumes/RV19_61hrs_down32_annotationAsScoreVolume_Tz_R.bp\" && mkdir -p \"/shared/CSHL_volumes/RV19_61hrs/RV19_61hrs_down32_annotationAsScoreVolume/score_volumes\"\n",
      "aws s3 cp \"s3://mousebrainatlas-data/CSHL_volumes/RV19_61hrs/RV19_61hrs_down32_annotationAsScoreVolume/score_volumes/RV19_61hrs_down32_annotationAsScoreVolume_Tz_R.bp\" \"/shared/CSHL_volumes/RV19_61hrs/RV19_61hrs_down32_annotationAsScoreVolume/score_volumes/RV19_61hrs_down32_annotationAsScoreVolume_Tz_R.bp\"\n"
     ]
    },
    {
     "name": "stderr",
     "output_type": "stream",
     "text": [
      "File does not exist: /shared/CSHL_volumes/RV19_61hrs/RV19_61hrs_down32_annotationAsScoreVolume/score_volumes/RV19_61hrs_down32_annotationAsScoreVolume_Tz_R.bp\n",
      "Error computing gradient for Tz_R: [Errno 2] No such file or directory: '/shared/CSHL_volumes/RV19_61hrs/RV19_61hrs_down32_annotationAsScoreVolume/score_volumes/RV19_61hrs_down32_annotationAsScoreVolume_Tz_R.bp'.\n"
     ]
    },
    {
     "name": "stdout",
     "output_type": "stream",
     "text": [
      "Tz_R_surround_200\n",
      "rm -rf \"/shared/CSHL_volumes/RV19_61hrs/RV19_61hrs_down32_annotationAsScoreVolume/score_volumes/RV19_61hrs_down32_annotationAsScoreVolume_Tz_R_surround_200.bp\" && mkdir -p \"/shared/CSHL_volumes/RV19_61hrs/RV19_61hrs_down32_annotationAsScoreVolume/score_volumes\"\n",
      "aws s3 cp \"s3://mousebrainatlas-data/CSHL_volumes/RV19_61hrs/RV19_61hrs_down32_annotationAsScoreVolume/score_volumes/RV19_61hrs_down32_annotationAsScoreVolume_Tz_R_surround_200.bp\" \"/shared/CSHL_volumes/RV19_61hrs/RV19_61hrs_down32_annotationAsScoreVolume/score_volumes/RV19_61hrs_down32_annotationAsScoreVolume_Tz_R_surround_200.bp\"\n"
     ]
    },
    {
     "name": "stderr",
     "output_type": "stream",
     "text": [
      "File does not exist: /shared/CSHL_volumes/RV19_61hrs/RV19_61hrs_down32_annotationAsScoreVolume/score_volumes/RV19_61hrs_down32_annotationAsScoreVolume_Tz_R_surround_200.bp\n",
      "Error computing gradient for Tz_R_surround_200: [Errno 2] No such file or directory: '/shared/CSHL_volumes/RV19_61hrs/RV19_61hrs_down32_annotationAsScoreVolume/score_volumes/RV19_61hrs_down32_annotationAsScoreVolume_Tz_R_surround_200.bp'.\n"
     ]
    },
    {
     "name": "stdout",
     "output_type": "stream",
     "text": [
      "VCA_L\n",
      "rm -rf \"/shared/CSHL_volumes/RV19_61hrs/RV19_61hrs_down32_annotationAsScoreVolume/score_volumes/RV19_61hrs_down32_annotationAsScoreVolume_VCA_L.bp\" && mkdir -p \"/shared/CSHL_volumes/RV19_61hrs/RV19_61hrs_down32_annotationAsScoreVolume/score_volumes\"\n",
      "aws s3 cp \"s3://mousebrainatlas-data/CSHL_volumes/RV19_61hrs/RV19_61hrs_down32_annotationAsScoreVolume/score_volumes/RV19_61hrs_down32_annotationAsScoreVolume_VCA_L.bp\" \"/shared/CSHL_volumes/RV19_61hrs/RV19_61hrs_down32_annotationAsScoreVolume/score_volumes/RV19_61hrs_down32_annotationAsScoreVolume_VCA_L.bp\"\n"
     ]
    },
    {
     "name": "stderr",
     "output_type": "stream",
     "text": [
      "File does not exist: /shared/CSHL_volumes/RV19_61hrs/RV19_61hrs_down32_annotationAsScoreVolume/score_volumes/RV19_61hrs_down32_annotationAsScoreVolume_VCA_L.bp\n",
      "Error computing gradient for VCA_L: [Errno 2] No such file or directory: '/shared/CSHL_volumes/RV19_61hrs/RV19_61hrs_down32_annotationAsScoreVolume/score_volumes/RV19_61hrs_down32_annotationAsScoreVolume_VCA_L.bp'.\n"
     ]
    },
    {
     "name": "stdout",
     "output_type": "stream",
     "text": [
      "VCA_L_surround_200\n",
      "rm -rf \"/shared/CSHL_volumes/RV19_61hrs/RV19_61hrs_down32_annotationAsScoreVolume/score_volumes/RV19_61hrs_down32_annotationAsScoreVolume_VCA_L_surround_200.bp\" && mkdir -p \"/shared/CSHL_volumes/RV19_61hrs/RV19_61hrs_down32_annotationAsScoreVolume/score_volumes\"\n",
      "aws s3 cp \"s3://mousebrainatlas-data/CSHL_volumes/RV19_61hrs/RV19_61hrs_down32_annotationAsScoreVolume/score_volumes/RV19_61hrs_down32_annotationAsScoreVolume_VCA_L_surround_200.bp\" \"/shared/CSHL_volumes/RV19_61hrs/RV19_61hrs_down32_annotationAsScoreVolume/score_volumes/RV19_61hrs_down32_annotationAsScoreVolume_VCA_L_surround_200.bp\"\n"
     ]
    },
    {
     "name": "stderr",
     "output_type": "stream",
     "text": [
      "File does not exist: /shared/CSHL_volumes/RV19_61hrs/RV19_61hrs_down32_annotationAsScoreVolume/score_volumes/RV19_61hrs_down32_annotationAsScoreVolume_VCA_L_surround_200.bp\n",
      "Error computing gradient for VCA_L_surround_200: [Errno 2] No such file or directory: '/shared/CSHL_volumes/RV19_61hrs/RV19_61hrs_down32_annotationAsScoreVolume/score_volumes/RV19_61hrs_down32_annotationAsScoreVolume_VCA_L_surround_200.bp'.\n"
     ]
    },
    {
     "name": "stdout",
     "output_type": "stream",
     "text": [
      "VCA_R\n",
      "rm -rf \"/shared/CSHL_volumes/RV19_61hrs/RV19_61hrs_down32_annotationAsScoreVolume/score_volumes/RV19_61hrs_down32_annotationAsScoreVolume_VCA_R.bp\" && mkdir -p \"/shared/CSHL_volumes/RV19_61hrs/RV19_61hrs_down32_annotationAsScoreVolume/score_volumes\"\n",
      "aws s3 cp \"s3://mousebrainatlas-data/CSHL_volumes/RV19_61hrs/RV19_61hrs_down32_annotationAsScoreVolume/score_volumes/RV19_61hrs_down32_annotationAsScoreVolume_VCA_R.bp\" \"/shared/CSHL_volumes/RV19_61hrs/RV19_61hrs_down32_annotationAsScoreVolume/score_volumes/RV19_61hrs_down32_annotationAsScoreVolume_VCA_R.bp\"\n"
     ]
    },
    {
     "name": "stderr",
     "output_type": "stream",
     "text": [
      "File does not exist: /shared/CSHL_volumes/RV19_61hrs/RV19_61hrs_down32_annotationAsScoreVolume/score_volumes/RV19_61hrs_down32_annotationAsScoreVolume_VCA_R.bp\n",
      "Error computing gradient for VCA_R: [Errno 2] No such file or directory: '/shared/CSHL_volumes/RV19_61hrs/RV19_61hrs_down32_annotationAsScoreVolume/score_volumes/RV19_61hrs_down32_annotationAsScoreVolume_VCA_R.bp'.\n"
     ]
    },
    {
     "name": "stdout",
     "output_type": "stream",
     "text": [
      "VCA_R_surround_200\n",
      "rm -rf \"/shared/CSHL_volumes/RV19_61hrs/RV19_61hrs_down32_annotationAsScoreVolume/score_volumes/RV19_61hrs_down32_annotationAsScoreVolume_VCA_R_surround_200.bp\" && mkdir -p \"/shared/CSHL_volumes/RV19_61hrs/RV19_61hrs_down32_annotationAsScoreVolume/score_volumes\"\n",
      "aws s3 cp \"s3://mousebrainatlas-data/CSHL_volumes/RV19_61hrs/RV19_61hrs_down32_annotationAsScoreVolume/score_volumes/RV19_61hrs_down32_annotationAsScoreVolume_VCA_R_surround_200.bp\" \"/shared/CSHL_volumes/RV19_61hrs/RV19_61hrs_down32_annotationAsScoreVolume/score_volumes/RV19_61hrs_down32_annotationAsScoreVolume_VCA_R_surround_200.bp\"\n"
     ]
    },
    {
     "name": "stderr",
     "output_type": "stream",
     "text": [
      "File does not exist: /shared/CSHL_volumes/RV19_61hrs/RV19_61hrs_down32_annotationAsScoreVolume/score_volumes/RV19_61hrs_down32_annotationAsScoreVolume_VCA_R_surround_200.bp\n",
      "Error computing gradient for VCA_R_surround_200: [Errno 2] No such file or directory: '/shared/CSHL_volumes/RV19_61hrs/RV19_61hrs_down32_annotationAsScoreVolume/score_volumes/RV19_61hrs_down32_annotationAsScoreVolume_VCA_R_surround_200.bp'.\n"
     ]
    },
    {
     "name": "stdout",
     "output_type": "stream",
     "text": [
      "VCP_L\n",
      "rm -rf \"/shared/CSHL_volumes/RV19_61hrs/RV19_61hrs_down32_annotationAsScoreVolume/score_volumes/RV19_61hrs_down32_annotationAsScoreVolume_VCP_L.bp\" && mkdir -p \"/shared/CSHL_volumes/RV19_61hrs/RV19_61hrs_down32_annotationAsScoreVolume/score_volumes\"\n",
      "aws s3 cp \"s3://mousebrainatlas-data/CSHL_volumes/RV19_61hrs/RV19_61hrs_down32_annotationAsScoreVolume/score_volumes/RV19_61hrs_down32_annotationAsScoreVolume_VCP_L.bp\" \"/shared/CSHL_volumes/RV19_61hrs/RV19_61hrs_down32_annotationAsScoreVolume/score_volumes/RV19_61hrs_down32_annotationAsScoreVolume_VCP_L.bp\"\n"
     ]
    },
    {
     "name": "stderr",
     "output_type": "stream",
     "text": [
      "File does not exist: /shared/CSHL_volumes/RV19_61hrs/RV19_61hrs_down32_annotationAsScoreVolume/score_volumes/RV19_61hrs_down32_annotationAsScoreVolume_VCP_L.bp\n",
      "Error computing gradient for VCP_L: [Errno 2] No such file or directory: '/shared/CSHL_volumes/RV19_61hrs/RV19_61hrs_down32_annotationAsScoreVolume/score_volumes/RV19_61hrs_down32_annotationAsScoreVolume_VCP_L.bp'.\n"
     ]
    },
    {
     "name": "stdout",
     "output_type": "stream",
     "text": [
      "VCP_L_surround_200\n",
      "rm -rf \"/shared/CSHL_volumes/RV19_61hrs/RV19_61hrs_down32_annotationAsScoreVolume/score_volumes/RV19_61hrs_down32_annotationAsScoreVolume_VCP_L_surround_200.bp\" && mkdir -p \"/shared/CSHL_volumes/RV19_61hrs/RV19_61hrs_down32_annotationAsScoreVolume/score_volumes\"\n",
      "aws s3 cp \"s3://mousebrainatlas-data/CSHL_volumes/RV19_61hrs/RV19_61hrs_down32_annotationAsScoreVolume/score_volumes/RV19_61hrs_down32_annotationAsScoreVolume_VCP_L_surround_200.bp\" \"/shared/CSHL_volumes/RV19_61hrs/RV19_61hrs_down32_annotationAsScoreVolume/score_volumes/RV19_61hrs_down32_annotationAsScoreVolume_VCP_L_surround_200.bp\"\n"
     ]
    },
    {
     "name": "stderr",
     "output_type": "stream",
     "text": [
      "File does not exist: /shared/CSHL_volumes/RV19_61hrs/RV19_61hrs_down32_annotationAsScoreVolume/score_volumes/RV19_61hrs_down32_annotationAsScoreVolume_VCP_L_surround_200.bp\n",
      "Error computing gradient for VCP_L_surround_200: [Errno 2] No such file or directory: '/shared/CSHL_volumes/RV19_61hrs/RV19_61hrs_down32_annotationAsScoreVolume/score_volumes/RV19_61hrs_down32_annotationAsScoreVolume_VCP_L_surround_200.bp'.\n"
     ]
    },
    {
     "name": "stdout",
     "output_type": "stream",
     "text": [
      "VCP_R\n",
      "rm -rf \"/shared/CSHL_volumes/RV19_61hrs/RV19_61hrs_down32_annotationAsScoreVolume/score_volumes/RV19_61hrs_down32_annotationAsScoreVolume_VCP_R.bp\" && mkdir -p \"/shared/CSHL_volumes/RV19_61hrs/RV19_61hrs_down32_annotationAsScoreVolume/score_volumes\"\n",
      "aws s3 cp \"s3://mousebrainatlas-data/CSHL_volumes/RV19_61hrs/RV19_61hrs_down32_annotationAsScoreVolume/score_volumes/RV19_61hrs_down32_annotationAsScoreVolume_VCP_R.bp\" \"/shared/CSHL_volumes/RV19_61hrs/RV19_61hrs_down32_annotationAsScoreVolume/score_volumes/RV19_61hrs_down32_annotationAsScoreVolume_VCP_R.bp\"\n"
     ]
    },
    {
     "name": "stderr",
     "output_type": "stream",
     "text": [
      "File does not exist: /shared/CSHL_volumes/RV19_61hrs/RV19_61hrs_down32_annotationAsScoreVolume/score_volumes/RV19_61hrs_down32_annotationAsScoreVolume_VCP_R.bp\n",
      "Error computing gradient for VCP_R: [Errno 2] No such file or directory: '/shared/CSHL_volumes/RV19_61hrs/RV19_61hrs_down32_annotationAsScoreVolume/score_volumes/RV19_61hrs_down32_annotationAsScoreVolume_VCP_R.bp'.\n"
     ]
    },
    {
     "name": "stdout",
     "output_type": "stream",
     "text": [
      "VCP_R_surround_200\n",
      "rm -rf \"/shared/CSHL_volumes/RV19_61hrs/RV19_61hrs_down32_annotationAsScoreVolume/score_volumes/RV19_61hrs_down32_annotationAsScoreVolume_VCP_R_surround_200.bp\" && mkdir -p \"/shared/CSHL_volumes/RV19_61hrs/RV19_61hrs_down32_annotationAsScoreVolume/score_volumes\"\n",
      "aws s3 cp \"s3://mousebrainatlas-data/CSHL_volumes/RV19_61hrs/RV19_61hrs_down32_annotationAsScoreVolume/score_volumes/RV19_61hrs_down32_annotationAsScoreVolume_VCP_R_surround_200.bp\" \"/shared/CSHL_volumes/RV19_61hrs/RV19_61hrs_down32_annotationAsScoreVolume/score_volumes/RV19_61hrs_down32_annotationAsScoreVolume_VCP_R_surround_200.bp\"\n"
     ]
    },
    {
     "name": "stderr",
     "output_type": "stream",
     "text": [
      "File does not exist: /shared/CSHL_volumes/RV19_61hrs/RV19_61hrs_down32_annotationAsScoreVolume/score_volumes/RV19_61hrs_down32_annotationAsScoreVolume_VCP_R_surround_200.bp\n",
      "Error computing gradient for VCP_R_surround_200: [Errno 2] No such file or directory: '/shared/CSHL_volumes/RV19_61hrs/RV19_61hrs_down32_annotationAsScoreVolume/score_volumes/RV19_61hrs_down32_annotationAsScoreVolume_VCP_R_surround_200.bp'.\n"
     ]
    },
    {
     "name": "stdout",
     "output_type": "stream",
     "text": [
      "VLL_L\n",
      "rm -rf \"/shared/CSHL_volumes/RV19_61hrs/RV19_61hrs_down32_annotationAsScoreVolume/score_volumes/RV19_61hrs_down32_annotationAsScoreVolume_VLL_L.bp\" && mkdir -p \"/shared/CSHL_volumes/RV19_61hrs/RV19_61hrs_down32_annotationAsScoreVolume/score_volumes\"\n",
      "aws s3 cp \"s3://mousebrainatlas-data/CSHL_volumes/RV19_61hrs/RV19_61hrs_down32_annotationAsScoreVolume/score_volumes/RV19_61hrs_down32_annotationAsScoreVolume_VLL_L.bp\" \"/shared/CSHL_volumes/RV19_61hrs/RV19_61hrs_down32_annotationAsScoreVolume/score_volumes/RV19_61hrs_down32_annotationAsScoreVolume_VLL_L.bp\"\n"
     ]
    },
    {
     "name": "stderr",
     "output_type": "stream",
     "text": [
      "File does not exist: /shared/CSHL_volumes/RV19_61hrs/RV19_61hrs_down32_annotationAsScoreVolume/score_volumes/RV19_61hrs_down32_annotationAsScoreVolume_VLL_L.bp\n",
      "Error computing gradient for VLL_L: [Errno 2] No such file or directory: '/shared/CSHL_volumes/RV19_61hrs/RV19_61hrs_down32_annotationAsScoreVolume/score_volumes/RV19_61hrs_down32_annotationAsScoreVolume_VLL_L.bp'.\n"
     ]
    },
    {
     "name": "stdout",
     "output_type": "stream",
     "text": [
      "VLL_L_surround_200\n",
      "rm -rf \"/shared/CSHL_volumes/RV19_61hrs/RV19_61hrs_down32_annotationAsScoreVolume/score_volumes/RV19_61hrs_down32_annotationAsScoreVolume_VLL_L_surround_200.bp\" && mkdir -p \"/shared/CSHL_volumes/RV19_61hrs/RV19_61hrs_down32_annotationAsScoreVolume/score_volumes\"\n",
      "aws s3 cp \"s3://mousebrainatlas-data/CSHL_volumes/RV19_61hrs/RV19_61hrs_down32_annotationAsScoreVolume/score_volumes/RV19_61hrs_down32_annotationAsScoreVolume_VLL_L_surround_200.bp\" \"/shared/CSHL_volumes/RV19_61hrs/RV19_61hrs_down32_annotationAsScoreVolume/score_volumes/RV19_61hrs_down32_annotationAsScoreVolume_VLL_L_surround_200.bp\"\n"
     ]
    },
    {
     "name": "stderr",
     "output_type": "stream",
     "text": [
      "File does not exist: /shared/CSHL_volumes/RV19_61hrs/RV19_61hrs_down32_annotationAsScoreVolume/score_volumes/RV19_61hrs_down32_annotationAsScoreVolume_VLL_L_surround_200.bp\n",
      "Error computing gradient for VLL_L_surround_200: [Errno 2] No such file or directory: '/shared/CSHL_volumes/RV19_61hrs/RV19_61hrs_down32_annotationAsScoreVolume/score_volumes/RV19_61hrs_down32_annotationAsScoreVolume_VLL_L_surround_200.bp'.\n"
     ]
    },
    {
     "name": "stdout",
     "output_type": "stream",
     "text": [
      "VLL_R\n",
      "rm -rf \"/shared/CSHL_volumes/RV19_61hrs/RV19_61hrs_down32_annotationAsScoreVolume/score_volumes/RV19_61hrs_down32_annotationAsScoreVolume_VLL_R.bp\" && mkdir -p \"/shared/CSHL_volumes/RV19_61hrs/RV19_61hrs_down32_annotationAsScoreVolume/score_volumes\"\n",
      "aws s3 cp \"s3://mousebrainatlas-data/CSHL_volumes/RV19_61hrs/RV19_61hrs_down32_annotationAsScoreVolume/score_volumes/RV19_61hrs_down32_annotationAsScoreVolume_VLL_R.bp\" \"/shared/CSHL_volumes/RV19_61hrs/RV19_61hrs_down32_annotationAsScoreVolume/score_volumes/RV19_61hrs_down32_annotationAsScoreVolume_VLL_R.bp\"\n"
     ]
    },
    {
     "name": "stderr",
     "output_type": "stream",
     "text": [
      "File does not exist: /shared/CSHL_volumes/RV19_61hrs/RV19_61hrs_down32_annotationAsScoreVolume/score_volumes/RV19_61hrs_down32_annotationAsScoreVolume_VLL_R.bp\n",
      "Error computing gradient for VLL_R: [Errno 2] No such file or directory: '/shared/CSHL_volumes/RV19_61hrs/RV19_61hrs_down32_annotationAsScoreVolume/score_volumes/RV19_61hrs_down32_annotationAsScoreVolume_VLL_R.bp'.\n"
     ]
    },
    {
     "name": "stdout",
     "output_type": "stream",
     "text": [
      "VLL_R_surround_200\n",
      "rm -rf \"/shared/CSHL_volumes/RV19_61hrs/RV19_61hrs_down32_annotationAsScoreVolume/score_volumes/RV19_61hrs_down32_annotationAsScoreVolume_VLL_R_surround_200.bp\" && mkdir -p \"/shared/CSHL_volumes/RV19_61hrs/RV19_61hrs_down32_annotationAsScoreVolume/score_volumes\"\n",
      "aws s3 cp \"s3://mousebrainatlas-data/CSHL_volumes/RV19_61hrs/RV19_61hrs_down32_annotationAsScoreVolume/score_volumes/RV19_61hrs_down32_annotationAsScoreVolume_VLL_R_surround_200.bp\" \"/shared/CSHL_volumes/RV19_61hrs/RV19_61hrs_down32_annotationAsScoreVolume/score_volumes/RV19_61hrs_down32_annotationAsScoreVolume_VLL_R_surround_200.bp\"\n"
     ]
    },
    {
     "name": "stderr",
     "output_type": "stream",
     "text": [
      "File does not exist: /shared/CSHL_volumes/RV19_61hrs/RV19_61hrs_down32_annotationAsScoreVolume/score_volumes/RV19_61hrs_down32_annotationAsScoreVolume_VLL_R_surround_200.bp\n",
      "Error computing gradient for VLL_R_surround_200: [Errno 2] No such file or directory: '/shared/CSHL_volumes/RV19_61hrs/RV19_61hrs_down32_annotationAsScoreVolume/score_volumes/RV19_61hrs_down32_annotationAsScoreVolume_VLL_R_surround_200.bp'.\n"
     ]
    },
    {
     "name": "stdout",
     "output_type": "stream",
     "text": [
      "10N_L\n",
      "rm -rf \"/shared/CSHL_volumes/RV13_64hrs/RV13_64hrs_down32_annotationAsScoreVolume/score_volumes/RV13_64hrs_down32_annotationAsScoreVolume_10N_L.bp\" && mkdir -p \"/shared/CSHL_volumes/RV13_64hrs/RV13_64hrs_down32_annotationAsScoreVolume/score_volumes\"\n",
      "aws s3 cp \"s3://mousebrainatlas-data/CSHL_volumes/RV13_64hrs/RV13_64hrs_down32_annotationAsScoreVolume/score_volumes/RV13_64hrs_down32_annotationAsScoreVolume_10N_L.bp\" \"/shared/CSHL_volumes/RV13_64hrs/RV13_64hrs_down32_annotationAsScoreVolume/score_volumes/RV13_64hrs_down32_annotationAsScoreVolume_10N_L.bp\"\n"
     ]
    },
    {
     "name": "stderr",
     "output_type": "stream",
     "text": [
      "File does not exist: /shared/CSHL_volumes/RV13_64hrs/RV13_64hrs_down32_annotationAsScoreVolume/score_volumes/RV13_64hrs_down32_annotationAsScoreVolume_10N_L.bp\n",
      "Error computing gradient for 10N_L: [Errno 2] No such file or directory: '/shared/CSHL_volumes/RV13_64hrs/RV13_64hrs_down32_annotationAsScoreVolume/score_volumes/RV13_64hrs_down32_annotationAsScoreVolume_10N_L.bp'.\n"
     ]
    },
    {
     "name": "stdout",
     "output_type": "stream",
     "text": [
      "10N_L_surround_200\n",
      "rm -rf \"/shared/CSHL_volumes/RV13_64hrs/RV13_64hrs_down32_annotationAsScoreVolume/score_volumes/RV13_64hrs_down32_annotationAsScoreVolume_10N_L_surround_200.bp\" && mkdir -p \"/shared/CSHL_volumes/RV13_64hrs/RV13_64hrs_down32_annotationAsScoreVolume/score_volumes\"\n",
      "aws s3 cp \"s3://mousebrainatlas-data/CSHL_volumes/RV13_64hrs/RV13_64hrs_down32_annotationAsScoreVolume/score_volumes/RV13_64hrs_down32_annotationAsScoreVolume_10N_L_surround_200.bp\" \"/shared/CSHL_volumes/RV13_64hrs/RV13_64hrs_down32_annotationAsScoreVolume/score_volumes/RV13_64hrs_down32_annotationAsScoreVolume_10N_L_surround_200.bp\"\n"
     ]
    },
    {
     "name": "stderr",
     "output_type": "stream",
     "text": [
      "File does not exist: /shared/CSHL_volumes/RV13_64hrs/RV13_64hrs_down32_annotationAsScoreVolume/score_volumes/RV13_64hrs_down32_annotationAsScoreVolume_10N_L_surround_200.bp\n",
      "Error computing gradient for 10N_L_surround_200: [Errno 2] No such file or directory: '/shared/CSHL_volumes/RV13_64hrs/RV13_64hrs_down32_annotationAsScoreVolume/score_volumes/RV13_64hrs_down32_annotationAsScoreVolume_10N_L_surround_200.bp'.\n"
     ]
    },
    {
     "name": "stdout",
     "output_type": "stream",
     "text": [
      "10N_R\n",
      "rm -rf \"/shared/CSHL_volumes/RV13_64hrs/RV13_64hrs_down32_annotationAsScoreVolume/score_volumes/RV13_64hrs_down32_annotationAsScoreVolume_10N_R.bp\" && mkdir -p \"/shared/CSHL_volumes/RV13_64hrs/RV13_64hrs_down32_annotationAsScoreVolume/score_volumes\"\n",
      "aws s3 cp \"s3://mousebrainatlas-data/CSHL_volumes/RV13_64hrs/RV13_64hrs_down32_annotationAsScoreVolume/score_volumes/RV13_64hrs_down32_annotationAsScoreVolume_10N_R.bp\" \"/shared/CSHL_volumes/RV13_64hrs/RV13_64hrs_down32_annotationAsScoreVolume/score_volumes/RV13_64hrs_down32_annotationAsScoreVolume_10N_R.bp\"\n"
     ]
    },
    {
     "name": "stderr",
     "output_type": "stream",
     "text": [
      "File does not exist: /shared/CSHL_volumes/RV13_64hrs/RV13_64hrs_down32_annotationAsScoreVolume/score_volumes/RV13_64hrs_down32_annotationAsScoreVolume_10N_R.bp\n",
      "Error computing gradient for 10N_R: [Errno 2] No such file or directory: '/shared/CSHL_volumes/RV13_64hrs/RV13_64hrs_down32_annotationAsScoreVolume/score_volumes/RV13_64hrs_down32_annotationAsScoreVolume_10N_R.bp'.\n"
     ]
    },
    {
     "name": "stdout",
     "output_type": "stream",
     "text": [
      "10N_R_surround_200\n",
      "rm -rf \"/shared/CSHL_volumes/RV13_64hrs/RV13_64hrs_down32_annotationAsScoreVolume/score_volumes/RV13_64hrs_down32_annotationAsScoreVolume_10N_R_surround_200.bp\" && mkdir -p \"/shared/CSHL_volumes/RV13_64hrs/RV13_64hrs_down32_annotationAsScoreVolume/score_volumes\"\n",
      "aws s3 cp \"s3://mousebrainatlas-data/CSHL_volumes/RV13_64hrs/RV13_64hrs_down32_annotationAsScoreVolume/score_volumes/RV13_64hrs_down32_annotationAsScoreVolume_10N_R_surround_200.bp\" \"/shared/CSHL_volumes/RV13_64hrs/RV13_64hrs_down32_annotationAsScoreVolume/score_volumes/RV13_64hrs_down32_annotationAsScoreVolume_10N_R_surround_200.bp\"\n"
     ]
    },
    {
     "name": "stderr",
     "output_type": "stream",
     "text": [
      "File does not exist: /shared/CSHL_volumes/RV13_64hrs/RV13_64hrs_down32_annotationAsScoreVolume/score_volumes/RV13_64hrs_down32_annotationAsScoreVolume_10N_R_surround_200.bp\n",
      "Error computing gradient for 10N_R_surround_200: [Errno 2] No such file or directory: '/shared/CSHL_volumes/RV13_64hrs/RV13_64hrs_down32_annotationAsScoreVolume/score_volumes/RV13_64hrs_down32_annotationAsScoreVolume_10N_R_surround_200.bp'.\n"
     ]
    },
    {
     "name": "stdout",
     "output_type": "stream",
     "text": [
      "12N\n",
      "rm -rf \"/shared/CSHL_volumes/RV13_64hrs/RV13_64hrs_down32_annotationAsScoreVolume/score_volumes/RV13_64hrs_down32_annotationAsScoreVolume_12N.bp\" && mkdir -p \"/shared/CSHL_volumes/RV13_64hrs/RV13_64hrs_down32_annotationAsScoreVolume/score_volumes\"\n",
      "aws s3 cp \"s3://mousebrainatlas-data/CSHL_volumes/RV13_64hrs/RV13_64hrs_down32_annotationAsScoreVolume/score_volumes/RV13_64hrs_down32_annotationAsScoreVolume_12N.bp\" \"/shared/CSHL_volumes/RV13_64hrs/RV13_64hrs_down32_annotationAsScoreVolume/score_volumes/RV13_64hrs_down32_annotationAsScoreVolume_12N.bp\"\n"
     ]
    },
    {
     "name": "stderr",
     "output_type": "stream",
     "text": [
      "File does not exist: /shared/CSHL_volumes/RV13_64hrs/RV13_64hrs_down32_annotationAsScoreVolume/score_volumes/RV13_64hrs_down32_annotationAsScoreVolume_12N.bp\n",
      "Error computing gradient for 12N: [Errno 2] No such file or directory: '/shared/CSHL_volumes/RV13_64hrs/RV13_64hrs_down32_annotationAsScoreVolume/score_volumes/RV13_64hrs_down32_annotationAsScoreVolume_12N.bp'.\n"
     ]
    },
    {
     "name": "stdout",
     "output_type": "stream",
     "text": [
      "12N_surround_200\n",
      "rm -rf \"/shared/CSHL_volumes/RV13_64hrs/RV13_64hrs_down32_annotationAsScoreVolume/score_volumes/RV13_64hrs_down32_annotationAsScoreVolume_12N_surround_200.bp\" && mkdir -p \"/shared/CSHL_volumes/RV13_64hrs/RV13_64hrs_down32_annotationAsScoreVolume/score_volumes\"\n",
      "aws s3 cp \"s3://mousebrainatlas-data/CSHL_volumes/RV13_64hrs/RV13_64hrs_down32_annotationAsScoreVolume/score_volumes/RV13_64hrs_down32_annotationAsScoreVolume_12N_surround_200.bp\" \"/shared/CSHL_volumes/RV13_64hrs/RV13_64hrs_down32_annotationAsScoreVolume/score_volumes/RV13_64hrs_down32_annotationAsScoreVolume_12N_surround_200.bp\"\n"
     ]
    },
    {
     "name": "stderr",
     "output_type": "stream",
     "text": [
      "File does not exist: /shared/CSHL_volumes/RV13_64hrs/RV13_64hrs_down32_annotationAsScoreVolume/score_volumes/RV13_64hrs_down32_annotationAsScoreVolume_12N_surround_200.bp\n",
      "Error computing gradient for 12N_surround_200: [Errno 2] No such file or directory: '/shared/CSHL_volumes/RV13_64hrs/RV13_64hrs_down32_annotationAsScoreVolume/score_volumes/RV13_64hrs_down32_annotationAsScoreVolume_12N_surround_200.bp'.\n"
     ]
    },
    {
     "name": "stdout",
     "output_type": "stream",
     "text": [
      "3N_L\n",
      "rm -rf \"/shared/CSHL_volumes/RV13_64hrs/RV13_64hrs_down32_annotationAsScoreVolume/score_volumes/RV13_64hrs_down32_annotationAsScoreVolume_3N_L.bp\" && mkdir -p \"/shared/CSHL_volumes/RV13_64hrs/RV13_64hrs_down32_annotationAsScoreVolume/score_volumes\"\n",
      "aws s3 cp \"s3://mousebrainatlas-data/CSHL_volumes/RV13_64hrs/RV13_64hrs_down32_annotationAsScoreVolume/score_volumes/RV13_64hrs_down32_annotationAsScoreVolume_3N_L.bp\" \"/shared/CSHL_volumes/RV13_64hrs/RV13_64hrs_down32_annotationAsScoreVolume/score_volumes/RV13_64hrs_down32_annotationAsScoreVolume_3N_L.bp\"\n"
     ]
    },
    {
     "name": "stderr",
     "output_type": "stream",
     "text": [
      "File does not exist: /shared/CSHL_volumes/RV13_64hrs/RV13_64hrs_down32_annotationAsScoreVolume/score_volumes/RV13_64hrs_down32_annotationAsScoreVolume_3N_L.bp\n",
      "Error computing gradient for 3N_L: [Errno 2] No such file or directory: '/shared/CSHL_volumes/RV13_64hrs/RV13_64hrs_down32_annotationAsScoreVolume/score_volumes/RV13_64hrs_down32_annotationAsScoreVolume_3N_L.bp'.\n"
     ]
    },
    {
     "name": "stdout",
     "output_type": "stream",
     "text": [
      "3N_L_surround_200\n",
      "rm -rf \"/shared/CSHL_volumes/RV13_64hrs/RV13_64hrs_down32_annotationAsScoreVolume/score_volumes/RV13_64hrs_down32_annotationAsScoreVolume_3N_L_surround_200.bp\" && mkdir -p \"/shared/CSHL_volumes/RV13_64hrs/RV13_64hrs_down32_annotationAsScoreVolume/score_volumes\"\n",
      "aws s3 cp \"s3://mousebrainatlas-data/CSHL_volumes/RV13_64hrs/RV13_64hrs_down32_annotationAsScoreVolume/score_volumes/RV13_64hrs_down32_annotationAsScoreVolume_3N_L_surround_200.bp\" \"/shared/CSHL_volumes/RV13_64hrs/RV13_64hrs_down32_annotationAsScoreVolume/score_volumes/RV13_64hrs_down32_annotationAsScoreVolume_3N_L_surround_200.bp\"\n"
     ]
    },
    {
     "name": "stderr",
     "output_type": "stream",
     "text": [
      "File does not exist: /shared/CSHL_volumes/RV13_64hrs/RV13_64hrs_down32_annotationAsScoreVolume/score_volumes/RV13_64hrs_down32_annotationAsScoreVolume_3N_L_surround_200.bp\n",
      "Error computing gradient for 3N_L_surround_200: [Errno 2] No such file or directory: '/shared/CSHL_volumes/RV13_64hrs/RV13_64hrs_down32_annotationAsScoreVolume/score_volumes/RV13_64hrs_down32_annotationAsScoreVolume_3N_L_surround_200.bp'.\n"
     ]
    },
    {
     "name": "stdout",
     "output_type": "stream",
     "text": [
      "3N_R\n",
      "rm -rf \"/shared/CSHL_volumes/RV13_64hrs/RV13_64hrs_down32_annotationAsScoreVolume/score_volumes/RV13_64hrs_down32_annotationAsScoreVolume_3N_R.bp\" && mkdir -p \"/shared/CSHL_volumes/RV13_64hrs/RV13_64hrs_down32_annotationAsScoreVolume/score_volumes\"\n",
      "aws s3 cp \"s3://mousebrainatlas-data/CSHL_volumes/RV13_64hrs/RV13_64hrs_down32_annotationAsScoreVolume/score_volumes/RV13_64hrs_down32_annotationAsScoreVolume_3N_R.bp\" \"/shared/CSHL_volumes/RV13_64hrs/RV13_64hrs_down32_annotationAsScoreVolume/score_volumes/RV13_64hrs_down32_annotationAsScoreVolume_3N_R.bp\"\n"
     ]
    },
    {
     "name": "stderr",
     "output_type": "stream",
     "text": [
      "File does not exist: /shared/CSHL_volumes/RV13_64hrs/RV13_64hrs_down32_annotationAsScoreVolume/score_volumes/RV13_64hrs_down32_annotationAsScoreVolume_3N_R.bp\n",
      "Error computing gradient for 3N_R: [Errno 2] No such file or directory: '/shared/CSHL_volumes/RV13_64hrs/RV13_64hrs_down32_annotationAsScoreVolume/score_volumes/RV13_64hrs_down32_annotationAsScoreVolume_3N_R.bp'.\n"
     ]
    },
    {
     "name": "stdout",
     "output_type": "stream",
     "text": [
      "3N_R_surround_200\n",
      "rm -rf \"/shared/CSHL_volumes/RV13_64hrs/RV13_64hrs_down32_annotationAsScoreVolume/score_volumes/RV13_64hrs_down32_annotationAsScoreVolume_3N_R_surround_200.bp\" && mkdir -p \"/shared/CSHL_volumes/RV13_64hrs/RV13_64hrs_down32_annotationAsScoreVolume/score_volumes\"\n",
      "aws s3 cp \"s3://mousebrainatlas-data/CSHL_volumes/RV13_64hrs/RV13_64hrs_down32_annotationAsScoreVolume/score_volumes/RV13_64hrs_down32_annotationAsScoreVolume_3N_R_surround_200.bp\" \"/shared/CSHL_volumes/RV13_64hrs/RV13_64hrs_down32_annotationAsScoreVolume/score_volumes/RV13_64hrs_down32_annotationAsScoreVolume_3N_R_surround_200.bp\"\n"
     ]
    },
    {
     "name": "stderr",
     "output_type": "stream",
     "text": [
      "File does not exist: /shared/CSHL_volumes/RV13_64hrs/RV13_64hrs_down32_annotationAsScoreVolume/score_volumes/RV13_64hrs_down32_annotationAsScoreVolume_3N_R_surround_200.bp\n",
      "Error computing gradient for 3N_R_surround_200: [Errno 2] No such file or directory: '/shared/CSHL_volumes/RV13_64hrs/RV13_64hrs_down32_annotationAsScoreVolume/score_volumes/RV13_64hrs_down32_annotationAsScoreVolume_3N_R_surround_200.bp'.\n"
     ]
    },
    {
     "name": "stdout",
     "output_type": "stream",
     "text": [
      "4N_L\n",
      "rm -rf \"/shared/CSHL_volumes/RV13_64hrs/RV13_64hrs_down32_annotationAsScoreVolume/score_volumes/RV13_64hrs_down32_annotationAsScoreVolume_4N_L.bp\" && mkdir -p \"/shared/CSHL_volumes/RV13_64hrs/RV13_64hrs_down32_annotationAsScoreVolume/score_volumes\"\n",
      "aws s3 cp \"s3://mousebrainatlas-data/CSHL_volumes/RV13_64hrs/RV13_64hrs_down32_annotationAsScoreVolume/score_volumes/RV13_64hrs_down32_annotationAsScoreVolume_4N_L.bp\" \"/shared/CSHL_volumes/RV13_64hrs/RV13_64hrs_down32_annotationAsScoreVolume/score_volumes/RV13_64hrs_down32_annotationAsScoreVolume_4N_L.bp\"\n"
     ]
    },
    {
     "name": "stderr",
     "output_type": "stream",
     "text": [
      "File does not exist: /shared/CSHL_volumes/RV13_64hrs/RV13_64hrs_down32_annotationAsScoreVolume/score_volumes/RV13_64hrs_down32_annotationAsScoreVolume_4N_L.bp\n",
      "Error computing gradient for 4N_L: [Errno 2] No such file or directory: '/shared/CSHL_volumes/RV13_64hrs/RV13_64hrs_down32_annotationAsScoreVolume/score_volumes/RV13_64hrs_down32_annotationAsScoreVolume_4N_L.bp'.\n"
     ]
    },
    {
     "name": "stdout",
     "output_type": "stream",
     "text": [
      "4N_L_surround_200\n",
      "rm -rf \"/shared/CSHL_volumes/RV13_64hrs/RV13_64hrs_down32_annotationAsScoreVolume/score_volumes/RV13_64hrs_down32_annotationAsScoreVolume_4N_L_surround_200.bp\" && mkdir -p \"/shared/CSHL_volumes/RV13_64hrs/RV13_64hrs_down32_annotationAsScoreVolume/score_volumes\"\n",
      "aws s3 cp \"s3://mousebrainatlas-data/CSHL_volumes/RV13_64hrs/RV13_64hrs_down32_annotationAsScoreVolume/score_volumes/RV13_64hrs_down32_annotationAsScoreVolume_4N_L_surround_200.bp\" \"/shared/CSHL_volumes/RV13_64hrs/RV13_64hrs_down32_annotationAsScoreVolume/score_volumes/RV13_64hrs_down32_annotationAsScoreVolume_4N_L_surround_200.bp\"\n"
     ]
    },
    {
     "name": "stderr",
     "output_type": "stream",
     "text": [
      "File does not exist: /shared/CSHL_volumes/RV13_64hrs/RV13_64hrs_down32_annotationAsScoreVolume/score_volumes/RV13_64hrs_down32_annotationAsScoreVolume_4N_L_surround_200.bp\n",
      "Error computing gradient for 4N_L_surround_200: [Errno 2] No such file or directory: '/shared/CSHL_volumes/RV13_64hrs/RV13_64hrs_down32_annotationAsScoreVolume/score_volumes/RV13_64hrs_down32_annotationAsScoreVolume_4N_L_surround_200.bp'.\n"
     ]
    },
    {
     "name": "stdout",
     "output_type": "stream",
     "text": [
      "4N_R\n",
      "rm -rf \"/shared/CSHL_volumes/RV13_64hrs/RV13_64hrs_down32_annotationAsScoreVolume/score_volumes/RV13_64hrs_down32_annotationAsScoreVolume_4N_R.bp\" && mkdir -p \"/shared/CSHL_volumes/RV13_64hrs/RV13_64hrs_down32_annotationAsScoreVolume/score_volumes\"\n",
      "aws s3 cp \"s3://mousebrainatlas-data/CSHL_volumes/RV13_64hrs/RV13_64hrs_down32_annotationAsScoreVolume/score_volumes/RV13_64hrs_down32_annotationAsScoreVolume_4N_R.bp\" \"/shared/CSHL_volumes/RV13_64hrs/RV13_64hrs_down32_annotationAsScoreVolume/score_volumes/RV13_64hrs_down32_annotationAsScoreVolume_4N_R.bp\"\n"
     ]
    },
    {
     "name": "stderr",
     "output_type": "stream",
     "text": [
      "File does not exist: /shared/CSHL_volumes/RV13_64hrs/RV13_64hrs_down32_annotationAsScoreVolume/score_volumes/RV13_64hrs_down32_annotationAsScoreVolume_4N_R.bp\n",
      "Error computing gradient for 4N_R: [Errno 2] No such file or directory: '/shared/CSHL_volumes/RV13_64hrs/RV13_64hrs_down32_annotationAsScoreVolume/score_volumes/RV13_64hrs_down32_annotationAsScoreVolume_4N_R.bp'.\n"
     ]
    },
    {
     "name": "stdout",
     "output_type": "stream",
     "text": [
      "4N_R_surround_200\n",
      "rm -rf \"/shared/CSHL_volumes/RV13_64hrs/RV13_64hrs_down32_annotationAsScoreVolume/score_volumes/RV13_64hrs_down32_annotationAsScoreVolume_4N_R_surround_200.bp\" && mkdir -p \"/shared/CSHL_volumes/RV13_64hrs/RV13_64hrs_down32_annotationAsScoreVolume/score_volumes\"\n",
      "aws s3 cp \"s3://mousebrainatlas-data/CSHL_volumes/RV13_64hrs/RV13_64hrs_down32_annotationAsScoreVolume/score_volumes/RV13_64hrs_down32_annotationAsScoreVolume_4N_R_surround_200.bp\" \"/shared/CSHL_volumes/RV13_64hrs/RV13_64hrs_down32_annotationAsScoreVolume/score_volumes/RV13_64hrs_down32_annotationAsScoreVolume_4N_R_surround_200.bp\"\n"
     ]
    },
    {
     "name": "stderr",
     "output_type": "stream",
     "text": [
      "File does not exist: /shared/CSHL_volumes/RV13_64hrs/RV13_64hrs_down32_annotationAsScoreVolume/score_volumes/RV13_64hrs_down32_annotationAsScoreVolume_4N_R_surround_200.bp\n",
      "Error computing gradient for 4N_R_surround_200: [Errno 2] No such file or directory: '/shared/CSHL_volumes/RV13_64hrs/RV13_64hrs_down32_annotationAsScoreVolume/score_volumes/RV13_64hrs_down32_annotationAsScoreVolume_4N_R_surround_200.bp'.\n"
     ]
    },
    {
     "name": "stdout",
     "output_type": "stream",
     "text": [
      "5N_L\n"
     ]
    },
    {
     "name": "stderr",
     "output_type": "stream",
     "text": [
      "Gradient 5N_L: 0.720467 seconds\n"
     ]
    },
    {
     "name": "stdout",
     "output_type": "stream",
     "text": [
      "aws s3 cp \"/shared/CSHL_volumes/RV13_64hrs/RV13_64hrs_down32_annotationAsScoreVolume/score_volume_gradients/RV13_64hrs_down32_annotationAsScoreVolume_5N_L_gx.bp\" \"s3://mousebrainatlas-data/CSHL_volumes/RV13_64hrs/RV13_64hrs_down32_annotationAsScoreVolume/score_volume_gradients/RV13_64hrs_down32_annotationAsScoreVolume_5N_L_gx.bp\"\n",
      "aws s3 cp \"/shared/CSHL_volumes/RV13_64hrs/RV13_64hrs_down32_annotationAsScoreVolume/score_volume_gradients/RV13_64hrs_down32_annotationAsScoreVolume_5N_L_gy.bp\" \"s3://mousebrainatlas-data/CSHL_volumes/RV13_64hrs/RV13_64hrs_down32_annotationAsScoreVolume/score_volume_gradients/RV13_64hrs_down32_annotationAsScoreVolume_5N_L_gy.bp\"\n",
      "aws s3 cp \"/shared/CSHL_volumes/RV13_64hrs/RV13_64hrs_down32_annotationAsScoreVolume/score_volume_gradients/RV13_64hrs_down32_annotationAsScoreVolume_5N_L_gz.bp\" \"s3://mousebrainatlas-data/CSHL_volumes/RV13_64hrs/RV13_64hrs_down32_annotationAsScoreVolume/score_volume_gradients/RV13_64hrs_down32_annotationAsScoreVolume_5N_L_gz.bp\"\n"
     ]
    },
    {
     "name": "stderr",
     "output_type": "stream",
     "text": [
      "save 5N_L: 1.566517 seconds\n"
     ]
    },
    {
     "name": "stdout",
     "output_type": "stream",
     "text": [
      "5N_L_surround_200\n"
     ]
    },
    {
     "name": "stderr",
     "output_type": "stream",
     "text": [
      "Gradient 5N_L_surround_200: 0.721126 seconds\n"
     ]
    },
    {
     "name": "stdout",
     "output_type": "stream",
     "text": [
      "aws s3 cp \"/shared/CSHL_volumes/RV13_64hrs/RV13_64hrs_down32_annotationAsScoreVolume/score_volume_gradients/RV13_64hrs_down32_annotationAsScoreVolume_5N_L_surround_200_gx.bp\" \"s3://mousebrainatlas-data/CSHL_volumes/RV13_64hrs/RV13_64hrs_down32_annotationAsScoreVolume/score_volume_gradients/RV13_64hrs_down32_annotationAsScoreVolume_5N_L_surround_200_gx.bp\"\n",
      "aws s3 cp \"/shared/CSHL_volumes/RV13_64hrs/RV13_64hrs_down32_annotationAsScoreVolume/score_volume_gradients/RV13_64hrs_down32_annotationAsScoreVolume_5N_L_surround_200_gy.bp\" \"s3://mousebrainatlas-data/CSHL_volumes/RV13_64hrs/RV13_64hrs_down32_annotationAsScoreVolume/score_volume_gradients/RV13_64hrs_down32_annotationAsScoreVolume_5N_L_surround_200_gy.bp\"\n",
      "aws s3 cp \"/shared/CSHL_volumes/RV13_64hrs/RV13_64hrs_down32_annotationAsScoreVolume/score_volume_gradients/RV13_64hrs_down32_annotationAsScoreVolume_5N_L_surround_200_gz.bp\" \"s3://mousebrainatlas-data/CSHL_volumes/RV13_64hrs/RV13_64hrs_down32_annotationAsScoreVolume/score_volume_gradients/RV13_64hrs_down32_annotationAsScoreVolume_5N_L_surround_200_gz.bp\"\n"
     ]
    },
    {
     "name": "stderr",
     "output_type": "stream",
     "text": [
      "save 5N_L_surround_200: 1.545014 seconds\n"
     ]
    },
    {
     "name": "stdout",
     "output_type": "stream",
     "text": [
      "5N_R\n"
     ]
    },
    {
     "name": "stderr",
     "output_type": "stream",
     "text": [
      "Gradient 5N_R: 0.719561 seconds\n"
     ]
    },
    {
     "name": "stdout",
     "output_type": "stream",
     "text": [
      "aws s3 cp \"/shared/CSHL_volumes/RV13_64hrs/RV13_64hrs_down32_annotationAsScoreVolume/score_volume_gradients/RV13_64hrs_down32_annotationAsScoreVolume_5N_R_gx.bp\" \"s3://mousebrainatlas-data/CSHL_volumes/RV13_64hrs/RV13_64hrs_down32_annotationAsScoreVolume/score_volume_gradients/RV13_64hrs_down32_annotationAsScoreVolume_5N_R_gx.bp\"\n",
      "aws s3 cp \"/shared/CSHL_volumes/RV13_64hrs/RV13_64hrs_down32_annotationAsScoreVolume/score_volume_gradients/RV13_64hrs_down32_annotationAsScoreVolume_5N_R_gy.bp\" \"s3://mousebrainatlas-data/CSHL_volumes/RV13_64hrs/RV13_64hrs_down32_annotationAsScoreVolume/score_volume_gradients/RV13_64hrs_down32_annotationAsScoreVolume_5N_R_gy.bp\"\n",
      "aws s3 cp \"/shared/CSHL_volumes/RV13_64hrs/RV13_64hrs_down32_annotationAsScoreVolume/score_volume_gradients/RV13_64hrs_down32_annotationAsScoreVolume_5N_R_gz.bp\" \"s3://mousebrainatlas-data/CSHL_volumes/RV13_64hrs/RV13_64hrs_down32_annotationAsScoreVolume/score_volume_gradients/RV13_64hrs_down32_annotationAsScoreVolume_5N_R_gz.bp\"\n"
     ]
    },
    {
     "name": "stderr",
     "output_type": "stream",
     "text": [
      "save 5N_R: 1.453300 seconds\n"
     ]
    },
    {
     "name": "stdout",
     "output_type": "stream",
     "text": [
      "5N_R_surround_200\n"
     ]
    },
    {
     "name": "stderr",
     "output_type": "stream",
     "text": [
      "Gradient 5N_R_surround_200: 0.719904 seconds\n"
     ]
    },
    {
     "name": "stdout",
     "output_type": "stream",
     "text": [
      "aws s3 cp \"/shared/CSHL_volumes/RV13_64hrs/RV13_64hrs_down32_annotationAsScoreVolume/score_volume_gradients/RV13_64hrs_down32_annotationAsScoreVolume_5N_R_surround_200_gx.bp\" \"s3://mousebrainatlas-data/CSHL_volumes/RV13_64hrs/RV13_64hrs_down32_annotationAsScoreVolume/score_volume_gradients/RV13_64hrs_down32_annotationAsScoreVolume_5N_R_surround_200_gx.bp\"\n",
      "aws s3 cp \"/shared/CSHL_volumes/RV13_64hrs/RV13_64hrs_down32_annotationAsScoreVolume/score_volume_gradients/RV13_64hrs_down32_annotationAsScoreVolume_5N_R_surround_200_gy.bp\" \"s3://mousebrainatlas-data/CSHL_volumes/RV13_64hrs/RV13_64hrs_down32_annotationAsScoreVolume/score_volume_gradients/RV13_64hrs_down32_annotationAsScoreVolume_5N_R_surround_200_gy.bp\"\n",
      "aws s3 cp \"/shared/CSHL_volumes/RV13_64hrs/RV13_64hrs_down32_annotationAsScoreVolume/score_volume_gradients/RV13_64hrs_down32_annotationAsScoreVolume_5N_R_surround_200_gz.bp\" \"s3://mousebrainatlas-data/CSHL_volumes/RV13_64hrs/RV13_64hrs_down32_annotationAsScoreVolume/score_volume_gradients/RV13_64hrs_down32_annotationAsScoreVolume_5N_R_surround_200_gz.bp\"\n"
     ]
    },
    {
     "name": "stderr",
     "output_type": "stream",
     "text": [
      "save 5N_R_surround_200: 1.619258 seconds\n"
     ]
    },
    {
     "name": "stdout",
     "output_type": "stream",
     "text": [
      "6N_L\n",
      "rm -rf \"/shared/CSHL_volumes/RV13_64hrs/RV13_64hrs_down32_annotationAsScoreVolume/score_volumes/RV13_64hrs_down32_annotationAsScoreVolume_6N_L.bp\" && mkdir -p \"/shared/CSHL_volumes/RV13_64hrs/RV13_64hrs_down32_annotationAsScoreVolume/score_volumes\"\n",
      "aws s3 cp \"s3://mousebrainatlas-data/CSHL_volumes/RV13_64hrs/RV13_64hrs_down32_annotationAsScoreVolume/score_volumes/RV13_64hrs_down32_annotationAsScoreVolume_6N_L.bp\" \"/shared/CSHL_volumes/RV13_64hrs/RV13_64hrs_down32_annotationAsScoreVolume/score_volumes/RV13_64hrs_down32_annotationAsScoreVolume_6N_L.bp\"\n"
     ]
    },
    {
     "name": "stderr",
     "output_type": "stream",
     "text": [
      "File does not exist: /shared/CSHL_volumes/RV13_64hrs/RV13_64hrs_down32_annotationAsScoreVolume/score_volumes/RV13_64hrs_down32_annotationAsScoreVolume_6N_L.bp\n",
      "Error computing gradient for 6N_L: [Errno 2] No such file or directory: '/shared/CSHL_volumes/RV13_64hrs/RV13_64hrs_down32_annotationAsScoreVolume/score_volumes/RV13_64hrs_down32_annotationAsScoreVolume_6N_L.bp'.\n"
     ]
    },
    {
     "name": "stdout",
     "output_type": "stream",
     "text": [
      "6N_L_surround_200\n",
      "rm -rf \"/shared/CSHL_volumes/RV13_64hrs/RV13_64hrs_down32_annotationAsScoreVolume/score_volumes/RV13_64hrs_down32_annotationAsScoreVolume_6N_L_surround_200.bp\" && mkdir -p \"/shared/CSHL_volumes/RV13_64hrs/RV13_64hrs_down32_annotationAsScoreVolume/score_volumes\"\n",
      "aws s3 cp \"s3://mousebrainatlas-data/CSHL_volumes/RV13_64hrs/RV13_64hrs_down32_annotationAsScoreVolume/score_volumes/RV13_64hrs_down32_annotationAsScoreVolume_6N_L_surround_200.bp\" \"/shared/CSHL_volumes/RV13_64hrs/RV13_64hrs_down32_annotationAsScoreVolume/score_volumes/RV13_64hrs_down32_annotationAsScoreVolume_6N_L_surround_200.bp\"\n"
     ]
    },
    {
     "name": "stderr",
     "output_type": "stream",
     "text": [
      "File does not exist: /shared/CSHL_volumes/RV13_64hrs/RV13_64hrs_down32_annotationAsScoreVolume/score_volumes/RV13_64hrs_down32_annotationAsScoreVolume_6N_L_surround_200.bp\n",
      "Error computing gradient for 6N_L_surround_200: [Errno 2] No such file or directory: '/shared/CSHL_volumes/RV13_64hrs/RV13_64hrs_down32_annotationAsScoreVolume/score_volumes/RV13_64hrs_down32_annotationAsScoreVolume_6N_L_surround_200.bp'.\n"
     ]
    },
    {
     "name": "stdout",
     "output_type": "stream",
     "text": [
      "6N_R\n",
      "rm -rf \"/shared/CSHL_volumes/RV13_64hrs/RV13_64hrs_down32_annotationAsScoreVolume/score_volumes/RV13_64hrs_down32_annotationAsScoreVolume_6N_R.bp\" && mkdir -p \"/shared/CSHL_volumes/RV13_64hrs/RV13_64hrs_down32_annotationAsScoreVolume/score_volumes\"\n",
      "aws s3 cp \"s3://mousebrainatlas-data/CSHL_volumes/RV13_64hrs/RV13_64hrs_down32_annotationAsScoreVolume/score_volumes/RV13_64hrs_down32_annotationAsScoreVolume_6N_R.bp\" \"/shared/CSHL_volumes/RV13_64hrs/RV13_64hrs_down32_annotationAsScoreVolume/score_volumes/RV13_64hrs_down32_annotationAsScoreVolume_6N_R.bp\"\n"
     ]
    },
    {
     "name": "stderr",
     "output_type": "stream",
     "text": [
      "File does not exist: /shared/CSHL_volumes/RV13_64hrs/RV13_64hrs_down32_annotationAsScoreVolume/score_volumes/RV13_64hrs_down32_annotationAsScoreVolume_6N_R.bp\n",
      "Error computing gradient for 6N_R: [Errno 2] No such file or directory: '/shared/CSHL_volumes/RV13_64hrs/RV13_64hrs_down32_annotationAsScoreVolume/score_volumes/RV13_64hrs_down32_annotationAsScoreVolume_6N_R.bp'.\n"
     ]
    },
    {
     "name": "stdout",
     "output_type": "stream",
     "text": [
      "6N_R_surround_200\n",
      "rm -rf \"/shared/CSHL_volumes/RV13_64hrs/RV13_64hrs_down32_annotationAsScoreVolume/score_volumes/RV13_64hrs_down32_annotationAsScoreVolume_6N_R_surround_200.bp\" && mkdir -p \"/shared/CSHL_volumes/RV13_64hrs/RV13_64hrs_down32_annotationAsScoreVolume/score_volumes\"\n",
      "aws s3 cp \"s3://mousebrainatlas-data/CSHL_volumes/RV13_64hrs/RV13_64hrs_down32_annotationAsScoreVolume/score_volumes/RV13_64hrs_down32_annotationAsScoreVolume_6N_R_surround_200.bp\" \"/shared/CSHL_volumes/RV13_64hrs/RV13_64hrs_down32_annotationAsScoreVolume/score_volumes/RV13_64hrs_down32_annotationAsScoreVolume_6N_R_surround_200.bp\"\n"
     ]
    },
    {
     "name": "stderr",
     "output_type": "stream",
     "text": [
      "File does not exist: /shared/CSHL_volumes/RV13_64hrs/RV13_64hrs_down32_annotationAsScoreVolume/score_volumes/RV13_64hrs_down32_annotationAsScoreVolume_6N_R_surround_200.bp\n",
      "Error computing gradient for 6N_R_surround_200: [Errno 2] No such file or directory: '/shared/CSHL_volumes/RV13_64hrs/RV13_64hrs_down32_annotationAsScoreVolume/score_volumes/RV13_64hrs_down32_annotationAsScoreVolume_6N_R_surround_200.bp'.\n"
     ]
    },
    {
     "name": "stdout",
     "output_type": "stream",
     "text": [
      "7N_L\n"
     ]
    },
    {
     "name": "stderr",
     "output_type": "stream",
     "text": [
      "Gradient 7N_L: 0.720066 seconds\n"
     ]
    },
    {
     "name": "stdout",
     "output_type": "stream",
     "text": [
      "aws s3 cp \"/shared/CSHL_volumes/RV13_64hrs/RV13_64hrs_down32_annotationAsScoreVolume/score_volume_gradients/RV13_64hrs_down32_annotationAsScoreVolume_7N_L_gx.bp\" \"s3://mousebrainatlas-data/CSHL_volumes/RV13_64hrs/RV13_64hrs_down32_annotationAsScoreVolume/score_volume_gradients/RV13_64hrs_down32_annotationAsScoreVolume_7N_L_gx.bp\"\n",
      "aws s3 cp \"/shared/CSHL_volumes/RV13_64hrs/RV13_64hrs_down32_annotationAsScoreVolume/score_volume_gradients/RV13_64hrs_down32_annotationAsScoreVolume_7N_L_gy.bp\" \"s3://mousebrainatlas-data/CSHL_volumes/RV13_64hrs/RV13_64hrs_down32_annotationAsScoreVolume/score_volume_gradients/RV13_64hrs_down32_annotationAsScoreVolume_7N_L_gy.bp\"\n",
      "aws s3 cp \"/shared/CSHL_volumes/RV13_64hrs/RV13_64hrs_down32_annotationAsScoreVolume/score_volume_gradients/RV13_64hrs_down32_annotationAsScoreVolume_7N_L_gz.bp\" \"s3://mousebrainatlas-data/CSHL_volumes/RV13_64hrs/RV13_64hrs_down32_annotationAsScoreVolume/score_volume_gradients/RV13_64hrs_down32_annotationAsScoreVolume_7N_L_gz.bp\"\n"
     ]
    },
    {
     "name": "stderr",
     "output_type": "stream",
     "text": [
      "save 7N_L: 1.523977 seconds\n"
     ]
    },
    {
     "name": "stdout",
     "output_type": "stream",
     "text": [
      "7N_L_surround_200\n"
     ]
    },
    {
     "name": "stderr",
     "output_type": "stream",
     "text": [
      "Gradient 7N_L_surround_200: 0.720207 seconds\n"
     ]
    },
    {
     "name": "stdout",
     "output_type": "stream",
     "text": [
      "aws s3 cp \"/shared/CSHL_volumes/RV13_64hrs/RV13_64hrs_down32_annotationAsScoreVolume/score_volume_gradients/RV13_64hrs_down32_annotationAsScoreVolume_7N_L_surround_200_gx.bp\" \"s3://mousebrainatlas-data/CSHL_volumes/RV13_64hrs/RV13_64hrs_down32_annotationAsScoreVolume/score_volume_gradients/RV13_64hrs_down32_annotationAsScoreVolume_7N_L_surround_200_gx.bp\"\n",
      "aws s3 cp \"/shared/CSHL_volumes/RV13_64hrs/RV13_64hrs_down32_annotationAsScoreVolume/score_volume_gradients/RV13_64hrs_down32_annotationAsScoreVolume_7N_L_surround_200_gy.bp\" \"s3://mousebrainatlas-data/CSHL_volumes/RV13_64hrs/RV13_64hrs_down32_annotationAsScoreVolume/score_volume_gradients/RV13_64hrs_down32_annotationAsScoreVolume_7N_L_surround_200_gy.bp\"\n",
      "aws s3 cp \"/shared/CSHL_volumes/RV13_64hrs/RV13_64hrs_down32_annotationAsScoreVolume/score_volume_gradients/RV13_64hrs_down32_annotationAsScoreVolume_7N_L_surround_200_gz.bp\" \"s3://mousebrainatlas-data/CSHL_volumes/RV13_64hrs/RV13_64hrs_down32_annotationAsScoreVolume/score_volume_gradients/RV13_64hrs_down32_annotationAsScoreVolume_7N_L_surround_200_gz.bp\"\n"
     ]
    },
    {
     "name": "stderr",
     "output_type": "stream",
     "text": [
      "save 7N_L_surround_200: 1.585818 seconds\n"
     ]
    },
    {
     "name": "stdout",
     "output_type": "stream",
     "text": [
      "7N_R\n"
     ]
    },
    {
     "name": "stderr",
     "output_type": "stream",
     "text": [
      "Gradient 7N_R: 0.720583 seconds\n"
     ]
    },
    {
     "name": "stdout",
     "output_type": "stream",
     "text": [
      "aws s3 cp \"/shared/CSHL_volumes/RV13_64hrs/RV13_64hrs_down32_annotationAsScoreVolume/score_volume_gradients/RV13_64hrs_down32_annotationAsScoreVolume_7N_R_gx.bp\" \"s3://mousebrainatlas-data/CSHL_volumes/RV13_64hrs/RV13_64hrs_down32_annotationAsScoreVolume/score_volume_gradients/RV13_64hrs_down32_annotationAsScoreVolume_7N_R_gx.bp\"\n",
      "aws s3 cp \"/shared/CSHL_volumes/RV13_64hrs/RV13_64hrs_down32_annotationAsScoreVolume/score_volume_gradients/RV13_64hrs_down32_annotationAsScoreVolume_7N_R_gy.bp\" \"s3://mousebrainatlas-data/CSHL_volumes/RV13_64hrs/RV13_64hrs_down32_annotationAsScoreVolume/score_volume_gradients/RV13_64hrs_down32_annotationAsScoreVolume_7N_R_gy.bp\"\n",
      "aws s3 cp \"/shared/CSHL_volumes/RV13_64hrs/RV13_64hrs_down32_annotationAsScoreVolume/score_volume_gradients/RV13_64hrs_down32_annotationAsScoreVolume_7N_R_gz.bp\" \"s3://mousebrainatlas-data/CSHL_volumes/RV13_64hrs/RV13_64hrs_down32_annotationAsScoreVolume/score_volume_gradients/RV13_64hrs_down32_annotationAsScoreVolume_7N_R_gz.bp\"\n"
     ]
    },
    {
     "name": "stderr",
     "output_type": "stream",
     "text": [
      "save 7N_R: 1.511282 seconds\n"
     ]
    },
    {
     "name": "stdout",
     "output_type": "stream",
     "text": [
      "7N_R_surround_200\n"
     ]
    },
    {
     "name": "stderr",
     "output_type": "stream",
     "text": [
      "Gradient 7N_R_surround_200: 0.723874 seconds\n"
     ]
    },
    {
     "name": "stdout",
     "output_type": "stream",
     "text": [
      "aws s3 cp \"/shared/CSHL_volumes/RV13_64hrs/RV13_64hrs_down32_annotationAsScoreVolume/score_volume_gradients/RV13_64hrs_down32_annotationAsScoreVolume_7N_R_surround_200_gx.bp\" \"s3://mousebrainatlas-data/CSHL_volumes/RV13_64hrs/RV13_64hrs_down32_annotationAsScoreVolume/score_volume_gradients/RV13_64hrs_down32_annotationAsScoreVolume_7N_R_surround_200_gx.bp\"\n",
      "aws s3 cp \"/shared/CSHL_volumes/RV13_64hrs/RV13_64hrs_down32_annotationAsScoreVolume/score_volume_gradients/RV13_64hrs_down32_annotationAsScoreVolume_7N_R_surround_200_gy.bp\" \"s3://mousebrainatlas-data/CSHL_volumes/RV13_64hrs/RV13_64hrs_down32_annotationAsScoreVolume/score_volume_gradients/RV13_64hrs_down32_annotationAsScoreVolume_7N_R_surround_200_gy.bp\"\n",
      "aws s3 cp \"/shared/CSHL_volumes/RV13_64hrs/RV13_64hrs_down32_annotationAsScoreVolume/score_volume_gradients/RV13_64hrs_down32_annotationAsScoreVolume_7N_R_surround_200_gz.bp\" \"s3://mousebrainatlas-data/CSHL_volumes/RV13_64hrs/RV13_64hrs_down32_annotationAsScoreVolume/score_volume_gradients/RV13_64hrs_down32_annotationAsScoreVolume_7N_R_surround_200_gz.bp\"\n"
     ]
    },
    {
     "name": "stderr",
     "output_type": "stream",
     "text": [
      "save 7N_R_surround_200: 2.422409 seconds\n"
     ]
    },
    {
     "name": "stdout",
     "output_type": "stream",
     "text": [
      "7n_L\n"
     ]
    },
    {
     "name": "stderr",
     "output_type": "stream",
     "text": [
      "Gradient 7n_L: 0.722445 seconds\n"
     ]
    },
    {
     "name": "stdout",
     "output_type": "stream",
     "text": [
      "aws s3 cp \"/shared/CSHL_volumes/RV13_64hrs/RV13_64hrs_down32_annotationAsScoreVolume/score_volume_gradients/RV13_64hrs_down32_annotationAsScoreVolume_7n_L_gx.bp\" \"s3://mousebrainatlas-data/CSHL_volumes/RV13_64hrs/RV13_64hrs_down32_annotationAsScoreVolume/score_volume_gradients/RV13_64hrs_down32_annotationAsScoreVolume_7n_L_gx.bp\"\n",
      "aws s3 cp \"/shared/CSHL_volumes/RV13_64hrs/RV13_64hrs_down32_annotationAsScoreVolume/score_volume_gradients/RV13_64hrs_down32_annotationAsScoreVolume_7n_L_gy.bp\" \"s3://mousebrainatlas-data/CSHL_volumes/RV13_64hrs/RV13_64hrs_down32_annotationAsScoreVolume/score_volume_gradients/RV13_64hrs_down32_annotationAsScoreVolume_7n_L_gy.bp\"\n",
      "aws s3 cp \"/shared/CSHL_volumes/RV13_64hrs/RV13_64hrs_down32_annotationAsScoreVolume/score_volume_gradients/RV13_64hrs_down32_annotationAsScoreVolume_7n_L_gz.bp\" \"s3://mousebrainatlas-data/CSHL_volumes/RV13_64hrs/RV13_64hrs_down32_annotationAsScoreVolume/score_volume_gradients/RV13_64hrs_down32_annotationAsScoreVolume_7n_L_gz.bp\"\n"
     ]
    },
    {
     "name": "stderr",
     "output_type": "stream",
     "text": [
      "save 7n_L: 1.530836 seconds\n"
     ]
    },
    {
     "name": "stdout",
     "output_type": "stream",
     "text": [
      "7n_L_surround_200\n"
     ]
    },
    {
     "name": "stderr",
     "output_type": "stream",
     "text": [
      "Gradient 7n_L_surround_200: 0.721114 seconds\n"
     ]
    },
    {
     "name": "stdout",
     "output_type": "stream",
     "text": [
      "aws s3 cp \"/shared/CSHL_volumes/RV13_64hrs/RV13_64hrs_down32_annotationAsScoreVolume/score_volume_gradients/RV13_64hrs_down32_annotationAsScoreVolume_7n_L_surround_200_gx.bp\" \"s3://mousebrainatlas-data/CSHL_volumes/RV13_64hrs/RV13_64hrs_down32_annotationAsScoreVolume/score_volume_gradients/RV13_64hrs_down32_annotationAsScoreVolume_7n_L_surround_200_gx.bp\"\n",
      "aws s3 cp \"/shared/CSHL_volumes/RV13_64hrs/RV13_64hrs_down32_annotationAsScoreVolume/score_volume_gradients/RV13_64hrs_down32_annotationAsScoreVolume_7n_L_surround_200_gy.bp\" \"s3://mousebrainatlas-data/CSHL_volumes/RV13_64hrs/RV13_64hrs_down32_annotationAsScoreVolume/score_volume_gradients/RV13_64hrs_down32_annotationAsScoreVolume_7n_L_surround_200_gy.bp\"\n",
      "aws s3 cp \"/shared/CSHL_volumes/RV13_64hrs/RV13_64hrs_down32_annotationAsScoreVolume/score_volume_gradients/RV13_64hrs_down32_annotationAsScoreVolume_7n_L_surround_200_gz.bp\" \"s3://mousebrainatlas-data/CSHL_volumes/RV13_64hrs/RV13_64hrs_down32_annotationAsScoreVolume/score_volume_gradients/RV13_64hrs_down32_annotationAsScoreVolume_7n_L_surround_200_gz.bp\"\n"
     ]
    },
    {
     "name": "stderr",
     "output_type": "stream",
     "text": [
      "save 7n_L_surround_200: 1.477266 seconds\n"
     ]
    },
    {
     "name": "stdout",
     "output_type": "stream",
     "text": [
      "7n_R\n"
     ]
    },
    {
     "name": "stderr",
     "output_type": "stream",
     "text": [
      "Gradient 7n_R: 0.719341 seconds\n"
     ]
    },
    {
     "name": "stdout",
     "output_type": "stream",
     "text": [
      "aws s3 cp \"/shared/CSHL_volumes/RV13_64hrs/RV13_64hrs_down32_annotationAsScoreVolume/score_volume_gradients/RV13_64hrs_down32_annotationAsScoreVolume_7n_R_gx.bp\" \"s3://mousebrainatlas-data/CSHL_volumes/RV13_64hrs/RV13_64hrs_down32_annotationAsScoreVolume/score_volume_gradients/RV13_64hrs_down32_annotationAsScoreVolume_7n_R_gx.bp\"\n",
      "aws s3 cp \"/shared/CSHL_volumes/RV13_64hrs/RV13_64hrs_down32_annotationAsScoreVolume/score_volume_gradients/RV13_64hrs_down32_annotationAsScoreVolume_7n_R_gy.bp\" \"s3://mousebrainatlas-data/CSHL_volumes/RV13_64hrs/RV13_64hrs_down32_annotationAsScoreVolume/score_volume_gradients/RV13_64hrs_down32_annotationAsScoreVolume_7n_R_gy.bp\"\n",
      "aws s3 cp \"/shared/CSHL_volumes/RV13_64hrs/RV13_64hrs_down32_annotationAsScoreVolume/score_volume_gradients/RV13_64hrs_down32_annotationAsScoreVolume_7n_R_gz.bp\" \"s3://mousebrainatlas-data/CSHL_volumes/RV13_64hrs/RV13_64hrs_down32_annotationAsScoreVolume/score_volume_gradients/RV13_64hrs_down32_annotationAsScoreVolume_7n_R_gz.bp\"\n"
     ]
    },
    {
     "name": "stderr",
     "output_type": "stream",
     "text": [
      "save 7n_R: 1.514161 seconds\n"
     ]
    },
    {
     "name": "stdout",
     "output_type": "stream",
     "text": [
      "7n_R_surround_200\n"
     ]
    },
    {
     "name": "stderr",
     "output_type": "stream",
     "text": [
      "Gradient 7n_R_surround_200: 0.719465 seconds\n"
     ]
    },
    {
     "name": "stdout",
     "output_type": "stream",
     "text": [
      "aws s3 cp \"/shared/CSHL_volumes/RV13_64hrs/RV13_64hrs_down32_annotationAsScoreVolume/score_volume_gradients/RV13_64hrs_down32_annotationAsScoreVolume_7n_R_surround_200_gx.bp\" \"s3://mousebrainatlas-data/CSHL_volumes/RV13_64hrs/RV13_64hrs_down32_annotationAsScoreVolume/score_volume_gradients/RV13_64hrs_down32_annotationAsScoreVolume_7n_R_surround_200_gx.bp\"\n",
      "aws s3 cp \"/shared/CSHL_volumes/RV13_64hrs/RV13_64hrs_down32_annotationAsScoreVolume/score_volume_gradients/RV13_64hrs_down32_annotationAsScoreVolume_7n_R_surround_200_gy.bp\" \"s3://mousebrainatlas-data/CSHL_volumes/RV13_64hrs/RV13_64hrs_down32_annotationAsScoreVolume/score_volume_gradients/RV13_64hrs_down32_annotationAsScoreVolume_7n_R_surround_200_gy.bp\"\n",
      "aws s3 cp \"/shared/CSHL_volumes/RV13_64hrs/RV13_64hrs_down32_annotationAsScoreVolume/score_volume_gradients/RV13_64hrs_down32_annotationAsScoreVolume_7n_R_surround_200_gz.bp\" \"s3://mousebrainatlas-data/CSHL_volumes/RV13_64hrs/RV13_64hrs_down32_annotationAsScoreVolume/score_volume_gradients/RV13_64hrs_down32_annotationAsScoreVolume_7n_R_surround_200_gz.bp\"\n"
     ]
    },
    {
     "name": "stderr",
     "output_type": "stream",
     "text": [
      "save 7n_R_surround_200: 1.534784 seconds\n"
     ]
    },
    {
     "name": "stdout",
     "output_type": "stream",
     "text": [
      "AP\n",
      "rm -rf \"/shared/CSHL_volumes/RV13_64hrs/RV13_64hrs_down32_annotationAsScoreVolume/score_volumes/RV13_64hrs_down32_annotationAsScoreVolume_AP.bp\" && mkdir -p \"/shared/CSHL_volumes/RV13_64hrs/RV13_64hrs_down32_annotationAsScoreVolume/score_volumes\"\n",
      "aws s3 cp \"s3://mousebrainatlas-data/CSHL_volumes/RV13_64hrs/RV13_64hrs_down32_annotationAsScoreVolume/score_volumes/RV13_64hrs_down32_annotationAsScoreVolume_AP.bp\" \"/shared/CSHL_volumes/RV13_64hrs/RV13_64hrs_down32_annotationAsScoreVolume/score_volumes/RV13_64hrs_down32_annotationAsScoreVolume_AP.bp\"\n"
     ]
    },
    {
     "name": "stderr",
     "output_type": "stream",
     "text": [
      "File does not exist: /shared/CSHL_volumes/RV13_64hrs/RV13_64hrs_down32_annotationAsScoreVolume/score_volumes/RV13_64hrs_down32_annotationAsScoreVolume_AP.bp\n",
      "Error computing gradient for AP: [Errno 2] No such file or directory: '/shared/CSHL_volumes/RV13_64hrs/RV13_64hrs_down32_annotationAsScoreVolume/score_volumes/RV13_64hrs_down32_annotationAsScoreVolume_AP.bp'.\n"
     ]
    },
    {
     "name": "stdout",
     "output_type": "stream",
     "text": [
      "AP_surround_200\n",
      "rm -rf \"/shared/CSHL_volumes/RV13_64hrs/RV13_64hrs_down32_annotationAsScoreVolume/score_volumes/RV13_64hrs_down32_annotationAsScoreVolume_AP_surround_200.bp\" && mkdir -p \"/shared/CSHL_volumes/RV13_64hrs/RV13_64hrs_down32_annotationAsScoreVolume/score_volumes\"\n",
      "aws s3 cp \"s3://mousebrainatlas-data/CSHL_volumes/RV13_64hrs/RV13_64hrs_down32_annotationAsScoreVolume/score_volumes/RV13_64hrs_down32_annotationAsScoreVolume_AP_surround_200.bp\" \"/shared/CSHL_volumes/RV13_64hrs/RV13_64hrs_down32_annotationAsScoreVolume/score_volumes/RV13_64hrs_down32_annotationAsScoreVolume_AP_surround_200.bp\"\n"
     ]
    },
    {
     "name": "stderr",
     "output_type": "stream",
     "text": [
      "File does not exist: /shared/CSHL_volumes/RV13_64hrs/RV13_64hrs_down32_annotationAsScoreVolume/score_volumes/RV13_64hrs_down32_annotationAsScoreVolume_AP_surround_200.bp\n",
      "Error computing gradient for AP_surround_200: [Errno 2] No such file or directory: '/shared/CSHL_volumes/RV13_64hrs/RV13_64hrs_down32_annotationAsScoreVolume/score_volumes/RV13_64hrs_down32_annotationAsScoreVolume_AP_surround_200.bp'.\n"
     ]
    },
    {
     "name": "stdout",
     "output_type": "stream",
     "text": [
      "Amb_L\n"
     ]
    },
    {
     "name": "stderr",
     "output_type": "stream",
     "text": [
      "Gradient Amb_L: 0.720040 seconds\n"
     ]
    },
    {
     "name": "stdout",
     "output_type": "stream",
     "text": [
      "aws s3 cp \"/shared/CSHL_volumes/RV13_64hrs/RV13_64hrs_down32_annotationAsScoreVolume/score_volume_gradients/RV13_64hrs_down32_annotationAsScoreVolume_Amb_L_gx.bp\" \"s3://mousebrainatlas-data/CSHL_volumes/RV13_64hrs/RV13_64hrs_down32_annotationAsScoreVolume/score_volume_gradients/RV13_64hrs_down32_annotationAsScoreVolume_Amb_L_gx.bp\"\n",
      "aws s3 cp \"/shared/CSHL_volumes/RV13_64hrs/RV13_64hrs_down32_annotationAsScoreVolume/score_volume_gradients/RV13_64hrs_down32_annotationAsScoreVolume_Amb_L_gy.bp\" \"s3://mousebrainatlas-data/CSHL_volumes/RV13_64hrs/RV13_64hrs_down32_annotationAsScoreVolume/score_volume_gradients/RV13_64hrs_down32_annotationAsScoreVolume_Amb_L_gy.bp\"\n",
      "aws s3 cp \"/shared/CSHL_volumes/RV13_64hrs/RV13_64hrs_down32_annotationAsScoreVolume/score_volume_gradients/RV13_64hrs_down32_annotationAsScoreVolume_Amb_L_gz.bp\" \"s3://mousebrainatlas-data/CSHL_volumes/RV13_64hrs/RV13_64hrs_down32_annotationAsScoreVolume/score_volume_gradients/RV13_64hrs_down32_annotationAsScoreVolume_Amb_L_gz.bp\"\n"
     ]
    },
    {
     "name": "stderr",
     "output_type": "stream",
     "text": [
      "save Amb_L: 1.504141 seconds\n"
     ]
    },
    {
     "name": "stdout",
     "output_type": "stream",
     "text": [
      "Amb_L_surround_200\n"
     ]
    },
    {
     "name": "stderr",
     "output_type": "stream",
     "text": [
      "Gradient Amb_L_surround_200: 0.719024 seconds\n"
     ]
    },
    {
     "name": "stdout",
     "output_type": "stream",
     "text": [
      "aws s3 cp \"/shared/CSHL_volumes/RV13_64hrs/RV13_64hrs_down32_annotationAsScoreVolume/score_volume_gradients/RV13_64hrs_down32_annotationAsScoreVolume_Amb_L_surround_200_gx.bp\" \"s3://mousebrainatlas-data/CSHL_volumes/RV13_64hrs/RV13_64hrs_down32_annotationAsScoreVolume/score_volume_gradients/RV13_64hrs_down32_annotationAsScoreVolume_Amb_L_surround_200_gx.bp\"\n",
      "aws s3 cp \"/shared/CSHL_volumes/RV13_64hrs/RV13_64hrs_down32_annotationAsScoreVolume/score_volume_gradients/RV13_64hrs_down32_annotationAsScoreVolume_Amb_L_surround_200_gy.bp\" \"s3://mousebrainatlas-data/CSHL_volumes/RV13_64hrs/RV13_64hrs_down32_annotationAsScoreVolume/score_volume_gradients/RV13_64hrs_down32_annotationAsScoreVolume_Amb_L_surround_200_gy.bp\"\n",
      "aws s3 cp \"/shared/CSHL_volumes/RV13_64hrs/RV13_64hrs_down32_annotationAsScoreVolume/score_volume_gradients/RV13_64hrs_down32_annotationAsScoreVolume_Amb_L_surround_200_gz.bp\" \"s3://mousebrainatlas-data/CSHL_volumes/RV13_64hrs/RV13_64hrs_down32_annotationAsScoreVolume/score_volume_gradients/RV13_64hrs_down32_annotationAsScoreVolume_Amb_L_surround_200_gz.bp\"\n"
     ]
    },
    {
     "name": "stderr",
     "output_type": "stream",
     "text": [
      "save Amb_L_surround_200: 1.450906 seconds\n"
     ]
    },
    {
     "name": "stdout",
     "output_type": "stream",
     "text": [
      "Amb_R\n",
      "rm -rf \"/shared/CSHL_volumes/RV13_64hrs/RV13_64hrs_down32_annotationAsScoreVolume/score_volumes/RV13_64hrs_down32_annotationAsScoreVolume_Amb_R.bp\" && mkdir -p \"/shared/CSHL_volumes/RV13_64hrs/RV13_64hrs_down32_annotationAsScoreVolume/score_volumes\"\n",
      "aws s3 cp \"s3://mousebrainatlas-data/CSHL_volumes/RV13_64hrs/RV13_64hrs_down32_annotationAsScoreVolume/score_volumes/RV13_64hrs_down32_annotationAsScoreVolume_Amb_R.bp\" \"/shared/CSHL_volumes/RV13_64hrs/RV13_64hrs_down32_annotationAsScoreVolume/score_volumes/RV13_64hrs_down32_annotationAsScoreVolume_Amb_R.bp\"\n"
     ]
    },
    {
     "name": "stderr",
     "output_type": "stream",
     "text": [
      "File does not exist: /shared/CSHL_volumes/RV13_64hrs/RV13_64hrs_down32_annotationAsScoreVolume/score_volumes/RV13_64hrs_down32_annotationAsScoreVolume_Amb_R.bp\n",
      "Error computing gradient for Amb_R: [Errno 2] No such file or directory: '/shared/CSHL_volumes/RV13_64hrs/RV13_64hrs_down32_annotationAsScoreVolume/score_volumes/RV13_64hrs_down32_annotationAsScoreVolume_Amb_R.bp'.\n"
     ]
    },
    {
     "name": "stdout",
     "output_type": "stream",
     "text": [
      "Amb_R_surround_200\n",
      "rm -rf \"/shared/CSHL_volumes/RV13_64hrs/RV13_64hrs_down32_annotationAsScoreVolume/score_volumes/RV13_64hrs_down32_annotationAsScoreVolume_Amb_R_surround_200.bp\" && mkdir -p \"/shared/CSHL_volumes/RV13_64hrs/RV13_64hrs_down32_annotationAsScoreVolume/score_volumes\"\n",
      "aws s3 cp \"s3://mousebrainatlas-data/CSHL_volumes/RV13_64hrs/RV13_64hrs_down32_annotationAsScoreVolume/score_volumes/RV13_64hrs_down32_annotationAsScoreVolume_Amb_R_surround_200.bp\" \"/shared/CSHL_volumes/RV13_64hrs/RV13_64hrs_down32_annotationAsScoreVolume/score_volumes/RV13_64hrs_down32_annotationAsScoreVolume_Amb_R_surround_200.bp\"\n"
     ]
    },
    {
     "name": "stderr",
     "output_type": "stream",
     "text": [
      "File does not exist: /shared/CSHL_volumes/RV13_64hrs/RV13_64hrs_down32_annotationAsScoreVolume/score_volumes/RV13_64hrs_down32_annotationAsScoreVolume_Amb_R_surround_200.bp\n",
      "Error computing gradient for Amb_R_surround_200: [Errno 2] No such file or directory: '/shared/CSHL_volumes/RV13_64hrs/RV13_64hrs_down32_annotationAsScoreVolume/score_volumes/RV13_64hrs_down32_annotationAsScoreVolume_Amb_R_surround_200.bp'.\n"
     ]
    },
    {
     "name": "stdout",
     "output_type": "stream",
     "text": [
      "DC_L\n",
      "rm -rf \"/shared/CSHL_volumes/RV13_64hrs/RV13_64hrs_down32_annotationAsScoreVolume/score_volumes/RV13_64hrs_down32_annotationAsScoreVolume_DC_L.bp\" && mkdir -p \"/shared/CSHL_volumes/RV13_64hrs/RV13_64hrs_down32_annotationAsScoreVolume/score_volumes\"\n",
      "aws s3 cp \"s3://mousebrainatlas-data/CSHL_volumes/RV13_64hrs/RV13_64hrs_down32_annotationAsScoreVolume/score_volumes/RV13_64hrs_down32_annotationAsScoreVolume_DC_L.bp\" \"/shared/CSHL_volumes/RV13_64hrs/RV13_64hrs_down32_annotationAsScoreVolume/score_volumes/RV13_64hrs_down32_annotationAsScoreVolume_DC_L.bp\"\n"
     ]
    },
    {
     "name": "stderr",
     "output_type": "stream",
     "text": [
      "File does not exist: /shared/CSHL_volumes/RV13_64hrs/RV13_64hrs_down32_annotationAsScoreVolume/score_volumes/RV13_64hrs_down32_annotationAsScoreVolume_DC_L.bp\n",
      "Error computing gradient for DC_L: [Errno 2] No such file or directory: '/shared/CSHL_volumes/RV13_64hrs/RV13_64hrs_down32_annotationAsScoreVolume/score_volumes/RV13_64hrs_down32_annotationAsScoreVolume_DC_L.bp'.\n"
     ]
    },
    {
     "name": "stdout",
     "output_type": "stream",
     "text": [
      "DC_L_surround_200\n",
      "rm -rf \"/shared/CSHL_volumes/RV13_64hrs/RV13_64hrs_down32_annotationAsScoreVolume/score_volumes/RV13_64hrs_down32_annotationAsScoreVolume_DC_L_surround_200.bp\" && mkdir -p \"/shared/CSHL_volumes/RV13_64hrs/RV13_64hrs_down32_annotationAsScoreVolume/score_volumes\"\n",
      "aws s3 cp \"s3://mousebrainatlas-data/CSHL_volumes/RV13_64hrs/RV13_64hrs_down32_annotationAsScoreVolume/score_volumes/RV13_64hrs_down32_annotationAsScoreVolume_DC_L_surround_200.bp\" \"/shared/CSHL_volumes/RV13_64hrs/RV13_64hrs_down32_annotationAsScoreVolume/score_volumes/RV13_64hrs_down32_annotationAsScoreVolume_DC_L_surround_200.bp\"\n"
     ]
    },
    {
     "name": "stderr",
     "output_type": "stream",
     "text": [
      "File does not exist: /shared/CSHL_volumes/RV13_64hrs/RV13_64hrs_down32_annotationAsScoreVolume/score_volumes/RV13_64hrs_down32_annotationAsScoreVolume_DC_L_surround_200.bp\n",
      "Error computing gradient for DC_L_surround_200: [Errno 2] No such file or directory: '/shared/CSHL_volumes/RV13_64hrs/RV13_64hrs_down32_annotationAsScoreVolume/score_volumes/RV13_64hrs_down32_annotationAsScoreVolume_DC_L_surround_200.bp'.\n"
     ]
    },
    {
     "name": "stdout",
     "output_type": "stream",
     "text": [
      "DC_R\n",
      "rm -rf \"/shared/CSHL_volumes/RV13_64hrs/RV13_64hrs_down32_annotationAsScoreVolume/score_volumes/RV13_64hrs_down32_annotationAsScoreVolume_DC_R.bp\" && mkdir -p \"/shared/CSHL_volumes/RV13_64hrs/RV13_64hrs_down32_annotationAsScoreVolume/score_volumes\"\n",
      "aws s3 cp \"s3://mousebrainatlas-data/CSHL_volumes/RV13_64hrs/RV13_64hrs_down32_annotationAsScoreVolume/score_volumes/RV13_64hrs_down32_annotationAsScoreVolume_DC_R.bp\" \"/shared/CSHL_volumes/RV13_64hrs/RV13_64hrs_down32_annotationAsScoreVolume/score_volumes/RV13_64hrs_down32_annotationAsScoreVolume_DC_R.bp\"\n"
     ]
    },
    {
     "name": "stderr",
     "output_type": "stream",
     "text": [
      "File does not exist: /shared/CSHL_volumes/RV13_64hrs/RV13_64hrs_down32_annotationAsScoreVolume/score_volumes/RV13_64hrs_down32_annotationAsScoreVolume_DC_R.bp\n",
      "Error computing gradient for DC_R: [Errno 2] No such file or directory: '/shared/CSHL_volumes/RV13_64hrs/RV13_64hrs_down32_annotationAsScoreVolume/score_volumes/RV13_64hrs_down32_annotationAsScoreVolume_DC_R.bp'.\n"
     ]
    },
    {
     "name": "stdout",
     "output_type": "stream",
     "text": [
      "DC_R_surround_200\n",
      "rm -rf \"/shared/CSHL_volumes/RV13_64hrs/RV13_64hrs_down32_annotationAsScoreVolume/score_volumes/RV13_64hrs_down32_annotationAsScoreVolume_DC_R_surround_200.bp\" && mkdir -p \"/shared/CSHL_volumes/RV13_64hrs/RV13_64hrs_down32_annotationAsScoreVolume/score_volumes\"\n",
      "aws s3 cp \"s3://mousebrainatlas-data/CSHL_volumes/RV13_64hrs/RV13_64hrs_down32_annotationAsScoreVolume/score_volumes/RV13_64hrs_down32_annotationAsScoreVolume_DC_R_surround_200.bp\" \"/shared/CSHL_volumes/RV13_64hrs/RV13_64hrs_down32_annotationAsScoreVolume/score_volumes/RV13_64hrs_down32_annotationAsScoreVolume_DC_R_surround_200.bp\"\n"
     ]
    },
    {
     "name": "stderr",
     "output_type": "stream",
     "text": [
      "File does not exist: /shared/CSHL_volumes/RV13_64hrs/RV13_64hrs_down32_annotationAsScoreVolume/score_volumes/RV13_64hrs_down32_annotationAsScoreVolume_DC_R_surround_200.bp\n",
      "Error computing gradient for DC_R_surround_200: [Errno 2] No such file or directory: '/shared/CSHL_volumes/RV13_64hrs/RV13_64hrs_down32_annotationAsScoreVolume/score_volumes/RV13_64hrs_down32_annotationAsScoreVolume_DC_R_surround_200.bp'.\n"
     ]
    },
    {
     "name": "stdout",
     "output_type": "stream",
     "text": [
      "IC\n",
      "rm -rf \"/shared/CSHL_volumes/RV13_64hrs/RV13_64hrs_down32_annotationAsScoreVolume/score_volumes/RV13_64hrs_down32_annotationAsScoreVolume_IC.bp\" && mkdir -p \"/shared/CSHL_volumes/RV13_64hrs/RV13_64hrs_down32_annotationAsScoreVolume/score_volumes\"\n",
      "aws s3 cp \"s3://mousebrainatlas-data/CSHL_volumes/RV13_64hrs/RV13_64hrs_down32_annotationAsScoreVolume/score_volumes/RV13_64hrs_down32_annotationAsScoreVolume_IC.bp\" \"/shared/CSHL_volumes/RV13_64hrs/RV13_64hrs_down32_annotationAsScoreVolume/score_volumes/RV13_64hrs_down32_annotationAsScoreVolume_IC.bp\"\n"
     ]
    },
    {
     "name": "stderr",
     "output_type": "stream",
     "text": [
      "File does not exist: /shared/CSHL_volumes/RV13_64hrs/RV13_64hrs_down32_annotationAsScoreVolume/score_volumes/RV13_64hrs_down32_annotationAsScoreVolume_IC.bp\n",
      "Error computing gradient for IC: [Errno 2] No such file or directory: '/shared/CSHL_volumes/RV13_64hrs/RV13_64hrs_down32_annotationAsScoreVolume/score_volumes/RV13_64hrs_down32_annotationAsScoreVolume_IC.bp'.\n"
     ]
    },
    {
     "name": "stdout",
     "output_type": "stream",
     "text": [
      "IC_surround_200\n",
      "rm -rf \"/shared/CSHL_volumes/RV13_64hrs/RV13_64hrs_down32_annotationAsScoreVolume/score_volumes/RV13_64hrs_down32_annotationAsScoreVolume_IC_surround_200.bp\" && mkdir -p \"/shared/CSHL_volumes/RV13_64hrs/RV13_64hrs_down32_annotationAsScoreVolume/score_volumes\"\n",
      "aws s3 cp \"s3://mousebrainatlas-data/CSHL_volumes/RV13_64hrs/RV13_64hrs_down32_annotationAsScoreVolume/score_volumes/RV13_64hrs_down32_annotationAsScoreVolume_IC_surround_200.bp\" \"/shared/CSHL_volumes/RV13_64hrs/RV13_64hrs_down32_annotationAsScoreVolume/score_volumes/RV13_64hrs_down32_annotationAsScoreVolume_IC_surround_200.bp\"\n"
     ]
    },
    {
     "name": "stderr",
     "output_type": "stream",
     "text": [
      "File does not exist: /shared/CSHL_volumes/RV13_64hrs/RV13_64hrs_down32_annotationAsScoreVolume/score_volumes/RV13_64hrs_down32_annotationAsScoreVolume_IC_surround_200.bp\n",
      "Error computing gradient for IC_surround_200: [Errno 2] No such file or directory: '/shared/CSHL_volumes/RV13_64hrs/RV13_64hrs_down32_annotationAsScoreVolume/score_volumes/RV13_64hrs_down32_annotationAsScoreVolume_IC_surround_200.bp'.\n"
     ]
    },
    {
     "name": "stdout",
     "output_type": "stream",
     "text": [
      "LC_L\n",
      "rm -rf \"/shared/CSHL_volumes/RV13_64hrs/RV13_64hrs_down32_annotationAsScoreVolume/score_volumes/RV13_64hrs_down32_annotationAsScoreVolume_LC_L.bp\" && mkdir -p \"/shared/CSHL_volumes/RV13_64hrs/RV13_64hrs_down32_annotationAsScoreVolume/score_volumes\"\n",
      "aws s3 cp \"s3://mousebrainatlas-data/CSHL_volumes/RV13_64hrs/RV13_64hrs_down32_annotationAsScoreVolume/score_volumes/RV13_64hrs_down32_annotationAsScoreVolume_LC_L.bp\" \"/shared/CSHL_volumes/RV13_64hrs/RV13_64hrs_down32_annotationAsScoreVolume/score_volumes/RV13_64hrs_down32_annotationAsScoreVolume_LC_L.bp\"\n"
     ]
    },
    {
     "name": "stderr",
     "output_type": "stream",
     "text": [
      "File does not exist: /shared/CSHL_volumes/RV13_64hrs/RV13_64hrs_down32_annotationAsScoreVolume/score_volumes/RV13_64hrs_down32_annotationAsScoreVolume_LC_L.bp\n",
      "Error computing gradient for LC_L: [Errno 2] No such file or directory: '/shared/CSHL_volumes/RV13_64hrs/RV13_64hrs_down32_annotationAsScoreVolume/score_volumes/RV13_64hrs_down32_annotationAsScoreVolume_LC_L.bp'.\n"
     ]
    },
    {
     "name": "stdout",
     "output_type": "stream",
     "text": [
      "LC_L_surround_200\n",
      "rm -rf \"/shared/CSHL_volumes/RV13_64hrs/RV13_64hrs_down32_annotationAsScoreVolume/score_volumes/RV13_64hrs_down32_annotationAsScoreVolume_LC_L_surround_200.bp\" && mkdir -p \"/shared/CSHL_volumes/RV13_64hrs/RV13_64hrs_down32_annotationAsScoreVolume/score_volumes\"\n",
      "aws s3 cp \"s3://mousebrainatlas-data/CSHL_volumes/RV13_64hrs/RV13_64hrs_down32_annotationAsScoreVolume/score_volumes/RV13_64hrs_down32_annotationAsScoreVolume_LC_L_surround_200.bp\" \"/shared/CSHL_volumes/RV13_64hrs/RV13_64hrs_down32_annotationAsScoreVolume/score_volumes/RV13_64hrs_down32_annotationAsScoreVolume_LC_L_surround_200.bp\"\n"
     ]
    },
    {
     "name": "stderr",
     "output_type": "stream",
     "text": [
      "File does not exist: /shared/CSHL_volumes/RV13_64hrs/RV13_64hrs_down32_annotationAsScoreVolume/score_volumes/RV13_64hrs_down32_annotationAsScoreVolume_LC_L_surround_200.bp\n",
      "Error computing gradient for LC_L_surround_200: [Errno 2] No such file or directory: '/shared/CSHL_volumes/RV13_64hrs/RV13_64hrs_down32_annotationAsScoreVolume/score_volumes/RV13_64hrs_down32_annotationAsScoreVolume_LC_L_surround_200.bp'.\n"
     ]
    },
    {
     "name": "stdout",
     "output_type": "stream",
     "text": [
      "LC_R\n",
      "rm -rf \"/shared/CSHL_volumes/RV13_64hrs/RV13_64hrs_down32_annotationAsScoreVolume/score_volumes/RV13_64hrs_down32_annotationAsScoreVolume_LC_R.bp\" && mkdir -p \"/shared/CSHL_volumes/RV13_64hrs/RV13_64hrs_down32_annotationAsScoreVolume/score_volumes\"\n",
      "aws s3 cp \"s3://mousebrainatlas-data/CSHL_volumes/RV13_64hrs/RV13_64hrs_down32_annotationAsScoreVolume/score_volumes/RV13_64hrs_down32_annotationAsScoreVolume_LC_R.bp\" \"/shared/CSHL_volumes/RV13_64hrs/RV13_64hrs_down32_annotationAsScoreVolume/score_volumes/RV13_64hrs_down32_annotationAsScoreVolume_LC_R.bp\"\n"
     ]
    },
    {
     "name": "stderr",
     "output_type": "stream",
     "text": [
      "File does not exist: /shared/CSHL_volumes/RV13_64hrs/RV13_64hrs_down32_annotationAsScoreVolume/score_volumes/RV13_64hrs_down32_annotationAsScoreVolume_LC_R.bp\n",
      "Error computing gradient for LC_R: [Errno 2] No such file or directory: '/shared/CSHL_volumes/RV13_64hrs/RV13_64hrs_down32_annotationAsScoreVolume/score_volumes/RV13_64hrs_down32_annotationAsScoreVolume_LC_R.bp'.\n"
     ]
    },
    {
     "name": "stdout",
     "output_type": "stream",
     "text": [
      "LC_R_surround_200\n",
      "rm -rf \"/shared/CSHL_volumes/RV13_64hrs/RV13_64hrs_down32_annotationAsScoreVolume/score_volumes/RV13_64hrs_down32_annotationAsScoreVolume_LC_R_surround_200.bp\" && mkdir -p \"/shared/CSHL_volumes/RV13_64hrs/RV13_64hrs_down32_annotationAsScoreVolume/score_volumes\"\n",
      "aws s3 cp \"s3://mousebrainatlas-data/CSHL_volumes/RV13_64hrs/RV13_64hrs_down32_annotationAsScoreVolume/score_volumes/RV13_64hrs_down32_annotationAsScoreVolume_LC_R_surround_200.bp\" \"/shared/CSHL_volumes/RV13_64hrs/RV13_64hrs_down32_annotationAsScoreVolume/score_volumes/RV13_64hrs_down32_annotationAsScoreVolume_LC_R_surround_200.bp\"\n"
     ]
    },
    {
     "name": "stderr",
     "output_type": "stream",
     "text": [
      "File does not exist: /shared/CSHL_volumes/RV13_64hrs/RV13_64hrs_down32_annotationAsScoreVolume/score_volumes/RV13_64hrs_down32_annotationAsScoreVolume_LC_R_surround_200.bp\n",
      "Error computing gradient for LC_R_surround_200: [Errno 2] No such file or directory: '/shared/CSHL_volumes/RV13_64hrs/RV13_64hrs_down32_annotationAsScoreVolume/score_volumes/RV13_64hrs_down32_annotationAsScoreVolume_LC_R_surround_200.bp'.\n"
     ]
    },
    {
     "name": "stdout",
     "output_type": "stream",
     "text": [
      "LRt_L\n"
     ]
    },
    {
     "name": "stderr",
     "output_type": "stream",
     "text": [
      "Gradient LRt_L: 0.720767 seconds\n"
     ]
    },
    {
     "name": "stdout",
     "output_type": "stream",
     "text": [
      "aws s3 cp \"/shared/CSHL_volumes/RV13_64hrs/RV13_64hrs_down32_annotationAsScoreVolume/score_volume_gradients/RV13_64hrs_down32_annotationAsScoreVolume_LRt_L_gx.bp\" \"s3://mousebrainatlas-data/CSHL_volumes/RV13_64hrs/RV13_64hrs_down32_annotationAsScoreVolume/score_volume_gradients/RV13_64hrs_down32_annotationAsScoreVolume_LRt_L_gx.bp\"\n",
      "aws s3 cp \"/shared/CSHL_volumes/RV13_64hrs/RV13_64hrs_down32_annotationAsScoreVolume/score_volume_gradients/RV13_64hrs_down32_annotationAsScoreVolume_LRt_L_gy.bp\" \"s3://mousebrainatlas-data/CSHL_volumes/RV13_64hrs/RV13_64hrs_down32_annotationAsScoreVolume/score_volume_gradients/RV13_64hrs_down32_annotationAsScoreVolume_LRt_L_gy.bp\"\n",
      "aws s3 cp \"/shared/CSHL_volumes/RV13_64hrs/RV13_64hrs_down32_annotationAsScoreVolume/score_volume_gradients/RV13_64hrs_down32_annotationAsScoreVolume_LRt_L_gz.bp\" \"s3://mousebrainatlas-data/CSHL_volumes/RV13_64hrs/RV13_64hrs_down32_annotationAsScoreVolume/score_volume_gradients/RV13_64hrs_down32_annotationAsScoreVolume_LRt_L_gz.bp\"\n"
     ]
    },
    {
     "name": "stderr",
     "output_type": "stream",
     "text": [
      "save LRt_L: 1.507601 seconds\n"
     ]
    },
    {
     "name": "stdout",
     "output_type": "stream",
     "text": [
      "LRt_L_surround_200\n"
     ]
    },
    {
     "name": "stderr",
     "output_type": "stream",
     "text": [
      "Gradient LRt_L_surround_200: 0.722212 seconds\n"
     ]
    },
    {
     "name": "stdout",
     "output_type": "stream",
     "text": [
      "aws s3 cp \"/shared/CSHL_volumes/RV13_64hrs/RV13_64hrs_down32_annotationAsScoreVolume/score_volume_gradients/RV13_64hrs_down32_annotationAsScoreVolume_LRt_L_surround_200_gx.bp\" \"s3://mousebrainatlas-data/CSHL_volumes/RV13_64hrs/RV13_64hrs_down32_annotationAsScoreVolume/score_volume_gradients/RV13_64hrs_down32_annotationAsScoreVolume_LRt_L_surround_200_gx.bp\"\n",
      "aws s3 cp \"/shared/CSHL_volumes/RV13_64hrs/RV13_64hrs_down32_annotationAsScoreVolume/score_volume_gradients/RV13_64hrs_down32_annotationAsScoreVolume_LRt_L_surround_200_gy.bp\" \"s3://mousebrainatlas-data/CSHL_volumes/RV13_64hrs/RV13_64hrs_down32_annotationAsScoreVolume/score_volume_gradients/RV13_64hrs_down32_annotationAsScoreVolume_LRt_L_surround_200_gy.bp\"\n",
      "aws s3 cp \"/shared/CSHL_volumes/RV13_64hrs/RV13_64hrs_down32_annotationAsScoreVolume/score_volume_gradients/RV13_64hrs_down32_annotationAsScoreVolume_LRt_L_surround_200_gz.bp\" \"s3://mousebrainatlas-data/CSHL_volumes/RV13_64hrs/RV13_64hrs_down32_annotationAsScoreVolume/score_volume_gradients/RV13_64hrs_down32_annotationAsScoreVolume_LRt_L_surround_200_gz.bp\"\n"
     ]
    },
    {
     "name": "stderr",
     "output_type": "stream",
     "text": [
      "save LRt_L_surround_200: 1.577484 seconds\n"
     ]
    },
    {
     "name": "stdout",
     "output_type": "stream",
     "text": [
      "LRt_R\n"
     ]
    },
    {
     "name": "stderr",
     "output_type": "stream",
     "text": [
      "Gradient LRt_R: 0.719877 seconds\n"
     ]
    },
    {
     "name": "stdout",
     "output_type": "stream",
     "text": [
      "aws s3 cp \"/shared/CSHL_volumes/RV13_64hrs/RV13_64hrs_down32_annotationAsScoreVolume/score_volume_gradients/RV13_64hrs_down32_annotationAsScoreVolume_LRt_R_gx.bp\" \"s3://mousebrainatlas-data/CSHL_volumes/RV13_64hrs/RV13_64hrs_down32_annotationAsScoreVolume/score_volume_gradients/RV13_64hrs_down32_annotationAsScoreVolume_LRt_R_gx.bp\"\n",
      "aws s3 cp \"/shared/CSHL_volumes/RV13_64hrs/RV13_64hrs_down32_annotationAsScoreVolume/score_volume_gradients/RV13_64hrs_down32_annotationAsScoreVolume_LRt_R_gy.bp\" \"s3://mousebrainatlas-data/CSHL_volumes/RV13_64hrs/RV13_64hrs_down32_annotationAsScoreVolume/score_volume_gradients/RV13_64hrs_down32_annotationAsScoreVolume_LRt_R_gy.bp\"\n",
      "aws s3 cp \"/shared/CSHL_volumes/RV13_64hrs/RV13_64hrs_down32_annotationAsScoreVolume/score_volume_gradients/RV13_64hrs_down32_annotationAsScoreVolume_LRt_R_gz.bp\" \"s3://mousebrainatlas-data/CSHL_volumes/RV13_64hrs/RV13_64hrs_down32_annotationAsScoreVolume/score_volume_gradients/RV13_64hrs_down32_annotationAsScoreVolume_LRt_R_gz.bp\"\n"
     ]
    },
    {
     "name": "stderr",
     "output_type": "stream",
     "text": [
      "save LRt_R: 1.519996 seconds\n"
     ]
    },
    {
     "name": "stdout",
     "output_type": "stream",
     "text": [
      "LRt_R_surround_200\n"
     ]
    },
    {
     "name": "stderr",
     "output_type": "stream",
     "text": [
      "Gradient LRt_R_surround_200: 0.723188 seconds\n"
     ]
    },
    {
     "name": "stdout",
     "output_type": "stream",
     "text": [
      "aws s3 cp \"/shared/CSHL_volumes/RV13_64hrs/RV13_64hrs_down32_annotationAsScoreVolume/score_volume_gradients/RV13_64hrs_down32_annotationAsScoreVolume_LRt_R_surround_200_gx.bp\" \"s3://mousebrainatlas-data/CSHL_volumes/RV13_64hrs/RV13_64hrs_down32_annotationAsScoreVolume/score_volume_gradients/RV13_64hrs_down32_annotationAsScoreVolume_LRt_R_surround_200_gx.bp\"\n",
      "aws s3 cp \"/shared/CSHL_volumes/RV13_64hrs/RV13_64hrs_down32_annotationAsScoreVolume/score_volume_gradients/RV13_64hrs_down32_annotationAsScoreVolume_LRt_R_surround_200_gy.bp\" \"s3://mousebrainatlas-data/CSHL_volumes/RV13_64hrs/RV13_64hrs_down32_annotationAsScoreVolume/score_volume_gradients/RV13_64hrs_down32_annotationAsScoreVolume_LRt_R_surround_200_gy.bp\"\n",
      "aws s3 cp \"/shared/CSHL_volumes/RV13_64hrs/RV13_64hrs_down32_annotationAsScoreVolume/score_volume_gradients/RV13_64hrs_down32_annotationAsScoreVolume_LRt_R_surround_200_gz.bp\" \"s3://mousebrainatlas-data/CSHL_volumes/RV13_64hrs/RV13_64hrs_down32_annotationAsScoreVolume/score_volume_gradients/RV13_64hrs_down32_annotationAsScoreVolume_LRt_R_surround_200_gz.bp\"\n"
     ]
    },
    {
     "name": "stderr",
     "output_type": "stream",
     "text": [
      "save LRt_R_surround_200: 1.577066 seconds\n"
     ]
    },
    {
     "name": "stdout",
     "output_type": "stream",
     "text": [
      "PBG_L\n",
      "rm -rf \"/shared/CSHL_volumes/RV13_64hrs/RV13_64hrs_down32_annotationAsScoreVolume/score_volumes/RV13_64hrs_down32_annotationAsScoreVolume_PBG_L.bp\" && mkdir -p \"/shared/CSHL_volumes/RV13_64hrs/RV13_64hrs_down32_annotationAsScoreVolume/score_volumes\"\n",
      "aws s3 cp \"s3://mousebrainatlas-data/CSHL_volumes/RV13_64hrs/RV13_64hrs_down32_annotationAsScoreVolume/score_volumes/RV13_64hrs_down32_annotationAsScoreVolume_PBG_L.bp\" \"/shared/CSHL_volumes/RV13_64hrs/RV13_64hrs_down32_annotationAsScoreVolume/score_volumes/RV13_64hrs_down32_annotationAsScoreVolume_PBG_L.bp\"\n"
     ]
    },
    {
     "name": "stderr",
     "output_type": "stream",
     "text": [
      "File does not exist: /shared/CSHL_volumes/RV13_64hrs/RV13_64hrs_down32_annotationAsScoreVolume/score_volumes/RV13_64hrs_down32_annotationAsScoreVolume_PBG_L.bp\n",
      "Error computing gradient for PBG_L: [Errno 2] No such file or directory: '/shared/CSHL_volumes/RV13_64hrs/RV13_64hrs_down32_annotationAsScoreVolume/score_volumes/RV13_64hrs_down32_annotationAsScoreVolume_PBG_L.bp'.\n"
     ]
    },
    {
     "name": "stdout",
     "output_type": "stream",
     "text": [
      "PBG_L_surround_200\n",
      "rm -rf \"/shared/CSHL_volumes/RV13_64hrs/RV13_64hrs_down32_annotationAsScoreVolume/score_volumes/RV13_64hrs_down32_annotationAsScoreVolume_PBG_L_surround_200.bp\" && mkdir -p \"/shared/CSHL_volumes/RV13_64hrs/RV13_64hrs_down32_annotationAsScoreVolume/score_volumes\"\n",
      "aws s3 cp \"s3://mousebrainatlas-data/CSHL_volumes/RV13_64hrs/RV13_64hrs_down32_annotationAsScoreVolume/score_volumes/RV13_64hrs_down32_annotationAsScoreVolume_PBG_L_surround_200.bp\" \"/shared/CSHL_volumes/RV13_64hrs/RV13_64hrs_down32_annotationAsScoreVolume/score_volumes/RV13_64hrs_down32_annotationAsScoreVolume_PBG_L_surround_200.bp\"\n"
     ]
    },
    {
     "name": "stderr",
     "output_type": "stream",
     "text": [
      "File does not exist: /shared/CSHL_volumes/RV13_64hrs/RV13_64hrs_down32_annotationAsScoreVolume/score_volumes/RV13_64hrs_down32_annotationAsScoreVolume_PBG_L_surround_200.bp\n",
      "Error computing gradient for PBG_L_surround_200: [Errno 2] No such file or directory: '/shared/CSHL_volumes/RV13_64hrs/RV13_64hrs_down32_annotationAsScoreVolume/score_volumes/RV13_64hrs_down32_annotationAsScoreVolume_PBG_L_surround_200.bp'.\n"
     ]
    },
    {
     "name": "stdout",
     "output_type": "stream",
     "text": [
      "PBG_R\n",
      "rm -rf \"/shared/CSHL_volumes/RV13_64hrs/RV13_64hrs_down32_annotationAsScoreVolume/score_volumes/RV13_64hrs_down32_annotationAsScoreVolume_PBG_R.bp\" && mkdir -p \"/shared/CSHL_volumes/RV13_64hrs/RV13_64hrs_down32_annotationAsScoreVolume/score_volumes\"\n",
      "aws s3 cp \"s3://mousebrainatlas-data/CSHL_volumes/RV13_64hrs/RV13_64hrs_down32_annotationAsScoreVolume/score_volumes/RV13_64hrs_down32_annotationAsScoreVolume_PBG_R.bp\" \"/shared/CSHL_volumes/RV13_64hrs/RV13_64hrs_down32_annotationAsScoreVolume/score_volumes/RV13_64hrs_down32_annotationAsScoreVolume_PBG_R.bp\"\n"
     ]
    },
    {
     "name": "stderr",
     "output_type": "stream",
     "text": [
      "File does not exist: /shared/CSHL_volumes/RV13_64hrs/RV13_64hrs_down32_annotationAsScoreVolume/score_volumes/RV13_64hrs_down32_annotationAsScoreVolume_PBG_R.bp\n",
      "Error computing gradient for PBG_R: [Errno 2] No such file or directory: '/shared/CSHL_volumes/RV13_64hrs/RV13_64hrs_down32_annotationAsScoreVolume/score_volumes/RV13_64hrs_down32_annotationAsScoreVolume_PBG_R.bp'.\n"
     ]
    },
    {
     "name": "stdout",
     "output_type": "stream",
     "text": [
      "PBG_R_surround_200\n",
      "rm -rf \"/shared/CSHL_volumes/RV13_64hrs/RV13_64hrs_down32_annotationAsScoreVolume/score_volumes/RV13_64hrs_down32_annotationAsScoreVolume_PBG_R_surround_200.bp\" && mkdir -p \"/shared/CSHL_volumes/RV13_64hrs/RV13_64hrs_down32_annotationAsScoreVolume/score_volumes\"\n",
      "aws s3 cp \"s3://mousebrainatlas-data/CSHL_volumes/RV13_64hrs/RV13_64hrs_down32_annotationAsScoreVolume/score_volumes/RV13_64hrs_down32_annotationAsScoreVolume_PBG_R_surround_200.bp\" \"/shared/CSHL_volumes/RV13_64hrs/RV13_64hrs_down32_annotationAsScoreVolume/score_volumes/RV13_64hrs_down32_annotationAsScoreVolume_PBG_R_surround_200.bp\"\n"
     ]
    },
    {
     "name": "stderr",
     "output_type": "stream",
     "text": [
      "File does not exist: /shared/CSHL_volumes/RV13_64hrs/RV13_64hrs_down32_annotationAsScoreVolume/score_volumes/RV13_64hrs_down32_annotationAsScoreVolume_PBG_R_surround_200.bp\n",
      "Error computing gradient for PBG_R_surround_200: [Errno 2] No such file or directory: '/shared/CSHL_volumes/RV13_64hrs/RV13_64hrs_down32_annotationAsScoreVolume/score_volumes/RV13_64hrs_down32_annotationAsScoreVolume_PBG_R_surround_200.bp'.\n"
     ]
    },
    {
     "name": "stdout",
     "output_type": "stream",
     "text": [
      "Pn_L\n",
      "rm -rf \"/shared/CSHL_volumes/RV13_64hrs/RV13_64hrs_down32_annotationAsScoreVolume/score_volumes/RV13_64hrs_down32_annotationAsScoreVolume_Pn_L.bp\" && mkdir -p \"/shared/CSHL_volumes/RV13_64hrs/RV13_64hrs_down32_annotationAsScoreVolume/score_volumes\"\n",
      "aws s3 cp \"s3://mousebrainatlas-data/CSHL_volumes/RV13_64hrs/RV13_64hrs_down32_annotationAsScoreVolume/score_volumes/RV13_64hrs_down32_annotationAsScoreVolume_Pn_L.bp\" \"/shared/CSHL_volumes/RV13_64hrs/RV13_64hrs_down32_annotationAsScoreVolume/score_volumes/RV13_64hrs_down32_annotationAsScoreVolume_Pn_L.bp\"\n"
     ]
    },
    {
     "name": "stderr",
     "output_type": "stream",
     "text": [
      "File does not exist: /shared/CSHL_volumes/RV13_64hrs/RV13_64hrs_down32_annotationAsScoreVolume/score_volumes/RV13_64hrs_down32_annotationAsScoreVolume_Pn_L.bp\n",
      "Error computing gradient for Pn_L: [Errno 2] No such file or directory: '/shared/CSHL_volumes/RV13_64hrs/RV13_64hrs_down32_annotationAsScoreVolume/score_volumes/RV13_64hrs_down32_annotationAsScoreVolume_Pn_L.bp'.\n"
     ]
    },
    {
     "name": "stdout",
     "output_type": "stream",
     "text": [
      "Pn_L_surround_200\n",
      "rm -rf \"/shared/CSHL_volumes/RV13_64hrs/RV13_64hrs_down32_annotationAsScoreVolume/score_volumes/RV13_64hrs_down32_annotationAsScoreVolume_Pn_L_surround_200.bp\" && mkdir -p \"/shared/CSHL_volumes/RV13_64hrs/RV13_64hrs_down32_annotationAsScoreVolume/score_volumes\"\n",
      "aws s3 cp \"s3://mousebrainatlas-data/CSHL_volumes/RV13_64hrs/RV13_64hrs_down32_annotationAsScoreVolume/score_volumes/RV13_64hrs_down32_annotationAsScoreVolume_Pn_L_surround_200.bp\" \"/shared/CSHL_volumes/RV13_64hrs/RV13_64hrs_down32_annotationAsScoreVolume/score_volumes/RV13_64hrs_down32_annotationAsScoreVolume_Pn_L_surround_200.bp\"\n"
     ]
    },
    {
     "name": "stderr",
     "output_type": "stream",
     "text": [
      "File does not exist: /shared/CSHL_volumes/RV13_64hrs/RV13_64hrs_down32_annotationAsScoreVolume/score_volumes/RV13_64hrs_down32_annotationAsScoreVolume_Pn_L_surround_200.bp\n",
      "Error computing gradient for Pn_L_surround_200: [Errno 2] No such file or directory: '/shared/CSHL_volumes/RV13_64hrs/RV13_64hrs_down32_annotationAsScoreVolume/score_volumes/RV13_64hrs_down32_annotationAsScoreVolume_Pn_L_surround_200.bp'.\n"
     ]
    },
    {
     "name": "stdout",
     "output_type": "stream",
     "text": [
      "Pn_R\n",
      "rm -rf \"/shared/CSHL_volumes/RV13_64hrs/RV13_64hrs_down32_annotationAsScoreVolume/score_volumes/RV13_64hrs_down32_annotationAsScoreVolume_Pn_R.bp\" && mkdir -p \"/shared/CSHL_volumes/RV13_64hrs/RV13_64hrs_down32_annotationAsScoreVolume/score_volumes\"\n",
      "aws s3 cp \"s3://mousebrainatlas-data/CSHL_volumes/RV13_64hrs/RV13_64hrs_down32_annotationAsScoreVolume/score_volumes/RV13_64hrs_down32_annotationAsScoreVolume_Pn_R.bp\" \"/shared/CSHL_volumes/RV13_64hrs/RV13_64hrs_down32_annotationAsScoreVolume/score_volumes/RV13_64hrs_down32_annotationAsScoreVolume_Pn_R.bp\"\n"
     ]
    },
    {
     "name": "stderr",
     "output_type": "stream",
     "text": [
      "File does not exist: /shared/CSHL_volumes/RV13_64hrs/RV13_64hrs_down32_annotationAsScoreVolume/score_volumes/RV13_64hrs_down32_annotationAsScoreVolume_Pn_R.bp\n",
      "Error computing gradient for Pn_R: [Errno 2] No such file or directory: '/shared/CSHL_volumes/RV13_64hrs/RV13_64hrs_down32_annotationAsScoreVolume/score_volumes/RV13_64hrs_down32_annotationAsScoreVolume_Pn_R.bp'.\n"
     ]
    },
    {
     "name": "stdout",
     "output_type": "stream",
     "text": [
      "Pn_R_surround_200\n",
      "rm -rf \"/shared/CSHL_volumes/RV13_64hrs/RV13_64hrs_down32_annotationAsScoreVolume/score_volumes/RV13_64hrs_down32_annotationAsScoreVolume_Pn_R_surround_200.bp\" && mkdir -p \"/shared/CSHL_volumes/RV13_64hrs/RV13_64hrs_down32_annotationAsScoreVolume/score_volumes\"\n",
      "aws s3 cp \"s3://mousebrainatlas-data/CSHL_volumes/RV13_64hrs/RV13_64hrs_down32_annotationAsScoreVolume/score_volumes/RV13_64hrs_down32_annotationAsScoreVolume_Pn_R_surround_200.bp\" \"/shared/CSHL_volumes/RV13_64hrs/RV13_64hrs_down32_annotationAsScoreVolume/score_volumes/RV13_64hrs_down32_annotationAsScoreVolume_Pn_R_surround_200.bp\"\n"
     ]
    },
    {
     "name": "stderr",
     "output_type": "stream",
     "text": [
      "File does not exist: /shared/CSHL_volumes/RV13_64hrs/RV13_64hrs_down32_annotationAsScoreVolume/score_volumes/RV13_64hrs_down32_annotationAsScoreVolume_Pn_R_surround_200.bp\n",
      "Error computing gradient for Pn_R_surround_200: [Errno 2] No such file or directory: '/shared/CSHL_volumes/RV13_64hrs/RV13_64hrs_down32_annotationAsScoreVolume/score_volumes/RV13_64hrs_down32_annotationAsScoreVolume_Pn_R_surround_200.bp'.\n"
     ]
    },
    {
     "name": "stdout",
     "output_type": "stream",
     "text": [
      "RMC_L\n",
      "rm -rf \"/shared/CSHL_volumes/RV13_64hrs/RV13_64hrs_down32_annotationAsScoreVolume/score_volumes/RV13_64hrs_down32_annotationAsScoreVolume_RMC_L.bp\" && mkdir -p \"/shared/CSHL_volumes/RV13_64hrs/RV13_64hrs_down32_annotationAsScoreVolume/score_volumes\"\n",
      "aws s3 cp \"s3://mousebrainatlas-data/CSHL_volumes/RV13_64hrs/RV13_64hrs_down32_annotationAsScoreVolume/score_volumes/RV13_64hrs_down32_annotationAsScoreVolume_RMC_L.bp\" \"/shared/CSHL_volumes/RV13_64hrs/RV13_64hrs_down32_annotationAsScoreVolume/score_volumes/RV13_64hrs_down32_annotationAsScoreVolume_RMC_L.bp\"\n"
     ]
    },
    {
     "name": "stderr",
     "output_type": "stream",
     "text": [
      "File does not exist: /shared/CSHL_volumes/RV13_64hrs/RV13_64hrs_down32_annotationAsScoreVolume/score_volumes/RV13_64hrs_down32_annotationAsScoreVolume_RMC_L.bp\n",
      "Error computing gradient for RMC_L: [Errno 2] No such file or directory: '/shared/CSHL_volumes/RV13_64hrs/RV13_64hrs_down32_annotationAsScoreVolume/score_volumes/RV13_64hrs_down32_annotationAsScoreVolume_RMC_L.bp'.\n"
     ]
    },
    {
     "name": "stdout",
     "output_type": "stream",
     "text": [
      "RMC_L_surround_200\n",
      "rm -rf \"/shared/CSHL_volumes/RV13_64hrs/RV13_64hrs_down32_annotationAsScoreVolume/score_volumes/RV13_64hrs_down32_annotationAsScoreVolume_RMC_L_surround_200.bp\" && mkdir -p \"/shared/CSHL_volumes/RV13_64hrs/RV13_64hrs_down32_annotationAsScoreVolume/score_volumes\"\n",
      "aws s3 cp \"s3://mousebrainatlas-data/CSHL_volumes/RV13_64hrs/RV13_64hrs_down32_annotationAsScoreVolume/score_volumes/RV13_64hrs_down32_annotationAsScoreVolume_RMC_L_surround_200.bp\" \"/shared/CSHL_volumes/RV13_64hrs/RV13_64hrs_down32_annotationAsScoreVolume/score_volumes/RV13_64hrs_down32_annotationAsScoreVolume_RMC_L_surround_200.bp\"\n"
     ]
    },
    {
     "name": "stderr",
     "output_type": "stream",
     "text": [
      "File does not exist: /shared/CSHL_volumes/RV13_64hrs/RV13_64hrs_down32_annotationAsScoreVolume/score_volumes/RV13_64hrs_down32_annotationAsScoreVolume_RMC_L_surround_200.bp\n",
      "Error computing gradient for RMC_L_surround_200: [Errno 2] No such file or directory: '/shared/CSHL_volumes/RV13_64hrs/RV13_64hrs_down32_annotationAsScoreVolume/score_volumes/RV13_64hrs_down32_annotationAsScoreVolume_RMC_L_surround_200.bp'.\n"
     ]
    },
    {
     "name": "stdout",
     "output_type": "stream",
     "text": [
      "RMC_R\n",
      "rm -rf \"/shared/CSHL_volumes/RV13_64hrs/RV13_64hrs_down32_annotationAsScoreVolume/score_volumes/RV13_64hrs_down32_annotationAsScoreVolume_RMC_R.bp\" && mkdir -p \"/shared/CSHL_volumes/RV13_64hrs/RV13_64hrs_down32_annotationAsScoreVolume/score_volumes\"\n",
      "aws s3 cp \"s3://mousebrainatlas-data/CSHL_volumes/RV13_64hrs/RV13_64hrs_down32_annotationAsScoreVolume/score_volumes/RV13_64hrs_down32_annotationAsScoreVolume_RMC_R.bp\" \"/shared/CSHL_volumes/RV13_64hrs/RV13_64hrs_down32_annotationAsScoreVolume/score_volumes/RV13_64hrs_down32_annotationAsScoreVolume_RMC_R.bp\"\n"
     ]
    },
    {
     "name": "stderr",
     "output_type": "stream",
     "text": [
      "File does not exist: /shared/CSHL_volumes/RV13_64hrs/RV13_64hrs_down32_annotationAsScoreVolume/score_volumes/RV13_64hrs_down32_annotationAsScoreVolume_RMC_R.bp\n",
      "Error computing gradient for RMC_R: [Errno 2] No such file or directory: '/shared/CSHL_volumes/RV13_64hrs/RV13_64hrs_down32_annotationAsScoreVolume/score_volumes/RV13_64hrs_down32_annotationAsScoreVolume_RMC_R.bp'.\n"
     ]
    },
    {
     "name": "stdout",
     "output_type": "stream",
     "text": [
      "RMC_R_surround_200\n",
      "rm -rf \"/shared/CSHL_volumes/RV13_64hrs/RV13_64hrs_down32_annotationAsScoreVolume/score_volumes/RV13_64hrs_down32_annotationAsScoreVolume_RMC_R_surround_200.bp\" && mkdir -p \"/shared/CSHL_volumes/RV13_64hrs/RV13_64hrs_down32_annotationAsScoreVolume/score_volumes\"\n",
      "aws s3 cp \"s3://mousebrainatlas-data/CSHL_volumes/RV13_64hrs/RV13_64hrs_down32_annotationAsScoreVolume/score_volumes/RV13_64hrs_down32_annotationAsScoreVolume_RMC_R_surround_200.bp\" \"/shared/CSHL_volumes/RV13_64hrs/RV13_64hrs_down32_annotationAsScoreVolume/score_volumes/RV13_64hrs_down32_annotationAsScoreVolume_RMC_R_surround_200.bp\"\n"
     ]
    },
    {
     "name": "stderr",
     "output_type": "stream",
     "text": [
      "File does not exist: /shared/CSHL_volumes/RV13_64hrs/RV13_64hrs_down32_annotationAsScoreVolume/score_volumes/RV13_64hrs_down32_annotationAsScoreVolume_RMC_R_surround_200.bp\n",
      "Error computing gradient for RMC_R_surround_200: [Errno 2] No such file or directory: '/shared/CSHL_volumes/RV13_64hrs/RV13_64hrs_down32_annotationAsScoreVolume/score_volumes/RV13_64hrs_down32_annotationAsScoreVolume_RMC_R_surround_200.bp'.\n"
     ]
    },
    {
     "name": "stdout",
     "output_type": "stream",
     "text": [
      "RtTg\n",
      "rm -rf \"/shared/CSHL_volumes/RV13_64hrs/RV13_64hrs_down32_annotationAsScoreVolume/score_volumes/RV13_64hrs_down32_annotationAsScoreVolume_RtTg.bp\" && mkdir -p \"/shared/CSHL_volumes/RV13_64hrs/RV13_64hrs_down32_annotationAsScoreVolume/score_volumes\"\n",
      "aws s3 cp \"s3://mousebrainatlas-data/CSHL_volumes/RV13_64hrs/RV13_64hrs_down32_annotationAsScoreVolume/score_volumes/RV13_64hrs_down32_annotationAsScoreVolume_RtTg.bp\" \"/shared/CSHL_volumes/RV13_64hrs/RV13_64hrs_down32_annotationAsScoreVolume/score_volumes/RV13_64hrs_down32_annotationAsScoreVolume_RtTg.bp\"\n"
     ]
    },
    {
     "name": "stderr",
     "output_type": "stream",
     "text": [
      "File does not exist: /shared/CSHL_volumes/RV13_64hrs/RV13_64hrs_down32_annotationAsScoreVolume/score_volumes/RV13_64hrs_down32_annotationAsScoreVolume_RtTg.bp\n",
      "Error computing gradient for RtTg: [Errno 2] No such file or directory: '/shared/CSHL_volumes/RV13_64hrs/RV13_64hrs_down32_annotationAsScoreVolume/score_volumes/RV13_64hrs_down32_annotationAsScoreVolume_RtTg.bp'.\n"
     ]
    },
    {
     "name": "stdout",
     "output_type": "stream",
     "text": [
      "RtTg_surround_200\n",
      "rm -rf \"/shared/CSHL_volumes/RV13_64hrs/RV13_64hrs_down32_annotationAsScoreVolume/score_volumes/RV13_64hrs_down32_annotationAsScoreVolume_RtTg_surround_200.bp\" && mkdir -p \"/shared/CSHL_volumes/RV13_64hrs/RV13_64hrs_down32_annotationAsScoreVolume/score_volumes\"\n",
      "aws s3 cp \"s3://mousebrainatlas-data/CSHL_volumes/RV13_64hrs/RV13_64hrs_down32_annotationAsScoreVolume/score_volumes/RV13_64hrs_down32_annotationAsScoreVolume_RtTg_surround_200.bp\" \"/shared/CSHL_volumes/RV13_64hrs/RV13_64hrs_down32_annotationAsScoreVolume/score_volumes/RV13_64hrs_down32_annotationAsScoreVolume_RtTg_surround_200.bp\"\n"
     ]
    },
    {
     "name": "stderr",
     "output_type": "stream",
     "text": [
      "File does not exist: /shared/CSHL_volumes/RV13_64hrs/RV13_64hrs_down32_annotationAsScoreVolume/score_volumes/RV13_64hrs_down32_annotationAsScoreVolume_RtTg_surround_200.bp\n",
      "Error computing gradient for RtTg_surround_200: [Errno 2] No such file or directory: '/shared/CSHL_volumes/RV13_64hrs/RV13_64hrs_down32_annotationAsScoreVolume/score_volumes/RV13_64hrs_down32_annotationAsScoreVolume_RtTg_surround_200.bp'.\n"
     ]
    },
    {
     "name": "stdout",
     "output_type": "stream",
     "text": [
      "SC\n",
      "rm -rf \"/shared/CSHL_volumes/RV13_64hrs/RV13_64hrs_down32_annotationAsScoreVolume/score_volumes/RV13_64hrs_down32_annotationAsScoreVolume_SC.bp\" && mkdir -p \"/shared/CSHL_volumes/RV13_64hrs/RV13_64hrs_down32_annotationAsScoreVolume/score_volumes\"\n",
      "aws s3 cp \"s3://mousebrainatlas-data/CSHL_volumes/RV13_64hrs/RV13_64hrs_down32_annotationAsScoreVolume/score_volumes/RV13_64hrs_down32_annotationAsScoreVolume_SC.bp\" \"/shared/CSHL_volumes/RV13_64hrs/RV13_64hrs_down32_annotationAsScoreVolume/score_volumes/RV13_64hrs_down32_annotationAsScoreVolume_SC.bp\"\n"
     ]
    },
    {
     "name": "stderr",
     "output_type": "stream",
     "text": [
      "File does not exist: /shared/CSHL_volumes/RV13_64hrs/RV13_64hrs_down32_annotationAsScoreVolume/score_volumes/RV13_64hrs_down32_annotationAsScoreVolume_SC.bp\n",
      "Error computing gradient for SC: [Errno 2] No such file or directory: '/shared/CSHL_volumes/RV13_64hrs/RV13_64hrs_down32_annotationAsScoreVolume/score_volumes/RV13_64hrs_down32_annotationAsScoreVolume_SC.bp'.\n"
     ]
    },
    {
     "name": "stdout",
     "output_type": "stream",
     "text": [
      "SC_surround_200\n",
      "rm -rf \"/shared/CSHL_volumes/RV13_64hrs/RV13_64hrs_down32_annotationAsScoreVolume/score_volumes/RV13_64hrs_down32_annotationAsScoreVolume_SC_surround_200.bp\" && mkdir -p \"/shared/CSHL_volumes/RV13_64hrs/RV13_64hrs_down32_annotationAsScoreVolume/score_volumes\"\n",
      "aws s3 cp \"s3://mousebrainatlas-data/CSHL_volumes/RV13_64hrs/RV13_64hrs_down32_annotationAsScoreVolume/score_volumes/RV13_64hrs_down32_annotationAsScoreVolume_SC_surround_200.bp\" \"/shared/CSHL_volumes/RV13_64hrs/RV13_64hrs_down32_annotationAsScoreVolume/score_volumes/RV13_64hrs_down32_annotationAsScoreVolume_SC_surround_200.bp\"\n"
     ]
    },
    {
     "name": "stderr",
     "output_type": "stream",
     "text": [
      "File does not exist: /shared/CSHL_volumes/RV13_64hrs/RV13_64hrs_down32_annotationAsScoreVolume/score_volumes/RV13_64hrs_down32_annotationAsScoreVolume_SC_surround_200.bp\n",
      "Error computing gradient for SC_surround_200: [Errno 2] No such file or directory: '/shared/CSHL_volumes/RV13_64hrs/RV13_64hrs_down32_annotationAsScoreVolume/score_volumes/RV13_64hrs_down32_annotationAsScoreVolume_SC_surround_200.bp'.\n"
     ]
    },
    {
     "name": "stdout",
     "output_type": "stream",
     "text": [
      "SNC_L\n",
      "rm -rf \"/shared/CSHL_volumes/RV13_64hrs/RV13_64hrs_down32_annotationAsScoreVolume/score_volumes/RV13_64hrs_down32_annotationAsScoreVolume_SNC_L.bp\" && mkdir -p \"/shared/CSHL_volumes/RV13_64hrs/RV13_64hrs_down32_annotationAsScoreVolume/score_volumes\"\n",
      "aws s3 cp \"s3://mousebrainatlas-data/CSHL_volumes/RV13_64hrs/RV13_64hrs_down32_annotationAsScoreVolume/score_volumes/RV13_64hrs_down32_annotationAsScoreVolume_SNC_L.bp\" \"/shared/CSHL_volumes/RV13_64hrs/RV13_64hrs_down32_annotationAsScoreVolume/score_volumes/RV13_64hrs_down32_annotationAsScoreVolume_SNC_L.bp\"\n"
     ]
    },
    {
     "name": "stderr",
     "output_type": "stream",
     "text": [
      "File does not exist: /shared/CSHL_volumes/RV13_64hrs/RV13_64hrs_down32_annotationAsScoreVolume/score_volumes/RV13_64hrs_down32_annotationAsScoreVolume_SNC_L.bp\n",
      "Error computing gradient for SNC_L: [Errno 2] No such file or directory: '/shared/CSHL_volumes/RV13_64hrs/RV13_64hrs_down32_annotationAsScoreVolume/score_volumes/RV13_64hrs_down32_annotationAsScoreVolume_SNC_L.bp'.\n"
     ]
    },
    {
     "name": "stdout",
     "output_type": "stream",
     "text": [
      "SNC_L_surround_200\n",
      "rm -rf \"/shared/CSHL_volumes/RV13_64hrs/RV13_64hrs_down32_annotationAsScoreVolume/score_volumes/RV13_64hrs_down32_annotationAsScoreVolume_SNC_L_surround_200.bp\" && mkdir -p \"/shared/CSHL_volumes/RV13_64hrs/RV13_64hrs_down32_annotationAsScoreVolume/score_volumes\"\n",
      "aws s3 cp \"s3://mousebrainatlas-data/CSHL_volumes/RV13_64hrs/RV13_64hrs_down32_annotationAsScoreVolume/score_volumes/RV13_64hrs_down32_annotationAsScoreVolume_SNC_L_surround_200.bp\" \"/shared/CSHL_volumes/RV13_64hrs/RV13_64hrs_down32_annotationAsScoreVolume/score_volumes/RV13_64hrs_down32_annotationAsScoreVolume_SNC_L_surround_200.bp\"\n"
     ]
    },
    {
     "name": "stderr",
     "output_type": "stream",
     "text": [
      "File does not exist: /shared/CSHL_volumes/RV13_64hrs/RV13_64hrs_down32_annotationAsScoreVolume/score_volumes/RV13_64hrs_down32_annotationAsScoreVolume_SNC_L_surround_200.bp\n",
      "Error computing gradient for SNC_L_surround_200: [Errno 2] No such file or directory: '/shared/CSHL_volumes/RV13_64hrs/RV13_64hrs_down32_annotationAsScoreVolume/score_volumes/RV13_64hrs_down32_annotationAsScoreVolume_SNC_L_surround_200.bp'.\n"
     ]
    },
    {
     "name": "stdout",
     "output_type": "stream",
     "text": [
      "SNC_R\n",
      "rm -rf \"/shared/CSHL_volumes/RV13_64hrs/RV13_64hrs_down32_annotationAsScoreVolume/score_volumes/RV13_64hrs_down32_annotationAsScoreVolume_SNC_R.bp\" && mkdir -p \"/shared/CSHL_volumes/RV13_64hrs/RV13_64hrs_down32_annotationAsScoreVolume/score_volumes\"\n",
      "aws s3 cp \"s3://mousebrainatlas-data/CSHL_volumes/RV13_64hrs/RV13_64hrs_down32_annotationAsScoreVolume/score_volumes/RV13_64hrs_down32_annotationAsScoreVolume_SNC_R.bp\" \"/shared/CSHL_volumes/RV13_64hrs/RV13_64hrs_down32_annotationAsScoreVolume/score_volumes/RV13_64hrs_down32_annotationAsScoreVolume_SNC_R.bp\"\n"
     ]
    },
    {
     "name": "stderr",
     "output_type": "stream",
     "text": [
      "File does not exist: /shared/CSHL_volumes/RV13_64hrs/RV13_64hrs_down32_annotationAsScoreVolume/score_volumes/RV13_64hrs_down32_annotationAsScoreVolume_SNC_R.bp\n",
      "Error computing gradient for SNC_R: [Errno 2] No such file or directory: '/shared/CSHL_volumes/RV13_64hrs/RV13_64hrs_down32_annotationAsScoreVolume/score_volumes/RV13_64hrs_down32_annotationAsScoreVolume_SNC_R.bp'.\n"
     ]
    },
    {
     "name": "stdout",
     "output_type": "stream",
     "text": [
      "SNC_R_surround_200\n",
      "rm -rf \"/shared/CSHL_volumes/RV13_64hrs/RV13_64hrs_down32_annotationAsScoreVolume/score_volumes/RV13_64hrs_down32_annotationAsScoreVolume_SNC_R_surround_200.bp\" && mkdir -p \"/shared/CSHL_volumes/RV13_64hrs/RV13_64hrs_down32_annotationAsScoreVolume/score_volumes\"\n",
      "aws s3 cp \"s3://mousebrainatlas-data/CSHL_volumes/RV13_64hrs/RV13_64hrs_down32_annotationAsScoreVolume/score_volumes/RV13_64hrs_down32_annotationAsScoreVolume_SNC_R_surround_200.bp\" \"/shared/CSHL_volumes/RV13_64hrs/RV13_64hrs_down32_annotationAsScoreVolume/score_volumes/RV13_64hrs_down32_annotationAsScoreVolume_SNC_R_surround_200.bp\"\n"
     ]
    },
    {
     "name": "stderr",
     "output_type": "stream",
     "text": [
      "File does not exist: /shared/CSHL_volumes/RV13_64hrs/RV13_64hrs_down32_annotationAsScoreVolume/score_volumes/RV13_64hrs_down32_annotationAsScoreVolume_SNC_R_surround_200.bp\n",
      "Error computing gradient for SNC_R_surround_200: [Errno 2] No such file or directory: '/shared/CSHL_volumes/RV13_64hrs/RV13_64hrs_down32_annotationAsScoreVolume/score_volumes/RV13_64hrs_down32_annotationAsScoreVolume_SNC_R_surround_200.bp'.\n"
     ]
    },
    {
     "name": "stdout",
     "output_type": "stream",
     "text": [
      "SNR_L\n",
      "rm -rf \"/shared/CSHL_volumes/RV13_64hrs/RV13_64hrs_down32_annotationAsScoreVolume/score_volumes/RV13_64hrs_down32_annotationAsScoreVolume_SNR_L.bp\" && mkdir -p \"/shared/CSHL_volumes/RV13_64hrs/RV13_64hrs_down32_annotationAsScoreVolume/score_volumes\"\n",
      "aws s3 cp \"s3://mousebrainatlas-data/CSHL_volumes/RV13_64hrs/RV13_64hrs_down32_annotationAsScoreVolume/score_volumes/RV13_64hrs_down32_annotationAsScoreVolume_SNR_L.bp\" \"/shared/CSHL_volumes/RV13_64hrs/RV13_64hrs_down32_annotationAsScoreVolume/score_volumes/RV13_64hrs_down32_annotationAsScoreVolume_SNR_L.bp\"\n"
     ]
    },
    {
     "name": "stderr",
     "output_type": "stream",
     "text": [
      "File does not exist: /shared/CSHL_volumes/RV13_64hrs/RV13_64hrs_down32_annotationAsScoreVolume/score_volumes/RV13_64hrs_down32_annotationAsScoreVolume_SNR_L.bp\n",
      "Error computing gradient for SNR_L: [Errno 2] No such file or directory: '/shared/CSHL_volumes/RV13_64hrs/RV13_64hrs_down32_annotationAsScoreVolume/score_volumes/RV13_64hrs_down32_annotationAsScoreVolume_SNR_L.bp'.\n"
     ]
    },
    {
     "name": "stdout",
     "output_type": "stream",
     "text": [
      "SNR_L_surround_200\n",
      "rm -rf \"/shared/CSHL_volumes/RV13_64hrs/RV13_64hrs_down32_annotationAsScoreVolume/score_volumes/RV13_64hrs_down32_annotationAsScoreVolume_SNR_L_surround_200.bp\" && mkdir -p \"/shared/CSHL_volumes/RV13_64hrs/RV13_64hrs_down32_annotationAsScoreVolume/score_volumes\"\n",
      "aws s3 cp \"s3://mousebrainatlas-data/CSHL_volumes/RV13_64hrs/RV13_64hrs_down32_annotationAsScoreVolume/score_volumes/RV13_64hrs_down32_annotationAsScoreVolume_SNR_L_surround_200.bp\" \"/shared/CSHL_volumes/RV13_64hrs/RV13_64hrs_down32_annotationAsScoreVolume/score_volumes/RV13_64hrs_down32_annotationAsScoreVolume_SNR_L_surround_200.bp\"\n"
     ]
    },
    {
     "name": "stderr",
     "output_type": "stream",
     "text": [
      "File does not exist: /shared/CSHL_volumes/RV13_64hrs/RV13_64hrs_down32_annotationAsScoreVolume/score_volumes/RV13_64hrs_down32_annotationAsScoreVolume_SNR_L_surround_200.bp\n",
      "Error computing gradient for SNR_L_surround_200: [Errno 2] No such file or directory: '/shared/CSHL_volumes/RV13_64hrs/RV13_64hrs_down32_annotationAsScoreVolume/score_volumes/RV13_64hrs_down32_annotationAsScoreVolume_SNR_L_surround_200.bp'.\n"
     ]
    },
    {
     "name": "stdout",
     "output_type": "stream",
     "text": [
      "SNR_R\n",
      "rm -rf \"/shared/CSHL_volumes/RV13_64hrs/RV13_64hrs_down32_annotationAsScoreVolume/score_volumes/RV13_64hrs_down32_annotationAsScoreVolume_SNR_R.bp\" && mkdir -p \"/shared/CSHL_volumes/RV13_64hrs/RV13_64hrs_down32_annotationAsScoreVolume/score_volumes\"\n",
      "aws s3 cp \"s3://mousebrainatlas-data/CSHL_volumes/RV13_64hrs/RV13_64hrs_down32_annotationAsScoreVolume/score_volumes/RV13_64hrs_down32_annotationAsScoreVolume_SNR_R.bp\" \"/shared/CSHL_volumes/RV13_64hrs/RV13_64hrs_down32_annotationAsScoreVolume/score_volumes/RV13_64hrs_down32_annotationAsScoreVolume_SNR_R.bp\"\n"
     ]
    },
    {
     "name": "stderr",
     "output_type": "stream",
     "text": [
      "File does not exist: /shared/CSHL_volumes/RV13_64hrs/RV13_64hrs_down32_annotationAsScoreVolume/score_volumes/RV13_64hrs_down32_annotationAsScoreVolume_SNR_R.bp\n",
      "Error computing gradient for SNR_R: [Errno 2] No such file or directory: '/shared/CSHL_volumes/RV13_64hrs/RV13_64hrs_down32_annotationAsScoreVolume/score_volumes/RV13_64hrs_down32_annotationAsScoreVolume_SNR_R.bp'.\n"
     ]
    },
    {
     "name": "stdout",
     "output_type": "stream",
     "text": [
      "SNR_R_surround_200\n",
      "rm -rf \"/shared/CSHL_volumes/RV13_64hrs/RV13_64hrs_down32_annotationAsScoreVolume/score_volumes/RV13_64hrs_down32_annotationAsScoreVolume_SNR_R_surround_200.bp\" && mkdir -p \"/shared/CSHL_volumes/RV13_64hrs/RV13_64hrs_down32_annotationAsScoreVolume/score_volumes\"\n",
      "aws s3 cp \"s3://mousebrainatlas-data/CSHL_volumes/RV13_64hrs/RV13_64hrs_down32_annotationAsScoreVolume/score_volumes/RV13_64hrs_down32_annotationAsScoreVolume_SNR_R_surround_200.bp\" \"/shared/CSHL_volumes/RV13_64hrs/RV13_64hrs_down32_annotationAsScoreVolume/score_volumes/RV13_64hrs_down32_annotationAsScoreVolume_SNR_R_surround_200.bp\"\n"
     ]
    },
    {
     "name": "stderr",
     "output_type": "stream",
     "text": [
      "File does not exist: /shared/CSHL_volumes/RV13_64hrs/RV13_64hrs_down32_annotationAsScoreVolume/score_volumes/RV13_64hrs_down32_annotationAsScoreVolume_SNR_R_surround_200.bp\n",
      "Error computing gradient for SNR_R_surround_200: [Errno 2] No such file or directory: '/shared/CSHL_volumes/RV13_64hrs/RV13_64hrs_down32_annotationAsScoreVolume/score_volumes/RV13_64hrs_down32_annotationAsScoreVolume_SNR_R_surround_200.bp'.\n"
     ]
    },
    {
     "name": "stdout",
     "output_type": "stream",
     "text": [
      "Sp5C_L\n"
     ]
    },
    {
     "name": "stderr",
     "output_type": "stream",
     "text": [
      "Gradient Sp5C_L: 0.722772 seconds\n"
     ]
    },
    {
     "name": "stdout",
     "output_type": "stream",
     "text": [
      "aws s3 cp \"/shared/CSHL_volumes/RV13_64hrs/RV13_64hrs_down32_annotationAsScoreVolume/score_volume_gradients/RV13_64hrs_down32_annotationAsScoreVolume_Sp5C_L_gx.bp\" \"s3://mousebrainatlas-data/CSHL_volumes/RV13_64hrs/RV13_64hrs_down32_annotationAsScoreVolume/score_volume_gradients/RV13_64hrs_down32_annotationAsScoreVolume_Sp5C_L_gx.bp\"\n",
      "aws s3 cp \"/shared/CSHL_volumes/RV13_64hrs/RV13_64hrs_down32_annotationAsScoreVolume/score_volume_gradients/RV13_64hrs_down32_annotationAsScoreVolume_Sp5C_L_gy.bp\" \"s3://mousebrainatlas-data/CSHL_volumes/RV13_64hrs/RV13_64hrs_down32_annotationAsScoreVolume/score_volume_gradients/RV13_64hrs_down32_annotationAsScoreVolume_Sp5C_L_gy.bp\"\n",
      "aws s3 cp \"/shared/CSHL_volumes/RV13_64hrs/RV13_64hrs_down32_annotationAsScoreVolume/score_volume_gradients/RV13_64hrs_down32_annotationAsScoreVolume_Sp5C_L_gz.bp\" \"s3://mousebrainatlas-data/CSHL_volumes/RV13_64hrs/RV13_64hrs_down32_annotationAsScoreVolume/score_volume_gradients/RV13_64hrs_down32_annotationAsScoreVolume_Sp5C_L_gz.bp\"\n"
     ]
    },
    {
     "name": "stderr",
     "output_type": "stream",
     "text": [
      "save Sp5C_L: 1.639715 seconds\n"
     ]
    },
    {
     "name": "stdout",
     "output_type": "stream",
     "text": [
      "Sp5C_L_surround_200\n"
     ]
    },
    {
     "name": "stderr",
     "output_type": "stream",
     "text": [
      "Gradient Sp5C_L_surround_200: 0.722147 seconds\n"
     ]
    },
    {
     "name": "stdout",
     "output_type": "stream",
     "text": [
      "aws s3 cp \"/shared/CSHL_volumes/RV13_64hrs/RV13_64hrs_down32_annotationAsScoreVolume/score_volume_gradients/RV13_64hrs_down32_annotationAsScoreVolume_Sp5C_L_surround_200_gx.bp\" \"s3://mousebrainatlas-data/CSHL_volumes/RV13_64hrs/RV13_64hrs_down32_annotationAsScoreVolume/score_volume_gradients/RV13_64hrs_down32_annotationAsScoreVolume_Sp5C_L_surround_200_gx.bp\"\n",
      "aws s3 cp \"/shared/CSHL_volumes/RV13_64hrs/RV13_64hrs_down32_annotationAsScoreVolume/score_volume_gradients/RV13_64hrs_down32_annotationAsScoreVolume_Sp5C_L_surround_200_gy.bp\" \"s3://mousebrainatlas-data/CSHL_volumes/RV13_64hrs/RV13_64hrs_down32_annotationAsScoreVolume/score_volume_gradients/RV13_64hrs_down32_annotationAsScoreVolume_Sp5C_L_surround_200_gy.bp\"\n",
      "aws s3 cp \"/shared/CSHL_volumes/RV13_64hrs/RV13_64hrs_down32_annotationAsScoreVolume/score_volume_gradients/RV13_64hrs_down32_annotationAsScoreVolume_Sp5C_L_surround_200_gz.bp\" \"s3://mousebrainatlas-data/CSHL_volumes/RV13_64hrs/RV13_64hrs_down32_annotationAsScoreVolume/score_volume_gradients/RV13_64hrs_down32_annotationAsScoreVolume_Sp5C_L_surround_200_gz.bp\"\n"
     ]
    },
    {
     "name": "stderr",
     "output_type": "stream",
     "text": [
      "save Sp5C_L_surround_200: 1.603421 seconds\n"
     ]
    },
    {
     "name": "stdout",
     "output_type": "stream",
     "text": [
      "Sp5C_R\n"
     ]
    },
    {
     "name": "stderr",
     "output_type": "stream",
     "text": [
      "Gradient Sp5C_R: 0.722236 seconds\n"
     ]
    },
    {
     "name": "stdout",
     "output_type": "stream",
     "text": [
      "aws s3 cp \"/shared/CSHL_volumes/RV13_64hrs/RV13_64hrs_down32_annotationAsScoreVolume/score_volume_gradients/RV13_64hrs_down32_annotationAsScoreVolume_Sp5C_R_gx.bp\" \"s3://mousebrainatlas-data/CSHL_volumes/RV13_64hrs/RV13_64hrs_down32_annotationAsScoreVolume/score_volume_gradients/RV13_64hrs_down32_annotationAsScoreVolume_Sp5C_R_gx.bp\"\n",
      "aws s3 cp \"/shared/CSHL_volumes/RV13_64hrs/RV13_64hrs_down32_annotationAsScoreVolume/score_volume_gradients/RV13_64hrs_down32_annotationAsScoreVolume_Sp5C_R_gy.bp\" \"s3://mousebrainatlas-data/CSHL_volumes/RV13_64hrs/RV13_64hrs_down32_annotationAsScoreVolume/score_volume_gradients/RV13_64hrs_down32_annotationAsScoreVolume_Sp5C_R_gy.bp\"\n",
      "aws s3 cp \"/shared/CSHL_volumes/RV13_64hrs/RV13_64hrs_down32_annotationAsScoreVolume/score_volume_gradients/RV13_64hrs_down32_annotationAsScoreVolume_Sp5C_R_gz.bp\" \"s3://mousebrainatlas-data/CSHL_volumes/RV13_64hrs/RV13_64hrs_down32_annotationAsScoreVolume/score_volume_gradients/RV13_64hrs_down32_annotationAsScoreVolume_Sp5C_R_gz.bp\"\n"
     ]
    },
    {
     "name": "stderr",
     "output_type": "stream",
     "text": [
      "save Sp5C_R: 1.604586 seconds\n"
     ]
    },
    {
     "name": "stdout",
     "output_type": "stream",
     "text": [
      "Sp5C_R_surround_200\n"
     ]
    },
    {
     "name": "stderr",
     "output_type": "stream",
     "text": [
      "Gradient Sp5C_R_surround_200: 0.722569 seconds\n"
     ]
    },
    {
     "name": "stdout",
     "output_type": "stream",
     "text": [
      "aws s3 cp \"/shared/CSHL_volumes/RV13_64hrs/RV13_64hrs_down32_annotationAsScoreVolume/score_volume_gradients/RV13_64hrs_down32_annotationAsScoreVolume_Sp5C_R_surround_200_gx.bp\" \"s3://mousebrainatlas-data/CSHL_volumes/RV13_64hrs/RV13_64hrs_down32_annotationAsScoreVolume/score_volume_gradients/RV13_64hrs_down32_annotationAsScoreVolume_Sp5C_R_surround_200_gx.bp\"\n",
      "aws s3 cp \"/shared/CSHL_volumes/RV13_64hrs/RV13_64hrs_down32_annotationAsScoreVolume/score_volume_gradients/RV13_64hrs_down32_annotationAsScoreVolume_Sp5C_R_surround_200_gy.bp\" \"s3://mousebrainatlas-data/CSHL_volumes/RV13_64hrs/RV13_64hrs_down32_annotationAsScoreVolume/score_volume_gradients/RV13_64hrs_down32_annotationAsScoreVolume_Sp5C_R_surround_200_gy.bp\"\n",
      "aws s3 cp \"/shared/CSHL_volumes/RV13_64hrs/RV13_64hrs_down32_annotationAsScoreVolume/score_volume_gradients/RV13_64hrs_down32_annotationAsScoreVolume_Sp5C_R_surround_200_gz.bp\" \"s3://mousebrainatlas-data/CSHL_volumes/RV13_64hrs/RV13_64hrs_down32_annotationAsScoreVolume/score_volume_gradients/RV13_64hrs_down32_annotationAsScoreVolume_Sp5C_R_surround_200_gz.bp\"\n"
     ]
    },
    {
     "name": "stderr",
     "output_type": "stream",
     "text": [
      "save Sp5C_R_surround_200: 1.679056 seconds\n"
     ]
    },
    {
     "name": "stdout",
     "output_type": "stream",
     "text": [
      "Sp5I_L\n"
     ]
    },
    {
     "name": "stderr",
     "output_type": "stream",
     "text": [
      "Gradient Sp5I_L: 0.720893 seconds\n"
     ]
    },
    {
     "name": "stdout",
     "output_type": "stream",
     "text": [
      "aws s3 cp \"/shared/CSHL_volumes/RV13_64hrs/RV13_64hrs_down32_annotationAsScoreVolume/score_volume_gradients/RV13_64hrs_down32_annotationAsScoreVolume_Sp5I_L_gx.bp\" \"s3://mousebrainatlas-data/CSHL_volumes/RV13_64hrs/RV13_64hrs_down32_annotationAsScoreVolume/score_volume_gradients/RV13_64hrs_down32_annotationAsScoreVolume_Sp5I_L_gx.bp\"\n",
      "aws s3 cp \"/shared/CSHL_volumes/RV13_64hrs/RV13_64hrs_down32_annotationAsScoreVolume/score_volume_gradients/RV13_64hrs_down32_annotationAsScoreVolume_Sp5I_L_gy.bp\" \"s3://mousebrainatlas-data/CSHL_volumes/RV13_64hrs/RV13_64hrs_down32_annotationAsScoreVolume/score_volume_gradients/RV13_64hrs_down32_annotationAsScoreVolume_Sp5I_L_gy.bp\"\n",
      "aws s3 cp \"/shared/CSHL_volumes/RV13_64hrs/RV13_64hrs_down32_annotationAsScoreVolume/score_volume_gradients/RV13_64hrs_down32_annotationAsScoreVolume_Sp5I_L_gz.bp\" \"s3://mousebrainatlas-data/CSHL_volumes/RV13_64hrs/RV13_64hrs_down32_annotationAsScoreVolume/score_volume_gradients/RV13_64hrs_down32_annotationAsScoreVolume_Sp5I_L_gz.bp\"\n"
     ]
    },
    {
     "name": "stderr",
     "output_type": "stream",
     "text": [
      "save Sp5I_L: 2.250723 seconds\n"
     ]
    },
    {
     "name": "stdout",
     "output_type": "stream",
     "text": [
      "Sp5I_L_surround_200\n"
     ]
    },
    {
     "name": "stderr",
     "output_type": "stream",
     "text": [
      "Gradient Sp5I_L_surround_200: 0.721586 seconds\n"
     ]
    },
    {
     "name": "stdout",
     "output_type": "stream",
     "text": [
      "aws s3 cp \"/shared/CSHL_volumes/RV13_64hrs/RV13_64hrs_down32_annotationAsScoreVolume/score_volume_gradients/RV13_64hrs_down32_annotationAsScoreVolume_Sp5I_L_surround_200_gx.bp\" \"s3://mousebrainatlas-data/CSHL_volumes/RV13_64hrs/RV13_64hrs_down32_annotationAsScoreVolume/score_volume_gradients/RV13_64hrs_down32_annotationAsScoreVolume_Sp5I_L_surround_200_gx.bp\"\n",
      "aws s3 cp \"/shared/CSHL_volumes/RV13_64hrs/RV13_64hrs_down32_annotationAsScoreVolume/score_volume_gradients/RV13_64hrs_down32_annotationAsScoreVolume_Sp5I_L_surround_200_gy.bp\" \"s3://mousebrainatlas-data/CSHL_volumes/RV13_64hrs/RV13_64hrs_down32_annotationAsScoreVolume/score_volume_gradients/RV13_64hrs_down32_annotationAsScoreVolume_Sp5I_L_surround_200_gy.bp\"\n",
      "aws s3 cp \"/shared/CSHL_volumes/RV13_64hrs/RV13_64hrs_down32_annotationAsScoreVolume/score_volume_gradients/RV13_64hrs_down32_annotationAsScoreVolume_Sp5I_L_surround_200_gz.bp\" \"s3://mousebrainatlas-data/CSHL_volumes/RV13_64hrs/RV13_64hrs_down32_annotationAsScoreVolume/score_volume_gradients/RV13_64hrs_down32_annotationAsScoreVolume_Sp5I_L_surround_200_gz.bp\"\n"
     ]
    },
    {
     "name": "stderr",
     "output_type": "stream",
     "text": [
      "save Sp5I_L_surround_200: 1.546799 seconds\n"
     ]
    },
    {
     "name": "stdout",
     "output_type": "stream",
     "text": [
      "Sp5I_R\n"
     ]
    },
    {
     "name": "stderr",
     "output_type": "stream",
     "text": [
      "Gradient Sp5I_R: 0.720459 seconds\n"
     ]
    },
    {
     "name": "stdout",
     "output_type": "stream",
     "text": [
      "aws s3 cp \"/shared/CSHL_volumes/RV13_64hrs/RV13_64hrs_down32_annotationAsScoreVolume/score_volume_gradients/RV13_64hrs_down32_annotationAsScoreVolume_Sp5I_R_gx.bp\" \"s3://mousebrainatlas-data/CSHL_volumes/RV13_64hrs/RV13_64hrs_down32_annotationAsScoreVolume/score_volume_gradients/RV13_64hrs_down32_annotationAsScoreVolume_Sp5I_R_gx.bp\"\n",
      "aws s3 cp \"/shared/CSHL_volumes/RV13_64hrs/RV13_64hrs_down32_annotationAsScoreVolume/score_volume_gradients/RV13_64hrs_down32_annotationAsScoreVolume_Sp5I_R_gy.bp\" \"s3://mousebrainatlas-data/CSHL_volumes/RV13_64hrs/RV13_64hrs_down32_annotationAsScoreVolume/score_volume_gradients/RV13_64hrs_down32_annotationAsScoreVolume_Sp5I_R_gy.bp\"\n",
      "aws s3 cp \"/shared/CSHL_volumes/RV13_64hrs/RV13_64hrs_down32_annotationAsScoreVolume/score_volume_gradients/RV13_64hrs_down32_annotationAsScoreVolume_Sp5I_R_gz.bp\" \"s3://mousebrainatlas-data/CSHL_volumes/RV13_64hrs/RV13_64hrs_down32_annotationAsScoreVolume/score_volume_gradients/RV13_64hrs_down32_annotationAsScoreVolume_Sp5I_R_gz.bp\"\n"
     ]
    },
    {
     "name": "stderr",
     "output_type": "stream",
     "text": [
      "save Sp5I_R: 1.512360 seconds\n"
     ]
    },
    {
     "name": "stdout",
     "output_type": "stream",
     "text": [
      "Sp5I_R_surround_200\n"
     ]
    },
    {
     "name": "stderr",
     "output_type": "stream",
     "text": [
      "Gradient Sp5I_R_surround_200: 0.722157 seconds\n"
     ]
    },
    {
     "name": "stdout",
     "output_type": "stream",
     "text": [
      "aws s3 cp \"/shared/CSHL_volumes/RV13_64hrs/RV13_64hrs_down32_annotationAsScoreVolume/score_volume_gradients/RV13_64hrs_down32_annotationAsScoreVolume_Sp5I_R_surround_200_gx.bp\" \"s3://mousebrainatlas-data/CSHL_volumes/RV13_64hrs/RV13_64hrs_down32_annotationAsScoreVolume/score_volume_gradients/RV13_64hrs_down32_annotationAsScoreVolume_Sp5I_R_surround_200_gx.bp\"\n",
      "aws s3 cp \"/shared/CSHL_volumes/RV13_64hrs/RV13_64hrs_down32_annotationAsScoreVolume/score_volume_gradients/RV13_64hrs_down32_annotationAsScoreVolume_Sp5I_R_surround_200_gy.bp\" \"s3://mousebrainatlas-data/CSHL_volumes/RV13_64hrs/RV13_64hrs_down32_annotationAsScoreVolume/score_volume_gradients/RV13_64hrs_down32_annotationAsScoreVolume_Sp5I_R_surround_200_gy.bp\"\n",
      "aws s3 cp \"/shared/CSHL_volumes/RV13_64hrs/RV13_64hrs_down32_annotationAsScoreVolume/score_volume_gradients/RV13_64hrs_down32_annotationAsScoreVolume_Sp5I_R_surround_200_gz.bp\" \"s3://mousebrainatlas-data/CSHL_volumes/RV13_64hrs/RV13_64hrs_down32_annotationAsScoreVolume/score_volume_gradients/RV13_64hrs_down32_annotationAsScoreVolume_Sp5I_R_surround_200_gz.bp\"\n"
     ]
    },
    {
     "name": "stderr",
     "output_type": "stream",
     "text": [
      "save Sp5I_R_surround_200: 1.578322 seconds\n"
     ]
    },
    {
     "name": "stdout",
     "output_type": "stream",
     "text": [
      "Sp5O_L\n",
      "rm -rf \"/shared/CSHL_volumes/RV13_64hrs/RV13_64hrs_down32_annotationAsScoreVolume/score_volumes/RV13_64hrs_down32_annotationAsScoreVolume_Sp5O_L.bp\" && mkdir -p \"/shared/CSHL_volumes/RV13_64hrs/RV13_64hrs_down32_annotationAsScoreVolume/score_volumes\"\n",
      "aws s3 cp \"s3://mousebrainatlas-data/CSHL_volumes/RV13_64hrs/RV13_64hrs_down32_annotationAsScoreVolume/score_volumes/RV13_64hrs_down32_annotationAsScoreVolume_Sp5O_L.bp\" \"/shared/CSHL_volumes/RV13_64hrs/RV13_64hrs_down32_annotationAsScoreVolume/score_volumes/RV13_64hrs_down32_annotationAsScoreVolume_Sp5O_L.bp\"\n"
     ]
    },
    {
     "name": "stderr",
     "output_type": "stream",
     "text": [
      "File does not exist: /shared/CSHL_volumes/RV13_64hrs/RV13_64hrs_down32_annotationAsScoreVolume/score_volumes/RV13_64hrs_down32_annotationAsScoreVolume_Sp5O_L.bp\n",
      "Error computing gradient for Sp5O_L: [Errno 2] No such file or directory: '/shared/CSHL_volumes/RV13_64hrs/RV13_64hrs_down32_annotationAsScoreVolume/score_volumes/RV13_64hrs_down32_annotationAsScoreVolume_Sp5O_L.bp'.\n"
     ]
    },
    {
     "name": "stdout",
     "output_type": "stream",
     "text": [
      "Sp5O_L_surround_200\n",
      "rm -rf \"/shared/CSHL_volumes/RV13_64hrs/RV13_64hrs_down32_annotationAsScoreVolume/score_volumes/RV13_64hrs_down32_annotationAsScoreVolume_Sp5O_L_surround_200.bp\" && mkdir -p \"/shared/CSHL_volumes/RV13_64hrs/RV13_64hrs_down32_annotationAsScoreVolume/score_volumes\"\n",
      "aws s3 cp \"s3://mousebrainatlas-data/CSHL_volumes/RV13_64hrs/RV13_64hrs_down32_annotationAsScoreVolume/score_volumes/RV13_64hrs_down32_annotationAsScoreVolume_Sp5O_L_surround_200.bp\" \"/shared/CSHL_volumes/RV13_64hrs/RV13_64hrs_down32_annotationAsScoreVolume/score_volumes/RV13_64hrs_down32_annotationAsScoreVolume_Sp5O_L_surround_200.bp\"\n"
     ]
    },
    {
     "name": "stderr",
     "output_type": "stream",
     "text": [
      "File does not exist: /shared/CSHL_volumes/RV13_64hrs/RV13_64hrs_down32_annotationAsScoreVolume/score_volumes/RV13_64hrs_down32_annotationAsScoreVolume_Sp5O_L_surround_200.bp\n",
      "Error computing gradient for Sp5O_L_surround_200: [Errno 2] No such file or directory: '/shared/CSHL_volumes/RV13_64hrs/RV13_64hrs_down32_annotationAsScoreVolume/score_volumes/RV13_64hrs_down32_annotationAsScoreVolume_Sp5O_L_surround_200.bp'.\n"
     ]
    },
    {
     "name": "stdout",
     "output_type": "stream",
     "text": [
      "Sp5O_R\n"
     ]
    },
    {
     "name": "stderr",
     "output_type": "stream",
     "text": [
      "Gradient Sp5O_R: 0.721664 seconds\n"
     ]
    },
    {
     "name": "stdout",
     "output_type": "stream",
     "text": [
      "aws s3 cp \"/shared/CSHL_volumes/RV13_64hrs/RV13_64hrs_down32_annotationAsScoreVolume/score_volume_gradients/RV13_64hrs_down32_annotationAsScoreVolume_Sp5O_R_gx.bp\" \"s3://mousebrainatlas-data/CSHL_volumes/RV13_64hrs/RV13_64hrs_down32_annotationAsScoreVolume/score_volume_gradients/RV13_64hrs_down32_annotationAsScoreVolume_Sp5O_R_gx.bp\"\n",
      "aws s3 cp \"/shared/CSHL_volumes/RV13_64hrs/RV13_64hrs_down32_annotationAsScoreVolume/score_volume_gradients/RV13_64hrs_down32_annotationAsScoreVolume_Sp5O_R_gy.bp\" \"s3://mousebrainatlas-data/CSHL_volumes/RV13_64hrs/RV13_64hrs_down32_annotationAsScoreVolume/score_volume_gradients/RV13_64hrs_down32_annotationAsScoreVolume_Sp5O_R_gy.bp\"\n",
      "aws s3 cp \"/shared/CSHL_volumes/RV13_64hrs/RV13_64hrs_down32_annotationAsScoreVolume/score_volume_gradients/RV13_64hrs_down32_annotationAsScoreVolume_Sp5O_R_gz.bp\" \"s3://mousebrainatlas-data/CSHL_volumes/RV13_64hrs/RV13_64hrs_down32_annotationAsScoreVolume/score_volume_gradients/RV13_64hrs_down32_annotationAsScoreVolume_Sp5O_R_gz.bp\"\n"
     ]
    },
    {
     "name": "stderr",
     "output_type": "stream",
     "text": [
      "save Sp5O_R: 1.515877 seconds\n"
     ]
    },
    {
     "name": "stdout",
     "output_type": "stream",
     "text": [
      "Sp5O_R_surround_200\n"
     ]
    },
    {
     "name": "stderr",
     "output_type": "stream",
     "text": [
      "Gradient Sp5O_R_surround_200: 0.722494 seconds\n"
     ]
    },
    {
     "name": "stdout",
     "output_type": "stream",
     "text": [
      "aws s3 cp \"/shared/CSHL_volumes/RV13_64hrs/RV13_64hrs_down32_annotationAsScoreVolume/score_volume_gradients/RV13_64hrs_down32_annotationAsScoreVolume_Sp5O_R_surround_200_gx.bp\" \"s3://mousebrainatlas-data/CSHL_volumes/RV13_64hrs/RV13_64hrs_down32_annotationAsScoreVolume/score_volume_gradients/RV13_64hrs_down32_annotationAsScoreVolume_Sp5O_R_surround_200_gx.bp\"\n",
      "aws s3 cp \"/shared/CSHL_volumes/RV13_64hrs/RV13_64hrs_down32_annotationAsScoreVolume/score_volume_gradients/RV13_64hrs_down32_annotationAsScoreVolume_Sp5O_R_surround_200_gy.bp\" \"s3://mousebrainatlas-data/CSHL_volumes/RV13_64hrs/RV13_64hrs_down32_annotationAsScoreVolume/score_volume_gradients/RV13_64hrs_down32_annotationAsScoreVolume_Sp5O_R_surround_200_gy.bp\"\n",
      "aws s3 cp \"/shared/CSHL_volumes/RV13_64hrs/RV13_64hrs_down32_annotationAsScoreVolume/score_volume_gradients/RV13_64hrs_down32_annotationAsScoreVolume_Sp5O_R_surround_200_gz.bp\" \"s3://mousebrainatlas-data/CSHL_volumes/RV13_64hrs/RV13_64hrs_down32_annotationAsScoreVolume/score_volume_gradients/RV13_64hrs_down32_annotationAsScoreVolume_Sp5O_R_surround_200_gz.bp\"\n"
     ]
    },
    {
     "name": "stderr",
     "output_type": "stream",
     "text": [
      "save Sp5O_R_surround_200: 1.571228 seconds\n"
     ]
    },
    {
     "name": "stdout",
     "output_type": "stream",
     "text": [
      "Tz_L\n",
      "rm -rf \"/shared/CSHL_volumes/RV13_64hrs/RV13_64hrs_down32_annotationAsScoreVolume/score_volumes/RV13_64hrs_down32_annotationAsScoreVolume_Tz_L.bp\" && mkdir -p \"/shared/CSHL_volumes/RV13_64hrs/RV13_64hrs_down32_annotationAsScoreVolume/score_volumes\"\n",
      "aws s3 cp \"s3://mousebrainatlas-data/CSHL_volumes/RV13_64hrs/RV13_64hrs_down32_annotationAsScoreVolume/score_volumes/RV13_64hrs_down32_annotationAsScoreVolume_Tz_L.bp\" \"/shared/CSHL_volumes/RV13_64hrs/RV13_64hrs_down32_annotationAsScoreVolume/score_volumes/RV13_64hrs_down32_annotationAsScoreVolume_Tz_L.bp\"\n"
     ]
    },
    {
     "name": "stderr",
     "output_type": "stream",
     "text": [
      "File does not exist: /shared/CSHL_volumes/RV13_64hrs/RV13_64hrs_down32_annotationAsScoreVolume/score_volumes/RV13_64hrs_down32_annotationAsScoreVolume_Tz_L.bp\n",
      "Error computing gradient for Tz_L: [Errno 2] No such file or directory: '/shared/CSHL_volumes/RV13_64hrs/RV13_64hrs_down32_annotationAsScoreVolume/score_volumes/RV13_64hrs_down32_annotationAsScoreVolume_Tz_L.bp'.\n"
     ]
    },
    {
     "name": "stdout",
     "output_type": "stream",
     "text": [
      "Tz_L_surround_200\n",
      "rm -rf \"/shared/CSHL_volumes/RV13_64hrs/RV13_64hrs_down32_annotationAsScoreVolume/score_volumes/RV13_64hrs_down32_annotationAsScoreVolume_Tz_L_surround_200.bp\" && mkdir -p \"/shared/CSHL_volumes/RV13_64hrs/RV13_64hrs_down32_annotationAsScoreVolume/score_volumes\"\n",
      "aws s3 cp \"s3://mousebrainatlas-data/CSHL_volumes/RV13_64hrs/RV13_64hrs_down32_annotationAsScoreVolume/score_volumes/RV13_64hrs_down32_annotationAsScoreVolume_Tz_L_surround_200.bp\" \"/shared/CSHL_volumes/RV13_64hrs/RV13_64hrs_down32_annotationAsScoreVolume/score_volumes/RV13_64hrs_down32_annotationAsScoreVolume_Tz_L_surround_200.bp\"\n"
     ]
    },
    {
     "name": "stderr",
     "output_type": "stream",
     "text": [
      "File does not exist: /shared/CSHL_volumes/RV13_64hrs/RV13_64hrs_down32_annotationAsScoreVolume/score_volumes/RV13_64hrs_down32_annotationAsScoreVolume_Tz_L_surround_200.bp\n",
      "Error computing gradient for Tz_L_surround_200: [Errno 2] No such file or directory: '/shared/CSHL_volumes/RV13_64hrs/RV13_64hrs_down32_annotationAsScoreVolume/score_volumes/RV13_64hrs_down32_annotationAsScoreVolume_Tz_L_surround_200.bp'.\n"
     ]
    },
    {
     "name": "stdout",
     "output_type": "stream",
     "text": [
      "Tz_R\n",
      "rm -rf \"/shared/CSHL_volumes/RV13_64hrs/RV13_64hrs_down32_annotationAsScoreVolume/score_volumes/RV13_64hrs_down32_annotationAsScoreVolume_Tz_R.bp\" && mkdir -p \"/shared/CSHL_volumes/RV13_64hrs/RV13_64hrs_down32_annotationAsScoreVolume/score_volumes\"\n",
      "aws s3 cp \"s3://mousebrainatlas-data/CSHL_volumes/RV13_64hrs/RV13_64hrs_down32_annotationAsScoreVolume/score_volumes/RV13_64hrs_down32_annotationAsScoreVolume_Tz_R.bp\" \"/shared/CSHL_volumes/RV13_64hrs/RV13_64hrs_down32_annotationAsScoreVolume/score_volumes/RV13_64hrs_down32_annotationAsScoreVolume_Tz_R.bp\"\n"
     ]
    },
    {
     "name": "stderr",
     "output_type": "stream",
     "text": [
      "File does not exist: /shared/CSHL_volumes/RV13_64hrs/RV13_64hrs_down32_annotationAsScoreVolume/score_volumes/RV13_64hrs_down32_annotationAsScoreVolume_Tz_R.bp\n",
      "Error computing gradient for Tz_R: [Errno 2] No such file or directory: '/shared/CSHL_volumes/RV13_64hrs/RV13_64hrs_down32_annotationAsScoreVolume/score_volumes/RV13_64hrs_down32_annotationAsScoreVolume_Tz_R.bp'.\n"
     ]
    },
    {
     "name": "stdout",
     "output_type": "stream",
     "text": [
      "Tz_R_surround_200\n",
      "rm -rf \"/shared/CSHL_volumes/RV13_64hrs/RV13_64hrs_down32_annotationAsScoreVolume/score_volumes/RV13_64hrs_down32_annotationAsScoreVolume_Tz_R_surround_200.bp\" && mkdir -p \"/shared/CSHL_volumes/RV13_64hrs/RV13_64hrs_down32_annotationAsScoreVolume/score_volumes\"\n",
      "aws s3 cp \"s3://mousebrainatlas-data/CSHL_volumes/RV13_64hrs/RV13_64hrs_down32_annotationAsScoreVolume/score_volumes/RV13_64hrs_down32_annotationAsScoreVolume_Tz_R_surround_200.bp\" \"/shared/CSHL_volumes/RV13_64hrs/RV13_64hrs_down32_annotationAsScoreVolume/score_volumes/RV13_64hrs_down32_annotationAsScoreVolume_Tz_R_surround_200.bp\"\n"
     ]
    },
    {
     "name": "stderr",
     "output_type": "stream",
     "text": [
      "File does not exist: /shared/CSHL_volumes/RV13_64hrs/RV13_64hrs_down32_annotationAsScoreVolume/score_volumes/RV13_64hrs_down32_annotationAsScoreVolume_Tz_R_surround_200.bp\n",
      "Error computing gradient for Tz_R_surround_200: [Errno 2] No such file or directory: '/shared/CSHL_volumes/RV13_64hrs/RV13_64hrs_down32_annotationAsScoreVolume/score_volumes/RV13_64hrs_down32_annotationAsScoreVolume_Tz_R_surround_200.bp'.\n"
     ]
    },
    {
     "name": "stdout",
     "output_type": "stream",
     "text": [
      "VCA_L\n",
      "rm -rf \"/shared/CSHL_volumes/RV13_64hrs/RV13_64hrs_down32_annotationAsScoreVolume/score_volumes/RV13_64hrs_down32_annotationAsScoreVolume_VCA_L.bp\" && mkdir -p \"/shared/CSHL_volumes/RV13_64hrs/RV13_64hrs_down32_annotationAsScoreVolume/score_volumes\"\n",
      "aws s3 cp \"s3://mousebrainatlas-data/CSHL_volumes/RV13_64hrs/RV13_64hrs_down32_annotationAsScoreVolume/score_volumes/RV13_64hrs_down32_annotationAsScoreVolume_VCA_L.bp\" \"/shared/CSHL_volumes/RV13_64hrs/RV13_64hrs_down32_annotationAsScoreVolume/score_volumes/RV13_64hrs_down32_annotationAsScoreVolume_VCA_L.bp\"\n"
     ]
    },
    {
     "name": "stderr",
     "output_type": "stream",
     "text": [
      "File does not exist: /shared/CSHL_volumes/RV13_64hrs/RV13_64hrs_down32_annotationAsScoreVolume/score_volumes/RV13_64hrs_down32_annotationAsScoreVolume_VCA_L.bp\n",
      "Error computing gradient for VCA_L: [Errno 2] No such file or directory: '/shared/CSHL_volumes/RV13_64hrs/RV13_64hrs_down32_annotationAsScoreVolume/score_volumes/RV13_64hrs_down32_annotationAsScoreVolume_VCA_L.bp'.\n"
     ]
    },
    {
     "name": "stdout",
     "output_type": "stream",
     "text": [
      "VCA_L_surround_200\n",
      "rm -rf \"/shared/CSHL_volumes/RV13_64hrs/RV13_64hrs_down32_annotationAsScoreVolume/score_volumes/RV13_64hrs_down32_annotationAsScoreVolume_VCA_L_surround_200.bp\" && mkdir -p \"/shared/CSHL_volumes/RV13_64hrs/RV13_64hrs_down32_annotationAsScoreVolume/score_volumes\"\n",
      "aws s3 cp \"s3://mousebrainatlas-data/CSHL_volumes/RV13_64hrs/RV13_64hrs_down32_annotationAsScoreVolume/score_volumes/RV13_64hrs_down32_annotationAsScoreVolume_VCA_L_surround_200.bp\" \"/shared/CSHL_volumes/RV13_64hrs/RV13_64hrs_down32_annotationAsScoreVolume/score_volumes/RV13_64hrs_down32_annotationAsScoreVolume_VCA_L_surround_200.bp\"\n"
     ]
    },
    {
     "name": "stderr",
     "output_type": "stream",
     "text": [
      "File does not exist: /shared/CSHL_volumes/RV13_64hrs/RV13_64hrs_down32_annotationAsScoreVolume/score_volumes/RV13_64hrs_down32_annotationAsScoreVolume_VCA_L_surround_200.bp\n",
      "Error computing gradient for VCA_L_surround_200: [Errno 2] No such file or directory: '/shared/CSHL_volumes/RV13_64hrs/RV13_64hrs_down32_annotationAsScoreVolume/score_volumes/RV13_64hrs_down32_annotationAsScoreVolume_VCA_L_surround_200.bp'.\n"
     ]
    },
    {
     "name": "stdout",
     "output_type": "stream",
     "text": [
      "VCA_R\n",
      "rm -rf \"/shared/CSHL_volumes/RV13_64hrs/RV13_64hrs_down32_annotationAsScoreVolume/score_volumes/RV13_64hrs_down32_annotationAsScoreVolume_VCA_R.bp\" && mkdir -p \"/shared/CSHL_volumes/RV13_64hrs/RV13_64hrs_down32_annotationAsScoreVolume/score_volumes\"\n",
      "aws s3 cp \"s3://mousebrainatlas-data/CSHL_volumes/RV13_64hrs/RV13_64hrs_down32_annotationAsScoreVolume/score_volumes/RV13_64hrs_down32_annotationAsScoreVolume_VCA_R.bp\" \"/shared/CSHL_volumes/RV13_64hrs/RV13_64hrs_down32_annotationAsScoreVolume/score_volumes/RV13_64hrs_down32_annotationAsScoreVolume_VCA_R.bp\"\n"
     ]
    },
    {
     "name": "stderr",
     "output_type": "stream",
     "text": [
      "File does not exist: /shared/CSHL_volumes/RV13_64hrs/RV13_64hrs_down32_annotationAsScoreVolume/score_volumes/RV13_64hrs_down32_annotationAsScoreVolume_VCA_R.bp\n",
      "Error computing gradient for VCA_R: [Errno 2] No such file or directory: '/shared/CSHL_volumes/RV13_64hrs/RV13_64hrs_down32_annotationAsScoreVolume/score_volumes/RV13_64hrs_down32_annotationAsScoreVolume_VCA_R.bp'.\n"
     ]
    },
    {
     "name": "stdout",
     "output_type": "stream",
     "text": [
      "VCA_R_surround_200\n",
      "rm -rf \"/shared/CSHL_volumes/RV13_64hrs/RV13_64hrs_down32_annotationAsScoreVolume/score_volumes/RV13_64hrs_down32_annotationAsScoreVolume_VCA_R_surround_200.bp\" && mkdir -p \"/shared/CSHL_volumes/RV13_64hrs/RV13_64hrs_down32_annotationAsScoreVolume/score_volumes\"\n",
      "aws s3 cp \"s3://mousebrainatlas-data/CSHL_volumes/RV13_64hrs/RV13_64hrs_down32_annotationAsScoreVolume/score_volumes/RV13_64hrs_down32_annotationAsScoreVolume_VCA_R_surround_200.bp\" \"/shared/CSHL_volumes/RV13_64hrs/RV13_64hrs_down32_annotationAsScoreVolume/score_volumes/RV13_64hrs_down32_annotationAsScoreVolume_VCA_R_surround_200.bp\"\n"
     ]
    },
    {
     "name": "stderr",
     "output_type": "stream",
     "text": [
      "File does not exist: /shared/CSHL_volumes/RV13_64hrs/RV13_64hrs_down32_annotationAsScoreVolume/score_volumes/RV13_64hrs_down32_annotationAsScoreVolume_VCA_R_surround_200.bp\n",
      "Error computing gradient for VCA_R_surround_200: [Errno 2] No such file or directory: '/shared/CSHL_volumes/RV13_64hrs/RV13_64hrs_down32_annotationAsScoreVolume/score_volumes/RV13_64hrs_down32_annotationAsScoreVolume_VCA_R_surround_200.bp'.\n"
     ]
    },
    {
     "name": "stdout",
     "output_type": "stream",
     "text": [
      "VCP_L\n",
      "rm -rf \"/shared/CSHL_volumes/RV13_64hrs/RV13_64hrs_down32_annotationAsScoreVolume/score_volumes/RV13_64hrs_down32_annotationAsScoreVolume_VCP_L.bp\" && mkdir -p \"/shared/CSHL_volumes/RV13_64hrs/RV13_64hrs_down32_annotationAsScoreVolume/score_volumes\"\n",
      "aws s3 cp \"s3://mousebrainatlas-data/CSHL_volumes/RV13_64hrs/RV13_64hrs_down32_annotationAsScoreVolume/score_volumes/RV13_64hrs_down32_annotationAsScoreVolume_VCP_L.bp\" \"/shared/CSHL_volumes/RV13_64hrs/RV13_64hrs_down32_annotationAsScoreVolume/score_volumes/RV13_64hrs_down32_annotationAsScoreVolume_VCP_L.bp\"\n"
     ]
    },
    {
     "name": "stderr",
     "output_type": "stream",
     "text": [
      "File does not exist: /shared/CSHL_volumes/RV13_64hrs/RV13_64hrs_down32_annotationAsScoreVolume/score_volumes/RV13_64hrs_down32_annotationAsScoreVolume_VCP_L.bp\n",
      "Error computing gradient for VCP_L: [Errno 2] No such file or directory: '/shared/CSHL_volumes/RV13_64hrs/RV13_64hrs_down32_annotationAsScoreVolume/score_volumes/RV13_64hrs_down32_annotationAsScoreVolume_VCP_L.bp'.\n"
     ]
    },
    {
     "name": "stdout",
     "output_type": "stream",
     "text": [
      "VCP_L_surround_200\n",
      "rm -rf \"/shared/CSHL_volumes/RV13_64hrs/RV13_64hrs_down32_annotationAsScoreVolume/score_volumes/RV13_64hrs_down32_annotationAsScoreVolume_VCP_L_surround_200.bp\" && mkdir -p \"/shared/CSHL_volumes/RV13_64hrs/RV13_64hrs_down32_annotationAsScoreVolume/score_volumes\"\n",
      "aws s3 cp \"s3://mousebrainatlas-data/CSHL_volumes/RV13_64hrs/RV13_64hrs_down32_annotationAsScoreVolume/score_volumes/RV13_64hrs_down32_annotationAsScoreVolume_VCP_L_surround_200.bp\" \"/shared/CSHL_volumes/RV13_64hrs/RV13_64hrs_down32_annotationAsScoreVolume/score_volumes/RV13_64hrs_down32_annotationAsScoreVolume_VCP_L_surround_200.bp\"\n"
     ]
    },
    {
     "name": "stderr",
     "output_type": "stream",
     "text": [
      "File does not exist: /shared/CSHL_volumes/RV13_64hrs/RV13_64hrs_down32_annotationAsScoreVolume/score_volumes/RV13_64hrs_down32_annotationAsScoreVolume_VCP_L_surround_200.bp\n",
      "Error computing gradient for VCP_L_surround_200: [Errno 2] No such file or directory: '/shared/CSHL_volumes/RV13_64hrs/RV13_64hrs_down32_annotationAsScoreVolume/score_volumes/RV13_64hrs_down32_annotationAsScoreVolume_VCP_L_surround_200.bp'.\n"
     ]
    },
    {
     "name": "stdout",
     "output_type": "stream",
     "text": [
      "VCP_R\n",
      "rm -rf \"/shared/CSHL_volumes/RV13_64hrs/RV13_64hrs_down32_annotationAsScoreVolume/score_volumes/RV13_64hrs_down32_annotationAsScoreVolume_VCP_R.bp\" && mkdir -p \"/shared/CSHL_volumes/RV13_64hrs/RV13_64hrs_down32_annotationAsScoreVolume/score_volumes\"\n",
      "aws s3 cp \"s3://mousebrainatlas-data/CSHL_volumes/RV13_64hrs/RV13_64hrs_down32_annotationAsScoreVolume/score_volumes/RV13_64hrs_down32_annotationAsScoreVolume_VCP_R.bp\" \"/shared/CSHL_volumes/RV13_64hrs/RV13_64hrs_down32_annotationAsScoreVolume/score_volumes/RV13_64hrs_down32_annotationAsScoreVolume_VCP_R.bp\"\n"
     ]
    },
    {
     "name": "stderr",
     "output_type": "stream",
     "text": [
      "File does not exist: /shared/CSHL_volumes/RV13_64hrs/RV13_64hrs_down32_annotationAsScoreVolume/score_volumes/RV13_64hrs_down32_annotationAsScoreVolume_VCP_R.bp\n",
      "Error computing gradient for VCP_R: [Errno 2] No such file or directory: '/shared/CSHL_volumes/RV13_64hrs/RV13_64hrs_down32_annotationAsScoreVolume/score_volumes/RV13_64hrs_down32_annotationAsScoreVolume_VCP_R.bp'.\n"
     ]
    },
    {
     "name": "stdout",
     "output_type": "stream",
     "text": [
      "VCP_R_surround_200\n",
      "rm -rf \"/shared/CSHL_volumes/RV13_64hrs/RV13_64hrs_down32_annotationAsScoreVolume/score_volumes/RV13_64hrs_down32_annotationAsScoreVolume_VCP_R_surround_200.bp\" && mkdir -p \"/shared/CSHL_volumes/RV13_64hrs/RV13_64hrs_down32_annotationAsScoreVolume/score_volumes\"\n",
      "aws s3 cp \"s3://mousebrainatlas-data/CSHL_volumes/RV13_64hrs/RV13_64hrs_down32_annotationAsScoreVolume/score_volumes/RV13_64hrs_down32_annotationAsScoreVolume_VCP_R_surround_200.bp\" \"/shared/CSHL_volumes/RV13_64hrs/RV13_64hrs_down32_annotationAsScoreVolume/score_volumes/RV13_64hrs_down32_annotationAsScoreVolume_VCP_R_surround_200.bp\"\n"
     ]
    },
    {
     "name": "stderr",
     "output_type": "stream",
     "text": [
      "File does not exist: /shared/CSHL_volumes/RV13_64hrs/RV13_64hrs_down32_annotationAsScoreVolume/score_volumes/RV13_64hrs_down32_annotationAsScoreVolume_VCP_R_surround_200.bp\n",
      "Error computing gradient for VCP_R_surround_200: [Errno 2] No such file or directory: '/shared/CSHL_volumes/RV13_64hrs/RV13_64hrs_down32_annotationAsScoreVolume/score_volumes/RV13_64hrs_down32_annotationAsScoreVolume_VCP_R_surround_200.bp'.\n"
     ]
    },
    {
     "name": "stdout",
     "output_type": "stream",
     "text": [
      "VLL_L\n",
      "rm -rf \"/shared/CSHL_volumes/RV13_64hrs/RV13_64hrs_down32_annotationAsScoreVolume/score_volumes/RV13_64hrs_down32_annotationAsScoreVolume_VLL_L.bp\" && mkdir -p \"/shared/CSHL_volumes/RV13_64hrs/RV13_64hrs_down32_annotationAsScoreVolume/score_volumes\"\n",
      "aws s3 cp \"s3://mousebrainatlas-data/CSHL_volumes/RV13_64hrs/RV13_64hrs_down32_annotationAsScoreVolume/score_volumes/RV13_64hrs_down32_annotationAsScoreVolume_VLL_L.bp\" \"/shared/CSHL_volumes/RV13_64hrs/RV13_64hrs_down32_annotationAsScoreVolume/score_volumes/RV13_64hrs_down32_annotationAsScoreVolume_VLL_L.bp\"\n"
     ]
    },
    {
     "name": "stderr",
     "output_type": "stream",
     "text": [
      "File does not exist: /shared/CSHL_volumes/RV13_64hrs/RV13_64hrs_down32_annotationAsScoreVolume/score_volumes/RV13_64hrs_down32_annotationAsScoreVolume_VLL_L.bp\n",
      "Error computing gradient for VLL_L: [Errno 2] No such file or directory: '/shared/CSHL_volumes/RV13_64hrs/RV13_64hrs_down32_annotationAsScoreVolume/score_volumes/RV13_64hrs_down32_annotationAsScoreVolume_VLL_L.bp'.\n"
     ]
    },
    {
     "name": "stdout",
     "output_type": "stream",
     "text": [
      "VLL_L_surround_200\n",
      "rm -rf \"/shared/CSHL_volumes/RV13_64hrs/RV13_64hrs_down32_annotationAsScoreVolume/score_volumes/RV13_64hrs_down32_annotationAsScoreVolume_VLL_L_surround_200.bp\" && mkdir -p \"/shared/CSHL_volumes/RV13_64hrs/RV13_64hrs_down32_annotationAsScoreVolume/score_volumes\"\n",
      "aws s3 cp \"s3://mousebrainatlas-data/CSHL_volumes/RV13_64hrs/RV13_64hrs_down32_annotationAsScoreVolume/score_volumes/RV13_64hrs_down32_annotationAsScoreVolume_VLL_L_surround_200.bp\" \"/shared/CSHL_volumes/RV13_64hrs/RV13_64hrs_down32_annotationAsScoreVolume/score_volumes/RV13_64hrs_down32_annotationAsScoreVolume_VLL_L_surround_200.bp\"\n"
     ]
    },
    {
     "name": "stderr",
     "output_type": "stream",
     "text": [
      "File does not exist: /shared/CSHL_volumes/RV13_64hrs/RV13_64hrs_down32_annotationAsScoreVolume/score_volumes/RV13_64hrs_down32_annotationAsScoreVolume_VLL_L_surround_200.bp\n",
      "Error computing gradient for VLL_L_surround_200: [Errno 2] No such file or directory: '/shared/CSHL_volumes/RV13_64hrs/RV13_64hrs_down32_annotationAsScoreVolume/score_volumes/RV13_64hrs_down32_annotationAsScoreVolume_VLL_L_surround_200.bp'.\n"
     ]
    },
    {
     "name": "stdout",
     "output_type": "stream",
     "text": [
      "VLL_R\n",
      "rm -rf \"/shared/CSHL_volumes/RV13_64hrs/RV13_64hrs_down32_annotationAsScoreVolume/score_volumes/RV13_64hrs_down32_annotationAsScoreVolume_VLL_R.bp\" && mkdir -p \"/shared/CSHL_volumes/RV13_64hrs/RV13_64hrs_down32_annotationAsScoreVolume/score_volumes\"\n",
      "aws s3 cp \"s3://mousebrainatlas-data/CSHL_volumes/RV13_64hrs/RV13_64hrs_down32_annotationAsScoreVolume/score_volumes/RV13_64hrs_down32_annotationAsScoreVolume_VLL_R.bp\" \"/shared/CSHL_volumes/RV13_64hrs/RV13_64hrs_down32_annotationAsScoreVolume/score_volumes/RV13_64hrs_down32_annotationAsScoreVolume_VLL_R.bp\"\n"
     ]
    },
    {
     "name": "stderr",
     "output_type": "stream",
     "text": [
      "File does not exist: /shared/CSHL_volumes/RV13_64hrs/RV13_64hrs_down32_annotationAsScoreVolume/score_volumes/RV13_64hrs_down32_annotationAsScoreVolume_VLL_R.bp\n",
      "Error computing gradient for VLL_R: [Errno 2] No such file or directory: '/shared/CSHL_volumes/RV13_64hrs/RV13_64hrs_down32_annotationAsScoreVolume/score_volumes/RV13_64hrs_down32_annotationAsScoreVolume_VLL_R.bp'.\n"
     ]
    },
    {
     "name": "stdout",
     "output_type": "stream",
     "text": [
      "VLL_R_surround_200\n",
      "rm -rf \"/shared/CSHL_volumes/RV13_64hrs/RV13_64hrs_down32_annotationAsScoreVolume/score_volumes/RV13_64hrs_down32_annotationAsScoreVolume_VLL_R_surround_200.bp\" && mkdir -p \"/shared/CSHL_volumes/RV13_64hrs/RV13_64hrs_down32_annotationAsScoreVolume/score_volumes\"\n",
      "aws s3 cp \"s3://mousebrainatlas-data/CSHL_volumes/RV13_64hrs/RV13_64hrs_down32_annotationAsScoreVolume/score_volumes/RV13_64hrs_down32_annotationAsScoreVolume_VLL_R_surround_200.bp\" \"/shared/CSHL_volumes/RV13_64hrs/RV13_64hrs_down32_annotationAsScoreVolume/score_volumes/RV13_64hrs_down32_annotationAsScoreVolume_VLL_R_surround_200.bp\"\n"
     ]
    },
    {
     "name": "stderr",
     "output_type": "stream",
     "text": [
      "File does not exist: /shared/CSHL_volumes/RV13_64hrs/RV13_64hrs_down32_annotationAsScoreVolume/score_volumes/RV13_64hrs_down32_annotationAsScoreVolume_VLL_R_surround_200.bp\n",
      "Error computing gradient for VLL_R_surround_200: [Errno 2] No such file or directory: '/shared/CSHL_volumes/RV13_64hrs/RV13_64hrs_down32_annotationAsScoreVolume/score_volumes/RV13_64hrs_down32_annotationAsScoreVolume_VLL_R_surround_200.bp'.\n"
     ]
    },
    {
     "name": "stdout",
     "output_type": "stream",
     "text": [
      "10N_L\n",
      "rm -rf \"/shared/CSHL_volumes/RV14_65hrs/RV14_65hrs_down32_annotationAsScoreVolume/score_volumes/RV14_65hrs_down32_annotationAsScoreVolume_10N_L.bp\" && mkdir -p \"/shared/CSHL_volumes/RV14_65hrs/RV14_65hrs_down32_annotationAsScoreVolume/score_volumes\"\n",
      "aws s3 cp \"s3://mousebrainatlas-data/CSHL_volumes/RV14_65hrs/RV14_65hrs_down32_annotationAsScoreVolume/score_volumes/RV14_65hrs_down32_annotationAsScoreVolume_10N_L.bp\" \"/shared/CSHL_volumes/RV14_65hrs/RV14_65hrs_down32_annotationAsScoreVolume/score_volumes/RV14_65hrs_down32_annotationAsScoreVolume_10N_L.bp\"\n"
     ]
    },
    {
     "name": "stderr",
     "output_type": "stream",
     "text": [
      "File does not exist: /shared/CSHL_volumes/RV14_65hrs/RV14_65hrs_down32_annotationAsScoreVolume/score_volumes/RV14_65hrs_down32_annotationAsScoreVolume_10N_L.bp\n",
      "Error computing gradient for 10N_L: [Errno 2] No such file or directory: '/shared/CSHL_volumes/RV14_65hrs/RV14_65hrs_down32_annotationAsScoreVolume/score_volumes/RV14_65hrs_down32_annotationAsScoreVolume_10N_L.bp'.\n"
     ]
    },
    {
     "name": "stdout",
     "output_type": "stream",
     "text": [
      "10N_L_surround_200\n",
      "rm -rf \"/shared/CSHL_volumes/RV14_65hrs/RV14_65hrs_down32_annotationAsScoreVolume/score_volumes/RV14_65hrs_down32_annotationAsScoreVolume_10N_L_surround_200.bp\" && mkdir -p \"/shared/CSHL_volumes/RV14_65hrs/RV14_65hrs_down32_annotationAsScoreVolume/score_volumes\"\n",
      "aws s3 cp \"s3://mousebrainatlas-data/CSHL_volumes/RV14_65hrs/RV14_65hrs_down32_annotationAsScoreVolume/score_volumes/RV14_65hrs_down32_annotationAsScoreVolume_10N_L_surround_200.bp\" \"/shared/CSHL_volumes/RV14_65hrs/RV14_65hrs_down32_annotationAsScoreVolume/score_volumes/RV14_65hrs_down32_annotationAsScoreVolume_10N_L_surround_200.bp\"\n"
     ]
    },
    {
     "name": "stderr",
     "output_type": "stream",
     "text": [
      "File does not exist: /shared/CSHL_volumes/RV14_65hrs/RV14_65hrs_down32_annotationAsScoreVolume/score_volumes/RV14_65hrs_down32_annotationAsScoreVolume_10N_L_surround_200.bp\n",
      "Error computing gradient for 10N_L_surround_200: [Errno 2] No such file or directory: '/shared/CSHL_volumes/RV14_65hrs/RV14_65hrs_down32_annotationAsScoreVolume/score_volumes/RV14_65hrs_down32_annotationAsScoreVolume_10N_L_surround_200.bp'.\n"
     ]
    },
    {
     "name": "stdout",
     "output_type": "stream",
     "text": [
      "10N_R\n",
      "rm -rf \"/shared/CSHL_volumes/RV14_65hrs/RV14_65hrs_down32_annotationAsScoreVolume/score_volumes/RV14_65hrs_down32_annotationAsScoreVolume_10N_R.bp\" && mkdir -p \"/shared/CSHL_volumes/RV14_65hrs/RV14_65hrs_down32_annotationAsScoreVolume/score_volumes\"\n",
      "aws s3 cp \"s3://mousebrainatlas-data/CSHL_volumes/RV14_65hrs/RV14_65hrs_down32_annotationAsScoreVolume/score_volumes/RV14_65hrs_down32_annotationAsScoreVolume_10N_R.bp\" \"/shared/CSHL_volumes/RV14_65hrs/RV14_65hrs_down32_annotationAsScoreVolume/score_volumes/RV14_65hrs_down32_annotationAsScoreVolume_10N_R.bp\"\n"
     ]
    },
    {
     "name": "stderr",
     "output_type": "stream",
     "text": [
      "File does not exist: /shared/CSHL_volumes/RV14_65hrs/RV14_65hrs_down32_annotationAsScoreVolume/score_volumes/RV14_65hrs_down32_annotationAsScoreVolume_10N_R.bp\n",
      "Error computing gradient for 10N_R: [Errno 2] No such file or directory: '/shared/CSHL_volumes/RV14_65hrs/RV14_65hrs_down32_annotationAsScoreVolume/score_volumes/RV14_65hrs_down32_annotationAsScoreVolume_10N_R.bp'.\n"
     ]
    },
    {
     "name": "stdout",
     "output_type": "stream",
     "text": [
      "10N_R_surround_200\n",
      "rm -rf \"/shared/CSHL_volumes/RV14_65hrs/RV14_65hrs_down32_annotationAsScoreVolume/score_volumes/RV14_65hrs_down32_annotationAsScoreVolume_10N_R_surround_200.bp\" && mkdir -p \"/shared/CSHL_volumes/RV14_65hrs/RV14_65hrs_down32_annotationAsScoreVolume/score_volumes\"\n",
      "aws s3 cp \"s3://mousebrainatlas-data/CSHL_volumes/RV14_65hrs/RV14_65hrs_down32_annotationAsScoreVolume/score_volumes/RV14_65hrs_down32_annotationAsScoreVolume_10N_R_surround_200.bp\" \"/shared/CSHL_volumes/RV14_65hrs/RV14_65hrs_down32_annotationAsScoreVolume/score_volumes/RV14_65hrs_down32_annotationAsScoreVolume_10N_R_surround_200.bp\"\n"
     ]
    },
    {
     "name": "stderr",
     "output_type": "stream",
     "text": [
      "File does not exist: /shared/CSHL_volumes/RV14_65hrs/RV14_65hrs_down32_annotationAsScoreVolume/score_volumes/RV14_65hrs_down32_annotationAsScoreVolume_10N_R_surround_200.bp\n",
      "Error computing gradient for 10N_R_surround_200: [Errno 2] No such file or directory: '/shared/CSHL_volumes/RV14_65hrs/RV14_65hrs_down32_annotationAsScoreVolume/score_volumes/RV14_65hrs_down32_annotationAsScoreVolume_10N_R_surround_200.bp'.\n"
     ]
    },
    {
     "name": "stdout",
     "output_type": "stream",
     "text": [
      "12N\n",
      "rm -rf \"/shared/CSHL_volumes/RV14_65hrs/RV14_65hrs_down32_annotationAsScoreVolume/score_volumes/RV14_65hrs_down32_annotationAsScoreVolume_12N.bp\" && mkdir -p \"/shared/CSHL_volumes/RV14_65hrs/RV14_65hrs_down32_annotationAsScoreVolume/score_volumes\"\n",
      "aws s3 cp \"s3://mousebrainatlas-data/CSHL_volumes/RV14_65hrs/RV14_65hrs_down32_annotationAsScoreVolume/score_volumes/RV14_65hrs_down32_annotationAsScoreVolume_12N.bp\" \"/shared/CSHL_volumes/RV14_65hrs/RV14_65hrs_down32_annotationAsScoreVolume/score_volumes/RV14_65hrs_down32_annotationAsScoreVolume_12N.bp\"\n"
     ]
    },
    {
     "name": "stderr",
     "output_type": "stream",
     "text": [
      "File does not exist: /shared/CSHL_volumes/RV14_65hrs/RV14_65hrs_down32_annotationAsScoreVolume/score_volumes/RV14_65hrs_down32_annotationAsScoreVolume_12N.bp\n",
      "Error computing gradient for 12N: [Errno 2] No such file or directory: '/shared/CSHL_volumes/RV14_65hrs/RV14_65hrs_down32_annotationAsScoreVolume/score_volumes/RV14_65hrs_down32_annotationAsScoreVolume_12N.bp'.\n"
     ]
    },
    {
     "name": "stdout",
     "output_type": "stream",
     "text": [
      "12N_surround_200\n",
      "rm -rf \"/shared/CSHL_volumes/RV14_65hrs/RV14_65hrs_down32_annotationAsScoreVolume/score_volumes/RV14_65hrs_down32_annotationAsScoreVolume_12N_surround_200.bp\" && mkdir -p \"/shared/CSHL_volumes/RV14_65hrs/RV14_65hrs_down32_annotationAsScoreVolume/score_volumes\"\n",
      "aws s3 cp \"s3://mousebrainatlas-data/CSHL_volumes/RV14_65hrs/RV14_65hrs_down32_annotationAsScoreVolume/score_volumes/RV14_65hrs_down32_annotationAsScoreVolume_12N_surround_200.bp\" \"/shared/CSHL_volumes/RV14_65hrs/RV14_65hrs_down32_annotationAsScoreVolume/score_volumes/RV14_65hrs_down32_annotationAsScoreVolume_12N_surround_200.bp\"\n"
     ]
    },
    {
     "name": "stderr",
     "output_type": "stream",
     "text": [
      "File does not exist: /shared/CSHL_volumes/RV14_65hrs/RV14_65hrs_down32_annotationAsScoreVolume/score_volumes/RV14_65hrs_down32_annotationAsScoreVolume_12N_surround_200.bp\n",
      "Error computing gradient for 12N_surround_200: [Errno 2] No such file or directory: '/shared/CSHL_volumes/RV14_65hrs/RV14_65hrs_down32_annotationAsScoreVolume/score_volumes/RV14_65hrs_down32_annotationAsScoreVolume_12N_surround_200.bp'.\n"
     ]
    },
    {
     "name": "stdout",
     "output_type": "stream",
     "text": [
      "3N_L\n",
      "rm -rf \"/shared/CSHL_volumes/RV14_65hrs/RV14_65hrs_down32_annotationAsScoreVolume/score_volumes/RV14_65hrs_down32_annotationAsScoreVolume_3N_L.bp\" && mkdir -p \"/shared/CSHL_volumes/RV14_65hrs/RV14_65hrs_down32_annotationAsScoreVolume/score_volumes\"\n",
      "aws s3 cp \"s3://mousebrainatlas-data/CSHL_volumes/RV14_65hrs/RV14_65hrs_down32_annotationAsScoreVolume/score_volumes/RV14_65hrs_down32_annotationAsScoreVolume_3N_L.bp\" \"/shared/CSHL_volumes/RV14_65hrs/RV14_65hrs_down32_annotationAsScoreVolume/score_volumes/RV14_65hrs_down32_annotationAsScoreVolume_3N_L.bp\"\n"
     ]
    },
    {
     "name": "stderr",
     "output_type": "stream",
     "text": [
      "File does not exist: /shared/CSHL_volumes/RV14_65hrs/RV14_65hrs_down32_annotationAsScoreVolume/score_volumes/RV14_65hrs_down32_annotationAsScoreVolume_3N_L.bp\n",
      "Error computing gradient for 3N_L: [Errno 2] No such file or directory: '/shared/CSHL_volumes/RV14_65hrs/RV14_65hrs_down32_annotationAsScoreVolume/score_volumes/RV14_65hrs_down32_annotationAsScoreVolume_3N_L.bp'.\n"
     ]
    },
    {
     "name": "stdout",
     "output_type": "stream",
     "text": [
      "3N_L_surround_200\n",
      "rm -rf \"/shared/CSHL_volumes/RV14_65hrs/RV14_65hrs_down32_annotationAsScoreVolume/score_volumes/RV14_65hrs_down32_annotationAsScoreVolume_3N_L_surround_200.bp\" && mkdir -p \"/shared/CSHL_volumes/RV14_65hrs/RV14_65hrs_down32_annotationAsScoreVolume/score_volumes\"\n",
      "aws s3 cp \"s3://mousebrainatlas-data/CSHL_volumes/RV14_65hrs/RV14_65hrs_down32_annotationAsScoreVolume/score_volumes/RV14_65hrs_down32_annotationAsScoreVolume_3N_L_surround_200.bp\" \"/shared/CSHL_volumes/RV14_65hrs/RV14_65hrs_down32_annotationAsScoreVolume/score_volumes/RV14_65hrs_down32_annotationAsScoreVolume_3N_L_surround_200.bp\"\n"
     ]
    },
    {
     "name": "stderr",
     "output_type": "stream",
     "text": [
      "File does not exist: /shared/CSHL_volumes/RV14_65hrs/RV14_65hrs_down32_annotationAsScoreVolume/score_volumes/RV14_65hrs_down32_annotationAsScoreVolume_3N_L_surround_200.bp\n",
      "Error computing gradient for 3N_L_surround_200: [Errno 2] No such file or directory: '/shared/CSHL_volumes/RV14_65hrs/RV14_65hrs_down32_annotationAsScoreVolume/score_volumes/RV14_65hrs_down32_annotationAsScoreVolume_3N_L_surround_200.bp'.\n"
     ]
    },
    {
     "name": "stdout",
     "output_type": "stream",
     "text": [
      "3N_R\n",
      "rm -rf \"/shared/CSHL_volumes/RV14_65hrs/RV14_65hrs_down32_annotationAsScoreVolume/score_volumes/RV14_65hrs_down32_annotationAsScoreVolume_3N_R.bp\" && mkdir -p \"/shared/CSHL_volumes/RV14_65hrs/RV14_65hrs_down32_annotationAsScoreVolume/score_volumes\"\n",
      "aws s3 cp \"s3://mousebrainatlas-data/CSHL_volumes/RV14_65hrs/RV14_65hrs_down32_annotationAsScoreVolume/score_volumes/RV14_65hrs_down32_annotationAsScoreVolume_3N_R.bp\" \"/shared/CSHL_volumes/RV14_65hrs/RV14_65hrs_down32_annotationAsScoreVolume/score_volumes/RV14_65hrs_down32_annotationAsScoreVolume_3N_R.bp\"\n"
     ]
    },
    {
     "name": "stderr",
     "output_type": "stream",
     "text": [
      "File does not exist: /shared/CSHL_volumes/RV14_65hrs/RV14_65hrs_down32_annotationAsScoreVolume/score_volumes/RV14_65hrs_down32_annotationAsScoreVolume_3N_R.bp\n",
      "Error computing gradient for 3N_R: [Errno 2] No such file or directory: '/shared/CSHL_volumes/RV14_65hrs/RV14_65hrs_down32_annotationAsScoreVolume/score_volumes/RV14_65hrs_down32_annotationAsScoreVolume_3N_R.bp'.\n"
     ]
    },
    {
     "name": "stdout",
     "output_type": "stream",
     "text": [
      "3N_R_surround_200\n",
      "rm -rf \"/shared/CSHL_volumes/RV14_65hrs/RV14_65hrs_down32_annotationAsScoreVolume/score_volumes/RV14_65hrs_down32_annotationAsScoreVolume_3N_R_surround_200.bp\" && mkdir -p \"/shared/CSHL_volumes/RV14_65hrs/RV14_65hrs_down32_annotationAsScoreVolume/score_volumes\"\n",
      "aws s3 cp \"s3://mousebrainatlas-data/CSHL_volumes/RV14_65hrs/RV14_65hrs_down32_annotationAsScoreVolume/score_volumes/RV14_65hrs_down32_annotationAsScoreVolume_3N_R_surround_200.bp\" \"/shared/CSHL_volumes/RV14_65hrs/RV14_65hrs_down32_annotationAsScoreVolume/score_volumes/RV14_65hrs_down32_annotationAsScoreVolume_3N_R_surround_200.bp\"\n"
     ]
    },
    {
     "name": "stderr",
     "output_type": "stream",
     "text": [
      "File does not exist: /shared/CSHL_volumes/RV14_65hrs/RV14_65hrs_down32_annotationAsScoreVolume/score_volumes/RV14_65hrs_down32_annotationAsScoreVolume_3N_R_surround_200.bp\n",
      "Error computing gradient for 3N_R_surround_200: [Errno 2] No such file or directory: '/shared/CSHL_volumes/RV14_65hrs/RV14_65hrs_down32_annotationAsScoreVolume/score_volumes/RV14_65hrs_down32_annotationAsScoreVolume_3N_R_surround_200.bp'.\n"
     ]
    },
    {
     "name": "stdout",
     "output_type": "stream",
     "text": [
      "4N_L\n",
      "rm -rf \"/shared/CSHL_volumes/RV14_65hrs/RV14_65hrs_down32_annotationAsScoreVolume/score_volumes/RV14_65hrs_down32_annotationAsScoreVolume_4N_L.bp\" && mkdir -p \"/shared/CSHL_volumes/RV14_65hrs/RV14_65hrs_down32_annotationAsScoreVolume/score_volumes\"\n",
      "aws s3 cp \"s3://mousebrainatlas-data/CSHL_volumes/RV14_65hrs/RV14_65hrs_down32_annotationAsScoreVolume/score_volumes/RV14_65hrs_down32_annotationAsScoreVolume_4N_L.bp\" \"/shared/CSHL_volumes/RV14_65hrs/RV14_65hrs_down32_annotationAsScoreVolume/score_volumes/RV14_65hrs_down32_annotationAsScoreVolume_4N_L.bp\"\n"
     ]
    },
    {
     "name": "stderr",
     "output_type": "stream",
     "text": [
      "File does not exist: /shared/CSHL_volumes/RV14_65hrs/RV14_65hrs_down32_annotationAsScoreVolume/score_volumes/RV14_65hrs_down32_annotationAsScoreVolume_4N_L.bp\n",
      "Error computing gradient for 4N_L: [Errno 2] No such file or directory: '/shared/CSHL_volumes/RV14_65hrs/RV14_65hrs_down32_annotationAsScoreVolume/score_volumes/RV14_65hrs_down32_annotationAsScoreVolume_4N_L.bp'.\n"
     ]
    },
    {
     "name": "stdout",
     "output_type": "stream",
     "text": [
      "4N_L_surround_200\n",
      "rm -rf \"/shared/CSHL_volumes/RV14_65hrs/RV14_65hrs_down32_annotationAsScoreVolume/score_volumes/RV14_65hrs_down32_annotationAsScoreVolume_4N_L_surround_200.bp\" && mkdir -p \"/shared/CSHL_volumes/RV14_65hrs/RV14_65hrs_down32_annotationAsScoreVolume/score_volumes\"\n",
      "aws s3 cp \"s3://mousebrainatlas-data/CSHL_volumes/RV14_65hrs/RV14_65hrs_down32_annotationAsScoreVolume/score_volumes/RV14_65hrs_down32_annotationAsScoreVolume_4N_L_surround_200.bp\" \"/shared/CSHL_volumes/RV14_65hrs/RV14_65hrs_down32_annotationAsScoreVolume/score_volumes/RV14_65hrs_down32_annotationAsScoreVolume_4N_L_surround_200.bp\"\n"
     ]
    },
    {
     "name": "stderr",
     "output_type": "stream",
     "text": [
      "File does not exist: /shared/CSHL_volumes/RV14_65hrs/RV14_65hrs_down32_annotationAsScoreVolume/score_volumes/RV14_65hrs_down32_annotationAsScoreVolume_4N_L_surround_200.bp\n",
      "Error computing gradient for 4N_L_surround_200: [Errno 2] No such file or directory: '/shared/CSHL_volumes/RV14_65hrs/RV14_65hrs_down32_annotationAsScoreVolume/score_volumes/RV14_65hrs_down32_annotationAsScoreVolume_4N_L_surround_200.bp'.\n"
     ]
    },
    {
     "name": "stdout",
     "output_type": "stream",
     "text": [
      "4N_R\n",
      "rm -rf \"/shared/CSHL_volumes/RV14_65hrs/RV14_65hrs_down32_annotationAsScoreVolume/score_volumes/RV14_65hrs_down32_annotationAsScoreVolume_4N_R.bp\" && mkdir -p \"/shared/CSHL_volumes/RV14_65hrs/RV14_65hrs_down32_annotationAsScoreVolume/score_volumes\"\n",
      "aws s3 cp \"s3://mousebrainatlas-data/CSHL_volumes/RV14_65hrs/RV14_65hrs_down32_annotationAsScoreVolume/score_volumes/RV14_65hrs_down32_annotationAsScoreVolume_4N_R.bp\" \"/shared/CSHL_volumes/RV14_65hrs/RV14_65hrs_down32_annotationAsScoreVolume/score_volumes/RV14_65hrs_down32_annotationAsScoreVolume_4N_R.bp\"\n"
     ]
    },
    {
     "name": "stderr",
     "output_type": "stream",
     "text": [
      "File does not exist: /shared/CSHL_volumes/RV14_65hrs/RV14_65hrs_down32_annotationAsScoreVolume/score_volumes/RV14_65hrs_down32_annotationAsScoreVolume_4N_R.bp\n",
      "Error computing gradient for 4N_R: [Errno 2] No such file or directory: '/shared/CSHL_volumes/RV14_65hrs/RV14_65hrs_down32_annotationAsScoreVolume/score_volumes/RV14_65hrs_down32_annotationAsScoreVolume_4N_R.bp'.\n"
     ]
    },
    {
     "name": "stdout",
     "output_type": "stream",
     "text": [
      "4N_R_surround_200\n",
      "rm -rf \"/shared/CSHL_volumes/RV14_65hrs/RV14_65hrs_down32_annotationAsScoreVolume/score_volumes/RV14_65hrs_down32_annotationAsScoreVolume_4N_R_surround_200.bp\" && mkdir -p \"/shared/CSHL_volumes/RV14_65hrs/RV14_65hrs_down32_annotationAsScoreVolume/score_volumes\"\n",
      "aws s3 cp \"s3://mousebrainatlas-data/CSHL_volumes/RV14_65hrs/RV14_65hrs_down32_annotationAsScoreVolume/score_volumes/RV14_65hrs_down32_annotationAsScoreVolume_4N_R_surround_200.bp\" \"/shared/CSHL_volumes/RV14_65hrs/RV14_65hrs_down32_annotationAsScoreVolume/score_volumes/RV14_65hrs_down32_annotationAsScoreVolume_4N_R_surround_200.bp\"\n"
     ]
    },
    {
     "name": "stderr",
     "output_type": "stream",
     "text": [
      "File does not exist: /shared/CSHL_volumes/RV14_65hrs/RV14_65hrs_down32_annotationAsScoreVolume/score_volumes/RV14_65hrs_down32_annotationAsScoreVolume_4N_R_surround_200.bp\n",
      "Error computing gradient for 4N_R_surround_200: [Errno 2] No such file or directory: '/shared/CSHL_volumes/RV14_65hrs/RV14_65hrs_down32_annotationAsScoreVolume/score_volumes/RV14_65hrs_down32_annotationAsScoreVolume_4N_R_surround_200.bp'.\n"
     ]
    },
    {
     "name": "stdout",
     "output_type": "stream",
     "text": [
      "5N_L\n"
     ]
    },
    {
     "name": "stderr",
     "output_type": "stream",
     "text": [
      "Gradient 5N_L: 0.884040 seconds\n"
     ]
    },
    {
     "name": "stdout",
     "output_type": "stream",
     "text": [
      "aws s3 cp \"/shared/CSHL_volumes/RV14_65hrs/RV14_65hrs_down32_annotationAsScoreVolume/score_volume_gradients/RV14_65hrs_down32_annotationAsScoreVolume_5N_L_gx.bp\" \"s3://mousebrainatlas-data/CSHL_volumes/RV14_65hrs/RV14_65hrs_down32_annotationAsScoreVolume/score_volume_gradients/RV14_65hrs_down32_annotationAsScoreVolume_5N_L_gx.bp\"\n",
      "aws s3 cp \"/shared/CSHL_volumes/RV14_65hrs/RV14_65hrs_down32_annotationAsScoreVolume/score_volume_gradients/RV14_65hrs_down32_annotationAsScoreVolume_5N_L_gy.bp\" \"s3://mousebrainatlas-data/CSHL_volumes/RV14_65hrs/RV14_65hrs_down32_annotationAsScoreVolume/score_volume_gradients/RV14_65hrs_down32_annotationAsScoreVolume_5N_L_gy.bp\"\n",
      "aws s3 cp \"/shared/CSHL_volumes/RV14_65hrs/RV14_65hrs_down32_annotationAsScoreVolume/score_volume_gradients/RV14_65hrs_down32_annotationAsScoreVolume_5N_L_gz.bp\" \"s3://mousebrainatlas-data/CSHL_volumes/RV14_65hrs/RV14_65hrs_down32_annotationAsScoreVolume/score_volume_gradients/RV14_65hrs_down32_annotationAsScoreVolume_5N_L_gz.bp\"\n"
     ]
    },
    {
     "name": "stderr",
     "output_type": "stream",
     "text": [
      "save 5N_L: 1.486455 seconds\n"
     ]
    },
    {
     "name": "stdout",
     "output_type": "stream",
     "text": [
      "5N_L_surround_200\n"
     ]
    },
    {
     "name": "stderr",
     "output_type": "stream",
     "text": [
      "Gradient 5N_L_surround_200: 0.887394 seconds\n"
     ]
    },
    {
     "name": "stdout",
     "output_type": "stream",
     "text": [
      "aws s3 cp \"/shared/CSHL_volumes/RV14_65hrs/RV14_65hrs_down32_annotationAsScoreVolume/score_volume_gradients/RV14_65hrs_down32_annotationAsScoreVolume_5N_L_surround_200_gx.bp\" \"s3://mousebrainatlas-data/CSHL_volumes/RV14_65hrs/RV14_65hrs_down32_annotationAsScoreVolume/score_volume_gradients/RV14_65hrs_down32_annotationAsScoreVolume_5N_L_surround_200_gx.bp\"\n",
      "aws s3 cp \"/shared/CSHL_volumes/RV14_65hrs/RV14_65hrs_down32_annotationAsScoreVolume/score_volume_gradients/RV14_65hrs_down32_annotationAsScoreVolume_5N_L_surround_200_gy.bp\" \"s3://mousebrainatlas-data/CSHL_volumes/RV14_65hrs/RV14_65hrs_down32_annotationAsScoreVolume/score_volume_gradients/RV14_65hrs_down32_annotationAsScoreVolume_5N_L_surround_200_gy.bp\"\n",
      "aws s3 cp \"/shared/CSHL_volumes/RV14_65hrs/RV14_65hrs_down32_annotationAsScoreVolume/score_volume_gradients/RV14_65hrs_down32_annotationAsScoreVolume_5N_L_surround_200_gz.bp\" \"s3://mousebrainatlas-data/CSHL_volumes/RV14_65hrs/RV14_65hrs_down32_annotationAsScoreVolume/score_volume_gradients/RV14_65hrs_down32_annotationAsScoreVolume_5N_L_surround_200_gz.bp\"\n"
     ]
    },
    {
     "name": "stderr",
     "output_type": "stream",
     "text": [
      "save 5N_L_surround_200: 1.490597 seconds\n"
     ]
    },
    {
     "name": "stdout",
     "output_type": "stream",
     "text": [
      "5N_R\n"
     ]
    },
    {
     "name": "stderr",
     "output_type": "stream",
     "text": [
      "Gradient 5N_R: 0.885430 seconds\n"
     ]
    },
    {
     "name": "stdout",
     "output_type": "stream",
     "text": [
      "aws s3 cp \"/shared/CSHL_volumes/RV14_65hrs/RV14_65hrs_down32_annotationAsScoreVolume/score_volume_gradients/RV14_65hrs_down32_annotationAsScoreVolume_5N_R_gx.bp\" \"s3://mousebrainatlas-data/CSHL_volumes/RV14_65hrs/RV14_65hrs_down32_annotationAsScoreVolume/score_volume_gradients/RV14_65hrs_down32_annotationAsScoreVolume_5N_R_gx.bp\"\n",
      "aws s3 cp \"/shared/CSHL_volumes/RV14_65hrs/RV14_65hrs_down32_annotationAsScoreVolume/score_volume_gradients/RV14_65hrs_down32_annotationAsScoreVolume_5N_R_gy.bp\" \"s3://mousebrainatlas-data/CSHL_volumes/RV14_65hrs/RV14_65hrs_down32_annotationAsScoreVolume/score_volume_gradients/RV14_65hrs_down32_annotationAsScoreVolume_5N_R_gy.bp\"\n",
      "aws s3 cp \"/shared/CSHL_volumes/RV14_65hrs/RV14_65hrs_down32_annotationAsScoreVolume/score_volume_gradients/RV14_65hrs_down32_annotationAsScoreVolume_5N_R_gz.bp\" \"s3://mousebrainatlas-data/CSHL_volumes/RV14_65hrs/RV14_65hrs_down32_annotationAsScoreVolume/score_volume_gradients/RV14_65hrs_down32_annotationAsScoreVolume_5N_R_gz.bp\"\n"
     ]
    },
    {
     "name": "stderr",
     "output_type": "stream",
     "text": [
      "save 5N_R: 1.582737 seconds\n"
     ]
    },
    {
     "name": "stdout",
     "output_type": "stream",
     "text": [
      "5N_R_surround_200\n"
     ]
    },
    {
     "name": "stderr",
     "output_type": "stream",
     "text": [
      "Gradient 5N_R_surround_200: 0.885325 seconds\n"
     ]
    },
    {
     "name": "stdout",
     "output_type": "stream",
     "text": [
      "aws s3 cp \"/shared/CSHL_volumes/RV14_65hrs/RV14_65hrs_down32_annotationAsScoreVolume/score_volume_gradients/RV14_65hrs_down32_annotationAsScoreVolume_5N_R_surround_200_gx.bp\" \"s3://mousebrainatlas-data/CSHL_volumes/RV14_65hrs/RV14_65hrs_down32_annotationAsScoreVolume/score_volume_gradients/RV14_65hrs_down32_annotationAsScoreVolume_5N_R_surround_200_gx.bp\"\n",
      "aws s3 cp \"/shared/CSHL_volumes/RV14_65hrs/RV14_65hrs_down32_annotationAsScoreVolume/score_volume_gradients/RV14_65hrs_down32_annotationAsScoreVolume_5N_R_surround_200_gy.bp\" \"s3://mousebrainatlas-data/CSHL_volumes/RV14_65hrs/RV14_65hrs_down32_annotationAsScoreVolume/score_volume_gradients/RV14_65hrs_down32_annotationAsScoreVolume_5N_R_surround_200_gy.bp\"\n",
      "aws s3 cp \"/shared/CSHL_volumes/RV14_65hrs/RV14_65hrs_down32_annotationAsScoreVolume/score_volume_gradients/RV14_65hrs_down32_annotationAsScoreVolume_5N_R_surround_200_gz.bp\" \"s3://mousebrainatlas-data/CSHL_volumes/RV14_65hrs/RV14_65hrs_down32_annotationAsScoreVolume/score_volume_gradients/RV14_65hrs_down32_annotationAsScoreVolume_5N_R_surround_200_gz.bp\"\n"
     ]
    },
    {
     "name": "stderr",
     "output_type": "stream",
     "text": [
      "save 5N_R_surround_200: 1.498600 seconds\n"
     ]
    },
    {
     "name": "stdout",
     "output_type": "stream",
     "text": [
      "6N_L\n",
      "rm -rf \"/shared/CSHL_volumes/RV14_65hrs/RV14_65hrs_down32_annotationAsScoreVolume/score_volumes/RV14_65hrs_down32_annotationAsScoreVolume_6N_L.bp\" && mkdir -p \"/shared/CSHL_volumes/RV14_65hrs/RV14_65hrs_down32_annotationAsScoreVolume/score_volumes\"\n",
      "aws s3 cp \"s3://mousebrainatlas-data/CSHL_volumes/RV14_65hrs/RV14_65hrs_down32_annotationAsScoreVolume/score_volumes/RV14_65hrs_down32_annotationAsScoreVolume_6N_L.bp\" \"/shared/CSHL_volumes/RV14_65hrs/RV14_65hrs_down32_annotationAsScoreVolume/score_volumes/RV14_65hrs_down32_annotationAsScoreVolume_6N_L.bp\"\n"
     ]
    },
    {
     "name": "stderr",
     "output_type": "stream",
     "text": [
      "File does not exist: /shared/CSHL_volumes/RV14_65hrs/RV14_65hrs_down32_annotationAsScoreVolume/score_volumes/RV14_65hrs_down32_annotationAsScoreVolume_6N_L.bp\n",
      "Error computing gradient for 6N_L: [Errno 2] No such file or directory: '/shared/CSHL_volumes/RV14_65hrs/RV14_65hrs_down32_annotationAsScoreVolume/score_volumes/RV14_65hrs_down32_annotationAsScoreVolume_6N_L.bp'.\n"
     ]
    },
    {
     "name": "stdout",
     "output_type": "stream",
     "text": [
      "6N_L_surround_200\n",
      "rm -rf \"/shared/CSHL_volumes/RV14_65hrs/RV14_65hrs_down32_annotationAsScoreVolume/score_volumes/RV14_65hrs_down32_annotationAsScoreVolume_6N_L_surround_200.bp\" && mkdir -p \"/shared/CSHL_volumes/RV14_65hrs/RV14_65hrs_down32_annotationAsScoreVolume/score_volumes\"\n",
      "aws s3 cp \"s3://mousebrainatlas-data/CSHL_volumes/RV14_65hrs/RV14_65hrs_down32_annotationAsScoreVolume/score_volumes/RV14_65hrs_down32_annotationAsScoreVolume_6N_L_surround_200.bp\" \"/shared/CSHL_volumes/RV14_65hrs/RV14_65hrs_down32_annotationAsScoreVolume/score_volumes/RV14_65hrs_down32_annotationAsScoreVolume_6N_L_surround_200.bp\"\n"
     ]
    },
    {
     "name": "stderr",
     "output_type": "stream",
     "text": [
      "File does not exist: /shared/CSHL_volumes/RV14_65hrs/RV14_65hrs_down32_annotationAsScoreVolume/score_volumes/RV14_65hrs_down32_annotationAsScoreVolume_6N_L_surround_200.bp\n",
      "Error computing gradient for 6N_L_surround_200: [Errno 2] No such file or directory: '/shared/CSHL_volumes/RV14_65hrs/RV14_65hrs_down32_annotationAsScoreVolume/score_volumes/RV14_65hrs_down32_annotationAsScoreVolume_6N_L_surround_200.bp'.\n"
     ]
    },
    {
     "name": "stdout",
     "output_type": "stream",
     "text": [
      "6N_R\n",
      "rm -rf \"/shared/CSHL_volumes/RV14_65hrs/RV14_65hrs_down32_annotationAsScoreVolume/score_volumes/RV14_65hrs_down32_annotationAsScoreVolume_6N_R.bp\" && mkdir -p \"/shared/CSHL_volumes/RV14_65hrs/RV14_65hrs_down32_annotationAsScoreVolume/score_volumes\"\n",
      "aws s3 cp \"s3://mousebrainatlas-data/CSHL_volumes/RV14_65hrs/RV14_65hrs_down32_annotationAsScoreVolume/score_volumes/RV14_65hrs_down32_annotationAsScoreVolume_6N_R.bp\" \"/shared/CSHL_volumes/RV14_65hrs/RV14_65hrs_down32_annotationAsScoreVolume/score_volumes/RV14_65hrs_down32_annotationAsScoreVolume_6N_R.bp\"\n"
     ]
    },
    {
     "name": "stderr",
     "output_type": "stream",
     "text": [
      "File does not exist: /shared/CSHL_volumes/RV14_65hrs/RV14_65hrs_down32_annotationAsScoreVolume/score_volumes/RV14_65hrs_down32_annotationAsScoreVolume_6N_R.bp\n",
      "Error computing gradient for 6N_R: [Errno 2] No such file or directory: '/shared/CSHL_volumes/RV14_65hrs/RV14_65hrs_down32_annotationAsScoreVolume/score_volumes/RV14_65hrs_down32_annotationAsScoreVolume_6N_R.bp'.\n"
     ]
    },
    {
     "name": "stdout",
     "output_type": "stream",
     "text": [
      "6N_R_surround_200\n",
      "rm -rf \"/shared/CSHL_volumes/RV14_65hrs/RV14_65hrs_down32_annotationAsScoreVolume/score_volumes/RV14_65hrs_down32_annotationAsScoreVolume_6N_R_surround_200.bp\" && mkdir -p \"/shared/CSHL_volumes/RV14_65hrs/RV14_65hrs_down32_annotationAsScoreVolume/score_volumes\"\n",
      "aws s3 cp \"s3://mousebrainatlas-data/CSHL_volumes/RV14_65hrs/RV14_65hrs_down32_annotationAsScoreVolume/score_volumes/RV14_65hrs_down32_annotationAsScoreVolume_6N_R_surround_200.bp\" \"/shared/CSHL_volumes/RV14_65hrs/RV14_65hrs_down32_annotationAsScoreVolume/score_volumes/RV14_65hrs_down32_annotationAsScoreVolume_6N_R_surround_200.bp\"\n"
     ]
    },
    {
     "name": "stderr",
     "output_type": "stream",
     "text": [
      "File does not exist: /shared/CSHL_volumes/RV14_65hrs/RV14_65hrs_down32_annotationAsScoreVolume/score_volumes/RV14_65hrs_down32_annotationAsScoreVolume_6N_R_surround_200.bp\n",
      "Error computing gradient for 6N_R_surround_200: [Errno 2] No such file or directory: '/shared/CSHL_volumes/RV14_65hrs/RV14_65hrs_down32_annotationAsScoreVolume/score_volumes/RV14_65hrs_down32_annotationAsScoreVolume_6N_R_surround_200.bp'.\n"
     ]
    },
    {
     "name": "stdout",
     "output_type": "stream",
     "text": [
      "7N_L\n"
     ]
    },
    {
     "name": "stderr",
     "output_type": "stream",
     "text": [
      "Gradient 7N_L: 0.884963 seconds\n"
     ]
    },
    {
     "name": "stdout",
     "output_type": "stream",
     "text": [
      "aws s3 cp \"/shared/CSHL_volumes/RV14_65hrs/RV14_65hrs_down32_annotationAsScoreVolume/score_volume_gradients/RV14_65hrs_down32_annotationAsScoreVolume_7N_L_gx.bp\" \"s3://mousebrainatlas-data/CSHL_volumes/RV14_65hrs/RV14_65hrs_down32_annotationAsScoreVolume/score_volume_gradients/RV14_65hrs_down32_annotationAsScoreVolume_7N_L_gx.bp\"\n",
      "aws s3 cp \"/shared/CSHL_volumes/RV14_65hrs/RV14_65hrs_down32_annotationAsScoreVolume/score_volume_gradients/RV14_65hrs_down32_annotationAsScoreVolume_7N_L_gy.bp\" \"s3://mousebrainatlas-data/CSHL_volumes/RV14_65hrs/RV14_65hrs_down32_annotationAsScoreVolume/score_volume_gradients/RV14_65hrs_down32_annotationAsScoreVolume_7N_L_gy.bp\"\n",
      "aws s3 cp \"/shared/CSHL_volumes/RV14_65hrs/RV14_65hrs_down32_annotationAsScoreVolume/score_volume_gradients/RV14_65hrs_down32_annotationAsScoreVolume_7N_L_gz.bp\" \"s3://mousebrainatlas-data/CSHL_volumes/RV14_65hrs/RV14_65hrs_down32_annotationAsScoreVolume/score_volume_gradients/RV14_65hrs_down32_annotationAsScoreVolume_7N_L_gz.bp\"\n"
     ]
    },
    {
     "name": "stderr",
     "output_type": "stream",
     "text": [
      "save 7N_L: 1.487474 seconds\n"
     ]
    },
    {
     "name": "stdout",
     "output_type": "stream",
     "text": [
      "7N_L_surround_200\n"
     ]
    },
    {
     "name": "stderr",
     "output_type": "stream",
     "text": [
      "Gradient 7N_L_surround_200: 0.885593 seconds\n"
     ]
    },
    {
     "name": "stdout",
     "output_type": "stream",
     "text": [
      "aws s3 cp \"/shared/CSHL_volumes/RV14_65hrs/RV14_65hrs_down32_annotationAsScoreVolume/score_volume_gradients/RV14_65hrs_down32_annotationAsScoreVolume_7N_L_surround_200_gx.bp\" \"s3://mousebrainatlas-data/CSHL_volumes/RV14_65hrs/RV14_65hrs_down32_annotationAsScoreVolume/score_volume_gradients/RV14_65hrs_down32_annotationAsScoreVolume_7N_L_surround_200_gx.bp\"\n",
      "aws s3 cp \"/shared/CSHL_volumes/RV14_65hrs/RV14_65hrs_down32_annotationAsScoreVolume/score_volume_gradients/RV14_65hrs_down32_annotationAsScoreVolume_7N_L_surround_200_gy.bp\" \"s3://mousebrainatlas-data/CSHL_volumes/RV14_65hrs/RV14_65hrs_down32_annotationAsScoreVolume/score_volume_gradients/RV14_65hrs_down32_annotationAsScoreVolume_7N_L_surround_200_gy.bp\"\n",
      "aws s3 cp \"/shared/CSHL_volumes/RV14_65hrs/RV14_65hrs_down32_annotationAsScoreVolume/score_volume_gradients/RV14_65hrs_down32_annotationAsScoreVolume_7N_L_surround_200_gz.bp\" \"s3://mousebrainatlas-data/CSHL_volumes/RV14_65hrs/RV14_65hrs_down32_annotationAsScoreVolume/score_volume_gradients/RV14_65hrs_down32_annotationAsScoreVolume_7N_L_surround_200_gz.bp\"\n"
     ]
    },
    {
     "name": "stderr",
     "output_type": "stream",
     "text": [
      "save 7N_L_surround_200: 1.505856 seconds\n"
     ]
    },
    {
     "name": "stdout",
     "output_type": "stream",
     "text": [
      "7N_R\n"
     ]
    },
    {
     "name": "stderr",
     "output_type": "stream",
     "text": [
      "Gradient 7N_R: 0.885645 seconds\n"
     ]
    },
    {
     "name": "stdout",
     "output_type": "stream",
     "text": [
      "aws s3 cp \"/shared/CSHL_volumes/RV14_65hrs/RV14_65hrs_down32_annotationAsScoreVolume/score_volume_gradients/RV14_65hrs_down32_annotationAsScoreVolume_7N_R_gx.bp\" \"s3://mousebrainatlas-data/CSHL_volumes/RV14_65hrs/RV14_65hrs_down32_annotationAsScoreVolume/score_volume_gradients/RV14_65hrs_down32_annotationAsScoreVolume_7N_R_gx.bp\"\n",
      "aws s3 cp \"/shared/CSHL_volumes/RV14_65hrs/RV14_65hrs_down32_annotationAsScoreVolume/score_volume_gradients/RV14_65hrs_down32_annotationAsScoreVolume_7N_R_gy.bp\" \"s3://mousebrainatlas-data/CSHL_volumes/RV14_65hrs/RV14_65hrs_down32_annotationAsScoreVolume/score_volume_gradients/RV14_65hrs_down32_annotationAsScoreVolume_7N_R_gy.bp\"\n",
      "aws s3 cp \"/shared/CSHL_volumes/RV14_65hrs/RV14_65hrs_down32_annotationAsScoreVolume/score_volume_gradients/RV14_65hrs_down32_annotationAsScoreVolume_7N_R_gz.bp\" \"s3://mousebrainatlas-data/CSHL_volumes/RV14_65hrs/RV14_65hrs_down32_annotationAsScoreVolume/score_volume_gradients/RV14_65hrs_down32_annotationAsScoreVolume_7N_R_gz.bp\"\n"
     ]
    },
    {
     "name": "stderr",
     "output_type": "stream",
     "text": [
      "save 7N_R: 1.539529 seconds\n"
     ]
    },
    {
     "name": "stdout",
     "output_type": "stream",
     "text": [
      "7N_R_surround_200\n"
     ]
    },
    {
     "name": "stderr",
     "output_type": "stream",
     "text": [
      "Gradient 7N_R_surround_200: 0.886380 seconds\n"
     ]
    },
    {
     "name": "stdout",
     "output_type": "stream",
     "text": [
      "aws s3 cp \"/shared/CSHL_volumes/RV14_65hrs/RV14_65hrs_down32_annotationAsScoreVolume/score_volume_gradients/RV14_65hrs_down32_annotationAsScoreVolume_7N_R_surround_200_gx.bp\" \"s3://mousebrainatlas-data/CSHL_volumes/RV14_65hrs/RV14_65hrs_down32_annotationAsScoreVolume/score_volume_gradients/RV14_65hrs_down32_annotationAsScoreVolume_7N_R_surround_200_gx.bp\"\n",
      "aws s3 cp \"/shared/CSHL_volumes/RV14_65hrs/RV14_65hrs_down32_annotationAsScoreVolume/score_volume_gradients/RV14_65hrs_down32_annotationAsScoreVolume_7N_R_surround_200_gy.bp\" \"s3://mousebrainatlas-data/CSHL_volumes/RV14_65hrs/RV14_65hrs_down32_annotationAsScoreVolume/score_volume_gradients/RV14_65hrs_down32_annotationAsScoreVolume_7N_R_surround_200_gy.bp\"\n",
      "aws s3 cp \"/shared/CSHL_volumes/RV14_65hrs/RV14_65hrs_down32_annotationAsScoreVolume/score_volume_gradients/RV14_65hrs_down32_annotationAsScoreVolume_7N_R_surround_200_gz.bp\" \"s3://mousebrainatlas-data/CSHL_volumes/RV14_65hrs/RV14_65hrs_down32_annotationAsScoreVolume/score_volume_gradients/RV14_65hrs_down32_annotationAsScoreVolume_7N_R_surround_200_gz.bp\"\n"
     ]
    },
    {
     "name": "stderr",
     "output_type": "stream",
     "text": [
      "save 7N_R_surround_200: 1.557433 seconds\n"
     ]
    },
    {
     "name": "stdout",
     "output_type": "stream",
     "text": [
      "7n_L\n"
     ]
    },
    {
     "name": "stderr",
     "output_type": "stream",
     "text": [
      "Gradient 7n_L: 0.885548 seconds\n"
     ]
    },
    {
     "name": "stdout",
     "output_type": "stream",
     "text": [
      "aws s3 cp \"/shared/CSHL_volumes/RV14_65hrs/RV14_65hrs_down32_annotationAsScoreVolume/score_volume_gradients/RV14_65hrs_down32_annotationAsScoreVolume_7n_L_gx.bp\" \"s3://mousebrainatlas-data/CSHL_volumes/RV14_65hrs/RV14_65hrs_down32_annotationAsScoreVolume/score_volume_gradients/RV14_65hrs_down32_annotationAsScoreVolume_7n_L_gx.bp\"\n",
      "aws s3 cp \"/shared/CSHL_volumes/RV14_65hrs/RV14_65hrs_down32_annotationAsScoreVolume/score_volume_gradients/RV14_65hrs_down32_annotationAsScoreVolume_7n_L_gy.bp\" \"s3://mousebrainatlas-data/CSHL_volumes/RV14_65hrs/RV14_65hrs_down32_annotationAsScoreVolume/score_volume_gradients/RV14_65hrs_down32_annotationAsScoreVolume_7n_L_gy.bp\"\n",
      "aws s3 cp \"/shared/CSHL_volumes/RV14_65hrs/RV14_65hrs_down32_annotationAsScoreVolume/score_volume_gradients/RV14_65hrs_down32_annotationAsScoreVolume_7n_L_gz.bp\" \"s3://mousebrainatlas-data/CSHL_volumes/RV14_65hrs/RV14_65hrs_down32_annotationAsScoreVolume/score_volume_gradients/RV14_65hrs_down32_annotationAsScoreVolume_7n_L_gz.bp\"\n"
     ]
    },
    {
     "name": "stderr",
     "output_type": "stream",
     "text": [
      "save 7n_L: 1.589987 seconds\n"
     ]
    },
    {
     "name": "stdout",
     "output_type": "stream",
     "text": [
      "7n_L_surround_200\n"
     ]
    },
    {
     "name": "stderr",
     "output_type": "stream",
     "text": [
      "Gradient 7n_L_surround_200: 0.886124 seconds\n"
     ]
    },
    {
     "name": "stdout",
     "output_type": "stream",
     "text": [
      "aws s3 cp \"/shared/CSHL_volumes/RV14_65hrs/RV14_65hrs_down32_annotationAsScoreVolume/score_volume_gradients/RV14_65hrs_down32_annotationAsScoreVolume_7n_L_surround_200_gx.bp\" \"s3://mousebrainatlas-data/CSHL_volumes/RV14_65hrs/RV14_65hrs_down32_annotationAsScoreVolume/score_volume_gradients/RV14_65hrs_down32_annotationAsScoreVolume_7n_L_surround_200_gx.bp\"\n",
      "aws s3 cp \"/shared/CSHL_volumes/RV14_65hrs/RV14_65hrs_down32_annotationAsScoreVolume/score_volume_gradients/RV14_65hrs_down32_annotationAsScoreVolume_7n_L_surround_200_gy.bp\" \"s3://mousebrainatlas-data/CSHL_volumes/RV14_65hrs/RV14_65hrs_down32_annotationAsScoreVolume/score_volume_gradients/RV14_65hrs_down32_annotationAsScoreVolume_7n_L_surround_200_gy.bp\"\n",
      "aws s3 cp \"/shared/CSHL_volumes/RV14_65hrs/RV14_65hrs_down32_annotationAsScoreVolume/score_volume_gradients/RV14_65hrs_down32_annotationAsScoreVolume_7n_L_surround_200_gz.bp\" \"s3://mousebrainatlas-data/CSHL_volumes/RV14_65hrs/RV14_65hrs_down32_annotationAsScoreVolume/score_volume_gradients/RV14_65hrs_down32_annotationAsScoreVolume_7n_L_surround_200_gz.bp\"\n"
     ]
    },
    {
     "name": "stderr",
     "output_type": "stream",
     "text": [
      "save 7n_L_surround_200: 1.613664 seconds\n"
     ]
    },
    {
     "name": "stdout",
     "output_type": "stream",
     "text": [
      "7n_R\n"
     ]
    },
    {
     "name": "stderr",
     "output_type": "stream",
     "text": [
      "Gradient 7n_R: 0.885454 seconds\n"
     ]
    },
    {
     "name": "stdout",
     "output_type": "stream",
     "text": [
      "aws s3 cp \"/shared/CSHL_volumes/RV14_65hrs/RV14_65hrs_down32_annotationAsScoreVolume/score_volume_gradients/RV14_65hrs_down32_annotationAsScoreVolume_7n_R_gx.bp\" \"s3://mousebrainatlas-data/CSHL_volumes/RV14_65hrs/RV14_65hrs_down32_annotationAsScoreVolume/score_volume_gradients/RV14_65hrs_down32_annotationAsScoreVolume_7n_R_gx.bp\"\n",
      "aws s3 cp \"/shared/CSHL_volumes/RV14_65hrs/RV14_65hrs_down32_annotationAsScoreVolume/score_volume_gradients/RV14_65hrs_down32_annotationAsScoreVolume_7n_R_gy.bp\" \"s3://mousebrainatlas-data/CSHL_volumes/RV14_65hrs/RV14_65hrs_down32_annotationAsScoreVolume/score_volume_gradients/RV14_65hrs_down32_annotationAsScoreVolume_7n_R_gy.bp\"\n",
      "aws s3 cp \"/shared/CSHL_volumes/RV14_65hrs/RV14_65hrs_down32_annotationAsScoreVolume/score_volume_gradients/RV14_65hrs_down32_annotationAsScoreVolume_7n_R_gz.bp\" \"s3://mousebrainatlas-data/CSHL_volumes/RV14_65hrs/RV14_65hrs_down32_annotationAsScoreVolume/score_volume_gradients/RV14_65hrs_down32_annotationAsScoreVolume_7n_R_gz.bp\"\n"
     ]
    },
    {
     "name": "stderr",
     "output_type": "stream",
     "text": [
      "save 7n_R: 1.603558 seconds\n"
     ]
    },
    {
     "name": "stdout",
     "output_type": "stream",
     "text": [
      "7n_R_surround_200\n"
     ]
    },
    {
     "name": "stderr",
     "output_type": "stream",
     "text": [
      "Gradient 7n_R_surround_200: 0.886619 seconds\n"
     ]
    },
    {
     "name": "stdout",
     "output_type": "stream",
     "text": [
      "aws s3 cp \"/shared/CSHL_volumes/RV14_65hrs/RV14_65hrs_down32_annotationAsScoreVolume/score_volume_gradients/RV14_65hrs_down32_annotationAsScoreVolume_7n_R_surround_200_gx.bp\" \"s3://mousebrainatlas-data/CSHL_volumes/RV14_65hrs/RV14_65hrs_down32_annotationAsScoreVolume/score_volume_gradients/RV14_65hrs_down32_annotationAsScoreVolume_7n_R_surround_200_gx.bp\"\n",
      "aws s3 cp \"/shared/CSHL_volumes/RV14_65hrs/RV14_65hrs_down32_annotationAsScoreVolume/score_volume_gradients/RV14_65hrs_down32_annotationAsScoreVolume_7n_R_surround_200_gy.bp\" \"s3://mousebrainatlas-data/CSHL_volumes/RV14_65hrs/RV14_65hrs_down32_annotationAsScoreVolume/score_volume_gradients/RV14_65hrs_down32_annotationAsScoreVolume_7n_R_surround_200_gy.bp\"\n",
      "aws s3 cp \"/shared/CSHL_volumes/RV14_65hrs/RV14_65hrs_down32_annotationAsScoreVolume/score_volume_gradients/RV14_65hrs_down32_annotationAsScoreVolume_7n_R_surround_200_gz.bp\" \"s3://mousebrainatlas-data/CSHL_volumes/RV14_65hrs/RV14_65hrs_down32_annotationAsScoreVolume/score_volume_gradients/RV14_65hrs_down32_annotationAsScoreVolume_7n_R_surround_200_gz.bp\"\n"
     ]
    },
    {
     "name": "stderr",
     "output_type": "stream",
     "text": [
      "save 7n_R_surround_200: 1.570010 seconds\n"
     ]
    },
    {
     "name": "stdout",
     "output_type": "stream",
     "text": [
      "AP\n",
      "rm -rf \"/shared/CSHL_volumes/RV14_65hrs/RV14_65hrs_down32_annotationAsScoreVolume/score_volumes/RV14_65hrs_down32_annotationAsScoreVolume_AP.bp\" && mkdir -p \"/shared/CSHL_volumes/RV14_65hrs/RV14_65hrs_down32_annotationAsScoreVolume/score_volumes\"\n",
      "aws s3 cp \"s3://mousebrainatlas-data/CSHL_volumes/RV14_65hrs/RV14_65hrs_down32_annotationAsScoreVolume/score_volumes/RV14_65hrs_down32_annotationAsScoreVolume_AP.bp\" \"/shared/CSHL_volumes/RV14_65hrs/RV14_65hrs_down32_annotationAsScoreVolume/score_volumes/RV14_65hrs_down32_annotationAsScoreVolume_AP.bp\"\n"
     ]
    },
    {
     "name": "stderr",
     "output_type": "stream",
     "text": [
      "File does not exist: /shared/CSHL_volumes/RV14_65hrs/RV14_65hrs_down32_annotationAsScoreVolume/score_volumes/RV14_65hrs_down32_annotationAsScoreVolume_AP.bp\n",
      "Error computing gradient for AP: [Errno 2] No such file or directory: '/shared/CSHL_volumes/RV14_65hrs/RV14_65hrs_down32_annotationAsScoreVolume/score_volumes/RV14_65hrs_down32_annotationAsScoreVolume_AP.bp'.\n"
     ]
    },
    {
     "name": "stdout",
     "output_type": "stream",
     "text": [
      "AP_surround_200\n",
      "rm -rf \"/shared/CSHL_volumes/RV14_65hrs/RV14_65hrs_down32_annotationAsScoreVolume/score_volumes/RV14_65hrs_down32_annotationAsScoreVolume_AP_surround_200.bp\" && mkdir -p \"/shared/CSHL_volumes/RV14_65hrs/RV14_65hrs_down32_annotationAsScoreVolume/score_volumes\"\n",
      "aws s3 cp \"s3://mousebrainatlas-data/CSHL_volumes/RV14_65hrs/RV14_65hrs_down32_annotationAsScoreVolume/score_volumes/RV14_65hrs_down32_annotationAsScoreVolume_AP_surround_200.bp\" \"/shared/CSHL_volumes/RV14_65hrs/RV14_65hrs_down32_annotationAsScoreVolume/score_volumes/RV14_65hrs_down32_annotationAsScoreVolume_AP_surround_200.bp\"\n"
     ]
    },
    {
     "name": "stderr",
     "output_type": "stream",
     "text": [
      "File does not exist: /shared/CSHL_volumes/RV14_65hrs/RV14_65hrs_down32_annotationAsScoreVolume/score_volumes/RV14_65hrs_down32_annotationAsScoreVolume_AP_surround_200.bp\n",
      "Error computing gradient for AP_surround_200: [Errno 2] No such file or directory: '/shared/CSHL_volumes/RV14_65hrs/RV14_65hrs_down32_annotationAsScoreVolume/score_volumes/RV14_65hrs_down32_annotationAsScoreVolume_AP_surround_200.bp'.\n"
     ]
    },
    {
     "name": "stdout",
     "output_type": "stream",
     "text": [
      "Amb_L\n"
     ]
    },
    {
     "name": "stderr",
     "output_type": "stream",
     "text": [
      "Gradient Amb_L: 0.884821 seconds\n"
     ]
    },
    {
     "name": "stdout",
     "output_type": "stream",
     "text": [
      "aws s3 cp \"/shared/CSHL_volumes/RV14_65hrs/RV14_65hrs_down32_annotationAsScoreVolume/score_volume_gradients/RV14_65hrs_down32_annotationAsScoreVolume_Amb_L_gx.bp\" \"s3://mousebrainatlas-data/CSHL_volumes/RV14_65hrs/RV14_65hrs_down32_annotationAsScoreVolume/score_volume_gradients/RV14_65hrs_down32_annotationAsScoreVolume_Amb_L_gx.bp\"\n",
      "aws s3 cp \"/shared/CSHL_volumes/RV14_65hrs/RV14_65hrs_down32_annotationAsScoreVolume/score_volume_gradients/RV14_65hrs_down32_annotationAsScoreVolume_Amb_L_gy.bp\" \"s3://mousebrainatlas-data/CSHL_volumes/RV14_65hrs/RV14_65hrs_down32_annotationAsScoreVolume/score_volume_gradients/RV14_65hrs_down32_annotationAsScoreVolume_Amb_L_gy.bp\"\n",
      "aws s3 cp \"/shared/CSHL_volumes/RV14_65hrs/RV14_65hrs_down32_annotationAsScoreVolume/score_volume_gradients/RV14_65hrs_down32_annotationAsScoreVolume_Amb_L_gz.bp\" \"s3://mousebrainatlas-data/CSHL_volumes/RV14_65hrs/RV14_65hrs_down32_annotationAsScoreVolume/score_volume_gradients/RV14_65hrs_down32_annotationAsScoreVolume_Amb_L_gz.bp\"\n"
     ]
    },
    {
     "name": "stderr",
     "output_type": "stream",
     "text": [
      "save Amb_L: 1.543494 seconds\n"
     ]
    },
    {
     "name": "stdout",
     "output_type": "stream",
     "text": [
      "Amb_L_surround_200\n"
     ]
    },
    {
     "name": "stderr",
     "output_type": "stream",
     "text": [
      "Gradient Amb_L_surround_200: 0.885332 seconds\n"
     ]
    },
    {
     "name": "stdout",
     "output_type": "stream",
     "text": [
      "aws s3 cp \"/shared/CSHL_volumes/RV14_65hrs/RV14_65hrs_down32_annotationAsScoreVolume/score_volume_gradients/RV14_65hrs_down32_annotationAsScoreVolume_Amb_L_surround_200_gx.bp\" \"s3://mousebrainatlas-data/CSHL_volumes/RV14_65hrs/RV14_65hrs_down32_annotationAsScoreVolume/score_volume_gradients/RV14_65hrs_down32_annotationAsScoreVolume_Amb_L_surround_200_gx.bp\"\n",
      "aws s3 cp \"/shared/CSHL_volumes/RV14_65hrs/RV14_65hrs_down32_annotationAsScoreVolume/score_volume_gradients/RV14_65hrs_down32_annotationAsScoreVolume_Amb_L_surround_200_gy.bp\" \"s3://mousebrainatlas-data/CSHL_volumes/RV14_65hrs/RV14_65hrs_down32_annotationAsScoreVolume/score_volume_gradients/RV14_65hrs_down32_annotationAsScoreVolume_Amb_L_surround_200_gy.bp\"\n",
      "aws s3 cp \"/shared/CSHL_volumes/RV14_65hrs/RV14_65hrs_down32_annotationAsScoreVolume/score_volume_gradients/RV14_65hrs_down32_annotationAsScoreVolume_Amb_L_surround_200_gz.bp\" \"s3://mousebrainatlas-data/CSHL_volumes/RV14_65hrs/RV14_65hrs_down32_annotationAsScoreVolume/score_volume_gradients/RV14_65hrs_down32_annotationAsScoreVolume_Amb_L_surround_200_gz.bp\"\n"
     ]
    },
    {
     "name": "stderr",
     "output_type": "stream",
     "text": [
      "save Amb_L_surround_200: 1.607748 seconds\n"
     ]
    },
    {
     "name": "stdout",
     "output_type": "stream",
     "text": [
      "Amb_R\n"
     ]
    },
    {
     "name": "stderr",
     "output_type": "stream",
     "text": [
      "Gradient Amb_R: 1.018803 seconds\n"
     ]
    },
    {
     "name": "stdout",
     "output_type": "stream",
     "text": [
      "aws s3 cp \"/shared/CSHL_volumes/RV14_65hrs/RV14_65hrs_down32_annotationAsScoreVolume/score_volume_gradients/RV14_65hrs_down32_annotationAsScoreVolume_Amb_R_gx.bp\" \"s3://mousebrainatlas-data/CSHL_volumes/RV14_65hrs/RV14_65hrs_down32_annotationAsScoreVolume/score_volume_gradients/RV14_65hrs_down32_annotationAsScoreVolume_Amb_R_gx.bp\"\n",
      "aws s3 cp \"/shared/CSHL_volumes/RV14_65hrs/RV14_65hrs_down32_annotationAsScoreVolume/score_volume_gradients/RV14_65hrs_down32_annotationAsScoreVolume_Amb_R_gy.bp\" \"s3://mousebrainatlas-data/CSHL_volumes/RV14_65hrs/RV14_65hrs_down32_annotationAsScoreVolume/score_volume_gradients/RV14_65hrs_down32_annotationAsScoreVolume_Amb_R_gy.bp\"\n",
      "aws s3 cp \"/shared/CSHL_volumes/RV14_65hrs/RV14_65hrs_down32_annotationAsScoreVolume/score_volume_gradients/RV14_65hrs_down32_annotationAsScoreVolume_Amb_R_gz.bp\" \"s3://mousebrainatlas-data/CSHL_volumes/RV14_65hrs/RV14_65hrs_down32_annotationAsScoreVolume/score_volume_gradients/RV14_65hrs_down32_annotationAsScoreVolume_Amb_R_gz.bp\"\n"
     ]
    },
    {
     "name": "stderr",
     "output_type": "stream",
     "text": [
      "save Amb_R: 1.608496 seconds\n"
     ]
    },
    {
     "name": "stdout",
     "output_type": "stream",
     "text": [
      "Amb_R_surround_200\n"
     ]
    },
    {
     "name": "stderr",
     "output_type": "stream",
     "text": [
      "Gradient Amb_R_surround_200: 0.906271 seconds\n"
     ]
    },
    {
     "name": "stdout",
     "output_type": "stream",
     "text": [
      "aws s3 cp \"/shared/CSHL_volumes/RV14_65hrs/RV14_65hrs_down32_annotationAsScoreVolume/score_volume_gradients/RV14_65hrs_down32_annotationAsScoreVolume_Amb_R_surround_200_gx.bp\" \"s3://mousebrainatlas-data/CSHL_volumes/RV14_65hrs/RV14_65hrs_down32_annotationAsScoreVolume/score_volume_gradients/RV14_65hrs_down32_annotationAsScoreVolume_Amb_R_surround_200_gx.bp\"\n",
      "aws s3 cp \"/shared/CSHL_volumes/RV14_65hrs/RV14_65hrs_down32_annotationAsScoreVolume/score_volume_gradients/RV14_65hrs_down32_annotationAsScoreVolume_Amb_R_surround_200_gy.bp\" \"s3://mousebrainatlas-data/CSHL_volumes/RV14_65hrs/RV14_65hrs_down32_annotationAsScoreVolume/score_volume_gradients/RV14_65hrs_down32_annotationAsScoreVolume_Amb_R_surround_200_gy.bp\"\n",
      "aws s3 cp \"/shared/CSHL_volumes/RV14_65hrs/RV14_65hrs_down32_annotationAsScoreVolume/score_volume_gradients/RV14_65hrs_down32_annotationAsScoreVolume_Amb_R_surround_200_gz.bp\" \"s3://mousebrainatlas-data/CSHL_volumes/RV14_65hrs/RV14_65hrs_down32_annotationAsScoreVolume/score_volume_gradients/RV14_65hrs_down32_annotationAsScoreVolume_Amb_R_surround_200_gz.bp\"\n"
     ]
    },
    {
     "name": "stderr",
     "output_type": "stream",
     "text": [
      "save Amb_R_surround_200: 1.600063 seconds\n"
     ]
    },
    {
     "name": "stdout",
     "output_type": "stream",
     "text": [
      "DC_L\n",
      "rm -rf \"/shared/CSHL_volumes/RV14_65hrs/RV14_65hrs_down32_annotationAsScoreVolume/score_volumes/RV14_65hrs_down32_annotationAsScoreVolume_DC_L.bp\" && mkdir -p \"/shared/CSHL_volumes/RV14_65hrs/RV14_65hrs_down32_annotationAsScoreVolume/score_volumes\"\n",
      "aws s3 cp \"s3://mousebrainatlas-data/CSHL_volumes/RV14_65hrs/RV14_65hrs_down32_annotationAsScoreVolume/score_volumes/RV14_65hrs_down32_annotationAsScoreVolume_DC_L.bp\" \"/shared/CSHL_volumes/RV14_65hrs/RV14_65hrs_down32_annotationAsScoreVolume/score_volumes/RV14_65hrs_down32_annotationAsScoreVolume_DC_L.bp\"\n"
     ]
    },
    {
     "name": "stderr",
     "output_type": "stream",
     "text": [
      "File does not exist: /shared/CSHL_volumes/RV14_65hrs/RV14_65hrs_down32_annotationAsScoreVolume/score_volumes/RV14_65hrs_down32_annotationAsScoreVolume_DC_L.bp\n",
      "Error computing gradient for DC_L: [Errno 2] No such file or directory: '/shared/CSHL_volumes/RV14_65hrs/RV14_65hrs_down32_annotationAsScoreVolume/score_volumes/RV14_65hrs_down32_annotationAsScoreVolume_DC_L.bp'.\n"
     ]
    },
    {
     "name": "stdout",
     "output_type": "stream",
     "text": [
      "DC_L_surround_200\n",
      "rm -rf \"/shared/CSHL_volumes/RV14_65hrs/RV14_65hrs_down32_annotationAsScoreVolume/score_volumes/RV14_65hrs_down32_annotationAsScoreVolume_DC_L_surround_200.bp\" && mkdir -p \"/shared/CSHL_volumes/RV14_65hrs/RV14_65hrs_down32_annotationAsScoreVolume/score_volumes\"\n",
      "aws s3 cp \"s3://mousebrainatlas-data/CSHL_volumes/RV14_65hrs/RV14_65hrs_down32_annotationAsScoreVolume/score_volumes/RV14_65hrs_down32_annotationAsScoreVolume_DC_L_surround_200.bp\" \"/shared/CSHL_volumes/RV14_65hrs/RV14_65hrs_down32_annotationAsScoreVolume/score_volumes/RV14_65hrs_down32_annotationAsScoreVolume_DC_L_surround_200.bp\"\n"
     ]
    },
    {
     "name": "stderr",
     "output_type": "stream",
     "text": [
      "File does not exist: /shared/CSHL_volumes/RV14_65hrs/RV14_65hrs_down32_annotationAsScoreVolume/score_volumes/RV14_65hrs_down32_annotationAsScoreVolume_DC_L_surround_200.bp\n",
      "Error computing gradient for DC_L_surround_200: [Errno 2] No such file or directory: '/shared/CSHL_volumes/RV14_65hrs/RV14_65hrs_down32_annotationAsScoreVolume/score_volumes/RV14_65hrs_down32_annotationAsScoreVolume_DC_L_surround_200.bp'.\n"
     ]
    },
    {
     "name": "stdout",
     "output_type": "stream",
     "text": [
      "DC_R\n",
      "rm -rf \"/shared/CSHL_volumes/RV14_65hrs/RV14_65hrs_down32_annotationAsScoreVolume/score_volumes/RV14_65hrs_down32_annotationAsScoreVolume_DC_R.bp\" && mkdir -p \"/shared/CSHL_volumes/RV14_65hrs/RV14_65hrs_down32_annotationAsScoreVolume/score_volumes\"\n",
      "aws s3 cp \"s3://mousebrainatlas-data/CSHL_volumes/RV14_65hrs/RV14_65hrs_down32_annotationAsScoreVolume/score_volumes/RV14_65hrs_down32_annotationAsScoreVolume_DC_R.bp\" \"/shared/CSHL_volumes/RV14_65hrs/RV14_65hrs_down32_annotationAsScoreVolume/score_volumes/RV14_65hrs_down32_annotationAsScoreVolume_DC_R.bp\"\n"
     ]
    },
    {
     "name": "stderr",
     "output_type": "stream",
     "text": [
      "File does not exist: /shared/CSHL_volumes/RV14_65hrs/RV14_65hrs_down32_annotationAsScoreVolume/score_volumes/RV14_65hrs_down32_annotationAsScoreVolume_DC_R.bp\n",
      "Error computing gradient for DC_R: [Errno 2] No such file or directory: '/shared/CSHL_volumes/RV14_65hrs/RV14_65hrs_down32_annotationAsScoreVolume/score_volumes/RV14_65hrs_down32_annotationAsScoreVolume_DC_R.bp'.\n"
     ]
    },
    {
     "name": "stdout",
     "output_type": "stream",
     "text": [
      "DC_R_surround_200\n",
      "rm -rf \"/shared/CSHL_volumes/RV14_65hrs/RV14_65hrs_down32_annotationAsScoreVolume/score_volumes/RV14_65hrs_down32_annotationAsScoreVolume_DC_R_surround_200.bp\" && mkdir -p \"/shared/CSHL_volumes/RV14_65hrs/RV14_65hrs_down32_annotationAsScoreVolume/score_volumes\"\n",
      "aws s3 cp \"s3://mousebrainatlas-data/CSHL_volumes/RV14_65hrs/RV14_65hrs_down32_annotationAsScoreVolume/score_volumes/RV14_65hrs_down32_annotationAsScoreVolume_DC_R_surround_200.bp\" \"/shared/CSHL_volumes/RV14_65hrs/RV14_65hrs_down32_annotationAsScoreVolume/score_volumes/RV14_65hrs_down32_annotationAsScoreVolume_DC_R_surround_200.bp\"\n"
     ]
    },
    {
     "name": "stderr",
     "output_type": "stream",
     "text": [
      "File does not exist: /shared/CSHL_volumes/RV14_65hrs/RV14_65hrs_down32_annotationAsScoreVolume/score_volumes/RV14_65hrs_down32_annotationAsScoreVolume_DC_R_surround_200.bp\n",
      "Error computing gradient for DC_R_surround_200: [Errno 2] No such file or directory: '/shared/CSHL_volumes/RV14_65hrs/RV14_65hrs_down32_annotationAsScoreVolume/score_volumes/RV14_65hrs_down32_annotationAsScoreVolume_DC_R_surround_200.bp'.\n"
     ]
    },
    {
     "name": "stdout",
     "output_type": "stream",
     "text": [
      "IC\n",
      "rm -rf \"/shared/CSHL_volumes/RV14_65hrs/RV14_65hrs_down32_annotationAsScoreVolume/score_volumes/RV14_65hrs_down32_annotationAsScoreVolume_IC.bp\" && mkdir -p \"/shared/CSHL_volumes/RV14_65hrs/RV14_65hrs_down32_annotationAsScoreVolume/score_volumes\"\n",
      "aws s3 cp \"s3://mousebrainatlas-data/CSHL_volumes/RV14_65hrs/RV14_65hrs_down32_annotationAsScoreVolume/score_volumes/RV14_65hrs_down32_annotationAsScoreVolume_IC.bp\" \"/shared/CSHL_volumes/RV14_65hrs/RV14_65hrs_down32_annotationAsScoreVolume/score_volumes/RV14_65hrs_down32_annotationAsScoreVolume_IC.bp\"\n"
     ]
    },
    {
     "name": "stderr",
     "output_type": "stream",
     "text": [
      "File does not exist: /shared/CSHL_volumes/RV14_65hrs/RV14_65hrs_down32_annotationAsScoreVolume/score_volumes/RV14_65hrs_down32_annotationAsScoreVolume_IC.bp\n",
      "Error computing gradient for IC: [Errno 2] No such file or directory: '/shared/CSHL_volumes/RV14_65hrs/RV14_65hrs_down32_annotationAsScoreVolume/score_volumes/RV14_65hrs_down32_annotationAsScoreVolume_IC.bp'.\n"
     ]
    },
    {
     "name": "stdout",
     "output_type": "stream",
     "text": [
      "IC_surround_200\n",
      "rm -rf \"/shared/CSHL_volumes/RV14_65hrs/RV14_65hrs_down32_annotationAsScoreVolume/score_volumes/RV14_65hrs_down32_annotationAsScoreVolume_IC_surround_200.bp\" && mkdir -p \"/shared/CSHL_volumes/RV14_65hrs/RV14_65hrs_down32_annotationAsScoreVolume/score_volumes\"\n",
      "aws s3 cp \"s3://mousebrainatlas-data/CSHL_volumes/RV14_65hrs/RV14_65hrs_down32_annotationAsScoreVolume/score_volumes/RV14_65hrs_down32_annotationAsScoreVolume_IC_surround_200.bp\" \"/shared/CSHL_volumes/RV14_65hrs/RV14_65hrs_down32_annotationAsScoreVolume/score_volumes/RV14_65hrs_down32_annotationAsScoreVolume_IC_surround_200.bp\"\n"
     ]
    },
    {
     "name": "stderr",
     "output_type": "stream",
     "text": [
      "File does not exist: /shared/CSHL_volumes/RV14_65hrs/RV14_65hrs_down32_annotationAsScoreVolume/score_volumes/RV14_65hrs_down32_annotationAsScoreVolume_IC_surround_200.bp\n",
      "Error computing gradient for IC_surround_200: [Errno 2] No such file or directory: '/shared/CSHL_volumes/RV14_65hrs/RV14_65hrs_down32_annotationAsScoreVolume/score_volumes/RV14_65hrs_down32_annotationAsScoreVolume_IC_surround_200.bp'.\n"
     ]
    },
    {
     "name": "stdout",
     "output_type": "stream",
     "text": [
      "LC_L\n",
      "rm -rf \"/shared/CSHL_volumes/RV14_65hrs/RV14_65hrs_down32_annotationAsScoreVolume/score_volumes/RV14_65hrs_down32_annotationAsScoreVolume_LC_L.bp\" && mkdir -p \"/shared/CSHL_volumes/RV14_65hrs/RV14_65hrs_down32_annotationAsScoreVolume/score_volumes\"\n",
      "aws s3 cp \"s3://mousebrainatlas-data/CSHL_volumes/RV14_65hrs/RV14_65hrs_down32_annotationAsScoreVolume/score_volumes/RV14_65hrs_down32_annotationAsScoreVolume_LC_L.bp\" \"/shared/CSHL_volumes/RV14_65hrs/RV14_65hrs_down32_annotationAsScoreVolume/score_volumes/RV14_65hrs_down32_annotationAsScoreVolume_LC_L.bp\"\n"
     ]
    },
    {
     "name": "stderr",
     "output_type": "stream",
     "text": [
      "File does not exist: /shared/CSHL_volumes/RV14_65hrs/RV14_65hrs_down32_annotationAsScoreVolume/score_volumes/RV14_65hrs_down32_annotationAsScoreVolume_LC_L.bp\n",
      "Error computing gradient for LC_L: [Errno 2] No such file or directory: '/shared/CSHL_volumes/RV14_65hrs/RV14_65hrs_down32_annotationAsScoreVolume/score_volumes/RV14_65hrs_down32_annotationAsScoreVolume_LC_L.bp'.\n"
     ]
    },
    {
     "name": "stdout",
     "output_type": "stream",
     "text": [
      "LC_L_surround_200\n",
      "rm -rf \"/shared/CSHL_volumes/RV14_65hrs/RV14_65hrs_down32_annotationAsScoreVolume/score_volumes/RV14_65hrs_down32_annotationAsScoreVolume_LC_L_surround_200.bp\" && mkdir -p \"/shared/CSHL_volumes/RV14_65hrs/RV14_65hrs_down32_annotationAsScoreVolume/score_volumes\"\n",
      "aws s3 cp \"s3://mousebrainatlas-data/CSHL_volumes/RV14_65hrs/RV14_65hrs_down32_annotationAsScoreVolume/score_volumes/RV14_65hrs_down32_annotationAsScoreVolume_LC_L_surround_200.bp\" \"/shared/CSHL_volumes/RV14_65hrs/RV14_65hrs_down32_annotationAsScoreVolume/score_volumes/RV14_65hrs_down32_annotationAsScoreVolume_LC_L_surround_200.bp\"\n"
     ]
    },
    {
     "name": "stderr",
     "output_type": "stream",
     "text": [
      "File does not exist: /shared/CSHL_volumes/RV14_65hrs/RV14_65hrs_down32_annotationAsScoreVolume/score_volumes/RV14_65hrs_down32_annotationAsScoreVolume_LC_L_surround_200.bp\n",
      "Error computing gradient for LC_L_surround_200: [Errno 2] No such file or directory: '/shared/CSHL_volumes/RV14_65hrs/RV14_65hrs_down32_annotationAsScoreVolume/score_volumes/RV14_65hrs_down32_annotationAsScoreVolume_LC_L_surround_200.bp'.\n"
     ]
    },
    {
     "name": "stdout",
     "output_type": "stream",
     "text": [
      "LC_R\n",
      "rm -rf \"/shared/CSHL_volumes/RV14_65hrs/RV14_65hrs_down32_annotationAsScoreVolume/score_volumes/RV14_65hrs_down32_annotationAsScoreVolume_LC_R.bp\" && mkdir -p \"/shared/CSHL_volumes/RV14_65hrs/RV14_65hrs_down32_annotationAsScoreVolume/score_volumes\"\n",
      "aws s3 cp \"s3://mousebrainatlas-data/CSHL_volumes/RV14_65hrs/RV14_65hrs_down32_annotationAsScoreVolume/score_volumes/RV14_65hrs_down32_annotationAsScoreVolume_LC_R.bp\" \"/shared/CSHL_volumes/RV14_65hrs/RV14_65hrs_down32_annotationAsScoreVolume/score_volumes/RV14_65hrs_down32_annotationAsScoreVolume_LC_R.bp\"\n"
     ]
    },
    {
     "name": "stderr",
     "output_type": "stream",
     "text": [
      "File does not exist: /shared/CSHL_volumes/RV14_65hrs/RV14_65hrs_down32_annotationAsScoreVolume/score_volumes/RV14_65hrs_down32_annotationAsScoreVolume_LC_R.bp\n",
      "Error computing gradient for LC_R: [Errno 2] No such file or directory: '/shared/CSHL_volumes/RV14_65hrs/RV14_65hrs_down32_annotationAsScoreVolume/score_volumes/RV14_65hrs_down32_annotationAsScoreVolume_LC_R.bp'.\n"
     ]
    },
    {
     "name": "stdout",
     "output_type": "stream",
     "text": [
      "LC_R_surround_200\n",
      "rm -rf \"/shared/CSHL_volumes/RV14_65hrs/RV14_65hrs_down32_annotationAsScoreVolume/score_volumes/RV14_65hrs_down32_annotationAsScoreVolume_LC_R_surround_200.bp\" && mkdir -p \"/shared/CSHL_volumes/RV14_65hrs/RV14_65hrs_down32_annotationAsScoreVolume/score_volumes\"\n",
      "aws s3 cp \"s3://mousebrainatlas-data/CSHL_volumes/RV14_65hrs/RV14_65hrs_down32_annotationAsScoreVolume/score_volumes/RV14_65hrs_down32_annotationAsScoreVolume_LC_R_surround_200.bp\" \"/shared/CSHL_volumes/RV14_65hrs/RV14_65hrs_down32_annotationAsScoreVolume/score_volumes/RV14_65hrs_down32_annotationAsScoreVolume_LC_R_surround_200.bp\"\n"
     ]
    },
    {
     "name": "stderr",
     "output_type": "stream",
     "text": [
      "File does not exist: /shared/CSHL_volumes/RV14_65hrs/RV14_65hrs_down32_annotationAsScoreVolume/score_volumes/RV14_65hrs_down32_annotationAsScoreVolume_LC_R_surround_200.bp\n",
      "Error computing gradient for LC_R_surround_200: [Errno 2] No such file or directory: '/shared/CSHL_volumes/RV14_65hrs/RV14_65hrs_down32_annotationAsScoreVolume/score_volumes/RV14_65hrs_down32_annotationAsScoreVolume_LC_R_surround_200.bp'.\n"
     ]
    },
    {
     "name": "stdout",
     "output_type": "stream",
     "text": [
      "LRt_L\n"
     ]
    },
    {
     "name": "stderr",
     "output_type": "stream",
     "text": [
      "Gradient LRt_L: 0.887735 seconds\n"
     ]
    },
    {
     "name": "stdout",
     "output_type": "stream",
     "text": [
      "aws s3 cp \"/shared/CSHL_volumes/RV14_65hrs/RV14_65hrs_down32_annotationAsScoreVolume/score_volume_gradients/RV14_65hrs_down32_annotationAsScoreVolume_LRt_L_gx.bp\" \"s3://mousebrainatlas-data/CSHL_volumes/RV14_65hrs/RV14_65hrs_down32_annotationAsScoreVolume/score_volume_gradients/RV14_65hrs_down32_annotationAsScoreVolume_LRt_L_gx.bp\"\n",
      "aws s3 cp \"/shared/CSHL_volumes/RV14_65hrs/RV14_65hrs_down32_annotationAsScoreVolume/score_volume_gradients/RV14_65hrs_down32_annotationAsScoreVolume_LRt_L_gy.bp\" \"s3://mousebrainatlas-data/CSHL_volumes/RV14_65hrs/RV14_65hrs_down32_annotationAsScoreVolume/score_volume_gradients/RV14_65hrs_down32_annotationAsScoreVolume_LRt_L_gy.bp\"\n",
      "aws s3 cp \"/shared/CSHL_volumes/RV14_65hrs/RV14_65hrs_down32_annotationAsScoreVolume/score_volume_gradients/RV14_65hrs_down32_annotationAsScoreVolume_LRt_L_gz.bp\" \"s3://mousebrainatlas-data/CSHL_volumes/RV14_65hrs/RV14_65hrs_down32_annotationAsScoreVolume/score_volume_gradients/RV14_65hrs_down32_annotationAsScoreVolume_LRt_L_gz.bp\"\n"
     ]
    },
    {
     "name": "stderr",
     "output_type": "stream",
     "text": [
      "save LRt_L: 1.522406 seconds\n"
     ]
    },
    {
     "name": "stdout",
     "output_type": "stream",
     "text": [
      "LRt_L_surround_200\n"
     ]
    },
    {
     "name": "stderr",
     "output_type": "stream",
     "text": [
      "Gradient LRt_L_surround_200: 0.888021 seconds\n"
     ]
    },
    {
     "name": "stdout",
     "output_type": "stream",
     "text": [
      "aws s3 cp \"/shared/CSHL_volumes/RV14_65hrs/RV14_65hrs_down32_annotationAsScoreVolume/score_volume_gradients/RV14_65hrs_down32_annotationAsScoreVolume_LRt_L_surround_200_gx.bp\" \"s3://mousebrainatlas-data/CSHL_volumes/RV14_65hrs/RV14_65hrs_down32_annotationAsScoreVolume/score_volume_gradients/RV14_65hrs_down32_annotationAsScoreVolume_LRt_L_surround_200_gx.bp\"\n",
      "aws s3 cp \"/shared/CSHL_volumes/RV14_65hrs/RV14_65hrs_down32_annotationAsScoreVolume/score_volume_gradients/RV14_65hrs_down32_annotationAsScoreVolume_LRt_L_surround_200_gy.bp\" \"s3://mousebrainatlas-data/CSHL_volumes/RV14_65hrs/RV14_65hrs_down32_annotationAsScoreVolume/score_volume_gradients/RV14_65hrs_down32_annotationAsScoreVolume_LRt_L_surround_200_gy.bp\"\n",
      "aws s3 cp \"/shared/CSHL_volumes/RV14_65hrs/RV14_65hrs_down32_annotationAsScoreVolume/score_volume_gradients/RV14_65hrs_down32_annotationAsScoreVolume_LRt_L_surround_200_gz.bp\" \"s3://mousebrainatlas-data/CSHL_volumes/RV14_65hrs/RV14_65hrs_down32_annotationAsScoreVolume/score_volume_gradients/RV14_65hrs_down32_annotationAsScoreVolume_LRt_L_surround_200_gz.bp\"\n"
     ]
    },
    {
     "name": "stderr",
     "output_type": "stream",
     "text": [
      "save LRt_L_surround_200: 1.640986 seconds\n"
     ]
    },
    {
     "name": "stdout",
     "output_type": "stream",
     "text": [
      "LRt_R\n"
     ]
    },
    {
     "name": "stderr",
     "output_type": "stream",
     "text": [
      "Gradient LRt_R: 0.884728 seconds\n"
     ]
    },
    {
     "name": "stdout",
     "output_type": "stream",
     "text": [
      "aws s3 cp \"/shared/CSHL_volumes/RV14_65hrs/RV14_65hrs_down32_annotationAsScoreVolume/score_volume_gradients/RV14_65hrs_down32_annotationAsScoreVolume_LRt_R_gx.bp\" \"s3://mousebrainatlas-data/CSHL_volumes/RV14_65hrs/RV14_65hrs_down32_annotationAsScoreVolume/score_volume_gradients/RV14_65hrs_down32_annotationAsScoreVolume_LRt_R_gx.bp\"\n",
      "aws s3 cp \"/shared/CSHL_volumes/RV14_65hrs/RV14_65hrs_down32_annotationAsScoreVolume/score_volume_gradients/RV14_65hrs_down32_annotationAsScoreVolume_LRt_R_gy.bp\" \"s3://mousebrainatlas-data/CSHL_volumes/RV14_65hrs/RV14_65hrs_down32_annotationAsScoreVolume/score_volume_gradients/RV14_65hrs_down32_annotationAsScoreVolume_LRt_R_gy.bp\"\n",
      "aws s3 cp \"/shared/CSHL_volumes/RV14_65hrs/RV14_65hrs_down32_annotationAsScoreVolume/score_volume_gradients/RV14_65hrs_down32_annotationAsScoreVolume_LRt_R_gz.bp\" \"s3://mousebrainatlas-data/CSHL_volumes/RV14_65hrs/RV14_65hrs_down32_annotationAsScoreVolume/score_volume_gradients/RV14_65hrs_down32_annotationAsScoreVolume_LRt_R_gz.bp\"\n"
     ]
    },
    {
     "name": "stderr",
     "output_type": "stream",
     "text": [
      "save LRt_R: 1.696497 seconds\n"
     ]
    },
    {
     "name": "stdout",
     "output_type": "stream",
     "text": [
      "LRt_R_surround_200\n"
     ]
    },
    {
     "name": "stderr",
     "output_type": "stream",
     "text": [
      "Gradient LRt_R_surround_200: 0.886240 seconds\n"
     ]
    },
    {
     "name": "stdout",
     "output_type": "stream",
     "text": [
      "aws s3 cp \"/shared/CSHL_volumes/RV14_65hrs/RV14_65hrs_down32_annotationAsScoreVolume/score_volume_gradients/RV14_65hrs_down32_annotationAsScoreVolume_LRt_R_surround_200_gx.bp\" \"s3://mousebrainatlas-data/CSHL_volumes/RV14_65hrs/RV14_65hrs_down32_annotationAsScoreVolume/score_volume_gradients/RV14_65hrs_down32_annotationAsScoreVolume_LRt_R_surround_200_gx.bp\"\n",
      "aws s3 cp \"/shared/CSHL_volumes/RV14_65hrs/RV14_65hrs_down32_annotationAsScoreVolume/score_volume_gradients/RV14_65hrs_down32_annotationAsScoreVolume_LRt_R_surround_200_gy.bp\" \"s3://mousebrainatlas-data/CSHL_volumes/RV14_65hrs/RV14_65hrs_down32_annotationAsScoreVolume/score_volume_gradients/RV14_65hrs_down32_annotationAsScoreVolume_LRt_R_surround_200_gy.bp\"\n",
      "aws s3 cp \"/shared/CSHL_volumes/RV14_65hrs/RV14_65hrs_down32_annotationAsScoreVolume/score_volume_gradients/RV14_65hrs_down32_annotationAsScoreVolume_LRt_R_surround_200_gz.bp\" \"s3://mousebrainatlas-data/CSHL_volumes/RV14_65hrs/RV14_65hrs_down32_annotationAsScoreVolume/score_volume_gradients/RV14_65hrs_down32_annotationAsScoreVolume_LRt_R_surround_200_gz.bp\"\n"
     ]
    },
    {
     "name": "stderr",
     "output_type": "stream",
     "text": [
      "save LRt_R_surround_200: 1.474644 seconds\n"
     ]
    },
    {
     "name": "stdout",
     "output_type": "stream",
     "text": [
      "PBG_L\n",
      "rm -rf \"/shared/CSHL_volumes/RV14_65hrs/RV14_65hrs_down32_annotationAsScoreVolume/score_volumes/RV14_65hrs_down32_annotationAsScoreVolume_PBG_L.bp\" && mkdir -p \"/shared/CSHL_volumes/RV14_65hrs/RV14_65hrs_down32_annotationAsScoreVolume/score_volumes\"\n",
      "aws s3 cp \"s3://mousebrainatlas-data/CSHL_volumes/RV14_65hrs/RV14_65hrs_down32_annotationAsScoreVolume/score_volumes/RV14_65hrs_down32_annotationAsScoreVolume_PBG_L.bp\" \"/shared/CSHL_volumes/RV14_65hrs/RV14_65hrs_down32_annotationAsScoreVolume/score_volumes/RV14_65hrs_down32_annotationAsScoreVolume_PBG_L.bp\"\n"
     ]
    },
    {
     "name": "stderr",
     "output_type": "stream",
     "text": [
      "File does not exist: /shared/CSHL_volumes/RV14_65hrs/RV14_65hrs_down32_annotationAsScoreVolume/score_volumes/RV14_65hrs_down32_annotationAsScoreVolume_PBG_L.bp\n",
      "Error computing gradient for PBG_L: [Errno 2] No such file or directory: '/shared/CSHL_volumes/RV14_65hrs/RV14_65hrs_down32_annotationAsScoreVolume/score_volumes/RV14_65hrs_down32_annotationAsScoreVolume_PBG_L.bp'.\n"
     ]
    },
    {
     "name": "stdout",
     "output_type": "stream",
     "text": [
      "PBG_L_surround_200\n",
      "rm -rf \"/shared/CSHL_volumes/RV14_65hrs/RV14_65hrs_down32_annotationAsScoreVolume/score_volumes/RV14_65hrs_down32_annotationAsScoreVolume_PBG_L_surround_200.bp\" && mkdir -p \"/shared/CSHL_volumes/RV14_65hrs/RV14_65hrs_down32_annotationAsScoreVolume/score_volumes\"\n",
      "aws s3 cp \"s3://mousebrainatlas-data/CSHL_volumes/RV14_65hrs/RV14_65hrs_down32_annotationAsScoreVolume/score_volumes/RV14_65hrs_down32_annotationAsScoreVolume_PBG_L_surround_200.bp\" \"/shared/CSHL_volumes/RV14_65hrs/RV14_65hrs_down32_annotationAsScoreVolume/score_volumes/RV14_65hrs_down32_annotationAsScoreVolume_PBG_L_surround_200.bp\"\n"
     ]
    },
    {
     "name": "stderr",
     "output_type": "stream",
     "text": [
      "File does not exist: /shared/CSHL_volumes/RV14_65hrs/RV14_65hrs_down32_annotationAsScoreVolume/score_volumes/RV14_65hrs_down32_annotationAsScoreVolume_PBG_L_surround_200.bp\n",
      "Error computing gradient for PBG_L_surround_200: [Errno 2] No such file or directory: '/shared/CSHL_volumes/RV14_65hrs/RV14_65hrs_down32_annotationAsScoreVolume/score_volumes/RV14_65hrs_down32_annotationAsScoreVolume_PBG_L_surround_200.bp'.\n"
     ]
    },
    {
     "name": "stdout",
     "output_type": "stream",
     "text": [
      "PBG_R\n",
      "rm -rf \"/shared/CSHL_volumes/RV14_65hrs/RV14_65hrs_down32_annotationAsScoreVolume/score_volumes/RV14_65hrs_down32_annotationAsScoreVolume_PBG_R.bp\" && mkdir -p \"/shared/CSHL_volumes/RV14_65hrs/RV14_65hrs_down32_annotationAsScoreVolume/score_volumes\"\n",
      "aws s3 cp \"s3://mousebrainatlas-data/CSHL_volumes/RV14_65hrs/RV14_65hrs_down32_annotationAsScoreVolume/score_volumes/RV14_65hrs_down32_annotationAsScoreVolume_PBG_R.bp\" \"/shared/CSHL_volumes/RV14_65hrs/RV14_65hrs_down32_annotationAsScoreVolume/score_volumes/RV14_65hrs_down32_annotationAsScoreVolume_PBG_R.bp\"\n"
     ]
    },
    {
     "name": "stderr",
     "output_type": "stream",
     "text": [
      "File does not exist: /shared/CSHL_volumes/RV14_65hrs/RV14_65hrs_down32_annotationAsScoreVolume/score_volumes/RV14_65hrs_down32_annotationAsScoreVolume_PBG_R.bp\n",
      "Error computing gradient for PBG_R: [Errno 2] No such file or directory: '/shared/CSHL_volumes/RV14_65hrs/RV14_65hrs_down32_annotationAsScoreVolume/score_volumes/RV14_65hrs_down32_annotationAsScoreVolume_PBG_R.bp'.\n"
     ]
    },
    {
     "name": "stdout",
     "output_type": "stream",
     "text": [
      "PBG_R_surround_200\n",
      "rm -rf \"/shared/CSHL_volumes/RV14_65hrs/RV14_65hrs_down32_annotationAsScoreVolume/score_volumes/RV14_65hrs_down32_annotationAsScoreVolume_PBG_R_surround_200.bp\" && mkdir -p \"/shared/CSHL_volumes/RV14_65hrs/RV14_65hrs_down32_annotationAsScoreVolume/score_volumes\"\n",
      "aws s3 cp \"s3://mousebrainatlas-data/CSHL_volumes/RV14_65hrs/RV14_65hrs_down32_annotationAsScoreVolume/score_volumes/RV14_65hrs_down32_annotationAsScoreVolume_PBG_R_surround_200.bp\" \"/shared/CSHL_volumes/RV14_65hrs/RV14_65hrs_down32_annotationAsScoreVolume/score_volumes/RV14_65hrs_down32_annotationAsScoreVolume_PBG_R_surround_200.bp\"\n"
     ]
    },
    {
     "name": "stderr",
     "output_type": "stream",
     "text": [
      "File does not exist: /shared/CSHL_volumes/RV14_65hrs/RV14_65hrs_down32_annotationAsScoreVolume/score_volumes/RV14_65hrs_down32_annotationAsScoreVolume_PBG_R_surround_200.bp\n",
      "Error computing gradient for PBG_R_surround_200: [Errno 2] No such file or directory: '/shared/CSHL_volumes/RV14_65hrs/RV14_65hrs_down32_annotationAsScoreVolume/score_volumes/RV14_65hrs_down32_annotationAsScoreVolume_PBG_R_surround_200.bp'.\n"
     ]
    },
    {
     "name": "stdout",
     "output_type": "stream",
     "text": [
      "Pn_L\n",
      "rm -rf \"/shared/CSHL_volumes/RV14_65hrs/RV14_65hrs_down32_annotationAsScoreVolume/score_volumes/RV14_65hrs_down32_annotationAsScoreVolume_Pn_L.bp\" && mkdir -p \"/shared/CSHL_volumes/RV14_65hrs/RV14_65hrs_down32_annotationAsScoreVolume/score_volumes\"\n",
      "aws s3 cp \"s3://mousebrainatlas-data/CSHL_volumes/RV14_65hrs/RV14_65hrs_down32_annotationAsScoreVolume/score_volumes/RV14_65hrs_down32_annotationAsScoreVolume_Pn_L.bp\" \"/shared/CSHL_volumes/RV14_65hrs/RV14_65hrs_down32_annotationAsScoreVolume/score_volumes/RV14_65hrs_down32_annotationAsScoreVolume_Pn_L.bp\"\n"
     ]
    },
    {
     "name": "stderr",
     "output_type": "stream",
     "text": [
      "File does not exist: /shared/CSHL_volumes/RV14_65hrs/RV14_65hrs_down32_annotationAsScoreVolume/score_volumes/RV14_65hrs_down32_annotationAsScoreVolume_Pn_L.bp\n",
      "Error computing gradient for Pn_L: [Errno 2] No such file or directory: '/shared/CSHL_volumes/RV14_65hrs/RV14_65hrs_down32_annotationAsScoreVolume/score_volumes/RV14_65hrs_down32_annotationAsScoreVolume_Pn_L.bp'.\n"
     ]
    },
    {
     "name": "stdout",
     "output_type": "stream",
     "text": [
      "Pn_L_surround_200\n",
      "rm -rf \"/shared/CSHL_volumes/RV14_65hrs/RV14_65hrs_down32_annotationAsScoreVolume/score_volumes/RV14_65hrs_down32_annotationAsScoreVolume_Pn_L_surround_200.bp\" && mkdir -p \"/shared/CSHL_volumes/RV14_65hrs/RV14_65hrs_down32_annotationAsScoreVolume/score_volumes\"\n",
      "aws s3 cp \"s3://mousebrainatlas-data/CSHL_volumes/RV14_65hrs/RV14_65hrs_down32_annotationAsScoreVolume/score_volumes/RV14_65hrs_down32_annotationAsScoreVolume_Pn_L_surround_200.bp\" \"/shared/CSHL_volumes/RV14_65hrs/RV14_65hrs_down32_annotationAsScoreVolume/score_volumes/RV14_65hrs_down32_annotationAsScoreVolume_Pn_L_surround_200.bp\"\n"
     ]
    },
    {
     "name": "stderr",
     "output_type": "stream",
     "text": [
      "File does not exist: /shared/CSHL_volumes/RV14_65hrs/RV14_65hrs_down32_annotationAsScoreVolume/score_volumes/RV14_65hrs_down32_annotationAsScoreVolume_Pn_L_surround_200.bp\n",
      "Error computing gradient for Pn_L_surround_200: [Errno 2] No such file or directory: '/shared/CSHL_volumes/RV14_65hrs/RV14_65hrs_down32_annotationAsScoreVolume/score_volumes/RV14_65hrs_down32_annotationAsScoreVolume_Pn_L_surround_200.bp'.\n"
     ]
    },
    {
     "name": "stdout",
     "output_type": "stream",
     "text": [
      "Pn_R\n",
      "rm -rf \"/shared/CSHL_volumes/RV14_65hrs/RV14_65hrs_down32_annotationAsScoreVolume/score_volumes/RV14_65hrs_down32_annotationAsScoreVolume_Pn_R.bp\" && mkdir -p \"/shared/CSHL_volumes/RV14_65hrs/RV14_65hrs_down32_annotationAsScoreVolume/score_volumes\"\n",
      "aws s3 cp \"s3://mousebrainatlas-data/CSHL_volumes/RV14_65hrs/RV14_65hrs_down32_annotationAsScoreVolume/score_volumes/RV14_65hrs_down32_annotationAsScoreVolume_Pn_R.bp\" \"/shared/CSHL_volumes/RV14_65hrs/RV14_65hrs_down32_annotationAsScoreVolume/score_volumes/RV14_65hrs_down32_annotationAsScoreVolume_Pn_R.bp\"\n"
     ]
    },
    {
     "name": "stderr",
     "output_type": "stream",
     "text": [
      "File does not exist: /shared/CSHL_volumes/RV14_65hrs/RV14_65hrs_down32_annotationAsScoreVolume/score_volumes/RV14_65hrs_down32_annotationAsScoreVolume_Pn_R.bp\n",
      "Error computing gradient for Pn_R: [Errno 2] No such file or directory: '/shared/CSHL_volumes/RV14_65hrs/RV14_65hrs_down32_annotationAsScoreVolume/score_volumes/RV14_65hrs_down32_annotationAsScoreVolume_Pn_R.bp'.\n"
     ]
    },
    {
     "name": "stdout",
     "output_type": "stream",
     "text": [
      "Pn_R_surround_200\n",
      "rm -rf \"/shared/CSHL_volumes/RV14_65hrs/RV14_65hrs_down32_annotationAsScoreVolume/score_volumes/RV14_65hrs_down32_annotationAsScoreVolume_Pn_R_surround_200.bp\" && mkdir -p \"/shared/CSHL_volumes/RV14_65hrs/RV14_65hrs_down32_annotationAsScoreVolume/score_volumes\"\n",
      "aws s3 cp \"s3://mousebrainatlas-data/CSHL_volumes/RV14_65hrs/RV14_65hrs_down32_annotationAsScoreVolume/score_volumes/RV14_65hrs_down32_annotationAsScoreVolume_Pn_R_surround_200.bp\" \"/shared/CSHL_volumes/RV14_65hrs/RV14_65hrs_down32_annotationAsScoreVolume/score_volumes/RV14_65hrs_down32_annotationAsScoreVolume_Pn_R_surround_200.bp\"\n"
     ]
    },
    {
     "name": "stderr",
     "output_type": "stream",
     "text": [
      "File does not exist: /shared/CSHL_volumes/RV14_65hrs/RV14_65hrs_down32_annotationAsScoreVolume/score_volumes/RV14_65hrs_down32_annotationAsScoreVolume_Pn_R_surround_200.bp\n",
      "Error computing gradient for Pn_R_surround_200: [Errno 2] No such file or directory: '/shared/CSHL_volumes/RV14_65hrs/RV14_65hrs_down32_annotationAsScoreVolume/score_volumes/RV14_65hrs_down32_annotationAsScoreVolume_Pn_R_surround_200.bp'.\n"
     ]
    },
    {
     "name": "stdout",
     "output_type": "stream",
     "text": [
      "RMC_L\n",
      "rm -rf \"/shared/CSHL_volumes/RV14_65hrs/RV14_65hrs_down32_annotationAsScoreVolume/score_volumes/RV14_65hrs_down32_annotationAsScoreVolume_RMC_L.bp\" && mkdir -p \"/shared/CSHL_volumes/RV14_65hrs/RV14_65hrs_down32_annotationAsScoreVolume/score_volumes\"\n",
      "aws s3 cp \"s3://mousebrainatlas-data/CSHL_volumes/RV14_65hrs/RV14_65hrs_down32_annotationAsScoreVolume/score_volumes/RV14_65hrs_down32_annotationAsScoreVolume_RMC_L.bp\" \"/shared/CSHL_volumes/RV14_65hrs/RV14_65hrs_down32_annotationAsScoreVolume/score_volumes/RV14_65hrs_down32_annotationAsScoreVolume_RMC_L.bp\"\n"
     ]
    },
    {
     "name": "stderr",
     "output_type": "stream",
     "text": [
      "File does not exist: /shared/CSHL_volumes/RV14_65hrs/RV14_65hrs_down32_annotationAsScoreVolume/score_volumes/RV14_65hrs_down32_annotationAsScoreVolume_RMC_L.bp\n",
      "Error computing gradient for RMC_L: [Errno 2] No such file or directory: '/shared/CSHL_volumes/RV14_65hrs/RV14_65hrs_down32_annotationAsScoreVolume/score_volumes/RV14_65hrs_down32_annotationAsScoreVolume_RMC_L.bp'.\n"
     ]
    },
    {
     "name": "stdout",
     "output_type": "stream",
     "text": [
      "RMC_L_surround_200\n",
      "rm -rf \"/shared/CSHL_volumes/RV14_65hrs/RV14_65hrs_down32_annotationAsScoreVolume/score_volumes/RV14_65hrs_down32_annotationAsScoreVolume_RMC_L_surround_200.bp\" && mkdir -p \"/shared/CSHL_volumes/RV14_65hrs/RV14_65hrs_down32_annotationAsScoreVolume/score_volumes\"\n",
      "aws s3 cp \"s3://mousebrainatlas-data/CSHL_volumes/RV14_65hrs/RV14_65hrs_down32_annotationAsScoreVolume/score_volumes/RV14_65hrs_down32_annotationAsScoreVolume_RMC_L_surround_200.bp\" \"/shared/CSHL_volumes/RV14_65hrs/RV14_65hrs_down32_annotationAsScoreVolume/score_volumes/RV14_65hrs_down32_annotationAsScoreVolume_RMC_L_surround_200.bp\"\n"
     ]
    },
    {
     "name": "stderr",
     "output_type": "stream",
     "text": [
      "File does not exist: /shared/CSHL_volumes/RV14_65hrs/RV14_65hrs_down32_annotationAsScoreVolume/score_volumes/RV14_65hrs_down32_annotationAsScoreVolume_RMC_L_surround_200.bp\n",
      "Error computing gradient for RMC_L_surround_200: [Errno 2] No such file or directory: '/shared/CSHL_volumes/RV14_65hrs/RV14_65hrs_down32_annotationAsScoreVolume/score_volumes/RV14_65hrs_down32_annotationAsScoreVolume_RMC_L_surround_200.bp'.\n"
     ]
    },
    {
     "name": "stdout",
     "output_type": "stream",
     "text": [
      "RMC_R\n",
      "rm -rf \"/shared/CSHL_volumes/RV14_65hrs/RV14_65hrs_down32_annotationAsScoreVolume/score_volumes/RV14_65hrs_down32_annotationAsScoreVolume_RMC_R.bp\" && mkdir -p \"/shared/CSHL_volumes/RV14_65hrs/RV14_65hrs_down32_annotationAsScoreVolume/score_volumes\"\n",
      "aws s3 cp \"s3://mousebrainatlas-data/CSHL_volumes/RV14_65hrs/RV14_65hrs_down32_annotationAsScoreVolume/score_volumes/RV14_65hrs_down32_annotationAsScoreVolume_RMC_R.bp\" \"/shared/CSHL_volumes/RV14_65hrs/RV14_65hrs_down32_annotationAsScoreVolume/score_volumes/RV14_65hrs_down32_annotationAsScoreVolume_RMC_R.bp\"\n"
     ]
    },
    {
     "name": "stderr",
     "output_type": "stream",
     "text": [
      "File does not exist: /shared/CSHL_volumes/RV14_65hrs/RV14_65hrs_down32_annotationAsScoreVolume/score_volumes/RV14_65hrs_down32_annotationAsScoreVolume_RMC_R.bp\n",
      "Error computing gradient for RMC_R: [Errno 2] No such file or directory: '/shared/CSHL_volumes/RV14_65hrs/RV14_65hrs_down32_annotationAsScoreVolume/score_volumes/RV14_65hrs_down32_annotationAsScoreVolume_RMC_R.bp'.\n"
     ]
    },
    {
     "name": "stdout",
     "output_type": "stream",
     "text": [
      "RMC_R_surround_200\n",
      "rm -rf \"/shared/CSHL_volumes/RV14_65hrs/RV14_65hrs_down32_annotationAsScoreVolume/score_volumes/RV14_65hrs_down32_annotationAsScoreVolume_RMC_R_surround_200.bp\" && mkdir -p \"/shared/CSHL_volumes/RV14_65hrs/RV14_65hrs_down32_annotationAsScoreVolume/score_volumes\"\n",
      "aws s3 cp \"s3://mousebrainatlas-data/CSHL_volumes/RV14_65hrs/RV14_65hrs_down32_annotationAsScoreVolume/score_volumes/RV14_65hrs_down32_annotationAsScoreVolume_RMC_R_surround_200.bp\" \"/shared/CSHL_volumes/RV14_65hrs/RV14_65hrs_down32_annotationAsScoreVolume/score_volumes/RV14_65hrs_down32_annotationAsScoreVolume_RMC_R_surround_200.bp\"\n"
     ]
    },
    {
     "name": "stderr",
     "output_type": "stream",
     "text": [
      "File does not exist: /shared/CSHL_volumes/RV14_65hrs/RV14_65hrs_down32_annotationAsScoreVolume/score_volumes/RV14_65hrs_down32_annotationAsScoreVolume_RMC_R_surround_200.bp\n",
      "Error computing gradient for RMC_R_surround_200: [Errno 2] No such file or directory: '/shared/CSHL_volumes/RV14_65hrs/RV14_65hrs_down32_annotationAsScoreVolume/score_volumes/RV14_65hrs_down32_annotationAsScoreVolume_RMC_R_surround_200.bp'.\n"
     ]
    },
    {
     "name": "stdout",
     "output_type": "stream",
     "text": [
      "RtTg\n",
      "rm -rf \"/shared/CSHL_volumes/RV14_65hrs/RV14_65hrs_down32_annotationAsScoreVolume/score_volumes/RV14_65hrs_down32_annotationAsScoreVolume_RtTg.bp\" && mkdir -p \"/shared/CSHL_volumes/RV14_65hrs/RV14_65hrs_down32_annotationAsScoreVolume/score_volumes\"\n",
      "aws s3 cp \"s3://mousebrainatlas-data/CSHL_volumes/RV14_65hrs/RV14_65hrs_down32_annotationAsScoreVolume/score_volumes/RV14_65hrs_down32_annotationAsScoreVolume_RtTg.bp\" \"/shared/CSHL_volumes/RV14_65hrs/RV14_65hrs_down32_annotationAsScoreVolume/score_volumes/RV14_65hrs_down32_annotationAsScoreVolume_RtTg.bp\"\n"
     ]
    },
    {
     "name": "stderr",
     "output_type": "stream",
     "text": [
      "File does not exist: /shared/CSHL_volumes/RV14_65hrs/RV14_65hrs_down32_annotationAsScoreVolume/score_volumes/RV14_65hrs_down32_annotationAsScoreVolume_RtTg.bp\n",
      "Error computing gradient for RtTg: [Errno 2] No such file or directory: '/shared/CSHL_volumes/RV14_65hrs/RV14_65hrs_down32_annotationAsScoreVolume/score_volumes/RV14_65hrs_down32_annotationAsScoreVolume_RtTg.bp'.\n"
     ]
    },
    {
     "name": "stdout",
     "output_type": "stream",
     "text": [
      "RtTg_surround_200\n",
      "rm -rf \"/shared/CSHL_volumes/RV14_65hrs/RV14_65hrs_down32_annotationAsScoreVolume/score_volumes/RV14_65hrs_down32_annotationAsScoreVolume_RtTg_surround_200.bp\" && mkdir -p \"/shared/CSHL_volumes/RV14_65hrs/RV14_65hrs_down32_annotationAsScoreVolume/score_volumes\"\n",
      "aws s3 cp \"s3://mousebrainatlas-data/CSHL_volumes/RV14_65hrs/RV14_65hrs_down32_annotationAsScoreVolume/score_volumes/RV14_65hrs_down32_annotationAsScoreVolume_RtTg_surround_200.bp\" \"/shared/CSHL_volumes/RV14_65hrs/RV14_65hrs_down32_annotationAsScoreVolume/score_volumes/RV14_65hrs_down32_annotationAsScoreVolume_RtTg_surround_200.bp\"\n"
     ]
    },
    {
     "name": "stderr",
     "output_type": "stream",
     "text": [
      "File does not exist: /shared/CSHL_volumes/RV14_65hrs/RV14_65hrs_down32_annotationAsScoreVolume/score_volumes/RV14_65hrs_down32_annotationAsScoreVolume_RtTg_surround_200.bp\n",
      "Error computing gradient for RtTg_surround_200: [Errno 2] No such file or directory: '/shared/CSHL_volumes/RV14_65hrs/RV14_65hrs_down32_annotationAsScoreVolume/score_volumes/RV14_65hrs_down32_annotationAsScoreVolume_RtTg_surround_200.bp'.\n"
     ]
    },
    {
     "name": "stdout",
     "output_type": "stream",
     "text": [
      "SC\n",
      "rm -rf \"/shared/CSHL_volumes/RV14_65hrs/RV14_65hrs_down32_annotationAsScoreVolume/score_volumes/RV14_65hrs_down32_annotationAsScoreVolume_SC.bp\" && mkdir -p \"/shared/CSHL_volumes/RV14_65hrs/RV14_65hrs_down32_annotationAsScoreVolume/score_volumes\"\n",
      "aws s3 cp \"s3://mousebrainatlas-data/CSHL_volumes/RV14_65hrs/RV14_65hrs_down32_annotationAsScoreVolume/score_volumes/RV14_65hrs_down32_annotationAsScoreVolume_SC.bp\" \"/shared/CSHL_volumes/RV14_65hrs/RV14_65hrs_down32_annotationAsScoreVolume/score_volumes/RV14_65hrs_down32_annotationAsScoreVolume_SC.bp\"\n"
     ]
    },
    {
     "name": "stderr",
     "output_type": "stream",
     "text": [
      "File does not exist: /shared/CSHL_volumes/RV14_65hrs/RV14_65hrs_down32_annotationAsScoreVolume/score_volumes/RV14_65hrs_down32_annotationAsScoreVolume_SC.bp\n",
      "Error computing gradient for SC: [Errno 2] No such file or directory: '/shared/CSHL_volumes/RV14_65hrs/RV14_65hrs_down32_annotationAsScoreVolume/score_volumes/RV14_65hrs_down32_annotationAsScoreVolume_SC.bp'.\n"
     ]
    },
    {
     "name": "stdout",
     "output_type": "stream",
     "text": [
      "SC_surround_200\n",
      "rm -rf \"/shared/CSHL_volumes/RV14_65hrs/RV14_65hrs_down32_annotationAsScoreVolume/score_volumes/RV14_65hrs_down32_annotationAsScoreVolume_SC_surround_200.bp\" && mkdir -p \"/shared/CSHL_volumes/RV14_65hrs/RV14_65hrs_down32_annotationAsScoreVolume/score_volumes\"\n",
      "aws s3 cp \"s3://mousebrainatlas-data/CSHL_volumes/RV14_65hrs/RV14_65hrs_down32_annotationAsScoreVolume/score_volumes/RV14_65hrs_down32_annotationAsScoreVolume_SC_surround_200.bp\" \"/shared/CSHL_volumes/RV14_65hrs/RV14_65hrs_down32_annotationAsScoreVolume/score_volumes/RV14_65hrs_down32_annotationAsScoreVolume_SC_surround_200.bp\"\n"
     ]
    },
    {
     "name": "stderr",
     "output_type": "stream",
     "text": [
      "File does not exist: /shared/CSHL_volumes/RV14_65hrs/RV14_65hrs_down32_annotationAsScoreVolume/score_volumes/RV14_65hrs_down32_annotationAsScoreVolume_SC_surround_200.bp\n",
      "Error computing gradient for SC_surround_200: [Errno 2] No such file or directory: '/shared/CSHL_volumes/RV14_65hrs/RV14_65hrs_down32_annotationAsScoreVolume/score_volumes/RV14_65hrs_down32_annotationAsScoreVolume_SC_surround_200.bp'.\n"
     ]
    },
    {
     "name": "stdout",
     "output_type": "stream",
     "text": [
      "SNC_L\n",
      "rm -rf \"/shared/CSHL_volumes/RV14_65hrs/RV14_65hrs_down32_annotationAsScoreVolume/score_volumes/RV14_65hrs_down32_annotationAsScoreVolume_SNC_L.bp\" && mkdir -p \"/shared/CSHL_volumes/RV14_65hrs/RV14_65hrs_down32_annotationAsScoreVolume/score_volumes\"\n",
      "aws s3 cp \"s3://mousebrainatlas-data/CSHL_volumes/RV14_65hrs/RV14_65hrs_down32_annotationAsScoreVolume/score_volumes/RV14_65hrs_down32_annotationAsScoreVolume_SNC_L.bp\" \"/shared/CSHL_volumes/RV14_65hrs/RV14_65hrs_down32_annotationAsScoreVolume/score_volumes/RV14_65hrs_down32_annotationAsScoreVolume_SNC_L.bp\"\n"
     ]
    },
    {
     "name": "stderr",
     "output_type": "stream",
     "text": [
      "File does not exist: /shared/CSHL_volumes/RV14_65hrs/RV14_65hrs_down32_annotationAsScoreVolume/score_volumes/RV14_65hrs_down32_annotationAsScoreVolume_SNC_L.bp\n",
      "Error computing gradient for SNC_L: [Errno 2] No such file or directory: '/shared/CSHL_volumes/RV14_65hrs/RV14_65hrs_down32_annotationAsScoreVolume/score_volumes/RV14_65hrs_down32_annotationAsScoreVolume_SNC_L.bp'.\n"
     ]
    },
    {
     "name": "stdout",
     "output_type": "stream",
     "text": [
      "SNC_L_surround_200\n",
      "rm -rf \"/shared/CSHL_volumes/RV14_65hrs/RV14_65hrs_down32_annotationAsScoreVolume/score_volumes/RV14_65hrs_down32_annotationAsScoreVolume_SNC_L_surround_200.bp\" && mkdir -p \"/shared/CSHL_volumes/RV14_65hrs/RV14_65hrs_down32_annotationAsScoreVolume/score_volumes\"\n",
      "aws s3 cp \"s3://mousebrainatlas-data/CSHL_volumes/RV14_65hrs/RV14_65hrs_down32_annotationAsScoreVolume/score_volumes/RV14_65hrs_down32_annotationAsScoreVolume_SNC_L_surround_200.bp\" \"/shared/CSHL_volumes/RV14_65hrs/RV14_65hrs_down32_annotationAsScoreVolume/score_volumes/RV14_65hrs_down32_annotationAsScoreVolume_SNC_L_surround_200.bp\"\n"
     ]
    },
    {
     "name": "stderr",
     "output_type": "stream",
     "text": [
      "File does not exist: /shared/CSHL_volumes/RV14_65hrs/RV14_65hrs_down32_annotationAsScoreVolume/score_volumes/RV14_65hrs_down32_annotationAsScoreVolume_SNC_L_surround_200.bp\n",
      "Error computing gradient for SNC_L_surround_200: [Errno 2] No such file or directory: '/shared/CSHL_volumes/RV14_65hrs/RV14_65hrs_down32_annotationAsScoreVolume/score_volumes/RV14_65hrs_down32_annotationAsScoreVolume_SNC_L_surround_200.bp'.\n"
     ]
    },
    {
     "name": "stdout",
     "output_type": "stream",
     "text": [
      "SNC_R\n",
      "rm -rf \"/shared/CSHL_volumes/RV14_65hrs/RV14_65hrs_down32_annotationAsScoreVolume/score_volumes/RV14_65hrs_down32_annotationAsScoreVolume_SNC_R.bp\" && mkdir -p \"/shared/CSHL_volumes/RV14_65hrs/RV14_65hrs_down32_annotationAsScoreVolume/score_volumes\"\n",
      "aws s3 cp \"s3://mousebrainatlas-data/CSHL_volumes/RV14_65hrs/RV14_65hrs_down32_annotationAsScoreVolume/score_volumes/RV14_65hrs_down32_annotationAsScoreVolume_SNC_R.bp\" \"/shared/CSHL_volumes/RV14_65hrs/RV14_65hrs_down32_annotationAsScoreVolume/score_volumes/RV14_65hrs_down32_annotationAsScoreVolume_SNC_R.bp\"\n"
     ]
    },
    {
     "name": "stderr",
     "output_type": "stream",
     "text": [
      "File does not exist: /shared/CSHL_volumes/RV14_65hrs/RV14_65hrs_down32_annotationAsScoreVolume/score_volumes/RV14_65hrs_down32_annotationAsScoreVolume_SNC_R.bp\n",
      "Error computing gradient for SNC_R: [Errno 2] No such file or directory: '/shared/CSHL_volumes/RV14_65hrs/RV14_65hrs_down32_annotationAsScoreVolume/score_volumes/RV14_65hrs_down32_annotationAsScoreVolume_SNC_R.bp'.\n"
     ]
    },
    {
     "name": "stdout",
     "output_type": "stream",
     "text": [
      "SNC_R_surround_200\n",
      "rm -rf \"/shared/CSHL_volumes/RV14_65hrs/RV14_65hrs_down32_annotationAsScoreVolume/score_volumes/RV14_65hrs_down32_annotationAsScoreVolume_SNC_R_surround_200.bp\" && mkdir -p \"/shared/CSHL_volumes/RV14_65hrs/RV14_65hrs_down32_annotationAsScoreVolume/score_volumes\"\n",
      "aws s3 cp \"s3://mousebrainatlas-data/CSHL_volumes/RV14_65hrs/RV14_65hrs_down32_annotationAsScoreVolume/score_volumes/RV14_65hrs_down32_annotationAsScoreVolume_SNC_R_surround_200.bp\" \"/shared/CSHL_volumes/RV14_65hrs/RV14_65hrs_down32_annotationAsScoreVolume/score_volumes/RV14_65hrs_down32_annotationAsScoreVolume_SNC_R_surround_200.bp\"\n"
     ]
    },
    {
     "name": "stderr",
     "output_type": "stream",
     "text": [
      "File does not exist: /shared/CSHL_volumes/RV14_65hrs/RV14_65hrs_down32_annotationAsScoreVolume/score_volumes/RV14_65hrs_down32_annotationAsScoreVolume_SNC_R_surround_200.bp\n",
      "Error computing gradient for SNC_R_surround_200: [Errno 2] No such file or directory: '/shared/CSHL_volumes/RV14_65hrs/RV14_65hrs_down32_annotationAsScoreVolume/score_volumes/RV14_65hrs_down32_annotationAsScoreVolume_SNC_R_surround_200.bp'.\n"
     ]
    },
    {
     "name": "stdout",
     "output_type": "stream",
     "text": [
      "SNR_L\n",
      "rm -rf \"/shared/CSHL_volumes/RV14_65hrs/RV14_65hrs_down32_annotationAsScoreVolume/score_volumes/RV14_65hrs_down32_annotationAsScoreVolume_SNR_L.bp\" && mkdir -p \"/shared/CSHL_volumes/RV14_65hrs/RV14_65hrs_down32_annotationAsScoreVolume/score_volumes\"\n",
      "aws s3 cp \"s3://mousebrainatlas-data/CSHL_volumes/RV14_65hrs/RV14_65hrs_down32_annotationAsScoreVolume/score_volumes/RV14_65hrs_down32_annotationAsScoreVolume_SNR_L.bp\" \"/shared/CSHL_volumes/RV14_65hrs/RV14_65hrs_down32_annotationAsScoreVolume/score_volumes/RV14_65hrs_down32_annotationAsScoreVolume_SNR_L.bp\"\n"
     ]
    },
    {
     "name": "stderr",
     "output_type": "stream",
     "text": [
      "File does not exist: /shared/CSHL_volumes/RV14_65hrs/RV14_65hrs_down32_annotationAsScoreVolume/score_volumes/RV14_65hrs_down32_annotationAsScoreVolume_SNR_L.bp\n",
      "Error computing gradient for SNR_L: [Errno 2] No such file or directory: '/shared/CSHL_volumes/RV14_65hrs/RV14_65hrs_down32_annotationAsScoreVolume/score_volumes/RV14_65hrs_down32_annotationAsScoreVolume_SNR_L.bp'.\n"
     ]
    },
    {
     "name": "stdout",
     "output_type": "stream",
     "text": [
      "SNR_L_surround_200\n",
      "rm -rf \"/shared/CSHL_volumes/RV14_65hrs/RV14_65hrs_down32_annotationAsScoreVolume/score_volumes/RV14_65hrs_down32_annotationAsScoreVolume_SNR_L_surround_200.bp\" && mkdir -p \"/shared/CSHL_volumes/RV14_65hrs/RV14_65hrs_down32_annotationAsScoreVolume/score_volumes\"\n",
      "aws s3 cp \"s3://mousebrainatlas-data/CSHL_volumes/RV14_65hrs/RV14_65hrs_down32_annotationAsScoreVolume/score_volumes/RV14_65hrs_down32_annotationAsScoreVolume_SNR_L_surround_200.bp\" \"/shared/CSHL_volumes/RV14_65hrs/RV14_65hrs_down32_annotationAsScoreVolume/score_volumes/RV14_65hrs_down32_annotationAsScoreVolume_SNR_L_surround_200.bp\"\n"
     ]
    },
    {
     "name": "stderr",
     "output_type": "stream",
     "text": [
      "File does not exist: /shared/CSHL_volumes/RV14_65hrs/RV14_65hrs_down32_annotationAsScoreVolume/score_volumes/RV14_65hrs_down32_annotationAsScoreVolume_SNR_L_surround_200.bp\n",
      "Error computing gradient for SNR_L_surround_200: [Errno 2] No such file or directory: '/shared/CSHL_volumes/RV14_65hrs/RV14_65hrs_down32_annotationAsScoreVolume/score_volumes/RV14_65hrs_down32_annotationAsScoreVolume_SNR_L_surround_200.bp'.\n"
     ]
    },
    {
     "name": "stdout",
     "output_type": "stream",
     "text": [
      "SNR_R\n",
      "rm -rf \"/shared/CSHL_volumes/RV14_65hrs/RV14_65hrs_down32_annotationAsScoreVolume/score_volumes/RV14_65hrs_down32_annotationAsScoreVolume_SNR_R.bp\" && mkdir -p \"/shared/CSHL_volumes/RV14_65hrs/RV14_65hrs_down32_annotationAsScoreVolume/score_volumes\"\n",
      "aws s3 cp \"s3://mousebrainatlas-data/CSHL_volumes/RV14_65hrs/RV14_65hrs_down32_annotationAsScoreVolume/score_volumes/RV14_65hrs_down32_annotationAsScoreVolume_SNR_R.bp\" \"/shared/CSHL_volumes/RV14_65hrs/RV14_65hrs_down32_annotationAsScoreVolume/score_volumes/RV14_65hrs_down32_annotationAsScoreVolume_SNR_R.bp\"\n"
     ]
    },
    {
     "name": "stderr",
     "output_type": "stream",
     "text": [
      "File does not exist: /shared/CSHL_volumes/RV14_65hrs/RV14_65hrs_down32_annotationAsScoreVolume/score_volumes/RV14_65hrs_down32_annotationAsScoreVolume_SNR_R.bp\n",
      "Error computing gradient for SNR_R: [Errno 2] No such file or directory: '/shared/CSHL_volumes/RV14_65hrs/RV14_65hrs_down32_annotationAsScoreVolume/score_volumes/RV14_65hrs_down32_annotationAsScoreVolume_SNR_R.bp'.\n"
     ]
    },
    {
     "name": "stdout",
     "output_type": "stream",
     "text": [
      "SNR_R_surround_200\n",
      "rm -rf \"/shared/CSHL_volumes/RV14_65hrs/RV14_65hrs_down32_annotationAsScoreVolume/score_volumes/RV14_65hrs_down32_annotationAsScoreVolume_SNR_R_surround_200.bp\" && mkdir -p \"/shared/CSHL_volumes/RV14_65hrs/RV14_65hrs_down32_annotationAsScoreVolume/score_volumes\"\n",
      "aws s3 cp \"s3://mousebrainatlas-data/CSHL_volumes/RV14_65hrs/RV14_65hrs_down32_annotationAsScoreVolume/score_volumes/RV14_65hrs_down32_annotationAsScoreVolume_SNR_R_surround_200.bp\" \"/shared/CSHL_volumes/RV14_65hrs/RV14_65hrs_down32_annotationAsScoreVolume/score_volumes/RV14_65hrs_down32_annotationAsScoreVolume_SNR_R_surround_200.bp\"\n"
     ]
    },
    {
     "name": "stderr",
     "output_type": "stream",
     "text": [
      "File does not exist: /shared/CSHL_volumes/RV14_65hrs/RV14_65hrs_down32_annotationAsScoreVolume/score_volumes/RV14_65hrs_down32_annotationAsScoreVolume_SNR_R_surround_200.bp\n",
      "Error computing gradient for SNR_R_surround_200: [Errno 2] No such file or directory: '/shared/CSHL_volumes/RV14_65hrs/RV14_65hrs_down32_annotationAsScoreVolume/score_volumes/RV14_65hrs_down32_annotationAsScoreVolume_SNR_R_surround_200.bp'.\n"
     ]
    },
    {
     "name": "stdout",
     "output_type": "stream",
     "text": [
      "Sp5C_L\n"
     ]
    },
    {
     "name": "stderr",
     "output_type": "stream",
     "text": [
      "Gradient Sp5C_L: 0.887220 seconds\n"
     ]
    },
    {
     "name": "stdout",
     "output_type": "stream",
     "text": [
      "aws s3 cp \"/shared/CSHL_volumes/RV14_65hrs/RV14_65hrs_down32_annotationAsScoreVolume/score_volume_gradients/RV14_65hrs_down32_annotationAsScoreVolume_Sp5C_L_gx.bp\" \"s3://mousebrainatlas-data/CSHL_volumes/RV14_65hrs/RV14_65hrs_down32_annotationAsScoreVolume/score_volume_gradients/RV14_65hrs_down32_annotationAsScoreVolume_Sp5C_L_gx.bp\"\n",
      "aws s3 cp \"/shared/CSHL_volumes/RV14_65hrs/RV14_65hrs_down32_annotationAsScoreVolume/score_volume_gradients/RV14_65hrs_down32_annotationAsScoreVolume_Sp5C_L_gy.bp\" \"s3://mousebrainatlas-data/CSHL_volumes/RV14_65hrs/RV14_65hrs_down32_annotationAsScoreVolume/score_volume_gradients/RV14_65hrs_down32_annotationAsScoreVolume_Sp5C_L_gy.bp\"\n",
      "aws s3 cp \"/shared/CSHL_volumes/RV14_65hrs/RV14_65hrs_down32_annotationAsScoreVolume/score_volume_gradients/RV14_65hrs_down32_annotationAsScoreVolume_Sp5C_L_gz.bp\" \"s3://mousebrainatlas-data/CSHL_volumes/RV14_65hrs/RV14_65hrs_down32_annotationAsScoreVolume/score_volume_gradients/RV14_65hrs_down32_annotationAsScoreVolume_Sp5C_L_gz.bp\"\n"
     ]
    },
    {
     "name": "stderr",
     "output_type": "stream",
     "text": [
      "save Sp5C_L: 1.612418 seconds\n"
     ]
    },
    {
     "name": "stdout",
     "output_type": "stream",
     "text": [
      "Sp5C_L_surround_200\n"
     ]
    },
    {
     "name": "stderr",
     "output_type": "stream",
     "text": [
      "Gradient Sp5C_L_surround_200: 0.888124 seconds\n"
     ]
    },
    {
     "name": "stdout",
     "output_type": "stream",
     "text": [
      "aws s3 cp \"/shared/CSHL_volumes/RV14_65hrs/RV14_65hrs_down32_annotationAsScoreVolume/score_volume_gradients/RV14_65hrs_down32_annotationAsScoreVolume_Sp5C_L_surround_200_gx.bp\" \"s3://mousebrainatlas-data/CSHL_volumes/RV14_65hrs/RV14_65hrs_down32_annotationAsScoreVolume/score_volume_gradients/RV14_65hrs_down32_annotationAsScoreVolume_Sp5C_L_surround_200_gx.bp\"\n",
      "aws s3 cp \"/shared/CSHL_volumes/RV14_65hrs/RV14_65hrs_down32_annotationAsScoreVolume/score_volume_gradients/RV14_65hrs_down32_annotationAsScoreVolume_Sp5C_L_surround_200_gy.bp\" \"s3://mousebrainatlas-data/CSHL_volumes/RV14_65hrs/RV14_65hrs_down32_annotationAsScoreVolume/score_volume_gradients/RV14_65hrs_down32_annotationAsScoreVolume_Sp5C_L_surround_200_gy.bp\"\n",
      "aws s3 cp \"/shared/CSHL_volumes/RV14_65hrs/RV14_65hrs_down32_annotationAsScoreVolume/score_volume_gradients/RV14_65hrs_down32_annotationAsScoreVolume_Sp5C_L_surround_200_gz.bp\" \"s3://mousebrainatlas-data/CSHL_volumes/RV14_65hrs/RV14_65hrs_down32_annotationAsScoreVolume/score_volume_gradients/RV14_65hrs_down32_annotationAsScoreVolume_Sp5C_L_surround_200_gz.bp\"\n"
     ]
    },
    {
     "name": "stderr",
     "output_type": "stream",
     "text": [
      "save Sp5C_L_surround_200: 1.642050 seconds\n"
     ]
    },
    {
     "name": "stdout",
     "output_type": "stream",
     "text": [
      "Sp5C_R\n"
     ]
    },
    {
     "name": "stderr",
     "output_type": "stream",
     "text": [
      "Gradient Sp5C_R: 0.886291 seconds\n"
     ]
    },
    {
     "name": "stdout",
     "output_type": "stream",
     "text": [
      "aws s3 cp \"/shared/CSHL_volumes/RV14_65hrs/RV14_65hrs_down32_annotationAsScoreVolume/score_volume_gradients/RV14_65hrs_down32_annotationAsScoreVolume_Sp5C_R_gx.bp\" \"s3://mousebrainatlas-data/CSHL_volumes/RV14_65hrs/RV14_65hrs_down32_annotationAsScoreVolume/score_volume_gradients/RV14_65hrs_down32_annotationAsScoreVolume_Sp5C_R_gx.bp\"\n",
      "aws s3 cp \"/shared/CSHL_volumes/RV14_65hrs/RV14_65hrs_down32_annotationAsScoreVolume/score_volume_gradients/RV14_65hrs_down32_annotationAsScoreVolume_Sp5C_R_gy.bp\" \"s3://mousebrainatlas-data/CSHL_volumes/RV14_65hrs/RV14_65hrs_down32_annotationAsScoreVolume/score_volume_gradients/RV14_65hrs_down32_annotationAsScoreVolume_Sp5C_R_gy.bp\"\n",
      "aws s3 cp \"/shared/CSHL_volumes/RV14_65hrs/RV14_65hrs_down32_annotationAsScoreVolume/score_volume_gradients/RV14_65hrs_down32_annotationAsScoreVolume_Sp5C_R_gz.bp\" \"s3://mousebrainatlas-data/CSHL_volumes/RV14_65hrs/RV14_65hrs_down32_annotationAsScoreVolume/score_volume_gradients/RV14_65hrs_down32_annotationAsScoreVolume_Sp5C_R_gz.bp\"\n"
     ]
    },
    {
     "name": "stderr",
     "output_type": "stream",
     "text": [
      "save Sp5C_R: 1.652644 seconds\n"
     ]
    },
    {
     "name": "stdout",
     "output_type": "stream",
     "text": [
      "Sp5C_R_surround_200\n"
     ]
    },
    {
     "name": "stderr",
     "output_type": "stream",
     "text": [
      "Gradient Sp5C_R_surround_200: 0.888474 seconds\n"
     ]
    },
    {
     "name": "stdout",
     "output_type": "stream",
     "text": [
      "aws s3 cp \"/shared/CSHL_volumes/RV14_65hrs/RV14_65hrs_down32_annotationAsScoreVolume/score_volume_gradients/RV14_65hrs_down32_annotationAsScoreVolume_Sp5C_R_surround_200_gx.bp\" \"s3://mousebrainatlas-data/CSHL_volumes/RV14_65hrs/RV14_65hrs_down32_annotationAsScoreVolume/score_volume_gradients/RV14_65hrs_down32_annotationAsScoreVolume_Sp5C_R_surround_200_gx.bp\"\n",
      "aws s3 cp \"/shared/CSHL_volumes/RV14_65hrs/RV14_65hrs_down32_annotationAsScoreVolume/score_volume_gradients/RV14_65hrs_down32_annotationAsScoreVolume_Sp5C_R_surround_200_gy.bp\" \"s3://mousebrainatlas-data/CSHL_volumes/RV14_65hrs/RV14_65hrs_down32_annotationAsScoreVolume/score_volume_gradients/RV14_65hrs_down32_annotationAsScoreVolume_Sp5C_R_surround_200_gy.bp\"\n",
      "aws s3 cp \"/shared/CSHL_volumes/RV14_65hrs/RV14_65hrs_down32_annotationAsScoreVolume/score_volume_gradients/RV14_65hrs_down32_annotationAsScoreVolume_Sp5C_R_surround_200_gz.bp\" \"s3://mousebrainatlas-data/CSHL_volumes/RV14_65hrs/RV14_65hrs_down32_annotationAsScoreVolume/score_volume_gradients/RV14_65hrs_down32_annotationAsScoreVolume_Sp5C_R_surround_200_gz.bp\"\n"
     ]
    },
    {
     "name": "stderr",
     "output_type": "stream",
     "text": [
      "save Sp5C_R_surround_200: 1.577483 seconds\n"
     ]
    },
    {
     "name": "stdout",
     "output_type": "stream",
     "text": [
      "Sp5I_L\n",
      "rm -rf \"/shared/CSHL_volumes/RV14_65hrs/RV14_65hrs_down32_annotationAsScoreVolume/score_volumes/RV14_65hrs_down32_annotationAsScoreVolume_Sp5I_L.bp\" && mkdir -p \"/shared/CSHL_volumes/RV14_65hrs/RV14_65hrs_down32_annotationAsScoreVolume/score_volumes\"\n",
      "aws s3 cp \"s3://mousebrainatlas-data/CSHL_volumes/RV14_65hrs/RV14_65hrs_down32_annotationAsScoreVolume/score_volumes/RV14_65hrs_down32_annotationAsScoreVolume_Sp5I_L.bp\" \"/shared/CSHL_volumes/RV14_65hrs/RV14_65hrs_down32_annotationAsScoreVolume/score_volumes/RV14_65hrs_down32_annotationAsScoreVolume_Sp5I_L.bp\"\n"
     ]
    },
    {
     "name": "stderr",
     "output_type": "stream",
     "text": [
      "File does not exist: /shared/CSHL_volumes/RV14_65hrs/RV14_65hrs_down32_annotationAsScoreVolume/score_volumes/RV14_65hrs_down32_annotationAsScoreVolume_Sp5I_L.bp\n",
      "Error computing gradient for Sp5I_L: [Errno 2] No such file or directory: '/shared/CSHL_volumes/RV14_65hrs/RV14_65hrs_down32_annotationAsScoreVolume/score_volumes/RV14_65hrs_down32_annotationAsScoreVolume_Sp5I_L.bp'.\n"
     ]
    },
    {
     "name": "stdout",
     "output_type": "stream",
     "text": [
      "Sp5I_L_surround_200\n",
      "rm -rf \"/shared/CSHL_volumes/RV14_65hrs/RV14_65hrs_down32_annotationAsScoreVolume/score_volumes/RV14_65hrs_down32_annotationAsScoreVolume_Sp5I_L_surround_200.bp\" && mkdir -p \"/shared/CSHL_volumes/RV14_65hrs/RV14_65hrs_down32_annotationAsScoreVolume/score_volumes\"\n",
      "aws s3 cp \"s3://mousebrainatlas-data/CSHL_volumes/RV14_65hrs/RV14_65hrs_down32_annotationAsScoreVolume/score_volumes/RV14_65hrs_down32_annotationAsScoreVolume_Sp5I_L_surround_200.bp\" \"/shared/CSHL_volumes/RV14_65hrs/RV14_65hrs_down32_annotationAsScoreVolume/score_volumes/RV14_65hrs_down32_annotationAsScoreVolume_Sp5I_L_surround_200.bp\"\n"
     ]
    },
    {
     "name": "stderr",
     "output_type": "stream",
     "text": [
      "File does not exist: /shared/CSHL_volumes/RV14_65hrs/RV14_65hrs_down32_annotationAsScoreVolume/score_volumes/RV14_65hrs_down32_annotationAsScoreVolume_Sp5I_L_surround_200.bp\n",
      "Error computing gradient for Sp5I_L_surround_200: [Errno 2] No such file or directory: '/shared/CSHL_volumes/RV14_65hrs/RV14_65hrs_down32_annotationAsScoreVolume/score_volumes/RV14_65hrs_down32_annotationAsScoreVolume_Sp5I_L_surround_200.bp'.\n"
     ]
    },
    {
     "name": "stdout",
     "output_type": "stream",
     "text": [
      "Sp5I_R\n"
     ]
    },
    {
     "name": "stderr",
     "output_type": "stream",
     "text": [
      "Gradient Sp5I_R: 0.889255 seconds\n"
     ]
    },
    {
     "name": "stdout",
     "output_type": "stream",
     "text": [
      "aws s3 cp \"/shared/CSHL_volumes/RV14_65hrs/RV14_65hrs_down32_annotationAsScoreVolume/score_volume_gradients/RV14_65hrs_down32_annotationAsScoreVolume_Sp5I_R_gx.bp\" \"s3://mousebrainatlas-data/CSHL_volumes/RV14_65hrs/RV14_65hrs_down32_annotationAsScoreVolume/score_volume_gradients/RV14_65hrs_down32_annotationAsScoreVolume_Sp5I_R_gx.bp\"\n",
      "aws s3 cp \"/shared/CSHL_volumes/RV14_65hrs/RV14_65hrs_down32_annotationAsScoreVolume/score_volume_gradients/RV14_65hrs_down32_annotationAsScoreVolume_Sp5I_R_gy.bp\" \"s3://mousebrainatlas-data/CSHL_volumes/RV14_65hrs/RV14_65hrs_down32_annotationAsScoreVolume/score_volume_gradients/RV14_65hrs_down32_annotationAsScoreVolume_Sp5I_R_gy.bp\"\n",
      "aws s3 cp \"/shared/CSHL_volumes/RV14_65hrs/RV14_65hrs_down32_annotationAsScoreVolume/score_volume_gradients/RV14_65hrs_down32_annotationAsScoreVolume_Sp5I_R_gz.bp\" \"s3://mousebrainatlas-data/CSHL_volumes/RV14_65hrs/RV14_65hrs_down32_annotationAsScoreVolume/score_volume_gradients/RV14_65hrs_down32_annotationAsScoreVolume_Sp5I_R_gz.bp\"\n"
     ]
    },
    {
     "name": "stderr",
     "output_type": "stream",
     "text": [
      "save Sp5I_R: 1.486511 seconds\n"
     ]
    },
    {
     "name": "stdout",
     "output_type": "stream",
     "text": [
      "Sp5I_R_surround_200\n"
     ]
    },
    {
     "name": "stderr",
     "output_type": "stream",
     "text": [
      "Gradient Sp5I_R_surround_200: 0.887579 seconds\n"
     ]
    },
    {
     "name": "stdout",
     "output_type": "stream",
     "text": [
      "aws s3 cp \"/shared/CSHL_volumes/RV14_65hrs/RV14_65hrs_down32_annotationAsScoreVolume/score_volume_gradients/RV14_65hrs_down32_annotationAsScoreVolume_Sp5I_R_surround_200_gx.bp\" \"s3://mousebrainatlas-data/CSHL_volumes/RV14_65hrs/RV14_65hrs_down32_annotationAsScoreVolume/score_volume_gradients/RV14_65hrs_down32_annotationAsScoreVolume_Sp5I_R_surround_200_gx.bp\"\n",
      "aws s3 cp \"/shared/CSHL_volumes/RV14_65hrs/RV14_65hrs_down32_annotationAsScoreVolume/score_volume_gradients/RV14_65hrs_down32_annotationAsScoreVolume_Sp5I_R_surround_200_gy.bp\" \"s3://mousebrainatlas-data/CSHL_volumes/RV14_65hrs/RV14_65hrs_down32_annotationAsScoreVolume/score_volume_gradients/RV14_65hrs_down32_annotationAsScoreVolume_Sp5I_R_surround_200_gy.bp\"\n",
      "aws s3 cp \"/shared/CSHL_volumes/RV14_65hrs/RV14_65hrs_down32_annotationAsScoreVolume/score_volume_gradients/RV14_65hrs_down32_annotationAsScoreVolume_Sp5I_R_surround_200_gz.bp\" \"s3://mousebrainatlas-data/CSHL_volumes/RV14_65hrs/RV14_65hrs_down32_annotationAsScoreVolume/score_volume_gradients/RV14_65hrs_down32_annotationAsScoreVolume_Sp5I_R_surround_200_gz.bp\"\n"
     ]
    },
    {
     "name": "stderr",
     "output_type": "stream",
     "text": [
      "save Sp5I_R_surround_200: 1.684123 seconds\n"
     ]
    },
    {
     "name": "stdout",
     "output_type": "stream",
     "text": [
      "Sp5O_L\n",
      "rm -rf \"/shared/CSHL_volumes/RV14_65hrs/RV14_65hrs_down32_annotationAsScoreVolume/score_volumes/RV14_65hrs_down32_annotationAsScoreVolume_Sp5O_L.bp\" && mkdir -p \"/shared/CSHL_volumes/RV14_65hrs/RV14_65hrs_down32_annotationAsScoreVolume/score_volumes\"\n",
      "aws s3 cp \"s3://mousebrainatlas-data/CSHL_volumes/RV14_65hrs/RV14_65hrs_down32_annotationAsScoreVolume/score_volumes/RV14_65hrs_down32_annotationAsScoreVolume_Sp5O_L.bp\" \"/shared/CSHL_volumes/RV14_65hrs/RV14_65hrs_down32_annotationAsScoreVolume/score_volumes/RV14_65hrs_down32_annotationAsScoreVolume_Sp5O_L.bp\"\n"
     ]
    },
    {
     "name": "stderr",
     "output_type": "stream",
     "text": [
      "File does not exist: /shared/CSHL_volumes/RV14_65hrs/RV14_65hrs_down32_annotationAsScoreVolume/score_volumes/RV14_65hrs_down32_annotationAsScoreVolume_Sp5O_L.bp\n",
      "Error computing gradient for Sp5O_L: [Errno 2] No such file or directory: '/shared/CSHL_volumes/RV14_65hrs/RV14_65hrs_down32_annotationAsScoreVolume/score_volumes/RV14_65hrs_down32_annotationAsScoreVolume_Sp5O_L.bp'.\n"
     ]
    },
    {
     "name": "stdout",
     "output_type": "stream",
     "text": [
      "Sp5O_L_surround_200\n",
      "rm -rf \"/shared/CSHL_volumes/RV14_65hrs/RV14_65hrs_down32_annotationAsScoreVolume/score_volumes/RV14_65hrs_down32_annotationAsScoreVolume_Sp5O_L_surround_200.bp\" && mkdir -p \"/shared/CSHL_volumes/RV14_65hrs/RV14_65hrs_down32_annotationAsScoreVolume/score_volumes\"\n",
      "aws s3 cp \"s3://mousebrainatlas-data/CSHL_volumes/RV14_65hrs/RV14_65hrs_down32_annotationAsScoreVolume/score_volumes/RV14_65hrs_down32_annotationAsScoreVolume_Sp5O_L_surround_200.bp\" \"/shared/CSHL_volumes/RV14_65hrs/RV14_65hrs_down32_annotationAsScoreVolume/score_volumes/RV14_65hrs_down32_annotationAsScoreVolume_Sp5O_L_surround_200.bp\"\n"
     ]
    },
    {
     "name": "stderr",
     "output_type": "stream",
     "text": [
      "File does not exist: /shared/CSHL_volumes/RV14_65hrs/RV14_65hrs_down32_annotationAsScoreVolume/score_volumes/RV14_65hrs_down32_annotationAsScoreVolume_Sp5O_L_surround_200.bp\n",
      "Error computing gradient for Sp5O_L_surround_200: [Errno 2] No such file or directory: '/shared/CSHL_volumes/RV14_65hrs/RV14_65hrs_down32_annotationAsScoreVolume/score_volumes/RV14_65hrs_down32_annotationAsScoreVolume_Sp5O_L_surround_200.bp'.\n"
     ]
    },
    {
     "name": "stdout",
     "output_type": "stream",
     "text": [
      "Sp5O_R\n"
     ]
    },
    {
     "name": "stderr",
     "output_type": "stream",
     "text": [
      "Gradient Sp5O_R: 0.885650 seconds\n"
     ]
    },
    {
     "name": "stdout",
     "output_type": "stream",
     "text": [
      "aws s3 cp \"/shared/CSHL_volumes/RV14_65hrs/RV14_65hrs_down32_annotationAsScoreVolume/score_volume_gradients/RV14_65hrs_down32_annotationAsScoreVolume_Sp5O_R_gx.bp\" \"s3://mousebrainatlas-data/CSHL_volumes/RV14_65hrs/RV14_65hrs_down32_annotationAsScoreVolume/score_volume_gradients/RV14_65hrs_down32_annotationAsScoreVolume_Sp5O_R_gx.bp\"\n",
      "aws s3 cp \"/shared/CSHL_volumes/RV14_65hrs/RV14_65hrs_down32_annotationAsScoreVolume/score_volume_gradients/RV14_65hrs_down32_annotationAsScoreVolume_Sp5O_R_gy.bp\" \"s3://mousebrainatlas-data/CSHL_volumes/RV14_65hrs/RV14_65hrs_down32_annotationAsScoreVolume/score_volume_gradients/RV14_65hrs_down32_annotationAsScoreVolume_Sp5O_R_gy.bp\"\n",
      "aws s3 cp \"/shared/CSHL_volumes/RV14_65hrs/RV14_65hrs_down32_annotationAsScoreVolume/score_volume_gradients/RV14_65hrs_down32_annotationAsScoreVolume_Sp5O_R_gz.bp\" \"s3://mousebrainatlas-data/CSHL_volumes/RV14_65hrs/RV14_65hrs_down32_annotationAsScoreVolume/score_volume_gradients/RV14_65hrs_down32_annotationAsScoreVolume_Sp5O_R_gz.bp\"\n"
     ]
    },
    {
     "name": "stderr",
     "output_type": "stream",
     "text": [
      "save Sp5O_R: 1.571887 seconds\n"
     ]
    },
    {
     "name": "stdout",
     "output_type": "stream",
     "text": [
      "Sp5O_R_surround_200\n"
     ]
    },
    {
     "name": "stderr",
     "output_type": "stream",
     "text": [
      "Gradient Sp5O_R_surround_200: 0.887704 seconds\n"
     ]
    },
    {
     "name": "stdout",
     "output_type": "stream",
     "text": [
      "aws s3 cp \"/shared/CSHL_volumes/RV14_65hrs/RV14_65hrs_down32_annotationAsScoreVolume/score_volume_gradients/RV14_65hrs_down32_annotationAsScoreVolume_Sp5O_R_surround_200_gx.bp\" \"s3://mousebrainatlas-data/CSHL_volumes/RV14_65hrs/RV14_65hrs_down32_annotationAsScoreVolume/score_volume_gradients/RV14_65hrs_down32_annotationAsScoreVolume_Sp5O_R_surround_200_gx.bp\"\n",
      "aws s3 cp \"/shared/CSHL_volumes/RV14_65hrs/RV14_65hrs_down32_annotationAsScoreVolume/score_volume_gradients/RV14_65hrs_down32_annotationAsScoreVolume_Sp5O_R_surround_200_gy.bp\" \"s3://mousebrainatlas-data/CSHL_volumes/RV14_65hrs/RV14_65hrs_down32_annotationAsScoreVolume/score_volume_gradients/RV14_65hrs_down32_annotationAsScoreVolume_Sp5O_R_surround_200_gy.bp\"\n",
      "aws s3 cp \"/shared/CSHL_volumes/RV14_65hrs/RV14_65hrs_down32_annotationAsScoreVolume/score_volume_gradients/RV14_65hrs_down32_annotationAsScoreVolume_Sp5O_R_surround_200_gz.bp\" \"s3://mousebrainatlas-data/CSHL_volumes/RV14_65hrs/RV14_65hrs_down32_annotationAsScoreVolume/score_volume_gradients/RV14_65hrs_down32_annotationAsScoreVolume_Sp5O_R_surround_200_gz.bp\"\n"
     ]
    },
    {
     "name": "stderr",
     "output_type": "stream",
     "text": [
      "save Sp5O_R_surround_200: 1.566215 seconds\n"
     ]
    },
    {
     "name": "stdout",
     "output_type": "stream",
     "text": [
      "Tz_L\n",
      "rm -rf \"/shared/CSHL_volumes/RV14_65hrs/RV14_65hrs_down32_annotationAsScoreVolume/score_volumes/RV14_65hrs_down32_annotationAsScoreVolume_Tz_L.bp\" && mkdir -p \"/shared/CSHL_volumes/RV14_65hrs/RV14_65hrs_down32_annotationAsScoreVolume/score_volumes\"\n",
      "aws s3 cp \"s3://mousebrainatlas-data/CSHL_volumes/RV14_65hrs/RV14_65hrs_down32_annotationAsScoreVolume/score_volumes/RV14_65hrs_down32_annotationAsScoreVolume_Tz_L.bp\" \"/shared/CSHL_volumes/RV14_65hrs/RV14_65hrs_down32_annotationAsScoreVolume/score_volumes/RV14_65hrs_down32_annotationAsScoreVolume_Tz_L.bp\"\n"
     ]
    },
    {
     "name": "stderr",
     "output_type": "stream",
     "text": [
      "File does not exist: /shared/CSHL_volumes/RV14_65hrs/RV14_65hrs_down32_annotationAsScoreVolume/score_volumes/RV14_65hrs_down32_annotationAsScoreVolume_Tz_L.bp\n",
      "Error computing gradient for Tz_L: [Errno 2] No such file or directory: '/shared/CSHL_volumes/RV14_65hrs/RV14_65hrs_down32_annotationAsScoreVolume/score_volumes/RV14_65hrs_down32_annotationAsScoreVolume_Tz_L.bp'.\n"
     ]
    },
    {
     "name": "stdout",
     "output_type": "stream",
     "text": [
      "Tz_L_surround_200\n",
      "rm -rf \"/shared/CSHL_volumes/RV14_65hrs/RV14_65hrs_down32_annotationAsScoreVolume/score_volumes/RV14_65hrs_down32_annotationAsScoreVolume_Tz_L_surround_200.bp\" && mkdir -p \"/shared/CSHL_volumes/RV14_65hrs/RV14_65hrs_down32_annotationAsScoreVolume/score_volumes\"\n",
      "aws s3 cp \"s3://mousebrainatlas-data/CSHL_volumes/RV14_65hrs/RV14_65hrs_down32_annotationAsScoreVolume/score_volumes/RV14_65hrs_down32_annotationAsScoreVolume_Tz_L_surround_200.bp\" \"/shared/CSHL_volumes/RV14_65hrs/RV14_65hrs_down32_annotationAsScoreVolume/score_volumes/RV14_65hrs_down32_annotationAsScoreVolume_Tz_L_surround_200.bp\"\n"
     ]
    },
    {
     "name": "stderr",
     "output_type": "stream",
     "text": [
      "File does not exist: /shared/CSHL_volumes/RV14_65hrs/RV14_65hrs_down32_annotationAsScoreVolume/score_volumes/RV14_65hrs_down32_annotationAsScoreVolume_Tz_L_surround_200.bp\n",
      "Error computing gradient for Tz_L_surround_200: [Errno 2] No such file or directory: '/shared/CSHL_volumes/RV14_65hrs/RV14_65hrs_down32_annotationAsScoreVolume/score_volumes/RV14_65hrs_down32_annotationAsScoreVolume_Tz_L_surround_200.bp'.\n"
     ]
    },
    {
     "name": "stdout",
     "output_type": "stream",
     "text": [
      "Tz_R\n",
      "rm -rf \"/shared/CSHL_volumes/RV14_65hrs/RV14_65hrs_down32_annotationAsScoreVolume/score_volumes/RV14_65hrs_down32_annotationAsScoreVolume_Tz_R.bp\" && mkdir -p \"/shared/CSHL_volumes/RV14_65hrs/RV14_65hrs_down32_annotationAsScoreVolume/score_volumes\"\n",
      "aws s3 cp \"s3://mousebrainatlas-data/CSHL_volumes/RV14_65hrs/RV14_65hrs_down32_annotationAsScoreVolume/score_volumes/RV14_65hrs_down32_annotationAsScoreVolume_Tz_R.bp\" \"/shared/CSHL_volumes/RV14_65hrs/RV14_65hrs_down32_annotationAsScoreVolume/score_volumes/RV14_65hrs_down32_annotationAsScoreVolume_Tz_R.bp\"\n"
     ]
    },
    {
     "name": "stderr",
     "output_type": "stream",
     "text": [
      "File does not exist: /shared/CSHL_volumes/RV14_65hrs/RV14_65hrs_down32_annotationAsScoreVolume/score_volumes/RV14_65hrs_down32_annotationAsScoreVolume_Tz_R.bp\n",
      "Error computing gradient for Tz_R: [Errno 2] No such file or directory: '/shared/CSHL_volumes/RV14_65hrs/RV14_65hrs_down32_annotationAsScoreVolume/score_volumes/RV14_65hrs_down32_annotationAsScoreVolume_Tz_R.bp'.\n"
     ]
    },
    {
     "name": "stdout",
     "output_type": "stream",
     "text": [
      "Tz_R_surround_200\n",
      "rm -rf \"/shared/CSHL_volumes/RV14_65hrs/RV14_65hrs_down32_annotationAsScoreVolume/score_volumes/RV14_65hrs_down32_annotationAsScoreVolume_Tz_R_surround_200.bp\" && mkdir -p \"/shared/CSHL_volumes/RV14_65hrs/RV14_65hrs_down32_annotationAsScoreVolume/score_volumes\"\n",
      "aws s3 cp \"s3://mousebrainatlas-data/CSHL_volumes/RV14_65hrs/RV14_65hrs_down32_annotationAsScoreVolume/score_volumes/RV14_65hrs_down32_annotationAsScoreVolume_Tz_R_surround_200.bp\" \"/shared/CSHL_volumes/RV14_65hrs/RV14_65hrs_down32_annotationAsScoreVolume/score_volumes/RV14_65hrs_down32_annotationAsScoreVolume_Tz_R_surround_200.bp\"\n"
     ]
    },
    {
     "name": "stderr",
     "output_type": "stream",
     "text": [
      "File does not exist: /shared/CSHL_volumes/RV14_65hrs/RV14_65hrs_down32_annotationAsScoreVolume/score_volumes/RV14_65hrs_down32_annotationAsScoreVolume_Tz_R_surround_200.bp\n",
      "Error computing gradient for Tz_R_surround_200: [Errno 2] No such file or directory: '/shared/CSHL_volumes/RV14_65hrs/RV14_65hrs_down32_annotationAsScoreVolume/score_volumes/RV14_65hrs_down32_annotationAsScoreVolume_Tz_R_surround_200.bp'.\n"
     ]
    },
    {
     "name": "stdout",
     "output_type": "stream",
     "text": [
      "VCA_L\n",
      "rm -rf \"/shared/CSHL_volumes/RV14_65hrs/RV14_65hrs_down32_annotationAsScoreVolume/score_volumes/RV14_65hrs_down32_annotationAsScoreVolume_VCA_L.bp\" && mkdir -p \"/shared/CSHL_volumes/RV14_65hrs/RV14_65hrs_down32_annotationAsScoreVolume/score_volumes\"\n",
      "aws s3 cp \"s3://mousebrainatlas-data/CSHL_volumes/RV14_65hrs/RV14_65hrs_down32_annotationAsScoreVolume/score_volumes/RV14_65hrs_down32_annotationAsScoreVolume_VCA_L.bp\" \"/shared/CSHL_volumes/RV14_65hrs/RV14_65hrs_down32_annotationAsScoreVolume/score_volumes/RV14_65hrs_down32_annotationAsScoreVolume_VCA_L.bp\"\n"
     ]
    },
    {
     "name": "stderr",
     "output_type": "stream",
     "text": [
      "File does not exist: /shared/CSHL_volumes/RV14_65hrs/RV14_65hrs_down32_annotationAsScoreVolume/score_volumes/RV14_65hrs_down32_annotationAsScoreVolume_VCA_L.bp\n",
      "Error computing gradient for VCA_L: [Errno 2] No such file or directory: '/shared/CSHL_volumes/RV14_65hrs/RV14_65hrs_down32_annotationAsScoreVolume/score_volumes/RV14_65hrs_down32_annotationAsScoreVolume_VCA_L.bp'.\n"
     ]
    },
    {
     "name": "stdout",
     "output_type": "stream",
     "text": [
      "VCA_L_surround_200\n",
      "rm -rf \"/shared/CSHL_volumes/RV14_65hrs/RV14_65hrs_down32_annotationAsScoreVolume/score_volumes/RV14_65hrs_down32_annotationAsScoreVolume_VCA_L_surround_200.bp\" && mkdir -p \"/shared/CSHL_volumes/RV14_65hrs/RV14_65hrs_down32_annotationAsScoreVolume/score_volumes\"\n",
      "aws s3 cp \"s3://mousebrainatlas-data/CSHL_volumes/RV14_65hrs/RV14_65hrs_down32_annotationAsScoreVolume/score_volumes/RV14_65hrs_down32_annotationAsScoreVolume_VCA_L_surround_200.bp\" \"/shared/CSHL_volumes/RV14_65hrs/RV14_65hrs_down32_annotationAsScoreVolume/score_volumes/RV14_65hrs_down32_annotationAsScoreVolume_VCA_L_surround_200.bp\"\n"
     ]
    },
    {
     "name": "stderr",
     "output_type": "stream",
     "text": [
      "File does not exist: /shared/CSHL_volumes/RV14_65hrs/RV14_65hrs_down32_annotationAsScoreVolume/score_volumes/RV14_65hrs_down32_annotationAsScoreVolume_VCA_L_surround_200.bp\n",
      "Error computing gradient for VCA_L_surround_200: [Errno 2] No such file or directory: '/shared/CSHL_volumes/RV14_65hrs/RV14_65hrs_down32_annotationAsScoreVolume/score_volumes/RV14_65hrs_down32_annotationAsScoreVolume_VCA_L_surround_200.bp'.\n"
     ]
    },
    {
     "name": "stdout",
     "output_type": "stream",
     "text": [
      "VCA_R\n",
      "rm -rf \"/shared/CSHL_volumes/RV14_65hrs/RV14_65hrs_down32_annotationAsScoreVolume/score_volumes/RV14_65hrs_down32_annotationAsScoreVolume_VCA_R.bp\" && mkdir -p \"/shared/CSHL_volumes/RV14_65hrs/RV14_65hrs_down32_annotationAsScoreVolume/score_volumes\"\n",
      "aws s3 cp \"s3://mousebrainatlas-data/CSHL_volumes/RV14_65hrs/RV14_65hrs_down32_annotationAsScoreVolume/score_volumes/RV14_65hrs_down32_annotationAsScoreVolume_VCA_R.bp\" \"/shared/CSHL_volumes/RV14_65hrs/RV14_65hrs_down32_annotationAsScoreVolume/score_volumes/RV14_65hrs_down32_annotationAsScoreVolume_VCA_R.bp\"\n"
     ]
    },
    {
     "name": "stderr",
     "output_type": "stream",
     "text": [
      "File does not exist: /shared/CSHL_volumes/RV14_65hrs/RV14_65hrs_down32_annotationAsScoreVolume/score_volumes/RV14_65hrs_down32_annotationAsScoreVolume_VCA_R.bp\n",
      "Error computing gradient for VCA_R: [Errno 2] No such file or directory: '/shared/CSHL_volumes/RV14_65hrs/RV14_65hrs_down32_annotationAsScoreVolume/score_volumes/RV14_65hrs_down32_annotationAsScoreVolume_VCA_R.bp'.\n"
     ]
    },
    {
     "name": "stdout",
     "output_type": "stream",
     "text": [
      "VCA_R_surround_200\n",
      "rm -rf \"/shared/CSHL_volumes/RV14_65hrs/RV14_65hrs_down32_annotationAsScoreVolume/score_volumes/RV14_65hrs_down32_annotationAsScoreVolume_VCA_R_surround_200.bp\" && mkdir -p \"/shared/CSHL_volumes/RV14_65hrs/RV14_65hrs_down32_annotationAsScoreVolume/score_volumes\"\n",
      "aws s3 cp \"s3://mousebrainatlas-data/CSHL_volumes/RV14_65hrs/RV14_65hrs_down32_annotationAsScoreVolume/score_volumes/RV14_65hrs_down32_annotationAsScoreVolume_VCA_R_surround_200.bp\" \"/shared/CSHL_volumes/RV14_65hrs/RV14_65hrs_down32_annotationAsScoreVolume/score_volumes/RV14_65hrs_down32_annotationAsScoreVolume_VCA_R_surround_200.bp\"\n"
     ]
    },
    {
     "name": "stderr",
     "output_type": "stream",
     "text": [
      "File does not exist: /shared/CSHL_volumes/RV14_65hrs/RV14_65hrs_down32_annotationAsScoreVolume/score_volumes/RV14_65hrs_down32_annotationAsScoreVolume_VCA_R_surround_200.bp\n",
      "Error computing gradient for VCA_R_surround_200: [Errno 2] No such file or directory: '/shared/CSHL_volumes/RV14_65hrs/RV14_65hrs_down32_annotationAsScoreVolume/score_volumes/RV14_65hrs_down32_annotationAsScoreVolume_VCA_R_surround_200.bp'.\n"
     ]
    },
    {
     "name": "stdout",
     "output_type": "stream",
     "text": [
      "VCP_L\n",
      "rm -rf \"/shared/CSHL_volumes/RV14_65hrs/RV14_65hrs_down32_annotationAsScoreVolume/score_volumes/RV14_65hrs_down32_annotationAsScoreVolume_VCP_L.bp\" && mkdir -p \"/shared/CSHL_volumes/RV14_65hrs/RV14_65hrs_down32_annotationAsScoreVolume/score_volumes\"\n",
      "aws s3 cp \"s3://mousebrainatlas-data/CSHL_volumes/RV14_65hrs/RV14_65hrs_down32_annotationAsScoreVolume/score_volumes/RV14_65hrs_down32_annotationAsScoreVolume_VCP_L.bp\" \"/shared/CSHL_volumes/RV14_65hrs/RV14_65hrs_down32_annotationAsScoreVolume/score_volumes/RV14_65hrs_down32_annotationAsScoreVolume_VCP_L.bp\"\n"
     ]
    },
    {
     "name": "stderr",
     "output_type": "stream",
     "text": [
      "File does not exist: /shared/CSHL_volumes/RV14_65hrs/RV14_65hrs_down32_annotationAsScoreVolume/score_volumes/RV14_65hrs_down32_annotationAsScoreVolume_VCP_L.bp\n",
      "Error computing gradient for VCP_L: [Errno 2] No such file or directory: '/shared/CSHL_volumes/RV14_65hrs/RV14_65hrs_down32_annotationAsScoreVolume/score_volumes/RV14_65hrs_down32_annotationAsScoreVolume_VCP_L.bp'.\n"
     ]
    },
    {
     "name": "stdout",
     "output_type": "stream",
     "text": [
      "VCP_L_surround_200\n",
      "rm -rf \"/shared/CSHL_volumes/RV14_65hrs/RV14_65hrs_down32_annotationAsScoreVolume/score_volumes/RV14_65hrs_down32_annotationAsScoreVolume_VCP_L_surround_200.bp\" && mkdir -p \"/shared/CSHL_volumes/RV14_65hrs/RV14_65hrs_down32_annotationAsScoreVolume/score_volumes\"\n",
      "aws s3 cp \"s3://mousebrainatlas-data/CSHL_volumes/RV14_65hrs/RV14_65hrs_down32_annotationAsScoreVolume/score_volumes/RV14_65hrs_down32_annotationAsScoreVolume_VCP_L_surround_200.bp\" \"/shared/CSHL_volumes/RV14_65hrs/RV14_65hrs_down32_annotationAsScoreVolume/score_volumes/RV14_65hrs_down32_annotationAsScoreVolume_VCP_L_surround_200.bp\"\n"
     ]
    },
    {
     "name": "stderr",
     "output_type": "stream",
     "text": [
      "File does not exist: /shared/CSHL_volumes/RV14_65hrs/RV14_65hrs_down32_annotationAsScoreVolume/score_volumes/RV14_65hrs_down32_annotationAsScoreVolume_VCP_L_surround_200.bp\n",
      "Error computing gradient for VCP_L_surround_200: [Errno 2] No such file or directory: '/shared/CSHL_volumes/RV14_65hrs/RV14_65hrs_down32_annotationAsScoreVolume/score_volumes/RV14_65hrs_down32_annotationAsScoreVolume_VCP_L_surround_200.bp'.\n"
     ]
    },
    {
     "name": "stdout",
     "output_type": "stream",
     "text": [
      "VCP_R\n",
      "rm -rf \"/shared/CSHL_volumes/RV14_65hrs/RV14_65hrs_down32_annotationAsScoreVolume/score_volumes/RV14_65hrs_down32_annotationAsScoreVolume_VCP_R.bp\" && mkdir -p \"/shared/CSHL_volumes/RV14_65hrs/RV14_65hrs_down32_annotationAsScoreVolume/score_volumes\"\n",
      "aws s3 cp \"s3://mousebrainatlas-data/CSHL_volumes/RV14_65hrs/RV14_65hrs_down32_annotationAsScoreVolume/score_volumes/RV14_65hrs_down32_annotationAsScoreVolume_VCP_R.bp\" \"/shared/CSHL_volumes/RV14_65hrs/RV14_65hrs_down32_annotationAsScoreVolume/score_volumes/RV14_65hrs_down32_annotationAsScoreVolume_VCP_R.bp\"\n"
     ]
    },
    {
     "name": "stderr",
     "output_type": "stream",
     "text": [
      "File does not exist: /shared/CSHL_volumes/RV14_65hrs/RV14_65hrs_down32_annotationAsScoreVolume/score_volumes/RV14_65hrs_down32_annotationAsScoreVolume_VCP_R.bp\n",
      "Error computing gradient for VCP_R: [Errno 2] No such file or directory: '/shared/CSHL_volumes/RV14_65hrs/RV14_65hrs_down32_annotationAsScoreVolume/score_volumes/RV14_65hrs_down32_annotationAsScoreVolume_VCP_R.bp'.\n"
     ]
    },
    {
     "name": "stdout",
     "output_type": "stream",
     "text": [
      "VCP_R_surround_200\n",
      "rm -rf \"/shared/CSHL_volumes/RV14_65hrs/RV14_65hrs_down32_annotationAsScoreVolume/score_volumes/RV14_65hrs_down32_annotationAsScoreVolume_VCP_R_surround_200.bp\" && mkdir -p \"/shared/CSHL_volumes/RV14_65hrs/RV14_65hrs_down32_annotationAsScoreVolume/score_volumes\"\n",
      "aws s3 cp \"s3://mousebrainatlas-data/CSHL_volumes/RV14_65hrs/RV14_65hrs_down32_annotationAsScoreVolume/score_volumes/RV14_65hrs_down32_annotationAsScoreVolume_VCP_R_surround_200.bp\" \"/shared/CSHL_volumes/RV14_65hrs/RV14_65hrs_down32_annotationAsScoreVolume/score_volumes/RV14_65hrs_down32_annotationAsScoreVolume_VCP_R_surround_200.bp\"\n"
     ]
    },
    {
     "name": "stderr",
     "output_type": "stream",
     "text": [
      "File does not exist: /shared/CSHL_volumes/RV14_65hrs/RV14_65hrs_down32_annotationAsScoreVolume/score_volumes/RV14_65hrs_down32_annotationAsScoreVolume_VCP_R_surround_200.bp\n",
      "Error computing gradient for VCP_R_surround_200: [Errno 2] No such file or directory: '/shared/CSHL_volumes/RV14_65hrs/RV14_65hrs_down32_annotationAsScoreVolume/score_volumes/RV14_65hrs_down32_annotationAsScoreVolume_VCP_R_surround_200.bp'.\n"
     ]
    },
    {
     "name": "stdout",
     "output_type": "stream",
     "text": [
      "VLL_L\n",
      "rm -rf \"/shared/CSHL_volumes/RV14_65hrs/RV14_65hrs_down32_annotationAsScoreVolume/score_volumes/RV14_65hrs_down32_annotationAsScoreVolume_VLL_L.bp\" && mkdir -p \"/shared/CSHL_volumes/RV14_65hrs/RV14_65hrs_down32_annotationAsScoreVolume/score_volumes\"\n",
      "aws s3 cp \"s3://mousebrainatlas-data/CSHL_volumes/RV14_65hrs/RV14_65hrs_down32_annotationAsScoreVolume/score_volumes/RV14_65hrs_down32_annotationAsScoreVolume_VLL_L.bp\" \"/shared/CSHL_volumes/RV14_65hrs/RV14_65hrs_down32_annotationAsScoreVolume/score_volumes/RV14_65hrs_down32_annotationAsScoreVolume_VLL_L.bp\"\n"
     ]
    },
    {
     "name": "stderr",
     "output_type": "stream",
     "text": [
      "File does not exist: /shared/CSHL_volumes/RV14_65hrs/RV14_65hrs_down32_annotationAsScoreVolume/score_volumes/RV14_65hrs_down32_annotationAsScoreVolume_VLL_L.bp\n",
      "Error computing gradient for VLL_L: [Errno 2] No such file or directory: '/shared/CSHL_volumes/RV14_65hrs/RV14_65hrs_down32_annotationAsScoreVolume/score_volumes/RV14_65hrs_down32_annotationAsScoreVolume_VLL_L.bp'.\n"
     ]
    },
    {
     "name": "stdout",
     "output_type": "stream",
     "text": [
      "VLL_L_surround_200\n",
      "rm -rf \"/shared/CSHL_volumes/RV14_65hrs/RV14_65hrs_down32_annotationAsScoreVolume/score_volumes/RV14_65hrs_down32_annotationAsScoreVolume_VLL_L_surround_200.bp\" && mkdir -p \"/shared/CSHL_volumes/RV14_65hrs/RV14_65hrs_down32_annotationAsScoreVolume/score_volumes\"\n",
      "aws s3 cp \"s3://mousebrainatlas-data/CSHL_volumes/RV14_65hrs/RV14_65hrs_down32_annotationAsScoreVolume/score_volumes/RV14_65hrs_down32_annotationAsScoreVolume_VLL_L_surround_200.bp\" \"/shared/CSHL_volumes/RV14_65hrs/RV14_65hrs_down32_annotationAsScoreVolume/score_volumes/RV14_65hrs_down32_annotationAsScoreVolume_VLL_L_surround_200.bp\"\n"
     ]
    },
    {
     "name": "stderr",
     "output_type": "stream",
     "text": [
      "File does not exist: /shared/CSHL_volumes/RV14_65hrs/RV14_65hrs_down32_annotationAsScoreVolume/score_volumes/RV14_65hrs_down32_annotationAsScoreVolume_VLL_L_surround_200.bp\n",
      "Error computing gradient for VLL_L_surround_200: [Errno 2] No such file or directory: '/shared/CSHL_volumes/RV14_65hrs/RV14_65hrs_down32_annotationAsScoreVolume/score_volumes/RV14_65hrs_down32_annotationAsScoreVolume_VLL_L_surround_200.bp'.\n"
     ]
    },
    {
     "name": "stdout",
     "output_type": "stream",
     "text": [
      "VLL_R\n",
      "rm -rf \"/shared/CSHL_volumes/RV14_65hrs/RV14_65hrs_down32_annotationAsScoreVolume/score_volumes/RV14_65hrs_down32_annotationAsScoreVolume_VLL_R.bp\" && mkdir -p \"/shared/CSHL_volumes/RV14_65hrs/RV14_65hrs_down32_annotationAsScoreVolume/score_volumes\"\n",
      "aws s3 cp \"s3://mousebrainatlas-data/CSHL_volumes/RV14_65hrs/RV14_65hrs_down32_annotationAsScoreVolume/score_volumes/RV14_65hrs_down32_annotationAsScoreVolume_VLL_R.bp\" \"/shared/CSHL_volumes/RV14_65hrs/RV14_65hrs_down32_annotationAsScoreVolume/score_volumes/RV14_65hrs_down32_annotationAsScoreVolume_VLL_R.bp\"\n"
     ]
    },
    {
     "name": "stderr",
     "output_type": "stream",
     "text": [
      "File does not exist: /shared/CSHL_volumes/RV14_65hrs/RV14_65hrs_down32_annotationAsScoreVolume/score_volumes/RV14_65hrs_down32_annotationAsScoreVolume_VLL_R.bp\n",
      "Error computing gradient for VLL_R: [Errno 2] No such file or directory: '/shared/CSHL_volumes/RV14_65hrs/RV14_65hrs_down32_annotationAsScoreVolume/score_volumes/RV14_65hrs_down32_annotationAsScoreVolume_VLL_R.bp'.\n"
     ]
    },
    {
     "name": "stdout",
     "output_type": "stream",
     "text": [
      "VLL_R_surround_200\n",
      "rm -rf \"/shared/CSHL_volumes/RV14_65hrs/RV14_65hrs_down32_annotationAsScoreVolume/score_volumes/RV14_65hrs_down32_annotationAsScoreVolume_VLL_R_surround_200.bp\" && mkdir -p \"/shared/CSHL_volumes/RV14_65hrs/RV14_65hrs_down32_annotationAsScoreVolume/score_volumes\"\n",
      "aws s3 cp \"s3://mousebrainatlas-data/CSHL_volumes/RV14_65hrs/RV14_65hrs_down32_annotationAsScoreVolume/score_volumes/RV14_65hrs_down32_annotationAsScoreVolume_VLL_R_surround_200.bp\" \"/shared/CSHL_volumes/RV14_65hrs/RV14_65hrs_down32_annotationAsScoreVolume/score_volumes/RV14_65hrs_down32_annotationAsScoreVolume_VLL_R_surround_200.bp\"\n"
     ]
    },
    {
     "name": "stderr",
     "output_type": "stream",
     "text": [
      "File does not exist: /shared/CSHL_volumes/RV14_65hrs/RV14_65hrs_down32_annotationAsScoreVolume/score_volumes/RV14_65hrs_down32_annotationAsScoreVolume_VLL_R_surround_200.bp\n",
      "Error computing gradient for VLL_R_surround_200: [Errno 2] No such file or directory: '/shared/CSHL_volumes/RV14_65hrs/RV14_65hrs_down32_annotationAsScoreVolume/score_volumes/RV14_65hrs_down32_annotationAsScoreVolume_VLL_R_surround_200.bp'.\n"
     ]
    },
    {
     "name": "stdout",
     "output_type": "stream",
     "text": [
      "10N_L\n",
      "rm -rf \"/shared/CSHL_volumes/RV4_67hrs/RV4_67hrs_down32_annotationAsScoreVolume/score_volumes/RV4_67hrs_down32_annotationAsScoreVolume_10N_L.bp\" && mkdir -p \"/shared/CSHL_volumes/RV4_67hrs/RV4_67hrs_down32_annotationAsScoreVolume/score_volumes\"\n",
      "aws s3 cp \"s3://mousebrainatlas-data/CSHL_volumes/RV4_67hrs/RV4_67hrs_down32_annotationAsScoreVolume/score_volumes/RV4_67hrs_down32_annotationAsScoreVolume_10N_L.bp\" \"/shared/CSHL_volumes/RV4_67hrs/RV4_67hrs_down32_annotationAsScoreVolume/score_volumes/RV4_67hrs_down32_annotationAsScoreVolume_10N_L.bp\"\n"
     ]
    },
    {
     "name": "stderr",
     "output_type": "stream",
     "text": [
      "File does not exist: /shared/CSHL_volumes/RV4_67hrs/RV4_67hrs_down32_annotationAsScoreVolume/score_volumes/RV4_67hrs_down32_annotationAsScoreVolume_10N_L.bp\n",
      "Error computing gradient for 10N_L: [Errno 2] No such file or directory: '/shared/CSHL_volumes/RV4_67hrs/RV4_67hrs_down32_annotationAsScoreVolume/score_volumes/RV4_67hrs_down32_annotationAsScoreVolume_10N_L.bp'.\n"
     ]
    },
    {
     "name": "stdout",
     "output_type": "stream",
     "text": [
      "10N_L_surround_200\n",
      "rm -rf \"/shared/CSHL_volumes/RV4_67hrs/RV4_67hrs_down32_annotationAsScoreVolume/score_volumes/RV4_67hrs_down32_annotationAsScoreVolume_10N_L_surround_200.bp\" && mkdir -p \"/shared/CSHL_volumes/RV4_67hrs/RV4_67hrs_down32_annotationAsScoreVolume/score_volumes\"\n",
      "aws s3 cp \"s3://mousebrainatlas-data/CSHL_volumes/RV4_67hrs/RV4_67hrs_down32_annotationAsScoreVolume/score_volumes/RV4_67hrs_down32_annotationAsScoreVolume_10N_L_surround_200.bp\" \"/shared/CSHL_volumes/RV4_67hrs/RV4_67hrs_down32_annotationAsScoreVolume/score_volumes/RV4_67hrs_down32_annotationAsScoreVolume_10N_L_surround_200.bp\"\n"
     ]
    },
    {
     "name": "stderr",
     "output_type": "stream",
     "text": [
      "File does not exist: /shared/CSHL_volumes/RV4_67hrs/RV4_67hrs_down32_annotationAsScoreVolume/score_volumes/RV4_67hrs_down32_annotationAsScoreVolume_10N_L_surround_200.bp\n",
      "Error computing gradient for 10N_L_surround_200: [Errno 2] No such file or directory: '/shared/CSHL_volumes/RV4_67hrs/RV4_67hrs_down32_annotationAsScoreVolume/score_volumes/RV4_67hrs_down32_annotationAsScoreVolume_10N_L_surround_200.bp'.\n"
     ]
    },
    {
     "name": "stdout",
     "output_type": "stream",
     "text": [
      "10N_R\n",
      "rm -rf \"/shared/CSHL_volumes/RV4_67hrs/RV4_67hrs_down32_annotationAsScoreVolume/score_volumes/RV4_67hrs_down32_annotationAsScoreVolume_10N_R.bp\" && mkdir -p \"/shared/CSHL_volumes/RV4_67hrs/RV4_67hrs_down32_annotationAsScoreVolume/score_volumes\"\n",
      "aws s3 cp \"s3://mousebrainatlas-data/CSHL_volumes/RV4_67hrs/RV4_67hrs_down32_annotationAsScoreVolume/score_volumes/RV4_67hrs_down32_annotationAsScoreVolume_10N_R.bp\" \"/shared/CSHL_volumes/RV4_67hrs/RV4_67hrs_down32_annotationAsScoreVolume/score_volumes/RV4_67hrs_down32_annotationAsScoreVolume_10N_R.bp\"\n"
     ]
    },
    {
     "name": "stderr",
     "output_type": "stream",
     "text": [
      "File does not exist: /shared/CSHL_volumes/RV4_67hrs/RV4_67hrs_down32_annotationAsScoreVolume/score_volumes/RV4_67hrs_down32_annotationAsScoreVolume_10N_R.bp\n",
      "Error computing gradient for 10N_R: [Errno 2] No such file or directory: '/shared/CSHL_volumes/RV4_67hrs/RV4_67hrs_down32_annotationAsScoreVolume/score_volumes/RV4_67hrs_down32_annotationAsScoreVolume_10N_R.bp'.\n"
     ]
    },
    {
     "name": "stdout",
     "output_type": "stream",
     "text": [
      "10N_R_surround_200\n",
      "rm -rf \"/shared/CSHL_volumes/RV4_67hrs/RV4_67hrs_down32_annotationAsScoreVolume/score_volumes/RV4_67hrs_down32_annotationAsScoreVolume_10N_R_surround_200.bp\" && mkdir -p \"/shared/CSHL_volumes/RV4_67hrs/RV4_67hrs_down32_annotationAsScoreVolume/score_volumes\"\n",
      "aws s3 cp \"s3://mousebrainatlas-data/CSHL_volumes/RV4_67hrs/RV4_67hrs_down32_annotationAsScoreVolume/score_volumes/RV4_67hrs_down32_annotationAsScoreVolume_10N_R_surround_200.bp\" \"/shared/CSHL_volumes/RV4_67hrs/RV4_67hrs_down32_annotationAsScoreVolume/score_volumes/RV4_67hrs_down32_annotationAsScoreVolume_10N_R_surround_200.bp\"\n"
     ]
    },
    {
     "name": "stderr",
     "output_type": "stream",
     "text": [
      "File does not exist: /shared/CSHL_volumes/RV4_67hrs/RV4_67hrs_down32_annotationAsScoreVolume/score_volumes/RV4_67hrs_down32_annotationAsScoreVolume_10N_R_surround_200.bp\n",
      "Error computing gradient for 10N_R_surround_200: [Errno 2] No such file or directory: '/shared/CSHL_volumes/RV4_67hrs/RV4_67hrs_down32_annotationAsScoreVolume/score_volumes/RV4_67hrs_down32_annotationAsScoreVolume_10N_R_surround_200.bp'.\n"
     ]
    },
    {
     "name": "stdout",
     "output_type": "stream",
     "text": [
      "12N\n",
      "rm -rf \"/shared/CSHL_volumes/RV4_67hrs/RV4_67hrs_down32_annotationAsScoreVolume/score_volumes/RV4_67hrs_down32_annotationAsScoreVolume_12N.bp\" && mkdir -p \"/shared/CSHL_volumes/RV4_67hrs/RV4_67hrs_down32_annotationAsScoreVolume/score_volumes\"\n",
      "aws s3 cp \"s3://mousebrainatlas-data/CSHL_volumes/RV4_67hrs/RV4_67hrs_down32_annotationAsScoreVolume/score_volumes/RV4_67hrs_down32_annotationAsScoreVolume_12N.bp\" \"/shared/CSHL_volumes/RV4_67hrs/RV4_67hrs_down32_annotationAsScoreVolume/score_volumes/RV4_67hrs_down32_annotationAsScoreVolume_12N.bp\"\n"
     ]
    },
    {
     "name": "stderr",
     "output_type": "stream",
     "text": [
      "File does not exist: /shared/CSHL_volumes/RV4_67hrs/RV4_67hrs_down32_annotationAsScoreVolume/score_volumes/RV4_67hrs_down32_annotationAsScoreVolume_12N.bp\n",
      "Error computing gradient for 12N: [Errno 2] No such file or directory: '/shared/CSHL_volumes/RV4_67hrs/RV4_67hrs_down32_annotationAsScoreVolume/score_volumes/RV4_67hrs_down32_annotationAsScoreVolume_12N.bp'.\n"
     ]
    },
    {
     "name": "stdout",
     "output_type": "stream",
     "text": [
      "12N_surround_200\n",
      "rm -rf \"/shared/CSHL_volumes/RV4_67hrs/RV4_67hrs_down32_annotationAsScoreVolume/score_volumes/RV4_67hrs_down32_annotationAsScoreVolume_12N_surround_200.bp\" && mkdir -p \"/shared/CSHL_volumes/RV4_67hrs/RV4_67hrs_down32_annotationAsScoreVolume/score_volumes\"\n",
      "aws s3 cp \"s3://mousebrainatlas-data/CSHL_volumes/RV4_67hrs/RV4_67hrs_down32_annotationAsScoreVolume/score_volumes/RV4_67hrs_down32_annotationAsScoreVolume_12N_surround_200.bp\" \"/shared/CSHL_volumes/RV4_67hrs/RV4_67hrs_down32_annotationAsScoreVolume/score_volumes/RV4_67hrs_down32_annotationAsScoreVolume_12N_surround_200.bp\"\n"
     ]
    },
    {
     "name": "stderr",
     "output_type": "stream",
     "text": [
      "File does not exist: /shared/CSHL_volumes/RV4_67hrs/RV4_67hrs_down32_annotationAsScoreVolume/score_volumes/RV4_67hrs_down32_annotationAsScoreVolume_12N_surround_200.bp\n",
      "Error computing gradient for 12N_surround_200: [Errno 2] No such file or directory: '/shared/CSHL_volumes/RV4_67hrs/RV4_67hrs_down32_annotationAsScoreVolume/score_volumes/RV4_67hrs_down32_annotationAsScoreVolume_12N_surround_200.bp'.\n"
     ]
    },
    {
     "name": "stdout",
     "output_type": "stream",
     "text": [
      "3N_L\n",
      "rm -rf \"/shared/CSHL_volumes/RV4_67hrs/RV4_67hrs_down32_annotationAsScoreVolume/score_volumes/RV4_67hrs_down32_annotationAsScoreVolume_3N_L.bp\" && mkdir -p \"/shared/CSHL_volumes/RV4_67hrs/RV4_67hrs_down32_annotationAsScoreVolume/score_volumes\"\n",
      "aws s3 cp \"s3://mousebrainatlas-data/CSHL_volumes/RV4_67hrs/RV4_67hrs_down32_annotationAsScoreVolume/score_volumes/RV4_67hrs_down32_annotationAsScoreVolume_3N_L.bp\" \"/shared/CSHL_volumes/RV4_67hrs/RV4_67hrs_down32_annotationAsScoreVolume/score_volumes/RV4_67hrs_down32_annotationAsScoreVolume_3N_L.bp\"\n"
     ]
    },
    {
     "name": "stderr",
     "output_type": "stream",
     "text": [
      "File does not exist: /shared/CSHL_volumes/RV4_67hrs/RV4_67hrs_down32_annotationAsScoreVolume/score_volumes/RV4_67hrs_down32_annotationAsScoreVolume_3N_L.bp\n",
      "Error computing gradient for 3N_L: [Errno 2] No such file or directory: '/shared/CSHL_volumes/RV4_67hrs/RV4_67hrs_down32_annotationAsScoreVolume/score_volumes/RV4_67hrs_down32_annotationAsScoreVolume_3N_L.bp'.\n"
     ]
    },
    {
     "name": "stdout",
     "output_type": "stream",
     "text": [
      "3N_L_surround_200\n",
      "rm -rf \"/shared/CSHL_volumes/RV4_67hrs/RV4_67hrs_down32_annotationAsScoreVolume/score_volumes/RV4_67hrs_down32_annotationAsScoreVolume_3N_L_surround_200.bp\" && mkdir -p \"/shared/CSHL_volumes/RV4_67hrs/RV4_67hrs_down32_annotationAsScoreVolume/score_volumes\"\n",
      "aws s3 cp \"s3://mousebrainatlas-data/CSHL_volumes/RV4_67hrs/RV4_67hrs_down32_annotationAsScoreVolume/score_volumes/RV4_67hrs_down32_annotationAsScoreVolume_3N_L_surround_200.bp\" \"/shared/CSHL_volumes/RV4_67hrs/RV4_67hrs_down32_annotationAsScoreVolume/score_volumes/RV4_67hrs_down32_annotationAsScoreVolume_3N_L_surround_200.bp\"\n"
     ]
    },
    {
     "name": "stderr",
     "output_type": "stream",
     "text": [
      "File does not exist: /shared/CSHL_volumes/RV4_67hrs/RV4_67hrs_down32_annotationAsScoreVolume/score_volumes/RV4_67hrs_down32_annotationAsScoreVolume_3N_L_surround_200.bp\n",
      "Error computing gradient for 3N_L_surround_200: [Errno 2] No such file or directory: '/shared/CSHL_volumes/RV4_67hrs/RV4_67hrs_down32_annotationAsScoreVolume/score_volumes/RV4_67hrs_down32_annotationAsScoreVolume_3N_L_surround_200.bp'.\n"
     ]
    },
    {
     "name": "stdout",
     "output_type": "stream",
     "text": [
      "3N_R\n",
      "rm -rf \"/shared/CSHL_volumes/RV4_67hrs/RV4_67hrs_down32_annotationAsScoreVolume/score_volumes/RV4_67hrs_down32_annotationAsScoreVolume_3N_R.bp\" && mkdir -p \"/shared/CSHL_volumes/RV4_67hrs/RV4_67hrs_down32_annotationAsScoreVolume/score_volumes\"\n",
      "aws s3 cp \"s3://mousebrainatlas-data/CSHL_volumes/RV4_67hrs/RV4_67hrs_down32_annotationAsScoreVolume/score_volumes/RV4_67hrs_down32_annotationAsScoreVolume_3N_R.bp\" \"/shared/CSHL_volumes/RV4_67hrs/RV4_67hrs_down32_annotationAsScoreVolume/score_volumes/RV4_67hrs_down32_annotationAsScoreVolume_3N_R.bp\"\n"
     ]
    },
    {
     "name": "stderr",
     "output_type": "stream",
     "text": [
      "File does not exist: /shared/CSHL_volumes/RV4_67hrs/RV4_67hrs_down32_annotationAsScoreVolume/score_volumes/RV4_67hrs_down32_annotationAsScoreVolume_3N_R.bp\n",
      "Error computing gradient for 3N_R: [Errno 2] No such file or directory: '/shared/CSHL_volumes/RV4_67hrs/RV4_67hrs_down32_annotationAsScoreVolume/score_volumes/RV4_67hrs_down32_annotationAsScoreVolume_3N_R.bp'.\n"
     ]
    },
    {
     "name": "stdout",
     "output_type": "stream",
     "text": [
      "3N_R_surround_200\n",
      "rm -rf \"/shared/CSHL_volumes/RV4_67hrs/RV4_67hrs_down32_annotationAsScoreVolume/score_volumes/RV4_67hrs_down32_annotationAsScoreVolume_3N_R_surround_200.bp\" && mkdir -p \"/shared/CSHL_volumes/RV4_67hrs/RV4_67hrs_down32_annotationAsScoreVolume/score_volumes\"\n",
      "aws s3 cp \"s3://mousebrainatlas-data/CSHL_volumes/RV4_67hrs/RV4_67hrs_down32_annotationAsScoreVolume/score_volumes/RV4_67hrs_down32_annotationAsScoreVolume_3N_R_surround_200.bp\" \"/shared/CSHL_volumes/RV4_67hrs/RV4_67hrs_down32_annotationAsScoreVolume/score_volumes/RV4_67hrs_down32_annotationAsScoreVolume_3N_R_surround_200.bp\"\n"
     ]
    },
    {
     "name": "stderr",
     "output_type": "stream",
     "text": [
      "File does not exist: /shared/CSHL_volumes/RV4_67hrs/RV4_67hrs_down32_annotationAsScoreVolume/score_volumes/RV4_67hrs_down32_annotationAsScoreVolume_3N_R_surround_200.bp\n",
      "Error computing gradient for 3N_R_surround_200: [Errno 2] No such file or directory: '/shared/CSHL_volumes/RV4_67hrs/RV4_67hrs_down32_annotationAsScoreVolume/score_volumes/RV4_67hrs_down32_annotationAsScoreVolume_3N_R_surround_200.bp'.\n"
     ]
    },
    {
     "name": "stdout",
     "output_type": "stream",
     "text": [
      "4N_L\n",
      "rm -rf \"/shared/CSHL_volumes/RV4_67hrs/RV4_67hrs_down32_annotationAsScoreVolume/score_volumes/RV4_67hrs_down32_annotationAsScoreVolume_4N_L.bp\" && mkdir -p \"/shared/CSHL_volumes/RV4_67hrs/RV4_67hrs_down32_annotationAsScoreVolume/score_volumes\"\n",
      "aws s3 cp \"s3://mousebrainatlas-data/CSHL_volumes/RV4_67hrs/RV4_67hrs_down32_annotationAsScoreVolume/score_volumes/RV4_67hrs_down32_annotationAsScoreVolume_4N_L.bp\" \"/shared/CSHL_volumes/RV4_67hrs/RV4_67hrs_down32_annotationAsScoreVolume/score_volumes/RV4_67hrs_down32_annotationAsScoreVolume_4N_L.bp\"\n"
     ]
    },
    {
     "name": "stderr",
     "output_type": "stream",
     "text": [
      "File does not exist: /shared/CSHL_volumes/RV4_67hrs/RV4_67hrs_down32_annotationAsScoreVolume/score_volumes/RV4_67hrs_down32_annotationAsScoreVolume_4N_L.bp\n",
      "Error computing gradient for 4N_L: [Errno 2] No such file or directory: '/shared/CSHL_volumes/RV4_67hrs/RV4_67hrs_down32_annotationAsScoreVolume/score_volumes/RV4_67hrs_down32_annotationAsScoreVolume_4N_L.bp'.\n"
     ]
    },
    {
     "name": "stdout",
     "output_type": "stream",
     "text": [
      "4N_L_surround_200\n",
      "rm -rf \"/shared/CSHL_volumes/RV4_67hrs/RV4_67hrs_down32_annotationAsScoreVolume/score_volumes/RV4_67hrs_down32_annotationAsScoreVolume_4N_L_surround_200.bp\" && mkdir -p \"/shared/CSHL_volumes/RV4_67hrs/RV4_67hrs_down32_annotationAsScoreVolume/score_volumes\"\n",
      "aws s3 cp \"s3://mousebrainatlas-data/CSHL_volumes/RV4_67hrs/RV4_67hrs_down32_annotationAsScoreVolume/score_volumes/RV4_67hrs_down32_annotationAsScoreVolume_4N_L_surround_200.bp\" \"/shared/CSHL_volumes/RV4_67hrs/RV4_67hrs_down32_annotationAsScoreVolume/score_volumes/RV4_67hrs_down32_annotationAsScoreVolume_4N_L_surround_200.bp\"\n"
     ]
    },
    {
     "name": "stderr",
     "output_type": "stream",
     "text": [
      "File does not exist: /shared/CSHL_volumes/RV4_67hrs/RV4_67hrs_down32_annotationAsScoreVolume/score_volumes/RV4_67hrs_down32_annotationAsScoreVolume_4N_L_surround_200.bp\n",
      "Error computing gradient for 4N_L_surround_200: [Errno 2] No such file or directory: '/shared/CSHL_volumes/RV4_67hrs/RV4_67hrs_down32_annotationAsScoreVolume/score_volumes/RV4_67hrs_down32_annotationAsScoreVolume_4N_L_surround_200.bp'.\n"
     ]
    },
    {
     "name": "stdout",
     "output_type": "stream",
     "text": [
      "4N_R\n",
      "rm -rf \"/shared/CSHL_volumes/RV4_67hrs/RV4_67hrs_down32_annotationAsScoreVolume/score_volumes/RV4_67hrs_down32_annotationAsScoreVolume_4N_R.bp\" && mkdir -p \"/shared/CSHL_volumes/RV4_67hrs/RV4_67hrs_down32_annotationAsScoreVolume/score_volumes\"\n",
      "aws s3 cp \"s3://mousebrainatlas-data/CSHL_volumes/RV4_67hrs/RV4_67hrs_down32_annotationAsScoreVolume/score_volumes/RV4_67hrs_down32_annotationAsScoreVolume_4N_R.bp\" \"/shared/CSHL_volumes/RV4_67hrs/RV4_67hrs_down32_annotationAsScoreVolume/score_volumes/RV4_67hrs_down32_annotationAsScoreVolume_4N_R.bp\"\n"
     ]
    },
    {
     "name": "stderr",
     "output_type": "stream",
     "text": [
      "File does not exist: /shared/CSHL_volumes/RV4_67hrs/RV4_67hrs_down32_annotationAsScoreVolume/score_volumes/RV4_67hrs_down32_annotationAsScoreVolume_4N_R.bp\n",
      "Error computing gradient for 4N_R: [Errno 2] No such file or directory: '/shared/CSHL_volumes/RV4_67hrs/RV4_67hrs_down32_annotationAsScoreVolume/score_volumes/RV4_67hrs_down32_annotationAsScoreVolume_4N_R.bp'.\n"
     ]
    },
    {
     "name": "stdout",
     "output_type": "stream",
     "text": [
      "4N_R_surround_200\n",
      "rm -rf \"/shared/CSHL_volumes/RV4_67hrs/RV4_67hrs_down32_annotationAsScoreVolume/score_volumes/RV4_67hrs_down32_annotationAsScoreVolume_4N_R_surround_200.bp\" && mkdir -p \"/shared/CSHL_volumes/RV4_67hrs/RV4_67hrs_down32_annotationAsScoreVolume/score_volumes\"\n",
      "aws s3 cp \"s3://mousebrainatlas-data/CSHL_volumes/RV4_67hrs/RV4_67hrs_down32_annotationAsScoreVolume/score_volumes/RV4_67hrs_down32_annotationAsScoreVolume_4N_R_surround_200.bp\" \"/shared/CSHL_volumes/RV4_67hrs/RV4_67hrs_down32_annotationAsScoreVolume/score_volumes/RV4_67hrs_down32_annotationAsScoreVolume_4N_R_surround_200.bp\"\n"
     ]
    },
    {
     "name": "stderr",
     "output_type": "stream",
     "text": [
      "File does not exist: /shared/CSHL_volumes/RV4_67hrs/RV4_67hrs_down32_annotationAsScoreVolume/score_volumes/RV4_67hrs_down32_annotationAsScoreVolume_4N_R_surround_200.bp\n",
      "Error computing gradient for 4N_R_surround_200: [Errno 2] No such file or directory: '/shared/CSHL_volumes/RV4_67hrs/RV4_67hrs_down32_annotationAsScoreVolume/score_volumes/RV4_67hrs_down32_annotationAsScoreVolume_4N_R_surround_200.bp'.\n"
     ]
    },
    {
     "name": "stdout",
     "output_type": "stream",
     "text": [
      "5N_L\n"
     ]
    },
    {
     "name": "stderr",
     "output_type": "stream",
     "text": [
      "Gradient 5N_L: 0.833142 seconds\n"
     ]
    },
    {
     "name": "stdout",
     "output_type": "stream",
     "text": [
      "aws s3 cp \"/shared/CSHL_volumes/RV4_67hrs/RV4_67hrs_down32_annotationAsScoreVolume/score_volume_gradients/RV4_67hrs_down32_annotationAsScoreVolume_5N_L_gx.bp\" \"s3://mousebrainatlas-data/CSHL_volumes/RV4_67hrs/RV4_67hrs_down32_annotationAsScoreVolume/score_volume_gradients/RV4_67hrs_down32_annotationAsScoreVolume_5N_L_gx.bp\"\n",
      "aws s3 cp \"/shared/CSHL_volumes/RV4_67hrs/RV4_67hrs_down32_annotationAsScoreVolume/score_volume_gradients/RV4_67hrs_down32_annotationAsScoreVolume_5N_L_gy.bp\" \"s3://mousebrainatlas-data/CSHL_volumes/RV4_67hrs/RV4_67hrs_down32_annotationAsScoreVolume/score_volume_gradients/RV4_67hrs_down32_annotationAsScoreVolume_5N_L_gy.bp\"\n",
      "aws s3 cp \"/shared/CSHL_volumes/RV4_67hrs/RV4_67hrs_down32_annotationAsScoreVolume/score_volume_gradients/RV4_67hrs_down32_annotationAsScoreVolume_5N_L_gz.bp\" \"s3://mousebrainatlas-data/CSHL_volumes/RV4_67hrs/RV4_67hrs_down32_annotationAsScoreVolume/score_volume_gradients/RV4_67hrs_down32_annotationAsScoreVolume_5N_L_gz.bp\"\n"
     ]
    },
    {
     "name": "stderr",
     "output_type": "stream",
     "text": [
      "save 5N_L: 1.490511 seconds\n"
     ]
    },
    {
     "name": "stdout",
     "output_type": "stream",
     "text": [
      "5N_L_surround_200\n"
     ]
    },
    {
     "name": "stderr",
     "output_type": "stream",
     "text": [
      "Gradient 5N_L_surround_200: 0.832288 seconds\n"
     ]
    },
    {
     "name": "stdout",
     "output_type": "stream",
     "text": [
      "aws s3 cp \"/shared/CSHL_volumes/RV4_67hrs/RV4_67hrs_down32_annotationAsScoreVolume/score_volume_gradients/RV4_67hrs_down32_annotationAsScoreVolume_5N_L_surround_200_gx.bp\" \"s3://mousebrainatlas-data/CSHL_volumes/RV4_67hrs/RV4_67hrs_down32_annotationAsScoreVolume/score_volume_gradients/RV4_67hrs_down32_annotationAsScoreVolume_5N_L_surround_200_gx.bp\"\n",
      "aws s3 cp \"/shared/CSHL_volumes/RV4_67hrs/RV4_67hrs_down32_annotationAsScoreVolume/score_volume_gradients/RV4_67hrs_down32_annotationAsScoreVolume_5N_L_surround_200_gy.bp\" \"s3://mousebrainatlas-data/CSHL_volumes/RV4_67hrs/RV4_67hrs_down32_annotationAsScoreVolume/score_volume_gradients/RV4_67hrs_down32_annotationAsScoreVolume_5N_L_surround_200_gy.bp\"\n",
      "aws s3 cp \"/shared/CSHL_volumes/RV4_67hrs/RV4_67hrs_down32_annotationAsScoreVolume/score_volume_gradients/RV4_67hrs_down32_annotationAsScoreVolume_5N_L_surround_200_gz.bp\" \"s3://mousebrainatlas-data/CSHL_volumes/RV4_67hrs/RV4_67hrs_down32_annotationAsScoreVolume/score_volume_gradients/RV4_67hrs_down32_annotationAsScoreVolume_5N_L_surround_200_gz.bp\"\n"
     ]
    },
    {
     "name": "stderr",
     "output_type": "stream",
     "text": [
      "save 5N_L_surround_200: 1.557381 seconds\n"
     ]
    },
    {
     "name": "stdout",
     "output_type": "stream",
     "text": [
      "5N_R\n"
     ]
    },
    {
     "name": "stderr",
     "output_type": "stream",
     "text": [
      "Gradient 5N_R: 0.834035 seconds\n"
     ]
    },
    {
     "name": "stdout",
     "output_type": "stream",
     "text": [
      "aws s3 cp \"/shared/CSHL_volumes/RV4_67hrs/RV4_67hrs_down32_annotationAsScoreVolume/score_volume_gradients/RV4_67hrs_down32_annotationAsScoreVolume_5N_R_gx.bp\" \"s3://mousebrainatlas-data/CSHL_volumes/RV4_67hrs/RV4_67hrs_down32_annotationAsScoreVolume/score_volume_gradients/RV4_67hrs_down32_annotationAsScoreVolume_5N_R_gx.bp\"\n",
      "aws s3 cp \"/shared/CSHL_volumes/RV4_67hrs/RV4_67hrs_down32_annotationAsScoreVolume/score_volume_gradients/RV4_67hrs_down32_annotationAsScoreVolume_5N_R_gy.bp\" \"s3://mousebrainatlas-data/CSHL_volumes/RV4_67hrs/RV4_67hrs_down32_annotationAsScoreVolume/score_volume_gradients/RV4_67hrs_down32_annotationAsScoreVolume_5N_R_gy.bp\"\n",
      "aws s3 cp \"/shared/CSHL_volumes/RV4_67hrs/RV4_67hrs_down32_annotationAsScoreVolume/score_volume_gradients/RV4_67hrs_down32_annotationAsScoreVolume_5N_R_gz.bp\" \"s3://mousebrainatlas-data/CSHL_volumes/RV4_67hrs/RV4_67hrs_down32_annotationAsScoreVolume/score_volume_gradients/RV4_67hrs_down32_annotationAsScoreVolume_5N_R_gz.bp\"\n"
     ]
    },
    {
     "name": "stderr",
     "output_type": "stream",
     "text": [
      "save 5N_R: 1.497314 seconds\n"
     ]
    },
    {
     "name": "stdout",
     "output_type": "stream",
     "text": [
      "5N_R_surround_200\n"
     ]
    },
    {
     "name": "stderr",
     "output_type": "stream",
     "text": [
      "Gradient 5N_R_surround_200: 0.834600 seconds\n"
     ]
    },
    {
     "name": "stdout",
     "output_type": "stream",
     "text": [
      "aws s3 cp \"/shared/CSHL_volumes/RV4_67hrs/RV4_67hrs_down32_annotationAsScoreVolume/score_volume_gradients/RV4_67hrs_down32_annotationAsScoreVolume_5N_R_surround_200_gx.bp\" \"s3://mousebrainatlas-data/CSHL_volumes/RV4_67hrs/RV4_67hrs_down32_annotationAsScoreVolume/score_volume_gradients/RV4_67hrs_down32_annotationAsScoreVolume_5N_R_surround_200_gx.bp\"\n",
      "aws s3 cp \"/shared/CSHL_volumes/RV4_67hrs/RV4_67hrs_down32_annotationAsScoreVolume/score_volume_gradients/RV4_67hrs_down32_annotationAsScoreVolume_5N_R_surround_200_gy.bp\" \"s3://mousebrainatlas-data/CSHL_volumes/RV4_67hrs/RV4_67hrs_down32_annotationAsScoreVolume/score_volume_gradients/RV4_67hrs_down32_annotationAsScoreVolume_5N_R_surround_200_gy.bp\"\n",
      "aws s3 cp \"/shared/CSHL_volumes/RV4_67hrs/RV4_67hrs_down32_annotationAsScoreVolume/score_volume_gradients/RV4_67hrs_down32_annotationAsScoreVolume_5N_R_surround_200_gz.bp\" \"s3://mousebrainatlas-data/CSHL_volumes/RV4_67hrs/RV4_67hrs_down32_annotationAsScoreVolume/score_volume_gradients/RV4_67hrs_down32_annotationAsScoreVolume_5N_R_surround_200_gz.bp\"\n"
     ]
    },
    {
     "name": "stderr",
     "output_type": "stream",
     "text": [
      "save 5N_R_surround_200: 1.542651 seconds\n"
     ]
    },
    {
     "name": "stdout",
     "output_type": "stream",
     "text": [
      "6N_L\n",
      "rm -rf \"/shared/CSHL_volumes/RV4_67hrs/RV4_67hrs_down32_annotationAsScoreVolume/score_volumes/RV4_67hrs_down32_annotationAsScoreVolume_6N_L.bp\" && mkdir -p \"/shared/CSHL_volumes/RV4_67hrs/RV4_67hrs_down32_annotationAsScoreVolume/score_volumes\"\n",
      "aws s3 cp \"s3://mousebrainatlas-data/CSHL_volumes/RV4_67hrs/RV4_67hrs_down32_annotationAsScoreVolume/score_volumes/RV4_67hrs_down32_annotationAsScoreVolume_6N_L.bp\" \"/shared/CSHL_volumes/RV4_67hrs/RV4_67hrs_down32_annotationAsScoreVolume/score_volumes/RV4_67hrs_down32_annotationAsScoreVolume_6N_L.bp\"\n"
     ]
    },
    {
     "name": "stderr",
     "output_type": "stream",
     "text": [
      "File does not exist: /shared/CSHL_volumes/RV4_67hrs/RV4_67hrs_down32_annotationAsScoreVolume/score_volumes/RV4_67hrs_down32_annotationAsScoreVolume_6N_L.bp\n",
      "Error computing gradient for 6N_L: [Errno 2] No such file or directory: '/shared/CSHL_volumes/RV4_67hrs/RV4_67hrs_down32_annotationAsScoreVolume/score_volumes/RV4_67hrs_down32_annotationAsScoreVolume_6N_L.bp'.\n"
     ]
    },
    {
     "name": "stdout",
     "output_type": "stream",
     "text": [
      "6N_L_surround_200\n",
      "rm -rf \"/shared/CSHL_volumes/RV4_67hrs/RV4_67hrs_down32_annotationAsScoreVolume/score_volumes/RV4_67hrs_down32_annotationAsScoreVolume_6N_L_surround_200.bp\" && mkdir -p \"/shared/CSHL_volumes/RV4_67hrs/RV4_67hrs_down32_annotationAsScoreVolume/score_volumes\"\n",
      "aws s3 cp \"s3://mousebrainatlas-data/CSHL_volumes/RV4_67hrs/RV4_67hrs_down32_annotationAsScoreVolume/score_volumes/RV4_67hrs_down32_annotationAsScoreVolume_6N_L_surround_200.bp\" \"/shared/CSHL_volumes/RV4_67hrs/RV4_67hrs_down32_annotationAsScoreVolume/score_volumes/RV4_67hrs_down32_annotationAsScoreVolume_6N_L_surround_200.bp\"\n"
     ]
    },
    {
     "name": "stderr",
     "output_type": "stream",
     "text": [
      "File does not exist: /shared/CSHL_volumes/RV4_67hrs/RV4_67hrs_down32_annotationAsScoreVolume/score_volumes/RV4_67hrs_down32_annotationAsScoreVolume_6N_L_surround_200.bp\n",
      "Error computing gradient for 6N_L_surround_200: [Errno 2] No such file or directory: '/shared/CSHL_volumes/RV4_67hrs/RV4_67hrs_down32_annotationAsScoreVolume/score_volumes/RV4_67hrs_down32_annotationAsScoreVolume_6N_L_surround_200.bp'.\n"
     ]
    },
    {
     "name": "stdout",
     "output_type": "stream",
     "text": [
      "6N_R\n",
      "rm -rf \"/shared/CSHL_volumes/RV4_67hrs/RV4_67hrs_down32_annotationAsScoreVolume/score_volumes/RV4_67hrs_down32_annotationAsScoreVolume_6N_R.bp\" && mkdir -p \"/shared/CSHL_volumes/RV4_67hrs/RV4_67hrs_down32_annotationAsScoreVolume/score_volumes\"\n",
      "aws s3 cp \"s3://mousebrainatlas-data/CSHL_volumes/RV4_67hrs/RV4_67hrs_down32_annotationAsScoreVolume/score_volumes/RV4_67hrs_down32_annotationAsScoreVolume_6N_R.bp\" \"/shared/CSHL_volumes/RV4_67hrs/RV4_67hrs_down32_annotationAsScoreVolume/score_volumes/RV4_67hrs_down32_annotationAsScoreVolume_6N_R.bp\"\n"
     ]
    },
    {
     "name": "stderr",
     "output_type": "stream",
     "text": [
      "File does not exist: /shared/CSHL_volumes/RV4_67hrs/RV4_67hrs_down32_annotationAsScoreVolume/score_volumes/RV4_67hrs_down32_annotationAsScoreVolume_6N_R.bp\n",
      "Error computing gradient for 6N_R: [Errno 2] No such file or directory: '/shared/CSHL_volumes/RV4_67hrs/RV4_67hrs_down32_annotationAsScoreVolume/score_volumes/RV4_67hrs_down32_annotationAsScoreVolume_6N_R.bp'.\n"
     ]
    },
    {
     "name": "stdout",
     "output_type": "stream",
     "text": [
      "6N_R_surround_200\n",
      "rm -rf \"/shared/CSHL_volumes/RV4_67hrs/RV4_67hrs_down32_annotationAsScoreVolume/score_volumes/RV4_67hrs_down32_annotationAsScoreVolume_6N_R_surround_200.bp\" && mkdir -p \"/shared/CSHL_volumes/RV4_67hrs/RV4_67hrs_down32_annotationAsScoreVolume/score_volumes\"\n",
      "aws s3 cp \"s3://mousebrainatlas-data/CSHL_volumes/RV4_67hrs/RV4_67hrs_down32_annotationAsScoreVolume/score_volumes/RV4_67hrs_down32_annotationAsScoreVolume_6N_R_surround_200.bp\" \"/shared/CSHL_volumes/RV4_67hrs/RV4_67hrs_down32_annotationAsScoreVolume/score_volumes/RV4_67hrs_down32_annotationAsScoreVolume_6N_R_surround_200.bp\"\n"
     ]
    },
    {
     "name": "stderr",
     "output_type": "stream",
     "text": [
      "File does not exist: /shared/CSHL_volumes/RV4_67hrs/RV4_67hrs_down32_annotationAsScoreVolume/score_volumes/RV4_67hrs_down32_annotationAsScoreVolume_6N_R_surround_200.bp\n",
      "Error computing gradient for 6N_R_surround_200: [Errno 2] No such file or directory: '/shared/CSHL_volumes/RV4_67hrs/RV4_67hrs_down32_annotationAsScoreVolume/score_volumes/RV4_67hrs_down32_annotationAsScoreVolume_6N_R_surround_200.bp'.\n"
     ]
    },
    {
     "name": "stdout",
     "output_type": "stream",
     "text": [
      "7N_L\n"
     ]
    },
    {
     "name": "stderr",
     "output_type": "stream",
     "text": [
      "Gradient 7N_L: 0.833150 seconds\n"
     ]
    },
    {
     "name": "stdout",
     "output_type": "stream",
     "text": [
      "aws s3 cp \"/shared/CSHL_volumes/RV4_67hrs/RV4_67hrs_down32_annotationAsScoreVolume/score_volume_gradients/RV4_67hrs_down32_annotationAsScoreVolume_7N_L_gx.bp\" \"s3://mousebrainatlas-data/CSHL_volumes/RV4_67hrs/RV4_67hrs_down32_annotationAsScoreVolume/score_volume_gradients/RV4_67hrs_down32_annotationAsScoreVolume_7N_L_gx.bp\"\n",
      "aws s3 cp \"/shared/CSHL_volumes/RV4_67hrs/RV4_67hrs_down32_annotationAsScoreVolume/score_volume_gradients/RV4_67hrs_down32_annotationAsScoreVolume_7N_L_gy.bp\" \"s3://mousebrainatlas-data/CSHL_volumes/RV4_67hrs/RV4_67hrs_down32_annotationAsScoreVolume/score_volume_gradients/RV4_67hrs_down32_annotationAsScoreVolume_7N_L_gy.bp\"\n",
      "aws s3 cp \"/shared/CSHL_volumes/RV4_67hrs/RV4_67hrs_down32_annotationAsScoreVolume/score_volume_gradients/RV4_67hrs_down32_annotationAsScoreVolume_7N_L_gz.bp\" \"s3://mousebrainatlas-data/CSHL_volumes/RV4_67hrs/RV4_67hrs_down32_annotationAsScoreVolume/score_volume_gradients/RV4_67hrs_down32_annotationAsScoreVolume_7N_L_gz.bp\"\n"
     ]
    },
    {
     "name": "stderr",
     "output_type": "stream",
     "text": [
      "save 7N_L: 1.490830 seconds\n"
     ]
    },
    {
     "name": "stdout",
     "output_type": "stream",
     "text": [
      "7N_L_surround_200\n"
     ]
    },
    {
     "name": "stderr",
     "output_type": "stream",
     "text": [
      "Gradient 7N_L_surround_200: 0.835272 seconds\n"
     ]
    },
    {
     "name": "stdout",
     "output_type": "stream",
     "text": [
      "aws s3 cp \"/shared/CSHL_volumes/RV4_67hrs/RV4_67hrs_down32_annotationAsScoreVolume/score_volume_gradients/RV4_67hrs_down32_annotationAsScoreVolume_7N_L_surround_200_gx.bp\" \"s3://mousebrainatlas-data/CSHL_volumes/RV4_67hrs/RV4_67hrs_down32_annotationAsScoreVolume/score_volume_gradients/RV4_67hrs_down32_annotationAsScoreVolume_7N_L_surround_200_gx.bp\"\n",
      "aws s3 cp \"/shared/CSHL_volumes/RV4_67hrs/RV4_67hrs_down32_annotationAsScoreVolume/score_volume_gradients/RV4_67hrs_down32_annotationAsScoreVolume_7N_L_surround_200_gy.bp\" \"s3://mousebrainatlas-data/CSHL_volumes/RV4_67hrs/RV4_67hrs_down32_annotationAsScoreVolume/score_volume_gradients/RV4_67hrs_down32_annotationAsScoreVolume_7N_L_surround_200_gy.bp\"\n",
      "aws s3 cp \"/shared/CSHL_volumes/RV4_67hrs/RV4_67hrs_down32_annotationAsScoreVolume/score_volume_gradients/RV4_67hrs_down32_annotationAsScoreVolume_7N_L_surround_200_gz.bp\" \"s3://mousebrainatlas-data/CSHL_volumes/RV4_67hrs/RV4_67hrs_down32_annotationAsScoreVolume/score_volume_gradients/RV4_67hrs_down32_annotationAsScoreVolume_7N_L_surround_200_gz.bp\"\n"
     ]
    },
    {
     "name": "stderr",
     "output_type": "stream",
     "text": [
      "save 7N_L_surround_200: 1.571825 seconds\n"
     ]
    },
    {
     "name": "stdout",
     "output_type": "stream",
     "text": [
      "7N_R\n"
     ]
    },
    {
     "name": "stderr",
     "output_type": "stream",
     "text": [
      "Gradient 7N_R: 0.834539 seconds\n"
     ]
    },
    {
     "name": "stdout",
     "output_type": "stream",
     "text": [
      "aws s3 cp \"/shared/CSHL_volumes/RV4_67hrs/RV4_67hrs_down32_annotationAsScoreVolume/score_volume_gradients/RV4_67hrs_down32_annotationAsScoreVolume_7N_R_gx.bp\" \"s3://mousebrainatlas-data/CSHL_volumes/RV4_67hrs/RV4_67hrs_down32_annotationAsScoreVolume/score_volume_gradients/RV4_67hrs_down32_annotationAsScoreVolume_7N_R_gx.bp\"\n",
      "aws s3 cp \"/shared/CSHL_volumes/RV4_67hrs/RV4_67hrs_down32_annotationAsScoreVolume/score_volume_gradients/RV4_67hrs_down32_annotationAsScoreVolume_7N_R_gy.bp\" \"s3://mousebrainatlas-data/CSHL_volumes/RV4_67hrs/RV4_67hrs_down32_annotationAsScoreVolume/score_volume_gradients/RV4_67hrs_down32_annotationAsScoreVolume_7N_R_gy.bp\"\n",
      "aws s3 cp \"/shared/CSHL_volumes/RV4_67hrs/RV4_67hrs_down32_annotationAsScoreVolume/score_volume_gradients/RV4_67hrs_down32_annotationAsScoreVolume_7N_R_gz.bp\" \"s3://mousebrainatlas-data/CSHL_volumes/RV4_67hrs/RV4_67hrs_down32_annotationAsScoreVolume/score_volume_gradients/RV4_67hrs_down32_annotationAsScoreVolume_7N_R_gz.bp\"\n"
     ]
    },
    {
     "name": "stderr",
     "output_type": "stream",
     "text": [
      "save 7N_R: 1.691268 seconds\n"
     ]
    },
    {
     "name": "stdout",
     "output_type": "stream",
     "text": [
      "7N_R_surround_200\n"
     ]
    },
    {
     "name": "stderr",
     "output_type": "stream",
     "text": [
      "Gradient 7N_R_surround_200: 0.836125 seconds\n"
     ]
    },
    {
     "name": "stdout",
     "output_type": "stream",
     "text": [
      "aws s3 cp \"/shared/CSHL_volumes/RV4_67hrs/RV4_67hrs_down32_annotationAsScoreVolume/score_volume_gradients/RV4_67hrs_down32_annotationAsScoreVolume_7N_R_surround_200_gx.bp\" \"s3://mousebrainatlas-data/CSHL_volumes/RV4_67hrs/RV4_67hrs_down32_annotationAsScoreVolume/score_volume_gradients/RV4_67hrs_down32_annotationAsScoreVolume_7N_R_surround_200_gx.bp\"\n",
      "aws s3 cp \"/shared/CSHL_volumes/RV4_67hrs/RV4_67hrs_down32_annotationAsScoreVolume/score_volume_gradients/RV4_67hrs_down32_annotationAsScoreVolume_7N_R_surround_200_gy.bp\" \"s3://mousebrainatlas-data/CSHL_volumes/RV4_67hrs/RV4_67hrs_down32_annotationAsScoreVolume/score_volume_gradients/RV4_67hrs_down32_annotationAsScoreVolume_7N_R_surround_200_gy.bp\"\n",
      "aws s3 cp \"/shared/CSHL_volumes/RV4_67hrs/RV4_67hrs_down32_annotationAsScoreVolume/score_volume_gradients/RV4_67hrs_down32_annotationAsScoreVolume_7N_R_surround_200_gz.bp\" \"s3://mousebrainatlas-data/CSHL_volumes/RV4_67hrs/RV4_67hrs_down32_annotationAsScoreVolume/score_volume_gradients/RV4_67hrs_down32_annotationAsScoreVolume_7N_R_surround_200_gz.bp\"\n"
     ]
    },
    {
     "name": "stderr",
     "output_type": "stream",
     "text": [
      "save 7N_R_surround_200: 1.552106 seconds\n"
     ]
    },
    {
     "name": "stdout",
     "output_type": "stream",
     "text": [
      "7n_L\n"
     ]
    },
    {
     "name": "stderr",
     "output_type": "stream",
     "text": [
      "Gradient 7n_L: 0.834237 seconds\n"
     ]
    },
    {
     "name": "stdout",
     "output_type": "stream",
     "text": [
      "aws s3 cp \"/shared/CSHL_volumes/RV4_67hrs/RV4_67hrs_down32_annotationAsScoreVolume/score_volume_gradients/RV4_67hrs_down32_annotationAsScoreVolume_7n_L_gx.bp\" \"s3://mousebrainatlas-data/CSHL_volumes/RV4_67hrs/RV4_67hrs_down32_annotationAsScoreVolume/score_volume_gradients/RV4_67hrs_down32_annotationAsScoreVolume_7n_L_gx.bp\"\n",
      "aws s3 cp \"/shared/CSHL_volumes/RV4_67hrs/RV4_67hrs_down32_annotationAsScoreVolume/score_volume_gradients/RV4_67hrs_down32_annotationAsScoreVolume_7n_L_gy.bp\" \"s3://mousebrainatlas-data/CSHL_volumes/RV4_67hrs/RV4_67hrs_down32_annotationAsScoreVolume/score_volume_gradients/RV4_67hrs_down32_annotationAsScoreVolume_7n_L_gy.bp\"\n",
      "aws s3 cp \"/shared/CSHL_volumes/RV4_67hrs/RV4_67hrs_down32_annotationAsScoreVolume/score_volume_gradients/RV4_67hrs_down32_annotationAsScoreVolume_7n_L_gz.bp\" \"s3://mousebrainatlas-data/CSHL_volumes/RV4_67hrs/RV4_67hrs_down32_annotationAsScoreVolume/score_volume_gradients/RV4_67hrs_down32_annotationAsScoreVolume_7n_L_gz.bp\"\n"
     ]
    },
    {
     "name": "stderr",
     "output_type": "stream",
     "text": [
      "save 7n_L: 1.654785 seconds\n"
     ]
    },
    {
     "name": "stdout",
     "output_type": "stream",
     "text": [
      "7n_L_surround_200\n"
     ]
    },
    {
     "name": "stderr",
     "output_type": "stream",
     "text": [
      "Gradient 7n_L_surround_200: 0.835219 seconds\n"
     ]
    },
    {
     "name": "stdout",
     "output_type": "stream",
     "text": [
      "aws s3 cp \"/shared/CSHL_volumes/RV4_67hrs/RV4_67hrs_down32_annotationAsScoreVolume/score_volume_gradients/RV4_67hrs_down32_annotationAsScoreVolume_7n_L_surround_200_gx.bp\" \"s3://mousebrainatlas-data/CSHL_volumes/RV4_67hrs/RV4_67hrs_down32_annotationAsScoreVolume/score_volume_gradients/RV4_67hrs_down32_annotationAsScoreVolume_7n_L_surround_200_gx.bp\"\n",
      "aws s3 cp \"/shared/CSHL_volumes/RV4_67hrs/RV4_67hrs_down32_annotationAsScoreVolume/score_volume_gradients/RV4_67hrs_down32_annotationAsScoreVolume_7n_L_surround_200_gy.bp\" \"s3://mousebrainatlas-data/CSHL_volumes/RV4_67hrs/RV4_67hrs_down32_annotationAsScoreVolume/score_volume_gradients/RV4_67hrs_down32_annotationAsScoreVolume_7n_L_surround_200_gy.bp\"\n",
      "aws s3 cp \"/shared/CSHL_volumes/RV4_67hrs/RV4_67hrs_down32_annotationAsScoreVolume/score_volume_gradients/RV4_67hrs_down32_annotationAsScoreVolume_7n_L_surround_200_gz.bp\" \"s3://mousebrainatlas-data/CSHL_volumes/RV4_67hrs/RV4_67hrs_down32_annotationAsScoreVolume/score_volume_gradients/RV4_67hrs_down32_annotationAsScoreVolume_7n_L_surround_200_gz.bp\"\n"
     ]
    },
    {
     "name": "stderr",
     "output_type": "stream",
     "text": [
      "save 7n_L_surround_200: 1.567558 seconds\n"
     ]
    },
    {
     "name": "stdout",
     "output_type": "stream",
     "text": [
      "7n_R\n"
     ]
    },
    {
     "name": "stderr",
     "output_type": "stream",
     "text": [
      "Gradient 7n_R: 0.834112 seconds\n"
     ]
    },
    {
     "name": "stdout",
     "output_type": "stream",
     "text": [
      "aws s3 cp \"/shared/CSHL_volumes/RV4_67hrs/RV4_67hrs_down32_annotationAsScoreVolume/score_volume_gradients/RV4_67hrs_down32_annotationAsScoreVolume_7n_R_gx.bp\" \"s3://mousebrainatlas-data/CSHL_volumes/RV4_67hrs/RV4_67hrs_down32_annotationAsScoreVolume/score_volume_gradients/RV4_67hrs_down32_annotationAsScoreVolume_7n_R_gx.bp\"\n",
      "aws s3 cp \"/shared/CSHL_volumes/RV4_67hrs/RV4_67hrs_down32_annotationAsScoreVolume/score_volume_gradients/RV4_67hrs_down32_annotationAsScoreVolume_7n_R_gy.bp\" \"s3://mousebrainatlas-data/CSHL_volumes/RV4_67hrs/RV4_67hrs_down32_annotationAsScoreVolume/score_volume_gradients/RV4_67hrs_down32_annotationAsScoreVolume_7n_R_gy.bp\"\n",
      "aws s3 cp \"/shared/CSHL_volumes/RV4_67hrs/RV4_67hrs_down32_annotationAsScoreVolume/score_volume_gradients/RV4_67hrs_down32_annotationAsScoreVolume_7n_R_gz.bp\" \"s3://mousebrainatlas-data/CSHL_volumes/RV4_67hrs/RV4_67hrs_down32_annotationAsScoreVolume/score_volume_gradients/RV4_67hrs_down32_annotationAsScoreVolume_7n_R_gz.bp\"\n"
     ]
    },
    {
     "name": "stderr",
     "output_type": "stream",
     "text": [
      "save 7n_R: 1.670592 seconds\n"
     ]
    },
    {
     "name": "stdout",
     "output_type": "stream",
     "text": [
      "7n_R_surround_200\n"
     ]
    },
    {
     "name": "stderr",
     "output_type": "stream",
     "text": [
      "Gradient 7n_R_surround_200: 0.835828 seconds\n"
     ]
    },
    {
     "name": "stdout",
     "output_type": "stream",
     "text": [
      "aws s3 cp \"/shared/CSHL_volumes/RV4_67hrs/RV4_67hrs_down32_annotationAsScoreVolume/score_volume_gradients/RV4_67hrs_down32_annotationAsScoreVolume_7n_R_surround_200_gx.bp\" \"s3://mousebrainatlas-data/CSHL_volumes/RV4_67hrs/RV4_67hrs_down32_annotationAsScoreVolume/score_volume_gradients/RV4_67hrs_down32_annotationAsScoreVolume_7n_R_surround_200_gx.bp\"\n",
      "aws s3 cp \"/shared/CSHL_volumes/RV4_67hrs/RV4_67hrs_down32_annotationAsScoreVolume/score_volume_gradients/RV4_67hrs_down32_annotationAsScoreVolume_7n_R_surround_200_gy.bp\" \"s3://mousebrainatlas-data/CSHL_volumes/RV4_67hrs/RV4_67hrs_down32_annotationAsScoreVolume/score_volume_gradients/RV4_67hrs_down32_annotationAsScoreVolume_7n_R_surround_200_gy.bp\"\n",
      "aws s3 cp \"/shared/CSHL_volumes/RV4_67hrs/RV4_67hrs_down32_annotationAsScoreVolume/score_volume_gradients/RV4_67hrs_down32_annotationAsScoreVolume_7n_R_surround_200_gz.bp\" \"s3://mousebrainatlas-data/CSHL_volumes/RV4_67hrs/RV4_67hrs_down32_annotationAsScoreVolume/score_volume_gradients/RV4_67hrs_down32_annotationAsScoreVolume_7n_R_surround_200_gz.bp\"\n"
     ]
    },
    {
     "name": "stderr",
     "output_type": "stream",
     "text": [
      "save 7n_R_surround_200: 1.612383 seconds\n"
     ]
    },
    {
     "name": "stdout",
     "output_type": "stream",
     "text": [
      "AP\n",
      "rm -rf \"/shared/CSHL_volumes/RV4_67hrs/RV4_67hrs_down32_annotationAsScoreVolume/score_volumes/RV4_67hrs_down32_annotationAsScoreVolume_AP.bp\" && mkdir -p \"/shared/CSHL_volumes/RV4_67hrs/RV4_67hrs_down32_annotationAsScoreVolume/score_volumes\"\n",
      "aws s3 cp \"s3://mousebrainatlas-data/CSHL_volumes/RV4_67hrs/RV4_67hrs_down32_annotationAsScoreVolume/score_volumes/RV4_67hrs_down32_annotationAsScoreVolume_AP.bp\" \"/shared/CSHL_volumes/RV4_67hrs/RV4_67hrs_down32_annotationAsScoreVolume/score_volumes/RV4_67hrs_down32_annotationAsScoreVolume_AP.bp\"\n"
     ]
    },
    {
     "name": "stderr",
     "output_type": "stream",
     "text": [
      "File does not exist: /shared/CSHL_volumes/RV4_67hrs/RV4_67hrs_down32_annotationAsScoreVolume/score_volumes/RV4_67hrs_down32_annotationAsScoreVolume_AP.bp\n",
      "Error computing gradient for AP: [Errno 2] No such file or directory: '/shared/CSHL_volumes/RV4_67hrs/RV4_67hrs_down32_annotationAsScoreVolume/score_volumes/RV4_67hrs_down32_annotationAsScoreVolume_AP.bp'.\n"
     ]
    },
    {
     "name": "stdout",
     "output_type": "stream",
     "text": [
      "AP_surround_200\n",
      "rm -rf \"/shared/CSHL_volumes/RV4_67hrs/RV4_67hrs_down32_annotationAsScoreVolume/score_volumes/RV4_67hrs_down32_annotationAsScoreVolume_AP_surround_200.bp\" && mkdir -p \"/shared/CSHL_volumes/RV4_67hrs/RV4_67hrs_down32_annotationAsScoreVolume/score_volumes\"\n",
      "aws s3 cp \"s3://mousebrainatlas-data/CSHL_volumes/RV4_67hrs/RV4_67hrs_down32_annotationAsScoreVolume/score_volumes/RV4_67hrs_down32_annotationAsScoreVolume_AP_surround_200.bp\" \"/shared/CSHL_volumes/RV4_67hrs/RV4_67hrs_down32_annotationAsScoreVolume/score_volumes/RV4_67hrs_down32_annotationAsScoreVolume_AP_surround_200.bp\"\n"
     ]
    },
    {
     "name": "stderr",
     "output_type": "stream",
     "text": [
      "File does not exist: /shared/CSHL_volumes/RV4_67hrs/RV4_67hrs_down32_annotationAsScoreVolume/score_volumes/RV4_67hrs_down32_annotationAsScoreVolume_AP_surround_200.bp\n",
      "Error computing gradient for AP_surround_200: [Errno 2] No such file or directory: '/shared/CSHL_volumes/RV4_67hrs/RV4_67hrs_down32_annotationAsScoreVolume/score_volumes/RV4_67hrs_down32_annotationAsScoreVolume_AP_surround_200.bp'.\n"
     ]
    },
    {
     "name": "stdout",
     "output_type": "stream",
     "text": [
      "Amb_L\n",
      "rm -rf \"/shared/CSHL_volumes/RV4_67hrs/RV4_67hrs_down32_annotationAsScoreVolume/score_volumes/RV4_67hrs_down32_annotationAsScoreVolume_Amb_L.bp\" && mkdir -p \"/shared/CSHL_volumes/RV4_67hrs/RV4_67hrs_down32_annotationAsScoreVolume/score_volumes\"\n",
      "aws s3 cp \"s3://mousebrainatlas-data/CSHL_volumes/RV4_67hrs/RV4_67hrs_down32_annotationAsScoreVolume/score_volumes/RV4_67hrs_down32_annotationAsScoreVolume_Amb_L.bp\" \"/shared/CSHL_volumes/RV4_67hrs/RV4_67hrs_down32_annotationAsScoreVolume/score_volumes/RV4_67hrs_down32_annotationAsScoreVolume_Amb_L.bp\"\n"
     ]
    },
    {
     "name": "stderr",
     "output_type": "stream",
     "text": [
      "File does not exist: /shared/CSHL_volumes/RV4_67hrs/RV4_67hrs_down32_annotationAsScoreVolume/score_volumes/RV4_67hrs_down32_annotationAsScoreVolume_Amb_L.bp\n",
      "Error computing gradient for Amb_L: [Errno 2] No such file or directory: '/shared/CSHL_volumes/RV4_67hrs/RV4_67hrs_down32_annotationAsScoreVolume/score_volumes/RV4_67hrs_down32_annotationAsScoreVolume_Amb_L.bp'.\n"
     ]
    },
    {
     "name": "stdout",
     "output_type": "stream",
     "text": [
      "Amb_L_surround_200\n",
      "rm -rf \"/shared/CSHL_volumes/RV4_67hrs/RV4_67hrs_down32_annotationAsScoreVolume/score_volumes/RV4_67hrs_down32_annotationAsScoreVolume_Amb_L_surround_200.bp\" && mkdir -p \"/shared/CSHL_volumes/RV4_67hrs/RV4_67hrs_down32_annotationAsScoreVolume/score_volumes\"\n",
      "aws s3 cp \"s3://mousebrainatlas-data/CSHL_volumes/RV4_67hrs/RV4_67hrs_down32_annotationAsScoreVolume/score_volumes/RV4_67hrs_down32_annotationAsScoreVolume_Amb_L_surround_200.bp\" \"/shared/CSHL_volumes/RV4_67hrs/RV4_67hrs_down32_annotationAsScoreVolume/score_volumes/RV4_67hrs_down32_annotationAsScoreVolume_Amb_L_surround_200.bp\"\n"
     ]
    },
    {
     "name": "stderr",
     "output_type": "stream",
     "text": [
      "File does not exist: /shared/CSHL_volumes/RV4_67hrs/RV4_67hrs_down32_annotationAsScoreVolume/score_volumes/RV4_67hrs_down32_annotationAsScoreVolume_Amb_L_surround_200.bp\n",
      "Error computing gradient for Amb_L_surround_200: [Errno 2] No such file or directory: '/shared/CSHL_volumes/RV4_67hrs/RV4_67hrs_down32_annotationAsScoreVolume/score_volumes/RV4_67hrs_down32_annotationAsScoreVolume_Amb_L_surround_200.bp'.\n"
     ]
    },
    {
     "name": "stdout",
     "output_type": "stream",
     "text": [
      "Amb_R\n",
      "rm -rf \"/shared/CSHL_volumes/RV4_67hrs/RV4_67hrs_down32_annotationAsScoreVolume/score_volumes/RV4_67hrs_down32_annotationAsScoreVolume_Amb_R.bp\" && mkdir -p \"/shared/CSHL_volumes/RV4_67hrs/RV4_67hrs_down32_annotationAsScoreVolume/score_volumes\"\n",
      "aws s3 cp \"s3://mousebrainatlas-data/CSHL_volumes/RV4_67hrs/RV4_67hrs_down32_annotationAsScoreVolume/score_volumes/RV4_67hrs_down32_annotationAsScoreVolume_Amb_R.bp\" \"/shared/CSHL_volumes/RV4_67hrs/RV4_67hrs_down32_annotationAsScoreVolume/score_volumes/RV4_67hrs_down32_annotationAsScoreVolume_Amb_R.bp\"\n"
     ]
    },
    {
     "name": "stderr",
     "output_type": "stream",
     "text": [
      "File does not exist: /shared/CSHL_volumes/RV4_67hrs/RV4_67hrs_down32_annotationAsScoreVolume/score_volumes/RV4_67hrs_down32_annotationAsScoreVolume_Amb_R.bp\n",
      "Error computing gradient for Amb_R: [Errno 2] No such file or directory: '/shared/CSHL_volumes/RV4_67hrs/RV4_67hrs_down32_annotationAsScoreVolume/score_volumes/RV4_67hrs_down32_annotationAsScoreVolume_Amb_R.bp'.\n"
     ]
    },
    {
     "name": "stdout",
     "output_type": "stream",
     "text": [
      "Amb_R_surround_200\n",
      "rm -rf \"/shared/CSHL_volumes/RV4_67hrs/RV4_67hrs_down32_annotationAsScoreVolume/score_volumes/RV4_67hrs_down32_annotationAsScoreVolume_Amb_R_surround_200.bp\" && mkdir -p \"/shared/CSHL_volumes/RV4_67hrs/RV4_67hrs_down32_annotationAsScoreVolume/score_volumes\"\n",
      "aws s3 cp \"s3://mousebrainatlas-data/CSHL_volumes/RV4_67hrs/RV4_67hrs_down32_annotationAsScoreVolume/score_volumes/RV4_67hrs_down32_annotationAsScoreVolume_Amb_R_surround_200.bp\" \"/shared/CSHL_volumes/RV4_67hrs/RV4_67hrs_down32_annotationAsScoreVolume/score_volumes/RV4_67hrs_down32_annotationAsScoreVolume_Amb_R_surround_200.bp\"\n"
     ]
    },
    {
     "name": "stderr",
     "output_type": "stream",
     "text": [
      "File does not exist: /shared/CSHL_volumes/RV4_67hrs/RV4_67hrs_down32_annotationAsScoreVolume/score_volumes/RV4_67hrs_down32_annotationAsScoreVolume_Amb_R_surround_200.bp\n",
      "Error computing gradient for Amb_R_surround_200: [Errno 2] No such file or directory: '/shared/CSHL_volumes/RV4_67hrs/RV4_67hrs_down32_annotationAsScoreVolume/score_volumes/RV4_67hrs_down32_annotationAsScoreVolume_Amb_R_surround_200.bp'.\n"
     ]
    },
    {
     "name": "stdout",
     "output_type": "stream",
     "text": [
      "DC_L\n",
      "rm -rf \"/shared/CSHL_volumes/RV4_67hrs/RV4_67hrs_down32_annotationAsScoreVolume/score_volumes/RV4_67hrs_down32_annotationAsScoreVolume_DC_L.bp\" && mkdir -p \"/shared/CSHL_volumes/RV4_67hrs/RV4_67hrs_down32_annotationAsScoreVolume/score_volumes\"\n",
      "aws s3 cp \"s3://mousebrainatlas-data/CSHL_volumes/RV4_67hrs/RV4_67hrs_down32_annotationAsScoreVolume/score_volumes/RV4_67hrs_down32_annotationAsScoreVolume_DC_L.bp\" \"/shared/CSHL_volumes/RV4_67hrs/RV4_67hrs_down32_annotationAsScoreVolume/score_volumes/RV4_67hrs_down32_annotationAsScoreVolume_DC_L.bp\"\n"
     ]
    },
    {
     "name": "stderr",
     "output_type": "stream",
     "text": [
      "File does not exist: /shared/CSHL_volumes/RV4_67hrs/RV4_67hrs_down32_annotationAsScoreVolume/score_volumes/RV4_67hrs_down32_annotationAsScoreVolume_DC_L.bp\n",
      "Error computing gradient for DC_L: [Errno 2] No such file or directory: '/shared/CSHL_volumes/RV4_67hrs/RV4_67hrs_down32_annotationAsScoreVolume/score_volumes/RV4_67hrs_down32_annotationAsScoreVolume_DC_L.bp'.\n"
     ]
    },
    {
     "name": "stdout",
     "output_type": "stream",
     "text": [
      "DC_L_surround_200\n",
      "rm -rf \"/shared/CSHL_volumes/RV4_67hrs/RV4_67hrs_down32_annotationAsScoreVolume/score_volumes/RV4_67hrs_down32_annotationAsScoreVolume_DC_L_surround_200.bp\" && mkdir -p \"/shared/CSHL_volumes/RV4_67hrs/RV4_67hrs_down32_annotationAsScoreVolume/score_volumes\"\n",
      "aws s3 cp \"s3://mousebrainatlas-data/CSHL_volumes/RV4_67hrs/RV4_67hrs_down32_annotationAsScoreVolume/score_volumes/RV4_67hrs_down32_annotationAsScoreVolume_DC_L_surround_200.bp\" \"/shared/CSHL_volumes/RV4_67hrs/RV4_67hrs_down32_annotationAsScoreVolume/score_volumes/RV4_67hrs_down32_annotationAsScoreVolume_DC_L_surround_200.bp\"\n"
     ]
    },
    {
     "name": "stderr",
     "output_type": "stream",
     "text": [
      "File does not exist: /shared/CSHL_volumes/RV4_67hrs/RV4_67hrs_down32_annotationAsScoreVolume/score_volumes/RV4_67hrs_down32_annotationAsScoreVolume_DC_L_surround_200.bp\n",
      "Error computing gradient for DC_L_surround_200: [Errno 2] No such file or directory: '/shared/CSHL_volumes/RV4_67hrs/RV4_67hrs_down32_annotationAsScoreVolume/score_volumes/RV4_67hrs_down32_annotationAsScoreVolume_DC_L_surround_200.bp'.\n"
     ]
    },
    {
     "name": "stdout",
     "output_type": "stream",
     "text": [
      "DC_R\n",
      "rm -rf \"/shared/CSHL_volumes/RV4_67hrs/RV4_67hrs_down32_annotationAsScoreVolume/score_volumes/RV4_67hrs_down32_annotationAsScoreVolume_DC_R.bp\" && mkdir -p \"/shared/CSHL_volumes/RV4_67hrs/RV4_67hrs_down32_annotationAsScoreVolume/score_volumes\"\n",
      "aws s3 cp \"s3://mousebrainatlas-data/CSHL_volumes/RV4_67hrs/RV4_67hrs_down32_annotationAsScoreVolume/score_volumes/RV4_67hrs_down32_annotationAsScoreVolume_DC_R.bp\" \"/shared/CSHL_volumes/RV4_67hrs/RV4_67hrs_down32_annotationAsScoreVolume/score_volumes/RV4_67hrs_down32_annotationAsScoreVolume_DC_R.bp\"\n"
     ]
    },
    {
     "name": "stderr",
     "output_type": "stream",
     "text": [
      "File does not exist: /shared/CSHL_volumes/RV4_67hrs/RV4_67hrs_down32_annotationAsScoreVolume/score_volumes/RV4_67hrs_down32_annotationAsScoreVolume_DC_R.bp\n",
      "Error computing gradient for DC_R: [Errno 2] No such file or directory: '/shared/CSHL_volumes/RV4_67hrs/RV4_67hrs_down32_annotationAsScoreVolume/score_volumes/RV4_67hrs_down32_annotationAsScoreVolume_DC_R.bp'.\n"
     ]
    },
    {
     "name": "stdout",
     "output_type": "stream",
     "text": [
      "DC_R_surround_200\n",
      "rm -rf \"/shared/CSHL_volumes/RV4_67hrs/RV4_67hrs_down32_annotationAsScoreVolume/score_volumes/RV4_67hrs_down32_annotationAsScoreVolume_DC_R_surround_200.bp\" && mkdir -p \"/shared/CSHL_volumes/RV4_67hrs/RV4_67hrs_down32_annotationAsScoreVolume/score_volumes\"\n",
      "aws s3 cp \"s3://mousebrainatlas-data/CSHL_volumes/RV4_67hrs/RV4_67hrs_down32_annotationAsScoreVolume/score_volumes/RV4_67hrs_down32_annotationAsScoreVolume_DC_R_surround_200.bp\" \"/shared/CSHL_volumes/RV4_67hrs/RV4_67hrs_down32_annotationAsScoreVolume/score_volumes/RV4_67hrs_down32_annotationAsScoreVolume_DC_R_surround_200.bp\"\n"
     ]
    },
    {
     "name": "stderr",
     "output_type": "stream",
     "text": [
      "File does not exist: /shared/CSHL_volumes/RV4_67hrs/RV4_67hrs_down32_annotationAsScoreVolume/score_volumes/RV4_67hrs_down32_annotationAsScoreVolume_DC_R_surround_200.bp\n",
      "Error computing gradient for DC_R_surround_200: [Errno 2] No such file or directory: '/shared/CSHL_volumes/RV4_67hrs/RV4_67hrs_down32_annotationAsScoreVolume/score_volumes/RV4_67hrs_down32_annotationAsScoreVolume_DC_R_surround_200.bp'.\n"
     ]
    },
    {
     "name": "stdout",
     "output_type": "stream",
     "text": [
      "IC\n",
      "rm -rf \"/shared/CSHL_volumes/RV4_67hrs/RV4_67hrs_down32_annotationAsScoreVolume/score_volumes/RV4_67hrs_down32_annotationAsScoreVolume_IC.bp\" && mkdir -p \"/shared/CSHL_volumes/RV4_67hrs/RV4_67hrs_down32_annotationAsScoreVolume/score_volumes\"\n",
      "aws s3 cp \"s3://mousebrainatlas-data/CSHL_volumes/RV4_67hrs/RV4_67hrs_down32_annotationAsScoreVolume/score_volumes/RV4_67hrs_down32_annotationAsScoreVolume_IC.bp\" \"/shared/CSHL_volumes/RV4_67hrs/RV4_67hrs_down32_annotationAsScoreVolume/score_volumes/RV4_67hrs_down32_annotationAsScoreVolume_IC.bp\"\n"
     ]
    },
    {
     "name": "stderr",
     "output_type": "stream",
     "text": [
      "File does not exist: /shared/CSHL_volumes/RV4_67hrs/RV4_67hrs_down32_annotationAsScoreVolume/score_volumes/RV4_67hrs_down32_annotationAsScoreVolume_IC.bp\n",
      "Error computing gradient for IC: [Errno 2] No such file or directory: '/shared/CSHL_volumes/RV4_67hrs/RV4_67hrs_down32_annotationAsScoreVolume/score_volumes/RV4_67hrs_down32_annotationAsScoreVolume_IC.bp'.\n"
     ]
    },
    {
     "name": "stdout",
     "output_type": "stream",
     "text": [
      "IC_surround_200\n",
      "rm -rf \"/shared/CSHL_volumes/RV4_67hrs/RV4_67hrs_down32_annotationAsScoreVolume/score_volumes/RV4_67hrs_down32_annotationAsScoreVolume_IC_surround_200.bp\" && mkdir -p \"/shared/CSHL_volumes/RV4_67hrs/RV4_67hrs_down32_annotationAsScoreVolume/score_volumes\"\n",
      "aws s3 cp \"s3://mousebrainatlas-data/CSHL_volumes/RV4_67hrs/RV4_67hrs_down32_annotationAsScoreVolume/score_volumes/RV4_67hrs_down32_annotationAsScoreVolume_IC_surround_200.bp\" \"/shared/CSHL_volumes/RV4_67hrs/RV4_67hrs_down32_annotationAsScoreVolume/score_volumes/RV4_67hrs_down32_annotationAsScoreVolume_IC_surround_200.bp\"\n"
     ]
    },
    {
     "name": "stderr",
     "output_type": "stream",
     "text": [
      "File does not exist: /shared/CSHL_volumes/RV4_67hrs/RV4_67hrs_down32_annotationAsScoreVolume/score_volumes/RV4_67hrs_down32_annotationAsScoreVolume_IC_surround_200.bp\n",
      "Error computing gradient for IC_surround_200: [Errno 2] No such file or directory: '/shared/CSHL_volumes/RV4_67hrs/RV4_67hrs_down32_annotationAsScoreVolume/score_volumes/RV4_67hrs_down32_annotationAsScoreVolume_IC_surround_200.bp'.\n"
     ]
    },
    {
     "name": "stdout",
     "output_type": "stream",
     "text": [
      "LC_L\n",
      "rm -rf \"/shared/CSHL_volumes/RV4_67hrs/RV4_67hrs_down32_annotationAsScoreVolume/score_volumes/RV4_67hrs_down32_annotationAsScoreVolume_LC_L.bp\" && mkdir -p \"/shared/CSHL_volumes/RV4_67hrs/RV4_67hrs_down32_annotationAsScoreVolume/score_volumes\"\n",
      "aws s3 cp \"s3://mousebrainatlas-data/CSHL_volumes/RV4_67hrs/RV4_67hrs_down32_annotationAsScoreVolume/score_volumes/RV4_67hrs_down32_annotationAsScoreVolume_LC_L.bp\" \"/shared/CSHL_volumes/RV4_67hrs/RV4_67hrs_down32_annotationAsScoreVolume/score_volumes/RV4_67hrs_down32_annotationAsScoreVolume_LC_L.bp\"\n"
     ]
    },
    {
     "name": "stderr",
     "output_type": "stream",
     "text": [
      "File does not exist: /shared/CSHL_volumes/RV4_67hrs/RV4_67hrs_down32_annotationAsScoreVolume/score_volumes/RV4_67hrs_down32_annotationAsScoreVolume_LC_L.bp\n",
      "Error computing gradient for LC_L: [Errno 2] No such file or directory: '/shared/CSHL_volumes/RV4_67hrs/RV4_67hrs_down32_annotationAsScoreVolume/score_volumes/RV4_67hrs_down32_annotationAsScoreVolume_LC_L.bp'.\n"
     ]
    },
    {
     "name": "stdout",
     "output_type": "stream",
     "text": [
      "LC_L_surround_200\n",
      "rm -rf \"/shared/CSHL_volumes/RV4_67hrs/RV4_67hrs_down32_annotationAsScoreVolume/score_volumes/RV4_67hrs_down32_annotationAsScoreVolume_LC_L_surround_200.bp\" && mkdir -p \"/shared/CSHL_volumes/RV4_67hrs/RV4_67hrs_down32_annotationAsScoreVolume/score_volumes\"\n",
      "aws s3 cp \"s3://mousebrainatlas-data/CSHL_volumes/RV4_67hrs/RV4_67hrs_down32_annotationAsScoreVolume/score_volumes/RV4_67hrs_down32_annotationAsScoreVolume_LC_L_surround_200.bp\" \"/shared/CSHL_volumes/RV4_67hrs/RV4_67hrs_down32_annotationAsScoreVolume/score_volumes/RV4_67hrs_down32_annotationAsScoreVolume_LC_L_surround_200.bp\"\n"
     ]
    },
    {
     "name": "stderr",
     "output_type": "stream",
     "text": [
      "File does not exist: /shared/CSHL_volumes/RV4_67hrs/RV4_67hrs_down32_annotationAsScoreVolume/score_volumes/RV4_67hrs_down32_annotationAsScoreVolume_LC_L_surround_200.bp\n",
      "Error computing gradient for LC_L_surround_200: [Errno 2] No such file or directory: '/shared/CSHL_volumes/RV4_67hrs/RV4_67hrs_down32_annotationAsScoreVolume/score_volumes/RV4_67hrs_down32_annotationAsScoreVolume_LC_L_surround_200.bp'.\n"
     ]
    },
    {
     "name": "stdout",
     "output_type": "stream",
     "text": [
      "LC_R\n",
      "rm -rf \"/shared/CSHL_volumes/RV4_67hrs/RV4_67hrs_down32_annotationAsScoreVolume/score_volumes/RV4_67hrs_down32_annotationAsScoreVolume_LC_R.bp\" && mkdir -p \"/shared/CSHL_volumes/RV4_67hrs/RV4_67hrs_down32_annotationAsScoreVolume/score_volumes\"\n",
      "aws s3 cp \"s3://mousebrainatlas-data/CSHL_volumes/RV4_67hrs/RV4_67hrs_down32_annotationAsScoreVolume/score_volumes/RV4_67hrs_down32_annotationAsScoreVolume_LC_R.bp\" \"/shared/CSHL_volumes/RV4_67hrs/RV4_67hrs_down32_annotationAsScoreVolume/score_volumes/RV4_67hrs_down32_annotationAsScoreVolume_LC_R.bp\"\n"
     ]
    },
    {
     "name": "stderr",
     "output_type": "stream",
     "text": [
      "File does not exist: /shared/CSHL_volumes/RV4_67hrs/RV4_67hrs_down32_annotationAsScoreVolume/score_volumes/RV4_67hrs_down32_annotationAsScoreVolume_LC_R.bp\n",
      "Error computing gradient for LC_R: [Errno 2] No such file or directory: '/shared/CSHL_volumes/RV4_67hrs/RV4_67hrs_down32_annotationAsScoreVolume/score_volumes/RV4_67hrs_down32_annotationAsScoreVolume_LC_R.bp'.\n"
     ]
    },
    {
     "name": "stdout",
     "output_type": "stream",
     "text": [
      "LC_R_surround_200\n",
      "rm -rf \"/shared/CSHL_volumes/RV4_67hrs/RV4_67hrs_down32_annotationAsScoreVolume/score_volumes/RV4_67hrs_down32_annotationAsScoreVolume_LC_R_surround_200.bp\" && mkdir -p \"/shared/CSHL_volumes/RV4_67hrs/RV4_67hrs_down32_annotationAsScoreVolume/score_volumes\"\n",
      "aws s3 cp \"s3://mousebrainatlas-data/CSHL_volumes/RV4_67hrs/RV4_67hrs_down32_annotationAsScoreVolume/score_volumes/RV4_67hrs_down32_annotationAsScoreVolume_LC_R_surround_200.bp\" \"/shared/CSHL_volumes/RV4_67hrs/RV4_67hrs_down32_annotationAsScoreVolume/score_volumes/RV4_67hrs_down32_annotationAsScoreVolume_LC_R_surround_200.bp\"\n"
     ]
    },
    {
     "name": "stderr",
     "output_type": "stream",
     "text": [
      "File does not exist: /shared/CSHL_volumes/RV4_67hrs/RV4_67hrs_down32_annotationAsScoreVolume/score_volumes/RV4_67hrs_down32_annotationAsScoreVolume_LC_R_surround_200.bp\n",
      "Error computing gradient for LC_R_surround_200: [Errno 2] No such file or directory: '/shared/CSHL_volumes/RV4_67hrs/RV4_67hrs_down32_annotationAsScoreVolume/score_volumes/RV4_67hrs_down32_annotationAsScoreVolume_LC_R_surround_200.bp'.\n"
     ]
    },
    {
     "name": "stdout",
     "output_type": "stream",
     "text": [
      "LRt_L\n"
     ]
    },
    {
     "name": "stderr",
     "output_type": "stream",
     "text": [
      "Gradient LRt_L: 0.835065 seconds\n"
     ]
    },
    {
     "name": "stdout",
     "output_type": "stream",
     "text": [
      "aws s3 cp \"/shared/CSHL_volumes/RV4_67hrs/RV4_67hrs_down32_annotationAsScoreVolume/score_volume_gradients/RV4_67hrs_down32_annotationAsScoreVolume_LRt_L_gx.bp\" \"s3://mousebrainatlas-data/CSHL_volumes/RV4_67hrs/RV4_67hrs_down32_annotationAsScoreVolume/score_volume_gradients/RV4_67hrs_down32_annotationAsScoreVolume_LRt_L_gx.bp\"\n",
      "aws s3 cp \"/shared/CSHL_volumes/RV4_67hrs/RV4_67hrs_down32_annotationAsScoreVolume/score_volume_gradients/RV4_67hrs_down32_annotationAsScoreVolume_LRt_L_gy.bp\" \"s3://mousebrainatlas-data/CSHL_volumes/RV4_67hrs/RV4_67hrs_down32_annotationAsScoreVolume/score_volume_gradients/RV4_67hrs_down32_annotationAsScoreVolume_LRt_L_gy.bp\"\n",
      "aws s3 cp \"/shared/CSHL_volumes/RV4_67hrs/RV4_67hrs_down32_annotationAsScoreVolume/score_volume_gradients/RV4_67hrs_down32_annotationAsScoreVolume_LRt_L_gz.bp\" \"s3://mousebrainatlas-data/CSHL_volumes/RV4_67hrs/RV4_67hrs_down32_annotationAsScoreVolume/score_volume_gradients/RV4_67hrs_down32_annotationAsScoreVolume_LRt_L_gz.bp\"\n"
     ]
    },
    {
     "name": "stderr",
     "output_type": "stream",
     "text": [
      "save LRt_L: 1.579627 seconds\n"
     ]
    },
    {
     "name": "stdout",
     "output_type": "stream",
     "text": [
      "LRt_L_surround_200\n"
     ]
    },
    {
     "name": "stderr",
     "output_type": "stream",
     "text": [
      "Gradient LRt_L_surround_200: 0.835238 seconds\n"
     ]
    },
    {
     "name": "stdout",
     "output_type": "stream",
     "text": [
      "aws s3 cp \"/shared/CSHL_volumes/RV4_67hrs/RV4_67hrs_down32_annotationAsScoreVolume/score_volume_gradients/RV4_67hrs_down32_annotationAsScoreVolume_LRt_L_surround_200_gx.bp\" \"s3://mousebrainatlas-data/CSHL_volumes/RV4_67hrs/RV4_67hrs_down32_annotationAsScoreVolume/score_volume_gradients/RV4_67hrs_down32_annotationAsScoreVolume_LRt_L_surround_200_gx.bp\"\n",
      "aws s3 cp \"/shared/CSHL_volumes/RV4_67hrs/RV4_67hrs_down32_annotationAsScoreVolume/score_volume_gradients/RV4_67hrs_down32_annotationAsScoreVolume_LRt_L_surround_200_gy.bp\" \"s3://mousebrainatlas-data/CSHL_volumes/RV4_67hrs/RV4_67hrs_down32_annotationAsScoreVolume/score_volume_gradients/RV4_67hrs_down32_annotationAsScoreVolume_LRt_L_surround_200_gy.bp\"\n",
      "aws s3 cp \"/shared/CSHL_volumes/RV4_67hrs/RV4_67hrs_down32_annotationAsScoreVolume/score_volume_gradients/RV4_67hrs_down32_annotationAsScoreVolume_LRt_L_surround_200_gz.bp\" \"s3://mousebrainatlas-data/CSHL_volumes/RV4_67hrs/RV4_67hrs_down32_annotationAsScoreVolume/score_volume_gradients/RV4_67hrs_down32_annotationAsScoreVolume_LRt_L_surround_200_gz.bp\"\n"
     ]
    },
    {
     "name": "stderr",
     "output_type": "stream",
     "text": [
      "save LRt_L_surround_200: 1.557051 seconds\n"
     ]
    },
    {
     "name": "stdout",
     "output_type": "stream",
     "text": [
      "LRt_R\n"
     ]
    },
    {
     "name": "stderr",
     "output_type": "stream",
     "text": [
      "Gradient LRt_R: 0.836354 seconds\n"
     ]
    },
    {
     "name": "stdout",
     "output_type": "stream",
     "text": [
      "aws s3 cp \"/shared/CSHL_volumes/RV4_67hrs/RV4_67hrs_down32_annotationAsScoreVolume/score_volume_gradients/RV4_67hrs_down32_annotationAsScoreVolume_LRt_R_gx.bp\" \"s3://mousebrainatlas-data/CSHL_volumes/RV4_67hrs/RV4_67hrs_down32_annotationAsScoreVolume/score_volume_gradients/RV4_67hrs_down32_annotationAsScoreVolume_LRt_R_gx.bp\"\n",
      "aws s3 cp \"/shared/CSHL_volumes/RV4_67hrs/RV4_67hrs_down32_annotationAsScoreVolume/score_volume_gradients/RV4_67hrs_down32_annotationAsScoreVolume_LRt_R_gy.bp\" \"s3://mousebrainatlas-data/CSHL_volumes/RV4_67hrs/RV4_67hrs_down32_annotationAsScoreVolume/score_volume_gradients/RV4_67hrs_down32_annotationAsScoreVolume_LRt_R_gy.bp\"\n",
      "aws s3 cp \"/shared/CSHL_volumes/RV4_67hrs/RV4_67hrs_down32_annotationAsScoreVolume/score_volume_gradients/RV4_67hrs_down32_annotationAsScoreVolume_LRt_R_gz.bp\" \"s3://mousebrainatlas-data/CSHL_volumes/RV4_67hrs/RV4_67hrs_down32_annotationAsScoreVolume/score_volume_gradients/RV4_67hrs_down32_annotationAsScoreVolume_LRt_R_gz.bp\"\n"
     ]
    },
    {
     "name": "stderr",
     "output_type": "stream",
     "text": [
      "save LRt_R: 1.588161 seconds\n"
     ]
    },
    {
     "name": "stdout",
     "output_type": "stream",
     "text": [
      "LRt_R_surround_200\n"
     ]
    },
    {
     "name": "stderr",
     "output_type": "stream",
     "text": [
      "Gradient LRt_R_surround_200: 0.836555 seconds\n"
     ]
    },
    {
     "name": "stdout",
     "output_type": "stream",
     "text": [
      "aws s3 cp \"/shared/CSHL_volumes/RV4_67hrs/RV4_67hrs_down32_annotationAsScoreVolume/score_volume_gradients/RV4_67hrs_down32_annotationAsScoreVolume_LRt_R_surround_200_gx.bp\" \"s3://mousebrainatlas-data/CSHL_volumes/RV4_67hrs/RV4_67hrs_down32_annotationAsScoreVolume/score_volume_gradients/RV4_67hrs_down32_annotationAsScoreVolume_LRt_R_surround_200_gx.bp\"\n",
      "aws s3 cp \"/shared/CSHL_volumes/RV4_67hrs/RV4_67hrs_down32_annotationAsScoreVolume/score_volume_gradients/RV4_67hrs_down32_annotationAsScoreVolume_LRt_R_surround_200_gy.bp\" \"s3://mousebrainatlas-data/CSHL_volumes/RV4_67hrs/RV4_67hrs_down32_annotationAsScoreVolume/score_volume_gradients/RV4_67hrs_down32_annotationAsScoreVolume_LRt_R_surround_200_gy.bp\"\n",
      "aws s3 cp \"/shared/CSHL_volumes/RV4_67hrs/RV4_67hrs_down32_annotationAsScoreVolume/score_volume_gradients/RV4_67hrs_down32_annotationAsScoreVolume_LRt_R_surround_200_gz.bp\" \"s3://mousebrainatlas-data/CSHL_volumes/RV4_67hrs/RV4_67hrs_down32_annotationAsScoreVolume/score_volume_gradients/RV4_67hrs_down32_annotationAsScoreVolume_LRt_R_surround_200_gz.bp\"\n"
     ]
    },
    {
     "name": "stderr",
     "output_type": "stream",
     "text": [
      "save LRt_R_surround_200: 1.620175 seconds\n"
     ]
    },
    {
     "name": "stdout",
     "output_type": "stream",
     "text": [
      "PBG_L\n",
      "rm -rf \"/shared/CSHL_volumes/RV4_67hrs/RV4_67hrs_down32_annotationAsScoreVolume/score_volumes/RV4_67hrs_down32_annotationAsScoreVolume_PBG_L.bp\" && mkdir -p \"/shared/CSHL_volumes/RV4_67hrs/RV4_67hrs_down32_annotationAsScoreVolume/score_volumes\"\n",
      "aws s3 cp \"s3://mousebrainatlas-data/CSHL_volumes/RV4_67hrs/RV4_67hrs_down32_annotationAsScoreVolume/score_volumes/RV4_67hrs_down32_annotationAsScoreVolume_PBG_L.bp\" \"/shared/CSHL_volumes/RV4_67hrs/RV4_67hrs_down32_annotationAsScoreVolume/score_volumes/RV4_67hrs_down32_annotationAsScoreVolume_PBG_L.bp\"\n"
     ]
    },
    {
     "name": "stderr",
     "output_type": "stream",
     "text": [
      "File does not exist: /shared/CSHL_volumes/RV4_67hrs/RV4_67hrs_down32_annotationAsScoreVolume/score_volumes/RV4_67hrs_down32_annotationAsScoreVolume_PBG_L.bp\n",
      "Error computing gradient for PBG_L: [Errno 2] No such file or directory: '/shared/CSHL_volumes/RV4_67hrs/RV4_67hrs_down32_annotationAsScoreVolume/score_volumes/RV4_67hrs_down32_annotationAsScoreVolume_PBG_L.bp'.\n"
     ]
    },
    {
     "name": "stdout",
     "output_type": "stream",
     "text": [
      "PBG_L_surround_200\n",
      "rm -rf \"/shared/CSHL_volumes/RV4_67hrs/RV4_67hrs_down32_annotationAsScoreVolume/score_volumes/RV4_67hrs_down32_annotationAsScoreVolume_PBG_L_surround_200.bp\" && mkdir -p \"/shared/CSHL_volumes/RV4_67hrs/RV4_67hrs_down32_annotationAsScoreVolume/score_volumes\"\n",
      "aws s3 cp \"s3://mousebrainatlas-data/CSHL_volumes/RV4_67hrs/RV4_67hrs_down32_annotationAsScoreVolume/score_volumes/RV4_67hrs_down32_annotationAsScoreVolume_PBG_L_surround_200.bp\" \"/shared/CSHL_volumes/RV4_67hrs/RV4_67hrs_down32_annotationAsScoreVolume/score_volumes/RV4_67hrs_down32_annotationAsScoreVolume_PBG_L_surround_200.bp\"\n"
     ]
    },
    {
     "name": "stderr",
     "output_type": "stream",
     "text": [
      "File does not exist: /shared/CSHL_volumes/RV4_67hrs/RV4_67hrs_down32_annotationAsScoreVolume/score_volumes/RV4_67hrs_down32_annotationAsScoreVolume_PBG_L_surround_200.bp\n",
      "Error computing gradient for PBG_L_surround_200: [Errno 2] No such file or directory: '/shared/CSHL_volumes/RV4_67hrs/RV4_67hrs_down32_annotationAsScoreVolume/score_volumes/RV4_67hrs_down32_annotationAsScoreVolume_PBG_L_surround_200.bp'.\n"
     ]
    },
    {
     "name": "stdout",
     "output_type": "stream",
     "text": [
      "PBG_R\n",
      "rm -rf \"/shared/CSHL_volumes/RV4_67hrs/RV4_67hrs_down32_annotationAsScoreVolume/score_volumes/RV4_67hrs_down32_annotationAsScoreVolume_PBG_R.bp\" && mkdir -p \"/shared/CSHL_volumes/RV4_67hrs/RV4_67hrs_down32_annotationAsScoreVolume/score_volumes\"\n",
      "aws s3 cp \"s3://mousebrainatlas-data/CSHL_volumes/RV4_67hrs/RV4_67hrs_down32_annotationAsScoreVolume/score_volumes/RV4_67hrs_down32_annotationAsScoreVolume_PBG_R.bp\" \"/shared/CSHL_volumes/RV4_67hrs/RV4_67hrs_down32_annotationAsScoreVolume/score_volumes/RV4_67hrs_down32_annotationAsScoreVolume_PBG_R.bp\"\n"
     ]
    },
    {
     "name": "stderr",
     "output_type": "stream",
     "text": [
      "File does not exist: /shared/CSHL_volumes/RV4_67hrs/RV4_67hrs_down32_annotationAsScoreVolume/score_volumes/RV4_67hrs_down32_annotationAsScoreVolume_PBG_R.bp\n",
      "Error computing gradient for PBG_R: [Errno 2] No such file or directory: '/shared/CSHL_volumes/RV4_67hrs/RV4_67hrs_down32_annotationAsScoreVolume/score_volumes/RV4_67hrs_down32_annotationAsScoreVolume_PBG_R.bp'.\n"
     ]
    },
    {
     "name": "stdout",
     "output_type": "stream",
     "text": [
      "PBG_R_surround_200\n",
      "rm -rf \"/shared/CSHL_volumes/RV4_67hrs/RV4_67hrs_down32_annotationAsScoreVolume/score_volumes/RV4_67hrs_down32_annotationAsScoreVolume_PBG_R_surround_200.bp\" && mkdir -p \"/shared/CSHL_volumes/RV4_67hrs/RV4_67hrs_down32_annotationAsScoreVolume/score_volumes\"\n",
      "aws s3 cp \"s3://mousebrainatlas-data/CSHL_volumes/RV4_67hrs/RV4_67hrs_down32_annotationAsScoreVolume/score_volumes/RV4_67hrs_down32_annotationAsScoreVolume_PBG_R_surround_200.bp\" \"/shared/CSHL_volumes/RV4_67hrs/RV4_67hrs_down32_annotationAsScoreVolume/score_volumes/RV4_67hrs_down32_annotationAsScoreVolume_PBG_R_surround_200.bp\"\n"
     ]
    },
    {
     "name": "stderr",
     "output_type": "stream",
     "text": [
      "File does not exist: /shared/CSHL_volumes/RV4_67hrs/RV4_67hrs_down32_annotationAsScoreVolume/score_volumes/RV4_67hrs_down32_annotationAsScoreVolume_PBG_R_surround_200.bp\n",
      "Error computing gradient for PBG_R_surround_200: [Errno 2] No such file or directory: '/shared/CSHL_volumes/RV4_67hrs/RV4_67hrs_down32_annotationAsScoreVolume/score_volumes/RV4_67hrs_down32_annotationAsScoreVolume_PBG_R_surround_200.bp'.\n"
     ]
    },
    {
     "name": "stdout",
     "output_type": "stream",
     "text": [
      "Pn_L\n",
      "rm -rf \"/shared/CSHL_volumes/RV4_67hrs/RV4_67hrs_down32_annotationAsScoreVolume/score_volumes/RV4_67hrs_down32_annotationAsScoreVolume_Pn_L.bp\" && mkdir -p \"/shared/CSHL_volumes/RV4_67hrs/RV4_67hrs_down32_annotationAsScoreVolume/score_volumes\"\n",
      "aws s3 cp \"s3://mousebrainatlas-data/CSHL_volumes/RV4_67hrs/RV4_67hrs_down32_annotationAsScoreVolume/score_volumes/RV4_67hrs_down32_annotationAsScoreVolume_Pn_L.bp\" \"/shared/CSHL_volumes/RV4_67hrs/RV4_67hrs_down32_annotationAsScoreVolume/score_volumes/RV4_67hrs_down32_annotationAsScoreVolume_Pn_L.bp\"\n"
     ]
    },
    {
     "name": "stderr",
     "output_type": "stream",
     "text": [
      "File does not exist: /shared/CSHL_volumes/RV4_67hrs/RV4_67hrs_down32_annotationAsScoreVolume/score_volumes/RV4_67hrs_down32_annotationAsScoreVolume_Pn_L.bp\n",
      "Error computing gradient for Pn_L: [Errno 2] No such file or directory: '/shared/CSHL_volumes/RV4_67hrs/RV4_67hrs_down32_annotationAsScoreVolume/score_volumes/RV4_67hrs_down32_annotationAsScoreVolume_Pn_L.bp'.\n"
     ]
    },
    {
     "name": "stdout",
     "output_type": "stream",
     "text": [
      "Pn_L_surround_200\n",
      "rm -rf \"/shared/CSHL_volumes/RV4_67hrs/RV4_67hrs_down32_annotationAsScoreVolume/score_volumes/RV4_67hrs_down32_annotationAsScoreVolume_Pn_L_surround_200.bp\" && mkdir -p \"/shared/CSHL_volumes/RV4_67hrs/RV4_67hrs_down32_annotationAsScoreVolume/score_volumes\"\n",
      "aws s3 cp \"s3://mousebrainatlas-data/CSHL_volumes/RV4_67hrs/RV4_67hrs_down32_annotationAsScoreVolume/score_volumes/RV4_67hrs_down32_annotationAsScoreVolume_Pn_L_surround_200.bp\" \"/shared/CSHL_volumes/RV4_67hrs/RV4_67hrs_down32_annotationAsScoreVolume/score_volumes/RV4_67hrs_down32_annotationAsScoreVolume_Pn_L_surround_200.bp\"\n"
     ]
    },
    {
     "name": "stderr",
     "output_type": "stream",
     "text": [
      "File does not exist: /shared/CSHL_volumes/RV4_67hrs/RV4_67hrs_down32_annotationAsScoreVolume/score_volumes/RV4_67hrs_down32_annotationAsScoreVolume_Pn_L_surround_200.bp\n",
      "Error computing gradient for Pn_L_surround_200: [Errno 2] No such file or directory: '/shared/CSHL_volumes/RV4_67hrs/RV4_67hrs_down32_annotationAsScoreVolume/score_volumes/RV4_67hrs_down32_annotationAsScoreVolume_Pn_L_surround_200.bp'.\n"
     ]
    },
    {
     "name": "stdout",
     "output_type": "stream",
     "text": [
      "Pn_R\n",
      "rm -rf \"/shared/CSHL_volumes/RV4_67hrs/RV4_67hrs_down32_annotationAsScoreVolume/score_volumes/RV4_67hrs_down32_annotationAsScoreVolume_Pn_R.bp\" && mkdir -p \"/shared/CSHL_volumes/RV4_67hrs/RV4_67hrs_down32_annotationAsScoreVolume/score_volumes\"\n",
      "aws s3 cp \"s3://mousebrainatlas-data/CSHL_volumes/RV4_67hrs/RV4_67hrs_down32_annotationAsScoreVolume/score_volumes/RV4_67hrs_down32_annotationAsScoreVolume_Pn_R.bp\" \"/shared/CSHL_volumes/RV4_67hrs/RV4_67hrs_down32_annotationAsScoreVolume/score_volumes/RV4_67hrs_down32_annotationAsScoreVolume_Pn_R.bp\"\n"
     ]
    },
    {
     "name": "stderr",
     "output_type": "stream",
     "text": [
      "File does not exist: /shared/CSHL_volumes/RV4_67hrs/RV4_67hrs_down32_annotationAsScoreVolume/score_volumes/RV4_67hrs_down32_annotationAsScoreVolume_Pn_R.bp\n",
      "Error computing gradient for Pn_R: [Errno 2] No such file or directory: '/shared/CSHL_volumes/RV4_67hrs/RV4_67hrs_down32_annotationAsScoreVolume/score_volumes/RV4_67hrs_down32_annotationAsScoreVolume_Pn_R.bp'.\n"
     ]
    },
    {
     "name": "stdout",
     "output_type": "stream",
     "text": [
      "Pn_R_surround_200\n",
      "rm -rf \"/shared/CSHL_volumes/RV4_67hrs/RV4_67hrs_down32_annotationAsScoreVolume/score_volumes/RV4_67hrs_down32_annotationAsScoreVolume_Pn_R_surround_200.bp\" && mkdir -p \"/shared/CSHL_volumes/RV4_67hrs/RV4_67hrs_down32_annotationAsScoreVolume/score_volumes\"\n",
      "aws s3 cp \"s3://mousebrainatlas-data/CSHL_volumes/RV4_67hrs/RV4_67hrs_down32_annotationAsScoreVolume/score_volumes/RV4_67hrs_down32_annotationAsScoreVolume_Pn_R_surround_200.bp\" \"/shared/CSHL_volumes/RV4_67hrs/RV4_67hrs_down32_annotationAsScoreVolume/score_volumes/RV4_67hrs_down32_annotationAsScoreVolume_Pn_R_surround_200.bp\"\n"
     ]
    },
    {
     "name": "stderr",
     "output_type": "stream",
     "text": [
      "File does not exist: /shared/CSHL_volumes/RV4_67hrs/RV4_67hrs_down32_annotationAsScoreVolume/score_volumes/RV4_67hrs_down32_annotationAsScoreVolume_Pn_R_surround_200.bp\n",
      "Error computing gradient for Pn_R_surround_200: [Errno 2] No such file or directory: '/shared/CSHL_volumes/RV4_67hrs/RV4_67hrs_down32_annotationAsScoreVolume/score_volumes/RV4_67hrs_down32_annotationAsScoreVolume_Pn_R_surround_200.bp'.\n"
     ]
    },
    {
     "name": "stdout",
     "output_type": "stream",
     "text": [
      "RMC_L\n",
      "rm -rf \"/shared/CSHL_volumes/RV4_67hrs/RV4_67hrs_down32_annotationAsScoreVolume/score_volumes/RV4_67hrs_down32_annotationAsScoreVolume_RMC_L.bp\" && mkdir -p \"/shared/CSHL_volumes/RV4_67hrs/RV4_67hrs_down32_annotationAsScoreVolume/score_volumes\"\n",
      "aws s3 cp \"s3://mousebrainatlas-data/CSHL_volumes/RV4_67hrs/RV4_67hrs_down32_annotationAsScoreVolume/score_volumes/RV4_67hrs_down32_annotationAsScoreVolume_RMC_L.bp\" \"/shared/CSHL_volumes/RV4_67hrs/RV4_67hrs_down32_annotationAsScoreVolume/score_volumes/RV4_67hrs_down32_annotationAsScoreVolume_RMC_L.bp\"\n"
     ]
    },
    {
     "name": "stderr",
     "output_type": "stream",
     "text": [
      "File does not exist: /shared/CSHL_volumes/RV4_67hrs/RV4_67hrs_down32_annotationAsScoreVolume/score_volumes/RV4_67hrs_down32_annotationAsScoreVolume_RMC_L.bp\n",
      "Error computing gradient for RMC_L: [Errno 2] No such file or directory: '/shared/CSHL_volumes/RV4_67hrs/RV4_67hrs_down32_annotationAsScoreVolume/score_volumes/RV4_67hrs_down32_annotationAsScoreVolume_RMC_L.bp'.\n"
     ]
    },
    {
     "name": "stdout",
     "output_type": "stream",
     "text": [
      "RMC_L_surround_200\n",
      "rm -rf \"/shared/CSHL_volumes/RV4_67hrs/RV4_67hrs_down32_annotationAsScoreVolume/score_volumes/RV4_67hrs_down32_annotationAsScoreVolume_RMC_L_surround_200.bp\" && mkdir -p \"/shared/CSHL_volumes/RV4_67hrs/RV4_67hrs_down32_annotationAsScoreVolume/score_volumes\"\n",
      "aws s3 cp \"s3://mousebrainatlas-data/CSHL_volumes/RV4_67hrs/RV4_67hrs_down32_annotationAsScoreVolume/score_volumes/RV4_67hrs_down32_annotationAsScoreVolume_RMC_L_surround_200.bp\" \"/shared/CSHL_volumes/RV4_67hrs/RV4_67hrs_down32_annotationAsScoreVolume/score_volumes/RV4_67hrs_down32_annotationAsScoreVolume_RMC_L_surround_200.bp\"\n"
     ]
    },
    {
     "name": "stderr",
     "output_type": "stream",
     "text": [
      "File does not exist: /shared/CSHL_volumes/RV4_67hrs/RV4_67hrs_down32_annotationAsScoreVolume/score_volumes/RV4_67hrs_down32_annotationAsScoreVolume_RMC_L_surround_200.bp\n",
      "Error computing gradient for RMC_L_surround_200: [Errno 2] No such file or directory: '/shared/CSHL_volumes/RV4_67hrs/RV4_67hrs_down32_annotationAsScoreVolume/score_volumes/RV4_67hrs_down32_annotationAsScoreVolume_RMC_L_surround_200.bp'.\n"
     ]
    },
    {
     "name": "stdout",
     "output_type": "stream",
     "text": [
      "RMC_R\n",
      "rm -rf \"/shared/CSHL_volumes/RV4_67hrs/RV4_67hrs_down32_annotationAsScoreVolume/score_volumes/RV4_67hrs_down32_annotationAsScoreVolume_RMC_R.bp\" && mkdir -p \"/shared/CSHL_volumes/RV4_67hrs/RV4_67hrs_down32_annotationAsScoreVolume/score_volumes\"\n",
      "aws s3 cp \"s3://mousebrainatlas-data/CSHL_volumes/RV4_67hrs/RV4_67hrs_down32_annotationAsScoreVolume/score_volumes/RV4_67hrs_down32_annotationAsScoreVolume_RMC_R.bp\" \"/shared/CSHL_volumes/RV4_67hrs/RV4_67hrs_down32_annotationAsScoreVolume/score_volumes/RV4_67hrs_down32_annotationAsScoreVolume_RMC_R.bp\"\n"
     ]
    },
    {
     "name": "stderr",
     "output_type": "stream",
     "text": [
      "File does not exist: /shared/CSHL_volumes/RV4_67hrs/RV4_67hrs_down32_annotationAsScoreVolume/score_volumes/RV4_67hrs_down32_annotationAsScoreVolume_RMC_R.bp\n",
      "Error computing gradient for RMC_R: [Errno 2] No such file or directory: '/shared/CSHL_volumes/RV4_67hrs/RV4_67hrs_down32_annotationAsScoreVolume/score_volumes/RV4_67hrs_down32_annotationAsScoreVolume_RMC_R.bp'.\n"
     ]
    },
    {
     "name": "stdout",
     "output_type": "stream",
     "text": [
      "RMC_R_surround_200\n",
      "rm -rf \"/shared/CSHL_volumes/RV4_67hrs/RV4_67hrs_down32_annotationAsScoreVolume/score_volumes/RV4_67hrs_down32_annotationAsScoreVolume_RMC_R_surround_200.bp\" && mkdir -p \"/shared/CSHL_volumes/RV4_67hrs/RV4_67hrs_down32_annotationAsScoreVolume/score_volumes\"\n",
      "aws s3 cp \"s3://mousebrainatlas-data/CSHL_volumes/RV4_67hrs/RV4_67hrs_down32_annotationAsScoreVolume/score_volumes/RV4_67hrs_down32_annotationAsScoreVolume_RMC_R_surround_200.bp\" \"/shared/CSHL_volumes/RV4_67hrs/RV4_67hrs_down32_annotationAsScoreVolume/score_volumes/RV4_67hrs_down32_annotationAsScoreVolume_RMC_R_surround_200.bp\"\n"
     ]
    },
    {
     "name": "stderr",
     "output_type": "stream",
     "text": [
      "File does not exist: /shared/CSHL_volumes/RV4_67hrs/RV4_67hrs_down32_annotationAsScoreVolume/score_volumes/RV4_67hrs_down32_annotationAsScoreVolume_RMC_R_surround_200.bp\n",
      "Error computing gradient for RMC_R_surround_200: [Errno 2] No such file or directory: '/shared/CSHL_volumes/RV4_67hrs/RV4_67hrs_down32_annotationAsScoreVolume/score_volumes/RV4_67hrs_down32_annotationAsScoreVolume_RMC_R_surround_200.bp'.\n"
     ]
    },
    {
     "name": "stdout",
     "output_type": "stream",
     "text": [
      "RtTg\n",
      "rm -rf \"/shared/CSHL_volumes/RV4_67hrs/RV4_67hrs_down32_annotationAsScoreVolume/score_volumes/RV4_67hrs_down32_annotationAsScoreVolume_RtTg.bp\" && mkdir -p \"/shared/CSHL_volumes/RV4_67hrs/RV4_67hrs_down32_annotationAsScoreVolume/score_volumes\"\n",
      "aws s3 cp \"s3://mousebrainatlas-data/CSHL_volumes/RV4_67hrs/RV4_67hrs_down32_annotationAsScoreVolume/score_volumes/RV4_67hrs_down32_annotationAsScoreVolume_RtTg.bp\" \"/shared/CSHL_volumes/RV4_67hrs/RV4_67hrs_down32_annotationAsScoreVolume/score_volumes/RV4_67hrs_down32_annotationAsScoreVolume_RtTg.bp\"\n"
     ]
    },
    {
     "name": "stderr",
     "output_type": "stream",
     "text": [
      "File does not exist: /shared/CSHL_volumes/RV4_67hrs/RV4_67hrs_down32_annotationAsScoreVolume/score_volumes/RV4_67hrs_down32_annotationAsScoreVolume_RtTg.bp\n",
      "Error computing gradient for RtTg: [Errno 2] No such file or directory: '/shared/CSHL_volumes/RV4_67hrs/RV4_67hrs_down32_annotationAsScoreVolume/score_volumes/RV4_67hrs_down32_annotationAsScoreVolume_RtTg.bp'.\n"
     ]
    },
    {
     "name": "stdout",
     "output_type": "stream",
     "text": [
      "RtTg_surround_200\n",
      "rm -rf \"/shared/CSHL_volumes/RV4_67hrs/RV4_67hrs_down32_annotationAsScoreVolume/score_volumes/RV4_67hrs_down32_annotationAsScoreVolume_RtTg_surround_200.bp\" && mkdir -p \"/shared/CSHL_volumes/RV4_67hrs/RV4_67hrs_down32_annotationAsScoreVolume/score_volumes\"\n",
      "aws s3 cp \"s3://mousebrainatlas-data/CSHL_volumes/RV4_67hrs/RV4_67hrs_down32_annotationAsScoreVolume/score_volumes/RV4_67hrs_down32_annotationAsScoreVolume_RtTg_surround_200.bp\" \"/shared/CSHL_volumes/RV4_67hrs/RV4_67hrs_down32_annotationAsScoreVolume/score_volumes/RV4_67hrs_down32_annotationAsScoreVolume_RtTg_surround_200.bp\"\n"
     ]
    },
    {
     "name": "stderr",
     "output_type": "stream",
     "text": [
      "File does not exist: /shared/CSHL_volumes/RV4_67hrs/RV4_67hrs_down32_annotationAsScoreVolume/score_volumes/RV4_67hrs_down32_annotationAsScoreVolume_RtTg_surround_200.bp\n",
      "Error computing gradient for RtTg_surround_200: [Errno 2] No such file or directory: '/shared/CSHL_volumes/RV4_67hrs/RV4_67hrs_down32_annotationAsScoreVolume/score_volumes/RV4_67hrs_down32_annotationAsScoreVolume_RtTg_surround_200.bp'.\n"
     ]
    },
    {
     "name": "stdout",
     "output_type": "stream",
     "text": [
      "SC\n",
      "rm -rf \"/shared/CSHL_volumes/RV4_67hrs/RV4_67hrs_down32_annotationAsScoreVolume/score_volumes/RV4_67hrs_down32_annotationAsScoreVolume_SC.bp\" && mkdir -p \"/shared/CSHL_volumes/RV4_67hrs/RV4_67hrs_down32_annotationAsScoreVolume/score_volumes\"\n",
      "aws s3 cp \"s3://mousebrainatlas-data/CSHL_volumes/RV4_67hrs/RV4_67hrs_down32_annotationAsScoreVolume/score_volumes/RV4_67hrs_down32_annotationAsScoreVolume_SC.bp\" \"/shared/CSHL_volumes/RV4_67hrs/RV4_67hrs_down32_annotationAsScoreVolume/score_volumes/RV4_67hrs_down32_annotationAsScoreVolume_SC.bp\"\n"
     ]
    },
    {
     "name": "stderr",
     "output_type": "stream",
     "text": [
      "File does not exist: /shared/CSHL_volumes/RV4_67hrs/RV4_67hrs_down32_annotationAsScoreVolume/score_volumes/RV4_67hrs_down32_annotationAsScoreVolume_SC.bp\n",
      "Error computing gradient for SC: [Errno 2] No such file or directory: '/shared/CSHL_volumes/RV4_67hrs/RV4_67hrs_down32_annotationAsScoreVolume/score_volumes/RV4_67hrs_down32_annotationAsScoreVolume_SC.bp'.\n"
     ]
    },
    {
     "name": "stdout",
     "output_type": "stream",
     "text": [
      "SC_surround_200\n",
      "rm -rf \"/shared/CSHL_volumes/RV4_67hrs/RV4_67hrs_down32_annotationAsScoreVolume/score_volumes/RV4_67hrs_down32_annotationAsScoreVolume_SC_surround_200.bp\" && mkdir -p \"/shared/CSHL_volumes/RV4_67hrs/RV4_67hrs_down32_annotationAsScoreVolume/score_volumes\"\n",
      "aws s3 cp \"s3://mousebrainatlas-data/CSHL_volumes/RV4_67hrs/RV4_67hrs_down32_annotationAsScoreVolume/score_volumes/RV4_67hrs_down32_annotationAsScoreVolume_SC_surround_200.bp\" \"/shared/CSHL_volumes/RV4_67hrs/RV4_67hrs_down32_annotationAsScoreVolume/score_volumes/RV4_67hrs_down32_annotationAsScoreVolume_SC_surround_200.bp\"\n"
     ]
    },
    {
     "name": "stderr",
     "output_type": "stream",
     "text": [
      "File does not exist: /shared/CSHL_volumes/RV4_67hrs/RV4_67hrs_down32_annotationAsScoreVolume/score_volumes/RV4_67hrs_down32_annotationAsScoreVolume_SC_surround_200.bp\n",
      "Error computing gradient for SC_surround_200: [Errno 2] No such file or directory: '/shared/CSHL_volumes/RV4_67hrs/RV4_67hrs_down32_annotationAsScoreVolume/score_volumes/RV4_67hrs_down32_annotationAsScoreVolume_SC_surround_200.bp'.\n"
     ]
    },
    {
     "name": "stdout",
     "output_type": "stream",
     "text": [
      "SNC_L\n",
      "rm -rf \"/shared/CSHL_volumes/RV4_67hrs/RV4_67hrs_down32_annotationAsScoreVolume/score_volumes/RV4_67hrs_down32_annotationAsScoreVolume_SNC_L.bp\" && mkdir -p \"/shared/CSHL_volumes/RV4_67hrs/RV4_67hrs_down32_annotationAsScoreVolume/score_volumes\"\n",
      "aws s3 cp \"s3://mousebrainatlas-data/CSHL_volumes/RV4_67hrs/RV4_67hrs_down32_annotationAsScoreVolume/score_volumes/RV4_67hrs_down32_annotationAsScoreVolume_SNC_L.bp\" \"/shared/CSHL_volumes/RV4_67hrs/RV4_67hrs_down32_annotationAsScoreVolume/score_volumes/RV4_67hrs_down32_annotationAsScoreVolume_SNC_L.bp\"\n"
     ]
    },
    {
     "name": "stderr",
     "output_type": "stream",
     "text": [
      "File does not exist: /shared/CSHL_volumes/RV4_67hrs/RV4_67hrs_down32_annotationAsScoreVolume/score_volumes/RV4_67hrs_down32_annotationAsScoreVolume_SNC_L.bp\n",
      "Error computing gradient for SNC_L: [Errno 2] No such file or directory: '/shared/CSHL_volumes/RV4_67hrs/RV4_67hrs_down32_annotationAsScoreVolume/score_volumes/RV4_67hrs_down32_annotationAsScoreVolume_SNC_L.bp'.\n"
     ]
    },
    {
     "name": "stdout",
     "output_type": "stream",
     "text": [
      "SNC_L_surround_200\n",
      "rm -rf \"/shared/CSHL_volumes/RV4_67hrs/RV4_67hrs_down32_annotationAsScoreVolume/score_volumes/RV4_67hrs_down32_annotationAsScoreVolume_SNC_L_surround_200.bp\" && mkdir -p \"/shared/CSHL_volumes/RV4_67hrs/RV4_67hrs_down32_annotationAsScoreVolume/score_volumes\"\n",
      "aws s3 cp \"s3://mousebrainatlas-data/CSHL_volumes/RV4_67hrs/RV4_67hrs_down32_annotationAsScoreVolume/score_volumes/RV4_67hrs_down32_annotationAsScoreVolume_SNC_L_surround_200.bp\" \"/shared/CSHL_volumes/RV4_67hrs/RV4_67hrs_down32_annotationAsScoreVolume/score_volumes/RV4_67hrs_down32_annotationAsScoreVolume_SNC_L_surround_200.bp\"\n"
     ]
    },
    {
     "name": "stderr",
     "output_type": "stream",
     "text": [
      "File does not exist: /shared/CSHL_volumes/RV4_67hrs/RV4_67hrs_down32_annotationAsScoreVolume/score_volumes/RV4_67hrs_down32_annotationAsScoreVolume_SNC_L_surround_200.bp\n",
      "Error computing gradient for SNC_L_surround_200: [Errno 2] No such file or directory: '/shared/CSHL_volumes/RV4_67hrs/RV4_67hrs_down32_annotationAsScoreVolume/score_volumes/RV4_67hrs_down32_annotationAsScoreVolume_SNC_L_surround_200.bp'.\n"
     ]
    },
    {
     "name": "stdout",
     "output_type": "stream",
     "text": [
      "SNC_R\n",
      "rm -rf \"/shared/CSHL_volumes/RV4_67hrs/RV4_67hrs_down32_annotationAsScoreVolume/score_volumes/RV4_67hrs_down32_annotationAsScoreVolume_SNC_R.bp\" && mkdir -p \"/shared/CSHL_volumes/RV4_67hrs/RV4_67hrs_down32_annotationAsScoreVolume/score_volumes\"\n",
      "aws s3 cp \"s3://mousebrainatlas-data/CSHL_volumes/RV4_67hrs/RV4_67hrs_down32_annotationAsScoreVolume/score_volumes/RV4_67hrs_down32_annotationAsScoreVolume_SNC_R.bp\" \"/shared/CSHL_volumes/RV4_67hrs/RV4_67hrs_down32_annotationAsScoreVolume/score_volumes/RV4_67hrs_down32_annotationAsScoreVolume_SNC_R.bp\"\n"
     ]
    },
    {
     "name": "stderr",
     "output_type": "stream",
     "text": [
      "File does not exist: /shared/CSHL_volumes/RV4_67hrs/RV4_67hrs_down32_annotationAsScoreVolume/score_volumes/RV4_67hrs_down32_annotationAsScoreVolume_SNC_R.bp\n",
      "Error computing gradient for SNC_R: [Errno 2] No such file or directory: '/shared/CSHL_volumes/RV4_67hrs/RV4_67hrs_down32_annotationAsScoreVolume/score_volumes/RV4_67hrs_down32_annotationAsScoreVolume_SNC_R.bp'.\n"
     ]
    },
    {
     "name": "stdout",
     "output_type": "stream",
     "text": [
      "SNC_R_surround_200\n",
      "rm -rf \"/shared/CSHL_volumes/RV4_67hrs/RV4_67hrs_down32_annotationAsScoreVolume/score_volumes/RV4_67hrs_down32_annotationAsScoreVolume_SNC_R_surround_200.bp\" && mkdir -p \"/shared/CSHL_volumes/RV4_67hrs/RV4_67hrs_down32_annotationAsScoreVolume/score_volumes\"\n",
      "aws s3 cp \"s3://mousebrainatlas-data/CSHL_volumes/RV4_67hrs/RV4_67hrs_down32_annotationAsScoreVolume/score_volumes/RV4_67hrs_down32_annotationAsScoreVolume_SNC_R_surround_200.bp\" \"/shared/CSHL_volumes/RV4_67hrs/RV4_67hrs_down32_annotationAsScoreVolume/score_volumes/RV4_67hrs_down32_annotationAsScoreVolume_SNC_R_surround_200.bp\"\n"
     ]
    },
    {
     "name": "stderr",
     "output_type": "stream",
     "text": [
      "File does not exist: /shared/CSHL_volumes/RV4_67hrs/RV4_67hrs_down32_annotationAsScoreVolume/score_volumes/RV4_67hrs_down32_annotationAsScoreVolume_SNC_R_surround_200.bp\n",
      "Error computing gradient for SNC_R_surround_200: [Errno 2] No such file or directory: '/shared/CSHL_volumes/RV4_67hrs/RV4_67hrs_down32_annotationAsScoreVolume/score_volumes/RV4_67hrs_down32_annotationAsScoreVolume_SNC_R_surround_200.bp'.\n"
     ]
    },
    {
     "name": "stdout",
     "output_type": "stream",
     "text": [
      "SNR_L\n",
      "rm -rf \"/shared/CSHL_volumes/RV4_67hrs/RV4_67hrs_down32_annotationAsScoreVolume/score_volumes/RV4_67hrs_down32_annotationAsScoreVolume_SNR_L.bp\" && mkdir -p \"/shared/CSHL_volumes/RV4_67hrs/RV4_67hrs_down32_annotationAsScoreVolume/score_volumes\"\n",
      "aws s3 cp \"s3://mousebrainatlas-data/CSHL_volumes/RV4_67hrs/RV4_67hrs_down32_annotationAsScoreVolume/score_volumes/RV4_67hrs_down32_annotationAsScoreVolume_SNR_L.bp\" \"/shared/CSHL_volumes/RV4_67hrs/RV4_67hrs_down32_annotationAsScoreVolume/score_volumes/RV4_67hrs_down32_annotationAsScoreVolume_SNR_L.bp\"\n"
     ]
    },
    {
     "name": "stderr",
     "output_type": "stream",
     "text": [
      "File does not exist: /shared/CSHL_volumes/RV4_67hrs/RV4_67hrs_down32_annotationAsScoreVolume/score_volumes/RV4_67hrs_down32_annotationAsScoreVolume_SNR_L.bp\n",
      "Error computing gradient for SNR_L: [Errno 2] No such file or directory: '/shared/CSHL_volumes/RV4_67hrs/RV4_67hrs_down32_annotationAsScoreVolume/score_volumes/RV4_67hrs_down32_annotationAsScoreVolume_SNR_L.bp'.\n"
     ]
    },
    {
     "name": "stdout",
     "output_type": "stream",
     "text": [
      "SNR_L_surround_200\n",
      "rm -rf \"/shared/CSHL_volumes/RV4_67hrs/RV4_67hrs_down32_annotationAsScoreVolume/score_volumes/RV4_67hrs_down32_annotationAsScoreVolume_SNR_L_surround_200.bp\" && mkdir -p \"/shared/CSHL_volumes/RV4_67hrs/RV4_67hrs_down32_annotationAsScoreVolume/score_volumes\"\n",
      "aws s3 cp \"s3://mousebrainatlas-data/CSHL_volumes/RV4_67hrs/RV4_67hrs_down32_annotationAsScoreVolume/score_volumes/RV4_67hrs_down32_annotationAsScoreVolume_SNR_L_surround_200.bp\" \"/shared/CSHL_volumes/RV4_67hrs/RV4_67hrs_down32_annotationAsScoreVolume/score_volumes/RV4_67hrs_down32_annotationAsScoreVolume_SNR_L_surround_200.bp\"\n"
     ]
    },
    {
     "name": "stderr",
     "output_type": "stream",
     "text": [
      "File does not exist: /shared/CSHL_volumes/RV4_67hrs/RV4_67hrs_down32_annotationAsScoreVolume/score_volumes/RV4_67hrs_down32_annotationAsScoreVolume_SNR_L_surround_200.bp\n",
      "Error computing gradient for SNR_L_surround_200: [Errno 2] No such file or directory: '/shared/CSHL_volumes/RV4_67hrs/RV4_67hrs_down32_annotationAsScoreVolume/score_volumes/RV4_67hrs_down32_annotationAsScoreVolume_SNR_L_surround_200.bp'.\n"
     ]
    },
    {
     "name": "stdout",
     "output_type": "stream",
     "text": [
      "SNR_R\n",
      "rm -rf \"/shared/CSHL_volumes/RV4_67hrs/RV4_67hrs_down32_annotationAsScoreVolume/score_volumes/RV4_67hrs_down32_annotationAsScoreVolume_SNR_R.bp\" && mkdir -p \"/shared/CSHL_volumes/RV4_67hrs/RV4_67hrs_down32_annotationAsScoreVolume/score_volumes\"\n",
      "aws s3 cp \"s3://mousebrainatlas-data/CSHL_volumes/RV4_67hrs/RV4_67hrs_down32_annotationAsScoreVolume/score_volumes/RV4_67hrs_down32_annotationAsScoreVolume_SNR_R.bp\" \"/shared/CSHL_volumes/RV4_67hrs/RV4_67hrs_down32_annotationAsScoreVolume/score_volumes/RV4_67hrs_down32_annotationAsScoreVolume_SNR_R.bp\"\n"
     ]
    },
    {
     "name": "stderr",
     "output_type": "stream",
     "text": [
      "File does not exist: /shared/CSHL_volumes/RV4_67hrs/RV4_67hrs_down32_annotationAsScoreVolume/score_volumes/RV4_67hrs_down32_annotationAsScoreVolume_SNR_R.bp\n",
      "Error computing gradient for SNR_R: [Errno 2] No such file or directory: '/shared/CSHL_volumes/RV4_67hrs/RV4_67hrs_down32_annotationAsScoreVolume/score_volumes/RV4_67hrs_down32_annotationAsScoreVolume_SNR_R.bp'.\n"
     ]
    },
    {
     "name": "stdout",
     "output_type": "stream",
     "text": [
      "SNR_R_surround_200\n",
      "rm -rf \"/shared/CSHL_volumes/RV4_67hrs/RV4_67hrs_down32_annotationAsScoreVolume/score_volumes/RV4_67hrs_down32_annotationAsScoreVolume_SNR_R_surround_200.bp\" && mkdir -p \"/shared/CSHL_volumes/RV4_67hrs/RV4_67hrs_down32_annotationAsScoreVolume/score_volumes\"\n",
      "aws s3 cp \"s3://mousebrainatlas-data/CSHL_volumes/RV4_67hrs/RV4_67hrs_down32_annotationAsScoreVolume/score_volumes/RV4_67hrs_down32_annotationAsScoreVolume_SNR_R_surround_200.bp\" \"/shared/CSHL_volumes/RV4_67hrs/RV4_67hrs_down32_annotationAsScoreVolume/score_volumes/RV4_67hrs_down32_annotationAsScoreVolume_SNR_R_surround_200.bp\"\n"
     ]
    },
    {
     "name": "stderr",
     "output_type": "stream",
     "text": [
      "File does not exist: /shared/CSHL_volumes/RV4_67hrs/RV4_67hrs_down32_annotationAsScoreVolume/score_volumes/RV4_67hrs_down32_annotationAsScoreVolume_SNR_R_surround_200.bp\n",
      "Error computing gradient for SNR_R_surround_200: [Errno 2] No such file or directory: '/shared/CSHL_volumes/RV4_67hrs/RV4_67hrs_down32_annotationAsScoreVolume/score_volumes/RV4_67hrs_down32_annotationAsScoreVolume_SNR_R_surround_200.bp'.\n"
     ]
    },
    {
     "name": "stdout",
     "output_type": "stream",
     "text": [
      "Sp5C_L\n"
     ]
    },
    {
     "name": "stderr",
     "output_type": "stream",
     "text": [
      "Gradient Sp5C_L: 0.836769 seconds\n"
     ]
    },
    {
     "name": "stdout",
     "output_type": "stream",
     "text": [
      "aws s3 cp \"/shared/CSHL_volumes/RV4_67hrs/RV4_67hrs_down32_annotationAsScoreVolume/score_volume_gradients/RV4_67hrs_down32_annotationAsScoreVolume_Sp5C_L_gx.bp\" \"s3://mousebrainatlas-data/CSHL_volumes/RV4_67hrs/RV4_67hrs_down32_annotationAsScoreVolume/score_volume_gradients/RV4_67hrs_down32_annotationAsScoreVolume_Sp5C_L_gx.bp\"\n",
      "aws s3 cp \"/shared/CSHL_volumes/RV4_67hrs/RV4_67hrs_down32_annotationAsScoreVolume/score_volume_gradients/RV4_67hrs_down32_annotationAsScoreVolume_Sp5C_L_gy.bp\" \"s3://mousebrainatlas-data/CSHL_volumes/RV4_67hrs/RV4_67hrs_down32_annotationAsScoreVolume/score_volume_gradients/RV4_67hrs_down32_annotationAsScoreVolume_Sp5C_L_gy.bp\"\n",
      "aws s3 cp \"/shared/CSHL_volumes/RV4_67hrs/RV4_67hrs_down32_annotationAsScoreVolume/score_volume_gradients/RV4_67hrs_down32_annotationAsScoreVolume_Sp5C_L_gz.bp\" \"s3://mousebrainatlas-data/CSHL_volumes/RV4_67hrs/RV4_67hrs_down32_annotationAsScoreVolume/score_volume_gradients/RV4_67hrs_down32_annotationAsScoreVolume_Sp5C_L_gz.bp\"\n"
     ]
    },
    {
     "name": "stderr",
     "output_type": "stream",
     "text": [
      "save Sp5C_L: 2.146667 seconds\n"
     ]
    },
    {
     "name": "stdout",
     "output_type": "stream",
     "text": [
      "Sp5C_L_surround_200\n"
     ]
    },
    {
     "name": "stderr",
     "output_type": "stream",
     "text": [
      "Gradient Sp5C_L_surround_200: 0.836357 seconds\n"
     ]
    },
    {
     "name": "stdout",
     "output_type": "stream",
     "text": [
      "aws s3 cp \"/shared/CSHL_volumes/RV4_67hrs/RV4_67hrs_down32_annotationAsScoreVolume/score_volume_gradients/RV4_67hrs_down32_annotationAsScoreVolume_Sp5C_L_surround_200_gx.bp\" \"s3://mousebrainatlas-data/CSHL_volumes/RV4_67hrs/RV4_67hrs_down32_annotationAsScoreVolume/score_volume_gradients/RV4_67hrs_down32_annotationAsScoreVolume_Sp5C_L_surround_200_gx.bp\"\n",
      "aws s3 cp \"/shared/CSHL_volumes/RV4_67hrs/RV4_67hrs_down32_annotationAsScoreVolume/score_volume_gradients/RV4_67hrs_down32_annotationAsScoreVolume_Sp5C_L_surround_200_gy.bp\" \"s3://mousebrainatlas-data/CSHL_volumes/RV4_67hrs/RV4_67hrs_down32_annotationAsScoreVolume/score_volume_gradients/RV4_67hrs_down32_annotationAsScoreVolume_Sp5C_L_surround_200_gy.bp\"\n",
      "aws s3 cp \"/shared/CSHL_volumes/RV4_67hrs/RV4_67hrs_down32_annotationAsScoreVolume/score_volume_gradients/RV4_67hrs_down32_annotationAsScoreVolume_Sp5C_L_surround_200_gz.bp\" \"s3://mousebrainatlas-data/CSHL_volumes/RV4_67hrs/RV4_67hrs_down32_annotationAsScoreVolume/score_volume_gradients/RV4_67hrs_down32_annotationAsScoreVolume_Sp5C_L_surround_200_gz.bp\"\n"
     ]
    },
    {
     "name": "stderr",
     "output_type": "stream",
     "text": [
      "save Sp5C_L_surround_200: 1.631613 seconds\n"
     ]
    },
    {
     "name": "stdout",
     "output_type": "stream",
     "text": [
      "Sp5C_R\n"
     ]
    },
    {
     "name": "stderr",
     "output_type": "stream",
     "text": [
      "Gradient Sp5C_R: 0.834763 seconds\n"
     ]
    },
    {
     "name": "stdout",
     "output_type": "stream",
     "text": [
      "aws s3 cp \"/shared/CSHL_volumes/RV4_67hrs/RV4_67hrs_down32_annotationAsScoreVolume/score_volume_gradients/RV4_67hrs_down32_annotationAsScoreVolume_Sp5C_R_gx.bp\" \"s3://mousebrainatlas-data/CSHL_volumes/RV4_67hrs/RV4_67hrs_down32_annotationAsScoreVolume/score_volume_gradients/RV4_67hrs_down32_annotationAsScoreVolume_Sp5C_R_gx.bp\"\n",
      "aws s3 cp \"/shared/CSHL_volumes/RV4_67hrs/RV4_67hrs_down32_annotationAsScoreVolume/score_volume_gradients/RV4_67hrs_down32_annotationAsScoreVolume_Sp5C_R_gy.bp\" \"s3://mousebrainatlas-data/CSHL_volumes/RV4_67hrs/RV4_67hrs_down32_annotationAsScoreVolume/score_volume_gradients/RV4_67hrs_down32_annotationAsScoreVolume_Sp5C_R_gy.bp\"\n",
      "aws s3 cp \"/shared/CSHL_volumes/RV4_67hrs/RV4_67hrs_down32_annotationAsScoreVolume/score_volume_gradients/RV4_67hrs_down32_annotationAsScoreVolume_Sp5C_R_gz.bp\" \"s3://mousebrainatlas-data/CSHL_volumes/RV4_67hrs/RV4_67hrs_down32_annotationAsScoreVolume/score_volume_gradients/RV4_67hrs_down32_annotationAsScoreVolume_Sp5C_R_gz.bp\"\n"
     ]
    },
    {
     "name": "stderr",
     "output_type": "stream",
     "text": [
      "save Sp5C_R: 1.501358 seconds\n"
     ]
    },
    {
     "name": "stdout",
     "output_type": "stream",
     "text": [
      "Sp5C_R_surround_200\n"
     ]
    },
    {
     "name": "stderr",
     "output_type": "stream",
     "text": [
      "Gradient Sp5C_R_surround_200: 0.834821 seconds\n"
     ]
    },
    {
     "name": "stdout",
     "output_type": "stream",
     "text": [
      "aws s3 cp \"/shared/CSHL_volumes/RV4_67hrs/RV4_67hrs_down32_annotationAsScoreVolume/score_volume_gradients/RV4_67hrs_down32_annotationAsScoreVolume_Sp5C_R_surround_200_gx.bp\" \"s3://mousebrainatlas-data/CSHL_volumes/RV4_67hrs/RV4_67hrs_down32_annotationAsScoreVolume/score_volume_gradients/RV4_67hrs_down32_annotationAsScoreVolume_Sp5C_R_surround_200_gx.bp\"\n",
      "aws s3 cp \"/shared/CSHL_volumes/RV4_67hrs/RV4_67hrs_down32_annotationAsScoreVolume/score_volume_gradients/RV4_67hrs_down32_annotationAsScoreVolume_Sp5C_R_surround_200_gy.bp\" \"s3://mousebrainatlas-data/CSHL_volumes/RV4_67hrs/RV4_67hrs_down32_annotationAsScoreVolume/score_volume_gradients/RV4_67hrs_down32_annotationAsScoreVolume_Sp5C_R_surround_200_gy.bp\"\n",
      "aws s3 cp \"/shared/CSHL_volumes/RV4_67hrs/RV4_67hrs_down32_annotationAsScoreVolume/score_volume_gradients/RV4_67hrs_down32_annotationAsScoreVolume_Sp5C_R_surround_200_gz.bp\" \"s3://mousebrainatlas-data/CSHL_volumes/RV4_67hrs/RV4_67hrs_down32_annotationAsScoreVolume/score_volume_gradients/RV4_67hrs_down32_annotationAsScoreVolume_Sp5C_R_surround_200_gz.bp\"\n"
     ]
    },
    {
     "name": "stderr",
     "output_type": "stream",
     "text": [
      "save Sp5C_R_surround_200: 1.481641 seconds\n"
     ]
    },
    {
     "name": "stdout",
     "output_type": "stream",
     "text": [
      "Sp5I_L\n"
     ]
    },
    {
     "name": "stderr",
     "output_type": "stream",
     "text": [
      "Gradient Sp5I_L: 0.834717 seconds\n"
     ]
    },
    {
     "name": "stdout",
     "output_type": "stream",
     "text": [
      "aws s3 cp \"/shared/CSHL_volumes/RV4_67hrs/RV4_67hrs_down32_annotationAsScoreVolume/score_volume_gradients/RV4_67hrs_down32_annotationAsScoreVolume_Sp5I_L_gx.bp\" \"s3://mousebrainatlas-data/CSHL_volumes/RV4_67hrs/RV4_67hrs_down32_annotationAsScoreVolume/score_volume_gradients/RV4_67hrs_down32_annotationAsScoreVolume_Sp5I_L_gx.bp\"\n",
      "aws s3 cp \"/shared/CSHL_volumes/RV4_67hrs/RV4_67hrs_down32_annotationAsScoreVolume/score_volume_gradients/RV4_67hrs_down32_annotationAsScoreVolume_Sp5I_L_gy.bp\" \"s3://mousebrainatlas-data/CSHL_volumes/RV4_67hrs/RV4_67hrs_down32_annotationAsScoreVolume/score_volume_gradients/RV4_67hrs_down32_annotationAsScoreVolume_Sp5I_L_gy.bp\"\n",
      "aws s3 cp \"/shared/CSHL_volumes/RV4_67hrs/RV4_67hrs_down32_annotationAsScoreVolume/score_volume_gradients/RV4_67hrs_down32_annotationAsScoreVolume_Sp5I_L_gz.bp\" \"s3://mousebrainatlas-data/CSHL_volumes/RV4_67hrs/RV4_67hrs_down32_annotationAsScoreVolume/score_volume_gradients/RV4_67hrs_down32_annotationAsScoreVolume_Sp5I_L_gz.bp\"\n"
     ]
    },
    {
     "name": "stderr",
     "output_type": "stream",
     "text": [
      "save Sp5I_L: 1.628019 seconds\n"
     ]
    },
    {
     "name": "stdout",
     "output_type": "stream",
     "text": [
      "Sp5I_L_surround_200\n"
     ]
    },
    {
     "name": "stderr",
     "output_type": "stream",
     "text": [
      "Gradient Sp5I_L_surround_200: 0.836236 seconds\n"
     ]
    },
    {
     "name": "stdout",
     "output_type": "stream",
     "text": [
      "aws s3 cp \"/shared/CSHL_volumes/RV4_67hrs/RV4_67hrs_down32_annotationAsScoreVolume/score_volume_gradients/RV4_67hrs_down32_annotationAsScoreVolume_Sp5I_L_surround_200_gx.bp\" \"s3://mousebrainatlas-data/CSHL_volumes/RV4_67hrs/RV4_67hrs_down32_annotationAsScoreVolume/score_volume_gradients/RV4_67hrs_down32_annotationAsScoreVolume_Sp5I_L_surround_200_gx.bp\"\n",
      "aws s3 cp \"/shared/CSHL_volumes/RV4_67hrs/RV4_67hrs_down32_annotationAsScoreVolume/score_volume_gradients/RV4_67hrs_down32_annotationAsScoreVolume_Sp5I_L_surround_200_gy.bp\" \"s3://mousebrainatlas-data/CSHL_volumes/RV4_67hrs/RV4_67hrs_down32_annotationAsScoreVolume/score_volume_gradients/RV4_67hrs_down32_annotationAsScoreVolume_Sp5I_L_surround_200_gy.bp\"\n",
      "aws s3 cp \"/shared/CSHL_volumes/RV4_67hrs/RV4_67hrs_down32_annotationAsScoreVolume/score_volume_gradients/RV4_67hrs_down32_annotationAsScoreVolume_Sp5I_L_surround_200_gz.bp\" \"s3://mousebrainatlas-data/CSHL_volumes/RV4_67hrs/RV4_67hrs_down32_annotationAsScoreVolume/score_volume_gradients/RV4_67hrs_down32_annotationAsScoreVolume_Sp5I_L_surround_200_gz.bp\"\n"
     ]
    },
    {
     "name": "stderr",
     "output_type": "stream",
     "text": [
      "save Sp5I_L_surround_200: 1.453240 seconds\n"
     ]
    },
    {
     "name": "stdout",
     "output_type": "stream",
     "text": [
      "Sp5I_R\n"
     ]
    },
    {
     "name": "stderr",
     "output_type": "stream",
     "text": [
      "Gradient Sp5I_R: 0.832760 seconds\n"
     ]
    },
    {
     "name": "stdout",
     "output_type": "stream",
     "text": [
      "aws s3 cp \"/shared/CSHL_volumes/RV4_67hrs/RV4_67hrs_down32_annotationAsScoreVolume/score_volume_gradients/RV4_67hrs_down32_annotationAsScoreVolume_Sp5I_R_gx.bp\" \"s3://mousebrainatlas-data/CSHL_volumes/RV4_67hrs/RV4_67hrs_down32_annotationAsScoreVolume/score_volume_gradients/RV4_67hrs_down32_annotationAsScoreVolume_Sp5I_R_gx.bp\"\n",
      "aws s3 cp \"/shared/CSHL_volumes/RV4_67hrs/RV4_67hrs_down32_annotationAsScoreVolume/score_volume_gradients/RV4_67hrs_down32_annotationAsScoreVolume_Sp5I_R_gy.bp\" \"s3://mousebrainatlas-data/CSHL_volumes/RV4_67hrs/RV4_67hrs_down32_annotationAsScoreVolume/score_volume_gradients/RV4_67hrs_down32_annotationAsScoreVolume_Sp5I_R_gy.bp\"\n",
      "aws s3 cp \"/shared/CSHL_volumes/RV4_67hrs/RV4_67hrs_down32_annotationAsScoreVolume/score_volume_gradients/RV4_67hrs_down32_annotationAsScoreVolume_Sp5I_R_gz.bp\" \"s3://mousebrainatlas-data/CSHL_volumes/RV4_67hrs/RV4_67hrs_down32_annotationAsScoreVolume/score_volume_gradients/RV4_67hrs_down32_annotationAsScoreVolume_Sp5I_R_gz.bp\"\n"
     ]
    },
    {
     "name": "stderr",
     "output_type": "stream",
     "text": [
      "save Sp5I_R: 1.626607 seconds\n"
     ]
    },
    {
     "name": "stdout",
     "output_type": "stream",
     "text": [
      "Sp5I_R_surround_200\n"
     ]
    },
    {
     "name": "stderr",
     "output_type": "stream",
     "text": [
      "Gradient Sp5I_R_surround_200: 0.836242 seconds\n"
     ]
    },
    {
     "name": "stdout",
     "output_type": "stream",
     "text": [
      "aws s3 cp \"/shared/CSHL_volumes/RV4_67hrs/RV4_67hrs_down32_annotationAsScoreVolume/score_volume_gradients/RV4_67hrs_down32_annotationAsScoreVolume_Sp5I_R_surround_200_gx.bp\" \"s3://mousebrainatlas-data/CSHL_volumes/RV4_67hrs/RV4_67hrs_down32_annotationAsScoreVolume/score_volume_gradients/RV4_67hrs_down32_annotationAsScoreVolume_Sp5I_R_surround_200_gx.bp\"\n",
      "aws s3 cp \"/shared/CSHL_volumes/RV4_67hrs/RV4_67hrs_down32_annotationAsScoreVolume/score_volume_gradients/RV4_67hrs_down32_annotationAsScoreVolume_Sp5I_R_surround_200_gy.bp\" \"s3://mousebrainatlas-data/CSHL_volumes/RV4_67hrs/RV4_67hrs_down32_annotationAsScoreVolume/score_volume_gradients/RV4_67hrs_down32_annotationAsScoreVolume_Sp5I_R_surround_200_gy.bp\"\n",
      "aws s3 cp \"/shared/CSHL_volumes/RV4_67hrs/RV4_67hrs_down32_annotationAsScoreVolume/score_volume_gradients/RV4_67hrs_down32_annotationAsScoreVolume_Sp5I_R_surround_200_gz.bp\" \"s3://mousebrainatlas-data/CSHL_volumes/RV4_67hrs/RV4_67hrs_down32_annotationAsScoreVolume/score_volume_gradients/RV4_67hrs_down32_annotationAsScoreVolume_Sp5I_R_surround_200_gz.bp\"\n"
     ]
    },
    {
     "name": "stderr",
     "output_type": "stream",
     "text": [
      "save Sp5I_R_surround_200: 1.544934 seconds\n"
     ]
    },
    {
     "name": "stdout",
     "output_type": "stream",
     "text": [
      "Sp5O_L\n"
     ]
    },
    {
     "name": "stderr",
     "output_type": "stream",
     "text": [
      "Gradient Sp5O_L: 0.833037 seconds\n"
     ]
    },
    {
     "name": "stdout",
     "output_type": "stream",
     "text": [
      "aws s3 cp \"/shared/CSHL_volumes/RV4_67hrs/RV4_67hrs_down32_annotationAsScoreVolume/score_volume_gradients/RV4_67hrs_down32_annotationAsScoreVolume_Sp5O_L_gx.bp\" \"s3://mousebrainatlas-data/CSHL_volumes/RV4_67hrs/RV4_67hrs_down32_annotationAsScoreVolume/score_volume_gradients/RV4_67hrs_down32_annotationAsScoreVolume_Sp5O_L_gx.bp\"\n",
      "aws s3 cp \"/shared/CSHL_volumes/RV4_67hrs/RV4_67hrs_down32_annotationAsScoreVolume/score_volume_gradients/RV4_67hrs_down32_annotationAsScoreVolume_Sp5O_L_gy.bp\" \"s3://mousebrainatlas-data/CSHL_volumes/RV4_67hrs/RV4_67hrs_down32_annotationAsScoreVolume/score_volume_gradients/RV4_67hrs_down32_annotationAsScoreVolume_Sp5O_L_gy.bp\"\n",
      "aws s3 cp \"/shared/CSHL_volumes/RV4_67hrs/RV4_67hrs_down32_annotationAsScoreVolume/score_volume_gradients/RV4_67hrs_down32_annotationAsScoreVolume_Sp5O_L_gz.bp\" \"s3://mousebrainatlas-data/CSHL_volumes/RV4_67hrs/RV4_67hrs_down32_annotationAsScoreVolume/score_volume_gradients/RV4_67hrs_down32_annotationAsScoreVolume_Sp5O_L_gz.bp\"\n"
     ]
    },
    {
     "name": "stderr",
     "output_type": "stream",
     "text": [
      "save Sp5O_L: 1.639579 seconds\n"
     ]
    },
    {
     "name": "stdout",
     "output_type": "stream",
     "text": [
      "Sp5O_L_surround_200\n"
     ]
    },
    {
     "name": "stderr",
     "output_type": "stream",
     "text": [
      "Gradient Sp5O_L_surround_200: 0.855939 seconds\n"
     ]
    },
    {
     "name": "stdout",
     "output_type": "stream",
     "text": [
      "aws s3 cp \"/shared/CSHL_volumes/RV4_67hrs/RV4_67hrs_down32_annotationAsScoreVolume/score_volume_gradients/RV4_67hrs_down32_annotationAsScoreVolume_Sp5O_L_surround_200_gx.bp\" \"s3://mousebrainatlas-data/CSHL_volumes/RV4_67hrs/RV4_67hrs_down32_annotationAsScoreVolume/score_volume_gradients/RV4_67hrs_down32_annotationAsScoreVolume_Sp5O_L_surround_200_gx.bp\"\n",
      "aws s3 cp \"/shared/CSHL_volumes/RV4_67hrs/RV4_67hrs_down32_annotationAsScoreVolume/score_volume_gradients/RV4_67hrs_down32_annotationAsScoreVolume_Sp5O_L_surround_200_gy.bp\" \"s3://mousebrainatlas-data/CSHL_volumes/RV4_67hrs/RV4_67hrs_down32_annotationAsScoreVolume/score_volume_gradients/RV4_67hrs_down32_annotationAsScoreVolume_Sp5O_L_surround_200_gy.bp\"\n",
      "aws s3 cp \"/shared/CSHL_volumes/RV4_67hrs/RV4_67hrs_down32_annotationAsScoreVolume/score_volume_gradients/RV4_67hrs_down32_annotationAsScoreVolume_Sp5O_L_surround_200_gz.bp\" \"s3://mousebrainatlas-data/CSHL_volumes/RV4_67hrs/RV4_67hrs_down32_annotationAsScoreVolume/score_volume_gradients/RV4_67hrs_down32_annotationAsScoreVolume_Sp5O_L_surround_200_gz.bp\"\n"
     ]
    },
    {
     "name": "stderr",
     "output_type": "stream",
     "text": [
      "save Sp5O_L_surround_200: 1.691481 seconds\n"
     ]
    },
    {
     "name": "stdout",
     "output_type": "stream",
     "text": [
      "Sp5O_R\n"
     ]
    },
    {
     "name": "stderr",
     "output_type": "stream",
     "text": [
      "Gradient Sp5O_R: 0.854057 seconds\n"
     ]
    },
    {
     "name": "stdout",
     "output_type": "stream",
     "text": [
      "aws s3 cp \"/shared/CSHL_volumes/RV4_67hrs/RV4_67hrs_down32_annotationAsScoreVolume/score_volume_gradients/RV4_67hrs_down32_annotationAsScoreVolume_Sp5O_R_gx.bp\" \"s3://mousebrainatlas-data/CSHL_volumes/RV4_67hrs/RV4_67hrs_down32_annotationAsScoreVolume/score_volume_gradients/RV4_67hrs_down32_annotationAsScoreVolume_Sp5O_R_gx.bp\"\n",
      "aws s3 cp \"/shared/CSHL_volumes/RV4_67hrs/RV4_67hrs_down32_annotationAsScoreVolume/score_volume_gradients/RV4_67hrs_down32_annotationAsScoreVolume_Sp5O_R_gy.bp\" \"s3://mousebrainatlas-data/CSHL_volumes/RV4_67hrs/RV4_67hrs_down32_annotationAsScoreVolume/score_volume_gradients/RV4_67hrs_down32_annotationAsScoreVolume_Sp5O_R_gy.bp\"\n",
      "aws s3 cp \"/shared/CSHL_volumes/RV4_67hrs/RV4_67hrs_down32_annotationAsScoreVolume/score_volume_gradients/RV4_67hrs_down32_annotationAsScoreVolume_Sp5O_R_gz.bp\" \"s3://mousebrainatlas-data/CSHL_volumes/RV4_67hrs/RV4_67hrs_down32_annotationAsScoreVolume/score_volume_gradients/RV4_67hrs_down32_annotationAsScoreVolume_Sp5O_R_gz.bp\"\n"
     ]
    },
    {
     "name": "stderr",
     "output_type": "stream",
     "text": [
      "save Sp5O_R: 1.974071 seconds\n"
     ]
    },
    {
     "name": "stdout",
     "output_type": "stream",
     "text": [
      "Sp5O_R_surround_200\n"
     ]
    },
    {
     "name": "stderr",
     "output_type": "stream",
     "text": [
      "Gradient Sp5O_R_surround_200: 0.834801 seconds\n"
     ]
    },
    {
     "name": "stdout",
     "output_type": "stream",
     "text": [
      "aws s3 cp \"/shared/CSHL_volumes/RV4_67hrs/RV4_67hrs_down32_annotationAsScoreVolume/score_volume_gradients/RV4_67hrs_down32_annotationAsScoreVolume_Sp5O_R_surround_200_gx.bp\" \"s3://mousebrainatlas-data/CSHL_volumes/RV4_67hrs/RV4_67hrs_down32_annotationAsScoreVolume/score_volume_gradients/RV4_67hrs_down32_annotationAsScoreVolume_Sp5O_R_surround_200_gx.bp\"\n",
      "aws s3 cp \"/shared/CSHL_volumes/RV4_67hrs/RV4_67hrs_down32_annotationAsScoreVolume/score_volume_gradients/RV4_67hrs_down32_annotationAsScoreVolume_Sp5O_R_surround_200_gy.bp\" \"s3://mousebrainatlas-data/CSHL_volumes/RV4_67hrs/RV4_67hrs_down32_annotationAsScoreVolume/score_volume_gradients/RV4_67hrs_down32_annotationAsScoreVolume_Sp5O_R_surround_200_gy.bp\"\n",
      "aws s3 cp \"/shared/CSHL_volumes/RV4_67hrs/RV4_67hrs_down32_annotationAsScoreVolume/score_volume_gradients/RV4_67hrs_down32_annotationAsScoreVolume_Sp5O_R_surround_200_gz.bp\" \"s3://mousebrainatlas-data/CSHL_volumes/RV4_67hrs/RV4_67hrs_down32_annotationAsScoreVolume/score_volume_gradients/RV4_67hrs_down32_annotationAsScoreVolume_Sp5O_R_surround_200_gz.bp\"\n"
     ]
    },
    {
     "name": "stderr",
     "output_type": "stream",
     "text": [
      "save Sp5O_R_surround_200: 1.637322 seconds\n"
     ]
    },
    {
     "name": "stdout",
     "output_type": "stream",
     "text": [
      "Tz_L\n",
      "rm -rf \"/shared/CSHL_volumes/RV4_67hrs/RV4_67hrs_down32_annotationAsScoreVolume/score_volumes/RV4_67hrs_down32_annotationAsScoreVolume_Tz_L.bp\" && mkdir -p \"/shared/CSHL_volumes/RV4_67hrs/RV4_67hrs_down32_annotationAsScoreVolume/score_volumes\"\n",
      "aws s3 cp \"s3://mousebrainatlas-data/CSHL_volumes/RV4_67hrs/RV4_67hrs_down32_annotationAsScoreVolume/score_volumes/RV4_67hrs_down32_annotationAsScoreVolume_Tz_L.bp\" \"/shared/CSHL_volumes/RV4_67hrs/RV4_67hrs_down32_annotationAsScoreVolume/score_volumes/RV4_67hrs_down32_annotationAsScoreVolume_Tz_L.bp\"\n"
     ]
    },
    {
     "name": "stderr",
     "output_type": "stream",
     "text": [
      "File does not exist: /shared/CSHL_volumes/RV4_67hrs/RV4_67hrs_down32_annotationAsScoreVolume/score_volumes/RV4_67hrs_down32_annotationAsScoreVolume_Tz_L.bp\n",
      "Error computing gradient for Tz_L: [Errno 2] No such file or directory: '/shared/CSHL_volumes/RV4_67hrs/RV4_67hrs_down32_annotationAsScoreVolume/score_volumes/RV4_67hrs_down32_annotationAsScoreVolume_Tz_L.bp'.\n"
     ]
    },
    {
     "name": "stdout",
     "output_type": "stream",
     "text": [
      "Tz_L_surround_200\n",
      "rm -rf \"/shared/CSHL_volumes/RV4_67hrs/RV4_67hrs_down32_annotationAsScoreVolume/score_volumes/RV4_67hrs_down32_annotationAsScoreVolume_Tz_L_surround_200.bp\" && mkdir -p \"/shared/CSHL_volumes/RV4_67hrs/RV4_67hrs_down32_annotationAsScoreVolume/score_volumes\"\n",
      "aws s3 cp \"s3://mousebrainatlas-data/CSHL_volumes/RV4_67hrs/RV4_67hrs_down32_annotationAsScoreVolume/score_volumes/RV4_67hrs_down32_annotationAsScoreVolume_Tz_L_surround_200.bp\" \"/shared/CSHL_volumes/RV4_67hrs/RV4_67hrs_down32_annotationAsScoreVolume/score_volumes/RV4_67hrs_down32_annotationAsScoreVolume_Tz_L_surround_200.bp\"\n"
     ]
    },
    {
     "name": "stderr",
     "output_type": "stream",
     "text": [
      "File does not exist: /shared/CSHL_volumes/RV4_67hrs/RV4_67hrs_down32_annotationAsScoreVolume/score_volumes/RV4_67hrs_down32_annotationAsScoreVolume_Tz_L_surround_200.bp\n",
      "Error computing gradient for Tz_L_surround_200: [Errno 2] No such file or directory: '/shared/CSHL_volumes/RV4_67hrs/RV4_67hrs_down32_annotationAsScoreVolume/score_volumes/RV4_67hrs_down32_annotationAsScoreVolume_Tz_L_surround_200.bp'.\n"
     ]
    },
    {
     "name": "stdout",
     "output_type": "stream",
     "text": [
      "Tz_R\n",
      "rm -rf \"/shared/CSHL_volumes/RV4_67hrs/RV4_67hrs_down32_annotationAsScoreVolume/score_volumes/RV4_67hrs_down32_annotationAsScoreVolume_Tz_R.bp\" && mkdir -p \"/shared/CSHL_volumes/RV4_67hrs/RV4_67hrs_down32_annotationAsScoreVolume/score_volumes\"\n",
      "aws s3 cp \"s3://mousebrainatlas-data/CSHL_volumes/RV4_67hrs/RV4_67hrs_down32_annotationAsScoreVolume/score_volumes/RV4_67hrs_down32_annotationAsScoreVolume_Tz_R.bp\" \"/shared/CSHL_volumes/RV4_67hrs/RV4_67hrs_down32_annotationAsScoreVolume/score_volumes/RV4_67hrs_down32_annotationAsScoreVolume_Tz_R.bp\"\n"
     ]
    },
    {
     "name": "stderr",
     "output_type": "stream",
     "text": [
      "File does not exist: /shared/CSHL_volumes/RV4_67hrs/RV4_67hrs_down32_annotationAsScoreVolume/score_volumes/RV4_67hrs_down32_annotationAsScoreVolume_Tz_R.bp\n",
      "Error computing gradient for Tz_R: [Errno 2] No such file or directory: '/shared/CSHL_volumes/RV4_67hrs/RV4_67hrs_down32_annotationAsScoreVolume/score_volumes/RV4_67hrs_down32_annotationAsScoreVolume_Tz_R.bp'.\n"
     ]
    },
    {
     "name": "stdout",
     "output_type": "stream",
     "text": [
      "Tz_R_surround_200\n",
      "rm -rf \"/shared/CSHL_volumes/RV4_67hrs/RV4_67hrs_down32_annotationAsScoreVolume/score_volumes/RV4_67hrs_down32_annotationAsScoreVolume_Tz_R_surround_200.bp\" && mkdir -p \"/shared/CSHL_volumes/RV4_67hrs/RV4_67hrs_down32_annotationAsScoreVolume/score_volumes\"\n",
      "aws s3 cp \"s3://mousebrainatlas-data/CSHL_volumes/RV4_67hrs/RV4_67hrs_down32_annotationAsScoreVolume/score_volumes/RV4_67hrs_down32_annotationAsScoreVolume_Tz_R_surround_200.bp\" \"/shared/CSHL_volumes/RV4_67hrs/RV4_67hrs_down32_annotationAsScoreVolume/score_volumes/RV4_67hrs_down32_annotationAsScoreVolume_Tz_R_surround_200.bp\"\n"
     ]
    },
    {
     "name": "stderr",
     "output_type": "stream",
     "text": [
      "File does not exist: /shared/CSHL_volumes/RV4_67hrs/RV4_67hrs_down32_annotationAsScoreVolume/score_volumes/RV4_67hrs_down32_annotationAsScoreVolume_Tz_R_surround_200.bp\n",
      "Error computing gradient for Tz_R_surround_200: [Errno 2] No such file or directory: '/shared/CSHL_volumes/RV4_67hrs/RV4_67hrs_down32_annotationAsScoreVolume/score_volumes/RV4_67hrs_down32_annotationAsScoreVolume_Tz_R_surround_200.bp'.\n"
     ]
    },
    {
     "name": "stdout",
     "output_type": "stream",
     "text": [
      "VCA_L\n",
      "rm -rf \"/shared/CSHL_volumes/RV4_67hrs/RV4_67hrs_down32_annotationAsScoreVolume/score_volumes/RV4_67hrs_down32_annotationAsScoreVolume_VCA_L.bp\" && mkdir -p \"/shared/CSHL_volumes/RV4_67hrs/RV4_67hrs_down32_annotationAsScoreVolume/score_volumes\"\n",
      "aws s3 cp \"s3://mousebrainatlas-data/CSHL_volumes/RV4_67hrs/RV4_67hrs_down32_annotationAsScoreVolume/score_volumes/RV4_67hrs_down32_annotationAsScoreVolume_VCA_L.bp\" \"/shared/CSHL_volumes/RV4_67hrs/RV4_67hrs_down32_annotationAsScoreVolume/score_volumes/RV4_67hrs_down32_annotationAsScoreVolume_VCA_L.bp\"\n"
     ]
    },
    {
     "name": "stderr",
     "output_type": "stream",
     "text": [
      "File does not exist: /shared/CSHL_volumes/RV4_67hrs/RV4_67hrs_down32_annotationAsScoreVolume/score_volumes/RV4_67hrs_down32_annotationAsScoreVolume_VCA_L.bp\n",
      "Error computing gradient for VCA_L: [Errno 2] No such file or directory: '/shared/CSHL_volumes/RV4_67hrs/RV4_67hrs_down32_annotationAsScoreVolume/score_volumes/RV4_67hrs_down32_annotationAsScoreVolume_VCA_L.bp'.\n"
     ]
    },
    {
     "name": "stdout",
     "output_type": "stream",
     "text": [
      "VCA_L_surround_200\n",
      "rm -rf \"/shared/CSHL_volumes/RV4_67hrs/RV4_67hrs_down32_annotationAsScoreVolume/score_volumes/RV4_67hrs_down32_annotationAsScoreVolume_VCA_L_surround_200.bp\" && mkdir -p \"/shared/CSHL_volumes/RV4_67hrs/RV4_67hrs_down32_annotationAsScoreVolume/score_volumes\"\n",
      "aws s3 cp \"s3://mousebrainatlas-data/CSHL_volumes/RV4_67hrs/RV4_67hrs_down32_annotationAsScoreVolume/score_volumes/RV4_67hrs_down32_annotationAsScoreVolume_VCA_L_surround_200.bp\" \"/shared/CSHL_volumes/RV4_67hrs/RV4_67hrs_down32_annotationAsScoreVolume/score_volumes/RV4_67hrs_down32_annotationAsScoreVolume_VCA_L_surround_200.bp\"\n"
     ]
    },
    {
     "name": "stderr",
     "output_type": "stream",
     "text": [
      "File does not exist: /shared/CSHL_volumes/RV4_67hrs/RV4_67hrs_down32_annotationAsScoreVolume/score_volumes/RV4_67hrs_down32_annotationAsScoreVolume_VCA_L_surround_200.bp\n",
      "Error computing gradient for VCA_L_surround_200: [Errno 2] No such file or directory: '/shared/CSHL_volumes/RV4_67hrs/RV4_67hrs_down32_annotationAsScoreVolume/score_volumes/RV4_67hrs_down32_annotationAsScoreVolume_VCA_L_surround_200.bp'.\n"
     ]
    },
    {
     "name": "stdout",
     "output_type": "stream",
     "text": [
      "VCA_R\n",
      "rm -rf \"/shared/CSHL_volumes/RV4_67hrs/RV4_67hrs_down32_annotationAsScoreVolume/score_volumes/RV4_67hrs_down32_annotationAsScoreVolume_VCA_R.bp\" && mkdir -p \"/shared/CSHL_volumes/RV4_67hrs/RV4_67hrs_down32_annotationAsScoreVolume/score_volumes\"\n",
      "aws s3 cp \"s3://mousebrainatlas-data/CSHL_volumes/RV4_67hrs/RV4_67hrs_down32_annotationAsScoreVolume/score_volumes/RV4_67hrs_down32_annotationAsScoreVolume_VCA_R.bp\" \"/shared/CSHL_volumes/RV4_67hrs/RV4_67hrs_down32_annotationAsScoreVolume/score_volumes/RV4_67hrs_down32_annotationAsScoreVolume_VCA_R.bp\"\n"
     ]
    },
    {
     "name": "stderr",
     "output_type": "stream",
     "text": [
      "File does not exist: /shared/CSHL_volumes/RV4_67hrs/RV4_67hrs_down32_annotationAsScoreVolume/score_volumes/RV4_67hrs_down32_annotationAsScoreVolume_VCA_R.bp\n",
      "Error computing gradient for VCA_R: [Errno 2] No such file or directory: '/shared/CSHL_volumes/RV4_67hrs/RV4_67hrs_down32_annotationAsScoreVolume/score_volumes/RV4_67hrs_down32_annotationAsScoreVolume_VCA_R.bp'.\n"
     ]
    },
    {
     "name": "stdout",
     "output_type": "stream",
     "text": [
      "VCA_R_surround_200\n",
      "rm -rf \"/shared/CSHL_volumes/RV4_67hrs/RV4_67hrs_down32_annotationAsScoreVolume/score_volumes/RV4_67hrs_down32_annotationAsScoreVolume_VCA_R_surround_200.bp\" && mkdir -p \"/shared/CSHL_volumes/RV4_67hrs/RV4_67hrs_down32_annotationAsScoreVolume/score_volumes\"\n",
      "aws s3 cp \"s3://mousebrainatlas-data/CSHL_volumes/RV4_67hrs/RV4_67hrs_down32_annotationAsScoreVolume/score_volumes/RV4_67hrs_down32_annotationAsScoreVolume_VCA_R_surround_200.bp\" \"/shared/CSHL_volumes/RV4_67hrs/RV4_67hrs_down32_annotationAsScoreVolume/score_volumes/RV4_67hrs_down32_annotationAsScoreVolume_VCA_R_surround_200.bp\"\n"
     ]
    },
    {
     "name": "stderr",
     "output_type": "stream",
     "text": [
      "File does not exist: /shared/CSHL_volumes/RV4_67hrs/RV4_67hrs_down32_annotationAsScoreVolume/score_volumes/RV4_67hrs_down32_annotationAsScoreVolume_VCA_R_surround_200.bp\n",
      "Error computing gradient for VCA_R_surround_200: [Errno 2] No such file or directory: '/shared/CSHL_volumes/RV4_67hrs/RV4_67hrs_down32_annotationAsScoreVolume/score_volumes/RV4_67hrs_down32_annotationAsScoreVolume_VCA_R_surround_200.bp'.\n"
     ]
    },
    {
     "name": "stdout",
     "output_type": "stream",
     "text": [
      "VCP_L\n",
      "rm -rf \"/shared/CSHL_volumes/RV4_67hrs/RV4_67hrs_down32_annotationAsScoreVolume/score_volumes/RV4_67hrs_down32_annotationAsScoreVolume_VCP_L.bp\" && mkdir -p \"/shared/CSHL_volumes/RV4_67hrs/RV4_67hrs_down32_annotationAsScoreVolume/score_volumes\"\n",
      "aws s3 cp \"s3://mousebrainatlas-data/CSHL_volumes/RV4_67hrs/RV4_67hrs_down32_annotationAsScoreVolume/score_volumes/RV4_67hrs_down32_annotationAsScoreVolume_VCP_L.bp\" \"/shared/CSHL_volumes/RV4_67hrs/RV4_67hrs_down32_annotationAsScoreVolume/score_volumes/RV4_67hrs_down32_annotationAsScoreVolume_VCP_L.bp\"\n"
     ]
    },
    {
     "name": "stderr",
     "output_type": "stream",
     "text": [
      "File does not exist: /shared/CSHL_volumes/RV4_67hrs/RV4_67hrs_down32_annotationAsScoreVolume/score_volumes/RV4_67hrs_down32_annotationAsScoreVolume_VCP_L.bp\n",
      "Error computing gradient for VCP_L: [Errno 2] No such file or directory: '/shared/CSHL_volumes/RV4_67hrs/RV4_67hrs_down32_annotationAsScoreVolume/score_volumes/RV4_67hrs_down32_annotationAsScoreVolume_VCP_L.bp'.\n"
     ]
    },
    {
     "name": "stdout",
     "output_type": "stream",
     "text": [
      "VCP_L_surround_200\n",
      "rm -rf \"/shared/CSHL_volumes/RV4_67hrs/RV4_67hrs_down32_annotationAsScoreVolume/score_volumes/RV4_67hrs_down32_annotationAsScoreVolume_VCP_L_surround_200.bp\" && mkdir -p \"/shared/CSHL_volumes/RV4_67hrs/RV4_67hrs_down32_annotationAsScoreVolume/score_volumes\"\n",
      "aws s3 cp \"s3://mousebrainatlas-data/CSHL_volumes/RV4_67hrs/RV4_67hrs_down32_annotationAsScoreVolume/score_volumes/RV4_67hrs_down32_annotationAsScoreVolume_VCP_L_surround_200.bp\" \"/shared/CSHL_volumes/RV4_67hrs/RV4_67hrs_down32_annotationAsScoreVolume/score_volumes/RV4_67hrs_down32_annotationAsScoreVolume_VCP_L_surround_200.bp\"\n"
     ]
    },
    {
     "name": "stderr",
     "output_type": "stream",
     "text": [
      "File does not exist: /shared/CSHL_volumes/RV4_67hrs/RV4_67hrs_down32_annotationAsScoreVolume/score_volumes/RV4_67hrs_down32_annotationAsScoreVolume_VCP_L_surround_200.bp\n",
      "Error computing gradient for VCP_L_surround_200: [Errno 2] No such file or directory: '/shared/CSHL_volumes/RV4_67hrs/RV4_67hrs_down32_annotationAsScoreVolume/score_volumes/RV4_67hrs_down32_annotationAsScoreVolume_VCP_L_surround_200.bp'.\n"
     ]
    },
    {
     "name": "stdout",
     "output_type": "stream",
     "text": [
      "VCP_R\n",
      "rm -rf \"/shared/CSHL_volumes/RV4_67hrs/RV4_67hrs_down32_annotationAsScoreVolume/score_volumes/RV4_67hrs_down32_annotationAsScoreVolume_VCP_R.bp\" && mkdir -p \"/shared/CSHL_volumes/RV4_67hrs/RV4_67hrs_down32_annotationAsScoreVolume/score_volumes\"\n",
      "aws s3 cp \"s3://mousebrainatlas-data/CSHL_volumes/RV4_67hrs/RV4_67hrs_down32_annotationAsScoreVolume/score_volumes/RV4_67hrs_down32_annotationAsScoreVolume_VCP_R.bp\" \"/shared/CSHL_volumes/RV4_67hrs/RV4_67hrs_down32_annotationAsScoreVolume/score_volumes/RV4_67hrs_down32_annotationAsScoreVolume_VCP_R.bp\"\n"
     ]
    },
    {
     "name": "stderr",
     "output_type": "stream",
     "text": [
      "File does not exist: /shared/CSHL_volumes/RV4_67hrs/RV4_67hrs_down32_annotationAsScoreVolume/score_volumes/RV4_67hrs_down32_annotationAsScoreVolume_VCP_R.bp\n",
      "Error computing gradient for VCP_R: [Errno 2] No such file or directory: '/shared/CSHL_volumes/RV4_67hrs/RV4_67hrs_down32_annotationAsScoreVolume/score_volumes/RV4_67hrs_down32_annotationAsScoreVolume_VCP_R.bp'.\n"
     ]
    },
    {
     "name": "stdout",
     "output_type": "stream",
     "text": [
      "VCP_R_surround_200\n",
      "rm -rf \"/shared/CSHL_volumes/RV4_67hrs/RV4_67hrs_down32_annotationAsScoreVolume/score_volumes/RV4_67hrs_down32_annotationAsScoreVolume_VCP_R_surround_200.bp\" && mkdir -p \"/shared/CSHL_volumes/RV4_67hrs/RV4_67hrs_down32_annotationAsScoreVolume/score_volumes\"\n",
      "aws s3 cp \"s3://mousebrainatlas-data/CSHL_volumes/RV4_67hrs/RV4_67hrs_down32_annotationAsScoreVolume/score_volumes/RV4_67hrs_down32_annotationAsScoreVolume_VCP_R_surround_200.bp\" \"/shared/CSHL_volumes/RV4_67hrs/RV4_67hrs_down32_annotationAsScoreVolume/score_volumes/RV4_67hrs_down32_annotationAsScoreVolume_VCP_R_surround_200.bp\"\n"
     ]
    },
    {
     "name": "stderr",
     "output_type": "stream",
     "text": [
      "File does not exist: /shared/CSHL_volumes/RV4_67hrs/RV4_67hrs_down32_annotationAsScoreVolume/score_volumes/RV4_67hrs_down32_annotationAsScoreVolume_VCP_R_surround_200.bp\n",
      "Error computing gradient for VCP_R_surround_200: [Errno 2] No such file or directory: '/shared/CSHL_volumes/RV4_67hrs/RV4_67hrs_down32_annotationAsScoreVolume/score_volumes/RV4_67hrs_down32_annotationAsScoreVolume_VCP_R_surround_200.bp'.\n"
     ]
    },
    {
     "name": "stdout",
     "output_type": "stream",
     "text": [
      "VLL_L\n",
      "rm -rf \"/shared/CSHL_volumes/RV4_67hrs/RV4_67hrs_down32_annotationAsScoreVolume/score_volumes/RV4_67hrs_down32_annotationAsScoreVolume_VLL_L.bp\" && mkdir -p \"/shared/CSHL_volumes/RV4_67hrs/RV4_67hrs_down32_annotationAsScoreVolume/score_volumes\"\n",
      "aws s3 cp \"s3://mousebrainatlas-data/CSHL_volumes/RV4_67hrs/RV4_67hrs_down32_annotationAsScoreVolume/score_volumes/RV4_67hrs_down32_annotationAsScoreVolume_VLL_L.bp\" \"/shared/CSHL_volumes/RV4_67hrs/RV4_67hrs_down32_annotationAsScoreVolume/score_volumes/RV4_67hrs_down32_annotationAsScoreVolume_VLL_L.bp\"\n"
     ]
    },
    {
     "name": "stderr",
     "output_type": "stream",
     "text": [
      "File does not exist: /shared/CSHL_volumes/RV4_67hrs/RV4_67hrs_down32_annotationAsScoreVolume/score_volumes/RV4_67hrs_down32_annotationAsScoreVolume_VLL_L.bp\n",
      "Error computing gradient for VLL_L: [Errno 2] No such file or directory: '/shared/CSHL_volumes/RV4_67hrs/RV4_67hrs_down32_annotationAsScoreVolume/score_volumes/RV4_67hrs_down32_annotationAsScoreVolume_VLL_L.bp'.\n"
     ]
    },
    {
     "name": "stdout",
     "output_type": "stream",
     "text": [
      "VLL_L_surround_200\n",
      "rm -rf \"/shared/CSHL_volumes/RV4_67hrs/RV4_67hrs_down32_annotationAsScoreVolume/score_volumes/RV4_67hrs_down32_annotationAsScoreVolume_VLL_L_surround_200.bp\" && mkdir -p \"/shared/CSHL_volumes/RV4_67hrs/RV4_67hrs_down32_annotationAsScoreVolume/score_volumes\"\n",
      "aws s3 cp \"s3://mousebrainatlas-data/CSHL_volumes/RV4_67hrs/RV4_67hrs_down32_annotationAsScoreVolume/score_volumes/RV4_67hrs_down32_annotationAsScoreVolume_VLL_L_surround_200.bp\" \"/shared/CSHL_volumes/RV4_67hrs/RV4_67hrs_down32_annotationAsScoreVolume/score_volumes/RV4_67hrs_down32_annotationAsScoreVolume_VLL_L_surround_200.bp\"\n"
     ]
    },
    {
     "name": "stderr",
     "output_type": "stream",
     "text": [
      "File does not exist: /shared/CSHL_volumes/RV4_67hrs/RV4_67hrs_down32_annotationAsScoreVolume/score_volumes/RV4_67hrs_down32_annotationAsScoreVolume_VLL_L_surround_200.bp\n",
      "Error computing gradient for VLL_L_surround_200: [Errno 2] No such file or directory: '/shared/CSHL_volumes/RV4_67hrs/RV4_67hrs_down32_annotationAsScoreVolume/score_volumes/RV4_67hrs_down32_annotationAsScoreVolume_VLL_L_surround_200.bp'.\n"
     ]
    },
    {
     "name": "stdout",
     "output_type": "stream",
     "text": [
      "VLL_R\n",
      "rm -rf \"/shared/CSHL_volumes/RV4_67hrs/RV4_67hrs_down32_annotationAsScoreVolume/score_volumes/RV4_67hrs_down32_annotationAsScoreVolume_VLL_R.bp\" && mkdir -p \"/shared/CSHL_volumes/RV4_67hrs/RV4_67hrs_down32_annotationAsScoreVolume/score_volumes\"\n",
      "aws s3 cp \"s3://mousebrainatlas-data/CSHL_volumes/RV4_67hrs/RV4_67hrs_down32_annotationAsScoreVolume/score_volumes/RV4_67hrs_down32_annotationAsScoreVolume_VLL_R.bp\" \"/shared/CSHL_volumes/RV4_67hrs/RV4_67hrs_down32_annotationAsScoreVolume/score_volumes/RV4_67hrs_down32_annotationAsScoreVolume_VLL_R.bp\"\n"
     ]
    },
    {
     "name": "stderr",
     "output_type": "stream",
     "text": [
      "File does not exist: /shared/CSHL_volumes/RV4_67hrs/RV4_67hrs_down32_annotationAsScoreVolume/score_volumes/RV4_67hrs_down32_annotationAsScoreVolume_VLL_R.bp\n",
      "Error computing gradient for VLL_R: [Errno 2] No such file or directory: '/shared/CSHL_volumes/RV4_67hrs/RV4_67hrs_down32_annotationAsScoreVolume/score_volumes/RV4_67hrs_down32_annotationAsScoreVolume_VLL_R.bp'.\n"
     ]
    },
    {
     "name": "stdout",
     "output_type": "stream",
     "text": [
      "VLL_R_surround_200\n",
      "rm -rf \"/shared/CSHL_volumes/RV4_67hrs/RV4_67hrs_down32_annotationAsScoreVolume/score_volumes/RV4_67hrs_down32_annotationAsScoreVolume_VLL_R_surround_200.bp\" && mkdir -p \"/shared/CSHL_volumes/RV4_67hrs/RV4_67hrs_down32_annotationAsScoreVolume/score_volumes\"\n",
      "aws s3 cp \"s3://mousebrainatlas-data/CSHL_volumes/RV4_67hrs/RV4_67hrs_down32_annotationAsScoreVolume/score_volumes/RV4_67hrs_down32_annotationAsScoreVolume_VLL_R_surround_200.bp\" \"/shared/CSHL_volumes/RV4_67hrs/RV4_67hrs_down32_annotationAsScoreVolume/score_volumes/RV4_67hrs_down32_annotationAsScoreVolume_VLL_R_surround_200.bp\"\n"
     ]
    },
    {
     "name": "stderr",
     "output_type": "stream",
     "text": [
      "File does not exist: /shared/CSHL_volumes/RV4_67hrs/RV4_67hrs_down32_annotationAsScoreVolume/score_volumes/RV4_67hrs_down32_annotationAsScoreVolume_VLL_R_surround_200.bp\n",
      "Error computing gradient for VLL_R_surround_200: [Errno 2] No such file or directory: '/shared/CSHL_volumes/RV4_67hrs/RV4_67hrs_down32_annotationAsScoreVolume/score_volumes/RV4_67hrs_down32_annotationAsScoreVolume_VLL_R_surround_200.bp'.\n"
     ]
    }
   ],
   "source": [
    "for stack in ['RV9_53hrs', 'RV19_61hrs', 'RV13_64hrs', 'RV14_65hrs', 'RV4_67hrs']:\n",
    "    downscale = 32\n",
    "\n",
    "    # for structure in all_known_structures_sided:\n",
    "    for structure in all_known_structures_sided_with_surround:\n",
    "        print structure\n",
    "        try:\n",
    "            volume = DataManager.load_original_volume(stack=stack, volume_type='annotationAsScore', \n",
    "                                                      structure=structure, downscale=downscale)\n",
    "\n",
    "            t = time.time()\n",
    "\n",
    "            gy_gx_gz = np.gradient(volume.astype(np.float32), 3, 3, 3)\n",
    "            # 3.3 second - re-computing is much faster than loading\n",
    "            # .astype(np.float32) is important;\n",
    "            # Otherwise the score volume is type np.float16, np.gradient requires np.float32 and will have to convert which is very slow\n",
    "            # 2s (float32) vs. 20s (float16)\n",
    "\n",
    "            sys.stderr.write('Gradient %s: %f seconds\\n' % (structure, time.time() - t))\n",
    "\n",
    "            t = time.time()\n",
    "\n",
    "            gx_fp = DataManager.get_volume_gradient_filepath(stack=stack,volume_type='annotationAsScore',  structure=structure, downscale=downscale, suffix='gx')\n",
    "            gy_fp = DataManager.get_volume_gradient_filepath(stack=stack, volume_type='annotationAsScore', structure=structure, downscale=downscale, suffix='gy')\n",
    "            gz_fp = DataManager.get_volume_gradient_filepath(stack=stack,volume_type='annotationAsScore',  structure=structure, downscale=downscale, suffix='gz')\n",
    "\n",
    "            create_parent_dir_if_not_exists(gx_fp)\n",
    "\n",
    "            bp.pack_ndarray_file(gy_gx_gz[1], gx_fp)\n",
    "            bp.pack_ndarray_file(gy_gx_gz[0], gy_fp)\n",
    "            bp.pack_ndarray_file(gy_gx_gz[2], gz_fp)\n",
    "\n",
    "            del gy_gx_gz\n",
    "\n",
    "            upload_to_s3(gx_fp)\n",
    "            upload_to_s3(gy_fp)\n",
    "            upload_to_s3(gz_fp)\n",
    "\n",
    "            sys.stderr.write('save %s: %f seconds\\n' % (structure, time.time() - t))\n",
    "\n",
    "        except Exception as e:\n",
    "            sys.stderr.write('Error computing gradient for %s: %s.\\n' % (structure, str(e)))"
   ]
  },
  {
   "cell_type": "code",
   "execution_count": 20,
   "metadata": {
    "scrolled": true
   },
   "outputs": [
    {
     "name": "stdout",
     "output_type": "stream",
     "text": [
      "10N_L\n",
      "rm -rf \"/shared/CSHL_volumes/LM30/LM30_down32_annotationAsScoreVolume/score_volumes/LM30_down32_annotationAsScoreVolume_10N_L.bp\" && mkdir -p \"/shared/CSHL_volumes/LM30/LM30_down32_annotationAsScoreVolume/score_volumes\"\n",
      "aws s3 cp \"s3://mousebrainatlas-data/CSHL_volumes/LM30/LM30_down32_annotationAsScoreVolume/score_volumes/LM30_down32_annotationAsScoreVolume_10N_L.bp\" \"/shared/CSHL_volumes/LM30/LM30_down32_annotationAsScoreVolume/score_volumes/LM30_down32_annotationAsScoreVolume_10N_L.bp\"\n"
     ]
    },
    {
     "name": "stderr",
     "output_type": "stream",
     "text": [
      "File does not exist: /shared/CSHL_volumes/LM30/LM30_down32_annotationAsScoreVolume/score_volumes/LM30_down32_annotationAsScoreVolume_10N_L.bp\n",
      "Error computing gradient for 10N_L: [Errno 2] No such file or directory: '/shared/CSHL_volumes/LM30/LM30_down32_annotationAsScoreVolume/score_volumes/LM30_down32_annotationAsScoreVolume_10N_L.bp'.\n"
     ]
    },
    {
     "name": "stdout",
     "output_type": "stream",
     "text": [
      "10N_L_surround_200\n",
      "rm -rf \"/shared/CSHL_volumes/LM30/LM30_down32_annotationAsScoreVolume/score_volumes/LM30_down32_annotationAsScoreVolume_10N_L_surround_200.bp\" && mkdir -p \"/shared/CSHL_volumes/LM30/LM30_down32_annotationAsScoreVolume/score_volumes\"\n",
      "aws s3 cp \"s3://mousebrainatlas-data/CSHL_volumes/LM30/LM30_down32_annotationAsScoreVolume/score_volumes/LM30_down32_annotationAsScoreVolume_10N_L_surround_200.bp\" \"/shared/CSHL_volumes/LM30/LM30_down32_annotationAsScoreVolume/score_volumes/LM30_down32_annotationAsScoreVolume_10N_L_surround_200.bp\"\n"
     ]
    },
    {
     "name": "stderr",
     "output_type": "stream",
     "text": [
      "File does not exist: /shared/CSHL_volumes/LM30/LM30_down32_annotationAsScoreVolume/score_volumes/LM30_down32_annotationAsScoreVolume_10N_L_surround_200.bp\n",
      "Error computing gradient for 10N_L_surround_200: [Errno 2] No such file or directory: '/shared/CSHL_volumes/LM30/LM30_down32_annotationAsScoreVolume/score_volumes/LM30_down32_annotationAsScoreVolume_10N_L_surround_200.bp'.\n"
     ]
    },
    {
     "name": "stdout",
     "output_type": "stream",
     "text": [
      "10N_R\n",
      "rm -rf \"/shared/CSHL_volumes/LM30/LM30_down32_annotationAsScoreVolume/score_volumes/LM30_down32_annotationAsScoreVolume_10N_R.bp\" && mkdir -p \"/shared/CSHL_volumes/LM30/LM30_down32_annotationAsScoreVolume/score_volumes\"\n",
      "aws s3 cp \"s3://mousebrainatlas-data/CSHL_volumes/LM30/LM30_down32_annotationAsScoreVolume/score_volumes/LM30_down32_annotationAsScoreVolume_10N_R.bp\" \"/shared/CSHL_volumes/LM30/LM30_down32_annotationAsScoreVolume/score_volumes/LM30_down32_annotationAsScoreVolume_10N_R.bp\"\n"
     ]
    },
    {
     "name": "stderr",
     "output_type": "stream",
     "text": [
      "File does not exist: /shared/CSHL_volumes/LM30/LM30_down32_annotationAsScoreVolume/score_volumes/LM30_down32_annotationAsScoreVolume_10N_R.bp\n",
      "Error computing gradient for 10N_R: [Errno 2] No such file or directory: '/shared/CSHL_volumes/LM30/LM30_down32_annotationAsScoreVolume/score_volumes/LM30_down32_annotationAsScoreVolume_10N_R.bp'.\n"
     ]
    },
    {
     "name": "stdout",
     "output_type": "stream",
     "text": [
      "10N_R_surround_200\n",
      "rm -rf \"/shared/CSHL_volumes/LM30/LM30_down32_annotationAsScoreVolume/score_volumes/LM30_down32_annotationAsScoreVolume_10N_R_surround_200.bp\" && mkdir -p \"/shared/CSHL_volumes/LM30/LM30_down32_annotationAsScoreVolume/score_volumes\"\n",
      "aws s3 cp \"s3://mousebrainatlas-data/CSHL_volumes/LM30/LM30_down32_annotationAsScoreVolume/score_volumes/LM30_down32_annotationAsScoreVolume_10N_R_surround_200.bp\" \"/shared/CSHL_volumes/LM30/LM30_down32_annotationAsScoreVolume/score_volumes/LM30_down32_annotationAsScoreVolume_10N_R_surround_200.bp\"\n"
     ]
    },
    {
     "name": "stderr",
     "output_type": "stream",
     "text": [
      "File does not exist: /shared/CSHL_volumes/LM30/LM30_down32_annotationAsScoreVolume/score_volumes/LM30_down32_annotationAsScoreVolume_10N_R_surround_200.bp\n",
      "Error computing gradient for 10N_R_surround_200: [Errno 2] No such file or directory: '/shared/CSHL_volumes/LM30/LM30_down32_annotationAsScoreVolume/score_volumes/LM30_down32_annotationAsScoreVolume_10N_R_surround_200.bp'.\n"
     ]
    },
    {
     "name": "stdout",
     "output_type": "stream",
     "text": [
      "12N\n",
      "rm -rf \"/shared/CSHL_volumes/LM30/LM30_down32_annotationAsScoreVolume/score_volumes/LM30_down32_annotationAsScoreVolume_12N.bp\" && mkdir -p \"/shared/CSHL_volumes/LM30/LM30_down32_annotationAsScoreVolume/score_volumes\"\n",
      "aws s3 cp \"s3://mousebrainatlas-data/CSHL_volumes/LM30/LM30_down32_annotationAsScoreVolume/score_volumes/LM30_down32_annotationAsScoreVolume_12N.bp\" \"/shared/CSHL_volumes/LM30/LM30_down32_annotationAsScoreVolume/score_volumes/LM30_down32_annotationAsScoreVolume_12N.bp\"\n"
     ]
    },
    {
     "name": "stderr",
     "output_type": "stream",
     "text": [
      "File does not exist: /shared/CSHL_volumes/LM30/LM30_down32_annotationAsScoreVolume/score_volumes/LM30_down32_annotationAsScoreVolume_12N.bp\n",
      "Error computing gradient for 12N: [Errno 2] No such file or directory: '/shared/CSHL_volumes/LM30/LM30_down32_annotationAsScoreVolume/score_volumes/LM30_down32_annotationAsScoreVolume_12N.bp'.\n"
     ]
    },
    {
     "name": "stdout",
     "output_type": "stream",
     "text": [
      "12N_surround_200\n",
      "rm -rf \"/shared/CSHL_volumes/LM30/LM30_down32_annotationAsScoreVolume/score_volumes/LM30_down32_annotationAsScoreVolume_12N_surround_200.bp\" && mkdir -p \"/shared/CSHL_volumes/LM30/LM30_down32_annotationAsScoreVolume/score_volumes\"\n",
      "aws s3 cp \"s3://mousebrainatlas-data/CSHL_volumes/LM30/LM30_down32_annotationAsScoreVolume/score_volumes/LM30_down32_annotationAsScoreVolume_12N_surround_200.bp\" \"/shared/CSHL_volumes/LM30/LM30_down32_annotationAsScoreVolume/score_volumes/LM30_down32_annotationAsScoreVolume_12N_surround_200.bp\"\n"
     ]
    },
    {
     "name": "stderr",
     "output_type": "stream",
     "text": [
      "File does not exist: /shared/CSHL_volumes/LM30/LM30_down32_annotationAsScoreVolume/score_volumes/LM30_down32_annotationAsScoreVolume_12N_surround_200.bp\n",
      "Error computing gradient for 12N_surround_200: [Errno 2] No such file or directory: '/shared/CSHL_volumes/LM30/LM30_down32_annotationAsScoreVolume/score_volumes/LM30_down32_annotationAsScoreVolume_12N_surround_200.bp'.\n",
      "Gradient 3N_L: 0.050600 seconds\n"
     ]
    },
    {
     "name": "stdout",
     "output_type": "stream",
     "text": [
      "3N_L\n",
      "aws s3 cp \"/shared/CSHL_volumes/LM30/LM30_down32_annotationAsScoreVolume/score_volume_gradients/LM30_down32_annotationAsScoreVolume_3N_L_gx.bp\" \"s3://mousebrainatlas-data/CSHL_volumes/LM30/LM30_down32_annotationAsScoreVolume/score_volume_gradients/LM30_down32_annotationAsScoreVolume_3N_L_gx.bp\"\n",
      "aws s3 cp \"/shared/CSHL_volumes/LM30/LM30_down32_annotationAsScoreVolume/score_volume_gradients/LM30_down32_annotationAsScoreVolume_3N_L_gy.bp\" \"s3://mousebrainatlas-data/CSHL_volumes/LM30/LM30_down32_annotationAsScoreVolume/score_volume_gradients/LM30_down32_annotationAsScoreVolume_3N_L_gy.bp\"\n",
      "aws s3 cp \"/shared/CSHL_volumes/LM30/LM30_down32_annotationAsScoreVolume/score_volume_gradients/LM30_down32_annotationAsScoreVolume_3N_L_gz.bp\" \"s3://mousebrainatlas-data/CSHL_volumes/LM30/LM30_down32_annotationAsScoreVolume/score_volume_gradients/LM30_down32_annotationAsScoreVolume_3N_L_gz.bp\"\n"
     ]
    },
    {
     "name": "stderr",
     "output_type": "stream",
     "text": [
      "save 3N_L: 1.265610 seconds\n",
      "Gradient 3N_L_surround_200: 0.048191 seconds\n"
     ]
    },
    {
     "name": "stdout",
     "output_type": "stream",
     "text": [
      "3N_L_surround_200\n",
      "aws s3 cp \"/shared/CSHL_volumes/LM30/LM30_down32_annotationAsScoreVolume/score_volume_gradients/LM30_down32_annotationAsScoreVolume_3N_L_surround_200_gx.bp\" \"s3://mousebrainatlas-data/CSHL_volumes/LM30/LM30_down32_annotationAsScoreVolume/score_volume_gradients/LM30_down32_annotationAsScoreVolume_3N_L_surround_200_gx.bp\"\n",
      "aws s3 cp \"/shared/CSHL_volumes/LM30/LM30_down32_annotationAsScoreVolume/score_volume_gradients/LM30_down32_annotationAsScoreVolume_3N_L_surround_200_gy.bp\" \"s3://mousebrainatlas-data/CSHL_volumes/LM30/LM30_down32_annotationAsScoreVolume/score_volume_gradients/LM30_down32_annotationAsScoreVolume_3N_L_surround_200_gy.bp\"\n",
      "aws s3 cp \"/shared/CSHL_volumes/LM30/LM30_down32_annotationAsScoreVolume/score_volume_gradients/LM30_down32_annotationAsScoreVolume_3N_L_surround_200_gz.bp\" \"s3://mousebrainatlas-data/CSHL_volumes/LM30/LM30_down32_annotationAsScoreVolume/score_volume_gradients/LM30_down32_annotationAsScoreVolume_3N_L_surround_200_gz.bp\"\n"
     ]
    },
    {
     "name": "stderr",
     "output_type": "stream",
     "text": [
      "save 3N_L_surround_200: 1.620708 seconds\n"
     ]
    },
    {
     "name": "stdout",
     "output_type": "stream",
     "text": [
      "3N_R\n",
      "rm -rf \"/shared/CSHL_volumes/LM30/LM30_down32_annotationAsScoreVolume/score_volumes/LM30_down32_annotationAsScoreVolume_3N_R.bp\" && mkdir -p \"/shared/CSHL_volumes/LM30/LM30_down32_annotationAsScoreVolume/score_volumes\"\n",
      "aws s3 cp \"s3://mousebrainatlas-data/CSHL_volumes/LM30/LM30_down32_annotationAsScoreVolume/score_volumes/LM30_down32_annotationAsScoreVolume_3N_R.bp\" \"/shared/CSHL_volumes/LM30/LM30_down32_annotationAsScoreVolume/score_volumes/LM30_down32_annotationAsScoreVolume_3N_R.bp\"\n"
     ]
    },
    {
     "name": "stderr",
     "output_type": "stream",
     "text": [
      "File does not exist: /shared/CSHL_volumes/LM30/LM30_down32_annotationAsScoreVolume/score_volumes/LM30_down32_annotationAsScoreVolume_3N_R.bp\n",
      "Error computing gradient for 3N_R: [Errno 2] No such file or directory: '/shared/CSHL_volumes/LM30/LM30_down32_annotationAsScoreVolume/score_volumes/LM30_down32_annotationAsScoreVolume_3N_R.bp'.\n"
     ]
    },
    {
     "name": "stdout",
     "output_type": "stream",
     "text": [
      "3N_R_surround_200\n",
      "rm -rf \"/shared/CSHL_volumes/LM30/LM30_down32_annotationAsScoreVolume/score_volumes/LM30_down32_annotationAsScoreVolume_3N_R_surround_200.bp\" && mkdir -p \"/shared/CSHL_volumes/LM30/LM30_down32_annotationAsScoreVolume/score_volumes\"\n",
      "aws s3 cp \"s3://mousebrainatlas-data/CSHL_volumes/LM30/LM30_down32_annotationAsScoreVolume/score_volumes/LM30_down32_annotationAsScoreVolume_3N_R_surround_200.bp\" \"/shared/CSHL_volumes/LM30/LM30_down32_annotationAsScoreVolume/score_volumes/LM30_down32_annotationAsScoreVolume_3N_R_surround_200.bp\"\n"
     ]
    },
    {
     "name": "stderr",
     "output_type": "stream",
     "text": [
      "File does not exist: /shared/CSHL_volumes/LM30/LM30_down32_annotationAsScoreVolume/score_volumes/LM30_down32_annotationAsScoreVolume_3N_R_surround_200.bp\n",
      "Error computing gradient for 3N_R_surround_200: [Errno 2] No such file or directory: '/shared/CSHL_volumes/LM30/LM30_down32_annotationAsScoreVolume/score_volumes/LM30_down32_annotationAsScoreVolume_3N_R_surround_200.bp'.\n"
     ]
    },
    {
     "name": "stdout",
     "output_type": "stream",
     "text": [
      "4N_L\n",
      "rm -rf \"/shared/CSHL_volumes/LM30/LM30_down32_annotationAsScoreVolume/score_volumes/LM30_down32_annotationAsScoreVolume_4N_L.bp\" && mkdir -p \"/shared/CSHL_volumes/LM30/LM30_down32_annotationAsScoreVolume/score_volumes\"\n",
      "aws s3 cp \"s3://mousebrainatlas-data/CSHL_volumes/LM30/LM30_down32_annotationAsScoreVolume/score_volumes/LM30_down32_annotationAsScoreVolume_4N_L.bp\" \"/shared/CSHL_volumes/LM30/LM30_down32_annotationAsScoreVolume/score_volumes/LM30_down32_annotationAsScoreVolume_4N_L.bp\"\n"
     ]
    },
    {
     "name": "stderr",
     "output_type": "stream",
     "text": [
      "File does not exist: /shared/CSHL_volumes/LM30/LM30_down32_annotationAsScoreVolume/score_volumes/LM30_down32_annotationAsScoreVolume_4N_L.bp\n",
      "Error computing gradient for 4N_L: [Errno 2] No such file or directory: '/shared/CSHL_volumes/LM30/LM30_down32_annotationAsScoreVolume/score_volumes/LM30_down32_annotationAsScoreVolume_4N_L.bp'.\n"
     ]
    },
    {
     "name": "stdout",
     "output_type": "stream",
     "text": [
      "4N_L_surround_200\n",
      "rm -rf \"/shared/CSHL_volumes/LM30/LM30_down32_annotationAsScoreVolume/score_volumes/LM30_down32_annotationAsScoreVolume_4N_L_surround_200.bp\" && mkdir -p \"/shared/CSHL_volumes/LM30/LM30_down32_annotationAsScoreVolume/score_volumes\"\n",
      "aws s3 cp \"s3://mousebrainatlas-data/CSHL_volumes/LM30/LM30_down32_annotationAsScoreVolume/score_volumes/LM30_down32_annotationAsScoreVolume_4N_L_surround_200.bp\" \"/shared/CSHL_volumes/LM30/LM30_down32_annotationAsScoreVolume/score_volumes/LM30_down32_annotationAsScoreVolume_4N_L_surround_200.bp\"\n"
     ]
    },
    {
     "name": "stderr",
     "output_type": "stream",
     "text": [
      "File does not exist: /shared/CSHL_volumes/LM30/LM30_down32_annotationAsScoreVolume/score_volumes/LM30_down32_annotationAsScoreVolume_4N_L_surround_200.bp\n",
      "Error computing gradient for 4N_L_surround_200: [Errno 2] No such file or directory: '/shared/CSHL_volumes/LM30/LM30_down32_annotationAsScoreVolume/score_volumes/LM30_down32_annotationAsScoreVolume_4N_L_surround_200.bp'.\n"
     ]
    },
    {
     "name": "stdout",
     "output_type": "stream",
     "text": [
      "4N_R\n",
      "rm -rf \"/shared/CSHL_volumes/LM30/LM30_down32_annotationAsScoreVolume/score_volumes/LM30_down32_annotationAsScoreVolume_4N_R.bp\" && mkdir -p \"/shared/CSHL_volumes/LM30/LM30_down32_annotationAsScoreVolume/score_volumes\"\n",
      "aws s3 cp \"s3://mousebrainatlas-data/CSHL_volumes/LM30/LM30_down32_annotationAsScoreVolume/score_volumes/LM30_down32_annotationAsScoreVolume_4N_R.bp\" \"/shared/CSHL_volumes/LM30/LM30_down32_annotationAsScoreVolume/score_volumes/LM30_down32_annotationAsScoreVolume_4N_R.bp\"\n"
     ]
    },
    {
     "name": "stderr",
     "output_type": "stream",
     "text": [
      "File does not exist: /shared/CSHL_volumes/LM30/LM30_down32_annotationAsScoreVolume/score_volumes/LM30_down32_annotationAsScoreVolume_4N_R.bp\n",
      "Error computing gradient for 4N_R: [Errno 2] No such file or directory: '/shared/CSHL_volumes/LM30/LM30_down32_annotationAsScoreVolume/score_volumes/LM30_down32_annotationAsScoreVolume_4N_R.bp'.\n"
     ]
    },
    {
     "name": "stdout",
     "output_type": "stream",
     "text": [
      "4N_R_surround_200\n",
      "rm -rf \"/shared/CSHL_volumes/LM30/LM30_down32_annotationAsScoreVolume/score_volumes/LM30_down32_annotationAsScoreVolume_4N_R_surround_200.bp\" && mkdir -p \"/shared/CSHL_volumes/LM30/LM30_down32_annotationAsScoreVolume/score_volumes\"\n",
      "aws s3 cp \"s3://mousebrainatlas-data/CSHL_volumes/LM30/LM30_down32_annotationAsScoreVolume/score_volumes/LM30_down32_annotationAsScoreVolume_4N_R_surround_200.bp\" \"/shared/CSHL_volumes/LM30/LM30_down32_annotationAsScoreVolume/score_volumes/LM30_down32_annotationAsScoreVolume_4N_R_surround_200.bp\"\n"
     ]
    },
    {
     "name": "stderr",
     "output_type": "stream",
     "text": [
      "File does not exist: /shared/CSHL_volumes/LM30/LM30_down32_annotationAsScoreVolume/score_volumes/LM30_down32_annotationAsScoreVolume_4N_R_surround_200.bp\n",
      "Error computing gradient for 4N_R_surround_200: [Errno 2] No such file or directory: '/shared/CSHL_volumes/LM30/LM30_down32_annotationAsScoreVolume/score_volumes/LM30_down32_annotationAsScoreVolume_4N_R_surround_200.bp'.\n"
     ]
    },
    {
     "name": "stdout",
     "output_type": "stream",
     "text": [
      "5N_L\n",
      "rm -rf \"/shared/CSHL_volumes/LM30/LM30_down32_annotationAsScoreVolume/score_volumes/LM30_down32_annotationAsScoreVolume_5N_L.bp\" && mkdir -p \"/shared/CSHL_volumes/LM30/LM30_down32_annotationAsScoreVolume/score_volumes\"\n",
      "aws s3 cp \"s3://mousebrainatlas-data/CSHL_volumes/LM30/LM30_down32_annotationAsScoreVolume/score_volumes/LM30_down32_annotationAsScoreVolume_5N_L.bp\" \"/shared/CSHL_volumes/LM30/LM30_down32_annotationAsScoreVolume/score_volumes/LM30_down32_annotationAsScoreVolume_5N_L.bp\"\n"
     ]
    },
    {
     "name": "stderr",
     "output_type": "stream",
     "text": [
      "File does not exist: /shared/CSHL_volumes/LM30/LM30_down32_annotationAsScoreVolume/score_volumes/LM30_down32_annotationAsScoreVolume_5N_L.bp\n",
      "Error computing gradient for 5N_L: [Errno 2] No such file or directory: '/shared/CSHL_volumes/LM30/LM30_down32_annotationAsScoreVolume/score_volumes/LM30_down32_annotationAsScoreVolume_5N_L.bp'.\n"
     ]
    },
    {
     "name": "stdout",
     "output_type": "stream",
     "text": [
      "5N_L_surround_200\n",
      "rm -rf \"/shared/CSHL_volumes/LM30/LM30_down32_annotationAsScoreVolume/score_volumes/LM30_down32_annotationAsScoreVolume_5N_L_surround_200.bp\" && mkdir -p \"/shared/CSHL_volumes/LM30/LM30_down32_annotationAsScoreVolume/score_volumes\"\n",
      "aws s3 cp \"s3://mousebrainatlas-data/CSHL_volumes/LM30/LM30_down32_annotationAsScoreVolume/score_volumes/LM30_down32_annotationAsScoreVolume_5N_L_surround_200.bp\" \"/shared/CSHL_volumes/LM30/LM30_down32_annotationAsScoreVolume/score_volumes/LM30_down32_annotationAsScoreVolume_5N_L_surround_200.bp\"\n"
     ]
    },
    {
     "name": "stderr",
     "output_type": "stream",
     "text": [
      "File does not exist: /shared/CSHL_volumes/LM30/LM30_down32_annotationAsScoreVolume/score_volumes/LM30_down32_annotationAsScoreVolume_5N_L_surround_200.bp\n",
      "Error computing gradient for 5N_L_surround_200: [Errno 2] No such file or directory: '/shared/CSHL_volumes/LM30/LM30_down32_annotationAsScoreVolume/score_volumes/LM30_down32_annotationAsScoreVolume_5N_L_surround_200.bp'.\n"
     ]
    },
    {
     "name": "stdout",
     "output_type": "stream",
     "text": [
      "5N_R\n",
      "rm -rf \"/shared/CSHL_volumes/LM30/LM30_down32_annotationAsScoreVolume/score_volumes/LM30_down32_annotationAsScoreVolume_5N_R.bp\" && mkdir -p \"/shared/CSHL_volumes/LM30/LM30_down32_annotationAsScoreVolume/score_volumes\"\n",
      "aws s3 cp \"s3://mousebrainatlas-data/CSHL_volumes/LM30/LM30_down32_annotationAsScoreVolume/score_volumes/LM30_down32_annotationAsScoreVolume_5N_R.bp\" \"/shared/CSHL_volumes/LM30/LM30_down32_annotationAsScoreVolume/score_volumes/LM30_down32_annotationAsScoreVolume_5N_R.bp\"\n"
     ]
    },
    {
     "name": "stderr",
     "output_type": "stream",
     "text": [
      "File does not exist: /shared/CSHL_volumes/LM30/LM30_down32_annotationAsScoreVolume/score_volumes/LM30_down32_annotationAsScoreVolume_5N_R.bp\n",
      "Error computing gradient for 5N_R: [Errno 2] No such file or directory: '/shared/CSHL_volumes/LM30/LM30_down32_annotationAsScoreVolume/score_volumes/LM30_down32_annotationAsScoreVolume_5N_R.bp'.\n"
     ]
    },
    {
     "name": "stdout",
     "output_type": "stream",
     "text": [
      "5N_R_surround_200\n",
      "rm -rf \"/shared/CSHL_volumes/LM30/LM30_down32_annotationAsScoreVolume/score_volumes/LM30_down32_annotationAsScoreVolume_5N_R_surround_200.bp\" && mkdir -p \"/shared/CSHL_volumes/LM30/LM30_down32_annotationAsScoreVolume/score_volumes\"\n",
      "aws s3 cp \"s3://mousebrainatlas-data/CSHL_volumes/LM30/LM30_down32_annotationAsScoreVolume/score_volumes/LM30_down32_annotationAsScoreVolume_5N_R_surround_200.bp\" \"/shared/CSHL_volumes/LM30/LM30_down32_annotationAsScoreVolume/score_volumes/LM30_down32_annotationAsScoreVolume_5N_R_surround_200.bp\"\n"
     ]
    },
    {
     "name": "stderr",
     "output_type": "stream",
     "text": [
      "File does not exist: /shared/CSHL_volumes/LM30/LM30_down32_annotationAsScoreVolume/score_volumes/LM30_down32_annotationAsScoreVolume_5N_R_surround_200.bp\n",
      "Error computing gradient for 5N_R_surround_200: [Errno 2] No such file or directory: '/shared/CSHL_volumes/LM30/LM30_down32_annotationAsScoreVolume/score_volumes/LM30_down32_annotationAsScoreVolume_5N_R_surround_200.bp'.\n"
     ]
    },
    {
     "name": "stdout",
     "output_type": "stream",
     "text": [
      "6N_L\n",
      "rm -rf \"/shared/CSHL_volumes/LM30/LM30_down32_annotationAsScoreVolume/score_volumes/LM30_down32_annotationAsScoreVolume_6N_L.bp\" && mkdir -p \"/shared/CSHL_volumes/LM30/LM30_down32_annotationAsScoreVolume/score_volumes\"\n",
      "aws s3 cp \"s3://mousebrainatlas-data/CSHL_volumes/LM30/LM30_down32_annotationAsScoreVolume/score_volumes/LM30_down32_annotationAsScoreVolume_6N_L.bp\" \"/shared/CSHL_volumes/LM30/LM30_down32_annotationAsScoreVolume/score_volumes/LM30_down32_annotationAsScoreVolume_6N_L.bp\"\n"
     ]
    },
    {
     "name": "stderr",
     "output_type": "stream",
     "text": [
      "File does not exist: /shared/CSHL_volumes/LM30/LM30_down32_annotationAsScoreVolume/score_volumes/LM30_down32_annotationAsScoreVolume_6N_L.bp\n",
      "Error computing gradient for 6N_L: [Errno 2] No such file or directory: '/shared/CSHL_volumes/LM30/LM30_down32_annotationAsScoreVolume/score_volumes/LM30_down32_annotationAsScoreVolume_6N_L.bp'.\n"
     ]
    },
    {
     "name": "stdout",
     "output_type": "stream",
     "text": [
      "6N_L_surround_200\n",
      "rm -rf \"/shared/CSHL_volumes/LM30/LM30_down32_annotationAsScoreVolume/score_volumes/LM30_down32_annotationAsScoreVolume_6N_L_surround_200.bp\" && mkdir -p \"/shared/CSHL_volumes/LM30/LM30_down32_annotationAsScoreVolume/score_volumes\"\n",
      "aws s3 cp \"s3://mousebrainatlas-data/CSHL_volumes/LM30/LM30_down32_annotationAsScoreVolume/score_volumes/LM30_down32_annotationAsScoreVolume_6N_L_surround_200.bp\" \"/shared/CSHL_volumes/LM30/LM30_down32_annotationAsScoreVolume/score_volumes/LM30_down32_annotationAsScoreVolume_6N_L_surround_200.bp\"\n"
     ]
    },
    {
     "name": "stderr",
     "output_type": "stream",
     "text": [
      "File does not exist: /shared/CSHL_volumes/LM30/LM30_down32_annotationAsScoreVolume/score_volumes/LM30_down32_annotationAsScoreVolume_6N_L_surround_200.bp\n",
      "Error computing gradient for 6N_L_surround_200: [Errno 2] No such file or directory: '/shared/CSHL_volumes/LM30/LM30_down32_annotationAsScoreVolume/score_volumes/LM30_down32_annotationAsScoreVolume_6N_L_surround_200.bp'.\n"
     ]
    },
    {
     "name": "stdout",
     "output_type": "stream",
     "text": [
      "6N_R\n",
      "rm -rf \"/shared/CSHL_volumes/LM30/LM30_down32_annotationAsScoreVolume/score_volumes/LM30_down32_annotationAsScoreVolume_6N_R.bp\" && mkdir -p \"/shared/CSHL_volumes/LM30/LM30_down32_annotationAsScoreVolume/score_volumes\"\n",
      "aws s3 cp \"s3://mousebrainatlas-data/CSHL_volumes/LM30/LM30_down32_annotationAsScoreVolume/score_volumes/LM30_down32_annotationAsScoreVolume_6N_R.bp\" \"/shared/CSHL_volumes/LM30/LM30_down32_annotationAsScoreVolume/score_volumes/LM30_down32_annotationAsScoreVolume_6N_R.bp\"\n"
     ]
    },
    {
     "name": "stderr",
     "output_type": "stream",
     "text": [
      "File does not exist: /shared/CSHL_volumes/LM30/LM30_down32_annotationAsScoreVolume/score_volumes/LM30_down32_annotationAsScoreVolume_6N_R.bp\n",
      "Error computing gradient for 6N_R: [Errno 2] No such file or directory: '/shared/CSHL_volumes/LM30/LM30_down32_annotationAsScoreVolume/score_volumes/LM30_down32_annotationAsScoreVolume_6N_R.bp'.\n"
     ]
    },
    {
     "name": "stdout",
     "output_type": "stream",
     "text": [
      "6N_R_surround_200\n",
      "rm -rf \"/shared/CSHL_volumes/LM30/LM30_down32_annotationAsScoreVolume/score_volumes/LM30_down32_annotationAsScoreVolume_6N_R_surround_200.bp\" && mkdir -p \"/shared/CSHL_volumes/LM30/LM30_down32_annotationAsScoreVolume/score_volumes\"\n",
      "aws s3 cp \"s3://mousebrainatlas-data/CSHL_volumes/LM30/LM30_down32_annotationAsScoreVolume/score_volumes/LM30_down32_annotationAsScoreVolume_6N_R_surround_200.bp\" \"/shared/CSHL_volumes/LM30/LM30_down32_annotationAsScoreVolume/score_volumes/LM30_down32_annotationAsScoreVolume_6N_R_surround_200.bp\"\n"
     ]
    },
    {
     "name": "stderr",
     "output_type": "stream",
     "text": [
      "File does not exist: /shared/CSHL_volumes/LM30/LM30_down32_annotationAsScoreVolume/score_volumes/LM30_down32_annotationAsScoreVolume_6N_R_surround_200.bp\n",
      "Error computing gradient for 6N_R_surround_200: [Errno 2] No such file or directory: '/shared/CSHL_volumes/LM30/LM30_down32_annotationAsScoreVolume/score_volumes/LM30_down32_annotationAsScoreVolume_6N_R_surround_200.bp'.\n"
     ]
    },
    {
     "name": "stdout",
     "output_type": "stream",
     "text": [
      "7N_L\n",
      "rm -rf \"/shared/CSHL_volumes/LM30/LM30_down32_annotationAsScoreVolume/score_volumes/LM30_down32_annotationAsScoreVolume_7N_L.bp\" && mkdir -p \"/shared/CSHL_volumes/LM30/LM30_down32_annotationAsScoreVolume/score_volumes\"\n",
      "aws s3 cp \"s3://mousebrainatlas-data/CSHL_volumes/LM30/LM30_down32_annotationAsScoreVolume/score_volumes/LM30_down32_annotationAsScoreVolume_7N_L.bp\" \"/shared/CSHL_volumes/LM30/LM30_down32_annotationAsScoreVolume/score_volumes/LM30_down32_annotationAsScoreVolume_7N_L.bp\"\n"
     ]
    },
    {
     "name": "stderr",
     "output_type": "stream",
     "text": [
      "File does not exist: /shared/CSHL_volumes/LM30/LM30_down32_annotationAsScoreVolume/score_volumes/LM30_down32_annotationAsScoreVolume_7N_L.bp\n",
      "Error computing gradient for 7N_L: [Errno 2] No such file or directory: '/shared/CSHL_volumes/LM30/LM30_down32_annotationAsScoreVolume/score_volumes/LM30_down32_annotationAsScoreVolume_7N_L.bp'.\n"
     ]
    },
    {
     "name": "stdout",
     "output_type": "stream",
     "text": [
      "7N_L_surround_200\n",
      "rm -rf \"/shared/CSHL_volumes/LM30/LM30_down32_annotationAsScoreVolume/score_volumes/LM30_down32_annotationAsScoreVolume_7N_L_surround_200.bp\" && mkdir -p \"/shared/CSHL_volumes/LM30/LM30_down32_annotationAsScoreVolume/score_volumes\"\n",
      "aws s3 cp \"s3://mousebrainatlas-data/CSHL_volumes/LM30/LM30_down32_annotationAsScoreVolume/score_volumes/LM30_down32_annotationAsScoreVolume_7N_L_surround_200.bp\" \"/shared/CSHL_volumes/LM30/LM30_down32_annotationAsScoreVolume/score_volumes/LM30_down32_annotationAsScoreVolume_7N_L_surround_200.bp\"\n"
     ]
    },
    {
     "name": "stderr",
     "output_type": "stream",
     "text": [
      "File does not exist: /shared/CSHL_volumes/LM30/LM30_down32_annotationAsScoreVolume/score_volumes/LM30_down32_annotationAsScoreVolume_7N_L_surround_200.bp\n",
      "Error computing gradient for 7N_L_surround_200: [Errno 2] No such file or directory: '/shared/CSHL_volumes/LM30/LM30_down32_annotationAsScoreVolume/score_volumes/LM30_down32_annotationAsScoreVolume_7N_L_surround_200.bp'.\n"
     ]
    },
    {
     "name": "stdout",
     "output_type": "stream",
     "text": [
      "7N_R\n",
      "rm -rf \"/shared/CSHL_volumes/LM30/LM30_down32_annotationAsScoreVolume/score_volumes/LM30_down32_annotationAsScoreVolume_7N_R.bp\" && mkdir -p \"/shared/CSHL_volumes/LM30/LM30_down32_annotationAsScoreVolume/score_volumes\"\n",
      "aws s3 cp \"s3://mousebrainatlas-data/CSHL_volumes/LM30/LM30_down32_annotationAsScoreVolume/score_volumes/LM30_down32_annotationAsScoreVolume_7N_R.bp\" \"/shared/CSHL_volumes/LM30/LM30_down32_annotationAsScoreVolume/score_volumes/LM30_down32_annotationAsScoreVolume_7N_R.bp\"\n"
     ]
    },
    {
     "name": "stderr",
     "output_type": "stream",
     "text": [
      "File does not exist: /shared/CSHL_volumes/LM30/LM30_down32_annotationAsScoreVolume/score_volumes/LM30_down32_annotationAsScoreVolume_7N_R.bp\n",
      "Error computing gradient for 7N_R: [Errno 2] No such file or directory: '/shared/CSHL_volumes/LM30/LM30_down32_annotationAsScoreVolume/score_volumes/LM30_down32_annotationAsScoreVolume_7N_R.bp'.\n"
     ]
    },
    {
     "name": "stdout",
     "output_type": "stream",
     "text": [
      "7N_R_surround_200\n",
      "rm -rf \"/shared/CSHL_volumes/LM30/LM30_down32_annotationAsScoreVolume/score_volumes/LM30_down32_annotationAsScoreVolume_7N_R_surround_200.bp\" && mkdir -p \"/shared/CSHL_volumes/LM30/LM30_down32_annotationAsScoreVolume/score_volumes\"\n",
      "aws s3 cp \"s3://mousebrainatlas-data/CSHL_volumes/LM30/LM30_down32_annotationAsScoreVolume/score_volumes/LM30_down32_annotationAsScoreVolume_7N_R_surround_200.bp\" \"/shared/CSHL_volumes/LM30/LM30_down32_annotationAsScoreVolume/score_volumes/LM30_down32_annotationAsScoreVolume_7N_R_surround_200.bp\"\n"
     ]
    },
    {
     "name": "stderr",
     "output_type": "stream",
     "text": [
      "File does not exist: /shared/CSHL_volumes/LM30/LM30_down32_annotationAsScoreVolume/score_volumes/LM30_down32_annotationAsScoreVolume_7N_R_surround_200.bp\n",
      "Error computing gradient for 7N_R_surround_200: [Errno 2] No such file or directory: '/shared/CSHL_volumes/LM30/LM30_down32_annotationAsScoreVolume/score_volumes/LM30_down32_annotationAsScoreVolume_7N_R_surround_200.bp'.\n"
     ]
    },
    {
     "name": "stdout",
     "output_type": "stream",
     "text": [
      "7n_L\n",
      "rm -rf \"/shared/CSHL_volumes/LM30/LM30_down32_annotationAsScoreVolume/score_volumes/LM30_down32_annotationAsScoreVolume_7n_L.bp\" && mkdir -p \"/shared/CSHL_volumes/LM30/LM30_down32_annotationAsScoreVolume/score_volumes\"\n",
      "aws s3 cp \"s3://mousebrainatlas-data/CSHL_volumes/LM30/LM30_down32_annotationAsScoreVolume/score_volumes/LM30_down32_annotationAsScoreVolume_7n_L.bp\" \"/shared/CSHL_volumes/LM30/LM30_down32_annotationAsScoreVolume/score_volumes/LM30_down32_annotationAsScoreVolume_7n_L.bp\"\n"
     ]
    },
    {
     "name": "stderr",
     "output_type": "stream",
     "text": [
      "File does not exist: /shared/CSHL_volumes/LM30/LM30_down32_annotationAsScoreVolume/score_volumes/LM30_down32_annotationAsScoreVolume_7n_L.bp\n",
      "Error computing gradient for 7n_L: [Errno 2] No such file or directory: '/shared/CSHL_volumes/LM30/LM30_down32_annotationAsScoreVolume/score_volumes/LM30_down32_annotationAsScoreVolume_7n_L.bp'.\n"
     ]
    },
    {
     "name": "stdout",
     "output_type": "stream",
     "text": [
      "7n_L_surround_200\n",
      "rm -rf \"/shared/CSHL_volumes/LM30/LM30_down32_annotationAsScoreVolume/score_volumes/LM30_down32_annotationAsScoreVolume_7n_L_surround_200.bp\" && mkdir -p \"/shared/CSHL_volumes/LM30/LM30_down32_annotationAsScoreVolume/score_volumes\"\n",
      "aws s3 cp \"s3://mousebrainatlas-data/CSHL_volumes/LM30/LM30_down32_annotationAsScoreVolume/score_volumes/LM30_down32_annotationAsScoreVolume_7n_L_surround_200.bp\" \"/shared/CSHL_volumes/LM30/LM30_down32_annotationAsScoreVolume/score_volumes/LM30_down32_annotationAsScoreVolume_7n_L_surround_200.bp\"\n"
     ]
    },
    {
     "name": "stderr",
     "output_type": "stream",
     "text": [
      "File does not exist: /shared/CSHL_volumes/LM30/LM30_down32_annotationAsScoreVolume/score_volumes/LM30_down32_annotationAsScoreVolume_7n_L_surround_200.bp\n",
      "Error computing gradient for 7n_L_surround_200: [Errno 2] No such file or directory: '/shared/CSHL_volumes/LM30/LM30_down32_annotationAsScoreVolume/score_volumes/LM30_down32_annotationAsScoreVolume_7n_L_surround_200.bp'.\n"
     ]
    },
    {
     "name": "stdout",
     "output_type": "stream",
     "text": [
      "7n_R\n",
      "rm -rf \"/shared/CSHL_volumes/LM30/LM30_down32_annotationAsScoreVolume/score_volumes/LM30_down32_annotationAsScoreVolume_7n_R.bp\" && mkdir -p \"/shared/CSHL_volumes/LM30/LM30_down32_annotationAsScoreVolume/score_volumes\"\n",
      "aws s3 cp \"s3://mousebrainatlas-data/CSHL_volumes/LM30/LM30_down32_annotationAsScoreVolume/score_volumes/LM30_down32_annotationAsScoreVolume_7n_R.bp\" \"/shared/CSHL_volumes/LM30/LM30_down32_annotationAsScoreVolume/score_volumes/LM30_down32_annotationAsScoreVolume_7n_R.bp\"\n"
     ]
    },
    {
     "name": "stderr",
     "output_type": "stream",
     "text": [
      "File does not exist: /shared/CSHL_volumes/LM30/LM30_down32_annotationAsScoreVolume/score_volumes/LM30_down32_annotationAsScoreVolume_7n_R.bp\n",
      "Error computing gradient for 7n_R: [Errno 2] No such file or directory: '/shared/CSHL_volumes/LM30/LM30_down32_annotationAsScoreVolume/score_volumes/LM30_down32_annotationAsScoreVolume_7n_R.bp'.\n"
     ]
    },
    {
     "name": "stdout",
     "output_type": "stream",
     "text": [
      "7n_R_surround_200\n",
      "rm -rf \"/shared/CSHL_volumes/LM30/LM30_down32_annotationAsScoreVolume/score_volumes/LM30_down32_annotationAsScoreVolume_7n_R_surround_200.bp\" && mkdir -p \"/shared/CSHL_volumes/LM30/LM30_down32_annotationAsScoreVolume/score_volumes\"\n",
      "aws s3 cp \"s3://mousebrainatlas-data/CSHL_volumes/LM30/LM30_down32_annotationAsScoreVolume/score_volumes/LM30_down32_annotationAsScoreVolume_7n_R_surround_200.bp\" \"/shared/CSHL_volumes/LM30/LM30_down32_annotationAsScoreVolume/score_volumes/LM30_down32_annotationAsScoreVolume_7n_R_surround_200.bp\"\n"
     ]
    },
    {
     "name": "stderr",
     "output_type": "stream",
     "text": [
      "File does not exist: /shared/CSHL_volumes/LM30/LM30_down32_annotationAsScoreVolume/score_volumes/LM30_down32_annotationAsScoreVolume_7n_R_surround_200.bp\n",
      "Error computing gradient for 7n_R_surround_200: [Errno 2] No such file or directory: '/shared/CSHL_volumes/LM30/LM30_down32_annotationAsScoreVolume/score_volumes/LM30_down32_annotationAsScoreVolume_7n_R_surround_200.bp'.\n"
     ]
    },
    {
     "name": "stdout",
     "output_type": "stream",
     "text": [
      "AP\n",
      "rm -rf \"/shared/CSHL_volumes/LM30/LM30_down32_annotationAsScoreVolume/score_volumes/LM30_down32_annotationAsScoreVolume_AP.bp\" && mkdir -p \"/shared/CSHL_volumes/LM30/LM30_down32_annotationAsScoreVolume/score_volumes\"\n",
      "aws s3 cp \"s3://mousebrainatlas-data/CSHL_volumes/LM30/LM30_down32_annotationAsScoreVolume/score_volumes/LM30_down32_annotationAsScoreVolume_AP.bp\" \"/shared/CSHL_volumes/LM30/LM30_down32_annotationAsScoreVolume/score_volumes/LM30_down32_annotationAsScoreVolume_AP.bp\"\n"
     ]
    },
    {
     "name": "stderr",
     "output_type": "stream",
     "text": [
      "File does not exist: /shared/CSHL_volumes/LM30/LM30_down32_annotationAsScoreVolume/score_volumes/LM30_down32_annotationAsScoreVolume_AP.bp\n",
      "Error computing gradient for AP: [Errno 2] No such file or directory: '/shared/CSHL_volumes/LM30/LM30_down32_annotationAsScoreVolume/score_volumes/LM30_down32_annotationAsScoreVolume_AP.bp'.\n"
     ]
    },
    {
     "name": "stdout",
     "output_type": "stream",
     "text": [
      "AP_surround_200\n",
      "rm -rf \"/shared/CSHL_volumes/LM30/LM30_down32_annotationAsScoreVolume/score_volumes/LM30_down32_annotationAsScoreVolume_AP_surround_200.bp\" && mkdir -p \"/shared/CSHL_volumes/LM30/LM30_down32_annotationAsScoreVolume/score_volumes\"\n",
      "aws s3 cp \"s3://mousebrainatlas-data/CSHL_volumes/LM30/LM30_down32_annotationAsScoreVolume/score_volumes/LM30_down32_annotationAsScoreVolume_AP_surround_200.bp\" \"/shared/CSHL_volumes/LM30/LM30_down32_annotationAsScoreVolume/score_volumes/LM30_down32_annotationAsScoreVolume_AP_surround_200.bp\"\n"
     ]
    },
    {
     "name": "stderr",
     "output_type": "stream",
     "text": [
      "File does not exist: /shared/CSHL_volumes/LM30/LM30_down32_annotationAsScoreVolume/score_volumes/LM30_down32_annotationAsScoreVolume_AP_surround_200.bp\n",
      "Error computing gradient for AP_surround_200: [Errno 2] No such file or directory: '/shared/CSHL_volumes/LM30/LM30_down32_annotationAsScoreVolume/score_volumes/LM30_down32_annotationAsScoreVolume_AP_surround_200.bp'.\n"
     ]
    },
    {
     "name": "stdout",
     "output_type": "stream",
     "text": [
      "Amb_L\n",
      "rm -rf \"/shared/CSHL_volumes/LM30/LM30_down32_annotationAsScoreVolume/score_volumes/LM30_down32_annotationAsScoreVolume_Amb_L.bp\" && mkdir -p \"/shared/CSHL_volumes/LM30/LM30_down32_annotationAsScoreVolume/score_volumes\"\n",
      "aws s3 cp \"s3://mousebrainatlas-data/CSHL_volumes/LM30/LM30_down32_annotationAsScoreVolume/score_volumes/LM30_down32_annotationAsScoreVolume_Amb_L.bp\" \"/shared/CSHL_volumes/LM30/LM30_down32_annotationAsScoreVolume/score_volumes/LM30_down32_annotationAsScoreVolume_Amb_L.bp\"\n"
     ]
    },
    {
     "name": "stderr",
     "output_type": "stream",
     "text": [
      "File does not exist: /shared/CSHL_volumes/LM30/LM30_down32_annotationAsScoreVolume/score_volumes/LM30_down32_annotationAsScoreVolume_Amb_L.bp\n",
      "Error computing gradient for Amb_L: [Errno 2] No such file or directory: '/shared/CSHL_volumes/LM30/LM30_down32_annotationAsScoreVolume/score_volumes/LM30_down32_annotationAsScoreVolume_Amb_L.bp'.\n"
     ]
    },
    {
     "name": "stdout",
     "output_type": "stream",
     "text": [
      "Amb_L_surround_200\n",
      "rm -rf \"/shared/CSHL_volumes/LM30/LM30_down32_annotationAsScoreVolume/score_volumes/LM30_down32_annotationAsScoreVolume_Amb_L_surround_200.bp\" && mkdir -p \"/shared/CSHL_volumes/LM30/LM30_down32_annotationAsScoreVolume/score_volumes\"\n",
      "aws s3 cp \"s3://mousebrainatlas-data/CSHL_volumes/LM30/LM30_down32_annotationAsScoreVolume/score_volumes/LM30_down32_annotationAsScoreVolume_Amb_L_surround_200.bp\" \"/shared/CSHL_volumes/LM30/LM30_down32_annotationAsScoreVolume/score_volumes/LM30_down32_annotationAsScoreVolume_Amb_L_surround_200.bp\"\n"
     ]
    },
    {
     "name": "stderr",
     "output_type": "stream",
     "text": [
      "File does not exist: /shared/CSHL_volumes/LM30/LM30_down32_annotationAsScoreVolume/score_volumes/LM30_down32_annotationAsScoreVolume_Amb_L_surround_200.bp\n",
      "Error computing gradient for Amb_L_surround_200: [Errno 2] No such file or directory: '/shared/CSHL_volumes/LM30/LM30_down32_annotationAsScoreVolume/score_volumes/LM30_down32_annotationAsScoreVolume_Amb_L_surround_200.bp'.\n"
     ]
    },
    {
     "name": "stdout",
     "output_type": "stream",
     "text": [
      "Amb_R\n",
      "rm -rf \"/shared/CSHL_volumes/LM30/LM30_down32_annotationAsScoreVolume/score_volumes/LM30_down32_annotationAsScoreVolume_Amb_R.bp\" && mkdir -p \"/shared/CSHL_volumes/LM30/LM30_down32_annotationAsScoreVolume/score_volumes\"\n",
      "aws s3 cp \"s3://mousebrainatlas-data/CSHL_volumes/LM30/LM30_down32_annotationAsScoreVolume/score_volumes/LM30_down32_annotationAsScoreVolume_Amb_R.bp\" \"/shared/CSHL_volumes/LM30/LM30_down32_annotationAsScoreVolume/score_volumes/LM30_down32_annotationAsScoreVolume_Amb_R.bp\"\n"
     ]
    },
    {
     "name": "stderr",
     "output_type": "stream",
     "text": [
      "File does not exist: /shared/CSHL_volumes/LM30/LM30_down32_annotationAsScoreVolume/score_volumes/LM30_down32_annotationAsScoreVolume_Amb_R.bp\n",
      "Error computing gradient for Amb_R: [Errno 2] No such file or directory: '/shared/CSHL_volumes/LM30/LM30_down32_annotationAsScoreVolume/score_volumes/LM30_down32_annotationAsScoreVolume_Amb_R.bp'.\n"
     ]
    },
    {
     "name": "stdout",
     "output_type": "stream",
     "text": [
      "Amb_R_surround_200\n",
      "rm -rf \"/shared/CSHL_volumes/LM30/LM30_down32_annotationAsScoreVolume/score_volumes/LM30_down32_annotationAsScoreVolume_Amb_R_surround_200.bp\" && mkdir -p \"/shared/CSHL_volumes/LM30/LM30_down32_annotationAsScoreVolume/score_volumes\"\n",
      "aws s3 cp \"s3://mousebrainatlas-data/CSHL_volumes/LM30/LM30_down32_annotationAsScoreVolume/score_volumes/LM30_down32_annotationAsScoreVolume_Amb_R_surround_200.bp\" \"/shared/CSHL_volumes/LM30/LM30_down32_annotationAsScoreVolume/score_volumes/LM30_down32_annotationAsScoreVolume_Amb_R_surround_200.bp\"\n"
     ]
    },
    {
     "name": "stderr",
     "output_type": "stream",
     "text": [
      "File does not exist: /shared/CSHL_volumes/LM30/LM30_down32_annotationAsScoreVolume/score_volumes/LM30_down32_annotationAsScoreVolume_Amb_R_surround_200.bp\n",
      "Error computing gradient for Amb_R_surround_200: [Errno 2] No such file or directory: '/shared/CSHL_volumes/LM30/LM30_down32_annotationAsScoreVolume/score_volumes/LM30_down32_annotationAsScoreVolume_Amb_R_surround_200.bp'.\n"
     ]
    },
    {
     "name": "stdout",
     "output_type": "stream",
     "text": [
      "DC_L\n",
      "rm -rf \"/shared/CSHL_volumes/LM30/LM30_down32_annotationAsScoreVolume/score_volumes/LM30_down32_annotationAsScoreVolume_DC_L.bp\" && mkdir -p \"/shared/CSHL_volumes/LM30/LM30_down32_annotationAsScoreVolume/score_volumes\"\n",
      "aws s3 cp \"s3://mousebrainatlas-data/CSHL_volumes/LM30/LM30_down32_annotationAsScoreVolume/score_volumes/LM30_down32_annotationAsScoreVolume_DC_L.bp\" \"/shared/CSHL_volumes/LM30/LM30_down32_annotationAsScoreVolume/score_volumes/LM30_down32_annotationAsScoreVolume_DC_L.bp\"\n"
     ]
    },
    {
     "name": "stderr",
     "output_type": "stream",
     "text": [
      "File does not exist: /shared/CSHL_volumes/LM30/LM30_down32_annotationAsScoreVolume/score_volumes/LM30_down32_annotationAsScoreVolume_DC_L.bp\n",
      "Error computing gradient for DC_L: [Errno 2] No such file or directory: '/shared/CSHL_volumes/LM30/LM30_down32_annotationAsScoreVolume/score_volumes/LM30_down32_annotationAsScoreVolume_DC_L.bp'.\n"
     ]
    },
    {
     "name": "stdout",
     "output_type": "stream",
     "text": [
      "DC_L_surround_200\n",
      "rm -rf \"/shared/CSHL_volumes/LM30/LM30_down32_annotationAsScoreVolume/score_volumes/LM30_down32_annotationAsScoreVolume_DC_L_surround_200.bp\" && mkdir -p \"/shared/CSHL_volumes/LM30/LM30_down32_annotationAsScoreVolume/score_volumes\"\n",
      "aws s3 cp \"s3://mousebrainatlas-data/CSHL_volumes/LM30/LM30_down32_annotationAsScoreVolume/score_volumes/LM30_down32_annotationAsScoreVolume_DC_L_surround_200.bp\" \"/shared/CSHL_volumes/LM30/LM30_down32_annotationAsScoreVolume/score_volumes/LM30_down32_annotationAsScoreVolume_DC_L_surround_200.bp\"\n"
     ]
    },
    {
     "name": "stderr",
     "output_type": "stream",
     "text": [
      "File does not exist: /shared/CSHL_volumes/LM30/LM30_down32_annotationAsScoreVolume/score_volumes/LM30_down32_annotationAsScoreVolume_DC_L_surround_200.bp\n",
      "Error computing gradient for DC_L_surround_200: [Errno 2] No such file or directory: '/shared/CSHL_volumes/LM30/LM30_down32_annotationAsScoreVolume/score_volumes/LM30_down32_annotationAsScoreVolume_DC_L_surround_200.bp'.\n"
     ]
    },
    {
     "name": "stdout",
     "output_type": "stream",
     "text": [
      "DC_R\n",
      "rm -rf \"/shared/CSHL_volumes/LM30/LM30_down32_annotationAsScoreVolume/score_volumes/LM30_down32_annotationAsScoreVolume_DC_R.bp\" && mkdir -p \"/shared/CSHL_volumes/LM30/LM30_down32_annotationAsScoreVolume/score_volumes\"\n",
      "aws s3 cp \"s3://mousebrainatlas-data/CSHL_volumes/LM30/LM30_down32_annotationAsScoreVolume/score_volumes/LM30_down32_annotationAsScoreVolume_DC_R.bp\" \"/shared/CSHL_volumes/LM30/LM30_down32_annotationAsScoreVolume/score_volumes/LM30_down32_annotationAsScoreVolume_DC_R.bp\"\n"
     ]
    },
    {
     "name": "stderr",
     "output_type": "stream",
     "text": [
      "File does not exist: /shared/CSHL_volumes/LM30/LM30_down32_annotationAsScoreVolume/score_volumes/LM30_down32_annotationAsScoreVolume_DC_R.bp\n",
      "Error computing gradient for DC_R: [Errno 2] No such file or directory: '/shared/CSHL_volumes/LM30/LM30_down32_annotationAsScoreVolume/score_volumes/LM30_down32_annotationAsScoreVolume_DC_R.bp'.\n"
     ]
    },
    {
     "name": "stdout",
     "output_type": "stream",
     "text": [
      "DC_R_surround_200\n",
      "rm -rf \"/shared/CSHL_volumes/LM30/LM30_down32_annotationAsScoreVolume/score_volumes/LM30_down32_annotationAsScoreVolume_DC_R_surround_200.bp\" && mkdir -p \"/shared/CSHL_volumes/LM30/LM30_down32_annotationAsScoreVolume/score_volumes\"\n",
      "aws s3 cp \"s3://mousebrainatlas-data/CSHL_volumes/LM30/LM30_down32_annotationAsScoreVolume/score_volumes/LM30_down32_annotationAsScoreVolume_DC_R_surround_200.bp\" \"/shared/CSHL_volumes/LM30/LM30_down32_annotationAsScoreVolume/score_volumes/LM30_down32_annotationAsScoreVolume_DC_R_surround_200.bp\"\n"
     ]
    },
    {
     "name": "stderr",
     "output_type": "stream",
     "text": [
      "File does not exist: /shared/CSHL_volumes/LM30/LM30_down32_annotationAsScoreVolume/score_volumes/LM30_down32_annotationAsScoreVolume_DC_R_surround_200.bp\n",
      "Error computing gradient for DC_R_surround_200: [Errno 2] No such file or directory: '/shared/CSHL_volumes/LM30/LM30_down32_annotationAsScoreVolume/score_volumes/LM30_down32_annotationAsScoreVolume_DC_R_surround_200.bp'.\n"
     ]
    },
    {
     "name": "stdout",
     "output_type": "stream",
     "text": [
      "IC\n",
      "rm -rf \"/shared/CSHL_volumes/LM30/LM30_down32_annotationAsScoreVolume/score_volumes/LM30_down32_annotationAsScoreVolume_IC.bp\" && mkdir -p \"/shared/CSHL_volumes/LM30/LM30_down32_annotationAsScoreVolume/score_volumes\"\n",
      "aws s3 cp \"s3://mousebrainatlas-data/CSHL_volumes/LM30/LM30_down32_annotationAsScoreVolume/score_volumes/LM30_down32_annotationAsScoreVolume_IC.bp\" \"/shared/CSHL_volumes/LM30/LM30_down32_annotationAsScoreVolume/score_volumes/LM30_down32_annotationAsScoreVolume_IC.bp\"\n"
     ]
    },
    {
     "name": "stderr",
     "output_type": "stream",
     "text": [
      "File does not exist: /shared/CSHL_volumes/LM30/LM30_down32_annotationAsScoreVolume/score_volumes/LM30_down32_annotationAsScoreVolume_IC.bp\n",
      "Error computing gradient for IC: [Errno 2] No such file or directory: '/shared/CSHL_volumes/LM30/LM30_down32_annotationAsScoreVolume/score_volumes/LM30_down32_annotationAsScoreVolume_IC.bp'.\n"
     ]
    },
    {
     "name": "stdout",
     "output_type": "stream",
     "text": [
      "IC_surround_200\n",
      "rm -rf \"/shared/CSHL_volumes/LM30/LM30_down32_annotationAsScoreVolume/score_volumes/LM30_down32_annotationAsScoreVolume_IC_surround_200.bp\" && mkdir -p \"/shared/CSHL_volumes/LM30/LM30_down32_annotationAsScoreVolume/score_volumes\"\n",
      "aws s3 cp \"s3://mousebrainatlas-data/CSHL_volumes/LM30/LM30_down32_annotationAsScoreVolume/score_volumes/LM30_down32_annotationAsScoreVolume_IC_surround_200.bp\" \"/shared/CSHL_volumes/LM30/LM30_down32_annotationAsScoreVolume/score_volumes/LM30_down32_annotationAsScoreVolume_IC_surround_200.bp\"\n"
     ]
    },
    {
     "name": "stderr",
     "output_type": "stream",
     "text": [
      "File does not exist: /shared/CSHL_volumes/LM30/LM30_down32_annotationAsScoreVolume/score_volumes/LM30_down32_annotationAsScoreVolume_IC_surround_200.bp\n",
      "Error computing gradient for IC_surround_200: [Errno 2] No such file or directory: '/shared/CSHL_volumes/LM30/LM30_down32_annotationAsScoreVolume/score_volumes/LM30_down32_annotationAsScoreVolume_IC_surround_200.bp'.\n"
     ]
    },
    {
     "name": "stdout",
     "output_type": "stream",
     "text": [
      "LC_L\n",
      "rm -rf \"/shared/CSHL_volumes/LM30/LM30_down32_annotationAsScoreVolume/score_volumes/LM30_down32_annotationAsScoreVolume_LC_L.bp\" && mkdir -p \"/shared/CSHL_volumes/LM30/LM30_down32_annotationAsScoreVolume/score_volumes\"\n",
      "aws s3 cp \"s3://mousebrainatlas-data/CSHL_volumes/LM30/LM30_down32_annotationAsScoreVolume/score_volumes/LM30_down32_annotationAsScoreVolume_LC_L.bp\" \"/shared/CSHL_volumes/LM30/LM30_down32_annotationAsScoreVolume/score_volumes/LM30_down32_annotationAsScoreVolume_LC_L.bp\"\n"
     ]
    },
    {
     "name": "stderr",
     "output_type": "stream",
     "text": [
      "File does not exist: /shared/CSHL_volumes/LM30/LM30_down32_annotationAsScoreVolume/score_volumes/LM30_down32_annotationAsScoreVolume_LC_L.bp\n",
      "Error computing gradient for LC_L: [Errno 2] No such file or directory: '/shared/CSHL_volumes/LM30/LM30_down32_annotationAsScoreVolume/score_volumes/LM30_down32_annotationAsScoreVolume_LC_L.bp'.\n"
     ]
    },
    {
     "name": "stdout",
     "output_type": "stream",
     "text": [
      "LC_L_surround_200\n",
      "rm -rf \"/shared/CSHL_volumes/LM30/LM30_down32_annotationAsScoreVolume/score_volumes/LM30_down32_annotationAsScoreVolume_LC_L_surround_200.bp\" && mkdir -p \"/shared/CSHL_volumes/LM30/LM30_down32_annotationAsScoreVolume/score_volumes\"\n",
      "aws s3 cp \"s3://mousebrainatlas-data/CSHL_volumes/LM30/LM30_down32_annotationAsScoreVolume/score_volumes/LM30_down32_annotationAsScoreVolume_LC_L_surround_200.bp\" \"/shared/CSHL_volumes/LM30/LM30_down32_annotationAsScoreVolume/score_volumes/LM30_down32_annotationAsScoreVolume_LC_L_surround_200.bp\"\n"
     ]
    },
    {
     "name": "stderr",
     "output_type": "stream",
     "text": [
      "File does not exist: /shared/CSHL_volumes/LM30/LM30_down32_annotationAsScoreVolume/score_volumes/LM30_down32_annotationAsScoreVolume_LC_L_surround_200.bp\n",
      "Error computing gradient for LC_L_surround_200: [Errno 2] No such file or directory: '/shared/CSHL_volumes/LM30/LM30_down32_annotationAsScoreVolume/score_volumes/LM30_down32_annotationAsScoreVolume_LC_L_surround_200.bp'.\n"
     ]
    },
    {
     "name": "stdout",
     "output_type": "stream",
     "text": [
      "LC_R\n",
      "rm -rf \"/shared/CSHL_volumes/LM30/LM30_down32_annotationAsScoreVolume/score_volumes/LM30_down32_annotationAsScoreVolume_LC_R.bp\" && mkdir -p \"/shared/CSHL_volumes/LM30/LM30_down32_annotationAsScoreVolume/score_volumes\"\n",
      "aws s3 cp \"s3://mousebrainatlas-data/CSHL_volumes/LM30/LM30_down32_annotationAsScoreVolume/score_volumes/LM30_down32_annotationAsScoreVolume_LC_R.bp\" \"/shared/CSHL_volumes/LM30/LM30_down32_annotationAsScoreVolume/score_volumes/LM30_down32_annotationAsScoreVolume_LC_R.bp\"\n"
     ]
    },
    {
     "name": "stderr",
     "output_type": "stream",
     "text": [
      "File does not exist: /shared/CSHL_volumes/LM30/LM30_down32_annotationAsScoreVolume/score_volumes/LM30_down32_annotationAsScoreVolume_LC_R.bp\n",
      "Error computing gradient for LC_R: [Errno 2] No such file or directory: '/shared/CSHL_volumes/LM30/LM30_down32_annotationAsScoreVolume/score_volumes/LM30_down32_annotationAsScoreVolume_LC_R.bp'.\n"
     ]
    },
    {
     "name": "stdout",
     "output_type": "stream",
     "text": [
      "LC_R_surround_200\n",
      "rm -rf \"/shared/CSHL_volumes/LM30/LM30_down32_annotationAsScoreVolume/score_volumes/LM30_down32_annotationAsScoreVolume_LC_R_surround_200.bp\" && mkdir -p \"/shared/CSHL_volumes/LM30/LM30_down32_annotationAsScoreVolume/score_volumes\"\n",
      "aws s3 cp \"s3://mousebrainatlas-data/CSHL_volumes/LM30/LM30_down32_annotationAsScoreVolume/score_volumes/LM30_down32_annotationAsScoreVolume_LC_R_surround_200.bp\" \"/shared/CSHL_volumes/LM30/LM30_down32_annotationAsScoreVolume/score_volumes/LM30_down32_annotationAsScoreVolume_LC_R_surround_200.bp\"\n"
     ]
    },
    {
     "name": "stderr",
     "output_type": "stream",
     "text": [
      "File does not exist: /shared/CSHL_volumes/LM30/LM30_down32_annotationAsScoreVolume/score_volumes/LM30_down32_annotationAsScoreVolume_LC_R_surround_200.bp\n",
      "Error computing gradient for LC_R_surround_200: [Errno 2] No such file or directory: '/shared/CSHL_volumes/LM30/LM30_down32_annotationAsScoreVolume/score_volumes/LM30_down32_annotationAsScoreVolume_LC_R_surround_200.bp'.\n"
     ]
    },
    {
     "name": "stdout",
     "output_type": "stream",
     "text": [
      "LRt_L\n",
      "rm -rf \"/shared/CSHL_volumes/LM30/LM30_down32_annotationAsScoreVolume/score_volumes/LM30_down32_annotationAsScoreVolume_LRt_L.bp\" && mkdir -p \"/shared/CSHL_volumes/LM30/LM30_down32_annotationAsScoreVolume/score_volumes\"\n",
      "aws s3 cp \"s3://mousebrainatlas-data/CSHL_volumes/LM30/LM30_down32_annotationAsScoreVolume/score_volumes/LM30_down32_annotationAsScoreVolume_LRt_L.bp\" \"/shared/CSHL_volumes/LM30/LM30_down32_annotationAsScoreVolume/score_volumes/LM30_down32_annotationAsScoreVolume_LRt_L.bp\"\n"
     ]
    },
    {
     "name": "stderr",
     "output_type": "stream",
     "text": [
      "File does not exist: /shared/CSHL_volumes/LM30/LM30_down32_annotationAsScoreVolume/score_volumes/LM30_down32_annotationAsScoreVolume_LRt_L.bp\n",
      "Error computing gradient for LRt_L: [Errno 2] No such file or directory: '/shared/CSHL_volumes/LM30/LM30_down32_annotationAsScoreVolume/score_volumes/LM30_down32_annotationAsScoreVolume_LRt_L.bp'.\n"
     ]
    },
    {
     "name": "stdout",
     "output_type": "stream",
     "text": [
      "LRt_L_surround_200\n",
      "rm -rf \"/shared/CSHL_volumes/LM30/LM30_down32_annotationAsScoreVolume/score_volumes/LM30_down32_annotationAsScoreVolume_LRt_L_surround_200.bp\" && mkdir -p \"/shared/CSHL_volumes/LM30/LM30_down32_annotationAsScoreVolume/score_volumes\"\n",
      "aws s3 cp \"s3://mousebrainatlas-data/CSHL_volumes/LM30/LM30_down32_annotationAsScoreVolume/score_volumes/LM30_down32_annotationAsScoreVolume_LRt_L_surround_200.bp\" \"/shared/CSHL_volumes/LM30/LM30_down32_annotationAsScoreVolume/score_volumes/LM30_down32_annotationAsScoreVolume_LRt_L_surround_200.bp\"\n"
     ]
    },
    {
     "name": "stderr",
     "output_type": "stream",
     "text": [
      "File does not exist: /shared/CSHL_volumes/LM30/LM30_down32_annotationAsScoreVolume/score_volumes/LM30_down32_annotationAsScoreVolume_LRt_L_surround_200.bp\n",
      "Error computing gradient for LRt_L_surround_200: [Errno 2] No such file or directory: '/shared/CSHL_volumes/LM30/LM30_down32_annotationAsScoreVolume/score_volumes/LM30_down32_annotationAsScoreVolume_LRt_L_surround_200.bp'.\n"
     ]
    },
    {
     "name": "stdout",
     "output_type": "stream",
     "text": [
      "LRt_R\n",
      "rm -rf \"/shared/CSHL_volumes/LM30/LM30_down32_annotationAsScoreVolume/score_volumes/LM30_down32_annotationAsScoreVolume_LRt_R.bp\" && mkdir -p \"/shared/CSHL_volumes/LM30/LM30_down32_annotationAsScoreVolume/score_volumes\"\n",
      "aws s3 cp \"s3://mousebrainatlas-data/CSHL_volumes/LM30/LM30_down32_annotationAsScoreVolume/score_volumes/LM30_down32_annotationAsScoreVolume_LRt_R.bp\" \"/shared/CSHL_volumes/LM30/LM30_down32_annotationAsScoreVolume/score_volumes/LM30_down32_annotationAsScoreVolume_LRt_R.bp\"\n"
     ]
    },
    {
     "name": "stderr",
     "output_type": "stream",
     "text": [
      "File does not exist: /shared/CSHL_volumes/LM30/LM30_down32_annotationAsScoreVolume/score_volumes/LM30_down32_annotationAsScoreVolume_LRt_R.bp\n",
      "Error computing gradient for LRt_R: [Errno 2] No such file or directory: '/shared/CSHL_volumes/LM30/LM30_down32_annotationAsScoreVolume/score_volumes/LM30_down32_annotationAsScoreVolume_LRt_R.bp'.\n"
     ]
    },
    {
     "name": "stdout",
     "output_type": "stream",
     "text": [
      "LRt_R_surround_200\n",
      "rm -rf \"/shared/CSHL_volumes/LM30/LM30_down32_annotationAsScoreVolume/score_volumes/LM30_down32_annotationAsScoreVolume_LRt_R_surround_200.bp\" && mkdir -p \"/shared/CSHL_volumes/LM30/LM30_down32_annotationAsScoreVolume/score_volumes\"\n",
      "aws s3 cp \"s3://mousebrainatlas-data/CSHL_volumes/LM30/LM30_down32_annotationAsScoreVolume/score_volumes/LM30_down32_annotationAsScoreVolume_LRt_R_surround_200.bp\" \"/shared/CSHL_volumes/LM30/LM30_down32_annotationAsScoreVolume/score_volumes/LM30_down32_annotationAsScoreVolume_LRt_R_surround_200.bp\"\n"
     ]
    },
    {
     "name": "stderr",
     "output_type": "stream",
     "text": [
      "File does not exist: /shared/CSHL_volumes/LM30/LM30_down32_annotationAsScoreVolume/score_volumes/LM30_down32_annotationAsScoreVolume_LRt_R_surround_200.bp\n",
      "Error computing gradient for LRt_R_surround_200: [Errno 2] No such file or directory: '/shared/CSHL_volumes/LM30/LM30_down32_annotationAsScoreVolume/score_volumes/LM30_down32_annotationAsScoreVolume_LRt_R_surround_200.bp'.\n"
     ]
    },
    {
     "name": "stdout",
     "output_type": "stream",
     "text": [
      "PBG_L\n",
      "rm -rf \"/shared/CSHL_volumes/LM30/LM30_down32_annotationAsScoreVolume/score_volumes/LM30_down32_annotationAsScoreVolume_PBG_L.bp\" && mkdir -p \"/shared/CSHL_volumes/LM30/LM30_down32_annotationAsScoreVolume/score_volumes\"\n",
      "aws s3 cp \"s3://mousebrainatlas-data/CSHL_volumes/LM30/LM30_down32_annotationAsScoreVolume/score_volumes/LM30_down32_annotationAsScoreVolume_PBG_L.bp\" \"/shared/CSHL_volumes/LM30/LM30_down32_annotationAsScoreVolume/score_volumes/LM30_down32_annotationAsScoreVolume_PBG_L.bp\"\n"
     ]
    },
    {
     "name": "stderr",
     "output_type": "stream",
     "text": [
      "File does not exist: /shared/CSHL_volumes/LM30/LM30_down32_annotationAsScoreVolume/score_volumes/LM30_down32_annotationAsScoreVolume_PBG_L.bp\n",
      "Error computing gradient for PBG_L: [Errno 2] No such file or directory: '/shared/CSHL_volumes/LM30/LM30_down32_annotationAsScoreVolume/score_volumes/LM30_down32_annotationAsScoreVolume_PBG_L.bp'.\n"
     ]
    },
    {
     "name": "stdout",
     "output_type": "stream",
     "text": [
      "PBG_L_surround_200\n",
      "rm -rf \"/shared/CSHL_volumes/LM30/LM30_down32_annotationAsScoreVolume/score_volumes/LM30_down32_annotationAsScoreVolume_PBG_L_surround_200.bp\" && mkdir -p \"/shared/CSHL_volumes/LM30/LM30_down32_annotationAsScoreVolume/score_volumes\"\n",
      "aws s3 cp \"s3://mousebrainatlas-data/CSHL_volumes/LM30/LM30_down32_annotationAsScoreVolume/score_volumes/LM30_down32_annotationAsScoreVolume_PBG_L_surround_200.bp\" \"/shared/CSHL_volumes/LM30/LM30_down32_annotationAsScoreVolume/score_volumes/LM30_down32_annotationAsScoreVolume_PBG_L_surround_200.bp\"\n"
     ]
    },
    {
     "name": "stderr",
     "output_type": "stream",
     "text": [
      "File does not exist: /shared/CSHL_volumes/LM30/LM30_down32_annotationAsScoreVolume/score_volumes/LM30_down32_annotationAsScoreVolume_PBG_L_surround_200.bp\n",
      "Error computing gradient for PBG_L_surround_200: [Errno 2] No such file or directory: '/shared/CSHL_volumes/LM30/LM30_down32_annotationAsScoreVolume/score_volumes/LM30_down32_annotationAsScoreVolume_PBG_L_surround_200.bp'.\n"
     ]
    },
    {
     "name": "stdout",
     "output_type": "stream",
     "text": [
      "PBG_R\n",
      "rm -rf \"/shared/CSHL_volumes/LM30/LM30_down32_annotationAsScoreVolume/score_volumes/LM30_down32_annotationAsScoreVolume_PBG_R.bp\" && mkdir -p \"/shared/CSHL_volumes/LM30/LM30_down32_annotationAsScoreVolume/score_volumes\"\n",
      "aws s3 cp \"s3://mousebrainatlas-data/CSHL_volumes/LM30/LM30_down32_annotationAsScoreVolume/score_volumes/LM30_down32_annotationAsScoreVolume_PBG_R.bp\" \"/shared/CSHL_volumes/LM30/LM30_down32_annotationAsScoreVolume/score_volumes/LM30_down32_annotationAsScoreVolume_PBG_R.bp\"\n"
     ]
    },
    {
     "name": "stderr",
     "output_type": "stream",
     "text": [
      "File does not exist: /shared/CSHL_volumes/LM30/LM30_down32_annotationAsScoreVolume/score_volumes/LM30_down32_annotationAsScoreVolume_PBG_R.bp\n",
      "Error computing gradient for PBG_R: [Errno 2] No such file or directory: '/shared/CSHL_volumes/LM30/LM30_down32_annotationAsScoreVolume/score_volumes/LM30_down32_annotationAsScoreVolume_PBG_R.bp'.\n"
     ]
    },
    {
     "name": "stdout",
     "output_type": "stream",
     "text": [
      "PBG_R_surround_200\n",
      "rm -rf \"/shared/CSHL_volumes/LM30/LM30_down32_annotationAsScoreVolume/score_volumes/LM30_down32_annotationAsScoreVolume_PBG_R_surround_200.bp\" && mkdir -p \"/shared/CSHL_volumes/LM30/LM30_down32_annotationAsScoreVolume/score_volumes\"\n",
      "aws s3 cp \"s3://mousebrainatlas-data/CSHL_volumes/LM30/LM30_down32_annotationAsScoreVolume/score_volumes/LM30_down32_annotationAsScoreVolume_PBG_R_surround_200.bp\" \"/shared/CSHL_volumes/LM30/LM30_down32_annotationAsScoreVolume/score_volumes/LM30_down32_annotationAsScoreVolume_PBG_R_surround_200.bp\"\n"
     ]
    },
    {
     "name": "stderr",
     "output_type": "stream",
     "text": [
      "File does not exist: /shared/CSHL_volumes/LM30/LM30_down32_annotationAsScoreVolume/score_volumes/LM30_down32_annotationAsScoreVolume_PBG_R_surround_200.bp\n",
      "Error computing gradient for PBG_R_surround_200: [Errno 2] No such file or directory: '/shared/CSHL_volumes/LM30/LM30_down32_annotationAsScoreVolume/score_volumes/LM30_down32_annotationAsScoreVolume_PBG_R_surround_200.bp'.\n"
     ]
    },
    {
     "name": "stdout",
     "output_type": "stream",
     "text": [
      "Pn_L\n",
      "rm -rf \"/shared/CSHL_volumes/LM30/LM30_down32_annotationAsScoreVolume/score_volumes/LM30_down32_annotationAsScoreVolume_Pn_L.bp\" && mkdir -p \"/shared/CSHL_volumes/LM30/LM30_down32_annotationAsScoreVolume/score_volumes\"\n",
      "aws s3 cp \"s3://mousebrainatlas-data/CSHL_volumes/LM30/LM30_down32_annotationAsScoreVolume/score_volumes/LM30_down32_annotationAsScoreVolume_Pn_L.bp\" \"/shared/CSHL_volumes/LM30/LM30_down32_annotationAsScoreVolume/score_volumes/LM30_down32_annotationAsScoreVolume_Pn_L.bp\"\n"
     ]
    },
    {
     "name": "stderr",
     "output_type": "stream",
     "text": [
      "File does not exist: /shared/CSHL_volumes/LM30/LM30_down32_annotationAsScoreVolume/score_volumes/LM30_down32_annotationAsScoreVolume_Pn_L.bp\n",
      "Error computing gradient for Pn_L: [Errno 2] No such file or directory: '/shared/CSHL_volumes/LM30/LM30_down32_annotationAsScoreVolume/score_volumes/LM30_down32_annotationAsScoreVolume_Pn_L.bp'.\n"
     ]
    },
    {
     "name": "stdout",
     "output_type": "stream",
     "text": [
      "Pn_L_surround_200\n",
      "rm -rf \"/shared/CSHL_volumes/LM30/LM30_down32_annotationAsScoreVolume/score_volumes/LM30_down32_annotationAsScoreVolume_Pn_L_surround_200.bp\" && mkdir -p \"/shared/CSHL_volumes/LM30/LM30_down32_annotationAsScoreVolume/score_volumes\"\n",
      "aws s3 cp \"s3://mousebrainatlas-data/CSHL_volumes/LM30/LM30_down32_annotationAsScoreVolume/score_volumes/LM30_down32_annotationAsScoreVolume_Pn_L_surround_200.bp\" \"/shared/CSHL_volumes/LM30/LM30_down32_annotationAsScoreVolume/score_volumes/LM30_down32_annotationAsScoreVolume_Pn_L_surround_200.bp\"\n"
     ]
    },
    {
     "name": "stderr",
     "output_type": "stream",
     "text": [
      "File does not exist: /shared/CSHL_volumes/LM30/LM30_down32_annotationAsScoreVolume/score_volumes/LM30_down32_annotationAsScoreVolume_Pn_L_surround_200.bp\n",
      "Error computing gradient for Pn_L_surround_200: [Errno 2] No such file or directory: '/shared/CSHL_volumes/LM30/LM30_down32_annotationAsScoreVolume/score_volumes/LM30_down32_annotationAsScoreVolume_Pn_L_surround_200.bp'.\n"
     ]
    },
    {
     "name": "stdout",
     "output_type": "stream",
     "text": [
      "Pn_R\n",
      "rm -rf \"/shared/CSHL_volumes/LM30/LM30_down32_annotationAsScoreVolume/score_volumes/LM30_down32_annotationAsScoreVolume_Pn_R.bp\" && mkdir -p \"/shared/CSHL_volumes/LM30/LM30_down32_annotationAsScoreVolume/score_volumes\"\n",
      "aws s3 cp \"s3://mousebrainatlas-data/CSHL_volumes/LM30/LM30_down32_annotationAsScoreVolume/score_volumes/LM30_down32_annotationAsScoreVolume_Pn_R.bp\" \"/shared/CSHL_volumes/LM30/LM30_down32_annotationAsScoreVolume/score_volumes/LM30_down32_annotationAsScoreVolume_Pn_R.bp\"\n"
     ]
    },
    {
     "name": "stderr",
     "output_type": "stream",
     "text": [
      "File does not exist: /shared/CSHL_volumes/LM30/LM30_down32_annotationAsScoreVolume/score_volumes/LM30_down32_annotationAsScoreVolume_Pn_R.bp\n",
      "Error computing gradient for Pn_R: [Errno 2] No such file or directory: '/shared/CSHL_volumes/LM30/LM30_down32_annotationAsScoreVolume/score_volumes/LM30_down32_annotationAsScoreVolume_Pn_R.bp'.\n"
     ]
    },
    {
     "name": "stdout",
     "output_type": "stream",
     "text": [
      "Pn_R_surround_200\n",
      "rm -rf \"/shared/CSHL_volumes/LM30/LM30_down32_annotationAsScoreVolume/score_volumes/LM30_down32_annotationAsScoreVolume_Pn_R_surround_200.bp\" && mkdir -p \"/shared/CSHL_volumes/LM30/LM30_down32_annotationAsScoreVolume/score_volumes\"\n",
      "aws s3 cp \"s3://mousebrainatlas-data/CSHL_volumes/LM30/LM30_down32_annotationAsScoreVolume/score_volumes/LM30_down32_annotationAsScoreVolume_Pn_R_surround_200.bp\" \"/shared/CSHL_volumes/LM30/LM30_down32_annotationAsScoreVolume/score_volumes/LM30_down32_annotationAsScoreVolume_Pn_R_surround_200.bp\"\n"
     ]
    },
    {
     "name": "stderr",
     "output_type": "stream",
     "text": [
      "File does not exist: /shared/CSHL_volumes/LM30/LM30_down32_annotationAsScoreVolume/score_volumes/LM30_down32_annotationAsScoreVolume_Pn_R_surround_200.bp\n",
      "Error computing gradient for Pn_R_surround_200: [Errno 2] No such file or directory: '/shared/CSHL_volumes/LM30/LM30_down32_annotationAsScoreVolume/score_volumes/LM30_down32_annotationAsScoreVolume_Pn_R_surround_200.bp'.\n",
      "Gradient RMC_L: 0.051585 seconds\n"
     ]
    },
    {
     "name": "stdout",
     "output_type": "stream",
     "text": [
      "RMC_L\n",
      "aws s3 cp \"/shared/CSHL_volumes/LM30/LM30_down32_annotationAsScoreVolume/score_volume_gradients/LM30_down32_annotationAsScoreVolume_RMC_L_gx.bp\" \"s3://mousebrainatlas-data/CSHL_volumes/LM30/LM30_down32_annotationAsScoreVolume/score_volume_gradients/LM30_down32_annotationAsScoreVolume_RMC_L_gx.bp\"\n",
      "aws s3 cp \"/shared/CSHL_volumes/LM30/LM30_down32_annotationAsScoreVolume/score_volume_gradients/LM30_down32_annotationAsScoreVolume_RMC_L_gy.bp\" \"s3://mousebrainatlas-data/CSHL_volumes/LM30/LM30_down32_annotationAsScoreVolume/score_volume_gradients/LM30_down32_annotationAsScoreVolume_RMC_L_gy.bp\"\n",
      "aws s3 cp \"/shared/CSHL_volumes/LM30/LM30_down32_annotationAsScoreVolume/score_volume_gradients/LM30_down32_annotationAsScoreVolume_RMC_L_gz.bp\" \"s3://mousebrainatlas-data/CSHL_volumes/LM30/LM30_down32_annotationAsScoreVolume/score_volume_gradients/LM30_down32_annotationAsScoreVolume_RMC_L_gz.bp\"\n"
     ]
    },
    {
     "name": "stderr",
     "output_type": "stream",
     "text": [
      "save RMC_L: 1.321934 seconds\n",
      "Gradient RMC_L_surround_200: 0.052174 seconds\n"
     ]
    },
    {
     "name": "stdout",
     "output_type": "stream",
     "text": [
      "RMC_L_surround_200\n",
      "aws s3 cp \"/shared/CSHL_volumes/LM30/LM30_down32_annotationAsScoreVolume/score_volume_gradients/LM30_down32_annotationAsScoreVolume_RMC_L_surround_200_gx.bp\" \"s3://mousebrainatlas-data/CSHL_volumes/LM30/LM30_down32_annotationAsScoreVolume/score_volume_gradients/LM30_down32_annotationAsScoreVolume_RMC_L_surround_200_gx.bp\"\n",
      "aws s3 cp \"/shared/CSHL_volumes/LM30/LM30_down32_annotationAsScoreVolume/score_volume_gradients/LM30_down32_annotationAsScoreVolume_RMC_L_surround_200_gy.bp\" \"s3://mousebrainatlas-data/CSHL_volumes/LM30/LM30_down32_annotationAsScoreVolume/score_volume_gradients/LM30_down32_annotationAsScoreVolume_RMC_L_surround_200_gy.bp\"\n",
      "aws s3 cp \"/shared/CSHL_volumes/LM30/LM30_down32_annotationAsScoreVolume/score_volume_gradients/LM30_down32_annotationAsScoreVolume_RMC_L_surround_200_gz.bp\" \"s3://mousebrainatlas-data/CSHL_volumes/LM30/LM30_down32_annotationAsScoreVolume/score_volume_gradients/LM30_down32_annotationAsScoreVolume_RMC_L_surround_200_gz.bp\"\n"
     ]
    },
    {
     "name": "stderr",
     "output_type": "stream",
     "text": [
      "save RMC_L_surround_200: 1.391554 seconds\n"
     ]
    },
    {
     "name": "stdout",
     "output_type": "stream",
     "text": [
      "RMC_R\n",
      "rm -rf \"/shared/CSHL_volumes/LM30/LM30_down32_annotationAsScoreVolume/score_volumes/LM30_down32_annotationAsScoreVolume_RMC_R.bp\" && mkdir -p \"/shared/CSHL_volumes/LM30/LM30_down32_annotationAsScoreVolume/score_volumes\"\n",
      "aws s3 cp \"s3://mousebrainatlas-data/CSHL_volumes/LM30/LM30_down32_annotationAsScoreVolume/score_volumes/LM30_down32_annotationAsScoreVolume_RMC_R.bp\" \"/shared/CSHL_volumes/LM30/LM30_down32_annotationAsScoreVolume/score_volumes/LM30_down32_annotationAsScoreVolume_RMC_R.bp\"\n"
     ]
    },
    {
     "name": "stderr",
     "output_type": "stream",
     "text": [
      "File does not exist: /shared/CSHL_volumes/LM30/LM30_down32_annotationAsScoreVolume/score_volumes/LM30_down32_annotationAsScoreVolume_RMC_R.bp\n",
      "Error computing gradient for RMC_R: [Errno 2] No such file or directory: '/shared/CSHL_volumes/LM30/LM30_down32_annotationAsScoreVolume/score_volumes/LM30_down32_annotationAsScoreVolume_RMC_R.bp'.\n"
     ]
    },
    {
     "name": "stdout",
     "output_type": "stream",
     "text": [
      "RMC_R_surround_200\n",
      "rm -rf \"/shared/CSHL_volumes/LM30/LM30_down32_annotationAsScoreVolume/score_volumes/LM30_down32_annotationAsScoreVolume_RMC_R_surround_200.bp\" && mkdir -p \"/shared/CSHL_volumes/LM30/LM30_down32_annotationAsScoreVolume/score_volumes\"\n",
      "aws s3 cp \"s3://mousebrainatlas-data/CSHL_volumes/LM30/LM30_down32_annotationAsScoreVolume/score_volumes/LM30_down32_annotationAsScoreVolume_RMC_R_surround_200.bp\" \"/shared/CSHL_volumes/LM30/LM30_down32_annotationAsScoreVolume/score_volumes/LM30_down32_annotationAsScoreVolume_RMC_R_surround_200.bp\"\n"
     ]
    },
    {
     "name": "stderr",
     "output_type": "stream",
     "text": [
      "File does not exist: /shared/CSHL_volumes/LM30/LM30_down32_annotationAsScoreVolume/score_volumes/LM30_down32_annotationAsScoreVolume_RMC_R_surround_200.bp\n",
      "Error computing gradient for RMC_R_surround_200: [Errno 2] No such file or directory: '/shared/CSHL_volumes/LM30/LM30_down32_annotationAsScoreVolume/score_volumes/LM30_down32_annotationAsScoreVolume_RMC_R_surround_200.bp'.\n"
     ]
    },
    {
     "name": "stdout",
     "output_type": "stream",
     "text": [
      "RtTg\n",
      "rm -rf \"/shared/CSHL_volumes/LM30/LM30_down32_annotationAsScoreVolume/score_volumes/LM30_down32_annotationAsScoreVolume_RtTg.bp\" && mkdir -p \"/shared/CSHL_volumes/LM30/LM30_down32_annotationAsScoreVolume/score_volumes\"\n",
      "aws s3 cp \"s3://mousebrainatlas-data/CSHL_volumes/LM30/LM30_down32_annotationAsScoreVolume/score_volumes/LM30_down32_annotationAsScoreVolume_RtTg.bp\" \"/shared/CSHL_volumes/LM30/LM30_down32_annotationAsScoreVolume/score_volumes/LM30_down32_annotationAsScoreVolume_RtTg.bp\"\n"
     ]
    },
    {
     "name": "stderr",
     "output_type": "stream",
     "text": [
      "File does not exist: /shared/CSHL_volumes/LM30/LM30_down32_annotationAsScoreVolume/score_volumes/LM30_down32_annotationAsScoreVolume_RtTg.bp\n",
      "Error computing gradient for RtTg: [Errno 2] No such file or directory: '/shared/CSHL_volumes/LM30/LM30_down32_annotationAsScoreVolume/score_volumes/LM30_down32_annotationAsScoreVolume_RtTg.bp'.\n"
     ]
    },
    {
     "name": "stdout",
     "output_type": "stream",
     "text": [
      "RtTg_surround_200\n",
      "rm -rf \"/shared/CSHL_volumes/LM30/LM30_down32_annotationAsScoreVolume/score_volumes/LM30_down32_annotationAsScoreVolume_RtTg_surround_200.bp\" && mkdir -p \"/shared/CSHL_volumes/LM30/LM30_down32_annotationAsScoreVolume/score_volumes\"\n",
      "aws s3 cp \"s3://mousebrainatlas-data/CSHL_volumes/LM30/LM30_down32_annotationAsScoreVolume/score_volumes/LM30_down32_annotationAsScoreVolume_RtTg_surround_200.bp\" \"/shared/CSHL_volumes/LM30/LM30_down32_annotationAsScoreVolume/score_volumes/LM30_down32_annotationAsScoreVolume_RtTg_surround_200.bp\"\n"
     ]
    },
    {
     "name": "stderr",
     "output_type": "stream",
     "text": [
      "File does not exist: /shared/CSHL_volumes/LM30/LM30_down32_annotationAsScoreVolume/score_volumes/LM30_down32_annotationAsScoreVolume_RtTg_surround_200.bp\n",
      "Error computing gradient for RtTg_surround_200: [Errno 2] No such file or directory: '/shared/CSHL_volumes/LM30/LM30_down32_annotationAsScoreVolume/score_volumes/LM30_down32_annotationAsScoreVolume_RtTg_surround_200.bp'.\n"
     ]
    },
    {
     "name": "stdout",
     "output_type": "stream",
     "text": [
      "SC\n",
      "rm -rf \"/shared/CSHL_volumes/LM30/LM30_down32_annotationAsScoreVolume/score_volumes/LM30_down32_annotationAsScoreVolume_SC.bp\" && mkdir -p \"/shared/CSHL_volumes/LM30/LM30_down32_annotationAsScoreVolume/score_volumes\"\n",
      "aws s3 cp \"s3://mousebrainatlas-data/CSHL_volumes/LM30/LM30_down32_annotationAsScoreVolume/score_volumes/LM30_down32_annotationAsScoreVolume_SC.bp\" \"/shared/CSHL_volumes/LM30/LM30_down32_annotationAsScoreVolume/score_volumes/LM30_down32_annotationAsScoreVolume_SC.bp\"\n"
     ]
    },
    {
     "name": "stderr",
     "output_type": "stream",
     "text": [
      "File does not exist: /shared/CSHL_volumes/LM30/LM30_down32_annotationAsScoreVolume/score_volumes/LM30_down32_annotationAsScoreVolume_SC.bp\n",
      "Error computing gradient for SC: [Errno 2] No such file or directory: '/shared/CSHL_volumes/LM30/LM30_down32_annotationAsScoreVolume/score_volumes/LM30_down32_annotationAsScoreVolume_SC.bp'.\n"
     ]
    },
    {
     "name": "stdout",
     "output_type": "stream",
     "text": [
      "SC_surround_200\n",
      "rm -rf \"/shared/CSHL_volumes/LM30/LM30_down32_annotationAsScoreVolume/score_volumes/LM30_down32_annotationAsScoreVolume_SC_surround_200.bp\" && mkdir -p \"/shared/CSHL_volumes/LM30/LM30_down32_annotationAsScoreVolume/score_volumes\"\n",
      "aws s3 cp \"s3://mousebrainatlas-data/CSHL_volumes/LM30/LM30_down32_annotationAsScoreVolume/score_volumes/LM30_down32_annotationAsScoreVolume_SC_surround_200.bp\" \"/shared/CSHL_volumes/LM30/LM30_down32_annotationAsScoreVolume/score_volumes/LM30_down32_annotationAsScoreVolume_SC_surround_200.bp\"\n"
     ]
    },
    {
     "name": "stderr",
     "output_type": "stream",
     "text": [
      "File does not exist: /shared/CSHL_volumes/LM30/LM30_down32_annotationAsScoreVolume/score_volumes/LM30_down32_annotationAsScoreVolume_SC_surround_200.bp\n",
      "Error computing gradient for SC_surround_200: [Errno 2] No such file or directory: '/shared/CSHL_volumes/LM30/LM30_down32_annotationAsScoreVolume/score_volumes/LM30_down32_annotationAsScoreVolume_SC_surround_200.bp'.\n"
     ]
    },
    {
     "name": "stdout",
     "output_type": "stream",
     "text": [
      "SNC_L\n",
      "rm -rf \"/shared/CSHL_volumes/LM30/LM30_down32_annotationAsScoreVolume/score_volumes/LM30_down32_annotationAsScoreVolume_SNC_L.bp\" && mkdir -p \"/shared/CSHL_volumes/LM30/LM30_down32_annotationAsScoreVolume/score_volumes\"\n",
      "aws s3 cp \"s3://mousebrainatlas-data/CSHL_volumes/LM30/LM30_down32_annotationAsScoreVolume/score_volumes/LM30_down32_annotationAsScoreVolume_SNC_L.bp\" \"/shared/CSHL_volumes/LM30/LM30_down32_annotationAsScoreVolume/score_volumes/LM30_down32_annotationAsScoreVolume_SNC_L.bp\"\n"
     ]
    },
    {
     "name": "stderr",
     "output_type": "stream",
     "text": [
      "File does not exist: /shared/CSHL_volumes/LM30/LM30_down32_annotationAsScoreVolume/score_volumes/LM30_down32_annotationAsScoreVolume_SNC_L.bp\n",
      "Error computing gradient for SNC_L: [Errno 2] No such file or directory: '/shared/CSHL_volumes/LM30/LM30_down32_annotationAsScoreVolume/score_volumes/LM30_down32_annotationAsScoreVolume_SNC_L.bp'.\n"
     ]
    },
    {
     "name": "stdout",
     "output_type": "stream",
     "text": [
      "SNC_L_surround_200\n",
      "rm -rf \"/shared/CSHL_volumes/LM30/LM30_down32_annotationAsScoreVolume/score_volumes/LM30_down32_annotationAsScoreVolume_SNC_L_surround_200.bp\" && mkdir -p \"/shared/CSHL_volumes/LM30/LM30_down32_annotationAsScoreVolume/score_volumes\"\n",
      "aws s3 cp \"s3://mousebrainatlas-data/CSHL_volumes/LM30/LM30_down32_annotationAsScoreVolume/score_volumes/LM30_down32_annotationAsScoreVolume_SNC_L_surround_200.bp\" \"/shared/CSHL_volumes/LM30/LM30_down32_annotationAsScoreVolume/score_volumes/LM30_down32_annotationAsScoreVolume_SNC_L_surround_200.bp\"\n"
     ]
    },
    {
     "name": "stderr",
     "output_type": "stream",
     "text": [
      "File does not exist: /shared/CSHL_volumes/LM30/LM30_down32_annotationAsScoreVolume/score_volumes/LM30_down32_annotationAsScoreVolume_SNC_L_surround_200.bp\n",
      "Error computing gradient for SNC_L_surround_200: [Errno 2] No such file or directory: '/shared/CSHL_volumes/LM30/LM30_down32_annotationAsScoreVolume/score_volumes/LM30_down32_annotationAsScoreVolume_SNC_L_surround_200.bp'.\n"
     ]
    },
    {
     "name": "stdout",
     "output_type": "stream",
     "text": [
      "SNC_R\n",
      "rm -rf \"/shared/CSHL_volumes/LM30/LM30_down32_annotationAsScoreVolume/score_volumes/LM30_down32_annotationAsScoreVolume_SNC_R.bp\" && mkdir -p \"/shared/CSHL_volumes/LM30/LM30_down32_annotationAsScoreVolume/score_volumes\"\n",
      "aws s3 cp \"s3://mousebrainatlas-data/CSHL_volumes/LM30/LM30_down32_annotationAsScoreVolume/score_volumes/LM30_down32_annotationAsScoreVolume_SNC_R.bp\" \"/shared/CSHL_volumes/LM30/LM30_down32_annotationAsScoreVolume/score_volumes/LM30_down32_annotationAsScoreVolume_SNC_R.bp\"\n"
     ]
    },
    {
     "name": "stderr",
     "output_type": "stream",
     "text": [
      "File does not exist: /shared/CSHL_volumes/LM30/LM30_down32_annotationAsScoreVolume/score_volumes/LM30_down32_annotationAsScoreVolume_SNC_R.bp\n",
      "Error computing gradient for SNC_R: [Errno 2] No such file or directory: '/shared/CSHL_volumes/LM30/LM30_down32_annotationAsScoreVolume/score_volumes/LM30_down32_annotationAsScoreVolume_SNC_R.bp'.\n"
     ]
    },
    {
     "name": "stdout",
     "output_type": "stream",
     "text": [
      "SNC_R_surround_200\n",
      "rm -rf \"/shared/CSHL_volumes/LM30/LM30_down32_annotationAsScoreVolume/score_volumes/LM30_down32_annotationAsScoreVolume_SNC_R_surround_200.bp\" && mkdir -p \"/shared/CSHL_volumes/LM30/LM30_down32_annotationAsScoreVolume/score_volumes\"\n",
      "aws s3 cp \"s3://mousebrainatlas-data/CSHL_volumes/LM30/LM30_down32_annotationAsScoreVolume/score_volumes/LM30_down32_annotationAsScoreVolume_SNC_R_surround_200.bp\" \"/shared/CSHL_volumes/LM30/LM30_down32_annotationAsScoreVolume/score_volumes/LM30_down32_annotationAsScoreVolume_SNC_R_surround_200.bp\"\n"
     ]
    },
    {
     "name": "stderr",
     "output_type": "stream",
     "text": [
      "File does not exist: /shared/CSHL_volumes/LM30/LM30_down32_annotationAsScoreVolume/score_volumes/LM30_down32_annotationAsScoreVolume_SNC_R_surround_200.bp\n",
      "Error computing gradient for SNC_R_surround_200: [Errno 2] No such file or directory: '/shared/CSHL_volumes/LM30/LM30_down32_annotationAsScoreVolume/score_volumes/LM30_down32_annotationAsScoreVolume_SNC_R_surround_200.bp'.\n",
      "Gradient SNR_L: 0.051620 seconds\n"
     ]
    },
    {
     "name": "stdout",
     "output_type": "stream",
     "text": [
      "SNR_L\n",
      "aws s3 cp \"/shared/CSHL_volumes/LM30/LM30_down32_annotationAsScoreVolume/score_volume_gradients/LM30_down32_annotationAsScoreVolume_SNR_L_gx.bp\" \"s3://mousebrainatlas-data/CSHL_volumes/LM30/LM30_down32_annotationAsScoreVolume/score_volume_gradients/LM30_down32_annotationAsScoreVolume_SNR_L_gx.bp\"\n",
      "aws s3 cp \"/shared/CSHL_volumes/LM30/LM30_down32_annotationAsScoreVolume/score_volume_gradients/LM30_down32_annotationAsScoreVolume_SNR_L_gy.bp\" \"s3://mousebrainatlas-data/CSHL_volumes/LM30/LM30_down32_annotationAsScoreVolume/score_volume_gradients/LM30_down32_annotationAsScoreVolume_SNR_L_gy.bp\"\n",
      "aws s3 cp \"/shared/CSHL_volumes/LM30/LM30_down32_annotationAsScoreVolume/score_volume_gradients/LM30_down32_annotationAsScoreVolume_SNR_L_gz.bp\" \"s3://mousebrainatlas-data/CSHL_volumes/LM30/LM30_down32_annotationAsScoreVolume/score_volume_gradients/LM30_down32_annotationAsScoreVolume_SNR_L_gz.bp\"\n"
     ]
    },
    {
     "name": "stderr",
     "output_type": "stream",
     "text": [
      "save SNR_L: 1.281315 seconds\n",
      "Gradient SNR_L_surround_200: 0.052328 seconds\n"
     ]
    },
    {
     "name": "stdout",
     "output_type": "stream",
     "text": [
      "SNR_L_surround_200\n",
      "aws s3 cp \"/shared/CSHL_volumes/LM30/LM30_down32_annotationAsScoreVolume/score_volume_gradients/LM30_down32_annotationAsScoreVolume_SNR_L_surround_200_gx.bp\" \"s3://mousebrainatlas-data/CSHL_volumes/LM30/LM30_down32_annotationAsScoreVolume/score_volume_gradients/LM30_down32_annotationAsScoreVolume_SNR_L_surround_200_gx.bp\"\n",
      "aws s3 cp \"/shared/CSHL_volumes/LM30/LM30_down32_annotationAsScoreVolume/score_volume_gradients/LM30_down32_annotationAsScoreVolume_SNR_L_surround_200_gy.bp\" \"s3://mousebrainatlas-data/CSHL_volumes/LM30/LM30_down32_annotationAsScoreVolume/score_volume_gradients/LM30_down32_annotationAsScoreVolume_SNR_L_surround_200_gy.bp\"\n",
      "aws s3 cp \"/shared/CSHL_volumes/LM30/LM30_down32_annotationAsScoreVolume/score_volume_gradients/LM30_down32_annotationAsScoreVolume_SNR_L_surround_200_gz.bp\" \"s3://mousebrainatlas-data/CSHL_volumes/LM30/LM30_down32_annotationAsScoreVolume/score_volume_gradients/LM30_down32_annotationAsScoreVolume_SNR_L_surround_200_gz.bp\"\n"
     ]
    },
    {
     "name": "stderr",
     "output_type": "stream",
     "text": [
      "save SNR_L_surround_200: 1.463727 seconds\n"
     ]
    },
    {
     "name": "stdout",
     "output_type": "stream",
     "text": [
      "SNR_R\n",
      "rm -rf \"/shared/CSHL_volumes/LM30/LM30_down32_annotationAsScoreVolume/score_volumes/LM30_down32_annotationAsScoreVolume_SNR_R.bp\" && mkdir -p \"/shared/CSHL_volumes/LM30/LM30_down32_annotationAsScoreVolume/score_volumes\"\n",
      "aws s3 cp \"s3://mousebrainatlas-data/CSHL_volumes/LM30/LM30_down32_annotationAsScoreVolume/score_volumes/LM30_down32_annotationAsScoreVolume_SNR_R.bp\" \"/shared/CSHL_volumes/LM30/LM30_down32_annotationAsScoreVolume/score_volumes/LM30_down32_annotationAsScoreVolume_SNR_R.bp\"\n"
     ]
    },
    {
     "name": "stderr",
     "output_type": "stream",
     "text": [
      "File does not exist: /shared/CSHL_volumes/LM30/LM30_down32_annotationAsScoreVolume/score_volumes/LM30_down32_annotationAsScoreVolume_SNR_R.bp\n",
      "Error computing gradient for SNR_R: [Errno 2] No such file or directory: '/shared/CSHL_volumes/LM30/LM30_down32_annotationAsScoreVolume/score_volumes/LM30_down32_annotationAsScoreVolume_SNR_R.bp'.\n"
     ]
    },
    {
     "name": "stdout",
     "output_type": "stream",
     "text": [
      "SNR_R_surround_200\n",
      "rm -rf \"/shared/CSHL_volumes/LM30/LM30_down32_annotationAsScoreVolume/score_volumes/LM30_down32_annotationAsScoreVolume_SNR_R_surround_200.bp\" && mkdir -p \"/shared/CSHL_volumes/LM30/LM30_down32_annotationAsScoreVolume/score_volumes\"\n",
      "aws s3 cp \"s3://mousebrainatlas-data/CSHL_volumes/LM30/LM30_down32_annotationAsScoreVolume/score_volumes/LM30_down32_annotationAsScoreVolume_SNR_R_surround_200.bp\" \"/shared/CSHL_volumes/LM30/LM30_down32_annotationAsScoreVolume/score_volumes/LM30_down32_annotationAsScoreVolume_SNR_R_surround_200.bp\"\n"
     ]
    },
    {
     "name": "stderr",
     "output_type": "stream",
     "text": [
      "File does not exist: /shared/CSHL_volumes/LM30/LM30_down32_annotationAsScoreVolume/score_volumes/LM30_down32_annotationAsScoreVolume_SNR_R_surround_200.bp\n",
      "Error computing gradient for SNR_R_surround_200: [Errno 2] No such file or directory: '/shared/CSHL_volumes/LM30/LM30_down32_annotationAsScoreVolume/score_volumes/LM30_down32_annotationAsScoreVolume_SNR_R_surround_200.bp'.\n"
     ]
    },
    {
     "name": "stdout",
     "output_type": "stream",
     "text": [
      "Sp5C_L\n",
      "rm -rf \"/shared/CSHL_volumes/LM30/LM30_down32_annotationAsScoreVolume/score_volumes/LM30_down32_annotationAsScoreVolume_Sp5C_L.bp\" && mkdir -p \"/shared/CSHL_volumes/LM30/LM30_down32_annotationAsScoreVolume/score_volumes\"\n",
      "aws s3 cp \"s3://mousebrainatlas-data/CSHL_volumes/LM30/LM30_down32_annotationAsScoreVolume/score_volumes/LM30_down32_annotationAsScoreVolume_Sp5C_L.bp\" \"/shared/CSHL_volumes/LM30/LM30_down32_annotationAsScoreVolume/score_volumes/LM30_down32_annotationAsScoreVolume_Sp5C_L.bp\"\n"
     ]
    },
    {
     "name": "stderr",
     "output_type": "stream",
     "text": [
      "File does not exist: /shared/CSHL_volumes/LM30/LM30_down32_annotationAsScoreVolume/score_volumes/LM30_down32_annotationAsScoreVolume_Sp5C_L.bp\n",
      "Error computing gradient for Sp5C_L: [Errno 2] No such file or directory: '/shared/CSHL_volumes/LM30/LM30_down32_annotationAsScoreVolume/score_volumes/LM30_down32_annotationAsScoreVolume_Sp5C_L.bp'.\n"
     ]
    },
    {
     "name": "stdout",
     "output_type": "stream",
     "text": [
      "Sp5C_L_surround_200\n",
      "rm -rf \"/shared/CSHL_volumes/LM30/LM30_down32_annotationAsScoreVolume/score_volumes/LM30_down32_annotationAsScoreVolume_Sp5C_L_surround_200.bp\" && mkdir -p \"/shared/CSHL_volumes/LM30/LM30_down32_annotationAsScoreVolume/score_volumes\"\n",
      "aws s3 cp \"s3://mousebrainatlas-data/CSHL_volumes/LM30/LM30_down32_annotationAsScoreVolume/score_volumes/LM30_down32_annotationAsScoreVolume_Sp5C_L_surround_200.bp\" \"/shared/CSHL_volumes/LM30/LM30_down32_annotationAsScoreVolume/score_volumes/LM30_down32_annotationAsScoreVolume_Sp5C_L_surround_200.bp\"\n"
     ]
    },
    {
     "name": "stderr",
     "output_type": "stream",
     "text": [
      "File does not exist: /shared/CSHL_volumes/LM30/LM30_down32_annotationAsScoreVolume/score_volumes/LM30_down32_annotationAsScoreVolume_Sp5C_L_surround_200.bp\n",
      "Error computing gradient for Sp5C_L_surround_200: [Errno 2] No such file or directory: '/shared/CSHL_volumes/LM30/LM30_down32_annotationAsScoreVolume/score_volumes/LM30_down32_annotationAsScoreVolume_Sp5C_L_surround_200.bp'.\n"
     ]
    },
    {
     "name": "stdout",
     "output_type": "stream",
     "text": [
      "Sp5C_R\n",
      "rm -rf \"/shared/CSHL_volumes/LM30/LM30_down32_annotationAsScoreVolume/score_volumes/LM30_down32_annotationAsScoreVolume_Sp5C_R.bp\" && mkdir -p \"/shared/CSHL_volumes/LM30/LM30_down32_annotationAsScoreVolume/score_volumes\"\n",
      "aws s3 cp \"s3://mousebrainatlas-data/CSHL_volumes/LM30/LM30_down32_annotationAsScoreVolume/score_volumes/LM30_down32_annotationAsScoreVolume_Sp5C_R.bp\" \"/shared/CSHL_volumes/LM30/LM30_down32_annotationAsScoreVolume/score_volumes/LM30_down32_annotationAsScoreVolume_Sp5C_R.bp\"\n"
     ]
    },
    {
     "name": "stderr",
     "output_type": "stream",
     "text": [
      "File does not exist: /shared/CSHL_volumes/LM30/LM30_down32_annotationAsScoreVolume/score_volumes/LM30_down32_annotationAsScoreVolume_Sp5C_R.bp\n",
      "Error computing gradient for Sp5C_R: [Errno 2] No such file or directory: '/shared/CSHL_volumes/LM30/LM30_down32_annotationAsScoreVolume/score_volumes/LM30_down32_annotationAsScoreVolume_Sp5C_R.bp'.\n"
     ]
    },
    {
     "name": "stdout",
     "output_type": "stream",
     "text": [
      "Sp5C_R_surround_200\n",
      "rm -rf \"/shared/CSHL_volumes/LM30/LM30_down32_annotationAsScoreVolume/score_volumes/LM30_down32_annotationAsScoreVolume_Sp5C_R_surround_200.bp\" && mkdir -p \"/shared/CSHL_volumes/LM30/LM30_down32_annotationAsScoreVolume/score_volumes\"\n",
      "aws s3 cp \"s3://mousebrainatlas-data/CSHL_volumes/LM30/LM30_down32_annotationAsScoreVolume/score_volumes/LM30_down32_annotationAsScoreVolume_Sp5C_R_surround_200.bp\" \"/shared/CSHL_volumes/LM30/LM30_down32_annotationAsScoreVolume/score_volumes/LM30_down32_annotationAsScoreVolume_Sp5C_R_surround_200.bp\"\n"
     ]
    },
    {
     "name": "stderr",
     "output_type": "stream",
     "text": [
      "File does not exist: /shared/CSHL_volumes/LM30/LM30_down32_annotationAsScoreVolume/score_volumes/LM30_down32_annotationAsScoreVolume_Sp5C_R_surround_200.bp\n",
      "Error computing gradient for Sp5C_R_surround_200: [Errno 2] No such file or directory: '/shared/CSHL_volumes/LM30/LM30_down32_annotationAsScoreVolume/score_volumes/LM30_down32_annotationAsScoreVolume_Sp5C_R_surround_200.bp'.\n"
     ]
    },
    {
     "name": "stdout",
     "output_type": "stream",
     "text": [
      "Sp5I_L\n",
      "rm -rf \"/shared/CSHL_volumes/LM30/LM30_down32_annotationAsScoreVolume/score_volumes/LM30_down32_annotationAsScoreVolume_Sp5I_L.bp\" && mkdir -p \"/shared/CSHL_volumes/LM30/LM30_down32_annotationAsScoreVolume/score_volumes\"\n",
      "aws s3 cp \"s3://mousebrainatlas-data/CSHL_volumes/LM30/LM30_down32_annotationAsScoreVolume/score_volumes/LM30_down32_annotationAsScoreVolume_Sp5I_L.bp\" \"/shared/CSHL_volumes/LM30/LM30_down32_annotationAsScoreVolume/score_volumes/LM30_down32_annotationAsScoreVolume_Sp5I_L.bp\"\n"
     ]
    },
    {
     "name": "stderr",
     "output_type": "stream",
     "text": [
      "File does not exist: /shared/CSHL_volumes/LM30/LM30_down32_annotationAsScoreVolume/score_volumes/LM30_down32_annotationAsScoreVolume_Sp5I_L.bp\n",
      "Error computing gradient for Sp5I_L: [Errno 2] No such file or directory: '/shared/CSHL_volumes/LM30/LM30_down32_annotationAsScoreVolume/score_volumes/LM30_down32_annotationAsScoreVolume_Sp5I_L.bp'.\n"
     ]
    },
    {
     "name": "stdout",
     "output_type": "stream",
     "text": [
      "Sp5I_L_surround_200\n",
      "rm -rf \"/shared/CSHL_volumes/LM30/LM30_down32_annotationAsScoreVolume/score_volumes/LM30_down32_annotationAsScoreVolume_Sp5I_L_surround_200.bp\" && mkdir -p \"/shared/CSHL_volumes/LM30/LM30_down32_annotationAsScoreVolume/score_volumes\"\n",
      "aws s3 cp \"s3://mousebrainatlas-data/CSHL_volumes/LM30/LM30_down32_annotationAsScoreVolume/score_volumes/LM30_down32_annotationAsScoreVolume_Sp5I_L_surround_200.bp\" \"/shared/CSHL_volumes/LM30/LM30_down32_annotationAsScoreVolume/score_volumes/LM30_down32_annotationAsScoreVolume_Sp5I_L_surround_200.bp\"\n"
     ]
    },
    {
     "name": "stderr",
     "output_type": "stream",
     "text": [
      "File does not exist: /shared/CSHL_volumes/LM30/LM30_down32_annotationAsScoreVolume/score_volumes/LM30_down32_annotationAsScoreVolume_Sp5I_L_surround_200.bp\n",
      "Error computing gradient for Sp5I_L_surround_200: [Errno 2] No such file or directory: '/shared/CSHL_volumes/LM30/LM30_down32_annotationAsScoreVolume/score_volumes/LM30_down32_annotationAsScoreVolume_Sp5I_L_surround_200.bp'.\n"
     ]
    },
    {
     "name": "stdout",
     "output_type": "stream",
     "text": [
      "Sp5I_R\n",
      "rm -rf \"/shared/CSHL_volumes/LM30/LM30_down32_annotationAsScoreVolume/score_volumes/LM30_down32_annotationAsScoreVolume_Sp5I_R.bp\" && mkdir -p \"/shared/CSHL_volumes/LM30/LM30_down32_annotationAsScoreVolume/score_volumes\"\n",
      "aws s3 cp \"s3://mousebrainatlas-data/CSHL_volumes/LM30/LM30_down32_annotationAsScoreVolume/score_volumes/LM30_down32_annotationAsScoreVolume_Sp5I_R.bp\" \"/shared/CSHL_volumes/LM30/LM30_down32_annotationAsScoreVolume/score_volumes/LM30_down32_annotationAsScoreVolume_Sp5I_R.bp\"\n"
     ]
    },
    {
     "name": "stderr",
     "output_type": "stream",
     "text": [
      "File does not exist: /shared/CSHL_volumes/LM30/LM30_down32_annotationAsScoreVolume/score_volumes/LM30_down32_annotationAsScoreVolume_Sp5I_R.bp\n",
      "Error computing gradient for Sp5I_R: [Errno 2] No such file or directory: '/shared/CSHL_volumes/LM30/LM30_down32_annotationAsScoreVolume/score_volumes/LM30_down32_annotationAsScoreVolume_Sp5I_R.bp'.\n"
     ]
    },
    {
     "name": "stdout",
     "output_type": "stream",
     "text": [
      "Sp5I_R_surround_200\n",
      "rm -rf \"/shared/CSHL_volumes/LM30/LM30_down32_annotationAsScoreVolume/score_volumes/LM30_down32_annotationAsScoreVolume_Sp5I_R_surround_200.bp\" && mkdir -p \"/shared/CSHL_volumes/LM30/LM30_down32_annotationAsScoreVolume/score_volumes\"\n",
      "aws s3 cp \"s3://mousebrainatlas-data/CSHL_volumes/LM30/LM30_down32_annotationAsScoreVolume/score_volumes/LM30_down32_annotationAsScoreVolume_Sp5I_R_surround_200.bp\" \"/shared/CSHL_volumes/LM30/LM30_down32_annotationAsScoreVolume/score_volumes/LM30_down32_annotationAsScoreVolume_Sp5I_R_surround_200.bp\"\n"
     ]
    },
    {
     "name": "stderr",
     "output_type": "stream",
     "text": [
      "File does not exist: /shared/CSHL_volumes/LM30/LM30_down32_annotationAsScoreVolume/score_volumes/LM30_down32_annotationAsScoreVolume_Sp5I_R_surround_200.bp\n",
      "Error computing gradient for Sp5I_R_surround_200: [Errno 2] No such file or directory: '/shared/CSHL_volumes/LM30/LM30_down32_annotationAsScoreVolume/score_volumes/LM30_down32_annotationAsScoreVolume_Sp5I_R_surround_200.bp'.\n"
     ]
    },
    {
     "name": "stdout",
     "output_type": "stream",
     "text": [
      "Sp5O_L\n",
      "rm -rf \"/shared/CSHL_volumes/LM30/LM30_down32_annotationAsScoreVolume/score_volumes/LM30_down32_annotationAsScoreVolume_Sp5O_L.bp\" && mkdir -p \"/shared/CSHL_volumes/LM30/LM30_down32_annotationAsScoreVolume/score_volumes\"\n",
      "aws s3 cp \"s3://mousebrainatlas-data/CSHL_volumes/LM30/LM30_down32_annotationAsScoreVolume/score_volumes/LM30_down32_annotationAsScoreVolume_Sp5O_L.bp\" \"/shared/CSHL_volumes/LM30/LM30_down32_annotationAsScoreVolume/score_volumes/LM30_down32_annotationAsScoreVolume_Sp5O_L.bp\"\n"
     ]
    },
    {
     "name": "stderr",
     "output_type": "stream",
     "text": [
      "File does not exist: /shared/CSHL_volumes/LM30/LM30_down32_annotationAsScoreVolume/score_volumes/LM30_down32_annotationAsScoreVolume_Sp5O_L.bp\n",
      "Error computing gradient for Sp5O_L: [Errno 2] No such file or directory: '/shared/CSHL_volumes/LM30/LM30_down32_annotationAsScoreVolume/score_volumes/LM30_down32_annotationAsScoreVolume_Sp5O_L.bp'.\n"
     ]
    },
    {
     "name": "stdout",
     "output_type": "stream",
     "text": [
      "Sp5O_L_surround_200\n",
      "rm -rf \"/shared/CSHL_volumes/LM30/LM30_down32_annotationAsScoreVolume/score_volumes/LM30_down32_annotationAsScoreVolume_Sp5O_L_surround_200.bp\" && mkdir -p \"/shared/CSHL_volumes/LM30/LM30_down32_annotationAsScoreVolume/score_volumes\"\n",
      "aws s3 cp \"s3://mousebrainatlas-data/CSHL_volumes/LM30/LM30_down32_annotationAsScoreVolume/score_volumes/LM30_down32_annotationAsScoreVolume_Sp5O_L_surround_200.bp\" \"/shared/CSHL_volumes/LM30/LM30_down32_annotationAsScoreVolume/score_volumes/LM30_down32_annotationAsScoreVolume_Sp5O_L_surround_200.bp\"\n"
     ]
    },
    {
     "name": "stderr",
     "output_type": "stream",
     "text": [
      "File does not exist: /shared/CSHL_volumes/LM30/LM30_down32_annotationAsScoreVolume/score_volumes/LM30_down32_annotationAsScoreVolume_Sp5O_L_surround_200.bp\n",
      "Error computing gradient for Sp5O_L_surround_200: [Errno 2] No such file or directory: '/shared/CSHL_volumes/LM30/LM30_down32_annotationAsScoreVolume/score_volumes/LM30_down32_annotationAsScoreVolume_Sp5O_L_surround_200.bp'.\n"
     ]
    },
    {
     "name": "stdout",
     "output_type": "stream",
     "text": [
      "Sp5O_R\n",
      "rm -rf \"/shared/CSHL_volumes/LM30/LM30_down32_annotationAsScoreVolume/score_volumes/LM30_down32_annotationAsScoreVolume_Sp5O_R.bp\" && mkdir -p \"/shared/CSHL_volumes/LM30/LM30_down32_annotationAsScoreVolume/score_volumes\"\n",
      "aws s3 cp \"s3://mousebrainatlas-data/CSHL_volumes/LM30/LM30_down32_annotationAsScoreVolume/score_volumes/LM30_down32_annotationAsScoreVolume_Sp5O_R.bp\" \"/shared/CSHL_volumes/LM30/LM30_down32_annotationAsScoreVolume/score_volumes/LM30_down32_annotationAsScoreVolume_Sp5O_R.bp\"\n"
     ]
    },
    {
     "name": "stderr",
     "output_type": "stream",
     "text": [
      "File does not exist: /shared/CSHL_volumes/LM30/LM30_down32_annotationAsScoreVolume/score_volumes/LM30_down32_annotationAsScoreVolume_Sp5O_R.bp\n",
      "Error computing gradient for Sp5O_R: [Errno 2] No such file or directory: '/shared/CSHL_volumes/LM30/LM30_down32_annotationAsScoreVolume/score_volumes/LM30_down32_annotationAsScoreVolume_Sp5O_R.bp'.\n"
     ]
    },
    {
     "name": "stdout",
     "output_type": "stream",
     "text": [
      "Sp5O_R_surround_200\n",
      "rm -rf \"/shared/CSHL_volumes/LM30/LM30_down32_annotationAsScoreVolume/score_volumes/LM30_down32_annotationAsScoreVolume_Sp5O_R_surround_200.bp\" && mkdir -p \"/shared/CSHL_volumes/LM30/LM30_down32_annotationAsScoreVolume/score_volumes\"\n",
      "aws s3 cp \"s3://mousebrainatlas-data/CSHL_volumes/LM30/LM30_down32_annotationAsScoreVolume/score_volumes/LM30_down32_annotationAsScoreVolume_Sp5O_R_surround_200.bp\" \"/shared/CSHL_volumes/LM30/LM30_down32_annotationAsScoreVolume/score_volumes/LM30_down32_annotationAsScoreVolume_Sp5O_R_surround_200.bp\"\n"
     ]
    },
    {
     "name": "stderr",
     "output_type": "stream",
     "text": [
      "File does not exist: /shared/CSHL_volumes/LM30/LM30_down32_annotationAsScoreVolume/score_volumes/LM30_down32_annotationAsScoreVolume_Sp5O_R_surround_200.bp\n",
      "Error computing gradient for Sp5O_R_surround_200: [Errno 2] No such file or directory: '/shared/CSHL_volumes/LM30/LM30_down32_annotationAsScoreVolume/score_volumes/LM30_down32_annotationAsScoreVolume_Sp5O_R_surround_200.bp'.\n"
     ]
    },
    {
     "name": "stdout",
     "output_type": "stream",
     "text": [
      "Tz_L\n",
      "rm -rf \"/shared/CSHL_volumes/LM30/LM30_down32_annotationAsScoreVolume/score_volumes/LM30_down32_annotationAsScoreVolume_Tz_L.bp\" && mkdir -p \"/shared/CSHL_volumes/LM30/LM30_down32_annotationAsScoreVolume/score_volumes\"\n",
      "aws s3 cp \"s3://mousebrainatlas-data/CSHL_volumes/LM30/LM30_down32_annotationAsScoreVolume/score_volumes/LM30_down32_annotationAsScoreVolume_Tz_L.bp\" \"/shared/CSHL_volumes/LM30/LM30_down32_annotationAsScoreVolume/score_volumes/LM30_down32_annotationAsScoreVolume_Tz_L.bp\"\n"
     ]
    },
    {
     "name": "stderr",
     "output_type": "stream",
     "text": [
      "File does not exist: /shared/CSHL_volumes/LM30/LM30_down32_annotationAsScoreVolume/score_volumes/LM30_down32_annotationAsScoreVolume_Tz_L.bp\n",
      "Error computing gradient for Tz_L: [Errno 2] No such file or directory: '/shared/CSHL_volumes/LM30/LM30_down32_annotationAsScoreVolume/score_volumes/LM30_down32_annotationAsScoreVolume_Tz_L.bp'.\n"
     ]
    },
    {
     "name": "stdout",
     "output_type": "stream",
     "text": [
      "Tz_L_surround_200\n",
      "rm -rf \"/shared/CSHL_volumes/LM30/LM30_down32_annotationAsScoreVolume/score_volumes/LM30_down32_annotationAsScoreVolume_Tz_L_surround_200.bp\" && mkdir -p \"/shared/CSHL_volumes/LM30/LM30_down32_annotationAsScoreVolume/score_volumes\"\n",
      "aws s3 cp \"s3://mousebrainatlas-data/CSHL_volumes/LM30/LM30_down32_annotationAsScoreVolume/score_volumes/LM30_down32_annotationAsScoreVolume_Tz_L_surround_200.bp\" \"/shared/CSHL_volumes/LM30/LM30_down32_annotationAsScoreVolume/score_volumes/LM30_down32_annotationAsScoreVolume_Tz_L_surround_200.bp\"\n"
     ]
    },
    {
     "name": "stderr",
     "output_type": "stream",
     "text": [
      "File does not exist: /shared/CSHL_volumes/LM30/LM30_down32_annotationAsScoreVolume/score_volumes/LM30_down32_annotationAsScoreVolume_Tz_L_surround_200.bp\n",
      "Error computing gradient for Tz_L_surround_200: [Errno 2] No such file or directory: '/shared/CSHL_volumes/LM30/LM30_down32_annotationAsScoreVolume/score_volumes/LM30_down32_annotationAsScoreVolume_Tz_L_surround_200.bp'.\n"
     ]
    },
    {
     "name": "stdout",
     "output_type": "stream",
     "text": [
      "Tz_R\n",
      "rm -rf \"/shared/CSHL_volumes/LM30/LM30_down32_annotationAsScoreVolume/score_volumes/LM30_down32_annotationAsScoreVolume_Tz_R.bp\" && mkdir -p \"/shared/CSHL_volumes/LM30/LM30_down32_annotationAsScoreVolume/score_volumes\"\n",
      "aws s3 cp \"s3://mousebrainatlas-data/CSHL_volumes/LM30/LM30_down32_annotationAsScoreVolume/score_volumes/LM30_down32_annotationAsScoreVolume_Tz_R.bp\" \"/shared/CSHL_volumes/LM30/LM30_down32_annotationAsScoreVolume/score_volumes/LM30_down32_annotationAsScoreVolume_Tz_R.bp\"\n"
     ]
    },
    {
     "name": "stderr",
     "output_type": "stream",
     "text": [
      "File does not exist: /shared/CSHL_volumes/LM30/LM30_down32_annotationAsScoreVolume/score_volumes/LM30_down32_annotationAsScoreVolume_Tz_R.bp\n",
      "Error computing gradient for Tz_R: [Errno 2] No such file or directory: '/shared/CSHL_volumes/LM30/LM30_down32_annotationAsScoreVolume/score_volumes/LM30_down32_annotationAsScoreVolume_Tz_R.bp'.\n"
     ]
    },
    {
     "name": "stdout",
     "output_type": "stream",
     "text": [
      "Tz_R_surround_200\n",
      "rm -rf \"/shared/CSHL_volumes/LM30/LM30_down32_annotationAsScoreVolume/score_volumes/LM30_down32_annotationAsScoreVolume_Tz_R_surround_200.bp\" && mkdir -p \"/shared/CSHL_volumes/LM30/LM30_down32_annotationAsScoreVolume/score_volumes\"\n",
      "aws s3 cp \"s3://mousebrainatlas-data/CSHL_volumes/LM30/LM30_down32_annotationAsScoreVolume/score_volumes/LM30_down32_annotationAsScoreVolume_Tz_R_surround_200.bp\" \"/shared/CSHL_volumes/LM30/LM30_down32_annotationAsScoreVolume/score_volumes/LM30_down32_annotationAsScoreVolume_Tz_R_surround_200.bp\"\n"
     ]
    },
    {
     "name": "stderr",
     "output_type": "stream",
     "text": [
      "File does not exist: /shared/CSHL_volumes/LM30/LM30_down32_annotationAsScoreVolume/score_volumes/LM30_down32_annotationAsScoreVolume_Tz_R_surround_200.bp\n",
      "Error computing gradient for Tz_R_surround_200: [Errno 2] No such file or directory: '/shared/CSHL_volumes/LM30/LM30_down32_annotationAsScoreVolume/score_volumes/LM30_down32_annotationAsScoreVolume_Tz_R_surround_200.bp'.\n"
     ]
    },
    {
     "name": "stdout",
     "output_type": "stream",
     "text": [
      "VCA_L\n",
      "rm -rf \"/shared/CSHL_volumes/LM30/LM30_down32_annotationAsScoreVolume/score_volumes/LM30_down32_annotationAsScoreVolume_VCA_L.bp\" && mkdir -p \"/shared/CSHL_volumes/LM30/LM30_down32_annotationAsScoreVolume/score_volumes\"\n",
      "aws s3 cp \"s3://mousebrainatlas-data/CSHL_volumes/LM30/LM30_down32_annotationAsScoreVolume/score_volumes/LM30_down32_annotationAsScoreVolume_VCA_L.bp\" \"/shared/CSHL_volumes/LM30/LM30_down32_annotationAsScoreVolume/score_volumes/LM30_down32_annotationAsScoreVolume_VCA_L.bp\"\n"
     ]
    },
    {
     "name": "stderr",
     "output_type": "stream",
     "text": [
      "File does not exist: /shared/CSHL_volumes/LM30/LM30_down32_annotationAsScoreVolume/score_volumes/LM30_down32_annotationAsScoreVolume_VCA_L.bp\n",
      "Error computing gradient for VCA_L: [Errno 2] No such file or directory: '/shared/CSHL_volumes/LM30/LM30_down32_annotationAsScoreVolume/score_volumes/LM30_down32_annotationAsScoreVolume_VCA_L.bp'.\n"
     ]
    },
    {
     "name": "stdout",
     "output_type": "stream",
     "text": [
      "VCA_L_surround_200\n",
      "rm -rf \"/shared/CSHL_volumes/LM30/LM30_down32_annotationAsScoreVolume/score_volumes/LM30_down32_annotationAsScoreVolume_VCA_L_surround_200.bp\" && mkdir -p \"/shared/CSHL_volumes/LM30/LM30_down32_annotationAsScoreVolume/score_volumes\"\n",
      "aws s3 cp \"s3://mousebrainatlas-data/CSHL_volumes/LM30/LM30_down32_annotationAsScoreVolume/score_volumes/LM30_down32_annotationAsScoreVolume_VCA_L_surround_200.bp\" \"/shared/CSHL_volumes/LM30/LM30_down32_annotationAsScoreVolume/score_volumes/LM30_down32_annotationAsScoreVolume_VCA_L_surround_200.bp\"\n"
     ]
    },
    {
     "name": "stderr",
     "output_type": "stream",
     "text": [
      "File does not exist: /shared/CSHL_volumes/LM30/LM30_down32_annotationAsScoreVolume/score_volumes/LM30_down32_annotationAsScoreVolume_VCA_L_surround_200.bp\n",
      "Error computing gradient for VCA_L_surround_200: [Errno 2] No such file or directory: '/shared/CSHL_volumes/LM30/LM30_down32_annotationAsScoreVolume/score_volumes/LM30_down32_annotationAsScoreVolume_VCA_L_surround_200.bp'.\n"
     ]
    },
    {
     "name": "stdout",
     "output_type": "stream",
     "text": [
      "VCA_R\n",
      "rm -rf \"/shared/CSHL_volumes/LM30/LM30_down32_annotationAsScoreVolume/score_volumes/LM30_down32_annotationAsScoreVolume_VCA_R.bp\" && mkdir -p \"/shared/CSHL_volumes/LM30/LM30_down32_annotationAsScoreVolume/score_volumes\"\n",
      "aws s3 cp \"s3://mousebrainatlas-data/CSHL_volumes/LM30/LM30_down32_annotationAsScoreVolume/score_volumes/LM30_down32_annotationAsScoreVolume_VCA_R.bp\" \"/shared/CSHL_volumes/LM30/LM30_down32_annotationAsScoreVolume/score_volumes/LM30_down32_annotationAsScoreVolume_VCA_R.bp\"\n"
     ]
    },
    {
     "name": "stderr",
     "output_type": "stream",
     "text": [
      "File does not exist: /shared/CSHL_volumes/LM30/LM30_down32_annotationAsScoreVolume/score_volumes/LM30_down32_annotationAsScoreVolume_VCA_R.bp\n",
      "Error computing gradient for VCA_R: [Errno 2] No such file or directory: '/shared/CSHL_volumes/LM30/LM30_down32_annotationAsScoreVolume/score_volumes/LM30_down32_annotationAsScoreVolume_VCA_R.bp'.\n"
     ]
    },
    {
     "name": "stdout",
     "output_type": "stream",
     "text": [
      "VCA_R_surround_200\n",
      "rm -rf \"/shared/CSHL_volumes/LM30/LM30_down32_annotationAsScoreVolume/score_volumes/LM30_down32_annotationAsScoreVolume_VCA_R_surround_200.bp\" && mkdir -p \"/shared/CSHL_volumes/LM30/LM30_down32_annotationAsScoreVolume/score_volumes\"\n",
      "aws s3 cp \"s3://mousebrainatlas-data/CSHL_volumes/LM30/LM30_down32_annotationAsScoreVolume/score_volumes/LM30_down32_annotationAsScoreVolume_VCA_R_surround_200.bp\" \"/shared/CSHL_volumes/LM30/LM30_down32_annotationAsScoreVolume/score_volumes/LM30_down32_annotationAsScoreVolume_VCA_R_surround_200.bp\"\n"
     ]
    },
    {
     "name": "stderr",
     "output_type": "stream",
     "text": [
      "File does not exist: /shared/CSHL_volumes/LM30/LM30_down32_annotationAsScoreVolume/score_volumes/LM30_down32_annotationAsScoreVolume_VCA_R_surround_200.bp\n",
      "Error computing gradient for VCA_R_surround_200: [Errno 2] No such file or directory: '/shared/CSHL_volumes/LM30/LM30_down32_annotationAsScoreVolume/score_volumes/LM30_down32_annotationAsScoreVolume_VCA_R_surround_200.bp'.\n"
     ]
    },
    {
     "name": "stdout",
     "output_type": "stream",
     "text": [
      "VCP_L\n",
      "rm -rf \"/shared/CSHL_volumes/LM30/LM30_down32_annotationAsScoreVolume/score_volumes/LM30_down32_annotationAsScoreVolume_VCP_L.bp\" && mkdir -p \"/shared/CSHL_volumes/LM30/LM30_down32_annotationAsScoreVolume/score_volumes\"\n",
      "aws s3 cp \"s3://mousebrainatlas-data/CSHL_volumes/LM30/LM30_down32_annotationAsScoreVolume/score_volumes/LM30_down32_annotationAsScoreVolume_VCP_L.bp\" \"/shared/CSHL_volumes/LM30/LM30_down32_annotationAsScoreVolume/score_volumes/LM30_down32_annotationAsScoreVolume_VCP_L.bp\"\n"
     ]
    },
    {
     "name": "stderr",
     "output_type": "stream",
     "text": [
      "File does not exist: /shared/CSHL_volumes/LM30/LM30_down32_annotationAsScoreVolume/score_volumes/LM30_down32_annotationAsScoreVolume_VCP_L.bp\n",
      "Error computing gradient for VCP_L: [Errno 2] No such file or directory: '/shared/CSHL_volumes/LM30/LM30_down32_annotationAsScoreVolume/score_volumes/LM30_down32_annotationAsScoreVolume_VCP_L.bp'.\n"
     ]
    },
    {
     "name": "stdout",
     "output_type": "stream",
     "text": [
      "VCP_L_surround_200\n",
      "rm -rf \"/shared/CSHL_volumes/LM30/LM30_down32_annotationAsScoreVolume/score_volumes/LM30_down32_annotationAsScoreVolume_VCP_L_surround_200.bp\" && mkdir -p \"/shared/CSHL_volumes/LM30/LM30_down32_annotationAsScoreVolume/score_volumes\"\n",
      "aws s3 cp \"s3://mousebrainatlas-data/CSHL_volumes/LM30/LM30_down32_annotationAsScoreVolume/score_volumes/LM30_down32_annotationAsScoreVolume_VCP_L_surround_200.bp\" \"/shared/CSHL_volumes/LM30/LM30_down32_annotationAsScoreVolume/score_volumes/LM30_down32_annotationAsScoreVolume_VCP_L_surround_200.bp\"\n"
     ]
    },
    {
     "name": "stderr",
     "output_type": "stream",
     "text": [
      "File does not exist: /shared/CSHL_volumes/LM30/LM30_down32_annotationAsScoreVolume/score_volumes/LM30_down32_annotationAsScoreVolume_VCP_L_surround_200.bp\n",
      "Error computing gradient for VCP_L_surround_200: [Errno 2] No such file or directory: '/shared/CSHL_volumes/LM30/LM30_down32_annotationAsScoreVolume/score_volumes/LM30_down32_annotationAsScoreVolume_VCP_L_surround_200.bp'.\n"
     ]
    },
    {
     "name": "stdout",
     "output_type": "stream",
     "text": [
      "VCP_R\n",
      "rm -rf \"/shared/CSHL_volumes/LM30/LM30_down32_annotationAsScoreVolume/score_volumes/LM30_down32_annotationAsScoreVolume_VCP_R.bp\" && mkdir -p \"/shared/CSHL_volumes/LM30/LM30_down32_annotationAsScoreVolume/score_volumes\"\n",
      "aws s3 cp \"s3://mousebrainatlas-data/CSHL_volumes/LM30/LM30_down32_annotationAsScoreVolume/score_volumes/LM30_down32_annotationAsScoreVolume_VCP_R.bp\" \"/shared/CSHL_volumes/LM30/LM30_down32_annotationAsScoreVolume/score_volumes/LM30_down32_annotationAsScoreVolume_VCP_R.bp\"\n"
     ]
    },
    {
     "name": "stderr",
     "output_type": "stream",
     "text": [
      "File does not exist: /shared/CSHL_volumes/LM30/LM30_down32_annotationAsScoreVolume/score_volumes/LM30_down32_annotationAsScoreVolume_VCP_R.bp\n",
      "Error computing gradient for VCP_R: [Errno 2] No such file or directory: '/shared/CSHL_volumes/LM30/LM30_down32_annotationAsScoreVolume/score_volumes/LM30_down32_annotationAsScoreVolume_VCP_R.bp'.\n"
     ]
    },
    {
     "name": "stdout",
     "output_type": "stream",
     "text": [
      "VCP_R_surround_200\n",
      "rm -rf \"/shared/CSHL_volumes/LM30/LM30_down32_annotationAsScoreVolume/score_volumes/LM30_down32_annotationAsScoreVolume_VCP_R_surround_200.bp\" && mkdir -p \"/shared/CSHL_volumes/LM30/LM30_down32_annotationAsScoreVolume/score_volumes\"\n",
      "aws s3 cp \"s3://mousebrainatlas-data/CSHL_volumes/LM30/LM30_down32_annotationAsScoreVolume/score_volumes/LM30_down32_annotationAsScoreVolume_VCP_R_surround_200.bp\" \"/shared/CSHL_volumes/LM30/LM30_down32_annotationAsScoreVolume/score_volumes/LM30_down32_annotationAsScoreVolume_VCP_R_surround_200.bp\"\n"
     ]
    },
    {
     "name": "stderr",
     "output_type": "stream",
     "text": [
      "File does not exist: /shared/CSHL_volumes/LM30/LM30_down32_annotationAsScoreVolume/score_volumes/LM30_down32_annotationAsScoreVolume_VCP_R_surround_200.bp\n",
      "Error computing gradient for VCP_R_surround_200: [Errno 2] No such file or directory: '/shared/CSHL_volumes/LM30/LM30_down32_annotationAsScoreVolume/score_volumes/LM30_down32_annotationAsScoreVolume_VCP_R_surround_200.bp'.\n"
     ]
    },
    {
     "name": "stdout",
     "output_type": "stream",
     "text": [
      "VLL_L\n",
      "rm -rf \"/shared/CSHL_volumes/LM30/LM30_down32_annotationAsScoreVolume/score_volumes/LM30_down32_annotationAsScoreVolume_VLL_L.bp\" && mkdir -p \"/shared/CSHL_volumes/LM30/LM30_down32_annotationAsScoreVolume/score_volumes\"\n",
      "aws s3 cp \"s3://mousebrainatlas-data/CSHL_volumes/LM30/LM30_down32_annotationAsScoreVolume/score_volumes/LM30_down32_annotationAsScoreVolume_VLL_L.bp\" \"/shared/CSHL_volumes/LM30/LM30_down32_annotationAsScoreVolume/score_volumes/LM30_down32_annotationAsScoreVolume_VLL_L.bp\"\n"
     ]
    },
    {
     "name": "stderr",
     "output_type": "stream",
     "text": [
      "File does not exist: /shared/CSHL_volumes/LM30/LM30_down32_annotationAsScoreVolume/score_volumes/LM30_down32_annotationAsScoreVolume_VLL_L.bp\n",
      "Error computing gradient for VLL_L: [Errno 2] No such file or directory: '/shared/CSHL_volumes/LM30/LM30_down32_annotationAsScoreVolume/score_volumes/LM30_down32_annotationAsScoreVolume_VLL_L.bp'.\n"
     ]
    },
    {
     "name": "stdout",
     "output_type": "stream",
     "text": [
      "VLL_L_surround_200\n",
      "rm -rf \"/shared/CSHL_volumes/LM30/LM30_down32_annotationAsScoreVolume/score_volumes/LM30_down32_annotationAsScoreVolume_VLL_L_surround_200.bp\" && mkdir -p \"/shared/CSHL_volumes/LM30/LM30_down32_annotationAsScoreVolume/score_volumes\"\n",
      "aws s3 cp \"s3://mousebrainatlas-data/CSHL_volumes/LM30/LM30_down32_annotationAsScoreVolume/score_volumes/LM30_down32_annotationAsScoreVolume_VLL_L_surround_200.bp\" \"/shared/CSHL_volumes/LM30/LM30_down32_annotationAsScoreVolume/score_volumes/LM30_down32_annotationAsScoreVolume_VLL_L_surround_200.bp\"\n"
     ]
    },
    {
     "name": "stderr",
     "output_type": "stream",
     "text": [
      "File does not exist: /shared/CSHL_volumes/LM30/LM30_down32_annotationAsScoreVolume/score_volumes/LM30_down32_annotationAsScoreVolume_VLL_L_surround_200.bp\n",
      "Error computing gradient for VLL_L_surround_200: [Errno 2] No such file or directory: '/shared/CSHL_volumes/LM30/LM30_down32_annotationAsScoreVolume/score_volumes/LM30_down32_annotationAsScoreVolume_VLL_L_surround_200.bp'.\n"
     ]
    },
    {
     "name": "stdout",
     "output_type": "stream",
     "text": [
      "VLL_R\n",
      "rm -rf \"/shared/CSHL_volumes/LM30/LM30_down32_annotationAsScoreVolume/score_volumes/LM30_down32_annotationAsScoreVolume_VLL_R.bp\" && mkdir -p \"/shared/CSHL_volumes/LM30/LM30_down32_annotationAsScoreVolume/score_volumes\"\n",
      "aws s3 cp \"s3://mousebrainatlas-data/CSHL_volumes/LM30/LM30_down32_annotationAsScoreVolume/score_volumes/LM30_down32_annotationAsScoreVolume_VLL_R.bp\" \"/shared/CSHL_volumes/LM30/LM30_down32_annotationAsScoreVolume/score_volumes/LM30_down32_annotationAsScoreVolume_VLL_R.bp\"\n"
     ]
    },
    {
     "name": "stderr",
     "output_type": "stream",
     "text": [
      "File does not exist: /shared/CSHL_volumes/LM30/LM30_down32_annotationAsScoreVolume/score_volumes/LM30_down32_annotationAsScoreVolume_VLL_R.bp\n",
      "Error computing gradient for VLL_R: [Errno 2] No such file or directory: '/shared/CSHL_volumes/LM30/LM30_down32_annotationAsScoreVolume/score_volumes/LM30_down32_annotationAsScoreVolume_VLL_R.bp'.\n"
     ]
    },
    {
     "name": "stdout",
     "output_type": "stream",
     "text": [
      "VLL_R_surround_200\n",
      "rm -rf \"/shared/CSHL_volumes/LM30/LM30_down32_annotationAsScoreVolume/score_volumes/LM30_down32_annotationAsScoreVolume_VLL_R_surround_200.bp\" && mkdir -p \"/shared/CSHL_volumes/LM30/LM30_down32_annotationAsScoreVolume/score_volumes\"\n",
      "aws s3 cp \"s3://mousebrainatlas-data/CSHL_volumes/LM30/LM30_down32_annotationAsScoreVolume/score_volumes/LM30_down32_annotationAsScoreVolume_VLL_R_surround_200.bp\" \"/shared/CSHL_volumes/LM30/LM30_down32_annotationAsScoreVolume/score_volumes/LM30_down32_annotationAsScoreVolume_VLL_R_surround_200.bp\"\n"
     ]
    },
    {
     "name": "stderr",
     "output_type": "stream",
     "text": [
      "File does not exist: /shared/CSHL_volumes/LM30/LM30_down32_annotationAsScoreVolume/score_volumes/LM30_down32_annotationAsScoreVolume_VLL_R_surround_200.bp\n",
      "Error computing gradient for VLL_R_surround_200: [Errno 2] No such file or directory: '/shared/CSHL_volumes/LM30/LM30_down32_annotationAsScoreVolume/score_volumes/LM30_down32_annotationAsScoreVolume_VLL_R_surround_200.bp'.\n"
     ]
    },
    {
     "name": "stdout",
     "output_type": "stream",
     "text": [
      "outerContour\n",
      "rm -rf \"/shared/CSHL_volumes/LM30/LM30_down32_annotationAsScoreVolume/score_volumes/LM30_down32_annotationAsScoreVolume_outerContour.bp\" && mkdir -p \"/shared/CSHL_volumes/LM30/LM30_down32_annotationAsScoreVolume/score_volumes\"\n",
      "aws s3 cp \"s3://mousebrainatlas-data/CSHL_volumes/LM30/LM30_down32_annotationAsScoreVolume/score_volumes/LM30_down32_annotationAsScoreVolume_outerContour.bp\" \"/shared/CSHL_volumes/LM30/LM30_down32_annotationAsScoreVolume/score_volumes/LM30_down32_annotationAsScoreVolume_outerContour.bp\"\n"
     ]
    },
    {
     "name": "stderr",
     "output_type": "stream",
     "text": [
      "File does not exist: /shared/CSHL_volumes/LM30/LM30_down32_annotationAsScoreVolume/score_volumes/LM30_down32_annotationAsScoreVolume_outerContour.bp\n",
      "Error computing gradient for outerContour: [Errno 2] No such file or directory: '/shared/CSHL_volumes/LM30/LM30_down32_annotationAsScoreVolume/score_volumes/LM30_down32_annotationAsScoreVolume_outerContour.bp'.\n"
     ]
    },
    {
     "name": "stdout",
     "output_type": "stream",
     "text": [
      "outerContour_surround_200\n",
      "rm -rf \"/shared/CSHL_volumes/LM30/LM30_down32_annotationAsScoreVolume/score_volumes/LM30_down32_annotationAsScoreVolume_outerContour_surround_200.bp\" && mkdir -p \"/shared/CSHL_volumes/LM30/LM30_down32_annotationAsScoreVolume/score_volumes\"\n",
      "aws s3 cp \"s3://mousebrainatlas-data/CSHL_volumes/LM30/LM30_down32_annotationAsScoreVolume/score_volumes/LM30_down32_annotationAsScoreVolume_outerContour_surround_200.bp\" \"/shared/CSHL_volumes/LM30/LM30_down32_annotationAsScoreVolume/score_volumes/LM30_down32_annotationAsScoreVolume_outerContour_surround_200.bp\"\n"
     ]
    },
    {
     "name": "stderr",
     "output_type": "stream",
     "text": [
      "File does not exist: /shared/CSHL_volumes/LM30/LM30_down32_annotationAsScoreVolume/score_volumes/LM30_down32_annotationAsScoreVolume_outerContour_surround_200.bp\n",
      "Error computing gradient for outerContour_surround_200: [Errno 2] No such file or directory: '/shared/CSHL_volumes/LM30/LM30_down32_annotationAsScoreVolume/score_volumes/LM30_down32_annotationAsScoreVolume_outerContour_surround_200.bp'.\n"
     ]
    },
    {
     "name": "stdout",
     "output_type": "stream",
     "text": [
      "sp5\n",
      "rm -rf \"/shared/CSHL_volumes/LM30/LM30_down32_annotationAsScoreVolume/score_volumes/LM30_down32_annotationAsScoreVolume_sp5.bp\" && mkdir -p \"/shared/CSHL_volumes/LM30/LM30_down32_annotationAsScoreVolume/score_volumes\"\n",
      "aws s3 cp \"s3://mousebrainatlas-data/CSHL_volumes/LM30/LM30_down32_annotationAsScoreVolume/score_volumes/LM30_down32_annotationAsScoreVolume_sp5.bp\" \"/shared/CSHL_volumes/LM30/LM30_down32_annotationAsScoreVolume/score_volumes/LM30_down32_annotationAsScoreVolume_sp5.bp\"\n"
     ]
    },
    {
     "name": "stderr",
     "output_type": "stream",
     "text": [
      "File does not exist: /shared/CSHL_volumes/LM30/LM30_down32_annotationAsScoreVolume/score_volumes/LM30_down32_annotationAsScoreVolume_sp5.bp\n",
      "Error computing gradient for sp5: [Errno 2] No such file or directory: '/shared/CSHL_volumes/LM30/LM30_down32_annotationAsScoreVolume/score_volumes/LM30_down32_annotationAsScoreVolume_sp5.bp'.\n"
     ]
    },
    {
     "name": "stdout",
     "output_type": "stream",
     "text": [
      "sp5_surround_200\n",
      "rm -rf \"/shared/CSHL_volumes/LM30/LM30_down32_annotationAsScoreVolume/score_volumes/LM30_down32_annotationAsScoreVolume_sp5_surround_200.bp\" && mkdir -p \"/shared/CSHL_volumes/LM30/LM30_down32_annotationAsScoreVolume/score_volumes\"\n",
      "aws s3 cp \"s3://mousebrainatlas-data/CSHL_volumes/LM30/LM30_down32_annotationAsScoreVolume/score_volumes/LM30_down32_annotationAsScoreVolume_sp5_surround_200.bp\" \"/shared/CSHL_volumes/LM30/LM30_down32_annotationAsScoreVolume/score_volumes/LM30_down32_annotationAsScoreVolume_sp5_surround_200.bp\"\n"
     ]
    },
    {
     "name": "stderr",
     "output_type": "stream",
     "text": [
      "File does not exist: /shared/CSHL_volumes/LM30/LM30_down32_annotationAsScoreVolume/score_volumes/LM30_down32_annotationAsScoreVolume_sp5_surround_200.bp\n",
      "Error computing gradient for sp5_surround_200: [Errno 2] No such file or directory: '/shared/CSHL_volumes/LM30/LM30_down32_annotationAsScoreVolume/score_volumes/LM30_down32_annotationAsScoreVolume_sp5_surround_200.bp'.\n"
     ]
    }
   ],
   "source": [
    "stack = 'LM30'\n",
    "# stack = 'LM40'\n",
    "downscale = 32\n",
    "\n",
    "# for structure in all_known_structures_sided:\n",
    "for structure in all_known_structures_sided_with_surround:\n",
    "    print structure\n",
    "    try:\n",
    "        volume = DataManager.load_original_volume(stack=stack, volume_type='annotationAsScore', \n",
    "                                                  structure=structure, downscale=downscale)\n",
    "\n",
    "        t = time.time()\n",
    "\n",
    "        gy_gx_gz = np.gradient(volume.astype(np.float32), 3, 3, 3)\n",
    "        # 3.3 second - re-computing is much faster than loading\n",
    "        # .astype(np.float32) is important;\n",
    "        # Otherwise the score volume is type np.float16, np.gradient requires np.float32 and will have to convert which is very slow\n",
    "        # 2s (float32) vs. 20s (float16)\n",
    "\n",
    "        sys.stderr.write('Gradient %s: %f seconds\\n' % (structure, time.time() - t))\n",
    "\n",
    "        t = time.time()\n",
    "\n",
    "        gx_fp = DataManager.get_volume_gradient_filepath(stack=stack,volume_type='annotationAsScore',  structure=structure, downscale=downscale, suffix='gx')\n",
    "        gy_fp = DataManager.get_volume_gradient_filepath(stack=stack, volume_type='annotationAsScore', structure=structure, downscale=downscale, suffix='gy')\n",
    "        gz_fp = DataManager.get_volume_gradient_filepath(stack=stack,volume_type='annotationAsScore',  structure=structure, downscale=downscale, suffix='gz')\n",
    "\n",
    "        create_parent_dir_if_not_exists(gx_fp)\n",
    "\n",
    "        bp.pack_ndarray_file(gy_gx_gz[1], gx_fp)\n",
    "        bp.pack_ndarray_file(gy_gx_gz[0], gy_fp)\n",
    "        bp.pack_ndarray_file(gy_gx_gz[2], gz_fp)\n",
    "\n",
    "        del gy_gx_gz\n",
    "        \n",
    "        upload_to_s3(gx_fp)\n",
    "        upload_to_s3(gy_fp)\n",
    "        upload_to_s3(gz_fp)\n",
    "\n",
    "        sys.stderr.write('save %s: %f seconds\\n' % (structure, time.time() - t))\n",
    "\n",
    "    except Exception as e:\n",
    "        sys.stderr.write('Error computing gradient for %s: %s.\\n' % (structure, str(e)))"
   ]
  },
  {
   "cell_type": "markdown",
   "metadata": {},
   "source": [
    "# For classifier score volume"
   ]
  },
  {
   "cell_type": "code",
   "execution_count": 2,
   "metadata": {
    "collapsed": true
   },
   "outputs": [],
   "source": [
    "stack = 'MD657'\n",
    "classifier_setting = 30\n",
    "downscale = 32"
   ]
  },
  {
   "cell_type": "markdown",
   "metadata": {},
   "source": [
    "# All structures"
   ]
  },
  {
   "cell_type": "code",
   "execution_count": 5,
   "metadata": {
    "scrolled": true
   },
   "outputs": [
    {
     "name": "stderr",
     "output_type": "stream",
     "text": [
      "File does not exist: /shared/CSHL_data_processed/MD635/MD635_anchor.txt\n",
      "File does not exist: /shared/CSHL_data_processed/MD635/MD635_sorted_filenames.txt\n",
      "File does not exist: /shared/CSHL_data_processed/MD635/MD635_cropbox.txt\n",
      "File does not exist: /shared/CSHL_data_processed/MD635/MD635_cropbox.txt\n"
     ]
    },
    {
     "name": "stdout",
     "output_type": "stream",
     "text": [
      "5N\n"
     ]
    },
    {
     "name": "stderr",
     "output_type": "stream",
     "text": [
      "Gradient 5N: 24.655552 seconds\n",
      "save 5N: 0.074307 seconds\n"
     ]
    },
    {
     "name": "stdout",
     "output_type": "stream",
     "text": [
      "6N\n"
     ]
    },
    {
     "name": "stderr",
     "output_type": "stream",
     "text": [
      "Gradient 6N: 16.155491 seconds\n",
      "save 6N: 0.072583 seconds\n"
     ]
    },
    {
     "name": "stdout",
     "output_type": "stream",
     "text": [
      "7N\n"
     ]
    },
    {
     "name": "stderr",
     "output_type": "stream",
     "text": [
      "Gradient 7N: 15.829073 seconds\n",
      "save 7N: 0.072390 seconds\n"
     ]
    },
    {
     "name": "stdout",
     "output_type": "stream",
     "text": [
      "7n\n"
     ]
    },
    {
     "name": "stderr",
     "output_type": "stream",
     "text": [
      "Gradient 7n: 15.792059 seconds\n",
      "save 7n: 0.073104 seconds\n"
     ]
    },
    {
     "name": "stdout",
     "output_type": "stream",
     "text": [
      "Amb\n"
     ]
    },
    {
     "name": "stderr",
     "output_type": "stream",
     "text": [
      "Gradient Amb: 15.826242 seconds\n",
      "save Amb: 0.072607 seconds\n"
     ]
    },
    {
     "name": "stdout",
     "output_type": "stream",
     "text": [
      "LC\n"
     ]
    },
    {
     "name": "stderr",
     "output_type": "stream",
     "text": [
      "Gradient LC: 15.530725 seconds\n",
      "save LC: 0.071931 seconds\n"
     ]
    },
    {
     "name": "stdout",
     "output_type": "stream",
     "text": [
      "LRt\n"
     ]
    },
    {
     "name": "stderr",
     "output_type": "stream",
     "text": [
      "Gradient LRt: 15.544566 seconds\n",
      "save LRt: 0.072003 seconds\n"
     ]
    },
    {
     "name": "stdout",
     "output_type": "stream",
     "text": [
      "Pn\n"
     ]
    },
    {
     "name": "stderr",
     "output_type": "stream",
     "text": [
      "Gradient Pn: 15.526288 seconds\n",
      "save Pn: 0.071837 seconds\n"
     ]
    },
    {
     "name": "stdout",
     "output_type": "stream",
     "text": [
      "Tz\n"
     ]
    },
    {
     "ename": "KeyboardInterrupt",
     "evalue": "",
     "output_type": "error",
     "traceback": [
      "\u001b[0;31m---------------------------------------------------------------------------\u001b[0m",
      "\u001b[0;31mKeyboardInterrupt\u001b[0m                         Traceback (most recent call last)",
      "\u001b[0;32m<ipython-input-5-5dc7ea8386f6>\u001b[0m in \u001b[0;36m<module>\u001b[0;34m()\u001b[0m\n\u001b[1;32m      7\u001b[0m         \u001b[0mt\u001b[0m \u001b[0;34m=\u001b[0m \u001b[0mtime\u001b[0m\u001b[0;34m.\u001b[0m\u001b[0mtime\u001b[0m\u001b[0;34m(\u001b[0m\u001b[0;34m)\u001b[0m\u001b[0;34m\u001b[0m\u001b[0m\n\u001b[1;32m      8\u001b[0m \u001b[0;34m\u001b[0m\u001b[0m\n\u001b[0;32m----> 9\u001b[0;31m         \u001b[0mgy_gx_gz\u001b[0m \u001b[0;34m=\u001b[0m \u001b[0mnp\u001b[0m\u001b[0;34m.\u001b[0m\u001b[0mgradient\u001b[0m\u001b[0;34m(\u001b[0m\u001b[0mvolume\u001b[0m\u001b[0;34m.\u001b[0m\u001b[0mastype\u001b[0m\u001b[0;34m(\u001b[0m\u001b[0mnp\u001b[0m\u001b[0;34m.\u001b[0m\u001b[0mfloat32\u001b[0m\u001b[0;34m)\u001b[0m\u001b[0;34m,\u001b[0m \u001b[0;36m3\u001b[0m\u001b[0;34m,\u001b[0m \u001b[0;36m3\u001b[0m\u001b[0;34m,\u001b[0m \u001b[0;36m3\u001b[0m\u001b[0;34m)\u001b[0m\u001b[0;34m\u001b[0m\u001b[0m\n\u001b[0m\u001b[1;32m     10\u001b[0m         \u001b[0;31m# 3.3 second - re-computing is much faster than loading\u001b[0m\u001b[0;34m\u001b[0m\u001b[0;34m\u001b[0m\u001b[0m\n\u001b[1;32m     11\u001b[0m         \u001b[0;31m# .astype(np.float32) is important;\u001b[0m\u001b[0;34m\u001b[0m\u001b[0;34m\u001b[0m\u001b[0m\n",
      "\u001b[0;32m/usr/local/lib/python2.7/dist-packages/numpy/lib/function_base.pyc\u001b[0m in \u001b[0;36mgradient\u001b[0;34m(f, *varargs, **kwargs)\u001b[0m\n\u001b[1;32m   1652\u001b[0m             \u001b[0mslice3\u001b[0m\u001b[0;34m[\u001b[0m\u001b[0maxis\u001b[0m\u001b[0;34m]\u001b[0m \u001b[0;34m=\u001b[0m \u001b[0mslice\u001b[0m\u001b[0;34m(\u001b[0m\u001b[0mNone\u001b[0m\u001b[0;34m,\u001b[0m \u001b[0;34m-\u001b[0m\u001b[0;36m2\u001b[0m\u001b[0;34m)\u001b[0m\u001b[0;34m\u001b[0m\u001b[0m\n\u001b[1;32m   1653\u001b[0m             \u001b[0;31m# 1D equivalent -- out[1:-1] = (y[2:] - y[:-2])/2.0\u001b[0m\u001b[0;34m\u001b[0m\u001b[0;34m\u001b[0m\u001b[0m\n\u001b[0;32m-> 1654\u001b[0;31m             \u001b[0mout\u001b[0m\u001b[0;34m[\u001b[0m\u001b[0mslice1\u001b[0m\u001b[0;34m]\u001b[0m \u001b[0;34m=\u001b[0m \u001b[0;34m(\u001b[0m\u001b[0my\u001b[0m\u001b[0;34m[\u001b[0m\u001b[0mslice2\u001b[0m\u001b[0;34m]\u001b[0m \u001b[0;34m-\u001b[0m \u001b[0my\u001b[0m\u001b[0;34m[\u001b[0m\u001b[0mslice3\u001b[0m\u001b[0;34m]\u001b[0m\u001b[0;34m)\u001b[0m\u001b[0;34m/\u001b[0m\u001b[0;36m2.0\u001b[0m\u001b[0;34m\u001b[0m\u001b[0m\n\u001b[0m\u001b[1;32m   1655\u001b[0m \u001b[0;34m\u001b[0m\u001b[0m\n\u001b[1;32m   1656\u001b[0m             \u001b[0mslice1\u001b[0m\u001b[0;34m[\u001b[0m\u001b[0maxis\u001b[0m\u001b[0;34m]\u001b[0m \u001b[0;34m=\u001b[0m \u001b[0;36m0\u001b[0m\u001b[0;34m\u001b[0m\u001b[0m\n",
      "\u001b[0;31mKeyboardInterrupt\u001b[0m: "
     ]
    }
   ],
   "source": [
    "for structure in all_known_structures:\n",
    "    print structure\n",
    "    try:\n",
    "        volume = DataManager.load_original_volume(stack=stack, structure=structure, downscale=downscale,\n",
    "                                               classifier_setting=classifier_setting, volume_type='score')\n",
    "\n",
    "        t = time.time()\n",
    "\n",
    "        gy_gx_gz = np.gradient(volume.astype(np.float32), 3, 3, 3)\n",
    "        # 3.3 second - re-computing is much faster than loading\n",
    "        # .astype(np.float32) is important;\n",
    "        # Otherwise the score volume is type np.float16, np.gradient requires np.float32 and will have to convert which is very slow\n",
    "        # 2s (float32) vs. 20s (float16)\n",
    "\n",
    "        sys.stderr.write('Gradient %s: %f seconds\\n' % (structure, time.time() - t)) # 5s\n",
    "\n",
    "        t = time.time()\n",
    "\n",
    "        gx_fp = DataManager.get_volume_gradient_filepath(stack=stack, structure=structure, downscale=downscale, classifier_setting=classifier_setting, suffix='gx')\n",
    "        gy_fp = DataManager.get_volume_gradient_filepath(stack=stack, structure=structure, downscale=downscale, classifier_setting=classifier_setting, suffix='gy')\n",
    "        gz_fp = DataManager.get_volume_gradient_filepath(stack=stack, structure=structure, downscale=downscale, classifier_setting=classifier_setting, suffix='gz')\n",
    "\n",
    "#         create_if_not_exists(os.path.dirname(gx_fp))\n",
    "\n",
    "#         bp.pack_ndarray_file(gy_gx_gz[1], gx_fp)\n",
    "#         bp.pack_ndarray_file(gy_gx_gz[0], gy_fp)\n",
    "#         bp.pack_ndarray_file(gy_gx_gz[2], gz_fp)\n",
    "\n",
    "        del gy_gx_gz\n",
    "\n",
    "        sys.stderr.write('save %s: %f seconds\\n' % (structure, time.time() - t)) # 4-7s\n",
    "\n",
    "    except Exception as e:\n",
    "        sys.stderr.write('%s\\n' % e)\n",
    "        sys.stderr.write('Error computing gradient for %s.\\n' % structure)"
   ]
  },
  {
   "cell_type": "markdown",
   "metadata": {},
   "source": [
    "# Single structure"
   ]
  },
  {
   "cell_type": "code",
   "execution_count": 13,
   "metadata": {},
   "outputs": [
    {
     "name": "stderr",
     "output_type": "stream",
     "text": [
      "Gradient 7N: 2.818808 seconds\n",
      "save 7N: 0.000001 seconds\n"
     ]
    }
   ],
   "source": [
    "try:\n",
    "    volume = DataManager.load_score_volume(stack=stack, structure=structure, downscale=downscale,\n",
    "                                           classifier_setting=classifier_setting)\n",
    "\n",
    "    t = time.time()\n",
    "\n",
    "    gy_gx_gz = np.gradient(volume.astype(np.float32), 7, 7, )\n",
    "    # 3.3 second - re-computing is much faster than loading\n",
    "    # .astype(np.float32) is important;\n",
    "    # Otherwise the score volume is type np.float16, np.gradient requires np.float32 and will have to convert which is very slow\n",
    "    # 2s (float32) vs. 20s (float16)\n",
    "\n",
    "    sys.stderr.write('Gradient %s: %f seconds\\n' % (structure, time.time() - t))\n",
    "\n",
    "    t = time.time()\n",
    "\n",
    "#     gx_fp = DataManager.get_score_volume_gradient_filepath(stack=stack, structure=structure, downscale=downscale, classifier_setting=classifier_setting, suffix='gx')\n",
    "#     gy_fp = DataManager.get_score_volume_gradient_filepath(stack=stack, structure=structure, downscale=downscale, classifier_setting=classifier_setting, suffix='gy')\n",
    "#     gz_fp = DataManager.get_score_volume_gradient_filepath(stack=stack, structure=structure, downscale=downscale, classifier_setting=classifier_setting, suffix='gz')\n",
    "\n",
    "#     create_if_not_exists(os.path.dirname(gx_fp))\n",
    "\n",
    "#     bp.pack_ndarray_file(gy_gx_gz[1], gx_fp)\n",
    "#     bp.pack_ndarray_file(gy_gx_gz[0], gy_fp)\n",
    "#     bp.pack_ndarray_file(gy_gx_gz[2], gz_fp)\n",
    "\n",
    "#     del gy_gx_gz\n",
    "\n",
    "    sys.stderr.write('save %s: %f seconds\\n' % (structure, time.time() - t))\n",
    "\n",
    "except Exception as e:\n",
    "    sys.stderr.write('%s\\n' % e)\n",
    "    sys.stderr.write('Error computing gradient for %s.\\n' % structure)"
   ]
  },
  {
   "cell_type": "code",
   "execution_count": null,
   "metadata": {
    "collapsed": true,
    "scrolled": false
   },
   "outputs": [],
   "source": [
    "display_volume_sections(gy_gx_gz[0])"
   ]
  },
  {
   "cell_type": "code",
   "execution_count": null,
   "metadata": {
    "collapsed": true
   },
   "outputs": [],
   "source": []
  }
 ],
 "metadata": {
  "kernelspec": {
   "display_name": "Python 2",
   "language": "python",
   "name": "python2"
  },
  "language_info": {
   "codemirror_mode": {
    "name": "ipython",
    "version": 2
   },
   "file_extension": ".py",
   "mimetype": "text/x-python",
   "name": "python",
   "nbconvert_exporter": "python",
   "pygments_lexer": "ipython2",
   "version": "2.7.12"
  }
 },
 "nbformat": 4,
 "nbformat_minor": 1
}
