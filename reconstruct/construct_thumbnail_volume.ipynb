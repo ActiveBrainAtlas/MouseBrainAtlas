{
 "cells": [
  {
   "cell_type": "code",
   "execution_count": 1,
   "metadata": {
    "collapsed": false
   },
   "outputs": [],
   "source": [
    "%load_ext autoreload\n",
    "%autoreload 2"
   ]
  },
  {
   "cell_type": "code",
   "execution_count": 2,
   "metadata": {
    "collapsed": true
   },
   "outputs": [],
   "source": [
    "import numpy as np\n",
    "\n",
    "import sys\n",
    "import os\n",
    "\n",
    "sys.path.append(os.environ['REPO_DIR'] + '/utilities')\n",
    "from utilities2015 import *\n",
    "\n",
    "import matplotlib.pyplot as plt\n",
    "%matplotlib inline"
   ]
  },
  {
   "cell_type": "code",
   "execution_count": 3,
   "metadata": {
    "collapsed": true
   },
   "outputs": [],
   "source": [
    "volume_dir = '/oasis/projects/nsf/csd395/yuncong/CSHL_volumes/'"
   ]
  },
  {
   "cell_type": "code",
   "execution_count": 8,
   "metadata": {
    "collapsed": false,
    "scrolled": true
   },
   "outputs": [
    {
     "name": "stdout",
     "output_type": "stream",
     "text": [
      "MD589\n",
      "93 368\n",
      "MD594\n",
      "93 364\n",
      "MD585\n",
      "78 347\n",
      "MD590\n",
      "80 336\n",
      "MD593\n",
      "69 350\n",
      "MD592\n",
      "91 371\n",
      "MD591\n",
      "98 387\n",
      "MD595\n",
      "67 330\n",
      "MD598\n",
      "95 354\n",
      "MD602\n",
      "96 352\n",
      "MD603\n",
      "60 347\n"
     ]
    },
    {
     "name": "stderr",
     "output_type": "stream",
     "text": [
      "/oasis/projects/nsf/csd181/yuncong/virtualenv-1.9.1/yuncongve/lib/python2.7/site-packages/skimage/util/dtype.py:110: UserWarning: Possible precision loss when converting from uint16 to uint8\n",
      "  \"%s to %s\" % (dtypeobj_in, dtypeobj))\n"
     ]
    }
   ],
   "source": [
    "###### reconstruct thumbnail volume  #######\n",
    "\n",
    "for i, stack in enumerate(['MD589', 'MD594', 'MD585', 'MD590', 'MD593', 'MD592', 'MD591', 'MD595', 'MD598', 'MD602', 'MD603']):\n",
    "\n",
    "    print stack\n",
    "    \n",
    "    downsample_factor = 32\n",
    "\n",
    "    section_thickness = 20 # in um\n",
    "    xy_pixel_distance_lossless = 0.46\n",
    "    xy_pixel_distance_tb = xy_pixel_distance_lossless * 32 # in um, thumbnail\n",
    "    # factor = section_thickness/xy_pixel_distance_lossless\n",
    "\n",
    "    xy_pixel_distance_downsampled = xy_pixel_distance_lossless * downsample_factor\n",
    "    z_xy_ratio_downsampled = section_thickness / xy_pixel_distance_downsampled\n",
    "\n",
    "    dm = DataManager(stack=stack)\n",
    "\n",
    "    volume = np.zeros((dm.image_height/downsample_factor, \n",
    "                       dm.image_width/downsample_factor, \n",
    "                       int(section_number_lookup[stack]*z_xy_ratio_downsampled)), np.uint8)\n",
    "\n",
    "    # volume = np.zeros((1500, 2000, int(section_number_lookup[stack]*z_xy_ratio_downsampled)), np.uint8)\n",
    "\n",
    "    section_bs_begin, section_bs_end = section_range_lookup[stack]\n",
    "    print section_bs_begin, section_bs_end\n",
    "\n",
    "    for sec in range(section_bs_begin, section_bs_end+1):\n",
    "        \n",
    "    #     dm.set_slice(section=sec)\n",
    "\n",
    "        im = img_as_ubyte(rgb2gray(imread(os.environ['DATA_DIR'] + '/%(stack)s_thumbnail_aligned_masked_cropped/%(stack)s_%(slice)04d_thumbnail_aligned_masked_cropped.png' \\\n",
    "                            % {'stack': stack, 'slice': sec})))\n",
    "\n",
    "    #     im = img_as_ubyte(imread(os.environ['DATA_DIR'] + '/%(stack)s_thumbnail_aligned_masked/%(stack)s_%(slice)04d_thumbnail_aligned_masked.png' \\\n",
    "    #         % {'stack': stack, 'slice': sec})) \n",
    "\n",
    "        volume[:,:, int(z_xy_ratio_downsampled*sec):int(z_xy_ratio_downsampled*(sec+1))] = im[..., np.newaxis]\n",
    "        \n",
    "    \n",
    "    bp.pack_ndarray_file(volume, volume_dir + '/%(stack)s/%(stack)s_thumbnailVolume.bp' % {'stack': stack})"
   ]
  },
  {
   "cell_type": "code",
   "execution_count": 13,
   "metadata": {
    "collapsed": false
   },
   "outputs": [],
   "source": []
  },
  {
   "cell_type": "code",
   "execution_count": null,
   "metadata": {
    "collapsed": false
   },
   "outputs": [],
   "source": [
    "# volume_dir = '/oasis/projects/nsf/csd395/yuncong/CSHL_volumes'\n",
    "\n",
    "volume[volume < 1e-6] = 0\n",
    "xs, ys, zs = np.where(volume > 0)\n",
    "\n",
    "xmin = xs.min()\n",
    "xmax = xs.max()\n",
    "ymin = ys.min()\n",
    "ymax = ys.max()\n",
    "zmin = zs.min()\n",
    "zmax = zs.max()\n",
    "\n",
    "print xmin, xmax\n",
    "print ymin, ymax\n",
    "print zmin, zmax"
   ]
  },
  {
   "cell_type": "code",
   "execution_count": null,
   "metadata": {
    "collapsed": true
   },
   "outputs": [],
   "source": [
    "volume = volume[xmin:xmax+1, ymin:ymax+1, zmin:zmax+1]"
   ]
  },
  {
   "cell_type": "code",
   "execution_count": null,
   "metadata": {
    "collapsed": true
   },
   "outputs": [],
   "source": []
  },
  {
   "cell_type": "code",
   "execution_count": null,
   "metadata": {
    "collapsed": true
   },
   "outputs": [],
   "source": [
    "dm = DataManager(stack=stack)\n",
    "\n",
    "theta_z = 0\n",
    "theta_y = 0\n",
    "theta_x = 0\n",
    "tx = 0\n",
    "ty = 0\n",
    "tz = 0\n",
    "skew_z = 0\n",
    "skew_y = 0\n",
    "skew_x = 0\n",
    "\n",
    "# cos_z = np.cos(theta_z)\n",
    "# sin_z = np.sin(theta_z)\n",
    "# cos_y = np.cos(theta_y)\n",
    "# sin_y = np.sin(theta_y)\n",
    "# Rz = np.array([[cos_z, -sin_z, 0], [sin_z, cos_z, 0], [0,0,1]])\n",
    "# Ry = np.array([[cos_y, 0, -sin_y], [0, 1, 0], [sin_y, 0, cos_y]])\n",
    "# Rx = np.array([[1, 0, 0], [0, cos_y, -sin_y], [0, sin_y, cos_y]])\n",
    "# R = np.dot(Rz, Ry, Rx)\n"
   ]
  },
  {
   "cell_type": "code",
   "execution_count": null,
   "metadata": {
    "collapsed": false
   },
   "outputs": [],
   "source": [
    "xs, ys, zs = np.meshgrid(range(volume.shape[0]), \n",
    "                         range(volume.shape[1]), \n",
    "                         range(volume.shape[2]))"
   ]
  },
  {
   "cell_type": "code",
   "execution_count": null,
   "metadata": {
    "collapsed": true
   },
   "outputs": [],
   "source": [
    "xys = np.c_[xs.flat, ys.flat, zs.flat]"
   ]
  },
  {
   "cell_type": "code",
   "execution_count": null,
   "metadata": {
    "collapsed": false
   },
   "outputs": [],
   "source": [
    "# manual affine correction\n",
    "T = np.eye(3)\n",
    "T[0,2] = .1 # + move right side down\n",
    "T[2,0] = -.1 # + move bottom side left\n",
    "# T[2,0] = .1\n",
    "\n",
    "print T"
   ]
  },
  {
   "cell_type": "code",
   "execution_count": null,
   "metadata": {
    "collapsed": true
   },
   "outputs": [],
   "source": [
    "xyzs_new = np.dot(T, np.c_[xs.flat, ys.flat, zs.flat].T).astype(np.int).T"
   ]
  },
  {
   "cell_type": "code",
   "execution_count": null,
   "metadata": {
    "collapsed": false
   },
   "outputs": [],
   "source": [
    "valid = (xyzs_new[:,0] >= 0) & (xyzs_new[:,1] >= 0) & (xyzs_new[:,2] >= 0) &\\\n",
    "(xyzs_new[:,0] < volume.shape[0]) & (xyzs_new[:,1] < volume.shape[1]) & (xyzs_new[:,2] < volume.shape[2])"
   ]
  },
  {
   "cell_type": "code",
   "execution_count": null,
   "metadata": {
    "collapsed": false
   },
   "outputs": [],
   "source": [
    "# volume_new = np.zeros((dm.image_height/downsample_factor, \n",
    "#                    dm.image_width/downsample_factor, \n",
    "#                    int(n_sec[stack]*z_xy_ratio_downsampled)), np.uint8)\n",
    "\n",
    "volume_new = np.zeros_like(volume, np.uint8)\n",
    "\n",
    "volume_new[xyzs_new[valid, 0], xyzs_new[valid, 1], xyzs_new[valid, 2]] = \\\n",
    "volume[xys[valid, 0], xys[valid, 1], xys[valid, 2]]"
   ]
  },
  {
   "cell_type": "code",
   "execution_count": null,
   "metadata": {
    "collapsed": false,
    "scrolled": false
   },
   "outputs": [],
   "source": [
    "for y in range(0, volume.shape[1], 50):\n",
    "    plt.imshow(volume_new[:, y, :], cmap=plt.cm.gray);\n",
    "    plt.title('y = %d' % y);\n",
    "    plt.show();"
   ]
  },
  {
   "cell_type": "code",
   "execution_count": null,
   "metadata": {
    "collapsed": false,
    "scrolled": true
   },
   "outputs": [],
   "source": [
    "for y in range(0, volume.shape[1], 10):\n",
    "    plt.imshow(volume[:, y, :], cmap=plt.cm.gray);\n",
    "    plt.title('y = %d' % y);\n",
    "    plt.show();"
   ]
  }
 ],
 "metadata": {
  "kernelspec": {
   "display_name": "Python 2",
   "language": "python",
   "name": "python2"
  },
  "language_info": {
   "codemirror_mode": {
    "name": "ipython",
    "version": 2
   },
   "file_extension": ".py",
   "mimetype": "text/x-python",
   "name": "python",
   "nbconvert_exporter": "python",
   "pygments_lexer": "ipython2",
   "version": "2.7.3"
  }
 },
 "nbformat": 4,
 "nbformat_minor": 0
}
