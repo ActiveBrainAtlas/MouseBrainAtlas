{
 "cells": [
  {
   "cell_type": "code",
   "execution_count": 1,
   "metadata": {
    "collapsed": false
   },
   "outputs": [
    {
     "name": "stdout",
     "output_type": "stream",
     "text": [
      "Setting environment for Gordon\n"
     ]
    }
   ],
   "source": [
    "%load_ext autoreload\n",
    "%autoreload 2\n",
    "\n",
    "import numpy as np\n",
    "\n",
    "import sys\n",
    "import os\n",
    "\n",
    "sys.path.append(os.environ['REPO_DIR'] + '/utilities')\n",
    "from utilities2015 import *\n",
    "from data_manager import *\n",
    "from metadata import *\n",
    "\n",
    "from conversion import images_to_volume\n",
    "from skimage.transform import resize\n",
    "\n",
    "import matplotlib.pyplot as plt\n",
    "%matplotlib inline\n",
    "\n",
    "import time"
   ]
  },
  {
   "cell_type": "code",
   "execution_count": 12,
   "metadata": {
    "collapsed": false
   },
   "outputs": [
    {
     "name": "stdout",
     "output_type": "stream",
     "text": [
      "Volume shape: 587 383 370\n"
     ]
    }
   ],
   "source": [
    "stack = 'MD599'\n",
    "first_sec, last_sec = DataManager.load_cropbox(stack)[4:]\n",
    "\n",
    "images = {}\n",
    "for sec in range(first_sec, last_sec):\n",
    "    try:\n",
    "        fn = DataManager.get_image_filepath(stack, section=sec, resol='thumbnail', version='cropped_tif')\n",
    "        img = img_as_ubyte(rgb2gray(imread(fn)))\n",
    "        images[sec-1] = img\n",
    "    except:\n",
    "        pass\n",
    "    \n",
    "downsample = 32\n",
    "voxel_z_size = section_thickness/(xy_pixel_distance_lossless * downsample)\n",
    "volume = images_to_volume(images=images, voxel_size=(1, 1, voxel_z_size), first_sec=first_sec-1, last_sec=last_sec-1)\n",
    "\n",
    "output_dir = create_if_not_exists(os.path.join(VOLUME_ROOTDIR, stack))\n",
    "bp.pack_ndarray_file(volume, os.path.join(output_dir, '%(stack)s_down%(downsample)dVolume.bp') % \\\n",
    "                     dict(stack=stack, downsample=downsample))\n",
    "# del volume"
   ]
  },
  {
   "cell_type": "code",
   "execution_count": 8,
   "metadata": {
    "collapsed": false
   },
   "outputs": [
    {
     "name": "stdout",
     "output_type": "stream",
     "text": [
      "voxel size: 14.72 14.72 1.35869565217 um\n",
      "587 383 370\n"
     ]
    },
    {
     "ename": "Exception",
     "evalue": "Section is invalid: Rescan.",
     "output_type": "error",
     "traceback": [
      "\u001b[0;31m\u001b[0m",
      "\u001b[0;31mException\u001b[0mTraceback (most recent call last)",
      "\u001b[0;32m<ipython-input-8-d12086df15b2>\u001b[0m in \u001b[0;36m<module>\u001b[0;34m()\u001b[0m\n\u001b[1;32m     27\u001b[0m             \u001b[0;32mif\u001b[0m \u001b[0mdownsample\u001b[0m \u001b[0;34m==\u001b[0m \u001b[0;36m32\u001b[0m\u001b[0;34m:\u001b[0m\u001b[0;34m\u001b[0m\u001b[0m\n\u001b[1;32m     28\u001b[0m \u001b[0;34m\u001b[0m\u001b[0m\n\u001b[0;32m---> 29\u001b[0;31m                 \u001b[0mfn\u001b[0m \u001b[0;34m=\u001b[0m \u001b[0mDataManager\u001b[0m\u001b[0;34m.\u001b[0m\u001b[0mget_image_filepath\u001b[0m\u001b[0;34m(\u001b[0m\u001b[0mstack\u001b[0m\u001b[0;34m,\u001b[0m \u001b[0msection\u001b[0m\u001b[0;34m=\u001b[0m\u001b[0msec\u001b[0m\u001b[0;34m,\u001b[0m \u001b[0mresol\u001b[0m\u001b[0;34m=\u001b[0m\u001b[0;34m'thumbnail'\u001b[0m\u001b[0;34m,\u001b[0m \u001b[0mversion\u001b[0m\u001b[0;34m=\u001b[0m\u001b[0;34m'cropped_tif'\u001b[0m\u001b[0;34m)\u001b[0m\u001b[0;34m\u001b[0m\u001b[0m\n\u001b[0m\u001b[1;32m     30\u001b[0m \u001b[0;34m\u001b[0m\u001b[0m\n\u001b[1;32m     31\u001b[0m                 \u001b[0;32mif\u001b[0m \u001b[0;32mnot\u001b[0m \u001b[0mos\u001b[0m\u001b[0;34m.\u001b[0m\u001b[0mpath\u001b[0m\u001b[0;34m.\u001b[0m\u001b[0mexists\u001b[0m\u001b[0;34m(\u001b[0m\u001b[0mfn\u001b[0m\u001b[0;34m)\u001b[0m\u001b[0;34m:\u001b[0m\u001b[0;34m\u001b[0m\u001b[0m\n",
      "\u001b[0;32m/oasis/projects/nsf/csd395/yuncong/Brain/utilities/data_manager.pyc\u001b[0m in \u001b[0;36mget_image_filepath\u001b[0;34m(stack, section, version, resol, data_dir, fn, anchor_fn)\u001b[0m\n\u001b[1;32m    122\u001b[0m             \u001b[0mfn\u001b[0m \u001b[0;34m=\u001b[0m \u001b[0msection_to_filename\u001b[0m\u001b[0;34m[\u001b[0m\u001b[0msection\u001b[0m\u001b[0;34m]\u001b[0m\u001b[0;34m\u001b[0m\u001b[0m\n\u001b[1;32m    123\u001b[0m             \u001b[0;32mif\u001b[0m \u001b[0mfn\u001b[0m \u001b[0;32min\u001b[0m \u001b[0;34m[\u001b[0m\u001b[0;34m'Nonexisting'\u001b[0m\u001b[0;34m,\u001b[0m \u001b[0;34m'Rescan'\u001b[0m\u001b[0;34m,\u001b[0m \u001b[0;34m'Placeholder'\u001b[0m\u001b[0;34m]\u001b[0m\u001b[0;34m:\u001b[0m\u001b[0;34m\u001b[0m\u001b[0m\n\u001b[0;32m--> 124\u001b[0;31m                 \u001b[0;32mraise\u001b[0m \u001b[0mException\u001b[0m\u001b[0;34m(\u001b[0m\u001b[0;34m'Section is invalid: %s.'\u001b[0m \u001b[0;34m%\u001b[0m \u001b[0mfn\u001b[0m\u001b[0;34m)\u001b[0m\u001b[0;34m\u001b[0m\u001b[0m\n\u001b[0m\u001b[1;32m    125\u001b[0m \u001b[0;34m\u001b[0m\u001b[0m\n\u001b[1;32m    126\u001b[0m         \u001b[0;32mif\u001b[0m \u001b[0manchor_fn\u001b[0m \u001b[0;32mis\u001b[0m \u001b[0mNone\u001b[0m\u001b[0;34m:\u001b[0m\u001b[0;34m\u001b[0m\u001b[0m\n",
      "\u001b[0;31mException\u001b[0m: Section is invalid: Rescan."
     ]
    }
   ],
   "source": [
    "# for stack in ['MD599']:\n",
    "    \n",
    "#     first_sec, last_sec = DataManager.load_cropbox(stack)[4:]\n",
    "    \n",
    "#     for downsample in [32]:\n",
    "    \n",
    "#         xy_pixel_distance = xy_pixel_distance_lossless * downsample\n",
    "#         voxel_z_size = section_thickness / xy_pixel_distance\n",
    "#         print 'voxel size:', xy_pixel_distance, xy_pixel_distance, voxel_z_size, 'um'\n",
    "\n",
    "#         full_width, full_height = DataManager.get_image_dimension(stack)\n",
    "#         xdim = full_width/downsample\n",
    "#         ydim = full_height/downsample\n",
    "#         z_end = int(np.ceil((last_sec+1)*voxel_z_size))\n",
    "#         z_begin = int(np.floor(first_sec*voxel_z_size))\n",
    "#         zdim = z_end + 1 - z_begin\n",
    "\n",
    "#         print xdim, ydim, zdim\n",
    "\n",
    "#         volume = np.zeros((ydim, xdim, zdim), np.uint8)\n",
    "\n",
    "#         bar = show_progress_bar(first_sec, last_sec)\n",
    "\n",
    "#         for sec in range(first_sec, last_sec+1):\n",
    "#             bar.value = sec\n",
    "#     #         t = time.time()\n",
    "#             if downsample == 32:\n",
    "\n",
    "#                 fn = DataManager.get_image_filepath(stack, section=sec, resol='thumbnail', version='cropped_tif')\n",
    "\n",
    "#                 if not os.path.exists(fn):\n",
    "#                     continue\n",
    "\n",
    "#                 img = img_as_ubyte(rgb2gray(imread(fn)))\n",
    "\n",
    "#             else:\n",
    "#                 img = img_as_ubyte(rgb2gray(imread(DataManager.get_image_filepath(stack=stack, section=sec))[::downsample, ::downsample]))\n",
    "#     #                 mask_tb = DataManager.load_thumbnail_mask(stack, sec, cerebellum__removed=False)\n",
    "#     #                 mask = resize(mask_tb, img.shape[:2]) > .5\n",
    "#     #                 img[~mask] = 0\n",
    "\n",
    "#     #         sys.stderr.write('%.2f seconds.\\n' % (time.time() - t))\n",
    "#             z1 = sec * voxel_z_size\n",
    "#             z2 = (sec + 1) * voxel_z_size\n",
    "#     #         volume[:, :, int(z1)-z_begin:int(z2)+1-z_begin] = img[10000:11000, 10000:11000, None]\n",
    "#             volume[:, :, int(z1)-z_begin:int(z2)+1-z_begin] = img[..., None]\n",
    "\n",
    "#     #         create_if_not_exists(VOLUME_ROOTDIR + '/' + stack )\n",
    "#     #         bp.pack_ndarray_file(volume, VOLUME_ROOTDIR + '/%(stack)s/%(stack)s_down%(downsample)dVolume.bp' % {'stack': stack, \n",
    "# #                                                                                                         'downsample': downsample})\n",
    "#         del volume"
   ]
  }
 ],
 "metadata": {
  "kernelspec": {
   "display_name": "Python 2",
   "language": "python",
   "name": "python2"
  },
  "language_info": {
   "codemirror_mode": {
    "name": "ipython",
    "version": 2
   },
   "file_extension": ".py",
   "mimetype": "text/x-python",
   "name": "python",
   "nbconvert_exporter": "python",
   "pygments_lexer": "ipython2",
   "version": "2.7.3"
  },
  "widgets": {
   "state": {
    "b550d15cdbe34e948ab37b20ec5e71c9": {
     "views": [
      {
       "cell_index": 1
      }
     ]
    }
   },
   "version": "1.2.0"
  }
 },
 "nbformat": 4,
 "nbformat_minor": 0
}
