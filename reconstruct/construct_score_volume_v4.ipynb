{
 "cells": [
  {
   "cell_type": "code",
   "execution_count": 1,
   "metadata": {},
   "outputs": [
    {
     "name": "stderr",
     "output_type": "stream",
     "text": [
      "/usr/local/lib/python2.7/dist-packages/matplotlib/__init__.py:1401: UserWarning:  This call to matplotlib.use() has no effect\n",
      "because the backend has already been chosen;\n",
      "matplotlib.use() must be called *before* pylab, matplotlib.pyplot,\n",
      "or matplotlib.backends is imported for the first time.\n",
      "\n",
      "  warnings.warn(_use_error_msg)\n"
     ]
    },
    {
     "name": "stdout",
     "output_type": "stream",
     "text": [
      "Setting environment for AWS compute node\n"
     ]
    },
    {
     "name": "stderr",
     "output_type": "stream",
     "text": [
      "No vtk\n",
      "File does not exist: /shared/CSHL_data_processed/MD635/MD635_anchor.txt\n",
      "File does not exist: /shared/CSHL_data_processed/MD635/MD635_sorted_filenames.txt\n",
      "File does not exist: /shared/CSHL_data_processed/MD635/MD635_cropbox.txt\n",
      "File does not exist: /shared/CSHL_data_processed/MD635/MD635_cropbox.txt\n",
      "File does not exist: /shared/CSHL_data_processed/MD653/MD653_anchor.txt\n",
      "File does not exist: /shared/CSHL_data_processed/MD653/MD653_sorted_filenames.txt\n",
      "File does not exist: /shared/CSHL_data_processed/MD653/MD653_cropbox.txt\n",
      "File does not exist: /shared/CSHL_data_processed/MD653/MD653_cropbox.txt\n",
      "File does not exist: /shared/CSHL_data_processed/MD652/MD652_anchor.txt\n",
      "File does not exist: /shared/CSHL_data_processed/MD652/MD652_sorted_filenames.txt\n",
      "File does not exist: /shared/CSHL_data_processed/MD652/MD652_cropbox.txt\n",
      "File does not exist: /shared/CSHL_data_processed/MD652/MD652_cropbox.txt\n",
      "File does not exist: /shared/CSHL_data_processed/MD642/MD642_anchor.txt\n",
      "File does not exist: /shared/CSHL_data_processed/MD642/MD642_sorted_filenames.txt\n",
      "File does not exist: /shared/CSHL_data_processed/MD642/MD642_cropbox.txt\n",
      "File does not exist: /shared/CSHL_data_processed/MD642/MD642_cropbox.txt\n",
      "File does not exist: /shared/CSHL_data_processed/MD657/MD657_anchor.txt\n",
      "File does not exist: /shared/CSHL_data_processed/MD657/MD657_sorted_filenames.txt\n",
      "File does not exist: /shared/CSHL_data_processed/MD657/MD657_cropbox.txt\n",
      "File does not exist: /shared/CSHL_data_processed/MD657/MD657_cropbox.txt\n"
     ]
    }
   ],
   "source": [
    "%load_ext autoreload\n",
    "%autoreload 2\n",
    "\n",
    "import sys\n",
    "import os\n",
    "import time\n",
    "\n",
    "import matplotlib.pyplot as plt\n",
    "%matplotlib inline\n",
    "from multiprocess import Pool\n",
    "import numpy as np\n",
    "\n",
    "sys.path.append(os.environ['REPO_DIR'] + '/utilities')\n",
    "from utilities2015 import *\n",
    "from metadata import *\n",
    "from data_manager import *\n",
    "from conversion import images_to_volume"
   ]
  },
  {
   "cell_type": "code",
   "execution_count": 2,
   "metadata": {
    "collapsed": true
   },
   "outputs": [],
   "source": [
    "classifier_id = 30"
   ]
  },
  {
   "cell_type": "code",
   "execution_count": 5,
   "metadata": {
    "collapsed": true
   },
   "outputs": [],
   "source": [
    "downscale = 32\n",
    "voxel_z_size = SECTION_THICKNESS/(XY_PIXEL_DISTANCE_LOSSLESS * downscale)"
   ]
  },
  {
   "cell_type": "code",
   "execution_count": 6,
   "metadata": {},
   "outputs": [],
   "source": [
    "def load_downscaled_scoremaps_multiple_sections_sequential(sections, stack, structure, downscale, classifier_id):\n",
    "    scoremaps = {}\n",
    "    for sec in sections:\n",
    "        try:\n",
    "            actual_setting = resolve_actual_setting(setting=classifier_id, stack=stack, sec=sec)\n",
    "            sm = DataManager.load_downscaled_scoremap(stack=stack, section=sec, structure=structure, downscale=downscale, setting=actual_setting)\n",
    "            if sm is not None:\n",
    "                scoremaps[sec] = sm\n",
    "        except:\n",
    "            pass\n",
    "    return scoremaps"
   ]
  },
  {
   "cell_type": "markdown",
   "metadata": {},
   "source": [
    "# Alternating"
   ]
  },
  {
   "cell_type": "code",
   "execution_count": 8,
   "metadata": {
    "scrolled": true
   },
   "outputs": [
    {
     "name": "stdout",
     "output_type": "stream",
     "text": [
      "5N\n",
      "139 scoremaps loaded.\n"
     ]
    },
    {
     "name": "stderr",
     "output_type": "stream",
     "text": [
      "Load scoremaps: 3.62 seconds\n",
      "Create score volume: 5.77 seconds\n"
     ]
    },
    {
     "name": "stdout",
     "output_type": "stream",
     "text": [
      "6N\n",
      "139 scoremaps loaded.\n"
     ]
    },
    {
     "name": "stderr",
     "output_type": "stream",
     "text": [
      "Load scoremaps: 1.42 seconds\n",
      "Create score volume: 5.76 seconds\n"
     ]
    },
    {
     "name": "stdout",
     "output_type": "stream",
     "text": [
      "7N\n",
      "139 scoremaps loaded.\n"
     ]
    },
    {
     "name": "stderr",
     "output_type": "stream",
     "text": [
      "Load scoremaps: 2.96 seconds\n",
      "Create score volume: 5.81 seconds\n"
     ]
    },
    {
     "name": "stdout",
     "output_type": "stream",
     "text": [
      "7n\n",
      "139 scoremaps loaded.\n"
     ]
    },
    {
     "name": "stderr",
     "output_type": "stream",
     "text": [
      "Load scoremaps: 2.12 seconds\n",
      "Create score volume: 5.78 seconds\n"
     ]
    },
    {
     "name": "stdout",
     "output_type": "stream",
     "text": [
      "Amb\n",
      "139 scoremaps loaded.\n"
     ]
    },
    {
     "name": "stderr",
     "output_type": "stream",
     "text": [
      "Load scoremaps: 1.37 seconds\n",
      "Create score volume: 5.75 seconds\n"
     ]
    },
    {
     "name": "stdout",
     "output_type": "stream",
     "text": [
      "LC\n",
      "139 scoremaps loaded.\n"
     ]
    },
    {
     "name": "stderr",
     "output_type": "stream",
     "text": [
      "Load scoremaps: 0.51 seconds\n",
      "Create score volume: 5.81 seconds\n"
     ]
    },
    {
     "name": "stdout",
     "output_type": "stream",
     "text": [
      "LRt\n",
      "139 scoremaps loaded.\n"
     ]
    },
    {
     "name": "stderr",
     "output_type": "stream",
     "text": [
      "Load scoremaps: 6.52 seconds\n",
      "Create score volume: 5.79 seconds\n"
     ]
    },
    {
     "name": "stdout",
     "output_type": "stream",
     "text": [
      "Pn\n",
      "139 scoremaps loaded.\n"
     ]
    },
    {
     "name": "stderr",
     "output_type": "stream",
     "text": [
      "Load scoremaps: 8.42 seconds\n",
      "Create score volume: 5.79 seconds\n"
     ]
    },
    {
     "name": "stdout",
     "output_type": "stream",
     "text": [
      "Tz\n",
      "139 scoremaps loaded.\n"
     ]
    },
    {
     "name": "stderr",
     "output_type": "stream",
     "text": [
      "Load scoremaps: 6.24 seconds\n",
      "Create score volume: 5.76 seconds\n"
     ]
    },
    {
     "name": "stdout",
     "output_type": "stream",
     "text": [
      "VLL\n",
      "139 scoremaps loaded.\n"
     ]
    },
    {
     "name": "stderr",
     "output_type": "stream",
     "text": [
      "Load scoremaps: 5.50 seconds\n",
      "Create score volume: 5.76 seconds\n"
     ]
    },
    {
     "name": "stdout",
     "output_type": "stream",
     "text": [
      "RMC\n",
      "139 scoremaps loaded.\n"
     ]
    },
    {
     "name": "stderr",
     "output_type": "stream",
     "text": [
      "Load scoremaps: 5.86 seconds\n",
      "Create score volume: 5.79 seconds\n"
     ]
    },
    {
     "name": "stdout",
     "output_type": "stream",
     "text": [
      "SNC\n",
      "139 scoremaps loaded.\n"
     ]
    },
    {
     "name": "stderr",
     "output_type": "stream",
     "text": [
      "Load scoremaps: 5.69 seconds\n",
      "Create score volume: 5.74 seconds\n"
     ]
    },
    {
     "name": "stdout",
     "output_type": "stream",
     "text": [
      "SNR\n",
      "139 scoremaps loaded.\n"
     ]
    },
    {
     "name": "stderr",
     "output_type": "stream",
     "text": [
      "Load scoremaps: 5.43 seconds\n",
      "Create score volume: 5.77 seconds\n"
     ]
    },
    {
     "name": "stdout",
     "output_type": "stream",
     "text": [
      "3N\n",
      "139 scoremaps loaded.\n"
     ]
    },
    {
     "name": "stderr",
     "output_type": "stream",
     "text": [
      "Load scoremaps: 5.21 seconds\n",
      "Create score volume: 5.74 seconds\n"
     ]
    },
    {
     "name": "stdout",
     "output_type": "stream",
     "text": [
      "4N\n",
      "139 scoremaps loaded.\n"
     ]
    },
    {
     "name": "stderr",
     "output_type": "stream",
     "text": [
      "Load scoremaps: 5.24 seconds\n",
      "Create score volume: 5.81 seconds\n"
     ]
    },
    {
     "name": "stdout",
     "output_type": "stream",
     "text": [
      "Sp5I\n",
      "139 scoremaps loaded.\n"
     ]
    },
    {
     "name": "stderr",
     "output_type": "stream",
     "text": [
      "Load scoremaps: 5.23 seconds\n",
      "Create score volume: 5.79 seconds\n"
     ]
    },
    {
     "name": "stdout",
     "output_type": "stream",
     "text": [
      "Sp5O\n",
      "139 scoremaps loaded.\n"
     ]
    },
    {
     "name": "stderr",
     "output_type": "stream",
     "text": [
      "Load scoremaps: 4.78 seconds\n",
      "Create score volume: 5.79 seconds\n"
     ]
    },
    {
     "name": "stdout",
     "output_type": "stream",
     "text": [
      "Sp5C\n",
      "139 scoremaps loaded.\n"
     ]
    },
    {
     "name": "stderr",
     "output_type": "stream",
     "text": [
      "Load scoremaps: 4.70 seconds\n",
      "Create score volume: 5.81 seconds\n"
     ]
    },
    {
     "name": "stdout",
     "output_type": "stream",
     "text": [
      "PBG\n",
      "139 scoremaps loaded.\n"
     ]
    },
    {
     "name": "stderr",
     "output_type": "stream",
     "text": [
      "Load scoremaps: 5.32 seconds\n",
      "Create score volume: 5.78 seconds\n"
     ]
    },
    {
     "name": "stdout",
     "output_type": "stream",
     "text": [
      "10N\n",
      "139 scoremaps loaded.\n"
     ]
    },
    {
     "name": "stderr",
     "output_type": "stream",
     "text": [
      "Load scoremaps: 5.09 seconds\n",
      "Create score volume: 5.75 seconds\n"
     ]
    },
    {
     "name": "stdout",
     "output_type": "stream",
     "text": [
      "VCA\n",
      "139 scoremaps loaded.\n"
     ]
    },
    {
     "name": "stderr",
     "output_type": "stream",
     "text": [
      "Load scoremaps: 4.44 seconds\n",
      "Create score volume: 5.78 seconds\n"
     ]
    },
    {
     "name": "stdout",
     "output_type": "stream",
     "text": [
      "VCP\n",
      "139 scoremaps loaded.\n"
     ]
    },
    {
     "name": "stderr",
     "output_type": "stream",
     "text": [
      "Load scoremaps: 4.88 seconds\n",
      "Create score volume: 5.79 seconds\n"
     ]
    },
    {
     "name": "stdout",
     "output_type": "stream",
     "text": [
      "DC\n",
      "139 scoremaps loaded.\n"
     ]
    },
    {
     "name": "stderr",
     "output_type": "stream",
     "text": [
      "Load scoremaps: 5.22 seconds\n",
      "Create score volume: 5.78 seconds\n"
     ]
    },
    {
     "name": "stdout",
     "output_type": "stream",
     "text": [
      "AP\n",
      "139 scoremaps loaded.\n"
     ]
    },
    {
     "name": "stderr",
     "output_type": "stream",
     "text": [
      "Load scoremaps: 5.13 seconds\n",
      "Create score volume: 5.75 seconds\n"
     ]
    },
    {
     "name": "stdout",
     "output_type": "stream",
     "text": [
      "12N\n",
      "139 scoremaps loaded.\n"
     ]
    },
    {
     "name": "stderr",
     "output_type": "stream",
     "text": [
      "Load scoremaps: 5.37 seconds\n",
      "Create score volume: 5.78 seconds\n"
     ]
    },
    {
     "name": "stdout",
     "output_type": "stream",
     "text": [
      "RtTg\n",
      "139 scoremaps loaded.\n"
     ]
    },
    {
     "name": "stderr",
     "output_type": "stream",
     "text": [
      "Load scoremaps: 5.02 seconds\n",
      "Create score volume: 5.76 seconds\n"
     ]
    },
    {
     "name": "stdout",
     "output_type": "stream",
     "text": [
      "sp5\n",
      "0 scoremaps loaded.\n",
      "outerContour\n"
     ]
    },
    {
     "name": "stderr",
     "output_type": "stream",
     "text": [
      "Number of valid scoremaps for sp5 is less than 2.\n",
      "Number of valid scoremaps for outerContour is less than 2.\n"
     ]
    },
    {
     "name": "stdout",
     "output_type": "stream",
     "text": [
      "0 scoremaps loaded.\n",
      "SC\n",
      "139 scoremaps loaded.\n"
     ]
    },
    {
     "name": "stderr",
     "output_type": "stream",
     "text": [
      "Load scoremaps: 5.39 seconds\n",
      "Create score volume: 5.82 seconds\n"
     ]
    },
    {
     "name": "stdout",
     "output_type": "stream",
     "text": [
      "IC\n",
      "139 scoremaps loaded.\n"
     ]
    },
    {
     "name": "stderr",
     "output_type": "stream",
     "text": [
      "Load scoremaps: 5.38 seconds\n",
      "Create score volume: 5.75 seconds\n"
     ]
    }
   ],
   "source": [
    "for stack in ['MD642']:\n",
    "    \n",
    "    first_sec, last_sec = metadata_cache['section_limits'][stack]\n",
    "\n",
    "    nissl_sections = []\n",
    "    for sec in range(first_sec, last_sec):\n",
    "        fn = metadata_cache['sections_to_filenames'][stack][sec]\n",
    "        if not is_invalid(fn) and fn.split('-')[1][0] == 'N':\n",
    "            nissl_sections.append(sec)\n",
    "    \n",
    "    for structure in all_known_structures:\n",
    "#     for structure in ['7N']:\n",
    "        \n",
    "        print structure\n",
    "    \n",
    "        t = time.time()\n",
    "        scoremaps = load_downscaled_scoremaps_multiple_sections_sequential(stack=stack, sections=nissl_sections, \n",
    "                                                              structure=structure, downscale=downscale, \n",
    "                                                              classifier_setting=classifier_setting)\n",
    "        print len(scoremaps), 'scoremaps loaded.'\n",
    "        if len(scoremaps) < 2:\n",
    "            sys.stderr.write('Number of valid scoremaps for %s is less than 2.\\n' % structure)\n",
    "            continue\n",
    "        \n",
    "        sys.stderr.write('Load scoremaps: %.2f seconds\\n' % (time.time() - t)) # 10-40s (down=32, 12 processes)\n",
    "        \n",
    "        t = time.time()\n",
    "        score_volume, score_volume_bbox = images_to_volume(images=scoremaps, voxel_size=(1, 1, voxel_z_size), \n",
    "                                                           first_sec=np.min(nissl_sections)-1, \n",
    "                                                           last_sec=np.max(nissl_sections)-1)\n",
    "        sys.stderr.write('Create score volume: %.2f seconds\\n' % (time.time() - t)) # 6s (sequential)\n",
    "        \n",
    "        score_volume_filepath = DataManager.get_score_volume_filepath(stack=stack, downscale=downscale, \n",
    "                                                                      structure=structure, \n",
    "                                                                      classifier_setting=classifier_setting)\n",
    "        create_if_not_exists(os.path.dirname(score_volume_filepath))\n",
    "        bp.pack_ndarray_file(score_volume.astype(np.float16), score_volume_filepath)\n",
    "\n",
    "        score_volume_bbox_filepath = DataManager.get_score_volume_bbox_filepath(stack=stack, downscale=downscale, structure=structure,\n",
    "                                                                               classifier_setting=classifier_setting)\n",
    "        np.savetxt(score_volume_bbox_filepath, np.array(score_volume_bbox)[None], fmt='%d')\n",
    "        \n",
    "        del score_volume, scoremaps"
   ]
  },
  {
   "cell_type": "markdown",
   "metadata": {},
   "source": [
    "# Regular"
   ]
  },
  {
   "cell_type": "code",
   "execution_count": 24,
   "metadata": {
    "scrolled": true
   },
   "outputs": [
    {
     "name": "stdout",
     "output_type": "stream",
     "text": [
      "5N\n"
     ]
    },
    {
     "name": "stderr",
     "output_type": "stream",
     "text": [
      "Load scoremaps: 1.04 seconds\n",
      "Create score volume: 1.50 seconds\n"
     ]
    },
    {
     "name": "stdout",
     "output_type": "stream",
     "text": [
      "aws s3 cp /shared/CSHL_volumes/MD591/MD591_down32_scoreVolume_clf_30/score_volumes/MD591_down32_scoreVolume_clf_30_5N.bp s3://mousebrainatlas-data/CSHL_volumes/MD591/MD591_down32_scoreVolume_clf_30/score_volumes/MD591_down32_scoreVolume_clf_30_5N.bp\n"
     ]
    },
    {
     "name": "stderr",
     "output_type": "stream",
     "text": [
      "Child returned 0\n",
      "1.11 seconds.\n"
     ]
    },
    {
     "name": "stdout",
     "output_type": "stream",
     "text": [
      "aws s3 cp /shared/CSHL_volumes/MD591/MD591_down32_scoreVolume_clf_30/score_volumes/MD591_down32_scoreVolume_clf_30_5N_bbox.txt s3://mousebrainatlas-data/CSHL_volumes/MD591/MD591_down32_scoreVolume_clf_30/score_volumes/MD591_down32_scoreVolume_clf_30_5N_bbox.txt\n"
     ]
    },
    {
     "name": "stderr",
     "output_type": "stream",
     "text": [
      "Child returned 0\n",
      "0.42 seconds.\n"
     ]
    },
    {
     "name": "stdout",
     "output_type": "stream",
     "text": [
      "6N\n"
     ]
    },
    {
     "name": "stderr",
     "output_type": "stream",
     "text": [
      "Load scoremaps: 1.21 seconds\n",
      "Create score volume: 1.50 seconds\n"
     ]
    },
    {
     "name": "stdout",
     "output_type": "stream",
     "text": [
      "aws s3 cp /shared/CSHL_volumes/MD591/MD591_down32_scoreVolume_clf_30/score_volumes/MD591_down32_scoreVolume_clf_30_6N.bp s3://mousebrainatlas-data/CSHL_volumes/MD591/MD591_down32_scoreVolume_clf_30/score_volumes/MD591_down32_scoreVolume_clf_30_6N.bp\n"
     ]
    },
    {
     "name": "stderr",
     "output_type": "stream",
     "text": [
      "Child returned 0\n",
      "1.14 seconds.\n"
     ]
    },
    {
     "name": "stdout",
     "output_type": "stream",
     "text": [
      "aws s3 cp /shared/CSHL_volumes/MD591/MD591_down32_scoreVolume_clf_30/score_volumes/MD591_down32_scoreVolume_clf_30_6N_bbox.txt s3://mousebrainatlas-data/CSHL_volumes/MD591/MD591_down32_scoreVolume_clf_30/score_volumes/MD591_down32_scoreVolume_clf_30_6N_bbox.txt\n"
     ]
    },
    {
     "name": "stderr",
     "output_type": "stream",
     "text": [
      "Child returned 0\n",
      "0.39 seconds.\n"
     ]
    },
    {
     "name": "stdout",
     "output_type": "stream",
     "text": [
      "7N\n"
     ]
    },
    {
     "name": "stderr",
     "output_type": "stream",
     "text": [
      "Load scoremaps: 0.20 seconds\n",
      "Create score volume: 1.74 seconds\n"
     ]
    },
    {
     "name": "stdout",
     "output_type": "stream",
     "text": [
      "aws s3 cp /shared/CSHL_volumes/MD591/MD591_down32_scoreVolume_clf_30/score_volumes/MD591_down32_scoreVolume_clf_30_7N.bp s3://mousebrainatlas-data/CSHL_volumes/MD591/MD591_down32_scoreVolume_clf_30/score_volumes/MD591_down32_scoreVolume_clf_30_7N.bp\n"
     ]
    },
    {
     "name": "stderr",
     "output_type": "stream",
     "text": [
      "Child returned 0\n",
      "1.16 seconds.\n"
     ]
    },
    {
     "name": "stdout",
     "output_type": "stream",
     "text": [
      "aws s3 cp /shared/CSHL_volumes/MD591/MD591_down32_scoreVolume_clf_30/score_volumes/MD591_down32_scoreVolume_clf_30_7N_bbox.txt s3://mousebrainatlas-data/CSHL_volumes/MD591/MD591_down32_scoreVolume_clf_30/score_volumes/MD591_down32_scoreVolume_clf_30_7N_bbox.txt\n"
     ]
    },
    {
     "name": "stderr",
     "output_type": "stream",
     "text": [
      "Child returned 0\n",
      "0.39 seconds.\n"
     ]
    },
    {
     "name": "stdout",
     "output_type": "stream",
     "text": [
      "7n\n"
     ]
    },
    {
     "name": "stderr",
     "output_type": "stream",
     "text": [
      "Load scoremaps: 1.00 seconds\n",
      "Create score volume: 1.51 seconds\n"
     ]
    },
    {
     "name": "stdout",
     "output_type": "stream",
     "text": [
      "aws s3 cp /shared/CSHL_volumes/MD591/MD591_down32_scoreVolume_clf_30/score_volumes/MD591_down32_scoreVolume_clf_30_7n.bp s3://mousebrainatlas-data/CSHL_volumes/MD591/MD591_down32_scoreVolume_clf_30/score_volumes/MD591_down32_scoreVolume_clf_30_7n.bp\n"
     ]
    },
    {
     "name": "stderr",
     "output_type": "stream",
     "text": [
      "Child returned 0\n",
      "1.16 seconds.\n"
     ]
    },
    {
     "name": "stdout",
     "output_type": "stream",
     "text": [
      "aws s3 cp /shared/CSHL_volumes/MD591/MD591_down32_scoreVolume_clf_30/score_volumes/MD591_down32_scoreVolume_clf_30_7n_bbox.txt s3://mousebrainatlas-data/CSHL_volumes/MD591/MD591_down32_scoreVolume_clf_30/score_volumes/MD591_down32_scoreVolume_clf_30_7n_bbox.txt\n"
     ]
    },
    {
     "name": "stderr",
     "output_type": "stream",
     "text": [
      "Child returned 0\n",
      "0.38 seconds.\n"
     ]
    },
    {
     "name": "stdout",
     "output_type": "stream",
     "text": [
      "Amb\n"
     ]
    },
    {
     "name": "stderr",
     "output_type": "stream",
     "text": [
      "Load scoremaps: 1.04 seconds\n",
      "Create score volume: 1.51 seconds\n"
     ]
    },
    {
     "name": "stdout",
     "output_type": "stream",
     "text": [
      "aws s3 cp /shared/CSHL_volumes/MD591/MD591_down32_scoreVolume_clf_30/score_volumes/MD591_down32_scoreVolume_clf_30_Amb.bp s3://mousebrainatlas-data/CSHL_volumes/MD591/MD591_down32_scoreVolume_clf_30/score_volumes/MD591_down32_scoreVolume_clf_30_Amb.bp\n"
     ]
    },
    {
     "name": "stderr",
     "output_type": "stream",
     "text": [
      "Child returned 0\n",
      "1.06 seconds.\n"
     ]
    },
    {
     "name": "stdout",
     "output_type": "stream",
     "text": [
      "aws s3 cp /shared/CSHL_volumes/MD591/MD591_down32_scoreVolume_clf_30/score_volumes/MD591_down32_scoreVolume_clf_30_Amb_bbox.txt s3://mousebrainatlas-data/CSHL_volumes/MD591/MD591_down32_scoreVolume_clf_30/score_volumes/MD591_down32_scoreVolume_clf_30_Amb_bbox.txt\n"
     ]
    },
    {
     "name": "stderr",
     "output_type": "stream",
     "text": [
      "Child returned 0\n",
      "0.38 seconds.\n"
     ]
    },
    {
     "name": "stdout",
     "output_type": "stream",
     "text": [
      "LC\n"
     ]
    },
    {
     "name": "stderr",
     "output_type": "stream",
     "text": [
      "Load scoremaps: 1.05 seconds\n",
      "Create score volume: 1.51 seconds\n"
     ]
    },
    {
     "name": "stdout",
     "output_type": "stream",
     "text": [
      "aws s3 cp /shared/CSHL_volumes/MD591/MD591_down32_scoreVolume_clf_30/score_volumes/MD591_down32_scoreVolume_clf_30_LC.bp s3://mousebrainatlas-data/CSHL_volumes/MD591/MD591_down32_scoreVolume_clf_30/score_volumes/MD591_down32_scoreVolume_clf_30_LC.bp\n"
     ]
    },
    {
     "name": "stderr",
     "output_type": "stream",
     "text": [
      "Child returned 0\n",
      "1.08 seconds.\n"
     ]
    },
    {
     "name": "stdout",
     "output_type": "stream",
     "text": [
      "aws s3 cp /shared/CSHL_volumes/MD591/MD591_down32_scoreVolume_clf_30/score_volumes/MD591_down32_scoreVolume_clf_30_LC_bbox.txt s3://mousebrainatlas-data/CSHL_volumes/MD591/MD591_down32_scoreVolume_clf_30/score_volumes/MD591_down32_scoreVolume_clf_30_LC_bbox.txt\n"
     ]
    },
    {
     "name": "stderr",
     "output_type": "stream",
     "text": [
      "Child returned 0\n",
      "0.38 seconds.\n"
     ]
    },
    {
     "name": "stdout",
     "output_type": "stream",
     "text": [
      "LRt\n"
     ]
    },
    {
     "name": "stderr",
     "output_type": "stream",
     "text": [
      "Load scoremaps: 1.06 seconds\n",
      "Create score volume: 1.49 seconds\n"
     ]
    },
    {
     "name": "stdout",
     "output_type": "stream",
     "text": [
      "aws s3 cp /shared/CSHL_volumes/MD591/MD591_down32_scoreVolume_clf_30/score_volumes/MD591_down32_scoreVolume_clf_30_LRt.bp s3://mousebrainatlas-data/CSHL_volumes/MD591/MD591_down32_scoreVolume_clf_30/score_volumes/MD591_down32_scoreVolume_clf_30_LRt.bp\n"
     ]
    },
    {
     "name": "stderr",
     "output_type": "stream",
     "text": [
      "Child returned 0\n",
      "1.11 seconds.\n"
     ]
    },
    {
     "name": "stdout",
     "output_type": "stream",
     "text": [
      "aws s3 cp /shared/CSHL_volumes/MD591/MD591_down32_scoreVolume_clf_30/score_volumes/MD591_down32_scoreVolume_clf_30_LRt_bbox.txt s3://mousebrainatlas-data/CSHL_volumes/MD591/MD591_down32_scoreVolume_clf_30/score_volumes/MD591_down32_scoreVolume_clf_30_LRt_bbox.txt\n"
     ]
    },
    {
     "name": "stderr",
     "output_type": "stream",
     "text": [
      "Child returned 0\n",
      "0.37 seconds.\n"
     ]
    },
    {
     "name": "stdout",
     "output_type": "stream",
     "text": [
      "Pn\n"
     ]
    },
    {
     "name": "stderr",
     "output_type": "stream",
     "text": [
      "Load scoremaps: 1.06 seconds\n",
      "Create score volume: 1.49 seconds\n"
     ]
    },
    {
     "name": "stdout",
     "output_type": "stream",
     "text": [
      "aws s3 cp /shared/CSHL_volumes/MD591/MD591_down32_scoreVolume_clf_30/score_volumes/MD591_down32_scoreVolume_clf_30_Pn.bp s3://mousebrainatlas-data/CSHL_volumes/MD591/MD591_down32_scoreVolume_clf_30/score_volumes/MD591_down32_scoreVolume_clf_30_Pn.bp\n"
     ]
    },
    {
     "name": "stderr",
     "output_type": "stream",
     "text": [
      "Child returned 0\n",
      "1.36 seconds.\n"
     ]
    },
    {
     "name": "stdout",
     "output_type": "stream",
     "text": [
      "aws s3 cp /shared/CSHL_volumes/MD591/MD591_down32_scoreVolume_clf_30/score_volumes/MD591_down32_scoreVolume_clf_30_Pn_bbox.txt s3://mousebrainatlas-data/CSHL_volumes/MD591/MD591_down32_scoreVolume_clf_30/score_volumes/MD591_down32_scoreVolume_clf_30_Pn_bbox.txt\n"
     ]
    },
    {
     "name": "stderr",
     "output_type": "stream",
     "text": [
      "Child returned 0\n",
      "0.38 seconds.\n"
     ]
    },
    {
     "name": "stdout",
     "output_type": "stream",
     "text": [
      "Tz\n"
     ]
    },
    {
     "name": "stderr",
     "output_type": "stream",
     "text": [
      "Load scoremaps: 1.22 seconds\n",
      "Create score volume: 2.33 seconds\n"
     ]
    },
    {
     "name": "stdout",
     "output_type": "stream",
     "text": [
      "aws s3 cp /shared/CSHL_volumes/MD591/MD591_down32_scoreVolume_clf_30/score_volumes/MD591_down32_scoreVolume_clf_30_Tz.bp s3://mousebrainatlas-data/CSHL_volumes/MD591/MD591_down32_scoreVolume_clf_30/score_volumes/MD591_down32_scoreVolume_clf_30_Tz.bp\n"
     ]
    },
    {
     "name": "stderr",
     "output_type": "stream",
     "text": [
      "Child returned 0\n",
      "1.57 seconds.\n"
     ]
    },
    {
     "name": "stdout",
     "output_type": "stream",
     "text": [
      "aws s3 cp /shared/CSHL_volumes/MD591/MD591_down32_scoreVolume_clf_30/score_volumes/MD591_down32_scoreVolume_clf_30_Tz_bbox.txt s3://mousebrainatlas-data/CSHL_volumes/MD591/MD591_down32_scoreVolume_clf_30/score_volumes/MD591_down32_scoreVolume_clf_30_Tz_bbox.txt\n"
     ]
    },
    {
     "name": "stderr",
     "output_type": "stream",
     "text": [
      "Child returned 0\n",
      "0.38 seconds.\n"
     ]
    },
    {
     "name": "stdout",
     "output_type": "stream",
     "text": [
      "VLL\n"
     ]
    },
    {
     "name": "stderr",
     "output_type": "stream",
     "text": [
      "Load scoremaps: 1.14 seconds\n",
      "Create score volume: 1.57 seconds\n"
     ]
    },
    {
     "name": "stdout",
     "output_type": "stream",
     "text": [
      "aws s3 cp /shared/CSHL_volumes/MD591/MD591_down32_scoreVolume_clf_30/score_volumes/MD591_down32_scoreVolume_clf_30_VLL.bp s3://mousebrainatlas-data/CSHL_volumes/MD591/MD591_down32_scoreVolume_clf_30/score_volumes/MD591_down32_scoreVolume_clf_30_VLL.bp\n"
     ]
    },
    {
     "name": "stderr",
     "output_type": "stream",
     "text": [
      "Child returned 0\n",
      "1.07 seconds.\n"
     ]
    },
    {
     "name": "stdout",
     "output_type": "stream",
     "text": [
      "aws s3 cp /shared/CSHL_volumes/MD591/MD591_down32_scoreVolume_clf_30/score_volumes/MD591_down32_scoreVolume_clf_30_VLL_bbox.txt s3://mousebrainatlas-data/CSHL_volumes/MD591/MD591_down32_scoreVolume_clf_30/score_volumes/MD591_down32_scoreVolume_clf_30_VLL_bbox.txt\n"
     ]
    },
    {
     "name": "stderr",
     "output_type": "stream",
     "text": [
      "Child returned 0\n",
      "0.38 seconds.\n"
     ]
    },
    {
     "name": "stdout",
     "output_type": "stream",
     "text": [
      "RMC\n"
     ]
    },
    {
     "name": "stderr",
     "output_type": "stream",
     "text": [
      "Load scoremaps: 1.06 seconds\n",
      "Create score volume: 1.56 seconds\n"
     ]
    },
    {
     "name": "stdout",
     "output_type": "stream",
     "text": [
      "aws s3 cp /shared/CSHL_volumes/MD591/MD591_down32_scoreVolume_clf_30/score_volumes/MD591_down32_scoreVolume_clf_30_RMC.bp s3://mousebrainatlas-data/CSHL_volumes/MD591/MD591_down32_scoreVolume_clf_30/score_volumes/MD591_down32_scoreVolume_clf_30_RMC.bp\n"
     ]
    },
    {
     "name": "stderr",
     "output_type": "stream",
     "text": [
      "Child returned 0\n",
      "1.13 seconds.\n"
     ]
    },
    {
     "name": "stdout",
     "output_type": "stream",
     "text": [
      "aws s3 cp /shared/CSHL_volumes/MD591/MD591_down32_scoreVolume_clf_30/score_volumes/MD591_down32_scoreVolume_clf_30_RMC_bbox.txt s3://mousebrainatlas-data/CSHL_volumes/MD591/MD591_down32_scoreVolume_clf_30/score_volumes/MD591_down32_scoreVolume_clf_30_RMC_bbox.txt\n"
     ]
    },
    {
     "name": "stderr",
     "output_type": "stream",
     "text": [
      "Child returned 0\n",
      "0.38 seconds.\n"
     ]
    },
    {
     "name": "stdout",
     "output_type": "stream",
     "text": [
      "SNC\n"
     ]
    },
    {
     "name": "stderr",
     "output_type": "stream",
     "text": [
      "Load scoremaps: 1.19 seconds\n",
      "Create score volume: 1.51 seconds\n"
     ]
    },
    {
     "name": "stdout",
     "output_type": "stream",
     "text": [
      "aws s3 cp /shared/CSHL_volumes/MD591/MD591_down32_scoreVolume_clf_30/score_volumes/MD591_down32_scoreVolume_clf_30_SNC.bp s3://mousebrainatlas-data/CSHL_volumes/MD591/MD591_down32_scoreVolume_clf_30/score_volumes/MD591_down32_scoreVolume_clf_30_SNC.bp\n"
     ]
    },
    {
     "name": "stderr",
     "output_type": "stream",
     "text": [
      "Child returned 0\n",
      "1.15 seconds.\n"
     ]
    },
    {
     "name": "stdout",
     "output_type": "stream",
     "text": [
      "aws s3 cp /shared/CSHL_volumes/MD591/MD591_down32_scoreVolume_clf_30/score_volumes/MD591_down32_scoreVolume_clf_30_SNC_bbox.txt s3://mousebrainatlas-data/CSHL_volumes/MD591/MD591_down32_scoreVolume_clf_30/score_volumes/MD591_down32_scoreVolume_clf_30_SNC_bbox.txt\n"
     ]
    },
    {
     "name": "stderr",
     "output_type": "stream",
     "text": [
      "Child returned 0\n",
      "0.38 seconds.\n"
     ]
    },
    {
     "name": "stdout",
     "output_type": "stream",
     "text": [
      "SNR\n"
     ]
    },
    {
     "name": "stderr",
     "output_type": "stream",
     "text": [
      "Load scoremaps: 1.26 seconds\n",
      "Create score volume: 1.49 seconds\n"
     ]
    },
    {
     "name": "stdout",
     "output_type": "stream",
     "text": [
      "aws s3 cp /shared/CSHL_volumes/MD591/MD591_down32_scoreVolume_clf_30/score_volumes/MD591_down32_scoreVolume_clf_30_SNR.bp s3://mousebrainatlas-data/CSHL_volumes/MD591/MD591_down32_scoreVolume_clf_30/score_volumes/MD591_down32_scoreVolume_clf_30_SNR.bp\n"
     ]
    },
    {
     "name": "stderr",
     "output_type": "stream",
     "text": [
      "Child returned 0\n",
      "1.19 seconds.\n"
     ]
    },
    {
     "name": "stdout",
     "output_type": "stream",
     "text": [
      "aws s3 cp /shared/CSHL_volumes/MD591/MD591_down32_scoreVolume_clf_30/score_volumes/MD591_down32_scoreVolume_clf_30_SNR_bbox.txt s3://mousebrainatlas-data/CSHL_volumes/MD591/MD591_down32_scoreVolume_clf_30/score_volumes/MD591_down32_scoreVolume_clf_30_SNR_bbox.txt\n"
     ]
    },
    {
     "name": "stderr",
     "output_type": "stream",
     "text": [
      "Child returned 0\n",
      "0.34 seconds.\n"
     ]
    },
    {
     "name": "stdout",
     "output_type": "stream",
     "text": [
      "3N\n"
     ]
    },
    {
     "name": "stderr",
     "output_type": "stream",
     "text": [
      "Load scoremaps: 1.28 seconds\n",
      "Create score volume: 1.49 seconds\n"
     ]
    },
    {
     "name": "stdout",
     "output_type": "stream",
     "text": [
      "aws s3 cp /shared/CSHL_volumes/MD591/MD591_down32_scoreVolume_clf_30/score_volumes/MD591_down32_scoreVolume_clf_30_3N.bp s3://mousebrainatlas-data/CSHL_volumes/MD591/MD591_down32_scoreVolume_clf_30/score_volumes/MD591_down32_scoreVolume_clf_30_3N.bp\n"
     ]
    },
    {
     "name": "stderr",
     "output_type": "stream",
     "text": [
      "Child returned 0\n",
      "1.24 seconds.\n"
     ]
    },
    {
     "name": "stdout",
     "output_type": "stream",
     "text": [
      "aws s3 cp /shared/CSHL_volumes/MD591/MD591_down32_scoreVolume_clf_30/score_volumes/MD591_down32_scoreVolume_clf_30_3N_bbox.txt s3://mousebrainatlas-data/CSHL_volumes/MD591/MD591_down32_scoreVolume_clf_30/score_volumes/MD591_down32_scoreVolume_clf_30_3N_bbox.txt\n"
     ]
    },
    {
     "name": "stderr",
     "output_type": "stream",
     "text": [
      "Child returned 0\n",
      "0.37 seconds.\n"
     ]
    },
    {
     "name": "stdout",
     "output_type": "stream",
     "text": [
      "4N\n"
     ]
    },
    {
     "name": "stderr",
     "output_type": "stream",
     "text": [
      "Load scoremaps: 1.23 seconds\n",
      "Create score volume: 2.09 seconds\n"
     ]
    },
    {
     "name": "stdout",
     "output_type": "stream",
     "text": [
      "aws s3 cp /shared/CSHL_volumes/MD591/MD591_down32_scoreVolume_clf_30/score_volumes/MD591_down32_scoreVolume_clf_30_4N.bp s3://mousebrainatlas-data/CSHL_volumes/MD591/MD591_down32_scoreVolume_clf_30/score_volumes/MD591_down32_scoreVolume_clf_30_4N.bp\n"
     ]
    },
    {
     "name": "stderr",
     "output_type": "stream",
     "text": [
      "Child returned 0\n",
      "1.10 seconds.\n"
     ]
    },
    {
     "name": "stdout",
     "output_type": "stream",
     "text": [
      "aws s3 cp /shared/CSHL_volumes/MD591/MD591_down32_scoreVolume_clf_30/score_volumes/MD591_down32_scoreVolume_clf_30_4N_bbox.txt s3://mousebrainatlas-data/CSHL_volumes/MD591/MD591_down32_scoreVolume_clf_30/score_volumes/MD591_down32_scoreVolume_clf_30_4N_bbox.txt\n"
     ]
    },
    {
     "name": "stderr",
     "output_type": "stream",
     "text": [
      "Child returned 0\n",
      "0.38 seconds.\n"
     ]
    },
    {
     "name": "stdout",
     "output_type": "stream",
     "text": [
      "Sp5I\n"
     ]
    },
    {
     "name": "stderr",
     "output_type": "stream",
     "text": [
      "Load scoremaps: 1.04 seconds\n",
      "Create score volume: 1.84 seconds\n"
     ]
    },
    {
     "name": "stdout",
     "output_type": "stream",
     "text": [
      "aws s3 cp /shared/CSHL_volumes/MD591/MD591_down32_scoreVolume_clf_30/score_volumes/MD591_down32_scoreVolume_clf_30_Sp5I.bp s3://mousebrainatlas-data/CSHL_volumes/MD591/MD591_down32_scoreVolume_clf_30/score_volumes/MD591_down32_scoreVolume_clf_30_Sp5I.bp\n"
     ]
    },
    {
     "name": "stderr",
     "output_type": "stream",
     "text": [
      "Child returned 0\n",
      "1.02 seconds.\n"
     ]
    },
    {
     "name": "stdout",
     "output_type": "stream",
     "text": [
      "aws s3 cp /shared/CSHL_volumes/MD591/MD591_down32_scoreVolume_clf_30/score_volumes/MD591_down32_scoreVolume_clf_30_Sp5I_bbox.txt s3://mousebrainatlas-data/CSHL_volumes/MD591/MD591_down32_scoreVolume_clf_30/score_volumes/MD591_down32_scoreVolume_clf_30_Sp5I_bbox.txt\n"
     ]
    },
    {
     "name": "stderr",
     "output_type": "stream",
     "text": [
      "Child returned 0\n",
      "0.43 seconds.\n"
     ]
    },
    {
     "name": "stdout",
     "output_type": "stream",
     "text": [
      "Sp5O\n"
     ]
    },
    {
     "name": "stderr",
     "output_type": "stream",
     "text": [
      "Load scoremaps: 1.08 seconds\n",
      "Create score volume: 1.54 seconds\n"
     ]
    },
    {
     "name": "stdout",
     "output_type": "stream",
     "text": [
      "aws s3 cp /shared/CSHL_volumes/MD591/MD591_down32_scoreVolume_clf_30/score_volumes/MD591_down32_scoreVolume_clf_30_Sp5O.bp s3://mousebrainatlas-data/CSHL_volumes/MD591/MD591_down32_scoreVolume_clf_30/score_volumes/MD591_down32_scoreVolume_clf_30_Sp5O.bp\n"
     ]
    },
    {
     "name": "stderr",
     "output_type": "stream",
     "text": [
      "Child returned 0\n",
      "1.12 seconds.\n"
     ]
    },
    {
     "name": "stdout",
     "output_type": "stream",
     "text": [
      "aws s3 cp /shared/CSHL_volumes/MD591/MD591_down32_scoreVolume_clf_30/score_volumes/MD591_down32_scoreVolume_clf_30_Sp5O_bbox.txt s3://mousebrainatlas-data/CSHL_volumes/MD591/MD591_down32_scoreVolume_clf_30/score_volumes/MD591_down32_scoreVolume_clf_30_Sp5O_bbox.txt\n"
     ]
    },
    {
     "name": "stderr",
     "output_type": "stream",
     "text": [
      "Child returned 0\n",
      "0.38 seconds.\n"
     ]
    },
    {
     "name": "stdout",
     "output_type": "stream",
     "text": [
      "Sp5C\n"
     ]
    },
    {
     "name": "stderr",
     "output_type": "stream",
     "text": [
      "Load scoremaps: 1.21 seconds\n",
      "Create score volume: 1.53 seconds\n"
     ]
    },
    {
     "name": "stdout",
     "output_type": "stream",
     "text": [
      "aws s3 cp /shared/CSHL_volumes/MD591/MD591_down32_scoreVolume_clf_30/score_volumes/MD591_down32_scoreVolume_clf_30_Sp5C.bp s3://mousebrainatlas-data/CSHL_volumes/MD591/MD591_down32_scoreVolume_clf_30/score_volumes/MD591_down32_scoreVolume_clf_30_Sp5C.bp\n"
     ]
    },
    {
     "name": "stderr",
     "output_type": "stream",
     "text": [
      "Child returned 0\n",
      "1.08 seconds.\n"
     ]
    },
    {
     "name": "stdout",
     "output_type": "stream",
     "text": [
      "aws s3 cp /shared/CSHL_volumes/MD591/MD591_down32_scoreVolume_clf_30/score_volumes/MD591_down32_scoreVolume_clf_30_Sp5C_bbox.txt s3://mousebrainatlas-data/CSHL_volumes/MD591/MD591_down32_scoreVolume_clf_30/score_volumes/MD591_down32_scoreVolume_clf_30_Sp5C_bbox.txt\n"
     ]
    },
    {
     "name": "stderr",
     "output_type": "stream",
     "text": [
      "Child returned 0\n",
      "0.38 seconds.\n"
     ]
    },
    {
     "name": "stdout",
     "output_type": "stream",
     "text": [
      "PBG\n"
     ]
    },
    {
     "name": "stderr",
     "output_type": "stream",
     "text": [
      "Load scoremaps: 1.03 seconds\n",
      "Create score volume: 1.51 seconds\n"
     ]
    },
    {
     "name": "stdout",
     "output_type": "stream",
     "text": [
      "aws s3 cp /shared/CSHL_volumes/MD591/MD591_down32_scoreVolume_clf_30/score_volumes/MD591_down32_scoreVolume_clf_30_PBG.bp s3://mousebrainatlas-data/CSHL_volumes/MD591/MD591_down32_scoreVolume_clf_30/score_volumes/MD591_down32_scoreVolume_clf_30_PBG.bp\n"
     ]
    },
    {
     "name": "stderr",
     "output_type": "stream",
     "text": [
      "Child returned 0\n",
      "1.49 seconds.\n"
     ]
    },
    {
     "name": "stdout",
     "output_type": "stream",
     "text": [
      "aws s3 cp /shared/CSHL_volumes/MD591/MD591_down32_scoreVolume_clf_30/score_volumes/MD591_down32_scoreVolume_clf_30_PBG_bbox.txt s3://mousebrainatlas-data/CSHL_volumes/MD591/MD591_down32_scoreVolume_clf_30/score_volumes/MD591_down32_scoreVolume_clf_30_PBG_bbox.txt\n"
     ]
    },
    {
     "name": "stderr",
     "output_type": "stream",
     "text": [
      "Child returned 0\n",
      "0.37 seconds.\n"
     ]
    },
    {
     "name": "stdout",
     "output_type": "stream",
     "text": [
      "10N\n"
     ]
    },
    {
     "name": "stderr",
     "output_type": "stream",
     "text": [
      "Load scoremaps: 1.14 seconds\n",
      "Create score volume: 1.49 seconds\n"
     ]
    },
    {
     "name": "stdout",
     "output_type": "stream",
     "text": [
      "aws s3 cp /shared/CSHL_volumes/MD591/MD591_down32_scoreVolume_clf_30/score_volumes/MD591_down32_scoreVolume_clf_30_10N.bp s3://mousebrainatlas-data/CSHL_volumes/MD591/MD591_down32_scoreVolume_clf_30/score_volumes/MD591_down32_scoreVolume_clf_30_10N.bp\n"
     ]
    },
    {
     "name": "stderr",
     "output_type": "stream",
     "text": [
      "Child returned 0\n",
      "1.11 seconds.\n"
     ]
    },
    {
     "name": "stdout",
     "output_type": "stream",
     "text": [
      "aws s3 cp /shared/CSHL_volumes/MD591/MD591_down32_scoreVolume_clf_30/score_volumes/MD591_down32_scoreVolume_clf_30_10N_bbox.txt s3://mousebrainatlas-data/CSHL_volumes/MD591/MD591_down32_scoreVolume_clf_30/score_volumes/MD591_down32_scoreVolume_clf_30_10N_bbox.txt\n"
     ]
    },
    {
     "name": "stderr",
     "output_type": "stream",
     "text": [
      "Child returned 0\n",
      "0.37 seconds.\n"
     ]
    },
    {
     "name": "stdout",
     "output_type": "stream",
     "text": [
      "VCA\n"
     ]
    },
    {
     "name": "stderr",
     "output_type": "stream",
     "text": [
      "Load scoremaps: 1.06 seconds\n",
      "Create score volume: 1.50 seconds\n"
     ]
    },
    {
     "name": "stdout",
     "output_type": "stream",
     "text": [
      "aws s3 cp /shared/CSHL_volumes/MD591/MD591_down32_scoreVolume_clf_30/score_volumes/MD591_down32_scoreVolume_clf_30_VCA.bp s3://mousebrainatlas-data/CSHL_volumes/MD591/MD591_down32_scoreVolume_clf_30/score_volumes/MD591_down32_scoreVolume_clf_30_VCA.bp\n"
     ]
    },
    {
     "name": "stderr",
     "output_type": "stream",
     "text": [
      "Child returned 0\n",
      "1.14 seconds.\n"
     ]
    },
    {
     "name": "stdout",
     "output_type": "stream",
     "text": [
      "aws s3 cp /shared/CSHL_volumes/MD591/MD591_down32_scoreVolume_clf_30/score_volumes/MD591_down32_scoreVolume_clf_30_VCA_bbox.txt s3://mousebrainatlas-data/CSHL_volumes/MD591/MD591_down32_scoreVolume_clf_30/score_volumes/MD591_down32_scoreVolume_clf_30_VCA_bbox.txt\n"
     ]
    },
    {
     "name": "stderr",
     "output_type": "stream",
     "text": [
      "Child returned 0\n",
      "0.39 seconds.\n"
     ]
    },
    {
     "name": "stdout",
     "output_type": "stream",
     "text": [
      "VCP\n"
     ]
    },
    {
     "name": "stderr",
     "output_type": "stream",
     "text": [
      "Load scoremaps: 1.04 seconds\n",
      "Create score volume: 1.73 seconds\n"
     ]
    },
    {
     "name": "stdout",
     "output_type": "stream",
     "text": [
      "aws s3 cp /shared/CSHL_volumes/MD591/MD591_down32_scoreVolume_clf_30/score_volumes/MD591_down32_scoreVolume_clf_30_VCP.bp s3://mousebrainatlas-data/CSHL_volumes/MD591/MD591_down32_scoreVolume_clf_30/score_volumes/MD591_down32_scoreVolume_clf_30_VCP.bp\n"
     ]
    },
    {
     "name": "stderr",
     "output_type": "stream",
     "text": [
      "Child returned 0\n",
      "1.09 seconds.\n"
     ]
    },
    {
     "name": "stdout",
     "output_type": "stream",
     "text": [
      "aws s3 cp /shared/CSHL_volumes/MD591/MD591_down32_scoreVolume_clf_30/score_volumes/MD591_down32_scoreVolume_clf_30_VCP_bbox.txt s3://mousebrainatlas-data/CSHL_volumes/MD591/MD591_down32_scoreVolume_clf_30/score_volumes/MD591_down32_scoreVolume_clf_30_VCP_bbox.txt\n"
     ]
    },
    {
     "name": "stderr",
     "output_type": "stream",
     "text": [
      "Child returned 0\n",
      "0.40 seconds.\n"
     ]
    },
    {
     "name": "stdout",
     "output_type": "stream",
     "text": [
      "DC\n"
     ]
    },
    {
     "name": "stderr",
     "output_type": "stream",
     "text": [
      "Load scoremaps: 1.07 seconds\n",
      "Create score volume: 1.57 seconds\n"
     ]
    },
    {
     "name": "stdout",
     "output_type": "stream",
     "text": [
      "aws s3 cp /shared/CSHL_volumes/MD591/MD591_down32_scoreVolume_clf_30/score_volumes/MD591_down32_scoreVolume_clf_30_DC.bp s3://mousebrainatlas-data/CSHL_volumes/MD591/MD591_down32_scoreVolume_clf_30/score_volumes/MD591_down32_scoreVolume_clf_30_DC.bp\n"
     ]
    },
    {
     "name": "stderr",
     "output_type": "stream",
     "text": [
      "Child returned 0\n",
      "1.23 seconds.\n"
     ]
    },
    {
     "name": "stdout",
     "output_type": "stream",
     "text": [
      "aws s3 cp /shared/CSHL_volumes/MD591/MD591_down32_scoreVolume_clf_30/score_volumes/MD591_down32_scoreVolume_clf_30_DC_bbox.txt s3://mousebrainatlas-data/CSHL_volumes/MD591/MD591_down32_scoreVolume_clf_30/score_volumes/MD591_down32_scoreVolume_clf_30_DC_bbox.txt\n"
     ]
    },
    {
     "name": "stderr",
     "output_type": "stream",
     "text": [
      "Child returned 0\n",
      "0.37 seconds.\n"
     ]
    },
    {
     "name": "stdout",
     "output_type": "stream",
     "text": [
      "AP\n"
     ]
    },
    {
     "name": "stderr",
     "output_type": "stream",
     "text": [
      "Load scoremaps: 1.71 seconds\n",
      "Create score volume: 1.50 seconds\n"
     ]
    },
    {
     "name": "stdout",
     "output_type": "stream",
     "text": [
      "aws s3 cp /shared/CSHL_volumes/MD591/MD591_down32_scoreVolume_clf_30/score_volumes/MD591_down32_scoreVolume_clf_30_AP.bp s3://mousebrainatlas-data/CSHL_volumes/MD591/MD591_down32_scoreVolume_clf_30/score_volumes/MD591_down32_scoreVolume_clf_30_AP.bp\n"
     ]
    },
    {
     "name": "stderr",
     "output_type": "stream",
     "text": [
      "Child returned 0\n",
      "1.08 seconds.\n"
     ]
    },
    {
     "name": "stdout",
     "output_type": "stream",
     "text": [
      "aws s3 cp /shared/CSHL_volumes/MD591/MD591_down32_scoreVolume_clf_30/score_volumes/MD591_down32_scoreVolume_clf_30_AP_bbox.txt s3://mousebrainatlas-data/CSHL_volumes/MD591/MD591_down32_scoreVolume_clf_30/score_volumes/MD591_down32_scoreVolume_clf_30_AP_bbox.txt\n"
     ]
    },
    {
     "name": "stderr",
     "output_type": "stream",
     "text": [
      "Child returned 0\n",
      "0.38 seconds.\n"
     ]
    },
    {
     "name": "stdout",
     "output_type": "stream",
     "text": [
      "12N\n"
     ]
    },
    {
     "name": "stderr",
     "output_type": "stream",
     "text": [
      "Load scoremaps: 1.28 seconds\n",
      "Create score volume: 1.50 seconds\n"
     ]
    },
    {
     "name": "stdout",
     "output_type": "stream",
     "text": [
      "aws s3 cp /shared/CSHL_volumes/MD591/MD591_down32_scoreVolume_clf_30/score_volumes/MD591_down32_scoreVolume_clf_30_12N.bp s3://mousebrainatlas-data/CSHL_volumes/MD591/MD591_down32_scoreVolume_clf_30/score_volumes/MD591_down32_scoreVolume_clf_30_12N.bp\n"
     ]
    },
    {
     "name": "stderr",
     "output_type": "stream",
     "text": [
      "Child returned 0\n",
      "1.30 seconds.\n"
     ]
    },
    {
     "name": "stdout",
     "output_type": "stream",
     "text": [
      "aws s3 cp /shared/CSHL_volumes/MD591/MD591_down32_scoreVolume_clf_30/score_volumes/MD591_down32_scoreVolume_clf_30_12N_bbox.txt s3://mousebrainatlas-data/CSHL_volumes/MD591/MD591_down32_scoreVolume_clf_30/score_volumes/MD591_down32_scoreVolume_clf_30_12N_bbox.txt\n"
     ]
    },
    {
     "name": "stderr",
     "output_type": "stream",
     "text": [
      "Child returned 0\n",
      "0.37 seconds.\n"
     ]
    },
    {
     "name": "stdout",
     "output_type": "stream",
     "text": [
      "RtTg\n"
     ]
    },
    {
     "name": "stderr",
     "output_type": "stream",
     "text": [
      "Load scoremaps: 1.17 seconds\n",
      "Create score volume: 1.52 seconds\n"
     ]
    },
    {
     "name": "stdout",
     "output_type": "stream",
     "text": [
      "aws s3 cp /shared/CSHL_volumes/MD591/MD591_down32_scoreVolume_clf_30/score_volumes/MD591_down32_scoreVolume_clf_30_RtTg.bp s3://mousebrainatlas-data/CSHL_volumes/MD591/MD591_down32_scoreVolume_clf_30/score_volumes/MD591_down32_scoreVolume_clf_30_RtTg.bp\n"
     ]
    },
    {
     "name": "stderr",
     "output_type": "stream",
     "text": [
      "Child returned 0\n",
      "0.99 seconds.\n"
     ]
    },
    {
     "name": "stdout",
     "output_type": "stream",
     "text": [
      "aws s3 cp /shared/CSHL_volumes/MD591/MD591_down32_scoreVolume_clf_30/score_volumes/MD591_down32_scoreVolume_clf_30_RtTg_bbox.txt s3://mousebrainatlas-data/CSHL_volumes/MD591/MD591_down32_scoreVolume_clf_30/score_volumes/MD591_down32_scoreVolume_clf_30_RtTg_bbox.txt\n"
     ]
    },
    {
     "name": "stderr",
     "output_type": "stream",
     "text": [
      "Child returned 0\n",
      "0.38 seconds.\n",
      "Number of valid scoremaps for sp5 is less than 2.\n",
      "Number of valid scoremaps for outerContour is less than 2.\n"
     ]
    },
    {
     "name": "stdout",
     "output_type": "stream",
     "text": [
      "sp5\n",
      "outerContour\n",
      "SC\n"
     ]
    },
    {
     "name": "stderr",
     "output_type": "stream",
     "text": [
      "Load scoremaps: 1.05 seconds\n",
      "Create score volume: 1.52 seconds\n"
     ]
    },
    {
     "name": "stdout",
     "output_type": "stream",
     "text": [
      "aws s3 cp /shared/CSHL_volumes/MD591/MD591_down32_scoreVolume_clf_30/score_volumes/MD591_down32_scoreVolume_clf_30_SC.bp s3://mousebrainatlas-data/CSHL_volumes/MD591/MD591_down32_scoreVolume_clf_30/score_volumes/MD591_down32_scoreVolume_clf_30_SC.bp\n"
     ]
    },
    {
     "name": "stderr",
     "output_type": "stream",
     "text": [
      "Child returned 0\n",
      "1.15 seconds.\n"
     ]
    },
    {
     "name": "stdout",
     "output_type": "stream",
     "text": [
      "aws s3 cp /shared/CSHL_volumes/MD591/MD591_down32_scoreVolume_clf_30/score_volumes/MD591_down32_scoreVolume_clf_30_SC_bbox.txt s3://mousebrainatlas-data/CSHL_volumes/MD591/MD591_down32_scoreVolume_clf_30/score_volumes/MD591_down32_scoreVolume_clf_30_SC_bbox.txt\n"
     ]
    },
    {
     "name": "stderr",
     "output_type": "stream",
     "text": [
      "Child returned 0\n",
      "0.44 seconds.\n"
     ]
    },
    {
     "name": "stdout",
     "output_type": "stream",
     "text": [
      "IC\n"
     ]
    },
    {
     "name": "stderr",
     "output_type": "stream",
     "text": [
      "Load scoremaps: 1.04 seconds\n",
      "Create score volume: 2.04 seconds\n"
     ]
    },
    {
     "name": "stdout",
     "output_type": "stream",
     "text": [
      "aws s3 cp /shared/CSHL_volumes/MD591/MD591_down32_scoreVolume_clf_30/score_volumes/MD591_down32_scoreVolume_clf_30_IC.bp s3://mousebrainatlas-data/CSHL_volumes/MD591/MD591_down32_scoreVolume_clf_30/score_volumes/MD591_down32_scoreVolume_clf_30_IC.bp\n"
     ]
    },
    {
     "name": "stderr",
     "output_type": "stream",
     "text": [
      "Child returned 0\n",
      "1.03 seconds.\n"
     ]
    },
    {
     "name": "stdout",
     "output_type": "stream",
     "text": [
      "aws s3 cp /shared/CSHL_volumes/MD591/MD591_down32_scoreVolume_clf_30/score_volumes/MD591_down32_scoreVolume_clf_30_IC_bbox.txt s3://mousebrainatlas-data/CSHL_volumes/MD591/MD591_down32_scoreVolume_clf_30/score_volumes/MD591_down32_scoreVolume_clf_30_IC_bbox.txt\n"
     ]
    },
    {
     "name": "stderr",
     "output_type": "stream",
     "text": [
      "Child returned 0\n",
      "0.38 seconds.\n"
     ]
    }
   ],
   "source": [
    "for stack in ['MD591']:\n",
    "    \n",
    "    first_sec, last_sec = metadata_cache['section_limits'][stack]\n",
    "    \n",
    "    for structure in all_known_structures:\n",
    "#     for structure in ['7N']:\n",
    "        print structure\n",
    "    \n",
    "        t = time.time()\n",
    "#         scoremaps = load_scoremaps_multiple_sections_parallel(stack=stack, sections=range(first_sec, last_sec+1), \n",
    "#                                                         structure=structure, downscale=downscale, classifier_setting=classifier_id)\n",
    "        scoremaps = load_downscaled_scoremaps_multiple_sections_sequential(stack=stack, sections=range(first_sec, last_sec+1), \n",
    "                                                structure=structure, downscale=downscale, classifier_setting=classifier_id)\n",
    "        \n",
    "        if len(scoremaps) < 2:\n",
    "            sys.stderr.write('Number of valid scoremaps for %s is less than 2.\\n' % structure)\n",
    "            continue\n",
    "        \n",
    "        sys.stderr.write('Load scoremaps: %.2f seconds\\n' % (time.time() - t)) # 10-40s (down=32, 12 processes)\n",
    "        \n",
    "        t = time.time()\n",
    "        score_volume, score_volume_bbox = images_to_volume(images=scoremaps, voxel_size=(1, 1, voxel_z_size), \n",
    "                                                           first_sec=first_sec-1, last_sec=last_sec-1)\n",
    "        sys.stderr.write('Create score volume: %.2f seconds\\n' % (time.time() - t)) # 2s\n",
    "        \n",
    "#         t = time.time()\n",
    "\n",
    "        score_volume_filepath = DataManager.get_score_volume_filepath(stack=stack, downscale=downscale, structure=structure, classifier_setting=classifier_id)\n",
    "        create_parent_dir_if_not_exists(score_volume_filepath)\n",
    "        bp.pack_ndarray_file(score_volume.astype(np.float16), score_volume_filepath)\n",
    "\n",
    "        score_volume_bbox_filepath = DataManager.get_score_volume_bbox_filepath(stack=stack, downscale=downscale, structure=structure,\n",
    "                                                                               classifier_setting=classifier_id)\n",
    "        np.savetxt(score_volume_bbox_filepath, np.array(score_volume_bbox)[None], fmt='%d')\n",
    "        \n",
    "        upload_from_ec2_to_s3(score_volume_filepath)\n",
    "        upload_from_ec2_to_s3(score_volume_bbox_filepath)\n",
    "        \n",
    "        del score_volume, scoremaps\n",
    "        \n",
    "#         sys.stderr.write('Save score volume: %.2f seconds\\n' % (time.time() - t)) # 1s (down=32)"
   ]
  },
  {
   "cell_type": "markdown",
   "metadata": {
    "collapsed": true
   },
   "source": [
    "# Read"
   ]
  },
  {
   "cell_type": "code",
   "execution_count": 25,
   "metadata": {
    "scrolled": true
   },
   "outputs": [
    {
     "name": "stdout",
     "output_type": "stream",
     "text": [
      "5N\n",
      "6N\n",
      "7N\n",
      "7n\n",
      "Amb\n",
      "LC\n",
      "LRt\n",
      "Pn\n",
      "Tz\n",
      "VLL\n",
      "RMC\n",
      "SNC\n",
      "SNR\n",
      "3N\n",
      "4N\n",
      "Sp5I\n",
      "Sp5O\n",
      "Sp5C\n",
      "PBG\n",
      "10N\n",
      "VCA\n",
      "VCP\n",
      "DC\n",
      "AP\n",
      "12N\n",
      "RtTg\n",
      "sp5\n",
      "outerContour\n",
      "SC\n"
     ]
    },
    {
     "name": "stderr",
     "output_type": "stream",
     "text": [
      "File does not exist: /oasis/projects/nsf/csd395/yuncong/CSHL_volumes/MD642/MD642_down32_scoreVolume_clf_2/score_volumes/MD642_down32_scoreVolume_clf_2_sp5.bp\n",
      "File does not exist: /oasis/projects/nsf/csd395/yuncong/CSHL_volumes/MD642/MD642_down32_scoreVolume_clf_2/score_volumes/MD642_down32_scoreVolume_clf_2_outerContour.bp\n"
     ]
    },
    {
     "name": "stdout",
     "output_type": "stream",
     "text": [
      "IC\n"
     ]
    }
   ],
   "source": [
    "for structure in all_known_structures:\n",
    "    print structure\n",
    "    try:\n",
    "        score_volume = DataManager.load_score_volume(stack='MD642', structure=structure, downscale=32, \n",
    "                                                 classifier_setting=classifier_setting)\n",
    "        score_volume_cropped = score_volume[:, :600, :]\n",
    "\n",
    "        score_volume_filepath = DataManager.get_score_volume_filepath(stack=stack, downscale=downscale, \n",
    "                                                                  structure=structure, \n",
    "                                                                  classifier_setting=classifier_setting)\n",
    "        create_if_not_exists(os.path.dirname(score_volume_filepath))\n",
    "        bp.pack_ndarray_file(score_volume_cropped.astype(np.float16), score_volume_filepath)\n",
    "    except:\n",
    "        pass"
   ]
  },
  {
   "cell_type": "code",
   "execution_count": null,
   "metadata": {
    "collapsed": true,
    "scrolled": false
   },
   "outputs": [],
   "source": [
    "display_volume_sections(score_volume_cropped, cmap=plt.cm.hot, every=10)"
   ]
  }
 ],
 "metadata": {
  "kernelspec": {
   "display_name": "Python 2",
   "language": "python",
   "name": "python2"
  },
  "language_info": {
   "codemirror_mode": {
    "name": "ipython",
    "version": 2
   },
   "file_extension": ".py",
   "mimetype": "text/x-python",
   "name": "python",
   "nbconvert_exporter": "python",
   "pygments_lexer": "ipython2",
   "version": "2.7.12"
  }
 },
 "nbformat": 4,
 "nbformat_minor": 1
}
