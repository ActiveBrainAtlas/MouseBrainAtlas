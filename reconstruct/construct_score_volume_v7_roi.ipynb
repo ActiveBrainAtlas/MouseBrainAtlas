{
 "cells": [
  {
   "cell_type": "code",
   "execution_count": 1,
   "metadata": {},
   "outputs": [
    {
     "name": "stdout",
     "output_type": "stream",
     "text": [
      "Setting environment for Precision WorkStation\n"
     ]
    },
    {
     "name": "stderr",
     "output_type": "stream",
     "text": [
      "No vtk\n"
     ]
    }
   ],
   "source": [
    "%load_ext autoreload\n",
    "%autoreload 2\n",
    "\n",
    "import sys\n",
    "import os\n",
    "import time\n",
    "\n",
    "import matplotlib.pyplot as plt\n",
    "%matplotlib inline\n",
    "from multiprocess import Pool\n",
    "import numpy as np\n",
    "\n",
    "sys.path.append(os.environ['REPO_DIR'] + '/utilities')\n",
    "from utilities2015 import *\n",
    "from metadata import *\n",
    "from data_manager import *"
   ]
  },
  {
   "cell_type": "code",
   "execution_count": 2,
   "metadata": {},
   "outputs": [],
   "source": [
    "atlas_spec = dict(name='atlasV6',\n",
    "                   vol_type='score'    ,               \n",
    "                    resolution='10.0um'\n",
    "                   )"
   ]
  },
  {
   "cell_type": "code",
   "execution_count": 3,
   "metadata": {
    "scrolled": true
   },
   "outputs": [
    {
     "name": "stderr",
     "output_type": "stream",
     "text": [
      "Prior structure/index map not found. Generating a new one.\n"
     ]
    }
   ],
   "source": [
    "atlas_structures_wrt_canonicalAtlasSpace_atlasResol = \\\n",
    "DataManager.load_original_volume_all_known_structures_v3(atlas_spec, in_bbox_wrt='canonicalAtlasSpace',\n",
    "                                                        out_bbox_wrt='canonicalAtlasSpace')"
   ]
  },
  {
   "cell_type": "code",
   "execution_count": 4,
   "metadata": {},
   "outputs": [],
   "source": [
    "atlas_structure_centroids_wrt_canonicalAtlasSpace_atlasResol = get_structure_centroids(vol_origin_dict=atlas_structures_wrt_canonicalAtlasSpace_atlasResol)"
   ]
  },
  {
   "cell_type": "code",
   "execution_count": 5,
   "metadata": {
    "collapsed": true
   },
   "outputs": [],
   "source": [
    "atlas_anchor1_wrt_canonicalAtlasSpace_atlasResol = \\\n",
    "np.r_[atlas_structure_centroids_wrt_canonicalAtlasSpace_atlasResol['12N'][:2], 0]\n",
    "atlas_anchor2_wrt_canonicalAtlasSpace_atlasResol = \\\n",
    "np.r_[atlas_structure_centroids_wrt_canonicalAtlasSpace_atlasResol['3N_L'][:2], 0]"
   ]
  },
  {
   "cell_type": "code",
   "execution_count": 7,
   "metadata": {
    "collapsed": true
   },
   "outputs": [],
   "source": [
    "stack = 'CHATM2'"
   ]
  },
  {
   "cell_type": "code",
   "execution_count": 8,
   "metadata": {},
   "outputs": [],
   "source": [
    "if stack == 'CHATM2':\n",
    "    subject_anchor1_wrt_wholebrainWithMargin_atlasResol = np.array([565,246,179]) * 20. / 10. # 12N\n",
    "    subject_anchor2_wrt_wholebrainWithMargin_atlasResol = np.array([388,183,179]) * 20. / 10. # 3N_L\n",
    "elif stack == 'CHATM3':\n",
    "    subject_anchor1_wrt_wholebrainWithMargin_atlasResol = np.array([740,258,230]) * 20. / 10.\n",
    "    subject_anchor2_wrt_wholebrainWithMargin_atlasResol = np.array([550,195,230]) * 20. / 10."
   ]
  },
  {
   "cell_type": "code",
   "execution_count": 16,
   "metadata": {
    "collapsed": true
   },
   "outputs": [],
   "source": [
    "from registration_utilities import *"
   ]
  },
  {
   "cell_type": "code",
   "execution_count": 17,
   "metadata": {
    "collapsed": true
   },
   "outputs": [],
   "source": [
    "def align_anchors(pm1, pm2, pf1, pf2):\n",
    "    \n",
    "    t = ((pf1 + pf2) / 2. - (pm1 + pm2) / 2.)\n",
    "\n",
    "    subject_d = pf1 - pf2\n",
    "    atlas_d = pm1 - pm2\n",
    "\n",
    "    subject_d_n = subject_d / np.linalg.norm(subject_d)\n",
    "    atlas_d_n = atlas_d / np.linalg.norm(atlas_d)\n",
    "\n",
    "    R = R_align_two_vectors(atlas_d_n, subject_d_n)\n",
    "\n",
    "    T = np.zeros((3,4))\n",
    "    T[:3, :3] = R\n",
    "    T[:3, 3] = t\n",
    "    \n",
    "    return T"
   ]
  },
  {
   "cell_type": "code",
   "execution_count": 29,
   "metadata": {},
   "outputs": [],
   "source": [
    "T_atlas_subject_atlasResol = align_anchors(atlas_anchor1_wrt_canonicalAtlasSpace_atlasResol, atlas_anchor2_wrt_canonicalAtlasSpace_atlasResol,\n",
    "             subject_anchor1_wrt_wholebrainWithMargin_atlasResol, subject_anchor2_wrt_wholebrainWithMargin_atlasResol)"
   ]
  },
  {
   "cell_type": "code",
   "execution_count": 31,
   "metadata": {},
   "outputs": [
    {
     "name": "stdout",
     "output_type": "stream",
     "text": [
      "[[ 9.90767489e-01  1.35582009e-01  0.00000000e+00  9.22098379e+02]\n",
      " [-1.35582009e-01  9.90767489e-01  0.00000000e+00  4.48968802e+02]\n",
      " [ 0.00000000e+00  0.00000000e+00  1.00000000e+00  3.58000000e+02]]\n"
     ]
    }
   ],
   "source": [
    "print T_atlas_subject_atlasResol"
   ]
  },
  {
   "cell_type": "code",
   "execution_count": 20,
   "metadata": {
    "scrolled": true
   },
   "outputs": [
    {
     "name": "stderr",
     "output_type": "stream",
     "text": [
      "/home/yuncong/Brain/utilities/registration_utilities.py:1545: FutureWarning: Conversion of the second argument of issubdtype from `float` to `np.floating` is deprecated. In future, it will be treated as `np.float64 == np.dtype(float).type`.\n",
      "  if np.issubdtype(volume_m_aligned_to_f.dtype, np.float):\n",
      "Interpolating/filling sparse volume: 0.17 seconds.\n",
      "Interpolating/filling sparse volume: 0.62 seconds.\n",
      "Interpolating/filling sparse volume: 0.16 seconds.\n",
      "Interpolating/filling sparse volume: 0.11 seconds.\n",
      "Interpolating/filling sparse volume: 0.03 seconds.\n",
      "Interpolating/filling sparse volume: 0.36 seconds.\n",
      "Interpolating/filling sparse volume: 0.23 seconds.\n",
      "Interpolating/filling sparse volume: 0.09 seconds.\n",
      "Interpolating/filling sparse volume: 0.03 seconds.\n",
      "Interpolating/filling sparse volume: 0.39 seconds.\n",
      "Interpolating/filling sparse volume: 0.54 seconds.\n",
      "Interpolating/filling sparse volume: 0.14 seconds.\n",
      "Interpolating/filling sparse volume: 0.11 seconds.\n",
      "Interpolating/filling sparse volume: 0.21 seconds.\n",
      "Interpolating/filling sparse volume: 0.37 seconds.\n",
      "Interpolating/filling sparse volume: 0.05 seconds.\n",
      "Interpolating/filling sparse volume: 0.09 seconds.\n",
      "Interpolating/filling sparse volume: 0.37 seconds.\n",
      "Interpolating/filling sparse volume: 0.21 seconds.\n",
      "Interpolating/filling sparse volume: 0.19 seconds.\n",
      "Interpolating/filling sparse volume: 0.12 seconds.\n",
      "Interpolating/filling sparse volume: 0.01 seconds.\n",
      "Interpolating/filling sparse volume: 0.01 seconds.\n",
      "Interpolating/filling sparse volume: 0.19 seconds.\n",
      "Interpolating/filling sparse volume: 0.05 seconds.\n",
      "Interpolating/filling sparse volume: 0.07 seconds.\n",
      "Interpolating/filling sparse volume: 0.10 seconds.\n",
      "Interpolating/filling sparse volume: 0.10 seconds.\n",
      "Interpolating/filling sparse volume: 0.02 seconds.\n",
      "Interpolating/filling sparse volume: 0.07 seconds.\n",
      "Interpolating/filling sparse volume: 0.20 seconds.\n",
      "Interpolating/filling sparse volume: 0.01 seconds.\n",
      "Interpolating/filling sparse volume: 0.01 seconds.\n",
      "Interpolating/filling sparse volume: 1.62 seconds.\n",
      "Interpolating/filling sparse volume: 0.12 seconds.\n",
      "Interpolating/filling sparse volume: 0.20 seconds.\n",
      "Interpolating/filling sparse volume: 0.01 seconds.\n",
      "Interpolating/filling sparse volume: 0.09 seconds.\n",
      "Interpolating/filling sparse volume: 0.03 seconds.\n",
      "Interpolating/filling sparse volume: 0.06 seconds.\n",
      "Interpolating/filling sparse volume: 0.19 seconds.\n",
      "Interpolating/filling sparse volume: 0.01 seconds.\n",
      "Interpolating/filling sparse volume: 0.04 seconds.\n",
      "Interpolating/filling sparse volume: 0.04 seconds.\n",
      "Interpolating/filling sparse volume: 0.19 seconds.\n",
      "Interpolating/filling sparse volume: 0.01 seconds.\n",
      "Interpolating/filling sparse volume: 0.03 seconds.\n",
      "Interpolating/filling sparse volume: 0.06 seconds.\n",
      "Interpolating/filling sparse volume: 2.35 seconds.\n",
      "Interpolating/filling sparse volume: 0.09 seconds.\n",
      "Interpolating/filling sparse volume: 0.01 seconds.\n"
     ]
    }
   ],
   "source": [
    "atlas_structures_wrt_wholebrainWithMargin_atlasResol = \\\n",
    "{name_s: transform_volume_v4(volume=vo, transform=T_atlas_subject_atlasResol, return_origin_instead_of_bbox=True)\n",
    "for name_s, vo in atlas_structures_wrt_canonicalAtlasSpace_atlasResol.iteritems()}"
   ]
  },
  {
   "cell_type": "code",
   "execution_count": 21,
   "metadata": {
    "scrolled": true
   },
   "outputs": [],
   "source": [
    "atlas_structures_bbox_wrt_wholebrainWithMargin_atlasResol = \\\n",
    "{name_s: (o[0], o[0] + v.shape[1] - 1, o[1], o[1] + v.shape[0] - 1, o[2], o[2] + v.shape[2] - 1)\n",
    " for name_s, (v, o) in atlas_structures_wrt_wholebrainWithMargin_atlasResol.iteritems()}"
   ]
  },
  {
   "cell_type": "code",
   "execution_count": null,
   "metadata": {
    "collapsed": true
   },
   "outputs": [],
   "source": []
  },
  {
   "cell_type": "code",
   "execution_count": 22,
   "metadata": {},
   "outputs": [],
   "source": [
    "# int(np.round(metadata_cache['section_limits'][stack].mean()))"
   ]
  },
  {
   "cell_type": "code",
   "execution_count": 23,
   "metadata": {
    "collapsed": true
   },
   "outputs": [],
   "source": [
    "converter = CoordinatesConverter(stack=stack)"
   ]
  },
  {
   "cell_type": "code",
   "execution_count": 24,
   "metadata": {},
   "outputs": [],
   "source": [
    "intensity_volume_spec = dict(name=stack, resolution='10.0um', prep_id='wholebrainWithMargin', vol_type='intensity')\n",
    "_, thumbnail_volume_origin_wrt_wholebrain_dataResol = DataManager.load_original_volume_v2(intensity_volume_spec, return_origin_instead_of_bbox=True)"
   ]
  },
  {
   "cell_type": "code",
   "execution_count": 25,
   "metadata": {
    "collapsed": true
   },
   "outputs": [],
   "source": [
    "converter.derive_three_view_frames(base_frame_name='wholebrainWithMargin', \n",
    "                                   origin_wrt_wholebrain_um=thumbnail_volume_origin_wrt_wholebrain_dataResol)"
   ]
  },
  {
   "cell_type": "code",
   "execution_count": 26,
   "metadata": {
    "collapsed": true
   },
   "outputs": [],
   "source": [
    "converter.register_new_resolution('image', convert_resolution_string_to_um(resolution='raw', stack=stack))"
   ]
  },
  {
   "cell_type": "code",
   "execution_count": 27,
   "metadata": {
    "scrolled": true
   },
   "outputs": [],
   "source": [
    "atlas_structures_wrt_wholebrainWithMargin_section_limits = {}\n",
    "\n",
    "for name_s, b in atlas_structures_bbox_wrt_wholebrainWithMargin_atlasResol.iteritems():\n",
    "#     print name_s\n",
    "    atlas_structures_wrt_wholebrainWithMargin_section_limits[name_s] = \\\n",
    "    converter.convert_frame_and_resolution(p=[[np.nan, np.nan, b[4]], [np.nan, np.nan, b[5]]], \n",
    "                                       in_wrt=('wholebrainWithMargin', 'sagittal'),\n",
    "                                      in_resolution='10.0um',\n",
    "                                      out_wrt='wholebrain',\n",
    "                                      out_resolution='image_image_section')[:,2].astype(np.int)"
   ]
  },
  {
   "cell_type": "code",
   "execution_count": 28,
   "metadata": {
    "scrolled": true
   },
   "outputs": [],
   "source": [
    "save_json(atlas_structures_wrt_wholebrainWithMargin_section_limits, '/home/yuncong/' + stack + '_structure_section_limits.json')"
   ]
  },
  {
   "cell_type": "code",
   "execution_count": null,
   "metadata": {
    "collapsed": true
   },
   "outputs": [],
   "source": []
  },
  {
   "cell_type": "code",
   "execution_count": null,
   "metadata": {
    "collapsed": true
   },
   "outputs": [],
   "source": [
    "stack_f_spec = dict(name='CHATM3',\n",
    "                   vol_type='score',\n",
    "                   detector_id=799,\n",
    "                   structure=convert_to_original_name(structure_m),\n",
    "                    resolution='10.0um'\n",
    "                   )\n",
    "\n",
    "local_alignment_spec = dict(stack_m=stack_m_spec, \n",
    "                      stack_f=stack_f_spec,\n",
    "                      warp_setting=27)"
   ]
  }
 ],
 "metadata": {
  "kernelspec": {
   "display_name": "Python 2",
   "language": "python",
   "name": "python2"
  },
  "language_info": {
   "codemirror_mode": {
    "name": "ipython",
    "version": 2
   },
   "file_extension": ".py",
   "mimetype": "text/x-python",
   "name": "python",
   "nbconvert_exporter": "python",
   "pygments_lexer": "ipython2",
   "version": "2.7.12"
  }
 },
 "nbformat": 4,
 "nbformat_minor": 2
}
