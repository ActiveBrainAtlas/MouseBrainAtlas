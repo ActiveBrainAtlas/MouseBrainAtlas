{
 "cells": [
  {
   "cell_type": "code",
   "execution_count": 6,
   "metadata": {
    "scrolled": true
   },
   "outputs": [
    {
     "name": "stderr",
     "output_type": "stream",
     "text": [
      "/home/yuncong/Brain/utilities/utilities2015.py:2: UserWarning: \n",
      "This call to matplotlib.use() has no effect because the backend has already\n",
      "been chosen; matplotlib.use() must be called *before* pylab, matplotlib.pyplot,\n",
      "or matplotlib.backends is imported for the first time.\n",
      "\n",
      "The backend was *originally* set to 'module://ipykernel.pylab.backend_inline' by the following code:\n",
      "  File \"/usr/lib/python2.7/runpy.py\", line 174, in _run_module_as_main\n",
      "    \"__main__\", fname, loader, pkg_name)\n",
      "  File \"/usr/lib/python2.7/runpy.py\", line 72, in _run_code\n",
      "    exec code in run_globals\n",
      "  File \"/usr/local/lib/python2.7/dist-packages/ipykernel_launcher.py\", line 16, in <module>\n",
      "    app.launch_new_instance()\n",
      "  File \"/usr/local/lib/python2.7/dist-packages/traitlets/config/application.py\", line 658, in launch_instance\n",
      "    app.start()\n",
      "  File \"/usr/local/lib/python2.7/dist-packages/ipykernel/kernelapp.py\", line 477, in start\n",
      "    ioloop.IOLoop.instance().start()\n",
      "  File \"/usr/local/lib/python2.7/dist-packages/zmq/eventloop/ioloop.py\", line 177, in start\n",
      "    super(ZMQIOLoop, self).start()\n",
      "  File \"/usr/local/lib/python2.7/dist-packages/tornado/ioloop.py\", line 888, in start\n",
      "    handler_func(fd_obj, events)\n",
      "  File \"/usr/local/lib/python2.7/dist-packages/tornado/stack_context.py\", line 277, in null_wrapper\n",
      "    return fn(*args, **kwargs)\n",
      "  File \"/usr/local/lib/python2.7/dist-packages/zmq/eventloop/zmqstream.py\", line 440, in _handle_events\n",
      "    self._handle_recv()\n",
      "  File \"/usr/local/lib/python2.7/dist-packages/zmq/eventloop/zmqstream.py\", line 472, in _handle_recv\n",
      "    self._run_callback(callback, msg)\n",
      "  File \"/usr/local/lib/python2.7/dist-packages/zmq/eventloop/zmqstream.py\", line 414, in _run_callback\n",
      "    callback(*args, **kwargs)\n",
      "  File \"/usr/local/lib/python2.7/dist-packages/tornado/stack_context.py\", line 277, in null_wrapper\n",
      "    return fn(*args, **kwargs)\n",
      "  File \"/usr/local/lib/python2.7/dist-packages/ipykernel/kernelbase.py\", line 283, in dispatcher\n",
      "    return self.dispatch_shell(stream, msg)\n",
      "  File \"/usr/local/lib/python2.7/dist-packages/ipykernel/kernelbase.py\", line 235, in dispatch_shell\n",
      "    handler(stream, idents, msg)\n",
      "  File \"/usr/local/lib/python2.7/dist-packages/ipykernel/kernelbase.py\", line 399, in execute_request\n",
      "    user_expressions, allow_stdin)\n",
      "  File \"/usr/local/lib/python2.7/dist-packages/ipykernel/ipkernel.py\", line 196, in do_execute\n",
      "    res = shell.run_cell(code, store_history=store_history, silent=silent)\n",
      "  File \"/usr/local/lib/python2.7/dist-packages/ipykernel/zmqshell.py\", line 533, in run_cell\n",
      "    return super(ZMQInteractiveShell, self).run_cell(*args, **kwargs)\n",
      "  File \"/usr/local/lib/python2.7/dist-packages/IPython/core/interactiveshell.py\", line 2718, in run_cell\n",
      "    interactivity=interactivity, compiler=compiler, result=result)\n",
      "  File \"/usr/local/lib/python2.7/dist-packages/IPython/core/interactiveshell.py\", line 2822, in run_ast_nodes\n",
      "    if self.run_code(code, result):\n",
      "  File \"/usr/local/lib/python2.7/dist-packages/IPython/core/interactiveshell.py\", line 2882, in run_code\n",
      "    exec(code_obj, self.user_global_ns, self.user_ns)\n",
      "  File \"<ipython-input-1-3cbb5e47adf4>\", line 9, in <module>\n",
      "    get_ipython().magic(u'matplotlib inline')\n",
      "  File \"/usr/local/lib/python2.7/dist-packages/IPython/core/interactiveshell.py\", line 2160, in magic\n",
      "    return self.run_line_magic(magic_name, magic_arg_s)\n",
      "  File \"/usr/local/lib/python2.7/dist-packages/IPython/core/interactiveshell.py\", line 2081, in run_line_magic\n",
      "    result = fn(*args,**kwargs)\n",
      "  File \"<decorator-gen-105>\", line 2, in matplotlib\n",
      "  File \"/usr/local/lib/python2.7/dist-packages/IPython/core/magic.py\", line 188, in <lambda>\n",
      "    call = lambda f, *a, **k: f(*a, **k)\n",
      "  File \"/usr/local/lib/python2.7/dist-packages/IPython/core/magics/pylab.py\", line 100, in matplotlib\n",
      "    gui, backend = self.shell.enable_matplotlib(args.gui)\n",
      "  File \"/usr/local/lib/python2.7/dist-packages/IPython/core/interactiveshell.py\", line 2950, in enable_matplotlib\n",
      "    pt.activate_matplotlib(backend)\n",
      "  File \"/usr/local/lib/python2.7/dist-packages/IPython/core/pylabtools.py\", line 308, in activate_matplotlib\n",
      "    matplotlib.pyplot.switch_backend(backend)\n",
      "  File \"/usr/local/lib/python2.7/dist-packages/matplotlib/pyplot.py\", line 232, in switch_backend\n",
      "    matplotlib.use(newbackend, warn=False, force=True)\n",
      "  File \"/usr/local/lib/python2.7/dist-packages/matplotlib/__init__.py\", line 1305, in use\n",
      "    reload(sys.modules['matplotlib.backends'])\n",
      "  File \"/usr/local/lib/python2.7/dist-packages/matplotlib/backends/__init__.py\", line 14, in <module>\n",
      "    line for line in traceback.format_stack()\n",
      "\n",
      "\n",
      "  matplotlib.use('Agg')\n",
      "[autoreload of utilities2015 failed: Traceback (most recent call last):\n",
      "  File \"/usr/local/lib/python2.7/dist-packages/IPython/extensions/autoreload.py\", line 247, in check\n",
      "    superreload(m, reload, self.old_objects)\n",
      "AttributeError: __abstractmethods__\n",
      "]\n",
      "No vtk\n",
      "No vtkNot using image_cache.\n",
      "Not using image_cache.\n",
      "Not using image_cache.\n",
      "Not using image_cache.\n",
      "Not using image_cache.\n",
      "Not using image_cache.\n",
      "Not using image_cache.\n",
      "Not using image_cache.\n",
      "Not using image_cache.\n",
      "Not using image_cache.\n",
      "Not using image_cache.\n",
      "Not using image_cache.\n",
      "Not using image_cache.\n"
     ]
    },
    {
     "name": "stdout",
     "output_type": "stream",
     "text": [
      "/media/yuncong/BstemAtlasData/CSHL_data_processed/MD585/MD585_prep2_thumbnail/MD585-N16-2015.07.16-20.32.33_MD585_2_0047_prep2_thumbnail.tif\n",
      "/media/yuncong/BstemAtlasData/CSHL_data_processed/MD589/MD589_prep2_thumbnail/MD589-N16-2015.07.30-17.03.43_MD589_3_0048_prep2_thumbnail.tif\n",
      "/media/yuncong/BstemAtlasData/CSHL_data_processed/MD590/MD590_prep2_thumbnail/MD590-IHC17-2015.08.10-19.09.09_MD590_2_0050_prep2_thumbnail.tif\n",
      "/media/yuncong/BstemAtlasData/CSHL_data_processed/MD591/MD591_prep2_thumbnail/MD591-IHC17-2015.08.28-04.23.47_MD591_1_0049_prep2_thumbnail.tif\n",
      "/media/yuncong/BstemAtlasData/CSHL_data_processed/MD592/MD592_prep2_thumbnail/MD592-N16-2015.08.22-00.50.39_MD592_2_0047_prep2_thumbnail.tif\n",
      "/media/yuncong/BstemAtlasData/CSHL_data_processed/MD593/MD593_prep2_thumbnail/MD593-N15-2015.08.21-16.53.02_MD593_3_0045_prep2_thumbnail.tif\n",
      "/media/yuncong/BstemAtlasData/CSHL_data_processed/MD594/MD594_prep2_thumbnail/MD594-IHC16-2015.08.26-16.11.01_MD594_1_0046_prep2_thumbnail.tif\n",
      "/media/yuncong/BstemAtlasData/CSHL_data_processed/MD595/MD595_prep2_thumbnail/MD595-IHC12-2015.09.15-01.21.39_MD595_2_0035_prep2_thumbnail.tif\n",
      "/media/yuncong/BstemAtlasData/CSHL_data_processed/MD598/MD598_prep2_thumbnail/MD598-N18-2015.09.29-17.40.03_MD598_3_0054_prep2_thumbnail.tif\n",
      "/media/yuncong/BstemAtlasData/CSHL_data_processed/MD599/MD599_prep2_thumbnail/MD599-N19-2015.10.02-18.12.13_MD599_3_0057_prep2_thumbnail.tif\n",
      "/media/yuncong/BstemAtlasData/CSHL_data_processed/MD602/MD602_prep2_thumbnail/MD602-N19-2015.12.01-16.24.09_MD602_2_0056_prep2_thumbnail.tif\n",
      "/media/yuncong/BstemAtlasData/CSHL_data_processed/MD603/MD603_prep2_thumbnail/MD603-N11-2016.03.02-12.51.47_MD603_1_0031_prep2_thumbnail.tif\n",
      "/media/yuncong/BstemAtlasData/CSHL_data_processed/MD635/MD635_prep2_thumbnail/MD635-F25-2016.05.18-21.02.30_MD635_3_0075_prep2_thumbnail.tif\n",
      "/media/yuncong/BstemAtlasData/CSHL_data_processed/MD653/MD653_prep2_thumbnail/MD653-F15-2016.12.20-21.04.12_MD653_1_0043_prep2_thumbnail.tif\n",
      "/media/yuncong/BstemAtlasData/CSHL_data_processed/MD652/MD652_prep2_thumbnail/MD652-F15-2016.12.16-20.45.52_MD652_3_0045_prep2_thumbnail.tif\n",
      "/media/yuncong/BstemAtlasData/CSHL_data_processed/MD642/MD642_prep2_thumbnail/MD642-N14-2017.01.18-16.25.58_MD642_2_0041_prep2_thumbnail.tif\n",
      "/media/yuncong/BstemAtlasData/CSHL_data_processed/MD657/MD657_prep2_thumbnail/MD657-N13-2017.02.22-14.33.34_MD657_3_0039_prep2_thumbnail.tif\n",
      "/media/yuncong/BstemAtlasData/CSHL_data_processed/MD658/MD658_prep2_thumbnail/MD658-N18-2017.03.31-17.34.22_MD658_2_0053_prep2_thumbnail.tif\n",
      "/media/yuncong/BstemAtlasData/CSHL_data_processed/MD661/MD661_prep2_thumbnail/MD662&661-F30-2017.06.05-14.49.48_MD661_1_0088_prep2_thumbnail.tif\n",
      "/media/yuncong/BstemAtlasData/CSHL_data_processed/MD662/MD662_prep2_thumbnail/MD662&661-F35-2017.06.05-17.08.18_MD662_1_0103_prep2_thumbnail.tif\n",
      "/media/yuncong/BstemAtlasData/CSHL_data_processed/ChatCryoJane201710/ChatCryoJane201710_prep2_thumbnail_Ntb/ChatCryoJane201710_slide1-S1_prep2_thumbnail_Ntb.tif\n",
      "The autoreload extension is already loaded. To reload it, use:\n",
      "  %reload_ext autoreload\n"
     ]
    },
    {
     "name": "stderr",
     "output_type": "stream",
     "text": [
      "Not using image_cache.\n",
      "Not using image_cache.\n",
      "Not using image_cache.\n",
      "Not using image_cache.\n",
      "Not using image_cache.\n",
      "Not using image_cache.\n",
      "Not using image_cache.\n",
      "Not using image_cache.\n"
     ]
    }
   ],
   "source": [
    "%load_ext autoreload\n",
    "%autoreload 2\n",
    "\n",
    "import sys\n",
    "import os\n",
    "import time\n",
    "\n",
    "import matplotlib.pyplot as plt\n",
    "%matplotlib inline\n",
    "from multiprocess import Pool\n",
    "import numpy as np\n",
    "\n",
    "sys.path.append(os.environ['REPO_DIR'] + '/utilities')\n",
    "from utilities2015 import *\n",
    "from metadata import *\n",
    "from data_manager import *\n",
    "from conversion import images_to_volume"
   ]
  },
  {
   "cell_type": "code",
   "execution_count": 7,
   "metadata": {
    "collapsed": true
   },
   "outputs": [],
   "source": [
    "detector_id = 998"
   ]
  },
  {
   "cell_type": "code",
   "execution_count": 8,
   "metadata": {
    "collapsed": true
   },
   "outputs": [],
   "source": [
    "out_resolution_um = 10.\n",
    "resolution = '%.1fum' % out_resolution_um"
   ]
  },
  {
   "cell_type": "code",
   "execution_count": 5,
   "metadata": {
    "collapsed": true
   },
   "outputs": [],
   "source": [
    "# def load_downscaled_scoremaps_multiple_sections_sequential(sections, stack, structure, downscale, classifier_id):\n",
    "#     scoremaps = {}\n",
    "#     for sec in sections:\n",
    "#         try:\n",
    "#             actual_setting = resolve_actual_setting(setting=classifier_id, stack=stack, sec=sec)\n",
    "#             sm = DataManager.load_downscaled_scoremap(stack=stack, section=sec, structure=structure, downscale=downscale, setting=actual_setting)\n",
    "#             if sm is not None:\n",
    "#                 scoremaps[sec] = sm\n",
    "#         except:\n",
    "#             pass\n",
    "#     return scoremaps"
   ]
  },
  {
   "cell_type": "markdown",
   "metadata": {},
   "source": [
    "# Regular"
   ]
  },
  {
   "cell_type": "code",
   "execution_count": 9,
   "metadata": {
    "collapsed": true
   },
   "outputs": [],
   "source": [
    "from skimage.filters import gaussian"
   ]
  },
  {
   "cell_type": "code",
   "execution_count": 10,
   "metadata": {
    "collapsed": true
   },
   "outputs": [],
   "source": [
    "smooth_gradient = True # Whether gradient is computed based on smoothed score volume."
   ]
  },
  {
   "cell_type": "code",
   "execution_count": 11,
   "metadata": {
    "scrolled": true
   },
   "outputs": [
    {
     "name": "stdout",
     "output_type": "stream",
     "text": [
      "7N\n",
      "rm -rf \"/home/yuncong/CSHL_scoremaps/10.0um/MD661/MD661_prep2_10.0um_detector998/MD662&661-F109-2017.06.07-01.37.37_MD661_1_0325_prep2_10.0um_detector998/MD662&661-F109-2017.06.07-01.37.37_MD661_1_0325_prep2_10.0um_detector998_7N_scoremap.bp\" && mkdir -p \"/home/yuncong/CSHL_scoremaps/10.0um/MD661/MD661_prep2_10.0um_detector998/MD662&661-F109-2017.06.07-01.37.37_MD661_1_0325_prep2_10.0um_detector998\"\n",
      "aws s3 cp \"s3://mousebrainatlas-data/CSHL_scoremaps/10.0um/MD661/MD661_prep2_10.0um_detector998/MD662&661-F109-2017.06.07-01.37.37_MD661_1_0325_prep2_10.0um_detector998/MD662&661-F109-2017.06.07-01.37.37_MD661_1_0325_prep2_10.0um_detector998_7N_scoremap.bp\" \"/home/yuncong/CSHL_scoremaps/10.0um/MD661/MD661_prep2_10.0um_detector998/MD662&661-F109-2017.06.07-01.37.37_MD661_1_0325_prep2_10.0um_detector998/MD662&661-F109-2017.06.07-01.37.37_MD661_1_0325_prep2_10.0um_detector998_7N_scoremap.bp\"\n"
     ]
    },
    {
     "ename": "Exception",
     "evalue": "No scoremap for image MD662&661-F109-2017.06.07-01.37.37_MD661_1_0325 (section 280) for label 7N\n",
     "output_type": "error",
     "traceback": [
      "\u001b[0;31m---------------------------------------------------------------------------\u001b[0m",
      "\u001b[0;31mException\u001b[0m                                 Traceback (most recent call last)",
      "\u001b[0;32m<ipython-input-11-0c6cd1e58bdd>\u001b[0m in \u001b[0;36m<module>\u001b[0;34m()\u001b[0m\n\u001b[1;32m     24\u001b[0m         \u001b[0;32mfor\u001b[0m \u001b[0msec\u001b[0m \u001b[0;32min\u001b[0m \u001b[0mmetadata_cache\u001b[0m\u001b[0;34m[\u001b[0m\u001b[0;34m'valid_sections'\u001b[0m\u001b[0;34m]\u001b[0m\u001b[0;34m[\u001b[0m\u001b[0mstack\u001b[0m\u001b[0;34m]\u001b[0m\u001b[0;34m:\u001b[0m\u001b[0;34m\u001b[0m\u001b[0m\n\u001b[1;32m     25\u001b[0m             scoremaps[sec] = DataManager.load_downscaled_scoremap(stack=stack, section=sec, structure=structure, \n\u001b[0;32m---> 26\u001b[0;31m                                                       out_resolution_um=out_resolution_um, detector_id=detector_id)\n\u001b[0m\u001b[1;32m     27\u001b[0m \u001b[0;34m\u001b[0m\u001b[0m\n\u001b[1;32m     28\u001b[0m         \u001b[0;32mif\u001b[0m \u001b[0mlen\u001b[0m\u001b[0;34m(\u001b[0m\u001b[0mscoremaps\u001b[0m\u001b[0;34m)\u001b[0m \u001b[0;34m<\u001b[0m \u001b[0;36m2\u001b[0m\u001b[0;34m:\u001b[0m\u001b[0;34m\u001b[0m\u001b[0m\n",
      "\u001b[0;32m/home/yuncong/Brain/utilities/data_manager.pyc\u001b[0m in \u001b[0;36mload_downscaled_scoremap\u001b[0;34m(stack, structure, detector_id, out_resolution_um, downscale, prep_id, section, fn)\u001b[0m\n\u001b[1;32m   2882\u001b[0m         \u001b[0;32mif\u001b[0m \u001b[0;32mnot\u001b[0m \u001b[0mos\u001b[0m\u001b[0;34m.\u001b[0m\u001b[0mpath\u001b[0m\u001b[0;34m.\u001b[0m\u001b[0mexists\u001b[0m\u001b[0;34m(\u001b[0m\u001b[0mscoremap_bp_filepath\u001b[0m\u001b[0;34m)\u001b[0m\u001b[0;34m:\u001b[0m\u001b[0;34m\u001b[0m\u001b[0m\n\u001b[1;32m   2883\u001b[0m             raise Exception('No scoremap for image %s (section %d) for label %s\\n' % \\\n\u001b[0;32m-> 2884\u001b[0;31m             (metadata_cache['sections_to_filenames'][stack][section], section, structure))\n\u001b[0m\u001b[1;32m   2885\u001b[0m \u001b[0;34m\u001b[0m\u001b[0m\n\u001b[1;32m   2886\u001b[0m         \u001b[0mscoremap_downscaled\u001b[0m \u001b[0;34m=\u001b[0m \u001b[0mDataManager\u001b[0m\u001b[0;34m.\u001b[0m\u001b[0mload_data\u001b[0m\u001b[0;34m(\u001b[0m\u001b[0mscoremap_bp_filepath\u001b[0m\u001b[0;34m,\u001b[0m \u001b[0mfiletype\u001b[0m\u001b[0;34m=\u001b[0m\u001b[0;34m'bp'\u001b[0m\u001b[0;34m)\u001b[0m\u001b[0;34m\u001b[0m\u001b[0m\n",
      "\u001b[0;31mException\u001b[0m: No scoremap for image MD662&661-F109-2017.06.07-01.37.37_MD661_1_0325 (section 280) for label 7N\n"
     ]
    }
   ],
   "source": [
    "# for stack in ['ChatCryoJane201710']:\n",
    "for stack in ['MD661']:\n",
    "    \n",
    "    stack_spec = dict(prep_id=None,\n",
    "                detector_id=detector_id,\n",
    "                vol_type='score',\n",
    "                structure=None,\n",
    "                name=stack,\n",
    "                resolution=resolution)\n",
    "    \n",
    "#     first_sec, last_sec = metadata_cache['section_limits'][stack]\n",
    "    \n",
    "#     for structure in all_known_structures:\n",
    "    for structure in ['7N']:\n",
    "        print structure\n",
    "    \n",
    "        t = time.time()\n",
    "#         scoremaps = load_scoremaps_multiple_sections_parallel(stack=stack, sections=range(first_sec, last_sec+1), \n",
    "#                                                         structure=structure, downscale=downscale, classifier_setting=classifier_id)\n",
    "#         scoremaps = load_downscaled_scoremaps_multiple_sections_sequential(stack=stack, sections=range(first_sec, last_sec+1), \n",
    "#                                                 structure=structure, downscale=downscale, classifier_setting=classifier_id)\n",
    "\n",
    "        scoremaps = {}\n",
    "        for sec in metadata_cache['valid_sections'][stack]:\n",
    "            scoremaps[sec] = DataManager.load_downscaled_scoremap(stack=stack, section=sec, structure=structure, \n",
    "                                                      out_resolution_um=out_resolution_um, detector_id=detector_id)\n",
    "        \n",
    "        if len(scoremaps) < 2:\n",
    "            sys.stderr.write('Number of valid scoremaps for %s is less than 2.\\n' % structure)\n",
    "            continue\n",
    "        \n",
    "        sys.stderr.write('Load scoremaps: %.2f seconds\\n' % (time.time() - t)) # 10-40s (down=32, 12 processes)\n",
    "        \n",
    "        t = time.time()\n",
    "        score_volume, score_volume_bbox_wrt_brainstem = images_to_volume(images=scoremaps, \n",
    "                            voxel_size=(1, 1, SECTION_THICKNESS/out_resolution_um))\n",
    "#                                                            first_sec=first_sec-1, last_sec=last_sec-1)\n",
    "        sys.stderr.write('Create score volume: %.2f seconds\\n' % (time.time() - t)) # 2s\n",
    "        \n",
    "        print 'score_volume_bbox_wrt_brainstem =', score_volume_bbox_wrt_brainstem\n",
    "        \n",
    "        t = time.time()\n",
    "\n",
    "        score_volume_filepath = DataManager.get_score_volume_filepath_v3(stack_spec, structure=structure)\n",
    "        create_parent_dir_if_not_exists(score_volume_filepath)\n",
    "        bp.pack_ndarray_file(score_volume.astype(np.float16), score_volume_filepath)\n",
    "        upload_to_s3(score_volume_filepath)\n",
    "        \n",
    "        score_volume_bbox_filepath = DataManager.get_score_volume_bbox_filepath_v3(stack_spec, wrt='brainstem', structure=structure)\n",
    "        np.savetxt(score_volume_bbox_filepath, np.array(score_volume_bbox_wrt_brainstem)[None], fmt='%d')\n",
    "        upload_to_s3(score_volume_bbox_filepath)\n",
    "        \n",
    "        del scoremaps\n",
    "        \n",
    "        sys.stderr.write('Save score volume: %.2f seconds\\n' % (time.time() - t)) # 1s (down=32)\n",
    "        \n",
    "        \n",
    "        t = time.time()\n",
    "        \n",
    "        if smooth_gradient:\n",
    "            gy, gx, gz = np.gradient(gaussian(score_volume, 3).astype(np.float32), 3, 3, 3)\n",
    "        else:\n",
    "            gy, gx, gz = np.gradient(score_volume.astype(np.float32), 3, 3, 3)\n",
    "        # 3.3 second - re-computing is much faster than loading\n",
    "        # .astype(np.float32) is important;\n",
    "        # Otherwise the score volume is type np.float16, np.gradient requires np.float32 and will have to convert which is very slow\n",
    "        # 2s (float32) vs. 20s (float16)\n",
    "        sys.stderr.write('Compute gradients %s: %f seconds\\n' % (structure, time.time() - t))\n",
    "        del score_volume\n",
    "\n",
    "        t = time.time()\n",
    "\n",
    "        gx_fp = DataManager.get_volume_gradient_filepath_v3(stack_spec, structure=structure, suffix='gx')\n",
    "        gy_fp = DataManager.get_volume_gradient_filepath_v3(stack_spec, structure=structure, suffix='gy')\n",
    "        gz_fp = DataManager.get_volume_gradient_filepath_v3(stack_spec, structure=structure, suffix='gz')\n",
    "        \n",
    "        create_parent_dir_if_not_exists(gx_fp)\n",
    "        bp.pack_ndarray_file(gx, gx_fp)\n",
    "        bp.pack_ndarray_file(gy, gy_fp)\n",
    "        bp.pack_ndarray_file(gz, gz_fp)\n",
    "        del gx, gy, gz\n",
    "\n",
    "        upload_to_s3(gx_fp)\n",
    "        upload_to_s3(gy_fp)\n",
    "        upload_to_s3(gz_fp)\n",
    "\n",
    "        sys.stderr.write('Save gradients %s: %f seconds\\n' % (structure, time.time() - t))"
   ]
  },
  {
   "cell_type": "code",
   "execution_count": null,
   "metadata": {
    "collapsed": true
   },
   "outputs": [],
   "source": [
    "# Temp: scale atlas volumes to 10.0um"
   ]
  },
  {
   "cell_type": "code",
   "execution_count": 27,
   "metadata": {
    "collapsed": true
   },
   "outputs": [],
   "source": [
    "stack_m_spec = dict(name='atlasV5',\n",
    "                   vol_type='score',\n",
    "                   detector_id=None,\n",
    "                   prep_id=None,\n",
    "                   structure=None,\n",
    "                   resolution='down32')"
   ]
  },
  {
   "cell_type": "code",
   "execution_count": 28,
   "metadata": {
    "collapsed": true
   },
   "outputs": [],
   "source": [
    "stack_m_spec_10um = dict(name='atlasV5',\n",
    "                   vol_type='score',\n",
    "                   detector_id=None,\n",
    "                   prep_id=None,\n",
    "                   structure=None,\n",
    "                   resolution='10.0um')"
   ]
  },
  {
   "cell_type": "code",
   "execution_count": 35,
   "metadata": {},
   "outputs": [
    {
     "name": "stdout",
     "output_type": "stream",
     "text": [
      "10N_L\n",
      "aws s3 cp \"/home/yuncong/CSHL_volumes/atlasV5/atlasV5_10.0um_scoreVolume/score_volumes/atlasV5_10.0um_scoreVolume_10N_L.bp\" \"s3://mousebrainatlas-data/CSHL_volumes/atlasV5/atlasV5_10.0um_scoreVolume/score_volumes/atlasV5_10.0um_scoreVolume_10N_L.bp\"\n",
      "aws s3 cp \"/home/yuncong/CSHL_volumes/atlasV5/atlasV5_10.0um_scoreVolume/score_volumes/atlasV5_10.0um_scoreVolume_10N_L_bbox_wrt_atlasSpace.txt\" \"s3://mousebrainatlas-data/CSHL_volumes/atlasV5/atlasV5_10.0um_scoreVolume/score_volumes/atlasV5_10.0um_scoreVolume_10N_L_bbox_wrt_atlasSpace.txt\"\n"
     ]
    },
    {
     "name": "stderr",
     "output_type": "stream",
     "text": [
      "Rescale 10N_L.\n"
     ]
    },
    {
     "name": "stdout",
     "output_type": "stream",
     "text": [
      "10N_L_surround_200\n",
      "aws s3 cp \"/home/yuncong/CSHL_volumes/atlasV5/atlasV5_10.0um_scoreVolume/score_volumes/atlasV5_10.0um_scoreVolume_10N_L_surround_200.bp\" \"s3://mousebrainatlas-data/CSHL_volumes/atlasV5/atlasV5_10.0um_scoreVolume/score_volumes/atlasV5_10.0um_scoreVolume_10N_L_surround_200.bp\"\n",
      "aws s3 cp \"/home/yuncong/CSHL_volumes/atlasV5/atlasV5_10.0um_scoreVolume/score_volumes/atlasV5_10.0um_scoreVolume_10N_L_surround_200_bbox_wrt_atlasSpace.txt\" \"s3://mousebrainatlas-data/CSHL_volumes/atlasV5/atlasV5_10.0um_scoreVolume/score_volumes/atlasV5_10.0um_scoreVolume_10N_L_surround_200_bbox_wrt_atlasSpace.txt\"\n"
     ]
    },
    {
     "name": "stderr",
     "output_type": "stream",
     "text": [
      "Rescale 10N_L_surround_200.\n"
     ]
    },
    {
     "name": "stdout",
     "output_type": "stream",
     "text": [
      "10N_R\n",
      "aws s3 cp \"/home/yuncong/CSHL_volumes/atlasV5/atlasV5_10.0um_scoreVolume/score_volumes/atlasV5_10.0um_scoreVolume_10N_R.bp\" \"s3://mousebrainatlas-data/CSHL_volumes/atlasV5/atlasV5_10.0um_scoreVolume/score_volumes/atlasV5_10.0um_scoreVolume_10N_R.bp\"\n",
      "aws s3 cp \"/home/yuncong/CSHL_volumes/atlasV5/atlasV5_10.0um_scoreVolume/score_volumes/atlasV5_10.0um_scoreVolume_10N_R_bbox_wrt_atlasSpace.txt\" \"s3://mousebrainatlas-data/CSHL_volumes/atlasV5/atlasV5_10.0um_scoreVolume/score_volumes/atlasV5_10.0um_scoreVolume_10N_R_bbox_wrt_atlasSpace.txt\"\n"
     ]
    },
    {
     "name": "stderr",
     "output_type": "stream",
     "text": [
      "Rescale 10N_R.\n"
     ]
    },
    {
     "name": "stdout",
     "output_type": "stream",
     "text": [
      "10N_R_surround_200\n",
      "aws s3 cp \"/home/yuncong/CSHL_volumes/atlasV5/atlasV5_10.0um_scoreVolume/score_volumes/atlasV5_10.0um_scoreVolume_10N_R_surround_200.bp\" \"s3://mousebrainatlas-data/CSHL_volumes/atlasV5/atlasV5_10.0um_scoreVolume/score_volumes/atlasV5_10.0um_scoreVolume_10N_R_surround_200.bp\"\n",
      "aws s3 cp \"/home/yuncong/CSHL_volumes/atlasV5/atlasV5_10.0um_scoreVolume/score_volumes/atlasV5_10.0um_scoreVolume_10N_R_surround_200_bbox_wrt_atlasSpace.txt\" \"s3://mousebrainatlas-data/CSHL_volumes/atlasV5/atlasV5_10.0um_scoreVolume/score_volumes/atlasV5_10.0um_scoreVolume_10N_R_surround_200_bbox_wrt_atlasSpace.txt\"\n"
     ]
    },
    {
     "name": "stderr",
     "output_type": "stream",
     "text": [
      "Rescale 10N_R_surround_200.\n"
     ]
    },
    {
     "name": "stdout",
     "output_type": "stream",
     "text": [
      "12N\n",
      "aws s3 cp \"/home/yuncong/CSHL_volumes/atlasV5/atlasV5_10.0um_scoreVolume/score_volumes/atlasV5_10.0um_scoreVolume_12N.bp\" \"s3://mousebrainatlas-data/CSHL_volumes/atlasV5/atlasV5_10.0um_scoreVolume/score_volumes/atlasV5_10.0um_scoreVolume_12N.bp\"\n",
      "aws s3 cp \"/home/yuncong/CSHL_volumes/atlasV5/atlasV5_10.0um_scoreVolume/score_volumes/atlasV5_10.0um_scoreVolume_12N_bbox_wrt_atlasSpace.txt\" \"s3://mousebrainatlas-data/CSHL_volumes/atlasV5/atlasV5_10.0um_scoreVolume/score_volumes/atlasV5_10.0um_scoreVolume_12N_bbox_wrt_atlasSpace.txt\"\n"
     ]
    },
    {
     "name": "stderr",
     "output_type": "stream",
     "text": [
      "Rescale 12N.\n"
     ]
    },
    {
     "name": "stdout",
     "output_type": "stream",
     "text": [
      "12N_surround_200\n",
      "aws s3 cp \"/home/yuncong/CSHL_volumes/atlasV5/atlasV5_10.0um_scoreVolume/score_volumes/atlasV5_10.0um_scoreVolume_12N_surround_200.bp\" \"s3://mousebrainatlas-data/CSHL_volumes/atlasV5/atlasV5_10.0um_scoreVolume/score_volumes/atlasV5_10.0um_scoreVolume_12N_surround_200.bp\"\n",
      "aws s3 cp \"/home/yuncong/CSHL_volumes/atlasV5/atlasV5_10.0um_scoreVolume/score_volumes/atlasV5_10.0um_scoreVolume_12N_surround_200_bbox_wrt_atlasSpace.txt\" \"s3://mousebrainatlas-data/CSHL_volumes/atlasV5/atlasV5_10.0um_scoreVolume/score_volumes/atlasV5_10.0um_scoreVolume_12N_surround_200_bbox_wrt_atlasSpace.txt\"\n"
     ]
    },
    {
     "name": "stderr",
     "output_type": "stream",
     "text": [
      "Rescale 12N_surround_200.\n"
     ]
    },
    {
     "name": "stdout",
     "output_type": "stream",
     "text": [
      "3N_L\n",
      "aws s3 cp \"/home/yuncong/CSHL_volumes/atlasV5/atlasV5_10.0um_scoreVolume/score_volumes/atlasV5_10.0um_scoreVolume_3N_L.bp\" \"s3://mousebrainatlas-data/CSHL_volumes/atlasV5/atlasV5_10.0um_scoreVolume/score_volumes/atlasV5_10.0um_scoreVolume_3N_L.bp\"\n",
      "aws s3 cp \"/home/yuncong/CSHL_volumes/atlasV5/atlasV5_10.0um_scoreVolume/score_volumes/atlasV5_10.0um_scoreVolume_3N_L_bbox_wrt_atlasSpace.txt\" \"s3://mousebrainatlas-data/CSHL_volumes/atlasV5/atlasV5_10.0um_scoreVolume/score_volumes/atlasV5_10.0um_scoreVolume_3N_L_bbox_wrt_atlasSpace.txt\"\n"
     ]
    },
    {
     "name": "stderr",
     "output_type": "stream",
     "text": [
      "Rescale 3N_L.\n"
     ]
    },
    {
     "name": "stdout",
     "output_type": "stream",
     "text": [
      "3N_L_surround_200\n",
      "aws s3 cp \"/home/yuncong/CSHL_volumes/atlasV5/atlasV5_10.0um_scoreVolume/score_volumes/atlasV5_10.0um_scoreVolume_3N_L_surround_200.bp\" \"s3://mousebrainatlas-data/CSHL_volumes/atlasV5/atlasV5_10.0um_scoreVolume/score_volumes/atlasV5_10.0um_scoreVolume_3N_L_surround_200.bp\"\n",
      "aws s3 cp \"/home/yuncong/CSHL_volumes/atlasV5/atlasV5_10.0um_scoreVolume/score_volumes/atlasV5_10.0um_scoreVolume_3N_L_surround_200_bbox_wrt_atlasSpace.txt\" \"s3://mousebrainatlas-data/CSHL_volumes/atlasV5/atlasV5_10.0um_scoreVolume/score_volumes/atlasV5_10.0um_scoreVolume_3N_L_surround_200_bbox_wrt_atlasSpace.txt\"\n"
     ]
    },
    {
     "name": "stderr",
     "output_type": "stream",
     "text": [
      "Rescale 3N_L_surround_200.\n"
     ]
    },
    {
     "name": "stdout",
     "output_type": "stream",
     "text": [
      "3N_R\n",
      "aws s3 cp \"/home/yuncong/CSHL_volumes/atlasV5/atlasV5_10.0um_scoreVolume/score_volumes/atlasV5_10.0um_scoreVolume_3N_R.bp\" \"s3://mousebrainatlas-data/CSHL_volumes/atlasV5/atlasV5_10.0um_scoreVolume/score_volumes/atlasV5_10.0um_scoreVolume_3N_R.bp\"\n",
      "aws s3 cp \"/home/yuncong/CSHL_volumes/atlasV5/atlasV5_10.0um_scoreVolume/score_volumes/atlasV5_10.0um_scoreVolume_3N_R_bbox_wrt_atlasSpace.txt\" \"s3://mousebrainatlas-data/CSHL_volumes/atlasV5/atlasV5_10.0um_scoreVolume/score_volumes/atlasV5_10.0um_scoreVolume_3N_R_bbox_wrt_atlasSpace.txt\"\n"
     ]
    },
    {
     "name": "stderr",
     "output_type": "stream",
     "text": [
      "Rescale 3N_R.\n"
     ]
    },
    {
     "name": "stdout",
     "output_type": "stream",
     "text": [
      "3N_R_surround_200\n",
      "aws s3 cp \"/home/yuncong/CSHL_volumes/atlasV5/atlasV5_10.0um_scoreVolume/score_volumes/atlasV5_10.0um_scoreVolume_3N_R_surround_200.bp\" \"s3://mousebrainatlas-data/CSHL_volumes/atlasV5/atlasV5_10.0um_scoreVolume/score_volumes/atlasV5_10.0um_scoreVolume_3N_R_surround_200.bp\"\n",
      "aws s3 cp \"/home/yuncong/CSHL_volumes/atlasV5/atlasV5_10.0um_scoreVolume/score_volumes/atlasV5_10.0um_scoreVolume_3N_R_surround_200_bbox_wrt_atlasSpace.txt\" \"s3://mousebrainatlas-data/CSHL_volumes/atlasV5/atlasV5_10.0um_scoreVolume/score_volumes/atlasV5_10.0um_scoreVolume_3N_R_surround_200_bbox_wrt_atlasSpace.txt\"\n"
     ]
    },
    {
     "name": "stderr",
     "output_type": "stream",
     "text": [
      "Rescale 3N_R_surround_200.\n"
     ]
    },
    {
     "name": "stdout",
     "output_type": "stream",
     "text": [
      "4N_L\n",
      "aws s3 cp \"/home/yuncong/CSHL_volumes/atlasV5/atlasV5_10.0um_scoreVolume/score_volumes/atlasV5_10.0um_scoreVolume_4N_L.bp\" \"s3://mousebrainatlas-data/CSHL_volumes/atlasV5/atlasV5_10.0um_scoreVolume/score_volumes/atlasV5_10.0um_scoreVolume_4N_L.bp\"\n",
      "aws s3 cp \"/home/yuncong/CSHL_volumes/atlasV5/atlasV5_10.0um_scoreVolume/score_volumes/atlasV5_10.0um_scoreVolume_4N_L_bbox_wrt_atlasSpace.txt\" \"s3://mousebrainatlas-data/CSHL_volumes/atlasV5/atlasV5_10.0um_scoreVolume/score_volumes/atlasV5_10.0um_scoreVolume_4N_L_bbox_wrt_atlasSpace.txt\"\n"
     ]
    },
    {
     "name": "stderr",
     "output_type": "stream",
     "text": [
      "Rescale 4N_L.\n"
     ]
    },
    {
     "name": "stdout",
     "output_type": "stream",
     "text": [
      "4N_L_surround_200\n",
      "aws s3 cp \"/home/yuncong/CSHL_volumes/atlasV5/atlasV5_10.0um_scoreVolume/score_volumes/atlasV5_10.0um_scoreVolume_4N_L_surround_200.bp\" \"s3://mousebrainatlas-data/CSHL_volumes/atlasV5/atlasV5_10.0um_scoreVolume/score_volumes/atlasV5_10.0um_scoreVolume_4N_L_surround_200.bp\"\n",
      "aws s3 cp \"/home/yuncong/CSHL_volumes/atlasV5/atlasV5_10.0um_scoreVolume/score_volumes/atlasV5_10.0um_scoreVolume_4N_L_surround_200_bbox_wrt_atlasSpace.txt\" \"s3://mousebrainatlas-data/CSHL_volumes/atlasV5/atlasV5_10.0um_scoreVolume/score_volumes/atlasV5_10.0um_scoreVolume_4N_L_surround_200_bbox_wrt_atlasSpace.txt\"\n"
     ]
    },
    {
     "name": "stderr",
     "output_type": "stream",
     "text": [
      "Rescale 4N_L_surround_200.\n"
     ]
    },
    {
     "name": "stdout",
     "output_type": "stream",
     "text": [
      "4N_R\n",
      "aws s3 cp \"/home/yuncong/CSHL_volumes/atlasV5/atlasV5_10.0um_scoreVolume/score_volumes/atlasV5_10.0um_scoreVolume_4N_R.bp\" \"s3://mousebrainatlas-data/CSHL_volumes/atlasV5/atlasV5_10.0um_scoreVolume/score_volumes/atlasV5_10.0um_scoreVolume_4N_R.bp\"\n",
      "aws s3 cp \"/home/yuncong/CSHL_volumes/atlasV5/atlasV5_10.0um_scoreVolume/score_volumes/atlasV5_10.0um_scoreVolume_4N_R_bbox_wrt_atlasSpace.txt\" \"s3://mousebrainatlas-data/CSHL_volumes/atlasV5/atlasV5_10.0um_scoreVolume/score_volumes/atlasV5_10.0um_scoreVolume_4N_R_bbox_wrt_atlasSpace.txt\"\n"
     ]
    },
    {
     "name": "stderr",
     "output_type": "stream",
     "text": [
      "Rescale 4N_R.\n"
     ]
    },
    {
     "name": "stdout",
     "output_type": "stream",
     "text": [
      "4N_R_surround_200\n",
      "aws s3 cp \"/home/yuncong/CSHL_volumes/atlasV5/atlasV5_10.0um_scoreVolume/score_volumes/atlasV5_10.0um_scoreVolume_4N_R_surround_200.bp\" \"s3://mousebrainatlas-data/CSHL_volumes/atlasV5/atlasV5_10.0um_scoreVolume/score_volumes/atlasV5_10.0um_scoreVolume_4N_R_surround_200.bp\"\n",
      "aws s3 cp \"/home/yuncong/CSHL_volumes/atlasV5/atlasV5_10.0um_scoreVolume/score_volumes/atlasV5_10.0um_scoreVolume_4N_R_surround_200_bbox_wrt_atlasSpace.txt\" \"s3://mousebrainatlas-data/CSHL_volumes/atlasV5/atlasV5_10.0um_scoreVolume/score_volumes/atlasV5_10.0um_scoreVolume_4N_R_surround_200_bbox_wrt_atlasSpace.txt\"\n"
     ]
    },
    {
     "name": "stderr",
     "output_type": "stream",
     "text": [
      "Rescale 4N_R_surround_200.\n"
     ]
    },
    {
     "name": "stdout",
     "output_type": "stream",
     "text": [
      "5N_L\n",
      "aws s3 cp \"/home/yuncong/CSHL_volumes/atlasV5/atlasV5_10.0um_scoreVolume/score_volumes/atlasV5_10.0um_scoreVolume_5N_L.bp\" \"s3://mousebrainatlas-data/CSHL_volumes/atlasV5/atlasV5_10.0um_scoreVolume/score_volumes/atlasV5_10.0um_scoreVolume_5N_L.bp\"\n",
      "aws s3 cp \"/home/yuncong/CSHL_volumes/atlasV5/atlasV5_10.0um_scoreVolume/score_volumes/atlasV5_10.0um_scoreVolume_5N_L_bbox_wrt_atlasSpace.txt\" \"s3://mousebrainatlas-data/CSHL_volumes/atlasV5/atlasV5_10.0um_scoreVolume/score_volumes/atlasV5_10.0um_scoreVolume_5N_L_bbox_wrt_atlasSpace.txt\"\n"
     ]
    },
    {
     "name": "stderr",
     "output_type": "stream",
     "text": [
      "Rescale 5N_L.\n"
     ]
    },
    {
     "name": "stdout",
     "output_type": "stream",
     "text": [
      "5N_L_surround_200\n",
      "aws s3 cp \"/home/yuncong/CSHL_volumes/atlasV5/atlasV5_10.0um_scoreVolume/score_volumes/atlasV5_10.0um_scoreVolume_5N_L_surround_200.bp\" \"s3://mousebrainatlas-data/CSHL_volumes/atlasV5/atlasV5_10.0um_scoreVolume/score_volumes/atlasV5_10.0um_scoreVolume_5N_L_surround_200.bp\"\n",
      "aws s3 cp \"/home/yuncong/CSHL_volumes/atlasV5/atlasV5_10.0um_scoreVolume/score_volumes/atlasV5_10.0um_scoreVolume_5N_L_surround_200_bbox_wrt_atlasSpace.txt\" \"s3://mousebrainatlas-data/CSHL_volumes/atlasV5/atlasV5_10.0um_scoreVolume/score_volumes/atlasV5_10.0um_scoreVolume_5N_L_surround_200_bbox_wrt_atlasSpace.txt\"\n"
     ]
    },
    {
     "name": "stderr",
     "output_type": "stream",
     "text": [
      "Rescale 5N_L_surround_200.\n"
     ]
    },
    {
     "name": "stdout",
     "output_type": "stream",
     "text": [
      "5N_R\n",
      "aws s3 cp \"/home/yuncong/CSHL_volumes/atlasV5/atlasV5_10.0um_scoreVolume/score_volumes/atlasV5_10.0um_scoreVolume_5N_R.bp\" \"s3://mousebrainatlas-data/CSHL_volumes/atlasV5/atlasV5_10.0um_scoreVolume/score_volumes/atlasV5_10.0um_scoreVolume_5N_R.bp\"\n",
      "aws s3 cp \"/home/yuncong/CSHL_volumes/atlasV5/atlasV5_10.0um_scoreVolume/score_volumes/atlasV5_10.0um_scoreVolume_5N_R_bbox_wrt_atlasSpace.txt\" \"s3://mousebrainatlas-data/CSHL_volumes/atlasV5/atlasV5_10.0um_scoreVolume/score_volumes/atlasV5_10.0um_scoreVolume_5N_R_bbox_wrt_atlasSpace.txt\"\n"
     ]
    },
    {
     "name": "stderr",
     "output_type": "stream",
     "text": [
      "Rescale 5N_R.\n"
     ]
    },
    {
     "name": "stdout",
     "output_type": "stream",
     "text": [
      "5N_R_surround_200\n",
      "aws s3 cp \"/home/yuncong/CSHL_volumes/atlasV5/atlasV5_10.0um_scoreVolume/score_volumes/atlasV5_10.0um_scoreVolume_5N_R_surround_200.bp\" \"s3://mousebrainatlas-data/CSHL_volumes/atlasV5/atlasV5_10.0um_scoreVolume/score_volumes/atlasV5_10.0um_scoreVolume_5N_R_surround_200.bp\"\n",
      "aws s3 cp \"/home/yuncong/CSHL_volumes/atlasV5/atlasV5_10.0um_scoreVolume/score_volumes/atlasV5_10.0um_scoreVolume_5N_R_surround_200_bbox_wrt_atlasSpace.txt\" \"s3://mousebrainatlas-data/CSHL_volumes/atlasV5/atlasV5_10.0um_scoreVolume/score_volumes/atlasV5_10.0um_scoreVolume_5N_R_surround_200_bbox_wrt_atlasSpace.txt\"\n"
     ]
    },
    {
     "name": "stderr",
     "output_type": "stream",
     "text": [
      "Rescale 5N_R_surround_200.\n"
     ]
    },
    {
     "name": "stdout",
     "output_type": "stream",
     "text": [
      "6N_L\n",
      "aws s3 cp \"/home/yuncong/CSHL_volumes/atlasV5/atlasV5_10.0um_scoreVolume/score_volumes/atlasV5_10.0um_scoreVolume_6N_L.bp\" \"s3://mousebrainatlas-data/CSHL_volumes/atlasV5/atlasV5_10.0um_scoreVolume/score_volumes/atlasV5_10.0um_scoreVolume_6N_L.bp\"\n",
      "aws s3 cp \"/home/yuncong/CSHL_volumes/atlasV5/atlasV5_10.0um_scoreVolume/score_volumes/atlasV5_10.0um_scoreVolume_6N_L_bbox_wrt_atlasSpace.txt\" \"s3://mousebrainatlas-data/CSHL_volumes/atlasV5/atlasV5_10.0um_scoreVolume/score_volumes/atlasV5_10.0um_scoreVolume_6N_L_bbox_wrt_atlasSpace.txt\"\n"
     ]
    },
    {
     "name": "stderr",
     "output_type": "stream",
     "text": [
      "Rescale 6N_L.\n"
     ]
    },
    {
     "name": "stdout",
     "output_type": "stream",
     "text": [
      "6N_L_surround_200\n",
      "aws s3 cp \"/home/yuncong/CSHL_volumes/atlasV5/atlasV5_10.0um_scoreVolume/score_volumes/atlasV5_10.0um_scoreVolume_6N_L_surround_200.bp\" \"s3://mousebrainatlas-data/CSHL_volumes/atlasV5/atlasV5_10.0um_scoreVolume/score_volumes/atlasV5_10.0um_scoreVolume_6N_L_surround_200.bp\"\n",
      "aws s3 cp \"/home/yuncong/CSHL_volumes/atlasV5/atlasV5_10.0um_scoreVolume/score_volumes/atlasV5_10.0um_scoreVolume_6N_L_surround_200_bbox_wrt_atlasSpace.txt\" \"s3://mousebrainatlas-data/CSHL_volumes/atlasV5/atlasV5_10.0um_scoreVolume/score_volumes/atlasV5_10.0um_scoreVolume_6N_L_surround_200_bbox_wrt_atlasSpace.txt\"\n"
     ]
    },
    {
     "name": "stderr",
     "output_type": "stream",
     "text": [
      "Rescale 6N_L_surround_200.\n"
     ]
    },
    {
     "name": "stdout",
     "output_type": "stream",
     "text": [
      "6N_R\n",
      "aws s3 cp \"/home/yuncong/CSHL_volumes/atlasV5/atlasV5_10.0um_scoreVolume/score_volumes/atlasV5_10.0um_scoreVolume_6N_R.bp\" \"s3://mousebrainatlas-data/CSHL_volumes/atlasV5/atlasV5_10.0um_scoreVolume/score_volumes/atlasV5_10.0um_scoreVolume_6N_R.bp\"\n",
      "aws s3 cp \"/home/yuncong/CSHL_volumes/atlasV5/atlasV5_10.0um_scoreVolume/score_volumes/atlasV5_10.0um_scoreVolume_6N_R_bbox_wrt_atlasSpace.txt\" \"s3://mousebrainatlas-data/CSHL_volumes/atlasV5/atlasV5_10.0um_scoreVolume/score_volumes/atlasV5_10.0um_scoreVolume_6N_R_bbox_wrt_atlasSpace.txt\"\n"
     ]
    },
    {
     "name": "stderr",
     "output_type": "stream",
     "text": [
      "Rescale 6N_R.\n"
     ]
    },
    {
     "name": "stdout",
     "output_type": "stream",
     "text": [
      "6N_R_surround_200\n",
      "aws s3 cp \"/home/yuncong/CSHL_volumes/atlasV5/atlasV5_10.0um_scoreVolume/score_volumes/atlasV5_10.0um_scoreVolume_6N_R_surround_200.bp\" \"s3://mousebrainatlas-data/CSHL_volumes/atlasV5/atlasV5_10.0um_scoreVolume/score_volumes/atlasV5_10.0um_scoreVolume_6N_R_surround_200.bp\"\n",
      "aws s3 cp \"/home/yuncong/CSHL_volumes/atlasV5/atlasV5_10.0um_scoreVolume/score_volumes/atlasV5_10.0um_scoreVolume_6N_R_surround_200_bbox_wrt_atlasSpace.txt\" \"s3://mousebrainatlas-data/CSHL_volumes/atlasV5/atlasV5_10.0um_scoreVolume/score_volumes/atlasV5_10.0um_scoreVolume_6N_R_surround_200_bbox_wrt_atlasSpace.txt\"\n"
     ]
    },
    {
     "name": "stderr",
     "output_type": "stream",
     "text": [
      "Rescale 6N_R_surround_200.\n"
     ]
    },
    {
     "name": "stdout",
     "output_type": "stream",
     "text": [
      "7N_L\n",
      "aws s3 cp \"/home/yuncong/CSHL_volumes/atlasV5/atlasV5_10.0um_scoreVolume/score_volumes/atlasV5_10.0um_scoreVolume_7N_L.bp\" \"s3://mousebrainatlas-data/CSHL_volumes/atlasV5/atlasV5_10.0um_scoreVolume/score_volumes/atlasV5_10.0um_scoreVolume_7N_L.bp\"\n",
      "aws s3 cp \"/home/yuncong/CSHL_volumes/atlasV5/atlasV5_10.0um_scoreVolume/score_volumes/atlasV5_10.0um_scoreVolume_7N_L_bbox_wrt_atlasSpace.txt\" \"s3://mousebrainatlas-data/CSHL_volumes/atlasV5/atlasV5_10.0um_scoreVolume/score_volumes/atlasV5_10.0um_scoreVolume_7N_L_bbox_wrt_atlasSpace.txt\"\n"
     ]
    },
    {
     "name": "stderr",
     "output_type": "stream",
     "text": [
      "Rescale 7N_L.\n"
     ]
    },
    {
     "name": "stdout",
     "output_type": "stream",
     "text": [
      "7N_L_surround_200\n",
      "aws s3 cp \"/home/yuncong/CSHL_volumes/atlasV5/atlasV5_10.0um_scoreVolume/score_volumes/atlasV5_10.0um_scoreVolume_7N_L_surround_200.bp\" \"s3://mousebrainatlas-data/CSHL_volumes/atlasV5/atlasV5_10.0um_scoreVolume/score_volumes/atlasV5_10.0um_scoreVolume_7N_L_surround_200.bp\"\n",
      "aws s3 cp \"/home/yuncong/CSHL_volumes/atlasV5/atlasV5_10.0um_scoreVolume/score_volumes/atlasV5_10.0um_scoreVolume_7N_L_surround_200_bbox_wrt_atlasSpace.txt\" \"s3://mousebrainatlas-data/CSHL_volumes/atlasV5/atlasV5_10.0um_scoreVolume/score_volumes/atlasV5_10.0um_scoreVolume_7N_L_surround_200_bbox_wrt_atlasSpace.txt\"\n"
     ]
    },
    {
     "name": "stderr",
     "output_type": "stream",
     "text": [
      "Rescale 7N_L_surround_200.\n"
     ]
    },
    {
     "name": "stdout",
     "output_type": "stream",
     "text": [
      "7N_R\n",
      "aws s3 cp \"/home/yuncong/CSHL_volumes/atlasV5/atlasV5_10.0um_scoreVolume/score_volumes/atlasV5_10.0um_scoreVolume_7N_R.bp\" \"s3://mousebrainatlas-data/CSHL_volumes/atlasV5/atlasV5_10.0um_scoreVolume/score_volumes/atlasV5_10.0um_scoreVolume_7N_R.bp\"\n",
      "aws s3 cp \"/home/yuncong/CSHL_volumes/atlasV5/atlasV5_10.0um_scoreVolume/score_volumes/atlasV5_10.0um_scoreVolume_7N_R_bbox_wrt_atlasSpace.txt\" \"s3://mousebrainatlas-data/CSHL_volumes/atlasV5/atlasV5_10.0um_scoreVolume/score_volumes/atlasV5_10.0um_scoreVolume_7N_R_bbox_wrt_atlasSpace.txt\"\n"
     ]
    },
    {
     "name": "stderr",
     "output_type": "stream",
     "text": [
      "Rescale 7N_R.\n"
     ]
    },
    {
     "name": "stdout",
     "output_type": "stream",
     "text": [
      "7N_R_surround_200\n",
      "aws s3 cp \"/home/yuncong/CSHL_volumes/atlasV5/atlasV5_10.0um_scoreVolume/score_volumes/atlasV5_10.0um_scoreVolume_7N_R_surround_200.bp\" \"s3://mousebrainatlas-data/CSHL_volumes/atlasV5/atlasV5_10.0um_scoreVolume/score_volumes/atlasV5_10.0um_scoreVolume_7N_R_surround_200.bp\"\n",
      "aws s3 cp \"/home/yuncong/CSHL_volumes/atlasV5/atlasV5_10.0um_scoreVolume/score_volumes/atlasV5_10.0um_scoreVolume_7N_R_surround_200_bbox_wrt_atlasSpace.txt\" \"s3://mousebrainatlas-data/CSHL_volumes/atlasV5/atlasV5_10.0um_scoreVolume/score_volumes/atlasV5_10.0um_scoreVolume_7N_R_surround_200_bbox_wrt_atlasSpace.txt\"\n"
     ]
    },
    {
     "name": "stderr",
     "output_type": "stream",
     "text": [
      "Rescale 7N_R_surround_200.\n"
     ]
    },
    {
     "name": "stdout",
     "output_type": "stream",
     "text": [
      "7n_L\n",
      "aws s3 cp \"/home/yuncong/CSHL_volumes/atlasV5/atlasV5_10.0um_scoreVolume/score_volumes/atlasV5_10.0um_scoreVolume_7n_L.bp\" \"s3://mousebrainatlas-data/CSHL_volumes/atlasV5/atlasV5_10.0um_scoreVolume/score_volumes/atlasV5_10.0um_scoreVolume_7n_L.bp\"\n",
      "aws s3 cp \"/home/yuncong/CSHL_volumes/atlasV5/atlasV5_10.0um_scoreVolume/score_volumes/atlasV5_10.0um_scoreVolume_7n_L_bbox_wrt_atlasSpace.txt\" \"s3://mousebrainatlas-data/CSHL_volumes/atlasV5/atlasV5_10.0um_scoreVolume/score_volumes/atlasV5_10.0um_scoreVolume_7n_L_bbox_wrt_atlasSpace.txt\"\n"
     ]
    },
    {
     "name": "stderr",
     "output_type": "stream",
     "text": [
      "Rescale 7n_L.\n"
     ]
    },
    {
     "name": "stdout",
     "output_type": "stream",
     "text": [
      "7n_L_surround_200\n",
      "aws s3 cp \"/home/yuncong/CSHL_volumes/atlasV5/atlasV5_10.0um_scoreVolume/score_volumes/atlasV5_10.0um_scoreVolume_7n_L_surround_200.bp\" \"s3://mousebrainatlas-data/CSHL_volumes/atlasV5/atlasV5_10.0um_scoreVolume/score_volumes/atlasV5_10.0um_scoreVolume_7n_L_surround_200.bp\"\n",
      "aws s3 cp \"/home/yuncong/CSHL_volumes/atlasV5/atlasV5_10.0um_scoreVolume/score_volumes/atlasV5_10.0um_scoreVolume_7n_L_surround_200_bbox_wrt_atlasSpace.txt\" \"s3://mousebrainatlas-data/CSHL_volumes/atlasV5/atlasV5_10.0um_scoreVolume/score_volumes/atlasV5_10.0um_scoreVolume_7n_L_surround_200_bbox_wrt_atlasSpace.txt\"\n"
     ]
    },
    {
     "name": "stderr",
     "output_type": "stream",
     "text": [
      "Rescale 7n_L_surround_200.\n"
     ]
    },
    {
     "name": "stdout",
     "output_type": "stream",
     "text": [
      "7n_R\n",
      "aws s3 cp \"/home/yuncong/CSHL_volumes/atlasV5/atlasV5_10.0um_scoreVolume/score_volumes/atlasV5_10.0um_scoreVolume_7n_R.bp\" \"s3://mousebrainatlas-data/CSHL_volumes/atlasV5/atlasV5_10.0um_scoreVolume/score_volumes/atlasV5_10.0um_scoreVolume_7n_R.bp\"\n",
      "aws s3 cp \"/home/yuncong/CSHL_volumes/atlasV5/atlasV5_10.0um_scoreVolume/score_volumes/atlasV5_10.0um_scoreVolume_7n_R_bbox_wrt_atlasSpace.txt\" \"s3://mousebrainatlas-data/CSHL_volumes/atlasV5/atlasV5_10.0um_scoreVolume/score_volumes/atlasV5_10.0um_scoreVolume_7n_R_bbox_wrt_atlasSpace.txt\"\n"
     ]
    },
    {
     "name": "stderr",
     "output_type": "stream",
     "text": [
      "Rescale 7n_R.\n"
     ]
    },
    {
     "name": "stdout",
     "output_type": "stream",
     "text": [
      "7n_R_surround_200\n",
      "aws s3 cp \"/home/yuncong/CSHL_volumes/atlasV5/atlasV5_10.0um_scoreVolume/score_volumes/atlasV5_10.0um_scoreVolume_7n_R_surround_200.bp\" \"s3://mousebrainatlas-data/CSHL_volumes/atlasV5/atlasV5_10.0um_scoreVolume/score_volumes/atlasV5_10.0um_scoreVolume_7n_R_surround_200.bp\"\n",
      "aws s3 cp \"/home/yuncong/CSHL_volumes/atlasV5/atlasV5_10.0um_scoreVolume/score_volumes/atlasV5_10.0um_scoreVolume_7n_R_surround_200_bbox_wrt_atlasSpace.txt\" \"s3://mousebrainatlas-data/CSHL_volumes/atlasV5/atlasV5_10.0um_scoreVolume/score_volumes/atlasV5_10.0um_scoreVolume_7n_R_surround_200_bbox_wrt_atlasSpace.txt\"\n"
     ]
    },
    {
     "name": "stderr",
     "output_type": "stream",
     "text": [
      "Rescale 7n_R_surround_200.\n"
     ]
    },
    {
     "name": "stdout",
     "output_type": "stream",
     "text": [
      "AP\n",
      "aws s3 cp \"/home/yuncong/CSHL_volumes/atlasV5/atlasV5_10.0um_scoreVolume/score_volumes/atlasV5_10.0um_scoreVolume_AP.bp\" \"s3://mousebrainatlas-data/CSHL_volumes/atlasV5/atlasV5_10.0um_scoreVolume/score_volumes/atlasV5_10.0um_scoreVolume_AP.bp\"\n",
      "aws s3 cp \"/home/yuncong/CSHL_volumes/atlasV5/atlasV5_10.0um_scoreVolume/score_volumes/atlasV5_10.0um_scoreVolume_AP_bbox_wrt_atlasSpace.txt\" \"s3://mousebrainatlas-data/CSHL_volumes/atlasV5/atlasV5_10.0um_scoreVolume/score_volumes/atlasV5_10.0um_scoreVolume_AP_bbox_wrt_atlasSpace.txt\"\n"
     ]
    },
    {
     "name": "stderr",
     "output_type": "stream",
     "text": [
      "Rescale AP.\n"
     ]
    },
    {
     "name": "stdout",
     "output_type": "stream",
     "text": [
      "AP_surround_200\n",
      "aws s3 cp \"/home/yuncong/CSHL_volumes/atlasV5/atlasV5_10.0um_scoreVolume/score_volumes/atlasV5_10.0um_scoreVolume_AP_surround_200.bp\" \"s3://mousebrainatlas-data/CSHL_volumes/atlasV5/atlasV5_10.0um_scoreVolume/score_volumes/atlasV5_10.0um_scoreVolume_AP_surround_200.bp\"\n",
      "aws s3 cp \"/home/yuncong/CSHL_volumes/atlasV5/atlasV5_10.0um_scoreVolume/score_volumes/atlasV5_10.0um_scoreVolume_AP_surround_200_bbox_wrt_atlasSpace.txt\" \"s3://mousebrainatlas-data/CSHL_volumes/atlasV5/atlasV5_10.0um_scoreVolume/score_volumes/atlasV5_10.0um_scoreVolume_AP_surround_200_bbox_wrt_atlasSpace.txt\"\n"
     ]
    },
    {
     "name": "stderr",
     "output_type": "stream",
     "text": [
      "Rescale AP_surround_200.\n"
     ]
    },
    {
     "name": "stdout",
     "output_type": "stream",
     "text": [
      "Amb_L\n",
      "aws s3 cp \"/home/yuncong/CSHL_volumes/atlasV5/atlasV5_10.0um_scoreVolume/score_volumes/atlasV5_10.0um_scoreVolume_Amb_L.bp\" \"s3://mousebrainatlas-data/CSHL_volumes/atlasV5/atlasV5_10.0um_scoreVolume/score_volumes/atlasV5_10.0um_scoreVolume_Amb_L.bp\"\n",
      "aws s3 cp \"/home/yuncong/CSHL_volumes/atlasV5/atlasV5_10.0um_scoreVolume/score_volumes/atlasV5_10.0um_scoreVolume_Amb_L_bbox_wrt_atlasSpace.txt\" \"s3://mousebrainatlas-data/CSHL_volumes/atlasV5/atlasV5_10.0um_scoreVolume/score_volumes/atlasV5_10.0um_scoreVolume_Amb_L_bbox_wrt_atlasSpace.txt\"\n"
     ]
    },
    {
     "name": "stderr",
     "output_type": "stream",
     "text": [
      "Rescale Amb_L.\n"
     ]
    },
    {
     "name": "stdout",
     "output_type": "stream",
     "text": [
      "Amb_L_surround_200\n",
      "aws s3 cp \"/home/yuncong/CSHL_volumes/atlasV5/atlasV5_10.0um_scoreVolume/score_volumes/atlasV5_10.0um_scoreVolume_Amb_L_surround_200.bp\" \"s3://mousebrainatlas-data/CSHL_volumes/atlasV5/atlasV5_10.0um_scoreVolume/score_volumes/atlasV5_10.0um_scoreVolume_Amb_L_surround_200.bp\"\n",
      "aws s3 cp \"/home/yuncong/CSHL_volumes/atlasV5/atlasV5_10.0um_scoreVolume/score_volumes/atlasV5_10.0um_scoreVolume_Amb_L_surround_200_bbox_wrt_atlasSpace.txt\" \"s3://mousebrainatlas-data/CSHL_volumes/atlasV5/atlasV5_10.0um_scoreVolume/score_volumes/atlasV5_10.0um_scoreVolume_Amb_L_surround_200_bbox_wrt_atlasSpace.txt\"\n"
     ]
    },
    {
     "name": "stderr",
     "output_type": "stream",
     "text": [
      "Rescale Amb_L_surround_200.\n"
     ]
    },
    {
     "name": "stdout",
     "output_type": "stream",
     "text": [
      "Amb_R\n",
      "aws s3 cp \"/home/yuncong/CSHL_volumes/atlasV5/atlasV5_10.0um_scoreVolume/score_volumes/atlasV5_10.0um_scoreVolume_Amb_R.bp\" \"s3://mousebrainatlas-data/CSHL_volumes/atlasV5/atlasV5_10.0um_scoreVolume/score_volumes/atlasV5_10.0um_scoreVolume_Amb_R.bp\"\n",
      "aws s3 cp \"/home/yuncong/CSHL_volumes/atlasV5/atlasV5_10.0um_scoreVolume/score_volumes/atlasV5_10.0um_scoreVolume_Amb_R_bbox_wrt_atlasSpace.txt\" \"s3://mousebrainatlas-data/CSHL_volumes/atlasV5/atlasV5_10.0um_scoreVolume/score_volumes/atlasV5_10.0um_scoreVolume_Amb_R_bbox_wrt_atlasSpace.txt\"\n"
     ]
    },
    {
     "name": "stderr",
     "output_type": "stream",
     "text": [
      "Rescale Amb_R.\n"
     ]
    },
    {
     "name": "stdout",
     "output_type": "stream",
     "text": [
      "Amb_R_surround_200\n",
      "aws s3 cp \"/home/yuncong/CSHL_volumes/atlasV5/atlasV5_10.0um_scoreVolume/score_volumes/atlasV5_10.0um_scoreVolume_Amb_R_surround_200.bp\" \"s3://mousebrainatlas-data/CSHL_volumes/atlasV5/atlasV5_10.0um_scoreVolume/score_volumes/atlasV5_10.0um_scoreVolume_Amb_R_surround_200.bp\"\n",
      "aws s3 cp \"/home/yuncong/CSHL_volumes/atlasV5/atlasV5_10.0um_scoreVolume/score_volumes/atlasV5_10.0um_scoreVolume_Amb_R_surround_200_bbox_wrt_atlasSpace.txt\" \"s3://mousebrainatlas-data/CSHL_volumes/atlasV5/atlasV5_10.0um_scoreVolume/score_volumes/atlasV5_10.0um_scoreVolume_Amb_R_surround_200_bbox_wrt_atlasSpace.txt\"\n"
     ]
    },
    {
     "name": "stderr",
     "output_type": "stream",
     "text": [
      "Rescale Amb_R_surround_200.\n"
     ]
    },
    {
     "name": "stdout",
     "output_type": "stream",
     "text": [
      "DC_L\n",
      "aws s3 cp \"/home/yuncong/CSHL_volumes/atlasV5/atlasV5_10.0um_scoreVolume/score_volumes/atlasV5_10.0um_scoreVolume_DC_L.bp\" \"s3://mousebrainatlas-data/CSHL_volumes/atlasV5/atlasV5_10.0um_scoreVolume/score_volumes/atlasV5_10.0um_scoreVolume_DC_L.bp\"\n",
      "aws s3 cp \"/home/yuncong/CSHL_volumes/atlasV5/atlasV5_10.0um_scoreVolume/score_volumes/atlasV5_10.0um_scoreVolume_DC_L_bbox_wrt_atlasSpace.txt\" \"s3://mousebrainatlas-data/CSHL_volumes/atlasV5/atlasV5_10.0um_scoreVolume/score_volumes/atlasV5_10.0um_scoreVolume_DC_L_bbox_wrt_atlasSpace.txt\"\n"
     ]
    },
    {
     "name": "stderr",
     "output_type": "stream",
     "text": [
      "Rescale DC_L.\n"
     ]
    },
    {
     "name": "stdout",
     "output_type": "stream",
     "text": [
      "DC_L_surround_200\n",
      "aws s3 cp \"/home/yuncong/CSHL_volumes/atlasV5/atlasV5_10.0um_scoreVolume/score_volumes/atlasV5_10.0um_scoreVolume_DC_L_surround_200.bp\" \"s3://mousebrainatlas-data/CSHL_volumes/atlasV5/atlasV5_10.0um_scoreVolume/score_volumes/atlasV5_10.0um_scoreVolume_DC_L_surround_200.bp\"\n",
      "aws s3 cp \"/home/yuncong/CSHL_volumes/atlasV5/atlasV5_10.0um_scoreVolume/score_volumes/atlasV5_10.0um_scoreVolume_DC_L_surround_200_bbox_wrt_atlasSpace.txt\" \"s3://mousebrainatlas-data/CSHL_volumes/atlasV5/atlasV5_10.0um_scoreVolume/score_volumes/atlasV5_10.0um_scoreVolume_DC_L_surround_200_bbox_wrt_atlasSpace.txt\"\n"
     ]
    },
    {
     "name": "stderr",
     "output_type": "stream",
     "text": [
      "Rescale DC_L_surround_200.\n"
     ]
    },
    {
     "name": "stdout",
     "output_type": "stream",
     "text": [
      "DC_R\n",
      "aws s3 cp \"/home/yuncong/CSHL_volumes/atlasV5/atlasV5_10.0um_scoreVolume/score_volumes/atlasV5_10.0um_scoreVolume_DC_R.bp\" \"s3://mousebrainatlas-data/CSHL_volumes/atlasV5/atlasV5_10.0um_scoreVolume/score_volumes/atlasV5_10.0um_scoreVolume_DC_R.bp\"\n",
      "aws s3 cp \"/home/yuncong/CSHL_volumes/atlasV5/atlasV5_10.0um_scoreVolume/score_volumes/atlasV5_10.0um_scoreVolume_DC_R_bbox_wrt_atlasSpace.txt\" \"s3://mousebrainatlas-data/CSHL_volumes/atlasV5/atlasV5_10.0um_scoreVolume/score_volumes/atlasV5_10.0um_scoreVolume_DC_R_bbox_wrt_atlasSpace.txt\"\n"
     ]
    },
    {
     "name": "stderr",
     "output_type": "stream",
     "text": [
      "Rescale DC_R.\n"
     ]
    },
    {
     "name": "stdout",
     "output_type": "stream",
     "text": [
      "DC_R_surround_200\n",
      "aws s3 cp \"/home/yuncong/CSHL_volumes/atlasV5/atlasV5_10.0um_scoreVolume/score_volumes/atlasV5_10.0um_scoreVolume_DC_R_surround_200.bp\" \"s3://mousebrainatlas-data/CSHL_volumes/atlasV5/atlasV5_10.0um_scoreVolume/score_volumes/atlasV5_10.0um_scoreVolume_DC_R_surround_200.bp\"\n",
      "aws s3 cp \"/home/yuncong/CSHL_volumes/atlasV5/atlasV5_10.0um_scoreVolume/score_volumes/atlasV5_10.0um_scoreVolume_DC_R_surround_200_bbox_wrt_atlasSpace.txt\" \"s3://mousebrainatlas-data/CSHL_volumes/atlasV5/atlasV5_10.0um_scoreVolume/score_volumes/atlasV5_10.0um_scoreVolume_DC_R_surround_200_bbox_wrt_atlasSpace.txt\"\n"
     ]
    },
    {
     "name": "stderr",
     "output_type": "stream",
     "text": [
      "Rescale DC_R_surround_200.\n"
     ]
    },
    {
     "name": "stdout",
     "output_type": "stream",
     "text": [
      "IC\n",
      "aws s3 cp \"/home/yuncong/CSHL_volumes/atlasV5/atlasV5_10.0um_scoreVolume/score_volumes/atlasV5_10.0um_scoreVolume_IC.bp\" \"s3://mousebrainatlas-data/CSHL_volumes/atlasV5/atlasV5_10.0um_scoreVolume/score_volumes/atlasV5_10.0um_scoreVolume_IC.bp\"\n",
      "aws s3 cp \"/home/yuncong/CSHL_volumes/atlasV5/atlasV5_10.0um_scoreVolume/score_volumes/atlasV5_10.0um_scoreVolume_IC_bbox_wrt_atlasSpace.txt\" \"s3://mousebrainatlas-data/CSHL_volumes/atlasV5/atlasV5_10.0um_scoreVolume/score_volumes/atlasV5_10.0um_scoreVolume_IC_bbox_wrt_atlasSpace.txt\"\n"
     ]
    },
    {
     "name": "stderr",
     "output_type": "stream",
     "text": [
      "Rescale IC.\n"
     ]
    },
    {
     "name": "stdout",
     "output_type": "stream",
     "text": [
      "IC_surround_200\n",
      "aws s3 cp \"/home/yuncong/CSHL_volumes/atlasV5/atlasV5_10.0um_scoreVolume/score_volumes/atlasV5_10.0um_scoreVolume_IC_surround_200.bp\" \"s3://mousebrainatlas-data/CSHL_volumes/atlasV5/atlasV5_10.0um_scoreVolume/score_volumes/atlasV5_10.0um_scoreVolume_IC_surround_200.bp\"\n",
      "aws s3 cp \"/home/yuncong/CSHL_volumes/atlasV5/atlasV5_10.0um_scoreVolume/score_volumes/atlasV5_10.0um_scoreVolume_IC_surround_200_bbox_wrt_atlasSpace.txt\" \"s3://mousebrainatlas-data/CSHL_volumes/atlasV5/atlasV5_10.0um_scoreVolume/score_volumes/atlasV5_10.0um_scoreVolume_IC_surround_200_bbox_wrt_atlasSpace.txt\"\n"
     ]
    },
    {
     "name": "stderr",
     "output_type": "stream",
     "text": [
      "Rescale IC_surround_200.\n"
     ]
    },
    {
     "name": "stdout",
     "output_type": "stream",
     "text": [
      "LC_L\n",
      "aws s3 cp \"/home/yuncong/CSHL_volumes/atlasV5/atlasV5_10.0um_scoreVolume/score_volumes/atlasV5_10.0um_scoreVolume_LC_L.bp\" \"s3://mousebrainatlas-data/CSHL_volumes/atlasV5/atlasV5_10.0um_scoreVolume/score_volumes/atlasV5_10.0um_scoreVolume_LC_L.bp\"\n",
      "aws s3 cp \"/home/yuncong/CSHL_volumes/atlasV5/atlasV5_10.0um_scoreVolume/score_volumes/atlasV5_10.0um_scoreVolume_LC_L_bbox_wrt_atlasSpace.txt\" \"s3://mousebrainatlas-data/CSHL_volumes/atlasV5/atlasV5_10.0um_scoreVolume/score_volumes/atlasV5_10.0um_scoreVolume_LC_L_bbox_wrt_atlasSpace.txt\"\n"
     ]
    },
    {
     "name": "stderr",
     "output_type": "stream",
     "text": [
      "Rescale LC_L.\n"
     ]
    },
    {
     "name": "stdout",
     "output_type": "stream",
     "text": [
      "LC_L_surround_200\n",
      "aws s3 cp \"/home/yuncong/CSHL_volumes/atlasV5/atlasV5_10.0um_scoreVolume/score_volumes/atlasV5_10.0um_scoreVolume_LC_L_surround_200.bp\" \"s3://mousebrainatlas-data/CSHL_volumes/atlasV5/atlasV5_10.0um_scoreVolume/score_volumes/atlasV5_10.0um_scoreVolume_LC_L_surround_200.bp\"\n",
      "aws s3 cp \"/home/yuncong/CSHL_volumes/atlasV5/atlasV5_10.0um_scoreVolume/score_volumes/atlasV5_10.0um_scoreVolume_LC_L_surround_200_bbox_wrt_atlasSpace.txt\" \"s3://mousebrainatlas-data/CSHL_volumes/atlasV5/atlasV5_10.0um_scoreVolume/score_volumes/atlasV5_10.0um_scoreVolume_LC_L_surround_200_bbox_wrt_atlasSpace.txt\"\n"
     ]
    },
    {
     "name": "stderr",
     "output_type": "stream",
     "text": [
      "Rescale LC_L_surround_200.\n"
     ]
    },
    {
     "name": "stdout",
     "output_type": "stream",
     "text": [
      "LC_R\n",
      "aws s3 cp \"/home/yuncong/CSHL_volumes/atlasV5/atlasV5_10.0um_scoreVolume/score_volumes/atlasV5_10.0um_scoreVolume_LC_R.bp\" \"s3://mousebrainatlas-data/CSHL_volumes/atlasV5/atlasV5_10.0um_scoreVolume/score_volumes/atlasV5_10.0um_scoreVolume_LC_R.bp\"\n",
      "aws s3 cp \"/home/yuncong/CSHL_volumes/atlasV5/atlasV5_10.0um_scoreVolume/score_volumes/atlasV5_10.0um_scoreVolume_LC_R_bbox_wrt_atlasSpace.txt\" \"s3://mousebrainatlas-data/CSHL_volumes/atlasV5/atlasV5_10.0um_scoreVolume/score_volumes/atlasV5_10.0um_scoreVolume_LC_R_bbox_wrt_atlasSpace.txt\"\n"
     ]
    },
    {
     "name": "stderr",
     "output_type": "stream",
     "text": [
      "Rescale LC_R.\n"
     ]
    },
    {
     "name": "stdout",
     "output_type": "stream",
     "text": [
      "LC_R_surround_200\n",
      "aws s3 cp \"/home/yuncong/CSHL_volumes/atlasV5/atlasV5_10.0um_scoreVolume/score_volumes/atlasV5_10.0um_scoreVolume_LC_R_surround_200.bp\" \"s3://mousebrainatlas-data/CSHL_volumes/atlasV5/atlasV5_10.0um_scoreVolume/score_volumes/atlasV5_10.0um_scoreVolume_LC_R_surround_200.bp\"\n",
      "aws s3 cp \"/home/yuncong/CSHL_volumes/atlasV5/atlasV5_10.0um_scoreVolume/score_volumes/atlasV5_10.0um_scoreVolume_LC_R_surround_200_bbox_wrt_atlasSpace.txt\" \"s3://mousebrainatlas-data/CSHL_volumes/atlasV5/atlasV5_10.0um_scoreVolume/score_volumes/atlasV5_10.0um_scoreVolume_LC_R_surround_200_bbox_wrt_atlasSpace.txt\"\n"
     ]
    },
    {
     "name": "stderr",
     "output_type": "stream",
     "text": [
      "Rescale LC_R_surround_200.\n"
     ]
    },
    {
     "name": "stdout",
     "output_type": "stream",
     "text": [
      "LRt_L\n",
      "aws s3 cp \"/home/yuncong/CSHL_volumes/atlasV5/atlasV5_10.0um_scoreVolume/score_volumes/atlasV5_10.0um_scoreVolume_LRt_L.bp\" \"s3://mousebrainatlas-data/CSHL_volumes/atlasV5/atlasV5_10.0um_scoreVolume/score_volumes/atlasV5_10.0um_scoreVolume_LRt_L.bp\"\n",
      "aws s3 cp \"/home/yuncong/CSHL_volumes/atlasV5/atlasV5_10.0um_scoreVolume/score_volumes/atlasV5_10.0um_scoreVolume_LRt_L_bbox_wrt_atlasSpace.txt\" \"s3://mousebrainatlas-data/CSHL_volumes/atlasV5/atlasV5_10.0um_scoreVolume/score_volumes/atlasV5_10.0um_scoreVolume_LRt_L_bbox_wrt_atlasSpace.txt\"\n"
     ]
    },
    {
     "name": "stderr",
     "output_type": "stream",
     "text": [
      "Rescale LRt_L.\n"
     ]
    },
    {
     "name": "stdout",
     "output_type": "stream",
     "text": [
      "LRt_L_surround_200\n",
      "aws s3 cp \"/home/yuncong/CSHL_volumes/atlasV5/atlasV5_10.0um_scoreVolume/score_volumes/atlasV5_10.0um_scoreVolume_LRt_L_surround_200.bp\" \"s3://mousebrainatlas-data/CSHL_volumes/atlasV5/atlasV5_10.0um_scoreVolume/score_volumes/atlasV5_10.0um_scoreVolume_LRt_L_surround_200.bp\"\n",
      "aws s3 cp \"/home/yuncong/CSHL_volumes/atlasV5/atlasV5_10.0um_scoreVolume/score_volumes/atlasV5_10.0um_scoreVolume_LRt_L_surround_200_bbox_wrt_atlasSpace.txt\" \"s3://mousebrainatlas-data/CSHL_volumes/atlasV5/atlasV5_10.0um_scoreVolume/score_volumes/atlasV5_10.0um_scoreVolume_LRt_L_surround_200_bbox_wrt_atlasSpace.txt\"\n"
     ]
    },
    {
     "name": "stderr",
     "output_type": "stream",
     "text": [
      "Rescale LRt_L_surround_200.\n"
     ]
    },
    {
     "name": "stdout",
     "output_type": "stream",
     "text": [
      "LRt_R\n",
      "aws s3 cp \"/home/yuncong/CSHL_volumes/atlasV5/atlasV5_10.0um_scoreVolume/score_volumes/atlasV5_10.0um_scoreVolume_LRt_R.bp\" \"s3://mousebrainatlas-data/CSHL_volumes/atlasV5/atlasV5_10.0um_scoreVolume/score_volumes/atlasV5_10.0um_scoreVolume_LRt_R.bp\"\n",
      "aws s3 cp \"/home/yuncong/CSHL_volumes/atlasV5/atlasV5_10.0um_scoreVolume/score_volumes/atlasV5_10.0um_scoreVolume_LRt_R_bbox_wrt_atlasSpace.txt\" \"s3://mousebrainatlas-data/CSHL_volumes/atlasV5/atlasV5_10.0um_scoreVolume/score_volumes/atlasV5_10.0um_scoreVolume_LRt_R_bbox_wrt_atlasSpace.txt\"\n"
     ]
    },
    {
     "name": "stderr",
     "output_type": "stream",
     "text": [
      "Rescale LRt_R.\n"
     ]
    },
    {
     "name": "stdout",
     "output_type": "stream",
     "text": [
      "LRt_R_surround_200\n",
      "aws s3 cp \"/home/yuncong/CSHL_volumes/atlasV5/atlasV5_10.0um_scoreVolume/score_volumes/atlasV5_10.0um_scoreVolume_LRt_R_surround_200.bp\" \"s3://mousebrainatlas-data/CSHL_volumes/atlasV5/atlasV5_10.0um_scoreVolume/score_volumes/atlasV5_10.0um_scoreVolume_LRt_R_surround_200.bp\"\n",
      "aws s3 cp \"/home/yuncong/CSHL_volumes/atlasV5/atlasV5_10.0um_scoreVolume/score_volumes/atlasV5_10.0um_scoreVolume_LRt_R_surround_200_bbox_wrt_atlasSpace.txt\" \"s3://mousebrainatlas-data/CSHL_volumes/atlasV5/atlasV5_10.0um_scoreVolume/score_volumes/atlasV5_10.0um_scoreVolume_LRt_R_surround_200_bbox_wrt_atlasSpace.txt\"\n"
     ]
    },
    {
     "name": "stderr",
     "output_type": "stream",
     "text": [
      "Rescale LRt_R_surround_200.\n"
     ]
    },
    {
     "name": "stdout",
     "output_type": "stream",
     "text": [
      "PBG_L\n",
      "aws s3 cp \"/home/yuncong/CSHL_volumes/atlasV5/atlasV5_10.0um_scoreVolume/score_volumes/atlasV5_10.0um_scoreVolume_PBG_L.bp\" \"s3://mousebrainatlas-data/CSHL_volumes/atlasV5/atlasV5_10.0um_scoreVolume/score_volumes/atlasV5_10.0um_scoreVolume_PBG_L.bp\"\n",
      "aws s3 cp \"/home/yuncong/CSHL_volumes/atlasV5/atlasV5_10.0um_scoreVolume/score_volumes/atlasV5_10.0um_scoreVolume_PBG_L_bbox_wrt_atlasSpace.txt\" \"s3://mousebrainatlas-data/CSHL_volumes/atlasV5/atlasV5_10.0um_scoreVolume/score_volumes/atlasV5_10.0um_scoreVolume_PBG_L_bbox_wrt_atlasSpace.txt\"\n"
     ]
    },
    {
     "name": "stderr",
     "output_type": "stream",
     "text": [
      "Rescale PBG_L.\n"
     ]
    },
    {
     "name": "stdout",
     "output_type": "stream",
     "text": [
      "PBG_L_surround_200\n",
      "aws s3 cp \"/home/yuncong/CSHL_volumes/atlasV5/atlasV5_10.0um_scoreVolume/score_volumes/atlasV5_10.0um_scoreVolume_PBG_L_surround_200.bp\" \"s3://mousebrainatlas-data/CSHL_volumes/atlasV5/atlasV5_10.0um_scoreVolume/score_volumes/atlasV5_10.0um_scoreVolume_PBG_L_surround_200.bp\"\n",
      "aws s3 cp \"/home/yuncong/CSHL_volumes/atlasV5/atlasV5_10.0um_scoreVolume/score_volumes/atlasV5_10.0um_scoreVolume_PBG_L_surround_200_bbox_wrt_atlasSpace.txt\" \"s3://mousebrainatlas-data/CSHL_volumes/atlasV5/atlasV5_10.0um_scoreVolume/score_volumes/atlasV5_10.0um_scoreVolume_PBG_L_surround_200_bbox_wrt_atlasSpace.txt\"\n"
     ]
    },
    {
     "name": "stderr",
     "output_type": "stream",
     "text": [
      "Rescale PBG_L_surround_200.\n"
     ]
    },
    {
     "name": "stdout",
     "output_type": "stream",
     "text": [
      "PBG_R\n",
      "aws s3 cp \"/home/yuncong/CSHL_volumes/atlasV5/atlasV5_10.0um_scoreVolume/score_volumes/atlasV5_10.0um_scoreVolume_PBG_R.bp\" \"s3://mousebrainatlas-data/CSHL_volumes/atlasV5/atlasV5_10.0um_scoreVolume/score_volumes/atlasV5_10.0um_scoreVolume_PBG_R.bp\"\n",
      "aws s3 cp \"/home/yuncong/CSHL_volumes/atlasV5/atlasV5_10.0um_scoreVolume/score_volumes/atlasV5_10.0um_scoreVolume_PBG_R_bbox_wrt_atlasSpace.txt\" \"s3://mousebrainatlas-data/CSHL_volumes/atlasV5/atlasV5_10.0um_scoreVolume/score_volumes/atlasV5_10.0um_scoreVolume_PBG_R_bbox_wrt_atlasSpace.txt\"\n"
     ]
    },
    {
     "name": "stderr",
     "output_type": "stream",
     "text": [
      "Rescale PBG_R.\n"
     ]
    },
    {
     "name": "stdout",
     "output_type": "stream",
     "text": [
      "PBG_R_surround_200\n",
      "aws s3 cp \"/home/yuncong/CSHL_volumes/atlasV5/atlasV5_10.0um_scoreVolume/score_volumes/atlasV5_10.0um_scoreVolume_PBG_R_surround_200.bp\" \"s3://mousebrainatlas-data/CSHL_volumes/atlasV5/atlasV5_10.0um_scoreVolume/score_volumes/atlasV5_10.0um_scoreVolume_PBG_R_surround_200.bp\"\n",
      "aws s3 cp \"/home/yuncong/CSHL_volumes/atlasV5/atlasV5_10.0um_scoreVolume/score_volumes/atlasV5_10.0um_scoreVolume_PBG_R_surround_200_bbox_wrt_atlasSpace.txt\" \"s3://mousebrainatlas-data/CSHL_volumes/atlasV5/atlasV5_10.0um_scoreVolume/score_volumes/atlasV5_10.0um_scoreVolume_PBG_R_surround_200_bbox_wrt_atlasSpace.txt\"\n"
     ]
    },
    {
     "name": "stderr",
     "output_type": "stream",
     "text": [
      "Rescale PBG_R_surround_200.\n"
     ]
    },
    {
     "name": "stdout",
     "output_type": "stream",
     "text": [
      "Pn_L\n",
      "aws s3 cp \"/home/yuncong/CSHL_volumes/atlasV5/atlasV5_10.0um_scoreVolume/score_volumes/atlasV5_10.0um_scoreVolume_Pn_L.bp\" \"s3://mousebrainatlas-data/CSHL_volumes/atlasV5/atlasV5_10.0um_scoreVolume/score_volumes/atlasV5_10.0um_scoreVolume_Pn_L.bp\"\n",
      "aws s3 cp \"/home/yuncong/CSHL_volumes/atlasV5/atlasV5_10.0um_scoreVolume/score_volumes/atlasV5_10.0um_scoreVolume_Pn_L_bbox_wrt_atlasSpace.txt\" \"s3://mousebrainatlas-data/CSHL_volumes/atlasV5/atlasV5_10.0um_scoreVolume/score_volumes/atlasV5_10.0um_scoreVolume_Pn_L_bbox_wrt_atlasSpace.txt\"\n"
     ]
    },
    {
     "name": "stderr",
     "output_type": "stream",
     "text": [
      "Rescale Pn_L.\n"
     ]
    },
    {
     "name": "stdout",
     "output_type": "stream",
     "text": [
      "Pn_L_surround_200\n",
      "aws s3 cp \"/home/yuncong/CSHL_volumes/atlasV5/atlasV5_10.0um_scoreVolume/score_volumes/atlasV5_10.0um_scoreVolume_Pn_L_surround_200.bp\" \"s3://mousebrainatlas-data/CSHL_volumes/atlasV5/atlasV5_10.0um_scoreVolume/score_volumes/atlasV5_10.0um_scoreVolume_Pn_L_surround_200.bp\"\n",
      "aws s3 cp \"/home/yuncong/CSHL_volumes/atlasV5/atlasV5_10.0um_scoreVolume/score_volumes/atlasV5_10.0um_scoreVolume_Pn_L_surround_200_bbox_wrt_atlasSpace.txt\" \"s3://mousebrainatlas-data/CSHL_volumes/atlasV5/atlasV5_10.0um_scoreVolume/score_volumes/atlasV5_10.0um_scoreVolume_Pn_L_surround_200_bbox_wrt_atlasSpace.txt\"\n"
     ]
    },
    {
     "name": "stderr",
     "output_type": "stream",
     "text": [
      "Rescale Pn_L_surround_200.\n"
     ]
    },
    {
     "name": "stdout",
     "output_type": "stream",
     "text": [
      "Pn_R\n",
      "aws s3 cp \"/home/yuncong/CSHL_volumes/atlasV5/atlasV5_10.0um_scoreVolume/score_volumes/atlasV5_10.0um_scoreVolume_Pn_R.bp\" \"s3://mousebrainatlas-data/CSHL_volumes/atlasV5/atlasV5_10.0um_scoreVolume/score_volumes/atlasV5_10.0um_scoreVolume_Pn_R.bp\"\n",
      "aws s3 cp \"/home/yuncong/CSHL_volumes/atlasV5/atlasV5_10.0um_scoreVolume/score_volumes/atlasV5_10.0um_scoreVolume_Pn_R_bbox_wrt_atlasSpace.txt\" \"s3://mousebrainatlas-data/CSHL_volumes/atlasV5/atlasV5_10.0um_scoreVolume/score_volumes/atlasV5_10.0um_scoreVolume_Pn_R_bbox_wrt_atlasSpace.txt\"\n"
     ]
    },
    {
     "name": "stderr",
     "output_type": "stream",
     "text": [
      "Rescale Pn_R.\n"
     ]
    },
    {
     "name": "stdout",
     "output_type": "stream",
     "text": [
      "Pn_R_surround_200\n",
      "aws s3 cp \"/home/yuncong/CSHL_volumes/atlasV5/atlasV5_10.0um_scoreVolume/score_volumes/atlasV5_10.0um_scoreVolume_Pn_R_surround_200.bp\" \"s3://mousebrainatlas-data/CSHL_volumes/atlasV5/atlasV5_10.0um_scoreVolume/score_volumes/atlasV5_10.0um_scoreVolume_Pn_R_surround_200.bp\"\n",
      "aws s3 cp \"/home/yuncong/CSHL_volumes/atlasV5/atlasV5_10.0um_scoreVolume/score_volumes/atlasV5_10.0um_scoreVolume_Pn_R_surround_200_bbox_wrt_atlasSpace.txt\" \"s3://mousebrainatlas-data/CSHL_volumes/atlasV5/atlasV5_10.0um_scoreVolume/score_volumes/atlasV5_10.0um_scoreVolume_Pn_R_surround_200_bbox_wrt_atlasSpace.txt\"\n"
     ]
    },
    {
     "name": "stderr",
     "output_type": "stream",
     "text": [
      "Rescale Pn_R_surround_200.\n"
     ]
    },
    {
     "name": "stdout",
     "output_type": "stream",
     "text": [
      "RMC_L\n",
      "aws s3 cp \"/home/yuncong/CSHL_volumes/atlasV5/atlasV5_10.0um_scoreVolume/score_volumes/atlasV5_10.0um_scoreVolume_RMC_L.bp\" \"s3://mousebrainatlas-data/CSHL_volumes/atlasV5/atlasV5_10.0um_scoreVolume/score_volumes/atlasV5_10.0um_scoreVolume_RMC_L.bp\"\n",
      "aws s3 cp \"/home/yuncong/CSHL_volumes/atlasV5/atlasV5_10.0um_scoreVolume/score_volumes/atlasV5_10.0um_scoreVolume_RMC_L_bbox_wrt_atlasSpace.txt\" \"s3://mousebrainatlas-data/CSHL_volumes/atlasV5/atlasV5_10.0um_scoreVolume/score_volumes/atlasV5_10.0um_scoreVolume_RMC_L_bbox_wrt_atlasSpace.txt\"\n"
     ]
    },
    {
     "name": "stderr",
     "output_type": "stream",
     "text": [
      "Rescale RMC_L.\n"
     ]
    },
    {
     "name": "stdout",
     "output_type": "stream",
     "text": [
      "RMC_L_surround_200\n",
      "aws s3 cp \"/home/yuncong/CSHL_volumes/atlasV5/atlasV5_10.0um_scoreVolume/score_volumes/atlasV5_10.0um_scoreVolume_RMC_L_surround_200.bp\" \"s3://mousebrainatlas-data/CSHL_volumes/atlasV5/atlasV5_10.0um_scoreVolume/score_volumes/atlasV5_10.0um_scoreVolume_RMC_L_surround_200.bp\"\n",
      "aws s3 cp \"/home/yuncong/CSHL_volumes/atlasV5/atlasV5_10.0um_scoreVolume/score_volumes/atlasV5_10.0um_scoreVolume_RMC_L_surround_200_bbox_wrt_atlasSpace.txt\" \"s3://mousebrainatlas-data/CSHL_volumes/atlasV5/atlasV5_10.0um_scoreVolume/score_volumes/atlasV5_10.0um_scoreVolume_RMC_L_surround_200_bbox_wrt_atlasSpace.txt\"\n"
     ]
    },
    {
     "name": "stderr",
     "output_type": "stream",
     "text": [
      "Rescale RMC_L_surround_200.\n"
     ]
    },
    {
     "name": "stdout",
     "output_type": "stream",
     "text": [
      "RMC_R\n",
      "aws s3 cp \"/home/yuncong/CSHL_volumes/atlasV5/atlasV5_10.0um_scoreVolume/score_volumes/atlasV5_10.0um_scoreVolume_RMC_R.bp\" \"s3://mousebrainatlas-data/CSHL_volumes/atlasV5/atlasV5_10.0um_scoreVolume/score_volumes/atlasV5_10.0um_scoreVolume_RMC_R.bp\"\n",
      "aws s3 cp \"/home/yuncong/CSHL_volumes/atlasV5/atlasV5_10.0um_scoreVolume/score_volumes/atlasV5_10.0um_scoreVolume_RMC_R_bbox_wrt_atlasSpace.txt\" \"s3://mousebrainatlas-data/CSHL_volumes/atlasV5/atlasV5_10.0um_scoreVolume/score_volumes/atlasV5_10.0um_scoreVolume_RMC_R_bbox_wrt_atlasSpace.txt\"\n"
     ]
    },
    {
     "name": "stderr",
     "output_type": "stream",
     "text": [
      "Rescale RMC_R.\n"
     ]
    },
    {
     "name": "stdout",
     "output_type": "stream",
     "text": [
      "RMC_R_surround_200\n",
      "aws s3 cp \"/home/yuncong/CSHL_volumes/atlasV5/atlasV5_10.0um_scoreVolume/score_volumes/atlasV5_10.0um_scoreVolume_RMC_R_surround_200.bp\" \"s3://mousebrainatlas-data/CSHL_volumes/atlasV5/atlasV5_10.0um_scoreVolume/score_volumes/atlasV5_10.0um_scoreVolume_RMC_R_surround_200.bp\"\n",
      "aws s3 cp \"/home/yuncong/CSHL_volumes/atlasV5/atlasV5_10.0um_scoreVolume/score_volumes/atlasV5_10.0um_scoreVolume_RMC_R_surround_200_bbox_wrt_atlasSpace.txt\" \"s3://mousebrainatlas-data/CSHL_volumes/atlasV5/atlasV5_10.0um_scoreVolume/score_volumes/atlasV5_10.0um_scoreVolume_RMC_R_surround_200_bbox_wrt_atlasSpace.txt\"\n"
     ]
    },
    {
     "name": "stderr",
     "output_type": "stream",
     "text": [
      "Rescale RMC_R_surround_200.\n"
     ]
    },
    {
     "name": "stdout",
     "output_type": "stream",
     "text": [
      "RtTg\n",
      "aws s3 cp \"/home/yuncong/CSHL_volumes/atlasV5/atlasV5_10.0um_scoreVolume/score_volumes/atlasV5_10.0um_scoreVolume_RtTg.bp\" \"s3://mousebrainatlas-data/CSHL_volumes/atlasV5/atlasV5_10.0um_scoreVolume/score_volumes/atlasV5_10.0um_scoreVolume_RtTg.bp\"\n",
      "aws s3 cp \"/home/yuncong/CSHL_volumes/atlasV5/atlasV5_10.0um_scoreVolume/score_volumes/atlasV5_10.0um_scoreVolume_RtTg_bbox_wrt_atlasSpace.txt\" \"s3://mousebrainatlas-data/CSHL_volumes/atlasV5/atlasV5_10.0um_scoreVolume/score_volumes/atlasV5_10.0um_scoreVolume_RtTg_bbox_wrt_atlasSpace.txt\"\n"
     ]
    },
    {
     "name": "stderr",
     "output_type": "stream",
     "text": [
      "Rescale RtTg.\n"
     ]
    },
    {
     "name": "stdout",
     "output_type": "stream",
     "text": [
      "RtTg_surround_200\n",
      "aws s3 cp \"/home/yuncong/CSHL_volumes/atlasV5/atlasV5_10.0um_scoreVolume/score_volumes/atlasV5_10.0um_scoreVolume_RtTg_surround_200.bp\" \"s3://mousebrainatlas-data/CSHL_volumes/atlasV5/atlasV5_10.0um_scoreVolume/score_volumes/atlasV5_10.0um_scoreVolume_RtTg_surround_200.bp\"\n",
      "aws s3 cp \"/home/yuncong/CSHL_volumes/atlasV5/atlasV5_10.0um_scoreVolume/score_volumes/atlasV5_10.0um_scoreVolume_RtTg_surround_200_bbox_wrt_atlasSpace.txt\" \"s3://mousebrainatlas-data/CSHL_volumes/atlasV5/atlasV5_10.0um_scoreVolume/score_volumes/atlasV5_10.0um_scoreVolume_RtTg_surround_200_bbox_wrt_atlasSpace.txt\"\n"
     ]
    },
    {
     "name": "stderr",
     "output_type": "stream",
     "text": [
      "Rescale RtTg_surround_200.\n"
     ]
    },
    {
     "name": "stdout",
     "output_type": "stream",
     "text": [
      "SC\n",
      "aws s3 cp \"/home/yuncong/CSHL_volumes/atlasV5/atlasV5_10.0um_scoreVolume/score_volumes/atlasV5_10.0um_scoreVolume_SC.bp\" \"s3://mousebrainatlas-data/CSHL_volumes/atlasV5/atlasV5_10.0um_scoreVolume/score_volumes/atlasV5_10.0um_scoreVolume_SC.bp\"\n",
      "aws s3 cp \"/home/yuncong/CSHL_volumes/atlasV5/atlasV5_10.0um_scoreVolume/score_volumes/atlasV5_10.0um_scoreVolume_SC_bbox_wrt_atlasSpace.txt\" \"s3://mousebrainatlas-data/CSHL_volumes/atlasV5/atlasV5_10.0um_scoreVolume/score_volumes/atlasV5_10.0um_scoreVolume_SC_bbox_wrt_atlasSpace.txt\"\n"
     ]
    },
    {
     "name": "stderr",
     "output_type": "stream",
     "text": [
      "Rescale SC.\n"
     ]
    },
    {
     "name": "stdout",
     "output_type": "stream",
     "text": [
      "SC_surround_200\n",
      "aws s3 cp \"/home/yuncong/CSHL_volumes/atlasV5/atlasV5_10.0um_scoreVolume/score_volumes/atlasV5_10.0um_scoreVolume_SC_surround_200.bp\" \"s3://mousebrainatlas-data/CSHL_volumes/atlasV5/atlasV5_10.0um_scoreVolume/score_volumes/atlasV5_10.0um_scoreVolume_SC_surround_200.bp\"\n",
      "aws s3 cp \"/home/yuncong/CSHL_volumes/atlasV5/atlasV5_10.0um_scoreVolume/score_volumes/atlasV5_10.0um_scoreVolume_SC_surround_200_bbox_wrt_atlasSpace.txt\" \"s3://mousebrainatlas-data/CSHL_volumes/atlasV5/atlasV5_10.0um_scoreVolume/score_volumes/atlasV5_10.0um_scoreVolume_SC_surround_200_bbox_wrt_atlasSpace.txt\"\n"
     ]
    },
    {
     "name": "stderr",
     "output_type": "stream",
     "text": [
      "Rescale SC_surround_200.\n"
     ]
    },
    {
     "name": "stdout",
     "output_type": "stream",
     "text": [
      "SNC_L\n",
      "aws s3 cp \"/home/yuncong/CSHL_volumes/atlasV5/atlasV5_10.0um_scoreVolume/score_volumes/atlasV5_10.0um_scoreVolume_SNC_L.bp\" \"s3://mousebrainatlas-data/CSHL_volumes/atlasV5/atlasV5_10.0um_scoreVolume/score_volumes/atlasV5_10.0um_scoreVolume_SNC_L.bp\"\n",
      "aws s3 cp \"/home/yuncong/CSHL_volumes/atlasV5/atlasV5_10.0um_scoreVolume/score_volumes/atlasV5_10.0um_scoreVolume_SNC_L_bbox_wrt_atlasSpace.txt\" \"s3://mousebrainatlas-data/CSHL_volumes/atlasV5/atlasV5_10.0um_scoreVolume/score_volumes/atlasV5_10.0um_scoreVolume_SNC_L_bbox_wrt_atlasSpace.txt\"\n"
     ]
    },
    {
     "name": "stderr",
     "output_type": "stream",
     "text": [
      "Rescale SNC_L.\n"
     ]
    },
    {
     "name": "stdout",
     "output_type": "stream",
     "text": [
      "SNC_L_surround_200\n",
      "aws s3 cp \"/home/yuncong/CSHL_volumes/atlasV5/atlasV5_10.0um_scoreVolume/score_volumes/atlasV5_10.0um_scoreVolume_SNC_L_surround_200.bp\" \"s3://mousebrainatlas-data/CSHL_volumes/atlasV5/atlasV5_10.0um_scoreVolume/score_volumes/atlasV5_10.0um_scoreVolume_SNC_L_surround_200.bp\"\n",
      "aws s3 cp \"/home/yuncong/CSHL_volumes/atlasV5/atlasV5_10.0um_scoreVolume/score_volumes/atlasV5_10.0um_scoreVolume_SNC_L_surround_200_bbox_wrt_atlasSpace.txt\" \"s3://mousebrainatlas-data/CSHL_volumes/atlasV5/atlasV5_10.0um_scoreVolume/score_volumes/atlasV5_10.0um_scoreVolume_SNC_L_surround_200_bbox_wrt_atlasSpace.txt\"\n"
     ]
    },
    {
     "name": "stderr",
     "output_type": "stream",
     "text": [
      "Rescale SNC_L_surround_200.\n"
     ]
    },
    {
     "name": "stdout",
     "output_type": "stream",
     "text": [
      "SNC_R\n",
      "aws s3 cp \"/home/yuncong/CSHL_volumes/atlasV5/atlasV5_10.0um_scoreVolume/score_volumes/atlasV5_10.0um_scoreVolume_SNC_R.bp\" \"s3://mousebrainatlas-data/CSHL_volumes/atlasV5/atlasV5_10.0um_scoreVolume/score_volumes/atlasV5_10.0um_scoreVolume_SNC_R.bp\"\n",
      "aws s3 cp \"/home/yuncong/CSHL_volumes/atlasV5/atlasV5_10.0um_scoreVolume/score_volumes/atlasV5_10.0um_scoreVolume_SNC_R_bbox_wrt_atlasSpace.txt\" \"s3://mousebrainatlas-data/CSHL_volumes/atlasV5/atlasV5_10.0um_scoreVolume/score_volumes/atlasV5_10.0um_scoreVolume_SNC_R_bbox_wrt_atlasSpace.txt\"\n"
     ]
    },
    {
     "name": "stderr",
     "output_type": "stream",
     "text": [
      "Rescale SNC_R.\n"
     ]
    },
    {
     "name": "stdout",
     "output_type": "stream",
     "text": [
      "SNC_R_surround_200\n",
      "aws s3 cp \"/home/yuncong/CSHL_volumes/atlasV5/atlasV5_10.0um_scoreVolume/score_volumes/atlasV5_10.0um_scoreVolume_SNC_R_surround_200.bp\" \"s3://mousebrainatlas-data/CSHL_volumes/atlasV5/atlasV5_10.0um_scoreVolume/score_volumes/atlasV5_10.0um_scoreVolume_SNC_R_surround_200.bp\"\n",
      "aws s3 cp \"/home/yuncong/CSHL_volumes/atlasV5/atlasV5_10.0um_scoreVolume/score_volumes/atlasV5_10.0um_scoreVolume_SNC_R_surround_200_bbox_wrt_atlasSpace.txt\" \"s3://mousebrainatlas-data/CSHL_volumes/atlasV5/atlasV5_10.0um_scoreVolume/score_volumes/atlasV5_10.0um_scoreVolume_SNC_R_surround_200_bbox_wrt_atlasSpace.txt\"\n"
     ]
    },
    {
     "name": "stderr",
     "output_type": "stream",
     "text": [
      "Rescale SNC_R_surround_200.\n"
     ]
    },
    {
     "name": "stdout",
     "output_type": "stream",
     "text": [
      "SNR_L\n",
      "aws s3 cp \"/home/yuncong/CSHL_volumes/atlasV5/atlasV5_10.0um_scoreVolume/score_volumes/atlasV5_10.0um_scoreVolume_SNR_L.bp\" \"s3://mousebrainatlas-data/CSHL_volumes/atlasV5/atlasV5_10.0um_scoreVolume/score_volumes/atlasV5_10.0um_scoreVolume_SNR_L.bp\"\n",
      "aws s3 cp \"/home/yuncong/CSHL_volumes/atlasV5/atlasV5_10.0um_scoreVolume/score_volumes/atlasV5_10.0um_scoreVolume_SNR_L_bbox_wrt_atlasSpace.txt\" \"s3://mousebrainatlas-data/CSHL_volumes/atlasV5/atlasV5_10.0um_scoreVolume/score_volumes/atlasV5_10.0um_scoreVolume_SNR_L_bbox_wrt_atlasSpace.txt\"\n"
     ]
    },
    {
     "name": "stderr",
     "output_type": "stream",
     "text": [
      "Rescale SNR_L.\n"
     ]
    },
    {
     "name": "stdout",
     "output_type": "stream",
     "text": [
      "SNR_L_surround_200\n",
      "aws s3 cp \"/home/yuncong/CSHL_volumes/atlasV5/atlasV5_10.0um_scoreVolume/score_volumes/atlasV5_10.0um_scoreVolume_SNR_L_surround_200.bp\" \"s3://mousebrainatlas-data/CSHL_volumes/atlasV5/atlasV5_10.0um_scoreVolume/score_volumes/atlasV5_10.0um_scoreVolume_SNR_L_surround_200.bp\"\n",
      "aws s3 cp \"/home/yuncong/CSHL_volumes/atlasV5/atlasV5_10.0um_scoreVolume/score_volumes/atlasV5_10.0um_scoreVolume_SNR_L_surround_200_bbox_wrt_atlasSpace.txt\" \"s3://mousebrainatlas-data/CSHL_volumes/atlasV5/atlasV5_10.0um_scoreVolume/score_volumes/atlasV5_10.0um_scoreVolume_SNR_L_surround_200_bbox_wrt_atlasSpace.txt\"\n"
     ]
    },
    {
     "name": "stderr",
     "output_type": "stream",
     "text": [
      "Rescale SNR_L_surround_200.\n"
     ]
    },
    {
     "name": "stdout",
     "output_type": "stream",
     "text": [
      "SNR_R\n",
      "aws s3 cp \"/home/yuncong/CSHL_volumes/atlasV5/atlasV5_10.0um_scoreVolume/score_volumes/atlasV5_10.0um_scoreVolume_SNR_R.bp\" \"s3://mousebrainatlas-data/CSHL_volumes/atlasV5/atlasV5_10.0um_scoreVolume/score_volumes/atlasV5_10.0um_scoreVolume_SNR_R.bp\"\n",
      "aws s3 cp \"/home/yuncong/CSHL_volumes/atlasV5/atlasV5_10.0um_scoreVolume/score_volumes/atlasV5_10.0um_scoreVolume_SNR_R_bbox_wrt_atlasSpace.txt\" \"s3://mousebrainatlas-data/CSHL_volumes/atlasV5/atlasV5_10.0um_scoreVolume/score_volumes/atlasV5_10.0um_scoreVolume_SNR_R_bbox_wrt_atlasSpace.txt\"\n"
     ]
    },
    {
     "name": "stderr",
     "output_type": "stream",
     "text": [
      "Rescale SNR_R.\n"
     ]
    },
    {
     "name": "stdout",
     "output_type": "stream",
     "text": [
      "SNR_R_surround_200\n",
      "aws s3 cp \"/home/yuncong/CSHL_volumes/atlasV5/atlasV5_10.0um_scoreVolume/score_volumes/atlasV5_10.0um_scoreVolume_SNR_R_surround_200.bp\" \"s3://mousebrainatlas-data/CSHL_volumes/atlasV5/atlasV5_10.0um_scoreVolume/score_volumes/atlasV5_10.0um_scoreVolume_SNR_R_surround_200.bp\"\n",
      "aws s3 cp \"/home/yuncong/CSHL_volumes/atlasV5/atlasV5_10.0um_scoreVolume/score_volumes/atlasV5_10.0um_scoreVolume_SNR_R_surround_200_bbox_wrt_atlasSpace.txt\" \"s3://mousebrainatlas-data/CSHL_volumes/atlasV5/atlasV5_10.0um_scoreVolume/score_volumes/atlasV5_10.0um_scoreVolume_SNR_R_surround_200_bbox_wrt_atlasSpace.txt\"\n"
     ]
    },
    {
     "name": "stderr",
     "output_type": "stream",
     "text": [
      "Rescale SNR_R_surround_200.\n"
     ]
    },
    {
     "name": "stdout",
     "output_type": "stream",
     "text": [
      "Sp5C_L\n",
      "aws s3 cp \"/home/yuncong/CSHL_volumes/atlasV5/atlasV5_10.0um_scoreVolume/score_volumes/atlasV5_10.0um_scoreVolume_Sp5C_L.bp\" \"s3://mousebrainatlas-data/CSHL_volumes/atlasV5/atlasV5_10.0um_scoreVolume/score_volumes/atlasV5_10.0um_scoreVolume_Sp5C_L.bp\"\n",
      "aws s3 cp \"/home/yuncong/CSHL_volumes/atlasV5/atlasV5_10.0um_scoreVolume/score_volumes/atlasV5_10.0um_scoreVolume_Sp5C_L_bbox_wrt_atlasSpace.txt\" \"s3://mousebrainatlas-data/CSHL_volumes/atlasV5/atlasV5_10.0um_scoreVolume/score_volumes/atlasV5_10.0um_scoreVolume_Sp5C_L_bbox_wrt_atlasSpace.txt\"\n"
     ]
    },
    {
     "name": "stderr",
     "output_type": "stream",
     "text": [
      "Rescale Sp5C_L.\n"
     ]
    },
    {
     "name": "stdout",
     "output_type": "stream",
     "text": [
      "Sp5C_L_surround_200\n",
      "aws s3 cp \"/home/yuncong/CSHL_volumes/atlasV5/atlasV5_10.0um_scoreVolume/score_volumes/atlasV5_10.0um_scoreVolume_Sp5C_L_surround_200.bp\" \"s3://mousebrainatlas-data/CSHL_volumes/atlasV5/atlasV5_10.0um_scoreVolume/score_volumes/atlasV5_10.0um_scoreVolume_Sp5C_L_surround_200.bp\"\n",
      "aws s3 cp \"/home/yuncong/CSHL_volumes/atlasV5/atlasV5_10.0um_scoreVolume/score_volumes/atlasV5_10.0um_scoreVolume_Sp5C_L_surround_200_bbox_wrt_atlasSpace.txt\" \"s3://mousebrainatlas-data/CSHL_volumes/atlasV5/atlasV5_10.0um_scoreVolume/score_volumes/atlasV5_10.0um_scoreVolume_Sp5C_L_surround_200_bbox_wrt_atlasSpace.txt\"\n"
     ]
    },
    {
     "name": "stderr",
     "output_type": "stream",
     "text": [
      "Rescale Sp5C_L_surround_200.\n"
     ]
    },
    {
     "name": "stdout",
     "output_type": "stream",
     "text": [
      "Sp5C_R\n",
      "aws s3 cp \"/home/yuncong/CSHL_volumes/atlasV5/atlasV5_10.0um_scoreVolume/score_volumes/atlasV5_10.0um_scoreVolume_Sp5C_R.bp\" \"s3://mousebrainatlas-data/CSHL_volumes/atlasV5/atlasV5_10.0um_scoreVolume/score_volumes/atlasV5_10.0um_scoreVolume_Sp5C_R.bp\"\n",
      "aws s3 cp \"/home/yuncong/CSHL_volumes/atlasV5/atlasV5_10.0um_scoreVolume/score_volumes/atlasV5_10.0um_scoreVolume_Sp5C_R_bbox_wrt_atlasSpace.txt\" \"s3://mousebrainatlas-data/CSHL_volumes/atlasV5/atlasV5_10.0um_scoreVolume/score_volumes/atlasV5_10.0um_scoreVolume_Sp5C_R_bbox_wrt_atlasSpace.txt\"\n"
     ]
    },
    {
     "name": "stderr",
     "output_type": "stream",
     "text": [
      "Rescale Sp5C_R.\n"
     ]
    },
    {
     "name": "stdout",
     "output_type": "stream",
     "text": [
      "Sp5C_R_surround_200\n",
      "aws s3 cp \"/home/yuncong/CSHL_volumes/atlasV5/atlasV5_10.0um_scoreVolume/score_volumes/atlasV5_10.0um_scoreVolume_Sp5C_R_surround_200.bp\" \"s3://mousebrainatlas-data/CSHL_volumes/atlasV5/atlasV5_10.0um_scoreVolume/score_volumes/atlasV5_10.0um_scoreVolume_Sp5C_R_surround_200.bp\"\n",
      "aws s3 cp \"/home/yuncong/CSHL_volumes/atlasV5/atlasV5_10.0um_scoreVolume/score_volumes/atlasV5_10.0um_scoreVolume_Sp5C_R_surround_200_bbox_wrt_atlasSpace.txt\" \"s3://mousebrainatlas-data/CSHL_volumes/atlasV5/atlasV5_10.0um_scoreVolume/score_volumes/atlasV5_10.0um_scoreVolume_Sp5C_R_surround_200_bbox_wrt_atlasSpace.txt\"\n"
     ]
    },
    {
     "name": "stderr",
     "output_type": "stream",
     "text": [
      "Rescale Sp5C_R_surround_200.\n"
     ]
    },
    {
     "name": "stdout",
     "output_type": "stream",
     "text": [
      "Sp5I_L\n",
      "aws s3 cp \"/home/yuncong/CSHL_volumes/atlasV5/atlasV5_10.0um_scoreVolume/score_volumes/atlasV5_10.0um_scoreVolume_Sp5I_L.bp\" \"s3://mousebrainatlas-data/CSHL_volumes/atlasV5/atlasV5_10.0um_scoreVolume/score_volumes/atlasV5_10.0um_scoreVolume_Sp5I_L.bp\"\n",
      "aws s3 cp \"/home/yuncong/CSHL_volumes/atlasV5/atlasV5_10.0um_scoreVolume/score_volumes/atlasV5_10.0um_scoreVolume_Sp5I_L_bbox_wrt_atlasSpace.txt\" \"s3://mousebrainatlas-data/CSHL_volumes/atlasV5/atlasV5_10.0um_scoreVolume/score_volumes/atlasV5_10.0um_scoreVolume_Sp5I_L_bbox_wrt_atlasSpace.txt\"\n"
     ]
    },
    {
     "name": "stderr",
     "output_type": "stream",
     "text": [
      "Rescale Sp5I_L.\n"
     ]
    },
    {
     "name": "stdout",
     "output_type": "stream",
     "text": [
      "Sp5I_L_surround_200\n",
      "aws s3 cp \"/home/yuncong/CSHL_volumes/atlasV5/atlasV5_10.0um_scoreVolume/score_volumes/atlasV5_10.0um_scoreVolume_Sp5I_L_surround_200.bp\" \"s3://mousebrainatlas-data/CSHL_volumes/atlasV5/atlasV5_10.0um_scoreVolume/score_volumes/atlasV5_10.0um_scoreVolume_Sp5I_L_surround_200.bp\"\n",
      "aws s3 cp \"/home/yuncong/CSHL_volumes/atlasV5/atlasV5_10.0um_scoreVolume/score_volumes/atlasV5_10.0um_scoreVolume_Sp5I_L_surround_200_bbox_wrt_atlasSpace.txt\" \"s3://mousebrainatlas-data/CSHL_volumes/atlasV5/atlasV5_10.0um_scoreVolume/score_volumes/atlasV5_10.0um_scoreVolume_Sp5I_L_surround_200_bbox_wrt_atlasSpace.txt\"\n"
     ]
    },
    {
     "name": "stderr",
     "output_type": "stream",
     "text": [
      "Rescale Sp5I_L_surround_200.\n"
     ]
    },
    {
     "name": "stdout",
     "output_type": "stream",
     "text": [
      "Sp5I_R\n",
      "aws s3 cp \"/home/yuncong/CSHL_volumes/atlasV5/atlasV5_10.0um_scoreVolume/score_volumes/atlasV5_10.0um_scoreVolume_Sp5I_R.bp\" \"s3://mousebrainatlas-data/CSHL_volumes/atlasV5/atlasV5_10.0um_scoreVolume/score_volumes/atlasV5_10.0um_scoreVolume_Sp5I_R.bp\"\n",
      "aws s3 cp \"/home/yuncong/CSHL_volumes/atlasV5/atlasV5_10.0um_scoreVolume/score_volumes/atlasV5_10.0um_scoreVolume_Sp5I_R_bbox_wrt_atlasSpace.txt\" \"s3://mousebrainatlas-data/CSHL_volumes/atlasV5/atlasV5_10.0um_scoreVolume/score_volumes/atlasV5_10.0um_scoreVolume_Sp5I_R_bbox_wrt_atlasSpace.txt\"\n"
     ]
    },
    {
     "name": "stderr",
     "output_type": "stream",
     "text": [
      "Rescale Sp5I_R.\n"
     ]
    },
    {
     "name": "stdout",
     "output_type": "stream",
     "text": [
      "Sp5I_R_surround_200\n",
      "aws s3 cp \"/home/yuncong/CSHL_volumes/atlasV5/atlasV5_10.0um_scoreVolume/score_volumes/atlasV5_10.0um_scoreVolume_Sp5I_R_surround_200.bp\" \"s3://mousebrainatlas-data/CSHL_volumes/atlasV5/atlasV5_10.0um_scoreVolume/score_volumes/atlasV5_10.0um_scoreVolume_Sp5I_R_surround_200.bp\"\n",
      "aws s3 cp \"/home/yuncong/CSHL_volumes/atlasV5/atlasV5_10.0um_scoreVolume/score_volumes/atlasV5_10.0um_scoreVolume_Sp5I_R_surround_200_bbox_wrt_atlasSpace.txt\" \"s3://mousebrainatlas-data/CSHL_volumes/atlasV5/atlasV5_10.0um_scoreVolume/score_volumes/atlasV5_10.0um_scoreVolume_Sp5I_R_surround_200_bbox_wrt_atlasSpace.txt\"\n"
     ]
    },
    {
     "name": "stderr",
     "output_type": "stream",
     "text": [
      "Rescale Sp5I_R_surround_200.\n"
     ]
    },
    {
     "name": "stdout",
     "output_type": "stream",
     "text": [
      "Sp5O_L\n",
      "aws s3 cp \"/home/yuncong/CSHL_volumes/atlasV5/atlasV5_10.0um_scoreVolume/score_volumes/atlasV5_10.0um_scoreVolume_Sp5O_L.bp\" \"s3://mousebrainatlas-data/CSHL_volumes/atlasV5/atlasV5_10.0um_scoreVolume/score_volumes/atlasV5_10.0um_scoreVolume_Sp5O_L.bp\"\n",
      "aws s3 cp \"/home/yuncong/CSHL_volumes/atlasV5/atlasV5_10.0um_scoreVolume/score_volumes/atlasV5_10.0um_scoreVolume_Sp5O_L_bbox_wrt_atlasSpace.txt\" \"s3://mousebrainatlas-data/CSHL_volumes/atlasV5/atlasV5_10.0um_scoreVolume/score_volumes/atlasV5_10.0um_scoreVolume_Sp5O_L_bbox_wrt_atlasSpace.txt\"\n"
     ]
    },
    {
     "name": "stderr",
     "output_type": "stream",
     "text": [
      "Rescale Sp5O_L.\n"
     ]
    },
    {
     "name": "stdout",
     "output_type": "stream",
     "text": [
      "Sp5O_L_surround_200\n",
      "aws s3 cp \"/home/yuncong/CSHL_volumes/atlasV5/atlasV5_10.0um_scoreVolume/score_volumes/atlasV5_10.0um_scoreVolume_Sp5O_L_surround_200.bp\" \"s3://mousebrainatlas-data/CSHL_volumes/atlasV5/atlasV5_10.0um_scoreVolume/score_volumes/atlasV5_10.0um_scoreVolume_Sp5O_L_surround_200.bp\"\n",
      "aws s3 cp \"/home/yuncong/CSHL_volumes/atlasV5/atlasV5_10.0um_scoreVolume/score_volumes/atlasV5_10.0um_scoreVolume_Sp5O_L_surround_200_bbox_wrt_atlasSpace.txt\" \"s3://mousebrainatlas-data/CSHL_volumes/atlasV5/atlasV5_10.0um_scoreVolume/score_volumes/atlasV5_10.0um_scoreVolume_Sp5O_L_surround_200_bbox_wrt_atlasSpace.txt\"\n"
     ]
    },
    {
     "name": "stderr",
     "output_type": "stream",
     "text": [
      "Rescale Sp5O_L_surround_200.\n"
     ]
    },
    {
     "name": "stdout",
     "output_type": "stream",
     "text": [
      "Sp5O_R\n",
      "aws s3 cp \"/home/yuncong/CSHL_volumes/atlasV5/atlasV5_10.0um_scoreVolume/score_volumes/atlasV5_10.0um_scoreVolume_Sp5O_R.bp\" \"s3://mousebrainatlas-data/CSHL_volumes/atlasV5/atlasV5_10.0um_scoreVolume/score_volumes/atlasV5_10.0um_scoreVolume_Sp5O_R.bp\"\n",
      "aws s3 cp \"/home/yuncong/CSHL_volumes/atlasV5/atlasV5_10.0um_scoreVolume/score_volumes/atlasV5_10.0um_scoreVolume_Sp5O_R_bbox_wrt_atlasSpace.txt\" \"s3://mousebrainatlas-data/CSHL_volumes/atlasV5/atlasV5_10.0um_scoreVolume/score_volumes/atlasV5_10.0um_scoreVolume_Sp5O_R_bbox_wrt_atlasSpace.txt\"\n"
     ]
    },
    {
     "name": "stderr",
     "output_type": "stream",
     "text": [
      "Rescale Sp5O_R.\n"
     ]
    },
    {
     "name": "stdout",
     "output_type": "stream",
     "text": [
      "Sp5O_R_surround_200\n",
      "aws s3 cp \"/home/yuncong/CSHL_volumes/atlasV5/atlasV5_10.0um_scoreVolume/score_volumes/atlasV5_10.0um_scoreVolume_Sp5O_R_surround_200.bp\" \"s3://mousebrainatlas-data/CSHL_volumes/atlasV5/atlasV5_10.0um_scoreVolume/score_volumes/atlasV5_10.0um_scoreVolume_Sp5O_R_surround_200.bp\"\n",
      "aws s3 cp \"/home/yuncong/CSHL_volumes/atlasV5/atlasV5_10.0um_scoreVolume/score_volumes/atlasV5_10.0um_scoreVolume_Sp5O_R_surround_200_bbox_wrt_atlasSpace.txt\" \"s3://mousebrainatlas-data/CSHL_volumes/atlasV5/atlasV5_10.0um_scoreVolume/score_volumes/atlasV5_10.0um_scoreVolume_Sp5O_R_surround_200_bbox_wrt_atlasSpace.txt\"\n"
     ]
    },
    {
     "name": "stderr",
     "output_type": "stream",
     "text": [
      "Rescale Sp5O_R_surround_200.\n"
     ]
    },
    {
     "name": "stdout",
     "output_type": "stream",
     "text": [
      "Tz_L\n",
      "aws s3 cp \"/home/yuncong/CSHL_volumes/atlasV5/atlasV5_10.0um_scoreVolume/score_volumes/atlasV5_10.0um_scoreVolume_Tz_L.bp\" \"s3://mousebrainatlas-data/CSHL_volumes/atlasV5/atlasV5_10.0um_scoreVolume/score_volumes/atlasV5_10.0um_scoreVolume_Tz_L.bp\"\n",
      "aws s3 cp \"/home/yuncong/CSHL_volumes/atlasV5/atlasV5_10.0um_scoreVolume/score_volumes/atlasV5_10.0um_scoreVolume_Tz_L_bbox_wrt_atlasSpace.txt\" \"s3://mousebrainatlas-data/CSHL_volumes/atlasV5/atlasV5_10.0um_scoreVolume/score_volumes/atlasV5_10.0um_scoreVolume_Tz_L_bbox_wrt_atlasSpace.txt\"\n"
     ]
    },
    {
     "name": "stderr",
     "output_type": "stream",
     "text": [
      "Rescale Tz_L.\n"
     ]
    },
    {
     "name": "stdout",
     "output_type": "stream",
     "text": [
      "Tz_L_surround_200\n",
      "aws s3 cp \"/home/yuncong/CSHL_volumes/atlasV5/atlasV5_10.0um_scoreVolume/score_volumes/atlasV5_10.0um_scoreVolume_Tz_L_surround_200.bp\" \"s3://mousebrainatlas-data/CSHL_volumes/atlasV5/atlasV5_10.0um_scoreVolume/score_volumes/atlasV5_10.0um_scoreVolume_Tz_L_surround_200.bp\"\n",
      "aws s3 cp \"/home/yuncong/CSHL_volumes/atlasV5/atlasV5_10.0um_scoreVolume/score_volumes/atlasV5_10.0um_scoreVolume_Tz_L_surround_200_bbox_wrt_atlasSpace.txt\" \"s3://mousebrainatlas-data/CSHL_volumes/atlasV5/atlasV5_10.0um_scoreVolume/score_volumes/atlasV5_10.0um_scoreVolume_Tz_L_surround_200_bbox_wrt_atlasSpace.txt\"\n"
     ]
    },
    {
     "name": "stderr",
     "output_type": "stream",
     "text": [
      "Rescale Tz_L_surround_200.\n"
     ]
    },
    {
     "name": "stdout",
     "output_type": "stream",
     "text": [
      "Tz_R\n",
      "aws s3 cp \"/home/yuncong/CSHL_volumes/atlasV5/atlasV5_10.0um_scoreVolume/score_volumes/atlasV5_10.0um_scoreVolume_Tz_R.bp\" \"s3://mousebrainatlas-data/CSHL_volumes/atlasV5/atlasV5_10.0um_scoreVolume/score_volumes/atlasV5_10.0um_scoreVolume_Tz_R.bp\"\n",
      "aws s3 cp \"/home/yuncong/CSHL_volumes/atlasV5/atlasV5_10.0um_scoreVolume/score_volumes/atlasV5_10.0um_scoreVolume_Tz_R_bbox_wrt_atlasSpace.txt\" \"s3://mousebrainatlas-data/CSHL_volumes/atlasV5/atlasV5_10.0um_scoreVolume/score_volumes/atlasV5_10.0um_scoreVolume_Tz_R_bbox_wrt_atlasSpace.txt\"\n"
     ]
    },
    {
     "name": "stderr",
     "output_type": "stream",
     "text": [
      "Rescale Tz_R.\n"
     ]
    },
    {
     "name": "stdout",
     "output_type": "stream",
     "text": [
      "Tz_R_surround_200\n",
      "aws s3 cp \"/home/yuncong/CSHL_volumes/atlasV5/atlasV5_10.0um_scoreVolume/score_volumes/atlasV5_10.0um_scoreVolume_Tz_R_surround_200.bp\" \"s3://mousebrainatlas-data/CSHL_volumes/atlasV5/atlasV5_10.0um_scoreVolume/score_volumes/atlasV5_10.0um_scoreVolume_Tz_R_surround_200.bp\"\n",
      "aws s3 cp \"/home/yuncong/CSHL_volumes/atlasV5/atlasV5_10.0um_scoreVolume/score_volumes/atlasV5_10.0um_scoreVolume_Tz_R_surround_200_bbox_wrt_atlasSpace.txt\" \"s3://mousebrainatlas-data/CSHL_volumes/atlasV5/atlasV5_10.0um_scoreVolume/score_volumes/atlasV5_10.0um_scoreVolume_Tz_R_surround_200_bbox_wrt_atlasSpace.txt\"\n"
     ]
    },
    {
     "name": "stderr",
     "output_type": "stream",
     "text": [
      "Rescale Tz_R_surround_200.\n"
     ]
    },
    {
     "name": "stdout",
     "output_type": "stream",
     "text": [
      "VCA_L\n",
      "aws s3 cp \"/home/yuncong/CSHL_volumes/atlasV5/atlasV5_10.0um_scoreVolume/score_volumes/atlasV5_10.0um_scoreVolume_VCA_L.bp\" \"s3://mousebrainatlas-data/CSHL_volumes/atlasV5/atlasV5_10.0um_scoreVolume/score_volumes/atlasV5_10.0um_scoreVolume_VCA_L.bp\"\n",
      "aws s3 cp \"/home/yuncong/CSHL_volumes/atlasV5/atlasV5_10.0um_scoreVolume/score_volumes/atlasV5_10.0um_scoreVolume_VCA_L_bbox_wrt_atlasSpace.txt\" \"s3://mousebrainatlas-data/CSHL_volumes/atlasV5/atlasV5_10.0um_scoreVolume/score_volumes/atlasV5_10.0um_scoreVolume_VCA_L_bbox_wrt_atlasSpace.txt\"\n"
     ]
    },
    {
     "name": "stderr",
     "output_type": "stream",
     "text": [
      "Rescale VCA_L.\n"
     ]
    },
    {
     "name": "stdout",
     "output_type": "stream",
     "text": [
      "VCA_L_surround_200\n",
      "aws s3 cp \"/home/yuncong/CSHL_volumes/atlasV5/atlasV5_10.0um_scoreVolume/score_volumes/atlasV5_10.0um_scoreVolume_VCA_L_surround_200.bp\" \"s3://mousebrainatlas-data/CSHL_volumes/atlasV5/atlasV5_10.0um_scoreVolume/score_volumes/atlasV5_10.0um_scoreVolume_VCA_L_surround_200.bp\"\n",
      "aws s3 cp \"/home/yuncong/CSHL_volumes/atlasV5/atlasV5_10.0um_scoreVolume/score_volumes/atlasV5_10.0um_scoreVolume_VCA_L_surround_200_bbox_wrt_atlasSpace.txt\" \"s3://mousebrainatlas-data/CSHL_volumes/atlasV5/atlasV5_10.0um_scoreVolume/score_volumes/atlasV5_10.0um_scoreVolume_VCA_L_surround_200_bbox_wrt_atlasSpace.txt\"\n"
     ]
    },
    {
     "name": "stderr",
     "output_type": "stream",
     "text": [
      "Rescale VCA_L_surround_200.\n"
     ]
    },
    {
     "name": "stdout",
     "output_type": "stream",
     "text": [
      "VCA_R\n",
      "aws s3 cp \"/home/yuncong/CSHL_volumes/atlasV5/atlasV5_10.0um_scoreVolume/score_volumes/atlasV5_10.0um_scoreVolume_VCA_R.bp\" \"s3://mousebrainatlas-data/CSHL_volumes/atlasV5/atlasV5_10.0um_scoreVolume/score_volumes/atlasV5_10.0um_scoreVolume_VCA_R.bp\"\n",
      "aws s3 cp \"/home/yuncong/CSHL_volumes/atlasV5/atlasV5_10.0um_scoreVolume/score_volumes/atlasV5_10.0um_scoreVolume_VCA_R_bbox_wrt_atlasSpace.txt\" \"s3://mousebrainatlas-data/CSHL_volumes/atlasV5/atlasV5_10.0um_scoreVolume/score_volumes/atlasV5_10.0um_scoreVolume_VCA_R_bbox_wrt_atlasSpace.txt\"\n"
     ]
    },
    {
     "name": "stderr",
     "output_type": "stream",
     "text": [
      "Rescale VCA_R.\n"
     ]
    },
    {
     "name": "stdout",
     "output_type": "stream",
     "text": [
      "VCA_R_surround_200\n",
      "aws s3 cp \"/home/yuncong/CSHL_volumes/atlasV5/atlasV5_10.0um_scoreVolume/score_volumes/atlasV5_10.0um_scoreVolume_VCA_R_surround_200.bp\" \"s3://mousebrainatlas-data/CSHL_volumes/atlasV5/atlasV5_10.0um_scoreVolume/score_volumes/atlasV5_10.0um_scoreVolume_VCA_R_surround_200.bp\"\n",
      "aws s3 cp \"/home/yuncong/CSHL_volumes/atlasV5/atlasV5_10.0um_scoreVolume/score_volumes/atlasV5_10.0um_scoreVolume_VCA_R_surround_200_bbox_wrt_atlasSpace.txt\" \"s3://mousebrainatlas-data/CSHL_volumes/atlasV5/atlasV5_10.0um_scoreVolume/score_volumes/atlasV5_10.0um_scoreVolume_VCA_R_surround_200_bbox_wrt_atlasSpace.txt\"\n"
     ]
    },
    {
     "name": "stderr",
     "output_type": "stream",
     "text": [
      "Rescale VCA_R_surround_200.\n"
     ]
    },
    {
     "name": "stdout",
     "output_type": "stream",
     "text": [
      "VCP_L\n",
      "aws s3 cp \"/home/yuncong/CSHL_volumes/atlasV5/atlasV5_10.0um_scoreVolume/score_volumes/atlasV5_10.0um_scoreVolume_VCP_L.bp\" \"s3://mousebrainatlas-data/CSHL_volumes/atlasV5/atlasV5_10.0um_scoreVolume/score_volumes/atlasV5_10.0um_scoreVolume_VCP_L.bp\"\n",
      "aws s3 cp \"/home/yuncong/CSHL_volumes/atlasV5/atlasV5_10.0um_scoreVolume/score_volumes/atlasV5_10.0um_scoreVolume_VCP_L_bbox_wrt_atlasSpace.txt\" \"s3://mousebrainatlas-data/CSHL_volumes/atlasV5/atlasV5_10.0um_scoreVolume/score_volumes/atlasV5_10.0um_scoreVolume_VCP_L_bbox_wrt_atlasSpace.txt\"\n"
     ]
    },
    {
     "name": "stderr",
     "output_type": "stream",
     "text": [
      "Rescale VCP_L.\n"
     ]
    },
    {
     "name": "stdout",
     "output_type": "stream",
     "text": [
      "VCP_L_surround_200\n",
      "aws s3 cp \"/home/yuncong/CSHL_volumes/atlasV5/atlasV5_10.0um_scoreVolume/score_volumes/atlasV5_10.0um_scoreVolume_VCP_L_surround_200.bp\" \"s3://mousebrainatlas-data/CSHL_volumes/atlasV5/atlasV5_10.0um_scoreVolume/score_volumes/atlasV5_10.0um_scoreVolume_VCP_L_surround_200.bp\"\n",
      "aws s3 cp \"/home/yuncong/CSHL_volumes/atlasV5/atlasV5_10.0um_scoreVolume/score_volumes/atlasV5_10.0um_scoreVolume_VCP_L_surround_200_bbox_wrt_atlasSpace.txt\" \"s3://mousebrainatlas-data/CSHL_volumes/atlasV5/atlasV5_10.0um_scoreVolume/score_volumes/atlasV5_10.0um_scoreVolume_VCP_L_surround_200_bbox_wrt_atlasSpace.txt\"\n"
     ]
    },
    {
     "name": "stderr",
     "output_type": "stream",
     "text": [
      "Rescale VCP_L_surround_200.\n"
     ]
    },
    {
     "name": "stdout",
     "output_type": "stream",
     "text": [
      "VCP_R\n",
      "aws s3 cp \"/home/yuncong/CSHL_volumes/atlasV5/atlasV5_10.0um_scoreVolume/score_volumes/atlasV5_10.0um_scoreVolume_VCP_R.bp\" \"s3://mousebrainatlas-data/CSHL_volumes/atlasV5/atlasV5_10.0um_scoreVolume/score_volumes/atlasV5_10.0um_scoreVolume_VCP_R.bp\"\n",
      "aws s3 cp \"/home/yuncong/CSHL_volumes/atlasV5/atlasV5_10.0um_scoreVolume/score_volumes/atlasV5_10.0um_scoreVolume_VCP_R_bbox_wrt_atlasSpace.txt\" \"s3://mousebrainatlas-data/CSHL_volumes/atlasV5/atlasV5_10.0um_scoreVolume/score_volumes/atlasV5_10.0um_scoreVolume_VCP_R_bbox_wrt_atlasSpace.txt\"\n"
     ]
    },
    {
     "name": "stderr",
     "output_type": "stream",
     "text": [
      "Rescale VCP_R.\n"
     ]
    },
    {
     "name": "stdout",
     "output_type": "stream",
     "text": [
      "VCP_R_surround_200\n",
      "aws s3 cp \"/home/yuncong/CSHL_volumes/atlasV5/atlasV5_10.0um_scoreVolume/score_volumes/atlasV5_10.0um_scoreVolume_VCP_R_surround_200.bp\" \"s3://mousebrainatlas-data/CSHL_volumes/atlasV5/atlasV5_10.0um_scoreVolume/score_volumes/atlasV5_10.0um_scoreVolume_VCP_R_surround_200.bp\"\n",
      "aws s3 cp \"/home/yuncong/CSHL_volumes/atlasV5/atlasV5_10.0um_scoreVolume/score_volumes/atlasV5_10.0um_scoreVolume_VCP_R_surround_200_bbox_wrt_atlasSpace.txt\" \"s3://mousebrainatlas-data/CSHL_volumes/atlasV5/atlasV5_10.0um_scoreVolume/score_volumes/atlasV5_10.0um_scoreVolume_VCP_R_surround_200_bbox_wrt_atlasSpace.txt\"\n"
     ]
    },
    {
     "name": "stderr",
     "output_type": "stream",
     "text": [
      "Rescale VCP_R_surround_200.\n"
     ]
    },
    {
     "name": "stdout",
     "output_type": "stream",
     "text": [
      "VLL_L\n",
      "aws s3 cp \"/home/yuncong/CSHL_volumes/atlasV5/atlasV5_10.0um_scoreVolume/score_volumes/atlasV5_10.0um_scoreVolume_VLL_L.bp\" \"s3://mousebrainatlas-data/CSHL_volumes/atlasV5/atlasV5_10.0um_scoreVolume/score_volumes/atlasV5_10.0um_scoreVolume_VLL_L.bp\"\n",
      "aws s3 cp \"/home/yuncong/CSHL_volumes/atlasV5/atlasV5_10.0um_scoreVolume/score_volumes/atlasV5_10.0um_scoreVolume_VLL_L_bbox_wrt_atlasSpace.txt\" \"s3://mousebrainatlas-data/CSHL_volumes/atlasV5/atlasV5_10.0um_scoreVolume/score_volumes/atlasV5_10.0um_scoreVolume_VLL_L_bbox_wrt_atlasSpace.txt\"\n"
     ]
    },
    {
     "name": "stderr",
     "output_type": "stream",
     "text": [
      "Rescale VLL_L.\n"
     ]
    },
    {
     "name": "stdout",
     "output_type": "stream",
     "text": [
      "VLL_L_surround_200\n",
      "aws s3 cp \"/home/yuncong/CSHL_volumes/atlasV5/atlasV5_10.0um_scoreVolume/score_volumes/atlasV5_10.0um_scoreVolume_VLL_L_surround_200.bp\" \"s3://mousebrainatlas-data/CSHL_volumes/atlasV5/atlasV5_10.0um_scoreVolume/score_volumes/atlasV5_10.0um_scoreVolume_VLL_L_surround_200.bp\"\n",
      "aws s3 cp \"/home/yuncong/CSHL_volumes/atlasV5/atlasV5_10.0um_scoreVolume/score_volumes/atlasV5_10.0um_scoreVolume_VLL_L_surround_200_bbox_wrt_atlasSpace.txt\" \"s3://mousebrainatlas-data/CSHL_volumes/atlasV5/atlasV5_10.0um_scoreVolume/score_volumes/atlasV5_10.0um_scoreVolume_VLL_L_surround_200_bbox_wrt_atlasSpace.txt\"\n"
     ]
    },
    {
     "name": "stderr",
     "output_type": "stream",
     "text": [
      "Rescale VLL_L_surround_200.\n"
     ]
    },
    {
     "name": "stdout",
     "output_type": "stream",
     "text": [
      "VLL_R\n",
      "aws s3 cp \"/home/yuncong/CSHL_volumes/atlasV5/atlasV5_10.0um_scoreVolume/score_volumes/atlasV5_10.0um_scoreVolume_VLL_R.bp\" \"s3://mousebrainatlas-data/CSHL_volumes/atlasV5/atlasV5_10.0um_scoreVolume/score_volumes/atlasV5_10.0um_scoreVolume_VLL_R.bp\"\n",
      "aws s3 cp \"/home/yuncong/CSHL_volumes/atlasV5/atlasV5_10.0um_scoreVolume/score_volumes/atlasV5_10.0um_scoreVolume_VLL_R_bbox_wrt_atlasSpace.txt\" \"s3://mousebrainatlas-data/CSHL_volumes/atlasV5/atlasV5_10.0um_scoreVolume/score_volumes/atlasV5_10.0um_scoreVolume_VLL_R_bbox_wrt_atlasSpace.txt\"\n"
     ]
    },
    {
     "name": "stderr",
     "output_type": "stream",
     "text": [
      "Rescale VLL_R.\n"
     ]
    },
    {
     "name": "stdout",
     "output_type": "stream",
     "text": [
      "VLL_R_surround_200\n",
      "aws s3 cp \"/home/yuncong/CSHL_volumes/atlasV5/atlasV5_10.0um_scoreVolume/score_volumes/atlasV5_10.0um_scoreVolume_VLL_R_surround_200.bp\" \"s3://mousebrainatlas-data/CSHL_volumes/atlasV5/atlasV5_10.0um_scoreVolume/score_volumes/atlasV5_10.0um_scoreVolume_VLL_R_surround_200.bp\"\n",
      "aws s3 cp \"/home/yuncong/CSHL_volumes/atlasV5/atlasV5_10.0um_scoreVolume/score_volumes/atlasV5_10.0um_scoreVolume_VLL_R_surround_200_bbox_wrt_atlasSpace.txt\" \"s3://mousebrainatlas-data/CSHL_volumes/atlasV5/atlasV5_10.0um_scoreVolume/score_volumes/atlasV5_10.0um_scoreVolume_VLL_R_surround_200_bbox_wrt_atlasSpace.txt\"\n"
     ]
    },
    {
     "name": "stderr",
     "output_type": "stream",
     "text": [
      "Rescale VLL_R_surround_200.\n"
     ]
    }
   ],
   "source": [
    "for name_u in all_known_structures_sided_with_surround:\n",
    "    print name_u\n",
    "    \n",
    "    t = time.time()\n",
    "    \n",
    "    v, b = DataManager.load_original_volume_v2(stack_spec=stack_m_spec, structure=name_u, bbox_wrt='atlasSpace')\n",
    "    \n",
    "    v_10um = rescale_by_resampling(v, XY_PIXEL_DISTANCE_TB / 10.)\n",
    "    v_10um_fp = DataManager.get_original_volume_filepath_v2(stack_m_spec_10um, structure=name_u)\n",
    "    create_parent_dir_if_not_exists(v_10um_fp)\n",
    "    bp.pack_ndarray_file(v_10um, v_10um_fp)\n",
    "    upload_to_s3(v_10um_fp)\n",
    "    \n",
    "    b_10um = np.round(b * XY_PIXEL_DISTANCE_TB / 10.).astype(np.int)\n",
    "    b_10um_fp = DataManager.get_original_volume_bbox_filepath_v2(stack_m_spec_10um, structure=name_u, wrt='atlasSpace')\n",
    "    np.savetxt(b_10um_fp, b_10um, fmt='%d')\n",
    "    upload_to_s3(b_10um_fp)\n",
    "    \n",
    "    sys.stderr.write('Rescale %s.\\n' % name_u)"
   ]
  },
  {
   "cell_type": "markdown",
   "metadata": {},
   "source": [
    "# Alternating"
   ]
  },
  {
   "cell_type": "code",
   "execution_count": 5,
   "metadata": {
    "scrolled": true
   },
   "outputs": [
    {
     "name": "stdout",
     "output_type": "stream",
     "text": [
      "5N\n",
      "rm -rf /shared/CSHL_scoremaps_down32/MD657/MD657-N66-2017.03.21-14.16.35_MD657_2_0197_alignedTo_MD657-F44-2017.02.18-06.06.27_MD657_1_0130_cropped_down32/MD657-N66-2017.03.21-14.16.35_MD657_2_0197_alignedTo_MD657-F44-2017.02.18-06.06.27_MD657_1_0130_cropped_down32_5N_denseScoreMap_setting_30.bp && mkdir -p /shared/CSHL_scoremaps_down32/MD657/MD657-N66-2017.03.21-14.16.35_MD657_2_0197_alignedTo_MD657-F44-2017.02.18-06.06.27_MD657_1_0130_cropped_down32\n",
      "aws s3 cp s3://mousebrainatlas-data/CSHL_scoremaps_down32/MD657/MD657-N66-2017.03.21-14.16.35_MD657_2_0197_alignedTo_MD657-F44-2017.02.18-06.06.27_MD657_1_0130_cropped_down32/MD657-N66-2017.03.21-14.16.35_MD657_2_0197_alignedTo_MD657-F44-2017.02.18-06.06.27_MD657_1_0130_cropped_down32_5N_denseScoreMap_setting_30.bp /shared/CSHL_scoremaps_down32/MD657/MD657-N66-2017.03.21-14.16.35_MD657_2_0197_alignedTo_MD657-F44-2017.02.18-06.06.27_MD657_1_0130_cropped_down32/MD657-N66-2017.03.21-14.16.35_MD657_2_0197_alignedTo_MD657-F44-2017.02.18-06.06.27_MD657_1_0130_cropped_down32_5N_denseScoreMap_setting_30.bp\n"
     ]
    },
    {
     "name": "stderr",
     "output_type": "stream",
     "text": [
      "Child returned 0\n",
      "Child returned 1\n",
      "0.35 seconds.\n",
      "Child returned 0\n"
     ]
    },
    {
     "name": "stdout",
     "output_type": "stream",
     "text": [
      "rm -rf /shared/CSHL_scoremaps_down32/MD657/MD657-N71-2017.02.22-18.34.41_MD657_2_0212_alignedTo_MD657-F44-2017.02.18-06.06.27_MD657_1_0130_cropped_down32/MD657-N71-2017.02.22-18.34.41_MD657_2_0212_alignedTo_MD657-F44-2017.02.18-06.06.27_MD657_1_0130_cropped_down32_5N_denseScoreMap_setting_30.bp && mkdir -p /shared/CSHL_scoremaps_down32/MD657/MD657-N71-2017.02.22-18.34.41_MD657_2_0212_alignedTo_MD657-F44-2017.02.18-06.06.27_MD657_1_0130_cropped_down32\n",
      "aws s3 cp s3://mousebrainatlas-data/CSHL_scoremaps_down32/MD657/MD657-N71-2017.02.22-18.34.41_MD657_2_0212_alignedTo_MD657-F44-2017.02.18-06.06.27_MD657_1_0130_cropped_down32/MD657-N71-2017.02.22-18.34.41_MD657_2_0212_alignedTo_MD657-F44-2017.02.18-06.06.27_MD657_1_0130_cropped_down32_5N_denseScoreMap_setting_30.bp /shared/CSHL_scoremaps_down32/MD657/MD657-N71-2017.02.22-18.34.41_MD657_2_0212_alignedTo_MD657-F44-2017.02.18-06.06.27_MD657_1_0130_cropped_down32/MD657-N71-2017.02.22-18.34.41_MD657_2_0212_alignedTo_MD657-F44-2017.02.18-06.06.27_MD657_1_0130_cropped_down32_5N_denseScoreMap_setting_30.bp\n"
     ]
    },
    {
     "name": "stderr",
     "output_type": "stream",
     "text": [
      "Child returned 1\n",
      "0.35 seconds.\n",
      "Load scoremaps: 0.87 seconds\n"
     ]
    },
    {
     "name": "stdout",
     "output_type": "stream",
     "text": [
      "127 scoremaps loaded.\n"
     ]
    },
    {
     "name": "stderr",
     "output_type": "stream",
     "text": [
      "Create score volume: 3.29 seconds\n"
     ]
    },
    {
     "name": "stdout",
     "output_type": "stream",
     "text": [
      "aws s3 cp /shared/CSHL_volumes/MD657/MD657_down32_scoreVolume_clf_30/score_volumes/MD657_down32_scoreVolume_clf_30_5N.bp s3://mousebrainatlas-data/CSHL_volumes/MD657/MD657_down32_scoreVolume_clf_30/score_volumes/MD657_down32_scoreVolume_clf_30_5N.bp\n"
     ]
    },
    {
     "name": "stderr",
     "output_type": "stream",
     "text": [
      "Child returned 0\n",
      "1.49 seconds.\n"
     ]
    },
    {
     "name": "stdout",
     "output_type": "stream",
     "text": [
      "aws s3 cp /shared/CSHL_volumes/MD657/MD657_down32_scoreVolume_clf_30/score_volumes/MD657_down32_scoreVolume_clf_30_5N_bbox.txt s3://mousebrainatlas-data/CSHL_volumes/MD657/MD657_down32_scoreVolume_clf_30/score_volumes/MD657_down32_scoreVolume_clf_30_5N_bbox.txt\n"
     ]
    },
    {
     "name": "stderr",
     "output_type": "stream",
     "text": [
      "Child returned 0\n",
      "0.42 seconds.\n",
      "Child returned 0\n"
     ]
    },
    {
     "name": "stdout",
     "output_type": "stream",
     "text": [
      "6N\n",
      "rm -rf /shared/CSHL_scoremaps_down32/MD657/MD657-N66-2017.03.21-14.16.35_MD657_2_0197_alignedTo_MD657-F44-2017.02.18-06.06.27_MD657_1_0130_cropped_down32/MD657-N66-2017.03.21-14.16.35_MD657_2_0197_alignedTo_MD657-F44-2017.02.18-06.06.27_MD657_1_0130_cropped_down32_6N_denseScoreMap_setting_30.bp && mkdir -p /shared/CSHL_scoremaps_down32/MD657/MD657-N66-2017.03.21-14.16.35_MD657_2_0197_alignedTo_MD657-F44-2017.02.18-06.06.27_MD657_1_0130_cropped_down32\n",
      "aws s3 cp s3://mousebrainatlas-data/CSHL_scoremaps_down32/MD657/MD657-N66-2017.03.21-14.16.35_MD657_2_0197_alignedTo_MD657-F44-2017.02.18-06.06.27_MD657_1_0130_cropped_down32/MD657-N66-2017.03.21-14.16.35_MD657_2_0197_alignedTo_MD657-F44-2017.02.18-06.06.27_MD657_1_0130_cropped_down32_6N_denseScoreMap_setting_30.bp /shared/CSHL_scoremaps_down32/MD657/MD657-N66-2017.03.21-14.16.35_MD657_2_0197_alignedTo_MD657-F44-2017.02.18-06.06.27_MD657_1_0130_cropped_down32/MD657-N66-2017.03.21-14.16.35_MD657_2_0197_alignedTo_MD657-F44-2017.02.18-06.06.27_MD657_1_0130_cropped_down32_6N_denseScoreMap_setting_30.bp\n"
     ]
    },
    {
     "name": "stderr",
     "output_type": "stream",
     "text": [
      "Child returned 1\n",
      "0.35 seconds.\n",
      "Child returned 0\n"
     ]
    },
    {
     "name": "stdout",
     "output_type": "stream",
     "text": [
      "rm -rf /shared/CSHL_scoremaps_down32/MD657/MD657-N71-2017.02.22-18.34.41_MD657_2_0212_alignedTo_MD657-F44-2017.02.18-06.06.27_MD657_1_0130_cropped_down32/MD657-N71-2017.02.22-18.34.41_MD657_2_0212_alignedTo_MD657-F44-2017.02.18-06.06.27_MD657_1_0130_cropped_down32_6N_denseScoreMap_setting_30.bp && mkdir -p /shared/CSHL_scoremaps_down32/MD657/MD657-N71-2017.02.22-18.34.41_MD657_2_0212_alignedTo_MD657-F44-2017.02.18-06.06.27_MD657_1_0130_cropped_down32\n",
      "aws s3 cp s3://mousebrainatlas-data/CSHL_scoremaps_down32/MD657/MD657-N71-2017.02.22-18.34.41_MD657_2_0212_alignedTo_MD657-F44-2017.02.18-06.06.27_MD657_1_0130_cropped_down32/MD657-N71-2017.02.22-18.34.41_MD657_2_0212_alignedTo_MD657-F44-2017.02.18-06.06.27_MD657_1_0130_cropped_down32_6N_denseScoreMap_setting_30.bp /shared/CSHL_scoremaps_down32/MD657/MD657-N71-2017.02.22-18.34.41_MD657_2_0212_alignedTo_MD657-F44-2017.02.18-06.06.27_MD657_1_0130_cropped_down32/MD657-N71-2017.02.22-18.34.41_MD657_2_0212_alignedTo_MD657-F44-2017.02.18-06.06.27_MD657_1_0130_cropped_down32_6N_denseScoreMap_setting_30.bp\n"
     ]
    },
    {
     "name": "stderr",
     "output_type": "stream",
     "text": [
      "Child returned 1\n",
      "0.33 seconds.\n",
      "Load scoremaps: 0.86 seconds\n"
     ]
    },
    {
     "name": "stdout",
     "output_type": "stream",
     "text": [
      "127 scoremaps loaded.\n"
     ]
    },
    {
     "name": "stderr",
     "output_type": "stream",
     "text": [
      "Create score volume: 2.26 seconds\n"
     ]
    },
    {
     "name": "stdout",
     "output_type": "stream",
     "text": [
      "aws s3 cp /shared/CSHL_volumes/MD657/MD657_down32_scoreVolume_clf_30/score_volumes/MD657_down32_scoreVolume_clf_30_6N.bp s3://mousebrainatlas-data/CSHL_volumes/MD657/MD657_down32_scoreVolume_clf_30/score_volumes/MD657_down32_scoreVolume_clf_30_6N.bp\n"
     ]
    },
    {
     "name": "stderr",
     "output_type": "stream",
     "text": [
      "Child returned 0\n",
      "1.31 seconds.\n"
     ]
    },
    {
     "name": "stdout",
     "output_type": "stream",
     "text": [
      "aws s3 cp /shared/CSHL_volumes/MD657/MD657_down32_scoreVolume_clf_30/score_volumes/MD657_down32_scoreVolume_clf_30_6N_bbox.txt s3://mousebrainatlas-data/CSHL_volumes/MD657/MD657_down32_scoreVolume_clf_30/score_volumes/MD657_down32_scoreVolume_clf_30_6N_bbox.txt\n"
     ]
    },
    {
     "name": "stderr",
     "output_type": "stream",
     "text": [
      "Child returned 0\n",
      "0.36 seconds.\n",
      "Child returned 0\n"
     ]
    },
    {
     "name": "stdout",
     "output_type": "stream",
     "text": [
      "7N\n",
      "rm -rf /shared/CSHL_scoremaps_down32/MD657/MD657-N66-2017.03.21-14.16.35_MD657_2_0197_alignedTo_MD657-F44-2017.02.18-06.06.27_MD657_1_0130_cropped_down32/MD657-N66-2017.03.21-14.16.35_MD657_2_0197_alignedTo_MD657-F44-2017.02.18-06.06.27_MD657_1_0130_cropped_down32_7N_denseScoreMap_setting_30.bp && mkdir -p /shared/CSHL_scoremaps_down32/MD657/MD657-N66-2017.03.21-14.16.35_MD657_2_0197_alignedTo_MD657-F44-2017.02.18-06.06.27_MD657_1_0130_cropped_down32\n",
      "aws s3 cp s3://mousebrainatlas-data/CSHL_scoremaps_down32/MD657/MD657-N66-2017.03.21-14.16.35_MD657_2_0197_alignedTo_MD657-F44-2017.02.18-06.06.27_MD657_1_0130_cropped_down32/MD657-N66-2017.03.21-14.16.35_MD657_2_0197_alignedTo_MD657-F44-2017.02.18-06.06.27_MD657_1_0130_cropped_down32_7N_denseScoreMap_setting_30.bp /shared/CSHL_scoremaps_down32/MD657/MD657-N66-2017.03.21-14.16.35_MD657_2_0197_alignedTo_MD657-F44-2017.02.18-06.06.27_MD657_1_0130_cropped_down32/MD657-N66-2017.03.21-14.16.35_MD657_2_0197_alignedTo_MD657-F44-2017.02.18-06.06.27_MD657_1_0130_cropped_down32_7N_denseScoreMap_setting_30.bp\n"
     ]
    },
    {
     "name": "stderr",
     "output_type": "stream",
     "text": [
      "Child returned 1\n",
      "0.35 seconds.\n",
      "Child returned 0\n"
     ]
    },
    {
     "name": "stdout",
     "output_type": "stream",
     "text": [
      "rm -rf /shared/CSHL_scoremaps_down32/MD657/MD657-N71-2017.02.22-18.34.41_MD657_2_0212_alignedTo_MD657-F44-2017.02.18-06.06.27_MD657_1_0130_cropped_down32/MD657-N71-2017.02.22-18.34.41_MD657_2_0212_alignedTo_MD657-F44-2017.02.18-06.06.27_MD657_1_0130_cropped_down32_7N_denseScoreMap_setting_30.bp && mkdir -p /shared/CSHL_scoremaps_down32/MD657/MD657-N71-2017.02.22-18.34.41_MD657_2_0212_alignedTo_MD657-F44-2017.02.18-06.06.27_MD657_1_0130_cropped_down32\n",
      "aws s3 cp s3://mousebrainatlas-data/CSHL_scoremaps_down32/MD657/MD657-N71-2017.02.22-18.34.41_MD657_2_0212_alignedTo_MD657-F44-2017.02.18-06.06.27_MD657_1_0130_cropped_down32/MD657-N71-2017.02.22-18.34.41_MD657_2_0212_alignedTo_MD657-F44-2017.02.18-06.06.27_MD657_1_0130_cropped_down32_7N_denseScoreMap_setting_30.bp /shared/CSHL_scoremaps_down32/MD657/MD657-N71-2017.02.22-18.34.41_MD657_2_0212_alignedTo_MD657-F44-2017.02.18-06.06.27_MD657_1_0130_cropped_down32/MD657-N71-2017.02.22-18.34.41_MD657_2_0212_alignedTo_MD657-F44-2017.02.18-06.06.27_MD657_1_0130_cropped_down32_7N_denseScoreMap_setting_30.bp\n"
     ]
    },
    {
     "name": "stderr",
     "output_type": "stream",
     "text": [
      "Child returned 1\n",
      "0.35 seconds.\n",
      "Load scoremaps: 0.86 seconds\n"
     ]
    },
    {
     "name": "stdout",
     "output_type": "stream",
     "text": [
      "127 scoremaps loaded.\n"
     ]
    },
    {
     "name": "stderr",
     "output_type": "stream",
     "text": [
      "Create score volume: 2.08 seconds\n"
     ]
    },
    {
     "name": "stdout",
     "output_type": "stream",
     "text": [
      "aws s3 cp /shared/CSHL_volumes/MD657/MD657_down32_scoreVolume_clf_30/score_volumes/MD657_down32_scoreVolume_clf_30_7N.bp s3://mousebrainatlas-data/CSHL_volumes/MD657/MD657_down32_scoreVolume_clf_30/score_volumes/MD657_down32_scoreVolume_clf_30_7N.bp\n"
     ]
    },
    {
     "name": "stderr",
     "output_type": "stream",
     "text": [
      "Child returned 0\n",
      "1.40 seconds.\n"
     ]
    },
    {
     "name": "stdout",
     "output_type": "stream",
     "text": [
      "aws s3 cp /shared/CSHL_volumes/MD657/MD657_down32_scoreVolume_clf_30/score_volumes/MD657_down32_scoreVolume_clf_30_7N_bbox.txt s3://mousebrainatlas-data/CSHL_volumes/MD657/MD657_down32_scoreVolume_clf_30/score_volumes/MD657_down32_scoreVolume_clf_30_7N_bbox.txt\n"
     ]
    },
    {
     "name": "stderr",
     "output_type": "stream",
     "text": [
      "Child returned 0\n",
      "0.36 seconds.\n",
      "Child returned 0\n"
     ]
    },
    {
     "name": "stdout",
     "output_type": "stream",
     "text": [
      "7n\n",
      "rm -rf /shared/CSHL_scoremaps_down32/MD657/MD657-N66-2017.03.21-14.16.35_MD657_2_0197_alignedTo_MD657-F44-2017.02.18-06.06.27_MD657_1_0130_cropped_down32/MD657-N66-2017.03.21-14.16.35_MD657_2_0197_alignedTo_MD657-F44-2017.02.18-06.06.27_MD657_1_0130_cropped_down32_7n_denseScoreMap_setting_30.bp && mkdir -p /shared/CSHL_scoremaps_down32/MD657/MD657-N66-2017.03.21-14.16.35_MD657_2_0197_alignedTo_MD657-F44-2017.02.18-06.06.27_MD657_1_0130_cropped_down32\n",
      "aws s3 cp s3://mousebrainatlas-data/CSHL_scoremaps_down32/MD657/MD657-N66-2017.03.21-14.16.35_MD657_2_0197_alignedTo_MD657-F44-2017.02.18-06.06.27_MD657_1_0130_cropped_down32/MD657-N66-2017.03.21-14.16.35_MD657_2_0197_alignedTo_MD657-F44-2017.02.18-06.06.27_MD657_1_0130_cropped_down32_7n_denseScoreMap_setting_30.bp /shared/CSHL_scoremaps_down32/MD657/MD657-N66-2017.03.21-14.16.35_MD657_2_0197_alignedTo_MD657-F44-2017.02.18-06.06.27_MD657_1_0130_cropped_down32/MD657-N66-2017.03.21-14.16.35_MD657_2_0197_alignedTo_MD657-F44-2017.02.18-06.06.27_MD657_1_0130_cropped_down32_7n_denseScoreMap_setting_30.bp\n"
     ]
    },
    {
     "name": "stderr",
     "output_type": "stream",
     "text": [
      "Child returned 1\n",
      "0.35 seconds.\n",
      "Child returned 0\n"
     ]
    },
    {
     "name": "stdout",
     "output_type": "stream",
     "text": [
      "rm -rf /shared/CSHL_scoremaps_down32/MD657/MD657-N71-2017.02.22-18.34.41_MD657_2_0212_alignedTo_MD657-F44-2017.02.18-06.06.27_MD657_1_0130_cropped_down32/MD657-N71-2017.02.22-18.34.41_MD657_2_0212_alignedTo_MD657-F44-2017.02.18-06.06.27_MD657_1_0130_cropped_down32_7n_denseScoreMap_setting_30.bp && mkdir -p /shared/CSHL_scoremaps_down32/MD657/MD657-N71-2017.02.22-18.34.41_MD657_2_0212_alignedTo_MD657-F44-2017.02.18-06.06.27_MD657_1_0130_cropped_down32\n",
      "aws s3 cp s3://mousebrainatlas-data/CSHL_scoremaps_down32/MD657/MD657-N71-2017.02.22-18.34.41_MD657_2_0212_alignedTo_MD657-F44-2017.02.18-06.06.27_MD657_1_0130_cropped_down32/MD657-N71-2017.02.22-18.34.41_MD657_2_0212_alignedTo_MD657-F44-2017.02.18-06.06.27_MD657_1_0130_cropped_down32_7n_denseScoreMap_setting_30.bp /shared/CSHL_scoremaps_down32/MD657/MD657-N71-2017.02.22-18.34.41_MD657_2_0212_alignedTo_MD657-F44-2017.02.18-06.06.27_MD657_1_0130_cropped_down32/MD657-N71-2017.02.22-18.34.41_MD657_2_0212_alignedTo_MD657-F44-2017.02.18-06.06.27_MD657_1_0130_cropped_down32_7n_denseScoreMap_setting_30.bp\n"
     ]
    },
    {
     "name": "stderr",
     "output_type": "stream",
     "text": [
      "Child returned 1\n",
      "0.33 seconds.\n",
      "Load scoremaps: 0.85 seconds\n"
     ]
    },
    {
     "name": "stdout",
     "output_type": "stream",
     "text": [
      "127 scoremaps loaded.\n"
     ]
    },
    {
     "name": "stderr",
     "output_type": "stream",
     "text": [
      "Create score volume: 2.15 seconds\n"
     ]
    },
    {
     "name": "stdout",
     "output_type": "stream",
     "text": [
      "aws s3 cp /shared/CSHL_volumes/MD657/MD657_down32_scoreVolume_clf_30/score_volumes/MD657_down32_scoreVolume_clf_30_7n.bp s3://mousebrainatlas-data/CSHL_volumes/MD657/MD657_down32_scoreVolume_clf_30/score_volumes/MD657_down32_scoreVolume_clf_30_7n.bp\n"
     ]
    },
    {
     "name": "stderr",
     "output_type": "stream",
     "text": [
      "Child returned 0\n",
      "1.31 seconds.\n"
     ]
    },
    {
     "name": "stdout",
     "output_type": "stream",
     "text": [
      "aws s3 cp /shared/CSHL_volumes/MD657/MD657_down32_scoreVolume_clf_30/score_volumes/MD657_down32_scoreVolume_clf_30_7n_bbox.txt s3://mousebrainatlas-data/CSHL_volumes/MD657/MD657_down32_scoreVolume_clf_30/score_volumes/MD657_down32_scoreVolume_clf_30_7n_bbox.txt\n"
     ]
    },
    {
     "name": "stderr",
     "output_type": "stream",
     "text": [
      "Child returned 0\n",
      "0.36 seconds.\n",
      "Child returned 0\n"
     ]
    },
    {
     "name": "stdout",
     "output_type": "stream",
     "text": [
      "Amb\n",
      "rm -rf /shared/CSHL_scoremaps_down32/MD657/MD657-N66-2017.03.21-14.16.35_MD657_2_0197_alignedTo_MD657-F44-2017.02.18-06.06.27_MD657_1_0130_cropped_down32/MD657-N66-2017.03.21-14.16.35_MD657_2_0197_alignedTo_MD657-F44-2017.02.18-06.06.27_MD657_1_0130_cropped_down32_Amb_denseScoreMap_setting_30.bp && mkdir -p /shared/CSHL_scoremaps_down32/MD657/MD657-N66-2017.03.21-14.16.35_MD657_2_0197_alignedTo_MD657-F44-2017.02.18-06.06.27_MD657_1_0130_cropped_down32\n",
      "aws s3 cp s3://mousebrainatlas-data/CSHL_scoremaps_down32/MD657/MD657-N66-2017.03.21-14.16.35_MD657_2_0197_alignedTo_MD657-F44-2017.02.18-06.06.27_MD657_1_0130_cropped_down32/MD657-N66-2017.03.21-14.16.35_MD657_2_0197_alignedTo_MD657-F44-2017.02.18-06.06.27_MD657_1_0130_cropped_down32_Amb_denseScoreMap_setting_30.bp /shared/CSHL_scoremaps_down32/MD657/MD657-N66-2017.03.21-14.16.35_MD657_2_0197_alignedTo_MD657-F44-2017.02.18-06.06.27_MD657_1_0130_cropped_down32/MD657-N66-2017.03.21-14.16.35_MD657_2_0197_alignedTo_MD657-F44-2017.02.18-06.06.27_MD657_1_0130_cropped_down32_Amb_denseScoreMap_setting_30.bp\n"
     ]
    },
    {
     "name": "stderr",
     "output_type": "stream",
     "text": [
      "Child returned 1\n",
      "0.66 seconds.\n",
      "Child returned 0\n"
     ]
    },
    {
     "name": "stdout",
     "output_type": "stream",
     "text": [
      "rm -rf /shared/CSHL_scoremaps_down32/MD657/MD657-N71-2017.02.22-18.34.41_MD657_2_0212_alignedTo_MD657-F44-2017.02.18-06.06.27_MD657_1_0130_cropped_down32/MD657-N71-2017.02.22-18.34.41_MD657_2_0212_alignedTo_MD657-F44-2017.02.18-06.06.27_MD657_1_0130_cropped_down32_Amb_denseScoreMap_setting_30.bp && mkdir -p /shared/CSHL_scoremaps_down32/MD657/MD657-N71-2017.02.22-18.34.41_MD657_2_0212_alignedTo_MD657-F44-2017.02.18-06.06.27_MD657_1_0130_cropped_down32\n",
      "aws s3 cp s3://mousebrainatlas-data/CSHL_scoremaps_down32/MD657/MD657-N71-2017.02.22-18.34.41_MD657_2_0212_alignedTo_MD657-F44-2017.02.18-06.06.27_MD657_1_0130_cropped_down32/MD657-N71-2017.02.22-18.34.41_MD657_2_0212_alignedTo_MD657-F44-2017.02.18-06.06.27_MD657_1_0130_cropped_down32_Amb_denseScoreMap_setting_30.bp /shared/CSHL_scoremaps_down32/MD657/MD657-N71-2017.02.22-18.34.41_MD657_2_0212_alignedTo_MD657-F44-2017.02.18-06.06.27_MD657_1_0130_cropped_down32/MD657-N71-2017.02.22-18.34.41_MD657_2_0212_alignedTo_MD657-F44-2017.02.18-06.06.27_MD657_1_0130_cropped_down32_Amb_denseScoreMap_setting_30.bp\n"
     ]
    },
    {
     "name": "stderr",
     "output_type": "stream",
     "text": [
      "Child returned 1\n",
      "0.35 seconds.\n",
      "Load scoremaps: 1.17 seconds\n"
     ]
    },
    {
     "name": "stdout",
     "output_type": "stream",
     "text": [
      "127 scoremaps loaded.\n"
     ]
    },
    {
     "name": "stderr",
     "output_type": "stream",
     "text": [
      "Create score volume: 2.11 seconds\n"
     ]
    },
    {
     "name": "stdout",
     "output_type": "stream",
     "text": [
      "aws s3 cp /shared/CSHL_volumes/MD657/MD657_down32_scoreVolume_clf_30/score_volumes/MD657_down32_scoreVolume_clf_30_Amb.bp s3://mousebrainatlas-data/CSHL_volumes/MD657/MD657_down32_scoreVolume_clf_30/score_volumes/MD657_down32_scoreVolume_clf_30_Amb.bp\n"
     ]
    },
    {
     "name": "stderr",
     "output_type": "stream",
     "text": [
      "Child returned 0\n",
      "1.35 seconds.\n"
     ]
    },
    {
     "name": "stdout",
     "output_type": "stream",
     "text": [
      "aws s3 cp /shared/CSHL_volumes/MD657/MD657_down32_scoreVolume_clf_30/score_volumes/MD657_down32_scoreVolume_clf_30_Amb_bbox.txt s3://mousebrainatlas-data/CSHL_volumes/MD657/MD657_down32_scoreVolume_clf_30/score_volumes/MD657_down32_scoreVolume_clf_30_Amb_bbox.txt\n"
     ]
    },
    {
     "name": "stderr",
     "output_type": "stream",
     "text": [
      "Child returned 0\n",
      "0.36 seconds.\n",
      "Child returned 0\n"
     ]
    },
    {
     "name": "stdout",
     "output_type": "stream",
     "text": [
      "LC\n",
      "rm -rf /shared/CSHL_scoremaps_down32/MD657/MD657-N66-2017.03.21-14.16.35_MD657_2_0197_alignedTo_MD657-F44-2017.02.18-06.06.27_MD657_1_0130_cropped_down32/MD657-N66-2017.03.21-14.16.35_MD657_2_0197_alignedTo_MD657-F44-2017.02.18-06.06.27_MD657_1_0130_cropped_down32_LC_denseScoreMap_setting_30.bp && mkdir -p /shared/CSHL_scoremaps_down32/MD657/MD657-N66-2017.03.21-14.16.35_MD657_2_0197_alignedTo_MD657-F44-2017.02.18-06.06.27_MD657_1_0130_cropped_down32\n",
      "aws s3 cp s3://mousebrainatlas-data/CSHL_scoremaps_down32/MD657/MD657-N66-2017.03.21-14.16.35_MD657_2_0197_alignedTo_MD657-F44-2017.02.18-06.06.27_MD657_1_0130_cropped_down32/MD657-N66-2017.03.21-14.16.35_MD657_2_0197_alignedTo_MD657-F44-2017.02.18-06.06.27_MD657_1_0130_cropped_down32_LC_denseScoreMap_setting_30.bp /shared/CSHL_scoremaps_down32/MD657/MD657-N66-2017.03.21-14.16.35_MD657_2_0197_alignedTo_MD657-F44-2017.02.18-06.06.27_MD657_1_0130_cropped_down32/MD657-N66-2017.03.21-14.16.35_MD657_2_0197_alignedTo_MD657-F44-2017.02.18-06.06.27_MD657_1_0130_cropped_down32_LC_denseScoreMap_setting_30.bp\n"
     ]
    },
    {
     "name": "stderr",
     "output_type": "stream",
     "text": [
      "Child returned 1\n",
      "0.35 seconds.\n",
      "Child returned 0\n"
     ]
    },
    {
     "name": "stdout",
     "output_type": "stream",
     "text": [
      "rm -rf /shared/CSHL_scoremaps_down32/MD657/MD657-N71-2017.02.22-18.34.41_MD657_2_0212_alignedTo_MD657-F44-2017.02.18-06.06.27_MD657_1_0130_cropped_down32/MD657-N71-2017.02.22-18.34.41_MD657_2_0212_alignedTo_MD657-F44-2017.02.18-06.06.27_MD657_1_0130_cropped_down32_LC_denseScoreMap_setting_30.bp && mkdir -p /shared/CSHL_scoremaps_down32/MD657/MD657-N71-2017.02.22-18.34.41_MD657_2_0212_alignedTo_MD657-F44-2017.02.18-06.06.27_MD657_1_0130_cropped_down32\n",
      "aws s3 cp s3://mousebrainatlas-data/CSHL_scoremaps_down32/MD657/MD657-N71-2017.02.22-18.34.41_MD657_2_0212_alignedTo_MD657-F44-2017.02.18-06.06.27_MD657_1_0130_cropped_down32/MD657-N71-2017.02.22-18.34.41_MD657_2_0212_alignedTo_MD657-F44-2017.02.18-06.06.27_MD657_1_0130_cropped_down32_LC_denseScoreMap_setting_30.bp /shared/CSHL_scoremaps_down32/MD657/MD657-N71-2017.02.22-18.34.41_MD657_2_0212_alignedTo_MD657-F44-2017.02.18-06.06.27_MD657_1_0130_cropped_down32/MD657-N71-2017.02.22-18.34.41_MD657_2_0212_alignedTo_MD657-F44-2017.02.18-06.06.27_MD657_1_0130_cropped_down32_LC_denseScoreMap_setting_30.bp\n"
     ]
    },
    {
     "name": "stderr",
     "output_type": "stream",
     "text": [
      "Child returned 1\n",
      "0.35 seconds.\n",
      "Load scoremaps: 0.86 seconds\n"
     ]
    },
    {
     "name": "stdout",
     "output_type": "stream",
     "text": [
      "127 scoremaps loaded.\n"
     ]
    },
    {
     "name": "stderr",
     "output_type": "stream",
     "text": [
      "Create score volume: 2.12 seconds\n"
     ]
    },
    {
     "name": "stdout",
     "output_type": "stream",
     "text": [
      "aws s3 cp /shared/CSHL_volumes/MD657/MD657_down32_scoreVolume_clf_30/score_volumes/MD657_down32_scoreVolume_clf_30_LC.bp s3://mousebrainatlas-data/CSHL_volumes/MD657/MD657_down32_scoreVolume_clf_30/score_volumes/MD657_down32_scoreVolume_clf_30_LC.bp\n"
     ]
    },
    {
     "name": "stderr",
     "output_type": "stream",
     "text": [
      "Child returned 0\n",
      "1.54 seconds.\n"
     ]
    },
    {
     "name": "stdout",
     "output_type": "stream",
     "text": [
      "aws s3 cp /shared/CSHL_volumes/MD657/MD657_down32_scoreVolume_clf_30/score_volumes/MD657_down32_scoreVolume_clf_30_LC_bbox.txt s3://mousebrainatlas-data/CSHL_volumes/MD657/MD657_down32_scoreVolume_clf_30/score_volumes/MD657_down32_scoreVolume_clf_30_LC_bbox.txt\n"
     ]
    },
    {
     "name": "stderr",
     "output_type": "stream",
     "text": [
      "Child returned 0\n",
      "0.36 seconds.\n",
      "Child returned 0\n"
     ]
    },
    {
     "name": "stdout",
     "output_type": "stream",
     "text": [
      "LRt\n",
      "rm -rf /shared/CSHL_scoremaps_down32/MD657/MD657-N66-2017.03.21-14.16.35_MD657_2_0197_alignedTo_MD657-F44-2017.02.18-06.06.27_MD657_1_0130_cropped_down32/MD657-N66-2017.03.21-14.16.35_MD657_2_0197_alignedTo_MD657-F44-2017.02.18-06.06.27_MD657_1_0130_cropped_down32_LRt_denseScoreMap_setting_30.bp && mkdir -p /shared/CSHL_scoremaps_down32/MD657/MD657-N66-2017.03.21-14.16.35_MD657_2_0197_alignedTo_MD657-F44-2017.02.18-06.06.27_MD657_1_0130_cropped_down32\n",
      "aws s3 cp s3://mousebrainatlas-data/CSHL_scoremaps_down32/MD657/MD657-N66-2017.03.21-14.16.35_MD657_2_0197_alignedTo_MD657-F44-2017.02.18-06.06.27_MD657_1_0130_cropped_down32/MD657-N66-2017.03.21-14.16.35_MD657_2_0197_alignedTo_MD657-F44-2017.02.18-06.06.27_MD657_1_0130_cropped_down32_LRt_denseScoreMap_setting_30.bp /shared/CSHL_scoremaps_down32/MD657/MD657-N66-2017.03.21-14.16.35_MD657_2_0197_alignedTo_MD657-F44-2017.02.18-06.06.27_MD657_1_0130_cropped_down32/MD657-N66-2017.03.21-14.16.35_MD657_2_0197_alignedTo_MD657-F44-2017.02.18-06.06.27_MD657_1_0130_cropped_down32_LRt_denseScoreMap_setting_30.bp\n"
     ]
    },
    {
     "name": "stderr",
     "output_type": "stream",
     "text": [
      "Child returned 1\n",
      "0.34 seconds.\n",
      "Child returned 0\n"
     ]
    },
    {
     "name": "stdout",
     "output_type": "stream",
     "text": [
      "rm -rf /shared/CSHL_scoremaps_down32/MD657/MD657-N71-2017.02.22-18.34.41_MD657_2_0212_alignedTo_MD657-F44-2017.02.18-06.06.27_MD657_1_0130_cropped_down32/MD657-N71-2017.02.22-18.34.41_MD657_2_0212_alignedTo_MD657-F44-2017.02.18-06.06.27_MD657_1_0130_cropped_down32_LRt_denseScoreMap_setting_30.bp && mkdir -p /shared/CSHL_scoremaps_down32/MD657/MD657-N71-2017.02.22-18.34.41_MD657_2_0212_alignedTo_MD657-F44-2017.02.18-06.06.27_MD657_1_0130_cropped_down32\n",
      "aws s3 cp s3://mousebrainatlas-data/CSHL_scoremaps_down32/MD657/MD657-N71-2017.02.22-18.34.41_MD657_2_0212_alignedTo_MD657-F44-2017.02.18-06.06.27_MD657_1_0130_cropped_down32/MD657-N71-2017.02.22-18.34.41_MD657_2_0212_alignedTo_MD657-F44-2017.02.18-06.06.27_MD657_1_0130_cropped_down32_LRt_denseScoreMap_setting_30.bp /shared/CSHL_scoremaps_down32/MD657/MD657-N71-2017.02.22-18.34.41_MD657_2_0212_alignedTo_MD657-F44-2017.02.18-06.06.27_MD657_1_0130_cropped_down32/MD657-N71-2017.02.22-18.34.41_MD657_2_0212_alignedTo_MD657-F44-2017.02.18-06.06.27_MD657_1_0130_cropped_down32_LRt_denseScoreMap_setting_30.bp\n"
     ]
    },
    {
     "name": "stderr",
     "output_type": "stream",
     "text": [
      "Child returned 1\n",
      "0.34 seconds.\n",
      "Load scoremaps: 0.84 seconds\n"
     ]
    },
    {
     "name": "stdout",
     "output_type": "stream",
     "text": [
      "127 scoremaps loaded.\n"
     ]
    },
    {
     "name": "stderr",
     "output_type": "stream",
     "text": [
      "Create score volume: 2.11 seconds\n"
     ]
    },
    {
     "name": "stdout",
     "output_type": "stream",
     "text": [
      "aws s3 cp /shared/CSHL_volumes/MD657/MD657_down32_scoreVolume_clf_30/score_volumes/MD657_down32_scoreVolume_clf_30_LRt.bp s3://mousebrainatlas-data/CSHL_volumes/MD657/MD657_down32_scoreVolume_clf_30/score_volumes/MD657_down32_scoreVolume_clf_30_LRt.bp\n"
     ]
    },
    {
     "name": "stderr",
     "output_type": "stream",
     "text": [
      "Child returned 0\n",
      "1.60 seconds.\n"
     ]
    },
    {
     "name": "stdout",
     "output_type": "stream",
     "text": [
      "aws s3 cp /shared/CSHL_volumes/MD657/MD657_down32_scoreVolume_clf_30/score_volumes/MD657_down32_scoreVolume_clf_30_LRt_bbox.txt s3://mousebrainatlas-data/CSHL_volumes/MD657/MD657_down32_scoreVolume_clf_30/score_volumes/MD657_down32_scoreVolume_clf_30_LRt_bbox.txt\n"
     ]
    },
    {
     "name": "stderr",
     "output_type": "stream",
     "text": [
      "Child returned 0\n",
      "0.37 seconds.\n",
      "Child returned 0\n"
     ]
    },
    {
     "name": "stdout",
     "output_type": "stream",
     "text": [
      "Pn\n",
      "rm -rf /shared/CSHL_scoremaps_down32/MD657/MD657-N66-2017.03.21-14.16.35_MD657_2_0197_alignedTo_MD657-F44-2017.02.18-06.06.27_MD657_1_0130_cropped_down32/MD657-N66-2017.03.21-14.16.35_MD657_2_0197_alignedTo_MD657-F44-2017.02.18-06.06.27_MD657_1_0130_cropped_down32_Pn_denseScoreMap_setting_30.bp && mkdir -p /shared/CSHL_scoremaps_down32/MD657/MD657-N66-2017.03.21-14.16.35_MD657_2_0197_alignedTo_MD657-F44-2017.02.18-06.06.27_MD657_1_0130_cropped_down32\n",
      "aws s3 cp s3://mousebrainatlas-data/CSHL_scoremaps_down32/MD657/MD657-N66-2017.03.21-14.16.35_MD657_2_0197_alignedTo_MD657-F44-2017.02.18-06.06.27_MD657_1_0130_cropped_down32/MD657-N66-2017.03.21-14.16.35_MD657_2_0197_alignedTo_MD657-F44-2017.02.18-06.06.27_MD657_1_0130_cropped_down32_Pn_denseScoreMap_setting_30.bp /shared/CSHL_scoremaps_down32/MD657/MD657-N66-2017.03.21-14.16.35_MD657_2_0197_alignedTo_MD657-F44-2017.02.18-06.06.27_MD657_1_0130_cropped_down32/MD657-N66-2017.03.21-14.16.35_MD657_2_0197_alignedTo_MD657-F44-2017.02.18-06.06.27_MD657_1_0130_cropped_down32_Pn_denseScoreMap_setting_30.bp\n"
     ]
    },
    {
     "name": "stderr",
     "output_type": "stream",
     "text": [
      "Child returned 1\n",
      "0.33 seconds.\n",
      "Child returned 0\n"
     ]
    },
    {
     "name": "stdout",
     "output_type": "stream",
     "text": [
      "rm -rf /shared/CSHL_scoremaps_down32/MD657/MD657-N71-2017.02.22-18.34.41_MD657_2_0212_alignedTo_MD657-F44-2017.02.18-06.06.27_MD657_1_0130_cropped_down32/MD657-N71-2017.02.22-18.34.41_MD657_2_0212_alignedTo_MD657-F44-2017.02.18-06.06.27_MD657_1_0130_cropped_down32_Pn_denseScoreMap_setting_30.bp && mkdir -p /shared/CSHL_scoremaps_down32/MD657/MD657-N71-2017.02.22-18.34.41_MD657_2_0212_alignedTo_MD657-F44-2017.02.18-06.06.27_MD657_1_0130_cropped_down32\n",
      "aws s3 cp s3://mousebrainatlas-data/CSHL_scoremaps_down32/MD657/MD657-N71-2017.02.22-18.34.41_MD657_2_0212_alignedTo_MD657-F44-2017.02.18-06.06.27_MD657_1_0130_cropped_down32/MD657-N71-2017.02.22-18.34.41_MD657_2_0212_alignedTo_MD657-F44-2017.02.18-06.06.27_MD657_1_0130_cropped_down32_Pn_denseScoreMap_setting_30.bp /shared/CSHL_scoremaps_down32/MD657/MD657-N71-2017.02.22-18.34.41_MD657_2_0212_alignedTo_MD657-F44-2017.02.18-06.06.27_MD657_1_0130_cropped_down32/MD657-N71-2017.02.22-18.34.41_MD657_2_0212_alignedTo_MD657-F44-2017.02.18-06.06.27_MD657_1_0130_cropped_down32_Pn_denseScoreMap_setting_30.bp\n"
     ]
    },
    {
     "name": "stderr",
     "output_type": "stream",
     "text": [
      "Child returned 1\n",
      "0.33 seconds.\n",
      "Load scoremaps: 0.83 seconds\n"
     ]
    },
    {
     "name": "stdout",
     "output_type": "stream",
     "text": [
      "127 scoremaps loaded.\n"
     ]
    },
    {
     "name": "stderr",
     "output_type": "stream",
     "text": [
      "Create score volume: 2.49 seconds\n"
     ]
    },
    {
     "name": "stdout",
     "output_type": "stream",
     "text": [
      "aws s3 cp /shared/CSHL_volumes/MD657/MD657_down32_scoreVolume_clf_30/score_volumes/MD657_down32_scoreVolume_clf_30_Pn.bp s3://mousebrainatlas-data/CSHL_volumes/MD657/MD657_down32_scoreVolume_clf_30/score_volumes/MD657_down32_scoreVolume_clf_30_Pn.bp\n"
     ]
    },
    {
     "name": "stderr",
     "output_type": "stream",
     "text": [
      "Child returned 0\n",
      "1.35 seconds.\n"
     ]
    },
    {
     "name": "stdout",
     "output_type": "stream",
     "text": [
      "aws s3 cp /shared/CSHL_volumes/MD657/MD657_down32_scoreVolume_clf_30/score_volumes/MD657_down32_scoreVolume_clf_30_Pn_bbox.txt s3://mousebrainatlas-data/CSHL_volumes/MD657/MD657_down32_scoreVolume_clf_30/score_volumes/MD657_down32_scoreVolume_clf_30_Pn_bbox.txt\n"
     ]
    },
    {
     "name": "stderr",
     "output_type": "stream",
     "text": [
      "Child returned 0\n",
      "0.33 seconds.\n",
      "Child returned 0\n"
     ]
    },
    {
     "name": "stdout",
     "output_type": "stream",
     "text": [
      "Tz\n",
      "rm -rf /shared/CSHL_scoremaps_down32/MD657/MD657-N66-2017.03.21-14.16.35_MD657_2_0197_alignedTo_MD657-F44-2017.02.18-06.06.27_MD657_1_0130_cropped_down32/MD657-N66-2017.03.21-14.16.35_MD657_2_0197_alignedTo_MD657-F44-2017.02.18-06.06.27_MD657_1_0130_cropped_down32_Tz_denseScoreMap_setting_30.bp && mkdir -p /shared/CSHL_scoremaps_down32/MD657/MD657-N66-2017.03.21-14.16.35_MD657_2_0197_alignedTo_MD657-F44-2017.02.18-06.06.27_MD657_1_0130_cropped_down32\n",
      "aws s3 cp s3://mousebrainatlas-data/CSHL_scoremaps_down32/MD657/MD657-N66-2017.03.21-14.16.35_MD657_2_0197_alignedTo_MD657-F44-2017.02.18-06.06.27_MD657_1_0130_cropped_down32/MD657-N66-2017.03.21-14.16.35_MD657_2_0197_alignedTo_MD657-F44-2017.02.18-06.06.27_MD657_1_0130_cropped_down32_Tz_denseScoreMap_setting_30.bp /shared/CSHL_scoremaps_down32/MD657/MD657-N66-2017.03.21-14.16.35_MD657_2_0197_alignedTo_MD657-F44-2017.02.18-06.06.27_MD657_1_0130_cropped_down32/MD657-N66-2017.03.21-14.16.35_MD657_2_0197_alignedTo_MD657-F44-2017.02.18-06.06.27_MD657_1_0130_cropped_down32_Tz_denseScoreMap_setting_30.bp\n"
     ]
    },
    {
     "name": "stderr",
     "output_type": "stream",
     "text": [
      "Child returned 1\n",
      "0.33 seconds.\n",
      "Child returned 0\n"
     ]
    },
    {
     "name": "stdout",
     "output_type": "stream",
     "text": [
      "rm -rf /shared/CSHL_scoremaps_down32/MD657/MD657-N71-2017.02.22-18.34.41_MD657_2_0212_alignedTo_MD657-F44-2017.02.18-06.06.27_MD657_1_0130_cropped_down32/MD657-N71-2017.02.22-18.34.41_MD657_2_0212_alignedTo_MD657-F44-2017.02.18-06.06.27_MD657_1_0130_cropped_down32_Tz_denseScoreMap_setting_30.bp && mkdir -p /shared/CSHL_scoremaps_down32/MD657/MD657-N71-2017.02.22-18.34.41_MD657_2_0212_alignedTo_MD657-F44-2017.02.18-06.06.27_MD657_1_0130_cropped_down32\n",
      "aws s3 cp s3://mousebrainatlas-data/CSHL_scoremaps_down32/MD657/MD657-N71-2017.02.22-18.34.41_MD657_2_0212_alignedTo_MD657-F44-2017.02.18-06.06.27_MD657_1_0130_cropped_down32/MD657-N71-2017.02.22-18.34.41_MD657_2_0212_alignedTo_MD657-F44-2017.02.18-06.06.27_MD657_1_0130_cropped_down32_Tz_denseScoreMap_setting_30.bp /shared/CSHL_scoremaps_down32/MD657/MD657-N71-2017.02.22-18.34.41_MD657_2_0212_alignedTo_MD657-F44-2017.02.18-06.06.27_MD657_1_0130_cropped_down32/MD657-N71-2017.02.22-18.34.41_MD657_2_0212_alignedTo_MD657-F44-2017.02.18-06.06.27_MD657_1_0130_cropped_down32_Tz_denseScoreMap_setting_30.bp\n"
     ]
    },
    {
     "name": "stderr",
     "output_type": "stream",
     "text": [
      "Child returned 1\n",
      "0.34 seconds.\n",
      "Load scoremaps: 0.84 seconds\n"
     ]
    },
    {
     "name": "stdout",
     "output_type": "stream",
     "text": [
      "127 scoremaps loaded.\n"
     ]
    },
    {
     "name": "stderr",
     "output_type": "stream",
     "text": [
      "Create score volume: 2.07 seconds\n"
     ]
    },
    {
     "name": "stdout",
     "output_type": "stream",
     "text": [
      "aws s3 cp /shared/CSHL_volumes/MD657/MD657_down32_scoreVolume_clf_30/score_volumes/MD657_down32_scoreVolume_clf_30_Tz.bp s3://mousebrainatlas-data/CSHL_volumes/MD657/MD657_down32_scoreVolume_clf_30/score_volumes/MD657_down32_scoreVolume_clf_30_Tz.bp\n"
     ]
    },
    {
     "name": "stderr",
     "output_type": "stream",
     "text": [
      "Child returned 0\n",
      "1.35 seconds.\n"
     ]
    },
    {
     "name": "stdout",
     "output_type": "stream",
     "text": [
      "aws s3 cp /shared/CSHL_volumes/MD657/MD657_down32_scoreVolume_clf_30/score_volumes/MD657_down32_scoreVolume_clf_30_Tz_bbox.txt s3://mousebrainatlas-data/CSHL_volumes/MD657/MD657_down32_scoreVolume_clf_30/score_volumes/MD657_down32_scoreVolume_clf_30_Tz_bbox.txt\n"
     ]
    },
    {
     "name": "stderr",
     "output_type": "stream",
     "text": [
      "Child returned 0\n",
      "0.36 seconds.\n",
      "Child returned 0\n"
     ]
    },
    {
     "name": "stdout",
     "output_type": "stream",
     "text": [
      "VLL\n",
      "rm -rf /shared/CSHL_scoremaps_down32/MD657/MD657-N66-2017.03.21-14.16.35_MD657_2_0197_alignedTo_MD657-F44-2017.02.18-06.06.27_MD657_1_0130_cropped_down32/MD657-N66-2017.03.21-14.16.35_MD657_2_0197_alignedTo_MD657-F44-2017.02.18-06.06.27_MD657_1_0130_cropped_down32_VLL_denseScoreMap_setting_30.bp && mkdir -p /shared/CSHL_scoremaps_down32/MD657/MD657-N66-2017.03.21-14.16.35_MD657_2_0197_alignedTo_MD657-F44-2017.02.18-06.06.27_MD657_1_0130_cropped_down32\n",
      "aws s3 cp s3://mousebrainatlas-data/CSHL_scoremaps_down32/MD657/MD657-N66-2017.03.21-14.16.35_MD657_2_0197_alignedTo_MD657-F44-2017.02.18-06.06.27_MD657_1_0130_cropped_down32/MD657-N66-2017.03.21-14.16.35_MD657_2_0197_alignedTo_MD657-F44-2017.02.18-06.06.27_MD657_1_0130_cropped_down32_VLL_denseScoreMap_setting_30.bp /shared/CSHL_scoremaps_down32/MD657/MD657-N66-2017.03.21-14.16.35_MD657_2_0197_alignedTo_MD657-F44-2017.02.18-06.06.27_MD657_1_0130_cropped_down32/MD657-N66-2017.03.21-14.16.35_MD657_2_0197_alignedTo_MD657-F44-2017.02.18-06.06.27_MD657_1_0130_cropped_down32_VLL_denseScoreMap_setting_30.bp\n"
     ]
    },
    {
     "name": "stderr",
     "output_type": "stream",
     "text": [
      "Child returned 1\n",
      "0.37 seconds.\n",
      "Child returned 0\n"
     ]
    },
    {
     "name": "stdout",
     "output_type": "stream",
     "text": [
      "rm -rf /shared/CSHL_scoremaps_down32/MD657/MD657-N71-2017.02.22-18.34.41_MD657_2_0212_alignedTo_MD657-F44-2017.02.18-06.06.27_MD657_1_0130_cropped_down32/MD657-N71-2017.02.22-18.34.41_MD657_2_0212_alignedTo_MD657-F44-2017.02.18-06.06.27_MD657_1_0130_cropped_down32_VLL_denseScoreMap_setting_30.bp && mkdir -p /shared/CSHL_scoremaps_down32/MD657/MD657-N71-2017.02.22-18.34.41_MD657_2_0212_alignedTo_MD657-F44-2017.02.18-06.06.27_MD657_1_0130_cropped_down32\n",
      "aws s3 cp s3://mousebrainatlas-data/CSHL_scoremaps_down32/MD657/MD657-N71-2017.02.22-18.34.41_MD657_2_0212_alignedTo_MD657-F44-2017.02.18-06.06.27_MD657_1_0130_cropped_down32/MD657-N71-2017.02.22-18.34.41_MD657_2_0212_alignedTo_MD657-F44-2017.02.18-06.06.27_MD657_1_0130_cropped_down32_VLL_denseScoreMap_setting_30.bp /shared/CSHL_scoremaps_down32/MD657/MD657-N71-2017.02.22-18.34.41_MD657_2_0212_alignedTo_MD657-F44-2017.02.18-06.06.27_MD657_1_0130_cropped_down32/MD657-N71-2017.02.22-18.34.41_MD657_2_0212_alignedTo_MD657-F44-2017.02.18-06.06.27_MD657_1_0130_cropped_down32_VLL_denseScoreMap_setting_30.bp\n"
     ]
    },
    {
     "name": "stderr",
     "output_type": "stream",
     "text": [
      "Child returned 1\n",
      "0.35 seconds.\n",
      "Load scoremaps: 0.88 seconds\n"
     ]
    },
    {
     "name": "stdout",
     "output_type": "stream",
     "text": [
      "127 scoremaps loaded.\n"
     ]
    },
    {
     "name": "stderr",
     "output_type": "stream",
     "text": [
      "Create score volume: 2.19 seconds\n"
     ]
    },
    {
     "name": "stdout",
     "output_type": "stream",
     "text": [
      "aws s3 cp /shared/CSHL_volumes/MD657/MD657_down32_scoreVolume_clf_30/score_volumes/MD657_down32_scoreVolume_clf_30_VLL.bp s3://mousebrainatlas-data/CSHL_volumes/MD657/MD657_down32_scoreVolume_clf_30/score_volumes/MD657_down32_scoreVolume_clf_30_VLL.bp\n"
     ]
    },
    {
     "name": "stderr",
     "output_type": "stream",
     "text": [
      "Child returned 0\n",
      "7.41 seconds.\n"
     ]
    },
    {
     "name": "stdout",
     "output_type": "stream",
     "text": [
      "aws s3 cp /shared/CSHL_volumes/MD657/MD657_down32_scoreVolume_clf_30/score_volumes/MD657_down32_scoreVolume_clf_30_VLL_bbox.txt s3://mousebrainatlas-data/CSHL_volumes/MD657/MD657_down32_scoreVolume_clf_30/score_volumes/MD657_down32_scoreVolume_clf_30_VLL_bbox.txt\n"
     ]
    },
    {
     "name": "stderr",
     "output_type": "stream",
     "text": [
      "Child returned 0\n",
      "0.36 seconds.\n",
      "Child returned 0\n"
     ]
    },
    {
     "name": "stdout",
     "output_type": "stream",
     "text": [
      "RMC\n",
      "rm -rf /shared/CSHL_scoremaps_down32/MD657/MD657-N66-2017.03.21-14.16.35_MD657_2_0197_alignedTo_MD657-F44-2017.02.18-06.06.27_MD657_1_0130_cropped_down32/MD657-N66-2017.03.21-14.16.35_MD657_2_0197_alignedTo_MD657-F44-2017.02.18-06.06.27_MD657_1_0130_cropped_down32_RMC_denseScoreMap_setting_30.bp && mkdir -p /shared/CSHL_scoremaps_down32/MD657/MD657-N66-2017.03.21-14.16.35_MD657_2_0197_alignedTo_MD657-F44-2017.02.18-06.06.27_MD657_1_0130_cropped_down32\n",
      "aws s3 cp s3://mousebrainatlas-data/CSHL_scoremaps_down32/MD657/MD657-N66-2017.03.21-14.16.35_MD657_2_0197_alignedTo_MD657-F44-2017.02.18-06.06.27_MD657_1_0130_cropped_down32/MD657-N66-2017.03.21-14.16.35_MD657_2_0197_alignedTo_MD657-F44-2017.02.18-06.06.27_MD657_1_0130_cropped_down32_RMC_denseScoreMap_setting_30.bp /shared/CSHL_scoremaps_down32/MD657/MD657-N66-2017.03.21-14.16.35_MD657_2_0197_alignedTo_MD657-F44-2017.02.18-06.06.27_MD657_1_0130_cropped_down32/MD657-N66-2017.03.21-14.16.35_MD657_2_0197_alignedTo_MD657-F44-2017.02.18-06.06.27_MD657_1_0130_cropped_down32_RMC_denseScoreMap_setting_30.bp\n"
     ]
    },
    {
     "name": "stderr",
     "output_type": "stream",
     "text": [
      "Child returned 1\n",
      "0.35 seconds.\n",
      "Child returned 0\n"
     ]
    },
    {
     "name": "stdout",
     "output_type": "stream",
     "text": [
      "rm -rf /shared/CSHL_scoremaps_down32/MD657/MD657-N71-2017.02.22-18.34.41_MD657_2_0212_alignedTo_MD657-F44-2017.02.18-06.06.27_MD657_1_0130_cropped_down32/MD657-N71-2017.02.22-18.34.41_MD657_2_0212_alignedTo_MD657-F44-2017.02.18-06.06.27_MD657_1_0130_cropped_down32_RMC_denseScoreMap_setting_30.bp && mkdir -p /shared/CSHL_scoremaps_down32/MD657/MD657-N71-2017.02.22-18.34.41_MD657_2_0212_alignedTo_MD657-F44-2017.02.18-06.06.27_MD657_1_0130_cropped_down32\n",
      "aws s3 cp s3://mousebrainatlas-data/CSHL_scoremaps_down32/MD657/MD657-N71-2017.02.22-18.34.41_MD657_2_0212_alignedTo_MD657-F44-2017.02.18-06.06.27_MD657_1_0130_cropped_down32/MD657-N71-2017.02.22-18.34.41_MD657_2_0212_alignedTo_MD657-F44-2017.02.18-06.06.27_MD657_1_0130_cropped_down32_RMC_denseScoreMap_setting_30.bp /shared/CSHL_scoremaps_down32/MD657/MD657-N71-2017.02.22-18.34.41_MD657_2_0212_alignedTo_MD657-F44-2017.02.18-06.06.27_MD657_1_0130_cropped_down32/MD657-N71-2017.02.22-18.34.41_MD657_2_0212_alignedTo_MD657-F44-2017.02.18-06.06.27_MD657_1_0130_cropped_down32_RMC_denseScoreMap_setting_30.bp\n"
     ]
    },
    {
     "name": "stderr",
     "output_type": "stream",
     "text": [
      "Child returned 1\n",
      "0.34 seconds.\n",
      "Load scoremaps: 0.85 seconds\n"
     ]
    },
    {
     "name": "stdout",
     "output_type": "stream",
     "text": [
      "127 scoremaps loaded.\n"
     ]
    },
    {
     "name": "stderr",
     "output_type": "stream",
     "text": [
      "Create score volume: 2.25 seconds\n"
     ]
    },
    {
     "name": "stdout",
     "output_type": "stream",
     "text": [
      "aws s3 cp /shared/CSHL_volumes/MD657/MD657_down32_scoreVolume_clf_30/score_volumes/MD657_down32_scoreVolume_clf_30_RMC.bp s3://mousebrainatlas-data/CSHL_volumes/MD657/MD657_down32_scoreVolume_clf_30/score_volumes/MD657_down32_scoreVolume_clf_30_RMC.bp\n"
     ]
    },
    {
     "name": "stderr",
     "output_type": "stream",
     "text": [
      "Child returned 0\n",
      "1.40 seconds.\n"
     ]
    },
    {
     "name": "stdout",
     "output_type": "stream",
     "text": [
      "aws s3 cp /shared/CSHL_volumes/MD657/MD657_down32_scoreVolume_clf_30/score_volumes/MD657_down32_scoreVolume_clf_30_RMC_bbox.txt s3://mousebrainatlas-data/CSHL_volumes/MD657/MD657_down32_scoreVolume_clf_30/score_volumes/MD657_down32_scoreVolume_clf_30_RMC_bbox.txt\n"
     ]
    },
    {
     "name": "stderr",
     "output_type": "stream",
     "text": [
      "Child returned 0\n",
      "0.36 seconds.\n",
      "Child returned 0\n"
     ]
    },
    {
     "name": "stdout",
     "output_type": "stream",
     "text": [
      "SNC\n",
      "rm -rf /shared/CSHL_scoremaps_down32/MD657/MD657-N66-2017.03.21-14.16.35_MD657_2_0197_alignedTo_MD657-F44-2017.02.18-06.06.27_MD657_1_0130_cropped_down32/MD657-N66-2017.03.21-14.16.35_MD657_2_0197_alignedTo_MD657-F44-2017.02.18-06.06.27_MD657_1_0130_cropped_down32_SNC_denseScoreMap_setting_30.bp && mkdir -p /shared/CSHL_scoremaps_down32/MD657/MD657-N66-2017.03.21-14.16.35_MD657_2_0197_alignedTo_MD657-F44-2017.02.18-06.06.27_MD657_1_0130_cropped_down32\n",
      "aws s3 cp s3://mousebrainatlas-data/CSHL_scoremaps_down32/MD657/MD657-N66-2017.03.21-14.16.35_MD657_2_0197_alignedTo_MD657-F44-2017.02.18-06.06.27_MD657_1_0130_cropped_down32/MD657-N66-2017.03.21-14.16.35_MD657_2_0197_alignedTo_MD657-F44-2017.02.18-06.06.27_MD657_1_0130_cropped_down32_SNC_denseScoreMap_setting_30.bp /shared/CSHL_scoremaps_down32/MD657/MD657-N66-2017.03.21-14.16.35_MD657_2_0197_alignedTo_MD657-F44-2017.02.18-06.06.27_MD657_1_0130_cropped_down32/MD657-N66-2017.03.21-14.16.35_MD657_2_0197_alignedTo_MD657-F44-2017.02.18-06.06.27_MD657_1_0130_cropped_down32_SNC_denseScoreMap_setting_30.bp\n"
     ]
    },
    {
     "name": "stderr",
     "output_type": "stream",
     "text": [
      "Child returned 1\n",
      "0.33 seconds.\n",
      "Child returned 0\n"
     ]
    },
    {
     "name": "stdout",
     "output_type": "stream",
     "text": [
      "rm -rf /shared/CSHL_scoremaps_down32/MD657/MD657-N71-2017.02.22-18.34.41_MD657_2_0212_alignedTo_MD657-F44-2017.02.18-06.06.27_MD657_1_0130_cropped_down32/MD657-N71-2017.02.22-18.34.41_MD657_2_0212_alignedTo_MD657-F44-2017.02.18-06.06.27_MD657_1_0130_cropped_down32_SNC_denseScoreMap_setting_30.bp && mkdir -p /shared/CSHL_scoremaps_down32/MD657/MD657-N71-2017.02.22-18.34.41_MD657_2_0212_alignedTo_MD657-F44-2017.02.18-06.06.27_MD657_1_0130_cropped_down32\n",
      "aws s3 cp s3://mousebrainatlas-data/CSHL_scoremaps_down32/MD657/MD657-N71-2017.02.22-18.34.41_MD657_2_0212_alignedTo_MD657-F44-2017.02.18-06.06.27_MD657_1_0130_cropped_down32/MD657-N71-2017.02.22-18.34.41_MD657_2_0212_alignedTo_MD657-F44-2017.02.18-06.06.27_MD657_1_0130_cropped_down32_SNC_denseScoreMap_setting_30.bp /shared/CSHL_scoremaps_down32/MD657/MD657-N71-2017.02.22-18.34.41_MD657_2_0212_alignedTo_MD657-F44-2017.02.18-06.06.27_MD657_1_0130_cropped_down32/MD657-N71-2017.02.22-18.34.41_MD657_2_0212_alignedTo_MD657-F44-2017.02.18-06.06.27_MD657_1_0130_cropped_down32_SNC_denseScoreMap_setting_30.bp\n"
     ]
    },
    {
     "name": "stderr",
     "output_type": "stream",
     "text": [
      "Child returned 1\n",
      "0.34 seconds.\n",
      "Load scoremaps: 0.83 seconds\n"
     ]
    },
    {
     "name": "stdout",
     "output_type": "stream",
     "text": [
      "127 scoremaps loaded.\n"
     ]
    },
    {
     "name": "stderr",
     "output_type": "stream",
     "text": [
      "Create score volume: 2.13 seconds\n"
     ]
    },
    {
     "name": "stdout",
     "output_type": "stream",
     "text": [
      "aws s3 cp /shared/CSHL_volumes/MD657/MD657_down32_scoreVolume_clf_30/score_volumes/MD657_down32_scoreVolume_clf_30_SNC.bp s3://mousebrainatlas-data/CSHL_volumes/MD657/MD657_down32_scoreVolume_clf_30/score_volumes/MD657_down32_scoreVolume_clf_30_SNC.bp\n"
     ]
    },
    {
     "name": "stderr",
     "output_type": "stream",
     "text": [
      "Child returned 0\n",
      "1.47 seconds.\n"
     ]
    },
    {
     "name": "stdout",
     "output_type": "stream",
     "text": [
      "aws s3 cp /shared/CSHL_volumes/MD657/MD657_down32_scoreVolume_clf_30/score_volumes/MD657_down32_scoreVolume_clf_30_SNC_bbox.txt s3://mousebrainatlas-data/CSHL_volumes/MD657/MD657_down32_scoreVolume_clf_30/score_volumes/MD657_down32_scoreVolume_clf_30_SNC_bbox.txt\n"
     ]
    },
    {
     "name": "stderr",
     "output_type": "stream",
     "text": [
      "Child returned 0\n",
      "0.36 seconds.\n",
      "Child returned 0\n"
     ]
    },
    {
     "name": "stdout",
     "output_type": "stream",
     "text": [
      "SNR\n",
      "rm -rf /shared/CSHL_scoremaps_down32/MD657/MD657-N66-2017.03.21-14.16.35_MD657_2_0197_alignedTo_MD657-F44-2017.02.18-06.06.27_MD657_1_0130_cropped_down32/MD657-N66-2017.03.21-14.16.35_MD657_2_0197_alignedTo_MD657-F44-2017.02.18-06.06.27_MD657_1_0130_cropped_down32_SNR_denseScoreMap_setting_30.bp && mkdir -p /shared/CSHL_scoremaps_down32/MD657/MD657-N66-2017.03.21-14.16.35_MD657_2_0197_alignedTo_MD657-F44-2017.02.18-06.06.27_MD657_1_0130_cropped_down32\n",
      "aws s3 cp s3://mousebrainatlas-data/CSHL_scoremaps_down32/MD657/MD657-N66-2017.03.21-14.16.35_MD657_2_0197_alignedTo_MD657-F44-2017.02.18-06.06.27_MD657_1_0130_cropped_down32/MD657-N66-2017.03.21-14.16.35_MD657_2_0197_alignedTo_MD657-F44-2017.02.18-06.06.27_MD657_1_0130_cropped_down32_SNR_denseScoreMap_setting_30.bp /shared/CSHL_scoremaps_down32/MD657/MD657-N66-2017.03.21-14.16.35_MD657_2_0197_alignedTo_MD657-F44-2017.02.18-06.06.27_MD657_1_0130_cropped_down32/MD657-N66-2017.03.21-14.16.35_MD657_2_0197_alignedTo_MD657-F44-2017.02.18-06.06.27_MD657_1_0130_cropped_down32_SNR_denseScoreMap_setting_30.bp\n"
     ]
    },
    {
     "name": "stderr",
     "output_type": "stream",
     "text": [
      "Child returned 1\n",
      "0.34 seconds.\n",
      "Child returned 0\n"
     ]
    },
    {
     "name": "stdout",
     "output_type": "stream",
     "text": [
      "rm -rf /shared/CSHL_scoremaps_down32/MD657/MD657-N71-2017.02.22-18.34.41_MD657_2_0212_alignedTo_MD657-F44-2017.02.18-06.06.27_MD657_1_0130_cropped_down32/MD657-N71-2017.02.22-18.34.41_MD657_2_0212_alignedTo_MD657-F44-2017.02.18-06.06.27_MD657_1_0130_cropped_down32_SNR_denseScoreMap_setting_30.bp && mkdir -p /shared/CSHL_scoremaps_down32/MD657/MD657-N71-2017.02.22-18.34.41_MD657_2_0212_alignedTo_MD657-F44-2017.02.18-06.06.27_MD657_1_0130_cropped_down32\n",
      "aws s3 cp s3://mousebrainatlas-data/CSHL_scoremaps_down32/MD657/MD657-N71-2017.02.22-18.34.41_MD657_2_0212_alignedTo_MD657-F44-2017.02.18-06.06.27_MD657_1_0130_cropped_down32/MD657-N71-2017.02.22-18.34.41_MD657_2_0212_alignedTo_MD657-F44-2017.02.18-06.06.27_MD657_1_0130_cropped_down32_SNR_denseScoreMap_setting_30.bp /shared/CSHL_scoremaps_down32/MD657/MD657-N71-2017.02.22-18.34.41_MD657_2_0212_alignedTo_MD657-F44-2017.02.18-06.06.27_MD657_1_0130_cropped_down32/MD657-N71-2017.02.22-18.34.41_MD657_2_0212_alignedTo_MD657-F44-2017.02.18-06.06.27_MD657_1_0130_cropped_down32_SNR_denseScoreMap_setting_30.bp\n"
     ]
    },
    {
     "name": "stderr",
     "output_type": "stream",
     "text": [
      "Child returned 1\n",
      "0.34 seconds.\n",
      "Load scoremaps: 0.85 seconds\n"
     ]
    },
    {
     "name": "stdout",
     "output_type": "stream",
     "text": [
      "127 scoremaps loaded.\n"
     ]
    },
    {
     "name": "stderr",
     "output_type": "stream",
     "text": [
      "Create score volume: 2.07 seconds\n"
     ]
    },
    {
     "name": "stdout",
     "output_type": "stream",
     "text": [
      "aws s3 cp /shared/CSHL_volumes/MD657/MD657_down32_scoreVolume_clf_30/score_volumes/MD657_down32_scoreVolume_clf_30_SNR.bp s3://mousebrainatlas-data/CSHL_volumes/MD657/MD657_down32_scoreVolume_clf_30/score_volumes/MD657_down32_scoreVolume_clf_30_SNR.bp\n"
     ]
    },
    {
     "name": "stderr",
     "output_type": "stream",
     "text": [
      "Child returned 0\n",
      "1.63 seconds.\n"
     ]
    },
    {
     "name": "stdout",
     "output_type": "stream",
     "text": [
      "aws s3 cp /shared/CSHL_volumes/MD657/MD657_down32_scoreVolume_clf_30/score_volumes/MD657_down32_scoreVolume_clf_30_SNR_bbox.txt s3://mousebrainatlas-data/CSHL_volumes/MD657/MD657_down32_scoreVolume_clf_30/score_volumes/MD657_down32_scoreVolume_clf_30_SNR_bbox.txt\n"
     ]
    },
    {
     "name": "stderr",
     "output_type": "stream",
     "text": [
      "Child returned 0\n",
      "0.37 seconds.\n",
      "Child returned 0\n"
     ]
    },
    {
     "name": "stdout",
     "output_type": "stream",
     "text": [
      "3N\n",
      "rm -rf /shared/CSHL_scoremaps_down32/MD657/MD657-N66-2017.03.21-14.16.35_MD657_2_0197_alignedTo_MD657-F44-2017.02.18-06.06.27_MD657_1_0130_cropped_down32/MD657-N66-2017.03.21-14.16.35_MD657_2_0197_alignedTo_MD657-F44-2017.02.18-06.06.27_MD657_1_0130_cropped_down32_3N_denseScoreMap_setting_30.bp && mkdir -p /shared/CSHL_scoremaps_down32/MD657/MD657-N66-2017.03.21-14.16.35_MD657_2_0197_alignedTo_MD657-F44-2017.02.18-06.06.27_MD657_1_0130_cropped_down32\n",
      "aws s3 cp s3://mousebrainatlas-data/CSHL_scoremaps_down32/MD657/MD657-N66-2017.03.21-14.16.35_MD657_2_0197_alignedTo_MD657-F44-2017.02.18-06.06.27_MD657_1_0130_cropped_down32/MD657-N66-2017.03.21-14.16.35_MD657_2_0197_alignedTo_MD657-F44-2017.02.18-06.06.27_MD657_1_0130_cropped_down32_3N_denseScoreMap_setting_30.bp /shared/CSHL_scoremaps_down32/MD657/MD657-N66-2017.03.21-14.16.35_MD657_2_0197_alignedTo_MD657-F44-2017.02.18-06.06.27_MD657_1_0130_cropped_down32/MD657-N66-2017.03.21-14.16.35_MD657_2_0197_alignedTo_MD657-F44-2017.02.18-06.06.27_MD657_1_0130_cropped_down32_3N_denseScoreMap_setting_30.bp\n"
     ]
    },
    {
     "name": "stderr",
     "output_type": "stream",
     "text": [
      "Child returned 1\n",
      "0.34 seconds.\n",
      "Child returned 0\n"
     ]
    },
    {
     "name": "stdout",
     "output_type": "stream",
     "text": [
      "rm -rf /shared/CSHL_scoremaps_down32/MD657/MD657-N71-2017.02.22-18.34.41_MD657_2_0212_alignedTo_MD657-F44-2017.02.18-06.06.27_MD657_1_0130_cropped_down32/MD657-N71-2017.02.22-18.34.41_MD657_2_0212_alignedTo_MD657-F44-2017.02.18-06.06.27_MD657_1_0130_cropped_down32_3N_denseScoreMap_setting_30.bp && mkdir -p /shared/CSHL_scoremaps_down32/MD657/MD657-N71-2017.02.22-18.34.41_MD657_2_0212_alignedTo_MD657-F44-2017.02.18-06.06.27_MD657_1_0130_cropped_down32\n",
      "aws s3 cp s3://mousebrainatlas-data/CSHL_scoremaps_down32/MD657/MD657-N71-2017.02.22-18.34.41_MD657_2_0212_alignedTo_MD657-F44-2017.02.18-06.06.27_MD657_1_0130_cropped_down32/MD657-N71-2017.02.22-18.34.41_MD657_2_0212_alignedTo_MD657-F44-2017.02.18-06.06.27_MD657_1_0130_cropped_down32_3N_denseScoreMap_setting_30.bp /shared/CSHL_scoremaps_down32/MD657/MD657-N71-2017.02.22-18.34.41_MD657_2_0212_alignedTo_MD657-F44-2017.02.18-06.06.27_MD657_1_0130_cropped_down32/MD657-N71-2017.02.22-18.34.41_MD657_2_0212_alignedTo_MD657-F44-2017.02.18-06.06.27_MD657_1_0130_cropped_down32_3N_denseScoreMap_setting_30.bp\n"
     ]
    },
    {
     "name": "stderr",
     "output_type": "stream",
     "text": [
      "Child returned 1\n",
      "0.34 seconds.\n",
      "Load scoremaps: 0.85 seconds\n"
     ]
    },
    {
     "name": "stdout",
     "output_type": "stream",
     "text": [
      "127 scoremaps loaded.\n"
     ]
    },
    {
     "name": "stderr",
     "output_type": "stream",
     "text": [
      "Create score volume: 2.35 seconds\n"
     ]
    },
    {
     "name": "stdout",
     "output_type": "stream",
     "text": [
      "aws s3 cp /shared/CSHL_volumes/MD657/MD657_down32_scoreVolume_clf_30/score_volumes/MD657_down32_scoreVolume_clf_30_3N.bp s3://mousebrainatlas-data/CSHL_volumes/MD657/MD657_down32_scoreVolume_clf_30/score_volumes/MD657_down32_scoreVolume_clf_30_3N.bp\n"
     ]
    },
    {
     "name": "stderr",
     "output_type": "stream",
     "text": [
      "Child returned 0\n",
      "1.31 seconds.\n"
     ]
    },
    {
     "name": "stdout",
     "output_type": "stream",
     "text": [
      "aws s3 cp /shared/CSHL_volumes/MD657/MD657_down32_scoreVolume_clf_30/score_volumes/MD657_down32_scoreVolume_clf_30_3N_bbox.txt s3://mousebrainatlas-data/CSHL_volumes/MD657/MD657_down32_scoreVolume_clf_30/score_volumes/MD657_down32_scoreVolume_clf_30_3N_bbox.txt\n"
     ]
    },
    {
     "name": "stderr",
     "output_type": "stream",
     "text": [
      "Child returned 0\n",
      "0.37 seconds.\n",
      "Child returned 0\n"
     ]
    },
    {
     "name": "stdout",
     "output_type": "stream",
     "text": [
      "4N\n",
      "rm -rf /shared/CSHL_scoremaps_down32/MD657/MD657-N66-2017.03.21-14.16.35_MD657_2_0197_alignedTo_MD657-F44-2017.02.18-06.06.27_MD657_1_0130_cropped_down32/MD657-N66-2017.03.21-14.16.35_MD657_2_0197_alignedTo_MD657-F44-2017.02.18-06.06.27_MD657_1_0130_cropped_down32_4N_denseScoreMap_setting_30.bp && mkdir -p /shared/CSHL_scoremaps_down32/MD657/MD657-N66-2017.03.21-14.16.35_MD657_2_0197_alignedTo_MD657-F44-2017.02.18-06.06.27_MD657_1_0130_cropped_down32\n",
      "aws s3 cp s3://mousebrainatlas-data/CSHL_scoremaps_down32/MD657/MD657-N66-2017.03.21-14.16.35_MD657_2_0197_alignedTo_MD657-F44-2017.02.18-06.06.27_MD657_1_0130_cropped_down32/MD657-N66-2017.03.21-14.16.35_MD657_2_0197_alignedTo_MD657-F44-2017.02.18-06.06.27_MD657_1_0130_cropped_down32_4N_denseScoreMap_setting_30.bp /shared/CSHL_scoremaps_down32/MD657/MD657-N66-2017.03.21-14.16.35_MD657_2_0197_alignedTo_MD657-F44-2017.02.18-06.06.27_MD657_1_0130_cropped_down32/MD657-N66-2017.03.21-14.16.35_MD657_2_0197_alignedTo_MD657-F44-2017.02.18-06.06.27_MD657_1_0130_cropped_down32_4N_denseScoreMap_setting_30.bp\n"
     ]
    },
    {
     "name": "stderr",
     "output_type": "stream",
     "text": [
      "Child returned 1\n",
      "0.35 seconds.\n",
      "Child returned 0\n"
     ]
    },
    {
     "name": "stdout",
     "output_type": "stream",
     "text": [
      "rm -rf /shared/CSHL_scoremaps_down32/MD657/MD657-N71-2017.02.22-18.34.41_MD657_2_0212_alignedTo_MD657-F44-2017.02.18-06.06.27_MD657_1_0130_cropped_down32/MD657-N71-2017.02.22-18.34.41_MD657_2_0212_alignedTo_MD657-F44-2017.02.18-06.06.27_MD657_1_0130_cropped_down32_4N_denseScoreMap_setting_30.bp && mkdir -p /shared/CSHL_scoremaps_down32/MD657/MD657-N71-2017.02.22-18.34.41_MD657_2_0212_alignedTo_MD657-F44-2017.02.18-06.06.27_MD657_1_0130_cropped_down32\n",
      "aws s3 cp s3://mousebrainatlas-data/CSHL_scoremaps_down32/MD657/MD657-N71-2017.02.22-18.34.41_MD657_2_0212_alignedTo_MD657-F44-2017.02.18-06.06.27_MD657_1_0130_cropped_down32/MD657-N71-2017.02.22-18.34.41_MD657_2_0212_alignedTo_MD657-F44-2017.02.18-06.06.27_MD657_1_0130_cropped_down32_4N_denseScoreMap_setting_30.bp /shared/CSHL_scoremaps_down32/MD657/MD657-N71-2017.02.22-18.34.41_MD657_2_0212_alignedTo_MD657-F44-2017.02.18-06.06.27_MD657_1_0130_cropped_down32/MD657-N71-2017.02.22-18.34.41_MD657_2_0212_alignedTo_MD657-F44-2017.02.18-06.06.27_MD657_1_0130_cropped_down32_4N_denseScoreMap_setting_30.bp\n"
     ]
    },
    {
     "name": "stderr",
     "output_type": "stream",
     "text": [
      "Child returned 1\n",
      "0.34 seconds.\n",
      "Load scoremaps: 0.86 seconds\n"
     ]
    },
    {
     "name": "stdout",
     "output_type": "stream",
     "text": [
      "127 scoremaps loaded.\n"
     ]
    },
    {
     "name": "stderr",
     "output_type": "stream",
     "text": [
      "Create score volume: 2.51 seconds\n"
     ]
    },
    {
     "name": "stdout",
     "output_type": "stream",
     "text": [
      "aws s3 cp /shared/CSHL_volumes/MD657/MD657_down32_scoreVolume_clf_30/score_volumes/MD657_down32_scoreVolume_clf_30_4N.bp s3://mousebrainatlas-data/CSHL_volumes/MD657/MD657_down32_scoreVolume_clf_30/score_volumes/MD657_down32_scoreVolume_clf_30_4N.bp\n"
     ]
    },
    {
     "name": "stderr",
     "output_type": "stream",
     "text": [
      "Child returned 0\n",
      "1.37 seconds.\n"
     ]
    },
    {
     "name": "stdout",
     "output_type": "stream",
     "text": [
      "aws s3 cp /shared/CSHL_volumes/MD657/MD657_down32_scoreVolume_clf_30/score_volumes/MD657_down32_scoreVolume_clf_30_4N_bbox.txt s3://mousebrainatlas-data/CSHL_volumes/MD657/MD657_down32_scoreVolume_clf_30/score_volumes/MD657_down32_scoreVolume_clf_30_4N_bbox.txt\n"
     ]
    },
    {
     "name": "stderr",
     "output_type": "stream",
     "text": [
      "Child returned 0\n",
      "0.37 seconds.\n",
      "Child returned 0\n"
     ]
    },
    {
     "name": "stdout",
     "output_type": "stream",
     "text": [
      "Sp5I\n",
      "rm -rf /shared/CSHL_scoremaps_down32/MD657/MD657-N66-2017.03.21-14.16.35_MD657_2_0197_alignedTo_MD657-F44-2017.02.18-06.06.27_MD657_1_0130_cropped_down32/MD657-N66-2017.03.21-14.16.35_MD657_2_0197_alignedTo_MD657-F44-2017.02.18-06.06.27_MD657_1_0130_cropped_down32_Sp5I_denseScoreMap_setting_30.bp && mkdir -p /shared/CSHL_scoremaps_down32/MD657/MD657-N66-2017.03.21-14.16.35_MD657_2_0197_alignedTo_MD657-F44-2017.02.18-06.06.27_MD657_1_0130_cropped_down32\n",
      "aws s3 cp s3://mousebrainatlas-data/CSHL_scoremaps_down32/MD657/MD657-N66-2017.03.21-14.16.35_MD657_2_0197_alignedTo_MD657-F44-2017.02.18-06.06.27_MD657_1_0130_cropped_down32/MD657-N66-2017.03.21-14.16.35_MD657_2_0197_alignedTo_MD657-F44-2017.02.18-06.06.27_MD657_1_0130_cropped_down32_Sp5I_denseScoreMap_setting_30.bp /shared/CSHL_scoremaps_down32/MD657/MD657-N66-2017.03.21-14.16.35_MD657_2_0197_alignedTo_MD657-F44-2017.02.18-06.06.27_MD657_1_0130_cropped_down32/MD657-N66-2017.03.21-14.16.35_MD657_2_0197_alignedTo_MD657-F44-2017.02.18-06.06.27_MD657_1_0130_cropped_down32_Sp5I_denseScoreMap_setting_30.bp\n"
     ]
    },
    {
     "name": "stderr",
     "output_type": "stream",
     "text": [
      "Child returned 1\n",
      "0.35 seconds.\n",
      "Child returned 0\n"
     ]
    },
    {
     "name": "stdout",
     "output_type": "stream",
     "text": [
      "rm -rf /shared/CSHL_scoremaps_down32/MD657/MD657-N71-2017.02.22-18.34.41_MD657_2_0212_alignedTo_MD657-F44-2017.02.18-06.06.27_MD657_1_0130_cropped_down32/MD657-N71-2017.02.22-18.34.41_MD657_2_0212_alignedTo_MD657-F44-2017.02.18-06.06.27_MD657_1_0130_cropped_down32_Sp5I_denseScoreMap_setting_30.bp && mkdir -p /shared/CSHL_scoremaps_down32/MD657/MD657-N71-2017.02.22-18.34.41_MD657_2_0212_alignedTo_MD657-F44-2017.02.18-06.06.27_MD657_1_0130_cropped_down32\n",
      "aws s3 cp s3://mousebrainatlas-data/CSHL_scoremaps_down32/MD657/MD657-N71-2017.02.22-18.34.41_MD657_2_0212_alignedTo_MD657-F44-2017.02.18-06.06.27_MD657_1_0130_cropped_down32/MD657-N71-2017.02.22-18.34.41_MD657_2_0212_alignedTo_MD657-F44-2017.02.18-06.06.27_MD657_1_0130_cropped_down32_Sp5I_denseScoreMap_setting_30.bp /shared/CSHL_scoremaps_down32/MD657/MD657-N71-2017.02.22-18.34.41_MD657_2_0212_alignedTo_MD657-F44-2017.02.18-06.06.27_MD657_1_0130_cropped_down32/MD657-N71-2017.02.22-18.34.41_MD657_2_0212_alignedTo_MD657-F44-2017.02.18-06.06.27_MD657_1_0130_cropped_down32_Sp5I_denseScoreMap_setting_30.bp\n"
     ]
    },
    {
     "name": "stderr",
     "output_type": "stream",
     "text": [
      "Child returned 1\n",
      "0.35 seconds.\n",
      "Load scoremaps: 0.86 seconds\n"
     ]
    },
    {
     "name": "stdout",
     "output_type": "stream",
     "text": [
      "127 scoremaps loaded.\n"
     ]
    },
    {
     "name": "stderr",
     "output_type": "stream",
     "text": [
      "Create score volume: 2.31 seconds\n"
     ]
    },
    {
     "name": "stdout",
     "output_type": "stream",
     "text": [
      "aws s3 cp /shared/CSHL_volumes/MD657/MD657_down32_scoreVolume_clf_30/score_volumes/MD657_down32_scoreVolume_clf_30_Sp5I.bp s3://mousebrainatlas-data/CSHL_volumes/MD657/MD657_down32_scoreVolume_clf_30/score_volumes/MD657_down32_scoreVolume_clf_30_Sp5I.bp\n"
     ]
    },
    {
     "name": "stderr",
     "output_type": "stream",
     "text": [
      "Child returned 0\n",
      "1.36 seconds.\n"
     ]
    },
    {
     "name": "stdout",
     "output_type": "stream",
     "text": [
      "aws s3 cp /shared/CSHL_volumes/MD657/MD657_down32_scoreVolume_clf_30/score_volumes/MD657_down32_scoreVolume_clf_30_Sp5I_bbox.txt s3://mousebrainatlas-data/CSHL_volumes/MD657/MD657_down32_scoreVolume_clf_30/score_volumes/MD657_down32_scoreVolume_clf_30_Sp5I_bbox.txt\n"
     ]
    },
    {
     "name": "stderr",
     "output_type": "stream",
     "text": [
      "Child returned 0\n",
      "0.37 seconds.\n",
      "Child returned 0\n"
     ]
    },
    {
     "name": "stdout",
     "output_type": "stream",
     "text": [
      "Sp5O\n",
      "rm -rf /shared/CSHL_scoremaps_down32/MD657/MD657-N66-2017.03.21-14.16.35_MD657_2_0197_alignedTo_MD657-F44-2017.02.18-06.06.27_MD657_1_0130_cropped_down32/MD657-N66-2017.03.21-14.16.35_MD657_2_0197_alignedTo_MD657-F44-2017.02.18-06.06.27_MD657_1_0130_cropped_down32_Sp5O_denseScoreMap_setting_30.bp && mkdir -p /shared/CSHL_scoremaps_down32/MD657/MD657-N66-2017.03.21-14.16.35_MD657_2_0197_alignedTo_MD657-F44-2017.02.18-06.06.27_MD657_1_0130_cropped_down32\n",
      "aws s3 cp s3://mousebrainatlas-data/CSHL_scoremaps_down32/MD657/MD657-N66-2017.03.21-14.16.35_MD657_2_0197_alignedTo_MD657-F44-2017.02.18-06.06.27_MD657_1_0130_cropped_down32/MD657-N66-2017.03.21-14.16.35_MD657_2_0197_alignedTo_MD657-F44-2017.02.18-06.06.27_MD657_1_0130_cropped_down32_Sp5O_denseScoreMap_setting_30.bp /shared/CSHL_scoremaps_down32/MD657/MD657-N66-2017.03.21-14.16.35_MD657_2_0197_alignedTo_MD657-F44-2017.02.18-06.06.27_MD657_1_0130_cropped_down32/MD657-N66-2017.03.21-14.16.35_MD657_2_0197_alignedTo_MD657-F44-2017.02.18-06.06.27_MD657_1_0130_cropped_down32_Sp5O_denseScoreMap_setting_30.bp\n"
     ]
    },
    {
     "name": "stderr",
     "output_type": "stream",
     "text": [
      "Child returned 1\n",
      "0.34 seconds.\n",
      "Child returned 0\n"
     ]
    },
    {
     "name": "stdout",
     "output_type": "stream",
     "text": [
      "rm -rf /shared/CSHL_scoremaps_down32/MD657/MD657-N71-2017.02.22-18.34.41_MD657_2_0212_alignedTo_MD657-F44-2017.02.18-06.06.27_MD657_1_0130_cropped_down32/MD657-N71-2017.02.22-18.34.41_MD657_2_0212_alignedTo_MD657-F44-2017.02.18-06.06.27_MD657_1_0130_cropped_down32_Sp5O_denseScoreMap_setting_30.bp && mkdir -p /shared/CSHL_scoremaps_down32/MD657/MD657-N71-2017.02.22-18.34.41_MD657_2_0212_alignedTo_MD657-F44-2017.02.18-06.06.27_MD657_1_0130_cropped_down32\n",
      "aws s3 cp s3://mousebrainatlas-data/CSHL_scoremaps_down32/MD657/MD657-N71-2017.02.22-18.34.41_MD657_2_0212_alignedTo_MD657-F44-2017.02.18-06.06.27_MD657_1_0130_cropped_down32/MD657-N71-2017.02.22-18.34.41_MD657_2_0212_alignedTo_MD657-F44-2017.02.18-06.06.27_MD657_1_0130_cropped_down32_Sp5O_denseScoreMap_setting_30.bp /shared/CSHL_scoremaps_down32/MD657/MD657-N71-2017.02.22-18.34.41_MD657_2_0212_alignedTo_MD657-F44-2017.02.18-06.06.27_MD657_1_0130_cropped_down32/MD657-N71-2017.02.22-18.34.41_MD657_2_0212_alignedTo_MD657-F44-2017.02.18-06.06.27_MD657_1_0130_cropped_down32_Sp5O_denseScoreMap_setting_30.bp\n"
     ]
    },
    {
     "name": "stderr",
     "output_type": "stream",
     "text": [
      "Child returned 1\n",
      "0.33 seconds.\n",
      "Load scoremaps: 0.88 seconds\n"
     ]
    },
    {
     "name": "stdout",
     "output_type": "stream",
     "text": [
      "127 scoremaps loaded.\n"
     ]
    },
    {
     "name": "stderr",
     "output_type": "stream",
     "text": [
      "Create score volume: 2.03 seconds\n"
     ]
    },
    {
     "name": "stdout",
     "output_type": "stream",
     "text": [
      "aws s3 cp /shared/CSHL_volumes/MD657/MD657_down32_scoreVolume_clf_30/score_volumes/MD657_down32_scoreVolume_clf_30_Sp5O.bp s3://mousebrainatlas-data/CSHL_volumes/MD657/MD657_down32_scoreVolume_clf_30/score_volumes/MD657_down32_scoreVolume_clf_30_Sp5O.bp\n"
     ]
    },
    {
     "name": "stderr",
     "output_type": "stream",
     "text": [
      "Child returned 0\n",
      "1.37 seconds.\n"
     ]
    },
    {
     "name": "stdout",
     "output_type": "stream",
     "text": [
      "aws s3 cp /shared/CSHL_volumes/MD657/MD657_down32_scoreVolume_clf_30/score_volumes/MD657_down32_scoreVolume_clf_30_Sp5O_bbox.txt s3://mousebrainatlas-data/CSHL_volumes/MD657/MD657_down32_scoreVolume_clf_30/score_volumes/MD657_down32_scoreVolume_clf_30_Sp5O_bbox.txt\n"
     ]
    },
    {
     "name": "stderr",
     "output_type": "stream",
     "text": [
      "Child returned 0\n",
      "0.38 seconds.\n",
      "Child returned 0\n"
     ]
    },
    {
     "name": "stdout",
     "output_type": "stream",
     "text": [
      "Sp5C\n",
      "rm -rf /shared/CSHL_scoremaps_down32/MD657/MD657-N66-2017.03.21-14.16.35_MD657_2_0197_alignedTo_MD657-F44-2017.02.18-06.06.27_MD657_1_0130_cropped_down32/MD657-N66-2017.03.21-14.16.35_MD657_2_0197_alignedTo_MD657-F44-2017.02.18-06.06.27_MD657_1_0130_cropped_down32_Sp5C_denseScoreMap_setting_30.bp && mkdir -p /shared/CSHL_scoremaps_down32/MD657/MD657-N66-2017.03.21-14.16.35_MD657_2_0197_alignedTo_MD657-F44-2017.02.18-06.06.27_MD657_1_0130_cropped_down32\n",
      "aws s3 cp s3://mousebrainatlas-data/CSHL_scoremaps_down32/MD657/MD657-N66-2017.03.21-14.16.35_MD657_2_0197_alignedTo_MD657-F44-2017.02.18-06.06.27_MD657_1_0130_cropped_down32/MD657-N66-2017.03.21-14.16.35_MD657_2_0197_alignedTo_MD657-F44-2017.02.18-06.06.27_MD657_1_0130_cropped_down32_Sp5C_denseScoreMap_setting_30.bp /shared/CSHL_scoremaps_down32/MD657/MD657-N66-2017.03.21-14.16.35_MD657_2_0197_alignedTo_MD657-F44-2017.02.18-06.06.27_MD657_1_0130_cropped_down32/MD657-N66-2017.03.21-14.16.35_MD657_2_0197_alignedTo_MD657-F44-2017.02.18-06.06.27_MD657_1_0130_cropped_down32_Sp5C_denseScoreMap_setting_30.bp\n"
     ]
    },
    {
     "name": "stderr",
     "output_type": "stream",
     "text": [
      "Child returned 1\n",
      "0.35 seconds.\n",
      "Child returned 0\n"
     ]
    },
    {
     "name": "stdout",
     "output_type": "stream",
     "text": [
      "rm -rf /shared/CSHL_scoremaps_down32/MD657/MD657-N71-2017.02.22-18.34.41_MD657_2_0212_alignedTo_MD657-F44-2017.02.18-06.06.27_MD657_1_0130_cropped_down32/MD657-N71-2017.02.22-18.34.41_MD657_2_0212_alignedTo_MD657-F44-2017.02.18-06.06.27_MD657_1_0130_cropped_down32_Sp5C_denseScoreMap_setting_30.bp && mkdir -p /shared/CSHL_scoremaps_down32/MD657/MD657-N71-2017.02.22-18.34.41_MD657_2_0212_alignedTo_MD657-F44-2017.02.18-06.06.27_MD657_1_0130_cropped_down32\n",
      "aws s3 cp s3://mousebrainatlas-data/CSHL_scoremaps_down32/MD657/MD657-N71-2017.02.22-18.34.41_MD657_2_0212_alignedTo_MD657-F44-2017.02.18-06.06.27_MD657_1_0130_cropped_down32/MD657-N71-2017.02.22-18.34.41_MD657_2_0212_alignedTo_MD657-F44-2017.02.18-06.06.27_MD657_1_0130_cropped_down32_Sp5C_denseScoreMap_setting_30.bp /shared/CSHL_scoremaps_down32/MD657/MD657-N71-2017.02.22-18.34.41_MD657_2_0212_alignedTo_MD657-F44-2017.02.18-06.06.27_MD657_1_0130_cropped_down32/MD657-N71-2017.02.22-18.34.41_MD657_2_0212_alignedTo_MD657-F44-2017.02.18-06.06.27_MD657_1_0130_cropped_down32_Sp5C_denseScoreMap_setting_30.bp\n"
     ]
    },
    {
     "name": "stderr",
     "output_type": "stream",
     "text": [
      "Child returned 1\n",
      "0.34 seconds.\n",
      "Load scoremaps: 0.86 seconds\n"
     ]
    },
    {
     "name": "stdout",
     "output_type": "stream",
     "text": [
      "127 scoremaps loaded.\n"
     ]
    },
    {
     "name": "stderr",
     "output_type": "stream",
     "text": [
      "Create score volume: 2.35 seconds\n"
     ]
    },
    {
     "name": "stdout",
     "output_type": "stream",
     "text": [
      "aws s3 cp /shared/CSHL_volumes/MD657/MD657_down32_scoreVolume_clf_30/score_volumes/MD657_down32_scoreVolume_clf_30_Sp5C.bp s3://mousebrainatlas-data/CSHL_volumes/MD657/MD657_down32_scoreVolume_clf_30/score_volumes/MD657_down32_scoreVolume_clf_30_Sp5C.bp\n"
     ]
    },
    {
     "name": "stderr",
     "output_type": "stream",
     "text": [
      "Child returned 0\n",
      "1.31 seconds.\n"
     ]
    },
    {
     "name": "stdout",
     "output_type": "stream",
     "text": [
      "aws s3 cp /shared/CSHL_volumes/MD657/MD657_down32_scoreVolume_clf_30/score_volumes/MD657_down32_scoreVolume_clf_30_Sp5C_bbox.txt s3://mousebrainatlas-data/CSHL_volumes/MD657/MD657_down32_scoreVolume_clf_30/score_volumes/MD657_down32_scoreVolume_clf_30_Sp5C_bbox.txt\n"
     ]
    },
    {
     "name": "stderr",
     "output_type": "stream",
     "text": [
      "Child returned 0\n",
      "0.36 seconds.\n",
      "Child returned 0\n"
     ]
    },
    {
     "name": "stdout",
     "output_type": "stream",
     "text": [
      "PBG\n",
      "rm -rf /shared/CSHL_scoremaps_down32/MD657/MD657-N66-2017.03.21-14.16.35_MD657_2_0197_alignedTo_MD657-F44-2017.02.18-06.06.27_MD657_1_0130_cropped_down32/MD657-N66-2017.03.21-14.16.35_MD657_2_0197_alignedTo_MD657-F44-2017.02.18-06.06.27_MD657_1_0130_cropped_down32_PBG_denseScoreMap_setting_30.bp && mkdir -p /shared/CSHL_scoremaps_down32/MD657/MD657-N66-2017.03.21-14.16.35_MD657_2_0197_alignedTo_MD657-F44-2017.02.18-06.06.27_MD657_1_0130_cropped_down32\n",
      "aws s3 cp s3://mousebrainatlas-data/CSHL_scoremaps_down32/MD657/MD657-N66-2017.03.21-14.16.35_MD657_2_0197_alignedTo_MD657-F44-2017.02.18-06.06.27_MD657_1_0130_cropped_down32/MD657-N66-2017.03.21-14.16.35_MD657_2_0197_alignedTo_MD657-F44-2017.02.18-06.06.27_MD657_1_0130_cropped_down32_PBG_denseScoreMap_setting_30.bp /shared/CSHL_scoremaps_down32/MD657/MD657-N66-2017.03.21-14.16.35_MD657_2_0197_alignedTo_MD657-F44-2017.02.18-06.06.27_MD657_1_0130_cropped_down32/MD657-N66-2017.03.21-14.16.35_MD657_2_0197_alignedTo_MD657-F44-2017.02.18-06.06.27_MD657_1_0130_cropped_down32_PBG_denseScoreMap_setting_30.bp\n"
     ]
    },
    {
     "name": "stderr",
     "output_type": "stream",
     "text": [
      "Child returned 1\n",
      "0.34 seconds.\n",
      "Child returned 0\n"
     ]
    },
    {
     "name": "stdout",
     "output_type": "stream",
     "text": [
      "rm -rf /shared/CSHL_scoremaps_down32/MD657/MD657-N71-2017.02.22-18.34.41_MD657_2_0212_alignedTo_MD657-F44-2017.02.18-06.06.27_MD657_1_0130_cropped_down32/MD657-N71-2017.02.22-18.34.41_MD657_2_0212_alignedTo_MD657-F44-2017.02.18-06.06.27_MD657_1_0130_cropped_down32_PBG_denseScoreMap_setting_30.bp && mkdir -p /shared/CSHL_scoremaps_down32/MD657/MD657-N71-2017.02.22-18.34.41_MD657_2_0212_alignedTo_MD657-F44-2017.02.18-06.06.27_MD657_1_0130_cropped_down32\n",
      "aws s3 cp s3://mousebrainatlas-data/CSHL_scoremaps_down32/MD657/MD657-N71-2017.02.22-18.34.41_MD657_2_0212_alignedTo_MD657-F44-2017.02.18-06.06.27_MD657_1_0130_cropped_down32/MD657-N71-2017.02.22-18.34.41_MD657_2_0212_alignedTo_MD657-F44-2017.02.18-06.06.27_MD657_1_0130_cropped_down32_PBG_denseScoreMap_setting_30.bp /shared/CSHL_scoremaps_down32/MD657/MD657-N71-2017.02.22-18.34.41_MD657_2_0212_alignedTo_MD657-F44-2017.02.18-06.06.27_MD657_1_0130_cropped_down32/MD657-N71-2017.02.22-18.34.41_MD657_2_0212_alignedTo_MD657-F44-2017.02.18-06.06.27_MD657_1_0130_cropped_down32_PBG_denseScoreMap_setting_30.bp\n"
     ]
    },
    {
     "name": "stderr",
     "output_type": "stream",
     "text": [
      "Child returned 1\n",
      "0.35 seconds.\n",
      "Load scoremaps: 0.85 seconds\n"
     ]
    },
    {
     "name": "stdout",
     "output_type": "stream",
     "text": [
      "127 scoremaps loaded.\n"
     ]
    },
    {
     "name": "stderr",
     "output_type": "stream",
     "text": [
      "Create score volume: 1.96 seconds\n"
     ]
    },
    {
     "name": "stdout",
     "output_type": "stream",
     "text": [
      "aws s3 cp /shared/CSHL_volumes/MD657/MD657_down32_scoreVolume_clf_30/score_volumes/MD657_down32_scoreVolume_clf_30_PBG.bp s3://mousebrainatlas-data/CSHL_volumes/MD657/MD657_down32_scoreVolume_clf_30/score_volumes/MD657_down32_scoreVolume_clf_30_PBG.bp\n"
     ]
    },
    {
     "name": "stderr",
     "output_type": "stream",
     "text": [
      "Child returned 0\n",
      "1.56 seconds.\n"
     ]
    },
    {
     "name": "stdout",
     "output_type": "stream",
     "text": [
      "aws s3 cp /shared/CSHL_volumes/MD657/MD657_down32_scoreVolume_clf_30/score_volumes/MD657_down32_scoreVolume_clf_30_PBG_bbox.txt s3://mousebrainatlas-data/CSHL_volumes/MD657/MD657_down32_scoreVolume_clf_30/score_volumes/MD657_down32_scoreVolume_clf_30_PBG_bbox.txt\n"
     ]
    },
    {
     "name": "stderr",
     "output_type": "stream",
     "text": [
      "Child returned 0\n",
      "0.37 seconds.\n",
      "Child returned 0\n"
     ]
    },
    {
     "name": "stdout",
     "output_type": "stream",
     "text": [
      "10N\n",
      "rm -rf /shared/CSHL_scoremaps_down32/MD657/MD657-N66-2017.03.21-14.16.35_MD657_2_0197_alignedTo_MD657-F44-2017.02.18-06.06.27_MD657_1_0130_cropped_down32/MD657-N66-2017.03.21-14.16.35_MD657_2_0197_alignedTo_MD657-F44-2017.02.18-06.06.27_MD657_1_0130_cropped_down32_10N_denseScoreMap_setting_30.bp && mkdir -p /shared/CSHL_scoremaps_down32/MD657/MD657-N66-2017.03.21-14.16.35_MD657_2_0197_alignedTo_MD657-F44-2017.02.18-06.06.27_MD657_1_0130_cropped_down32\n",
      "aws s3 cp s3://mousebrainatlas-data/CSHL_scoremaps_down32/MD657/MD657-N66-2017.03.21-14.16.35_MD657_2_0197_alignedTo_MD657-F44-2017.02.18-06.06.27_MD657_1_0130_cropped_down32/MD657-N66-2017.03.21-14.16.35_MD657_2_0197_alignedTo_MD657-F44-2017.02.18-06.06.27_MD657_1_0130_cropped_down32_10N_denseScoreMap_setting_30.bp /shared/CSHL_scoremaps_down32/MD657/MD657-N66-2017.03.21-14.16.35_MD657_2_0197_alignedTo_MD657-F44-2017.02.18-06.06.27_MD657_1_0130_cropped_down32/MD657-N66-2017.03.21-14.16.35_MD657_2_0197_alignedTo_MD657-F44-2017.02.18-06.06.27_MD657_1_0130_cropped_down32_10N_denseScoreMap_setting_30.bp\n"
     ]
    },
    {
     "name": "stderr",
     "output_type": "stream",
     "text": [
      "Child returned 1\n",
      "0.35 seconds.\n",
      "Child returned 0\n"
     ]
    },
    {
     "name": "stdout",
     "output_type": "stream",
     "text": [
      "rm -rf /shared/CSHL_scoremaps_down32/MD657/MD657-N71-2017.02.22-18.34.41_MD657_2_0212_alignedTo_MD657-F44-2017.02.18-06.06.27_MD657_1_0130_cropped_down32/MD657-N71-2017.02.22-18.34.41_MD657_2_0212_alignedTo_MD657-F44-2017.02.18-06.06.27_MD657_1_0130_cropped_down32_10N_denseScoreMap_setting_30.bp && mkdir -p /shared/CSHL_scoremaps_down32/MD657/MD657-N71-2017.02.22-18.34.41_MD657_2_0212_alignedTo_MD657-F44-2017.02.18-06.06.27_MD657_1_0130_cropped_down32\n",
      "aws s3 cp s3://mousebrainatlas-data/CSHL_scoremaps_down32/MD657/MD657-N71-2017.02.22-18.34.41_MD657_2_0212_alignedTo_MD657-F44-2017.02.18-06.06.27_MD657_1_0130_cropped_down32/MD657-N71-2017.02.22-18.34.41_MD657_2_0212_alignedTo_MD657-F44-2017.02.18-06.06.27_MD657_1_0130_cropped_down32_10N_denseScoreMap_setting_30.bp /shared/CSHL_scoremaps_down32/MD657/MD657-N71-2017.02.22-18.34.41_MD657_2_0212_alignedTo_MD657-F44-2017.02.18-06.06.27_MD657_1_0130_cropped_down32/MD657-N71-2017.02.22-18.34.41_MD657_2_0212_alignedTo_MD657-F44-2017.02.18-06.06.27_MD657_1_0130_cropped_down32_10N_denseScoreMap_setting_30.bp\n"
     ]
    },
    {
     "name": "stderr",
     "output_type": "stream",
     "text": [
      "Child returned 1\n",
      "0.34 seconds.\n",
      "Load scoremaps: 0.85 seconds\n"
     ]
    },
    {
     "name": "stdout",
     "output_type": "stream",
     "text": [
      "127 scoremaps loaded.\n"
     ]
    },
    {
     "name": "stderr",
     "output_type": "stream",
     "text": [
      "Create score volume: 2.09 seconds\n"
     ]
    },
    {
     "name": "stdout",
     "output_type": "stream",
     "text": [
      "aws s3 cp /shared/CSHL_volumes/MD657/MD657_down32_scoreVolume_clf_30/score_volumes/MD657_down32_scoreVolume_clf_30_10N.bp s3://mousebrainatlas-data/CSHL_volumes/MD657/MD657_down32_scoreVolume_clf_30/score_volumes/MD657_down32_scoreVolume_clf_30_10N.bp\n"
     ]
    },
    {
     "name": "stderr",
     "output_type": "stream",
     "text": [
      "Child returned 0\n",
      "1.47 seconds.\n"
     ]
    },
    {
     "name": "stdout",
     "output_type": "stream",
     "text": [
      "aws s3 cp /shared/CSHL_volumes/MD657/MD657_down32_scoreVolume_clf_30/score_volumes/MD657_down32_scoreVolume_clf_30_10N_bbox.txt s3://mousebrainatlas-data/CSHL_volumes/MD657/MD657_down32_scoreVolume_clf_30/score_volumes/MD657_down32_scoreVolume_clf_30_10N_bbox.txt\n"
     ]
    },
    {
     "name": "stderr",
     "output_type": "stream",
     "text": [
      "Child returned 0\n",
      "0.37 seconds.\n",
      "Child returned 0\n"
     ]
    },
    {
     "name": "stdout",
     "output_type": "stream",
     "text": [
      "VCA\n",
      "rm -rf /shared/CSHL_scoremaps_down32/MD657/MD657-N66-2017.03.21-14.16.35_MD657_2_0197_alignedTo_MD657-F44-2017.02.18-06.06.27_MD657_1_0130_cropped_down32/MD657-N66-2017.03.21-14.16.35_MD657_2_0197_alignedTo_MD657-F44-2017.02.18-06.06.27_MD657_1_0130_cropped_down32_VCA_denseScoreMap_setting_30.bp && mkdir -p /shared/CSHL_scoremaps_down32/MD657/MD657-N66-2017.03.21-14.16.35_MD657_2_0197_alignedTo_MD657-F44-2017.02.18-06.06.27_MD657_1_0130_cropped_down32\n",
      "aws s3 cp s3://mousebrainatlas-data/CSHL_scoremaps_down32/MD657/MD657-N66-2017.03.21-14.16.35_MD657_2_0197_alignedTo_MD657-F44-2017.02.18-06.06.27_MD657_1_0130_cropped_down32/MD657-N66-2017.03.21-14.16.35_MD657_2_0197_alignedTo_MD657-F44-2017.02.18-06.06.27_MD657_1_0130_cropped_down32_VCA_denseScoreMap_setting_30.bp /shared/CSHL_scoremaps_down32/MD657/MD657-N66-2017.03.21-14.16.35_MD657_2_0197_alignedTo_MD657-F44-2017.02.18-06.06.27_MD657_1_0130_cropped_down32/MD657-N66-2017.03.21-14.16.35_MD657_2_0197_alignedTo_MD657-F44-2017.02.18-06.06.27_MD657_1_0130_cropped_down32_VCA_denseScoreMap_setting_30.bp\n"
     ]
    },
    {
     "name": "stderr",
     "output_type": "stream",
     "text": [
      "Child returned 1\n",
      "0.35 seconds.\n",
      "Child returned 0\n"
     ]
    },
    {
     "name": "stdout",
     "output_type": "stream",
     "text": [
      "rm -rf /shared/CSHL_scoremaps_down32/MD657/MD657-N71-2017.02.22-18.34.41_MD657_2_0212_alignedTo_MD657-F44-2017.02.18-06.06.27_MD657_1_0130_cropped_down32/MD657-N71-2017.02.22-18.34.41_MD657_2_0212_alignedTo_MD657-F44-2017.02.18-06.06.27_MD657_1_0130_cropped_down32_VCA_denseScoreMap_setting_30.bp && mkdir -p /shared/CSHL_scoremaps_down32/MD657/MD657-N71-2017.02.22-18.34.41_MD657_2_0212_alignedTo_MD657-F44-2017.02.18-06.06.27_MD657_1_0130_cropped_down32\n",
      "aws s3 cp s3://mousebrainatlas-data/CSHL_scoremaps_down32/MD657/MD657-N71-2017.02.22-18.34.41_MD657_2_0212_alignedTo_MD657-F44-2017.02.18-06.06.27_MD657_1_0130_cropped_down32/MD657-N71-2017.02.22-18.34.41_MD657_2_0212_alignedTo_MD657-F44-2017.02.18-06.06.27_MD657_1_0130_cropped_down32_VCA_denseScoreMap_setting_30.bp /shared/CSHL_scoremaps_down32/MD657/MD657-N71-2017.02.22-18.34.41_MD657_2_0212_alignedTo_MD657-F44-2017.02.18-06.06.27_MD657_1_0130_cropped_down32/MD657-N71-2017.02.22-18.34.41_MD657_2_0212_alignedTo_MD657-F44-2017.02.18-06.06.27_MD657_1_0130_cropped_down32_VCA_denseScoreMap_setting_30.bp\n"
     ]
    },
    {
     "name": "stderr",
     "output_type": "stream",
     "text": [
      "Child returned 1\n",
      "0.35 seconds.\n",
      "Load scoremaps: 0.87 seconds\n"
     ]
    },
    {
     "name": "stdout",
     "output_type": "stream",
     "text": [
      "127 scoremaps loaded.\n"
     ]
    },
    {
     "name": "stderr",
     "output_type": "stream",
     "text": [
      "Create score volume: 2.01 seconds\n"
     ]
    },
    {
     "name": "stdout",
     "output_type": "stream",
     "text": [
      "aws s3 cp /shared/CSHL_volumes/MD657/MD657_down32_scoreVolume_clf_30/score_volumes/MD657_down32_scoreVolume_clf_30_VCA.bp s3://mousebrainatlas-data/CSHL_volumes/MD657/MD657_down32_scoreVolume_clf_30/score_volumes/MD657_down32_scoreVolume_clf_30_VCA.bp\n"
     ]
    },
    {
     "name": "stderr",
     "output_type": "stream",
     "text": [
      "Child returned 0\n",
      "1.43 seconds.\n"
     ]
    },
    {
     "name": "stdout",
     "output_type": "stream",
     "text": [
      "aws s3 cp /shared/CSHL_volumes/MD657/MD657_down32_scoreVolume_clf_30/score_volumes/MD657_down32_scoreVolume_clf_30_VCA_bbox.txt s3://mousebrainatlas-data/CSHL_volumes/MD657/MD657_down32_scoreVolume_clf_30/score_volumes/MD657_down32_scoreVolume_clf_30_VCA_bbox.txt\n"
     ]
    },
    {
     "name": "stderr",
     "output_type": "stream",
     "text": [
      "Child returned 0\n",
      "0.36 seconds.\n",
      "Child returned 0\n"
     ]
    },
    {
     "name": "stdout",
     "output_type": "stream",
     "text": [
      "VCP\n",
      "rm -rf /shared/CSHL_scoremaps_down32/MD657/MD657-N66-2017.03.21-14.16.35_MD657_2_0197_alignedTo_MD657-F44-2017.02.18-06.06.27_MD657_1_0130_cropped_down32/MD657-N66-2017.03.21-14.16.35_MD657_2_0197_alignedTo_MD657-F44-2017.02.18-06.06.27_MD657_1_0130_cropped_down32_VCP_denseScoreMap_setting_30.bp && mkdir -p /shared/CSHL_scoremaps_down32/MD657/MD657-N66-2017.03.21-14.16.35_MD657_2_0197_alignedTo_MD657-F44-2017.02.18-06.06.27_MD657_1_0130_cropped_down32\n",
      "aws s3 cp s3://mousebrainatlas-data/CSHL_scoremaps_down32/MD657/MD657-N66-2017.03.21-14.16.35_MD657_2_0197_alignedTo_MD657-F44-2017.02.18-06.06.27_MD657_1_0130_cropped_down32/MD657-N66-2017.03.21-14.16.35_MD657_2_0197_alignedTo_MD657-F44-2017.02.18-06.06.27_MD657_1_0130_cropped_down32_VCP_denseScoreMap_setting_30.bp /shared/CSHL_scoremaps_down32/MD657/MD657-N66-2017.03.21-14.16.35_MD657_2_0197_alignedTo_MD657-F44-2017.02.18-06.06.27_MD657_1_0130_cropped_down32/MD657-N66-2017.03.21-14.16.35_MD657_2_0197_alignedTo_MD657-F44-2017.02.18-06.06.27_MD657_1_0130_cropped_down32_VCP_denseScoreMap_setting_30.bp\n"
     ]
    },
    {
     "name": "stderr",
     "output_type": "stream",
     "text": [
      "Child returned 1\n",
      "0.34 seconds.\n",
      "Child returned 0\n"
     ]
    },
    {
     "name": "stdout",
     "output_type": "stream",
     "text": [
      "rm -rf /shared/CSHL_scoremaps_down32/MD657/MD657-N71-2017.02.22-18.34.41_MD657_2_0212_alignedTo_MD657-F44-2017.02.18-06.06.27_MD657_1_0130_cropped_down32/MD657-N71-2017.02.22-18.34.41_MD657_2_0212_alignedTo_MD657-F44-2017.02.18-06.06.27_MD657_1_0130_cropped_down32_VCP_denseScoreMap_setting_30.bp && mkdir -p /shared/CSHL_scoremaps_down32/MD657/MD657-N71-2017.02.22-18.34.41_MD657_2_0212_alignedTo_MD657-F44-2017.02.18-06.06.27_MD657_1_0130_cropped_down32\n",
      "aws s3 cp s3://mousebrainatlas-data/CSHL_scoremaps_down32/MD657/MD657-N71-2017.02.22-18.34.41_MD657_2_0212_alignedTo_MD657-F44-2017.02.18-06.06.27_MD657_1_0130_cropped_down32/MD657-N71-2017.02.22-18.34.41_MD657_2_0212_alignedTo_MD657-F44-2017.02.18-06.06.27_MD657_1_0130_cropped_down32_VCP_denseScoreMap_setting_30.bp /shared/CSHL_scoremaps_down32/MD657/MD657-N71-2017.02.22-18.34.41_MD657_2_0212_alignedTo_MD657-F44-2017.02.18-06.06.27_MD657_1_0130_cropped_down32/MD657-N71-2017.02.22-18.34.41_MD657_2_0212_alignedTo_MD657-F44-2017.02.18-06.06.27_MD657_1_0130_cropped_down32_VCP_denseScoreMap_setting_30.bp\n"
     ]
    },
    {
     "name": "stderr",
     "output_type": "stream",
     "text": [
      "Child returned 1\n",
      "0.35 seconds.\n",
      "Load scoremaps: 0.86 seconds\n"
     ]
    },
    {
     "name": "stdout",
     "output_type": "stream",
     "text": [
      "127 scoremaps loaded.\n"
     ]
    },
    {
     "name": "stderr",
     "output_type": "stream",
     "text": [
      "Create score volume: 2.22 seconds\n"
     ]
    },
    {
     "name": "stdout",
     "output_type": "stream",
     "text": [
      "aws s3 cp /shared/CSHL_volumes/MD657/MD657_down32_scoreVolume_clf_30/score_volumes/MD657_down32_scoreVolume_clf_30_VCP.bp s3://mousebrainatlas-data/CSHL_volumes/MD657/MD657_down32_scoreVolume_clf_30/score_volumes/MD657_down32_scoreVolume_clf_30_VCP.bp\n"
     ]
    },
    {
     "name": "stderr",
     "output_type": "stream",
     "text": [
      "Child returned 0\n",
      "1.33 seconds.\n"
     ]
    },
    {
     "name": "stdout",
     "output_type": "stream",
     "text": [
      "aws s3 cp /shared/CSHL_volumes/MD657/MD657_down32_scoreVolume_clf_30/score_volumes/MD657_down32_scoreVolume_clf_30_VCP_bbox.txt s3://mousebrainatlas-data/CSHL_volumes/MD657/MD657_down32_scoreVolume_clf_30/score_volumes/MD657_down32_scoreVolume_clf_30_VCP_bbox.txt\n"
     ]
    },
    {
     "name": "stderr",
     "output_type": "stream",
     "text": [
      "Child returned 0\n",
      "0.36 seconds.\n",
      "Child returned 0\n"
     ]
    },
    {
     "name": "stdout",
     "output_type": "stream",
     "text": [
      "DC\n",
      "rm -rf /shared/CSHL_scoremaps_down32/MD657/MD657-N66-2017.03.21-14.16.35_MD657_2_0197_alignedTo_MD657-F44-2017.02.18-06.06.27_MD657_1_0130_cropped_down32/MD657-N66-2017.03.21-14.16.35_MD657_2_0197_alignedTo_MD657-F44-2017.02.18-06.06.27_MD657_1_0130_cropped_down32_DC_denseScoreMap_setting_30.bp && mkdir -p /shared/CSHL_scoremaps_down32/MD657/MD657-N66-2017.03.21-14.16.35_MD657_2_0197_alignedTo_MD657-F44-2017.02.18-06.06.27_MD657_1_0130_cropped_down32\n",
      "aws s3 cp s3://mousebrainatlas-data/CSHL_scoremaps_down32/MD657/MD657-N66-2017.03.21-14.16.35_MD657_2_0197_alignedTo_MD657-F44-2017.02.18-06.06.27_MD657_1_0130_cropped_down32/MD657-N66-2017.03.21-14.16.35_MD657_2_0197_alignedTo_MD657-F44-2017.02.18-06.06.27_MD657_1_0130_cropped_down32_DC_denseScoreMap_setting_30.bp /shared/CSHL_scoremaps_down32/MD657/MD657-N66-2017.03.21-14.16.35_MD657_2_0197_alignedTo_MD657-F44-2017.02.18-06.06.27_MD657_1_0130_cropped_down32/MD657-N66-2017.03.21-14.16.35_MD657_2_0197_alignedTo_MD657-F44-2017.02.18-06.06.27_MD657_1_0130_cropped_down32_DC_denseScoreMap_setting_30.bp\n"
     ]
    },
    {
     "name": "stderr",
     "output_type": "stream",
     "text": [
      "Child returned 1\n",
      "0.34 seconds.\n",
      "Child returned 0\n"
     ]
    },
    {
     "name": "stdout",
     "output_type": "stream",
     "text": [
      "rm -rf /shared/CSHL_scoremaps_down32/MD657/MD657-N71-2017.02.22-18.34.41_MD657_2_0212_alignedTo_MD657-F44-2017.02.18-06.06.27_MD657_1_0130_cropped_down32/MD657-N71-2017.02.22-18.34.41_MD657_2_0212_alignedTo_MD657-F44-2017.02.18-06.06.27_MD657_1_0130_cropped_down32_DC_denseScoreMap_setting_30.bp && mkdir -p /shared/CSHL_scoremaps_down32/MD657/MD657-N71-2017.02.22-18.34.41_MD657_2_0212_alignedTo_MD657-F44-2017.02.18-06.06.27_MD657_1_0130_cropped_down32\n",
      "aws s3 cp s3://mousebrainatlas-data/CSHL_scoremaps_down32/MD657/MD657-N71-2017.02.22-18.34.41_MD657_2_0212_alignedTo_MD657-F44-2017.02.18-06.06.27_MD657_1_0130_cropped_down32/MD657-N71-2017.02.22-18.34.41_MD657_2_0212_alignedTo_MD657-F44-2017.02.18-06.06.27_MD657_1_0130_cropped_down32_DC_denseScoreMap_setting_30.bp /shared/CSHL_scoremaps_down32/MD657/MD657-N71-2017.02.22-18.34.41_MD657_2_0212_alignedTo_MD657-F44-2017.02.18-06.06.27_MD657_1_0130_cropped_down32/MD657-N71-2017.02.22-18.34.41_MD657_2_0212_alignedTo_MD657-F44-2017.02.18-06.06.27_MD657_1_0130_cropped_down32_DC_denseScoreMap_setting_30.bp\n"
     ]
    },
    {
     "name": "stderr",
     "output_type": "stream",
     "text": [
      "Child returned 1\n",
      "0.35 seconds.\n",
      "Load scoremaps: 0.86 seconds\n"
     ]
    },
    {
     "name": "stdout",
     "output_type": "stream",
     "text": [
      "127 scoremaps loaded.\n"
     ]
    },
    {
     "name": "stderr",
     "output_type": "stream",
     "text": [
      "Create score volume: 2.54 seconds\n"
     ]
    },
    {
     "name": "stdout",
     "output_type": "stream",
     "text": [
      "aws s3 cp /shared/CSHL_volumes/MD657/MD657_down32_scoreVolume_clf_30/score_volumes/MD657_down32_scoreVolume_clf_30_DC.bp s3://mousebrainatlas-data/CSHL_volumes/MD657/MD657_down32_scoreVolume_clf_30/score_volumes/MD657_down32_scoreVolume_clf_30_DC.bp\n"
     ]
    },
    {
     "name": "stderr",
     "output_type": "stream",
     "text": [
      "Child returned 0\n",
      "1.30 seconds.\n"
     ]
    },
    {
     "name": "stdout",
     "output_type": "stream",
     "text": [
      "aws s3 cp /shared/CSHL_volumes/MD657/MD657_down32_scoreVolume_clf_30/score_volumes/MD657_down32_scoreVolume_clf_30_DC_bbox.txt s3://mousebrainatlas-data/CSHL_volumes/MD657/MD657_down32_scoreVolume_clf_30/score_volumes/MD657_down32_scoreVolume_clf_30_DC_bbox.txt\n"
     ]
    },
    {
     "name": "stderr",
     "output_type": "stream",
     "text": [
      "Child returned 0\n",
      "0.36 seconds.\n",
      "Child returned 0\n"
     ]
    },
    {
     "name": "stdout",
     "output_type": "stream",
     "text": [
      "AP\n",
      "rm -rf /shared/CSHL_scoremaps_down32/MD657/MD657-N66-2017.03.21-14.16.35_MD657_2_0197_alignedTo_MD657-F44-2017.02.18-06.06.27_MD657_1_0130_cropped_down32/MD657-N66-2017.03.21-14.16.35_MD657_2_0197_alignedTo_MD657-F44-2017.02.18-06.06.27_MD657_1_0130_cropped_down32_AP_denseScoreMap_setting_30.bp && mkdir -p /shared/CSHL_scoremaps_down32/MD657/MD657-N66-2017.03.21-14.16.35_MD657_2_0197_alignedTo_MD657-F44-2017.02.18-06.06.27_MD657_1_0130_cropped_down32\n",
      "aws s3 cp s3://mousebrainatlas-data/CSHL_scoremaps_down32/MD657/MD657-N66-2017.03.21-14.16.35_MD657_2_0197_alignedTo_MD657-F44-2017.02.18-06.06.27_MD657_1_0130_cropped_down32/MD657-N66-2017.03.21-14.16.35_MD657_2_0197_alignedTo_MD657-F44-2017.02.18-06.06.27_MD657_1_0130_cropped_down32_AP_denseScoreMap_setting_30.bp /shared/CSHL_scoremaps_down32/MD657/MD657-N66-2017.03.21-14.16.35_MD657_2_0197_alignedTo_MD657-F44-2017.02.18-06.06.27_MD657_1_0130_cropped_down32/MD657-N66-2017.03.21-14.16.35_MD657_2_0197_alignedTo_MD657-F44-2017.02.18-06.06.27_MD657_1_0130_cropped_down32_AP_denseScoreMap_setting_30.bp\n"
     ]
    },
    {
     "name": "stderr",
     "output_type": "stream",
     "text": [
      "Child returned 1\n",
      "0.34 seconds.\n",
      "Child returned 0\n"
     ]
    },
    {
     "name": "stdout",
     "output_type": "stream",
     "text": [
      "rm -rf /shared/CSHL_scoremaps_down32/MD657/MD657-N71-2017.02.22-18.34.41_MD657_2_0212_alignedTo_MD657-F44-2017.02.18-06.06.27_MD657_1_0130_cropped_down32/MD657-N71-2017.02.22-18.34.41_MD657_2_0212_alignedTo_MD657-F44-2017.02.18-06.06.27_MD657_1_0130_cropped_down32_AP_denseScoreMap_setting_30.bp && mkdir -p /shared/CSHL_scoremaps_down32/MD657/MD657-N71-2017.02.22-18.34.41_MD657_2_0212_alignedTo_MD657-F44-2017.02.18-06.06.27_MD657_1_0130_cropped_down32\n",
      "aws s3 cp s3://mousebrainatlas-data/CSHL_scoremaps_down32/MD657/MD657-N71-2017.02.22-18.34.41_MD657_2_0212_alignedTo_MD657-F44-2017.02.18-06.06.27_MD657_1_0130_cropped_down32/MD657-N71-2017.02.22-18.34.41_MD657_2_0212_alignedTo_MD657-F44-2017.02.18-06.06.27_MD657_1_0130_cropped_down32_AP_denseScoreMap_setting_30.bp /shared/CSHL_scoremaps_down32/MD657/MD657-N71-2017.02.22-18.34.41_MD657_2_0212_alignedTo_MD657-F44-2017.02.18-06.06.27_MD657_1_0130_cropped_down32/MD657-N71-2017.02.22-18.34.41_MD657_2_0212_alignedTo_MD657-F44-2017.02.18-06.06.27_MD657_1_0130_cropped_down32_AP_denseScoreMap_setting_30.bp\n"
     ]
    },
    {
     "name": "stderr",
     "output_type": "stream",
     "text": [
      "Child returned 1\n",
      "0.33 seconds.\n",
      "Load scoremaps: 0.82 seconds\n"
     ]
    },
    {
     "name": "stdout",
     "output_type": "stream",
     "text": [
      "127 scoremaps loaded.\n"
     ]
    },
    {
     "name": "stderr",
     "output_type": "stream",
     "text": [
      "Create score volume: 2.31 seconds\n"
     ]
    },
    {
     "name": "stdout",
     "output_type": "stream",
     "text": [
      "aws s3 cp /shared/CSHL_volumes/MD657/MD657_down32_scoreVolume_clf_30/score_volumes/MD657_down32_scoreVolume_clf_30_AP.bp s3://mousebrainatlas-data/CSHL_volumes/MD657/MD657_down32_scoreVolume_clf_30/score_volumes/MD657_down32_scoreVolume_clf_30_AP.bp\n"
     ]
    },
    {
     "name": "stderr",
     "output_type": "stream",
     "text": [
      "Child returned 0\n",
      "1.28 seconds.\n"
     ]
    },
    {
     "name": "stdout",
     "output_type": "stream",
     "text": [
      "aws s3 cp /shared/CSHL_volumes/MD657/MD657_down32_scoreVolume_clf_30/score_volumes/MD657_down32_scoreVolume_clf_30_AP_bbox.txt s3://mousebrainatlas-data/CSHL_volumes/MD657/MD657_down32_scoreVolume_clf_30/score_volumes/MD657_down32_scoreVolume_clf_30_AP_bbox.txt\n"
     ]
    },
    {
     "name": "stderr",
     "output_type": "stream",
     "text": [
      "Child returned 0\n",
      "0.36 seconds.\n",
      "Child returned 0\n"
     ]
    },
    {
     "name": "stdout",
     "output_type": "stream",
     "text": [
      "12N\n",
      "rm -rf /shared/CSHL_scoremaps_down32/MD657/MD657-N66-2017.03.21-14.16.35_MD657_2_0197_alignedTo_MD657-F44-2017.02.18-06.06.27_MD657_1_0130_cropped_down32/MD657-N66-2017.03.21-14.16.35_MD657_2_0197_alignedTo_MD657-F44-2017.02.18-06.06.27_MD657_1_0130_cropped_down32_12N_denseScoreMap_setting_30.bp && mkdir -p /shared/CSHL_scoremaps_down32/MD657/MD657-N66-2017.03.21-14.16.35_MD657_2_0197_alignedTo_MD657-F44-2017.02.18-06.06.27_MD657_1_0130_cropped_down32\n",
      "aws s3 cp s3://mousebrainatlas-data/CSHL_scoremaps_down32/MD657/MD657-N66-2017.03.21-14.16.35_MD657_2_0197_alignedTo_MD657-F44-2017.02.18-06.06.27_MD657_1_0130_cropped_down32/MD657-N66-2017.03.21-14.16.35_MD657_2_0197_alignedTo_MD657-F44-2017.02.18-06.06.27_MD657_1_0130_cropped_down32_12N_denseScoreMap_setting_30.bp /shared/CSHL_scoremaps_down32/MD657/MD657-N66-2017.03.21-14.16.35_MD657_2_0197_alignedTo_MD657-F44-2017.02.18-06.06.27_MD657_1_0130_cropped_down32/MD657-N66-2017.03.21-14.16.35_MD657_2_0197_alignedTo_MD657-F44-2017.02.18-06.06.27_MD657_1_0130_cropped_down32_12N_denseScoreMap_setting_30.bp\n"
     ]
    },
    {
     "name": "stderr",
     "output_type": "stream",
     "text": [
      "Child returned 1\n",
      "0.33 seconds.\n",
      "Child returned 0\n"
     ]
    },
    {
     "name": "stdout",
     "output_type": "stream",
     "text": [
      "rm -rf /shared/CSHL_scoremaps_down32/MD657/MD657-N71-2017.02.22-18.34.41_MD657_2_0212_alignedTo_MD657-F44-2017.02.18-06.06.27_MD657_1_0130_cropped_down32/MD657-N71-2017.02.22-18.34.41_MD657_2_0212_alignedTo_MD657-F44-2017.02.18-06.06.27_MD657_1_0130_cropped_down32_12N_denseScoreMap_setting_30.bp && mkdir -p /shared/CSHL_scoremaps_down32/MD657/MD657-N71-2017.02.22-18.34.41_MD657_2_0212_alignedTo_MD657-F44-2017.02.18-06.06.27_MD657_1_0130_cropped_down32\n",
      "aws s3 cp s3://mousebrainatlas-data/CSHL_scoremaps_down32/MD657/MD657-N71-2017.02.22-18.34.41_MD657_2_0212_alignedTo_MD657-F44-2017.02.18-06.06.27_MD657_1_0130_cropped_down32/MD657-N71-2017.02.22-18.34.41_MD657_2_0212_alignedTo_MD657-F44-2017.02.18-06.06.27_MD657_1_0130_cropped_down32_12N_denseScoreMap_setting_30.bp /shared/CSHL_scoremaps_down32/MD657/MD657-N71-2017.02.22-18.34.41_MD657_2_0212_alignedTo_MD657-F44-2017.02.18-06.06.27_MD657_1_0130_cropped_down32/MD657-N71-2017.02.22-18.34.41_MD657_2_0212_alignedTo_MD657-F44-2017.02.18-06.06.27_MD657_1_0130_cropped_down32_12N_denseScoreMap_setting_30.bp\n"
     ]
    },
    {
     "name": "stderr",
     "output_type": "stream",
     "text": [
      "Child returned 1\n",
      "0.35 seconds.\n",
      "Load scoremaps: 0.84 seconds\n"
     ]
    },
    {
     "name": "stdout",
     "output_type": "stream",
     "text": [
      "127 scoremaps loaded.\n"
     ]
    },
    {
     "name": "stderr",
     "output_type": "stream",
     "text": [
      "Create score volume: 2.16 seconds\n"
     ]
    },
    {
     "name": "stdout",
     "output_type": "stream",
     "text": [
      "aws s3 cp /shared/CSHL_volumes/MD657/MD657_down32_scoreVolume_clf_30/score_volumes/MD657_down32_scoreVolume_clf_30_12N.bp s3://mousebrainatlas-data/CSHL_volumes/MD657/MD657_down32_scoreVolume_clf_30/score_volumes/MD657_down32_scoreVolume_clf_30_12N.bp\n"
     ]
    },
    {
     "name": "stderr",
     "output_type": "stream",
     "text": [
      "Child returned 0\n",
      "1.66 seconds.\n"
     ]
    },
    {
     "name": "stdout",
     "output_type": "stream",
     "text": [
      "aws s3 cp /shared/CSHL_volumes/MD657/MD657_down32_scoreVolume_clf_30/score_volumes/MD657_down32_scoreVolume_clf_30_12N_bbox.txt s3://mousebrainatlas-data/CSHL_volumes/MD657/MD657_down32_scoreVolume_clf_30/score_volumes/MD657_down32_scoreVolume_clf_30_12N_bbox.txt\n"
     ]
    },
    {
     "name": "stderr",
     "output_type": "stream",
     "text": [
      "Child returned 0\n",
      "0.37 seconds.\n",
      "Child returned 0\n"
     ]
    },
    {
     "name": "stdout",
     "output_type": "stream",
     "text": [
      "RtTg\n",
      "rm -rf /shared/CSHL_scoremaps_down32/MD657/MD657-N66-2017.03.21-14.16.35_MD657_2_0197_alignedTo_MD657-F44-2017.02.18-06.06.27_MD657_1_0130_cropped_down32/MD657-N66-2017.03.21-14.16.35_MD657_2_0197_alignedTo_MD657-F44-2017.02.18-06.06.27_MD657_1_0130_cropped_down32_RtTg_denseScoreMap_setting_30.bp && mkdir -p /shared/CSHL_scoremaps_down32/MD657/MD657-N66-2017.03.21-14.16.35_MD657_2_0197_alignedTo_MD657-F44-2017.02.18-06.06.27_MD657_1_0130_cropped_down32\n",
      "aws s3 cp s3://mousebrainatlas-data/CSHL_scoremaps_down32/MD657/MD657-N66-2017.03.21-14.16.35_MD657_2_0197_alignedTo_MD657-F44-2017.02.18-06.06.27_MD657_1_0130_cropped_down32/MD657-N66-2017.03.21-14.16.35_MD657_2_0197_alignedTo_MD657-F44-2017.02.18-06.06.27_MD657_1_0130_cropped_down32_RtTg_denseScoreMap_setting_30.bp /shared/CSHL_scoremaps_down32/MD657/MD657-N66-2017.03.21-14.16.35_MD657_2_0197_alignedTo_MD657-F44-2017.02.18-06.06.27_MD657_1_0130_cropped_down32/MD657-N66-2017.03.21-14.16.35_MD657_2_0197_alignedTo_MD657-F44-2017.02.18-06.06.27_MD657_1_0130_cropped_down32_RtTg_denseScoreMap_setting_30.bp\n"
     ]
    },
    {
     "name": "stderr",
     "output_type": "stream",
     "text": [
      "Child returned 1\n",
      "0.36 seconds.\n",
      "Child returned 0\n"
     ]
    },
    {
     "name": "stdout",
     "output_type": "stream",
     "text": [
      "rm -rf /shared/CSHL_scoremaps_down32/MD657/MD657-N71-2017.02.22-18.34.41_MD657_2_0212_alignedTo_MD657-F44-2017.02.18-06.06.27_MD657_1_0130_cropped_down32/MD657-N71-2017.02.22-18.34.41_MD657_2_0212_alignedTo_MD657-F44-2017.02.18-06.06.27_MD657_1_0130_cropped_down32_RtTg_denseScoreMap_setting_30.bp && mkdir -p /shared/CSHL_scoremaps_down32/MD657/MD657-N71-2017.02.22-18.34.41_MD657_2_0212_alignedTo_MD657-F44-2017.02.18-06.06.27_MD657_1_0130_cropped_down32\n",
      "aws s3 cp s3://mousebrainatlas-data/CSHL_scoremaps_down32/MD657/MD657-N71-2017.02.22-18.34.41_MD657_2_0212_alignedTo_MD657-F44-2017.02.18-06.06.27_MD657_1_0130_cropped_down32/MD657-N71-2017.02.22-18.34.41_MD657_2_0212_alignedTo_MD657-F44-2017.02.18-06.06.27_MD657_1_0130_cropped_down32_RtTg_denseScoreMap_setting_30.bp /shared/CSHL_scoremaps_down32/MD657/MD657-N71-2017.02.22-18.34.41_MD657_2_0212_alignedTo_MD657-F44-2017.02.18-06.06.27_MD657_1_0130_cropped_down32/MD657-N71-2017.02.22-18.34.41_MD657_2_0212_alignedTo_MD657-F44-2017.02.18-06.06.27_MD657_1_0130_cropped_down32_RtTg_denseScoreMap_setting_30.bp\n"
     ]
    },
    {
     "name": "stderr",
     "output_type": "stream",
     "text": [
      "Child returned 1\n",
      "0.36 seconds.\n",
      "Load scoremaps: 0.88 seconds\n"
     ]
    },
    {
     "name": "stdout",
     "output_type": "stream",
     "text": [
      "127 scoremaps loaded.\n"
     ]
    },
    {
     "name": "stderr",
     "output_type": "stream",
     "text": [
      "Create score volume: 2.15 seconds\n"
     ]
    },
    {
     "name": "stdout",
     "output_type": "stream",
     "text": [
      "aws s3 cp /shared/CSHL_volumes/MD657/MD657_down32_scoreVolume_clf_30/score_volumes/MD657_down32_scoreVolume_clf_30_RtTg.bp s3://mousebrainatlas-data/CSHL_volumes/MD657/MD657_down32_scoreVolume_clf_30/score_volumes/MD657_down32_scoreVolume_clf_30_RtTg.bp\n"
     ]
    },
    {
     "name": "stderr",
     "output_type": "stream",
     "text": [
      "Child returned 0\n",
      "1.46 seconds.\n"
     ]
    },
    {
     "name": "stdout",
     "output_type": "stream",
     "text": [
      "aws s3 cp /shared/CSHL_volumes/MD657/MD657_down32_scoreVolume_clf_30/score_volumes/MD657_down32_scoreVolume_clf_30_RtTg_bbox.txt s3://mousebrainatlas-data/CSHL_volumes/MD657/MD657_down32_scoreVolume_clf_30/score_volumes/MD657_down32_scoreVolume_clf_30_RtTg_bbox.txt\n"
     ]
    },
    {
     "name": "stderr",
     "output_type": "stream",
     "text": [
      "Child returned 0\n",
      "0.38 seconds.\n",
      "Child returned 0\n"
     ]
    },
    {
     "name": "stdout",
     "output_type": "stream",
     "text": [
      "sp5\n",
      "rm -rf /shared/CSHL_scoremaps_down32/MD657/MD657-N13-2017.02.22-14.33.34_MD657_3_0039_alignedTo_MD657-F44-2017.02.18-06.06.27_MD657_1_0130_cropped_down32/MD657-N13-2017.02.22-14.33.34_MD657_3_0039_alignedTo_MD657-F44-2017.02.18-06.06.27_MD657_1_0130_cropped_down32_sp5_denseScoreMap_setting_30.bp && mkdir -p /shared/CSHL_scoremaps_down32/MD657/MD657-N13-2017.02.22-14.33.34_MD657_3_0039_alignedTo_MD657-F44-2017.02.18-06.06.27_MD657_1_0130_cropped_down32\n",
      "aws s3 cp s3://mousebrainatlas-data/CSHL_scoremaps_down32/MD657/MD657-N13-2017.02.22-14.33.34_MD657_3_0039_alignedTo_MD657-F44-2017.02.18-06.06.27_MD657_1_0130_cropped_down32/MD657-N13-2017.02.22-14.33.34_MD657_3_0039_alignedTo_MD657-F44-2017.02.18-06.06.27_MD657_1_0130_cropped_down32_sp5_denseScoreMap_setting_30.bp /shared/CSHL_scoremaps_down32/MD657/MD657-N13-2017.02.22-14.33.34_MD657_3_0039_alignedTo_MD657-F44-2017.02.18-06.06.27_MD657_1_0130_cropped_down32/MD657-N13-2017.02.22-14.33.34_MD657_3_0039_alignedTo_MD657-F44-2017.02.18-06.06.27_MD657_1_0130_cropped_down32_sp5_denseScoreMap_setting_30.bp\n"
     ]
    },
    {
     "name": "stderr",
     "output_type": "stream",
     "text": [
      "Child returned 1\n",
      "0.34 seconds.\n",
      "Child returned 0\n"
     ]
    },
    {
     "name": "stdout",
     "output_type": "stream",
     "text": [
      "rm -rf /shared/CSHL_scoremaps_down32/MD657/MD657-N14-2017.02.22-14.37.44_MD657_1_0040_alignedTo_MD657-F44-2017.02.18-06.06.27_MD657_1_0130_cropped_down32/MD657-N14-2017.02.22-14.37.44_MD657_1_0040_alignedTo_MD657-F44-2017.02.18-06.06.27_MD657_1_0130_cropped_down32_sp5_denseScoreMap_setting_30.bp && mkdir -p /shared/CSHL_scoremaps_down32/MD657/MD657-N14-2017.02.22-14.37.44_MD657_1_0040_alignedTo_MD657-F44-2017.02.18-06.06.27_MD657_1_0130_cropped_down32\n",
      "aws s3 cp s3://mousebrainatlas-data/CSHL_scoremaps_down32/MD657/MD657-N14-2017.02.22-14.37.44_MD657_1_0040_alignedTo_MD657-F44-2017.02.18-06.06.27_MD657_1_0130_cropped_down32/MD657-N14-2017.02.22-14.37.44_MD657_1_0040_alignedTo_MD657-F44-2017.02.18-06.06.27_MD657_1_0130_cropped_down32_sp5_denseScoreMap_setting_30.bp /shared/CSHL_scoremaps_down32/MD657/MD657-N14-2017.02.22-14.37.44_MD657_1_0040_alignedTo_MD657-F44-2017.02.18-06.06.27_MD657_1_0130_cropped_down32/MD657-N14-2017.02.22-14.37.44_MD657_1_0040_alignedTo_MD657-F44-2017.02.18-06.06.27_MD657_1_0130_cropped_down32_sp5_denseScoreMap_setting_30.bp\n"
     ]
    },
    {
     "name": "stderr",
     "output_type": "stream",
     "text": [
      "Child returned 1\n",
      "0.34 seconds.\n",
      "Child returned 0\n"
     ]
    },
    {
     "name": "stdout",
     "output_type": "stream",
     "text": [
      "rm -rf /shared/CSHL_scoremaps_down32/MD657/MD657-N14-2017.02.22-14.37.44_MD657_2_0041_alignedTo_MD657-F44-2017.02.18-06.06.27_MD657_1_0130_cropped_down32/MD657-N14-2017.02.22-14.37.44_MD657_2_0041_alignedTo_MD657-F44-2017.02.18-06.06.27_MD657_1_0130_cropped_down32_sp5_denseScoreMap_setting_30.bp && mkdir -p /shared/CSHL_scoremaps_down32/MD657/MD657-N14-2017.02.22-14.37.44_MD657_2_0041_alignedTo_MD657-F44-2017.02.18-06.06.27_MD657_1_0130_cropped_down32\n",
      "aws s3 cp s3://mousebrainatlas-data/CSHL_scoremaps_down32/MD657/MD657-N14-2017.02.22-14.37.44_MD657_2_0041_alignedTo_MD657-F44-2017.02.18-06.06.27_MD657_1_0130_cropped_down32/MD657-N14-2017.02.22-14.37.44_MD657_2_0041_alignedTo_MD657-F44-2017.02.18-06.06.27_MD657_1_0130_cropped_down32_sp5_denseScoreMap_setting_30.bp /shared/CSHL_scoremaps_down32/MD657/MD657-N14-2017.02.22-14.37.44_MD657_2_0041_alignedTo_MD657-F44-2017.02.18-06.06.27_MD657_1_0130_cropped_down32/MD657-N14-2017.02.22-14.37.44_MD657_2_0041_alignedTo_MD657-F44-2017.02.18-06.06.27_MD657_1_0130_cropped_down32_sp5_denseScoreMap_setting_30.bp\n"
     ]
    },
    {
     "name": "stderr",
     "output_type": "stream",
     "text": [
      "Child returned 1\n",
      "0.33 seconds.\n",
      "Child returned 0\n"
     ]
    },
    {
     "name": "stdout",
     "output_type": "stream",
     "text": [
      "rm -rf /shared/CSHL_scoremaps_down32/MD657/MD657-N14-2017.02.22-14.37.44_MD657_3_0042_alignedTo_MD657-F44-2017.02.18-06.06.27_MD657_1_0130_cropped_down32/MD657-N14-2017.02.22-14.37.44_MD657_3_0042_alignedTo_MD657-F44-2017.02.18-06.06.27_MD657_1_0130_cropped_down32_sp5_denseScoreMap_setting_30.bp && mkdir -p /shared/CSHL_scoremaps_down32/MD657/MD657-N14-2017.02.22-14.37.44_MD657_3_0042_alignedTo_MD657-F44-2017.02.18-06.06.27_MD657_1_0130_cropped_down32\n",
      "aws s3 cp s3://mousebrainatlas-data/CSHL_scoremaps_down32/MD657/MD657-N14-2017.02.22-14.37.44_MD657_3_0042_alignedTo_MD657-F44-2017.02.18-06.06.27_MD657_1_0130_cropped_down32/MD657-N14-2017.02.22-14.37.44_MD657_3_0042_alignedTo_MD657-F44-2017.02.18-06.06.27_MD657_1_0130_cropped_down32_sp5_denseScoreMap_setting_30.bp /shared/CSHL_scoremaps_down32/MD657/MD657-N14-2017.02.22-14.37.44_MD657_3_0042_alignedTo_MD657-F44-2017.02.18-06.06.27_MD657_1_0130_cropped_down32/MD657-N14-2017.02.22-14.37.44_MD657_3_0042_alignedTo_MD657-F44-2017.02.18-06.06.27_MD657_1_0130_cropped_down32_sp5_denseScoreMap_setting_30.bp\n"
     ]
    },
    {
     "name": "stderr",
     "output_type": "stream",
     "text": [
      "Child returned 1\n",
      "0.33 seconds.\n",
      "Child returned 0\n"
     ]
    },
    {
     "name": "stdout",
     "output_type": "stream",
     "text": [
      "rm -rf /shared/CSHL_scoremaps_down32/MD657/MD657-N15-2017.02.22-14.41.51_MD657_1_0043_alignedTo_MD657-F44-2017.02.18-06.06.27_MD657_1_0130_cropped_down32/MD657-N15-2017.02.22-14.41.51_MD657_1_0043_alignedTo_MD657-F44-2017.02.18-06.06.27_MD657_1_0130_cropped_down32_sp5_denseScoreMap_setting_30.bp && mkdir -p /shared/CSHL_scoremaps_down32/MD657/MD657-N15-2017.02.22-14.41.51_MD657_1_0043_alignedTo_MD657-F44-2017.02.18-06.06.27_MD657_1_0130_cropped_down32\n",
      "aws s3 cp s3://mousebrainatlas-data/CSHL_scoremaps_down32/MD657/MD657-N15-2017.02.22-14.41.51_MD657_1_0043_alignedTo_MD657-F44-2017.02.18-06.06.27_MD657_1_0130_cropped_down32/MD657-N15-2017.02.22-14.41.51_MD657_1_0043_alignedTo_MD657-F44-2017.02.18-06.06.27_MD657_1_0130_cropped_down32_sp5_denseScoreMap_setting_30.bp /shared/CSHL_scoremaps_down32/MD657/MD657-N15-2017.02.22-14.41.51_MD657_1_0043_alignedTo_MD657-F44-2017.02.18-06.06.27_MD657_1_0130_cropped_down32/MD657-N15-2017.02.22-14.41.51_MD657_1_0043_alignedTo_MD657-F44-2017.02.18-06.06.27_MD657_1_0130_cropped_down32_sp5_denseScoreMap_setting_30.bp\n"
     ]
    },
    {
     "name": "stderr",
     "output_type": "stream",
     "text": [
      "Child returned 1\n",
      "0.34 seconds.\n",
      "Child returned 0\n"
     ]
    },
    {
     "name": "stdout",
     "output_type": "stream",
     "text": [
      "rm -rf /shared/CSHL_scoremaps_down32/MD657/MD657-N15-2017.02.22-14.41.51_MD657_2_0044_alignedTo_MD657-F44-2017.02.18-06.06.27_MD657_1_0130_cropped_down32/MD657-N15-2017.02.22-14.41.51_MD657_2_0044_alignedTo_MD657-F44-2017.02.18-06.06.27_MD657_1_0130_cropped_down32_sp5_denseScoreMap_setting_30.bp && mkdir -p /shared/CSHL_scoremaps_down32/MD657/MD657-N15-2017.02.22-14.41.51_MD657_2_0044_alignedTo_MD657-F44-2017.02.18-06.06.27_MD657_1_0130_cropped_down32\n",
      "aws s3 cp s3://mousebrainatlas-data/CSHL_scoremaps_down32/MD657/MD657-N15-2017.02.22-14.41.51_MD657_2_0044_alignedTo_MD657-F44-2017.02.18-06.06.27_MD657_1_0130_cropped_down32/MD657-N15-2017.02.22-14.41.51_MD657_2_0044_alignedTo_MD657-F44-2017.02.18-06.06.27_MD657_1_0130_cropped_down32_sp5_denseScoreMap_setting_30.bp /shared/CSHL_scoremaps_down32/MD657/MD657-N15-2017.02.22-14.41.51_MD657_2_0044_alignedTo_MD657-F44-2017.02.18-06.06.27_MD657_1_0130_cropped_down32/MD657-N15-2017.02.22-14.41.51_MD657_2_0044_alignedTo_MD657-F44-2017.02.18-06.06.27_MD657_1_0130_cropped_down32_sp5_denseScoreMap_setting_30.bp\n"
     ]
    },
    {
     "name": "stderr",
     "output_type": "stream",
     "text": [
      "Child returned 1\n",
      "0.34 seconds.\n",
      "Child returned 0\n"
     ]
    },
    {
     "name": "stdout",
     "output_type": "stream",
     "text": [
      "rm -rf /shared/CSHL_scoremaps_down32/MD657/MD657-N15-2017.02.22-14.41.51_MD657_3_0045_alignedTo_MD657-F44-2017.02.18-06.06.27_MD657_1_0130_cropped_down32/MD657-N15-2017.02.22-14.41.51_MD657_3_0045_alignedTo_MD657-F44-2017.02.18-06.06.27_MD657_1_0130_cropped_down32_sp5_denseScoreMap_setting_30.bp && mkdir -p /shared/CSHL_scoremaps_down32/MD657/MD657-N15-2017.02.22-14.41.51_MD657_3_0045_alignedTo_MD657-F44-2017.02.18-06.06.27_MD657_1_0130_cropped_down32\n",
      "aws s3 cp s3://mousebrainatlas-data/CSHL_scoremaps_down32/MD657/MD657-N15-2017.02.22-14.41.51_MD657_3_0045_alignedTo_MD657-F44-2017.02.18-06.06.27_MD657_1_0130_cropped_down32/MD657-N15-2017.02.22-14.41.51_MD657_3_0045_alignedTo_MD657-F44-2017.02.18-06.06.27_MD657_1_0130_cropped_down32_sp5_denseScoreMap_setting_30.bp /shared/CSHL_scoremaps_down32/MD657/MD657-N15-2017.02.22-14.41.51_MD657_3_0045_alignedTo_MD657-F44-2017.02.18-06.06.27_MD657_1_0130_cropped_down32/MD657-N15-2017.02.22-14.41.51_MD657_3_0045_alignedTo_MD657-F44-2017.02.18-06.06.27_MD657_1_0130_cropped_down32_sp5_denseScoreMap_setting_30.bp\n"
     ]
    },
    {
     "name": "stderr",
     "output_type": "stream",
     "text": [
      "Child returned 1\n",
      "0.33 seconds.\n",
      "Child returned 0\n"
     ]
    },
    {
     "name": "stdout",
     "output_type": "stream",
     "text": [
      "rm -rf /shared/CSHL_scoremaps_down32/MD657/MD657-N16-2017.02.27-16.09.46_MD657_1_0046_alignedTo_MD657-F44-2017.02.18-06.06.27_MD657_1_0130_cropped_down32/MD657-N16-2017.02.27-16.09.46_MD657_1_0046_alignedTo_MD657-F44-2017.02.18-06.06.27_MD657_1_0130_cropped_down32_sp5_denseScoreMap_setting_30.bp && mkdir -p /shared/CSHL_scoremaps_down32/MD657/MD657-N16-2017.02.27-16.09.46_MD657_1_0046_alignedTo_MD657-F44-2017.02.18-06.06.27_MD657_1_0130_cropped_down32\n",
      "aws s3 cp s3://mousebrainatlas-data/CSHL_scoremaps_down32/MD657/MD657-N16-2017.02.27-16.09.46_MD657_1_0046_alignedTo_MD657-F44-2017.02.18-06.06.27_MD657_1_0130_cropped_down32/MD657-N16-2017.02.27-16.09.46_MD657_1_0046_alignedTo_MD657-F44-2017.02.18-06.06.27_MD657_1_0130_cropped_down32_sp5_denseScoreMap_setting_30.bp /shared/CSHL_scoremaps_down32/MD657/MD657-N16-2017.02.27-16.09.46_MD657_1_0046_alignedTo_MD657-F44-2017.02.18-06.06.27_MD657_1_0130_cropped_down32/MD657-N16-2017.02.27-16.09.46_MD657_1_0046_alignedTo_MD657-F44-2017.02.18-06.06.27_MD657_1_0130_cropped_down32_sp5_denseScoreMap_setting_30.bp\n"
     ]
    },
    {
     "name": "stderr",
     "output_type": "stream",
     "text": [
      "Child returned 1\n",
      "0.34 seconds.\n",
      "Child returned 0\n"
     ]
    },
    {
     "name": "stdout",
     "output_type": "stream",
     "text": [
      "rm -rf /shared/CSHL_scoremaps_down32/MD657/MD657-N16-2017.02.27-16.09.46_MD657_2_0047_alignedTo_MD657-F44-2017.02.18-06.06.27_MD657_1_0130_cropped_down32/MD657-N16-2017.02.27-16.09.46_MD657_2_0047_alignedTo_MD657-F44-2017.02.18-06.06.27_MD657_1_0130_cropped_down32_sp5_denseScoreMap_setting_30.bp && mkdir -p /shared/CSHL_scoremaps_down32/MD657/MD657-N16-2017.02.27-16.09.46_MD657_2_0047_alignedTo_MD657-F44-2017.02.18-06.06.27_MD657_1_0130_cropped_down32\n",
      "aws s3 cp s3://mousebrainatlas-data/CSHL_scoremaps_down32/MD657/MD657-N16-2017.02.27-16.09.46_MD657_2_0047_alignedTo_MD657-F44-2017.02.18-06.06.27_MD657_1_0130_cropped_down32/MD657-N16-2017.02.27-16.09.46_MD657_2_0047_alignedTo_MD657-F44-2017.02.18-06.06.27_MD657_1_0130_cropped_down32_sp5_denseScoreMap_setting_30.bp /shared/CSHL_scoremaps_down32/MD657/MD657-N16-2017.02.27-16.09.46_MD657_2_0047_alignedTo_MD657-F44-2017.02.18-06.06.27_MD657_1_0130_cropped_down32/MD657-N16-2017.02.27-16.09.46_MD657_2_0047_alignedTo_MD657-F44-2017.02.18-06.06.27_MD657_1_0130_cropped_down32_sp5_denseScoreMap_setting_30.bp\n"
     ]
    },
    {
     "name": "stderr",
     "output_type": "stream",
     "text": [
      "Child returned 1\n",
      "0.33 seconds.\n",
      "Child returned 0\n"
     ]
    },
    {
     "name": "stdout",
     "output_type": "stream",
     "text": [
      "rm -rf /shared/CSHL_scoremaps_down32/MD657/MD657-N16-2017.02.27-16.09.46_MD657_3_0048_alignedTo_MD657-F44-2017.02.18-06.06.27_MD657_1_0130_cropped_down32/MD657-N16-2017.02.27-16.09.46_MD657_3_0048_alignedTo_MD657-F44-2017.02.18-06.06.27_MD657_1_0130_cropped_down32_sp5_denseScoreMap_setting_30.bp && mkdir -p /shared/CSHL_scoremaps_down32/MD657/MD657-N16-2017.02.27-16.09.46_MD657_3_0048_alignedTo_MD657-F44-2017.02.18-06.06.27_MD657_1_0130_cropped_down32\n",
      "aws s3 cp s3://mousebrainatlas-data/CSHL_scoremaps_down32/MD657/MD657-N16-2017.02.27-16.09.46_MD657_3_0048_alignedTo_MD657-F44-2017.02.18-06.06.27_MD657_1_0130_cropped_down32/MD657-N16-2017.02.27-16.09.46_MD657_3_0048_alignedTo_MD657-F44-2017.02.18-06.06.27_MD657_1_0130_cropped_down32_sp5_denseScoreMap_setting_30.bp /shared/CSHL_scoremaps_down32/MD657/MD657-N16-2017.02.27-16.09.46_MD657_3_0048_alignedTo_MD657-F44-2017.02.18-06.06.27_MD657_1_0130_cropped_down32/MD657-N16-2017.02.27-16.09.46_MD657_3_0048_alignedTo_MD657-F44-2017.02.18-06.06.27_MD657_1_0130_cropped_down32_sp5_denseScoreMap_setting_30.bp\n"
     ]
    },
    {
     "name": "stderr",
     "output_type": "stream",
     "text": [
      "Child returned 1\n",
      "0.34 seconds.\n",
      "Child returned 0\n"
     ]
    },
    {
     "name": "stdout",
     "output_type": "stream",
     "text": [
      "rm -rf /shared/CSHL_scoremaps_down32/MD657/MD657-N17-2017.02.22-14.45.59_MD657_1_0049_alignedTo_MD657-F44-2017.02.18-06.06.27_MD657_1_0130_cropped_down32/MD657-N17-2017.02.22-14.45.59_MD657_1_0049_alignedTo_MD657-F44-2017.02.18-06.06.27_MD657_1_0130_cropped_down32_sp5_denseScoreMap_setting_30.bp && mkdir -p /shared/CSHL_scoremaps_down32/MD657/MD657-N17-2017.02.22-14.45.59_MD657_1_0049_alignedTo_MD657-F44-2017.02.18-06.06.27_MD657_1_0130_cropped_down32\n",
      "aws s3 cp s3://mousebrainatlas-data/CSHL_scoremaps_down32/MD657/MD657-N17-2017.02.22-14.45.59_MD657_1_0049_alignedTo_MD657-F44-2017.02.18-06.06.27_MD657_1_0130_cropped_down32/MD657-N17-2017.02.22-14.45.59_MD657_1_0049_alignedTo_MD657-F44-2017.02.18-06.06.27_MD657_1_0130_cropped_down32_sp5_denseScoreMap_setting_30.bp /shared/CSHL_scoremaps_down32/MD657/MD657-N17-2017.02.22-14.45.59_MD657_1_0049_alignedTo_MD657-F44-2017.02.18-06.06.27_MD657_1_0130_cropped_down32/MD657-N17-2017.02.22-14.45.59_MD657_1_0049_alignedTo_MD657-F44-2017.02.18-06.06.27_MD657_1_0130_cropped_down32_sp5_denseScoreMap_setting_30.bp\n"
     ]
    },
    {
     "name": "stderr",
     "output_type": "stream",
     "text": [
      "Child returned 1\n",
      "0.34 seconds.\n",
      "Child returned 0\n"
     ]
    },
    {
     "name": "stdout",
     "output_type": "stream",
     "text": [
      "rm -rf /shared/CSHL_scoremaps_down32/MD657/MD657-N17-2017.02.22-14.45.59_MD657_2_0050_alignedTo_MD657-F44-2017.02.18-06.06.27_MD657_1_0130_cropped_down32/MD657-N17-2017.02.22-14.45.59_MD657_2_0050_alignedTo_MD657-F44-2017.02.18-06.06.27_MD657_1_0130_cropped_down32_sp5_denseScoreMap_setting_30.bp && mkdir -p /shared/CSHL_scoremaps_down32/MD657/MD657-N17-2017.02.22-14.45.59_MD657_2_0050_alignedTo_MD657-F44-2017.02.18-06.06.27_MD657_1_0130_cropped_down32\n",
      "aws s3 cp s3://mousebrainatlas-data/CSHL_scoremaps_down32/MD657/MD657-N17-2017.02.22-14.45.59_MD657_2_0050_alignedTo_MD657-F44-2017.02.18-06.06.27_MD657_1_0130_cropped_down32/MD657-N17-2017.02.22-14.45.59_MD657_2_0050_alignedTo_MD657-F44-2017.02.18-06.06.27_MD657_1_0130_cropped_down32_sp5_denseScoreMap_setting_30.bp /shared/CSHL_scoremaps_down32/MD657/MD657-N17-2017.02.22-14.45.59_MD657_2_0050_alignedTo_MD657-F44-2017.02.18-06.06.27_MD657_1_0130_cropped_down32/MD657-N17-2017.02.22-14.45.59_MD657_2_0050_alignedTo_MD657-F44-2017.02.18-06.06.27_MD657_1_0130_cropped_down32_sp5_denseScoreMap_setting_30.bp\n"
     ]
    },
    {
     "name": "stderr",
     "output_type": "stream",
     "text": [
      "Child returned 1\n",
      "0.33 seconds.\n",
      "Child returned 0\n"
     ]
    },
    {
     "name": "stdout",
     "output_type": "stream",
     "text": [
      "rm -rf /shared/CSHL_scoremaps_down32/MD657/MD657-N17-2017.02.22-14.45.59_MD657_3_0051_alignedTo_MD657-F44-2017.02.18-06.06.27_MD657_1_0130_cropped_down32/MD657-N17-2017.02.22-14.45.59_MD657_3_0051_alignedTo_MD657-F44-2017.02.18-06.06.27_MD657_1_0130_cropped_down32_sp5_denseScoreMap_setting_30.bp && mkdir -p /shared/CSHL_scoremaps_down32/MD657/MD657-N17-2017.02.22-14.45.59_MD657_3_0051_alignedTo_MD657-F44-2017.02.18-06.06.27_MD657_1_0130_cropped_down32\n",
      "aws s3 cp s3://mousebrainatlas-data/CSHL_scoremaps_down32/MD657/MD657-N17-2017.02.22-14.45.59_MD657_3_0051_alignedTo_MD657-F44-2017.02.18-06.06.27_MD657_1_0130_cropped_down32/MD657-N17-2017.02.22-14.45.59_MD657_3_0051_alignedTo_MD657-F44-2017.02.18-06.06.27_MD657_1_0130_cropped_down32_sp5_denseScoreMap_setting_30.bp /shared/CSHL_scoremaps_down32/MD657/MD657-N17-2017.02.22-14.45.59_MD657_3_0051_alignedTo_MD657-F44-2017.02.18-06.06.27_MD657_1_0130_cropped_down32/MD657-N17-2017.02.22-14.45.59_MD657_3_0051_alignedTo_MD657-F44-2017.02.18-06.06.27_MD657_1_0130_cropped_down32_sp5_denseScoreMap_setting_30.bp\n"
     ]
    },
    {
     "name": "stderr",
     "output_type": "stream",
     "text": [
      "Child returned 1\n",
      "0.33 seconds.\n",
      "Child returned 0\n"
     ]
    },
    {
     "name": "stdout",
     "output_type": "stream",
     "text": [
      "rm -rf /shared/CSHL_scoremaps_down32/MD657/MD657-N18-2017.02.22-14.50.24_MD657_1_0052_alignedTo_MD657-F44-2017.02.18-06.06.27_MD657_1_0130_cropped_down32/MD657-N18-2017.02.22-14.50.24_MD657_1_0052_alignedTo_MD657-F44-2017.02.18-06.06.27_MD657_1_0130_cropped_down32_sp5_denseScoreMap_setting_30.bp && mkdir -p /shared/CSHL_scoremaps_down32/MD657/MD657-N18-2017.02.22-14.50.24_MD657_1_0052_alignedTo_MD657-F44-2017.02.18-06.06.27_MD657_1_0130_cropped_down32\n",
      "aws s3 cp s3://mousebrainatlas-data/CSHL_scoremaps_down32/MD657/MD657-N18-2017.02.22-14.50.24_MD657_1_0052_alignedTo_MD657-F44-2017.02.18-06.06.27_MD657_1_0130_cropped_down32/MD657-N18-2017.02.22-14.50.24_MD657_1_0052_alignedTo_MD657-F44-2017.02.18-06.06.27_MD657_1_0130_cropped_down32_sp5_denseScoreMap_setting_30.bp /shared/CSHL_scoremaps_down32/MD657/MD657-N18-2017.02.22-14.50.24_MD657_1_0052_alignedTo_MD657-F44-2017.02.18-06.06.27_MD657_1_0130_cropped_down32/MD657-N18-2017.02.22-14.50.24_MD657_1_0052_alignedTo_MD657-F44-2017.02.18-06.06.27_MD657_1_0130_cropped_down32_sp5_denseScoreMap_setting_30.bp\n"
     ]
    },
    {
     "name": "stderr",
     "output_type": "stream",
     "text": [
      "Child returned 1\n",
      "0.33 seconds.\n",
      "Child returned 0\n"
     ]
    },
    {
     "name": "stdout",
     "output_type": "stream",
     "text": [
      "rm -rf /shared/CSHL_scoremaps_down32/MD657/MD657-N18-2017.02.22-14.50.24_MD657_2_0053_alignedTo_MD657-F44-2017.02.18-06.06.27_MD657_1_0130_cropped_down32/MD657-N18-2017.02.22-14.50.24_MD657_2_0053_alignedTo_MD657-F44-2017.02.18-06.06.27_MD657_1_0130_cropped_down32_sp5_denseScoreMap_setting_30.bp && mkdir -p /shared/CSHL_scoremaps_down32/MD657/MD657-N18-2017.02.22-14.50.24_MD657_2_0053_alignedTo_MD657-F44-2017.02.18-06.06.27_MD657_1_0130_cropped_down32\n",
      "aws s3 cp s3://mousebrainatlas-data/CSHL_scoremaps_down32/MD657/MD657-N18-2017.02.22-14.50.24_MD657_2_0053_alignedTo_MD657-F44-2017.02.18-06.06.27_MD657_1_0130_cropped_down32/MD657-N18-2017.02.22-14.50.24_MD657_2_0053_alignedTo_MD657-F44-2017.02.18-06.06.27_MD657_1_0130_cropped_down32_sp5_denseScoreMap_setting_30.bp /shared/CSHL_scoremaps_down32/MD657/MD657-N18-2017.02.22-14.50.24_MD657_2_0053_alignedTo_MD657-F44-2017.02.18-06.06.27_MD657_1_0130_cropped_down32/MD657-N18-2017.02.22-14.50.24_MD657_2_0053_alignedTo_MD657-F44-2017.02.18-06.06.27_MD657_1_0130_cropped_down32_sp5_denseScoreMap_setting_30.bp\n"
     ]
    },
    {
     "name": "stderr",
     "output_type": "stream",
     "text": [
      "Child returned 1\n",
      "0.42 seconds.\n",
      "Child returned 0\n"
     ]
    },
    {
     "name": "stdout",
     "output_type": "stream",
     "text": [
      "rm -rf /shared/CSHL_scoremaps_down32/MD657/MD657-N18-2017.02.22-14.50.24_MD657_3_0054_alignedTo_MD657-F44-2017.02.18-06.06.27_MD657_1_0130_cropped_down32/MD657-N18-2017.02.22-14.50.24_MD657_3_0054_alignedTo_MD657-F44-2017.02.18-06.06.27_MD657_1_0130_cropped_down32_sp5_denseScoreMap_setting_30.bp && mkdir -p /shared/CSHL_scoremaps_down32/MD657/MD657-N18-2017.02.22-14.50.24_MD657_3_0054_alignedTo_MD657-F44-2017.02.18-06.06.27_MD657_1_0130_cropped_down32\n",
      "aws s3 cp s3://mousebrainatlas-data/CSHL_scoremaps_down32/MD657/MD657-N18-2017.02.22-14.50.24_MD657_3_0054_alignedTo_MD657-F44-2017.02.18-06.06.27_MD657_1_0130_cropped_down32/MD657-N18-2017.02.22-14.50.24_MD657_3_0054_alignedTo_MD657-F44-2017.02.18-06.06.27_MD657_1_0130_cropped_down32_sp5_denseScoreMap_setting_30.bp /shared/CSHL_scoremaps_down32/MD657/MD657-N18-2017.02.22-14.50.24_MD657_3_0054_alignedTo_MD657-F44-2017.02.18-06.06.27_MD657_1_0130_cropped_down32/MD657-N18-2017.02.22-14.50.24_MD657_3_0054_alignedTo_MD657-F44-2017.02.18-06.06.27_MD657_1_0130_cropped_down32_sp5_denseScoreMap_setting_30.bp\n"
     ]
    },
    {
     "name": "stderr",
     "output_type": "stream",
     "text": [
      "Child returned 1\n",
      "0.33 seconds.\n",
      "Child returned 0\n"
     ]
    },
    {
     "name": "stdout",
     "output_type": "stream",
     "text": [
      "rm -rf /shared/CSHL_scoremaps_down32/MD657/MD657-N19-2017.02.22-14.54.49_MD657_1_0055_alignedTo_MD657-F44-2017.02.18-06.06.27_MD657_1_0130_cropped_down32/MD657-N19-2017.02.22-14.54.49_MD657_1_0055_alignedTo_MD657-F44-2017.02.18-06.06.27_MD657_1_0130_cropped_down32_sp5_denseScoreMap_setting_30.bp && mkdir -p /shared/CSHL_scoremaps_down32/MD657/MD657-N19-2017.02.22-14.54.49_MD657_1_0055_alignedTo_MD657-F44-2017.02.18-06.06.27_MD657_1_0130_cropped_down32\n",
      "aws s3 cp s3://mousebrainatlas-data/CSHL_scoremaps_down32/MD657/MD657-N19-2017.02.22-14.54.49_MD657_1_0055_alignedTo_MD657-F44-2017.02.18-06.06.27_MD657_1_0130_cropped_down32/MD657-N19-2017.02.22-14.54.49_MD657_1_0055_alignedTo_MD657-F44-2017.02.18-06.06.27_MD657_1_0130_cropped_down32_sp5_denseScoreMap_setting_30.bp /shared/CSHL_scoremaps_down32/MD657/MD657-N19-2017.02.22-14.54.49_MD657_1_0055_alignedTo_MD657-F44-2017.02.18-06.06.27_MD657_1_0130_cropped_down32/MD657-N19-2017.02.22-14.54.49_MD657_1_0055_alignedTo_MD657-F44-2017.02.18-06.06.27_MD657_1_0130_cropped_down32_sp5_denseScoreMap_setting_30.bp\n"
     ]
    },
    {
     "name": "stderr",
     "output_type": "stream",
     "text": [
      "Child returned 1\n",
      "0.35 seconds.\n",
      "Child returned 0\n"
     ]
    },
    {
     "name": "stdout",
     "output_type": "stream",
     "text": [
      "rm -rf /shared/CSHL_scoremaps_down32/MD657/MD657-N19-2017.02.22-14.54.49_MD657_2_0056_alignedTo_MD657-F44-2017.02.18-06.06.27_MD657_1_0130_cropped_down32/MD657-N19-2017.02.22-14.54.49_MD657_2_0056_alignedTo_MD657-F44-2017.02.18-06.06.27_MD657_1_0130_cropped_down32_sp5_denseScoreMap_setting_30.bp && mkdir -p /shared/CSHL_scoremaps_down32/MD657/MD657-N19-2017.02.22-14.54.49_MD657_2_0056_alignedTo_MD657-F44-2017.02.18-06.06.27_MD657_1_0130_cropped_down32\n",
      "aws s3 cp s3://mousebrainatlas-data/CSHL_scoremaps_down32/MD657/MD657-N19-2017.02.22-14.54.49_MD657_2_0056_alignedTo_MD657-F44-2017.02.18-06.06.27_MD657_1_0130_cropped_down32/MD657-N19-2017.02.22-14.54.49_MD657_2_0056_alignedTo_MD657-F44-2017.02.18-06.06.27_MD657_1_0130_cropped_down32_sp5_denseScoreMap_setting_30.bp /shared/CSHL_scoremaps_down32/MD657/MD657-N19-2017.02.22-14.54.49_MD657_2_0056_alignedTo_MD657-F44-2017.02.18-06.06.27_MD657_1_0130_cropped_down32/MD657-N19-2017.02.22-14.54.49_MD657_2_0056_alignedTo_MD657-F44-2017.02.18-06.06.27_MD657_1_0130_cropped_down32_sp5_denseScoreMap_setting_30.bp\n"
     ]
    },
    {
     "name": "stderr",
     "output_type": "stream",
     "text": [
      "Child returned 1\n",
      "0.32 seconds.\n",
      "Child returned 0\n"
     ]
    },
    {
     "name": "stdout",
     "output_type": "stream",
     "text": [
      "rm -rf /shared/CSHL_scoremaps_down32/MD657/MD657-N19-2017.02.22-14.54.49_MD657_3_0057_alignedTo_MD657-F44-2017.02.18-06.06.27_MD657_1_0130_cropped_down32/MD657-N19-2017.02.22-14.54.49_MD657_3_0057_alignedTo_MD657-F44-2017.02.18-06.06.27_MD657_1_0130_cropped_down32_sp5_denseScoreMap_setting_30.bp && mkdir -p /shared/CSHL_scoremaps_down32/MD657/MD657-N19-2017.02.22-14.54.49_MD657_3_0057_alignedTo_MD657-F44-2017.02.18-06.06.27_MD657_1_0130_cropped_down32\n",
      "aws s3 cp s3://mousebrainatlas-data/CSHL_scoremaps_down32/MD657/MD657-N19-2017.02.22-14.54.49_MD657_3_0057_alignedTo_MD657-F44-2017.02.18-06.06.27_MD657_1_0130_cropped_down32/MD657-N19-2017.02.22-14.54.49_MD657_3_0057_alignedTo_MD657-F44-2017.02.18-06.06.27_MD657_1_0130_cropped_down32_sp5_denseScoreMap_setting_30.bp /shared/CSHL_scoremaps_down32/MD657/MD657-N19-2017.02.22-14.54.49_MD657_3_0057_alignedTo_MD657-F44-2017.02.18-06.06.27_MD657_1_0130_cropped_down32/MD657-N19-2017.02.22-14.54.49_MD657_3_0057_alignedTo_MD657-F44-2017.02.18-06.06.27_MD657_1_0130_cropped_down32_sp5_denseScoreMap_setting_30.bp\n"
     ]
    },
    {
     "name": "stderr",
     "output_type": "stream",
     "text": [
      "Child returned 1\n",
      "0.33 seconds.\n",
      "Child returned 0\n"
     ]
    },
    {
     "name": "stdout",
     "output_type": "stream",
     "text": [
      "rm -rf /shared/CSHL_scoremaps_down32/MD657/MD657-N20-2017.02.22-14.59.13_MD657_1_0058_alignedTo_MD657-F44-2017.02.18-06.06.27_MD657_1_0130_cropped_down32/MD657-N20-2017.02.22-14.59.13_MD657_1_0058_alignedTo_MD657-F44-2017.02.18-06.06.27_MD657_1_0130_cropped_down32_sp5_denseScoreMap_setting_30.bp && mkdir -p /shared/CSHL_scoremaps_down32/MD657/MD657-N20-2017.02.22-14.59.13_MD657_1_0058_alignedTo_MD657-F44-2017.02.18-06.06.27_MD657_1_0130_cropped_down32\n",
      "aws s3 cp s3://mousebrainatlas-data/CSHL_scoremaps_down32/MD657/MD657-N20-2017.02.22-14.59.13_MD657_1_0058_alignedTo_MD657-F44-2017.02.18-06.06.27_MD657_1_0130_cropped_down32/MD657-N20-2017.02.22-14.59.13_MD657_1_0058_alignedTo_MD657-F44-2017.02.18-06.06.27_MD657_1_0130_cropped_down32_sp5_denseScoreMap_setting_30.bp /shared/CSHL_scoremaps_down32/MD657/MD657-N20-2017.02.22-14.59.13_MD657_1_0058_alignedTo_MD657-F44-2017.02.18-06.06.27_MD657_1_0130_cropped_down32/MD657-N20-2017.02.22-14.59.13_MD657_1_0058_alignedTo_MD657-F44-2017.02.18-06.06.27_MD657_1_0130_cropped_down32_sp5_denseScoreMap_setting_30.bp\n"
     ]
    },
    {
     "name": "stderr",
     "output_type": "stream",
     "text": [
      "Child returned 1\n",
      "0.33 seconds.\n",
      "Child returned 0\n"
     ]
    },
    {
     "name": "stdout",
     "output_type": "stream",
     "text": [
      "rm -rf /shared/CSHL_scoremaps_down32/MD657/MD657-N20-2017.02.22-14.59.13_MD657_2_0059_alignedTo_MD657-F44-2017.02.18-06.06.27_MD657_1_0130_cropped_down32/MD657-N20-2017.02.22-14.59.13_MD657_2_0059_alignedTo_MD657-F44-2017.02.18-06.06.27_MD657_1_0130_cropped_down32_sp5_denseScoreMap_setting_30.bp && mkdir -p /shared/CSHL_scoremaps_down32/MD657/MD657-N20-2017.02.22-14.59.13_MD657_2_0059_alignedTo_MD657-F44-2017.02.18-06.06.27_MD657_1_0130_cropped_down32\n",
      "aws s3 cp s3://mousebrainatlas-data/CSHL_scoremaps_down32/MD657/MD657-N20-2017.02.22-14.59.13_MD657_2_0059_alignedTo_MD657-F44-2017.02.18-06.06.27_MD657_1_0130_cropped_down32/MD657-N20-2017.02.22-14.59.13_MD657_2_0059_alignedTo_MD657-F44-2017.02.18-06.06.27_MD657_1_0130_cropped_down32_sp5_denseScoreMap_setting_30.bp /shared/CSHL_scoremaps_down32/MD657/MD657-N20-2017.02.22-14.59.13_MD657_2_0059_alignedTo_MD657-F44-2017.02.18-06.06.27_MD657_1_0130_cropped_down32/MD657-N20-2017.02.22-14.59.13_MD657_2_0059_alignedTo_MD657-F44-2017.02.18-06.06.27_MD657_1_0130_cropped_down32_sp5_denseScoreMap_setting_30.bp\n"
     ]
    },
    {
     "name": "stderr",
     "output_type": "stream",
     "text": [
      "Child returned 1\n",
      "0.34 seconds.\n",
      "Child returned 0\n"
     ]
    },
    {
     "name": "stdout",
     "output_type": "stream",
     "text": [
      "rm -rf /shared/CSHL_scoremaps_down32/MD657/MD657-N21-2017.02.22-15.02.22_MD657_1_0061_alignedTo_MD657-F44-2017.02.18-06.06.27_MD657_1_0130_cropped_down32/MD657-N21-2017.02.22-15.02.22_MD657_1_0061_alignedTo_MD657-F44-2017.02.18-06.06.27_MD657_1_0130_cropped_down32_sp5_denseScoreMap_setting_30.bp && mkdir -p /shared/CSHL_scoremaps_down32/MD657/MD657-N21-2017.02.22-15.02.22_MD657_1_0061_alignedTo_MD657-F44-2017.02.18-06.06.27_MD657_1_0130_cropped_down32\n",
      "aws s3 cp s3://mousebrainatlas-data/CSHL_scoremaps_down32/MD657/MD657-N21-2017.02.22-15.02.22_MD657_1_0061_alignedTo_MD657-F44-2017.02.18-06.06.27_MD657_1_0130_cropped_down32/MD657-N21-2017.02.22-15.02.22_MD657_1_0061_alignedTo_MD657-F44-2017.02.18-06.06.27_MD657_1_0130_cropped_down32_sp5_denseScoreMap_setting_30.bp /shared/CSHL_scoremaps_down32/MD657/MD657-N21-2017.02.22-15.02.22_MD657_1_0061_alignedTo_MD657-F44-2017.02.18-06.06.27_MD657_1_0130_cropped_down32/MD657-N21-2017.02.22-15.02.22_MD657_1_0061_alignedTo_MD657-F44-2017.02.18-06.06.27_MD657_1_0130_cropped_down32_sp5_denseScoreMap_setting_30.bp\n"
     ]
    },
    {
     "name": "stderr",
     "output_type": "stream",
     "text": [
      "Child returned 1\n",
      "0.34 seconds.\n",
      "Child returned 0\n"
     ]
    },
    {
     "name": "stdout",
     "output_type": "stream",
     "text": [
      "rm -rf /shared/CSHL_scoremaps_down32/MD657/MD657-N21-2017.02.22-15.02.22_MD657_2_0062_alignedTo_MD657-F44-2017.02.18-06.06.27_MD657_1_0130_cropped_down32/MD657-N21-2017.02.22-15.02.22_MD657_2_0062_alignedTo_MD657-F44-2017.02.18-06.06.27_MD657_1_0130_cropped_down32_sp5_denseScoreMap_setting_30.bp && mkdir -p /shared/CSHL_scoremaps_down32/MD657/MD657-N21-2017.02.22-15.02.22_MD657_2_0062_alignedTo_MD657-F44-2017.02.18-06.06.27_MD657_1_0130_cropped_down32\n",
      "aws s3 cp s3://mousebrainatlas-data/CSHL_scoremaps_down32/MD657/MD657-N21-2017.02.22-15.02.22_MD657_2_0062_alignedTo_MD657-F44-2017.02.18-06.06.27_MD657_1_0130_cropped_down32/MD657-N21-2017.02.22-15.02.22_MD657_2_0062_alignedTo_MD657-F44-2017.02.18-06.06.27_MD657_1_0130_cropped_down32_sp5_denseScoreMap_setting_30.bp /shared/CSHL_scoremaps_down32/MD657/MD657-N21-2017.02.22-15.02.22_MD657_2_0062_alignedTo_MD657-F44-2017.02.18-06.06.27_MD657_1_0130_cropped_down32/MD657-N21-2017.02.22-15.02.22_MD657_2_0062_alignedTo_MD657-F44-2017.02.18-06.06.27_MD657_1_0130_cropped_down32_sp5_denseScoreMap_setting_30.bp\n"
     ]
    },
    {
     "name": "stderr",
     "output_type": "stream",
     "text": [
      "Child returned 1\n",
      "0.34 seconds.\n",
      "Child returned 0\n"
     ]
    },
    {
     "name": "stdout",
     "output_type": "stream",
     "text": [
      "rm -rf /shared/CSHL_scoremaps_down32/MD657/MD657-N22-2017.02.22-15.05.33_MD657_1_0064_alignedTo_MD657-F44-2017.02.18-06.06.27_MD657_1_0130_cropped_down32/MD657-N22-2017.02.22-15.05.33_MD657_1_0064_alignedTo_MD657-F44-2017.02.18-06.06.27_MD657_1_0130_cropped_down32_sp5_denseScoreMap_setting_30.bp && mkdir -p /shared/CSHL_scoremaps_down32/MD657/MD657-N22-2017.02.22-15.05.33_MD657_1_0064_alignedTo_MD657-F44-2017.02.18-06.06.27_MD657_1_0130_cropped_down32\n",
      "aws s3 cp s3://mousebrainatlas-data/CSHL_scoremaps_down32/MD657/MD657-N22-2017.02.22-15.05.33_MD657_1_0064_alignedTo_MD657-F44-2017.02.18-06.06.27_MD657_1_0130_cropped_down32/MD657-N22-2017.02.22-15.05.33_MD657_1_0064_alignedTo_MD657-F44-2017.02.18-06.06.27_MD657_1_0130_cropped_down32_sp5_denseScoreMap_setting_30.bp /shared/CSHL_scoremaps_down32/MD657/MD657-N22-2017.02.22-15.05.33_MD657_1_0064_alignedTo_MD657-F44-2017.02.18-06.06.27_MD657_1_0130_cropped_down32/MD657-N22-2017.02.22-15.05.33_MD657_1_0064_alignedTo_MD657-F44-2017.02.18-06.06.27_MD657_1_0130_cropped_down32_sp5_denseScoreMap_setting_30.bp\n"
     ]
    },
    {
     "name": "stderr",
     "output_type": "stream",
     "text": [
      "Child returned 1\n",
      "0.33 seconds.\n",
      "Child returned 0\n"
     ]
    },
    {
     "name": "stdout",
     "output_type": "stream",
     "text": [
      "rm -rf /shared/CSHL_scoremaps_down32/MD657/MD657-N22-2017.02.22-15.05.33_MD657_2_0065_alignedTo_MD657-F44-2017.02.18-06.06.27_MD657_1_0130_cropped_down32/MD657-N22-2017.02.22-15.05.33_MD657_2_0065_alignedTo_MD657-F44-2017.02.18-06.06.27_MD657_1_0130_cropped_down32_sp5_denseScoreMap_setting_30.bp && mkdir -p /shared/CSHL_scoremaps_down32/MD657/MD657-N22-2017.02.22-15.05.33_MD657_2_0065_alignedTo_MD657-F44-2017.02.18-06.06.27_MD657_1_0130_cropped_down32\n",
      "aws s3 cp s3://mousebrainatlas-data/CSHL_scoremaps_down32/MD657/MD657-N22-2017.02.22-15.05.33_MD657_2_0065_alignedTo_MD657-F44-2017.02.18-06.06.27_MD657_1_0130_cropped_down32/MD657-N22-2017.02.22-15.05.33_MD657_2_0065_alignedTo_MD657-F44-2017.02.18-06.06.27_MD657_1_0130_cropped_down32_sp5_denseScoreMap_setting_30.bp /shared/CSHL_scoremaps_down32/MD657/MD657-N22-2017.02.22-15.05.33_MD657_2_0065_alignedTo_MD657-F44-2017.02.18-06.06.27_MD657_1_0130_cropped_down32/MD657-N22-2017.02.22-15.05.33_MD657_2_0065_alignedTo_MD657-F44-2017.02.18-06.06.27_MD657_1_0130_cropped_down32_sp5_denseScoreMap_setting_30.bp\n"
     ]
    },
    {
     "name": "stderr",
     "output_type": "stream",
     "text": [
      "Child returned 1\n",
      "0.35 seconds.\n",
      "Child returned 0\n"
     ]
    },
    {
     "name": "stdout",
     "output_type": "stream",
     "text": [
      "rm -rf /shared/CSHL_scoremaps_down32/MD657/MD657-N23-2017.02.22-15.08.47_MD657_1_0067_alignedTo_MD657-F44-2017.02.18-06.06.27_MD657_1_0130_cropped_down32/MD657-N23-2017.02.22-15.08.47_MD657_1_0067_alignedTo_MD657-F44-2017.02.18-06.06.27_MD657_1_0130_cropped_down32_sp5_denseScoreMap_setting_30.bp && mkdir -p /shared/CSHL_scoremaps_down32/MD657/MD657-N23-2017.02.22-15.08.47_MD657_1_0067_alignedTo_MD657-F44-2017.02.18-06.06.27_MD657_1_0130_cropped_down32\n",
      "aws s3 cp s3://mousebrainatlas-data/CSHL_scoremaps_down32/MD657/MD657-N23-2017.02.22-15.08.47_MD657_1_0067_alignedTo_MD657-F44-2017.02.18-06.06.27_MD657_1_0130_cropped_down32/MD657-N23-2017.02.22-15.08.47_MD657_1_0067_alignedTo_MD657-F44-2017.02.18-06.06.27_MD657_1_0130_cropped_down32_sp5_denseScoreMap_setting_30.bp /shared/CSHL_scoremaps_down32/MD657/MD657-N23-2017.02.22-15.08.47_MD657_1_0067_alignedTo_MD657-F44-2017.02.18-06.06.27_MD657_1_0130_cropped_down32/MD657-N23-2017.02.22-15.08.47_MD657_1_0067_alignedTo_MD657-F44-2017.02.18-06.06.27_MD657_1_0130_cropped_down32_sp5_denseScoreMap_setting_30.bp\n"
     ]
    },
    {
     "name": "stderr",
     "output_type": "stream",
     "text": [
      "Child returned 1\n",
      "0.32 seconds.\n",
      "Child returned 0\n"
     ]
    },
    {
     "name": "stdout",
     "output_type": "stream",
     "text": [
      "rm -rf /shared/CSHL_scoremaps_down32/MD657/MD657-N23-2017.02.22-15.08.47_MD657_2_0068_alignedTo_MD657-F44-2017.02.18-06.06.27_MD657_1_0130_cropped_down32/MD657-N23-2017.02.22-15.08.47_MD657_2_0068_alignedTo_MD657-F44-2017.02.18-06.06.27_MD657_1_0130_cropped_down32_sp5_denseScoreMap_setting_30.bp && mkdir -p /shared/CSHL_scoremaps_down32/MD657/MD657-N23-2017.02.22-15.08.47_MD657_2_0068_alignedTo_MD657-F44-2017.02.18-06.06.27_MD657_1_0130_cropped_down32\n",
      "aws s3 cp s3://mousebrainatlas-data/CSHL_scoremaps_down32/MD657/MD657-N23-2017.02.22-15.08.47_MD657_2_0068_alignedTo_MD657-F44-2017.02.18-06.06.27_MD657_1_0130_cropped_down32/MD657-N23-2017.02.22-15.08.47_MD657_2_0068_alignedTo_MD657-F44-2017.02.18-06.06.27_MD657_1_0130_cropped_down32_sp5_denseScoreMap_setting_30.bp /shared/CSHL_scoremaps_down32/MD657/MD657-N23-2017.02.22-15.08.47_MD657_2_0068_alignedTo_MD657-F44-2017.02.18-06.06.27_MD657_1_0130_cropped_down32/MD657-N23-2017.02.22-15.08.47_MD657_2_0068_alignedTo_MD657-F44-2017.02.18-06.06.27_MD657_1_0130_cropped_down32_sp5_denseScoreMap_setting_30.bp\n"
     ]
    },
    {
     "name": "stderr",
     "output_type": "stream",
     "text": [
      "Child returned 1\n",
      "0.34 seconds.\n",
      "Child returned 0\n"
     ]
    },
    {
     "name": "stdout",
     "output_type": "stream",
     "text": [
      "rm -rf /shared/CSHL_scoremaps_down32/MD657/MD657-N24-2017.02.22-15.12.03_MD657_1_0070_alignedTo_MD657-F44-2017.02.18-06.06.27_MD657_1_0130_cropped_down32/MD657-N24-2017.02.22-15.12.03_MD657_1_0070_alignedTo_MD657-F44-2017.02.18-06.06.27_MD657_1_0130_cropped_down32_sp5_denseScoreMap_setting_30.bp && mkdir -p /shared/CSHL_scoremaps_down32/MD657/MD657-N24-2017.02.22-15.12.03_MD657_1_0070_alignedTo_MD657-F44-2017.02.18-06.06.27_MD657_1_0130_cropped_down32\n",
      "aws s3 cp s3://mousebrainatlas-data/CSHL_scoremaps_down32/MD657/MD657-N24-2017.02.22-15.12.03_MD657_1_0070_alignedTo_MD657-F44-2017.02.18-06.06.27_MD657_1_0130_cropped_down32/MD657-N24-2017.02.22-15.12.03_MD657_1_0070_alignedTo_MD657-F44-2017.02.18-06.06.27_MD657_1_0130_cropped_down32_sp5_denseScoreMap_setting_30.bp /shared/CSHL_scoremaps_down32/MD657/MD657-N24-2017.02.22-15.12.03_MD657_1_0070_alignedTo_MD657-F44-2017.02.18-06.06.27_MD657_1_0130_cropped_down32/MD657-N24-2017.02.22-15.12.03_MD657_1_0070_alignedTo_MD657-F44-2017.02.18-06.06.27_MD657_1_0130_cropped_down32_sp5_denseScoreMap_setting_30.bp\n"
     ]
    },
    {
     "name": "stderr",
     "output_type": "stream",
     "text": [
      "Child returned 1\n",
      "0.34 seconds.\n",
      "Child returned 0\n"
     ]
    },
    {
     "name": "stdout",
     "output_type": "stream",
     "text": [
      "rm -rf /shared/CSHL_scoremaps_down32/MD657/MD657-N24-2017.02.22-15.12.03_MD657_2_0071_alignedTo_MD657-F44-2017.02.18-06.06.27_MD657_1_0130_cropped_down32/MD657-N24-2017.02.22-15.12.03_MD657_2_0071_alignedTo_MD657-F44-2017.02.18-06.06.27_MD657_1_0130_cropped_down32_sp5_denseScoreMap_setting_30.bp && mkdir -p /shared/CSHL_scoremaps_down32/MD657/MD657-N24-2017.02.22-15.12.03_MD657_2_0071_alignedTo_MD657-F44-2017.02.18-06.06.27_MD657_1_0130_cropped_down32\n",
      "aws s3 cp s3://mousebrainatlas-data/CSHL_scoremaps_down32/MD657/MD657-N24-2017.02.22-15.12.03_MD657_2_0071_alignedTo_MD657-F44-2017.02.18-06.06.27_MD657_1_0130_cropped_down32/MD657-N24-2017.02.22-15.12.03_MD657_2_0071_alignedTo_MD657-F44-2017.02.18-06.06.27_MD657_1_0130_cropped_down32_sp5_denseScoreMap_setting_30.bp /shared/CSHL_scoremaps_down32/MD657/MD657-N24-2017.02.22-15.12.03_MD657_2_0071_alignedTo_MD657-F44-2017.02.18-06.06.27_MD657_1_0130_cropped_down32/MD657-N24-2017.02.22-15.12.03_MD657_2_0071_alignedTo_MD657-F44-2017.02.18-06.06.27_MD657_1_0130_cropped_down32_sp5_denseScoreMap_setting_30.bp\n"
     ]
    },
    {
     "name": "stderr",
     "output_type": "stream",
     "text": [
      "Child returned 1\n",
      "0.33 seconds.\n",
      "Child returned 0\n"
     ]
    },
    {
     "name": "stdout",
     "output_type": "stream",
     "text": [
      "rm -rf /shared/CSHL_scoremaps_down32/MD657/MD657-N25-2017.02.22-15.15.17_MD657_1_0073_alignedTo_MD657-F44-2017.02.18-06.06.27_MD657_1_0130_cropped_down32/MD657-N25-2017.02.22-15.15.17_MD657_1_0073_alignedTo_MD657-F44-2017.02.18-06.06.27_MD657_1_0130_cropped_down32_sp5_denseScoreMap_setting_30.bp && mkdir -p /shared/CSHL_scoremaps_down32/MD657/MD657-N25-2017.02.22-15.15.17_MD657_1_0073_alignedTo_MD657-F44-2017.02.18-06.06.27_MD657_1_0130_cropped_down32\n",
      "aws s3 cp s3://mousebrainatlas-data/CSHL_scoremaps_down32/MD657/MD657-N25-2017.02.22-15.15.17_MD657_1_0073_alignedTo_MD657-F44-2017.02.18-06.06.27_MD657_1_0130_cropped_down32/MD657-N25-2017.02.22-15.15.17_MD657_1_0073_alignedTo_MD657-F44-2017.02.18-06.06.27_MD657_1_0130_cropped_down32_sp5_denseScoreMap_setting_30.bp /shared/CSHL_scoremaps_down32/MD657/MD657-N25-2017.02.22-15.15.17_MD657_1_0073_alignedTo_MD657-F44-2017.02.18-06.06.27_MD657_1_0130_cropped_down32/MD657-N25-2017.02.22-15.15.17_MD657_1_0073_alignedTo_MD657-F44-2017.02.18-06.06.27_MD657_1_0130_cropped_down32_sp5_denseScoreMap_setting_30.bp\n"
     ]
    },
    {
     "name": "stderr",
     "output_type": "stream",
     "text": [
      "Child returned 1\n",
      "0.34 seconds.\n",
      "Child returned 0\n"
     ]
    },
    {
     "name": "stdout",
     "output_type": "stream",
     "text": [
      "rm -rf /shared/CSHL_scoremaps_down32/MD657/MD657-N25-2017.02.22-15.15.17_MD657_2_0074_alignedTo_MD657-F44-2017.02.18-06.06.27_MD657_1_0130_cropped_down32/MD657-N25-2017.02.22-15.15.17_MD657_2_0074_alignedTo_MD657-F44-2017.02.18-06.06.27_MD657_1_0130_cropped_down32_sp5_denseScoreMap_setting_30.bp && mkdir -p /shared/CSHL_scoremaps_down32/MD657/MD657-N25-2017.02.22-15.15.17_MD657_2_0074_alignedTo_MD657-F44-2017.02.18-06.06.27_MD657_1_0130_cropped_down32\n",
      "aws s3 cp s3://mousebrainatlas-data/CSHL_scoremaps_down32/MD657/MD657-N25-2017.02.22-15.15.17_MD657_2_0074_alignedTo_MD657-F44-2017.02.18-06.06.27_MD657_1_0130_cropped_down32/MD657-N25-2017.02.22-15.15.17_MD657_2_0074_alignedTo_MD657-F44-2017.02.18-06.06.27_MD657_1_0130_cropped_down32_sp5_denseScoreMap_setting_30.bp /shared/CSHL_scoremaps_down32/MD657/MD657-N25-2017.02.22-15.15.17_MD657_2_0074_alignedTo_MD657-F44-2017.02.18-06.06.27_MD657_1_0130_cropped_down32/MD657-N25-2017.02.22-15.15.17_MD657_2_0074_alignedTo_MD657-F44-2017.02.18-06.06.27_MD657_1_0130_cropped_down32_sp5_denseScoreMap_setting_30.bp\n"
     ]
    },
    {
     "name": "stderr",
     "output_type": "stream",
     "text": [
      "Child returned 1\n",
      "0.33 seconds.\n",
      "Child returned 0\n"
     ]
    },
    {
     "name": "stdout",
     "output_type": "stream",
     "text": [
      "rm -rf /shared/CSHL_scoremaps_down32/MD657/MD657-N26-2017.02.27-16.14.53_MD657_2_0077_alignedTo_MD657-F44-2017.02.18-06.06.27_MD657_1_0130_cropped_down32/MD657-N26-2017.02.27-16.14.53_MD657_2_0077_alignedTo_MD657-F44-2017.02.18-06.06.27_MD657_1_0130_cropped_down32_sp5_denseScoreMap_setting_30.bp && mkdir -p /shared/CSHL_scoremaps_down32/MD657/MD657-N26-2017.02.27-16.14.53_MD657_2_0077_alignedTo_MD657-F44-2017.02.18-06.06.27_MD657_1_0130_cropped_down32\n",
      "aws s3 cp s3://mousebrainatlas-data/CSHL_scoremaps_down32/MD657/MD657-N26-2017.02.27-16.14.53_MD657_2_0077_alignedTo_MD657-F44-2017.02.18-06.06.27_MD657_1_0130_cropped_down32/MD657-N26-2017.02.27-16.14.53_MD657_2_0077_alignedTo_MD657-F44-2017.02.18-06.06.27_MD657_1_0130_cropped_down32_sp5_denseScoreMap_setting_30.bp /shared/CSHL_scoremaps_down32/MD657/MD657-N26-2017.02.27-16.14.53_MD657_2_0077_alignedTo_MD657-F44-2017.02.18-06.06.27_MD657_1_0130_cropped_down32/MD657-N26-2017.02.27-16.14.53_MD657_2_0077_alignedTo_MD657-F44-2017.02.18-06.06.27_MD657_1_0130_cropped_down32_sp5_denseScoreMap_setting_30.bp\n"
     ]
    },
    {
     "name": "stderr",
     "output_type": "stream",
     "text": [
      "Child returned 1\n",
      "0.35 seconds.\n",
      "Child returned 0\n"
     ]
    },
    {
     "name": "stdout",
     "output_type": "stream",
     "text": [
      "rm -rf /shared/CSHL_scoremaps_down32/MD657/MD657-N26-2017.02.27-16.14.53_MD657_3_0078_alignedTo_MD657-F44-2017.02.18-06.06.27_MD657_1_0130_cropped_down32/MD657-N26-2017.02.27-16.14.53_MD657_3_0078_alignedTo_MD657-F44-2017.02.18-06.06.27_MD657_1_0130_cropped_down32_sp5_denseScoreMap_setting_30.bp && mkdir -p /shared/CSHL_scoremaps_down32/MD657/MD657-N26-2017.02.27-16.14.53_MD657_3_0078_alignedTo_MD657-F44-2017.02.18-06.06.27_MD657_1_0130_cropped_down32\n",
      "aws s3 cp s3://mousebrainatlas-data/CSHL_scoremaps_down32/MD657/MD657-N26-2017.02.27-16.14.53_MD657_3_0078_alignedTo_MD657-F44-2017.02.18-06.06.27_MD657_1_0130_cropped_down32/MD657-N26-2017.02.27-16.14.53_MD657_3_0078_alignedTo_MD657-F44-2017.02.18-06.06.27_MD657_1_0130_cropped_down32_sp5_denseScoreMap_setting_30.bp /shared/CSHL_scoremaps_down32/MD657/MD657-N26-2017.02.27-16.14.53_MD657_3_0078_alignedTo_MD657-F44-2017.02.18-06.06.27_MD657_1_0130_cropped_down32/MD657-N26-2017.02.27-16.14.53_MD657_3_0078_alignedTo_MD657-F44-2017.02.18-06.06.27_MD657_1_0130_cropped_down32_sp5_denseScoreMap_setting_30.bp\n"
     ]
    },
    {
     "name": "stderr",
     "output_type": "stream",
     "text": [
      "Child returned 1\n",
      "0.33 seconds.\n",
      "Child returned 0\n"
     ]
    },
    {
     "name": "stdout",
     "output_type": "stream",
     "text": [
      "rm -rf /shared/CSHL_scoremaps_down32/MD657/MD657-N27-2017.02.22-15.18.34_MD657_2_0080_alignedTo_MD657-F44-2017.02.18-06.06.27_MD657_1_0130_cropped_down32/MD657-N27-2017.02.22-15.18.34_MD657_2_0080_alignedTo_MD657-F44-2017.02.18-06.06.27_MD657_1_0130_cropped_down32_sp5_denseScoreMap_setting_30.bp && mkdir -p /shared/CSHL_scoremaps_down32/MD657/MD657-N27-2017.02.22-15.18.34_MD657_2_0080_alignedTo_MD657-F44-2017.02.18-06.06.27_MD657_1_0130_cropped_down32\n",
      "aws s3 cp s3://mousebrainatlas-data/CSHL_scoremaps_down32/MD657/MD657-N27-2017.02.22-15.18.34_MD657_2_0080_alignedTo_MD657-F44-2017.02.18-06.06.27_MD657_1_0130_cropped_down32/MD657-N27-2017.02.22-15.18.34_MD657_2_0080_alignedTo_MD657-F44-2017.02.18-06.06.27_MD657_1_0130_cropped_down32_sp5_denseScoreMap_setting_30.bp /shared/CSHL_scoremaps_down32/MD657/MD657-N27-2017.02.22-15.18.34_MD657_2_0080_alignedTo_MD657-F44-2017.02.18-06.06.27_MD657_1_0130_cropped_down32/MD657-N27-2017.02.22-15.18.34_MD657_2_0080_alignedTo_MD657-F44-2017.02.18-06.06.27_MD657_1_0130_cropped_down32_sp5_denseScoreMap_setting_30.bp\n"
     ]
    },
    {
     "name": "stderr",
     "output_type": "stream",
     "text": [
      "Child returned 1\n",
      "0.33 seconds.\n",
      "Child returned 0\n"
     ]
    },
    {
     "name": "stdout",
     "output_type": "stream",
     "text": [
      "rm -rf /shared/CSHL_scoremaps_down32/MD657/MD657-N28-2017.02.22-15.21.25_MD657_1_0082_alignedTo_MD657-F44-2017.02.18-06.06.27_MD657_1_0130_cropped_down32/MD657-N28-2017.02.22-15.21.25_MD657_1_0082_alignedTo_MD657-F44-2017.02.18-06.06.27_MD657_1_0130_cropped_down32_sp5_denseScoreMap_setting_30.bp && mkdir -p /shared/CSHL_scoremaps_down32/MD657/MD657-N28-2017.02.22-15.21.25_MD657_1_0082_alignedTo_MD657-F44-2017.02.18-06.06.27_MD657_1_0130_cropped_down32\n",
      "aws s3 cp s3://mousebrainatlas-data/CSHL_scoremaps_down32/MD657/MD657-N28-2017.02.22-15.21.25_MD657_1_0082_alignedTo_MD657-F44-2017.02.18-06.06.27_MD657_1_0130_cropped_down32/MD657-N28-2017.02.22-15.21.25_MD657_1_0082_alignedTo_MD657-F44-2017.02.18-06.06.27_MD657_1_0130_cropped_down32_sp5_denseScoreMap_setting_30.bp /shared/CSHL_scoremaps_down32/MD657/MD657-N28-2017.02.22-15.21.25_MD657_1_0082_alignedTo_MD657-F44-2017.02.18-06.06.27_MD657_1_0130_cropped_down32/MD657-N28-2017.02.22-15.21.25_MD657_1_0082_alignedTo_MD657-F44-2017.02.18-06.06.27_MD657_1_0130_cropped_down32_sp5_denseScoreMap_setting_30.bp\n"
     ]
    },
    {
     "name": "stderr",
     "output_type": "stream",
     "text": [
      "Child returned 1\n",
      "0.33 seconds.\n",
      "Child returned 0\n"
     ]
    },
    {
     "name": "stdout",
     "output_type": "stream",
     "text": [
      "rm -rf /shared/CSHL_scoremaps_down32/MD657/MD657-N28-2017.02.22-15.21.25_MD657_2_0083_alignedTo_MD657-F44-2017.02.18-06.06.27_MD657_1_0130_cropped_down32/MD657-N28-2017.02.22-15.21.25_MD657_2_0083_alignedTo_MD657-F44-2017.02.18-06.06.27_MD657_1_0130_cropped_down32_sp5_denseScoreMap_setting_30.bp && mkdir -p /shared/CSHL_scoremaps_down32/MD657/MD657-N28-2017.02.22-15.21.25_MD657_2_0083_alignedTo_MD657-F44-2017.02.18-06.06.27_MD657_1_0130_cropped_down32\n",
      "aws s3 cp s3://mousebrainatlas-data/CSHL_scoremaps_down32/MD657/MD657-N28-2017.02.22-15.21.25_MD657_2_0083_alignedTo_MD657-F44-2017.02.18-06.06.27_MD657_1_0130_cropped_down32/MD657-N28-2017.02.22-15.21.25_MD657_2_0083_alignedTo_MD657-F44-2017.02.18-06.06.27_MD657_1_0130_cropped_down32_sp5_denseScoreMap_setting_30.bp /shared/CSHL_scoremaps_down32/MD657/MD657-N28-2017.02.22-15.21.25_MD657_2_0083_alignedTo_MD657-F44-2017.02.18-06.06.27_MD657_1_0130_cropped_down32/MD657-N28-2017.02.22-15.21.25_MD657_2_0083_alignedTo_MD657-F44-2017.02.18-06.06.27_MD657_1_0130_cropped_down32_sp5_denseScoreMap_setting_30.bp\n"
     ]
    },
    {
     "name": "stderr",
     "output_type": "stream",
     "text": [
      "Child returned 1\n",
      "0.36 seconds.\n",
      "Child returned 0\n"
     ]
    },
    {
     "name": "stdout",
     "output_type": "stream",
     "text": [
      "rm -rf /shared/CSHL_scoremaps_down32/MD657/MD657-N29-2017.02.22-15.24.51_MD657_1_0085_alignedTo_MD657-F44-2017.02.18-06.06.27_MD657_1_0130_cropped_down32/MD657-N29-2017.02.22-15.24.51_MD657_1_0085_alignedTo_MD657-F44-2017.02.18-06.06.27_MD657_1_0130_cropped_down32_sp5_denseScoreMap_setting_30.bp && mkdir -p /shared/CSHL_scoremaps_down32/MD657/MD657-N29-2017.02.22-15.24.51_MD657_1_0085_alignedTo_MD657-F44-2017.02.18-06.06.27_MD657_1_0130_cropped_down32\n",
      "aws s3 cp s3://mousebrainatlas-data/CSHL_scoremaps_down32/MD657/MD657-N29-2017.02.22-15.24.51_MD657_1_0085_alignedTo_MD657-F44-2017.02.18-06.06.27_MD657_1_0130_cropped_down32/MD657-N29-2017.02.22-15.24.51_MD657_1_0085_alignedTo_MD657-F44-2017.02.18-06.06.27_MD657_1_0130_cropped_down32_sp5_denseScoreMap_setting_30.bp /shared/CSHL_scoremaps_down32/MD657/MD657-N29-2017.02.22-15.24.51_MD657_1_0085_alignedTo_MD657-F44-2017.02.18-06.06.27_MD657_1_0130_cropped_down32/MD657-N29-2017.02.22-15.24.51_MD657_1_0085_alignedTo_MD657-F44-2017.02.18-06.06.27_MD657_1_0130_cropped_down32_sp5_denseScoreMap_setting_30.bp\n"
     ]
    },
    {
     "name": "stderr",
     "output_type": "stream",
     "text": [
      "Child returned 1\n",
      "0.33 seconds.\n",
      "Child returned 0\n"
     ]
    },
    {
     "name": "stdout",
     "output_type": "stream",
     "text": [
      "rm -rf /shared/CSHL_scoremaps_down32/MD657/MD657-N29-2017.02.22-15.24.51_MD657_2_0086_alignedTo_MD657-F44-2017.02.18-06.06.27_MD657_1_0130_cropped_down32/MD657-N29-2017.02.22-15.24.51_MD657_2_0086_alignedTo_MD657-F44-2017.02.18-06.06.27_MD657_1_0130_cropped_down32_sp5_denseScoreMap_setting_30.bp && mkdir -p /shared/CSHL_scoremaps_down32/MD657/MD657-N29-2017.02.22-15.24.51_MD657_2_0086_alignedTo_MD657-F44-2017.02.18-06.06.27_MD657_1_0130_cropped_down32\n",
      "aws s3 cp s3://mousebrainatlas-data/CSHL_scoremaps_down32/MD657/MD657-N29-2017.02.22-15.24.51_MD657_2_0086_alignedTo_MD657-F44-2017.02.18-06.06.27_MD657_1_0130_cropped_down32/MD657-N29-2017.02.22-15.24.51_MD657_2_0086_alignedTo_MD657-F44-2017.02.18-06.06.27_MD657_1_0130_cropped_down32_sp5_denseScoreMap_setting_30.bp /shared/CSHL_scoremaps_down32/MD657/MD657-N29-2017.02.22-15.24.51_MD657_2_0086_alignedTo_MD657-F44-2017.02.18-06.06.27_MD657_1_0130_cropped_down32/MD657-N29-2017.02.22-15.24.51_MD657_2_0086_alignedTo_MD657-F44-2017.02.18-06.06.27_MD657_1_0130_cropped_down32_sp5_denseScoreMap_setting_30.bp\n"
     ]
    },
    {
     "name": "stderr",
     "output_type": "stream",
     "text": [
      "Child returned 1\n",
      "0.35 seconds.\n",
      "Child returned 0\n"
     ]
    },
    {
     "name": "stdout",
     "output_type": "stream",
     "text": [
      "rm -rf /shared/CSHL_scoremaps_down32/MD657/MD657-N30-2017.02.22-15.28.21_MD657_1_0088_alignedTo_MD657-F44-2017.02.18-06.06.27_MD657_1_0130_cropped_down32/MD657-N30-2017.02.22-15.28.21_MD657_1_0088_alignedTo_MD657-F44-2017.02.18-06.06.27_MD657_1_0130_cropped_down32_sp5_denseScoreMap_setting_30.bp && mkdir -p /shared/CSHL_scoremaps_down32/MD657/MD657-N30-2017.02.22-15.28.21_MD657_1_0088_alignedTo_MD657-F44-2017.02.18-06.06.27_MD657_1_0130_cropped_down32\n",
      "aws s3 cp s3://mousebrainatlas-data/CSHL_scoremaps_down32/MD657/MD657-N30-2017.02.22-15.28.21_MD657_1_0088_alignedTo_MD657-F44-2017.02.18-06.06.27_MD657_1_0130_cropped_down32/MD657-N30-2017.02.22-15.28.21_MD657_1_0088_alignedTo_MD657-F44-2017.02.18-06.06.27_MD657_1_0130_cropped_down32_sp5_denseScoreMap_setting_30.bp /shared/CSHL_scoremaps_down32/MD657/MD657-N30-2017.02.22-15.28.21_MD657_1_0088_alignedTo_MD657-F44-2017.02.18-06.06.27_MD657_1_0130_cropped_down32/MD657-N30-2017.02.22-15.28.21_MD657_1_0088_alignedTo_MD657-F44-2017.02.18-06.06.27_MD657_1_0130_cropped_down32_sp5_denseScoreMap_setting_30.bp\n"
     ]
    },
    {
     "name": "stderr",
     "output_type": "stream",
     "text": [
      "Child returned 1\n",
      "0.33 seconds.\n",
      "Child returned 0\n"
     ]
    },
    {
     "name": "stdout",
     "output_type": "stream",
     "text": [
      "rm -rf /shared/CSHL_scoremaps_down32/MD657/MD657-N30-2017.02.22-15.28.21_MD657_2_0089_alignedTo_MD657-F44-2017.02.18-06.06.27_MD657_1_0130_cropped_down32/MD657-N30-2017.02.22-15.28.21_MD657_2_0089_alignedTo_MD657-F44-2017.02.18-06.06.27_MD657_1_0130_cropped_down32_sp5_denseScoreMap_setting_30.bp && mkdir -p /shared/CSHL_scoremaps_down32/MD657/MD657-N30-2017.02.22-15.28.21_MD657_2_0089_alignedTo_MD657-F44-2017.02.18-06.06.27_MD657_1_0130_cropped_down32\n",
      "aws s3 cp s3://mousebrainatlas-data/CSHL_scoremaps_down32/MD657/MD657-N30-2017.02.22-15.28.21_MD657_2_0089_alignedTo_MD657-F44-2017.02.18-06.06.27_MD657_1_0130_cropped_down32/MD657-N30-2017.02.22-15.28.21_MD657_2_0089_alignedTo_MD657-F44-2017.02.18-06.06.27_MD657_1_0130_cropped_down32_sp5_denseScoreMap_setting_30.bp /shared/CSHL_scoremaps_down32/MD657/MD657-N30-2017.02.22-15.28.21_MD657_2_0089_alignedTo_MD657-F44-2017.02.18-06.06.27_MD657_1_0130_cropped_down32/MD657-N30-2017.02.22-15.28.21_MD657_2_0089_alignedTo_MD657-F44-2017.02.18-06.06.27_MD657_1_0130_cropped_down32_sp5_denseScoreMap_setting_30.bp\n"
     ]
    },
    {
     "name": "stderr",
     "output_type": "stream",
     "text": [
      "Child returned 1\n",
      "0.34 seconds.\n",
      "Child returned 0\n"
     ]
    },
    {
     "name": "stdout",
     "output_type": "stream",
     "text": [
      "rm -rf /shared/CSHL_scoremaps_down32/MD657/MD657-N31-2017.02.22-15.32.10_MD657_1_0091_alignedTo_MD657-F44-2017.02.18-06.06.27_MD657_1_0130_cropped_down32/MD657-N31-2017.02.22-15.32.10_MD657_1_0091_alignedTo_MD657-F44-2017.02.18-06.06.27_MD657_1_0130_cropped_down32_sp5_denseScoreMap_setting_30.bp && mkdir -p /shared/CSHL_scoremaps_down32/MD657/MD657-N31-2017.02.22-15.32.10_MD657_1_0091_alignedTo_MD657-F44-2017.02.18-06.06.27_MD657_1_0130_cropped_down32\n",
      "aws s3 cp s3://mousebrainatlas-data/CSHL_scoremaps_down32/MD657/MD657-N31-2017.02.22-15.32.10_MD657_1_0091_alignedTo_MD657-F44-2017.02.18-06.06.27_MD657_1_0130_cropped_down32/MD657-N31-2017.02.22-15.32.10_MD657_1_0091_alignedTo_MD657-F44-2017.02.18-06.06.27_MD657_1_0130_cropped_down32_sp5_denseScoreMap_setting_30.bp /shared/CSHL_scoremaps_down32/MD657/MD657-N31-2017.02.22-15.32.10_MD657_1_0091_alignedTo_MD657-F44-2017.02.18-06.06.27_MD657_1_0130_cropped_down32/MD657-N31-2017.02.22-15.32.10_MD657_1_0091_alignedTo_MD657-F44-2017.02.18-06.06.27_MD657_1_0130_cropped_down32_sp5_denseScoreMap_setting_30.bp\n"
     ]
    },
    {
     "name": "stderr",
     "output_type": "stream",
     "text": [
      "Child returned 1\n",
      "0.35 seconds.\n",
      "Child returned 0\n"
     ]
    },
    {
     "name": "stdout",
     "output_type": "stream",
     "text": [
      "rm -rf /shared/CSHL_scoremaps_down32/MD657/MD657-N31-2017.02.22-15.32.10_MD657_2_0092_alignedTo_MD657-F44-2017.02.18-06.06.27_MD657_1_0130_cropped_down32/MD657-N31-2017.02.22-15.32.10_MD657_2_0092_alignedTo_MD657-F44-2017.02.18-06.06.27_MD657_1_0130_cropped_down32_sp5_denseScoreMap_setting_30.bp && mkdir -p /shared/CSHL_scoremaps_down32/MD657/MD657-N31-2017.02.22-15.32.10_MD657_2_0092_alignedTo_MD657-F44-2017.02.18-06.06.27_MD657_1_0130_cropped_down32\n",
      "aws s3 cp s3://mousebrainatlas-data/CSHL_scoremaps_down32/MD657/MD657-N31-2017.02.22-15.32.10_MD657_2_0092_alignedTo_MD657-F44-2017.02.18-06.06.27_MD657_1_0130_cropped_down32/MD657-N31-2017.02.22-15.32.10_MD657_2_0092_alignedTo_MD657-F44-2017.02.18-06.06.27_MD657_1_0130_cropped_down32_sp5_denseScoreMap_setting_30.bp /shared/CSHL_scoremaps_down32/MD657/MD657-N31-2017.02.22-15.32.10_MD657_2_0092_alignedTo_MD657-F44-2017.02.18-06.06.27_MD657_1_0130_cropped_down32/MD657-N31-2017.02.22-15.32.10_MD657_2_0092_alignedTo_MD657-F44-2017.02.18-06.06.27_MD657_1_0130_cropped_down32_sp5_denseScoreMap_setting_30.bp\n"
     ]
    },
    {
     "name": "stderr",
     "output_type": "stream",
     "text": [
      "Child returned 1\n",
      "0.35 seconds.\n",
      "Child returned 0\n"
     ]
    },
    {
     "name": "stdout",
     "output_type": "stream",
     "text": [
      "rm -rf /shared/CSHL_scoremaps_down32/MD657/MD657-N32-2017.02.22-15.36.09_MD657_1_0094_alignedTo_MD657-F44-2017.02.18-06.06.27_MD657_1_0130_cropped_down32/MD657-N32-2017.02.22-15.36.09_MD657_1_0094_alignedTo_MD657-F44-2017.02.18-06.06.27_MD657_1_0130_cropped_down32_sp5_denseScoreMap_setting_30.bp && mkdir -p /shared/CSHL_scoremaps_down32/MD657/MD657-N32-2017.02.22-15.36.09_MD657_1_0094_alignedTo_MD657-F44-2017.02.18-06.06.27_MD657_1_0130_cropped_down32\n",
      "aws s3 cp s3://mousebrainatlas-data/CSHL_scoremaps_down32/MD657/MD657-N32-2017.02.22-15.36.09_MD657_1_0094_alignedTo_MD657-F44-2017.02.18-06.06.27_MD657_1_0130_cropped_down32/MD657-N32-2017.02.22-15.36.09_MD657_1_0094_alignedTo_MD657-F44-2017.02.18-06.06.27_MD657_1_0130_cropped_down32_sp5_denseScoreMap_setting_30.bp /shared/CSHL_scoremaps_down32/MD657/MD657-N32-2017.02.22-15.36.09_MD657_1_0094_alignedTo_MD657-F44-2017.02.18-06.06.27_MD657_1_0130_cropped_down32/MD657-N32-2017.02.22-15.36.09_MD657_1_0094_alignedTo_MD657-F44-2017.02.18-06.06.27_MD657_1_0130_cropped_down32_sp5_denseScoreMap_setting_30.bp\n"
     ]
    },
    {
     "name": "stderr",
     "output_type": "stream",
     "text": [
      "Child returned 1\n",
      "0.36 seconds.\n",
      "Child returned 0\n"
     ]
    },
    {
     "name": "stdout",
     "output_type": "stream",
     "text": [
      "rm -rf /shared/CSHL_scoremaps_down32/MD657/MD657-N32-2017.02.22-15.36.09_MD657_2_0095_alignedTo_MD657-F44-2017.02.18-06.06.27_MD657_1_0130_cropped_down32/MD657-N32-2017.02.22-15.36.09_MD657_2_0095_alignedTo_MD657-F44-2017.02.18-06.06.27_MD657_1_0130_cropped_down32_sp5_denseScoreMap_setting_30.bp && mkdir -p /shared/CSHL_scoremaps_down32/MD657/MD657-N32-2017.02.22-15.36.09_MD657_2_0095_alignedTo_MD657-F44-2017.02.18-06.06.27_MD657_1_0130_cropped_down32\n",
      "aws s3 cp s3://mousebrainatlas-data/CSHL_scoremaps_down32/MD657/MD657-N32-2017.02.22-15.36.09_MD657_2_0095_alignedTo_MD657-F44-2017.02.18-06.06.27_MD657_1_0130_cropped_down32/MD657-N32-2017.02.22-15.36.09_MD657_2_0095_alignedTo_MD657-F44-2017.02.18-06.06.27_MD657_1_0130_cropped_down32_sp5_denseScoreMap_setting_30.bp /shared/CSHL_scoremaps_down32/MD657/MD657-N32-2017.02.22-15.36.09_MD657_2_0095_alignedTo_MD657-F44-2017.02.18-06.06.27_MD657_1_0130_cropped_down32/MD657-N32-2017.02.22-15.36.09_MD657_2_0095_alignedTo_MD657-F44-2017.02.18-06.06.27_MD657_1_0130_cropped_down32_sp5_denseScoreMap_setting_30.bp\n"
     ]
    },
    {
     "name": "stderr",
     "output_type": "stream",
     "text": [
      "Child returned 1\n",
      "0.34 seconds.\n",
      "Child returned 0\n"
     ]
    },
    {
     "name": "stdout",
     "output_type": "stream",
     "text": [
      "rm -rf /shared/CSHL_scoremaps_down32/MD657/MD657-N33-2017.02.22-15.39.59_MD657_1_0097_alignedTo_MD657-F44-2017.02.18-06.06.27_MD657_1_0130_cropped_down32/MD657-N33-2017.02.22-15.39.59_MD657_1_0097_alignedTo_MD657-F44-2017.02.18-06.06.27_MD657_1_0130_cropped_down32_sp5_denseScoreMap_setting_30.bp && mkdir -p /shared/CSHL_scoremaps_down32/MD657/MD657-N33-2017.02.22-15.39.59_MD657_1_0097_alignedTo_MD657-F44-2017.02.18-06.06.27_MD657_1_0130_cropped_down32\n",
      "aws s3 cp s3://mousebrainatlas-data/CSHL_scoremaps_down32/MD657/MD657-N33-2017.02.22-15.39.59_MD657_1_0097_alignedTo_MD657-F44-2017.02.18-06.06.27_MD657_1_0130_cropped_down32/MD657-N33-2017.02.22-15.39.59_MD657_1_0097_alignedTo_MD657-F44-2017.02.18-06.06.27_MD657_1_0130_cropped_down32_sp5_denseScoreMap_setting_30.bp /shared/CSHL_scoremaps_down32/MD657/MD657-N33-2017.02.22-15.39.59_MD657_1_0097_alignedTo_MD657-F44-2017.02.18-06.06.27_MD657_1_0130_cropped_down32/MD657-N33-2017.02.22-15.39.59_MD657_1_0097_alignedTo_MD657-F44-2017.02.18-06.06.27_MD657_1_0130_cropped_down32_sp5_denseScoreMap_setting_30.bp\n"
     ]
    },
    {
     "name": "stderr",
     "output_type": "stream",
     "text": [
      "Child returned 1\n",
      "0.35 seconds.\n",
      "Child returned 0\n"
     ]
    },
    {
     "name": "stdout",
     "output_type": "stream",
     "text": [
      "rm -rf /shared/CSHL_scoremaps_down32/MD657/MD657-N33-2017.02.22-15.39.59_MD657_2_0098_alignedTo_MD657-F44-2017.02.18-06.06.27_MD657_1_0130_cropped_down32/MD657-N33-2017.02.22-15.39.59_MD657_2_0098_alignedTo_MD657-F44-2017.02.18-06.06.27_MD657_1_0130_cropped_down32_sp5_denseScoreMap_setting_30.bp && mkdir -p /shared/CSHL_scoremaps_down32/MD657/MD657-N33-2017.02.22-15.39.59_MD657_2_0098_alignedTo_MD657-F44-2017.02.18-06.06.27_MD657_1_0130_cropped_down32\n",
      "aws s3 cp s3://mousebrainatlas-data/CSHL_scoremaps_down32/MD657/MD657-N33-2017.02.22-15.39.59_MD657_2_0098_alignedTo_MD657-F44-2017.02.18-06.06.27_MD657_1_0130_cropped_down32/MD657-N33-2017.02.22-15.39.59_MD657_2_0098_alignedTo_MD657-F44-2017.02.18-06.06.27_MD657_1_0130_cropped_down32_sp5_denseScoreMap_setting_30.bp /shared/CSHL_scoremaps_down32/MD657/MD657-N33-2017.02.22-15.39.59_MD657_2_0098_alignedTo_MD657-F44-2017.02.18-06.06.27_MD657_1_0130_cropped_down32/MD657-N33-2017.02.22-15.39.59_MD657_2_0098_alignedTo_MD657-F44-2017.02.18-06.06.27_MD657_1_0130_cropped_down32_sp5_denseScoreMap_setting_30.bp\n"
     ]
    },
    {
     "name": "stderr",
     "output_type": "stream",
     "text": [
      "Child returned 1\n",
      "0.34 seconds.\n",
      "Child returned 0\n"
     ]
    },
    {
     "name": "stdout",
     "output_type": "stream",
     "text": [
      "rm -rf /shared/CSHL_scoremaps_down32/MD657/MD657-N34-2017.02.22-15.43.50_MD657_1_0100_alignedTo_MD657-F44-2017.02.18-06.06.27_MD657_1_0130_cropped_down32/MD657-N34-2017.02.22-15.43.50_MD657_1_0100_alignedTo_MD657-F44-2017.02.18-06.06.27_MD657_1_0130_cropped_down32_sp5_denseScoreMap_setting_30.bp && mkdir -p /shared/CSHL_scoremaps_down32/MD657/MD657-N34-2017.02.22-15.43.50_MD657_1_0100_alignedTo_MD657-F44-2017.02.18-06.06.27_MD657_1_0130_cropped_down32\n",
      "aws s3 cp s3://mousebrainatlas-data/CSHL_scoremaps_down32/MD657/MD657-N34-2017.02.22-15.43.50_MD657_1_0100_alignedTo_MD657-F44-2017.02.18-06.06.27_MD657_1_0130_cropped_down32/MD657-N34-2017.02.22-15.43.50_MD657_1_0100_alignedTo_MD657-F44-2017.02.18-06.06.27_MD657_1_0130_cropped_down32_sp5_denseScoreMap_setting_30.bp /shared/CSHL_scoremaps_down32/MD657/MD657-N34-2017.02.22-15.43.50_MD657_1_0100_alignedTo_MD657-F44-2017.02.18-06.06.27_MD657_1_0130_cropped_down32/MD657-N34-2017.02.22-15.43.50_MD657_1_0100_alignedTo_MD657-F44-2017.02.18-06.06.27_MD657_1_0130_cropped_down32_sp5_denseScoreMap_setting_30.bp\n"
     ]
    },
    {
     "name": "stderr",
     "output_type": "stream",
     "text": [
      "Child returned 1\n",
      "0.33 seconds.\n",
      "Child returned 0\n"
     ]
    },
    {
     "name": "stdout",
     "output_type": "stream",
     "text": [
      "rm -rf /shared/CSHL_scoremaps_down32/MD657/MD657-N34-2017.02.22-15.43.50_MD657_2_0101_alignedTo_MD657-F44-2017.02.18-06.06.27_MD657_1_0130_cropped_down32/MD657-N34-2017.02.22-15.43.50_MD657_2_0101_alignedTo_MD657-F44-2017.02.18-06.06.27_MD657_1_0130_cropped_down32_sp5_denseScoreMap_setting_30.bp && mkdir -p /shared/CSHL_scoremaps_down32/MD657/MD657-N34-2017.02.22-15.43.50_MD657_2_0101_alignedTo_MD657-F44-2017.02.18-06.06.27_MD657_1_0130_cropped_down32\n",
      "aws s3 cp s3://mousebrainatlas-data/CSHL_scoremaps_down32/MD657/MD657-N34-2017.02.22-15.43.50_MD657_2_0101_alignedTo_MD657-F44-2017.02.18-06.06.27_MD657_1_0130_cropped_down32/MD657-N34-2017.02.22-15.43.50_MD657_2_0101_alignedTo_MD657-F44-2017.02.18-06.06.27_MD657_1_0130_cropped_down32_sp5_denseScoreMap_setting_30.bp /shared/CSHL_scoremaps_down32/MD657/MD657-N34-2017.02.22-15.43.50_MD657_2_0101_alignedTo_MD657-F44-2017.02.18-06.06.27_MD657_1_0130_cropped_down32/MD657-N34-2017.02.22-15.43.50_MD657_2_0101_alignedTo_MD657-F44-2017.02.18-06.06.27_MD657_1_0130_cropped_down32_sp5_denseScoreMap_setting_30.bp\n"
     ]
    },
    {
     "name": "stderr",
     "output_type": "stream",
     "text": [
      "Child returned 1\n",
      "0.35 seconds.\n",
      "Child returned 0\n"
     ]
    },
    {
     "name": "stdout",
     "output_type": "stream",
     "text": [
      "rm -rf /shared/CSHL_scoremaps_down32/MD657/MD657-N35-2017.02.22-15.47.51_MD657_1_0103_alignedTo_MD657-F44-2017.02.18-06.06.27_MD657_1_0130_cropped_down32/MD657-N35-2017.02.22-15.47.51_MD657_1_0103_alignedTo_MD657-F44-2017.02.18-06.06.27_MD657_1_0130_cropped_down32_sp5_denseScoreMap_setting_30.bp && mkdir -p /shared/CSHL_scoremaps_down32/MD657/MD657-N35-2017.02.22-15.47.51_MD657_1_0103_alignedTo_MD657-F44-2017.02.18-06.06.27_MD657_1_0130_cropped_down32\n",
      "aws s3 cp s3://mousebrainatlas-data/CSHL_scoremaps_down32/MD657/MD657-N35-2017.02.22-15.47.51_MD657_1_0103_alignedTo_MD657-F44-2017.02.18-06.06.27_MD657_1_0130_cropped_down32/MD657-N35-2017.02.22-15.47.51_MD657_1_0103_alignedTo_MD657-F44-2017.02.18-06.06.27_MD657_1_0130_cropped_down32_sp5_denseScoreMap_setting_30.bp /shared/CSHL_scoremaps_down32/MD657/MD657-N35-2017.02.22-15.47.51_MD657_1_0103_alignedTo_MD657-F44-2017.02.18-06.06.27_MD657_1_0130_cropped_down32/MD657-N35-2017.02.22-15.47.51_MD657_1_0103_alignedTo_MD657-F44-2017.02.18-06.06.27_MD657_1_0130_cropped_down32_sp5_denseScoreMap_setting_30.bp\n"
     ]
    },
    {
     "name": "stderr",
     "output_type": "stream",
     "text": [
      "Child returned 1\n",
      "0.33 seconds.\n",
      "Child returned 0\n"
     ]
    },
    {
     "name": "stdout",
     "output_type": "stream",
     "text": [
      "rm -rf /shared/CSHL_scoremaps_down32/MD657/MD657-N35-2017.02.22-15.47.51_MD657_2_0104_alignedTo_MD657-F44-2017.02.18-06.06.27_MD657_1_0130_cropped_down32/MD657-N35-2017.02.22-15.47.51_MD657_2_0104_alignedTo_MD657-F44-2017.02.18-06.06.27_MD657_1_0130_cropped_down32_sp5_denseScoreMap_setting_30.bp && mkdir -p /shared/CSHL_scoremaps_down32/MD657/MD657-N35-2017.02.22-15.47.51_MD657_2_0104_alignedTo_MD657-F44-2017.02.18-06.06.27_MD657_1_0130_cropped_down32\n",
      "aws s3 cp s3://mousebrainatlas-data/CSHL_scoremaps_down32/MD657/MD657-N35-2017.02.22-15.47.51_MD657_2_0104_alignedTo_MD657-F44-2017.02.18-06.06.27_MD657_1_0130_cropped_down32/MD657-N35-2017.02.22-15.47.51_MD657_2_0104_alignedTo_MD657-F44-2017.02.18-06.06.27_MD657_1_0130_cropped_down32_sp5_denseScoreMap_setting_30.bp /shared/CSHL_scoremaps_down32/MD657/MD657-N35-2017.02.22-15.47.51_MD657_2_0104_alignedTo_MD657-F44-2017.02.18-06.06.27_MD657_1_0130_cropped_down32/MD657-N35-2017.02.22-15.47.51_MD657_2_0104_alignedTo_MD657-F44-2017.02.18-06.06.27_MD657_1_0130_cropped_down32_sp5_denseScoreMap_setting_30.bp\n"
     ]
    },
    {
     "name": "stderr",
     "output_type": "stream",
     "text": [
      "Child returned 1\n",
      "0.35 seconds.\n",
      "Child returned 0\n"
     ]
    },
    {
     "name": "stdout",
     "output_type": "stream",
     "text": [
      "rm -rf /shared/CSHL_scoremaps_down32/MD657/MD657-N36-2017.02.22-15.51.49_MD657_1_0106_alignedTo_MD657-F44-2017.02.18-06.06.27_MD657_1_0130_cropped_down32/MD657-N36-2017.02.22-15.51.49_MD657_1_0106_alignedTo_MD657-F44-2017.02.18-06.06.27_MD657_1_0130_cropped_down32_sp5_denseScoreMap_setting_30.bp && mkdir -p /shared/CSHL_scoremaps_down32/MD657/MD657-N36-2017.02.22-15.51.49_MD657_1_0106_alignedTo_MD657-F44-2017.02.18-06.06.27_MD657_1_0130_cropped_down32\n",
      "aws s3 cp s3://mousebrainatlas-data/CSHL_scoremaps_down32/MD657/MD657-N36-2017.02.22-15.51.49_MD657_1_0106_alignedTo_MD657-F44-2017.02.18-06.06.27_MD657_1_0130_cropped_down32/MD657-N36-2017.02.22-15.51.49_MD657_1_0106_alignedTo_MD657-F44-2017.02.18-06.06.27_MD657_1_0130_cropped_down32_sp5_denseScoreMap_setting_30.bp /shared/CSHL_scoremaps_down32/MD657/MD657-N36-2017.02.22-15.51.49_MD657_1_0106_alignedTo_MD657-F44-2017.02.18-06.06.27_MD657_1_0130_cropped_down32/MD657-N36-2017.02.22-15.51.49_MD657_1_0106_alignedTo_MD657-F44-2017.02.18-06.06.27_MD657_1_0130_cropped_down32_sp5_denseScoreMap_setting_30.bp\n"
     ]
    },
    {
     "name": "stderr",
     "output_type": "stream",
     "text": [
      "Child returned 1\n",
      "0.32 seconds.\n",
      "Child returned 0\n"
     ]
    },
    {
     "name": "stdout",
     "output_type": "stream",
     "text": [
      "rm -rf /shared/CSHL_scoremaps_down32/MD657/MD657-N36-2017.02.22-15.51.49_MD657_2_0107_alignedTo_MD657-F44-2017.02.18-06.06.27_MD657_1_0130_cropped_down32/MD657-N36-2017.02.22-15.51.49_MD657_2_0107_alignedTo_MD657-F44-2017.02.18-06.06.27_MD657_1_0130_cropped_down32_sp5_denseScoreMap_setting_30.bp && mkdir -p /shared/CSHL_scoremaps_down32/MD657/MD657-N36-2017.02.22-15.51.49_MD657_2_0107_alignedTo_MD657-F44-2017.02.18-06.06.27_MD657_1_0130_cropped_down32\n",
      "aws s3 cp s3://mousebrainatlas-data/CSHL_scoremaps_down32/MD657/MD657-N36-2017.02.22-15.51.49_MD657_2_0107_alignedTo_MD657-F44-2017.02.18-06.06.27_MD657_1_0130_cropped_down32/MD657-N36-2017.02.22-15.51.49_MD657_2_0107_alignedTo_MD657-F44-2017.02.18-06.06.27_MD657_1_0130_cropped_down32_sp5_denseScoreMap_setting_30.bp /shared/CSHL_scoremaps_down32/MD657/MD657-N36-2017.02.22-15.51.49_MD657_2_0107_alignedTo_MD657-F44-2017.02.18-06.06.27_MD657_1_0130_cropped_down32/MD657-N36-2017.02.22-15.51.49_MD657_2_0107_alignedTo_MD657-F44-2017.02.18-06.06.27_MD657_1_0130_cropped_down32_sp5_denseScoreMap_setting_30.bp\n"
     ]
    },
    {
     "name": "stderr",
     "output_type": "stream",
     "text": [
      "Child returned 1\n",
      "0.33 seconds.\n",
      "Child returned 0\n"
     ]
    },
    {
     "name": "stdout",
     "output_type": "stream",
     "text": [
      "rm -rf /shared/CSHL_scoremaps_down32/MD657/MD657-N37-2017.02.22-15.55.56_MD657_1_0109_alignedTo_MD657-F44-2017.02.18-06.06.27_MD657_1_0130_cropped_down32/MD657-N37-2017.02.22-15.55.56_MD657_1_0109_alignedTo_MD657-F44-2017.02.18-06.06.27_MD657_1_0130_cropped_down32_sp5_denseScoreMap_setting_30.bp && mkdir -p /shared/CSHL_scoremaps_down32/MD657/MD657-N37-2017.02.22-15.55.56_MD657_1_0109_alignedTo_MD657-F44-2017.02.18-06.06.27_MD657_1_0130_cropped_down32\n",
      "aws s3 cp s3://mousebrainatlas-data/CSHL_scoremaps_down32/MD657/MD657-N37-2017.02.22-15.55.56_MD657_1_0109_alignedTo_MD657-F44-2017.02.18-06.06.27_MD657_1_0130_cropped_down32/MD657-N37-2017.02.22-15.55.56_MD657_1_0109_alignedTo_MD657-F44-2017.02.18-06.06.27_MD657_1_0130_cropped_down32_sp5_denseScoreMap_setting_30.bp /shared/CSHL_scoremaps_down32/MD657/MD657-N37-2017.02.22-15.55.56_MD657_1_0109_alignedTo_MD657-F44-2017.02.18-06.06.27_MD657_1_0130_cropped_down32/MD657-N37-2017.02.22-15.55.56_MD657_1_0109_alignedTo_MD657-F44-2017.02.18-06.06.27_MD657_1_0130_cropped_down32_sp5_denseScoreMap_setting_30.bp\n"
     ]
    },
    {
     "name": "stderr",
     "output_type": "stream",
     "text": [
      "Child returned 1\n",
      "0.33 seconds.\n",
      "Child returned 0\n"
     ]
    },
    {
     "name": "stdout",
     "output_type": "stream",
     "text": [
      "rm -rf /shared/CSHL_scoremaps_down32/MD657/MD657-N37-2017.02.22-15.55.56_MD657_2_0110_alignedTo_MD657-F44-2017.02.18-06.06.27_MD657_1_0130_cropped_down32/MD657-N37-2017.02.22-15.55.56_MD657_2_0110_alignedTo_MD657-F44-2017.02.18-06.06.27_MD657_1_0130_cropped_down32_sp5_denseScoreMap_setting_30.bp && mkdir -p /shared/CSHL_scoremaps_down32/MD657/MD657-N37-2017.02.22-15.55.56_MD657_2_0110_alignedTo_MD657-F44-2017.02.18-06.06.27_MD657_1_0130_cropped_down32\n",
      "aws s3 cp s3://mousebrainatlas-data/CSHL_scoremaps_down32/MD657/MD657-N37-2017.02.22-15.55.56_MD657_2_0110_alignedTo_MD657-F44-2017.02.18-06.06.27_MD657_1_0130_cropped_down32/MD657-N37-2017.02.22-15.55.56_MD657_2_0110_alignedTo_MD657-F44-2017.02.18-06.06.27_MD657_1_0130_cropped_down32_sp5_denseScoreMap_setting_30.bp /shared/CSHL_scoremaps_down32/MD657/MD657-N37-2017.02.22-15.55.56_MD657_2_0110_alignedTo_MD657-F44-2017.02.18-06.06.27_MD657_1_0130_cropped_down32/MD657-N37-2017.02.22-15.55.56_MD657_2_0110_alignedTo_MD657-F44-2017.02.18-06.06.27_MD657_1_0130_cropped_down32_sp5_denseScoreMap_setting_30.bp\n"
     ]
    },
    {
     "name": "stderr",
     "output_type": "stream",
     "text": [
      "Child returned 1\n",
      "0.34 seconds.\n",
      "Child returned 0\n"
     ]
    },
    {
     "name": "stdout",
     "output_type": "stream",
     "text": [
      "rm -rf /shared/CSHL_scoremaps_down32/MD657/MD657-N38-2017.02.22-16.00.02_MD657_1_0112_alignedTo_MD657-F44-2017.02.18-06.06.27_MD657_1_0130_cropped_down32/MD657-N38-2017.02.22-16.00.02_MD657_1_0112_alignedTo_MD657-F44-2017.02.18-06.06.27_MD657_1_0130_cropped_down32_sp5_denseScoreMap_setting_30.bp && mkdir -p /shared/CSHL_scoremaps_down32/MD657/MD657-N38-2017.02.22-16.00.02_MD657_1_0112_alignedTo_MD657-F44-2017.02.18-06.06.27_MD657_1_0130_cropped_down32\n",
      "aws s3 cp s3://mousebrainatlas-data/CSHL_scoremaps_down32/MD657/MD657-N38-2017.02.22-16.00.02_MD657_1_0112_alignedTo_MD657-F44-2017.02.18-06.06.27_MD657_1_0130_cropped_down32/MD657-N38-2017.02.22-16.00.02_MD657_1_0112_alignedTo_MD657-F44-2017.02.18-06.06.27_MD657_1_0130_cropped_down32_sp5_denseScoreMap_setting_30.bp /shared/CSHL_scoremaps_down32/MD657/MD657-N38-2017.02.22-16.00.02_MD657_1_0112_alignedTo_MD657-F44-2017.02.18-06.06.27_MD657_1_0130_cropped_down32/MD657-N38-2017.02.22-16.00.02_MD657_1_0112_alignedTo_MD657-F44-2017.02.18-06.06.27_MD657_1_0130_cropped_down32_sp5_denseScoreMap_setting_30.bp\n"
     ]
    },
    {
     "name": "stderr",
     "output_type": "stream",
     "text": [
      "Child returned 1\n",
      "0.33 seconds.\n",
      "Child returned 0\n"
     ]
    },
    {
     "name": "stdout",
     "output_type": "stream",
     "text": [
      "rm -rf /shared/CSHL_scoremaps_down32/MD657/MD657-N38-2017.02.22-16.00.02_MD657_2_0113_alignedTo_MD657-F44-2017.02.18-06.06.27_MD657_1_0130_cropped_down32/MD657-N38-2017.02.22-16.00.02_MD657_2_0113_alignedTo_MD657-F44-2017.02.18-06.06.27_MD657_1_0130_cropped_down32_sp5_denseScoreMap_setting_30.bp && mkdir -p /shared/CSHL_scoremaps_down32/MD657/MD657-N38-2017.02.22-16.00.02_MD657_2_0113_alignedTo_MD657-F44-2017.02.18-06.06.27_MD657_1_0130_cropped_down32\n",
      "aws s3 cp s3://mousebrainatlas-data/CSHL_scoremaps_down32/MD657/MD657-N38-2017.02.22-16.00.02_MD657_2_0113_alignedTo_MD657-F44-2017.02.18-06.06.27_MD657_1_0130_cropped_down32/MD657-N38-2017.02.22-16.00.02_MD657_2_0113_alignedTo_MD657-F44-2017.02.18-06.06.27_MD657_1_0130_cropped_down32_sp5_denseScoreMap_setting_30.bp /shared/CSHL_scoremaps_down32/MD657/MD657-N38-2017.02.22-16.00.02_MD657_2_0113_alignedTo_MD657-F44-2017.02.18-06.06.27_MD657_1_0130_cropped_down32/MD657-N38-2017.02.22-16.00.02_MD657_2_0113_alignedTo_MD657-F44-2017.02.18-06.06.27_MD657_1_0130_cropped_down32_sp5_denseScoreMap_setting_30.bp\n"
     ]
    },
    {
     "name": "stderr",
     "output_type": "stream",
     "text": [
      "Child returned 1\n",
      "0.34 seconds.\n",
      "Child returned 0\n"
     ]
    },
    {
     "name": "stdout",
     "output_type": "stream",
     "text": [
      "rm -rf /shared/CSHL_scoremaps_down32/MD657/MD657-N39-2017.02.22-16.04.05_MD657_1_0115_alignedTo_MD657-F44-2017.02.18-06.06.27_MD657_1_0130_cropped_down32/MD657-N39-2017.02.22-16.04.05_MD657_1_0115_alignedTo_MD657-F44-2017.02.18-06.06.27_MD657_1_0130_cropped_down32_sp5_denseScoreMap_setting_30.bp && mkdir -p /shared/CSHL_scoremaps_down32/MD657/MD657-N39-2017.02.22-16.04.05_MD657_1_0115_alignedTo_MD657-F44-2017.02.18-06.06.27_MD657_1_0130_cropped_down32\n",
      "aws s3 cp s3://mousebrainatlas-data/CSHL_scoremaps_down32/MD657/MD657-N39-2017.02.22-16.04.05_MD657_1_0115_alignedTo_MD657-F44-2017.02.18-06.06.27_MD657_1_0130_cropped_down32/MD657-N39-2017.02.22-16.04.05_MD657_1_0115_alignedTo_MD657-F44-2017.02.18-06.06.27_MD657_1_0130_cropped_down32_sp5_denseScoreMap_setting_30.bp /shared/CSHL_scoremaps_down32/MD657/MD657-N39-2017.02.22-16.04.05_MD657_1_0115_alignedTo_MD657-F44-2017.02.18-06.06.27_MD657_1_0130_cropped_down32/MD657-N39-2017.02.22-16.04.05_MD657_1_0115_alignedTo_MD657-F44-2017.02.18-06.06.27_MD657_1_0130_cropped_down32_sp5_denseScoreMap_setting_30.bp\n"
     ]
    },
    {
     "name": "stderr",
     "output_type": "stream",
     "text": [
      "Child returned 1\n",
      "0.33 seconds.\n",
      "Child returned 0\n"
     ]
    },
    {
     "name": "stdout",
     "output_type": "stream",
     "text": [
      "rm -rf /shared/CSHL_scoremaps_down32/MD657/MD657-N39-2017.02.22-16.04.05_MD657_2_0116_alignedTo_MD657-F44-2017.02.18-06.06.27_MD657_1_0130_cropped_down32/MD657-N39-2017.02.22-16.04.05_MD657_2_0116_alignedTo_MD657-F44-2017.02.18-06.06.27_MD657_1_0130_cropped_down32_sp5_denseScoreMap_setting_30.bp && mkdir -p /shared/CSHL_scoremaps_down32/MD657/MD657-N39-2017.02.22-16.04.05_MD657_2_0116_alignedTo_MD657-F44-2017.02.18-06.06.27_MD657_1_0130_cropped_down32\n",
      "aws s3 cp s3://mousebrainatlas-data/CSHL_scoremaps_down32/MD657/MD657-N39-2017.02.22-16.04.05_MD657_2_0116_alignedTo_MD657-F44-2017.02.18-06.06.27_MD657_1_0130_cropped_down32/MD657-N39-2017.02.22-16.04.05_MD657_2_0116_alignedTo_MD657-F44-2017.02.18-06.06.27_MD657_1_0130_cropped_down32_sp5_denseScoreMap_setting_30.bp /shared/CSHL_scoremaps_down32/MD657/MD657-N39-2017.02.22-16.04.05_MD657_2_0116_alignedTo_MD657-F44-2017.02.18-06.06.27_MD657_1_0130_cropped_down32/MD657-N39-2017.02.22-16.04.05_MD657_2_0116_alignedTo_MD657-F44-2017.02.18-06.06.27_MD657_1_0130_cropped_down32_sp5_denseScoreMap_setting_30.bp\n"
     ]
    },
    {
     "name": "stderr",
     "output_type": "stream",
     "text": [
      "Child returned 1\n",
      "0.33 seconds.\n",
      "Child returned 0\n"
     ]
    },
    {
     "name": "stdout",
     "output_type": "stream",
     "text": [
      "rm -rf /shared/CSHL_scoremaps_down32/MD657/MD657-N40-2017.02.22-16.08.37_MD657_1_0118_alignedTo_MD657-F44-2017.02.18-06.06.27_MD657_1_0130_cropped_down32/MD657-N40-2017.02.22-16.08.37_MD657_1_0118_alignedTo_MD657-F44-2017.02.18-06.06.27_MD657_1_0130_cropped_down32_sp5_denseScoreMap_setting_30.bp && mkdir -p /shared/CSHL_scoremaps_down32/MD657/MD657-N40-2017.02.22-16.08.37_MD657_1_0118_alignedTo_MD657-F44-2017.02.18-06.06.27_MD657_1_0130_cropped_down32\n",
      "aws s3 cp s3://mousebrainatlas-data/CSHL_scoremaps_down32/MD657/MD657-N40-2017.02.22-16.08.37_MD657_1_0118_alignedTo_MD657-F44-2017.02.18-06.06.27_MD657_1_0130_cropped_down32/MD657-N40-2017.02.22-16.08.37_MD657_1_0118_alignedTo_MD657-F44-2017.02.18-06.06.27_MD657_1_0130_cropped_down32_sp5_denseScoreMap_setting_30.bp /shared/CSHL_scoremaps_down32/MD657/MD657-N40-2017.02.22-16.08.37_MD657_1_0118_alignedTo_MD657-F44-2017.02.18-06.06.27_MD657_1_0130_cropped_down32/MD657-N40-2017.02.22-16.08.37_MD657_1_0118_alignedTo_MD657-F44-2017.02.18-06.06.27_MD657_1_0130_cropped_down32_sp5_denseScoreMap_setting_30.bp\n"
     ]
    },
    {
     "name": "stderr",
     "output_type": "stream",
     "text": [
      "Child returned 1\n",
      "0.33 seconds.\n",
      "Child returned 0\n"
     ]
    },
    {
     "name": "stdout",
     "output_type": "stream",
     "text": [
      "rm -rf /shared/CSHL_scoremaps_down32/MD657/MD657-N40-2017.02.22-16.08.37_MD657_2_0119_alignedTo_MD657-F44-2017.02.18-06.06.27_MD657_1_0130_cropped_down32/MD657-N40-2017.02.22-16.08.37_MD657_2_0119_alignedTo_MD657-F44-2017.02.18-06.06.27_MD657_1_0130_cropped_down32_sp5_denseScoreMap_setting_30.bp && mkdir -p /shared/CSHL_scoremaps_down32/MD657/MD657-N40-2017.02.22-16.08.37_MD657_2_0119_alignedTo_MD657-F44-2017.02.18-06.06.27_MD657_1_0130_cropped_down32\n",
      "aws s3 cp s3://mousebrainatlas-data/CSHL_scoremaps_down32/MD657/MD657-N40-2017.02.22-16.08.37_MD657_2_0119_alignedTo_MD657-F44-2017.02.18-06.06.27_MD657_1_0130_cropped_down32/MD657-N40-2017.02.22-16.08.37_MD657_2_0119_alignedTo_MD657-F44-2017.02.18-06.06.27_MD657_1_0130_cropped_down32_sp5_denseScoreMap_setting_30.bp /shared/CSHL_scoremaps_down32/MD657/MD657-N40-2017.02.22-16.08.37_MD657_2_0119_alignedTo_MD657-F44-2017.02.18-06.06.27_MD657_1_0130_cropped_down32/MD657-N40-2017.02.22-16.08.37_MD657_2_0119_alignedTo_MD657-F44-2017.02.18-06.06.27_MD657_1_0130_cropped_down32_sp5_denseScoreMap_setting_30.bp\n"
     ]
    },
    {
     "name": "stderr",
     "output_type": "stream",
     "text": [
      "Child returned 1\n",
      "0.35 seconds.\n",
      "Child returned 0\n"
     ]
    },
    {
     "name": "stdout",
     "output_type": "stream",
     "text": [
      "rm -rf /shared/CSHL_scoremaps_down32/MD657/MD657-N41-2017.02.22-16.12.45_MD657_1_0121_alignedTo_MD657-F44-2017.02.18-06.06.27_MD657_1_0130_cropped_down32/MD657-N41-2017.02.22-16.12.45_MD657_1_0121_alignedTo_MD657-F44-2017.02.18-06.06.27_MD657_1_0130_cropped_down32_sp5_denseScoreMap_setting_30.bp && mkdir -p /shared/CSHL_scoremaps_down32/MD657/MD657-N41-2017.02.22-16.12.45_MD657_1_0121_alignedTo_MD657-F44-2017.02.18-06.06.27_MD657_1_0130_cropped_down32\n",
      "aws s3 cp s3://mousebrainatlas-data/CSHL_scoremaps_down32/MD657/MD657-N41-2017.02.22-16.12.45_MD657_1_0121_alignedTo_MD657-F44-2017.02.18-06.06.27_MD657_1_0130_cropped_down32/MD657-N41-2017.02.22-16.12.45_MD657_1_0121_alignedTo_MD657-F44-2017.02.18-06.06.27_MD657_1_0130_cropped_down32_sp5_denseScoreMap_setting_30.bp /shared/CSHL_scoremaps_down32/MD657/MD657-N41-2017.02.22-16.12.45_MD657_1_0121_alignedTo_MD657-F44-2017.02.18-06.06.27_MD657_1_0130_cropped_down32/MD657-N41-2017.02.22-16.12.45_MD657_1_0121_alignedTo_MD657-F44-2017.02.18-06.06.27_MD657_1_0130_cropped_down32_sp5_denseScoreMap_setting_30.bp\n"
     ]
    },
    {
     "name": "stderr",
     "output_type": "stream",
     "text": [
      "Child returned 1\n",
      "0.34 seconds.\n",
      "Child returned 0\n"
     ]
    },
    {
     "name": "stdout",
     "output_type": "stream",
     "text": [
      "rm -rf /shared/CSHL_scoremaps_down32/MD657/MD657-N41-2017.02.22-16.12.45_MD657_2_0122_alignedTo_MD657-F44-2017.02.18-06.06.27_MD657_1_0130_cropped_down32/MD657-N41-2017.02.22-16.12.45_MD657_2_0122_alignedTo_MD657-F44-2017.02.18-06.06.27_MD657_1_0130_cropped_down32_sp5_denseScoreMap_setting_30.bp && mkdir -p /shared/CSHL_scoremaps_down32/MD657/MD657-N41-2017.02.22-16.12.45_MD657_2_0122_alignedTo_MD657-F44-2017.02.18-06.06.27_MD657_1_0130_cropped_down32\n",
      "aws s3 cp s3://mousebrainatlas-data/CSHL_scoremaps_down32/MD657/MD657-N41-2017.02.22-16.12.45_MD657_2_0122_alignedTo_MD657-F44-2017.02.18-06.06.27_MD657_1_0130_cropped_down32/MD657-N41-2017.02.22-16.12.45_MD657_2_0122_alignedTo_MD657-F44-2017.02.18-06.06.27_MD657_1_0130_cropped_down32_sp5_denseScoreMap_setting_30.bp /shared/CSHL_scoremaps_down32/MD657/MD657-N41-2017.02.22-16.12.45_MD657_2_0122_alignedTo_MD657-F44-2017.02.18-06.06.27_MD657_1_0130_cropped_down32/MD657-N41-2017.02.22-16.12.45_MD657_2_0122_alignedTo_MD657-F44-2017.02.18-06.06.27_MD657_1_0130_cropped_down32_sp5_denseScoreMap_setting_30.bp\n"
     ]
    },
    {
     "name": "stderr",
     "output_type": "stream",
     "text": [
      "Child returned 1\n",
      "0.33 seconds.\n",
      "Child returned 0\n"
     ]
    },
    {
     "name": "stdout",
     "output_type": "stream",
     "text": [
      "rm -rf /shared/CSHL_scoremaps_down32/MD657/MD657-N42-2017.02.22-16.16.50_MD657_1_0124_alignedTo_MD657-F44-2017.02.18-06.06.27_MD657_1_0130_cropped_down32/MD657-N42-2017.02.22-16.16.50_MD657_1_0124_alignedTo_MD657-F44-2017.02.18-06.06.27_MD657_1_0130_cropped_down32_sp5_denseScoreMap_setting_30.bp && mkdir -p /shared/CSHL_scoremaps_down32/MD657/MD657-N42-2017.02.22-16.16.50_MD657_1_0124_alignedTo_MD657-F44-2017.02.18-06.06.27_MD657_1_0130_cropped_down32\n",
      "aws s3 cp s3://mousebrainatlas-data/CSHL_scoremaps_down32/MD657/MD657-N42-2017.02.22-16.16.50_MD657_1_0124_alignedTo_MD657-F44-2017.02.18-06.06.27_MD657_1_0130_cropped_down32/MD657-N42-2017.02.22-16.16.50_MD657_1_0124_alignedTo_MD657-F44-2017.02.18-06.06.27_MD657_1_0130_cropped_down32_sp5_denseScoreMap_setting_30.bp /shared/CSHL_scoremaps_down32/MD657/MD657-N42-2017.02.22-16.16.50_MD657_1_0124_alignedTo_MD657-F44-2017.02.18-06.06.27_MD657_1_0130_cropped_down32/MD657-N42-2017.02.22-16.16.50_MD657_1_0124_alignedTo_MD657-F44-2017.02.18-06.06.27_MD657_1_0130_cropped_down32_sp5_denseScoreMap_setting_30.bp\n"
     ]
    },
    {
     "name": "stderr",
     "output_type": "stream",
     "text": [
      "Child returned 1\n",
      "0.34 seconds.\n",
      "Child returned 0\n"
     ]
    },
    {
     "name": "stdout",
     "output_type": "stream",
     "text": [
      "rm -rf /shared/CSHL_scoremaps_down32/MD657/MD657-N42-2017.02.22-16.16.50_MD657_2_0125_alignedTo_MD657-F44-2017.02.18-06.06.27_MD657_1_0130_cropped_down32/MD657-N42-2017.02.22-16.16.50_MD657_2_0125_alignedTo_MD657-F44-2017.02.18-06.06.27_MD657_1_0130_cropped_down32_sp5_denseScoreMap_setting_30.bp && mkdir -p /shared/CSHL_scoremaps_down32/MD657/MD657-N42-2017.02.22-16.16.50_MD657_2_0125_alignedTo_MD657-F44-2017.02.18-06.06.27_MD657_1_0130_cropped_down32\n",
      "aws s3 cp s3://mousebrainatlas-data/CSHL_scoremaps_down32/MD657/MD657-N42-2017.02.22-16.16.50_MD657_2_0125_alignedTo_MD657-F44-2017.02.18-06.06.27_MD657_1_0130_cropped_down32/MD657-N42-2017.02.22-16.16.50_MD657_2_0125_alignedTo_MD657-F44-2017.02.18-06.06.27_MD657_1_0130_cropped_down32_sp5_denseScoreMap_setting_30.bp /shared/CSHL_scoremaps_down32/MD657/MD657-N42-2017.02.22-16.16.50_MD657_2_0125_alignedTo_MD657-F44-2017.02.18-06.06.27_MD657_1_0130_cropped_down32/MD657-N42-2017.02.22-16.16.50_MD657_2_0125_alignedTo_MD657-F44-2017.02.18-06.06.27_MD657_1_0130_cropped_down32_sp5_denseScoreMap_setting_30.bp\n"
     ]
    },
    {
     "name": "stderr",
     "output_type": "stream",
     "text": [
      "Child returned 1\n",
      "0.33 seconds.\n",
      "Child returned 0\n"
     ]
    },
    {
     "name": "stdout",
     "output_type": "stream",
     "text": [
      "rm -rf /shared/CSHL_scoremaps_down32/MD657/MD657-N43-2017.02.22-16.21.20_MD657_1_0127_alignedTo_MD657-F44-2017.02.18-06.06.27_MD657_1_0130_cropped_down32/MD657-N43-2017.02.22-16.21.20_MD657_1_0127_alignedTo_MD657-F44-2017.02.18-06.06.27_MD657_1_0130_cropped_down32_sp5_denseScoreMap_setting_30.bp && mkdir -p /shared/CSHL_scoremaps_down32/MD657/MD657-N43-2017.02.22-16.21.20_MD657_1_0127_alignedTo_MD657-F44-2017.02.18-06.06.27_MD657_1_0130_cropped_down32\n",
      "aws s3 cp s3://mousebrainatlas-data/CSHL_scoremaps_down32/MD657/MD657-N43-2017.02.22-16.21.20_MD657_1_0127_alignedTo_MD657-F44-2017.02.18-06.06.27_MD657_1_0130_cropped_down32/MD657-N43-2017.02.22-16.21.20_MD657_1_0127_alignedTo_MD657-F44-2017.02.18-06.06.27_MD657_1_0130_cropped_down32_sp5_denseScoreMap_setting_30.bp /shared/CSHL_scoremaps_down32/MD657/MD657-N43-2017.02.22-16.21.20_MD657_1_0127_alignedTo_MD657-F44-2017.02.18-06.06.27_MD657_1_0130_cropped_down32/MD657-N43-2017.02.22-16.21.20_MD657_1_0127_alignedTo_MD657-F44-2017.02.18-06.06.27_MD657_1_0130_cropped_down32_sp5_denseScoreMap_setting_30.bp\n"
     ]
    },
    {
     "name": "stderr",
     "output_type": "stream",
     "text": [
      "Child returned 1\n",
      "0.33 seconds.\n",
      "Child returned 0\n"
     ]
    },
    {
     "name": "stdout",
     "output_type": "stream",
     "text": [
      "rm -rf /shared/CSHL_scoremaps_down32/MD657/MD657-N44-2017.02.22-16.25.25_MD657_1_0130_alignedTo_MD657-F44-2017.02.18-06.06.27_MD657_1_0130_cropped_down32/MD657-N44-2017.02.22-16.25.25_MD657_1_0130_alignedTo_MD657-F44-2017.02.18-06.06.27_MD657_1_0130_cropped_down32_sp5_denseScoreMap_setting_30.bp && mkdir -p /shared/CSHL_scoremaps_down32/MD657/MD657-N44-2017.02.22-16.25.25_MD657_1_0130_alignedTo_MD657-F44-2017.02.18-06.06.27_MD657_1_0130_cropped_down32\n",
      "aws s3 cp s3://mousebrainatlas-data/CSHL_scoremaps_down32/MD657/MD657-N44-2017.02.22-16.25.25_MD657_1_0130_alignedTo_MD657-F44-2017.02.18-06.06.27_MD657_1_0130_cropped_down32/MD657-N44-2017.02.22-16.25.25_MD657_1_0130_alignedTo_MD657-F44-2017.02.18-06.06.27_MD657_1_0130_cropped_down32_sp5_denseScoreMap_setting_30.bp /shared/CSHL_scoremaps_down32/MD657/MD657-N44-2017.02.22-16.25.25_MD657_1_0130_alignedTo_MD657-F44-2017.02.18-06.06.27_MD657_1_0130_cropped_down32/MD657-N44-2017.02.22-16.25.25_MD657_1_0130_alignedTo_MD657-F44-2017.02.18-06.06.27_MD657_1_0130_cropped_down32_sp5_denseScoreMap_setting_30.bp\n"
     ]
    },
    {
     "name": "stderr",
     "output_type": "stream",
     "text": [
      "Child returned 1\n",
      "0.33 seconds.\n",
      "Child returned 0\n"
     ]
    },
    {
     "name": "stdout",
     "output_type": "stream",
     "text": [
      "rm -rf /shared/CSHL_scoremaps_down32/MD657/MD657-N44-2017.02.22-16.25.25_MD657_2_0131_alignedTo_MD657-F44-2017.02.18-06.06.27_MD657_1_0130_cropped_down32/MD657-N44-2017.02.22-16.25.25_MD657_2_0131_alignedTo_MD657-F44-2017.02.18-06.06.27_MD657_1_0130_cropped_down32_sp5_denseScoreMap_setting_30.bp && mkdir -p /shared/CSHL_scoremaps_down32/MD657/MD657-N44-2017.02.22-16.25.25_MD657_2_0131_alignedTo_MD657-F44-2017.02.18-06.06.27_MD657_1_0130_cropped_down32\n",
      "aws s3 cp s3://mousebrainatlas-data/CSHL_scoremaps_down32/MD657/MD657-N44-2017.02.22-16.25.25_MD657_2_0131_alignedTo_MD657-F44-2017.02.18-06.06.27_MD657_1_0130_cropped_down32/MD657-N44-2017.02.22-16.25.25_MD657_2_0131_alignedTo_MD657-F44-2017.02.18-06.06.27_MD657_1_0130_cropped_down32_sp5_denseScoreMap_setting_30.bp /shared/CSHL_scoremaps_down32/MD657/MD657-N44-2017.02.22-16.25.25_MD657_2_0131_alignedTo_MD657-F44-2017.02.18-06.06.27_MD657_1_0130_cropped_down32/MD657-N44-2017.02.22-16.25.25_MD657_2_0131_alignedTo_MD657-F44-2017.02.18-06.06.27_MD657_1_0130_cropped_down32_sp5_denseScoreMap_setting_30.bp\n"
     ]
    },
    {
     "name": "stderr",
     "output_type": "stream",
     "text": [
      "Child returned 1\n",
      "0.34 seconds.\n",
      "Child returned 0\n"
     ]
    },
    {
     "name": "stdout",
     "output_type": "stream",
     "text": [
      "rm -rf /shared/CSHL_scoremaps_down32/MD657/MD657-N45-2017.02.22-16.29.38_MD657_1_0133_alignedTo_MD657-F44-2017.02.18-06.06.27_MD657_1_0130_cropped_down32/MD657-N45-2017.02.22-16.29.38_MD657_1_0133_alignedTo_MD657-F44-2017.02.18-06.06.27_MD657_1_0130_cropped_down32_sp5_denseScoreMap_setting_30.bp && mkdir -p /shared/CSHL_scoremaps_down32/MD657/MD657-N45-2017.02.22-16.29.38_MD657_1_0133_alignedTo_MD657-F44-2017.02.18-06.06.27_MD657_1_0130_cropped_down32\n",
      "aws s3 cp s3://mousebrainatlas-data/CSHL_scoremaps_down32/MD657/MD657-N45-2017.02.22-16.29.38_MD657_1_0133_alignedTo_MD657-F44-2017.02.18-06.06.27_MD657_1_0130_cropped_down32/MD657-N45-2017.02.22-16.29.38_MD657_1_0133_alignedTo_MD657-F44-2017.02.18-06.06.27_MD657_1_0130_cropped_down32_sp5_denseScoreMap_setting_30.bp /shared/CSHL_scoremaps_down32/MD657/MD657-N45-2017.02.22-16.29.38_MD657_1_0133_alignedTo_MD657-F44-2017.02.18-06.06.27_MD657_1_0130_cropped_down32/MD657-N45-2017.02.22-16.29.38_MD657_1_0133_alignedTo_MD657-F44-2017.02.18-06.06.27_MD657_1_0130_cropped_down32_sp5_denseScoreMap_setting_30.bp\n"
     ]
    },
    {
     "name": "stderr",
     "output_type": "stream",
     "text": [
      "Child returned 1\n",
      "0.34 seconds.\n",
      "Child returned 0\n"
     ]
    },
    {
     "name": "stdout",
     "output_type": "stream",
     "text": [
      "rm -rf /shared/CSHL_scoremaps_down32/MD657/MD657-N45-2017.02.22-16.29.38_MD657_2_0134_alignedTo_MD657-F44-2017.02.18-06.06.27_MD657_1_0130_cropped_down32/MD657-N45-2017.02.22-16.29.38_MD657_2_0134_alignedTo_MD657-F44-2017.02.18-06.06.27_MD657_1_0130_cropped_down32_sp5_denseScoreMap_setting_30.bp && mkdir -p /shared/CSHL_scoremaps_down32/MD657/MD657-N45-2017.02.22-16.29.38_MD657_2_0134_alignedTo_MD657-F44-2017.02.18-06.06.27_MD657_1_0130_cropped_down32\n",
      "aws s3 cp s3://mousebrainatlas-data/CSHL_scoremaps_down32/MD657/MD657-N45-2017.02.22-16.29.38_MD657_2_0134_alignedTo_MD657-F44-2017.02.18-06.06.27_MD657_1_0130_cropped_down32/MD657-N45-2017.02.22-16.29.38_MD657_2_0134_alignedTo_MD657-F44-2017.02.18-06.06.27_MD657_1_0130_cropped_down32_sp5_denseScoreMap_setting_30.bp /shared/CSHL_scoremaps_down32/MD657/MD657-N45-2017.02.22-16.29.38_MD657_2_0134_alignedTo_MD657-F44-2017.02.18-06.06.27_MD657_1_0130_cropped_down32/MD657-N45-2017.02.22-16.29.38_MD657_2_0134_alignedTo_MD657-F44-2017.02.18-06.06.27_MD657_1_0130_cropped_down32_sp5_denseScoreMap_setting_30.bp\n"
     ]
    },
    {
     "name": "stderr",
     "output_type": "stream",
     "text": [
      "Child returned 1\n",
      "0.33 seconds.\n",
      "Child returned 0\n"
     ]
    },
    {
     "name": "stdout",
     "output_type": "stream",
     "text": [
      "rm -rf /shared/CSHL_scoremaps_down32/MD657/MD657-N46-2017.02.22-16.33.47_MD657_1_0136_alignedTo_MD657-F44-2017.02.18-06.06.27_MD657_1_0130_cropped_down32/MD657-N46-2017.02.22-16.33.47_MD657_1_0136_alignedTo_MD657-F44-2017.02.18-06.06.27_MD657_1_0130_cropped_down32_sp5_denseScoreMap_setting_30.bp && mkdir -p /shared/CSHL_scoremaps_down32/MD657/MD657-N46-2017.02.22-16.33.47_MD657_1_0136_alignedTo_MD657-F44-2017.02.18-06.06.27_MD657_1_0130_cropped_down32\n",
      "aws s3 cp s3://mousebrainatlas-data/CSHL_scoremaps_down32/MD657/MD657-N46-2017.02.22-16.33.47_MD657_1_0136_alignedTo_MD657-F44-2017.02.18-06.06.27_MD657_1_0130_cropped_down32/MD657-N46-2017.02.22-16.33.47_MD657_1_0136_alignedTo_MD657-F44-2017.02.18-06.06.27_MD657_1_0130_cropped_down32_sp5_denseScoreMap_setting_30.bp /shared/CSHL_scoremaps_down32/MD657/MD657-N46-2017.02.22-16.33.47_MD657_1_0136_alignedTo_MD657-F44-2017.02.18-06.06.27_MD657_1_0130_cropped_down32/MD657-N46-2017.02.22-16.33.47_MD657_1_0136_alignedTo_MD657-F44-2017.02.18-06.06.27_MD657_1_0130_cropped_down32_sp5_denseScoreMap_setting_30.bp\n"
     ]
    },
    {
     "name": "stderr",
     "output_type": "stream",
     "text": [
      "Child returned 1\n",
      "0.34 seconds.\n",
      "Child returned 0\n"
     ]
    },
    {
     "name": "stdout",
     "output_type": "stream",
     "text": [
      "rm -rf /shared/CSHL_scoremaps_down32/MD657/MD657-N46-2017.02.22-16.33.47_MD657_2_0137_alignedTo_MD657-F44-2017.02.18-06.06.27_MD657_1_0130_cropped_down32/MD657-N46-2017.02.22-16.33.47_MD657_2_0137_alignedTo_MD657-F44-2017.02.18-06.06.27_MD657_1_0130_cropped_down32_sp5_denseScoreMap_setting_30.bp && mkdir -p /shared/CSHL_scoremaps_down32/MD657/MD657-N46-2017.02.22-16.33.47_MD657_2_0137_alignedTo_MD657-F44-2017.02.18-06.06.27_MD657_1_0130_cropped_down32\n",
      "aws s3 cp s3://mousebrainatlas-data/CSHL_scoremaps_down32/MD657/MD657-N46-2017.02.22-16.33.47_MD657_2_0137_alignedTo_MD657-F44-2017.02.18-06.06.27_MD657_1_0130_cropped_down32/MD657-N46-2017.02.22-16.33.47_MD657_2_0137_alignedTo_MD657-F44-2017.02.18-06.06.27_MD657_1_0130_cropped_down32_sp5_denseScoreMap_setting_30.bp /shared/CSHL_scoremaps_down32/MD657/MD657-N46-2017.02.22-16.33.47_MD657_2_0137_alignedTo_MD657-F44-2017.02.18-06.06.27_MD657_1_0130_cropped_down32/MD657-N46-2017.02.22-16.33.47_MD657_2_0137_alignedTo_MD657-F44-2017.02.18-06.06.27_MD657_1_0130_cropped_down32_sp5_denseScoreMap_setting_30.bp\n"
     ]
    },
    {
     "name": "stderr",
     "output_type": "stream",
     "text": [
      "Child returned 1\n",
      "0.35 seconds.\n",
      "Child returned 0\n"
     ]
    },
    {
     "name": "stdout",
     "output_type": "stream",
     "text": [
      "rm -rf /shared/CSHL_scoremaps_down32/MD657/MD657-N47-2017.02.22-16.37.53_MD657_1_0139_alignedTo_MD657-F44-2017.02.18-06.06.27_MD657_1_0130_cropped_down32/MD657-N47-2017.02.22-16.37.53_MD657_1_0139_alignedTo_MD657-F44-2017.02.18-06.06.27_MD657_1_0130_cropped_down32_sp5_denseScoreMap_setting_30.bp && mkdir -p /shared/CSHL_scoremaps_down32/MD657/MD657-N47-2017.02.22-16.37.53_MD657_1_0139_alignedTo_MD657-F44-2017.02.18-06.06.27_MD657_1_0130_cropped_down32\n",
      "aws s3 cp s3://mousebrainatlas-data/CSHL_scoremaps_down32/MD657/MD657-N47-2017.02.22-16.37.53_MD657_1_0139_alignedTo_MD657-F44-2017.02.18-06.06.27_MD657_1_0130_cropped_down32/MD657-N47-2017.02.22-16.37.53_MD657_1_0139_alignedTo_MD657-F44-2017.02.18-06.06.27_MD657_1_0130_cropped_down32_sp5_denseScoreMap_setting_30.bp /shared/CSHL_scoremaps_down32/MD657/MD657-N47-2017.02.22-16.37.53_MD657_1_0139_alignedTo_MD657-F44-2017.02.18-06.06.27_MD657_1_0130_cropped_down32/MD657-N47-2017.02.22-16.37.53_MD657_1_0139_alignedTo_MD657-F44-2017.02.18-06.06.27_MD657_1_0130_cropped_down32_sp5_denseScoreMap_setting_30.bp\n"
     ]
    },
    {
     "name": "stderr",
     "output_type": "stream",
     "text": [
      "Child returned 1\n",
      "0.34 seconds.\n",
      "Child returned 0\n"
     ]
    },
    {
     "name": "stdout",
     "output_type": "stream",
     "text": [
      "rm -rf /shared/CSHL_scoremaps_down32/MD657/MD657-N47-2017.02.22-16.37.53_MD657_2_0140_alignedTo_MD657-F44-2017.02.18-06.06.27_MD657_1_0130_cropped_down32/MD657-N47-2017.02.22-16.37.53_MD657_2_0140_alignedTo_MD657-F44-2017.02.18-06.06.27_MD657_1_0130_cropped_down32_sp5_denseScoreMap_setting_30.bp && mkdir -p /shared/CSHL_scoremaps_down32/MD657/MD657-N47-2017.02.22-16.37.53_MD657_2_0140_alignedTo_MD657-F44-2017.02.18-06.06.27_MD657_1_0130_cropped_down32\n",
      "aws s3 cp s3://mousebrainatlas-data/CSHL_scoremaps_down32/MD657/MD657-N47-2017.02.22-16.37.53_MD657_2_0140_alignedTo_MD657-F44-2017.02.18-06.06.27_MD657_1_0130_cropped_down32/MD657-N47-2017.02.22-16.37.53_MD657_2_0140_alignedTo_MD657-F44-2017.02.18-06.06.27_MD657_1_0130_cropped_down32_sp5_denseScoreMap_setting_30.bp /shared/CSHL_scoremaps_down32/MD657/MD657-N47-2017.02.22-16.37.53_MD657_2_0140_alignedTo_MD657-F44-2017.02.18-06.06.27_MD657_1_0130_cropped_down32/MD657-N47-2017.02.22-16.37.53_MD657_2_0140_alignedTo_MD657-F44-2017.02.18-06.06.27_MD657_1_0130_cropped_down32_sp5_denseScoreMap_setting_30.bp\n"
     ]
    },
    {
     "name": "stderr",
     "output_type": "stream",
     "text": [
      "Child returned 1\n",
      "0.34 seconds.\n",
      "Child returned 0\n"
     ]
    },
    {
     "name": "stdout",
     "output_type": "stream",
     "text": [
      "rm -rf /shared/CSHL_scoremaps_down32/MD657/MD657-N48-2017.02.22-16.41.55_MD657_1_0142_alignedTo_MD657-F44-2017.02.18-06.06.27_MD657_1_0130_cropped_down32/MD657-N48-2017.02.22-16.41.55_MD657_1_0142_alignedTo_MD657-F44-2017.02.18-06.06.27_MD657_1_0130_cropped_down32_sp5_denseScoreMap_setting_30.bp && mkdir -p /shared/CSHL_scoremaps_down32/MD657/MD657-N48-2017.02.22-16.41.55_MD657_1_0142_alignedTo_MD657-F44-2017.02.18-06.06.27_MD657_1_0130_cropped_down32\n",
      "aws s3 cp s3://mousebrainatlas-data/CSHL_scoremaps_down32/MD657/MD657-N48-2017.02.22-16.41.55_MD657_1_0142_alignedTo_MD657-F44-2017.02.18-06.06.27_MD657_1_0130_cropped_down32/MD657-N48-2017.02.22-16.41.55_MD657_1_0142_alignedTo_MD657-F44-2017.02.18-06.06.27_MD657_1_0130_cropped_down32_sp5_denseScoreMap_setting_30.bp /shared/CSHL_scoremaps_down32/MD657/MD657-N48-2017.02.22-16.41.55_MD657_1_0142_alignedTo_MD657-F44-2017.02.18-06.06.27_MD657_1_0130_cropped_down32/MD657-N48-2017.02.22-16.41.55_MD657_1_0142_alignedTo_MD657-F44-2017.02.18-06.06.27_MD657_1_0130_cropped_down32_sp5_denseScoreMap_setting_30.bp\n"
     ]
    },
    {
     "name": "stderr",
     "output_type": "stream",
     "text": [
      "Child returned 1\n",
      "0.34 seconds.\n",
      "Child returned 0\n"
     ]
    },
    {
     "name": "stdout",
     "output_type": "stream",
     "text": [
      "rm -rf /shared/CSHL_scoremaps_down32/MD657/MD657-N48-2017.02.22-16.41.55_MD657_2_0143_alignedTo_MD657-F44-2017.02.18-06.06.27_MD657_1_0130_cropped_down32/MD657-N48-2017.02.22-16.41.55_MD657_2_0143_alignedTo_MD657-F44-2017.02.18-06.06.27_MD657_1_0130_cropped_down32_sp5_denseScoreMap_setting_30.bp && mkdir -p /shared/CSHL_scoremaps_down32/MD657/MD657-N48-2017.02.22-16.41.55_MD657_2_0143_alignedTo_MD657-F44-2017.02.18-06.06.27_MD657_1_0130_cropped_down32\n",
      "aws s3 cp s3://mousebrainatlas-data/CSHL_scoremaps_down32/MD657/MD657-N48-2017.02.22-16.41.55_MD657_2_0143_alignedTo_MD657-F44-2017.02.18-06.06.27_MD657_1_0130_cropped_down32/MD657-N48-2017.02.22-16.41.55_MD657_2_0143_alignedTo_MD657-F44-2017.02.18-06.06.27_MD657_1_0130_cropped_down32_sp5_denseScoreMap_setting_30.bp /shared/CSHL_scoremaps_down32/MD657/MD657-N48-2017.02.22-16.41.55_MD657_2_0143_alignedTo_MD657-F44-2017.02.18-06.06.27_MD657_1_0130_cropped_down32/MD657-N48-2017.02.22-16.41.55_MD657_2_0143_alignedTo_MD657-F44-2017.02.18-06.06.27_MD657_1_0130_cropped_down32_sp5_denseScoreMap_setting_30.bp\n"
     ]
    },
    {
     "name": "stderr",
     "output_type": "stream",
     "text": [
      "Child returned 1\n",
      "0.33 seconds.\n",
      "Child returned 0\n"
     ]
    },
    {
     "name": "stdout",
     "output_type": "stream",
     "text": [
      "rm -rf /shared/CSHL_scoremaps_down32/MD657/MD657-N49-2017.02.22-16.46.02_MD657_1_0145_alignedTo_MD657-F44-2017.02.18-06.06.27_MD657_1_0130_cropped_down32/MD657-N49-2017.02.22-16.46.02_MD657_1_0145_alignedTo_MD657-F44-2017.02.18-06.06.27_MD657_1_0130_cropped_down32_sp5_denseScoreMap_setting_30.bp && mkdir -p /shared/CSHL_scoremaps_down32/MD657/MD657-N49-2017.02.22-16.46.02_MD657_1_0145_alignedTo_MD657-F44-2017.02.18-06.06.27_MD657_1_0130_cropped_down32\n",
      "aws s3 cp s3://mousebrainatlas-data/CSHL_scoremaps_down32/MD657/MD657-N49-2017.02.22-16.46.02_MD657_1_0145_alignedTo_MD657-F44-2017.02.18-06.06.27_MD657_1_0130_cropped_down32/MD657-N49-2017.02.22-16.46.02_MD657_1_0145_alignedTo_MD657-F44-2017.02.18-06.06.27_MD657_1_0130_cropped_down32_sp5_denseScoreMap_setting_30.bp /shared/CSHL_scoremaps_down32/MD657/MD657-N49-2017.02.22-16.46.02_MD657_1_0145_alignedTo_MD657-F44-2017.02.18-06.06.27_MD657_1_0130_cropped_down32/MD657-N49-2017.02.22-16.46.02_MD657_1_0145_alignedTo_MD657-F44-2017.02.18-06.06.27_MD657_1_0130_cropped_down32_sp5_denseScoreMap_setting_30.bp\n"
     ]
    },
    {
     "name": "stderr",
     "output_type": "stream",
     "text": [
      "Child returned 1\n",
      "0.35 seconds.\n",
      "Child returned 0\n"
     ]
    },
    {
     "name": "stdout",
     "output_type": "stream",
     "text": [
      "rm -rf /shared/CSHL_scoremaps_down32/MD657/MD657-N49-2017.02.22-16.46.02_MD657_2_0146_alignedTo_MD657-F44-2017.02.18-06.06.27_MD657_1_0130_cropped_down32/MD657-N49-2017.02.22-16.46.02_MD657_2_0146_alignedTo_MD657-F44-2017.02.18-06.06.27_MD657_1_0130_cropped_down32_sp5_denseScoreMap_setting_30.bp && mkdir -p /shared/CSHL_scoremaps_down32/MD657/MD657-N49-2017.02.22-16.46.02_MD657_2_0146_alignedTo_MD657-F44-2017.02.18-06.06.27_MD657_1_0130_cropped_down32\n",
      "aws s3 cp s3://mousebrainatlas-data/CSHL_scoremaps_down32/MD657/MD657-N49-2017.02.22-16.46.02_MD657_2_0146_alignedTo_MD657-F44-2017.02.18-06.06.27_MD657_1_0130_cropped_down32/MD657-N49-2017.02.22-16.46.02_MD657_2_0146_alignedTo_MD657-F44-2017.02.18-06.06.27_MD657_1_0130_cropped_down32_sp5_denseScoreMap_setting_30.bp /shared/CSHL_scoremaps_down32/MD657/MD657-N49-2017.02.22-16.46.02_MD657_2_0146_alignedTo_MD657-F44-2017.02.18-06.06.27_MD657_1_0130_cropped_down32/MD657-N49-2017.02.22-16.46.02_MD657_2_0146_alignedTo_MD657-F44-2017.02.18-06.06.27_MD657_1_0130_cropped_down32_sp5_denseScoreMap_setting_30.bp\n"
     ]
    },
    {
     "name": "stderr",
     "output_type": "stream",
     "text": [
      "Child returned 1\n",
      "0.34 seconds.\n",
      "Child returned 0\n"
     ]
    },
    {
     "name": "stdout",
     "output_type": "stream",
     "text": [
      "rm -rf /shared/CSHL_scoremaps_down32/MD657/MD657-N50-2017.02.22-16.50.15_MD657_1_0148_alignedTo_MD657-F44-2017.02.18-06.06.27_MD657_1_0130_cropped_down32/MD657-N50-2017.02.22-16.50.15_MD657_1_0148_alignedTo_MD657-F44-2017.02.18-06.06.27_MD657_1_0130_cropped_down32_sp5_denseScoreMap_setting_30.bp && mkdir -p /shared/CSHL_scoremaps_down32/MD657/MD657-N50-2017.02.22-16.50.15_MD657_1_0148_alignedTo_MD657-F44-2017.02.18-06.06.27_MD657_1_0130_cropped_down32\n",
      "aws s3 cp s3://mousebrainatlas-data/CSHL_scoremaps_down32/MD657/MD657-N50-2017.02.22-16.50.15_MD657_1_0148_alignedTo_MD657-F44-2017.02.18-06.06.27_MD657_1_0130_cropped_down32/MD657-N50-2017.02.22-16.50.15_MD657_1_0148_alignedTo_MD657-F44-2017.02.18-06.06.27_MD657_1_0130_cropped_down32_sp5_denseScoreMap_setting_30.bp /shared/CSHL_scoremaps_down32/MD657/MD657-N50-2017.02.22-16.50.15_MD657_1_0148_alignedTo_MD657-F44-2017.02.18-06.06.27_MD657_1_0130_cropped_down32/MD657-N50-2017.02.22-16.50.15_MD657_1_0148_alignedTo_MD657-F44-2017.02.18-06.06.27_MD657_1_0130_cropped_down32_sp5_denseScoreMap_setting_30.bp\n"
     ]
    },
    {
     "name": "stderr",
     "output_type": "stream",
     "text": [
      "Child returned 1\n",
      "0.34 seconds.\n",
      "Child returned 0\n"
     ]
    },
    {
     "name": "stdout",
     "output_type": "stream",
     "text": [
      "rm -rf /shared/CSHL_scoremaps_down32/MD657/MD657-N50-2017.02.22-16.50.15_MD657_2_0149_alignedTo_MD657-F44-2017.02.18-06.06.27_MD657_1_0130_cropped_down32/MD657-N50-2017.02.22-16.50.15_MD657_2_0149_alignedTo_MD657-F44-2017.02.18-06.06.27_MD657_1_0130_cropped_down32_sp5_denseScoreMap_setting_30.bp && mkdir -p /shared/CSHL_scoremaps_down32/MD657/MD657-N50-2017.02.22-16.50.15_MD657_2_0149_alignedTo_MD657-F44-2017.02.18-06.06.27_MD657_1_0130_cropped_down32\n",
      "aws s3 cp s3://mousebrainatlas-data/CSHL_scoremaps_down32/MD657/MD657-N50-2017.02.22-16.50.15_MD657_2_0149_alignedTo_MD657-F44-2017.02.18-06.06.27_MD657_1_0130_cropped_down32/MD657-N50-2017.02.22-16.50.15_MD657_2_0149_alignedTo_MD657-F44-2017.02.18-06.06.27_MD657_1_0130_cropped_down32_sp5_denseScoreMap_setting_30.bp /shared/CSHL_scoremaps_down32/MD657/MD657-N50-2017.02.22-16.50.15_MD657_2_0149_alignedTo_MD657-F44-2017.02.18-06.06.27_MD657_1_0130_cropped_down32/MD657-N50-2017.02.22-16.50.15_MD657_2_0149_alignedTo_MD657-F44-2017.02.18-06.06.27_MD657_1_0130_cropped_down32_sp5_denseScoreMap_setting_30.bp\n"
     ]
    },
    {
     "name": "stderr",
     "output_type": "stream",
     "text": [
      "Child returned 1\n",
      "0.33 seconds.\n",
      "Child returned 0\n"
     ]
    },
    {
     "name": "stdout",
     "output_type": "stream",
     "text": [
      "rm -rf /shared/CSHL_scoremaps_down32/MD657/MD657-N51-2017.02.22-16.54.20_MD657_2_0152_alignedTo_MD657-F44-2017.02.18-06.06.27_MD657_1_0130_cropped_down32/MD657-N51-2017.02.22-16.54.20_MD657_2_0152_alignedTo_MD657-F44-2017.02.18-06.06.27_MD657_1_0130_cropped_down32_sp5_denseScoreMap_setting_30.bp && mkdir -p /shared/CSHL_scoremaps_down32/MD657/MD657-N51-2017.02.22-16.54.20_MD657_2_0152_alignedTo_MD657-F44-2017.02.18-06.06.27_MD657_1_0130_cropped_down32\n",
      "aws s3 cp s3://mousebrainatlas-data/CSHL_scoremaps_down32/MD657/MD657-N51-2017.02.22-16.54.20_MD657_2_0152_alignedTo_MD657-F44-2017.02.18-06.06.27_MD657_1_0130_cropped_down32/MD657-N51-2017.02.22-16.54.20_MD657_2_0152_alignedTo_MD657-F44-2017.02.18-06.06.27_MD657_1_0130_cropped_down32_sp5_denseScoreMap_setting_30.bp /shared/CSHL_scoremaps_down32/MD657/MD657-N51-2017.02.22-16.54.20_MD657_2_0152_alignedTo_MD657-F44-2017.02.18-06.06.27_MD657_1_0130_cropped_down32/MD657-N51-2017.02.22-16.54.20_MD657_2_0152_alignedTo_MD657-F44-2017.02.18-06.06.27_MD657_1_0130_cropped_down32_sp5_denseScoreMap_setting_30.bp\n"
     ]
    },
    {
     "name": "stderr",
     "output_type": "stream",
     "text": [
      "Child returned 1\n",
      "0.33 seconds.\n",
      "Child returned 0\n"
     ]
    },
    {
     "name": "stdout",
     "output_type": "stream",
     "text": [
      "rm -rf /shared/CSHL_scoremaps_down32/MD657/MD657-N52-2017.02.22-16.58.50_MD657_1_0154_alignedTo_MD657-F44-2017.02.18-06.06.27_MD657_1_0130_cropped_down32/MD657-N52-2017.02.22-16.58.50_MD657_1_0154_alignedTo_MD657-F44-2017.02.18-06.06.27_MD657_1_0130_cropped_down32_sp5_denseScoreMap_setting_30.bp && mkdir -p /shared/CSHL_scoremaps_down32/MD657/MD657-N52-2017.02.22-16.58.50_MD657_1_0154_alignedTo_MD657-F44-2017.02.18-06.06.27_MD657_1_0130_cropped_down32\n",
      "aws s3 cp s3://mousebrainatlas-data/CSHL_scoremaps_down32/MD657/MD657-N52-2017.02.22-16.58.50_MD657_1_0154_alignedTo_MD657-F44-2017.02.18-06.06.27_MD657_1_0130_cropped_down32/MD657-N52-2017.02.22-16.58.50_MD657_1_0154_alignedTo_MD657-F44-2017.02.18-06.06.27_MD657_1_0130_cropped_down32_sp5_denseScoreMap_setting_30.bp /shared/CSHL_scoremaps_down32/MD657/MD657-N52-2017.02.22-16.58.50_MD657_1_0154_alignedTo_MD657-F44-2017.02.18-06.06.27_MD657_1_0130_cropped_down32/MD657-N52-2017.02.22-16.58.50_MD657_1_0154_alignedTo_MD657-F44-2017.02.18-06.06.27_MD657_1_0130_cropped_down32_sp5_denseScoreMap_setting_30.bp\n"
     ]
    },
    {
     "name": "stderr",
     "output_type": "stream",
     "text": [
      "Child returned 1\n",
      "0.35 seconds.\n",
      "Child returned 0\n"
     ]
    },
    {
     "name": "stdout",
     "output_type": "stream",
     "text": [
      "rm -rf /shared/CSHL_scoremaps_down32/MD657/MD657-N52-2017.02.22-16.58.50_MD657_2_0155_alignedTo_MD657-F44-2017.02.18-06.06.27_MD657_1_0130_cropped_down32/MD657-N52-2017.02.22-16.58.50_MD657_2_0155_alignedTo_MD657-F44-2017.02.18-06.06.27_MD657_1_0130_cropped_down32_sp5_denseScoreMap_setting_30.bp && mkdir -p /shared/CSHL_scoremaps_down32/MD657/MD657-N52-2017.02.22-16.58.50_MD657_2_0155_alignedTo_MD657-F44-2017.02.18-06.06.27_MD657_1_0130_cropped_down32\n",
      "aws s3 cp s3://mousebrainatlas-data/CSHL_scoremaps_down32/MD657/MD657-N52-2017.02.22-16.58.50_MD657_2_0155_alignedTo_MD657-F44-2017.02.18-06.06.27_MD657_1_0130_cropped_down32/MD657-N52-2017.02.22-16.58.50_MD657_2_0155_alignedTo_MD657-F44-2017.02.18-06.06.27_MD657_1_0130_cropped_down32_sp5_denseScoreMap_setting_30.bp /shared/CSHL_scoremaps_down32/MD657/MD657-N52-2017.02.22-16.58.50_MD657_2_0155_alignedTo_MD657-F44-2017.02.18-06.06.27_MD657_1_0130_cropped_down32/MD657-N52-2017.02.22-16.58.50_MD657_2_0155_alignedTo_MD657-F44-2017.02.18-06.06.27_MD657_1_0130_cropped_down32_sp5_denseScoreMap_setting_30.bp\n"
     ]
    },
    {
     "name": "stderr",
     "output_type": "stream",
     "text": [
      "Child returned 1\n",
      "0.32 seconds.\n",
      "Child returned 0\n"
     ]
    },
    {
     "name": "stdout",
     "output_type": "stream",
     "text": [
      "rm -rf /shared/CSHL_scoremaps_down32/MD657/MD657-N53-2017.02.22-17.02.55_MD657_1_0157_alignedTo_MD657-F44-2017.02.18-06.06.27_MD657_1_0130_cropped_down32/MD657-N53-2017.02.22-17.02.55_MD657_1_0157_alignedTo_MD657-F44-2017.02.18-06.06.27_MD657_1_0130_cropped_down32_sp5_denseScoreMap_setting_30.bp && mkdir -p /shared/CSHL_scoremaps_down32/MD657/MD657-N53-2017.02.22-17.02.55_MD657_1_0157_alignedTo_MD657-F44-2017.02.18-06.06.27_MD657_1_0130_cropped_down32\n",
      "aws s3 cp s3://mousebrainatlas-data/CSHL_scoremaps_down32/MD657/MD657-N53-2017.02.22-17.02.55_MD657_1_0157_alignedTo_MD657-F44-2017.02.18-06.06.27_MD657_1_0130_cropped_down32/MD657-N53-2017.02.22-17.02.55_MD657_1_0157_alignedTo_MD657-F44-2017.02.18-06.06.27_MD657_1_0130_cropped_down32_sp5_denseScoreMap_setting_30.bp /shared/CSHL_scoremaps_down32/MD657/MD657-N53-2017.02.22-17.02.55_MD657_1_0157_alignedTo_MD657-F44-2017.02.18-06.06.27_MD657_1_0130_cropped_down32/MD657-N53-2017.02.22-17.02.55_MD657_1_0157_alignedTo_MD657-F44-2017.02.18-06.06.27_MD657_1_0130_cropped_down32_sp5_denseScoreMap_setting_30.bp\n"
     ]
    },
    {
     "name": "stderr",
     "output_type": "stream",
     "text": [
      "Child returned 1\n",
      "0.35 seconds.\n",
      "Child returned 0\n"
     ]
    },
    {
     "name": "stdout",
     "output_type": "stream",
     "text": [
      "rm -rf /shared/CSHL_scoremaps_down32/MD657/MD657-N53-2017.02.22-17.02.55_MD657_2_0158_alignedTo_MD657-F44-2017.02.18-06.06.27_MD657_1_0130_cropped_down32/MD657-N53-2017.02.22-17.02.55_MD657_2_0158_alignedTo_MD657-F44-2017.02.18-06.06.27_MD657_1_0130_cropped_down32_sp5_denseScoreMap_setting_30.bp && mkdir -p /shared/CSHL_scoremaps_down32/MD657/MD657-N53-2017.02.22-17.02.55_MD657_2_0158_alignedTo_MD657-F44-2017.02.18-06.06.27_MD657_1_0130_cropped_down32\n",
      "aws s3 cp s3://mousebrainatlas-data/CSHL_scoremaps_down32/MD657/MD657-N53-2017.02.22-17.02.55_MD657_2_0158_alignedTo_MD657-F44-2017.02.18-06.06.27_MD657_1_0130_cropped_down32/MD657-N53-2017.02.22-17.02.55_MD657_2_0158_alignedTo_MD657-F44-2017.02.18-06.06.27_MD657_1_0130_cropped_down32_sp5_denseScoreMap_setting_30.bp /shared/CSHL_scoremaps_down32/MD657/MD657-N53-2017.02.22-17.02.55_MD657_2_0158_alignedTo_MD657-F44-2017.02.18-06.06.27_MD657_1_0130_cropped_down32/MD657-N53-2017.02.22-17.02.55_MD657_2_0158_alignedTo_MD657-F44-2017.02.18-06.06.27_MD657_1_0130_cropped_down32_sp5_denseScoreMap_setting_30.bp\n"
     ]
    },
    {
     "name": "stderr",
     "output_type": "stream",
     "text": [
      "Child returned 1\n",
      "0.36 seconds.\n",
      "Child returned 0\n"
     ]
    },
    {
     "name": "stdout",
     "output_type": "stream",
     "text": [
      "rm -rf /shared/CSHL_scoremaps_down32/MD657/MD657-N54-2017.02.22-17.07.22_MD657_1_0160_alignedTo_MD657-F44-2017.02.18-06.06.27_MD657_1_0130_cropped_down32/MD657-N54-2017.02.22-17.07.22_MD657_1_0160_alignedTo_MD657-F44-2017.02.18-06.06.27_MD657_1_0130_cropped_down32_sp5_denseScoreMap_setting_30.bp && mkdir -p /shared/CSHL_scoremaps_down32/MD657/MD657-N54-2017.02.22-17.07.22_MD657_1_0160_alignedTo_MD657-F44-2017.02.18-06.06.27_MD657_1_0130_cropped_down32\n",
      "aws s3 cp s3://mousebrainatlas-data/CSHL_scoremaps_down32/MD657/MD657-N54-2017.02.22-17.07.22_MD657_1_0160_alignedTo_MD657-F44-2017.02.18-06.06.27_MD657_1_0130_cropped_down32/MD657-N54-2017.02.22-17.07.22_MD657_1_0160_alignedTo_MD657-F44-2017.02.18-06.06.27_MD657_1_0130_cropped_down32_sp5_denseScoreMap_setting_30.bp /shared/CSHL_scoremaps_down32/MD657/MD657-N54-2017.02.22-17.07.22_MD657_1_0160_alignedTo_MD657-F44-2017.02.18-06.06.27_MD657_1_0130_cropped_down32/MD657-N54-2017.02.22-17.07.22_MD657_1_0160_alignedTo_MD657-F44-2017.02.18-06.06.27_MD657_1_0130_cropped_down32_sp5_denseScoreMap_setting_30.bp\n"
     ]
    },
    {
     "name": "stderr",
     "output_type": "stream",
     "text": [
      "Child returned 1\n",
      "0.35 seconds.\n",
      "Child returned 0\n"
     ]
    },
    {
     "name": "stdout",
     "output_type": "stream",
     "text": [
      "rm -rf /shared/CSHL_scoremaps_down32/MD657/MD657-N54-2017.02.22-17.07.22_MD657_2_0161_alignedTo_MD657-F44-2017.02.18-06.06.27_MD657_1_0130_cropped_down32/MD657-N54-2017.02.22-17.07.22_MD657_2_0161_alignedTo_MD657-F44-2017.02.18-06.06.27_MD657_1_0130_cropped_down32_sp5_denseScoreMap_setting_30.bp && mkdir -p /shared/CSHL_scoremaps_down32/MD657/MD657-N54-2017.02.22-17.07.22_MD657_2_0161_alignedTo_MD657-F44-2017.02.18-06.06.27_MD657_1_0130_cropped_down32\n",
      "aws s3 cp s3://mousebrainatlas-data/CSHL_scoremaps_down32/MD657/MD657-N54-2017.02.22-17.07.22_MD657_2_0161_alignedTo_MD657-F44-2017.02.18-06.06.27_MD657_1_0130_cropped_down32/MD657-N54-2017.02.22-17.07.22_MD657_2_0161_alignedTo_MD657-F44-2017.02.18-06.06.27_MD657_1_0130_cropped_down32_sp5_denseScoreMap_setting_30.bp /shared/CSHL_scoremaps_down32/MD657/MD657-N54-2017.02.22-17.07.22_MD657_2_0161_alignedTo_MD657-F44-2017.02.18-06.06.27_MD657_1_0130_cropped_down32/MD657-N54-2017.02.22-17.07.22_MD657_2_0161_alignedTo_MD657-F44-2017.02.18-06.06.27_MD657_1_0130_cropped_down32_sp5_denseScoreMap_setting_30.bp\n"
     ]
    },
    {
     "name": "stderr",
     "output_type": "stream",
     "text": [
      "Child returned 1\n",
      "0.33 seconds.\n",
      "Child returned 0\n"
     ]
    },
    {
     "name": "stdout",
     "output_type": "stream",
     "text": [
      "rm -rf /shared/CSHL_scoremaps_down32/MD657/MD657-N55-2017.02.22-17.12.27_MD657_1_0163_alignedTo_MD657-F44-2017.02.18-06.06.27_MD657_1_0130_cropped_down32/MD657-N55-2017.02.22-17.12.27_MD657_1_0163_alignedTo_MD657-F44-2017.02.18-06.06.27_MD657_1_0130_cropped_down32_sp5_denseScoreMap_setting_30.bp && mkdir -p /shared/CSHL_scoremaps_down32/MD657/MD657-N55-2017.02.22-17.12.27_MD657_1_0163_alignedTo_MD657-F44-2017.02.18-06.06.27_MD657_1_0130_cropped_down32\n",
      "aws s3 cp s3://mousebrainatlas-data/CSHL_scoremaps_down32/MD657/MD657-N55-2017.02.22-17.12.27_MD657_1_0163_alignedTo_MD657-F44-2017.02.18-06.06.27_MD657_1_0130_cropped_down32/MD657-N55-2017.02.22-17.12.27_MD657_1_0163_alignedTo_MD657-F44-2017.02.18-06.06.27_MD657_1_0130_cropped_down32_sp5_denseScoreMap_setting_30.bp /shared/CSHL_scoremaps_down32/MD657/MD657-N55-2017.02.22-17.12.27_MD657_1_0163_alignedTo_MD657-F44-2017.02.18-06.06.27_MD657_1_0130_cropped_down32/MD657-N55-2017.02.22-17.12.27_MD657_1_0163_alignedTo_MD657-F44-2017.02.18-06.06.27_MD657_1_0130_cropped_down32_sp5_denseScoreMap_setting_30.bp\n"
     ]
    },
    {
     "name": "stderr",
     "output_type": "stream",
     "text": [
      "Child returned 1\n",
      "0.35 seconds.\n",
      "Child returned 0\n"
     ]
    },
    {
     "name": "stdout",
     "output_type": "stream",
     "text": [
      "rm -rf /shared/CSHL_scoremaps_down32/MD657/MD657-N55-2017.02.22-17.12.27_MD657_2_0164_alignedTo_MD657-F44-2017.02.18-06.06.27_MD657_1_0130_cropped_down32/MD657-N55-2017.02.22-17.12.27_MD657_2_0164_alignedTo_MD657-F44-2017.02.18-06.06.27_MD657_1_0130_cropped_down32_sp5_denseScoreMap_setting_30.bp && mkdir -p /shared/CSHL_scoremaps_down32/MD657/MD657-N55-2017.02.22-17.12.27_MD657_2_0164_alignedTo_MD657-F44-2017.02.18-06.06.27_MD657_1_0130_cropped_down32\n",
      "aws s3 cp s3://mousebrainatlas-data/CSHL_scoremaps_down32/MD657/MD657-N55-2017.02.22-17.12.27_MD657_2_0164_alignedTo_MD657-F44-2017.02.18-06.06.27_MD657_1_0130_cropped_down32/MD657-N55-2017.02.22-17.12.27_MD657_2_0164_alignedTo_MD657-F44-2017.02.18-06.06.27_MD657_1_0130_cropped_down32_sp5_denseScoreMap_setting_30.bp /shared/CSHL_scoremaps_down32/MD657/MD657-N55-2017.02.22-17.12.27_MD657_2_0164_alignedTo_MD657-F44-2017.02.18-06.06.27_MD657_1_0130_cropped_down32/MD657-N55-2017.02.22-17.12.27_MD657_2_0164_alignedTo_MD657-F44-2017.02.18-06.06.27_MD657_1_0130_cropped_down32_sp5_denseScoreMap_setting_30.bp\n"
     ]
    },
    {
     "name": "stderr",
     "output_type": "stream",
     "text": [
      "Child returned 1\n",
      "0.33 seconds.\n",
      "Child returned 0\n"
     ]
    },
    {
     "name": "stdout",
     "output_type": "stream",
     "text": [
      "rm -rf /shared/CSHL_scoremaps_down32/MD657/MD657-N56-2017.02.22-17.16.39_MD657_1_0166_alignedTo_MD657-F44-2017.02.18-06.06.27_MD657_1_0130_cropped_down32/MD657-N56-2017.02.22-17.16.39_MD657_1_0166_alignedTo_MD657-F44-2017.02.18-06.06.27_MD657_1_0130_cropped_down32_sp5_denseScoreMap_setting_30.bp && mkdir -p /shared/CSHL_scoremaps_down32/MD657/MD657-N56-2017.02.22-17.16.39_MD657_1_0166_alignedTo_MD657-F44-2017.02.18-06.06.27_MD657_1_0130_cropped_down32\n",
      "aws s3 cp s3://mousebrainatlas-data/CSHL_scoremaps_down32/MD657/MD657-N56-2017.02.22-17.16.39_MD657_1_0166_alignedTo_MD657-F44-2017.02.18-06.06.27_MD657_1_0130_cropped_down32/MD657-N56-2017.02.22-17.16.39_MD657_1_0166_alignedTo_MD657-F44-2017.02.18-06.06.27_MD657_1_0130_cropped_down32_sp5_denseScoreMap_setting_30.bp /shared/CSHL_scoremaps_down32/MD657/MD657-N56-2017.02.22-17.16.39_MD657_1_0166_alignedTo_MD657-F44-2017.02.18-06.06.27_MD657_1_0130_cropped_down32/MD657-N56-2017.02.22-17.16.39_MD657_1_0166_alignedTo_MD657-F44-2017.02.18-06.06.27_MD657_1_0130_cropped_down32_sp5_denseScoreMap_setting_30.bp\n"
     ]
    },
    {
     "name": "stderr",
     "output_type": "stream",
     "text": [
      "Child returned 1\n",
      "0.32 seconds.\n",
      "Child returned 0\n"
     ]
    },
    {
     "name": "stdout",
     "output_type": "stream",
     "text": [
      "rm -rf /shared/CSHL_scoremaps_down32/MD657/MD657-N56-2017.02.22-17.16.39_MD657_2_0167_alignedTo_MD657-F44-2017.02.18-06.06.27_MD657_1_0130_cropped_down32/MD657-N56-2017.02.22-17.16.39_MD657_2_0167_alignedTo_MD657-F44-2017.02.18-06.06.27_MD657_1_0130_cropped_down32_sp5_denseScoreMap_setting_30.bp && mkdir -p /shared/CSHL_scoremaps_down32/MD657/MD657-N56-2017.02.22-17.16.39_MD657_2_0167_alignedTo_MD657-F44-2017.02.18-06.06.27_MD657_1_0130_cropped_down32\n",
      "aws s3 cp s3://mousebrainatlas-data/CSHL_scoremaps_down32/MD657/MD657-N56-2017.02.22-17.16.39_MD657_2_0167_alignedTo_MD657-F44-2017.02.18-06.06.27_MD657_1_0130_cropped_down32/MD657-N56-2017.02.22-17.16.39_MD657_2_0167_alignedTo_MD657-F44-2017.02.18-06.06.27_MD657_1_0130_cropped_down32_sp5_denseScoreMap_setting_30.bp /shared/CSHL_scoremaps_down32/MD657/MD657-N56-2017.02.22-17.16.39_MD657_2_0167_alignedTo_MD657-F44-2017.02.18-06.06.27_MD657_1_0130_cropped_down32/MD657-N56-2017.02.22-17.16.39_MD657_2_0167_alignedTo_MD657-F44-2017.02.18-06.06.27_MD657_1_0130_cropped_down32_sp5_denseScoreMap_setting_30.bp\n"
     ]
    },
    {
     "name": "stderr",
     "output_type": "stream",
     "text": [
      "Child returned 1\n",
      "0.34 seconds.\n",
      "Child returned 0\n"
     ]
    },
    {
     "name": "stdout",
     "output_type": "stream",
     "text": [
      "rm -rf /shared/CSHL_scoremaps_down32/MD657/MD657-N57-2017.02.22-17.20.44_MD657_1_0169_alignedTo_MD657-F44-2017.02.18-06.06.27_MD657_1_0130_cropped_down32/MD657-N57-2017.02.22-17.20.44_MD657_1_0169_alignedTo_MD657-F44-2017.02.18-06.06.27_MD657_1_0130_cropped_down32_sp5_denseScoreMap_setting_30.bp && mkdir -p /shared/CSHL_scoremaps_down32/MD657/MD657-N57-2017.02.22-17.20.44_MD657_1_0169_alignedTo_MD657-F44-2017.02.18-06.06.27_MD657_1_0130_cropped_down32\n",
      "aws s3 cp s3://mousebrainatlas-data/CSHL_scoremaps_down32/MD657/MD657-N57-2017.02.22-17.20.44_MD657_1_0169_alignedTo_MD657-F44-2017.02.18-06.06.27_MD657_1_0130_cropped_down32/MD657-N57-2017.02.22-17.20.44_MD657_1_0169_alignedTo_MD657-F44-2017.02.18-06.06.27_MD657_1_0130_cropped_down32_sp5_denseScoreMap_setting_30.bp /shared/CSHL_scoremaps_down32/MD657/MD657-N57-2017.02.22-17.20.44_MD657_1_0169_alignedTo_MD657-F44-2017.02.18-06.06.27_MD657_1_0130_cropped_down32/MD657-N57-2017.02.22-17.20.44_MD657_1_0169_alignedTo_MD657-F44-2017.02.18-06.06.27_MD657_1_0130_cropped_down32_sp5_denseScoreMap_setting_30.bp\n"
     ]
    },
    {
     "name": "stderr",
     "output_type": "stream",
     "text": [
      "Child returned 1\n",
      "0.35 seconds.\n",
      "Child returned 0\n"
     ]
    },
    {
     "name": "stdout",
     "output_type": "stream",
     "text": [
      "rm -rf /shared/CSHL_scoremaps_down32/MD657/MD657-N57-2017.02.22-17.20.44_MD657_2_0170_alignedTo_MD657-F44-2017.02.18-06.06.27_MD657_1_0130_cropped_down32/MD657-N57-2017.02.22-17.20.44_MD657_2_0170_alignedTo_MD657-F44-2017.02.18-06.06.27_MD657_1_0130_cropped_down32_sp5_denseScoreMap_setting_30.bp && mkdir -p /shared/CSHL_scoremaps_down32/MD657/MD657-N57-2017.02.22-17.20.44_MD657_2_0170_alignedTo_MD657-F44-2017.02.18-06.06.27_MD657_1_0130_cropped_down32\n",
      "aws s3 cp s3://mousebrainatlas-data/CSHL_scoremaps_down32/MD657/MD657-N57-2017.02.22-17.20.44_MD657_2_0170_alignedTo_MD657-F44-2017.02.18-06.06.27_MD657_1_0130_cropped_down32/MD657-N57-2017.02.22-17.20.44_MD657_2_0170_alignedTo_MD657-F44-2017.02.18-06.06.27_MD657_1_0130_cropped_down32_sp5_denseScoreMap_setting_30.bp /shared/CSHL_scoremaps_down32/MD657/MD657-N57-2017.02.22-17.20.44_MD657_2_0170_alignedTo_MD657-F44-2017.02.18-06.06.27_MD657_1_0130_cropped_down32/MD657-N57-2017.02.22-17.20.44_MD657_2_0170_alignedTo_MD657-F44-2017.02.18-06.06.27_MD657_1_0130_cropped_down32_sp5_denseScoreMap_setting_30.bp\n"
     ]
    },
    {
     "name": "stderr",
     "output_type": "stream",
     "text": [
      "Child returned 1\n",
      "0.34 seconds.\n",
      "Child returned 0\n"
     ]
    },
    {
     "name": "stdout",
     "output_type": "stream",
     "text": [
      "rm -rf /shared/CSHL_scoremaps_down32/MD657/MD657-N58-2017.02.22-17.24.45_MD657_1_0172_alignedTo_MD657-F44-2017.02.18-06.06.27_MD657_1_0130_cropped_down32/MD657-N58-2017.02.22-17.24.45_MD657_1_0172_alignedTo_MD657-F44-2017.02.18-06.06.27_MD657_1_0130_cropped_down32_sp5_denseScoreMap_setting_30.bp && mkdir -p /shared/CSHL_scoremaps_down32/MD657/MD657-N58-2017.02.22-17.24.45_MD657_1_0172_alignedTo_MD657-F44-2017.02.18-06.06.27_MD657_1_0130_cropped_down32\n",
      "aws s3 cp s3://mousebrainatlas-data/CSHL_scoremaps_down32/MD657/MD657-N58-2017.02.22-17.24.45_MD657_1_0172_alignedTo_MD657-F44-2017.02.18-06.06.27_MD657_1_0130_cropped_down32/MD657-N58-2017.02.22-17.24.45_MD657_1_0172_alignedTo_MD657-F44-2017.02.18-06.06.27_MD657_1_0130_cropped_down32_sp5_denseScoreMap_setting_30.bp /shared/CSHL_scoremaps_down32/MD657/MD657-N58-2017.02.22-17.24.45_MD657_1_0172_alignedTo_MD657-F44-2017.02.18-06.06.27_MD657_1_0130_cropped_down32/MD657-N58-2017.02.22-17.24.45_MD657_1_0172_alignedTo_MD657-F44-2017.02.18-06.06.27_MD657_1_0130_cropped_down32_sp5_denseScoreMap_setting_30.bp\n"
     ]
    },
    {
     "name": "stderr",
     "output_type": "stream",
     "text": [
      "Child returned 1\n",
      "0.33 seconds.\n",
      "Child returned 0\n"
     ]
    },
    {
     "name": "stdout",
     "output_type": "stream",
     "text": [
      "rm -rf /shared/CSHL_scoremaps_down32/MD657/MD657-N58-2017.02.22-17.24.45_MD657_2_0173_alignedTo_MD657-F44-2017.02.18-06.06.27_MD657_1_0130_cropped_down32/MD657-N58-2017.02.22-17.24.45_MD657_2_0173_alignedTo_MD657-F44-2017.02.18-06.06.27_MD657_1_0130_cropped_down32_sp5_denseScoreMap_setting_30.bp && mkdir -p /shared/CSHL_scoremaps_down32/MD657/MD657-N58-2017.02.22-17.24.45_MD657_2_0173_alignedTo_MD657-F44-2017.02.18-06.06.27_MD657_1_0130_cropped_down32\n",
      "aws s3 cp s3://mousebrainatlas-data/CSHL_scoremaps_down32/MD657/MD657-N58-2017.02.22-17.24.45_MD657_2_0173_alignedTo_MD657-F44-2017.02.18-06.06.27_MD657_1_0130_cropped_down32/MD657-N58-2017.02.22-17.24.45_MD657_2_0173_alignedTo_MD657-F44-2017.02.18-06.06.27_MD657_1_0130_cropped_down32_sp5_denseScoreMap_setting_30.bp /shared/CSHL_scoremaps_down32/MD657/MD657-N58-2017.02.22-17.24.45_MD657_2_0173_alignedTo_MD657-F44-2017.02.18-06.06.27_MD657_1_0130_cropped_down32/MD657-N58-2017.02.22-17.24.45_MD657_2_0173_alignedTo_MD657-F44-2017.02.18-06.06.27_MD657_1_0130_cropped_down32_sp5_denseScoreMap_setting_30.bp\n"
     ]
    },
    {
     "name": "stderr",
     "output_type": "stream",
     "text": [
      "Child returned 1\n",
      "0.35 seconds.\n",
      "Child returned 0\n"
     ]
    },
    {
     "name": "stdout",
     "output_type": "stream",
     "text": [
      "rm -rf /shared/CSHL_scoremaps_down32/MD657/MD657-N59-2017.02.22-17.28.52_MD657_1_0175_alignedTo_MD657-F44-2017.02.18-06.06.27_MD657_1_0130_cropped_down32/MD657-N59-2017.02.22-17.28.52_MD657_1_0175_alignedTo_MD657-F44-2017.02.18-06.06.27_MD657_1_0130_cropped_down32_sp5_denseScoreMap_setting_30.bp && mkdir -p /shared/CSHL_scoremaps_down32/MD657/MD657-N59-2017.02.22-17.28.52_MD657_1_0175_alignedTo_MD657-F44-2017.02.18-06.06.27_MD657_1_0130_cropped_down32\n",
      "aws s3 cp s3://mousebrainatlas-data/CSHL_scoremaps_down32/MD657/MD657-N59-2017.02.22-17.28.52_MD657_1_0175_alignedTo_MD657-F44-2017.02.18-06.06.27_MD657_1_0130_cropped_down32/MD657-N59-2017.02.22-17.28.52_MD657_1_0175_alignedTo_MD657-F44-2017.02.18-06.06.27_MD657_1_0130_cropped_down32_sp5_denseScoreMap_setting_30.bp /shared/CSHL_scoremaps_down32/MD657/MD657-N59-2017.02.22-17.28.52_MD657_1_0175_alignedTo_MD657-F44-2017.02.18-06.06.27_MD657_1_0130_cropped_down32/MD657-N59-2017.02.22-17.28.52_MD657_1_0175_alignedTo_MD657-F44-2017.02.18-06.06.27_MD657_1_0130_cropped_down32_sp5_denseScoreMap_setting_30.bp\n"
     ]
    },
    {
     "name": "stderr",
     "output_type": "stream",
     "text": [
      "Child returned 1\n",
      "0.33 seconds.\n",
      "Child returned 0\n"
     ]
    },
    {
     "name": "stdout",
     "output_type": "stream",
     "text": [
      "rm -rf /shared/CSHL_scoremaps_down32/MD657/MD657-N59-2017.02.22-17.28.52_MD657_2_0176_alignedTo_MD657-F44-2017.02.18-06.06.27_MD657_1_0130_cropped_down32/MD657-N59-2017.02.22-17.28.52_MD657_2_0176_alignedTo_MD657-F44-2017.02.18-06.06.27_MD657_1_0130_cropped_down32_sp5_denseScoreMap_setting_30.bp && mkdir -p /shared/CSHL_scoremaps_down32/MD657/MD657-N59-2017.02.22-17.28.52_MD657_2_0176_alignedTo_MD657-F44-2017.02.18-06.06.27_MD657_1_0130_cropped_down32\n",
      "aws s3 cp s3://mousebrainatlas-data/CSHL_scoremaps_down32/MD657/MD657-N59-2017.02.22-17.28.52_MD657_2_0176_alignedTo_MD657-F44-2017.02.18-06.06.27_MD657_1_0130_cropped_down32/MD657-N59-2017.02.22-17.28.52_MD657_2_0176_alignedTo_MD657-F44-2017.02.18-06.06.27_MD657_1_0130_cropped_down32_sp5_denseScoreMap_setting_30.bp /shared/CSHL_scoremaps_down32/MD657/MD657-N59-2017.02.22-17.28.52_MD657_2_0176_alignedTo_MD657-F44-2017.02.18-06.06.27_MD657_1_0130_cropped_down32/MD657-N59-2017.02.22-17.28.52_MD657_2_0176_alignedTo_MD657-F44-2017.02.18-06.06.27_MD657_1_0130_cropped_down32_sp5_denseScoreMap_setting_30.bp\n"
     ]
    },
    {
     "name": "stderr",
     "output_type": "stream",
     "text": [
      "Child returned 1\n",
      "0.33 seconds.\n",
      "Child returned 0\n"
     ]
    },
    {
     "name": "stdout",
     "output_type": "stream",
     "text": [
      "rm -rf /shared/CSHL_scoremaps_down32/MD657/MD657-N60-2017.02.22-17.32.54_MD657_1_0178_alignedTo_MD657-F44-2017.02.18-06.06.27_MD657_1_0130_cropped_down32/MD657-N60-2017.02.22-17.32.54_MD657_1_0178_alignedTo_MD657-F44-2017.02.18-06.06.27_MD657_1_0130_cropped_down32_sp5_denseScoreMap_setting_30.bp && mkdir -p /shared/CSHL_scoremaps_down32/MD657/MD657-N60-2017.02.22-17.32.54_MD657_1_0178_alignedTo_MD657-F44-2017.02.18-06.06.27_MD657_1_0130_cropped_down32\n",
      "aws s3 cp s3://mousebrainatlas-data/CSHL_scoremaps_down32/MD657/MD657-N60-2017.02.22-17.32.54_MD657_1_0178_alignedTo_MD657-F44-2017.02.18-06.06.27_MD657_1_0130_cropped_down32/MD657-N60-2017.02.22-17.32.54_MD657_1_0178_alignedTo_MD657-F44-2017.02.18-06.06.27_MD657_1_0130_cropped_down32_sp5_denseScoreMap_setting_30.bp /shared/CSHL_scoremaps_down32/MD657/MD657-N60-2017.02.22-17.32.54_MD657_1_0178_alignedTo_MD657-F44-2017.02.18-06.06.27_MD657_1_0130_cropped_down32/MD657-N60-2017.02.22-17.32.54_MD657_1_0178_alignedTo_MD657-F44-2017.02.18-06.06.27_MD657_1_0130_cropped_down32_sp5_denseScoreMap_setting_30.bp\n"
     ]
    },
    {
     "name": "stderr",
     "output_type": "stream",
     "text": [
      "Child returned 1\n",
      "0.34 seconds.\n",
      "Child returned 0\n"
     ]
    },
    {
     "name": "stdout",
     "output_type": "stream",
     "text": [
      "rm -rf /shared/CSHL_scoremaps_down32/MD657/MD657-N60-2017.02.22-17.32.54_MD657_2_0179_alignedTo_MD657-F44-2017.02.18-06.06.27_MD657_1_0130_cropped_down32/MD657-N60-2017.02.22-17.32.54_MD657_2_0179_alignedTo_MD657-F44-2017.02.18-06.06.27_MD657_1_0130_cropped_down32_sp5_denseScoreMap_setting_30.bp && mkdir -p /shared/CSHL_scoremaps_down32/MD657/MD657-N60-2017.02.22-17.32.54_MD657_2_0179_alignedTo_MD657-F44-2017.02.18-06.06.27_MD657_1_0130_cropped_down32\n",
      "aws s3 cp s3://mousebrainatlas-data/CSHL_scoremaps_down32/MD657/MD657-N60-2017.02.22-17.32.54_MD657_2_0179_alignedTo_MD657-F44-2017.02.18-06.06.27_MD657_1_0130_cropped_down32/MD657-N60-2017.02.22-17.32.54_MD657_2_0179_alignedTo_MD657-F44-2017.02.18-06.06.27_MD657_1_0130_cropped_down32_sp5_denseScoreMap_setting_30.bp /shared/CSHL_scoremaps_down32/MD657/MD657-N60-2017.02.22-17.32.54_MD657_2_0179_alignedTo_MD657-F44-2017.02.18-06.06.27_MD657_1_0130_cropped_down32/MD657-N60-2017.02.22-17.32.54_MD657_2_0179_alignedTo_MD657-F44-2017.02.18-06.06.27_MD657_1_0130_cropped_down32_sp5_denseScoreMap_setting_30.bp\n"
     ]
    },
    {
     "name": "stderr",
     "output_type": "stream",
     "text": [
      "Child returned 1\n",
      "0.35 seconds.\n",
      "Child returned 0\n"
     ]
    },
    {
     "name": "stdout",
     "output_type": "stream",
     "text": [
      "rm -rf /shared/CSHL_scoremaps_down32/MD657/MD657-N61-2017.03.21-13.54.42_MD657_2_0182_alignedTo_MD657-F44-2017.02.18-06.06.27_MD657_1_0130_cropped_down32/MD657-N61-2017.03.21-13.54.42_MD657_2_0182_alignedTo_MD657-F44-2017.02.18-06.06.27_MD657_1_0130_cropped_down32_sp5_denseScoreMap_setting_30.bp && mkdir -p /shared/CSHL_scoremaps_down32/MD657/MD657-N61-2017.03.21-13.54.42_MD657_2_0182_alignedTo_MD657-F44-2017.02.18-06.06.27_MD657_1_0130_cropped_down32\n",
      "aws s3 cp s3://mousebrainatlas-data/CSHL_scoremaps_down32/MD657/MD657-N61-2017.03.21-13.54.42_MD657_2_0182_alignedTo_MD657-F44-2017.02.18-06.06.27_MD657_1_0130_cropped_down32/MD657-N61-2017.03.21-13.54.42_MD657_2_0182_alignedTo_MD657-F44-2017.02.18-06.06.27_MD657_1_0130_cropped_down32_sp5_denseScoreMap_setting_30.bp /shared/CSHL_scoremaps_down32/MD657/MD657-N61-2017.03.21-13.54.42_MD657_2_0182_alignedTo_MD657-F44-2017.02.18-06.06.27_MD657_1_0130_cropped_down32/MD657-N61-2017.03.21-13.54.42_MD657_2_0182_alignedTo_MD657-F44-2017.02.18-06.06.27_MD657_1_0130_cropped_down32_sp5_denseScoreMap_setting_30.bp\n"
     ]
    },
    {
     "name": "stderr",
     "output_type": "stream",
     "text": [
      "Child returned 1\n",
      "0.33 seconds.\n",
      "Child returned 0\n"
     ]
    },
    {
     "name": "stdout",
     "output_type": "stream",
     "text": [
      "rm -rf /shared/CSHL_scoremaps_down32/MD657/MD657-N62-2017.03.21-13.59.22_MD657_1_0184_alignedTo_MD657-F44-2017.02.18-06.06.27_MD657_1_0130_cropped_down32/MD657-N62-2017.03.21-13.59.22_MD657_1_0184_alignedTo_MD657-F44-2017.02.18-06.06.27_MD657_1_0130_cropped_down32_sp5_denseScoreMap_setting_30.bp && mkdir -p /shared/CSHL_scoremaps_down32/MD657/MD657-N62-2017.03.21-13.59.22_MD657_1_0184_alignedTo_MD657-F44-2017.02.18-06.06.27_MD657_1_0130_cropped_down32\n",
      "aws s3 cp s3://mousebrainatlas-data/CSHL_scoremaps_down32/MD657/MD657-N62-2017.03.21-13.59.22_MD657_1_0184_alignedTo_MD657-F44-2017.02.18-06.06.27_MD657_1_0130_cropped_down32/MD657-N62-2017.03.21-13.59.22_MD657_1_0184_alignedTo_MD657-F44-2017.02.18-06.06.27_MD657_1_0130_cropped_down32_sp5_denseScoreMap_setting_30.bp /shared/CSHL_scoremaps_down32/MD657/MD657-N62-2017.03.21-13.59.22_MD657_1_0184_alignedTo_MD657-F44-2017.02.18-06.06.27_MD657_1_0130_cropped_down32/MD657-N62-2017.03.21-13.59.22_MD657_1_0184_alignedTo_MD657-F44-2017.02.18-06.06.27_MD657_1_0130_cropped_down32_sp5_denseScoreMap_setting_30.bp\n"
     ]
    },
    {
     "name": "stderr",
     "output_type": "stream",
     "text": [
      "Child returned 1\n",
      "0.35 seconds.\n",
      "Child returned 0\n"
     ]
    },
    {
     "name": "stdout",
     "output_type": "stream",
     "text": [
      "rm -rf /shared/CSHL_scoremaps_down32/MD657/MD657-N62-2017.03.21-13.59.22_MD657_2_0185_alignedTo_MD657-F44-2017.02.18-06.06.27_MD657_1_0130_cropped_down32/MD657-N62-2017.03.21-13.59.22_MD657_2_0185_alignedTo_MD657-F44-2017.02.18-06.06.27_MD657_1_0130_cropped_down32_sp5_denseScoreMap_setting_30.bp && mkdir -p /shared/CSHL_scoremaps_down32/MD657/MD657-N62-2017.03.21-13.59.22_MD657_2_0185_alignedTo_MD657-F44-2017.02.18-06.06.27_MD657_1_0130_cropped_down32\n",
      "aws s3 cp s3://mousebrainatlas-data/CSHL_scoremaps_down32/MD657/MD657-N62-2017.03.21-13.59.22_MD657_2_0185_alignedTo_MD657-F44-2017.02.18-06.06.27_MD657_1_0130_cropped_down32/MD657-N62-2017.03.21-13.59.22_MD657_2_0185_alignedTo_MD657-F44-2017.02.18-06.06.27_MD657_1_0130_cropped_down32_sp5_denseScoreMap_setting_30.bp /shared/CSHL_scoremaps_down32/MD657/MD657-N62-2017.03.21-13.59.22_MD657_2_0185_alignedTo_MD657-F44-2017.02.18-06.06.27_MD657_1_0130_cropped_down32/MD657-N62-2017.03.21-13.59.22_MD657_2_0185_alignedTo_MD657-F44-2017.02.18-06.06.27_MD657_1_0130_cropped_down32_sp5_denseScoreMap_setting_30.bp\n"
     ]
    },
    {
     "name": "stderr",
     "output_type": "stream",
     "text": [
      "Child returned 1\n",
      "0.34 seconds.\n",
      "Child returned 0\n"
     ]
    },
    {
     "name": "stdout",
     "output_type": "stream",
     "text": [
      "rm -rf /shared/CSHL_scoremaps_down32/MD657/MD657-N63-2017.03.21-14.03.34_MD657_1_0187_alignedTo_MD657-F44-2017.02.18-06.06.27_MD657_1_0130_cropped_down32/MD657-N63-2017.03.21-14.03.34_MD657_1_0187_alignedTo_MD657-F44-2017.02.18-06.06.27_MD657_1_0130_cropped_down32_sp5_denseScoreMap_setting_30.bp && mkdir -p /shared/CSHL_scoremaps_down32/MD657/MD657-N63-2017.03.21-14.03.34_MD657_1_0187_alignedTo_MD657-F44-2017.02.18-06.06.27_MD657_1_0130_cropped_down32\n",
      "aws s3 cp s3://mousebrainatlas-data/CSHL_scoremaps_down32/MD657/MD657-N63-2017.03.21-14.03.34_MD657_1_0187_alignedTo_MD657-F44-2017.02.18-06.06.27_MD657_1_0130_cropped_down32/MD657-N63-2017.03.21-14.03.34_MD657_1_0187_alignedTo_MD657-F44-2017.02.18-06.06.27_MD657_1_0130_cropped_down32_sp5_denseScoreMap_setting_30.bp /shared/CSHL_scoremaps_down32/MD657/MD657-N63-2017.03.21-14.03.34_MD657_1_0187_alignedTo_MD657-F44-2017.02.18-06.06.27_MD657_1_0130_cropped_down32/MD657-N63-2017.03.21-14.03.34_MD657_1_0187_alignedTo_MD657-F44-2017.02.18-06.06.27_MD657_1_0130_cropped_down32_sp5_denseScoreMap_setting_30.bp\n"
     ]
    },
    {
     "name": "stderr",
     "output_type": "stream",
     "text": [
      "Child returned 1\n",
      "0.35 seconds.\n",
      "Child returned 0\n"
     ]
    },
    {
     "name": "stdout",
     "output_type": "stream",
     "text": [
      "rm -rf /shared/CSHL_scoremaps_down32/MD657/MD657-N63-2017.03.21-14.03.34_MD657_2_0188_alignedTo_MD657-F44-2017.02.18-06.06.27_MD657_1_0130_cropped_down32/MD657-N63-2017.03.21-14.03.34_MD657_2_0188_alignedTo_MD657-F44-2017.02.18-06.06.27_MD657_1_0130_cropped_down32_sp5_denseScoreMap_setting_30.bp && mkdir -p /shared/CSHL_scoremaps_down32/MD657/MD657-N63-2017.03.21-14.03.34_MD657_2_0188_alignedTo_MD657-F44-2017.02.18-06.06.27_MD657_1_0130_cropped_down32\n",
      "aws s3 cp s3://mousebrainatlas-data/CSHL_scoremaps_down32/MD657/MD657-N63-2017.03.21-14.03.34_MD657_2_0188_alignedTo_MD657-F44-2017.02.18-06.06.27_MD657_1_0130_cropped_down32/MD657-N63-2017.03.21-14.03.34_MD657_2_0188_alignedTo_MD657-F44-2017.02.18-06.06.27_MD657_1_0130_cropped_down32_sp5_denseScoreMap_setting_30.bp /shared/CSHL_scoremaps_down32/MD657/MD657-N63-2017.03.21-14.03.34_MD657_2_0188_alignedTo_MD657-F44-2017.02.18-06.06.27_MD657_1_0130_cropped_down32/MD657-N63-2017.03.21-14.03.34_MD657_2_0188_alignedTo_MD657-F44-2017.02.18-06.06.27_MD657_1_0130_cropped_down32_sp5_denseScoreMap_setting_30.bp\n"
     ]
    },
    {
     "name": "stderr",
     "output_type": "stream",
     "text": [
      "Child returned 1\n",
      "0.35 seconds.\n",
      "Child returned 0\n"
     ]
    },
    {
     "name": "stdout",
     "output_type": "stream",
     "text": [
      "rm -rf /shared/CSHL_scoremaps_down32/MD657/MD657-N64-2017.03.21-14.08.01_MD657_1_0190_alignedTo_MD657-F44-2017.02.18-06.06.27_MD657_1_0130_cropped_down32/MD657-N64-2017.03.21-14.08.01_MD657_1_0190_alignedTo_MD657-F44-2017.02.18-06.06.27_MD657_1_0130_cropped_down32_sp5_denseScoreMap_setting_30.bp && mkdir -p /shared/CSHL_scoremaps_down32/MD657/MD657-N64-2017.03.21-14.08.01_MD657_1_0190_alignedTo_MD657-F44-2017.02.18-06.06.27_MD657_1_0130_cropped_down32\n",
      "aws s3 cp s3://mousebrainatlas-data/CSHL_scoremaps_down32/MD657/MD657-N64-2017.03.21-14.08.01_MD657_1_0190_alignedTo_MD657-F44-2017.02.18-06.06.27_MD657_1_0130_cropped_down32/MD657-N64-2017.03.21-14.08.01_MD657_1_0190_alignedTo_MD657-F44-2017.02.18-06.06.27_MD657_1_0130_cropped_down32_sp5_denseScoreMap_setting_30.bp /shared/CSHL_scoremaps_down32/MD657/MD657-N64-2017.03.21-14.08.01_MD657_1_0190_alignedTo_MD657-F44-2017.02.18-06.06.27_MD657_1_0130_cropped_down32/MD657-N64-2017.03.21-14.08.01_MD657_1_0190_alignedTo_MD657-F44-2017.02.18-06.06.27_MD657_1_0130_cropped_down32_sp5_denseScoreMap_setting_30.bp\n"
     ]
    },
    {
     "name": "stderr",
     "output_type": "stream",
     "text": [
      "Child returned 1\n",
      "0.34 seconds.\n",
      "Child returned 0\n"
     ]
    },
    {
     "name": "stdout",
     "output_type": "stream",
     "text": [
      "rm -rf /shared/CSHL_scoremaps_down32/MD657/MD657-N64-2017.03.21-14.08.01_MD657_2_0191_alignedTo_MD657-F44-2017.02.18-06.06.27_MD657_1_0130_cropped_down32/MD657-N64-2017.03.21-14.08.01_MD657_2_0191_alignedTo_MD657-F44-2017.02.18-06.06.27_MD657_1_0130_cropped_down32_sp5_denseScoreMap_setting_30.bp && mkdir -p /shared/CSHL_scoremaps_down32/MD657/MD657-N64-2017.03.21-14.08.01_MD657_2_0191_alignedTo_MD657-F44-2017.02.18-06.06.27_MD657_1_0130_cropped_down32\n",
      "aws s3 cp s3://mousebrainatlas-data/CSHL_scoremaps_down32/MD657/MD657-N64-2017.03.21-14.08.01_MD657_2_0191_alignedTo_MD657-F44-2017.02.18-06.06.27_MD657_1_0130_cropped_down32/MD657-N64-2017.03.21-14.08.01_MD657_2_0191_alignedTo_MD657-F44-2017.02.18-06.06.27_MD657_1_0130_cropped_down32_sp5_denseScoreMap_setting_30.bp /shared/CSHL_scoremaps_down32/MD657/MD657-N64-2017.03.21-14.08.01_MD657_2_0191_alignedTo_MD657-F44-2017.02.18-06.06.27_MD657_1_0130_cropped_down32/MD657-N64-2017.03.21-14.08.01_MD657_2_0191_alignedTo_MD657-F44-2017.02.18-06.06.27_MD657_1_0130_cropped_down32_sp5_denseScoreMap_setting_30.bp\n"
     ]
    },
    {
     "name": "stderr",
     "output_type": "stream",
     "text": [
      "Child returned 1\n",
      "0.35 seconds.\n",
      "Child returned 0\n"
     ]
    },
    {
     "name": "stdout",
     "output_type": "stream",
     "text": [
      "rm -rf /shared/CSHL_scoremaps_down32/MD657/MD657-N65-2017.03.21-14.12.15_MD657_1_0193_alignedTo_MD657-F44-2017.02.18-06.06.27_MD657_1_0130_cropped_down32/MD657-N65-2017.03.21-14.12.15_MD657_1_0193_alignedTo_MD657-F44-2017.02.18-06.06.27_MD657_1_0130_cropped_down32_sp5_denseScoreMap_setting_30.bp && mkdir -p /shared/CSHL_scoremaps_down32/MD657/MD657-N65-2017.03.21-14.12.15_MD657_1_0193_alignedTo_MD657-F44-2017.02.18-06.06.27_MD657_1_0130_cropped_down32\n",
      "aws s3 cp s3://mousebrainatlas-data/CSHL_scoremaps_down32/MD657/MD657-N65-2017.03.21-14.12.15_MD657_1_0193_alignedTo_MD657-F44-2017.02.18-06.06.27_MD657_1_0130_cropped_down32/MD657-N65-2017.03.21-14.12.15_MD657_1_0193_alignedTo_MD657-F44-2017.02.18-06.06.27_MD657_1_0130_cropped_down32_sp5_denseScoreMap_setting_30.bp /shared/CSHL_scoremaps_down32/MD657/MD657-N65-2017.03.21-14.12.15_MD657_1_0193_alignedTo_MD657-F44-2017.02.18-06.06.27_MD657_1_0130_cropped_down32/MD657-N65-2017.03.21-14.12.15_MD657_1_0193_alignedTo_MD657-F44-2017.02.18-06.06.27_MD657_1_0130_cropped_down32_sp5_denseScoreMap_setting_30.bp\n"
     ]
    },
    {
     "name": "stderr",
     "output_type": "stream",
     "text": [
      "Child returned 1\n",
      "0.34 seconds.\n",
      "Child returned 0\n"
     ]
    },
    {
     "name": "stdout",
     "output_type": "stream",
     "text": [
      "rm -rf /shared/CSHL_scoremaps_down32/MD657/MD657-N65-2017.03.21-14.12.15_MD657_2_0194_alignedTo_MD657-F44-2017.02.18-06.06.27_MD657_1_0130_cropped_down32/MD657-N65-2017.03.21-14.12.15_MD657_2_0194_alignedTo_MD657-F44-2017.02.18-06.06.27_MD657_1_0130_cropped_down32_sp5_denseScoreMap_setting_30.bp && mkdir -p /shared/CSHL_scoremaps_down32/MD657/MD657-N65-2017.03.21-14.12.15_MD657_2_0194_alignedTo_MD657-F44-2017.02.18-06.06.27_MD657_1_0130_cropped_down32\n",
      "aws s3 cp s3://mousebrainatlas-data/CSHL_scoremaps_down32/MD657/MD657-N65-2017.03.21-14.12.15_MD657_2_0194_alignedTo_MD657-F44-2017.02.18-06.06.27_MD657_1_0130_cropped_down32/MD657-N65-2017.03.21-14.12.15_MD657_2_0194_alignedTo_MD657-F44-2017.02.18-06.06.27_MD657_1_0130_cropped_down32_sp5_denseScoreMap_setting_30.bp /shared/CSHL_scoremaps_down32/MD657/MD657-N65-2017.03.21-14.12.15_MD657_2_0194_alignedTo_MD657-F44-2017.02.18-06.06.27_MD657_1_0130_cropped_down32/MD657-N65-2017.03.21-14.12.15_MD657_2_0194_alignedTo_MD657-F44-2017.02.18-06.06.27_MD657_1_0130_cropped_down32_sp5_denseScoreMap_setting_30.bp\n"
     ]
    },
    {
     "name": "stderr",
     "output_type": "stream",
     "text": [
      "Child returned 1\n",
      "0.36 seconds.\n",
      "Child returned 0\n"
     ]
    },
    {
     "name": "stdout",
     "output_type": "stream",
     "text": [
      "rm -rf /shared/CSHL_scoremaps_down32/MD657/MD657-N66-2017.03.21-14.16.35_MD657_2_0197_alignedTo_MD657-F44-2017.02.18-06.06.27_MD657_1_0130_cropped_down32/MD657-N66-2017.03.21-14.16.35_MD657_2_0197_alignedTo_MD657-F44-2017.02.18-06.06.27_MD657_1_0130_cropped_down32_sp5_denseScoreMap_setting_30.bp && mkdir -p /shared/CSHL_scoremaps_down32/MD657/MD657-N66-2017.03.21-14.16.35_MD657_2_0197_alignedTo_MD657-F44-2017.02.18-06.06.27_MD657_1_0130_cropped_down32\n",
      "aws s3 cp s3://mousebrainatlas-data/CSHL_scoremaps_down32/MD657/MD657-N66-2017.03.21-14.16.35_MD657_2_0197_alignedTo_MD657-F44-2017.02.18-06.06.27_MD657_1_0130_cropped_down32/MD657-N66-2017.03.21-14.16.35_MD657_2_0197_alignedTo_MD657-F44-2017.02.18-06.06.27_MD657_1_0130_cropped_down32_sp5_denseScoreMap_setting_30.bp /shared/CSHL_scoremaps_down32/MD657/MD657-N66-2017.03.21-14.16.35_MD657_2_0197_alignedTo_MD657-F44-2017.02.18-06.06.27_MD657_1_0130_cropped_down32/MD657-N66-2017.03.21-14.16.35_MD657_2_0197_alignedTo_MD657-F44-2017.02.18-06.06.27_MD657_1_0130_cropped_down32_sp5_denseScoreMap_setting_30.bp\n"
     ]
    },
    {
     "name": "stderr",
     "output_type": "stream",
     "text": [
      "Child returned 1\n",
      "0.45 seconds.\n",
      "Child returned 0\n"
     ]
    },
    {
     "name": "stdout",
     "output_type": "stream",
     "text": [
      "rm -rf /shared/CSHL_scoremaps_down32/MD657/MD657-N67-2017.02.22-17.59.54_MD657_1_0199_alignedTo_MD657-F44-2017.02.18-06.06.27_MD657_1_0130_cropped_down32/MD657-N67-2017.02.22-17.59.54_MD657_1_0199_alignedTo_MD657-F44-2017.02.18-06.06.27_MD657_1_0130_cropped_down32_sp5_denseScoreMap_setting_30.bp && mkdir -p /shared/CSHL_scoremaps_down32/MD657/MD657-N67-2017.02.22-17.59.54_MD657_1_0199_alignedTo_MD657-F44-2017.02.18-06.06.27_MD657_1_0130_cropped_down32\n",
      "aws s3 cp s3://mousebrainatlas-data/CSHL_scoremaps_down32/MD657/MD657-N67-2017.02.22-17.59.54_MD657_1_0199_alignedTo_MD657-F44-2017.02.18-06.06.27_MD657_1_0130_cropped_down32/MD657-N67-2017.02.22-17.59.54_MD657_1_0199_alignedTo_MD657-F44-2017.02.18-06.06.27_MD657_1_0130_cropped_down32_sp5_denseScoreMap_setting_30.bp /shared/CSHL_scoremaps_down32/MD657/MD657-N67-2017.02.22-17.59.54_MD657_1_0199_alignedTo_MD657-F44-2017.02.18-06.06.27_MD657_1_0130_cropped_down32/MD657-N67-2017.02.22-17.59.54_MD657_1_0199_alignedTo_MD657-F44-2017.02.18-06.06.27_MD657_1_0130_cropped_down32_sp5_denseScoreMap_setting_30.bp\n"
     ]
    },
    {
     "name": "stderr",
     "output_type": "stream",
     "text": [
      "Child returned 1\n",
      "0.34 seconds.\n",
      "Child returned 0\n"
     ]
    },
    {
     "name": "stdout",
     "output_type": "stream",
     "text": [
      "rm -rf /shared/CSHL_scoremaps_down32/MD657/MD657-N67-2017.02.22-17.59.54_MD657_2_0200_alignedTo_MD657-F44-2017.02.18-06.06.27_MD657_1_0130_cropped_down32/MD657-N67-2017.02.22-17.59.54_MD657_2_0200_alignedTo_MD657-F44-2017.02.18-06.06.27_MD657_1_0130_cropped_down32_sp5_denseScoreMap_setting_30.bp && mkdir -p /shared/CSHL_scoremaps_down32/MD657/MD657-N67-2017.02.22-17.59.54_MD657_2_0200_alignedTo_MD657-F44-2017.02.18-06.06.27_MD657_1_0130_cropped_down32\n",
      "aws s3 cp s3://mousebrainatlas-data/CSHL_scoremaps_down32/MD657/MD657-N67-2017.02.22-17.59.54_MD657_2_0200_alignedTo_MD657-F44-2017.02.18-06.06.27_MD657_1_0130_cropped_down32/MD657-N67-2017.02.22-17.59.54_MD657_2_0200_alignedTo_MD657-F44-2017.02.18-06.06.27_MD657_1_0130_cropped_down32_sp5_denseScoreMap_setting_30.bp /shared/CSHL_scoremaps_down32/MD657/MD657-N67-2017.02.22-17.59.54_MD657_2_0200_alignedTo_MD657-F44-2017.02.18-06.06.27_MD657_1_0130_cropped_down32/MD657-N67-2017.02.22-17.59.54_MD657_2_0200_alignedTo_MD657-F44-2017.02.18-06.06.27_MD657_1_0130_cropped_down32_sp5_denseScoreMap_setting_30.bp\n"
     ]
    },
    {
     "name": "stderr",
     "output_type": "stream",
     "text": [
      "Child returned 1\n",
      "0.34 seconds.\n",
      "Child returned 0\n"
     ]
    },
    {
     "name": "stdout",
     "output_type": "stream",
     "text": [
      "rm -rf /shared/CSHL_scoremaps_down32/MD657/MD657-N68-2017.02.22-18.03.28_MD657_1_0202_alignedTo_MD657-F44-2017.02.18-06.06.27_MD657_1_0130_cropped_down32/MD657-N68-2017.02.22-18.03.28_MD657_1_0202_alignedTo_MD657-F44-2017.02.18-06.06.27_MD657_1_0130_cropped_down32_sp5_denseScoreMap_setting_30.bp && mkdir -p /shared/CSHL_scoremaps_down32/MD657/MD657-N68-2017.02.22-18.03.28_MD657_1_0202_alignedTo_MD657-F44-2017.02.18-06.06.27_MD657_1_0130_cropped_down32\n",
      "aws s3 cp s3://mousebrainatlas-data/CSHL_scoremaps_down32/MD657/MD657-N68-2017.02.22-18.03.28_MD657_1_0202_alignedTo_MD657-F44-2017.02.18-06.06.27_MD657_1_0130_cropped_down32/MD657-N68-2017.02.22-18.03.28_MD657_1_0202_alignedTo_MD657-F44-2017.02.18-06.06.27_MD657_1_0130_cropped_down32_sp5_denseScoreMap_setting_30.bp /shared/CSHL_scoremaps_down32/MD657/MD657-N68-2017.02.22-18.03.28_MD657_1_0202_alignedTo_MD657-F44-2017.02.18-06.06.27_MD657_1_0130_cropped_down32/MD657-N68-2017.02.22-18.03.28_MD657_1_0202_alignedTo_MD657-F44-2017.02.18-06.06.27_MD657_1_0130_cropped_down32_sp5_denseScoreMap_setting_30.bp\n"
     ]
    },
    {
     "name": "stderr",
     "output_type": "stream",
     "text": [
      "Child returned 1\n",
      "0.35 seconds.\n",
      "Child returned 0\n"
     ]
    },
    {
     "name": "stdout",
     "output_type": "stream",
     "text": [
      "rm -rf /shared/CSHL_scoremaps_down32/MD657/MD657-N68-2017.02.22-18.03.28_MD657_2_0203_alignedTo_MD657-F44-2017.02.18-06.06.27_MD657_1_0130_cropped_down32/MD657-N68-2017.02.22-18.03.28_MD657_2_0203_alignedTo_MD657-F44-2017.02.18-06.06.27_MD657_1_0130_cropped_down32_sp5_denseScoreMap_setting_30.bp && mkdir -p /shared/CSHL_scoremaps_down32/MD657/MD657-N68-2017.02.22-18.03.28_MD657_2_0203_alignedTo_MD657-F44-2017.02.18-06.06.27_MD657_1_0130_cropped_down32\n",
      "aws s3 cp s3://mousebrainatlas-data/CSHL_scoremaps_down32/MD657/MD657-N68-2017.02.22-18.03.28_MD657_2_0203_alignedTo_MD657-F44-2017.02.18-06.06.27_MD657_1_0130_cropped_down32/MD657-N68-2017.02.22-18.03.28_MD657_2_0203_alignedTo_MD657-F44-2017.02.18-06.06.27_MD657_1_0130_cropped_down32_sp5_denseScoreMap_setting_30.bp /shared/CSHL_scoremaps_down32/MD657/MD657-N68-2017.02.22-18.03.28_MD657_2_0203_alignedTo_MD657-F44-2017.02.18-06.06.27_MD657_1_0130_cropped_down32/MD657-N68-2017.02.22-18.03.28_MD657_2_0203_alignedTo_MD657-F44-2017.02.18-06.06.27_MD657_1_0130_cropped_down32_sp5_denseScoreMap_setting_30.bp\n"
     ]
    },
    {
     "name": "stderr",
     "output_type": "stream",
     "text": [
      "Child returned 1\n",
      "0.34 seconds.\n",
      "Child returned 0\n"
     ]
    },
    {
     "name": "stdout",
     "output_type": "stream",
     "text": [
      "rm -rf /shared/CSHL_scoremaps_down32/MD657/MD657-N69-2017.02.22-18.07.03_MD657_1_0205_alignedTo_MD657-F44-2017.02.18-06.06.27_MD657_1_0130_cropped_down32/MD657-N69-2017.02.22-18.07.03_MD657_1_0205_alignedTo_MD657-F44-2017.02.18-06.06.27_MD657_1_0130_cropped_down32_sp5_denseScoreMap_setting_30.bp && mkdir -p /shared/CSHL_scoremaps_down32/MD657/MD657-N69-2017.02.22-18.07.03_MD657_1_0205_alignedTo_MD657-F44-2017.02.18-06.06.27_MD657_1_0130_cropped_down32\n",
      "aws s3 cp s3://mousebrainatlas-data/CSHL_scoremaps_down32/MD657/MD657-N69-2017.02.22-18.07.03_MD657_1_0205_alignedTo_MD657-F44-2017.02.18-06.06.27_MD657_1_0130_cropped_down32/MD657-N69-2017.02.22-18.07.03_MD657_1_0205_alignedTo_MD657-F44-2017.02.18-06.06.27_MD657_1_0130_cropped_down32_sp5_denseScoreMap_setting_30.bp /shared/CSHL_scoremaps_down32/MD657/MD657-N69-2017.02.22-18.07.03_MD657_1_0205_alignedTo_MD657-F44-2017.02.18-06.06.27_MD657_1_0130_cropped_down32/MD657-N69-2017.02.22-18.07.03_MD657_1_0205_alignedTo_MD657-F44-2017.02.18-06.06.27_MD657_1_0130_cropped_down32_sp5_denseScoreMap_setting_30.bp\n"
     ]
    },
    {
     "name": "stderr",
     "output_type": "stream",
     "text": [
      "Child returned 1\n",
      "0.34 seconds.\n",
      "Child returned 0\n"
     ]
    },
    {
     "name": "stdout",
     "output_type": "stream",
     "text": [
      "rm -rf /shared/CSHL_scoremaps_down32/MD657/MD657-N69-2017.02.22-18.07.03_MD657_2_0206_alignedTo_MD657-F44-2017.02.18-06.06.27_MD657_1_0130_cropped_down32/MD657-N69-2017.02.22-18.07.03_MD657_2_0206_alignedTo_MD657-F44-2017.02.18-06.06.27_MD657_1_0130_cropped_down32_sp5_denseScoreMap_setting_30.bp && mkdir -p /shared/CSHL_scoremaps_down32/MD657/MD657-N69-2017.02.22-18.07.03_MD657_2_0206_alignedTo_MD657-F44-2017.02.18-06.06.27_MD657_1_0130_cropped_down32\n",
      "aws s3 cp s3://mousebrainatlas-data/CSHL_scoremaps_down32/MD657/MD657-N69-2017.02.22-18.07.03_MD657_2_0206_alignedTo_MD657-F44-2017.02.18-06.06.27_MD657_1_0130_cropped_down32/MD657-N69-2017.02.22-18.07.03_MD657_2_0206_alignedTo_MD657-F44-2017.02.18-06.06.27_MD657_1_0130_cropped_down32_sp5_denseScoreMap_setting_30.bp /shared/CSHL_scoremaps_down32/MD657/MD657-N69-2017.02.22-18.07.03_MD657_2_0206_alignedTo_MD657-F44-2017.02.18-06.06.27_MD657_1_0130_cropped_down32/MD657-N69-2017.02.22-18.07.03_MD657_2_0206_alignedTo_MD657-F44-2017.02.18-06.06.27_MD657_1_0130_cropped_down32_sp5_denseScoreMap_setting_30.bp\n"
     ]
    },
    {
     "name": "stderr",
     "output_type": "stream",
     "text": [
      "Child returned 1\n",
      "0.33 seconds.\n",
      "Child returned 0\n"
     ]
    },
    {
     "name": "stdout",
     "output_type": "stream",
     "text": [
      "rm -rf /shared/CSHL_scoremaps_down32/MD657/MD657-N70-2017.02.22-18.31.14_MD657_1_0208_alignedTo_MD657-F44-2017.02.18-06.06.27_MD657_1_0130_cropped_down32/MD657-N70-2017.02.22-18.31.14_MD657_1_0208_alignedTo_MD657-F44-2017.02.18-06.06.27_MD657_1_0130_cropped_down32_sp5_denseScoreMap_setting_30.bp && mkdir -p /shared/CSHL_scoremaps_down32/MD657/MD657-N70-2017.02.22-18.31.14_MD657_1_0208_alignedTo_MD657-F44-2017.02.18-06.06.27_MD657_1_0130_cropped_down32\n",
      "aws s3 cp s3://mousebrainatlas-data/CSHL_scoremaps_down32/MD657/MD657-N70-2017.02.22-18.31.14_MD657_1_0208_alignedTo_MD657-F44-2017.02.18-06.06.27_MD657_1_0130_cropped_down32/MD657-N70-2017.02.22-18.31.14_MD657_1_0208_alignedTo_MD657-F44-2017.02.18-06.06.27_MD657_1_0130_cropped_down32_sp5_denseScoreMap_setting_30.bp /shared/CSHL_scoremaps_down32/MD657/MD657-N70-2017.02.22-18.31.14_MD657_1_0208_alignedTo_MD657-F44-2017.02.18-06.06.27_MD657_1_0130_cropped_down32/MD657-N70-2017.02.22-18.31.14_MD657_1_0208_alignedTo_MD657-F44-2017.02.18-06.06.27_MD657_1_0130_cropped_down32_sp5_denseScoreMap_setting_30.bp\n"
     ]
    },
    {
     "name": "stderr",
     "output_type": "stream",
     "text": [
      "Child returned 1\n",
      "0.33 seconds.\n",
      "Child returned 0\n"
     ]
    },
    {
     "name": "stdout",
     "output_type": "stream",
     "text": [
      "rm -rf /shared/CSHL_scoremaps_down32/MD657/MD657-N70-2017.02.22-18.31.14_MD657_2_0209_alignedTo_MD657-F44-2017.02.18-06.06.27_MD657_1_0130_cropped_down32/MD657-N70-2017.02.22-18.31.14_MD657_2_0209_alignedTo_MD657-F44-2017.02.18-06.06.27_MD657_1_0130_cropped_down32_sp5_denseScoreMap_setting_30.bp && mkdir -p /shared/CSHL_scoremaps_down32/MD657/MD657-N70-2017.02.22-18.31.14_MD657_2_0209_alignedTo_MD657-F44-2017.02.18-06.06.27_MD657_1_0130_cropped_down32\n",
      "aws s3 cp s3://mousebrainatlas-data/CSHL_scoremaps_down32/MD657/MD657-N70-2017.02.22-18.31.14_MD657_2_0209_alignedTo_MD657-F44-2017.02.18-06.06.27_MD657_1_0130_cropped_down32/MD657-N70-2017.02.22-18.31.14_MD657_2_0209_alignedTo_MD657-F44-2017.02.18-06.06.27_MD657_1_0130_cropped_down32_sp5_denseScoreMap_setting_30.bp /shared/CSHL_scoremaps_down32/MD657/MD657-N70-2017.02.22-18.31.14_MD657_2_0209_alignedTo_MD657-F44-2017.02.18-06.06.27_MD657_1_0130_cropped_down32/MD657-N70-2017.02.22-18.31.14_MD657_2_0209_alignedTo_MD657-F44-2017.02.18-06.06.27_MD657_1_0130_cropped_down32_sp5_denseScoreMap_setting_30.bp\n"
     ]
    },
    {
     "name": "stderr",
     "output_type": "stream",
     "text": [
      "Child returned 1\n",
      "0.35 seconds.\n",
      "Child returned 0\n"
     ]
    },
    {
     "name": "stdout",
     "output_type": "stream",
     "text": [
      "rm -rf /shared/CSHL_scoremaps_down32/MD657/MD657-N71-2017.02.22-18.34.41_MD657_1_0211_alignedTo_MD657-F44-2017.02.18-06.06.27_MD657_1_0130_cropped_down32/MD657-N71-2017.02.22-18.34.41_MD657_1_0211_alignedTo_MD657-F44-2017.02.18-06.06.27_MD657_1_0130_cropped_down32_sp5_denseScoreMap_setting_30.bp && mkdir -p /shared/CSHL_scoremaps_down32/MD657/MD657-N71-2017.02.22-18.34.41_MD657_1_0211_alignedTo_MD657-F44-2017.02.18-06.06.27_MD657_1_0130_cropped_down32\n",
      "aws s3 cp s3://mousebrainatlas-data/CSHL_scoremaps_down32/MD657/MD657-N71-2017.02.22-18.34.41_MD657_1_0211_alignedTo_MD657-F44-2017.02.18-06.06.27_MD657_1_0130_cropped_down32/MD657-N71-2017.02.22-18.34.41_MD657_1_0211_alignedTo_MD657-F44-2017.02.18-06.06.27_MD657_1_0130_cropped_down32_sp5_denseScoreMap_setting_30.bp /shared/CSHL_scoremaps_down32/MD657/MD657-N71-2017.02.22-18.34.41_MD657_1_0211_alignedTo_MD657-F44-2017.02.18-06.06.27_MD657_1_0130_cropped_down32/MD657-N71-2017.02.22-18.34.41_MD657_1_0211_alignedTo_MD657-F44-2017.02.18-06.06.27_MD657_1_0130_cropped_down32_sp5_denseScoreMap_setting_30.bp\n"
     ]
    },
    {
     "name": "stderr",
     "output_type": "stream",
     "text": [
      "Child returned 1\n",
      "0.34 seconds.\n",
      "Child returned 0\n"
     ]
    },
    {
     "name": "stdout",
     "output_type": "stream",
     "text": [
      "rm -rf /shared/CSHL_scoremaps_down32/MD657/MD657-N71-2017.02.22-18.34.41_MD657_2_0212_alignedTo_MD657-F44-2017.02.18-06.06.27_MD657_1_0130_cropped_down32/MD657-N71-2017.02.22-18.34.41_MD657_2_0212_alignedTo_MD657-F44-2017.02.18-06.06.27_MD657_1_0130_cropped_down32_sp5_denseScoreMap_setting_30.bp && mkdir -p /shared/CSHL_scoremaps_down32/MD657/MD657-N71-2017.02.22-18.34.41_MD657_2_0212_alignedTo_MD657-F44-2017.02.18-06.06.27_MD657_1_0130_cropped_down32\n",
      "aws s3 cp s3://mousebrainatlas-data/CSHL_scoremaps_down32/MD657/MD657-N71-2017.02.22-18.34.41_MD657_2_0212_alignedTo_MD657-F44-2017.02.18-06.06.27_MD657_1_0130_cropped_down32/MD657-N71-2017.02.22-18.34.41_MD657_2_0212_alignedTo_MD657-F44-2017.02.18-06.06.27_MD657_1_0130_cropped_down32_sp5_denseScoreMap_setting_30.bp /shared/CSHL_scoremaps_down32/MD657/MD657-N71-2017.02.22-18.34.41_MD657_2_0212_alignedTo_MD657-F44-2017.02.18-06.06.27_MD657_1_0130_cropped_down32/MD657-N71-2017.02.22-18.34.41_MD657_2_0212_alignedTo_MD657-F44-2017.02.18-06.06.27_MD657_1_0130_cropped_down32_sp5_denseScoreMap_setting_30.bp\n"
     ]
    },
    {
     "name": "stderr",
     "output_type": "stream",
     "text": [
      "Child returned 1\n",
      "0.34 seconds.\n",
      "Child returned 0\n"
     ]
    },
    {
     "name": "stdout",
     "output_type": "stream",
     "text": [
      "rm -rf /shared/CSHL_scoremaps_down32/MD657/MD657-N72-2017.02.22-18.38.06_MD657_1_0214_alignedTo_MD657-F44-2017.02.18-06.06.27_MD657_1_0130_cropped_down32/MD657-N72-2017.02.22-18.38.06_MD657_1_0214_alignedTo_MD657-F44-2017.02.18-06.06.27_MD657_1_0130_cropped_down32_sp5_denseScoreMap_setting_30.bp && mkdir -p /shared/CSHL_scoremaps_down32/MD657/MD657-N72-2017.02.22-18.38.06_MD657_1_0214_alignedTo_MD657-F44-2017.02.18-06.06.27_MD657_1_0130_cropped_down32\n",
      "aws s3 cp s3://mousebrainatlas-data/CSHL_scoremaps_down32/MD657/MD657-N72-2017.02.22-18.38.06_MD657_1_0214_alignedTo_MD657-F44-2017.02.18-06.06.27_MD657_1_0130_cropped_down32/MD657-N72-2017.02.22-18.38.06_MD657_1_0214_alignedTo_MD657-F44-2017.02.18-06.06.27_MD657_1_0130_cropped_down32_sp5_denseScoreMap_setting_30.bp /shared/CSHL_scoremaps_down32/MD657/MD657-N72-2017.02.22-18.38.06_MD657_1_0214_alignedTo_MD657-F44-2017.02.18-06.06.27_MD657_1_0130_cropped_down32/MD657-N72-2017.02.22-18.38.06_MD657_1_0214_alignedTo_MD657-F44-2017.02.18-06.06.27_MD657_1_0130_cropped_down32_sp5_denseScoreMap_setting_30.bp\n"
     ]
    },
    {
     "name": "stderr",
     "output_type": "stream",
     "text": [
      "Child returned 1\n",
      "0.34 seconds.\n",
      "Child returned 0\n"
     ]
    },
    {
     "name": "stdout",
     "output_type": "stream",
     "text": [
      "rm -rf /shared/CSHL_scoremaps_down32/MD657/MD657-N72-2017.02.22-18.38.06_MD657_2_0215_alignedTo_MD657-F44-2017.02.18-06.06.27_MD657_1_0130_cropped_down32/MD657-N72-2017.02.22-18.38.06_MD657_2_0215_alignedTo_MD657-F44-2017.02.18-06.06.27_MD657_1_0130_cropped_down32_sp5_denseScoreMap_setting_30.bp && mkdir -p /shared/CSHL_scoremaps_down32/MD657/MD657-N72-2017.02.22-18.38.06_MD657_2_0215_alignedTo_MD657-F44-2017.02.18-06.06.27_MD657_1_0130_cropped_down32\n",
      "aws s3 cp s3://mousebrainatlas-data/CSHL_scoremaps_down32/MD657/MD657-N72-2017.02.22-18.38.06_MD657_2_0215_alignedTo_MD657-F44-2017.02.18-06.06.27_MD657_1_0130_cropped_down32/MD657-N72-2017.02.22-18.38.06_MD657_2_0215_alignedTo_MD657-F44-2017.02.18-06.06.27_MD657_1_0130_cropped_down32_sp5_denseScoreMap_setting_30.bp /shared/CSHL_scoremaps_down32/MD657/MD657-N72-2017.02.22-18.38.06_MD657_2_0215_alignedTo_MD657-F44-2017.02.18-06.06.27_MD657_1_0130_cropped_down32/MD657-N72-2017.02.22-18.38.06_MD657_2_0215_alignedTo_MD657-F44-2017.02.18-06.06.27_MD657_1_0130_cropped_down32_sp5_denseScoreMap_setting_30.bp\n"
     ]
    },
    {
     "name": "stderr",
     "output_type": "stream",
     "text": [
      "Child returned 1\n",
      "0.34 seconds.\n",
      "Child returned 0\n"
     ]
    },
    {
     "name": "stdout",
     "output_type": "stream",
     "text": [
      "rm -rf /shared/CSHL_scoremaps_down32/MD657/MD657-N73-2017.02.22-18.41.32_MD657_1_0217_alignedTo_MD657-F44-2017.02.18-06.06.27_MD657_1_0130_cropped_down32/MD657-N73-2017.02.22-18.41.32_MD657_1_0217_alignedTo_MD657-F44-2017.02.18-06.06.27_MD657_1_0130_cropped_down32_sp5_denseScoreMap_setting_30.bp && mkdir -p /shared/CSHL_scoremaps_down32/MD657/MD657-N73-2017.02.22-18.41.32_MD657_1_0217_alignedTo_MD657-F44-2017.02.18-06.06.27_MD657_1_0130_cropped_down32\n",
      "aws s3 cp s3://mousebrainatlas-data/CSHL_scoremaps_down32/MD657/MD657-N73-2017.02.22-18.41.32_MD657_1_0217_alignedTo_MD657-F44-2017.02.18-06.06.27_MD657_1_0130_cropped_down32/MD657-N73-2017.02.22-18.41.32_MD657_1_0217_alignedTo_MD657-F44-2017.02.18-06.06.27_MD657_1_0130_cropped_down32_sp5_denseScoreMap_setting_30.bp /shared/CSHL_scoremaps_down32/MD657/MD657-N73-2017.02.22-18.41.32_MD657_1_0217_alignedTo_MD657-F44-2017.02.18-06.06.27_MD657_1_0130_cropped_down32/MD657-N73-2017.02.22-18.41.32_MD657_1_0217_alignedTo_MD657-F44-2017.02.18-06.06.27_MD657_1_0130_cropped_down32_sp5_denseScoreMap_setting_30.bp\n"
     ]
    },
    {
     "name": "stderr",
     "output_type": "stream",
     "text": [
      "Child returned 1\n",
      "0.33 seconds.\n",
      "Child returned 0\n"
     ]
    },
    {
     "name": "stdout",
     "output_type": "stream",
     "text": [
      "rm -rf /shared/CSHL_scoremaps_down32/MD657/MD657-N73-2017.02.22-18.41.32_MD657_2_0218_alignedTo_MD657-F44-2017.02.18-06.06.27_MD657_1_0130_cropped_down32/MD657-N73-2017.02.22-18.41.32_MD657_2_0218_alignedTo_MD657-F44-2017.02.18-06.06.27_MD657_1_0130_cropped_down32_sp5_denseScoreMap_setting_30.bp && mkdir -p /shared/CSHL_scoremaps_down32/MD657/MD657-N73-2017.02.22-18.41.32_MD657_2_0218_alignedTo_MD657-F44-2017.02.18-06.06.27_MD657_1_0130_cropped_down32\n",
      "aws s3 cp s3://mousebrainatlas-data/CSHL_scoremaps_down32/MD657/MD657-N73-2017.02.22-18.41.32_MD657_2_0218_alignedTo_MD657-F44-2017.02.18-06.06.27_MD657_1_0130_cropped_down32/MD657-N73-2017.02.22-18.41.32_MD657_2_0218_alignedTo_MD657-F44-2017.02.18-06.06.27_MD657_1_0130_cropped_down32_sp5_denseScoreMap_setting_30.bp /shared/CSHL_scoremaps_down32/MD657/MD657-N73-2017.02.22-18.41.32_MD657_2_0218_alignedTo_MD657-F44-2017.02.18-06.06.27_MD657_1_0130_cropped_down32/MD657-N73-2017.02.22-18.41.32_MD657_2_0218_alignedTo_MD657-F44-2017.02.18-06.06.27_MD657_1_0130_cropped_down32_sp5_denseScoreMap_setting_30.bp\n"
     ]
    },
    {
     "name": "stderr",
     "output_type": "stream",
     "text": [
      "Child returned 1\n",
      "0.33 seconds.\n",
      "Child returned 0\n"
     ]
    },
    {
     "name": "stdout",
     "output_type": "stream",
     "text": [
      "rm -rf /shared/CSHL_scoremaps_down32/MD657/MD657-N74-2017.02.22-18.44.55_MD657_2_0221_alignedTo_MD657-F44-2017.02.18-06.06.27_MD657_1_0130_cropped_down32/MD657-N74-2017.02.22-18.44.55_MD657_2_0221_alignedTo_MD657-F44-2017.02.18-06.06.27_MD657_1_0130_cropped_down32_sp5_denseScoreMap_setting_30.bp && mkdir -p /shared/CSHL_scoremaps_down32/MD657/MD657-N74-2017.02.22-18.44.55_MD657_2_0221_alignedTo_MD657-F44-2017.02.18-06.06.27_MD657_1_0130_cropped_down32\n",
      "aws s3 cp s3://mousebrainatlas-data/CSHL_scoremaps_down32/MD657/MD657-N74-2017.02.22-18.44.55_MD657_2_0221_alignedTo_MD657-F44-2017.02.18-06.06.27_MD657_1_0130_cropped_down32/MD657-N74-2017.02.22-18.44.55_MD657_2_0221_alignedTo_MD657-F44-2017.02.18-06.06.27_MD657_1_0130_cropped_down32_sp5_denseScoreMap_setting_30.bp /shared/CSHL_scoremaps_down32/MD657/MD657-N74-2017.02.22-18.44.55_MD657_2_0221_alignedTo_MD657-F44-2017.02.18-06.06.27_MD657_1_0130_cropped_down32/MD657-N74-2017.02.22-18.44.55_MD657_2_0221_alignedTo_MD657-F44-2017.02.18-06.06.27_MD657_1_0130_cropped_down32_sp5_denseScoreMap_setting_30.bp\n"
     ]
    },
    {
     "name": "stderr",
     "output_type": "stream",
     "text": [
      "Child returned 1\n",
      "0.35 seconds.\n",
      "Child returned 0\n"
     ]
    },
    {
     "name": "stdout",
     "output_type": "stream",
     "text": [
      "rm -rf /shared/CSHL_scoremaps_down32/MD657/MD657-N75-2017.02.22-18.48.18_MD657_1_0223_alignedTo_MD657-F44-2017.02.18-06.06.27_MD657_1_0130_cropped_down32/MD657-N75-2017.02.22-18.48.18_MD657_1_0223_alignedTo_MD657-F44-2017.02.18-06.06.27_MD657_1_0130_cropped_down32_sp5_denseScoreMap_setting_30.bp && mkdir -p /shared/CSHL_scoremaps_down32/MD657/MD657-N75-2017.02.22-18.48.18_MD657_1_0223_alignedTo_MD657-F44-2017.02.18-06.06.27_MD657_1_0130_cropped_down32\n",
      "aws s3 cp s3://mousebrainatlas-data/CSHL_scoremaps_down32/MD657/MD657-N75-2017.02.22-18.48.18_MD657_1_0223_alignedTo_MD657-F44-2017.02.18-06.06.27_MD657_1_0130_cropped_down32/MD657-N75-2017.02.22-18.48.18_MD657_1_0223_alignedTo_MD657-F44-2017.02.18-06.06.27_MD657_1_0130_cropped_down32_sp5_denseScoreMap_setting_30.bp /shared/CSHL_scoremaps_down32/MD657/MD657-N75-2017.02.22-18.48.18_MD657_1_0223_alignedTo_MD657-F44-2017.02.18-06.06.27_MD657_1_0130_cropped_down32/MD657-N75-2017.02.22-18.48.18_MD657_1_0223_alignedTo_MD657-F44-2017.02.18-06.06.27_MD657_1_0130_cropped_down32_sp5_denseScoreMap_setting_30.bp\n"
     ]
    },
    {
     "name": "stderr",
     "output_type": "stream",
     "text": [
      "Child returned 1\n",
      "0.34 seconds.\n",
      "Child returned 0\n"
     ]
    },
    {
     "name": "stdout",
     "output_type": "stream",
     "text": [
      "rm -rf /shared/CSHL_scoremaps_down32/MD657/MD657-N75-2017.02.22-18.48.18_MD657_2_0224_alignedTo_MD657-F44-2017.02.18-06.06.27_MD657_1_0130_cropped_down32/MD657-N75-2017.02.22-18.48.18_MD657_2_0224_alignedTo_MD657-F44-2017.02.18-06.06.27_MD657_1_0130_cropped_down32_sp5_denseScoreMap_setting_30.bp && mkdir -p /shared/CSHL_scoremaps_down32/MD657/MD657-N75-2017.02.22-18.48.18_MD657_2_0224_alignedTo_MD657-F44-2017.02.18-06.06.27_MD657_1_0130_cropped_down32\n",
      "aws s3 cp s3://mousebrainatlas-data/CSHL_scoremaps_down32/MD657/MD657-N75-2017.02.22-18.48.18_MD657_2_0224_alignedTo_MD657-F44-2017.02.18-06.06.27_MD657_1_0130_cropped_down32/MD657-N75-2017.02.22-18.48.18_MD657_2_0224_alignedTo_MD657-F44-2017.02.18-06.06.27_MD657_1_0130_cropped_down32_sp5_denseScoreMap_setting_30.bp /shared/CSHL_scoremaps_down32/MD657/MD657-N75-2017.02.22-18.48.18_MD657_2_0224_alignedTo_MD657-F44-2017.02.18-06.06.27_MD657_1_0130_cropped_down32/MD657-N75-2017.02.22-18.48.18_MD657_2_0224_alignedTo_MD657-F44-2017.02.18-06.06.27_MD657_1_0130_cropped_down32_sp5_denseScoreMap_setting_30.bp\n"
     ]
    },
    {
     "name": "stderr",
     "output_type": "stream",
     "text": [
      "Child returned 1\n",
      "0.35 seconds.\n",
      "Child returned 0\n"
     ]
    },
    {
     "name": "stdout",
     "output_type": "stream",
     "text": [
      "rm -rf /shared/CSHL_scoremaps_down32/MD657/MD657-N76-2017.02.22-18.51.41_MD657_1_0226_alignedTo_MD657-F44-2017.02.18-06.06.27_MD657_1_0130_cropped_down32/MD657-N76-2017.02.22-18.51.41_MD657_1_0226_alignedTo_MD657-F44-2017.02.18-06.06.27_MD657_1_0130_cropped_down32_sp5_denseScoreMap_setting_30.bp && mkdir -p /shared/CSHL_scoremaps_down32/MD657/MD657-N76-2017.02.22-18.51.41_MD657_1_0226_alignedTo_MD657-F44-2017.02.18-06.06.27_MD657_1_0130_cropped_down32\n",
      "aws s3 cp s3://mousebrainatlas-data/CSHL_scoremaps_down32/MD657/MD657-N76-2017.02.22-18.51.41_MD657_1_0226_alignedTo_MD657-F44-2017.02.18-06.06.27_MD657_1_0130_cropped_down32/MD657-N76-2017.02.22-18.51.41_MD657_1_0226_alignedTo_MD657-F44-2017.02.18-06.06.27_MD657_1_0130_cropped_down32_sp5_denseScoreMap_setting_30.bp /shared/CSHL_scoremaps_down32/MD657/MD657-N76-2017.02.22-18.51.41_MD657_1_0226_alignedTo_MD657-F44-2017.02.18-06.06.27_MD657_1_0130_cropped_down32/MD657-N76-2017.02.22-18.51.41_MD657_1_0226_alignedTo_MD657-F44-2017.02.18-06.06.27_MD657_1_0130_cropped_down32_sp5_denseScoreMap_setting_30.bp\n"
     ]
    },
    {
     "name": "stderr",
     "output_type": "stream",
     "text": [
      "Child returned 1\n",
      "0.34 seconds.\n",
      "Child returned 0\n"
     ]
    },
    {
     "name": "stdout",
     "output_type": "stream",
     "text": [
      "rm -rf /shared/CSHL_scoremaps_down32/MD657/MD657-N76-2017.02.22-18.51.41_MD657_2_0227_alignedTo_MD657-F44-2017.02.18-06.06.27_MD657_1_0130_cropped_down32/MD657-N76-2017.02.22-18.51.41_MD657_2_0227_alignedTo_MD657-F44-2017.02.18-06.06.27_MD657_1_0130_cropped_down32_sp5_denseScoreMap_setting_30.bp && mkdir -p /shared/CSHL_scoremaps_down32/MD657/MD657-N76-2017.02.22-18.51.41_MD657_2_0227_alignedTo_MD657-F44-2017.02.18-06.06.27_MD657_1_0130_cropped_down32\n",
      "aws s3 cp s3://mousebrainatlas-data/CSHL_scoremaps_down32/MD657/MD657-N76-2017.02.22-18.51.41_MD657_2_0227_alignedTo_MD657-F44-2017.02.18-06.06.27_MD657_1_0130_cropped_down32/MD657-N76-2017.02.22-18.51.41_MD657_2_0227_alignedTo_MD657-F44-2017.02.18-06.06.27_MD657_1_0130_cropped_down32_sp5_denseScoreMap_setting_30.bp /shared/CSHL_scoremaps_down32/MD657/MD657-N76-2017.02.22-18.51.41_MD657_2_0227_alignedTo_MD657-F44-2017.02.18-06.06.27_MD657_1_0130_cropped_down32/MD657-N76-2017.02.22-18.51.41_MD657_2_0227_alignedTo_MD657-F44-2017.02.18-06.06.27_MD657_1_0130_cropped_down32_sp5_denseScoreMap_setting_30.bp\n"
     ]
    },
    {
     "name": "stderr",
     "output_type": "stream",
     "text": [
      "Child returned 1\n",
      "0.34 seconds.\n",
      "Child returned 0\n"
     ]
    },
    {
     "name": "stdout",
     "output_type": "stream",
     "text": [
      "rm -rf /shared/CSHL_scoremaps_down32/MD657/MD657-N77-2017.02.22-18.55.01_MD657_1_0229_alignedTo_MD657-F44-2017.02.18-06.06.27_MD657_1_0130_cropped_down32/MD657-N77-2017.02.22-18.55.01_MD657_1_0229_alignedTo_MD657-F44-2017.02.18-06.06.27_MD657_1_0130_cropped_down32_sp5_denseScoreMap_setting_30.bp && mkdir -p /shared/CSHL_scoremaps_down32/MD657/MD657-N77-2017.02.22-18.55.01_MD657_1_0229_alignedTo_MD657-F44-2017.02.18-06.06.27_MD657_1_0130_cropped_down32\n",
      "aws s3 cp s3://mousebrainatlas-data/CSHL_scoremaps_down32/MD657/MD657-N77-2017.02.22-18.55.01_MD657_1_0229_alignedTo_MD657-F44-2017.02.18-06.06.27_MD657_1_0130_cropped_down32/MD657-N77-2017.02.22-18.55.01_MD657_1_0229_alignedTo_MD657-F44-2017.02.18-06.06.27_MD657_1_0130_cropped_down32_sp5_denseScoreMap_setting_30.bp /shared/CSHL_scoremaps_down32/MD657/MD657-N77-2017.02.22-18.55.01_MD657_1_0229_alignedTo_MD657-F44-2017.02.18-06.06.27_MD657_1_0130_cropped_down32/MD657-N77-2017.02.22-18.55.01_MD657_1_0229_alignedTo_MD657-F44-2017.02.18-06.06.27_MD657_1_0130_cropped_down32_sp5_denseScoreMap_setting_30.bp\n"
     ]
    },
    {
     "name": "stderr",
     "output_type": "stream",
     "text": [
      "Child returned 1\n",
      "0.32 seconds.\n",
      "Child returned 0\n"
     ]
    },
    {
     "name": "stdout",
     "output_type": "stream",
     "text": [
      "rm -rf /shared/CSHL_scoremaps_down32/MD657/MD657-N77-2017.02.22-18.55.01_MD657_2_0230_alignedTo_MD657-F44-2017.02.18-06.06.27_MD657_1_0130_cropped_down32/MD657-N77-2017.02.22-18.55.01_MD657_2_0230_alignedTo_MD657-F44-2017.02.18-06.06.27_MD657_1_0130_cropped_down32_sp5_denseScoreMap_setting_30.bp && mkdir -p /shared/CSHL_scoremaps_down32/MD657/MD657-N77-2017.02.22-18.55.01_MD657_2_0230_alignedTo_MD657-F44-2017.02.18-06.06.27_MD657_1_0130_cropped_down32\n",
      "aws s3 cp s3://mousebrainatlas-data/CSHL_scoremaps_down32/MD657/MD657-N77-2017.02.22-18.55.01_MD657_2_0230_alignedTo_MD657-F44-2017.02.18-06.06.27_MD657_1_0130_cropped_down32/MD657-N77-2017.02.22-18.55.01_MD657_2_0230_alignedTo_MD657-F44-2017.02.18-06.06.27_MD657_1_0130_cropped_down32_sp5_denseScoreMap_setting_30.bp /shared/CSHL_scoremaps_down32/MD657/MD657-N77-2017.02.22-18.55.01_MD657_2_0230_alignedTo_MD657-F44-2017.02.18-06.06.27_MD657_1_0130_cropped_down32/MD657-N77-2017.02.22-18.55.01_MD657_2_0230_alignedTo_MD657-F44-2017.02.18-06.06.27_MD657_1_0130_cropped_down32_sp5_denseScoreMap_setting_30.bp\n"
     ]
    },
    {
     "name": "stderr",
     "output_type": "stream",
     "text": [
      "Child returned 1\n",
      "0.34 seconds.\n",
      "Number of valid scoremaps for sp5 is less than 2.\n",
      "Child returned 0\n"
     ]
    },
    {
     "name": "stdout",
     "output_type": "stream",
     "text": [
      "0 scoremaps loaded.\n",
      "outerContour\n",
      "rm -rf /shared/CSHL_scoremaps_down32/MD657/MD657-N13-2017.02.22-14.33.34_MD657_3_0039_alignedTo_MD657-F44-2017.02.18-06.06.27_MD657_1_0130_cropped_down32/MD657-N13-2017.02.22-14.33.34_MD657_3_0039_alignedTo_MD657-F44-2017.02.18-06.06.27_MD657_1_0130_cropped_down32_outerContour_denseScoreMap_setting_30.bp && mkdir -p /shared/CSHL_scoremaps_down32/MD657/MD657-N13-2017.02.22-14.33.34_MD657_3_0039_alignedTo_MD657-F44-2017.02.18-06.06.27_MD657_1_0130_cropped_down32\n",
      "aws s3 cp s3://mousebrainatlas-data/CSHL_scoremaps_down32/MD657/MD657-N13-2017.02.22-14.33.34_MD657_3_0039_alignedTo_MD657-F44-2017.02.18-06.06.27_MD657_1_0130_cropped_down32/MD657-N13-2017.02.22-14.33.34_MD657_3_0039_alignedTo_MD657-F44-2017.02.18-06.06.27_MD657_1_0130_cropped_down32_outerContour_denseScoreMap_setting_30.bp /shared/CSHL_scoremaps_down32/MD657/MD657-N13-2017.02.22-14.33.34_MD657_3_0039_alignedTo_MD657-F44-2017.02.18-06.06.27_MD657_1_0130_cropped_down32/MD657-N13-2017.02.22-14.33.34_MD657_3_0039_alignedTo_MD657-F44-2017.02.18-06.06.27_MD657_1_0130_cropped_down32_outerContour_denseScoreMap_setting_30.bp\n"
     ]
    },
    {
     "name": "stderr",
     "output_type": "stream",
     "text": [
      "Child returned 1\n",
      "0.32 seconds.\n",
      "Child returned 0\n"
     ]
    },
    {
     "name": "stdout",
     "output_type": "stream",
     "text": [
      "rm -rf /shared/CSHL_scoremaps_down32/MD657/MD657-N14-2017.02.22-14.37.44_MD657_1_0040_alignedTo_MD657-F44-2017.02.18-06.06.27_MD657_1_0130_cropped_down32/MD657-N14-2017.02.22-14.37.44_MD657_1_0040_alignedTo_MD657-F44-2017.02.18-06.06.27_MD657_1_0130_cropped_down32_outerContour_denseScoreMap_setting_30.bp && mkdir -p /shared/CSHL_scoremaps_down32/MD657/MD657-N14-2017.02.22-14.37.44_MD657_1_0040_alignedTo_MD657-F44-2017.02.18-06.06.27_MD657_1_0130_cropped_down32\n",
      "aws s3 cp s3://mousebrainatlas-data/CSHL_scoremaps_down32/MD657/MD657-N14-2017.02.22-14.37.44_MD657_1_0040_alignedTo_MD657-F44-2017.02.18-06.06.27_MD657_1_0130_cropped_down32/MD657-N14-2017.02.22-14.37.44_MD657_1_0040_alignedTo_MD657-F44-2017.02.18-06.06.27_MD657_1_0130_cropped_down32_outerContour_denseScoreMap_setting_30.bp /shared/CSHL_scoremaps_down32/MD657/MD657-N14-2017.02.22-14.37.44_MD657_1_0040_alignedTo_MD657-F44-2017.02.18-06.06.27_MD657_1_0130_cropped_down32/MD657-N14-2017.02.22-14.37.44_MD657_1_0040_alignedTo_MD657-F44-2017.02.18-06.06.27_MD657_1_0130_cropped_down32_outerContour_denseScoreMap_setting_30.bp\n"
     ]
    },
    {
     "name": "stderr",
     "output_type": "stream",
     "text": [
      "Child returned 1\n",
      "0.32 seconds.\n",
      "Child returned 0\n"
     ]
    },
    {
     "name": "stdout",
     "output_type": "stream",
     "text": [
      "rm -rf /shared/CSHL_scoremaps_down32/MD657/MD657-N14-2017.02.22-14.37.44_MD657_2_0041_alignedTo_MD657-F44-2017.02.18-06.06.27_MD657_1_0130_cropped_down32/MD657-N14-2017.02.22-14.37.44_MD657_2_0041_alignedTo_MD657-F44-2017.02.18-06.06.27_MD657_1_0130_cropped_down32_outerContour_denseScoreMap_setting_30.bp && mkdir -p /shared/CSHL_scoremaps_down32/MD657/MD657-N14-2017.02.22-14.37.44_MD657_2_0041_alignedTo_MD657-F44-2017.02.18-06.06.27_MD657_1_0130_cropped_down32\n",
      "aws s3 cp s3://mousebrainatlas-data/CSHL_scoremaps_down32/MD657/MD657-N14-2017.02.22-14.37.44_MD657_2_0041_alignedTo_MD657-F44-2017.02.18-06.06.27_MD657_1_0130_cropped_down32/MD657-N14-2017.02.22-14.37.44_MD657_2_0041_alignedTo_MD657-F44-2017.02.18-06.06.27_MD657_1_0130_cropped_down32_outerContour_denseScoreMap_setting_30.bp /shared/CSHL_scoremaps_down32/MD657/MD657-N14-2017.02.22-14.37.44_MD657_2_0041_alignedTo_MD657-F44-2017.02.18-06.06.27_MD657_1_0130_cropped_down32/MD657-N14-2017.02.22-14.37.44_MD657_2_0041_alignedTo_MD657-F44-2017.02.18-06.06.27_MD657_1_0130_cropped_down32_outerContour_denseScoreMap_setting_30.bp\n"
     ]
    },
    {
     "name": "stderr",
     "output_type": "stream",
     "text": [
      "Child returned 1\n",
      "0.34 seconds.\n",
      "Child returned 0\n"
     ]
    },
    {
     "name": "stdout",
     "output_type": "stream",
     "text": [
      "rm -rf /shared/CSHL_scoremaps_down32/MD657/MD657-N14-2017.02.22-14.37.44_MD657_3_0042_alignedTo_MD657-F44-2017.02.18-06.06.27_MD657_1_0130_cropped_down32/MD657-N14-2017.02.22-14.37.44_MD657_3_0042_alignedTo_MD657-F44-2017.02.18-06.06.27_MD657_1_0130_cropped_down32_outerContour_denseScoreMap_setting_30.bp && mkdir -p /shared/CSHL_scoremaps_down32/MD657/MD657-N14-2017.02.22-14.37.44_MD657_3_0042_alignedTo_MD657-F44-2017.02.18-06.06.27_MD657_1_0130_cropped_down32\n",
      "aws s3 cp s3://mousebrainatlas-data/CSHL_scoremaps_down32/MD657/MD657-N14-2017.02.22-14.37.44_MD657_3_0042_alignedTo_MD657-F44-2017.02.18-06.06.27_MD657_1_0130_cropped_down32/MD657-N14-2017.02.22-14.37.44_MD657_3_0042_alignedTo_MD657-F44-2017.02.18-06.06.27_MD657_1_0130_cropped_down32_outerContour_denseScoreMap_setting_30.bp /shared/CSHL_scoremaps_down32/MD657/MD657-N14-2017.02.22-14.37.44_MD657_3_0042_alignedTo_MD657-F44-2017.02.18-06.06.27_MD657_1_0130_cropped_down32/MD657-N14-2017.02.22-14.37.44_MD657_3_0042_alignedTo_MD657-F44-2017.02.18-06.06.27_MD657_1_0130_cropped_down32_outerContour_denseScoreMap_setting_30.bp\n"
     ]
    },
    {
     "name": "stderr",
     "output_type": "stream",
     "text": [
      "Child returned 1\n",
      "0.33 seconds.\n",
      "Child returned 0\n"
     ]
    },
    {
     "name": "stdout",
     "output_type": "stream",
     "text": [
      "rm -rf /shared/CSHL_scoremaps_down32/MD657/MD657-N15-2017.02.22-14.41.51_MD657_1_0043_alignedTo_MD657-F44-2017.02.18-06.06.27_MD657_1_0130_cropped_down32/MD657-N15-2017.02.22-14.41.51_MD657_1_0043_alignedTo_MD657-F44-2017.02.18-06.06.27_MD657_1_0130_cropped_down32_outerContour_denseScoreMap_setting_30.bp && mkdir -p /shared/CSHL_scoremaps_down32/MD657/MD657-N15-2017.02.22-14.41.51_MD657_1_0043_alignedTo_MD657-F44-2017.02.18-06.06.27_MD657_1_0130_cropped_down32\n",
      "aws s3 cp s3://mousebrainatlas-data/CSHL_scoremaps_down32/MD657/MD657-N15-2017.02.22-14.41.51_MD657_1_0043_alignedTo_MD657-F44-2017.02.18-06.06.27_MD657_1_0130_cropped_down32/MD657-N15-2017.02.22-14.41.51_MD657_1_0043_alignedTo_MD657-F44-2017.02.18-06.06.27_MD657_1_0130_cropped_down32_outerContour_denseScoreMap_setting_30.bp /shared/CSHL_scoremaps_down32/MD657/MD657-N15-2017.02.22-14.41.51_MD657_1_0043_alignedTo_MD657-F44-2017.02.18-06.06.27_MD657_1_0130_cropped_down32/MD657-N15-2017.02.22-14.41.51_MD657_1_0043_alignedTo_MD657-F44-2017.02.18-06.06.27_MD657_1_0130_cropped_down32_outerContour_denseScoreMap_setting_30.bp\n"
     ]
    },
    {
     "name": "stderr",
     "output_type": "stream",
     "text": [
      "Child returned 1\n",
      "0.36 seconds.\n",
      "Child returned 0\n"
     ]
    },
    {
     "name": "stdout",
     "output_type": "stream",
     "text": [
      "rm -rf /shared/CSHL_scoremaps_down32/MD657/MD657-N15-2017.02.22-14.41.51_MD657_2_0044_alignedTo_MD657-F44-2017.02.18-06.06.27_MD657_1_0130_cropped_down32/MD657-N15-2017.02.22-14.41.51_MD657_2_0044_alignedTo_MD657-F44-2017.02.18-06.06.27_MD657_1_0130_cropped_down32_outerContour_denseScoreMap_setting_30.bp && mkdir -p /shared/CSHL_scoremaps_down32/MD657/MD657-N15-2017.02.22-14.41.51_MD657_2_0044_alignedTo_MD657-F44-2017.02.18-06.06.27_MD657_1_0130_cropped_down32\n",
      "aws s3 cp s3://mousebrainatlas-data/CSHL_scoremaps_down32/MD657/MD657-N15-2017.02.22-14.41.51_MD657_2_0044_alignedTo_MD657-F44-2017.02.18-06.06.27_MD657_1_0130_cropped_down32/MD657-N15-2017.02.22-14.41.51_MD657_2_0044_alignedTo_MD657-F44-2017.02.18-06.06.27_MD657_1_0130_cropped_down32_outerContour_denseScoreMap_setting_30.bp /shared/CSHL_scoremaps_down32/MD657/MD657-N15-2017.02.22-14.41.51_MD657_2_0044_alignedTo_MD657-F44-2017.02.18-06.06.27_MD657_1_0130_cropped_down32/MD657-N15-2017.02.22-14.41.51_MD657_2_0044_alignedTo_MD657-F44-2017.02.18-06.06.27_MD657_1_0130_cropped_down32_outerContour_denseScoreMap_setting_30.bp\n"
     ]
    },
    {
     "name": "stderr",
     "output_type": "stream",
     "text": [
      "Child returned 1\n",
      "0.34 seconds.\n",
      "Child returned 0\n"
     ]
    },
    {
     "name": "stdout",
     "output_type": "stream",
     "text": [
      "rm -rf /shared/CSHL_scoremaps_down32/MD657/MD657-N15-2017.02.22-14.41.51_MD657_3_0045_alignedTo_MD657-F44-2017.02.18-06.06.27_MD657_1_0130_cropped_down32/MD657-N15-2017.02.22-14.41.51_MD657_3_0045_alignedTo_MD657-F44-2017.02.18-06.06.27_MD657_1_0130_cropped_down32_outerContour_denseScoreMap_setting_30.bp && mkdir -p /shared/CSHL_scoremaps_down32/MD657/MD657-N15-2017.02.22-14.41.51_MD657_3_0045_alignedTo_MD657-F44-2017.02.18-06.06.27_MD657_1_0130_cropped_down32\n",
      "aws s3 cp s3://mousebrainatlas-data/CSHL_scoremaps_down32/MD657/MD657-N15-2017.02.22-14.41.51_MD657_3_0045_alignedTo_MD657-F44-2017.02.18-06.06.27_MD657_1_0130_cropped_down32/MD657-N15-2017.02.22-14.41.51_MD657_3_0045_alignedTo_MD657-F44-2017.02.18-06.06.27_MD657_1_0130_cropped_down32_outerContour_denseScoreMap_setting_30.bp /shared/CSHL_scoremaps_down32/MD657/MD657-N15-2017.02.22-14.41.51_MD657_3_0045_alignedTo_MD657-F44-2017.02.18-06.06.27_MD657_1_0130_cropped_down32/MD657-N15-2017.02.22-14.41.51_MD657_3_0045_alignedTo_MD657-F44-2017.02.18-06.06.27_MD657_1_0130_cropped_down32_outerContour_denseScoreMap_setting_30.bp\n"
     ]
    },
    {
     "name": "stderr",
     "output_type": "stream",
     "text": [
      "Child returned 1\n",
      "0.34 seconds.\n",
      "Child returned 0\n"
     ]
    },
    {
     "name": "stdout",
     "output_type": "stream",
     "text": [
      "rm -rf /shared/CSHL_scoremaps_down32/MD657/MD657-N16-2017.02.27-16.09.46_MD657_1_0046_alignedTo_MD657-F44-2017.02.18-06.06.27_MD657_1_0130_cropped_down32/MD657-N16-2017.02.27-16.09.46_MD657_1_0046_alignedTo_MD657-F44-2017.02.18-06.06.27_MD657_1_0130_cropped_down32_outerContour_denseScoreMap_setting_30.bp && mkdir -p /shared/CSHL_scoremaps_down32/MD657/MD657-N16-2017.02.27-16.09.46_MD657_1_0046_alignedTo_MD657-F44-2017.02.18-06.06.27_MD657_1_0130_cropped_down32\n",
      "aws s3 cp s3://mousebrainatlas-data/CSHL_scoremaps_down32/MD657/MD657-N16-2017.02.27-16.09.46_MD657_1_0046_alignedTo_MD657-F44-2017.02.18-06.06.27_MD657_1_0130_cropped_down32/MD657-N16-2017.02.27-16.09.46_MD657_1_0046_alignedTo_MD657-F44-2017.02.18-06.06.27_MD657_1_0130_cropped_down32_outerContour_denseScoreMap_setting_30.bp /shared/CSHL_scoremaps_down32/MD657/MD657-N16-2017.02.27-16.09.46_MD657_1_0046_alignedTo_MD657-F44-2017.02.18-06.06.27_MD657_1_0130_cropped_down32/MD657-N16-2017.02.27-16.09.46_MD657_1_0046_alignedTo_MD657-F44-2017.02.18-06.06.27_MD657_1_0130_cropped_down32_outerContour_denseScoreMap_setting_30.bp\n"
     ]
    },
    {
     "name": "stderr",
     "output_type": "stream",
     "text": [
      "Child returned 1\n",
      "0.34 seconds.\n",
      "Child returned 0\n"
     ]
    },
    {
     "name": "stdout",
     "output_type": "stream",
     "text": [
      "rm -rf /shared/CSHL_scoremaps_down32/MD657/MD657-N16-2017.02.27-16.09.46_MD657_2_0047_alignedTo_MD657-F44-2017.02.18-06.06.27_MD657_1_0130_cropped_down32/MD657-N16-2017.02.27-16.09.46_MD657_2_0047_alignedTo_MD657-F44-2017.02.18-06.06.27_MD657_1_0130_cropped_down32_outerContour_denseScoreMap_setting_30.bp && mkdir -p /shared/CSHL_scoremaps_down32/MD657/MD657-N16-2017.02.27-16.09.46_MD657_2_0047_alignedTo_MD657-F44-2017.02.18-06.06.27_MD657_1_0130_cropped_down32\n",
      "aws s3 cp s3://mousebrainatlas-data/CSHL_scoremaps_down32/MD657/MD657-N16-2017.02.27-16.09.46_MD657_2_0047_alignedTo_MD657-F44-2017.02.18-06.06.27_MD657_1_0130_cropped_down32/MD657-N16-2017.02.27-16.09.46_MD657_2_0047_alignedTo_MD657-F44-2017.02.18-06.06.27_MD657_1_0130_cropped_down32_outerContour_denseScoreMap_setting_30.bp /shared/CSHL_scoremaps_down32/MD657/MD657-N16-2017.02.27-16.09.46_MD657_2_0047_alignedTo_MD657-F44-2017.02.18-06.06.27_MD657_1_0130_cropped_down32/MD657-N16-2017.02.27-16.09.46_MD657_2_0047_alignedTo_MD657-F44-2017.02.18-06.06.27_MD657_1_0130_cropped_down32_outerContour_denseScoreMap_setting_30.bp\n"
     ]
    },
    {
     "name": "stderr",
     "output_type": "stream",
     "text": [
      "Child returned 1\n",
      "0.35 seconds.\n",
      "Child returned 0\n"
     ]
    },
    {
     "name": "stdout",
     "output_type": "stream",
     "text": [
      "rm -rf /shared/CSHL_scoremaps_down32/MD657/MD657-N16-2017.02.27-16.09.46_MD657_3_0048_alignedTo_MD657-F44-2017.02.18-06.06.27_MD657_1_0130_cropped_down32/MD657-N16-2017.02.27-16.09.46_MD657_3_0048_alignedTo_MD657-F44-2017.02.18-06.06.27_MD657_1_0130_cropped_down32_outerContour_denseScoreMap_setting_30.bp && mkdir -p /shared/CSHL_scoremaps_down32/MD657/MD657-N16-2017.02.27-16.09.46_MD657_3_0048_alignedTo_MD657-F44-2017.02.18-06.06.27_MD657_1_0130_cropped_down32\n",
      "aws s3 cp s3://mousebrainatlas-data/CSHL_scoremaps_down32/MD657/MD657-N16-2017.02.27-16.09.46_MD657_3_0048_alignedTo_MD657-F44-2017.02.18-06.06.27_MD657_1_0130_cropped_down32/MD657-N16-2017.02.27-16.09.46_MD657_3_0048_alignedTo_MD657-F44-2017.02.18-06.06.27_MD657_1_0130_cropped_down32_outerContour_denseScoreMap_setting_30.bp /shared/CSHL_scoremaps_down32/MD657/MD657-N16-2017.02.27-16.09.46_MD657_3_0048_alignedTo_MD657-F44-2017.02.18-06.06.27_MD657_1_0130_cropped_down32/MD657-N16-2017.02.27-16.09.46_MD657_3_0048_alignedTo_MD657-F44-2017.02.18-06.06.27_MD657_1_0130_cropped_down32_outerContour_denseScoreMap_setting_30.bp\n"
     ]
    },
    {
     "name": "stderr",
     "output_type": "stream",
     "text": [
      "Child returned 1\n",
      "0.35 seconds.\n",
      "Child returned 0\n"
     ]
    },
    {
     "name": "stdout",
     "output_type": "stream",
     "text": [
      "rm -rf /shared/CSHL_scoremaps_down32/MD657/MD657-N17-2017.02.22-14.45.59_MD657_1_0049_alignedTo_MD657-F44-2017.02.18-06.06.27_MD657_1_0130_cropped_down32/MD657-N17-2017.02.22-14.45.59_MD657_1_0049_alignedTo_MD657-F44-2017.02.18-06.06.27_MD657_1_0130_cropped_down32_outerContour_denseScoreMap_setting_30.bp && mkdir -p /shared/CSHL_scoremaps_down32/MD657/MD657-N17-2017.02.22-14.45.59_MD657_1_0049_alignedTo_MD657-F44-2017.02.18-06.06.27_MD657_1_0130_cropped_down32\n",
      "aws s3 cp s3://mousebrainatlas-data/CSHL_scoremaps_down32/MD657/MD657-N17-2017.02.22-14.45.59_MD657_1_0049_alignedTo_MD657-F44-2017.02.18-06.06.27_MD657_1_0130_cropped_down32/MD657-N17-2017.02.22-14.45.59_MD657_1_0049_alignedTo_MD657-F44-2017.02.18-06.06.27_MD657_1_0130_cropped_down32_outerContour_denseScoreMap_setting_30.bp /shared/CSHL_scoremaps_down32/MD657/MD657-N17-2017.02.22-14.45.59_MD657_1_0049_alignedTo_MD657-F44-2017.02.18-06.06.27_MD657_1_0130_cropped_down32/MD657-N17-2017.02.22-14.45.59_MD657_1_0049_alignedTo_MD657-F44-2017.02.18-06.06.27_MD657_1_0130_cropped_down32_outerContour_denseScoreMap_setting_30.bp\n"
     ]
    },
    {
     "name": "stderr",
     "output_type": "stream",
     "text": [
      "Child returned 1\n",
      "0.33 seconds.\n",
      "Child returned 0\n"
     ]
    },
    {
     "name": "stdout",
     "output_type": "stream",
     "text": [
      "rm -rf /shared/CSHL_scoremaps_down32/MD657/MD657-N17-2017.02.22-14.45.59_MD657_2_0050_alignedTo_MD657-F44-2017.02.18-06.06.27_MD657_1_0130_cropped_down32/MD657-N17-2017.02.22-14.45.59_MD657_2_0050_alignedTo_MD657-F44-2017.02.18-06.06.27_MD657_1_0130_cropped_down32_outerContour_denseScoreMap_setting_30.bp && mkdir -p /shared/CSHL_scoremaps_down32/MD657/MD657-N17-2017.02.22-14.45.59_MD657_2_0050_alignedTo_MD657-F44-2017.02.18-06.06.27_MD657_1_0130_cropped_down32\n",
      "aws s3 cp s3://mousebrainatlas-data/CSHL_scoremaps_down32/MD657/MD657-N17-2017.02.22-14.45.59_MD657_2_0050_alignedTo_MD657-F44-2017.02.18-06.06.27_MD657_1_0130_cropped_down32/MD657-N17-2017.02.22-14.45.59_MD657_2_0050_alignedTo_MD657-F44-2017.02.18-06.06.27_MD657_1_0130_cropped_down32_outerContour_denseScoreMap_setting_30.bp /shared/CSHL_scoremaps_down32/MD657/MD657-N17-2017.02.22-14.45.59_MD657_2_0050_alignedTo_MD657-F44-2017.02.18-06.06.27_MD657_1_0130_cropped_down32/MD657-N17-2017.02.22-14.45.59_MD657_2_0050_alignedTo_MD657-F44-2017.02.18-06.06.27_MD657_1_0130_cropped_down32_outerContour_denseScoreMap_setting_30.bp\n"
     ]
    },
    {
     "name": "stderr",
     "output_type": "stream",
     "text": [
      "Child returned 1\n",
      "0.34 seconds.\n",
      "Child returned 0\n"
     ]
    },
    {
     "name": "stdout",
     "output_type": "stream",
     "text": [
      "rm -rf /shared/CSHL_scoremaps_down32/MD657/MD657-N17-2017.02.22-14.45.59_MD657_3_0051_alignedTo_MD657-F44-2017.02.18-06.06.27_MD657_1_0130_cropped_down32/MD657-N17-2017.02.22-14.45.59_MD657_3_0051_alignedTo_MD657-F44-2017.02.18-06.06.27_MD657_1_0130_cropped_down32_outerContour_denseScoreMap_setting_30.bp && mkdir -p /shared/CSHL_scoremaps_down32/MD657/MD657-N17-2017.02.22-14.45.59_MD657_3_0051_alignedTo_MD657-F44-2017.02.18-06.06.27_MD657_1_0130_cropped_down32\n",
      "aws s3 cp s3://mousebrainatlas-data/CSHL_scoremaps_down32/MD657/MD657-N17-2017.02.22-14.45.59_MD657_3_0051_alignedTo_MD657-F44-2017.02.18-06.06.27_MD657_1_0130_cropped_down32/MD657-N17-2017.02.22-14.45.59_MD657_3_0051_alignedTo_MD657-F44-2017.02.18-06.06.27_MD657_1_0130_cropped_down32_outerContour_denseScoreMap_setting_30.bp /shared/CSHL_scoremaps_down32/MD657/MD657-N17-2017.02.22-14.45.59_MD657_3_0051_alignedTo_MD657-F44-2017.02.18-06.06.27_MD657_1_0130_cropped_down32/MD657-N17-2017.02.22-14.45.59_MD657_3_0051_alignedTo_MD657-F44-2017.02.18-06.06.27_MD657_1_0130_cropped_down32_outerContour_denseScoreMap_setting_30.bp\n"
     ]
    },
    {
     "name": "stderr",
     "output_type": "stream",
     "text": [
      "Child returned 1\n",
      "0.33 seconds.\n",
      "Child returned 0\n"
     ]
    },
    {
     "name": "stdout",
     "output_type": "stream",
     "text": [
      "rm -rf /shared/CSHL_scoremaps_down32/MD657/MD657-N18-2017.02.22-14.50.24_MD657_1_0052_alignedTo_MD657-F44-2017.02.18-06.06.27_MD657_1_0130_cropped_down32/MD657-N18-2017.02.22-14.50.24_MD657_1_0052_alignedTo_MD657-F44-2017.02.18-06.06.27_MD657_1_0130_cropped_down32_outerContour_denseScoreMap_setting_30.bp && mkdir -p /shared/CSHL_scoremaps_down32/MD657/MD657-N18-2017.02.22-14.50.24_MD657_1_0052_alignedTo_MD657-F44-2017.02.18-06.06.27_MD657_1_0130_cropped_down32\n",
      "aws s3 cp s3://mousebrainatlas-data/CSHL_scoremaps_down32/MD657/MD657-N18-2017.02.22-14.50.24_MD657_1_0052_alignedTo_MD657-F44-2017.02.18-06.06.27_MD657_1_0130_cropped_down32/MD657-N18-2017.02.22-14.50.24_MD657_1_0052_alignedTo_MD657-F44-2017.02.18-06.06.27_MD657_1_0130_cropped_down32_outerContour_denseScoreMap_setting_30.bp /shared/CSHL_scoremaps_down32/MD657/MD657-N18-2017.02.22-14.50.24_MD657_1_0052_alignedTo_MD657-F44-2017.02.18-06.06.27_MD657_1_0130_cropped_down32/MD657-N18-2017.02.22-14.50.24_MD657_1_0052_alignedTo_MD657-F44-2017.02.18-06.06.27_MD657_1_0130_cropped_down32_outerContour_denseScoreMap_setting_30.bp\n"
     ]
    },
    {
     "name": "stderr",
     "output_type": "stream",
     "text": [
      "Child returned 1\n",
      "0.35 seconds.\n",
      "Child returned 0\n"
     ]
    },
    {
     "name": "stdout",
     "output_type": "stream",
     "text": [
      "rm -rf /shared/CSHL_scoremaps_down32/MD657/MD657-N18-2017.02.22-14.50.24_MD657_2_0053_alignedTo_MD657-F44-2017.02.18-06.06.27_MD657_1_0130_cropped_down32/MD657-N18-2017.02.22-14.50.24_MD657_2_0053_alignedTo_MD657-F44-2017.02.18-06.06.27_MD657_1_0130_cropped_down32_outerContour_denseScoreMap_setting_30.bp && mkdir -p /shared/CSHL_scoremaps_down32/MD657/MD657-N18-2017.02.22-14.50.24_MD657_2_0053_alignedTo_MD657-F44-2017.02.18-06.06.27_MD657_1_0130_cropped_down32\n",
      "aws s3 cp s3://mousebrainatlas-data/CSHL_scoremaps_down32/MD657/MD657-N18-2017.02.22-14.50.24_MD657_2_0053_alignedTo_MD657-F44-2017.02.18-06.06.27_MD657_1_0130_cropped_down32/MD657-N18-2017.02.22-14.50.24_MD657_2_0053_alignedTo_MD657-F44-2017.02.18-06.06.27_MD657_1_0130_cropped_down32_outerContour_denseScoreMap_setting_30.bp /shared/CSHL_scoremaps_down32/MD657/MD657-N18-2017.02.22-14.50.24_MD657_2_0053_alignedTo_MD657-F44-2017.02.18-06.06.27_MD657_1_0130_cropped_down32/MD657-N18-2017.02.22-14.50.24_MD657_2_0053_alignedTo_MD657-F44-2017.02.18-06.06.27_MD657_1_0130_cropped_down32_outerContour_denseScoreMap_setting_30.bp\n"
     ]
    },
    {
     "name": "stderr",
     "output_type": "stream",
     "text": [
      "Child returned 1\n",
      "0.33 seconds.\n",
      "Child returned 0\n"
     ]
    },
    {
     "name": "stdout",
     "output_type": "stream",
     "text": [
      "rm -rf /shared/CSHL_scoremaps_down32/MD657/MD657-N18-2017.02.22-14.50.24_MD657_3_0054_alignedTo_MD657-F44-2017.02.18-06.06.27_MD657_1_0130_cropped_down32/MD657-N18-2017.02.22-14.50.24_MD657_3_0054_alignedTo_MD657-F44-2017.02.18-06.06.27_MD657_1_0130_cropped_down32_outerContour_denseScoreMap_setting_30.bp && mkdir -p /shared/CSHL_scoremaps_down32/MD657/MD657-N18-2017.02.22-14.50.24_MD657_3_0054_alignedTo_MD657-F44-2017.02.18-06.06.27_MD657_1_0130_cropped_down32\n",
      "aws s3 cp s3://mousebrainatlas-data/CSHL_scoremaps_down32/MD657/MD657-N18-2017.02.22-14.50.24_MD657_3_0054_alignedTo_MD657-F44-2017.02.18-06.06.27_MD657_1_0130_cropped_down32/MD657-N18-2017.02.22-14.50.24_MD657_3_0054_alignedTo_MD657-F44-2017.02.18-06.06.27_MD657_1_0130_cropped_down32_outerContour_denseScoreMap_setting_30.bp /shared/CSHL_scoremaps_down32/MD657/MD657-N18-2017.02.22-14.50.24_MD657_3_0054_alignedTo_MD657-F44-2017.02.18-06.06.27_MD657_1_0130_cropped_down32/MD657-N18-2017.02.22-14.50.24_MD657_3_0054_alignedTo_MD657-F44-2017.02.18-06.06.27_MD657_1_0130_cropped_down32_outerContour_denseScoreMap_setting_30.bp\n"
     ]
    },
    {
     "name": "stderr",
     "output_type": "stream",
     "text": [
      "Child returned 1\n",
      "0.33 seconds.\n",
      "Child returned 0\n"
     ]
    },
    {
     "name": "stdout",
     "output_type": "stream",
     "text": [
      "rm -rf /shared/CSHL_scoremaps_down32/MD657/MD657-N19-2017.02.22-14.54.49_MD657_1_0055_alignedTo_MD657-F44-2017.02.18-06.06.27_MD657_1_0130_cropped_down32/MD657-N19-2017.02.22-14.54.49_MD657_1_0055_alignedTo_MD657-F44-2017.02.18-06.06.27_MD657_1_0130_cropped_down32_outerContour_denseScoreMap_setting_30.bp && mkdir -p /shared/CSHL_scoremaps_down32/MD657/MD657-N19-2017.02.22-14.54.49_MD657_1_0055_alignedTo_MD657-F44-2017.02.18-06.06.27_MD657_1_0130_cropped_down32\n",
      "aws s3 cp s3://mousebrainatlas-data/CSHL_scoremaps_down32/MD657/MD657-N19-2017.02.22-14.54.49_MD657_1_0055_alignedTo_MD657-F44-2017.02.18-06.06.27_MD657_1_0130_cropped_down32/MD657-N19-2017.02.22-14.54.49_MD657_1_0055_alignedTo_MD657-F44-2017.02.18-06.06.27_MD657_1_0130_cropped_down32_outerContour_denseScoreMap_setting_30.bp /shared/CSHL_scoremaps_down32/MD657/MD657-N19-2017.02.22-14.54.49_MD657_1_0055_alignedTo_MD657-F44-2017.02.18-06.06.27_MD657_1_0130_cropped_down32/MD657-N19-2017.02.22-14.54.49_MD657_1_0055_alignedTo_MD657-F44-2017.02.18-06.06.27_MD657_1_0130_cropped_down32_outerContour_denseScoreMap_setting_30.bp\n"
     ]
    },
    {
     "name": "stderr",
     "output_type": "stream",
     "text": [
      "Child returned 1\n",
      "0.33 seconds.\n",
      "Child returned 0\n"
     ]
    },
    {
     "name": "stdout",
     "output_type": "stream",
     "text": [
      "rm -rf /shared/CSHL_scoremaps_down32/MD657/MD657-N19-2017.02.22-14.54.49_MD657_2_0056_alignedTo_MD657-F44-2017.02.18-06.06.27_MD657_1_0130_cropped_down32/MD657-N19-2017.02.22-14.54.49_MD657_2_0056_alignedTo_MD657-F44-2017.02.18-06.06.27_MD657_1_0130_cropped_down32_outerContour_denseScoreMap_setting_30.bp && mkdir -p /shared/CSHL_scoremaps_down32/MD657/MD657-N19-2017.02.22-14.54.49_MD657_2_0056_alignedTo_MD657-F44-2017.02.18-06.06.27_MD657_1_0130_cropped_down32\n",
      "aws s3 cp s3://mousebrainatlas-data/CSHL_scoremaps_down32/MD657/MD657-N19-2017.02.22-14.54.49_MD657_2_0056_alignedTo_MD657-F44-2017.02.18-06.06.27_MD657_1_0130_cropped_down32/MD657-N19-2017.02.22-14.54.49_MD657_2_0056_alignedTo_MD657-F44-2017.02.18-06.06.27_MD657_1_0130_cropped_down32_outerContour_denseScoreMap_setting_30.bp /shared/CSHL_scoremaps_down32/MD657/MD657-N19-2017.02.22-14.54.49_MD657_2_0056_alignedTo_MD657-F44-2017.02.18-06.06.27_MD657_1_0130_cropped_down32/MD657-N19-2017.02.22-14.54.49_MD657_2_0056_alignedTo_MD657-F44-2017.02.18-06.06.27_MD657_1_0130_cropped_down32_outerContour_denseScoreMap_setting_30.bp\n"
     ]
    },
    {
     "name": "stderr",
     "output_type": "stream",
     "text": [
      "Child returned 1\n",
      "0.33 seconds.\n",
      "Child returned 0\n"
     ]
    },
    {
     "name": "stdout",
     "output_type": "stream",
     "text": [
      "rm -rf /shared/CSHL_scoremaps_down32/MD657/MD657-N19-2017.02.22-14.54.49_MD657_3_0057_alignedTo_MD657-F44-2017.02.18-06.06.27_MD657_1_0130_cropped_down32/MD657-N19-2017.02.22-14.54.49_MD657_3_0057_alignedTo_MD657-F44-2017.02.18-06.06.27_MD657_1_0130_cropped_down32_outerContour_denseScoreMap_setting_30.bp && mkdir -p /shared/CSHL_scoremaps_down32/MD657/MD657-N19-2017.02.22-14.54.49_MD657_3_0057_alignedTo_MD657-F44-2017.02.18-06.06.27_MD657_1_0130_cropped_down32\n",
      "aws s3 cp s3://mousebrainatlas-data/CSHL_scoremaps_down32/MD657/MD657-N19-2017.02.22-14.54.49_MD657_3_0057_alignedTo_MD657-F44-2017.02.18-06.06.27_MD657_1_0130_cropped_down32/MD657-N19-2017.02.22-14.54.49_MD657_3_0057_alignedTo_MD657-F44-2017.02.18-06.06.27_MD657_1_0130_cropped_down32_outerContour_denseScoreMap_setting_30.bp /shared/CSHL_scoremaps_down32/MD657/MD657-N19-2017.02.22-14.54.49_MD657_3_0057_alignedTo_MD657-F44-2017.02.18-06.06.27_MD657_1_0130_cropped_down32/MD657-N19-2017.02.22-14.54.49_MD657_3_0057_alignedTo_MD657-F44-2017.02.18-06.06.27_MD657_1_0130_cropped_down32_outerContour_denseScoreMap_setting_30.bp\n"
     ]
    },
    {
     "name": "stderr",
     "output_type": "stream",
     "text": [
      "Child returned 1\n",
      "0.33 seconds.\n",
      "Child returned 0\n"
     ]
    },
    {
     "name": "stdout",
     "output_type": "stream",
     "text": [
      "rm -rf /shared/CSHL_scoremaps_down32/MD657/MD657-N20-2017.02.22-14.59.13_MD657_1_0058_alignedTo_MD657-F44-2017.02.18-06.06.27_MD657_1_0130_cropped_down32/MD657-N20-2017.02.22-14.59.13_MD657_1_0058_alignedTo_MD657-F44-2017.02.18-06.06.27_MD657_1_0130_cropped_down32_outerContour_denseScoreMap_setting_30.bp && mkdir -p /shared/CSHL_scoremaps_down32/MD657/MD657-N20-2017.02.22-14.59.13_MD657_1_0058_alignedTo_MD657-F44-2017.02.18-06.06.27_MD657_1_0130_cropped_down32\n",
      "aws s3 cp s3://mousebrainatlas-data/CSHL_scoremaps_down32/MD657/MD657-N20-2017.02.22-14.59.13_MD657_1_0058_alignedTo_MD657-F44-2017.02.18-06.06.27_MD657_1_0130_cropped_down32/MD657-N20-2017.02.22-14.59.13_MD657_1_0058_alignedTo_MD657-F44-2017.02.18-06.06.27_MD657_1_0130_cropped_down32_outerContour_denseScoreMap_setting_30.bp /shared/CSHL_scoremaps_down32/MD657/MD657-N20-2017.02.22-14.59.13_MD657_1_0058_alignedTo_MD657-F44-2017.02.18-06.06.27_MD657_1_0130_cropped_down32/MD657-N20-2017.02.22-14.59.13_MD657_1_0058_alignedTo_MD657-F44-2017.02.18-06.06.27_MD657_1_0130_cropped_down32_outerContour_denseScoreMap_setting_30.bp\n"
     ]
    },
    {
     "name": "stderr",
     "output_type": "stream",
     "text": [
      "Child returned 1\n",
      "0.33 seconds.\n",
      "Child returned 0\n"
     ]
    },
    {
     "name": "stdout",
     "output_type": "stream",
     "text": [
      "rm -rf /shared/CSHL_scoremaps_down32/MD657/MD657-N20-2017.02.22-14.59.13_MD657_2_0059_alignedTo_MD657-F44-2017.02.18-06.06.27_MD657_1_0130_cropped_down32/MD657-N20-2017.02.22-14.59.13_MD657_2_0059_alignedTo_MD657-F44-2017.02.18-06.06.27_MD657_1_0130_cropped_down32_outerContour_denseScoreMap_setting_30.bp && mkdir -p /shared/CSHL_scoremaps_down32/MD657/MD657-N20-2017.02.22-14.59.13_MD657_2_0059_alignedTo_MD657-F44-2017.02.18-06.06.27_MD657_1_0130_cropped_down32\n",
      "aws s3 cp s3://mousebrainatlas-data/CSHL_scoremaps_down32/MD657/MD657-N20-2017.02.22-14.59.13_MD657_2_0059_alignedTo_MD657-F44-2017.02.18-06.06.27_MD657_1_0130_cropped_down32/MD657-N20-2017.02.22-14.59.13_MD657_2_0059_alignedTo_MD657-F44-2017.02.18-06.06.27_MD657_1_0130_cropped_down32_outerContour_denseScoreMap_setting_30.bp /shared/CSHL_scoremaps_down32/MD657/MD657-N20-2017.02.22-14.59.13_MD657_2_0059_alignedTo_MD657-F44-2017.02.18-06.06.27_MD657_1_0130_cropped_down32/MD657-N20-2017.02.22-14.59.13_MD657_2_0059_alignedTo_MD657-F44-2017.02.18-06.06.27_MD657_1_0130_cropped_down32_outerContour_denseScoreMap_setting_30.bp\n"
     ]
    },
    {
     "name": "stderr",
     "output_type": "stream",
     "text": [
      "Child returned 1\n",
      "0.33 seconds.\n",
      "Child returned 0\n"
     ]
    },
    {
     "name": "stdout",
     "output_type": "stream",
     "text": [
      "rm -rf /shared/CSHL_scoremaps_down32/MD657/MD657-N21-2017.02.22-15.02.22_MD657_1_0061_alignedTo_MD657-F44-2017.02.18-06.06.27_MD657_1_0130_cropped_down32/MD657-N21-2017.02.22-15.02.22_MD657_1_0061_alignedTo_MD657-F44-2017.02.18-06.06.27_MD657_1_0130_cropped_down32_outerContour_denseScoreMap_setting_30.bp && mkdir -p /shared/CSHL_scoremaps_down32/MD657/MD657-N21-2017.02.22-15.02.22_MD657_1_0061_alignedTo_MD657-F44-2017.02.18-06.06.27_MD657_1_0130_cropped_down32\n",
      "aws s3 cp s3://mousebrainatlas-data/CSHL_scoremaps_down32/MD657/MD657-N21-2017.02.22-15.02.22_MD657_1_0061_alignedTo_MD657-F44-2017.02.18-06.06.27_MD657_1_0130_cropped_down32/MD657-N21-2017.02.22-15.02.22_MD657_1_0061_alignedTo_MD657-F44-2017.02.18-06.06.27_MD657_1_0130_cropped_down32_outerContour_denseScoreMap_setting_30.bp /shared/CSHL_scoremaps_down32/MD657/MD657-N21-2017.02.22-15.02.22_MD657_1_0061_alignedTo_MD657-F44-2017.02.18-06.06.27_MD657_1_0130_cropped_down32/MD657-N21-2017.02.22-15.02.22_MD657_1_0061_alignedTo_MD657-F44-2017.02.18-06.06.27_MD657_1_0130_cropped_down32_outerContour_denseScoreMap_setting_30.bp\n"
     ]
    },
    {
     "name": "stderr",
     "output_type": "stream",
     "text": [
      "Child returned 1\n",
      "0.34 seconds.\n",
      "Child returned 0\n"
     ]
    },
    {
     "name": "stdout",
     "output_type": "stream",
     "text": [
      "rm -rf /shared/CSHL_scoremaps_down32/MD657/MD657-N21-2017.02.22-15.02.22_MD657_2_0062_alignedTo_MD657-F44-2017.02.18-06.06.27_MD657_1_0130_cropped_down32/MD657-N21-2017.02.22-15.02.22_MD657_2_0062_alignedTo_MD657-F44-2017.02.18-06.06.27_MD657_1_0130_cropped_down32_outerContour_denseScoreMap_setting_30.bp && mkdir -p /shared/CSHL_scoremaps_down32/MD657/MD657-N21-2017.02.22-15.02.22_MD657_2_0062_alignedTo_MD657-F44-2017.02.18-06.06.27_MD657_1_0130_cropped_down32\n",
      "aws s3 cp s3://mousebrainatlas-data/CSHL_scoremaps_down32/MD657/MD657-N21-2017.02.22-15.02.22_MD657_2_0062_alignedTo_MD657-F44-2017.02.18-06.06.27_MD657_1_0130_cropped_down32/MD657-N21-2017.02.22-15.02.22_MD657_2_0062_alignedTo_MD657-F44-2017.02.18-06.06.27_MD657_1_0130_cropped_down32_outerContour_denseScoreMap_setting_30.bp /shared/CSHL_scoremaps_down32/MD657/MD657-N21-2017.02.22-15.02.22_MD657_2_0062_alignedTo_MD657-F44-2017.02.18-06.06.27_MD657_1_0130_cropped_down32/MD657-N21-2017.02.22-15.02.22_MD657_2_0062_alignedTo_MD657-F44-2017.02.18-06.06.27_MD657_1_0130_cropped_down32_outerContour_denseScoreMap_setting_30.bp\n"
     ]
    },
    {
     "name": "stderr",
     "output_type": "stream",
     "text": [
      "Child returned 1\n",
      "0.35 seconds.\n",
      "Child returned 0\n"
     ]
    },
    {
     "name": "stdout",
     "output_type": "stream",
     "text": [
      "rm -rf /shared/CSHL_scoremaps_down32/MD657/MD657-N22-2017.02.22-15.05.33_MD657_1_0064_alignedTo_MD657-F44-2017.02.18-06.06.27_MD657_1_0130_cropped_down32/MD657-N22-2017.02.22-15.05.33_MD657_1_0064_alignedTo_MD657-F44-2017.02.18-06.06.27_MD657_1_0130_cropped_down32_outerContour_denseScoreMap_setting_30.bp && mkdir -p /shared/CSHL_scoremaps_down32/MD657/MD657-N22-2017.02.22-15.05.33_MD657_1_0064_alignedTo_MD657-F44-2017.02.18-06.06.27_MD657_1_0130_cropped_down32\n",
      "aws s3 cp s3://mousebrainatlas-data/CSHL_scoremaps_down32/MD657/MD657-N22-2017.02.22-15.05.33_MD657_1_0064_alignedTo_MD657-F44-2017.02.18-06.06.27_MD657_1_0130_cropped_down32/MD657-N22-2017.02.22-15.05.33_MD657_1_0064_alignedTo_MD657-F44-2017.02.18-06.06.27_MD657_1_0130_cropped_down32_outerContour_denseScoreMap_setting_30.bp /shared/CSHL_scoremaps_down32/MD657/MD657-N22-2017.02.22-15.05.33_MD657_1_0064_alignedTo_MD657-F44-2017.02.18-06.06.27_MD657_1_0130_cropped_down32/MD657-N22-2017.02.22-15.05.33_MD657_1_0064_alignedTo_MD657-F44-2017.02.18-06.06.27_MD657_1_0130_cropped_down32_outerContour_denseScoreMap_setting_30.bp\n"
     ]
    },
    {
     "name": "stderr",
     "output_type": "stream",
     "text": [
      "Child returned 1\n",
      "0.38 seconds.\n",
      "Child returned 0\n"
     ]
    },
    {
     "name": "stdout",
     "output_type": "stream",
     "text": [
      "rm -rf /shared/CSHL_scoremaps_down32/MD657/MD657-N22-2017.02.22-15.05.33_MD657_2_0065_alignedTo_MD657-F44-2017.02.18-06.06.27_MD657_1_0130_cropped_down32/MD657-N22-2017.02.22-15.05.33_MD657_2_0065_alignedTo_MD657-F44-2017.02.18-06.06.27_MD657_1_0130_cropped_down32_outerContour_denseScoreMap_setting_30.bp && mkdir -p /shared/CSHL_scoremaps_down32/MD657/MD657-N22-2017.02.22-15.05.33_MD657_2_0065_alignedTo_MD657-F44-2017.02.18-06.06.27_MD657_1_0130_cropped_down32\n",
      "aws s3 cp s3://mousebrainatlas-data/CSHL_scoremaps_down32/MD657/MD657-N22-2017.02.22-15.05.33_MD657_2_0065_alignedTo_MD657-F44-2017.02.18-06.06.27_MD657_1_0130_cropped_down32/MD657-N22-2017.02.22-15.05.33_MD657_2_0065_alignedTo_MD657-F44-2017.02.18-06.06.27_MD657_1_0130_cropped_down32_outerContour_denseScoreMap_setting_30.bp /shared/CSHL_scoremaps_down32/MD657/MD657-N22-2017.02.22-15.05.33_MD657_2_0065_alignedTo_MD657-F44-2017.02.18-06.06.27_MD657_1_0130_cropped_down32/MD657-N22-2017.02.22-15.05.33_MD657_2_0065_alignedTo_MD657-F44-2017.02.18-06.06.27_MD657_1_0130_cropped_down32_outerContour_denseScoreMap_setting_30.bp\n"
     ]
    },
    {
     "name": "stderr",
     "output_type": "stream",
     "text": [
      "Child returned 1\n",
      "0.34 seconds.\n",
      "Child returned 0\n"
     ]
    },
    {
     "name": "stdout",
     "output_type": "stream",
     "text": [
      "rm -rf /shared/CSHL_scoremaps_down32/MD657/MD657-N23-2017.02.22-15.08.47_MD657_1_0067_alignedTo_MD657-F44-2017.02.18-06.06.27_MD657_1_0130_cropped_down32/MD657-N23-2017.02.22-15.08.47_MD657_1_0067_alignedTo_MD657-F44-2017.02.18-06.06.27_MD657_1_0130_cropped_down32_outerContour_denseScoreMap_setting_30.bp && mkdir -p /shared/CSHL_scoremaps_down32/MD657/MD657-N23-2017.02.22-15.08.47_MD657_1_0067_alignedTo_MD657-F44-2017.02.18-06.06.27_MD657_1_0130_cropped_down32\n",
      "aws s3 cp s3://mousebrainatlas-data/CSHL_scoremaps_down32/MD657/MD657-N23-2017.02.22-15.08.47_MD657_1_0067_alignedTo_MD657-F44-2017.02.18-06.06.27_MD657_1_0130_cropped_down32/MD657-N23-2017.02.22-15.08.47_MD657_1_0067_alignedTo_MD657-F44-2017.02.18-06.06.27_MD657_1_0130_cropped_down32_outerContour_denseScoreMap_setting_30.bp /shared/CSHL_scoremaps_down32/MD657/MD657-N23-2017.02.22-15.08.47_MD657_1_0067_alignedTo_MD657-F44-2017.02.18-06.06.27_MD657_1_0130_cropped_down32/MD657-N23-2017.02.22-15.08.47_MD657_1_0067_alignedTo_MD657-F44-2017.02.18-06.06.27_MD657_1_0130_cropped_down32_outerContour_denseScoreMap_setting_30.bp\n"
     ]
    },
    {
     "name": "stderr",
     "output_type": "stream",
     "text": [
      "Child returned 1\n",
      "0.33 seconds.\n",
      "Child returned 0\n"
     ]
    },
    {
     "name": "stdout",
     "output_type": "stream",
     "text": [
      "rm -rf /shared/CSHL_scoremaps_down32/MD657/MD657-N23-2017.02.22-15.08.47_MD657_2_0068_alignedTo_MD657-F44-2017.02.18-06.06.27_MD657_1_0130_cropped_down32/MD657-N23-2017.02.22-15.08.47_MD657_2_0068_alignedTo_MD657-F44-2017.02.18-06.06.27_MD657_1_0130_cropped_down32_outerContour_denseScoreMap_setting_30.bp && mkdir -p /shared/CSHL_scoremaps_down32/MD657/MD657-N23-2017.02.22-15.08.47_MD657_2_0068_alignedTo_MD657-F44-2017.02.18-06.06.27_MD657_1_0130_cropped_down32\n",
      "aws s3 cp s3://mousebrainatlas-data/CSHL_scoremaps_down32/MD657/MD657-N23-2017.02.22-15.08.47_MD657_2_0068_alignedTo_MD657-F44-2017.02.18-06.06.27_MD657_1_0130_cropped_down32/MD657-N23-2017.02.22-15.08.47_MD657_2_0068_alignedTo_MD657-F44-2017.02.18-06.06.27_MD657_1_0130_cropped_down32_outerContour_denseScoreMap_setting_30.bp /shared/CSHL_scoremaps_down32/MD657/MD657-N23-2017.02.22-15.08.47_MD657_2_0068_alignedTo_MD657-F44-2017.02.18-06.06.27_MD657_1_0130_cropped_down32/MD657-N23-2017.02.22-15.08.47_MD657_2_0068_alignedTo_MD657-F44-2017.02.18-06.06.27_MD657_1_0130_cropped_down32_outerContour_denseScoreMap_setting_30.bp\n"
     ]
    },
    {
     "name": "stderr",
     "output_type": "stream",
     "text": [
      "Child returned 1\n",
      "0.35 seconds.\n",
      "Child returned 0\n"
     ]
    },
    {
     "name": "stdout",
     "output_type": "stream",
     "text": [
      "rm -rf /shared/CSHL_scoremaps_down32/MD657/MD657-N24-2017.02.22-15.12.03_MD657_1_0070_alignedTo_MD657-F44-2017.02.18-06.06.27_MD657_1_0130_cropped_down32/MD657-N24-2017.02.22-15.12.03_MD657_1_0070_alignedTo_MD657-F44-2017.02.18-06.06.27_MD657_1_0130_cropped_down32_outerContour_denseScoreMap_setting_30.bp && mkdir -p /shared/CSHL_scoremaps_down32/MD657/MD657-N24-2017.02.22-15.12.03_MD657_1_0070_alignedTo_MD657-F44-2017.02.18-06.06.27_MD657_1_0130_cropped_down32\n",
      "aws s3 cp s3://mousebrainatlas-data/CSHL_scoremaps_down32/MD657/MD657-N24-2017.02.22-15.12.03_MD657_1_0070_alignedTo_MD657-F44-2017.02.18-06.06.27_MD657_1_0130_cropped_down32/MD657-N24-2017.02.22-15.12.03_MD657_1_0070_alignedTo_MD657-F44-2017.02.18-06.06.27_MD657_1_0130_cropped_down32_outerContour_denseScoreMap_setting_30.bp /shared/CSHL_scoremaps_down32/MD657/MD657-N24-2017.02.22-15.12.03_MD657_1_0070_alignedTo_MD657-F44-2017.02.18-06.06.27_MD657_1_0130_cropped_down32/MD657-N24-2017.02.22-15.12.03_MD657_1_0070_alignedTo_MD657-F44-2017.02.18-06.06.27_MD657_1_0130_cropped_down32_outerContour_denseScoreMap_setting_30.bp\n"
     ]
    },
    {
     "name": "stderr",
     "output_type": "stream",
     "text": [
      "Child returned 1\n",
      "0.33 seconds.\n",
      "Child returned 0\n"
     ]
    },
    {
     "name": "stdout",
     "output_type": "stream",
     "text": [
      "rm -rf /shared/CSHL_scoremaps_down32/MD657/MD657-N24-2017.02.22-15.12.03_MD657_2_0071_alignedTo_MD657-F44-2017.02.18-06.06.27_MD657_1_0130_cropped_down32/MD657-N24-2017.02.22-15.12.03_MD657_2_0071_alignedTo_MD657-F44-2017.02.18-06.06.27_MD657_1_0130_cropped_down32_outerContour_denseScoreMap_setting_30.bp && mkdir -p /shared/CSHL_scoremaps_down32/MD657/MD657-N24-2017.02.22-15.12.03_MD657_2_0071_alignedTo_MD657-F44-2017.02.18-06.06.27_MD657_1_0130_cropped_down32\n",
      "aws s3 cp s3://mousebrainatlas-data/CSHL_scoremaps_down32/MD657/MD657-N24-2017.02.22-15.12.03_MD657_2_0071_alignedTo_MD657-F44-2017.02.18-06.06.27_MD657_1_0130_cropped_down32/MD657-N24-2017.02.22-15.12.03_MD657_2_0071_alignedTo_MD657-F44-2017.02.18-06.06.27_MD657_1_0130_cropped_down32_outerContour_denseScoreMap_setting_30.bp /shared/CSHL_scoremaps_down32/MD657/MD657-N24-2017.02.22-15.12.03_MD657_2_0071_alignedTo_MD657-F44-2017.02.18-06.06.27_MD657_1_0130_cropped_down32/MD657-N24-2017.02.22-15.12.03_MD657_2_0071_alignedTo_MD657-F44-2017.02.18-06.06.27_MD657_1_0130_cropped_down32_outerContour_denseScoreMap_setting_30.bp\n"
     ]
    },
    {
     "name": "stderr",
     "output_type": "stream",
     "text": [
      "Child returned 1\n",
      "0.35 seconds.\n",
      "Child returned 0\n"
     ]
    },
    {
     "name": "stdout",
     "output_type": "stream",
     "text": [
      "rm -rf /shared/CSHL_scoremaps_down32/MD657/MD657-N25-2017.02.22-15.15.17_MD657_1_0073_alignedTo_MD657-F44-2017.02.18-06.06.27_MD657_1_0130_cropped_down32/MD657-N25-2017.02.22-15.15.17_MD657_1_0073_alignedTo_MD657-F44-2017.02.18-06.06.27_MD657_1_0130_cropped_down32_outerContour_denseScoreMap_setting_30.bp && mkdir -p /shared/CSHL_scoremaps_down32/MD657/MD657-N25-2017.02.22-15.15.17_MD657_1_0073_alignedTo_MD657-F44-2017.02.18-06.06.27_MD657_1_0130_cropped_down32\n",
      "aws s3 cp s3://mousebrainatlas-data/CSHL_scoremaps_down32/MD657/MD657-N25-2017.02.22-15.15.17_MD657_1_0073_alignedTo_MD657-F44-2017.02.18-06.06.27_MD657_1_0130_cropped_down32/MD657-N25-2017.02.22-15.15.17_MD657_1_0073_alignedTo_MD657-F44-2017.02.18-06.06.27_MD657_1_0130_cropped_down32_outerContour_denseScoreMap_setting_30.bp /shared/CSHL_scoremaps_down32/MD657/MD657-N25-2017.02.22-15.15.17_MD657_1_0073_alignedTo_MD657-F44-2017.02.18-06.06.27_MD657_1_0130_cropped_down32/MD657-N25-2017.02.22-15.15.17_MD657_1_0073_alignedTo_MD657-F44-2017.02.18-06.06.27_MD657_1_0130_cropped_down32_outerContour_denseScoreMap_setting_30.bp\n"
     ]
    },
    {
     "name": "stderr",
     "output_type": "stream",
     "text": [
      "Child returned 1\n",
      "0.35 seconds.\n",
      "Child returned 0\n"
     ]
    },
    {
     "name": "stdout",
     "output_type": "stream",
     "text": [
      "rm -rf /shared/CSHL_scoremaps_down32/MD657/MD657-N25-2017.02.22-15.15.17_MD657_2_0074_alignedTo_MD657-F44-2017.02.18-06.06.27_MD657_1_0130_cropped_down32/MD657-N25-2017.02.22-15.15.17_MD657_2_0074_alignedTo_MD657-F44-2017.02.18-06.06.27_MD657_1_0130_cropped_down32_outerContour_denseScoreMap_setting_30.bp && mkdir -p /shared/CSHL_scoremaps_down32/MD657/MD657-N25-2017.02.22-15.15.17_MD657_2_0074_alignedTo_MD657-F44-2017.02.18-06.06.27_MD657_1_0130_cropped_down32\n",
      "aws s3 cp s3://mousebrainatlas-data/CSHL_scoremaps_down32/MD657/MD657-N25-2017.02.22-15.15.17_MD657_2_0074_alignedTo_MD657-F44-2017.02.18-06.06.27_MD657_1_0130_cropped_down32/MD657-N25-2017.02.22-15.15.17_MD657_2_0074_alignedTo_MD657-F44-2017.02.18-06.06.27_MD657_1_0130_cropped_down32_outerContour_denseScoreMap_setting_30.bp /shared/CSHL_scoremaps_down32/MD657/MD657-N25-2017.02.22-15.15.17_MD657_2_0074_alignedTo_MD657-F44-2017.02.18-06.06.27_MD657_1_0130_cropped_down32/MD657-N25-2017.02.22-15.15.17_MD657_2_0074_alignedTo_MD657-F44-2017.02.18-06.06.27_MD657_1_0130_cropped_down32_outerContour_denseScoreMap_setting_30.bp\n"
     ]
    },
    {
     "name": "stderr",
     "output_type": "stream",
     "text": [
      "Child returned 1\n",
      "0.32 seconds.\n",
      "Child returned 0\n"
     ]
    },
    {
     "name": "stdout",
     "output_type": "stream",
     "text": [
      "rm -rf /shared/CSHL_scoremaps_down32/MD657/MD657-N26-2017.02.27-16.14.53_MD657_2_0077_alignedTo_MD657-F44-2017.02.18-06.06.27_MD657_1_0130_cropped_down32/MD657-N26-2017.02.27-16.14.53_MD657_2_0077_alignedTo_MD657-F44-2017.02.18-06.06.27_MD657_1_0130_cropped_down32_outerContour_denseScoreMap_setting_30.bp && mkdir -p /shared/CSHL_scoremaps_down32/MD657/MD657-N26-2017.02.27-16.14.53_MD657_2_0077_alignedTo_MD657-F44-2017.02.18-06.06.27_MD657_1_0130_cropped_down32\n",
      "aws s3 cp s3://mousebrainatlas-data/CSHL_scoremaps_down32/MD657/MD657-N26-2017.02.27-16.14.53_MD657_2_0077_alignedTo_MD657-F44-2017.02.18-06.06.27_MD657_1_0130_cropped_down32/MD657-N26-2017.02.27-16.14.53_MD657_2_0077_alignedTo_MD657-F44-2017.02.18-06.06.27_MD657_1_0130_cropped_down32_outerContour_denseScoreMap_setting_30.bp /shared/CSHL_scoremaps_down32/MD657/MD657-N26-2017.02.27-16.14.53_MD657_2_0077_alignedTo_MD657-F44-2017.02.18-06.06.27_MD657_1_0130_cropped_down32/MD657-N26-2017.02.27-16.14.53_MD657_2_0077_alignedTo_MD657-F44-2017.02.18-06.06.27_MD657_1_0130_cropped_down32_outerContour_denseScoreMap_setting_30.bp\n"
     ]
    },
    {
     "name": "stderr",
     "output_type": "stream",
     "text": [
      "Child returned 1\n",
      "0.33 seconds.\n",
      "Child returned 0\n"
     ]
    },
    {
     "name": "stdout",
     "output_type": "stream",
     "text": [
      "rm -rf /shared/CSHL_scoremaps_down32/MD657/MD657-N26-2017.02.27-16.14.53_MD657_3_0078_alignedTo_MD657-F44-2017.02.18-06.06.27_MD657_1_0130_cropped_down32/MD657-N26-2017.02.27-16.14.53_MD657_3_0078_alignedTo_MD657-F44-2017.02.18-06.06.27_MD657_1_0130_cropped_down32_outerContour_denseScoreMap_setting_30.bp && mkdir -p /shared/CSHL_scoremaps_down32/MD657/MD657-N26-2017.02.27-16.14.53_MD657_3_0078_alignedTo_MD657-F44-2017.02.18-06.06.27_MD657_1_0130_cropped_down32\n",
      "aws s3 cp s3://mousebrainatlas-data/CSHL_scoremaps_down32/MD657/MD657-N26-2017.02.27-16.14.53_MD657_3_0078_alignedTo_MD657-F44-2017.02.18-06.06.27_MD657_1_0130_cropped_down32/MD657-N26-2017.02.27-16.14.53_MD657_3_0078_alignedTo_MD657-F44-2017.02.18-06.06.27_MD657_1_0130_cropped_down32_outerContour_denseScoreMap_setting_30.bp /shared/CSHL_scoremaps_down32/MD657/MD657-N26-2017.02.27-16.14.53_MD657_3_0078_alignedTo_MD657-F44-2017.02.18-06.06.27_MD657_1_0130_cropped_down32/MD657-N26-2017.02.27-16.14.53_MD657_3_0078_alignedTo_MD657-F44-2017.02.18-06.06.27_MD657_1_0130_cropped_down32_outerContour_denseScoreMap_setting_30.bp\n"
     ]
    },
    {
     "name": "stderr",
     "output_type": "stream",
     "text": [
      "Child returned 1\n",
      "0.32 seconds.\n",
      "Child returned 0\n"
     ]
    },
    {
     "name": "stdout",
     "output_type": "stream",
     "text": [
      "rm -rf /shared/CSHL_scoremaps_down32/MD657/MD657-N27-2017.02.22-15.18.34_MD657_2_0080_alignedTo_MD657-F44-2017.02.18-06.06.27_MD657_1_0130_cropped_down32/MD657-N27-2017.02.22-15.18.34_MD657_2_0080_alignedTo_MD657-F44-2017.02.18-06.06.27_MD657_1_0130_cropped_down32_outerContour_denseScoreMap_setting_30.bp && mkdir -p /shared/CSHL_scoremaps_down32/MD657/MD657-N27-2017.02.22-15.18.34_MD657_2_0080_alignedTo_MD657-F44-2017.02.18-06.06.27_MD657_1_0130_cropped_down32\n",
      "aws s3 cp s3://mousebrainatlas-data/CSHL_scoremaps_down32/MD657/MD657-N27-2017.02.22-15.18.34_MD657_2_0080_alignedTo_MD657-F44-2017.02.18-06.06.27_MD657_1_0130_cropped_down32/MD657-N27-2017.02.22-15.18.34_MD657_2_0080_alignedTo_MD657-F44-2017.02.18-06.06.27_MD657_1_0130_cropped_down32_outerContour_denseScoreMap_setting_30.bp /shared/CSHL_scoremaps_down32/MD657/MD657-N27-2017.02.22-15.18.34_MD657_2_0080_alignedTo_MD657-F44-2017.02.18-06.06.27_MD657_1_0130_cropped_down32/MD657-N27-2017.02.22-15.18.34_MD657_2_0080_alignedTo_MD657-F44-2017.02.18-06.06.27_MD657_1_0130_cropped_down32_outerContour_denseScoreMap_setting_30.bp\n"
     ]
    },
    {
     "name": "stderr",
     "output_type": "stream",
     "text": [
      "Child returned 1\n",
      "0.33 seconds.\n",
      "Child returned 0\n"
     ]
    },
    {
     "name": "stdout",
     "output_type": "stream",
     "text": [
      "rm -rf /shared/CSHL_scoremaps_down32/MD657/MD657-N28-2017.02.22-15.21.25_MD657_1_0082_alignedTo_MD657-F44-2017.02.18-06.06.27_MD657_1_0130_cropped_down32/MD657-N28-2017.02.22-15.21.25_MD657_1_0082_alignedTo_MD657-F44-2017.02.18-06.06.27_MD657_1_0130_cropped_down32_outerContour_denseScoreMap_setting_30.bp && mkdir -p /shared/CSHL_scoremaps_down32/MD657/MD657-N28-2017.02.22-15.21.25_MD657_1_0082_alignedTo_MD657-F44-2017.02.18-06.06.27_MD657_1_0130_cropped_down32\n",
      "aws s3 cp s3://mousebrainatlas-data/CSHL_scoremaps_down32/MD657/MD657-N28-2017.02.22-15.21.25_MD657_1_0082_alignedTo_MD657-F44-2017.02.18-06.06.27_MD657_1_0130_cropped_down32/MD657-N28-2017.02.22-15.21.25_MD657_1_0082_alignedTo_MD657-F44-2017.02.18-06.06.27_MD657_1_0130_cropped_down32_outerContour_denseScoreMap_setting_30.bp /shared/CSHL_scoremaps_down32/MD657/MD657-N28-2017.02.22-15.21.25_MD657_1_0082_alignedTo_MD657-F44-2017.02.18-06.06.27_MD657_1_0130_cropped_down32/MD657-N28-2017.02.22-15.21.25_MD657_1_0082_alignedTo_MD657-F44-2017.02.18-06.06.27_MD657_1_0130_cropped_down32_outerContour_denseScoreMap_setting_30.bp\n"
     ]
    },
    {
     "name": "stderr",
     "output_type": "stream",
     "text": [
      "Child returned 1\n",
      "0.33 seconds.\n",
      "Child returned 0\n"
     ]
    },
    {
     "name": "stdout",
     "output_type": "stream",
     "text": [
      "rm -rf /shared/CSHL_scoremaps_down32/MD657/MD657-N28-2017.02.22-15.21.25_MD657_2_0083_alignedTo_MD657-F44-2017.02.18-06.06.27_MD657_1_0130_cropped_down32/MD657-N28-2017.02.22-15.21.25_MD657_2_0083_alignedTo_MD657-F44-2017.02.18-06.06.27_MD657_1_0130_cropped_down32_outerContour_denseScoreMap_setting_30.bp && mkdir -p /shared/CSHL_scoremaps_down32/MD657/MD657-N28-2017.02.22-15.21.25_MD657_2_0083_alignedTo_MD657-F44-2017.02.18-06.06.27_MD657_1_0130_cropped_down32\n",
      "aws s3 cp s3://mousebrainatlas-data/CSHL_scoremaps_down32/MD657/MD657-N28-2017.02.22-15.21.25_MD657_2_0083_alignedTo_MD657-F44-2017.02.18-06.06.27_MD657_1_0130_cropped_down32/MD657-N28-2017.02.22-15.21.25_MD657_2_0083_alignedTo_MD657-F44-2017.02.18-06.06.27_MD657_1_0130_cropped_down32_outerContour_denseScoreMap_setting_30.bp /shared/CSHL_scoremaps_down32/MD657/MD657-N28-2017.02.22-15.21.25_MD657_2_0083_alignedTo_MD657-F44-2017.02.18-06.06.27_MD657_1_0130_cropped_down32/MD657-N28-2017.02.22-15.21.25_MD657_2_0083_alignedTo_MD657-F44-2017.02.18-06.06.27_MD657_1_0130_cropped_down32_outerContour_denseScoreMap_setting_30.bp\n"
     ]
    },
    {
     "name": "stderr",
     "output_type": "stream",
     "text": [
      "Child returned 1\n",
      "0.35 seconds.\n",
      "Child returned 0\n"
     ]
    },
    {
     "name": "stdout",
     "output_type": "stream",
     "text": [
      "rm -rf /shared/CSHL_scoremaps_down32/MD657/MD657-N29-2017.02.22-15.24.51_MD657_1_0085_alignedTo_MD657-F44-2017.02.18-06.06.27_MD657_1_0130_cropped_down32/MD657-N29-2017.02.22-15.24.51_MD657_1_0085_alignedTo_MD657-F44-2017.02.18-06.06.27_MD657_1_0130_cropped_down32_outerContour_denseScoreMap_setting_30.bp && mkdir -p /shared/CSHL_scoremaps_down32/MD657/MD657-N29-2017.02.22-15.24.51_MD657_1_0085_alignedTo_MD657-F44-2017.02.18-06.06.27_MD657_1_0130_cropped_down32\n",
      "aws s3 cp s3://mousebrainatlas-data/CSHL_scoremaps_down32/MD657/MD657-N29-2017.02.22-15.24.51_MD657_1_0085_alignedTo_MD657-F44-2017.02.18-06.06.27_MD657_1_0130_cropped_down32/MD657-N29-2017.02.22-15.24.51_MD657_1_0085_alignedTo_MD657-F44-2017.02.18-06.06.27_MD657_1_0130_cropped_down32_outerContour_denseScoreMap_setting_30.bp /shared/CSHL_scoremaps_down32/MD657/MD657-N29-2017.02.22-15.24.51_MD657_1_0085_alignedTo_MD657-F44-2017.02.18-06.06.27_MD657_1_0130_cropped_down32/MD657-N29-2017.02.22-15.24.51_MD657_1_0085_alignedTo_MD657-F44-2017.02.18-06.06.27_MD657_1_0130_cropped_down32_outerContour_denseScoreMap_setting_30.bp\n"
     ]
    },
    {
     "name": "stderr",
     "output_type": "stream",
     "text": [
      "Child returned 1\n",
      "0.34 seconds.\n",
      "Child returned 0\n"
     ]
    },
    {
     "name": "stdout",
     "output_type": "stream",
     "text": [
      "rm -rf /shared/CSHL_scoremaps_down32/MD657/MD657-N29-2017.02.22-15.24.51_MD657_2_0086_alignedTo_MD657-F44-2017.02.18-06.06.27_MD657_1_0130_cropped_down32/MD657-N29-2017.02.22-15.24.51_MD657_2_0086_alignedTo_MD657-F44-2017.02.18-06.06.27_MD657_1_0130_cropped_down32_outerContour_denseScoreMap_setting_30.bp && mkdir -p /shared/CSHL_scoremaps_down32/MD657/MD657-N29-2017.02.22-15.24.51_MD657_2_0086_alignedTo_MD657-F44-2017.02.18-06.06.27_MD657_1_0130_cropped_down32\n",
      "aws s3 cp s3://mousebrainatlas-data/CSHL_scoremaps_down32/MD657/MD657-N29-2017.02.22-15.24.51_MD657_2_0086_alignedTo_MD657-F44-2017.02.18-06.06.27_MD657_1_0130_cropped_down32/MD657-N29-2017.02.22-15.24.51_MD657_2_0086_alignedTo_MD657-F44-2017.02.18-06.06.27_MD657_1_0130_cropped_down32_outerContour_denseScoreMap_setting_30.bp /shared/CSHL_scoremaps_down32/MD657/MD657-N29-2017.02.22-15.24.51_MD657_2_0086_alignedTo_MD657-F44-2017.02.18-06.06.27_MD657_1_0130_cropped_down32/MD657-N29-2017.02.22-15.24.51_MD657_2_0086_alignedTo_MD657-F44-2017.02.18-06.06.27_MD657_1_0130_cropped_down32_outerContour_denseScoreMap_setting_30.bp\n"
     ]
    },
    {
     "name": "stderr",
     "output_type": "stream",
     "text": [
      "Child returned 1\n",
      "0.33 seconds.\n",
      "Child returned 0\n"
     ]
    },
    {
     "name": "stdout",
     "output_type": "stream",
     "text": [
      "rm -rf /shared/CSHL_scoremaps_down32/MD657/MD657-N30-2017.02.22-15.28.21_MD657_1_0088_alignedTo_MD657-F44-2017.02.18-06.06.27_MD657_1_0130_cropped_down32/MD657-N30-2017.02.22-15.28.21_MD657_1_0088_alignedTo_MD657-F44-2017.02.18-06.06.27_MD657_1_0130_cropped_down32_outerContour_denseScoreMap_setting_30.bp && mkdir -p /shared/CSHL_scoremaps_down32/MD657/MD657-N30-2017.02.22-15.28.21_MD657_1_0088_alignedTo_MD657-F44-2017.02.18-06.06.27_MD657_1_0130_cropped_down32\n",
      "aws s3 cp s3://mousebrainatlas-data/CSHL_scoremaps_down32/MD657/MD657-N30-2017.02.22-15.28.21_MD657_1_0088_alignedTo_MD657-F44-2017.02.18-06.06.27_MD657_1_0130_cropped_down32/MD657-N30-2017.02.22-15.28.21_MD657_1_0088_alignedTo_MD657-F44-2017.02.18-06.06.27_MD657_1_0130_cropped_down32_outerContour_denseScoreMap_setting_30.bp /shared/CSHL_scoremaps_down32/MD657/MD657-N30-2017.02.22-15.28.21_MD657_1_0088_alignedTo_MD657-F44-2017.02.18-06.06.27_MD657_1_0130_cropped_down32/MD657-N30-2017.02.22-15.28.21_MD657_1_0088_alignedTo_MD657-F44-2017.02.18-06.06.27_MD657_1_0130_cropped_down32_outerContour_denseScoreMap_setting_30.bp\n"
     ]
    },
    {
     "name": "stderr",
     "output_type": "stream",
     "text": [
      "Child returned 1\n",
      "0.34 seconds.\n",
      "Child returned 0\n"
     ]
    },
    {
     "name": "stdout",
     "output_type": "stream",
     "text": [
      "rm -rf /shared/CSHL_scoremaps_down32/MD657/MD657-N30-2017.02.22-15.28.21_MD657_2_0089_alignedTo_MD657-F44-2017.02.18-06.06.27_MD657_1_0130_cropped_down32/MD657-N30-2017.02.22-15.28.21_MD657_2_0089_alignedTo_MD657-F44-2017.02.18-06.06.27_MD657_1_0130_cropped_down32_outerContour_denseScoreMap_setting_30.bp && mkdir -p /shared/CSHL_scoremaps_down32/MD657/MD657-N30-2017.02.22-15.28.21_MD657_2_0089_alignedTo_MD657-F44-2017.02.18-06.06.27_MD657_1_0130_cropped_down32\n",
      "aws s3 cp s3://mousebrainatlas-data/CSHL_scoremaps_down32/MD657/MD657-N30-2017.02.22-15.28.21_MD657_2_0089_alignedTo_MD657-F44-2017.02.18-06.06.27_MD657_1_0130_cropped_down32/MD657-N30-2017.02.22-15.28.21_MD657_2_0089_alignedTo_MD657-F44-2017.02.18-06.06.27_MD657_1_0130_cropped_down32_outerContour_denseScoreMap_setting_30.bp /shared/CSHL_scoremaps_down32/MD657/MD657-N30-2017.02.22-15.28.21_MD657_2_0089_alignedTo_MD657-F44-2017.02.18-06.06.27_MD657_1_0130_cropped_down32/MD657-N30-2017.02.22-15.28.21_MD657_2_0089_alignedTo_MD657-F44-2017.02.18-06.06.27_MD657_1_0130_cropped_down32_outerContour_denseScoreMap_setting_30.bp\n"
     ]
    },
    {
     "name": "stderr",
     "output_type": "stream",
     "text": [
      "Child returned 1\n",
      "0.35 seconds.\n",
      "Child returned 0\n"
     ]
    },
    {
     "name": "stdout",
     "output_type": "stream",
     "text": [
      "rm -rf /shared/CSHL_scoremaps_down32/MD657/MD657-N31-2017.02.22-15.32.10_MD657_1_0091_alignedTo_MD657-F44-2017.02.18-06.06.27_MD657_1_0130_cropped_down32/MD657-N31-2017.02.22-15.32.10_MD657_1_0091_alignedTo_MD657-F44-2017.02.18-06.06.27_MD657_1_0130_cropped_down32_outerContour_denseScoreMap_setting_30.bp && mkdir -p /shared/CSHL_scoremaps_down32/MD657/MD657-N31-2017.02.22-15.32.10_MD657_1_0091_alignedTo_MD657-F44-2017.02.18-06.06.27_MD657_1_0130_cropped_down32\n",
      "aws s3 cp s3://mousebrainatlas-data/CSHL_scoremaps_down32/MD657/MD657-N31-2017.02.22-15.32.10_MD657_1_0091_alignedTo_MD657-F44-2017.02.18-06.06.27_MD657_1_0130_cropped_down32/MD657-N31-2017.02.22-15.32.10_MD657_1_0091_alignedTo_MD657-F44-2017.02.18-06.06.27_MD657_1_0130_cropped_down32_outerContour_denseScoreMap_setting_30.bp /shared/CSHL_scoremaps_down32/MD657/MD657-N31-2017.02.22-15.32.10_MD657_1_0091_alignedTo_MD657-F44-2017.02.18-06.06.27_MD657_1_0130_cropped_down32/MD657-N31-2017.02.22-15.32.10_MD657_1_0091_alignedTo_MD657-F44-2017.02.18-06.06.27_MD657_1_0130_cropped_down32_outerContour_denseScoreMap_setting_30.bp\n"
     ]
    },
    {
     "name": "stderr",
     "output_type": "stream",
     "text": [
      "Child returned 1\n",
      "0.35 seconds.\n",
      "Child returned 0\n"
     ]
    },
    {
     "name": "stdout",
     "output_type": "stream",
     "text": [
      "rm -rf /shared/CSHL_scoremaps_down32/MD657/MD657-N31-2017.02.22-15.32.10_MD657_2_0092_alignedTo_MD657-F44-2017.02.18-06.06.27_MD657_1_0130_cropped_down32/MD657-N31-2017.02.22-15.32.10_MD657_2_0092_alignedTo_MD657-F44-2017.02.18-06.06.27_MD657_1_0130_cropped_down32_outerContour_denseScoreMap_setting_30.bp && mkdir -p /shared/CSHL_scoremaps_down32/MD657/MD657-N31-2017.02.22-15.32.10_MD657_2_0092_alignedTo_MD657-F44-2017.02.18-06.06.27_MD657_1_0130_cropped_down32\n",
      "aws s3 cp s3://mousebrainatlas-data/CSHL_scoremaps_down32/MD657/MD657-N31-2017.02.22-15.32.10_MD657_2_0092_alignedTo_MD657-F44-2017.02.18-06.06.27_MD657_1_0130_cropped_down32/MD657-N31-2017.02.22-15.32.10_MD657_2_0092_alignedTo_MD657-F44-2017.02.18-06.06.27_MD657_1_0130_cropped_down32_outerContour_denseScoreMap_setting_30.bp /shared/CSHL_scoremaps_down32/MD657/MD657-N31-2017.02.22-15.32.10_MD657_2_0092_alignedTo_MD657-F44-2017.02.18-06.06.27_MD657_1_0130_cropped_down32/MD657-N31-2017.02.22-15.32.10_MD657_2_0092_alignedTo_MD657-F44-2017.02.18-06.06.27_MD657_1_0130_cropped_down32_outerContour_denseScoreMap_setting_30.bp\n"
     ]
    },
    {
     "name": "stderr",
     "output_type": "stream",
     "text": [
      "Child returned 1\n",
      "0.35 seconds.\n",
      "Child returned 0\n"
     ]
    },
    {
     "name": "stdout",
     "output_type": "stream",
     "text": [
      "rm -rf /shared/CSHL_scoremaps_down32/MD657/MD657-N32-2017.02.22-15.36.09_MD657_1_0094_alignedTo_MD657-F44-2017.02.18-06.06.27_MD657_1_0130_cropped_down32/MD657-N32-2017.02.22-15.36.09_MD657_1_0094_alignedTo_MD657-F44-2017.02.18-06.06.27_MD657_1_0130_cropped_down32_outerContour_denseScoreMap_setting_30.bp && mkdir -p /shared/CSHL_scoremaps_down32/MD657/MD657-N32-2017.02.22-15.36.09_MD657_1_0094_alignedTo_MD657-F44-2017.02.18-06.06.27_MD657_1_0130_cropped_down32\n",
      "aws s3 cp s3://mousebrainatlas-data/CSHL_scoremaps_down32/MD657/MD657-N32-2017.02.22-15.36.09_MD657_1_0094_alignedTo_MD657-F44-2017.02.18-06.06.27_MD657_1_0130_cropped_down32/MD657-N32-2017.02.22-15.36.09_MD657_1_0094_alignedTo_MD657-F44-2017.02.18-06.06.27_MD657_1_0130_cropped_down32_outerContour_denseScoreMap_setting_30.bp /shared/CSHL_scoremaps_down32/MD657/MD657-N32-2017.02.22-15.36.09_MD657_1_0094_alignedTo_MD657-F44-2017.02.18-06.06.27_MD657_1_0130_cropped_down32/MD657-N32-2017.02.22-15.36.09_MD657_1_0094_alignedTo_MD657-F44-2017.02.18-06.06.27_MD657_1_0130_cropped_down32_outerContour_denseScoreMap_setting_30.bp\n"
     ]
    },
    {
     "name": "stderr",
     "output_type": "stream",
     "text": [
      "Child returned 1\n",
      "0.34 seconds.\n",
      "Child returned 0\n"
     ]
    },
    {
     "name": "stdout",
     "output_type": "stream",
     "text": [
      "rm -rf /shared/CSHL_scoremaps_down32/MD657/MD657-N32-2017.02.22-15.36.09_MD657_2_0095_alignedTo_MD657-F44-2017.02.18-06.06.27_MD657_1_0130_cropped_down32/MD657-N32-2017.02.22-15.36.09_MD657_2_0095_alignedTo_MD657-F44-2017.02.18-06.06.27_MD657_1_0130_cropped_down32_outerContour_denseScoreMap_setting_30.bp && mkdir -p /shared/CSHL_scoremaps_down32/MD657/MD657-N32-2017.02.22-15.36.09_MD657_2_0095_alignedTo_MD657-F44-2017.02.18-06.06.27_MD657_1_0130_cropped_down32\n",
      "aws s3 cp s3://mousebrainatlas-data/CSHL_scoremaps_down32/MD657/MD657-N32-2017.02.22-15.36.09_MD657_2_0095_alignedTo_MD657-F44-2017.02.18-06.06.27_MD657_1_0130_cropped_down32/MD657-N32-2017.02.22-15.36.09_MD657_2_0095_alignedTo_MD657-F44-2017.02.18-06.06.27_MD657_1_0130_cropped_down32_outerContour_denseScoreMap_setting_30.bp /shared/CSHL_scoremaps_down32/MD657/MD657-N32-2017.02.22-15.36.09_MD657_2_0095_alignedTo_MD657-F44-2017.02.18-06.06.27_MD657_1_0130_cropped_down32/MD657-N32-2017.02.22-15.36.09_MD657_2_0095_alignedTo_MD657-F44-2017.02.18-06.06.27_MD657_1_0130_cropped_down32_outerContour_denseScoreMap_setting_30.bp\n"
     ]
    },
    {
     "name": "stderr",
     "output_type": "stream",
     "text": [
      "Child returned 1\n",
      "0.39 seconds.\n",
      "Child returned 0\n"
     ]
    },
    {
     "name": "stdout",
     "output_type": "stream",
     "text": [
      "rm -rf /shared/CSHL_scoremaps_down32/MD657/MD657-N33-2017.02.22-15.39.59_MD657_1_0097_alignedTo_MD657-F44-2017.02.18-06.06.27_MD657_1_0130_cropped_down32/MD657-N33-2017.02.22-15.39.59_MD657_1_0097_alignedTo_MD657-F44-2017.02.18-06.06.27_MD657_1_0130_cropped_down32_outerContour_denseScoreMap_setting_30.bp && mkdir -p /shared/CSHL_scoremaps_down32/MD657/MD657-N33-2017.02.22-15.39.59_MD657_1_0097_alignedTo_MD657-F44-2017.02.18-06.06.27_MD657_1_0130_cropped_down32\n",
      "aws s3 cp s3://mousebrainatlas-data/CSHL_scoremaps_down32/MD657/MD657-N33-2017.02.22-15.39.59_MD657_1_0097_alignedTo_MD657-F44-2017.02.18-06.06.27_MD657_1_0130_cropped_down32/MD657-N33-2017.02.22-15.39.59_MD657_1_0097_alignedTo_MD657-F44-2017.02.18-06.06.27_MD657_1_0130_cropped_down32_outerContour_denseScoreMap_setting_30.bp /shared/CSHL_scoremaps_down32/MD657/MD657-N33-2017.02.22-15.39.59_MD657_1_0097_alignedTo_MD657-F44-2017.02.18-06.06.27_MD657_1_0130_cropped_down32/MD657-N33-2017.02.22-15.39.59_MD657_1_0097_alignedTo_MD657-F44-2017.02.18-06.06.27_MD657_1_0130_cropped_down32_outerContour_denseScoreMap_setting_30.bp\n"
     ]
    },
    {
     "name": "stderr",
     "output_type": "stream",
     "text": [
      "Child returned 1\n",
      "0.34 seconds.\n",
      "Child returned 0\n"
     ]
    },
    {
     "name": "stdout",
     "output_type": "stream",
     "text": [
      "rm -rf /shared/CSHL_scoremaps_down32/MD657/MD657-N33-2017.02.22-15.39.59_MD657_2_0098_alignedTo_MD657-F44-2017.02.18-06.06.27_MD657_1_0130_cropped_down32/MD657-N33-2017.02.22-15.39.59_MD657_2_0098_alignedTo_MD657-F44-2017.02.18-06.06.27_MD657_1_0130_cropped_down32_outerContour_denseScoreMap_setting_30.bp && mkdir -p /shared/CSHL_scoremaps_down32/MD657/MD657-N33-2017.02.22-15.39.59_MD657_2_0098_alignedTo_MD657-F44-2017.02.18-06.06.27_MD657_1_0130_cropped_down32\n",
      "aws s3 cp s3://mousebrainatlas-data/CSHL_scoremaps_down32/MD657/MD657-N33-2017.02.22-15.39.59_MD657_2_0098_alignedTo_MD657-F44-2017.02.18-06.06.27_MD657_1_0130_cropped_down32/MD657-N33-2017.02.22-15.39.59_MD657_2_0098_alignedTo_MD657-F44-2017.02.18-06.06.27_MD657_1_0130_cropped_down32_outerContour_denseScoreMap_setting_30.bp /shared/CSHL_scoremaps_down32/MD657/MD657-N33-2017.02.22-15.39.59_MD657_2_0098_alignedTo_MD657-F44-2017.02.18-06.06.27_MD657_1_0130_cropped_down32/MD657-N33-2017.02.22-15.39.59_MD657_2_0098_alignedTo_MD657-F44-2017.02.18-06.06.27_MD657_1_0130_cropped_down32_outerContour_denseScoreMap_setting_30.bp\n"
     ]
    },
    {
     "name": "stderr",
     "output_type": "stream",
     "text": [
      "Child returned 1\n",
      "0.34 seconds.\n",
      "Child returned 0\n"
     ]
    },
    {
     "name": "stdout",
     "output_type": "stream",
     "text": [
      "rm -rf /shared/CSHL_scoremaps_down32/MD657/MD657-N34-2017.02.22-15.43.50_MD657_1_0100_alignedTo_MD657-F44-2017.02.18-06.06.27_MD657_1_0130_cropped_down32/MD657-N34-2017.02.22-15.43.50_MD657_1_0100_alignedTo_MD657-F44-2017.02.18-06.06.27_MD657_1_0130_cropped_down32_outerContour_denseScoreMap_setting_30.bp && mkdir -p /shared/CSHL_scoremaps_down32/MD657/MD657-N34-2017.02.22-15.43.50_MD657_1_0100_alignedTo_MD657-F44-2017.02.18-06.06.27_MD657_1_0130_cropped_down32\n",
      "aws s3 cp s3://mousebrainatlas-data/CSHL_scoremaps_down32/MD657/MD657-N34-2017.02.22-15.43.50_MD657_1_0100_alignedTo_MD657-F44-2017.02.18-06.06.27_MD657_1_0130_cropped_down32/MD657-N34-2017.02.22-15.43.50_MD657_1_0100_alignedTo_MD657-F44-2017.02.18-06.06.27_MD657_1_0130_cropped_down32_outerContour_denseScoreMap_setting_30.bp /shared/CSHL_scoremaps_down32/MD657/MD657-N34-2017.02.22-15.43.50_MD657_1_0100_alignedTo_MD657-F44-2017.02.18-06.06.27_MD657_1_0130_cropped_down32/MD657-N34-2017.02.22-15.43.50_MD657_1_0100_alignedTo_MD657-F44-2017.02.18-06.06.27_MD657_1_0130_cropped_down32_outerContour_denseScoreMap_setting_30.bp\n"
     ]
    },
    {
     "name": "stderr",
     "output_type": "stream",
     "text": [
      "Child returned 1\n",
      "0.34 seconds.\n",
      "Child returned 0\n"
     ]
    },
    {
     "name": "stdout",
     "output_type": "stream",
     "text": [
      "rm -rf /shared/CSHL_scoremaps_down32/MD657/MD657-N34-2017.02.22-15.43.50_MD657_2_0101_alignedTo_MD657-F44-2017.02.18-06.06.27_MD657_1_0130_cropped_down32/MD657-N34-2017.02.22-15.43.50_MD657_2_0101_alignedTo_MD657-F44-2017.02.18-06.06.27_MD657_1_0130_cropped_down32_outerContour_denseScoreMap_setting_30.bp && mkdir -p /shared/CSHL_scoremaps_down32/MD657/MD657-N34-2017.02.22-15.43.50_MD657_2_0101_alignedTo_MD657-F44-2017.02.18-06.06.27_MD657_1_0130_cropped_down32\n",
      "aws s3 cp s3://mousebrainatlas-data/CSHL_scoremaps_down32/MD657/MD657-N34-2017.02.22-15.43.50_MD657_2_0101_alignedTo_MD657-F44-2017.02.18-06.06.27_MD657_1_0130_cropped_down32/MD657-N34-2017.02.22-15.43.50_MD657_2_0101_alignedTo_MD657-F44-2017.02.18-06.06.27_MD657_1_0130_cropped_down32_outerContour_denseScoreMap_setting_30.bp /shared/CSHL_scoremaps_down32/MD657/MD657-N34-2017.02.22-15.43.50_MD657_2_0101_alignedTo_MD657-F44-2017.02.18-06.06.27_MD657_1_0130_cropped_down32/MD657-N34-2017.02.22-15.43.50_MD657_2_0101_alignedTo_MD657-F44-2017.02.18-06.06.27_MD657_1_0130_cropped_down32_outerContour_denseScoreMap_setting_30.bp\n"
     ]
    },
    {
     "name": "stderr",
     "output_type": "stream",
     "text": [
      "Child returned 1\n",
      "0.35 seconds.\n",
      "Child returned 0\n"
     ]
    },
    {
     "name": "stdout",
     "output_type": "stream",
     "text": [
      "rm -rf /shared/CSHL_scoremaps_down32/MD657/MD657-N35-2017.02.22-15.47.51_MD657_1_0103_alignedTo_MD657-F44-2017.02.18-06.06.27_MD657_1_0130_cropped_down32/MD657-N35-2017.02.22-15.47.51_MD657_1_0103_alignedTo_MD657-F44-2017.02.18-06.06.27_MD657_1_0130_cropped_down32_outerContour_denseScoreMap_setting_30.bp && mkdir -p /shared/CSHL_scoremaps_down32/MD657/MD657-N35-2017.02.22-15.47.51_MD657_1_0103_alignedTo_MD657-F44-2017.02.18-06.06.27_MD657_1_0130_cropped_down32\n",
      "aws s3 cp s3://mousebrainatlas-data/CSHL_scoremaps_down32/MD657/MD657-N35-2017.02.22-15.47.51_MD657_1_0103_alignedTo_MD657-F44-2017.02.18-06.06.27_MD657_1_0130_cropped_down32/MD657-N35-2017.02.22-15.47.51_MD657_1_0103_alignedTo_MD657-F44-2017.02.18-06.06.27_MD657_1_0130_cropped_down32_outerContour_denseScoreMap_setting_30.bp /shared/CSHL_scoremaps_down32/MD657/MD657-N35-2017.02.22-15.47.51_MD657_1_0103_alignedTo_MD657-F44-2017.02.18-06.06.27_MD657_1_0130_cropped_down32/MD657-N35-2017.02.22-15.47.51_MD657_1_0103_alignedTo_MD657-F44-2017.02.18-06.06.27_MD657_1_0130_cropped_down32_outerContour_denseScoreMap_setting_30.bp\n"
     ]
    },
    {
     "name": "stderr",
     "output_type": "stream",
     "text": [
      "Child returned 1\n",
      "0.37 seconds.\n",
      "Child returned 0\n"
     ]
    },
    {
     "name": "stdout",
     "output_type": "stream",
     "text": [
      "rm -rf /shared/CSHL_scoremaps_down32/MD657/MD657-N35-2017.02.22-15.47.51_MD657_2_0104_alignedTo_MD657-F44-2017.02.18-06.06.27_MD657_1_0130_cropped_down32/MD657-N35-2017.02.22-15.47.51_MD657_2_0104_alignedTo_MD657-F44-2017.02.18-06.06.27_MD657_1_0130_cropped_down32_outerContour_denseScoreMap_setting_30.bp && mkdir -p /shared/CSHL_scoremaps_down32/MD657/MD657-N35-2017.02.22-15.47.51_MD657_2_0104_alignedTo_MD657-F44-2017.02.18-06.06.27_MD657_1_0130_cropped_down32\n",
      "aws s3 cp s3://mousebrainatlas-data/CSHL_scoremaps_down32/MD657/MD657-N35-2017.02.22-15.47.51_MD657_2_0104_alignedTo_MD657-F44-2017.02.18-06.06.27_MD657_1_0130_cropped_down32/MD657-N35-2017.02.22-15.47.51_MD657_2_0104_alignedTo_MD657-F44-2017.02.18-06.06.27_MD657_1_0130_cropped_down32_outerContour_denseScoreMap_setting_30.bp /shared/CSHL_scoremaps_down32/MD657/MD657-N35-2017.02.22-15.47.51_MD657_2_0104_alignedTo_MD657-F44-2017.02.18-06.06.27_MD657_1_0130_cropped_down32/MD657-N35-2017.02.22-15.47.51_MD657_2_0104_alignedTo_MD657-F44-2017.02.18-06.06.27_MD657_1_0130_cropped_down32_outerContour_denseScoreMap_setting_30.bp\n"
     ]
    },
    {
     "name": "stderr",
     "output_type": "stream",
     "text": [
      "Child returned 1\n",
      "0.34 seconds.\n",
      "Child returned 0\n"
     ]
    },
    {
     "name": "stdout",
     "output_type": "stream",
     "text": [
      "rm -rf /shared/CSHL_scoremaps_down32/MD657/MD657-N36-2017.02.22-15.51.49_MD657_1_0106_alignedTo_MD657-F44-2017.02.18-06.06.27_MD657_1_0130_cropped_down32/MD657-N36-2017.02.22-15.51.49_MD657_1_0106_alignedTo_MD657-F44-2017.02.18-06.06.27_MD657_1_0130_cropped_down32_outerContour_denseScoreMap_setting_30.bp && mkdir -p /shared/CSHL_scoremaps_down32/MD657/MD657-N36-2017.02.22-15.51.49_MD657_1_0106_alignedTo_MD657-F44-2017.02.18-06.06.27_MD657_1_0130_cropped_down32\n",
      "aws s3 cp s3://mousebrainatlas-data/CSHL_scoremaps_down32/MD657/MD657-N36-2017.02.22-15.51.49_MD657_1_0106_alignedTo_MD657-F44-2017.02.18-06.06.27_MD657_1_0130_cropped_down32/MD657-N36-2017.02.22-15.51.49_MD657_1_0106_alignedTo_MD657-F44-2017.02.18-06.06.27_MD657_1_0130_cropped_down32_outerContour_denseScoreMap_setting_30.bp /shared/CSHL_scoremaps_down32/MD657/MD657-N36-2017.02.22-15.51.49_MD657_1_0106_alignedTo_MD657-F44-2017.02.18-06.06.27_MD657_1_0130_cropped_down32/MD657-N36-2017.02.22-15.51.49_MD657_1_0106_alignedTo_MD657-F44-2017.02.18-06.06.27_MD657_1_0130_cropped_down32_outerContour_denseScoreMap_setting_30.bp\n"
     ]
    },
    {
     "name": "stderr",
     "output_type": "stream",
     "text": [
      "Child returned 1\n",
      "0.36 seconds.\n",
      "Child returned 0\n"
     ]
    },
    {
     "name": "stdout",
     "output_type": "stream",
     "text": [
      "rm -rf /shared/CSHL_scoremaps_down32/MD657/MD657-N36-2017.02.22-15.51.49_MD657_2_0107_alignedTo_MD657-F44-2017.02.18-06.06.27_MD657_1_0130_cropped_down32/MD657-N36-2017.02.22-15.51.49_MD657_2_0107_alignedTo_MD657-F44-2017.02.18-06.06.27_MD657_1_0130_cropped_down32_outerContour_denseScoreMap_setting_30.bp && mkdir -p /shared/CSHL_scoremaps_down32/MD657/MD657-N36-2017.02.22-15.51.49_MD657_2_0107_alignedTo_MD657-F44-2017.02.18-06.06.27_MD657_1_0130_cropped_down32\n",
      "aws s3 cp s3://mousebrainatlas-data/CSHL_scoremaps_down32/MD657/MD657-N36-2017.02.22-15.51.49_MD657_2_0107_alignedTo_MD657-F44-2017.02.18-06.06.27_MD657_1_0130_cropped_down32/MD657-N36-2017.02.22-15.51.49_MD657_2_0107_alignedTo_MD657-F44-2017.02.18-06.06.27_MD657_1_0130_cropped_down32_outerContour_denseScoreMap_setting_30.bp /shared/CSHL_scoremaps_down32/MD657/MD657-N36-2017.02.22-15.51.49_MD657_2_0107_alignedTo_MD657-F44-2017.02.18-06.06.27_MD657_1_0130_cropped_down32/MD657-N36-2017.02.22-15.51.49_MD657_2_0107_alignedTo_MD657-F44-2017.02.18-06.06.27_MD657_1_0130_cropped_down32_outerContour_denseScoreMap_setting_30.bp\n"
     ]
    },
    {
     "name": "stderr",
     "output_type": "stream",
     "text": [
      "Child returned 1\n",
      "0.35 seconds.\n",
      "Child returned 0\n"
     ]
    },
    {
     "name": "stdout",
     "output_type": "stream",
     "text": [
      "rm -rf /shared/CSHL_scoremaps_down32/MD657/MD657-N37-2017.02.22-15.55.56_MD657_1_0109_alignedTo_MD657-F44-2017.02.18-06.06.27_MD657_1_0130_cropped_down32/MD657-N37-2017.02.22-15.55.56_MD657_1_0109_alignedTo_MD657-F44-2017.02.18-06.06.27_MD657_1_0130_cropped_down32_outerContour_denseScoreMap_setting_30.bp && mkdir -p /shared/CSHL_scoremaps_down32/MD657/MD657-N37-2017.02.22-15.55.56_MD657_1_0109_alignedTo_MD657-F44-2017.02.18-06.06.27_MD657_1_0130_cropped_down32\n",
      "aws s3 cp s3://mousebrainatlas-data/CSHL_scoremaps_down32/MD657/MD657-N37-2017.02.22-15.55.56_MD657_1_0109_alignedTo_MD657-F44-2017.02.18-06.06.27_MD657_1_0130_cropped_down32/MD657-N37-2017.02.22-15.55.56_MD657_1_0109_alignedTo_MD657-F44-2017.02.18-06.06.27_MD657_1_0130_cropped_down32_outerContour_denseScoreMap_setting_30.bp /shared/CSHL_scoremaps_down32/MD657/MD657-N37-2017.02.22-15.55.56_MD657_1_0109_alignedTo_MD657-F44-2017.02.18-06.06.27_MD657_1_0130_cropped_down32/MD657-N37-2017.02.22-15.55.56_MD657_1_0109_alignedTo_MD657-F44-2017.02.18-06.06.27_MD657_1_0130_cropped_down32_outerContour_denseScoreMap_setting_30.bp\n"
     ]
    },
    {
     "name": "stderr",
     "output_type": "stream",
     "text": [
      "Child returned 1\n",
      "0.35 seconds.\n",
      "Child returned 0\n"
     ]
    },
    {
     "name": "stdout",
     "output_type": "stream",
     "text": [
      "rm -rf /shared/CSHL_scoremaps_down32/MD657/MD657-N37-2017.02.22-15.55.56_MD657_2_0110_alignedTo_MD657-F44-2017.02.18-06.06.27_MD657_1_0130_cropped_down32/MD657-N37-2017.02.22-15.55.56_MD657_2_0110_alignedTo_MD657-F44-2017.02.18-06.06.27_MD657_1_0130_cropped_down32_outerContour_denseScoreMap_setting_30.bp && mkdir -p /shared/CSHL_scoremaps_down32/MD657/MD657-N37-2017.02.22-15.55.56_MD657_2_0110_alignedTo_MD657-F44-2017.02.18-06.06.27_MD657_1_0130_cropped_down32\n",
      "aws s3 cp s3://mousebrainatlas-data/CSHL_scoremaps_down32/MD657/MD657-N37-2017.02.22-15.55.56_MD657_2_0110_alignedTo_MD657-F44-2017.02.18-06.06.27_MD657_1_0130_cropped_down32/MD657-N37-2017.02.22-15.55.56_MD657_2_0110_alignedTo_MD657-F44-2017.02.18-06.06.27_MD657_1_0130_cropped_down32_outerContour_denseScoreMap_setting_30.bp /shared/CSHL_scoremaps_down32/MD657/MD657-N37-2017.02.22-15.55.56_MD657_2_0110_alignedTo_MD657-F44-2017.02.18-06.06.27_MD657_1_0130_cropped_down32/MD657-N37-2017.02.22-15.55.56_MD657_2_0110_alignedTo_MD657-F44-2017.02.18-06.06.27_MD657_1_0130_cropped_down32_outerContour_denseScoreMap_setting_30.bp\n"
     ]
    },
    {
     "name": "stderr",
     "output_type": "stream",
     "text": [
      "Child returned 1\n",
      "0.34 seconds.\n",
      "Child returned 0\n"
     ]
    },
    {
     "name": "stdout",
     "output_type": "stream",
     "text": [
      "rm -rf /shared/CSHL_scoremaps_down32/MD657/MD657-N38-2017.02.22-16.00.02_MD657_1_0112_alignedTo_MD657-F44-2017.02.18-06.06.27_MD657_1_0130_cropped_down32/MD657-N38-2017.02.22-16.00.02_MD657_1_0112_alignedTo_MD657-F44-2017.02.18-06.06.27_MD657_1_0130_cropped_down32_outerContour_denseScoreMap_setting_30.bp && mkdir -p /shared/CSHL_scoremaps_down32/MD657/MD657-N38-2017.02.22-16.00.02_MD657_1_0112_alignedTo_MD657-F44-2017.02.18-06.06.27_MD657_1_0130_cropped_down32\n",
      "aws s3 cp s3://mousebrainatlas-data/CSHL_scoremaps_down32/MD657/MD657-N38-2017.02.22-16.00.02_MD657_1_0112_alignedTo_MD657-F44-2017.02.18-06.06.27_MD657_1_0130_cropped_down32/MD657-N38-2017.02.22-16.00.02_MD657_1_0112_alignedTo_MD657-F44-2017.02.18-06.06.27_MD657_1_0130_cropped_down32_outerContour_denseScoreMap_setting_30.bp /shared/CSHL_scoremaps_down32/MD657/MD657-N38-2017.02.22-16.00.02_MD657_1_0112_alignedTo_MD657-F44-2017.02.18-06.06.27_MD657_1_0130_cropped_down32/MD657-N38-2017.02.22-16.00.02_MD657_1_0112_alignedTo_MD657-F44-2017.02.18-06.06.27_MD657_1_0130_cropped_down32_outerContour_denseScoreMap_setting_30.bp\n"
     ]
    },
    {
     "name": "stderr",
     "output_type": "stream",
     "text": [
      "Child returned 1\n",
      "0.34 seconds.\n",
      "Child returned 0\n"
     ]
    },
    {
     "name": "stdout",
     "output_type": "stream",
     "text": [
      "rm -rf /shared/CSHL_scoremaps_down32/MD657/MD657-N38-2017.02.22-16.00.02_MD657_2_0113_alignedTo_MD657-F44-2017.02.18-06.06.27_MD657_1_0130_cropped_down32/MD657-N38-2017.02.22-16.00.02_MD657_2_0113_alignedTo_MD657-F44-2017.02.18-06.06.27_MD657_1_0130_cropped_down32_outerContour_denseScoreMap_setting_30.bp && mkdir -p /shared/CSHL_scoremaps_down32/MD657/MD657-N38-2017.02.22-16.00.02_MD657_2_0113_alignedTo_MD657-F44-2017.02.18-06.06.27_MD657_1_0130_cropped_down32\n",
      "aws s3 cp s3://mousebrainatlas-data/CSHL_scoremaps_down32/MD657/MD657-N38-2017.02.22-16.00.02_MD657_2_0113_alignedTo_MD657-F44-2017.02.18-06.06.27_MD657_1_0130_cropped_down32/MD657-N38-2017.02.22-16.00.02_MD657_2_0113_alignedTo_MD657-F44-2017.02.18-06.06.27_MD657_1_0130_cropped_down32_outerContour_denseScoreMap_setting_30.bp /shared/CSHL_scoremaps_down32/MD657/MD657-N38-2017.02.22-16.00.02_MD657_2_0113_alignedTo_MD657-F44-2017.02.18-06.06.27_MD657_1_0130_cropped_down32/MD657-N38-2017.02.22-16.00.02_MD657_2_0113_alignedTo_MD657-F44-2017.02.18-06.06.27_MD657_1_0130_cropped_down32_outerContour_denseScoreMap_setting_30.bp\n"
     ]
    },
    {
     "name": "stderr",
     "output_type": "stream",
     "text": [
      "Child returned 1\n",
      "0.34 seconds.\n",
      "Child returned 0\n"
     ]
    },
    {
     "name": "stdout",
     "output_type": "stream",
     "text": [
      "rm -rf /shared/CSHL_scoremaps_down32/MD657/MD657-N39-2017.02.22-16.04.05_MD657_1_0115_alignedTo_MD657-F44-2017.02.18-06.06.27_MD657_1_0130_cropped_down32/MD657-N39-2017.02.22-16.04.05_MD657_1_0115_alignedTo_MD657-F44-2017.02.18-06.06.27_MD657_1_0130_cropped_down32_outerContour_denseScoreMap_setting_30.bp && mkdir -p /shared/CSHL_scoremaps_down32/MD657/MD657-N39-2017.02.22-16.04.05_MD657_1_0115_alignedTo_MD657-F44-2017.02.18-06.06.27_MD657_1_0130_cropped_down32\n",
      "aws s3 cp s3://mousebrainatlas-data/CSHL_scoremaps_down32/MD657/MD657-N39-2017.02.22-16.04.05_MD657_1_0115_alignedTo_MD657-F44-2017.02.18-06.06.27_MD657_1_0130_cropped_down32/MD657-N39-2017.02.22-16.04.05_MD657_1_0115_alignedTo_MD657-F44-2017.02.18-06.06.27_MD657_1_0130_cropped_down32_outerContour_denseScoreMap_setting_30.bp /shared/CSHL_scoremaps_down32/MD657/MD657-N39-2017.02.22-16.04.05_MD657_1_0115_alignedTo_MD657-F44-2017.02.18-06.06.27_MD657_1_0130_cropped_down32/MD657-N39-2017.02.22-16.04.05_MD657_1_0115_alignedTo_MD657-F44-2017.02.18-06.06.27_MD657_1_0130_cropped_down32_outerContour_denseScoreMap_setting_30.bp\n"
     ]
    },
    {
     "name": "stderr",
     "output_type": "stream",
     "text": [
      "Child returned 1\n",
      "0.33 seconds.\n",
      "Child returned 0\n"
     ]
    },
    {
     "name": "stdout",
     "output_type": "stream",
     "text": [
      "rm -rf /shared/CSHL_scoremaps_down32/MD657/MD657-N39-2017.02.22-16.04.05_MD657_2_0116_alignedTo_MD657-F44-2017.02.18-06.06.27_MD657_1_0130_cropped_down32/MD657-N39-2017.02.22-16.04.05_MD657_2_0116_alignedTo_MD657-F44-2017.02.18-06.06.27_MD657_1_0130_cropped_down32_outerContour_denseScoreMap_setting_30.bp && mkdir -p /shared/CSHL_scoremaps_down32/MD657/MD657-N39-2017.02.22-16.04.05_MD657_2_0116_alignedTo_MD657-F44-2017.02.18-06.06.27_MD657_1_0130_cropped_down32\n",
      "aws s3 cp s3://mousebrainatlas-data/CSHL_scoremaps_down32/MD657/MD657-N39-2017.02.22-16.04.05_MD657_2_0116_alignedTo_MD657-F44-2017.02.18-06.06.27_MD657_1_0130_cropped_down32/MD657-N39-2017.02.22-16.04.05_MD657_2_0116_alignedTo_MD657-F44-2017.02.18-06.06.27_MD657_1_0130_cropped_down32_outerContour_denseScoreMap_setting_30.bp /shared/CSHL_scoremaps_down32/MD657/MD657-N39-2017.02.22-16.04.05_MD657_2_0116_alignedTo_MD657-F44-2017.02.18-06.06.27_MD657_1_0130_cropped_down32/MD657-N39-2017.02.22-16.04.05_MD657_2_0116_alignedTo_MD657-F44-2017.02.18-06.06.27_MD657_1_0130_cropped_down32_outerContour_denseScoreMap_setting_30.bp\n"
     ]
    },
    {
     "name": "stderr",
     "output_type": "stream",
     "text": [
      "Child returned 1\n",
      "0.33 seconds.\n",
      "Child returned 0\n"
     ]
    },
    {
     "name": "stdout",
     "output_type": "stream",
     "text": [
      "rm -rf /shared/CSHL_scoremaps_down32/MD657/MD657-N40-2017.02.22-16.08.37_MD657_1_0118_alignedTo_MD657-F44-2017.02.18-06.06.27_MD657_1_0130_cropped_down32/MD657-N40-2017.02.22-16.08.37_MD657_1_0118_alignedTo_MD657-F44-2017.02.18-06.06.27_MD657_1_0130_cropped_down32_outerContour_denseScoreMap_setting_30.bp && mkdir -p /shared/CSHL_scoremaps_down32/MD657/MD657-N40-2017.02.22-16.08.37_MD657_1_0118_alignedTo_MD657-F44-2017.02.18-06.06.27_MD657_1_0130_cropped_down32\n",
      "aws s3 cp s3://mousebrainatlas-data/CSHL_scoremaps_down32/MD657/MD657-N40-2017.02.22-16.08.37_MD657_1_0118_alignedTo_MD657-F44-2017.02.18-06.06.27_MD657_1_0130_cropped_down32/MD657-N40-2017.02.22-16.08.37_MD657_1_0118_alignedTo_MD657-F44-2017.02.18-06.06.27_MD657_1_0130_cropped_down32_outerContour_denseScoreMap_setting_30.bp /shared/CSHL_scoremaps_down32/MD657/MD657-N40-2017.02.22-16.08.37_MD657_1_0118_alignedTo_MD657-F44-2017.02.18-06.06.27_MD657_1_0130_cropped_down32/MD657-N40-2017.02.22-16.08.37_MD657_1_0118_alignedTo_MD657-F44-2017.02.18-06.06.27_MD657_1_0130_cropped_down32_outerContour_denseScoreMap_setting_30.bp\n"
     ]
    },
    {
     "name": "stderr",
     "output_type": "stream",
     "text": [
      "Child returned 1\n",
      "0.35 seconds.\n",
      "Child returned 0\n"
     ]
    },
    {
     "name": "stdout",
     "output_type": "stream",
     "text": [
      "rm -rf /shared/CSHL_scoremaps_down32/MD657/MD657-N40-2017.02.22-16.08.37_MD657_2_0119_alignedTo_MD657-F44-2017.02.18-06.06.27_MD657_1_0130_cropped_down32/MD657-N40-2017.02.22-16.08.37_MD657_2_0119_alignedTo_MD657-F44-2017.02.18-06.06.27_MD657_1_0130_cropped_down32_outerContour_denseScoreMap_setting_30.bp && mkdir -p /shared/CSHL_scoremaps_down32/MD657/MD657-N40-2017.02.22-16.08.37_MD657_2_0119_alignedTo_MD657-F44-2017.02.18-06.06.27_MD657_1_0130_cropped_down32\n",
      "aws s3 cp s3://mousebrainatlas-data/CSHL_scoremaps_down32/MD657/MD657-N40-2017.02.22-16.08.37_MD657_2_0119_alignedTo_MD657-F44-2017.02.18-06.06.27_MD657_1_0130_cropped_down32/MD657-N40-2017.02.22-16.08.37_MD657_2_0119_alignedTo_MD657-F44-2017.02.18-06.06.27_MD657_1_0130_cropped_down32_outerContour_denseScoreMap_setting_30.bp /shared/CSHL_scoremaps_down32/MD657/MD657-N40-2017.02.22-16.08.37_MD657_2_0119_alignedTo_MD657-F44-2017.02.18-06.06.27_MD657_1_0130_cropped_down32/MD657-N40-2017.02.22-16.08.37_MD657_2_0119_alignedTo_MD657-F44-2017.02.18-06.06.27_MD657_1_0130_cropped_down32_outerContour_denseScoreMap_setting_30.bp\n"
     ]
    },
    {
     "name": "stderr",
     "output_type": "stream",
     "text": [
      "Child returned 1\n",
      "0.33 seconds.\n",
      "Child returned 0\n"
     ]
    },
    {
     "name": "stdout",
     "output_type": "stream",
     "text": [
      "rm -rf /shared/CSHL_scoremaps_down32/MD657/MD657-N41-2017.02.22-16.12.45_MD657_1_0121_alignedTo_MD657-F44-2017.02.18-06.06.27_MD657_1_0130_cropped_down32/MD657-N41-2017.02.22-16.12.45_MD657_1_0121_alignedTo_MD657-F44-2017.02.18-06.06.27_MD657_1_0130_cropped_down32_outerContour_denseScoreMap_setting_30.bp && mkdir -p /shared/CSHL_scoremaps_down32/MD657/MD657-N41-2017.02.22-16.12.45_MD657_1_0121_alignedTo_MD657-F44-2017.02.18-06.06.27_MD657_1_0130_cropped_down32\n",
      "aws s3 cp s3://mousebrainatlas-data/CSHL_scoremaps_down32/MD657/MD657-N41-2017.02.22-16.12.45_MD657_1_0121_alignedTo_MD657-F44-2017.02.18-06.06.27_MD657_1_0130_cropped_down32/MD657-N41-2017.02.22-16.12.45_MD657_1_0121_alignedTo_MD657-F44-2017.02.18-06.06.27_MD657_1_0130_cropped_down32_outerContour_denseScoreMap_setting_30.bp /shared/CSHL_scoremaps_down32/MD657/MD657-N41-2017.02.22-16.12.45_MD657_1_0121_alignedTo_MD657-F44-2017.02.18-06.06.27_MD657_1_0130_cropped_down32/MD657-N41-2017.02.22-16.12.45_MD657_1_0121_alignedTo_MD657-F44-2017.02.18-06.06.27_MD657_1_0130_cropped_down32_outerContour_denseScoreMap_setting_30.bp\n"
     ]
    },
    {
     "name": "stderr",
     "output_type": "stream",
     "text": [
      "Child returned 1\n",
      "0.34 seconds.\n",
      "Child returned 0\n"
     ]
    },
    {
     "name": "stdout",
     "output_type": "stream",
     "text": [
      "rm -rf /shared/CSHL_scoremaps_down32/MD657/MD657-N41-2017.02.22-16.12.45_MD657_2_0122_alignedTo_MD657-F44-2017.02.18-06.06.27_MD657_1_0130_cropped_down32/MD657-N41-2017.02.22-16.12.45_MD657_2_0122_alignedTo_MD657-F44-2017.02.18-06.06.27_MD657_1_0130_cropped_down32_outerContour_denseScoreMap_setting_30.bp && mkdir -p /shared/CSHL_scoremaps_down32/MD657/MD657-N41-2017.02.22-16.12.45_MD657_2_0122_alignedTo_MD657-F44-2017.02.18-06.06.27_MD657_1_0130_cropped_down32\n",
      "aws s3 cp s3://mousebrainatlas-data/CSHL_scoremaps_down32/MD657/MD657-N41-2017.02.22-16.12.45_MD657_2_0122_alignedTo_MD657-F44-2017.02.18-06.06.27_MD657_1_0130_cropped_down32/MD657-N41-2017.02.22-16.12.45_MD657_2_0122_alignedTo_MD657-F44-2017.02.18-06.06.27_MD657_1_0130_cropped_down32_outerContour_denseScoreMap_setting_30.bp /shared/CSHL_scoremaps_down32/MD657/MD657-N41-2017.02.22-16.12.45_MD657_2_0122_alignedTo_MD657-F44-2017.02.18-06.06.27_MD657_1_0130_cropped_down32/MD657-N41-2017.02.22-16.12.45_MD657_2_0122_alignedTo_MD657-F44-2017.02.18-06.06.27_MD657_1_0130_cropped_down32_outerContour_denseScoreMap_setting_30.bp\n"
     ]
    },
    {
     "name": "stderr",
     "output_type": "stream",
     "text": [
      "Child returned 1\n",
      "0.33 seconds.\n",
      "Child returned 0\n"
     ]
    },
    {
     "name": "stdout",
     "output_type": "stream",
     "text": [
      "rm -rf /shared/CSHL_scoremaps_down32/MD657/MD657-N42-2017.02.22-16.16.50_MD657_1_0124_alignedTo_MD657-F44-2017.02.18-06.06.27_MD657_1_0130_cropped_down32/MD657-N42-2017.02.22-16.16.50_MD657_1_0124_alignedTo_MD657-F44-2017.02.18-06.06.27_MD657_1_0130_cropped_down32_outerContour_denseScoreMap_setting_30.bp && mkdir -p /shared/CSHL_scoremaps_down32/MD657/MD657-N42-2017.02.22-16.16.50_MD657_1_0124_alignedTo_MD657-F44-2017.02.18-06.06.27_MD657_1_0130_cropped_down32\n",
      "aws s3 cp s3://mousebrainatlas-data/CSHL_scoremaps_down32/MD657/MD657-N42-2017.02.22-16.16.50_MD657_1_0124_alignedTo_MD657-F44-2017.02.18-06.06.27_MD657_1_0130_cropped_down32/MD657-N42-2017.02.22-16.16.50_MD657_1_0124_alignedTo_MD657-F44-2017.02.18-06.06.27_MD657_1_0130_cropped_down32_outerContour_denseScoreMap_setting_30.bp /shared/CSHL_scoremaps_down32/MD657/MD657-N42-2017.02.22-16.16.50_MD657_1_0124_alignedTo_MD657-F44-2017.02.18-06.06.27_MD657_1_0130_cropped_down32/MD657-N42-2017.02.22-16.16.50_MD657_1_0124_alignedTo_MD657-F44-2017.02.18-06.06.27_MD657_1_0130_cropped_down32_outerContour_denseScoreMap_setting_30.bp\n"
     ]
    },
    {
     "name": "stderr",
     "output_type": "stream",
     "text": [
      "Child returned 1\n",
      "0.35 seconds.\n",
      "Child returned 0\n"
     ]
    },
    {
     "name": "stdout",
     "output_type": "stream",
     "text": [
      "rm -rf /shared/CSHL_scoremaps_down32/MD657/MD657-N42-2017.02.22-16.16.50_MD657_2_0125_alignedTo_MD657-F44-2017.02.18-06.06.27_MD657_1_0130_cropped_down32/MD657-N42-2017.02.22-16.16.50_MD657_2_0125_alignedTo_MD657-F44-2017.02.18-06.06.27_MD657_1_0130_cropped_down32_outerContour_denseScoreMap_setting_30.bp && mkdir -p /shared/CSHL_scoremaps_down32/MD657/MD657-N42-2017.02.22-16.16.50_MD657_2_0125_alignedTo_MD657-F44-2017.02.18-06.06.27_MD657_1_0130_cropped_down32\n",
      "aws s3 cp s3://mousebrainatlas-data/CSHL_scoremaps_down32/MD657/MD657-N42-2017.02.22-16.16.50_MD657_2_0125_alignedTo_MD657-F44-2017.02.18-06.06.27_MD657_1_0130_cropped_down32/MD657-N42-2017.02.22-16.16.50_MD657_2_0125_alignedTo_MD657-F44-2017.02.18-06.06.27_MD657_1_0130_cropped_down32_outerContour_denseScoreMap_setting_30.bp /shared/CSHL_scoremaps_down32/MD657/MD657-N42-2017.02.22-16.16.50_MD657_2_0125_alignedTo_MD657-F44-2017.02.18-06.06.27_MD657_1_0130_cropped_down32/MD657-N42-2017.02.22-16.16.50_MD657_2_0125_alignedTo_MD657-F44-2017.02.18-06.06.27_MD657_1_0130_cropped_down32_outerContour_denseScoreMap_setting_30.bp\n"
     ]
    },
    {
     "name": "stderr",
     "output_type": "stream",
     "text": [
      "Child returned 1\n",
      "0.33 seconds.\n",
      "Child returned 0\n"
     ]
    },
    {
     "name": "stdout",
     "output_type": "stream",
     "text": [
      "rm -rf /shared/CSHL_scoremaps_down32/MD657/MD657-N43-2017.02.22-16.21.20_MD657_1_0127_alignedTo_MD657-F44-2017.02.18-06.06.27_MD657_1_0130_cropped_down32/MD657-N43-2017.02.22-16.21.20_MD657_1_0127_alignedTo_MD657-F44-2017.02.18-06.06.27_MD657_1_0130_cropped_down32_outerContour_denseScoreMap_setting_30.bp && mkdir -p /shared/CSHL_scoremaps_down32/MD657/MD657-N43-2017.02.22-16.21.20_MD657_1_0127_alignedTo_MD657-F44-2017.02.18-06.06.27_MD657_1_0130_cropped_down32\n",
      "aws s3 cp s3://mousebrainatlas-data/CSHL_scoremaps_down32/MD657/MD657-N43-2017.02.22-16.21.20_MD657_1_0127_alignedTo_MD657-F44-2017.02.18-06.06.27_MD657_1_0130_cropped_down32/MD657-N43-2017.02.22-16.21.20_MD657_1_0127_alignedTo_MD657-F44-2017.02.18-06.06.27_MD657_1_0130_cropped_down32_outerContour_denseScoreMap_setting_30.bp /shared/CSHL_scoremaps_down32/MD657/MD657-N43-2017.02.22-16.21.20_MD657_1_0127_alignedTo_MD657-F44-2017.02.18-06.06.27_MD657_1_0130_cropped_down32/MD657-N43-2017.02.22-16.21.20_MD657_1_0127_alignedTo_MD657-F44-2017.02.18-06.06.27_MD657_1_0130_cropped_down32_outerContour_denseScoreMap_setting_30.bp\n"
     ]
    },
    {
     "name": "stderr",
     "output_type": "stream",
     "text": [
      "Child returned 1\n",
      "0.33 seconds.\n",
      "Child returned 0\n"
     ]
    },
    {
     "name": "stdout",
     "output_type": "stream",
     "text": [
      "rm -rf /shared/CSHL_scoremaps_down32/MD657/MD657-N44-2017.02.22-16.25.25_MD657_1_0130_alignedTo_MD657-F44-2017.02.18-06.06.27_MD657_1_0130_cropped_down32/MD657-N44-2017.02.22-16.25.25_MD657_1_0130_alignedTo_MD657-F44-2017.02.18-06.06.27_MD657_1_0130_cropped_down32_outerContour_denseScoreMap_setting_30.bp && mkdir -p /shared/CSHL_scoremaps_down32/MD657/MD657-N44-2017.02.22-16.25.25_MD657_1_0130_alignedTo_MD657-F44-2017.02.18-06.06.27_MD657_1_0130_cropped_down32\n",
      "aws s3 cp s3://mousebrainatlas-data/CSHL_scoremaps_down32/MD657/MD657-N44-2017.02.22-16.25.25_MD657_1_0130_alignedTo_MD657-F44-2017.02.18-06.06.27_MD657_1_0130_cropped_down32/MD657-N44-2017.02.22-16.25.25_MD657_1_0130_alignedTo_MD657-F44-2017.02.18-06.06.27_MD657_1_0130_cropped_down32_outerContour_denseScoreMap_setting_30.bp /shared/CSHL_scoremaps_down32/MD657/MD657-N44-2017.02.22-16.25.25_MD657_1_0130_alignedTo_MD657-F44-2017.02.18-06.06.27_MD657_1_0130_cropped_down32/MD657-N44-2017.02.22-16.25.25_MD657_1_0130_alignedTo_MD657-F44-2017.02.18-06.06.27_MD657_1_0130_cropped_down32_outerContour_denseScoreMap_setting_30.bp\n"
     ]
    },
    {
     "name": "stderr",
     "output_type": "stream",
     "text": [
      "Child returned 1\n",
      "0.33 seconds.\n",
      "Child returned 0\n"
     ]
    },
    {
     "name": "stdout",
     "output_type": "stream",
     "text": [
      "rm -rf /shared/CSHL_scoremaps_down32/MD657/MD657-N44-2017.02.22-16.25.25_MD657_2_0131_alignedTo_MD657-F44-2017.02.18-06.06.27_MD657_1_0130_cropped_down32/MD657-N44-2017.02.22-16.25.25_MD657_2_0131_alignedTo_MD657-F44-2017.02.18-06.06.27_MD657_1_0130_cropped_down32_outerContour_denseScoreMap_setting_30.bp && mkdir -p /shared/CSHL_scoremaps_down32/MD657/MD657-N44-2017.02.22-16.25.25_MD657_2_0131_alignedTo_MD657-F44-2017.02.18-06.06.27_MD657_1_0130_cropped_down32\n",
      "aws s3 cp s3://mousebrainatlas-data/CSHL_scoremaps_down32/MD657/MD657-N44-2017.02.22-16.25.25_MD657_2_0131_alignedTo_MD657-F44-2017.02.18-06.06.27_MD657_1_0130_cropped_down32/MD657-N44-2017.02.22-16.25.25_MD657_2_0131_alignedTo_MD657-F44-2017.02.18-06.06.27_MD657_1_0130_cropped_down32_outerContour_denseScoreMap_setting_30.bp /shared/CSHL_scoremaps_down32/MD657/MD657-N44-2017.02.22-16.25.25_MD657_2_0131_alignedTo_MD657-F44-2017.02.18-06.06.27_MD657_1_0130_cropped_down32/MD657-N44-2017.02.22-16.25.25_MD657_2_0131_alignedTo_MD657-F44-2017.02.18-06.06.27_MD657_1_0130_cropped_down32_outerContour_denseScoreMap_setting_30.bp\n"
     ]
    },
    {
     "name": "stderr",
     "output_type": "stream",
     "text": [
      "Child returned 1\n",
      "0.33 seconds.\n",
      "Child returned 0\n"
     ]
    },
    {
     "name": "stdout",
     "output_type": "stream",
     "text": [
      "rm -rf /shared/CSHL_scoremaps_down32/MD657/MD657-N45-2017.02.22-16.29.38_MD657_1_0133_alignedTo_MD657-F44-2017.02.18-06.06.27_MD657_1_0130_cropped_down32/MD657-N45-2017.02.22-16.29.38_MD657_1_0133_alignedTo_MD657-F44-2017.02.18-06.06.27_MD657_1_0130_cropped_down32_outerContour_denseScoreMap_setting_30.bp && mkdir -p /shared/CSHL_scoremaps_down32/MD657/MD657-N45-2017.02.22-16.29.38_MD657_1_0133_alignedTo_MD657-F44-2017.02.18-06.06.27_MD657_1_0130_cropped_down32\n",
      "aws s3 cp s3://mousebrainatlas-data/CSHL_scoremaps_down32/MD657/MD657-N45-2017.02.22-16.29.38_MD657_1_0133_alignedTo_MD657-F44-2017.02.18-06.06.27_MD657_1_0130_cropped_down32/MD657-N45-2017.02.22-16.29.38_MD657_1_0133_alignedTo_MD657-F44-2017.02.18-06.06.27_MD657_1_0130_cropped_down32_outerContour_denseScoreMap_setting_30.bp /shared/CSHL_scoremaps_down32/MD657/MD657-N45-2017.02.22-16.29.38_MD657_1_0133_alignedTo_MD657-F44-2017.02.18-06.06.27_MD657_1_0130_cropped_down32/MD657-N45-2017.02.22-16.29.38_MD657_1_0133_alignedTo_MD657-F44-2017.02.18-06.06.27_MD657_1_0130_cropped_down32_outerContour_denseScoreMap_setting_30.bp\n"
     ]
    },
    {
     "name": "stderr",
     "output_type": "stream",
     "text": [
      "Child returned 1\n",
      "0.33 seconds.\n",
      "Child returned 0\n"
     ]
    },
    {
     "name": "stdout",
     "output_type": "stream",
     "text": [
      "rm -rf /shared/CSHL_scoremaps_down32/MD657/MD657-N45-2017.02.22-16.29.38_MD657_2_0134_alignedTo_MD657-F44-2017.02.18-06.06.27_MD657_1_0130_cropped_down32/MD657-N45-2017.02.22-16.29.38_MD657_2_0134_alignedTo_MD657-F44-2017.02.18-06.06.27_MD657_1_0130_cropped_down32_outerContour_denseScoreMap_setting_30.bp && mkdir -p /shared/CSHL_scoremaps_down32/MD657/MD657-N45-2017.02.22-16.29.38_MD657_2_0134_alignedTo_MD657-F44-2017.02.18-06.06.27_MD657_1_0130_cropped_down32\n",
      "aws s3 cp s3://mousebrainatlas-data/CSHL_scoremaps_down32/MD657/MD657-N45-2017.02.22-16.29.38_MD657_2_0134_alignedTo_MD657-F44-2017.02.18-06.06.27_MD657_1_0130_cropped_down32/MD657-N45-2017.02.22-16.29.38_MD657_2_0134_alignedTo_MD657-F44-2017.02.18-06.06.27_MD657_1_0130_cropped_down32_outerContour_denseScoreMap_setting_30.bp /shared/CSHL_scoremaps_down32/MD657/MD657-N45-2017.02.22-16.29.38_MD657_2_0134_alignedTo_MD657-F44-2017.02.18-06.06.27_MD657_1_0130_cropped_down32/MD657-N45-2017.02.22-16.29.38_MD657_2_0134_alignedTo_MD657-F44-2017.02.18-06.06.27_MD657_1_0130_cropped_down32_outerContour_denseScoreMap_setting_30.bp\n"
     ]
    },
    {
     "name": "stderr",
     "output_type": "stream",
     "text": [
      "Child returned 1\n",
      "0.34 seconds.\n",
      "Child returned 0\n"
     ]
    },
    {
     "name": "stdout",
     "output_type": "stream",
     "text": [
      "rm -rf /shared/CSHL_scoremaps_down32/MD657/MD657-N46-2017.02.22-16.33.47_MD657_1_0136_alignedTo_MD657-F44-2017.02.18-06.06.27_MD657_1_0130_cropped_down32/MD657-N46-2017.02.22-16.33.47_MD657_1_0136_alignedTo_MD657-F44-2017.02.18-06.06.27_MD657_1_0130_cropped_down32_outerContour_denseScoreMap_setting_30.bp && mkdir -p /shared/CSHL_scoremaps_down32/MD657/MD657-N46-2017.02.22-16.33.47_MD657_1_0136_alignedTo_MD657-F44-2017.02.18-06.06.27_MD657_1_0130_cropped_down32\n",
      "aws s3 cp s3://mousebrainatlas-data/CSHL_scoremaps_down32/MD657/MD657-N46-2017.02.22-16.33.47_MD657_1_0136_alignedTo_MD657-F44-2017.02.18-06.06.27_MD657_1_0130_cropped_down32/MD657-N46-2017.02.22-16.33.47_MD657_1_0136_alignedTo_MD657-F44-2017.02.18-06.06.27_MD657_1_0130_cropped_down32_outerContour_denseScoreMap_setting_30.bp /shared/CSHL_scoremaps_down32/MD657/MD657-N46-2017.02.22-16.33.47_MD657_1_0136_alignedTo_MD657-F44-2017.02.18-06.06.27_MD657_1_0130_cropped_down32/MD657-N46-2017.02.22-16.33.47_MD657_1_0136_alignedTo_MD657-F44-2017.02.18-06.06.27_MD657_1_0130_cropped_down32_outerContour_denseScoreMap_setting_30.bp\n"
     ]
    },
    {
     "name": "stderr",
     "output_type": "stream",
     "text": [
      "Child returned 1\n",
      "0.34 seconds.\n",
      "Child returned 0\n"
     ]
    },
    {
     "name": "stdout",
     "output_type": "stream",
     "text": [
      "rm -rf /shared/CSHL_scoremaps_down32/MD657/MD657-N46-2017.02.22-16.33.47_MD657_2_0137_alignedTo_MD657-F44-2017.02.18-06.06.27_MD657_1_0130_cropped_down32/MD657-N46-2017.02.22-16.33.47_MD657_2_0137_alignedTo_MD657-F44-2017.02.18-06.06.27_MD657_1_0130_cropped_down32_outerContour_denseScoreMap_setting_30.bp && mkdir -p /shared/CSHL_scoremaps_down32/MD657/MD657-N46-2017.02.22-16.33.47_MD657_2_0137_alignedTo_MD657-F44-2017.02.18-06.06.27_MD657_1_0130_cropped_down32\n",
      "aws s3 cp s3://mousebrainatlas-data/CSHL_scoremaps_down32/MD657/MD657-N46-2017.02.22-16.33.47_MD657_2_0137_alignedTo_MD657-F44-2017.02.18-06.06.27_MD657_1_0130_cropped_down32/MD657-N46-2017.02.22-16.33.47_MD657_2_0137_alignedTo_MD657-F44-2017.02.18-06.06.27_MD657_1_0130_cropped_down32_outerContour_denseScoreMap_setting_30.bp /shared/CSHL_scoremaps_down32/MD657/MD657-N46-2017.02.22-16.33.47_MD657_2_0137_alignedTo_MD657-F44-2017.02.18-06.06.27_MD657_1_0130_cropped_down32/MD657-N46-2017.02.22-16.33.47_MD657_2_0137_alignedTo_MD657-F44-2017.02.18-06.06.27_MD657_1_0130_cropped_down32_outerContour_denseScoreMap_setting_30.bp\n"
     ]
    },
    {
     "name": "stderr",
     "output_type": "stream",
     "text": [
      "Child returned 1\n",
      "0.34 seconds.\n",
      "Child returned 0\n"
     ]
    },
    {
     "name": "stdout",
     "output_type": "stream",
     "text": [
      "rm -rf /shared/CSHL_scoremaps_down32/MD657/MD657-N47-2017.02.22-16.37.53_MD657_1_0139_alignedTo_MD657-F44-2017.02.18-06.06.27_MD657_1_0130_cropped_down32/MD657-N47-2017.02.22-16.37.53_MD657_1_0139_alignedTo_MD657-F44-2017.02.18-06.06.27_MD657_1_0130_cropped_down32_outerContour_denseScoreMap_setting_30.bp && mkdir -p /shared/CSHL_scoremaps_down32/MD657/MD657-N47-2017.02.22-16.37.53_MD657_1_0139_alignedTo_MD657-F44-2017.02.18-06.06.27_MD657_1_0130_cropped_down32\n",
      "aws s3 cp s3://mousebrainatlas-data/CSHL_scoremaps_down32/MD657/MD657-N47-2017.02.22-16.37.53_MD657_1_0139_alignedTo_MD657-F44-2017.02.18-06.06.27_MD657_1_0130_cropped_down32/MD657-N47-2017.02.22-16.37.53_MD657_1_0139_alignedTo_MD657-F44-2017.02.18-06.06.27_MD657_1_0130_cropped_down32_outerContour_denseScoreMap_setting_30.bp /shared/CSHL_scoremaps_down32/MD657/MD657-N47-2017.02.22-16.37.53_MD657_1_0139_alignedTo_MD657-F44-2017.02.18-06.06.27_MD657_1_0130_cropped_down32/MD657-N47-2017.02.22-16.37.53_MD657_1_0139_alignedTo_MD657-F44-2017.02.18-06.06.27_MD657_1_0130_cropped_down32_outerContour_denseScoreMap_setting_30.bp\n"
     ]
    },
    {
     "name": "stderr",
     "output_type": "stream",
     "text": [
      "Child returned 1\n",
      "0.34 seconds.\n",
      "Child returned 0\n"
     ]
    },
    {
     "name": "stdout",
     "output_type": "stream",
     "text": [
      "rm -rf /shared/CSHL_scoremaps_down32/MD657/MD657-N47-2017.02.22-16.37.53_MD657_2_0140_alignedTo_MD657-F44-2017.02.18-06.06.27_MD657_1_0130_cropped_down32/MD657-N47-2017.02.22-16.37.53_MD657_2_0140_alignedTo_MD657-F44-2017.02.18-06.06.27_MD657_1_0130_cropped_down32_outerContour_denseScoreMap_setting_30.bp && mkdir -p /shared/CSHL_scoremaps_down32/MD657/MD657-N47-2017.02.22-16.37.53_MD657_2_0140_alignedTo_MD657-F44-2017.02.18-06.06.27_MD657_1_0130_cropped_down32\n",
      "aws s3 cp s3://mousebrainatlas-data/CSHL_scoremaps_down32/MD657/MD657-N47-2017.02.22-16.37.53_MD657_2_0140_alignedTo_MD657-F44-2017.02.18-06.06.27_MD657_1_0130_cropped_down32/MD657-N47-2017.02.22-16.37.53_MD657_2_0140_alignedTo_MD657-F44-2017.02.18-06.06.27_MD657_1_0130_cropped_down32_outerContour_denseScoreMap_setting_30.bp /shared/CSHL_scoremaps_down32/MD657/MD657-N47-2017.02.22-16.37.53_MD657_2_0140_alignedTo_MD657-F44-2017.02.18-06.06.27_MD657_1_0130_cropped_down32/MD657-N47-2017.02.22-16.37.53_MD657_2_0140_alignedTo_MD657-F44-2017.02.18-06.06.27_MD657_1_0130_cropped_down32_outerContour_denseScoreMap_setting_30.bp\n"
     ]
    },
    {
     "name": "stderr",
     "output_type": "stream",
     "text": [
      "Child returned 1\n",
      "0.35 seconds.\n",
      "Child returned 0\n"
     ]
    },
    {
     "name": "stdout",
     "output_type": "stream",
     "text": [
      "rm -rf /shared/CSHL_scoremaps_down32/MD657/MD657-N48-2017.02.22-16.41.55_MD657_1_0142_alignedTo_MD657-F44-2017.02.18-06.06.27_MD657_1_0130_cropped_down32/MD657-N48-2017.02.22-16.41.55_MD657_1_0142_alignedTo_MD657-F44-2017.02.18-06.06.27_MD657_1_0130_cropped_down32_outerContour_denseScoreMap_setting_30.bp && mkdir -p /shared/CSHL_scoremaps_down32/MD657/MD657-N48-2017.02.22-16.41.55_MD657_1_0142_alignedTo_MD657-F44-2017.02.18-06.06.27_MD657_1_0130_cropped_down32\n",
      "aws s3 cp s3://mousebrainatlas-data/CSHL_scoremaps_down32/MD657/MD657-N48-2017.02.22-16.41.55_MD657_1_0142_alignedTo_MD657-F44-2017.02.18-06.06.27_MD657_1_0130_cropped_down32/MD657-N48-2017.02.22-16.41.55_MD657_1_0142_alignedTo_MD657-F44-2017.02.18-06.06.27_MD657_1_0130_cropped_down32_outerContour_denseScoreMap_setting_30.bp /shared/CSHL_scoremaps_down32/MD657/MD657-N48-2017.02.22-16.41.55_MD657_1_0142_alignedTo_MD657-F44-2017.02.18-06.06.27_MD657_1_0130_cropped_down32/MD657-N48-2017.02.22-16.41.55_MD657_1_0142_alignedTo_MD657-F44-2017.02.18-06.06.27_MD657_1_0130_cropped_down32_outerContour_denseScoreMap_setting_30.bp\n"
     ]
    },
    {
     "name": "stderr",
     "output_type": "stream",
     "text": [
      "Child returned 1\n",
      "0.34 seconds.\n",
      "Child returned 0\n"
     ]
    },
    {
     "name": "stdout",
     "output_type": "stream",
     "text": [
      "rm -rf /shared/CSHL_scoremaps_down32/MD657/MD657-N48-2017.02.22-16.41.55_MD657_2_0143_alignedTo_MD657-F44-2017.02.18-06.06.27_MD657_1_0130_cropped_down32/MD657-N48-2017.02.22-16.41.55_MD657_2_0143_alignedTo_MD657-F44-2017.02.18-06.06.27_MD657_1_0130_cropped_down32_outerContour_denseScoreMap_setting_30.bp && mkdir -p /shared/CSHL_scoremaps_down32/MD657/MD657-N48-2017.02.22-16.41.55_MD657_2_0143_alignedTo_MD657-F44-2017.02.18-06.06.27_MD657_1_0130_cropped_down32\n",
      "aws s3 cp s3://mousebrainatlas-data/CSHL_scoremaps_down32/MD657/MD657-N48-2017.02.22-16.41.55_MD657_2_0143_alignedTo_MD657-F44-2017.02.18-06.06.27_MD657_1_0130_cropped_down32/MD657-N48-2017.02.22-16.41.55_MD657_2_0143_alignedTo_MD657-F44-2017.02.18-06.06.27_MD657_1_0130_cropped_down32_outerContour_denseScoreMap_setting_30.bp /shared/CSHL_scoremaps_down32/MD657/MD657-N48-2017.02.22-16.41.55_MD657_2_0143_alignedTo_MD657-F44-2017.02.18-06.06.27_MD657_1_0130_cropped_down32/MD657-N48-2017.02.22-16.41.55_MD657_2_0143_alignedTo_MD657-F44-2017.02.18-06.06.27_MD657_1_0130_cropped_down32_outerContour_denseScoreMap_setting_30.bp\n"
     ]
    },
    {
     "name": "stderr",
     "output_type": "stream",
     "text": [
      "Child returned 1\n",
      "0.34 seconds.\n",
      "Child returned 0\n"
     ]
    },
    {
     "name": "stdout",
     "output_type": "stream",
     "text": [
      "rm -rf /shared/CSHL_scoremaps_down32/MD657/MD657-N49-2017.02.22-16.46.02_MD657_1_0145_alignedTo_MD657-F44-2017.02.18-06.06.27_MD657_1_0130_cropped_down32/MD657-N49-2017.02.22-16.46.02_MD657_1_0145_alignedTo_MD657-F44-2017.02.18-06.06.27_MD657_1_0130_cropped_down32_outerContour_denseScoreMap_setting_30.bp && mkdir -p /shared/CSHL_scoremaps_down32/MD657/MD657-N49-2017.02.22-16.46.02_MD657_1_0145_alignedTo_MD657-F44-2017.02.18-06.06.27_MD657_1_0130_cropped_down32\n",
      "aws s3 cp s3://mousebrainatlas-data/CSHL_scoremaps_down32/MD657/MD657-N49-2017.02.22-16.46.02_MD657_1_0145_alignedTo_MD657-F44-2017.02.18-06.06.27_MD657_1_0130_cropped_down32/MD657-N49-2017.02.22-16.46.02_MD657_1_0145_alignedTo_MD657-F44-2017.02.18-06.06.27_MD657_1_0130_cropped_down32_outerContour_denseScoreMap_setting_30.bp /shared/CSHL_scoremaps_down32/MD657/MD657-N49-2017.02.22-16.46.02_MD657_1_0145_alignedTo_MD657-F44-2017.02.18-06.06.27_MD657_1_0130_cropped_down32/MD657-N49-2017.02.22-16.46.02_MD657_1_0145_alignedTo_MD657-F44-2017.02.18-06.06.27_MD657_1_0130_cropped_down32_outerContour_denseScoreMap_setting_30.bp\n"
     ]
    },
    {
     "name": "stderr",
     "output_type": "stream",
     "text": [
      "Child returned 1\n",
      "0.35 seconds.\n",
      "Child returned 0\n"
     ]
    },
    {
     "name": "stdout",
     "output_type": "stream",
     "text": [
      "rm -rf /shared/CSHL_scoremaps_down32/MD657/MD657-N49-2017.02.22-16.46.02_MD657_2_0146_alignedTo_MD657-F44-2017.02.18-06.06.27_MD657_1_0130_cropped_down32/MD657-N49-2017.02.22-16.46.02_MD657_2_0146_alignedTo_MD657-F44-2017.02.18-06.06.27_MD657_1_0130_cropped_down32_outerContour_denseScoreMap_setting_30.bp && mkdir -p /shared/CSHL_scoremaps_down32/MD657/MD657-N49-2017.02.22-16.46.02_MD657_2_0146_alignedTo_MD657-F44-2017.02.18-06.06.27_MD657_1_0130_cropped_down32\n",
      "aws s3 cp s3://mousebrainatlas-data/CSHL_scoremaps_down32/MD657/MD657-N49-2017.02.22-16.46.02_MD657_2_0146_alignedTo_MD657-F44-2017.02.18-06.06.27_MD657_1_0130_cropped_down32/MD657-N49-2017.02.22-16.46.02_MD657_2_0146_alignedTo_MD657-F44-2017.02.18-06.06.27_MD657_1_0130_cropped_down32_outerContour_denseScoreMap_setting_30.bp /shared/CSHL_scoremaps_down32/MD657/MD657-N49-2017.02.22-16.46.02_MD657_2_0146_alignedTo_MD657-F44-2017.02.18-06.06.27_MD657_1_0130_cropped_down32/MD657-N49-2017.02.22-16.46.02_MD657_2_0146_alignedTo_MD657-F44-2017.02.18-06.06.27_MD657_1_0130_cropped_down32_outerContour_denseScoreMap_setting_30.bp\n"
     ]
    },
    {
     "name": "stderr",
     "output_type": "stream",
     "text": [
      "Child returned 1\n",
      "0.34 seconds.\n",
      "Child returned 0\n"
     ]
    },
    {
     "name": "stdout",
     "output_type": "stream",
     "text": [
      "rm -rf /shared/CSHL_scoremaps_down32/MD657/MD657-N50-2017.02.22-16.50.15_MD657_1_0148_alignedTo_MD657-F44-2017.02.18-06.06.27_MD657_1_0130_cropped_down32/MD657-N50-2017.02.22-16.50.15_MD657_1_0148_alignedTo_MD657-F44-2017.02.18-06.06.27_MD657_1_0130_cropped_down32_outerContour_denseScoreMap_setting_30.bp && mkdir -p /shared/CSHL_scoremaps_down32/MD657/MD657-N50-2017.02.22-16.50.15_MD657_1_0148_alignedTo_MD657-F44-2017.02.18-06.06.27_MD657_1_0130_cropped_down32\n",
      "aws s3 cp s3://mousebrainatlas-data/CSHL_scoremaps_down32/MD657/MD657-N50-2017.02.22-16.50.15_MD657_1_0148_alignedTo_MD657-F44-2017.02.18-06.06.27_MD657_1_0130_cropped_down32/MD657-N50-2017.02.22-16.50.15_MD657_1_0148_alignedTo_MD657-F44-2017.02.18-06.06.27_MD657_1_0130_cropped_down32_outerContour_denseScoreMap_setting_30.bp /shared/CSHL_scoremaps_down32/MD657/MD657-N50-2017.02.22-16.50.15_MD657_1_0148_alignedTo_MD657-F44-2017.02.18-06.06.27_MD657_1_0130_cropped_down32/MD657-N50-2017.02.22-16.50.15_MD657_1_0148_alignedTo_MD657-F44-2017.02.18-06.06.27_MD657_1_0130_cropped_down32_outerContour_denseScoreMap_setting_30.bp\n"
     ]
    },
    {
     "name": "stderr",
     "output_type": "stream",
     "text": [
      "Child returned 1\n",
      "0.35 seconds.\n",
      "Child returned 0\n"
     ]
    },
    {
     "name": "stdout",
     "output_type": "stream",
     "text": [
      "rm -rf /shared/CSHL_scoremaps_down32/MD657/MD657-N50-2017.02.22-16.50.15_MD657_2_0149_alignedTo_MD657-F44-2017.02.18-06.06.27_MD657_1_0130_cropped_down32/MD657-N50-2017.02.22-16.50.15_MD657_2_0149_alignedTo_MD657-F44-2017.02.18-06.06.27_MD657_1_0130_cropped_down32_outerContour_denseScoreMap_setting_30.bp && mkdir -p /shared/CSHL_scoremaps_down32/MD657/MD657-N50-2017.02.22-16.50.15_MD657_2_0149_alignedTo_MD657-F44-2017.02.18-06.06.27_MD657_1_0130_cropped_down32\n",
      "aws s3 cp s3://mousebrainatlas-data/CSHL_scoremaps_down32/MD657/MD657-N50-2017.02.22-16.50.15_MD657_2_0149_alignedTo_MD657-F44-2017.02.18-06.06.27_MD657_1_0130_cropped_down32/MD657-N50-2017.02.22-16.50.15_MD657_2_0149_alignedTo_MD657-F44-2017.02.18-06.06.27_MD657_1_0130_cropped_down32_outerContour_denseScoreMap_setting_30.bp /shared/CSHL_scoremaps_down32/MD657/MD657-N50-2017.02.22-16.50.15_MD657_2_0149_alignedTo_MD657-F44-2017.02.18-06.06.27_MD657_1_0130_cropped_down32/MD657-N50-2017.02.22-16.50.15_MD657_2_0149_alignedTo_MD657-F44-2017.02.18-06.06.27_MD657_1_0130_cropped_down32_outerContour_denseScoreMap_setting_30.bp\n"
     ]
    },
    {
     "name": "stderr",
     "output_type": "stream",
     "text": [
      "Child returned 1\n",
      "0.34 seconds.\n",
      "Child returned 0\n"
     ]
    },
    {
     "name": "stdout",
     "output_type": "stream",
     "text": [
      "rm -rf /shared/CSHL_scoremaps_down32/MD657/MD657-N51-2017.02.22-16.54.20_MD657_2_0152_alignedTo_MD657-F44-2017.02.18-06.06.27_MD657_1_0130_cropped_down32/MD657-N51-2017.02.22-16.54.20_MD657_2_0152_alignedTo_MD657-F44-2017.02.18-06.06.27_MD657_1_0130_cropped_down32_outerContour_denseScoreMap_setting_30.bp && mkdir -p /shared/CSHL_scoremaps_down32/MD657/MD657-N51-2017.02.22-16.54.20_MD657_2_0152_alignedTo_MD657-F44-2017.02.18-06.06.27_MD657_1_0130_cropped_down32\n",
      "aws s3 cp s3://mousebrainatlas-data/CSHL_scoremaps_down32/MD657/MD657-N51-2017.02.22-16.54.20_MD657_2_0152_alignedTo_MD657-F44-2017.02.18-06.06.27_MD657_1_0130_cropped_down32/MD657-N51-2017.02.22-16.54.20_MD657_2_0152_alignedTo_MD657-F44-2017.02.18-06.06.27_MD657_1_0130_cropped_down32_outerContour_denseScoreMap_setting_30.bp /shared/CSHL_scoremaps_down32/MD657/MD657-N51-2017.02.22-16.54.20_MD657_2_0152_alignedTo_MD657-F44-2017.02.18-06.06.27_MD657_1_0130_cropped_down32/MD657-N51-2017.02.22-16.54.20_MD657_2_0152_alignedTo_MD657-F44-2017.02.18-06.06.27_MD657_1_0130_cropped_down32_outerContour_denseScoreMap_setting_30.bp\n"
     ]
    },
    {
     "name": "stderr",
     "output_type": "stream",
     "text": [
      "Child returned 1\n",
      "0.37 seconds.\n",
      "Child returned 0\n"
     ]
    },
    {
     "name": "stdout",
     "output_type": "stream",
     "text": [
      "rm -rf /shared/CSHL_scoremaps_down32/MD657/MD657-N52-2017.02.22-16.58.50_MD657_1_0154_alignedTo_MD657-F44-2017.02.18-06.06.27_MD657_1_0130_cropped_down32/MD657-N52-2017.02.22-16.58.50_MD657_1_0154_alignedTo_MD657-F44-2017.02.18-06.06.27_MD657_1_0130_cropped_down32_outerContour_denseScoreMap_setting_30.bp && mkdir -p /shared/CSHL_scoremaps_down32/MD657/MD657-N52-2017.02.22-16.58.50_MD657_1_0154_alignedTo_MD657-F44-2017.02.18-06.06.27_MD657_1_0130_cropped_down32\n",
      "aws s3 cp s3://mousebrainatlas-data/CSHL_scoremaps_down32/MD657/MD657-N52-2017.02.22-16.58.50_MD657_1_0154_alignedTo_MD657-F44-2017.02.18-06.06.27_MD657_1_0130_cropped_down32/MD657-N52-2017.02.22-16.58.50_MD657_1_0154_alignedTo_MD657-F44-2017.02.18-06.06.27_MD657_1_0130_cropped_down32_outerContour_denseScoreMap_setting_30.bp /shared/CSHL_scoremaps_down32/MD657/MD657-N52-2017.02.22-16.58.50_MD657_1_0154_alignedTo_MD657-F44-2017.02.18-06.06.27_MD657_1_0130_cropped_down32/MD657-N52-2017.02.22-16.58.50_MD657_1_0154_alignedTo_MD657-F44-2017.02.18-06.06.27_MD657_1_0130_cropped_down32_outerContour_denseScoreMap_setting_30.bp\n"
     ]
    },
    {
     "name": "stderr",
     "output_type": "stream",
     "text": [
      "Child returned 1\n",
      "0.34 seconds.\n",
      "Child returned 0\n"
     ]
    },
    {
     "name": "stdout",
     "output_type": "stream",
     "text": [
      "rm -rf /shared/CSHL_scoremaps_down32/MD657/MD657-N52-2017.02.22-16.58.50_MD657_2_0155_alignedTo_MD657-F44-2017.02.18-06.06.27_MD657_1_0130_cropped_down32/MD657-N52-2017.02.22-16.58.50_MD657_2_0155_alignedTo_MD657-F44-2017.02.18-06.06.27_MD657_1_0130_cropped_down32_outerContour_denseScoreMap_setting_30.bp && mkdir -p /shared/CSHL_scoremaps_down32/MD657/MD657-N52-2017.02.22-16.58.50_MD657_2_0155_alignedTo_MD657-F44-2017.02.18-06.06.27_MD657_1_0130_cropped_down32\n",
      "aws s3 cp s3://mousebrainatlas-data/CSHL_scoremaps_down32/MD657/MD657-N52-2017.02.22-16.58.50_MD657_2_0155_alignedTo_MD657-F44-2017.02.18-06.06.27_MD657_1_0130_cropped_down32/MD657-N52-2017.02.22-16.58.50_MD657_2_0155_alignedTo_MD657-F44-2017.02.18-06.06.27_MD657_1_0130_cropped_down32_outerContour_denseScoreMap_setting_30.bp /shared/CSHL_scoremaps_down32/MD657/MD657-N52-2017.02.22-16.58.50_MD657_2_0155_alignedTo_MD657-F44-2017.02.18-06.06.27_MD657_1_0130_cropped_down32/MD657-N52-2017.02.22-16.58.50_MD657_2_0155_alignedTo_MD657-F44-2017.02.18-06.06.27_MD657_1_0130_cropped_down32_outerContour_denseScoreMap_setting_30.bp\n"
     ]
    },
    {
     "name": "stderr",
     "output_type": "stream",
     "text": [
      "Child returned 1\n",
      "0.35 seconds.\n",
      "Child returned 0\n"
     ]
    },
    {
     "name": "stdout",
     "output_type": "stream",
     "text": [
      "rm -rf /shared/CSHL_scoremaps_down32/MD657/MD657-N53-2017.02.22-17.02.55_MD657_1_0157_alignedTo_MD657-F44-2017.02.18-06.06.27_MD657_1_0130_cropped_down32/MD657-N53-2017.02.22-17.02.55_MD657_1_0157_alignedTo_MD657-F44-2017.02.18-06.06.27_MD657_1_0130_cropped_down32_outerContour_denseScoreMap_setting_30.bp && mkdir -p /shared/CSHL_scoremaps_down32/MD657/MD657-N53-2017.02.22-17.02.55_MD657_1_0157_alignedTo_MD657-F44-2017.02.18-06.06.27_MD657_1_0130_cropped_down32\n",
      "aws s3 cp s3://mousebrainatlas-data/CSHL_scoremaps_down32/MD657/MD657-N53-2017.02.22-17.02.55_MD657_1_0157_alignedTo_MD657-F44-2017.02.18-06.06.27_MD657_1_0130_cropped_down32/MD657-N53-2017.02.22-17.02.55_MD657_1_0157_alignedTo_MD657-F44-2017.02.18-06.06.27_MD657_1_0130_cropped_down32_outerContour_denseScoreMap_setting_30.bp /shared/CSHL_scoremaps_down32/MD657/MD657-N53-2017.02.22-17.02.55_MD657_1_0157_alignedTo_MD657-F44-2017.02.18-06.06.27_MD657_1_0130_cropped_down32/MD657-N53-2017.02.22-17.02.55_MD657_1_0157_alignedTo_MD657-F44-2017.02.18-06.06.27_MD657_1_0130_cropped_down32_outerContour_denseScoreMap_setting_30.bp\n"
     ]
    },
    {
     "name": "stderr",
     "output_type": "stream",
     "text": [
      "Child returned 1\n",
      "0.33 seconds.\n",
      "Child returned 0\n"
     ]
    },
    {
     "name": "stdout",
     "output_type": "stream",
     "text": [
      "rm -rf /shared/CSHL_scoremaps_down32/MD657/MD657-N53-2017.02.22-17.02.55_MD657_2_0158_alignedTo_MD657-F44-2017.02.18-06.06.27_MD657_1_0130_cropped_down32/MD657-N53-2017.02.22-17.02.55_MD657_2_0158_alignedTo_MD657-F44-2017.02.18-06.06.27_MD657_1_0130_cropped_down32_outerContour_denseScoreMap_setting_30.bp && mkdir -p /shared/CSHL_scoremaps_down32/MD657/MD657-N53-2017.02.22-17.02.55_MD657_2_0158_alignedTo_MD657-F44-2017.02.18-06.06.27_MD657_1_0130_cropped_down32\n",
      "aws s3 cp s3://mousebrainatlas-data/CSHL_scoremaps_down32/MD657/MD657-N53-2017.02.22-17.02.55_MD657_2_0158_alignedTo_MD657-F44-2017.02.18-06.06.27_MD657_1_0130_cropped_down32/MD657-N53-2017.02.22-17.02.55_MD657_2_0158_alignedTo_MD657-F44-2017.02.18-06.06.27_MD657_1_0130_cropped_down32_outerContour_denseScoreMap_setting_30.bp /shared/CSHL_scoremaps_down32/MD657/MD657-N53-2017.02.22-17.02.55_MD657_2_0158_alignedTo_MD657-F44-2017.02.18-06.06.27_MD657_1_0130_cropped_down32/MD657-N53-2017.02.22-17.02.55_MD657_2_0158_alignedTo_MD657-F44-2017.02.18-06.06.27_MD657_1_0130_cropped_down32_outerContour_denseScoreMap_setting_30.bp\n"
     ]
    },
    {
     "name": "stderr",
     "output_type": "stream",
     "text": [
      "Child returned 1\n",
      "0.33 seconds.\n",
      "Child returned 0\n"
     ]
    },
    {
     "name": "stdout",
     "output_type": "stream",
     "text": [
      "rm -rf /shared/CSHL_scoremaps_down32/MD657/MD657-N54-2017.02.22-17.07.22_MD657_1_0160_alignedTo_MD657-F44-2017.02.18-06.06.27_MD657_1_0130_cropped_down32/MD657-N54-2017.02.22-17.07.22_MD657_1_0160_alignedTo_MD657-F44-2017.02.18-06.06.27_MD657_1_0130_cropped_down32_outerContour_denseScoreMap_setting_30.bp && mkdir -p /shared/CSHL_scoremaps_down32/MD657/MD657-N54-2017.02.22-17.07.22_MD657_1_0160_alignedTo_MD657-F44-2017.02.18-06.06.27_MD657_1_0130_cropped_down32\n",
      "aws s3 cp s3://mousebrainatlas-data/CSHL_scoremaps_down32/MD657/MD657-N54-2017.02.22-17.07.22_MD657_1_0160_alignedTo_MD657-F44-2017.02.18-06.06.27_MD657_1_0130_cropped_down32/MD657-N54-2017.02.22-17.07.22_MD657_1_0160_alignedTo_MD657-F44-2017.02.18-06.06.27_MD657_1_0130_cropped_down32_outerContour_denseScoreMap_setting_30.bp /shared/CSHL_scoremaps_down32/MD657/MD657-N54-2017.02.22-17.07.22_MD657_1_0160_alignedTo_MD657-F44-2017.02.18-06.06.27_MD657_1_0130_cropped_down32/MD657-N54-2017.02.22-17.07.22_MD657_1_0160_alignedTo_MD657-F44-2017.02.18-06.06.27_MD657_1_0130_cropped_down32_outerContour_denseScoreMap_setting_30.bp\n"
     ]
    },
    {
     "name": "stderr",
     "output_type": "stream",
     "text": [
      "Child returned 1\n",
      "0.36 seconds.\n",
      "Child returned 0\n"
     ]
    },
    {
     "name": "stdout",
     "output_type": "stream",
     "text": [
      "rm -rf /shared/CSHL_scoremaps_down32/MD657/MD657-N54-2017.02.22-17.07.22_MD657_2_0161_alignedTo_MD657-F44-2017.02.18-06.06.27_MD657_1_0130_cropped_down32/MD657-N54-2017.02.22-17.07.22_MD657_2_0161_alignedTo_MD657-F44-2017.02.18-06.06.27_MD657_1_0130_cropped_down32_outerContour_denseScoreMap_setting_30.bp && mkdir -p /shared/CSHL_scoremaps_down32/MD657/MD657-N54-2017.02.22-17.07.22_MD657_2_0161_alignedTo_MD657-F44-2017.02.18-06.06.27_MD657_1_0130_cropped_down32\n",
      "aws s3 cp s3://mousebrainatlas-data/CSHL_scoremaps_down32/MD657/MD657-N54-2017.02.22-17.07.22_MD657_2_0161_alignedTo_MD657-F44-2017.02.18-06.06.27_MD657_1_0130_cropped_down32/MD657-N54-2017.02.22-17.07.22_MD657_2_0161_alignedTo_MD657-F44-2017.02.18-06.06.27_MD657_1_0130_cropped_down32_outerContour_denseScoreMap_setting_30.bp /shared/CSHL_scoremaps_down32/MD657/MD657-N54-2017.02.22-17.07.22_MD657_2_0161_alignedTo_MD657-F44-2017.02.18-06.06.27_MD657_1_0130_cropped_down32/MD657-N54-2017.02.22-17.07.22_MD657_2_0161_alignedTo_MD657-F44-2017.02.18-06.06.27_MD657_1_0130_cropped_down32_outerContour_denseScoreMap_setting_30.bp\n"
     ]
    },
    {
     "name": "stderr",
     "output_type": "stream",
     "text": [
      "Child returned 1\n",
      "0.34 seconds.\n",
      "Child returned 0\n"
     ]
    },
    {
     "name": "stdout",
     "output_type": "stream",
     "text": [
      "rm -rf /shared/CSHL_scoremaps_down32/MD657/MD657-N55-2017.02.22-17.12.27_MD657_1_0163_alignedTo_MD657-F44-2017.02.18-06.06.27_MD657_1_0130_cropped_down32/MD657-N55-2017.02.22-17.12.27_MD657_1_0163_alignedTo_MD657-F44-2017.02.18-06.06.27_MD657_1_0130_cropped_down32_outerContour_denseScoreMap_setting_30.bp && mkdir -p /shared/CSHL_scoremaps_down32/MD657/MD657-N55-2017.02.22-17.12.27_MD657_1_0163_alignedTo_MD657-F44-2017.02.18-06.06.27_MD657_1_0130_cropped_down32\n",
      "aws s3 cp s3://mousebrainatlas-data/CSHL_scoremaps_down32/MD657/MD657-N55-2017.02.22-17.12.27_MD657_1_0163_alignedTo_MD657-F44-2017.02.18-06.06.27_MD657_1_0130_cropped_down32/MD657-N55-2017.02.22-17.12.27_MD657_1_0163_alignedTo_MD657-F44-2017.02.18-06.06.27_MD657_1_0130_cropped_down32_outerContour_denseScoreMap_setting_30.bp /shared/CSHL_scoremaps_down32/MD657/MD657-N55-2017.02.22-17.12.27_MD657_1_0163_alignedTo_MD657-F44-2017.02.18-06.06.27_MD657_1_0130_cropped_down32/MD657-N55-2017.02.22-17.12.27_MD657_1_0163_alignedTo_MD657-F44-2017.02.18-06.06.27_MD657_1_0130_cropped_down32_outerContour_denseScoreMap_setting_30.bp\n"
     ]
    },
    {
     "name": "stderr",
     "output_type": "stream",
     "text": [
      "Child returned 1\n",
      "0.33 seconds.\n",
      "Child returned 0\n"
     ]
    },
    {
     "name": "stdout",
     "output_type": "stream",
     "text": [
      "rm -rf /shared/CSHL_scoremaps_down32/MD657/MD657-N55-2017.02.22-17.12.27_MD657_2_0164_alignedTo_MD657-F44-2017.02.18-06.06.27_MD657_1_0130_cropped_down32/MD657-N55-2017.02.22-17.12.27_MD657_2_0164_alignedTo_MD657-F44-2017.02.18-06.06.27_MD657_1_0130_cropped_down32_outerContour_denseScoreMap_setting_30.bp && mkdir -p /shared/CSHL_scoremaps_down32/MD657/MD657-N55-2017.02.22-17.12.27_MD657_2_0164_alignedTo_MD657-F44-2017.02.18-06.06.27_MD657_1_0130_cropped_down32\n",
      "aws s3 cp s3://mousebrainatlas-data/CSHL_scoremaps_down32/MD657/MD657-N55-2017.02.22-17.12.27_MD657_2_0164_alignedTo_MD657-F44-2017.02.18-06.06.27_MD657_1_0130_cropped_down32/MD657-N55-2017.02.22-17.12.27_MD657_2_0164_alignedTo_MD657-F44-2017.02.18-06.06.27_MD657_1_0130_cropped_down32_outerContour_denseScoreMap_setting_30.bp /shared/CSHL_scoremaps_down32/MD657/MD657-N55-2017.02.22-17.12.27_MD657_2_0164_alignedTo_MD657-F44-2017.02.18-06.06.27_MD657_1_0130_cropped_down32/MD657-N55-2017.02.22-17.12.27_MD657_2_0164_alignedTo_MD657-F44-2017.02.18-06.06.27_MD657_1_0130_cropped_down32_outerContour_denseScoreMap_setting_30.bp\n"
     ]
    },
    {
     "name": "stderr",
     "output_type": "stream",
     "text": [
      "Child returned 1\n",
      "0.34 seconds.\n",
      "Child returned 0\n"
     ]
    },
    {
     "name": "stdout",
     "output_type": "stream",
     "text": [
      "rm -rf /shared/CSHL_scoremaps_down32/MD657/MD657-N56-2017.02.22-17.16.39_MD657_1_0166_alignedTo_MD657-F44-2017.02.18-06.06.27_MD657_1_0130_cropped_down32/MD657-N56-2017.02.22-17.16.39_MD657_1_0166_alignedTo_MD657-F44-2017.02.18-06.06.27_MD657_1_0130_cropped_down32_outerContour_denseScoreMap_setting_30.bp && mkdir -p /shared/CSHL_scoremaps_down32/MD657/MD657-N56-2017.02.22-17.16.39_MD657_1_0166_alignedTo_MD657-F44-2017.02.18-06.06.27_MD657_1_0130_cropped_down32\n",
      "aws s3 cp s3://mousebrainatlas-data/CSHL_scoremaps_down32/MD657/MD657-N56-2017.02.22-17.16.39_MD657_1_0166_alignedTo_MD657-F44-2017.02.18-06.06.27_MD657_1_0130_cropped_down32/MD657-N56-2017.02.22-17.16.39_MD657_1_0166_alignedTo_MD657-F44-2017.02.18-06.06.27_MD657_1_0130_cropped_down32_outerContour_denseScoreMap_setting_30.bp /shared/CSHL_scoremaps_down32/MD657/MD657-N56-2017.02.22-17.16.39_MD657_1_0166_alignedTo_MD657-F44-2017.02.18-06.06.27_MD657_1_0130_cropped_down32/MD657-N56-2017.02.22-17.16.39_MD657_1_0166_alignedTo_MD657-F44-2017.02.18-06.06.27_MD657_1_0130_cropped_down32_outerContour_denseScoreMap_setting_30.bp\n"
     ]
    },
    {
     "name": "stderr",
     "output_type": "stream",
     "text": [
      "Child returned 1\n",
      "0.33 seconds.\n",
      "Child returned 0\n"
     ]
    },
    {
     "name": "stdout",
     "output_type": "stream",
     "text": [
      "rm -rf /shared/CSHL_scoremaps_down32/MD657/MD657-N56-2017.02.22-17.16.39_MD657_2_0167_alignedTo_MD657-F44-2017.02.18-06.06.27_MD657_1_0130_cropped_down32/MD657-N56-2017.02.22-17.16.39_MD657_2_0167_alignedTo_MD657-F44-2017.02.18-06.06.27_MD657_1_0130_cropped_down32_outerContour_denseScoreMap_setting_30.bp && mkdir -p /shared/CSHL_scoremaps_down32/MD657/MD657-N56-2017.02.22-17.16.39_MD657_2_0167_alignedTo_MD657-F44-2017.02.18-06.06.27_MD657_1_0130_cropped_down32\n",
      "aws s3 cp s3://mousebrainatlas-data/CSHL_scoremaps_down32/MD657/MD657-N56-2017.02.22-17.16.39_MD657_2_0167_alignedTo_MD657-F44-2017.02.18-06.06.27_MD657_1_0130_cropped_down32/MD657-N56-2017.02.22-17.16.39_MD657_2_0167_alignedTo_MD657-F44-2017.02.18-06.06.27_MD657_1_0130_cropped_down32_outerContour_denseScoreMap_setting_30.bp /shared/CSHL_scoremaps_down32/MD657/MD657-N56-2017.02.22-17.16.39_MD657_2_0167_alignedTo_MD657-F44-2017.02.18-06.06.27_MD657_1_0130_cropped_down32/MD657-N56-2017.02.22-17.16.39_MD657_2_0167_alignedTo_MD657-F44-2017.02.18-06.06.27_MD657_1_0130_cropped_down32_outerContour_denseScoreMap_setting_30.bp\n"
     ]
    },
    {
     "name": "stderr",
     "output_type": "stream",
     "text": [
      "Child returned 1\n",
      "0.33 seconds.\n",
      "Child returned 0\n"
     ]
    },
    {
     "name": "stdout",
     "output_type": "stream",
     "text": [
      "rm -rf /shared/CSHL_scoremaps_down32/MD657/MD657-N57-2017.02.22-17.20.44_MD657_1_0169_alignedTo_MD657-F44-2017.02.18-06.06.27_MD657_1_0130_cropped_down32/MD657-N57-2017.02.22-17.20.44_MD657_1_0169_alignedTo_MD657-F44-2017.02.18-06.06.27_MD657_1_0130_cropped_down32_outerContour_denseScoreMap_setting_30.bp && mkdir -p /shared/CSHL_scoremaps_down32/MD657/MD657-N57-2017.02.22-17.20.44_MD657_1_0169_alignedTo_MD657-F44-2017.02.18-06.06.27_MD657_1_0130_cropped_down32\n",
      "aws s3 cp s3://mousebrainatlas-data/CSHL_scoremaps_down32/MD657/MD657-N57-2017.02.22-17.20.44_MD657_1_0169_alignedTo_MD657-F44-2017.02.18-06.06.27_MD657_1_0130_cropped_down32/MD657-N57-2017.02.22-17.20.44_MD657_1_0169_alignedTo_MD657-F44-2017.02.18-06.06.27_MD657_1_0130_cropped_down32_outerContour_denseScoreMap_setting_30.bp /shared/CSHL_scoremaps_down32/MD657/MD657-N57-2017.02.22-17.20.44_MD657_1_0169_alignedTo_MD657-F44-2017.02.18-06.06.27_MD657_1_0130_cropped_down32/MD657-N57-2017.02.22-17.20.44_MD657_1_0169_alignedTo_MD657-F44-2017.02.18-06.06.27_MD657_1_0130_cropped_down32_outerContour_denseScoreMap_setting_30.bp\n"
     ]
    },
    {
     "name": "stderr",
     "output_type": "stream",
     "text": [
      "Child returned 1\n",
      "0.34 seconds.\n",
      "Child returned 0\n"
     ]
    },
    {
     "name": "stdout",
     "output_type": "stream",
     "text": [
      "rm -rf /shared/CSHL_scoremaps_down32/MD657/MD657-N57-2017.02.22-17.20.44_MD657_2_0170_alignedTo_MD657-F44-2017.02.18-06.06.27_MD657_1_0130_cropped_down32/MD657-N57-2017.02.22-17.20.44_MD657_2_0170_alignedTo_MD657-F44-2017.02.18-06.06.27_MD657_1_0130_cropped_down32_outerContour_denseScoreMap_setting_30.bp && mkdir -p /shared/CSHL_scoremaps_down32/MD657/MD657-N57-2017.02.22-17.20.44_MD657_2_0170_alignedTo_MD657-F44-2017.02.18-06.06.27_MD657_1_0130_cropped_down32\n",
      "aws s3 cp s3://mousebrainatlas-data/CSHL_scoremaps_down32/MD657/MD657-N57-2017.02.22-17.20.44_MD657_2_0170_alignedTo_MD657-F44-2017.02.18-06.06.27_MD657_1_0130_cropped_down32/MD657-N57-2017.02.22-17.20.44_MD657_2_0170_alignedTo_MD657-F44-2017.02.18-06.06.27_MD657_1_0130_cropped_down32_outerContour_denseScoreMap_setting_30.bp /shared/CSHL_scoremaps_down32/MD657/MD657-N57-2017.02.22-17.20.44_MD657_2_0170_alignedTo_MD657-F44-2017.02.18-06.06.27_MD657_1_0130_cropped_down32/MD657-N57-2017.02.22-17.20.44_MD657_2_0170_alignedTo_MD657-F44-2017.02.18-06.06.27_MD657_1_0130_cropped_down32_outerContour_denseScoreMap_setting_30.bp\n"
     ]
    },
    {
     "name": "stderr",
     "output_type": "stream",
     "text": [
      "Child returned 1\n",
      "0.33 seconds.\n",
      "Child returned 0\n"
     ]
    },
    {
     "name": "stdout",
     "output_type": "stream",
     "text": [
      "rm -rf /shared/CSHL_scoremaps_down32/MD657/MD657-N58-2017.02.22-17.24.45_MD657_1_0172_alignedTo_MD657-F44-2017.02.18-06.06.27_MD657_1_0130_cropped_down32/MD657-N58-2017.02.22-17.24.45_MD657_1_0172_alignedTo_MD657-F44-2017.02.18-06.06.27_MD657_1_0130_cropped_down32_outerContour_denseScoreMap_setting_30.bp && mkdir -p /shared/CSHL_scoremaps_down32/MD657/MD657-N58-2017.02.22-17.24.45_MD657_1_0172_alignedTo_MD657-F44-2017.02.18-06.06.27_MD657_1_0130_cropped_down32\n",
      "aws s3 cp s3://mousebrainatlas-data/CSHL_scoremaps_down32/MD657/MD657-N58-2017.02.22-17.24.45_MD657_1_0172_alignedTo_MD657-F44-2017.02.18-06.06.27_MD657_1_0130_cropped_down32/MD657-N58-2017.02.22-17.24.45_MD657_1_0172_alignedTo_MD657-F44-2017.02.18-06.06.27_MD657_1_0130_cropped_down32_outerContour_denseScoreMap_setting_30.bp /shared/CSHL_scoremaps_down32/MD657/MD657-N58-2017.02.22-17.24.45_MD657_1_0172_alignedTo_MD657-F44-2017.02.18-06.06.27_MD657_1_0130_cropped_down32/MD657-N58-2017.02.22-17.24.45_MD657_1_0172_alignedTo_MD657-F44-2017.02.18-06.06.27_MD657_1_0130_cropped_down32_outerContour_denseScoreMap_setting_30.bp\n"
     ]
    },
    {
     "name": "stderr",
     "output_type": "stream",
     "text": [
      "Child returned 1\n",
      "0.34 seconds.\n",
      "Child returned 0\n"
     ]
    },
    {
     "name": "stdout",
     "output_type": "stream",
     "text": [
      "rm -rf /shared/CSHL_scoremaps_down32/MD657/MD657-N58-2017.02.22-17.24.45_MD657_2_0173_alignedTo_MD657-F44-2017.02.18-06.06.27_MD657_1_0130_cropped_down32/MD657-N58-2017.02.22-17.24.45_MD657_2_0173_alignedTo_MD657-F44-2017.02.18-06.06.27_MD657_1_0130_cropped_down32_outerContour_denseScoreMap_setting_30.bp && mkdir -p /shared/CSHL_scoremaps_down32/MD657/MD657-N58-2017.02.22-17.24.45_MD657_2_0173_alignedTo_MD657-F44-2017.02.18-06.06.27_MD657_1_0130_cropped_down32\n",
      "aws s3 cp s3://mousebrainatlas-data/CSHL_scoremaps_down32/MD657/MD657-N58-2017.02.22-17.24.45_MD657_2_0173_alignedTo_MD657-F44-2017.02.18-06.06.27_MD657_1_0130_cropped_down32/MD657-N58-2017.02.22-17.24.45_MD657_2_0173_alignedTo_MD657-F44-2017.02.18-06.06.27_MD657_1_0130_cropped_down32_outerContour_denseScoreMap_setting_30.bp /shared/CSHL_scoremaps_down32/MD657/MD657-N58-2017.02.22-17.24.45_MD657_2_0173_alignedTo_MD657-F44-2017.02.18-06.06.27_MD657_1_0130_cropped_down32/MD657-N58-2017.02.22-17.24.45_MD657_2_0173_alignedTo_MD657-F44-2017.02.18-06.06.27_MD657_1_0130_cropped_down32_outerContour_denseScoreMap_setting_30.bp\n"
     ]
    },
    {
     "name": "stderr",
     "output_type": "stream",
     "text": [
      "Child returned 1\n",
      "0.34 seconds.\n",
      "Child returned 0\n"
     ]
    },
    {
     "name": "stdout",
     "output_type": "stream",
     "text": [
      "rm -rf /shared/CSHL_scoremaps_down32/MD657/MD657-N59-2017.02.22-17.28.52_MD657_1_0175_alignedTo_MD657-F44-2017.02.18-06.06.27_MD657_1_0130_cropped_down32/MD657-N59-2017.02.22-17.28.52_MD657_1_0175_alignedTo_MD657-F44-2017.02.18-06.06.27_MD657_1_0130_cropped_down32_outerContour_denseScoreMap_setting_30.bp && mkdir -p /shared/CSHL_scoremaps_down32/MD657/MD657-N59-2017.02.22-17.28.52_MD657_1_0175_alignedTo_MD657-F44-2017.02.18-06.06.27_MD657_1_0130_cropped_down32\n",
      "aws s3 cp s3://mousebrainatlas-data/CSHL_scoremaps_down32/MD657/MD657-N59-2017.02.22-17.28.52_MD657_1_0175_alignedTo_MD657-F44-2017.02.18-06.06.27_MD657_1_0130_cropped_down32/MD657-N59-2017.02.22-17.28.52_MD657_1_0175_alignedTo_MD657-F44-2017.02.18-06.06.27_MD657_1_0130_cropped_down32_outerContour_denseScoreMap_setting_30.bp /shared/CSHL_scoremaps_down32/MD657/MD657-N59-2017.02.22-17.28.52_MD657_1_0175_alignedTo_MD657-F44-2017.02.18-06.06.27_MD657_1_0130_cropped_down32/MD657-N59-2017.02.22-17.28.52_MD657_1_0175_alignedTo_MD657-F44-2017.02.18-06.06.27_MD657_1_0130_cropped_down32_outerContour_denseScoreMap_setting_30.bp\n"
     ]
    },
    {
     "name": "stderr",
     "output_type": "stream",
     "text": [
      "Child returned 1\n",
      "0.33 seconds.\n",
      "Child returned 0\n"
     ]
    },
    {
     "name": "stdout",
     "output_type": "stream",
     "text": [
      "rm -rf /shared/CSHL_scoremaps_down32/MD657/MD657-N59-2017.02.22-17.28.52_MD657_2_0176_alignedTo_MD657-F44-2017.02.18-06.06.27_MD657_1_0130_cropped_down32/MD657-N59-2017.02.22-17.28.52_MD657_2_0176_alignedTo_MD657-F44-2017.02.18-06.06.27_MD657_1_0130_cropped_down32_outerContour_denseScoreMap_setting_30.bp && mkdir -p /shared/CSHL_scoremaps_down32/MD657/MD657-N59-2017.02.22-17.28.52_MD657_2_0176_alignedTo_MD657-F44-2017.02.18-06.06.27_MD657_1_0130_cropped_down32\n",
      "aws s3 cp s3://mousebrainatlas-data/CSHL_scoremaps_down32/MD657/MD657-N59-2017.02.22-17.28.52_MD657_2_0176_alignedTo_MD657-F44-2017.02.18-06.06.27_MD657_1_0130_cropped_down32/MD657-N59-2017.02.22-17.28.52_MD657_2_0176_alignedTo_MD657-F44-2017.02.18-06.06.27_MD657_1_0130_cropped_down32_outerContour_denseScoreMap_setting_30.bp /shared/CSHL_scoremaps_down32/MD657/MD657-N59-2017.02.22-17.28.52_MD657_2_0176_alignedTo_MD657-F44-2017.02.18-06.06.27_MD657_1_0130_cropped_down32/MD657-N59-2017.02.22-17.28.52_MD657_2_0176_alignedTo_MD657-F44-2017.02.18-06.06.27_MD657_1_0130_cropped_down32_outerContour_denseScoreMap_setting_30.bp\n"
     ]
    },
    {
     "name": "stderr",
     "output_type": "stream",
     "text": [
      "Child returned 1\n",
      "0.33 seconds.\n",
      "Child returned 0\n"
     ]
    },
    {
     "name": "stdout",
     "output_type": "stream",
     "text": [
      "rm -rf /shared/CSHL_scoremaps_down32/MD657/MD657-N60-2017.02.22-17.32.54_MD657_1_0178_alignedTo_MD657-F44-2017.02.18-06.06.27_MD657_1_0130_cropped_down32/MD657-N60-2017.02.22-17.32.54_MD657_1_0178_alignedTo_MD657-F44-2017.02.18-06.06.27_MD657_1_0130_cropped_down32_outerContour_denseScoreMap_setting_30.bp && mkdir -p /shared/CSHL_scoremaps_down32/MD657/MD657-N60-2017.02.22-17.32.54_MD657_1_0178_alignedTo_MD657-F44-2017.02.18-06.06.27_MD657_1_0130_cropped_down32\n",
      "aws s3 cp s3://mousebrainatlas-data/CSHL_scoremaps_down32/MD657/MD657-N60-2017.02.22-17.32.54_MD657_1_0178_alignedTo_MD657-F44-2017.02.18-06.06.27_MD657_1_0130_cropped_down32/MD657-N60-2017.02.22-17.32.54_MD657_1_0178_alignedTo_MD657-F44-2017.02.18-06.06.27_MD657_1_0130_cropped_down32_outerContour_denseScoreMap_setting_30.bp /shared/CSHL_scoremaps_down32/MD657/MD657-N60-2017.02.22-17.32.54_MD657_1_0178_alignedTo_MD657-F44-2017.02.18-06.06.27_MD657_1_0130_cropped_down32/MD657-N60-2017.02.22-17.32.54_MD657_1_0178_alignedTo_MD657-F44-2017.02.18-06.06.27_MD657_1_0130_cropped_down32_outerContour_denseScoreMap_setting_30.bp\n"
     ]
    },
    {
     "name": "stderr",
     "output_type": "stream",
     "text": [
      "Child returned 1\n",
      "0.33 seconds.\n",
      "Child returned 0\n"
     ]
    },
    {
     "name": "stdout",
     "output_type": "stream",
     "text": [
      "rm -rf /shared/CSHL_scoremaps_down32/MD657/MD657-N60-2017.02.22-17.32.54_MD657_2_0179_alignedTo_MD657-F44-2017.02.18-06.06.27_MD657_1_0130_cropped_down32/MD657-N60-2017.02.22-17.32.54_MD657_2_0179_alignedTo_MD657-F44-2017.02.18-06.06.27_MD657_1_0130_cropped_down32_outerContour_denseScoreMap_setting_30.bp && mkdir -p /shared/CSHL_scoremaps_down32/MD657/MD657-N60-2017.02.22-17.32.54_MD657_2_0179_alignedTo_MD657-F44-2017.02.18-06.06.27_MD657_1_0130_cropped_down32\n",
      "aws s3 cp s3://mousebrainatlas-data/CSHL_scoremaps_down32/MD657/MD657-N60-2017.02.22-17.32.54_MD657_2_0179_alignedTo_MD657-F44-2017.02.18-06.06.27_MD657_1_0130_cropped_down32/MD657-N60-2017.02.22-17.32.54_MD657_2_0179_alignedTo_MD657-F44-2017.02.18-06.06.27_MD657_1_0130_cropped_down32_outerContour_denseScoreMap_setting_30.bp /shared/CSHL_scoremaps_down32/MD657/MD657-N60-2017.02.22-17.32.54_MD657_2_0179_alignedTo_MD657-F44-2017.02.18-06.06.27_MD657_1_0130_cropped_down32/MD657-N60-2017.02.22-17.32.54_MD657_2_0179_alignedTo_MD657-F44-2017.02.18-06.06.27_MD657_1_0130_cropped_down32_outerContour_denseScoreMap_setting_30.bp\n"
     ]
    },
    {
     "name": "stderr",
     "output_type": "stream",
     "text": [
      "Child returned 1\n",
      "0.32 seconds.\n",
      "Child returned 0\n"
     ]
    },
    {
     "name": "stdout",
     "output_type": "stream",
     "text": [
      "rm -rf /shared/CSHL_scoremaps_down32/MD657/MD657-N61-2017.03.21-13.54.42_MD657_2_0182_alignedTo_MD657-F44-2017.02.18-06.06.27_MD657_1_0130_cropped_down32/MD657-N61-2017.03.21-13.54.42_MD657_2_0182_alignedTo_MD657-F44-2017.02.18-06.06.27_MD657_1_0130_cropped_down32_outerContour_denseScoreMap_setting_30.bp && mkdir -p /shared/CSHL_scoremaps_down32/MD657/MD657-N61-2017.03.21-13.54.42_MD657_2_0182_alignedTo_MD657-F44-2017.02.18-06.06.27_MD657_1_0130_cropped_down32\n",
      "aws s3 cp s3://mousebrainatlas-data/CSHL_scoremaps_down32/MD657/MD657-N61-2017.03.21-13.54.42_MD657_2_0182_alignedTo_MD657-F44-2017.02.18-06.06.27_MD657_1_0130_cropped_down32/MD657-N61-2017.03.21-13.54.42_MD657_2_0182_alignedTo_MD657-F44-2017.02.18-06.06.27_MD657_1_0130_cropped_down32_outerContour_denseScoreMap_setting_30.bp /shared/CSHL_scoremaps_down32/MD657/MD657-N61-2017.03.21-13.54.42_MD657_2_0182_alignedTo_MD657-F44-2017.02.18-06.06.27_MD657_1_0130_cropped_down32/MD657-N61-2017.03.21-13.54.42_MD657_2_0182_alignedTo_MD657-F44-2017.02.18-06.06.27_MD657_1_0130_cropped_down32_outerContour_denseScoreMap_setting_30.bp\n"
     ]
    },
    {
     "name": "stderr",
     "output_type": "stream",
     "text": [
      "Child returned 1\n",
      "0.34 seconds.\n",
      "Child returned 0\n"
     ]
    },
    {
     "name": "stdout",
     "output_type": "stream",
     "text": [
      "rm -rf /shared/CSHL_scoremaps_down32/MD657/MD657-N62-2017.03.21-13.59.22_MD657_1_0184_alignedTo_MD657-F44-2017.02.18-06.06.27_MD657_1_0130_cropped_down32/MD657-N62-2017.03.21-13.59.22_MD657_1_0184_alignedTo_MD657-F44-2017.02.18-06.06.27_MD657_1_0130_cropped_down32_outerContour_denseScoreMap_setting_30.bp && mkdir -p /shared/CSHL_scoremaps_down32/MD657/MD657-N62-2017.03.21-13.59.22_MD657_1_0184_alignedTo_MD657-F44-2017.02.18-06.06.27_MD657_1_0130_cropped_down32\n",
      "aws s3 cp s3://mousebrainatlas-data/CSHL_scoremaps_down32/MD657/MD657-N62-2017.03.21-13.59.22_MD657_1_0184_alignedTo_MD657-F44-2017.02.18-06.06.27_MD657_1_0130_cropped_down32/MD657-N62-2017.03.21-13.59.22_MD657_1_0184_alignedTo_MD657-F44-2017.02.18-06.06.27_MD657_1_0130_cropped_down32_outerContour_denseScoreMap_setting_30.bp /shared/CSHL_scoremaps_down32/MD657/MD657-N62-2017.03.21-13.59.22_MD657_1_0184_alignedTo_MD657-F44-2017.02.18-06.06.27_MD657_1_0130_cropped_down32/MD657-N62-2017.03.21-13.59.22_MD657_1_0184_alignedTo_MD657-F44-2017.02.18-06.06.27_MD657_1_0130_cropped_down32_outerContour_denseScoreMap_setting_30.bp\n"
     ]
    },
    {
     "name": "stderr",
     "output_type": "stream",
     "text": [
      "Child returned 1\n",
      "0.35 seconds.\n",
      "Child returned 0\n"
     ]
    },
    {
     "name": "stdout",
     "output_type": "stream",
     "text": [
      "rm -rf /shared/CSHL_scoremaps_down32/MD657/MD657-N62-2017.03.21-13.59.22_MD657_2_0185_alignedTo_MD657-F44-2017.02.18-06.06.27_MD657_1_0130_cropped_down32/MD657-N62-2017.03.21-13.59.22_MD657_2_0185_alignedTo_MD657-F44-2017.02.18-06.06.27_MD657_1_0130_cropped_down32_outerContour_denseScoreMap_setting_30.bp && mkdir -p /shared/CSHL_scoremaps_down32/MD657/MD657-N62-2017.03.21-13.59.22_MD657_2_0185_alignedTo_MD657-F44-2017.02.18-06.06.27_MD657_1_0130_cropped_down32\n",
      "aws s3 cp s3://mousebrainatlas-data/CSHL_scoremaps_down32/MD657/MD657-N62-2017.03.21-13.59.22_MD657_2_0185_alignedTo_MD657-F44-2017.02.18-06.06.27_MD657_1_0130_cropped_down32/MD657-N62-2017.03.21-13.59.22_MD657_2_0185_alignedTo_MD657-F44-2017.02.18-06.06.27_MD657_1_0130_cropped_down32_outerContour_denseScoreMap_setting_30.bp /shared/CSHL_scoremaps_down32/MD657/MD657-N62-2017.03.21-13.59.22_MD657_2_0185_alignedTo_MD657-F44-2017.02.18-06.06.27_MD657_1_0130_cropped_down32/MD657-N62-2017.03.21-13.59.22_MD657_2_0185_alignedTo_MD657-F44-2017.02.18-06.06.27_MD657_1_0130_cropped_down32_outerContour_denseScoreMap_setting_30.bp\n"
     ]
    },
    {
     "name": "stderr",
     "output_type": "stream",
     "text": [
      "Child returned 1\n",
      "0.34 seconds.\n",
      "Child returned 0\n"
     ]
    },
    {
     "name": "stdout",
     "output_type": "stream",
     "text": [
      "rm -rf /shared/CSHL_scoremaps_down32/MD657/MD657-N63-2017.03.21-14.03.34_MD657_1_0187_alignedTo_MD657-F44-2017.02.18-06.06.27_MD657_1_0130_cropped_down32/MD657-N63-2017.03.21-14.03.34_MD657_1_0187_alignedTo_MD657-F44-2017.02.18-06.06.27_MD657_1_0130_cropped_down32_outerContour_denseScoreMap_setting_30.bp && mkdir -p /shared/CSHL_scoremaps_down32/MD657/MD657-N63-2017.03.21-14.03.34_MD657_1_0187_alignedTo_MD657-F44-2017.02.18-06.06.27_MD657_1_0130_cropped_down32\n",
      "aws s3 cp s3://mousebrainatlas-data/CSHL_scoremaps_down32/MD657/MD657-N63-2017.03.21-14.03.34_MD657_1_0187_alignedTo_MD657-F44-2017.02.18-06.06.27_MD657_1_0130_cropped_down32/MD657-N63-2017.03.21-14.03.34_MD657_1_0187_alignedTo_MD657-F44-2017.02.18-06.06.27_MD657_1_0130_cropped_down32_outerContour_denseScoreMap_setting_30.bp /shared/CSHL_scoremaps_down32/MD657/MD657-N63-2017.03.21-14.03.34_MD657_1_0187_alignedTo_MD657-F44-2017.02.18-06.06.27_MD657_1_0130_cropped_down32/MD657-N63-2017.03.21-14.03.34_MD657_1_0187_alignedTo_MD657-F44-2017.02.18-06.06.27_MD657_1_0130_cropped_down32_outerContour_denseScoreMap_setting_30.bp\n"
     ]
    },
    {
     "name": "stderr",
     "output_type": "stream",
     "text": [
      "Child returned 1\n",
      "0.33 seconds.\n",
      "Child returned 0\n"
     ]
    },
    {
     "name": "stdout",
     "output_type": "stream",
     "text": [
      "rm -rf /shared/CSHL_scoremaps_down32/MD657/MD657-N63-2017.03.21-14.03.34_MD657_2_0188_alignedTo_MD657-F44-2017.02.18-06.06.27_MD657_1_0130_cropped_down32/MD657-N63-2017.03.21-14.03.34_MD657_2_0188_alignedTo_MD657-F44-2017.02.18-06.06.27_MD657_1_0130_cropped_down32_outerContour_denseScoreMap_setting_30.bp && mkdir -p /shared/CSHL_scoremaps_down32/MD657/MD657-N63-2017.03.21-14.03.34_MD657_2_0188_alignedTo_MD657-F44-2017.02.18-06.06.27_MD657_1_0130_cropped_down32\n",
      "aws s3 cp s3://mousebrainatlas-data/CSHL_scoremaps_down32/MD657/MD657-N63-2017.03.21-14.03.34_MD657_2_0188_alignedTo_MD657-F44-2017.02.18-06.06.27_MD657_1_0130_cropped_down32/MD657-N63-2017.03.21-14.03.34_MD657_2_0188_alignedTo_MD657-F44-2017.02.18-06.06.27_MD657_1_0130_cropped_down32_outerContour_denseScoreMap_setting_30.bp /shared/CSHL_scoremaps_down32/MD657/MD657-N63-2017.03.21-14.03.34_MD657_2_0188_alignedTo_MD657-F44-2017.02.18-06.06.27_MD657_1_0130_cropped_down32/MD657-N63-2017.03.21-14.03.34_MD657_2_0188_alignedTo_MD657-F44-2017.02.18-06.06.27_MD657_1_0130_cropped_down32_outerContour_denseScoreMap_setting_30.bp\n"
     ]
    },
    {
     "name": "stderr",
     "output_type": "stream",
     "text": [
      "Child returned 1\n",
      "0.34 seconds.\n",
      "Child returned 0\n"
     ]
    },
    {
     "name": "stdout",
     "output_type": "stream",
     "text": [
      "rm -rf /shared/CSHL_scoremaps_down32/MD657/MD657-N64-2017.03.21-14.08.01_MD657_1_0190_alignedTo_MD657-F44-2017.02.18-06.06.27_MD657_1_0130_cropped_down32/MD657-N64-2017.03.21-14.08.01_MD657_1_0190_alignedTo_MD657-F44-2017.02.18-06.06.27_MD657_1_0130_cropped_down32_outerContour_denseScoreMap_setting_30.bp && mkdir -p /shared/CSHL_scoremaps_down32/MD657/MD657-N64-2017.03.21-14.08.01_MD657_1_0190_alignedTo_MD657-F44-2017.02.18-06.06.27_MD657_1_0130_cropped_down32\n",
      "aws s3 cp s3://mousebrainatlas-data/CSHL_scoremaps_down32/MD657/MD657-N64-2017.03.21-14.08.01_MD657_1_0190_alignedTo_MD657-F44-2017.02.18-06.06.27_MD657_1_0130_cropped_down32/MD657-N64-2017.03.21-14.08.01_MD657_1_0190_alignedTo_MD657-F44-2017.02.18-06.06.27_MD657_1_0130_cropped_down32_outerContour_denseScoreMap_setting_30.bp /shared/CSHL_scoremaps_down32/MD657/MD657-N64-2017.03.21-14.08.01_MD657_1_0190_alignedTo_MD657-F44-2017.02.18-06.06.27_MD657_1_0130_cropped_down32/MD657-N64-2017.03.21-14.08.01_MD657_1_0190_alignedTo_MD657-F44-2017.02.18-06.06.27_MD657_1_0130_cropped_down32_outerContour_denseScoreMap_setting_30.bp\n"
     ]
    },
    {
     "name": "stderr",
     "output_type": "stream",
     "text": [
      "Child returned 1\n",
      "0.33 seconds.\n",
      "Child returned 0\n"
     ]
    },
    {
     "name": "stdout",
     "output_type": "stream",
     "text": [
      "rm -rf /shared/CSHL_scoremaps_down32/MD657/MD657-N64-2017.03.21-14.08.01_MD657_2_0191_alignedTo_MD657-F44-2017.02.18-06.06.27_MD657_1_0130_cropped_down32/MD657-N64-2017.03.21-14.08.01_MD657_2_0191_alignedTo_MD657-F44-2017.02.18-06.06.27_MD657_1_0130_cropped_down32_outerContour_denseScoreMap_setting_30.bp && mkdir -p /shared/CSHL_scoremaps_down32/MD657/MD657-N64-2017.03.21-14.08.01_MD657_2_0191_alignedTo_MD657-F44-2017.02.18-06.06.27_MD657_1_0130_cropped_down32\n",
      "aws s3 cp s3://mousebrainatlas-data/CSHL_scoremaps_down32/MD657/MD657-N64-2017.03.21-14.08.01_MD657_2_0191_alignedTo_MD657-F44-2017.02.18-06.06.27_MD657_1_0130_cropped_down32/MD657-N64-2017.03.21-14.08.01_MD657_2_0191_alignedTo_MD657-F44-2017.02.18-06.06.27_MD657_1_0130_cropped_down32_outerContour_denseScoreMap_setting_30.bp /shared/CSHL_scoremaps_down32/MD657/MD657-N64-2017.03.21-14.08.01_MD657_2_0191_alignedTo_MD657-F44-2017.02.18-06.06.27_MD657_1_0130_cropped_down32/MD657-N64-2017.03.21-14.08.01_MD657_2_0191_alignedTo_MD657-F44-2017.02.18-06.06.27_MD657_1_0130_cropped_down32_outerContour_denseScoreMap_setting_30.bp\n"
     ]
    },
    {
     "name": "stderr",
     "output_type": "stream",
     "text": [
      "Child returned 1\n",
      "0.33 seconds.\n",
      "Child returned 0\n"
     ]
    },
    {
     "name": "stdout",
     "output_type": "stream",
     "text": [
      "rm -rf /shared/CSHL_scoremaps_down32/MD657/MD657-N65-2017.03.21-14.12.15_MD657_1_0193_alignedTo_MD657-F44-2017.02.18-06.06.27_MD657_1_0130_cropped_down32/MD657-N65-2017.03.21-14.12.15_MD657_1_0193_alignedTo_MD657-F44-2017.02.18-06.06.27_MD657_1_0130_cropped_down32_outerContour_denseScoreMap_setting_30.bp && mkdir -p /shared/CSHL_scoremaps_down32/MD657/MD657-N65-2017.03.21-14.12.15_MD657_1_0193_alignedTo_MD657-F44-2017.02.18-06.06.27_MD657_1_0130_cropped_down32\n",
      "aws s3 cp s3://mousebrainatlas-data/CSHL_scoremaps_down32/MD657/MD657-N65-2017.03.21-14.12.15_MD657_1_0193_alignedTo_MD657-F44-2017.02.18-06.06.27_MD657_1_0130_cropped_down32/MD657-N65-2017.03.21-14.12.15_MD657_1_0193_alignedTo_MD657-F44-2017.02.18-06.06.27_MD657_1_0130_cropped_down32_outerContour_denseScoreMap_setting_30.bp /shared/CSHL_scoremaps_down32/MD657/MD657-N65-2017.03.21-14.12.15_MD657_1_0193_alignedTo_MD657-F44-2017.02.18-06.06.27_MD657_1_0130_cropped_down32/MD657-N65-2017.03.21-14.12.15_MD657_1_0193_alignedTo_MD657-F44-2017.02.18-06.06.27_MD657_1_0130_cropped_down32_outerContour_denseScoreMap_setting_30.bp\n"
     ]
    },
    {
     "name": "stderr",
     "output_type": "stream",
     "text": [
      "Child returned 1\n",
      "0.35 seconds.\n",
      "Child returned 0\n"
     ]
    },
    {
     "name": "stdout",
     "output_type": "stream",
     "text": [
      "rm -rf /shared/CSHL_scoremaps_down32/MD657/MD657-N65-2017.03.21-14.12.15_MD657_2_0194_alignedTo_MD657-F44-2017.02.18-06.06.27_MD657_1_0130_cropped_down32/MD657-N65-2017.03.21-14.12.15_MD657_2_0194_alignedTo_MD657-F44-2017.02.18-06.06.27_MD657_1_0130_cropped_down32_outerContour_denseScoreMap_setting_30.bp && mkdir -p /shared/CSHL_scoremaps_down32/MD657/MD657-N65-2017.03.21-14.12.15_MD657_2_0194_alignedTo_MD657-F44-2017.02.18-06.06.27_MD657_1_0130_cropped_down32\n",
      "aws s3 cp s3://mousebrainatlas-data/CSHL_scoremaps_down32/MD657/MD657-N65-2017.03.21-14.12.15_MD657_2_0194_alignedTo_MD657-F44-2017.02.18-06.06.27_MD657_1_0130_cropped_down32/MD657-N65-2017.03.21-14.12.15_MD657_2_0194_alignedTo_MD657-F44-2017.02.18-06.06.27_MD657_1_0130_cropped_down32_outerContour_denseScoreMap_setting_30.bp /shared/CSHL_scoremaps_down32/MD657/MD657-N65-2017.03.21-14.12.15_MD657_2_0194_alignedTo_MD657-F44-2017.02.18-06.06.27_MD657_1_0130_cropped_down32/MD657-N65-2017.03.21-14.12.15_MD657_2_0194_alignedTo_MD657-F44-2017.02.18-06.06.27_MD657_1_0130_cropped_down32_outerContour_denseScoreMap_setting_30.bp\n"
     ]
    },
    {
     "name": "stderr",
     "output_type": "stream",
     "text": [
      "Child returned 1\n",
      "0.34 seconds.\n",
      "Child returned 0\n"
     ]
    },
    {
     "name": "stdout",
     "output_type": "stream",
     "text": [
      "rm -rf /shared/CSHL_scoremaps_down32/MD657/MD657-N66-2017.03.21-14.16.35_MD657_2_0197_alignedTo_MD657-F44-2017.02.18-06.06.27_MD657_1_0130_cropped_down32/MD657-N66-2017.03.21-14.16.35_MD657_2_0197_alignedTo_MD657-F44-2017.02.18-06.06.27_MD657_1_0130_cropped_down32_outerContour_denseScoreMap_setting_30.bp && mkdir -p /shared/CSHL_scoremaps_down32/MD657/MD657-N66-2017.03.21-14.16.35_MD657_2_0197_alignedTo_MD657-F44-2017.02.18-06.06.27_MD657_1_0130_cropped_down32\n",
      "aws s3 cp s3://mousebrainatlas-data/CSHL_scoremaps_down32/MD657/MD657-N66-2017.03.21-14.16.35_MD657_2_0197_alignedTo_MD657-F44-2017.02.18-06.06.27_MD657_1_0130_cropped_down32/MD657-N66-2017.03.21-14.16.35_MD657_2_0197_alignedTo_MD657-F44-2017.02.18-06.06.27_MD657_1_0130_cropped_down32_outerContour_denseScoreMap_setting_30.bp /shared/CSHL_scoremaps_down32/MD657/MD657-N66-2017.03.21-14.16.35_MD657_2_0197_alignedTo_MD657-F44-2017.02.18-06.06.27_MD657_1_0130_cropped_down32/MD657-N66-2017.03.21-14.16.35_MD657_2_0197_alignedTo_MD657-F44-2017.02.18-06.06.27_MD657_1_0130_cropped_down32_outerContour_denseScoreMap_setting_30.bp\n"
     ]
    },
    {
     "name": "stderr",
     "output_type": "stream",
     "text": [
      "Child returned 1\n",
      "0.34 seconds.\n",
      "Child returned 0\n"
     ]
    },
    {
     "name": "stdout",
     "output_type": "stream",
     "text": [
      "rm -rf /shared/CSHL_scoremaps_down32/MD657/MD657-N67-2017.02.22-17.59.54_MD657_1_0199_alignedTo_MD657-F44-2017.02.18-06.06.27_MD657_1_0130_cropped_down32/MD657-N67-2017.02.22-17.59.54_MD657_1_0199_alignedTo_MD657-F44-2017.02.18-06.06.27_MD657_1_0130_cropped_down32_outerContour_denseScoreMap_setting_30.bp && mkdir -p /shared/CSHL_scoremaps_down32/MD657/MD657-N67-2017.02.22-17.59.54_MD657_1_0199_alignedTo_MD657-F44-2017.02.18-06.06.27_MD657_1_0130_cropped_down32\n",
      "aws s3 cp s3://mousebrainatlas-data/CSHL_scoremaps_down32/MD657/MD657-N67-2017.02.22-17.59.54_MD657_1_0199_alignedTo_MD657-F44-2017.02.18-06.06.27_MD657_1_0130_cropped_down32/MD657-N67-2017.02.22-17.59.54_MD657_1_0199_alignedTo_MD657-F44-2017.02.18-06.06.27_MD657_1_0130_cropped_down32_outerContour_denseScoreMap_setting_30.bp /shared/CSHL_scoremaps_down32/MD657/MD657-N67-2017.02.22-17.59.54_MD657_1_0199_alignedTo_MD657-F44-2017.02.18-06.06.27_MD657_1_0130_cropped_down32/MD657-N67-2017.02.22-17.59.54_MD657_1_0199_alignedTo_MD657-F44-2017.02.18-06.06.27_MD657_1_0130_cropped_down32_outerContour_denseScoreMap_setting_30.bp\n"
     ]
    },
    {
     "name": "stderr",
     "output_type": "stream",
     "text": [
      "Child returned 1\n",
      "0.34 seconds.\n",
      "Child returned 0\n"
     ]
    },
    {
     "name": "stdout",
     "output_type": "stream",
     "text": [
      "rm -rf /shared/CSHL_scoremaps_down32/MD657/MD657-N67-2017.02.22-17.59.54_MD657_2_0200_alignedTo_MD657-F44-2017.02.18-06.06.27_MD657_1_0130_cropped_down32/MD657-N67-2017.02.22-17.59.54_MD657_2_0200_alignedTo_MD657-F44-2017.02.18-06.06.27_MD657_1_0130_cropped_down32_outerContour_denseScoreMap_setting_30.bp && mkdir -p /shared/CSHL_scoremaps_down32/MD657/MD657-N67-2017.02.22-17.59.54_MD657_2_0200_alignedTo_MD657-F44-2017.02.18-06.06.27_MD657_1_0130_cropped_down32\n",
      "aws s3 cp s3://mousebrainatlas-data/CSHL_scoremaps_down32/MD657/MD657-N67-2017.02.22-17.59.54_MD657_2_0200_alignedTo_MD657-F44-2017.02.18-06.06.27_MD657_1_0130_cropped_down32/MD657-N67-2017.02.22-17.59.54_MD657_2_0200_alignedTo_MD657-F44-2017.02.18-06.06.27_MD657_1_0130_cropped_down32_outerContour_denseScoreMap_setting_30.bp /shared/CSHL_scoremaps_down32/MD657/MD657-N67-2017.02.22-17.59.54_MD657_2_0200_alignedTo_MD657-F44-2017.02.18-06.06.27_MD657_1_0130_cropped_down32/MD657-N67-2017.02.22-17.59.54_MD657_2_0200_alignedTo_MD657-F44-2017.02.18-06.06.27_MD657_1_0130_cropped_down32_outerContour_denseScoreMap_setting_30.bp\n"
     ]
    },
    {
     "name": "stderr",
     "output_type": "stream",
     "text": [
      "Child returned 1\n",
      "0.33 seconds.\n",
      "Child returned 0\n"
     ]
    },
    {
     "name": "stdout",
     "output_type": "stream",
     "text": [
      "rm -rf /shared/CSHL_scoremaps_down32/MD657/MD657-N68-2017.02.22-18.03.28_MD657_1_0202_alignedTo_MD657-F44-2017.02.18-06.06.27_MD657_1_0130_cropped_down32/MD657-N68-2017.02.22-18.03.28_MD657_1_0202_alignedTo_MD657-F44-2017.02.18-06.06.27_MD657_1_0130_cropped_down32_outerContour_denseScoreMap_setting_30.bp && mkdir -p /shared/CSHL_scoremaps_down32/MD657/MD657-N68-2017.02.22-18.03.28_MD657_1_0202_alignedTo_MD657-F44-2017.02.18-06.06.27_MD657_1_0130_cropped_down32\n",
      "aws s3 cp s3://mousebrainatlas-data/CSHL_scoremaps_down32/MD657/MD657-N68-2017.02.22-18.03.28_MD657_1_0202_alignedTo_MD657-F44-2017.02.18-06.06.27_MD657_1_0130_cropped_down32/MD657-N68-2017.02.22-18.03.28_MD657_1_0202_alignedTo_MD657-F44-2017.02.18-06.06.27_MD657_1_0130_cropped_down32_outerContour_denseScoreMap_setting_30.bp /shared/CSHL_scoremaps_down32/MD657/MD657-N68-2017.02.22-18.03.28_MD657_1_0202_alignedTo_MD657-F44-2017.02.18-06.06.27_MD657_1_0130_cropped_down32/MD657-N68-2017.02.22-18.03.28_MD657_1_0202_alignedTo_MD657-F44-2017.02.18-06.06.27_MD657_1_0130_cropped_down32_outerContour_denseScoreMap_setting_30.bp\n"
     ]
    },
    {
     "name": "stderr",
     "output_type": "stream",
     "text": [
      "Child returned 1\n",
      "0.33 seconds.\n",
      "Child returned 0\n"
     ]
    },
    {
     "name": "stdout",
     "output_type": "stream",
     "text": [
      "rm -rf /shared/CSHL_scoremaps_down32/MD657/MD657-N68-2017.02.22-18.03.28_MD657_2_0203_alignedTo_MD657-F44-2017.02.18-06.06.27_MD657_1_0130_cropped_down32/MD657-N68-2017.02.22-18.03.28_MD657_2_0203_alignedTo_MD657-F44-2017.02.18-06.06.27_MD657_1_0130_cropped_down32_outerContour_denseScoreMap_setting_30.bp && mkdir -p /shared/CSHL_scoremaps_down32/MD657/MD657-N68-2017.02.22-18.03.28_MD657_2_0203_alignedTo_MD657-F44-2017.02.18-06.06.27_MD657_1_0130_cropped_down32\n",
      "aws s3 cp s3://mousebrainatlas-data/CSHL_scoremaps_down32/MD657/MD657-N68-2017.02.22-18.03.28_MD657_2_0203_alignedTo_MD657-F44-2017.02.18-06.06.27_MD657_1_0130_cropped_down32/MD657-N68-2017.02.22-18.03.28_MD657_2_0203_alignedTo_MD657-F44-2017.02.18-06.06.27_MD657_1_0130_cropped_down32_outerContour_denseScoreMap_setting_30.bp /shared/CSHL_scoremaps_down32/MD657/MD657-N68-2017.02.22-18.03.28_MD657_2_0203_alignedTo_MD657-F44-2017.02.18-06.06.27_MD657_1_0130_cropped_down32/MD657-N68-2017.02.22-18.03.28_MD657_2_0203_alignedTo_MD657-F44-2017.02.18-06.06.27_MD657_1_0130_cropped_down32_outerContour_denseScoreMap_setting_30.bp\n"
     ]
    },
    {
     "name": "stderr",
     "output_type": "stream",
     "text": [
      "Child returned 1\n",
      "0.33 seconds.\n",
      "Child returned 0\n"
     ]
    },
    {
     "name": "stdout",
     "output_type": "stream",
     "text": [
      "rm -rf /shared/CSHL_scoremaps_down32/MD657/MD657-N69-2017.02.22-18.07.03_MD657_1_0205_alignedTo_MD657-F44-2017.02.18-06.06.27_MD657_1_0130_cropped_down32/MD657-N69-2017.02.22-18.07.03_MD657_1_0205_alignedTo_MD657-F44-2017.02.18-06.06.27_MD657_1_0130_cropped_down32_outerContour_denseScoreMap_setting_30.bp && mkdir -p /shared/CSHL_scoremaps_down32/MD657/MD657-N69-2017.02.22-18.07.03_MD657_1_0205_alignedTo_MD657-F44-2017.02.18-06.06.27_MD657_1_0130_cropped_down32\n",
      "aws s3 cp s3://mousebrainatlas-data/CSHL_scoremaps_down32/MD657/MD657-N69-2017.02.22-18.07.03_MD657_1_0205_alignedTo_MD657-F44-2017.02.18-06.06.27_MD657_1_0130_cropped_down32/MD657-N69-2017.02.22-18.07.03_MD657_1_0205_alignedTo_MD657-F44-2017.02.18-06.06.27_MD657_1_0130_cropped_down32_outerContour_denseScoreMap_setting_30.bp /shared/CSHL_scoremaps_down32/MD657/MD657-N69-2017.02.22-18.07.03_MD657_1_0205_alignedTo_MD657-F44-2017.02.18-06.06.27_MD657_1_0130_cropped_down32/MD657-N69-2017.02.22-18.07.03_MD657_1_0205_alignedTo_MD657-F44-2017.02.18-06.06.27_MD657_1_0130_cropped_down32_outerContour_denseScoreMap_setting_30.bp\n"
     ]
    },
    {
     "name": "stderr",
     "output_type": "stream",
     "text": [
      "Child returned 1\n",
      "0.33 seconds.\n",
      "Child returned 0\n"
     ]
    },
    {
     "name": "stdout",
     "output_type": "stream",
     "text": [
      "rm -rf /shared/CSHL_scoremaps_down32/MD657/MD657-N69-2017.02.22-18.07.03_MD657_2_0206_alignedTo_MD657-F44-2017.02.18-06.06.27_MD657_1_0130_cropped_down32/MD657-N69-2017.02.22-18.07.03_MD657_2_0206_alignedTo_MD657-F44-2017.02.18-06.06.27_MD657_1_0130_cropped_down32_outerContour_denseScoreMap_setting_30.bp && mkdir -p /shared/CSHL_scoremaps_down32/MD657/MD657-N69-2017.02.22-18.07.03_MD657_2_0206_alignedTo_MD657-F44-2017.02.18-06.06.27_MD657_1_0130_cropped_down32\n",
      "aws s3 cp s3://mousebrainatlas-data/CSHL_scoremaps_down32/MD657/MD657-N69-2017.02.22-18.07.03_MD657_2_0206_alignedTo_MD657-F44-2017.02.18-06.06.27_MD657_1_0130_cropped_down32/MD657-N69-2017.02.22-18.07.03_MD657_2_0206_alignedTo_MD657-F44-2017.02.18-06.06.27_MD657_1_0130_cropped_down32_outerContour_denseScoreMap_setting_30.bp /shared/CSHL_scoremaps_down32/MD657/MD657-N69-2017.02.22-18.07.03_MD657_2_0206_alignedTo_MD657-F44-2017.02.18-06.06.27_MD657_1_0130_cropped_down32/MD657-N69-2017.02.22-18.07.03_MD657_2_0206_alignedTo_MD657-F44-2017.02.18-06.06.27_MD657_1_0130_cropped_down32_outerContour_denseScoreMap_setting_30.bp\n"
     ]
    },
    {
     "name": "stderr",
     "output_type": "stream",
     "text": [
      "Child returned 1\n",
      "0.33 seconds.\n",
      "Child returned 0\n"
     ]
    },
    {
     "name": "stdout",
     "output_type": "stream",
     "text": [
      "rm -rf /shared/CSHL_scoremaps_down32/MD657/MD657-N70-2017.02.22-18.31.14_MD657_1_0208_alignedTo_MD657-F44-2017.02.18-06.06.27_MD657_1_0130_cropped_down32/MD657-N70-2017.02.22-18.31.14_MD657_1_0208_alignedTo_MD657-F44-2017.02.18-06.06.27_MD657_1_0130_cropped_down32_outerContour_denseScoreMap_setting_30.bp && mkdir -p /shared/CSHL_scoremaps_down32/MD657/MD657-N70-2017.02.22-18.31.14_MD657_1_0208_alignedTo_MD657-F44-2017.02.18-06.06.27_MD657_1_0130_cropped_down32\n",
      "aws s3 cp s3://mousebrainatlas-data/CSHL_scoremaps_down32/MD657/MD657-N70-2017.02.22-18.31.14_MD657_1_0208_alignedTo_MD657-F44-2017.02.18-06.06.27_MD657_1_0130_cropped_down32/MD657-N70-2017.02.22-18.31.14_MD657_1_0208_alignedTo_MD657-F44-2017.02.18-06.06.27_MD657_1_0130_cropped_down32_outerContour_denseScoreMap_setting_30.bp /shared/CSHL_scoremaps_down32/MD657/MD657-N70-2017.02.22-18.31.14_MD657_1_0208_alignedTo_MD657-F44-2017.02.18-06.06.27_MD657_1_0130_cropped_down32/MD657-N70-2017.02.22-18.31.14_MD657_1_0208_alignedTo_MD657-F44-2017.02.18-06.06.27_MD657_1_0130_cropped_down32_outerContour_denseScoreMap_setting_30.bp\n"
     ]
    },
    {
     "name": "stderr",
     "output_type": "stream",
     "text": [
      "Child returned 1\n",
      "0.33 seconds.\n",
      "Child returned 0\n"
     ]
    },
    {
     "name": "stdout",
     "output_type": "stream",
     "text": [
      "rm -rf /shared/CSHL_scoremaps_down32/MD657/MD657-N70-2017.02.22-18.31.14_MD657_2_0209_alignedTo_MD657-F44-2017.02.18-06.06.27_MD657_1_0130_cropped_down32/MD657-N70-2017.02.22-18.31.14_MD657_2_0209_alignedTo_MD657-F44-2017.02.18-06.06.27_MD657_1_0130_cropped_down32_outerContour_denseScoreMap_setting_30.bp && mkdir -p /shared/CSHL_scoremaps_down32/MD657/MD657-N70-2017.02.22-18.31.14_MD657_2_0209_alignedTo_MD657-F44-2017.02.18-06.06.27_MD657_1_0130_cropped_down32\n",
      "aws s3 cp s3://mousebrainatlas-data/CSHL_scoremaps_down32/MD657/MD657-N70-2017.02.22-18.31.14_MD657_2_0209_alignedTo_MD657-F44-2017.02.18-06.06.27_MD657_1_0130_cropped_down32/MD657-N70-2017.02.22-18.31.14_MD657_2_0209_alignedTo_MD657-F44-2017.02.18-06.06.27_MD657_1_0130_cropped_down32_outerContour_denseScoreMap_setting_30.bp /shared/CSHL_scoremaps_down32/MD657/MD657-N70-2017.02.22-18.31.14_MD657_2_0209_alignedTo_MD657-F44-2017.02.18-06.06.27_MD657_1_0130_cropped_down32/MD657-N70-2017.02.22-18.31.14_MD657_2_0209_alignedTo_MD657-F44-2017.02.18-06.06.27_MD657_1_0130_cropped_down32_outerContour_denseScoreMap_setting_30.bp\n"
     ]
    },
    {
     "name": "stderr",
     "output_type": "stream",
     "text": [
      "Child returned 1\n",
      "0.33 seconds.\n",
      "Child returned 0\n"
     ]
    },
    {
     "name": "stdout",
     "output_type": "stream",
     "text": [
      "rm -rf /shared/CSHL_scoremaps_down32/MD657/MD657-N71-2017.02.22-18.34.41_MD657_1_0211_alignedTo_MD657-F44-2017.02.18-06.06.27_MD657_1_0130_cropped_down32/MD657-N71-2017.02.22-18.34.41_MD657_1_0211_alignedTo_MD657-F44-2017.02.18-06.06.27_MD657_1_0130_cropped_down32_outerContour_denseScoreMap_setting_30.bp && mkdir -p /shared/CSHL_scoremaps_down32/MD657/MD657-N71-2017.02.22-18.34.41_MD657_1_0211_alignedTo_MD657-F44-2017.02.18-06.06.27_MD657_1_0130_cropped_down32\n",
      "aws s3 cp s3://mousebrainatlas-data/CSHL_scoremaps_down32/MD657/MD657-N71-2017.02.22-18.34.41_MD657_1_0211_alignedTo_MD657-F44-2017.02.18-06.06.27_MD657_1_0130_cropped_down32/MD657-N71-2017.02.22-18.34.41_MD657_1_0211_alignedTo_MD657-F44-2017.02.18-06.06.27_MD657_1_0130_cropped_down32_outerContour_denseScoreMap_setting_30.bp /shared/CSHL_scoremaps_down32/MD657/MD657-N71-2017.02.22-18.34.41_MD657_1_0211_alignedTo_MD657-F44-2017.02.18-06.06.27_MD657_1_0130_cropped_down32/MD657-N71-2017.02.22-18.34.41_MD657_1_0211_alignedTo_MD657-F44-2017.02.18-06.06.27_MD657_1_0130_cropped_down32_outerContour_denseScoreMap_setting_30.bp\n"
     ]
    },
    {
     "name": "stderr",
     "output_type": "stream",
     "text": [
      "Child returned 1\n",
      "0.33 seconds.\n",
      "Child returned 0\n"
     ]
    },
    {
     "name": "stdout",
     "output_type": "stream",
     "text": [
      "rm -rf /shared/CSHL_scoremaps_down32/MD657/MD657-N71-2017.02.22-18.34.41_MD657_2_0212_alignedTo_MD657-F44-2017.02.18-06.06.27_MD657_1_0130_cropped_down32/MD657-N71-2017.02.22-18.34.41_MD657_2_0212_alignedTo_MD657-F44-2017.02.18-06.06.27_MD657_1_0130_cropped_down32_outerContour_denseScoreMap_setting_30.bp && mkdir -p /shared/CSHL_scoremaps_down32/MD657/MD657-N71-2017.02.22-18.34.41_MD657_2_0212_alignedTo_MD657-F44-2017.02.18-06.06.27_MD657_1_0130_cropped_down32\n",
      "aws s3 cp s3://mousebrainatlas-data/CSHL_scoremaps_down32/MD657/MD657-N71-2017.02.22-18.34.41_MD657_2_0212_alignedTo_MD657-F44-2017.02.18-06.06.27_MD657_1_0130_cropped_down32/MD657-N71-2017.02.22-18.34.41_MD657_2_0212_alignedTo_MD657-F44-2017.02.18-06.06.27_MD657_1_0130_cropped_down32_outerContour_denseScoreMap_setting_30.bp /shared/CSHL_scoremaps_down32/MD657/MD657-N71-2017.02.22-18.34.41_MD657_2_0212_alignedTo_MD657-F44-2017.02.18-06.06.27_MD657_1_0130_cropped_down32/MD657-N71-2017.02.22-18.34.41_MD657_2_0212_alignedTo_MD657-F44-2017.02.18-06.06.27_MD657_1_0130_cropped_down32_outerContour_denseScoreMap_setting_30.bp\n"
     ]
    },
    {
     "name": "stderr",
     "output_type": "stream",
     "text": [
      "Child returned 1\n",
      "0.33 seconds.\n",
      "Child returned 0\n"
     ]
    },
    {
     "name": "stdout",
     "output_type": "stream",
     "text": [
      "rm -rf /shared/CSHL_scoremaps_down32/MD657/MD657-N72-2017.02.22-18.38.06_MD657_1_0214_alignedTo_MD657-F44-2017.02.18-06.06.27_MD657_1_0130_cropped_down32/MD657-N72-2017.02.22-18.38.06_MD657_1_0214_alignedTo_MD657-F44-2017.02.18-06.06.27_MD657_1_0130_cropped_down32_outerContour_denseScoreMap_setting_30.bp && mkdir -p /shared/CSHL_scoremaps_down32/MD657/MD657-N72-2017.02.22-18.38.06_MD657_1_0214_alignedTo_MD657-F44-2017.02.18-06.06.27_MD657_1_0130_cropped_down32\n",
      "aws s3 cp s3://mousebrainatlas-data/CSHL_scoremaps_down32/MD657/MD657-N72-2017.02.22-18.38.06_MD657_1_0214_alignedTo_MD657-F44-2017.02.18-06.06.27_MD657_1_0130_cropped_down32/MD657-N72-2017.02.22-18.38.06_MD657_1_0214_alignedTo_MD657-F44-2017.02.18-06.06.27_MD657_1_0130_cropped_down32_outerContour_denseScoreMap_setting_30.bp /shared/CSHL_scoremaps_down32/MD657/MD657-N72-2017.02.22-18.38.06_MD657_1_0214_alignedTo_MD657-F44-2017.02.18-06.06.27_MD657_1_0130_cropped_down32/MD657-N72-2017.02.22-18.38.06_MD657_1_0214_alignedTo_MD657-F44-2017.02.18-06.06.27_MD657_1_0130_cropped_down32_outerContour_denseScoreMap_setting_30.bp\n"
     ]
    },
    {
     "name": "stderr",
     "output_type": "stream",
     "text": [
      "Child returned 1\n",
      "0.34 seconds.\n",
      "Child returned 0\n"
     ]
    },
    {
     "name": "stdout",
     "output_type": "stream",
     "text": [
      "rm -rf /shared/CSHL_scoremaps_down32/MD657/MD657-N72-2017.02.22-18.38.06_MD657_2_0215_alignedTo_MD657-F44-2017.02.18-06.06.27_MD657_1_0130_cropped_down32/MD657-N72-2017.02.22-18.38.06_MD657_2_0215_alignedTo_MD657-F44-2017.02.18-06.06.27_MD657_1_0130_cropped_down32_outerContour_denseScoreMap_setting_30.bp && mkdir -p /shared/CSHL_scoremaps_down32/MD657/MD657-N72-2017.02.22-18.38.06_MD657_2_0215_alignedTo_MD657-F44-2017.02.18-06.06.27_MD657_1_0130_cropped_down32\n",
      "aws s3 cp s3://mousebrainatlas-data/CSHL_scoremaps_down32/MD657/MD657-N72-2017.02.22-18.38.06_MD657_2_0215_alignedTo_MD657-F44-2017.02.18-06.06.27_MD657_1_0130_cropped_down32/MD657-N72-2017.02.22-18.38.06_MD657_2_0215_alignedTo_MD657-F44-2017.02.18-06.06.27_MD657_1_0130_cropped_down32_outerContour_denseScoreMap_setting_30.bp /shared/CSHL_scoremaps_down32/MD657/MD657-N72-2017.02.22-18.38.06_MD657_2_0215_alignedTo_MD657-F44-2017.02.18-06.06.27_MD657_1_0130_cropped_down32/MD657-N72-2017.02.22-18.38.06_MD657_2_0215_alignedTo_MD657-F44-2017.02.18-06.06.27_MD657_1_0130_cropped_down32_outerContour_denseScoreMap_setting_30.bp\n"
     ]
    },
    {
     "name": "stderr",
     "output_type": "stream",
     "text": [
      "Child returned 1\n",
      "0.34 seconds.\n",
      "Child returned 0\n"
     ]
    },
    {
     "name": "stdout",
     "output_type": "stream",
     "text": [
      "rm -rf /shared/CSHL_scoremaps_down32/MD657/MD657-N73-2017.02.22-18.41.32_MD657_1_0217_alignedTo_MD657-F44-2017.02.18-06.06.27_MD657_1_0130_cropped_down32/MD657-N73-2017.02.22-18.41.32_MD657_1_0217_alignedTo_MD657-F44-2017.02.18-06.06.27_MD657_1_0130_cropped_down32_outerContour_denseScoreMap_setting_30.bp && mkdir -p /shared/CSHL_scoremaps_down32/MD657/MD657-N73-2017.02.22-18.41.32_MD657_1_0217_alignedTo_MD657-F44-2017.02.18-06.06.27_MD657_1_0130_cropped_down32\n",
      "aws s3 cp s3://mousebrainatlas-data/CSHL_scoremaps_down32/MD657/MD657-N73-2017.02.22-18.41.32_MD657_1_0217_alignedTo_MD657-F44-2017.02.18-06.06.27_MD657_1_0130_cropped_down32/MD657-N73-2017.02.22-18.41.32_MD657_1_0217_alignedTo_MD657-F44-2017.02.18-06.06.27_MD657_1_0130_cropped_down32_outerContour_denseScoreMap_setting_30.bp /shared/CSHL_scoremaps_down32/MD657/MD657-N73-2017.02.22-18.41.32_MD657_1_0217_alignedTo_MD657-F44-2017.02.18-06.06.27_MD657_1_0130_cropped_down32/MD657-N73-2017.02.22-18.41.32_MD657_1_0217_alignedTo_MD657-F44-2017.02.18-06.06.27_MD657_1_0130_cropped_down32_outerContour_denseScoreMap_setting_30.bp\n"
     ]
    },
    {
     "name": "stderr",
     "output_type": "stream",
     "text": [
      "Child returned 1\n",
      "0.34 seconds.\n",
      "Child returned 0\n"
     ]
    },
    {
     "name": "stdout",
     "output_type": "stream",
     "text": [
      "rm -rf /shared/CSHL_scoremaps_down32/MD657/MD657-N73-2017.02.22-18.41.32_MD657_2_0218_alignedTo_MD657-F44-2017.02.18-06.06.27_MD657_1_0130_cropped_down32/MD657-N73-2017.02.22-18.41.32_MD657_2_0218_alignedTo_MD657-F44-2017.02.18-06.06.27_MD657_1_0130_cropped_down32_outerContour_denseScoreMap_setting_30.bp && mkdir -p /shared/CSHL_scoremaps_down32/MD657/MD657-N73-2017.02.22-18.41.32_MD657_2_0218_alignedTo_MD657-F44-2017.02.18-06.06.27_MD657_1_0130_cropped_down32\n",
      "aws s3 cp s3://mousebrainatlas-data/CSHL_scoremaps_down32/MD657/MD657-N73-2017.02.22-18.41.32_MD657_2_0218_alignedTo_MD657-F44-2017.02.18-06.06.27_MD657_1_0130_cropped_down32/MD657-N73-2017.02.22-18.41.32_MD657_2_0218_alignedTo_MD657-F44-2017.02.18-06.06.27_MD657_1_0130_cropped_down32_outerContour_denseScoreMap_setting_30.bp /shared/CSHL_scoremaps_down32/MD657/MD657-N73-2017.02.22-18.41.32_MD657_2_0218_alignedTo_MD657-F44-2017.02.18-06.06.27_MD657_1_0130_cropped_down32/MD657-N73-2017.02.22-18.41.32_MD657_2_0218_alignedTo_MD657-F44-2017.02.18-06.06.27_MD657_1_0130_cropped_down32_outerContour_denseScoreMap_setting_30.bp\n"
     ]
    },
    {
     "name": "stderr",
     "output_type": "stream",
     "text": [
      "Child returned 1\n",
      "0.34 seconds.\n",
      "Child returned 0\n"
     ]
    },
    {
     "name": "stdout",
     "output_type": "stream",
     "text": [
      "rm -rf /shared/CSHL_scoremaps_down32/MD657/MD657-N74-2017.02.22-18.44.55_MD657_2_0221_alignedTo_MD657-F44-2017.02.18-06.06.27_MD657_1_0130_cropped_down32/MD657-N74-2017.02.22-18.44.55_MD657_2_0221_alignedTo_MD657-F44-2017.02.18-06.06.27_MD657_1_0130_cropped_down32_outerContour_denseScoreMap_setting_30.bp && mkdir -p /shared/CSHL_scoremaps_down32/MD657/MD657-N74-2017.02.22-18.44.55_MD657_2_0221_alignedTo_MD657-F44-2017.02.18-06.06.27_MD657_1_0130_cropped_down32\n",
      "aws s3 cp s3://mousebrainatlas-data/CSHL_scoremaps_down32/MD657/MD657-N74-2017.02.22-18.44.55_MD657_2_0221_alignedTo_MD657-F44-2017.02.18-06.06.27_MD657_1_0130_cropped_down32/MD657-N74-2017.02.22-18.44.55_MD657_2_0221_alignedTo_MD657-F44-2017.02.18-06.06.27_MD657_1_0130_cropped_down32_outerContour_denseScoreMap_setting_30.bp /shared/CSHL_scoremaps_down32/MD657/MD657-N74-2017.02.22-18.44.55_MD657_2_0221_alignedTo_MD657-F44-2017.02.18-06.06.27_MD657_1_0130_cropped_down32/MD657-N74-2017.02.22-18.44.55_MD657_2_0221_alignedTo_MD657-F44-2017.02.18-06.06.27_MD657_1_0130_cropped_down32_outerContour_denseScoreMap_setting_30.bp\n"
     ]
    },
    {
     "name": "stderr",
     "output_type": "stream",
     "text": [
      "Child returned 1\n",
      "0.34 seconds.\n",
      "Child returned 0\n"
     ]
    },
    {
     "name": "stdout",
     "output_type": "stream",
     "text": [
      "rm -rf /shared/CSHL_scoremaps_down32/MD657/MD657-N75-2017.02.22-18.48.18_MD657_1_0223_alignedTo_MD657-F44-2017.02.18-06.06.27_MD657_1_0130_cropped_down32/MD657-N75-2017.02.22-18.48.18_MD657_1_0223_alignedTo_MD657-F44-2017.02.18-06.06.27_MD657_1_0130_cropped_down32_outerContour_denseScoreMap_setting_30.bp && mkdir -p /shared/CSHL_scoremaps_down32/MD657/MD657-N75-2017.02.22-18.48.18_MD657_1_0223_alignedTo_MD657-F44-2017.02.18-06.06.27_MD657_1_0130_cropped_down32\n",
      "aws s3 cp s3://mousebrainatlas-data/CSHL_scoremaps_down32/MD657/MD657-N75-2017.02.22-18.48.18_MD657_1_0223_alignedTo_MD657-F44-2017.02.18-06.06.27_MD657_1_0130_cropped_down32/MD657-N75-2017.02.22-18.48.18_MD657_1_0223_alignedTo_MD657-F44-2017.02.18-06.06.27_MD657_1_0130_cropped_down32_outerContour_denseScoreMap_setting_30.bp /shared/CSHL_scoremaps_down32/MD657/MD657-N75-2017.02.22-18.48.18_MD657_1_0223_alignedTo_MD657-F44-2017.02.18-06.06.27_MD657_1_0130_cropped_down32/MD657-N75-2017.02.22-18.48.18_MD657_1_0223_alignedTo_MD657-F44-2017.02.18-06.06.27_MD657_1_0130_cropped_down32_outerContour_denseScoreMap_setting_30.bp\n"
     ]
    },
    {
     "name": "stderr",
     "output_type": "stream",
     "text": [
      "Child returned 1\n",
      "0.34 seconds.\n",
      "Child returned 0\n"
     ]
    },
    {
     "name": "stdout",
     "output_type": "stream",
     "text": [
      "rm -rf /shared/CSHL_scoremaps_down32/MD657/MD657-N75-2017.02.22-18.48.18_MD657_2_0224_alignedTo_MD657-F44-2017.02.18-06.06.27_MD657_1_0130_cropped_down32/MD657-N75-2017.02.22-18.48.18_MD657_2_0224_alignedTo_MD657-F44-2017.02.18-06.06.27_MD657_1_0130_cropped_down32_outerContour_denseScoreMap_setting_30.bp && mkdir -p /shared/CSHL_scoremaps_down32/MD657/MD657-N75-2017.02.22-18.48.18_MD657_2_0224_alignedTo_MD657-F44-2017.02.18-06.06.27_MD657_1_0130_cropped_down32\n",
      "aws s3 cp s3://mousebrainatlas-data/CSHL_scoremaps_down32/MD657/MD657-N75-2017.02.22-18.48.18_MD657_2_0224_alignedTo_MD657-F44-2017.02.18-06.06.27_MD657_1_0130_cropped_down32/MD657-N75-2017.02.22-18.48.18_MD657_2_0224_alignedTo_MD657-F44-2017.02.18-06.06.27_MD657_1_0130_cropped_down32_outerContour_denseScoreMap_setting_30.bp /shared/CSHL_scoremaps_down32/MD657/MD657-N75-2017.02.22-18.48.18_MD657_2_0224_alignedTo_MD657-F44-2017.02.18-06.06.27_MD657_1_0130_cropped_down32/MD657-N75-2017.02.22-18.48.18_MD657_2_0224_alignedTo_MD657-F44-2017.02.18-06.06.27_MD657_1_0130_cropped_down32_outerContour_denseScoreMap_setting_30.bp\n"
     ]
    },
    {
     "name": "stderr",
     "output_type": "stream",
     "text": [
      "Child returned 1\n",
      "0.33 seconds.\n",
      "Child returned 0\n"
     ]
    },
    {
     "name": "stdout",
     "output_type": "stream",
     "text": [
      "rm -rf /shared/CSHL_scoremaps_down32/MD657/MD657-N76-2017.02.22-18.51.41_MD657_1_0226_alignedTo_MD657-F44-2017.02.18-06.06.27_MD657_1_0130_cropped_down32/MD657-N76-2017.02.22-18.51.41_MD657_1_0226_alignedTo_MD657-F44-2017.02.18-06.06.27_MD657_1_0130_cropped_down32_outerContour_denseScoreMap_setting_30.bp && mkdir -p /shared/CSHL_scoremaps_down32/MD657/MD657-N76-2017.02.22-18.51.41_MD657_1_0226_alignedTo_MD657-F44-2017.02.18-06.06.27_MD657_1_0130_cropped_down32\n",
      "aws s3 cp s3://mousebrainatlas-data/CSHL_scoremaps_down32/MD657/MD657-N76-2017.02.22-18.51.41_MD657_1_0226_alignedTo_MD657-F44-2017.02.18-06.06.27_MD657_1_0130_cropped_down32/MD657-N76-2017.02.22-18.51.41_MD657_1_0226_alignedTo_MD657-F44-2017.02.18-06.06.27_MD657_1_0130_cropped_down32_outerContour_denseScoreMap_setting_30.bp /shared/CSHL_scoremaps_down32/MD657/MD657-N76-2017.02.22-18.51.41_MD657_1_0226_alignedTo_MD657-F44-2017.02.18-06.06.27_MD657_1_0130_cropped_down32/MD657-N76-2017.02.22-18.51.41_MD657_1_0226_alignedTo_MD657-F44-2017.02.18-06.06.27_MD657_1_0130_cropped_down32_outerContour_denseScoreMap_setting_30.bp\n"
     ]
    },
    {
     "name": "stderr",
     "output_type": "stream",
     "text": [
      "Child returned 1\n",
      "0.33 seconds.\n",
      "Child returned 0\n"
     ]
    },
    {
     "name": "stdout",
     "output_type": "stream",
     "text": [
      "rm -rf /shared/CSHL_scoremaps_down32/MD657/MD657-N76-2017.02.22-18.51.41_MD657_2_0227_alignedTo_MD657-F44-2017.02.18-06.06.27_MD657_1_0130_cropped_down32/MD657-N76-2017.02.22-18.51.41_MD657_2_0227_alignedTo_MD657-F44-2017.02.18-06.06.27_MD657_1_0130_cropped_down32_outerContour_denseScoreMap_setting_30.bp && mkdir -p /shared/CSHL_scoremaps_down32/MD657/MD657-N76-2017.02.22-18.51.41_MD657_2_0227_alignedTo_MD657-F44-2017.02.18-06.06.27_MD657_1_0130_cropped_down32\n",
      "aws s3 cp s3://mousebrainatlas-data/CSHL_scoremaps_down32/MD657/MD657-N76-2017.02.22-18.51.41_MD657_2_0227_alignedTo_MD657-F44-2017.02.18-06.06.27_MD657_1_0130_cropped_down32/MD657-N76-2017.02.22-18.51.41_MD657_2_0227_alignedTo_MD657-F44-2017.02.18-06.06.27_MD657_1_0130_cropped_down32_outerContour_denseScoreMap_setting_30.bp /shared/CSHL_scoremaps_down32/MD657/MD657-N76-2017.02.22-18.51.41_MD657_2_0227_alignedTo_MD657-F44-2017.02.18-06.06.27_MD657_1_0130_cropped_down32/MD657-N76-2017.02.22-18.51.41_MD657_2_0227_alignedTo_MD657-F44-2017.02.18-06.06.27_MD657_1_0130_cropped_down32_outerContour_denseScoreMap_setting_30.bp\n"
     ]
    },
    {
     "name": "stderr",
     "output_type": "stream",
     "text": [
      "Child returned 1\n",
      "0.34 seconds.\n",
      "Child returned 0\n"
     ]
    },
    {
     "name": "stdout",
     "output_type": "stream",
     "text": [
      "rm -rf /shared/CSHL_scoremaps_down32/MD657/MD657-N77-2017.02.22-18.55.01_MD657_1_0229_alignedTo_MD657-F44-2017.02.18-06.06.27_MD657_1_0130_cropped_down32/MD657-N77-2017.02.22-18.55.01_MD657_1_0229_alignedTo_MD657-F44-2017.02.18-06.06.27_MD657_1_0130_cropped_down32_outerContour_denseScoreMap_setting_30.bp && mkdir -p /shared/CSHL_scoremaps_down32/MD657/MD657-N77-2017.02.22-18.55.01_MD657_1_0229_alignedTo_MD657-F44-2017.02.18-06.06.27_MD657_1_0130_cropped_down32\n",
      "aws s3 cp s3://mousebrainatlas-data/CSHL_scoremaps_down32/MD657/MD657-N77-2017.02.22-18.55.01_MD657_1_0229_alignedTo_MD657-F44-2017.02.18-06.06.27_MD657_1_0130_cropped_down32/MD657-N77-2017.02.22-18.55.01_MD657_1_0229_alignedTo_MD657-F44-2017.02.18-06.06.27_MD657_1_0130_cropped_down32_outerContour_denseScoreMap_setting_30.bp /shared/CSHL_scoremaps_down32/MD657/MD657-N77-2017.02.22-18.55.01_MD657_1_0229_alignedTo_MD657-F44-2017.02.18-06.06.27_MD657_1_0130_cropped_down32/MD657-N77-2017.02.22-18.55.01_MD657_1_0229_alignedTo_MD657-F44-2017.02.18-06.06.27_MD657_1_0130_cropped_down32_outerContour_denseScoreMap_setting_30.bp\n"
     ]
    },
    {
     "name": "stderr",
     "output_type": "stream",
     "text": [
      "Child returned 1\n",
      "0.35 seconds.\n",
      "Child returned 0\n"
     ]
    },
    {
     "name": "stdout",
     "output_type": "stream",
     "text": [
      "rm -rf /shared/CSHL_scoremaps_down32/MD657/MD657-N77-2017.02.22-18.55.01_MD657_2_0230_alignedTo_MD657-F44-2017.02.18-06.06.27_MD657_1_0130_cropped_down32/MD657-N77-2017.02.22-18.55.01_MD657_2_0230_alignedTo_MD657-F44-2017.02.18-06.06.27_MD657_1_0130_cropped_down32_outerContour_denseScoreMap_setting_30.bp && mkdir -p /shared/CSHL_scoremaps_down32/MD657/MD657-N77-2017.02.22-18.55.01_MD657_2_0230_alignedTo_MD657-F44-2017.02.18-06.06.27_MD657_1_0130_cropped_down32\n",
      "aws s3 cp s3://mousebrainatlas-data/CSHL_scoremaps_down32/MD657/MD657-N77-2017.02.22-18.55.01_MD657_2_0230_alignedTo_MD657-F44-2017.02.18-06.06.27_MD657_1_0130_cropped_down32/MD657-N77-2017.02.22-18.55.01_MD657_2_0230_alignedTo_MD657-F44-2017.02.18-06.06.27_MD657_1_0130_cropped_down32_outerContour_denseScoreMap_setting_30.bp /shared/CSHL_scoremaps_down32/MD657/MD657-N77-2017.02.22-18.55.01_MD657_2_0230_alignedTo_MD657-F44-2017.02.18-06.06.27_MD657_1_0130_cropped_down32/MD657-N77-2017.02.22-18.55.01_MD657_2_0230_alignedTo_MD657-F44-2017.02.18-06.06.27_MD657_1_0130_cropped_down32_outerContour_denseScoreMap_setting_30.bp\n"
     ]
    },
    {
     "name": "stderr",
     "output_type": "stream",
     "text": [
      "Child returned 1\n",
      "0.33 seconds.\n",
      "Number of valid scoremaps for outerContour is less than 2.\n",
      "Child returned 0\n"
     ]
    },
    {
     "name": "stdout",
     "output_type": "stream",
     "text": [
      "0 scoremaps loaded.\n",
      "SC\n",
      "rm -rf /shared/CSHL_scoremaps_down32/MD657/MD657-N66-2017.03.21-14.16.35_MD657_2_0197_alignedTo_MD657-F44-2017.02.18-06.06.27_MD657_1_0130_cropped_down32/MD657-N66-2017.03.21-14.16.35_MD657_2_0197_alignedTo_MD657-F44-2017.02.18-06.06.27_MD657_1_0130_cropped_down32_SC_denseScoreMap_setting_30.bp && mkdir -p /shared/CSHL_scoremaps_down32/MD657/MD657-N66-2017.03.21-14.16.35_MD657_2_0197_alignedTo_MD657-F44-2017.02.18-06.06.27_MD657_1_0130_cropped_down32\n",
      "aws s3 cp s3://mousebrainatlas-data/CSHL_scoremaps_down32/MD657/MD657-N66-2017.03.21-14.16.35_MD657_2_0197_alignedTo_MD657-F44-2017.02.18-06.06.27_MD657_1_0130_cropped_down32/MD657-N66-2017.03.21-14.16.35_MD657_2_0197_alignedTo_MD657-F44-2017.02.18-06.06.27_MD657_1_0130_cropped_down32_SC_denseScoreMap_setting_30.bp /shared/CSHL_scoremaps_down32/MD657/MD657-N66-2017.03.21-14.16.35_MD657_2_0197_alignedTo_MD657-F44-2017.02.18-06.06.27_MD657_1_0130_cropped_down32/MD657-N66-2017.03.21-14.16.35_MD657_2_0197_alignedTo_MD657-F44-2017.02.18-06.06.27_MD657_1_0130_cropped_down32_SC_denseScoreMap_setting_30.bp\n"
     ]
    },
    {
     "name": "stderr",
     "output_type": "stream",
     "text": [
      "Child returned 1\n",
      "0.33 seconds.\n",
      "Child returned 0\n"
     ]
    },
    {
     "name": "stdout",
     "output_type": "stream",
     "text": [
      "rm -rf /shared/CSHL_scoremaps_down32/MD657/MD657-N71-2017.02.22-18.34.41_MD657_2_0212_alignedTo_MD657-F44-2017.02.18-06.06.27_MD657_1_0130_cropped_down32/MD657-N71-2017.02.22-18.34.41_MD657_2_0212_alignedTo_MD657-F44-2017.02.18-06.06.27_MD657_1_0130_cropped_down32_SC_denseScoreMap_setting_30.bp && mkdir -p /shared/CSHL_scoremaps_down32/MD657/MD657-N71-2017.02.22-18.34.41_MD657_2_0212_alignedTo_MD657-F44-2017.02.18-06.06.27_MD657_1_0130_cropped_down32\n",
      "aws s3 cp s3://mousebrainatlas-data/CSHL_scoremaps_down32/MD657/MD657-N71-2017.02.22-18.34.41_MD657_2_0212_alignedTo_MD657-F44-2017.02.18-06.06.27_MD657_1_0130_cropped_down32/MD657-N71-2017.02.22-18.34.41_MD657_2_0212_alignedTo_MD657-F44-2017.02.18-06.06.27_MD657_1_0130_cropped_down32_SC_denseScoreMap_setting_30.bp /shared/CSHL_scoremaps_down32/MD657/MD657-N71-2017.02.22-18.34.41_MD657_2_0212_alignedTo_MD657-F44-2017.02.18-06.06.27_MD657_1_0130_cropped_down32/MD657-N71-2017.02.22-18.34.41_MD657_2_0212_alignedTo_MD657-F44-2017.02.18-06.06.27_MD657_1_0130_cropped_down32_SC_denseScoreMap_setting_30.bp\n"
     ]
    },
    {
     "name": "stderr",
     "output_type": "stream",
     "text": [
      "Child returned 1\n",
      "0.34 seconds.\n",
      "Load scoremaps: 0.84 seconds\n"
     ]
    },
    {
     "name": "stdout",
     "output_type": "stream",
     "text": [
      "127 scoremaps loaded.\n"
     ]
    },
    {
     "name": "stderr",
     "output_type": "stream",
     "text": [
      "Create score volume: 2.26 seconds\n"
     ]
    },
    {
     "name": "stdout",
     "output_type": "stream",
     "text": [
      "aws s3 cp /shared/CSHL_volumes/MD657/MD657_down32_scoreVolume_clf_30/score_volumes/MD657_down32_scoreVolume_clf_30_SC.bp s3://mousebrainatlas-data/CSHL_volumes/MD657/MD657_down32_scoreVolume_clf_30/score_volumes/MD657_down32_scoreVolume_clf_30_SC.bp\n"
     ]
    },
    {
     "name": "stderr",
     "output_type": "stream",
     "text": [
      "Child returned 0\n",
      "1.70 seconds.\n"
     ]
    },
    {
     "name": "stdout",
     "output_type": "stream",
     "text": [
      "aws s3 cp /shared/CSHL_volumes/MD657/MD657_down32_scoreVolume_clf_30/score_volumes/MD657_down32_scoreVolume_clf_30_SC_bbox.txt s3://mousebrainatlas-data/CSHL_volumes/MD657/MD657_down32_scoreVolume_clf_30/score_volumes/MD657_down32_scoreVolume_clf_30_SC_bbox.txt\n"
     ]
    },
    {
     "name": "stderr",
     "output_type": "stream",
     "text": [
      "Child returned 0\n",
      "0.37 seconds.\n",
      "Child returned 0\n"
     ]
    },
    {
     "name": "stdout",
     "output_type": "stream",
     "text": [
      "IC\n",
      "rm -rf /shared/CSHL_scoremaps_down32/MD657/MD657-N66-2017.03.21-14.16.35_MD657_2_0197_alignedTo_MD657-F44-2017.02.18-06.06.27_MD657_1_0130_cropped_down32/MD657-N66-2017.03.21-14.16.35_MD657_2_0197_alignedTo_MD657-F44-2017.02.18-06.06.27_MD657_1_0130_cropped_down32_IC_denseScoreMap_setting_30.bp && mkdir -p /shared/CSHL_scoremaps_down32/MD657/MD657-N66-2017.03.21-14.16.35_MD657_2_0197_alignedTo_MD657-F44-2017.02.18-06.06.27_MD657_1_0130_cropped_down32\n",
      "aws s3 cp s3://mousebrainatlas-data/CSHL_scoremaps_down32/MD657/MD657-N66-2017.03.21-14.16.35_MD657_2_0197_alignedTo_MD657-F44-2017.02.18-06.06.27_MD657_1_0130_cropped_down32/MD657-N66-2017.03.21-14.16.35_MD657_2_0197_alignedTo_MD657-F44-2017.02.18-06.06.27_MD657_1_0130_cropped_down32_IC_denseScoreMap_setting_30.bp /shared/CSHL_scoremaps_down32/MD657/MD657-N66-2017.03.21-14.16.35_MD657_2_0197_alignedTo_MD657-F44-2017.02.18-06.06.27_MD657_1_0130_cropped_down32/MD657-N66-2017.03.21-14.16.35_MD657_2_0197_alignedTo_MD657-F44-2017.02.18-06.06.27_MD657_1_0130_cropped_down32_IC_denseScoreMap_setting_30.bp\n"
     ]
    },
    {
     "name": "stderr",
     "output_type": "stream",
     "text": [
      "Child returned 1\n",
      "0.33 seconds.\n",
      "Child returned 0\n"
     ]
    },
    {
     "name": "stdout",
     "output_type": "stream",
     "text": [
      "rm -rf /shared/CSHL_scoremaps_down32/MD657/MD657-N71-2017.02.22-18.34.41_MD657_2_0212_alignedTo_MD657-F44-2017.02.18-06.06.27_MD657_1_0130_cropped_down32/MD657-N71-2017.02.22-18.34.41_MD657_2_0212_alignedTo_MD657-F44-2017.02.18-06.06.27_MD657_1_0130_cropped_down32_IC_denseScoreMap_setting_30.bp && mkdir -p /shared/CSHL_scoremaps_down32/MD657/MD657-N71-2017.02.22-18.34.41_MD657_2_0212_alignedTo_MD657-F44-2017.02.18-06.06.27_MD657_1_0130_cropped_down32\n",
      "aws s3 cp s3://mousebrainatlas-data/CSHL_scoremaps_down32/MD657/MD657-N71-2017.02.22-18.34.41_MD657_2_0212_alignedTo_MD657-F44-2017.02.18-06.06.27_MD657_1_0130_cropped_down32/MD657-N71-2017.02.22-18.34.41_MD657_2_0212_alignedTo_MD657-F44-2017.02.18-06.06.27_MD657_1_0130_cropped_down32_IC_denseScoreMap_setting_30.bp /shared/CSHL_scoremaps_down32/MD657/MD657-N71-2017.02.22-18.34.41_MD657_2_0212_alignedTo_MD657-F44-2017.02.18-06.06.27_MD657_1_0130_cropped_down32/MD657-N71-2017.02.22-18.34.41_MD657_2_0212_alignedTo_MD657-F44-2017.02.18-06.06.27_MD657_1_0130_cropped_down32_IC_denseScoreMap_setting_30.bp\n"
     ]
    },
    {
     "name": "stderr",
     "output_type": "stream",
     "text": [
      "Child returned 1\n",
      "0.37 seconds.\n",
      "Load scoremaps: 0.87 seconds\n"
     ]
    },
    {
     "name": "stdout",
     "output_type": "stream",
     "text": [
      "127 scoremaps loaded.\n"
     ]
    },
    {
     "name": "stderr",
     "output_type": "stream",
     "text": [
      "Create score volume: 2.28 seconds\n"
     ]
    },
    {
     "name": "stdout",
     "output_type": "stream",
     "text": [
      "aws s3 cp /shared/CSHL_volumes/MD657/MD657_down32_scoreVolume_clf_30/score_volumes/MD657_down32_scoreVolume_clf_30_IC.bp s3://mousebrainatlas-data/CSHL_volumes/MD657/MD657_down32_scoreVolume_clf_30/score_volumes/MD657_down32_scoreVolume_clf_30_IC.bp\n"
     ]
    },
    {
     "name": "stderr",
     "output_type": "stream",
     "text": [
      "Child returned 0\n",
      "1.46 seconds.\n"
     ]
    },
    {
     "name": "stdout",
     "output_type": "stream",
     "text": [
      "aws s3 cp /shared/CSHL_volumes/MD657/MD657_down32_scoreVolume_clf_30/score_volumes/MD657_down32_scoreVolume_clf_30_IC_bbox.txt s3://mousebrainatlas-data/CSHL_volumes/MD657/MD657_down32_scoreVolume_clf_30/score_volumes/MD657_down32_scoreVolume_clf_30_IC_bbox.txt\n"
     ]
    },
    {
     "name": "stderr",
     "output_type": "stream",
     "text": [
      "Child returned 0\n",
      "0.36 seconds.\n"
     ]
    }
   ],
   "source": [
    "for stack in ['MD657']:\n",
    "    \n",
    "    first_sec, last_sec = metadata_cache['section_limits'][stack]\n",
    "\n",
    "    nissl_sections = []\n",
    "    for sec in range(first_sec, last_sec):\n",
    "        fn = metadata_cache['sections_to_filenames'][stack][sec]\n",
    "        if not is_invalid(fn) and fn.split('-')[1][0] == 'N':\n",
    "            nissl_sections.append(sec)\n",
    "    \n",
    "    for structure in all_known_structures:\n",
    "#     for structure in ['7N']:\n",
    "        \n",
    "        print structure\n",
    "    \n",
    "        t = time.time()\n",
    "        scoremaps = load_downscaled_scoremaps_multiple_sections_sequential(stack=stack, sections=nissl_sections, \n",
    "                                                              structure=structure, downscale=downscale, \n",
    "                                                              classifier_id=classifier_id)\n",
    "        print len(scoremaps), 'scoremaps loaded.'\n",
    "        if len(scoremaps) < 2:\n",
    "            sys.stderr.write('Number of valid scoremaps for %s is less than 2.\\n' % structure)\n",
    "            continue\n",
    "        \n",
    "        sys.stderr.write('Load scoremaps: %.2f seconds\\n' % (time.time() - t)) # 10-40s (down=32, 12 processes)\n",
    "        \n",
    "        t = time.time()\n",
    "        score_volume, score_volume_bbox = images_to_volume(images=scoremaps, voxel_size=(1, 1, voxel_z_size), \n",
    "                                                           first_sec=np.min(nissl_sections)-1, \n",
    "                                                           last_sec=np.max(nissl_sections)-1)\n",
    "        sys.stderr.write('Create score volume: %.2f seconds\\n' % (time.time() - t)) # 6s (sequential)\n",
    "        \n",
    "        score_volume_filepath = DataManager.get_score_volume_filepath(stack=stack, downscale=downscale, \n",
    "                                                                      structure=structure, \n",
    "                                                                      classifier_setting=classifier_id)\n",
    "        create_parent_dir_if_not_exists(score_volume_filepath)\n",
    "        bp.pack_ndarray_file(score_volume.astype(np.float16), score_volume_filepath)\n",
    "\n",
    "        score_volume_bbox_filepath = DataManager.get_score_volume_bbox_filepath(stack=stack, downscale=downscale, structure=structure,\n",
    "                                                                               classifier_setting=classifier_id)\n",
    "        np.savetxt(score_volume_bbox_filepath, np.array(score_volume_bbox)[None], fmt='%d')\n",
    "        \n",
    "        upload_from_ec2_to_s3(score_volume_filepath)\n",
    "        upload_from_ec2_to_s3(score_volume_bbox_filepath)\n",
    "        \n",
    "        del score_volume, scoremaps"
   ]
  },
  {
   "cell_type": "markdown",
   "metadata": {
    "collapsed": true
   },
   "source": [
    "# Read"
   ]
  },
  {
   "cell_type": "code",
   "execution_count": 25,
   "metadata": {
    "scrolled": true
   },
   "outputs": [
    {
     "name": "stdout",
     "output_type": "stream",
     "text": [
      "5N\n",
      "6N\n",
      "7N\n",
      "7n\n",
      "Amb\n",
      "LC\n",
      "LRt\n",
      "Pn\n",
      "Tz\n",
      "VLL\n",
      "RMC\n",
      "SNC\n",
      "SNR\n",
      "3N\n",
      "4N\n",
      "Sp5I\n",
      "Sp5O\n",
      "Sp5C\n",
      "PBG\n",
      "10N\n",
      "VCA\n",
      "VCP\n",
      "DC\n",
      "AP\n",
      "12N\n",
      "RtTg\n",
      "sp5\n",
      "outerContour\n",
      "SC\n"
     ]
    },
    {
     "name": "stderr",
     "output_type": "stream",
     "text": [
      "File does not exist: /oasis/projects/nsf/csd395/yuncong/CSHL_volumes/MD642/MD642_down32_scoreVolume_clf_2/score_volumes/MD642_down32_scoreVolume_clf_2_sp5.bp\n",
      "File does not exist: /oasis/projects/nsf/csd395/yuncong/CSHL_volumes/MD642/MD642_down32_scoreVolume_clf_2/score_volumes/MD642_down32_scoreVolume_clf_2_outerContour.bp\n"
     ]
    },
    {
     "name": "stdout",
     "output_type": "stream",
     "text": [
      "IC\n"
     ]
    }
   ],
   "source": [
    "for structure in all_known_structures:\n",
    "    print structure\n",
    "    try:\n",
    "        score_volume = DataManager.load_score_volume(stack='MD642', structure=structure, downscale=32, \n",
    "                                                 classifier_setting=classifier_setting)\n",
    "        score_volume_cropped = score_volume[:, :600, :]\n",
    "\n",
    "        score_volume_filepath = DataManager.get_score_volume_filepath(stack=stack, downscale=downscale, \n",
    "                                                                  structure=structure, \n",
    "                                                                  classifier_setting=classifier_setting)\n",
    "        create_if_not_exists(os.path.dirname(score_volume_filepath))\n",
    "        bp.pack_ndarray_file(score_volume_cropped.astype(np.float16), score_volume_filepath)\n",
    "    except:\n",
    "        pass"
   ]
  },
  {
   "cell_type": "code",
   "execution_count": null,
   "metadata": {
    "collapsed": true,
    "scrolled": false
   },
   "outputs": [],
   "source": [
    "display_volume_sections(score_volume_cropped, cmap=plt.cm.hot, every=10)"
   ]
  }
 ],
 "metadata": {
  "kernelspec": {
   "display_name": "Python 2",
   "language": "python",
   "name": "python2"
  },
  "language_info": {
   "codemirror_mode": {
    "name": "ipython",
    "version": 2
   },
   "file_extension": ".py",
   "mimetype": "text/x-python",
   "name": "python",
   "nbconvert_exporter": "python",
   "pygments_lexer": "ipython2",
   "version": "2.7.12"
  }
 },
 "nbformat": 4,
 "nbformat_minor": 1
}
