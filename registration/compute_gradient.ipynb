{
 "cells": [
  {
   "cell_type": "code",
   "execution_count": 1,
   "metadata": {
    "collapsed": true
   },
   "outputs": [],
   "source": [
    "%load_ext autoreload\n",
    "%autoreload 2"
   ]
  },
  {
   "cell_type": "code",
   "execution_count": 2,
   "metadata": {
    "collapsed": false
   },
   "outputs": [
    {
     "name": "stdout",
     "output_type": "stream",
     "text": [
      "Setting environment for Gordon\n"
     ]
    }
   ],
   "source": [
    "import numpy as np\n",
    "\n",
    "import sys\n",
    "import os\n",
    "\n",
    "sys.path.append(os.environ['REPO_DIR'] + '/utilities')\n",
    "from utilities2015 import *\n",
    "from metadata import *\n",
    "\n",
    "import time"
   ]
  },
  {
   "cell_type": "code",
   "execution_count": null,
   "metadata": {
    "collapsed": false
   },
   "outputs": [],
   "source": [
    "# Compute Gradient - score volume\n",
    "\n",
    "# for stack in ['MD594', 'MD585', 'MD593', 'MD592', 'MD590', 'MD591', 'MD595', 'MD598', 'MD602']:\n",
    "# for stack in ['MD585', 'MD593', 'MD592', 'MD590', 'MD591', 'MD595', 'MD598', 'MD602']:\n",
    "for stack in ['MD589']:\n",
    "    \n",
    "    print stack\n",
    "    \n",
    "    # numpy sparse does not support 3d\n",
    "    section_bs_begin, section_bs_end = section_range_lookup[stack]\n",
    "\n",
    "#     (volume_xmin, volume_xmax, volume_ymin, volume_ymax, volume_zmin, volume_zmax) = \\\n",
    "#     np.loadtxt(os.path.join(volume_dir, '%(stack)s/%(stack)s_scoreVolume_limits.txt' % {'stack': stack}), dtype=np.int)\n",
    "            \n",
    "    volume2_allLabels = {}\n",
    "\n",
    "    for name in labels_unsided:\n",
    "\n",
    "        if name == 'BackG':\n",
    "            continue\n",
    "\n",
    "        volume2_roi = bp.unpack_ndarray_file(os.path.join(volume_dir, '%(stack)s/%(stack)s_scoreVolume_%(label)s.bp' % \\\n",
    "                                                          {'stack': stack, 'label': name})).astype(np.float16)\n",
    "        volume2_allLabels[name] = volume2_roi\n",
    "        del volume2_roi\n",
    "\n",
    "#     test_ydim, test_xdim, test_zdim = volume2_allLabels.values()[0].shape\n",
    "#     test_centroid = np.array([.5*test_xdim, .5*test_ydim, .5*test_zdim])\n",
    "\n",
    "    t1 = time.time()\n",
    "\n",
    "    for name in labels_unsided:\n",
    "\n",
    "        if name == 'BackG':\n",
    "            continue\n",
    "\n",
    "        t = time.time()\n",
    "\n",
    "        gy_gx_gz = np.gradient(volume2_allLabels[name].astype(np.float32), 3, 3, 3) \n",
    "        # 3.3 second, much faster than loading\n",
    "\n",
    "        sys.stderr.write('gradient %s: %f seconds\\n' % (name, time.time() - t))\n",
    "\n",
    "        t = time.time()\n",
    "\n",
    "#         bp.pack_ndarray_file(gy_gx_gz[0], volume_dir + '/%(stack)s/%(stack)s_scoreVolume_%(label)s_gy.bp' % {'stack':stack, 'label':name})\n",
    "#         bp.pack_ndarray_file(gy_gx_gz[1], volume_dir + '/%(stack)s/%(stack)s_scoreVolume_%(label)s_gx.bp' % {'stack':stack, 'label':name})\n",
    "#         bp.pack_ndarray_file(gy_gx_gz[2], volume_dir + '/%(stack)s/%(stack)s_scoreVolume_%(label)s_gz.bp' % {'stack':stack, 'label':name})\n",
    "\n",
    "        del gy_gx_gz\n",
    "\n",
    "        sys.stderr.write('save %s: %f seconds\\n' % (name, time.time() - t))\n",
    "\n",
    "\n",
    "    sys.stderr.write('overall: %f seconds\\n' % (time.time() - t1))"
   ]
  },
  {
   "cell_type": "code",
   "execution_count": 8,
   "metadata": {
    "collapsed": false
   },
   "outputs": [
    {
     "name": "stderr",
     "output_type": "stream",
     "text": [
      "gradient 12N: 2.666507 seconds\n",
      "save 12N: 0.137535 seconds\n",
      "gradient 5N_L: 2.674212 seconds\n",
      "save 5N_L: 0.135570 seconds\n",
      "gradient 5N_R: 2.433297 seconds\n",
      "save 5N_R: 0.145240 seconds\n",
      "gradient 6N_L: 6.053854 seconds\n",
      "save 6N_L: 0.141592 seconds\n",
      "gradient 6N_R: 2.033209 seconds\n",
      "save 6N_R: 0.139705 seconds\n",
      "gradient 7N_L: 4.907842 seconds\n",
      "save 7N_L: 0.142288 seconds\n",
      "gradient 7N_R: 2.047576 seconds\n",
      "save 7N_R: 0.143488 seconds\n",
      "gradient 7n_L: 5.224035 seconds\n",
      "save 7n_L: 0.144438 seconds\n",
      "gradient 7n_R: 3.282860 seconds\n",
      "save 7n_R: 0.142224 seconds\n",
      "gradient AP: 2.537012 seconds\n",
      "save AP: 0.160608 seconds\n",
      "gradient Amb_L: 2.444107 seconds\n",
      "save Amb_L: 0.145693 seconds\n",
      "gradient Amb_R: 4.246033 seconds\n",
      "save Amb_R: 0.145752 seconds\n",
      "gradient LC_L: 2.990531 seconds\n",
      "save LC_L: 0.135605 seconds\n",
      "gradient LC_R: 2.313436 seconds\n",
      "save LC_R: 0.139901 seconds\n",
      "gradient LRt_L: 3.020620 seconds\n",
      "save LRt_L: 0.151490 seconds\n",
      "gradient LRt_R: 5.664793 seconds\n",
      "save LRt_R: 0.156634 seconds\n",
      "gradient Pn_L: 3.555673 seconds\n",
      "save Pn_L: 0.140529 seconds\n",
      "gradient Pn_R: 9.822358 seconds\n",
      "save Pn_R: 0.137048 seconds\n"
     ]
    },
    {
     "name": "stdout",
     "output_type": "stream",
     "text": [
      "MD594\n"
     ]
    },
    {
     "ename": "ValueError",
     "evalue": "Shape of array too small to calculate a numerical gradient, at least two elements are required.",
     "output_type": "error",
     "traceback": [
      "\u001b[1;31m---------------------------------------------------------------------------\u001b[0m",
      "\u001b[1;31mValueError\u001b[0m                                Traceback (most recent call last)",
      "\u001b[1;32m<ipython-input-8-f5bee5f3de93>\u001b[0m in \u001b[0;36m<module>\u001b[1;34m()\u001b[0m\n\u001b[0;32m     37\u001b[0m         \u001b[0mt\u001b[0m \u001b[1;33m=\u001b[0m \u001b[0mtime\u001b[0m\u001b[1;33m.\u001b[0m\u001b[0mtime\u001b[0m\u001b[1;33m(\u001b[0m\u001b[1;33m)\u001b[0m\u001b[1;33m\u001b[0m\u001b[0m\n\u001b[0;32m     38\u001b[0m \u001b[1;33m\u001b[0m\u001b[0m\n\u001b[1;32m---> 39\u001b[1;33m         \u001b[0mgy_gx_gz\u001b[0m \u001b[1;33m=\u001b[0m \u001b[0mnp\u001b[0m\u001b[1;33m.\u001b[0m\u001b[0mgradient\u001b[0m\u001b[1;33m(\u001b[0m\u001b[0mvolume_oneName\u001b[0m\u001b[1;33m,\u001b[0m \u001b[1;36m3\u001b[0m\u001b[1;33m,\u001b[0m \u001b[1;36m3\u001b[0m\u001b[1;33m,\u001b[0m \u001b[1;36m3\u001b[0m\u001b[1;33m)\u001b[0m\u001b[1;33m\u001b[0m\u001b[0m\n\u001b[0m\u001b[0;32m     40\u001b[0m         \u001b[1;31m# 3.3 second, much faster than loading\u001b[0m\u001b[1;33m\u001b[0m\u001b[1;33m\u001b[0m\u001b[0m\n\u001b[0;32m     41\u001b[0m \u001b[1;33m\u001b[0m\u001b[0m\n",
      "\u001b[1;32m/oasis/projects/nsf/csd181/yuncong/virtualenv-1.9.1/yuncongve/lib/python2.7/site-packages/numpy/lib/function_base.pyc\u001b[0m in \u001b[0;36mgradient\u001b[1;34m(f, *varargs, **kwargs)\u001b[0m\n\u001b[0;32m   1047\u001b[0m         \u001b[1;32mif\u001b[0m \u001b[0my\u001b[0m\u001b[1;33m.\u001b[0m\u001b[0mshape\u001b[0m\u001b[1;33m[\u001b[0m\u001b[0maxis\u001b[0m\u001b[1;33m]\u001b[0m \u001b[1;33m<\u001b[0m \u001b[1;36m2\u001b[0m\u001b[1;33m:\u001b[0m\u001b[1;33m\u001b[0m\u001b[0m\n\u001b[0;32m   1048\u001b[0m             raise ValueError(\n\u001b[1;32m-> 1049\u001b[1;33m                 \u001b[1;34m\"Shape of array too small to calculate a numerical gradient, \"\u001b[0m\u001b[1;33m\u001b[0m\u001b[0m\n\u001b[0m\u001b[0;32m   1050\u001b[0m                 \"at least two elements are required.\")\n\u001b[0;32m   1051\u001b[0m \u001b[1;33m\u001b[0m\u001b[0m\n",
      "\u001b[1;31mValueError\u001b[0m: Shape of array too small to calculate a numerical gradient, at least two elements are required."
     ]
    }
   ],
   "source": [
    "# Compute Gradient - Annotation Volume\n",
    "\n",
    "# for stack in ['MD594', 'MD585', 'MD593', 'MD592', 'MD590', 'MD591', 'MD595', 'MD598', 'MD602']:\n",
    "# for stack in ['MD585', 'MD593', 'MD592', 'MD590', 'MD591', 'MD595', 'MD598', 'MD602']:\n",
    "for stack in ['MD594']:\n",
    "    \n",
    "    print stack\n",
    "    \n",
    "    # numpy sparse does not support 3d\n",
    "    section_bs_begin, section_bs_end = section_range_lookup[stack]\n",
    "\n",
    "    volume = bp.unpack_ndarray_file(os.path.join(volume_dir, '%(stack)s/%(stack)s_annotationVolume.bp' % \\\n",
    "                                                 {'stack': stack}))\n",
    "    \n",
    "    label_indices = set(np.unique(volume)) - {0}\n",
    "            \n",
    "#     volumes_allLabels = {labels_sided[i-1]: np.zeros_like(volume) for i in label_indices}\n",
    "\n",
    "    structure_bboxes = {}\n",
    "    with open(os.path.join(volume_dir, stack, stack+'_annotationVolume_landmarkBboxes.txt'), 'r') as f:\n",
    "        for ln in f.readlines():\n",
    "            ln_split = ln.split()\n",
    "            structure_bboxes[ln_split[0]] = map(int, ln_split[1:]) # xmin,xmax,ymin,ymax,zmin,zmax\n",
    "\n",
    "    t1 = time.time()\n",
    "    \n",
    "    for i in label_indices:\n",
    "        \n",
    "        name = labels_sided[i-1]\n",
    "        \n",
    "        xmin, xmax, ymin, ymax, zmin, zmax = structure_bboxes[name]\n",
    "        \n",
    "        mask_inBbox = volume[ymin:ymax+1, xmin:xmax+1, zmin:zmax+1] == i\n",
    "                \n",
    "        volume_oneName = np.zeros((ymax+1-ymin, xmax+1-xmin, zmax+1-zmin), np.float16)\n",
    "        volume_oneName[mask_inBbox] = i\n",
    "\n",
    "        t = time.time()\n",
    "        \n",
    "        try:\n",
    "            gy_gx_gz = np.gradient(volume_oneName, 3, 3, 3) \n",
    "        # 3.3 second, much faster than loading\n",
    "        except:\n",
    "            raise Exception('Error in computing gradient for %s.\\n' % name)\n",
    "\n",
    "        gx_padded = np.zeros_like(volume)\n",
    "        gx_padded[ymin:ymax+1, xmin:xmax+1, zmin:zmax+1] = gy_gx_gz[1]\n",
    "        gy_padded = np.zeros_like(volume)\n",
    "        gy_padded[ymin:ymax+1, xmin:xmax+1, zmin:zmax+1] = gy_gx_gz[0]\n",
    "        gz_padded = np.zeros_like(volume)\n",
    "        gz_padded[ymin:ymax+1, xmin:xmax+1, zmin:zmax+1] = gy_gx_gz[2]\n",
    "        \n",
    "        sys.stderr.write('gradient %s: %f seconds\\n' % (name, time.time() - t))\n",
    "\n",
    "        t = time.time()\n",
    "\n",
    "        bp.pack_ndarray_file(gy_padded, os.path.join(volume_dir, '%(stack)s/%(stack)s_annotationVolume_%(label)s_gy.bp' % {'stack':stack, 'label':name}))\n",
    "        bp.pack_ndarray_file(gx_padded, os.path.join(volume_dir, '%(stack)s/%(stack)s_annotationVolume_%(label)s_gx.bp' % {'stack':stack, 'label':name}))\n",
    "        bp.pack_ndarray_file(gz_padded, os.path.join(volume_dir, '%(stack)s/%(stack)s_annotationVolume_%(label)s_gz.bp' % {'stack':stack, 'label':name}))\n",
    "\n",
    "        del gy_gx_gz, gx_padded, gy_padded, gz_padded, volume_oneName\n",
    "\n",
    "        sys.stderr.write('save %s: %f seconds\\n' % (name, time.time() - t))\n",
    "\n",
    "\n",
    "    sys.stderr.write('overall: %f seconds\\n' % (time.time() - t1))"
   ]
  },
  {
   "cell_type": "code",
   "execution_count": 11,
   "metadata": {
    "collapsed": false
   },
   "outputs": [
    {
     "data": {
      "text/plain": [
       "(68, 51, 1)"
      ]
     },
     "execution_count": 11,
     "metadata": {},
     "output_type": "execute_result"
    }
   ],
   "source": [
    "volume_oneName.shape"
   ]
  },
  {
   "cell_type": "code",
   "execution_count": null,
   "metadata": {
    "collapsed": false
   },
   "outputs": [],
   "source": [
    "# Compute Gradient - Annotation Volume\n",
    "\n",
    "# for stack in ['MD594', 'MD585', 'MD593', 'MD592', 'MD590', 'MD591', 'MD595', 'MD598', 'MD602']:\n",
    "# for stack in ['MD585', 'MD593', 'MD592', 'MD590', 'MD591', 'MD595', 'MD598', 'MD602']:\n",
    "for stack in ['MD589']:\n",
    "    \n",
    "    print stack\n",
    "    \n",
    "    # numpy sparse does not support 3d\n",
    "    section_bs_begin, section_bs_end = section_range_lookup[stack]\n",
    "\n",
    "    volume = bp.unpack_ndarray_file(os.path.join(volume_dir, '%(stack)s/%(stack)s_annotationVolume.bp' % \\\n",
    "                                                 {'stack': stack}))\n",
    "    \n",
    "    label_indices = set(np.unique(volume)) - {0}\n",
    "            \n",
    "    volumes_allLabels = {labels_sided[i-1]: np.zeros_like(volume) for i in label_indices}\n",
    "    for i in label_indices:\n",
    "        mask = volume == i\n",
    "        volumes_allLabels[labels_sided[i-1]][mask] = volume[mask]\n",
    "        del mask\n",
    "\n",
    "    t1 = time.time()\n",
    "\n",
    "    for name in volumes_allLabels.iterkeys():\n",
    "\n",
    "        t = time.time()\n",
    "\n",
    "        gy_gx_gz = np.gradient(volumes_allLabels[name].astype(np.float32), 3, 3, 3) \n",
    "        # 3.3 second, much faster than loading\n",
    "\n",
    "        sys.stderr.write('gradient %s: %f seconds\\n' % (name, time.time() - t))\n",
    "\n",
    "        t = time.time()\n",
    "\n",
    "        bp.pack_ndarray_file(gy_gx_gz[0], volume_dir + '/%(stack)s/%(stack)s_annotationVolume_%(label)s_gy.bp' % {'stack':stack, 'label':name})\n",
    "        bp.pack_ndarray_file(gy_gx_gz[1], volume_dir + '/%(stack)s/%(stack)s_annotationVolume_%(label)s_gx.bp' % {'stack':stack, 'label':name})\n",
    "        bp.pack_ndarray_file(gy_gx_gz[2], volume_dir + '/%(stack)s/%(stack)s_annotationVolume_%(label)s_gz.bp' % {'stack':stack, 'label':name})\n",
    "\n",
    "        del gy_gx_gz\n",
    "\n",
    "        sys.stderr.write('save %s: %f seconds\\n' % (name, time.time() - t))\n",
    "\n",
    "\n",
    "    sys.stderr.write('overall: %f seconds\\n' % (time.time() - t1))"
   ]
  }
 ],
 "metadata": {
  "kernelspec": {
   "display_name": "Python 2",
   "language": "python",
   "name": "python2"
  },
  "language_info": {
   "codemirror_mode": {
    "name": "ipython",
    "version": 2
   },
   "file_extension": ".py",
   "mimetype": "text/x-python",
   "name": "python",
   "nbconvert_exporter": "python",
   "pygments_lexer": "ipython2",
   "version": "2.7.3"
  }
 },
 "nbformat": 4,
 "nbformat_minor": 0
}
