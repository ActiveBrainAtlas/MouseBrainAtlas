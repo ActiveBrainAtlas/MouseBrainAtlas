{
 "cells": [
  {
   "cell_type": "code",
   "execution_count": 1,
   "metadata": {
    "collapsed": true
   },
   "outputs": [],
   "source": [
    "%load_ext autoreload\n",
    "%autoreload 2"
   ]
  },
  {
   "cell_type": "code",
   "execution_count": 2,
   "metadata": {
    "collapsed": true
   },
   "outputs": [],
   "source": [
    "import numpy as np\n",
    "\n",
    "import sys\n",
    "import os\n",
    "\n",
    "sys.path.append(os.environ['REPO_DIR'] + '/utilities')\n",
    "from utilities2015 import *\n",
    "\n",
    "import time"
   ]
  },
  {
   "cell_type": "code",
   "execution_count": 3,
   "metadata": {
    "collapsed": true
   },
   "outputs": [],
   "source": [
    "volume_dir = '/oasis/projects/nsf/csd395/yuncong/CSHL_volumes/'"
   ]
  },
  {
   "cell_type": "code",
   "execution_count": 4,
   "metadata": {
    "collapsed": false
   },
   "outputs": [],
   "source": [
    "# labels_twoSides = []\n",
    "# labels_twoSides_indices = {}\n",
    "# with open(volume_dir + 'annotationVolume_withOuterContour_labelIndices.txt', 'r') as f:\n",
    "#     lines = f.readlines()\n",
    "#     for line in lines:\n",
    "#         name, index = line.split()\n",
    "#         labels_twoSides.append(name)\n",
    "#         labels_twoSides_indices[name] = int(index)\n",
    "        \n",
    "# labelMap_sidedToUnsided = {name: name if '_' not in name else name[:-2] for name in labels_twoSides_indices.keys()}\n",
    "# labels_unsided = ['BackG'] + sorted(set(labelMap_sidedToUnsided.values()) - {'BackG', 'outerContour'}) + ['outerContour']\n",
    "# labels_unsided_indices = dict((j, i) for i, j in enumerate(labels_unsided))"
   ]
  },
  {
   "cell_type": "code",
   "execution_count": null,
   "metadata": {
    "collapsed": false
   },
   "outputs": [
    {
     "name": "stderr",
     "output_type": "stream",
     "text": [
      "gradient 12N: 15.759815 seconds\n",
      "save 12N: 0.985922 seconds\n",
      "gradient 5N: 5.076856 seconds\n",
      "save 5N: 2.340882 seconds\n",
      "gradient 6N: 4.375379 seconds\n",
      "save 6N: 1.065128 seconds\n",
      "gradient 7N: 4.390528 seconds\n",
      "save 7N: 1.854456 seconds\n",
      "gradient 7n: 4.347592 seconds\n",
      "save 7n: 0.719493 seconds\n",
      "gradient AP: 4.355138 seconds\n",
      "save AP: 0.942928 seconds\n",
      "gradient Amb: 5.259562 seconds\n",
      "save Amb: 0.786261 seconds\n",
      "gradient LC: 4.385935 seconds\n",
      "save LC: 1.647485 seconds\n",
      "gradient LRt: 5.076401 seconds\n",
      "save LRt: 1.726969 seconds\n",
      "gradient Pn: 5.718898 seconds\n",
      "save Pn: 3.211652 seconds\n",
      "gradient R: 4.369667 seconds\n",
      "save R: 1.681405 seconds\n"
     ]
    }
   ],
   "source": [
    "# Compute Gradient\n",
    "\n",
    "# for stack in ['MD594', 'MD585', 'MD593', 'MD592', 'MD590', 'MD591', 'MD595', 'MD598', 'MD602']:\n",
    "# for stack in ['MD585', 'MD593', 'MD592', 'MD590', 'MD591', 'MD595', 'MD598', 'MD602']:\n",
    "for stack in ['MD589']:\n",
    "    \n",
    "    print stack\n",
    "    \n",
    "    # numpy sparse does not support 3d\n",
    "    section_bs_begin, section_bs_end = section_range_lookup[stack]\n",
    "\n",
    "    (volume_xmin, volume_xmax, volume_ymin, volume_ymax, volume_zmin, volume_zmax) = \\\n",
    "    np.loadtxt(os.path.join(volume_dir, '%(stack)s/%(stack)s_scoreVolume_limits.txt' % {'stack': stack}), dtype=np.int)\n",
    "            \n",
    "    volume2_allLabels = {}\n",
    "\n",
    "    for name in labels_unsided:\n",
    "\n",
    "        if name == 'BackG':\n",
    "            continue\n",
    "\n",
    "        volume2_roi = bp.unpack_ndarray_file(os.path.join(volume_dir, '%(stack)s/%(stack)s_scoreVolume_%(label)s.bp' % \\\n",
    "                                                          {'stack': stack, 'label': name})).astype(np.float16)\n",
    "        volume2_allLabels[name] = volume2_roi\n",
    "        del volume2_roi\n",
    "\n",
    "    test_ydim, test_xdim, test_zdim = volume2_allLabels.values()[0].shape\n",
    "    test_centroid = np.array([.5*test_xdim, .5*test_ydim, .5*test_zdim])\n",
    "\n",
    "    t1 = time.time()\n",
    "\n",
    "    for name in labels_unsided:\n",
    "\n",
    "        if name == 'BackG':\n",
    "            continue\n",
    "\n",
    "        t = time.time()\n",
    "\n",
    "        gy_gx_gz = np.gradient(volume2_allLabels[name].astype(np.float32), 3, 3, 3) \n",
    "        # 3.3 second, much faster than loading\n",
    "\n",
    "        sys.stderr.write('gradient %s: %f seconds\\n' % (name, time.time() - t))\n",
    "\n",
    "        t = time.time()\n",
    "\n",
    "        bp.pack_ndarray_file(gy_gx_gz[0], volume_dir + '/%(stack)s/%(stack)s_scoreVolume_%(label)s_gy.bp' % {'stack':stack, 'label':name})\n",
    "        bp.pack_ndarray_file(gy_gx_gz[1], volume_dir + '/%(stack)s/%(stack)s_scoreVolume_%(label)s_gx.bp' % {'stack':stack, 'label':name})\n",
    "        bp.pack_ndarray_file(gy_gx_gz[2], volume_dir + '/%(stack)s/%(stack)s_scoreVolume_%(label)s_gz.bp' % {'stack':stack, 'label':name})\n",
    "\n",
    "        del gy_gx_gz\n",
    "\n",
    "        sys.stderr.write('save %s: %f seconds\\n' % (name, time.time() - t))\n",
    "\n",
    "\n",
    "    sys.stderr.write('overall: %f seconds\\n' % (time.time() - t1))"
   ]
  },
  {
   "cell_type": "code",
   "execution_count": null,
   "metadata": {
    "collapsed": true
   },
   "outputs": [],
   "source": []
  }
 ],
 "metadata": {
  "kernelspec": {
   "display_name": "Python 2",
   "language": "python",
   "name": "python2"
  },
  "language_info": {
   "codemirror_mode": {
    "name": "ipython",
    "version": 2
   },
   "file_extension": ".py",
   "mimetype": "text/x-python",
   "name": "python",
   "nbconvert_exporter": "python",
   "pygments_lexer": "ipython2",
   "version": "2.7.3"
  }
 },
 "nbformat": 4,
 "nbformat_minor": 0
}
