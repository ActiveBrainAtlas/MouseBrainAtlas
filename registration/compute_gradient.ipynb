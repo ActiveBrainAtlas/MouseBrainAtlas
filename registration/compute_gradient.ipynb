{
 "cells": [
  {
   "cell_type": "code",
   "execution_count": 2,
   "metadata": {
    "collapsed": false
   },
   "outputs": [
    {
     "name": "stdout",
     "output_type": "stream",
     "text": [
      "Setting environment for Gordon\n"
     ]
    }
   ],
   "source": [
    "%load_ext autoreload\n",
    "%autoreload 2\n",
    "\n",
    "import numpy as np\n",
    "\n",
    "import sys\n",
    "import os\n",
    "\n",
    "sys.path.append(os.environ['REPO_DIR'] + '/utilities')\n",
    "from utilities2015 import *\n",
    "from metadata import *\n",
    "\n",
    "import time\n",
    "\n",
    "import matplotlib.pyplot as plt\n",
    "%matplotlib inline"
   ]
  },
  {
   "cell_type": "code",
   "execution_count": null,
   "metadata": {
    "collapsed": false
   },
   "outputs": [],
   "source": [
    "# Compute Gradient - score volume\n",
    "\n",
    "# for stack in ['MD594', 'MD585', 'MD593', 'MD592', 'MD590', 'MD591', 'MD595', 'MD598', 'MD602']:\n",
    "# for stack in ['MD585', 'MD593', 'MD592', 'MD590', 'MD591', 'MD595', 'MD598', 'MD602']:\n",
    "for stack in ['MD589']:\n",
    "    \n",
    "    print stack\n",
    "    \n",
    "    # numpy sparse does not support 3d\n",
    "    section_bs_begin, section_bs_end = section_range_lookup[stack]\n",
    "\n",
    "#     (volume_xmin, volume_xmax, volume_ymin, volume_ymax, volume_zmin, volume_zmax) = \\\n",
    "#     np.loadtxt(os.path.join(volume_dir, '%(stack)s/%(stack)s_scoreVolume_limits.txt' % {'stack': stack}), dtype=np.int)\n",
    "            \n",
    "    volume2_allLabels = {}\n",
    "\n",
    "    for name in labels_unsided:\n",
    "\n",
    "        if name == 'BackG':\n",
    "            continue\n",
    "\n",
    "        volume2_roi = bp.unpack_ndarray_file(os.path.join(volume_dir, '%(stack)s/%(stack)s_scoreVolume_%(label)s.bp' % \\\n",
    "                                                          {'stack': stack, 'label': name})).astype(np.float16)\n",
    "        volume2_allLabels[name] = volume2_roi\n",
    "        del volume2_roi\n",
    "\n",
    "#     test_ydim, test_xdim, test_zdim = volume2_allLabels.values()[0].shape\n",
    "#     test_centroid = np.array([.5*test_xdim, .5*test_ydim, .5*test_zdim])\n",
    "\n",
    "    t1 = time.time()\n",
    "\n",
    "    for name in labels_unsided:\n",
    "\n",
    "        if name == 'BackG':\n",
    "            continue\n",
    "\n",
    "        t = time.time()\n",
    "\n",
    "        gy_gx_gz = np.gradient(volume2_allLabels[name].astype(np.float32), 3, 3, 3) \n",
    "        # 3.3 second, much faster than loading\n",
    "\n",
    "        sys.stderr.write('gradient %s: %f seconds\\n' % (name, time.time() - t))\n",
    "\n",
    "        t = time.time()\n",
    "\n",
    "#         bp.pack_ndarray_file(gy_gx_gz[0], volume_dir + '/%(stack)s/%(stack)s_scoreVolume_%(label)s_gy.bp' % {'stack':stack, 'label':name})\n",
    "#         bp.pack_ndarray_file(gy_gx_gz[1], volume_dir + '/%(stack)s/%(stack)s_scoreVolume_%(label)s_gx.bp' % {'stack':stack, 'label':name})\n",
    "#         bp.pack_ndarray_file(gy_gx_gz[2], volume_dir + '/%(stack)s/%(stack)s_scoreVolume_%(label)s_gz.bp' % {'stack':stack, 'label':name})\n",
    "\n",
    "        del gy_gx_gz\n",
    "\n",
    "        sys.stderr.write('save %s: %f seconds\\n' % (name, time.time() - t))\n",
    "\n",
    "\n",
    "    sys.stderr.write('overall: %f seconds\\n' % (time.time() - t1))"
   ]
  },
  {
   "cell_type": "code",
   "execution_count": null,
   "metadata": {
    "collapsed": true
   },
   "outputs": [],
   "source": []
  },
  {
   "cell_type": "code",
   "execution_count": 3,
   "metadata": {
    "collapsed": false
   },
   "outputs": [
    {
     "name": "stdout",
     "output_type": "stream",
     "text": [
      "MD589\n"
     ]
    }
   ],
   "source": [
    "# Compute Gradient - Annotation Volume\n",
    "\n",
    "# for stack in ['MD594', 'MD585', 'MD593', 'MD592', 'MD590', 'MD591', 'MD595', 'MD598', 'MD602']:\n",
    "# for stack in ['MD585', 'MD593', 'MD592', 'MD590', 'MD591', 'MD595', 'MD598', 'MD602']:\n",
    "# for stack in ['MD594']:\n",
    "stack = 'MD589'\n",
    "    \n",
    "print stack\n",
    "\n",
    "# numpy sparse does not support 3d\n",
    "# section_bs_begin, section_bs_end = section_range_lookup[stack]\n",
    "\n",
    "volume = bp.unpack_ndarray_file(os.path.join(volume_dir, '%(stack)s/%(stack)s_down32_annotationVolume.bp' % \\\n",
    "                                             {'stack': stack}))"
   ]
  },
  {
   "cell_type": "code",
   "execution_count": 4,
   "metadata": {
    "collapsed": true
   },
   "outputs": [],
   "source": [
    "label_indices = set(np.unique(volume)) - {0}"
   ]
  },
  {
   "cell_type": "code",
   "execution_count": 5,
   "metadata": {
    "collapsed": false
   },
   "outputs": [],
   "source": [
    "#     volumes_allLabels = {labels_sided[i-1]: np.zeros_like(volume) for i in label_indices}\n",
    "\n",
    "structure_bboxes = {}\n",
    "with open(os.path.join(volume_dir, stack, stack+'_down32_annotationVolume_landmarkBboxes.txt'), 'r') as f:\n",
    "    for ln in f.readlines():\n",
    "        ln_split = ln.split()\n",
    "        structure_bboxes[ln_split[0]] = map(int, ln_split[1:]) # xmin,xmax,ymin,ymax,zmin,zmax"
   ]
  },
  {
   "cell_type": "code",
   "execution_count": 6,
   "metadata": {
    "collapsed": false
   },
   "outputs": [],
   "source": [
    "name_to_label = {}\n",
    "label_to_name = {}\n",
    "with open(os.path.join(volume_dir, stack, stack+'_down32_annotationVolume_nameToLabel.txt'), 'r') as f:\n",
    "    for line in f.readlines():\n",
    "        name, label = line.split()\n",
    "        name_to_label[name] = int(label)\n",
    "        label_to_name[int(label)] = name"
   ]
  },
  {
   "cell_type": "code",
   "execution_count": 7,
   "metadata": {
    "collapsed": true
   },
   "outputs": [],
   "source": [
    "gradient_dir = create_if_not_exists(os.path.join(volume_dir, stack, 'gradients'))"
   ]
  },
  {
   "cell_type": "code",
   "execution_count": 8,
   "metadata": {
    "collapsed": false
   },
   "outputs": [],
   "source": [
    "from skimage.filter import gaussian"
   ]
  },
  {
   "cell_type": "code",
   "execution_count": 13,
   "metadata": {
    "collapsed": false,
    "scrolled": true
   },
   "outputs": [
    {
     "name": "stderr",
     "output_type": "stream",
     "text": [
      "gradient 10N_L: 0.098471 seconds\n",
      "save 10N_L: 0.097885 seconds\n",
      "gradient 10N_R: 0.108572 seconds\n",
      "save 10N_R: 0.095491 seconds\n",
      "gradient 12N: 0.111779 seconds\n",
      "save 12N: 0.098758 seconds\n",
      "gradient 3N_L: 0.091537 seconds\n",
      "save 3N_L: 0.097217 seconds\n",
      "gradient 3N_R: 0.090407 seconds\n",
      "save 3N_R: 0.095437 seconds\n",
      "gradient 4N_L: 0.089674 seconds\n",
      "save 4N_L: 0.094887 seconds\n",
      "gradient 4N_R: 0.090114 seconds\n",
      "save 4N_R: 0.093555 seconds\n",
      "gradient 5N_L: 0.094961 seconds\n",
      "save 5N_L: 0.097231 seconds\n",
      "gradient 5N_R: 0.096735 seconds\n",
      "save 5N_R: 0.096996 seconds\n",
      "gradient 6N_L: 0.090062 seconds\n",
      "save 6N_L: 0.092638 seconds\n",
      "gradient 6N_R: 0.090824 seconds\n",
      "save 6N_R: 0.093438 seconds\n",
      "gradient 7N_L: 0.102022 seconds\n",
      "save 7N_L: 0.097529 seconds\n",
      "gradient 7N_R: 0.103272 seconds\n",
      "save 7N_R: 0.098985 seconds\n",
      "gradient 7n_L: 0.138122 seconds\n",
      "save 7n_L: 0.099453 seconds\n",
      "gradient 7n_R: 0.135545 seconds\n",
      "save 7n_R: 0.100429 seconds\n",
      "gradient AP: 0.091536 seconds\n",
      "save AP: 0.099403 seconds\n",
      "gradient Amb_L: 0.089593 seconds\n",
      "save Amb_L: 0.095853 seconds\n",
      "gradient Amb_R: 0.090151 seconds\n",
      "save Amb_R: 0.095114 seconds\n",
      "gradient DC_L: 0.133273 seconds\n",
      "save DC_L: 0.098570 seconds\n",
      "gradient DC_R: 0.122596 seconds\n",
      "save DC_R: 0.102204 seconds\n",
      "gradient IC: 0.434849 seconds\n",
      "save IC: 0.139931 seconds\n",
      "gradient LC_L: 0.093614 seconds\n",
      "save LC_L: 0.095359 seconds\n",
      "gradient LC_R: 0.093872 seconds\n",
      "save LC_R: 0.096619 seconds\n",
      "gradient LRt_L: 0.110098 seconds\n",
      "save LRt_L: 0.099406 seconds\n",
      "gradient LRt_R: 0.115069 seconds\n",
      "save LRt_R: 0.099868 seconds\n",
      "gradient PBG_L: 0.090807 seconds\n",
      "save PBG_L: 0.093437 seconds\n",
      "gradient PBG_R: 0.093121 seconds\n",
      "save PBG_R: 0.094917 seconds\n",
      "gradient Pn_L: 0.121204 seconds\n",
      "save Pn_L: 0.102741 seconds\n",
      "gradient Pn_R: 0.124097 seconds\n",
      "save Pn_R: 0.100825 seconds\n",
      "gradient RMC_L: 0.093371 seconds\n",
      "save RMC_L: 0.095546 seconds\n",
      "gradient RMC_R: 0.098747 seconds\n",
      "save RMC_R: 0.095866 seconds\n",
      "gradient RtTg: 0.195069 seconds\n",
      "save RtTg: 0.131133 seconds\n",
      "gradient SC: 0.765459 seconds\n",
      "save SC: 0.153038 seconds\n",
      "gradient SNC_L: 0.118553 seconds\n",
      "save SNC_L: 0.098957 seconds\n",
      "gradient SNC_R: 0.116284 seconds\n",
      "save SNC_R: 0.103232 seconds\n",
      "gradient SNR_L: 0.178103 seconds\n",
      "save SNR_L: 0.108199 seconds\n",
      "gradient SNR_R: 0.175279 seconds\n",
      "save SNR_R: 0.103244 seconds\n",
      "gradient Sp5C_L: 0.170142 seconds\n",
      "save Sp5C_L: 0.108370 seconds\n",
      "gradient Sp5C_R: 0.209906 seconds\n",
      "save Sp5C_R: 0.115678 seconds\n",
      "gradient Sp5I_L: 0.134648 seconds\n",
      "save Sp5I_L: 0.101527 seconds\n",
      "gradient Sp5I_R: 0.104000 seconds\n",
      "save Sp5I_R: 0.097569 seconds\n",
      "gradient Sp5O_L: 0.134160 seconds\n",
      "save Sp5O_L: 0.109222 seconds\n",
      "gradient Sp5O_R: 0.120288 seconds\n",
      "save Sp5O_R: 0.101239 seconds\n",
      "gradient Tz_L: 0.096689 seconds\n",
      "save Tz_L: 0.095948 seconds\n",
      "gradient Tz_R: 0.095763 seconds\n",
      "save Tz_R: 0.094993 seconds\n",
      "gradient VCA_L: 0.118456 seconds\n",
      "save VCA_L: 0.100544 seconds\n",
      "gradient VCA_R: 0.119569 seconds\n",
      "save VCA_R: 0.101659 seconds\n",
      "gradient VCP_L: 0.104583 seconds\n",
      "save VCP_L: 0.098575 seconds\n",
      "gradient VCP_R: 0.109766 seconds\n",
      "save VCP_R: 0.098307 seconds\n",
      "gradient VLL_L: 0.168463 seconds\n",
      "save VLL_L: 0.103260 seconds\n",
      "gradient VLL_R: 0.132623 seconds\n",
      "save VLL_R: 0.106026 seconds\n",
      "overall: 14.446134 seconds\n"
     ]
    }
   ],
   "source": [
    "t1 = time.time()\n",
    "\n",
    "for i in label_indices:\n",
    "\n",
    "    name = label_to_name[i]\n",
    "\n",
    "    xmin, xmax, ymin, ymax, zmin, zmax = structure_bboxes[name]\n",
    "\n",
    "    mask_inBbox = volume[ymin:ymax+1, xmin:xmax+1, zmin:zmax+1] == i\n",
    "\n",
    "    volume_oneName = np.zeros((ymax+1-ymin, xmax+1-xmin, zmax+1-zmin), np.float16)\n",
    "    volume_oneName[mask_inBbox] = 1.\n",
    "    \n",
    "    volume_oneName = gaussian(volume_oneName, 3)\n",
    "\n",
    "    t = time.time()\n",
    "\n",
    "    try:\n",
    "        gy_gx_gz_inBox = np.gradient(volume_oneName, 3, 3, 3) \n",
    "    # 3.3 second, much faster than loading\n",
    "    except:\n",
    "        raise Exception('Error in computing gradient for %s.\\n' % name)\n",
    "\n",
    "    gx = np.zeros_like(volume, dtype=np.float16)\n",
    "    gx[ymin:ymax+1, xmin:xmax+1, zmin:zmax+1] = gy_gx_gz_inBox[1]\n",
    "    gy = np.zeros_like(volume, dtype=np.float16)\n",
    "    gy[ymin:ymax+1, xmin:xmax+1, zmin:zmax+1] = gy_gx_gz_inBox[0]\n",
    "    gz = np.zeros_like(volume, dtype=np.float16)\n",
    "    gz[ymin:ymax+1, xmin:xmax+1, zmin:zmax+1] = gy_gx_gz_inBox[2]\n",
    "\n",
    "    sys.stderr.write('gradient %s: %f seconds\\n' % (name, time.time() - t))\n",
    "\n",
    "    t = time.time()\n",
    "\n",
    "    bp.pack_ndarray_file(gy, os.path.join(gradient_dir, '%(stack)s_down32_annotationVolume_%(label)s_gy.bp' % {'stack':stack, 'label':name}))\n",
    "    bp.pack_ndarray_file(gx, os.path.join(gradient_dir, '%(stack)s_down32_annotationVolume_%(label)s_gx.bp' % {'stack':stack, 'label':name}))\n",
    "    bp.pack_ndarray_file(gz, os.path.join(gradient_dir, '%(stack)s_down32_annotationVolume_%(label)s_gz.bp' % {'stack':stack, 'label':name}))\n",
    "\n",
    "#     del gy_gx_gz, gx_padded, gy_padded, gz_padded, volume_oneName\n",
    "\n",
    "    sys.stderr.write('save %s: %f seconds\\n' % (name, time.time() - t))\n",
    "\n",
    "\n",
    "sys.stderr.write('overall: %f seconds\\n' % (time.time() - t1))"
   ]
  },
  {
   "cell_type": "code",
   "execution_count": null,
   "metadata": {
    "collapsed": false
   },
   "outputs": [],
   "source": [
    "# # Compute Gradient - Annotation Volume\n",
    "\n",
    "# # for stack in ['MD594', 'MD585', 'MD593', 'MD592', 'MD590', 'MD591', 'MD595', 'MD598', 'MD602']:\n",
    "# # for stack in ['MD585', 'MD593', 'MD592', 'MD590', 'MD591', 'MD595', 'MD598', 'MD602']:\n",
    "# for stack in ['MD589']:\n",
    "    \n",
    "#     print stack\n",
    "    \n",
    "#     # numpy sparse does not support 3d\n",
    "#     section_bs_begin, section_bs_end = section_range_lookup[stack]\n",
    "\n",
    "#     volume = bp.unpack_ndarray_file(os.path.join(volume_dir, '%(stack)s/%(stack)s_annotationVolume.bp' % \\\n",
    "#                                                  {'stack': stack}))\n",
    "    \n",
    "#     label_indices = set(np.unique(volume)) - {0}\n",
    "            \n",
    "#     volumes_allLabels = {labels_sided[i-1]: np.zeros_like(volume) for i in label_indices}\n",
    "#     for i in label_indices:\n",
    "#         mask = volume == i\n",
    "#         volumes_allLabels[labels_sided[i-1]][mask] = volume[mask]\n",
    "#         del mask\n",
    "\n",
    "#     t1 = time.time()\n",
    "\n",
    "#     for name in volumes_allLabels.iterkeys():\n",
    "\n",
    "#         t = time.time()\n",
    "\n",
    "#         gy_gx_gz = np.gradient(volumes_allLabels[name].astype(np.float32), 3, 3, 3) \n",
    "#         # 3.3 second, much faster than loading\n",
    "\n",
    "#         sys.stderr.write('gradient %s: %f seconds\\n' % (name, time.time() - t))\n",
    "\n",
    "#         t = time.time()\n",
    "\n",
    "#         bp.pack_ndarray_file(gy_gx_gz[0], volume_dir + '/%(stack)s/%(stack)s_annotationVolume_%(label)s_gy.bp' % {'stack':stack, 'label':name})\n",
    "#         bp.pack_ndarray_file(gy_gx_gz[1], volume_dir + '/%(stack)s/%(stack)s_annotationVolume_%(label)s_gx.bp' % {'stack':stack, 'label':name})\n",
    "#         bp.pack_ndarray_file(gy_gx_gz[2], volume_dir + '/%(stack)s/%(stack)s_annotationVolume_%(label)s_gz.bp' % {'stack':stack, 'label':name})\n",
    "\n",
    "#         del gy_gx_gz\n",
    "\n",
    "#         sys.stderr.write('save %s: %f seconds\\n' % (name, time.time() - t))\n",
    "\n",
    "\n",
    "#     sys.stderr.write('overall: %f seconds\\n' % (time.time() - t1))"
   ]
  }
 ],
 "metadata": {
  "kernelspec": {
   "display_name": "Python 2",
   "language": "python",
   "name": "python2"
  },
  "language_info": {
   "codemirror_mode": {
    "name": "ipython",
    "version": 2
   },
   "file_extension": ".py",
   "mimetype": "text/x-python",
   "name": "python",
   "nbconvert_exporter": "python",
   "pygments_lexer": "ipython2",
   "version": "2.7.3"
  }
 },
 "nbformat": 4,
 "nbformat_minor": 0
}
