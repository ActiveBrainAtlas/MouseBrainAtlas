{
 "cells": [
  {
   "cell_type": "code",
   "execution_count": null,
   "metadata": {
    "collapsed": true
   },
   "outputs": [],
   "source": [
    "%load_ext autoreload\n",
    "%autoreload 2\n",
    "\n",
    "import numpy as np\n",
    "\n",
    "import sys\n",
    "import os\n",
    "\n",
    "sys.path.append(os.environ['REPO_DIR'] + '/utilities')\n",
    "from utilities2015 import *\n",
    "from registration_utilities import parallel_where_binary, Aligner4\n",
    "from metadata import *\n",
    "from data_manager import *\n",
    "\n",
    "import matplotlib.pyplot as plt\n",
    "%matplotlib inline\n",
    "\n",
    "from joblib import Parallel, delayed\n",
    "import time"
   ]
  },
  {
   "cell_type": "code",
   "execution_count": null,
   "metadata": {
    "collapsed": true
   },
   "outputs": [],
   "source": [
    "stack_fixed = 'MD590'"
   ]
  },
  {
   "cell_type": "code",
   "execution_count": null,
   "metadata": {
    "collapsed": true
   },
   "outputs": [],
   "source": [
    "train_sample_scheme = 1\n",
    "global_transform_scheme = 1\n",
    "\n",
    "local_transform_scheme = 3\n",
    "# 1: no regularization\n",
    "# 2: with regularization\n",
    "# 3: no regularization, with surround\n",
    "# 4: with regularization, with surround\n",
    "\n",
    "if local_transform_scheme == 1:\n",
    "    reg_weights = np.array([0.,0.,0.])\n",
    "elif local_transform_scheme == 2:\n",
    "    reg_weights = np.array([1e-4, 1e-4, 1e-4])\n",
    "elif local_transform_scheme == 3:\n",
    "    reg_weights = np.array([0.,0.,0.])\n",
    "elif local_transform_scheme == 4:\n",
    "    reg_weights = np.array([1e-4, 1e-4, 1e-4])\n",
    "    \n",
    "stack_moving = 'atlas_on_MD589'"
   ]
  },
  {
   "cell_type": "code",
   "execution_count": null,
   "metadata": {
    "collapsed": true
   },
   "outputs": [],
   "source": [
    "paired_structures = ['5N', '6N', '7N', '7n', 'Amb', 'LC', 'LRt', 'Pn', 'Tz', 'VLL', 'RMC', 'SNC', 'SNR', '3N', '4N',\n",
    "                    'Sp5I', 'Sp5O', 'Sp5C', 'PBG', '10N', 'VCA', 'VCP', 'DC']\n",
    "singular_structures = ['AP', '12N', 'RtTg', 'SC', 'IC']\n",
    "structures = paired_structures + singular_structures"
   ]
  },
  {
   "cell_type": "code",
   "execution_count": null,
   "metadata": {
    "collapsed": true
   },
   "outputs": [],
   "source": [
    "label_to_name_fixed = {i+1: name for i, name in enumerate(sorted(structures))}\n",
    "name_to_label_fixed = {n:l for l, n in label_to_name_fixed.iteritems()}"
   ]
  },
  {
   "cell_type": "code",
   "execution_count": null,
   "metadata": {
    "collapsed": true
   },
   "outputs": [],
   "source": [
    "structures_sided = sum([[n] if n in singular_structures \n",
    "                        else [convert_to_left_name(n), convert_to_right_name(n)] \n",
    "                        for n in structures], [])"
   ]
  },
  {
   "cell_type": "code",
   "execution_count": null,
   "metadata": {
    "collapsed": true
   },
   "outputs": [],
   "source": [
    "if local_transform_scheme == 1 or local_transform_scheme == 2:\n",
    "    \n",
    "    label_to_name_moving = {i+1: name for i, name in enumerate(structures_sided)}\n",
    "    name_to_label_moving = {n:l for l, n in label_to_name_moving.iteritems()}\n",
    "\n",
    "elif local_transform_scheme == 3 or local_transform_scheme == 4:\n",
    "\n",
    "    structures_sided_plus_surround = sum([[s, s+'_surround'] for s in structures_sided], [])\n",
    "\n",
    "    label_to_name_moving = {i+1: name for i, name in enumerate(structures_sided_plus_surround)}\n",
    "    name_to_label_moving = {n:l for l, n in label_to_name_moving.iteritems()}"
   ]
  },
  {
   "cell_type": "code",
   "execution_count": null,
   "metadata": {
    "collapsed": true
   },
   "outputs": [],
   "source": [
    "def convert_to_original_name(name):\n",
    "    return name.split('_')[0]\n",
    "\n",
    "labelIndexMap_m2f = {}\n",
    "for label_m, name_m in label_to_name_moving.iteritems():\n",
    "    labelIndexMap_m2f[label_m] = name_to_label_fixed[convert_to_original_name(name_m)]"
   ]
  },
  {
   "cell_type": "code",
   "execution_count": null,
   "metadata": {
    "collapsed": true
   },
   "outputs": [],
   "source": [
    "label_weights_m = {}\n",
    "for label_m, name_m in label_to_name_moving.iteritems():\n",
    "    if 'surround' in name_m:\n",
    "        if local_transform_scheme == 1 or local_transform_scheme == 2:\n",
    "            label_weights_m[label_m] = 0\n",
    "        elif local_transform_scheme == 3 or local_transform_scheme == 4:\n",
    "            label_weights_m[label_m] = -1\n",
    "    else:\n",
    "        label_weights_m[label_m] = 1"
   ]
  },
  {
   "cell_type": "code",
   "execution_count": null,
   "metadata": {
    "collapsed": true
   },
   "outputs": [],
   "source": [
    "volume_fixed = {name_to_label_fixed[name]: DataManager.load_score_volume(stack=stack_fixed, label=name, downscale=32, train_sample_scheme=train_sample_scheme)\n",
    "               for name in structures}\n",
    "\n",
    "print volume_fixed.values()[0].shape\n",
    "print volume_fixed.values()[0].dtype\n",
    "\n",
    "vol_fixed_xmin, vol_fixed_ymin, vol_fixed_zmin = (0,0,0)\n",
    "vol_fixed_ymax, vol_fixed_xmax, vol_fixed_zmax = np.array(volume_fixed.values()[0].shape) - 1\n",
    "vol_fixed_xdim = vol_fixed_xmax + 1 - vol_fixed_xmin\n",
    "vol_fixed_ydim = vol_fixed_ymax + 1 - vol_fixed_ymin\n",
    "vol_fixed_zdim = vol_fixed_zmax + 1 - vol_fixed_zmin"
   ]
  },
  {
   "cell_type": "code",
   "execution_count": null,
   "metadata": {
    "collapsed": true
   },
   "outputs": [],
   "source": [
    "if local_transform_scheme == 1 or local_transform_scheme == 2:\n",
    "\n",
    "    volume_moving = {name_to_label_moving[name_s]: DataManager.load_transformed_volume(stack_m='atlas_on_MD589',\n",
    "                                                                                       type_m='score',\n",
    "                                                                                       stack_f=stack_fixed,\n",
    "                                                                                       type_f='score',\n",
    "                                                                                       downscale=32,\n",
    "                                                                                       train_sample_scheme_f=train_sample_scheme,\n",
    "                                                                                       label=name_s)\n",
    "                     for name_s in structures_sided}\n",
    "\n",
    "elif local_transform_scheme == 3 or local_transform_scheme == 4:\n",
    "    \n",
    "    volume_moving = {name_to_label_moving[name_s]: DataManager.load_transformed_volume(stack_m='atlas_on_MD589',\n",
    "                                                                                       type_m='score',\n",
    "                                                                                       stack_f=stack_fixed,\n",
    "                                                                                       type_f='score',\n",
    "                                                                                       downscale=32,\n",
    "                                                                                       train_sample_scheme_f=train_sample_scheme,\n",
    "                                                                                       label=name_s)\n",
    "                     for name_s in structures_sided_plus_surround}\n",
    "    \n",
    "\n",
    "print volume_moving.values()[0].shape\n",
    "print volume_moving.values()[0].dtype\n",
    "\n",
    "vol_moving_xmin, vol_moving_ymin, vol_moving_zmin = (0,0,0)\n",
    "vol_moving_ymax, vol_moving_xmax, vol_moving_zmax = np.array(volume_moving.values()[0].shape) - 1"
   ]
  },
  {
   "cell_type": "code",
   "execution_count": null,
   "metadata": {
    "collapsed": true
   },
   "outputs": [],
   "source": []
  },
  {
   "cell_type": "code",
   "execution_count": 1,
   "metadata": {
    "collapsed": true
   },
   "outputs": [],
   "source": [
    "import numdifftools as nd\n",
    "# https://media.readthedocs.org/pdf/numdifftools/latest/numdifftools.pdf"
   ]
  },
  {
   "cell_type": "code",
   "execution_count": null,
   "metadata": {
    "collapsed": true
   },
   "outputs": [],
   "source": [
    "# for name_s in structures_sided:\n",
    "for name_s in ['IC']:\n",
    "    \n",
    "    print name_s\n",
    "\n",
    "    if local_transform_scheme == 1 or local_transform_scheme == 2:\n",
    "    \n",
    "        aligner = Aligner4(volume_fixed, {name_to_label_moving[name_s]: \n",
    "                                          volume_moving[name_to_label_moving[name_s]]}, \\\n",
    "                           labelIndexMap_m2f={name_to_label_moving[name_s]:\n",
    "                                              name_to_label_fixed[convert_name_to_unsided(name_s)]})\n",
    "\n",
    "    elif local_transform_scheme == 3 or local_transform_scheme == 4:\n",
    "                \n",
    "        aligner = Aligner4(volume_fixed, {name_to_label_moving[name_s]: volume_moving[name_to_label_moving[name_s]],\n",
    "                                         name_to_label_moving[name_s+'_surround']: volume_moving[name_to_label_moving[name_s+'_surround']]}, \\\n",
    "                        labelIndexMap_m2f={name_to_label_moving[name_s]: name_to_label_fixed[convert_name_to_unsided(name_s)],\n",
    "                                          name_to_label_moving[name_s+'_surround']: name_to_label_fixed[convert_to_original_name(name_s+'_surround')]})\n",
    "\n",
    "    # aligner.set_centroid(centroid_m='volume_centroid', centroid_f='volume_centroid')\n",
    "    aligner.set_centroid(centroid_m='structure_centroid', centroid_f='centroid_m', \n",
    "                         indices_m=[name_to_label_moving[name_s]])"
   ]
  },
  {
   "cell_type": "code",
   "execution_count": null,
   "metadata": {
    "collapsed": true
   },
   "outputs": [],
   "source": [
    "def perturb(tx, ty, tz):\n",
    "    return aligner.compute_score(T + [0,0,0,tx,0,0,0,ty,0,0,0,tz])"
   ]
  },
  {
   "cell_type": "code",
   "execution_count": null,
   "metadata": {
    "collapsed": true
   },
   "outputs": [],
   "source": [
    "dets = []\n",
    "step_sizes = np.linspace(1, 20, 11)\n",
    "\n",
    "for step_size in step_sizes:\n",
    "    h = nd.Hessian(lambda (tx, ty, tz): perturb(tx, ty, tz), step=(step_size, step_size, step_size))\n",
    "    H = h((0,0,0))\n",
    "#     s, v = np.linalg.eigh(H)\n",
    "    d = np.abs(np.linalg.det(H))\n",
    "    dets.append(d)"
   ]
  },
  {
   "cell_type": "code",
   "execution_count": null,
   "metadata": {
    "collapsed": true
   },
   "outputs": [],
   "source": [
    "plt.plot(dets);\n",
    "plt.xlabel('step size');\n",
    "plt.xticks(range(len(step_sizes)), map(lambda x: '%.2f' % x, step_sizes));\n",
    "plt.ylabel('determinant of Hessian matrix');"
   ]
  }
 ],
 "metadata": {
  "kernelspec": {
   "display_name": "Python 2",
   "language": "python",
   "name": "python2"
  },
  "language_info": {
   "codemirror_mode": {
    "name": "ipython",
    "version": 2
   },
   "file_extension": ".py",
   "mimetype": "text/x-python",
   "name": "python",
   "nbconvert_exporter": "python",
   "pygments_lexer": "ipython2",
   "version": "2.7.3"
  }
 },
 "nbformat": 4,
 "nbformat_minor": 1
}
