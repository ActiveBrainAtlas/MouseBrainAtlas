{
 "cells": [
  {
   "cell_type": "code",
   "execution_count": 1,
   "metadata": {},
   "outputs": [
    {
     "name": "stderr",
     "output_type": "stream",
     "text": [
      "/usr/local/lib/python2.7/dist-packages/matplotlib/__init__.py:1405: UserWarning: \n",
      "This call to matplotlib.use() has no effect because the backend has already\n",
      "been chosen; matplotlib.use() must be called *before* pylab, matplotlib.pyplot,\n",
      "or matplotlib.backends is imported for the first time.\n",
      "\n",
      "  warnings.warn(_use_error_msg)\n",
      "No vtk\n"
     ]
    },
    {
     "name": "stdout",
     "output_type": "stream",
     "text": [
      "Setting environment for AWS compute node\n"
     ]
    }
   ],
   "source": [
    "%load_ext autoreload\n",
    "%autoreload 2\n",
    "\n",
    "import sys\n",
    "import os\n",
    "import time\n",
    "from collections import defaultdict\n",
    "\n",
    "import numpy as np\n",
    "import matplotlib.pyplot as plt\n",
    "%matplotlib inline\n",
    "import numdifftools as nd\n",
    "\n",
    "sys.path.append(os.environ['REPO_DIR'] + '/utilities')\n",
    "from utilities2015 import *\n",
    "from metadata import *\n",
    "from data_manager import *\n",
    "from registration_utilities import *\n",
    "from annotation_utilities import *"
   ]
  },
  {
   "cell_type": "code",
   "execution_count": 43,
   "metadata": {
    "collapsed": true
   },
   "outputs": [],
   "source": [
    "v1 = np.zeros((100,100,100))\n",
    "v1[30:50, :, 40:60] = 1\n",
    "v1[10:30, :, 40:60] = -1\n",
    "v1[50:70, :, 40:60] = -1\n",
    "v1 = np.pad(v1, 50, 'constant', constant_values=0)\n",
    "\n",
    "v2 = np.zeros((100,100,100))\n",
    "v2[20:40, 50:, 40:60] = 1\n",
    "v2[:20, 50:, 40:60] = -1\n",
    "v2[40:60, 50:, 40:60] = -1\n",
    "v2[20:40, :50, 40:60] = -1\n",
    "v2[40:60, :50, 40:60] = 1\n",
    "v2[60:80, :50, 40:60] = -1\n",
    "v2 = np.pad(v2, 50, 'constant', constant_values=0)"
   ]
  },
  {
   "cell_type": "code",
   "execution_count": 3,
   "metadata": {
    "collapsed": true
   },
   "outputs": [],
   "source": [
    "# v1 = np.zeros((100,100,100))\n",
    "# v1[30:50, :-40, 40:60] = 1\n",
    "# v1 = np.pad(v1, 50, 'constant')\n",
    "\n",
    "# v2 = np.zeros((100,100,100))\n",
    "# v2[20:40, 40:, 40:60] = 1\n",
    "# v2 = np.pad(v2, 50, 'constant')"
   ]
  },
  {
   "cell_type": "code",
   "execution_count": 44,
   "metadata": {
    "scrolled": true
   },
   "outputs": [
    {
     "data": {
      "image/png": "[encoded data removed]",
      "text/plain": [
       "<matplotlib.figure.Figure at 0x7fab03441490>"
      ]
     },
     "metadata": {},
     "output_type": "display_data"
    },
    {
     "data": {
      "image/png": "[encoded data removed]",
      "text/plain": [
       "<matplotlib.figure.Figure at 0x7fab03441590>"
      ]
     },
     "metadata": {},
     "output_type": "display_data"
    }
   ],
   "source": [
    "display_volume_sections(v1)\n",
    "display_volume_sections(v2)"
   ]
  },
  {
   "cell_type": "code",
   "execution_count": 45,
   "metadata": {
    "collapsed": true
   },
   "outputs": [],
   "source": [
    "gy1, gx1, gz1 = np.gradient(v1)\n",
    "gy2, gx2, gz2 = np.gradient(v2)"
   ]
  },
  {
   "cell_type": "code",
   "execution_count": 46,
   "metadata": {},
   "outputs": [],
   "source": [
    "nz_ys, nz_xs, nz_zs = np.where(v1)\n",
    "nz_xyzs = np.c_[nz_xs, nz_ys, nz_zs]\n",
    "n_nz = len(nz_xs)\n",
    "\n",
    "# Phi = np.c_[np.ones((n_nz,)), nz_xs, nz_ys, nz_zs]"
   ]
  },
  {
   "cell_type": "code",
   "execution_count": 47,
   "metadata": {
    "collapsed": true
   },
   "outputs": [],
   "source": [
    "A = np.array([v1[y,x,z] for x,y,z in nz_xyzs])"
   ]
  },
  {
   "cell_type": "code",
   "execution_count": 48,
   "metadata": {
    "collapsed": true
   },
   "outputs": [],
   "source": [
    "ctrl_ys, ctrl_xs, ctrl_zs = np.meshgrid(np.arange(0, 100, 10), np.arange(0, 100, 10), np.arange(0, 100, 10))\n",
    "ctrl_xyzs = np.c_[ctrl_xs.flatten(), ctrl_ys.flatten(), ctrl_zs.flatten()]\n",
    "n_ctrl = len(ctrl_xyzs)"
   ]
  },
  {
   "cell_type": "code",
   "execution_count": 49,
   "metadata": {
    "collapsed": true
   },
   "outputs": [],
   "source": [
    "Kappa_ctrlPts = np.array([np.linalg.norm(ctrl_xyzs - p, axis=1) for p in ctrl_xyzs])"
   ]
  },
  {
   "cell_type": "code",
   "execution_count": 52,
   "metadata": {
    "collapsed": true
   },
   "outputs": [],
   "source": [
    "lr = 1e-4"
   ]
  },
  {
   "cell_type": "code",
   "execution_count": null,
   "metadata": {
    "scrolled": true
   },
   "outputs": [],
   "source": [
    "Wx = np.zeros((n_ctrl,))\n",
    "Wy = np.zeros((n_ctrl,))\n",
    "Wz = np.zeros((n_ctrl,))\n",
    "\n",
    "dCdWx_historical = 0\n",
    "dCdWy_historical = 0\n",
    "dCdWz_historical = 0\n",
    "\n",
    "for iteration in range(100):\n",
    "    print iteration\n",
    "\n",
    "    r = np.array([np.linalg.norm(ctrl_xyzs - p, axis=1) for p in nz_xyzs])\n",
    "\n",
    "    Kappa = r\n",
    "\n",
    "    q = nz_xyzs + np.dot(Kappa, np.c_[Wx, Wy, Wz])\n",
    "\n",
    "    ###################################\n",
    "    \n",
    "    S = np.array([v2[int(y), int(x), int(z)] for x,y,z in q])\n",
    "    F = np.dot(A, S) - np.dot(Wx.T, np.dot(Kappa_ctrlPts, Wx)) - \\\n",
    "    np.dot(Wy.T, np.dot(Kappa_ctrlPts, Wy)) - \\\n",
    "    np.dot(Wz.T, np.dot(Kappa_ctrlPts, Wz))\n",
    "    print F\n",
    "    \n",
    "#     grid_points = [(x,y,100) for x in range(0,v1.shape[1],2) for y in range(0,v1.shape[0],2)]\n",
    "#     dist_to_ctrl = np.array([np.linalg.norm(ctrl_xyzs - p, axis=1) for p in grid_points])\n",
    "#     u = dist_to_ctrl\n",
    "#     warped_grid_points = grid_points + np.dot(u, np.c_[Wx, Wy, Wz])\n",
    "    \n",
    "#     plt.scatter(warped_grid_points[:,0], warped_grid_points[:,1], s=2)\n",
    "#     plt.show()\n",
    "    \n",
    "    #####################################\n",
    "    \n",
    "    dSdq_allTestPts = np.array([(gx2[y,x,z], gy2[y,x,z], gz2[y,x,z]) for x,y,z in q.astype(np.int)])\n",
    "\n",
    "    dqxdWx = Kappa\n",
    "    dqydWy = Kappa\n",
    "    dqzdWz = Kappa\n",
    "\n",
    "    dSdWx_allTestPts = dSdq_allTestPts[:,0][:,None] * dqxdWx\n",
    "    dSdWy_allTestPts = dSdq_allTestPts[:,1][:,None] * dqydWy\n",
    "    dSdWz_allTestPts = dSdq_allTestPts[:,2][:,None] * dqzdWz\n",
    "\n",
    "    dFdWx = np.dot(A, dSdWx_allTestPts)\n",
    "    dFdWy = np.dot(A, dSdWy_allTestPts)\n",
    "    dFdWz = np.dot(A, dSdWz_allTestPts)\n",
    "\n",
    "    dQdWx = 2*np.dot(Kappa_ctrlPts, Wx)\n",
    "    dQdWy = 2*np.dot(Kappa_ctrlPts, Wy)\n",
    "    dQdWz = 2*np.dot(Kappa_ctrlPts, Wz)\n",
    "    \n",
    "    gamma = 0\n",
    "    \n",
    "    dCdWx = dFdWx - gamma * dQdWx\n",
    "    dCdWy = dFdWy - gamma * dQdWy\n",
    "    dCdWz = dFdWz - gamma * dQdWz\n",
    "    \n",
    "    # AdaGrad Rule\n",
    "    dCdWx_historical += dCdWx**2\n",
    "    dCdWy_historical += dCdWy**2\n",
    "    dCdWz_historical += dCdWz**2\n",
    "    \n",
    "    dCdWx_adjusted = dCdWx / np.sqrt(dCdWx_historical + 1e-10)\n",
    "    dCdWy_adjusted = dCdWy / np.sqrt(dCdWy_historical + 1e-10)\n",
    "    dCdWz_adjusted = dCdWz / np.sqrt(dCdWz_historical + 1e-10)\n",
    "    \n",
    "    Wx = Wx + lr * dCdWx_adjusted\n",
    "    Wy = Wy + lr * dCdWy_adjusted\n",
    "    Wz = Wz + lr * dCdWz_adjusted\n",
    "    \n",
    "    ###############################\n",
    "    \n",
    "#     nzvoxels_m_temp = parallel_where_binary(v1 > 0)\n",
    "\n",
    "#     dist_to_ctrl = np.array([np.linalg.norm(ctrl_xyzs - p, axis=1) for p in nz_xyzs])\n",
    "#     u = dist_to_ctrl\n",
    "#     nzs_m_aligned_to_f = (nz_xyzs + np.dot(u, np.c_[Wx, Wy, Wz])).astype(np.int)\n",
    "\n",
    "#     ydim_f, xdim_f, zdim_f = v2.shape\n",
    "\n",
    "#     volume_m_aligned_to_f = np.zeros(v2.shape, v1.dtype)\n",
    "\n",
    "#     xs_f, ys_f, zs_f = nzs_m_aligned_to_f.T\n",
    "\n",
    "#     valid = (xs_f >= 0) & (ys_f >= 0) & (zs_f >= 0) & \\\n",
    "#     (xs_f < xdim_f) & (ys_f < ydim_f) & (zs_f < zdim_f)\n",
    "\n",
    "#     xs_m, ys_m, zs_m = nz_xyzs.T\n",
    "\n",
    "#     volume_m_aligned_to_f[ys_f[valid], xs_f[valid], zs_f[valid]] = \\\n",
    "#     v1[ys_m[valid], xs_m[valid], zs_m[valid]]\n",
    "\n",
    "#     del nzs_m_aligned_to_f\n",
    "\n",
    "#     if np.issubdtype(volume_m_aligned_to_f.dtype, np.float):\n",
    "#         dense_volume = fill_sparse_score_volume(volume_m_aligned_to_f)\n",
    "#     elif np.issubdtype(volume_m_aligned_to_f.dtype, np.integer):\n",
    "#         dense_volume = fill_sparse_volume(volume_m_aligned_to_f)\n",
    "#     else:\n",
    "#         raise Exception('transform_volume: Volume must be either float or int.')\n",
    "    \n",
    "#     display_images_in_grids([v1[..., 100], v2[..., 100], dense_volume[..., 100]],\n",
    "#                         nc=3, titles=['moving', 'fixed', 'deformed moving'],\n",
    "#                        cmap=plt.cm.gray, vmin=0, vmax=1)\n",
    "    \n",
    "    ###################################"
   ]
  },
  {
   "cell_type": "code",
   "execution_count": null,
   "metadata": {
    "collapsed": true
   },
   "outputs": [],
   "source": []
  }
 ],
 "metadata": {
  "kernelspec": {
   "display_name": "Python 2",
   "language": "python",
   "name": "python2"
  },
  "language_info": {
   "codemirror_mode": {
    "name": "ipython",
    "version": 2
   },
   "file_extension": ".py",
   "mimetype": "text/x-python",
   "name": "python",
   "nbconvert_exporter": "python",
   "pygments_lexer": "ipython2",
   "version": "2.7.12"
  }
 },
 "nbformat": 4,
 "nbformat_minor": 2
}
