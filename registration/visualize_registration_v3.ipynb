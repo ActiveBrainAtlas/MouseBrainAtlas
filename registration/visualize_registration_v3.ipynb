{
 "cells": [
  {
   "cell_type": "code",
   "execution_count": 1,
   "metadata": {
    "scrolled": true
   },
   "outputs": [
    {
     "name": "stderr",
     "output_type": "stream",
     "text": [
      "/usr/local/lib/python2.7/dist-packages/matplotlib/__init__.py:1405: UserWarning: \n",
      "This call to matplotlib.use() has no effect because the backend has already\n",
      "been chosen; matplotlib.use() must be called *before* pylab, matplotlib.pyplot,\n",
      "or matplotlib.backends is imported for the first time.\n",
      "\n",
      "  warnings.warn(_use_error_msg)\n"
     ]
    },
    {
     "name": "stdout",
     "output_type": "stream",
     "text": [
      "Setting environment for AWS compute node\n"
     ]
    },
    {
     "name": "stderr",
     "output_type": "stream",
     "text": [
      "No vtk\n"
     ]
    },
    {
     "name": "stdout",
     "output_type": "stream",
     "text": [
      "rm -rf /shared/CSHL_data_processed/MD593/MD593_thumbnail_alignedTo_MD593-IHC54-2015.08.25-17.40.32_MD593_2_0161_cropped/Placeholder_thumbnail_alignedTo_MD593-IHC54-2015.08.25-17.40.32_MD593_2_0161_cropped.tif && mkdir -p /shared/CSHL_data_processed/MD593/MD593_thumbnail_alignedTo_MD593-IHC54-2015.08.25-17.40.32_MD593_2_0161_cropped\n",
      "aws s3 cp s3://mousebrainatlas-data/CSHL_data_processed/MD593/MD593_thumbnail_alignedTo_MD593-IHC54-2015.08.25-17.40.32_MD593_2_0161_cropped/Placeholder_thumbnail_alignedTo_MD593-IHC54-2015.08.25-17.40.32_MD593_2_0161_cropped.tif /shared/CSHL_data_processed/MD593/MD593_thumbnail_alignedTo_MD593-IHC54-2015.08.25-17.40.32_MD593_2_0161_cropped/Placeholder_thumbnail_alignedTo_MD593-IHC54-2015.08.25-17.40.32_MD593_2_0161_cropped.tif\n",
      "rm -rf /shared/CSHL_data_processed/MD593/MD593_thumbnail_alignedTo_MD593-IHC54-2015.08.25-17.40.32_MD593_2_0161_cropped/Placeholder_thumbnail_alignedTo_MD593-IHC54-2015.08.25-17.40.32_MD593_2_0161_cropped.tif && mkdir -p /shared/CSHL_data_processed/MD593/MD593_thumbnail_alignedTo_MD593-IHC54-2015.08.25-17.40.32_MD593_2_0161_cropped\n",
      "aws s3 cp s3://mousebrainatlas-data/CSHL_data_processed/MD593/MD593_thumbnail_alignedTo_MD593-IHC54-2015.08.25-17.40.32_MD593_2_0161_cropped/Placeholder_thumbnail_alignedTo_MD593-IHC54-2015.08.25-17.40.32_MD593_2_0161_cropped.tif /shared/CSHL_data_processed/MD593/MD593_thumbnail_alignedTo_MD593-IHC54-2015.08.25-17.40.32_MD593_2_0161_cropped/Placeholder_thumbnail_alignedTo_MD593-IHC54-2015.08.25-17.40.32_MD593_2_0161_cropped.tif\n"
     ]
    },
    {
     "name": "stderr",
     "output_type": "stream",
     "text": [
      "/usr/local/lib/python2.7/dist-packages/skimage/external/tifffile/tifffile.py:2611: RuntimeWarning: py_decodelzw encountered unexpected end of stream\n",
      "  strip = decompress(strip)\n"
     ]
    }
   ],
   "source": [
    "%load_ext autoreload\n",
    "%autoreload 2\n",
    "\n",
    "import sys\n",
    "import os\n",
    "import time\n",
    "\n",
    "import matplotlib.pyplot as plt\n",
    "%matplotlib inline\n",
    "import numpy as np\n",
    "# from skimage.transform import resize\n",
    "\n",
    "sys.path.append(os.environ['REPO_DIR'] + '/utilities')\n",
    "from utilities2015 import *\n",
    "from registration_utilities import *\n",
    "from annotation_utilities import *\n",
    "from metadata import *\n",
    "from data_manager import *"
   ]
  },
  {
   "cell_type": "code",
   "execution_count": 2,
   "metadata": {
    "collapsed": true
   },
   "outputs": [],
   "source": [
    "stack_fixed = 'MD635'\n",
    "stack_moving = 'atlasV4'"
   ]
  },
  {
   "cell_type": "code",
   "execution_count": 3,
   "metadata": {
    "collapsed": true
   },
   "outputs": [],
   "source": [
    "warp_setting = 8\n",
    "classifier_setting = 38\n",
    "# trial_idx = 0\n",
    "\n",
    "# warp_setting = 5\n",
    "# classifier_setting = 30\n",
    "# trial_idx = 0"
   ]
  },
  {
   "cell_type": "code",
   "execution_count": 4,
   "metadata": {
    "collapsed": true
   },
   "outputs": [],
   "source": [
    "# Read transformed volumes - one structure\n",
    "\n",
    "# structure = '7n_L'\n",
    "\n",
    "# warped_volumes = {}\n",
    "# warped_volumes[structure] = DataManager.load_transformed_volume(stack_m=stack_moving, \n",
    "#                                                                           stack_f=stack_fixed, \n",
    "#                                     classifier_setting_m=classifier_setting,\n",
    "#                                     classifier_setting_f=classifier_setting,\n",
    "#                                     warp_setting=warp_setting,\n",
    "#                                     trial_idx=trial_idx, structure=structure)"
   ]
  },
  {
   "cell_type": "code",
   "execution_count": 4,
   "metadata": {
    "scrolled": true
   },
   "outputs": [
    {
     "name": "stdout",
     "output_type": "stream",
     "text": [
      "rm -rf /shared/CSHL_volumes/atlasV4/atlasV4_down32_scoreVolume_clf_38_warp_8_MD635_down32_scoreVolume_clf_38/score_volumes/atlasV4_down32_scoreVolume_clf_38_warp_8_MD635_down32_scoreVolume_clf_38_7n_L.bp && mkdir -p /shared/CSHL_volumes/atlasV4/atlasV4_down32_scoreVolume_clf_38_warp_8_MD635_down32_scoreVolume_clf_38/score_volumes\n",
      "aws s3 cp s3://mousebrainatlas-data/CSHL_volumes/atlasV4/atlasV4_down32_scoreVolume_clf_38_warp_8_MD635_down32_scoreVolume_clf_38/score_volumes/atlasV4_down32_scoreVolume_clf_38_warp_8_MD635_down32_scoreVolume_clf_38_7n_L.bp /shared/CSHL_volumes/atlasV4/atlasV4_down32_scoreVolume_clf_38_warp_8_MD635_down32_scoreVolume_clf_38/score_volumes/atlasV4_down32_scoreVolume_clf_38_warp_8_MD635_down32_scoreVolume_clf_38_7n_L.bp\n"
     ]
    },
    {
     "name": "stderr",
     "output_type": "stream",
     "text": [
      "Child returned 0\n",
      "Child returned 1\n",
      "0.38 seconds.\n",
      "File does not exist: /shared/CSHL_volumes/atlasV4/atlasV4_down32_scoreVolume_clf_38_warp_8_MD635_down32_scoreVolume_clf_38/score_volumes/atlasV4_down32_scoreVolume_clf_38_warp_8_MD635_down32_scoreVolume_clf_38_7n_L.bp\n",
      "[Errno 2] No such file or directory: '/shared/CSHL_volumes/atlasV4/atlasV4_down32_scoreVolume_clf_38_warp_8_MD635_down32_scoreVolume_clf_38/score_volumes/atlasV4_down32_scoreVolume_clf_38_warp_8_MD635_down32_scoreVolume_clf_38_7n_L.bp'\n",
      "Score volume for 7n_L does not exist.\n"
     ]
    },
    {
     "name": "stdout",
     "output_type": "stream",
     "text": [
      "rm -rf /shared/CSHL_volumes/atlasV4/atlasV4_down32_scoreVolume_clf_38_warp_8_MD635_down32_scoreVolume_clf_38/score_volumes/atlasV4_down32_scoreVolume_clf_38_warp_8_MD635_down32_scoreVolume_clf_38_sp5.bp && mkdir -p /shared/CSHL_volumes/atlasV4/atlasV4_down32_scoreVolume_clf_38_warp_8_MD635_down32_scoreVolume_clf_38/score_volumes\n",
      "aws s3 cp s3://mousebrainatlas-data/CSHL_volumes/atlasV4/atlasV4_down32_scoreVolume_clf_38_warp_8_MD635_down32_scoreVolume_clf_38/score_volumes/atlasV4_down32_scoreVolume_clf_38_warp_8_MD635_down32_scoreVolume_clf_38_sp5.bp /shared/CSHL_volumes/atlasV4/atlasV4_down32_scoreVolume_clf_38_warp_8_MD635_down32_scoreVolume_clf_38/score_volumes/atlasV4_down32_scoreVolume_clf_38_warp_8_MD635_down32_scoreVolume_clf_38_sp5.bp\n"
     ]
    },
    {
     "name": "stderr",
     "output_type": "stream",
     "text": [
      "Child returned 0\n",
      "Child returned 1\n",
      "0.36 seconds.\n",
      "File does not exist: /shared/CSHL_volumes/atlasV4/atlasV4_down32_scoreVolume_clf_38_warp_8_MD635_down32_scoreVolume_clf_38/score_volumes/atlasV4_down32_scoreVolume_clf_38_warp_8_MD635_down32_scoreVolume_clf_38_sp5.bp\n",
      "[Errno 2] No such file or directory: '/shared/CSHL_volumes/atlasV4/atlasV4_down32_scoreVolume_clf_38_warp_8_MD635_down32_scoreVolume_clf_38/score_volumes/atlasV4_down32_scoreVolume_clf_38_warp_8_MD635_down32_scoreVolume_clf_38_sp5.bp'\n",
      "Score volume for sp5 does not exist.\n",
      "Child returned 0\n"
     ]
    },
    {
     "name": "stdout",
     "output_type": "stream",
     "text": [
      "rm -rf /shared/CSHL_volumes/atlasV4/atlasV4_down32_scoreVolume_clf_38_warp_8_MD635_down32_scoreVolume_clf_38/score_volumes/atlasV4_down32_scoreVolume_clf_38_warp_8_MD635_down32_scoreVolume_clf_38_outerContour.bp && mkdir -p /shared/CSHL_volumes/atlasV4/atlasV4_down32_scoreVolume_clf_38_warp_8_MD635_down32_scoreVolume_clf_38/score_volumes\n",
      "aws s3 cp s3://mousebrainatlas-data/CSHL_volumes/atlasV4/atlasV4_down32_scoreVolume_clf_38_warp_8_MD635_down32_scoreVolume_clf_38/score_volumes/atlasV4_down32_scoreVolume_clf_38_warp_8_MD635_down32_scoreVolume_clf_38_outerContour.bp /shared/CSHL_volumes/atlasV4/atlasV4_down32_scoreVolume_clf_38_warp_8_MD635_down32_scoreVolume_clf_38/score_volumes/atlasV4_down32_scoreVolume_clf_38_warp_8_MD635_down32_scoreVolume_clf_38_outerContour.bp\n"
     ]
    },
    {
     "name": "stderr",
     "output_type": "stream",
     "text": [
      "Child returned 1\n",
      "0.35 seconds.\n",
      "File does not exist: /shared/CSHL_volumes/atlasV4/atlasV4_down32_scoreVolume_clf_38_warp_8_MD635_down32_scoreVolume_clf_38/score_volumes/atlasV4_down32_scoreVolume_clf_38_warp_8_MD635_down32_scoreVolume_clf_38_outerContour.bp\n",
      "[Errno 2] No such file or directory: '/shared/CSHL_volumes/atlasV4/atlasV4_down32_scoreVolume_clf_38_warp_8_MD635_down32_scoreVolume_clf_38/score_volumes/atlasV4_down32_scoreVolume_clf_38_warp_8_MD635_down32_scoreVolume_clf_38_outerContour.bp'\n",
      "Score volume for outerContour does not exist.\n",
      "Child returned 0\n"
     ]
    },
    {
     "name": "stdout",
     "output_type": "stream",
     "text": [
      "rm -rf /shared/CSHL_volumes/atlasV4/atlasV4_down32_scoreVolume_clf_38_warp_8_MD635_down32_scoreVolume_clf_38/score_volumes/atlasV4_down32_scoreVolume_clf_38_warp_8_MD635_down32_scoreVolume_clf_38_IC.bp && mkdir -p /shared/CSHL_volumes/atlasV4/atlasV4_down32_scoreVolume_clf_38_warp_8_MD635_down32_scoreVolume_clf_38/score_volumes\n",
      "aws s3 cp s3://mousebrainatlas-data/CSHL_volumes/atlasV4/atlasV4_down32_scoreVolume_clf_38_warp_8_MD635_down32_scoreVolume_clf_38/score_volumes/atlasV4_down32_scoreVolume_clf_38_warp_8_MD635_down32_scoreVolume_clf_38_IC.bp /shared/CSHL_volumes/atlasV4/atlasV4_down32_scoreVolume_clf_38_warp_8_MD635_down32_scoreVolume_clf_38/score_volumes/atlasV4_down32_scoreVolume_clf_38_warp_8_MD635_down32_scoreVolume_clf_38_IC.bp\n"
     ]
    },
    {
     "name": "stderr",
     "output_type": "stream",
     "text": [
      "Child returned 1\n",
      "0.36 seconds.\n",
      "File does not exist: /shared/CSHL_volumes/atlasV4/atlasV4_down32_scoreVolume_clf_38_warp_8_MD635_down32_scoreVolume_clf_38/score_volumes/atlasV4_down32_scoreVolume_clf_38_warp_8_MD635_down32_scoreVolume_clf_38_IC.bp\n",
      "[Errno 2] No such file or directory: '/shared/CSHL_volumes/atlasV4/atlasV4_down32_scoreVolume_clf_38_warp_8_MD635_down32_scoreVolume_clf_38/score_volumes/atlasV4_down32_scoreVolume_clf_38_warp_8_MD635_down32_scoreVolume_clf_38_IC.bp'\n",
      "Score volume for IC does not exist.\n"
     ]
    }
   ],
   "source": [
    "# Read transformed volumes - all structures\n",
    "\n",
    "volume_downsample = 32 # downsample factor of registered volume.\n",
    "\n",
    "warped_volumes = DataManager.load_transformed_volume_all_known_structures(stack_m=stack_moving, \n",
    "                                                                          stack_f=stack_fixed, \n",
    "                                    classifier_setting_m=classifier_setting,\n",
    "                                    classifier_setting_f=classifier_setting,\n",
    "                                    warp_setting=warp_setting,\n",
    "                                                                          downscale=volume_downsample,\n",
    "                                    trial_idx=None, sided=True)"
   ]
  },
  {
   "cell_type": "code",
   "execution_count": 5,
   "metadata": {
    "collapsed": true
   },
   "outputs": [],
   "source": [
    "# Set colors for different contour level\n",
    "levels = [0.1, 0.25, 0.5, 0.75, .99]\n",
    "level_colors = {0.1: (0,255,255), \n",
    "                0.25: (0,255,0), \n",
    "                0.5: (255,0,0), \n",
    "                0.75: (255,255,0), \n",
    "                0.99: (255,0,255)}\n",
    "\n",
    "# levels = [.5]\n",
    "# level_colors = {level: (255,0,0) for level in levels}"
   ]
  },
  {
   "cell_type": "code",
   "execution_count": 38,
   "metadata": {
    "collapsed": true
   },
   "outputs": [],
   "source": [
    "downsample_factor = 8 # downsample scale of output image."
   ]
  },
  {
   "cell_type": "code",
   "execution_count": 39,
   "metadata": {},
   "outputs": [
    {
     "name": "stdout",
     "output_type": "stream",
     "text": [
      "0 684 0 447 100 496\n"
     ]
    }
   ],
   "source": [
    "bbox_down32 = \\\n",
    "DataManager.load_original_volume_bbox(stack=stack_fixed, vol_type='score', structure='7N', downscale=32, classifier_setting=classifier_setting)\n",
    "xmin_vol_f, xmax_vol_f, ymin_vol_f, ymax_vol_f, zmin_vol_f, zmax_vol_f = bbox_down32 * 32 / volume_downsample\n",
    "\n",
    "print xmin_vol_f, xmax_vol_f, ymin_vol_f, ymax_vol_f, zmin_vol_f, zmax_vol_f"
   ]
  },
  {
   "cell_type": "markdown",
   "metadata": {},
   "source": [
    "# Parallel"
   ]
  },
  {
   "cell_type": "code",
   "execution_count": 34,
   "metadata": {
    "collapsed": true
   },
   "outputs": [],
   "source": [
    "show_text = True\n",
    "contour_width = 1"
   ]
  },
  {
   "cell_type": "code",
   "execution_count": 35,
   "metadata": {
    "collapsed": true
   },
   "outputs": [],
   "source": [
    "def visualize_registration_one_section(sec):\n",
    "    \n",
    "    t = time.time()\n",
    "    \n",
    "    if downsample_factor == 32:\n",
    "        img = DataManager.load_image(stack=stack_fixed, section=sec, resol='thumbnail', version='cropped_tif')\n",
    "    else:\n",
    "        img = DataManager.load_image(stack=stack_fixed, section=sec, resol='lossless', version='cropped_gray_jpeg')\n",
    "        img = img[::downsample_factor, ::downsample_factor]\n",
    "    \n",
    "    if img.ndim == 2:\n",
    "        img = gray2rgb(img)\n",
    "        \n",
    "    viz = img.copy()\n",
    "    \n",
    "    z = int(np.mean(DataManager.convert_section_to_z(stack=stack_fixed, sec=sec, downsample=volume_downsample)))\n",
    "    \n",
    "    # Find moving volume annotation contours.\n",
    "    for name_s, vol in warped_volumes.iteritems():\n",
    "        \n",
    "        label_pos = None\n",
    "        \n",
    "        for level in levels:\n",
    "            cnts = find_contours(vol[..., z], level=level) # rows, cols\n",
    "            for cnt in cnts:\n",
    "                # r,c to x,y\n",
    "                cnt_on_cropped_volRes = cnt[:,::-1] + (xmin_vol_f, ymin_vol_f)\n",
    "                cnt_on_cropped_imgRes = cnt_on_cropped_volRes * volume_downsample / downsample_factor\n",
    "                cv2.polylines(viz, [cnt_on_cropped_imgRes.astype(np.int)], \n",
    "                              True, level_colors[level], contour_width)\n",
    "                \n",
    "                if show_text:\n",
    "                    if label_pos is None:\n",
    "                        label_pos = np.mean(cnt_on_cropped_imgRes, axis=0)\n",
    "    \n",
    "        # Show text \n",
    "        if label_pos is not None:\n",
    "            cv2.putText(viz, name_s, tuple(label_pos.astype(np.int)), \n",
    "                    cv2.FONT_HERSHEY_DUPLEX, 1, ((0,0,0)), 3)\n",
    "    \n",
    "    viz_fp = DataManager.get_alignment_viz_filepath(stack_m=stack_moving,\n",
    "                                                    stack_f=stack_fixed,\n",
    "                                                    classifier_setting_m=classifier_setting,\n",
    "                                                    classifier_setting_f=classifier_setting,\n",
    "                                                    warp_setting=warp_setting,\n",
    "                                                downscale=volume_downsample,\n",
    "                                                    out_downscale=downsample_factor,\n",
    "                                          section=sec)   \n",
    "    create_parent_dir_if_not_exists(viz_fp)\n",
    "    imsave(viz_fp, viz)\n",
    "    upload_to_s3(viz_fp)\n",
    "    \n",
    "#     sys.stderr.write('Time: %.2f seconds\\n' % (time.time() - t)) # 5s"
   ]
  },
  {
   "cell_type": "code",
   "execution_count": 36,
   "metadata": {
    "scrolled": true
   },
   "outputs": [
    {
     "name": "stdout",
     "output_type": "stream",
     "text": [
      "aws s3 cp /shared/CSHL_registration_visualization/atlasV4/atlasV4_down32_scoreVolume_clf_38_warp_8_MD635_down32_scoreVolume_clf_38/down8/atlasV4_down32_scoreVolume_clf_38_warp_8_MD635_down32_scoreVolume_clf_38_0090_down8.jpg s3://mousebrainatlas-data/CSHL_registration_visualization/atlasV4/atlasV4_down32_scoreVolume_clf_38_warp_8_MD635_down32_scoreVolume_clf_38/down8/atlasV4_down32_scoreVolume_clf_38_warp_8_MD635_down32_scoreVolume_clf_38_0090_down8.jpg\n",
      "aws s3 cp /shared/CSHL_registration_visualization/atlasV4/atlasV4_down32_scoreVolume_clf_38_warp_8_MD635_down32_scoreVolume_clf_38/down8/atlasV4_down32_scoreVolume_clf_38_warp_8_MD635_down32_scoreVolume_clf_38_0096_down8.jpg s3://mousebrainatlas-data/CSHL_registration_visualization/atlasV4/atlasV4_down32_scoreVolume_clf_38_warp_8_MD635_down32_scoreVolume_clf_38/down8/atlasV4_down32_scoreVolume_clf_38_warp_8_MD635_down32_scoreVolume_clf_38_0096_down8.jpg\n",
      "aws s3 cp /shared/CSHL_registration_visualization/atlasV4/atlasV4_down32_scoreVolume_clf_38_warp_8_MD635_down32_scoreVolume_clf_38/down8/atlasV4_down32_scoreVolume_clf_38_warp_8_MD635_down32_scoreVolume_clf_38_0127_down8.jpg s3://mousebrainatlas-data/CSHL_registration_visualization/atlasV4/atlasV4_down32_scoreVolume_clf_38_warp_8_MD635_down32_scoreVolume_clf_38/down8/atlasV4_down32_scoreVolume_clf_38_warp_8_MD635_down32_scoreVolume_clf_38_0127_down8.jpg\n",
      "aws s3 cp /shared/CSHL_registration_visualization/atlasV4/atlasV4_down32_scoreVolume_clf_38_warp_8_MD635_down32_scoreVolume_clf_38/down8/atlasV4_down32_scoreVolume_clf_38_warp_8_MD635_down32_scoreVolume_clf_38_0111_down8.jpg s3://mousebrainatlas-data/CSHL_registration_visualization/atlasV4/atlasV4_down32_scoreVolume_clf_38_warp_8_MD635_down32_scoreVolume_clf_38/down8/atlasV4_down32_scoreVolume_clf_38_warp_8_MD635_down32_scoreVolume_clf_38_0111_down8.jpg\n",
      "aws s3 cp /shared/CSHL_registration_visualization/atlasV4/atlasV4_down32_scoreVolume_clf_38_warp_8_MD635_down32_scoreVolume_clf_38/down8/atlasV4_down32_scoreVolume_clf_38_warp_8_MD635_down32_scoreVolume_clf_38_0080_down8.jpg s3://mousebrainatlas-data/CSHL_registration_visualization/atlasV4/atlasV4_down32_scoreVolume_clf_38_warp_8_MD635_down32_scoreVolume_clf_38/down8/atlasV4_down32_scoreVolume_clf_38_warp_8_MD635_down32_scoreVolume_clf_38_0080_down8.jpg\n",
      "aws s3 cp /shared/CSHL_registration_visualization/atlasV4/atlasV4_down32_scoreVolume_clf_38_warp_8_MD635_down32_scoreVolume_clf_38/down8/atlasV4_down32_scoreVolume_clf_38_warp_8_MD635_down32_scoreVolume_clf_38_0148_down8.jpg s3://mousebrainatlas-data/CSHL_registration_visualization/atlasV4/atlasV4_down32_scoreVolume_clf_38_warp_8_MD635_down32_scoreVolume_clf_38/down8/atlasV4_down32_scoreVolume_clf_38_warp_8_MD635_down32_scoreVolume_clf_38_0148_down8.jpg\n",
      "aws s3 cp /shared/CSHL_registration_visualization/atlasV4/atlasV4_down32_scoreVolume_clf_38_warp_8_MD635_down32_scoreVolume_clf_38/down8/atlasV4_down32_scoreVolume_clf_38_warp_8_MD635_down32_scoreVolume_clf_38_0117_down8.jpg s3://mousebrainatlas-data/CSHL_registration_visualization/atlasV4/atlasV4_down32_scoreVolume_clf_38_warp_8_MD635_down32_scoreVolume_clf_38/down8/atlasV4_down32_scoreVolume_clf_38_warp_8_MD635_down32_scoreVolume_clf_38_0117_down8.jpg\n",
      "aws s3 cp /shared/CSHL_registration_visualization/atlasV4/atlasV4_down32_scoreVolume_clf_38_warp_8_MD635_down32_scoreVolume_clf_38/down8/atlasV4_down32_scoreVolume_clf_38_warp_8_MD635_down32_scoreVolume_clf_38_0132_down8.jpg s3://mousebrainatlas-data/CSHL_registration_visualization/atlasV4/atlasV4_down32_scoreVolume_clf_38_warp_8_MD635_down32_scoreVolume_clf_38/down8/atlasV4_down32_scoreVolume_clf_38_warp_8_MD635_down32_scoreVolume_clf_38_0132_down8.jpg\n",
      "aws s3 cp /shared/CSHL_registration_visualization/atlasV4/atlasV4_down32_scoreVolume_clf_38_warp_8_MD635_down32_scoreVolume_clf_38/down8/atlasV4_down32_scoreVolume_clf_38_warp_8_MD635_down32_scoreVolume_clf_38_0106_down8.jpg s3://mousebrainatlas-data/CSHL_registration_visualization/atlasV4/atlasV4_down32_scoreVolume_clf_38_warp_8_MD635_down32_scoreVolume_clf_38/down8/atlasV4_down32_scoreVolume_clf_38_warp_8_MD635_down32_scoreVolume_clf_38_0106_down8.jpg\n",
      "aws s3 cp /shared/CSHL_registration_visualization/atlasV4/atlasV4_down32_scoreVolume_clf_38_warp_8_MD635_down32_scoreVolume_clf_38/down8/atlasV4_down32_scoreVolume_clf_38_warp_8_MD635_down32_scoreVolume_clf_38_0137_down8.jpg s3://mousebrainatlas-data/CSHL_registration_visualization/atlasV4/atlasV4_down32_scoreVolume_clf_38_warp_8_MD635_down32_scoreVolume_clf_38/down8/atlasV4_down32_scoreVolume_clf_38_warp_8_MD635_down32_scoreVolume_clf_38_0137_down8.jpg\n",
      "aws s3 cp /shared/CSHL_registration_visualization/atlasV4/atlasV4_down32_scoreVolume_clf_38_warp_8_MD635_down32_scoreVolume_clf_38/down8/atlasV4_down32_scoreVolume_clf_38_warp_8_MD635_down32_scoreVolume_clf_38_0101_down8.jpg s3://mousebrainatlas-data/CSHL_registration_visualization/atlasV4/atlasV4_down32_scoreVolume_clf_38_warp_8_MD635_down32_scoreVolume_clf_38/down8/atlasV4_down32_scoreVolume_clf_38_warp_8_MD635_down32_scoreVolume_clf_38_0101_down8.jpg\n",
      "aws s3 cp /shared/CSHL_registration_visualization/atlasV4/atlasV4_down32_scoreVolume_clf_38_warp_8_MD635_down32_scoreVolume_clf_38/down8/atlasV4_down32_scoreVolume_clf_38_warp_8_MD635_down32_scoreVolume_clf_38_0075_down8.jpg s3://mousebrainatlas-data/CSHL_registration_visualization/atlasV4/atlasV4_down32_scoreVolume_clf_38_warp_8_MD635_down32_scoreVolume_clf_38/down8/atlasV4_down32_scoreVolume_clf_38_warp_8_MD635_down32_scoreVolume_clf_38_0075_down8.jpg\n",
      "aws s3 cp /shared/CSHL_registration_visualization/atlasV4/atlasV4_down32_scoreVolume_clf_38_warp_8_MD635_down32_scoreVolume_clf_38/down8/atlasV4_down32_scoreVolume_clf_38_warp_8_MD635_down32_scoreVolume_clf_38_0143_down8.jpg s3://mousebrainatlas-data/CSHL_registration_visualization/atlasV4/atlasV4_down32_scoreVolume_clf_38_warp_8_MD635_down32_scoreVolume_clf_38/down8/atlasV4_down32_scoreVolume_clf_38_warp_8_MD635_down32_scoreVolume_clf_38_0143_down8.jpg\n",
      "aws s3 cp /shared/CSHL_registration_visualization/atlasV4/atlasV4_down32_scoreVolume_clf_38_warp_8_MD635_down32_scoreVolume_clf_38/down8/atlasV4_down32_scoreVolume_clf_38_warp_8_MD635_down32_scoreVolume_clf_38_0085_down8.jpg s3://mousebrainatlas-data/CSHL_registration_visualization/atlasV4/atlasV4_down32_scoreVolume_clf_38_warp_8_MD635_down32_scoreVolume_clf_38/down8/atlasV4_down32_scoreVolume_clf_38_warp_8_MD635_down32_scoreVolume_clf_38_0085_down8.jpg\n",
      "aws s3 cp /shared/CSHL_registration_visualization/atlasV4/atlasV4_down32_scoreVolume_clf_38_warp_8_MD635_down32_scoreVolume_clf_38/down8/atlasV4_down32_scoreVolume_clf_38_warp_8_MD635_down32_scoreVolume_clf_38_0122_down8.jpg s3://mousebrainatlas-data/CSHL_registration_visualization/atlasV4/atlasV4_down32_scoreVolume_clf_38_warp_8_MD635_down32_scoreVolume_clf_38/down8/atlasV4_down32_scoreVolume_clf_38_warp_8_MD635_down32_scoreVolume_clf_38_0122_down8.jpg\n",
      "aws s3 cp /shared/CSHL_registration_visualization/atlasV4/atlasV4_down32_scoreVolume_clf_38_warp_8_MD635_down32_scoreVolume_clf_38/down8/atlasV4_down32_scoreVolume_clf_38_warp_8_MD635_down32_scoreVolume_clf_38_0153_down8.jpg s3://mousebrainatlas-data/CSHL_registration_visualization/atlasV4/atlasV4_down32_scoreVolume_clf_38_warp_8_MD635_down32_scoreVolume_clf_38/down8/atlasV4_down32_scoreVolume_clf_38_warp_8_MD635_down32_scoreVolume_clf_38_0153_down8.jpg\n",
      "aws s3 cp /shared/CSHL_registration_visualization/atlasV4/atlasV4_down32_scoreVolume_clf_38_warp_8_MD635_down32_scoreVolume_clf_38/down8/atlasV4_down32_scoreVolume_clf_38_warp_8_MD635_down32_scoreVolume_clf_38_0091_down8.jpg s3://mousebrainatlas-data/CSHL_registration_visualization/atlasV4/atlasV4_down32_scoreVolume_clf_38_warp_8_MD635_down32_scoreVolume_clf_38/down8/atlasV4_down32_scoreVolume_clf_38_warp_8_MD635_down32_scoreVolume_clf_38_0091_down8.jpg\n",
      "aws s3 cp /shared/CSHL_registration_visualization/atlasV4/atlasV4_down32_scoreVolume_clf_38_warp_8_MD635_down32_scoreVolume_clf_38/down8/atlasV4_down32_scoreVolume_clf_38_warp_8_MD635_down32_scoreVolume_clf_38_0097_down8.jpg s3://mousebrainatlas-data/CSHL_registration_visualization/atlasV4/atlasV4_down32_scoreVolume_clf_38_warp_8_MD635_down32_scoreVolume_clf_38/down8/atlasV4_down32_scoreVolume_clf_38_warp_8_MD635_down32_scoreVolume_clf_38_0097_down8.jpg\n"
     ]
    },
    {
     "name": "stdout",
     "output_type": "stream",
     "text": [
      "aws s3 cp /shared/CSHL_registration_visualization/atlasV4/atlasV4_down32_scoreVolume_clf_38_warp_8_MD635_down32_scoreVolume_clf_38/down8/atlasV4_down32_scoreVolume_clf_38_warp_8_MD635_down32_scoreVolume_clf_38_0128_down8.jpg s3://mousebrainatlas-data/CSHL_registration_visualization/atlasV4/atlasV4_down32_scoreVolume_clf_38_warp_8_MD635_down32_scoreVolume_clf_38/down8/atlasV4_down32_scoreVolume_clf_38_warp_8_MD635_down32_scoreVolume_clf_38_0128_down8.jpg\n",
      "aws s3 cp /shared/CSHL_registration_visualization/atlasV4/atlasV4_down32_scoreVolume_clf_38_warp_8_MD635_down32_scoreVolume_clf_38/down8/atlasV4_down32_scoreVolume_clf_38_warp_8_MD635_down32_scoreVolume_clf_38_0081_down8.jpg s3://mousebrainatlas-data/CSHL_registration_visualization/atlasV4/atlasV4_down32_scoreVolume_clf_38_warp_8_MD635_down32_scoreVolume_clf_38/down8/atlasV4_down32_scoreVolume_clf_38_warp_8_MD635_down32_scoreVolume_clf_38_0081_down8.jpg\n",
      "aws s3 cp /shared/CSHL_registration_visualization/atlasV4/atlasV4_down32_scoreVolume_clf_38_warp_8_MD635_down32_scoreVolume_clf_38/down8/atlasV4_down32_scoreVolume_clf_38_warp_8_MD635_down32_scoreVolume_clf_38_0113_down8.jpg s3://mousebrainatlas-data/CSHL_registration_visualization/atlasV4/atlasV4_down32_scoreVolume_clf_38_warp_8_MD635_down32_scoreVolume_clf_38/down8/atlasV4_down32_scoreVolume_clf_38_warp_8_MD635_down32_scoreVolume_clf_38_0113_down8.jpg\n",
      "aws s3 cp /shared/CSHL_registration_visualization/atlasV4/atlasV4_down32_scoreVolume_clf_38_warp_8_MD635_down32_scoreVolume_clf_38/down8/atlasV4_down32_scoreVolume_clf_38_warp_8_MD635_down32_scoreVolume_clf_38_0118_down8.jpg s3://mousebrainatlas-data/CSHL_registration_visualization/atlasV4/atlasV4_down32_scoreVolume_clf_38_warp_8_MD635_down32_scoreVolume_clf_38/down8/atlasV4_down32_scoreVolume_clf_38_warp_8_MD635_down32_scoreVolume_clf_38_0118_down8.jpg\n",
      "aws s3 cp /shared/CSHL_registration_visualization/atlasV4/atlasV4_down32_scoreVolume_clf_38_warp_8_MD635_down32_scoreVolume_clf_38/down8/atlasV4_down32_scoreVolume_clf_38_warp_8_MD635_down32_scoreVolume_clf_38_0133_down8.jpg s3://mousebrainatlas-data/CSHL_registration_visualization/atlasV4/atlasV4_down32_scoreVolume_clf_38_warp_8_MD635_down32_scoreVolume_clf_38/down8/atlasV4_down32_scoreVolume_clf_38_warp_8_MD635_down32_scoreVolume_clf_38_0133_down8.jpg\n",
      "aws s3 cp /shared/CSHL_registration_visualization/atlasV4/atlasV4_down32_scoreVolume_clf_38_warp_8_MD635_down32_scoreVolume_clf_38/down8/atlasV4_down32_scoreVolume_clf_38_warp_8_MD635_down32_scoreVolume_clf_38_0086_down8.jpg s3://mousebrainatlas-data/CSHL_registration_visualization/atlasV4/atlasV4_down32_scoreVolume_clf_38_warp_8_MD635_down32_scoreVolume_clf_38/down8/atlasV4_down32_scoreVolume_clf_38_warp_8_MD635_down32_scoreVolume_clf_38_0086_down8.jpg\n",
      "aws s3 cp /shared/CSHL_registration_visualization/atlasV4/atlasV4_down32_scoreVolume_clf_38_warp_8_MD635_down32_scoreVolume_clf_38/down8/atlasV4_down32_scoreVolume_clf_38_warp_8_MD635_down32_scoreVolume_clf_38_0107_down8.jpg s3://mousebrainatlas-data/CSHL_registration_visualization/atlasV4/atlasV4_down32_scoreVolume_clf_38_warp_8_MD635_down32_scoreVolume_clf_38/down8/atlasV4_down32_scoreVolume_clf_38_warp_8_MD635_down32_scoreVolume_clf_38_0107_down8.jpg\n",
      "aws s3 cp /shared/CSHL_registration_visualization/atlasV4/atlasV4_down32_scoreVolume_clf_38_warp_8_MD635_down32_scoreVolume_clf_38/down8/atlasV4_down32_scoreVolume_clf_38_warp_8_MD635_down32_scoreVolume_clf_38_0149_down8.jpg s3://mousebrainatlas-data/CSHL_registration_visualization/atlasV4/atlasV4_down32_scoreVolume_clf_38_warp_8_MD635_down32_scoreVolume_clf_38/down8/atlasV4_down32_scoreVolume_clf_38_warp_8_MD635_down32_scoreVolume_clf_38_0149_down8.jpg\n",
      "aws s3 cp /shared/CSHL_registration_visualization/atlasV4/atlasV4_down32_scoreVolume_clf_38_warp_8_MD635_down32_scoreVolume_clf_38/down8/atlasV4_down32_scoreVolume_clf_38_warp_8_MD635_down32_scoreVolume_clf_38_0138_down8.jpg s3://mousebrainatlas-data/CSHL_registration_visualization/atlasV4/atlasV4_down32_scoreVolume_clf_38_warp_8_MD635_down32_scoreVolume_clf_38/down8/atlasV4_down32_scoreVolume_clf_38_warp_8_MD635_down32_scoreVolume_clf_38_0138_down8.jpg\n",
      "aws s3 cp /shared/CSHL_registration_visualization/atlasV4/atlasV4_down32_scoreVolume_clf_38_warp_8_MD635_down32_scoreVolume_clf_38/down8/atlasV4_down32_scoreVolume_clf_38_warp_8_MD635_down32_scoreVolume_clf_38_0076_down8.jpg s3://mousebrainatlas-data/CSHL_registration_visualization/atlasV4/atlasV4_down32_scoreVolume_clf_38_warp_8_MD635_down32_scoreVolume_clf_38/down8/atlasV4_down32_scoreVolume_clf_38_warp_8_MD635_down32_scoreVolume_clf_38_0076_down8.jpg\n",
      "aws s3 cp /shared/CSHL_registration_visualization/atlasV4/atlasV4_down32_scoreVolume_clf_38_warp_8_MD635_down32_scoreVolume_clf_38/down8/atlasV4_down32_scoreVolume_clf_38_warp_8_MD635_down32_scoreVolume_clf_38_0102_down8.jpg s3://mousebrainatlas-data/CSHL_registration_visualization/atlasV4/atlasV4_down32_scoreVolume_clf_38_warp_8_MD635_down32_scoreVolume_clf_38/down8/atlasV4_down32_scoreVolume_clf_38_warp_8_MD635_down32_scoreVolume_clf_38_0102_down8.jpg\n",
      "aws s3 cp /shared/CSHL_registration_visualization/atlasV4/atlasV4_down32_scoreVolume_clf_38_warp_8_MD635_down32_scoreVolume_clf_38/down8/atlasV4_down32_scoreVolume_clf_38_warp_8_MD635_down32_scoreVolume_clf_38_0144_down8.jpg s3://mousebrainatlas-data/CSHL_registration_visualization/atlasV4/atlasV4_down32_scoreVolume_clf_38_warp_8_MD635_down32_scoreVolume_clf_38/down8/atlasV4_down32_scoreVolume_clf_38_warp_8_MD635_down32_scoreVolume_clf_38_0144_down8.jpg\n",
      "aws s3 cp /shared/CSHL_registration_visualization/atlasV4/atlasV4_down32_scoreVolume_clf_38_warp_8_MD635_down32_scoreVolume_clf_38/down8/atlasV4_down32_scoreVolume_clf_38_warp_8_MD635_down32_scoreVolume_clf_38_0123_down8.jpg s3://mousebrainatlas-data/CSHL_registration_visualization/atlasV4/atlasV4_down32_scoreVolume_clf_38_warp_8_MD635_down32_scoreVolume_clf_38/down8/atlasV4_down32_scoreVolume_clf_38_warp_8_MD635_down32_scoreVolume_clf_38_0123_down8.jpg\n",
      "aws s3 cp /shared/CSHL_registration_visualization/atlasV4/atlasV4_down32_scoreVolume_clf_38_warp_8_MD635_down32_scoreVolume_clf_38/down8/atlasV4_down32_scoreVolume_clf_38_warp_8_MD635_down32_scoreVolume_clf_38_0154_down8.jpg s3://mousebrainatlas-data/CSHL_registration_visualization/atlasV4/atlasV4_down32_scoreVolume_clf_38_warp_8_MD635_down32_scoreVolume_clf_38/down8/atlasV4_down32_scoreVolume_clf_38_warp_8_MD635_down32_scoreVolume_clf_38_0154_down8.jpg\n",
      "aws s3 cp /shared/CSHL_registration_visualization/atlasV4/atlasV4_down32_scoreVolume_clf_38_warp_8_MD635_down32_scoreVolume_clf_38/down8/atlasV4_down32_scoreVolume_clf_38_warp_8_MD635_down32_scoreVolume_clf_38_0092_down8.jpg s3://mousebrainatlas-data/CSHL_registration_visualization/atlasV4/atlasV4_down32_scoreVolume_clf_38_warp_8_MD635_down32_scoreVolume_clf_38/down8/atlasV4_down32_scoreVolume_clf_38_warp_8_MD635_down32_scoreVolume_clf_38_0092_down8.jpg\n",
      "aws s3 cp /shared/CSHL_registration_visualization/atlasV4/atlasV4_down32_scoreVolume_clf_38_warp_8_MD635_down32_scoreVolume_clf_38/down8/atlasV4_down32_scoreVolume_clf_38_warp_8_MD635_down32_scoreVolume_clf_38_0098_down8.jpg s3://mousebrainatlas-data/CSHL_registration_visualization/atlasV4/atlasV4_down32_scoreVolume_clf_38_warp_8_MD635_down32_scoreVolume_clf_38/down8/atlasV4_down32_scoreVolume_clf_38_warp_8_MD635_down32_scoreVolume_clf_38_0098_down8.jpg\n",
      "aws s3 cp /shared/CSHL_registration_visualization/atlasV4/atlasV4_down32_scoreVolume_clf_38_warp_8_MD635_down32_scoreVolume_clf_38/down8/atlasV4_down32_scoreVolume_clf_38_warp_8_MD635_down32_scoreVolume_clf_38_0082_down8.jpg s3://mousebrainatlas-data/CSHL_registration_visualization/atlasV4/atlasV4_down32_scoreVolume_clf_38_warp_8_MD635_down32_scoreVolume_clf_38/down8/atlasV4_down32_scoreVolume_clf_38_warp_8_MD635_down32_scoreVolume_clf_38_0082_down8.jpg\n",
      "aws s3 cp /shared/CSHL_registration_visualization/atlasV4/atlasV4_down32_scoreVolume_clf_38_warp_8_MD635_down32_scoreVolume_clf_38/down8/atlasV4_down32_scoreVolume_clf_38_warp_8_MD635_down32_scoreVolume_clf_38_0129_down8.jpg s3://mousebrainatlas-data/CSHL_registration_visualization/atlasV4/atlasV4_down32_scoreVolume_clf_38_warp_8_MD635_down32_scoreVolume_clf_38/down8/atlasV4_down32_scoreVolume_clf_38_warp_8_MD635_down32_scoreVolume_clf_38_0129_down8.jpg\n"
     ]
    },
    {
     "name": "stdout",
     "output_type": "stream",
     "text": [
      "aws s3 cp /shared/CSHL_registration_visualization/atlasV4/atlasV4_down32_scoreVolume_clf_38_warp_8_MD635_down32_scoreVolume_clf_38/down8/atlasV4_down32_scoreVolume_clf_38_warp_8_MD635_down32_scoreVolume_clf_38_0087_down8.jpg s3://mousebrainatlas-data/CSHL_registration_visualization/atlasV4/atlasV4_down32_scoreVolume_clf_38_warp_8_MD635_down32_scoreVolume_clf_38/down8/atlasV4_down32_scoreVolume_clf_38_warp_8_MD635_down32_scoreVolume_clf_38_0087_down8.jpg\n",
      "aws s3 cp /shared/CSHL_registration_visualization/atlasV4/atlasV4_down32_scoreVolume_clf_38_warp_8_MD635_down32_scoreVolume_clf_38/down8/atlasV4_down32_scoreVolume_clf_38_warp_8_MD635_down32_scoreVolume_clf_38_0114_down8.jpg s3://mousebrainatlas-data/CSHL_registration_visualization/atlasV4/atlasV4_down32_scoreVolume_clf_38_warp_8_MD635_down32_scoreVolume_clf_38/down8/atlasV4_down32_scoreVolume_clf_38_warp_8_MD635_down32_scoreVolume_clf_38_0114_down8.jpg\n",
      "aws s3 cp /shared/CSHL_registration_visualization/atlasV4/atlasV4_down32_scoreVolume_clf_38_warp_8_MD635_down32_scoreVolume_clf_38/down8/atlasV4_down32_scoreVolume_clf_38_warp_8_MD635_down32_scoreVolume_clf_38_0077_down8.jpg s3://mousebrainatlas-data/CSHL_registration_visualization/atlasV4/atlasV4_down32_scoreVolume_clf_38_warp_8_MD635_down32_scoreVolume_clf_38/down8/atlasV4_down32_scoreVolume_clf_38_warp_8_MD635_down32_scoreVolume_clf_38_0077_down8.jpg\n",
      "aws s3 cp /shared/CSHL_registration_visualization/atlasV4/atlasV4_down32_scoreVolume_clf_38_warp_8_MD635_down32_scoreVolume_clf_38/down8/atlasV4_down32_scoreVolume_clf_38_warp_8_MD635_down32_scoreVolume_clf_38_0108_down8.jpg s3://mousebrainatlas-data/CSHL_registration_visualization/atlasV4/atlasV4_down32_scoreVolume_clf_38_warp_8_MD635_down32_scoreVolume_clf_38/down8/atlasV4_down32_scoreVolume_clf_38_warp_8_MD635_down32_scoreVolume_clf_38_0108_down8.jpg\n",
      "aws s3 cp /shared/CSHL_registration_visualization/atlasV4/atlasV4_down32_scoreVolume_clf_38_warp_8_MD635_down32_scoreVolume_clf_38/down8/atlasV4_down32_scoreVolume_clf_38_warp_8_MD635_down32_scoreVolume_clf_38_0119_down8.jpg s3://mousebrainatlas-data/CSHL_registration_visualization/atlasV4/atlasV4_down32_scoreVolume_clf_38_warp_8_MD635_down32_scoreVolume_clf_38/down8/atlasV4_down32_scoreVolume_clf_38_warp_8_MD635_down32_scoreVolume_clf_38_0119_down8.jpg\n",
      "aws s3 cp /shared/CSHL_registration_visualization/atlasV4/atlasV4_down32_scoreVolume_clf_38_warp_8_MD635_down32_scoreVolume_clf_38/down8/atlasV4_down32_scoreVolume_clf_38_warp_8_MD635_down32_scoreVolume_clf_38_0134_down8.jpg s3://mousebrainatlas-data/CSHL_registration_visualization/atlasV4/atlasV4_down32_scoreVolume_clf_38_warp_8_MD635_down32_scoreVolume_clf_38/down8/atlasV4_down32_scoreVolume_clf_38_warp_8_MD635_down32_scoreVolume_clf_38_0134_down8.jpg\n",
      "aws s3 cp /shared/CSHL_registration_visualization/atlasV4/atlasV4_down32_scoreVolume_clf_38_warp_8_MD635_down32_scoreVolume_clf_38/down8/atlasV4_down32_scoreVolume_clf_38_warp_8_MD635_down32_scoreVolume_clf_38_0139_down8.jpg s3://mousebrainatlas-data/CSHL_registration_visualization/atlasV4/atlasV4_down32_scoreVolume_clf_38_warp_8_MD635_down32_scoreVolume_clf_38/down8/atlasV4_down32_scoreVolume_clf_38_warp_8_MD635_down32_scoreVolume_clf_38_0139_down8.jpg\n",
      "aws s3 cp /shared/CSHL_registration_visualization/atlasV4/atlasV4_down32_scoreVolume_clf_38_warp_8_MD635_down32_scoreVolume_clf_38/down8/atlasV4_down32_scoreVolume_clf_38_warp_8_MD635_down32_scoreVolume_clf_38_0145_down8.jpg s3://mousebrainatlas-data/CSHL_registration_visualization/atlasV4/atlasV4_down32_scoreVolume_clf_38_warp_8_MD635_down32_scoreVolume_clf_38/down8/atlasV4_down32_scoreVolume_clf_38_warp_8_MD635_down32_scoreVolume_clf_38_0145_down8.jpg\n",
      "aws s3 cp /shared/CSHL_registration_visualization/atlasV4/atlasV4_down32_scoreVolume_clf_38_warp_8_MD635_down32_scoreVolume_clf_38/down8/atlasV4_down32_scoreVolume_clf_38_warp_8_MD635_down32_scoreVolume_clf_38_0150_down8.jpg s3://mousebrainatlas-data/CSHL_registration_visualization/atlasV4/atlasV4_down32_scoreVolume_clf_38_warp_8_MD635_down32_scoreVolume_clf_38/down8/atlasV4_down32_scoreVolume_clf_38_warp_8_MD635_down32_scoreVolume_clf_38_0150_down8.jpg\n",
      "aws s3 cp /shared/CSHL_registration_visualization/atlasV4/atlasV4_down32_scoreVolume_clf_38_warp_8_MD635_down32_scoreVolume_clf_38/down8/atlasV4_down32_scoreVolume_clf_38_warp_8_MD635_down32_scoreVolume_clf_38_0103_down8.jpg s3://mousebrainatlas-data/CSHL_registration_visualization/atlasV4/atlasV4_down32_scoreVolume_clf_38_warp_8_MD635_down32_scoreVolume_clf_38/down8/atlasV4_down32_scoreVolume_clf_38_warp_8_MD635_down32_scoreVolume_clf_38_0103_down8.jpg\n",
      "aws s3 cp /shared/CSHL_registration_visualization/atlasV4/atlasV4_down32_scoreVolume_clf_38_warp_8_MD635_down32_scoreVolume_clf_38/down8/atlasV4_down32_scoreVolume_clf_38_warp_8_MD635_down32_scoreVolume_clf_38_0124_down8.jpg s3://mousebrainatlas-data/CSHL_registration_visualization/atlasV4/atlasV4_down32_scoreVolume_clf_38_warp_8_MD635_down32_scoreVolume_clf_38/down8/atlasV4_down32_scoreVolume_clf_38_warp_8_MD635_down32_scoreVolume_clf_38_0124_down8.jpg\n",
      "aws s3 cp /shared/CSHL_registration_visualization/atlasV4/atlasV4_down32_scoreVolume_clf_38_warp_8_MD635_down32_scoreVolume_clf_38/down8/atlasV4_down32_scoreVolume_clf_38_warp_8_MD635_down32_scoreVolume_clf_38_0155_down8.jpg s3://mousebrainatlas-data/CSHL_registration_visualization/atlasV4/atlasV4_down32_scoreVolume_clf_38_warp_8_MD635_down32_scoreVolume_clf_38/down8/atlasV4_down32_scoreVolume_clf_38_warp_8_MD635_down32_scoreVolume_clf_38_0155_down8.jpg\n",
      "aws s3 cp /shared/CSHL_registration_visualization/atlasV4/atlasV4_down32_scoreVolume_clf_38_warp_8_MD635_down32_scoreVolume_clf_38/down8/atlasV4_down32_scoreVolume_clf_38_warp_8_MD635_down32_scoreVolume_clf_38_0099_down8.jpg s3://mousebrainatlas-data/CSHL_registration_visualization/atlasV4/atlasV4_down32_scoreVolume_clf_38_warp_8_MD635_down32_scoreVolume_clf_38/down8/atlasV4_down32_scoreVolume_clf_38_warp_8_MD635_down32_scoreVolume_clf_38_0099_down8.jpg\n",
      "aws s3 cp /shared/CSHL_registration_visualization/atlasV4/atlasV4_down32_scoreVolume_clf_38_warp_8_MD635_down32_scoreVolume_clf_38/down8/atlasV4_down32_scoreVolume_clf_38_warp_8_MD635_down32_scoreVolume_clf_38_0094_down8.jpg s3://mousebrainatlas-data/CSHL_registration_visualization/atlasV4/atlasV4_down32_scoreVolume_clf_38_warp_8_MD635_down32_scoreVolume_clf_38/down8/atlasV4_down32_scoreVolume_clf_38_warp_8_MD635_down32_scoreVolume_clf_38_0094_down8.jpg\n",
      "aws s3 cp /shared/CSHL_registration_visualization/atlasV4/atlasV4_down32_scoreVolume_clf_38_warp_8_MD635_down32_scoreVolume_clf_38/down8/atlasV4_down32_scoreVolume_clf_38_warp_8_MD635_down32_scoreVolume_clf_38_0083_down8.jpg s3://mousebrainatlas-data/CSHL_registration_visualization/atlasV4/atlasV4_down32_scoreVolume_clf_38_warp_8_MD635_down32_scoreVolume_clf_38/down8/atlasV4_down32_scoreVolume_clf_38_warp_8_MD635_down32_scoreVolume_clf_38_0083_down8.jpg\n",
      "aws s3 cp /shared/CSHL_registration_visualization/atlasV4/atlasV4_down32_scoreVolume_clf_38_warp_8_MD635_down32_scoreVolume_clf_38/down8/atlasV4_down32_scoreVolume_clf_38_warp_8_MD635_down32_scoreVolume_clf_38_0130_down8.jpg s3://mousebrainatlas-data/CSHL_registration_visualization/atlasV4/atlasV4_down32_scoreVolume_clf_38_warp_8_MD635_down32_scoreVolume_clf_38/down8/atlasV4_down32_scoreVolume_clf_38_warp_8_MD635_down32_scoreVolume_clf_38_0130_down8.jpg\n",
      "aws s3 cp /shared/CSHL_registration_visualization/atlasV4/atlasV4_down32_scoreVolume_clf_38_warp_8_MD635_down32_scoreVolume_clf_38/down8/atlasV4_down32_scoreVolume_clf_38_warp_8_MD635_down32_scoreVolume_clf_38_0088_down8.jpg s3://mousebrainatlas-data/CSHL_registration_visualization/atlasV4/atlasV4_down32_scoreVolume_clf_38_warp_8_MD635_down32_scoreVolume_clf_38/down8/atlasV4_down32_scoreVolume_clf_38_warp_8_MD635_down32_scoreVolume_clf_38_0088_down8.jpg\n",
      "aws s3 cp /shared/CSHL_registration_visualization/atlasV4/atlasV4_down32_scoreVolume_clf_38_warp_8_MD635_down32_scoreVolume_clf_38/down8/atlasV4_down32_scoreVolume_clf_38_warp_8_MD635_down32_scoreVolume_clf_38_0115_down8.jpg s3://mousebrainatlas-data/CSHL_registration_visualization/atlasV4/atlasV4_down32_scoreVolume_clf_38_warp_8_MD635_down32_scoreVolume_clf_38/down8/atlasV4_down32_scoreVolume_clf_38_warp_8_MD635_down32_scoreVolume_clf_38_0115_down8.jpg\n"
     ]
    },
    {
     "name": "stdout",
     "output_type": "stream",
     "text": [
      "aws s3 cp /shared/CSHL_registration_visualization/atlasV4/atlasV4_down32_scoreVolume_clf_38_warp_8_MD635_down32_scoreVolume_clf_38/down8/atlasV4_down32_scoreVolume_clf_38_warp_8_MD635_down32_scoreVolume_clf_38_0078_down8.jpg s3://mousebrainatlas-data/CSHL_registration_visualization/atlasV4/atlasV4_down32_scoreVolume_clf_38_warp_8_MD635_down32_scoreVolume_clf_38/down8/atlasV4_down32_scoreVolume_clf_38_warp_8_MD635_down32_scoreVolume_clf_38_0078_down8.jpg\n",
      "aws s3 cp /shared/CSHL_registration_visualization/atlasV4/atlasV4_down32_scoreVolume_clf_38_warp_8_MD635_down32_scoreVolume_clf_38/down8/atlasV4_down32_scoreVolume_clf_38_warp_8_MD635_down32_scoreVolume_clf_38_0109_down8.jpg s3://mousebrainatlas-data/CSHL_registration_visualization/atlasV4/atlasV4_down32_scoreVolume_clf_38_warp_8_MD635_down32_scoreVolume_clf_38/down8/atlasV4_down32_scoreVolume_clf_38_warp_8_MD635_down32_scoreVolume_clf_38_0109_down8.jpg\n",
      "aws s3 cp /shared/CSHL_registration_visualization/atlasV4/atlasV4_down32_scoreVolume_clf_38_warp_8_MD635_down32_scoreVolume_clf_38/down8/atlasV4_down32_scoreVolume_clf_38_warp_8_MD635_down32_scoreVolume_clf_38_0104_down8.jpg s3://mousebrainatlas-data/CSHL_registration_visualization/atlasV4/atlasV4_down32_scoreVolume_clf_38_warp_8_MD635_down32_scoreVolume_clf_38/down8/atlasV4_down32_scoreVolume_clf_38_warp_8_MD635_down32_scoreVolume_clf_38_0104_down8.jpg\n",
      "aws s3 cp /shared/CSHL_registration_visualization/atlasV4/atlasV4_down32_scoreVolume_clf_38_warp_8_MD635_down32_scoreVolume_clf_38/down8/atlasV4_down32_scoreVolume_clf_38_warp_8_MD635_down32_scoreVolume_clf_38_0151_down8.jpg s3://mousebrainatlas-data/CSHL_registration_visualization/atlasV4/atlasV4_down32_scoreVolume_clf_38_warp_8_MD635_down32_scoreVolume_clf_38/down8/atlasV4_down32_scoreVolume_clf_38_warp_8_MD635_down32_scoreVolume_clf_38_0151_down8.jpg\n",
      "aws s3 cp /shared/CSHL_registration_visualization/atlasV4/atlasV4_down32_scoreVolume_clf_38_warp_8_MD635_down32_scoreVolume_clf_38/down8/atlasV4_down32_scoreVolume_clf_38_warp_8_MD635_down32_scoreVolume_clf_38_0125_down8.jpg s3://mousebrainatlas-data/CSHL_registration_visualization/atlasV4/atlasV4_down32_scoreVolume_clf_38_warp_8_MD635_down32_scoreVolume_clf_38/down8/atlasV4_down32_scoreVolume_clf_38_warp_8_MD635_down32_scoreVolume_clf_38_0125_down8.jpg\n",
      "aws s3 cp /shared/CSHL_registration_visualization/atlasV4/atlasV4_down32_scoreVolume_clf_38_warp_8_MD635_down32_scoreVolume_clf_38/down8/atlasV4_down32_scoreVolume_clf_38_warp_8_MD635_down32_scoreVolume_clf_38_0135_down8.jpg s3://mousebrainatlas-data/CSHL_registration_visualization/atlasV4/atlasV4_down32_scoreVolume_clf_38_warp_8_MD635_down32_scoreVolume_clf_38/down8/atlasV4_down32_scoreVolume_clf_38_warp_8_MD635_down32_scoreVolume_clf_38_0135_down8.jpg\n",
      "aws s3 cp /shared/CSHL_registration_visualization/atlasV4/atlasV4_down32_scoreVolume_clf_38_warp_8_MD635_down32_scoreVolume_clf_38/down8/atlasV4_down32_scoreVolume_clf_38_warp_8_MD635_down32_scoreVolume_clf_38_0141_down8.jpg s3://mousebrainatlas-data/CSHL_registration_visualization/atlasV4/atlasV4_down32_scoreVolume_clf_38_warp_8_MD635_down32_scoreVolume_clf_38/down8/atlasV4_down32_scoreVolume_clf_38_warp_8_MD635_down32_scoreVolume_clf_38_0141_down8.jpg\n",
      "aws s3 cp /shared/CSHL_registration_visualization/atlasV4/atlasV4_down32_scoreVolume_clf_38_warp_8_MD635_down32_scoreVolume_clf_38/down8/atlasV4_down32_scoreVolume_clf_38_warp_8_MD635_down32_scoreVolume_clf_38_0146_down8.jpg s3://mousebrainatlas-data/CSHL_registration_visualization/atlasV4/atlasV4_down32_scoreVolume_clf_38_warp_8_MD635_down32_scoreVolume_clf_38/down8/atlasV4_down32_scoreVolume_clf_38_warp_8_MD635_down32_scoreVolume_clf_38_0146_down8.jpg\n",
      "aws s3 cp /shared/CSHL_registration_visualization/atlasV4/atlasV4_down32_scoreVolume_clf_38_warp_8_MD635_down32_scoreVolume_clf_38/down8/atlasV4_down32_scoreVolume_clf_38_warp_8_MD635_down32_scoreVolume_clf_38_0157_down8.jpg s3://mousebrainatlas-data/CSHL_registration_visualization/atlasV4/atlasV4_down32_scoreVolume_clf_38_warp_8_MD635_down32_scoreVolume_clf_38/down8/atlasV4_down32_scoreVolume_clf_38_warp_8_MD635_down32_scoreVolume_clf_38_0157_down8.jpg\n",
      "aws s3 cp /shared/CSHL_registration_visualization/atlasV4/atlasV4_down32_scoreVolume_clf_38_warp_8_MD635_down32_scoreVolume_clf_38/down8/atlasV4_down32_scoreVolume_clf_38_warp_8_MD635_down32_scoreVolume_clf_38_0120_down8.jpg s3://mousebrainatlas-data/CSHL_registration_visualization/atlasV4/atlasV4_down32_scoreVolume_clf_38_warp_8_MD635_down32_scoreVolume_clf_38/down8/atlasV4_down32_scoreVolume_clf_38_warp_8_MD635_down32_scoreVolume_clf_38_0120_down8.jpg\n",
      "aws s3 cp /shared/CSHL_registration_visualization/atlasV4/atlasV4_down32_scoreVolume_clf_38_warp_8_MD635_down32_scoreVolume_clf_38/down8/atlasV4_down32_scoreVolume_clf_38_warp_8_MD635_down32_scoreVolume_clf_38_0100_down8.jpg s3://mousebrainatlas-data/CSHL_registration_visualization/atlasV4/atlasV4_down32_scoreVolume_clf_38_warp_8_MD635_down32_scoreVolume_clf_38/down8/atlasV4_down32_scoreVolume_clf_38_warp_8_MD635_down32_scoreVolume_clf_38_0100_down8.jpg\n",
      "aws s3 cp /shared/CSHL_registration_visualization/atlasV4/atlasV4_down32_scoreVolume_clf_38_warp_8_MD635_down32_scoreVolume_clf_38/down8/atlasV4_down32_scoreVolume_clf_38_warp_8_MD635_down32_scoreVolume_clf_38_0095_down8.jpg s3://mousebrainatlas-data/CSHL_registration_visualization/atlasV4/atlasV4_down32_scoreVolume_clf_38_warp_8_MD635_down32_scoreVolume_clf_38/down8/atlasV4_down32_scoreVolume_clf_38_warp_8_MD635_down32_scoreVolume_clf_38_0095_down8.jpg\n",
      "aws s3 cp /shared/CSHL_registration_visualization/atlasV4/atlasV4_down32_scoreVolume_clf_38_warp_8_MD635_down32_scoreVolume_clf_38/down8/atlasV4_down32_scoreVolume_clf_38_warp_8_MD635_down32_scoreVolume_clf_38_0084_down8.jpg s3://mousebrainatlas-data/CSHL_registration_visualization/atlasV4/atlasV4_down32_scoreVolume_clf_38_warp_8_MD635_down32_scoreVolume_clf_38/down8/atlasV4_down32_scoreVolume_clf_38_warp_8_MD635_down32_scoreVolume_clf_38_0084_down8.jpg\n",
      "aws s3 cp /shared/CSHL_registration_visualization/atlasV4/atlasV4_down32_scoreVolume_clf_38_warp_8_MD635_down32_scoreVolume_clf_38/down8/atlasV4_down32_scoreVolume_clf_38_warp_8_MD635_down32_scoreVolume_clf_38_0131_down8.jpg s3://mousebrainatlas-data/CSHL_registration_visualization/atlasV4/atlasV4_down32_scoreVolume_clf_38_warp_8_MD635_down32_scoreVolume_clf_38/down8/atlasV4_down32_scoreVolume_clf_38_warp_8_MD635_down32_scoreVolume_clf_38_0131_down8.jpg\n",
      "aws s3 cp /shared/CSHL_registration_visualization/atlasV4/atlasV4_down32_scoreVolume_clf_38_warp_8_MD635_down32_scoreVolume_clf_38/down8/atlasV4_down32_scoreVolume_clf_38_warp_8_MD635_down32_scoreVolume_clf_38_0089_down8.jpg s3://mousebrainatlas-data/CSHL_registration_visualization/atlasV4/atlasV4_down32_scoreVolume_clf_38_warp_8_MD635_down32_scoreVolume_clf_38/down8/atlasV4_down32_scoreVolume_clf_38_warp_8_MD635_down32_scoreVolume_clf_38_0089_down8.jpg\n",
      "aws s3 cp /shared/CSHL_registration_visualization/atlasV4/atlasV4_down32_scoreVolume_clf_38_warp_8_MD635_down32_scoreVolume_clf_38/down8/atlasV4_down32_scoreVolume_clf_38_warp_8_MD635_down32_scoreVolume_clf_38_0079_down8.jpg s3://mousebrainatlas-data/CSHL_registration_visualization/atlasV4/atlasV4_down32_scoreVolume_clf_38_warp_8_MD635_down32_scoreVolume_clf_38/down8/atlasV4_down32_scoreVolume_clf_38_warp_8_MD635_down32_scoreVolume_clf_38_0079_down8.jpg\n",
      "aws s3 cp /shared/CSHL_registration_visualization/atlasV4/atlasV4_down32_scoreVolume_clf_38_warp_8_MD635_down32_scoreVolume_clf_38/down8/atlasV4_down32_scoreVolume_clf_38_warp_8_MD635_down32_scoreVolume_clf_38_0116_down8.jpg s3://mousebrainatlas-data/CSHL_registration_visualization/atlasV4/atlasV4_down32_scoreVolume_clf_38_warp_8_MD635_down32_scoreVolume_clf_38/down8/atlasV4_down32_scoreVolume_clf_38_warp_8_MD635_down32_scoreVolume_clf_38_0116_down8.jpg\n",
      "aws s3 cp /shared/CSHL_registration_visualization/atlasV4/atlasV4_down32_scoreVolume_clf_38_warp_8_MD635_down32_scoreVolume_clf_38/down8/atlasV4_down32_scoreVolume_clf_38_warp_8_MD635_down32_scoreVolume_clf_38_0152_down8.jpg s3://mousebrainatlas-data/CSHL_registration_visualization/atlasV4/atlasV4_down32_scoreVolume_clf_38_warp_8_MD635_down32_scoreVolume_clf_38/down8/atlasV4_down32_scoreVolume_clf_38_warp_8_MD635_down32_scoreVolume_clf_38_0152_down8.jpg\n"
     ]
    },
    {
     "name": "stdout",
     "output_type": "stream",
     "text": [
      "aws s3 cp /shared/CSHL_registration_visualization/atlasV4/atlasV4_down32_scoreVolume_clf_38_warp_8_MD635_down32_scoreVolume_clf_38/down8/atlasV4_down32_scoreVolume_clf_38_warp_8_MD635_down32_scoreVolume_clf_38_0110_down8.jpg s3://mousebrainatlas-data/CSHL_registration_visualization/atlasV4/atlasV4_down32_scoreVolume_clf_38_warp_8_MD635_down32_scoreVolume_clf_38/down8/atlasV4_down32_scoreVolume_clf_38_warp_8_MD635_down32_scoreVolume_clf_38_0110_down8.jpg\n",
      "aws s3 cp /shared/CSHL_registration_visualization/atlasV4/atlasV4_down32_scoreVolume_clf_38_warp_8_MD635_down32_scoreVolume_clf_38/down8/atlasV4_down32_scoreVolume_clf_38_warp_8_MD635_down32_scoreVolume_clf_38_0105_down8.jpg s3://mousebrainatlas-data/CSHL_registration_visualization/atlasV4/atlasV4_down32_scoreVolume_clf_38_warp_8_MD635_down32_scoreVolume_clf_38/down8/atlasV4_down32_scoreVolume_clf_38_warp_8_MD635_down32_scoreVolume_clf_38_0105_down8.jpg\n",
      "aws s3 cp /shared/CSHL_registration_visualization/atlasV4/atlasV4_down32_scoreVolume_clf_38_warp_8_MD635_down32_scoreVolume_clf_38/down8/atlasV4_down32_scoreVolume_clf_38_warp_8_MD635_down32_scoreVolume_clf_38_0136_down8.jpg s3://mousebrainatlas-data/CSHL_registration_visualization/atlasV4/atlasV4_down32_scoreVolume_clf_38_warp_8_MD635_down32_scoreVolume_clf_38/down8/atlasV4_down32_scoreVolume_clf_38_warp_8_MD635_down32_scoreVolume_clf_38_0136_down8.jpg\n",
      "aws s3 cp /shared/CSHL_registration_visualization/atlasV4/atlasV4_down32_scoreVolume_clf_38_warp_8_MD635_down32_scoreVolume_clf_38/down8/atlasV4_down32_scoreVolume_clf_38_warp_8_MD635_down32_scoreVolume_clf_38_0126_down8.jpg s3://mousebrainatlas-data/CSHL_registration_visualization/atlasV4/atlasV4_down32_scoreVolume_clf_38_warp_8_MD635_down32_scoreVolume_clf_38/down8/atlasV4_down32_scoreVolume_clf_38_warp_8_MD635_down32_scoreVolume_clf_38_0126_down8.jpg\n",
      "aws s3 cp /shared/CSHL_registration_visualization/atlasV4/atlasV4_down32_scoreVolume_clf_38_warp_8_MD635_down32_scoreVolume_clf_38/down8/atlasV4_down32_scoreVolume_clf_38_warp_8_MD635_down32_scoreVolume_clf_38_0142_down8.jpg s3://mousebrainatlas-data/CSHL_registration_visualization/atlasV4/atlasV4_down32_scoreVolume_clf_38_warp_8_MD635_down32_scoreVolume_clf_38/down8/atlasV4_down32_scoreVolume_clf_38_warp_8_MD635_down32_scoreVolume_clf_38_0142_down8.jpg\n",
      "aws s3 cp /shared/CSHL_registration_visualization/atlasV4/atlasV4_down32_scoreVolume_clf_38_warp_8_MD635_down32_scoreVolume_clf_38/down8/atlasV4_down32_scoreVolume_clf_38_warp_8_MD635_down32_scoreVolume_clf_38_0121_down8.jpg s3://mousebrainatlas-data/CSHL_registration_visualization/atlasV4/atlasV4_down32_scoreVolume_clf_38_warp_8_MD635_down32_scoreVolume_clf_38/down8/atlasV4_down32_scoreVolume_clf_38_warp_8_MD635_down32_scoreVolume_clf_38_0121_down8.jpg\n",
      "aws s3 cp /shared/CSHL_registration_visualization/atlasV4/atlasV4_down32_scoreVolume_clf_38_warp_8_MD635_down32_scoreVolume_clf_38/down8/atlasV4_down32_scoreVolume_clf_38_warp_8_MD635_down32_scoreVolume_clf_38_0147_down8.jpg s3://mousebrainatlas-data/CSHL_registration_visualization/atlasV4/atlasV4_down32_scoreVolume_clf_38_warp_8_MD635_down32_scoreVolume_clf_38/down8/atlasV4_down32_scoreVolume_clf_38_warp_8_MD635_down32_scoreVolume_clf_38_0147_down8.jpg\n",
      "aws s3 cp /shared/CSHL_registration_visualization/atlasV4/atlasV4_down32_scoreVolume_clf_38_warp_8_MD635_down32_scoreVolume_clf_38/down8/atlasV4_down32_scoreVolume_clf_38_warp_8_MD635_down32_scoreVolume_clf_38_0158_down8.jpg s3://mousebrainatlas-data/CSHL_registration_visualization/atlasV4/atlasV4_down32_scoreVolume_clf_38_warp_8_MD635_down32_scoreVolume_clf_38/down8/atlasV4_down32_scoreVolume_clf_38_warp_8_MD635_down32_scoreVolume_clf_38_0158_down8.jpg\n",
      "aws s3 cp /shared/CSHL_registration_visualization/atlasV4/atlasV4_down32_scoreVolume_clf_38_warp_8_MD635_down32_scoreVolume_clf_38/down8/atlasV4_down32_scoreVolume_clf_38_warp_8_MD635_down32_scoreVolume_clf_38_0159_down8.jpg s3://mousebrainatlas-data/CSHL_registration_visualization/atlasV4/atlasV4_down32_scoreVolume_clf_38_warp_8_MD635_down32_scoreVolume_clf_38/down8/atlasV4_down32_scoreVolume_clf_38_warp_8_MD635_down32_scoreVolume_clf_38_0159_down8.jpg\n",
      "aws s3 cp /shared/CSHL_registration_visualization/atlasV4/atlasV4_down32_scoreVolume_clf_38_warp_8_MD635_down32_scoreVolume_clf_38/down8/atlasV4_down32_scoreVolume_clf_38_warp_8_MD635_down32_scoreVolume_clf_38_0164_down8.jpg s3://mousebrainatlas-data/CSHL_registration_visualization/atlasV4/atlasV4_down32_scoreVolume_clf_38_warp_8_MD635_down32_scoreVolume_clf_38/down8/atlasV4_down32_scoreVolume_clf_38_warp_8_MD635_down32_scoreVolume_clf_38_0164_down8.jpg\n",
      "aws s3 cp /shared/CSHL_registration_visualization/atlasV4/atlasV4_down32_scoreVolume_clf_38_warp_8_MD635_down32_scoreVolume_clf_38/down8/atlasV4_down32_scoreVolume_clf_38_warp_8_MD635_down32_scoreVolume_clf_38_0169_down8.jpg s3://mousebrainatlas-data/CSHL_registration_visualization/atlasV4/atlasV4_down32_scoreVolume_clf_38_warp_8_MD635_down32_scoreVolume_clf_38/down8/atlasV4_down32_scoreVolume_clf_38_warp_8_MD635_down32_scoreVolume_clf_38_0169_down8.jpg\n",
      "aws s3 cp /shared/CSHL_registration_visualization/atlasV4/atlasV4_down32_scoreVolume_clf_38_warp_8_MD635_down32_scoreVolume_clf_38/down8/atlasV4_down32_scoreVolume_clf_38_warp_8_MD635_down32_scoreVolume_clf_38_0174_down8.jpg s3://mousebrainatlas-data/CSHL_registration_visualization/atlasV4/atlasV4_down32_scoreVolume_clf_38_warp_8_MD635_down32_scoreVolume_clf_38/down8/atlasV4_down32_scoreVolume_clf_38_warp_8_MD635_down32_scoreVolume_clf_38_0174_down8.jpg\n",
      "aws s3 cp /shared/CSHL_registration_visualization/atlasV4/atlasV4_down32_scoreVolume_clf_38_warp_8_MD635_down32_scoreVolume_clf_38/down8/atlasV4_down32_scoreVolume_clf_38_warp_8_MD635_down32_scoreVolume_clf_38_0179_down8.jpg s3://mousebrainatlas-data/CSHL_registration_visualization/atlasV4/atlasV4_down32_scoreVolume_clf_38_warp_8_MD635_down32_scoreVolume_clf_38/down8/atlasV4_down32_scoreVolume_clf_38_warp_8_MD635_down32_scoreVolume_clf_38_0179_down8.jpg\n",
      "aws s3 cp /shared/CSHL_registration_visualization/atlasV4/atlasV4_down32_scoreVolume_clf_38_warp_8_MD635_down32_scoreVolume_clf_38/down8/atlasV4_down32_scoreVolume_clf_38_warp_8_MD635_down32_scoreVolume_clf_38_0184_down8.jpg s3://mousebrainatlas-data/CSHL_registration_visualization/atlasV4/atlasV4_down32_scoreVolume_clf_38_warp_8_MD635_down32_scoreVolume_clf_38/down8/atlasV4_down32_scoreVolume_clf_38_warp_8_MD635_down32_scoreVolume_clf_38_0184_down8.jpg\n",
      "aws s3 cp /shared/CSHL_registration_visualization/atlasV4/atlasV4_down32_scoreVolume_clf_38_warp_8_MD635_down32_scoreVolume_clf_38/down8/atlasV4_down32_scoreVolume_clf_38_warp_8_MD635_down32_scoreVolume_clf_38_0189_down8.jpg s3://mousebrainatlas-data/CSHL_registration_visualization/atlasV4/atlasV4_down32_scoreVolume_clf_38_warp_8_MD635_down32_scoreVolume_clf_38/down8/atlasV4_down32_scoreVolume_clf_38_warp_8_MD635_down32_scoreVolume_clf_38_0189_down8.jpg\n",
      "aws s3 cp /shared/CSHL_registration_visualization/atlasV4/atlasV4_down32_scoreVolume_clf_38_warp_8_MD635_down32_scoreVolume_clf_38/down8/atlasV4_down32_scoreVolume_clf_38_warp_8_MD635_down32_scoreVolume_clf_38_0194_down8.jpg s3://mousebrainatlas-data/CSHL_registration_visualization/atlasV4/atlasV4_down32_scoreVolume_clf_38_warp_8_MD635_down32_scoreVolume_clf_38/down8/atlasV4_down32_scoreVolume_clf_38_warp_8_MD635_down32_scoreVolume_clf_38_0194_down8.jpg\n",
      "aws s3 cp /shared/CSHL_registration_visualization/atlasV4/atlasV4_down32_scoreVolume_clf_38_warp_8_MD635_down32_scoreVolume_clf_38/down8/atlasV4_down32_scoreVolume_clf_38_warp_8_MD635_down32_scoreVolume_clf_38_0210_down8.jpg s3://mousebrainatlas-data/CSHL_registration_visualization/atlasV4/atlasV4_down32_scoreVolume_clf_38_warp_8_MD635_down32_scoreVolume_clf_38/down8/atlasV4_down32_scoreVolume_clf_38_warp_8_MD635_down32_scoreVolume_clf_38_0210_down8.jpg\n",
      "aws s3 cp /shared/CSHL_registration_visualization/atlasV4/atlasV4_down32_scoreVolume_clf_38_warp_8_MD635_down32_scoreVolume_clf_38/down8/atlasV4_down32_scoreVolume_clf_38_warp_8_MD635_down32_scoreVolume_clf_38_0199_down8.jpg s3://mousebrainatlas-data/CSHL_registration_visualization/atlasV4/atlasV4_down32_scoreVolume_clf_38_warp_8_MD635_down32_scoreVolume_clf_38/down8/atlasV4_down32_scoreVolume_clf_38_warp_8_MD635_down32_scoreVolume_clf_38_0199_down8.jpg\n"
     ]
    },
    {
     "name": "stdout",
     "output_type": "stream",
     "text": [
      "aws s3 cp /shared/CSHL_registration_visualization/atlasV4/atlasV4_down32_scoreVolume_clf_38_warp_8_MD635_down32_scoreVolume_clf_38/down8/atlasV4_down32_scoreVolume_clf_38_warp_8_MD635_down32_scoreVolume_clf_38_0226_down8.jpg s3://mousebrainatlas-data/CSHL_registration_visualization/atlasV4/atlasV4_down32_scoreVolume_clf_38_warp_8_MD635_down32_scoreVolume_clf_38/down8/atlasV4_down32_scoreVolume_clf_38_warp_8_MD635_down32_scoreVolume_clf_38_0226_down8.jpg\n",
      "aws s3 cp /shared/CSHL_registration_visualization/atlasV4/atlasV4_down32_scoreVolume_clf_38_warp_8_MD635_down32_scoreVolume_clf_38/down8/atlasV4_down32_scoreVolume_clf_38_warp_8_MD635_down32_scoreVolume_clf_38_0204_down8.jpg s3://mousebrainatlas-data/CSHL_registration_visualization/atlasV4/atlasV4_down32_scoreVolume_clf_38_warp_8_MD635_down32_scoreVolume_clf_38/down8/atlasV4_down32_scoreVolume_clf_38_warp_8_MD635_down32_scoreVolume_clf_38_0204_down8.jpg\n",
      "aws s3 cp /shared/CSHL_registration_visualization/atlasV4/atlasV4_down32_scoreVolume_clf_38_warp_8_MD635_down32_scoreVolume_clf_38/down8/atlasV4_down32_scoreVolume_clf_38_warp_8_MD635_down32_scoreVolume_clf_38_0216_down8.jpg s3://mousebrainatlas-data/CSHL_registration_visualization/atlasV4/atlasV4_down32_scoreVolume_clf_38_warp_8_MD635_down32_scoreVolume_clf_38/down8/atlasV4_down32_scoreVolume_clf_38_warp_8_MD635_down32_scoreVolume_clf_38_0216_down8.jpg\n",
      "aws s3 cp /shared/CSHL_registration_visualization/atlasV4/atlasV4_down32_scoreVolume_clf_38_warp_8_MD635_down32_scoreVolume_clf_38/down8/atlasV4_down32_scoreVolume_clf_38_warp_8_MD635_down32_scoreVolume_clf_38_0221_down8.jpg s3://mousebrainatlas-data/CSHL_registration_visualization/atlasV4/atlasV4_down32_scoreVolume_clf_38_warp_8_MD635_down32_scoreVolume_clf_38/down8/atlasV4_down32_scoreVolume_clf_38_warp_8_MD635_down32_scoreVolume_clf_38_0221_down8.jpg\n",
      "aws s3 cp /shared/CSHL_registration_visualization/atlasV4/atlasV4_down32_scoreVolume_clf_38_warp_8_MD635_down32_scoreVolume_clf_38/down8/atlasV4_down32_scoreVolume_clf_38_warp_8_MD635_down32_scoreVolume_clf_38_0231_down8.jpg s3://mousebrainatlas-data/CSHL_registration_visualization/atlasV4/atlasV4_down32_scoreVolume_clf_38_warp_8_MD635_down32_scoreVolume_clf_38/down8/atlasV4_down32_scoreVolume_clf_38_warp_8_MD635_down32_scoreVolume_clf_38_0231_down8.jpg\n",
      "aws s3 cp /shared/CSHL_registration_visualization/atlasV4/atlasV4_down32_scoreVolume_clf_38_warp_8_MD635_down32_scoreVolume_clf_38/down8/atlasV4_down32_scoreVolume_clf_38_warp_8_MD635_down32_scoreVolume_clf_38_0237_down8.jpg s3://mousebrainatlas-data/CSHL_registration_visualization/atlasV4/atlasV4_down32_scoreVolume_clf_38_warp_8_MD635_down32_scoreVolume_clf_38/down8/atlasV4_down32_scoreVolume_clf_38_warp_8_MD635_down32_scoreVolume_clf_38_0237_down8.jpg\n",
      "aws s3 cp /shared/CSHL_registration_visualization/atlasV4/atlasV4_down32_scoreVolume_clf_38_warp_8_MD635_down32_scoreVolume_clf_38/down8/atlasV4_down32_scoreVolume_clf_38_warp_8_MD635_down32_scoreVolume_clf_38_0160_down8.jpg s3://mousebrainatlas-data/CSHL_registration_visualization/atlasV4/atlasV4_down32_scoreVolume_clf_38_warp_8_MD635_down32_scoreVolume_clf_38/down8/atlasV4_down32_scoreVolume_clf_38_warp_8_MD635_down32_scoreVolume_clf_38_0160_down8.jpg\n",
      "aws s3 cp /shared/CSHL_registration_visualization/atlasV4/atlasV4_down32_scoreVolume_clf_38_warp_8_MD635_down32_scoreVolume_clf_38/down8/atlasV4_down32_scoreVolume_clf_38_warp_8_MD635_down32_scoreVolume_clf_38_0165_down8.jpg s3://mousebrainatlas-data/CSHL_registration_visualization/atlasV4/atlasV4_down32_scoreVolume_clf_38_warp_8_MD635_down32_scoreVolume_clf_38/down8/atlasV4_down32_scoreVolume_clf_38_warp_8_MD635_down32_scoreVolume_clf_38_0165_down8.jpg\n",
      "aws s3 cp /shared/CSHL_registration_visualization/atlasV4/atlasV4_down32_scoreVolume_clf_38_warp_8_MD635_down32_scoreVolume_clf_38/down8/atlasV4_down32_scoreVolume_clf_38_warp_8_MD635_down32_scoreVolume_clf_38_0170_down8.jpg s3://mousebrainatlas-data/CSHL_registration_visualization/atlasV4/atlasV4_down32_scoreVolume_clf_38_warp_8_MD635_down32_scoreVolume_clf_38/down8/atlasV4_down32_scoreVolume_clf_38_warp_8_MD635_down32_scoreVolume_clf_38_0170_down8.jpg\n",
      "aws s3 cp /shared/CSHL_registration_visualization/atlasV4/atlasV4_down32_scoreVolume_clf_38_warp_8_MD635_down32_scoreVolume_clf_38/down8/atlasV4_down32_scoreVolume_clf_38_warp_8_MD635_down32_scoreVolume_clf_38_0175_down8.jpg s3://mousebrainatlas-data/CSHL_registration_visualization/atlasV4/atlasV4_down32_scoreVolume_clf_38_warp_8_MD635_down32_scoreVolume_clf_38/down8/atlasV4_down32_scoreVolume_clf_38_warp_8_MD635_down32_scoreVolume_clf_38_0175_down8.jpg\n",
      "aws s3 cp /shared/CSHL_registration_visualization/atlasV4/atlasV4_down32_scoreVolume_clf_38_warp_8_MD635_down32_scoreVolume_clf_38/down8/atlasV4_down32_scoreVolume_clf_38_warp_8_MD635_down32_scoreVolume_clf_38_0180_down8.jpg s3://mousebrainatlas-data/CSHL_registration_visualization/atlasV4/atlasV4_down32_scoreVolume_clf_38_warp_8_MD635_down32_scoreVolume_clf_38/down8/atlasV4_down32_scoreVolume_clf_38_warp_8_MD635_down32_scoreVolume_clf_38_0180_down8.jpg\n",
      "aws s3 cp /shared/CSHL_registration_visualization/atlasV4/atlasV4_down32_scoreVolume_clf_38_warp_8_MD635_down32_scoreVolume_clf_38/down8/atlasV4_down32_scoreVolume_clf_38_warp_8_MD635_down32_scoreVolume_clf_38_0185_down8.jpg s3://mousebrainatlas-data/CSHL_registration_visualization/atlasV4/atlasV4_down32_scoreVolume_clf_38_warp_8_MD635_down32_scoreVolume_clf_38/down8/atlasV4_down32_scoreVolume_clf_38_warp_8_MD635_down32_scoreVolume_clf_38_0185_down8.jpg\n",
      "aws s3 cp /shared/CSHL_registration_visualization/atlasV4/atlasV4_down32_scoreVolume_clf_38_warp_8_MD635_down32_scoreVolume_clf_38/down8/atlasV4_down32_scoreVolume_clf_38_warp_8_MD635_down32_scoreVolume_clf_38_0190_down8.jpg s3://mousebrainatlas-data/CSHL_registration_visualization/atlasV4/atlasV4_down32_scoreVolume_clf_38_warp_8_MD635_down32_scoreVolume_clf_38/down8/atlasV4_down32_scoreVolume_clf_38_warp_8_MD635_down32_scoreVolume_clf_38_0190_down8.jpg\n",
      "aws s3 cp /shared/CSHL_registration_visualization/atlasV4/atlasV4_down32_scoreVolume_clf_38_warp_8_MD635_down32_scoreVolume_clf_38/down8/atlasV4_down32_scoreVolume_clf_38_warp_8_MD635_down32_scoreVolume_clf_38_0195_down8.jpg s3://mousebrainatlas-data/CSHL_registration_visualization/atlasV4/atlasV4_down32_scoreVolume_clf_38_warp_8_MD635_down32_scoreVolume_clf_38/down8/atlasV4_down32_scoreVolume_clf_38_warp_8_MD635_down32_scoreVolume_clf_38_0195_down8.jpg\n",
      "aws s3 cp /shared/CSHL_registration_visualization/atlasV4/atlasV4_down32_scoreVolume_clf_38_warp_8_MD635_down32_scoreVolume_clf_38/down8/atlasV4_down32_scoreVolume_clf_38_warp_8_MD635_down32_scoreVolume_clf_38_0211_down8.jpg s3://mousebrainatlas-data/CSHL_registration_visualization/atlasV4/atlasV4_down32_scoreVolume_clf_38_warp_8_MD635_down32_scoreVolume_clf_38/down8/atlasV4_down32_scoreVolume_clf_38_warp_8_MD635_down32_scoreVolume_clf_38_0211_down8.jpg\n",
      "aws s3 cp /shared/CSHL_registration_visualization/atlasV4/atlasV4_down32_scoreVolume_clf_38_warp_8_MD635_down32_scoreVolume_clf_38/down8/atlasV4_down32_scoreVolume_clf_38_warp_8_MD635_down32_scoreVolume_clf_38_0227_down8.jpg s3://mousebrainatlas-data/CSHL_registration_visualization/atlasV4/atlasV4_down32_scoreVolume_clf_38_warp_8_MD635_down32_scoreVolume_clf_38/down8/atlasV4_down32_scoreVolume_clf_38_warp_8_MD635_down32_scoreVolume_clf_38_0227_down8.jpg\n",
      "aws s3 cp /shared/CSHL_registration_visualization/atlasV4/atlasV4_down32_scoreVolume_clf_38_warp_8_MD635_down32_scoreVolume_clf_38/down8/atlasV4_down32_scoreVolume_clf_38_warp_8_MD635_down32_scoreVolume_clf_38_0200_down8.jpg s3://mousebrainatlas-data/CSHL_registration_visualization/atlasV4/atlasV4_down32_scoreVolume_clf_38_warp_8_MD635_down32_scoreVolume_clf_38/down8/atlasV4_down32_scoreVolume_clf_38_warp_8_MD635_down32_scoreVolume_clf_38_0200_down8.jpg\n",
      "aws s3 cp /shared/CSHL_registration_visualization/atlasV4/atlasV4_down32_scoreVolume_clf_38_warp_8_MD635_down32_scoreVolume_clf_38/down8/atlasV4_down32_scoreVolume_clf_38_warp_8_MD635_down32_scoreVolume_clf_38_0206_down8.jpg s3://mousebrainatlas-data/CSHL_registration_visualization/atlasV4/atlasV4_down32_scoreVolume_clf_38_warp_8_MD635_down32_scoreVolume_clf_38/down8/atlasV4_down32_scoreVolume_clf_38_warp_8_MD635_down32_scoreVolume_clf_38_0206_down8.jpg\n"
     ]
    },
    {
     "name": "stdout",
     "output_type": "stream",
     "text": [
      "aws s3 cp /shared/CSHL_registration_visualization/atlasV4/atlasV4_down32_scoreVolume_clf_38_warp_8_MD635_down32_scoreVolume_clf_38/down8/atlasV4_down32_scoreVolume_clf_38_warp_8_MD635_down32_scoreVolume_clf_38_0217_down8.jpg s3://mousebrainatlas-data/CSHL_registration_visualization/atlasV4/atlasV4_down32_scoreVolume_clf_38_warp_8_MD635_down32_scoreVolume_clf_38/down8/atlasV4_down32_scoreVolume_clf_38_warp_8_MD635_down32_scoreVolume_clf_38_0217_down8.jpg\n",
      "aws s3 cp /shared/CSHL_registration_visualization/atlasV4/atlasV4_down32_scoreVolume_clf_38_warp_8_MD635_down32_scoreVolume_clf_38/down8/atlasV4_down32_scoreVolume_clf_38_warp_8_MD635_down32_scoreVolume_clf_38_0233_down8.jpg s3://mousebrainatlas-data/CSHL_registration_visualization/atlasV4/atlasV4_down32_scoreVolume_clf_38_warp_8_MD635_down32_scoreVolume_clf_38/down8/atlasV4_down32_scoreVolume_clf_38_warp_8_MD635_down32_scoreVolume_clf_38_0233_down8.jpg\n",
      "aws s3 cp /shared/CSHL_registration_visualization/atlasV4/atlasV4_down32_scoreVolume_clf_38_warp_8_MD635_down32_scoreVolume_clf_38/down8/atlasV4_down32_scoreVolume_clf_38_warp_8_MD635_down32_scoreVolume_clf_38_0222_down8.jpg s3://mousebrainatlas-data/CSHL_registration_visualization/atlasV4/atlasV4_down32_scoreVolume_clf_38_warp_8_MD635_down32_scoreVolume_clf_38/down8/atlasV4_down32_scoreVolume_clf_38_warp_8_MD635_down32_scoreVolume_clf_38_0222_down8.jpg\n",
      "aws s3 cp /shared/CSHL_registration_visualization/atlasV4/atlasV4_down32_scoreVolume_clf_38_warp_8_MD635_down32_scoreVolume_clf_38/down8/atlasV4_down32_scoreVolume_clf_38_warp_8_MD635_down32_scoreVolume_clf_38_0238_down8.jpg s3://mousebrainatlas-data/CSHL_registration_visualization/atlasV4/atlasV4_down32_scoreVolume_clf_38_warp_8_MD635_down32_scoreVolume_clf_38/down8/atlasV4_down32_scoreVolume_clf_38_warp_8_MD635_down32_scoreVolume_clf_38_0238_down8.jpg\n",
      "aws s3 cp /shared/CSHL_registration_visualization/atlasV4/atlasV4_down32_scoreVolume_clf_38_warp_8_MD635_down32_scoreVolume_clf_38/down8/atlasV4_down32_scoreVolume_clf_38_warp_8_MD635_down32_scoreVolume_clf_38_0161_down8.jpg s3://mousebrainatlas-data/CSHL_registration_visualization/atlasV4/atlasV4_down32_scoreVolume_clf_38_warp_8_MD635_down32_scoreVolume_clf_38/down8/atlasV4_down32_scoreVolume_clf_38_warp_8_MD635_down32_scoreVolume_clf_38_0161_down8.jpg\n",
      "aws s3 cp /shared/CSHL_registration_visualization/atlasV4/atlasV4_down32_scoreVolume_clf_38_warp_8_MD635_down32_scoreVolume_clf_38/down8/atlasV4_down32_scoreVolume_clf_38_warp_8_MD635_down32_scoreVolume_clf_38_0166_down8.jpg s3://mousebrainatlas-data/CSHL_registration_visualization/atlasV4/atlasV4_down32_scoreVolume_clf_38_warp_8_MD635_down32_scoreVolume_clf_38/down8/atlasV4_down32_scoreVolume_clf_38_warp_8_MD635_down32_scoreVolume_clf_38_0166_down8.jpg\n",
      "aws s3 cp /shared/CSHL_registration_visualization/atlasV4/atlasV4_down32_scoreVolume_clf_38_warp_8_MD635_down32_scoreVolume_clf_38/down8/atlasV4_down32_scoreVolume_clf_38_warp_8_MD635_down32_scoreVolume_clf_38_0171_down8.jpg s3://mousebrainatlas-data/CSHL_registration_visualization/atlasV4/atlasV4_down32_scoreVolume_clf_38_warp_8_MD635_down32_scoreVolume_clf_38/down8/atlasV4_down32_scoreVolume_clf_38_warp_8_MD635_down32_scoreVolume_clf_38_0171_down8.jpg\n",
      "aws s3 cp /shared/CSHL_registration_visualization/atlasV4/atlasV4_down32_scoreVolume_clf_38_warp_8_MD635_down32_scoreVolume_clf_38/down8/atlasV4_down32_scoreVolume_clf_38_warp_8_MD635_down32_scoreVolume_clf_38_0176_down8.jpg s3://mousebrainatlas-data/CSHL_registration_visualization/atlasV4/atlasV4_down32_scoreVolume_clf_38_warp_8_MD635_down32_scoreVolume_clf_38/down8/atlasV4_down32_scoreVolume_clf_38_warp_8_MD635_down32_scoreVolume_clf_38_0176_down8.jpg\n",
      "aws s3 cp /shared/CSHL_registration_visualization/atlasV4/atlasV4_down32_scoreVolume_clf_38_warp_8_MD635_down32_scoreVolume_clf_38/down8/atlasV4_down32_scoreVolume_clf_38_warp_8_MD635_down32_scoreVolume_clf_38_0181_down8.jpg s3://mousebrainatlas-data/CSHL_registration_visualization/atlasV4/atlasV4_down32_scoreVolume_clf_38_warp_8_MD635_down32_scoreVolume_clf_38/down8/atlasV4_down32_scoreVolume_clf_38_warp_8_MD635_down32_scoreVolume_clf_38_0181_down8.jpg\n",
      "aws s3 cp /shared/CSHL_registration_visualization/atlasV4/atlasV4_down32_scoreVolume_clf_38_warp_8_MD635_down32_scoreVolume_clf_38/down8/atlasV4_down32_scoreVolume_clf_38_warp_8_MD635_down32_scoreVolume_clf_38_0186_down8.jpg s3://mousebrainatlas-data/CSHL_registration_visualization/atlasV4/atlasV4_down32_scoreVolume_clf_38_warp_8_MD635_down32_scoreVolume_clf_38/down8/atlasV4_down32_scoreVolume_clf_38_warp_8_MD635_down32_scoreVolume_clf_38_0186_down8.jpg\n",
      "aws s3 cp /shared/CSHL_registration_visualization/atlasV4/atlasV4_down32_scoreVolume_clf_38_warp_8_MD635_down32_scoreVolume_clf_38/down8/atlasV4_down32_scoreVolume_clf_38_warp_8_MD635_down32_scoreVolume_clf_38_0191_down8.jpg s3://mousebrainatlas-data/CSHL_registration_visualization/atlasV4/atlasV4_down32_scoreVolume_clf_38_warp_8_MD635_down32_scoreVolume_clf_38/down8/atlasV4_down32_scoreVolume_clf_38_warp_8_MD635_down32_scoreVolume_clf_38_0191_down8.jpg\n",
      "aws s3 cp /shared/CSHL_registration_visualization/atlasV4/atlasV4_down32_scoreVolume_clf_38_warp_8_MD635_down32_scoreVolume_clf_38/down8/atlasV4_down32_scoreVolume_clf_38_warp_8_MD635_down32_scoreVolume_clf_38_0196_down8.jpg s3://mousebrainatlas-data/CSHL_registration_visualization/atlasV4/atlasV4_down32_scoreVolume_clf_38_warp_8_MD635_down32_scoreVolume_clf_38/down8/atlasV4_down32_scoreVolume_clf_38_warp_8_MD635_down32_scoreVolume_clf_38_0196_down8.jpg\n",
      "aws s3 cp /shared/CSHL_registration_visualization/atlasV4/atlasV4_down32_scoreVolume_clf_38_warp_8_MD635_down32_scoreVolume_clf_38/down8/atlasV4_down32_scoreVolume_clf_38_warp_8_MD635_down32_scoreVolume_clf_38_0212_down8.jpg s3://mousebrainatlas-data/CSHL_registration_visualization/atlasV4/atlasV4_down32_scoreVolume_clf_38_warp_8_MD635_down32_scoreVolume_clf_38/down8/atlasV4_down32_scoreVolume_clf_38_warp_8_MD635_down32_scoreVolume_clf_38_0212_down8.jpg\n",
      "aws s3 cp /shared/CSHL_registration_visualization/atlasV4/atlasV4_down32_scoreVolume_clf_38_warp_8_MD635_down32_scoreVolume_clf_38/down8/atlasV4_down32_scoreVolume_clf_38_warp_8_MD635_down32_scoreVolume_clf_38_0228_down8.jpg s3://mousebrainatlas-data/CSHL_registration_visualization/atlasV4/atlasV4_down32_scoreVolume_clf_38_warp_8_MD635_down32_scoreVolume_clf_38/down8/atlasV4_down32_scoreVolume_clf_38_warp_8_MD635_down32_scoreVolume_clf_38_0228_down8.jpg\n",
      "aws s3 cp /shared/CSHL_registration_visualization/atlasV4/atlasV4_down32_scoreVolume_clf_38_warp_8_MD635_down32_scoreVolume_clf_38/down8/atlasV4_down32_scoreVolume_clf_38_warp_8_MD635_down32_scoreVolume_clf_38_0201_down8.jpg s3://mousebrainatlas-data/CSHL_registration_visualization/atlasV4/atlasV4_down32_scoreVolume_clf_38_warp_8_MD635_down32_scoreVolume_clf_38/down8/atlasV4_down32_scoreVolume_clf_38_warp_8_MD635_down32_scoreVolume_clf_38_0201_down8.jpg\n",
      "aws s3 cp /shared/CSHL_registration_visualization/atlasV4/atlasV4_down32_scoreVolume_clf_38_warp_8_MD635_down32_scoreVolume_clf_38/down8/atlasV4_down32_scoreVolume_clf_38_warp_8_MD635_down32_scoreVolume_clf_38_0207_down8.jpg s3://mousebrainatlas-data/CSHL_registration_visualization/atlasV4/atlasV4_down32_scoreVolume_clf_38_warp_8_MD635_down32_scoreVolume_clf_38/down8/atlasV4_down32_scoreVolume_clf_38_warp_8_MD635_down32_scoreVolume_clf_38_0207_down8.jpg\n",
      "aws s3 cp /shared/CSHL_registration_visualization/atlasV4/atlasV4_down32_scoreVolume_clf_38_warp_8_MD635_down32_scoreVolume_clf_38/down8/atlasV4_down32_scoreVolume_clf_38_warp_8_MD635_down32_scoreVolume_clf_38_0218_down8.jpg s3://mousebrainatlas-data/CSHL_registration_visualization/atlasV4/atlasV4_down32_scoreVolume_clf_38_warp_8_MD635_down32_scoreVolume_clf_38/down8/atlasV4_down32_scoreVolume_clf_38_warp_8_MD635_down32_scoreVolume_clf_38_0218_down8.jpg\n",
      "aws s3 cp /shared/CSHL_registration_visualization/atlasV4/atlasV4_down32_scoreVolume_clf_38_warp_8_MD635_down32_scoreVolume_clf_38/down8/atlasV4_down32_scoreVolume_clf_38_warp_8_MD635_down32_scoreVolume_clf_38_0234_down8.jpg s3://mousebrainatlas-data/CSHL_registration_visualization/atlasV4/atlasV4_down32_scoreVolume_clf_38_warp_8_MD635_down32_scoreVolume_clf_38/down8/atlasV4_down32_scoreVolume_clf_38_warp_8_MD635_down32_scoreVolume_clf_38_0234_down8.jpg\n"
     ]
    },
    {
     "name": "stdout",
     "output_type": "stream",
     "text": [
      "aws s3 cp /shared/CSHL_registration_visualization/atlasV4/atlasV4_down32_scoreVolume_clf_38_warp_8_MD635_down32_scoreVolume_clf_38/down8/atlasV4_down32_scoreVolume_clf_38_warp_8_MD635_down32_scoreVolume_clf_38_0223_down8.jpg s3://mousebrainatlas-data/CSHL_registration_visualization/atlasV4/atlasV4_down32_scoreVolume_clf_38_warp_8_MD635_down32_scoreVolume_clf_38/down8/atlasV4_down32_scoreVolume_clf_38_warp_8_MD635_down32_scoreVolume_clf_38_0223_down8.jpg\n",
      "aws s3 cp /shared/CSHL_registration_visualization/atlasV4/atlasV4_down32_scoreVolume_clf_38_warp_8_MD635_down32_scoreVolume_clf_38/down8/atlasV4_down32_scoreVolume_clf_38_warp_8_MD635_down32_scoreVolume_clf_38_0239_down8.jpg s3://mousebrainatlas-data/CSHL_registration_visualization/atlasV4/atlasV4_down32_scoreVolume_clf_38_warp_8_MD635_down32_scoreVolume_clf_38/down8/atlasV4_down32_scoreVolume_clf_38_warp_8_MD635_down32_scoreVolume_clf_38_0239_down8.jpg\n",
      "aws s3 cp /shared/CSHL_registration_visualization/atlasV4/atlasV4_down32_scoreVolume_clf_38_warp_8_MD635_down32_scoreVolume_clf_38/down8/atlasV4_down32_scoreVolume_clf_38_warp_8_MD635_down32_scoreVolume_clf_38_0162_down8.jpg s3://mousebrainatlas-data/CSHL_registration_visualization/atlasV4/atlasV4_down32_scoreVolume_clf_38_warp_8_MD635_down32_scoreVolume_clf_38/down8/atlasV4_down32_scoreVolume_clf_38_warp_8_MD635_down32_scoreVolume_clf_38_0162_down8.jpg\n",
      "aws s3 cp /shared/CSHL_registration_visualization/atlasV4/atlasV4_down32_scoreVolume_clf_38_warp_8_MD635_down32_scoreVolume_clf_38/down8/atlasV4_down32_scoreVolume_clf_38_warp_8_MD635_down32_scoreVolume_clf_38_0167_down8.jpg s3://mousebrainatlas-data/CSHL_registration_visualization/atlasV4/atlasV4_down32_scoreVolume_clf_38_warp_8_MD635_down32_scoreVolume_clf_38/down8/atlasV4_down32_scoreVolume_clf_38_warp_8_MD635_down32_scoreVolume_clf_38_0167_down8.jpg\n",
      "aws s3 cp /shared/CSHL_registration_visualization/atlasV4/atlasV4_down32_scoreVolume_clf_38_warp_8_MD635_down32_scoreVolume_clf_38/down8/atlasV4_down32_scoreVolume_clf_38_warp_8_MD635_down32_scoreVolume_clf_38_0172_down8.jpg s3://mousebrainatlas-data/CSHL_registration_visualization/atlasV4/atlasV4_down32_scoreVolume_clf_38_warp_8_MD635_down32_scoreVolume_clf_38/down8/atlasV4_down32_scoreVolume_clf_38_warp_8_MD635_down32_scoreVolume_clf_38_0172_down8.jpg\n",
      "aws s3 cp /shared/CSHL_registration_visualization/atlasV4/atlasV4_down32_scoreVolume_clf_38_warp_8_MD635_down32_scoreVolume_clf_38/down8/atlasV4_down32_scoreVolume_clf_38_warp_8_MD635_down32_scoreVolume_clf_38_0177_down8.jpg s3://mousebrainatlas-data/CSHL_registration_visualization/atlasV4/atlasV4_down32_scoreVolume_clf_38_warp_8_MD635_down32_scoreVolume_clf_38/down8/atlasV4_down32_scoreVolume_clf_38_warp_8_MD635_down32_scoreVolume_clf_38_0177_down8.jpg\n",
      "aws s3 cp /shared/CSHL_registration_visualization/atlasV4/atlasV4_down32_scoreVolume_clf_38_warp_8_MD635_down32_scoreVolume_clf_38/down8/atlasV4_down32_scoreVolume_clf_38_warp_8_MD635_down32_scoreVolume_clf_38_0182_down8.jpg s3://mousebrainatlas-data/CSHL_registration_visualization/atlasV4/atlasV4_down32_scoreVolume_clf_38_warp_8_MD635_down32_scoreVolume_clf_38/down8/atlasV4_down32_scoreVolume_clf_38_warp_8_MD635_down32_scoreVolume_clf_38_0182_down8.jpg\n",
      "aws s3 cp /shared/CSHL_registration_visualization/atlasV4/atlasV4_down32_scoreVolume_clf_38_warp_8_MD635_down32_scoreVolume_clf_38/down8/atlasV4_down32_scoreVolume_clf_38_warp_8_MD635_down32_scoreVolume_clf_38_0187_down8.jpg s3://mousebrainatlas-data/CSHL_registration_visualization/atlasV4/atlasV4_down32_scoreVolume_clf_38_warp_8_MD635_down32_scoreVolume_clf_38/down8/atlasV4_down32_scoreVolume_clf_38_warp_8_MD635_down32_scoreVolume_clf_38_0187_down8.jpg\n",
      "aws s3 cp /shared/CSHL_registration_visualization/atlasV4/atlasV4_down32_scoreVolume_clf_38_warp_8_MD635_down32_scoreVolume_clf_38/down8/atlasV4_down32_scoreVolume_clf_38_warp_8_MD635_down32_scoreVolume_clf_38_0192_down8.jpg s3://mousebrainatlas-data/CSHL_registration_visualization/atlasV4/atlasV4_down32_scoreVolume_clf_38_warp_8_MD635_down32_scoreVolume_clf_38/down8/atlasV4_down32_scoreVolume_clf_38_warp_8_MD635_down32_scoreVolume_clf_38_0192_down8.jpg\n",
      "aws s3 cp /shared/CSHL_registration_visualization/atlasV4/atlasV4_down32_scoreVolume_clf_38_warp_8_MD635_down32_scoreVolume_clf_38/down8/atlasV4_down32_scoreVolume_clf_38_warp_8_MD635_down32_scoreVolume_clf_38_0197_down8.jpg s3://mousebrainatlas-data/CSHL_registration_visualization/atlasV4/atlasV4_down32_scoreVolume_clf_38_warp_8_MD635_down32_scoreVolume_clf_38/down8/atlasV4_down32_scoreVolume_clf_38_warp_8_MD635_down32_scoreVolume_clf_38_0197_down8.jpg\n",
      "aws s3 cp /shared/CSHL_registration_visualization/atlasV4/atlasV4_down32_scoreVolume_clf_38_warp_8_MD635_down32_scoreVolume_clf_38/down8/atlasV4_down32_scoreVolume_clf_38_warp_8_MD635_down32_scoreVolume_clf_38_0213_down8.jpg s3://mousebrainatlas-data/CSHL_registration_visualization/atlasV4/atlasV4_down32_scoreVolume_clf_38_warp_8_MD635_down32_scoreVolume_clf_38/down8/atlasV4_down32_scoreVolume_clf_38_warp_8_MD635_down32_scoreVolume_clf_38_0213_down8.jpg\n",
      "aws s3 cp /shared/CSHL_registration_visualization/atlasV4/atlasV4_down32_scoreVolume_clf_38_warp_8_MD635_down32_scoreVolume_clf_38/down8/atlasV4_down32_scoreVolume_clf_38_warp_8_MD635_down32_scoreVolume_clf_38_0202_down8.jpg s3://mousebrainatlas-data/CSHL_registration_visualization/atlasV4/atlasV4_down32_scoreVolume_clf_38_warp_8_MD635_down32_scoreVolume_clf_38/down8/atlasV4_down32_scoreVolume_clf_38_warp_8_MD635_down32_scoreVolume_clf_38_0202_down8.jpg\n",
      "aws s3 cp /shared/CSHL_registration_visualization/atlasV4/atlasV4_down32_scoreVolume_clf_38_warp_8_MD635_down32_scoreVolume_clf_38/down8/atlasV4_down32_scoreVolume_clf_38_warp_8_MD635_down32_scoreVolume_clf_38_0229_down8.jpg s3://mousebrainatlas-data/CSHL_registration_visualization/atlasV4/atlasV4_down32_scoreVolume_clf_38_warp_8_MD635_down32_scoreVolume_clf_38/down8/atlasV4_down32_scoreVolume_clf_38_warp_8_MD635_down32_scoreVolume_clf_38_0229_down8.jpg\n",
      "aws s3 cp /shared/CSHL_registration_visualization/atlasV4/atlasV4_down32_scoreVolume_clf_38_warp_8_MD635_down32_scoreVolume_clf_38/down8/atlasV4_down32_scoreVolume_clf_38_warp_8_MD635_down32_scoreVolume_clf_38_0219_down8.jpg s3://mousebrainatlas-data/CSHL_registration_visualization/atlasV4/atlasV4_down32_scoreVolume_clf_38_warp_8_MD635_down32_scoreVolume_clf_38/down8/atlasV4_down32_scoreVolume_clf_38_warp_8_MD635_down32_scoreVolume_clf_38_0219_down8.jpg\n",
      "aws s3 cp /shared/CSHL_registration_visualization/atlasV4/atlasV4_down32_scoreVolume_clf_38_warp_8_MD635_down32_scoreVolume_clf_38/down8/atlasV4_down32_scoreVolume_clf_38_warp_8_MD635_down32_scoreVolume_clf_38_0208_down8.jpg s3://mousebrainatlas-data/CSHL_registration_visualization/atlasV4/atlasV4_down32_scoreVolume_clf_38_warp_8_MD635_down32_scoreVolume_clf_38/down8/atlasV4_down32_scoreVolume_clf_38_warp_8_MD635_down32_scoreVolume_clf_38_0208_down8.jpg\n",
      "aws s3 cp /shared/CSHL_registration_visualization/atlasV4/atlasV4_down32_scoreVolume_clf_38_warp_8_MD635_down32_scoreVolume_clf_38/down8/atlasV4_down32_scoreVolume_clf_38_warp_8_MD635_down32_scoreVolume_clf_38_0224_down8.jpg s3://mousebrainatlas-data/CSHL_registration_visualization/atlasV4/atlasV4_down32_scoreVolume_clf_38_warp_8_MD635_down32_scoreVolume_clf_38/down8/atlasV4_down32_scoreVolume_clf_38_warp_8_MD635_down32_scoreVolume_clf_38_0224_down8.jpg\n",
      "aws s3 cp /shared/CSHL_registration_visualization/atlasV4/atlasV4_down32_scoreVolume_clf_38_warp_8_MD635_down32_scoreVolume_clf_38/down8/atlasV4_down32_scoreVolume_clf_38_warp_8_MD635_down32_scoreVolume_clf_38_0235_down8.jpg s3://mousebrainatlas-data/CSHL_registration_visualization/atlasV4/atlasV4_down32_scoreVolume_clf_38_warp_8_MD635_down32_scoreVolume_clf_38/down8/atlasV4_down32_scoreVolume_clf_38_warp_8_MD635_down32_scoreVolume_clf_38_0235_down8.jpg\n",
      "aws s3 cp /shared/CSHL_registration_visualization/atlasV4/atlasV4_down32_scoreVolume_clf_38_warp_8_MD635_down32_scoreVolume_clf_38/down8/atlasV4_down32_scoreVolume_clf_38_warp_8_MD635_down32_scoreVolume_clf_38_0163_down8.jpg s3://mousebrainatlas-data/CSHL_registration_visualization/atlasV4/atlasV4_down32_scoreVolume_clf_38_warp_8_MD635_down32_scoreVolume_clf_38/down8/atlasV4_down32_scoreVolume_clf_38_warp_8_MD635_down32_scoreVolume_clf_38_0163_down8.jpg\n"
     ]
    },
    {
     "name": "stdout",
     "output_type": "stream",
     "text": [
      "aws s3 cp /shared/CSHL_registration_visualization/atlasV4/atlasV4_down32_scoreVolume_clf_38_warp_8_MD635_down32_scoreVolume_clf_38/down8/atlasV4_down32_scoreVolume_clf_38_warp_8_MD635_down32_scoreVolume_clf_38_0240_down8.jpg s3://mousebrainatlas-data/CSHL_registration_visualization/atlasV4/atlasV4_down32_scoreVolume_clf_38_warp_8_MD635_down32_scoreVolume_clf_38/down8/atlasV4_down32_scoreVolume_clf_38_warp_8_MD635_down32_scoreVolume_clf_38_0240_down8.jpg\n",
      "aws s3 cp /shared/CSHL_registration_visualization/atlasV4/atlasV4_down32_scoreVolume_clf_38_warp_8_MD635_down32_scoreVolume_clf_38/down8/atlasV4_down32_scoreVolume_clf_38_warp_8_MD635_down32_scoreVolume_clf_38_0168_down8.jpg s3://mousebrainatlas-data/CSHL_registration_visualization/atlasV4/atlasV4_down32_scoreVolume_clf_38_warp_8_MD635_down32_scoreVolume_clf_38/down8/atlasV4_down32_scoreVolume_clf_38_warp_8_MD635_down32_scoreVolume_clf_38_0168_down8.jpg\n",
      "aws s3 cp /shared/CSHL_registration_visualization/atlasV4/atlasV4_down32_scoreVolume_clf_38_warp_8_MD635_down32_scoreVolume_clf_38/down8/atlasV4_down32_scoreVolume_clf_38_warp_8_MD635_down32_scoreVolume_clf_38_0178_down8.jpg s3://mousebrainatlas-data/CSHL_registration_visualization/atlasV4/atlasV4_down32_scoreVolume_clf_38_warp_8_MD635_down32_scoreVolume_clf_38/down8/atlasV4_down32_scoreVolume_clf_38_warp_8_MD635_down32_scoreVolume_clf_38_0178_down8.jpg\n",
      "aws s3 cp /shared/CSHL_registration_visualization/atlasV4/atlasV4_down32_scoreVolume_clf_38_warp_8_MD635_down32_scoreVolume_clf_38/down8/atlasV4_down32_scoreVolume_clf_38_warp_8_MD635_down32_scoreVolume_clf_38_0173_down8.jpg s3://mousebrainatlas-data/CSHL_registration_visualization/atlasV4/atlasV4_down32_scoreVolume_clf_38_warp_8_MD635_down32_scoreVolume_clf_38/down8/atlasV4_down32_scoreVolume_clf_38_warp_8_MD635_down32_scoreVolume_clf_38_0173_down8.jpg\n",
      "aws s3 cp /shared/CSHL_registration_visualization/atlasV4/atlasV4_down32_scoreVolume_clf_38_warp_8_MD635_down32_scoreVolume_clf_38/down8/atlasV4_down32_scoreVolume_clf_38_warp_8_MD635_down32_scoreVolume_clf_38_0183_down8.jpg s3://mousebrainatlas-data/CSHL_registration_visualization/atlasV4/atlasV4_down32_scoreVolume_clf_38_warp_8_MD635_down32_scoreVolume_clf_38/down8/atlasV4_down32_scoreVolume_clf_38_warp_8_MD635_down32_scoreVolume_clf_38_0183_down8.jpg\n",
      "aws s3 cp /shared/CSHL_registration_visualization/atlasV4/atlasV4_down32_scoreVolume_clf_38_warp_8_MD635_down32_scoreVolume_clf_38/down8/atlasV4_down32_scoreVolume_clf_38_warp_8_MD635_down32_scoreVolume_clf_38_0188_down8.jpg s3://mousebrainatlas-data/CSHL_registration_visualization/atlasV4/atlasV4_down32_scoreVolume_clf_38_warp_8_MD635_down32_scoreVolume_clf_38/down8/atlasV4_down32_scoreVolume_clf_38_warp_8_MD635_down32_scoreVolume_clf_38_0188_down8.jpg\n",
      "aws s3 cp /shared/CSHL_registration_visualization/atlasV4/atlasV4_down32_scoreVolume_clf_38_warp_8_MD635_down32_scoreVolume_clf_38/down8/atlasV4_down32_scoreVolume_clf_38_warp_8_MD635_down32_scoreVolume_clf_38_0193_down8.jpg s3://mousebrainatlas-data/CSHL_registration_visualization/atlasV4/atlasV4_down32_scoreVolume_clf_38_warp_8_MD635_down32_scoreVolume_clf_38/down8/atlasV4_down32_scoreVolume_clf_38_warp_8_MD635_down32_scoreVolume_clf_38_0193_down8.jpg\n",
      "aws s3 cp /shared/CSHL_registration_visualization/atlasV4/atlasV4_down32_scoreVolume_clf_38_warp_8_MD635_down32_scoreVolume_clf_38/down8/atlasV4_down32_scoreVolume_clf_38_warp_8_MD635_down32_scoreVolume_clf_38_0214_down8.jpg s3://mousebrainatlas-data/CSHL_registration_visualization/atlasV4/atlasV4_down32_scoreVolume_clf_38_warp_8_MD635_down32_scoreVolume_clf_38/down8/atlasV4_down32_scoreVolume_clf_38_warp_8_MD635_down32_scoreVolume_clf_38_0214_down8.jpg\n",
      "aws s3 cp /shared/CSHL_registration_visualization/atlasV4/atlasV4_down32_scoreVolume_clf_38_warp_8_MD635_down32_scoreVolume_clf_38/down8/atlasV4_down32_scoreVolume_clf_38_warp_8_MD635_down32_scoreVolume_clf_38_0198_down8.jpg s3://mousebrainatlas-data/CSHL_registration_visualization/atlasV4/atlasV4_down32_scoreVolume_clf_38_warp_8_MD635_down32_scoreVolume_clf_38/down8/atlasV4_down32_scoreVolume_clf_38_warp_8_MD635_down32_scoreVolume_clf_38_0198_down8.jpg\n",
      "aws s3 cp /shared/CSHL_registration_visualization/atlasV4/atlasV4_down32_scoreVolume_clf_38_warp_8_MD635_down32_scoreVolume_clf_38/down8/atlasV4_down32_scoreVolume_clf_38_warp_8_MD635_down32_scoreVolume_clf_38_0230_down8.jpg s3://mousebrainatlas-data/CSHL_registration_visualization/atlasV4/atlasV4_down32_scoreVolume_clf_38_warp_8_MD635_down32_scoreVolume_clf_38/down8/atlasV4_down32_scoreVolume_clf_38_warp_8_MD635_down32_scoreVolume_clf_38_0230_down8.jpg\n",
      "aws s3 cp /shared/CSHL_registration_visualization/atlasV4/atlasV4_down32_scoreVolume_clf_38_warp_8_MD635_down32_scoreVolume_clf_38/down8/atlasV4_down32_scoreVolume_clf_38_warp_8_MD635_down32_scoreVolume_clf_38_0203_down8.jpg s3://mousebrainatlas-data/CSHL_registration_visualization/atlasV4/atlasV4_down32_scoreVolume_clf_38_warp_8_MD635_down32_scoreVolume_clf_38/down8/atlasV4_down32_scoreVolume_clf_38_warp_8_MD635_down32_scoreVolume_clf_38_0203_down8.jpg\n",
      "aws s3 cp /shared/CSHL_registration_visualization/atlasV4/atlasV4_down32_scoreVolume_clf_38_warp_8_MD635_down32_scoreVolume_clf_38/down8/atlasV4_down32_scoreVolume_clf_38_warp_8_MD635_down32_scoreVolume_clf_38_0220_down8.jpg s3://mousebrainatlas-data/CSHL_registration_visualization/atlasV4/atlasV4_down32_scoreVolume_clf_38_warp_8_MD635_down32_scoreVolume_clf_38/down8/atlasV4_down32_scoreVolume_clf_38_warp_8_MD635_down32_scoreVolume_clf_38_0220_down8.jpg\n",
      "aws s3 cp /shared/CSHL_registration_visualization/atlasV4/atlasV4_down32_scoreVolume_clf_38_warp_8_MD635_down32_scoreVolume_clf_38/down8/atlasV4_down32_scoreVolume_clf_38_warp_8_MD635_down32_scoreVolume_clf_38_0225_down8.jpg s3://mousebrainatlas-data/CSHL_registration_visualization/atlasV4/atlasV4_down32_scoreVolume_clf_38_warp_8_MD635_down32_scoreVolume_clf_38/down8/atlasV4_down32_scoreVolume_clf_38_warp_8_MD635_down32_scoreVolume_clf_38_0225_down8.jpg\n",
      "aws s3 cp /shared/CSHL_registration_visualization/atlasV4/atlasV4_down32_scoreVolume_clf_38_warp_8_MD635_down32_scoreVolume_clf_38/down8/atlasV4_down32_scoreVolume_clf_38_warp_8_MD635_down32_scoreVolume_clf_38_0209_down8.jpg s3://mousebrainatlas-data/CSHL_registration_visualization/atlasV4/atlasV4_down32_scoreVolume_clf_38_warp_8_MD635_down32_scoreVolume_clf_38/down8/atlasV4_down32_scoreVolume_clf_38_warp_8_MD635_down32_scoreVolume_clf_38_0209_down8.jpg\n",
      "aws s3 cp /shared/CSHL_registration_visualization/atlasV4/atlasV4_down32_scoreVolume_clf_38_warp_8_MD635_down32_scoreVolume_clf_38/down8/atlasV4_down32_scoreVolume_clf_38_warp_8_MD635_down32_scoreVolume_clf_38_0236_down8.jpg s3://mousebrainatlas-data/CSHL_registration_visualization/atlasV4/atlasV4_down32_scoreVolume_clf_38_warp_8_MD635_down32_scoreVolume_clf_38/down8/atlasV4_down32_scoreVolume_clf_38_warp_8_MD635_down32_scoreVolume_clf_38_0236_down8.jpg\n",
      "aws s3 cp /shared/CSHL_registration_visualization/atlasV4/atlasV4_down32_scoreVolume_clf_38_warp_8_MD635_down32_scoreVolume_clf_38/down8/atlasV4_down32_scoreVolume_clf_38_warp_8_MD635_down32_scoreVolume_clf_38_0242_down8.jpg s3://mousebrainatlas-data/CSHL_registration_visualization/atlasV4/atlasV4_down32_scoreVolume_clf_38_warp_8_MD635_down32_scoreVolume_clf_38/down8/atlasV4_down32_scoreVolume_clf_38_warp_8_MD635_down32_scoreVolume_clf_38_0242_down8.jpg\n",
      "aws s3 cp /shared/CSHL_registration_visualization/atlasV4/atlasV4_down32_scoreVolume_clf_38_warp_8_MD635_down32_scoreVolume_clf_38/down8/atlasV4_down32_scoreVolume_clf_38_warp_8_MD635_down32_scoreVolume_clf_38_0241_down8.jpg s3://mousebrainatlas-data/CSHL_registration_visualization/atlasV4/atlasV4_down32_scoreVolume_clf_38_warp_8_MD635_down32_scoreVolume_clf_38/down8/atlasV4_down32_scoreVolume_clf_38_warp_8_MD635_down32_scoreVolume_clf_38_0241_down8.jpg\n",
      "aws s3 cp /shared/CSHL_registration_visualization/atlasV4/atlasV4_down32_scoreVolume_clf_38_warp_8_MD635_down32_scoreVolume_clf_38/down8/atlasV4_down32_scoreVolume_clf_38_warp_8_MD635_down32_scoreVolume_clf_38_0252_down8.jpg s3://mousebrainatlas-data/CSHL_registration_visualization/atlasV4/atlasV4_down32_scoreVolume_clf_38_warp_8_MD635_down32_scoreVolume_clf_38/down8/atlasV4_down32_scoreVolume_clf_38_warp_8_MD635_down32_scoreVolume_clf_38_0252_down8.jpg\n"
     ]
    },
    {
     "name": "stdout",
     "output_type": "stream",
     "text": [
      "aws s3 cp /shared/CSHL_registration_visualization/atlasV4/atlasV4_down32_scoreVolume_clf_38_warp_8_MD635_down32_scoreVolume_clf_38/down8/atlasV4_down32_scoreVolume_clf_38_warp_8_MD635_down32_scoreVolume_clf_38_0247_down8.jpg s3://mousebrainatlas-data/CSHL_registration_visualization/atlasV4/atlasV4_down32_scoreVolume_clf_38_warp_8_MD635_down32_scoreVolume_clf_38/down8/atlasV4_down32_scoreVolume_clf_38_warp_8_MD635_down32_scoreVolume_clf_38_0247_down8.jpg\n",
      "aws s3 cp /shared/CSHL_registration_visualization/atlasV4/atlasV4_down32_scoreVolume_clf_38_warp_8_MD635_down32_scoreVolume_clf_38/down8/atlasV4_down32_scoreVolume_clf_38_warp_8_MD635_down32_scoreVolume_clf_38_0257_down8.jpg s3://mousebrainatlas-data/CSHL_registration_visualization/atlasV4/atlasV4_down32_scoreVolume_clf_38_warp_8_MD635_down32_scoreVolume_clf_38/down8/atlasV4_down32_scoreVolume_clf_38_warp_8_MD635_down32_scoreVolume_clf_38_0257_down8.jpg\n",
      "aws s3 cp /shared/CSHL_registration_visualization/atlasV4/atlasV4_down32_scoreVolume_clf_38_warp_8_MD635_down32_scoreVolume_clf_38/down8/atlasV4_down32_scoreVolume_clf_38_warp_8_MD635_down32_scoreVolume_clf_38_0262_down8.jpg s3://mousebrainatlas-data/CSHL_registration_visualization/atlasV4/atlasV4_down32_scoreVolume_clf_38_warp_8_MD635_down32_scoreVolume_clf_38/down8/atlasV4_down32_scoreVolume_clf_38_warp_8_MD635_down32_scoreVolume_clf_38_0262_down8.jpg\n",
      "aws s3 cp /shared/CSHL_registration_visualization/atlasV4/atlasV4_down32_scoreVolume_clf_38_warp_8_MD635_down32_scoreVolume_clf_38/down8/atlasV4_down32_scoreVolume_clf_38_warp_8_MD635_down32_scoreVolume_clf_38_0267_down8.jpg s3://mousebrainatlas-data/CSHL_registration_visualization/atlasV4/atlasV4_down32_scoreVolume_clf_38_warp_8_MD635_down32_scoreVolume_clf_38/down8/atlasV4_down32_scoreVolume_clf_38_warp_8_MD635_down32_scoreVolume_clf_38_0267_down8.jpg\n",
      "aws s3 cp /shared/CSHL_registration_visualization/atlasV4/atlasV4_down32_scoreVolume_clf_38_warp_8_MD635_down32_scoreVolume_clf_38/down8/atlasV4_down32_scoreVolume_clf_38_warp_8_MD635_down32_scoreVolume_clf_38_0272_down8.jpg s3://mousebrainatlas-data/CSHL_registration_visualization/atlasV4/atlasV4_down32_scoreVolume_clf_38_warp_8_MD635_down32_scoreVolume_clf_38/down8/atlasV4_down32_scoreVolume_clf_38_warp_8_MD635_down32_scoreVolume_clf_38_0272_down8.jpg\n",
      "aws s3 cp /shared/CSHL_registration_visualization/atlasV4/atlasV4_down32_scoreVolume_clf_38_warp_8_MD635_down32_scoreVolume_clf_38/down8/atlasV4_down32_scoreVolume_clf_38_warp_8_MD635_down32_scoreVolume_clf_38_0277_down8.jpg s3://mousebrainatlas-data/CSHL_registration_visualization/atlasV4/atlasV4_down32_scoreVolume_clf_38_warp_8_MD635_down32_scoreVolume_clf_38/down8/atlasV4_down32_scoreVolume_clf_38_warp_8_MD635_down32_scoreVolume_clf_38_0277_down8.jpg\n",
      "aws s3 cp /shared/CSHL_registration_visualization/atlasV4/atlasV4_down32_scoreVolume_clf_38_warp_8_MD635_down32_scoreVolume_clf_38/down8/atlasV4_down32_scoreVolume_clf_38_warp_8_MD635_down32_scoreVolume_clf_38_0282_down8.jpg s3://mousebrainatlas-data/CSHL_registration_visualization/atlasV4/atlasV4_down32_scoreVolume_clf_38_warp_8_MD635_down32_scoreVolume_clf_38/down8/atlasV4_down32_scoreVolume_clf_38_warp_8_MD635_down32_scoreVolume_clf_38_0282_down8.jpg\n",
      "aws s3 cp /shared/CSHL_registration_visualization/atlasV4/atlasV4_down32_scoreVolume_clf_38_warp_8_MD635_down32_scoreVolume_clf_38/down8/atlasV4_down32_scoreVolume_clf_38_warp_8_MD635_down32_scoreVolume_clf_38_0287_down8.jpg s3://mousebrainatlas-data/CSHL_registration_visualization/atlasV4/atlasV4_down32_scoreVolume_clf_38_warp_8_MD635_down32_scoreVolume_clf_38/down8/atlasV4_down32_scoreVolume_clf_38_warp_8_MD635_down32_scoreVolume_clf_38_0287_down8.jpg\n",
      "aws s3 cp /shared/CSHL_registration_visualization/atlasV4/atlasV4_down32_scoreVolume_clf_38_warp_8_MD635_down32_scoreVolume_clf_38/down8/atlasV4_down32_scoreVolume_clf_38_warp_8_MD635_down32_scoreVolume_clf_38_0292_down8.jpg s3://mousebrainatlas-data/CSHL_registration_visualization/atlasV4/atlasV4_down32_scoreVolume_clf_38_warp_8_MD635_down32_scoreVolume_clf_38/down8/atlasV4_down32_scoreVolume_clf_38_warp_8_MD635_down32_scoreVolume_clf_38_0292_down8.jpg\n",
      "aws s3 cp /shared/CSHL_registration_visualization/atlasV4/atlasV4_down32_scoreVolume_clf_38_warp_8_MD635_down32_scoreVolume_clf_38/down8/atlasV4_down32_scoreVolume_clf_38_warp_8_MD635_down32_scoreVolume_clf_38_0297_down8.jpg s3://mousebrainatlas-data/CSHL_registration_visualization/atlasV4/atlasV4_down32_scoreVolume_clf_38_warp_8_MD635_down32_scoreVolume_clf_38/down8/atlasV4_down32_scoreVolume_clf_38_warp_8_MD635_down32_scoreVolume_clf_38_0297_down8.jpg\n",
      "aws s3 cp /shared/CSHL_registration_visualization/atlasV4/atlasV4_down32_scoreVolume_clf_38_warp_8_MD635_down32_scoreVolume_clf_38/down8/atlasV4_down32_scoreVolume_clf_38_warp_8_MD635_down32_scoreVolume_clf_38_0307_down8.jpg s3://mousebrainatlas-data/CSHL_registration_visualization/atlasV4/atlasV4_down32_scoreVolume_clf_38_warp_8_MD635_down32_scoreVolume_clf_38/down8/atlasV4_down32_scoreVolume_clf_38_warp_8_MD635_down32_scoreVolume_clf_38_0307_down8.jpg\n",
      "aws s3 cp /shared/CSHL_registration_visualization/atlasV4/atlasV4_down32_scoreVolume_clf_38_warp_8_MD635_down32_scoreVolume_clf_38/down8/atlasV4_down32_scoreVolume_clf_38_warp_8_MD635_down32_scoreVolume_clf_38_0302_down8.jpg s3://mousebrainatlas-data/CSHL_registration_visualization/atlasV4/atlasV4_down32_scoreVolume_clf_38_warp_8_MD635_down32_scoreVolume_clf_38/down8/atlasV4_down32_scoreVolume_clf_38_warp_8_MD635_down32_scoreVolume_clf_38_0302_down8.jpg\n",
      "aws s3 cp /shared/CSHL_registration_visualization/atlasV4/atlasV4_down32_scoreVolume_clf_38_warp_8_MD635_down32_scoreVolume_clf_38/down8/atlasV4_down32_scoreVolume_clf_38_warp_8_MD635_down32_scoreVolume_clf_38_0312_down8.jpg s3://mousebrainatlas-data/CSHL_registration_visualization/atlasV4/atlasV4_down32_scoreVolume_clf_38_warp_8_MD635_down32_scoreVolume_clf_38/down8/atlasV4_down32_scoreVolume_clf_38_warp_8_MD635_down32_scoreVolume_clf_38_0312_down8.jpg\n",
      "aws s3 cp /shared/CSHL_registration_visualization/atlasV4/atlasV4_down32_scoreVolume_clf_38_warp_8_MD635_down32_scoreVolume_clf_38/down8/atlasV4_down32_scoreVolume_clf_38_warp_8_MD635_down32_scoreVolume_clf_38_0243_down8.jpg s3://mousebrainatlas-data/CSHL_registration_visualization/atlasV4/atlasV4_down32_scoreVolume_clf_38_warp_8_MD635_down32_scoreVolume_clf_38/down8/atlasV4_down32_scoreVolume_clf_38_warp_8_MD635_down32_scoreVolume_clf_38_0243_down8.jpg\n",
      "aws s3 cp /shared/CSHL_registration_visualization/atlasV4/atlasV4_down32_scoreVolume_clf_38_warp_8_MD635_down32_scoreVolume_clf_38/down8/atlasV4_down32_scoreVolume_clf_38_warp_8_MD635_down32_scoreVolume_clf_38_0317_down8.jpg s3://mousebrainatlas-data/CSHL_registration_visualization/atlasV4/atlasV4_down32_scoreVolume_clf_38_warp_8_MD635_down32_scoreVolume_clf_38/down8/atlasV4_down32_scoreVolume_clf_38_warp_8_MD635_down32_scoreVolume_clf_38_0317_down8.jpg\n",
      "aws s3 cp /shared/CSHL_registration_visualization/atlasV4/atlasV4_down32_scoreVolume_clf_38_warp_8_MD635_down32_scoreVolume_clf_38/down8/atlasV4_down32_scoreVolume_clf_38_warp_8_MD635_down32_scoreVolume_clf_38_0248_down8.jpg s3://mousebrainatlas-data/CSHL_registration_visualization/atlasV4/atlasV4_down32_scoreVolume_clf_38_warp_8_MD635_down32_scoreVolume_clf_38/down8/atlasV4_down32_scoreVolume_clf_38_warp_8_MD635_down32_scoreVolume_clf_38_0248_down8.jpg\n",
      "aws s3 cp /shared/CSHL_registration_visualization/atlasV4/atlasV4_down32_scoreVolume_clf_38_warp_8_MD635_down32_scoreVolume_clf_38/down8/atlasV4_down32_scoreVolume_clf_38_warp_8_MD635_down32_scoreVolume_clf_38_0258_down8.jpg s3://mousebrainatlas-data/CSHL_registration_visualization/atlasV4/atlasV4_down32_scoreVolume_clf_38_warp_8_MD635_down32_scoreVolume_clf_38/down8/atlasV4_down32_scoreVolume_clf_38_warp_8_MD635_down32_scoreVolume_clf_38_0258_down8.jpg\n",
      "aws s3 cp /shared/CSHL_registration_visualization/atlasV4/atlasV4_down32_scoreVolume_clf_38_warp_8_MD635_down32_scoreVolume_clf_38/down8/atlasV4_down32_scoreVolume_clf_38_warp_8_MD635_down32_scoreVolume_clf_38_0253_down8.jpg s3://mousebrainatlas-data/CSHL_registration_visualization/atlasV4/atlasV4_down32_scoreVolume_clf_38_warp_8_MD635_down32_scoreVolume_clf_38/down8/atlasV4_down32_scoreVolume_clf_38_warp_8_MD635_down32_scoreVolume_clf_38_0253_down8.jpg\n"
     ]
    },
    {
     "name": "stdout",
     "output_type": "stream",
     "text": [
      "aws s3 cp /shared/CSHL_registration_visualization/atlasV4/atlasV4_down32_scoreVolume_clf_38_warp_8_MD635_down32_scoreVolume_clf_38/down8/atlasV4_down32_scoreVolume_clf_38_warp_8_MD635_down32_scoreVolume_clf_38_0263_down8.jpg s3://mousebrainatlas-data/CSHL_registration_visualization/atlasV4/atlasV4_down32_scoreVolume_clf_38_warp_8_MD635_down32_scoreVolume_clf_38/down8/atlasV4_down32_scoreVolume_clf_38_warp_8_MD635_down32_scoreVolume_clf_38_0263_down8.jpg\n",
      "aws s3 cp /shared/CSHL_registration_visualization/atlasV4/atlasV4_down32_scoreVolume_clf_38_warp_8_MD635_down32_scoreVolume_clf_38/down8/atlasV4_down32_scoreVolume_clf_38_warp_8_MD635_down32_scoreVolume_clf_38_0268_down8.jpg s3://mousebrainatlas-data/CSHL_registration_visualization/atlasV4/atlasV4_down32_scoreVolume_clf_38_warp_8_MD635_down32_scoreVolume_clf_38/down8/atlasV4_down32_scoreVolume_clf_38_warp_8_MD635_down32_scoreVolume_clf_38_0268_down8.jpg\n",
      "aws s3 cp /shared/CSHL_registration_visualization/atlasV4/atlasV4_down32_scoreVolume_clf_38_warp_8_MD635_down32_scoreVolume_clf_38/down8/atlasV4_down32_scoreVolume_clf_38_warp_8_MD635_down32_scoreVolume_clf_38_0273_down8.jpg s3://mousebrainatlas-data/CSHL_registration_visualization/atlasV4/atlasV4_down32_scoreVolume_clf_38_warp_8_MD635_down32_scoreVolume_clf_38/down8/atlasV4_down32_scoreVolume_clf_38_warp_8_MD635_down32_scoreVolume_clf_38_0273_down8.jpg\n",
      "aws s3 cp /shared/CSHL_registration_visualization/atlasV4/atlasV4_down32_scoreVolume_clf_38_warp_8_MD635_down32_scoreVolume_clf_38/down8/atlasV4_down32_scoreVolume_clf_38_warp_8_MD635_down32_scoreVolume_clf_38_0278_down8.jpg s3://mousebrainatlas-data/CSHL_registration_visualization/atlasV4/atlasV4_down32_scoreVolume_clf_38_warp_8_MD635_down32_scoreVolume_clf_38/down8/atlasV4_down32_scoreVolume_clf_38_warp_8_MD635_down32_scoreVolume_clf_38_0278_down8.jpg\n",
      "aws s3 cp /shared/CSHL_registration_visualization/atlasV4/atlasV4_down32_scoreVolume_clf_38_warp_8_MD635_down32_scoreVolume_clf_38/down8/atlasV4_down32_scoreVolume_clf_38_warp_8_MD635_down32_scoreVolume_clf_38_0283_down8.jpg s3://mousebrainatlas-data/CSHL_registration_visualization/atlasV4/atlasV4_down32_scoreVolume_clf_38_warp_8_MD635_down32_scoreVolume_clf_38/down8/atlasV4_down32_scoreVolume_clf_38_warp_8_MD635_down32_scoreVolume_clf_38_0283_down8.jpg\n",
      "aws s3 cp /shared/CSHL_registration_visualization/atlasV4/atlasV4_down32_scoreVolume_clf_38_warp_8_MD635_down32_scoreVolume_clf_38/down8/atlasV4_down32_scoreVolume_clf_38_warp_8_MD635_down32_scoreVolume_clf_38_0288_down8.jpg s3://mousebrainatlas-data/CSHL_registration_visualization/atlasV4/atlasV4_down32_scoreVolume_clf_38_warp_8_MD635_down32_scoreVolume_clf_38/down8/atlasV4_down32_scoreVolume_clf_38_warp_8_MD635_down32_scoreVolume_clf_38_0288_down8.jpg\n",
      "aws s3 cp /shared/CSHL_registration_visualization/atlasV4/atlasV4_down32_scoreVolume_clf_38_warp_8_MD635_down32_scoreVolume_clf_38/down8/atlasV4_down32_scoreVolume_clf_38_warp_8_MD635_down32_scoreVolume_clf_38_0298_down8.jpg s3://mousebrainatlas-data/CSHL_registration_visualization/atlasV4/atlasV4_down32_scoreVolume_clf_38_warp_8_MD635_down32_scoreVolume_clf_38/down8/atlasV4_down32_scoreVolume_clf_38_warp_8_MD635_down32_scoreVolume_clf_38_0298_down8.jpg\n",
      "aws s3 cp /shared/CSHL_registration_visualization/atlasV4/atlasV4_down32_scoreVolume_clf_38_warp_8_MD635_down32_scoreVolume_clf_38/down8/atlasV4_down32_scoreVolume_clf_38_warp_8_MD635_down32_scoreVolume_clf_38_0293_down8.jpg s3://mousebrainatlas-data/CSHL_registration_visualization/atlasV4/atlasV4_down32_scoreVolume_clf_38_warp_8_MD635_down32_scoreVolume_clf_38/down8/atlasV4_down32_scoreVolume_clf_38_warp_8_MD635_down32_scoreVolume_clf_38_0293_down8.jpg\n",
      "aws s3 cp /shared/CSHL_registration_visualization/atlasV4/atlasV4_down32_scoreVolume_clf_38_warp_8_MD635_down32_scoreVolume_clf_38/down8/atlasV4_down32_scoreVolume_clf_38_warp_8_MD635_down32_scoreVolume_clf_38_0308_down8.jpg s3://mousebrainatlas-data/CSHL_registration_visualization/atlasV4/atlasV4_down32_scoreVolume_clf_38_warp_8_MD635_down32_scoreVolume_clf_38/down8/atlasV4_down32_scoreVolume_clf_38_warp_8_MD635_down32_scoreVolume_clf_38_0308_down8.jpg\n",
      "aws s3 cp /shared/CSHL_registration_visualization/atlasV4/atlasV4_down32_scoreVolume_clf_38_warp_8_MD635_down32_scoreVolume_clf_38/down8/atlasV4_down32_scoreVolume_clf_38_warp_8_MD635_down32_scoreVolume_clf_38_0313_down8.jpg s3://mousebrainatlas-data/CSHL_registration_visualization/atlasV4/atlasV4_down32_scoreVolume_clf_38_warp_8_MD635_down32_scoreVolume_clf_38/down8/atlasV4_down32_scoreVolume_clf_38_warp_8_MD635_down32_scoreVolume_clf_38_0313_down8.jpg\n",
      "aws s3 cp /shared/CSHL_registration_visualization/atlasV4/atlasV4_down32_scoreVolume_clf_38_warp_8_MD635_down32_scoreVolume_clf_38/down8/atlasV4_down32_scoreVolume_clf_38_warp_8_MD635_down32_scoreVolume_clf_38_0303_down8.jpg s3://mousebrainatlas-data/CSHL_registration_visualization/atlasV4/atlasV4_down32_scoreVolume_clf_38_warp_8_MD635_down32_scoreVolume_clf_38/down8/atlasV4_down32_scoreVolume_clf_38_warp_8_MD635_down32_scoreVolume_clf_38_0303_down8.jpg\n",
      "aws s3 cp /shared/CSHL_registration_visualization/atlasV4/atlasV4_down32_scoreVolume_clf_38_warp_8_MD635_down32_scoreVolume_clf_38/down8/atlasV4_down32_scoreVolume_clf_38_warp_8_MD635_down32_scoreVolume_clf_38_0318_down8.jpg s3://mousebrainatlas-data/CSHL_registration_visualization/atlasV4/atlasV4_down32_scoreVolume_clf_38_warp_8_MD635_down32_scoreVolume_clf_38/down8/atlasV4_down32_scoreVolume_clf_38_warp_8_MD635_down32_scoreVolume_clf_38_0318_down8.jpg\n",
      "aws s3 cp /shared/CSHL_registration_visualization/atlasV4/atlasV4_down32_scoreVolume_clf_38_warp_8_MD635_down32_scoreVolume_clf_38/down8/atlasV4_down32_scoreVolume_clf_38_warp_8_MD635_down32_scoreVolume_clf_38_0244_down8.jpg s3://mousebrainatlas-data/CSHL_registration_visualization/atlasV4/atlasV4_down32_scoreVolume_clf_38_warp_8_MD635_down32_scoreVolume_clf_38/down8/atlasV4_down32_scoreVolume_clf_38_warp_8_MD635_down32_scoreVolume_clf_38_0244_down8.jpg\n",
      "aws s3 cp /shared/CSHL_registration_visualization/atlasV4/atlasV4_down32_scoreVolume_clf_38_warp_8_MD635_down32_scoreVolume_clf_38/down8/atlasV4_down32_scoreVolume_clf_38_warp_8_MD635_down32_scoreVolume_clf_38_0249_down8.jpg s3://mousebrainatlas-data/CSHL_registration_visualization/atlasV4/atlasV4_down32_scoreVolume_clf_38_warp_8_MD635_down32_scoreVolume_clf_38/down8/atlasV4_down32_scoreVolume_clf_38_warp_8_MD635_down32_scoreVolume_clf_38_0249_down8.jpg\n",
      "aws s3 cp /shared/CSHL_registration_visualization/atlasV4/atlasV4_down32_scoreVolume_clf_38_warp_8_MD635_down32_scoreVolume_clf_38/down8/atlasV4_down32_scoreVolume_clf_38_warp_8_MD635_down32_scoreVolume_clf_38_0259_down8.jpg s3://mousebrainatlas-data/CSHL_registration_visualization/atlasV4/atlasV4_down32_scoreVolume_clf_38_warp_8_MD635_down32_scoreVolume_clf_38/down8/atlasV4_down32_scoreVolume_clf_38_warp_8_MD635_down32_scoreVolume_clf_38_0259_down8.jpg\n",
      "aws s3 cp /shared/CSHL_registration_visualization/atlasV4/atlasV4_down32_scoreVolume_clf_38_warp_8_MD635_down32_scoreVolume_clf_38/down8/atlasV4_down32_scoreVolume_clf_38_warp_8_MD635_down32_scoreVolume_clf_38_0254_down8.jpg s3://mousebrainatlas-data/CSHL_registration_visualization/atlasV4/atlasV4_down32_scoreVolume_clf_38_warp_8_MD635_down32_scoreVolume_clf_38/down8/atlasV4_down32_scoreVolume_clf_38_warp_8_MD635_down32_scoreVolume_clf_38_0254_down8.jpg\n",
      "aws s3 cp /shared/CSHL_registration_visualization/atlasV4/atlasV4_down32_scoreVolume_clf_38_warp_8_MD635_down32_scoreVolume_clf_38/down8/atlasV4_down32_scoreVolume_clf_38_warp_8_MD635_down32_scoreVolume_clf_38_0264_down8.jpg s3://mousebrainatlas-data/CSHL_registration_visualization/atlasV4/atlasV4_down32_scoreVolume_clf_38_warp_8_MD635_down32_scoreVolume_clf_38/down8/atlasV4_down32_scoreVolume_clf_38_warp_8_MD635_down32_scoreVolume_clf_38_0264_down8.jpg\n",
      "aws s3 cp /shared/CSHL_registration_visualization/atlasV4/atlasV4_down32_scoreVolume_clf_38_warp_8_MD635_down32_scoreVolume_clf_38/down8/atlasV4_down32_scoreVolume_clf_38_warp_8_MD635_down32_scoreVolume_clf_38_0269_down8.jpg s3://mousebrainatlas-data/CSHL_registration_visualization/atlasV4/atlasV4_down32_scoreVolume_clf_38_warp_8_MD635_down32_scoreVolume_clf_38/down8/atlasV4_down32_scoreVolume_clf_38_warp_8_MD635_down32_scoreVolume_clf_38_0269_down8.jpg\n"
     ]
    },
    {
     "name": "stdout",
     "output_type": "stream",
     "text": [
      "aws s3 cp /shared/CSHL_registration_visualization/atlasV4/atlasV4_down32_scoreVolume_clf_38_warp_8_MD635_down32_scoreVolume_clf_38/down8/atlasV4_down32_scoreVolume_clf_38_warp_8_MD635_down32_scoreVolume_clf_38_0274_down8.jpg s3://mousebrainatlas-data/CSHL_registration_visualization/atlasV4/atlasV4_down32_scoreVolume_clf_38_warp_8_MD635_down32_scoreVolume_clf_38/down8/atlasV4_down32_scoreVolume_clf_38_warp_8_MD635_down32_scoreVolume_clf_38_0274_down8.jpg\n",
      "aws s3 cp /shared/CSHL_registration_visualization/atlasV4/atlasV4_down32_scoreVolume_clf_38_warp_8_MD635_down32_scoreVolume_clf_38/down8/atlasV4_down32_scoreVolume_clf_38_warp_8_MD635_down32_scoreVolume_clf_38_0284_down8.jpg s3://mousebrainatlas-data/CSHL_registration_visualization/atlasV4/atlasV4_down32_scoreVolume_clf_38_warp_8_MD635_down32_scoreVolume_clf_38/down8/atlasV4_down32_scoreVolume_clf_38_warp_8_MD635_down32_scoreVolume_clf_38_0284_down8.jpg\n",
      "aws s3 cp /shared/CSHL_registration_visualization/atlasV4/atlasV4_down32_scoreVolume_clf_38_warp_8_MD635_down32_scoreVolume_clf_38/down8/atlasV4_down32_scoreVolume_clf_38_warp_8_MD635_down32_scoreVolume_clf_38_0279_down8.jpg s3://mousebrainatlas-data/CSHL_registration_visualization/atlasV4/atlasV4_down32_scoreVolume_clf_38_warp_8_MD635_down32_scoreVolume_clf_38/down8/atlasV4_down32_scoreVolume_clf_38_warp_8_MD635_down32_scoreVolume_clf_38_0279_down8.jpg\n",
      "aws s3 cp /shared/CSHL_registration_visualization/atlasV4/atlasV4_down32_scoreVolume_clf_38_warp_8_MD635_down32_scoreVolume_clf_38/down8/atlasV4_down32_scoreVolume_clf_38_warp_8_MD635_down32_scoreVolume_clf_38_0299_down8.jpg s3://mousebrainatlas-data/CSHL_registration_visualization/atlasV4/atlasV4_down32_scoreVolume_clf_38_warp_8_MD635_down32_scoreVolume_clf_38/down8/atlasV4_down32_scoreVolume_clf_38_warp_8_MD635_down32_scoreVolume_clf_38_0299_down8.jpg\n",
      "aws s3 cp /shared/CSHL_registration_visualization/atlasV4/atlasV4_down32_scoreVolume_clf_38_warp_8_MD635_down32_scoreVolume_clf_38/down8/atlasV4_down32_scoreVolume_clf_38_warp_8_MD635_down32_scoreVolume_clf_38_0289_down8.jpg s3://mousebrainatlas-data/CSHL_registration_visualization/atlasV4/atlasV4_down32_scoreVolume_clf_38_warp_8_MD635_down32_scoreVolume_clf_38/down8/atlasV4_down32_scoreVolume_clf_38_warp_8_MD635_down32_scoreVolume_clf_38_0289_down8.jpg\n",
      "aws s3 cp /shared/CSHL_registration_visualization/atlasV4/atlasV4_down32_scoreVolume_clf_38_warp_8_MD635_down32_scoreVolume_clf_38/down8/atlasV4_down32_scoreVolume_clf_38_warp_8_MD635_down32_scoreVolume_clf_38_0294_down8.jpg s3://mousebrainatlas-data/CSHL_registration_visualization/atlasV4/atlasV4_down32_scoreVolume_clf_38_warp_8_MD635_down32_scoreVolume_clf_38/down8/atlasV4_down32_scoreVolume_clf_38_warp_8_MD635_down32_scoreVolume_clf_38_0294_down8.jpg\n",
      "aws s3 cp /shared/CSHL_registration_visualization/atlasV4/atlasV4_down32_scoreVolume_clf_38_warp_8_MD635_down32_scoreVolume_clf_38/down8/atlasV4_down32_scoreVolume_clf_38_warp_8_MD635_down32_scoreVolume_clf_38_0309_down8.jpg s3://mousebrainatlas-data/CSHL_registration_visualization/atlasV4/atlasV4_down32_scoreVolume_clf_38_warp_8_MD635_down32_scoreVolume_clf_38/down8/atlasV4_down32_scoreVolume_clf_38_warp_8_MD635_down32_scoreVolume_clf_38_0309_down8.jpg\n",
      "aws s3 cp /shared/CSHL_registration_visualization/atlasV4/atlasV4_down32_scoreVolume_clf_38_warp_8_MD635_down32_scoreVolume_clf_38/down8/atlasV4_down32_scoreVolume_clf_38_warp_8_MD635_down32_scoreVolume_clf_38_0314_down8.jpg s3://mousebrainatlas-data/CSHL_registration_visualization/atlasV4/atlasV4_down32_scoreVolume_clf_38_warp_8_MD635_down32_scoreVolume_clf_38/down8/atlasV4_down32_scoreVolume_clf_38_warp_8_MD635_down32_scoreVolume_clf_38_0314_down8.jpg\n",
      "aws s3 cp /shared/CSHL_registration_visualization/atlasV4/atlasV4_down32_scoreVolume_clf_38_warp_8_MD635_down32_scoreVolume_clf_38/down8/atlasV4_down32_scoreVolume_clf_38_warp_8_MD635_down32_scoreVolume_clf_38_0319_down8.jpg s3://mousebrainatlas-data/CSHL_registration_visualization/atlasV4/atlasV4_down32_scoreVolume_clf_38_warp_8_MD635_down32_scoreVolume_clf_38/down8/atlasV4_down32_scoreVolume_clf_38_warp_8_MD635_down32_scoreVolume_clf_38_0319_down8.jpg\n",
      "aws s3 cp /shared/CSHL_registration_visualization/atlasV4/atlasV4_down32_scoreVolume_clf_38_warp_8_MD635_down32_scoreVolume_clf_38/down8/atlasV4_down32_scoreVolume_clf_38_warp_8_MD635_down32_scoreVolume_clf_38_0304_down8.jpg s3://mousebrainatlas-data/CSHL_registration_visualization/atlasV4/atlasV4_down32_scoreVolume_clf_38_warp_8_MD635_down32_scoreVolume_clf_38/down8/atlasV4_down32_scoreVolume_clf_38_warp_8_MD635_down32_scoreVolume_clf_38_0304_down8.jpg\n",
      "aws s3 cp /shared/CSHL_registration_visualization/atlasV4/atlasV4_down32_scoreVolume_clf_38_warp_8_MD635_down32_scoreVolume_clf_38/down8/atlasV4_down32_scoreVolume_clf_38_warp_8_MD635_down32_scoreVolume_clf_38_0245_down8.jpg s3://mousebrainatlas-data/CSHL_registration_visualization/atlasV4/atlasV4_down32_scoreVolume_clf_38_warp_8_MD635_down32_scoreVolume_clf_38/down8/atlasV4_down32_scoreVolume_clf_38_warp_8_MD635_down32_scoreVolume_clf_38_0245_down8.jpg\n",
      "aws s3 cp /shared/CSHL_registration_visualization/atlasV4/atlasV4_down32_scoreVolume_clf_38_warp_8_MD635_down32_scoreVolume_clf_38/down8/atlasV4_down32_scoreVolume_clf_38_warp_8_MD635_down32_scoreVolume_clf_38_0250_down8.jpg s3://mousebrainatlas-data/CSHL_registration_visualization/atlasV4/atlasV4_down32_scoreVolume_clf_38_warp_8_MD635_down32_scoreVolume_clf_38/down8/atlasV4_down32_scoreVolume_clf_38_warp_8_MD635_down32_scoreVolume_clf_38_0250_down8.jpg\n",
      "aws s3 cp /shared/CSHL_registration_visualization/atlasV4/atlasV4_down32_scoreVolume_clf_38_warp_8_MD635_down32_scoreVolume_clf_38/down8/atlasV4_down32_scoreVolume_clf_38_warp_8_MD635_down32_scoreVolume_clf_38_0260_down8.jpg s3://mousebrainatlas-data/CSHL_registration_visualization/atlasV4/atlasV4_down32_scoreVolume_clf_38_warp_8_MD635_down32_scoreVolume_clf_38/down8/atlasV4_down32_scoreVolume_clf_38_warp_8_MD635_down32_scoreVolume_clf_38_0260_down8.jpg\n",
      "aws s3 cp /shared/CSHL_registration_visualization/atlasV4/atlasV4_down32_scoreVolume_clf_38_warp_8_MD635_down32_scoreVolume_clf_38/down8/atlasV4_down32_scoreVolume_clf_38_warp_8_MD635_down32_scoreVolume_clf_38_0255_down8.jpg s3://mousebrainatlas-data/CSHL_registration_visualization/atlasV4/atlasV4_down32_scoreVolume_clf_38_warp_8_MD635_down32_scoreVolume_clf_38/down8/atlasV4_down32_scoreVolume_clf_38_warp_8_MD635_down32_scoreVolume_clf_38_0255_down8.jpg\n",
      "aws s3 cp /shared/CSHL_registration_visualization/atlasV4/atlasV4_down32_scoreVolume_clf_38_warp_8_MD635_down32_scoreVolume_clf_38/down8/atlasV4_down32_scoreVolume_clf_38_warp_8_MD635_down32_scoreVolume_clf_38_0265_down8.jpg s3://mousebrainatlas-data/CSHL_registration_visualization/atlasV4/atlasV4_down32_scoreVolume_clf_38_warp_8_MD635_down32_scoreVolume_clf_38/down8/atlasV4_down32_scoreVolume_clf_38_warp_8_MD635_down32_scoreVolume_clf_38_0265_down8.jpg\n",
      "aws s3 cp /shared/CSHL_registration_visualization/atlasV4/atlasV4_down32_scoreVolume_clf_38_warp_8_MD635_down32_scoreVolume_clf_38/down8/atlasV4_down32_scoreVolume_clf_38_warp_8_MD635_down32_scoreVolume_clf_38_0270_down8.jpg s3://mousebrainatlas-data/CSHL_registration_visualization/atlasV4/atlasV4_down32_scoreVolume_clf_38_warp_8_MD635_down32_scoreVolume_clf_38/down8/atlasV4_down32_scoreVolume_clf_38_warp_8_MD635_down32_scoreVolume_clf_38_0270_down8.jpg\n",
      "aws s3 cp /shared/CSHL_registration_visualization/atlasV4/atlasV4_down32_scoreVolume_clf_38_warp_8_MD635_down32_scoreVolume_clf_38/down8/atlasV4_down32_scoreVolume_clf_38_warp_8_MD635_down32_scoreVolume_clf_38_0285_down8.jpg s3://mousebrainatlas-data/CSHL_registration_visualization/atlasV4/atlasV4_down32_scoreVolume_clf_38_warp_8_MD635_down32_scoreVolume_clf_38/down8/atlasV4_down32_scoreVolume_clf_38_warp_8_MD635_down32_scoreVolume_clf_38_0285_down8.jpg\n",
      "aws s3 cp /shared/CSHL_registration_visualization/atlasV4/atlasV4_down32_scoreVolume_clf_38_warp_8_MD635_down32_scoreVolume_clf_38/down8/atlasV4_down32_scoreVolume_clf_38_warp_8_MD635_down32_scoreVolume_clf_38_0280_down8.jpg s3://mousebrainatlas-data/CSHL_registration_visualization/atlasV4/atlasV4_down32_scoreVolume_clf_38_warp_8_MD635_down32_scoreVolume_clf_38/down8/atlasV4_down32_scoreVolume_clf_38_warp_8_MD635_down32_scoreVolume_clf_38_0280_down8.jpg\n"
     ]
    },
    {
     "name": "stdout",
     "output_type": "stream",
     "text": [
      "aws s3 cp /shared/CSHL_registration_visualization/atlasV4/atlasV4_down32_scoreVolume_clf_38_warp_8_MD635_down32_scoreVolume_clf_38/down8/atlasV4_down32_scoreVolume_clf_38_warp_8_MD635_down32_scoreVolume_clf_38_0275_down8.jpg s3://mousebrainatlas-data/CSHL_registration_visualization/atlasV4/atlasV4_down32_scoreVolume_clf_38_warp_8_MD635_down32_scoreVolume_clf_38/down8/atlasV4_down32_scoreVolume_clf_38_warp_8_MD635_down32_scoreVolume_clf_38_0275_down8.jpg\n",
      "aws s3 cp /shared/CSHL_registration_visualization/atlasV4/atlasV4_down32_scoreVolume_clf_38_warp_8_MD635_down32_scoreVolume_clf_38/down8/atlasV4_down32_scoreVolume_clf_38_warp_8_MD635_down32_scoreVolume_clf_38_0290_down8.jpg s3://mousebrainatlas-data/CSHL_registration_visualization/atlasV4/atlasV4_down32_scoreVolume_clf_38_warp_8_MD635_down32_scoreVolume_clf_38/down8/atlasV4_down32_scoreVolume_clf_38_warp_8_MD635_down32_scoreVolume_clf_38_0290_down8.jpg\n",
      "aws s3 cp /shared/CSHL_registration_visualization/atlasV4/atlasV4_down32_scoreVolume_clf_38_warp_8_MD635_down32_scoreVolume_clf_38/down8/atlasV4_down32_scoreVolume_clf_38_warp_8_MD635_down32_scoreVolume_clf_38_0300_down8.jpg s3://mousebrainatlas-data/CSHL_registration_visualization/atlasV4/atlasV4_down32_scoreVolume_clf_38_warp_8_MD635_down32_scoreVolume_clf_38/down8/atlasV4_down32_scoreVolume_clf_38_warp_8_MD635_down32_scoreVolume_clf_38_0300_down8.jpg\n",
      "aws s3 cp /shared/CSHL_registration_visualization/atlasV4/atlasV4_down32_scoreVolume_clf_38_warp_8_MD635_down32_scoreVolume_clf_38/down8/atlasV4_down32_scoreVolume_clf_38_warp_8_MD635_down32_scoreVolume_clf_38_0295_down8.jpg s3://mousebrainatlas-data/CSHL_registration_visualization/atlasV4/atlasV4_down32_scoreVolume_clf_38_warp_8_MD635_down32_scoreVolume_clf_38/down8/atlasV4_down32_scoreVolume_clf_38_warp_8_MD635_down32_scoreVolume_clf_38_0295_down8.jpg\n",
      "aws s3 cp /shared/CSHL_registration_visualization/atlasV4/atlasV4_down32_scoreVolume_clf_38_warp_8_MD635_down32_scoreVolume_clf_38/down8/atlasV4_down32_scoreVolume_clf_38_warp_8_MD635_down32_scoreVolume_clf_38_0310_down8.jpg s3://mousebrainatlas-data/CSHL_registration_visualization/atlasV4/atlasV4_down32_scoreVolume_clf_38_warp_8_MD635_down32_scoreVolume_clf_38/down8/atlasV4_down32_scoreVolume_clf_38_warp_8_MD635_down32_scoreVolume_clf_38_0310_down8.jpg\n",
      "aws s3 cp /shared/CSHL_registration_visualization/atlasV4/atlasV4_down32_scoreVolume_clf_38_warp_8_MD635_down32_scoreVolume_clf_38/down8/atlasV4_down32_scoreVolume_clf_38_warp_8_MD635_down32_scoreVolume_clf_38_0315_down8.jpg s3://mousebrainatlas-data/CSHL_registration_visualization/atlasV4/atlasV4_down32_scoreVolume_clf_38_warp_8_MD635_down32_scoreVolume_clf_38/down8/atlasV4_down32_scoreVolume_clf_38_warp_8_MD635_down32_scoreVolume_clf_38_0315_down8.jpg\n",
      "aws s3 cp /shared/CSHL_registration_visualization/atlasV4/atlasV4_down32_scoreVolume_clf_38_warp_8_MD635_down32_scoreVolume_clf_38/down8/atlasV4_down32_scoreVolume_clf_38_warp_8_MD635_down32_scoreVolume_clf_38_0320_down8.jpg s3://mousebrainatlas-data/CSHL_registration_visualization/atlasV4/atlasV4_down32_scoreVolume_clf_38_warp_8_MD635_down32_scoreVolume_clf_38/down8/atlasV4_down32_scoreVolume_clf_38_warp_8_MD635_down32_scoreVolume_clf_38_0320_down8.jpg\n",
      "aws s3 cp /shared/CSHL_registration_visualization/atlasV4/atlasV4_down32_scoreVolume_clf_38_warp_8_MD635_down32_scoreVolume_clf_38/down8/atlasV4_down32_scoreVolume_clf_38_warp_8_MD635_down32_scoreVolume_clf_38_0305_down8.jpg s3://mousebrainatlas-data/CSHL_registration_visualization/atlasV4/atlasV4_down32_scoreVolume_clf_38_warp_8_MD635_down32_scoreVolume_clf_38/down8/atlasV4_down32_scoreVolume_clf_38_warp_8_MD635_down32_scoreVolume_clf_38_0305_down8.jpg\n",
      "aws s3 cp /shared/CSHL_registration_visualization/atlasV4/atlasV4_down32_scoreVolume_clf_38_warp_8_MD635_down32_scoreVolume_clf_38/down8/atlasV4_down32_scoreVolume_clf_38_warp_8_MD635_down32_scoreVolume_clf_38_0251_down8.jpg s3://mousebrainatlas-data/CSHL_registration_visualization/atlasV4/atlasV4_down32_scoreVolume_clf_38_warp_8_MD635_down32_scoreVolume_clf_38/down8/atlasV4_down32_scoreVolume_clf_38_warp_8_MD635_down32_scoreVolume_clf_38_0251_down8.jpg\n",
      "aws s3 cp /shared/CSHL_registration_visualization/atlasV4/atlasV4_down32_scoreVolume_clf_38_warp_8_MD635_down32_scoreVolume_clf_38/down8/atlasV4_down32_scoreVolume_clf_38_warp_8_MD635_down32_scoreVolume_clf_38_0261_down8.jpg s3://mousebrainatlas-data/CSHL_registration_visualization/atlasV4/atlasV4_down32_scoreVolume_clf_38_warp_8_MD635_down32_scoreVolume_clf_38/down8/atlasV4_down32_scoreVolume_clf_38_warp_8_MD635_down32_scoreVolume_clf_38_0261_down8.jpg\n",
      "aws s3 cp /shared/CSHL_registration_visualization/atlasV4/atlasV4_down32_scoreVolume_clf_38_warp_8_MD635_down32_scoreVolume_clf_38/down8/atlasV4_down32_scoreVolume_clf_38_warp_8_MD635_down32_scoreVolume_clf_38_0246_down8.jpg s3://mousebrainatlas-data/CSHL_registration_visualization/atlasV4/atlasV4_down32_scoreVolume_clf_38_warp_8_MD635_down32_scoreVolume_clf_38/down8/atlasV4_down32_scoreVolume_clf_38_warp_8_MD635_down32_scoreVolume_clf_38_0246_down8.jpg\n",
      "aws s3 cp /shared/CSHL_registration_visualization/atlasV4/atlasV4_down32_scoreVolume_clf_38_warp_8_MD635_down32_scoreVolume_clf_38/down8/atlasV4_down32_scoreVolume_clf_38_warp_8_MD635_down32_scoreVolume_clf_38_0266_down8.jpg s3://mousebrainatlas-data/CSHL_registration_visualization/atlasV4/atlasV4_down32_scoreVolume_clf_38_warp_8_MD635_down32_scoreVolume_clf_38/down8/atlasV4_down32_scoreVolume_clf_38_warp_8_MD635_down32_scoreVolume_clf_38_0266_down8.jpg\n",
      "aws s3 cp /shared/CSHL_registration_visualization/atlasV4/atlasV4_down32_scoreVolume_clf_38_warp_8_MD635_down32_scoreVolume_clf_38/down8/atlasV4_down32_scoreVolume_clf_38_warp_8_MD635_down32_scoreVolume_clf_38_0256_down8.jpg s3://mousebrainatlas-data/CSHL_registration_visualization/atlasV4/atlasV4_down32_scoreVolume_clf_38_warp_8_MD635_down32_scoreVolume_clf_38/down8/atlasV4_down32_scoreVolume_clf_38_warp_8_MD635_down32_scoreVolume_clf_38_0256_down8.jpg\n",
      "aws s3 cp /shared/CSHL_registration_visualization/atlasV4/atlasV4_down32_scoreVolume_clf_38_warp_8_MD635_down32_scoreVolume_clf_38/down8/atlasV4_down32_scoreVolume_clf_38_warp_8_MD635_down32_scoreVolume_clf_38_0271_down8.jpg s3://mousebrainatlas-data/CSHL_registration_visualization/atlasV4/atlasV4_down32_scoreVolume_clf_38_warp_8_MD635_down32_scoreVolume_clf_38/down8/atlasV4_down32_scoreVolume_clf_38_warp_8_MD635_down32_scoreVolume_clf_38_0271_down8.jpg\n",
      "aws s3 cp /shared/CSHL_registration_visualization/atlasV4/atlasV4_down32_scoreVolume_clf_38_warp_8_MD635_down32_scoreVolume_clf_38/down8/atlasV4_down32_scoreVolume_clf_38_warp_8_MD635_down32_scoreVolume_clf_38_0281_down8.jpg s3://mousebrainatlas-data/CSHL_registration_visualization/atlasV4/atlasV4_down32_scoreVolume_clf_38_warp_8_MD635_down32_scoreVolume_clf_38/down8/atlasV4_down32_scoreVolume_clf_38_warp_8_MD635_down32_scoreVolume_clf_38_0281_down8.jpg\n",
      "aws s3 cp /shared/CSHL_registration_visualization/atlasV4/atlasV4_down32_scoreVolume_clf_38_warp_8_MD635_down32_scoreVolume_clf_38/down8/atlasV4_down32_scoreVolume_clf_38_warp_8_MD635_down32_scoreVolume_clf_38_0276_down8.jpg s3://mousebrainatlas-data/CSHL_registration_visualization/atlasV4/atlasV4_down32_scoreVolume_clf_38_warp_8_MD635_down32_scoreVolume_clf_38/down8/atlasV4_down32_scoreVolume_clf_38_warp_8_MD635_down32_scoreVolume_clf_38_0276_down8.jpg\n",
      "aws s3 cp /shared/CSHL_registration_visualization/atlasV4/atlasV4_down32_scoreVolume_clf_38_warp_8_MD635_down32_scoreVolume_clf_38/down8/atlasV4_down32_scoreVolume_clf_38_warp_8_MD635_down32_scoreVolume_clf_38_0286_down8.jpg s3://mousebrainatlas-data/CSHL_registration_visualization/atlasV4/atlasV4_down32_scoreVolume_clf_38_warp_8_MD635_down32_scoreVolume_clf_38/down8/atlasV4_down32_scoreVolume_clf_38_warp_8_MD635_down32_scoreVolume_clf_38_0286_down8.jpg\n",
      "aws s3 cp /shared/CSHL_registration_visualization/atlasV4/atlasV4_down32_scoreVolume_clf_38_warp_8_MD635_down32_scoreVolume_clf_38/down8/atlasV4_down32_scoreVolume_clf_38_warp_8_MD635_down32_scoreVolume_clf_38_0291_down8.jpg s3://mousebrainatlas-data/CSHL_registration_visualization/atlasV4/atlasV4_down32_scoreVolume_clf_38_warp_8_MD635_down32_scoreVolume_clf_38/down8/atlasV4_down32_scoreVolume_clf_38_warp_8_MD635_down32_scoreVolume_clf_38_0291_down8.jpg\n"
     ]
    },
    {
     "name": "stdout",
     "output_type": "stream",
     "text": [
      "aws s3 cp /shared/CSHL_registration_visualization/atlasV4/atlasV4_down32_scoreVolume_clf_38_warp_8_MD635_down32_scoreVolume_clf_38/down8/atlasV4_down32_scoreVolume_clf_38_warp_8_MD635_down32_scoreVolume_clf_38_0301_down8.jpg s3://mousebrainatlas-data/CSHL_registration_visualization/atlasV4/atlasV4_down32_scoreVolume_clf_38_warp_8_MD635_down32_scoreVolume_clf_38/down8/atlasV4_down32_scoreVolume_clf_38_warp_8_MD635_down32_scoreVolume_clf_38_0301_down8.jpg\n",
      "aws s3 cp /shared/CSHL_registration_visualization/atlasV4/atlasV4_down32_scoreVolume_clf_38_warp_8_MD635_down32_scoreVolume_clf_38/down8/atlasV4_down32_scoreVolume_clf_38_warp_8_MD635_down32_scoreVolume_clf_38_0311_down8.jpg s3://mousebrainatlas-data/CSHL_registration_visualization/atlasV4/atlasV4_down32_scoreVolume_clf_38_warp_8_MD635_down32_scoreVolume_clf_38/down8/atlasV4_down32_scoreVolume_clf_38_warp_8_MD635_down32_scoreVolume_clf_38_0311_down8.jpg\n",
      "aws s3 cp /shared/CSHL_registration_visualization/atlasV4/atlasV4_down32_scoreVolume_clf_38_warp_8_MD635_down32_scoreVolume_clf_38/down8/atlasV4_down32_scoreVolume_clf_38_warp_8_MD635_down32_scoreVolume_clf_38_0296_down8.jpg s3://mousebrainatlas-data/CSHL_registration_visualization/atlasV4/atlasV4_down32_scoreVolume_clf_38_warp_8_MD635_down32_scoreVolume_clf_38/down8/atlasV4_down32_scoreVolume_clf_38_warp_8_MD635_down32_scoreVolume_clf_38_0296_down8.jpg\n",
      "aws s3 cp /shared/CSHL_registration_visualization/atlasV4/atlasV4_down32_scoreVolume_clf_38_warp_8_MD635_down32_scoreVolume_clf_38/down8/atlasV4_down32_scoreVolume_clf_38_warp_8_MD635_down32_scoreVolume_clf_38_0316_down8.jpg s3://mousebrainatlas-data/CSHL_registration_visualization/atlasV4/atlasV4_down32_scoreVolume_clf_38_warp_8_MD635_down32_scoreVolume_clf_38/down8/atlasV4_down32_scoreVolume_clf_38_warp_8_MD635_down32_scoreVolume_clf_38_0316_down8.jpg\n",
      "aws s3 cp /shared/CSHL_registration_visualization/atlasV4/atlasV4_down32_scoreVolume_clf_38_warp_8_MD635_down32_scoreVolume_clf_38/down8/atlasV4_down32_scoreVolume_clf_38_warp_8_MD635_down32_scoreVolume_clf_38_0321_down8.jpg s3://mousebrainatlas-data/CSHL_registration_visualization/atlasV4/atlasV4_down32_scoreVolume_clf_38_warp_8_MD635_down32_scoreVolume_clf_38/down8/atlasV4_down32_scoreVolume_clf_38_warp_8_MD635_down32_scoreVolume_clf_38_0321_down8.jpg\n",
      "aws s3 cp /shared/CSHL_registration_visualization/atlasV4/atlasV4_down32_scoreVolume_clf_38_warp_8_MD635_down32_scoreVolume_clf_38/down8/atlasV4_down32_scoreVolume_clf_38_warp_8_MD635_down32_scoreVolume_clf_38_0306_down8.jpg s3://mousebrainatlas-data/CSHL_registration_visualization/atlasV4/atlasV4_down32_scoreVolume_clf_38_warp_8_MD635_down32_scoreVolume_clf_38/down8/atlasV4_down32_scoreVolume_clf_38_warp_8_MD635_down32_scoreVolume_clf_38_0306_down8.jpg\n",
      "aws s3 cp /shared/CSHL_registration_visualization/atlasV4/atlasV4_down32_scoreVolume_clf_38_warp_8_MD635_down32_scoreVolume_clf_38/down8/atlasV4_down32_scoreVolume_clf_38_warp_8_MD635_down32_scoreVolume_clf_38_0327_down8.jpg s3://mousebrainatlas-data/CSHL_registration_visualization/atlasV4/atlasV4_down32_scoreVolume_clf_38_warp_8_MD635_down32_scoreVolume_clf_38/down8/atlasV4_down32_scoreVolume_clf_38_warp_8_MD635_down32_scoreVolume_clf_38_0327_down8.jpg\n",
      "aws s3 cp /shared/CSHL_registration_visualization/atlasV4/atlasV4_down32_scoreVolume_clf_38_warp_8_MD635_down32_scoreVolume_clf_38/down8/atlasV4_down32_scoreVolume_clf_38_warp_8_MD635_down32_scoreVolume_clf_38_0322_down8.jpg s3://mousebrainatlas-data/CSHL_registration_visualization/atlasV4/atlasV4_down32_scoreVolume_clf_38_warp_8_MD635_down32_scoreVolume_clf_38/down8/atlasV4_down32_scoreVolume_clf_38_warp_8_MD635_down32_scoreVolume_clf_38_0322_down8.jpg\n",
      "aws s3 cp /shared/CSHL_registration_visualization/atlasV4/atlasV4_down32_scoreVolume_clf_38_warp_8_MD635_down32_scoreVolume_clf_38/down8/atlasV4_down32_scoreVolume_clf_38_warp_8_MD635_down32_scoreVolume_clf_38_0332_down8.jpg s3://mousebrainatlas-data/CSHL_registration_visualization/atlasV4/atlasV4_down32_scoreVolume_clf_38_warp_8_MD635_down32_scoreVolume_clf_38/down8/atlasV4_down32_scoreVolume_clf_38_warp_8_MD635_down32_scoreVolume_clf_38_0332_down8.jpg\n",
      "aws s3 cp /shared/CSHL_registration_visualization/atlasV4/atlasV4_down32_scoreVolume_clf_38_warp_8_MD635_down32_scoreVolume_clf_38/down8/atlasV4_down32_scoreVolume_clf_38_warp_8_MD635_down32_scoreVolume_clf_38_0342_down8.jpg s3://mousebrainatlas-data/CSHL_registration_visualization/atlasV4/atlasV4_down32_scoreVolume_clf_38_warp_8_MD635_down32_scoreVolume_clf_38/down8/atlasV4_down32_scoreVolume_clf_38_warp_8_MD635_down32_scoreVolume_clf_38_0342_down8.jpg\n",
      "aws s3 cp /shared/CSHL_registration_visualization/atlasV4/atlasV4_down32_scoreVolume_clf_38_warp_8_MD635_down32_scoreVolume_clf_38/down8/atlasV4_down32_scoreVolume_clf_38_warp_8_MD635_down32_scoreVolume_clf_38_0337_down8.jpg s3://mousebrainatlas-data/CSHL_registration_visualization/atlasV4/atlasV4_down32_scoreVolume_clf_38_warp_8_MD635_down32_scoreVolume_clf_38/down8/atlasV4_down32_scoreVolume_clf_38_warp_8_MD635_down32_scoreVolume_clf_38_0337_down8.jpg\n",
      "aws s3 cp /shared/CSHL_registration_visualization/atlasV4/atlasV4_down32_scoreVolume_clf_38_warp_8_MD635_down32_scoreVolume_clf_38/down8/atlasV4_down32_scoreVolume_clf_38_warp_8_MD635_down32_scoreVolume_clf_38_0347_down8.jpg s3://mousebrainatlas-data/CSHL_registration_visualization/atlasV4/atlasV4_down32_scoreVolume_clf_38_warp_8_MD635_down32_scoreVolume_clf_38/down8/atlasV4_down32_scoreVolume_clf_38_warp_8_MD635_down32_scoreVolume_clf_38_0347_down8.jpg\n",
      "aws s3 cp /shared/CSHL_registration_visualization/atlasV4/atlasV4_down32_scoreVolume_clf_38_warp_8_MD635_down32_scoreVolume_clf_38/down8/atlasV4_down32_scoreVolume_clf_38_warp_8_MD635_down32_scoreVolume_clf_38_0362_down8.jpg s3://mousebrainatlas-data/CSHL_registration_visualization/atlasV4/atlasV4_down32_scoreVolume_clf_38_warp_8_MD635_down32_scoreVolume_clf_38/down8/atlasV4_down32_scoreVolume_clf_38_warp_8_MD635_down32_scoreVolume_clf_38_0362_down8.jpg\n",
      "aws s3 cp /shared/CSHL_registration_visualization/atlasV4/atlasV4_down32_scoreVolume_clf_38_warp_8_MD635_down32_scoreVolume_clf_38/down8/atlasV4_down32_scoreVolume_clf_38_warp_8_MD635_down32_scoreVolume_clf_38_0352_down8.jpg s3://mousebrainatlas-data/CSHL_registration_visualization/atlasV4/atlasV4_down32_scoreVolume_clf_38_warp_8_MD635_down32_scoreVolume_clf_38/down8/atlasV4_down32_scoreVolume_clf_38_warp_8_MD635_down32_scoreVolume_clf_38_0352_down8.jpg\n",
      "aws s3 cp /shared/CSHL_registration_visualization/atlasV4/atlasV4_down32_scoreVolume_clf_38_warp_8_MD635_down32_scoreVolume_clf_38/down8/atlasV4_down32_scoreVolume_clf_38_warp_8_MD635_down32_scoreVolume_clf_38_0357_down8.jpg s3://mousebrainatlas-data/CSHL_registration_visualization/atlasV4/atlasV4_down32_scoreVolume_clf_38_warp_8_MD635_down32_scoreVolume_clf_38/down8/atlasV4_down32_scoreVolume_clf_38_warp_8_MD635_down32_scoreVolume_clf_38_0357_down8.jpg\n",
      "aws s3 cp /shared/CSHL_registration_visualization/atlasV4/atlasV4_down32_scoreVolume_clf_38_warp_8_MD635_down32_scoreVolume_clf_38/down8/atlasV4_down32_scoreVolume_clf_38_warp_8_MD635_down32_scoreVolume_clf_38_0328_down8.jpg s3://mousebrainatlas-data/CSHL_registration_visualization/atlasV4/atlasV4_down32_scoreVolume_clf_38_warp_8_MD635_down32_scoreVolume_clf_38/down8/atlasV4_down32_scoreVolume_clf_38_warp_8_MD635_down32_scoreVolume_clf_38_0328_down8.jpg\n",
      "aws s3 cp /shared/CSHL_registration_visualization/atlasV4/atlasV4_down32_scoreVolume_clf_38_warp_8_MD635_down32_scoreVolume_clf_38/down8/atlasV4_down32_scoreVolume_clf_38_warp_8_MD635_down32_scoreVolume_clf_38_0333_down8.jpg s3://mousebrainatlas-data/CSHL_registration_visualization/atlasV4/atlasV4_down32_scoreVolume_clf_38_warp_8_MD635_down32_scoreVolume_clf_38/down8/atlasV4_down32_scoreVolume_clf_38_warp_8_MD635_down32_scoreVolume_clf_38_0333_down8.jpg\n",
      "aws s3 cp /shared/CSHL_registration_visualization/atlasV4/atlasV4_down32_scoreVolume_clf_38_warp_8_MD635_down32_scoreVolume_clf_38/down8/atlasV4_down32_scoreVolume_clf_38_warp_8_MD635_down32_scoreVolume_clf_38_0323_down8.jpg s3://mousebrainatlas-data/CSHL_registration_visualization/atlasV4/atlasV4_down32_scoreVolume_clf_38_warp_8_MD635_down32_scoreVolume_clf_38/down8/atlasV4_down32_scoreVolume_clf_38_warp_8_MD635_down32_scoreVolume_clf_38_0323_down8.jpg\n"
     ]
    },
    {
     "name": "stdout",
     "output_type": "stream",
     "text": [
      "aws s3 cp /shared/CSHL_registration_visualization/atlasV4/atlasV4_down32_scoreVolume_clf_38_warp_8_MD635_down32_scoreVolume_clf_38/down8/atlasV4_down32_scoreVolume_clf_38_warp_8_MD635_down32_scoreVolume_clf_38_0343_down8.jpg s3://mousebrainatlas-data/CSHL_registration_visualization/atlasV4/atlasV4_down32_scoreVolume_clf_38_warp_8_MD635_down32_scoreVolume_clf_38/down8/atlasV4_down32_scoreVolume_clf_38_warp_8_MD635_down32_scoreVolume_clf_38_0343_down8.jpg\n",
      "aws s3 cp /shared/CSHL_registration_visualization/atlasV4/atlasV4_down32_scoreVolume_clf_38_warp_8_MD635_down32_scoreVolume_clf_38/down8/atlasV4_down32_scoreVolume_clf_38_warp_8_MD635_down32_scoreVolume_clf_38_0348_down8.jpg s3://mousebrainatlas-data/CSHL_registration_visualization/atlasV4/atlasV4_down32_scoreVolume_clf_38_warp_8_MD635_down32_scoreVolume_clf_38/down8/atlasV4_down32_scoreVolume_clf_38_warp_8_MD635_down32_scoreVolume_clf_38_0348_down8.jpg\n",
      "aws s3 cp /shared/CSHL_registration_visualization/atlasV4/atlasV4_down32_scoreVolume_clf_38_warp_8_MD635_down32_scoreVolume_clf_38/down8/atlasV4_down32_scoreVolume_clf_38_warp_8_MD635_down32_scoreVolume_clf_38_0338_down8.jpg s3://mousebrainatlas-data/CSHL_registration_visualization/atlasV4/atlasV4_down32_scoreVolume_clf_38_warp_8_MD635_down32_scoreVolume_clf_38/down8/atlasV4_down32_scoreVolume_clf_38_warp_8_MD635_down32_scoreVolume_clf_38_0338_down8.jpg\n",
      "aws s3 cp /shared/CSHL_registration_visualization/atlasV4/atlasV4_down32_scoreVolume_clf_38_warp_8_MD635_down32_scoreVolume_clf_38/down8/atlasV4_down32_scoreVolume_clf_38_warp_8_MD635_down32_scoreVolume_clf_38_0363_down8.jpg s3://mousebrainatlas-data/CSHL_registration_visualization/atlasV4/atlasV4_down32_scoreVolume_clf_38_warp_8_MD635_down32_scoreVolume_clf_38/down8/atlasV4_down32_scoreVolume_clf_38_warp_8_MD635_down32_scoreVolume_clf_38_0363_down8.jpg\n",
      "aws s3 cp /shared/CSHL_registration_visualization/atlasV4/atlasV4_down32_scoreVolume_clf_38_warp_8_MD635_down32_scoreVolume_clf_38/down8/atlasV4_down32_scoreVolume_clf_38_warp_8_MD635_down32_scoreVolume_clf_38_0353_down8.jpg s3://mousebrainatlas-data/CSHL_registration_visualization/atlasV4/atlasV4_down32_scoreVolume_clf_38_warp_8_MD635_down32_scoreVolume_clf_38/down8/atlasV4_down32_scoreVolume_clf_38_warp_8_MD635_down32_scoreVolume_clf_38_0353_down8.jpg\n",
      "aws s3 cp /shared/CSHL_registration_visualization/atlasV4/atlasV4_down32_scoreVolume_clf_38_warp_8_MD635_down32_scoreVolume_clf_38/down8/atlasV4_down32_scoreVolume_clf_38_warp_8_MD635_down32_scoreVolume_clf_38_0358_down8.jpg s3://mousebrainatlas-data/CSHL_registration_visualization/atlasV4/atlasV4_down32_scoreVolume_clf_38_warp_8_MD635_down32_scoreVolume_clf_38/down8/atlasV4_down32_scoreVolume_clf_38_warp_8_MD635_down32_scoreVolume_clf_38_0358_down8.jpg\n",
      "aws s3 cp /shared/CSHL_registration_visualization/atlasV4/atlasV4_down32_scoreVolume_clf_38_warp_8_MD635_down32_scoreVolume_clf_38/down8/atlasV4_down32_scoreVolume_clf_38_warp_8_MD635_down32_scoreVolume_clf_38_0334_down8.jpg s3://mousebrainatlas-data/CSHL_registration_visualization/atlasV4/atlasV4_down32_scoreVolume_clf_38_warp_8_MD635_down32_scoreVolume_clf_38/down8/atlasV4_down32_scoreVolume_clf_38_warp_8_MD635_down32_scoreVolume_clf_38_0334_down8.jpg\n",
      "aws s3 cp /shared/CSHL_registration_visualization/atlasV4/atlasV4_down32_scoreVolume_clf_38_warp_8_MD635_down32_scoreVolume_clf_38/down8/atlasV4_down32_scoreVolume_clf_38_warp_8_MD635_down32_scoreVolume_clf_38_0329_down8.jpg s3://mousebrainatlas-data/CSHL_registration_visualization/atlasV4/atlasV4_down32_scoreVolume_clf_38_warp_8_MD635_down32_scoreVolume_clf_38/down8/atlasV4_down32_scoreVolume_clf_38_warp_8_MD635_down32_scoreVolume_clf_38_0329_down8.jpg\n",
      "aws s3 cp /shared/CSHL_registration_visualization/atlasV4/atlasV4_down32_scoreVolume_clf_38_warp_8_MD635_down32_scoreVolume_clf_38/down8/atlasV4_down32_scoreVolume_clf_38_warp_8_MD635_down32_scoreVolume_clf_38_0324_down8.jpg s3://mousebrainatlas-data/CSHL_registration_visualization/atlasV4/atlasV4_down32_scoreVolume_clf_38_warp_8_MD635_down32_scoreVolume_clf_38/down8/atlasV4_down32_scoreVolume_clf_38_warp_8_MD635_down32_scoreVolume_clf_38_0324_down8.jpg\n",
      "aws s3 cp /shared/CSHL_registration_visualization/atlasV4/atlasV4_down32_scoreVolume_clf_38_warp_8_MD635_down32_scoreVolume_clf_38/down8/atlasV4_down32_scoreVolume_clf_38_warp_8_MD635_down32_scoreVolume_clf_38_0349_down8.jpg s3://mousebrainatlas-data/CSHL_registration_visualization/atlasV4/atlasV4_down32_scoreVolume_clf_38_warp_8_MD635_down32_scoreVolume_clf_38/down8/atlasV4_down32_scoreVolume_clf_38_warp_8_MD635_down32_scoreVolume_clf_38_0349_down8.jpg\n",
      "aws s3 cp /shared/CSHL_registration_visualization/atlasV4/atlasV4_down32_scoreVolume_clf_38_warp_8_MD635_down32_scoreVolume_clf_38/down8/atlasV4_down32_scoreVolume_clf_38_warp_8_MD635_down32_scoreVolume_clf_38_0344_down8.jpg s3://mousebrainatlas-data/CSHL_registration_visualization/atlasV4/atlasV4_down32_scoreVolume_clf_38_warp_8_MD635_down32_scoreVolume_clf_38/down8/atlasV4_down32_scoreVolume_clf_38_warp_8_MD635_down32_scoreVolume_clf_38_0344_down8.jpg\n",
      "aws s3 cp /shared/CSHL_registration_visualization/atlasV4/atlasV4_down32_scoreVolume_clf_38_warp_8_MD635_down32_scoreVolume_clf_38/down8/atlasV4_down32_scoreVolume_clf_38_warp_8_MD635_down32_scoreVolume_clf_38_0364_down8.jpg s3://mousebrainatlas-data/CSHL_registration_visualization/atlasV4/atlasV4_down32_scoreVolume_clf_38_warp_8_MD635_down32_scoreVolume_clf_38/down8/atlasV4_down32_scoreVolume_clf_38_warp_8_MD635_down32_scoreVolume_clf_38_0364_down8.jpg\n",
      "aws s3 cp /shared/CSHL_registration_visualization/atlasV4/atlasV4_down32_scoreVolume_clf_38_warp_8_MD635_down32_scoreVolume_clf_38/down8/atlasV4_down32_scoreVolume_clf_38_warp_8_MD635_down32_scoreVolume_clf_38_0339_down8.jpg s3://mousebrainatlas-data/CSHL_registration_visualization/atlasV4/atlasV4_down32_scoreVolume_clf_38_warp_8_MD635_down32_scoreVolume_clf_38/down8/atlasV4_down32_scoreVolume_clf_38_warp_8_MD635_down32_scoreVolume_clf_38_0339_down8.jpg\n",
      "aws s3 cp /shared/CSHL_registration_visualization/atlasV4/atlasV4_down32_scoreVolume_clf_38_warp_8_MD635_down32_scoreVolume_clf_38/down8/atlasV4_down32_scoreVolume_clf_38_warp_8_MD635_down32_scoreVolume_clf_38_0354_down8.jpg s3://mousebrainatlas-data/CSHL_registration_visualization/atlasV4/atlasV4_down32_scoreVolume_clf_38_warp_8_MD635_down32_scoreVolume_clf_38/down8/atlasV4_down32_scoreVolume_clf_38_warp_8_MD635_down32_scoreVolume_clf_38_0354_down8.jpg\n",
      "aws s3 cp /shared/CSHL_registration_visualization/atlasV4/atlasV4_down32_scoreVolume_clf_38_warp_8_MD635_down32_scoreVolume_clf_38/down8/atlasV4_down32_scoreVolume_clf_38_warp_8_MD635_down32_scoreVolume_clf_38_0359_down8.jpg s3://mousebrainatlas-data/CSHL_registration_visualization/atlasV4/atlasV4_down32_scoreVolume_clf_38_warp_8_MD635_down32_scoreVolume_clf_38/down8/atlasV4_down32_scoreVolume_clf_38_warp_8_MD635_down32_scoreVolume_clf_38_0359_down8.jpg\n",
      "aws s3 cp /shared/CSHL_registration_visualization/atlasV4/atlasV4_down32_scoreVolume_clf_38_warp_8_MD635_down32_scoreVolume_clf_38/down8/atlasV4_down32_scoreVolume_clf_38_warp_8_MD635_down32_scoreVolume_clf_38_0330_down8.jpg s3://mousebrainatlas-data/CSHL_registration_visualization/atlasV4/atlasV4_down32_scoreVolume_clf_38_warp_8_MD635_down32_scoreVolume_clf_38/down8/atlasV4_down32_scoreVolume_clf_38_warp_8_MD635_down32_scoreVolume_clf_38_0330_down8.jpg\n",
      "aws s3 cp /shared/CSHL_registration_visualization/atlasV4/atlasV4_down32_scoreVolume_clf_38_warp_8_MD635_down32_scoreVolume_clf_38/down8/atlasV4_down32_scoreVolume_clf_38_warp_8_MD635_down32_scoreVolume_clf_38_0325_down8.jpg s3://mousebrainatlas-data/CSHL_registration_visualization/atlasV4/atlasV4_down32_scoreVolume_clf_38_warp_8_MD635_down32_scoreVolume_clf_38/down8/atlasV4_down32_scoreVolume_clf_38_warp_8_MD635_down32_scoreVolume_clf_38_0325_down8.jpg\n",
      "aws s3 cp /shared/CSHL_registration_visualization/atlasV4/atlasV4_down32_scoreVolume_clf_38_warp_8_MD635_down32_scoreVolume_clf_38/down8/atlasV4_down32_scoreVolume_clf_38_warp_8_MD635_down32_scoreVolume_clf_38_0345_down8.jpg s3://mousebrainatlas-data/CSHL_registration_visualization/atlasV4/atlasV4_down32_scoreVolume_clf_38_warp_8_MD635_down32_scoreVolume_clf_38/down8/atlasV4_down32_scoreVolume_clf_38_warp_8_MD635_down32_scoreVolume_clf_38_0345_down8.jpg\n"
     ]
    },
    {
     "name": "stdout",
     "output_type": "stream",
     "text": [
      "aws s3 cp /shared/CSHL_registration_visualization/atlasV4/atlasV4_down32_scoreVolume_clf_38_warp_8_MD635_down32_scoreVolume_clf_38/down8/atlasV4_down32_scoreVolume_clf_38_warp_8_MD635_down32_scoreVolume_clf_38_0335_down8.jpg s3://mousebrainatlas-data/CSHL_registration_visualization/atlasV4/atlasV4_down32_scoreVolume_clf_38_warp_8_MD635_down32_scoreVolume_clf_38/down8/atlasV4_down32_scoreVolume_clf_38_warp_8_MD635_down32_scoreVolume_clf_38_0335_down8.jpg\n",
      "aws s3 cp /shared/CSHL_registration_visualization/atlasV4/atlasV4_down32_scoreVolume_clf_38_warp_8_MD635_down32_scoreVolume_clf_38/down8/atlasV4_down32_scoreVolume_clf_38_warp_8_MD635_down32_scoreVolume_clf_38_0365_down8.jpg s3://mousebrainatlas-data/CSHL_registration_visualization/atlasV4/atlasV4_down32_scoreVolume_clf_38_warp_8_MD635_down32_scoreVolume_clf_38/down8/atlasV4_down32_scoreVolume_clf_38_warp_8_MD635_down32_scoreVolume_clf_38_0365_down8.jpg\n",
      "aws s3 cp /shared/CSHL_registration_visualization/atlasV4/atlasV4_down32_scoreVolume_clf_38_warp_8_MD635_down32_scoreVolume_clf_38/down8/atlasV4_down32_scoreVolume_clf_38_warp_8_MD635_down32_scoreVolume_clf_38_0350_down8.jpg s3://mousebrainatlas-data/CSHL_registration_visualization/atlasV4/atlasV4_down32_scoreVolume_clf_38_warp_8_MD635_down32_scoreVolume_clf_38/down8/atlasV4_down32_scoreVolume_clf_38_warp_8_MD635_down32_scoreVolume_clf_38_0350_down8.jpg\n",
      "aws s3 cp /shared/CSHL_registration_visualization/atlasV4/atlasV4_down32_scoreVolume_clf_38_warp_8_MD635_down32_scoreVolume_clf_38/down8/atlasV4_down32_scoreVolume_clf_38_warp_8_MD635_down32_scoreVolume_clf_38_0340_down8.jpg s3://mousebrainatlas-data/CSHL_registration_visualization/atlasV4/atlasV4_down32_scoreVolume_clf_38_warp_8_MD635_down32_scoreVolume_clf_38/down8/atlasV4_down32_scoreVolume_clf_38_warp_8_MD635_down32_scoreVolume_clf_38_0340_down8.jpg\n",
      "aws s3 cp /shared/CSHL_registration_visualization/atlasV4/atlasV4_down32_scoreVolume_clf_38_warp_8_MD635_down32_scoreVolume_clf_38/down8/atlasV4_down32_scoreVolume_clf_38_warp_8_MD635_down32_scoreVolume_clf_38_0355_down8.jpg s3://mousebrainatlas-data/CSHL_registration_visualization/atlasV4/atlasV4_down32_scoreVolume_clf_38_warp_8_MD635_down32_scoreVolume_clf_38/down8/atlasV4_down32_scoreVolume_clf_38_warp_8_MD635_down32_scoreVolume_clf_38_0355_down8.jpg\n",
      "aws s3 cp /shared/CSHL_registration_visualization/atlasV4/atlasV4_down32_scoreVolume_clf_38_warp_8_MD635_down32_scoreVolume_clf_38/down8/atlasV4_down32_scoreVolume_clf_38_warp_8_MD635_down32_scoreVolume_clf_38_0360_down8.jpg s3://mousebrainatlas-data/CSHL_registration_visualization/atlasV4/atlasV4_down32_scoreVolume_clf_38_warp_8_MD635_down32_scoreVolume_clf_38/down8/atlasV4_down32_scoreVolume_clf_38_warp_8_MD635_down32_scoreVolume_clf_38_0360_down8.jpg\n",
      "aws s3 cp /shared/CSHL_registration_visualization/atlasV4/atlasV4_down32_scoreVolume_clf_38_warp_8_MD635_down32_scoreVolume_clf_38/down8/atlasV4_down32_scoreVolume_clf_38_warp_8_MD635_down32_scoreVolume_clf_38_0331_down8.jpg s3://mousebrainatlas-data/CSHL_registration_visualization/atlasV4/atlasV4_down32_scoreVolume_clf_38_warp_8_MD635_down32_scoreVolume_clf_38/down8/atlasV4_down32_scoreVolume_clf_38_warp_8_MD635_down32_scoreVolume_clf_38_0331_down8.jpg\n",
      "aws s3 cp /shared/CSHL_registration_visualization/atlasV4/atlasV4_down32_scoreVolume_clf_38_warp_8_MD635_down32_scoreVolume_clf_38/down8/atlasV4_down32_scoreVolume_clf_38_warp_8_MD635_down32_scoreVolume_clf_38_0346_down8.jpg s3://mousebrainatlas-data/CSHL_registration_visualization/atlasV4/atlasV4_down32_scoreVolume_clf_38_warp_8_MD635_down32_scoreVolume_clf_38/down8/atlasV4_down32_scoreVolume_clf_38_warp_8_MD635_down32_scoreVolume_clf_38_0346_down8.jpg\n",
      "aws s3 cp /shared/CSHL_registration_visualization/atlasV4/atlasV4_down32_scoreVolume_clf_38_warp_8_MD635_down32_scoreVolume_clf_38/down8/atlasV4_down32_scoreVolume_clf_38_warp_8_MD635_down32_scoreVolume_clf_38_0326_down8.jpg s3://mousebrainatlas-data/CSHL_registration_visualization/atlasV4/atlasV4_down32_scoreVolume_clf_38_warp_8_MD635_down32_scoreVolume_clf_38/down8/atlasV4_down32_scoreVolume_clf_38_warp_8_MD635_down32_scoreVolume_clf_38_0326_down8.jpg\n",
      "aws s3 cp /shared/CSHL_registration_visualization/atlasV4/atlasV4_down32_scoreVolume_clf_38_warp_8_MD635_down32_scoreVolume_clf_38/down8/atlasV4_down32_scoreVolume_clf_38_warp_8_MD635_down32_scoreVolume_clf_38_0336_down8.jpg s3://mousebrainatlas-data/CSHL_registration_visualization/atlasV4/atlasV4_down32_scoreVolume_clf_38_warp_8_MD635_down32_scoreVolume_clf_38/down8/atlasV4_down32_scoreVolume_clf_38_warp_8_MD635_down32_scoreVolume_clf_38_0336_down8.jpg\n",
      "aws s3 cp /shared/CSHL_registration_visualization/atlasV4/atlasV4_down32_scoreVolume_clf_38_warp_8_MD635_down32_scoreVolume_clf_38/down8/atlasV4_down32_scoreVolume_clf_38_warp_8_MD635_down32_scoreVolume_clf_38_0351_down8.jpg s3://mousebrainatlas-data/CSHL_registration_visualization/atlasV4/atlasV4_down32_scoreVolume_clf_38_warp_8_MD635_down32_scoreVolume_clf_38/down8/atlasV4_down32_scoreVolume_clf_38_warp_8_MD635_down32_scoreVolume_clf_38_0351_down8.jpg\n",
      "aws s3 cp /shared/CSHL_registration_visualization/atlasV4/atlasV4_down32_scoreVolume_clf_38_warp_8_MD635_down32_scoreVolume_clf_38/down8/atlasV4_down32_scoreVolume_clf_38_warp_8_MD635_down32_scoreVolume_clf_38_0341_down8.jpg s3://mousebrainatlas-data/CSHL_registration_visualization/atlasV4/atlasV4_down32_scoreVolume_clf_38_warp_8_MD635_down32_scoreVolume_clf_38/down8/atlasV4_down32_scoreVolume_clf_38_warp_8_MD635_down32_scoreVolume_clf_38_0341_down8.jpg\n",
      "aws s3 cp /shared/CSHL_registration_visualization/atlasV4/atlasV4_down32_scoreVolume_clf_38_warp_8_MD635_down32_scoreVolume_clf_38/down8/atlasV4_down32_scoreVolume_clf_38_warp_8_MD635_down32_scoreVolume_clf_38_0356_down8.jpg s3://mousebrainatlas-data/CSHL_registration_visualization/atlasV4/atlasV4_down32_scoreVolume_clf_38_warp_8_MD635_down32_scoreVolume_clf_38/down8/atlasV4_down32_scoreVolume_clf_38_warp_8_MD635_down32_scoreVolume_clf_38_0356_down8.jpg\n",
      "aws s3 cp /shared/CSHL_registration_visualization/atlasV4/atlasV4_down32_scoreVolume_clf_38_warp_8_MD635_down32_scoreVolume_clf_38/down8/atlasV4_down32_scoreVolume_clf_38_warp_8_MD635_down32_scoreVolume_clf_38_0361_down8.jpg s3://mousebrainatlas-data/CSHL_registration_visualization/atlasV4/atlasV4_down32_scoreVolume_clf_38_warp_8_MD635_down32_scoreVolume_clf_38/down8/atlasV4_down32_scoreVolume_clf_38_warp_8_MD635_down32_scoreVolume_clf_38_0361_down8.jpg\n"
     ]
    },
    {
     "name": "stderr",
     "output_type": "stream",
     "text": [
      "Visualize registration: 158.28 seconds\n"
     ]
    }
   ],
   "source": [
    "t = time.time()\n",
    "\n",
    "pool = Pool(NUM_CORES)\n",
    "pool.map(visualize_registration_one_section, metadata_cache['valid_sections'][stack_fixed])\n",
    "pool.terminate()\n",
    "pool.join()\n",
    "\n",
    "sys.stderr.write('Visualize registration: %.2f seconds\\n' % (time.time() - t)) # 110s"
   ]
  },
  {
   "cell_type": "markdown",
   "metadata": {},
   "source": [
    "# Sequential"
   ]
  },
  {
   "cell_type": "code",
   "execution_count": 22,
   "metadata": {
    "collapsed": true,
    "scrolled": true
   },
   "outputs": [],
   "source": [
    "# for stack in all_stacks:\n",
    "\n",
    "#     img = DataManager.load_image(stack=stack, section=201, resol='lossless', version='cropped')\n",
    "#     tb_img = DataManager.load_image(stack=stack, section=201, resol='thumbnail', version='cropped_tif')\n",
    "#     assert tb_img.shape[0] * 32 == img.shape[0], stack\n",
    "#     assert tb_img.shape[1] * 32 == img.shape[1], stack"
   ]
  },
  {
   "cell_type": "code",
   "execution_count": 31,
   "metadata": {},
   "outputs": [
    {
     "name": "stderr",
     "output_type": "stream",
     "text": [
      "[autoreload of utilities2015 failed: Traceback (most recent call last):\n",
      "  File \"/usr/local/lib/python2.7/dist-packages/IPython/extensions/autoreload.py\", line 247, in check\n",
      "    superreload(m, reload, self.old_objects)\n",
      "AttributeError: __abstractmethods__\n",
      "]\n"
     ]
    }
   ],
   "source": [
    "show_text = True\n",
    "contour_width = 1"
   ]
  },
  {
   "cell_type": "code",
   "execution_count": 32,
   "metadata": {
    "scrolled": true
   },
   "outputs": [
    {
     "name": "stderr",
     "output_type": "stream",
     "text": [
      "Time: 3.69 seconds\n"
     ]
    }
   ],
   "source": [
    "# for sec in range(first_sec, last_sec+1):\n",
    "# for sec in metadata_cache['valid_sections'][stack_fixed]:\n",
    "for sec in [155]:\n",
    "            \n",
    "    t = time.time()\n",
    "    \n",
    "    if downsample_factor == 32:\n",
    "        img = DataManager.load_image(stack=stack_fixed, section=sec, resol='thumbnail', version='cropped_tif')\n",
    "    else:\n",
    "        img = DataManager.load_image(stack=stack_fixed, section=sec, resol='lossless', version='cropped_gray_jpeg')\n",
    "#         img = resize(img, np.array(metadata_cache['image_shape'][stack_fixed][::-1])/downsample_factor)\n",
    "        img = img[::downsample_factor, ::downsample_factor]\n",
    "    \n",
    "    if img.ndim == 2:\n",
    "        img = gray2rgb(img)\n",
    "        \n",
    "    viz = img.copy()\n",
    "    \n",
    "    z = int(np.mean(DataManager.convert_section_to_z(stack=stack_fixed, sec=sec, downsample=volume_downsample)))\n",
    "        \n",
    "    # Find moving volume annotation contours.\n",
    "    for name_s, vol in warped_volumes.iteritems():\n",
    "        \n",
    "        label_pos = None\n",
    "        \n",
    "        for level in levels:\n",
    "            cnts = find_contours(vol[..., z], level=level) # rows, cols\n",
    "            for cnt in cnts:\n",
    "                # r,c to x,y\n",
    "                cnt_on_cropped_volRes = cnt[:,::-1] + (xmin_vol_f, ymin_vol_f)\n",
    "                cnt_on_cropped_imgRes = cnt_on_cropped_volRes * volume_downsample / downsample_factor\n",
    "                cv2.polylines(viz, [cnt_on_cropped_imgRes.astype(np.int)], \n",
    "                              True, level_colors[level], contour_width)\n",
    "                \n",
    "                if show_text:\n",
    "                    if label_pos is None:\n",
    "                        label_pos = np.mean(cnt_on_cropped_imgRes, axis=0)\n",
    "    \n",
    "        # Show text \n",
    "        if label_pos is not None:\n",
    "            cv2.putText(viz, name_s, tuple(label_pos.astype(np.int)), \n",
    "                    cv2.FONT_HERSHEY_DUPLEX, 1, ((0,0,0)), 3)\n",
    "            \n",
    "    viz_fp = DataManager.get_alignment_viz_filepath(stack_m=stack_moving,\n",
    "                                                    stack_f=stack_fixed,\n",
    "                                                    classifier_setting_m=classifier_setting,\n",
    "                                                    classifier_setting_f=classifier_setting,\n",
    "                                                    warp_setting=warp_setting,\n",
    "                                                downscale=volume_downsample,\n",
    "                                                    out_downscale=downsample_factor,\n",
    "                                          section=sec)\n",
    "    \n",
    "#     create_if_not_exists(os.path.dirname(viz_fp))\n",
    "#     imsave(viz_fp, viz)\n",
    "    \n",
    "    sys.stderr.write('Time: %.2f seconds\\n' % (time.time() - t)) # 5s"
   ]
  },
  {
   "cell_type": "code",
   "execution_count": 33,
   "metadata": {},
   "outputs": [
    {
     "data": {
      "text/html": [
       "<a href='tmp.jpg' target='_blank'>tmp.jpg</a><br>"
      ],
      "text/plain": [
       "/shared/MouseBrainAtlas/registration/tmp.jpg"
      ]
     },
     "execution_count": 33,
     "metadata": {},
     "output_type": "execute_result"
    }
   ],
   "source": [
    "display_image(viz)"
   ]
  },
  {
   "cell_type": "code",
   "execution_count": null,
   "metadata": {
    "collapsed": true
   },
   "outputs": [],
   "source": []
  }
 ],
 "metadata": {
  "kernelspec": {
   "display_name": "Python 2",
   "language": "python",
   "name": "python2"
  },
  "language_info": {
   "codemirror_mode": {
    "name": "ipython",
    "version": 2
   },
   "file_extension": ".py",
   "mimetype": "text/x-python",
   "name": "python",
   "nbconvert_exporter": "python",
   "pygments_lexer": "ipython2",
   "version": "2.7.12"
  }
 },
 "nbformat": 4,
 "nbformat_minor": 1
}
