{
 "cells": [
  {
   "cell_type": "code",
   "execution_count": 1,
   "metadata": {},
   "outputs": [
    {
     "name": "stderr",
     "output_type": "stream",
     "text": [
      "/usr/local/lib/python2.7/dist-packages/matplotlib/__init__.py:1401: UserWarning:  This call to matplotlib.use() has no effect\n",
      "because the backend has already been chosen;\n",
      "matplotlib.use() must be called *before* pylab, matplotlib.pyplot,\n",
      "or matplotlib.backends is imported for the first time.\n",
      "\n",
      "  warnings.warn(_use_error_msg)\n"
     ]
    },
    {
     "name": "stdout",
     "output_type": "stream",
     "text": [
      "Setting environment for AWS compute node\n"
     ]
    },
    {
     "name": "stderr",
     "output_type": "stream",
     "text": [
      "No vtk\n",
      "File does not exist: /shared/CSHL_data_processed/MD635/MD635_anchor.txt\n",
      "File does not exist: /shared/CSHL_data_processed/MD635/MD635_sorted_filenames.txt\n",
      "File does not exist: /shared/CSHL_data_processed/MD635/MD635_cropbox.txt\n",
      "File does not exist: /shared/CSHL_data_processed/MD635/MD635_cropbox.txt\n",
      "File does not exist: /shared/CSHL_data_processed/MD653/MD653_anchor.txt\n",
      "File does not exist: /shared/CSHL_data_processed/MD653/MD653_sorted_filenames.txt\n",
      "File does not exist: /shared/CSHL_data_processed/MD653/MD653_cropbox.txt\n",
      "File does not exist: /shared/CSHL_data_processed/MD653/MD653_cropbox.txt\n",
      "File does not exist: /shared/CSHL_data_processed/MD652/MD652_anchor.txt\n",
      "File does not exist: /shared/CSHL_data_processed/MD652/MD652_sorted_filenames.txt\n",
      "File does not exist: /shared/CSHL_data_processed/MD652/MD652_cropbox.txt\n",
      "File does not exist: /shared/CSHL_data_processed/MD652/MD652_cropbox.txt\n",
      "File does not exist: /shared/CSHL_data_processed/MD642/MD642_anchor.txt\n",
      "File does not exist: /shared/CSHL_data_processed/MD642/MD642_sorted_filenames.txt\n",
      "File does not exist: /shared/CSHL_data_processed/MD642/MD642_cropbox.txt\n",
      "File does not exist: /shared/CSHL_data_processed/MD642/MD642_cropbox.txt\n",
      "File does not exist: /shared/CSHL_data_processed/MD657/MD657_anchor.txt\n",
      "File does not exist: /shared/CSHL_data_processed/MD657/MD657_sorted_filenames.txt\n",
      "File does not exist: /shared/CSHL_data_processed/MD657/MD657_cropbox.txt\n",
      "File does not exist: /shared/CSHL_data_processed/MD657/MD657_cropbox.txt\n"
     ]
    }
   ],
   "source": [
    "%load_ext autoreload\n",
    "%autoreload 2\n",
    "\n",
    "import sys\n",
    "import os\n",
    "import time\n",
    "\n",
    "import matplotlib.pyplot as plt\n",
    "%matplotlib inline\n",
    "import numpy as np\n",
    "\n",
    "sys.path.append(os.environ['REPO_DIR'] + '/utilities')\n",
    "from utilities2015 import *\n",
    "from registration_utilities import *\n",
    "from annotation_utilities import *\n",
    "from metadata import *\n",
    "from data_manager import *"
   ]
  },
  {
   "cell_type": "code",
   "execution_count": 37,
   "metadata": {
    "collapsed": true
   },
   "outputs": [],
   "source": [
    "stack_fixed = 'MD591'\n",
    "stack_moving = 'atlasV3'\n",
    "warp_setting = 10\n",
    "classifier_setting = 30\n",
    "trial_idx = 0"
   ]
  },
  {
   "cell_type": "code",
   "execution_count": 38,
   "metadata": {
    "collapsed": true
   },
   "outputs": [],
   "source": [
    "# Read transformed volumes - one structure\n",
    "\n",
    "structure = '7n_L'\n",
    "\n",
    "warped_volumes = {}\n",
    "warped_volumes[structure] = DataManager.load_transformed_volume(stack_m=stack_moving, \n",
    "                                                                          stack_f=stack_fixed, \n",
    "                                    classifier_setting_m=classifier_setting,\n",
    "                                    classifier_setting_f=classifier_setting,\n",
    "                                    warp_setting=warp_setting,\n",
    "                                    trial_idx=trial_idx, structure=structure)"
   ]
  },
  {
   "cell_type": "code",
   "execution_count": 39,
   "metadata": {},
   "outputs": [
    {
     "name": "stderr",
     "output_type": "stream",
     "text": [
      "File does not exist: /shared/CSHL_volumes/atlasV3/atlasV3_down32_scoreVolume_clf_30_warp_10_MD591_down32_scoreVolume_clf_30_trial_0/score_volumes/atlasV3_down32_scoreVolume_clf_30_warp_10_MD591_down32_scoreVolume_clf_30_trial_0_sp5.bp\n",
      "[Errno 2] No such file or directory: '/shared/CSHL_volumes/atlasV3/atlasV3_down32_scoreVolume_clf_30_warp_10_MD591_down32_scoreVolume_clf_30_trial_0/score_volumes/atlasV3_down32_scoreVolume_clf_30_warp_10_MD591_down32_scoreVolume_clf_30_trial_0_sp5.bp'\n",
      "Score volume for sp5 does not exist.\n",
      "File does not exist: /shared/CSHL_volumes/atlasV3/atlasV3_down32_scoreVolume_clf_30_warp_10_MD591_down32_scoreVolume_clf_30_trial_0/score_volumes/atlasV3_down32_scoreVolume_clf_30_warp_10_MD591_down32_scoreVolume_clf_30_trial_0_outerContour.bp\n",
      "[Errno 2] No such file or directory: '/shared/CSHL_volumes/atlasV3/atlasV3_down32_scoreVolume_clf_30_warp_10_MD591_down32_scoreVolume_clf_30_trial_0/score_volumes/atlasV3_down32_scoreVolume_clf_30_warp_10_MD591_down32_scoreVolume_clf_30_trial_0_outerContour.bp'\n",
      "Score volume for outerContour does not exist.\n"
     ]
    }
   ],
   "source": [
    "# Read transformed volumes - all structures\n",
    "\n",
    "warped_volumes = DataManager.load_transformed_volume_all_known_structures(stack_m=stack_moving, \n",
    "                                                                          stack_f=stack_fixed, \n",
    "                                    classifier_setting_m=classifier_setting,\n",
    "                                    classifier_setting_f=classifier_setting,\n",
    "                                    warp_setting=warp_setting,\n",
    "                                    trial_idx=trial_idx, sided=True)"
   ]
  },
  {
   "cell_type": "code",
   "execution_count": 40,
   "metadata": {
    "collapsed": true
   },
   "outputs": [],
   "source": [
    "# Set colors for different contour level\n",
    "levels = [0.1, 0.25, 0.5, 0.75, .99]\n",
    "level_colors = {0.1: (0,255,255), \n",
    "                0.25: (0,255,0), \n",
    "                0.5: (255,0,0), \n",
    "                0.75: (255,255,0), \n",
    "                0.99: (255,0,255)}\n",
    "\n",
    "# levels = [.5]\n",
    "# level_colors = {level: (255,0,0) for level in levels}"
   ]
  },
  {
   "cell_type": "code",
   "execution_count": 41,
   "metadata": {},
   "outputs": [
    {
     "name": "stdout",
     "output_type": "stream",
     "text": [
      "0 499 0 409 131 505\n"
     ]
    }
   ],
   "source": [
    "# Generate overlay visualization\n",
    "\n",
    "# estimate mapping between z and section\n",
    "downsample_factor = 32\n",
    "xy_pixel_distance_downsampled = XY_PIXEL_DISTANCE_LOSSLESS * downsample_factor\n",
    "voxel_z_size = SECTION_THICKNESS / xy_pixel_distance_downsampled\n",
    "\n",
    "# For getting correct contour location\n",
    "xmin_vol_f, xmax_vol_f, ymin_vol_f, ymax_vol_f, zmin_vol_f, zmax_vol_f = \\\n",
    "DataManager.load_volume_bbox(stack=stack_fixed, type='score', structure='7N', downscale=32, classifier_setting=classifier_setting)\n",
    "print xmin_vol_f, xmax_vol_f, ymin_vol_f, ymax_vol_f, zmin_vol_f, zmax_vol_f\n",
    "\n",
    "# Generate atlas overlay image for every section\n",
    "first_sec, last_sec = metadata_cache['section_limits'][stack_fixed]\n",
    "# bar = show_progress_bar(first_sec, last_sec)"
   ]
  },
  {
   "cell_type": "code",
   "execution_count": 42,
   "metadata": {
    "collapsed": true
   },
   "outputs": [],
   "source": [
    "def func(sec):\n",
    "    if is_invalid(stack=stack_fixed, sec=sec):\n",
    "        return\n",
    "    \n",
    "#     bar.value = sec\n",
    "\n",
    "#     t = time.time()\n",
    "    \n",
    "    img_fn = DataManager.get_image_filepath(stack=stack_fixed, section=sec, resol='thumbnail', version='cropped_tif')\n",
    "    \n",
    "    download_from_s3_to_ec2(img_fn)\n",
    "    img = imread(img_fn)\n",
    "    \n",
    "    viz = img.copy()\n",
    "    \n",
    "    z = voxel_z_size * (sec - 1) - zmin_vol_f\n",
    "    z = int(np.round(z))\n",
    "    \n",
    "    # Find moving volume annotation contours\n",
    "    for name_s, vol in warped_volumes.iteritems():\n",
    "        for level in levels:\n",
    "            cnts = find_contours(vol[..., z], level=level) # rows, cols\n",
    "            for cnt in cnts:\n",
    "                # r,c to x,y\n",
    "                cnt_on_cropped = cnt[:,::-1] + (xmin_vol_f, ymin_vol_f)\n",
    "                cv2.polylines(viz, [cnt_on_cropped.astype(np.int)], True, level_colors[level], 1)\n",
    "\n",
    "    \n",
    "    viz_fp = DataManager.get_alignment_viz_filepath(stack_m=stack_moving,\n",
    "                                            stack_f=stack_fixed,\n",
    "                                            classifier_setting_m=classifier_setting,\n",
    "                                            classifier_setting_f=classifier_setting,\n",
    "                                            warp_setting=warp_setting,\n",
    "                                          section=sec,\n",
    "                                                   trial_idx=trial_idx)\n",
    "    print viz_fp\n",
    "    \n",
    "    create_parent_dir_if_not_exists(viz_fp)\n",
    "    imsave(viz_fp, viz)\n",
    "    \n",
    "    upload_from_ec2_to_s3(viz_fp)\n",
    "    \n",
    "#     sys.stderr.write('Time: %.2f seconds\\n' % (time.time() - t)) # 5s"
   ]
  },
  {
   "cell_type": "code",
   "execution_count": 43,
   "metadata": {},
   "outputs": [
    {
     "name": "stdout",
     "output_type": "stream",
     "text": [
      "/shared/CSHL_registration_visualization/atlasV3/atlasV3_down32_scoreVolume_clf_30_warp_10_MD591_down32_scoreVolume_clf_30_trial_0/atlasV3_down32_scoreVolume_clf_30_warp_10_MD591_down32_scoreVolume_clf_30_trial_0_0098.jpg\n",
      "/shared/CSHL_registration_visualization/atlasV3/atlasV3_down32_scoreVolume_clf_30_warp_10_MD591_down32_scoreVolume_clf_30_trial_0/atlasV3_down32_scoreVolume_clf_30_warp_10_MD591_down32_scoreVolume_clf_30_trial_0_0138.jpg\n",
      "aws s3 cp /shared/CSHL_registration_visualization/atlasV3/atlasV3_down32_scoreVolume_clf_30_warp_10_MD591_down32_scoreVolume_clf_30_trial_0/atlasV3_down32_scoreVolume_clf_30_warp_10_MD591_down32_scoreVolume_clf_30_trial_0_0098.jpg s3://mousebrainatlas-data/CSHL_registration_visualization/atlasV3/atlasV3_down32_scoreVolume_clf_30_warp_10_MD591_down32_scoreVolume_clf_30_trial_0/atlasV3_down32_scoreVolume_clf_30_warp_10_MD591_down32_scoreVolume_clf_30_trial_0_0098.jpg\n",
      "aws s3 cp /shared/CSHL_registration_visualization/atlasV3/atlasV3_down32_scoreVolume_clf_30_warp_10_MD591_down32_scoreVolume_clf_30_trial_0/atlasV3_down32_scoreVolume_clf_30_warp_10_MD591_down32_scoreVolume_clf_30_trial_0_0138.jpg s3://mousebrainatlas-data/CSHL_registration_visualization/atlasV3/atlasV3_down32_scoreVolume_clf_30_warp_10_MD591_down32_scoreVolume_clf_30_trial_0/atlasV3_down32_scoreVolume_clf_30_warp_10_MD591_down32_scoreVolume_clf_30_trial_0_0138.jpg\n",
      "/shared/CSHL_registration_visualization/atlasV3/atlasV3_down32_scoreVolume_clf_30_warp_10_MD591_down32_scoreVolume_clf_30_trial_0/atlasV3_down32_scoreVolume_clf_30_warp_10_MD591_down32_scoreVolume_clf_30_trial_0_0113.jpg\n",
      "aws s3 cp /shared/CSHL_registration_visualization/atlasV3/atlasV3_down32_scoreVolume_clf_30_warp_10_MD591_down32_scoreVolume_clf_30_trial_0/atlasV3_down32_scoreVolume_clf_30_warp_10_MD591_down32_scoreVolume_clf_30_trial_0_0113.jpg s3://mousebrainatlas-data/CSHL_registration_visualization/atlasV3/atlasV3_down32_scoreVolume_clf_30_warp_10_MD591_down32_scoreVolume_clf_30_trial_0/atlasV3_down32_scoreVolume_clf_30_warp_10_MD591_down32_scoreVolume_clf_30_trial_0_0113.jpg\n",
      "/shared/CSHL_registration_visualization/atlasV3/atlasV3_down32_scoreVolume_clf_30_warp_10_MD591_down32_scoreVolume_clf_30_trial_0/atlasV3_down32_scoreVolume_clf_30_warp_10_MD591_down32_scoreVolume_clf_30_trial_0_0118.jpg\n",
      "/shared/CSHL_registration_visualization/atlasV3/atlasV3_down32_scoreVolume_clf_30_warp_10_MD591_down32_scoreVolume_clf_30_trial_0/atlasV3_down32_scoreVolume_clf_30_warp_10_MD591_down32_scoreVolume_clf_30_trial_0_0123.jpg\n",
      "aws s3 cp /shared/CSHL_registration_visualization/atlasV3/atlasV3_down32_scoreVolume_clf_30_warp_10_MD591_down32_scoreVolume_clf_30_trial_0/atlasV3_down32_scoreVolume_clf_30_warp_10_MD591_down32_scoreVolume_clf_30_trial_0_0118.jpg s3://mousebrainatlas-data/CSHL_registration_visualization/atlasV3/atlasV3_down32_scoreVolume_clf_30_warp_10_MD591_down32_scoreVolume_clf_30_trial_0/atlasV3_down32_scoreVolume_clf_30_warp_10_MD591_down32_scoreVolume_clf_30_trial_0_0118.jpg\n",
      "/shared/CSHL_registration_visualization/atlasV3/atlasV3_down32_scoreVolume_clf_30_warp_10_MD591_down32_scoreVolume_clf_30_trial_0/atlasV3_down32_scoreVolume_clf_30_warp_10_MD591_down32_scoreVolume_clf_30_trial_0_0128.jpg\n",
      "/shared/CSHL_registration_visualization/atlasV3/atlasV3_down32_scoreVolume_clf_30_warp_10_MD591_down32_scoreVolume_clf_30_trial_0/atlasV3_down32_scoreVolume_clf_30_warp_10_MD591_down32_scoreVolume_clf_30_trial_0_0103.jpg\n",
      "/shared/CSHL_registration_visualization/atlasV3/atlasV3_down32_scoreVolume_clf_30_warp_10_MD591_down32_scoreVolume_clf_30_trial_0/atlasV3_down32_scoreVolume_clf_30_warp_10_MD591_down32_scoreVolume_clf_30_trial_0_0133.jpg\n",
      "/shared/CSHL_registration_visualization/atlasV3/atlasV3_down32_scoreVolume_clf_30_warp_10_MD591_down32_scoreVolume_clf_30_trial_0/atlasV3_down32_scoreVolume_clf_30_warp_10_MD591_down32_scoreVolume_clf_30_trial_0_0143.jpg\n",
      "aws s3 cp /shared/CSHL_registration_visualization/atlasV3/atlasV3_down32_scoreVolume_clf_30_warp_10_MD591_down32_scoreVolume_clf_30_trial_0/atlasV3_down32_scoreVolume_clf_30_warp_10_MD591_down32_scoreVolume_clf_30_trial_0_0123.jpg s3://mousebrainatlas-data/CSHL_registration_visualization/atlasV3/atlasV3_down32_scoreVolume_clf_30_warp_10_MD591_down32_scoreVolume_clf_30_trial_0/atlasV3_down32_scoreVolume_clf_30_warp_10_MD591_down32_scoreVolume_clf_30_trial_0_0123.jpg\n",
      "aws s3 cp /shared/CSHL_registration_visualization/atlasV3/atlasV3_down32_scoreVolume_clf_30_warp_10_MD591_down32_scoreVolume_clf_30_trial_0/atlasV3_down32_scoreVolume_clf_30_warp_10_MD591_down32_scoreVolume_clf_30_trial_0_0128.jpg s3://mousebrainatlas-data/CSHL_registration_visualization/atlasV3/atlasV3_down32_scoreVolume_clf_30_warp_10_MD591_down32_scoreVolume_clf_30_trial_0/atlasV3_down32_scoreVolume_clf_30_warp_10_MD591_down32_scoreVolume_clf_30_trial_0_0128.jpg\n",
      "aws s3 cp /shared/CSHL_registration_visualization/atlasV3/atlasV3_down32_scoreVolume_clf_30_warp_10_MD591_down32_scoreVolume_clf_30_trial_0/atlasV3_down32_scoreVolume_clf_30_warp_10_MD591_down32_scoreVolume_clf_30_trial_0_0103.jpg s3://mousebrainatlas-data/CSHL_registration_visualization/atlasV3/atlasV3_down32_scoreVolume_clf_30_warp_10_MD591_down32_scoreVolume_clf_30_trial_0/atlasV3_down32_scoreVolume_clf_30_warp_10_MD591_down32_scoreVolume_clf_30_trial_0_0103.jpg\n",
      "/shared/CSHL_registration_visualization/atlasV3/atlasV3_down32_scoreVolume_clf_30_warp_10_MD591_down32_scoreVolume_clf_30_trial_0/atlasV3_down32_scoreVolume_clf_30_warp_10_MD591_down32_scoreVolume_clf_30_trial_0_0148.jpg\n",
      "/shared/CSHL_registration_visualization/atlasV3/atlasV3_down32_scoreVolume_clf_30_warp_10_MD591_down32_scoreVolume_clf_30_trial_0/atlasV3_down32_scoreVolume_clf_30_warp_10_MD591_down32_scoreVolume_clf_30_trial_0_0153.jpg\n",
      "aws s3 cp /shared/CSHL_registration_visualization/atlasV3/atlasV3_down32_scoreVolume_clf_30_warp_10_MD591_down32_scoreVolume_clf_30_trial_0/atlasV3_down32_scoreVolume_clf_30_warp_10_MD591_down32_scoreVolume_clf_30_trial_0_0133.jpg s3://mousebrainatlas-data/CSHL_registration_visualization/atlasV3/atlasV3_down32_scoreVolume_clf_30_warp_10_MD591_down32_scoreVolume_clf_30_trial_0/atlasV3_down32_scoreVolume_clf_30_warp_10_MD591_down32_scoreVolume_clf_30_trial_0_0133.jpg\n",
      "/shared/CSHL_registration_visualization/atlasV3/atlasV3_down32_scoreVolume_clf_30_warp_10_MD591_down32_scoreVolume_clf_30_trial_0/atlasV3_down32_scoreVolume_clf_30_warp_10_MD591_down32_scoreVolume_clf_30_trial_0_0158.jpg\n",
      "aws s3 cp /shared/CSHL_registration_visualization/atlasV3/atlasV3_down32_scoreVolume_clf_30_warp_10_MD591_down32_scoreVolume_clf_30_trial_0/atlasV3_down32_scoreVolume_clf_30_warp_10_MD591_down32_scoreVolume_clf_30_trial_0_0143.jpg s3://mousebrainatlas-data/CSHL_registration_visualization/atlasV3/atlasV3_down32_scoreVolume_clf_30_warp_10_MD591_down32_scoreVolume_clf_30_trial_0/atlasV3_down32_scoreVolume_clf_30_warp_10_MD591_down32_scoreVolume_clf_30_trial_0_0143.jpg\n",
      "aws s3 cp /shared/CSHL_registration_visualization/atlasV3/atlasV3_down32_scoreVolume_clf_30_warp_10_MD591_down32_scoreVolume_clf_30_trial_0/atlasV3_down32_scoreVolume_clf_30_warp_10_MD591_down32_scoreVolume_clf_30_trial_0_0158.jpg s3://mousebrainatlas-data/CSHL_registration_visualization/atlasV3/atlasV3_down32_scoreVolume_clf_30_warp_10_MD591_down32_scoreVolume_clf_30_trial_0/atlasV3_down32_scoreVolume_clf_30_warp_10_MD591_down32_scoreVolume_clf_30_trial_0_0158.jpg\n",
      "aws s3 cp /shared/CSHL_registration_visualization/atlasV3/atlasV3_down32_scoreVolume_clf_30_warp_10_MD591_down32_scoreVolume_clf_30_trial_0/atlasV3_down32_scoreVolume_clf_30_warp_10_MD591_down32_scoreVolume_clf_30_trial_0_0148.jpg s3://mousebrainatlas-data/CSHL_registration_visualization/atlasV3/atlasV3_down32_scoreVolume_clf_30_warp_10_MD591_down32_scoreVolume_clf_30_trial_0/atlasV3_down32_scoreVolume_clf_30_warp_10_MD591_down32_scoreVolume_clf_30_trial_0_0148.jpg\n",
      "aws s3 cp /shared/CSHL_registration_visualization/atlasV3/atlasV3_down32_scoreVolume_clf_30_warp_10_MD591_down32_scoreVolume_clf_30_trial_0/atlasV3_down32_scoreVolume_clf_30_warp_10_MD591_down32_scoreVolume_clf_30_trial_0_0153.jpg s3://mousebrainatlas-data/CSHL_registration_visualization/atlasV3/atlasV3_down32_scoreVolume_clf_30_warp_10_MD591_down32_scoreVolume_clf_30_trial_0/atlasV3_down32_scoreVolume_clf_30_warp_10_MD591_down32_scoreVolume_clf_30_trial_0_0153.jpg\n"
     ]
    },
    {
     "name": "stdout",
     "output_type": "stream",
     "text": [
      "/shared/CSHL_registration_visualization/atlasV3/atlasV3_down32_scoreVolume_clf_30_warp_10_MD591_down32_scoreVolume_clf_30_trial_0/atlasV3_down32_scoreVolume_clf_30_warp_10_MD591_down32_scoreVolume_clf_30_trial_0_0108.jpg\n",
      "aws s3 cp /shared/CSHL_registration_visualization/atlasV3/atlasV3_down32_scoreVolume_clf_30_warp_10_MD591_down32_scoreVolume_clf_30_trial_0/atlasV3_down32_scoreVolume_clf_30_warp_10_MD591_down32_scoreVolume_clf_30_trial_0_0108.jpg s3://mousebrainatlas-data/CSHL_registration_visualization/atlasV3/atlasV3_down32_scoreVolume_clf_30_warp_10_MD591_down32_scoreVolume_clf_30_trial_0/atlasV3_down32_scoreVolume_clf_30_warp_10_MD591_down32_scoreVolume_clf_30_trial_0_0108.jpg\n",
      "/shared/CSHL_registration_visualization/atlasV3/atlasV3_down32_scoreVolume_clf_30_warp_10_MD591_down32_scoreVolume_clf_30_trial_0/atlasV3_down32_scoreVolume_clf_30_warp_10_MD591_down32_scoreVolume_clf_30_trial_0_0163.jpg\n",
      "/shared/CSHL_registration_visualization/atlasV3/atlasV3_down32_scoreVolume_clf_30_warp_10_MD591_down32_scoreVolume_clf_30_trial_0/atlasV3_down32_scoreVolume_clf_30_warp_10_MD591_down32_scoreVolume_clf_30_trial_0_0168.jpg\n",
      "aws s3 cp /shared/CSHL_registration_visualization/atlasV3/atlasV3_down32_scoreVolume_clf_30_warp_10_MD591_down32_scoreVolume_clf_30_trial_0/atlasV3_down32_scoreVolume_clf_30_warp_10_MD591_down32_scoreVolume_clf_30_trial_0_0163.jpg s3://mousebrainatlas-data/CSHL_registration_visualization/atlasV3/atlasV3_down32_scoreVolume_clf_30_warp_10_MD591_down32_scoreVolume_clf_30_trial_0/atlasV3_down32_scoreVolume_clf_30_warp_10_MD591_down32_scoreVolume_clf_30_trial_0_0163.jpg\n",
      "aws s3 cp /shared/CSHL_registration_visualization/atlasV3/atlasV3_down32_scoreVolume_clf_30_warp_10_MD591_down32_scoreVolume_clf_30_trial_0/atlasV3_down32_scoreVolume_clf_30_warp_10_MD591_down32_scoreVolume_clf_30_trial_0_0168.jpg s3://mousebrainatlas-data/CSHL_registration_visualization/atlasV3/atlasV3_down32_scoreVolume_clf_30_warp_10_MD591_down32_scoreVolume_clf_30_trial_0/atlasV3_down32_scoreVolume_clf_30_warp_10_MD591_down32_scoreVolume_clf_30_trial_0_0168.jpg\n"
     ]
    },
    {
     "name": "stderr",
     "output_type": "stream",
     "text": [
      "Child returned 0\n",
      "0.73 seconds.\n",
      "Child returned 0\n",
      "0.80 seconds.\n",
      "Child returned 0\n",
      "0.76 seconds.\n",
      "Child returned 0\n",
      "0.69 seconds.\n",
      "Child returned 0\n",
      "0.70 seconds.\n",
      "Child returned 0\n",
      "Child returned 0\n",
      "0.75 seconds.\n",
      "0.81 seconds.\n",
      "Child returned 0\n",
      "0.79 seconds.\n",
      "Child returned 0\n",
      "0.77 seconds.\n",
      "Child returned 0\n",
      "0.75 seconds.\n",
      "Child returned 0\n",
      "0.75 seconds.\n",
      "Child returned 0\n",
      "0.80 seconds.\n",
      "Child returned 0\n",
      "0.68 seconds.\n",
      "Child returned 0\n",
      "0.68 seconds.\n",
      "Child returned 0\n",
      "0.82 seconds.\n"
     ]
    },
    {
     "name": "stdout",
     "output_type": "stream",
     "text": [
      "/shared/CSHL_registration_visualization/atlasV3/atlasV3_down32_scoreVolume_clf_30_warp_10_MD591_down32_scoreVolume_clf_30_trial_0/atlasV3_down32_scoreVolume_clf_30_warp_10_MD591_down32_scoreVolume_clf_30_trial_0_0114.jpg\n",
      "aws s3 cp /shared/CSHL_registration_visualization/atlasV3/atlasV3_down32_scoreVolume_clf_30_warp_10_MD591_down32_scoreVolume_clf_30_trial_0/atlasV3_down32_scoreVolume_clf_30_warp_10_MD591_down32_scoreVolume_clf_30_trial_0_0114.jpg s3://mousebrainatlas-data/CSHL_registration_visualization/atlasV3/atlasV3_down32_scoreVolume_clf_30_warp_10_MD591_down32_scoreVolume_clf_30_trial_0/atlasV3_down32_scoreVolume_clf_30_warp_10_MD591_down32_scoreVolume_clf_30_trial_0_0114.jpg\n",
      "/shared/CSHL_registration_visualization/atlasV3/atlasV3_down32_scoreVolume_clf_30_warp_10_MD591_down32_scoreVolume_clf_30_trial_0/atlasV3_down32_scoreVolume_clf_30_warp_10_MD591_down32_scoreVolume_clf_30_trial_0_0099.jpg\n",
      "aws s3 cp /shared/CSHL_registration_visualization/atlasV3/atlasV3_down32_scoreVolume_clf_30_warp_10_MD591_down32_scoreVolume_clf_30_trial_0/atlasV3_down32_scoreVolume_clf_30_warp_10_MD591_down32_scoreVolume_clf_30_trial_0_0099.jpg s3://mousebrainatlas-data/CSHL_registration_visualization/atlasV3/atlasV3_down32_scoreVolume_clf_30_warp_10_MD591_down32_scoreVolume_clf_30_trial_0/atlasV3_down32_scoreVolume_clf_30_warp_10_MD591_down32_scoreVolume_clf_30_trial_0_0099.jpg\n",
      "/shared/CSHL_registration_visualization/atlasV3/atlasV3_down32_scoreVolume_clf_30_warp_10_MD591_down32_scoreVolume_clf_30_trial_0/atlasV3_down32_scoreVolume_clf_30_warp_10_MD591_down32_scoreVolume_clf_30_trial_0_0139.jpg\n",
      "aws s3 cp /shared/CSHL_registration_visualization/atlasV3/atlasV3_down32_scoreVolume_clf_30_warp_10_MD591_down32_scoreVolume_clf_30_trial_0/atlasV3_down32_scoreVolume_clf_30_warp_10_MD591_down32_scoreVolume_clf_30_trial_0_0139.jpg s3://mousebrainatlas-data/CSHL_registration_visualization/atlasV3/atlasV3_down32_scoreVolume_clf_30_warp_10_MD591_down32_scoreVolume_clf_30_trial_0/atlasV3_down32_scoreVolume_clf_30_warp_10_MD591_down32_scoreVolume_clf_30_trial_0_0139.jpg\n",
      "/shared/CSHL_registration_visualization/atlasV3/atlasV3_down32_scoreVolume_clf_30_warp_10_MD591_down32_scoreVolume_clf_30_trial_0/atlasV3_down32_scoreVolume_clf_30_warp_10_MD591_down32_scoreVolume_clf_30_trial_0_0164.jpg\n",
      "aws s3 cp /shared/CSHL_registration_visualization/atlasV3/atlasV3_down32_scoreVolume_clf_30_warp_10_MD591_down32_scoreVolume_clf_30_trial_0/atlasV3_down32_scoreVolume_clf_30_warp_10_MD591_down32_scoreVolume_clf_30_trial_0_0164.jpg s3://mousebrainatlas-data/CSHL_registration_visualization/atlasV3/atlasV3_down32_scoreVolume_clf_30_warp_10_MD591_down32_scoreVolume_clf_30_trial_0/atlasV3_down32_scoreVolume_clf_30_warp_10_MD591_down32_scoreVolume_clf_30_trial_0_0164.jpg\n",
      "/shared/CSHL_registration_visualization/atlasV3/atlasV3_down32_scoreVolume_clf_30_warp_10_MD591_down32_scoreVolume_clf_30_trial_0/atlasV3_down32_scoreVolume_clf_30_warp_10_MD591_down32_scoreVolume_clf_30_trial_0_0119.jpg\n",
      "aws s3 cp /shared/CSHL_registration_visualization/atlasV3/atlasV3_down32_scoreVolume_clf_30_warp_10_MD591_down32_scoreVolume_clf_30_trial_0/atlasV3_down32_scoreVolume_clf_30_warp_10_MD591_down32_scoreVolume_clf_30_trial_0_0119.jpg s3://mousebrainatlas-data/CSHL_registration_visualization/atlasV3/atlasV3_down32_scoreVolume_clf_30_warp_10_MD591_down32_scoreVolume_clf_30_trial_0/atlasV3_down32_scoreVolume_clf_30_warp_10_MD591_down32_scoreVolume_clf_30_trial_0_0119.jpg\n",
      "/shared/CSHL_registration_visualization/atlasV3/atlasV3_down32_scoreVolume_clf_30_warp_10_MD591_down32_scoreVolume_clf_30_trial_0/atlasV3_down32_scoreVolume_clf_30_warp_10_MD591_down32_scoreVolume_clf_30_trial_0_0124.jpg\n",
      "aws s3 cp /shared/CSHL_registration_visualization/atlasV3/atlasV3_down32_scoreVolume_clf_30_warp_10_MD591_down32_scoreVolume_clf_30_trial_0/atlasV3_down32_scoreVolume_clf_30_warp_10_MD591_down32_scoreVolume_clf_30_trial_0_0124.jpg s3://mousebrainatlas-data/CSHL_registration_visualization/atlasV3/atlasV3_down32_scoreVolume_clf_30_warp_10_MD591_down32_scoreVolume_clf_30_trial_0/atlasV3_down32_scoreVolume_clf_30_warp_10_MD591_down32_scoreVolume_clf_30_trial_0_0124.jpg\n",
      "/shared/CSHL_registration_visualization/atlasV3/atlasV3_down32_scoreVolume_clf_30_warp_10_MD591_down32_scoreVolume_clf_30_trial_0/atlasV3_down32_scoreVolume_clf_30_warp_10_MD591_down32_scoreVolume_clf_30_trial_0_0129.jpg\n",
      "/shared/CSHL_registration_visualization/atlasV3/atlasV3_down32_scoreVolume_clf_30_warp_10_MD591_down32_scoreVolume_clf_30_trial_0/atlasV3_down32_scoreVolume_clf_30_warp_10_MD591_down32_scoreVolume_clf_30_trial_0_0104.jpg\n"
     ]
    },
    {
     "name": "stderr",
     "output_type": "stream",
     "text": [
      "Child returned 0\n",
      "0.68 seconds.\n"
     ]
    },
    {
     "name": "stdout",
     "output_type": "stream",
     "text": [
      "aws s3 cp /shared/CSHL_registration_visualization/atlasV3/atlasV3_down32_scoreVolume_clf_30_warp_10_MD591_down32_scoreVolume_clf_30_trial_0/atlasV3_down32_scoreVolume_clf_30_warp_10_MD591_down32_scoreVolume_clf_30_trial_0_0129.jpg s3://mousebrainatlas-data/CSHL_registration_visualization/atlasV3/atlasV3_down32_scoreVolume_clf_30_warp_10_MD591_down32_scoreVolume_clf_30_trial_0/atlasV3_down32_scoreVolume_clf_30_warp_10_MD591_down32_scoreVolume_clf_30_trial_0_0129.jpg\n",
      "aws s3 cp /shared/CSHL_registration_visualization/atlasV3/atlasV3_down32_scoreVolume_clf_30_warp_10_MD591_down32_scoreVolume_clf_30_trial_0/atlasV3_down32_scoreVolume_clf_30_warp_10_MD591_down32_scoreVolume_clf_30_trial_0_0104.jpg s3://mousebrainatlas-data/CSHL_registration_visualization/atlasV3/atlasV3_down32_scoreVolume_clf_30_warp_10_MD591_down32_scoreVolume_clf_30_trial_0/atlasV3_down32_scoreVolume_clf_30_warp_10_MD591_down32_scoreVolume_clf_30_trial_0_0104.jpg\n",
      "/shared/CSHL_registration_visualization/atlasV3/atlasV3_down32_scoreVolume_clf_30_warp_10_MD591_down32_scoreVolume_clf_30_trial_0/atlasV3_down32_scoreVolume_clf_30_warp_10_MD591_down32_scoreVolume_clf_30_trial_0_0134.jpg\n",
      "/shared/CSHL_registration_visualization/atlasV3/atlasV3_down32_scoreVolume_clf_30_warp_10_MD591_down32_scoreVolume_clf_30_trial_0/atlasV3_down32_scoreVolume_clf_30_warp_10_MD591_down32_scoreVolume_clf_30_trial_0_0144.jpg\n",
      "/shared/CSHL_registration_visualization/atlasV3/atlasV3_down32_scoreVolume_clf_30_warp_10_MD591_down32_scoreVolume_clf_30_trial_0/atlasV3_down32_scoreVolume_clf_30_warp_10_MD591_down32_scoreVolume_clf_30_trial_0_0154.jpg\n",
      "aws s3 cp /shared/CSHL_registration_visualization/atlasV3/atlasV3_down32_scoreVolume_clf_30_warp_10_MD591_down32_scoreVolume_clf_30_trial_0/atlasV3_down32_scoreVolume_clf_30_warp_10_MD591_down32_scoreVolume_clf_30_trial_0_0134.jpg s3://mousebrainatlas-data/CSHL_registration_visualization/atlasV3/atlasV3_down32_scoreVolume_clf_30_warp_10_MD591_down32_scoreVolume_clf_30_trial_0/atlasV3_down32_scoreVolume_clf_30_warp_10_MD591_down32_scoreVolume_clf_30_trial_0_0134.jpg\n",
      "aws s3 cp /shared/CSHL_registration_visualization/atlasV3/atlasV3_down32_scoreVolume_clf_30_warp_10_MD591_down32_scoreVolume_clf_30_trial_0/atlasV3_down32_scoreVolume_clf_30_warp_10_MD591_down32_scoreVolume_clf_30_trial_0_0144.jpg s3://mousebrainatlas-data/CSHL_registration_visualization/atlasV3/atlasV3_down32_scoreVolume_clf_30_warp_10_MD591_down32_scoreVolume_clf_30_trial_0/atlasV3_down32_scoreVolume_clf_30_warp_10_MD591_down32_scoreVolume_clf_30_trial_0_0144.jpg\n",
      "aws s3 cp /shared/CSHL_registration_visualization/atlasV3/atlasV3_down32_scoreVolume_clf_30_warp_10_MD591_down32_scoreVolume_clf_30_trial_0/atlasV3_down32_scoreVolume_clf_30_warp_10_MD591_down32_scoreVolume_clf_30_trial_0_0154.jpg s3://mousebrainatlas-data/CSHL_registration_visualization/atlasV3/atlasV3_down32_scoreVolume_clf_30_warp_10_MD591_down32_scoreVolume_clf_30_trial_0/atlasV3_down32_scoreVolume_clf_30_warp_10_MD591_down32_scoreVolume_clf_30_trial_0_0154.jpg\n",
      "/shared/CSHL_registration_visualization/atlasV3/atlasV3_down32_scoreVolume_clf_30_warp_10_MD591_down32_scoreVolume_clf_30_trial_0/atlasV3_down32_scoreVolume_clf_30_warp_10_MD591_down32_scoreVolume_clf_30_trial_0_0159.jpg\n",
      "aws s3 cp /shared/CSHL_registration_visualization/atlasV3/atlasV3_down32_scoreVolume_clf_30_warp_10_MD591_down32_scoreVolume_clf_30_trial_0/atlasV3_down32_scoreVolume_clf_30_warp_10_MD591_down32_scoreVolume_clf_30_trial_0_0159.jpg s3://mousebrainatlas-data/CSHL_registration_visualization/atlasV3/atlasV3_down32_scoreVolume_clf_30_warp_10_MD591_down32_scoreVolume_clf_30_trial_0/atlasV3_down32_scoreVolume_clf_30_warp_10_MD591_down32_scoreVolume_clf_30_trial_0_0159.jpg\n"
     ]
    },
    {
     "name": "stderr",
     "output_type": "stream",
     "text": [
      "Child returned 0\n",
      "0.75 seconds.\n"
     ]
    },
    {
     "name": "stdout",
     "output_type": "stream",
     "text": [
      "/shared/CSHL_registration_visualization/atlasV3/atlasV3_down32_scoreVolume_clf_30_warp_10_MD591_down32_scoreVolume_clf_30_trial_0/atlasV3_down32_scoreVolume_clf_30_warp_10_MD591_down32_scoreVolume_clf_30_trial_0_0149.jpg\n",
      "aws s3 cp /shared/CSHL_registration_visualization/atlasV3/atlasV3_down32_scoreVolume_clf_30_warp_10_MD591_down32_scoreVolume_clf_30_trial_0/atlasV3_down32_scoreVolume_clf_30_warp_10_MD591_down32_scoreVolume_clf_30_trial_0_0149.jpg s3://mousebrainatlas-data/CSHL_registration_visualization/atlasV3/atlasV3_down32_scoreVolume_clf_30_warp_10_MD591_down32_scoreVolume_clf_30_trial_0/atlasV3_down32_scoreVolume_clf_30_warp_10_MD591_down32_scoreVolume_clf_30_trial_0_0149.jpg\n",
      "/shared/CSHL_registration_visualization/atlasV3/atlasV3_down32_scoreVolume_clf_30_warp_10_MD591_down32_scoreVolume_clf_30_trial_0/atlasV3_down32_scoreVolume_clf_30_warp_10_MD591_down32_scoreVolume_clf_30_trial_0_0110.jpg\n",
      "/shared/CSHL_registration_visualization/atlasV3/atlasV3_down32_scoreVolume_clf_30_warp_10_MD591_down32_scoreVolume_clf_30_trial_0/atlasV3_down32_scoreVolume_clf_30_warp_10_MD591_down32_scoreVolume_clf_30_trial_0_0169.jpg\n",
      "aws s3 cp /shared/CSHL_registration_visualization/atlasV3/atlasV3_down32_scoreVolume_clf_30_warp_10_MD591_down32_scoreVolume_clf_30_trial_0/atlasV3_down32_scoreVolume_clf_30_warp_10_MD591_down32_scoreVolume_clf_30_trial_0_0110.jpg s3://mousebrainatlas-data/CSHL_registration_visualization/atlasV3/atlasV3_down32_scoreVolume_clf_30_warp_10_MD591_down32_scoreVolume_clf_30_trial_0/atlasV3_down32_scoreVolume_clf_30_warp_10_MD591_down32_scoreVolume_clf_30_trial_0_0110.jpg\n",
      "aws s3 cp /shared/CSHL_registration_visualization/atlasV3/atlasV3_down32_scoreVolume_clf_30_warp_10_MD591_down32_scoreVolume_clf_30_trial_0/atlasV3_down32_scoreVolume_clf_30_warp_10_MD591_down32_scoreVolume_clf_30_trial_0_0169.jpg s3://mousebrainatlas-data/CSHL_registration_visualization/atlasV3/atlasV3_down32_scoreVolume_clf_30_warp_10_MD591_down32_scoreVolume_clf_30_trial_0/atlasV3_down32_scoreVolume_clf_30_warp_10_MD591_down32_scoreVolume_clf_30_trial_0_0169.jpg\n"
     ]
    },
    {
     "name": "stderr",
     "output_type": "stream",
     "text": [
      "Child returned 0\n",
      "0.77 seconds.\n",
      "Child returned 0\n",
      "0.71 seconds.\n",
      "Child returned 0\n",
      "0.76 seconds.\n",
      "Child returned 0\n",
      "0.81 seconds.\n",
      "Child returned 0\n",
      "0.77 seconds.\n",
      "Child returned 0\n",
      "0.79 seconds.\n",
      "Child returned 0\n",
      "0.75 seconds.\n",
      "Child returned 0\n",
      "0.78 seconds.\n",
      "Child returned 0\n",
      "0.82 seconds.\n",
      "Child returned 0\n",
      "0.75 seconds.\n",
      "Child returned 0\n",
      "Child returned 0\n",
      "0.83 seconds.\n",
      "0.74 seconds.\n",
      "Child returned 0\n",
      "0.77 seconds.\n"
     ]
    },
    {
     "name": "stdout",
     "output_type": "stream",
     "text": [
      "/shared/CSHL_registration_visualization/atlasV3/atlasV3_down32_scoreVolume_clf_30_warp_10_MD591_down32_scoreVolume_clf_30_trial_0/atlasV3_down32_scoreVolume_clf_30_warp_10_MD591_down32_scoreVolume_clf_30_trial_0_0115.jpg\n",
      "aws s3 cp /shared/CSHL_registration_visualization/atlasV3/atlasV3_down32_scoreVolume_clf_30_warp_10_MD591_down32_scoreVolume_clf_30_trial_0/atlasV3_down32_scoreVolume_clf_30_warp_10_MD591_down32_scoreVolume_clf_30_trial_0_0115.jpg s3://mousebrainatlas-data/CSHL_registration_visualization/atlasV3/atlasV3_down32_scoreVolume_clf_30_warp_10_MD591_down32_scoreVolume_clf_30_trial_0/atlasV3_down32_scoreVolume_clf_30_warp_10_MD591_down32_scoreVolume_clf_30_trial_0_0115.jpg\n",
      "/shared/CSHL_registration_visualization/atlasV3/atlasV3_down32_scoreVolume_clf_30_warp_10_MD591_down32_scoreVolume_clf_30_trial_0/atlasV3_down32_scoreVolume_clf_30_warp_10_MD591_down32_scoreVolume_clf_30_trial_0_0100.jpg\n",
      "aws s3 cp /shared/CSHL_registration_visualization/atlasV3/atlasV3_down32_scoreVolume_clf_30_warp_10_MD591_down32_scoreVolume_clf_30_trial_0/atlasV3_down32_scoreVolume_clf_30_warp_10_MD591_down32_scoreVolume_clf_30_trial_0_0100.jpg s3://mousebrainatlas-data/CSHL_registration_visualization/atlasV3/atlasV3_down32_scoreVolume_clf_30_warp_10_MD591_down32_scoreVolume_clf_30_trial_0/atlasV3_down32_scoreVolume_clf_30_warp_10_MD591_down32_scoreVolume_clf_30_trial_0_0100.jpg\n",
      "/shared/CSHL_registration_visualization/atlasV3/atlasV3_down32_scoreVolume_clf_30_warp_10_MD591_down32_scoreVolume_clf_30_trial_0/atlasV3_down32_scoreVolume_clf_30_warp_10_MD591_down32_scoreVolume_clf_30_trial_0_0140.jpg\n",
      "aws s3 cp /shared/CSHL_registration_visualization/atlasV3/atlasV3_down32_scoreVolume_clf_30_warp_10_MD591_down32_scoreVolume_clf_30_trial_0/atlasV3_down32_scoreVolume_clf_30_warp_10_MD591_down32_scoreVolume_clf_30_trial_0_0140.jpg s3://mousebrainatlas-data/CSHL_registration_visualization/atlasV3/atlasV3_down32_scoreVolume_clf_30_warp_10_MD591_down32_scoreVolume_clf_30_trial_0/atlasV3_down32_scoreVolume_clf_30_warp_10_MD591_down32_scoreVolume_clf_30_trial_0_0140.jpg\n",
      "/shared/CSHL_registration_visualization/atlasV3/atlasV3_down32_scoreVolume_clf_30_warp_10_MD591_down32_scoreVolume_clf_30_trial_0/atlasV3_down32_scoreVolume_clf_30_warp_10_MD591_down32_scoreVolume_clf_30_trial_0_0165.jpg\n",
      "aws s3 cp /shared/CSHL_registration_visualization/atlasV3/atlasV3_down32_scoreVolume_clf_30_warp_10_MD591_down32_scoreVolume_clf_30_trial_0/atlasV3_down32_scoreVolume_clf_30_warp_10_MD591_down32_scoreVolume_clf_30_trial_0_0165.jpg s3://mousebrainatlas-data/CSHL_registration_visualization/atlasV3/atlasV3_down32_scoreVolume_clf_30_warp_10_MD591_down32_scoreVolume_clf_30_trial_0/atlasV3_down32_scoreVolume_clf_30_warp_10_MD591_down32_scoreVolume_clf_30_trial_0_0165.jpg\n"
     ]
    },
    {
     "name": "stderr",
     "output_type": "stream",
     "text": [
      "Child returned 0\n",
      "0.65 seconds.\n"
     ]
    },
    {
     "name": "stdout",
     "output_type": "stream",
     "text": [
      "/shared/CSHL_registration_visualization/atlasV3/atlasV3_down32_scoreVolume_clf_30_warp_10_MD591_down32_scoreVolume_clf_30_trial_0/atlasV3_down32_scoreVolume_clf_30_warp_10_MD591_down32_scoreVolume_clf_30_trial_0_0120.jpg\n",
      "/shared/CSHL_registration_visualization/atlasV3/atlasV3_down32_scoreVolume_clf_30_warp_10_MD591_down32_scoreVolume_clf_30_trial_0/atlasV3_down32_scoreVolume_clf_30_warp_10_MD591_down32_scoreVolume_clf_30_trial_0_0125.jpg\n",
      "aws s3 cp /shared/CSHL_registration_visualization/atlasV3/atlasV3_down32_scoreVolume_clf_30_warp_10_MD591_down32_scoreVolume_clf_30_trial_0/atlasV3_down32_scoreVolume_clf_30_warp_10_MD591_down32_scoreVolume_clf_30_trial_0_0120.jpg s3://mousebrainatlas-data/CSHL_registration_visualization/atlasV3/atlasV3_down32_scoreVolume_clf_30_warp_10_MD591_down32_scoreVolume_clf_30_trial_0/atlasV3_down32_scoreVolume_clf_30_warp_10_MD591_down32_scoreVolume_clf_30_trial_0_0120.jpg\n",
      "aws s3 cp /shared/CSHL_registration_visualization/atlasV3/atlasV3_down32_scoreVolume_clf_30_warp_10_MD591_down32_scoreVolume_clf_30_trial_0/atlasV3_down32_scoreVolume_clf_30_warp_10_MD591_down32_scoreVolume_clf_30_trial_0_0125.jpg s3://mousebrainatlas-data/CSHL_registration_visualization/atlasV3/atlasV3_down32_scoreVolume_clf_30_warp_10_MD591_down32_scoreVolume_clf_30_trial_0/atlasV3_down32_scoreVolume_clf_30_warp_10_MD591_down32_scoreVolume_clf_30_trial_0_0125.jpg\n",
      "/shared/CSHL_registration_visualization/atlasV3/atlasV3_down32_scoreVolume_clf_30_warp_10_MD591_down32_scoreVolume_clf_30_trial_0/atlasV3_down32_scoreVolume_clf_30_warp_10_MD591_down32_scoreVolume_clf_30_trial_0_0105.jpg\n",
      "/shared/CSHL_registration_visualization/atlasV3/atlasV3_down32_scoreVolume_clf_30_warp_10_MD591_down32_scoreVolume_clf_30_trial_0/atlasV3_down32_scoreVolume_clf_30_warp_10_MD591_down32_scoreVolume_clf_30_trial_0_0130.jpg\n",
      "/shared/CSHL_registration_visualization/atlasV3/atlasV3_down32_scoreVolume_clf_30_warp_10_MD591_down32_scoreVolume_clf_30_trial_0/atlasV3_down32_scoreVolume_clf_30_warp_10_MD591_down32_scoreVolume_clf_30_trial_0_0145.jpg\n",
      "aws s3 cp /shared/CSHL_registration_visualization/atlasV3/atlasV3_down32_scoreVolume_clf_30_warp_10_MD591_down32_scoreVolume_clf_30_trial_0/atlasV3_down32_scoreVolume_clf_30_warp_10_MD591_down32_scoreVolume_clf_30_trial_0_0105.jpg s3://mousebrainatlas-data/CSHL_registration_visualization/atlasV3/atlasV3_down32_scoreVolume_clf_30_warp_10_MD591_down32_scoreVolume_clf_30_trial_0/atlasV3_down32_scoreVolume_clf_30_warp_10_MD591_down32_scoreVolume_clf_30_trial_0_0105.jpg\n",
      "aws s3 cp /shared/CSHL_registration_visualization/atlasV3/atlasV3_down32_scoreVolume_clf_30_warp_10_MD591_down32_scoreVolume_clf_30_trial_0/atlasV3_down32_scoreVolume_clf_30_warp_10_MD591_down32_scoreVolume_clf_30_trial_0_0130.jpg s3://mousebrainatlas-data/CSHL_registration_visualization/atlasV3/atlasV3_down32_scoreVolume_clf_30_warp_10_MD591_down32_scoreVolume_clf_30_trial_0/atlasV3_down32_scoreVolume_clf_30_warp_10_MD591_down32_scoreVolume_clf_30_trial_0_0130.jpg\n",
      "aws s3 cp /shared/CSHL_registration_visualization/atlasV3/atlasV3_down32_scoreVolume_clf_30_warp_10_MD591_down32_scoreVolume_clf_30_trial_0/atlasV3_down32_scoreVolume_clf_30_warp_10_MD591_down32_scoreVolume_clf_30_trial_0_0145.jpg s3://mousebrainatlas-data/CSHL_registration_visualization/atlasV3/atlasV3_down32_scoreVolume_clf_30_warp_10_MD591_down32_scoreVolume_clf_30_trial_0/atlasV3_down32_scoreVolume_clf_30_warp_10_MD591_down32_scoreVolume_clf_30_trial_0_0145.jpg\n",
      "/shared/CSHL_registration_visualization/atlasV3/atlasV3_down32_scoreVolume_clf_30_warp_10_MD591_down32_scoreVolume_clf_30_trial_0/atlasV3_down32_scoreVolume_clf_30_warp_10_MD591_down32_scoreVolume_clf_30_trial_0_0135.jpg\n"
     ]
    },
    {
     "name": "stderr",
     "output_type": "stream",
     "text": [
      "Child returned 0\n",
      "0.80 seconds.\n"
     ]
    },
    {
     "name": "stdout",
     "output_type": "stream",
     "text": [
      "/shared/CSHL_registration_visualization/atlasV3/atlasV3_down32_scoreVolume_clf_30_warp_10_MD591_down32_scoreVolume_clf_30_trial_0/atlasV3_down32_scoreVolume_clf_30_warp_10_MD591_down32_scoreVolume_clf_30_trial_0_0150.jpg\n",
      "aws s3 cp /shared/CSHL_registration_visualization/atlasV3/atlasV3_down32_scoreVolume_clf_30_warp_10_MD591_down32_scoreVolume_clf_30_trial_0/atlasV3_down32_scoreVolume_clf_30_warp_10_MD591_down32_scoreVolume_clf_30_trial_0_0135.jpg s3://mousebrainatlas-data/CSHL_registration_visualization/atlasV3/atlasV3_down32_scoreVolume_clf_30_warp_10_MD591_down32_scoreVolume_clf_30_trial_0/atlasV3_down32_scoreVolume_clf_30_warp_10_MD591_down32_scoreVolume_clf_30_trial_0_0135.jpg\n",
      "/shared/CSHL_registration_visualization/atlasV3/atlasV3_down32_scoreVolume_clf_30_warp_10_MD591_down32_scoreVolume_clf_30_trial_0/atlasV3_down32_scoreVolume_clf_30_warp_10_MD591_down32_scoreVolume_clf_30_trial_0_0155.jpg\n",
      "aws s3 cp /shared/CSHL_registration_visualization/atlasV3/atlasV3_down32_scoreVolume_clf_30_warp_10_MD591_down32_scoreVolume_clf_30_trial_0/atlasV3_down32_scoreVolume_clf_30_warp_10_MD591_down32_scoreVolume_clf_30_trial_0_0150.jpg s3://mousebrainatlas-data/CSHL_registration_visualization/atlasV3/atlasV3_down32_scoreVolume_clf_30_warp_10_MD591_down32_scoreVolume_clf_30_trial_0/atlasV3_down32_scoreVolume_clf_30_warp_10_MD591_down32_scoreVolume_clf_30_trial_0_0150.jpg\n",
      "/shared/CSHL_registration_visualization/atlasV3/atlasV3_down32_scoreVolume_clf_30_warp_10_MD591_down32_scoreVolume_clf_30_trial_0/atlasV3_down32_scoreVolume_clf_30_warp_10_MD591_down32_scoreVolume_clf_30_trial_0_0170.jpg\n",
      "aws s3 cp /shared/CSHL_registration_visualization/atlasV3/atlasV3_down32_scoreVolume_clf_30_warp_10_MD591_down32_scoreVolume_clf_30_trial_0/atlasV3_down32_scoreVolume_clf_30_warp_10_MD591_down32_scoreVolume_clf_30_trial_0_0155.jpg s3://mousebrainatlas-data/CSHL_registration_visualization/atlasV3/atlasV3_down32_scoreVolume_clf_30_warp_10_MD591_down32_scoreVolume_clf_30_trial_0/atlasV3_down32_scoreVolume_clf_30_warp_10_MD591_down32_scoreVolume_clf_30_trial_0_0155.jpg\n",
      "aws s3 cp /shared/CSHL_registration_visualization/atlasV3/atlasV3_down32_scoreVolume_clf_30_warp_10_MD591_down32_scoreVolume_clf_30_trial_0/atlasV3_down32_scoreVolume_clf_30_warp_10_MD591_down32_scoreVolume_clf_30_trial_0_0170.jpg s3://mousebrainatlas-data/CSHL_registration_visualization/atlasV3/atlasV3_down32_scoreVolume_clf_30_warp_10_MD591_down32_scoreVolume_clf_30_trial_0/atlasV3_down32_scoreVolume_clf_30_warp_10_MD591_down32_scoreVolume_clf_30_trial_0_0170.jpg\n",
      "/shared/CSHL_registration_visualization/atlasV3/atlasV3_down32_scoreVolume_clf_30_warp_10_MD591_down32_scoreVolume_clf_30_trial_0/atlasV3_down32_scoreVolume_clf_30_warp_10_MD591_down32_scoreVolume_clf_30_trial_0_0111.jpg\n",
      "aws s3 cp /shared/CSHL_registration_visualization/atlasV3/atlasV3_down32_scoreVolume_clf_30_warp_10_MD591_down32_scoreVolume_clf_30_trial_0/atlasV3_down32_scoreVolume_clf_30_warp_10_MD591_down32_scoreVolume_clf_30_trial_0_0111.jpg s3://mousebrainatlas-data/CSHL_registration_visualization/atlasV3/atlasV3_down32_scoreVolume_clf_30_warp_10_MD591_down32_scoreVolume_clf_30_trial_0/atlasV3_down32_scoreVolume_clf_30_warp_10_MD591_down32_scoreVolume_clf_30_trial_0_0111.jpg\n",
      "/shared/CSHL_registration_visualization/atlasV3/atlasV3_down32_scoreVolume_clf_30_warp_10_MD591_down32_scoreVolume_clf_30_trial_0/atlasV3_down32_scoreVolume_clf_30_warp_10_MD591_down32_scoreVolume_clf_30_trial_0_0160.jpg\n"
     ]
    },
    {
     "name": "stderr",
     "output_type": "stream",
     "text": [
      "Child returned 0\n",
      "0.80 seconds.\n"
     ]
    },
    {
     "name": "stdout",
     "output_type": "stream",
     "text": [
      "aws s3 cp /shared/CSHL_registration_visualization/atlasV3/atlasV3_down32_scoreVolume_clf_30_warp_10_MD591_down32_scoreVolume_clf_30_trial_0/atlasV3_down32_scoreVolume_clf_30_warp_10_MD591_down32_scoreVolume_clf_30_trial_0_0160.jpg s3://mousebrainatlas-data/CSHL_registration_visualization/atlasV3/atlasV3_down32_scoreVolume_clf_30_warp_10_MD591_down32_scoreVolume_clf_30_trial_0/atlasV3_down32_scoreVolume_clf_30_warp_10_MD591_down32_scoreVolume_clf_30_trial_0_0160.jpg\n"
     ]
    },
    {
     "name": "stderr",
     "output_type": "stream",
     "text": [
      "Child returned 0\n",
      "0.74 seconds.\n",
      "Child returned 0\n",
      "0.79 seconds.\n",
      "Child returned 0\n",
      "0.80 seconds.\n",
      "Child returned 0\n",
      "0.72 seconds.\n",
      "Child returned 0\n",
      "Child returned 0\n",
      "0.74 seconds.\n",
      "0.79 seconds.\n",
      "Child returned 0\n",
      "0.82 seconds.\n",
      "Child returned 0\n",
      "0.76 seconds.\n",
      "Child returned 0\n",
      "0.77 seconds.\n",
      "Child returned 0\n",
      "0.78 seconds.\n",
      "Child returned 0\n",
      "0.78 seconds.\n",
      "Child returned 0\n",
      "0.80 seconds.\n"
     ]
    },
    {
     "name": "stdout",
     "output_type": "stream",
     "text": [
      "/shared/CSHL_registration_visualization/atlasV3/atlasV3_down32_scoreVolume_clf_30_warp_10_MD591_down32_scoreVolume_clf_30_trial_0/atlasV3_down32_scoreVolume_clf_30_warp_10_MD591_down32_scoreVolume_clf_30_trial_0_0101.jpg\n",
      "aws s3 cp /shared/CSHL_registration_visualization/atlasV3/atlasV3_down32_scoreVolume_clf_30_warp_10_MD591_down32_scoreVolume_clf_30_trial_0/atlasV3_down32_scoreVolume_clf_30_warp_10_MD591_down32_scoreVolume_clf_30_trial_0_0101.jpg s3://mousebrainatlas-data/CSHL_registration_visualization/atlasV3/atlasV3_down32_scoreVolume_clf_30_warp_10_MD591_down32_scoreVolume_clf_30_trial_0/atlasV3_down32_scoreVolume_clf_30_warp_10_MD591_down32_scoreVolume_clf_30_trial_0_0101.jpg\n",
      "/shared/CSHL_registration_visualization/atlasV3/atlasV3_down32_scoreVolume_clf_30_warp_10_MD591_down32_scoreVolume_clf_30_trial_0/atlasV3_down32_scoreVolume_clf_30_warp_10_MD591_down32_scoreVolume_clf_30_trial_0_0116.jpg\n",
      "aws s3 cp /shared/CSHL_registration_visualization/atlasV3/atlasV3_down32_scoreVolume_clf_30_warp_10_MD591_down32_scoreVolume_clf_30_trial_0/atlasV3_down32_scoreVolume_clf_30_warp_10_MD591_down32_scoreVolume_clf_30_trial_0_0116.jpg s3://mousebrainatlas-data/CSHL_registration_visualization/atlasV3/atlasV3_down32_scoreVolume_clf_30_warp_10_MD591_down32_scoreVolume_clf_30_trial_0/atlasV3_down32_scoreVolume_clf_30_warp_10_MD591_down32_scoreVolume_clf_30_trial_0_0116.jpg\n",
      "/shared/CSHL_registration_visualization/atlasV3/atlasV3_down32_scoreVolume_clf_30_warp_10_MD591_down32_scoreVolume_clf_30_trial_0/atlasV3_down32_scoreVolume_clf_30_warp_10_MD591_down32_scoreVolume_clf_30_trial_0_0166.jpg\n",
      "aws s3 cp /shared/CSHL_registration_visualization/atlasV3/atlasV3_down32_scoreVolume_clf_30_warp_10_MD591_down32_scoreVolume_clf_30_trial_0/atlasV3_down32_scoreVolume_clf_30_warp_10_MD591_down32_scoreVolume_clf_30_trial_0_0166.jpg s3://mousebrainatlas-data/CSHL_registration_visualization/atlasV3/atlasV3_down32_scoreVolume_clf_30_warp_10_MD591_down32_scoreVolume_clf_30_trial_0/atlasV3_down32_scoreVolume_clf_30_warp_10_MD591_down32_scoreVolume_clf_30_trial_0_0166.jpg\n"
     ]
    },
    {
     "name": "stderr",
     "output_type": "stream",
     "text": [
      "Child returned 0\n",
      "0.70 seconds.\n"
     ]
    },
    {
     "name": "stdout",
     "output_type": "stream",
     "text": [
      "/shared/CSHL_registration_visualization/atlasV3/atlasV3_down32_scoreVolume_clf_30_warp_10_MD591_down32_scoreVolume_clf_30_trial_0/atlasV3_down32_scoreVolume_clf_30_warp_10_MD591_down32_scoreVolume_clf_30_trial_0_0141.jpg\n",
      "aws s3 cp /shared/CSHL_registration_visualization/atlasV3/atlasV3_down32_scoreVolume_clf_30_warp_10_MD591_down32_scoreVolume_clf_30_trial_0/atlasV3_down32_scoreVolume_clf_30_warp_10_MD591_down32_scoreVolume_clf_30_trial_0_0141.jpg s3://mousebrainatlas-data/CSHL_registration_visualization/atlasV3/atlasV3_down32_scoreVolume_clf_30_warp_10_MD591_down32_scoreVolume_clf_30_trial_0/atlasV3_down32_scoreVolume_clf_30_warp_10_MD591_down32_scoreVolume_clf_30_trial_0_0141.jpg\n"
     ]
    },
    {
     "name": "stderr",
     "output_type": "stream",
     "text": [
      "Child returned 0\n",
      "0.82 seconds.\n"
     ]
    },
    {
     "name": "stdout",
     "output_type": "stream",
     "text": [
      "/shared/CSHL_registration_visualization/atlasV3/atlasV3_down32_scoreVolume_clf_30_warp_10_MD591_down32_scoreVolume_clf_30_trial_0/atlasV3_down32_scoreVolume_clf_30_warp_10_MD591_down32_scoreVolume_clf_30_trial_0_0106.jpg\n",
      "/shared/CSHL_registration_visualization/atlasV3/atlasV3_down32_scoreVolume_clf_30_warp_10_MD591_down32_scoreVolume_clf_30_trial_0/atlasV3_down32_scoreVolume_clf_30_warp_10_MD591_down32_scoreVolume_clf_30_trial_0_0121.jpg\n",
      "/shared/CSHL_registration_visualization/atlasV3/atlasV3_down32_scoreVolume_clf_30_warp_10_MD591_down32_scoreVolume_clf_30_trial_0/atlasV3_down32_scoreVolume_clf_30_warp_10_MD591_down32_scoreVolume_clf_30_trial_0_0126.jpg\n",
      "aws s3 cp /shared/CSHL_registration_visualization/atlasV3/atlasV3_down32_scoreVolume_clf_30_warp_10_MD591_down32_scoreVolume_clf_30_trial_0/atlasV3_down32_scoreVolume_clf_30_warp_10_MD591_down32_scoreVolume_clf_30_trial_0_0106.jpg s3://mousebrainatlas-data/CSHL_registration_visualization/atlasV3/atlasV3_down32_scoreVolume_clf_30_warp_10_MD591_down32_scoreVolume_clf_30_trial_0/atlasV3_down32_scoreVolume_clf_30_warp_10_MD591_down32_scoreVolume_clf_30_trial_0_0106.jpg\n",
      "aws s3 cp /shared/CSHL_registration_visualization/atlasV3/atlasV3_down32_scoreVolume_clf_30_warp_10_MD591_down32_scoreVolume_clf_30_trial_0/atlasV3_down32_scoreVolume_clf_30_warp_10_MD591_down32_scoreVolume_clf_30_trial_0_0121.jpg s3://mousebrainatlas-data/CSHL_registration_visualization/atlasV3/atlasV3_down32_scoreVolume_clf_30_warp_10_MD591_down32_scoreVolume_clf_30_trial_0/atlasV3_down32_scoreVolume_clf_30_warp_10_MD591_down32_scoreVolume_clf_30_trial_0_0121.jpg\n",
      "aws s3 cp /shared/CSHL_registration_visualization/atlasV3/atlasV3_down32_scoreVolume_clf_30_warp_10_MD591_down32_scoreVolume_clf_30_trial_0/atlasV3_down32_scoreVolume_clf_30_warp_10_MD591_down32_scoreVolume_clf_30_trial_0_0126.jpg s3://mousebrainatlas-data/CSHL_registration_visualization/atlasV3/atlasV3_down32_scoreVolume_clf_30_warp_10_MD591_down32_scoreVolume_clf_30_trial_0/atlasV3_down32_scoreVolume_clf_30_warp_10_MD591_down32_scoreVolume_clf_30_trial_0_0126.jpg\n",
      "/shared/CSHL_registration_visualization/atlasV3/atlasV3_down32_scoreVolume_clf_30_warp_10_MD591_down32_scoreVolume_clf_30_trial_0/atlasV3_down32_scoreVolume_clf_30_warp_10_MD591_down32_scoreVolume_clf_30_trial_0_0151.jpg\n",
      "/shared/CSHL_registration_visualization/atlasV3/atlasV3_down32_scoreVolume_clf_30_warp_10_MD591_down32_scoreVolume_clf_30_trial_0/atlasV3_down32_scoreVolume_clf_30_warp_10_MD591_down32_scoreVolume_clf_30_trial_0_0136.jpg\n",
      "aws s3 cp /shared/CSHL_registration_visualization/atlasV3/atlasV3_down32_scoreVolume_clf_30_warp_10_MD591_down32_scoreVolume_clf_30_trial_0/atlasV3_down32_scoreVolume_clf_30_warp_10_MD591_down32_scoreVolume_clf_30_trial_0_0151.jpg s3://mousebrainatlas-data/CSHL_registration_visualization/atlasV3/atlasV3_down32_scoreVolume_clf_30_warp_10_MD591_down32_scoreVolume_clf_30_trial_0/atlasV3_down32_scoreVolume_clf_30_warp_10_MD591_down32_scoreVolume_clf_30_trial_0_0151.jpg\n"
     ]
    },
    {
     "name": "stderr",
     "output_type": "stream",
     "text": [
      "Child returned 0\n"
     ]
    },
    {
     "name": "stdout",
     "output_type": "stream",
     "text": [
      "aws s3 cp /shared/CSHL_registration_visualization/atlasV3/atlasV3_down32_scoreVolume_clf_30_warp_10_MD591_down32_scoreVolume_clf_30_trial_0/atlasV3_down32_scoreVolume_clf_30_warp_10_MD591_down32_scoreVolume_clf_30_trial_0_0136.jpg s3://mousebrainatlas-data/CSHL_registration_visualization/atlasV3/atlasV3_down32_scoreVolume_clf_30_warp_10_MD591_down32_scoreVolume_clf_30_trial_0/atlasV3_down32_scoreVolume_clf_30_warp_10_MD591_down32_scoreVolume_clf_30_trial_0_0136.jpg\n",
      "/shared/CSHL_registration_visualization/atlasV3/atlasV3_down32_scoreVolume_clf_30_warp_10_MD591_down32_scoreVolume_clf_30_trial_0/atlasV3_down32_scoreVolume_clf_30_warp_10_MD591_down32_scoreVolume_clf_30_trial_0_0131.jpg\n"
     ]
    },
    {
     "name": "stderr",
     "output_type": "stream",
     "text": [
      "0.81 seconds.\n"
     ]
    },
    {
     "name": "stdout",
     "output_type": "stream",
     "text": [
      "aws s3 cp /shared/CSHL_registration_visualization/atlasV3/atlasV3_down32_scoreVolume_clf_30_warp_10_MD591_down32_scoreVolume_clf_30_trial_0/atlasV3_down32_scoreVolume_clf_30_warp_10_MD591_down32_scoreVolume_clf_30_trial_0_0131.jpg s3://mousebrainatlas-data/CSHL_registration_visualization/atlasV3/atlasV3_down32_scoreVolume_clf_30_warp_10_MD591_down32_scoreVolume_clf_30_trial_0/atlasV3_down32_scoreVolume_clf_30_warp_10_MD591_down32_scoreVolume_clf_30_trial_0_0131.jpg\n",
      "/shared/CSHL_registration_visualization/atlasV3/atlasV3_down32_scoreVolume_clf_30_warp_10_MD591_down32_scoreVolume_clf_30_trial_0/atlasV3_down32_scoreVolume_clf_30_warp_10_MD591_down32_scoreVolume_clf_30_trial_0_0156.jpg\n",
      "/shared/CSHL_registration_visualization/atlasV3/atlasV3_down32_scoreVolume_clf_30_warp_10_MD591_down32_scoreVolume_clf_30_trial_0/atlasV3_down32_scoreVolume_clf_30_warp_10_MD591_down32_scoreVolume_clf_30_trial_0_0146.jpg\n",
      "aws s3 cp /shared/CSHL_registration_visualization/atlasV3/atlasV3_down32_scoreVolume_clf_30_warp_10_MD591_down32_scoreVolume_clf_30_trial_0/atlasV3_down32_scoreVolume_clf_30_warp_10_MD591_down32_scoreVolume_clf_30_trial_0_0146.jpg s3://mousebrainatlas-data/CSHL_registration_visualization/atlasV3/atlasV3_down32_scoreVolume_clf_30_warp_10_MD591_down32_scoreVolume_clf_30_trial_0/atlasV3_down32_scoreVolume_clf_30_warp_10_MD591_down32_scoreVolume_clf_30_trial_0_0146.jpg\n",
      "aws s3 cp /shared/CSHL_registration_visualization/atlasV3/atlasV3_down32_scoreVolume_clf_30_warp_10_MD591_down32_scoreVolume_clf_30_trial_0/atlasV3_down32_scoreVolume_clf_30_warp_10_MD591_down32_scoreVolume_clf_30_trial_0_0156.jpg s3://mousebrainatlas-data/CSHL_registration_visualization/atlasV3/atlasV3_down32_scoreVolume_clf_30_warp_10_MD591_down32_scoreVolume_clf_30_trial_0/atlasV3_down32_scoreVolume_clf_30_warp_10_MD591_down32_scoreVolume_clf_30_trial_0_0156.jpg\n",
      "/shared/CSHL_registration_visualization/atlasV3/atlasV3_down32_scoreVolume_clf_30_warp_10_MD591_down32_scoreVolume_clf_30_trial_0/atlasV3_down32_scoreVolume_clf_30_warp_10_MD591_down32_scoreVolume_clf_30_trial_0_0171.jpg\n",
      "aws s3 cp /shared/CSHL_registration_visualization/atlasV3/atlasV3_down32_scoreVolume_clf_30_warp_10_MD591_down32_scoreVolume_clf_30_trial_0/atlasV3_down32_scoreVolume_clf_30_warp_10_MD591_down32_scoreVolume_clf_30_trial_0_0171.jpg s3://mousebrainatlas-data/CSHL_registration_visualization/atlasV3/atlasV3_down32_scoreVolume_clf_30_warp_10_MD591_down32_scoreVolume_clf_30_trial_0/atlasV3_down32_scoreVolume_clf_30_warp_10_MD591_down32_scoreVolume_clf_30_trial_0_0171.jpg\n",
      "/shared/CSHL_registration_visualization/atlasV3/atlasV3_down32_scoreVolume_clf_30_warp_10_MD591_down32_scoreVolume_clf_30_trial_0/atlasV3_down32_scoreVolume_clf_30_warp_10_MD591_down32_scoreVolume_clf_30_trial_0_0112.jpg\n",
      "/shared/CSHL_registration_visualization/atlasV3/atlasV3_down32_scoreVolume_clf_30_warp_10_MD591_down32_scoreVolume_clf_30_trial_0/atlasV3_down32_scoreVolume_clf_30_warp_10_MD591_down32_scoreVolume_clf_30_trial_0_0161.jpg\n",
      "aws s3 cp /shared/CSHL_registration_visualization/atlasV3/atlasV3_down32_scoreVolume_clf_30_warp_10_MD591_down32_scoreVolume_clf_30_trial_0/atlasV3_down32_scoreVolume_clf_30_warp_10_MD591_down32_scoreVolume_clf_30_trial_0_0112.jpg s3://mousebrainatlas-data/CSHL_registration_visualization/atlasV3/atlasV3_down32_scoreVolume_clf_30_warp_10_MD591_down32_scoreVolume_clf_30_trial_0/atlasV3_down32_scoreVolume_clf_30_warp_10_MD591_down32_scoreVolume_clf_30_trial_0_0112.jpg\n",
      "aws s3 cp /shared/CSHL_registration_visualization/atlasV3/atlasV3_down32_scoreVolume_clf_30_warp_10_MD591_down32_scoreVolume_clf_30_trial_0/atlasV3_down32_scoreVolume_clf_30_warp_10_MD591_down32_scoreVolume_clf_30_trial_0_0161.jpg s3://mousebrainatlas-data/CSHL_registration_visualization/atlasV3/atlasV3_down32_scoreVolume_clf_30_warp_10_MD591_down32_scoreVolume_clf_30_trial_0/atlasV3_down32_scoreVolume_clf_30_warp_10_MD591_down32_scoreVolume_clf_30_trial_0_0161.jpg\n"
     ]
    },
    {
     "name": "stderr",
     "output_type": "stream",
     "text": [
      "Child returned 0\n",
      "0.82 seconds.\n",
      "Child returned 0\n",
      "0.72 seconds.\n",
      "Child returned 0\n",
      "0.77 seconds.\n",
      "Child returned 0\n",
      "0.77 seconds.\n",
      "Child returned 0\n",
      "0.74 seconds.\n",
      "Child returned 0\n",
      "0.95 seconds.\n",
      "Child returned 0\n",
      "Child returned 0\n",
      "0.86 seconds.\n",
      "Child returned 0\n",
      "0.82 seconds.\n",
      "0.71 seconds.\n",
      "Child returned 0\n",
      "0.90 seconds.\n",
      "Child returned 0\n",
      "0.69 seconds.\n"
     ]
    },
    {
     "name": "stdout",
     "output_type": "stream",
     "text": [
      "/shared/CSHL_registration_visualization/atlasV3/atlasV3_down32_scoreVolume_clf_30_warp_10_MD591_down32_scoreVolume_clf_30_trial_0/atlasV3_down32_scoreVolume_clf_30_warp_10_MD591_down32_scoreVolume_clf_30_trial_0_0102.jpg\n",
      "aws s3 cp /shared/CSHL_registration_visualization/atlasV3/atlasV3_down32_scoreVolume_clf_30_warp_10_MD591_down32_scoreVolume_clf_30_trial_0/atlasV3_down32_scoreVolume_clf_30_warp_10_MD591_down32_scoreVolume_clf_30_trial_0_0102.jpg s3://mousebrainatlas-data/CSHL_registration_visualization/atlasV3/atlasV3_down32_scoreVolume_clf_30_warp_10_MD591_down32_scoreVolume_clf_30_trial_0/atlasV3_down32_scoreVolume_clf_30_warp_10_MD591_down32_scoreVolume_clf_30_trial_0_0102.jpg\n"
     ]
    },
    {
     "name": "stderr",
     "output_type": "stream",
     "text": [
      "Child returned 0\n",
      "1.44 seconds.\n"
     ]
    },
    {
     "name": "stdout",
     "output_type": "stream",
     "text": [
      "/shared/CSHL_registration_visualization/atlasV3/atlasV3_down32_scoreVolume_clf_30_warp_10_MD591_down32_scoreVolume_clf_30_trial_0/atlasV3_down32_scoreVolume_clf_30_warp_10_MD591_down32_scoreVolume_clf_30_trial_0_0117.jpg\n",
      "aws s3 cp /shared/CSHL_registration_visualization/atlasV3/atlasV3_down32_scoreVolume_clf_30_warp_10_MD591_down32_scoreVolume_clf_30_trial_0/atlasV3_down32_scoreVolume_clf_30_warp_10_MD591_down32_scoreVolume_clf_30_trial_0_0117.jpg s3://mousebrainatlas-data/CSHL_registration_visualization/atlasV3/atlasV3_down32_scoreVolume_clf_30_warp_10_MD591_down32_scoreVolume_clf_30_trial_0/atlasV3_down32_scoreVolume_clf_30_warp_10_MD591_down32_scoreVolume_clf_30_trial_0_0117.jpg\n",
      "/shared/CSHL_registration_visualization/atlasV3/atlasV3_down32_scoreVolume_clf_30_warp_10_MD591_down32_scoreVolume_clf_30_trial_0/atlasV3_down32_scoreVolume_clf_30_warp_10_MD591_down32_scoreVolume_clf_30_trial_0_0167.jpg\n",
      "aws s3 cp /shared/CSHL_registration_visualization/atlasV3/atlasV3_down32_scoreVolume_clf_30_warp_10_MD591_down32_scoreVolume_clf_30_trial_0/atlasV3_down32_scoreVolume_clf_30_warp_10_MD591_down32_scoreVolume_clf_30_trial_0_0167.jpg s3://mousebrainatlas-data/CSHL_registration_visualization/atlasV3/atlasV3_down32_scoreVolume_clf_30_warp_10_MD591_down32_scoreVolume_clf_30_trial_0/atlasV3_down32_scoreVolume_clf_30_warp_10_MD591_down32_scoreVolume_clf_30_trial_0_0167.jpg\n",
      "/shared/CSHL_registration_visualization/atlasV3/atlasV3_down32_scoreVolume_clf_30_warp_10_MD591_down32_scoreVolume_clf_30_trial_0/atlasV3_down32_scoreVolume_clf_30_warp_10_MD591_down32_scoreVolume_clf_30_trial_0_0142.jpg\n"
     ]
    },
    {
     "name": "stderr",
     "output_type": "stream",
     "text": [
      "Child returned 0\n",
      "0.79 seconds.\n"
     ]
    },
    {
     "name": "stdout",
     "output_type": "stream",
     "text": [
      "aws s3 cp /shared/CSHL_registration_visualization/atlasV3/atlasV3_down32_scoreVolume_clf_30_warp_10_MD591_down32_scoreVolume_clf_30_trial_0/atlasV3_down32_scoreVolume_clf_30_warp_10_MD591_down32_scoreVolume_clf_30_trial_0_0142.jpg s3://mousebrainatlas-data/CSHL_registration_visualization/atlasV3/atlasV3_down32_scoreVolume_clf_30_warp_10_MD591_down32_scoreVolume_clf_30_trial_0/atlasV3_down32_scoreVolume_clf_30_warp_10_MD591_down32_scoreVolume_clf_30_trial_0_0142.jpg\n",
      "/shared/CSHL_registration_visualization/atlasV3/atlasV3_down32_scoreVolume_clf_30_warp_10_MD591_down32_scoreVolume_clf_30_trial_0/atlasV3_down32_scoreVolume_clf_30_warp_10_MD591_down32_scoreVolume_clf_30_trial_0_0107.jpg\n"
     ]
    },
    {
     "name": "stderr",
     "output_type": "stream",
     "text": [
      "Child returned 0\n",
      "0.85 seconds.\n"
     ]
    },
    {
     "name": "stdout",
     "output_type": "stream",
     "text": [
      "aws s3 cp /shared/CSHL_registration_visualization/atlasV3/atlasV3_down32_scoreVolume_clf_30_warp_10_MD591_down32_scoreVolume_clf_30_trial_0/atlasV3_down32_scoreVolume_clf_30_warp_10_MD591_down32_scoreVolume_clf_30_trial_0_0107.jpg s3://mousebrainatlas-data/CSHL_registration_visualization/atlasV3/atlasV3_down32_scoreVolume_clf_30_warp_10_MD591_down32_scoreVolume_clf_30_trial_0/atlasV3_down32_scoreVolume_clf_30_warp_10_MD591_down32_scoreVolume_clf_30_trial_0_0107.jpg\n",
      "/shared/CSHL_registration_visualization/atlasV3/atlasV3_down32_scoreVolume_clf_30_warp_10_MD591_down32_scoreVolume_clf_30_trial_0/atlasV3_down32_scoreVolume_clf_30_warp_10_MD591_down32_scoreVolume_clf_30_trial_0_0152.jpg\n",
      "aws s3 cp /shared/CSHL_registration_visualization/atlasV3/atlasV3_down32_scoreVolume_clf_30_warp_10_MD591_down32_scoreVolume_clf_30_trial_0/atlasV3_down32_scoreVolume_clf_30_warp_10_MD591_down32_scoreVolume_clf_30_trial_0_0152.jpg s3://mousebrainatlas-data/CSHL_registration_visualization/atlasV3/atlasV3_down32_scoreVolume_clf_30_warp_10_MD591_down32_scoreVolume_clf_30_trial_0/atlasV3_down32_scoreVolume_clf_30_warp_10_MD591_down32_scoreVolume_clf_30_trial_0_0152.jpg\n",
      "/shared/CSHL_registration_visualization/atlasV3/atlasV3_down32_scoreVolume_clf_30_warp_10_MD591_down32_scoreVolume_clf_30_trial_0/atlasV3_down32_scoreVolume_clf_30_warp_10_MD591_down32_scoreVolume_clf_30_trial_0_0127.jpg\n",
      "aws s3 cp /shared/CSHL_registration_visualization/atlasV3/atlasV3_down32_scoreVolume_clf_30_warp_10_MD591_down32_scoreVolume_clf_30_trial_0/atlasV3_down32_scoreVolume_clf_30_warp_10_MD591_down32_scoreVolume_clf_30_trial_0_0127.jpg s3://mousebrainatlas-data/CSHL_registration_visualization/atlasV3/atlasV3_down32_scoreVolume_clf_30_warp_10_MD591_down32_scoreVolume_clf_30_trial_0/atlasV3_down32_scoreVolume_clf_30_warp_10_MD591_down32_scoreVolume_clf_30_trial_0_0127.jpg\n",
      "/shared/CSHL_registration_visualization/atlasV3/atlasV3_down32_scoreVolume_clf_30_warp_10_MD591_down32_scoreVolume_clf_30_trial_0/atlasV3_down32_scoreVolume_clf_30_warp_10_MD591_down32_scoreVolume_clf_30_trial_0_0122.jpg\n",
      "aws s3 cp /shared/CSHL_registration_visualization/atlasV3/atlasV3_down32_scoreVolume_clf_30_warp_10_MD591_down32_scoreVolume_clf_30_trial_0/atlasV3_down32_scoreVolume_clf_30_warp_10_MD591_down32_scoreVolume_clf_30_trial_0_0122.jpg s3://mousebrainatlas-data/CSHL_registration_visualization/atlasV3/atlasV3_down32_scoreVolume_clf_30_warp_10_MD591_down32_scoreVolume_clf_30_trial_0/atlasV3_down32_scoreVolume_clf_30_warp_10_MD591_down32_scoreVolume_clf_30_trial_0_0122.jpg\n"
     ]
    },
    {
     "name": "stderr",
     "output_type": "stream",
     "text": [
      "Child returned 0\n",
      "0.76 seconds.\n"
     ]
    },
    {
     "name": "stdout",
     "output_type": "stream",
     "text": [
      "/shared/CSHL_registration_visualization/atlasV3/atlasV3_down32_scoreVolume_clf_30_warp_10_MD591_down32_scoreVolume_clf_30_trial_0/atlasV3_down32_scoreVolume_clf_30_warp_10_MD591_down32_scoreVolume_clf_30_trial_0_0147.jpg\n",
      "aws s3 cp /shared/CSHL_registration_visualization/atlasV3/atlasV3_down32_scoreVolume_clf_30_warp_10_MD591_down32_scoreVolume_clf_30_trial_0/atlasV3_down32_scoreVolume_clf_30_warp_10_MD591_down32_scoreVolume_clf_30_trial_0_0147.jpg s3://mousebrainatlas-data/CSHL_registration_visualization/atlasV3/atlasV3_down32_scoreVolume_clf_30_warp_10_MD591_down32_scoreVolume_clf_30_trial_0/atlasV3_down32_scoreVolume_clf_30_warp_10_MD591_down32_scoreVolume_clf_30_trial_0_0147.jpg\n",
      "/shared/CSHL_registration_visualization/atlasV3/atlasV3_down32_scoreVolume_clf_30_warp_10_MD591_down32_scoreVolume_clf_30_trial_0/atlasV3_down32_scoreVolume_clf_30_warp_10_MD591_down32_scoreVolume_clf_30_trial_0_0157.jpg\n"
     ]
    },
    {
     "name": "stderr",
     "output_type": "stream",
     "text": [
      "Child returned 0\n"
     ]
    },
    {
     "name": "stdout",
     "output_type": "stream",
     "text": [
      "aws s3 cp /shared/CSHL_registration_visualization/atlasV3/atlasV3_down32_scoreVolume_clf_30_warp_10_MD591_down32_scoreVolume_clf_30_trial_0/atlasV3_down32_scoreVolume_clf_30_warp_10_MD591_down32_scoreVolume_clf_30_trial_0_0157.jpg s3://mousebrainatlas-data/CSHL_registration_visualization/atlasV3/atlasV3_down32_scoreVolume_clf_30_warp_10_MD591_down32_scoreVolume_clf_30_trial_0/atlasV3_down32_scoreVolume_clf_30_warp_10_MD591_down32_scoreVolume_clf_30_trial_0_0157.jpg\n"
     ]
    },
    {
     "name": "stderr",
     "output_type": "stream",
     "text": [
      "0.77 seconds.\n"
     ]
    },
    {
     "name": "stdout",
     "output_type": "stream",
     "text": [
      "/shared/CSHL_registration_visualization/atlasV3/atlasV3_down32_scoreVolume_clf_30_warp_10_MD591_down32_scoreVolume_clf_30_trial_0/atlasV3_down32_scoreVolume_clf_30_warp_10_MD591_down32_scoreVolume_clf_30_trial_0_0172.jpg\n",
      "/shared/CSHL_registration_visualization/atlasV3/atlasV3_down32_scoreVolume_clf_30_warp_10_MD591_down32_scoreVolume_clf_30_trial_0/atlasV3_down32_scoreVolume_clf_30_warp_10_MD591_down32_scoreVolume_clf_30_trial_0_0173.jpg\n",
      "/shared/CSHL_registration_visualization/atlasV3/atlasV3_down32_scoreVolume_clf_30_warp_10_MD591_down32_scoreVolume_clf_30_trial_0/atlasV3_down32_scoreVolume_clf_30_warp_10_MD591_down32_scoreVolume_clf_30_trial_0_0137.jpg\n",
      "aws s3 cp /shared/CSHL_registration_visualization/atlasV3/atlasV3_down32_scoreVolume_clf_30_warp_10_MD591_down32_scoreVolume_clf_30_trial_0/atlasV3_down32_scoreVolume_clf_30_warp_10_MD591_down32_scoreVolume_clf_30_trial_0_0172.jpg s3://mousebrainatlas-data/CSHL_registration_visualization/atlasV3/atlasV3_down32_scoreVolume_clf_30_warp_10_MD591_down32_scoreVolume_clf_30_trial_0/atlasV3_down32_scoreVolume_clf_30_warp_10_MD591_down32_scoreVolume_clf_30_trial_0_0172.jpg\n",
      "aws s3 cp /shared/CSHL_registration_visualization/atlasV3/atlasV3_down32_scoreVolume_clf_30_warp_10_MD591_down32_scoreVolume_clf_30_trial_0/atlasV3_down32_scoreVolume_clf_30_warp_10_MD591_down32_scoreVolume_clf_30_trial_0_0173.jpg s3://mousebrainatlas-data/CSHL_registration_visualization/atlasV3/atlasV3_down32_scoreVolume_clf_30_warp_10_MD591_down32_scoreVolume_clf_30_trial_0/atlasV3_down32_scoreVolume_clf_30_warp_10_MD591_down32_scoreVolume_clf_30_trial_0_0173.jpg\n",
      "aws s3 cp /shared/CSHL_registration_visualization/atlasV3/atlasV3_down32_scoreVolume_clf_30_warp_10_MD591_down32_scoreVolume_clf_30_trial_0/atlasV3_down32_scoreVolume_clf_30_warp_10_MD591_down32_scoreVolume_clf_30_trial_0_0137.jpg s3://mousebrainatlas-data/CSHL_registration_visualization/atlasV3/atlasV3_down32_scoreVolume_clf_30_warp_10_MD591_down32_scoreVolume_clf_30_trial_0/atlasV3_down32_scoreVolume_clf_30_warp_10_MD591_down32_scoreVolume_clf_30_trial_0_0137.jpg\n",
      "/shared/CSHL_registration_visualization/atlasV3/atlasV3_down32_scoreVolume_clf_30_warp_10_MD591_down32_scoreVolume_clf_30_trial_0/atlasV3_down32_scoreVolume_clf_30_warp_10_MD591_down32_scoreVolume_clf_30_trial_0_0162.jpg\n"
     ]
    },
    {
     "name": "stderr",
     "output_type": "stream",
     "text": [
      "Child returned 0\n",
      "0.80 seconds.\n"
     ]
    },
    {
     "name": "stdout",
     "output_type": "stream",
     "text": [
      "aws s3 cp /shared/CSHL_registration_visualization/atlasV3/atlasV3_down32_scoreVolume_clf_30_warp_10_MD591_down32_scoreVolume_clf_30_trial_0/atlasV3_down32_scoreVolume_clf_30_warp_10_MD591_down32_scoreVolume_clf_30_trial_0_0162.jpg s3://mousebrainatlas-data/CSHL_registration_visualization/atlasV3/atlasV3_down32_scoreVolume_clf_30_warp_10_MD591_down32_scoreVolume_clf_30_trial_0/atlasV3_down32_scoreVolume_clf_30_warp_10_MD591_down32_scoreVolume_clf_30_trial_0_0162.jpg\n"
     ]
    },
    {
     "name": "stderr",
     "output_type": "stream",
     "text": [
      "Child returned 0\n",
      "0.82 seconds.\n",
      "Child returned 0\n",
      "0.80 seconds.\n"
     ]
    },
    {
     "name": "stdout",
     "output_type": "stream",
     "text": [
      "/shared/CSHL_registration_visualization/atlasV3/atlasV3_down32_scoreVolume_clf_30_warp_10_MD591_down32_scoreVolume_clf_30_trial_0/atlasV3_down32_scoreVolume_clf_30_warp_10_MD591_down32_scoreVolume_clf_30_trial_0_0132.jpg\n"
     ]
    },
    {
     "name": "stderr",
     "output_type": "stream",
     "text": [
      "Child returned 0\n",
      "0.74 seconds.\n"
     ]
    },
    {
     "name": "stdout",
     "output_type": "stream",
     "text": [
      "aws s3 cp /shared/CSHL_registration_visualization/atlasV3/atlasV3_down32_scoreVolume_clf_30_warp_10_MD591_down32_scoreVolume_clf_30_trial_0/atlasV3_down32_scoreVolume_clf_30_warp_10_MD591_down32_scoreVolume_clf_30_trial_0_0132.jpg s3://mousebrainatlas-data/CSHL_registration_visualization/atlasV3/atlasV3_down32_scoreVolume_clf_30_warp_10_MD591_down32_scoreVolume_clf_30_trial_0/atlasV3_down32_scoreVolume_clf_30_warp_10_MD591_down32_scoreVolume_clf_30_trial_0_0132.jpg\n"
     ]
    },
    {
     "name": "stderr",
     "output_type": "stream",
     "text": [
      "Child returned 0\n",
      "0.73 seconds.\n",
      "Child returned 0\n",
      "0.69 seconds.\n",
      "Child returned 0\n",
      "0.72 seconds.\n",
      "Child returned 0\n",
      "0.86 seconds.\n",
      "Child returned 0\n",
      "0.83 seconds.\n",
      "Child returned 0\n",
      "0.80 seconds.\n"
     ]
    },
    {
     "name": "stdout",
     "output_type": "stream",
     "text": [
      "/shared/CSHL_registration_visualization/atlasV3/atlasV3_down32_scoreVolume_clf_30_warp_10_MD591_down32_scoreVolume_clf_30_trial_0/atlasV3_down32_scoreVolume_clf_30_warp_10_MD591_down32_scoreVolume_clf_30_trial_0_0178.jpg\n"
     ]
    },
    {
     "name": "stderr",
     "output_type": "stream",
     "text": [
      "Child returned 0\n",
      "0.75 seconds.\n"
     ]
    },
    {
     "name": "stdout",
     "output_type": "stream",
     "text": [
      "aws s3 cp /shared/CSHL_registration_visualization/atlasV3/atlasV3_down32_scoreVolume_clf_30_warp_10_MD591_down32_scoreVolume_clf_30_trial_0/atlasV3_down32_scoreVolume_clf_30_warp_10_MD591_down32_scoreVolume_clf_30_trial_0_0178.jpg s3://mousebrainatlas-data/CSHL_registration_visualization/atlasV3/atlasV3_down32_scoreVolume_clf_30_warp_10_MD591_down32_scoreVolume_clf_30_trial_0/atlasV3_down32_scoreVolume_clf_30_warp_10_MD591_down32_scoreVolume_clf_30_trial_0_0178.jpg\n",
      "/shared/CSHL_registration_visualization/atlasV3/atlasV3_down32_scoreVolume_clf_30_warp_10_MD591_down32_scoreVolume_clf_30_trial_0/atlasV3_down32_scoreVolume_clf_30_warp_10_MD591_down32_scoreVolume_clf_30_trial_0_0183.jpg\n",
      "aws s3 cp /shared/CSHL_registration_visualization/atlasV3/atlasV3_down32_scoreVolume_clf_30_warp_10_MD591_down32_scoreVolume_clf_30_trial_0/atlasV3_down32_scoreVolume_clf_30_warp_10_MD591_down32_scoreVolume_clf_30_trial_0_0183.jpg s3://mousebrainatlas-data/CSHL_registration_visualization/atlasV3/atlasV3_down32_scoreVolume_clf_30_warp_10_MD591_down32_scoreVolume_clf_30_trial_0/atlasV3_down32_scoreVolume_clf_30_warp_10_MD591_down32_scoreVolume_clf_30_trial_0_0183.jpg\n",
      "/shared/CSHL_registration_visualization/atlasV3/atlasV3_down32_scoreVolume_clf_30_warp_10_MD591_down32_scoreVolume_clf_30_trial_0/atlasV3_down32_scoreVolume_clf_30_warp_10_MD591_down32_scoreVolume_clf_30_trial_0_0188.jpg\n",
      "aws s3 cp /shared/CSHL_registration_visualization/atlasV3/atlasV3_down32_scoreVolume_clf_30_warp_10_MD591_down32_scoreVolume_clf_30_trial_0/atlasV3_down32_scoreVolume_clf_30_warp_10_MD591_down32_scoreVolume_clf_30_trial_0_0188.jpg s3://mousebrainatlas-data/CSHL_registration_visualization/atlasV3/atlasV3_down32_scoreVolume_clf_30_warp_10_MD591_down32_scoreVolume_clf_30_trial_0/atlasV3_down32_scoreVolume_clf_30_warp_10_MD591_down32_scoreVolume_clf_30_trial_0_0188.jpg\n",
      "/shared/CSHL_registration_visualization/atlasV3/atlasV3_down32_scoreVolume_clf_30_warp_10_MD591_down32_scoreVolume_clf_30_trial_0/atlasV3_down32_scoreVolume_clf_30_warp_10_MD591_down32_scoreVolume_clf_30_trial_0_0203.jpg\n",
      "/shared/CSHL_registration_visualization/atlasV3/atlasV3_down32_scoreVolume_clf_30_warp_10_MD591_down32_scoreVolume_clf_30_trial_0/atlasV3_down32_scoreVolume_clf_30_warp_10_MD591_down32_scoreVolume_clf_30_trial_0_0193.jpg\n"
     ]
    },
    {
     "name": "stderr",
     "output_type": "stream",
     "text": [
      "Child returned 0\n",
      "0.81 seconds.\n"
     ]
    },
    {
     "name": "stdout",
     "output_type": "stream",
     "text": [
      "aws s3 cp /shared/CSHL_registration_visualization/atlasV3/atlasV3_down32_scoreVolume_clf_30_warp_10_MD591_down32_scoreVolume_clf_30_trial_0/atlasV3_down32_scoreVolume_clf_30_warp_10_MD591_down32_scoreVolume_clf_30_trial_0_0203.jpg s3://mousebrainatlas-data/CSHL_registration_visualization/atlasV3/atlasV3_down32_scoreVolume_clf_30_warp_10_MD591_down32_scoreVolume_clf_30_trial_0/atlasV3_down32_scoreVolume_clf_30_warp_10_MD591_down32_scoreVolume_clf_30_trial_0_0203.jpg\n",
      "aws s3 cp /shared/CSHL_registration_visualization/atlasV3/atlasV3_down32_scoreVolume_clf_30_warp_10_MD591_down32_scoreVolume_clf_30_trial_0/atlasV3_down32_scoreVolume_clf_30_warp_10_MD591_down32_scoreVolume_clf_30_trial_0_0193.jpg s3://mousebrainatlas-data/CSHL_registration_visualization/atlasV3/atlasV3_down32_scoreVolume_clf_30_warp_10_MD591_down32_scoreVolume_clf_30_trial_0/atlasV3_down32_scoreVolume_clf_30_warp_10_MD591_down32_scoreVolume_clf_30_trial_0_0193.jpg\n",
      "/shared/CSHL_registration_visualization/atlasV3/atlasV3_down32_scoreVolume_clf_30_warp_10_MD591_down32_scoreVolume_clf_30_trial_0/atlasV3_down32_scoreVolume_clf_30_warp_10_MD591_down32_scoreVolume_clf_30_trial_0_0198.jpg\n"
     ]
    },
    {
     "name": "stderr",
     "output_type": "stream",
     "text": [
      "Child returned 0\n",
      "0.74 seconds.\n"
     ]
    },
    {
     "name": "stdout",
     "output_type": "stream",
     "text": [
      "aws s3 cp /shared/CSHL_registration_visualization/atlasV3/atlasV3_down32_scoreVolume_clf_30_warp_10_MD591_down32_scoreVolume_clf_30_trial_0/atlasV3_down32_scoreVolume_clf_30_warp_10_MD591_down32_scoreVolume_clf_30_trial_0_0198.jpg s3://mousebrainatlas-data/CSHL_registration_visualization/atlasV3/atlasV3_down32_scoreVolume_clf_30_warp_10_MD591_down32_scoreVolume_clf_30_trial_0/atlasV3_down32_scoreVolume_clf_30_warp_10_MD591_down32_scoreVolume_clf_30_trial_0_0198.jpg\n",
      "/shared/CSHL_registration_visualization/atlasV3/atlasV3_down32_scoreVolume_clf_30_warp_10_MD591_down32_scoreVolume_clf_30_trial_0/atlasV3_down32_scoreVolume_clf_30_warp_10_MD591_down32_scoreVolume_clf_30_trial_0_0218.jpg\n",
      "/shared/CSHL_registration_visualization/atlasV3/atlasV3_down32_scoreVolume_clf_30_warp_10_MD591_down32_scoreVolume_clf_30_trial_0/atlasV3_down32_scoreVolume_clf_30_warp_10_MD591_down32_scoreVolume_clf_30_trial_0_0208.jpg\n",
      "aws s3 cp /shared/CSHL_registration_visualization/atlasV3/atlasV3_down32_scoreVolume_clf_30_warp_10_MD591_down32_scoreVolume_clf_30_trial_0/atlasV3_down32_scoreVolume_clf_30_warp_10_MD591_down32_scoreVolume_clf_30_trial_0_0218.jpg s3://mousebrainatlas-data/CSHL_registration_visualization/atlasV3/atlasV3_down32_scoreVolume_clf_30_warp_10_MD591_down32_scoreVolume_clf_30_trial_0/atlasV3_down32_scoreVolume_clf_30_warp_10_MD591_down32_scoreVolume_clf_30_trial_0_0218.jpg\n",
      "aws s3 cp /shared/CSHL_registration_visualization/atlasV3/atlasV3_down32_scoreVolume_clf_30_warp_10_MD591_down32_scoreVolume_clf_30_trial_0/atlasV3_down32_scoreVolume_clf_30_warp_10_MD591_down32_scoreVolume_clf_30_trial_0_0208.jpg s3://mousebrainatlas-data/CSHL_registration_visualization/atlasV3/atlasV3_down32_scoreVolume_clf_30_warp_10_MD591_down32_scoreVolume_clf_30_trial_0/atlasV3_down32_scoreVolume_clf_30_warp_10_MD591_down32_scoreVolume_clf_30_trial_0_0208.jpg\n",
      "/shared/CSHL_registration_visualization/atlasV3/atlasV3_down32_scoreVolume_clf_30_warp_10_MD591_down32_scoreVolume_clf_30_trial_0/atlasV3_down32_scoreVolume_clf_30_warp_10_MD591_down32_scoreVolume_clf_30_trial_0_0213.jpg\n"
     ]
    },
    {
     "name": "stderr",
     "output_type": "stream",
     "text": [
      "Child returned 0\n",
      "0.81 seconds.\n"
     ]
    },
    {
     "name": "stdout",
     "output_type": "stream",
     "text": [
      "aws s3 cp /shared/CSHL_registration_visualization/atlasV3/atlasV3_down32_scoreVolume_clf_30_warp_10_MD591_down32_scoreVolume_clf_30_trial_0/atlasV3_down32_scoreVolume_clf_30_warp_10_MD591_down32_scoreVolume_clf_30_trial_0_0213.jpg s3://mousebrainatlas-data/CSHL_registration_visualization/atlasV3/atlasV3_down32_scoreVolume_clf_30_warp_10_MD591_down32_scoreVolume_clf_30_trial_0/atlasV3_down32_scoreVolume_clf_30_warp_10_MD591_down32_scoreVolume_clf_30_trial_0_0213.jpg\n",
      "/shared/CSHL_registration_visualization/atlasV3/atlasV3_down32_scoreVolume_clf_30_warp_10_MD591_down32_scoreVolume_clf_30_trial_0/atlasV3_down32_scoreVolume_clf_30_warp_10_MD591_down32_scoreVolume_clf_30_trial_0_0228.jpg\n",
      "aws s3 cp /shared/CSHL_registration_visualization/atlasV3/atlasV3_down32_scoreVolume_clf_30_warp_10_MD591_down32_scoreVolume_clf_30_trial_0/atlasV3_down32_scoreVolume_clf_30_warp_10_MD591_down32_scoreVolume_clf_30_trial_0_0228.jpg s3://mousebrainatlas-data/CSHL_registration_visualization/atlasV3/atlasV3_down32_scoreVolume_clf_30_warp_10_MD591_down32_scoreVolume_clf_30_trial_0/atlasV3_down32_scoreVolume_clf_30_warp_10_MD591_down32_scoreVolume_clf_30_trial_0_0228.jpg\n"
     ]
    },
    {
     "name": "stderr",
     "output_type": "stream",
     "text": [
      "Child returned 0\n",
      "0.81 seconds.\n"
     ]
    },
    {
     "name": "stdout",
     "output_type": "stream",
     "text": [
      "/shared/CSHL_registration_visualization/atlasV3/atlasV3_down32_scoreVolume_clf_30_warp_10_MD591_down32_scoreVolume_clf_30_trial_0/atlasV3_down32_scoreVolume_clf_30_warp_10_MD591_down32_scoreVolume_clf_30_trial_0_0223.jpg\n",
      "/shared/CSHL_registration_visualization/atlasV3/atlasV3_down32_scoreVolume_clf_30_warp_10_MD591_down32_scoreVolume_clf_30_trial_0/atlasV3_down32_scoreVolume_clf_30_warp_10_MD591_down32_scoreVolume_clf_30_trial_0_0174.jpg\n",
      "/shared/CSHL_registration_visualization/atlasV3/atlasV3_down32_scoreVolume_clf_30_warp_10_MD591_down32_scoreVolume_clf_30_trial_0/atlasV3_down32_scoreVolume_clf_30_warp_10_MD591_down32_scoreVolume_clf_30_trial_0_0233.jpg\n",
      "aws s3 cp /shared/CSHL_registration_visualization/atlasV3/atlasV3_down32_scoreVolume_clf_30_warp_10_MD591_down32_scoreVolume_clf_30_trial_0/atlasV3_down32_scoreVolume_clf_30_warp_10_MD591_down32_scoreVolume_clf_30_trial_0_0223.jpg s3://mousebrainatlas-data/CSHL_registration_visualization/atlasV3/atlasV3_down32_scoreVolume_clf_30_warp_10_MD591_down32_scoreVolume_clf_30_trial_0/atlasV3_down32_scoreVolume_clf_30_warp_10_MD591_down32_scoreVolume_clf_30_trial_0_0223.jpg\n",
      "aws s3 cp /shared/CSHL_registration_visualization/atlasV3/atlasV3_down32_scoreVolume_clf_30_warp_10_MD591_down32_scoreVolume_clf_30_trial_0/atlasV3_down32_scoreVolume_clf_30_warp_10_MD591_down32_scoreVolume_clf_30_trial_0_0174.jpg s3://mousebrainatlas-data/CSHL_registration_visualization/atlasV3/atlasV3_down32_scoreVolume_clf_30_warp_10_MD591_down32_scoreVolume_clf_30_trial_0/atlasV3_down32_scoreVolume_clf_30_warp_10_MD591_down32_scoreVolume_clf_30_trial_0_0174.jpg\n",
      "aws s3 cp /shared/CSHL_registration_visualization/atlasV3/atlasV3_down32_scoreVolume_clf_30_warp_10_MD591_down32_scoreVolume_clf_30_trial_0/atlasV3_down32_scoreVolume_clf_30_warp_10_MD591_down32_scoreVolume_clf_30_trial_0_0233.jpg s3://mousebrainatlas-data/CSHL_registration_visualization/atlasV3/atlasV3_down32_scoreVolume_clf_30_warp_10_MD591_down32_scoreVolume_clf_30_trial_0/atlasV3_down32_scoreVolume_clf_30_warp_10_MD591_down32_scoreVolume_clf_30_trial_0_0233.jpg\n"
     ]
    },
    {
     "name": "stderr",
     "output_type": "stream",
     "text": [
      "Child returned 0\n",
      "0.82 seconds.\n"
     ]
    },
    {
     "name": "stdout",
     "output_type": "stream",
     "text": [
      "/shared/CSHL_registration_visualization/atlasV3/atlasV3_down32_scoreVolume_clf_30_warp_10_MD591_down32_scoreVolume_clf_30_trial_0/atlasV3_down32_scoreVolume_clf_30_warp_10_MD591_down32_scoreVolume_clf_30_trial_0_0238.jpg\n"
     ]
    },
    {
     "name": "stderr",
     "output_type": "stream",
     "text": [
      "Child returned 0\n",
      "0.99 seconds.\n"
     ]
    },
    {
     "name": "stdout",
     "output_type": "stream",
     "text": [
      "aws s3 cp /shared/CSHL_registration_visualization/atlasV3/atlasV3_down32_scoreVolume_clf_30_warp_10_MD591_down32_scoreVolume_clf_30_trial_0/atlasV3_down32_scoreVolume_clf_30_warp_10_MD591_down32_scoreVolume_clf_30_trial_0_0238.jpg s3://mousebrainatlas-data/CSHL_registration_visualization/atlasV3/atlasV3_down32_scoreVolume_clf_30_warp_10_MD591_down32_scoreVolume_clf_30_trial_0/atlasV3_down32_scoreVolume_clf_30_warp_10_MD591_down32_scoreVolume_clf_30_trial_0_0238.jpg\n",
      "/shared/CSHL_registration_visualization/atlasV3/atlasV3_down32_scoreVolume_clf_30_warp_10_MD591_down32_scoreVolume_clf_30_trial_0/atlasV3_down32_scoreVolume_clf_30_warp_10_MD591_down32_scoreVolume_clf_30_trial_0_0243.jpg\n"
     ]
    },
    {
     "name": "stderr",
     "output_type": "stream",
     "text": [
      "Child returned 0\n",
      "0.80 seconds.\n"
     ]
    },
    {
     "name": "stdout",
     "output_type": "stream",
     "text": [
      "aws s3 cp /shared/CSHL_registration_visualization/atlasV3/atlasV3_down32_scoreVolume_clf_30_warp_10_MD591_down32_scoreVolume_clf_30_trial_0/atlasV3_down32_scoreVolume_clf_30_warp_10_MD591_down32_scoreVolume_clf_30_trial_0_0243.jpg s3://mousebrainatlas-data/CSHL_registration_visualization/atlasV3/atlasV3_down32_scoreVolume_clf_30_warp_10_MD591_down32_scoreVolume_clf_30_trial_0/atlasV3_down32_scoreVolume_clf_30_warp_10_MD591_down32_scoreVolume_clf_30_trial_0_0243.jpg\n"
     ]
    },
    {
     "name": "stderr",
     "output_type": "stream",
     "text": [
      "Child returned 0\n",
      "0.83 seconds.\n",
      "Child returned 0\n",
      "0.83 seconds.\n",
      "Child returned 0\n",
      "0.83 seconds.\n",
      "Child returned 0\n",
      "0.73 seconds.\n",
      "Child returned 0\n",
      "0.76 seconds.\n",
      "Child returned 0\n",
      "0.81 seconds.\n",
      "Child returned 0\n",
      "0.76 seconds.\n"
     ]
    },
    {
     "name": "stdout",
     "output_type": "stream",
     "text": [
      "/shared/CSHL_registration_visualization/atlasV3/atlasV3_down32_scoreVolume_clf_30_warp_10_MD591_down32_scoreVolume_clf_30_trial_0/atlasV3_down32_scoreVolume_clf_30_warp_10_MD591_down32_scoreVolume_clf_30_trial_0_0179.jpg\n",
      "aws s3 cp /shared/CSHL_registration_visualization/atlasV3/atlasV3_down32_scoreVolume_clf_30_warp_10_MD591_down32_scoreVolume_clf_30_trial_0/atlasV3_down32_scoreVolume_clf_30_warp_10_MD591_down32_scoreVolume_clf_30_trial_0_0179.jpg s3://mousebrainatlas-data/CSHL_registration_visualization/atlasV3/atlasV3_down32_scoreVolume_clf_30_warp_10_MD591_down32_scoreVolume_clf_30_trial_0/atlasV3_down32_scoreVolume_clf_30_warp_10_MD591_down32_scoreVolume_clf_30_trial_0_0179.jpg\n"
     ]
    },
    {
     "name": "stderr",
     "output_type": "stream",
     "text": [
      "Child returned 0\n",
      "0.81 seconds.\n"
     ]
    },
    {
     "name": "stdout",
     "output_type": "stream",
     "text": [
      "/shared/CSHL_registration_visualization/atlasV3/atlasV3_down32_scoreVolume_clf_30_warp_10_MD591_down32_scoreVolume_clf_30_trial_0/atlasV3_down32_scoreVolume_clf_30_warp_10_MD591_down32_scoreVolume_clf_30_trial_0_0184.jpg\n",
      "aws s3 cp /shared/CSHL_registration_visualization/atlasV3/atlasV3_down32_scoreVolume_clf_30_warp_10_MD591_down32_scoreVolume_clf_30_trial_0/atlasV3_down32_scoreVolume_clf_30_warp_10_MD591_down32_scoreVolume_clf_30_trial_0_0184.jpg s3://mousebrainatlas-data/CSHL_registration_visualization/atlasV3/atlasV3_down32_scoreVolume_clf_30_warp_10_MD591_down32_scoreVolume_clf_30_trial_0/atlasV3_down32_scoreVolume_clf_30_warp_10_MD591_down32_scoreVolume_clf_30_trial_0_0184.jpg\n",
      "/shared/CSHL_registration_visualization/atlasV3/atlasV3_down32_scoreVolume_clf_30_warp_10_MD591_down32_scoreVolume_clf_30_trial_0/atlasV3_down32_scoreVolume_clf_30_warp_10_MD591_down32_scoreVolume_clf_30_trial_0_0189.jpg\n",
      "aws s3 cp /shared/CSHL_registration_visualization/atlasV3/atlasV3_down32_scoreVolume_clf_30_warp_10_MD591_down32_scoreVolume_clf_30_trial_0/atlasV3_down32_scoreVolume_clf_30_warp_10_MD591_down32_scoreVolume_clf_30_trial_0_0189.jpg s3://mousebrainatlas-data/CSHL_registration_visualization/atlasV3/atlasV3_down32_scoreVolume_clf_30_warp_10_MD591_down32_scoreVolume_clf_30_trial_0/atlasV3_down32_scoreVolume_clf_30_warp_10_MD591_down32_scoreVolume_clf_30_trial_0_0189.jpg\n"
     ]
    },
    {
     "name": "stderr",
     "output_type": "stream",
     "text": [
      "Child returned 0\n",
      "0.80 seconds.\n"
     ]
    },
    {
     "name": "stdout",
     "output_type": "stream",
     "text": [
      "/shared/CSHL_registration_visualization/atlasV3/atlasV3_down32_scoreVolume_clf_30_warp_10_MD591_down32_scoreVolume_clf_30_trial_0/atlasV3_down32_scoreVolume_clf_30_warp_10_MD591_down32_scoreVolume_clf_30_trial_0_0204.jpg\n",
      "aws s3 cp /shared/CSHL_registration_visualization/atlasV3/atlasV3_down32_scoreVolume_clf_30_warp_10_MD591_down32_scoreVolume_clf_30_trial_0/atlasV3_down32_scoreVolume_clf_30_warp_10_MD591_down32_scoreVolume_clf_30_trial_0_0204.jpg s3://mousebrainatlas-data/CSHL_registration_visualization/atlasV3/atlasV3_down32_scoreVolume_clf_30_warp_10_MD591_down32_scoreVolume_clf_30_trial_0/atlasV3_down32_scoreVolume_clf_30_warp_10_MD591_down32_scoreVolume_clf_30_trial_0_0204.jpg\n"
     ]
    },
    {
     "name": "stderr",
     "output_type": "stream",
     "text": [
      "Child returned 0\n",
      "0.82 seconds.\n"
     ]
    },
    {
     "name": "stdout",
     "output_type": "stream",
     "text": [
      "/shared/CSHL_registration_visualization/atlasV3/atlasV3_down32_scoreVolume_clf_30_warp_10_MD591_down32_scoreVolume_clf_30_trial_0/atlasV3_down32_scoreVolume_clf_30_warp_10_MD591_down32_scoreVolume_clf_30_trial_0_0219.jpg\n",
      "aws s3 cp /shared/CSHL_registration_visualization/atlasV3/atlasV3_down32_scoreVolume_clf_30_warp_10_MD591_down32_scoreVolume_clf_30_trial_0/atlasV3_down32_scoreVolume_clf_30_warp_10_MD591_down32_scoreVolume_clf_30_trial_0_0219.jpg s3://mousebrainatlas-data/CSHL_registration_visualization/atlasV3/atlasV3_down32_scoreVolume_clf_30_warp_10_MD591_down32_scoreVolume_clf_30_trial_0/atlasV3_down32_scoreVolume_clf_30_warp_10_MD591_down32_scoreVolume_clf_30_trial_0_0219.jpg\n",
      "/shared/CSHL_registration_visualization/atlasV3/atlasV3_down32_scoreVolume_clf_30_warp_10_MD591_down32_scoreVolume_clf_30_trial_0/atlasV3_down32_scoreVolume_clf_30_warp_10_MD591_down32_scoreVolume_clf_30_trial_0_0194.jpg\n",
      "aws s3 cp /shared/CSHL_registration_visualization/atlasV3/atlasV3_down32_scoreVolume_clf_30_warp_10_MD591_down32_scoreVolume_clf_30_trial_0/atlasV3_down32_scoreVolume_clf_30_warp_10_MD591_down32_scoreVolume_clf_30_trial_0_0194.jpg s3://mousebrainatlas-data/CSHL_registration_visualization/atlasV3/atlasV3_down32_scoreVolume_clf_30_warp_10_MD591_down32_scoreVolume_clf_30_trial_0/atlasV3_down32_scoreVolume_clf_30_warp_10_MD591_down32_scoreVolume_clf_30_trial_0_0194.jpg\n",
      "/shared/CSHL_registration_visualization/atlasV3/atlasV3_down32_scoreVolume_clf_30_warp_10_MD591_down32_scoreVolume_clf_30_trial_0/atlasV3_down32_scoreVolume_clf_30_warp_10_MD591_down32_scoreVolume_clf_30_trial_0_0199.jpg\n"
     ]
    },
    {
     "name": "stderr",
     "output_type": "stream",
     "text": [
      "Child returned 0\n",
      "0.75 seconds.\n"
     ]
    },
    {
     "name": "stdout",
     "output_type": "stream",
     "text": [
      "aws s3 cp /shared/CSHL_registration_visualization/atlasV3/atlasV3_down32_scoreVolume_clf_30_warp_10_MD591_down32_scoreVolume_clf_30_trial_0/atlasV3_down32_scoreVolume_clf_30_warp_10_MD591_down32_scoreVolume_clf_30_trial_0_0199.jpg s3://mousebrainatlas-data/CSHL_registration_visualization/atlasV3/atlasV3_down32_scoreVolume_clf_30_warp_10_MD591_down32_scoreVolume_clf_30_trial_0/atlasV3_down32_scoreVolume_clf_30_warp_10_MD591_down32_scoreVolume_clf_30_trial_0_0199.jpg\n",
      "/shared/CSHL_registration_visualization/atlasV3/atlasV3_down32_scoreVolume_clf_30_warp_10_MD591_down32_scoreVolume_clf_30_trial_0/atlasV3_down32_scoreVolume_clf_30_warp_10_MD591_down32_scoreVolume_clf_30_trial_0_0209.jpg\n",
      "aws s3 cp /shared/CSHL_registration_visualization/atlasV3/atlasV3_down32_scoreVolume_clf_30_warp_10_MD591_down32_scoreVolume_clf_30_trial_0/atlasV3_down32_scoreVolume_clf_30_warp_10_MD591_down32_scoreVolume_clf_30_trial_0_0209.jpg s3://mousebrainatlas-data/CSHL_registration_visualization/atlasV3/atlasV3_down32_scoreVolume_clf_30_warp_10_MD591_down32_scoreVolume_clf_30_trial_0/atlasV3_down32_scoreVolume_clf_30_warp_10_MD591_down32_scoreVolume_clf_30_trial_0_0209.jpg\n",
      "/shared/CSHL_registration_visualization/atlasV3/atlasV3_down32_scoreVolume_clf_30_warp_10_MD591_down32_scoreVolume_clf_30_trial_0/atlasV3_down32_scoreVolume_clf_30_warp_10_MD591_down32_scoreVolume_clf_30_trial_0_0214.jpg\n"
     ]
    },
    {
     "name": "stderr",
     "output_type": "stream",
     "text": [
      "Child returned 0\n",
      "0.74 seconds.\n"
     ]
    },
    {
     "name": "stdout",
     "output_type": "stream",
     "text": [
      "aws s3 cp /shared/CSHL_registration_visualization/atlasV3/atlasV3_down32_scoreVolume_clf_30_warp_10_MD591_down32_scoreVolume_clf_30_trial_0/atlasV3_down32_scoreVolume_clf_30_warp_10_MD591_down32_scoreVolume_clf_30_trial_0_0214.jpg s3://mousebrainatlas-data/CSHL_registration_visualization/atlasV3/atlasV3_down32_scoreVolume_clf_30_warp_10_MD591_down32_scoreVolume_clf_30_trial_0/atlasV3_down32_scoreVolume_clf_30_warp_10_MD591_down32_scoreVolume_clf_30_trial_0_0214.jpg\n",
      "/shared/CSHL_registration_visualization/atlasV3/atlasV3_down32_scoreVolume_clf_30_warp_10_MD591_down32_scoreVolume_clf_30_trial_0/atlasV3_down32_scoreVolume_clf_30_warp_10_MD591_down32_scoreVolume_clf_30_trial_0_0229.jpg\n"
     ]
    },
    {
     "name": "stderr",
     "output_type": "stream",
     "text": [
      "Child returned 0\n",
      "0.65 seconds.\n"
     ]
    },
    {
     "name": "stdout",
     "output_type": "stream",
     "text": [
      "aws s3 cp /shared/CSHL_registration_visualization/atlasV3/atlasV3_down32_scoreVolume_clf_30_warp_10_MD591_down32_scoreVolume_clf_30_trial_0/atlasV3_down32_scoreVolume_clf_30_warp_10_MD591_down32_scoreVolume_clf_30_trial_0_0229.jpg s3://mousebrainatlas-data/CSHL_registration_visualization/atlasV3/atlasV3_down32_scoreVolume_clf_30_warp_10_MD591_down32_scoreVolume_clf_30_trial_0/atlasV3_down32_scoreVolume_clf_30_warp_10_MD591_down32_scoreVolume_clf_30_trial_0_0229.jpg\n",
      "/shared/CSHL_registration_visualization/atlasV3/atlasV3_down32_scoreVolume_clf_30_warp_10_MD591_down32_scoreVolume_clf_30_trial_0/atlasV3_down32_scoreVolume_clf_30_warp_10_MD591_down32_scoreVolume_clf_30_trial_0_0175.jpg\n",
      "aws s3 cp /shared/CSHL_registration_visualization/atlasV3/atlasV3_down32_scoreVolume_clf_30_warp_10_MD591_down32_scoreVolume_clf_30_trial_0/atlasV3_down32_scoreVolume_clf_30_warp_10_MD591_down32_scoreVolume_clf_30_trial_0_0175.jpg s3://mousebrainatlas-data/CSHL_registration_visualization/atlasV3/atlasV3_down32_scoreVolume_clf_30_warp_10_MD591_down32_scoreVolume_clf_30_trial_0/atlasV3_down32_scoreVolume_clf_30_warp_10_MD591_down32_scoreVolume_clf_30_trial_0_0175.jpg\n",
      "/shared/CSHL_registration_visualization/atlasV3/atlasV3_down32_scoreVolume_clf_30_warp_10_MD591_down32_scoreVolume_clf_30_trial_0/atlasV3_down32_scoreVolume_clf_30_warp_10_MD591_down32_scoreVolume_clf_30_trial_0_0224.jpg\n",
      "/shared/CSHL_registration_visualization/atlasV3/atlasV3_down32_scoreVolume_clf_30_warp_10_MD591_down32_scoreVolume_clf_30_trial_0/atlasV3_down32_scoreVolume_clf_30_warp_10_MD591_down32_scoreVolume_clf_30_trial_0_0234.jpg\n"
     ]
    },
    {
     "name": "stderr",
     "output_type": "stream",
     "text": [
      "Child returned 0\n"
     ]
    },
    {
     "name": "stdout",
     "output_type": "stream",
     "text": [
      "aws s3 cp /shared/CSHL_registration_visualization/atlasV3/atlasV3_down32_scoreVolume_clf_30_warp_10_MD591_down32_scoreVolume_clf_30_trial_0/atlasV3_down32_scoreVolume_clf_30_warp_10_MD591_down32_scoreVolume_clf_30_trial_0_0224.jpg s3://mousebrainatlas-data/CSHL_registration_visualization/atlasV3/atlasV3_down32_scoreVolume_clf_30_warp_10_MD591_down32_scoreVolume_clf_30_trial_0/atlasV3_down32_scoreVolume_clf_30_warp_10_MD591_down32_scoreVolume_clf_30_trial_0_0224.jpg\n"
     ]
    },
    {
     "name": "stderr",
     "output_type": "stream",
     "text": [
      "0.74 seconds.\n"
     ]
    },
    {
     "name": "stdout",
     "output_type": "stream",
     "text": [
      "aws s3 cp /shared/CSHL_registration_visualization/atlasV3/atlasV3_down32_scoreVolume_clf_30_warp_10_MD591_down32_scoreVolume_clf_30_trial_0/atlasV3_down32_scoreVolume_clf_30_warp_10_MD591_down32_scoreVolume_clf_30_trial_0_0234.jpg s3://mousebrainatlas-data/CSHL_registration_visualization/atlasV3/atlasV3_down32_scoreVolume_clf_30_warp_10_MD591_down32_scoreVolume_clf_30_trial_0/atlasV3_down32_scoreVolume_clf_30_warp_10_MD591_down32_scoreVolume_clf_30_trial_0_0234.jpg\n"
     ]
    },
    {
     "name": "stderr",
     "output_type": "stream",
     "text": [
      "Child returned 0\n",
      "0.74 seconds.\n"
     ]
    },
    {
     "name": "stdout",
     "output_type": "stream",
     "text": [
      "/shared/CSHL_registration_visualization/atlasV3/atlasV3_down32_scoreVolume_clf_30_warp_10_MD591_down32_scoreVolume_clf_30_trial_0/atlasV3_down32_scoreVolume_clf_30_warp_10_MD591_down32_scoreVolume_clf_30_trial_0_0239.jpg\n",
      "aws s3 cp /shared/CSHL_registration_visualization/atlasV3/atlasV3_down32_scoreVolume_clf_30_warp_10_MD591_down32_scoreVolume_clf_30_trial_0/atlasV3_down32_scoreVolume_clf_30_warp_10_MD591_down32_scoreVolume_clf_30_trial_0_0239.jpg s3://mousebrainatlas-data/CSHL_registration_visualization/atlasV3/atlasV3_down32_scoreVolume_clf_30_warp_10_MD591_down32_scoreVolume_clf_30_trial_0/atlasV3_down32_scoreVolume_clf_30_warp_10_MD591_down32_scoreVolume_clf_30_trial_0_0239.jpg\n"
     ]
    },
    {
     "name": "stderr",
     "output_type": "stream",
     "text": [
      "Child returned 0\n",
      "0.83 seconds.\n"
     ]
    },
    {
     "name": "stdout",
     "output_type": "stream",
     "text": [
      "/shared/CSHL_registration_visualization/atlasV3/atlasV3_down32_scoreVolume_clf_30_warp_10_MD591_down32_scoreVolume_clf_30_trial_0/atlasV3_down32_scoreVolume_clf_30_warp_10_MD591_down32_scoreVolume_clf_30_trial_0_0244.jpg\n",
      "aws s3 cp /shared/CSHL_registration_visualization/atlasV3/atlasV3_down32_scoreVolume_clf_30_warp_10_MD591_down32_scoreVolume_clf_30_trial_0/atlasV3_down32_scoreVolume_clf_30_warp_10_MD591_down32_scoreVolume_clf_30_trial_0_0244.jpg s3://mousebrainatlas-data/CSHL_registration_visualization/atlasV3/atlasV3_down32_scoreVolume_clf_30_warp_10_MD591_down32_scoreVolume_clf_30_trial_0/atlasV3_down32_scoreVolume_clf_30_warp_10_MD591_down32_scoreVolume_clf_30_trial_0_0244.jpg\n"
     ]
    },
    {
     "name": "stderr",
     "output_type": "stream",
     "text": [
      "Child returned 0\n",
      "0.80 seconds.\n",
      "Child returned 0\n",
      "0.78 seconds.\n",
      "Child returned 0\n",
      "0.77 seconds.\n",
      "Child returned 0\n",
      "0.82 seconds.\n",
      "Child returned 0\n",
      "0.83 seconds.\n"
     ]
    },
    {
     "name": "stdout",
     "output_type": "stream",
     "text": [
      "/shared/CSHL_registration_visualization/atlasV3/atlasV3_down32_scoreVolume_clf_30_warp_10_MD591_down32_scoreVolume_clf_30_trial_0/atlasV3_down32_scoreVolume_clf_30_warp_10_MD591_down32_scoreVolume_clf_30_trial_0_0180.jpg\n",
      "aws s3 cp /shared/CSHL_registration_visualization/atlasV3/atlasV3_down32_scoreVolume_clf_30_warp_10_MD591_down32_scoreVolume_clf_30_trial_0/atlasV3_down32_scoreVolume_clf_30_warp_10_MD591_down32_scoreVolume_clf_30_trial_0_0180.jpg s3://mousebrainatlas-data/CSHL_registration_visualization/atlasV3/atlasV3_down32_scoreVolume_clf_30_warp_10_MD591_down32_scoreVolume_clf_30_trial_0/atlasV3_down32_scoreVolume_clf_30_warp_10_MD591_down32_scoreVolume_clf_30_trial_0_0180.jpg\n"
     ]
    },
    {
     "name": "stderr",
     "output_type": "stream",
     "text": [
      "Child returned 0\n",
      "Child returned 0\n",
      "0.85 seconds.\n"
     ]
    },
    {
     "name": "stdout",
     "output_type": "stream",
     "text": [
      "/shared/CSHL_registration_visualization/atlasV3/atlasV3_down32_scoreVolume_clf_30_warp_10_MD591_down32_scoreVolume_clf_30_trial_0/atlasV3_down32_scoreVolume_clf_30_warp_10_MD591_down32_scoreVolume_clf_30_trial_0_0185.jpg\n"
     ]
    },
    {
     "name": "stderr",
     "output_type": "stream",
     "text": [
      "0.70 seconds.\n"
     ]
    },
    {
     "name": "stdout",
     "output_type": "stream",
     "text": [
      "aws s3 cp /shared/CSHL_registration_visualization/atlasV3/atlasV3_down32_scoreVolume_clf_30_warp_10_MD591_down32_scoreVolume_clf_30_trial_0/atlasV3_down32_scoreVolume_clf_30_warp_10_MD591_down32_scoreVolume_clf_30_trial_0_0185.jpg s3://mousebrainatlas-data/CSHL_registration_visualization/atlasV3/atlasV3_down32_scoreVolume_clf_30_warp_10_MD591_down32_scoreVolume_clf_30_trial_0/atlasV3_down32_scoreVolume_clf_30_warp_10_MD591_down32_scoreVolume_clf_30_trial_0_0185.jpg\n",
      "/shared/CSHL_registration_visualization/atlasV3/atlasV3_down32_scoreVolume_clf_30_warp_10_MD591_down32_scoreVolume_clf_30_trial_0/atlasV3_down32_scoreVolume_clf_30_warp_10_MD591_down32_scoreVolume_clf_30_trial_0_0190.jpg\n",
      "aws s3 cp /shared/CSHL_registration_visualization/atlasV3/atlasV3_down32_scoreVolume_clf_30_warp_10_MD591_down32_scoreVolume_clf_30_trial_0/atlasV3_down32_scoreVolume_clf_30_warp_10_MD591_down32_scoreVolume_clf_30_trial_0_0190.jpg s3://mousebrainatlas-data/CSHL_registration_visualization/atlasV3/atlasV3_down32_scoreVolume_clf_30_warp_10_MD591_down32_scoreVolume_clf_30_trial_0/atlasV3_down32_scoreVolume_clf_30_warp_10_MD591_down32_scoreVolume_clf_30_trial_0_0190.jpg\n"
     ]
    },
    {
     "name": "stderr",
     "output_type": "stream",
     "text": [
      "Child returned 0\n",
      "0.77 seconds.\n"
     ]
    },
    {
     "name": "stdout",
     "output_type": "stream",
     "text": [
      "/shared/CSHL_registration_visualization/atlasV3/atlasV3_down32_scoreVolume_clf_30_warp_10_MD591_down32_scoreVolume_clf_30_trial_0/atlasV3_down32_scoreVolume_clf_30_warp_10_MD591_down32_scoreVolume_clf_30_trial_0_0220.jpg\n",
      "aws s3 cp /shared/CSHL_registration_visualization/atlasV3/atlasV3_down32_scoreVolume_clf_30_warp_10_MD591_down32_scoreVolume_clf_30_trial_0/atlasV3_down32_scoreVolume_clf_30_warp_10_MD591_down32_scoreVolume_clf_30_trial_0_0220.jpg s3://mousebrainatlas-data/CSHL_registration_visualization/atlasV3/atlasV3_down32_scoreVolume_clf_30_warp_10_MD591_down32_scoreVolume_clf_30_trial_0/atlasV3_down32_scoreVolume_clf_30_warp_10_MD591_down32_scoreVolume_clf_30_trial_0_0220.jpg\n"
     ]
    },
    {
     "name": "stderr",
     "output_type": "stream",
     "text": [
      "Child returned 0\n",
      "0.77 seconds.\n"
     ]
    },
    {
     "name": "stdout",
     "output_type": "stream",
     "text": [
      "/shared/CSHL_registration_visualization/atlasV3/atlasV3_down32_scoreVolume_clf_30_warp_10_MD591_down32_scoreVolume_clf_30_trial_0/atlasV3_down32_scoreVolume_clf_30_warp_10_MD591_down32_scoreVolume_clf_30_trial_0_0205.jpg\n",
      "aws s3 cp /shared/CSHL_registration_visualization/atlasV3/atlasV3_down32_scoreVolume_clf_30_warp_10_MD591_down32_scoreVolume_clf_30_trial_0/atlasV3_down32_scoreVolume_clf_30_warp_10_MD591_down32_scoreVolume_clf_30_trial_0_0205.jpg s3://mousebrainatlas-data/CSHL_registration_visualization/atlasV3/atlasV3_down32_scoreVolume_clf_30_warp_10_MD591_down32_scoreVolume_clf_30_trial_0/atlasV3_down32_scoreVolume_clf_30_warp_10_MD591_down32_scoreVolume_clf_30_trial_0_0205.jpg\n",
      "/shared/CSHL_registration_visualization/atlasV3/atlasV3_down32_scoreVolume_clf_30_warp_10_MD591_down32_scoreVolume_clf_30_trial_0/atlasV3_down32_scoreVolume_clf_30_warp_10_MD591_down32_scoreVolume_clf_30_trial_0_0195.jpg\n",
      "/shared/CSHL_registration_visualization/atlasV3/atlasV3_down32_scoreVolume_clf_30_warp_10_MD591_down32_scoreVolume_clf_30_trial_0/atlasV3_down32_scoreVolume_clf_30_warp_10_MD591_down32_scoreVolume_clf_30_trial_0_0200.jpg\n",
      "aws s3 cp /shared/CSHL_registration_visualization/atlasV3/atlasV3_down32_scoreVolume_clf_30_warp_10_MD591_down32_scoreVolume_clf_30_trial_0/atlasV3_down32_scoreVolume_clf_30_warp_10_MD591_down32_scoreVolume_clf_30_trial_0_0200.jpg s3://mousebrainatlas-data/CSHL_registration_visualization/atlasV3/atlasV3_down32_scoreVolume_clf_30_warp_10_MD591_down32_scoreVolume_clf_30_trial_0/atlasV3_down32_scoreVolume_clf_30_warp_10_MD591_down32_scoreVolume_clf_30_trial_0_0200.jpg\n",
      "aws s3 cp /shared/CSHL_registration_visualization/atlasV3/atlasV3_down32_scoreVolume_clf_30_warp_10_MD591_down32_scoreVolume_clf_30_trial_0/atlasV3_down32_scoreVolume_clf_30_warp_10_MD591_down32_scoreVolume_clf_30_trial_0_0195.jpg s3://mousebrainatlas-data/CSHL_registration_visualization/atlasV3/atlasV3_down32_scoreVolume_clf_30_warp_10_MD591_down32_scoreVolume_clf_30_trial_0/atlasV3_down32_scoreVolume_clf_30_warp_10_MD591_down32_scoreVolume_clf_30_trial_0_0195.jpg\n"
     ]
    },
    {
     "name": "stderr",
     "output_type": "stream",
     "text": [
      "Child returned 0\n",
      "0.82 seconds.\n"
     ]
    },
    {
     "name": "stdout",
     "output_type": "stream",
     "text": [
      "/shared/CSHL_registration_visualization/atlasV3/atlasV3_down32_scoreVolume_clf_30_warp_10_MD591_down32_scoreVolume_clf_30_trial_0/atlasV3_down32_scoreVolume_clf_30_warp_10_MD591_down32_scoreVolume_clf_30_trial_0_0210.jpg\n",
      "aws s3 cp /shared/CSHL_registration_visualization/atlasV3/atlasV3_down32_scoreVolume_clf_30_warp_10_MD591_down32_scoreVolume_clf_30_trial_0/atlasV3_down32_scoreVolume_clf_30_warp_10_MD591_down32_scoreVolume_clf_30_trial_0_0210.jpg s3://mousebrainatlas-data/CSHL_registration_visualization/atlasV3/atlasV3_down32_scoreVolume_clf_30_warp_10_MD591_down32_scoreVolume_clf_30_trial_0/atlasV3_down32_scoreVolume_clf_30_warp_10_MD591_down32_scoreVolume_clf_30_trial_0_0210.jpg\n"
     ]
    },
    {
     "name": "stderr",
     "output_type": "stream",
     "text": [
      "Child returned 0\n",
      "0.73 seconds.\n",
      "Child returned 0\n",
      "0.75 seconds.\n"
     ]
    },
    {
     "name": "stdout",
     "output_type": "stream",
     "text": [
      "/shared/CSHL_registration_visualization/atlasV3/atlasV3_down32_scoreVolume_clf_30_warp_10_MD591_down32_scoreVolume_clf_30_trial_0/atlasV3_down32_scoreVolume_clf_30_warp_10_MD591_down32_scoreVolume_clf_30_trial_0_0230.jpg\n",
      "aws s3 cp /shared/CSHL_registration_visualization/atlasV3/atlasV3_down32_scoreVolume_clf_30_warp_10_MD591_down32_scoreVolume_clf_30_trial_0/atlasV3_down32_scoreVolume_clf_30_warp_10_MD591_down32_scoreVolume_clf_30_trial_0_0230.jpg s3://mousebrainatlas-data/CSHL_registration_visualization/atlasV3/atlasV3_down32_scoreVolume_clf_30_warp_10_MD591_down32_scoreVolume_clf_30_trial_0/atlasV3_down32_scoreVolume_clf_30_warp_10_MD591_down32_scoreVolume_clf_30_trial_0_0230.jpg\n",
      "/shared/CSHL_registration_visualization/atlasV3/atlasV3_down32_scoreVolume_clf_30_warp_10_MD591_down32_scoreVolume_clf_30_trial_0/atlasV3_down32_scoreVolume_clf_30_warp_10_MD591_down32_scoreVolume_clf_30_trial_0_0176.jpg\n",
      "/shared/CSHL_registration_visualization/atlasV3/atlasV3_down32_scoreVolume_clf_30_warp_10_MD591_down32_scoreVolume_clf_30_trial_0/atlasV3_down32_scoreVolume_clf_30_warp_10_MD591_down32_scoreVolume_clf_30_trial_0_0215.jpg\n",
      "aws s3 cp /shared/CSHL_registration_visualization/atlasV3/atlasV3_down32_scoreVolume_clf_30_warp_10_MD591_down32_scoreVolume_clf_30_trial_0/atlasV3_down32_scoreVolume_clf_30_warp_10_MD591_down32_scoreVolume_clf_30_trial_0_0215.jpg s3://mousebrainatlas-data/CSHL_registration_visualization/atlasV3/atlasV3_down32_scoreVolume_clf_30_warp_10_MD591_down32_scoreVolume_clf_30_trial_0/atlasV3_down32_scoreVolume_clf_30_warp_10_MD591_down32_scoreVolume_clf_30_trial_0_0215.jpg\n",
      "aws s3 cp /shared/CSHL_registration_visualization/atlasV3/atlasV3_down32_scoreVolume_clf_30_warp_10_MD591_down32_scoreVolume_clf_30_trial_0/atlasV3_down32_scoreVolume_clf_30_warp_10_MD591_down32_scoreVolume_clf_30_trial_0_0176.jpg s3://mousebrainatlas-data/CSHL_registration_visualization/atlasV3/atlasV3_down32_scoreVolume_clf_30_warp_10_MD591_down32_scoreVolume_clf_30_trial_0/atlasV3_down32_scoreVolume_clf_30_warp_10_MD591_down32_scoreVolume_clf_30_trial_0_0176.jpg\n"
     ]
    },
    {
     "name": "stderr",
     "output_type": "stream",
     "text": [
      "Child returned 0\n",
      "0.76 seconds.\n"
     ]
    },
    {
     "name": "stdout",
     "output_type": "stream",
     "text": [
      "/shared/CSHL_registration_visualization/atlasV3/atlasV3_down32_scoreVolume_clf_30_warp_10_MD591_down32_scoreVolume_clf_30_trial_0/atlasV3_down32_scoreVolume_clf_30_warp_10_MD591_down32_scoreVolume_clf_30_trial_0_0235.jpg\n"
     ]
    },
    {
     "name": "stderr",
     "output_type": "stream",
     "text": [
      "Child returned 0\n",
      "0.81 seconds.\n"
     ]
    },
    {
     "name": "stdout",
     "output_type": "stream",
     "text": [
      "aws s3 cp /shared/CSHL_registration_visualization/atlasV3/atlasV3_down32_scoreVolume_clf_30_warp_10_MD591_down32_scoreVolume_clf_30_trial_0/atlasV3_down32_scoreVolume_clf_30_warp_10_MD591_down32_scoreVolume_clf_30_trial_0_0235.jpg s3://mousebrainatlas-data/CSHL_registration_visualization/atlasV3/atlasV3_down32_scoreVolume_clf_30_warp_10_MD591_down32_scoreVolume_clf_30_trial_0/atlasV3_down32_scoreVolume_clf_30_warp_10_MD591_down32_scoreVolume_clf_30_trial_0_0235.jpg\n",
      "/shared/CSHL_registration_visualization/atlasV3/atlasV3_down32_scoreVolume_clf_30_warp_10_MD591_down32_scoreVolume_clf_30_trial_0/atlasV3_down32_scoreVolume_clf_30_warp_10_MD591_down32_scoreVolume_clf_30_trial_0_0225.jpg\n",
      "/shared/CSHL_registration_visualization/atlasV3/atlasV3_down32_scoreVolume_clf_30_warp_10_MD591_down32_scoreVolume_clf_30_trial_0/atlasV3_down32_scoreVolume_clf_30_warp_10_MD591_down32_scoreVolume_clf_30_trial_0_0245.jpg\n",
      "/shared/CSHL_registration_visualization/atlasV3/atlasV3_down32_scoreVolume_clf_30_warp_10_MD591_down32_scoreVolume_clf_30_trial_0/atlasV3_down32_scoreVolume_clf_30_warp_10_MD591_down32_scoreVolume_clf_30_trial_0_0240.jpg\n",
      "aws s3 cp /shared/CSHL_registration_visualization/atlasV3/atlasV3_down32_scoreVolume_clf_30_warp_10_MD591_down32_scoreVolume_clf_30_trial_0/atlasV3_down32_scoreVolume_clf_30_warp_10_MD591_down32_scoreVolume_clf_30_trial_0_0225.jpg s3://mousebrainatlas-data/CSHL_registration_visualization/atlasV3/atlasV3_down32_scoreVolume_clf_30_warp_10_MD591_down32_scoreVolume_clf_30_trial_0/atlasV3_down32_scoreVolume_clf_30_warp_10_MD591_down32_scoreVolume_clf_30_trial_0_0225.jpg\n",
      "aws s3 cp /shared/CSHL_registration_visualization/atlasV3/atlasV3_down32_scoreVolume_clf_30_warp_10_MD591_down32_scoreVolume_clf_30_trial_0/atlasV3_down32_scoreVolume_clf_30_warp_10_MD591_down32_scoreVolume_clf_30_trial_0_0245.jpg s3://mousebrainatlas-data/CSHL_registration_visualization/atlasV3/atlasV3_down32_scoreVolume_clf_30_warp_10_MD591_down32_scoreVolume_clf_30_trial_0/atlasV3_down32_scoreVolume_clf_30_warp_10_MD591_down32_scoreVolume_clf_30_trial_0_0245.jpg\n",
      "aws s3 cp /shared/CSHL_registration_visualization/atlasV3/atlasV3_down32_scoreVolume_clf_30_warp_10_MD591_down32_scoreVolume_clf_30_trial_0/atlasV3_down32_scoreVolume_clf_30_warp_10_MD591_down32_scoreVolume_clf_30_trial_0_0240.jpg s3://mousebrainatlas-data/CSHL_registration_visualization/atlasV3/atlasV3_down32_scoreVolume_clf_30_warp_10_MD591_down32_scoreVolume_clf_30_trial_0/atlasV3_down32_scoreVolume_clf_30_warp_10_MD591_down32_scoreVolume_clf_30_trial_0_0240.jpg\n"
     ]
    },
    {
     "name": "stderr",
     "output_type": "stream",
     "text": [
      "Child returned 0\n",
      "0.77 seconds.\n",
      "Child returned 0\n",
      "Child returned 0\n",
      "0.72 seconds.\n",
      "0.80 seconds.\n",
      "Child returned 0\n",
      "0.75 seconds.\n",
      "Child returned 0\n",
      "0.77 seconds.\n",
      "Child returned 0\n",
      "0.74 seconds.\n",
      "Child returned 0\n",
      "0.75 seconds.\n"
     ]
    },
    {
     "name": "stdout",
     "output_type": "stream",
     "text": [
      "/shared/CSHL_registration_visualization/atlasV3/atlasV3_down32_scoreVolume_clf_30_warp_10_MD591_down32_scoreVolume_clf_30_trial_0/atlasV3_down32_scoreVolume_clf_30_warp_10_MD591_down32_scoreVolume_clf_30_trial_0_0181.jpg\n",
      "/shared/CSHL_registration_visualization/atlasV3/atlasV3_down32_scoreVolume_clf_30_warp_10_MD591_down32_scoreVolume_clf_30_trial_0/atlasV3_down32_scoreVolume_clf_30_warp_10_MD591_down32_scoreVolume_clf_30_trial_0_0186.jpg\n",
      "aws s3 cp /shared/CSHL_registration_visualization/atlasV3/atlasV3_down32_scoreVolume_clf_30_warp_10_MD591_down32_scoreVolume_clf_30_trial_0/atlasV3_down32_scoreVolume_clf_30_warp_10_MD591_down32_scoreVolume_clf_30_trial_0_0181.jpg s3://mousebrainatlas-data/CSHL_registration_visualization/atlasV3/atlasV3_down32_scoreVolume_clf_30_warp_10_MD591_down32_scoreVolume_clf_30_trial_0/atlasV3_down32_scoreVolume_clf_30_warp_10_MD591_down32_scoreVolume_clf_30_trial_0_0181.jpg\n",
      "aws s3 cp /shared/CSHL_registration_visualization/atlasV3/atlasV3_down32_scoreVolume_clf_30_warp_10_MD591_down32_scoreVolume_clf_30_trial_0/atlasV3_down32_scoreVolume_clf_30_warp_10_MD591_down32_scoreVolume_clf_30_trial_0_0186.jpg s3://mousebrainatlas-data/CSHL_registration_visualization/atlasV3/atlasV3_down32_scoreVolume_clf_30_warp_10_MD591_down32_scoreVolume_clf_30_trial_0/atlasV3_down32_scoreVolume_clf_30_warp_10_MD591_down32_scoreVolume_clf_30_trial_0_0186.jpg\n"
     ]
    },
    {
     "name": "stderr",
     "output_type": "stream",
     "text": [
      "Child returned 0\n",
      "0.96 seconds.\n"
     ]
    },
    {
     "name": "stdout",
     "output_type": "stream",
     "text": [
      "/shared/CSHL_registration_visualization/atlasV3/atlasV3_down32_scoreVolume_clf_30_warp_10_MD591_down32_scoreVolume_clf_30_trial_0/atlasV3_down32_scoreVolume_clf_30_warp_10_MD591_down32_scoreVolume_clf_30_trial_0_0191.jpg\n",
      "aws s3 cp /shared/CSHL_registration_visualization/atlasV3/atlasV3_down32_scoreVolume_clf_30_warp_10_MD591_down32_scoreVolume_clf_30_trial_0/atlasV3_down32_scoreVolume_clf_30_warp_10_MD591_down32_scoreVolume_clf_30_trial_0_0191.jpg s3://mousebrainatlas-data/CSHL_registration_visualization/atlasV3/atlasV3_down32_scoreVolume_clf_30_warp_10_MD591_down32_scoreVolume_clf_30_trial_0/atlasV3_down32_scoreVolume_clf_30_warp_10_MD591_down32_scoreVolume_clf_30_trial_0_0191.jpg\n",
      "/shared/CSHL_registration_visualization/atlasV3/atlasV3_down32_scoreVolume_clf_30_warp_10_MD591_down32_scoreVolume_clf_30_trial_0/atlasV3_down32_scoreVolume_clf_30_warp_10_MD591_down32_scoreVolume_clf_30_trial_0_0221.jpg\n",
      "aws s3 cp /shared/CSHL_registration_visualization/atlasV3/atlasV3_down32_scoreVolume_clf_30_warp_10_MD591_down32_scoreVolume_clf_30_trial_0/atlasV3_down32_scoreVolume_clf_30_warp_10_MD591_down32_scoreVolume_clf_30_trial_0_0221.jpg s3://mousebrainatlas-data/CSHL_registration_visualization/atlasV3/atlasV3_down32_scoreVolume_clf_30_warp_10_MD591_down32_scoreVolume_clf_30_trial_0/atlasV3_down32_scoreVolume_clf_30_warp_10_MD591_down32_scoreVolume_clf_30_trial_0_0221.jpg\n"
     ]
    },
    {
     "name": "stderr",
     "output_type": "stream",
     "text": [
      "Child returned 0\n",
      "0.73 seconds.\n",
      "Child returned 0\n",
      "0.77 seconds.\n"
     ]
    },
    {
     "name": "stdout",
     "output_type": "stream",
     "text": [
      "/shared/CSHL_registration_visualization/atlasV3/atlasV3_down32_scoreVolume_clf_30_warp_10_MD591_down32_scoreVolume_clf_30_trial_0/atlasV3_down32_scoreVolume_clf_30_warp_10_MD591_down32_scoreVolume_clf_30_trial_0_0206.jpg\n",
      "aws s3 cp /shared/CSHL_registration_visualization/atlasV3/atlasV3_down32_scoreVolume_clf_30_warp_10_MD591_down32_scoreVolume_clf_30_trial_0/atlasV3_down32_scoreVolume_clf_30_warp_10_MD591_down32_scoreVolume_clf_30_trial_0_0206.jpg s3://mousebrainatlas-data/CSHL_registration_visualization/atlasV3/atlasV3_down32_scoreVolume_clf_30_warp_10_MD591_down32_scoreVolume_clf_30_trial_0/atlasV3_down32_scoreVolume_clf_30_warp_10_MD591_down32_scoreVolume_clf_30_trial_0_0206.jpg\n",
      "/shared/CSHL_registration_visualization/atlasV3/atlasV3_down32_scoreVolume_clf_30_warp_10_MD591_down32_scoreVolume_clf_30_trial_0/atlasV3_down32_scoreVolume_clf_30_warp_10_MD591_down32_scoreVolume_clf_30_trial_0_0201.jpg\n",
      "/shared/CSHL_registration_visualization/atlasV3/atlasV3_down32_scoreVolume_clf_30_warp_10_MD591_down32_scoreVolume_clf_30_trial_0/atlasV3_down32_scoreVolume_clf_30_warp_10_MD591_down32_scoreVolume_clf_30_trial_0_0196.jpg\n",
      "aws s3 cp /shared/CSHL_registration_visualization/atlasV3/atlasV3_down32_scoreVolume_clf_30_warp_10_MD591_down32_scoreVolume_clf_30_trial_0/atlasV3_down32_scoreVolume_clf_30_warp_10_MD591_down32_scoreVolume_clf_30_trial_0_0201.jpg s3://mousebrainatlas-data/CSHL_registration_visualization/atlasV3/atlasV3_down32_scoreVolume_clf_30_warp_10_MD591_down32_scoreVolume_clf_30_trial_0/atlasV3_down32_scoreVolume_clf_30_warp_10_MD591_down32_scoreVolume_clf_30_trial_0_0201.jpg\n",
      "aws s3 cp /shared/CSHL_registration_visualization/atlasV3/atlasV3_down32_scoreVolume_clf_30_warp_10_MD591_down32_scoreVolume_clf_30_trial_0/atlasV3_down32_scoreVolume_clf_30_warp_10_MD591_down32_scoreVolume_clf_30_trial_0_0196.jpg s3://mousebrainatlas-data/CSHL_registration_visualization/atlasV3/atlasV3_down32_scoreVolume_clf_30_warp_10_MD591_down32_scoreVolume_clf_30_trial_0/atlasV3_down32_scoreVolume_clf_30_warp_10_MD591_down32_scoreVolume_clf_30_trial_0_0196.jpg\n",
      "/shared/CSHL_registration_visualization/atlasV3/atlasV3_down32_scoreVolume_clf_30_warp_10_MD591_down32_scoreVolume_clf_30_trial_0/atlasV3_down32_scoreVolume_clf_30_warp_10_MD591_down32_scoreVolume_clf_30_trial_0_0211.jpg\n",
      "aws s3 cp /shared/CSHL_registration_visualization/atlasV3/atlasV3_down32_scoreVolume_clf_30_warp_10_MD591_down32_scoreVolume_clf_30_trial_0/atlasV3_down32_scoreVolume_clf_30_warp_10_MD591_down32_scoreVolume_clf_30_trial_0_0211.jpg s3://mousebrainatlas-data/CSHL_registration_visualization/atlasV3/atlasV3_down32_scoreVolume_clf_30_warp_10_MD591_down32_scoreVolume_clf_30_trial_0/atlasV3_down32_scoreVolume_clf_30_warp_10_MD591_down32_scoreVolume_clf_30_trial_0_0211.jpg\n"
     ]
    },
    {
     "name": "stderr",
     "output_type": "stream",
     "text": [
      "Child returned 0\n",
      "0.83 seconds.\n",
      "Child returned 0\n",
      "0.78 seconds.\n"
     ]
    },
    {
     "name": "stdout",
     "output_type": "stream",
     "text": [
      "/shared/CSHL_registration_visualization/atlasV3/atlasV3_down32_scoreVolume_clf_30_warp_10_MD591_down32_scoreVolume_clf_30_trial_0/atlasV3_down32_scoreVolume_clf_30_warp_10_MD591_down32_scoreVolume_clf_30_trial_0_0177.jpg\n",
      "/shared/CSHL_registration_visualization/atlasV3/atlasV3_down32_scoreVolume_clf_30_warp_10_MD591_down32_scoreVolume_clf_30_trial_0/atlasV3_down32_scoreVolume_clf_30_warp_10_MD591_down32_scoreVolume_clf_30_trial_0_0231.jpg\n",
      "aws s3 cp /shared/CSHL_registration_visualization/atlasV3/atlasV3_down32_scoreVolume_clf_30_warp_10_MD591_down32_scoreVolume_clf_30_trial_0/atlasV3_down32_scoreVolume_clf_30_warp_10_MD591_down32_scoreVolume_clf_30_trial_0_0177.jpg s3://mousebrainatlas-data/CSHL_registration_visualization/atlasV3/atlasV3_down32_scoreVolume_clf_30_warp_10_MD591_down32_scoreVolume_clf_30_trial_0/atlasV3_down32_scoreVolume_clf_30_warp_10_MD591_down32_scoreVolume_clf_30_trial_0_0177.jpg\n",
      "/shared/CSHL_registration_visualization/atlasV3/atlasV3_down32_scoreVolume_clf_30_warp_10_MD591_down32_scoreVolume_clf_30_trial_0/atlasV3_down32_scoreVolume_clf_30_warp_10_MD591_down32_scoreVolume_clf_30_trial_0_0216.jpg\n"
     ]
    },
    {
     "name": "stderr",
     "output_type": "stream",
     "text": [
      "Child returned 0\n",
      "0.85 seconds.\n"
     ]
    },
    {
     "name": "stdout",
     "output_type": "stream",
     "text": [
      "aws s3 cp /shared/CSHL_registration_visualization/atlasV3/atlasV3_down32_scoreVolume_clf_30_warp_10_MD591_down32_scoreVolume_clf_30_trial_0/atlasV3_down32_scoreVolume_clf_30_warp_10_MD591_down32_scoreVolume_clf_30_trial_0_0231.jpg s3://mousebrainatlas-data/CSHL_registration_visualization/atlasV3/atlasV3_down32_scoreVolume_clf_30_warp_10_MD591_down32_scoreVolume_clf_30_trial_0/atlasV3_down32_scoreVolume_clf_30_warp_10_MD591_down32_scoreVolume_clf_30_trial_0_0231.jpg\n",
      "aws s3 cp /shared/CSHL_registration_visualization/atlasV3/atlasV3_down32_scoreVolume_clf_30_warp_10_MD591_down32_scoreVolume_clf_30_trial_0/atlasV3_down32_scoreVolume_clf_30_warp_10_MD591_down32_scoreVolume_clf_30_trial_0_0216.jpg s3://mousebrainatlas-data/CSHL_registration_visualization/atlasV3/atlasV3_down32_scoreVolume_clf_30_warp_10_MD591_down32_scoreVolume_clf_30_trial_0/atlasV3_down32_scoreVolume_clf_30_warp_10_MD591_down32_scoreVolume_clf_30_trial_0_0216.jpg\n",
      "/shared/CSHL_registration_visualization/atlasV3/atlasV3_down32_scoreVolume_clf_30_warp_10_MD591_down32_scoreVolume_clf_30_trial_0/atlasV3_down32_scoreVolume_clf_30_warp_10_MD591_down32_scoreVolume_clf_30_trial_0_0236.jpg\n",
      "aws s3 cp /shared/CSHL_registration_visualization/atlasV3/atlasV3_down32_scoreVolume_clf_30_warp_10_MD591_down32_scoreVolume_clf_30_trial_0/atlasV3_down32_scoreVolume_clf_30_warp_10_MD591_down32_scoreVolume_clf_30_trial_0_0236.jpg s3://mousebrainatlas-data/CSHL_registration_visualization/atlasV3/atlasV3_down32_scoreVolume_clf_30_warp_10_MD591_down32_scoreVolume_clf_30_trial_0/atlasV3_down32_scoreVolume_clf_30_warp_10_MD591_down32_scoreVolume_clf_30_trial_0_0236.jpg\n",
      "/shared/CSHL_registration_visualization/atlasV3/atlasV3_down32_scoreVolume_clf_30_warp_10_MD591_down32_scoreVolume_clf_30_trial_0/atlasV3_down32_scoreVolume_clf_30_warp_10_MD591_down32_scoreVolume_clf_30_trial_0_0226.jpg\n",
      "aws s3 cp /shared/CSHL_registration_visualization/atlasV3/atlasV3_down32_scoreVolume_clf_30_warp_10_MD591_down32_scoreVolume_clf_30_trial_0/atlasV3_down32_scoreVolume_clf_30_warp_10_MD591_down32_scoreVolume_clf_30_trial_0_0226.jpg s3://mousebrainatlas-data/CSHL_registration_visualization/atlasV3/atlasV3_down32_scoreVolume_clf_30_warp_10_MD591_down32_scoreVolume_clf_30_trial_0/atlasV3_down32_scoreVolume_clf_30_warp_10_MD591_down32_scoreVolume_clf_30_trial_0_0226.jpg\n"
     ]
    },
    {
     "name": "stderr",
     "output_type": "stream",
     "text": [
      "Child returned 0\n",
      "0.80 seconds.\n",
      "Child returned 0\n",
      "0.92 seconds.\n"
     ]
    },
    {
     "name": "stdout",
     "output_type": "stream",
     "text": [
      "/shared/CSHL_registration_visualization/atlasV3/atlasV3_down32_scoreVolume_clf_30_warp_10_MD591_down32_scoreVolume_clf_30_trial_0/atlasV3_down32_scoreVolume_clf_30_warp_10_MD591_down32_scoreVolume_clf_30_trial_0_0246.jpg\n",
      "aws s3 cp /shared/CSHL_registration_visualization/atlasV3/atlasV3_down32_scoreVolume_clf_30_warp_10_MD591_down32_scoreVolume_clf_30_trial_0/atlasV3_down32_scoreVolume_clf_30_warp_10_MD591_down32_scoreVolume_clf_30_trial_0_0246.jpg s3://mousebrainatlas-data/CSHL_registration_visualization/atlasV3/atlasV3_down32_scoreVolume_clf_30_warp_10_MD591_down32_scoreVolume_clf_30_trial_0/atlasV3_down32_scoreVolume_clf_30_warp_10_MD591_down32_scoreVolume_clf_30_trial_0_0246.jpg\n",
      "/shared/CSHL_registration_visualization/atlasV3/atlasV3_down32_scoreVolume_clf_30_warp_10_MD591_down32_scoreVolume_clf_30_trial_0/atlasV3_down32_scoreVolume_clf_30_warp_10_MD591_down32_scoreVolume_clf_30_trial_0_0241.jpg\n"
     ]
    },
    {
     "name": "stderr",
     "output_type": "stream",
     "text": [
      "Child returned 0\n",
      "0.80 seconds.\n"
     ]
    },
    {
     "name": "stdout",
     "output_type": "stream",
     "text": [
      "aws s3 cp /shared/CSHL_registration_visualization/atlasV3/atlasV3_down32_scoreVolume_clf_30_warp_10_MD591_down32_scoreVolume_clf_30_trial_0/atlasV3_down32_scoreVolume_clf_30_warp_10_MD591_down32_scoreVolume_clf_30_trial_0_0241.jpg s3://mousebrainatlas-data/CSHL_registration_visualization/atlasV3/atlasV3_down32_scoreVolume_clf_30_warp_10_MD591_down32_scoreVolume_clf_30_trial_0/atlasV3_down32_scoreVolume_clf_30_warp_10_MD591_down32_scoreVolume_clf_30_trial_0_0241.jpg\n"
     ]
    },
    {
     "name": "stderr",
     "output_type": "stream",
     "text": [
      "Child returned 0\n",
      "0.78 seconds.\n",
      "Child returned 0\n",
      "0.82 seconds.\n",
      "Child returned 0\n",
      "Child returned 0\n",
      "0.82 seconds.\n",
      "0.74 seconds.\n",
      "Child returned 0\n",
      "0.76 seconds.\n"
     ]
    },
    {
     "name": "stdout",
     "output_type": "stream",
     "text": [
      "/shared/CSHL_registration_visualization/atlasV3/atlasV3_down32_scoreVolume_clf_30_warp_10_MD591_down32_scoreVolume_clf_30_trial_0/atlasV3_down32_scoreVolume_clf_30_warp_10_MD591_down32_scoreVolume_clf_30_trial_0_0187.jpg\n",
      "/shared/CSHL_registration_visualization/atlasV3/atlasV3_down32_scoreVolume_clf_30_warp_10_MD591_down32_scoreVolume_clf_30_trial_0/atlasV3_down32_scoreVolume_clf_30_warp_10_MD591_down32_scoreVolume_clf_30_trial_0_0182.jpg\n",
      "aws s3 cp /shared/CSHL_registration_visualization/atlasV3/atlasV3_down32_scoreVolume_clf_30_warp_10_MD591_down32_scoreVolume_clf_30_trial_0/atlasV3_down32_scoreVolume_clf_30_warp_10_MD591_down32_scoreVolume_clf_30_trial_0_0187.jpg s3://mousebrainatlas-data/CSHL_registration_visualization/atlasV3/atlasV3_down32_scoreVolume_clf_30_warp_10_MD591_down32_scoreVolume_clf_30_trial_0/atlasV3_down32_scoreVolume_clf_30_warp_10_MD591_down32_scoreVolume_clf_30_trial_0_0187.jpg\n",
      "aws s3 cp /shared/CSHL_registration_visualization/atlasV3/atlasV3_down32_scoreVolume_clf_30_warp_10_MD591_down32_scoreVolume_clf_30_trial_0/atlasV3_down32_scoreVolume_clf_30_warp_10_MD591_down32_scoreVolume_clf_30_trial_0_0182.jpg s3://mousebrainatlas-data/CSHL_registration_visualization/atlasV3/atlasV3_down32_scoreVolume_clf_30_warp_10_MD591_down32_scoreVolume_clf_30_trial_0/atlasV3_down32_scoreVolume_clf_30_warp_10_MD591_down32_scoreVolume_clf_30_trial_0_0182.jpg\n"
     ]
    },
    {
     "name": "stderr",
     "output_type": "stream",
     "text": [
      "Child returned 0\n",
      "0.75 seconds.\n",
      "Child returned 0\n",
      "0.80 seconds.\n"
     ]
    },
    {
     "name": "stdout",
     "output_type": "stream",
     "text": [
      "/shared/CSHL_registration_visualization/atlasV3/atlasV3_down32_scoreVolume_clf_30_warp_10_MD591_down32_scoreVolume_clf_30_trial_0/atlasV3_down32_scoreVolume_clf_30_warp_10_MD591_down32_scoreVolume_clf_30_trial_0_0207.jpg\n",
      "/shared/CSHL_registration_visualization/atlasV3/atlasV3_down32_scoreVolume_clf_30_warp_10_MD591_down32_scoreVolume_clf_30_trial_0/atlasV3_down32_scoreVolume_clf_30_warp_10_MD591_down32_scoreVolume_clf_30_trial_0_0222.jpg\n",
      "aws s3 cp /shared/CSHL_registration_visualization/atlasV3/atlasV3_down32_scoreVolume_clf_30_warp_10_MD591_down32_scoreVolume_clf_30_trial_0/atlasV3_down32_scoreVolume_clf_30_warp_10_MD591_down32_scoreVolume_clf_30_trial_0_0207.jpg s3://mousebrainatlas-data/CSHL_registration_visualization/atlasV3/atlasV3_down32_scoreVolume_clf_30_warp_10_MD591_down32_scoreVolume_clf_30_trial_0/atlasV3_down32_scoreVolume_clf_30_warp_10_MD591_down32_scoreVolume_clf_30_trial_0_0207.jpg\n",
      "aws s3 cp /shared/CSHL_registration_visualization/atlasV3/atlasV3_down32_scoreVolume_clf_30_warp_10_MD591_down32_scoreVolume_clf_30_trial_0/atlasV3_down32_scoreVolume_clf_30_warp_10_MD591_down32_scoreVolume_clf_30_trial_0_0222.jpg s3://mousebrainatlas-data/CSHL_registration_visualization/atlasV3/atlasV3_down32_scoreVolume_clf_30_warp_10_MD591_down32_scoreVolume_clf_30_trial_0/atlasV3_down32_scoreVolume_clf_30_warp_10_MD591_down32_scoreVolume_clf_30_trial_0_0222.jpg\n",
      "/shared/CSHL_registration_visualization/atlasV3/atlasV3_down32_scoreVolume_clf_30_warp_10_MD591_down32_scoreVolume_clf_30_trial_0/atlasV3_down32_scoreVolume_clf_30_warp_10_MD591_down32_scoreVolume_clf_30_trial_0_0192.jpg\n"
     ]
    },
    {
     "name": "stderr",
     "output_type": "stream",
     "text": [
      "Child returned 0\n",
      "0.77 seconds.\n"
     ]
    },
    {
     "name": "stdout",
     "output_type": "stream",
     "text": [
      "aws s3 cp /shared/CSHL_registration_visualization/atlasV3/atlasV3_down32_scoreVolume_clf_30_warp_10_MD591_down32_scoreVolume_clf_30_trial_0/atlasV3_down32_scoreVolume_clf_30_warp_10_MD591_down32_scoreVolume_clf_30_trial_0_0192.jpg s3://mousebrainatlas-data/CSHL_registration_visualization/atlasV3/atlasV3_down32_scoreVolume_clf_30_warp_10_MD591_down32_scoreVolume_clf_30_trial_0/atlasV3_down32_scoreVolume_clf_30_warp_10_MD591_down32_scoreVolume_clf_30_trial_0_0192.jpg\n"
     ]
    },
    {
     "name": "stderr",
     "output_type": "stream",
     "text": [
      "Child returned 0\n",
      "0.83 seconds.\n"
     ]
    },
    {
     "name": "stdout",
     "output_type": "stream",
     "text": [
      "/shared/CSHL_registration_visualization/atlasV3/atlasV3_down32_scoreVolume_clf_30_warp_10_MD591_down32_scoreVolume_clf_30_trial_0/atlasV3_down32_scoreVolume_clf_30_warp_10_MD591_down32_scoreVolume_clf_30_trial_0_0197.jpg\n",
      "aws s3 cp /shared/CSHL_registration_visualization/atlasV3/atlasV3_down32_scoreVolume_clf_30_warp_10_MD591_down32_scoreVolume_clf_30_trial_0/atlasV3_down32_scoreVolume_clf_30_warp_10_MD591_down32_scoreVolume_clf_30_trial_0_0197.jpg s3://mousebrainatlas-data/CSHL_registration_visualization/atlasV3/atlasV3_down32_scoreVolume_clf_30_warp_10_MD591_down32_scoreVolume_clf_30_trial_0/atlasV3_down32_scoreVolume_clf_30_warp_10_MD591_down32_scoreVolume_clf_30_trial_0_0197.jpg\n",
      "/shared/CSHL_registration_visualization/atlasV3/atlasV3_down32_scoreVolume_clf_30_warp_10_MD591_down32_scoreVolume_clf_30_trial_0/atlasV3_down32_scoreVolume_clf_30_warp_10_MD591_down32_scoreVolume_clf_30_trial_0_0202.jpg\n",
      "aws s3 cp /shared/CSHL_registration_visualization/atlasV3/atlasV3_down32_scoreVolume_clf_30_warp_10_MD591_down32_scoreVolume_clf_30_trial_0/atlasV3_down32_scoreVolume_clf_30_warp_10_MD591_down32_scoreVolume_clf_30_trial_0_0202.jpg s3://mousebrainatlas-data/CSHL_registration_visualization/atlasV3/atlasV3_down32_scoreVolume_clf_30_warp_10_MD591_down32_scoreVolume_clf_30_trial_0/atlasV3_down32_scoreVolume_clf_30_warp_10_MD591_down32_scoreVolume_clf_30_trial_0_0202.jpg\n",
      "/shared/CSHL_registration_visualization/atlasV3/atlasV3_down32_scoreVolume_clf_30_warp_10_MD591_down32_scoreVolume_clf_30_trial_0/atlasV3_down32_scoreVolume_clf_30_warp_10_MD591_down32_scoreVolume_clf_30_trial_0_0212.jpg\n"
     ]
    },
    {
     "name": "stderr",
     "output_type": "stream",
     "text": [
      "Child returned 0\n",
      "0.80 seconds.\n",
      "Child returned 0\n",
      "0.83 seconds.\n"
     ]
    },
    {
     "name": "stdout",
     "output_type": "stream",
     "text": [
      "aws s3 cp /shared/CSHL_registration_visualization/atlasV3/atlasV3_down32_scoreVolume_clf_30_warp_10_MD591_down32_scoreVolume_clf_30_trial_0/atlasV3_down32_scoreVolume_clf_30_warp_10_MD591_down32_scoreVolume_clf_30_trial_0_0212.jpg s3://mousebrainatlas-data/CSHL_registration_visualization/atlasV3/atlasV3_down32_scoreVolume_clf_30_warp_10_MD591_down32_scoreVolume_clf_30_trial_0/atlasV3_down32_scoreVolume_clf_30_warp_10_MD591_down32_scoreVolume_clf_30_trial_0_0212.jpg\n"
     ]
    },
    {
     "name": "stderr",
     "output_type": "stream",
     "text": [
      "Child returned 0\n",
      "0.79 seconds.\n"
     ]
    },
    {
     "name": "stdout",
     "output_type": "stream",
     "text": [
      "/shared/CSHL_registration_visualization/atlasV3/atlasV3_down32_scoreVolume_clf_30_warp_10_MD591_down32_scoreVolume_clf_30_trial_0/atlasV3_down32_scoreVolume_clf_30_warp_10_MD591_down32_scoreVolume_clf_30_trial_0_0237.jpg\n",
      "aws s3 cp /shared/CSHL_registration_visualization/atlasV3/atlasV3_down32_scoreVolume_clf_30_warp_10_MD591_down32_scoreVolume_clf_30_trial_0/atlasV3_down32_scoreVolume_clf_30_warp_10_MD591_down32_scoreVolume_clf_30_trial_0_0237.jpg s3://mousebrainatlas-data/CSHL_registration_visualization/atlasV3/atlasV3_down32_scoreVolume_clf_30_warp_10_MD591_down32_scoreVolume_clf_30_trial_0/atlasV3_down32_scoreVolume_clf_30_warp_10_MD591_down32_scoreVolume_clf_30_trial_0_0237.jpg\n",
      "/shared/CSHL_registration_visualization/atlasV3/atlasV3_down32_scoreVolume_clf_30_warp_10_MD591_down32_scoreVolume_clf_30_trial_0/atlasV3_down32_scoreVolume_clf_30_warp_10_MD591_down32_scoreVolume_clf_30_trial_0_0248.jpg\n",
      "/shared/CSHL_registration_visualization/atlasV3/atlasV3_down32_scoreVolume_clf_30_warp_10_MD591_down32_scoreVolume_clf_30_trial_0/atlasV3_down32_scoreVolume_clf_30_warp_10_MD591_down32_scoreVolume_clf_30_trial_0_0232.jpg\n",
      "aws s3 cp /shared/CSHL_registration_visualization/atlasV3/atlasV3_down32_scoreVolume_clf_30_warp_10_MD591_down32_scoreVolume_clf_30_trial_0/atlasV3_down32_scoreVolume_clf_30_warp_10_MD591_down32_scoreVolume_clf_30_trial_0_0248.jpg s3://mousebrainatlas-data/CSHL_registration_visualization/atlasV3/atlasV3_down32_scoreVolume_clf_30_warp_10_MD591_down32_scoreVolume_clf_30_trial_0/atlasV3_down32_scoreVolume_clf_30_warp_10_MD591_down32_scoreVolume_clf_30_trial_0_0248.jpg\n",
      "aws s3 cp /shared/CSHL_registration_visualization/atlasV3/atlasV3_down32_scoreVolume_clf_30_warp_10_MD591_down32_scoreVolume_clf_30_trial_0/atlasV3_down32_scoreVolume_clf_30_warp_10_MD591_down32_scoreVolume_clf_30_trial_0_0232.jpg s3://mousebrainatlas-data/CSHL_registration_visualization/atlasV3/atlasV3_down32_scoreVolume_clf_30_warp_10_MD591_down32_scoreVolume_clf_30_trial_0/atlasV3_down32_scoreVolume_clf_30_warp_10_MD591_down32_scoreVolume_clf_30_trial_0_0232.jpg\n",
      "/shared/CSHL_registration_visualization/atlasV3/atlasV3_down32_scoreVolume_clf_30_warp_10_MD591_down32_scoreVolume_clf_30_trial_0/atlasV3_down32_scoreVolume_clf_30_warp_10_MD591_down32_scoreVolume_clf_30_trial_0_0217.jpg\n",
      "aws s3 cp /shared/CSHL_registration_visualization/atlasV3/atlasV3_down32_scoreVolume_clf_30_warp_10_MD591_down32_scoreVolume_clf_30_trial_0/atlasV3_down32_scoreVolume_clf_30_warp_10_MD591_down32_scoreVolume_clf_30_trial_0_0217.jpg s3://mousebrainatlas-data/CSHL_registration_visualization/atlasV3/atlasV3_down32_scoreVolume_clf_30_warp_10_MD591_down32_scoreVolume_clf_30_trial_0/atlasV3_down32_scoreVolume_clf_30_warp_10_MD591_down32_scoreVolume_clf_30_trial_0_0217.jpg\n"
     ]
    },
    {
     "name": "stderr",
     "output_type": "stream",
     "text": [
      "Child returned 0\n",
      "0.77 seconds.\n"
     ]
    },
    {
     "name": "stdout",
     "output_type": "stream",
     "text": [
      "/shared/CSHL_registration_visualization/atlasV3/atlasV3_down32_scoreVolume_clf_30_warp_10_MD591_down32_scoreVolume_clf_30_trial_0/atlasV3_down32_scoreVolume_clf_30_warp_10_MD591_down32_scoreVolume_clf_30_trial_0_0227.jpg\n"
     ]
    },
    {
     "name": "stderr",
     "output_type": "stream",
     "text": [
      "Child returned 0\n",
      "0.75 seconds.\n"
     ]
    },
    {
     "name": "stdout",
     "output_type": "stream",
     "text": [
      "aws s3 cp /shared/CSHL_registration_visualization/atlasV3/atlasV3_down32_scoreVolume_clf_30_warp_10_MD591_down32_scoreVolume_clf_30_trial_0/atlasV3_down32_scoreVolume_clf_30_warp_10_MD591_down32_scoreVolume_clf_30_trial_0_0227.jpg s3://mousebrainatlas-data/CSHL_registration_visualization/atlasV3/atlasV3_down32_scoreVolume_clf_30_warp_10_MD591_down32_scoreVolume_clf_30_trial_0/atlasV3_down32_scoreVolume_clf_30_warp_10_MD591_down32_scoreVolume_clf_30_trial_0_0227.jpg\n",
      "/shared/CSHL_registration_visualization/atlasV3/atlasV3_down32_scoreVolume_clf_30_warp_10_MD591_down32_scoreVolume_clf_30_trial_0/atlasV3_down32_scoreVolume_clf_30_warp_10_MD591_down32_scoreVolume_clf_30_trial_0_0242.jpg\n",
      "/shared/CSHL_registration_visualization/atlasV3/atlasV3_down32_scoreVolume_clf_30_warp_10_MD591_down32_scoreVolume_clf_30_trial_0/atlasV3_down32_scoreVolume_clf_30_warp_10_MD591_down32_scoreVolume_clf_30_trial_0_0247.jpg\n",
      "aws s3 cp /shared/CSHL_registration_visualization/atlasV3/atlasV3_down32_scoreVolume_clf_30_warp_10_MD591_down32_scoreVolume_clf_30_trial_0/atlasV3_down32_scoreVolume_clf_30_warp_10_MD591_down32_scoreVolume_clf_30_trial_0_0242.jpg s3://mousebrainatlas-data/CSHL_registration_visualization/atlasV3/atlasV3_down32_scoreVolume_clf_30_warp_10_MD591_down32_scoreVolume_clf_30_trial_0/atlasV3_down32_scoreVolume_clf_30_warp_10_MD591_down32_scoreVolume_clf_30_trial_0_0242.jpg\n",
      "aws s3 cp /shared/CSHL_registration_visualization/atlasV3/atlasV3_down32_scoreVolume_clf_30_warp_10_MD591_down32_scoreVolume_clf_30_trial_0/atlasV3_down32_scoreVolume_clf_30_warp_10_MD591_down32_scoreVolume_clf_30_trial_0_0247.jpg s3://mousebrainatlas-data/CSHL_registration_visualization/atlasV3/atlasV3_down32_scoreVolume_clf_30_warp_10_MD591_down32_scoreVolume_clf_30_trial_0/atlasV3_down32_scoreVolume_clf_30_warp_10_MD591_down32_scoreVolume_clf_30_trial_0_0247.jpg\n"
     ]
    },
    {
     "name": "stderr",
     "output_type": "stream",
     "text": [
      "Child returned 0\n",
      "0.82 seconds.\n",
      "Child returned 0\n",
      "0.77 seconds.\n",
      "Child returned 0\n",
      "0.81 seconds.\n",
      "Child returned 0\n",
      "0.79 seconds.\n",
      "Child returned 0\n",
      "0.78 seconds.\n"
     ]
    },
    {
     "name": "stdout",
     "output_type": "stream",
     "text": [
      "/shared/CSHL_registration_visualization/atlasV3/atlasV3_down32_scoreVolume_clf_30_warp_10_MD591_down32_scoreVolume_clf_30_trial_0/atlasV3_down32_scoreVolume_clf_30_warp_10_MD591_down32_scoreVolume_clf_30_trial_0_0253.jpg\n",
      "/shared/CSHL_registration_visualization/atlasV3/atlasV3_down32_scoreVolume_clf_30_warp_10_MD591_down32_scoreVolume_clf_30_trial_0/atlasV3_down32_scoreVolume_clf_30_warp_10_MD591_down32_scoreVolume_clf_30_trial_0_0258.jpg\n",
      "aws s3 cp /shared/CSHL_registration_visualization/atlasV3/atlasV3_down32_scoreVolume_clf_30_warp_10_MD591_down32_scoreVolume_clf_30_trial_0/atlasV3_down32_scoreVolume_clf_30_warp_10_MD591_down32_scoreVolume_clf_30_trial_0_0253.jpg s3://mousebrainatlas-data/CSHL_registration_visualization/atlasV3/atlasV3_down32_scoreVolume_clf_30_warp_10_MD591_down32_scoreVolume_clf_30_trial_0/atlasV3_down32_scoreVolume_clf_30_warp_10_MD591_down32_scoreVolume_clf_30_trial_0_0253.jpg\n",
      "aws s3 cp /shared/CSHL_registration_visualization/atlasV3/atlasV3_down32_scoreVolume_clf_30_warp_10_MD591_down32_scoreVolume_clf_30_trial_0/atlasV3_down32_scoreVolume_clf_30_warp_10_MD591_down32_scoreVolume_clf_30_trial_0_0258.jpg s3://mousebrainatlas-data/CSHL_registration_visualization/atlasV3/atlasV3_down32_scoreVolume_clf_30_warp_10_MD591_down32_scoreVolume_clf_30_trial_0/atlasV3_down32_scoreVolume_clf_30_warp_10_MD591_down32_scoreVolume_clf_30_trial_0_0258.jpg\n"
     ]
    },
    {
     "name": "stderr",
     "output_type": "stream",
     "text": [
      "Child returned 0\n",
      "0.74 seconds.\n",
      "Child returned 0\n",
      "0.73 seconds.\n",
      "Child returned 0\n",
      "0.78 seconds.\n"
     ]
    },
    {
     "name": "stdout",
     "output_type": "stream",
     "text": [
      "/shared/CSHL_registration_visualization/atlasV3/atlasV3_down32_scoreVolume_clf_30_warp_10_MD591_down32_scoreVolume_clf_30_trial_0/atlasV3_down32_scoreVolume_clf_30_warp_10_MD591_down32_scoreVolume_clf_30_trial_0_0263.jpg\n",
      "/shared/CSHL_registration_visualization/atlasV3/atlasV3_down32_scoreVolume_clf_30_warp_10_MD591_down32_scoreVolume_clf_30_trial_0/atlasV3_down32_scoreVolume_clf_30_warp_10_MD591_down32_scoreVolume_clf_30_trial_0_0268.jpg\n",
      "aws s3 cp /shared/CSHL_registration_visualization/atlasV3/atlasV3_down32_scoreVolume_clf_30_warp_10_MD591_down32_scoreVolume_clf_30_trial_0/atlasV3_down32_scoreVolume_clf_30_warp_10_MD591_down32_scoreVolume_clf_30_trial_0_0263.jpg s3://mousebrainatlas-data/CSHL_registration_visualization/atlasV3/atlasV3_down32_scoreVolume_clf_30_warp_10_MD591_down32_scoreVolume_clf_30_trial_0/atlasV3_down32_scoreVolume_clf_30_warp_10_MD591_down32_scoreVolume_clf_30_trial_0_0263.jpg\n",
      "/shared/CSHL_registration_visualization/atlasV3/atlasV3_down32_scoreVolume_clf_30_warp_10_MD591_down32_scoreVolume_clf_30_trial_0/atlasV3_down32_scoreVolume_clf_30_warp_10_MD591_down32_scoreVolume_clf_30_trial_0_0273.jpg\n",
      "aws s3 cp /shared/CSHL_registration_visualization/atlasV3/atlasV3_down32_scoreVolume_clf_30_warp_10_MD591_down32_scoreVolume_clf_30_trial_0/atlasV3_down32_scoreVolume_clf_30_warp_10_MD591_down32_scoreVolume_clf_30_trial_0_0268.jpg s3://mousebrainatlas-data/CSHL_registration_visualization/atlasV3/atlasV3_down32_scoreVolume_clf_30_warp_10_MD591_down32_scoreVolume_clf_30_trial_0/atlasV3_down32_scoreVolume_clf_30_warp_10_MD591_down32_scoreVolume_clf_30_trial_0_0268.jpg\n",
      "aws s3 cp /shared/CSHL_registration_visualization/atlasV3/atlasV3_down32_scoreVolume_clf_30_warp_10_MD591_down32_scoreVolume_clf_30_trial_0/atlasV3_down32_scoreVolume_clf_30_warp_10_MD591_down32_scoreVolume_clf_30_trial_0_0273.jpg s3://mousebrainatlas-data/CSHL_registration_visualization/atlasV3/atlasV3_down32_scoreVolume_clf_30_warp_10_MD591_down32_scoreVolume_clf_30_trial_0/atlasV3_down32_scoreVolume_clf_30_warp_10_MD591_down32_scoreVolume_clf_30_trial_0_0273.jpg\n"
     ]
    },
    {
     "name": "stderr",
     "output_type": "stream",
     "text": [
      "Child returned 0\n",
      "0.82 seconds.\n",
      "Child returned 0\n",
      "0.86 seconds.\n"
     ]
    },
    {
     "name": "stdout",
     "output_type": "stream",
     "text": [
      "/shared/CSHL_registration_visualization/atlasV3/atlasV3_down32_scoreVolume_clf_30_warp_10_MD591_down32_scoreVolume_clf_30_trial_0/atlasV3_down32_scoreVolume_clf_30_warp_10_MD591_down32_scoreVolume_clf_30_trial_0_0278.jpg\n",
      "/shared/CSHL_registration_visualization/atlasV3/atlasV3_down32_scoreVolume_clf_30_warp_10_MD591_down32_scoreVolume_clf_30_trial_0/atlasV3_down32_scoreVolume_clf_30_warp_10_MD591_down32_scoreVolume_clf_30_trial_0_0283.jpg\n",
      "aws s3 cp /shared/CSHL_registration_visualization/atlasV3/atlasV3_down32_scoreVolume_clf_30_warp_10_MD591_down32_scoreVolume_clf_30_trial_0/atlasV3_down32_scoreVolume_clf_30_warp_10_MD591_down32_scoreVolume_clf_30_trial_0_0278.jpg s3://mousebrainatlas-data/CSHL_registration_visualization/atlasV3/atlasV3_down32_scoreVolume_clf_30_warp_10_MD591_down32_scoreVolume_clf_30_trial_0/atlasV3_down32_scoreVolume_clf_30_warp_10_MD591_down32_scoreVolume_clf_30_trial_0_0278.jpg\n",
      "aws s3 cp /shared/CSHL_registration_visualization/atlasV3/atlasV3_down32_scoreVolume_clf_30_warp_10_MD591_down32_scoreVolume_clf_30_trial_0/atlasV3_down32_scoreVolume_clf_30_warp_10_MD591_down32_scoreVolume_clf_30_trial_0_0283.jpg s3://mousebrainatlas-data/CSHL_registration_visualization/atlasV3/atlasV3_down32_scoreVolume_clf_30_warp_10_MD591_down32_scoreVolume_clf_30_trial_0/atlasV3_down32_scoreVolume_clf_30_warp_10_MD591_down32_scoreVolume_clf_30_trial_0_0283.jpg\n"
     ]
    },
    {
     "name": "stderr",
     "output_type": "stream",
     "text": [
      "Child returned 0\n",
      "0.80 seconds.\n",
      "Child returned 0\n",
      "0.89 seconds.\n"
     ]
    },
    {
     "name": "stdout",
     "output_type": "stream",
     "text": [
      "/shared/CSHL_registration_visualization/atlasV3/atlasV3_down32_scoreVolume_clf_30_warp_10_MD591_down32_scoreVolume_clf_30_trial_0/atlasV3_down32_scoreVolume_clf_30_warp_10_MD591_down32_scoreVolume_clf_30_trial_0_0288.jpg\n"
     ]
    },
    {
     "name": "stderr",
     "output_type": "stream",
     "text": [
      "Child returned 0\n",
      "0.86 seconds.\n"
     ]
    },
    {
     "name": "stdout",
     "output_type": "stream",
     "text": [
      "aws s3 cp /shared/CSHL_registration_visualization/atlasV3/atlasV3_down32_scoreVolume_clf_30_warp_10_MD591_down32_scoreVolume_clf_30_trial_0/atlasV3_down32_scoreVolume_clf_30_warp_10_MD591_down32_scoreVolume_clf_30_trial_0_0288.jpg s3://mousebrainatlas-data/CSHL_registration_visualization/atlasV3/atlasV3_down32_scoreVolume_clf_30_warp_10_MD591_down32_scoreVolume_clf_30_trial_0/atlasV3_down32_scoreVolume_clf_30_warp_10_MD591_down32_scoreVolume_clf_30_trial_0_0288.jpg\n",
      "/shared/CSHL_registration_visualization/atlasV3/atlasV3_down32_scoreVolume_clf_30_warp_10_MD591_down32_scoreVolume_clf_30_trial_0/atlasV3_down32_scoreVolume_clf_30_warp_10_MD591_down32_scoreVolume_clf_30_trial_0_0293.jpg\n",
      "aws s3 cp /shared/CSHL_registration_visualization/atlasV3/atlasV3_down32_scoreVolume_clf_30_warp_10_MD591_down32_scoreVolume_clf_30_trial_0/atlasV3_down32_scoreVolume_clf_30_warp_10_MD591_down32_scoreVolume_clf_30_trial_0_0293.jpg s3://mousebrainatlas-data/CSHL_registration_visualization/atlasV3/atlasV3_down32_scoreVolume_clf_30_warp_10_MD591_down32_scoreVolume_clf_30_trial_0/atlasV3_down32_scoreVolume_clf_30_warp_10_MD591_down32_scoreVolume_clf_30_trial_0_0293.jpg\n",
      "/shared/CSHL_registration_visualization/atlasV3/atlasV3_down32_scoreVolume_clf_30_warp_10_MD591_down32_scoreVolume_clf_30_trial_0/atlasV3_down32_scoreVolume_clf_30_warp_10_MD591_down32_scoreVolume_clf_30_trial_0_0249.jpg\n",
      "aws s3 cp /shared/CSHL_registration_visualization/atlasV3/atlasV3_down32_scoreVolume_clf_30_warp_10_MD591_down32_scoreVolume_clf_30_trial_0/atlasV3_down32_scoreVolume_clf_30_warp_10_MD591_down32_scoreVolume_clf_30_trial_0_0249.jpg s3://mousebrainatlas-data/CSHL_registration_visualization/atlasV3/atlasV3_down32_scoreVolume_clf_30_warp_10_MD591_down32_scoreVolume_clf_30_trial_0/atlasV3_down32_scoreVolume_clf_30_warp_10_MD591_down32_scoreVolume_clf_30_trial_0_0249.jpg\n",
      "/shared/CSHL_registration_visualization/atlasV3/atlasV3_down32_scoreVolume_clf_30_warp_10_MD591_down32_scoreVolume_clf_30_trial_0/atlasV3_down32_scoreVolume_clf_30_warp_10_MD591_down32_scoreVolume_clf_30_trial_0_0298.jpg\n",
      "/shared/CSHL_registration_visualization/atlasV3/atlasV3_down32_scoreVolume_clf_30_warp_10_MD591_down32_scoreVolume_clf_30_trial_0/atlasV3_down32_scoreVolume_clf_30_warp_10_MD591_down32_scoreVolume_clf_30_trial_0_0303.jpg\n",
      "aws s3 cp /shared/CSHL_registration_visualization/atlasV3/atlasV3_down32_scoreVolume_clf_30_warp_10_MD591_down32_scoreVolume_clf_30_trial_0/atlasV3_down32_scoreVolume_clf_30_warp_10_MD591_down32_scoreVolume_clf_30_trial_0_0298.jpg s3://mousebrainatlas-data/CSHL_registration_visualization/atlasV3/atlasV3_down32_scoreVolume_clf_30_warp_10_MD591_down32_scoreVolume_clf_30_trial_0/atlasV3_down32_scoreVolume_clf_30_warp_10_MD591_down32_scoreVolume_clf_30_trial_0_0298.jpg\n",
      "aws s3 cp /shared/CSHL_registration_visualization/atlasV3/atlasV3_down32_scoreVolume_clf_30_warp_10_MD591_down32_scoreVolume_clf_30_trial_0/atlasV3_down32_scoreVolume_clf_30_warp_10_MD591_down32_scoreVolume_clf_30_trial_0_0303.jpg s3://mousebrainatlas-data/CSHL_registration_visualization/atlasV3/atlasV3_down32_scoreVolume_clf_30_warp_10_MD591_down32_scoreVolume_clf_30_trial_0/atlasV3_down32_scoreVolume_clf_30_warp_10_MD591_down32_scoreVolume_clf_30_trial_0_0303.jpg\n",
      "/shared/CSHL_registration_visualization/atlasV3/atlasV3_down32_scoreVolume_clf_30_warp_10_MD591_down32_scoreVolume_clf_30_trial_0/atlasV3_down32_scoreVolume_clf_30_warp_10_MD591_down32_scoreVolume_clf_30_trial_0_0313.jpg\n",
      "/shared/CSHL_registration_visualization/atlasV3/atlasV3_down32_scoreVolume_clf_30_warp_10_MD591_down32_scoreVolume_clf_30_trial_0/atlasV3_down32_scoreVolume_clf_30_warp_10_MD591_down32_scoreVolume_clf_30_trial_0_0318.jpg\n"
     ]
    },
    {
     "name": "stderr",
     "output_type": "stream",
     "text": [
      "Child returned 0\n",
      "0.75 seconds.\n",
      "Child returned 0\n",
      "0.75 seconds.\n"
     ]
    },
    {
     "name": "stdout",
     "output_type": "stream",
     "text": [
      "aws s3 cp /shared/CSHL_registration_visualization/atlasV3/atlasV3_down32_scoreVolume_clf_30_warp_10_MD591_down32_scoreVolume_clf_30_trial_0/atlasV3_down32_scoreVolume_clf_30_warp_10_MD591_down32_scoreVolume_clf_30_trial_0_0313.jpg s3://mousebrainatlas-data/CSHL_registration_visualization/atlasV3/atlasV3_down32_scoreVolume_clf_30_warp_10_MD591_down32_scoreVolume_clf_30_trial_0/atlasV3_down32_scoreVolume_clf_30_warp_10_MD591_down32_scoreVolume_clf_30_trial_0_0313.jpg\n",
      "aws s3 cp /shared/CSHL_registration_visualization/atlasV3/atlasV3_down32_scoreVolume_clf_30_warp_10_MD591_down32_scoreVolume_clf_30_trial_0/atlasV3_down32_scoreVolume_clf_30_warp_10_MD591_down32_scoreVolume_clf_30_trial_0_0318.jpg s3://mousebrainatlas-data/CSHL_registration_visualization/atlasV3/atlasV3_down32_scoreVolume_clf_30_warp_10_MD591_down32_scoreVolume_clf_30_trial_0/atlasV3_down32_scoreVolume_clf_30_warp_10_MD591_down32_scoreVolume_clf_30_trial_0_0318.jpg\n",
      "/shared/CSHL_registration_visualization/atlasV3/atlasV3_down32_scoreVolume_clf_30_warp_10_MD591_down32_scoreVolume_clf_30_trial_0/atlasV3_down32_scoreVolume_clf_30_warp_10_MD591_down32_scoreVolume_clf_30_trial_0_0308.jpg\n",
      "aws s3 cp /shared/CSHL_registration_visualization/atlasV3/atlasV3_down32_scoreVolume_clf_30_warp_10_MD591_down32_scoreVolume_clf_30_trial_0/atlasV3_down32_scoreVolume_clf_30_warp_10_MD591_down32_scoreVolume_clf_30_trial_0_0308.jpg s3://mousebrainatlas-data/CSHL_registration_visualization/atlasV3/atlasV3_down32_scoreVolume_clf_30_warp_10_MD591_down32_scoreVolume_clf_30_trial_0/atlasV3_down32_scoreVolume_clf_30_warp_10_MD591_down32_scoreVolume_clf_30_trial_0_0308.jpg\n"
     ]
    },
    {
     "name": "stderr",
     "output_type": "stream",
     "text": [
      "Child returned 0\n",
      "0.81 seconds.\n",
      "Child returned 0\n",
      "0.81 seconds.\n",
      "Child returned 0\n",
      "0.76 seconds.\n",
      "Child returned 0\n",
      "0.72 seconds.\n",
      "Child returned 0\n",
      "0.77 seconds.\n"
     ]
    },
    {
     "name": "stdout",
     "output_type": "stream",
     "text": [
      "/shared/CSHL_registration_visualization/atlasV3/atlasV3_down32_scoreVolume_clf_30_warp_10_MD591_down32_scoreVolume_clf_30_trial_0/atlasV3_down32_scoreVolume_clf_30_warp_10_MD591_down32_scoreVolume_clf_30_trial_0_0259.jpg\n",
      "aws s3 cp /shared/CSHL_registration_visualization/atlasV3/atlasV3_down32_scoreVolume_clf_30_warp_10_MD591_down32_scoreVolume_clf_30_trial_0/atlasV3_down32_scoreVolume_clf_30_warp_10_MD591_down32_scoreVolume_clf_30_trial_0_0259.jpg s3://mousebrainatlas-data/CSHL_registration_visualization/atlasV3/atlasV3_down32_scoreVolume_clf_30_warp_10_MD591_down32_scoreVolume_clf_30_trial_0/atlasV3_down32_scoreVolume_clf_30_warp_10_MD591_down32_scoreVolume_clf_30_trial_0_0259.jpg\n",
      "/shared/CSHL_registration_visualization/atlasV3/atlasV3_down32_scoreVolume_clf_30_warp_10_MD591_down32_scoreVolume_clf_30_trial_0/atlasV3_down32_scoreVolume_clf_30_warp_10_MD591_down32_scoreVolume_clf_30_trial_0_0254.jpg\n",
      "aws s3 cp /shared/CSHL_registration_visualization/atlasV3/atlasV3_down32_scoreVolume_clf_30_warp_10_MD591_down32_scoreVolume_clf_30_trial_0/atlasV3_down32_scoreVolume_clf_30_warp_10_MD591_down32_scoreVolume_clf_30_trial_0_0254.jpg s3://mousebrainatlas-data/CSHL_registration_visualization/atlasV3/atlasV3_down32_scoreVolume_clf_30_warp_10_MD591_down32_scoreVolume_clf_30_trial_0/atlasV3_down32_scoreVolume_clf_30_warp_10_MD591_down32_scoreVolume_clf_30_trial_0_0254.jpg\n"
     ]
    },
    {
     "name": "stderr",
     "output_type": "stream",
     "text": [
      "Child returned 0\n",
      "0.86 seconds.\n",
      "Child returned 0\n",
      "Child returned 0\n",
      "0.80 seconds.\n",
      "0.91 seconds.\n"
     ]
    },
    {
     "name": "stdout",
     "output_type": "stream",
     "text": [
      "/shared/CSHL_registration_visualization/atlasV3/atlasV3_down32_scoreVolume_clf_30_warp_10_MD591_down32_scoreVolume_clf_30_trial_0/atlasV3_down32_scoreVolume_clf_30_warp_10_MD591_down32_scoreVolume_clf_30_trial_0_0264.jpg\n",
      "/shared/CSHL_registration_visualization/atlasV3/atlasV3_down32_scoreVolume_clf_30_warp_10_MD591_down32_scoreVolume_clf_30_trial_0/atlasV3_down32_scoreVolume_clf_30_warp_10_MD591_down32_scoreVolume_clf_30_trial_0_0274.jpg\n",
      "aws s3 cp /shared/CSHL_registration_visualization/atlasV3/atlasV3_down32_scoreVolume_clf_30_warp_10_MD591_down32_scoreVolume_clf_30_trial_0/atlasV3_down32_scoreVolume_clf_30_warp_10_MD591_down32_scoreVolume_clf_30_trial_0_0274.jpg s3://mousebrainatlas-data/CSHL_registration_visualization/atlasV3/atlasV3_down32_scoreVolume_clf_30_warp_10_MD591_down32_scoreVolume_clf_30_trial_0/atlasV3_down32_scoreVolume_clf_30_warp_10_MD591_down32_scoreVolume_clf_30_trial_0_0274.jpg\n",
      "aws s3 cp /shared/CSHL_registration_visualization/atlasV3/atlasV3_down32_scoreVolume_clf_30_warp_10_MD591_down32_scoreVolume_clf_30_trial_0/atlasV3_down32_scoreVolume_clf_30_warp_10_MD591_down32_scoreVolume_clf_30_trial_0_0264.jpg s3://mousebrainatlas-data/CSHL_registration_visualization/atlasV3/atlasV3_down32_scoreVolume_clf_30_warp_10_MD591_down32_scoreVolume_clf_30_trial_0/atlasV3_down32_scoreVolume_clf_30_warp_10_MD591_down32_scoreVolume_clf_30_trial_0_0264.jpg\n",
      "/shared/CSHL_registration_visualization/atlasV3/atlasV3_down32_scoreVolume_clf_30_warp_10_MD591_down32_scoreVolume_clf_30_trial_0/atlasV3_down32_scoreVolume_clf_30_warp_10_MD591_down32_scoreVolume_clf_30_trial_0_0269.jpg\n"
     ]
    },
    {
     "name": "stderr",
     "output_type": "stream",
     "text": [
      "Child returned 0\n",
      "0.77 seconds.\n"
     ]
    },
    {
     "name": "stdout",
     "output_type": "stream",
     "text": [
      "aws s3 cp /shared/CSHL_registration_visualization/atlasV3/atlasV3_down32_scoreVolume_clf_30_warp_10_MD591_down32_scoreVolume_clf_30_trial_0/atlasV3_down32_scoreVolume_clf_30_warp_10_MD591_down32_scoreVolume_clf_30_trial_0_0269.jpg s3://mousebrainatlas-data/CSHL_registration_visualization/atlasV3/atlasV3_down32_scoreVolume_clf_30_warp_10_MD591_down32_scoreVolume_clf_30_trial_0/atlasV3_down32_scoreVolume_clf_30_warp_10_MD591_down32_scoreVolume_clf_30_trial_0_0269.jpg\n"
     ]
    },
    {
     "name": "stderr",
     "output_type": "stream",
     "text": [
      "Child returned 0\n",
      "0.81 seconds.\n"
     ]
    },
    {
     "name": "stdout",
     "output_type": "stream",
     "text": [
      "/shared/CSHL_registration_visualization/atlasV3/atlasV3_down32_scoreVolume_clf_30_warp_10_MD591_down32_scoreVolume_clf_30_trial_0/atlasV3_down32_scoreVolume_clf_30_warp_10_MD591_down32_scoreVolume_clf_30_trial_0_0279.jpg\n",
      "aws s3 cp /shared/CSHL_registration_visualization/atlasV3/atlasV3_down32_scoreVolume_clf_30_warp_10_MD591_down32_scoreVolume_clf_30_trial_0/atlasV3_down32_scoreVolume_clf_30_warp_10_MD591_down32_scoreVolume_clf_30_trial_0_0279.jpg s3://mousebrainatlas-data/CSHL_registration_visualization/atlasV3/atlasV3_down32_scoreVolume_clf_30_warp_10_MD591_down32_scoreVolume_clf_30_trial_0/atlasV3_down32_scoreVolume_clf_30_warp_10_MD591_down32_scoreVolume_clf_30_trial_0_0279.jpg\n",
      "/shared/CSHL_registration_visualization/atlasV3/atlasV3_down32_scoreVolume_clf_30_warp_10_MD591_down32_scoreVolume_clf_30_trial_0/atlasV3_down32_scoreVolume_clf_30_warp_10_MD591_down32_scoreVolume_clf_30_trial_0_0284.jpg\n",
      "aws s3 cp /shared/CSHL_registration_visualization/atlasV3/atlasV3_down32_scoreVolume_clf_30_warp_10_MD591_down32_scoreVolume_clf_30_trial_0/atlasV3_down32_scoreVolume_clf_30_warp_10_MD591_down32_scoreVolume_clf_30_trial_0_0284.jpg s3://mousebrainatlas-data/CSHL_registration_visualization/atlasV3/atlasV3_down32_scoreVolume_clf_30_warp_10_MD591_down32_scoreVolume_clf_30_trial_0/atlasV3_down32_scoreVolume_clf_30_warp_10_MD591_down32_scoreVolume_clf_30_trial_0_0284.jpg\n"
     ]
    },
    {
     "name": "stderr",
     "output_type": "stream",
     "text": [
      "Child returned 0\n",
      "0.75 seconds.\n",
      "Child returned 0\n",
      "0.84 seconds.\n"
     ]
    },
    {
     "name": "stdout",
     "output_type": "stream",
     "text": [
      "/shared/CSHL_registration_visualization/atlasV3/atlasV3_down32_scoreVolume_clf_30_warp_10_MD591_down32_scoreVolume_clf_30_trial_0/atlasV3_down32_scoreVolume_clf_30_warp_10_MD591_down32_scoreVolume_clf_30_trial_0_0289.jpg\n"
     ]
    },
    {
     "name": "stderr",
     "output_type": "stream",
     "text": [
      "Child returned 0\n",
      "0.79 seconds.\n"
     ]
    },
    {
     "name": "stdout",
     "output_type": "stream",
     "text": [
      "aws s3 cp /shared/CSHL_registration_visualization/atlasV3/atlasV3_down32_scoreVolume_clf_30_warp_10_MD591_down32_scoreVolume_clf_30_trial_0/atlasV3_down32_scoreVolume_clf_30_warp_10_MD591_down32_scoreVolume_clf_30_trial_0_0289.jpg s3://mousebrainatlas-data/CSHL_registration_visualization/atlasV3/atlasV3_down32_scoreVolume_clf_30_warp_10_MD591_down32_scoreVolume_clf_30_trial_0/atlasV3_down32_scoreVolume_clf_30_warp_10_MD591_down32_scoreVolume_clf_30_trial_0_0289.jpg\n",
      "/shared/CSHL_registration_visualization/atlasV3/atlasV3_down32_scoreVolume_clf_30_warp_10_MD591_down32_scoreVolume_clf_30_trial_0/atlasV3_down32_scoreVolume_clf_30_warp_10_MD591_down32_scoreVolume_clf_30_trial_0_0294.jpg\n",
      "aws s3 cp /shared/CSHL_registration_visualization/atlasV3/atlasV3_down32_scoreVolume_clf_30_warp_10_MD591_down32_scoreVolume_clf_30_trial_0/atlasV3_down32_scoreVolume_clf_30_warp_10_MD591_down32_scoreVolume_clf_30_trial_0_0294.jpg s3://mousebrainatlas-data/CSHL_registration_visualization/atlasV3/atlasV3_down32_scoreVolume_clf_30_warp_10_MD591_down32_scoreVolume_clf_30_trial_0/atlasV3_down32_scoreVolume_clf_30_warp_10_MD591_down32_scoreVolume_clf_30_trial_0_0294.jpg\n",
      "/shared/CSHL_registration_visualization/atlasV3/atlasV3_down32_scoreVolume_clf_30_warp_10_MD591_down32_scoreVolume_clf_30_trial_0/atlasV3_down32_scoreVolume_clf_30_warp_10_MD591_down32_scoreVolume_clf_30_trial_0_0304.jpg\n",
      "aws s3 cp /shared/CSHL_registration_visualization/atlasV3/atlasV3_down32_scoreVolume_clf_30_warp_10_MD591_down32_scoreVolume_clf_30_trial_0/atlasV3_down32_scoreVolume_clf_30_warp_10_MD591_down32_scoreVolume_clf_30_trial_0_0304.jpg s3://mousebrainatlas-data/CSHL_registration_visualization/atlasV3/atlasV3_down32_scoreVolume_clf_30_warp_10_MD591_down32_scoreVolume_clf_30_trial_0/atlasV3_down32_scoreVolume_clf_30_warp_10_MD591_down32_scoreVolume_clf_30_trial_0_0304.jpg\n"
     ]
    },
    {
     "name": "stderr",
     "output_type": "stream",
     "text": [
      "Child returned 0\n",
      "0.80 seconds.\n",
      "Child returned 0\n",
      "0.70 seconds.\n"
     ]
    },
    {
     "name": "stdout",
     "output_type": "stream",
     "text": [
      "/shared/CSHL_registration_visualization/atlasV3/atlasV3_down32_scoreVolume_clf_30_warp_10_MD591_down32_scoreVolume_clf_30_trial_0/atlasV3_down32_scoreVolume_clf_30_warp_10_MD591_down32_scoreVolume_clf_30_trial_0_0300.jpg\n",
      "/shared/CSHL_registration_visualization/atlasV3/atlasV3_down32_scoreVolume_clf_30_warp_10_MD591_down32_scoreVolume_clf_30_trial_0/atlasV3_down32_scoreVolume_clf_30_warp_10_MD591_down32_scoreVolume_clf_30_trial_0_0250.jpg\n",
      "aws s3 cp /shared/CSHL_registration_visualization/atlasV3/atlasV3_down32_scoreVolume_clf_30_warp_10_MD591_down32_scoreVolume_clf_30_trial_0/atlasV3_down32_scoreVolume_clf_30_warp_10_MD591_down32_scoreVolume_clf_30_trial_0_0300.jpg s3://mousebrainatlas-data/CSHL_registration_visualization/atlasV3/atlasV3_down32_scoreVolume_clf_30_warp_10_MD591_down32_scoreVolume_clf_30_trial_0/atlasV3_down32_scoreVolume_clf_30_warp_10_MD591_down32_scoreVolume_clf_30_trial_0_0300.jpg\n",
      "aws s3 cp /shared/CSHL_registration_visualization/atlasV3/atlasV3_down32_scoreVolume_clf_30_warp_10_MD591_down32_scoreVolume_clf_30_trial_0/atlasV3_down32_scoreVolume_clf_30_warp_10_MD591_down32_scoreVolume_clf_30_trial_0_0250.jpg s3://mousebrainatlas-data/CSHL_registration_visualization/atlasV3/atlasV3_down32_scoreVolume_clf_30_warp_10_MD591_down32_scoreVolume_clf_30_trial_0/atlasV3_down32_scoreVolume_clf_30_warp_10_MD591_down32_scoreVolume_clf_30_trial_0_0250.jpg\n",
      "/shared/CSHL_registration_visualization/atlasV3/atlasV3_down32_scoreVolume_clf_30_warp_10_MD591_down32_scoreVolume_clf_30_trial_0/atlasV3_down32_scoreVolume_clf_30_warp_10_MD591_down32_scoreVolume_clf_30_trial_0_0314.jpg\n",
      "/shared/CSHL_registration_visualization/atlasV3/atlasV3_down32_scoreVolume_clf_30_warp_10_MD591_down32_scoreVolume_clf_30_trial_0/atlasV3_down32_scoreVolume_clf_30_warp_10_MD591_down32_scoreVolume_clf_30_trial_0_0319.jpg\n",
      "aws s3 cp /shared/CSHL_registration_visualization/atlasV3/atlasV3_down32_scoreVolume_clf_30_warp_10_MD591_down32_scoreVolume_clf_30_trial_0/atlasV3_down32_scoreVolume_clf_30_warp_10_MD591_down32_scoreVolume_clf_30_trial_0_0314.jpg s3://mousebrainatlas-data/CSHL_registration_visualization/atlasV3/atlasV3_down32_scoreVolume_clf_30_warp_10_MD591_down32_scoreVolume_clf_30_trial_0/atlasV3_down32_scoreVolume_clf_30_warp_10_MD591_down32_scoreVolume_clf_30_trial_0_0314.jpg\n",
      "aws s3 cp /shared/CSHL_registration_visualization/atlasV3/atlasV3_down32_scoreVolume_clf_30_warp_10_MD591_down32_scoreVolume_clf_30_trial_0/atlasV3_down32_scoreVolume_clf_30_warp_10_MD591_down32_scoreVolume_clf_30_trial_0_0319.jpg s3://mousebrainatlas-data/CSHL_registration_visualization/atlasV3/atlasV3_down32_scoreVolume_clf_30_warp_10_MD591_down32_scoreVolume_clf_30_trial_0/atlasV3_down32_scoreVolume_clf_30_warp_10_MD591_down32_scoreVolume_clf_30_trial_0_0319.jpg\n",
      "/shared/CSHL_registration_visualization/atlasV3/atlasV3_down32_scoreVolume_clf_30_warp_10_MD591_down32_scoreVolume_clf_30_trial_0/atlasV3_down32_scoreVolume_clf_30_warp_10_MD591_down32_scoreVolume_clf_30_trial_0_0309.jpg\n",
      "aws s3 cp /shared/CSHL_registration_visualization/atlasV3/atlasV3_down32_scoreVolume_clf_30_warp_10_MD591_down32_scoreVolume_clf_30_trial_0/atlasV3_down32_scoreVolume_clf_30_warp_10_MD591_down32_scoreVolume_clf_30_trial_0_0309.jpg s3://mousebrainatlas-data/CSHL_registration_visualization/atlasV3/atlasV3_down32_scoreVolume_clf_30_warp_10_MD591_down32_scoreVolume_clf_30_trial_0/atlasV3_down32_scoreVolume_clf_30_warp_10_MD591_down32_scoreVolume_clf_30_trial_0_0309.jpg\n"
     ]
    },
    {
     "name": "stderr",
     "output_type": "stream",
     "text": [
      "Child returned 0\n",
      "0.77 seconds.\n",
      "Child returned 0\n",
      "0.77 seconds.\n"
     ]
    },
    {
     "name": "stdout",
     "output_type": "stream",
     "text": [
      "/shared/CSHL_registration_visualization/atlasV3/atlasV3_down32_scoreVolume_clf_30_warp_10_MD591_down32_scoreVolume_clf_30_trial_0/atlasV3_down32_scoreVolume_clf_30_warp_10_MD591_down32_scoreVolume_clf_30_trial_0_0260.jpg\n"
     ]
    },
    {
     "name": "stderr",
     "output_type": "stream",
     "text": [
      "Child returned 0\n",
      "0.86 seconds.\n"
     ]
    },
    {
     "name": "stdout",
     "output_type": "stream",
     "text": [
      "aws s3 cp /shared/CSHL_registration_visualization/atlasV3/atlasV3_down32_scoreVolume_clf_30_warp_10_MD591_down32_scoreVolume_clf_30_trial_0/atlasV3_down32_scoreVolume_clf_30_warp_10_MD591_down32_scoreVolume_clf_30_trial_0_0260.jpg s3://mousebrainatlas-data/CSHL_registration_visualization/atlasV3/atlasV3_down32_scoreVolume_clf_30_warp_10_MD591_down32_scoreVolume_clf_30_trial_0/atlasV3_down32_scoreVolume_clf_30_warp_10_MD591_down32_scoreVolume_clf_30_trial_0_0260.jpg\n"
     ]
    },
    {
     "name": "stderr",
     "output_type": "stream",
     "text": [
      "Child returned 0\n",
      "0.82 seconds.\n",
      "Child returned 0\n",
      "0.84 seconds.\n"
     ]
    },
    {
     "name": "stdout",
     "output_type": "stream",
     "text": [
      "/shared/CSHL_registration_visualization/atlasV3/atlasV3_down32_scoreVolume_clf_30_warp_10_MD591_down32_scoreVolume_clf_30_trial_0/atlasV3_down32_scoreVolume_clf_30_warp_10_MD591_down32_scoreVolume_clf_30_trial_0_0255.jpg\n",
      "aws s3 cp /shared/CSHL_registration_visualization/atlasV3/atlasV3_down32_scoreVolume_clf_30_warp_10_MD591_down32_scoreVolume_clf_30_trial_0/atlasV3_down32_scoreVolume_clf_30_warp_10_MD591_down32_scoreVolume_clf_30_trial_0_0255.jpg s3://mousebrainatlas-data/CSHL_registration_visualization/atlasV3/atlasV3_down32_scoreVolume_clf_30_warp_10_MD591_down32_scoreVolume_clf_30_trial_0/atlasV3_down32_scoreVolume_clf_30_warp_10_MD591_down32_scoreVolume_clf_30_trial_0_0255.jpg\n"
     ]
    },
    {
     "name": "stderr",
     "output_type": "stream",
     "text": [
      "Child returned 0\n",
      "0.81 seconds.\n",
      "Child returned 0\n",
      "0.87 seconds.\n",
      "Child returned 0\n",
      "0.81 seconds.\n"
     ]
    },
    {
     "name": "stdout",
     "output_type": "stream",
     "text": [
      "/shared/CSHL_registration_visualization/atlasV3/atlasV3_down32_scoreVolume_clf_30_warp_10_MD591_down32_scoreVolume_clf_30_trial_0/atlasV3_down32_scoreVolume_clf_30_warp_10_MD591_down32_scoreVolume_clf_30_trial_0_0275.jpg\n",
      "aws s3 cp /shared/CSHL_registration_visualization/atlasV3/atlasV3_down32_scoreVolume_clf_30_warp_10_MD591_down32_scoreVolume_clf_30_trial_0/atlasV3_down32_scoreVolume_clf_30_warp_10_MD591_down32_scoreVolume_clf_30_trial_0_0275.jpg s3://mousebrainatlas-data/CSHL_registration_visualization/atlasV3/atlasV3_down32_scoreVolume_clf_30_warp_10_MD591_down32_scoreVolume_clf_30_trial_0/atlasV3_down32_scoreVolume_clf_30_warp_10_MD591_down32_scoreVolume_clf_30_trial_0_0275.jpg\n",
      "/shared/CSHL_registration_visualization/atlasV3/atlasV3_down32_scoreVolume_clf_30_warp_10_MD591_down32_scoreVolume_clf_30_trial_0/atlasV3_down32_scoreVolume_clf_30_warp_10_MD591_down32_scoreVolume_clf_30_trial_0_0270.jpg\n",
      "aws s3 cp /shared/CSHL_registration_visualization/atlasV3/atlasV3_down32_scoreVolume_clf_30_warp_10_MD591_down32_scoreVolume_clf_30_trial_0/atlasV3_down32_scoreVolume_clf_30_warp_10_MD591_down32_scoreVolume_clf_30_trial_0_0270.jpg s3://mousebrainatlas-data/CSHL_registration_visualization/atlasV3/atlasV3_down32_scoreVolume_clf_30_warp_10_MD591_down32_scoreVolume_clf_30_trial_0/atlasV3_down32_scoreVolume_clf_30_warp_10_MD591_down32_scoreVolume_clf_30_trial_0_0270.jpg\n",
      "/shared/CSHL_registration_visualization/atlasV3/atlasV3_down32_scoreVolume_clf_30_warp_10_MD591_down32_scoreVolume_clf_30_trial_0/atlasV3_down32_scoreVolume_clf_30_warp_10_MD591_down32_scoreVolume_clf_30_trial_0_0265.jpg\n",
      "aws s3 cp /shared/CSHL_registration_visualization/atlasV3/atlasV3_down32_scoreVolume_clf_30_warp_10_MD591_down32_scoreVolume_clf_30_trial_0/atlasV3_down32_scoreVolume_clf_30_warp_10_MD591_down32_scoreVolume_clf_30_trial_0_0265.jpg s3://mousebrainatlas-data/CSHL_registration_visualization/atlasV3/atlasV3_down32_scoreVolume_clf_30_warp_10_MD591_down32_scoreVolume_clf_30_trial_0/atlasV3_down32_scoreVolume_clf_30_warp_10_MD591_down32_scoreVolume_clf_30_trial_0_0265.jpg\n"
     ]
    },
    {
     "name": "stderr",
     "output_type": "stream",
     "text": [
      "Child returned 0\n",
      "0.83 seconds.\n",
      "Child returned 0\n",
      "0.75 seconds.\n"
     ]
    },
    {
     "name": "stdout",
     "output_type": "stream",
     "text": [
      "/shared/CSHL_registration_visualization/atlasV3/atlasV3_down32_scoreVolume_clf_30_warp_10_MD591_down32_scoreVolume_clf_30_trial_0/atlasV3_down32_scoreVolume_clf_30_warp_10_MD591_down32_scoreVolume_clf_30_trial_0_0280.jpg\n",
      "aws s3 cp /shared/CSHL_registration_visualization/atlasV3/atlasV3_down32_scoreVolume_clf_30_warp_10_MD591_down32_scoreVolume_clf_30_trial_0/atlasV3_down32_scoreVolume_clf_30_warp_10_MD591_down32_scoreVolume_clf_30_trial_0_0280.jpg s3://mousebrainatlas-data/CSHL_registration_visualization/atlasV3/atlasV3_down32_scoreVolume_clf_30_warp_10_MD591_down32_scoreVolume_clf_30_trial_0/atlasV3_down32_scoreVolume_clf_30_warp_10_MD591_down32_scoreVolume_clf_30_trial_0_0280.jpg\n",
      "/shared/CSHL_registration_visualization/atlasV3/atlasV3_down32_scoreVolume_clf_30_warp_10_MD591_down32_scoreVolume_clf_30_trial_0/atlasV3_down32_scoreVolume_clf_30_warp_10_MD591_down32_scoreVolume_clf_30_trial_0_0285.jpg\n",
      "aws s3 cp /shared/CSHL_registration_visualization/atlasV3/atlasV3_down32_scoreVolume_clf_30_warp_10_MD591_down32_scoreVolume_clf_30_trial_0/atlasV3_down32_scoreVolume_clf_30_warp_10_MD591_down32_scoreVolume_clf_30_trial_0_0285.jpg s3://mousebrainatlas-data/CSHL_registration_visualization/atlasV3/atlasV3_down32_scoreVolume_clf_30_warp_10_MD591_down32_scoreVolume_clf_30_trial_0/atlasV3_down32_scoreVolume_clf_30_warp_10_MD591_down32_scoreVolume_clf_30_trial_0_0285.jpg\n"
     ]
    },
    {
     "name": "stderr",
     "output_type": "stream",
     "text": [
      "Child returned 0\n",
      "0.80 seconds.\n"
     ]
    },
    {
     "name": "stdout",
     "output_type": "stream",
     "text": [
      "/shared/CSHL_registration_visualization/atlasV3/atlasV3_down32_scoreVolume_clf_30_warp_10_MD591_down32_scoreVolume_clf_30_trial_0/atlasV3_down32_scoreVolume_clf_30_warp_10_MD591_down32_scoreVolume_clf_30_trial_0_0290.jpg\n"
     ]
    },
    {
     "name": "stderr",
     "output_type": "stream",
     "text": [
      "Child returned 0\n",
      "0.84 seconds.\n"
     ]
    },
    {
     "name": "stdout",
     "output_type": "stream",
     "text": [
      "aws s3 cp /shared/CSHL_registration_visualization/atlasV3/atlasV3_down32_scoreVolume_clf_30_warp_10_MD591_down32_scoreVolume_clf_30_trial_0/atlasV3_down32_scoreVolume_clf_30_warp_10_MD591_down32_scoreVolume_clf_30_trial_0_0290.jpg s3://mousebrainatlas-data/CSHL_registration_visualization/atlasV3/atlasV3_down32_scoreVolume_clf_30_warp_10_MD591_down32_scoreVolume_clf_30_trial_0/atlasV3_down32_scoreVolume_clf_30_warp_10_MD591_down32_scoreVolume_clf_30_trial_0_0290.jpg\n"
     ]
    },
    {
     "name": "stderr",
     "output_type": "stream",
     "text": [
      "Child returned 0\n",
      "0.79 seconds.\n"
     ]
    },
    {
     "name": "stdout",
     "output_type": "stream",
     "text": [
      "/shared/CSHL_registration_visualization/atlasV3/atlasV3_down32_scoreVolume_clf_30_warp_10_MD591_down32_scoreVolume_clf_30_trial_0/atlasV3_down32_scoreVolume_clf_30_warp_10_MD591_down32_scoreVolume_clf_30_trial_0_0295.jpg\n",
      "aws s3 cp /shared/CSHL_registration_visualization/atlasV3/atlasV3_down32_scoreVolume_clf_30_warp_10_MD591_down32_scoreVolume_clf_30_trial_0/atlasV3_down32_scoreVolume_clf_30_warp_10_MD591_down32_scoreVolume_clf_30_trial_0_0295.jpg s3://mousebrainatlas-data/CSHL_registration_visualization/atlasV3/atlasV3_down32_scoreVolume_clf_30_warp_10_MD591_down32_scoreVolume_clf_30_trial_0/atlasV3_down32_scoreVolume_clf_30_warp_10_MD591_down32_scoreVolume_clf_30_trial_0_0295.jpg\n"
     ]
    },
    {
     "name": "stderr",
     "output_type": "stream",
     "text": [
      "Child returned 0\n",
      "0.77 seconds.\n"
     ]
    },
    {
     "name": "stdout",
     "output_type": "stream",
     "text": [
      "/shared/CSHL_registration_visualization/atlasV3/atlasV3_down32_scoreVolume_clf_30_warp_10_MD591_down32_scoreVolume_clf_30_trial_0/atlasV3_down32_scoreVolume_clf_30_warp_10_MD591_down32_scoreVolume_clf_30_trial_0_0305.jpg\n",
      "aws s3 cp /shared/CSHL_registration_visualization/atlasV3/atlasV3_down32_scoreVolume_clf_30_warp_10_MD591_down32_scoreVolume_clf_30_trial_0/atlasV3_down32_scoreVolume_clf_30_warp_10_MD591_down32_scoreVolume_clf_30_trial_0_0305.jpg s3://mousebrainatlas-data/CSHL_registration_visualization/atlasV3/atlasV3_down32_scoreVolume_clf_30_warp_10_MD591_down32_scoreVolume_clf_30_trial_0/atlasV3_down32_scoreVolume_clf_30_warp_10_MD591_down32_scoreVolume_clf_30_trial_0_0305.jpg\n",
      "/shared/CSHL_registration_visualization/atlasV3/atlasV3_down32_scoreVolume_clf_30_warp_10_MD591_down32_scoreVolume_clf_30_trial_0/atlasV3_down32_scoreVolume_clf_30_warp_10_MD591_down32_scoreVolume_clf_30_trial_0_0301.jpg\n",
      "/shared/CSHL_registration_visualization/atlasV3/atlasV3_down32_scoreVolume_clf_30_warp_10_MD591_down32_scoreVolume_clf_30_trial_0/atlasV3_down32_scoreVolume_clf_30_warp_10_MD591_down32_scoreVolume_clf_30_trial_0_0251.jpg\n",
      "aws s3 cp /shared/CSHL_registration_visualization/atlasV3/atlasV3_down32_scoreVolume_clf_30_warp_10_MD591_down32_scoreVolume_clf_30_trial_0/atlasV3_down32_scoreVolume_clf_30_warp_10_MD591_down32_scoreVolume_clf_30_trial_0_0301.jpg s3://mousebrainatlas-data/CSHL_registration_visualization/atlasV3/atlasV3_down32_scoreVolume_clf_30_warp_10_MD591_down32_scoreVolume_clf_30_trial_0/atlasV3_down32_scoreVolume_clf_30_warp_10_MD591_down32_scoreVolume_clf_30_trial_0_0301.jpg\n",
      "aws s3 cp /shared/CSHL_registration_visualization/atlasV3/atlasV3_down32_scoreVolume_clf_30_warp_10_MD591_down32_scoreVolume_clf_30_trial_0/atlasV3_down32_scoreVolume_clf_30_warp_10_MD591_down32_scoreVolume_clf_30_trial_0_0251.jpg s3://mousebrainatlas-data/CSHL_registration_visualization/atlasV3/atlasV3_down32_scoreVolume_clf_30_warp_10_MD591_down32_scoreVolume_clf_30_trial_0/atlasV3_down32_scoreVolume_clf_30_warp_10_MD591_down32_scoreVolume_clf_30_trial_0_0251.jpg\n"
     ]
    },
    {
     "name": "stderr",
     "output_type": "stream",
     "text": [
      "Child returned 0\n",
      "0.81 seconds.\n"
     ]
    },
    {
     "name": "stdout",
     "output_type": "stream",
     "text": [
      "/shared/CSHL_registration_visualization/atlasV3/atlasV3_down32_scoreVolume_clf_30_warp_10_MD591_down32_scoreVolume_clf_30_trial_0/atlasV3_down32_scoreVolume_clf_30_warp_10_MD591_down32_scoreVolume_clf_30_trial_0_0320.jpg\n",
      "/shared/CSHL_registration_visualization/atlasV3/atlasV3_down32_scoreVolume_clf_30_warp_10_MD591_down32_scoreVolume_clf_30_trial_0/atlasV3_down32_scoreVolume_clf_30_warp_10_MD591_down32_scoreVolume_clf_30_trial_0_0315.jpg\n"
     ]
    },
    {
     "name": "stderr",
     "output_type": "stream",
     "text": [
      "Child returned 0\n"
     ]
    },
    {
     "name": "stdout",
     "output_type": "stream",
     "text": [
      "aws s3 cp /shared/CSHL_registration_visualization/atlasV3/atlasV3_down32_scoreVolume_clf_30_warp_10_MD591_down32_scoreVolume_clf_30_trial_0/atlasV3_down32_scoreVolume_clf_30_warp_10_MD591_down32_scoreVolume_clf_30_trial_0_0320.jpg s3://mousebrainatlas-data/CSHL_registration_visualization/atlasV3/atlasV3_down32_scoreVolume_clf_30_warp_10_MD591_down32_scoreVolume_clf_30_trial_0/atlasV3_down32_scoreVolume_clf_30_warp_10_MD591_down32_scoreVolume_clf_30_trial_0_0320.jpg\n"
     ]
    },
    {
     "name": "stderr",
     "output_type": "stream",
     "text": [
      "0.80 seconds.\n"
     ]
    },
    {
     "name": "stdout",
     "output_type": "stream",
     "text": [
      "aws s3 cp /shared/CSHL_registration_visualization/atlasV3/atlasV3_down32_scoreVolume_clf_30_warp_10_MD591_down32_scoreVolume_clf_30_trial_0/atlasV3_down32_scoreVolume_clf_30_warp_10_MD591_down32_scoreVolume_clf_30_trial_0_0315.jpg s3://mousebrainatlas-data/CSHL_registration_visualization/atlasV3/atlasV3_down32_scoreVolume_clf_30_warp_10_MD591_down32_scoreVolume_clf_30_trial_0/atlasV3_down32_scoreVolume_clf_30_warp_10_MD591_down32_scoreVolume_clf_30_trial_0_0315.jpg\n",
      "/shared/CSHL_registration_visualization/atlasV3/atlasV3_down32_scoreVolume_clf_30_warp_10_MD591_down32_scoreVolume_clf_30_trial_0/atlasV3_down32_scoreVolume_clf_30_warp_10_MD591_down32_scoreVolume_clf_30_trial_0_0310.jpg\n",
      "aws s3 cp /shared/CSHL_registration_visualization/atlasV3/atlasV3_down32_scoreVolume_clf_30_warp_10_MD591_down32_scoreVolume_clf_30_trial_0/atlasV3_down32_scoreVolume_clf_30_warp_10_MD591_down32_scoreVolume_clf_30_trial_0_0310.jpg s3://mousebrainatlas-data/CSHL_registration_visualization/atlasV3/atlasV3_down32_scoreVolume_clf_30_warp_10_MD591_down32_scoreVolume_clf_30_trial_0/atlasV3_down32_scoreVolume_clf_30_warp_10_MD591_down32_scoreVolume_clf_30_trial_0_0310.jpg\n"
     ]
    },
    {
     "name": "stderr",
     "output_type": "stream",
     "text": [
      "Child returned 0\n",
      "0.84 seconds.\n"
     ]
    },
    {
     "name": "stdout",
     "output_type": "stream",
     "text": [
      "/shared/CSHL_registration_visualization/atlasV3/atlasV3_down32_scoreVolume_clf_30_warp_10_MD591_down32_scoreVolume_clf_30_trial_0/atlasV3_down32_scoreVolume_clf_30_warp_10_MD591_down32_scoreVolume_clf_30_trial_0_0261.jpg\n"
     ]
    },
    {
     "name": "stderr",
     "output_type": "stream",
     "text": [
      "Child returned 0\n",
      "0.78 seconds.\n"
     ]
    },
    {
     "name": "stdout",
     "output_type": "stream",
     "text": [
      "aws s3 cp /shared/CSHL_registration_visualization/atlasV3/atlasV3_down32_scoreVolume_clf_30_warp_10_MD591_down32_scoreVolume_clf_30_trial_0/atlasV3_down32_scoreVolume_clf_30_warp_10_MD591_down32_scoreVolume_clf_30_trial_0_0261.jpg s3://mousebrainatlas-data/CSHL_registration_visualization/atlasV3/atlasV3_down32_scoreVolume_clf_30_warp_10_MD591_down32_scoreVolume_clf_30_trial_0/atlasV3_down32_scoreVolume_clf_30_warp_10_MD591_down32_scoreVolume_clf_30_trial_0_0261.jpg\n"
     ]
    },
    {
     "name": "stderr",
     "output_type": "stream",
     "text": [
      "Child returned 0\n",
      "0.78 seconds.\n",
      "Child returned 0\n",
      "0.86 seconds.\n"
     ]
    },
    {
     "name": "stdout",
     "output_type": "stream",
     "text": [
      "/shared/CSHL_registration_visualization/atlasV3/atlasV3_down32_scoreVolume_clf_30_warp_10_MD591_down32_scoreVolume_clf_30_trial_0/atlasV3_down32_scoreVolume_clf_30_warp_10_MD591_down32_scoreVolume_clf_30_trial_0_0256.jpg\n",
      "aws s3 cp /shared/CSHL_registration_visualization/atlasV3/atlasV3_down32_scoreVolume_clf_30_warp_10_MD591_down32_scoreVolume_clf_30_trial_0/atlasV3_down32_scoreVolume_clf_30_warp_10_MD591_down32_scoreVolume_clf_30_trial_0_0256.jpg s3://mousebrainatlas-data/CSHL_registration_visualization/atlasV3/atlasV3_down32_scoreVolume_clf_30_warp_10_MD591_down32_scoreVolume_clf_30_trial_0/atlasV3_down32_scoreVolume_clf_30_warp_10_MD591_down32_scoreVolume_clf_30_trial_0_0256.jpg\n"
     ]
    },
    {
     "name": "stderr",
     "output_type": "stream",
     "text": [
      "Child returned 0\n",
      "0.76 seconds.\n",
      "Child returned 0\n",
      "0.80 seconds.\n",
      "Child returned 0\n",
      "0.73 seconds.\n"
     ]
    },
    {
     "name": "stdout",
     "output_type": "stream",
     "text": [
      "/shared/CSHL_registration_visualization/atlasV3/atlasV3_down32_scoreVolume_clf_30_warp_10_MD591_down32_scoreVolume_clf_30_trial_0/atlasV3_down32_scoreVolume_clf_30_warp_10_MD591_down32_scoreVolume_clf_30_trial_0_0271.jpg\n",
      "/shared/CSHL_registration_visualization/atlasV3/atlasV3_down32_scoreVolume_clf_30_warp_10_MD591_down32_scoreVolume_clf_30_trial_0/atlasV3_down32_scoreVolume_clf_30_warp_10_MD591_down32_scoreVolume_clf_30_trial_0_0266.jpg\n",
      "aws s3 cp /shared/CSHL_registration_visualization/atlasV3/atlasV3_down32_scoreVolume_clf_30_warp_10_MD591_down32_scoreVolume_clf_30_trial_0/atlasV3_down32_scoreVolume_clf_30_warp_10_MD591_down32_scoreVolume_clf_30_trial_0_0271.jpg s3://mousebrainatlas-data/CSHL_registration_visualization/atlasV3/atlasV3_down32_scoreVolume_clf_30_warp_10_MD591_down32_scoreVolume_clf_30_trial_0/atlasV3_down32_scoreVolume_clf_30_warp_10_MD591_down32_scoreVolume_clf_30_trial_0_0271.jpg\n",
      "/shared/CSHL_registration_visualization/atlasV3/atlasV3_down32_scoreVolume_clf_30_warp_10_MD591_down32_scoreVolume_clf_30_trial_0/atlasV3_down32_scoreVolume_clf_30_warp_10_MD591_down32_scoreVolume_clf_30_trial_0_0276.jpg\n",
      "aws s3 cp /shared/CSHL_registration_visualization/atlasV3/atlasV3_down32_scoreVolume_clf_30_warp_10_MD591_down32_scoreVolume_clf_30_trial_0/atlasV3_down32_scoreVolume_clf_30_warp_10_MD591_down32_scoreVolume_clf_30_trial_0_0266.jpg s3://mousebrainatlas-data/CSHL_registration_visualization/atlasV3/atlasV3_down32_scoreVolume_clf_30_warp_10_MD591_down32_scoreVolume_clf_30_trial_0/atlasV3_down32_scoreVolume_clf_30_warp_10_MD591_down32_scoreVolume_clf_30_trial_0_0266.jpg\n",
      "aws s3 cp /shared/CSHL_registration_visualization/atlasV3/atlasV3_down32_scoreVolume_clf_30_warp_10_MD591_down32_scoreVolume_clf_30_trial_0/atlasV3_down32_scoreVolume_clf_30_warp_10_MD591_down32_scoreVolume_clf_30_trial_0_0276.jpg s3://mousebrainatlas-data/CSHL_registration_visualization/atlasV3/atlasV3_down32_scoreVolume_clf_30_warp_10_MD591_down32_scoreVolume_clf_30_trial_0/atlasV3_down32_scoreVolume_clf_30_warp_10_MD591_down32_scoreVolume_clf_30_trial_0_0276.jpg\n"
     ]
    },
    {
     "name": "stderr",
     "output_type": "stream",
     "text": [
      "Child returned 0\n",
      "0.89 seconds.\n",
      "Child returned 0\n",
      "0.84 seconds.\n"
     ]
    },
    {
     "name": "stdout",
     "output_type": "stream",
     "text": [
      "/shared/CSHL_registration_visualization/atlasV3/atlasV3_down32_scoreVolume_clf_30_warp_10_MD591_down32_scoreVolume_clf_30_trial_0/atlasV3_down32_scoreVolume_clf_30_warp_10_MD591_down32_scoreVolume_clf_30_trial_0_0281.jpg\n",
      "aws s3 cp /shared/CSHL_registration_visualization/atlasV3/atlasV3_down32_scoreVolume_clf_30_warp_10_MD591_down32_scoreVolume_clf_30_trial_0/atlasV3_down32_scoreVolume_clf_30_warp_10_MD591_down32_scoreVolume_clf_30_trial_0_0281.jpg s3://mousebrainatlas-data/CSHL_registration_visualization/atlasV3/atlasV3_down32_scoreVolume_clf_30_warp_10_MD591_down32_scoreVolume_clf_30_trial_0/atlasV3_down32_scoreVolume_clf_30_warp_10_MD591_down32_scoreVolume_clf_30_trial_0_0281.jpg\n",
      "/shared/CSHL_registration_visualization/atlasV3/atlasV3_down32_scoreVolume_clf_30_warp_10_MD591_down32_scoreVolume_clf_30_trial_0/atlasV3_down32_scoreVolume_clf_30_warp_10_MD591_down32_scoreVolume_clf_30_trial_0_0286.jpg\n"
     ]
    },
    {
     "name": "stderr",
     "output_type": "stream",
     "text": [
      "Child returned 0\n",
      "0.70 seconds.\n"
     ]
    },
    {
     "name": "stdout",
     "output_type": "stream",
     "text": [
      "aws s3 cp /shared/CSHL_registration_visualization/atlasV3/atlasV3_down32_scoreVolume_clf_30_warp_10_MD591_down32_scoreVolume_clf_30_trial_0/atlasV3_down32_scoreVolume_clf_30_warp_10_MD591_down32_scoreVolume_clf_30_trial_0_0286.jpg s3://mousebrainatlas-data/CSHL_registration_visualization/atlasV3/atlasV3_down32_scoreVolume_clf_30_warp_10_MD591_down32_scoreVolume_clf_30_trial_0/atlasV3_down32_scoreVolume_clf_30_warp_10_MD591_down32_scoreVolume_clf_30_trial_0_0286.jpg\n"
     ]
    },
    {
     "name": "stderr",
     "output_type": "stream",
     "text": [
      "Child returned 0\n",
      "0.79 seconds.\n",
      "Child returned 0\n",
      "0.82 seconds.\n"
     ]
    },
    {
     "name": "stdout",
     "output_type": "stream",
     "text": [
      "/shared/CSHL_registration_visualization/atlasV3/atlasV3_down32_scoreVolume_clf_30_warp_10_MD591_down32_scoreVolume_clf_30_trial_0/atlasV3_down32_scoreVolume_clf_30_warp_10_MD591_down32_scoreVolume_clf_30_trial_0_0291.jpg\n",
      "aws s3 cp /shared/CSHL_registration_visualization/atlasV3/atlasV3_down32_scoreVolume_clf_30_warp_10_MD591_down32_scoreVolume_clf_30_trial_0/atlasV3_down32_scoreVolume_clf_30_warp_10_MD591_down32_scoreVolume_clf_30_trial_0_0291.jpg s3://mousebrainatlas-data/CSHL_registration_visualization/atlasV3/atlasV3_down32_scoreVolume_clf_30_warp_10_MD591_down32_scoreVolume_clf_30_trial_0/atlasV3_down32_scoreVolume_clf_30_warp_10_MD591_down32_scoreVolume_clf_30_trial_0_0291.jpg\n",
      "/shared/CSHL_registration_visualization/atlasV3/atlasV3_down32_scoreVolume_clf_30_warp_10_MD591_down32_scoreVolume_clf_30_trial_0/atlasV3_down32_scoreVolume_clf_30_warp_10_MD591_down32_scoreVolume_clf_30_trial_0_0296.jpg\n"
     ]
    },
    {
     "name": "stderr",
     "output_type": "stream",
     "text": [
      "Child returned 0\n",
      "0.75 seconds.\n"
     ]
    },
    {
     "name": "stdout",
     "output_type": "stream",
     "text": [
      "/shared/CSHL_registration_visualization/atlasV3/atlasV3_down32_scoreVolume_clf_30_warp_10_MD591_down32_scoreVolume_clf_30_trial_0/atlasV3_down32_scoreVolume_clf_30_warp_10_MD591_down32_scoreVolume_clf_30_trial_0_0306.jpg\n",
      "aws s3 cp /shared/CSHL_registration_visualization/atlasV3/atlasV3_down32_scoreVolume_clf_30_warp_10_MD591_down32_scoreVolume_clf_30_trial_0/atlasV3_down32_scoreVolume_clf_30_warp_10_MD591_down32_scoreVolume_clf_30_trial_0_0296.jpg s3://mousebrainatlas-data/CSHL_registration_visualization/atlasV3/atlasV3_down32_scoreVolume_clf_30_warp_10_MD591_down32_scoreVolume_clf_30_trial_0/atlasV3_down32_scoreVolume_clf_30_warp_10_MD591_down32_scoreVolume_clf_30_trial_0_0296.jpg\n",
      "aws s3 cp /shared/CSHL_registration_visualization/atlasV3/atlasV3_down32_scoreVolume_clf_30_warp_10_MD591_down32_scoreVolume_clf_30_trial_0/atlasV3_down32_scoreVolume_clf_30_warp_10_MD591_down32_scoreVolume_clf_30_trial_0_0306.jpg s3://mousebrainatlas-data/CSHL_registration_visualization/atlasV3/atlasV3_down32_scoreVolume_clf_30_warp_10_MD591_down32_scoreVolume_clf_30_trial_0/atlasV3_down32_scoreVolume_clf_30_warp_10_MD591_down32_scoreVolume_clf_30_trial_0_0306.jpg\n",
      "/shared/CSHL_registration_visualization/atlasV3/atlasV3_down32_scoreVolume_clf_30_warp_10_MD591_down32_scoreVolume_clf_30_trial_0/atlasV3_down32_scoreVolume_clf_30_warp_10_MD591_down32_scoreVolume_clf_30_trial_0_0302.jpg\n",
      "aws s3 cp /shared/CSHL_registration_visualization/atlasV3/atlasV3_down32_scoreVolume_clf_30_warp_10_MD591_down32_scoreVolume_clf_30_trial_0/atlasV3_down32_scoreVolume_clf_30_warp_10_MD591_down32_scoreVolume_clf_30_trial_0_0302.jpg s3://mousebrainatlas-data/CSHL_registration_visualization/atlasV3/atlasV3_down32_scoreVolume_clf_30_warp_10_MD591_down32_scoreVolume_clf_30_trial_0/atlasV3_down32_scoreVolume_clf_30_warp_10_MD591_down32_scoreVolume_clf_30_trial_0_0302.jpg\n",
      "/shared/CSHL_registration_visualization/atlasV3/atlasV3_down32_scoreVolume_clf_30_warp_10_MD591_down32_scoreVolume_clf_30_trial_0/atlasV3_down32_scoreVolume_clf_30_warp_10_MD591_down32_scoreVolume_clf_30_trial_0_0252.jpg\n",
      "aws s3 cp /shared/CSHL_registration_visualization/atlasV3/atlasV3_down32_scoreVolume_clf_30_warp_10_MD591_down32_scoreVolume_clf_30_trial_0/atlasV3_down32_scoreVolume_clf_30_warp_10_MD591_down32_scoreVolume_clf_30_trial_0_0252.jpg s3://mousebrainatlas-data/CSHL_registration_visualization/atlasV3/atlasV3_down32_scoreVolume_clf_30_warp_10_MD591_down32_scoreVolume_clf_30_trial_0/atlasV3_down32_scoreVolume_clf_30_warp_10_MD591_down32_scoreVolume_clf_30_trial_0_0252.jpg\n"
     ]
    },
    {
     "name": "stderr",
     "output_type": "stream",
     "text": [
      "Child returned 0\n",
      "0.84 seconds.\n",
      "Child returned 0\n",
      "0.75 seconds.\n"
     ]
    },
    {
     "name": "stdout",
     "output_type": "stream",
     "text": [
      "/shared/CSHL_registration_visualization/atlasV3/atlasV3_down32_scoreVolume_clf_30_warp_10_MD591_down32_scoreVolume_clf_30_trial_0/atlasV3_down32_scoreVolume_clf_30_warp_10_MD591_down32_scoreVolume_clf_30_trial_0_0321.jpg\n",
      "aws s3 cp /shared/CSHL_registration_visualization/atlasV3/atlasV3_down32_scoreVolume_clf_30_warp_10_MD591_down32_scoreVolume_clf_30_trial_0/atlasV3_down32_scoreVolume_clf_30_warp_10_MD591_down32_scoreVolume_clf_30_trial_0_0321.jpg s3://mousebrainatlas-data/CSHL_registration_visualization/atlasV3/atlasV3_down32_scoreVolume_clf_30_warp_10_MD591_down32_scoreVolume_clf_30_trial_0/atlasV3_down32_scoreVolume_clf_30_warp_10_MD591_down32_scoreVolume_clf_30_trial_0_0321.jpg\n",
      "/shared/CSHL_registration_visualization/atlasV3/atlasV3_down32_scoreVolume_clf_30_warp_10_MD591_down32_scoreVolume_clf_30_trial_0/atlasV3_down32_scoreVolume_clf_30_warp_10_MD591_down32_scoreVolume_clf_30_trial_0_0316.jpg\n",
      "/shared/CSHL_registration_visualization/atlasV3/atlasV3_down32_scoreVolume_clf_30_warp_10_MD591_down32_scoreVolume_clf_30_trial_0/atlasV3_down32_scoreVolume_clf_30_warp_10_MD591_down32_scoreVolume_clf_30_trial_0_0311.jpg\n",
      "aws s3 cp /shared/CSHL_registration_visualization/atlasV3/atlasV3_down32_scoreVolume_clf_30_warp_10_MD591_down32_scoreVolume_clf_30_trial_0/atlasV3_down32_scoreVolume_clf_30_warp_10_MD591_down32_scoreVolume_clf_30_trial_0_0316.jpg s3://mousebrainatlas-data/CSHL_registration_visualization/atlasV3/atlasV3_down32_scoreVolume_clf_30_warp_10_MD591_down32_scoreVolume_clf_30_trial_0/atlasV3_down32_scoreVolume_clf_30_warp_10_MD591_down32_scoreVolume_clf_30_trial_0_0316.jpg\n",
      "aws s3 cp /shared/CSHL_registration_visualization/atlasV3/atlasV3_down32_scoreVolume_clf_30_warp_10_MD591_down32_scoreVolume_clf_30_trial_0/atlasV3_down32_scoreVolume_clf_30_warp_10_MD591_down32_scoreVolume_clf_30_trial_0_0311.jpg s3://mousebrainatlas-data/CSHL_registration_visualization/atlasV3/atlasV3_down32_scoreVolume_clf_30_warp_10_MD591_down32_scoreVolume_clf_30_trial_0/atlasV3_down32_scoreVolume_clf_30_warp_10_MD591_down32_scoreVolume_clf_30_trial_0_0311.jpg\n"
     ]
    },
    {
     "name": "stderr",
     "output_type": "stream",
     "text": [
      "Child returned 0\n",
      "0.73 seconds.\n",
      "Child returned 0\n",
      "0.80 seconds.\n",
      "Child returned 0\n",
      "0.76 seconds.\n",
      "Child returned 0\n",
      "0.75 seconds.\n"
     ]
    },
    {
     "name": "stdout",
     "output_type": "stream",
     "text": [
      "/shared/CSHL_registration_visualization/atlasV3/atlasV3_down32_scoreVolume_clf_30_warp_10_MD591_down32_scoreVolume_clf_30_trial_0/atlasV3_down32_scoreVolume_clf_30_warp_10_MD591_down32_scoreVolume_clf_30_trial_0_0262.jpg\n",
      "aws s3 cp /shared/CSHL_registration_visualization/atlasV3/atlasV3_down32_scoreVolume_clf_30_warp_10_MD591_down32_scoreVolume_clf_30_trial_0/atlasV3_down32_scoreVolume_clf_30_warp_10_MD591_down32_scoreVolume_clf_30_trial_0_0262.jpg s3://mousebrainatlas-data/CSHL_registration_visualization/atlasV3/atlasV3_down32_scoreVolume_clf_30_warp_10_MD591_down32_scoreVolume_clf_30_trial_0/atlasV3_down32_scoreVolume_clf_30_warp_10_MD591_down32_scoreVolume_clf_30_trial_0_0262.jpg\n",
      "/shared/CSHL_registration_visualization/atlasV3/atlasV3_down32_scoreVolume_clf_30_warp_10_MD591_down32_scoreVolume_clf_30_trial_0/atlasV3_down32_scoreVolume_clf_30_warp_10_MD591_down32_scoreVolume_clf_30_trial_0_0257.jpg\n"
     ]
    },
    {
     "name": "stderr",
     "output_type": "stream",
     "text": [
      "Child returned 0\n",
      "0.74 seconds.\n"
     ]
    },
    {
     "name": "stdout",
     "output_type": "stream",
     "text": [
      "aws s3 cp /shared/CSHL_registration_visualization/atlasV3/atlasV3_down32_scoreVolume_clf_30_warp_10_MD591_down32_scoreVolume_clf_30_trial_0/atlasV3_down32_scoreVolume_clf_30_warp_10_MD591_down32_scoreVolume_clf_30_trial_0_0257.jpg s3://mousebrainatlas-data/CSHL_registration_visualization/atlasV3/atlasV3_down32_scoreVolume_clf_30_warp_10_MD591_down32_scoreVolume_clf_30_trial_0/atlasV3_down32_scoreVolume_clf_30_warp_10_MD591_down32_scoreVolume_clf_30_trial_0_0257.jpg\n"
     ]
    },
    {
     "name": "stderr",
     "output_type": "stream",
     "text": [
      "Child returned 0\n",
      "0.81 seconds.\n",
      "Child returned 0\n",
      "0.83 seconds.\n"
     ]
    },
    {
     "name": "stdout",
     "output_type": "stream",
     "text": [
      "/shared/CSHL_registration_visualization/atlasV3/atlasV3_down32_scoreVolume_clf_30_warp_10_MD591_down32_scoreVolume_clf_30_trial_0/atlasV3_down32_scoreVolume_clf_30_warp_10_MD591_down32_scoreVolume_clf_30_trial_0_0277.jpg\n",
      "aws s3 cp /shared/CSHL_registration_visualization/atlasV3/atlasV3_down32_scoreVolume_clf_30_warp_10_MD591_down32_scoreVolume_clf_30_trial_0/atlasV3_down32_scoreVolume_clf_30_warp_10_MD591_down32_scoreVolume_clf_30_trial_0_0277.jpg s3://mousebrainatlas-data/CSHL_registration_visualization/atlasV3/atlasV3_down32_scoreVolume_clf_30_warp_10_MD591_down32_scoreVolume_clf_30_trial_0/atlasV3_down32_scoreVolume_clf_30_warp_10_MD591_down32_scoreVolume_clf_30_trial_0_0277.jpg\n",
      "/shared/CSHL_registration_visualization/atlasV3/atlasV3_down32_scoreVolume_clf_30_warp_10_MD591_down32_scoreVolume_clf_30_trial_0/atlasV3_down32_scoreVolume_clf_30_warp_10_MD591_down32_scoreVolume_clf_30_trial_0_0267.jpg\n",
      "aws s3 cp /shared/CSHL_registration_visualization/atlasV3/atlasV3_down32_scoreVolume_clf_30_warp_10_MD591_down32_scoreVolume_clf_30_trial_0/atlasV3_down32_scoreVolume_clf_30_warp_10_MD591_down32_scoreVolume_clf_30_trial_0_0267.jpg s3://mousebrainatlas-data/CSHL_registration_visualization/atlasV3/atlasV3_down32_scoreVolume_clf_30_warp_10_MD591_down32_scoreVolume_clf_30_trial_0/atlasV3_down32_scoreVolume_clf_30_warp_10_MD591_down32_scoreVolume_clf_30_trial_0_0267.jpg\n",
      "/shared/CSHL_registration_visualization/atlasV3/atlasV3_down32_scoreVolume_clf_30_warp_10_MD591_down32_scoreVolume_clf_30_trial_0/atlasV3_down32_scoreVolume_clf_30_warp_10_MD591_down32_scoreVolume_clf_30_trial_0_0272.jpg\n",
      "aws s3 cp /shared/CSHL_registration_visualization/atlasV3/atlasV3_down32_scoreVolume_clf_30_warp_10_MD591_down32_scoreVolume_clf_30_trial_0/atlasV3_down32_scoreVolume_clf_30_warp_10_MD591_down32_scoreVolume_clf_30_trial_0_0272.jpg s3://mousebrainatlas-data/CSHL_registration_visualization/atlasV3/atlasV3_down32_scoreVolume_clf_30_warp_10_MD591_down32_scoreVolume_clf_30_trial_0/atlasV3_down32_scoreVolume_clf_30_warp_10_MD591_down32_scoreVolume_clf_30_trial_0_0272.jpg\n"
     ]
    },
    {
     "name": "stderr",
     "output_type": "stream",
     "text": [
      "Child returned 0\n",
      "0.80 seconds.\n",
      "Child returned 0\n",
      "0.81 seconds.\n"
     ]
    },
    {
     "name": "stdout",
     "output_type": "stream",
     "text": [
      "/shared/CSHL_registration_visualization/atlasV3/atlasV3_down32_scoreVolume_clf_30_warp_10_MD591_down32_scoreVolume_clf_30_trial_0/atlasV3_down32_scoreVolume_clf_30_warp_10_MD591_down32_scoreVolume_clf_30_trial_0_0282.jpg\n",
      "aws s3 cp /shared/CSHL_registration_visualization/atlasV3/atlasV3_down32_scoreVolume_clf_30_warp_10_MD591_down32_scoreVolume_clf_30_trial_0/atlasV3_down32_scoreVolume_clf_30_warp_10_MD591_down32_scoreVolume_clf_30_trial_0_0282.jpg s3://mousebrainatlas-data/CSHL_registration_visualization/atlasV3/atlasV3_down32_scoreVolume_clf_30_warp_10_MD591_down32_scoreVolume_clf_30_trial_0/atlasV3_down32_scoreVolume_clf_30_warp_10_MD591_down32_scoreVolume_clf_30_trial_0_0282.jpg\n",
      "/shared/CSHL_registration_visualization/atlasV3/atlasV3_down32_scoreVolume_clf_30_warp_10_MD591_down32_scoreVolume_clf_30_trial_0/atlasV3_down32_scoreVolume_clf_30_warp_10_MD591_down32_scoreVolume_clf_30_trial_0_0287.jpg\n",
      "aws s3 cp /shared/CSHL_registration_visualization/atlasV3/atlasV3_down32_scoreVolume_clf_30_warp_10_MD591_down32_scoreVolume_clf_30_trial_0/atlasV3_down32_scoreVolume_clf_30_warp_10_MD591_down32_scoreVolume_clf_30_trial_0_0287.jpg s3://mousebrainatlas-data/CSHL_registration_visualization/atlasV3/atlasV3_down32_scoreVolume_clf_30_warp_10_MD591_down32_scoreVolume_clf_30_trial_0/atlasV3_down32_scoreVolume_clf_30_warp_10_MD591_down32_scoreVolume_clf_30_trial_0_0287.jpg\n"
     ]
    },
    {
     "name": "stderr",
     "output_type": "stream",
     "text": [
      "Child returned 0\n",
      "0.81 seconds.\n"
     ]
    },
    {
     "name": "stdout",
     "output_type": "stream",
     "text": [
      "/shared/CSHL_registration_visualization/atlasV3/atlasV3_down32_scoreVolume_clf_30_warp_10_MD591_down32_scoreVolume_clf_30_trial_0/atlasV3_down32_scoreVolume_clf_30_warp_10_MD591_down32_scoreVolume_clf_30_trial_0_0292.jpg\n"
     ]
    },
    {
     "name": "stderr",
     "output_type": "stream",
     "text": [
      "Child returned 0\n",
      "0.77 seconds.\n"
     ]
    },
    {
     "name": "stdout",
     "output_type": "stream",
     "text": [
      "aws s3 cp /shared/CSHL_registration_visualization/atlasV3/atlasV3_down32_scoreVolume_clf_30_warp_10_MD591_down32_scoreVolume_clf_30_trial_0/atlasV3_down32_scoreVolume_clf_30_warp_10_MD591_down32_scoreVolume_clf_30_trial_0_0292.jpg s3://mousebrainatlas-data/CSHL_registration_visualization/atlasV3/atlasV3_down32_scoreVolume_clf_30_warp_10_MD591_down32_scoreVolume_clf_30_trial_0/atlasV3_down32_scoreVolume_clf_30_warp_10_MD591_down32_scoreVolume_clf_30_trial_0_0292.jpg\n"
     ]
    },
    {
     "name": "stderr",
     "output_type": "stream",
     "text": [
      "Child returned 0\n",
      "0.94 seconds.\n"
     ]
    },
    {
     "name": "stdout",
     "output_type": "stream",
     "text": [
      "/shared/CSHL_registration_visualization/atlasV3/atlasV3_down32_scoreVolume_clf_30_warp_10_MD591_down32_scoreVolume_clf_30_trial_0/atlasV3_down32_scoreVolume_clf_30_warp_10_MD591_down32_scoreVolume_clf_30_trial_0_0297.jpg\n",
      "/shared/CSHL_registration_visualization/atlasV3/atlasV3_down32_scoreVolume_clf_30_warp_10_MD591_down32_scoreVolume_clf_30_trial_0/atlasV3_down32_scoreVolume_clf_30_warp_10_MD591_down32_scoreVolume_clf_30_trial_0_0324.jpg\n",
      "aws s3 cp /shared/CSHL_registration_visualization/atlasV3/atlasV3_down32_scoreVolume_clf_30_warp_10_MD591_down32_scoreVolume_clf_30_trial_0/atlasV3_down32_scoreVolume_clf_30_warp_10_MD591_down32_scoreVolume_clf_30_trial_0_0297.jpg s3://mousebrainatlas-data/CSHL_registration_visualization/atlasV3/atlasV3_down32_scoreVolume_clf_30_warp_10_MD591_down32_scoreVolume_clf_30_trial_0/atlasV3_down32_scoreVolume_clf_30_warp_10_MD591_down32_scoreVolume_clf_30_trial_0_0297.jpg\n",
      "/shared/CSHL_registration_visualization/atlasV3/atlasV3_down32_scoreVolume_clf_30_warp_10_MD591_down32_scoreVolume_clf_30_trial_0/atlasV3_down32_scoreVolume_clf_30_warp_10_MD591_down32_scoreVolume_clf_30_trial_0_0328.jpg\n",
      "aws s3 cp /shared/CSHL_registration_visualization/atlasV3/atlasV3_down32_scoreVolume_clf_30_warp_10_MD591_down32_scoreVolume_clf_30_trial_0/atlasV3_down32_scoreVolume_clf_30_warp_10_MD591_down32_scoreVolume_clf_30_trial_0_0324.jpg s3://mousebrainatlas-data/CSHL_registration_visualization/atlasV3/atlasV3_down32_scoreVolume_clf_30_warp_10_MD591_down32_scoreVolume_clf_30_trial_0/atlasV3_down32_scoreVolume_clf_30_warp_10_MD591_down32_scoreVolume_clf_30_trial_0_0324.jpg\n"
     ]
    },
    {
     "name": "stderr",
     "output_type": "stream",
     "text": [
      "Child returned 0\n",
      "0.76 seconds.\n"
     ]
    },
    {
     "name": "stdout",
     "output_type": "stream",
     "text": [
      "aws s3 cp /shared/CSHL_registration_visualization/atlasV3/atlasV3_down32_scoreVolume_clf_30_warp_10_MD591_down32_scoreVolume_clf_30_trial_0/atlasV3_down32_scoreVolume_clf_30_warp_10_MD591_down32_scoreVolume_clf_30_trial_0_0328.jpg s3://mousebrainatlas-data/CSHL_registration_visualization/atlasV3/atlasV3_down32_scoreVolume_clf_30_warp_10_MD591_down32_scoreVolume_clf_30_trial_0/atlasV3_down32_scoreVolume_clf_30_warp_10_MD591_down32_scoreVolume_clf_30_trial_0_0328.jpg\n",
      "/shared/CSHL_registration_visualization/atlasV3/atlasV3_down32_scoreVolume_clf_30_warp_10_MD591_down32_scoreVolume_clf_30_trial_0/atlasV3_down32_scoreVolume_clf_30_warp_10_MD591_down32_scoreVolume_clf_30_trial_0_0333.jpg\n",
      "aws s3 cp /shared/CSHL_registration_visualization/atlasV3/atlasV3_down32_scoreVolume_clf_30_warp_10_MD591_down32_scoreVolume_clf_30_trial_0/atlasV3_down32_scoreVolume_clf_30_warp_10_MD591_down32_scoreVolume_clf_30_trial_0_0333.jpg s3://mousebrainatlas-data/CSHL_registration_visualization/atlasV3/atlasV3_down32_scoreVolume_clf_30_warp_10_MD591_down32_scoreVolume_clf_30_trial_0/atlasV3_down32_scoreVolume_clf_30_warp_10_MD591_down32_scoreVolume_clf_30_trial_0_0333.jpg\n"
     ]
    },
    {
     "name": "stderr",
     "output_type": "stream",
     "text": [
      "Child returned 0\n",
      "0.81 seconds.\n"
     ]
    },
    {
     "name": "stdout",
     "output_type": "stream",
     "text": [
      "/shared/CSHL_registration_visualization/atlasV3/atlasV3_down32_scoreVolume_clf_30_warp_10_MD591_down32_scoreVolume_clf_30_trial_0/atlasV3_down32_scoreVolume_clf_30_warp_10_MD591_down32_scoreVolume_clf_30_trial_0_0322.jpg\n"
     ]
    },
    {
     "name": "stderr",
     "output_type": "stream",
     "text": [
      "Child returned 0\n",
      "0.81 seconds.\n"
     ]
    },
    {
     "name": "stdout",
     "output_type": "stream",
     "text": [
      "aws s3 cp /shared/CSHL_registration_visualization/atlasV3/atlasV3_down32_scoreVolume_clf_30_warp_10_MD591_down32_scoreVolume_clf_30_trial_0/atlasV3_down32_scoreVolume_clf_30_warp_10_MD591_down32_scoreVolume_clf_30_trial_0_0322.jpg s3://mousebrainatlas-data/CSHL_registration_visualization/atlasV3/atlasV3_down32_scoreVolume_clf_30_warp_10_MD591_down32_scoreVolume_clf_30_trial_0/atlasV3_down32_scoreVolume_clf_30_warp_10_MD591_down32_scoreVolume_clf_30_trial_0_0322.jpg\n",
      "/shared/CSHL_registration_visualization/atlasV3/atlasV3_down32_scoreVolume_clf_30_warp_10_MD591_down32_scoreVolume_clf_30_trial_0/atlasV3_down32_scoreVolume_clf_30_warp_10_MD591_down32_scoreVolume_clf_30_trial_0_0312.jpg\n",
      "aws s3 cp /shared/CSHL_registration_visualization/atlasV3/atlasV3_down32_scoreVolume_clf_30_warp_10_MD591_down32_scoreVolume_clf_30_trial_0/atlasV3_down32_scoreVolume_clf_30_warp_10_MD591_down32_scoreVolume_clf_30_trial_0_0312.jpg s3://mousebrainatlas-data/CSHL_registration_visualization/atlasV3/atlasV3_down32_scoreVolume_clf_30_warp_10_MD591_down32_scoreVolume_clf_30_trial_0/atlasV3_down32_scoreVolume_clf_30_warp_10_MD591_down32_scoreVolume_clf_30_trial_0_0312.jpg\n",
      "/shared/CSHL_registration_visualization/atlasV3/atlasV3_down32_scoreVolume_clf_30_warp_10_MD591_down32_scoreVolume_clf_30_trial_0/atlasV3_down32_scoreVolume_clf_30_warp_10_MD591_down32_scoreVolume_clf_30_trial_0_0317.jpg\n",
      "aws s3 cp /shared/CSHL_registration_visualization/atlasV3/atlasV3_down32_scoreVolume_clf_30_warp_10_MD591_down32_scoreVolume_clf_30_trial_0/atlasV3_down32_scoreVolume_clf_30_warp_10_MD591_down32_scoreVolume_clf_30_trial_0_0317.jpg s3://mousebrainatlas-data/CSHL_registration_visualization/atlasV3/atlasV3_down32_scoreVolume_clf_30_warp_10_MD591_down32_scoreVolume_clf_30_trial_0/atlasV3_down32_scoreVolume_clf_30_warp_10_MD591_down32_scoreVolume_clf_30_trial_0_0317.jpg\n"
     ]
    },
    {
     "name": "stderr",
     "output_type": "stream",
     "text": [
      "Child returned 0\n",
      "0.70 seconds.\n",
      "Child returned 0\n",
      "0.81 seconds.\n",
      "Child returned 0\n",
      "0.67 seconds.\n",
      "Child returned 0\n",
      "0.78 seconds.\n"
     ]
    },
    {
     "name": "stdout",
     "output_type": "stream",
     "text": [
      "/shared/CSHL_registration_visualization/atlasV3/atlasV3_down32_scoreVolume_clf_30_warp_10_MD591_down32_scoreVolume_clf_30_trial_0/atlasV3_down32_scoreVolume_clf_30_warp_10_MD591_down32_scoreVolume_clf_30_trial_0_0338.jpg\n",
      "aws s3 cp /shared/CSHL_registration_visualization/atlasV3/atlasV3_down32_scoreVolume_clf_30_warp_10_MD591_down32_scoreVolume_clf_30_trial_0/atlasV3_down32_scoreVolume_clf_30_warp_10_MD591_down32_scoreVolume_clf_30_trial_0_0338.jpg s3://mousebrainatlas-data/CSHL_registration_visualization/atlasV3/atlasV3_down32_scoreVolume_clf_30_warp_10_MD591_down32_scoreVolume_clf_30_trial_0/atlasV3_down32_scoreVolume_clf_30_warp_10_MD591_down32_scoreVolume_clf_30_trial_0_0338.jpg\n",
      "/shared/CSHL_registration_visualization/atlasV3/atlasV3_down32_scoreVolume_clf_30_warp_10_MD591_down32_scoreVolume_clf_30_trial_0/atlasV3_down32_scoreVolume_clf_30_warp_10_MD591_down32_scoreVolume_clf_30_trial_0_0343.jpg\n",
      "aws s3 cp /shared/CSHL_registration_visualization/atlasV3/atlasV3_down32_scoreVolume_clf_30_warp_10_MD591_down32_scoreVolume_clf_30_trial_0/atlasV3_down32_scoreVolume_clf_30_warp_10_MD591_down32_scoreVolume_clf_30_trial_0_0343.jpg s3://mousebrainatlas-data/CSHL_registration_visualization/atlasV3/atlasV3_down32_scoreVolume_clf_30_warp_10_MD591_down32_scoreVolume_clf_30_trial_0/atlasV3_down32_scoreVolume_clf_30_warp_10_MD591_down32_scoreVolume_clf_30_trial_0_0343.jpg\n"
     ]
    },
    {
     "name": "stderr",
     "output_type": "stream",
     "text": [
      "Child returned 0\n",
      "0.73 seconds.\n"
     ]
    },
    {
     "name": "stdout",
     "output_type": "stream",
     "text": [
      "/shared/CSHL_registration_visualization/atlasV3/atlasV3_down32_scoreVolume_clf_30_warp_10_MD591_down32_scoreVolume_clf_30_trial_0/atlasV3_down32_scoreVolume_clf_30_warp_10_MD591_down32_scoreVolume_clf_30_trial_0_0348.jpg\n"
     ]
    },
    {
     "name": "stderr",
     "output_type": "stream",
     "text": [
      "Child returned 0\n",
      "0.79 seconds.\n",
      "Child returned 0\n",
      "0.76 seconds.\n"
     ]
    },
    {
     "name": "stdout",
     "output_type": "stream",
     "text": [
      "aws s3 cp /shared/CSHL_registration_visualization/atlasV3/atlasV3_down32_scoreVolume_clf_30_warp_10_MD591_down32_scoreVolume_clf_30_trial_0/atlasV3_down32_scoreVolume_clf_30_warp_10_MD591_down32_scoreVolume_clf_30_trial_0_0348.jpg s3://mousebrainatlas-data/CSHL_registration_visualization/atlasV3/atlasV3_down32_scoreVolume_clf_30_warp_10_MD591_down32_scoreVolume_clf_30_trial_0/atlasV3_down32_scoreVolume_clf_30_warp_10_MD591_down32_scoreVolume_clf_30_trial_0_0348.jpg\n",
      "/shared/CSHL_registration_visualization/atlasV3/atlasV3_down32_scoreVolume_clf_30_warp_10_MD591_down32_scoreVolume_clf_30_trial_0/atlasV3_down32_scoreVolume_clf_30_warp_10_MD591_down32_scoreVolume_clf_30_trial_0_0353.jpg\n",
      "aws s3 cp /shared/CSHL_registration_visualization/atlasV3/atlasV3_down32_scoreVolume_clf_30_warp_10_MD591_down32_scoreVolume_clf_30_trial_0/atlasV3_down32_scoreVolume_clf_30_warp_10_MD591_down32_scoreVolume_clf_30_trial_0_0353.jpg s3://mousebrainatlas-data/CSHL_registration_visualization/atlasV3/atlasV3_down32_scoreVolume_clf_30_warp_10_MD591_down32_scoreVolume_clf_30_trial_0/atlasV3_down32_scoreVolume_clf_30_warp_10_MD591_down32_scoreVolume_clf_30_trial_0_0353.jpg\n",
      "/shared/CSHL_registration_visualization/atlasV3/atlasV3_down32_scoreVolume_clf_30_warp_10_MD591_down32_scoreVolume_clf_30_trial_0/atlasV3_down32_scoreVolume_clf_30_warp_10_MD591_down32_scoreVolume_clf_30_trial_0_0358.jpg\n",
      "aws s3 cp /shared/CSHL_registration_visualization/atlasV3/atlasV3_down32_scoreVolume_clf_30_warp_10_MD591_down32_scoreVolume_clf_30_trial_0/atlasV3_down32_scoreVolume_clf_30_warp_10_MD591_down32_scoreVolume_clf_30_trial_0_0358.jpg s3://mousebrainatlas-data/CSHL_registration_visualization/atlasV3/atlasV3_down32_scoreVolume_clf_30_warp_10_MD591_down32_scoreVolume_clf_30_trial_0/atlasV3_down32_scoreVolume_clf_30_warp_10_MD591_down32_scoreVolume_clf_30_trial_0_0358.jpg\n",
      "/shared/CSHL_registration_visualization/atlasV3/atlasV3_down32_scoreVolume_clf_30_warp_10_MD591_down32_scoreVolume_clf_30_trial_0/atlasV3_down32_scoreVolume_clf_30_warp_10_MD591_down32_scoreVolume_clf_30_trial_0_0363.jpg\n",
      "aws s3 cp /shared/CSHL_registration_visualization/atlasV3/atlasV3_down32_scoreVolume_clf_30_warp_10_MD591_down32_scoreVolume_clf_30_trial_0/atlasV3_down32_scoreVolume_clf_30_warp_10_MD591_down32_scoreVolume_clf_30_trial_0_0363.jpg s3://mousebrainatlas-data/CSHL_registration_visualization/atlasV3/atlasV3_down32_scoreVolume_clf_30_warp_10_MD591_down32_scoreVolume_clf_30_trial_0/atlasV3_down32_scoreVolume_clf_30_warp_10_MD591_down32_scoreVolume_clf_30_trial_0_0363.jpg\n"
     ]
    },
    {
     "name": "stderr",
     "output_type": "stream",
     "text": [
      "Child returned 0\n",
      "0.75 seconds.\n"
     ]
    },
    {
     "name": "stdout",
     "output_type": "stream",
     "text": [
      "/shared/CSHL_registration_visualization/atlasV3/atlasV3_down32_scoreVolume_clf_30_warp_10_MD591_down32_scoreVolume_clf_30_trial_0/atlasV3_down32_scoreVolume_clf_30_warp_10_MD591_down32_scoreVolume_clf_30_trial_0_0368.jpg\n"
     ]
    },
    {
     "name": "stderr",
     "output_type": "stream",
     "text": [
      "Child returned 0\n",
      "0.67 seconds.\n"
     ]
    },
    {
     "name": "stdout",
     "output_type": "stream",
     "text": [
      "aws s3 cp /shared/CSHL_registration_visualization/atlasV3/atlasV3_down32_scoreVolume_clf_30_warp_10_MD591_down32_scoreVolume_clf_30_trial_0/atlasV3_down32_scoreVolume_clf_30_warp_10_MD591_down32_scoreVolume_clf_30_trial_0_0368.jpg s3://mousebrainatlas-data/CSHL_registration_visualization/atlasV3/atlasV3_down32_scoreVolume_clf_30_warp_10_MD591_down32_scoreVolume_clf_30_trial_0/atlasV3_down32_scoreVolume_clf_30_warp_10_MD591_down32_scoreVolume_clf_30_trial_0_0368.jpg\n"
     ]
    },
    {
     "name": "stderr",
     "output_type": "stream",
     "text": [
      "Child returned 0\n",
      "0.58 seconds.\n",
      "Child returned 0\n",
      "0.65 seconds.\n"
     ]
    },
    {
     "name": "stdout",
     "output_type": "stream",
     "text": [
      "/shared/CSHL_registration_visualization/atlasV3/atlasV3_down32_scoreVolume_clf_30_warp_10_MD591_down32_scoreVolume_clf_30_trial_0/atlasV3_down32_scoreVolume_clf_30_warp_10_MD591_down32_scoreVolume_clf_30_trial_0_0325.jpg\n",
      "/shared/CSHL_registration_visualization/atlasV3/atlasV3_down32_scoreVolume_clf_30_warp_10_MD591_down32_scoreVolume_clf_30_trial_0/atlasV3_down32_scoreVolume_clf_30_warp_10_MD591_down32_scoreVolume_clf_30_trial_0_0329.jpg\n",
      "aws s3 cp /shared/CSHL_registration_visualization/atlasV3/atlasV3_down32_scoreVolume_clf_30_warp_10_MD591_down32_scoreVolume_clf_30_trial_0/atlasV3_down32_scoreVolume_clf_30_warp_10_MD591_down32_scoreVolume_clf_30_trial_0_0325.jpg s3://mousebrainatlas-data/CSHL_registration_visualization/atlasV3/atlasV3_down32_scoreVolume_clf_30_warp_10_MD591_down32_scoreVolume_clf_30_trial_0/atlasV3_down32_scoreVolume_clf_30_warp_10_MD591_down32_scoreVolume_clf_30_trial_0_0325.jpg\n",
      "aws s3 cp /shared/CSHL_registration_visualization/atlasV3/atlasV3_down32_scoreVolume_clf_30_warp_10_MD591_down32_scoreVolume_clf_30_trial_0/atlasV3_down32_scoreVolume_clf_30_warp_10_MD591_down32_scoreVolume_clf_30_trial_0_0329.jpg s3://mousebrainatlas-data/CSHL_registration_visualization/atlasV3/atlasV3_down32_scoreVolume_clf_30_warp_10_MD591_down32_scoreVolume_clf_30_trial_0/atlasV3_down32_scoreVolume_clf_30_warp_10_MD591_down32_scoreVolume_clf_30_trial_0_0329.jpg\n"
     ]
    },
    {
     "name": "stderr",
     "output_type": "stream",
     "text": [
      "Child returned 0\n",
      "0.69 seconds.\n"
     ]
    },
    {
     "name": "stdout",
     "output_type": "stream",
     "text": [
      "/shared/CSHL_registration_visualization/atlasV3/atlasV3_down32_scoreVolume_clf_30_warp_10_MD591_down32_scoreVolume_clf_30_trial_0/atlasV3_down32_scoreVolume_clf_30_warp_10_MD591_down32_scoreVolume_clf_30_trial_0_0334.jpg\n",
      "aws s3 cp /shared/CSHL_registration_visualization/atlasV3/atlasV3_down32_scoreVolume_clf_30_warp_10_MD591_down32_scoreVolume_clf_30_trial_0/atlasV3_down32_scoreVolume_clf_30_warp_10_MD591_down32_scoreVolume_clf_30_trial_0_0334.jpg s3://mousebrainatlas-data/CSHL_registration_visualization/atlasV3/atlasV3_down32_scoreVolume_clf_30_warp_10_MD591_down32_scoreVolume_clf_30_trial_0/atlasV3_down32_scoreVolume_clf_30_warp_10_MD591_down32_scoreVolume_clf_30_trial_0_0334.jpg\n"
     ]
    },
    {
     "name": "stderr",
     "output_type": "stream",
     "text": [
      "Child returned 0\n",
      "0.72 seconds.\n",
      "Child returned 0\n",
      "0.71 seconds.\n",
      "Child returned 0\n",
      "0.68 seconds.\n",
      "Child returned 0\n",
      "0.67 seconds.\n",
      "Child returned 0\n",
      "0.63 seconds.\n"
     ]
    },
    {
     "name": "stdout",
     "output_type": "stream",
     "text": [
      "/shared/CSHL_registration_visualization/atlasV3/atlasV3_down32_scoreVolume_clf_30_warp_10_MD591_down32_scoreVolume_clf_30_trial_0/atlasV3_down32_scoreVolume_clf_30_warp_10_MD591_down32_scoreVolume_clf_30_trial_0_0339.jpg\n",
      "aws s3 cp /shared/CSHL_registration_visualization/atlasV3/atlasV3_down32_scoreVolume_clf_30_warp_10_MD591_down32_scoreVolume_clf_30_trial_0/atlasV3_down32_scoreVolume_clf_30_warp_10_MD591_down32_scoreVolume_clf_30_trial_0_0339.jpg s3://mousebrainatlas-data/CSHL_registration_visualization/atlasV3/atlasV3_down32_scoreVolume_clf_30_warp_10_MD591_down32_scoreVolume_clf_30_trial_0/atlasV3_down32_scoreVolume_clf_30_warp_10_MD591_down32_scoreVolume_clf_30_trial_0_0339.jpg\n",
      "/shared/CSHL_registration_visualization/atlasV3/atlasV3_down32_scoreVolume_clf_30_warp_10_MD591_down32_scoreVolume_clf_30_trial_0/atlasV3_down32_scoreVolume_clf_30_warp_10_MD591_down32_scoreVolume_clf_30_trial_0_0344.jpg\n",
      "aws s3 cp /shared/CSHL_registration_visualization/atlasV3/atlasV3_down32_scoreVolume_clf_30_warp_10_MD591_down32_scoreVolume_clf_30_trial_0/atlasV3_down32_scoreVolume_clf_30_warp_10_MD591_down32_scoreVolume_clf_30_trial_0_0344.jpg s3://mousebrainatlas-data/CSHL_registration_visualization/atlasV3/atlasV3_down32_scoreVolume_clf_30_warp_10_MD591_down32_scoreVolume_clf_30_trial_0/atlasV3_down32_scoreVolume_clf_30_warp_10_MD591_down32_scoreVolume_clf_30_trial_0_0344.jpg\n",
      "/shared/CSHL_registration_visualization/atlasV3/atlasV3_down32_scoreVolume_clf_30_warp_10_MD591_down32_scoreVolume_clf_30_trial_0/atlasV3_down32_scoreVolume_clf_30_warp_10_MD591_down32_scoreVolume_clf_30_trial_0_0354.jpg\n",
      "aws s3 cp /shared/CSHL_registration_visualization/atlasV3/atlasV3_down32_scoreVolume_clf_30_warp_10_MD591_down32_scoreVolume_clf_30_trial_0/atlasV3_down32_scoreVolume_clf_30_warp_10_MD591_down32_scoreVolume_clf_30_trial_0_0354.jpg s3://mousebrainatlas-data/CSHL_registration_visualization/atlasV3/atlasV3_down32_scoreVolume_clf_30_warp_10_MD591_down32_scoreVolume_clf_30_trial_0/atlasV3_down32_scoreVolume_clf_30_warp_10_MD591_down32_scoreVolume_clf_30_trial_0_0354.jpg\n",
      "/shared/CSHL_registration_visualization/atlasV3/atlasV3_down32_scoreVolume_clf_30_warp_10_MD591_down32_scoreVolume_clf_30_trial_0/atlasV3_down32_scoreVolume_clf_30_warp_10_MD591_down32_scoreVolume_clf_30_trial_0_0349.jpg\n",
      "aws s3 cp /shared/CSHL_registration_visualization/atlasV3/atlasV3_down32_scoreVolume_clf_30_warp_10_MD591_down32_scoreVolume_clf_30_trial_0/atlasV3_down32_scoreVolume_clf_30_warp_10_MD591_down32_scoreVolume_clf_30_trial_0_0349.jpg s3://mousebrainatlas-data/CSHL_registration_visualization/atlasV3/atlasV3_down32_scoreVolume_clf_30_warp_10_MD591_down32_scoreVolume_clf_30_trial_0/atlasV3_down32_scoreVolume_clf_30_warp_10_MD591_down32_scoreVolume_clf_30_trial_0_0349.jpg\n",
      "/shared/CSHL_registration_visualization/atlasV3/atlasV3_down32_scoreVolume_clf_30_warp_10_MD591_down32_scoreVolume_clf_30_trial_0/atlasV3_down32_scoreVolume_clf_30_warp_10_MD591_down32_scoreVolume_clf_30_trial_0_0359.jpg\n",
      "aws s3 cp /shared/CSHL_registration_visualization/atlasV3/atlasV3_down32_scoreVolume_clf_30_warp_10_MD591_down32_scoreVolume_clf_30_trial_0/atlasV3_down32_scoreVolume_clf_30_warp_10_MD591_down32_scoreVolume_clf_30_trial_0_0359.jpg s3://mousebrainatlas-data/CSHL_registration_visualization/atlasV3/atlasV3_down32_scoreVolume_clf_30_warp_10_MD591_down32_scoreVolume_clf_30_trial_0/atlasV3_down32_scoreVolume_clf_30_warp_10_MD591_down32_scoreVolume_clf_30_trial_0_0359.jpg\n"
     ]
    },
    {
     "name": "stderr",
     "output_type": "stream",
     "text": [
      "Child returned 0\n",
      "0.73 seconds.\n",
      "Child returned 0\n",
      "0.81 seconds.\n"
     ]
    },
    {
     "name": "stdout",
     "output_type": "stream",
     "text": [
      "/shared/CSHL_registration_visualization/atlasV3/atlasV3_down32_scoreVolume_clf_30_warp_10_MD591_down32_scoreVolume_clf_30_trial_0/atlasV3_down32_scoreVolume_clf_30_warp_10_MD591_down32_scoreVolume_clf_30_trial_0_0364.jpg\n",
      "/shared/CSHL_registration_visualization/atlasV3/atlasV3_down32_scoreVolume_clf_30_warp_10_MD591_down32_scoreVolume_clf_30_trial_0/atlasV3_down32_scoreVolume_clf_30_warp_10_MD591_down32_scoreVolume_clf_30_trial_0_0369.jpg\n",
      "aws s3 cp /shared/CSHL_registration_visualization/atlasV3/atlasV3_down32_scoreVolume_clf_30_warp_10_MD591_down32_scoreVolume_clf_30_trial_0/atlasV3_down32_scoreVolume_clf_30_warp_10_MD591_down32_scoreVolume_clf_30_trial_0_0364.jpg s3://mousebrainatlas-data/CSHL_registration_visualization/atlasV3/atlasV3_down32_scoreVolume_clf_30_warp_10_MD591_down32_scoreVolume_clf_30_trial_0/atlasV3_down32_scoreVolume_clf_30_warp_10_MD591_down32_scoreVolume_clf_30_trial_0_0364.jpg\n",
      "aws s3 cp /shared/CSHL_registration_visualization/atlasV3/atlasV3_down32_scoreVolume_clf_30_warp_10_MD591_down32_scoreVolume_clf_30_trial_0/atlasV3_down32_scoreVolume_clf_30_warp_10_MD591_down32_scoreVolume_clf_30_trial_0_0369.jpg s3://mousebrainatlas-data/CSHL_registration_visualization/atlasV3/atlasV3_down32_scoreVolume_clf_30_warp_10_MD591_down32_scoreVolume_clf_30_trial_0/atlasV3_down32_scoreVolume_clf_30_warp_10_MD591_down32_scoreVolume_clf_30_trial_0_0369.jpg\n"
     ]
    },
    {
     "name": "stderr",
     "output_type": "stream",
     "text": [
      "Child returned 0\n",
      "0.63 seconds.\n",
      "Child returned 0\n",
      "0.62 seconds.\n"
     ]
    },
    {
     "name": "stdout",
     "output_type": "stream",
     "text": [
      "/shared/CSHL_registration_visualization/atlasV3/atlasV3_down32_scoreVolume_clf_30_warp_10_MD591_down32_scoreVolume_clf_30_trial_0/atlasV3_down32_scoreVolume_clf_30_warp_10_MD591_down32_scoreVolume_clf_30_trial_0_0330.jpg\n",
      "aws s3 cp /shared/CSHL_registration_visualization/atlasV3/atlasV3_down32_scoreVolume_clf_30_warp_10_MD591_down32_scoreVolume_clf_30_trial_0/atlasV3_down32_scoreVolume_clf_30_warp_10_MD591_down32_scoreVolume_clf_30_trial_0_0330.jpg s3://mousebrainatlas-data/CSHL_registration_visualization/atlasV3/atlasV3_down32_scoreVolume_clf_30_warp_10_MD591_down32_scoreVolume_clf_30_trial_0/atlasV3_down32_scoreVolume_clf_30_warp_10_MD591_down32_scoreVolume_clf_30_trial_0_0330.jpg\n"
     ]
    },
    {
     "name": "stderr",
     "output_type": "stream",
     "text": [
      "Child returned 0\n",
      "0.68 seconds.\n"
     ]
    },
    {
     "name": "stdout",
     "output_type": "stream",
     "text": [
      "/shared/CSHL_registration_visualization/atlasV3/atlasV3_down32_scoreVolume_clf_30_warp_10_MD591_down32_scoreVolume_clf_30_trial_0/atlasV3_down32_scoreVolume_clf_30_warp_10_MD591_down32_scoreVolume_clf_30_trial_0_0326.jpg\n",
      "aws s3 cp /shared/CSHL_registration_visualization/atlasV3/atlasV3_down32_scoreVolume_clf_30_warp_10_MD591_down32_scoreVolume_clf_30_trial_0/atlasV3_down32_scoreVolume_clf_30_warp_10_MD591_down32_scoreVolume_clf_30_trial_0_0326.jpg s3://mousebrainatlas-data/CSHL_registration_visualization/atlasV3/atlasV3_down32_scoreVolume_clf_30_warp_10_MD591_down32_scoreVolume_clf_30_trial_0/atlasV3_down32_scoreVolume_clf_30_warp_10_MD591_down32_scoreVolume_clf_30_trial_0_0326.jpg\n",
      "/shared/CSHL_registration_visualization/atlasV3/atlasV3_down32_scoreVolume_clf_30_warp_10_MD591_down32_scoreVolume_clf_30_trial_0/atlasV3_down32_scoreVolume_clf_30_warp_10_MD591_down32_scoreVolume_clf_30_trial_0_0335.jpg\n",
      "aws s3 cp /shared/CSHL_registration_visualization/atlasV3/atlasV3_down32_scoreVolume_clf_30_warp_10_MD591_down32_scoreVolume_clf_30_trial_0/atlasV3_down32_scoreVolume_clf_30_warp_10_MD591_down32_scoreVolume_clf_30_trial_0_0335.jpg s3://mousebrainatlas-data/CSHL_registration_visualization/atlasV3/atlasV3_down32_scoreVolume_clf_30_warp_10_MD591_down32_scoreVolume_clf_30_trial_0/atlasV3_down32_scoreVolume_clf_30_warp_10_MD591_down32_scoreVolume_clf_30_trial_0_0335.jpg\n"
     ]
    },
    {
     "name": "stderr",
     "output_type": "stream",
     "text": [
      "Child returned 0\n",
      "0.61 seconds.\n",
      "Child returned 0\n",
      "0.69 seconds.\n",
      "Child returned 0\n",
      "0.69 seconds.\n",
      "Child returned 0\n",
      "0.72 seconds.\n",
      "Child returned 0\n",
      "0.61 seconds.\n"
     ]
    },
    {
     "name": "stdout",
     "output_type": "stream",
     "text": [
      "/shared/CSHL_registration_visualization/atlasV3/atlasV3_down32_scoreVolume_clf_30_warp_10_MD591_down32_scoreVolume_clf_30_trial_0/atlasV3_down32_scoreVolume_clf_30_warp_10_MD591_down32_scoreVolume_clf_30_trial_0_0340.jpg\n",
      "aws s3 cp /shared/CSHL_registration_visualization/atlasV3/atlasV3_down32_scoreVolume_clf_30_warp_10_MD591_down32_scoreVolume_clf_30_trial_0/atlasV3_down32_scoreVolume_clf_30_warp_10_MD591_down32_scoreVolume_clf_30_trial_0_0340.jpg s3://mousebrainatlas-data/CSHL_registration_visualization/atlasV3/atlasV3_down32_scoreVolume_clf_30_warp_10_MD591_down32_scoreVolume_clf_30_trial_0/atlasV3_down32_scoreVolume_clf_30_warp_10_MD591_down32_scoreVolume_clf_30_trial_0_0340.jpg\n",
      "/shared/CSHL_registration_visualization/atlasV3/atlasV3_down32_scoreVolume_clf_30_warp_10_MD591_down32_scoreVolume_clf_30_trial_0/atlasV3_down32_scoreVolume_clf_30_warp_10_MD591_down32_scoreVolume_clf_30_trial_0_0345.jpg\n",
      "aws s3 cp /shared/CSHL_registration_visualization/atlasV3/atlasV3_down32_scoreVolume_clf_30_warp_10_MD591_down32_scoreVolume_clf_30_trial_0/atlasV3_down32_scoreVolume_clf_30_warp_10_MD591_down32_scoreVolume_clf_30_trial_0_0345.jpg s3://mousebrainatlas-data/CSHL_registration_visualization/atlasV3/atlasV3_down32_scoreVolume_clf_30_warp_10_MD591_down32_scoreVolume_clf_30_trial_0/atlasV3_down32_scoreVolume_clf_30_warp_10_MD591_down32_scoreVolume_clf_30_trial_0_0345.jpg\n",
      "/shared/CSHL_registration_visualization/atlasV3/atlasV3_down32_scoreVolume_clf_30_warp_10_MD591_down32_scoreVolume_clf_30_trial_0/atlasV3_down32_scoreVolume_clf_30_warp_10_MD591_down32_scoreVolume_clf_30_trial_0_0355.jpg\n",
      "aws s3 cp /shared/CSHL_registration_visualization/atlasV3/atlasV3_down32_scoreVolume_clf_30_warp_10_MD591_down32_scoreVolume_clf_30_trial_0/atlasV3_down32_scoreVolume_clf_30_warp_10_MD591_down32_scoreVolume_clf_30_trial_0_0355.jpg s3://mousebrainatlas-data/CSHL_registration_visualization/atlasV3/atlasV3_down32_scoreVolume_clf_30_warp_10_MD591_down32_scoreVolume_clf_30_trial_0/atlasV3_down32_scoreVolume_clf_30_warp_10_MD591_down32_scoreVolume_clf_30_trial_0_0355.jpg\n",
      "/shared/CSHL_registration_visualization/atlasV3/atlasV3_down32_scoreVolume_clf_30_warp_10_MD591_down32_scoreVolume_clf_30_trial_0/atlasV3_down32_scoreVolume_clf_30_warp_10_MD591_down32_scoreVolume_clf_30_trial_0_0350.jpg\n",
      "aws s3 cp /shared/CSHL_registration_visualization/atlasV3/atlasV3_down32_scoreVolume_clf_30_warp_10_MD591_down32_scoreVolume_clf_30_trial_0/atlasV3_down32_scoreVolume_clf_30_warp_10_MD591_down32_scoreVolume_clf_30_trial_0_0350.jpg s3://mousebrainatlas-data/CSHL_registration_visualization/atlasV3/atlasV3_down32_scoreVolume_clf_30_warp_10_MD591_down32_scoreVolume_clf_30_trial_0/atlasV3_down32_scoreVolume_clf_30_warp_10_MD591_down32_scoreVolume_clf_30_trial_0_0350.jpg\n",
      "/shared/CSHL_registration_visualization/atlasV3/atlasV3_down32_scoreVolume_clf_30_warp_10_MD591_down32_scoreVolume_clf_30_trial_0/atlasV3_down32_scoreVolume_clf_30_warp_10_MD591_down32_scoreVolume_clf_30_trial_0_0360.jpg\n"
     ]
    },
    {
     "name": "stderr",
     "output_type": "stream",
     "text": [
      "Child returned 0\n",
      "0.62 seconds.\n"
     ]
    },
    {
     "name": "stdout",
     "output_type": "stream",
     "text": [
      "aws s3 cp /shared/CSHL_registration_visualization/atlasV3/atlasV3_down32_scoreVolume_clf_30_warp_10_MD591_down32_scoreVolume_clf_30_trial_0/atlasV3_down32_scoreVolume_clf_30_warp_10_MD591_down32_scoreVolume_clf_30_trial_0_0360.jpg s3://mousebrainatlas-data/CSHL_registration_visualization/atlasV3/atlasV3_down32_scoreVolume_clf_30_warp_10_MD591_down32_scoreVolume_clf_30_trial_0/atlasV3_down32_scoreVolume_clf_30_warp_10_MD591_down32_scoreVolume_clf_30_trial_0_0360.jpg\n",
      "/shared/CSHL_registration_visualization/atlasV3/atlasV3_down32_scoreVolume_clf_30_warp_10_MD591_down32_scoreVolume_clf_30_trial_0/atlasV3_down32_scoreVolume_clf_30_warp_10_MD591_down32_scoreVolume_clf_30_trial_0_0370.jpg\n",
      "aws s3 cp /shared/CSHL_registration_visualization/atlasV3/atlasV3_down32_scoreVolume_clf_30_warp_10_MD591_down32_scoreVolume_clf_30_trial_0/atlasV3_down32_scoreVolume_clf_30_warp_10_MD591_down32_scoreVolume_clf_30_trial_0_0370.jpg s3://mousebrainatlas-data/CSHL_registration_visualization/atlasV3/atlasV3_down32_scoreVolume_clf_30_warp_10_MD591_down32_scoreVolume_clf_30_trial_0/atlasV3_down32_scoreVolume_clf_30_warp_10_MD591_down32_scoreVolume_clf_30_trial_0_0370.jpg\n",
      "/shared/CSHL_registration_visualization/atlasV3/atlasV3_down32_scoreVolume_clf_30_warp_10_MD591_down32_scoreVolume_clf_30_trial_0/atlasV3_down32_scoreVolume_clf_30_warp_10_MD591_down32_scoreVolume_clf_30_trial_0_0365.jpg\n",
      "aws s3 cp /shared/CSHL_registration_visualization/atlasV3/atlasV3_down32_scoreVolume_clf_30_warp_10_MD591_down32_scoreVolume_clf_30_trial_0/atlasV3_down32_scoreVolume_clf_30_warp_10_MD591_down32_scoreVolume_clf_30_trial_0_0365.jpg s3://mousebrainatlas-data/CSHL_registration_visualization/atlasV3/atlasV3_down32_scoreVolume_clf_30_warp_10_MD591_down32_scoreVolume_clf_30_trial_0/atlasV3_down32_scoreVolume_clf_30_warp_10_MD591_down32_scoreVolume_clf_30_trial_0_0365.jpg\n"
     ]
    },
    {
     "name": "stderr",
     "output_type": "stream",
     "text": [
      "Child returned 0\n",
      "0.60 seconds.\n",
      "Child returned 0\n",
      "0.73 seconds.\n",
      "Child returned 0\n",
      "0.66 seconds.\n"
     ]
    },
    {
     "name": "stdout",
     "output_type": "stream",
     "text": [
      "/shared/CSHL_registration_visualization/atlasV3/atlasV3_down32_scoreVolume_clf_30_warp_10_MD591_down32_scoreVolume_clf_30_trial_0/atlasV3_down32_scoreVolume_clf_30_warp_10_MD591_down32_scoreVolume_clf_30_trial_0_0331.jpg\n",
      "aws s3 cp /shared/CSHL_registration_visualization/atlasV3/atlasV3_down32_scoreVolume_clf_30_warp_10_MD591_down32_scoreVolume_clf_30_trial_0/atlasV3_down32_scoreVolume_clf_30_warp_10_MD591_down32_scoreVolume_clf_30_trial_0_0331.jpg s3://mousebrainatlas-data/CSHL_registration_visualization/atlasV3/atlasV3_down32_scoreVolume_clf_30_warp_10_MD591_down32_scoreVolume_clf_30_trial_0/atlasV3_down32_scoreVolume_clf_30_warp_10_MD591_down32_scoreVolume_clf_30_trial_0_0331.jpg\n"
     ]
    },
    {
     "name": "stderr",
     "output_type": "stream",
     "text": [
      "Child returned 0\n",
      "0.57 seconds.\n"
     ]
    },
    {
     "name": "stdout",
     "output_type": "stream",
     "text": [
      "/shared/CSHL_registration_visualization/atlasV3/atlasV3_down32_scoreVolume_clf_30_warp_10_MD591_down32_scoreVolume_clf_30_trial_0/atlasV3_down32_scoreVolume_clf_30_warp_10_MD591_down32_scoreVolume_clf_30_trial_0_0327.jpg\n",
      "aws s3 cp /shared/CSHL_registration_visualization/atlasV3/atlasV3_down32_scoreVolume_clf_30_warp_10_MD591_down32_scoreVolume_clf_30_trial_0/atlasV3_down32_scoreVolume_clf_30_warp_10_MD591_down32_scoreVolume_clf_30_trial_0_0327.jpg s3://mousebrainatlas-data/CSHL_registration_visualization/atlasV3/atlasV3_down32_scoreVolume_clf_30_warp_10_MD591_down32_scoreVolume_clf_30_trial_0/atlasV3_down32_scoreVolume_clf_30_warp_10_MD591_down32_scoreVolume_clf_30_trial_0_0327.jpg\n"
     ]
    },
    {
     "name": "stderr",
     "output_type": "stream",
     "text": [
      "Child returned 0\n",
      "0.71 seconds.\n"
     ]
    },
    {
     "name": "stdout",
     "output_type": "stream",
     "text": [
      "/shared/CSHL_registration_visualization/atlasV3/atlasV3_down32_scoreVolume_clf_30_warp_10_MD591_down32_scoreVolume_clf_30_trial_0/atlasV3_down32_scoreVolume_clf_30_warp_10_MD591_down32_scoreVolume_clf_30_trial_0_0336.jpg\n",
      "aws s3 cp /shared/CSHL_registration_visualization/atlasV3/atlasV3_down32_scoreVolume_clf_30_warp_10_MD591_down32_scoreVolume_clf_30_trial_0/atlasV3_down32_scoreVolume_clf_30_warp_10_MD591_down32_scoreVolume_clf_30_trial_0_0336.jpg s3://mousebrainatlas-data/CSHL_registration_visualization/atlasV3/atlasV3_down32_scoreVolume_clf_30_warp_10_MD591_down32_scoreVolume_clf_30_trial_0/atlasV3_down32_scoreVolume_clf_30_warp_10_MD591_down32_scoreVolume_clf_30_trial_0_0336.jpg\n"
     ]
    },
    {
     "name": "stderr",
     "output_type": "stream",
     "text": [
      "Child returned 0\n",
      "0.71 seconds.\n",
      "Child returned 0\n",
      "0.74 seconds.\n"
     ]
    },
    {
     "name": "stdout",
     "output_type": "stream",
     "text": [
      "/shared/CSHL_registration_visualization/atlasV3/atlasV3_down32_scoreVolume_clf_30_warp_10_MD591_down32_scoreVolume_clf_30_trial_0/atlasV3_down32_scoreVolume_clf_30_warp_10_MD591_down32_scoreVolume_clf_30_trial_0_0341.jpg\n",
      "aws s3 cp /shared/CSHL_registration_visualization/atlasV3/atlasV3_down32_scoreVolume_clf_30_warp_10_MD591_down32_scoreVolume_clf_30_trial_0/atlasV3_down32_scoreVolume_clf_30_warp_10_MD591_down32_scoreVolume_clf_30_trial_0_0341.jpg s3://mousebrainatlas-data/CSHL_registration_visualization/atlasV3/atlasV3_down32_scoreVolume_clf_30_warp_10_MD591_down32_scoreVolume_clf_30_trial_0/atlasV3_down32_scoreVolume_clf_30_warp_10_MD591_down32_scoreVolume_clf_30_trial_0_0341.jpg\n",
      "/shared/CSHL_registration_visualization/atlasV3/atlasV3_down32_scoreVolume_clf_30_warp_10_MD591_down32_scoreVolume_clf_30_trial_0/atlasV3_down32_scoreVolume_clf_30_warp_10_MD591_down32_scoreVolume_clf_30_trial_0_0351.jpg\n"
     ]
    },
    {
     "name": "stderr",
     "output_type": "stream",
     "text": [
      "Child returned 0\n",
      "0.66 seconds.\n",
      "Child returned 0\n",
      "0.77 seconds.\n"
     ]
    },
    {
     "name": "stdout",
     "output_type": "stream",
     "text": [
      "aws s3 cp /shared/CSHL_registration_visualization/atlasV3/atlasV3_down32_scoreVolume_clf_30_warp_10_MD591_down32_scoreVolume_clf_30_trial_0/atlasV3_down32_scoreVolume_clf_30_warp_10_MD591_down32_scoreVolume_clf_30_trial_0_0351.jpg s3://mousebrainatlas-data/CSHL_registration_visualization/atlasV3/atlasV3_down32_scoreVolume_clf_30_warp_10_MD591_down32_scoreVolume_clf_30_trial_0/atlasV3_down32_scoreVolume_clf_30_warp_10_MD591_down32_scoreVolume_clf_30_trial_0_0351.jpg\n",
      "/shared/CSHL_registration_visualization/atlasV3/atlasV3_down32_scoreVolume_clf_30_warp_10_MD591_down32_scoreVolume_clf_30_trial_0/atlasV3_down32_scoreVolume_clf_30_warp_10_MD591_down32_scoreVolume_clf_30_trial_0_0346.jpg\n",
      "aws s3 cp /shared/CSHL_registration_visualization/atlasV3/atlasV3_down32_scoreVolume_clf_30_warp_10_MD591_down32_scoreVolume_clf_30_trial_0/atlasV3_down32_scoreVolume_clf_30_warp_10_MD591_down32_scoreVolume_clf_30_trial_0_0346.jpg s3://mousebrainatlas-data/CSHL_registration_visualization/atlasV3/atlasV3_down32_scoreVolume_clf_30_warp_10_MD591_down32_scoreVolume_clf_30_trial_0/atlasV3_down32_scoreVolume_clf_30_warp_10_MD591_down32_scoreVolume_clf_30_trial_0_0346.jpg\n",
      "/shared/CSHL_registration_visualization/atlasV3/atlasV3_down32_scoreVolume_clf_30_warp_10_MD591_down32_scoreVolume_clf_30_trial_0/atlasV3_down32_scoreVolume_clf_30_warp_10_MD591_down32_scoreVolume_clf_30_trial_0_0356.jpg\n",
      "aws s3 cp /shared/CSHL_registration_visualization/atlasV3/atlasV3_down32_scoreVolume_clf_30_warp_10_MD591_down32_scoreVolume_clf_30_trial_0/atlasV3_down32_scoreVolume_clf_30_warp_10_MD591_down32_scoreVolume_clf_30_trial_0_0356.jpg s3://mousebrainatlas-data/CSHL_registration_visualization/atlasV3/atlasV3_down32_scoreVolume_clf_30_warp_10_MD591_down32_scoreVolume_clf_30_trial_0/atlasV3_down32_scoreVolume_clf_30_warp_10_MD591_down32_scoreVolume_clf_30_trial_0_0356.jpg\n"
     ]
    },
    {
     "name": "stderr",
     "output_type": "stream",
     "text": [
      "Child returned 0\n",
      "0.65 seconds.\n"
     ]
    },
    {
     "name": "stdout",
     "output_type": "stream",
     "text": [
      "/shared/CSHL_registration_visualization/atlasV3/atlasV3_down32_scoreVolume_clf_30_warp_10_MD591_down32_scoreVolume_clf_30_trial_0/atlasV3_down32_scoreVolume_clf_30_warp_10_MD591_down32_scoreVolume_clf_30_trial_0_0371.jpg\n",
      "aws s3 cp /shared/CSHL_registration_visualization/atlasV3/atlasV3_down32_scoreVolume_clf_30_warp_10_MD591_down32_scoreVolume_clf_30_trial_0/atlasV3_down32_scoreVolume_clf_30_warp_10_MD591_down32_scoreVolume_clf_30_trial_0_0371.jpg s3://mousebrainatlas-data/CSHL_registration_visualization/atlasV3/atlasV3_down32_scoreVolume_clf_30_warp_10_MD591_down32_scoreVolume_clf_30_trial_0/atlasV3_down32_scoreVolume_clf_30_warp_10_MD591_down32_scoreVolume_clf_30_trial_0_0371.jpg\n"
     ]
    },
    {
     "name": "stderr",
     "output_type": "stream",
     "text": [
      "Child returned 0\n",
      "0.58 seconds.\n"
     ]
    },
    {
     "name": "stdout",
     "output_type": "stream",
     "text": [
      "/shared/CSHL_registration_visualization/atlasV3/atlasV3_down32_scoreVolume_clf_30_warp_10_MD591_down32_scoreVolume_clf_30_trial_0/atlasV3_down32_scoreVolume_clf_30_warp_10_MD591_down32_scoreVolume_clf_30_trial_0_0361.jpg\n",
      "aws s3 cp /shared/CSHL_registration_visualization/atlasV3/atlasV3_down32_scoreVolume_clf_30_warp_10_MD591_down32_scoreVolume_clf_30_trial_0/atlasV3_down32_scoreVolume_clf_30_warp_10_MD591_down32_scoreVolume_clf_30_trial_0_0361.jpg s3://mousebrainatlas-data/CSHL_registration_visualization/atlasV3/atlasV3_down32_scoreVolume_clf_30_warp_10_MD591_down32_scoreVolume_clf_30_trial_0/atlasV3_down32_scoreVolume_clf_30_warp_10_MD591_down32_scoreVolume_clf_30_trial_0_0361.jpg\n",
      "/shared/CSHL_registration_visualization/atlasV3/atlasV3_down32_scoreVolume_clf_30_warp_10_MD591_down32_scoreVolume_clf_30_trial_0/atlasV3_down32_scoreVolume_clf_30_warp_10_MD591_down32_scoreVolume_clf_30_trial_0_0366.jpg\n",
      "aws s3 cp /shared/CSHL_registration_visualization/atlasV3/atlasV3_down32_scoreVolume_clf_30_warp_10_MD591_down32_scoreVolume_clf_30_trial_0/atlasV3_down32_scoreVolume_clf_30_warp_10_MD591_down32_scoreVolume_clf_30_trial_0_0366.jpg s3://mousebrainatlas-data/CSHL_registration_visualization/atlasV3/atlasV3_down32_scoreVolume_clf_30_warp_10_MD591_down32_scoreVolume_clf_30_trial_0/atlasV3_down32_scoreVolume_clf_30_warp_10_MD591_down32_scoreVolume_clf_30_trial_0_0366.jpg\n"
     ]
    },
    {
     "name": "stderr",
     "output_type": "stream",
     "text": [
      "Child returned 0\n",
      "0.61 seconds.\n",
      "Child returned 0\n",
      "0.73 seconds.\n"
     ]
    },
    {
     "name": "stdout",
     "output_type": "stream",
     "text": [
      "/shared/CSHL_registration_visualization/atlasV3/atlasV3_down32_scoreVolume_clf_30_warp_10_MD591_down32_scoreVolume_clf_30_trial_0/atlasV3_down32_scoreVolume_clf_30_warp_10_MD591_down32_scoreVolume_clf_30_trial_0_0332.jpg\n",
      "aws s3 cp /shared/CSHL_registration_visualization/atlasV3/atlasV3_down32_scoreVolume_clf_30_warp_10_MD591_down32_scoreVolume_clf_30_trial_0/atlasV3_down32_scoreVolume_clf_30_warp_10_MD591_down32_scoreVolume_clf_30_trial_0_0332.jpg s3://mousebrainatlas-data/CSHL_registration_visualization/atlasV3/atlasV3_down32_scoreVolume_clf_30_warp_10_MD591_down32_scoreVolume_clf_30_trial_0/atlasV3_down32_scoreVolume_clf_30_warp_10_MD591_down32_scoreVolume_clf_30_trial_0_0332.jpg\n"
     ]
    },
    {
     "name": "stderr",
     "output_type": "stream",
     "text": [
      "Child returned 0\n",
      "0.62 seconds.\n"
     ]
    },
    {
     "name": "stdout",
     "output_type": "stream",
     "text": [
      "/shared/CSHL_registration_visualization/atlasV3/atlasV3_down32_scoreVolume_clf_30_warp_10_MD591_down32_scoreVolume_clf_30_trial_0/atlasV3_down32_scoreVolume_clf_30_warp_10_MD591_down32_scoreVolume_clf_30_trial_0_0337.jpg\n",
      "aws s3 cp /shared/CSHL_registration_visualization/atlasV3/atlasV3_down32_scoreVolume_clf_30_warp_10_MD591_down32_scoreVolume_clf_30_trial_0/atlasV3_down32_scoreVolume_clf_30_warp_10_MD591_down32_scoreVolume_clf_30_trial_0_0337.jpg s3://mousebrainatlas-data/CSHL_registration_visualization/atlasV3/atlasV3_down32_scoreVolume_clf_30_warp_10_MD591_down32_scoreVolume_clf_30_trial_0/atlasV3_down32_scoreVolume_clf_30_warp_10_MD591_down32_scoreVolume_clf_30_trial_0_0337.jpg\n"
     ]
    },
    {
     "name": "stderr",
     "output_type": "stream",
     "text": [
      "Child returned 0\n",
      "0.72 seconds.\n",
      "Child returned 0\n",
      "0.67 seconds.\n",
      "Child returned 0\n",
      "0.58 seconds.\n"
     ]
    },
    {
     "name": "stdout",
     "output_type": "stream",
     "text": [
      "/shared/CSHL_registration_visualization/atlasV3/atlasV3_down32_scoreVolume_clf_30_warp_10_MD591_down32_scoreVolume_clf_30_trial_0/atlasV3_down32_scoreVolume_clf_30_warp_10_MD591_down32_scoreVolume_clf_30_trial_0_0342.jpg\n",
      "aws s3 cp /shared/CSHL_registration_visualization/atlasV3/atlasV3_down32_scoreVolume_clf_30_warp_10_MD591_down32_scoreVolume_clf_30_trial_0/atlasV3_down32_scoreVolume_clf_30_warp_10_MD591_down32_scoreVolume_clf_30_trial_0_0342.jpg s3://mousebrainatlas-data/CSHL_registration_visualization/atlasV3/atlasV3_down32_scoreVolume_clf_30_warp_10_MD591_down32_scoreVolume_clf_30_trial_0/atlasV3_down32_scoreVolume_clf_30_warp_10_MD591_down32_scoreVolume_clf_30_trial_0_0342.jpg\n"
     ]
    },
    {
     "name": "stderr",
     "output_type": "stream",
     "text": [
      "Child returned 0\n",
      "0.54 seconds.\n"
     ]
    },
    {
     "name": "stdout",
     "output_type": "stream",
     "text": [
      "/shared/CSHL_registration_visualization/atlasV3/atlasV3_down32_scoreVolume_clf_30_warp_10_MD591_down32_scoreVolume_clf_30_trial_0/atlasV3_down32_scoreVolume_clf_30_warp_10_MD591_down32_scoreVolume_clf_30_trial_0_0352.jpg\n",
      "aws s3 cp /shared/CSHL_registration_visualization/atlasV3/atlasV3_down32_scoreVolume_clf_30_warp_10_MD591_down32_scoreVolume_clf_30_trial_0/atlasV3_down32_scoreVolume_clf_30_warp_10_MD591_down32_scoreVolume_clf_30_trial_0_0352.jpg s3://mousebrainatlas-data/CSHL_registration_visualization/atlasV3/atlasV3_down32_scoreVolume_clf_30_warp_10_MD591_down32_scoreVolume_clf_30_trial_0/atlasV3_down32_scoreVolume_clf_30_warp_10_MD591_down32_scoreVolume_clf_30_trial_0_0352.jpg\n",
      "/shared/CSHL_registration_visualization/atlasV3/atlasV3_down32_scoreVolume_clf_30_warp_10_MD591_down32_scoreVolume_clf_30_trial_0/atlasV3_down32_scoreVolume_clf_30_warp_10_MD591_down32_scoreVolume_clf_30_trial_0_0357.jpg\n",
      "aws s3 cp /shared/CSHL_registration_visualization/atlasV3/atlasV3_down32_scoreVolume_clf_30_warp_10_MD591_down32_scoreVolume_clf_30_trial_0/atlasV3_down32_scoreVolume_clf_30_warp_10_MD591_down32_scoreVolume_clf_30_trial_0_0357.jpg s3://mousebrainatlas-data/CSHL_registration_visualization/atlasV3/atlasV3_down32_scoreVolume_clf_30_warp_10_MD591_down32_scoreVolume_clf_30_trial_0/atlasV3_down32_scoreVolume_clf_30_warp_10_MD591_down32_scoreVolume_clf_30_trial_0_0357.jpg\n",
      "/shared/CSHL_registration_visualization/atlasV3/atlasV3_down32_scoreVolume_clf_30_warp_10_MD591_down32_scoreVolume_clf_30_trial_0/atlasV3_down32_scoreVolume_clf_30_warp_10_MD591_down32_scoreVolume_clf_30_trial_0_0347.jpg\n",
      "aws s3 cp /shared/CSHL_registration_visualization/atlasV3/atlasV3_down32_scoreVolume_clf_30_warp_10_MD591_down32_scoreVolume_clf_30_trial_0/atlasV3_down32_scoreVolume_clf_30_warp_10_MD591_down32_scoreVolume_clf_30_trial_0_0347.jpg s3://mousebrainatlas-data/CSHL_registration_visualization/atlasV3/atlasV3_down32_scoreVolume_clf_30_warp_10_MD591_down32_scoreVolume_clf_30_trial_0/atlasV3_down32_scoreVolume_clf_30_warp_10_MD591_down32_scoreVolume_clf_30_trial_0_0347.jpg\n"
     ]
    },
    {
     "name": "stderr",
     "output_type": "stream",
     "text": [
      "Child returned 0\n",
      "0.51 seconds.\n"
     ]
    },
    {
     "name": "stdout",
     "output_type": "stream",
     "text": [
      "/shared/CSHL_registration_visualization/atlasV3/atlasV3_down32_scoreVolume_clf_30_warp_10_MD591_down32_scoreVolume_clf_30_trial_0/atlasV3_down32_scoreVolume_clf_30_warp_10_MD591_down32_scoreVolume_clf_30_trial_0_0367.jpg\n",
      "/shared/CSHL_registration_visualization/atlasV3/atlasV3_down32_scoreVolume_clf_30_warp_10_MD591_down32_scoreVolume_clf_30_trial_0/atlasV3_down32_scoreVolume_clf_30_warp_10_MD591_down32_scoreVolume_clf_30_trial_0_0362.jpg\n",
      "aws s3 cp /shared/CSHL_registration_visualization/atlasV3/atlasV3_down32_scoreVolume_clf_30_warp_10_MD591_down32_scoreVolume_clf_30_trial_0/atlasV3_down32_scoreVolume_clf_30_warp_10_MD591_down32_scoreVolume_clf_30_trial_0_0362.jpg s3://mousebrainatlas-data/CSHL_registration_visualization/atlasV3/atlasV3_down32_scoreVolume_clf_30_warp_10_MD591_down32_scoreVolume_clf_30_trial_0/atlasV3_down32_scoreVolume_clf_30_warp_10_MD591_down32_scoreVolume_clf_30_trial_0_0362.jpg\n",
      "aws s3 cp /shared/CSHL_registration_visualization/atlasV3/atlasV3_down32_scoreVolume_clf_30_warp_10_MD591_down32_scoreVolume_clf_30_trial_0/atlasV3_down32_scoreVolume_clf_30_warp_10_MD591_down32_scoreVolume_clf_30_trial_0_0367.jpg s3://mousebrainatlas-data/CSHL_registration_visualization/atlasV3/atlasV3_down32_scoreVolume_clf_30_warp_10_MD591_down32_scoreVolume_clf_30_trial_0/atlasV3_down32_scoreVolume_clf_30_warp_10_MD591_down32_scoreVolume_clf_30_trial_0_0367.jpg\n"
     ]
    },
    {
     "name": "stderr",
     "output_type": "stream",
     "text": [
      "Child returned 0\n",
      "0.55 seconds.\n",
      "Child returned 0\n",
      "0.49 seconds.\n",
      "Child returned 0\n",
      "0.53 seconds.\n",
      "Child returned 0\n",
      "0.46 seconds.\n",
      "Child returned 0\n",
      "0.52 seconds.\n",
      "Time: 53.90 seconds\n"
     ]
    }
   ],
   "source": [
    "t = time.time()\n",
    "\n",
    "pool = Pool(15)\n",
    "pool.map(func, range(first_sec, last_sec+1))\n",
    "pool.terminate()\n",
    "pool.join()\n",
    "\n",
    "sys.stderr.write('Time: %.2f seconds\\n' % (time.time() - t)) # 90s"
   ]
  },
  {
   "cell_type": "code",
   "execution_count": 27,
   "metadata": {},
   "outputs": [
    {
     "name": "stderr",
     "output_type": "stream",
     "text": [
      "Time: 0.75 seconds\n"
     ]
    }
   ],
   "source": [
    "# Sequential\n",
    "\n",
    "# for sec in range(first_sec, last_sec+1):\n",
    "for sec in [155]:\n",
    "    \n",
    "    if is_invalid(stack=stack_fixed, sec=sec):\n",
    "        continue\n",
    "    \n",
    "#     bar.value = sec\n",
    "\n",
    "    t = time.time()\n",
    "    \n",
    "    img_fn = DataManager.get_image_filepath(stack=stack_fixed, section=sec, resol='thumbnail', version='cropped_tif')\n",
    "    download_from_s3_to_ec2(img_fn)\n",
    "    img = imread(img_fn)\n",
    "    \n",
    "    viz = img.copy()\n",
    "    \n",
    "    z = voxel_z_size * (sec - 1) - zmin_vol_f\n",
    "    z = int(np.round(z))\n",
    "    \n",
    "    # Find moving volume annotation contours\n",
    "    for name_s, vol in warped_volumes.iteritems():\n",
    "        for level in levels:\n",
    "            cnts = find_contours(vol[..., z], level=level) # rows, cols\n",
    "            for cnt in cnts:\n",
    "                # r,c to x,y\n",
    "                cnt_on_cropped = cnt[:,::-1] + (xmin_vol_f, ymin_vol_f)\n",
    "                cv2.polylines(viz, [cnt_on_cropped.astype(np.int)], True, level_colors[level], 1)\n",
    "\n",
    "    \n",
    "#     viz_fp = DataManager.get_alignment_viz_filepath(stack_m=stack_moving,\n",
    "#                                             stack_f=stack_fixed,\n",
    "#                                             classifier_setting_m=classifier_setting,\n",
    "#                                             classifier_setting_f=classifier_setting,\n",
    "#                                             warp_setting=warp_setting,\n",
    "#                                           section=sec)\n",
    "    \n",
    "#     create_if_not_exists(os.path.dirname(viz_fp))\n",
    "#     imsave(viz_fp, viz)\n",
    "    \n",
    "    sys.stderr.write('Time: %.2f seconds\\n' % (time.time() - t)) # 5s"
   ]
  },
  {
   "cell_type": "code",
   "execution_count": 18,
   "metadata": {},
   "outputs": [
    {
     "name": "stderr",
     "output_type": "stream",
     "text": [
      "/oasis/projects/nsf/csd395/yuncong/brain_virtualenv/lib/python2.7/site-packages/ipykernel/__main__.py:1: VisibleDeprecationWarning: using a non-integer number instead of an integer will result in an error in the future\n",
      "  if __name__ == '__main__':\n",
      "/oasis/projects/nsf/csd395/yuncong/brain_virtualenv/lib/python2.7/site-packages/skimage/util/dtype.py:122: UserWarning: Possible precision loss when converting from float16 to uint8\n",
      "  .format(dtypeobj_in, dtypeobj_out))\n",
      "/oasis/projects/nsf/csd395/yuncong/brain_virtualenv/lib/python2.7/site-packages/skimage/io/_io.py:132: UserWarning: tmp.jpg is a low contrast image\n",
      "  warn('%s is a low contrast image' % fname)\n"
     ]
    },
    {
     "data": {
      "text/html": [
       "<a href='tmp.jpg' target='_blank'>tmp.jpg</a><br>"
      ],
      "text/plain": [
       "/oasis/projects/nsf/csd395/yuncong/Brain/registration/tmp.jpg"
      ]
     },
     "execution_count": 18,
     "metadata": {},
     "output_type": "execute_result"
    }
   ],
   "source": [
    "display_image(vol[..., z])"
   ]
  }
 ],
 "metadata": {
  "kernelspec": {
   "display_name": "Python 2",
   "language": "python",
   "name": "python2"
  },
  "language_info": {
   "codemirror_mode": {
    "name": "ipython",
    "version": 2
   },
   "file_extension": ".py",
   "mimetype": "text/x-python",
   "name": "python",
   "nbconvert_exporter": "python",
   "pygments_lexer": "ipython2",
   "version": "2.7.12"
  }
 },
 "nbformat": 4,
 "nbformat_minor": 1
}
