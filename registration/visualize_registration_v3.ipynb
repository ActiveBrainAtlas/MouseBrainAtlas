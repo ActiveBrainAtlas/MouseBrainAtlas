{
 "cells": [
  {
   "cell_type": "code",
   "execution_count": 1,
   "metadata": {
    "collapsed": false
   },
   "outputs": [
    {
     "name": "stdout",
     "output_type": "stream",
     "text": [
      "Setting environment for Gordon\n"
     ]
    },
    {
     "name": "stderr",
     "output_type": "stream",
     "text": [
      "No vtk\n"
     ]
    }
   ],
   "source": [
    "%load_ext autoreload\n",
    "%autoreload 2\n",
    "\n",
    "import sys\n",
    "import os\n",
    "import time\n",
    "\n",
    "import matplotlib.pyplot as plt\n",
    "%matplotlib inline\n",
    "import numpy as np\n",
    "\n",
    "sys.path.append(os.environ['REPO_DIR'] + '/utilities')\n",
    "from utilities2015 import *\n",
    "from registration_utilities import *\n",
    "from annotation_utilities import *\n",
    "from metadata import *\n",
    "from data_manager import *"
   ]
  },
  {
   "cell_type": "code",
   "execution_count": 3,
   "metadata": {
    "collapsed": true
   },
   "outputs": [],
   "source": [
    "stack_fixed = 'MD642'\n",
    "stack_moving = 'atlasV2'\n",
    "warp_setting = 12\n",
    "classifier_setting = 2"
   ]
  },
  {
   "cell_type": "code",
   "execution_count": 108,
   "metadata": {
    "collapsed": true
   },
   "outputs": [],
   "source": [
    "# Read transformed volumes - one structure\n",
    "\n",
    "structure = '7n_L'\n",
    "\n",
    "warped_volumes = {}\n",
    "warped_volumes[structure] = DataManager.load_transformed_volume(stack_m=stack_moving, \n",
    "                                                                          stack_f=stack_fixed, \n",
    "                                    classifier_setting_m=classifier_setting,\n",
    "                                    classifier_setting_f=classifier_setting,\n",
    "                                    warp_setting=warp_setting,\n",
    "                                    trial_idx=0, structure=structure)"
   ]
  },
  {
   "cell_type": "code",
   "execution_count": 23,
   "metadata": {
    "collapsed": false
   },
   "outputs": [
    {
     "name": "stderr",
     "output_type": "stream",
     "text": [
      "File does not exist: /oasis/projects/nsf/csd395/yuncong/CSHL_volumes/atlasV2/atlasV2_down32_scoreVolume_clf_2_warp_12_MD642_down32_scoreVolume_clf_2_trial_0/score_volumes/atlasV2_down32_scoreVolume_clf_2_warp_12_MD642_down32_scoreVolume_clf_2_trial_0_sp5.bp\n",
      "[Errno 2] No such file or directory: '/oasis/projects/nsf/csd395/yuncong/CSHL_volumes/atlasV2/atlasV2_down32_scoreVolume_clf_2_warp_12_MD642_down32_scoreVolume_clf_2_trial_0/score_volumes/atlasV2_down32_scoreVolume_clf_2_warp_12_MD642_down32_scoreVolume_clf_2_trial_0_sp5.bp'\n",
      "Score volume for sp5 does not exist.\n",
      "File does not exist: /oasis/projects/nsf/csd395/yuncong/CSHL_volumes/atlasV2/atlasV2_down32_scoreVolume_clf_2_warp_12_MD642_down32_scoreVolume_clf_2_trial_0/score_volumes/atlasV2_down32_scoreVolume_clf_2_warp_12_MD642_down32_scoreVolume_clf_2_trial_0_outerContour.bp\n",
      "[Errno 2] No such file or directory: '/oasis/projects/nsf/csd395/yuncong/CSHL_volumes/atlasV2/atlasV2_down32_scoreVolume_clf_2_warp_12_MD642_down32_scoreVolume_clf_2_trial_0/score_volumes/atlasV2_down32_scoreVolume_clf_2_warp_12_MD642_down32_scoreVolume_clf_2_trial_0_outerContour.bp'\n",
      "Score volume for outerContour does not exist.\n"
     ]
    }
   ],
   "source": [
    "# Read transformed volumes - all structures\n",
    "\n",
    "warped_volumes = DataManager.load_transformed_volume_all_known_structures(stack_m=stack_moving, \n",
    "                                                                          stack_f=stack_fixed, \n",
    "                                    classifier_setting_m=classifier_setting,\n",
    "                                    classifier_setting_f=classifier_setting,\n",
    "                                    warp_setting=warp_setting,\n",
    "                                    trial_idx=0, sided=True)"
   ]
  },
  {
   "cell_type": "code",
   "execution_count": 24,
   "metadata": {
    "collapsed": true
   },
   "outputs": [],
   "source": [
    "# Set colors for different contour level\n",
    "levels = [0.1, 0.25, 0.5, 0.75, .99]\n",
    "level_colors = {0.1: (0,255,255), \n",
    "                0.25: (0,255,0), \n",
    "                0.5: (255,0,0), \n",
    "                0.75: (255,255,0), \n",
    "                0.99: (255,0,255)}\n",
    "\n",
    "# levels = [.5]\n",
    "# level_colors = {level: (255,0,0) for level in levels}"
   ]
  },
  {
   "cell_type": "code",
   "execution_count": 25,
   "metadata": {
    "collapsed": false
   },
   "outputs": [
    {
     "name": "stdout",
     "output_type": "stream",
     "text": [
      "0 896 0 486 108 494\n"
     ]
    }
   ],
   "source": [
    "# Generate overlay visualization\n",
    "\n",
    "# estimate mapping between z and section\n",
    "downsample_factor = 32\n",
    "xy_pixel_distance_downsampled = XY_PIXEL_DISTANCE_LOSSLESS * downsample_factor\n",
    "voxel_z_size = SECTION_THICKNESS / xy_pixel_distance_downsampled\n",
    "\n",
    "# For getting correct contour location\n",
    "xmin_vol_f, xmax_vol_f, ymin_vol_f, ymax_vol_f, zmin_vol_f, zmax_vol_f = \\\n",
    "DataManager.load_volume_bbox(stack=stack_fixed, type='score', structure='7N', downscale=32, classifier_setting=classifier_setting)\n",
    "print xmin_vol_f, xmax_vol_f, ymin_vol_f, ymax_vol_f, zmin_vol_f, zmax_vol_f\n",
    "\n",
    "# Generate atlas overlay image for every section\n",
    "first_sec, last_sec = metadata_cache['section_limits'][stack_fixed]\n",
    "# bar = show_progress_bar(first_sec, last_sec)"
   ]
  },
  {
   "cell_type": "code",
   "execution_count": 26,
   "metadata": {
    "collapsed": false
   },
   "outputs": [],
   "source": [
    "def func(sec):\n",
    "    if is_invalid(stack=stack_fixed, sec=sec):\n",
    "        return\n",
    "    \n",
    "#     bar.value = sec\n",
    "\n",
    "#     t = time.time()\n",
    "    \n",
    "    img_fn = DataManager.get_image_filepath(stack=stack_fixed, section=sec, resol='thumbnail', version='cropped_tif')\n",
    "    img = imread(img_fn)\n",
    "    \n",
    "    viz = img.copy()\n",
    "    \n",
    "    z = voxel_z_size * (sec - 1) - zmin_vol_f\n",
    "    \n",
    "    # Find moving volume annotation contours\n",
    "    for name_s, vol in warped_volumes.iteritems():\n",
    "        for level in levels:\n",
    "            cnts = find_contours(vol[..., z], level=level) # rows, cols\n",
    "            for cnt in cnts:\n",
    "                # r,c to x,y\n",
    "                cnt_on_cropped = cnt[:,::-1] + (xmin_vol_f, ymin_vol_f)\n",
    "                cv2.polylines(viz, [cnt_on_cropped.astype(np.int)], True, level_colors[level], 1)\n",
    "\n",
    "    \n",
    "    viz_fp = DataManager.get_alignment_viz_filepath(stack_m=stack_moving,\n",
    "                                            stack_f=stack_fixed,\n",
    "                                            classifier_setting_m=classifier_setting,\n",
    "                                            classifier_setting_f=classifier_setting,\n",
    "                                            warp_setting=warp_setting,\n",
    "                                          section=sec)\n",
    "    \n",
    "    create_if_not_exists(os.path.dirname(viz_fp))\n",
    "    imsave(viz_fp, viz)\n",
    "    \n",
    "#     sys.stderr.write('Time: %.2f seconds\\n' % (time.time() - t)) # 5s"
   ]
  },
  {
   "cell_type": "code",
   "execution_count": 27,
   "metadata": {
    "collapsed": false
   },
   "outputs": [
    {
     "name": "stderr",
     "output_type": "stream",
     "text": [
      "/oasis/projects/nsf/csd395/yuncong/brain_virtualenv/lib/python2.7/site-packages/ipykernel/__main__.py:19: VisibleDeprecationWarning: using a non-integer number instead of an integer will result in an error in the future\n",
      "/oasis/projects/nsf/csd395/yuncong/brain_virtualenv/lib/python2.7/site-packages/ipykernel/__main__.py:19: VisibleDeprecationWarning: using a non-integer number instead of an integer will result in an error in the future\n",
      "/oasis/projects/nsf/csd395/yuncong/brain_virtualenv/lib/python2.7/site-packages/ipykernel/__main__.py:19: VisibleDeprecationWarning: using a non-integer number instead of an integer will result in an error in the future\n",
      "/oasis/projects/nsf/csd395/yuncong/brain_virtualenv/lib/python2.7/site-packages/ipykernel/__main__.py:19: VisibleDeprecationWarning: using a non-integer number instead of an integer will result in an error in the future\n",
      "/oasis/projects/nsf/csd395/yuncong/brain_virtualenv/lib/python2.7/site-packages/ipykernel/__main__.py:19: VisibleDeprecationWarning: using a non-integer number instead of an integer will result in an error in the future\n",
      "/oasis/projects/nsf/csd395/yuncong/brain_virtualenv/lib/python2.7/site-packages/ipykernel/__main__.py:19: VisibleDeprecationWarning: using a non-integer number instead of an integer will result in an error in the future\n",
      "/oasis/projects/nsf/csd395/yuncong/brain_virtualenv/lib/python2.7/site-packages/ipykernel/__main__.py:19: VisibleDeprecationWarning: using a non-integer number instead of an integer will result in an error in the future\n",
      "/oasis/projects/nsf/csd395/yuncong/brain_virtualenv/lib/python2.7/site-packages/ipykernel/__main__.py:19: VisibleDeprecationWarning: using a non-integer number instead of an integer will result in an error in the future\n",
      "/oasis/projects/nsf/csd395/yuncong/brain_virtualenv/lib/python2.7/site-packages/ipykernel/__main__.py:19: VisibleDeprecationWarning: using a non-integer number instead of an integer will result in an error in the future\n",
      "/oasis/projects/nsf/csd395/yuncong/brain_virtualenv/lib/python2.7/site-packages/ipykernel/__main__.py:19: VisibleDeprecationWarning: using a non-integer number instead of an integer will result in an error in the future\n",
      "/oasis/projects/nsf/csd395/yuncong/brain_virtualenv/lib/python2.7/site-packages/ipykernel/__main__.py:19: VisibleDeprecationWarning: using a non-integer number instead of an integer will result in an error in the future\n",
      "/oasis/projects/nsf/csd395/yuncong/brain_virtualenv/lib/python2.7/site-packages/ipykernel/__main__.py:19: VisibleDeprecationWarning: using a non-integer number instead of an integer will result in an error in the future\n",
      "/oasis/projects/nsf/csd395/yuncong/brain_virtualenv/lib/python2.7/site-packages/ipykernel/__main__.py:19: VisibleDeprecationWarning: using a non-integer number instead of an integer will result in an error in the future\n",
      "/oasis/projects/nsf/csd395/yuncong/brain_virtualenv/lib/python2.7/site-packages/ipykernel/__main__.py:19: VisibleDeprecationWarning: using a non-integer number instead of an integer will result in an error in the future\n",
      "/oasis/projects/nsf/csd395/yuncong/brain_virtualenv/lib/python2.7/site-packages/ipykernel/__main__.py:19: VisibleDeprecationWarning: using a non-integer number instead of an integer will result in an error in the future\n",
      "Time: 90.46 seconds\n"
     ]
    }
   ],
   "source": [
    "t = time.time()\n",
    "\n",
    "pool = Pool(15)\n",
    "pool.map(func, range(first_sec, last_sec+1))\n",
    "pool.terminate()\n",
    "pool.join()\n",
    "\n",
    "sys.stderr.write('Time: %.2f seconds\\n' % (time.time() - t)) # 90s"
   ]
  },
  {
   "cell_type": "code",
   "execution_count": 15,
   "metadata": {
    "collapsed": false
   },
   "outputs": [
    {
     "name": "stderr",
     "output_type": "stream",
     "text": [
      "/oasis/projects/nsf/csd395/yuncong/brain_virtualenv/lib/python2.7/site-packages/ipykernel/__main__.py:21: VisibleDeprecationWarning: using a non-integer number instead of an integer will result in an error in the future\n",
      "Time: 3.83 seconds\n"
     ]
    }
   ],
   "source": [
    "# Sequential\n",
    "\n",
    "# for sec in range(first_sec, last_sec+1):\n",
    "for sec in [155]:\n",
    "    \n",
    "    if is_invalid(stack=stack_fixed, sec=sec):\n",
    "        continue\n",
    "    \n",
    "    bar.value = sec\n",
    "\n",
    "    t = time.time()\n",
    "    \n",
    "    img_fn = DataManager.get_image_filepath(stack=stack_fixed, section=sec, resol='thumbnail', version='cropped_tif')\n",
    "    img = imread(img_fn)\n",
    "    \n",
    "    viz = img.copy()\n",
    "    \n",
    "    z = voxel_z_size * (sec - 1) - zmin_vol_f\n",
    "    \n",
    "    # Find moving volume annotation contours\n",
    "    for name_s, vol in warped_volumes.iteritems():\n",
    "        for level in levels:\n",
    "            cnts = find_contours(vol[..., z], level=level) # rows, cols\n",
    "            for cnt in cnts:\n",
    "                # r,c to x,y\n",
    "                cnt_on_cropped = cnt[:,::-1] + (xmin_vol_f, ymin_vol_f)\n",
    "                cv2.polylines(viz, [cnt_on_cropped.astype(np.int)], True, level_colors[level], 1)\n",
    "\n",
    "    \n",
    "#     viz_fp = DataManager.get_alignment_viz_filepath(stack_m=stack_moving,\n",
    "#                                             stack_f=stack_fixed,\n",
    "#                                             classifier_setting_m=classifier_setting,\n",
    "#                                             classifier_setting_f=classifier_setting,\n",
    "#                                             warp_setting=warp_setting,\n",
    "#                                           section=sec)\n",
    "    \n",
    "#     create_if_not_exists(os.path.dirname(viz_fp))\n",
    "#     imsave(viz_fp, viz)\n",
    "    \n",
    "    sys.stderr.write('Time: %.2f seconds\\n' % (time.time() - t)) # 5s"
   ]
  },
  {
   "cell_type": "code",
   "execution_count": 18,
   "metadata": {
    "collapsed": false
   },
   "outputs": [
    {
     "name": "stderr",
     "output_type": "stream",
     "text": [
      "/oasis/projects/nsf/csd395/yuncong/brain_virtualenv/lib/python2.7/site-packages/ipykernel/__main__.py:1: VisibleDeprecationWarning: using a non-integer number instead of an integer will result in an error in the future\n",
      "  if __name__ == '__main__':\n",
      "/oasis/projects/nsf/csd395/yuncong/brain_virtualenv/lib/python2.7/site-packages/skimage/util/dtype.py:122: UserWarning: Possible precision loss when converting from float16 to uint8\n",
      "  .format(dtypeobj_in, dtypeobj_out))\n",
      "/oasis/projects/nsf/csd395/yuncong/brain_virtualenv/lib/python2.7/site-packages/skimage/io/_io.py:132: UserWarning: tmp.jpg is a low contrast image\n",
      "  warn('%s is a low contrast image' % fname)\n"
     ]
    },
    {
     "data": {
      "text/html": [
       "<a href='tmp.jpg' target='_blank'>tmp.jpg</a><br>"
      ],
      "text/plain": [
       "/oasis/projects/nsf/csd395/yuncong/Brain/registration/tmp.jpg"
      ]
     },
     "execution_count": 18,
     "metadata": {},
     "output_type": "execute_result"
    }
   ],
   "source": [
    "display_image(vol[..., z])"
   ]
  }
 ],
 "metadata": {
  "kernelspec": {
   "display_name": "Python 2",
   "language": "python",
   "name": "python2"
  },
  "language_info": {
   "codemirror_mode": {
    "name": "ipython",
    "version": 2
   },
   "file_extension": ".py",
   "mimetype": "text/x-python",
   "name": "python",
   "nbconvert_exporter": "python",
   "pygments_lexer": "ipython2",
   "version": "2.7.3"
  }
 },
 "nbformat": 4,
 "nbformat_minor": 1
}
