{
 "cells": [
  {
   "cell_type": "code",
   "execution_count": 1,
   "metadata": {
    "collapsed": false
   },
   "outputs": [
    {
     "name": "stdout",
     "output_type": "stream",
     "text": [
      "Setting environment for Gordon\n"
     ]
    }
   ],
   "source": [
    "%load_ext autoreload\n",
    "%autoreload 2\n",
    "\n",
    "import numpy as np\n",
    "\n",
    "import sys\n",
    "import os\n",
    "\n",
    "sys.path.append(os.environ['REPO_DIR'] + '/utilities')\n",
    "from utilities2015 import *\n",
    "from registration_utilities import parallel_where_binary, Aligner4\n",
    "from metadata import *\n",
    "from data_manager import *\n",
    "\n",
    "import matplotlib.pyplot as plt\n",
    "%matplotlib inline\n",
    "\n",
    "from joblib import Parallel, delayed\n",
    "import time"
   ]
  },
  {
   "cell_type": "code",
   "execution_count": 2,
   "metadata": {
    "collapsed": false
   },
   "outputs": [],
   "source": [
    "from registration_utilities import affine_components_to_vector"
   ]
  },
  {
   "cell_type": "code",
   "execution_count": 3,
   "metadata": {
    "collapsed": true
   },
   "outputs": [],
   "source": [
    "stack_fixed = 'MD590'"
   ]
  },
  {
   "cell_type": "code",
   "execution_count": 4,
   "metadata": {
    "collapsed": true
   },
   "outputs": [],
   "source": [
    "train_sample_scheme = 1\n",
    "global_transform_scheme = 1\n",
    "\n",
    "stack_moving = 'atlas_on_MD589'"
   ]
  },
  {
   "cell_type": "code",
   "execution_count": 5,
   "metadata": {
    "collapsed": true
   },
   "outputs": [],
   "source": [
    "paired_structures = ['5N', '6N', '7N', '7n', 'Amb', 'LC', 'LRt', 'Pn', 'Tz', 'VLL', 'RMC', 'SNC', 'SNR', '3N', '4N',\n",
    "                    'Sp5I', 'Sp5O', 'Sp5C', 'PBG', '10N', 'VCA', 'VCP', 'DC']\n",
    "singular_structures = ['AP', '12N', 'RtTg', 'SC', 'IC']\n",
    "structures = paired_structures + singular_structures"
   ]
  },
  {
   "cell_type": "code",
   "execution_count": 6,
   "metadata": {
    "collapsed": false
   },
   "outputs": [],
   "source": [
    "label_to_name_fixed = {i+1: name for i, name in enumerate(sorted(structures))}\n",
    "name_to_label_fixed = {n:l for l, n in label_to_name_fixed.iteritems()}"
   ]
  },
  {
   "cell_type": "code",
   "execution_count": 7,
   "metadata": {
    "collapsed": true
   },
   "outputs": [],
   "source": [
    "label_to_name_moving = {i+1: name for i, name in enumerate(sorted(structures) + sorted([s+'_surround' for s in structures]))}\n",
    "name_to_label_moving = {n:l for l, n in label_to_name_moving.iteritems()}"
   ]
  },
  {
   "cell_type": "code",
   "execution_count": 8,
   "metadata": {
    "collapsed": false
   },
   "outputs": [
    {
     "name": "stdout",
     "output_type": "stream",
     "text": [
      "(408, 548, 358)\n",
      "float16\n"
     ]
    }
   ],
   "source": [
    "volume_fixed = {name_to_label_fixed[name]: \\\n",
    "                DataManager.load_score_volume(stack_fixed, label=name, \n",
    "                                downscale=32, train_sample_scheme=train_sample_scheme)\n",
    "               for name in structures}\n",
    "\n",
    "print volume_fixed.values()[0].shape\n",
    "print volume_fixed.values()[0].dtype\n",
    "\n",
    "vol_fixed_xmin, vol_fixed_ymin, vol_fixed_zmin = (0,0,0)\n",
    "vol_fixed_ymax, vol_fixed_xmax, vol_fixed_zmax = np.array(volume_fixed.values()[0].shape) - 1"
   ]
  },
  {
   "cell_type": "code",
   "execution_count": 9,
   "metadata": {
    "collapsed": false
   },
   "outputs": [
    {
     "name": "stdout",
     "output_type": "stream",
     "text": [
      "(348, 421, 377)\n",
      "float16\n"
     ]
    }
   ],
   "source": [
    "volume_moving = {name_to_label_moving[name]: DataManager.load_score_volume(stack_moving, label=name, downscale=32)\n",
    "                 for name in structures + [s+'_surround' for s in structures]}\n",
    "\n",
    "print volume_moving.values()[0].shape\n",
    "print volume_moving.values()[0].dtype\n",
    "\n",
    "vol_moving_xmin, vol_moving_ymin, vol_moving_zmin = (0,0,0)\n",
    "vol_moving_ymax, vol_moving_xmax, vol_moving_zmax = np.array(volume_moving.values()[0].shape) - 1"
   ]
  },
  {
   "cell_type": "code",
   "execution_count": 10,
   "metadata": {
    "collapsed": true
   },
   "outputs": [],
   "source": [
    "volume_moving_structure_sizes = {l: np.count_nonzero(vol > 0) for l, vol in volume_moving.iteritems()}"
   ]
  },
  {
   "cell_type": "code",
   "execution_count": 11,
   "metadata": {
    "collapsed": true
   },
   "outputs": [],
   "source": [
    "def convert_to_original_name(name):\n",
    "    return name.split('_')[0]\n",
    "\n",
    "labelIndexMap_m2f = {}\n",
    "label_weights_m = {}\n",
    "for label_m, name_m in label_to_name_moving.iteritems():\n",
    "    labelIndexMap_m2f[label_m] = name_to_label_fixed[convert_to_original_name(name_m)]\n",
    "    \n",
    "    if 'surround' in name_m:\n",
    "        label_weights_m[label_m] = 0\n",
    "#         label_weights_m[label_m] = -np.minimum(1e5 / volume_moving_structure_sizes[label_m], 1.)\n",
    "    else:\n",
    "#         label_weights_m[label_m] = 1\n",
    "        label_weights_m[label_m] = np.minimum(1e5 / volume_moving_structure_sizes[label_m], 1.)"
   ]
  },
  {
   "cell_type": "code",
   "execution_count": null,
   "metadata": {
    "collapsed": true
   },
   "outputs": [],
   "source": []
  },
  {
   "cell_type": "code",
   "execution_count": 12,
   "metadata": {
    "collapsed": false
   },
   "outputs": [],
   "source": [
    "# aligner = Aligner4(volume_fixed, volume_moving, labelIndexMap_m2f={14:14})"
   ]
  },
  {
   "cell_type": "code",
   "execution_count": 12,
   "metadata": {
    "collapsed": false
   },
   "outputs": [],
   "source": [
    "aligner = Aligner4(volume_fixed, volume_moving, labelIndexMap_m2f=labelIndexMap_m2f)"
   ]
  },
  {
   "cell_type": "code",
   "execution_count": 13,
   "metadata": {
    "collapsed": false
   },
   "outputs": [],
   "source": [
    "aligner.set_centroid(centroid_m='volume_centroid', centroid_f='volume_centroid')\n",
    "# aligner.set_centroid(centroid_m='structure_centroid', centroid_f='centroid_m', indices_m=[name_to_label_moving['SNR_R']])"
   ]
  },
  {
   "cell_type": "code",
   "execution_count": 14,
   "metadata": {
    "collapsed": false
   },
   "outputs": [],
   "source": [
    "gradient_filepath_map_f = {ind_f: VOLUME_ROOTDIR + '/%(stack)s/score_volume_gradients/%(stack)s_down32_scoreVolume_%(label)s_trainSampleScheme_%(scheme)d_%%(suffix)s.bp' % \\\n",
    "                           {'stack': stack_fixed, 'label': label_to_name_fixed[ind_f], 'scheme':train_sample_scheme}\n",
    "                           for ind_m, ind_f in labelIndexMap_m2f.iteritems()}"
   ]
  },
  {
   "cell_type": "code",
   "execution_count": 15,
   "metadata": {
    "collapsed": false,
    "scrolled": false
   },
   "outputs": [
    {
     "name": "stdout",
     "output_type": "stream",
     "text": [
      "set([1, 2, 3, 4, 5, 6, 7, 8, 9, 10, 11, 12, 13, 14, 15, 16, 17, 18, 19, 20, 21, 22, 23, 24, 25, 26, 27, 28])\n"
     ]
    },
    {
     "name": "stderr",
     "output_type": "stream",
     "text": [
      "load gradient 1: 0.551081 seconds\n",
      "load gradient 2: 0.866194 seconds\n",
      "load gradient 3: 1.004477 seconds\n",
      "load gradient 4: 0.852880 seconds\n",
      "load gradient 5: 1.197654 seconds\n",
      "load gradient 6: 0.707380 seconds\n",
      "load gradient 7: 1.063113 seconds\n",
      "load gradient 8: 0.877818 seconds\n",
      "load gradient 9: 0.830057 seconds\n",
      "load gradient 10: 1.008115 seconds\n",
      "load gradient 11: 1.205821 seconds\n",
      "load gradient 12: 0.841463 seconds\n",
      "load gradient 13: 0.775160 seconds\n",
      "load gradient 14: 1.246371 seconds\n",
      "load gradient 15: 0.752250 seconds\n",
      "load gradient 16: 1.009828 seconds\n",
      "load gradient 17: 1.312571 seconds\n",
      "load gradient 18: 1.098847 seconds\n",
      "load gradient 19: 0.929699 seconds\n",
      "load gradient 20: 1.203446 seconds\n",
      "load gradient 21: 1.042641 seconds\n",
      "load gradient 22: 1.038572 seconds\n",
      "load gradient 23: 1.112002 seconds\n",
      "load gradient 24: 1.246246 seconds\n",
      "load gradient 25: 0.672761 seconds\n",
      "load gradient 26: 0.879407 seconds\n",
      "load gradient 27: 0.611480 seconds\n",
      "load gradient 28: 1.278779 seconds\n",
      "overall: 27.220286 seconds\n"
     ]
    }
   ],
   "source": [
    "aligner.load_gradient(gradient_filepath_map_f=gradient_filepath_map_f, indices_f=None)"
   ]
  },
  {
   "cell_type": "code",
   "execution_count": 16,
   "metadata": {
    "collapsed": false,
    "scrolled": true
   },
   "outputs": [
    {
     "name": "stderr",
     "output_type": "stream",
     "text": [
      "grid search: 16.709428 seconds\n",
      "-inf 0.672978\n",
      "grid search: 10.387258 seconds\n",
      "0.672978 0.690231\n",
      "grid search: 8.980313 seconds\n",
      "0.690231 0.716411\n",
      "grid search: 6.971288 seconds\n",
      "0.716411 0.735678\n",
      "grid search: 4.875279 seconds\n",
      "0.735678 0.751332\n",
      "grid search: 3.770371 seconds\n",
      "grid search: 2.660933 seconds\n",
      "grid search: 2.566297 seconds\n",
      "0.751332 0.757350\n",
      "grid search: 1.555729 seconds\n",
      "grid search: 1.561698 seconds\n",
      "grid search: 1.453049 seconds\n",
      "grid search: 1.456872 seconds\n",
      "grid search: 1.363973 seconds\n",
      "0.757350 0.759122\n",
      "grid search: 1.348753 seconds\n",
      "grid search: 1.351601 seconds\n",
      "grid search: 1.360196 seconds\n",
      "grid search: 1.346268 seconds\n",
      "grid search: 1.365255 seconds\n",
      "grid search: 1.349464 seconds\n",
      "grid search: 1.361879 seconds\n",
      "grid search: 1.356725 seconds\n",
      "grid search: 1.354583 seconds\n",
      "grid search: 1.344376 seconds\n",
      "grid search: 1.352803 seconds\n",
      "grid search: 1.349171 seconds\n",
      "grid search: 1.361677 seconds\n",
      "grid search: 1.350581 seconds\n",
      "grid search: 1.360458 seconds\n",
      "grid search: 1.357703 seconds\n",
      "grid search: 1.363069 seconds\n",
      "iteration 0\n"
     ]
    },
    {
     "name": "stdout",
     "output_type": "stream",
     "text": [
      "params_best_upToNow [-6.8041999   7.00410767  0.5067157  -0.19106513]\n"
     ]
    },
    {
     "name": "stderr",
     "output_type": "stream",
     "text": [
      "score: 0.759122\n",
      "iteration 1\n",
      "score: 0.607479\n",
      "iteration 2\n",
      "score: 0.553549\n",
      "iteration 3\n",
      "score: 0.791204\n",
      "iteration 4\n",
      "score: 0.705156\n",
      "iteration 5\n",
      "score: 0.836890\n",
      "iteration 6\n",
      "score: 0.819419\n",
      "iteration 7\n",
      "score: 0.844245\n",
      "iteration 8\n",
      "score: 0.868755\n",
      "iteration 9\n",
      "score: 0.881066\n",
      "iteration 10\n",
      "score: 0.903665\n",
      "iteration 11\n",
      "score: 0.903372\n",
      "iteration 12\n",
      "score: 0.926684\n",
      "iteration 13\n",
      "score: 0.919039\n",
      "iteration 14\n",
      "score: 0.942722\n",
      "iteration 15\n",
      "score: 0.931808\n",
      "iteration 16\n",
      "score: 0.953625\n",
      "iteration 17\n",
      "score: 0.944341\n",
      "iteration 18\n",
      "score: 0.962038\n",
      "iteration 19\n",
      "score: 0.953141\n",
      "iteration 20\n",
      "score: 0.967754\n",
      "iteration 21\n",
      "score: 0.960942\n",
      "iteration 22\n",
      "score: 0.971211\n",
      "iteration 23\n",
      "score: 0.964839\n",
      "iteration 24\n",
      "score: 0.969879\n",
      "iteration 25\n",
      "score: 0.965556\n",
      "iteration 26\n",
      "score: 0.968356\n",
      "iteration 27\n",
      "score: 0.967032\n",
      "iteration 28\n",
      "score: 0.966485\n",
      "iteration 29\n",
      "score: 0.970606\n",
      "iteration 30\n",
      "score: 0.970886\n",
      "iteration 31\n",
      "score: 0.975058\n",
      "iteration 32\n",
      "score: 0.975353\n",
      "iteration 33\n",
      "score: 0.977958\n",
      "iteration 34\n",
      "score: 0.978526\n",
      "iteration 35\n",
      "score: 0.979661\n",
      "iteration 36\n",
      "score: 0.979884\n",
      "iteration 37\n",
      "score: 0.980452\n",
      "iteration 38\n",
      "score: 0.981172\n",
      "iteration 39\n",
      "score: 0.981246\n",
      "iteration 40\n",
      "score: 0.982496\n",
      "iteration 41\n",
      "score: 0.982222\n",
      "iteration 42\n",
      "score: 0.982978\n",
      "iteration 43\n",
      "score: 0.982845\n",
      "iteration 44\n",
      "score: 0.983841\n",
      "iteration 45\n",
      "score: 0.983484\n",
      "iteration 46\n",
      "score: 0.984503\n",
      "iteration 47\n",
      "score: 0.984053\n",
      "iteration 48\n",
      "score: 0.984922\n",
      "iteration 49\n",
      "score: 0.984859\n",
      "iteration 50\n",
      "score: 0.985527\n",
      "iteration 51\n",
      "score: 0.985453\n",
      "iteration 52\n",
      "score: 0.985831\n",
      "iteration 53\n",
      "score: 0.985885\n",
      "iteration 54\n",
      "score: 0.986410\n",
      "iteration 55\n",
      "score: 0.986122\n",
      "iteration 56\n",
      "score: 0.986524\n",
      "iteration 57\n",
      "score: 0.986306\n",
      "iteration 58\n",
      "score: 0.986782\n",
      "iteration 59\n",
      "score: 0.986766\n",
      "iteration 60\n",
      "score: 0.987098\n",
      "iteration 61\n",
      "score: 0.987363\n",
      "iteration 62\n",
      "score: 0.987626\n",
      "iteration 63\n",
      "score: 0.987586\n",
      "iteration 64\n",
      "score: 0.987775\n",
      "iteration 65\n",
      "score: 0.987694\n",
      "iteration 66\n",
      "score: 0.987957\n",
      "iteration 67\n",
      "score: 0.988086\n",
      "iteration 68\n",
      "score: 0.988193\n",
      "iteration 69\n",
      "score: 0.988231\n",
      "iteration 70\n",
      "score: 0.988373\n",
      "iteration 71\n",
      "score: 0.988480\n",
      "iteration 72\n",
      "score: 0.988589\n",
      "iteration 73\n",
      "score: 0.988624\n",
      "iteration 74\n",
      "score: 0.988775\n",
      "iteration 75\n",
      "score: 0.988839\n",
      "iteration 76\n",
      "score: 0.988943\n",
      "iteration 77\n",
      "score: 0.988954\n",
      "iteration 78\n",
      "score: 0.989116\n",
      "iteration 79\n",
      "score: 0.989130\n",
      "iteration 80\n",
      "score: 0.989233\n",
      "iteration 81\n",
      "score: 0.989277\n",
      "iteration 82\n",
      "score: 0.989437\n",
      "iteration 83\n",
      "score: 0.989481\n",
      "iteration 84\n",
      "score: 0.989526\n",
      "iteration 85\n",
      "score: 0.989586\n",
      "iteration 86\n",
      "score: 0.989736\n",
      "iteration 87\n",
      "score: 0.989740\n",
      "iteration 88\n",
      "score: 0.989861\n",
      "iteration 89\n",
      "score: 0.989893\n",
      "iteration 90\n",
      "score: 0.989987\n",
      "iteration 91\n",
      "score: 0.990059\n",
      "iteration 92\n",
      "score: 0.990038\n",
      "iteration 93\n",
      "score: 0.990115\n",
      "iteration 94\n",
      "score: 0.990004\n",
      "iteration 95\n",
      "score: 0.990165\n",
      "iteration 96\n"
     ]
    },
    {
     "ename": "KeyboardInterrupt",
     "evalue": "",
     "output_type": "error",
     "traceback": [
      "\u001b[0;31m---------------------------------------------------------------------------\u001b[0m",
      "\u001b[0;31mKeyboardInterrupt\u001b[0m                         Traceback (most recent call last)",
      "\u001b[0;32m<ipython-input-16-bd5247232cf6>\u001b[0m in \u001b[0;36m<module>\u001b[0;34m()\u001b[0m\n\u001b[1;32m     27\u001b[0m                                          \u001b[0mlr1\u001b[0m\u001b[0;34m=\u001b[0m\u001b[0;36m10\u001b[0m\u001b[0;34m,\u001b[0m \u001b[0mlr2\u001b[0m\u001b[0;34m=\u001b[0m\u001b[0;36m0.1\u001b[0m\u001b[0;34m,\u001b[0m\u001b[0;34m\u001b[0m\u001b[0m\n\u001b[1;32m     28\u001b[0m                                          \u001b[0mlabel_weights\u001b[0m\u001b[0;34m=\u001b[0m\u001b[0mlabel_weights_m\u001b[0m\u001b[0;34m,\u001b[0m\u001b[0;34m\u001b[0m\u001b[0m\n\u001b[0;32m---> 29\u001b[0;31m                                         std_tx=50, std_ty=50, std_tz=100, std_theta_xy=np.deg2rad(10))\n\u001b[0m\u001b[1;32m     30\u001b[0m \u001b[0;34m\u001b[0m\u001b[0m\n\u001b[1;32m     31\u001b[0m         \u001b[0;32melif\u001b[0m \u001b[0mglobal_transform_scheme\u001b[0m \u001b[0;34m==\u001b[0m \u001b[0;36m2\u001b[0m\u001b[0;34m:\u001b[0m\u001b[0;34m\u001b[0m\u001b[0m\n",
      "\u001b[0;32m/oasis/projects/nsf/csd395/yuncong/Brain/utilities/registration_utilities.pyc\u001b[0m in \u001b[0;36moptimize\u001b[0;34m(self, type, init_T, label_weights, grid_search_iteration_number, grid_search_sample_number, grad_computation_sample_number, max_iter_num, history_len, terminate_thresh, indices_m, lr1, lr2, std_tx, std_ty, std_tz, std_theta_xy)\u001b[0m\n\u001b[1;32m    598\u001b[0m                 T, s, grad_historical = self.step_gd(T, lr=np.r_[lr2, lr2, lr2, lr1, lr2, lr2, lr2, lr1, lr2, lr2, lr2, lr1], \\\n\u001b[1;32m    599\u001b[0m                                                 \u001b[0mgrad_historical\u001b[0m\u001b[0;34m=\u001b[0m\u001b[0mgrad_historical\u001b[0m\u001b[0;34m,\u001b[0m\u001b[0;34m\u001b[0m\u001b[0m\n\u001b[0;32m--> 600\u001b[0;31m                                                 indices_m=indices_m)\n\u001b[0m\u001b[1;32m    601\u001b[0m             \u001b[0;32melse\u001b[0m\u001b[0;34m:\u001b[0m\u001b[0;34m\u001b[0m\u001b[0m\n\u001b[1;32m    602\u001b[0m                 \u001b[0;32mraise\u001b[0m \u001b[0mException\u001b[0m\u001b[0;34m(\u001b[0m\u001b[0;34m'Type must be either rigid or affine.'\u001b[0m\u001b[0;34m)\u001b[0m\u001b[0;34m\u001b[0m\u001b[0m\n",
      "\u001b[0;32m/oasis/projects/nsf/csd395/yuncong/Brain/utilities/registration_utilities.pyc\u001b[0m in \u001b[0;36mstep_gd\u001b[0;34m(self, T, lr, grad_historical, surround, surround_weight, num_samples, indices_m)\u001b[0m\n\u001b[1;32m    699\u001b[0m             \u001b[0mindices_m\u001b[0m \u001b[0;34m=\u001b[0m \u001b[0mself\u001b[0m\u001b[0;34m.\u001b[0m\u001b[0mall_indices_m\u001b[0m\u001b[0;34m\u001b[0m\u001b[0m\n\u001b[1;32m    700\u001b[0m \u001b[0;34m\u001b[0m\u001b[0m\n\u001b[0;32m--> 701\u001b[0;31m         \u001b[0mscore\u001b[0m\u001b[0;34m,\u001b[0m \u001b[0mgrad\u001b[0m \u001b[0;34m=\u001b[0m \u001b[0mself\u001b[0m\u001b[0;34m.\u001b[0m\u001b[0mcompute_score_and_gradient\u001b[0m\u001b[0;34m(\u001b[0m\u001b[0mT\u001b[0m\u001b[0;34m,\u001b[0m \u001b[0mnum_samples\u001b[0m\u001b[0;34m=\u001b[0m\u001b[0mnum_samples\u001b[0m\u001b[0;34m,\u001b[0m \u001b[0mindices_m\u001b[0m\u001b[0;34m=\u001b[0m\u001b[0mindices_m\u001b[0m\u001b[0;34m)\u001b[0m\u001b[0;34m\u001b[0m\u001b[0m\n\u001b[0m\u001b[1;32m    702\u001b[0m \u001b[0;34m\u001b[0m\u001b[0m\n\u001b[1;32m    703\u001b[0m         \u001b[0;31m# if surround:\u001b[0m\u001b[0;34m\u001b[0m\u001b[0;34m\u001b[0m\u001b[0m\n",
      "\u001b[0;32m/oasis/projects/nsf/csd395/yuncong/Brain/utilities/registration_utilities.pyc\u001b[0m in \u001b[0;36mcompute_score_and_gradient\u001b[0;34m(self, T, num_samples, wrt_v, indices_m)\u001b[0m\n\u001b[1;32m    309\u001b[0m         \u001b[0;31m# serial\u001b[0m\u001b[0;34m\u001b[0m\u001b[0;34m\u001b[0m\u001b[0m\n\u001b[1;32m    310\u001b[0m         \u001b[0;32mfor\u001b[0m \u001b[0mind_m\u001b[0m \u001b[0;32min\u001b[0m \u001b[0mindices_m\u001b[0m\u001b[0;34m:\u001b[0m\u001b[0;34m\u001b[0m\u001b[0m\n\u001b[0;32m--> 311\u001b[0;31m             \u001b[0mscore_one\u001b[0m\u001b[0;34m,\u001b[0m \u001b[0mgrad_one\u001b[0m \u001b[0;34m=\u001b[0m \u001b[0mself\u001b[0m\u001b[0;34m.\u001b[0m\u001b[0mcompute_score_and_gradient_one\u001b[0m\u001b[0;34m(\u001b[0m\u001b[0mT\u001b[0m\u001b[0;34m,\u001b[0m \u001b[0mnum_samples\u001b[0m\u001b[0;34m,\u001b[0m \u001b[0mwrt_v\u001b[0m\u001b[0;34m,\u001b[0m \u001b[0mind_m\u001b[0m\u001b[0;34m)\u001b[0m\u001b[0;34m\u001b[0m\u001b[0m\n\u001b[0m\u001b[1;32m    312\u001b[0m             \u001b[0;31m# grad += grad_one\u001b[0m\u001b[0;34m\u001b[0m\u001b[0;34m\u001b[0m\u001b[0m\n\u001b[1;32m    313\u001b[0m             \u001b[0;31m# score += score_one\u001b[0m\u001b[0;34m\u001b[0m\u001b[0;34m\u001b[0m\u001b[0m\n",
      "\u001b[0;32m/oasis/projects/nsf/csd395/yuncong/Brain/utilities/registration_utilities.pyc\u001b[0m in \u001b[0;36mcompute_score_and_gradient_one\u001b[0;34m(self, T, num_samples, wrt_v, ind_m)\u001b[0m\n\u001b[1;32m    266\u001b[0m                     -Sx*ys_prime_valid + Sy*xs_prime_valid]\n\u001b[1;32m    267\u001b[0m         \u001b[0;32melse\u001b[0m\u001b[0;34m:\u001b[0m\u001b[0;34m\u001b[0m\u001b[0m\n\u001b[0;32m--> 268\u001b[0;31m             \u001b[0mq\u001b[0m \u001b[0;34m=\u001b[0m \u001b[0mnp\u001b[0m\u001b[0;34m.\u001b[0m\u001b[0mc_\u001b[0m\u001b[0;34m[\u001b[0m\u001b[0mSx\u001b[0m\u001b[0;34m*\u001b[0m\u001b[0mdxs\u001b[0m\u001b[0;34m,\u001b[0m \u001b[0mSx\u001b[0m\u001b[0;34m*\u001b[0m\u001b[0mdys\u001b[0m\u001b[0;34m,\u001b[0m \u001b[0mSx\u001b[0m\u001b[0;34m*\u001b[0m\u001b[0mdzs\u001b[0m\u001b[0;34m,\u001b[0m \u001b[0mSx\u001b[0m\u001b[0;34m,\u001b[0m \u001b[0mSy\u001b[0m\u001b[0;34m*\u001b[0m\u001b[0mdxs\u001b[0m\u001b[0;34m,\u001b[0m \u001b[0mSy\u001b[0m\u001b[0;34m*\u001b[0m\u001b[0mdys\u001b[0m\u001b[0;34m,\u001b[0m \u001b[0mSy\u001b[0m\u001b[0;34m*\u001b[0m\u001b[0mdzs\u001b[0m\u001b[0;34m,\u001b[0m \u001b[0mSy\u001b[0m\u001b[0;34m,\u001b[0m \u001b[0mSz\u001b[0m\u001b[0;34m*\u001b[0m\u001b[0mdxs\u001b[0m\u001b[0;34m,\u001b[0m \u001b[0mSz\u001b[0m\u001b[0;34m*\u001b[0m\u001b[0mdys\u001b[0m\u001b[0;34m,\u001b[0m \u001b[0mSz\u001b[0m\u001b[0;34m*\u001b[0m\u001b[0mdzs\u001b[0m\u001b[0;34m,\u001b[0m \u001b[0mSz\u001b[0m\u001b[0;34m]\u001b[0m\u001b[0;34m\u001b[0m\u001b[0m\n\u001b[0m\u001b[1;32m    269\u001b[0m \u001b[0;34m\u001b[0m\u001b[0m\n\u001b[1;32m    270\u001b[0m         \u001b[0;31m# dMdA += label_weights[name] * q.sum(axis=0)\u001b[0m\u001b[0;34m\u001b[0m\u001b[0;34m\u001b[0m\u001b[0m\n",
      "\u001b[0;32m/oasis/projects/nsf/csd395/yuncong/brain_virtualenv/lib/python2.7/site-packages/numpy/lib/index_tricks.pyc\u001b[0m in \u001b[0;36m__getitem__\u001b[0;34m(self, key)\u001b[0m\n\u001b[1;32m    336\u001b[0m                 \u001b[0mobjs\u001b[0m\u001b[0;34m[\u001b[0m\u001b[0mk\u001b[0m\u001b[0;34m]\u001b[0m \u001b[0;34m=\u001b[0m \u001b[0mobjs\u001b[0m\u001b[0;34m[\u001b[0m\u001b[0mk\u001b[0m\u001b[0;34m]\u001b[0m\u001b[0;34m.\u001b[0m\u001b[0mastype\u001b[0m\u001b[0;34m(\u001b[0m\u001b[0mfinal_dtype\u001b[0m\u001b[0;34m)\u001b[0m\u001b[0;34m\u001b[0m\u001b[0m\n\u001b[1;32m    337\u001b[0m \u001b[0;34m\u001b[0m\u001b[0m\n\u001b[0;32m--> 338\u001b[0;31m         \u001b[0mres\u001b[0m \u001b[0;34m=\u001b[0m \u001b[0m_nx\u001b[0m\u001b[0;34m.\u001b[0m\u001b[0mconcatenate\u001b[0m\u001b[0;34m(\u001b[0m\u001b[0mtuple\u001b[0m\u001b[0;34m(\u001b[0m\u001b[0mobjs\u001b[0m\u001b[0;34m)\u001b[0m\u001b[0;34m,\u001b[0m \u001b[0maxis\u001b[0m\u001b[0;34m=\u001b[0m\u001b[0mself\u001b[0m\u001b[0;34m.\u001b[0m\u001b[0maxis\u001b[0m\u001b[0;34m)\u001b[0m\u001b[0;34m\u001b[0m\u001b[0m\n\u001b[0m\u001b[1;32m    339\u001b[0m         \u001b[0;32mreturn\u001b[0m \u001b[0mself\u001b[0m\u001b[0;34m.\u001b[0m\u001b[0m_retval\u001b[0m\u001b[0;34m(\u001b[0m\u001b[0mres\u001b[0m\u001b[0;34m)\u001b[0m\u001b[0;34m\u001b[0m\u001b[0m\n\u001b[1;32m    340\u001b[0m \u001b[0;34m\u001b[0m\u001b[0m\n",
      "\u001b[0;31mKeyboardInterrupt\u001b[0m: "
     ]
    }
   ],
   "source": [
    "# largely the same optimization path regardless of the starting condition\n",
    "\n",
    "# For rigid, \n",
    "# grad_computation_sample_number = 1e5 is desired\n",
    "# grid_search_iteration_number and grid_search_sample_number seem to be unimportant as well, set to 100\n",
    "# lr1=10, lr2=.1 is best\n",
    "\n",
    "# For affine, \n",
    "# lr2 = .001 is too slow; 0.1 rises faster than 0.01\n",
    "# lr1 does not matter\n",
    "# plateus around iteration 100, but keep rising afterwards.\n",
    "# grad_computation_sample_number does not make a difference\n",
    "\n",
    "while True:\n",
    "\n",
    "    try:\n",
    "\n",
    "        if global_transform_scheme == 1:\n",
    "\n",
    "            T, scores = aligner.optimize(type='affine', max_iter_num=1000, history_len=10, terminate_thresh=1e-4,\n",
    "#                                          indices_m=[name_to_label_moving['SC'], name_to_label_moving['IC'],\n",
    "#                                                    name_to_label_moving['SC_surround'], name_to_label_moving['IC_surround']],\n",
    "                                         indices_m=None,\n",
    "                                        grid_search_iteration_number=30,\n",
    "                                         grid_search_sample_number=100,\n",
    "                                         grad_computation_sample_number=1e5,\n",
    "                                         lr1=10, lr2=0.1,\n",
    "                                         label_weights=label_weights_m,\n",
    "                                        std_tx=50, std_ty=50, std_tz=100, std_theta_xy=np.deg2rad(10))\n",
    "\n",
    "        elif global_transform_scheme == 2:\n",
    "\n",
    "            T, scores = aligner.optimize(type='rigid', max_iter_num=1000, history_len=10, terminate_thresh=1e-4,\n",
    "                                         indices_m=None,\n",
    "                                        grid_search_iteration_number=30,\n",
    "                                         grid_search_sample_number=100,\n",
    "                                         grad_computation_sample_number=1e5,\n",
    "                                         lr1=10, lr2=0.1,\n",
    "                                        label_weights=label_weights_m,\n",
    "                                        std_tx=50, std_ty=50, std_tz=100, std_theta_xy=np.deg2rad(10))\n",
    "        \n",
    "        break\n",
    "        \n",
    "    except Exception as e:\n",
    "        sys.stderr.write(e.message + '\\n')\n"
   ]
  },
  {
   "cell_type": "code",
   "execution_count": 17,
   "metadata": {
    "collapsed": false,
    "scrolled": true
   },
   "outputs": [
    {
     "ename": "NameError",
     "evalue": "name 'T' is not defined",
     "output_type": "error",
     "traceback": [
      "\u001b[0;31m---------------------------------------------------------------------------\u001b[0m",
      "\u001b[0;31mNameError\u001b[0m                                 Traceback (most recent call last)",
      "\u001b[0;32m<ipython-input-17-eff692ebc88e>\u001b[0m in \u001b[0;36m<module>\u001b[0;34m()\u001b[0m\n\u001b[0;32m----> 1\u001b[0;31m \u001b[0;32mprint\u001b[0m \u001b[0mT\u001b[0m\u001b[0;34m.\u001b[0m\u001b[0mreshape\u001b[0m\u001b[0;34m(\u001b[0m\u001b[0;34m(\u001b[0m\u001b[0;36m3\u001b[0m\u001b[0;34m,\u001b[0m\u001b[0;36m4\u001b[0m\u001b[0;34m)\u001b[0m\u001b[0;34m)\u001b[0m\u001b[0;34m\u001b[0m\u001b[0m\n\u001b[0m\u001b[1;32m      2\u001b[0m \u001b[0mplt\u001b[0m\u001b[0;34m.\u001b[0m\u001b[0mplot\u001b[0m\u001b[0;34m(\u001b[0m\u001b[0mscores\u001b[0m\u001b[0;34m)\u001b[0m\u001b[0;34m;\u001b[0m\u001b[0;34m\u001b[0m\u001b[0m\n\u001b[1;32m      3\u001b[0m \u001b[0;32mprint\u001b[0m \u001b[0mmax\u001b[0m\u001b[0;34m(\u001b[0m\u001b[0mscores\u001b[0m\u001b[0;34m)\u001b[0m\u001b[0;34m,\u001b[0m \u001b[0mscores\u001b[0m\u001b[0;34m[\u001b[0m\u001b[0;34m-\u001b[0m\u001b[0;36m1\u001b[0m\u001b[0;34m]\u001b[0m\u001b[0;34m\u001b[0m\u001b[0m\n",
      "\u001b[0;31mNameError\u001b[0m: name 'T' is not defined"
     ]
    }
   ],
   "source": [
    "print T.reshape((3,4))\n",
    "plt.plot(scores);\n",
    "print max(scores), scores[-1]"
   ]
  },
  {
   "cell_type": "code",
   "execution_count": 132,
   "metadata": {
    "collapsed": false
   },
   "outputs": [],
   "source": [
    "# # Consistency analysis\n",
    "\n",
    "# trial_num = 3\n",
    "# trial_results = []\n",
    "\n",
    "# for _ in range(trial_num):\n",
    "\n",
    "#     if global_transform_scheme == 1:\n",
    "\n",
    "#         T, scores = aligner.optimize(type='affine', max_iter_num=1000, history_len=10, terminate_thresh=1e-4,\n",
    "#                                      indices_m=None,\n",
    "#                                     grid_search_iteration_number=30,\n",
    "#                                      grid_search_sample_number=100,\n",
    "#                                      grad_computation_sample_number=1e5,\n",
    "#                                      lr1=10, lr2=0.1,\n",
    "#                                     label_weights=label_weights_m,\n",
    "#                                 std_tx=50, std_ty=50, std_tz=100, std_theta_xy=np.deg2rad(10))\n",
    "\n",
    "#     elif global_transform_scheme == 2:\n",
    "\n",
    "#         T, scores = aligner.optimize(type='rigid', max_iter_num=1000, history_len=10, terminate_thresh=1e-4,\n",
    "# #                                      indices_m=[name_to_label_moving['Tz'], \n",
    "# #                                             name_to_label_moving['12N'], \n",
    "# #                                             name_to_label_moving['Pn']],\n",
    "#                                      indices_m=None,\n",
    "#                                     grid_search_iteration_number=30,\n",
    "#                                      grid_search_sample_number=100,\n",
    "#                                      grad_computation_sample_number=1e5,\n",
    "#                                      lr1=10, lr2=0.1,\n",
    "#                                     label_weights=label_weights_m,\n",
    "#                                 std_tx=50, std_ty=50, std_tz=100, std_theta_xy=np.deg2rad(10))\n",
    "\n",
    "\n",
    "#     print T.reshape((3,4))\n",
    "# #     plt.plot(scores);\n",
    "# #     plt.show();\n",
    "#     print max(scores), scores[-1]\n",
    "    \n",
    "#     trial_results.append((scores, T))"
   ]
  },
  {
   "cell_type": "code",
   "execution_count": 133,
   "metadata": {
    "collapsed": false,
    "scrolled": false
   },
   "outputs": [],
   "source": [
    "# fig, axes = plt.subplots(5, 2, figsize=(10,10), sharey=True, sharex=True)\n",
    "# axes = axes.flatten()\n",
    "# for i, (res, t) in enumerate(trial_results):\n",
    "#     axes[i].plot(res)\n",
    "# plt.tight_layout()\n",
    "# plt.show()"
   ]
  },
  {
   "cell_type": "code",
   "execution_count": 18,
   "metadata": {
    "collapsed": false
   },
   "outputs": [],
   "source": [
    "# atlasAlignParams_dir = create_if_not_exists(atlasAlignParams_rootdir + '/%(stack_moving)s_to_%(stack_fixed)s' % \\\n",
    "#                      {'stack_moving': stack_moving, 'stack_fixed': stack_fixed})"
   ]
  },
  {
   "cell_type": "code",
   "execution_count": 27,
   "metadata": {
    "collapsed": false
   },
   "outputs": [],
   "source": [
    "params_fp = DataManager.get_global_alignment_parameters_filepath(stack_moving=stack_moving,\n",
    "                                                                stack_fixed=stack_fixed,\n",
    "                                                                train_sample_scheme=train_sample_scheme,\n",
    "                                                                global_transform_scheme=global_transform_scheme)\n",
    "\n",
    "\n",
    "DataManager.save_alignment_parameters(params_fp, T, \n",
    "                                      aligner.centroid_m, aligner.centroid_f,\n",
    "                                      aligner.xdim_m, aligner.ydim_m, aligner.zdim_m, \n",
    "                                      aligner.xdim_f, aligner.ydim_f, aligner.zdim_f)\n",
    "\n",
    "# with open(atlasAlignParams_dir + '/%(stack_moving)s_down32_scoreVolume_to_%(stack_fixed)s_down32_scoreVolume_trainSampleScheme_%(scheme)d_globalTxScheme_%(gtf_sheme)d_parameters.txt' % \\\n",
    "#           {'stack_moving': stack_moving, 'stack_fixed': stack_fixed, 'scheme':train_sample_scheme, 'gtf_sheme':global_transform_scheme}, 'w') as f:\n",
    "# with open(params_fp, 'w') as f:\n",
    "    \n",
    "#     f.write(array_to_one_liner(T))\n",
    "#     f.write(array_to_one_liner(aligner.centroid_m))\n",
    "#     f.write(array_to_one_liner([aligner.xdim_m, aligner.ydim_m, aligner.zdim_m]))\n",
    "#     f.write(array_to_one_liner(aligner.centroid_f))\n",
    "#     f.write(array_to_one_liner([aligner.xdim_f, aligner.ydim_f, aligner.zdim_f]))"
   ]
  },
  {
   "cell_type": "code",
   "execution_count": 28,
   "metadata": {
    "collapsed": false
   },
   "outputs": [],
   "source": [
    "score_plot_fp = DataManager.get_global_alignment_score_plot_filepath(stack_moving=stack_moving,\n",
    "                                                                    stack_fixed=stack_fixed,\n",
    "                                                                    train_sample_scheme=train_sample_scheme,\n",
    "                                                                    global_transform_scheme=global_transform_scheme)\n",
    "\n",
    "fig = plt.figure();\n",
    "plt.plot(scores);\n",
    "plt.savefig(score_plot_fp, bbox_inches='tight')\n",
    "plt.close(fig)"
   ]
  },
  {
   "cell_type": "code",
   "execution_count": 20,
   "metadata": {
    "collapsed": true
   },
   "outputs": [],
   "source": [
    "# Try all sets of parameters "
   ]
  },
  {
   "cell_type": "code",
   "execution_count": 21,
   "metadata": {
    "collapsed": true
   },
   "outputs": [],
   "source": [
    "# output_dir = create_if_not_exists(atlasAlignParams_dir + '/rigid_score_plot')"
   ]
  },
  {
   "cell_type": "code",
   "execution_count": 22,
   "metadata": {
    "collapsed": false
   },
   "outputs": [],
   "source": [
    "# c = 0\n",
    "\n",
    "# for lr1 in [.1, 1., 10.]:\n",
    "#     for lr2 in [1e-1, 1e-2, 1e-3]:\n",
    "#         for n in [1e3, 1e4, 1e5]:\n",
    "            \n",
    "            \n",
    "#             c += 1\n",
    "        \n",
    "#             T, scores = aligner.optimize(type='rigid', max_iter_num=500, history_len=50, terminate_thresh=1e-4,\n",
    "#             #                              indices_m=[name_to_label_fixed['SNR_L']],\n",
    "#                                          indices_m=None,\n",
    "#                                         grid_search_iteration_number=10,\n",
    "#                                          grid_search_sample_number=100,\n",
    "#                                          grad_computation_sample_number=n,\n",
    "#                                          lr1=lr1, lr2=lr2)\n",
    "#             #                              init_T=[1,0,0,-10,0,1,0,0,0,0,1,0])\n",
    "            \n",
    "#             plt.figure();\n",
    "#             plt.plot(scores);\n",
    "#             plt.savefig(atlasAlignParams_dir + '/rigid_score_plot/%(stack_moving)s_to_%(stack_fixed)s_scoreEvolution_parameterSet_%(c)d.png' % \\\n",
    "#                         {'stack_moving': stack_moving, 'stack_fixed': stack_fixed, 'c':c},\n",
    "#                         bbox_inches='tight')\n",
    "            \n",
    "#             with open(atlasAlignParams_dir + '/rigid_score_plot/%(stack_moving)s_to_%(stack_fixed)s_scoreEvolution_parameterSet_%(c)d.txt' % \\\n",
    "#                        {'stack_moving': stack_moving, 'stack_fixed': stack_fixed, 'c':c}, 'w') as f:\n",
    "#                 f.write(array_to_one_liner([lr1, lr2, n]))\n",
    "# #             print max(scores), scores[-1]"
   ]
  },
  {
   "cell_type": "code",
   "execution_count": 23,
   "metadata": {
    "collapsed": false
   },
   "outputs": [],
   "source": [
    "# c = 0\n",
    "# for lr1 in [.1, 1., 10.]:\n",
    "#     for lr2 in [1e-1, 1e-2, 1e-3]:\n",
    "#         for n in [1e3, 1e4, 1e5]:\n",
    "#             c += 1\n",
    "#             print c, lr1, lr2, int(n)"
   ]
  },
  {
   "cell_type": "code",
   "execution_count": null,
   "metadata": {
    "collapsed": true
   },
   "outputs": [],
   "source": []
  },
  {
   "cell_type": "code",
   "execution_count": 24,
   "metadata": {
    "collapsed": true
   },
   "outputs": [],
   "source": [
    "# READ"
   ]
  },
  {
   "cell_type": "code",
   "execution_count": 12,
   "metadata": {
    "collapsed": true
   },
   "outputs": [],
   "source": [
    "# stack_fixed = 'MD591'\n",
    "stack_moving = 'atlas_on_MD589'"
   ]
  },
  {
   "cell_type": "code",
   "execution_count": 13,
   "metadata": {
    "collapsed": true
   },
   "outputs": [],
   "source": [
    "stacks_annotation = ['MD589', 'MD594']\n",
    "# stack_annotation = 'MD589'"
   ]
  },
  {
   "cell_type": "code",
   "execution_count": 14,
   "metadata": {
    "collapsed": false
   },
   "outputs": [],
   "source": [
    "global_params, centroid_m, centroid_f, xdim_m, ydim_m, zdim_m, xdim_f, ydim_f, zdim_f = \\\n",
    "DataManager.load_global_alignment_parameters(stack_moving=stack_moving,\n",
    "                                                    stack_fixed=stack_fixed,\n",
    "                                                    train_sample_scheme=train_sample_scheme,\n",
    "                                                    global_transform_scheme=global_transform_scheme)"
   ]
  },
  {
   "cell_type": "code",
   "execution_count": 15,
   "metadata": {
    "collapsed": false
   },
   "outputs": [],
   "source": [
    "volumes_annotation = {'MD594':bp.unpack_ndarray_file('/home/yuncong/csd395/CSHL_atlasAlignParams_atlas_v2/MD594_to_MD589/MD594_down32_annotationVolume_alignedTo_MD589_down32_annotationVolume.bp'),\n",
    "                      'MD589': bp.unpack_ndarray_file(VOLUME_ROOTDIR + '/MD589/MD589_down32_annotationVolume.bp')}"
   ]
  },
  {
   "cell_type": "code",
   "execution_count": 16,
   "metadata": {
    "collapsed": true
   },
   "outputs": [],
   "source": [
    "from registration_utilities import transform_volume"
   ]
  },
  {
   "cell_type": "code",
   "execution_count": 17,
   "metadata": {
    "collapsed": false
   },
   "outputs": [],
   "source": [
    "annotation_volumes_volume_m_aligned_to_f = {}\n",
    "\n",
    "for stack, volume_annotation in volumes_annotation.iteritems():\n",
    "    \n",
    "    annotation_volumes_volume_m_aligned_to_f[stack] = transform_volume(vol=volume_annotation, \n",
    "                                                                       global_params=global_params, \n",
    "                                                                       centroid_m=centroid_m, \n",
    "                                                                       centroid_f=centroid_f,\n",
    "                                                                      xdim_f=xdim_f,\n",
    "                                                                      ydim_f=ydim_f,\n",
    "                                                                      zdim_f=zdim_f)\n",
    "    \n",
    "    output_fn = DataManager.get_transformed_volume_filepath(stack_m=stack, type_m='annotation',\n",
    "                                                stack_f=stack_fixed, type_f='score',\n",
    "                                                downscale=32, train_sample_scheme_f=train_sample_scheme)\n",
    "    \n",
    "    create_if_not_exists(os.path.dirname(output_fn))\n",
    "\n",
    "    bp.pack_ndarray_file(annotation_volumes_volume_m_aligned_to_f[stack], output_fn)"
   ]
  },
  {
   "cell_type": "code",
   "execution_count": 18,
   "metadata": {
    "collapsed": false
   },
   "outputs": [
    {
     "name": "stdout",
     "output_type": "stream",
     "text": [
      "0 547 0 407 110 467\n"
     ]
    }
   ],
   "source": [
    "xmin_vol_f, xmax_vol_f, ymin_vol_f, ymax_vol_f, zmin_vol_f, zmax_vol_f = np.loadtxt('/home/yuncong/csd395/CSHL_volumes2/%(stack_fixed)s/score_volumes/%(stack_fixed)s_down32_scoreVolume_7N_bbox.txt' %\\\n",
    "          dict(stack_fixed=stack_fixed)).astype(np.int)\n",
    "print xmin_vol_f, xmax_vol_f, ymin_vol_f, ymax_vol_f, zmin_vol_f, zmax_vol_f"
   ]
  },
  {
   "cell_type": "code",
   "execution_count": null,
   "metadata": {
    "collapsed": true
   },
   "outputs": [],
   "source": []
  },
  {
   "cell_type": "code",
   "execution_count": 37,
   "metadata": {
    "collapsed": true
   },
   "outputs": [],
   "source": [
    "from registration_utilities import find_contour_points"
   ]
  },
  {
   "cell_type": "code",
   "execution_count": 38,
   "metadata": {
    "collapsed": true
   },
   "outputs": [],
   "source": [
    "downsample_factor = 32\n",
    "xy_pixel_distance_downsampled = xy_pixel_distance_lossless * downsample_factor\n",
    "voxel_z_size = section_thickness / xy_pixel_distance_downsampled"
   ]
  },
  {
   "cell_type": "code",
   "execution_count": 39,
   "metadata": {
    "collapsed": false
   },
   "outputs": [],
   "source": [
    "# viz_dir = create_if_not_exists(atlasAlignParams_dir + '/%(stack_moving)s_down32_scoreVolume_to_%(stack_fixed)s_down32_scoreVolume_trainSampleScheme_%(scheme)d_global_viz' % \\\n",
    "#           {'stack_moving': stack_moving, 'stack_fixed': stack_fixed, 'scheme':train_sample_scheme})\n",
    "\n",
    "viz_dir = create_if_not_exists(DataManager.get_global_alignment_viz_filepath(stack_moving=stack_moving,\n",
    "                                                        stack_fixed=stack_fixed,\n",
    "                                                        train_sample_scheme=train_sample_scheme,\n",
    "                                                        global_transform_scheme=global_transform_scheme))"
   ]
  },
  {
   "cell_type": "code",
   "execution_count": 40,
   "metadata": {
    "collapsed": true
   },
   "outputs": [],
   "source": [
    "first_sec, last_sec = metadata_cache['section_limits'][stack_fixed]"
   ]
  },
  {
   "cell_type": "code",
   "execution_count": 41,
   "metadata": {
    "collapsed": true
   },
   "outputs": [],
   "source": [
    "stack_colors = {'MD589': (255,0,0), 'MD594': (0,255,0)}"
   ]
  },
  {
   "cell_type": "code",
   "execution_count": 42,
   "metadata": {
    "collapsed": false
   },
   "outputs": [
    {
     "name": "stderr",
     "output_type": "stream",
     "text": [
      "/oasis/projects/nsf/csd395/yuncong/brain_virtualenv/lib/python2.7/site-packages/skimage/external/tifffile/tifffile.py:1794: RuntimeWarning: py_decodelzw encountered unexpected end of stream\n",
      "  strip = decompress(strip)\n"
     ]
    }
   ],
   "source": [
    "bar = show_progress_bar(first_sec, last_sec)\n",
    "\n",
    "for sec in range(first_sec, last_sec+1):\n",
    "    \n",
    "    if metadata_cache['sections_to_filenames'][stack_fixed][sec] in ['Placeholder', 'Rescan', 'Nonexisting']:\n",
    "        continue\n",
    "    \n",
    "    bar.value = sec\n",
    "\n",
    "    img_fn = DataManager.get_image_filepath(stack=stack_fixed, section=sec, resol='thumbnail', version='cropped_tif')\n",
    "    img = imread(img_fn)\n",
    "    \n",
    "    viz = img.copy()\n",
    "    \n",
    "    z = voxel_z_size * (sec - 1) - zmin_vol_f\n",
    "    \n",
    "    # Find fixed volume annotation contours\n",
    "#     contours_f_on_volume = find_contour_points(volume_fixed[..., int(z)])\n",
    "#     contours_f_on_cropped = {i: [cnt + (xmin_vol_f, ymin_vol_f) for cnt in cnts] for i, cnts in contours_f_on_volume.iteritems()}\n",
    "\n",
    "    # Find moving volume annotation contours\n",
    "    \n",
    "    for stack, volume_m_aligned_to_f in annotation_volumes_volume_m_aligned_to_f.iteritems():\n",
    "        contours_m_alignedTo_f_on_volume = find_contour_points(volume_m_aligned_to_f[..., int(z)])\n",
    "        contours_m_alignedTo_f_on_cropped = {i: [cnt + (xmin_vol_f, ymin_vol_f) for cnt in cnts] \n",
    "                                             for i, cnts in contours_m_alignedTo_f_on_volume.iteritems()}\n",
    "\n",
    "    #     # Draw fixed volume annotation contours\n",
    "    #     for ind_f, cnts_f in contours_f_on_cropped.iteritems():\n",
    "    #         for cnt_f in cnts_f:\n",
    "    #             cv2.polylines(viz, [cnt_f.astype(np.int)], True, (0,255,0), 2)\n",
    "\n",
    "        # Draw moving volume annotation contours\n",
    "        for ind_m, cnts_m in contours_m_alignedTo_f_on_cropped.iteritems():\n",
    "            for cnt_m in cnts_m:\n",
    "                cv2.polylines(viz, [cnt_m.astype(np.int)], True, stack_colors[stack], 2)\n",
    "\n",
    "    viz_fn = os.path.join(viz_dir, '%(stack_moving)s_to_%(stack_fixed)s_%(sec)04d.jpg' % \\\n",
    "          {'stack_moving': stack_moving, 'stack_fixed': stack_fixed, 'sec': sec})\n",
    "    imsave(viz_fn, viz)"
   ]
  },
  {
   "cell_type": "code",
   "execution_count": null,
   "metadata": {
    "collapsed": true
   },
   "outputs": [],
   "source": []
  },
  {
   "cell_type": "code",
   "execution_count": 19,
   "metadata": {
    "collapsed": true
   },
   "outputs": [],
   "source": [
    "from registration_utilities import transform_volume"
   ]
  },
  {
   "cell_type": "code",
   "execution_count": 24,
   "metadata": {
    "collapsed": false
   },
   "outputs": [],
   "source": [
    "# v = DataManager.load_score_volume(stack='atlas_on_MD589', label='7N_L', downscale=32)\n",
    "\n",
    "# plt.imshow(v[:,:,120]);\n",
    "# plt.colorbar();\n",
    "# plt.show();\n",
    "\n",
    "# plt.imshow(v[:,:,270]);\n",
    "# plt.colorbar();\n",
    "# plt.show();"
   ]
  },
  {
   "cell_type": "code",
   "execution_count": 25,
   "metadata": {
    "collapsed": false,
    "scrolled": true
   },
   "outputs": [
    {
     "name": "stdout",
     "output_type": "stream",
     "text": [
      "5N_L\n",
      "5N_R\n",
      "6N_L\n",
      "6N_R\n",
      "7N_L\n",
      "7N_R\n",
      "7n_L\n",
      "7n_R\n",
      "Amb_L\n",
      "Amb_R\n",
      "LC_L\n",
      "LC_R\n",
      "LRt_L\n",
      "LRt_R\n",
      "Pn_L\n",
      "Pn_R\n",
      "Tz_L\n",
      "Tz_R\n",
      "VLL_L\n",
      "VLL_R\n",
      "RMC_L\n",
      "RMC_R\n",
      "SNC_L\n",
      "SNC_R\n",
      "SNR_L\n",
      "SNR_R\n",
      "3N_L\n",
      "3N_R\n",
      "4N_L\n",
      "4N_R\n",
      "Sp5I_L\n",
      "Sp5I_R\n",
      "Sp5O_L\n",
      "Sp5O_R\n",
      "Sp5C_L\n",
      "Sp5C_R\n",
      "PBG_L\n",
      "PBG_R\n",
      "10N_L\n",
      "10N_R\n",
      "VCA_L\n",
      "VCA_R\n",
      "VCP_L\n",
      "VCP_R\n",
      "DC_L\n",
      "DC_R\n",
      "AP\n",
      "12N\n",
      "RtTg\n",
      "SC\n",
      "IC\n"
     ]
    }
   ],
   "source": [
    "# Transform moving volume, sided\n",
    "\n",
    "structures_sided = sum([[n] if n in singular_structures else [convert_to_left_name(n), convert_to_right_name(n)] \n",
    "                        for n in structures], [])\n",
    "\n",
    "for name_s in structures_sided:\n",
    "    \n",
    "    print name_s\n",
    "    \n",
    "    vol_m = DataManager.load_score_volume(stack=stack_moving, label=name_s, downscale=32)\n",
    "    \n",
    "    volume_m_alignedTo_f = \\\n",
    "    transform_volume(vol=vol_m, global_params=global_params, centroid_m=centroid_m, centroid_f=centroid_f,\n",
    "                      xdim_f=xdim_f, ydim_f=ydim_f, zdim_f=zdim_f)\n",
    "    \n",
    "    volume_m_alignedTo_f_fn = DataManager.get_transformed_volume_filepath(stack_m=stack_moving, type_m='score',\n",
    "                                            stack_f=stack_fixed, type_f='score',\n",
    "                                            label=name_s,\n",
    "                                            downscale=32, \n",
    "                                            train_sample_scheme_f=1)\n",
    "    \n",
    "    create_if_not_exists(os.path.dirname(volume_m_alignedTo_f_fn))\n",
    "    \n",
    "    bp.pack_ndarray_file(volume_m_alignedTo_f, volume_m_alignedTo_f_fn)"
   ]
  },
  {
   "cell_type": "code",
   "execution_count": 20,
   "metadata": {
    "collapsed": false,
    "scrolled": true
   },
   "outputs": [
    {
     "name": "stdout",
     "output_type": "stream",
     "text": [
      "5N_L\n",
      "5N_R\n",
      "6N_L\n",
      "6N_R\n",
      "7N_L\n",
      "7N_R\n",
      "7n_L\n",
      "7n_R\n",
      "Amb_L\n",
      "Amb_R\n",
      "LC_L\n",
      "LC_R\n",
      "LRt_L\n",
      "LRt_R\n",
      "Pn_L\n",
      "Pn_R\n",
      "Tz_L\n",
      "Tz_R\n",
      "VLL_L\n",
      "VLL_R\n",
      "RMC_L\n",
      "RMC_R\n",
      "SNC_L\n",
      "SNC_R\n",
      "SNR_L\n",
      "SNR_R\n",
      "3N_L\n",
      "3N_R\n",
      "4N_L\n",
      "4N_R\n",
      "Sp5I_L\n",
      "Sp5I_R\n",
      "Sp5O_L\n",
      "Sp5O_R\n",
      "Sp5C_L\n",
      "Sp5C_R\n",
      "PBG_L\n",
      "PBG_R\n",
      "10N_L\n",
      "10N_R\n",
      "VCA_L\n",
      "VCA_R\n",
      "VCP_L\n",
      "VCP_R\n",
      "DC_L\n",
      "DC_R\n",
      "AP\n",
      "12N\n",
      "RtTg\n",
      "SC\n",
      "IC\n"
     ]
    }
   ],
   "source": [
    "# Transform moving volume, sided\n",
    "\n",
    "structures_sided = sum([[n] if n in singular_structures else [convert_to_left_name(n), convert_to_right_name(n)] \n",
    "                        for n in structures], [])\n",
    "\n",
    "for name_s in structures_sided:\n",
    "    \n",
    "    print name_s+'_surround'\n",
    "    \n",
    "    vol_m = DataManager.load_score_volume(stack=stack_moving, label=name_s+'_surround', downscale=32)\n",
    "    \n",
    "    volume_m_alignedTo_f = \\\n",
    "    transform_volume(vol=vol_m, global_params=global_params, centroid_m=centroid_m, centroid_f=centroid_f,\n",
    "                      xdim_f=xdim_f, ydim_f=ydim_f, zdim_f=zdim_f)\n",
    "    \n",
    "    volume_m_alignedTo_f_fn = DataManager.get_transformed_volume_filepath(stack_m=stack_moving, type_m='score',\n",
    "                                            stack_f=stack_fixed, type_f='score',\n",
    "                                            label=name_s+'_surround',\n",
    "                                            downscale=32, \n",
    "                                            train_sample_scheme_f=1)\n",
    "    \n",
    "    create_if_not_exists(os.path.dirname(volume_m_alignedTo_f_fn))\n",
    "    \n",
    "    bp.pack_ndarray_file(volume_m_alignedTo_f, volume_m_alignedTo_f_fn)"
   ]
  },
  {
   "cell_type": "code",
   "execution_count": null,
   "metadata": {
    "collapsed": true
   },
   "outputs": [],
   "source": []
  }
 ],
 "metadata": {
  "kernelspec": {
   "display_name": "Python 2",
   "language": "python",
   "name": "python2"
  },
  "language_info": {
   "codemirror_mode": {
    "name": "ipython",
    "version": 2
   },
   "file_extension": ".py",
   "mimetype": "text/x-python",
   "name": "python",
   "nbconvert_exporter": "python",
   "pygments_lexer": "ipython2",
   "version": "2.7.3"
  }
 },
 "nbformat": 4,
 "nbformat_minor": 0
}
