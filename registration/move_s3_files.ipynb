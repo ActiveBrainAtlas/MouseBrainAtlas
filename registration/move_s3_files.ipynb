{
 "cells": [
  {
   "cell_type": "code",
   "execution_count": 1,
   "metadata": {
    "collapsed": true
   },
   "outputs": [],
   "source": [
    "%reload_ext autoreload\n",
    "%autoreload 2"
   ]
  },
  {
   "cell_type": "code",
   "execution_count": 2,
   "metadata": {
    "scrolled": true
   },
   "outputs": [
    {
     "name": "stderr",
     "output_type": "stream",
     "text": [
      "/usr/local/lib/python2.7/dist-packages/matplotlib/__init__.py:1405: UserWarning: \n",
      "This call to matplotlib.use() has no effect because the backend has already\n",
      "been chosen; matplotlib.use() must be called *before* pylab, matplotlib.pyplot,\n",
      "or matplotlib.backends is imported for the first time.\n",
      "\n",
      "  warnings.warn(_use_error_msg)\n",
      "No vtk\n"
     ]
    },
    {
     "name": "stdout",
     "output_type": "stream",
     "text": [
      "Setting environment for AWS compute node\n",
      "rm -rf /shared/CSHL_data_processed/MD585/MD585_thumbnail_alignedTo_MD585-N47-2015.07.16-22.50.52_MD585_3_0141_cropped/MD585-N58-2015.07.16-23.40.18_MD585_3_0174_thumbnail_alignedTo_MD585-N47-2015.07.16-22.50.52_MD585_3_0141_cropped.tif && mkdir -p /shared/CSHL_data_processed/MD585/MD585_thumbnail_alignedTo_MD585-N47-2015.07.16-22.50.52_MD585_3_0141_cropped\n",
      "aws s3 cp s3://mousebrainatlas-data/CSHL_data_processed/MD585/MD585_thumbnail_alignedTo_MD585-N47-2015.07.16-22.50.52_MD585_3_0141_cropped/MD585-N58-2015.07.16-23.40.18_MD585_3_0174_thumbnail_alignedTo_MD585-N47-2015.07.16-22.50.52_MD585_3_0141_cropped.tif /shared/CSHL_data_processed/MD585/MD585_thumbnail_alignedTo_MD585-N47-2015.07.16-22.50.52_MD585_3_0141_cropped/MD585-N58-2015.07.16-23.40.18_MD585_3_0174_thumbnail_alignedTo_MD585-N47-2015.07.16-22.50.52_MD585_3_0141_cropped.tif\n"
     ]
    },
    {
     "name": "stderr",
     "output_type": "stream",
     "text": [
      "Child returned 0\n",
      "Child returned 0\n",
      "0.48 seconds.\n",
      "Child returned 0\n"
     ]
    },
    {
     "name": "stdout",
     "output_type": "stream",
     "text": [
      "rm -rf /shared/CSHL_data_processed/MD589/MD589_thumbnail_alignedTo_MD589-IHC31-2015.07.30-23.26.22_MD589_1_0091_cropped/MD589-N58-2015.07.30-20.03.53_MD589_1_0172_thumbnail_alignedTo_MD589-IHC31-2015.07.30-23.26.22_MD589_1_0091_cropped.tif && mkdir -p /shared/CSHL_data_processed/MD589/MD589_thumbnail_alignedTo_MD589-IHC31-2015.07.30-23.26.22_MD589_1_0091_cropped\n",
      "aws s3 cp s3://mousebrainatlas-data/CSHL_data_processed/MD589/MD589_thumbnail_alignedTo_MD589-IHC31-2015.07.30-23.26.22_MD589_1_0091_cropped/MD589-N58-2015.07.30-20.03.53_MD589_1_0172_thumbnail_alignedTo_MD589-IHC31-2015.07.30-23.26.22_MD589_1_0091_cropped.tif /shared/CSHL_data_processed/MD589/MD589_thumbnail_alignedTo_MD589-IHC31-2015.07.30-23.26.22_MD589_1_0091_cropped/MD589-N58-2015.07.30-20.03.53_MD589_1_0172_thumbnail_alignedTo_MD589-IHC31-2015.07.30-23.26.22_MD589_1_0091_cropped.tif\n"
     ]
    },
    {
     "name": "stderr",
     "output_type": "stream",
     "text": [
      "Child returned 0\n",
      "0.47 seconds.\n",
      "Child returned 0\n"
     ]
    },
    {
     "name": "stdout",
     "output_type": "stream",
     "text": [
      "rm -rf /shared/CSHL_data_processed/MD590/MD590_thumbnail_alignedTo_MD590-N47-2015.09.12-05.32.06_MD590_2_0140_cropped/MD590-N29-2015.08.03-18.55.57_MD590_1_0087_thumbnail_alignedTo_MD590-N47-2015.09.12-05.32.06_MD590_2_0140_cropped.tif && mkdir -p /shared/CSHL_data_processed/MD590/MD590_thumbnail_alignedTo_MD590-N47-2015.09.12-05.32.06_MD590_2_0140_cropped\n",
      "aws s3 cp s3://mousebrainatlas-data/CSHL_data_processed/MD590/MD590_thumbnail_alignedTo_MD590-N47-2015.09.12-05.32.06_MD590_2_0140_cropped/MD590-N29-2015.08.03-18.55.57_MD590_1_0087_thumbnail_alignedTo_MD590-N47-2015.09.12-05.32.06_MD590_2_0140_cropped.tif /shared/CSHL_data_processed/MD590/MD590_thumbnail_alignedTo_MD590-N47-2015.09.12-05.32.06_MD590_2_0140_cropped/MD590-N29-2015.08.03-18.55.57_MD590_1_0087_thumbnail_alignedTo_MD590-N47-2015.09.12-05.32.06_MD590_2_0140_cropped.tif\n"
     ]
    },
    {
     "name": "stderr",
     "output_type": "stream",
     "text": [
      "Child returned 0\n",
      "0.47 seconds.\n",
      "Child returned 0\n"
     ]
    },
    {
     "name": "stdout",
     "output_type": "stream",
     "text": [
      "rm -rf /shared/CSHL_data_processed/MD591/MD591_thumbnail_alignedTo_MD591-N57-2015.09.21-17.13.29_MD591_1_0169_cropped/MD591-N48-2015.08.28-06.22.10_MD591_1_0144_thumbnail_alignedTo_MD591-N57-2015.09.21-17.13.29_MD591_1_0169_cropped.tif && mkdir -p /shared/CSHL_data_processed/MD591/MD591_thumbnail_alignedTo_MD591-N57-2015.09.21-17.13.29_MD591_1_0169_cropped\n",
      "aws s3 cp s3://mousebrainatlas-data/CSHL_data_processed/MD591/MD591_thumbnail_alignedTo_MD591-N57-2015.09.21-17.13.29_MD591_1_0169_cropped/MD591-N48-2015.08.28-06.22.10_MD591_1_0144_thumbnail_alignedTo_MD591-N57-2015.09.21-17.13.29_MD591_1_0169_cropped.tif /shared/CSHL_data_processed/MD591/MD591_thumbnail_alignedTo_MD591-N57-2015.09.21-17.13.29_MD591_1_0169_cropped/MD591-N48-2015.08.28-06.22.10_MD591_1_0144_thumbnail_alignedTo_MD591-N57-2015.09.21-17.13.29_MD591_1_0169_cropped.tif\n"
     ]
    },
    {
     "name": "stderr",
     "output_type": "stream",
     "text": [
      "Child returned 0\n",
      "0.45 seconds.\n",
      "Child returned 0\n"
     ]
    },
    {
     "name": "stdout",
     "output_type": "stream",
     "text": [
      "rm -rf /shared/CSHL_data_processed/MD592/MD592_thumbnail_alignedTo_MD592-IHC59-2015.08.26-00.06.25_MD592_2_0176_cropped/MD592-N67-2015.08.22-04.11.28_MD592_3_0201_thumbnail_alignedTo_MD592-IHC59-2015.08.26-00.06.25_MD592_2_0176_cropped.tif && mkdir -p /shared/CSHL_data_processed/MD592/MD592_thumbnail_alignedTo_MD592-IHC59-2015.08.26-00.06.25_MD592_2_0176_cropped\n",
      "aws s3 cp s3://mousebrainatlas-data/CSHL_data_processed/MD592/MD592_thumbnail_alignedTo_MD592-IHC59-2015.08.26-00.06.25_MD592_2_0176_cropped/MD592-N67-2015.08.22-04.11.28_MD592_3_0201_thumbnail_alignedTo_MD592-IHC59-2015.08.26-00.06.25_MD592_2_0176_cropped.tif /shared/CSHL_data_processed/MD592/MD592_thumbnail_alignedTo_MD592-IHC59-2015.08.26-00.06.25_MD592_2_0176_cropped/MD592-N67-2015.08.22-04.11.28_MD592_3_0201_thumbnail_alignedTo_MD592-IHC59-2015.08.26-00.06.25_MD592_2_0176_cropped.tif\n"
     ]
    },
    {
     "name": "stderr",
     "output_type": "stream",
     "text": [
      "Child returned 0\n",
      "0.48 seconds.\n",
      "Child returned 0\n"
     ]
    },
    {
     "name": "stdout",
     "output_type": "stream",
     "text": [
      "rm -rf /shared/CSHL_data_processed/MD593/MD593_thumbnail_alignedTo_MD593-IHC54-2015.08.25-17.40.32_MD593_2_0161_cropped/MD593-IHC62-2015.08.25-18.20.55_MD593_3_0186_thumbnail_alignedTo_MD593-IHC54-2015.08.25-17.40.32_MD593_2_0161_cropped.tif && mkdir -p /shared/CSHL_data_processed/MD593/MD593_thumbnail_alignedTo_MD593-IHC54-2015.08.25-17.40.32_MD593_2_0161_cropped\n",
      "aws s3 cp s3://mousebrainatlas-data/CSHL_data_processed/MD593/MD593_thumbnail_alignedTo_MD593-IHC54-2015.08.25-17.40.32_MD593_2_0161_cropped/MD593-IHC62-2015.08.25-18.20.55_MD593_3_0186_thumbnail_alignedTo_MD593-IHC54-2015.08.25-17.40.32_MD593_2_0161_cropped.tif /shared/CSHL_data_processed/MD593/MD593_thumbnail_alignedTo_MD593-IHC54-2015.08.25-17.40.32_MD593_2_0161_cropped/MD593-IHC62-2015.08.25-18.20.55_MD593_3_0186_thumbnail_alignedTo_MD593-IHC54-2015.08.25-17.40.32_MD593_2_0161_cropped.tif\n"
     ]
    },
    {
     "name": "stderr",
     "output_type": "stream",
     "text": [
      "Child returned 0\n",
      "0.46 seconds.\n",
      "Child returned 0\n"
     ]
    },
    {
     "name": "stdout",
     "output_type": "stream",
     "text": [
      "rm -rf /shared/CSHL_data_processed/MD594/MD594_thumbnail_alignedTo_MD594-IHC58-2015.08.26-18.48.50_MD594_1_0172_cropped/MD594-IHC33-2015.08.26-17.11.04_MD594_1_0097_thumbnail_alignedTo_MD594-IHC58-2015.08.26-18.48.50_MD594_1_0172_cropped.tif && mkdir -p /shared/CSHL_data_processed/MD594/MD594_thumbnail_alignedTo_MD594-IHC58-2015.08.26-18.48.50_MD594_1_0172_cropped\n",
      "aws s3 cp s3://mousebrainatlas-data/CSHL_data_processed/MD594/MD594_thumbnail_alignedTo_MD594-IHC58-2015.08.26-18.48.50_MD594_1_0172_cropped/MD594-IHC33-2015.08.26-17.11.04_MD594_1_0097_thumbnail_alignedTo_MD594-IHC58-2015.08.26-18.48.50_MD594_1_0172_cropped.tif /shared/CSHL_data_processed/MD594/MD594_thumbnail_alignedTo_MD594-IHC58-2015.08.26-18.48.50_MD594_1_0172_cropped/MD594-IHC33-2015.08.26-17.11.04_MD594_1_0097_thumbnail_alignedTo_MD594-IHC58-2015.08.26-18.48.50_MD594_1_0172_cropped.tif\n"
     ]
    },
    {
     "name": "stderr",
     "output_type": "stream",
     "text": [
      "Child returned 0\n",
      "0.47 seconds.\n",
      "Child returned 0\n"
     ]
    },
    {
     "name": "stdout",
     "output_type": "stream",
     "text": [
      "rm -rf /shared/CSHL_data_processed/MD595/MD595_thumbnail_alignedTo_MD595-IHC48-2015.09.15-18.38.44_MD595_1_0142_cropped/MD595-IHC60-2015.09.15-04.41.24_MD595_1_0178_thumbnail_alignedTo_MD595-IHC48-2015.09.15-18.38.44_MD595_1_0142_cropped.tif && mkdir -p /shared/CSHL_data_processed/MD595/MD595_thumbnail_alignedTo_MD595-IHC48-2015.09.15-18.38.44_MD595_1_0142_cropped\n",
      "aws s3 cp s3://mousebrainatlas-data/CSHL_data_processed/MD595/MD595_thumbnail_alignedTo_MD595-IHC48-2015.09.15-18.38.44_MD595_1_0142_cropped/MD595-IHC60-2015.09.15-04.41.24_MD595_1_0178_thumbnail_alignedTo_MD595-IHC48-2015.09.15-18.38.44_MD595_1_0142_cropped.tif /shared/CSHL_data_processed/MD595/MD595_thumbnail_alignedTo_MD595-IHC48-2015.09.15-18.38.44_MD595_1_0142_cropped/MD595-IHC60-2015.09.15-04.41.24_MD595_1_0178_thumbnail_alignedTo_MD595-IHC48-2015.09.15-18.38.44_MD595_1_0142_cropped.tif\n"
     ]
    },
    {
     "name": "stderr",
     "output_type": "stream",
     "text": [
      "Child returned 0\n",
      "0.47 seconds.\n",
      "Child returned 0\n"
     ]
    },
    {
     "name": "stdout",
     "output_type": "stream",
     "text": [
      "rm -rf /shared/CSHL_data_processed/MD598/MD598_thumbnail_alignedTo_MD598-N42-2015.09.29-19.26.12_MD598_2_0125_cropped/MD598-N23-2015.09.29-18.02.11_MD598_1_0067_thumbnail_alignedTo_MD598-N42-2015.09.29-19.26.12_MD598_2_0125_cropped.tif && mkdir -p /shared/CSHL_data_processed/MD598/MD598_thumbnail_alignedTo_MD598-N42-2015.09.29-19.26.12_MD598_2_0125_cropped\n",
      "aws s3 cp s3://mousebrainatlas-data/CSHL_data_processed/MD598/MD598_thumbnail_alignedTo_MD598-N42-2015.09.29-19.26.12_MD598_2_0125_cropped/MD598-N23-2015.09.29-18.02.11_MD598_1_0067_thumbnail_alignedTo_MD598-N42-2015.09.29-19.26.12_MD598_2_0125_cropped.tif /shared/CSHL_data_processed/MD598/MD598_thumbnail_alignedTo_MD598-N42-2015.09.29-19.26.12_MD598_2_0125_cropped/MD598-N23-2015.09.29-18.02.11_MD598_1_0067_thumbnail_alignedTo_MD598-N42-2015.09.29-19.26.12_MD598_2_0125_cropped.tif\n"
     ]
    },
    {
     "name": "stderr",
     "output_type": "stream",
     "text": [
      "Child returned 0\n",
      "0.48 seconds.\n",
      "Child returned 0\n"
     ]
    },
    {
     "name": "stdout",
     "output_type": "stream",
     "text": [
      "rm -rf /shared/CSHL_data_processed/MD599/MD599_thumbnail_alignedTo_MD599-IHC40-2015.10.03-06.04.31_MD599_2_0119_cropped/MD599-N45-2015.10.05-11.12.31_MD599_2_0134_thumbnail_alignedTo_MD599-IHC40-2015.10.03-06.04.31_MD599_2_0119_cropped.tif && mkdir -p /shared/CSHL_data_processed/MD599/MD599_thumbnail_alignedTo_MD599-IHC40-2015.10.03-06.04.31_MD599_2_0119_cropped\n",
      "aws s3 cp s3://mousebrainatlas-data/CSHL_data_processed/MD599/MD599_thumbnail_alignedTo_MD599-IHC40-2015.10.03-06.04.31_MD599_2_0119_cropped/MD599-N45-2015.10.05-11.12.31_MD599_2_0134_thumbnail_alignedTo_MD599-IHC40-2015.10.03-06.04.31_MD599_2_0119_cropped.tif /shared/CSHL_data_processed/MD599/MD599_thumbnail_alignedTo_MD599-IHC40-2015.10.03-06.04.31_MD599_2_0119_cropped/MD599-N45-2015.10.05-11.12.31_MD599_2_0134_thumbnail_alignedTo_MD599-IHC40-2015.10.03-06.04.31_MD599_2_0119_cropped.tif\n"
     ]
    },
    {
     "name": "stderr",
     "output_type": "stream",
     "text": [
      "Child returned 0\n",
      "0.52 seconds.\n",
      "Child returned 0\n"
     ]
    },
    {
     "name": "stdout",
     "output_type": "stream",
     "text": [
      "rm -rf /shared/CSHL_data_processed/MD602/MD602_thumbnail_alignedTo_MD602-N49-2015.12.01-18.41.46_MD602_2_0146_cropped/MD602-N25-2015.12.01-16.56.17_MD602_1_0073_thumbnail_alignedTo_MD602-N49-2015.12.01-18.41.46_MD602_2_0146_cropped.tif && mkdir -p /shared/CSHL_data_processed/MD602/MD602_thumbnail_alignedTo_MD602-N49-2015.12.01-18.41.46_MD602_2_0146_cropped\n",
      "aws s3 cp s3://mousebrainatlas-data/CSHL_data_processed/MD602/MD602_thumbnail_alignedTo_MD602-N49-2015.12.01-18.41.46_MD602_2_0146_cropped/MD602-N25-2015.12.01-16.56.17_MD602_1_0073_thumbnail_alignedTo_MD602-N49-2015.12.01-18.41.46_MD602_2_0146_cropped.tif /shared/CSHL_data_processed/MD602/MD602_thumbnail_alignedTo_MD602-N49-2015.12.01-18.41.46_MD602_2_0146_cropped/MD602-N25-2015.12.01-16.56.17_MD602_1_0073_thumbnail_alignedTo_MD602-N49-2015.12.01-18.41.46_MD602_2_0146_cropped.tif\n"
     ]
    },
    {
     "name": "stderr",
     "output_type": "stream",
     "text": [
      "Child returned 0\n",
      "0.47 seconds.\n",
      "Child returned 0\n"
     ]
    },
    {
     "name": "stdout",
     "output_type": "stream",
     "text": [
      "rm -rf /shared/CSHL_data_processed/MD603/MD603_thumbnail_alignedTo_MD603-N60-2015.12.03-23.57.05_MD603_2_0179_cropped/MD603-IHC20-2015.12.03-14.51.22_MD603_1_0060_thumbnail_alignedTo_MD603-N60-2015.12.03-23.57.05_MD603_2_0179_cropped.tif && mkdir -p /shared/CSHL_data_processed/MD603/MD603_thumbnail_alignedTo_MD603-N60-2015.12.03-23.57.05_MD603_2_0179_cropped\n",
      "aws s3 cp s3://mousebrainatlas-data/CSHL_data_processed/MD603/MD603_thumbnail_alignedTo_MD603-N60-2015.12.03-23.57.05_MD603_2_0179_cropped/MD603-IHC20-2015.12.03-14.51.22_MD603_1_0060_thumbnail_alignedTo_MD603-N60-2015.12.03-23.57.05_MD603_2_0179_cropped.tif /shared/CSHL_data_processed/MD603/MD603_thumbnail_alignedTo_MD603-N60-2015.12.03-23.57.05_MD603_2_0179_cropped/MD603-IHC20-2015.12.03-14.51.22_MD603_1_0060_thumbnail_alignedTo_MD603-N60-2015.12.03-23.57.05_MD603_2_0179_cropped.tif\n"
     ]
    },
    {
     "name": "stderr",
     "output_type": "stream",
     "text": [
      "Child returned 0\n",
      "0.52 seconds.\n",
      "/usr/local/lib/python2.7/dist-packages/skimage/external/tifffile/tifffile.py:2611: RuntimeWarning: py_decodelzw encountered unexpected end of stream\n",
      "  strip = decompress(strip)\n",
      "Child returned 0\n"
     ]
    },
    {
     "name": "stdout",
     "output_type": "stream",
     "text": [
      "rm -rf /shared/CSHL_data_processed/MD635/MD635_thumbnail_alignedTo_MD635-F63-2016.05.19-08.39.03_MD635_2_0188_cropped/MD635-F124-2016.05.20-02.13.16_MD635_1_0370_thumbnail_alignedTo_MD635-F63-2016.05.19-08.39.03_MD635_2_0188_cropped.tif && mkdir -p /shared/CSHL_data_processed/MD635/MD635_thumbnail_alignedTo_MD635-F63-2016.05.19-08.39.03_MD635_2_0188_cropped\n",
      "aws s3 cp s3://mousebrainatlas-data/CSHL_data_processed/MD635/MD635_thumbnail_alignedTo_MD635-F63-2016.05.19-08.39.03_MD635_2_0188_cropped/MD635-F124-2016.05.20-02.13.16_MD635_1_0370_thumbnail_alignedTo_MD635-F63-2016.05.19-08.39.03_MD635_2_0188_cropped.tif /shared/CSHL_data_processed/MD635/MD635_thumbnail_alignedTo_MD635-F63-2016.05.19-08.39.03_MD635_2_0188_cropped/MD635-F124-2016.05.20-02.13.16_MD635_1_0370_thumbnail_alignedTo_MD635-F63-2016.05.19-08.39.03_MD635_2_0188_cropped.tif\n"
     ]
    },
    {
     "name": "stderr",
     "output_type": "stream",
     "text": [
      "Child returned 0\n",
      "0.47 seconds.\n",
      "Child returned 0\n"
     ]
    },
    {
     "name": "stdout",
     "output_type": "stream",
     "text": [
      "rm -rf /shared/CSHL_data_processed/MD653/MD653_thumbnail_alignedTo_MD653-F64-2016.12.21-12.03.55_MD653_2_0191_cropped/MD653-F26-2016.12.20-23.30.31_MD653_3_0078_thumbnail_alignedTo_MD653-F64-2016.12.21-12.03.55_MD653_2_0191_cropped.tif && mkdir -p /shared/CSHL_data_processed/MD653/MD653_thumbnail_alignedTo_MD653-F64-2016.12.21-12.03.55_MD653_2_0191_cropped\n",
      "aws s3 cp s3://mousebrainatlas-data/CSHL_data_processed/MD653/MD653_thumbnail_alignedTo_MD653-F64-2016.12.21-12.03.55_MD653_2_0191_cropped/MD653-F26-2016.12.20-23.30.31_MD653_3_0078_thumbnail_alignedTo_MD653-F64-2016.12.21-12.03.55_MD653_2_0191_cropped.tif /shared/CSHL_data_processed/MD653/MD653_thumbnail_alignedTo_MD653-F64-2016.12.21-12.03.55_MD653_2_0191_cropped/MD653-F26-2016.12.20-23.30.31_MD653_3_0078_thumbnail_alignedTo_MD653-F64-2016.12.21-12.03.55_MD653_2_0191_cropped.tif\n"
     ]
    },
    {
     "name": "stderr",
     "output_type": "stream",
     "text": [
      "Child returned 0\n",
      "0.47 seconds.\n",
      "Child returned 0\n"
     ]
    },
    {
     "name": "stdout",
     "output_type": "stream",
     "text": [
      "rm -rf /shared/CSHL_data_processed/MD652/MD652_thumbnail_alignedTo_MD652-F45-2016.12.17-05.56.31_MD652_2_0134_cropped/MD652-N53-2016.12.16-08.58.44_MD652_1_0157_thumbnail_alignedTo_MD652-F45-2016.12.17-05.56.31_MD652_2_0134_cropped.tif && mkdir -p /shared/CSHL_data_processed/MD652/MD652_thumbnail_alignedTo_MD652-F45-2016.12.17-05.56.31_MD652_2_0134_cropped\n",
      "aws s3 cp s3://mousebrainatlas-data/CSHL_data_processed/MD652/MD652_thumbnail_alignedTo_MD652-F45-2016.12.17-05.56.31_MD652_2_0134_cropped/MD652-N53-2016.12.16-08.58.44_MD652_1_0157_thumbnail_alignedTo_MD652-F45-2016.12.17-05.56.31_MD652_2_0134_cropped.tif /shared/CSHL_data_processed/MD652/MD652_thumbnail_alignedTo_MD652-F45-2016.12.17-05.56.31_MD652_2_0134_cropped/MD652-N53-2016.12.16-08.58.44_MD652_1_0157_thumbnail_alignedTo_MD652-F45-2016.12.17-05.56.31_MD652_2_0134_cropped.tif\n"
     ]
    },
    {
     "name": "stderr",
     "output_type": "stream",
     "text": [
      "Child returned 0\n",
      "0.47 seconds.\n",
      "Child returned 0\n"
     ]
    },
    {
     "name": "stdout",
     "output_type": "stream",
     "text": [
      "rm -rf /shared/CSHL_data_processed/MD642/MD642_thumbnail_alignedTo_MD642-F53-2017.01.14-12.23.43_MD642_1_0157_cropped/MD642-N27-2017.01.19-10.46.28_MD642_2_0080_thumbnail_alignedTo_MD642-F53-2017.01.14-12.23.43_MD642_1_0157_cropped.tif && mkdir -p /shared/CSHL_data_processed/MD642/MD642_thumbnail_alignedTo_MD642-F53-2017.01.14-12.23.43_MD642_1_0157_cropped\n",
      "aws s3 cp s3://mousebrainatlas-data/CSHL_data_processed/MD642/MD642_thumbnail_alignedTo_MD642-F53-2017.01.14-12.23.43_MD642_1_0157_cropped/MD642-N27-2017.01.19-10.46.28_MD642_2_0080_thumbnail_alignedTo_MD642-F53-2017.01.14-12.23.43_MD642_1_0157_cropped.tif /shared/CSHL_data_processed/MD642/MD642_thumbnail_alignedTo_MD642-F53-2017.01.14-12.23.43_MD642_1_0157_cropped/MD642-N27-2017.01.19-10.46.28_MD642_2_0080_thumbnail_alignedTo_MD642-F53-2017.01.14-12.23.43_MD642_1_0157_cropped.tif\n"
     ]
    },
    {
     "name": "stderr",
     "output_type": "stream",
     "text": [
      "Child returned 0\n",
      "0.46 seconds.\n",
      "Child returned 0\n"
     ]
    },
    {
     "name": "stdout",
     "output_type": "stream",
     "text": [
      "rm -rf /shared/CSHL_data_processed/MD657/MD657_thumbnail_alignedTo_MD657-F44-2017.02.18-06.06.27_MD657_1_0130_cropped/MD657-F29-2017.02.18-01.04.58_MD657_1_0085_thumbnail_alignedTo_MD657-F44-2017.02.18-06.06.27_MD657_1_0130_cropped.tif && mkdir -p /shared/CSHL_data_processed/MD657/MD657_thumbnail_alignedTo_MD657-F44-2017.02.18-06.06.27_MD657_1_0130_cropped\n",
      "aws s3 cp s3://mousebrainatlas-data/CSHL_data_processed/MD657/MD657_thumbnail_alignedTo_MD657-F44-2017.02.18-06.06.27_MD657_1_0130_cropped/MD657-F29-2017.02.18-01.04.58_MD657_1_0085_thumbnail_alignedTo_MD657-F44-2017.02.18-06.06.27_MD657_1_0130_cropped.tif /shared/CSHL_data_processed/MD657/MD657_thumbnail_alignedTo_MD657-F44-2017.02.18-06.06.27_MD657_1_0130_cropped/MD657-F29-2017.02.18-01.04.58_MD657_1_0085_thumbnail_alignedTo_MD657-F44-2017.02.18-06.06.27_MD657_1_0130_cropped.tif\n"
     ]
    },
    {
     "name": "stderr",
     "output_type": "stream",
     "text": [
      "Child returned 0\n",
      "0.47 seconds.\n"
     ]
    }
   ],
   "source": [
    "import os\n",
    "import sys\n",
    "import time\n",
    "\n",
    "import matplotlib.pyplot as plt\n",
    "%matplotlib inline\n",
    "import numpy as np\n",
    "\n",
    "sys.path.append(os.path.join(os.environ['REPO_DIR'], 'utilities'))\n",
    "from utilities2015 import *\n",
    "from metadata import *\n",
    "from data_manager import *\n",
    "from learning_utilities import *"
   ]
  },
  {
   "cell_type": "code",
   "execution_count": 42,
   "metadata": {},
   "outputs": [
    {
     "name": "stdout",
     "output_type": "stream",
     "text": [
      "/shared/CSHL_patch_features/inception-bn-blue/MD590/MD590-IHC17-2015.08.10-19.09.09_MD590_2_0050_lossless_alignedTo_MD590-N47-2015.09.12-05.32.06_MD590_2_0140_cropped/MD590-IHC17-2015.08.10-19.09.09_MD590_2_0050_lossless_alignedTo_MD590-N47-2015.09.12-05.32.06_MD590_2_0140_cropped_features.bp\n",
      "/shared/CSHL_patch_features/inception-bn-blue/MD590/MD590_lossless_alignedTo_MD590-N47-2015.09.12-05.32.06_MD590_2_0140_cropped_gray/MD590-IHC17-2015.08.10-19.09.09_MD590_2_0050_lossless_alignedTo_MD590-N47-2015.09.12-05.32.06_MD590_2_0140_cropped_gray_features.bp\n",
      "aws s3 cp s3://mousebrainatlas-data/CSHL_patch_features/inception-bn-blue/MD590/MD590-IHC17-2015.08.10-19.09.09_MD590_2_0050_lossless_alignedTo_MD590-N47-2015.09.12-05.32.06_MD590_2_0140_cropped/MD590-IHC17-2015.08.10-19.09.09_MD590_2_0050_lossless_alignedTo_MD590-N47-2015.09.12-05.32.06_MD590_2_0140_cropped_features.bp s3://mousebrainatlas-data/CSHL_patch_features/inception-bn-blue/MD590/MD590_lossless_alignedTo_MD590-N47-2015.09.12-05.32.06_MD590_2_0140_cropped_gray/MD590-IHC17-2015.08.10-19.09.09_MD590_2_0050_lossless_alignedTo_MD590-N47-2015.09.12-05.32.06_MD590_2_0140_cropped_gray_features.bp\n"
     ]
    },
    {
     "name": "stderr",
     "output_type": "stream",
     "text": [
      "Child returned 0\n"
     ]
    },
    {
     "name": "stdout",
     "output_type": "stream",
     "text": [
      "/shared/CSHL_patch_features/inception-bn-blue/MD590/MD590-IHC17-2015.08.10-19.09.09_MD590_2_0050_lossless_alignedTo_MD590-N47-2015.09.12-05.32.06_MD590_2_0140_cropped/MD590-IHC17-2015.08.10-19.09.09_MD590_2_0050_lossless_alignedTo_MD590-N47-2015.09.12-05.32.06_MD590_2_0140_cropped_patch_locations.txt\n",
      "/shared/CSHL_patch_features/inception-bn-blue/MD590/MD590_lossless_alignedTo_MD590-N47-2015.09.12-05.32.06_MD590_2_0140_cropped_gray/MD590-IHC17-2015.08.10-19.09.09_MD590_2_0050_lossless_alignedTo_MD590-N47-2015.09.12-05.32.06_MD590_2_0140_cropped_gray_patch_locations.txt\n",
      "aws s3 cp s3://mousebrainatlas-data/CSHL_patch_features/inception-bn-blue/MD590/MD590-IHC17-2015.08.10-19.09.09_MD590_2_0050_lossless_alignedTo_MD590-N47-2015.09.12-05.32.06_MD590_2_0140_cropped/MD590-IHC17-2015.08.10-19.09.09_MD590_2_0050_lossless_alignedTo_MD590-N47-2015.09.12-05.32.06_MD590_2_0140_cropped_patch_locations.txt s3://mousebrainatlas-data/CSHL_patch_features/inception-bn-blue/MD590/MD590_lossless_alignedTo_MD590-N47-2015.09.12-05.32.06_MD590_2_0140_cropped_gray/MD590-IHC17-2015.08.10-19.09.09_MD590_2_0050_lossless_alignedTo_MD590-N47-2015.09.12-05.32.06_MD590_2_0140_cropped_gray_patch_locations.txt\n"
     ]
    },
    {
     "name": "stderr",
     "output_type": "stream",
     "text": [
      "Child returned 0\n"
     ]
    },
    {
     "name": "stdout",
     "output_type": "stream",
     "text": [
      "/shared/CSHL_patch_features/inception-bn-blue/MD590/MD590-N17-2015.08.03-18.05.39_MD590_1_0051_lossless_alignedTo_MD590-N47-2015.09.12-05.32.06_MD590_2_0140_cropped/MD590-N17-2015.08.03-18.05.39_MD590_1_0051_lossless_alignedTo_MD590-N47-2015.09.12-05.32.06_MD590_2_0140_cropped_features.bp\n",
      "/shared/CSHL_patch_features/inception-bn-blue/MD590/MD590_lossless_alignedTo_MD590-N47-2015.09.12-05.32.06_MD590_2_0140_cropped_gray/MD590-N17-2015.08.03-18.05.39_MD590_1_0051_lossless_alignedTo_MD590-N47-2015.09.12-05.32.06_MD590_2_0140_cropped_gray_features.bp\n",
      "aws s3 cp s3://mousebrainatlas-data/CSHL_patch_features/inception-bn-blue/MD590/MD590-N17-2015.08.03-18.05.39_MD590_1_0051_lossless_alignedTo_MD590-N47-2015.09.12-05.32.06_MD590_2_0140_cropped/MD590-N17-2015.08.03-18.05.39_MD590_1_0051_lossless_alignedTo_MD590-N47-2015.09.12-05.32.06_MD590_2_0140_cropped_features.bp s3://mousebrainatlas-data/CSHL_patch_features/inception-bn-blue/MD590/MD590_lossless_alignedTo_MD590-N47-2015.09.12-05.32.06_MD590_2_0140_cropped_gray/MD590-N17-2015.08.03-18.05.39_MD590_1_0051_lossless_alignedTo_MD590-N47-2015.09.12-05.32.06_MD590_2_0140_cropped_gray_features.bp\n"
     ]
    },
    {
     "name": "stderr",
     "output_type": "stream",
     "text": [
      "Child returned 0\n"
     ]
    },
    {
     "name": "stdout",
     "output_type": "stream",
     "text": [
      "/shared/CSHL_patch_features/inception-bn-blue/MD590/MD590-N17-2015.08.03-18.05.39_MD590_1_0051_lossless_alignedTo_MD590-N47-2015.09.12-05.32.06_MD590_2_0140_cropped/MD590-N17-2015.08.03-18.05.39_MD590_1_0051_lossless_alignedTo_MD590-N47-2015.09.12-05.32.06_MD590_2_0140_cropped_patch_locations.txt\n",
      "/shared/CSHL_patch_features/inception-bn-blue/MD590/MD590_lossless_alignedTo_MD590-N47-2015.09.12-05.32.06_MD590_2_0140_cropped_gray/MD590-N17-2015.08.03-18.05.39_MD590_1_0051_lossless_alignedTo_MD590-N47-2015.09.12-05.32.06_MD590_2_0140_cropped_gray_patch_locations.txt\n",
      "aws s3 cp s3://mousebrainatlas-data/CSHL_patch_features/inception-bn-blue/MD590/MD590-N17-2015.08.03-18.05.39_MD590_1_0051_lossless_alignedTo_MD590-N47-2015.09.12-05.32.06_MD590_2_0140_cropped/MD590-N17-2015.08.03-18.05.39_MD590_1_0051_lossless_alignedTo_MD590-N47-2015.09.12-05.32.06_MD590_2_0140_cropped_patch_locations.txt s3://mousebrainatlas-data/CSHL_patch_features/inception-bn-blue/MD590/MD590_lossless_alignedTo_MD590-N47-2015.09.12-05.32.06_MD590_2_0140_cropped_gray/MD590-N17-2015.08.03-18.05.39_MD590_1_0051_lossless_alignedTo_MD590-N47-2015.09.12-05.32.06_MD590_2_0140_cropped_gray_patch_locations.txt\n"
     ]
    },
    {
     "name": "stderr",
     "output_type": "stream",
     "text": [
      "Child returned 0\n"
     ]
    },
    {
     "name": "stdout",
     "output_type": "stream",
     "text": [
      "/shared/CSHL_patch_features/inception-bn-blue/MD590/MD590-IHC17-2015.08.10-19.09.09_MD590_1_0051_lossless_alignedTo_MD590-N47-2015.09.12-05.32.06_MD590_2_0140_cropped/MD590-IHC17-2015.08.10-19.09.09_MD590_1_0051_lossless_alignedTo_MD590-N47-2015.09.12-05.32.06_MD590_2_0140_cropped_features.bp\n",
      "/shared/CSHL_patch_features/inception-bn-blue/MD590/MD590_lossless_alignedTo_MD590-N47-2015.09.12-05.32.06_MD590_2_0140_cropped_gray/MD590-IHC17-2015.08.10-19.09.09_MD590_1_0051_lossless_alignedTo_MD590-N47-2015.09.12-05.32.06_MD590_2_0140_cropped_gray_features.bp\n",
      "aws s3 cp s3://mousebrainatlas-data/CSHL_patch_features/inception-bn-blue/MD590/MD590-IHC17-2015.08.10-19.09.09_MD590_1_0051_lossless_alignedTo_MD590-N47-2015.09.12-05.32.06_MD590_2_0140_cropped/MD590-IHC17-2015.08.10-19.09.09_MD590_1_0051_lossless_alignedTo_MD590-N47-2015.09.12-05.32.06_MD590_2_0140_cropped_features.bp s3://mousebrainatlas-data/CSHL_patch_features/inception-bn-blue/MD590/MD590_lossless_alignedTo_MD590-N47-2015.09.12-05.32.06_MD590_2_0140_cropped_gray/MD590-IHC17-2015.08.10-19.09.09_MD590_1_0051_lossless_alignedTo_MD590-N47-2015.09.12-05.32.06_MD590_2_0140_cropped_gray_features.bp\n"
     ]
    },
    {
     "name": "stderr",
     "output_type": "stream",
     "text": [
      "Child returned 0\n"
     ]
    },
    {
     "name": "stdout",
     "output_type": "stream",
     "text": [
      "/shared/CSHL_patch_features/inception-bn-blue/MD590/MD590-IHC17-2015.08.10-19.09.09_MD590_1_0051_lossless_alignedTo_MD590-N47-2015.09.12-05.32.06_MD590_2_0140_cropped/MD590-IHC17-2015.08.10-19.09.09_MD590_1_0051_lossless_alignedTo_MD590-N47-2015.09.12-05.32.06_MD590_2_0140_cropped_patch_locations.txt\n",
      "/shared/CSHL_patch_features/inception-bn-blue/MD590/MD590_lossless_alignedTo_MD590-N47-2015.09.12-05.32.06_MD590_2_0140_cropped_gray/MD590-IHC17-2015.08.10-19.09.09_MD590_1_0051_lossless_alignedTo_MD590-N47-2015.09.12-05.32.06_MD590_2_0140_cropped_gray_patch_locations.txt\n",
      "aws s3 cp s3://mousebrainatlas-data/CSHL_patch_features/inception-bn-blue/MD590/MD590-IHC17-2015.08.10-19.09.09_MD590_1_0051_lossless_alignedTo_MD590-N47-2015.09.12-05.32.06_MD590_2_0140_cropped/MD590-IHC17-2015.08.10-19.09.09_MD590_1_0051_lossless_alignedTo_MD590-N47-2015.09.12-05.32.06_MD590_2_0140_cropped_patch_locations.txt s3://mousebrainatlas-data/CSHL_patch_features/inception-bn-blue/MD590/MD590_lossless_alignedTo_MD590-N47-2015.09.12-05.32.06_MD590_2_0140_cropped_gray/MD590-IHC17-2015.08.10-19.09.09_MD590_1_0051_lossless_alignedTo_MD590-N47-2015.09.12-05.32.06_MD590_2_0140_cropped_gray_patch_locations.txt\n"
     ]
    },
    {
     "name": "stderr",
     "output_type": "stream",
     "text": [
      "Child returned 0\n"
     ]
    },
    {
     "name": "stdout",
     "output_type": "stream",
     "text": [
      "/shared/CSHL_patch_features/inception-bn-blue/MD590/MD590-N18-2015.08.03-18.09.43_MD590_3_0052_lossless_alignedTo_MD590-N47-2015.09.12-05.32.06_MD590_2_0140_cropped/MD590-N18-2015.08.03-18.09.43_MD590_3_0052_lossless_alignedTo_MD590-N47-2015.09.12-05.32.06_MD590_2_0140_cropped_features.bp\n",
      "/shared/CSHL_patch_features/inception-bn-blue/MD590/MD590_lossless_alignedTo_MD590-N47-2015.09.12-05.32.06_MD590_2_0140_cropped_gray/MD590-N18-2015.08.03-18.09.43_MD590_3_0052_lossless_alignedTo_MD590-N47-2015.09.12-05.32.06_MD590_2_0140_cropped_gray_features.bp\n",
      "aws s3 cp s3://mousebrainatlas-data/CSHL_patch_features/inception-bn-blue/MD590/MD590-N18-2015.08.03-18.09.43_MD590_3_0052_lossless_alignedTo_MD590-N47-2015.09.12-05.32.06_MD590_2_0140_cropped/MD590-N18-2015.08.03-18.09.43_MD590_3_0052_lossless_alignedTo_MD590-N47-2015.09.12-05.32.06_MD590_2_0140_cropped_features.bp s3://mousebrainatlas-data/CSHL_patch_features/inception-bn-blue/MD590/MD590_lossless_alignedTo_MD590-N47-2015.09.12-05.32.06_MD590_2_0140_cropped_gray/MD590-N18-2015.08.03-18.09.43_MD590_3_0052_lossless_alignedTo_MD590-N47-2015.09.12-05.32.06_MD590_2_0140_cropped_gray_features.bp\n"
     ]
    },
    {
     "name": "stderr",
     "output_type": "stream",
     "text": [
      "Child returned 0\n"
     ]
    },
    {
     "name": "stdout",
     "output_type": "stream",
     "text": [
      "/shared/CSHL_patch_features/inception-bn-blue/MD590/MD590-N18-2015.08.03-18.09.43_MD590_3_0052_lossless_alignedTo_MD590-N47-2015.09.12-05.32.06_MD590_2_0140_cropped/MD590-N18-2015.08.03-18.09.43_MD590_3_0052_lossless_alignedTo_MD590-N47-2015.09.12-05.32.06_MD590_2_0140_cropped_patch_locations.txt\n",
      "/shared/CSHL_patch_features/inception-bn-blue/MD590/MD590_lossless_alignedTo_MD590-N47-2015.09.12-05.32.06_MD590_2_0140_cropped_gray/MD590-N18-2015.08.03-18.09.43_MD590_3_0052_lossless_alignedTo_MD590-N47-2015.09.12-05.32.06_MD590_2_0140_cropped_gray_patch_locations.txt\n",
      "aws s3 cp s3://mousebrainatlas-data/CSHL_patch_features/inception-bn-blue/MD590/MD590-N18-2015.08.03-18.09.43_MD590_3_0052_lossless_alignedTo_MD590-N47-2015.09.12-05.32.06_MD590_2_0140_cropped/MD590-N18-2015.08.03-18.09.43_MD590_3_0052_lossless_alignedTo_MD590-N47-2015.09.12-05.32.06_MD590_2_0140_cropped_patch_locations.txt s3://mousebrainatlas-data/CSHL_patch_features/inception-bn-blue/MD590/MD590_lossless_alignedTo_MD590-N47-2015.09.12-05.32.06_MD590_2_0140_cropped_gray/MD590-N18-2015.08.03-18.09.43_MD590_3_0052_lossless_alignedTo_MD590-N47-2015.09.12-05.32.06_MD590_2_0140_cropped_gray_patch_locations.txt\n"
     ]
    },
    {
     "name": "stderr",
     "output_type": "stream",
     "text": [
      "Child returned 0\n"
     ]
    },
    {
     "name": "stdout",
     "output_type": "stream",
     "text": [
      "/shared/CSHL_patch_features/inception-bn-blue/MD590/MD590-IHC18-2015.08.10-19.13.20_MD590_3_0052_lossless_alignedTo_MD590-N47-2015.09.12-05.32.06_MD590_2_0140_cropped/MD590-IHC18-2015.08.10-19.13.20_MD590_3_0052_lossless_alignedTo_MD590-N47-2015.09.12-05.32.06_MD590_2_0140_cropped_features.bp\n",
      "/shared/CSHL_patch_features/inception-bn-blue/MD590/MD590_lossless_alignedTo_MD590-N47-2015.09.12-05.32.06_MD590_2_0140_cropped_gray/MD590-IHC18-2015.08.10-19.13.20_MD590_3_0052_lossless_alignedTo_MD590-N47-2015.09.12-05.32.06_MD590_2_0140_cropped_gray_features.bp\n",
      "aws s3 cp s3://mousebrainatlas-data/CSHL_patch_features/inception-bn-blue/MD590/MD590-IHC18-2015.08.10-19.13.20_MD590_3_0052_lossless_alignedTo_MD590-N47-2015.09.12-05.32.06_MD590_2_0140_cropped/MD590-IHC18-2015.08.10-19.13.20_MD590_3_0052_lossless_alignedTo_MD590-N47-2015.09.12-05.32.06_MD590_2_0140_cropped_features.bp s3://mousebrainatlas-data/CSHL_patch_features/inception-bn-blue/MD590/MD590_lossless_alignedTo_MD590-N47-2015.09.12-05.32.06_MD590_2_0140_cropped_gray/MD590-IHC18-2015.08.10-19.13.20_MD590_3_0052_lossless_alignedTo_MD590-N47-2015.09.12-05.32.06_MD590_2_0140_cropped_gray_features.bp\n"
     ]
    },
    {
     "name": "stderr",
     "output_type": "stream",
     "text": [
      "Child returned 0\n"
     ]
    },
    {
     "name": "stdout",
     "output_type": "stream",
     "text": [
      "/shared/CSHL_patch_features/inception-bn-blue/MD590/MD590-IHC18-2015.08.10-19.13.20_MD590_3_0052_lossless_alignedTo_MD590-N47-2015.09.12-05.32.06_MD590_2_0140_cropped/MD590-IHC18-2015.08.10-19.13.20_MD590_3_0052_lossless_alignedTo_MD590-N47-2015.09.12-05.32.06_MD590_2_0140_cropped_patch_locations.txt\n",
      "/shared/CSHL_patch_features/inception-bn-blue/MD590/MD590_lossless_alignedTo_MD590-N47-2015.09.12-05.32.06_MD590_2_0140_cropped_gray/MD590-IHC18-2015.08.10-19.13.20_MD590_3_0052_lossless_alignedTo_MD590-N47-2015.09.12-05.32.06_MD590_2_0140_cropped_gray_patch_locations.txt\n",
      "aws s3 cp s3://mousebrainatlas-data/CSHL_patch_features/inception-bn-blue/MD590/MD590-IHC18-2015.08.10-19.13.20_MD590_3_0052_lossless_alignedTo_MD590-N47-2015.09.12-05.32.06_MD590_2_0140_cropped/MD590-IHC18-2015.08.10-19.13.20_MD590_3_0052_lossless_alignedTo_MD590-N47-2015.09.12-05.32.06_MD590_2_0140_cropped_patch_locations.txt s3://mousebrainatlas-data/CSHL_patch_features/inception-bn-blue/MD590/MD590_lossless_alignedTo_MD590-N47-2015.09.12-05.32.06_MD590_2_0140_cropped_gray/MD590-IHC18-2015.08.10-19.13.20_MD590_3_0052_lossless_alignedTo_MD590-N47-2015.09.12-05.32.06_MD590_2_0140_cropped_gray_patch_locations.txt\n"
     ]
    },
    {
     "name": "stderr",
     "output_type": "stream",
     "text": [
      "Child returned 0\n"
     ]
    },
    {
     "name": "stdout",
     "output_type": "stream",
     "text": [
      "/shared/CSHL_patch_features/inception-bn-blue/MD590/MD590-N18-2015.08.03-18.09.43_MD590_2_0053_lossless_alignedTo_MD590-N47-2015.09.12-05.32.06_MD590_2_0140_cropped/MD590-N18-2015.08.03-18.09.43_MD590_2_0053_lossless_alignedTo_MD590-N47-2015.09.12-05.32.06_MD590_2_0140_cropped_features.bp\n",
      "/shared/CSHL_patch_features/inception-bn-blue/MD590/MD590_lossless_alignedTo_MD590-N47-2015.09.12-05.32.06_MD590_2_0140_cropped_gray/MD590-N18-2015.08.03-18.09.43_MD590_2_0053_lossless_alignedTo_MD590-N47-2015.09.12-05.32.06_MD590_2_0140_cropped_gray_features.bp\n",
      "aws s3 cp s3://mousebrainatlas-data/CSHL_patch_features/inception-bn-blue/MD590/MD590-N18-2015.08.03-18.09.43_MD590_2_0053_lossless_alignedTo_MD590-N47-2015.09.12-05.32.06_MD590_2_0140_cropped/MD590-N18-2015.08.03-18.09.43_MD590_2_0053_lossless_alignedTo_MD590-N47-2015.09.12-05.32.06_MD590_2_0140_cropped_features.bp s3://mousebrainatlas-data/CSHL_patch_features/inception-bn-blue/MD590/MD590_lossless_alignedTo_MD590-N47-2015.09.12-05.32.06_MD590_2_0140_cropped_gray/MD590-N18-2015.08.03-18.09.43_MD590_2_0053_lossless_alignedTo_MD590-N47-2015.09.12-05.32.06_MD590_2_0140_cropped_gray_features.bp\n"
     ]
    },
    {
     "name": "stderr",
     "output_type": "stream",
     "text": [
      "Child returned 0\n"
     ]
    },
    {
     "name": "stdout",
     "output_type": "stream",
     "text": [
      "/shared/CSHL_patch_features/inception-bn-blue/MD590/MD590-N18-2015.08.03-18.09.43_MD590_2_0053_lossless_alignedTo_MD590-N47-2015.09.12-05.32.06_MD590_2_0140_cropped/MD590-N18-2015.08.03-18.09.43_MD590_2_0053_lossless_alignedTo_MD590-N47-2015.09.12-05.32.06_MD590_2_0140_cropped_patch_locations.txt\n",
      "/shared/CSHL_patch_features/inception-bn-blue/MD590/MD590_lossless_alignedTo_MD590-N47-2015.09.12-05.32.06_MD590_2_0140_cropped_gray/MD590-N18-2015.08.03-18.09.43_MD590_2_0053_lossless_alignedTo_MD590-N47-2015.09.12-05.32.06_MD590_2_0140_cropped_gray_patch_locations.txt\n",
      "aws s3 cp s3://mousebrainatlas-data/CSHL_patch_features/inception-bn-blue/MD590/MD590-N18-2015.08.03-18.09.43_MD590_2_0053_lossless_alignedTo_MD590-N47-2015.09.12-05.32.06_MD590_2_0140_cropped/MD590-N18-2015.08.03-18.09.43_MD590_2_0053_lossless_alignedTo_MD590-N47-2015.09.12-05.32.06_MD590_2_0140_cropped_patch_locations.txt s3://mousebrainatlas-data/CSHL_patch_features/inception-bn-blue/MD590/MD590_lossless_alignedTo_MD590-N47-2015.09.12-05.32.06_MD590_2_0140_cropped_gray/MD590-N18-2015.08.03-18.09.43_MD590_2_0053_lossless_alignedTo_MD590-N47-2015.09.12-05.32.06_MD590_2_0140_cropped_gray_patch_locations.txt\n"
     ]
    },
    {
     "name": "stderr",
     "output_type": "stream",
     "text": [
      "Child returned 0\n"
     ]
    },
    {
     "name": "stdout",
     "output_type": "stream",
     "text": [
      "/shared/CSHL_patch_features/inception-bn-blue/MD590/MD590-IHC18-2015.08.10-19.13.20_MD590_2_0053_lossless_alignedTo_MD590-N47-2015.09.12-05.32.06_MD590_2_0140_cropped/MD590-IHC18-2015.08.10-19.13.20_MD590_2_0053_lossless_alignedTo_MD590-N47-2015.09.12-05.32.06_MD590_2_0140_cropped_features.bp\n",
      "/shared/CSHL_patch_features/inception-bn-blue/MD590/MD590_lossless_alignedTo_MD590-N47-2015.09.12-05.32.06_MD590_2_0140_cropped_gray/MD590-IHC18-2015.08.10-19.13.20_MD590_2_0053_lossless_alignedTo_MD590-N47-2015.09.12-05.32.06_MD590_2_0140_cropped_gray_features.bp\n",
      "aws s3 cp s3://mousebrainatlas-data/CSHL_patch_features/inception-bn-blue/MD590/MD590-IHC18-2015.08.10-19.13.20_MD590_2_0053_lossless_alignedTo_MD590-N47-2015.09.12-05.32.06_MD590_2_0140_cropped/MD590-IHC18-2015.08.10-19.13.20_MD590_2_0053_lossless_alignedTo_MD590-N47-2015.09.12-05.32.06_MD590_2_0140_cropped_features.bp s3://mousebrainatlas-data/CSHL_patch_features/inception-bn-blue/MD590/MD590_lossless_alignedTo_MD590-N47-2015.09.12-05.32.06_MD590_2_0140_cropped_gray/MD590-IHC18-2015.08.10-19.13.20_MD590_2_0053_lossless_alignedTo_MD590-N47-2015.09.12-05.32.06_MD590_2_0140_cropped_gray_features.bp\n"
     ]
    },
    {
     "name": "stderr",
     "output_type": "stream",
     "text": [
      "Child returned 0\n"
     ]
    },
    {
     "name": "stdout",
     "output_type": "stream",
     "text": [
      "/shared/CSHL_patch_features/inception-bn-blue/MD590/MD590-IHC18-2015.08.10-19.13.20_MD590_2_0053_lossless_alignedTo_MD590-N47-2015.09.12-05.32.06_MD590_2_0140_cropped/MD590-IHC18-2015.08.10-19.13.20_MD590_2_0053_lossless_alignedTo_MD590-N47-2015.09.12-05.32.06_MD590_2_0140_cropped_patch_locations.txt\n",
      "/shared/CSHL_patch_features/inception-bn-blue/MD590/MD590_lossless_alignedTo_MD590-N47-2015.09.12-05.32.06_MD590_2_0140_cropped_gray/MD590-IHC18-2015.08.10-19.13.20_MD590_2_0053_lossless_alignedTo_MD590-N47-2015.09.12-05.32.06_MD590_2_0140_cropped_gray_patch_locations.txt\n",
      "aws s3 cp s3://mousebrainatlas-data/CSHL_patch_features/inception-bn-blue/MD590/MD590-IHC18-2015.08.10-19.13.20_MD590_2_0053_lossless_alignedTo_MD590-N47-2015.09.12-05.32.06_MD590_2_0140_cropped/MD590-IHC18-2015.08.10-19.13.20_MD590_2_0053_lossless_alignedTo_MD590-N47-2015.09.12-05.32.06_MD590_2_0140_cropped_patch_locations.txt s3://mousebrainatlas-data/CSHL_patch_features/inception-bn-blue/MD590/MD590_lossless_alignedTo_MD590-N47-2015.09.12-05.32.06_MD590_2_0140_cropped_gray/MD590-IHC18-2015.08.10-19.13.20_MD590_2_0053_lossless_alignedTo_MD590-N47-2015.09.12-05.32.06_MD590_2_0140_cropped_gray_patch_locations.txt\n"
     ]
    },
    {
     "name": "stderr",
     "output_type": "stream",
     "text": [
      "Child returned 0\n"
     ]
    },
    {
     "name": "stdout",
     "output_type": "stream",
     "text": [
      "/shared/CSHL_patch_features/inception-bn-blue/MD590/MD590-N18-2015.08.03-18.09.43_MD590_1_0054_lossless_alignedTo_MD590-N47-2015.09.12-05.32.06_MD590_2_0140_cropped/MD590-N18-2015.08.03-18.09.43_MD590_1_0054_lossless_alignedTo_MD590-N47-2015.09.12-05.32.06_MD590_2_0140_cropped_features.bp\n",
      "/shared/CSHL_patch_features/inception-bn-blue/MD590/MD590_lossless_alignedTo_MD590-N47-2015.09.12-05.32.06_MD590_2_0140_cropped_gray/MD590-N18-2015.08.03-18.09.43_MD590_1_0054_lossless_alignedTo_MD590-N47-2015.09.12-05.32.06_MD590_2_0140_cropped_gray_features.bp\n",
      "aws s3 cp s3://mousebrainatlas-data/CSHL_patch_features/inception-bn-blue/MD590/MD590-N18-2015.08.03-18.09.43_MD590_1_0054_lossless_alignedTo_MD590-N47-2015.09.12-05.32.06_MD590_2_0140_cropped/MD590-N18-2015.08.03-18.09.43_MD590_1_0054_lossless_alignedTo_MD590-N47-2015.09.12-05.32.06_MD590_2_0140_cropped_features.bp s3://mousebrainatlas-data/CSHL_patch_features/inception-bn-blue/MD590/MD590_lossless_alignedTo_MD590-N47-2015.09.12-05.32.06_MD590_2_0140_cropped_gray/MD590-N18-2015.08.03-18.09.43_MD590_1_0054_lossless_alignedTo_MD590-N47-2015.09.12-05.32.06_MD590_2_0140_cropped_gray_features.bp\n"
     ]
    },
    {
     "name": "stderr",
     "output_type": "stream",
     "text": [
      "Child returned 0\n"
     ]
    },
    {
     "name": "stdout",
     "output_type": "stream",
     "text": [
      "/shared/CSHL_patch_features/inception-bn-blue/MD590/MD590-N18-2015.08.03-18.09.43_MD590_1_0054_lossless_alignedTo_MD590-N47-2015.09.12-05.32.06_MD590_2_0140_cropped/MD590-N18-2015.08.03-18.09.43_MD590_1_0054_lossless_alignedTo_MD590-N47-2015.09.12-05.32.06_MD590_2_0140_cropped_patch_locations.txt\n",
      "/shared/CSHL_patch_features/inception-bn-blue/MD590/MD590_lossless_alignedTo_MD590-N47-2015.09.12-05.32.06_MD590_2_0140_cropped_gray/MD590-N18-2015.08.03-18.09.43_MD590_1_0054_lossless_alignedTo_MD590-N47-2015.09.12-05.32.06_MD590_2_0140_cropped_gray_patch_locations.txt\n",
      "aws s3 cp s3://mousebrainatlas-data/CSHL_patch_features/inception-bn-blue/MD590/MD590-N18-2015.08.03-18.09.43_MD590_1_0054_lossless_alignedTo_MD590-N47-2015.09.12-05.32.06_MD590_2_0140_cropped/MD590-N18-2015.08.03-18.09.43_MD590_1_0054_lossless_alignedTo_MD590-N47-2015.09.12-05.32.06_MD590_2_0140_cropped_patch_locations.txt s3://mousebrainatlas-data/CSHL_patch_features/inception-bn-blue/MD590/MD590_lossless_alignedTo_MD590-N47-2015.09.12-05.32.06_MD590_2_0140_cropped_gray/MD590-N18-2015.08.03-18.09.43_MD590_1_0054_lossless_alignedTo_MD590-N47-2015.09.12-05.32.06_MD590_2_0140_cropped_gray_patch_locations.txt\n"
     ]
    },
    {
     "name": "stderr",
     "output_type": "stream",
     "text": [
      "Child returned 0\n"
     ]
    },
    {
     "name": "stdout",
     "output_type": "stream",
     "text": [
      "/shared/CSHL_patch_features/inception-bn-blue/MD590/MD590-IHC18-2015.08.10-19.13.20_MD590_1_0054_lossless_alignedTo_MD590-N47-2015.09.12-05.32.06_MD590_2_0140_cropped/MD590-IHC18-2015.08.10-19.13.20_MD590_1_0054_lossless_alignedTo_MD590-N47-2015.09.12-05.32.06_MD590_2_0140_cropped_features.bp\n",
      "/shared/CSHL_patch_features/inception-bn-blue/MD590/MD590_lossless_alignedTo_MD590-N47-2015.09.12-05.32.06_MD590_2_0140_cropped_gray/MD590-IHC18-2015.08.10-19.13.20_MD590_1_0054_lossless_alignedTo_MD590-N47-2015.09.12-05.32.06_MD590_2_0140_cropped_gray_features.bp\n",
      "aws s3 cp s3://mousebrainatlas-data/CSHL_patch_features/inception-bn-blue/MD590/MD590-IHC18-2015.08.10-19.13.20_MD590_1_0054_lossless_alignedTo_MD590-N47-2015.09.12-05.32.06_MD590_2_0140_cropped/MD590-IHC18-2015.08.10-19.13.20_MD590_1_0054_lossless_alignedTo_MD590-N47-2015.09.12-05.32.06_MD590_2_0140_cropped_features.bp s3://mousebrainatlas-data/CSHL_patch_features/inception-bn-blue/MD590/MD590_lossless_alignedTo_MD590-N47-2015.09.12-05.32.06_MD590_2_0140_cropped_gray/MD590-IHC18-2015.08.10-19.13.20_MD590_1_0054_lossless_alignedTo_MD590-N47-2015.09.12-05.32.06_MD590_2_0140_cropped_gray_features.bp\n"
     ]
    },
    {
     "name": "stderr",
     "output_type": "stream",
     "text": [
      "Child returned 0\n"
     ]
    },
    {
     "name": "stdout",
     "output_type": "stream",
     "text": [
      "/shared/CSHL_patch_features/inception-bn-blue/MD590/MD590-IHC18-2015.08.10-19.13.20_MD590_1_0054_lossless_alignedTo_MD590-N47-2015.09.12-05.32.06_MD590_2_0140_cropped/MD590-IHC18-2015.08.10-19.13.20_MD590_1_0054_lossless_alignedTo_MD590-N47-2015.09.12-05.32.06_MD590_2_0140_cropped_patch_locations.txt\n",
      "/shared/CSHL_patch_features/inception-bn-blue/MD590/MD590_lossless_alignedTo_MD590-N47-2015.09.12-05.32.06_MD590_2_0140_cropped_gray/MD590-IHC18-2015.08.10-19.13.20_MD590_1_0054_lossless_alignedTo_MD590-N47-2015.09.12-05.32.06_MD590_2_0140_cropped_gray_patch_locations.txt\n",
      "aws s3 cp s3://mousebrainatlas-data/CSHL_patch_features/inception-bn-blue/MD590/MD590-IHC18-2015.08.10-19.13.20_MD590_1_0054_lossless_alignedTo_MD590-N47-2015.09.12-05.32.06_MD590_2_0140_cropped/MD590-IHC18-2015.08.10-19.13.20_MD590_1_0054_lossless_alignedTo_MD590-N47-2015.09.12-05.32.06_MD590_2_0140_cropped_patch_locations.txt s3://mousebrainatlas-data/CSHL_patch_features/inception-bn-blue/MD590/MD590_lossless_alignedTo_MD590-N47-2015.09.12-05.32.06_MD590_2_0140_cropped_gray/MD590-IHC18-2015.08.10-19.13.20_MD590_1_0054_lossless_alignedTo_MD590-N47-2015.09.12-05.32.06_MD590_2_0140_cropped_gray_patch_locations.txt\n"
     ]
    },
    {
     "name": "stderr",
     "output_type": "stream",
     "text": [
      "Child returned 0\n"
     ]
    },
    {
     "name": "stdout",
     "output_type": "stream",
     "text": [
      "/shared/CSHL_patch_features/inception-bn-blue/MD590/MD590-N19-2015.08.03-18.13.45_MD590_3_0055_lossless_alignedTo_MD590-N47-2015.09.12-05.32.06_MD590_2_0140_cropped/MD590-N19-2015.08.03-18.13.45_MD590_3_0055_lossless_alignedTo_MD590-N47-2015.09.12-05.32.06_MD590_2_0140_cropped_features.bp\n",
      "/shared/CSHL_patch_features/inception-bn-blue/MD590/MD590_lossless_alignedTo_MD590-N47-2015.09.12-05.32.06_MD590_2_0140_cropped_gray/MD590-N19-2015.08.03-18.13.45_MD590_3_0055_lossless_alignedTo_MD590-N47-2015.09.12-05.32.06_MD590_2_0140_cropped_gray_features.bp\n",
      "aws s3 cp s3://mousebrainatlas-data/CSHL_patch_features/inception-bn-blue/MD590/MD590-N19-2015.08.03-18.13.45_MD590_3_0055_lossless_alignedTo_MD590-N47-2015.09.12-05.32.06_MD590_2_0140_cropped/MD590-N19-2015.08.03-18.13.45_MD590_3_0055_lossless_alignedTo_MD590-N47-2015.09.12-05.32.06_MD590_2_0140_cropped_features.bp s3://mousebrainatlas-data/CSHL_patch_features/inception-bn-blue/MD590/MD590_lossless_alignedTo_MD590-N47-2015.09.12-05.32.06_MD590_2_0140_cropped_gray/MD590-N19-2015.08.03-18.13.45_MD590_3_0055_lossless_alignedTo_MD590-N47-2015.09.12-05.32.06_MD590_2_0140_cropped_gray_features.bp\n"
     ]
    },
    {
     "name": "stderr",
     "output_type": "stream",
     "text": [
      "Child returned 0\n"
     ]
    },
    {
     "name": "stdout",
     "output_type": "stream",
     "text": [
      "/shared/CSHL_patch_features/inception-bn-blue/MD590/MD590-N19-2015.08.03-18.13.45_MD590_3_0055_lossless_alignedTo_MD590-N47-2015.09.12-05.32.06_MD590_2_0140_cropped/MD590-N19-2015.08.03-18.13.45_MD590_3_0055_lossless_alignedTo_MD590-N47-2015.09.12-05.32.06_MD590_2_0140_cropped_patch_locations.txt\n",
      "/shared/CSHL_patch_features/inception-bn-blue/MD590/MD590_lossless_alignedTo_MD590-N47-2015.09.12-05.32.06_MD590_2_0140_cropped_gray/MD590-N19-2015.08.03-18.13.45_MD590_3_0055_lossless_alignedTo_MD590-N47-2015.09.12-05.32.06_MD590_2_0140_cropped_gray_patch_locations.txt\n",
      "aws s3 cp s3://mousebrainatlas-data/CSHL_patch_features/inception-bn-blue/MD590/MD590-N19-2015.08.03-18.13.45_MD590_3_0055_lossless_alignedTo_MD590-N47-2015.09.12-05.32.06_MD590_2_0140_cropped/MD590-N19-2015.08.03-18.13.45_MD590_3_0055_lossless_alignedTo_MD590-N47-2015.09.12-05.32.06_MD590_2_0140_cropped_patch_locations.txt s3://mousebrainatlas-data/CSHL_patch_features/inception-bn-blue/MD590/MD590_lossless_alignedTo_MD590-N47-2015.09.12-05.32.06_MD590_2_0140_cropped_gray/MD590-N19-2015.08.03-18.13.45_MD590_3_0055_lossless_alignedTo_MD590-N47-2015.09.12-05.32.06_MD590_2_0140_cropped_gray_patch_locations.txt\n"
     ]
    },
    {
     "name": "stderr",
     "output_type": "stream",
     "text": [
      "Child returned 0\n"
     ]
    },
    {
     "name": "stdout",
     "output_type": "stream",
     "text": [
      "/shared/CSHL_patch_features/inception-bn-blue/MD590/MD590-N19-2015.08.03-18.13.45_MD590_2_0056_lossless_alignedTo_MD590-N47-2015.09.12-05.32.06_MD590_2_0140_cropped/MD590-N19-2015.08.03-18.13.45_MD590_2_0056_lossless_alignedTo_MD590-N47-2015.09.12-05.32.06_MD590_2_0140_cropped_features.bp\n",
      "/shared/CSHL_patch_features/inception-bn-blue/MD590/MD590_lossless_alignedTo_MD590-N47-2015.09.12-05.32.06_MD590_2_0140_cropped_gray/MD590-N19-2015.08.03-18.13.45_MD590_2_0056_lossless_alignedTo_MD590-N47-2015.09.12-05.32.06_MD590_2_0140_cropped_gray_features.bp\n",
      "aws s3 cp s3://mousebrainatlas-data/CSHL_patch_features/inception-bn-blue/MD590/MD590-N19-2015.08.03-18.13.45_MD590_2_0056_lossless_alignedTo_MD590-N47-2015.09.12-05.32.06_MD590_2_0140_cropped/MD590-N19-2015.08.03-18.13.45_MD590_2_0056_lossless_alignedTo_MD590-N47-2015.09.12-05.32.06_MD590_2_0140_cropped_features.bp s3://mousebrainatlas-data/CSHL_patch_features/inception-bn-blue/MD590/MD590_lossless_alignedTo_MD590-N47-2015.09.12-05.32.06_MD590_2_0140_cropped_gray/MD590-N19-2015.08.03-18.13.45_MD590_2_0056_lossless_alignedTo_MD590-N47-2015.09.12-05.32.06_MD590_2_0140_cropped_gray_features.bp\n"
     ]
    },
    {
     "name": "stderr",
     "output_type": "stream",
     "text": [
      "Child returned 0\n"
     ]
    },
    {
     "name": "stdout",
     "output_type": "stream",
     "text": [
      "/shared/CSHL_patch_features/inception-bn-blue/MD590/MD590-N19-2015.08.03-18.13.45_MD590_2_0056_lossless_alignedTo_MD590-N47-2015.09.12-05.32.06_MD590_2_0140_cropped/MD590-N19-2015.08.03-18.13.45_MD590_2_0056_lossless_alignedTo_MD590-N47-2015.09.12-05.32.06_MD590_2_0140_cropped_patch_locations.txt\n",
      "/shared/CSHL_patch_features/inception-bn-blue/MD590/MD590_lossless_alignedTo_MD590-N47-2015.09.12-05.32.06_MD590_2_0140_cropped_gray/MD590-N19-2015.08.03-18.13.45_MD590_2_0056_lossless_alignedTo_MD590-N47-2015.09.12-05.32.06_MD590_2_0140_cropped_gray_patch_locations.txt\n",
      "aws s3 cp s3://mousebrainatlas-data/CSHL_patch_features/inception-bn-blue/MD590/MD590-N19-2015.08.03-18.13.45_MD590_2_0056_lossless_alignedTo_MD590-N47-2015.09.12-05.32.06_MD590_2_0140_cropped/MD590-N19-2015.08.03-18.13.45_MD590_2_0056_lossless_alignedTo_MD590-N47-2015.09.12-05.32.06_MD590_2_0140_cropped_patch_locations.txt s3://mousebrainatlas-data/CSHL_patch_features/inception-bn-blue/MD590/MD590_lossless_alignedTo_MD590-N47-2015.09.12-05.32.06_MD590_2_0140_cropped_gray/MD590-N19-2015.08.03-18.13.45_MD590_2_0056_lossless_alignedTo_MD590-N47-2015.09.12-05.32.06_MD590_2_0140_cropped_gray_patch_locations.txt\n"
     ]
    },
    {
     "name": "stderr",
     "output_type": "stream",
     "text": [
      "Child returned 0\n"
     ]
    },
    {
     "name": "stdout",
     "output_type": "stream",
     "text": [
      "/shared/CSHL_patch_features/inception-bn-blue/MD590/MD590-IHC19-2015.08.10-19.17.32_MD590_2_0056_lossless_alignedTo_MD590-N47-2015.09.12-05.32.06_MD590_2_0140_cropped/MD590-IHC19-2015.08.10-19.17.32_MD590_2_0056_lossless_alignedTo_MD590-N47-2015.09.12-05.32.06_MD590_2_0140_cropped_features.bp\n",
      "/shared/CSHL_patch_features/inception-bn-blue/MD590/MD590_lossless_alignedTo_MD590-N47-2015.09.12-05.32.06_MD590_2_0140_cropped_gray/MD590-IHC19-2015.08.10-19.17.32_MD590_2_0056_lossless_alignedTo_MD590-N47-2015.09.12-05.32.06_MD590_2_0140_cropped_gray_features.bp\n",
      "aws s3 cp s3://mousebrainatlas-data/CSHL_patch_features/inception-bn-blue/MD590/MD590-IHC19-2015.08.10-19.17.32_MD590_2_0056_lossless_alignedTo_MD590-N47-2015.09.12-05.32.06_MD590_2_0140_cropped/MD590-IHC19-2015.08.10-19.17.32_MD590_2_0056_lossless_alignedTo_MD590-N47-2015.09.12-05.32.06_MD590_2_0140_cropped_features.bp s3://mousebrainatlas-data/CSHL_patch_features/inception-bn-blue/MD590/MD590_lossless_alignedTo_MD590-N47-2015.09.12-05.32.06_MD590_2_0140_cropped_gray/MD590-IHC19-2015.08.10-19.17.32_MD590_2_0056_lossless_alignedTo_MD590-N47-2015.09.12-05.32.06_MD590_2_0140_cropped_gray_features.bp\n"
     ]
    },
    {
     "name": "stderr",
     "output_type": "stream",
     "text": [
      "Child returned 0\n"
     ]
    },
    {
     "name": "stdout",
     "output_type": "stream",
     "text": [
      "/shared/CSHL_patch_features/inception-bn-blue/MD590/MD590-IHC19-2015.08.10-19.17.32_MD590_2_0056_lossless_alignedTo_MD590-N47-2015.09.12-05.32.06_MD590_2_0140_cropped/MD590-IHC19-2015.08.10-19.17.32_MD590_2_0056_lossless_alignedTo_MD590-N47-2015.09.12-05.32.06_MD590_2_0140_cropped_patch_locations.txt\n",
      "/shared/CSHL_patch_features/inception-bn-blue/MD590/MD590_lossless_alignedTo_MD590-N47-2015.09.12-05.32.06_MD590_2_0140_cropped_gray/MD590-IHC19-2015.08.10-19.17.32_MD590_2_0056_lossless_alignedTo_MD590-N47-2015.09.12-05.32.06_MD590_2_0140_cropped_gray_patch_locations.txt\n",
      "aws s3 cp s3://mousebrainatlas-data/CSHL_patch_features/inception-bn-blue/MD590/MD590-IHC19-2015.08.10-19.17.32_MD590_2_0056_lossless_alignedTo_MD590-N47-2015.09.12-05.32.06_MD590_2_0140_cropped/MD590-IHC19-2015.08.10-19.17.32_MD590_2_0056_lossless_alignedTo_MD590-N47-2015.09.12-05.32.06_MD590_2_0140_cropped_patch_locations.txt s3://mousebrainatlas-data/CSHL_patch_features/inception-bn-blue/MD590/MD590_lossless_alignedTo_MD590-N47-2015.09.12-05.32.06_MD590_2_0140_cropped_gray/MD590-IHC19-2015.08.10-19.17.32_MD590_2_0056_lossless_alignedTo_MD590-N47-2015.09.12-05.32.06_MD590_2_0140_cropped_gray_patch_locations.txt\n"
     ]
    },
    {
     "name": "stderr",
     "output_type": "stream",
     "text": [
      "Child returned 0\n"
     ]
    },
    {
     "name": "stdout",
     "output_type": "stream",
     "text": [
      "/shared/CSHL_patch_features/inception-bn-blue/MD590/MD590-N19-2015.08.03-18.13.45_MD590_1_0057_lossless_alignedTo_MD590-N47-2015.09.12-05.32.06_MD590_2_0140_cropped/MD590-N19-2015.08.03-18.13.45_MD590_1_0057_lossless_alignedTo_MD590-N47-2015.09.12-05.32.06_MD590_2_0140_cropped_features.bp\n",
      "/shared/CSHL_patch_features/inception-bn-blue/MD590/MD590_lossless_alignedTo_MD590-N47-2015.09.12-05.32.06_MD590_2_0140_cropped_gray/MD590-N19-2015.08.03-18.13.45_MD590_1_0057_lossless_alignedTo_MD590-N47-2015.09.12-05.32.06_MD590_2_0140_cropped_gray_features.bp\n",
      "aws s3 cp s3://mousebrainatlas-data/CSHL_patch_features/inception-bn-blue/MD590/MD590-N19-2015.08.03-18.13.45_MD590_1_0057_lossless_alignedTo_MD590-N47-2015.09.12-05.32.06_MD590_2_0140_cropped/MD590-N19-2015.08.03-18.13.45_MD590_1_0057_lossless_alignedTo_MD590-N47-2015.09.12-05.32.06_MD590_2_0140_cropped_features.bp s3://mousebrainatlas-data/CSHL_patch_features/inception-bn-blue/MD590/MD590_lossless_alignedTo_MD590-N47-2015.09.12-05.32.06_MD590_2_0140_cropped_gray/MD590-N19-2015.08.03-18.13.45_MD590_1_0057_lossless_alignedTo_MD590-N47-2015.09.12-05.32.06_MD590_2_0140_cropped_gray_features.bp\n"
     ]
    },
    {
     "name": "stderr",
     "output_type": "stream",
     "text": [
      "Child returned 0\n"
     ]
    },
    {
     "name": "stdout",
     "output_type": "stream",
     "text": [
      "/shared/CSHL_patch_features/inception-bn-blue/MD590/MD590-N19-2015.08.03-18.13.45_MD590_1_0057_lossless_alignedTo_MD590-N47-2015.09.12-05.32.06_MD590_2_0140_cropped/MD590-N19-2015.08.03-18.13.45_MD590_1_0057_lossless_alignedTo_MD590-N47-2015.09.12-05.32.06_MD590_2_0140_cropped_patch_locations.txt\n",
      "/shared/CSHL_patch_features/inception-bn-blue/MD590/MD590_lossless_alignedTo_MD590-N47-2015.09.12-05.32.06_MD590_2_0140_cropped_gray/MD590-N19-2015.08.03-18.13.45_MD590_1_0057_lossless_alignedTo_MD590-N47-2015.09.12-05.32.06_MD590_2_0140_cropped_gray_patch_locations.txt\n",
      "aws s3 cp s3://mousebrainatlas-data/CSHL_patch_features/inception-bn-blue/MD590/MD590-N19-2015.08.03-18.13.45_MD590_1_0057_lossless_alignedTo_MD590-N47-2015.09.12-05.32.06_MD590_2_0140_cropped/MD590-N19-2015.08.03-18.13.45_MD590_1_0057_lossless_alignedTo_MD590-N47-2015.09.12-05.32.06_MD590_2_0140_cropped_patch_locations.txt s3://mousebrainatlas-data/CSHL_patch_features/inception-bn-blue/MD590/MD590_lossless_alignedTo_MD590-N47-2015.09.12-05.32.06_MD590_2_0140_cropped_gray/MD590-N19-2015.08.03-18.13.45_MD590_1_0057_lossless_alignedTo_MD590-N47-2015.09.12-05.32.06_MD590_2_0140_cropped_gray_patch_locations.txt\n"
     ]
    },
    {
     "name": "stderr",
     "output_type": "stream",
     "text": [
      "Child returned 0\n"
     ]
    },
    {
     "name": "stdout",
     "output_type": "stream",
     "text": [
      "/shared/CSHL_patch_features/inception-bn-blue/MD590/MD590-IHC19-2015.08.10-19.17.32_MD590_1_0057_lossless_alignedTo_MD590-N47-2015.09.12-05.32.06_MD590_2_0140_cropped/MD590-IHC19-2015.08.10-19.17.32_MD590_1_0057_lossless_alignedTo_MD590-N47-2015.09.12-05.32.06_MD590_2_0140_cropped_features.bp\n",
      "/shared/CSHL_patch_features/inception-bn-blue/MD590/MD590_lossless_alignedTo_MD590-N47-2015.09.12-05.32.06_MD590_2_0140_cropped_gray/MD590-IHC19-2015.08.10-19.17.32_MD590_1_0057_lossless_alignedTo_MD590-N47-2015.09.12-05.32.06_MD590_2_0140_cropped_gray_features.bp\n",
      "aws s3 cp s3://mousebrainatlas-data/CSHL_patch_features/inception-bn-blue/MD590/MD590-IHC19-2015.08.10-19.17.32_MD590_1_0057_lossless_alignedTo_MD590-N47-2015.09.12-05.32.06_MD590_2_0140_cropped/MD590-IHC19-2015.08.10-19.17.32_MD590_1_0057_lossless_alignedTo_MD590-N47-2015.09.12-05.32.06_MD590_2_0140_cropped_features.bp s3://mousebrainatlas-data/CSHL_patch_features/inception-bn-blue/MD590/MD590_lossless_alignedTo_MD590-N47-2015.09.12-05.32.06_MD590_2_0140_cropped_gray/MD590-IHC19-2015.08.10-19.17.32_MD590_1_0057_lossless_alignedTo_MD590-N47-2015.09.12-05.32.06_MD590_2_0140_cropped_gray_features.bp\n"
     ]
    },
    {
     "name": "stderr",
     "output_type": "stream",
     "text": [
      "Child returned 0\n"
     ]
    },
    {
     "name": "stdout",
     "output_type": "stream",
     "text": [
      "/shared/CSHL_patch_features/inception-bn-blue/MD590/MD590-IHC19-2015.08.10-19.17.32_MD590_1_0057_lossless_alignedTo_MD590-N47-2015.09.12-05.32.06_MD590_2_0140_cropped/MD590-IHC19-2015.08.10-19.17.32_MD590_1_0057_lossless_alignedTo_MD590-N47-2015.09.12-05.32.06_MD590_2_0140_cropped_patch_locations.txt\n",
      "/shared/CSHL_patch_features/inception-bn-blue/MD590/MD590_lossless_alignedTo_MD590-N47-2015.09.12-05.32.06_MD590_2_0140_cropped_gray/MD590-IHC19-2015.08.10-19.17.32_MD590_1_0057_lossless_alignedTo_MD590-N47-2015.09.12-05.32.06_MD590_2_0140_cropped_gray_patch_locations.txt\n",
      "aws s3 cp s3://mousebrainatlas-data/CSHL_patch_features/inception-bn-blue/MD590/MD590-IHC19-2015.08.10-19.17.32_MD590_1_0057_lossless_alignedTo_MD590-N47-2015.09.12-05.32.06_MD590_2_0140_cropped/MD590-IHC19-2015.08.10-19.17.32_MD590_1_0057_lossless_alignedTo_MD590-N47-2015.09.12-05.32.06_MD590_2_0140_cropped_patch_locations.txt s3://mousebrainatlas-data/CSHL_patch_features/inception-bn-blue/MD590/MD590_lossless_alignedTo_MD590-N47-2015.09.12-05.32.06_MD590_2_0140_cropped_gray/MD590-IHC19-2015.08.10-19.17.32_MD590_1_0057_lossless_alignedTo_MD590-N47-2015.09.12-05.32.06_MD590_2_0140_cropped_gray_patch_locations.txt\n"
     ]
    },
    {
     "name": "stderr",
     "output_type": "stream",
     "text": [
      "Child returned 0\n"
     ]
    },
    {
     "name": "stdout",
     "output_type": "stream",
     "text": [
      "/shared/CSHL_patch_features/inception-bn-blue/MD590/MD590-N20-2015.08.03-18.17.51_MD590_3_0058_lossless_alignedTo_MD590-N47-2015.09.12-05.32.06_MD590_2_0140_cropped/MD590-N20-2015.08.03-18.17.51_MD590_3_0058_lossless_alignedTo_MD590-N47-2015.09.12-05.32.06_MD590_2_0140_cropped_features.bp\n",
      "/shared/CSHL_patch_features/inception-bn-blue/MD590/MD590_lossless_alignedTo_MD590-N47-2015.09.12-05.32.06_MD590_2_0140_cropped_gray/MD590-N20-2015.08.03-18.17.51_MD590_3_0058_lossless_alignedTo_MD590-N47-2015.09.12-05.32.06_MD590_2_0140_cropped_gray_features.bp\n",
      "aws s3 cp s3://mousebrainatlas-data/CSHL_patch_features/inception-bn-blue/MD590/MD590-N20-2015.08.03-18.17.51_MD590_3_0058_lossless_alignedTo_MD590-N47-2015.09.12-05.32.06_MD590_2_0140_cropped/MD590-N20-2015.08.03-18.17.51_MD590_3_0058_lossless_alignedTo_MD590-N47-2015.09.12-05.32.06_MD590_2_0140_cropped_features.bp s3://mousebrainatlas-data/CSHL_patch_features/inception-bn-blue/MD590/MD590_lossless_alignedTo_MD590-N47-2015.09.12-05.32.06_MD590_2_0140_cropped_gray/MD590-N20-2015.08.03-18.17.51_MD590_3_0058_lossless_alignedTo_MD590-N47-2015.09.12-05.32.06_MD590_2_0140_cropped_gray_features.bp\n"
     ]
    },
    {
     "name": "stderr",
     "output_type": "stream",
     "text": [
      "Child returned 0\n"
     ]
    },
    {
     "name": "stdout",
     "output_type": "stream",
     "text": [
      "/shared/CSHL_patch_features/inception-bn-blue/MD590/MD590-N20-2015.08.03-18.17.51_MD590_3_0058_lossless_alignedTo_MD590-N47-2015.09.12-05.32.06_MD590_2_0140_cropped/MD590-N20-2015.08.03-18.17.51_MD590_3_0058_lossless_alignedTo_MD590-N47-2015.09.12-05.32.06_MD590_2_0140_cropped_patch_locations.txt\n",
      "/shared/CSHL_patch_features/inception-bn-blue/MD590/MD590_lossless_alignedTo_MD590-N47-2015.09.12-05.32.06_MD590_2_0140_cropped_gray/MD590-N20-2015.08.03-18.17.51_MD590_3_0058_lossless_alignedTo_MD590-N47-2015.09.12-05.32.06_MD590_2_0140_cropped_gray_patch_locations.txt\n",
      "aws s3 cp s3://mousebrainatlas-data/CSHL_patch_features/inception-bn-blue/MD590/MD590-N20-2015.08.03-18.17.51_MD590_3_0058_lossless_alignedTo_MD590-N47-2015.09.12-05.32.06_MD590_2_0140_cropped/MD590-N20-2015.08.03-18.17.51_MD590_3_0058_lossless_alignedTo_MD590-N47-2015.09.12-05.32.06_MD590_2_0140_cropped_patch_locations.txt s3://mousebrainatlas-data/CSHL_patch_features/inception-bn-blue/MD590/MD590_lossless_alignedTo_MD590-N47-2015.09.12-05.32.06_MD590_2_0140_cropped_gray/MD590-N20-2015.08.03-18.17.51_MD590_3_0058_lossless_alignedTo_MD590-N47-2015.09.12-05.32.06_MD590_2_0140_cropped_gray_patch_locations.txt\n"
     ]
    },
    {
     "name": "stderr",
     "output_type": "stream",
     "text": [
      "Child returned 0\n"
     ]
    },
    {
     "name": "stdout",
     "output_type": "stream",
     "text": [
      "/shared/CSHL_patch_features/inception-bn-blue/MD590/MD590-IHC20-2015.08.10-19.21.44_MD590_3_0058_lossless_alignedTo_MD590-N47-2015.09.12-05.32.06_MD590_2_0140_cropped/MD590-IHC20-2015.08.10-19.21.44_MD590_3_0058_lossless_alignedTo_MD590-N47-2015.09.12-05.32.06_MD590_2_0140_cropped_features.bp\n",
      "/shared/CSHL_patch_features/inception-bn-blue/MD590/MD590_lossless_alignedTo_MD590-N47-2015.09.12-05.32.06_MD590_2_0140_cropped_gray/MD590-IHC20-2015.08.10-19.21.44_MD590_3_0058_lossless_alignedTo_MD590-N47-2015.09.12-05.32.06_MD590_2_0140_cropped_gray_features.bp\n",
      "aws s3 cp s3://mousebrainatlas-data/CSHL_patch_features/inception-bn-blue/MD590/MD590-IHC20-2015.08.10-19.21.44_MD590_3_0058_lossless_alignedTo_MD590-N47-2015.09.12-05.32.06_MD590_2_0140_cropped/MD590-IHC20-2015.08.10-19.21.44_MD590_3_0058_lossless_alignedTo_MD590-N47-2015.09.12-05.32.06_MD590_2_0140_cropped_features.bp s3://mousebrainatlas-data/CSHL_patch_features/inception-bn-blue/MD590/MD590_lossless_alignedTo_MD590-N47-2015.09.12-05.32.06_MD590_2_0140_cropped_gray/MD590-IHC20-2015.08.10-19.21.44_MD590_3_0058_lossless_alignedTo_MD590-N47-2015.09.12-05.32.06_MD590_2_0140_cropped_gray_features.bp\n"
     ]
    },
    {
     "name": "stderr",
     "output_type": "stream",
     "text": [
      "Child returned 0\n"
     ]
    },
    {
     "name": "stdout",
     "output_type": "stream",
     "text": [
      "/shared/CSHL_patch_features/inception-bn-blue/MD590/MD590-IHC20-2015.08.10-19.21.44_MD590_3_0058_lossless_alignedTo_MD590-N47-2015.09.12-05.32.06_MD590_2_0140_cropped/MD590-IHC20-2015.08.10-19.21.44_MD590_3_0058_lossless_alignedTo_MD590-N47-2015.09.12-05.32.06_MD590_2_0140_cropped_patch_locations.txt\n",
      "/shared/CSHL_patch_features/inception-bn-blue/MD590/MD590_lossless_alignedTo_MD590-N47-2015.09.12-05.32.06_MD590_2_0140_cropped_gray/MD590-IHC20-2015.08.10-19.21.44_MD590_3_0058_lossless_alignedTo_MD590-N47-2015.09.12-05.32.06_MD590_2_0140_cropped_gray_patch_locations.txt\n",
      "aws s3 cp s3://mousebrainatlas-data/CSHL_patch_features/inception-bn-blue/MD590/MD590-IHC20-2015.08.10-19.21.44_MD590_3_0058_lossless_alignedTo_MD590-N47-2015.09.12-05.32.06_MD590_2_0140_cropped/MD590-IHC20-2015.08.10-19.21.44_MD590_3_0058_lossless_alignedTo_MD590-N47-2015.09.12-05.32.06_MD590_2_0140_cropped_patch_locations.txt s3://mousebrainatlas-data/CSHL_patch_features/inception-bn-blue/MD590/MD590_lossless_alignedTo_MD590-N47-2015.09.12-05.32.06_MD590_2_0140_cropped_gray/MD590-IHC20-2015.08.10-19.21.44_MD590_3_0058_lossless_alignedTo_MD590-N47-2015.09.12-05.32.06_MD590_2_0140_cropped_gray_patch_locations.txt\n"
     ]
    },
    {
     "name": "stderr",
     "output_type": "stream",
     "text": [
      "Child returned 0\n"
     ]
    },
    {
     "name": "stdout",
     "output_type": "stream",
     "text": [
      "/shared/CSHL_patch_features/inception-bn-blue/MD590/MD590-N20-2015.08.03-18.17.51_MD590_2_0059_lossless_alignedTo_MD590-N47-2015.09.12-05.32.06_MD590_2_0140_cropped/MD590-N20-2015.08.03-18.17.51_MD590_2_0059_lossless_alignedTo_MD590-N47-2015.09.12-05.32.06_MD590_2_0140_cropped_features.bp\n",
      "/shared/CSHL_patch_features/inception-bn-blue/MD590/MD590_lossless_alignedTo_MD590-N47-2015.09.12-05.32.06_MD590_2_0140_cropped_gray/MD590-N20-2015.08.03-18.17.51_MD590_2_0059_lossless_alignedTo_MD590-N47-2015.09.12-05.32.06_MD590_2_0140_cropped_gray_features.bp\n",
      "aws s3 cp s3://mousebrainatlas-data/CSHL_patch_features/inception-bn-blue/MD590/MD590-N20-2015.08.03-18.17.51_MD590_2_0059_lossless_alignedTo_MD590-N47-2015.09.12-05.32.06_MD590_2_0140_cropped/MD590-N20-2015.08.03-18.17.51_MD590_2_0059_lossless_alignedTo_MD590-N47-2015.09.12-05.32.06_MD590_2_0140_cropped_features.bp s3://mousebrainatlas-data/CSHL_patch_features/inception-bn-blue/MD590/MD590_lossless_alignedTo_MD590-N47-2015.09.12-05.32.06_MD590_2_0140_cropped_gray/MD590-N20-2015.08.03-18.17.51_MD590_2_0059_lossless_alignedTo_MD590-N47-2015.09.12-05.32.06_MD590_2_0140_cropped_gray_features.bp\n"
     ]
    },
    {
     "name": "stderr",
     "output_type": "stream",
     "text": [
      "Child returned 0\n"
     ]
    },
    {
     "name": "stdout",
     "output_type": "stream",
     "text": [
      "/shared/CSHL_patch_features/inception-bn-blue/MD590/MD590-N20-2015.08.03-18.17.51_MD590_2_0059_lossless_alignedTo_MD590-N47-2015.09.12-05.32.06_MD590_2_0140_cropped/MD590-N20-2015.08.03-18.17.51_MD590_2_0059_lossless_alignedTo_MD590-N47-2015.09.12-05.32.06_MD590_2_0140_cropped_patch_locations.txt\n",
      "/shared/CSHL_patch_features/inception-bn-blue/MD590/MD590_lossless_alignedTo_MD590-N47-2015.09.12-05.32.06_MD590_2_0140_cropped_gray/MD590-N20-2015.08.03-18.17.51_MD590_2_0059_lossless_alignedTo_MD590-N47-2015.09.12-05.32.06_MD590_2_0140_cropped_gray_patch_locations.txt\n",
      "aws s3 cp s3://mousebrainatlas-data/CSHL_patch_features/inception-bn-blue/MD590/MD590-N20-2015.08.03-18.17.51_MD590_2_0059_lossless_alignedTo_MD590-N47-2015.09.12-05.32.06_MD590_2_0140_cropped/MD590-N20-2015.08.03-18.17.51_MD590_2_0059_lossless_alignedTo_MD590-N47-2015.09.12-05.32.06_MD590_2_0140_cropped_patch_locations.txt s3://mousebrainatlas-data/CSHL_patch_features/inception-bn-blue/MD590/MD590_lossless_alignedTo_MD590-N47-2015.09.12-05.32.06_MD590_2_0140_cropped_gray/MD590-N20-2015.08.03-18.17.51_MD590_2_0059_lossless_alignedTo_MD590-N47-2015.09.12-05.32.06_MD590_2_0140_cropped_gray_patch_locations.txt\n"
     ]
    },
    {
     "name": "stderr",
     "output_type": "stream",
     "text": [
      "Child returned 0\n"
     ]
    },
    {
     "name": "stdout",
     "output_type": "stream",
     "text": [
      "/shared/CSHL_patch_features/inception-bn-blue/MD590/MD590-IHC20-2015.08.10-19.21.44_MD590_2_0059_lossless_alignedTo_MD590-N47-2015.09.12-05.32.06_MD590_2_0140_cropped/MD590-IHC20-2015.08.10-19.21.44_MD590_2_0059_lossless_alignedTo_MD590-N47-2015.09.12-05.32.06_MD590_2_0140_cropped_features.bp\n",
      "/shared/CSHL_patch_features/inception-bn-blue/MD590/MD590_lossless_alignedTo_MD590-N47-2015.09.12-05.32.06_MD590_2_0140_cropped_gray/MD590-IHC20-2015.08.10-19.21.44_MD590_2_0059_lossless_alignedTo_MD590-N47-2015.09.12-05.32.06_MD590_2_0140_cropped_gray_features.bp\n",
      "aws s3 cp s3://mousebrainatlas-data/CSHL_patch_features/inception-bn-blue/MD590/MD590-IHC20-2015.08.10-19.21.44_MD590_2_0059_lossless_alignedTo_MD590-N47-2015.09.12-05.32.06_MD590_2_0140_cropped/MD590-IHC20-2015.08.10-19.21.44_MD590_2_0059_lossless_alignedTo_MD590-N47-2015.09.12-05.32.06_MD590_2_0140_cropped_features.bp s3://mousebrainatlas-data/CSHL_patch_features/inception-bn-blue/MD590/MD590_lossless_alignedTo_MD590-N47-2015.09.12-05.32.06_MD590_2_0140_cropped_gray/MD590-IHC20-2015.08.10-19.21.44_MD590_2_0059_lossless_alignedTo_MD590-N47-2015.09.12-05.32.06_MD590_2_0140_cropped_gray_features.bp\n"
     ]
    },
    {
     "name": "stderr",
     "output_type": "stream",
     "text": [
      "Child returned 0\n"
     ]
    },
    {
     "name": "stdout",
     "output_type": "stream",
     "text": [
      "/shared/CSHL_patch_features/inception-bn-blue/MD590/MD590-IHC20-2015.08.10-19.21.44_MD590_2_0059_lossless_alignedTo_MD590-N47-2015.09.12-05.32.06_MD590_2_0140_cropped/MD590-IHC20-2015.08.10-19.21.44_MD590_2_0059_lossless_alignedTo_MD590-N47-2015.09.12-05.32.06_MD590_2_0140_cropped_patch_locations.txt\n",
      "/shared/CSHL_patch_features/inception-bn-blue/MD590/MD590_lossless_alignedTo_MD590-N47-2015.09.12-05.32.06_MD590_2_0140_cropped_gray/MD590-IHC20-2015.08.10-19.21.44_MD590_2_0059_lossless_alignedTo_MD590-N47-2015.09.12-05.32.06_MD590_2_0140_cropped_gray_patch_locations.txt\n",
      "aws s3 cp s3://mousebrainatlas-data/CSHL_patch_features/inception-bn-blue/MD590/MD590-IHC20-2015.08.10-19.21.44_MD590_2_0059_lossless_alignedTo_MD590-N47-2015.09.12-05.32.06_MD590_2_0140_cropped/MD590-IHC20-2015.08.10-19.21.44_MD590_2_0059_lossless_alignedTo_MD590-N47-2015.09.12-05.32.06_MD590_2_0140_cropped_patch_locations.txt s3://mousebrainatlas-data/CSHL_patch_features/inception-bn-blue/MD590/MD590_lossless_alignedTo_MD590-N47-2015.09.12-05.32.06_MD590_2_0140_cropped_gray/MD590-IHC20-2015.08.10-19.21.44_MD590_2_0059_lossless_alignedTo_MD590-N47-2015.09.12-05.32.06_MD590_2_0140_cropped_gray_patch_locations.txt\n"
     ]
    },
    {
     "name": "stderr",
     "output_type": "stream",
     "text": [
      "Child returned 0\n"
     ]
    },
    {
     "name": "stdout",
     "output_type": "stream",
     "text": [
      "/shared/CSHL_patch_features/inception-bn-blue/MD590/MD590-N20-2015.08.03-18.17.51_MD590_1_0060_lossless_alignedTo_MD590-N47-2015.09.12-05.32.06_MD590_2_0140_cropped/MD590-N20-2015.08.03-18.17.51_MD590_1_0060_lossless_alignedTo_MD590-N47-2015.09.12-05.32.06_MD590_2_0140_cropped_features.bp\n",
      "/shared/CSHL_patch_features/inception-bn-blue/MD590/MD590_lossless_alignedTo_MD590-N47-2015.09.12-05.32.06_MD590_2_0140_cropped_gray/MD590-N20-2015.08.03-18.17.51_MD590_1_0060_lossless_alignedTo_MD590-N47-2015.09.12-05.32.06_MD590_2_0140_cropped_gray_features.bp\n",
      "aws s3 cp s3://mousebrainatlas-data/CSHL_patch_features/inception-bn-blue/MD590/MD590-N20-2015.08.03-18.17.51_MD590_1_0060_lossless_alignedTo_MD590-N47-2015.09.12-05.32.06_MD590_2_0140_cropped/MD590-N20-2015.08.03-18.17.51_MD590_1_0060_lossless_alignedTo_MD590-N47-2015.09.12-05.32.06_MD590_2_0140_cropped_features.bp s3://mousebrainatlas-data/CSHL_patch_features/inception-bn-blue/MD590/MD590_lossless_alignedTo_MD590-N47-2015.09.12-05.32.06_MD590_2_0140_cropped_gray/MD590-N20-2015.08.03-18.17.51_MD590_1_0060_lossless_alignedTo_MD590-N47-2015.09.12-05.32.06_MD590_2_0140_cropped_gray_features.bp\n"
     ]
    },
    {
     "name": "stderr",
     "output_type": "stream",
     "text": [
      "Child returned 0\n"
     ]
    },
    {
     "name": "stdout",
     "output_type": "stream",
     "text": [
      "/shared/CSHL_patch_features/inception-bn-blue/MD590/MD590-N20-2015.08.03-18.17.51_MD590_1_0060_lossless_alignedTo_MD590-N47-2015.09.12-05.32.06_MD590_2_0140_cropped/MD590-N20-2015.08.03-18.17.51_MD590_1_0060_lossless_alignedTo_MD590-N47-2015.09.12-05.32.06_MD590_2_0140_cropped_patch_locations.txt\n",
      "/shared/CSHL_patch_features/inception-bn-blue/MD590/MD590_lossless_alignedTo_MD590-N47-2015.09.12-05.32.06_MD590_2_0140_cropped_gray/MD590-N20-2015.08.03-18.17.51_MD590_1_0060_lossless_alignedTo_MD590-N47-2015.09.12-05.32.06_MD590_2_0140_cropped_gray_patch_locations.txt\n",
      "aws s3 cp s3://mousebrainatlas-data/CSHL_patch_features/inception-bn-blue/MD590/MD590-N20-2015.08.03-18.17.51_MD590_1_0060_lossless_alignedTo_MD590-N47-2015.09.12-05.32.06_MD590_2_0140_cropped/MD590-N20-2015.08.03-18.17.51_MD590_1_0060_lossless_alignedTo_MD590-N47-2015.09.12-05.32.06_MD590_2_0140_cropped_patch_locations.txt s3://mousebrainatlas-data/CSHL_patch_features/inception-bn-blue/MD590/MD590_lossless_alignedTo_MD590-N47-2015.09.12-05.32.06_MD590_2_0140_cropped_gray/MD590-N20-2015.08.03-18.17.51_MD590_1_0060_lossless_alignedTo_MD590-N47-2015.09.12-05.32.06_MD590_2_0140_cropped_gray_patch_locations.txt\n"
     ]
    },
    {
     "name": "stderr",
     "output_type": "stream",
     "text": [
      "Child returned 0\n"
     ]
    },
    {
     "name": "stdout",
     "output_type": "stream",
     "text": [
      "/shared/CSHL_patch_features/inception-bn-blue/MD590/MD590-IHC20-2015.08.10-19.21.44_MD590_1_0060_lossless_alignedTo_MD590-N47-2015.09.12-05.32.06_MD590_2_0140_cropped/MD590-IHC20-2015.08.10-19.21.44_MD590_1_0060_lossless_alignedTo_MD590-N47-2015.09.12-05.32.06_MD590_2_0140_cropped_features.bp\n",
      "/shared/CSHL_patch_features/inception-bn-blue/MD590/MD590_lossless_alignedTo_MD590-N47-2015.09.12-05.32.06_MD590_2_0140_cropped_gray/MD590-IHC20-2015.08.10-19.21.44_MD590_1_0060_lossless_alignedTo_MD590-N47-2015.09.12-05.32.06_MD590_2_0140_cropped_gray_features.bp\n",
      "aws s3 cp s3://mousebrainatlas-data/CSHL_patch_features/inception-bn-blue/MD590/MD590-IHC20-2015.08.10-19.21.44_MD590_1_0060_lossless_alignedTo_MD590-N47-2015.09.12-05.32.06_MD590_2_0140_cropped/MD590-IHC20-2015.08.10-19.21.44_MD590_1_0060_lossless_alignedTo_MD590-N47-2015.09.12-05.32.06_MD590_2_0140_cropped_features.bp s3://mousebrainatlas-data/CSHL_patch_features/inception-bn-blue/MD590/MD590_lossless_alignedTo_MD590-N47-2015.09.12-05.32.06_MD590_2_0140_cropped_gray/MD590-IHC20-2015.08.10-19.21.44_MD590_1_0060_lossless_alignedTo_MD590-N47-2015.09.12-05.32.06_MD590_2_0140_cropped_gray_features.bp\n"
     ]
    },
    {
     "name": "stderr",
     "output_type": "stream",
     "text": [
      "Child returned 0\n"
     ]
    },
    {
     "name": "stdout",
     "output_type": "stream",
     "text": [
      "/shared/CSHL_patch_features/inception-bn-blue/MD590/MD590-IHC20-2015.08.10-19.21.44_MD590_1_0060_lossless_alignedTo_MD590-N47-2015.09.12-05.32.06_MD590_2_0140_cropped/MD590-IHC20-2015.08.10-19.21.44_MD590_1_0060_lossless_alignedTo_MD590-N47-2015.09.12-05.32.06_MD590_2_0140_cropped_patch_locations.txt\n",
      "/shared/CSHL_patch_features/inception-bn-blue/MD590/MD590_lossless_alignedTo_MD590-N47-2015.09.12-05.32.06_MD590_2_0140_cropped_gray/MD590-IHC20-2015.08.10-19.21.44_MD590_1_0060_lossless_alignedTo_MD590-N47-2015.09.12-05.32.06_MD590_2_0140_cropped_gray_patch_locations.txt\n",
      "aws s3 cp s3://mousebrainatlas-data/CSHL_patch_features/inception-bn-blue/MD590/MD590-IHC20-2015.08.10-19.21.44_MD590_1_0060_lossless_alignedTo_MD590-N47-2015.09.12-05.32.06_MD590_2_0140_cropped/MD590-IHC20-2015.08.10-19.21.44_MD590_1_0060_lossless_alignedTo_MD590-N47-2015.09.12-05.32.06_MD590_2_0140_cropped_patch_locations.txt s3://mousebrainatlas-data/CSHL_patch_features/inception-bn-blue/MD590/MD590_lossless_alignedTo_MD590-N47-2015.09.12-05.32.06_MD590_2_0140_cropped_gray/MD590-IHC20-2015.08.10-19.21.44_MD590_1_0060_lossless_alignedTo_MD590-N47-2015.09.12-05.32.06_MD590_2_0140_cropped_gray_patch_locations.txt\n"
     ]
    },
    {
     "name": "stderr",
     "output_type": "stream",
     "text": [
      "Child returned 0\n"
     ]
    },
    {
     "name": "stdout",
     "output_type": "stream",
     "text": [
      "/shared/CSHL_patch_features/inception-bn-blue/MD590/MD590-N21-2015.08.03-18.21.58_MD590_3_0061_lossless_alignedTo_MD590-N47-2015.09.12-05.32.06_MD590_2_0140_cropped/MD590-N21-2015.08.03-18.21.58_MD590_3_0061_lossless_alignedTo_MD590-N47-2015.09.12-05.32.06_MD590_2_0140_cropped_features.bp\n",
      "/shared/CSHL_patch_features/inception-bn-blue/MD590/MD590_lossless_alignedTo_MD590-N47-2015.09.12-05.32.06_MD590_2_0140_cropped_gray/MD590-N21-2015.08.03-18.21.58_MD590_3_0061_lossless_alignedTo_MD590-N47-2015.09.12-05.32.06_MD590_2_0140_cropped_gray_features.bp\n",
      "aws s3 cp s3://mousebrainatlas-data/CSHL_patch_features/inception-bn-blue/MD590/MD590-N21-2015.08.03-18.21.58_MD590_3_0061_lossless_alignedTo_MD590-N47-2015.09.12-05.32.06_MD590_2_0140_cropped/MD590-N21-2015.08.03-18.21.58_MD590_3_0061_lossless_alignedTo_MD590-N47-2015.09.12-05.32.06_MD590_2_0140_cropped_features.bp s3://mousebrainatlas-data/CSHL_patch_features/inception-bn-blue/MD590/MD590_lossless_alignedTo_MD590-N47-2015.09.12-05.32.06_MD590_2_0140_cropped_gray/MD590-N21-2015.08.03-18.21.58_MD590_3_0061_lossless_alignedTo_MD590-N47-2015.09.12-05.32.06_MD590_2_0140_cropped_gray_features.bp\n"
     ]
    },
    {
     "name": "stderr",
     "output_type": "stream",
     "text": [
      "Child returned 0\n"
     ]
    },
    {
     "name": "stdout",
     "output_type": "stream",
     "text": [
      "/shared/CSHL_patch_features/inception-bn-blue/MD590/MD590-N21-2015.08.03-18.21.58_MD590_3_0061_lossless_alignedTo_MD590-N47-2015.09.12-05.32.06_MD590_2_0140_cropped/MD590-N21-2015.08.03-18.21.58_MD590_3_0061_lossless_alignedTo_MD590-N47-2015.09.12-05.32.06_MD590_2_0140_cropped_patch_locations.txt\n",
      "/shared/CSHL_patch_features/inception-bn-blue/MD590/MD590_lossless_alignedTo_MD590-N47-2015.09.12-05.32.06_MD590_2_0140_cropped_gray/MD590-N21-2015.08.03-18.21.58_MD590_3_0061_lossless_alignedTo_MD590-N47-2015.09.12-05.32.06_MD590_2_0140_cropped_gray_patch_locations.txt\n",
      "aws s3 cp s3://mousebrainatlas-data/CSHL_patch_features/inception-bn-blue/MD590/MD590-N21-2015.08.03-18.21.58_MD590_3_0061_lossless_alignedTo_MD590-N47-2015.09.12-05.32.06_MD590_2_0140_cropped/MD590-N21-2015.08.03-18.21.58_MD590_3_0061_lossless_alignedTo_MD590-N47-2015.09.12-05.32.06_MD590_2_0140_cropped_patch_locations.txt s3://mousebrainatlas-data/CSHL_patch_features/inception-bn-blue/MD590/MD590_lossless_alignedTo_MD590-N47-2015.09.12-05.32.06_MD590_2_0140_cropped_gray/MD590-N21-2015.08.03-18.21.58_MD590_3_0061_lossless_alignedTo_MD590-N47-2015.09.12-05.32.06_MD590_2_0140_cropped_gray_patch_locations.txt\n"
     ]
    },
    {
     "name": "stderr",
     "output_type": "stream",
     "text": [
      "Child returned 0\n"
     ]
    },
    {
     "name": "stdout",
     "output_type": "stream",
     "text": [
      "/shared/CSHL_patch_features/inception-bn-blue/MD590/MD590-IHC21-2015.08.10-19.25.54_MD590_3_0061_lossless_alignedTo_MD590-N47-2015.09.12-05.32.06_MD590_2_0140_cropped/MD590-IHC21-2015.08.10-19.25.54_MD590_3_0061_lossless_alignedTo_MD590-N47-2015.09.12-05.32.06_MD590_2_0140_cropped_features.bp\n",
      "/shared/CSHL_patch_features/inception-bn-blue/MD590/MD590_lossless_alignedTo_MD590-N47-2015.09.12-05.32.06_MD590_2_0140_cropped_gray/MD590-IHC21-2015.08.10-19.25.54_MD590_3_0061_lossless_alignedTo_MD590-N47-2015.09.12-05.32.06_MD590_2_0140_cropped_gray_features.bp\n",
      "aws s3 cp s3://mousebrainatlas-data/CSHL_patch_features/inception-bn-blue/MD590/MD590-IHC21-2015.08.10-19.25.54_MD590_3_0061_lossless_alignedTo_MD590-N47-2015.09.12-05.32.06_MD590_2_0140_cropped/MD590-IHC21-2015.08.10-19.25.54_MD590_3_0061_lossless_alignedTo_MD590-N47-2015.09.12-05.32.06_MD590_2_0140_cropped_features.bp s3://mousebrainatlas-data/CSHL_patch_features/inception-bn-blue/MD590/MD590_lossless_alignedTo_MD590-N47-2015.09.12-05.32.06_MD590_2_0140_cropped_gray/MD590-IHC21-2015.08.10-19.25.54_MD590_3_0061_lossless_alignedTo_MD590-N47-2015.09.12-05.32.06_MD590_2_0140_cropped_gray_features.bp\n"
     ]
    },
    {
     "name": "stderr",
     "output_type": "stream",
     "text": [
      "Child returned 0\n"
     ]
    },
    {
     "name": "stdout",
     "output_type": "stream",
     "text": [
      "/shared/CSHL_patch_features/inception-bn-blue/MD590/MD590-IHC21-2015.08.10-19.25.54_MD590_3_0061_lossless_alignedTo_MD590-N47-2015.09.12-05.32.06_MD590_2_0140_cropped/MD590-IHC21-2015.08.10-19.25.54_MD590_3_0061_lossless_alignedTo_MD590-N47-2015.09.12-05.32.06_MD590_2_0140_cropped_patch_locations.txt\n",
      "/shared/CSHL_patch_features/inception-bn-blue/MD590/MD590_lossless_alignedTo_MD590-N47-2015.09.12-05.32.06_MD590_2_0140_cropped_gray/MD590-IHC21-2015.08.10-19.25.54_MD590_3_0061_lossless_alignedTo_MD590-N47-2015.09.12-05.32.06_MD590_2_0140_cropped_gray_patch_locations.txt\n",
      "aws s3 cp s3://mousebrainatlas-data/CSHL_patch_features/inception-bn-blue/MD590/MD590-IHC21-2015.08.10-19.25.54_MD590_3_0061_lossless_alignedTo_MD590-N47-2015.09.12-05.32.06_MD590_2_0140_cropped/MD590-IHC21-2015.08.10-19.25.54_MD590_3_0061_lossless_alignedTo_MD590-N47-2015.09.12-05.32.06_MD590_2_0140_cropped_patch_locations.txt s3://mousebrainatlas-data/CSHL_patch_features/inception-bn-blue/MD590/MD590_lossless_alignedTo_MD590-N47-2015.09.12-05.32.06_MD590_2_0140_cropped_gray/MD590-IHC21-2015.08.10-19.25.54_MD590_3_0061_lossless_alignedTo_MD590-N47-2015.09.12-05.32.06_MD590_2_0140_cropped_gray_patch_locations.txt\n"
     ]
    },
    {
     "name": "stderr",
     "output_type": "stream",
     "text": [
      "Child returned 0\n"
     ]
    },
    {
     "name": "stdout",
     "output_type": "stream",
     "text": [
      "/shared/CSHL_patch_features/inception-bn-blue/MD590/MD590-N21-2015.08.03-18.21.58_MD590_2_0062_lossless_alignedTo_MD590-N47-2015.09.12-05.32.06_MD590_2_0140_cropped/MD590-N21-2015.08.03-18.21.58_MD590_2_0062_lossless_alignedTo_MD590-N47-2015.09.12-05.32.06_MD590_2_0140_cropped_features.bp\n",
      "/shared/CSHL_patch_features/inception-bn-blue/MD590/MD590_lossless_alignedTo_MD590-N47-2015.09.12-05.32.06_MD590_2_0140_cropped_gray/MD590-N21-2015.08.03-18.21.58_MD590_2_0062_lossless_alignedTo_MD590-N47-2015.09.12-05.32.06_MD590_2_0140_cropped_gray_features.bp\n",
      "aws s3 cp s3://mousebrainatlas-data/CSHL_patch_features/inception-bn-blue/MD590/MD590-N21-2015.08.03-18.21.58_MD590_2_0062_lossless_alignedTo_MD590-N47-2015.09.12-05.32.06_MD590_2_0140_cropped/MD590-N21-2015.08.03-18.21.58_MD590_2_0062_lossless_alignedTo_MD590-N47-2015.09.12-05.32.06_MD590_2_0140_cropped_features.bp s3://mousebrainatlas-data/CSHL_patch_features/inception-bn-blue/MD590/MD590_lossless_alignedTo_MD590-N47-2015.09.12-05.32.06_MD590_2_0140_cropped_gray/MD590-N21-2015.08.03-18.21.58_MD590_2_0062_lossless_alignedTo_MD590-N47-2015.09.12-05.32.06_MD590_2_0140_cropped_gray_features.bp\n"
     ]
    },
    {
     "name": "stderr",
     "output_type": "stream",
     "text": [
      "Child returned 0\n"
     ]
    },
    {
     "name": "stdout",
     "output_type": "stream",
     "text": [
      "/shared/CSHL_patch_features/inception-bn-blue/MD590/MD590-N21-2015.08.03-18.21.58_MD590_2_0062_lossless_alignedTo_MD590-N47-2015.09.12-05.32.06_MD590_2_0140_cropped/MD590-N21-2015.08.03-18.21.58_MD590_2_0062_lossless_alignedTo_MD590-N47-2015.09.12-05.32.06_MD590_2_0140_cropped_patch_locations.txt\n",
      "/shared/CSHL_patch_features/inception-bn-blue/MD590/MD590_lossless_alignedTo_MD590-N47-2015.09.12-05.32.06_MD590_2_0140_cropped_gray/MD590-N21-2015.08.03-18.21.58_MD590_2_0062_lossless_alignedTo_MD590-N47-2015.09.12-05.32.06_MD590_2_0140_cropped_gray_patch_locations.txt\n",
      "aws s3 cp s3://mousebrainatlas-data/CSHL_patch_features/inception-bn-blue/MD590/MD590-N21-2015.08.03-18.21.58_MD590_2_0062_lossless_alignedTo_MD590-N47-2015.09.12-05.32.06_MD590_2_0140_cropped/MD590-N21-2015.08.03-18.21.58_MD590_2_0062_lossless_alignedTo_MD590-N47-2015.09.12-05.32.06_MD590_2_0140_cropped_patch_locations.txt s3://mousebrainatlas-data/CSHL_patch_features/inception-bn-blue/MD590/MD590_lossless_alignedTo_MD590-N47-2015.09.12-05.32.06_MD590_2_0140_cropped_gray/MD590-N21-2015.08.03-18.21.58_MD590_2_0062_lossless_alignedTo_MD590-N47-2015.09.12-05.32.06_MD590_2_0140_cropped_gray_patch_locations.txt\n"
     ]
    },
    {
     "name": "stderr",
     "output_type": "stream",
     "text": [
      "Child returned 0\n"
     ]
    },
    {
     "name": "stdout",
     "output_type": "stream",
     "text": [
      "/shared/CSHL_patch_features/inception-bn-blue/MD590/MD590-IHC21-2015.08.10-19.25.54_MD590_2_0062_lossless_alignedTo_MD590-N47-2015.09.12-05.32.06_MD590_2_0140_cropped/MD590-IHC21-2015.08.10-19.25.54_MD590_2_0062_lossless_alignedTo_MD590-N47-2015.09.12-05.32.06_MD590_2_0140_cropped_features.bp\n",
      "/shared/CSHL_patch_features/inception-bn-blue/MD590/MD590_lossless_alignedTo_MD590-N47-2015.09.12-05.32.06_MD590_2_0140_cropped_gray/MD590-IHC21-2015.08.10-19.25.54_MD590_2_0062_lossless_alignedTo_MD590-N47-2015.09.12-05.32.06_MD590_2_0140_cropped_gray_features.bp\n",
      "aws s3 cp s3://mousebrainatlas-data/CSHL_patch_features/inception-bn-blue/MD590/MD590-IHC21-2015.08.10-19.25.54_MD590_2_0062_lossless_alignedTo_MD590-N47-2015.09.12-05.32.06_MD590_2_0140_cropped/MD590-IHC21-2015.08.10-19.25.54_MD590_2_0062_lossless_alignedTo_MD590-N47-2015.09.12-05.32.06_MD590_2_0140_cropped_features.bp s3://mousebrainatlas-data/CSHL_patch_features/inception-bn-blue/MD590/MD590_lossless_alignedTo_MD590-N47-2015.09.12-05.32.06_MD590_2_0140_cropped_gray/MD590-IHC21-2015.08.10-19.25.54_MD590_2_0062_lossless_alignedTo_MD590-N47-2015.09.12-05.32.06_MD590_2_0140_cropped_gray_features.bp\n"
     ]
    },
    {
     "name": "stderr",
     "output_type": "stream",
     "text": [
      "Child returned 0\n"
     ]
    },
    {
     "name": "stdout",
     "output_type": "stream",
     "text": [
      "/shared/CSHL_patch_features/inception-bn-blue/MD590/MD590-IHC21-2015.08.10-19.25.54_MD590_2_0062_lossless_alignedTo_MD590-N47-2015.09.12-05.32.06_MD590_2_0140_cropped/MD590-IHC21-2015.08.10-19.25.54_MD590_2_0062_lossless_alignedTo_MD590-N47-2015.09.12-05.32.06_MD590_2_0140_cropped_patch_locations.txt\n",
      "/shared/CSHL_patch_features/inception-bn-blue/MD590/MD590_lossless_alignedTo_MD590-N47-2015.09.12-05.32.06_MD590_2_0140_cropped_gray/MD590-IHC21-2015.08.10-19.25.54_MD590_2_0062_lossless_alignedTo_MD590-N47-2015.09.12-05.32.06_MD590_2_0140_cropped_gray_patch_locations.txt\n",
      "aws s3 cp s3://mousebrainatlas-data/CSHL_patch_features/inception-bn-blue/MD590/MD590-IHC21-2015.08.10-19.25.54_MD590_2_0062_lossless_alignedTo_MD590-N47-2015.09.12-05.32.06_MD590_2_0140_cropped/MD590-IHC21-2015.08.10-19.25.54_MD590_2_0062_lossless_alignedTo_MD590-N47-2015.09.12-05.32.06_MD590_2_0140_cropped_patch_locations.txt s3://mousebrainatlas-data/CSHL_patch_features/inception-bn-blue/MD590/MD590_lossless_alignedTo_MD590-N47-2015.09.12-05.32.06_MD590_2_0140_cropped_gray/MD590-IHC21-2015.08.10-19.25.54_MD590_2_0062_lossless_alignedTo_MD590-N47-2015.09.12-05.32.06_MD590_2_0140_cropped_gray_patch_locations.txt\n"
     ]
    },
    {
     "name": "stderr",
     "output_type": "stream",
     "text": [
      "Child returned 0\n"
     ]
    },
    {
     "name": "stdout",
     "output_type": "stream",
     "text": [
      "/shared/CSHL_patch_features/inception-bn-blue/MD590/MD590-N21-2015.08.03-18.21.58_MD590_1_0063_lossless_alignedTo_MD590-N47-2015.09.12-05.32.06_MD590_2_0140_cropped/MD590-N21-2015.08.03-18.21.58_MD590_1_0063_lossless_alignedTo_MD590-N47-2015.09.12-05.32.06_MD590_2_0140_cropped_features.bp\n",
      "/shared/CSHL_patch_features/inception-bn-blue/MD590/MD590_lossless_alignedTo_MD590-N47-2015.09.12-05.32.06_MD590_2_0140_cropped_gray/MD590-N21-2015.08.03-18.21.58_MD590_1_0063_lossless_alignedTo_MD590-N47-2015.09.12-05.32.06_MD590_2_0140_cropped_gray_features.bp\n",
      "aws s3 cp s3://mousebrainatlas-data/CSHL_patch_features/inception-bn-blue/MD590/MD590-N21-2015.08.03-18.21.58_MD590_1_0063_lossless_alignedTo_MD590-N47-2015.09.12-05.32.06_MD590_2_0140_cropped/MD590-N21-2015.08.03-18.21.58_MD590_1_0063_lossless_alignedTo_MD590-N47-2015.09.12-05.32.06_MD590_2_0140_cropped_features.bp s3://mousebrainatlas-data/CSHL_patch_features/inception-bn-blue/MD590/MD590_lossless_alignedTo_MD590-N47-2015.09.12-05.32.06_MD590_2_0140_cropped_gray/MD590-N21-2015.08.03-18.21.58_MD590_1_0063_lossless_alignedTo_MD590-N47-2015.09.12-05.32.06_MD590_2_0140_cropped_gray_features.bp\n"
     ]
    },
    {
     "name": "stderr",
     "output_type": "stream",
     "text": [
      "Child returned 0\n"
     ]
    },
    {
     "name": "stdout",
     "output_type": "stream",
     "text": [
      "/shared/CSHL_patch_features/inception-bn-blue/MD590/MD590-N21-2015.08.03-18.21.58_MD590_1_0063_lossless_alignedTo_MD590-N47-2015.09.12-05.32.06_MD590_2_0140_cropped/MD590-N21-2015.08.03-18.21.58_MD590_1_0063_lossless_alignedTo_MD590-N47-2015.09.12-05.32.06_MD590_2_0140_cropped_patch_locations.txt\n",
      "/shared/CSHL_patch_features/inception-bn-blue/MD590/MD590_lossless_alignedTo_MD590-N47-2015.09.12-05.32.06_MD590_2_0140_cropped_gray/MD590-N21-2015.08.03-18.21.58_MD590_1_0063_lossless_alignedTo_MD590-N47-2015.09.12-05.32.06_MD590_2_0140_cropped_gray_patch_locations.txt\n",
      "aws s3 cp s3://mousebrainatlas-data/CSHL_patch_features/inception-bn-blue/MD590/MD590-N21-2015.08.03-18.21.58_MD590_1_0063_lossless_alignedTo_MD590-N47-2015.09.12-05.32.06_MD590_2_0140_cropped/MD590-N21-2015.08.03-18.21.58_MD590_1_0063_lossless_alignedTo_MD590-N47-2015.09.12-05.32.06_MD590_2_0140_cropped_patch_locations.txt s3://mousebrainatlas-data/CSHL_patch_features/inception-bn-blue/MD590/MD590_lossless_alignedTo_MD590-N47-2015.09.12-05.32.06_MD590_2_0140_cropped_gray/MD590-N21-2015.08.03-18.21.58_MD590_1_0063_lossless_alignedTo_MD590-N47-2015.09.12-05.32.06_MD590_2_0140_cropped_gray_patch_locations.txt\n"
     ]
    },
    {
     "name": "stderr",
     "output_type": "stream",
     "text": [
      "Child returned 0\n"
     ]
    },
    {
     "name": "stdout",
     "output_type": "stream",
     "text": [
      "/shared/CSHL_patch_features/inception-bn-blue/MD590/MD590-IHC21-2015.08.10-19.25.54_MD590_1_0063_lossless_alignedTo_MD590-N47-2015.09.12-05.32.06_MD590_2_0140_cropped/MD590-IHC21-2015.08.10-19.25.54_MD590_1_0063_lossless_alignedTo_MD590-N47-2015.09.12-05.32.06_MD590_2_0140_cropped_features.bp\n",
      "/shared/CSHL_patch_features/inception-bn-blue/MD590/MD590_lossless_alignedTo_MD590-N47-2015.09.12-05.32.06_MD590_2_0140_cropped_gray/MD590-IHC21-2015.08.10-19.25.54_MD590_1_0063_lossless_alignedTo_MD590-N47-2015.09.12-05.32.06_MD590_2_0140_cropped_gray_features.bp\n",
      "aws s3 cp s3://mousebrainatlas-data/CSHL_patch_features/inception-bn-blue/MD590/MD590-IHC21-2015.08.10-19.25.54_MD590_1_0063_lossless_alignedTo_MD590-N47-2015.09.12-05.32.06_MD590_2_0140_cropped/MD590-IHC21-2015.08.10-19.25.54_MD590_1_0063_lossless_alignedTo_MD590-N47-2015.09.12-05.32.06_MD590_2_0140_cropped_features.bp s3://mousebrainatlas-data/CSHL_patch_features/inception-bn-blue/MD590/MD590_lossless_alignedTo_MD590-N47-2015.09.12-05.32.06_MD590_2_0140_cropped_gray/MD590-IHC21-2015.08.10-19.25.54_MD590_1_0063_lossless_alignedTo_MD590-N47-2015.09.12-05.32.06_MD590_2_0140_cropped_gray_features.bp\n"
     ]
    },
    {
     "name": "stderr",
     "output_type": "stream",
     "text": [
      "Child returned 0\n"
     ]
    },
    {
     "name": "stdout",
     "output_type": "stream",
     "text": [
      "/shared/CSHL_patch_features/inception-bn-blue/MD590/MD590-IHC21-2015.08.10-19.25.54_MD590_1_0063_lossless_alignedTo_MD590-N47-2015.09.12-05.32.06_MD590_2_0140_cropped/MD590-IHC21-2015.08.10-19.25.54_MD590_1_0063_lossless_alignedTo_MD590-N47-2015.09.12-05.32.06_MD590_2_0140_cropped_patch_locations.txt\n",
      "/shared/CSHL_patch_features/inception-bn-blue/MD590/MD590_lossless_alignedTo_MD590-N47-2015.09.12-05.32.06_MD590_2_0140_cropped_gray/MD590-IHC21-2015.08.10-19.25.54_MD590_1_0063_lossless_alignedTo_MD590-N47-2015.09.12-05.32.06_MD590_2_0140_cropped_gray_patch_locations.txt\n",
      "aws s3 cp s3://mousebrainatlas-data/CSHL_patch_features/inception-bn-blue/MD590/MD590-IHC21-2015.08.10-19.25.54_MD590_1_0063_lossless_alignedTo_MD590-N47-2015.09.12-05.32.06_MD590_2_0140_cropped/MD590-IHC21-2015.08.10-19.25.54_MD590_1_0063_lossless_alignedTo_MD590-N47-2015.09.12-05.32.06_MD590_2_0140_cropped_patch_locations.txt s3://mousebrainatlas-data/CSHL_patch_features/inception-bn-blue/MD590/MD590_lossless_alignedTo_MD590-N47-2015.09.12-05.32.06_MD590_2_0140_cropped_gray/MD590-IHC21-2015.08.10-19.25.54_MD590_1_0063_lossless_alignedTo_MD590-N47-2015.09.12-05.32.06_MD590_2_0140_cropped_gray_patch_locations.txt\n"
     ]
    },
    {
     "name": "stderr",
     "output_type": "stream",
     "text": [
      "Child returned 0\n"
     ]
    },
    {
     "name": "stdout",
     "output_type": "stream",
     "text": [
      "/shared/CSHL_patch_features/inception-bn-blue/MD590/MD590-N22-2015.08.03-18.25.59_MD590_3_0064_lossless_alignedTo_MD590-N47-2015.09.12-05.32.06_MD590_2_0140_cropped/MD590-N22-2015.08.03-18.25.59_MD590_3_0064_lossless_alignedTo_MD590-N47-2015.09.12-05.32.06_MD590_2_0140_cropped_features.bp\n",
      "/shared/CSHL_patch_features/inception-bn-blue/MD590/MD590_lossless_alignedTo_MD590-N47-2015.09.12-05.32.06_MD590_2_0140_cropped_gray/MD590-N22-2015.08.03-18.25.59_MD590_3_0064_lossless_alignedTo_MD590-N47-2015.09.12-05.32.06_MD590_2_0140_cropped_gray_features.bp\n",
      "aws s3 cp s3://mousebrainatlas-data/CSHL_patch_features/inception-bn-blue/MD590/MD590-N22-2015.08.03-18.25.59_MD590_3_0064_lossless_alignedTo_MD590-N47-2015.09.12-05.32.06_MD590_2_0140_cropped/MD590-N22-2015.08.03-18.25.59_MD590_3_0064_lossless_alignedTo_MD590-N47-2015.09.12-05.32.06_MD590_2_0140_cropped_features.bp s3://mousebrainatlas-data/CSHL_patch_features/inception-bn-blue/MD590/MD590_lossless_alignedTo_MD590-N47-2015.09.12-05.32.06_MD590_2_0140_cropped_gray/MD590-N22-2015.08.03-18.25.59_MD590_3_0064_lossless_alignedTo_MD590-N47-2015.09.12-05.32.06_MD590_2_0140_cropped_gray_features.bp\n"
     ]
    },
    {
     "name": "stderr",
     "output_type": "stream",
     "text": [
      "Child returned 0\n"
     ]
    },
    {
     "name": "stdout",
     "output_type": "stream",
     "text": [
      "/shared/CSHL_patch_features/inception-bn-blue/MD590/MD590-N22-2015.08.03-18.25.59_MD590_3_0064_lossless_alignedTo_MD590-N47-2015.09.12-05.32.06_MD590_2_0140_cropped/MD590-N22-2015.08.03-18.25.59_MD590_3_0064_lossless_alignedTo_MD590-N47-2015.09.12-05.32.06_MD590_2_0140_cropped_patch_locations.txt\n",
      "/shared/CSHL_patch_features/inception-bn-blue/MD590/MD590_lossless_alignedTo_MD590-N47-2015.09.12-05.32.06_MD590_2_0140_cropped_gray/MD590-N22-2015.08.03-18.25.59_MD590_3_0064_lossless_alignedTo_MD590-N47-2015.09.12-05.32.06_MD590_2_0140_cropped_gray_patch_locations.txt\n",
      "aws s3 cp s3://mousebrainatlas-data/CSHL_patch_features/inception-bn-blue/MD590/MD590-N22-2015.08.03-18.25.59_MD590_3_0064_lossless_alignedTo_MD590-N47-2015.09.12-05.32.06_MD590_2_0140_cropped/MD590-N22-2015.08.03-18.25.59_MD590_3_0064_lossless_alignedTo_MD590-N47-2015.09.12-05.32.06_MD590_2_0140_cropped_patch_locations.txt s3://mousebrainatlas-data/CSHL_patch_features/inception-bn-blue/MD590/MD590_lossless_alignedTo_MD590-N47-2015.09.12-05.32.06_MD590_2_0140_cropped_gray/MD590-N22-2015.08.03-18.25.59_MD590_3_0064_lossless_alignedTo_MD590-N47-2015.09.12-05.32.06_MD590_2_0140_cropped_gray_patch_locations.txt\n"
     ]
    },
    {
     "name": "stderr",
     "output_type": "stream",
     "text": [
      "Child returned 0\n"
     ]
    },
    {
     "name": "stdout",
     "output_type": "stream",
     "text": [
      "/shared/CSHL_patch_features/inception-bn-blue/MD590/MD590-IHC22-2015.08.10-19.30.03_MD590_3_0064_lossless_alignedTo_MD590-N47-2015.09.12-05.32.06_MD590_2_0140_cropped/MD590-IHC22-2015.08.10-19.30.03_MD590_3_0064_lossless_alignedTo_MD590-N47-2015.09.12-05.32.06_MD590_2_0140_cropped_features.bp\n",
      "/shared/CSHL_patch_features/inception-bn-blue/MD590/MD590_lossless_alignedTo_MD590-N47-2015.09.12-05.32.06_MD590_2_0140_cropped_gray/MD590-IHC22-2015.08.10-19.30.03_MD590_3_0064_lossless_alignedTo_MD590-N47-2015.09.12-05.32.06_MD590_2_0140_cropped_gray_features.bp\n",
      "aws s3 cp s3://mousebrainatlas-data/CSHL_patch_features/inception-bn-blue/MD590/MD590-IHC22-2015.08.10-19.30.03_MD590_3_0064_lossless_alignedTo_MD590-N47-2015.09.12-05.32.06_MD590_2_0140_cropped/MD590-IHC22-2015.08.10-19.30.03_MD590_3_0064_lossless_alignedTo_MD590-N47-2015.09.12-05.32.06_MD590_2_0140_cropped_features.bp s3://mousebrainatlas-data/CSHL_patch_features/inception-bn-blue/MD590/MD590_lossless_alignedTo_MD590-N47-2015.09.12-05.32.06_MD590_2_0140_cropped_gray/MD590-IHC22-2015.08.10-19.30.03_MD590_3_0064_lossless_alignedTo_MD590-N47-2015.09.12-05.32.06_MD590_2_0140_cropped_gray_features.bp\n"
     ]
    },
    {
     "name": "stderr",
     "output_type": "stream",
     "text": [
      "Child returned 0\n"
     ]
    },
    {
     "name": "stdout",
     "output_type": "stream",
     "text": [
      "/shared/CSHL_patch_features/inception-bn-blue/MD590/MD590-IHC22-2015.08.10-19.30.03_MD590_3_0064_lossless_alignedTo_MD590-N47-2015.09.12-05.32.06_MD590_2_0140_cropped/MD590-IHC22-2015.08.10-19.30.03_MD590_3_0064_lossless_alignedTo_MD590-N47-2015.09.12-05.32.06_MD590_2_0140_cropped_patch_locations.txt\n",
      "/shared/CSHL_patch_features/inception-bn-blue/MD590/MD590_lossless_alignedTo_MD590-N47-2015.09.12-05.32.06_MD590_2_0140_cropped_gray/MD590-IHC22-2015.08.10-19.30.03_MD590_3_0064_lossless_alignedTo_MD590-N47-2015.09.12-05.32.06_MD590_2_0140_cropped_gray_patch_locations.txt\n",
      "aws s3 cp s3://mousebrainatlas-data/CSHL_patch_features/inception-bn-blue/MD590/MD590-IHC22-2015.08.10-19.30.03_MD590_3_0064_lossless_alignedTo_MD590-N47-2015.09.12-05.32.06_MD590_2_0140_cropped/MD590-IHC22-2015.08.10-19.30.03_MD590_3_0064_lossless_alignedTo_MD590-N47-2015.09.12-05.32.06_MD590_2_0140_cropped_patch_locations.txt s3://mousebrainatlas-data/CSHL_patch_features/inception-bn-blue/MD590/MD590_lossless_alignedTo_MD590-N47-2015.09.12-05.32.06_MD590_2_0140_cropped_gray/MD590-IHC22-2015.08.10-19.30.03_MD590_3_0064_lossless_alignedTo_MD590-N47-2015.09.12-05.32.06_MD590_2_0140_cropped_gray_patch_locations.txt\n"
     ]
    },
    {
     "name": "stderr",
     "output_type": "stream",
     "text": [
      "Child returned 0\n"
     ]
    },
    {
     "name": "stdout",
     "output_type": "stream",
     "text": [
      "/shared/CSHL_patch_features/inception-bn-blue/MD590/MD590-N22-2015.08.03-18.25.59_MD590_2_0065_lossless_alignedTo_MD590-N47-2015.09.12-05.32.06_MD590_2_0140_cropped/MD590-N22-2015.08.03-18.25.59_MD590_2_0065_lossless_alignedTo_MD590-N47-2015.09.12-05.32.06_MD590_2_0140_cropped_features.bp\n",
      "/shared/CSHL_patch_features/inception-bn-blue/MD590/MD590_lossless_alignedTo_MD590-N47-2015.09.12-05.32.06_MD590_2_0140_cropped_gray/MD590-N22-2015.08.03-18.25.59_MD590_2_0065_lossless_alignedTo_MD590-N47-2015.09.12-05.32.06_MD590_2_0140_cropped_gray_features.bp\n",
      "aws s3 cp s3://mousebrainatlas-data/CSHL_patch_features/inception-bn-blue/MD590/MD590-N22-2015.08.03-18.25.59_MD590_2_0065_lossless_alignedTo_MD590-N47-2015.09.12-05.32.06_MD590_2_0140_cropped/MD590-N22-2015.08.03-18.25.59_MD590_2_0065_lossless_alignedTo_MD590-N47-2015.09.12-05.32.06_MD590_2_0140_cropped_features.bp s3://mousebrainatlas-data/CSHL_patch_features/inception-bn-blue/MD590/MD590_lossless_alignedTo_MD590-N47-2015.09.12-05.32.06_MD590_2_0140_cropped_gray/MD590-N22-2015.08.03-18.25.59_MD590_2_0065_lossless_alignedTo_MD590-N47-2015.09.12-05.32.06_MD590_2_0140_cropped_gray_features.bp\n"
     ]
    },
    {
     "name": "stderr",
     "output_type": "stream",
     "text": [
      "Child returned 0\n"
     ]
    },
    {
     "name": "stdout",
     "output_type": "stream",
     "text": [
      "/shared/CSHL_patch_features/inception-bn-blue/MD590/MD590-N22-2015.08.03-18.25.59_MD590_2_0065_lossless_alignedTo_MD590-N47-2015.09.12-05.32.06_MD590_2_0140_cropped/MD590-N22-2015.08.03-18.25.59_MD590_2_0065_lossless_alignedTo_MD590-N47-2015.09.12-05.32.06_MD590_2_0140_cropped_patch_locations.txt\n",
      "/shared/CSHL_patch_features/inception-bn-blue/MD590/MD590_lossless_alignedTo_MD590-N47-2015.09.12-05.32.06_MD590_2_0140_cropped_gray/MD590-N22-2015.08.03-18.25.59_MD590_2_0065_lossless_alignedTo_MD590-N47-2015.09.12-05.32.06_MD590_2_0140_cropped_gray_patch_locations.txt\n",
      "aws s3 cp s3://mousebrainatlas-data/CSHL_patch_features/inception-bn-blue/MD590/MD590-N22-2015.08.03-18.25.59_MD590_2_0065_lossless_alignedTo_MD590-N47-2015.09.12-05.32.06_MD590_2_0140_cropped/MD590-N22-2015.08.03-18.25.59_MD590_2_0065_lossless_alignedTo_MD590-N47-2015.09.12-05.32.06_MD590_2_0140_cropped_patch_locations.txt s3://mousebrainatlas-data/CSHL_patch_features/inception-bn-blue/MD590/MD590_lossless_alignedTo_MD590-N47-2015.09.12-05.32.06_MD590_2_0140_cropped_gray/MD590-N22-2015.08.03-18.25.59_MD590_2_0065_lossless_alignedTo_MD590-N47-2015.09.12-05.32.06_MD590_2_0140_cropped_gray_patch_locations.txt\n"
     ]
    },
    {
     "name": "stderr",
     "output_type": "stream",
     "text": [
      "Child returned 0\n"
     ]
    },
    {
     "name": "stdout",
     "output_type": "stream",
     "text": [
      "/shared/CSHL_patch_features/inception-bn-blue/MD590/MD590-IHC22-2015.08.10-19.30.03_MD590_2_0065_lossless_alignedTo_MD590-N47-2015.09.12-05.32.06_MD590_2_0140_cropped/MD590-IHC22-2015.08.10-19.30.03_MD590_2_0065_lossless_alignedTo_MD590-N47-2015.09.12-05.32.06_MD590_2_0140_cropped_features.bp\n",
      "/shared/CSHL_patch_features/inception-bn-blue/MD590/MD590_lossless_alignedTo_MD590-N47-2015.09.12-05.32.06_MD590_2_0140_cropped_gray/MD590-IHC22-2015.08.10-19.30.03_MD590_2_0065_lossless_alignedTo_MD590-N47-2015.09.12-05.32.06_MD590_2_0140_cropped_gray_features.bp\n",
      "aws s3 cp s3://mousebrainatlas-data/CSHL_patch_features/inception-bn-blue/MD590/MD590-IHC22-2015.08.10-19.30.03_MD590_2_0065_lossless_alignedTo_MD590-N47-2015.09.12-05.32.06_MD590_2_0140_cropped/MD590-IHC22-2015.08.10-19.30.03_MD590_2_0065_lossless_alignedTo_MD590-N47-2015.09.12-05.32.06_MD590_2_0140_cropped_features.bp s3://mousebrainatlas-data/CSHL_patch_features/inception-bn-blue/MD590/MD590_lossless_alignedTo_MD590-N47-2015.09.12-05.32.06_MD590_2_0140_cropped_gray/MD590-IHC22-2015.08.10-19.30.03_MD590_2_0065_lossless_alignedTo_MD590-N47-2015.09.12-05.32.06_MD590_2_0140_cropped_gray_features.bp\n"
     ]
    },
    {
     "name": "stderr",
     "output_type": "stream",
     "text": [
      "Child returned 0\n"
     ]
    },
    {
     "name": "stdout",
     "output_type": "stream",
     "text": [
      "/shared/CSHL_patch_features/inception-bn-blue/MD590/MD590-IHC22-2015.08.10-19.30.03_MD590_2_0065_lossless_alignedTo_MD590-N47-2015.09.12-05.32.06_MD590_2_0140_cropped/MD590-IHC22-2015.08.10-19.30.03_MD590_2_0065_lossless_alignedTo_MD590-N47-2015.09.12-05.32.06_MD590_2_0140_cropped_patch_locations.txt\n",
      "/shared/CSHL_patch_features/inception-bn-blue/MD590/MD590_lossless_alignedTo_MD590-N47-2015.09.12-05.32.06_MD590_2_0140_cropped_gray/MD590-IHC22-2015.08.10-19.30.03_MD590_2_0065_lossless_alignedTo_MD590-N47-2015.09.12-05.32.06_MD590_2_0140_cropped_gray_patch_locations.txt\n",
      "aws s3 cp s3://mousebrainatlas-data/CSHL_patch_features/inception-bn-blue/MD590/MD590-IHC22-2015.08.10-19.30.03_MD590_2_0065_lossless_alignedTo_MD590-N47-2015.09.12-05.32.06_MD590_2_0140_cropped/MD590-IHC22-2015.08.10-19.30.03_MD590_2_0065_lossless_alignedTo_MD590-N47-2015.09.12-05.32.06_MD590_2_0140_cropped_patch_locations.txt s3://mousebrainatlas-data/CSHL_patch_features/inception-bn-blue/MD590/MD590_lossless_alignedTo_MD590-N47-2015.09.12-05.32.06_MD590_2_0140_cropped_gray/MD590-IHC22-2015.08.10-19.30.03_MD590_2_0065_lossless_alignedTo_MD590-N47-2015.09.12-05.32.06_MD590_2_0140_cropped_gray_patch_locations.txt\n"
     ]
    },
    {
     "name": "stderr",
     "output_type": "stream",
     "text": [
      "Child returned 0\n"
     ]
    },
    {
     "name": "stdout",
     "output_type": "stream",
     "text": [
      "/shared/CSHL_patch_features/inception-bn-blue/MD590/MD590-N22-2015.08.03-18.25.59_MD590_1_0066_lossless_alignedTo_MD590-N47-2015.09.12-05.32.06_MD590_2_0140_cropped/MD590-N22-2015.08.03-18.25.59_MD590_1_0066_lossless_alignedTo_MD590-N47-2015.09.12-05.32.06_MD590_2_0140_cropped_features.bp\n",
      "/shared/CSHL_patch_features/inception-bn-blue/MD590/MD590_lossless_alignedTo_MD590-N47-2015.09.12-05.32.06_MD590_2_0140_cropped_gray/MD590-N22-2015.08.03-18.25.59_MD590_1_0066_lossless_alignedTo_MD590-N47-2015.09.12-05.32.06_MD590_2_0140_cropped_gray_features.bp\n",
      "aws s3 cp s3://mousebrainatlas-data/CSHL_patch_features/inception-bn-blue/MD590/MD590-N22-2015.08.03-18.25.59_MD590_1_0066_lossless_alignedTo_MD590-N47-2015.09.12-05.32.06_MD590_2_0140_cropped/MD590-N22-2015.08.03-18.25.59_MD590_1_0066_lossless_alignedTo_MD590-N47-2015.09.12-05.32.06_MD590_2_0140_cropped_features.bp s3://mousebrainatlas-data/CSHL_patch_features/inception-bn-blue/MD590/MD590_lossless_alignedTo_MD590-N47-2015.09.12-05.32.06_MD590_2_0140_cropped_gray/MD590-N22-2015.08.03-18.25.59_MD590_1_0066_lossless_alignedTo_MD590-N47-2015.09.12-05.32.06_MD590_2_0140_cropped_gray_features.bp\n"
     ]
    },
    {
     "name": "stderr",
     "output_type": "stream",
     "text": [
      "Child returned 0\n"
     ]
    },
    {
     "name": "stdout",
     "output_type": "stream",
     "text": [
      "/shared/CSHL_patch_features/inception-bn-blue/MD590/MD590-N22-2015.08.03-18.25.59_MD590_1_0066_lossless_alignedTo_MD590-N47-2015.09.12-05.32.06_MD590_2_0140_cropped/MD590-N22-2015.08.03-18.25.59_MD590_1_0066_lossless_alignedTo_MD590-N47-2015.09.12-05.32.06_MD590_2_0140_cropped_patch_locations.txt\n",
      "/shared/CSHL_patch_features/inception-bn-blue/MD590/MD590_lossless_alignedTo_MD590-N47-2015.09.12-05.32.06_MD590_2_0140_cropped_gray/MD590-N22-2015.08.03-18.25.59_MD590_1_0066_lossless_alignedTo_MD590-N47-2015.09.12-05.32.06_MD590_2_0140_cropped_gray_patch_locations.txt\n",
      "aws s3 cp s3://mousebrainatlas-data/CSHL_patch_features/inception-bn-blue/MD590/MD590-N22-2015.08.03-18.25.59_MD590_1_0066_lossless_alignedTo_MD590-N47-2015.09.12-05.32.06_MD590_2_0140_cropped/MD590-N22-2015.08.03-18.25.59_MD590_1_0066_lossless_alignedTo_MD590-N47-2015.09.12-05.32.06_MD590_2_0140_cropped_patch_locations.txt s3://mousebrainatlas-data/CSHL_patch_features/inception-bn-blue/MD590/MD590_lossless_alignedTo_MD590-N47-2015.09.12-05.32.06_MD590_2_0140_cropped_gray/MD590-N22-2015.08.03-18.25.59_MD590_1_0066_lossless_alignedTo_MD590-N47-2015.09.12-05.32.06_MD590_2_0140_cropped_gray_patch_locations.txt\n"
     ]
    },
    {
     "name": "stderr",
     "output_type": "stream",
     "text": [
      "Child returned 0\n"
     ]
    },
    {
     "name": "stdout",
     "output_type": "stream",
     "text": [
      "/shared/CSHL_patch_features/inception-bn-blue/MD590/MD590-IHC22-2015.08.10-19.30.03_MD590_1_0066_lossless_alignedTo_MD590-N47-2015.09.12-05.32.06_MD590_2_0140_cropped/MD590-IHC22-2015.08.10-19.30.03_MD590_1_0066_lossless_alignedTo_MD590-N47-2015.09.12-05.32.06_MD590_2_0140_cropped_features.bp\n",
      "/shared/CSHL_patch_features/inception-bn-blue/MD590/MD590_lossless_alignedTo_MD590-N47-2015.09.12-05.32.06_MD590_2_0140_cropped_gray/MD590-IHC22-2015.08.10-19.30.03_MD590_1_0066_lossless_alignedTo_MD590-N47-2015.09.12-05.32.06_MD590_2_0140_cropped_gray_features.bp\n",
      "aws s3 cp s3://mousebrainatlas-data/CSHL_patch_features/inception-bn-blue/MD590/MD590-IHC22-2015.08.10-19.30.03_MD590_1_0066_lossless_alignedTo_MD590-N47-2015.09.12-05.32.06_MD590_2_0140_cropped/MD590-IHC22-2015.08.10-19.30.03_MD590_1_0066_lossless_alignedTo_MD590-N47-2015.09.12-05.32.06_MD590_2_0140_cropped_features.bp s3://mousebrainatlas-data/CSHL_patch_features/inception-bn-blue/MD590/MD590_lossless_alignedTo_MD590-N47-2015.09.12-05.32.06_MD590_2_0140_cropped_gray/MD590-IHC22-2015.08.10-19.30.03_MD590_1_0066_lossless_alignedTo_MD590-N47-2015.09.12-05.32.06_MD590_2_0140_cropped_gray_features.bp\n"
     ]
    },
    {
     "name": "stderr",
     "output_type": "stream",
     "text": [
      "Child returned 0\n"
     ]
    },
    {
     "name": "stdout",
     "output_type": "stream",
     "text": [
      "/shared/CSHL_patch_features/inception-bn-blue/MD590/MD590-IHC22-2015.08.10-19.30.03_MD590_1_0066_lossless_alignedTo_MD590-N47-2015.09.12-05.32.06_MD590_2_0140_cropped/MD590-IHC22-2015.08.10-19.30.03_MD590_1_0066_lossless_alignedTo_MD590-N47-2015.09.12-05.32.06_MD590_2_0140_cropped_patch_locations.txt\n",
      "/shared/CSHL_patch_features/inception-bn-blue/MD590/MD590_lossless_alignedTo_MD590-N47-2015.09.12-05.32.06_MD590_2_0140_cropped_gray/MD590-IHC22-2015.08.10-19.30.03_MD590_1_0066_lossless_alignedTo_MD590-N47-2015.09.12-05.32.06_MD590_2_0140_cropped_gray_patch_locations.txt\n",
      "aws s3 cp s3://mousebrainatlas-data/CSHL_patch_features/inception-bn-blue/MD590/MD590-IHC22-2015.08.10-19.30.03_MD590_1_0066_lossless_alignedTo_MD590-N47-2015.09.12-05.32.06_MD590_2_0140_cropped/MD590-IHC22-2015.08.10-19.30.03_MD590_1_0066_lossless_alignedTo_MD590-N47-2015.09.12-05.32.06_MD590_2_0140_cropped_patch_locations.txt s3://mousebrainatlas-data/CSHL_patch_features/inception-bn-blue/MD590/MD590_lossless_alignedTo_MD590-N47-2015.09.12-05.32.06_MD590_2_0140_cropped_gray/MD590-IHC22-2015.08.10-19.30.03_MD590_1_0066_lossless_alignedTo_MD590-N47-2015.09.12-05.32.06_MD590_2_0140_cropped_gray_patch_locations.txt\n"
     ]
    },
    {
     "name": "stderr",
     "output_type": "stream",
     "text": [
      "Child returned 0\n"
     ]
    },
    {
     "name": "stdout",
     "output_type": "stream",
     "text": [
      "/shared/CSHL_patch_features/inception-bn-blue/MD590/MD590-N23-2015.08.03-18.29.58_MD590_3_0067_lossless_alignedTo_MD590-N47-2015.09.12-05.32.06_MD590_2_0140_cropped/MD590-N23-2015.08.03-18.29.58_MD590_3_0067_lossless_alignedTo_MD590-N47-2015.09.12-05.32.06_MD590_2_0140_cropped_features.bp\n",
      "/shared/CSHL_patch_features/inception-bn-blue/MD590/MD590_lossless_alignedTo_MD590-N47-2015.09.12-05.32.06_MD590_2_0140_cropped_gray/MD590-N23-2015.08.03-18.29.58_MD590_3_0067_lossless_alignedTo_MD590-N47-2015.09.12-05.32.06_MD590_2_0140_cropped_gray_features.bp\n",
      "aws s3 cp s3://mousebrainatlas-data/CSHL_patch_features/inception-bn-blue/MD590/MD590-N23-2015.08.03-18.29.58_MD590_3_0067_lossless_alignedTo_MD590-N47-2015.09.12-05.32.06_MD590_2_0140_cropped/MD590-N23-2015.08.03-18.29.58_MD590_3_0067_lossless_alignedTo_MD590-N47-2015.09.12-05.32.06_MD590_2_0140_cropped_features.bp s3://mousebrainatlas-data/CSHL_patch_features/inception-bn-blue/MD590/MD590_lossless_alignedTo_MD590-N47-2015.09.12-05.32.06_MD590_2_0140_cropped_gray/MD590-N23-2015.08.03-18.29.58_MD590_3_0067_lossless_alignedTo_MD590-N47-2015.09.12-05.32.06_MD590_2_0140_cropped_gray_features.bp\n"
     ]
    },
    {
     "name": "stderr",
     "output_type": "stream",
     "text": [
      "Child returned 0\n"
     ]
    },
    {
     "name": "stdout",
     "output_type": "stream",
     "text": [
      "/shared/CSHL_patch_features/inception-bn-blue/MD590/MD590-N23-2015.08.03-18.29.58_MD590_3_0067_lossless_alignedTo_MD590-N47-2015.09.12-05.32.06_MD590_2_0140_cropped/MD590-N23-2015.08.03-18.29.58_MD590_3_0067_lossless_alignedTo_MD590-N47-2015.09.12-05.32.06_MD590_2_0140_cropped_patch_locations.txt\n",
      "/shared/CSHL_patch_features/inception-bn-blue/MD590/MD590_lossless_alignedTo_MD590-N47-2015.09.12-05.32.06_MD590_2_0140_cropped_gray/MD590-N23-2015.08.03-18.29.58_MD590_3_0067_lossless_alignedTo_MD590-N47-2015.09.12-05.32.06_MD590_2_0140_cropped_gray_patch_locations.txt\n",
      "aws s3 cp s3://mousebrainatlas-data/CSHL_patch_features/inception-bn-blue/MD590/MD590-N23-2015.08.03-18.29.58_MD590_3_0067_lossless_alignedTo_MD590-N47-2015.09.12-05.32.06_MD590_2_0140_cropped/MD590-N23-2015.08.03-18.29.58_MD590_3_0067_lossless_alignedTo_MD590-N47-2015.09.12-05.32.06_MD590_2_0140_cropped_patch_locations.txt s3://mousebrainatlas-data/CSHL_patch_features/inception-bn-blue/MD590/MD590_lossless_alignedTo_MD590-N47-2015.09.12-05.32.06_MD590_2_0140_cropped_gray/MD590-N23-2015.08.03-18.29.58_MD590_3_0067_lossless_alignedTo_MD590-N47-2015.09.12-05.32.06_MD590_2_0140_cropped_gray_patch_locations.txt\n"
     ]
    },
    {
     "name": "stderr",
     "output_type": "stream",
     "text": [
      "Child returned 0\n"
     ]
    },
    {
     "name": "stdout",
     "output_type": "stream",
     "text": [
      "/shared/CSHL_patch_features/inception-bn-blue/MD590/MD590-IHC23-2015.08.10-19.34.12_MD590_3_0067_lossless_alignedTo_MD590-N47-2015.09.12-05.32.06_MD590_2_0140_cropped/MD590-IHC23-2015.08.10-19.34.12_MD590_3_0067_lossless_alignedTo_MD590-N47-2015.09.12-05.32.06_MD590_2_0140_cropped_features.bp\n",
      "/shared/CSHL_patch_features/inception-bn-blue/MD590/MD590_lossless_alignedTo_MD590-N47-2015.09.12-05.32.06_MD590_2_0140_cropped_gray/MD590-IHC23-2015.08.10-19.34.12_MD590_3_0067_lossless_alignedTo_MD590-N47-2015.09.12-05.32.06_MD590_2_0140_cropped_gray_features.bp\n",
      "aws s3 cp s3://mousebrainatlas-data/CSHL_patch_features/inception-bn-blue/MD590/MD590-IHC23-2015.08.10-19.34.12_MD590_3_0067_lossless_alignedTo_MD590-N47-2015.09.12-05.32.06_MD590_2_0140_cropped/MD590-IHC23-2015.08.10-19.34.12_MD590_3_0067_lossless_alignedTo_MD590-N47-2015.09.12-05.32.06_MD590_2_0140_cropped_features.bp s3://mousebrainatlas-data/CSHL_patch_features/inception-bn-blue/MD590/MD590_lossless_alignedTo_MD590-N47-2015.09.12-05.32.06_MD590_2_0140_cropped_gray/MD590-IHC23-2015.08.10-19.34.12_MD590_3_0067_lossless_alignedTo_MD590-N47-2015.09.12-05.32.06_MD590_2_0140_cropped_gray_features.bp\n"
     ]
    },
    {
     "name": "stderr",
     "output_type": "stream",
     "text": [
      "Child returned 0\n"
     ]
    },
    {
     "name": "stdout",
     "output_type": "stream",
     "text": [
      "/shared/CSHL_patch_features/inception-bn-blue/MD590/MD590-IHC23-2015.08.10-19.34.12_MD590_3_0067_lossless_alignedTo_MD590-N47-2015.09.12-05.32.06_MD590_2_0140_cropped/MD590-IHC23-2015.08.10-19.34.12_MD590_3_0067_lossless_alignedTo_MD590-N47-2015.09.12-05.32.06_MD590_2_0140_cropped_patch_locations.txt\n",
      "/shared/CSHL_patch_features/inception-bn-blue/MD590/MD590_lossless_alignedTo_MD590-N47-2015.09.12-05.32.06_MD590_2_0140_cropped_gray/MD590-IHC23-2015.08.10-19.34.12_MD590_3_0067_lossless_alignedTo_MD590-N47-2015.09.12-05.32.06_MD590_2_0140_cropped_gray_patch_locations.txt\n",
      "aws s3 cp s3://mousebrainatlas-data/CSHL_patch_features/inception-bn-blue/MD590/MD590-IHC23-2015.08.10-19.34.12_MD590_3_0067_lossless_alignedTo_MD590-N47-2015.09.12-05.32.06_MD590_2_0140_cropped/MD590-IHC23-2015.08.10-19.34.12_MD590_3_0067_lossless_alignedTo_MD590-N47-2015.09.12-05.32.06_MD590_2_0140_cropped_patch_locations.txt s3://mousebrainatlas-data/CSHL_patch_features/inception-bn-blue/MD590/MD590_lossless_alignedTo_MD590-N47-2015.09.12-05.32.06_MD590_2_0140_cropped_gray/MD590-IHC23-2015.08.10-19.34.12_MD590_3_0067_lossless_alignedTo_MD590-N47-2015.09.12-05.32.06_MD590_2_0140_cropped_gray_patch_locations.txt\n"
     ]
    },
    {
     "name": "stderr",
     "output_type": "stream",
     "text": [
      "Child returned 0\n"
     ]
    },
    {
     "name": "stdout",
     "output_type": "stream",
     "text": [
      "/shared/CSHL_patch_features/inception-bn-blue/MD590/MD590-N23-2015.08.03-18.29.58_MD590_2_0068_lossless_alignedTo_MD590-N47-2015.09.12-05.32.06_MD590_2_0140_cropped/MD590-N23-2015.08.03-18.29.58_MD590_2_0068_lossless_alignedTo_MD590-N47-2015.09.12-05.32.06_MD590_2_0140_cropped_features.bp\n",
      "/shared/CSHL_patch_features/inception-bn-blue/MD590/MD590_lossless_alignedTo_MD590-N47-2015.09.12-05.32.06_MD590_2_0140_cropped_gray/MD590-N23-2015.08.03-18.29.58_MD590_2_0068_lossless_alignedTo_MD590-N47-2015.09.12-05.32.06_MD590_2_0140_cropped_gray_features.bp\n",
      "aws s3 cp s3://mousebrainatlas-data/CSHL_patch_features/inception-bn-blue/MD590/MD590-N23-2015.08.03-18.29.58_MD590_2_0068_lossless_alignedTo_MD590-N47-2015.09.12-05.32.06_MD590_2_0140_cropped/MD590-N23-2015.08.03-18.29.58_MD590_2_0068_lossless_alignedTo_MD590-N47-2015.09.12-05.32.06_MD590_2_0140_cropped_features.bp s3://mousebrainatlas-data/CSHL_patch_features/inception-bn-blue/MD590/MD590_lossless_alignedTo_MD590-N47-2015.09.12-05.32.06_MD590_2_0140_cropped_gray/MD590-N23-2015.08.03-18.29.58_MD590_2_0068_lossless_alignedTo_MD590-N47-2015.09.12-05.32.06_MD590_2_0140_cropped_gray_features.bp\n"
     ]
    },
    {
     "name": "stderr",
     "output_type": "stream",
     "text": [
      "Child returned 0\n"
     ]
    },
    {
     "name": "stdout",
     "output_type": "stream",
     "text": [
      "/shared/CSHL_patch_features/inception-bn-blue/MD590/MD590-N23-2015.08.03-18.29.58_MD590_2_0068_lossless_alignedTo_MD590-N47-2015.09.12-05.32.06_MD590_2_0140_cropped/MD590-N23-2015.08.03-18.29.58_MD590_2_0068_lossless_alignedTo_MD590-N47-2015.09.12-05.32.06_MD590_2_0140_cropped_patch_locations.txt\n",
      "/shared/CSHL_patch_features/inception-bn-blue/MD590/MD590_lossless_alignedTo_MD590-N47-2015.09.12-05.32.06_MD590_2_0140_cropped_gray/MD590-N23-2015.08.03-18.29.58_MD590_2_0068_lossless_alignedTo_MD590-N47-2015.09.12-05.32.06_MD590_2_0140_cropped_gray_patch_locations.txt\n",
      "aws s3 cp s3://mousebrainatlas-data/CSHL_patch_features/inception-bn-blue/MD590/MD590-N23-2015.08.03-18.29.58_MD590_2_0068_lossless_alignedTo_MD590-N47-2015.09.12-05.32.06_MD590_2_0140_cropped/MD590-N23-2015.08.03-18.29.58_MD590_2_0068_lossless_alignedTo_MD590-N47-2015.09.12-05.32.06_MD590_2_0140_cropped_patch_locations.txt s3://mousebrainatlas-data/CSHL_patch_features/inception-bn-blue/MD590/MD590_lossless_alignedTo_MD590-N47-2015.09.12-05.32.06_MD590_2_0140_cropped_gray/MD590-N23-2015.08.03-18.29.58_MD590_2_0068_lossless_alignedTo_MD590-N47-2015.09.12-05.32.06_MD590_2_0140_cropped_gray_patch_locations.txt\n"
     ]
    },
    {
     "name": "stderr",
     "output_type": "stream",
     "text": [
      "Child returned 0\n"
     ]
    },
    {
     "name": "stdout",
     "output_type": "stream",
     "text": [
      "/shared/CSHL_patch_features/inception-bn-blue/MD590/MD590-IHC23-2015.08.10-19.34.12_MD590_2_0068_lossless_alignedTo_MD590-N47-2015.09.12-05.32.06_MD590_2_0140_cropped/MD590-IHC23-2015.08.10-19.34.12_MD590_2_0068_lossless_alignedTo_MD590-N47-2015.09.12-05.32.06_MD590_2_0140_cropped_features.bp\n",
      "/shared/CSHL_patch_features/inception-bn-blue/MD590/MD590_lossless_alignedTo_MD590-N47-2015.09.12-05.32.06_MD590_2_0140_cropped_gray/MD590-IHC23-2015.08.10-19.34.12_MD590_2_0068_lossless_alignedTo_MD590-N47-2015.09.12-05.32.06_MD590_2_0140_cropped_gray_features.bp\n",
      "aws s3 cp s3://mousebrainatlas-data/CSHL_patch_features/inception-bn-blue/MD590/MD590-IHC23-2015.08.10-19.34.12_MD590_2_0068_lossless_alignedTo_MD590-N47-2015.09.12-05.32.06_MD590_2_0140_cropped/MD590-IHC23-2015.08.10-19.34.12_MD590_2_0068_lossless_alignedTo_MD590-N47-2015.09.12-05.32.06_MD590_2_0140_cropped_features.bp s3://mousebrainatlas-data/CSHL_patch_features/inception-bn-blue/MD590/MD590_lossless_alignedTo_MD590-N47-2015.09.12-05.32.06_MD590_2_0140_cropped_gray/MD590-IHC23-2015.08.10-19.34.12_MD590_2_0068_lossless_alignedTo_MD590-N47-2015.09.12-05.32.06_MD590_2_0140_cropped_gray_features.bp\n"
     ]
    },
    {
     "name": "stderr",
     "output_type": "stream",
     "text": [
      "Child returned 0\n"
     ]
    },
    {
     "name": "stdout",
     "output_type": "stream",
     "text": [
      "/shared/CSHL_patch_features/inception-bn-blue/MD590/MD590-IHC23-2015.08.10-19.34.12_MD590_2_0068_lossless_alignedTo_MD590-N47-2015.09.12-05.32.06_MD590_2_0140_cropped/MD590-IHC23-2015.08.10-19.34.12_MD590_2_0068_lossless_alignedTo_MD590-N47-2015.09.12-05.32.06_MD590_2_0140_cropped_patch_locations.txt\n",
      "/shared/CSHL_patch_features/inception-bn-blue/MD590/MD590_lossless_alignedTo_MD590-N47-2015.09.12-05.32.06_MD590_2_0140_cropped_gray/MD590-IHC23-2015.08.10-19.34.12_MD590_2_0068_lossless_alignedTo_MD590-N47-2015.09.12-05.32.06_MD590_2_0140_cropped_gray_patch_locations.txt\n",
      "aws s3 cp s3://mousebrainatlas-data/CSHL_patch_features/inception-bn-blue/MD590/MD590-IHC23-2015.08.10-19.34.12_MD590_2_0068_lossless_alignedTo_MD590-N47-2015.09.12-05.32.06_MD590_2_0140_cropped/MD590-IHC23-2015.08.10-19.34.12_MD590_2_0068_lossless_alignedTo_MD590-N47-2015.09.12-05.32.06_MD590_2_0140_cropped_patch_locations.txt s3://mousebrainatlas-data/CSHL_patch_features/inception-bn-blue/MD590/MD590_lossless_alignedTo_MD590-N47-2015.09.12-05.32.06_MD590_2_0140_cropped_gray/MD590-IHC23-2015.08.10-19.34.12_MD590_2_0068_lossless_alignedTo_MD590-N47-2015.09.12-05.32.06_MD590_2_0140_cropped_gray_patch_locations.txt\n"
     ]
    },
    {
     "name": "stderr",
     "output_type": "stream",
     "text": [
      "Child returned 0\n"
     ]
    },
    {
     "name": "stdout",
     "output_type": "stream",
     "text": [
      "/shared/CSHL_patch_features/inception-bn-blue/MD590/MD590-N23-2015.08.03-18.29.58_MD590_1_0069_lossless_alignedTo_MD590-N47-2015.09.12-05.32.06_MD590_2_0140_cropped/MD590-N23-2015.08.03-18.29.58_MD590_1_0069_lossless_alignedTo_MD590-N47-2015.09.12-05.32.06_MD590_2_0140_cropped_features.bp\n",
      "/shared/CSHL_patch_features/inception-bn-blue/MD590/MD590_lossless_alignedTo_MD590-N47-2015.09.12-05.32.06_MD590_2_0140_cropped_gray/MD590-N23-2015.08.03-18.29.58_MD590_1_0069_lossless_alignedTo_MD590-N47-2015.09.12-05.32.06_MD590_2_0140_cropped_gray_features.bp\n",
      "aws s3 cp s3://mousebrainatlas-data/CSHL_patch_features/inception-bn-blue/MD590/MD590-N23-2015.08.03-18.29.58_MD590_1_0069_lossless_alignedTo_MD590-N47-2015.09.12-05.32.06_MD590_2_0140_cropped/MD590-N23-2015.08.03-18.29.58_MD590_1_0069_lossless_alignedTo_MD590-N47-2015.09.12-05.32.06_MD590_2_0140_cropped_features.bp s3://mousebrainatlas-data/CSHL_patch_features/inception-bn-blue/MD590/MD590_lossless_alignedTo_MD590-N47-2015.09.12-05.32.06_MD590_2_0140_cropped_gray/MD590-N23-2015.08.03-18.29.58_MD590_1_0069_lossless_alignedTo_MD590-N47-2015.09.12-05.32.06_MD590_2_0140_cropped_gray_features.bp\n"
     ]
    },
    {
     "name": "stderr",
     "output_type": "stream",
     "text": [
      "Child returned 0\n"
     ]
    },
    {
     "name": "stdout",
     "output_type": "stream",
     "text": [
      "/shared/CSHL_patch_features/inception-bn-blue/MD590/MD590-N23-2015.08.03-18.29.58_MD590_1_0069_lossless_alignedTo_MD590-N47-2015.09.12-05.32.06_MD590_2_0140_cropped/MD590-N23-2015.08.03-18.29.58_MD590_1_0069_lossless_alignedTo_MD590-N47-2015.09.12-05.32.06_MD590_2_0140_cropped_patch_locations.txt\n",
      "/shared/CSHL_patch_features/inception-bn-blue/MD590/MD590_lossless_alignedTo_MD590-N47-2015.09.12-05.32.06_MD590_2_0140_cropped_gray/MD590-N23-2015.08.03-18.29.58_MD590_1_0069_lossless_alignedTo_MD590-N47-2015.09.12-05.32.06_MD590_2_0140_cropped_gray_patch_locations.txt\n",
      "aws s3 cp s3://mousebrainatlas-data/CSHL_patch_features/inception-bn-blue/MD590/MD590-N23-2015.08.03-18.29.58_MD590_1_0069_lossless_alignedTo_MD590-N47-2015.09.12-05.32.06_MD590_2_0140_cropped/MD590-N23-2015.08.03-18.29.58_MD590_1_0069_lossless_alignedTo_MD590-N47-2015.09.12-05.32.06_MD590_2_0140_cropped_patch_locations.txt s3://mousebrainatlas-data/CSHL_patch_features/inception-bn-blue/MD590/MD590_lossless_alignedTo_MD590-N47-2015.09.12-05.32.06_MD590_2_0140_cropped_gray/MD590-N23-2015.08.03-18.29.58_MD590_1_0069_lossless_alignedTo_MD590-N47-2015.09.12-05.32.06_MD590_2_0140_cropped_gray_patch_locations.txt\n"
     ]
    },
    {
     "name": "stderr",
     "output_type": "stream",
     "text": [
      "Child returned 0\n"
     ]
    },
    {
     "name": "stdout",
     "output_type": "stream",
     "text": [
      "/shared/CSHL_patch_features/inception-bn-blue/MD590/MD590-IHC23-2015.08.10-19.34.12_MD590_1_0069_lossless_alignedTo_MD590-N47-2015.09.12-05.32.06_MD590_2_0140_cropped/MD590-IHC23-2015.08.10-19.34.12_MD590_1_0069_lossless_alignedTo_MD590-N47-2015.09.12-05.32.06_MD590_2_0140_cropped_features.bp\n",
      "/shared/CSHL_patch_features/inception-bn-blue/MD590/MD590_lossless_alignedTo_MD590-N47-2015.09.12-05.32.06_MD590_2_0140_cropped_gray/MD590-IHC23-2015.08.10-19.34.12_MD590_1_0069_lossless_alignedTo_MD590-N47-2015.09.12-05.32.06_MD590_2_0140_cropped_gray_features.bp\n",
      "aws s3 cp s3://mousebrainatlas-data/CSHL_patch_features/inception-bn-blue/MD590/MD590-IHC23-2015.08.10-19.34.12_MD590_1_0069_lossless_alignedTo_MD590-N47-2015.09.12-05.32.06_MD590_2_0140_cropped/MD590-IHC23-2015.08.10-19.34.12_MD590_1_0069_lossless_alignedTo_MD590-N47-2015.09.12-05.32.06_MD590_2_0140_cropped_features.bp s3://mousebrainatlas-data/CSHL_patch_features/inception-bn-blue/MD590/MD590_lossless_alignedTo_MD590-N47-2015.09.12-05.32.06_MD590_2_0140_cropped_gray/MD590-IHC23-2015.08.10-19.34.12_MD590_1_0069_lossless_alignedTo_MD590-N47-2015.09.12-05.32.06_MD590_2_0140_cropped_gray_features.bp\n"
     ]
    },
    {
     "name": "stderr",
     "output_type": "stream",
     "text": [
      "Child returned 0\n"
     ]
    },
    {
     "name": "stdout",
     "output_type": "stream",
     "text": [
      "/shared/CSHL_patch_features/inception-bn-blue/MD590/MD590-IHC23-2015.08.10-19.34.12_MD590_1_0069_lossless_alignedTo_MD590-N47-2015.09.12-05.32.06_MD590_2_0140_cropped/MD590-IHC23-2015.08.10-19.34.12_MD590_1_0069_lossless_alignedTo_MD590-N47-2015.09.12-05.32.06_MD590_2_0140_cropped_patch_locations.txt\n",
      "/shared/CSHL_patch_features/inception-bn-blue/MD590/MD590_lossless_alignedTo_MD590-N47-2015.09.12-05.32.06_MD590_2_0140_cropped_gray/MD590-IHC23-2015.08.10-19.34.12_MD590_1_0069_lossless_alignedTo_MD590-N47-2015.09.12-05.32.06_MD590_2_0140_cropped_gray_patch_locations.txt\n",
      "aws s3 cp s3://mousebrainatlas-data/CSHL_patch_features/inception-bn-blue/MD590/MD590-IHC23-2015.08.10-19.34.12_MD590_1_0069_lossless_alignedTo_MD590-N47-2015.09.12-05.32.06_MD590_2_0140_cropped/MD590-IHC23-2015.08.10-19.34.12_MD590_1_0069_lossless_alignedTo_MD590-N47-2015.09.12-05.32.06_MD590_2_0140_cropped_patch_locations.txt s3://mousebrainatlas-data/CSHL_patch_features/inception-bn-blue/MD590/MD590_lossless_alignedTo_MD590-N47-2015.09.12-05.32.06_MD590_2_0140_cropped_gray/MD590-IHC23-2015.08.10-19.34.12_MD590_1_0069_lossless_alignedTo_MD590-N47-2015.09.12-05.32.06_MD590_2_0140_cropped_gray_patch_locations.txt\n"
     ]
    },
    {
     "name": "stderr",
     "output_type": "stream",
     "text": [
      "Child returned 0\n"
     ]
    },
    {
     "name": "stdout",
     "output_type": "stream",
     "text": [
      "/shared/CSHL_patch_features/inception-bn-blue/MD590/MD590-N24-2015.08.03-18.34.11_MD590_3_0070_lossless_alignedTo_MD590-N47-2015.09.12-05.32.06_MD590_2_0140_cropped/MD590-N24-2015.08.03-18.34.11_MD590_3_0070_lossless_alignedTo_MD590-N47-2015.09.12-05.32.06_MD590_2_0140_cropped_features.bp\n",
      "/shared/CSHL_patch_features/inception-bn-blue/MD590/MD590_lossless_alignedTo_MD590-N47-2015.09.12-05.32.06_MD590_2_0140_cropped_gray/MD590-N24-2015.08.03-18.34.11_MD590_3_0070_lossless_alignedTo_MD590-N47-2015.09.12-05.32.06_MD590_2_0140_cropped_gray_features.bp\n",
      "aws s3 cp s3://mousebrainatlas-data/CSHL_patch_features/inception-bn-blue/MD590/MD590-N24-2015.08.03-18.34.11_MD590_3_0070_lossless_alignedTo_MD590-N47-2015.09.12-05.32.06_MD590_2_0140_cropped/MD590-N24-2015.08.03-18.34.11_MD590_3_0070_lossless_alignedTo_MD590-N47-2015.09.12-05.32.06_MD590_2_0140_cropped_features.bp s3://mousebrainatlas-data/CSHL_patch_features/inception-bn-blue/MD590/MD590_lossless_alignedTo_MD590-N47-2015.09.12-05.32.06_MD590_2_0140_cropped_gray/MD590-N24-2015.08.03-18.34.11_MD590_3_0070_lossless_alignedTo_MD590-N47-2015.09.12-05.32.06_MD590_2_0140_cropped_gray_features.bp\n"
     ]
    },
    {
     "name": "stderr",
     "output_type": "stream",
     "text": [
      "Child returned 0\n"
     ]
    },
    {
     "name": "stdout",
     "output_type": "stream",
     "text": [
      "/shared/CSHL_patch_features/inception-bn-blue/MD590/MD590-N24-2015.08.03-18.34.11_MD590_3_0070_lossless_alignedTo_MD590-N47-2015.09.12-05.32.06_MD590_2_0140_cropped/MD590-N24-2015.08.03-18.34.11_MD590_3_0070_lossless_alignedTo_MD590-N47-2015.09.12-05.32.06_MD590_2_0140_cropped_patch_locations.txt\n",
      "/shared/CSHL_patch_features/inception-bn-blue/MD590/MD590_lossless_alignedTo_MD590-N47-2015.09.12-05.32.06_MD590_2_0140_cropped_gray/MD590-N24-2015.08.03-18.34.11_MD590_3_0070_lossless_alignedTo_MD590-N47-2015.09.12-05.32.06_MD590_2_0140_cropped_gray_patch_locations.txt\n",
      "aws s3 cp s3://mousebrainatlas-data/CSHL_patch_features/inception-bn-blue/MD590/MD590-N24-2015.08.03-18.34.11_MD590_3_0070_lossless_alignedTo_MD590-N47-2015.09.12-05.32.06_MD590_2_0140_cropped/MD590-N24-2015.08.03-18.34.11_MD590_3_0070_lossless_alignedTo_MD590-N47-2015.09.12-05.32.06_MD590_2_0140_cropped_patch_locations.txt s3://mousebrainatlas-data/CSHL_patch_features/inception-bn-blue/MD590/MD590_lossless_alignedTo_MD590-N47-2015.09.12-05.32.06_MD590_2_0140_cropped_gray/MD590-N24-2015.08.03-18.34.11_MD590_3_0070_lossless_alignedTo_MD590-N47-2015.09.12-05.32.06_MD590_2_0140_cropped_gray_patch_locations.txt\n"
     ]
    },
    {
     "name": "stderr",
     "output_type": "stream",
     "text": [
      "Child returned 0\n"
     ]
    },
    {
     "name": "stdout",
     "output_type": "stream",
     "text": [
      "/shared/CSHL_patch_features/inception-bn-blue/MD590/MD590-N24-2015.08.03-18.34.11_MD590_2_0071_lossless_alignedTo_MD590-N47-2015.09.12-05.32.06_MD590_2_0140_cropped/MD590-N24-2015.08.03-18.34.11_MD590_2_0071_lossless_alignedTo_MD590-N47-2015.09.12-05.32.06_MD590_2_0140_cropped_features.bp\n",
      "/shared/CSHL_patch_features/inception-bn-blue/MD590/MD590_lossless_alignedTo_MD590-N47-2015.09.12-05.32.06_MD590_2_0140_cropped_gray/MD590-N24-2015.08.03-18.34.11_MD590_2_0071_lossless_alignedTo_MD590-N47-2015.09.12-05.32.06_MD590_2_0140_cropped_gray_features.bp\n",
      "aws s3 cp s3://mousebrainatlas-data/CSHL_patch_features/inception-bn-blue/MD590/MD590-N24-2015.08.03-18.34.11_MD590_2_0071_lossless_alignedTo_MD590-N47-2015.09.12-05.32.06_MD590_2_0140_cropped/MD590-N24-2015.08.03-18.34.11_MD590_2_0071_lossless_alignedTo_MD590-N47-2015.09.12-05.32.06_MD590_2_0140_cropped_features.bp s3://mousebrainatlas-data/CSHL_patch_features/inception-bn-blue/MD590/MD590_lossless_alignedTo_MD590-N47-2015.09.12-05.32.06_MD590_2_0140_cropped_gray/MD590-N24-2015.08.03-18.34.11_MD590_2_0071_lossless_alignedTo_MD590-N47-2015.09.12-05.32.06_MD590_2_0140_cropped_gray_features.bp\n"
     ]
    },
    {
     "name": "stderr",
     "output_type": "stream",
     "text": [
      "Child returned 0\n"
     ]
    },
    {
     "name": "stdout",
     "output_type": "stream",
     "text": [
      "/shared/CSHL_patch_features/inception-bn-blue/MD590/MD590-N24-2015.08.03-18.34.11_MD590_2_0071_lossless_alignedTo_MD590-N47-2015.09.12-05.32.06_MD590_2_0140_cropped/MD590-N24-2015.08.03-18.34.11_MD590_2_0071_lossless_alignedTo_MD590-N47-2015.09.12-05.32.06_MD590_2_0140_cropped_patch_locations.txt\n",
      "/shared/CSHL_patch_features/inception-bn-blue/MD590/MD590_lossless_alignedTo_MD590-N47-2015.09.12-05.32.06_MD590_2_0140_cropped_gray/MD590-N24-2015.08.03-18.34.11_MD590_2_0071_lossless_alignedTo_MD590-N47-2015.09.12-05.32.06_MD590_2_0140_cropped_gray_patch_locations.txt\n",
      "aws s3 cp s3://mousebrainatlas-data/CSHL_patch_features/inception-bn-blue/MD590/MD590-N24-2015.08.03-18.34.11_MD590_2_0071_lossless_alignedTo_MD590-N47-2015.09.12-05.32.06_MD590_2_0140_cropped/MD590-N24-2015.08.03-18.34.11_MD590_2_0071_lossless_alignedTo_MD590-N47-2015.09.12-05.32.06_MD590_2_0140_cropped_patch_locations.txt s3://mousebrainatlas-data/CSHL_patch_features/inception-bn-blue/MD590/MD590_lossless_alignedTo_MD590-N47-2015.09.12-05.32.06_MD590_2_0140_cropped_gray/MD590-N24-2015.08.03-18.34.11_MD590_2_0071_lossless_alignedTo_MD590-N47-2015.09.12-05.32.06_MD590_2_0140_cropped_gray_patch_locations.txt\n"
     ]
    },
    {
     "name": "stderr",
     "output_type": "stream",
     "text": [
      "Child returned 0\n"
     ]
    },
    {
     "name": "stdout",
     "output_type": "stream",
     "text": [
      "/shared/CSHL_patch_features/inception-bn-blue/MD590/MD590-IHC24-2015.08.10-19.38.23_MD590_2_0071_lossless_alignedTo_MD590-N47-2015.09.12-05.32.06_MD590_2_0140_cropped/MD590-IHC24-2015.08.10-19.38.23_MD590_2_0071_lossless_alignedTo_MD590-N47-2015.09.12-05.32.06_MD590_2_0140_cropped_features.bp\n",
      "/shared/CSHL_patch_features/inception-bn-blue/MD590/MD590_lossless_alignedTo_MD590-N47-2015.09.12-05.32.06_MD590_2_0140_cropped_gray/MD590-IHC24-2015.08.10-19.38.23_MD590_2_0071_lossless_alignedTo_MD590-N47-2015.09.12-05.32.06_MD590_2_0140_cropped_gray_features.bp\n",
      "aws s3 cp s3://mousebrainatlas-data/CSHL_patch_features/inception-bn-blue/MD590/MD590-IHC24-2015.08.10-19.38.23_MD590_2_0071_lossless_alignedTo_MD590-N47-2015.09.12-05.32.06_MD590_2_0140_cropped/MD590-IHC24-2015.08.10-19.38.23_MD590_2_0071_lossless_alignedTo_MD590-N47-2015.09.12-05.32.06_MD590_2_0140_cropped_features.bp s3://mousebrainatlas-data/CSHL_patch_features/inception-bn-blue/MD590/MD590_lossless_alignedTo_MD590-N47-2015.09.12-05.32.06_MD590_2_0140_cropped_gray/MD590-IHC24-2015.08.10-19.38.23_MD590_2_0071_lossless_alignedTo_MD590-N47-2015.09.12-05.32.06_MD590_2_0140_cropped_gray_features.bp\n"
     ]
    },
    {
     "name": "stderr",
     "output_type": "stream",
     "text": [
      "Child returned 0\n"
     ]
    },
    {
     "name": "stdout",
     "output_type": "stream",
     "text": [
      "/shared/CSHL_patch_features/inception-bn-blue/MD590/MD590-IHC24-2015.08.10-19.38.23_MD590_2_0071_lossless_alignedTo_MD590-N47-2015.09.12-05.32.06_MD590_2_0140_cropped/MD590-IHC24-2015.08.10-19.38.23_MD590_2_0071_lossless_alignedTo_MD590-N47-2015.09.12-05.32.06_MD590_2_0140_cropped_patch_locations.txt\n",
      "/shared/CSHL_patch_features/inception-bn-blue/MD590/MD590_lossless_alignedTo_MD590-N47-2015.09.12-05.32.06_MD590_2_0140_cropped_gray/MD590-IHC24-2015.08.10-19.38.23_MD590_2_0071_lossless_alignedTo_MD590-N47-2015.09.12-05.32.06_MD590_2_0140_cropped_gray_patch_locations.txt\n",
      "aws s3 cp s3://mousebrainatlas-data/CSHL_patch_features/inception-bn-blue/MD590/MD590-IHC24-2015.08.10-19.38.23_MD590_2_0071_lossless_alignedTo_MD590-N47-2015.09.12-05.32.06_MD590_2_0140_cropped/MD590-IHC24-2015.08.10-19.38.23_MD590_2_0071_lossless_alignedTo_MD590-N47-2015.09.12-05.32.06_MD590_2_0140_cropped_patch_locations.txt s3://mousebrainatlas-data/CSHL_patch_features/inception-bn-blue/MD590/MD590_lossless_alignedTo_MD590-N47-2015.09.12-05.32.06_MD590_2_0140_cropped_gray/MD590-IHC24-2015.08.10-19.38.23_MD590_2_0071_lossless_alignedTo_MD590-N47-2015.09.12-05.32.06_MD590_2_0140_cropped_gray_patch_locations.txt\n"
     ]
    },
    {
     "name": "stderr",
     "output_type": "stream",
     "text": [
      "Child returned 0\n"
     ]
    },
    {
     "name": "stdout",
     "output_type": "stream",
     "text": [
      "/shared/CSHL_patch_features/inception-bn-blue/MD590/MD590-N24-2015.08.03-18.34.11_MD590_1_0072_lossless_alignedTo_MD590-N47-2015.09.12-05.32.06_MD590_2_0140_cropped/MD590-N24-2015.08.03-18.34.11_MD590_1_0072_lossless_alignedTo_MD590-N47-2015.09.12-05.32.06_MD590_2_0140_cropped_features.bp\n",
      "/shared/CSHL_patch_features/inception-bn-blue/MD590/MD590_lossless_alignedTo_MD590-N47-2015.09.12-05.32.06_MD590_2_0140_cropped_gray/MD590-N24-2015.08.03-18.34.11_MD590_1_0072_lossless_alignedTo_MD590-N47-2015.09.12-05.32.06_MD590_2_0140_cropped_gray_features.bp\n",
      "aws s3 cp s3://mousebrainatlas-data/CSHL_patch_features/inception-bn-blue/MD590/MD590-N24-2015.08.03-18.34.11_MD590_1_0072_lossless_alignedTo_MD590-N47-2015.09.12-05.32.06_MD590_2_0140_cropped/MD590-N24-2015.08.03-18.34.11_MD590_1_0072_lossless_alignedTo_MD590-N47-2015.09.12-05.32.06_MD590_2_0140_cropped_features.bp s3://mousebrainatlas-data/CSHL_patch_features/inception-bn-blue/MD590/MD590_lossless_alignedTo_MD590-N47-2015.09.12-05.32.06_MD590_2_0140_cropped_gray/MD590-N24-2015.08.03-18.34.11_MD590_1_0072_lossless_alignedTo_MD590-N47-2015.09.12-05.32.06_MD590_2_0140_cropped_gray_features.bp\n"
     ]
    },
    {
     "name": "stderr",
     "output_type": "stream",
     "text": [
      "Child returned 0\n"
     ]
    },
    {
     "name": "stdout",
     "output_type": "stream",
     "text": [
      "/shared/CSHL_patch_features/inception-bn-blue/MD590/MD590-N24-2015.08.03-18.34.11_MD590_1_0072_lossless_alignedTo_MD590-N47-2015.09.12-05.32.06_MD590_2_0140_cropped/MD590-N24-2015.08.03-18.34.11_MD590_1_0072_lossless_alignedTo_MD590-N47-2015.09.12-05.32.06_MD590_2_0140_cropped_patch_locations.txt\n",
      "/shared/CSHL_patch_features/inception-bn-blue/MD590/MD590_lossless_alignedTo_MD590-N47-2015.09.12-05.32.06_MD590_2_0140_cropped_gray/MD590-N24-2015.08.03-18.34.11_MD590_1_0072_lossless_alignedTo_MD590-N47-2015.09.12-05.32.06_MD590_2_0140_cropped_gray_patch_locations.txt\n",
      "aws s3 cp s3://mousebrainatlas-data/CSHL_patch_features/inception-bn-blue/MD590/MD590-N24-2015.08.03-18.34.11_MD590_1_0072_lossless_alignedTo_MD590-N47-2015.09.12-05.32.06_MD590_2_0140_cropped/MD590-N24-2015.08.03-18.34.11_MD590_1_0072_lossless_alignedTo_MD590-N47-2015.09.12-05.32.06_MD590_2_0140_cropped_patch_locations.txt s3://mousebrainatlas-data/CSHL_patch_features/inception-bn-blue/MD590/MD590_lossless_alignedTo_MD590-N47-2015.09.12-05.32.06_MD590_2_0140_cropped_gray/MD590-N24-2015.08.03-18.34.11_MD590_1_0072_lossless_alignedTo_MD590-N47-2015.09.12-05.32.06_MD590_2_0140_cropped_gray_patch_locations.txt\n"
     ]
    },
    {
     "name": "stderr",
     "output_type": "stream",
     "text": [
      "Child returned 0\n"
     ]
    },
    {
     "name": "stdout",
     "output_type": "stream",
     "text": [
      "/shared/CSHL_patch_features/inception-bn-blue/MD590/MD590-IHC24-2015.08.10-19.38.23_MD590_1_0072_lossless_alignedTo_MD590-N47-2015.09.12-05.32.06_MD590_2_0140_cropped/MD590-IHC24-2015.08.10-19.38.23_MD590_1_0072_lossless_alignedTo_MD590-N47-2015.09.12-05.32.06_MD590_2_0140_cropped_features.bp\n",
      "/shared/CSHL_patch_features/inception-bn-blue/MD590/MD590_lossless_alignedTo_MD590-N47-2015.09.12-05.32.06_MD590_2_0140_cropped_gray/MD590-IHC24-2015.08.10-19.38.23_MD590_1_0072_lossless_alignedTo_MD590-N47-2015.09.12-05.32.06_MD590_2_0140_cropped_gray_features.bp\n",
      "aws s3 cp s3://mousebrainatlas-data/CSHL_patch_features/inception-bn-blue/MD590/MD590-IHC24-2015.08.10-19.38.23_MD590_1_0072_lossless_alignedTo_MD590-N47-2015.09.12-05.32.06_MD590_2_0140_cropped/MD590-IHC24-2015.08.10-19.38.23_MD590_1_0072_lossless_alignedTo_MD590-N47-2015.09.12-05.32.06_MD590_2_0140_cropped_features.bp s3://mousebrainatlas-data/CSHL_patch_features/inception-bn-blue/MD590/MD590_lossless_alignedTo_MD590-N47-2015.09.12-05.32.06_MD590_2_0140_cropped_gray/MD590-IHC24-2015.08.10-19.38.23_MD590_1_0072_lossless_alignedTo_MD590-N47-2015.09.12-05.32.06_MD590_2_0140_cropped_gray_features.bp\n"
     ]
    },
    {
     "name": "stderr",
     "output_type": "stream",
     "text": [
      "Child returned 0\n"
     ]
    },
    {
     "name": "stdout",
     "output_type": "stream",
     "text": [
      "/shared/CSHL_patch_features/inception-bn-blue/MD590/MD590-IHC24-2015.08.10-19.38.23_MD590_1_0072_lossless_alignedTo_MD590-N47-2015.09.12-05.32.06_MD590_2_0140_cropped/MD590-IHC24-2015.08.10-19.38.23_MD590_1_0072_lossless_alignedTo_MD590-N47-2015.09.12-05.32.06_MD590_2_0140_cropped_patch_locations.txt\n",
      "/shared/CSHL_patch_features/inception-bn-blue/MD590/MD590_lossless_alignedTo_MD590-N47-2015.09.12-05.32.06_MD590_2_0140_cropped_gray/MD590-IHC24-2015.08.10-19.38.23_MD590_1_0072_lossless_alignedTo_MD590-N47-2015.09.12-05.32.06_MD590_2_0140_cropped_gray_patch_locations.txt\n",
      "aws s3 cp s3://mousebrainatlas-data/CSHL_patch_features/inception-bn-blue/MD590/MD590-IHC24-2015.08.10-19.38.23_MD590_1_0072_lossless_alignedTo_MD590-N47-2015.09.12-05.32.06_MD590_2_0140_cropped/MD590-IHC24-2015.08.10-19.38.23_MD590_1_0072_lossless_alignedTo_MD590-N47-2015.09.12-05.32.06_MD590_2_0140_cropped_patch_locations.txt s3://mousebrainatlas-data/CSHL_patch_features/inception-bn-blue/MD590/MD590_lossless_alignedTo_MD590-N47-2015.09.12-05.32.06_MD590_2_0140_cropped_gray/MD590-IHC24-2015.08.10-19.38.23_MD590_1_0072_lossless_alignedTo_MD590-N47-2015.09.12-05.32.06_MD590_2_0140_cropped_gray_patch_locations.txt\n"
     ]
    },
    {
     "name": "stderr",
     "output_type": "stream",
     "text": [
      "Child returned 0\n"
     ]
    },
    {
     "name": "stdout",
     "output_type": "stream",
     "text": [
      "/shared/CSHL_patch_features/inception-bn-blue/MD590/MD590-N25-2015.09.12-05.15.53_MD590_1_0073_lossless_alignedTo_MD590-N47-2015.09.12-05.32.06_MD590_2_0140_cropped/MD590-N25-2015.09.12-05.15.53_MD590_1_0073_lossless_alignedTo_MD590-N47-2015.09.12-05.32.06_MD590_2_0140_cropped_features.bp\n",
      "/shared/CSHL_patch_features/inception-bn-blue/MD590/MD590_lossless_alignedTo_MD590-N47-2015.09.12-05.32.06_MD590_2_0140_cropped_gray/MD590-N25-2015.09.12-05.15.53_MD590_1_0073_lossless_alignedTo_MD590-N47-2015.09.12-05.32.06_MD590_2_0140_cropped_gray_features.bp\n",
      "aws s3 cp s3://mousebrainatlas-data/CSHL_patch_features/inception-bn-blue/MD590/MD590-N25-2015.09.12-05.15.53_MD590_1_0073_lossless_alignedTo_MD590-N47-2015.09.12-05.32.06_MD590_2_0140_cropped/MD590-N25-2015.09.12-05.15.53_MD590_1_0073_lossless_alignedTo_MD590-N47-2015.09.12-05.32.06_MD590_2_0140_cropped_features.bp s3://mousebrainatlas-data/CSHL_patch_features/inception-bn-blue/MD590/MD590_lossless_alignedTo_MD590-N47-2015.09.12-05.32.06_MD590_2_0140_cropped_gray/MD590-N25-2015.09.12-05.15.53_MD590_1_0073_lossless_alignedTo_MD590-N47-2015.09.12-05.32.06_MD590_2_0140_cropped_gray_features.bp\n"
     ]
    },
    {
     "name": "stderr",
     "output_type": "stream",
     "text": [
      "Child returned 0\n"
     ]
    },
    {
     "name": "stdout",
     "output_type": "stream",
     "text": [
      "/shared/CSHL_patch_features/inception-bn-blue/MD590/MD590-N25-2015.09.12-05.15.53_MD590_1_0073_lossless_alignedTo_MD590-N47-2015.09.12-05.32.06_MD590_2_0140_cropped/MD590-N25-2015.09.12-05.15.53_MD590_1_0073_lossless_alignedTo_MD590-N47-2015.09.12-05.32.06_MD590_2_0140_cropped_patch_locations.txt\n",
      "/shared/CSHL_patch_features/inception-bn-blue/MD590/MD590_lossless_alignedTo_MD590-N47-2015.09.12-05.32.06_MD590_2_0140_cropped_gray/MD590-N25-2015.09.12-05.15.53_MD590_1_0073_lossless_alignedTo_MD590-N47-2015.09.12-05.32.06_MD590_2_0140_cropped_gray_patch_locations.txt\n",
      "aws s3 cp s3://mousebrainatlas-data/CSHL_patch_features/inception-bn-blue/MD590/MD590-N25-2015.09.12-05.15.53_MD590_1_0073_lossless_alignedTo_MD590-N47-2015.09.12-05.32.06_MD590_2_0140_cropped/MD590-N25-2015.09.12-05.15.53_MD590_1_0073_lossless_alignedTo_MD590-N47-2015.09.12-05.32.06_MD590_2_0140_cropped_patch_locations.txt s3://mousebrainatlas-data/CSHL_patch_features/inception-bn-blue/MD590/MD590_lossless_alignedTo_MD590-N47-2015.09.12-05.32.06_MD590_2_0140_cropped_gray/MD590-N25-2015.09.12-05.15.53_MD590_1_0073_lossless_alignedTo_MD590-N47-2015.09.12-05.32.06_MD590_2_0140_cropped_gray_patch_locations.txt\n"
     ]
    },
    {
     "name": "stderr",
     "output_type": "stream",
     "text": [
      "Child returned 0\n"
     ]
    },
    {
     "name": "stdout",
     "output_type": "stream",
     "text": [
      "/shared/CSHL_patch_features/inception-bn-blue/MD590/MD590-IHC25-2015.08.10-19.42.49_MD590_3_0073_lossless_alignedTo_MD590-N47-2015.09.12-05.32.06_MD590_2_0140_cropped/MD590-IHC25-2015.08.10-19.42.49_MD590_3_0073_lossless_alignedTo_MD590-N47-2015.09.12-05.32.06_MD590_2_0140_cropped_features.bp\n",
      "/shared/CSHL_patch_features/inception-bn-blue/MD590/MD590_lossless_alignedTo_MD590-N47-2015.09.12-05.32.06_MD590_2_0140_cropped_gray/MD590-IHC25-2015.08.10-19.42.49_MD590_3_0073_lossless_alignedTo_MD590-N47-2015.09.12-05.32.06_MD590_2_0140_cropped_gray_features.bp\n",
      "aws s3 cp s3://mousebrainatlas-data/CSHL_patch_features/inception-bn-blue/MD590/MD590-IHC25-2015.08.10-19.42.49_MD590_3_0073_lossless_alignedTo_MD590-N47-2015.09.12-05.32.06_MD590_2_0140_cropped/MD590-IHC25-2015.08.10-19.42.49_MD590_3_0073_lossless_alignedTo_MD590-N47-2015.09.12-05.32.06_MD590_2_0140_cropped_features.bp s3://mousebrainatlas-data/CSHL_patch_features/inception-bn-blue/MD590/MD590_lossless_alignedTo_MD590-N47-2015.09.12-05.32.06_MD590_2_0140_cropped_gray/MD590-IHC25-2015.08.10-19.42.49_MD590_3_0073_lossless_alignedTo_MD590-N47-2015.09.12-05.32.06_MD590_2_0140_cropped_gray_features.bp\n"
     ]
    },
    {
     "name": "stderr",
     "output_type": "stream",
     "text": [
      "Child returned 0\n"
     ]
    },
    {
     "name": "stdout",
     "output_type": "stream",
     "text": [
      "/shared/CSHL_patch_features/inception-bn-blue/MD590/MD590-IHC25-2015.08.10-19.42.49_MD590_3_0073_lossless_alignedTo_MD590-N47-2015.09.12-05.32.06_MD590_2_0140_cropped/MD590-IHC25-2015.08.10-19.42.49_MD590_3_0073_lossless_alignedTo_MD590-N47-2015.09.12-05.32.06_MD590_2_0140_cropped_patch_locations.txt\n",
      "/shared/CSHL_patch_features/inception-bn-blue/MD590/MD590_lossless_alignedTo_MD590-N47-2015.09.12-05.32.06_MD590_2_0140_cropped_gray/MD590-IHC25-2015.08.10-19.42.49_MD590_3_0073_lossless_alignedTo_MD590-N47-2015.09.12-05.32.06_MD590_2_0140_cropped_gray_patch_locations.txt\n",
      "aws s3 cp s3://mousebrainatlas-data/CSHL_patch_features/inception-bn-blue/MD590/MD590-IHC25-2015.08.10-19.42.49_MD590_3_0073_lossless_alignedTo_MD590-N47-2015.09.12-05.32.06_MD590_2_0140_cropped/MD590-IHC25-2015.08.10-19.42.49_MD590_3_0073_lossless_alignedTo_MD590-N47-2015.09.12-05.32.06_MD590_2_0140_cropped_patch_locations.txt s3://mousebrainatlas-data/CSHL_patch_features/inception-bn-blue/MD590/MD590_lossless_alignedTo_MD590-N47-2015.09.12-05.32.06_MD590_2_0140_cropped_gray/MD590-IHC25-2015.08.10-19.42.49_MD590_3_0073_lossless_alignedTo_MD590-N47-2015.09.12-05.32.06_MD590_2_0140_cropped_gray_patch_locations.txt\n"
     ]
    },
    {
     "name": "stderr",
     "output_type": "stream",
     "text": [
      "Child returned 0\n"
     ]
    },
    {
     "name": "stdout",
     "output_type": "stream",
     "text": [
      "/shared/CSHL_patch_features/inception-bn-blue/MD590/MD590-N25-2015.09.12-05.15.53_MD590_2_0074_lossless_alignedTo_MD590-N47-2015.09.12-05.32.06_MD590_2_0140_cropped/MD590-N25-2015.09.12-05.15.53_MD590_2_0074_lossless_alignedTo_MD590-N47-2015.09.12-05.32.06_MD590_2_0140_cropped_features.bp\n",
      "/shared/CSHL_patch_features/inception-bn-blue/MD590/MD590_lossless_alignedTo_MD590-N47-2015.09.12-05.32.06_MD590_2_0140_cropped_gray/MD590-N25-2015.09.12-05.15.53_MD590_2_0074_lossless_alignedTo_MD590-N47-2015.09.12-05.32.06_MD590_2_0140_cropped_gray_features.bp\n",
      "aws s3 cp s3://mousebrainatlas-data/CSHL_patch_features/inception-bn-blue/MD590/MD590-N25-2015.09.12-05.15.53_MD590_2_0074_lossless_alignedTo_MD590-N47-2015.09.12-05.32.06_MD590_2_0140_cropped/MD590-N25-2015.09.12-05.15.53_MD590_2_0074_lossless_alignedTo_MD590-N47-2015.09.12-05.32.06_MD590_2_0140_cropped_features.bp s3://mousebrainatlas-data/CSHL_patch_features/inception-bn-blue/MD590/MD590_lossless_alignedTo_MD590-N47-2015.09.12-05.32.06_MD590_2_0140_cropped_gray/MD590-N25-2015.09.12-05.15.53_MD590_2_0074_lossless_alignedTo_MD590-N47-2015.09.12-05.32.06_MD590_2_0140_cropped_gray_features.bp\n"
     ]
    },
    {
     "name": "stderr",
     "output_type": "stream",
     "text": [
      "Child returned 0\n"
     ]
    },
    {
     "name": "stdout",
     "output_type": "stream",
     "text": [
      "/shared/CSHL_patch_features/inception-bn-blue/MD590/MD590-N25-2015.09.12-05.15.53_MD590_2_0074_lossless_alignedTo_MD590-N47-2015.09.12-05.32.06_MD590_2_0140_cropped/MD590-N25-2015.09.12-05.15.53_MD590_2_0074_lossless_alignedTo_MD590-N47-2015.09.12-05.32.06_MD590_2_0140_cropped_patch_locations.txt\n",
      "/shared/CSHL_patch_features/inception-bn-blue/MD590/MD590_lossless_alignedTo_MD590-N47-2015.09.12-05.32.06_MD590_2_0140_cropped_gray/MD590-N25-2015.09.12-05.15.53_MD590_2_0074_lossless_alignedTo_MD590-N47-2015.09.12-05.32.06_MD590_2_0140_cropped_gray_patch_locations.txt\n",
      "aws s3 cp s3://mousebrainatlas-data/CSHL_patch_features/inception-bn-blue/MD590/MD590-N25-2015.09.12-05.15.53_MD590_2_0074_lossless_alignedTo_MD590-N47-2015.09.12-05.32.06_MD590_2_0140_cropped/MD590-N25-2015.09.12-05.15.53_MD590_2_0074_lossless_alignedTo_MD590-N47-2015.09.12-05.32.06_MD590_2_0140_cropped_patch_locations.txt s3://mousebrainatlas-data/CSHL_patch_features/inception-bn-blue/MD590/MD590_lossless_alignedTo_MD590-N47-2015.09.12-05.32.06_MD590_2_0140_cropped_gray/MD590-N25-2015.09.12-05.15.53_MD590_2_0074_lossless_alignedTo_MD590-N47-2015.09.12-05.32.06_MD590_2_0140_cropped_gray_patch_locations.txt\n"
     ]
    },
    {
     "name": "stderr",
     "output_type": "stream",
     "text": [
      "Child returned 0\n"
     ]
    },
    {
     "name": "stdout",
     "output_type": "stream",
     "text": [
      "/shared/CSHL_patch_features/inception-bn-blue/MD590/MD590-IHC25-2015.08.10-19.42.49_MD590_2_0074_lossless_alignedTo_MD590-N47-2015.09.12-05.32.06_MD590_2_0140_cropped/MD590-IHC25-2015.08.10-19.42.49_MD590_2_0074_lossless_alignedTo_MD590-N47-2015.09.12-05.32.06_MD590_2_0140_cropped_features.bp\n",
      "/shared/CSHL_patch_features/inception-bn-blue/MD590/MD590_lossless_alignedTo_MD590-N47-2015.09.12-05.32.06_MD590_2_0140_cropped_gray/MD590-IHC25-2015.08.10-19.42.49_MD590_2_0074_lossless_alignedTo_MD590-N47-2015.09.12-05.32.06_MD590_2_0140_cropped_gray_features.bp\n",
      "aws s3 cp s3://mousebrainatlas-data/CSHL_patch_features/inception-bn-blue/MD590/MD590-IHC25-2015.08.10-19.42.49_MD590_2_0074_lossless_alignedTo_MD590-N47-2015.09.12-05.32.06_MD590_2_0140_cropped/MD590-IHC25-2015.08.10-19.42.49_MD590_2_0074_lossless_alignedTo_MD590-N47-2015.09.12-05.32.06_MD590_2_0140_cropped_features.bp s3://mousebrainatlas-data/CSHL_patch_features/inception-bn-blue/MD590/MD590_lossless_alignedTo_MD590-N47-2015.09.12-05.32.06_MD590_2_0140_cropped_gray/MD590-IHC25-2015.08.10-19.42.49_MD590_2_0074_lossless_alignedTo_MD590-N47-2015.09.12-05.32.06_MD590_2_0140_cropped_gray_features.bp\n"
     ]
    },
    {
     "name": "stderr",
     "output_type": "stream",
     "text": [
      "Child returned 0\n"
     ]
    },
    {
     "name": "stdout",
     "output_type": "stream",
     "text": [
      "/shared/CSHL_patch_features/inception-bn-blue/MD590/MD590-IHC25-2015.08.10-19.42.49_MD590_2_0074_lossless_alignedTo_MD590-N47-2015.09.12-05.32.06_MD590_2_0140_cropped/MD590-IHC25-2015.08.10-19.42.49_MD590_2_0074_lossless_alignedTo_MD590-N47-2015.09.12-05.32.06_MD590_2_0140_cropped_patch_locations.txt\n",
      "/shared/CSHL_patch_features/inception-bn-blue/MD590/MD590_lossless_alignedTo_MD590-N47-2015.09.12-05.32.06_MD590_2_0140_cropped_gray/MD590-IHC25-2015.08.10-19.42.49_MD590_2_0074_lossless_alignedTo_MD590-N47-2015.09.12-05.32.06_MD590_2_0140_cropped_gray_patch_locations.txt\n",
      "aws s3 cp s3://mousebrainatlas-data/CSHL_patch_features/inception-bn-blue/MD590/MD590-IHC25-2015.08.10-19.42.49_MD590_2_0074_lossless_alignedTo_MD590-N47-2015.09.12-05.32.06_MD590_2_0140_cropped/MD590-IHC25-2015.08.10-19.42.49_MD590_2_0074_lossless_alignedTo_MD590-N47-2015.09.12-05.32.06_MD590_2_0140_cropped_patch_locations.txt s3://mousebrainatlas-data/CSHL_patch_features/inception-bn-blue/MD590/MD590_lossless_alignedTo_MD590-N47-2015.09.12-05.32.06_MD590_2_0140_cropped_gray/MD590-IHC25-2015.08.10-19.42.49_MD590_2_0074_lossless_alignedTo_MD590-N47-2015.09.12-05.32.06_MD590_2_0140_cropped_gray_patch_locations.txt\n"
     ]
    },
    {
     "name": "stderr",
     "output_type": "stream",
     "text": [
      "Child returned 0\n"
     ]
    },
    {
     "name": "stdout",
     "output_type": "stream",
     "text": [
      "/shared/CSHL_patch_features/inception-bn-blue/MD590/MD590-N25-2015.09.12-05.15.53_MD590_3_0075_lossless_alignedTo_MD590-N47-2015.09.12-05.32.06_MD590_2_0140_cropped/MD590-N25-2015.09.12-05.15.53_MD590_3_0075_lossless_alignedTo_MD590-N47-2015.09.12-05.32.06_MD590_2_0140_cropped_features.bp\n",
      "/shared/CSHL_patch_features/inception-bn-blue/MD590/MD590_lossless_alignedTo_MD590-N47-2015.09.12-05.32.06_MD590_2_0140_cropped_gray/MD590-N25-2015.09.12-05.15.53_MD590_3_0075_lossless_alignedTo_MD590-N47-2015.09.12-05.32.06_MD590_2_0140_cropped_gray_features.bp\n",
      "aws s3 cp s3://mousebrainatlas-data/CSHL_patch_features/inception-bn-blue/MD590/MD590-N25-2015.09.12-05.15.53_MD590_3_0075_lossless_alignedTo_MD590-N47-2015.09.12-05.32.06_MD590_2_0140_cropped/MD590-N25-2015.09.12-05.15.53_MD590_3_0075_lossless_alignedTo_MD590-N47-2015.09.12-05.32.06_MD590_2_0140_cropped_features.bp s3://mousebrainatlas-data/CSHL_patch_features/inception-bn-blue/MD590/MD590_lossless_alignedTo_MD590-N47-2015.09.12-05.32.06_MD590_2_0140_cropped_gray/MD590-N25-2015.09.12-05.15.53_MD590_3_0075_lossless_alignedTo_MD590-N47-2015.09.12-05.32.06_MD590_2_0140_cropped_gray_features.bp\n"
     ]
    },
    {
     "name": "stderr",
     "output_type": "stream",
     "text": [
      "Child returned 0\n"
     ]
    },
    {
     "name": "stdout",
     "output_type": "stream",
     "text": [
      "/shared/CSHL_patch_features/inception-bn-blue/MD590/MD590-N25-2015.09.12-05.15.53_MD590_3_0075_lossless_alignedTo_MD590-N47-2015.09.12-05.32.06_MD590_2_0140_cropped/MD590-N25-2015.09.12-05.15.53_MD590_3_0075_lossless_alignedTo_MD590-N47-2015.09.12-05.32.06_MD590_2_0140_cropped_patch_locations.txt\n",
      "/shared/CSHL_patch_features/inception-bn-blue/MD590/MD590_lossless_alignedTo_MD590-N47-2015.09.12-05.32.06_MD590_2_0140_cropped_gray/MD590-N25-2015.09.12-05.15.53_MD590_3_0075_lossless_alignedTo_MD590-N47-2015.09.12-05.32.06_MD590_2_0140_cropped_gray_patch_locations.txt\n",
      "aws s3 cp s3://mousebrainatlas-data/CSHL_patch_features/inception-bn-blue/MD590/MD590-N25-2015.09.12-05.15.53_MD590_3_0075_lossless_alignedTo_MD590-N47-2015.09.12-05.32.06_MD590_2_0140_cropped/MD590-N25-2015.09.12-05.15.53_MD590_3_0075_lossless_alignedTo_MD590-N47-2015.09.12-05.32.06_MD590_2_0140_cropped_patch_locations.txt s3://mousebrainatlas-data/CSHL_patch_features/inception-bn-blue/MD590/MD590_lossless_alignedTo_MD590-N47-2015.09.12-05.32.06_MD590_2_0140_cropped_gray/MD590-N25-2015.09.12-05.15.53_MD590_3_0075_lossless_alignedTo_MD590-N47-2015.09.12-05.32.06_MD590_2_0140_cropped_gray_patch_locations.txt\n"
     ]
    },
    {
     "name": "stderr",
     "output_type": "stream",
     "text": [
      "Child returned 0\n"
     ]
    },
    {
     "name": "stdout",
     "output_type": "stream",
     "text": [
      "/shared/CSHL_patch_features/inception-bn-blue/MD590/MD590-IHC25-2015.08.10-19.42.49_MD590_1_0075_lossless_alignedTo_MD590-N47-2015.09.12-05.32.06_MD590_2_0140_cropped/MD590-IHC25-2015.08.10-19.42.49_MD590_1_0075_lossless_alignedTo_MD590-N47-2015.09.12-05.32.06_MD590_2_0140_cropped_features.bp\n",
      "/shared/CSHL_patch_features/inception-bn-blue/MD590/MD590_lossless_alignedTo_MD590-N47-2015.09.12-05.32.06_MD590_2_0140_cropped_gray/MD590-IHC25-2015.08.10-19.42.49_MD590_1_0075_lossless_alignedTo_MD590-N47-2015.09.12-05.32.06_MD590_2_0140_cropped_gray_features.bp\n",
      "aws s3 cp s3://mousebrainatlas-data/CSHL_patch_features/inception-bn-blue/MD590/MD590-IHC25-2015.08.10-19.42.49_MD590_1_0075_lossless_alignedTo_MD590-N47-2015.09.12-05.32.06_MD590_2_0140_cropped/MD590-IHC25-2015.08.10-19.42.49_MD590_1_0075_lossless_alignedTo_MD590-N47-2015.09.12-05.32.06_MD590_2_0140_cropped_features.bp s3://mousebrainatlas-data/CSHL_patch_features/inception-bn-blue/MD590/MD590_lossless_alignedTo_MD590-N47-2015.09.12-05.32.06_MD590_2_0140_cropped_gray/MD590-IHC25-2015.08.10-19.42.49_MD590_1_0075_lossless_alignedTo_MD590-N47-2015.09.12-05.32.06_MD590_2_0140_cropped_gray_features.bp\n"
     ]
    },
    {
     "name": "stderr",
     "output_type": "stream",
     "text": [
      "Child returned 0\n"
     ]
    },
    {
     "name": "stdout",
     "output_type": "stream",
     "text": [
      "/shared/CSHL_patch_features/inception-bn-blue/MD590/MD590-IHC25-2015.08.10-19.42.49_MD590_1_0075_lossless_alignedTo_MD590-N47-2015.09.12-05.32.06_MD590_2_0140_cropped/MD590-IHC25-2015.08.10-19.42.49_MD590_1_0075_lossless_alignedTo_MD590-N47-2015.09.12-05.32.06_MD590_2_0140_cropped_patch_locations.txt\n",
      "/shared/CSHL_patch_features/inception-bn-blue/MD590/MD590_lossless_alignedTo_MD590-N47-2015.09.12-05.32.06_MD590_2_0140_cropped_gray/MD590-IHC25-2015.08.10-19.42.49_MD590_1_0075_lossless_alignedTo_MD590-N47-2015.09.12-05.32.06_MD590_2_0140_cropped_gray_patch_locations.txt\n",
      "aws s3 cp s3://mousebrainatlas-data/CSHL_patch_features/inception-bn-blue/MD590/MD590-IHC25-2015.08.10-19.42.49_MD590_1_0075_lossless_alignedTo_MD590-N47-2015.09.12-05.32.06_MD590_2_0140_cropped/MD590-IHC25-2015.08.10-19.42.49_MD590_1_0075_lossless_alignedTo_MD590-N47-2015.09.12-05.32.06_MD590_2_0140_cropped_patch_locations.txt s3://mousebrainatlas-data/CSHL_patch_features/inception-bn-blue/MD590/MD590_lossless_alignedTo_MD590-N47-2015.09.12-05.32.06_MD590_2_0140_cropped_gray/MD590-IHC25-2015.08.10-19.42.49_MD590_1_0075_lossless_alignedTo_MD590-N47-2015.09.12-05.32.06_MD590_2_0140_cropped_gray_patch_locations.txt\n"
     ]
    },
    {
     "name": "stderr",
     "output_type": "stream",
     "text": [
      "Child returned 0\n"
     ]
    },
    {
     "name": "stdout",
     "output_type": "stream",
     "text": [
      "/shared/CSHL_patch_features/inception-bn-blue/MD590/MD590-N26-2015.08.03-18.42.38_MD590_3_0076_lossless_alignedTo_MD590-N47-2015.09.12-05.32.06_MD590_2_0140_cropped/MD590-N26-2015.08.03-18.42.38_MD590_3_0076_lossless_alignedTo_MD590-N47-2015.09.12-05.32.06_MD590_2_0140_cropped_features.bp\n",
      "/shared/CSHL_patch_features/inception-bn-blue/MD590/MD590_lossless_alignedTo_MD590-N47-2015.09.12-05.32.06_MD590_2_0140_cropped_gray/MD590-N26-2015.08.03-18.42.38_MD590_3_0076_lossless_alignedTo_MD590-N47-2015.09.12-05.32.06_MD590_2_0140_cropped_gray_features.bp\n",
      "aws s3 cp s3://mousebrainatlas-data/CSHL_patch_features/inception-bn-blue/MD590/MD590-N26-2015.08.03-18.42.38_MD590_3_0076_lossless_alignedTo_MD590-N47-2015.09.12-05.32.06_MD590_2_0140_cropped/MD590-N26-2015.08.03-18.42.38_MD590_3_0076_lossless_alignedTo_MD590-N47-2015.09.12-05.32.06_MD590_2_0140_cropped_features.bp s3://mousebrainatlas-data/CSHL_patch_features/inception-bn-blue/MD590/MD590_lossless_alignedTo_MD590-N47-2015.09.12-05.32.06_MD590_2_0140_cropped_gray/MD590-N26-2015.08.03-18.42.38_MD590_3_0076_lossless_alignedTo_MD590-N47-2015.09.12-05.32.06_MD590_2_0140_cropped_gray_features.bp\n"
     ]
    },
    {
     "name": "stderr",
     "output_type": "stream",
     "text": [
      "Child returned 0\n"
     ]
    },
    {
     "name": "stdout",
     "output_type": "stream",
     "text": [
      "/shared/CSHL_patch_features/inception-bn-blue/MD590/MD590-N26-2015.08.03-18.42.38_MD590_3_0076_lossless_alignedTo_MD590-N47-2015.09.12-05.32.06_MD590_2_0140_cropped/MD590-N26-2015.08.03-18.42.38_MD590_3_0076_lossless_alignedTo_MD590-N47-2015.09.12-05.32.06_MD590_2_0140_cropped_patch_locations.txt\n",
      "/shared/CSHL_patch_features/inception-bn-blue/MD590/MD590_lossless_alignedTo_MD590-N47-2015.09.12-05.32.06_MD590_2_0140_cropped_gray/MD590-N26-2015.08.03-18.42.38_MD590_3_0076_lossless_alignedTo_MD590-N47-2015.09.12-05.32.06_MD590_2_0140_cropped_gray_patch_locations.txt\n",
      "aws s3 cp s3://mousebrainatlas-data/CSHL_patch_features/inception-bn-blue/MD590/MD590-N26-2015.08.03-18.42.38_MD590_3_0076_lossless_alignedTo_MD590-N47-2015.09.12-05.32.06_MD590_2_0140_cropped/MD590-N26-2015.08.03-18.42.38_MD590_3_0076_lossless_alignedTo_MD590-N47-2015.09.12-05.32.06_MD590_2_0140_cropped_patch_locations.txt s3://mousebrainatlas-data/CSHL_patch_features/inception-bn-blue/MD590/MD590_lossless_alignedTo_MD590-N47-2015.09.12-05.32.06_MD590_2_0140_cropped_gray/MD590-N26-2015.08.03-18.42.38_MD590_3_0076_lossless_alignedTo_MD590-N47-2015.09.12-05.32.06_MD590_2_0140_cropped_gray_patch_locations.txt\n"
     ]
    },
    {
     "name": "stderr",
     "output_type": "stream",
     "text": [
      "Child returned 0\n"
     ]
    },
    {
     "name": "stdout",
     "output_type": "stream",
     "text": [
      "/shared/CSHL_patch_features/inception-bn-blue/MD590/MD590-IHC26-2015.08.10-19.47.18_MD590_3_0076_lossless_alignedTo_MD590-N47-2015.09.12-05.32.06_MD590_2_0140_cropped/MD590-IHC26-2015.08.10-19.47.18_MD590_3_0076_lossless_alignedTo_MD590-N47-2015.09.12-05.32.06_MD590_2_0140_cropped_features.bp\n",
      "/shared/CSHL_patch_features/inception-bn-blue/MD590/MD590_lossless_alignedTo_MD590-N47-2015.09.12-05.32.06_MD590_2_0140_cropped_gray/MD590-IHC26-2015.08.10-19.47.18_MD590_3_0076_lossless_alignedTo_MD590-N47-2015.09.12-05.32.06_MD590_2_0140_cropped_gray_features.bp\n",
      "aws s3 cp s3://mousebrainatlas-data/CSHL_patch_features/inception-bn-blue/MD590/MD590-IHC26-2015.08.10-19.47.18_MD590_3_0076_lossless_alignedTo_MD590-N47-2015.09.12-05.32.06_MD590_2_0140_cropped/MD590-IHC26-2015.08.10-19.47.18_MD590_3_0076_lossless_alignedTo_MD590-N47-2015.09.12-05.32.06_MD590_2_0140_cropped_features.bp s3://mousebrainatlas-data/CSHL_patch_features/inception-bn-blue/MD590/MD590_lossless_alignedTo_MD590-N47-2015.09.12-05.32.06_MD590_2_0140_cropped_gray/MD590-IHC26-2015.08.10-19.47.18_MD590_3_0076_lossless_alignedTo_MD590-N47-2015.09.12-05.32.06_MD590_2_0140_cropped_gray_features.bp\n"
     ]
    },
    {
     "name": "stderr",
     "output_type": "stream",
     "text": [
      "Child returned 0\n"
     ]
    },
    {
     "name": "stdout",
     "output_type": "stream",
     "text": [
      "/shared/CSHL_patch_features/inception-bn-blue/MD590/MD590-IHC26-2015.08.10-19.47.18_MD590_3_0076_lossless_alignedTo_MD590-N47-2015.09.12-05.32.06_MD590_2_0140_cropped/MD590-IHC26-2015.08.10-19.47.18_MD590_3_0076_lossless_alignedTo_MD590-N47-2015.09.12-05.32.06_MD590_2_0140_cropped_patch_locations.txt\n",
      "/shared/CSHL_patch_features/inception-bn-blue/MD590/MD590_lossless_alignedTo_MD590-N47-2015.09.12-05.32.06_MD590_2_0140_cropped_gray/MD590-IHC26-2015.08.10-19.47.18_MD590_3_0076_lossless_alignedTo_MD590-N47-2015.09.12-05.32.06_MD590_2_0140_cropped_gray_patch_locations.txt\n",
      "aws s3 cp s3://mousebrainatlas-data/CSHL_patch_features/inception-bn-blue/MD590/MD590-IHC26-2015.08.10-19.47.18_MD590_3_0076_lossless_alignedTo_MD590-N47-2015.09.12-05.32.06_MD590_2_0140_cropped/MD590-IHC26-2015.08.10-19.47.18_MD590_3_0076_lossless_alignedTo_MD590-N47-2015.09.12-05.32.06_MD590_2_0140_cropped_patch_locations.txt s3://mousebrainatlas-data/CSHL_patch_features/inception-bn-blue/MD590/MD590_lossless_alignedTo_MD590-N47-2015.09.12-05.32.06_MD590_2_0140_cropped_gray/MD590-IHC26-2015.08.10-19.47.18_MD590_3_0076_lossless_alignedTo_MD590-N47-2015.09.12-05.32.06_MD590_2_0140_cropped_gray_patch_locations.txt\n"
     ]
    },
    {
     "name": "stderr",
     "output_type": "stream",
     "text": [
      "Child returned 0\n"
     ]
    },
    {
     "name": "stdout",
     "output_type": "stream",
     "text": [
      "/shared/CSHL_patch_features/inception-bn-blue/MD590/MD590-N26-2015.08.03-18.42.38_MD590_2_0077_lossless_alignedTo_MD590-N47-2015.09.12-05.32.06_MD590_2_0140_cropped/MD590-N26-2015.08.03-18.42.38_MD590_2_0077_lossless_alignedTo_MD590-N47-2015.09.12-05.32.06_MD590_2_0140_cropped_features.bp\n",
      "/shared/CSHL_patch_features/inception-bn-blue/MD590/MD590_lossless_alignedTo_MD590-N47-2015.09.12-05.32.06_MD590_2_0140_cropped_gray/MD590-N26-2015.08.03-18.42.38_MD590_2_0077_lossless_alignedTo_MD590-N47-2015.09.12-05.32.06_MD590_2_0140_cropped_gray_features.bp\n",
      "aws s3 cp s3://mousebrainatlas-data/CSHL_patch_features/inception-bn-blue/MD590/MD590-N26-2015.08.03-18.42.38_MD590_2_0077_lossless_alignedTo_MD590-N47-2015.09.12-05.32.06_MD590_2_0140_cropped/MD590-N26-2015.08.03-18.42.38_MD590_2_0077_lossless_alignedTo_MD590-N47-2015.09.12-05.32.06_MD590_2_0140_cropped_features.bp s3://mousebrainatlas-data/CSHL_patch_features/inception-bn-blue/MD590/MD590_lossless_alignedTo_MD590-N47-2015.09.12-05.32.06_MD590_2_0140_cropped_gray/MD590-N26-2015.08.03-18.42.38_MD590_2_0077_lossless_alignedTo_MD590-N47-2015.09.12-05.32.06_MD590_2_0140_cropped_gray_features.bp\n"
     ]
    },
    {
     "name": "stderr",
     "output_type": "stream",
     "text": [
      "Child returned 0\n"
     ]
    },
    {
     "name": "stdout",
     "output_type": "stream",
     "text": [
      "/shared/CSHL_patch_features/inception-bn-blue/MD590/MD590-N26-2015.08.03-18.42.38_MD590_2_0077_lossless_alignedTo_MD590-N47-2015.09.12-05.32.06_MD590_2_0140_cropped/MD590-N26-2015.08.03-18.42.38_MD590_2_0077_lossless_alignedTo_MD590-N47-2015.09.12-05.32.06_MD590_2_0140_cropped_patch_locations.txt\n",
      "/shared/CSHL_patch_features/inception-bn-blue/MD590/MD590_lossless_alignedTo_MD590-N47-2015.09.12-05.32.06_MD590_2_0140_cropped_gray/MD590-N26-2015.08.03-18.42.38_MD590_2_0077_lossless_alignedTo_MD590-N47-2015.09.12-05.32.06_MD590_2_0140_cropped_gray_patch_locations.txt\n",
      "aws s3 cp s3://mousebrainatlas-data/CSHL_patch_features/inception-bn-blue/MD590/MD590-N26-2015.08.03-18.42.38_MD590_2_0077_lossless_alignedTo_MD590-N47-2015.09.12-05.32.06_MD590_2_0140_cropped/MD590-N26-2015.08.03-18.42.38_MD590_2_0077_lossless_alignedTo_MD590-N47-2015.09.12-05.32.06_MD590_2_0140_cropped_patch_locations.txt s3://mousebrainatlas-data/CSHL_patch_features/inception-bn-blue/MD590/MD590_lossless_alignedTo_MD590-N47-2015.09.12-05.32.06_MD590_2_0140_cropped_gray/MD590-N26-2015.08.03-18.42.38_MD590_2_0077_lossless_alignedTo_MD590-N47-2015.09.12-05.32.06_MD590_2_0140_cropped_gray_patch_locations.txt\n"
     ]
    },
    {
     "name": "stderr",
     "output_type": "stream",
     "text": [
      "Child returned 0\n"
     ]
    },
    {
     "name": "stdout",
     "output_type": "stream",
     "text": [
      "/shared/CSHL_patch_features/inception-bn-blue/MD590/MD590-IHC26-2015.08.10-19.47.18_MD590_2_0077_lossless_alignedTo_MD590-N47-2015.09.12-05.32.06_MD590_2_0140_cropped/MD590-IHC26-2015.08.10-19.47.18_MD590_2_0077_lossless_alignedTo_MD590-N47-2015.09.12-05.32.06_MD590_2_0140_cropped_features.bp\n",
      "/shared/CSHL_patch_features/inception-bn-blue/MD590/MD590_lossless_alignedTo_MD590-N47-2015.09.12-05.32.06_MD590_2_0140_cropped_gray/MD590-IHC26-2015.08.10-19.47.18_MD590_2_0077_lossless_alignedTo_MD590-N47-2015.09.12-05.32.06_MD590_2_0140_cropped_gray_features.bp\n",
      "aws s3 cp s3://mousebrainatlas-data/CSHL_patch_features/inception-bn-blue/MD590/MD590-IHC26-2015.08.10-19.47.18_MD590_2_0077_lossless_alignedTo_MD590-N47-2015.09.12-05.32.06_MD590_2_0140_cropped/MD590-IHC26-2015.08.10-19.47.18_MD590_2_0077_lossless_alignedTo_MD590-N47-2015.09.12-05.32.06_MD590_2_0140_cropped_features.bp s3://mousebrainatlas-data/CSHL_patch_features/inception-bn-blue/MD590/MD590_lossless_alignedTo_MD590-N47-2015.09.12-05.32.06_MD590_2_0140_cropped_gray/MD590-IHC26-2015.08.10-19.47.18_MD590_2_0077_lossless_alignedTo_MD590-N47-2015.09.12-05.32.06_MD590_2_0140_cropped_gray_features.bp\n"
     ]
    },
    {
     "name": "stderr",
     "output_type": "stream",
     "text": [
      "Child returned 0\n"
     ]
    },
    {
     "name": "stdout",
     "output_type": "stream",
     "text": [
      "/shared/CSHL_patch_features/inception-bn-blue/MD590/MD590-IHC26-2015.08.10-19.47.18_MD590_2_0077_lossless_alignedTo_MD590-N47-2015.09.12-05.32.06_MD590_2_0140_cropped/MD590-IHC26-2015.08.10-19.47.18_MD590_2_0077_lossless_alignedTo_MD590-N47-2015.09.12-05.32.06_MD590_2_0140_cropped_patch_locations.txt\n",
      "/shared/CSHL_patch_features/inception-bn-blue/MD590/MD590_lossless_alignedTo_MD590-N47-2015.09.12-05.32.06_MD590_2_0140_cropped_gray/MD590-IHC26-2015.08.10-19.47.18_MD590_2_0077_lossless_alignedTo_MD590-N47-2015.09.12-05.32.06_MD590_2_0140_cropped_gray_patch_locations.txt\n",
      "aws s3 cp s3://mousebrainatlas-data/CSHL_patch_features/inception-bn-blue/MD590/MD590-IHC26-2015.08.10-19.47.18_MD590_2_0077_lossless_alignedTo_MD590-N47-2015.09.12-05.32.06_MD590_2_0140_cropped/MD590-IHC26-2015.08.10-19.47.18_MD590_2_0077_lossless_alignedTo_MD590-N47-2015.09.12-05.32.06_MD590_2_0140_cropped_patch_locations.txt s3://mousebrainatlas-data/CSHL_patch_features/inception-bn-blue/MD590/MD590_lossless_alignedTo_MD590-N47-2015.09.12-05.32.06_MD590_2_0140_cropped_gray/MD590-IHC26-2015.08.10-19.47.18_MD590_2_0077_lossless_alignedTo_MD590-N47-2015.09.12-05.32.06_MD590_2_0140_cropped_gray_patch_locations.txt\n"
     ]
    },
    {
     "name": "stderr",
     "output_type": "stream",
     "text": [
      "Child returned 0\n"
     ]
    },
    {
     "name": "stdout",
     "output_type": "stream",
     "text": [
      "/shared/CSHL_patch_features/inception-bn-blue/MD590/MD590-N26-2015.08.03-18.42.38_MD590_1_0078_lossless_alignedTo_MD590-N47-2015.09.12-05.32.06_MD590_2_0140_cropped/MD590-N26-2015.08.03-18.42.38_MD590_1_0078_lossless_alignedTo_MD590-N47-2015.09.12-05.32.06_MD590_2_0140_cropped_features.bp\n",
      "/shared/CSHL_patch_features/inception-bn-blue/MD590/MD590_lossless_alignedTo_MD590-N47-2015.09.12-05.32.06_MD590_2_0140_cropped_gray/MD590-N26-2015.08.03-18.42.38_MD590_1_0078_lossless_alignedTo_MD590-N47-2015.09.12-05.32.06_MD590_2_0140_cropped_gray_features.bp\n",
      "aws s3 cp s3://mousebrainatlas-data/CSHL_patch_features/inception-bn-blue/MD590/MD590-N26-2015.08.03-18.42.38_MD590_1_0078_lossless_alignedTo_MD590-N47-2015.09.12-05.32.06_MD590_2_0140_cropped/MD590-N26-2015.08.03-18.42.38_MD590_1_0078_lossless_alignedTo_MD590-N47-2015.09.12-05.32.06_MD590_2_0140_cropped_features.bp s3://mousebrainatlas-data/CSHL_patch_features/inception-bn-blue/MD590/MD590_lossless_alignedTo_MD590-N47-2015.09.12-05.32.06_MD590_2_0140_cropped_gray/MD590-N26-2015.08.03-18.42.38_MD590_1_0078_lossless_alignedTo_MD590-N47-2015.09.12-05.32.06_MD590_2_0140_cropped_gray_features.bp\n"
     ]
    },
    {
     "name": "stderr",
     "output_type": "stream",
     "text": [
      "Child returned 0\n"
     ]
    },
    {
     "name": "stdout",
     "output_type": "stream",
     "text": [
      "/shared/CSHL_patch_features/inception-bn-blue/MD590/MD590-N26-2015.08.03-18.42.38_MD590_1_0078_lossless_alignedTo_MD590-N47-2015.09.12-05.32.06_MD590_2_0140_cropped/MD590-N26-2015.08.03-18.42.38_MD590_1_0078_lossless_alignedTo_MD590-N47-2015.09.12-05.32.06_MD590_2_0140_cropped_patch_locations.txt\n",
      "/shared/CSHL_patch_features/inception-bn-blue/MD590/MD590_lossless_alignedTo_MD590-N47-2015.09.12-05.32.06_MD590_2_0140_cropped_gray/MD590-N26-2015.08.03-18.42.38_MD590_1_0078_lossless_alignedTo_MD590-N47-2015.09.12-05.32.06_MD590_2_0140_cropped_gray_patch_locations.txt\n",
      "aws s3 cp s3://mousebrainatlas-data/CSHL_patch_features/inception-bn-blue/MD590/MD590-N26-2015.08.03-18.42.38_MD590_1_0078_lossless_alignedTo_MD590-N47-2015.09.12-05.32.06_MD590_2_0140_cropped/MD590-N26-2015.08.03-18.42.38_MD590_1_0078_lossless_alignedTo_MD590-N47-2015.09.12-05.32.06_MD590_2_0140_cropped_patch_locations.txt s3://mousebrainatlas-data/CSHL_patch_features/inception-bn-blue/MD590/MD590_lossless_alignedTo_MD590-N47-2015.09.12-05.32.06_MD590_2_0140_cropped_gray/MD590-N26-2015.08.03-18.42.38_MD590_1_0078_lossless_alignedTo_MD590-N47-2015.09.12-05.32.06_MD590_2_0140_cropped_gray_patch_locations.txt\n"
     ]
    },
    {
     "name": "stderr",
     "output_type": "stream",
     "text": [
      "Child returned 0\n"
     ]
    },
    {
     "name": "stdout",
     "output_type": "stream",
     "text": [
      "/shared/CSHL_patch_features/inception-bn-blue/MD590/MD590-IHC26-2015.08.10-19.47.18_MD590_1_0078_lossless_alignedTo_MD590-N47-2015.09.12-05.32.06_MD590_2_0140_cropped/MD590-IHC26-2015.08.10-19.47.18_MD590_1_0078_lossless_alignedTo_MD590-N47-2015.09.12-05.32.06_MD590_2_0140_cropped_features.bp\n",
      "/shared/CSHL_patch_features/inception-bn-blue/MD590/MD590_lossless_alignedTo_MD590-N47-2015.09.12-05.32.06_MD590_2_0140_cropped_gray/MD590-IHC26-2015.08.10-19.47.18_MD590_1_0078_lossless_alignedTo_MD590-N47-2015.09.12-05.32.06_MD590_2_0140_cropped_gray_features.bp\n",
      "aws s3 cp s3://mousebrainatlas-data/CSHL_patch_features/inception-bn-blue/MD590/MD590-IHC26-2015.08.10-19.47.18_MD590_1_0078_lossless_alignedTo_MD590-N47-2015.09.12-05.32.06_MD590_2_0140_cropped/MD590-IHC26-2015.08.10-19.47.18_MD590_1_0078_lossless_alignedTo_MD590-N47-2015.09.12-05.32.06_MD590_2_0140_cropped_features.bp s3://mousebrainatlas-data/CSHL_patch_features/inception-bn-blue/MD590/MD590_lossless_alignedTo_MD590-N47-2015.09.12-05.32.06_MD590_2_0140_cropped_gray/MD590-IHC26-2015.08.10-19.47.18_MD590_1_0078_lossless_alignedTo_MD590-N47-2015.09.12-05.32.06_MD590_2_0140_cropped_gray_features.bp\n"
     ]
    },
    {
     "name": "stderr",
     "output_type": "stream",
     "text": [
      "Child returned 0\n"
     ]
    },
    {
     "name": "stdout",
     "output_type": "stream",
     "text": [
      "/shared/CSHL_patch_features/inception-bn-blue/MD590/MD590-IHC26-2015.08.10-19.47.18_MD590_1_0078_lossless_alignedTo_MD590-N47-2015.09.12-05.32.06_MD590_2_0140_cropped/MD590-IHC26-2015.08.10-19.47.18_MD590_1_0078_lossless_alignedTo_MD590-N47-2015.09.12-05.32.06_MD590_2_0140_cropped_patch_locations.txt\n",
      "/shared/CSHL_patch_features/inception-bn-blue/MD590/MD590_lossless_alignedTo_MD590-N47-2015.09.12-05.32.06_MD590_2_0140_cropped_gray/MD590-IHC26-2015.08.10-19.47.18_MD590_1_0078_lossless_alignedTo_MD590-N47-2015.09.12-05.32.06_MD590_2_0140_cropped_gray_patch_locations.txt\n",
      "aws s3 cp s3://mousebrainatlas-data/CSHL_patch_features/inception-bn-blue/MD590/MD590-IHC26-2015.08.10-19.47.18_MD590_1_0078_lossless_alignedTo_MD590-N47-2015.09.12-05.32.06_MD590_2_0140_cropped/MD590-IHC26-2015.08.10-19.47.18_MD590_1_0078_lossless_alignedTo_MD590-N47-2015.09.12-05.32.06_MD590_2_0140_cropped_patch_locations.txt s3://mousebrainatlas-data/CSHL_patch_features/inception-bn-blue/MD590/MD590_lossless_alignedTo_MD590-N47-2015.09.12-05.32.06_MD590_2_0140_cropped_gray/MD590-IHC26-2015.08.10-19.47.18_MD590_1_0078_lossless_alignedTo_MD590-N47-2015.09.12-05.32.06_MD590_2_0140_cropped_gray_patch_locations.txt\n"
     ]
    },
    {
     "name": "stderr",
     "output_type": "stream",
     "text": [
      "Child returned 0\n"
     ]
    },
    {
     "name": "stdout",
     "output_type": "stream",
     "text": [
      "/shared/CSHL_patch_features/inception-bn-blue/MD590/MD590-N27-2015.08.03-18.47.02_MD590_3_0079_lossless_alignedTo_MD590-N47-2015.09.12-05.32.06_MD590_2_0140_cropped/MD590-N27-2015.08.03-18.47.02_MD590_3_0079_lossless_alignedTo_MD590-N47-2015.09.12-05.32.06_MD590_2_0140_cropped_features.bp\n",
      "/shared/CSHL_patch_features/inception-bn-blue/MD590/MD590_lossless_alignedTo_MD590-N47-2015.09.12-05.32.06_MD590_2_0140_cropped_gray/MD590-N27-2015.08.03-18.47.02_MD590_3_0079_lossless_alignedTo_MD590-N47-2015.09.12-05.32.06_MD590_2_0140_cropped_gray_features.bp\n",
      "aws s3 cp s3://mousebrainatlas-data/CSHL_patch_features/inception-bn-blue/MD590/MD590-N27-2015.08.03-18.47.02_MD590_3_0079_lossless_alignedTo_MD590-N47-2015.09.12-05.32.06_MD590_2_0140_cropped/MD590-N27-2015.08.03-18.47.02_MD590_3_0079_lossless_alignedTo_MD590-N47-2015.09.12-05.32.06_MD590_2_0140_cropped_features.bp s3://mousebrainatlas-data/CSHL_patch_features/inception-bn-blue/MD590/MD590_lossless_alignedTo_MD590-N47-2015.09.12-05.32.06_MD590_2_0140_cropped_gray/MD590-N27-2015.08.03-18.47.02_MD590_3_0079_lossless_alignedTo_MD590-N47-2015.09.12-05.32.06_MD590_2_0140_cropped_gray_features.bp\n"
     ]
    },
    {
     "name": "stderr",
     "output_type": "stream",
     "text": [
      "Child returned 0\n"
     ]
    },
    {
     "name": "stdout",
     "output_type": "stream",
     "text": [
      "/shared/CSHL_patch_features/inception-bn-blue/MD590/MD590-N27-2015.08.03-18.47.02_MD590_3_0079_lossless_alignedTo_MD590-N47-2015.09.12-05.32.06_MD590_2_0140_cropped/MD590-N27-2015.08.03-18.47.02_MD590_3_0079_lossless_alignedTo_MD590-N47-2015.09.12-05.32.06_MD590_2_0140_cropped_patch_locations.txt\n",
      "/shared/CSHL_patch_features/inception-bn-blue/MD590/MD590_lossless_alignedTo_MD590-N47-2015.09.12-05.32.06_MD590_2_0140_cropped_gray/MD590-N27-2015.08.03-18.47.02_MD590_3_0079_lossless_alignedTo_MD590-N47-2015.09.12-05.32.06_MD590_2_0140_cropped_gray_patch_locations.txt\n",
      "aws s3 cp s3://mousebrainatlas-data/CSHL_patch_features/inception-bn-blue/MD590/MD590-N27-2015.08.03-18.47.02_MD590_3_0079_lossless_alignedTo_MD590-N47-2015.09.12-05.32.06_MD590_2_0140_cropped/MD590-N27-2015.08.03-18.47.02_MD590_3_0079_lossless_alignedTo_MD590-N47-2015.09.12-05.32.06_MD590_2_0140_cropped_patch_locations.txt s3://mousebrainatlas-data/CSHL_patch_features/inception-bn-blue/MD590/MD590_lossless_alignedTo_MD590-N47-2015.09.12-05.32.06_MD590_2_0140_cropped_gray/MD590-N27-2015.08.03-18.47.02_MD590_3_0079_lossless_alignedTo_MD590-N47-2015.09.12-05.32.06_MD590_2_0140_cropped_gray_patch_locations.txt\n"
     ]
    },
    {
     "name": "stderr",
     "output_type": "stream",
     "text": [
      "Child returned 0\n"
     ]
    },
    {
     "name": "stdout",
     "output_type": "stream",
     "text": [
      "/shared/CSHL_patch_features/inception-bn-blue/MD590/MD590-N27-2015.08.03-18.47.02_MD590_2_0080_lossless_alignedTo_MD590-N47-2015.09.12-05.32.06_MD590_2_0140_cropped/MD590-N27-2015.08.03-18.47.02_MD590_2_0080_lossless_alignedTo_MD590-N47-2015.09.12-05.32.06_MD590_2_0140_cropped_features.bp\n",
      "/shared/CSHL_patch_features/inception-bn-blue/MD590/MD590_lossless_alignedTo_MD590-N47-2015.09.12-05.32.06_MD590_2_0140_cropped_gray/MD590-N27-2015.08.03-18.47.02_MD590_2_0080_lossless_alignedTo_MD590-N47-2015.09.12-05.32.06_MD590_2_0140_cropped_gray_features.bp\n",
      "aws s3 cp s3://mousebrainatlas-data/CSHL_patch_features/inception-bn-blue/MD590/MD590-N27-2015.08.03-18.47.02_MD590_2_0080_lossless_alignedTo_MD590-N47-2015.09.12-05.32.06_MD590_2_0140_cropped/MD590-N27-2015.08.03-18.47.02_MD590_2_0080_lossless_alignedTo_MD590-N47-2015.09.12-05.32.06_MD590_2_0140_cropped_features.bp s3://mousebrainatlas-data/CSHL_patch_features/inception-bn-blue/MD590/MD590_lossless_alignedTo_MD590-N47-2015.09.12-05.32.06_MD590_2_0140_cropped_gray/MD590-N27-2015.08.03-18.47.02_MD590_2_0080_lossless_alignedTo_MD590-N47-2015.09.12-05.32.06_MD590_2_0140_cropped_gray_features.bp\n"
     ]
    },
    {
     "name": "stderr",
     "output_type": "stream",
     "text": [
      "Child returned 0\n"
     ]
    },
    {
     "name": "stdout",
     "output_type": "stream",
     "text": [
      "/shared/CSHL_patch_features/inception-bn-blue/MD590/MD590-N27-2015.08.03-18.47.02_MD590_2_0080_lossless_alignedTo_MD590-N47-2015.09.12-05.32.06_MD590_2_0140_cropped/MD590-N27-2015.08.03-18.47.02_MD590_2_0080_lossless_alignedTo_MD590-N47-2015.09.12-05.32.06_MD590_2_0140_cropped_patch_locations.txt\n",
      "/shared/CSHL_patch_features/inception-bn-blue/MD590/MD590_lossless_alignedTo_MD590-N47-2015.09.12-05.32.06_MD590_2_0140_cropped_gray/MD590-N27-2015.08.03-18.47.02_MD590_2_0080_lossless_alignedTo_MD590-N47-2015.09.12-05.32.06_MD590_2_0140_cropped_gray_patch_locations.txt\n",
      "aws s3 cp s3://mousebrainatlas-data/CSHL_patch_features/inception-bn-blue/MD590/MD590-N27-2015.08.03-18.47.02_MD590_2_0080_lossless_alignedTo_MD590-N47-2015.09.12-05.32.06_MD590_2_0140_cropped/MD590-N27-2015.08.03-18.47.02_MD590_2_0080_lossless_alignedTo_MD590-N47-2015.09.12-05.32.06_MD590_2_0140_cropped_patch_locations.txt s3://mousebrainatlas-data/CSHL_patch_features/inception-bn-blue/MD590/MD590_lossless_alignedTo_MD590-N47-2015.09.12-05.32.06_MD590_2_0140_cropped_gray/MD590-N27-2015.08.03-18.47.02_MD590_2_0080_lossless_alignedTo_MD590-N47-2015.09.12-05.32.06_MD590_2_0140_cropped_gray_patch_locations.txt\n"
     ]
    },
    {
     "name": "stderr",
     "output_type": "stream",
     "text": [
      "Child returned 0\n"
     ]
    },
    {
     "name": "stdout",
     "output_type": "stream",
     "text": [
      "/shared/CSHL_patch_features/inception-bn-blue/MD590/MD590-N27-2015.08.03-18.47.02_MD590_1_0081_lossless_alignedTo_MD590-N47-2015.09.12-05.32.06_MD590_2_0140_cropped/MD590-N27-2015.08.03-18.47.02_MD590_1_0081_lossless_alignedTo_MD590-N47-2015.09.12-05.32.06_MD590_2_0140_cropped_features.bp\n",
      "/shared/CSHL_patch_features/inception-bn-blue/MD590/MD590_lossless_alignedTo_MD590-N47-2015.09.12-05.32.06_MD590_2_0140_cropped_gray/MD590-N27-2015.08.03-18.47.02_MD590_1_0081_lossless_alignedTo_MD590-N47-2015.09.12-05.32.06_MD590_2_0140_cropped_gray_features.bp\n",
      "aws s3 cp s3://mousebrainatlas-data/CSHL_patch_features/inception-bn-blue/MD590/MD590-N27-2015.08.03-18.47.02_MD590_1_0081_lossless_alignedTo_MD590-N47-2015.09.12-05.32.06_MD590_2_0140_cropped/MD590-N27-2015.08.03-18.47.02_MD590_1_0081_lossless_alignedTo_MD590-N47-2015.09.12-05.32.06_MD590_2_0140_cropped_features.bp s3://mousebrainatlas-data/CSHL_patch_features/inception-bn-blue/MD590/MD590_lossless_alignedTo_MD590-N47-2015.09.12-05.32.06_MD590_2_0140_cropped_gray/MD590-N27-2015.08.03-18.47.02_MD590_1_0081_lossless_alignedTo_MD590-N47-2015.09.12-05.32.06_MD590_2_0140_cropped_gray_features.bp\n"
     ]
    },
    {
     "name": "stderr",
     "output_type": "stream",
     "text": [
      "Child returned 0\n"
     ]
    },
    {
     "name": "stdout",
     "output_type": "stream",
     "text": [
      "/shared/CSHL_patch_features/inception-bn-blue/MD590/MD590-N27-2015.08.03-18.47.02_MD590_1_0081_lossless_alignedTo_MD590-N47-2015.09.12-05.32.06_MD590_2_0140_cropped/MD590-N27-2015.08.03-18.47.02_MD590_1_0081_lossless_alignedTo_MD590-N47-2015.09.12-05.32.06_MD590_2_0140_cropped_patch_locations.txt\n",
      "/shared/CSHL_patch_features/inception-bn-blue/MD590/MD590_lossless_alignedTo_MD590-N47-2015.09.12-05.32.06_MD590_2_0140_cropped_gray/MD590-N27-2015.08.03-18.47.02_MD590_1_0081_lossless_alignedTo_MD590-N47-2015.09.12-05.32.06_MD590_2_0140_cropped_gray_patch_locations.txt\n",
      "aws s3 cp s3://mousebrainatlas-data/CSHL_patch_features/inception-bn-blue/MD590/MD590-N27-2015.08.03-18.47.02_MD590_1_0081_lossless_alignedTo_MD590-N47-2015.09.12-05.32.06_MD590_2_0140_cropped/MD590-N27-2015.08.03-18.47.02_MD590_1_0081_lossless_alignedTo_MD590-N47-2015.09.12-05.32.06_MD590_2_0140_cropped_patch_locations.txt s3://mousebrainatlas-data/CSHL_patch_features/inception-bn-blue/MD590/MD590_lossless_alignedTo_MD590-N47-2015.09.12-05.32.06_MD590_2_0140_cropped_gray/MD590-N27-2015.08.03-18.47.02_MD590_1_0081_lossless_alignedTo_MD590-N47-2015.09.12-05.32.06_MD590_2_0140_cropped_gray_patch_locations.txt\n"
     ]
    },
    {
     "name": "stderr",
     "output_type": "stream",
     "text": [
      "Child returned 0\n"
     ]
    },
    {
     "name": "stdout",
     "output_type": "stream",
     "text": [
      "/shared/CSHL_patch_features/inception-bn-blue/MD590/MD590-N28-2015.09.12-05.21.18_MD590_1_0082_lossless_alignedTo_MD590-N47-2015.09.12-05.32.06_MD590_2_0140_cropped/MD590-N28-2015.09.12-05.21.18_MD590_1_0082_lossless_alignedTo_MD590-N47-2015.09.12-05.32.06_MD590_2_0140_cropped_features.bp\n",
      "/shared/CSHL_patch_features/inception-bn-blue/MD590/MD590_lossless_alignedTo_MD590-N47-2015.09.12-05.32.06_MD590_2_0140_cropped_gray/MD590-N28-2015.09.12-05.21.18_MD590_1_0082_lossless_alignedTo_MD590-N47-2015.09.12-05.32.06_MD590_2_0140_cropped_gray_features.bp\n",
      "aws s3 cp s3://mousebrainatlas-data/CSHL_patch_features/inception-bn-blue/MD590/MD590-N28-2015.09.12-05.21.18_MD590_1_0082_lossless_alignedTo_MD590-N47-2015.09.12-05.32.06_MD590_2_0140_cropped/MD590-N28-2015.09.12-05.21.18_MD590_1_0082_lossless_alignedTo_MD590-N47-2015.09.12-05.32.06_MD590_2_0140_cropped_features.bp s3://mousebrainatlas-data/CSHL_patch_features/inception-bn-blue/MD590/MD590_lossless_alignedTo_MD590-N47-2015.09.12-05.32.06_MD590_2_0140_cropped_gray/MD590-N28-2015.09.12-05.21.18_MD590_1_0082_lossless_alignedTo_MD590-N47-2015.09.12-05.32.06_MD590_2_0140_cropped_gray_features.bp\n"
     ]
    },
    {
     "name": "stderr",
     "output_type": "stream",
     "text": [
      "Child returned 0\n"
     ]
    },
    {
     "name": "stdout",
     "output_type": "stream",
     "text": [
      "/shared/CSHL_patch_features/inception-bn-blue/MD590/MD590-N28-2015.09.12-05.21.18_MD590_1_0082_lossless_alignedTo_MD590-N47-2015.09.12-05.32.06_MD590_2_0140_cropped/MD590-N28-2015.09.12-05.21.18_MD590_1_0082_lossless_alignedTo_MD590-N47-2015.09.12-05.32.06_MD590_2_0140_cropped_patch_locations.txt\n",
      "/shared/CSHL_patch_features/inception-bn-blue/MD590/MD590_lossless_alignedTo_MD590-N47-2015.09.12-05.32.06_MD590_2_0140_cropped_gray/MD590-N28-2015.09.12-05.21.18_MD590_1_0082_lossless_alignedTo_MD590-N47-2015.09.12-05.32.06_MD590_2_0140_cropped_gray_patch_locations.txt\n",
      "aws s3 cp s3://mousebrainatlas-data/CSHL_patch_features/inception-bn-blue/MD590/MD590-N28-2015.09.12-05.21.18_MD590_1_0082_lossless_alignedTo_MD590-N47-2015.09.12-05.32.06_MD590_2_0140_cropped/MD590-N28-2015.09.12-05.21.18_MD590_1_0082_lossless_alignedTo_MD590-N47-2015.09.12-05.32.06_MD590_2_0140_cropped_patch_locations.txt s3://mousebrainatlas-data/CSHL_patch_features/inception-bn-blue/MD590/MD590_lossless_alignedTo_MD590-N47-2015.09.12-05.32.06_MD590_2_0140_cropped_gray/MD590-N28-2015.09.12-05.21.18_MD590_1_0082_lossless_alignedTo_MD590-N47-2015.09.12-05.32.06_MD590_2_0140_cropped_gray_patch_locations.txt\n"
     ]
    },
    {
     "name": "stderr",
     "output_type": "stream",
     "text": [
      "Child returned 0\n"
     ]
    },
    {
     "name": "stdout",
     "output_type": "stream",
     "text": [
      "/shared/CSHL_patch_features/inception-bn-blue/MD590/MD590-IHC28-2015.08.10-19.51.53_MD590_3_0082_lossless_alignedTo_MD590-N47-2015.09.12-05.32.06_MD590_2_0140_cropped/MD590-IHC28-2015.08.10-19.51.53_MD590_3_0082_lossless_alignedTo_MD590-N47-2015.09.12-05.32.06_MD590_2_0140_cropped_features.bp\n",
      "/shared/CSHL_patch_features/inception-bn-blue/MD590/MD590_lossless_alignedTo_MD590-N47-2015.09.12-05.32.06_MD590_2_0140_cropped_gray/MD590-IHC28-2015.08.10-19.51.53_MD590_3_0082_lossless_alignedTo_MD590-N47-2015.09.12-05.32.06_MD590_2_0140_cropped_gray_features.bp\n",
      "aws s3 cp s3://mousebrainatlas-data/CSHL_patch_features/inception-bn-blue/MD590/MD590-IHC28-2015.08.10-19.51.53_MD590_3_0082_lossless_alignedTo_MD590-N47-2015.09.12-05.32.06_MD590_2_0140_cropped/MD590-IHC28-2015.08.10-19.51.53_MD590_3_0082_lossless_alignedTo_MD590-N47-2015.09.12-05.32.06_MD590_2_0140_cropped_features.bp s3://mousebrainatlas-data/CSHL_patch_features/inception-bn-blue/MD590/MD590_lossless_alignedTo_MD590-N47-2015.09.12-05.32.06_MD590_2_0140_cropped_gray/MD590-IHC28-2015.08.10-19.51.53_MD590_3_0082_lossless_alignedTo_MD590-N47-2015.09.12-05.32.06_MD590_2_0140_cropped_gray_features.bp\n"
     ]
    },
    {
     "name": "stderr",
     "output_type": "stream",
     "text": [
      "Child returned 0\n"
     ]
    },
    {
     "name": "stdout",
     "output_type": "stream",
     "text": [
      "/shared/CSHL_patch_features/inception-bn-blue/MD590/MD590-IHC28-2015.08.10-19.51.53_MD590_3_0082_lossless_alignedTo_MD590-N47-2015.09.12-05.32.06_MD590_2_0140_cropped/MD590-IHC28-2015.08.10-19.51.53_MD590_3_0082_lossless_alignedTo_MD590-N47-2015.09.12-05.32.06_MD590_2_0140_cropped_patch_locations.txt\n",
      "/shared/CSHL_patch_features/inception-bn-blue/MD590/MD590_lossless_alignedTo_MD590-N47-2015.09.12-05.32.06_MD590_2_0140_cropped_gray/MD590-IHC28-2015.08.10-19.51.53_MD590_3_0082_lossless_alignedTo_MD590-N47-2015.09.12-05.32.06_MD590_2_0140_cropped_gray_patch_locations.txt\n",
      "aws s3 cp s3://mousebrainatlas-data/CSHL_patch_features/inception-bn-blue/MD590/MD590-IHC28-2015.08.10-19.51.53_MD590_3_0082_lossless_alignedTo_MD590-N47-2015.09.12-05.32.06_MD590_2_0140_cropped/MD590-IHC28-2015.08.10-19.51.53_MD590_3_0082_lossless_alignedTo_MD590-N47-2015.09.12-05.32.06_MD590_2_0140_cropped_patch_locations.txt s3://mousebrainatlas-data/CSHL_patch_features/inception-bn-blue/MD590/MD590_lossless_alignedTo_MD590-N47-2015.09.12-05.32.06_MD590_2_0140_cropped_gray/MD590-IHC28-2015.08.10-19.51.53_MD590_3_0082_lossless_alignedTo_MD590-N47-2015.09.12-05.32.06_MD590_2_0140_cropped_gray_patch_locations.txt\n"
     ]
    },
    {
     "name": "stderr",
     "output_type": "stream",
     "text": [
      "Child returned 0\n"
     ]
    },
    {
     "name": "stdout",
     "output_type": "stream",
     "text": [
      "/shared/CSHL_patch_features/inception-bn-blue/MD590/MD590-N28-2015.09.12-05.21.18_MD590_2_0083_lossless_alignedTo_MD590-N47-2015.09.12-05.32.06_MD590_2_0140_cropped/MD590-N28-2015.09.12-05.21.18_MD590_2_0083_lossless_alignedTo_MD590-N47-2015.09.12-05.32.06_MD590_2_0140_cropped_features.bp\n",
      "/shared/CSHL_patch_features/inception-bn-blue/MD590/MD590_lossless_alignedTo_MD590-N47-2015.09.12-05.32.06_MD590_2_0140_cropped_gray/MD590-N28-2015.09.12-05.21.18_MD590_2_0083_lossless_alignedTo_MD590-N47-2015.09.12-05.32.06_MD590_2_0140_cropped_gray_features.bp\n",
      "aws s3 cp s3://mousebrainatlas-data/CSHL_patch_features/inception-bn-blue/MD590/MD590-N28-2015.09.12-05.21.18_MD590_2_0083_lossless_alignedTo_MD590-N47-2015.09.12-05.32.06_MD590_2_0140_cropped/MD590-N28-2015.09.12-05.21.18_MD590_2_0083_lossless_alignedTo_MD590-N47-2015.09.12-05.32.06_MD590_2_0140_cropped_features.bp s3://mousebrainatlas-data/CSHL_patch_features/inception-bn-blue/MD590/MD590_lossless_alignedTo_MD590-N47-2015.09.12-05.32.06_MD590_2_0140_cropped_gray/MD590-N28-2015.09.12-05.21.18_MD590_2_0083_lossless_alignedTo_MD590-N47-2015.09.12-05.32.06_MD590_2_0140_cropped_gray_features.bp\n"
     ]
    },
    {
     "name": "stderr",
     "output_type": "stream",
     "text": [
      "Child returned 0\n"
     ]
    },
    {
     "name": "stdout",
     "output_type": "stream",
     "text": [
      "/shared/CSHL_patch_features/inception-bn-blue/MD590/MD590-N28-2015.09.12-05.21.18_MD590_2_0083_lossless_alignedTo_MD590-N47-2015.09.12-05.32.06_MD590_2_0140_cropped/MD590-N28-2015.09.12-05.21.18_MD590_2_0083_lossless_alignedTo_MD590-N47-2015.09.12-05.32.06_MD590_2_0140_cropped_patch_locations.txt\n",
      "/shared/CSHL_patch_features/inception-bn-blue/MD590/MD590_lossless_alignedTo_MD590-N47-2015.09.12-05.32.06_MD590_2_0140_cropped_gray/MD590-N28-2015.09.12-05.21.18_MD590_2_0083_lossless_alignedTo_MD590-N47-2015.09.12-05.32.06_MD590_2_0140_cropped_gray_patch_locations.txt\n",
      "aws s3 cp s3://mousebrainatlas-data/CSHL_patch_features/inception-bn-blue/MD590/MD590-N28-2015.09.12-05.21.18_MD590_2_0083_lossless_alignedTo_MD590-N47-2015.09.12-05.32.06_MD590_2_0140_cropped/MD590-N28-2015.09.12-05.21.18_MD590_2_0083_lossless_alignedTo_MD590-N47-2015.09.12-05.32.06_MD590_2_0140_cropped_patch_locations.txt s3://mousebrainatlas-data/CSHL_patch_features/inception-bn-blue/MD590/MD590_lossless_alignedTo_MD590-N47-2015.09.12-05.32.06_MD590_2_0140_cropped_gray/MD590-N28-2015.09.12-05.21.18_MD590_2_0083_lossless_alignedTo_MD590-N47-2015.09.12-05.32.06_MD590_2_0140_cropped_gray_patch_locations.txt\n"
     ]
    },
    {
     "name": "stderr",
     "output_type": "stream",
     "text": [
      "Child returned 0\n"
     ]
    },
    {
     "name": "stdout",
     "output_type": "stream",
     "text": [
      "/shared/CSHL_patch_features/inception-bn-blue/MD590/MD590-IHC28-2015.08.10-19.51.53_MD590_2_0083_lossless_alignedTo_MD590-N47-2015.09.12-05.32.06_MD590_2_0140_cropped/MD590-IHC28-2015.08.10-19.51.53_MD590_2_0083_lossless_alignedTo_MD590-N47-2015.09.12-05.32.06_MD590_2_0140_cropped_features.bp\n",
      "/shared/CSHL_patch_features/inception-bn-blue/MD590/MD590_lossless_alignedTo_MD590-N47-2015.09.12-05.32.06_MD590_2_0140_cropped_gray/MD590-IHC28-2015.08.10-19.51.53_MD590_2_0083_lossless_alignedTo_MD590-N47-2015.09.12-05.32.06_MD590_2_0140_cropped_gray_features.bp\n",
      "aws s3 cp s3://mousebrainatlas-data/CSHL_patch_features/inception-bn-blue/MD590/MD590-IHC28-2015.08.10-19.51.53_MD590_2_0083_lossless_alignedTo_MD590-N47-2015.09.12-05.32.06_MD590_2_0140_cropped/MD590-IHC28-2015.08.10-19.51.53_MD590_2_0083_lossless_alignedTo_MD590-N47-2015.09.12-05.32.06_MD590_2_0140_cropped_features.bp s3://mousebrainatlas-data/CSHL_patch_features/inception-bn-blue/MD590/MD590_lossless_alignedTo_MD590-N47-2015.09.12-05.32.06_MD590_2_0140_cropped_gray/MD590-IHC28-2015.08.10-19.51.53_MD590_2_0083_lossless_alignedTo_MD590-N47-2015.09.12-05.32.06_MD590_2_0140_cropped_gray_features.bp\n"
     ]
    },
    {
     "name": "stderr",
     "output_type": "stream",
     "text": [
      "Child returned 0\n"
     ]
    },
    {
     "name": "stdout",
     "output_type": "stream",
     "text": [
      "/shared/CSHL_patch_features/inception-bn-blue/MD590/MD590-IHC28-2015.08.10-19.51.53_MD590_2_0083_lossless_alignedTo_MD590-N47-2015.09.12-05.32.06_MD590_2_0140_cropped/MD590-IHC28-2015.08.10-19.51.53_MD590_2_0083_lossless_alignedTo_MD590-N47-2015.09.12-05.32.06_MD590_2_0140_cropped_patch_locations.txt\n",
      "/shared/CSHL_patch_features/inception-bn-blue/MD590/MD590_lossless_alignedTo_MD590-N47-2015.09.12-05.32.06_MD590_2_0140_cropped_gray/MD590-IHC28-2015.08.10-19.51.53_MD590_2_0083_lossless_alignedTo_MD590-N47-2015.09.12-05.32.06_MD590_2_0140_cropped_gray_patch_locations.txt\n",
      "aws s3 cp s3://mousebrainatlas-data/CSHL_patch_features/inception-bn-blue/MD590/MD590-IHC28-2015.08.10-19.51.53_MD590_2_0083_lossless_alignedTo_MD590-N47-2015.09.12-05.32.06_MD590_2_0140_cropped/MD590-IHC28-2015.08.10-19.51.53_MD590_2_0083_lossless_alignedTo_MD590-N47-2015.09.12-05.32.06_MD590_2_0140_cropped_patch_locations.txt s3://mousebrainatlas-data/CSHL_patch_features/inception-bn-blue/MD590/MD590_lossless_alignedTo_MD590-N47-2015.09.12-05.32.06_MD590_2_0140_cropped_gray/MD590-IHC28-2015.08.10-19.51.53_MD590_2_0083_lossless_alignedTo_MD590-N47-2015.09.12-05.32.06_MD590_2_0140_cropped_gray_patch_locations.txt\n"
     ]
    },
    {
     "name": "stderr",
     "output_type": "stream",
     "text": [
      "Child returned 0\n"
     ]
    },
    {
     "name": "stdout",
     "output_type": "stream",
     "text": [
      "/shared/CSHL_patch_features/inception-bn-blue/MD590/MD590-N28-2015.09.12-05.21.18_MD590_3_0084_lossless_alignedTo_MD590-N47-2015.09.12-05.32.06_MD590_2_0140_cropped/MD590-N28-2015.09.12-05.21.18_MD590_3_0084_lossless_alignedTo_MD590-N47-2015.09.12-05.32.06_MD590_2_0140_cropped_features.bp\n",
      "/shared/CSHL_patch_features/inception-bn-blue/MD590/MD590_lossless_alignedTo_MD590-N47-2015.09.12-05.32.06_MD590_2_0140_cropped_gray/MD590-N28-2015.09.12-05.21.18_MD590_3_0084_lossless_alignedTo_MD590-N47-2015.09.12-05.32.06_MD590_2_0140_cropped_gray_features.bp\n",
      "aws s3 cp s3://mousebrainatlas-data/CSHL_patch_features/inception-bn-blue/MD590/MD590-N28-2015.09.12-05.21.18_MD590_3_0084_lossless_alignedTo_MD590-N47-2015.09.12-05.32.06_MD590_2_0140_cropped/MD590-N28-2015.09.12-05.21.18_MD590_3_0084_lossless_alignedTo_MD590-N47-2015.09.12-05.32.06_MD590_2_0140_cropped_features.bp s3://mousebrainatlas-data/CSHL_patch_features/inception-bn-blue/MD590/MD590_lossless_alignedTo_MD590-N47-2015.09.12-05.32.06_MD590_2_0140_cropped_gray/MD590-N28-2015.09.12-05.21.18_MD590_3_0084_lossless_alignedTo_MD590-N47-2015.09.12-05.32.06_MD590_2_0140_cropped_gray_features.bp\n"
     ]
    },
    {
     "name": "stderr",
     "output_type": "stream",
     "text": [
      "Child returned 0\n"
     ]
    },
    {
     "name": "stdout",
     "output_type": "stream",
     "text": [
      "/shared/CSHL_patch_features/inception-bn-blue/MD590/MD590-N28-2015.09.12-05.21.18_MD590_3_0084_lossless_alignedTo_MD590-N47-2015.09.12-05.32.06_MD590_2_0140_cropped/MD590-N28-2015.09.12-05.21.18_MD590_3_0084_lossless_alignedTo_MD590-N47-2015.09.12-05.32.06_MD590_2_0140_cropped_patch_locations.txt\n",
      "/shared/CSHL_patch_features/inception-bn-blue/MD590/MD590_lossless_alignedTo_MD590-N47-2015.09.12-05.32.06_MD590_2_0140_cropped_gray/MD590-N28-2015.09.12-05.21.18_MD590_3_0084_lossless_alignedTo_MD590-N47-2015.09.12-05.32.06_MD590_2_0140_cropped_gray_patch_locations.txt\n",
      "aws s3 cp s3://mousebrainatlas-data/CSHL_patch_features/inception-bn-blue/MD590/MD590-N28-2015.09.12-05.21.18_MD590_3_0084_lossless_alignedTo_MD590-N47-2015.09.12-05.32.06_MD590_2_0140_cropped/MD590-N28-2015.09.12-05.21.18_MD590_3_0084_lossless_alignedTo_MD590-N47-2015.09.12-05.32.06_MD590_2_0140_cropped_patch_locations.txt s3://mousebrainatlas-data/CSHL_patch_features/inception-bn-blue/MD590/MD590_lossless_alignedTo_MD590-N47-2015.09.12-05.32.06_MD590_2_0140_cropped_gray/MD590-N28-2015.09.12-05.21.18_MD590_3_0084_lossless_alignedTo_MD590-N47-2015.09.12-05.32.06_MD590_2_0140_cropped_gray_patch_locations.txt\n"
     ]
    },
    {
     "name": "stderr",
     "output_type": "stream",
     "text": [
      "Child returned 0\n"
     ]
    },
    {
     "name": "stdout",
     "output_type": "stream",
     "text": [
      "/shared/CSHL_patch_features/inception-bn-blue/MD590/MD590-IHC28-2015.08.10-19.51.53_MD590_1_0084_lossless_alignedTo_MD590-N47-2015.09.12-05.32.06_MD590_2_0140_cropped/MD590-IHC28-2015.08.10-19.51.53_MD590_1_0084_lossless_alignedTo_MD590-N47-2015.09.12-05.32.06_MD590_2_0140_cropped_features.bp\n",
      "/shared/CSHL_patch_features/inception-bn-blue/MD590/MD590_lossless_alignedTo_MD590-N47-2015.09.12-05.32.06_MD590_2_0140_cropped_gray/MD590-IHC28-2015.08.10-19.51.53_MD590_1_0084_lossless_alignedTo_MD590-N47-2015.09.12-05.32.06_MD590_2_0140_cropped_gray_features.bp\n",
      "aws s3 cp s3://mousebrainatlas-data/CSHL_patch_features/inception-bn-blue/MD590/MD590-IHC28-2015.08.10-19.51.53_MD590_1_0084_lossless_alignedTo_MD590-N47-2015.09.12-05.32.06_MD590_2_0140_cropped/MD590-IHC28-2015.08.10-19.51.53_MD590_1_0084_lossless_alignedTo_MD590-N47-2015.09.12-05.32.06_MD590_2_0140_cropped_features.bp s3://mousebrainatlas-data/CSHL_patch_features/inception-bn-blue/MD590/MD590_lossless_alignedTo_MD590-N47-2015.09.12-05.32.06_MD590_2_0140_cropped_gray/MD590-IHC28-2015.08.10-19.51.53_MD590_1_0084_lossless_alignedTo_MD590-N47-2015.09.12-05.32.06_MD590_2_0140_cropped_gray_features.bp\n"
     ]
    },
    {
     "name": "stderr",
     "output_type": "stream",
     "text": [
      "Child returned 0\n"
     ]
    },
    {
     "name": "stdout",
     "output_type": "stream",
     "text": [
      "/shared/CSHL_patch_features/inception-bn-blue/MD590/MD590-IHC28-2015.08.10-19.51.53_MD590_1_0084_lossless_alignedTo_MD590-N47-2015.09.12-05.32.06_MD590_2_0140_cropped/MD590-IHC28-2015.08.10-19.51.53_MD590_1_0084_lossless_alignedTo_MD590-N47-2015.09.12-05.32.06_MD590_2_0140_cropped_patch_locations.txt\n",
      "/shared/CSHL_patch_features/inception-bn-blue/MD590/MD590_lossless_alignedTo_MD590-N47-2015.09.12-05.32.06_MD590_2_0140_cropped_gray/MD590-IHC28-2015.08.10-19.51.53_MD590_1_0084_lossless_alignedTo_MD590-N47-2015.09.12-05.32.06_MD590_2_0140_cropped_gray_patch_locations.txt\n",
      "aws s3 cp s3://mousebrainatlas-data/CSHL_patch_features/inception-bn-blue/MD590/MD590-IHC28-2015.08.10-19.51.53_MD590_1_0084_lossless_alignedTo_MD590-N47-2015.09.12-05.32.06_MD590_2_0140_cropped/MD590-IHC28-2015.08.10-19.51.53_MD590_1_0084_lossless_alignedTo_MD590-N47-2015.09.12-05.32.06_MD590_2_0140_cropped_patch_locations.txt s3://mousebrainatlas-data/CSHL_patch_features/inception-bn-blue/MD590/MD590_lossless_alignedTo_MD590-N47-2015.09.12-05.32.06_MD590_2_0140_cropped_gray/MD590-IHC28-2015.08.10-19.51.53_MD590_1_0084_lossless_alignedTo_MD590-N47-2015.09.12-05.32.06_MD590_2_0140_cropped_gray_patch_locations.txt\n"
     ]
    },
    {
     "name": "stderr",
     "output_type": "stream",
     "text": [
      "Child returned 0\n"
     ]
    },
    {
     "name": "stdout",
     "output_type": "stream",
     "text": [
      "/shared/CSHL_patch_features/inception-bn-blue/MD590/MD590-N29-2015.08.03-18.55.57_MD590_3_0085_lossless_alignedTo_MD590-N47-2015.09.12-05.32.06_MD590_2_0140_cropped/MD590-N29-2015.08.03-18.55.57_MD590_3_0085_lossless_alignedTo_MD590-N47-2015.09.12-05.32.06_MD590_2_0140_cropped_features.bp\n",
      "/shared/CSHL_patch_features/inception-bn-blue/MD590/MD590_lossless_alignedTo_MD590-N47-2015.09.12-05.32.06_MD590_2_0140_cropped_gray/MD590-N29-2015.08.03-18.55.57_MD590_3_0085_lossless_alignedTo_MD590-N47-2015.09.12-05.32.06_MD590_2_0140_cropped_gray_features.bp\n",
      "aws s3 cp s3://mousebrainatlas-data/CSHL_patch_features/inception-bn-blue/MD590/MD590-N29-2015.08.03-18.55.57_MD590_3_0085_lossless_alignedTo_MD590-N47-2015.09.12-05.32.06_MD590_2_0140_cropped/MD590-N29-2015.08.03-18.55.57_MD590_3_0085_lossless_alignedTo_MD590-N47-2015.09.12-05.32.06_MD590_2_0140_cropped_features.bp s3://mousebrainatlas-data/CSHL_patch_features/inception-bn-blue/MD590/MD590_lossless_alignedTo_MD590-N47-2015.09.12-05.32.06_MD590_2_0140_cropped_gray/MD590-N29-2015.08.03-18.55.57_MD590_3_0085_lossless_alignedTo_MD590-N47-2015.09.12-05.32.06_MD590_2_0140_cropped_gray_features.bp\n"
     ]
    },
    {
     "name": "stderr",
     "output_type": "stream",
     "text": [
      "Child returned 0\n"
     ]
    },
    {
     "name": "stdout",
     "output_type": "stream",
     "text": [
      "/shared/CSHL_patch_features/inception-bn-blue/MD590/MD590-N29-2015.08.03-18.55.57_MD590_3_0085_lossless_alignedTo_MD590-N47-2015.09.12-05.32.06_MD590_2_0140_cropped/MD590-N29-2015.08.03-18.55.57_MD590_3_0085_lossless_alignedTo_MD590-N47-2015.09.12-05.32.06_MD590_2_0140_cropped_patch_locations.txt\n",
      "/shared/CSHL_patch_features/inception-bn-blue/MD590/MD590_lossless_alignedTo_MD590-N47-2015.09.12-05.32.06_MD590_2_0140_cropped_gray/MD590-N29-2015.08.03-18.55.57_MD590_3_0085_lossless_alignedTo_MD590-N47-2015.09.12-05.32.06_MD590_2_0140_cropped_gray_patch_locations.txt\n",
      "aws s3 cp s3://mousebrainatlas-data/CSHL_patch_features/inception-bn-blue/MD590/MD590-N29-2015.08.03-18.55.57_MD590_3_0085_lossless_alignedTo_MD590-N47-2015.09.12-05.32.06_MD590_2_0140_cropped/MD590-N29-2015.08.03-18.55.57_MD590_3_0085_lossless_alignedTo_MD590-N47-2015.09.12-05.32.06_MD590_2_0140_cropped_patch_locations.txt s3://mousebrainatlas-data/CSHL_patch_features/inception-bn-blue/MD590/MD590_lossless_alignedTo_MD590-N47-2015.09.12-05.32.06_MD590_2_0140_cropped_gray/MD590-N29-2015.08.03-18.55.57_MD590_3_0085_lossless_alignedTo_MD590-N47-2015.09.12-05.32.06_MD590_2_0140_cropped_gray_patch_locations.txt\n"
     ]
    },
    {
     "name": "stderr",
     "output_type": "stream",
     "text": [
      "Child returned 0\n"
     ]
    },
    {
     "name": "stdout",
     "output_type": "stream",
     "text": [
      "/shared/CSHL_patch_features/inception-bn-blue/MD590/MD590-IHC29-2015.08.10-19.56.34_MD590_3_0085_lossless_alignedTo_MD590-N47-2015.09.12-05.32.06_MD590_2_0140_cropped/MD590-IHC29-2015.08.10-19.56.34_MD590_3_0085_lossless_alignedTo_MD590-N47-2015.09.12-05.32.06_MD590_2_0140_cropped_features.bp\n",
      "/shared/CSHL_patch_features/inception-bn-blue/MD590/MD590_lossless_alignedTo_MD590-N47-2015.09.12-05.32.06_MD590_2_0140_cropped_gray/MD590-IHC29-2015.08.10-19.56.34_MD590_3_0085_lossless_alignedTo_MD590-N47-2015.09.12-05.32.06_MD590_2_0140_cropped_gray_features.bp\n",
      "aws s3 cp s3://mousebrainatlas-data/CSHL_patch_features/inception-bn-blue/MD590/MD590-IHC29-2015.08.10-19.56.34_MD590_3_0085_lossless_alignedTo_MD590-N47-2015.09.12-05.32.06_MD590_2_0140_cropped/MD590-IHC29-2015.08.10-19.56.34_MD590_3_0085_lossless_alignedTo_MD590-N47-2015.09.12-05.32.06_MD590_2_0140_cropped_features.bp s3://mousebrainatlas-data/CSHL_patch_features/inception-bn-blue/MD590/MD590_lossless_alignedTo_MD590-N47-2015.09.12-05.32.06_MD590_2_0140_cropped_gray/MD590-IHC29-2015.08.10-19.56.34_MD590_3_0085_lossless_alignedTo_MD590-N47-2015.09.12-05.32.06_MD590_2_0140_cropped_gray_features.bp\n"
     ]
    },
    {
     "name": "stderr",
     "output_type": "stream",
     "text": [
      "Child returned 0\n"
     ]
    },
    {
     "name": "stdout",
     "output_type": "stream",
     "text": [
      "/shared/CSHL_patch_features/inception-bn-blue/MD590/MD590-IHC29-2015.08.10-19.56.34_MD590_3_0085_lossless_alignedTo_MD590-N47-2015.09.12-05.32.06_MD590_2_0140_cropped/MD590-IHC29-2015.08.10-19.56.34_MD590_3_0085_lossless_alignedTo_MD590-N47-2015.09.12-05.32.06_MD590_2_0140_cropped_patch_locations.txt\n",
      "/shared/CSHL_patch_features/inception-bn-blue/MD590/MD590_lossless_alignedTo_MD590-N47-2015.09.12-05.32.06_MD590_2_0140_cropped_gray/MD590-IHC29-2015.08.10-19.56.34_MD590_3_0085_lossless_alignedTo_MD590-N47-2015.09.12-05.32.06_MD590_2_0140_cropped_gray_patch_locations.txt\n",
      "aws s3 cp s3://mousebrainatlas-data/CSHL_patch_features/inception-bn-blue/MD590/MD590-IHC29-2015.08.10-19.56.34_MD590_3_0085_lossless_alignedTo_MD590-N47-2015.09.12-05.32.06_MD590_2_0140_cropped/MD590-IHC29-2015.08.10-19.56.34_MD590_3_0085_lossless_alignedTo_MD590-N47-2015.09.12-05.32.06_MD590_2_0140_cropped_patch_locations.txt s3://mousebrainatlas-data/CSHL_patch_features/inception-bn-blue/MD590/MD590_lossless_alignedTo_MD590-N47-2015.09.12-05.32.06_MD590_2_0140_cropped_gray/MD590-IHC29-2015.08.10-19.56.34_MD590_3_0085_lossless_alignedTo_MD590-N47-2015.09.12-05.32.06_MD590_2_0140_cropped_gray_patch_locations.txt\n"
     ]
    },
    {
     "name": "stderr",
     "output_type": "stream",
     "text": [
      "Child returned 0\n"
     ]
    },
    {
     "name": "stdout",
     "output_type": "stream",
     "text": [
      "/shared/CSHL_patch_features/inception-bn-blue/MD590/MD590-N29-2015.08.03-18.55.57_MD590_2_0086_lossless_alignedTo_MD590-N47-2015.09.12-05.32.06_MD590_2_0140_cropped/MD590-N29-2015.08.03-18.55.57_MD590_2_0086_lossless_alignedTo_MD590-N47-2015.09.12-05.32.06_MD590_2_0140_cropped_features.bp\n",
      "/shared/CSHL_patch_features/inception-bn-blue/MD590/MD590_lossless_alignedTo_MD590-N47-2015.09.12-05.32.06_MD590_2_0140_cropped_gray/MD590-N29-2015.08.03-18.55.57_MD590_2_0086_lossless_alignedTo_MD590-N47-2015.09.12-05.32.06_MD590_2_0140_cropped_gray_features.bp\n",
      "aws s3 cp s3://mousebrainatlas-data/CSHL_patch_features/inception-bn-blue/MD590/MD590-N29-2015.08.03-18.55.57_MD590_2_0086_lossless_alignedTo_MD590-N47-2015.09.12-05.32.06_MD590_2_0140_cropped/MD590-N29-2015.08.03-18.55.57_MD590_2_0086_lossless_alignedTo_MD590-N47-2015.09.12-05.32.06_MD590_2_0140_cropped_features.bp s3://mousebrainatlas-data/CSHL_patch_features/inception-bn-blue/MD590/MD590_lossless_alignedTo_MD590-N47-2015.09.12-05.32.06_MD590_2_0140_cropped_gray/MD590-N29-2015.08.03-18.55.57_MD590_2_0086_lossless_alignedTo_MD590-N47-2015.09.12-05.32.06_MD590_2_0140_cropped_gray_features.bp\n"
     ]
    },
    {
     "name": "stderr",
     "output_type": "stream",
     "text": [
      "Child returned 0\n"
     ]
    },
    {
     "name": "stdout",
     "output_type": "stream",
     "text": [
      "/shared/CSHL_patch_features/inception-bn-blue/MD590/MD590-N29-2015.08.03-18.55.57_MD590_2_0086_lossless_alignedTo_MD590-N47-2015.09.12-05.32.06_MD590_2_0140_cropped/MD590-N29-2015.08.03-18.55.57_MD590_2_0086_lossless_alignedTo_MD590-N47-2015.09.12-05.32.06_MD590_2_0140_cropped_patch_locations.txt\n",
      "/shared/CSHL_patch_features/inception-bn-blue/MD590/MD590_lossless_alignedTo_MD590-N47-2015.09.12-05.32.06_MD590_2_0140_cropped_gray/MD590-N29-2015.08.03-18.55.57_MD590_2_0086_lossless_alignedTo_MD590-N47-2015.09.12-05.32.06_MD590_2_0140_cropped_gray_patch_locations.txt\n",
      "aws s3 cp s3://mousebrainatlas-data/CSHL_patch_features/inception-bn-blue/MD590/MD590-N29-2015.08.03-18.55.57_MD590_2_0086_lossless_alignedTo_MD590-N47-2015.09.12-05.32.06_MD590_2_0140_cropped/MD590-N29-2015.08.03-18.55.57_MD590_2_0086_lossless_alignedTo_MD590-N47-2015.09.12-05.32.06_MD590_2_0140_cropped_patch_locations.txt s3://mousebrainatlas-data/CSHL_patch_features/inception-bn-blue/MD590/MD590_lossless_alignedTo_MD590-N47-2015.09.12-05.32.06_MD590_2_0140_cropped_gray/MD590-N29-2015.08.03-18.55.57_MD590_2_0086_lossless_alignedTo_MD590-N47-2015.09.12-05.32.06_MD590_2_0140_cropped_gray_patch_locations.txt\n"
     ]
    },
    {
     "name": "stderr",
     "output_type": "stream",
     "text": [
      "Child returned 0\n"
     ]
    },
    {
     "name": "stdout",
     "output_type": "stream",
     "text": [
      "/shared/CSHL_patch_features/inception-bn-blue/MD590/MD590-IHC29-2015.08.10-19.56.34_MD590_2_0086_lossless_alignedTo_MD590-N47-2015.09.12-05.32.06_MD590_2_0140_cropped/MD590-IHC29-2015.08.10-19.56.34_MD590_2_0086_lossless_alignedTo_MD590-N47-2015.09.12-05.32.06_MD590_2_0140_cropped_features.bp\n",
      "/shared/CSHL_patch_features/inception-bn-blue/MD590/MD590_lossless_alignedTo_MD590-N47-2015.09.12-05.32.06_MD590_2_0140_cropped_gray/MD590-IHC29-2015.08.10-19.56.34_MD590_2_0086_lossless_alignedTo_MD590-N47-2015.09.12-05.32.06_MD590_2_0140_cropped_gray_features.bp\n",
      "aws s3 cp s3://mousebrainatlas-data/CSHL_patch_features/inception-bn-blue/MD590/MD590-IHC29-2015.08.10-19.56.34_MD590_2_0086_lossless_alignedTo_MD590-N47-2015.09.12-05.32.06_MD590_2_0140_cropped/MD590-IHC29-2015.08.10-19.56.34_MD590_2_0086_lossless_alignedTo_MD590-N47-2015.09.12-05.32.06_MD590_2_0140_cropped_features.bp s3://mousebrainatlas-data/CSHL_patch_features/inception-bn-blue/MD590/MD590_lossless_alignedTo_MD590-N47-2015.09.12-05.32.06_MD590_2_0140_cropped_gray/MD590-IHC29-2015.08.10-19.56.34_MD590_2_0086_lossless_alignedTo_MD590-N47-2015.09.12-05.32.06_MD590_2_0140_cropped_gray_features.bp\n"
     ]
    },
    {
     "name": "stderr",
     "output_type": "stream",
     "text": [
      "Child returned 0\n"
     ]
    },
    {
     "name": "stdout",
     "output_type": "stream",
     "text": [
      "/shared/CSHL_patch_features/inception-bn-blue/MD590/MD590-IHC29-2015.08.10-19.56.34_MD590_2_0086_lossless_alignedTo_MD590-N47-2015.09.12-05.32.06_MD590_2_0140_cropped/MD590-IHC29-2015.08.10-19.56.34_MD590_2_0086_lossless_alignedTo_MD590-N47-2015.09.12-05.32.06_MD590_2_0140_cropped_patch_locations.txt\n",
      "/shared/CSHL_patch_features/inception-bn-blue/MD590/MD590_lossless_alignedTo_MD590-N47-2015.09.12-05.32.06_MD590_2_0140_cropped_gray/MD590-IHC29-2015.08.10-19.56.34_MD590_2_0086_lossless_alignedTo_MD590-N47-2015.09.12-05.32.06_MD590_2_0140_cropped_gray_patch_locations.txt\n",
      "aws s3 cp s3://mousebrainatlas-data/CSHL_patch_features/inception-bn-blue/MD590/MD590-IHC29-2015.08.10-19.56.34_MD590_2_0086_lossless_alignedTo_MD590-N47-2015.09.12-05.32.06_MD590_2_0140_cropped/MD590-IHC29-2015.08.10-19.56.34_MD590_2_0086_lossless_alignedTo_MD590-N47-2015.09.12-05.32.06_MD590_2_0140_cropped_patch_locations.txt s3://mousebrainatlas-data/CSHL_patch_features/inception-bn-blue/MD590/MD590_lossless_alignedTo_MD590-N47-2015.09.12-05.32.06_MD590_2_0140_cropped_gray/MD590-IHC29-2015.08.10-19.56.34_MD590_2_0086_lossless_alignedTo_MD590-N47-2015.09.12-05.32.06_MD590_2_0140_cropped_gray_patch_locations.txt\n"
     ]
    },
    {
     "name": "stderr",
     "output_type": "stream",
     "text": [
      "Child returned 0\n"
     ]
    },
    {
     "name": "stdout",
     "output_type": "stream",
     "text": [
      "/shared/CSHL_patch_features/inception-bn-blue/MD590/MD590-N29-2015.08.03-18.55.57_MD590_1_0087_lossless_alignedTo_MD590-N47-2015.09.12-05.32.06_MD590_2_0140_cropped/MD590-N29-2015.08.03-18.55.57_MD590_1_0087_lossless_alignedTo_MD590-N47-2015.09.12-05.32.06_MD590_2_0140_cropped_features.bp\n",
      "/shared/CSHL_patch_features/inception-bn-blue/MD590/MD590_lossless_alignedTo_MD590-N47-2015.09.12-05.32.06_MD590_2_0140_cropped_gray/MD590-N29-2015.08.03-18.55.57_MD590_1_0087_lossless_alignedTo_MD590-N47-2015.09.12-05.32.06_MD590_2_0140_cropped_gray_features.bp\n",
      "aws s3 cp s3://mousebrainatlas-data/CSHL_patch_features/inception-bn-blue/MD590/MD590-N29-2015.08.03-18.55.57_MD590_1_0087_lossless_alignedTo_MD590-N47-2015.09.12-05.32.06_MD590_2_0140_cropped/MD590-N29-2015.08.03-18.55.57_MD590_1_0087_lossless_alignedTo_MD590-N47-2015.09.12-05.32.06_MD590_2_0140_cropped_features.bp s3://mousebrainatlas-data/CSHL_patch_features/inception-bn-blue/MD590/MD590_lossless_alignedTo_MD590-N47-2015.09.12-05.32.06_MD590_2_0140_cropped_gray/MD590-N29-2015.08.03-18.55.57_MD590_1_0087_lossless_alignedTo_MD590-N47-2015.09.12-05.32.06_MD590_2_0140_cropped_gray_features.bp\n"
     ]
    },
    {
     "name": "stderr",
     "output_type": "stream",
     "text": [
      "Child returned 0\n"
     ]
    },
    {
     "name": "stdout",
     "output_type": "stream",
     "text": [
      "/shared/CSHL_patch_features/inception-bn-blue/MD590/MD590-N29-2015.08.03-18.55.57_MD590_1_0087_lossless_alignedTo_MD590-N47-2015.09.12-05.32.06_MD590_2_0140_cropped/MD590-N29-2015.08.03-18.55.57_MD590_1_0087_lossless_alignedTo_MD590-N47-2015.09.12-05.32.06_MD590_2_0140_cropped_patch_locations.txt\n",
      "/shared/CSHL_patch_features/inception-bn-blue/MD590/MD590_lossless_alignedTo_MD590-N47-2015.09.12-05.32.06_MD590_2_0140_cropped_gray/MD590-N29-2015.08.03-18.55.57_MD590_1_0087_lossless_alignedTo_MD590-N47-2015.09.12-05.32.06_MD590_2_0140_cropped_gray_patch_locations.txt\n",
      "aws s3 cp s3://mousebrainatlas-data/CSHL_patch_features/inception-bn-blue/MD590/MD590-N29-2015.08.03-18.55.57_MD590_1_0087_lossless_alignedTo_MD590-N47-2015.09.12-05.32.06_MD590_2_0140_cropped/MD590-N29-2015.08.03-18.55.57_MD590_1_0087_lossless_alignedTo_MD590-N47-2015.09.12-05.32.06_MD590_2_0140_cropped_patch_locations.txt s3://mousebrainatlas-data/CSHL_patch_features/inception-bn-blue/MD590/MD590_lossless_alignedTo_MD590-N47-2015.09.12-05.32.06_MD590_2_0140_cropped_gray/MD590-N29-2015.08.03-18.55.57_MD590_1_0087_lossless_alignedTo_MD590-N47-2015.09.12-05.32.06_MD590_2_0140_cropped_gray_patch_locations.txt\n"
     ]
    },
    {
     "name": "stderr",
     "output_type": "stream",
     "text": [
      "Child returned 0\n"
     ]
    },
    {
     "name": "stdout",
     "output_type": "stream",
     "text": [
      "/shared/CSHL_patch_features/inception-bn-blue/MD590/MD590-N30-2015.08.03-19.00.39_MD590_3_0088_lossless_alignedTo_MD590-N47-2015.09.12-05.32.06_MD590_2_0140_cropped/MD590-N30-2015.08.03-19.00.39_MD590_3_0088_lossless_alignedTo_MD590-N47-2015.09.12-05.32.06_MD590_2_0140_cropped_features.bp\n",
      "/shared/CSHL_patch_features/inception-bn-blue/MD590/MD590_lossless_alignedTo_MD590-N47-2015.09.12-05.32.06_MD590_2_0140_cropped_gray/MD590-N30-2015.08.03-19.00.39_MD590_3_0088_lossless_alignedTo_MD590-N47-2015.09.12-05.32.06_MD590_2_0140_cropped_gray_features.bp\n",
      "aws s3 cp s3://mousebrainatlas-data/CSHL_patch_features/inception-bn-blue/MD590/MD590-N30-2015.08.03-19.00.39_MD590_3_0088_lossless_alignedTo_MD590-N47-2015.09.12-05.32.06_MD590_2_0140_cropped/MD590-N30-2015.08.03-19.00.39_MD590_3_0088_lossless_alignedTo_MD590-N47-2015.09.12-05.32.06_MD590_2_0140_cropped_features.bp s3://mousebrainatlas-data/CSHL_patch_features/inception-bn-blue/MD590/MD590_lossless_alignedTo_MD590-N47-2015.09.12-05.32.06_MD590_2_0140_cropped_gray/MD590-N30-2015.08.03-19.00.39_MD590_3_0088_lossless_alignedTo_MD590-N47-2015.09.12-05.32.06_MD590_2_0140_cropped_gray_features.bp\n"
     ]
    },
    {
     "name": "stderr",
     "output_type": "stream",
     "text": [
      "Child returned 0\n"
     ]
    },
    {
     "name": "stdout",
     "output_type": "stream",
     "text": [
      "/shared/CSHL_patch_features/inception-bn-blue/MD590/MD590-N30-2015.08.03-19.00.39_MD590_3_0088_lossless_alignedTo_MD590-N47-2015.09.12-05.32.06_MD590_2_0140_cropped/MD590-N30-2015.08.03-19.00.39_MD590_3_0088_lossless_alignedTo_MD590-N47-2015.09.12-05.32.06_MD590_2_0140_cropped_patch_locations.txt\n",
      "/shared/CSHL_patch_features/inception-bn-blue/MD590/MD590_lossless_alignedTo_MD590-N47-2015.09.12-05.32.06_MD590_2_0140_cropped_gray/MD590-N30-2015.08.03-19.00.39_MD590_3_0088_lossless_alignedTo_MD590-N47-2015.09.12-05.32.06_MD590_2_0140_cropped_gray_patch_locations.txt\n",
      "aws s3 cp s3://mousebrainatlas-data/CSHL_patch_features/inception-bn-blue/MD590/MD590-N30-2015.08.03-19.00.39_MD590_3_0088_lossless_alignedTo_MD590-N47-2015.09.12-05.32.06_MD590_2_0140_cropped/MD590-N30-2015.08.03-19.00.39_MD590_3_0088_lossless_alignedTo_MD590-N47-2015.09.12-05.32.06_MD590_2_0140_cropped_patch_locations.txt s3://mousebrainatlas-data/CSHL_patch_features/inception-bn-blue/MD590/MD590_lossless_alignedTo_MD590-N47-2015.09.12-05.32.06_MD590_2_0140_cropped_gray/MD590-N30-2015.08.03-19.00.39_MD590_3_0088_lossless_alignedTo_MD590-N47-2015.09.12-05.32.06_MD590_2_0140_cropped_gray_patch_locations.txt\n"
     ]
    },
    {
     "name": "stderr",
     "output_type": "stream",
     "text": [
      "Child returned 0\n"
     ]
    },
    {
     "name": "stdout",
     "output_type": "stream",
     "text": [
      "/shared/CSHL_patch_features/inception-bn-blue/MD590/MD590-IHC30-2015.08.10-20.01.31_MD590_3_0088_lossless_alignedTo_MD590-N47-2015.09.12-05.32.06_MD590_2_0140_cropped/MD590-IHC30-2015.08.10-20.01.31_MD590_3_0088_lossless_alignedTo_MD590-N47-2015.09.12-05.32.06_MD590_2_0140_cropped_features.bp\n",
      "/shared/CSHL_patch_features/inception-bn-blue/MD590/MD590_lossless_alignedTo_MD590-N47-2015.09.12-05.32.06_MD590_2_0140_cropped_gray/MD590-IHC30-2015.08.10-20.01.31_MD590_3_0088_lossless_alignedTo_MD590-N47-2015.09.12-05.32.06_MD590_2_0140_cropped_gray_features.bp\n",
      "aws s3 cp s3://mousebrainatlas-data/CSHL_patch_features/inception-bn-blue/MD590/MD590-IHC30-2015.08.10-20.01.31_MD590_3_0088_lossless_alignedTo_MD590-N47-2015.09.12-05.32.06_MD590_2_0140_cropped/MD590-IHC30-2015.08.10-20.01.31_MD590_3_0088_lossless_alignedTo_MD590-N47-2015.09.12-05.32.06_MD590_2_0140_cropped_features.bp s3://mousebrainatlas-data/CSHL_patch_features/inception-bn-blue/MD590/MD590_lossless_alignedTo_MD590-N47-2015.09.12-05.32.06_MD590_2_0140_cropped_gray/MD590-IHC30-2015.08.10-20.01.31_MD590_3_0088_lossless_alignedTo_MD590-N47-2015.09.12-05.32.06_MD590_2_0140_cropped_gray_features.bp\n"
     ]
    },
    {
     "name": "stderr",
     "output_type": "stream",
     "text": [
      "Child returned 0\n"
     ]
    },
    {
     "name": "stdout",
     "output_type": "stream",
     "text": [
      "/shared/CSHL_patch_features/inception-bn-blue/MD590/MD590-IHC30-2015.08.10-20.01.31_MD590_3_0088_lossless_alignedTo_MD590-N47-2015.09.12-05.32.06_MD590_2_0140_cropped/MD590-IHC30-2015.08.10-20.01.31_MD590_3_0088_lossless_alignedTo_MD590-N47-2015.09.12-05.32.06_MD590_2_0140_cropped_patch_locations.txt\n",
      "/shared/CSHL_patch_features/inception-bn-blue/MD590/MD590_lossless_alignedTo_MD590-N47-2015.09.12-05.32.06_MD590_2_0140_cropped_gray/MD590-IHC30-2015.08.10-20.01.31_MD590_3_0088_lossless_alignedTo_MD590-N47-2015.09.12-05.32.06_MD590_2_0140_cropped_gray_patch_locations.txt\n",
      "aws s3 cp s3://mousebrainatlas-data/CSHL_patch_features/inception-bn-blue/MD590/MD590-IHC30-2015.08.10-20.01.31_MD590_3_0088_lossless_alignedTo_MD590-N47-2015.09.12-05.32.06_MD590_2_0140_cropped/MD590-IHC30-2015.08.10-20.01.31_MD590_3_0088_lossless_alignedTo_MD590-N47-2015.09.12-05.32.06_MD590_2_0140_cropped_patch_locations.txt s3://mousebrainatlas-data/CSHL_patch_features/inception-bn-blue/MD590/MD590_lossless_alignedTo_MD590-N47-2015.09.12-05.32.06_MD590_2_0140_cropped_gray/MD590-IHC30-2015.08.10-20.01.31_MD590_3_0088_lossless_alignedTo_MD590-N47-2015.09.12-05.32.06_MD590_2_0140_cropped_gray_patch_locations.txt\n"
     ]
    },
    {
     "name": "stderr",
     "output_type": "stream",
     "text": [
      "Child returned 0\n"
     ]
    },
    {
     "name": "stdout",
     "output_type": "stream",
     "text": [
      "/shared/CSHL_patch_features/inception-bn-blue/MD590/MD590-N30-2015.08.03-19.00.39_MD590_2_0089_lossless_alignedTo_MD590-N47-2015.09.12-05.32.06_MD590_2_0140_cropped/MD590-N30-2015.08.03-19.00.39_MD590_2_0089_lossless_alignedTo_MD590-N47-2015.09.12-05.32.06_MD590_2_0140_cropped_features.bp\n",
      "/shared/CSHL_patch_features/inception-bn-blue/MD590/MD590_lossless_alignedTo_MD590-N47-2015.09.12-05.32.06_MD590_2_0140_cropped_gray/MD590-N30-2015.08.03-19.00.39_MD590_2_0089_lossless_alignedTo_MD590-N47-2015.09.12-05.32.06_MD590_2_0140_cropped_gray_features.bp\n",
      "aws s3 cp s3://mousebrainatlas-data/CSHL_patch_features/inception-bn-blue/MD590/MD590-N30-2015.08.03-19.00.39_MD590_2_0089_lossless_alignedTo_MD590-N47-2015.09.12-05.32.06_MD590_2_0140_cropped/MD590-N30-2015.08.03-19.00.39_MD590_2_0089_lossless_alignedTo_MD590-N47-2015.09.12-05.32.06_MD590_2_0140_cropped_features.bp s3://mousebrainatlas-data/CSHL_patch_features/inception-bn-blue/MD590/MD590_lossless_alignedTo_MD590-N47-2015.09.12-05.32.06_MD590_2_0140_cropped_gray/MD590-N30-2015.08.03-19.00.39_MD590_2_0089_lossless_alignedTo_MD590-N47-2015.09.12-05.32.06_MD590_2_0140_cropped_gray_features.bp\n"
     ]
    },
    {
     "name": "stderr",
     "output_type": "stream",
     "text": [
      "Child returned 0\n"
     ]
    },
    {
     "name": "stdout",
     "output_type": "stream",
     "text": [
      "/shared/CSHL_patch_features/inception-bn-blue/MD590/MD590-N30-2015.08.03-19.00.39_MD590_2_0089_lossless_alignedTo_MD590-N47-2015.09.12-05.32.06_MD590_2_0140_cropped/MD590-N30-2015.08.03-19.00.39_MD590_2_0089_lossless_alignedTo_MD590-N47-2015.09.12-05.32.06_MD590_2_0140_cropped_patch_locations.txt\n",
      "/shared/CSHL_patch_features/inception-bn-blue/MD590/MD590_lossless_alignedTo_MD590-N47-2015.09.12-05.32.06_MD590_2_0140_cropped_gray/MD590-N30-2015.08.03-19.00.39_MD590_2_0089_lossless_alignedTo_MD590-N47-2015.09.12-05.32.06_MD590_2_0140_cropped_gray_patch_locations.txt\n",
      "aws s3 cp s3://mousebrainatlas-data/CSHL_patch_features/inception-bn-blue/MD590/MD590-N30-2015.08.03-19.00.39_MD590_2_0089_lossless_alignedTo_MD590-N47-2015.09.12-05.32.06_MD590_2_0140_cropped/MD590-N30-2015.08.03-19.00.39_MD590_2_0089_lossless_alignedTo_MD590-N47-2015.09.12-05.32.06_MD590_2_0140_cropped_patch_locations.txt s3://mousebrainatlas-data/CSHL_patch_features/inception-bn-blue/MD590/MD590_lossless_alignedTo_MD590-N47-2015.09.12-05.32.06_MD590_2_0140_cropped_gray/MD590-N30-2015.08.03-19.00.39_MD590_2_0089_lossless_alignedTo_MD590-N47-2015.09.12-05.32.06_MD590_2_0140_cropped_gray_patch_locations.txt\n"
     ]
    },
    {
     "name": "stderr",
     "output_type": "stream",
     "text": [
      "Child returned 0\n"
     ]
    },
    {
     "name": "stdout",
     "output_type": "stream",
     "text": [
      "/shared/CSHL_patch_features/inception-bn-blue/MD590/MD590-N30-2015.08.03-19.00.39_MD590_1_0090_lossless_alignedTo_MD590-N47-2015.09.12-05.32.06_MD590_2_0140_cropped/MD590-N30-2015.08.03-19.00.39_MD590_1_0090_lossless_alignedTo_MD590-N47-2015.09.12-05.32.06_MD590_2_0140_cropped_features.bp\n",
      "/shared/CSHL_patch_features/inception-bn-blue/MD590/MD590_lossless_alignedTo_MD590-N47-2015.09.12-05.32.06_MD590_2_0140_cropped_gray/MD590-N30-2015.08.03-19.00.39_MD590_1_0090_lossless_alignedTo_MD590-N47-2015.09.12-05.32.06_MD590_2_0140_cropped_gray_features.bp\n",
      "aws s3 cp s3://mousebrainatlas-data/CSHL_patch_features/inception-bn-blue/MD590/MD590-N30-2015.08.03-19.00.39_MD590_1_0090_lossless_alignedTo_MD590-N47-2015.09.12-05.32.06_MD590_2_0140_cropped/MD590-N30-2015.08.03-19.00.39_MD590_1_0090_lossless_alignedTo_MD590-N47-2015.09.12-05.32.06_MD590_2_0140_cropped_features.bp s3://mousebrainatlas-data/CSHL_patch_features/inception-bn-blue/MD590/MD590_lossless_alignedTo_MD590-N47-2015.09.12-05.32.06_MD590_2_0140_cropped_gray/MD590-N30-2015.08.03-19.00.39_MD590_1_0090_lossless_alignedTo_MD590-N47-2015.09.12-05.32.06_MD590_2_0140_cropped_gray_features.bp\n"
     ]
    },
    {
     "name": "stderr",
     "output_type": "stream",
     "text": [
      "Child returned 0\n"
     ]
    },
    {
     "name": "stdout",
     "output_type": "stream",
     "text": [
      "/shared/CSHL_patch_features/inception-bn-blue/MD590/MD590-N30-2015.08.03-19.00.39_MD590_1_0090_lossless_alignedTo_MD590-N47-2015.09.12-05.32.06_MD590_2_0140_cropped/MD590-N30-2015.08.03-19.00.39_MD590_1_0090_lossless_alignedTo_MD590-N47-2015.09.12-05.32.06_MD590_2_0140_cropped_patch_locations.txt\n",
      "/shared/CSHL_patch_features/inception-bn-blue/MD590/MD590_lossless_alignedTo_MD590-N47-2015.09.12-05.32.06_MD590_2_0140_cropped_gray/MD590-N30-2015.08.03-19.00.39_MD590_1_0090_lossless_alignedTo_MD590-N47-2015.09.12-05.32.06_MD590_2_0140_cropped_gray_patch_locations.txt\n",
      "aws s3 cp s3://mousebrainatlas-data/CSHL_patch_features/inception-bn-blue/MD590/MD590-N30-2015.08.03-19.00.39_MD590_1_0090_lossless_alignedTo_MD590-N47-2015.09.12-05.32.06_MD590_2_0140_cropped/MD590-N30-2015.08.03-19.00.39_MD590_1_0090_lossless_alignedTo_MD590-N47-2015.09.12-05.32.06_MD590_2_0140_cropped_patch_locations.txt s3://mousebrainatlas-data/CSHL_patch_features/inception-bn-blue/MD590/MD590_lossless_alignedTo_MD590-N47-2015.09.12-05.32.06_MD590_2_0140_cropped_gray/MD590-N30-2015.08.03-19.00.39_MD590_1_0090_lossless_alignedTo_MD590-N47-2015.09.12-05.32.06_MD590_2_0140_cropped_gray_patch_locations.txt\n"
     ]
    },
    {
     "name": "stderr",
     "output_type": "stream",
     "text": [
      "Child returned 0\n"
     ]
    },
    {
     "name": "stdout",
     "output_type": "stream",
     "text": [
      "/shared/CSHL_patch_features/inception-bn-blue/MD590/MD590-IHC30-2015.08.10-20.01.31_MD590_1_0090_lossless_alignedTo_MD590-N47-2015.09.12-05.32.06_MD590_2_0140_cropped/MD590-IHC30-2015.08.10-20.01.31_MD590_1_0090_lossless_alignedTo_MD590-N47-2015.09.12-05.32.06_MD590_2_0140_cropped_features.bp\n",
      "/shared/CSHL_patch_features/inception-bn-blue/MD590/MD590_lossless_alignedTo_MD590-N47-2015.09.12-05.32.06_MD590_2_0140_cropped_gray/MD590-IHC30-2015.08.10-20.01.31_MD590_1_0090_lossless_alignedTo_MD590-N47-2015.09.12-05.32.06_MD590_2_0140_cropped_gray_features.bp\n",
      "aws s3 cp s3://mousebrainatlas-data/CSHL_patch_features/inception-bn-blue/MD590/MD590-IHC30-2015.08.10-20.01.31_MD590_1_0090_lossless_alignedTo_MD590-N47-2015.09.12-05.32.06_MD590_2_0140_cropped/MD590-IHC30-2015.08.10-20.01.31_MD590_1_0090_lossless_alignedTo_MD590-N47-2015.09.12-05.32.06_MD590_2_0140_cropped_features.bp s3://mousebrainatlas-data/CSHL_patch_features/inception-bn-blue/MD590/MD590_lossless_alignedTo_MD590-N47-2015.09.12-05.32.06_MD590_2_0140_cropped_gray/MD590-IHC30-2015.08.10-20.01.31_MD590_1_0090_lossless_alignedTo_MD590-N47-2015.09.12-05.32.06_MD590_2_0140_cropped_gray_features.bp\n"
     ]
    },
    {
     "name": "stderr",
     "output_type": "stream",
     "text": [
      "Child returned 0\n"
     ]
    },
    {
     "name": "stdout",
     "output_type": "stream",
     "text": [
      "/shared/CSHL_patch_features/inception-bn-blue/MD590/MD590-IHC30-2015.08.10-20.01.31_MD590_1_0090_lossless_alignedTo_MD590-N47-2015.09.12-05.32.06_MD590_2_0140_cropped/MD590-IHC30-2015.08.10-20.01.31_MD590_1_0090_lossless_alignedTo_MD590-N47-2015.09.12-05.32.06_MD590_2_0140_cropped_patch_locations.txt\n",
      "/shared/CSHL_patch_features/inception-bn-blue/MD590/MD590_lossless_alignedTo_MD590-N47-2015.09.12-05.32.06_MD590_2_0140_cropped_gray/MD590-IHC30-2015.08.10-20.01.31_MD590_1_0090_lossless_alignedTo_MD590-N47-2015.09.12-05.32.06_MD590_2_0140_cropped_gray_patch_locations.txt\n",
      "aws s3 cp s3://mousebrainatlas-data/CSHL_patch_features/inception-bn-blue/MD590/MD590-IHC30-2015.08.10-20.01.31_MD590_1_0090_lossless_alignedTo_MD590-N47-2015.09.12-05.32.06_MD590_2_0140_cropped/MD590-IHC30-2015.08.10-20.01.31_MD590_1_0090_lossless_alignedTo_MD590-N47-2015.09.12-05.32.06_MD590_2_0140_cropped_patch_locations.txt s3://mousebrainatlas-data/CSHL_patch_features/inception-bn-blue/MD590/MD590_lossless_alignedTo_MD590-N47-2015.09.12-05.32.06_MD590_2_0140_cropped_gray/MD590-IHC30-2015.08.10-20.01.31_MD590_1_0090_lossless_alignedTo_MD590-N47-2015.09.12-05.32.06_MD590_2_0140_cropped_gray_patch_locations.txt\n"
     ]
    },
    {
     "name": "stderr",
     "output_type": "stream",
     "text": [
      "Child returned 0\n"
     ]
    },
    {
     "name": "stdout",
     "output_type": "stream",
     "text": [
      "/shared/CSHL_patch_features/inception-bn-blue/MD590/MD590-N31-2015.08.03-19.05.52_MD590_3_0091_lossless_alignedTo_MD590-N47-2015.09.12-05.32.06_MD590_2_0140_cropped/MD590-N31-2015.08.03-19.05.52_MD590_3_0091_lossless_alignedTo_MD590-N47-2015.09.12-05.32.06_MD590_2_0140_cropped_features.bp\n",
      "/shared/CSHL_patch_features/inception-bn-blue/MD590/MD590_lossless_alignedTo_MD590-N47-2015.09.12-05.32.06_MD590_2_0140_cropped_gray/MD590-N31-2015.08.03-19.05.52_MD590_3_0091_lossless_alignedTo_MD590-N47-2015.09.12-05.32.06_MD590_2_0140_cropped_gray_features.bp\n",
      "aws s3 cp s3://mousebrainatlas-data/CSHL_patch_features/inception-bn-blue/MD590/MD590-N31-2015.08.03-19.05.52_MD590_3_0091_lossless_alignedTo_MD590-N47-2015.09.12-05.32.06_MD590_2_0140_cropped/MD590-N31-2015.08.03-19.05.52_MD590_3_0091_lossless_alignedTo_MD590-N47-2015.09.12-05.32.06_MD590_2_0140_cropped_features.bp s3://mousebrainatlas-data/CSHL_patch_features/inception-bn-blue/MD590/MD590_lossless_alignedTo_MD590-N47-2015.09.12-05.32.06_MD590_2_0140_cropped_gray/MD590-N31-2015.08.03-19.05.52_MD590_3_0091_lossless_alignedTo_MD590-N47-2015.09.12-05.32.06_MD590_2_0140_cropped_gray_features.bp\n"
     ]
    },
    {
     "name": "stderr",
     "output_type": "stream",
     "text": [
      "Child returned 0\n"
     ]
    },
    {
     "name": "stdout",
     "output_type": "stream",
     "text": [
      "/shared/CSHL_patch_features/inception-bn-blue/MD590/MD590-N31-2015.08.03-19.05.52_MD590_3_0091_lossless_alignedTo_MD590-N47-2015.09.12-05.32.06_MD590_2_0140_cropped/MD590-N31-2015.08.03-19.05.52_MD590_3_0091_lossless_alignedTo_MD590-N47-2015.09.12-05.32.06_MD590_2_0140_cropped_patch_locations.txt\n",
      "/shared/CSHL_patch_features/inception-bn-blue/MD590/MD590_lossless_alignedTo_MD590-N47-2015.09.12-05.32.06_MD590_2_0140_cropped_gray/MD590-N31-2015.08.03-19.05.52_MD590_3_0091_lossless_alignedTo_MD590-N47-2015.09.12-05.32.06_MD590_2_0140_cropped_gray_patch_locations.txt\n",
      "aws s3 cp s3://mousebrainatlas-data/CSHL_patch_features/inception-bn-blue/MD590/MD590-N31-2015.08.03-19.05.52_MD590_3_0091_lossless_alignedTo_MD590-N47-2015.09.12-05.32.06_MD590_2_0140_cropped/MD590-N31-2015.08.03-19.05.52_MD590_3_0091_lossless_alignedTo_MD590-N47-2015.09.12-05.32.06_MD590_2_0140_cropped_patch_locations.txt s3://mousebrainatlas-data/CSHL_patch_features/inception-bn-blue/MD590/MD590_lossless_alignedTo_MD590-N47-2015.09.12-05.32.06_MD590_2_0140_cropped_gray/MD590-N31-2015.08.03-19.05.52_MD590_3_0091_lossless_alignedTo_MD590-N47-2015.09.12-05.32.06_MD590_2_0140_cropped_gray_patch_locations.txt\n"
     ]
    },
    {
     "name": "stderr",
     "output_type": "stream",
     "text": [
      "Child returned 0\n"
     ]
    },
    {
     "name": "stdout",
     "output_type": "stream",
     "text": [
      "/shared/CSHL_patch_features/inception-bn-blue/MD590/MD590-IHC31-2015.08.10-20.06.46_MD590_3_0091_lossless_alignedTo_MD590-N47-2015.09.12-05.32.06_MD590_2_0140_cropped/MD590-IHC31-2015.08.10-20.06.46_MD590_3_0091_lossless_alignedTo_MD590-N47-2015.09.12-05.32.06_MD590_2_0140_cropped_features.bp\n",
      "/shared/CSHL_patch_features/inception-bn-blue/MD590/MD590_lossless_alignedTo_MD590-N47-2015.09.12-05.32.06_MD590_2_0140_cropped_gray/MD590-IHC31-2015.08.10-20.06.46_MD590_3_0091_lossless_alignedTo_MD590-N47-2015.09.12-05.32.06_MD590_2_0140_cropped_gray_features.bp\n",
      "aws s3 cp s3://mousebrainatlas-data/CSHL_patch_features/inception-bn-blue/MD590/MD590-IHC31-2015.08.10-20.06.46_MD590_3_0091_lossless_alignedTo_MD590-N47-2015.09.12-05.32.06_MD590_2_0140_cropped/MD590-IHC31-2015.08.10-20.06.46_MD590_3_0091_lossless_alignedTo_MD590-N47-2015.09.12-05.32.06_MD590_2_0140_cropped_features.bp s3://mousebrainatlas-data/CSHL_patch_features/inception-bn-blue/MD590/MD590_lossless_alignedTo_MD590-N47-2015.09.12-05.32.06_MD590_2_0140_cropped_gray/MD590-IHC31-2015.08.10-20.06.46_MD590_3_0091_lossless_alignedTo_MD590-N47-2015.09.12-05.32.06_MD590_2_0140_cropped_gray_features.bp\n"
     ]
    },
    {
     "name": "stderr",
     "output_type": "stream",
     "text": [
      "Child returned 0\n"
     ]
    },
    {
     "name": "stdout",
     "output_type": "stream",
     "text": [
      "/shared/CSHL_patch_features/inception-bn-blue/MD590/MD590-IHC31-2015.08.10-20.06.46_MD590_3_0091_lossless_alignedTo_MD590-N47-2015.09.12-05.32.06_MD590_2_0140_cropped/MD590-IHC31-2015.08.10-20.06.46_MD590_3_0091_lossless_alignedTo_MD590-N47-2015.09.12-05.32.06_MD590_2_0140_cropped_patch_locations.txt\n",
      "/shared/CSHL_patch_features/inception-bn-blue/MD590/MD590_lossless_alignedTo_MD590-N47-2015.09.12-05.32.06_MD590_2_0140_cropped_gray/MD590-IHC31-2015.08.10-20.06.46_MD590_3_0091_lossless_alignedTo_MD590-N47-2015.09.12-05.32.06_MD590_2_0140_cropped_gray_patch_locations.txt\n",
      "aws s3 cp s3://mousebrainatlas-data/CSHL_patch_features/inception-bn-blue/MD590/MD590-IHC31-2015.08.10-20.06.46_MD590_3_0091_lossless_alignedTo_MD590-N47-2015.09.12-05.32.06_MD590_2_0140_cropped/MD590-IHC31-2015.08.10-20.06.46_MD590_3_0091_lossless_alignedTo_MD590-N47-2015.09.12-05.32.06_MD590_2_0140_cropped_patch_locations.txt s3://mousebrainatlas-data/CSHL_patch_features/inception-bn-blue/MD590/MD590_lossless_alignedTo_MD590-N47-2015.09.12-05.32.06_MD590_2_0140_cropped_gray/MD590-IHC31-2015.08.10-20.06.46_MD590_3_0091_lossless_alignedTo_MD590-N47-2015.09.12-05.32.06_MD590_2_0140_cropped_gray_patch_locations.txt\n"
     ]
    },
    {
     "name": "stderr",
     "output_type": "stream",
     "text": [
      "Child returned 0\n"
     ]
    },
    {
     "name": "stdout",
     "output_type": "stream",
     "text": [
      "/shared/CSHL_patch_features/inception-bn-blue/MD590/MD590-N31-2015.08.03-19.05.52_MD590_2_0092_lossless_alignedTo_MD590-N47-2015.09.12-05.32.06_MD590_2_0140_cropped/MD590-N31-2015.08.03-19.05.52_MD590_2_0092_lossless_alignedTo_MD590-N47-2015.09.12-05.32.06_MD590_2_0140_cropped_features.bp\n",
      "/shared/CSHL_patch_features/inception-bn-blue/MD590/MD590_lossless_alignedTo_MD590-N47-2015.09.12-05.32.06_MD590_2_0140_cropped_gray/MD590-N31-2015.08.03-19.05.52_MD590_2_0092_lossless_alignedTo_MD590-N47-2015.09.12-05.32.06_MD590_2_0140_cropped_gray_features.bp\n",
      "aws s3 cp s3://mousebrainatlas-data/CSHL_patch_features/inception-bn-blue/MD590/MD590-N31-2015.08.03-19.05.52_MD590_2_0092_lossless_alignedTo_MD590-N47-2015.09.12-05.32.06_MD590_2_0140_cropped/MD590-N31-2015.08.03-19.05.52_MD590_2_0092_lossless_alignedTo_MD590-N47-2015.09.12-05.32.06_MD590_2_0140_cropped_features.bp s3://mousebrainatlas-data/CSHL_patch_features/inception-bn-blue/MD590/MD590_lossless_alignedTo_MD590-N47-2015.09.12-05.32.06_MD590_2_0140_cropped_gray/MD590-N31-2015.08.03-19.05.52_MD590_2_0092_lossless_alignedTo_MD590-N47-2015.09.12-05.32.06_MD590_2_0140_cropped_gray_features.bp\n"
     ]
    },
    {
     "name": "stderr",
     "output_type": "stream",
     "text": [
      "Child returned 0\n"
     ]
    },
    {
     "name": "stdout",
     "output_type": "stream",
     "text": [
      "/shared/CSHL_patch_features/inception-bn-blue/MD590/MD590-N31-2015.08.03-19.05.52_MD590_2_0092_lossless_alignedTo_MD590-N47-2015.09.12-05.32.06_MD590_2_0140_cropped/MD590-N31-2015.08.03-19.05.52_MD590_2_0092_lossless_alignedTo_MD590-N47-2015.09.12-05.32.06_MD590_2_0140_cropped_patch_locations.txt\n",
      "/shared/CSHL_patch_features/inception-bn-blue/MD590/MD590_lossless_alignedTo_MD590-N47-2015.09.12-05.32.06_MD590_2_0140_cropped_gray/MD590-N31-2015.08.03-19.05.52_MD590_2_0092_lossless_alignedTo_MD590-N47-2015.09.12-05.32.06_MD590_2_0140_cropped_gray_patch_locations.txt\n",
      "aws s3 cp s3://mousebrainatlas-data/CSHL_patch_features/inception-bn-blue/MD590/MD590-N31-2015.08.03-19.05.52_MD590_2_0092_lossless_alignedTo_MD590-N47-2015.09.12-05.32.06_MD590_2_0140_cropped/MD590-N31-2015.08.03-19.05.52_MD590_2_0092_lossless_alignedTo_MD590-N47-2015.09.12-05.32.06_MD590_2_0140_cropped_patch_locations.txt s3://mousebrainatlas-data/CSHL_patch_features/inception-bn-blue/MD590/MD590_lossless_alignedTo_MD590-N47-2015.09.12-05.32.06_MD590_2_0140_cropped_gray/MD590-N31-2015.08.03-19.05.52_MD590_2_0092_lossless_alignedTo_MD590-N47-2015.09.12-05.32.06_MD590_2_0140_cropped_gray_patch_locations.txt\n"
     ]
    },
    {
     "name": "stderr",
     "output_type": "stream",
     "text": [
      "Child returned 0\n"
     ]
    },
    {
     "name": "stdout",
     "output_type": "stream",
     "text": [
      "/shared/CSHL_patch_features/inception-bn-blue/MD590/MD590-IHC31-2015.08.10-20.06.46_MD590_1_0093_lossless_alignedTo_MD590-N47-2015.09.12-05.32.06_MD590_2_0140_cropped/MD590-IHC31-2015.08.10-20.06.46_MD590_1_0093_lossless_alignedTo_MD590-N47-2015.09.12-05.32.06_MD590_2_0140_cropped_features.bp\n",
      "/shared/CSHL_patch_features/inception-bn-blue/MD590/MD590_lossless_alignedTo_MD590-N47-2015.09.12-05.32.06_MD590_2_0140_cropped_gray/MD590-IHC31-2015.08.10-20.06.46_MD590_1_0093_lossless_alignedTo_MD590-N47-2015.09.12-05.32.06_MD590_2_0140_cropped_gray_features.bp\n",
      "aws s3 cp s3://mousebrainatlas-data/CSHL_patch_features/inception-bn-blue/MD590/MD590-IHC31-2015.08.10-20.06.46_MD590_1_0093_lossless_alignedTo_MD590-N47-2015.09.12-05.32.06_MD590_2_0140_cropped/MD590-IHC31-2015.08.10-20.06.46_MD590_1_0093_lossless_alignedTo_MD590-N47-2015.09.12-05.32.06_MD590_2_0140_cropped_features.bp s3://mousebrainatlas-data/CSHL_patch_features/inception-bn-blue/MD590/MD590_lossless_alignedTo_MD590-N47-2015.09.12-05.32.06_MD590_2_0140_cropped_gray/MD590-IHC31-2015.08.10-20.06.46_MD590_1_0093_lossless_alignedTo_MD590-N47-2015.09.12-05.32.06_MD590_2_0140_cropped_gray_features.bp\n"
     ]
    },
    {
     "name": "stderr",
     "output_type": "stream",
     "text": [
      "Child returned 0\n"
     ]
    },
    {
     "name": "stdout",
     "output_type": "stream",
     "text": [
      "/shared/CSHL_patch_features/inception-bn-blue/MD590/MD590-IHC31-2015.08.10-20.06.46_MD590_1_0093_lossless_alignedTo_MD590-N47-2015.09.12-05.32.06_MD590_2_0140_cropped/MD590-IHC31-2015.08.10-20.06.46_MD590_1_0093_lossless_alignedTo_MD590-N47-2015.09.12-05.32.06_MD590_2_0140_cropped_patch_locations.txt\n",
      "/shared/CSHL_patch_features/inception-bn-blue/MD590/MD590_lossless_alignedTo_MD590-N47-2015.09.12-05.32.06_MD590_2_0140_cropped_gray/MD590-IHC31-2015.08.10-20.06.46_MD590_1_0093_lossless_alignedTo_MD590-N47-2015.09.12-05.32.06_MD590_2_0140_cropped_gray_patch_locations.txt\n",
      "aws s3 cp s3://mousebrainatlas-data/CSHL_patch_features/inception-bn-blue/MD590/MD590-IHC31-2015.08.10-20.06.46_MD590_1_0093_lossless_alignedTo_MD590-N47-2015.09.12-05.32.06_MD590_2_0140_cropped/MD590-IHC31-2015.08.10-20.06.46_MD590_1_0093_lossless_alignedTo_MD590-N47-2015.09.12-05.32.06_MD590_2_0140_cropped_patch_locations.txt s3://mousebrainatlas-data/CSHL_patch_features/inception-bn-blue/MD590/MD590_lossless_alignedTo_MD590-N47-2015.09.12-05.32.06_MD590_2_0140_cropped_gray/MD590-IHC31-2015.08.10-20.06.46_MD590_1_0093_lossless_alignedTo_MD590-N47-2015.09.12-05.32.06_MD590_2_0140_cropped_gray_patch_locations.txt\n"
     ]
    },
    {
     "name": "stderr",
     "output_type": "stream",
     "text": [
      "Child returned 0\n"
     ]
    },
    {
     "name": "stdout",
     "output_type": "stream",
     "text": [
      "/shared/CSHL_patch_features/inception-bn-blue/MD590/MD590-N32-2015.08.03-19.09.53_MD590_3_0094_lossless_alignedTo_MD590-N47-2015.09.12-05.32.06_MD590_2_0140_cropped/MD590-N32-2015.08.03-19.09.53_MD590_3_0094_lossless_alignedTo_MD590-N47-2015.09.12-05.32.06_MD590_2_0140_cropped_features.bp\n",
      "/shared/CSHL_patch_features/inception-bn-blue/MD590/MD590_lossless_alignedTo_MD590-N47-2015.09.12-05.32.06_MD590_2_0140_cropped_gray/MD590-N32-2015.08.03-19.09.53_MD590_3_0094_lossless_alignedTo_MD590-N47-2015.09.12-05.32.06_MD590_2_0140_cropped_gray_features.bp\n",
      "aws s3 cp s3://mousebrainatlas-data/CSHL_patch_features/inception-bn-blue/MD590/MD590-N32-2015.08.03-19.09.53_MD590_3_0094_lossless_alignedTo_MD590-N47-2015.09.12-05.32.06_MD590_2_0140_cropped/MD590-N32-2015.08.03-19.09.53_MD590_3_0094_lossless_alignedTo_MD590-N47-2015.09.12-05.32.06_MD590_2_0140_cropped_features.bp s3://mousebrainatlas-data/CSHL_patch_features/inception-bn-blue/MD590/MD590_lossless_alignedTo_MD590-N47-2015.09.12-05.32.06_MD590_2_0140_cropped_gray/MD590-N32-2015.08.03-19.09.53_MD590_3_0094_lossless_alignedTo_MD590-N47-2015.09.12-05.32.06_MD590_2_0140_cropped_gray_features.bp\n"
     ]
    },
    {
     "name": "stderr",
     "output_type": "stream",
     "text": [
      "Child returned 0\n"
     ]
    },
    {
     "name": "stdout",
     "output_type": "stream",
     "text": [
      "/shared/CSHL_patch_features/inception-bn-blue/MD590/MD590-N32-2015.08.03-19.09.53_MD590_3_0094_lossless_alignedTo_MD590-N47-2015.09.12-05.32.06_MD590_2_0140_cropped/MD590-N32-2015.08.03-19.09.53_MD590_3_0094_lossless_alignedTo_MD590-N47-2015.09.12-05.32.06_MD590_2_0140_cropped_patch_locations.txt\n",
      "/shared/CSHL_patch_features/inception-bn-blue/MD590/MD590_lossless_alignedTo_MD590-N47-2015.09.12-05.32.06_MD590_2_0140_cropped_gray/MD590-N32-2015.08.03-19.09.53_MD590_3_0094_lossless_alignedTo_MD590-N47-2015.09.12-05.32.06_MD590_2_0140_cropped_gray_patch_locations.txt\n",
      "aws s3 cp s3://mousebrainatlas-data/CSHL_patch_features/inception-bn-blue/MD590/MD590-N32-2015.08.03-19.09.53_MD590_3_0094_lossless_alignedTo_MD590-N47-2015.09.12-05.32.06_MD590_2_0140_cropped/MD590-N32-2015.08.03-19.09.53_MD590_3_0094_lossless_alignedTo_MD590-N47-2015.09.12-05.32.06_MD590_2_0140_cropped_patch_locations.txt s3://mousebrainatlas-data/CSHL_patch_features/inception-bn-blue/MD590/MD590_lossless_alignedTo_MD590-N47-2015.09.12-05.32.06_MD590_2_0140_cropped_gray/MD590-N32-2015.08.03-19.09.53_MD590_3_0094_lossless_alignedTo_MD590-N47-2015.09.12-05.32.06_MD590_2_0140_cropped_gray_patch_locations.txt\n"
     ]
    },
    {
     "name": "stderr",
     "output_type": "stream",
     "text": [
      "Child returned 0\n"
     ]
    },
    {
     "name": "stdout",
     "output_type": "stream",
     "text": [
      "/shared/CSHL_patch_features/inception-bn-blue/MD590/MD590-IHC32-2015.08.10-20.11.29_MD590_3_0094_lossless_alignedTo_MD590-N47-2015.09.12-05.32.06_MD590_2_0140_cropped/MD590-IHC32-2015.08.10-20.11.29_MD590_3_0094_lossless_alignedTo_MD590-N47-2015.09.12-05.32.06_MD590_2_0140_cropped_features.bp\n",
      "/shared/CSHL_patch_features/inception-bn-blue/MD590/MD590_lossless_alignedTo_MD590-N47-2015.09.12-05.32.06_MD590_2_0140_cropped_gray/MD590-IHC32-2015.08.10-20.11.29_MD590_3_0094_lossless_alignedTo_MD590-N47-2015.09.12-05.32.06_MD590_2_0140_cropped_gray_features.bp\n",
      "aws s3 cp s3://mousebrainatlas-data/CSHL_patch_features/inception-bn-blue/MD590/MD590-IHC32-2015.08.10-20.11.29_MD590_3_0094_lossless_alignedTo_MD590-N47-2015.09.12-05.32.06_MD590_2_0140_cropped/MD590-IHC32-2015.08.10-20.11.29_MD590_3_0094_lossless_alignedTo_MD590-N47-2015.09.12-05.32.06_MD590_2_0140_cropped_features.bp s3://mousebrainatlas-data/CSHL_patch_features/inception-bn-blue/MD590/MD590_lossless_alignedTo_MD590-N47-2015.09.12-05.32.06_MD590_2_0140_cropped_gray/MD590-IHC32-2015.08.10-20.11.29_MD590_3_0094_lossless_alignedTo_MD590-N47-2015.09.12-05.32.06_MD590_2_0140_cropped_gray_features.bp\n"
     ]
    },
    {
     "name": "stderr",
     "output_type": "stream",
     "text": [
      "Child returned 0\n"
     ]
    },
    {
     "name": "stdout",
     "output_type": "stream",
     "text": [
      "/shared/CSHL_patch_features/inception-bn-blue/MD590/MD590-IHC32-2015.08.10-20.11.29_MD590_3_0094_lossless_alignedTo_MD590-N47-2015.09.12-05.32.06_MD590_2_0140_cropped/MD590-IHC32-2015.08.10-20.11.29_MD590_3_0094_lossless_alignedTo_MD590-N47-2015.09.12-05.32.06_MD590_2_0140_cropped_patch_locations.txt\n",
      "/shared/CSHL_patch_features/inception-bn-blue/MD590/MD590_lossless_alignedTo_MD590-N47-2015.09.12-05.32.06_MD590_2_0140_cropped_gray/MD590-IHC32-2015.08.10-20.11.29_MD590_3_0094_lossless_alignedTo_MD590-N47-2015.09.12-05.32.06_MD590_2_0140_cropped_gray_patch_locations.txt\n",
      "aws s3 cp s3://mousebrainatlas-data/CSHL_patch_features/inception-bn-blue/MD590/MD590-IHC32-2015.08.10-20.11.29_MD590_3_0094_lossless_alignedTo_MD590-N47-2015.09.12-05.32.06_MD590_2_0140_cropped/MD590-IHC32-2015.08.10-20.11.29_MD590_3_0094_lossless_alignedTo_MD590-N47-2015.09.12-05.32.06_MD590_2_0140_cropped_patch_locations.txt s3://mousebrainatlas-data/CSHL_patch_features/inception-bn-blue/MD590/MD590_lossless_alignedTo_MD590-N47-2015.09.12-05.32.06_MD590_2_0140_cropped_gray/MD590-IHC32-2015.08.10-20.11.29_MD590_3_0094_lossless_alignedTo_MD590-N47-2015.09.12-05.32.06_MD590_2_0140_cropped_gray_patch_locations.txt\n"
     ]
    },
    {
     "name": "stderr",
     "output_type": "stream",
     "text": [
      "Child returned 0\n"
     ]
    },
    {
     "name": "stdout",
     "output_type": "stream",
     "text": [
      "/shared/CSHL_patch_features/inception-bn-blue/MD590/MD590-N32-2015.08.03-19.09.53_MD590_1_0096_lossless_alignedTo_MD590-N47-2015.09.12-05.32.06_MD590_2_0140_cropped/MD590-N32-2015.08.03-19.09.53_MD590_1_0096_lossless_alignedTo_MD590-N47-2015.09.12-05.32.06_MD590_2_0140_cropped_features.bp\n",
      "/shared/CSHL_patch_features/inception-bn-blue/MD590/MD590_lossless_alignedTo_MD590-N47-2015.09.12-05.32.06_MD590_2_0140_cropped_gray/MD590-N32-2015.08.03-19.09.53_MD590_1_0096_lossless_alignedTo_MD590-N47-2015.09.12-05.32.06_MD590_2_0140_cropped_gray_features.bp\n",
      "aws s3 cp s3://mousebrainatlas-data/CSHL_patch_features/inception-bn-blue/MD590/MD590-N32-2015.08.03-19.09.53_MD590_1_0096_lossless_alignedTo_MD590-N47-2015.09.12-05.32.06_MD590_2_0140_cropped/MD590-N32-2015.08.03-19.09.53_MD590_1_0096_lossless_alignedTo_MD590-N47-2015.09.12-05.32.06_MD590_2_0140_cropped_features.bp s3://mousebrainatlas-data/CSHL_patch_features/inception-bn-blue/MD590/MD590_lossless_alignedTo_MD590-N47-2015.09.12-05.32.06_MD590_2_0140_cropped_gray/MD590-N32-2015.08.03-19.09.53_MD590_1_0096_lossless_alignedTo_MD590-N47-2015.09.12-05.32.06_MD590_2_0140_cropped_gray_features.bp\n"
     ]
    },
    {
     "name": "stderr",
     "output_type": "stream",
     "text": [
      "Child returned 0\n"
     ]
    },
    {
     "name": "stdout",
     "output_type": "stream",
     "text": [
      "/shared/CSHL_patch_features/inception-bn-blue/MD590/MD590-N32-2015.08.03-19.09.53_MD590_1_0096_lossless_alignedTo_MD590-N47-2015.09.12-05.32.06_MD590_2_0140_cropped/MD590-N32-2015.08.03-19.09.53_MD590_1_0096_lossless_alignedTo_MD590-N47-2015.09.12-05.32.06_MD590_2_0140_cropped_patch_locations.txt\n",
      "/shared/CSHL_patch_features/inception-bn-blue/MD590/MD590_lossless_alignedTo_MD590-N47-2015.09.12-05.32.06_MD590_2_0140_cropped_gray/MD590-N32-2015.08.03-19.09.53_MD590_1_0096_lossless_alignedTo_MD590-N47-2015.09.12-05.32.06_MD590_2_0140_cropped_gray_patch_locations.txt\n",
      "aws s3 cp s3://mousebrainatlas-data/CSHL_patch_features/inception-bn-blue/MD590/MD590-N32-2015.08.03-19.09.53_MD590_1_0096_lossless_alignedTo_MD590-N47-2015.09.12-05.32.06_MD590_2_0140_cropped/MD590-N32-2015.08.03-19.09.53_MD590_1_0096_lossless_alignedTo_MD590-N47-2015.09.12-05.32.06_MD590_2_0140_cropped_patch_locations.txt s3://mousebrainatlas-data/CSHL_patch_features/inception-bn-blue/MD590/MD590_lossless_alignedTo_MD590-N47-2015.09.12-05.32.06_MD590_2_0140_cropped_gray/MD590-N32-2015.08.03-19.09.53_MD590_1_0096_lossless_alignedTo_MD590-N47-2015.09.12-05.32.06_MD590_2_0140_cropped_gray_patch_locations.txt\n"
     ]
    },
    {
     "name": "stderr",
     "output_type": "stream",
     "text": [
      "Child returned 0\n"
     ]
    },
    {
     "name": "stdout",
     "output_type": "stream",
     "text": [
      "/shared/CSHL_patch_features/inception-bn-blue/MD590/MD590-IHC32-2015.08.10-20.11.29_MD590_1_0096_lossless_alignedTo_MD590-N47-2015.09.12-05.32.06_MD590_2_0140_cropped/MD590-IHC32-2015.08.10-20.11.29_MD590_1_0096_lossless_alignedTo_MD590-N47-2015.09.12-05.32.06_MD590_2_0140_cropped_features.bp\n",
      "/shared/CSHL_patch_features/inception-bn-blue/MD590/MD590_lossless_alignedTo_MD590-N47-2015.09.12-05.32.06_MD590_2_0140_cropped_gray/MD590-IHC32-2015.08.10-20.11.29_MD590_1_0096_lossless_alignedTo_MD590-N47-2015.09.12-05.32.06_MD590_2_0140_cropped_gray_features.bp\n",
      "aws s3 cp s3://mousebrainatlas-data/CSHL_patch_features/inception-bn-blue/MD590/MD590-IHC32-2015.08.10-20.11.29_MD590_1_0096_lossless_alignedTo_MD590-N47-2015.09.12-05.32.06_MD590_2_0140_cropped/MD590-IHC32-2015.08.10-20.11.29_MD590_1_0096_lossless_alignedTo_MD590-N47-2015.09.12-05.32.06_MD590_2_0140_cropped_features.bp s3://mousebrainatlas-data/CSHL_patch_features/inception-bn-blue/MD590/MD590_lossless_alignedTo_MD590-N47-2015.09.12-05.32.06_MD590_2_0140_cropped_gray/MD590-IHC32-2015.08.10-20.11.29_MD590_1_0096_lossless_alignedTo_MD590-N47-2015.09.12-05.32.06_MD590_2_0140_cropped_gray_features.bp\n"
     ]
    },
    {
     "name": "stderr",
     "output_type": "stream",
     "text": [
      "Child returned 0\n"
     ]
    },
    {
     "name": "stdout",
     "output_type": "stream",
     "text": [
      "/shared/CSHL_patch_features/inception-bn-blue/MD590/MD590-IHC32-2015.08.10-20.11.29_MD590_1_0096_lossless_alignedTo_MD590-N47-2015.09.12-05.32.06_MD590_2_0140_cropped/MD590-IHC32-2015.08.10-20.11.29_MD590_1_0096_lossless_alignedTo_MD590-N47-2015.09.12-05.32.06_MD590_2_0140_cropped_patch_locations.txt\n",
      "/shared/CSHL_patch_features/inception-bn-blue/MD590/MD590_lossless_alignedTo_MD590-N47-2015.09.12-05.32.06_MD590_2_0140_cropped_gray/MD590-IHC32-2015.08.10-20.11.29_MD590_1_0096_lossless_alignedTo_MD590-N47-2015.09.12-05.32.06_MD590_2_0140_cropped_gray_patch_locations.txt\n",
      "aws s3 cp s3://mousebrainatlas-data/CSHL_patch_features/inception-bn-blue/MD590/MD590-IHC32-2015.08.10-20.11.29_MD590_1_0096_lossless_alignedTo_MD590-N47-2015.09.12-05.32.06_MD590_2_0140_cropped/MD590-IHC32-2015.08.10-20.11.29_MD590_1_0096_lossless_alignedTo_MD590-N47-2015.09.12-05.32.06_MD590_2_0140_cropped_patch_locations.txt s3://mousebrainatlas-data/CSHL_patch_features/inception-bn-blue/MD590/MD590_lossless_alignedTo_MD590-N47-2015.09.12-05.32.06_MD590_2_0140_cropped_gray/MD590-IHC32-2015.08.10-20.11.29_MD590_1_0096_lossless_alignedTo_MD590-N47-2015.09.12-05.32.06_MD590_2_0140_cropped_gray_patch_locations.txt\n"
     ]
    },
    {
     "name": "stderr",
     "output_type": "stream",
     "text": [
      "Child returned 0\n"
     ]
    },
    {
     "name": "stdout",
     "output_type": "stream",
     "text": [
      "/shared/CSHL_patch_features/inception-bn-blue/MD590/MD590-N33-2015.08.03-19.13.48_MD590_3_0097_lossless_alignedTo_MD590-N47-2015.09.12-05.32.06_MD590_2_0140_cropped/MD590-N33-2015.08.03-19.13.48_MD590_3_0097_lossless_alignedTo_MD590-N47-2015.09.12-05.32.06_MD590_2_0140_cropped_features.bp\n",
      "/shared/CSHL_patch_features/inception-bn-blue/MD590/MD590_lossless_alignedTo_MD590-N47-2015.09.12-05.32.06_MD590_2_0140_cropped_gray/MD590-N33-2015.08.03-19.13.48_MD590_3_0097_lossless_alignedTo_MD590-N47-2015.09.12-05.32.06_MD590_2_0140_cropped_gray_features.bp\n",
      "aws s3 cp s3://mousebrainatlas-data/CSHL_patch_features/inception-bn-blue/MD590/MD590-N33-2015.08.03-19.13.48_MD590_3_0097_lossless_alignedTo_MD590-N47-2015.09.12-05.32.06_MD590_2_0140_cropped/MD590-N33-2015.08.03-19.13.48_MD590_3_0097_lossless_alignedTo_MD590-N47-2015.09.12-05.32.06_MD590_2_0140_cropped_features.bp s3://mousebrainatlas-data/CSHL_patch_features/inception-bn-blue/MD590/MD590_lossless_alignedTo_MD590-N47-2015.09.12-05.32.06_MD590_2_0140_cropped_gray/MD590-N33-2015.08.03-19.13.48_MD590_3_0097_lossless_alignedTo_MD590-N47-2015.09.12-05.32.06_MD590_2_0140_cropped_gray_features.bp\n"
     ]
    },
    {
     "name": "stderr",
     "output_type": "stream",
     "text": [
      "Child returned 0\n"
     ]
    },
    {
     "name": "stdout",
     "output_type": "stream",
     "text": [
      "/shared/CSHL_patch_features/inception-bn-blue/MD590/MD590-N33-2015.08.03-19.13.48_MD590_3_0097_lossless_alignedTo_MD590-N47-2015.09.12-05.32.06_MD590_2_0140_cropped/MD590-N33-2015.08.03-19.13.48_MD590_3_0097_lossless_alignedTo_MD590-N47-2015.09.12-05.32.06_MD590_2_0140_cropped_patch_locations.txt\n",
      "/shared/CSHL_patch_features/inception-bn-blue/MD590/MD590_lossless_alignedTo_MD590-N47-2015.09.12-05.32.06_MD590_2_0140_cropped_gray/MD590-N33-2015.08.03-19.13.48_MD590_3_0097_lossless_alignedTo_MD590-N47-2015.09.12-05.32.06_MD590_2_0140_cropped_gray_patch_locations.txt\n",
      "aws s3 cp s3://mousebrainatlas-data/CSHL_patch_features/inception-bn-blue/MD590/MD590-N33-2015.08.03-19.13.48_MD590_3_0097_lossless_alignedTo_MD590-N47-2015.09.12-05.32.06_MD590_2_0140_cropped/MD590-N33-2015.08.03-19.13.48_MD590_3_0097_lossless_alignedTo_MD590-N47-2015.09.12-05.32.06_MD590_2_0140_cropped_patch_locations.txt s3://mousebrainatlas-data/CSHL_patch_features/inception-bn-blue/MD590/MD590_lossless_alignedTo_MD590-N47-2015.09.12-05.32.06_MD590_2_0140_cropped_gray/MD590-N33-2015.08.03-19.13.48_MD590_3_0097_lossless_alignedTo_MD590-N47-2015.09.12-05.32.06_MD590_2_0140_cropped_gray_patch_locations.txt\n"
     ]
    },
    {
     "name": "stderr",
     "output_type": "stream",
     "text": [
      "Child returned 0\n"
     ]
    },
    {
     "name": "stdout",
     "output_type": "stream",
     "text": [
      "/shared/CSHL_patch_features/inception-bn-blue/MD590/MD590-IHC33-2015.08.10-20.15.47_MD590_2_0098_lossless_alignedTo_MD590-N47-2015.09.12-05.32.06_MD590_2_0140_cropped/MD590-IHC33-2015.08.10-20.15.47_MD590_2_0098_lossless_alignedTo_MD590-N47-2015.09.12-05.32.06_MD590_2_0140_cropped_features.bp\n",
      "/shared/CSHL_patch_features/inception-bn-blue/MD590/MD590_lossless_alignedTo_MD590-N47-2015.09.12-05.32.06_MD590_2_0140_cropped_gray/MD590-IHC33-2015.08.10-20.15.47_MD590_2_0098_lossless_alignedTo_MD590-N47-2015.09.12-05.32.06_MD590_2_0140_cropped_gray_features.bp\n",
      "aws s3 cp s3://mousebrainatlas-data/CSHL_patch_features/inception-bn-blue/MD590/MD590-IHC33-2015.08.10-20.15.47_MD590_2_0098_lossless_alignedTo_MD590-N47-2015.09.12-05.32.06_MD590_2_0140_cropped/MD590-IHC33-2015.08.10-20.15.47_MD590_2_0098_lossless_alignedTo_MD590-N47-2015.09.12-05.32.06_MD590_2_0140_cropped_features.bp s3://mousebrainatlas-data/CSHL_patch_features/inception-bn-blue/MD590/MD590_lossless_alignedTo_MD590-N47-2015.09.12-05.32.06_MD590_2_0140_cropped_gray/MD590-IHC33-2015.08.10-20.15.47_MD590_2_0098_lossless_alignedTo_MD590-N47-2015.09.12-05.32.06_MD590_2_0140_cropped_gray_features.bp\n"
     ]
    },
    {
     "name": "stderr",
     "output_type": "stream",
     "text": [
      "Child returned 0\n"
     ]
    },
    {
     "name": "stdout",
     "output_type": "stream",
     "text": [
      "/shared/CSHL_patch_features/inception-bn-blue/MD590/MD590-IHC33-2015.08.10-20.15.47_MD590_2_0098_lossless_alignedTo_MD590-N47-2015.09.12-05.32.06_MD590_2_0140_cropped/MD590-IHC33-2015.08.10-20.15.47_MD590_2_0098_lossless_alignedTo_MD590-N47-2015.09.12-05.32.06_MD590_2_0140_cropped_patch_locations.txt\n",
      "/shared/CSHL_patch_features/inception-bn-blue/MD590/MD590_lossless_alignedTo_MD590-N47-2015.09.12-05.32.06_MD590_2_0140_cropped_gray/MD590-IHC33-2015.08.10-20.15.47_MD590_2_0098_lossless_alignedTo_MD590-N47-2015.09.12-05.32.06_MD590_2_0140_cropped_gray_patch_locations.txt\n",
      "aws s3 cp s3://mousebrainatlas-data/CSHL_patch_features/inception-bn-blue/MD590/MD590-IHC33-2015.08.10-20.15.47_MD590_2_0098_lossless_alignedTo_MD590-N47-2015.09.12-05.32.06_MD590_2_0140_cropped/MD590-IHC33-2015.08.10-20.15.47_MD590_2_0098_lossless_alignedTo_MD590-N47-2015.09.12-05.32.06_MD590_2_0140_cropped_patch_locations.txt s3://mousebrainatlas-data/CSHL_patch_features/inception-bn-blue/MD590/MD590_lossless_alignedTo_MD590-N47-2015.09.12-05.32.06_MD590_2_0140_cropped_gray/MD590-IHC33-2015.08.10-20.15.47_MD590_2_0098_lossless_alignedTo_MD590-N47-2015.09.12-05.32.06_MD590_2_0140_cropped_gray_patch_locations.txt\n"
     ]
    },
    {
     "name": "stderr",
     "output_type": "stream",
     "text": [
      "Child returned 0\n"
     ]
    },
    {
     "name": "stdout",
     "output_type": "stream",
     "text": [
      "/shared/CSHL_patch_features/inception-bn-blue/MD590/MD590-N33-2015.08.03-19.13.48_MD590_1_0099_lossless_alignedTo_MD590-N47-2015.09.12-05.32.06_MD590_2_0140_cropped/MD590-N33-2015.08.03-19.13.48_MD590_1_0099_lossless_alignedTo_MD590-N47-2015.09.12-05.32.06_MD590_2_0140_cropped_features.bp\n",
      "/shared/CSHL_patch_features/inception-bn-blue/MD590/MD590_lossless_alignedTo_MD590-N47-2015.09.12-05.32.06_MD590_2_0140_cropped_gray/MD590-N33-2015.08.03-19.13.48_MD590_1_0099_lossless_alignedTo_MD590-N47-2015.09.12-05.32.06_MD590_2_0140_cropped_gray_features.bp\n",
      "aws s3 cp s3://mousebrainatlas-data/CSHL_patch_features/inception-bn-blue/MD590/MD590-N33-2015.08.03-19.13.48_MD590_1_0099_lossless_alignedTo_MD590-N47-2015.09.12-05.32.06_MD590_2_0140_cropped/MD590-N33-2015.08.03-19.13.48_MD590_1_0099_lossless_alignedTo_MD590-N47-2015.09.12-05.32.06_MD590_2_0140_cropped_features.bp s3://mousebrainatlas-data/CSHL_patch_features/inception-bn-blue/MD590/MD590_lossless_alignedTo_MD590-N47-2015.09.12-05.32.06_MD590_2_0140_cropped_gray/MD590-N33-2015.08.03-19.13.48_MD590_1_0099_lossless_alignedTo_MD590-N47-2015.09.12-05.32.06_MD590_2_0140_cropped_gray_features.bp\n"
     ]
    },
    {
     "name": "stderr",
     "output_type": "stream",
     "text": [
      "Child returned 0\n"
     ]
    },
    {
     "name": "stdout",
     "output_type": "stream",
     "text": [
      "/shared/CSHL_patch_features/inception-bn-blue/MD590/MD590-N33-2015.08.03-19.13.48_MD590_1_0099_lossless_alignedTo_MD590-N47-2015.09.12-05.32.06_MD590_2_0140_cropped/MD590-N33-2015.08.03-19.13.48_MD590_1_0099_lossless_alignedTo_MD590-N47-2015.09.12-05.32.06_MD590_2_0140_cropped_patch_locations.txt\n",
      "/shared/CSHL_patch_features/inception-bn-blue/MD590/MD590_lossless_alignedTo_MD590-N47-2015.09.12-05.32.06_MD590_2_0140_cropped_gray/MD590-N33-2015.08.03-19.13.48_MD590_1_0099_lossless_alignedTo_MD590-N47-2015.09.12-05.32.06_MD590_2_0140_cropped_gray_patch_locations.txt\n",
      "aws s3 cp s3://mousebrainatlas-data/CSHL_patch_features/inception-bn-blue/MD590/MD590-N33-2015.08.03-19.13.48_MD590_1_0099_lossless_alignedTo_MD590-N47-2015.09.12-05.32.06_MD590_2_0140_cropped/MD590-N33-2015.08.03-19.13.48_MD590_1_0099_lossless_alignedTo_MD590-N47-2015.09.12-05.32.06_MD590_2_0140_cropped_patch_locations.txt s3://mousebrainatlas-data/CSHL_patch_features/inception-bn-blue/MD590/MD590_lossless_alignedTo_MD590-N47-2015.09.12-05.32.06_MD590_2_0140_cropped_gray/MD590-N33-2015.08.03-19.13.48_MD590_1_0099_lossless_alignedTo_MD590-N47-2015.09.12-05.32.06_MD590_2_0140_cropped_gray_patch_locations.txt\n"
     ]
    },
    {
     "name": "stderr",
     "output_type": "stream",
     "text": [
      "Child returned 0\n"
     ]
    },
    {
     "name": "stdout",
     "output_type": "stream",
     "text": [
      "/shared/CSHL_patch_features/inception-bn-blue/MD590/MD590-IHC33-2015.08.10-20.15.47_MD590_1_0099_lossless_alignedTo_MD590-N47-2015.09.12-05.32.06_MD590_2_0140_cropped/MD590-IHC33-2015.08.10-20.15.47_MD590_1_0099_lossless_alignedTo_MD590-N47-2015.09.12-05.32.06_MD590_2_0140_cropped_features.bp\n",
      "/shared/CSHL_patch_features/inception-bn-blue/MD590/MD590_lossless_alignedTo_MD590-N47-2015.09.12-05.32.06_MD590_2_0140_cropped_gray/MD590-IHC33-2015.08.10-20.15.47_MD590_1_0099_lossless_alignedTo_MD590-N47-2015.09.12-05.32.06_MD590_2_0140_cropped_gray_features.bp\n",
      "aws s3 cp s3://mousebrainatlas-data/CSHL_patch_features/inception-bn-blue/MD590/MD590-IHC33-2015.08.10-20.15.47_MD590_1_0099_lossless_alignedTo_MD590-N47-2015.09.12-05.32.06_MD590_2_0140_cropped/MD590-IHC33-2015.08.10-20.15.47_MD590_1_0099_lossless_alignedTo_MD590-N47-2015.09.12-05.32.06_MD590_2_0140_cropped_features.bp s3://mousebrainatlas-data/CSHL_patch_features/inception-bn-blue/MD590/MD590_lossless_alignedTo_MD590-N47-2015.09.12-05.32.06_MD590_2_0140_cropped_gray/MD590-IHC33-2015.08.10-20.15.47_MD590_1_0099_lossless_alignedTo_MD590-N47-2015.09.12-05.32.06_MD590_2_0140_cropped_gray_features.bp\n"
     ]
    },
    {
     "name": "stderr",
     "output_type": "stream",
     "text": [
      "Child returned 0\n"
     ]
    },
    {
     "name": "stdout",
     "output_type": "stream",
     "text": [
      "/shared/CSHL_patch_features/inception-bn-blue/MD590/MD590-IHC33-2015.08.10-20.15.47_MD590_1_0099_lossless_alignedTo_MD590-N47-2015.09.12-05.32.06_MD590_2_0140_cropped/MD590-IHC33-2015.08.10-20.15.47_MD590_1_0099_lossless_alignedTo_MD590-N47-2015.09.12-05.32.06_MD590_2_0140_cropped_patch_locations.txt\n",
      "/shared/CSHL_patch_features/inception-bn-blue/MD590/MD590_lossless_alignedTo_MD590-N47-2015.09.12-05.32.06_MD590_2_0140_cropped_gray/MD590-IHC33-2015.08.10-20.15.47_MD590_1_0099_lossless_alignedTo_MD590-N47-2015.09.12-05.32.06_MD590_2_0140_cropped_gray_patch_locations.txt\n",
      "aws s3 cp s3://mousebrainatlas-data/CSHL_patch_features/inception-bn-blue/MD590/MD590-IHC33-2015.08.10-20.15.47_MD590_1_0099_lossless_alignedTo_MD590-N47-2015.09.12-05.32.06_MD590_2_0140_cropped/MD590-IHC33-2015.08.10-20.15.47_MD590_1_0099_lossless_alignedTo_MD590-N47-2015.09.12-05.32.06_MD590_2_0140_cropped_patch_locations.txt s3://mousebrainatlas-data/CSHL_patch_features/inception-bn-blue/MD590/MD590_lossless_alignedTo_MD590-N47-2015.09.12-05.32.06_MD590_2_0140_cropped_gray/MD590-IHC33-2015.08.10-20.15.47_MD590_1_0099_lossless_alignedTo_MD590-N47-2015.09.12-05.32.06_MD590_2_0140_cropped_gray_patch_locations.txt\n"
     ]
    },
    {
     "name": "stderr",
     "output_type": "stream",
     "text": [
      "Child returned 0\n"
     ]
    },
    {
     "name": "stdout",
     "output_type": "stream",
     "text": [
      "/shared/CSHL_patch_features/inception-bn-blue/MD590/MD590-N34-2015.08.03-19.17.57_MD590_3_0100_lossless_alignedTo_MD590-N47-2015.09.12-05.32.06_MD590_2_0140_cropped/MD590-N34-2015.08.03-19.17.57_MD590_3_0100_lossless_alignedTo_MD590-N47-2015.09.12-05.32.06_MD590_2_0140_cropped_features.bp\n",
      "/shared/CSHL_patch_features/inception-bn-blue/MD590/MD590_lossless_alignedTo_MD590-N47-2015.09.12-05.32.06_MD590_2_0140_cropped_gray/MD590-N34-2015.08.03-19.17.57_MD590_3_0100_lossless_alignedTo_MD590-N47-2015.09.12-05.32.06_MD590_2_0140_cropped_gray_features.bp\n",
      "aws s3 cp s3://mousebrainatlas-data/CSHL_patch_features/inception-bn-blue/MD590/MD590-N34-2015.08.03-19.17.57_MD590_3_0100_lossless_alignedTo_MD590-N47-2015.09.12-05.32.06_MD590_2_0140_cropped/MD590-N34-2015.08.03-19.17.57_MD590_3_0100_lossless_alignedTo_MD590-N47-2015.09.12-05.32.06_MD590_2_0140_cropped_features.bp s3://mousebrainatlas-data/CSHL_patch_features/inception-bn-blue/MD590/MD590_lossless_alignedTo_MD590-N47-2015.09.12-05.32.06_MD590_2_0140_cropped_gray/MD590-N34-2015.08.03-19.17.57_MD590_3_0100_lossless_alignedTo_MD590-N47-2015.09.12-05.32.06_MD590_2_0140_cropped_gray_features.bp\n"
     ]
    },
    {
     "name": "stderr",
     "output_type": "stream",
     "text": [
      "Child returned 0\n"
     ]
    },
    {
     "name": "stdout",
     "output_type": "stream",
     "text": [
      "/shared/CSHL_patch_features/inception-bn-blue/MD590/MD590-N34-2015.08.03-19.17.57_MD590_3_0100_lossless_alignedTo_MD590-N47-2015.09.12-05.32.06_MD590_2_0140_cropped/MD590-N34-2015.08.03-19.17.57_MD590_3_0100_lossless_alignedTo_MD590-N47-2015.09.12-05.32.06_MD590_2_0140_cropped_patch_locations.txt\n",
      "/shared/CSHL_patch_features/inception-bn-blue/MD590/MD590_lossless_alignedTo_MD590-N47-2015.09.12-05.32.06_MD590_2_0140_cropped_gray/MD590-N34-2015.08.03-19.17.57_MD590_3_0100_lossless_alignedTo_MD590-N47-2015.09.12-05.32.06_MD590_2_0140_cropped_gray_patch_locations.txt\n",
      "aws s3 cp s3://mousebrainatlas-data/CSHL_patch_features/inception-bn-blue/MD590/MD590-N34-2015.08.03-19.17.57_MD590_3_0100_lossless_alignedTo_MD590-N47-2015.09.12-05.32.06_MD590_2_0140_cropped/MD590-N34-2015.08.03-19.17.57_MD590_3_0100_lossless_alignedTo_MD590-N47-2015.09.12-05.32.06_MD590_2_0140_cropped_patch_locations.txt s3://mousebrainatlas-data/CSHL_patch_features/inception-bn-blue/MD590/MD590_lossless_alignedTo_MD590-N47-2015.09.12-05.32.06_MD590_2_0140_cropped_gray/MD590-N34-2015.08.03-19.17.57_MD590_3_0100_lossless_alignedTo_MD590-N47-2015.09.12-05.32.06_MD590_2_0140_cropped_gray_patch_locations.txt\n"
     ]
    },
    {
     "name": "stderr",
     "output_type": "stream",
     "text": [
      "Child returned 0\n"
     ]
    },
    {
     "name": "stdout",
     "output_type": "stream",
     "text": [
      "/shared/CSHL_patch_features/inception-bn-blue/MD590/MD590-IHC34-2015.08.10-20.20.03_MD590_3_0100_lossless_alignedTo_MD590-N47-2015.09.12-05.32.06_MD590_2_0140_cropped/MD590-IHC34-2015.08.10-20.20.03_MD590_3_0100_lossless_alignedTo_MD590-N47-2015.09.12-05.32.06_MD590_2_0140_cropped_features.bp\n",
      "/shared/CSHL_patch_features/inception-bn-blue/MD590/MD590_lossless_alignedTo_MD590-N47-2015.09.12-05.32.06_MD590_2_0140_cropped_gray/MD590-IHC34-2015.08.10-20.20.03_MD590_3_0100_lossless_alignedTo_MD590-N47-2015.09.12-05.32.06_MD590_2_0140_cropped_gray_features.bp\n",
      "aws s3 cp s3://mousebrainatlas-data/CSHL_patch_features/inception-bn-blue/MD590/MD590-IHC34-2015.08.10-20.20.03_MD590_3_0100_lossless_alignedTo_MD590-N47-2015.09.12-05.32.06_MD590_2_0140_cropped/MD590-IHC34-2015.08.10-20.20.03_MD590_3_0100_lossless_alignedTo_MD590-N47-2015.09.12-05.32.06_MD590_2_0140_cropped_features.bp s3://mousebrainatlas-data/CSHL_patch_features/inception-bn-blue/MD590/MD590_lossless_alignedTo_MD590-N47-2015.09.12-05.32.06_MD590_2_0140_cropped_gray/MD590-IHC34-2015.08.10-20.20.03_MD590_3_0100_lossless_alignedTo_MD590-N47-2015.09.12-05.32.06_MD590_2_0140_cropped_gray_features.bp\n"
     ]
    },
    {
     "name": "stderr",
     "output_type": "stream",
     "text": [
      "Child returned 0\n"
     ]
    },
    {
     "name": "stdout",
     "output_type": "stream",
     "text": [
      "/shared/CSHL_patch_features/inception-bn-blue/MD590/MD590-IHC34-2015.08.10-20.20.03_MD590_3_0100_lossless_alignedTo_MD590-N47-2015.09.12-05.32.06_MD590_2_0140_cropped/MD590-IHC34-2015.08.10-20.20.03_MD590_3_0100_lossless_alignedTo_MD590-N47-2015.09.12-05.32.06_MD590_2_0140_cropped_patch_locations.txt\n",
      "/shared/CSHL_patch_features/inception-bn-blue/MD590/MD590_lossless_alignedTo_MD590-N47-2015.09.12-05.32.06_MD590_2_0140_cropped_gray/MD590-IHC34-2015.08.10-20.20.03_MD590_3_0100_lossless_alignedTo_MD590-N47-2015.09.12-05.32.06_MD590_2_0140_cropped_gray_patch_locations.txt\n",
      "aws s3 cp s3://mousebrainatlas-data/CSHL_patch_features/inception-bn-blue/MD590/MD590-IHC34-2015.08.10-20.20.03_MD590_3_0100_lossless_alignedTo_MD590-N47-2015.09.12-05.32.06_MD590_2_0140_cropped/MD590-IHC34-2015.08.10-20.20.03_MD590_3_0100_lossless_alignedTo_MD590-N47-2015.09.12-05.32.06_MD590_2_0140_cropped_patch_locations.txt s3://mousebrainatlas-data/CSHL_patch_features/inception-bn-blue/MD590/MD590_lossless_alignedTo_MD590-N47-2015.09.12-05.32.06_MD590_2_0140_cropped_gray/MD590-IHC34-2015.08.10-20.20.03_MD590_3_0100_lossless_alignedTo_MD590-N47-2015.09.12-05.32.06_MD590_2_0140_cropped_gray_patch_locations.txt\n"
     ]
    },
    {
     "name": "stderr",
     "output_type": "stream",
     "text": [
      "Child returned 0\n"
     ]
    },
    {
     "name": "stdout",
     "output_type": "stream",
     "text": [
      "/shared/CSHL_patch_features/inception-bn-blue/MD590/MD590-N34-2015.08.03-19.17.57_MD590_1_0102_lossless_alignedTo_MD590-N47-2015.09.12-05.32.06_MD590_2_0140_cropped/MD590-N34-2015.08.03-19.17.57_MD590_1_0102_lossless_alignedTo_MD590-N47-2015.09.12-05.32.06_MD590_2_0140_cropped_features.bp\n",
      "/shared/CSHL_patch_features/inception-bn-blue/MD590/MD590_lossless_alignedTo_MD590-N47-2015.09.12-05.32.06_MD590_2_0140_cropped_gray/MD590-N34-2015.08.03-19.17.57_MD590_1_0102_lossless_alignedTo_MD590-N47-2015.09.12-05.32.06_MD590_2_0140_cropped_gray_features.bp\n",
      "aws s3 cp s3://mousebrainatlas-data/CSHL_patch_features/inception-bn-blue/MD590/MD590-N34-2015.08.03-19.17.57_MD590_1_0102_lossless_alignedTo_MD590-N47-2015.09.12-05.32.06_MD590_2_0140_cropped/MD590-N34-2015.08.03-19.17.57_MD590_1_0102_lossless_alignedTo_MD590-N47-2015.09.12-05.32.06_MD590_2_0140_cropped_features.bp s3://mousebrainatlas-data/CSHL_patch_features/inception-bn-blue/MD590/MD590_lossless_alignedTo_MD590-N47-2015.09.12-05.32.06_MD590_2_0140_cropped_gray/MD590-N34-2015.08.03-19.17.57_MD590_1_0102_lossless_alignedTo_MD590-N47-2015.09.12-05.32.06_MD590_2_0140_cropped_gray_features.bp\n"
     ]
    },
    {
     "name": "stderr",
     "output_type": "stream",
     "text": [
      "Child returned 0\n"
     ]
    },
    {
     "name": "stdout",
     "output_type": "stream",
     "text": [
      "/shared/CSHL_patch_features/inception-bn-blue/MD590/MD590-N34-2015.08.03-19.17.57_MD590_1_0102_lossless_alignedTo_MD590-N47-2015.09.12-05.32.06_MD590_2_0140_cropped/MD590-N34-2015.08.03-19.17.57_MD590_1_0102_lossless_alignedTo_MD590-N47-2015.09.12-05.32.06_MD590_2_0140_cropped_patch_locations.txt\n",
      "/shared/CSHL_patch_features/inception-bn-blue/MD590/MD590_lossless_alignedTo_MD590-N47-2015.09.12-05.32.06_MD590_2_0140_cropped_gray/MD590-N34-2015.08.03-19.17.57_MD590_1_0102_lossless_alignedTo_MD590-N47-2015.09.12-05.32.06_MD590_2_0140_cropped_gray_patch_locations.txt\n",
      "aws s3 cp s3://mousebrainatlas-data/CSHL_patch_features/inception-bn-blue/MD590/MD590-N34-2015.08.03-19.17.57_MD590_1_0102_lossless_alignedTo_MD590-N47-2015.09.12-05.32.06_MD590_2_0140_cropped/MD590-N34-2015.08.03-19.17.57_MD590_1_0102_lossless_alignedTo_MD590-N47-2015.09.12-05.32.06_MD590_2_0140_cropped_patch_locations.txt s3://mousebrainatlas-data/CSHL_patch_features/inception-bn-blue/MD590/MD590_lossless_alignedTo_MD590-N47-2015.09.12-05.32.06_MD590_2_0140_cropped_gray/MD590-N34-2015.08.03-19.17.57_MD590_1_0102_lossless_alignedTo_MD590-N47-2015.09.12-05.32.06_MD590_2_0140_cropped_gray_patch_locations.txt\n"
     ]
    },
    {
     "name": "stderr",
     "output_type": "stream",
     "text": [
      "Child returned 0\n"
     ]
    },
    {
     "name": "stdout",
     "output_type": "stream",
     "text": [
      "/shared/CSHL_patch_features/inception-bn-blue/MD590/MD590-IHC34-2015.08.10-20.20.03_MD590_1_0102_lossless_alignedTo_MD590-N47-2015.09.12-05.32.06_MD590_2_0140_cropped/MD590-IHC34-2015.08.10-20.20.03_MD590_1_0102_lossless_alignedTo_MD590-N47-2015.09.12-05.32.06_MD590_2_0140_cropped_features.bp\n",
      "/shared/CSHL_patch_features/inception-bn-blue/MD590/MD590_lossless_alignedTo_MD590-N47-2015.09.12-05.32.06_MD590_2_0140_cropped_gray/MD590-IHC34-2015.08.10-20.20.03_MD590_1_0102_lossless_alignedTo_MD590-N47-2015.09.12-05.32.06_MD590_2_0140_cropped_gray_features.bp\n",
      "aws s3 cp s3://mousebrainatlas-data/CSHL_patch_features/inception-bn-blue/MD590/MD590-IHC34-2015.08.10-20.20.03_MD590_1_0102_lossless_alignedTo_MD590-N47-2015.09.12-05.32.06_MD590_2_0140_cropped/MD590-IHC34-2015.08.10-20.20.03_MD590_1_0102_lossless_alignedTo_MD590-N47-2015.09.12-05.32.06_MD590_2_0140_cropped_features.bp s3://mousebrainatlas-data/CSHL_patch_features/inception-bn-blue/MD590/MD590_lossless_alignedTo_MD590-N47-2015.09.12-05.32.06_MD590_2_0140_cropped_gray/MD590-IHC34-2015.08.10-20.20.03_MD590_1_0102_lossless_alignedTo_MD590-N47-2015.09.12-05.32.06_MD590_2_0140_cropped_gray_features.bp\n"
     ]
    },
    {
     "name": "stderr",
     "output_type": "stream",
     "text": [
      "Child returned 0\n"
     ]
    },
    {
     "name": "stdout",
     "output_type": "stream",
     "text": [
      "/shared/CSHL_patch_features/inception-bn-blue/MD590/MD590-IHC34-2015.08.10-20.20.03_MD590_1_0102_lossless_alignedTo_MD590-N47-2015.09.12-05.32.06_MD590_2_0140_cropped/MD590-IHC34-2015.08.10-20.20.03_MD590_1_0102_lossless_alignedTo_MD590-N47-2015.09.12-05.32.06_MD590_2_0140_cropped_patch_locations.txt\n",
      "/shared/CSHL_patch_features/inception-bn-blue/MD590/MD590_lossless_alignedTo_MD590-N47-2015.09.12-05.32.06_MD590_2_0140_cropped_gray/MD590-IHC34-2015.08.10-20.20.03_MD590_1_0102_lossless_alignedTo_MD590-N47-2015.09.12-05.32.06_MD590_2_0140_cropped_gray_patch_locations.txt\n",
      "aws s3 cp s3://mousebrainatlas-data/CSHL_patch_features/inception-bn-blue/MD590/MD590-IHC34-2015.08.10-20.20.03_MD590_1_0102_lossless_alignedTo_MD590-N47-2015.09.12-05.32.06_MD590_2_0140_cropped/MD590-IHC34-2015.08.10-20.20.03_MD590_1_0102_lossless_alignedTo_MD590-N47-2015.09.12-05.32.06_MD590_2_0140_cropped_patch_locations.txt s3://mousebrainatlas-data/CSHL_patch_features/inception-bn-blue/MD590/MD590_lossless_alignedTo_MD590-N47-2015.09.12-05.32.06_MD590_2_0140_cropped_gray/MD590-IHC34-2015.08.10-20.20.03_MD590_1_0102_lossless_alignedTo_MD590-N47-2015.09.12-05.32.06_MD590_2_0140_cropped_gray_patch_locations.txt\n"
     ]
    },
    {
     "name": "stderr",
     "output_type": "stream",
     "text": [
      "Child returned 0\n"
     ]
    },
    {
     "name": "stdout",
     "output_type": "stream",
     "text": [
      "/shared/CSHL_patch_features/inception-bn-blue/MD590/MD590-N35-2015.08.03-19.21.58_MD590_3_0103_lossless_alignedTo_MD590-N47-2015.09.12-05.32.06_MD590_2_0140_cropped/MD590-N35-2015.08.03-19.21.58_MD590_3_0103_lossless_alignedTo_MD590-N47-2015.09.12-05.32.06_MD590_2_0140_cropped_features.bp\n",
      "/shared/CSHL_patch_features/inception-bn-blue/MD590/MD590_lossless_alignedTo_MD590-N47-2015.09.12-05.32.06_MD590_2_0140_cropped_gray/MD590-N35-2015.08.03-19.21.58_MD590_3_0103_lossless_alignedTo_MD590-N47-2015.09.12-05.32.06_MD590_2_0140_cropped_gray_features.bp\n",
      "aws s3 cp s3://mousebrainatlas-data/CSHL_patch_features/inception-bn-blue/MD590/MD590-N35-2015.08.03-19.21.58_MD590_3_0103_lossless_alignedTo_MD590-N47-2015.09.12-05.32.06_MD590_2_0140_cropped/MD590-N35-2015.08.03-19.21.58_MD590_3_0103_lossless_alignedTo_MD590-N47-2015.09.12-05.32.06_MD590_2_0140_cropped_features.bp s3://mousebrainatlas-data/CSHL_patch_features/inception-bn-blue/MD590/MD590_lossless_alignedTo_MD590-N47-2015.09.12-05.32.06_MD590_2_0140_cropped_gray/MD590-N35-2015.08.03-19.21.58_MD590_3_0103_lossless_alignedTo_MD590-N47-2015.09.12-05.32.06_MD590_2_0140_cropped_gray_features.bp\n"
     ]
    },
    {
     "name": "stderr",
     "output_type": "stream",
     "text": [
      "Child returned 0\n"
     ]
    },
    {
     "name": "stdout",
     "output_type": "stream",
     "text": [
      "/shared/CSHL_patch_features/inception-bn-blue/MD590/MD590-N35-2015.08.03-19.21.58_MD590_3_0103_lossless_alignedTo_MD590-N47-2015.09.12-05.32.06_MD590_2_0140_cropped/MD590-N35-2015.08.03-19.21.58_MD590_3_0103_lossless_alignedTo_MD590-N47-2015.09.12-05.32.06_MD590_2_0140_cropped_patch_locations.txt\n",
      "/shared/CSHL_patch_features/inception-bn-blue/MD590/MD590_lossless_alignedTo_MD590-N47-2015.09.12-05.32.06_MD590_2_0140_cropped_gray/MD590-N35-2015.08.03-19.21.58_MD590_3_0103_lossless_alignedTo_MD590-N47-2015.09.12-05.32.06_MD590_2_0140_cropped_gray_patch_locations.txt\n",
      "aws s3 cp s3://mousebrainatlas-data/CSHL_patch_features/inception-bn-blue/MD590/MD590-N35-2015.08.03-19.21.58_MD590_3_0103_lossless_alignedTo_MD590-N47-2015.09.12-05.32.06_MD590_2_0140_cropped/MD590-N35-2015.08.03-19.21.58_MD590_3_0103_lossless_alignedTo_MD590-N47-2015.09.12-05.32.06_MD590_2_0140_cropped_patch_locations.txt s3://mousebrainatlas-data/CSHL_patch_features/inception-bn-blue/MD590/MD590_lossless_alignedTo_MD590-N47-2015.09.12-05.32.06_MD590_2_0140_cropped_gray/MD590-N35-2015.08.03-19.21.58_MD590_3_0103_lossless_alignedTo_MD590-N47-2015.09.12-05.32.06_MD590_2_0140_cropped_gray_patch_locations.txt\n"
     ]
    },
    {
     "name": "stderr",
     "output_type": "stream",
     "text": [
      "Child returned 0\n"
     ]
    },
    {
     "name": "stdout",
     "output_type": "stream",
     "text": [
      "/shared/CSHL_patch_features/inception-bn-blue/MD590/MD590-IHC35-2015.08.10-20.24.17_MD590_3_0103_lossless_alignedTo_MD590-N47-2015.09.12-05.32.06_MD590_2_0140_cropped/MD590-IHC35-2015.08.10-20.24.17_MD590_3_0103_lossless_alignedTo_MD590-N47-2015.09.12-05.32.06_MD590_2_0140_cropped_features.bp\n",
      "/shared/CSHL_patch_features/inception-bn-blue/MD590/MD590_lossless_alignedTo_MD590-N47-2015.09.12-05.32.06_MD590_2_0140_cropped_gray/MD590-IHC35-2015.08.10-20.24.17_MD590_3_0103_lossless_alignedTo_MD590-N47-2015.09.12-05.32.06_MD590_2_0140_cropped_gray_features.bp\n",
      "aws s3 cp s3://mousebrainatlas-data/CSHL_patch_features/inception-bn-blue/MD590/MD590-IHC35-2015.08.10-20.24.17_MD590_3_0103_lossless_alignedTo_MD590-N47-2015.09.12-05.32.06_MD590_2_0140_cropped/MD590-IHC35-2015.08.10-20.24.17_MD590_3_0103_lossless_alignedTo_MD590-N47-2015.09.12-05.32.06_MD590_2_0140_cropped_features.bp s3://mousebrainatlas-data/CSHL_patch_features/inception-bn-blue/MD590/MD590_lossless_alignedTo_MD590-N47-2015.09.12-05.32.06_MD590_2_0140_cropped_gray/MD590-IHC35-2015.08.10-20.24.17_MD590_3_0103_lossless_alignedTo_MD590-N47-2015.09.12-05.32.06_MD590_2_0140_cropped_gray_features.bp\n"
     ]
    },
    {
     "name": "stderr",
     "output_type": "stream",
     "text": [
      "Child returned 0\n"
     ]
    },
    {
     "name": "stdout",
     "output_type": "stream",
     "text": [
      "/shared/CSHL_patch_features/inception-bn-blue/MD590/MD590-IHC35-2015.08.10-20.24.17_MD590_3_0103_lossless_alignedTo_MD590-N47-2015.09.12-05.32.06_MD590_2_0140_cropped/MD590-IHC35-2015.08.10-20.24.17_MD590_3_0103_lossless_alignedTo_MD590-N47-2015.09.12-05.32.06_MD590_2_0140_cropped_patch_locations.txt\n",
      "/shared/CSHL_patch_features/inception-bn-blue/MD590/MD590_lossless_alignedTo_MD590-N47-2015.09.12-05.32.06_MD590_2_0140_cropped_gray/MD590-IHC35-2015.08.10-20.24.17_MD590_3_0103_lossless_alignedTo_MD590-N47-2015.09.12-05.32.06_MD590_2_0140_cropped_gray_patch_locations.txt\n",
      "aws s3 cp s3://mousebrainatlas-data/CSHL_patch_features/inception-bn-blue/MD590/MD590-IHC35-2015.08.10-20.24.17_MD590_3_0103_lossless_alignedTo_MD590-N47-2015.09.12-05.32.06_MD590_2_0140_cropped/MD590-IHC35-2015.08.10-20.24.17_MD590_3_0103_lossless_alignedTo_MD590-N47-2015.09.12-05.32.06_MD590_2_0140_cropped_patch_locations.txt s3://mousebrainatlas-data/CSHL_patch_features/inception-bn-blue/MD590/MD590_lossless_alignedTo_MD590-N47-2015.09.12-05.32.06_MD590_2_0140_cropped_gray/MD590-IHC35-2015.08.10-20.24.17_MD590_3_0103_lossless_alignedTo_MD590-N47-2015.09.12-05.32.06_MD590_2_0140_cropped_gray_patch_locations.txt\n"
     ]
    },
    {
     "name": "stderr",
     "output_type": "stream",
     "text": [
      "Child returned 0\n"
     ]
    },
    {
     "name": "stdout",
     "output_type": "stream",
     "text": [
      "/shared/CSHL_patch_features/inception-bn-blue/MD590/MD590-N35-2015.08.03-19.21.58_MD590_1_0105_lossless_alignedTo_MD590-N47-2015.09.12-05.32.06_MD590_2_0140_cropped/MD590-N35-2015.08.03-19.21.58_MD590_1_0105_lossless_alignedTo_MD590-N47-2015.09.12-05.32.06_MD590_2_0140_cropped_features.bp\n",
      "/shared/CSHL_patch_features/inception-bn-blue/MD590/MD590_lossless_alignedTo_MD590-N47-2015.09.12-05.32.06_MD590_2_0140_cropped_gray/MD590-N35-2015.08.03-19.21.58_MD590_1_0105_lossless_alignedTo_MD590-N47-2015.09.12-05.32.06_MD590_2_0140_cropped_gray_features.bp\n",
      "aws s3 cp s3://mousebrainatlas-data/CSHL_patch_features/inception-bn-blue/MD590/MD590-N35-2015.08.03-19.21.58_MD590_1_0105_lossless_alignedTo_MD590-N47-2015.09.12-05.32.06_MD590_2_0140_cropped/MD590-N35-2015.08.03-19.21.58_MD590_1_0105_lossless_alignedTo_MD590-N47-2015.09.12-05.32.06_MD590_2_0140_cropped_features.bp s3://mousebrainatlas-data/CSHL_patch_features/inception-bn-blue/MD590/MD590_lossless_alignedTo_MD590-N47-2015.09.12-05.32.06_MD590_2_0140_cropped_gray/MD590-N35-2015.08.03-19.21.58_MD590_1_0105_lossless_alignedTo_MD590-N47-2015.09.12-05.32.06_MD590_2_0140_cropped_gray_features.bp\n"
     ]
    },
    {
     "name": "stderr",
     "output_type": "stream",
     "text": [
      "Child returned 0\n"
     ]
    },
    {
     "name": "stdout",
     "output_type": "stream",
     "text": [
      "/shared/CSHL_patch_features/inception-bn-blue/MD590/MD590-N35-2015.08.03-19.21.58_MD590_1_0105_lossless_alignedTo_MD590-N47-2015.09.12-05.32.06_MD590_2_0140_cropped/MD590-N35-2015.08.03-19.21.58_MD590_1_0105_lossless_alignedTo_MD590-N47-2015.09.12-05.32.06_MD590_2_0140_cropped_patch_locations.txt\n",
      "/shared/CSHL_patch_features/inception-bn-blue/MD590/MD590_lossless_alignedTo_MD590-N47-2015.09.12-05.32.06_MD590_2_0140_cropped_gray/MD590-N35-2015.08.03-19.21.58_MD590_1_0105_lossless_alignedTo_MD590-N47-2015.09.12-05.32.06_MD590_2_0140_cropped_gray_patch_locations.txt\n",
      "aws s3 cp s3://mousebrainatlas-data/CSHL_patch_features/inception-bn-blue/MD590/MD590-N35-2015.08.03-19.21.58_MD590_1_0105_lossless_alignedTo_MD590-N47-2015.09.12-05.32.06_MD590_2_0140_cropped/MD590-N35-2015.08.03-19.21.58_MD590_1_0105_lossless_alignedTo_MD590-N47-2015.09.12-05.32.06_MD590_2_0140_cropped_patch_locations.txt s3://mousebrainatlas-data/CSHL_patch_features/inception-bn-blue/MD590/MD590_lossless_alignedTo_MD590-N47-2015.09.12-05.32.06_MD590_2_0140_cropped_gray/MD590-N35-2015.08.03-19.21.58_MD590_1_0105_lossless_alignedTo_MD590-N47-2015.09.12-05.32.06_MD590_2_0140_cropped_gray_patch_locations.txt\n"
     ]
    },
    {
     "name": "stderr",
     "output_type": "stream",
     "text": [
      "Child returned 0\n"
     ]
    },
    {
     "name": "stdout",
     "output_type": "stream",
     "text": [
      "/shared/CSHL_patch_features/inception-bn-blue/MD590/MD590-IHC35-2015.08.10-20.24.17_MD590_1_0105_lossless_alignedTo_MD590-N47-2015.09.12-05.32.06_MD590_2_0140_cropped/MD590-IHC35-2015.08.10-20.24.17_MD590_1_0105_lossless_alignedTo_MD590-N47-2015.09.12-05.32.06_MD590_2_0140_cropped_features.bp\n",
      "/shared/CSHL_patch_features/inception-bn-blue/MD590/MD590_lossless_alignedTo_MD590-N47-2015.09.12-05.32.06_MD590_2_0140_cropped_gray/MD590-IHC35-2015.08.10-20.24.17_MD590_1_0105_lossless_alignedTo_MD590-N47-2015.09.12-05.32.06_MD590_2_0140_cropped_gray_features.bp\n",
      "aws s3 cp s3://mousebrainatlas-data/CSHL_patch_features/inception-bn-blue/MD590/MD590-IHC35-2015.08.10-20.24.17_MD590_1_0105_lossless_alignedTo_MD590-N47-2015.09.12-05.32.06_MD590_2_0140_cropped/MD590-IHC35-2015.08.10-20.24.17_MD590_1_0105_lossless_alignedTo_MD590-N47-2015.09.12-05.32.06_MD590_2_0140_cropped_features.bp s3://mousebrainatlas-data/CSHL_patch_features/inception-bn-blue/MD590/MD590_lossless_alignedTo_MD590-N47-2015.09.12-05.32.06_MD590_2_0140_cropped_gray/MD590-IHC35-2015.08.10-20.24.17_MD590_1_0105_lossless_alignedTo_MD590-N47-2015.09.12-05.32.06_MD590_2_0140_cropped_gray_features.bp\n"
     ]
    },
    {
     "name": "stderr",
     "output_type": "stream",
     "text": [
      "Child returned 0\n"
     ]
    },
    {
     "name": "stdout",
     "output_type": "stream",
     "text": [
      "/shared/CSHL_patch_features/inception-bn-blue/MD590/MD590-IHC35-2015.08.10-20.24.17_MD590_1_0105_lossless_alignedTo_MD590-N47-2015.09.12-05.32.06_MD590_2_0140_cropped/MD590-IHC35-2015.08.10-20.24.17_MD590_1_0105_lossless_alignedTo_MD590-N47-2015.09.12-05.32.06_MD590_2_0140_cropped_patch_locations.txt\n",
      "/shared/CSHL_patch_features/inception-bn-blue/MD590/MD590_lossless_alignedTo_MD590-N47-2015.09.12-05.32.06_MD590_2_0140_cropped_gray/MD590-IHC35-2015.08.10-20.24.17_MD590_1_0105_lossless_alignedTo_MD590-N47-2015.09.12-05.32.06_MD590_2_0140_cropped_gray_patch_locations.txt\n",
      "aws s3 cp s3://mousebrainatlas-data/CSHL_patch_features/inception-bn-blue/MD590/MD590-IHC35-2015.08.10-20.24.17_MD590_1_0105_lossless_alignedTo_MD590-N47-2015.09.12-05.32.06_MD590_2_0140_cropped/MD590-IHC35-2015.08.10-20.24.17_MD590_1_0105_lossless_alignedTo_MD590-N47-2015.09.12-05.32.06_MD590_2_0140_cropped_patch_locations.txt s3://mousebrainatlas-data/CSHL_patch_features/inception-bn-blue/MD590/MD590_lossless_alignedTo_MD590-N47-2015.09.12-05.32.06_MD590_2_0140_cropped_gray/MD590-IHC35-2015.08.10-20.24.17_MD590_1_0105_lossless_alignedTo_MD590-N47-2015.09.12-05.32.06_MD590_2_0140_cropped_gray_patch_locations.txt\n"
     ]
    },
    {
     "name": "stderr",
     "output_type": "stream",
     "text": [
      "Child returned 0\n"
     ]
    },
    {
     "name": "stdout",
     "output_type": "stream",
     "text": [
      "/shared/CSHL_patch_features/inception-bn-blue/MD590/MD590-N36-2015.08.03-19.25.52_MD590_3_0106_lossless_alignedTo_MD590-N47-2015.09.12-05.32.06_MD590_2_0140_cropped/MD590-N36-2015.08.03-19.25.52_MD590_3_0106_lossless_alignedTo_MD590-N47-2015.09.12-05.32.06_MD590_2_0140_cropped_features.bp\n",
      "/shared/CSHL_patch_features/inception-bn-blue/MD590/MD590_lossless_alignedTo_MD590-N47-2015.09.12-05.32.06_MD590_2_0140_cropped_gray/MD590-N36-2015.08.03-19.25.52_MD590_3_0106_lossless_alignedTo_MD590-N47-2015.09.12-05.32.06_MD590_2_0140_cropped_gray_features.bp\n",
      "aws s3 cp s3://mousebrainatlas-data/CSHL_patch_features/inception-bn-blue/MD590/MD590-N36-2015.08.03-19.25.52_MD590_3_0106_lossless_alignedTo_MD590-N47-2015.09.12-05.32.06_MD590_2_0140_cropped/MD590-N36-2015.08.03-19.25.52_MD590_3_0106_lossless_alignedTo_MD590-N47-2015.09.12-05.32.06_MD590_2_0140_cropped_features.bp s3://mousebrainatlas-data/CSHL_patch_features/inception-bn-blue/MD590/MD590_lossless_alignedTo_MD590-N47-2015.09.12-05.32.06_MD590_2_0140_cropped_gray/MD590-N36-2015.08.03-19.25.52_MD590_3_0106_lossless_alignedTo_MD590-N47-2015.09.12-05.32.06_MD590_2_0140_cropped_gray_features.bp\n"
     ]
    },
    {
     "name": "stderr",
     "output_type": "stream",
     "text": [
      "Child returned 0\n"
     ]
    },
    {
     "name": "stdout",
     "output_type": "stream",
     "text": [
      "/shared/CSHL_patch_features/inception-bn-blue/MD590/MD590-N36-2015.08.03-19.25.52_MD590_3_0106_lossless_alignedTo_MD590-N47-2015.09.12-05.32.06_MD590_2_0140_cropped/MD590-N36-2015.08.03-19.25.52_MD590_3_0106_lossless_alignedTo_MD590-N47-2015.09.12-05.32.06_MD590_2_0140_cropped_patch_locations.txt\n",
      "/shared/CSHL_patch_features/inception-bn-blue/MD590/MD590_lossless_alignedTo_MD590-N47-2015.09.12-05.32.06_MD590_2_0140_cropped_gray/MD590-N36-2015.08.03-19.25.52_MD590_3_0106_lossless_alignedTo_MD590-N47-2015.09.12-05.32.06_MD590_2_0140_cropped_gray_patch_locations.txt\n",
      "aws s3 cp s3://mousebrainatlas-data/CSHL_patch_features/inception-bn-blue/MD590/MD590-N36-2015.08.03-19.25.52_MD590_3_0106_lossless_alignedTo_MD590-N47-2015.09.12-05.32.06_MD590_2_0140_cropped/MD590-N36-2015.08.03-19.25.52_MD590_3_0106_lossless_alignedTo_MD590-N47-2015.09.12-05.32.06_MD590_2_0140_cropped_patch_locations.txt s3://mousebrainatlas-data/CSHL_patch_features/inception-bn-blue/MD590/MD590_lossless_alignedTo_MD590-N47-2015.09.12-05.32.06_MD590_2_0140_cropped_gray/MD590-N36-2015.08.03-19.25.52_MD590_3_0106_lossless_alignedTo_MD590-N47-2015.09.12-05.32.06_MD590_2_0140_cropped_gray_patch_locations.txt\n"
     ]
    },
    {
     "name": "stderr",
     "output_type": "stream",
     "text": [
      "Child returned 0\n"
     ]
    },
    {
     "name": "stdout",
     "output_type": "stream",
     "text": [
      "/shared/CSHL_patch_features/inception-bn-blue/MD590/MD590-IHC36-2015.08.10-20.28.27_MD590_3_0106_lossless_alignedTo_MD590-N47-2015.09.12-05.32.06_MD590_2_0140_cropped/MD590-IHC36-2015.08.10-20.28.27_MD590_3_0106_lossless_alignedTo_MD590-N47-2015.09.12-05.32.06_MD590_2_0140_cropped_features.bp\n",
      "/shared/CSHL_patch_features/inception-bn-blue/MD590/MD590_lossless_alignedTo_MD590-N47-2015.09.12-05.32.06_MD590_2_0140_cropped_gray/MD590-IHC36-2015.08.10-20.28.27_MD590_3_0106_lossless_alignedTo_MD590-N47-2015.09.12-05.32.06_MD590_2_0140_cropped_gray_features.bp\n",
      "aws s3 cp s3://mousebrainatlas-data/CSHL_patch_features/inception-bn-blue/MD590/MD590-IHC36-2015.08.10-20.28.27_MD590_3_0106_lossless_alignedTo_MD590-N47-2015.09.12-05.32.06_MD590_2_0140_cropped/MD590-IHC36-2015.08.10-20.28.27_MD590_3_0106_lossless_alignedTo_MD590-N47-2015.09.12-05.32.06_MD590_2_0140_cropped_features.bp s3://mousebrainatlas-data/CSHL_patch_features/inception-bn-blue/MD590/MD590_lossless_alignedTo_MD590-N47-2015.09.12-05.32.06_MD590_2_0140_cropped_gray/MD590-IHC36-2015.08.10-20.28.27_MD590_3_0106_lossless_alignedTo_MD590-N47-2015.09.12-05.32.06_MD590_2_0140_cropped_gray_features.bp\n"
     ]
    },
    {
     "name": "stderr",
     "output_type": "stream",
     "text": [
      "Child returned 0\n"
     ]
    },
    {
     "name": "stdout",
     "output_type": "stream",
     "text": [
      "/shared/CSHL_patch_features/inception-bn-blue/MD590/MD590-IHC36-2015.08.10-20.28.27_MD590_3_0106_lossless_alignedTo_MD590-N47-2015.09.12-05.32.06_MD590_2_0140_cropped/MD590-IHC36-2015.08.10-20.28.27_MD590_3_0106_lossless_alignedTo_MD590-N47-2015.09.12-05.32.06_MD590_2_0140_cropped_patch_locations.txt\n",
      "/shared/CSHL_patch_features/inception-bn-blue/MD590/MD590_lossless_alignedTo_MD590-N47-2015.09.12-05.32.06_MD590_2_0140_cropped_gray/MD590-IHC36-2015.08.10-20.28.27_MD590_3_0106_lossless_alignedTo_MD590-N47-2015.09.12-05.32.06_MD590_2_0140_cropped_gray_patch_locations.txt\n",
      "aws s3 cp s3://mousebrainatlas-data/CSHL_patch_features/inception-bn-blue/MD590/MD590-IHC36-2015.08.10-20.28.27_MD590_3_0106_lossless_alignedTo_MD590-N47-2015.09.12-05.32.06_MD590_2_0140_cropped/MD590-IHC36-2015.08.10-20.28.27_MD590_3_0106_lossless_alignedTo_MD590-N47-2015.09.12-05.32.06_MD590_2_0140_cropped_patch_locations.txt s3://mousebrainatlas-data/CSHL_patch_features/inception-bn-blue/MD590/MD590_lossless_alignedTo_MD590-N47-2015.09.12-05.32.06_MD590_2_0140_cropped_gray/MD590-IHC36-2015.08.10-20.28.27_MD590_3_0106_lossless_alignedTo_MD590-N47-2015.09.12-05.32.06_MD590_2_0140_cropped_gray_patch_locations.txt\n"
     ]
    },
    {
     "name": "stderr",
     "output_type": "stream",
     "text": [
      "Child returned 0\n"
     ]
    },
    {
     "name": "stdout",
     "output_type": "stream",
     "text": [
      "/shared/CSHL_patch_features/inception-bn-blue/MD590/MD590-N36-2015.08.03-19.25.52_MD590_1_0108_lossless_alignedTo_MD590-N47-2015.09.12-05.32.06_MD590_2_0140_cropped/MD590-N36-2015.08.03-19.25.52_MD590_1_0108_lossless_alignedTo_MD590-N47-2015.09.12-05.32.06_MD590_2_0140_cropped_features.bp\n",
      "/shared/CSHL_patch_features/inception-bn-blue/MD590/MD590_lossless_alignedTo_MD590-N47-2015.09.12-05.32.06_MD590_2_0140_cropped_gray/MD590-N36-2015.08.03-19.25.52_MD590_1_0108_lossless_alignedTo_MD590-N47-2015.09.12-05.32.06_MD590_2_0140_cropped_gray_features.bp\n",
      "aws s3 cp s3://mousebrainatlas-data/CSHL_patch_features/inception-bn-blue/MD590/MD590-N36-2015.08.03-19.25.52_MD590_1_0108_lossless_alignedTo_MD590-N47-2015.09.12-05.32.06_MD590_2_0140_cropped/MD590-N36-2015.08.03-19.25.52_MD590_1_0108_lossless_alignedTo_MD590-N47-2015.09.12-05.32.06_MD590_2_0140_cropped_features.bp s3://mousebrainatlas-data/CSHL_patch_features/inception-bn-blue/MD590/MD590_lossless_alignedTo_MD590-N47-2015.09.12-05.32.06_MD590_2_0140_cropped_gray/MD590-N36-2015.08.03-19.25.52_MD590_1_0108_lossless_alignedTo_MD590-N47-2015.09.12-05.32.06_MD590_2_0140_cropped_gray_features.bp\n"
     ]
    },
    {
     "name": "stderr",
     "output_type": "stream",
     "text": [
      "Child returned 0\n"
     ]
    },
    {
     "name": "stdout",
     "output_type": "stream",
     "text": [
      "/shared/CSHL_patch_features/inception-bn-blue/MD590/MD590-N36-2015.08.03-19.25.52_MD590_1_0108_lossless_alignedTo_MD590-N47-2015.09.12-05.32.06_MD590_2_0140_cropped/MD590-N36-2015.08.03-19.25.52_MD590_1_0108_lossless_alignedTo_MD590-N47-2015.09.12-05.32.06_MD590_2_0140_cropped_patch_locations.txt\n",
      "/shared/CSHL_patch_features/inception-bn-blue/MD590/MD590_lossless_alignedTo_MD590-N47-2015.09.12-05.32.06_MD590_2_0140_cropped_gray/MD590-N36-2015.08.03-19.25.52_MD590_1_0108_lossless_alignedTo_MD590-N47-2015.09.12-05.32.06_MD590_2_0140_cropped_gray_patch_locations.txt\n",
      "aws s3 cp s3://mousebrainatlas-data/CSHL_patch_features/inception-bn-blue/MD590/MD590-N36-2015.08.03-19.25.52_MD590_1_0108_lossless_alignedTo_MD590-N47-2015.09.12-05.32.06_MD590_2_0140_cropped/MD590-N36-2015.08.03-19.25.52_MD590_1_0108_lossless_alignedTo_MD590-N47-2015.09.12-05.32.06_MD590_2_0140_cropped_patch_locations.txt s3://mousebrainatlas-data/CSHL_patch_features/inception-bn-blue/MD590/MD590_lossless_alignedTo_MD590-N47-2015.09.12-05.32.06_MD590_2_0140_cropped_gray/MD590-N36-2015.08.03-19.25.52_MD590_1_0108_lossless_alignedTo_MD590-N47-2015.09.12-05.32.06_MD590_2_0140_cropped_gray_patch_locations.txt\n"
     ]
    },
    {
     "name": "stderr",
     "output_type": "stream",
     "text": [
      "Child returned 0\n"
     ]
    },
    {
     "name": "stdout",
     "output_type": "stream",
     "text": [
      "/shared/CSHL_patch_features/inception-bn-blue/MD590/MD590-IHC36-2015.08.10-20.28.27_MD590_2_0107_lossless_alignedTo_MD590-N47-2015.09.12-05.32.06_MD590_2_0140_cropped/MD590-IHC36-2015.08.10-20.28.27_MD590_2_0107_lossless_alignedTo_MD590-N47-2015.09.12-05.32.06_MD590_2_0140_cropped_features.bp\n",
      "/shared/CSHL_patch_features/inception-bn-blue/MD590/MD590_lossless_alignedTo_MD590-N47-2015.09.12-05.32.06_MD590_2_0140_cropped_gray/MD590-IHC36-2015.08.10-20.28.27_MD590_2_0107_lossless_alignedTo_MD590-N47-2015.09.12-05.32.06_MD590_2_0140_cropped_gray_features.bp\n",
      "aws s3 cp s3://mousebrainatlas-data/CSHL_patch_features/inception-bn-blue/MD590/MD590-IHC36-2015.08.10-20.28.27_MD590_2_0107_lossless_alignedTo_MD590-N47-2015.09.12-05.32.06_MD590_2_0140_cropped/MD590-IHC36-2015.08.10-20.28.27_MD590_2_0107_lossless_alignedTo_MD590-N47-2015.09.12-05.32.06_MD590_2_0140_cropped_features.bp s3://mousebrainatlas-data/CSHL_patch_features/inception-bn-blue/MD590/MD590_lossless_alignedTo_MD590-N47-2015.09.12-05.32.06_MD590_2_0140_cropped_gray/MD590-IHC36-2015.08.10-20.28.27_MD590_2_0107_lossless_alignedTo_MD590-N47-2015.09.12-05.32.06_MD590_2_0140_cropped_gray_features.bp\n"
     ]
    },
    {
     "name": "stderr",
     "output_type": "stream",
     "text": [
      "Child returned 0\n"
     ]
    },
    {
     "name": "stdout",
     "output_type": "stream",
     "text": [
      "/shared/CSHL_patch_features/inception-bn-blue/MD590/MD590-IHC36-2015.08.10-20.28.27_MD590_2_0107_lossless_alignedTo_MD590-N47-2015.09.12-05.32.06_MD590_2_0140_cropped/MD590-IHC36-2015.08.10-20.28.27_MD590_2_0107_lossless_alignedTo_MD590-N47-2015.09.12-05.32.06_MD590_2_0140_cropped_patch_locations.txt\n",
      "/shared/CSHL_patch_features/inception-bn-blue/MD590/MD590_lossless_alignedTo_MD590-N47-2015.09.12-05.32.06_MD590_2_0140_cropped_gray/MD590-IHC36-2015.08.10-20.28.27_MD590_2_0107_lossless_alignedTo_MD590-N47-2015.09.12-05.32.06_MD590_2_0140_cropped_gray_patch_locations.txt\n",
      "aws s3 cp s3://mousebrainatlas-data/CSHL_patch_features/inception-bn-blue/MD590/MD590-IHC36-2015.08.10-20.28.27_MD590_2_0107_lossless_alignedTo_MD590-N47-2015.09.12-05.32.06_MD590_2_0140_cropped/MD590-IHC36-2015.08.10-20.28.27_MD590_2_0107_lossless_alignedTo_MD590-N47-2015.09.12-05.32.06_MD590_2_0140_cropped_patch_locations.txt s3://mousebrainatlas-data/CSHL_patch_features/inception-bn-blue/MD590/MD590_lossless_alignedTo_MD590-N47-2015.09.12-05.32.06_MD590_2_0140_cropped_gray/MD590-IHC36-2015.08.10-20.28.27_MD590_2_0107_lossless_alignedTo_MD590-N47-2015.09.12-05.32.06_MD590_2_0140_cropped_gray_patch_locations.txt\n"
     ]
    },
    {
     "name": "stderr",
     "output_type": "stream",
     "text": [
      "Child returned 0\n"
     ]
    },
    {
     "name": "stdout",
     "output_type": "stream",
     "text": [
      "/shared/CSHL_patch_features/inception-bn-blue/MD590/MD590-N37-2015.08.03-19.29.50_MD590_3_0109_lossless_alignedTo_MD590-N47-2015.09.12-05.32.06_MD590_2_0140_cropped/MD590-N37-2015.08.03-19.29.50_MD590_3_0109_lossless_alignedTo_MD590-N47-2015.09.12-05.32.06_MD590_2_0140_cropped_features.bp\n",
      "/shared/CSHL_patch_features/inception-bn-blue/MD590/MD590_lossless_alignedTo_MD590-N47-2015.09.12-05.32.06_MD590_2_0140_cropped_gray/MD590-N37-2015.08.03-19.29.50_MD590_3_0109_lossless_alignedTo_MD590-N47-2015.09.12-05.32.06_MD590_2_0140_cropped_gray_features.bp\n",
      "aws s3 cp s3://mousebrainatlas-data/CSHL_patch_features/inception-bn-blue/MD590/MD590-N37-2015.08.03-19.29.50_MD590_3_0109_lossless_alignedTo_MD590-N47-2015.09.12-05.32.06_MD590_2_0140_cropped/MD590-N37-2015.08.03-19.29.50_MD590_3_0109_lossless_alignedTo_MD590-N47-2015.09.12-05.32.06_MD590_2_0140_cropped_features.bp s3://mousebrainatlas-data/CSHL_patch_features/inception-bn-blue/MD590/MD590_lossless_alignedTo_MD590-N47-2015.09.12-05.32.06_MD590_2_0140_cropped_gray/MD590-N37-2015.08.03-19.29.50_MD590_3_0109_lossless_alignedTo_MD590-N47-2015.09.12-05.32.06_MD590_2_0140_cropped_gray_features.bp\n"
     ]
    },
    {
     "name": "stderr",
     "output_type": "stream",
     "text": [
      "Child returned 0\n"
     ]
    },
    {
     "name": "stdout",
     "output_type": "stream",
     "text": [
      "/shared/CSHL_patch_features/inception-bn-blue/MD590/MD590-N37-2015.08.03-19.29.50_MD590_3_0109_lossless_alignedTo_MD590-N47-2015.09.12-05.32.06_MD590_2_0140_cropped/MD590-N37-2015.08.03-19.29.50_MD590_3_0109_lossless_alignedTo_MD590-N47-2015.09.12-05.32.06_MD590_2_0140_cropped_patch_locations.txt\n",
      "/shared/CSHL_patch_features/inception-bn-blue/MD590/MD590_lossless_alignedTo_MD590-N47-2015.09.12-05.32.06_MD590_2_0140_cropped_gray/MD590-N37-2015.08.03-19.29.50_MD590_3_0109_lossless_alignedTo_MD590-N47-2015.09.12-05.32.06_MD590_2_0140_cropped_gray_patch_locations.txt\n",
      "aws s3 cp s3://mousebrainatlas-data/CSHL_patch_features/inception-bn-blue/MD590/MD590-N37-2015.08.03-19.29.50_MD590_3_0109_lossless_alignedTo_MD590-N47-2015.09.12-05.32.06_MD590_2_0140_cropped/MD590-N37-2015.08.03-19.29.50_MD590_3_0109_lossless_alignedTo_MD590-N47-2015.09.12-05.32.06_MD590_2_0140_cropped_patch_locations.txt s3://mousebrainatlas-data/CSHL_patch_features/inception-bn-blue/MD590/MD590_lossless_alignedTo_MD590-N47-2015.09.12-05.32.06_MD590_2_0140_cropped_gray/MD590-N37-2015.08.03-19.29.50_MD590_3_0109_lossless_alignedTo_MD590-N47-2015.09.12-05.32.06_MD590_2_0140_cropped_gray_patch_locations.txt\n"
     ]
    },
    {
     "name": "stderr",
     "output_type": "stream",
     "text": [
      "Child returned 0\n"
     ]
    },
    {
     "name": "stdout",
     "output_type": "stream",
     "text": [
      "/shared/CSHL_patch_features/inception-bn-blue/MD590/MD590-IHC37-2015.08.10-20.32.56_MD590_3_0109_lossless_alignedTo_MD590-N47-2015.09.12-05.32.06_MD590_2_0140_cropped/MD590-IHC37-2015.08.10-20.32.56_MD590_3_0109_lossless_alignedTo_MD590-N47-2015.09.12-05.32.06_MD590_2_0140_cropped_features.bp\n",
      "/shared/CSHL_patch_features/inception-bn-blue/MD590/MD590_lossless_alignedTo_MD590-N47-2015.09.12-05.32.06_MD590_2_0140_cropped_gray/MD590-IHC37-2015.08.10-20.32.56_MD590_3_0109_lossless_alignedTo_MD590-N47-2015.09.12-05.32.06_MD590_2_0140_cropped_gray_features.bp\n",
      "aws s3 cp s3://mousebrainatlas-data/CSHL_patch_features/inception-bn-blue/MD590/MD590-IHC37-2015.08.10-20.32.56_MD590_3_0109_lossless_alignedTo_MD590-N47-2015.09.12-05.32.06_MD590_2_0140_cropped/MD590-IHC37-2015.08.10-20.32.56_MD590_3_0109_lossless_alignedTo_MD590-N47-2015.09.12-05.32.06_MD590_2_0140_cropped_features.bp s3://mousebrainatlas-data/CSHL_patch_features/inception-bn-blue/MD590/MD590_lossless_alignedTo_MD590-N47-2015.09.12-05.32.06_MD590_2_0140_cropped_gray/MD590-IHC37-2015.08.10-20.32.56_MD590_3_0109_lossless_alignedTo_MD590-N47-2015.09.12-05.32.06_MD590_2_0140_cropped_gray_features.bp\n"
     ]
    },
    {
     "name": "stderr",
     "output_type": "stream",
     "text": [
      "Child returned 0\n"
     ]
    },
    {
     "name": "stdout",
     "output_type": "stream",
     "text": [
      "/shared/CSHL_patch_features/inception-bn-blue/MD590/MD590-IHC37-2015.08.10-20.32.56_MD590_3_0109_lossless_alignedTo_MD590-N47-2015.09.12-05.32.06_MD590_2_0140_cropped/MD590-IHC37-2015.08.10-20.32.56_MD590_3_0109_lossless_alignedTo_MD590-N47-2015.09.12-05.32.06_MD590_2_0140_cropped_patch_locations.txt\n",
      "/shared/CSHL_patch_features/inception-bn-blue/MD590/MD590_lossless_alignedTo_MD590-N47-2015.09.12-05.32.06_MD590_2_0140_cropped_gray/MD590-IHC37-2015.08.10-20.32.56_MD590_3_0109_lossless_alignedTo_MD590-N47-2015.09.12-05.32.06_MD590_2_0140_cropped_gray_patch_locations.txt\n",
      "aws s3 cp s3://mousebrainatlas-data/CSHL_patch_features/inception-bn-blue/MD590/MD590-IHC37-2015.08.10-20.32.56_MD590_3_0109_lossless_alignedTo_MD590-N47-2015.09.12-05.32.06_MD590_2_0140_cropped/MD590-IHC37-2015.08.10-20.32.56_MD590_3_0109_lossless_alignedTo_MD590-N47-2015.09.12-05.32.06_MD590_2_0140_cropped_patch_locations.txt s3://mousebrainatlas-data/CSHL_patch_features/inception-bn-blue/MD590/MD590_lossless_alignedTo_MD590-N47-2015.09.12-05.32.06_MD590_2_0140_cropped_gray/MD590-IHC37-2015.08.10-20.32.56_MD590_3_0109_lossless_alignedTo_MD590-N47-2015.09.12-05.32.06_MD590_2_0140_cropped_gray_patch_locations.txt\n"
     ]
    },
    {
     "name": "stderr",
     "output_type": "stream",
     "text": [
      "Child returned 0\n"
     ]
    },
    {
     "name": "stdout",
     "output_type": "stream",
     "text": [
      "/shared/CSHL_patch_features/inception-bn-blue/MD590/MD590-N37-2015.08.03-19.29.50_MD590_1_0111_lossless_alignedTo_MD590-N47-2015.09.12-05.32.06_MD590_2_0140_cropped/MD590-N37-2015.08.03-19.29.50_MD590_1_0111_lossless_alignedTo_MD590-N47-2015.09.12-05.32.06_MD590_2_0140_cropped_features.bp\n",
      "/shared/CSHL_patch_features/inception-bn-blue/MD590/MD590_lossless_alignedTo_MD590-N47-2015.09.12-05.32.06_MD590_2_0140_cropped_gray/MD590-N37-2015.08.03-19.29.50_MD590_1_0111_lossless_alignedTo_MD590-N47-2015.09.12-05.32.06_MD590_2_0140_cropped_gray_features.bp\n",
      "aws s3 cp s3://mousebrainatlas-data/CSHL_patch_features/inception-bn-blue/MD590/MD590-N37-2015.08.03-19.29.50_MD590_1_0111_lossless_alignedTo_MD590-N47-2015.09.12-05.32.06_MD590_2_0140_cropped/MD590-N37-2015.08.03-19.29.50_MD590_1_0111_lossless_alignedTo_MD590-N47-2015.09.12-05.32.06_MD590_2_0140_cropped_features.bp s3://mousebrainatlas-data/CSHL_patch_features/inception-bn-blue/MD590/MD590_lossless_alignedTo_MD590-N47-2015.09.12-05.32.06_MD590_2_0140_cropped_gray/MD590-N37-2015.08.03-19.29.50_MD590_1_0111_lossless_alignedTo_MD590-N47-2015.09.12-05.32.06_MD590_2_0140_cropped_gray_features.bp\n"
     ]
    },
    {
     "name": "stderr",
     "output_type": "stream",
     "text": [
      "Child returned 0\n"
     ]
    },
    {
     "name": "stdout",
     "output_type": "stream",
     "text": [
      "/shared/CSHL_patch_features/inception-bn-blue/MD590/MD590-N37-2015.08.03-19.29.50_MD590_1_0111_lossless_alignedTo_MD590-N47-2015.09.12-05.32.06_MD590_2_0140_cropped/MD590-N37-2015.08.03-19.29.50_MD590_1_0111_lossless_alignedTo_MD590-N47-2015.09.12-05.32.06_MD590_2_0140_cropped_patch_locations.txt\n",
      "/shared/CSHL_patch_features/inception-bn-blue/MD590/MD590_lossless_alignedTo_MD590-N47-2015.09.12-05.32.06_MD590_2_0140_cropped_gray/MD590-N37-2015.08.03-19.29.50_MD590_1_0111_lossless_alignedTo_MD590-N47-2015.09.12-05.32.06_MD590_2_0140_cropped_gray_patch_locations.txt\n",
      "aws s3 cp s3://mousebrainatlas-data/CSHL_patch_features/inception-bn-blue/MD590/MD590-N37-2015.08.03-19.29.50_MD590_1_0111_lossless_alignedTo_MD590-N47-2015.09.12-05.32.06_MD590_2_0140_cropped/MD590-N37-2015.08.03-19.29.50_MD590_1_0111_lossless_alignedTo_MD590-N47-2015.09.12-05.32.06_MD590_2_0140_cropped_patch_locations.txt s3://mousebrainatlas-data/CSHL_patch_features/inception-bn-blue/MD590/MD590_lossless_alignedTo_MD590-N47-2015.09.12-05.32.06_MD590_2_0140_cropped_gray/MD590-N37-2015.08.03-19.29.50_MD590_1_0111_lossless_alignedTo_MD590-N47-2015.09.12-05.32.06_MD590_2_0140_cropped_gray_patch_locations.txt\n"
     ]
    },
    {
     "name": "stderr",
     "output_type": "stream",
     "text": [
      "Child returned 0\n"
     ]
    },
    {
     "name": "stdout",
     "output_type": "stream",
     "text": [
      "/shared/CSHL_patch_features/inception-bn-blue/MD590/MD590-IHC37-2015.08.10-20.32.56_MD590_2_0110_lossless_alignedTo_MD590-N47-2015.09.12-05.32.06_MD590_2_0140_cropped/MD590-IHC37-2015.08.10-20.32.56_MD590_2_0110_lossless_alignedTo_MD590-N47-2015.09.12-05.32.06_MD590_2_0140_cropped_features.bp\n",
      "/shared/CSHL_patch_features/inception-bn-blue/MD590/MD590_lossless_alignedTo_MD590-N47-2015.09.12-05.32.06_MD590_2_0140_cropped_gray/MD590-IHC37-2015.08.10-20.32.56_MD590_2_0110_lossless_alignedTo_MD590-N47-2015.09.12-05.32.06_MD590_2_0140_cropped_gray_features.bp\n",
      "aws s3 cp s3://mousebrainatlas-data/CSHL_patch_features/inception-bn-blue/MD590/MD590-IHC37-2015.08.10-20.32.56_MD590_2_0110_lossless_alignedTo_MD590-N47-2015.09.12-05.32.06_MD590_2_0140_cropped/MD590-IHC37-2015.08.10-20.32.56_MD590_2_0110_lossless_alignedTo_MD590-N47-2015.09.12-05.32.06_MD590_2_0140_cropped_features.bp s3://mousebrainatlas-data/CSHL_patch_features/inception-bn-blue/MD590/MD590_lossless_alignedTo_MD590-N47-2015.09.12-05.32.06_MD590_2_0140_cropped_gray/MD590-IHC37-2015.08.10-20.32.56_MD590_2_0110_lossless_alignedTo_MD590-N47-2015.09.12-05.32.06_MD590_2_0140_cropped_gray_features.bp\n"
     ]
    },
    {
     "name": "stderr",
     "output_type": "stream",
     "text": [
      "Child returned 0\n"
     ]
    },
    {
     "name": "stdout",
     "output_type": "stream",
     "text": [
      "/shared/CSHL_patch_features/inception-bn-blue/MD590/MD590-IHC37-2015.08.10-20.32.56_MD590_2_0110_lossless_alignedTo_MD590-N47-2015.09.12-05.32.06_MD590_2_0140_cropped/MD590-IHC37-2015.08.10-20.32.56_MD590_2_0110_lossless_alignedTo_MD590-N47-2015.09.12-05.32.06_MD590_2_0140_cropped_patch_locations.txt\n",
      "/shared/CSHL_patch_features/inception-bn-blue/MD590/MD590_lossless_alignedTo_MD590-N47-2015.09.12-05.32.06_MD590_2_0140_cropped_gray/MD590-IHC37-2015.08.10-20.32.56_MD590_2_0110_lossless_alignedTo_MD590-N47-2015.09.12-05.32.06_MD590_2_0140_cropped_gray_patch_locations.txt\n",
      "aws s3 cp s3://mousebrainatlas-data/CSHL_patch_features/inception-bn-blue/MD590/MD590-IHC37-2015.08.10-20.32.56_MD590_2_0110_lossless_alignedTo_MD590-N47-2015.09.12-05.32.06_MD590_2_0140_cropped/MD590-IHC37-2015.08.10-20.32.56_MD590_2_0110_lossless_alignedTo_MD590-N47-2015.09.12-05.32.06_MD590_2_0140_cropped_patch_locations.txt s3://mousebrainatlas-data/CSHL_patch_features/inception-bn-blue/MD590/MD590_lossless_alignedTo_MD590-N47-2015.09.12-05.32.06_MD590_2_0140_cropped_gray/MD590-IHC37-2015.08.10-20.32.56_MD590_2_0110_lossless_alignedTo_MD590-N47-2015.09.12-05.32.06_MD590_2_0140_cropped_gray_patch_locations.txt\n"
     ]
    },
    {
     "name": "stderr",
     "output_type": "stream",
     "text": [
      "Child returned 0\n"
     ]
    },
    {
     "name": "stdout",
     "output_type": "stream",
     "text": [
      "/shared/CSHL_patch_features/inception-bn-blue/MD590/MD590-N38-2015.08.03-19.33.46_MD590_3_0112_lossless_alignedTo_MD590-N47-2015.09.12-05.32.06_MD590_2_0140_cropped/MD590-N38-2015.08.03-19.33.46_MD590_3_0112_lossless_alignedTo_MD590-N47-2015.09.12-05.32.06_MD590_2_0140_cropped_features.bp\n",
      "/shared/CSHL_patch_features/inception-bn-blue/MD590/MD590_lossless_alignedTo_MD590-N47-2015.09.12-05.32.06_MD590_2_0140_cropped_gray/MD590-N38-2015.08.03-19.33.46_MD590_3_0112_lossless_alignedTo_MD590-N47-2015.09.12-05.32.06_MD590_2_0140_cropped_gray_features.bp\n",
      "aws s3 cp s3://mousebrainatlas-data/CSHL_patch_features/inception-bn-blue/MD590/MD590-N38-2015.08.03-19.33.46_MD590_3_0112_lossless_alignedTo_MD590-N47-2015.09.12-05.32.06_MD590_2_0140_cropped/MD590-N38-2015.08.03-19.33.46_MD590_3_0112_lossless_alignedTo_MD590-N47-2015.09.12-05.32.06_MD590_2_0140_cropped_features.bp s3://mousebrainatlas-data/CSHL_patch_features/inception-bn-blue/MD590/MD590_lossless_alignedTo_MD590-N47-2015.09.12-05.32.06_MD590_2_0140_cropped_gray/MD590-N38-2015.08.03-19.33.46_MD590_3_0112_lossless_alignedTo_MD590-N47-2015.09.12-05.32.06_MD590_2_0140_cropped_gray_features.bp\n"
     ]
    },
    {
     "name": "stderr",
     "output_type": "stream",
     "text": [
      "Child returned 0\n"
     ]
    },
    {
     "name": "stdout",
     "output_type": "stream",
     "text": [
      "/shared/CSHL_patch_features/inception-bn-blue/MD590/MD590-N38-2015.08.03-19.33.46_MD590_3_0112_lossless_alignedTo_MD590-N47-2015.09.12-05.32.06_MD590_2_0140_cropped/MD590-N38-2015.08.03-19.33.46_MD590_3_0112_lossless_alignedTo_MD590-N47-2015.09.12-05.32.06_MD590_2_0140_cropped_patch_locations.txt\n",
      "/shared/CSHL_patch_features/inception-bn-blue/MD590/MD590_lossless_alignedTo_MD590-N47-2015.09.12-05.32.06_MD590_2_0140_cropped_gray/MD590-N38-2015.08.03-19.33.46_MD590_3_0112_lossless_alignedTo_MD590-N47-2015.09.12-05.32.06_MD590_2_0140_cropped_gray_patch_locations.txt\n",
      "aws s3 cp s3://mousebrainatlas-data/CSHL_patch_features/inception-bn-blue/MD590/MD590-N38-2015.08.03-19.33.46_MD590_3_0112_lossless_alignedTo_MD590-N47-2015.09.12-05.32.06_MD590_2_0140_cropped/MD590-N38-2015.08.03-19.33.46_MD590_3_0112_lossless_alignedTo_MD590-N47-2015.09.12-05.32.06_MD590_2_0140_cropped_patch_locations.txt s3://mousebrainatlas-data/CSHL_patch_features/inception-bn-blue/MD590/MD590_lossless_alignedTo_MD590-N47-2015.09.12-05.32.06_MD590_2_0140_cropped_gray/MD590-N38-2015.08.03-19.33.46_MD590_3_0112_lossless_alignedTo_MD590-N47-2015.09.12-05.32.06_MD590_2_0140_cropped_gray_patch_locations.txt\n"
     ]
    },
    {
     "name": "stderr",
     "output_type": "stream",
     "text": [
      "Child returned 0\n"
     ]
    },
    {
     "name": "stdout",
     "output_type": "stream",
     "text": [
      "/shared/CSHL_patch_features/inception-bn-blue/MD590/MD590-IHC38-2015.08.10-20.37.21_MD590_3_0112_lossless_alignedTo_MD590-N47-2015.09.12-05.32.06_MD590_2_0140_cropped/MD590-IHC38-2015.08.10-20.37.21_MD590_3_0112_lossless_alignedTo_MD590-N47-2015.09.12-05.32.06_MD590_2_0140_cropped_features.bp\n",
      "/shared/CSHL_patch_features/inception-bn-blue/MD590/MD590_lossless_alignedTo_MD590-N47-2015.09.12-05.32.06_MD590_2_0140_cropped_gray/MD590-IHC38-2015.08.10-20.37.21_MD590_3_0112_lossless_alignedTo_MD590-N47-2015.09.12-05.32.06_MD590_2_0140_cropped_gray_features.bp\n",
      "aws s3 cp s3://mousebrainatlas-data/CSHL_patch_features/inception-bn-blue/MD590/MD590-IHC38-2015.08.10-20.37.21_MD590_3_0112_lossless_alignedTo_MD590-N47-2015.09.12-05.32.06_MD590_2_0140_cropped/MD590-IHC38-2015.08.10-20.37.21_MD590_3_0112_lossless_alignedTo_MD590-N47-2015.09.12-05.32.06_MD590_2_0140_cropped_features.bp s3://mousebrainatlas-data/CSHL_patch_features/inception-bn-blue/MD590/MD590_lossless_alignedTo_MD590-N47-2015.09.12-05.32.06_MD590_2_0140_cropped_gray/MD590-IHC38-2015.08.10-20.37.21_MD590_3_0112_lossless_alignedTo_MD590-N47-2015.09.12-05.32.06_MD590_2_0140_cropped_gray_features.bp\n"
     ]
    },
    {
     "name": "stderr",
     "output_type": "stream",
     "text": [
      "Child returned 0\n"
     ]
    },
    {
     "name": "stdout",
     "output_type": "stream",
     "text": [
      "/shared/CSHL_patch_features/inception-bn-blue/MD590/MD590-IHC38-2015.08.10-20.37.21_MD590_3_0112_lossless_alignedTo_MD590-N47-2015.09.12-05.32.06_MD590_2_0140_cropped/MD590-IHC38-2015.08.10-20.37.21_MD590_3_0112_lossless_alignedTo_MD590-N47-2015.09.12-05.32.06_MD590_2_0140_cropped_patch_locations.txt\n",
      "/shared/CSHL_patch_features/inception-bn-blue/MD590/MD590_lossless_alignedTo_MD590-N47-2015.09.12-05.32.06_MD590_2_0140_cropped_gray/MD590-IHC38-2015.08.10-20.37.21_MD590_3_0112_lossless_alignedTo_MD590-N47-2015.09.12-05.32.06_MD590_2_0140_cropped_gray_patch_locations.txt\n",
      "aws s3 cp s3://mousebrainatlas-data/CSHL_patch_features/inception-bn-blue/MD590/MD590-IHC38-2015.08.10-20.37.21_MD590_3_0112_lossless_alignedTo_MD590-N47-2015.09.12-05.32.06_MD590_2_0140_cropped/MD590-IHC38-2015.08.10-20.37.21_MD590_3_0112_lossless_alignedTo_MD590-N47-2015.09.12-05.32.06_MD590_2_0140_cropped_patch_locations.txt s3://mousebrainatlas-data/CSHL_patch_features/inception-bn-blue/MD590/MD590_lossless_alignedTo_MD590-N47-2015.09.12-05.32.06_MD590_2_0140_cropped_gray/MD590-IHC38-2015.08.10-20.37.21_MD590_3_0112_lossless_alignedTo_MD590-N47-2015.09.12-05.32.06_MD590_2_0140_cropped_gray_patch_locations.txt\n"
     ]
    },
    {
     "name": "stderr",
     "output_type": "stream",
     "text": [
      "Child returned 0\n"
     ]
    },
    {
     "name": "stdout",
     "output_type": "stream",
     "text": [
      "/shared/CSHL_patch_features/inception-bn-blue/MD590/MD590-N38-2015.08.03-19.33.46_MD590_1_0114_lossless_alignedTo_MD590-N47-2015.09.12-05.32.06_MD590_2_0140_cropped/MD590-N38-2015.08.03-19.33.46_MD590_1_0114_lossless_alignedTo_MD590-N47-2015.09.12-05.32.06_MD590_2_0140_cropped_features.bp\n",
      "/shared/CSHL_patch_features/inception-bn-blue/MD590/MD590_lossless_alignedTo_MD590-N47-2015.09.12-05.32.06_MD590_2_0140_cropped_gray/MD590-N38-2015.08.03-19.33.46_MD590_1_0114_lossless_alignedTo_MD590-N47-2015.09.12-05.32.06_MD590_2_0140_cropped_gray_features.bp\n",
      "aws s3 cp s3://mousebrainatlas-data/CSHL_patch_features/inception-bn-blue/MD590/MD590-N38-2015.08.03-19.33.46_MD590_1_0114_lossless_alignedTo_MD590-N47-2015.09.12-05.32.06_MD590_2_0140_cropped/MD590-N38-2015.08.03-19.33.46_MD590_1_0114_lossless_alignedTo_MD590-N47-2015.09.12-05.32.06_MD590_2_0140_cropped_features.bp s3://mousebrainatlas-data/CSHL_patch_features/inception-bn-blue/MD590/MD590_lossless_alignedTo_MD590-N47-2015.09.12-05.32.06_MD590_2_0140_cropped_gray/MD590-N38-2015.08.03-19.33.46_MD590_1_0114_lossless_alignedTo_MD590-N47-2015.09.12-05.32.06_MD590_2_0140_cropped_gray_features.bp\n"
     ]
    },
    {
     "name": "stderr",
     "output_type": "stream",
     "text": [
      "Child returned 0\n"
     ]
    },
    {
     "name": "stdout",
     "output_type": "stream",
     "text": [
      "/shared/CSHL_patch_features/inception-bn-blue/MD590/MD590-N38-2015.08.03-19.33.46_MD590_1_0114_lossless_alignedTo_MD590-N47-2015.09.12-05.32.06_MD590_2_0140_cropped/MD590-N38-2015.08.03-19.33.46_MD590_1_0114_lossless_alignedTo_MD590-N47-2015.09.12-05.32.06_MD590_2_0140_cropped_patch_locations.txt\n",
      "/shared/CSHL_patch_features/inception-bn-blue/MD590/MD590_lossless_alignedTo_MD590-N47-2015.09.12-05.32.06_MD590_2_0140_cropped_gray/MD590-N38-2015.08.03-19.33.46_MD590_1_0114_lossless_alignedTo_MD590-N47-2015.09.12-05.32.06_MD590_2_0140_cropped_gray_patch_locations.txt\n",
      "aws s3 cp s3://mousebrainatlas-data/CSHL_patch_features/inception-bn-blue/MD590/MD590-N38-2015.08.03-19.33.46_MD590_1_0114_lossless_alignedTo_MD590-N47-2015.09.12-05.32.06_MD590_2_0140_cropped/MD590-N38-2015.08.03-19.33.46_MD590_1_0114_lossless_alignedTo_MD590-N47-2015.09.12-05.32.06_MD590_2_0140_cropped_patch_locations.txt s3://mousebrainatlas-data/CSHL_patch_features/inception-bn-blue/MD590/MD590_lossless_alignedTo_MD590-N47-2015.09.12-05.32.06_MD590_2_0140_cropped_gray/MD590-N38-2015.08.03-19.33.46_MD590_1_0114_lossless_alignedTo_MD590-N47-2015.09.12-05.32.06_MD590_2_0140_cropped_gray_patch_locations.txt\n"
     ]
    },
    {
     "name": "stderr",
     "output_type": "stream",
     "text": [
      "Child returned 0\n"
     ]
    },
    {
     "name": "stdout",
     "output_type": "stream",
     "text": [
      "/shared/CSHL_patch_features/inception-bn-blue/MD590/MD590-IHC38-2015.08.10-20.37.21_MD590_1_0114_lossless_alignedTo_MD590-N47-2015.09.12-05.32.06_MD590_2_0140_cropped/MD590-IHC38-2015.08.10-20.37.21_MD590_1_0114_lossless_alignedTo_MD590-N47-2015.09.12-05.32.06_MD590_2_0140_cropped_features.bp\n",
      "/shared/CSHL_patch_features/inception-bn-blue/MD590/MD590_lossless_alignedTo_MD590-N47-2015.09.12-05.32.06_MD590_2_0140_cropped_gray/MD590-IHC38-2015.08.10-20.37.21_MD590_1_0114_lossless_alignedTo_MD590-N47-2015.09.12-05.32.06_MD590_2_0140_cropped_gray_features.bp\n",
      "aws s3 cp s3://mousebrainatlas-data/CSHL_patch_features/inception-bn-blue/MD590/MD590-IHC38-2015.08.10-20.37.21_MD590_1_0114_lossless_alignedTo_MD590-N47-2015.09.12-05.32.06_MD590_2_0140_cropped/MD590-IHC38-2015.08.10-20.37.21_MD590_1_0114_lossless_alignedTo_MD590-N47-2015.09.12-05.32.06_MD590_2_0140_cropped_features.bp s3://mousebrainatlas-data/CSHL_patch_features/inception-bn-blue/MD590/MD590_lossless_alignedTo_MD590-N47-2015.09.12-05.32.06_MD590_2_0140_cropped_gray/MD590-IHC38-2015.08.10-20.37.21_MD590_1_0114_lossless_alignedTo_MD590-N47-2015.09.12-05.32.06_MD590_2_0140_cropped_gray_features.bp\n"
     ]
    },
    {
     "name": "stderr",
     "output_type": "stream",
     "text": [
      "Child returned 0\n"
     ]
    },
    {
     "name": "stdout",
     "output_type": "stream",
     "text": [
      "/shared/CSHL_patch_features/inception-bn-blue/MD590/MD590-IHC38-2015.08.10-20.37.21_MD590_1_0114_lossless_alignedTo_MD590-N47-2015.09.12-05.32.06_MD590_2_0140_cropped/MD590-IHC38-2015.08.10-20.37.21_MD590_1_0114_lossless_alignedTo_MD590-N47-2015.09.12-05.32.06_MD590_2_0140_cropped_patch_locations.txt\n",
      "/shared/CSHL_patch_features/inception-bn-blue/MD590/MD590_lossless_alignedTo_MD590-N47-2015.09.12-05.32.06_MD590_2_0140_cropped_gray/MD590-IHC38-2015.08.10-20.37.21_MD590_1_0114_lossless_alignedTo_MD590-N47-2015.09.12-05.32.06_MD590_2_0140_cropped_gray_patch_locations.txt\n",
      "aws s3 cp s3://mousebrainatlas-data/CSHL_patch_features/inception-bn-blue/MD590/MD590-IHC38-2015.08.10-20.37.21_MD590_1_0114_lossless_alignedTo_MD590-N47-2015.09.12-05.32.06_MD590_2_0140_cropped/MD590-IHC38-2015.08.10-20.37.21_MD590_1_0114_lossless_alignedTo_MD590-N47-2015.09.12-05.32.06_MD590_2_0140_cropped_patch_locations.txt s3://mousebrainatlas-data/CSHL_patch_features/inception-bn-blue/MD590/MD590_lossless_alignedTo_MD590-N47-2015.09.12-05.32.06_MD590_2_0140_cropped_gray/MD590-IHC38-2015.08.10-20.37.21_MD590_1_0114_lossless_alignedTo_MD590-N47-2015.09.12-05.32.06_MD590_2_0140_cropped_gray_patch_locations.txt\n"
     ]
    },
    {
     "name": "stderr",
     "output_type": "stream",
     "text": [
      "Child returned 0\n"
     ]
    },
    {
     "name": "stdout",
     "output_type": "stream",
     "text": [
      "/shared/CSHL_patch_features/inception-bn-blue/MD590/MD590-N39-2015.08.03-19.37.45_MD590_3_0115_lossless_alignedTo_MD590-N47-2015.09.12-05.32.06_MD590_2_0140_cropped/MD590-N39-2015.08.03-19.37.45_MD590_3_0115_lossless_alignedTo_MD590-N47-2015.09.12-05.32.06_MD590_2_0140_cropped_features.bp\n",
      "/shared/CSHL_patch_features/inception-bn-blue/MD590/MD590_lossless_alignedTo_MD590-N47-2015.09.12-05.32.06_MD590_2_0140_cropped_gray/MD590-N39-2015.08.03-19.37.45_MD590_3_0115_lossless_alignedTo_MD590-N47-2015.09.12-05.32.06_MD590_2_0140_cropped_gray_features.bp\n",
      "aws s3 cp s3://mousebrainatlas-data/CSHL_patch_features/inception-bn-blue/MD590/MD590-N39-2015.08.03-19.37.45_MD590_3_0115_lossless_alignedTo_MD590-N47-2015.09.12-05.32.06_MD590_2_0140_cropped/MD590-N39-2015.08.03-19.37.45_MD590_3_0115_lossless_alignedTo_MD590-N47-2015.09.12-05.32.06_MD590_2_0140_cropped_features.bp s3://mousebrainatlas-data/CSHL_patch_features/inception-bn-blue/MD590/MD590_lossless_alignedTo_MD590-N47-2015.09.12-05.32.06_MD590_2_0140_cropped_gray/MD590-N39-2015.08.03-19.37.45_MD590_3_0115_lossless_alignedTo_MD590-N47-2015.09.12-05.32.06_MD590_2_0140_cropped_gray_features.bp\n"
     ]
    },
    {
     "name": "stderr",
     "output_type": "stream",
     "text": [
      "Child returned 0\n"
     ]
    },
    {
     "name": "stdout",
     "output_type": "stream",
     "text": [
      "/shared/CSHL_patch_features/inception-bn-blue/MD590/MD590-N39-2015.08.03-19.37.45_MD590_3_0115_lossless_alignedTo_MD590-N47-2015.09.12-05.32.06_MD590_2_0140_cropped/MD590-N39-2015.08.03-19.37.45_MD590_3_0115_lossless_alignedTo_MD590-N47-2015.09.12-05.32.06_MD590_2_0140_cropped_patch_locations.txt\n",
      "/shared/CSHL_patch_features/inception-bn-blue/MD590/MD590_lossless_alignedTo_MD590-N47-2015.09.12-05.32.06_MD590_2_0140_cropped_gray/MD590-N39-2015.08.03-19.37.45_MD590_3_0115_lossless_alignedTo_MD590-N47-2015.09.12-05.32.06_MD590_2_0140_cropped_gray_patch_locations.txt\n",
      "aws s3 cp s3://mousebrainatlas-data/CSHL_patch_features/inception-bn-blue/MD590/MD590-N39-2015.08.03-19.37.45_MD590_3_0115_lossless_alignedTo_MD590-N47-2015.09.12-05.32.06_MD590_2_0140_cropped/MD590-N39-2015.08.03-19.37.45_MD590_3_0115_lossless_alignedTo_MD590-N47-2015.09.12-05.32.06_MD590_2_0140_cropped_patch_locations.txt s3://mousebrainatlas-data/CSHL_patch_features/inception-bn-blue/MD590/MD590_lossless_alignedTo_MD590-N47-2015.09.12-05.32.06_MD590_2_0140_cropped_gray/MD590-N39-2015.08.03-19.37.45_MD590_3_0115_lossless_alignedTo_MD590-N47-2015.09.12-05.32.06_MD590_2_0140_cropped_gray_patch_locations.txt\n"
     ]
    },
    {
     "name": "stderr",
     "output_type": "stream",
     "text": [
      "Child returned 0\n"
     ]
    },
    {
     "name": "stdout",
     "output_type": "stream",
     "text": [
      "/shared/CSHL_patch_features/inception-bn-blue/MD590/MD590-IHC39-2015.08.10-20.41.34_MD590_3_0115_lossless_alignedTo_MD590-N47-2015.09.12-05.32.06_MD590_2_0140_cropped/MD590-IHC39-2015.08.10-20.41.34_MD590_3_0115_lossless_alignedTo_MD590-N47-2015.09.12-05.32.06_MD590_2_0140_cropped_features.bp\n",
      "/shared/CSHL_patch_features/inception-bn-blue/MD590/MD590_lossless_alignedTo_MD590-N47-2015.09.12-05.32.06_MD590_2_0140_cropped_gray/MD590-IHC39-2015.08.10-20.41.34_MD590_3_0115_lossless_alignedTo_MD590-N47-2015.09.12-05.32.06_MD590_2_0140_cropped_gray_features.bp\n",
      "aws s3 cp s3://mousebrainatlas-data/CSHL_patch_features/inception-bn-blue/MD590/MD590-IHC39-2015.08.10-20.41.34_MD590_3_0115_lossless_alignedTo_MD590-N47-2015.09.12-05.32.06_MD590_2_0140_cropped/MD590-IHC39-2015.08.10-20.41.34_MD590_3_0115_lossless_alignedTo_MD590-N47-2015.09.12-05.32.06_MD590_2_0140_cropped_features.bp s3://mousebrainatlas-data/CSHL_patch_features/inception-bn-blue/MD590/MD590_lossless_alignedTo_MD590-N47-2015.09.12-05.32.06_MD590_2_0140_cropped_gray/MD590-IHC39-2015.08.10-20.41.34_MD590_3_0115_lossless_alignedTo_MD590-N47-2015.09.12-05.32.06_MD590_2_0140_cropped_gray_features.bp\n"
     ]
    },
    {
     "name": "stderr",
     "output_type": "stream",
     "text": [
      "Child returned 0\n"
     ]
    },
    {
     "name": "stdout",
     "output_type": "stream",
     "text": [
      "/shared/CSHL_patch_features/inception-bn-blue/MD590/MD590-IHC39-2015.08.10-20.41.34_MD590_3_0115_lossless_alignedTo_MD590-N47-2015.09.12-05.32.06_MD590_2_0140_cropped/MD590-IHC39-2015.08.10-20.41.34_MD590_3_0115_lossless_alignedTo_MD590-N47-2015.09.12-05.32.06_MD590_2_0140_cropped_patch_locations.txt\n",
      "/shared/CSHL_patch_features/inception-bn-blue/MD590/MD590_lossless_alignedTo_MD590-N47-2015.09.12-05.32.06_MD590_2_0140_cropped_gray/MD590-IHC39-2015.08.10-20.41.34_MD590_3_0115_lossless_alignedTo_MD590-N47-2015.09.12-05.32.06_MD590_2_0140_cropped_gray_patch_locations.txt\n",
      "aws s3 cp s3://mousebrainatlas-data/CSHL_patch_features/inception-bn-blue/MD590/MD590-IHC39-2015.08.10-20.41.34_MD590_3_0115_lossless_alignedTo_MD590-N47-2015.09.12-05.32.06_MD590_2_0140_cropped/MD590-IHC39-2015.08.10-20.41.34_MD590_3_0115_lossless_alignedTo_MD590-N47-2015.09.12-05.32.06_MD590_2_0140_cropped_patch_locations.txt s3://mousebrainatlas-data/CSHL_patch_features/inception-bn-blue/MD590/MD590_lossless_alignedTo_MD590-N47-2015.09.12-05.32.06_MD590_2_0140_cropped_gray/MD590-IHC39-2015.08.10-20.41.34_MD590_3_0115_lossless_alignedTo_MD590-N47-2015.09.12-05.32.06_MD590_2_0140_cropped_gray_patch_locations.txt\n"
     ]
    },
    {
     "name": "stderr",
     "output_type": "stream",
     "text": [
      "Child returned 0\n"
     ]
    },
    {
     "name": "stdout",
     "output_type": "stream",
     "text": [
      "/shared/CSHL_patch_features/inception-bn-blue/MD590/MD590-N39-2015.08.03-19.37.45_MD590_1_0117_lossless_alignedTo_MD590-N47-2015.09.12-05.32.06_MD590_2_0140_cropped/MD590-N39-2015.08.03-19.37.45_MD590_1_0117_lossless_alignedTo_MD590-N47-2015.09.12-05.32.06_MD590_2_0140_cropped_features.bp\n",
      "/shared/CSHL_patch_features/inception-bn-blue/MD590/MD590_lossless_alignedTo_MD590-N47-2015.09.12-05.32.06_MD590_2_0140_cropped_gray/MD590-N39-2015.08.03-19.37.45_MD590_1_0117_lossless_alignedTo_MD590-N47-2015.09.12-05.32.06_MD590_2_0140_cropped_gray_features.bp\n",
      "aws s3 cp s3://mousebrainatlas-data/CSHL_patch_features/inception-bn-blue/MD590/MD590-N39-2015.08.03-19.37.45_MD590_1_0117_lossless_alignedTo_MD590-N47-2015.09.12-05.32.06_MD590_2_0140_cropped/MD590-N39-2015.08.03-19.37.45_MD590_1_0117_lossless_alignedTo_MD590-N47-2015.09.12-05.32.06_MD590_2_0140_cropped_features.bp s3://mousebrainatlas-data/CSHL_patch_features/inception-bn-blue/MD590/MD590_lossless_alignedTo_MD590-N47-2015.09.12-05.32.06_MD590_2_0140_cropped_gray/MD590-N39-2015.08.03-19.37.45_MD590_1_0117_lossless_alignedTo_MD590-N47-2015.09.12-05.32.06_MD590_2_0140_cropped_gray_features.bp\n"
     ]
    },
    {
     "name": "stderr",
     "output_type": "stream",
     "text": [
      "Child returned 0\n"
     ]
    },
    {
     "name": "stdout",
     "output_type": "stream",
     "text": [
      "/shared/CSHL_patch_features/inception-bn-blue/MD590/MD590-N39-2015.08.03-19.37.45_MD590_1_0117_lossless_alignedTo_MD590-N47-2015.09.12-05.32.06_MD590_2_0140_cropped/MD590-N39-2015.08.03-19.37.45_MD590_1_0117_lossless_alignedTo_MD590-N47-2015.09.12-05.32.06_MD590_2_0140_cropped_patch_locations.txt\n",
      "/shared/CSHL_patch_features/inception-bn-blue/MD590/MD590_lossless_alignedTo_MD590-N47-2015.09.12-05.32.06_MD590_2_0140_cropped_gray/MD590-N39-2015.08.03-19.37.45_MD590_1_0117_lossless_alignedTo_MD590-N47-2015.09.12-05.32.06_MD590_2_0140_cropped_gray_patch_locations.txt\n",
      "aws s3 cp s3://mousebrainatlas-data/CSHL_patch_features/inception-bn-blue/MD590/MD590-N39-2015.08.03-19.37.45_MD590_1_0117_lossless_alignedTo_MD590-N47-2015.09.12-05.32.06_MD590_2_0140_cropped/MD590-N39-2015.08.03-19.37.45_MD590_1_0117_lossless_alignedTo_MD590-N47-2015.09.12-05.32.06_MD590_2_0140_cropped_patch_locations.txt s3://mousebrainatlas-data/CSHL_patch_features/inception-bn-blue/MD590/MD590_lossless_alignedTo_MD590-N47-2015.09.12-05.32.06_MD590_2_0140_cropped_gray/MD590-N39-2015.08.03-19.37.45_MD590_1_0117_lossless_alignedTo_MD590-N47-2015.09.12-05.32.06_MD590_2_0140_cropped_gray_patch_locations.txt\n"
     ]
    },
    {
     "name": "stderr",
     "output_type": "stream",
     "text": [
      "Child returned 0\n"
     ]
    },
    {
     "name": "stdout",
     "output_type": "stream",
     "text": [
      "/shared/CSHL_patch_features/inception-bn-blue/MD590/MD590-IHC39-2015.08.10-20.41.34_MD590_2_0116_lossless_alignedTo_MD590-N47-2015.09.12-05.32.06_MD590_2_0140_cropped/MD590-IHC39-2015.08.10-20.41.34_MD590_2_0116_lossless_alignedTo_MD590-N47-2015.09.12-05.32.06_MD590_2_0140_cropped_features.bp\n",
      "/shared/CSHL_patch_features/inception-bn-blue/MD590/MD590_lossless_alignedTo_MD590-N47-2015.09.12-05.32.06_MD590_2_0140_cropped_gray/MD590-IHC39-2015.08.10-20.41.34_MD590_2_0116_lossless_alignedTo_MD590-N47-2015.09.12-05.32.06_MD590_2_0140_cropped_gray_features.bp\n",
      "aws s3 cp s3://mousebrainatlas-data/CSHL_patch_features/inception-bn-blue/MD590/MD590-IHC39-2015.08.10-20.41.34_MD590_2_0116_lossless_alignedTo_MD590-N47-2015.09.12-05.32.06_MD590_2_0140_cropped/MD590-IHC39-2015.08.10-20.41.34_MD590_2_0116_lossless_alignedTo_MD590-N47-2015.09.12-05.32.06_MD590_2_0140_cropped_features.bp s3://mousebrainatlas-data/CSHL_patch_features/inception-bn-blue/MD590/MD590_lossless_alignedTo_MD590-N47-2015.09.12-05.32.06_MD590_2_0140_cropped_gray/MD590-IHC39-2015.08.10-20.41.34_MD590_2_0116_lossless_alignedTo_MD590-N47-2015.09.12-05.32.06_MD590_2_0140_cropped_gray_features.bp\n"
     ]
    },
    {
     "name": "stderr",
     "output_type": "stream",
     "text": [
      "Child returned 0\n"
     ]
    },
    {
     "name": "stdout",
     "output_type": "stream",
     "text": [
      "/shared/CSHL_patch_features/inception-bn-blue/MD590/MD590-IHC39-2015.08.10-20.41.34_MD590_2_0116_lossless_alignedTo_MD590-N47-2015.09.12-05.32.06_MD590_2_0140_cropped/MD590-IHC39-2015.08.10-20.41.34_MD590_2_0116_lossless_alignedTo_MD590-N47-2015.09.12-05.32.06_MD590_2_0140_cropped_patch_locations.txt\n",
      "/shared/CSHL_patch_features/inception-bn-blue/MD590/MD590_lossless_alignedTo_MD590-N47-2015.09.12-05.32.06_MD590_2_0140_cropped_gray/MD590-IHC39-2015.08.10-20.41.34_MD590_2_0116_lossless_alignedTo_MD590-N47-2015.09.12-05.32.06_MD590_2_0140_cropped_gray_patch_locations.txt\n",
      "aws s3 cp s3://mousebrainatlas-data/CSHL_patch_features/inception-bn-blue/MD590/MD590-IHC39-2015.08.10-20.41.34_MD590_2_0116_lossless_alignedTo_MD590-N47-2015.09.12-05.32.06_MD590_2_0140_cropped/MD590-IHC39-2015.08.10-20.41.34_MD590_2_0116_lossless_alignedTo_MD590-N47-2015.09.12-05.32.06_MD590_2_0140_cropped_patch_locations.txt s3://mousebrainatlas-data/CSHL_patch_features/inception-bn-blue/MD590/MD590_lossless_alignedTo_MD590-N47-2015.09.12-05.32.06_MD590_2_0140_cropped_gray/MD590-IHC39-2015.08.10-20.41.34_MD590_2_0116_lossless_alignedTo_MD590-N47-2015.09.12-05.32.06_MD590_2_0140_cropped_gray_patch_locations.txt\n"
     ]
    },
    {
     "name": "stderr",
     "output_type": "stream",
     "text": [
      "Child returned 0\n"
     ]
    },
    {
     "name": "stdout",
     "output_type": "stream",
     "text": [
      "/shared/CSHL_patch_features/inception-bn-blue/MD590/MD590-N40-2015.09.12-05.27.06_MD590_1_0118_lossless_alignedTo_MD590-N47-2015.09.12-05.32.06_MD590_2_0140_cropped/MD590-N40-2015.09.12-05.27.06_MD590_1_0118_lossless_alignedTo_MD590-N47-2015.09.12-05.32.06_MD590_2_0140_cropped_features.bp\n",
      "/shared/CSHL_patch_features/inception-bn-blue/MD590/MD590_lossless_alignedTo_MD590-N47-2015.09.12-05.32.06_MD590_2_0140_cropped_gray/MD590-N40-2015.09.12-05.27.06_MD590_1_0118_lossless_alignedTo_MD590-N47-2015.09.12-05.32.06_MD590_2_0140_cropped_gray_features.bp\n",
      "aws s3 cp s3://mousebrainatlas-data/CSHL_patch_features/inception-bn-blue/MD590/MD590-N40-2015.09.12-05.27.06_MD590_1_0118_lossless_alignedTo_MD590-N47-2015.09.12-05.32.06_MD590_2_0140_cropped/MD590-N40-2015.09.12-05.27.06_MD590_1_0118_lossless_alignedTo_MD590-N47-2015.09.12-05.32.06_MD590_2_0140_cropped_features.bp s3://mousebrainatlas-data/CSHL_patch_features/inception-bn-blue/MD590/MD590_lossless_alignedTo_MD590-N47-2015.09.12-05.32.06_MD590_2_0140_cropped_gray/MD590-N40-2015.09.12-05.27.06_MD590_1_0118_lossless_alignedTo_MD590-N47-2015.09.12-05.32.06_MD590_2_0140_cropped_gray_features.bp\n"
     ]
    },
    {
     "name": "stderr",
     "output_type": "stream",
     "text": [
      "Child returned 0\n"
     ]
    },
    {
     "name": "stdout",
     "output_type": "stream",
     "text": [
      "/shared/CSHL_patch_features/inception-bn-blue/MD590/MD590-N40-2015.09.12-05.27.06_MD590_1_0118_lossless_alignedTo_MD590-N47-2015.09.12-05.32.06_MD590_2_0140_cropped/MD590-N40-2015.09.12-05.27.06_MD590_1_0118_lossless_alignedTo_MD590-N47-2015.09.12-05.32.06_MD590_2_0140_cropped_patch_locations.txt\n",
      "/shared/CSHL_patch_features/inception-bn-blue/MD590/MD590_lossless_alignedTo_MD590-N47-2015.09.12-05.32.06_MD590_2_0140_cropped_gray/MD590-N40-2015.09.12-05.27.06_MD590_1_0118_lossless_alignedTo_MD590-N47-2015.09.12-05.32.06_MD590_2_0140_cropped_gray_patch_locations.txt\n",
      "aws s3 cp s3://mousebrainatlas-data/CSHL_patch_features/inception-bn-blue/MD590/MD590-N40-2015.09.12-05.27.06_MD590_1_0118_lossless_alignedTo_MD590-N47-2015.09.12-05.32.06_MD590_2_0140_cropped/MD590-N40-2015.09.12-05.27.06_MD590_1_0118_lossless_alignedTo_MD590-N47-2015.09.12-05.32.06_MD590_2_0140_cropped_patch_locations.txt s3://mousebrainatlas-data/CSHL_patch_features/inception-bn-blue/MD590/MD590_lossless_alignedTo_MD590-N47-2015.09.12-05.32.06_MD590_2_0140_cropped_gray/MD590-N40-2015.09.12-05.27.06_MD590_1_0118_lossless_alignedTo_MD590-N47-2015.09.12-05.32.06_MD590_2_0140_cropped_gray_patch_locations.txt\n"
     ]
    },
    {
     "name": "stderr",
     "output_type": "stream",
     "text": [
      "Child returned 0\n"
     ]
    },
    {
     "name": "stdout",
     "output_type": "stream",
     "text": [
      "/shared/CSHL_patch_features/inception-bn-blue/MD590/MD590-IHC40-2015.08.10-20.45.53_MD590_3_0118_lossless_alignedTo_MD590-N47-2015.09.12-05.32.06_MD590_2_0140_cropped/MD590-IHC40-2015.08.10-20.45.53_MD590_3_0118_lossless_alignedTo_MD590-N47-2015.09.12-05.32.06_MD590_2_0140_cropped_features.bp\n",
      "/shared/CSHL_patch_features/inception-bn-blue/MD590/MD590_lossless_alignedTo_MD590-N47-2015.09.12-05.32.06_MD590_2_0140_cropped_gray/MD590-IHC40-2015.08.10-20.45.53_MD590_3_0118_lossless_alignedTo_MD590-N47-2015.09.12-05.32.06_MD590_2_0140_cropped_gray_features.bp\n",
      "aws s3 cp s3://mousebrainatlas-data/CSHL_patch_features/inception-bn-blue/MD590/MD590-IHC40-2015.08.10-20.45.53_MD590_3_0118_lossless_alignedTo_MD590-N47-2015.09.12-05.32.06_MD590_2_0140_cropped/MD590-IHC40-2015.08.10-20.45.53_MD590_3_0118_lossless_alignedTo_MD590-N47-2015.09.12-05.32.06_MD590_2_0140_cropped_features.bp s3://mousebrainatlas-data/CSHL_patch_features/inception-bn-blue/MD590/MD590_lossless_alignedTo_MD590-N47-2015.09.12-05.32.06_MD590_2_0140_cropped_gray/MD590-IHC40-2015.08.10-20.45.53_MD590_3_0118_lossless_alignedTo_MD590-N47-2015.09.12-05.32.06_MD590_2_0140_cropped_gray_features.bp\n"
     ]
    },
    {
     "name": "stderr",
     "output_type": "stream",
     "text": [
      "Child returned 0\n"
     ]
    },
    {
     "name": "stdout",
     "output_type": "stream",
     "text": [
      "/shared/CSHL_patch_features/inception-bn-blue/MD590/MD590-IHC40-2015.08.10-20.45.53_MD590_3_0118_lossless_alignedTo_MD590-N47-2015.09.12-05.32.06_MD590_2_0140_cropped/MD590-IHC40-2015.08.10-20.45.53_MD590_3_0118_lossless_alignedTo_MD590-N47-2015.09.12-05.32.06_MD590_2_0140_cropped_patch_locations.txt\n",
      "/shared/CSHL_patch_features/inception-bn-blue/MD590/MD590_lossless_alignedTo_MD590-N47-2015.09.12-05.32.06_MD590_2_0140_cropped_gray/MD590-IHC40-2015.08.10-20.45.53_MD590_3_0118_lossless_alignedTo_MD590-N47-2015.09.12-05.32.06_MD590_2_0140_cropped_gray_patch_locations.txt\n",
      "aws s3 cp s3://mousebrainatlas-data/CSHL_patch_features/inception-bn-blue/MD590/MD590-IHC40-2015.08.10-20.45.53_MD590_3_0118_lossless_alignedTo_MD590-N47-2015.09.12-05.32.06_MD590_2_0140_cropped/MD590-IHC40-2015.08.10-20.45.53_MD590_3_0118_lossless_alignedTo_MD590-N47-2015.09.12-05.32.06_MD590_2_0140_cropped_patch_locations.txt s3://mousebrainatlas-data/CSHL_patch_features/inception-bn-blue/MD590/MD590_lossless_alignedTo_MD590-N47-2015.09.12-05.32.06_MD590_2_0140_cropped_gray/MD590-IHC40-2015.08.10-20.45.53_MD590_3_0118_lossless_alignedTo_MD590-N47-2015.09.12-05.32.06_MD590_2_0140_cropped_gray_patch_locations.txt\n"
     ]
    },
    {
     "name": "stderr",
     "output_type": "stream",
     "text": [
      "Child returned 0\n"
     ]
    },
    {
     "name": "stdout",
     "output_type": "stream",
     "text": [
      "/shared/CSHL_patch_features/inception-bn-blue/MD590/MD590-N40-2015.09.12-05.27.06_MD590_2_0119_lossless_alignedTo_MD590-N47-2015.09.12-05.32.06_MD590_2_0140_cropped/MD590-N40-2015.09.12-05.27.06_MD590_2_0119_lossless_alignedTo_MD590-N47-2015.09.12-05.32.06_MD590_2_0140_cropped_features.bp\n",
      "/shared/CSHL_patch_features/inception-bn-blue/MD590/MD590_lossless_alignedTo_MD590-N47-2015.09.12-05.32.06_MD590_2_0140_cropped_gray/MD590-N40-2015.09.12-05.27.06_MD590_2_0119_lossless_alignedTo_MD590-N47-2015.09.12-05.32.06_MD590_2_0140_cropped_gray_features.bp\n",
      "aws s3 cp s3://mousebrainatlas-data/CSHL_patch_features/inception-bn-blue/MD590/MD590-N40-2015.09.12-05.27.06_MD590_2_0119_lossless_alignedTo_MD590-N47-2015.09.12-05.32.06_MD590_2_0140_cropped/MD590-N40-2015.09.12-05.27.06_MD590_2_0119_lossless_alignedTo_MD590-N47-2015.09.12-05.32.06_MD590_2_0140_cropped_features.bp s3://mousebrainatlas-data/CSHL_patch_features/inception-bn-blue/MD590/MD590_lossless_alignedTo_MD590-N47-2015.09.12-05.32.06_MD590_2_0140_cropped_gray/MD590-N40-2015.09.12-05.27.06_MD590_2_0119_lossless_alignedTo_MD590-N47-2015.09.12-05.32.06_MD590_2_0140_cropped_gray_features.bp\n"
     ]
    },
    {
     "name": "stderr",
     "output_type": "stream",
     "text": [
      "Child returned 0\n"
     ]
    },
    {
     "name": "stdout",
     "output_type": "stream",
     "text": [
      "/shared/CSHL_patch_features/inception-bn-blue/MD590/MD590-N40-2015.09.12-05.27.06_MD590_2_0119_lossless_alignedTo_MD590-N47-2015.09.12-05.32.06_MD590_2_0140_cropped/MD590-N40-2015.09.12-05.27.06_MD590_2_0119_lossless_alignedTo_MD590-N47-2015.09.12-05.32.06_MD590_2_0140_cropped_patch_locations.txt\n",
      "/shared/CSHL_patch_features/inception-bn-blue/MD590/MD590_lossless_alignedTo_MD590-N47-2015.09.12-05.32.06_MD590_2_0140_cropped_gray/MD590-N40-2015.09.12-05.27.06_MD590_2_0119_lossless_alignedTo_MD590-N47-2015.09.12-05.32.06_MD590_2_0140_cropped_gray_patch_locations.txt\n",
      "aws s3 cp s3://mousebrainatlas-data/CSHL_patch_features/inception-bn-blue/MD590/MD590-N40-2015.09.12-05.27.06_MD590_2_0119_lossless_alignedTo_MD590-N47-2015.09.12-05.32.06_MD590_2_0140_cropped/MD590-N40-2015.09.12-05.27.06_MD590_2_0119_lossless_alignedTo_MD590-N47-2015.09.12-05.32.06_MD590_2_0140_cropped_patch_locations.txt s3://mousebrainatlas-data/CSHL_patch_features/inception-bn-blue/MD590/MD590_lossless_alignedTo_MD590-N47-2015.09.12-05.32.06_MD590_2_0140_cropped_gray/MD590-N40-2015.09.12-05.27.06_MD590_2_0119_lossless_alignedTo_MD590-N47-2015.09.12-05.32.06_MD590_2_0140_cropped_gray_patch_locations.txt\n"
     ]
    },
    {
     "name": "stderr",
     "output_type": "stream",
     "text": [
      "Child returned 0\n"
     ]
    },
    {
     "name": "stdout",
     "output_type": "stream",
     "text": [
      "/shared/CSHL_patch_features/inception-bn-blue/MD590/MD590-IHC40-2015.08.10-20.45.53_MD590_1_0120_lossless_alignedTo_MD590-N47-2015.09.12-05.32.06_MD590_2_0140_cropped/MD590-IHC40-2015.08.10-20.45.53_MD590_1_0120_lossless_alignedTo_MD590-N47-2015.09.12-05.32.06_MD590_2_0140_cropped_features.bp\n",
      "/shared/CSHL_patch_features/inception-bn-blue/MD590/MD590_lossless_alignedTo_MD590-N47-2015.09.12-05.32.06_MD590_2_0140_cropped_gray/MD590-IHC40-2015.08.10-20.45.53_MD590_1_0120_lossless_alignedTo_MD590-N47-2015.09.12-05.32.06_MD590_2_0140_cropped_gray_features.bp\n",
      "aws s3 cp s3://mousebrainatlas-data/CSHL_patch_features/inception-bn-blue/MD590/MD590-IHC40-2015.08.10-20.45.53_MD590_1_0120_lossless_alignedTo_MD590-N47-2015.09.12-05.32.06_MD590_2_0140_cropped/MD590-IHC40-2015.08.10-20.45.53_MD590_1_0120_lossless_alignedTo_MD590-N47-2015.09.12-05.32.06_MD590_2_0140_cropped_features.bp s3://mousebrainatlas-data/CSHL_patch_features/inception-bn-blue/MD590/MD590_lossless_alignedTo_MD590-N47-2015.09.12-05.32.06_MD590_2_0140_cropped_gray/MD590-IHC40-2015.08.10-20.45.53_MD590_1_0120_lossless_alignedTo_MD590-N47-2015.09.12-05.32.06_MD590_2_0140_cropped_gray_features.bp\n"
     ]
    },
    {
     "name": "stderr",
     "output_type": "stream",
     "text": [
      "Child returned 0\n"
     ]
    },
    {
     "name": "stdout",
     "output_type": "stream",
     "text": [
      "/shared/CSHL_patch_features/inception-bn-blue/MD590/MD590-IHC40-2015.08.10-20.45.53_MD590_1_0120_lossless_alignedTo_MD590-N47-2015.09.12-05.32.06_MD590_2_0140_cropped/MD590-IHC40-2015.08.10-20.45.53_MD590_1_0120_lossless_alignedTo_MD590-N47-2015.09.12-05.32.06_MD590_2_0140_cropped_patch_locations.txt\n",
      "/shared/CSHL_patch_features/inception-bn-blue/MD590/MD590_lossless_alignedTo_MD590-N47-2015.09.12-05.32.06_MD590_2_0140_cropped_gray/MD590-IHC40-2015.08.10-20.45.53_MD590_1_0120_lossless_alignedTo_MD590-N47-2015.09.12-05.32.06_MD590_2_0140_cropped_gray_patch_locations.txt\n",
      "aws s3 cp s3://mousebrainatlas-data/CSHL_patch_features/inception-bn-blue/MD590/MD590-IHC40-2015.08.10-20.45.53_MD590_1_0120_lossless_alignedTo_MD590-N47-2015.09.12-05.32.06_MD590_2_0140_cropped/MD590-IHC40-2015.08.10-20.45.53_MD590_1_0120_lossless_alignedTo_MD590-N47-2015.09.12-05.32.06_MD590_2_0140_cropped_patch_locations.txt s3://mousebrainatlas-data/CSHL_patch_features/inception-bn-blue/MD590/MD590_lossless_alignedTo_MD590-N47-2015.09.12-05.32.06_MD590_2_0140_cropped_gray/MD590-IHC40-2015.08.10-20.45.53_MD590_1_0120_lossless_alignedTo_MD590-N47-2015.09.12-05.32.06_MD590_2_0140_cropped_gray_patch_locations.txt\n"
     ]
    },
    {
     "name": "stderr",
     "output_type": "stream",
     "text": [
      "Child returned 0\n"
     ]
    },
    {
     "name": "stdout",
     "output_type": "stream",
     "text": [
      "/shared/CSHL_patch_features/inception-bn-blue/MD590/MD590-N41-2015.08.03-19.45.39_MD590_3_0121_lossless_alignedTo_MD590-N47-2015.09.12-05.32.06_MD590_2_0140_cropped/MD590-N41-2015.08.03-19.45.39_MD590_3_0121_lossless_alignedTo_MD590-N47-2015.09.12-05.32.06_MD590_2_0140_cropped_features.bp\n",
      "/shared/CSHL_patch_features/inception-bn-blue/MD590/MD590_lossless_alignedTo_MD590-N47-2015.09.12-05.32.06_MD590_2_0140_cropped_gray/MD590-N41-2015.08.03-19.45.39_MD590_3_0121_lossless_alignedTo_MD590-N47-2015.09.12-05.32.06_MD590_2_0140_cropped_gray_features.bp\n",
      "aws s3 cp s3://mousebrainatlas-data/CSHL_patch_features/inception-bn-blue/MD590/MD590-N41-2015.08.03-19.45.39_MD590_3_0121_lossless_alignedTo_MD590-N47-2015.09.12-05.32.06_MD590_2_0140_cropped/MD590-N41-2015.08.03-19.45.39_MD590_3_0121_lossless_alignedTo_MD590-N47-2015.09.12-05.32.06_MD590_2_0140_cropped_features.bp s3://mousebrainatlas-data/CSHL_patch_features/inception-bn-blue/MD590/MD590_lossless_alignedTo_MD590-N47-2015.09.12-05.32.06_MD590_2_0140_cropped_gray/MD590-N41-2015.08.03-19.45.39_MD590_3_0121_lossless_alignedTo_MD590-N47-2015.09.12-05.32.06_MD590_2_0140_cropped_gray_features.bp\n"
     ]
    },
    {
     "name": "stderr",
     "output_type": "stream",
     "text": [
      "Child returned 0\n"
     ]
    },
    {
     "name": "stdout",
     "output_type": "stream",
     "text": [
      "/shared/CSHL_patch_features/inception-bn-blue/MD590/MD590-N41-2015.08.03-19.45.39_MD590_3_0121_lossless_alignedTo_MD590-N47-2015.09.12-05.32.06_MD590_2_0140_cropped/MD590-N41-2015.08.03-19.45.39_MD590_3_0121_lossless_alignedTo_MD590-N47-2015.09.12-05.32.06_MD590_2_0140_cropped_patch_locations.txt\n",
      "/shared/CSHL_patch_features/inception-bn-blue/MD590/MD590_lossless_alignedTo_MD590-N47-2015.09.12-05.32.06_MD590_2_0140_cropped_gray/MD590-N41-2015.08.03-19.45.39_MD590_3_0121_lossless_alignedTo_MD590-N47-2015.09.12-05.32.06_MD590_2_0140_cropped_gray_patch_locations.txt\n",
      "aws s3 cp s3://mousebrainatlas-data/CSHL_patch_features/inception-bn-blue/MD590/MD590-N41-2015.08.03-19.45.39_MD590_3_0121_lossless_alignedTo_MD590-N47-2015.09.12-05.32.06_MD590_2_0140_cropped/MD590-N41-2015.08.03-19.45.39_MD590_3_0121_lossless_alignedTo_MD590-N47-2015.09.12-05.32.06_MD590_2_0140_cropped_patch_locations.txt s3://mousebrainatlas-data/CSHL_patch_features/inception-bn-blue/MD590/MD590_lossless_alignedTo_MD590-N47-2015.09.12-05.32.06_MD590_2_0140_cropped_gray/MD590-N41-2015.08.03-19.45.39_MD590_3_0121_lossless_alignedTo_MD590-N47-2015.09.12-05.32.06_MD590_2_0140_cropped_gray_patch_locations.txt\n"
     ]
    },
    {
     "name": "stderr",
     "output_type": "stream",
     "text": [
      "Child returned 0\n"
     ]
    },
    {
     "name": "stdout",
     "output_type": "stream",
     "text": [
      "/shared/CSHL_patch_features/inception-bn-blue/MD590/MD590-IHC41-2015.08.10-20.50.09_MD590_3_0121_lossless_alignedTo_MD590-N47-2015.09.12-05.32.06_MD590_2_0140_cropped/MD590-IHC41-2015.08.10-20.50.09_MD590_3_0121_lossless_alignedTo_MD590-N47-2015.09.12-05.32.06_MD590_2_0140_cropped_features.bp\n",
      "/shared/CSHL_patch_features/inception-bn-blue/MD590/MD590_lossless_alignedTo_MD590-N47-2015.09.12-05.32.06_MD590_2_0140_cropped_gray/MD590-IHC41-2015.08.10-20.50.09_MD590_3_0121_lossless_alignedTo_MD590-N47-2015.09.12-05.32.06_MD590_2_0140_cropped_gray_features.bp\n",
      "aws s3 cp s3://mousebrainatlas-data/CSHL_patch_features/inception-bn-blue/MD590/MD590-IHC41-2015.08.10-20.50.09_MD590_3_0121_lossless_alignedTo_MD590-N47-2015.09.12-05.32.06_MD590_2_0140_cropped/MD590-IHC41-2015.08.10-20.50.09_MD590_3_0121_lossless_alignedTo_MD590-N47-2015.09.12-05.32.06_MD590_2_0140_cropped_features.bp s3://mousebrainatlas-data/CSHL_patch_features/inception-bn-blue/MD590/MD590_lossless_alignedTo_MD590-N47-2015.09.12-05.32.06_MD590_2_0140_cropped_gray/MD590-IHC41-2015.08.10-20.50.09_MD590_3_0121_lossless_alignedTo_MD590-N47-2015.09.12-05.32.06_MD590_2_0140_cropped_gray_features.bp\n"
     ]
    },
    {
     "name": "stderr",
     "output_type": "stream",
     "text": [
      "Child returned 0\n"
     ]
    },
    {
     "name": "stdout",
     "output_type": "stream",
     "text": [
      "/shared/CSHL_patch_features/inception-bn-blue/MD590/MD590-IHC41-2015.08.10-20.50.09_MD590_3_0121_lossless_alignedTo_MD590-N47-2015.09.12-05.32.06_MD590_2_0140_cropped/MD590-IHC41-2015.08.10-20.50.09_MD590_3_0121_lossless_alignedTo_MD590-N47-2015.09.12-05.32.06_MD590_2_0140_cropped_patch_locations.txt\n",
      "/shared/CSHL_patch_features/inception-bn-blue/MD590/MD590_lossless_alignedTo_MD590-N47-2015.09.12-05.32.06_MD590_2_0140_cropped_gray/MD590-IHC41-2015.08.10-20.50.09_MD590_3_0121_lossless_alignedTo_MD590-N47-2015.09.12-05.32.06_MD590_2_0140_cropped_gray_patch_locations.txt\n",
      "aws s3 cp s3://mousebrainatlas-data/CSHL_patch_features/inception-bn-blue/MD590/MD590-IHC41-2015.08.10-20.50.09_MD590_3_0121_lossless_alignedTo_MD590-N47-2015.09.12-05.32.06_MD590_2_0140_cropped/MD590-IHC41-2015.08.10-20.50.09_MD590_3_0121_lossless_alignedTo_MD590-N47-2015.09.12-05.32.06_MD590_2_0140_cropped_patch_locations.txt s3://mousebrainatlas-data/CSHL_patch_features/inception-bn-blue/MD590/MD590_lossless_alignedTo_MD590-N47-2015.09.12-05.32.06_MD590_2_0140_cropped_gray/MD590-IHC41-2015.08.10-20.50.09_MD590_3_0121_lossless_alignedTo_MD590-N47-2015.09.12-05.32.06_MD590_2_0140_cropped_gray_patch_locations.txt\n"
     ]
    },
    {
     "name": "stderr",
     "output_type": "stream",
     "text": [
      "Child returned 0\n"
     ]
    },
    {
     "name": "stdout",
     "output_type": "stream",
     "text": [
      "/shared/CSHL_patch_features/inception-bn-blue/MD590/MD590-N41-2015.08.03-19.45.39_MD590_1_0123_lossless_alignedTo_MD590-N47-2015.09.12-05.32.06_MD590_2_0140_cropped/MD590-N41-2015.08.03-19.45.39_MD590_1_0123_lossless_alignedTo_MD590-N47-2015.09.12-05.32.06_MD590_2_0140_cropped_features.bp\n",
      "/shared/CSHL_patch_features/inception-bn-blue/MD590/MD590_lossless_alignedTo_MD590-N47-2015.09.12-05.32.06_MD590_2_0140_cropped_gray/MD590-N41-2015.08.03-19.45.39_MD590_1_0123_lossless_alignedTo_MD590-N47-2015.09.12-05.32.06_MD590_2_0140_cropped_gray_features.bp\n",
      "aws s3 cp s3://mousebrainatlas-data/CSHL_patch_features/inception-bn-blue/MD590/MD590-N41-2015.08.03-19.45.39_MD590_1_0123_lossless_alignedTo_MD590-N47-2015.09.12-05.32.06_MD590_2_0140_cropped/MD590-N41-2015.08.03-19.45.39_MD590_1_0123_lossless_alignedTo_MD590-N47-2015.09.12-05.32.06_MD590_2_0140_cropped_features.bp s3://mousebrainatlas-data/CSHL_patch_features/inception-bn-blue/MD590/MD590_lossless_alignedTo_MD590-N47-2015.09.12-05.32.06_MD590_2_0140_cropped_gray/MD590-N41-2015.08.03-19.45.39_MD590_1_0123_lossless_alignedTo_MD590-N47-2015.09.12-05.32.06_MD590_2_0140_cropped_gray_features.bp\n"
     ]
    },
    {
     "name": "stderr",
     "output_type": "stream",
     "text": [
      "Child returned 0\n"
     ]
    },
    {
     "name": "stdout",
     "output_type": "stream",
     "text": [
      "/shared/CSHL_patch_features/inception-bn-blue/MD590/MD590-N41-2015.08.03-19.45.39_MD590_1_0123_lossless_alignedTo_MD590-N47-2015.09.12-05.32.06_MD590_2_0140_cropped/MD590-N41-2015.08.03-19.45.39_MD590_1_0123_lossless_alignedTo_MD590-N47-2015.09.12-05.32.06_MD590_2_0140_cropped_patch_locations.txt\n",
      "/shared/CSHL_patch_features/inception-bn-blue/MD590/MD590_lossless_alignedTo_MD590-N47-2015.09.12-05.32.06_MD590_2_0140_cropped_gray/MD590-N41-2015.08.03-19.45.39_MD590_1_0123_lossless_alignedTo_MD590-N47-2015.09.12-05.32.06_MD590_2_0140_cropped_gray_patch_locations.txt\n",
      "aws s3 cp s3://mousebrainatlas-data/CSHL_patch_features/inception-bn-blue/MD590/MD590-N41-2015.08.03-19.45.39_MD590_1_0123_lossless_alignedTo_MD590-N47-2015.09.12-05.32.06_MD590_2_0140_cropped/MD590-N41-2015.08.03-19.45.39_MD590_1_0123_lossless_alignedTo_MD590-N47-2015.09.12-05.32.06_MD590_2_0140_cropped_patch_locations.txt s3://mousebrainatlas-data/CSHL_patch_features/inception-bn-blue/MD590/MD590_lossless_alignedTo_MD590-N47-2015.09.12-05.32.06_MD590_2_0140_cropped_gray/MD590-N41-2015.08.03-19.45.39_MD590_1_0123_lossless_alignedTo_MD590-N47-2015.09.12-05.32.06_MD590_2_0140_cropped_gray_patch_locations.txt\n"
     ]
    },
    {
     "name": "stderr",
     "output_type": "stream",
     "text": [
      "Child returned 0\n"
     ]
    },
    {
     "name": "stdout",
     "output_type": "stream",
     "text": [
      "/shared/CSHL_patch_features/inception-bn-blue/MD590/MD590-IHC41-2015.08.10-20.50.09_MD590_1_0123_lossless_alignedTo_MD590-N47-2015.09.12-05.32.06_MD590_2_0140_cropped/MD590-IHC41-2015.08.10-20.50.09_MD590_1_0123_lossless_alignedTo_MD590-N47-2015.09.12-05.32.06_MD590_2_0140_cropped_features.bp\n",
      "/shared/CSHL_patch_features/inception-bn-blue/MD590/MD590_lossless_alignedTo_MD590-N47-2015.09.12-05.32.06_MD590_2_0140_cropped_gray/MD590-IHC41-2015.08.10-20.50.09_MD590_1_0123_lossless_alignedTo_MD590-N47-2015.09.12-05.32.06_MD590_2_0140_cropped_gray_features.bp\n",
      "aws s3 cp s3://mousebrainatlas-data/CSHL_patch_features/inception-bn-blue/MD590/MD590-IHC41-2015.08.10-20.50.09_MD590_1_0123_lossless_alignedTo_MD590-N47-2015.09.12-05.32.06_MD590_2_0140_cropped/MD590-IHC41-2015.08.10-20.50.09_MD590_1_0123_lossless_alignedTo_MD590-N47-2015.09.12-05.32.06_MD590_2_0140_cropped_features.bp s3://mousebrainatlas-data/CSHL_patch_features/inception-bn-blue/MD590/MD590_lossless_alignedTo_MD590-N47-2015.09.12-05.32.06_MD590_2_0140_cropped_gray/MD590-IHC41-2015.08.10-20.50.09_MD590_1_0123_lossless_alignedTo_MD590-N47-2015.09.12-05.32.06_MD590_2_0140_cropped_gray_features.bp\n"
     ]
    },
    {
     "name": "stderr",
     "output_type": "stream",
     "text": [
      "Child returned 0\n"
     ]
    },
    {
     "name": "stdout",
     "output_type": "stream",
     "text": [
      "/shared/CSHL_patch_features/inception-bn-blue/MD590/MD590-IHC41-2015.08.10-20.50.09_MD590_1_0123_lossless_alignedTo_MD590-N47-2015.09.12-05.32.06_MD590_2_0140_cropped/MD590-IHC41-2015.08.10-20.50.09_MD590_1_0123_lossless_alignedTo_MD590-N47-2015.09.12-05.32.06_MD590_2_0140_cropped_patch_locations.txt\n",
      "/shared/CSHL_patch_features/inception-bn-blue/MD590/MD590_lossless_alignedTo_MD590-N47-2015.09.12-05.32.06_MD590_2_0140_cropped_gray/MD590-IHC41-2015.08.10-20.50.09_MD590_1_0123_lossless_alignedTo_MD590-N47-2015.09.12-05.32.06_MD590_2_0140_cropped_gray_patch_locations.txt\n",
      "aws s3 cp s3://mousebrainatlas-data/CSHL_patch_features/inception-bn-blue/MD590/MD590-IHC41-2015.08.10-20.50.09_MD590_1_0123_lossless_alignedTo_MD590-N47-2015.09.12-05.32.06_MD590_2_0140_cropped/MD590-IHC41-2015.08.10-20.50.09_MD590_1_0123_lossless_alignedTo_MD590-N47-2015.09.12-05.32.06_MD590_2_0140_cropped_patch_locations.txt s3://mousebrainatlas-data/CSHL_patch_features/inception-bn-blue/MD590/MD590_lossless_alignedTo_MD590-N47-2015.09.12-05.32.06_MD590_2_0140_cropped_gray/MD590-IHC41-2015.08.10-20.50.09_MD590_1_0123_lossless_alignedTo_MD590-N47-2015.09.12-05.32.06_MD590_2_0140_cropped_gray_patch_locations.txt\n"
     ]
    },
    {
     "name": "stderr",
     "output_type": "stream",
     "text": [
      "Child returned 0\n"
     ]
    },
    {
     "name": "stdout",
     "output_type": "stream",
     "text": [
      "/shared/CSHL_patch_features/inception-bn-blue/MD590/MD590-N42-2015.08.03-19.49.38_MD590_3_0124_lossless_alignedTo_MD590-N47-2015.09.12-05.32.06_MD590_2_0140_cropped/MD590-N42-2015.08.03-19.49.38_MD590_3_0124_lossless_alignedTo_MD590-N47-2015.09.12-05.32.06_MD590_2_0140_cropped_features.bp\n",
      "/shared/CSHL_patch_features/inception-bn-blue/MD590/MD590_lossless_alignedTo_MD590-N47-2015.09.12-05.32.06_MD590_2_0140_cropped_gray/MD590-N42-2015.08.03-19.49.38_MD590_3_0124_lossless_alignedTo_MD590-N47-2015.09.12-05.32.06_MD590_2_0140_cropped_gray_features.bp\n",
      "aws s3 cp s3://mousebrainatlas-data/CSHL_patch_features/inception-bn-blue/MD590/MD590-N42-2015.08.03-19.49.38_MD590_3_0124_lossless_alignedTo_MD590-N47-2015.09.12-05.32.06_MD590_2_0140_cropped/MD590-N42-2015.08.03-19.49.38_MD590_3_0124_lossless_alignedTo_MD590-N47-2015.09.12-05.32.06_MD590_2_0140_cropped_features.bp s3://mousebrainatlas-data/CSHL_patch_features/inception-bn-blue/MD590/MD590_lossless_alignedTo_MD590-N47-2015.09.12-05.32.06_MD590_2_0140_cropped_gray/MD590-N42-2015.08.03-19.49.38_MD590_3_0124_lossless_alignedTo_MD590-N47-2015.09.12-05.32.06_MD590_2_0140_cropped_gray_features.bp\n"
     ]
    },
    {
     "name": "stderr",
     "output_type": "stream",
     "text": [
      "Child returned 0\n"
     ]
    },
    {
     "name": "stdout",
     "output_type": "stream",
     "text": [
      "/shared/CSHL_patch_features/inception-bn-blue/MD590/MD590-N42-2015.08.03-19.49.38_MD590_3_0124_lossless_alignedTo_MD590-N47-2015.09.12-05.32.06_MD590_2_0140_cropped/MD590-N42-2015.08.03-19.49.38_MD590_3_0124_lossless_alignedTo_MD590-N47-2015.09.12-05.32.06_MD590_2_0140_cropped_patch_locations.txt\n",
      "/shared/CSHL_patch_features/inception-bn-blue/MD590/MD590_lossless_alignedTo_MD590-N47-2015.09.12-05.32.06_MD590_2_0140_cropped_gray/MD590-N42-2015.08.03-19.49.38_MD590_3_0124_lossless_alignedTo_MD590-N47-2015.09.12-05.32.06_MD590_2_0140_cropped_gray_patch_locations.txt\n",
      "aws s3 cp s3://mousebrainatlas-data/CSHL_patch_features/inception-bn-blue/MD590/MD590-N42-2015.08.03-19.49.38_MD590_3_0124_lossless_alignedTo_MD590-N47-2015.09.12-05.32.06_MD590_2_0140_cropped/MD590-N42-2015.08.03-19.49.38_MD590_3_0124_lossless_alignedTo_MD590-N47-2015.09.12-05.32.06_MD590_2_0140_cropped_patch_locations.txt s3://mousebrainatlas-data/CSHL_patch_features/inception-bn-blue/MD590/MD590_lossless_alignedTo_MD590-N47-2015.09.12-05.32.06_MD590_2_0140_cropped_gray/MD590-N42-2015.08.03-19.49.38_MD590_3_0124_lossless_alignedTo_MD590-N47-2015.09.12-05.32.06_MD590_2_0140_cropped_gray_patch_locations.txt\n"
     ]
    },
    {
     "name": "stderr",
     "output_type": "stream",
     "text": [
      "Child returned 0\n"
     ]
    },
    {
     "name": "stdout",
     "output_type": "stream",
     "text": [
      "/shared/CSHL_patch_features/inception-bn-blue/MD590/MD590-IHC42-2015.08.10-20.54.21_MD590_3_0124_lossless_alignedTo_MD590-N47-2015.09.12-05.32.06_MD590_2_0140_cropped/MD590-IHC42-2015.08.10-20.54.21_MD590_3_0124_lossless_alignedTo_MD590-N47-2015.09.12-05.32.06_MD590_2_0140_cropped_features.bp\n",
      "/shared/CSHL_patch_features/inception-bn-blue/MD590/MD590_lossless_alignedTo_MD590-N47-2015.09.12-05.32.06_MD590_2_0140_cropped_gray/MD590-IHC42-2015.08.10-20.54.21_MD590_3_0124_lossless_alignedTo_MD590-N47-2015.09.12-05.32.06_MD590_2_0140_cropped_gray_features.bp\n",
      "aws s3 cp s3://mousebrainatlas-data/CSHL_patch_features/inception-bn-blue/MD590/MD590-IHC42-2015.08.10-20.54.21_MD590_3_0124_lossless_alignedTo_MD590-N47-2015.09.12-05.32.06_MD590_2_0140_cropped/MD590-IHC42-2015.08.10-20.54.21_MD590_3_0124_lossless_alignedTo_MD590-N47-2015.09.12-05.32.06_MD590_2_0140_cropped_features.bp s3://mousebrainatlas-data/CSHL_patch_features/inception-bn-blue/MD590/MD590_lossless_alignedTo_MD590-N47-2015.09.12-05.32.06_MD590_2_0140_cropped_gray/MD590-IHC42-2015.08.10-20.54.21_MD590_3_0124_lossless_alignedTo_MD590-N47-2015.09.12-05.32.06_MD590_2_0140_cropped_gray_features.bp\n"
     ]
    },
    {
     "name": "stderr",
     "output_type": "stream",
     "text": [
      "Child returned 0\n"
     ]
    },
    {
     "name": "stdout",
     "output_type": "stream",
     "text": [
      "/shared/CSHL_patch_features/inception-bn-blue/MD590/MD590-IHC42-2015.08.10-20.54.21_MD590_3_0124_lossless_alignedTo_MD590-N47-2015.09.12-05.32.06_MD590_2_0140_cropped/MD590-IHC42-2015.08.10-20.54.21_MD590_3_0124_lossless_alignedTo_MD590-N47-2015.09.12-05.32.06_MD590_2_0140_cropped_patch_locations.txt\n",
      "/shared/CSHL_patch_features/inception-bn-blue/MD590/MD590_lossless_alignedTo_MD590-N47-2015.09.12-05.32.06_MD590_2_0140_cropped_gray/MD590-IHC42-2015.08.10-20.54.21_MD590_3_0124_lossless_alignedTo_MD590-N47-2015.09.12-05.32.06_MD590_2_0140_cropped_gray_patch_locations.txt\n",
      "aws s3 cp s3://mousebrainatlas-data/CSHL_patch_features/inception-bn-blue/MD590/MD590-IHC42-2015.08.10-20.54.21_MD590_3_0124_lossless_alignedTo_MD590-N47-2015.09.12-05.32.06_MD590_2_0140_cropped/MD590-IHC42-2015.08.10-20.54.21_MD590_3_0124_lossless_alignedTo_MD590-N47-2015.09.12-05.32.06_MD590_2_0140_cropped_patch_locations.txt s3://mousebrainatlas-data/CSHL_patch_features/inception-bn-blue/MD590/MD590_lossless_alignedTo_MD590-N47-2015.09.12-05.32.06_MD590_2_0140_cropped_gray/MD590-IHC42-2015.08.10-20.54.21_MD590_3_0124_lossless_alignedTo_MD590-N47-2015.09.12-05.32.06_MD590_2_0140_cropped_gray_patch_locations.txt\n"
     ]
    },
    {
     "name": "stderr",
     "output_type": "stream",
     "text": [
      "Child returned 0\n"
     ]
    },
    {
     "name": "stdout",
     "output_type": "stream",
     "text": [
      "/shared/CSHL_patch_features/inception-bn-blue/MD590/MD590-N42-2015.08.03-19.49.38_MD590_1_0126_lossless_alignedTo_MD590-N47-2015.09.12-05.32.06_MD590_2_0140_cropped/MD590-N42-2015.08.03-19.49.38_MD590_1_0126_lossless_alignedTo_MD590-N47-2015.09.12-05.32.06_MD590_2_0140_cropped_features.bp\n",
      "/shared/CSHL_patch_features/inception-bn-blue/MD590/MD590_lossless_alignedTo_MD590-N47-2015.09.12-05.32.06_MD590_2_0140_cropped_gray/MD590-N42-2015.08.03-19.49.38_MD590_1_0126_lossless_alignedTo_MD590-N47-2015.09.12-05.32.06_MD590_2_0140_cropped_gray_features.bp\n",
      "aws s3 cp s3://mousebrainatlas-data/CSHL_patch_features/inception-bn-blue/MD590/MD590-N42-2015.08.03-19.49.38_MD590_1_0126_lossless_alignedTo_MD590-N47-2015.09.12-05.32.06_MD590_2_0140_cropped/MD590-N42-2015.08.03-19.49.38_MD590_1_0126_lossless_alignedTo_MD590-N47-2015.09.12-05.32.06_MD590_2_0140_cropped_features.bp s3://mousebrainatlas-data/CSHL_patch_features/inception-bn-blue/MD590/MD590_lossless_alignedTo_MD590-N47-2015.09.12-05.32.06_MD590_2_0140_cropped_gray/MD590-N42-2015.08.03-19.49.38_MD590_1_0126_lossless_alignedTo_MD590-N47-2015.09.12-05.32.06_MD590_2_0140_cropped_gray_features.bp\n"
     ]
    },
    {
     "name": "stderr",
     "output_type": "stream",
     "text": [
      "Child returned 0\n"
     ]
    },
    {
     "name": "stdout",
     "output_type": "stream",
     "text": [
      "/shared/CSHL_patch_features/inception-bn-blue/MD590/MD590-N42-2015.08.03-19.49.38_MD590_1_0126_lossless_alignedTo_MD590-N47-2015.09.12-05.32.06_MD590_2_0140_cropped/MD590-N42-2015.08.03-19.49.38_MD590_1_0126_lossless_alignedTo_MD590-N47-2015.09.12-05.32.06_MD590_2_0140_cropped_patch_locations.txt\n",
      "/shared/CSHL_patch_features/inception-bn-blue/MD590/MD590_lossless_alignedTo_MD590-N47-2015.09.12-05.32.06_MD590_2_0140_cropped_gray/MD590-N42-2015.08.03-19.49.38_MD590_1_0126_lossless_alignedTo_MD590-N47-2015.09.12-05.32.06_MD590_2_0140_cropped_gray_patch_locations.txt\n",
      "aws s3 cp s3://mousebrainatlas-data/CSHL_patch_features/inception-bn-blue/MD590/MD590-N42-2015.08.03-19.49.38_MD590_1_0126_lossless_alignedTo_MD590-N47-2015.09.12-05.32.06_MD590_2_0140_cropped/MD590-N42-2015.08.03-19.49.38_MD590_1_0126_lossless_alignedTo_MD590-N47-2015.09.12-05.32.06_MD590_2_0140_cropped_patch_locations.txt s3://mousebrainatlas-data/CSHL_patch_features/inception-bn-blue/MD590/MD590_lossless_alignedTo_MD590-N47-2015.09.12-05.32.06_MD590_2_0140_cropped_gray/MD590-N42-2015.08.03-19.49.38_MD590_1_0126_lossless_alignedTo_MD590-N47-2015.09.12-05.32.06_MD590_2_0140_cropped_gray_patch_locations.txt\n"
     ]
    },
    {
     "name": "stderr",
     "output_type": "stream",
     "text": [
      "Child returned 0\n"
     ]
    },
    {
     "name": "stdout",
     "output_type": "stream",
     "text": [
      "/shared/CSHL_patch_features/inception-bn-blue/MD590/MD590-IHC42-2015.08.10-20.54.21_MD590_2_0125_lossless_alignedTo_MD590-N47-2015.09.12-05.32.06_MD590_2_0140_cropped/MD590-IHC42-2015.08.10-20.54.21_MD590_2_0125_lossless_alignedTo_MD590-N47-2015.09.12-05.32.06_MD590_2_0140_cropped_features.bp\n",
      "/shared/CSHL_patch_features/inception-bn-blue/MD590/MD590_lossless_alignedTo_MD590-N47-2015.09.12-05.32.06_MD590_2_0140_cropped_gray/MD590-IHC42-2015.08.10-20.54.21_MD590_2_0125_lossless_alignedTo_MD590-N47-2015.09.12-05.32.06_MD590_2_0140_cropped_gray_features.bp\n",
      "aws s3 cp s3://mousebrainatlas-data/CSHL_patch_features/inception-bn-blue/MD590/MD590-IHC42-2015.08.10-20.54.21_MD590_2_0125_lossless_alignedTo_MD590-N47-2015.09.12-05.32.06_MD590_2_0140_cropped/MD590-IHC42-2015.08.10-20.54.21_MD590_2_0125_lossless_alignedTo_MD590-N47-2015.09.12-05.32.06_MD590_2_0140_cropped_features.bp s3://mousebrainatlas-data/CSHL_patch_features/inception-bn-blue/MD590/MD590_lossless_alignedTo_MD590-N47-2015.09.12-05.32.06_MD590_2_0140_cropped_gray/MD590-IHC42-2015.08.10-20.54.21_MD590_2_0125_lossless_alignedTo_MD590-N47-2015.09.12-05.32.06_MD590_2_0140_cropped_gray_features.bp\n"
     ]
    },
    {
     "name": "stderr",
     "output_type": "stream",
     "text": [
      "Child returned 0\n"
     ]
    },
    {
     "name": "stdout",
     "output_type": "stream",
     "text": [
      "/shared/CSHL_patch_features/inception-bn-blue/MD590/MD590-IHC42-2015.08.10-20.54.21_MD590_2_0125_lossless_alignedTo_MD590-N47-2015.09.12-05.32.06_MD590_2_0140_cropped/MD590-IHC42-2015.08.10-20.54.21_MD590_2_0125_lossless_alignedTo_MD590-N47-2015.09.12-05.32.06_MD590_2_0140_cropped_patch_locations.txt\n",
      "/shared/CSHL_patch_features/inception-bn-blue/MD590/MD590_lossless_alignedTo_MD590-N47-2015.09.12-05.32.06_MD590_2_0140_cropped_gray/MD590-IHC42-2015.08.10-20.54.21_MD590_2_0125_lossless_alignedTo_MD590-N47-2015.09.12-05.32.06_MD590_2_0140_cropped_gray_patch_locations.txt\n",
      "aws s3 cp s3://mousebrainatlas-data/CSHL_patch_features/inception-bn-blue/MD590/MD590-IHC42-2015.08.10-20.54.21_MD590_2_0125_lossless_alignedTo_MD590-N47-2015.09.12-05.32.06_MD590_2_0140_cropped/MD590-IHC42-2015.08.10-20.54.21_MD590_2_0125_lossless_alignedTo_MD590-N47-2015.09.12-05.32.06_MD590_2_0140_cropped_patch_locations.txt s3://mousebrainatlas-data/CSHL_patch_features/inception-bn-blue/MD590/MD590_lossless_alignedTo_MD590-N47-2015.09.12-05.32.06_MD590_2_0140_cropped_gray/MD590-IHC42-2015.08.10-20.54.21_MD590_2_0125_lossless_alignedTo_MD590-N47-2015.09.12-05.32.06_MD590_2_0140_cropped_gray_patch_locations.txt\n"
     ]
    },
    {
     "name": "stderr",
     "output_type": "stream",
     "text": [
      "Child returned 0\n"
     ]
    },
    {
     "name": "stdout",
     "output_type": "stream",
     "text": [
      "/shared/CSHL_patch_features/inception-bn-blue/MD590/MD590-N43-2015.08.03-19.53.30_MD590_3_0127_lossless_alignedTo_MD590-N47-2015.09.12-05.32.06_MD590_2_0140_cropped/MD590-N43-2015.08.03-19.53.30_MD590_3_0127_lossless_alignedTo_MD590-N47-2015.09.12-05.32.06_MD590_2_0140_cropped_features.bp\n",
      "/shared/CSHL_patch_features/inception-bn-blue/MD590/MD590_lossless_alignedTo_MD590-N47-2015.09.12-05.32.06_MD590_2_0140_cropped_gray/MD590-N43-2015.08.03-19.53.30_MD590_3_0127_lossless_alignedTo_MD590-N47-2015.09.12-05.32.06_MD590_2_0140_cropped_gray_features.bp\n",
      "aws s3 cp s3://mousebrainatlas-data/CSHL_patch_features/inception-bn-blue/MD590/MD590-N43-2015.08.03-19.53.30_MD590_3_0127_lossless_alignedTo_MD590-N47-2015.09.12-05.32.06_MD590_2_0140_cropped/MD590-N43-2015.08.03-19.53.30_MD590_3_0127_lossless_alignedTo_MD590-N47-2015.09.12-05.32.06_MD590_2_0140_cropped_features.bp s3://mousebrainatlas-data/CSHL_patch_features/inception-bn-blue/MD590/MD590_lossless_alignedTo_MD590-N47-2015.09.12-05.32.06_MD590_2_0140_cropped_gray/MD590-N43-2015.08.03-19.53.30_MD590_3_0127_lossless_alignedTo_MD590-N47-2015.09.12-05.32.06_MD590_2_0140_cropped_gray_features.bp\n"
     ]
    },
    {
     "name": "stderr",
     "output_type": "stream",
     "text": [
      "Child returned 0\n"
     ]
    },
    {
     "name": "stdout",
     "output_type": "stream",
     "text": [
      "/shared/CSHL_patch_features/inception-bn-blue/MD590/MD590-N43-2015.08.03-19.53.30_MD590_3_0127_lossless_alignedTo_MD590-N47-2015.09.12-05.32.06_MD590_2_0140_cropped/MD590-N43-2015.08.03-19.53.30_MD590_3_0127_lossless_alignedTo_MD590-N47-2015.09.12-05.32.06_MD590_2_0140_cropped_patch_locations.txt\n",
      "/shared/CSHL_patch_features/inception-bn-blue/MD590/MD590_lossless_alignedTo_MD590-N47-2015.09.12-05.32.06_MD590_2_0140_cropped_gray/MD590-N43-2015.08.03-19.53.30_MD590_3_0127_lossless_alignedTo_MD590-N47-2015.09.12-05.32.06_MD590_2_0140_cropped_gray_patch_locations.txt\n",
      "aws s3 cp s3://mousebrainatlas-data/CSHL_patch_features/inception-bn-blue/MD590/MD590-N43-2015.08.03-19.53.30_MD590_3_0127_lossless_alignedTo_MD590-N47-2015.09.12-05.32.06_MD590_2_0140_cropped/MD590-N43-2015.08.03-19.53.30_MD590_3_0127_lossless_alignedTo_MD590-N47-2015.09.12-05.32.06_MD590_2_0140_cropped_patch_locations.txt s3://mousebrainatlas-data/CSHL_patch_features/inception-bn-blue/MD590/MD590_lossless_alignedTo_MD590-N47-2015.09.12-05.32.06_MD590_2_0140_cropped_gray/MD590-N43-2015.08.03-19.53.30_MD590_3_0127_lossless_alignedTo_MD590-N47-2015.09.12-05.32.06_MD590_2_0140_cropped_gray_patch_locations.txt\n"
     ]
    },
    {
     "name": "stderr",
     "output_type": "stream",
     "text": [
      "Child returned 0\n"
     ]
    },
    {
     "name": "stdout",
     "output_type": "stream",
     "text": [
      "/shared/CSHL_patch_features/inception-bn-blue/MD590/MD590-IHC43-2015.08.10-20.58.28_MD590_3_0127_lossless_alignedTo_MD590-N47-2015.09.12-05.32.06_MD590_2_0140_cropped/MD590-IHC43-2015.08.10-20.58.28_MD590_3_0127_lossless_alignedTo_MD590-N47-2015.09.12-05.32.06_MD590_2_0140_cropped_features.bp\n",
      "/shared/CSHL_patch_features/inception-bn-blue/MD590/MD590_lossless_alignedTo_MD590-N47-2015.09.12-05.32.06_MD590_2_0140_cropped_gray/MD590-IHC43-2015.08.10-20.58.28_MD590_3_0127_lossless_alignedTo_MD590-N47-2015.09.12-05.32.06_MD590_2_0140_cropped_gray_features.bp\n",
      "aws s3 cp s3://mousebrainatlas-data/CSHL_patch_features/inception-bn-blue/MD590/MD590-IHC43-2015.08.10-20.58.28_MD590_3_0127_lossless_alignedTo_MD590-N47-2015.09.12-05.32.06_MD590_2_0140_cropped/MD590-IHC43-2015.08.10-20.58.28_MD590_3_0127_lossless_alignedTo_MD590-N47-2015.09.12-05.32.06_MD590_2_0140_cropped_features.bp s3://mousebrainatlas-data/CSHL_patch_features/inception-bn-blue/MD590/MD590_lossless_alignedTo_MD590-N47-2015.09.12-05.32.06_MD590_2_0140_cropped_gray/MD590-IHC43-2015.08.10-20.58.28_MD590_3_0127_lossless_alignedTo_MD590-N47-2015.09.12-05.32.06_MD590_2_0140_cropped_gray_features.bp\n"
     ]
    },
    {
     "name": "stderr",
     "output_type": "stream",
     "text": [
      "Child returned 0\n"
     ]
    },
    {
     "name": "stdout",
     "output_type": "stream",
     "text": [
      "/shared/CSHL_patch_features/inception-bn-blue/MD590/MD590-IHC43-2015.08.10-20.58.28_MD590_3_0127_lossless_alignedTo_MD590-N47-2015.09.12-05.32.06_MD590_2_0140_cropped/MD590-IHC43-2015.08.10-20.58.28_MD590_3_0127_lossless_alignedTo_MD590-N47-2015.09.12-05.32.06_MD590_2_0140_cropped_patch_locations.txt\n",
      "/shared/CSHL_patch_features/inception-bn-blue/MD590/MD590_lossless_alignedTo_MD590-N47-2015.09.12-05.32.06_MD590_2_0140_cropped_gray/MD590-IHC43-2015.08.10-20.58.28_MD590_3_0127_lossless_alignedTo_MD590-N47-2015.09.12-05.32.06_MD590_2_0140_cropped_gray_patch_locations.txt\n",
      "aws s3 cp s3://mousebrainatlas-data/CSHL_patch_features/inception-bn-blue/MD590/MD590-IHC43-2015.08.10-20.58.28_MD590_3_0127_lossless_alignedTo_MD590-N47-2015.09.12-05.32.06_MD590_2_0140_cropped/MD590-IHC43-2015.08.10-20.58.28_MD590_3_0127_lossless_alignedTo_MD590-N47-2015.09.12-05.32.06_MD590_2_0140_cropped_patch_locations.txt s3://mousebrainatlas-data/CSHL_patch_features/inception-bn-blue/MD590/MD590_lossless_alignedTo_MD590-N47-2015.09.12-05.32.06_MD590_2_0140_cropped_gray/MD590-IHC43-2015.08.10-20.58.28_MD590_3_0127_lossless_alignedTo_MD590-N47-2015.09.12-05.32.06_MD590_2_0140_cropped_gray_patch_locations.txt\n"
     ]
    },
    {
     "name": "stderr",
     "output_type": "stream",
     "text": [
      "Child returned 0\n"
     ]
    },
    {
     "name": "stdout",
     "output_type": "stream",
     "text": [
      "/shared/CSHL_patch_features/inception-bn-blue/MD590/MD590-N43-2015.08.03-19.53.30_MD590_1_0129_lossless_alignedTo_MD590-N47-2015.09.12-05.32.06_MD590_2_0140_cropped/MD590-N43-2015.08.03-19.53.30_MD590_1_0129_lossless_alignedTo_MD590-N47-2015.09.12-05.32.06_MD590_2_0140_cropped_features.bp\n",
      "/shared/CSHL_patch_features/inception-bn-blue/MD590/MD590_lossless_alignedTo_MD590-N47-2015.09.12-05.32.06_MD590_2_0140_cropped_gray/MD590-N43-2015.08.03-19.53.30_MD590_1_0129_lossless_alignedTo_MD590-N47-2015.09.12-05.32.06_MD590_2_0140_cropped_gray_features.bp\n",
      "aws s3 cp s3://mousebrainatlas-data/CSHL_patch_features/inception-bn-blue/MD590/MD590-N43-2015.08.03-19.53.30_MD590_1_0129_lossless_alignedTo_MD590-N47-2015.09.12-05.32.06_MD590_2_0140_cropped/MD590-N43-2015.08.03-19.53.30_MD590_1_0129_lossless_alignedTo_MD590-N47-2015.09.12-05.32.06_MD590_2_0140_cropped_features.bp s3://mousebrainatlas-data/CSHL_patch_features/inception-bn-blue/MD590/MD590_lossless_alignedTo_MD590-N47-2015.09.12-05.32.06_MD590_2_0140_cropped_gray/MD590-N43-2015.08.03-19.53.30_MD590_1_0129_lossless_alignedTo_MD590-N47-2015.09.12-05.32.06_MD590_2_0140_cropped_gray_features.bp\n"
     ]
    },
    {
     "name": "stderr",
     "output_type": "stream",
     "text": [
      "Child returned 0\n"
     ]
    },
    {
     "name": "stdout",
     "output_type": "stream",
     "text": [
      "/shared/CSHL_patch_features/inception-bn-blue/MD590/MD590-N43-2015.08.03-19.53.30_MD590_1_0129_lossless_alignedTo_MD590-N47-2015.09.12-05.32.06_MD590_2_0140_cropped/MD590-N43-2015.08.03-19.53.30_MD590_1_0129_lossless_alignedTo_MD590-N47-2015.09.12-05.32.06_MD590_2_0140_cropped_patch_locations.txt\n",
      "/shared/CSHL_patch_features/inception-bn-blue/MD590/MD590_lossless_alignedTo_MD590-N47-2015.09.12-05.32.06_MD590_2_0140_cropped_gray/MD590-N43-2015.08.03-19.53.30_MD590_1_0129_lossless_alignedTo_MD590-N47-2015.09.12-05.32.06_MD590_2_0140_cropped_gray_patch_locations.txt\n",
      "aws s3 cp s3://mousebrainatlas-data/CSHL_patch_features/inception-bn-blue/MD590/MD590-N43-2015.08.03-19.53.30_MD590_1_0129_lossless_alignedTo_MD590-N47-2015.09.12-05.32.06_MD590_2_0140_cropped/MD590-N43-2015.08.03-19.53.30_MD590_1_0129_lossless_alignedTo_MD590-N47-2015.09.12-05.32.06_MD590_2_0140_cropped_patch_locations.txt s3://mousebrainatlas-data/CSHL_patch_features/inception-bn-blue/MD590/MD590_lossless_alignedTo_MD590-N47-2015.09.12-05.32.06_MD590_2_0140_cropped_gray/MD590-N43-2015.08.03-19.53.30_MD590_1_0129_lossless_alignedTo_MD590-N47-2015.09.12-05.32.06_MD590_2_0140_cropped_gray_patch_locations.txt\n"
     ]
    },
    {
     "name": "stderr",
     "output_type": "stream",
     "text": [
      "Child returned 0\n"
     ]
    },
    {
     "name": "stdout",
     "output_type": "stream",
     "text": [
      "/shared/CSHL_patch_features/inception-bn-blue/MD590/MD590-IHC43-2015.08.10-20.58.28_MD590_2_0128_lossless_alignedTo_MD590-N47-2015.09.12-05.32.06_MD590_2_0140_cropped/MD590-IHC43-2015.08.10-20.58.28_MD590_2_0128_lossless_alignedTo_MD590-N47-2015.09.12-05.32.06_MD590_2_0140_cropped_features.bp\n",
      "/shared/CSHL_patch_features/inception-bn-blue/MD590/MD590_lossless_alignedTo_MD590-N47-2015.09.12-05.32.06_MD590_2_0140_cropped_gray/MD590-IHC43-2015.08.10-20.58.28_MD590_2_0128_lossless_alignedTo_MD590-N47-2015.09.12-05.32.06_MD590_2_0140_cropped_gray_features.bp\n",
      "aws s3 cp s3://mousebrainatlas-data/CSHL_patch_features/inception-bn-blue/MD590/MD590-IHC43-2015.08.10-20.58.28_MD590_2_0128_lossless_alignedTo_MD590-N47-2015.09.12-05.32.06_MD590_2_0140_cropped/MD590-IHC43-2015.08.10-20.58.28_MD590_2_0128_lossless_alignedTo_MD590-N47-2015.09.12-05.32.06_MD590_2_0140_cropped_features.bp s3://mousebrainatlas-data/CSHL_patch_features/inception-bn-blue/MD590/MD590_lossless_alignedTo_MD590-N47-2015.09.12-05.32.06_MD590_2_0140_cropped_gray/MD590-IHC43-2015.08.10-20.58.28_MD590_2_0128_lossless_alignedTo_MD590-N47-2015.09.12-05.32.06_MD590_2_0140_cropped_gray_features.bp\n"
     ]
    },
    {
     "name": "stderr",
     "output_type": "stream",
     "text": [
      "Child returned 0\n"
     ]
    },
    {
     "name": "stdout",
     "output_type": "stream",
     "text": [
      "/shared/CSHL_patch_features/inception-bn-blue/MD590/MD590-IHC43-2015.08.10-20.58.28_MD590_2_0128_lossless_alignedTo_MD590-N47-2015.09.12-05.32.06_MD590_2_0140_cropped/MD590-IHC43-2015.08.10-20.58.28_MD590_2_0128_lossless_alignedTo_MD590-N47-2015.09.12-05.32.06_MD590_2_0140_cropped_patch_locations.txt\n",
      "/shared/CSHL_patch_features/inception-bn-blue/MD590/MD590_lossless_alignedTo_MD590-N47-2015.09.12-05.32.06_MD590_2_0140_cropped_gray/MD590-IHC43-2015.08.10-20.58.28_MD590_2_0128_lossless_alignedTo_MD590-N47-2015.09.12-05.32.06_MD590_2_0140_cropped_gray_patch_locations.txt\n",
      "aws s3 cp s3://mousebrainatlas-data/CSHL_patch_features/inception-bn-blue/MD590/MD590-IHC43-2015.08.10-20.58.28_MD590_2_0128_lossless_alignedTo_MD590-N47-2015.09.12-05.32.06_MD590_2_0140_cropped/MD590-IHC43-2015.08.10-20.58.28_MD590_2_0128_lossless_alignedTo_MD590-N47-2015.09.12-05.32.06_MD590_2_0140_cropped_patch_locations.txt s3://mousebrainatlas-data/CSHL_patch_features/inception-bn-blue/MD590/MD590_lossless_alignedTo_MD590-N47-2015.09.12-05.32.06_MD590_2_0140_cropped_gray/MD590-IHC43-2015.08.10-20.58.28_MD590_2_0128_lossless_alignedTo_MD590-N47-2015.09.12-05.32.06_MD590_2_0140_cropped_gray_patch_locations.txt\n"
     ]
    },
    {
     "name": "stderr",
     "output_type": "stream",
     "text": [
      "Child returned 0\n"
     ]
    },
    {
     "name": "stdout",
     "output_type": "stream",
     "text": [
      "/shared/CSHL_patch_features/inception-bn-blue/MD590/MD590-N44-2015.08.03-19.57.30_MD590_3_0130_lossless_alignedTo_MD590-N47-2015.09.12-05.32.06_MD590_2_0140_cropped/MD590-N44-2015.08.03-19.57.30_MD590_3_0130_lossless_alignedTo_MD590-N47-2015.09.12-05.32.06_MD590_2_0140_cropped_features.bp\n",
      "/shared/CSHL_patch_features/inception-bn-blue/MD590/MD590_lossless_alignedTo_MD590-N47-2015.09.12-05.32.06_MD590_2_0140_cropped_gray/MD590-N44-2015.08.03-19.57.30_MD590_3_0130_lossless_alignedTo_MD590-N47-2015.09.12-05.32.06_MD590_2_0140_cropped_gray_features.bp\n",
      "aws s3 cp s3://mousebrainatlas-data/CSHL_patch_features/inception-bn-blue/MD590/MD590-N44-2015.08.03-19.57.30_MD590_3_0130_lossless_alignedTo_MD590-N47-2015.09.12-05.32.06_MD590_2_0140_cropped/MD590-N44-2015.08.03-19.57.30_MD590_3_0130_lossless_alignedTo_MD590-N47-2015.09.12-05.32.06_MD590_2_0140_cropped_features.bp s3://mousebrainatlas-data/CSHL_patch_features/inception-bn-blue/MD590/MD590_lossless_alignedTo_MD590-N47-2015.09.12-05.32.06_MD590_2_0140_cropped_gray/MD590-N44-2015.08.03-19.57.30_MD590_3_0130_lossless_alignedTo_MD590-N47-2015.09.12-05.32.06_MD590_2_0140_cropped_gray_features.bp\n"
     ]
    },
    {
     "name": "stderr",
     "output_type": "stream",
     "text": [
      "Child returned 0\n"
     ]
    },
    {
     "name": "stdout",
     "output_type": "stream",
     "text": [
      "/shared/CSHL_patch_features/inception-bn-blue/MD590/MD590-N44-2015.08.03-19.57.30_MD590_3_0130_lossless_alignedTo_MD590-N47-2015.09.12-05.32.06_MD590_2_0140_cropped/MD590-N44-2015.08.03-19.57.30_MD590_3_0130_lossless_alignedTo_MD590-N47-2015.09.12-05.32.06_MD590_2_0140_cropped_patch_locations.txt\n",
      "/shared/CSHL_patch_features/inception-bn-blue/MD590/MD590_lossless_alignedTo_MD590-N47-2015.09.12-05.32.06_MD590_2_0140_cropped_gray/MD590-N44-2015.08.03-19.57.30_MD590_3_0130_lossless_alignedTo_MD590-N47-2015.09.12-05.32.06_MD590_2_0140_cropped_gray_patch_locations.txt\n",
      "aws s3 cp s3://mousebrainatlas-data/CSHL_patch_features/inception-bn-blue/MD590/MD590-N44-2015.08.03-19.57.30_MD590_3_0130_lossless_alignedTo_MD590-N47-2015.09.12-05.32.06_MD590_2_0140_cropped/MD590-N44-2015.08.03-19.57.30_MD590_3_0130_lossless_alignedTo_MD590-N47-2015.09.12-05.32.06_MD590_2_0140_cropped_patch_locations.txt s3://mousebrainatlas-data/CSHL_patch_features/inception-bn-blue/MD590/MD590_lossless_alignedTo_MD590-N47-2015.09.12-05.32.06_MD590_2_0140_cropped_gray/MD590-N44-2015.08.03-19.57.30_MD590_3_0130_lossless_alignedTo_MD590-N47-2015.09.12-05.32.06_MD590_2_0140_cropped_gray_patch_locations.txt\n"
     ]
    },
    {
     "name": "stderr",
     "output_type": "stream",
     "text": [
      "Child returned 0\n"
     ]
    },
    {
     "name": "stdout",
     "output_type": "stream",
     "text": [
      "/shared/CSHL_patch_features/inception-bn-blue/MD590/MD590-IHC44-2015.08.10-21.02.32_MD590_3_0130_lossless_alignedTo_MD590-N47-2015.09.12-05.32.06_MD590_2_0140_cropped/MD590-IHC44-2015.08.10-21.02.32_MD590_3_0130_lossless_alignedTo_MD590-N47-2015.09.12-05.32.06_MD590_2_0140_cropped_features.bp\n",
      "/shared/CSHL_patch_features/inception-bn-blue/MD590/MD590_lossless_alignedTo_MD590-N47-2015.09.12-05.32.06_MD590_2_0140_cropped_gray/MD590-IHC44-2015.08.10-21.02.32_MD590_3_0130_lossless_alignedTo_MD590-N47-2015.09.12-05.32.06_MD590_2_0140_cropped_gray_features.bp\n",
      "aws s3 cp s3://mousebrainatlas-data/CSHL_patch_features/inception-bn-blue/MD590/MD590-IHC44-2015.08.10-21.02.32_MD590_3_0130_lossless_alignedTo_MD590-N47-2015.09.12-05.32.06_MD590_2_0140_cropped/MD590-IHC44-2015.08.10-21.02.32_MD590_3_0130_lossless_alignedTo_MD590-N47-2015.09.12-05.32.06_MD590_2_0140_cropped_features.bp s3://mousebrainatlas-data/CSHL_patch_features/inception-bn-blue/MD590/MD590_lossless_alignedTo_MD590-N47-2015.09.12-05.32.06_MD590_2_0140_cropped_gray/MD590-IHC44-2015.08.10-21.02.32_MD590_3_0130_lossless_alignedTo_MD590-N47-2015.09.12-05.32.06_MD590_2_0140_cropped_gray_features.bp\n"
     ]
    },
    {
     "name": "stderr",
     "output_type": "stream",
     "text": [
      "Child returned 0\n"
     ]
    },
    {
     "name": "stdout",
     "output_type": "stream",
     "text": [
      "/shared/CSHL_patch_features/inception-bn-blue/MD590/MD590-IHC44-2015.08.10-21.02.32_MD590_3_0130_lossless_alignedTo_MD590-N47-2015.09.12-05.32.06_MD590_2_0140_cropped/MD590-IHC44-2015.08.10-21.02.32_MD590_3_0130_lossless_alignedTo_MD590-N47-2015.09.12-05.32.06_MD590_2_0140_cropped_patch_locations.txt\n",
      "/shared/CSHL_patch_features/inception-bn-blue/MD590/MD590_lossless_alignedTo_MD590-N47-2015.09.12-05.32.06_MD590_2_0140_cropped_gray/MD590-IHC44-2015.08.10-21.02.32_MD590_3_0130_lossless_alignedTo_MD590-N47-2015.09.12-05.32.06_MD590_2_0140_cropped_gray_patch_locations.txt\n",
      "aws s3 cp s3://mousebrainatlas-data/CSHL_patch_features/inception-bn-blue/MD590/MD590-IHC44-2015.08.10-21.02.32_MD590_3_0130_lossless_alignedTo_MD590-N47-2015.09.12-05.32.06_MD590_2_0140_cropped/MD590-IHC44-2015.08.10-21.02.32_MD590_3_0130_lossless_alignedTo_MD590-N47-2015.09.12-05.32.06_MD590_2_0140_cropped_patch_locations.txt s3://mousebrainatlas-data/CSHL_patch_features/inception-bn-blue/MD590/MD590_lossless_alignedTo_MD590-N47-2015.09.12-05.32.06_MD590_2_0140_cropped_gray/MD590-IHC44-2015.08.10-21.02.32_MD590_3_0130_lossless_alignedTo_MD590-N47-2015.09.12-05.32.06_MD590_2_0140_cropped_gray_patch_locations.txt\n"
     ]
    },
    {
     "name": "stderr",
     "output_type": "stream",
     "text": [
      "Child returned 0\n"
     ]
    },
    {
     "name": "stdout",
     "output_type": "stream",
     "text": [
      "/shared/CSHL_patch_features/inception-bn-blue/MD590/MD590-N44-2015.08.03-19.57.30_MD590_1_0132_lossless_alignedTo_MD590-N47-2015.09.12-05.32.06_MD590_2_0140_cropped/MD590-N44-2015.08.03-19.57.30_MD590_1_0132_lossless_alignedTo_MD590-N47-2015.09.12-05.32.06_MD590_2_0140_cropped_features.bp\n",
      "/shared/CSHL_patch_features/inception-bn-blue/MD590/MD590_lossless_alignedTo_MD590-N47-2015.09.12-05.32.06_MD590_2_0140_cropped_gray/MD590-N44-2015.08.03-19.57.30_MD590_1_0132_lossless_alignedTo_MD590-N47-2015.09.12-05.32.06_MD590_2_0140_cropped_gray_features.bp\n",
      "aws s3 cp s3://mousebrainatlas-data/CSHL_patch_features/inception-bn-blue/MD590/MD590-N44-2015.08.03-19.57.30_MD590_1_0132_lossless_alignedTo_MD590-N47-2015.09.12-05.32.06_MD590_2_0140_cropped/MD590-N44-2015.08.03-19.57.30_MD590_1_0132_lossless_alignedTo_MD590-N47-2015.09.12-05.32.06_MD590_2_0140_cropped_features.bp s3://mousebrainatlas-data/CSHL_patch_features/inception-bn-blue/MD590/MD590_lossless_alignedTo_MD590-N47-2015.09.12-05.32.06_MD590_2_0140_cropped_gray/MD590-N44-2015.08.03-19.57.30_MD590_1_0132_lossless_alignedTo_MD590-N47-2015.09.12-05.32.06_MD590_2_0140_cropped_gray_features.bp\n"
     ]
    },
    {
     "name": "stderr",
     "output_type": "stream",
     "text": [
      "Child returned 0\n"
     ]
    },
    {
     "name": "stdout",
     "output_type": "stream",
     "text": [
      "/shared/CSHL_patch_features/inception-bn-blue/MD590/MD590-N44-2015.08.03-19.57.30_MD590_1_0132_lossless_alignedTo_MD590-N47-2015.09.12-05.32.06_MD590_2_0140_cropped/MD590-N44-2015.08.03-19.57.30_MD590_1_0132_lossless_alignedTo_MD590-N47-2015.09.12-05.32.06_MD590_2_0140_cropped_patch_locations.txt\n",
      "/shared/CSHL_patch_features/inception-bn-blue/MD590/MD590_lossless_alignedTo_MD590-N47-2015.09.12-05.32.06_MD590_2_0140_cropped_gray/MD590-N44-2015.08.03-19.57.30_MD590_1_0132_lossless_alignedTo_MD590-N47-2015.09.12-05.32.06_MD590_2_0140_cropped_gray_patch_locations.txt\n",
      "aws s3 cp s3://mousebrainatlas-data/CSHL_patch_features/inception-bn-blue/MD590/MD590-N44-2015.08.03-19.57.30_MD590_1_0132_lossless_alignedTo_MD590-N47-2015.09.12-05.32.06_MD590_2_0140_cropped/MD590-N44-2015.08.03-19.57.30_MD590_1_0132_lossless_alignedTo_MD590-N47-2015.09.12-05.32.06_MD590_2_0140_cropped_patch_locations.txt s3://mousebrainatlas-data/CSHL_patch_features/inception-bn-blue/MD590/MD590_lossless_alignedTo_MD590-N47-2015.09.12-05.32.06_MD590_2_0140_cropped_gray/MD590-N44-2015.08.03-19.57.30_MD590_1_0132_lossless_alignedTo_MD590-N47-2015.09.12-05.32.06_MD590_2_0140_cropped_gray_patch_locations.txt\n"
     ]
    },
    {
     "name": "stderr",
     "output_type": "stream",
     "text": [
      "Child returned 0\n"
     ]
    },
    {
     "name": "stdout",
     "output_type": "stream",
     "text": [
      "/shared/CSHL_patch_features/inception-bn-blue/MD590/MD590-IHC44-2015.08.10-21.02.32_MD590_1_0132_lossless_alignedTo_MD590-N47-2015.09.12-05.32.06_MD590_2_0140_cropped/MD590-IHC44-2015.08.10-21.02.32_MD590_1_0132_lossless_alignedTo_MD590-N47-2015.09.12-05.32.06_MD590_2_0140_cropped_features.bp\n",
      "/shared/CSHL_patch_features/inception-bn-blue/MD590/MD590_lossless_alignedTo_MD590-N47-2015.09.12-05.32.06_MD590_2_0140_cropped_gray/MD590-IHC44-2015.08.10-21.02.32_MD590_1_0132_lossless_alignedTo_MD590-N47-2015.09.12-05.32.06_MD590_2_0140_cropped_gray_features.bp\n",
      "aws s3 cp s3://mousebrainatlas-data/CSHL_patch_features/inception-bn-blue/MD590/MD590-IHC44-2015.08.10-21.02.32_MD590_1_0132_lossless_alignedTo_MD590-N47-2015.09.12-05.32.06_MD590_2_0140_cropped/MD590-IHC44-2015.08.10-21.02.32_MD590_1_0132_lossless_alignedTo_MD590-N47-2015.09.12-05.32.06_MD590_2_0140_cropped_features.bp s3://mousebrainatlas-data/CSHL_patch_features/inception-bn-blue/MD590/MD590_lossless_alignedTo_MD590-N47-2015.09.12-05.32.06_MD590_2_0140_cropped_gray/MD590-IHC44-2015.08.10-21.02.32_MD590_1_0132_lossless_alignedTo_MD590-N47-2015.09.12-05.32.06_MD590_2_0140_cropped_gray_features.bp\n"
     ]
    },
    {
     "name": "stderr",
     "output_type": "stream",
     "text": [
      "Child returned 0\n"
     ]
    },
    {
     "name": "stdout",
     "output_type": "stream",
     "text": [
      "/shared/CSHL_patch_features/inception-bn-blue/MD590/MD590-IHC44-2015.08.10-21.02.32_MD590_1_0132_lossless_alignedTo_MD590-N47-2015.09.12-05.32.06_MD590_2_0140_cropped/MD590-IHC44-2015.08.10-21.02.32_MD590_1_0132_lossless_alignedTo_MD590-N47-2015.09.12-05.32.06_MD590_2_0140_cropped_patch_locations.txt\n",
      "/shared/CSHL_patch_features/inception-bn-blue/MD590/MD590_lossless_alignedTo_MD590-N47-2015.09.12-05.32.06_MD590_2_0140_cropped_gray/MD590-IHC44-2015.08.10-21.02.32_MD590_1_0132_lossless_alignedTo_MD590-N47-2015.09.12-05.32.06_MD590_2_0140_cropped_gray_patch_locations.txt\n",
      "aws s3 cp s3://mousebrainatlas-data/CSHL_patch_features/inception-bn-blue/MD590/MD590-IHC44-2015.08.10-21.02.32_MD590_1_0132_lossless_alignedTo_MD590-N47-2015.09.12-05.32.06_MD590_2_0140_cropped/MD590-IHC44-2015.08.10-21.02.32_MD590_1_0132_lossless_alignedTo_MD590-N47-2015.09.12-05.32.06_MD590_2_0140_cropped_patch_locations.txt s3://mousebrainatlas-data/CSHL_patch_features/inception-bn-blue/MD590/MD590_lossless_alignedTo_MD590-N47-2015.09.12-05.32.06_MD590_2_0140_cropped_gray/MD590-IHC44-2015.08.10-21.02.32_MD590_1_0132_lossless_alignedTo_MD590-N47-2015.09.12-05.32.06_MD590_2_0140_cropped_gray_patch_locations.txt\n"
     ]
    },
    {
     "name": "stderr",
     "output_type": "stream",
     "text": [
      "Child returned 0\n"
     ]
    },
    {
     "name": "stdout",
     "output_type": "stream",
     "text": [
      "/shared/CSHL_patch_features/inception-bn-blue/MD590/MD590-N45-2015.08.03-20.01.29_MD590_3_0133_lossless_alignedTo_MD590-N47-2015.09.12-05.32.06_MD590_2_0140_cropped/MD590-N45-2015.08.03-20.01.29_MD590_3_0133_lossless_alignedTo_MD590-N47-2015.09.12-05.32.06_MD590_2_0140_cropped_features.bp\n",
      "/shared/CSHL_patch_features/inception-bn-blue/MD590/MD590_lossless_alignedTo_MD590-N47-2015.09.12-05.32.06_MD590_2_0140_cropped_gray/MD590-N45-2015.08.03-20.01.29_MD590_3_0133_lossless_alignedTo_MD590-N47-2015.09.12-05.32.06_MD590_2_0140_cropped_gray_features.bp\n",
      "aws s3 cp s3://mousebrainatlas-data/CSHL_patch_features/inception-bn-blue/MD590/MD590-N45-2015.08.03-20.01.29_MD590_3_0133_lossless_alignedTo_MD590-N47-2015.09.12-05.32.06_MD590_2_0140_cropped/MD590-N45-2015.08.03-20.01.29_MD590_3_0133_lossless_alignedTo_MD590-N47-2015.09.12-05.32.06_MD590_2_0140_cropped_features.bp s3://mousebrainatlas-data/CSHL_patch_features/inception-bn-blue/MD590/MD590_lossless_alignedTo_MD590-N47-2015.09.12-05.32.06_MD590_2_0140_cropped_gray/MD590-N45-2015.08.03-20.01.29_MD590_3_0133_lossless_alignedTo_MD590-N47-2015.09.12-05.32.06_MD590_2_0140_cropped_gray_features.bp\n"
     ]
    },
    {
     "name": "stderr",
     "output_type": "stream",
     "text": [
      "Child returned 0\n"
     ]
    },
    {
     "name": "stdout",
     "output_type": "stream",
     "text": [
      "/shared/CSHL_patch_features/inception-bn-blue/MD590/MD590-N45-2015.08.03-20.01.29_MD590_3_0133_lossless_alignedTo_MD590-N47-2015.09.12-05.32.06_MD590_2_0140_cropped/MD590-N45-2015.08.03-20.01.29_MD590_3_0133_lossless_alignedTo_MD590-N47-2015.09.12-05.32.06_MD590_2_0140_cropped_patch_locations.txt\n",
      "/shared/CSHL_patch_features/inception-bn-blue/MD590/MD590_lossless_alignedTo_MD590-N47-2015.09.12-05.32.06_MD590_2_0140_cropped_gray/MD590-N45-2015.08.03-20.01.29_MD590_3_0133_lossless_alignedTo_MD590-N47-2015.09.12-05.32.06_MD590_2_0140_cropped_gray_patch_locations.txt\n",
      "aws s3 cp s3://mousebrainatlas-data/CSHL_patch_features/inception-bn-blue/MD590/MD590-N45-2015.08.03-20.01.29_MD590_3_0133_lossless_alignedTo_MD590-N47-2015.09.12-05.32.06_MD590_2_0140_cropped/MD590-N45-2015.08.03-20.01.29_MD590_3_0133_lossless_alignedTo_MD590-N47-2015.09.12-05.32.06_MD590_2_0140_cropped_patch_locations.txt s3://mousebrainatlas-data/CSHL_patch_features/inception-bn-blue/MD590/MD590_lossless_alignedTo_MD590-N47-2015.09.12-05.32.06_MD590_2_0140_cropped_gray/MD590-N45-2015.08.03-20.01.29_MD590_3_0133_lossless_alignedTo_MD590-N47-2015.09.12-05.32.06_MD590_2_0140_cropped_gray_patch_locations.txt\n"
     ]
    },
    {
     "name": "stderr",
     "output_type": "stream",
     "text": [
      "Child returned 0\n"
     ]
    },
    {
     "name": "stdout",
     "output_type": "stream",
     "text": [
      "/shared/CSHL_patch_features/inception-bn-blue/MD590/MD590-IHC45-2015.08.10-21.06.43_MD590_3_0133_lossless_alignedTo_MD590-N47-2015.09.12-05.32.06_MD590_2_0140_cropped/MD590-IHC45-2015.08.10-21.06.43_MD590_3_0133_lossless_alignedTo_MD590-N47-2015.09.12-05.32.06_MD590_2_0140_cropped_features.bp\n",
      "/shared/CSHL_patch_features/inception-bn-blue/MD590/MD590_lossless_alignedTo_MD590-N47-2015.09.12-05.32.06_MD590_2_0140_cropped_gray/MD590-IHC45-2015.08.10-21.06.43_MD590_3_0133_lossless_alignedTo_MD590-N47-2015.09.12-05.32.06_MD590_2_0140_cropped_gray_features.bp\n",
      "aws s3 cp s3://mousebrainatlas-data/CSHL_patch_features/inception-bn-blue/MD590/MD590-IHC45-2015.08.10-21.06.43_MD590_3_0133_lossless_alignedTo_MD590-N47-2015.09.12-05.32.06_MD590_2_0140_cropped/MD590-IHC45-2015.08.10-21.06.43_MD590_3_0133_lossless_alignedTo_MD590-N47-2015.09.12-05.32.06_MD590_2_0140_cropped_features.bp s3://mousebrainatlas-data/CSHL_patch_features/inception-bn-blue/MD590/MD590_lossless_alignedTo_MD590-N47-2015.09.12-05.32.06_MD590_2_0140_cropped_gray/MD590-IHC45-2015.08.10-21.06.43_MD590_3_0133_lossless_alignedTo_MD590-N47-2015.09.12-05.32.06_MD590_2_0140_cropped_gray_features.bp\n"
     ]
    },
    {
     "name": "stderr",
     "output_type": "stream",
     "text": [
      "Child returned 0\n"
     ]
    },
    {
     "name": "stdout",
     "output_type": "stream",
     "text": [
      "/shared/CSHL_patch_features/inception-bn-blue/MD590/MD590-IHC45-2015.08.10-21.06.43_MD590_3_0133_lossless_alignedTo_MD590-N47-2015.09.12-05.32.06_MD590_2_0140_cropped/MD590-IHC45-2015.08.10-21.06.43_MD590_3_0133_lossless_alignedTo_MD590-N47-2015.09.12-05.32.06_MD590_2_0140_cropped_patch_locations.txt\n",
      "/shared/CSHL_patch_features/inception-bn-blue/MD590/MD590_lossless_alignedTo_MD590-N47-2015.09.12-05.32.06_MD590_2_0140_cropped_gray/MD590-IHC45-2015.08.10-21.06.43_MD590_3_0133_lossless_alignedTo_MD590-N47-2015.09.12-05.32.06_MD590_2_0140_cropped_gray_patch_locations.txt\n",
      "aws s3 cp s3://mousebrainatlas-data/CSHL_patch_features/inception-bn-blue/MD590/MD590-IHC45-2015.08.10-21.06.43_MD590_3_0133_lossless_alignedTo_MD590-N47-2015.09.12-05.32.06_MD590_2_0140_cropped/MD590-IHC45-2015.08.10-21.06.43_MD590_3_0133_lossless_alignedTo_MD590-N47-2015.09.12-05.32.06_MD590_2_0140_cropped_patch_locations.txt s3://mousebrainatlas-data/CSHL_patch_features/inception-bn-blue/MD590/MD590_lossless_alignedTo_MD590-N47-2015.09.12-05.32.06_MD590_2_0140_cropped_gray/MD590-IHC45-2015.08.10-21.06.43_MD590_3_0133_lossless_alignedTo_MD590-N47-2015.09.12-05.32.06_MD590_2_0140_cropped_gray_patch_locations.txt\n"
     ]
    },
    {
     "name": "stderr",
     "output_type": "stream",
     "text": [
      "Child returned 0\n"
     ]
    },
    {
     "name": "stdout",
     "output_type": "stream",
     "text": [
      "/shared/CSHL_patch_features/inception-bn-blue/MD590/MD590-N45-2015.08.03-20.01.29_MD590_1_0135_lossless_alignedTo_MD590-N47-2015.09.12-05.32.06_MD590_2_0140_cropped/MD590-N45-2015.08.03-20.01.29_MD590_1_0135_lossless_alignedTo_MD590-N47-2015.09.12-05.32.06_MD590_2_0140_cropped_features.bp\n",
      "/shared/CSHL_patch_features/inception-bn-blue/MD590/MD590_lossless_alignedTo_MD590-N47-2015.09.12-05.32.06_MD590_2_0140_cropped_gray/MD590-N45-2015.08.03-20.01.29_MD590_1_0135_lossless_alignedTo_MD590-N47-2015.09.12-05.32.06_MD590_2_0140_cropped_gray_features.bp\n",
      "aws s3 cp s3://mousebrainatlas-data/CSHL_patch_features/inception-bn-blue/MD590/MD590-N45-2015.08.03-20.01.29_MD590_1_0135_lossless_alignedTo_MD590-N47-2015.09.12-05.32.06_MD590_2_0140_cropped/MD590-N45-2015.08.03-20.01.29_MD590_1_0135_lossless_alignedTo_MD590-N47-2015.09.12-05.32.06_MD590_2_0140_cropped_features.bp s3://mousebrainatlas-data/CSHL_patch_features/inception-bn-blue/MD590/MD590_lossless_alignedTo_MD590-N47-2015.09.12-05.32.06_MD590_2_0140_cropped_gray/MD590-N45-2015.08.03-20.01.29_MD590_1_0135_lossless_alignedTo_MD590-N47-2015.09.12-05.32.06_MD590_2_0140_cropped_gray_features.bp\n"
     ]
    },
    {
     "name": "stderr",
     "output_type": "stream",
     "text": [
      "Child returned 0\n"
     ]
    },
    {
     "name": "stdout",
     "output_type": "stream",
     "text": [
      "/shared/CSHL_patch_features/inception-bn-blue/MD590/MD590-N45-2015.08.03-20.01.29_MD590_1_0135_lossless_alignedTo_MD590-N47-2015.09.12-05.32.06_MD590_2_0140_cropped/MD590-N45-2015.08.03-20.01.29_MD590_1_0135_lossless_alignedTo_MD590-N47-2015.09.12-05.32.06_MD590_2_0140_cropped_patch_locations.txt\n",
      "/shared/CSHL_patch_features/inception-bn-blue/MD590/MD590_lossless_alignedTo_MD590-N47-2015.09.12-05.32.06_MD590_2_0140_cropped_gray/MD590-N45-2015.08.03-20.01.29_MD590_1_0135_lossless_alignedTo_MD590-N47-2015.09.12-05.32.06_MD590_2_0140_cropped_gray_patch_locations.txt\n",
      "aws s3 cp s3://mousebrainatlas-data/CSHL_patch_features/inception-bn-blue/MD590/MD590-N45-2015.08.03-20.01.29_MD590_1_0135_lossless_alignedTo_MD590-N47-2015.09.12-05.32.06_MD590_2_0140_cropped/MD590-N45-2015.08.03-20.01.29_MD590_1_0135_lossless_alignedTo_MD590-N47-2015.09.12-05.32.06_MD590_2_0140_cropped_patch_locations.txt s3://mousebrainatlas-data/CSHL_patch_features/inception-bn-blue/MD590/MD590_lossless_alignedTo_MD590-N47-2015.09.12-05.32.06_MD590_2_0140_cropped_gray/MD590-N45-2015.08.03-20.01.29_MD590_1_0135_lossless_alignedTo_MD590-N47-2015.09.12-05.32.06_MD590_2_0140_cropped_gray_patch_locations.txt\n"
     ]
    },
    {
     "name": "stderr",
     "output_type": "stream",
     "text": [
      "Child returned 0\n"
     ]
    },
    {
     "name": "stdout",
     "output_type": "stream",
     "text": [
      "/shared/CSHL_patch_features/inception-bn-blue/MD590/MD590-IHC45-2015.08.10-21.06.43_MD590_1_0135_lossless_alignedTo_MD590-N47-2015.09.12-05.32.06_MD590_2_0140_cropped/MD590-IHC45-2015.08.10-21.06.43_MD590_1_0135_lossless_alignedTo_MD590-N47-2015.09.12-05.32.06_MD590_2_0140_cropped_features.bp\n",
      "/shared/CSHL_patch_features/inception-bn-blue/MD590/MD590_lossless_alignedTo_MD590-N47-2015.09.12-05.32.06_MD590_2_0140_cropped_gray/MD590-IHC45-2015.08.10-21.06.43_MD590_1_0135_lossless_alignedTo_MD590-N47-2015.09.12-05.32.06_MD590_2_0140_cropped_gray_features.bp\n",
      "aws s3 cp s3://mousebrainatlas-data/CSHL_patch_features/inception-bn-blue/MD590/MD590-IHC45-2015.08.10-21.06.43_MD590_1_0135_lossless_alignedTo_MD590-N47-2015.09.12-05.32.06_MD590_2_0140_cropped/MD590-IHC45-2015.08.10-21.06.43_MD590_1_0135_lossless_alignedTo_MD590-N47-2015.09.12-05.32.06_MD590_2_0140_cropped_features.bp s3://mousebrainatlas-data/CSHL_patch_features/inception-bn-blue/MD590/MD590_lossless_alignedTo_MD590-N47-2015.09.12-05.32.06_MD590_2_0140_cropped_gray/MD590-IHC45-2015.08.10-21.06.43_MD590_1_0135_lossless_alignedTo_MD590-N47-2015.09.12-05.32.06_MD590_2_0140_cropped_gray_features.bp\n"
     ]
    },
    {
     "name": "stderr",
     "output_type": "stream",
     "text": [
      "Child returned 0\n"
     ]
    },
    {
     "name": "stdout",
     "output_type": "stream",
     "text": [
      "/shared/CSHL_patch_features/inception-bn-blue/MD590/MD590-IHC45-2015.08.10-21.06.43_MD590_1_0135_lossless_alignedTo_MD590-N47-2015.09.12-05.32.06_MD590_2_0140_cropped/MD590-IHC45-2015.08.10-21.06.43_MD590_1_0135_lossless_alignedTo_MD590-N47-2015.09.12-05.32.06_MD590_2_0140_cropped_patch_locations.txt\n",
      "/shared/CSHL_patch_features/inception-bn-blue/MD590/MD590_lossless_alignedTo_MD590-N47-2015.09.12-05.32.06_MD590_2_0140_cropped_gray/MD590-IHC45-2015.08.10-21.06.43_MD590_1_0135_lossless_alignedTo_MD590-N47-2015.09.12-05.32.06_MD590_2_0140_cropped_gray_patch_locations.txt\n",
      "aws s3 cp s3://mousebrainatlas-data/CSHL_patch_features/inception-bn-blue/MD590/MD590-IHC45-2015.08.10-21.06.43_MD590_1_0135_lossless_alignedTo_MD590-N47-2015.09.12-05.32.06_MD590_2_0140_cropped/MD590-IHC45-2015.08.10-21.06.43_MD590_1_0135_lossless_alignedTo_MD590-N47-2015.09.12-05.32.06_MD590_2_0140_cropped_patch_locations.txt s3://mousebrainatlas-data/CSHL_patch_features/inception-bn-blue/MD590/MD590_lossless_alignedTo_MD590-N47-2015.09.12-05.32.06_MD590_2_0140_cropped_gray/MD590-IHC45-2015.08.10-21.06.43_MD590_1_0135_lossless_alignedTo_MD590-N47-2015.09.12-05.32.06_MD590_2_0140_cropped_gray_patch_locations.txt\n"
     ]
    },
    {
     "name": "stderr",
     "output_type": "stream",
     "text": [
      "Child returned 0\n"
     ]
    },
    {
     "name": "stdout",
     "output_type": "stream",
     "text": [
      "/shared/CSHL_patch_features/inception-bn-blue/MD590/MD590-N46-2015.08.03-20.05.19_MD590_3_0136_lossless_alignedTo_MD590-N47-2015.09.12-05.32.06_MD590_2_0140_cropped/MD590-N46-2015.08.03-20.05.19_MD590_3_0136_lossless_alignedTo_MD590-N47-2015.09.12-05.32.06_MD590_2_0140_cropped_features.bp\n",
      "/shared/CSHL_patch_features/inception-bn-blue/MD590/MD590_lossless_alignedTo_MD590-N47-2015.09.12-05.32.06_MD590_2_0140_cropped_gray/MD590-N46-2015.08.03-20.05.19_MD590_3_0136_lossless_alignedTo_MD590-N47-2015.09.12-05.32.06_MD590_2_0140_cropped_gray_features.bp\n",
      "aws s3 cp s3://mousebrainatlas-data/CSHL_patch_features/inception-bn-blue/MD590/MD590-N46-2015.08.03-20.05.19_MD590_3_0136_lossless_alignedTo_MD590-N47-2015.09.12-05.32.06_MD590_2_0140_cropped/MD590-N46-2015.08.03-20.05.19_MD590_3_0136_lossless_alignedTo_MD590-N47-2015.09.12-05.32.06_MD590_2_0140_cropped_features.bp s3://mousebrainatlas-data/CSHL_patch_features/inception-bn-blue/MD590/MD590_lossless_alignedTo_MD590-N47-2015.09.12-05.32.06_MD590_2_0140_cropped_gray/MD590-N46-2015.08.03-20.05.19_MD590_3_0136_lossless_alignedTo_MD590-N47-2015.09.12-05.32.06_MD590_2_0140_cropped_gray_features.bp\n"
     ]
    },
    {
     "name": "stderr",
     "output_type": "stream",
     "text": [
      "Child returned 0\n"
     ]
    },
    {
     "name": "stdout",
     "output_type": "stream",
     "text": [
      "/shared/CSHL_patch_features/inception-bn-blue/MD590/MD590-N46-2015.08.03-20.05.19_MD590_3_0136_lossless_alignedTo_MD590-N47-2015.09.12-05.32.06_MD590_2_0140_cropped/MD590-N46-2015.08.03-20.05.19_MD590_3_0136_lossless_alignedTo_MD590-N47-2015.09.12-05.32.06_MD590_2_0140_cropped_patch_locations.txt\n",
      "/shared/CSHL_patch_features/inception-bn-blue/MD590/MD590_lossless_alignedTo_MD590-N47-2015.09.12-05.32.06_MD590_2_0140_cropped_gray/MD590-N46-2015.08.03-20.05.19_MD590_3_0136_lossless_alignedTo_MD590-N47-2015.09.12-05.32.06_MD590_2_0140_cropped_gray_patch_locations.txt\n",
      "aws s3 cp s3://mousebrainatlas-data/CSHL_patch_features/inception-bn-blue/MD590/MD590-N46-2015.08.03-20.05.19_MD590_3_0136_lossless_alignedTo_MD590-N47-2015.09.12-05.32.06_MD590_2_0140_cropped/MD590-N46-2015.08.03-20.05.19_MD590_3_0136_lossless_alignedTo_MD590-N47-2015.09.12-05.32.06_MD590_2_0140_cropped_patch_locations.txt s3://mousebrainatlas-data/CSHL_patch_features/inception-bn-blue/MD590/MD590_lossless_alignedTo_MD590-N47-2015.09.12-05.32.06_MD590_2_0140_cropped_gray/MD590-N46-2015.08.03-20.05.19_MD590_3_0136_lossless_alignedTo_MD590-N47-2015.09.12-05.32.06_MD590_2_0140_cropped_gray_patch_locations.txt\n"
     ]
    },
    {
     "name": "stderr",
     "output_type": "stream",
     "text": [
      "Child returned 0\n"
     ]
    },
    {
     "name": "stdout",
     "output_type": "stream",
     "text": [
      "/shared/CSHL_patch_features/inception-bn-blue/MD590/MD590-IHC46-2015.08.10-21.10.44_MD590_3_0136_lossless_alignedTo_MD590-N47-2015.09.12-05.32.06_MD590_2_0140_cropped/MD590-IHC46-2015.08.10-21.10.44_MD590_3_0136_lossless_alignedTo_MD590-N47-2015.09.12-05.32.06_MD590_2_0140_cropped_features.bp\n",
      "/shared/CSHL_patch_features/inception-bn-blue/MD590/MD590_lossless_alignedTo_MD590-N47-2015.09.12-05.32.06_MD590_2_0140_cropped_gray/MD590-IHC46-2015.08.10-21.10.44_MD590_3_0136_lossless_alignedTo_MD590-N47-2015.09.12-05.32.06_MD590_2_0140_cropped_gray_features.bp\n",
      "aws s3 cp s3://mousebrainatlas-data/CSHL_patch_features/inception-bn-blue/MD590/MD590-IHC46-2015.08.10-21.10.44_MD590_3_0136_lossless_alignedTo_MD590-N47-2015.09.12-05.32.06_MD590_2_0140_cropped/MD590-IHC46-2015.08.10-21.10.44_MD590_3_0136_lossless_alignedTo_MD590-N47-2015.09.12-05.32.06_MD590_2_0140_cropped_features.bp s3://mousebrainatlas-data/CSHL_patch_features/inception-bn-blue/MD590/MD590_lossless_alignedTo_MD590-N47-2015.09.12-05.32.06_MD590_2_0140_cropped_gray/MD590-IHC46-2015.08.10-21.10.44_MD590_3_0136_lossless_alignedTo_MD590-N47-2015.09.12-05.32.06_MD590_2_0140_cropped_gray_features.bp\n"
     ]
    },
    {
     "name": "stderr",
     "output_type": "stream",
     "text": [
      "Child returned 0\n"
     ]
    },
    {
     "name": "stdout",
     "output_type": "stream",
     "text": [
      "/shared/CSHL_patch_features/inception-bn-blue/MD590/MD590-IHC46-2015.08.10-21.10.44_MD590_3_0136_lossless_alignedTo_MD590-N47-2015.09.12-05.32.06_MD590_2_0140_cropped/MD590-IHC46-2015.08.10-21.10.44_MD590_3_0136_lossless_alignedTo_MD590-N47-2015.09.12-05.32.06_MD590_2_0140_cropped_patch_locations.txt\n",
      "/shared/CSHL_patch_features/inception-bn-blue/MD590/MD590_lossless_alignedTo_MD590-N47-2015.09.12-05.32.06_MD590_2_0140_cropped_gray/MD590-IHC46-2015.08.10-21.10.44_MD590_3_0136_lossless_alignedTo_MD590-N47-2015.09.12-05.32.06_MD590_2_0140_cropped_gray_patch_locations.txt\n",
      "aws s3 cp s3://mousebrainatlas-data/CSHL_patch_features/inception-bn-blue/MD590/MD590-IHC46-2015.08.10-21.10.44_MD590_3_0136_lossless_alignedTo_MD590-N47-2015.09.12-05.32.06_MD590_2_0140_cropped/MD590-IHC46-2015.08.10-21.10.44_MD590_3_0136_lossless_alignedTo_MD590-N47-2015.09.12-05.32.06_MD590_2_0140_cropped_patch_locations.txt s3://mousebrainatlas-data/CSHL_patch_features/inception-bn-blue/MD590/MD590_lossless_alignedTo_MD590-N47-2015.09.12-05.32.06_MD590_2_0140_cropped_gray/MD590-IHC46-2015.08.10-21.10.44_MD590_3_0136_lossless_alignedTo_MD590-N47-2015.09.12-05.32.06_MD590_2_0140_cropped_gray_patch_locations.txt\n"
     ]
    },
    {
     "name": "stderr",
     "output_type": "stream",
     "text": [
      "Child returned 0\n"
     ]
    },
    {
     "name": "stdout",
     "output_type": "stream",
     "text": [
      "/shared/CSHL_patch_features/inception-bn-blue/MD590/MD590-N46-2015.08.03-20.05.19_MD590_2_0137_lossless_alignedTo_MD590-N47-2015.09.12-05.32.06_MD590_2_0140_cropped/MD590-N46-2015.08.03-20.05.19_MD590_2_0137_lossless_alignedTo_MD590-N47-2015.09.12-05.32.06_MD590_2_0140_cropped_features.bp\n",
      "/shared/CSHL_patch_features/inception-bn-blue/MD590/MD590_lossless_alignedTo_MD590-N47-2015.09.12-05.32.06_MD590_2_0140_cropped_gray/MD590-N46-2015.08.03-20.05.19_MD590_2_0137_lossless_alignedTo_MD590-N47-2015.09.12-05.32.06_MD590_2_0140_cropped_gray_features.bp\n",
      "aws s3 cp s3://mousebrainatlas-data/CSHL_patch_features/inception-bn-blue/MD590/MD590-N46-2015.08.03-20.05.19_MD590_2_0137_lossless_alignedTo_MD590-N47-2015.09.12-05.32.06_MD590_2_0140_cropped/MD590-N46-2015.08.03-20.05.19_MD590_2_0137_lossless_alignedTo_MD590-N47-2015.09.12-05.32.06_MD590_2_0140_cropped_features.bp s3://mousebrainatlas-data/CSHL_patch_features/inception-bn-blue/MD590/MD590_lossless_alignedTo_MD590-N47-2015.09.12-05.32.06_MD590_2_0140_cropped_gray/MD590-N46-2015.08.03-20.05.19_MD590_2_0137_lossless_alignedTo_MD590-N47-2015.09.12-05.32.06_MD590_2_0140_cropped_gray_features.bp\n"
     ]
    },
    {
     "name": "stderr",
     "output_type": "stream",
     "text": [
      "Child returned 0\n"
     ]
    },
    {
     "name": "stdout",
     "output_type": "stream",
     "text": [
      "/shared/CSHL_patch_features/inception-bn-blue/MD590/MD590-N46-2015.08.03-20.05.19_MD590_2_0137_lossless_alignedTo_MD590-N47-2015.09.12-05.32.06_MD590_2_0140_cropped/MD590-N46-2015.08.03-20.05.19_MD590_2_0137_lossless_alignedTo_MD590-N47-2015.09.12-05.32.06_MD590_2_0140_cropped_patch_locations.txt\n",
      "/shared/CSHL_patch_features/inception-bn-blue/MD590/MD590_lossless_alignedTo_MD590-N47-2015.09.12-05.32.06_MD590_2_0140_cropped_gray/MD590-N46-2015.08.03-20.05.19_MD590_2_0137_lossless_alignedTo_MD590-N47-2015.09.12-05.32.06_MD590_2_0140_cropped_gray_patch_locations.txt\n",
      "aws s3 cp s3://mousebrainatlas-data/CSHL_patch_features/inception-bn-blue/MD590/MD590-N46-2015.08.03-20.05.19_MD590_2_0137_lossless_alignedTo_MD590-N47-2015.09.12-05.32.06_MD590_2_0140_cropped/MD590-N46-2015.08.03-20.05.19_MD590_2_0137_lossless_alignedTo_MD590-N47-2015.09.12-05.32.06_MD590_2_0140_cropped_patch_locations.txt s3://mousebrainatlas-data/CSHL_patch_features/inception-bn-blue/MD590/MD590_lossless_alignedTo_MD590-N47-2015.09.12-05.32.06_MD590_2_0140_cropped_gray/MD590-N46-2015.08.03-20.05.19_MD590_2_0137_lossless_alignedTo_MD590-N47-2015.09.12-05.32.06_MD590_2_0140_cropped_gray_patch_locations.txt\n"
     ]
    },
    {
     "name": "stderr",
     "output_type": "stream",
     "text": [
      "Child returned 0\n"
     ]
    },
    {
     "name": "stdout",
     "output_type": "stream",
     "text": [
      "/shared/CSHL_patch_features/inception-bn-blue/MD590/MD590-IHC46-2015.08.10-21.10.44_MD590_2_0137_lossless_alignedTo_MD590-N47-2015.09.12-05.32.06_MD590_2_0140_cropped/MD590-IHC46-2015.08.10-21.10.44_MD590_2_0137_lossless_alignedTo_MD590-N47-2015.09.12-05.32.06_MD590_2_0140_cropped_features.bp\n",
      "/shared/CSHL_patch_features/inception-bn-blue/MD590/MD590_lossless_alignedTo_MD590-N47-2015.09.12-05.32.06_MD590_2_0140_cropped_gray/MD590-IHC46-2015.08.10-21.10.44_MD590_2_0137_lossless_alignedTo_MD590-N47-2015.09.12-05.32.06_MD590_2_0140_cropped_gray_features.bp\n",
      "aws s3 cp s3://mousebrainatlas-data/CSHL_patch_features/inception-bn-blue/MD590/MD590-IHC46-2015.08.10-21.10.44_MD590_2_0137_lossless_alignedTo_MD590-N47-2015.09.12-05.32.06_MD590_2_0140_cropped/MD590-IHC46-2015.08.10-21.10.44_MD590_2_0137_lossless_alignedTo_MD590-N47-2015.09.12-05.32.06_MD590_2_0140_cropped_features.bp s3://mousebrainatlas-data/CSHL_patch_features/inception-bn-blue/MD590/MD590_lossless_alignedTo_MD590-N47-2015.09.12-05.32.06_MD590_2_0140_cropped_gray/MD590-IHC46-2015.08.10-21.10.44_MD590_2_0137_lossless_alignedTo_MD590-N47-2015.09.12-05.32.06_MD590_2_0140_cropped_gray_features.bp\n"
     ]
    },
    {
     "name": "stderr",
     "output_type": "stream",
     "text": [
      "Child returned 0\n"
     ]
    },
    {
     "name": "stdout",
     "output_type": "stream",
     "text": [
      "/shared/CSHL_patch_features/inception-bn-blue/MD590/MD590-IHC46-2015.08.10-21.10.44_MD590_2_0137_lossless_alignedTo_MD590-N47-2015.09.12-05.32.06_MD590_2_0140_cropped/MD590-IHC46-2015.08.10-21.10.44_MD590_2_0137_lossless_alignedTo_MD590-N47-2015.09.12-05.32.06_MD590_2_0140_cropped_patch_locations.txt\n",
      "/shared/CSHL_patch_features/inception-bn-blue/MD590/MD590_lossless_alignedTo_MD590-N47-2015.09.12-05.32.06_MD590_2_0140_cropped_gray/MD590-IHC46-2015.08.10-21.10.44_MD590_2_0137_lossless_alignedTo_MD590-N47-2015.09.12-05.32.06_MD590_2_0140_cropped_gray_patch_locations.txt\n",
      "aws s3 cp s3://mousebrainatlas-data/CSHL_patch_features/inception-bn-blue/MD590/MD590-IHC46-2015.08.10-21.10.44_MD590_2_0137_lossless_alignedTo_MD590-N47-2015.09.12-05.32.06_MD590_2_0140_cropped/MD590-IHC46-2015.08.10-21.10.44_MD590_2_0137_lossless_alignedTo_MD590-N47-2015.09.12-05.32.06_MD590_2_0140_cropped_patch_locations.txt s3://mousebrainatlas-data/CSHL_patch_features/inception-bn-blue/MD590/MD590_lossless_alignedTo_MD590-N47-2015.09.12-05.32.06_MD590_2_0140_cropped_gray/MD590-IHC46-2015.08.10-21.10.44_MD590_2_0137_lossless_alignedTo_MD590-N47-2015.09.12-05.32.06_MD590_2_0140_cropped_gray_patch_locations.txt\n"
     ]
    },
    {
     "name": "stderr",
     "output_type": "stream",
     "text": [
      "Child returned 0\n"
     ]
    },
    {
     "name": "stdout",
     "output_type": "stream",
     "text": [
      "/shared/CSHL_patch_features/inception-bn-blue/MD590/MD590-N47-2015.09.12-05.32.06_MD590_1_0139_lossless_alignedTo_MD590-N47-2015.09.12-05.32.06_MD590_2_0140_cropped/MD590-N47-2015.09.12-05.32.06_MD590_1_0139_lossless_alignedTo_MD590-N47-2015.09.12-05.32.06_MD590_2_0140_cropped_features.bp\n",
      "/shared/CSHL_patch_features/inception-bn-blue/MD590/MD590_lossless_alignedTo_MD590-N47-2015.09.12-05.32.06_MD590_2_0140_cropped_gray/MD590-N47-2015.09.12-05.32.06_MD590_1_0139_lossless_alignedTo_MD590-N47-2015.09.12-05.32.06_MD590_2_0140_cropped_gray_features.bp\n",
      "aws s3 cp s3://mousebrainatlas-data/CSHL_patch_features/inception-bn-blue/MD590/MD590-N47-2015.09.12-05.32.06_MD590_1_0139_lossless_alignedTo_MD590-N47-2015.09.12-05.32.06_MD590_2_0140_cropped/MD590-N47-2015.09.12-05.32.06_MD590_1_0139_lossless_alignedTo_MD590-N47-2015.09.12-05.32.06_MD590_2_0140_cropped_features.bp s3://mousebrainatlas-data/CSHL_patch_features/inception-bn-blue/MD590/MD590_lossless_alignedTo_MD590-N47-2015.09.12-05.32.06_MD590_2_0140_cropped_gray/MD590-N47-2015.09.12-05.32.06_MD590_1_0139_lossless_alignedTo_MD590-N47-2015.09.12-05.32.06_MD590_2_0140_cropped_gray_features.bp\n"
     ]
    },
    {
     "name": "stderr",
     "output_type": "stream",
     "text": [
      "Child returned 0\n"
     ]
    },
    {
     "name": "stdout",
     "output_type": "stream",
     "text": [
      "/shared/CSHL_patch_features/inception-bn-blue/MD590/MD590-N47-2015.09.12-05.32.06_MD590_1_0139_lossless_alignedTo_MD590-N47-2015.09.12-05.32.06_MD590_2_0140_cropped/MD590-N47-2015.09.12-05.32.06_MD590_1_0139_lossless_alignedTo_MD590-N47-2015.09.12-05.32.06_MD590_2_0140_cropped_patch_locations.txt\n",
      "/shared/CSHL_patch_features/inception-bn-blue/MD590/MD590_lossless_alignedTo_MD590-N47-2015.09.12-05.32.06_MD590_2_0140_cropped_gray/MD590-N47-2015.09.12-05.32.06_MD590_1_0139_lossless_alignedTo_MD590-N47-2015.09.12-05.32.06_MD590_2_0140_cropped_gray_patch_locations.txt\n",
      "aws s3 cp s3://mousebrainatlas-data/CSHL_patch_features/inception-bn-blue/MD590/MD590-N47-2015.09.12-05.32.06_MD590_1_0139_lossless_alignedTo_MD590-N47-2015.09.12-05.32.06_MD590_2_0140_cropped/MD590-N47-2015.09.12-05.32.06_MD590_1_0139_lossless_alignedTo_MD590-N47-2015.09.12-05.32.06_MD590_2_0140_cropped_patch_locations.txt s3://mousebrainatlas-data/CSHL_patch_features/inception-bn-blue/MD590/MD590_lossless_alignedTo_MD590-N47-2015.09.12-05.32.06_MD590_2_0140_cropped_gray/MD590-N47-2015.09.12-05.32.06_MD590_1_0139_lossless_alignedTo_MD590-N47-2015.09.12-05.32.06_MD590_2_0140_cropped_gray_patch_locations.txt\n"
     ]
    },
    {
     "name": "stderr",
     "output_type": "stream",
     "text": [
      "Child returned 0\n"
     ]
    },
    {
     "name": "stdout",
     "output_type": "stream",
     "text": [
      "/shared/CSHL_patch_features/inception-bn-blue/MD590/MD590-IHC47-2015.08.10-21.15.09_MD590_3_0139_lossless_alignedTo_MD590-N47-2015.09.12-05.32.06_MD590_2_0140_cropped/MD590-IHC47-2015.08.10-21.15.09_MD590_3_0139_lossless_alignedTo_MD590-N47-2015.09.12-05.32.06_MD590_2_0140_cropped_features.bp\n",
      "/shared/CSHL_patch_features/inception-bn-blue/MD590/MD590_lossless_alignedTo_MD590-N47-2015.09.12-05.32.06_MD590_2_0140_cropped_gray/MD590-IHC47-2015.08.10-21.15.09_MD590_3_0139_lossless_alignedTo_MD590-N47-2015.09.12-05.32.06_MD590_2_0140_cropped_gray_features.bp\n",
      "aws s3 cp s3://mousebrainatlas-data/CSHL_patch_features/inception-bn-blue/MD590/MD590-IHC47-2015.08.10-21.15.09_MD590_3_0139_lossless_alignedTo_MD590-N47-2015.09.12-05.32.06_MD590_2_0140_cropped/MD590-IHC47-2015.08.10-21.15.09_MD590_3_0139_lossless_alignedTo_MD590-N47-2015.09.12-05.32.06_MD590_2_0140_cropped_features.bp s3://mousebrainatlas-data/CSHL_patch_features/inception-bn-blue/MD590/MD590_lossless_alignedTo_MD590-N47-2015.09.12-05.32.06_MD590_2_0140_cropped_gray/MD590-IHC47-2015.08.10-21.15.09_MD590_3_0139_lossless_alignedTo_MD590-N47-2015.09.12-05.32.06_MD590_2_0140_cropped_gray_features.bp\n"
     ]
    },
    {
     "name": "stderr",
     "output_type": "stream",
     "text": [
      "Child returned 0\n"
     ]
    },
    {
     "name": "stdout",
     "output_type": "stream",
     "text": [
      "/shared/CSHL_patch_features/inception-bn-blue/MD590/MD590-IHC47-2015.08.10-21.15.09_MD590_3_0139_lossless_alignedTo_MD590-N47-2015.09.12-05.32.06_MD590_2_0140_cropped/MD590-IHC47-2015.08.10-21.15.09_MD590_3_0139_lossless_alignedTo_MD590-N47-2015.09.12-05.32.06_MD590_2_0140_cropped_patch_locations.txt\n",
      "/shared/CSHL_patch_features/inception-bn-blue/MD590/MD590_lossless_alignedTo_MD590-N47-2015.09.12-05.32.06_MD590_2_0140_cropped_gray/MD590-IHC47-2015.08.10-21.15.09_MD590_3_0139_lossless_alignedTo_MD590-N47-2015.09.12-05.32.06_MD590_2_0140_cropped_gray_patch_locations.txt\n",
      "aws s3 cp s3://mousebrainatlas-data/CSHL_patch_features/inception-bn-blue/MD590/MD590-IHC47-2015.08.10-21.15.09_MD590_3_0139_lossless_alignedTo_MD590-N47-2015.09.12-05.32.06_MD590_2_0140_cropped/MD590-IHC47-2015.08.10-21.15.09_MD590_3_0139_lossless_alignedTo_MD590-N47-2015.09.12-05.32.06_MD590_2_0140_cropped_patch_locations.txt s3://mousebrainatlas-data/CSHL_patch_features/inception-bn-blue/MD590/MD590_lossless_alignedTo_MD590-N47-2015.09.12-05.32.06_MD590_2_0140_cropped_gray/MD590-IHC47-2015.08.10-21.15.09_MD590_3_0139_lossless_alignedTo_MD590-N47-2015.09.12-05.32.06_MD590_2_0140_cropped_gray_patch_locations.txt\n"
     ]
    },
    {
     "name": "stderr",
     "output_type": "stream",
     "text": [
      "Child returned 0\n"
     ]
    },
    {
     "name": "stdout",
     "output_type": "stream",
     "text": [
      "/shared/CSHL_patch_features/inception-bn-blue/MD590/MD590-N47-2015.09.12-05.32.06_MD590_2_0140_lossless_alignedTo_MD590-N47-2015.09.12-05.32.06_MD590_2_0140_cropped/MD590-N47-2015.09.12-05.32.06_MD590_2_0140_lossless_alignedTo_MD590-N47-2015.09.12-05.32.06_MD590_2_0140_cropped_features.bp\n",
      "/shared/CSHL_patch_features/inception-bn-blue/MD590/MD590_lossless_alignedTo_MD590-N47-2015.09.12-05.32.06_MD590_2_0140_cropped_gray/MD590-N47-2015.09.12-05.32.06_MD590_2_0140_lossless_alignedTo_MD590-N47-2015.09.12-05.32.06_MD590_2_0140_cropped_gray_features.bp\n",
      "aws s3 cp s3://mousebrainatlas-data/CSHL_patch_features/inception-bn-blue/MD590/MD590-N47-2015.09.12-05.32.06_MD590_2_0140_lossless_alignedTo_MD590-N47-2015.09.12-05.32.06_MD590_2_0140_cropped/MD590-N47-2015.09.12-05.32.06_MD590_2_0140_lossless_alignedTo_MD590-N47-2015.09.12-05.32.06_MD590_2_0140_cropped_features.bp s3://mousebrainatlas-data/CSHL_patch_features/inception-bn-blue/MD590/MD590_lossless_alignedTo_MD590-N47-2015.09.12-05.32.06_MD590_2_0140_cropped_gray/MD590-N47-2015.09.12-05.32.06_MD590_2_0140_lossless_alignedTo_MD590-N47-2015.09.12-05.32.06_MD590_2_0140_cropped_gray_features.bp\n"
     ]
    },
    {
     "name": "stderr",
     "output_type": "stream",
     "text": [
      "Child returned 0\n"
     ]
    },
    {
     "name": "stdout",
     "output_type": "stream",
     "text": [
      "/shared/CSHL_patch_features/inception-bn-blue/MD590/MD590-N47-2015.09.12-05.32.06_MD590_2_0140_lossless_alignedTo_MD590-N47-2015.09.12-05.32.06_MD590_2_0140_cropped/MD590-N47-2015.09.12-05.32.06_MD590_2_0140_lossless_alignedTo_MD590-N47-2015.09.12-05.32.06_MD590_2_0140_cropped_patch_locations.txt\n",
      "/shared/CSHL_patch_features/inception-bn-blue/MD590/MD590_lossless_alignedTo_MD590-N47-2015.09.12-05.32.06_MD590_2_0140_cropped_gray/MD590-N47-2015.09.12-05.32.06_MD590_2_0140_lossless_alignedTo_MD590-N47-2015.09.12-05.32.06_MD590_2_0140_cropped_gray_patch_locations.txt\n",
      "aws s3 cp s3://mousebrainatlas-data/CSHL_patch_features/inception-bn-blue/MD590/MD590-N47-2015.09.12-05.32.06_MD590_2_0140_lossless_alignedTo_MD590-N47-2015.09.12-05.32.06_MD590_2_0140_cropped/MD590-N47-2015.09.12-05.32.06_MD590_2_0140_lossless_alignedTo_MD590-N47-2015.09.12-05.32.06_MD590_2_0140_cropped_patch_locations.txt s3://mousebrainatlas-data/CSHL_patch_features/inception-bn-blue/MD590/MD590_lossless_alignedTo_MD590-N47-2015.09.12-05.32.06_MD590_2_0140_cropped_gray/MD590-N47-2015.09.12-05.32.06_MD590_2_0140_lossless_alignedTo_MD590-N47-2015.09.12-05.32.06_MD590_2_0140_cropped_gray_patch_locations.txt\n"
     ]
    },
    {
     "name": "stderr",
     "output_type": "stream",
     "text": [
      "Child returned 0\n"
     ]
    },
    {
     "name": "stdout",
     "output_type": "stream",
     "text": [
      "/shared/CSHL_patch_features/inception-bn-blue/MD590/MD590-IHC47-2015.08.10-21.15.09_MD590_2_0140_lossless_alignedTo_MD590-N47-2015.09.12-05.32.06_MD590_2_0140_cropped/MD590-IHC47-2015.08.10-21.15.09_MD590_2_0140_lossless_alignedTo_MD590-N47-2015.09.12-05.32.06_MD590_2_0140_cropped_features.bp\n",
      "/shared/CSHL_patch_features/inception-bn-blue/MD590/MD590_lossless_alignedTo_MD590-N47-2015.09.12-05.32.06_MD590_2_0140_cropped_gray/MD590-IHC47-2015.08.10-21.15.09_MD590_2_0140_lossless_alignedTo_MD590-N47-2015.09.12-05.32.06_MD590_2_0140_cropped_gray_features.bp\n",
      "aws s3 cp s3://mousebrainatlas-data/CSHL_patch_features/inception-bn-blue/MD590/MD590-IHC47-2015.08.10-21.15.09_MD590_2_0140_lossless_alignedTo_MD590-N47-2015.09.12-05.32.06_MD590_2_0140_cropped/MD590-IHC47-2015.08.10-21.15.09_MD590_2_0140_lossless_alignedTo_MD590-N47-2015.09.12-05.32.06_MD590_2_0140_cropped_features.bp s3://mousebrainatlas-data/CSHL_patch_features/inception-bn-blue/MD590/MD590_lossless_alignedTo_MD590-N47-2015.09.12-05.32.06_MD590_2_0140_cropped_gray/MD590-IHC47-2015.08.10-21.15.09_MD590_2_0140_lossless_alignedTo_MD590-N47-2015.09.12-05.32.06_MD590_2_0140_cropped_gray_features.bp\n"
     ]
    },
    {
     "name": "stderr",
     "output_type": "stream",
     "text": [
      "Child returned 0\n"
     ]
    },
    {
     "name": "stdout",
     "output_type": "stream",
     "text": [
      "/shared/CSHL_patch_features/inception-bn-blue/MD590/MD590-IHC47-2015.08.10-21.15.09_MD590_2_0140_lossless_alignedTo_MD590-N47-2015.09.12-05.32.06_MD590_2_0140_cropped/MD590-IHC47-2015.08.10-21.15.09_MD590_2_0140_lossless_alignedTo_MD590-N47-2015.09.12-05.32.06_MD590_2_0140_cropped_patch_locations.txt\n",
      "/shared/CSHL_patch_features/inception-bn-blue/MD590/MD590_lossless_alignedTo_MD590-N47-2015.09.12-05.32.06_MD590_2_0140_cropped_gray/MD590-IHC47-2015.08.10-21.15.09_MD590_2_0140_lossless_alignedTo_MD590-N47-2015.09.12-05.32.06_MD590_2_0140_cropped_gray_patch_locations.txt\n",
      "aws s3 cp s3://mousebrainatlas-data/CSHL_patch_features/inception-bn-blue/MD590/MD590-IHC47-2015.08.10-21.15.09_MD590_2_0140_lossless_alignedTo_MD590-N47-2015.09.12-05.32.06_MD590_2_0140_cropped/MD590-IHC47-2015.08.10-21.15.09_MD590_2_0140_lossless_alignedTo_MD590-N47-2015.09.12-05.32.06_MD590_2_0140_cropped_patch_locations.txt s3://mousebrainatlas-data/CSHL_patch_features/inception-bn-blue/MD590/MD590_lossless_alignedTo_MD590-N47-2015.09.12-05.32.06_MD590_2_0140_cropped_gray/MD590-IHC47-2015.08.10-21.15.09_MD590_2_0140_lossless_alignedTo_MD590-N47-2015.09.12-05.32.06_MD590_2_0140_cropped_gray_patch_locations.txt\n"
     ]
    },
    {
     "name": "stderr",
     "output_type": "stream",
     "text": [
      "Child returned 0\n"
     ]
    },
    {
     "name": "stdout",
     "output_type": "stream",
     "text": [
      "/shared/CSHL_patch_features/inception-bn-blue/MD590/MD590-N48-2015.09.12-05.37.05_MD590_1_0142_lossless_alignedTo_MD590-N47-2015.09.12-05.32.06_MD590_2_0140_cropped/MD590-N48-2015.09.12-05.37.05_MD590_1_0142_lossless_alignedTo_MD590-N47-2015.09.12-05.32.06_MD590_2_0140_cropped_features.bp\n",
      "/shared/CSHL_patch_features/inception-bn-blue/MD590/MD590_lossless_alignedTo_MD590-N47-2015.09.12-05.32.06_MD590_2_0140_cropped_gray/MD590-N48-2015.09.12-05.37.05_MD590_1_0142_lossless_alignedTo_MD590-N47-2015.09.12-05.32.06_MD590_2_0140_cropped_gray_features.bp\n",
      "aws s3 cp s3://mousebrainatlas-data/CSHL_patch_features/inception-bn-blue/MD590/MD590-N48-2015.09.12-05.37.05_MD590_1_0142_lossless_alignedTo_MD590-N47-2015.09.12-05.32.06_MD590_2_0140_cropped/MD590-N48-2015.09.12-05.37.05_MD590_1_0142_lossless_alignedTo_MD590-N47-2015.09.12-05.32.06_MD590_2_0140_cropped_features.bp s3://mousebrainatlas-data/CSHL_patch_features/inception-bn-blue/MD590/MD590_lossless_alignedTo_MD590-N47-2015.09.12-05.32.06_MD590_2_0140_cropped_gray/MD590-N48-2015.09.12-05.37.05_MD590_1_0142_lossless_alignedTo_MD590-N47-2015.09.12-05.32.06_MD590_2_0140_cropped_gray_features.bp\n"
     ]
    },
    {
     "name": "stderr",
     "output_type": "stream",
     "text": [
      "Child returned 0\n"
     ]
    },
    {
     "name": "stdout",
     "output_type": "stream",
     "text": [
      "/shared/CSHL_patch_features/inception-bn-blue/MD590/MD590-N48-2015.09.12-05.37.05_MD590_1_0142_lossless_alignedTo_MD590-N47-2015.09.12-05.32.06_MD590_2_0140_cropped/MD590-N48-2015.09.12-05.37.05_MD590_1_0142_lossless_alignedTo_MD590-N47-2015.09.12-05.32.06_MD590_2_0140_cropped_patch_locations.txt\n",
      "/shared/CSHL_patch_features/inception-bn-blue/MD590/MD590_lossless_alignedTo_MD590-N47-2015.09.12-05.32.06_MD590_2_0140_cropped_gray/MD590-N48-2015.09.12-05.37.05_MD590_1_0142_lossless_alignedTo_MD590-N47-2015.09.12-05.32.06_MD590_2_0140_cropped_gray_patch_locations.txt\n",
      "aws s3 cp s3://mousebrainatlas-data/CSHL_patch_features/inception-bn-blue/MD590/MD590-N48-2015.09.12-05.37.05_MD590_1_0142_lossless_alignedTo_MD590-N47-2015.09.12-05.32.06_MD590_2_0140_cropped/MD590-N48-2015.09.12-05.37.05_MD590_1_0142_lossless_alignedTo_MD590-N47-2015.09.12-05.32.06_MD590_2_0140_cropped_patch_locations.txt s3://mousebrainatlas-data/CSHL_patch_features/inception-bn-blue/MD590/MD590_lossless_alignedTo_MD590-N47-2015.09.12-05.32.06_MD590_2_0140_cropped_gray/MD590-N48-2015.09.12-05.37.05_MD590_1_0142_lossless_alignedTo_MD590-N47-2015.09.12-05.32.06_MD590_2_0140_cropped_gray_patch_locations.txt\n"
     ]
    },
    {
     "name": "stderr",
     "output_type": "stream",
     "text": [
      "Child returned 0\n"
     ]
    },
    {
     "name": "stdout",
     "output_type": "stream",
     "text": [
      "/shared/CSHL_patch_features/inception-bn-blue/MD590/MD590-IHC48-2015.08.10-21.19.21_MD590_3_0142_lossless_alignedTo_MD590-N47-2015.09.12-05.32.06_MD590_2_0140_cropped/MD590-IHC48-2015.08.10-21.19.21_MD590_3_0142_lossless_alignedTo_MD590-N47-2015.09.12-05.32.06_MD590_2_0140_cropped_features.bp\n",
      "/shared/CSHL_patch_features/inception-bn-blue/MD590/MD590_lossless_alignedTo_MD590-N47-2015.09.12-05.32.06_MD590_2_0140_cropped_gray/MD590-IHC48-2015.08.10-21.19.21_MD590_3_0142_lossless_alignedTo_MD590-N47-2015.09.12-05.32.06_MD590_2_0140_cropped_gray_features.bp\n",
      "aws s3 cp s3://mousebrainatlas-data/CSHL_patch_features/inception-bn-blue/MD590/MD590-IHC48-2015.08.10-21.19.21_MD590_3_0142_lossless_alignedTo_MD590-N47-2015.09.12-05.32.06_MD590_2_0140_cropped/MD590-IHC48-2015.08.10-21.19.21_MD590_3_0142_lossless_alignedTo_MD590-N47-2015.09.12-05.32.06_MD590_2_0140_cropped_features.bp s3://mousebrainatlas-data/CSHL_patch_features/inception-bn-blue/MD590/MD590_lossless_alignedTo_MD590-N47-2015.09.12-05.32.06_MD590_2_0140_cropped_gray/MD590-IHC48-2015.08.10-21.19.21_MD590_3_0142_lossless_alignedTo_MD590-N47-2015.09.12-05.32.06_MD590_2_0140_cropped_gray_features.bp\n"
     ]
    },
    {
     "name": "stderr",
     "output_type": "stream",
     "text": [
      "Child returned 0\n"
     ]
    },
    {
     "name": "stdout",
     "output_type": "stream",
     "text": [
      "/shared/CSHL_patch_features/inception-bn-blue/MD590/MD590-IHC48-2015.08.10-21.19.21_MD590_3_0142_lossless_alignedTo_MD590-N47-2015.09.12-05.32.06_MD590_2_0140_cropped/MD590-IHC48-2015.08.10-21.19.21_MD590_3_0142_lossless_alignedTo_MD590-N47-2015.09.12-05.32.06_MD590_2_0140_cropped_patch_locations.txt\n",
      "/shared/CSHL_patch_features/inception-bn-blue/MD590/MD590_lossless_alignedTo_MD590-N47-2015.09.12-05.32.06_MD590_2_0140_cropped_gray/MD590-IHC48-2015.08.10-21.19.21_MD590_3_0142_lossless_alignedTo_MD590-N47-2015.09.12-05.32.06_MD590_2_0140_cropped_gray_patch_locations.txt\n",
      "aws s3 cp s3://mousebrainatlas-data/CSHL_patch_features/inception-bn-blue/MD590/MD590-IHC48-2015.08.10-21.19.21_MD590_3_0142_lossless_alignedTo_MD590-N47-2015.09.12-05.32.06_MD590_2_0140_cropped/MD590-IHC48-2015.08.10-21.19.21_MD590_3_0142_lossless_alignedTo_MD590-N47-2015.09.12-05.32.06_MD590_2_0140_cropped_patch_locations.txt s3://mousebrainatlas-data/CSHL_patch_features/inception-bn-blue/MD590/MD590_lossless_alignedTo_MD590-N47-2015.09.12-05.32.06_MD590_2_0140_cropped_gray/MD590-IHC48-2015.08.10-21.19.21_MD590_3_0142_lossless_alignedTo_MD590-N47-2015.09.12-05.32.06_MD590_2_0140_cropped_gray_patch_locations.txt\n"
     ]
    },
    {
     "name": "stderr",
     "output_type": "stream",
     "text": [
      "Child returned 0\n"
     ]
    },
    {
     "name": "stdout",
     "output_type": "stream",
     "text": [
      "/shared/CSHL_patch_features/inception-bn-blue/MD590/MD590-N48-2015.09.12-05.37.05_MD590_2_0143_lossless_alignedTo_MD590-N47-2015.09.12-05.32.06_MD590_2_0140_cropped/MD590-N48-2015.09.12-05.37.05_MD590_2_0143_lossless_alignedTo_MD590-N47-2015.09.12-05.32.06_MD590_2_0140_cropped_features.bp\n",
      "/shared/CSHL_patch_features/inception-bn-blue/MD590/MD590_lossless_alignedTo_MD590-N47-2015.09.12-05.32.06_MD590_2_0140_cropped_gray/MD590-N48-2015.09.12-05.37.05_MD590_2_0143_lossless_alignedTo_MD590-N47-2015.09.12-05.32.06_MD590_2_0140_cropped_gray_features.bp\n",
      "aws s3 cp s3://mousebrainatlas-data/CSHL_patch_features/inception-bn-blue/MD590/MD590-N48-2015.09.12-05.37.05_MD590_2_0143_lossless_alignedTo_MD590-N47-2015.09.12-05.32.06_MD590_2_0140_cropped/MD590-N48-2015.09.12-05.37.05_MD590_2_0143_lossless_alignedTo_MD590-N47-2015.09.12-05.32.06_MD590_2_0140_cropped_features.bp s3://mousebrainatlas-data/CSHL_patch_features/inception-bn-blue/MD590/MD590_lossless_alignedTo_MD590-N47-2015.09.12-05.32.06_MD590_2_0140_cropped_gray/MD590-N48-2015.09.12-05.37.05_MD590_2_0143_lossless_alignedTo_MD590-N47-2015.09.12-05.32.06_MD590_2_0140_cropped_gray_features.bp\n"
     ]
    },
    {
     "name": "stderr",
     "output_type": "stream",
     "text": [
      "Child returned 0\n"
     ]
    },
    {
     "name": "stdout",
     "output_type": "stream",
     "text": [
      "/shared/CSHL_patch_features/inception-bn-blue/MD590/MD590-N48-2015.09.12-05.37.05_MD590_2_0143_lossless_alignedTo_MD590-N47-2015.09.12-05.32.06_MD590_2_0140_cropped/MD590-N48-2015.09.12-05.37.05_MD590_2_0143_lossless_alignedTo_MD590-N47-2015.09.12-05.32.06_MD590_2_0140_cropped_patch_locations.txt\n",
      "/shared/CSHL_patch_features/inception-bn-blue/MD590/MD590_lossless_alignedTo_MD590-N47-2015.09.12-05.32.06_MD590_2_0140_cropped_gray/MD590-N48-2015.09.12-05.37.05_MD590_2_0143_lossless_alignedTo_MD590-N47-2015.09.12-05.32.06_MD590_2_0140_cropped_gray_patch_locations.txt\n",
      "aws s3 cp s3://mousebrainatlas-data/CSHL_patch_features/inception-bn-blue/MD590/MD590-N48-2015.09.12-05.37.05_MD590_2_0143_lossless_alignedTo_MD590-N47-2015.09.12-05.32.06_MD590_2_0140_cropped/MD590-N48-2015.09.12-05.37.05_MD590_2_0143_lossless_alignedTo_MD590-N47-2015.09.12-05.32.06_MD590_2_0140_cropped_patch_locations.txt s3://mousebrainatlas-data/CSHL_patch_features/inception-bn-blue/MD590/MD590_lossless_alignedTo_MD590-N47-2015.09.12-05.32.06_MD590_2_0140_cropped_gray/MD590-N48-2015.09.12-05.37.05_MD590_2_0143_lossless_alignedTo_MD590-N47-2015.09.12-05.32.06_MD590_2_0140_cropped_gray_patch_locations.txt\n"
     ]
    },
    {
     "name": "stderr",
     "output_type": "stream",
     "text": [
      "Child returned 0\n"
     ]
    },
    {
     "name": "stdout",
     "output_type": "stream",
     "text": [
      "/shared/CSHL_patch_features/inception-bn-blue/MD590/MD590-IHC48-2015.08.10-21.19.21_MD590_2_0143_lossless_alignedTo_MD590-N47-2015.09.12-05.32.06_MD590_2_0140_cropped/MD590-IHC48-2015.08.10-21.19.21_MD590_2_0143_lossless_alignedTo_MD590-N47-2015.09.12-05.32.06_MD590_2_0140_cropped_features.bp\n",
      "/shared/CSHL_patch_features/inception-bn-blue/MD590/MD590_lossless_alignedTo_MD590-N47-2015.09.12-05.32.06_MD590_2_0140_cropped_gray/MD590-IHC48-2015.08.10-21.19.21_MD590_2_0143_lossless_alignedTo_MD590-N47-2015.09.12-05.32.06_MD590_2_0140_cropped_gray_features.bp\n",
      "aws s3 cp s3://mousebrainatlas-data/CSHL_patch_features/inception-bn-blue/MD590/MD590-IHC48-2015.08.10-21.19.21_MD590_2_0143_lossless_alignedTo_MD590-N47-2015.09.12-05.32.06_MD590_2_0140_cropped/MD590-IHC48-2015.08.10-21.19.21_MD590_2_0143_lossless_alignedTo_MD590-N47-2015.09.12-05.32.06_MD590_2_0140_cropped_features.bp s3://mousebrainatlas-data/CSHL_patch_features/inception-bn-blue/MD590/MD590_lossless_alignedTo_MD590-N47-2015.09.12-05.32.06_MD590_2_0140_cropped_gray/MD590-IHC48-2015.08.10-21.19.21_MD590_2_0143_lossless_alignedTo_MD590-N47-2015.09.12-05.32.06_MD590_2_0140_cropped_gray_features.bp\n"
     ]
    },
    {
     "name": "stderr",
     "output_type": "stream",
     "text": [
      "Child returned 0\n"
     ]
    },
    {
     "name": "stdout",
     "output_type": "stream",
     "text": [
      "/shared/CSHL_patch_features/inception-bn-blue/MD590/MD590-IHC48-2015.08.10-21.19.21_MD590_2_0143_lossless_alignedTo_MD590-N47-2015.09.12-05.32.06_MD590_2_0140_cropped/MD590-IHC48-2015.08.10-21.19.21_MD590_2_0143_lossless_alignedTo_MD590-N47-2015.09.12-05.32.06_MD590_2_0140_cropped_patch_locations.txt\n",
      "/shared/CSHL_patch_features/inception-bn-blue/MD590/MD590_lossless_alignedTo_MD590-N47-2015.09.12-05.32.06_MD590_2_0140_cropped_gray/MD590-IHC48-2015.08.10-21.19.21_MD590_2_0143_lossless_alignedTo_MD590-N47-2015.09.12-05.32.06_MD590_2_0140_cropped_gray_patch_locations.txt\n",
      "aws s3 cp s3://mousebrainatlas-data/CSHL_patch_features/inception-bn-blue/MD590/MD590-IHC48-2015.08.10-21.19.21_MD590_2_0143_lossless_alignedTo_MD590-N47-2015.09.12-05.32.06_MD590_2_0140_cropped/MD590-IHC48-2015.08.10-21.19.21_MD590_2_0143_lossless_alignedTo_MD590-N47-2015.09.12-05.32.06_MD590_2_0140_cropped_patch_locations.txt s3://mousebrainatlas-data/CSHL_patch_features/inception-bn-blue/MD590/MD590_lossless_alignedTo_MD590-N47-2015.09.12-05.32.06_MD590_2_0140_cropped_gray/MD590-IHC48-2015.08.10-21.19.21_MD590_2_0143_lossless_alignedTo_MD590-N47-2015.09.12-05.32.06_MD590_2_0140_cropped_gray_patch_locations.txt\n"
     ]
    },
    {
     "name": "stderr",
     "output_type": "stream",
     "text": [
      "Child returned 0\n"
     ]
    },
    {
     "name": "stdout",
     "output_type": "stream",
     "text": [
      "/shared/CSHL_patch_features/inception-bn-blue/MD590/MD590-N49-2015.09.12-05.42.03_MD590_1_0145_lossless_alignedTo_MD590-N47-2015.09.12-05.32.06_MD590_2_0140_cropped/MD590-N49-2015.09.12-05.42.03_MD590_1_0145_lossless_alignedTo_MD590-N47-2015.09.12-05.32.06_MD590_2_0140_cropped_features.bp\n",
      "/shared/CSHL_patch_features/inception-bn-blue/MD590/MD590_lossless_alignedTo_MD590-N47-2015.09.12-05.32.06_MD590_2_0140_cropped_gray/MD590-N49-2015.09.12-05.42.03_MD590_1_0145_lossless_alignedTo_MD590-N47-2015.09.12-05.32.06_MD590_2_0140_cropped_gray_features.bp\n",
      "aws s3 cp s3://mousebrainatlas-data/CSHL_patch_features/inception-bn-blue/MD590/MD590-N49-2015.09.12-05.42.03_MD590_1_0145_lossless_alignedTo_MD590-N47-2015.09.12-05.32.06_MD590_2_0140_cropped/MD590-N49-2015.09.12-05.42.03_MD590_1_0145_lossless_alignedTo_MD590-N47-2015.09.12-05.32.06_MD590_2_0140_cropped_features.bp s3://mousebrainatlas-data/CSHL_patch_features/inception-bn-blue/MD590/MD590_lossless_alignedTo_MD590-N47-2015.09.12-05.32.06_MD590_2_0140_cropped_gray/MD590-N49-2015.09.12-05.42.03_MD590_1_0145_lossless_alignedTo_MD590-N47-2015.09.12-05.32.06_MD590_2_0140_cropped_gray_features.bp\n"
     ]
    },
    {
     "name": "stderr",
     "output_type": "stream",
     "text": [
      "Child returned 0\n"
     ]
    },
    {
     "name": "stdout",
     "output_type": "stream",
     "text": [
      "/shared/CSHL_patch_features/inception-bn-blue/MD590/MD590-N49-2015.09.12-05.42.03_MD590_1_0145_lossless_alignedTo_MD590-N47-2015.09.12-05.32.06_MD590_2_0140_cropped/MD590-N49-2015.09.12-05.42.03_MD590_1_0145_lossless_alignedTo_MD590-N47-2015.09.12-05.32.06_MD590_2_0140_cropped_patch_locations.txt\n",
      "/shared/CSHL_patch_features/inception-bn-blue/MD590/MD590_lossless_alignedTo_MD590-N47-2015.09.12-05.32.06_MD590_2_0140_cropped_gray/MD590-N49-2015.09.12-05.42.03_MD590_1_0145_lossless_alignedTo_MD590-N47-2015.09.12-05.32.06_MD590_2_0140_cropped_gray_patch_locations.txt\n",
      "aws s3 cp s3://mousebrainatlas-data/CSHL_patch_features/inception-bn-blue/MD590/MD590-N49-2015.09.12-05.42.03_MD590_1_0145_lossless_alignedTo_MD590-N47-2015.09.12-05.32.06_MD590_2_0140_cropped/MD590-N49-2015.09.12-05.42.03_MD590_1_0145_lossless_alignedTo_MD590-N47-2015.09.12-05.32.06_MD590_2_0140_cropped_patch_locations.txt s3://mousebrainatlas-data/CSHL_patch_features/inception-bn-blue/MD590/MD590_lossless_alignedTo_MD590-N47-2015.09.12-05.32.06_MD590_2_0140_cropped_gray/MD590-N49-2015.09.12-05.42.03_MD590_1_0145_lossless_alignedTo_MD590-N47-2015.09.12-05.32.06_MD590_2_0140_cropped_gray_patch_locations.txt\n"
     ]
    },
    {
     "name": "stderr",
     "output_type": "stream",
     "text": [
      "Child returned 0\n"
     ]
    },
    {
     "name": "stdout",
     "output_type": "stream",
     "text": [
      "/shared/CSHL_patch_features/inception-bn-blue/MD590/MD590-IHC49-2015.08.10-21.23.29_MD590_3_0145_lossless_alignedTo_MD590-N47-2015.09.12-05.32.06_MD590_2_0140_cropped/MD590-IHC49-2015.08.10-21.23.29_MD590_3_0145_lossless_alignedTo_MD590-N47-2015.09.12-05.32.06_MD590_2_0140_cropped_features.bp\n",
      "/shared/CSHL_patch_features/inception-bn-blue/MD590/MD590_lossless_alignedTo_MD590-N47-2015.09.12-05.32.06_MD590_2_0140_cropped_gray/MD590-IHC49-2015.08.10-21.23.29_MD590_3_0145_lossless_alignedTo_MD590-N47-2015.09.12-05.32.06_MD590_2_0140_cropped_gray_features.bp\n",
      "aws s3 cp s3://mousebrainatlas-data/CSHL_patch_features/inception-bn-blue/MD590/MD590-IHC49-2015.08.10-21.23.29_MD590_3_0145_lossless_alignedTo_MD590-N47-2015.09.12-05.32.06_MD590_2_0140_cropped/MD590-IHC49-2015.08.10-21.23.29_MD590_3_0145_lossless_alignedTo_MD590-N47-2015.09.12-05.32.06_MD590_2_0140_cropped_features.bp s3://mousebrainatlas-data/CSHL_patch_features/inception-bn-blue/MD590/MD590_lossless_alignedTo_MD590-N47-2015.09.12-05.32.06_MD590_2_0140_cropped_gray/MD590-IHC49-2015.08.10-21.23.29_MD590_3_0145_lossless_alignedTo_MD590-N47-2015.09.12-05.32.06_MD590_2_0140_cropped_gray_features.bp\n"
     ]
    },
    {
     "name": "stderr",
     "output_type": "stream",
     "text": [
      "Child returned 0\n"
     ]
    },
    {
     "name": "stdout",
     "output_type": "stream",
     "text": [
      "/shared/CSHL_patch_features/inception-bn-blue/MD590/MD590-IHC49-2015.08.10-21.23.29_MD590_3_0145_lossless_alignedTo_MD590-N47-2015.09.12-05.32.06_MD590_2_0140_cropped/MD590-IHC49-2015.08.10-21.23.29_MD590_3_0145_lossless_alignedTo_MD590-N47-2015.09.12-05.32.06_MD590_2_0140_cropped_patch_locations.txt\n",
      "/shared/CSHL_patch_features/inception-bn-blue/MD590/MD590_lossless_alignedTo_MD590-N47-2015.09.12-05.32.06_MD590_2_0140_cropped_gray/MD590-IHC49-2015.08.10-21.23.29_MD590_3_0145_lossless_alignedTo_MD590-N47-2015.09.12-05.32.06_MD590_2_0140_cropped_gray_patch_locations.txt\n",
      "aws s3 cp s3://mousebrainatlas-data/CSHL_patch_features/inception-bn-blue/MD590/MD590-IHC49-2015.08.10-21.23.29_MD590_3_0145_lossless_alignedTo_MD590-N47-2015.09.12-05.32.06_MD590_2_0140_cropped/MD590-IHC49-2015.08.10-21.23.29_MD590_3_0145_lossless_alignedTo_MD590-N47-2015.09.12-05.32.06_MD590_2_0140_cropped_patch_locations.txt s3://mousebrainatlas-data/CSHL_patch_features/inception-bn-blue/MD590/MD590_lossless_alignedTo_MD590-N47-2015.09.12-05.32.06_MD590_2_0140_cropped_gray/MD590-IHC49-2015.08.10-21.23.29_MD590_3_0145_lossless_alignedTo_MD590-N47-2015.09.12-05.32.06_MD590_2_0140_cropped_gray_patch_locations.txt\n"
     ]
    },
    {
     "name": "stderr",
     "output_type": "stream",
     "text": [
      "Child returned 0\n"
     ]
    },
    {
     "name": "stdout",
     "output_type": "stream",
     "text": [
      "/shared/CSHL_patch_features/inception-bn-blue/MD590/MD590-N49-2015.09.12-05.42.03_MD590_2_0146_lossless_alignedTo_MD590-N47-2015.09.12-05.32.06_MD590_2_0140_cropped/MD590-N49-2015.09.12-05.42.03_MD590_2_0146_lossless_alignedTo_MD590-N47-2015.09.12-05.32.06_MD590_2_0140_cropped_features.bp\n",
      "/shared/CSHL_patch_features/inception-bn-blue/MD590/MD590_lossless_alignedTo_MD590-N47-2015.09.12-05.32.06_MD590_2_0140_cropped_gray/MD590-N49-2015.09.12-05.42.03_MD590_2_0146_lossless_alignedTo_MD590-N47-2015.09.12-05.32.06_MD590_2_0140_cropped_gray_features.bp\n",
      "aws s3 cp s3://mousebrainatlas-data/CSHL_patch_features/inception-bn-blue/MD590/MD590-N49-2015.09.12-05.42.03_MD590_2_0146_lossless_alignedTo_MD590-N47-2015.09.12-05.32.06_MD590_2_0140_cropped/MD590-N49-2015.09.12-05.42.03_MD590_2_0146_lossless_alignedTo_MD590-N47-2015.09.12-05.32.06_MD590_2_0140_cropped_features.bp s3://mousebrainatlas-data/CSHL_patch_features/inception-bn-blue/MD590/MD590_lossless_alignedTo_MD590-N47-2015.09.12-05.32.06_MD590_2_0140_cropped_gray/MD590-N49-2015.09.12-05.42.03_MD590_2_0146_lossless_alignedTo_MD590-N47-2015.09.12-05.32.06_MD590_2_0140_cropped_gray_features.bp\n"
     ]
    },
    {
     "name": "stderr",
     "output_type": "stream",
     "text": [
      "Child returned 0\n"
     ]
    },
    {
     "name": "stdout",
     "output_type": "stream",
     "text": [
      "/shared/CSHL_patch_features/inception-bn-blue/MD590/MD590-N49-2015.09.12-05.42.03_MD590_2_0146_lossless_alignedTo_MD590-N47-2015.09.12-05.32.06_MD590_2_0140_cropped/MD590-N49-2015.09.12-05.42.03_MD590_2_0146_lossless_alignedTo_MD590-N47-2015.09.12-05.32.06_MD590_2_0140_cropped_patch_locations.txt\n",
      "/shared/CSHL_patch_features/inception-bn-blue/MD590/MD590_lossless_alignedTo_MD590-N47-2015.09.12-05.32.06_MD590_2_0140_cropped_gray/MD590-N49-2015.09.12-05.42.03_MD590_2_0146_lossless_alignedTo_MD590-N47-2015.09.12-05.32.06_MD590_2_0140_cropped_gray_patch_locations.txt\n",
      "aws s3 cp s3://mousebrainatlas-data/CSHL_patch_features/inception-bn-blue/MD590/MD590-N49-2015.09.12-05.42.03_MD590_2_0146_lossless_alignedTo_MD590-N47-2015.09.12-05.32.06_MD590_2_0140_cropped/MD590-N49-2015.09.12-05.42.03_MD590_2_0146_lossless_alignedTo_MD590-N47-2015.09.12-05.32.06_MD590_2_0140_cropped_patch_locations.txt s3://mousebrainatlas-data/CSHL_patch_features/inception-bn-blue/MD590/MD590_lossless_alignedTo_MD590-N47-2015.09.12-05.32.06_MD590_2_0140_cropped_gray/MD590-N49-2015.09.12-05.42.03_MD590_2_0146_lossless_alignedTo_MD590-N47-2015.09.12-05.32.06_MD590_2_0140_cropped_gray_patch_locations.txt\n"
     ]
    },
    {
     "name": "stderr",
     "output_type": "stream",
     "text": [
      "Child returned 0\n"
     ]
    },
    {
     "name": "stdout",
     "output_type": "stream",
     "text": [
      "/shared/CSHL_patch_features/inception-bn-blue/MD590/MD590-IHC49-2015.08.10-21.23.29_MD590_2_0146_lossless_alignedTo_MD590-N47-2015.09.12-05.32.06_MD590_2_0140_cropped/MD590-IHC49-2015.08.10-21.23.29_MD590_2_0146_lossless_alignedTo_MD590-N47-2015.09.12-05.32.06_MD590_2_0140_cropped_features.bp\n",
      "/shared/CSHL_patch_features/inception-bn-blue/MD590/MD590_lossless_alignedTo_MD590-N47-2015.09.12-05.32.06_MD590_2_0140_cropped_gray/MD590-IHC49-2015.08.10-21.23.29_MD590_2_0146_lossless_alignedTo_MD590-N47-2015.09.12-05.32.06_MD590_2_0140_cropped_gray_features.bp\n",
      "aws s3 cp s3://mousebrainatlas-data/CSHL_patch_features/inception-bn-blue/MD590/MD590-IHC49-2015.08.10-21.23.29_MD590_2_0146_lossless_alignedTo_MD590-N47-2015.09.12-05.32.06_MD590_2_0140_cropped/MD590-IHC49-2015.08.10-21.23.29_MD590_2_0146_lossless_alignedTo_MD590-N47-2015.09.12-05.32.06_MD590_2_0140_cropped_features.bp s3://mousebrainatlas-data/CSHL_patch_features/inception-bn-blue/MD590/MD590_lossless_alignedTo_MD590-N47-2015.09.12-05.32.06_MD590_2_0140_cropped_gray/MD590-IHC49-2015.08.10-21.23.29_MD590_2_0146_lossless_alignedTo_MD590-N47-2015.09.12-05.32.06_MD590_2_0140_cropped_gray_features.bp\n"
     ]
    },
    {
     "name": "stderr",
     "output_type": "stream",
     "text": [
      "Child returned 0\n"
     ]
    },
    {
     "name": "stdout",
     "output_type": "stream",
     "text": [
      "/shared/CSHL_patch_features/inception-bn-blue/MD590/MD590-IHC49-2015.08.10-21.23.29_MD590_2_0146_lossless_alignedTo_MD590-N47-2015.09.12-05.32.06_MD590_2_0140_cropped/MD590-IHC49-2015.08.10-21.23.29_MD590_2_0146_lossless_alignedTo_MD590-N47-2015.09.12-05.32.06_MD590_2_0140_cropped_patch_locations.txt\n",
      "/shared/CSHL_patch_features/inception-bn-blue/MD590/MD590_lossless_alignedTo_MD590-N47-2015.09.12-05.32.06_MD590_2_0140_cropped_gray/MD590-IHC49-2015.08.10-21.23.29_MD590_2_0146_lossless_alignedTo_MD590-N47-2015.09.12-05.32.06_MD590_2_0140_cropped_gray_patch_locations.txt\n",
      "aws s3 cp s3://mousebrainatlas-data/CSHL_patch_features/inception-bn-blue/MD590/MD590-IHC49-2015.08.10-21.23.29_MD590_2_0146_lossless_alignedTo_MD590-N47-2015.09.12-05.32.06_MD590_2_0140_cropped/MD590-IHC49-2015.08.10-21.23.29_MD590_2_0146_lossless_alignedTo_MD590-N47-2015.09.12-05.32.06_MD590_2_0140_cropped_patch_locations.txt s3://mousebrainatlas-data/CSHL_patch_features/inception-bn-blue/MD590/MD590_lossless_alignedTo_MD590-N47-2015.09.12-05.32.06_MD590_2_0140_cropped_gray/MD590-IHC49-2015.08.10-21.23.29_MD590_2_0146_lossless_alignedTo_MD590-N47-2015.09.12-05.32.06_MD590_2_0140_cropped_gray_patch_locations.txt\n"
     ]
    },
    {
     "name": "stderr",
     "output_type": "stream",
     "text": [
      "Child returned 0\n"
     ]
    },
    {
     "name": "stdout",
     "output_type": "stream",
     "text": [
      "/shared/CSHL_patch_features/inception-bn-blue/MD590/MD590-N50-2015.09.12-05.46.59_MD590_1_0148_lossless_alignedTo_MD590-N47-2015.09.12-05.32.06_MD590_2_0140_cropped/MD590-N50-2015.09.12-05.46.59_MD590_1_0148_lossless_alignedTo_MD590-N47-2015.09.12-05.32.06_MD590_2_0140_cropped_features.bp\n",
      "/shared/CSHL_patch_features/inception-bn-blue/MD590/MD590_lossless_alignedTo_MD590-N47-2015.09.12-05.32.06_MD590_2_0140_cropped_gray/MD590-N50-2015.09.12-05.46.59_MD590_1_0148_lossless_alignedTo_MD590-N47-2015.09.12-05.32.06_MD590_2_0140_cropped_gray_features.bp\n",
      "aws s3 cp s3://mousebrainatlas-data/CSHL_patch_features/inception-bn-blue/MD590/MD590-N50-2015.09.12-05.46.59_MD590_1_0148_lossless_alignedTo_MD590-N47-2015.09.12-05.32.06_MD590_2_0140_cropped/MD590-N50-2015.09.12-05.46.59_MD590_1_0148_lossless_alignedTo_MD590-N47-2015.09.12-05.32.06_MD590_2_0140_cropped_features.bp s3://mousebrainatlas-data/CSHL_patch_features/inception-bn-blue/MD590/MD590_lossless_alignedTo_MD590-N47-2015.09.12-05.32.06_MD590_2_0140_cropped_gray/MD590-N50-2015.09.12-05.46.59_MD590_1_0148_lossless_alignedTo_MD590-N47-2015.09.12-05.32.06_MD590_2_0140_cropped_gray_features.bp\n"
     ]
    },
    {
     "name": "stderr",
     "output_type": "stream",
     "text": [
      "Child returned 0\n"
     ]
    },
    {
     "name": "stdout",
     "output_type": "stream",
     "text": [
      "/shared/CSHL_patch_features/inception-bn-blue/MD590/MD590-N50-2015.09.12-05.46.59_MD590_1_0148_lossless_alignedTo_MD590-N47-2015.09.12-05.32.06_MD590_2_0140_cropped/MD590-N50-2015.09.12-05.46.59_MD590_1_0148_lossless_alignedTo_MD590-N47-2015.09.12-05.32.06_MD590_2_0140_cropped_patch_locations.txt\n",
      "/shared/CSHL_patch_features/inception-bn-blue/MD590/MD590_lossless_alignedTo_MD590-N47-2015.09.12-05.32.06_MD590_2_0140_cropped_gray/MD590-N50-2015.09.12-05.46.59_MD590_1_0148_lossless_alignedTo_MD590-N47-2015.09.12-05.32.06_MD590_2_0140_cropped_gray_patch_locations.txt\n",
      "aws s3 cp s3://mousebrainatlas-data/CSHL_patch_features/inception-bn-blue/MD590/MD590-N50-2015.09.12-05.46.59_MD590_1_0148_lossless_alignedTo_MD590-N47-2015.09.12-05.32.06_MD590_2_0140_cropped/MD590-N50-2015.09.12-05.46.59_MD590_1_0148_lossless_alignedTo_MD590-N47-2015.09.12-05.32.06_MD590_2_0140_cropped_patch_locations.txt s3://mousebrainatlas-data/CSHL_patch_features/inception-bn-blue/MD590/MD590_lossless_alignedTo_MD590-N47-2015.09.12-05.32.06_MD590_2_0140_cropped_gray/MD590-N50-2015.09.12-05.46.59_MD590_1_0148_lossless_alignedTo_MD590-N47-2015.09.12-05.32.06_MD590_2_0140_cropped_gray_patch_locations.txt\n"
     ]
    },
    {
     "name": "stderr",
     "output_type": "stream",
     "text": [
      "Child returned 0\n"
     ]
    },
    {
     "name": "stdout",
     "output_type": "stream",
     "text": [
      "/shared/CSHL_patch_features/inception-bn-blue/MD590/MD590-N50-2015.09.12-05.46.59_MD590_2_0149_lossless_alignedTo_MD590-N47-2015.09.12-05.32.06_MD590_2_0140_cropped/MD590-N50-2015.09.12-05.46.59_MD590_2_0149_lossless_alignedTo_MD590-N47-2015.09.12-05.32.06_MD590_2_0140_cropped_features.bp\n",
      "/shared/CSHL_patch_features/inception-bn-blue/MD590/MD590_lossless_alignedTo_MD590-N47-2015.09.12-05.32.06_MD590_2_0140_cropped_gray/MD590-N50-2015.09.12-05.46.59_MD590_2_0149_lossless_alignedTo_MD590-N47-2015.09.12-05.32.06_MD590_2_0140_cropped_gray_features.bp\n",
      "aws s3 cp s3://mousebrainatlas-data/CSHL_patch_features/inception-bn-blue/MD590/MD590-N50-2015.09.12-05.46.59_MD590_2_0149_lossless_alignedTo_MD590-N47-2015.09.12-05.32.06_MD590_2_0140_cropped/MD590-N50-2015.09.12-05.46.59_MD590_2_0149_lossless_alignedTo_MD590-N47-2015.09.12-05.32.06_MD590_2_0140_cropped_features.bp s3://mousebrainatlas-data/CSHL_patch_features/inception-bn-blue/MD590/MD590_lossless_alignedTo_MD590-N47-2015.09.12-05.32.06_MD590_2_0140_cropped_gray/MD590-N50-2015.09.12-05.46.59_MD590_2_0149_lossless_alignedTo_MD590-N47-2015.09.12-05.32.06_MD590_2_0140_cropped_gray_features.bp\n"
     ]
    },
    {
     "name": "stderr",
     "output_type": "stream",
     "text": [
      "Child returned 0\n"
     ]
    },
    {
     "name": "stdout",
     "output_type": "stream",
     "text": [
      "/shared/CSHL_patch_features/inception-bn-blue/MD590/MD590-N50-2015.09.12-05.46.59_MD590_2_0149_lossless_alignedTo_MD590-N47-2015.09.12-05.32.06_MD590_2_0140_cropped/MD590-N50-2015.09.12-05.46.59_MD590_2_0149_lossless_alignedTo_MD590-N47-2015.09.12-05.32.06_MD590_2_0140_cropped_patch_locations.txt\n",
      "/shared/CSHL_patch_features/inception-bn-blue/MD590/MD590_lossless_alignedTo_MD590-N47-2015.09.12-05.32.06_MD590_2_0140_cropped_gray/MD590-N50-2015.09.12-05.46.59_MD590_2_0149_lossless_alignedTo_MD590-N47-2015.09.12-05.32.06_MD590_2_0140_cropped_gray_patch_locations.txt\n",
      "aws s3 cp s3://mousebrainatlas-data/CSHL_patch_features/inception-bn-blue/MD590/MD590-N50-2015.09.12-05.46.59_MD590_2_0149_lossless_alignedTo_MD590-N47-2015.09.12-05.32.06_MD590_2_0140_cropped/MD590-N50-2015.09.12-05.46.59_MD590_2_0149_lossless_alignedTo_MD590-N47-2015.09.12-05.32.06_MD590_2_0140_cropped_patch_locations.txt s3://mousebrainatlas-data/CSHL_patch_features/inception-bn-blue/MD590/MD590_lossless_alignedTo_MD590-N47-2015.09.12-05.32.06_MD590_2_0140_cropped_gray/MD590-N50-2015.09.12-05.46.59_MD590_2_0149_lossless_alignedTo_MD590-N47-2015.09.12-05.32.06_MD590_2_0140_cropped_gray_patch_locations.txt\n"
     ]
    },
    {
     "name": "stderr",
     "output_type": "stream",
     "text": [
      "Child returned 0\n"
     ]
    },
    {
     "name": "stdout",
     "output_type": "stream",
     "text": [
      "/shared/CSHL_patch_features/inception-bn-blue/MD590/MD590-IHC50-2015.08.10-21.27.35_MD590_1_0150_lossless_alignedTo_MD590-N47-2015.09.12-05.32.06_MD590_2_0140_cropped/MD590-IHC50-2015.08.10-21.27.35_MD590_1_0150_lossless_alignedTo_MD590-N47-2015.09.12-05.32.06_MD590_2_0140_cropped_features.bp\n",
      "/shared/CSHL_patch_features/inception-bn-blue/MD590/MD590_lossless_alignedTo_MD590-N47-2015.09.12-05.32.06_MD590_2_0140_cropped_gray/MD590-IHC50-2015.08.10-21.27.35_MD590_1_0150_lossless_alignedTo_MD590-N47-2015.09.12-05.32.06_MD590_2_0140_cropped_gray_features.bp\n",
      "aws s3 cp s3://mousebrainatlas-data/CSHL_patch_features/inception-bn-blue/MD590/MD590-IHC50-2015.08.10-21.27.35_MD590_1_0150_lossless_alignedTo_MD590-N47-2015.09.12-05.32.06_MD590_2_0140_cropped/MD590-IHC50-2015.08.10-21.27.35_MD590_1_0150_lossless_alignedTo_MD590-N47-2015.09.12-05.32.06_MD590_2_0140_cropped_features.bp s3://mousebrainatlas-data/CSHL_patch_features/inception-bn-blue/MD590/MD590_lossless_alignedTo_MD590-N47-2015.09.12-05.32.06_MD590_2_0140_cropped_gray/MD590-IHC50-2015.08.10-21.27.35_MD590_1_0150_lossless_alignedTo_MD590-N47-2015.09.12-05.32.06_MD590_2_0140_cropped_gray_features.bp\n"
     ]
    },
    {
     "name": "stderr",
     "output_type": "stream",
     "text": [
      "Child returned 0\n"
     ]
    },
    {
     "name": "stdout",
     "output_type": "stream",
     "text": [
      "/shared/CSHL_patch_features/inception-bn-blue/MD590/MD590-IHC50-2015.08.10-21.27.35_MD590_1_0150_lossless_alignedTo_MD590-N47-2015.09.12-05.32.06_MD590_2_0140_cropped/MD590-IHC50-2015.08.10-21.27.35_MD590_1_0150_lossless_alignedTo_MD590-N47-2015.09.12-05.32.06_MD590_2_0140_cropped_patch_locations.txt\n",
      "/shared/CSHL_patch_features/inception-bn-blue/MD590/MD590_lossless_alignedTo_MD590-N47-2015.09.12-05.32.06_MD590_2_0140_cropped_gray/MD590-IHC50-2015.08.10-21.27.35_MD590_1_0150_lossless_alignedTo_MD590-N47-2015.09.12-05.32.06_MD590_2_0140_cropped_gray_patch_locations.txt\n",
      "aws s3 cp s3://mousebrainatlas-data/CSHL_patch_features/inception-bn-blue/MD590/MD590-IHC50-2015.08.10-21.27.35_MD590_1_0150_lossless_alignedTo_MD590-N47-2015.09.12-05.32.06_MD590_2_0140_cropped/MD590-IHC50-2015.08.10-21.27.35_MD590_1_0150_lossless_alignedTo_MD590-N47-2015.09.12-05.32.06_MD590_2_0140_cropped_patch_locations.txt s3://mousebrainatlas-data/CSHL_patch_features/inception-bn-blue/MD590/MD590_lossless_alignedTo_MD590-N47-2015.09.12-05.32.06_MD590_2_0140_cropped_gray/MD590-IHC50-2015.08.10-21.27.35_MD590_1_0150_lossless_alignedTo_MD590-N47-2015.09.12-05.32.06_MD590_2_0140_cropped_gray_patch_locations.txt\n"
     ]
    },
    {
     "name": "stderr",
     "output_type": "stream",
     "text": [
      "Child returned 0\n"
     ]
    },
    {
     "name": "stdout",
     "output_type": "stream",
     "text": [
      "/shared/CSHL_patch_features/inception-bn-blue/MD590/MD590-N51-2015.08.03-20.24.52_MD590_3_0151_lossless_alignedTo_MD590-N47-2015.09.12-05.32.06_MD590_2_0140_cropped/MD590-N51-2015.08.03-20.24.52_MD590_3_0151_lossless_alignedTo_MD590-N47-2015.09.12-05.32.06_MD590_2_0140_cropped_features.bp\n",
      "/shared/CSHL_patch_features/inception-bn-blue/MD590/MD590_lossless_alignedTo_MD590-N47-2015.09.12-05.32.06_MD590_2_0140_cropped_gray/MD590-N51-2015.08.03-20.24.52_MD590_3_0151_lossless_alignedTo_MD590-N47-2015.09.12-05.32.06_MD590_2_0140_cropped_gray_features.bp\n",
      "aws s3 cp s3://mousebrainatlas-data/CSHL_patch_features/inception-bn-blue/MD590/MD590-N51-2015.08.03-20.24.52_MD590_3_0151_lossless_alignedTo_MD590-N47-2015.09.12-05.32.06_MD590_2_0140_cropped/MD590-N51-2015.08.03-20.24.52_MD590_3_0151_lossless_alignedTo_MD590-N47-2015.09.12-05.32.06_MD590_2_0140_cropped_features.bp s3://mousebrainatlas-data/CSHL_patch_features/inception-bn-blue/MD590/MD590_lossless_alignedTo_MD590-N47-2015.09.12-05.32.06_MD590_2_0140_cropped_gray/MD590-N51-2015.08.03-20.24.52_MD590_3_0151_lossless_alignedTo_MD590-N47-2015.09.12-05.32.06_MD590_2_0140_cropped_gray_features.bp\n"
     ]
    },
    {
     "name": "stderr",
     "output_type": "stream",
     "text": [
      "Child returned 0\n"
     ]
    },
    {
     "name": "stdout",
     "output_type": "stream",
     "text": [
      "/shared/CSHL_patch_features/inception-bn-blue/MD590/MD590-N51-2015.08.03-20.24.52_MD590_3_0151_lossless_alignedTo_MD590-N47-2015.09.12-05.32.06_MD590_2_0140_cropped/MD590-N51-2015.08.03-20.24.52_MD590_3_0151_lossless_alignedTo_MD590-N47-2015.09.12-05.32.06_MD590_2_0140_cropped_patch_locations.txt\n",
      "/shared/CSHL_patch_features/inception-bn-blue/MD590/MD590_lossless_alignedTo_MD590-N47-2015.09.12-05.32.06_MD590_2_0140_cropped_gray/MD590-N51-2015.08.03-20.24.52_MD590_3_0151_lossless_alignedTo_MD590-N47-2015.09.12-05.32.06_MD590_2_0140_cropped_gray_patch_locations.txt\n",
      "aws s3 cp s3://mousebrainatlas-data/CSHL_patch_features/inception-bn-blue/MD590/MD590-N51-2015.08.03-20.24.52_MD590_3_0151_lossless_alignedTo_MD590-N47-2015.09.12-05.32.06_MD590_2_0140_cropped/MD590-N51-2015.08.03-20.24.52_MD590_3_0151_lossless_alignedTo_MD590-N47-2015.09.12-05.32.06_MD590_2_0140_cropped_patch_locations.txt s3://mousebrainatlas-data/CSHL_patch_features/inception-bn-blue/MD590/MD590_lossless_alignedTo_MD590-N47-2015.09.12-05.32.06_MD590_2_0140_cropped_gray/MD590-N51-2015.08.03-20.24.52_MD590_3_0151_lossless_alignedTo_MD590-N47-2015.09.12-05.32.06_MD590_2_0140_cropped_gray_patch_locations.txt\n"
     ]
    },
    {
     "name": "stderr",
     "output_type": "stream",
     "text": [
      "Child returned 0\n"
     ]
    },
    {
     "name": "stdout",
     "output_type": "stream",
     "text": [
      "/shared/CSHL_patch_features/inception-bn-blue/MD590/MD590-IHC51-2015.08.10-21.31.46_MD590_3_0151_lossless_alignedTo_MD590-N47-2015.09.12-05.32.06_MD590_2_0140_cropped/MD590-IHC51-2015.08.10-21.31.46_MD590_3_0151_lossless_alignedTo_MD590-N47-2015.09.12-05.32.06_MD590_2_0140_cropped_features.bp\n",
      "/shared/CSHL_patch_features/inception-bn-blue/MD590/MD590_lossless_alignedTo_MD590-N47-2015.09.12-05.32.06_MD590_2_0140_cropped_gray/MD590-IHC51-2015.08.10-21.31.46_MD590_3_0151_lossless_alignedTo_MD590-N47-2015.09.12-05.32.06_MD590_2_0140_cropped_gray_features.bp\n",
      "aws s3 cp s3://mousebrainatlas-data/CSHL_patch_features/inception-bn-blue/MD590/MD590-IHC51-2015.08.10-21.31.46_MD590_3_0151_lossless_alignedTo_MD590-N47-2015.09.12-05.32.06_MD590_2_0140_cropped/MD590-IHC51-2015.08.10-21.31.46_MD590_3_0151_lossless_alignedTo_MD590-N47-2015.09.12-05.32.06_MD590_2_0140_cropped_features.bp s3://mousebrainatlas-data/CSHL_patch_features/inception-bn-blue/MD590/MD590_lossless_alignedTo_MD590-N47-2015.09.12-05.32.06_MD590_2_0140_cropped_gray/MD590-IHC51-2015.08.10-21.31.46_MD590_3_0151_lossless_alignedTo_MD590-N47-2015.09.12-05.32.06_MD590_2_0140_cropped_gray_features.bp\n"
     ]
    },
    {
     "name": "stderr",
     "output_type": "stream",
     "text": [
      "Child returned 0\n"
     ]
    },
    {
     "name": "stdout",
     "output_type": "stream",
     "text": [
      "/shared/CSHL_patch_features/inception-bn-blue/MD590/MD590-IHC51-2015.08.10-21.31.46_MD590_3_0151_lossless_alignedTo_MD590-N47-2015.09.12-05.32.06_MD590_2_0140_cropped/MD590-IHC51-2015.08.10-21.31.46_MD590_3_0151_lossless_alignedTo_MD590-N47-2015.09.12-05.32.06_MD590_2_0140_cropped_patch_locations.txt\n",
      "/shared/CSHL_patch_features/inception-bn-blue/MD590/MD590_lossless_alignedTo_MD590-N47-2015.09.12-05.32.06_MD590_2_0140_cropped_gray/MD590-IHC51-2015.08.10-21.31.46_MD590_3_0151_lossless_alignedTo_MD590-N47-2015.09.12-05.32.06_MD590_2_0140_cropped_gray_patch_locations.txt\n",
      "aws s3 cp s3://mousebrainatlas-data/CSHL_patch_features/inception-bn-blue/MD590/MD590-IHC51-2015.08.10-21.31.46_MD590_3_0151_lossless_alignedTo_MD590-N47-2015.09.12-05.32.06_MD590_2_0140_cropped/MD590-IHC51-2015.08.10-21.31.46_MD590_3_0151_lossless_alignedTo_MD590-N47-2015.09.12-05.32.06_MD590_2_0140_cropped_patch_locations.txt s3://mousebrainatlas-data/CSHL_patch_features/inception-bn-blue/MD590/MD590_lossless_alignedTo_MD590-N47-2015.09.12-05.32.06_MD590_2_0140_cropped_gray/MD590-IHC51-2015.08.10-21.31.46_MD590_3_0151_lossless_alignedTo_MD590-N47-2015.09.12-05.32.06_MD590_2_0140_cropped_gray_patch_locations.txt\n"
     ]
    },
    {
     "name": "stderr",
     "output_type": "stream",
     "text": [
      "Child returned 0\n"
     ]
    },
    {
     "name": "stdout",
     "output_type": "stream",
     "text": [
      "/shared/CSHL_patch_features/inception-bn-blue/MD590/MD590-N51-2015.08.03-20.24.52_MD590_1_0153_lossless_alignedTo_MD590-N47-2015.09.12-05.32.06_MD590_2_0140_cropped/MD590-N51-2015.08.03-20.24.52_MD590_1_0153_lossless_alignedTo_MD590-N47-2015.09.12-05.32.06_MD590_2_0140_cropped_features.bp\n",
      "/shared/CSHL_patch_features/inception-bn-blue/MD590/MD590_lossless_alignedTo_MD590-N47-2015.09.12-05.32.06_MD590_2_0140_cropped_gray/MD590-N51-2015.08.03-20.24.52_MD590_1_0153_lossless_alignedTo_MD590-N47-2015.09.12-05.32.06_MD590_2_0140_cropped_gray_features.bp\n",
      "aws s3 cp s3://mousebrainatlas-data/CSHL_patch_features/inception-bn-blue/MD590/MD590-N51-2015.08.03-20.24.52_MD590_1_0153_lossless_alignedTo_MD590-N47-2015.09.12-05.32.06_MD590_2_0140_cropped/MD590-N51-2015.08.03-20.24.52_MD590_1_0153_lossless_alignedTo_MD590-N47-2015.09.12-05.32.06_MD590_2_0140_cropped_features.bp s3://mousebrainatlas-data/CSHL_patch_features/inception-bn-blue/MD590/MD590_lossless_alignedTo_MD590-N47-2015.09.12-05.32.06_MD590_2_0140_cropped_gray/MD590-N51-2015.08.03-20.24.52_MD590_1_0153_lossless_alignedTo_MD590-N47-2015.09.12-05.32.06_MD590_2_0140_cropped_gray_features.bp\n"
     ]
    },
    {
     "name": "stderr",
     "output_type": "stream",
     "text": [
      "Child returned 0\n"
     ]
    },
    {
     "name": "stdout",
     "output_type": "stream",
     "text": [
      "/shared/CSHL_patch_features/inception-bn-blue/MD590/MD590-N51-2015.08.03-20.24.52_MD590_1_0153_lossless_alignedTo_MD590-N47-2015.09.12-05.32.06_MD590_2_0140_cropped/MD590-N51-2015.08.03-20.24.52_MD590_1_0153_lossless_alignedTo_MD590-N47-2015.09.12-05.32.06_MD590_2_0140_cropped_patch_locations.txt\n",
      "/shared/CSHL_patch_features/inception-bn-blue/MD590/MD590_lossless_alignedTo_MD590-N47-2015.09.12-05.32.06_MD590_2_0140_cropped_gray/MD590-N51-2015.08.03-20.24.52_MD590_1_0153_lossless_alignedTo_MD590-N47-2015.09.12-05.32.06_MD590_2_0140_cropped_gray_patch_locations.txt\n",
      "aws s3 cp s3://mousebrainatlas-data/CSHL_patch_features/inception-bn-blue/MD590/MD590-N51-2015.08.03-20.24.52_MD590_1_0153_lossless_alignedTo_MD590-N47-2015.09.12-05.32.06_MD590_2_0140_cropped/MD590-N51-2015.08.03-20.24.52_MD590_1_0153_lossless_alignedTo_MD590-N47-2015.09.12-05.32.06_MD590_2_0140_cropped_patch_locations.txt s3://mousebrainatlas-data/CSHL_patch_features/inception-bn-blue/MD590/MD590_lossless_alignedTo_MD590-N47-2015.09.12-05.32.06_MD590_2_0140_cropped_gray/MD590-N51-2015.08.03-20.24.52_MD590_1_0153_lossless_alignedTo_MD590-N47-2015.09.12-05.32.06_MD590_2_0140_cropped_gray_patch_locations.txt\n"
     ]
    },
    {
     "name": "stderr",
     "output_type": "stream",
     "text": [
      "Child returned 0\n"
     ]
    },
    {
     "name": "stdout",
     "output_type": "stream",
     "text": [
      "/shared/CSHL_patch_features/inception-bn-blue/MD590/MD590-IHC51-2015.08.10-21.31.46_MD590_1_0153_lossless_alignedTo_MD590-N47-2015.09.12-05.32.06_MD590_2_0140_cropped/MD590-IHC51-2015.08.10-21.31.46_MD590_1_0153_lossless_alignedTo_MD590-N47-2015.09.12-05.32.06_MD590_2_0140_cropped_features.bp\n",
      "/shared/CSHL_patch_features/inception-bn-blue/MD590/MD590_lossless_alignedTo_MD590-N47-2015.09.12-05.32.06_MD590_2_0140_cropped_gray/MD590-IHC51-2015.08.10-21.31.46_MD590_1_0153_lossless_alignedTo_MD590-N47-2015.09.12-05.32.06_MD590_2_0140_cropped_gray_features.bp\n",
      "aws s3 cp s3://mousebrainatlas-data/CSHL_patch_features/inception-bn-blue/MD590/MD590-IHC51-2015.08.10-21.31.46_MD590_1_0153_lossless_alignedTo_MD590-N47-2015.09.12-05.32.06_MD590_2_0140_cropped/MD590-IHC51-2015.08.10-21.31.46_MD590_1_0153_lossless_alignedTo_MD590-N47-2015.09.12-05.32.06_MD590_2_0140_cropped_features.bp s3://mousebrainatlas-data/CSHL_patch_features/inception-bn-blue/MD590/MD590_lossless_alignedTo_MD590-N47-2015.09.12-05.32.06_MD590_2_0140_cropped_gray/MD590-IHC51-2015.08.10-21.31.46_MD590_1_0153_lossless_alignedTo_MD590-N47-2015.09.12-05.32.06_MD590_2_0140_cropped_gray_features.bp\n"
     ]
    },
    {
     "name": "stderr",
     "output_type": "stream",
     "text": [
      "Child returned 0\n"
     ]
    },
    {
     "name": "stdout",
     "output_type": "stream",
     "text": [
      "/shared/CSHL_patch_features/inception-bn-blue/MD590/MD590-IHC51-2015.08.10-21.31.46_MD590_1_0153_lossless_alignedTo_MD590-N47-2015.09.12-05.32.06_MD590_2_0140_cropped/MD590-IHC51-2015.08.10-21.31.46_MD590_1_0153_lossless_alignedTo_MD590-N47-2015.09.12-05.32.06_MD590_2_0140_cropped_patch_locations.txt\n",
      "/shared/CSHL_patch_features/inception-bn-blue/MD590/MD590_lossless_alignedTo_MD590-N47-2015.09.12-05.32.06_MD590_2_0140_cropped_gray/MD590-IHC51-2015.08.10-21.31.46_MD590_1_0153_lossless_alignedTo_MD590-N47-2015.09.12-05.32.06_MD590_2_0140_cropped_gray_patch_locations.txt\n",
      "aws s3 cp s3://mousebrainatlas-data/CSHL_patch_features/inception-bn-blue/MD590/MD590-IHC51-2015.08.10-21.31.46_MD590_1_0153_lossless_alignedTo_MD590-N47-2015.09.12-05.32.06_MD590_2_0140_cropped/MD590-IHC51-2015.08.10-21.31.46_MD590_1_0153_lossless_alignedTo_MD590-N47-2015.09.12-05.32.06_MD590_2_0140_cropped_patch_locations.txt s3://mousebrainatlas-data/CSHL_patch_features/inception-bn-blue/MD590/MD590_lossless_alignedTo_MD590-N47-2015.09.12-05.32.06_MD590_2_0140_cropped_gray/MD590-IHC51-2015.08.10-21.31.46_MD590_1_0153_lossless_alignedTo_MD590-N47-2015.09.12-05.32.06_MD590_2_0140_cropped_gray_patch_locations.txt\n"
     ]
    },
    {
     "name": "stderr",
     "output_type": "stream",
     "text": [
      "Child returned 0\n"
     ]
    },
    {
     "name": "stdout",
     "output_type": "stream",
     "text": [
      "/shared/CSHL_patch_features/inception-bn-blue/MD590/MD590-N52-2015.08.03-20.28.37_MD590_3_0154_lossless_alignedTo_MD590-N47-2015.09.12-05.32.06_MD590_2_0140_cropped/MD590-N52-2015.08.03-20.28.37_MD590_3_0154_lossless_alignedTo_MD590-N47-2015.09.12-05.32.06_MD590_2_0140_cropped_features.bp\n",
      "/shared/CSHL_patch_features/inception-bn-blue/MD590/MD590_lossless_alignedTo_MD590-N47-2015.09.12-05.32.06_MD590_2_0140_cropped_gray/MD590-N52-2015.08.03-20.28.37_MD590_3_0154_lossless_alignedTo_MD590-N47-2015.09.12-05.32.06_MD590_2_0140_cropped_gray_features.bp\n",
      "aws s3 cp s3://mousebrainatlas-data/CSHL_patch_features/inception-bn-blue/MD590/MD590-N52-2015.08.03-20.28.37_MD590_3_0154_lossless_alignedTo_MD590-N47-2015.09.12-05.32.06_MD590_2_0140_cropped/MD590-N52-2015.08.03-20.28.37_MD590_3_0154_lossless_alignedTo_MD590-N47-2015.09.12-05.32.06_MD590_2_0140_cropped_features.bp s3://mousebrainatlas-data/CSHL_patch_features/inception-bn-blue/MD590/MD590_lossless_alignedTo_MD590-N47-2015.09.12-05.32.06_MD590_2_0140_cropped_gray/MD590-N52-2015.08.03-20.28.37_MD590_3_0154_lossless_alignedTo_MD590-N47-2015.09.12-05.32.06_MD590_2_0140_cropped_gray_features.bp\n"
     ]
    },
    {
     "name": "stderr",
     "output_type": "stream",
     "text": [
      "Child returned 0\n"
     ]
    },
    {
     "name": "stdout",
     "output_type": "stream",
     "text": [
      "/shared/CSHL_patch_features/inception-bn-blue/MD590/MD590-N52-2015.08.03-20.28.37_MD590_3_0154_lossless_alignedTo_MD590-N47-2015.09.12-05.32.06_MD590_2_0140_cropped/MD590-N52-2015.08.03-20.28.37_MD590_3_0154_lossless_alignedTo_MD590-N47-2015.09.12-05.32.06_MD590_2_0140_cropped_patch_locations.txt\n",
      "/shared/CSHL_patch_features/inception-bn-blue/MD590/MD590_lossless_alignedTo_MD590-N47-2015.09.12-05.32.06_MD590_2_0140_cropped_gray/MD590-N52-2015.08.03-20.28.37_MD590_3_0154_lossless_alignedTo_MD590-N47-2015.09.12-05.32.06_MD590_2_0140_cropped_gray_patch_locations.txt\n",
      "aws s3 cp s3://mousebrainatlas-data/CSHL_patch_features/inception-bn-blue/MD590/MD590-N52-2015.08.03-20.28.37_MD590_3_0154_lossless_alignedTo_MD590-N47-2015.09.12-05.32.06_MD590_2_0140_cropped/MD590-N52-2015.08.03-20.28.37_MD590_3_0154_lossless_alignedTo_MD590-N47-2015.09.12-05.32.06_MD590_2_0140_cropped_patch_locations.txt s3://mousebrainatlas-data/CSHL_patch_features/inception-bn-blue/MD590/MD590_lossless_alignedTo_MD590-N47-2015.09.12-05.32.06_MD590_2_0140_cropped_gray/MD590-N52-2015.08.03-20.28.37_MD590_3_0154_lossless_alignedTo_MD590-N47-2015.09.12-05.32.06_MD590_2_0140_cropped_gray_patch_locations.txt\n"
     ]
    },
    {
     "name": "stderr",
     "output_type": "stream",
     "text": [
      "Child returned 0\n"
     ]
    },
    {
     "name": "stdout",
     "output_type": "stream",
     "text": [
      "/shared/CSHL_patch_features/inception-bn-blue/MD590/MD590-IHC52-2015.08.10-21.35.58_MD590_3_0154_lossless_alignedTo_MD590-N47-2015.09.12-05.32.06_MD590_2_0140_cropped/MD590-IHC52-2015.08.10-21.35.58_MD590_3_0154_lossless_alignedTo_MD590-N47-2015.09.12-05.32.06_MD590_2_0140_cropped_features.bp\n",
      "/shared/CSHL_patch_features/inception-bn-blue/MD590/MD590_lossless_alignedTo_MD590-N47-2015.09.12-05.32.06_MD590_2_0140_cropped_gray/MD590-IHC52-2015.08.10-21.35.58_MD590_3_0154_lossless_alignedTo_MD590-N47-2015.09.12-05.32.06_MD590_2_0140_cropped_gray_features.bp\n",
      "aws s3 cp s3://mousebrainatlas-data/CSHL_patch_features/inception-bn-blue/MD590/MD590-IHC52-2015.08.10-21.35.58_MD590_3_0154_lossless_alignedTo_MD590-N47-2015.09.12-05.32.06_MD590_2_0140_cropped/MD590-IHC52-2015.08.10-21.35.58_MD590_3_0154_lossless_alignedTo_MD590-N47-2015.09.12-05.32.06_MD590_2_0140_cropped_features.bp s3://mousebrainatlas-data/CSHL_patch_features/inception-bn-blue/MD590/MD590_lossless_alignedTo_MD590-N47-2015.09.12-05.32.06_MD590_2_0140_cropped_gray/MD590-IHC52-2015.08.10-21.35.58_MD590_3_0154_lossless_alignedTo_MD590-N47-2015.09.12-05.32.06_MD590_2_0140_cropped_gray_features.bp\n"
     ]
    },
    {
     "name": "stderr",
     "output_type": "stream",
     "text": [
      "Child returned 0\n"
     ]
    },
    {
     "name": "stdout",
     "output_type": "stream",
     "text": [
      "/shared/CSHL_patch_features/inception-bn-blue/MD590/MD590-IHC52-2015.08.10-21.35.58_MD590_3_0154_lossless_alignedTo_MD590-N47-2015.09.12-05.32.06_MD590_2_0140_cropped/MD590-IHC52-2015.08.10-21.35.58_MD590_3_0154_lossless_alignedTo_MD590-N47-2015.09.12-05.32.06_MD590_2_0140_cropped_patch_locations.txt\n",
      "/shared/CSHL_patch_features/inception-bn-blue/MD590/MD590_lossless_alignedTo_MD590-N47-2015.09.12-05.32.06_MD590_2_0140_cropped_gray/MD590-IHC52-2015.08.10-21.35.58_MD590_3_0154_lossless_alignedTo_MD590-N47-2015.09.12-05.32.06_MD590_2_0140_cropped_gray_patch_locations.txt\n",
      "aws s3 cp s3://mousebrainatlas-data/CSHL_patch_features/inception-bn-blue/MD590/MD590-IHC52-2015.08.10-21.35.58_MD590_3_0154_lossless_alignedTo_MD590-N47-2015.09.12-05.32.06_MD590_2_0140_cropped/MD590-IHC52-2015.08.10-21.35.58_MD590_3_0154_lossless_alignedTo_MD590-N47-2015.09.12-05.32.06_MD590_2_0140_cropped_patch_locations.txt s3://mousebrainatlas-data/CSHL_patch_features/inception-bn-blue/MD590/MD590_lossless_alignedTo_MD590-N47-2015.09.12-05.32.06_MD590_2_0140_cropped_gray/MD590-IHC52-2015.08.10-21.35.58_MD590_3_0154_lossless_alignedTo_MD590-N47-2015.09.12-05.32.06_MD590_2_0140_cropped_gray_patch_locations.txt\n"
     ]
    },
    {
     "name": "stderr",
     "output_type": "stream",
     "text": [
      "Child returned 0\n"
     ]
    },
    {
     "name": "stdout",
     "output_type": "stream",
     "text": [
      "/shared/CSHL_patch_features/inception-bn-blue/MD590/MD590-N52-2015.08.03-20.28.37_MD590_2_0155_lossless_alignedTo_MD590-N47-2015.09.12-05.32.06_MD590_2_0140_cropped/MD590-N52-2015.08.03-20.28.37_MD590_2_0155_lossless_alignedTo_MD590-N47-2015.09.12-05.32.06_MD590_2_0140_cropped_features.bp\n",
      "/shared/CSHL_patch_features/inception-bn-blue/MD590/MD590_lossless_alignedTo_MD590-N47-2015.09.12-05.32.06_MD590_2_0140_cropped_gray/MD590-N52-2015.08.03-20.28.37_MD590_2_0155_lossless_alignedTo_MD590-N47-2015.09.12-05.32.06_MD590_2_0140_cropped_gray_features.bp\n",
      "aws s3 cp s3://mousebrainatlas-data/CSHL_patch_features/inception-bn-blue/MD590/MD590-N52-2015.08.03-20.28.37_MD590_2_0155_lossless_alignedTo_MD590-N47-2015.09.12-05.32.06_MD590_2_0140_cropped/MD590-N52-2015.08.03-20.28.37_MD590_2_0155_lossless_alignedTo_MD590-N47-2015.09.12-05.32.06_MD590_2_0140_cropped_features.bp s3://mousebrainatlas-data/CSHL_patch_features/inception-bn-blue/MD590/MD590_lossless_alignedTo_MD590-N47-2015.09.12-05.32.06_MD590_2_0140_cropped_gray/MD590-N52-2015.08.03-20.28.37_MD590_2_0155_lossless_alignedTo_MD590-N47-2015.09.12-05.32.06_MD590_2_0140_cropped_gray_features.bp\n"
     ]
    },
    {
     "name": "stderr",
     "output_type": "stream",
     "text": [
      "Child returned 0\n"
     ]
    },
    {
     "name": "stdout",
     "output_type": "stream",
     "text": [
      "/shared/CSHL_patch_features/inception-bn-blue/MD590/MD590-N52-2015.08.03-20.28.37_MD590_2_0155_lossless_alignedTo_MD590-N47-2015.09.12-05.32.06_MD590_2_0140_cropped/MD590-N52-2015.08.03-20.28.37_MD590_2_0155_lossless_alignedTo_MD590-N47-2015.09.12-05.32.06_MD590_2_0140_cropped_patch_locations.txt\n",
      "/shared/CSHL_patch_features/inception-bn-blue/MD590/MD590_lossless_alignedTo_MD590-N47-2015.09.12-05.32.06_MD590_2_0140_cropped_gray/MD590-N52-2015.08.03-20.28.37_MD590_2_0155_lossless_alignedTo_MD590-N47-2015.09.12-05.32.06_MD590_2_0140_cropped_gray_patch_locations.txt\n",
      "aws s3 cp s3://mousebrainatlas-data/CSHL_patch_features/inception-bn-blue/MD590/MD590-N52-2015.08.03-20.28.37_MD590_2_0155_lossless_alignedTo_MD590-N47-2015.09.12-05.32.06_MD590_2_0140_cropped/MD590-N52-2015.08.03-20.28.37_MD590_2_0155_lossless_alignedTo_MD590-N47-2015.09.12-05.32.06_MD590_2_0140_cropped_patch_locations.txt s3://mousebrainatlas-data/CSHL_patch_features/inception-bn-blue/MD590/MD590_lossless_alignedTo_MD590-N47-2015.09.12-05.32.06_MD590_2_0140_cropped_gray/MD590-N52-2015.08.03-20.28.37_MD590_2_0155_lossless_alignedTo_MD590-N47-2015.09.12-05.32.06_MD590_2_0140_cropped_gray_patch_locations.txt\n"
     ]
    },
    {
     "name": "stderr",
     "output_type": "stream",
     "text": [
      "Child returned 0\n"
     ]
    },
    {
     "name": "stdout",
     "output_type": "stream",
     "text": [
      "/shared/CSHL_patch_features/inception-bn-blue/MD590/MD590-IHC52-2015.08.10-21.35.58_MD590_2_0155_lossless_alignedTo_MD590-N47-2015.09.12-05.32.06_MD590_2_0140_cropped/MD590-IHC52-2015.08.10-21.35.58_MD590_2_0155_lossless_alignedTo_MD590-N47-2015.09.12-05.32.06_MD590_2_0140_cropped_features.bp\n",
      "/shared/CSHL_patch_features/inception-bn-blue/MD590/MD590_lossless_alignedTo_MD590-N47-2015.09.12-05.32.06_MD590_2_0140_cropped_gray/MD590-IHC52-2015.08.10-21.35.58_MD590_2_0155_lossless_alignedTo_MD590-N47-2015.09.12-05.32.06_MD590_2_0140_cropped_gray_features.bp\n",
      "aws s3 cp s3://mousebrainatlas-data/CSHL_patch_features/inception-bn-blue/MD590/MD590-IHC52-2015.08.10-21.35.58_MD590_2_0155_lossless_alignedTo_MD590-N47-2015.09.12-05.32.06_MD590_2_0140_cropped/MD590-IHC52-2015.08.10-21.35.58_MD590_2_0155_lossless_alignedTo_MD590-N47-2015.09.12-05.32.06_MD590_2_0140_cropped_features.bp s3://mousebrainatlas-data/CSHL_patch_features/inception-bn-blue/MD590/MD590_lossless_alignedTo_MD590-N47-2015.09.12-05.32.06_MD590_2_0140_cropped_gray/MD590-IHC52-2015.08.10-21.35.58_MD590_2_0155_lossless_alignedTo_MD590-N47-2015.09.12-05.32.06_MD590_2_0140_cropped_gray_features.bp\n"
     ]
    },
    {
     "name": "stderr",
     "output_type": "stream",
     "text": [
      "Child returned 0\n"
     ]
    },
    {
     "name": "stdout",
     "output_type": "stream",
     "text": [
      "/shared/CSHL_patch_features/inception-bn-blue/MD590/MD590-IHC52-2015.08.10-21.35.58_MD590_2_0155_lossless_alignedTo_MD590-N47-2015.09.12-05.32.06_MD590_2_0140_cropped/MD590-IHC52-2015.08.10-21.35.58_MD590_2_0155_lossless_alignedTo_MD590-N47-2015.09.12-05.32.06_MD590_2_0140_cropped_patch_locations.txt\n",
      "/shared/CSHL_patch_features/inception-bn-blue/MD590/MD590_lossless_alignedTo_MD590-N47-2015.09.12-05.32.06_MD590_2_0140_cropped_gray/MD590-IHC52-2015.08.10-21.35.58_MD590_2_0155_lossless_alignedTo_MD590-N47-2015.09.12-05.32.06_MD590_2_0140_cropped_gray_patch_locations.txt\n",
      "aws s3 cp s3://mousebrainatlas-data/CSHL_patch_features/inception-bn-blue/MD590/MD590-IHC52-2015.08.10-21.35.58_MD590_2_0155_lossless_alignedTo_MD590-N47-2015.09.12-05.32.06_MD590_2_0140_cropped/MD590-IHC52-2015.08.10-21.35.58_MD590_2_0155_lossless_alignedTo_MD590-N47-2015.09.12-05.32.06_MD590_2_0140_cropped_patch_locations.txt s3://mousebrainatlas-data/CSHL_patch_features/inception-bn-blue/MD590/MD590_lossless_alignedTo_MD590-N47-2015.09.12-05.32.06_MD590_2_0140_cropped_gray/MD590-IHC52-2015.08.10-21.35.58_MD590_2_0155_lossless_alignedTo_MD590-N47-2015.09.12-05.32.06_MD590_2_0140_cropped_gray_patch_locations.txt\n"
     ]
    },
    {
     "name": "stderr",
     "output_type": "stream",
     "text": [
      "Child returned 0\n"
     ]
    },
    {
     "name": "stdout",
     "output_type": "stream",
     "text": [
      "/shared/CSHL_patch_features/inception-bn-blue/MD590/MD590-N53-2015.09.12-05.51.48_MD590_1_0157_lossless_alignedTo_MD590-N47-2015.09.12-05.32.06_MD590_2_0140_cropped/MD590-N53-2015.09.12-05.51.48_MD590_1_0157_lossless_alignedTo_MD590-N47-2015.09.12-05.32.06_MD590_2_0140_cropped_features.bp\n",
      "/shared/CSHL_patch_features/inception-bn-blue/MD590/MD590_lossless_alignedTo_MD590-N47-2015.09.12-05.32.06_MD590_2_0140_cropped_gray/MD590-N53-2015.09.12-05.51.48_MD590_1_0157_lossless_alignedTo_MD590-N47-2015.09.12-05.32.06_MD590_2_0140_cropped_gray_features.bp\n",
      "aws s3 cp s3://mousebrainatlas-data/CSHL_patch_features/inception-bn-blue/MD590/MD590-N53-2015.09.12-05.51.48_MD590_1_0157_lossless_alignedTo_MD590-N47-2015.09.12-05.32.06_MD590_2_0140_cropped/MD590-N53-2015.09.12-05.51.48_MD590_1_0157_lossless_alignedTo_MD590-N47-2015.09.12-05.32.06_MD590_2_0140_cropped_features.bp s3://mousebrainatlas-data/CSHL_patch_features/inception-bn-blue/MD590/MD590_lossless_alignedTo_MD590-N47-2015.09.12-05.32.06_MD590_2_0140_cropped_gray/MD590-N53-2015.09.12-05.51.48_MD590_1_0157_lossless_alignedTo_MD590-N47-2015.09.12-05.32.06_MD590_2_0140_cropped_gray_features.bp\n"
     ]
    },
    {
     "name": "stderr",
     "output_type": "stream",
     "text": [
      "Child returned 0\n"
     ]
    },
    {
     "name": "stdout",
     "output_type": "stream",
     "text": [
      "/shared/CSHL_patch_features/inception-bn-blue/MD590/MD590-N53-2015.09.12-05.51.48_MD590_1_0157_lossless_alignedTo_MD590-N47-2015.09.12-05.32.06_MD590_2_0140_cropped/MD590-N53-2015.09.12-05.51.48_MD590_1_0157_lossless_alignedTo_MD590-N47-2015.09.12-05.32.06_MD590_2_0140_cropped_patch_locations.txt\n",
      "/shared/CSHL_patch_features/inception-bn-blue/MD590/MD590_lossless_alignedTo_MD590-N47-2015.09.12-05.32.06_MD590_2_0140_cropped_gray/MD590-N53-2015.09.12-05.51.48_MD590_1_0157_lossless_alignedTo_MD590-N47-2015.09.12-05.32.06_MD590_2_0140_cropped_gray_patch_locations.txt\n",
      "aws s3 cp s3://mousebrainatlas-data/CSHL_patch_features/inception-bn-blue/MD590/MD590-N53-2015.09.12-05.51.48_MD590_1_0157_lossless_alignedTo_MD590-N47-2015.09.12-05.32.06_MD590_2_0140_cropped/MD590-N53-2015.09.12-05.51.48_MD590_1_0157_lossless_alignedTo_MD590-N47-2015.09.12-05.32.06_MD590_2_0140_cropped_patch_locations.txt s3://mousebrainatlas-data/CSHL_patch_features/inception-bn-blue/MD590/MD590_lossless_alignedTo_MD590-N47-2015.09.12-05.32.06_MD590_2_0140_cropped_gray/MD590-N53-2015.09.12-05.51.48_MD590_1_0157_lossless_alignedTo_MD590-N47-2015.09.12-05.32.06_MD590_2_0140_cropped_gray_patch_locations.txt\n"
     ]
    },
    {
     "name": "stderr",
     "output_type": "stream",
     "text": [
      "Child returned 0\n"
     ]
    },
    {
     "name": "stdout",
     "output_type": "stream",
     "text": [
      "/shared/CSHL_patch_features/inception-bn-blue/MD590/MD590-IHC53-2015.08.10-21.40.10_MD590_3_0157_lossless_alignedTo_MD590-N47-2015.09.12-05.32.06_MD590_2_0140_cropped/MD590-IHC53-2015.08.10-21.40.10_MD590_3_0157_lossless_alignedTo_MD590-N47-2015.09.12-05.32.06_MD590_2_0140_cropped_features.bp\n",
      "/shared/CSHL_patch_features/inception-bn-blue/MD590/MD590_lossless_alignedTo_MD590-N47-2015.09.12-05.32.06_MD590_2_0140_cropped_gray/MD590-IHC53-2015.08.10-21.40.10_MD590_3_0157_lossless_alignedTo_MD590-N47-2015.09.12-05.32.06_MD590_2_0140_cropped_gray_features.bp\n",
      "aws s3 cp s3://mousebrainatlas-data/CSHL_patch_features/inception-bn-blue/MD590/MD590-IHC53-2015.08.10-21.40.10_MD590_3_0157_lossless_alignedTo_MD590-N47-2015.09.12-05.32.06_MD590_2_0140_cropped/MD590-IHC53-2015.08.10-21.40.10_MD590_3_0157_lossless_alignedTo_MD590-N47-2015.09.12-05.32.06_MD590_2_0140_cropped_features.bp s3://mousebrainatlas-data/CSHL_patch_features/inception-bn-blue/MD590/MD590_lossless_alignedTo_MD590-N47-2015.09.12-05.32.06_MD590_2_0140_cropped_gray/MD590-IHC53-2015.08.10-21.40.10_MD590_3_0157_lossless_alignedTo_MD590-N47-2015.09.12-05.32.06_MD590_2_0140_cropped_gray_features.bp\n"
     ]
    },
    {
     "name": "stderr",
     "output_type": "stream",
     "text": [
      "Child returned 0\n"
     ]
    },
    {
     "name": "stdout",
     "output_type": "stream",
     "text": [
      "/shared/CSHL_patch_features/inception-bn-blue/MD590/MD590-IHC53-2015.08.10-21.40.10_MD590_3_0157_lossless_alignedTo_MD590-N47-2015.09.12-05.32.06_MD590_2_0140_cropped/MD590-IHC53-2015.08.10-21.40.10_MD590_3_0157_lossless_alignedTo_MD590-N47-2015.09.12-05.32.06_MD590_2_0140_cropped_patch_locations.txt\n",
      "/shared/CSHL_patch_features/inception-bn-blue/MD590/MD590_lossless_alignedTo_MD590-N47-2015.09.12-05.32.06_MD590_2_0140_cropped_gray/MD590-IHC53-2015.08.10-21.40.10_MD590_3_0157_lossless_alignedTo_MD590-N47-2015.09.12-05.32.06_MD590_2_0140_cropped_gray_patch_locations.txt\n",
      "aws s3 cp s3://mousebrainatlas-data/CSHL_patch_features/inception-bn-blue/MD590/MD590-IHC53-2015.08.10-21.40.10_MD590_3_0157_lossless_alignedTo_MD590-N47-2015.09.12-05.32.06_MD590_2_0140_cropped/MD590-IHC53-2015.08.10-21.40.10_MD590_3_0157_lossless_alignedTo_MD590-N47-2015.09.12-05.32.06_MD590_2_0140_cropped_patch_locations.txt s3://mousebrainatlas-data/CSHL_patch_features/inception-bn-blue/MD590/MD590_lossless_alignedTo_MD590-N47-2015.09.12-05.32.06_MD590_2_0140_cropped_gray/MD590-IHC53-2015.08.10-21.40.10_MD590_3_0157_lossless_alignedTo_MD590-N47-2015.09.12-05.32.06_MD590_2_0140_cropped_gray_patch_locations.txt\n"
     ]
    },
    {
     "name": "stderr",
     "output_type": "stream",
     "text": [
      "Child returned 0\n"
     ]
    },
    {
     "name": "stdout",
     "output_type": "stream",
     "text": [
      "/shared/CSHL_patch_features/inception-bn-blue/MD590/MD590-N53-2015.09.12-05.51.48_MD590_2_0158_lossless_alignedTo_MD590-N47-2015.09.12-05.32.06_MD590_2_0140_cropped/MD590-N53-2015.09.12-05.51.48_MD590_2_0158_lossless_alignedTo_MD590-N47-2015.09.12-05.32.06_MD590_2_0140_cropped_features.bp\n",
      "/shared/CSHL_patch_features/inception-bn-blue/MD590/MD590_lossless_alignedTo_MD590-N47-2015.09.12-05.32.06_MD590_2_0140_cropped_gray/MD590-N53-2015.09.12-05.51.48_MD590_2_0158_lossless_alignedTo_MD590-N47-2015.09.12-05.32.06_MD590_2_0140_cropped_gray_features.bp\n",
      "aws s3 cp s3://mousebrainatlas-data/CSHL_patch_features/inception-bn-blue/MD590/MD590-N53-2015.09.12-05.51.48_MD590_2_0158_lossless_alignedTo_MD590-N47-2015.09.12-05.32.06_MD590_2_0140_cropped/MD590-N53-2015.09.12-05.51.48_MD590_2_0158_lossless_alignedTo_MD590-N47-2015.09.12-05.32.06_MD590_2_0140_cropped_features.bp s3://mousebrainatlas-data/CSHL_patch_features/inception-bn-blue/MD590/MD590_lossless_alignedTo_MD590-N47-2015.09.12-05.32.06_MD590_2_0140_cropped_gray/MD590-N53-2015.09.12-05.51.48_MD590_2_0158_lossless_alignedTo_MD590-N47-2015.09.12-05.32.06_MD590_2_0140_cropped_gray_features.bp\n"
     ]
    },
    {
     "name": "stderr",
     "output_type": "stream",
     "text": [
      "Child returned 0\n"
     ]
    },
    {
     "name": "stdout",
     "output_type": "stream",
     "text": [
      "/shared/CSHL_patch_features/inception-bn-blue/MD590/MD590-N53-2015.09.12-05.51.48_MD590_2_0158_lossless_alignedTo_MD590-N47-2015.09.12-05.32.06_MD590_2_0140_cropped/MD590-N53-2015.09.12-05.51.48_MD590_2_0158_lossless_alignedTo_MD590-N47-2015.09.12-05.32.06_MD590_2_0140_cropped_patch_locations.txt\n",
      "/shared/CSHL_patch_features/inception-bn-blue/MD590/MD590_lossless_alignedTo_MD590-N47-2015.09.12-05.32.06_MD590_2_0140_cropped_gray/MD590-N53-2015.09.12-05.51.48_MD590_2_0158_lossless_alignedTo_MD590-N47-2015.09.12-05.32.06_MD590_2_0140_cropped_gray_patch_locations.txt\n",
      "aws s3 cp s3://mousebrainatlas-data/CSHL_patch_features/inception-bn-blue/MD590/MD590-N53-2015.09.12-05.51.48_MD590_2_0158_lossless_alignedTo_MD590-N47-2015.09.12-05.32.06_MD590_2_0140_cropped/MD590-N53-2015.09.12-05.51.48_MD590_2_0158_lossless_alignedTo_MD590-N47-2015.09.12-05.32.06_MD590_2_0140_cropped_patch_locations.txt s3://mousebrainatlas-data/CSHL_patch_features/inception-bn-blue/MD590/MD590_lossless_alignedTo_MD590-N47-2015.09.12-05.32.06_MD590_2_0140_cropped_gray/MD590-N53-2015.09.12-05.51.48_MD590_2_0158_lossless_alignedTo_MD590-N47-2015.09.12-05.32.06_MD590_2_0140_cropped_gray_patch_locations.txt\n"
     ]
    },
    {
     "name": "stderr",
     "output_type": "stream",
     "text": [
      "Child returned 0\n"
     ]
    },
    {
     "name": "stdout",
     "output_type": "stream",
     "text": [
      "/shared/CSHL_patch_features/inception-bn-blue/MD590/MD590-IHC53-2015.08.10-21.40.10_MD590_2_0158_lossless_alignedTo_MD590-N47-2015.09.12-05.32.06_MD590_2_0140_cropped/MD590-IHC53-2015.08.10-21.40.10_MD590_2_0158_lossless_alignedTo_MD590-N47-2015.09.12-05.32.06_MD590_2_0140_cropped_features.bp\n",
      "/shared/CSHL_patch_features/inception-bn-blue/MD590/MD590_lossless_alignedTo_MD590-N47-2015.09.12-05.32.06_MD590_2_0140_cropped_gray/MD590-IHC53-2015.08.10-21.40.10_MD590_2_0158_lossless_alignedTo_MD590-N47-2015.09.12-05.32.06_MD590_2_0140_cropped_gray_features.bp\n",
      "aws s3 cp s3://mousebrainatlas-data/CSHL_patch_features/inception-bn-blue/MD590/MD590-IHC53-2015.08.10-21.40.10_MD590_2_0158_lossless_alignedTo_MD590-N47-2015.09.12-05.32.06_MD590_2_0140_cropped/MD590-IHC53-2015.08.10-21.40.10_MD590_2_0158_lossless_alignedTo_MD590-N47-2015.09.12-05.32.06_MD590_2_0140_cropped_features.bp s3://mousebrainatlas-data/CSHL_patch_features/inception-bn-blue/MD590/MD590_lossless_alignedTo_MD590-N47-2015.09.12-05.32.06_MD590_2_0140_cropped_gray/MD590-IHC53-2015.08.10-21.40.10_MD590_2_0158_lossless_alignedTo_MD590-N47-2015.09.12-05.32.06_MD590_2_0140_cropped_gray_features.bp\n"
     ]
    },
    {
     "name": "stderr",
     "output_type": "stream",
     "text": [
      "Child returned 0\n"
     ]
    },
    {
     "name": "stdout",
     "output_type": "stream",
     "text": [
      "/shared/CSHL_patch_features/inception-bn-blue/MD590/MD590-IHC53-2015.08.10-21.40.10_MD590_2_0158_lossless_alignedTo_MD590-N47-2015.09.12-05.32.06_MD590_2_0140_cropped/MD590-IHC53-2015.08.10-21.40.10_MD590_2_0158_lossless_alignedTo_MD590-N47-2015.09.12-05.32.06_MD590_2_0140_cropped_patch_locations.txt\n",
      "/shared/CSHL_patch_features/inception-bn-blue/MD590/MD590_lossless_alignedTo_MD590-N47-2015.09.12-05.32.06_MD590_2_0140_cropped_gray/MD590-IHC53-2015.08.10-21.40.10_MD590_2_0158_lossless_alignedTo_MD590-N47-2015.09.12-05.32.06_MD590_2_0140_cropped_gray_patch_locations.txt\n",
      "aws s3 cp s3://mousebrainatlas-data/CSHL_patch_features/inception-bn-blue/MD590/MD590-IHC53-2015.08.10-21.40.10_MD590_2_0158_lossless_alignedTo_MD590-N47-2015.09.12-05.32.06_MD590_2_0140_cropped/MD590-IHC53-2015.08.10-21.40.10_MD590_2_0158_lossless_alignedTo_MD590-N47-2015.09.12-05.32.06_MD590_2_0140_cropped_patch_locations.txt s3://mousebrainatlas-data/CSHL_patch_features/inception-bn-blue/MD590/MD590_lossless_alignedTo_MD590-N47-2015.09.12-05.32.06_MD590_2_0140_cropped_gray/MD590-IHC53-2015.08.10-21.40.10_MD590_2_0158_lossless_alignedTo_MD590-N47-2015.09.12-05.32.06_MD590_2_0140_cropped_gray_patch_locations.txt\n"
     ]
    },
    {
     "name": "stderr",
     "output_type": "stream",
     "text": [
      "Child returned 0\n"
     ]
    },
    {
     "name": "stdout",
     "output_type": "stream",
     "text": [
      "/shared/CSHL_patch_features/inception-bn-blue/MD590/MD590-N54-2015.08.03-20.36.07_MD590_3_0160_lossless_alignedTo_MD590-N47-2015.09.12-05.32.06_MD590_2_0140_cropped/MD590-N54-2015.08.03-20.36.07_MD590_3_0160_lossless_alignedTo_MD590-N47-2015.09.12-05.32.06_MD590_2_0140_cropped_features.bp\n",
      "/shared/CSHL_patch_features/inception-bn-blue/MD590/MD590_lossless_alignedTo_MD590-N47-2015.09.12-05.32.06_MD590_2_0140_cropped_gray/MD590-N54-2015.08.03-20.36.07_MD590_3_0160_lossless_alignedTo_MD590-N47-2015.09.12-05.32.06_MD590_2_0140_cropped_gray_features.bp\n",
      "aws s3 cp s3://mousebrainatlas-data/CSHL_patch_features/inception-bn-blue/MD590/MD590-N54-2015.08.03-20.36.07_MD590_3_0160_lossless_alignedTo_MD590-N47-2015.09.12-05.32.06_MD590_2_0140_cropped/MD590-N54-2015.08.03-20.36.07_MD590_3_0160_lossless_alignedTo_MD590-N47-2015.09.12-05.32.06_MD590_2_0140_cropped_features.bp s3://mousebrainatlas-data/CSHL_patch_features/inception-bn-blue/MD590/MD590_lossless_alignedTo_MD590-N47-2015.09.12-05.32.06_MD590_2_0140_cropped_gray/MD590-N54-2015.08.03-20.36.07_MD590_3_0160_lossless_alignedTo_MD590-N47-2015.09.12-05.32.06_MD590_2_0140_cropped_gray_features.bp\n"
     ]
    },
    {
     "name": "stderr",
     "output_type": "stream",
     "text": [
      "Child returned 0\n"
     ]
    },
    {
     "name": "stdout",
     "output_type": "stream",
     "text": [
      "/shared/CSHL_patch_features/inception-bn-blue/MD590/MD590-N54-2015.08.03-20.36.07_MD590_3_0160_lossless_alignedTo_MD590-N47-2015.09.12-05.32.06_MD590_2_0140_cropped/MD590-N54-2015.08.03-20.36.07_MD590_3_0160_lossless_alignedTo_MD590-N47-2015.09.12-05.32.06_MD590_2_0140_cropped_patch_locations.txt\n",
      "/shared/CSHL_patch_features/inception-bn-blue/MD590/MD590_lossless_alignedTo_MD590-N47-2015.09.12-05.32.06_MD590_2_0140_cropped_gray/MD590-N54-2015.08.03-20.36.07_MD590_3_0160_lossless_alignedTo_MD590-N47-2015.09.12-05.32.06_MD590_2_0140_cropped_gray_patch_locations.txt\n",
      "aws s3 cp s3://mousebrainatlas-data/CSHL_patch_features/inception-bn-blue/MD590/MD590-N54-2015.08.03-20.36.07_MD590_3_0160_lossless_alignedTo_MD590-N47-2015.09.12-05.32.06_MD590_2_0140_cropped/MD590-N54-2015.08.03-20.36.07_MD590_3_0160_lossless_alignedTo_MD590-N47-2015.09.12-05.32.06_MD590_2_0140_cropped_patch_locations.txt s3://mousebrainatlas-data/CSHL_patch_features/inception-bn-blue/MD590/MD590_lossless_alignedTo_MD590-N47-2015.09.12-05.32.06_MD590_2_0140_cropped_gray/MD590-N54-2015.08.03-20.36.07_MD590_3_0160_lossless_alignedTo_MD590-N47-2015.09.12-05.32.06_MD590_2_0140_cropped_gray_patch_locations.txt\n"
     ]
    },
    {
     "name": "stderr",
     "output_type": "stream",
     "text": [
      "Child returned 0\n"
     ]
    },
    {
     "name": "stdout",
     "output_type": "stream",
     "text": [
      "/shared/CSHL_patch_features/inception-bn-blue/MD590/MD590-IHC54-2015.08.10-21.44.37_MD590_3_0160_lossless_alignedTo_MD590-N47-2015.09.12-05.32.06_MD590_2_0140_cropped/MD590-IHC54-2015.08.10-21.44.37_MD590_3_0160_lossless_alignedTo_MD590-N47-2015.09.12-05.32.06_MD590_2_0140_cropped_features.bp\n",
      "/shared/CSHL_patch_features/inception-bn-blue/MD590/MD590_lossless_alignedTo_MD590-N47-2015.09.12-05.32.06_MD590_2_0140_cropped_gray/MD590-IHC54-2015.08.10-21.44.37_MD590_3_0160_lossless_alignedTo_MD590-N47-2015.09.12-05.32.06_MD590_2_0140_cropped_gray_features.bp\n",
      "aws s3 cp s3://mousebrainatlas-data/CSHL_patch_features/inception-bn-blue/MD590/MD590-IHC54-2015.08.10-21.44.37_MD590_3_0160_lossless_alignedTo_MD590-N47-2015.09.12-05.32.06_MD590_2_0140_cropped/MD590-IHC54-2015.08.10-21.44.37_MD590_3_0160_lossless_alignedTo_MD590-N47-2015.09.12-05.32.06_MD590_2_0140_cropped_features.bp s3://mousebrainatlas-data/CSHL_patch_features/inception-bn-blue/MD590/MD590_lossless_alignedTo_MD590-N47-2015.09.12-05.32.06_MD590_2_0140_cropped_gray/MD590-IHC54-2015.08.10-21.44.37_MD590_3_0160_lossless_alignedTo_MD590-N47-2015.09.12-05.32.06_MD590_2_0140_cropped_gray_features.bp\n"
     ]
    },
    {
     "name": "stderr",
     "output_type": "stream",
     "text": [
      "Child returned 0\n"
     ]
    },
    {
     "name": "stdout",
     "output_type": "stream",
     "text": [
      "/shared/CSHL_patch_features/inception-bn-blue/MD590/MD590-IHC54-2015.08.10-21.44.37_MD590_3_0160_lossless_alignedTo_MD590-N47-2015.09.12-05.32.06_MD590_2_0140_cropped/MD590-IHC54-2015.08.10-21.44.37_MD590_3_0160_lossless_alignedTo_MD590-N47-2015.09.12-05.32.06_MD590_2_0140_cropped_patch_locations.txt\n",
      "/shared/CSHL_patch_features/inception-bn-blue/MD590/MD590_lossless_alignedTo_MD590-N47-2015.09.12-05.32.06_MD590_2_0140_cropped_gray/MD590-IHC54-2015.08.10-21.44.37_MD590_3_0160_lossless_alignedTo_MD590-N47-2015.09.12-05.32.06_MD590_2_0140_cropped_gray_patch_locations.txt\n",
      "aws s3 cp s3://mousebrainatlas-data/CSHL_patch_features/inception-bn-blue/MD590/MD590-IHC54-2015.08.10-21.44.37_MD590_3_0160_lossless_alignedTo_MD590-N47-2015.09.12-05.32.06_MD590_2_0140_cropped/MD590-IHC54-2015.08.10-21.44.37_MD590_3_0160_lossless_alignedTo_MD590-N47-2015.09.12-05.32.06_MD590_2_0140_cropped_patch_locations.txt s3://mousebrainatlas-data/CSHL_patch_features/inception-bn-blue/MD590/MD590_lossless_alignedTo_MD590-N47-2015.09.12-05.32.06_MD590_2_0140_cropped_gray/MD590-IHC54-2015.08.10-21.44.37_MD590_3_0160_lossless_alignedTo_MD590-N47-2015.09.12-05.32.06_MD590_2_0140_cropped_gray_patch_locations.txt\n"
     ]
    },
    {
     "name": "stderr",
     "output_type": "stream",
     "text": [
      "Child returned 0\n"
     ]
    },
    {
     "name": "stdout",
     "output_type": "stream",
     "text": [
      "/shared/CSHL_patch_features/inception-bn-blue/MD590/MD590-N54-2015.08.03-20.36.07_MD590_2_0161_lossless_alignedTo_MD590-N47-2015.09.12-05.32.06_MD590_2_0140_cropped/MD590-N54-2015.08.03-20.36.07_MD590_2_0161_lossless_alignedTo_MD590-N47-2015.09.12-05.32.06_MD590_2_0140_cropped_features.bp\n",
      "/shared/CSHL_patch_features/inception-bn-blue/MD590/MD590_lossless_alignedTo_MD590-N47-2015.09.12-05.32.06_MD590_2_0140_cropped_gray/MD590-N54-2015.08.03-20.36.07_MD590_2_0161_lossless_alignedTo_MD590-N47-2015.09.12-05.32.06_MD590_2_0140_cropped_gray_features.bp\n",
      "aws s3 cp s3://mousebrainatlas-data/CSHL_patch_features/inception-bn-blue/MD590/MD590-N54-2015.08.03-20.36.07_MD590_2_0161_lossless_alignedTo_MD590-N47-2015.09.12-05.32.06_MD590_2_0140_cropped/MD590-N54-2015.08.03-20.36.07_MD590_2_0161_lossless_alignedTo_MD590-N47-2015.09.12-05.32.06_MD590_2_0140_cropped_features.bp s3://mousebrainatlas-data/CSHL_patch_features/inception-bn-blue/MD590/MD590_lossless_alignedTo_MD590-N47-2015.09.12-05.32.06_MD590_2_0140_cropped_gray/MD590-N54-2015.08.03-20.36.07_MD590_2_0161_lossless_alignedTo_MD590-N47-2015.09.12-05.32.06_MD590_2_0140_cropped_gray_features.bp\n"
     ]
    },
    {
     "name": "stderr",
     "output_type": "stream",
     "text": [
      "Child returned 0\n"
     ]
    },
    {
     "name": "stdout",
     "output_type": "stream",
     "text": [
      "/shared/CSHL_patch_features/inception-bn-blue/MD590/MD590-N54-2015.08.03-20.36.07_MD590_2_0161_lossless_alignedTo_MD590-N47-2015.09.12-05.32.06_MD590_2_0140_cropped/MD590-N54-2015.08.03-20.36.07_MD590_2_0161_lossless_alignedTo_MD590-N47-2015.09.12-05.32.06_MD590_2_0140_cropped_patch_locations.txt\n",
      "/shared/CSHL_patch_features/inception-bn-blue/MD590/MD590_lossless_alignedTo_MD590-N47-2015.09.12-05.32.06_MD590_2_0140_cropped_gray/MD590-N54-2015.08.03-20.36.07_MD590_2_0161_lossless_alignedTo_MD590-N47-2015.09.12-05.32.06_MD590_2_0140_cropped_gray_patch_locations.txt\n",
      "aws s3 cp s3://mousebrainatlas-data/CSHL_patch_features/inception-bn-blue/MD590/MD590-N54-2015.08.03-20.36.07_MD590_2_0161_lossless_alignedTo_MD590-N47-2015.09.12-05.32.06_MD590_2_0140_cropped/MD590-N54-2015.08.03-20.36.07_MD590_2_0161_lossless_alignedTo_MD590-N47-2015.09.12-05.32.06_MD590_2_0140_cropped_patch_locations.txt s3://mousebrainatlas-data/CSHL_patch_features/inception-bn-blue/MD590/MD590_lossless_alignedTo_MD590-N47-2015.09.12-05.32.06_MD590_2_0140_cropped_gray/MD590-N54-2015.08.03-20.36.07_MD590_2_0161_lossless_alignedTo_MD590-N47-2015.09.12-05.32.06_MD590_2_0140_cropped_gray_patch_locations.txt\n"
     ]
    },
    {
     "name": "stderr",
     "output_type": "stream",
     "text": [
      "Child returned 0\n"
     ]
    },
    {
     "name": "stdout",
     "output_type": "stream",
     "text": [
      "/shared/CSHL_patch_features/inception-bn-blue/MD590/MD590-IHC54-2015.08.10-21.44.37_MD590_2_0161_lossless_alignedTo_MD590-N47-2015.09.12-05.32.06_MD590_2_0140_cropped/MD590-IHC54-2015.08.10-21.44.37_MD590_2_0161_lossless_alignedTo_MD590-N47-2015.09.12-05.32.06_MD590_2_0140_cropped_features.bp\n",
      "/shared/CSHL_patch_features/inception-bn-blue/MD590/MD590_lossless_alignedTo_MD590-N47-2015.09.12-05.32.06_MD590_2_0140_cropped_gray/MD590-IHC54-2015.08.10-21.44.37_MD590_2_0161_lossless_alignedTo_MD590-N47-2015.09.12-05.32.06_MD590_2_0140_cropped_gray_features.bp\n",
      "aws s3 cp s3://mousebrainatlas-data/CSHL_patch_features/inception-bn-blue/MD590/MD590-IHC54-2015.08.10-21.44.37_MD590_2_0161_lossless_alignedTo_MD590-N47-2015.09.12-05.32.06_MD590_2_0140_cropped/MD590-IHC54-2015.08.10-21.44.37_MD590_2_0161_lossless_alignedTo_MD590-N47-2015.09.12-05.32.06_MD590_2_0140_cropped_features.bp s3://mousebrainatlas-data/CSHL_patch_features/inception-bn-blue/MD590/MD590_lossless_alignedTo_MD590-N47-2015.09.12-05.32.06_MD590_2_0140_cropped_gray/MD590-IHC54-2015.08.10-21.44.37_MD590_2_0161_lossless_alignedTo_MD590-N47-2015.09.12-05.32.06_MD590_2_0140_cropped_gray_features.bp\n"
     ]
    },
    {
     "name": "stderr",
     "output_type": "stream",
     "text": [
      "Child returned 0\n"
     ]
    },
    {
     "name": "stdout",
     "output_type": "stream",
     "text": [
      "/shared/CSHL_patch_features/inception-bn-blue/MD590/MD590-IHC54-2015.08.10-21.44.37_MD590_2_0161_lossless_alignedTo_MD590-N47-2015.09.12-05.32.06_MD590_2_0140_cropped/MD590-IHC54-2015.08.10-21.44.37_MD590_2_0161_lossless_alignedTo_MD590-N47-2015.09.12-05.32.06_MD590_2_0140_cropped_patch_locations.txt\n",
      "/shared/CSHL_patch_features/inception-bn-blue/MD590/MD590_lossless_alignedTo_MD590-N47-2015.09.12-05.32.06_MD590_2_0140_cropped_gray/MD590-IHC54-2015.08.10-21.44.37_MD590_2_0161_lossless_alignedTo_MD590-N47-2015.09.12-05.32.06_MD590_2_0140_cropped_gray_patch_locations.txt\n",
      "aws s3 cp s3://mousebrainatlas-data/CSHL_patch_features/inception-bn-blue/MD590/MD590-IHC54-2015.08.10-21.44.37_MD590_2_0161_lossless_alignedTo_MD590-N47-2015.09.12-05.32.06_MD590_2_0140_cropped/MD590-IHC54-2015.08.10-21.44.37_MD590_2_0161_lossless_alignedTo_MD590-N47-2015.09.12-05.32.06_MD590_2_0140_cropped_patch_locations.txt s3://mousebrainatlas-data/CSHL_patch_features/inception-bn-blue/MD590/MD590_lossless_alignedTo_MD590-N47-2015.09.12-05.32.06_MD590_2_0140_cropped_gray/MD590-IHC54-2015.08.10-21.44.37_MD590_2_0161_lossless_alignedTo_MD590-N47-2015.09.12-05.32.06_MD590_2_0140_cropped_gray_patch_locations.txt\n"
     ]
    },
    {
     "name": "stderr",
     "output_type": "stream",
     "text": [
      "Child returned 0\n"
     ]
    },
    {
     "name": "stdout",
     "output_type": "stream",
     "text": [
      "/shared/CSHL_patch_features/inception-bn-blue/MD590/MD590-N54-2015.08.03-20.36.07_MD590_1_0162_lossless_alignedTo_MD590-N47-2015.09.12-05.32.06_MD590_2_0140_cropped/MD590-N54-2015.08.03-20.36.07_MD590_1_0162_lossless_alignedTo_MD590-N47-2015.09.12-05.32.06_MD590_2_0140_cropped_features.bp\n",
      "/shared/CSHL_patch_features/inception-bn-blue/MD590/MD590_lossless_alignedTo_MD590-N47-2015.09.12-05.32.06_MD590_2_0140_cropped_gray/MD590-N54-2015.08.03-20.36.07_MD590_1_0162_lossless_alignedTo_MD590-N47-2015.09.12-05.32.06_MD590_2_0140_cropped_gray_features.bp\n",
      "aws s3 cp s3://mousebrainatlas-data/CSHL_patch_features/inception-bn-blue/MD590/MD590-N54-2015.08.03-20.36.07_MD590_1_0162_lossless_alignedTo_MD590-N47-2015.09.12-05.32.06_MD590_2_0140_cropped/MD590-N54-2015.08.03-20.36.07_MD590_1_0162_lossless_alignedTo_MD590-N47-2015.09.12-05.32.06_MD590_2_0140_cropped_features.bp s3://mousebrainatlas-data/CSHL_patch_features/inception-bn-blue/MD590/MD590_lossless_alignedTo_MD590-N47-2015.09.12-05.32.06_MD590_2_0140_cropped_gray/MD590-N54-2015.08.03-20.36.07_MD590_1_0162_lossless_alignedTo_MD590-N47-2015.09.12-05.32.06_MD590_2_0140_cropped_gray_features.bp\n"
     ]
    },
    {
     "name": "stderr",
     "output_type": "stream",
     "text": [
      "Child returned 0\n"
     ]
    },
    {
     "name": "stdout",
     "output_type": "stream",
     "text": [
      "/shared/CSHL_patch_features/inception-bn-blue/MD590/MD590-N54-2015.08.03-20.36.07_MD590_1_0162_lossless_alignedTo_MD590-N47-2015.09.12-05.32.06_MD590_2_0140_cropped/MD590-N54-2015.08.03-20.36.07_MD590_1_0162_lossless_alignedTo_MD590-N47-2015.09.12-05.32.06_MD590_2_0140_cropped_patch_locations.txt\n",
      "/shared/CSHL_patch_features/inception-bn-blue/MD590/MD590_lossless_alignedTo_MD590-N47-2015.09.12-05.32.06_MD590_2_0140_cropped_gray/MD590-N54-2015.08.03-20.36.07_MD590_1_0162_lossless_alignedTo_MD590-N47-2015.09.12-05.32.06_MD590_2_0140_cropped_gray_patch_locations.txt\n",
      "aws s3 cp s3://mousebrainatlas-data/CSHL_patch_features/inception-bn-blue/MD590/MD590-N54-2015.08.03-20.36.07_MD590_1_0162_lossless_alignedTo_MD590-N47-2015.09.12-05.32.06_MD590_2_0140_cropped/MD590-N54-2015.08.03-20.36.07_MD590_1_0162_lossless_alignedTo_MD590-N47-2015.09.12-05.32.06_MD590_2_0140_cropped_patch_locations.txt s3://mousebrainatlas-data/CSHL_patch_features/inception-bn-blue/MD590/MD590_lossless_alignedTo_MD590-N47-2015.09.12-05.32.06_MD590_2_0140_cropped_gray/MD590-N54-2015.08.03-20.36.07_MD590_1_0162_lossless_alignedTo_MD590-N47-2015.09.12-05.32.06_MD590_2_0140_cropped_gray_patch_locations.txt\n"
     ]
    },
    {
     "name": "stderr",
     "output_type": "stream",
     "text": [
      "Child returned 0\n"
     ]
    },
    {
     "name": "stdout",
     "output_type": "stream",
     "text": [
      "/shared/CSHL_patch_features/inception-bn-blue/MD590/MD590-IHC54-2015.08.10-21.44.37_MD590_1_0162_lossless_alignedTo_MD590-N47-2015.09.12-05.32.06_MD590_2_0140_cropped/MD590-IHC54-2015.08.10-21.44.37_MD590_1_0162_lossless_alignedTo_MD590-N47-2015.09.12-05.32.06_MD590_2_0140_cropped_features.bp\n",
      "/shared/CSHL_patch_features/inception-bn-blue/MD590/MD590_lossless_alignedTo_MD590-N47-2015.09.12-05.32.06_MD590_2_0140_cropped_gray/MD590-IHC54-2015.08.10-21.44.37_MD590_1_0162_lossless_alignedTo_MD590-N47-2015.09.12-05.32.06_MD590_2_0140_cropped_gray_features.bp\n",
      "aws s3 cp s3://mousebrainatlas-data/CSHL_patch_features/inception-bn-blue/MD590/MD590-IHC54-2015.08.10-21.44.37_MD590_1_0162_lossless_alignedTo_MD590-N47-2015.09.12-05.32.06_MD590_2_0140_cropped/MD590-IHC54-2015.08.10-21.44.37_MD590_1_0162_lossless_alignedTo_MD590-N47-2015.09.12-05.32.06_MD590_2_0140_cropped_features.bp s3://mousebrainatlas-data/CSHL_patch_features/inception-bn-blue/MD590/MD590_lossless_alignedTo_MD590-N47-2015.09.12-05.32.06_MD590_2_0140_cropped_gray/MD590-IHC54-2015.08.10-21.44.37_MD590_1_0162_lossless_alignedTo_MD590-N47-2015.09.12-05.32.06_MD590_2_0140_cropped_gray_features.bp\n"
     ]
    },
    {
     "name": "stderr",
     "output_type": "stream",
     "text": [
      "Child returned 0\n"
     ]
    },
    {
     "name": "stdout",
     "output_type": "stream",
     "text": [
      "/shared/CSHL_patch_features/inception-bn-blue/MD590/MD590-IHC54-2015.08.10-21.44.37_MD590_1_0162_lossless_alignedTo_MD590-N47-2015.09.12-05.32.06_MD590_2_0140_cropped/MD590-IHC54-2015.08.10-21.44.37_MD590_1_0162_lossless_alignedTo_MD590-N47-2015.09.12-05.32.06_MD590_2_0140_cropped_patch_locations.txt\n",
      "/shared/CSHL_patch_features/inception-bn-blue/MD590/MD590_lossless_alignedTo_MD590-N47-2015.09.12-05.32.06_MD590_2_0140_cropped_gray/MD590-IHC54-2015.08.10-21.44.37_MD590_1_0162_lossless_alignedTo_MD590-N47-2015.09.12-05.32.06_MD590_2_0140_cropped_gray_patch_locations.txt\n",
      "aws s3 cp s3://mousebrainatlas-data/CSHL_patch_features/inception-bn-blue/MD590/MD590-IHC54-2015.08.10-21.44.37_MD590_1_0162_lossless_alignedTo_MD590-N47-2015.09.12-05.32.06_MD590_2_0140_cropped/MD590-IHC54-2015.08.10-21.44.37_MD590_1_0162_lossless_alignedTo_MD590-N47-2015.09.12-05.32.06_MD590_2_0140_cropped_patch_locations.txt s3://mousebrainatlas-data/CSHL_patch_features/inception-bn-blue/MD590/MD590_lossless_alignedTo_MD590-N47-2015.09.12-05.32.06_MD590_2_0140_cropped_gray/MD590-IHC54-2015.08.10-21.44.37_MD590_1_0162_lossless_alignedTo_MD590-N47-2015.09.12-05.32.06_MD590_2_0140_cropped_gray_patch_locations.txt\n"
     ]
    },
    {
     "name": "stderr",
     "output_type": "stream",
     "text": [
      "Child returned 0\n"
     ]
    },
    {
     "name": "stdout",
     "output_type": "stream",
     "text": [
      "/shared/CSHL_patch_features/inception-bn-blue/MD590/MD590-N55-2015.09.12-05.56.37_MD590_1_0163_lossless_alignedTo_MD590-N47-2015.09.12-05.32.06_MD590_2_0140_cropped/MD590-N55-2015.09.12-05.56.37_MD590_1_0163_lossless_alignedTo_MD590-N47-2015.09.12-05.32.06_MD590_2_0140_cropped_features.bp\n",
      "/shared/CSHL_patch_features/inception-bn-blue/MD590/MD590_lossless_alignedTo_MD590-N47-2015.09.12-05.32.06_MD590_2_0140_cropped_gray/MD590-N55-2015.09.12-05.56.37_MD590_1_0163_lossless_alignedTo_MD590-N47-2015.09.12-05.32.06_MD590_2_0140_cropped_gray_features.bp\n",
      "aws s3 cp s3://mousebrainatlas-data/CSHL_patch_features/inception-bn-blue/MD590/MD590-N55-2015.09.12-05.56.37_MD590_1_0163_lossless_alignedTo_MD590-N47-2015.09.12-05.32.06_MD590_2_0140_cropped/MD590-N55-2015.09.12-05.56.37_MD590_1_0163_lossless_alignedTo_MD590-N47-2015.09.12-05.32.06_MD590_2_0140_cropped_features.bp s3://mousebrainatlas-data/CSHL_patch_features/inception-bn-blue/MD590/MD590_lossless_alignedTo_MD590-N47-2015.09.12-05.32.06_MD590_2_0140_cropped_gray/MD590-N55-2015.09.12-05.56.37_MD590_1_0163_lossless_alignedTo_MD590-N47-2015.09.12-05.32.06_MD590_2_0140_cropped_gray_features.bp\n"
     ]
    },
    {
     "name": "stderr",
     "output_type": "stream",
     "text": [
      "Child returned 0\n"
     ]
    },
    {
     "name": "stdout",
     "output_type": "stream",
     "text": [
      "/shared/CSHL_patch_features/inception-bn-blue/MD590/MD590-N55-2015.09.12-05.56.37_MD590_1_0163_lossless_alignedTo_MD590-N47-2015.09.12-05.32.06_MD590_2_0140_cropped/MD590-N55-2015.09.12-05.56.37_MD590_1_0163_lossless_alignedTo_MD590-N47-2015.09.12-05.32.06_MD590_2_0140_cropped_patch_locations.txt\n",
      "/shared/CSHL_patch_features/inception-bn-blue/MD590/MD590_lossless_alignedTo_MD590-N47-2015.09.12-05.32.06_MD590_2_0140_cropped_gray/MD590-N55-2015.09.12-05.56.37_MD590_1_0163_lossless_alignedTo_MD590-N47-2015.09.12-05.32.06_MD590_2_0140_cropped_gray_patch_locations.txt\n",
      "aws s3 cp s3://mousebrainatlas-data/CSHL_patch_features/inception-bn-blue/MD590/MD590-N55-2015.09.12-05.56.37_MD590_1_0163_lossless_alignedTo_MD590-N47-2015.09.12-05.32.06_MD590_2_0140_cropped/MD590-N55-2015.09.12-05.56.37_MD590_1_0163_lossless_alignedTo_MD590-N47-2015.09.12-05.32.06_MD590_2_0140_cropped_patch_locations.txt s3://mousebrainatlas-data/CSHL_patch_features/inception-bn-blue/MD590/MD590_lossless_alignedTo_MD590-N47-2015.09.12-05.32.06_MD590_2_0140_cropped_gray/MD590-N55-2015.09.12-05.56.37_MD590_1_0163_lossless_alignedTo_MD590-N47-2015.09.12-05.32.06_MD590_2_0140_cropped_gray_patch_locations.txt\n"
     ]
    },
    {
     "name": "stderr",
     "output_type": "stream",
     "text": [
      "Child returned 0\n"
     ]
    },
    {
     "name": "stdout",
     "output_type": "stream",
     "text": [
      "/shared/CSHL_patch_features/inception-bn-blue/MD590/MD590-N55-2015.09.12-05.56.37_MD590_2_0164_lossless_alignedTo_MD590-N47-2015.09.12-05.32.06_MD590_2_0140_cropped/MD590-N55-2015.09.12-05.56.37_MD590_2_0164_lossless_alignedTo_MD590-N47-2015.09.12-05.32.06_MD590_2_0140_cropped_features.bp\n",
      "/shared/CSHL_patch_features/inception-bn-blue/MD590/MD590_lossless_alignedTo_MD590-N47-2015.09.12-05.32.06_MD590_2_0140_cropped_gray/MD590-N55-2015.09.12-05.56.37_MD590_2_0164_lossless_alignedTo_MD590-N47-2015.09.12-05.32.06_MD590_2_0140_cropped_gray_features.bp\n",
      "aws s3 cp s3://mousebrainatlas-data/CSHL_patch_features/inception-bn-blue/MD590/MD590-N55-2015.09.12-05.56.37_MD590_2_0164_lossless_alignedTo_MD590-N47-2015.09.12-05.32.06_MD590_2_0140_cropped/MD590-N55-2015.09.12-05.56.37_MD590_2_0164_lossless_alignedTo_MD590-N47-2015.09.12-05.32.06_MD590_2_0140_cropped_features.bp s3://mousebrainatlas-data/CSHL_patch_features/inception-bn-blue/MD590/MD590_lossless_alignedTo_MD590-N47-2015.09.12-05.32.06_MD590_2_0140_cropped_gray/MD590-N55-2015.09.12-05.56.37_MD590_2_0164_lossless_alignedTo_MD590-N47-2015.09.12-05.32.06_MD590_2_0140_cropped_gray_features.bp\n"
     ]
    },
    {
     "name": "stderr",
     "output_type": "stream",
     "text": [
      "Child returned 0\n"
     ]
    },
    {
     "name": "stdout",
     "output_type": "stream",
     "text": [
      "/shared/CSHL_patch_features/inception-bn-blue/MD590/MD590-N55-2015.09.12-05.56.37_MD590_2_0164_lossless_alignedTo_MD590-N47-2015.09.12-05.32.06_MD590_2_0140_cropped/MD590-N55-2015.09.12-05.56.37_MD590_2_0164_lossless_alignedTo_MD590-N47-2015.09.12-05.32.06_MD590_2_0140_cropped_patch_locations.txt\n",
      "/shared/CSHL_patch_features/inception-bn-blue/MD590/MD590_lossless_alignedTo_MD590-N47-2015.09.12-05.32.06_MD590_2_0140_cropped_gray/MD590-N55-2015.09.12-05.56.37_MD590_2_0164_lossless_alignedTo_MD590-N47-2015.09.12-05.32.06_MD590_2_0140_cropped_gray_patch_locations.txt\n",
      "aws s3 cp s3://mousebrainatlas-data/CSHL_patch_features/inception-bn-blue/MD590/MD590-N55-2015.09.12-05.56.37_MD590_2_0164_lossless_alignedTo_MD590-N47-2015.09.12-05.32.06_MD590_2_0140_cropped/MD590-N55-2015.09.12-05.56.37_MD590_2_0164_lossless_alignedTo_MD590-N47-2015.09.12-05.32.06_MD590_2_0140_cropped_patch_locations.txt s3://mousebrainatlas-data/CSHL_patch_features/inception-bn-blue/MD590/MD590_lossless_alignedTo_MD590-N47-2015.09.12-05.32.06_MD590_2_0140_cropped_gray/MD590-N55-2015.09.12-05.56.37_MD590_2_0164_lossless_alignedTo_MD590-N47-2015.09.12-05.32.06_MD590_2_0140_cropped_gray_patch_locations.txt\n"
     ]
    },
    {
     "name": "stderr",
     "output_type": "stream",
     "text": [
      "Child returned 0\n"
     ]
    },
    {
     "name": "stdout",
     "output_type": "stream",
     "text": [
      "/shared/CSHL_patch_features/inception-bn-blue/MD590/MD590-IHC55-2015.08.10-21.49.38_MD590_2_0164_lossless_alignedTo_MD590-N47-2015.09.12-05.32.06_MD590_2_0140_cropped/MD590-IHC55-2015.08.10-21.49.38_MD590_2_0164_lossless_alignedTo_MD590-N47-2015.09.12-05.32.06_MD590_2_0140_cropped_features.bp\n",
      "/shared/CSHL_patch_features/inception-bn-blue/MD590/MD590_lossless_alignedTo_MD590-N47-2015.09.12-05.32.06_MD590_2_0140_cropped_gray/MD590-IHC55-2015.08.10-21.49.38_MD590_2_0164_lossless_alignedTo_MD590-N47-2015.09.12-05.32.06_MD590_2_0140_cropped_gray_features.bp\n",
      "aws s3 cp s3://mousebrainatlas-data/CSHL_patch_features/inception-bn-blue/MD590/MD590-IHC55-2015.08.10-21.49.38_MD590_2_0164_lossless_alignedTo_MD590-N47-2015.09.12-05.32.06_MD590_2_0140_cropped/MD590-IHC55-2015.08.10-21.49.38_MD590_2_0164_lossless_alignedTo_MD590-N47-2015.09.12-05.32.06_MD590_2_0140_cropped_features.bp s3://mousebrainatlas-data/CSHL_patch_features/inception-bn-blue/MD590/MD590_lossless_alignedTo_MD590-N47-2015.09.12-05.32.06_MD590_2_0140_cropped_gray/MD590-IHC55-2015.08.10-21.49.38_MD590_2_0164_lossless_alignedTo_MD590-N47-2015.09.12-05.32.06_MD590_2_0140_cropped_gray_features.bp\n"
     ]
    },
    {
     "name": "stderr",
     "output_type": "stream",
     "text": [
      "Child returned 0\n"
     ]
    },
    {
     "name": "stdout",
     "output_type": "stream",
     "text": [
      "/shared/CSHL_patch_features/inception-bn-blue/MD590/MD590-IHC55-2015.08.10-21.49.38_MD590_2_0164_lossless_alignedTo_MD590-N47-2015.09.12-05.32.06_MD590_2_0140_cropped/MD590-IHC55-2015.08.10-21.49.38_MD590_2_0164_lossless_alignedTo_MD590-N47-2015.09.12-05.32.06_MD590_2_0140_cropped_patch_locations.txt\n",
      "/shared/CSHL_patch_features/inception-bn-blue/MD590/MD590_lossless_alignedTo_MD590-N47-2015.09.12-05.32.06_MD590_2_0140_cropped_gray/MD590-IHC55-2015.08.10-21.49.38_MD590_2_0164_lossless_alignedTo_MD590-N47-2015.09.12-05.32.06_MD590_2_0140_cropped_gray_patch_locations.txt\n",
      "aws s3 cp s3://mousebrainatlas-data/CSHL_patch_features/inception-bn-blue/MD590/MD590-IHC55-2015.08.10-21.49.38_MD590_2_0164_lossless_alignedTo_MD590-N47-2015.09.12-05.32.06_MD590_2_0140_cropped/MD590-IHC55-2015.08.10-21.49.38_MD590_2_0164_lossless_alignedTo_MD590-N47-2015.09.12-05.32.06_MD590_2_0140_cropped_patch_locations.txt s3://mousebrainatlas-data/CSHL_patch_features/inception-bn-blue/MD590/MD590_lossless_alignedTo_MD590-N47-2015.09.12-05.32.06_MD590_2_0140_cropped_gray/MD590-IHC55-2015.08.10-21.49.38_MD590_2_0164_lossless_alignedTo_MD590-N47-2015.09.12-05.32.06_MD590_2_0140_cropped_gray_patch_locations.txt\n"
     ]
    },
    {
     "name": "stderr",
     "output_type": "stream",
     "text": [
      "Child returned 0\n"
     ]
    },
    {
     "name": "stdout",
     "output_type": "stream",
     "text": [
      "/shared/CSHL_patch_features/inception-bn-blue/MD590/MD590-N55-2015.09.12-05.56.37_MD590_3_0165_lossless_alignedTo_MD590-N47-2015.09.12-05.32.06_MD590_2_0140_cropped/MD590-N55-2015.09.12-05.56.37_MD590_3_0165_lossless_alignedTo_MD590-N47-2015.09.12-05.32.06_MD590_2_0140_cropped_features.bp\n",
      "/shared/CSHL_patch_features/inception-bn-blue/MD590/MD590_lossless_alignedTo_MD590-N47-2015.09.12-05.32.06_MD590_2_0140_cropped_gray/MD590-N55-2015.09.12-05.56.37_MD590_3_0165_lossless_alignedTo_MD590-N47-2015.09.12-05.32.06_MD590_2_0140_cropped_gray_features.bp\n",
      "aws s3 cp s3://mousebrainatlas-data/CSHL_patch_features/inception-bn-blue/MD590/MD590-N55-2015.09.12-05.56.37_MD590_3_0165_lossless_alignedTo_MD590-N47-2015.09.12-05.32.06_MD590_2_0140_cropped/MD590-N55-2015.09.12-05.56.37_MD590_3_0165_lossless_alignedTo_MD590-N47-2015.09.12-05.32.06_MD590_2_0140_cropped_features.bp s3://mousebrainatlas-data/CSHL_patch_features/inception-bn-blue/MD590/MD590_lossless_alignedTo_MD590-N47-2015.09.12-05.32.06_MD590_2_0140_cropped_gray/MD590-N55-2015.09.12-05.56.37_MD590_3_0165_lossless_alignedTo_MD590-N47-2015.09.12-05.32.06_MD590_2_0140_cropped_gray_features.bp\n"
     ]
    },
    {
     "name": "stderr",
     "output_type": "stream",
     "text": [
      "Child returned 0\n"
     ]
    },
    {
     "name": "stdout",
     "output_type": "stream",
     "text": [
      "/shared/CSHL_patch_features/inception-bn-blue/MD590/MD590-N55-2015.09.12-05.56.37_MD590_3_0165_lossless_alignedTo_MD590-N47-2015.09.12-05.32.06_MD590_2_0140_cropped/MD590-N55-2015.09.12-05.56.37_MD590_3_0165_lossless_alignedTo_MD590-N47-2015.09.12-05.32.06_MD590_2_0140_cropped_patch_locations.txt\n",
      "/shared/CSHL_patch_features/inception-bn-blue/MD590/MD590_lossless_alignedTo_MD590-N47-2015.09.12-05.32.06_MD590_2_0140_cropped_gray/MD590-N55-2015.09.12-05.56.37_MD590_3_0165_lossless_alignedTo_MD590-N47-2015.09.12-05.32.06_MD590_2_0140_cropped_gray_patch_locations.txt\n",
      "aws s3 cp s3://mousebrainatlas-data/CSHL_patch_features/inception-bn-blue/MD590/MD590-N55-2015.09.12-05.56.37_MD590_3_0165_lossless_alignedTo_MD590-N47-2015.09.12-05.32.06_MD590_2_0140_cropped/MD590-N55-2015.09.12-05.56.37_MD590_3_0165_lossless_alignedTo_MD590-N47-2015.09.12-05.32.06_MD590_2_0140_cropped_patch_locations.txt s3://mousebrainatlas-data/CSHL_patch_features/inception-bn-blue/MD590/MD590_lossless_alignedTo_MD590-N47-2015.09.12-05.32.06_MD590_2_0140_cropped_gray/MD590-N55-2015.09.12-05.56.37_MD590_3_0165_lossless_alignedTo_MD590-N47-2015.09.12-05.32.06_MD590_2_0140_cropped_gray_patch_locations.txt\n"
     ]
    },
    {
     "name": "stderr",
     "output_type": "stream",
     "text": [
      "Child returned 0\n"
     ]
    },
    {
     "name": "stdout",
     "output_type": "stream",
     "text": [
      "/shared/CSHL_patch_features/inception-bn-blue/MD590/MD590-IHC55-2015.08.10-21.49.38_MD590_1_0165_lossless_alignedTo_MD590-N47-2015.09.12-05.32.06_MD590_2_0140_cropped/MD590-IHC55-2015.08.10-21.49.38_MD590_1_0165_lossless_alignedTo_MD590-N47-2015.09.12-05.32.06_MD590_2_0140_cropped_features.bp\n",
      "/shared/CSHL_patch_features/inception-bn-blue/MD590/MD590_lossless_alignedTo_MD590-N47-2015.09.12-05.32.06_MD590_2_0140_cropped_gray/MD590-IHC55-2015.08.10-21.49.38_MD590_1_0165_lossless_alignedTo_MD590-N47-2015.09.12-05.32.06_MD590_2_0140_cropped_gray_features.bp\n",
      "aws s3 cp s3://mousebrainatlas-data/CSHL_patch_features/inception-bn-blue/MD590/MD590-IHC55-2015.08.10-21.49.38_MD590_1_0165_lossless_alignedTo_MD590-N47-2015.09.12-05.32.06_MD590_2_0140_cropped/MD590-IHC55-2015.08.10-21.49.38_MD590_1_0165_lossless_alignedTo_MD590-N47-2015.09.12-05.32.06_MD590_2_0140_cropped_features.bp s3://mousebrainatlas-data/CSHL_patch_features/inception-bn-blue/MD590/MD590_lossless_alignedTo_MD590-N47-2015.09.12-05.32.06_MD590_2_0140_cropped_gray/MD590-IHC55-2015.08.10-21.49.38_MD590_1_0165_lossless_alignedTo_MD590-N47-2015.09.12-05.32.06_MD590_2_0140_cropped_gray_features.bp\n"
     ]
    },
    {
     "name": "stderr",
     "output_type": "stream",
     "text": [
      "Child returned 0\n"
     ]
    },
    {
     "name": "stdout",
     "output_type": "stream",
     "text": [
      "/shared/CSHL_patch_features/inception-bn-blue/MD590/MD590-IHC55-2015.08.10-21.49.38_MD590_1_0165_lossless_alignedTo_MD590-N47-2015.09.12-05.32.06_MD590_2_0140_cropped/MD590-IHC55-2015.08.10-21.49.38_MD590_1_0165_lossless_alignedTo_MD590-N47-2015.09.12-05.32.06_MD590_2_0140_cropped_patch_locations.txt\n",
      "/shared/CSHL_patch_features/inception-bn-blue/MD590/MD590_lossless_alignedTo_MD590-N47-2015.09.12-05.32.06_MD590_2_0140_cropped_gray/MD590-IHC55-2015.08.10-21.49.38_MD590_1_0165_lossless_alignedTo_MD590-N47-2015.09.12-05.32.06_MD590_2_0140_cropped_gray_patch_locations.txt\n",
      "aws s3 cp s3://mousebrainatlas-data/CSHL_patch_features/inception-bn-blue/MD590/MD590-IHC55-2015.08.10-21.49.38_MD590_1_0165_lossless_alignedTo_MD590-N47-2015.09.12-05.32.06_MD590_2_0140_cropped/MD590-IHC55-2015.08.10-21.49.38_MD590_1_0165_lossless_alignedTo_MD590-N47-2015.09.12-05.32.06_MD590_2_0140_cropped_patch_locations.txt s3://mousebrainatlas-data/CSHL_patch_features/inception-bn-blue/MD590/MD590_lossless_alignedTo_MD590-N47-2015.09.12-05.32.06_MD590_2_0140_cropped_gray/MD590-IHC55-2015.08.10-21.49.38_MD590_1_0165_lossless_alignedTo_MD590-N47-2015.09.12-05.32.06_MD590_2_0140_cropped_gray_patch_locations.txt\n"
     ]
    },
    {
     "name": "stderr",
     "output_type": "stream",
     "text": [
      "Child returned 0\n"
     ]
    },
    {
     "name": "stdout",
     "output_type": "stream",
     "text": [
      "/shared/CSHL_patch_features/inception-bn-blue/MD590/MD590-IHC56-2015.08.10-21.54.46_MD590_3_0166_lossless_alignedTo_MD590-N47-2015.09.12-05.32.06_MD590_2_0140_cropped/MD590-IHC56-2015.08.10-21.54.46_MD590_3_0166_lossless_alignedTo_MD590-N47-2015.09.12-05.32.06_MD590_2_0140_cropped_features.bp\n",
      "/shared/CSHL_patch_features/inception-bn-blue/MD590/MD590_lossless_alignedTo_MD590-N47-2015.09.12-05.32.06_MD590_2_0140_cropped_gray/MD590-IHC56-2015.08.10-21.54.46_MD590_3_0166_lossless_alignedTo_MD590-N47-2015.09.12-05.32.06_MD590_2_0140_cropped_gray_features.bp\n",
      "aws s3 cp s3://mousebrainatlas-data/CSHL_patch_features/inception-bn-blue/MD590/MD590-IHC56-2015.08.10-21.54.46_MD590_3_0166_lossless_alignedTo_MD590-N47-2015.09.12-05.32.06_MD590_2_0140_cropped/MD590-IHC56-2015.08.10-21.54.46_MD590_3_0166_lossless_alignedTo_MD590-N47-2015.09.12-05.32.06_MD590_2_0140_cropped_features.bp s3://mousebrainatlas-data/CSHL_patch_features/inception-bn-blue/MD590/MD590_lossless_alignedTo_MD590-N47-2015.09.12-05.32.06_MD590_2_0140_cropped_gray/MD590-IHC56-2015.08.10-21.54.46_MD590_3_0166_lossless_alignedTo_MD590-N47-2015.09.12-05.32.06_MD590_2_0140_cropped_gray_features.bp\n"
     ]
    },
    {
     "name": "stderr",
     "output_type": "stream",
     "text": [
      "Child returned 0\n"
     ]
    },
    {
     "name": "stdout",
     "output_type": "stream",
     "text": [
      "/shared/CSHL_patch_features/inception-bn-blue/MD590/MD590-IHC56-2015.08.10-21.54.46_MD590_3_0166_lossless_alignedTo_MD590-N47-2015.09.12-05.32.06_MD590_2_0140_cropped/MD590-IHC56-2015.08.10-21.54.46_MD590_3_0166_lossless_alignedTo_MD590-N47-2015.09.12-05.32.06_MD590_2_0140_cropped_patch_locations.txt\n",
      "/shared/CSHL_patch_features/inception-bn-blue/MD590/MD590_lossless_alignedTo_MD590-N47-2015.09.12-05.32.06_MD590_2_0140_cropped_gray/MD590-IHC56-2015.08.10-21.54.46_MD590_3_0166_lossless_alignedTo_MD590-N47-2015.09.12-05.32.06_MD590_2_0140_cropped_gray_patch_locations.txt\n",
      "aws s3 cp s3://mousebrainatlas-data/CSHL_patch_features/inception-bn-blue/MD590/MD590-IHC56-2015.08.10-21.54.46_MD590_3_0166_lossless_alignedTo_MD590-N47-2015.09.12-05.32.06_MD590_2_0140_cropped/MD590-IHC56-2015.08.10-21.54.46_MD590_3_0166_lossless_alignedTo_MD590-N47-2015.09.12-05.32.06_MD590_2_0140_cropped_patch_locations.txt s3://mousebrainatlas-data/CSHL_patch_features/inception-bn-blue/MD590/MD590_lossless_alignedTo_MD590-N47-2015.09.12-05.32.06_MD590_2_0140_cropped_gray/MD590-IHC56-2015.08.10-21.54.46_MD590_3_0166_lossless_alignedTo_MD590-N47-2015.09.12-05.32.06_MD590_2_0140_cropped_gray_patch_locations.txt\n"
     ]
    },
    {
     "name": "stderr",
     "output_type": "stream",
     "text": [
      "Child returned 0\n"
     ]
    },
    {
     "name": "stdout",
     "output_type": "stream",
     "text": [
      "/shared/CSHL_patch_features/inception-bn-blue/MD590/MD590-IHC56-2015.08.10-21.54.46_MD590_2_0167_lossless_alignedTo_MD590-N47-2015.09.12-05.32.06_MD590_2_0140_cropped/MD590-IHC56-2015.08.10-21.54.46_MD590_2_0167_lossless_alignedTo_MD590-N47-2015.09.12-05.32.06_MD590_2_0140_cropped_features.bp\n",
      "/shared/CSHL_patch_features/inception-bn-blue/MD590/MD590_lossless_alignedTo_MD590-N47-2015.09.12-05.32.06_MD590_2_0140_cropped_gray/MD590-IHC56-2015.08.10-21.54.46_MD590_2_0167_lossless_alignedTo_MD590-N47-2015.09.12-05.32.06_MD590_2_0140_cropped_gray_features.bp\n",
      "aws s3 cp s3://mousebrainatlas-data/CSHL_patch_features/inception-bn-blue/MD590/MD590-IHC56-2015.08.10-21.54.46_MD590_2_0167_lossless_alignedTo_MD590-N47-2015.09.12-05.32.06_MD590_2_0140_cropped/MD590-IHC56-2015.08.10-21.54.46_MD590_2_0167_lossless_alignedTo_MD590-N47-2015.09.12-05.32.06_MD590_2_0140_cropped_features.bp s3://mousebrainatlas-data/CSHL_patch_features/inception-bn-blue/MD590/MD590_lossless_alignedTo_MD590-N47-2015.09.12-05.32.06_MD590_2_0140_cropped_gray/MD590-IHC56-2015.08.10-21.54.46_MD590_2_0167_lossless_alignedTo_MD590-N47-2015.09.12-05.32.06_MD590_2_0140_cropped_gray_features.bp\n"
     ]
    },
    {
     "name": "stderr",
     "output_type": "stream",
     "text": [
      "Child returned 0\n"
     ]
    },
    {
     "name": "stdout",
     "output_type": "stream",
     "text": [
      "/shared/CSHL_patch_features/inception-bn-blue/MD590/MD590-IHC56-2015.08.10-21.54.46_MD590_2_0167_lossless_alignedTo_MD590-N47-2015.09.12-05.32.06_MD590_2_0140_cropped/MD590-IHC56-2015.08.10-21.54.46_MD590_2_0167_lossless_alignedTo_MD590-N47-2015.09.12-05.32.06_MD590_2_0140_cropped_patch_locations.txt\n",
      "/shared/CSHL_patch_features/inception-bn-blue/MD590/MD590_lossless_alignedTo_MD590-N47-2015.09.12-05.32.06_MD590_2_0140_cropped_gray/MD590-IHC56-2015.08.10-21.54.46_MD590_2_0167_lossless_alignedTo_MD590-N47-2015.09.12-05.32.06_MD590_2_0140_cropped_gray_patch_locations.txt\n",
      "aws s3 cp s3://mousebrainatlas-data/CSHL_patch_features/inception-bn-blue/MD590/MD590-IHC56-2015.08.10-21.54.46_MD590_2_0167_lossless_alignedTo_MD590-N47-2015.09.12-05.32.06_MD590_2_0140_cropped/MD590-IHC56-2015.08.10-21.54.46_MD590_2_0167_lossless_alignedTo_MD590-N47-2015.09.12-05.32.06_MD590_2_0140_cropped_patch_locations.txt s3://mousebrainatlas-data/CSHL_patch_features/inception-bn-blue/MD590/MD590_lossless_alignedTo_MD590-N47-2015.09.12-05.32.06_MD590_2_0140_cropped_gray/MD590-IHC56-2015.08.10-21.54.46_MD590_2_0167_lossless_alignedTo_MD590-N47-2015.09.12-05.32.06_MD590_2_0140_cropped_gray_patch_locations.txt\n"
     ]
    },
    {
     "name": "stderr",
     "output_type": "stream",
     "text": [
      "Child returned 0\n"
     ]
    },
    {
     "name": "stdout",
     "output_type": "stream",
     "text": [
      "/shared/CSHL_patch_features/inception-bn-blue/MD590/MD590-IHC56-2015.08.10-21.54.46_MD590_1_0168_lossless_alignedTo_MD590-N47-2015.09.12-05.32.06_MD590_2_0140_cropped/MD590-IHC56-2015.08.10-21.54.46_MD590_1_0168_lossless_alignedTo_MD590-N47-2015.09.12-05.32.06_MD590_2_0140_cropped_features.bp\n",
      "/shared/CSHL_patch_features/inception-bn-blue/MD590/MD590_lossless_alignedTo_MD590-N47-2015.09.12-05.32.06_MD590_2_0140_cropped_gray/MD590-IHC56-2015.08.10-21.54.46_MD590_1_0168_lossless_alignedTo_MD590-N47-2015.09.12-05.32.06_MD590_2_0140_cropped_gray_features.bp\n",
      "aws s3 cp s3://mousebrainatlas-data/CSHL_patch_features/inception-bn-blue/MD590/MD590-IHC56-2015.08.10-21.54.46_MD590_1_0168_lossless_alignedTo_MD590-N47-2015.09.12-05.32.06_MD590_2_0140_cropped/MD590-IHC56-2015.08.10-21.54.46_MD590_1_0168_lossless_alignedTo_MD590-N47-2015.09.12-05.32.06_MD590_2_0140_cropped_features.bp s3://mousebrainatlas-data/CSHL_patch_features/inception-bn-blue/MD590/MD590_lossless_alignedTo_MD590-N47-2015.09.12-05.32.06_MD590_2_0140_cropped_gray/MD590-IHC56-2015.08.10-21.54.46_MD590_1_0168_lossless_alignedTo_MD590-N47-2015.09.12-05.32.06_MD590_2_0140_cropped_gray_features.bp\n"
     ]
    },
    {
     "name": "stderr",
     "output_type": "stream",
     "text": [
      "Child returned 0\n"
     ]
    },
    {
     "name": "stdout",
     "output_type": "stream",
     "text": [
      "/shared/CSHL_patch_features/inception-bn-blue/MD590/MD590-IHC56-2015.08.10-21.54.46_MD590_1_0168_lossless_alignedTo_MD590-N47-2015.09.12-05.32.06_MD590_2_0140_cropped/MD590-IHC56-2015.08.10-21.54.46_MD590_1_0168_lossless_alignedTo_MD590-N47-2015.09.12-05.32.06_MD590_2_0140_cropped_patch_locations.txt\n",
      "/shared/CSHL_patch_features/inception-bn-blue/MD590/MD590_lossless_alignedTo_MD590-N47-2015.09.12-05.32.06_MD590_2_0140_cropped_gray/MD590-IHC56-2015.08.10-21.54.46_MD590_1_0168_lossless_alignedTo_MD590-N47-2015.09.12-05.32.06_MD590_2_0140_cropped_gray_patch_locations.txt\n",
      "aws s3 cp s3://mousebrainatlas-data/CSHL_patch_features/inception-bn-blue/MD590/MD590-IHC56-2015.08.10-21.54.46_MD590_1_0168_lossless_alignedTo_MD590-N47-2015.09.12-05.32.06_MD590_2_0140_cropped/MD590-IHC56-2015.08.10-21.54.46_MD590_1_0168_lossless_alignedTo_MD590-N47-2015.09.12-05.32.06_MD590_2_0140_cropped_patch_locations.txt s3://mousebrainatlas-data/CSHL_patch_features/inception-bn-blue/MD590/MD590_lossless_alignedTo_MD590-N47-2015.09.12-05.32.06_MD590_2_0140_cropped_gray/MD590-IHC56-2015.08.10-21.54.46_MD590_1_0168_lossless_alignedTo_MD590-N47-2015.09.12-05.32.06_MD590_2_0140_cropped_gray_patch_locations.txt\n"
     ]
    },
    {
     "name": "stderr",
     "output_type": "stream",
     "text": [
      "Child returned 0\n"
     ]
    },
    {
     "name": "stdout",
     "output_type": "stream",
     "text": [
      "/shared/CSHL_patch_features/inception-bn-blue/MD590/MD590-N57-2015.09.12-06.02.32_MD590_1_0169_lossless_alignedTo_MD590-N47-2015.09.12-05.32.06_MD590_2_0140_cropped/MD590-N57-2015.09.12-06.02.32_MD590_1_0169_lossless_alignedTo_MD590-N47-2015.09.12-05.32.06_MD590_2_0140_cropped_features.bp\n",
      "/shared/CSHL_patch_features/inception-bn-blue/MD590/MD590_lossless_alignedTo_MD590-N47-2015.09.12-05.32.06_MD590_2_0140_cropped_gray/MD590-N57-2015.09.12-06.02.32_MD590_1_0169_lossless_alignedTo_MD590-N47-2015.09.12-05.32.06_MD590_2_0140_cropped_gray_features.bp\n",
      "aws s3 cp s3://mousebrainatlas-data/CSHL_patch_features/inception-bn-blue/MD590/MD590-N57-2015.09.12-06.02.32_MD590_1_0169_lossless_alignedTo_MD590-N47-2015.09.12-05.32.06_MD590_2_0140_cropped/MD590-N57-2015.09.12-06.02.32_MD590_1_0169_lossless_alignedTo_MD590-N47-2015.09.12-05.32.06_MD590_2_0140_cropped_features.bp s3://mousebrainatlas-data/CSHL_patch_features/inception-bn-blue/MD590/MD590_lossless_alignedTo_MD590-N47-2015.09.12-05.32.06_MD590_2_0140_cropped_gray/MD590-N57-2015.09.12-06.02.32_MD590_1_0169_lossless_alignedTo_MD590-N47-2015.09.12-05.32.06_MD590_2_0140_cropped_gray_features.bp\n"
     ]
    },
    {
     "name": "stderr",
     "output_type": "stream",
     "text": [
      "Child returned 0\n"
     ]
    },
    {
     "name": "stdout",
     "output_type": "stream",
     "text": [
      "/shared/CSHL_patch_features/inception-bn-blue/MD590/MD590-N57-2015.09.12-06.02.32_MD590_1_0169_lossless_alignedTo_MD590-N47-2015.09.12-05.32.06_MD590_2_0140_cropped/MD590-N57-2015.09.12-06.02.32_MD590_1_0169_lossless_alignedTo_MD590-N47-2015.09.12-05.32.06_MD590_2_0140_cropped_patch_locations.txt\n",
      "/shared/CSHL_patch_features/inception-bn-blue/MD590/MD590_lossless_alignedTo_MD590-N47-2015.09.12-05.32.06_MD590_2_0140_cropped_gray/MD590-N57-2015.09.12-06.02.32_MD590_1_0169_lossless_alignedTo_MD590-N47-2015.09.12-05.32.06_MD590_2_0140_cropped_gray_patch_locations.txt\n",
      "aws s3 cp s3://mousebrainatlas-data/CSHL_patch_features/inception-bn-blue/MD590/MD590-N57-2015.09.12-06.02.32_MD590_1_0169_lossless_alignedTo_MD590-N47-2015.09.12-05.32.06_MD590_2_0140_cropped/MD590-N57-2015.09.12-06.02.32_MD590_1_0169_lossless_alignedTo_MD590-N47-2015.09.12-05.32.06_MD590_2_0140_cropped_patch_locations.txt s3://mousebrainatlas-data/CSHL_patch_features/inception-bn-blue/MD590/MD590_lossless_alignedTo_MD590-N47-2015.09.12-05.32.06_MD590_2_0140_cropped_gray/MD590-N57-2015.09.12-06.02.32_MD590_1_0169_lossless_alignedTo_MD590-N47-2015.09.12-05.32.06_MD590_2_0140_cropped_gray_patch_locations.txt\n"
     ]
    },
    {
     "name": "stderr",
     "output_type": "stream",
     "text": [
      "Child returned 0\n"
     ]
    },
    {
     "name": "stdout",
     "output_type": "stream",
     "text": [
      "/shared/CSHL_patch_features/inception-bn-blue/MD590/MD590-N57-2015.09.12-06.02.32_MD590_2_0170_lossless_alignedTo_MD590-N47-2015.09.12-05.32.06_MD590_2_0140_cropped/MD590-N57-2015.09.12-06.02.32_MD590_2_0170_lossless_alignedTo_MD590-N47-2015.09.12-05.32.06_MD590_2_0140_cropped_features.bp\n",
      "/shared/CSHL_patch_features/inception-bn-blue/MD590/MD590_lossless_alignedTo_MD590-N47-2015.09.12-05.32.06_MD590_2_0140_cropped_gray/MD590-N57-2015.09.12-06.02.32_MD590_2_0170_lossless_alignedTo_MD590-N47-2015.09.12-05.32.06_MD590_2_0140_cropped_gray_features.bp\n",
      "aws s3 cp s3://mousebrainatlas-data/CSHL_patch_features/inception-bn-blue/MD590/MD590-N57-2015.09.12-06.02.32_MD590_2_0170_lossless_alignedTo_MD590-N47-2015.09.12-05.32.06_MD590_2_0140_cropped/MD590-N57-2015.09.12-06.02.32_MD590_2_0170_lossless_alignedTo_MD590-N47-2015.09.12-05.32.06_MD590_2_0140_cropped_features.bp s3://mousebrainatlas-data/CSHL_patch_features/inception-bn-blue/MD590/MD590_lossless_alignedTo_MD590-N47-2015.09.12-05.32.06_MD590_2_0140_cropped_gray/MD590-N57-2015.09.12-06.02.32_MD590_2_0170_lossless_alignedTo_MD590-N47-2015.09.12-05.32.06_MD590_2_0140_cropped_gray_features.bp\n"
     ]
    },
    {
     "name": "stderr",
     "output_type": "stream",
     "text": [
      "Child returned 0\n"
     ]
    },
    {
     "name": "stdout",
     "output_type": "stream",
     "text": [
      "/shared/CSHL_patch_features/inception-bn-blue/MD590/MD590-N57-2015.09.12-06.02.32_MD590_2_0170_lossless_alignedTo_MD590-N47-2015.09.12-05.32.06_MD590_2_0140_cropped/MD590-N57-2015.09.12-06.02.32_MD590_2_0170_lossless_alignedTo_MD590-N47-2015.09.12-05.32.06_MD590_2_0140_cropped_patch_locations.txt\n",
      "/shared/CSHL_patch_features/inception-bn-blue/MD590/MD590_lossless_alignedTo_MD590-N47-2015.09.12-05.32.06_MD590_2_0140_cropped_gray/MD590-N57-2015.09.12-06.02.32_MD590_2_0170_lossless_alignedTo_MD590-N47-2015.09.12-05.32.06_MD590_2_0140_cropped_gray_patch_locations.txt\n",
      "aws s3 cp s3://mousebrainatlas-data/CSHL_patch_features/inception-bn-blue/MD590/MD590-N57-2015.09.12-06.02.32_MD590_2_0170_lossless_alignedTo_MD590-N47-2015.09.12-05.32.06_MD590_2_0140_cropped/MD590-N57-2015.09.12-06.02.32_MD590_2_0170_lossless_alignedTo_MD590-N47-2015.09.12-05.32.06_MD590_2_0140_cropped_patch_locations.txt s3://mousebrainatlas-data/CSHL_patch_features/inception-bn-blue/MD590/MD590_lossless_alignedTo_MD590-N47-2015.09.12-05.32.06_MD590_2_0140_cropped_gray/MD590-N57-2015.09.12-06.02.32_MD590_2_0170_lossless_alignedTo_MD590-N47-2015.09.12-05.32.06_MD590_2_0140_cropped_gray_patch_locations.txt\n"
     ]
    },
    {
     "name": "stderr",
     "output_type": "stream",
     "text": [
      "Child returned 0\n"
     ]
    },
    {
     "name": "stdout",
     "output_type": "stream",
     "text": [
      "/shared/CSHL_patch_features/inception-bn-blue/MD590/MD590-N57-2015.09.12-06.02.32_MD590_3_0171_lossless_alignedTo_MD590-N47-2015.09.12-05.32.06_MD590_2_0140_cropped/MD590-N57-2015.09.12-06.02.32_MD590_3_0171_lossless_alignedTo_MD590-N47-2015.09.12-05.32.06_MD590_2_0140_cropped_features.bp\n",
      "/shared/CSHL_patch_features/inception-bn-blue/MD590/MD590_lossless_alignedTo_MD590-N47-2015.09.12-05.32.06_MD590_2_0140_cropped_gray/MD590-N57-2015.09.12-06.02.32_MD590_3_0171_lossless_alignedTo_MD590-N47-2015.09.12-05.32.06_MD590_2_0140_cropped_gray_features.bp\n",
      "aws s3 cp s3://mousebrainatlas-data/CSHL_patch_features/inception-bn-blue/MD590/MD590-N57-2015.09.12-06.02.32_MD590_3_0171_lossless_alignedTo_MD590-N47-2015.09.12-05.32.06_MD590_2_0140_cropped/MD590-N57-2015.09.12-06.02.32_MD590_3_0171_lossless_alignedTo_MD590-N47-2015.09.12-05.32.06_MD590_2_0140_cropped_features.bp s3://mousebrainatlas-data/CSHL_patch_features/inception-bn-blue/MD590/MD590_lossless_alignedTo_MD590-N47-2015.09.12-05.32.06_MD590_2_0140_cropped_gray/MD590-N57-2015.09.12-06.02.32_MD590_3_0171_lossless_alignedTo_MD590-N47-2015.09.12-05.32.06_MD590_2_0140_cropped_gray_features.bp\n"
     ]
    },
    {
     "name": "stderr",
     "output_type": "stream",
     "text": [
      "Child returned 0\n"
     ]
    },
    {
     "name": "stdout",
     "output_type": "stream",
     "text": [
      "/shared/CSHL_patch_features/inception-bn-blue/MD590/MD590-N57-2015.09.12-06.02.32_MD590_3_0171_lossless_alignedTo_MD590-N47-2015.09.12-05.32.06_MD590_2_0140_cropped/MD590-N57-2015.09.12-06.02.32_MD590_3_0171_lossless_alignedTo_MD590-N47-2015.09.12-05.32.06_MD590_2_0140_cropped_patch_locations.txt\n",
      "/shared/CSHL_patch_features/inception-bn-blue/MD590/MD590_lossless_alignedTo_MD590-N47-2015.09.12-05.32.06_MD590_2_0140_cropped_gray/MD590-N57-2015.09.12-06.02.32_MD590_3_0171_lossless_alignedTo_MD590-N47-2015.09.12-05.32.06_MD590_2_0140_cropped_gray_patch_locations.txt\n",
      "aws s3 cp s3://mousebrainatlas-data/CSHL_patch_features/inception-bn-blue/MD590/MD590-N57-2015.09.12-06.02.32_MD590_3_0171_lossless_alignedTo_MD590-N47-2015.09.12-05.32.06_MD590_2_0140_cropped/MD590-N57-2015.09.12-06.02.32_MD590_3_0171_lossless_alignedTo_MD590-N47-2015.09.12-05.32.06_MD590_2_0140_cropped_patch_locations.txt s3://mousebrainatlas-data/CSHL_patch_features/inception-bn-blue/MD590/MD590_lossless_alignedTo_MD590-N47-2015.09.12-05.32.06_MD590_2_0140_cropped_gray/MD590-N57-2015.09.12-06.02.32_MD590_3_0171_lossless_alignedTo_MD590-N47-2015.09.12-05.32.06_MD590_2_0140_cropped_gray_patch_locations.txt\n"
     ]
    },
    {
     "name": "stderr",
     "output_type": "stream",
     "text": [
      "Child returned 0\n"
     ]
    },
    {
     "name": "stdout",
     "output_type": "stream",
     "text": [
      "/shared/CSHL_patch_features/inception-bn-blue/MD590/MD590-N58-2015.09.12-06.08.20_MD590_1_0172_lossless_alignedTo_MD590-N47-2015.09.12-05.32.06_MD590_2_0140_cropped/MD590-N58-2015.09.12-06.08.20_MD590_1_0172_lossless_alignedTo_MD590-N47-2015.09.12-05.32.06_MD590_2_0140_cropped_features.bp\n",
      "/shared/CSHL_patch_features/inception-bn-blue/MD590/MD590_lossless_alignedTo_MD590-N47-2015.09.12-05.32.06_MD590_2_0140_cropped_gray/MD590-N58-2015.09.12-06.08.20_MD590_1_0172_lossless_alignedTo_MD590-N47-2015.09.12-05.32.06_MD590_2_0140_cropped_gray_features.bp\n",
      "aws s3 cp s3://mousebrainatlas-data/CSHL_patch_features/inception-bn-blue/MD590/MD590-N58-2015.09.12-06.08.20_MD590_1_0172_lossless_alignedTo_MD590-N47-2015.09.12-05.32.06_MD590_2_0140_cropped/MD590-N58-2015.09.12-06.08.20_MD590_1_0172_lossless_alignedTo_MD590-N47-2015.09.12-05.32.06_MD590_2_0140_cropped_features.bp s3://mousebrainatlas-data/CSHL_patch_features/inception-bn-blue/MD590/MD590_lossless_alignedTo_MD590-N47-2015.09.12-05.32.06_MD590_2_0140_cropped_gray/MD590-N58-2015.09.12-06.08.20_MD590_1_0172_lossless_alignedTo_MD590-N47-2015.09.12-05.32.06_MD590_2_0140_cropped_gray_features.bp\n"
     ]
    },
    {
     "name": "stderr",
     "output_type": "stream",
     "text": [
      "Child returned 0\n"
     ]
    },
    {
     "name": "stdout",
     "output_type": "stream",
     "text": [
      "/shared/CSHL_patch_features/inception-bn-blue/MD590/MD590-N58-2015.09.12-06.08.20_MD590_1_0172_lossless_alignedTo_MD590-N47-2015.09.12-05.32.06_MD590_2_0140_cropped/MD590-N58-2015.09.12-06.08.20_MD590_1_0172_lossless_alignedTo_MD590-N47-2015.09.12-05.32.06_MD590_2_0140_cropped_patch_locations.txt\n",
      "/shared/CSHL_patch_features/inception-bn-blue/MD590/MD590_lossless_alignedTo_MD590-N47-2015.09.12-05.32.06_MD590_2_0140_cropped_gray/MD590-N58-2015.09.12-06.08.20_MD590_1_0172_lossless_alignedTo_MD590-N47-2015.09.12-05.32.06_MD590_2_0140_cropped_gray_patch_locations.txt\n",
      "aws s3 cp s3://mousebrainatlas-data/CSHL_patch_features/inception-bn-blue/MD590/MD590-N58-2015.09.12-06.08.20_MD590_1_0172_lossless_alignedTo_MD590-N47-2015.09.12-05.32.06_MD590_2_0140_cropped/MD590-N58-2015.09.12-06.08.20_MD590_1_0172_lossless_alignedTo_MD590-N47-2015.09.12-05.32.06_MD590_2_0140_cropped_patch_locations.txt s3://mousebrainatlas-data/CSHL_patch_features/inception-bn-blue/MD590/MD590_lossless_alignedTo_MD590-N47-2015.09.12-05.32.06_MD590_2_0140_cropped_gray/MD590-N58-2015.09.12-06.08.20_MD590_1_0172_lossless_alignedTo_MD590-N47-2015.09.12-05.32.06_MD590_2_0140_cropped_gray_patch_locations.txt\n"
     ]
    },
    {
     "name": "stderr",
     "output_type": "stream",
     "text": [
      "Child returned 0\n"
     ]
    },
    {
     "name": "stdout",
     "output_type": "stream",
     "text": [
      "/shared/CSHL_patch_features/inception-bn-blue/MD590/MD590-IHC58-2015.08.10-22.04.21_MD590_3_0172_lossless_alignedTo_MD590-N47-2015.09.12-05.32.06_MD590_2_0140_cropped/MD590-IHC58-2015.08.10-22.04.21_MD590_3_0172_lossless_alignedTo_MD590-N47-2015.09.12-05.32.06_MD590_2_0140_cropped_features.bp\n",
      "/shared/CSHL_patch_features/inception-bn-blue/MD590/MD590_lossless_alignedTo_MD590-N47-2015.09.12-05.32.06_MD590_2_0140_cropped_gray/MD590-IHC58-2015.08.10-22.04.21_MD590_3_0172_lossless_alignedTo_MD590-N47-2015.09.12-05.32.06_MD590_2_0140_cropped_gray_features.bp\n",
      "aws s3 cp s3://mousebrainatlas-data/CSHL_patch_features/inception-bn-blue/MD590/MD590-IHC58-2015.08.10-22.04.21_MD590_3_0172_lossless_alignedTo_MD590-N47-2015.09.12-05.32.06_MD590_2_0140_cropped/MD590-IHC58-2015.08.10-22.04.21_MD590_3_0172_lossless_alignedTo_MD590-N47-2015.09.12-05.32.06_MD590_2_0140_cropped_features.bp s3://mousebrainatlas-data/CSHL_patch_features/inception-bn-blue/MD590/MD590_lossless_alignedTo_MD590-N47-2015.09.12-05.32.06_MD590_2_0140_cropped_gray/MD590-IHC58-2015.08.10-22.04.21_MD590_3_0172_lossless_alignedTo_MD590-N47-2015.09.12-05.32.06_MD590_2_0140_cropped_gray_features.bp\n"
     ]
    },
    {
     "name": "stderr",
     "output_type": "stream",
     "text": [
      "Child returned 0\n"
     ]
    },
    {
     "name": "stdout",
     "output_type": "stream",
     "text": [
      "/shared/CSHL_patch_features/inception-bn-blue/MD590/MD590-IHC58-2015.08.10-22.04.21_MD590_3_0172_lossless_alignedTo_MD590-N47-2015.09.12-05.32.06_MD590_2_0140_cropped/MD590-IHC58-2015.08.10-22.04.21_MD590_3_0172_lossless_alignedTo_MD590-N47-2015.09.12-05.32.06_MD590_2_0140_cropped_patch_locations.txt\n",
      "/shared/CSHL_patch_features/inception-bn-blue/MD590/MD590_lossless_alignedTo_MD590-N47-2015.09.12-05.32.06_MD590_2_0140_cropped_gray/MD590-IHC58-2015.08.10-22.04.21_MD590_3_0172_lossless_alignedTo_MD590-N47-2015.09.12-05.32.06_MD590_2_0140_cropped_gray_patch_locations.txt\n",
      "aws s3 cp s3://mousebrainatlas-data/CSHL_patch_features/inception-bn-blue/MD590/MD590-IHC58-2015.08.10-22.04.21_MD590_3_0172_lossless_alignedTo_MD590-N47-2015.09.12-05.32.06_MD590_2_0140_cropped/MD590-IHC58-2015.08.10-22.04.21_MD590_3_0172_lossless_alignedTo_MD590-N47-2015.09.12-05.32.06_MD590_2_0140_cropped_patch_locations.txt s3://mousebrainatlas-data/CSHL_patch_features/inception-bn-blue/MD590/MD590_lossless_alignedTo_MD590-N47-2015.09.12-05.32.06_MD590_2_0140_cropped_gray/MD590-IHC58-2015.08.10-22.04.21_MD590_3_0172_lossless_alignedTo_MD590-N47-2015.09.12-05.32.06_MD590_2_0140_cropped_gray_patch_locations.txt\n"
     ]
    },
    {
     "name": "stderr",
     "output_type": "stream",
     "text": [
      "Child returned 0\n"
     ]
    },
    {
     "name": "stdout",
     "output_type": "stream",
     "text": [
      "/shared/CSHL_patch_features/inception-bn-blue/MD590/MD590-N58-2015.09.12-06.08.20_MD590_2_0173_lossless_alignedTo_MD590-N47-2015.09.12-05.32.06_MD590_2_0140_cropped/MD590-N58-2015.09.12-06.08.20_MD590_2_0173_lossless_alignedTo_MD590-N47-2015.09.12-05.32.06_MD590_2_0140_cropped_features.bp\n",
      "/shared/CSHL_patch_features/inception-bn-blue/MD590/MD590_lossless_alignedTo_MD590-N47-2015.09.12-05.32.06_MD590_2_0140_cropped_gray/MD590-N58-2015.09.12-06.08.20_MD590_2_0173_lossless_alignedTo_MD590-N47-2015.09.12-05.32.06_MD590_2_0140_cropped_gray_features.bp\n",
      "aws s3 cp s3://mousebrainatlas-data/CSHL_patch_features/inception-bn-blue/MD590/MD590-N58-2015.09.12-06.08.20_MD590_2_0173_lossless_alignedTo_MD590-N47-2015.09.12-05.32.06_MD590_2_0140_cropped/MD590-N58-2015.09.12-06.08.20_MD590_2_0173_lossless_alignedTo_MD590-N47-2015.09.12-05.32.06_MD590_2_0140_cropped_features.bp s3://mousebrainatlas-data/CSHL_patch_features/inception-bn-blue/MD590/MD590_lossless_alignedTo_MD590-N47-2015.09.12-05.32.06_MD590_2_0140_cropped_gray/MD590-N58-2015.09.12-06.08.20_MD590_2_0173_lossless_alignedTo_MD590-N47-2015.09.12-05.32.06_MD590_2_0140_cropped_gray_features.bp\n"
     ]
    },
    {
     "name": "stderr",
     "output_type": "stream",
     "text": [
      "Child returned 0\n"
     ]
    },
    {
     "name": "stdout",
     "output_type": "stream",
     "text": [
      "/shared/CSHL_patch_features/inception-bn-blue/MD590/MD590-N58-2015.09.12-06.08.20_MD590_2_0173_lossless_alignedTo_MD590-N47-2015.09.12-05.32.06_MD590_2_0140_cropped/MD590-N58-2015.09.12-06.08.20_MD590_2_0173_lossless_alignedTo_MD590-N47-2015.09.12-05.32.06_MD590_2_0140_cropped_patch_locations.txt\n",
      "/shared/CSHL_patch_features/inception-bn-blue/MD590/MD590_lossless_alignedTo_MD590-N47-2015.09.12-05.32.06_MD590_2_0140_cropped_gray/MD590-N58-2015.09.12-06.08.20_MD590_2_0173_lossless_alignedTo_MD590-N47-2015.09.12-05.32.06_MD590_2_0140_cropped_gray_patch_locations.txt\n",
      "aws s3 cp s3://mousebrainatlas-data/CSHL_patch_features/inception-bn-blue/MD590/MD590-N58-2015.09.12-06.08.20_MD590_2_0173_lossless_alignedTo_MD590-N47-2015.09.12-05.32.06_MD590_2_0140_cropped/MD590-N58-2015.09.12-06.08.20_MD590_2_0173_lossless_alignedTo_MD590-N47-2015.09.12-05.32.06_MD590_2_0140_cropped_patch_locations.txt s3://mousebrainatlas-data/CSHL_patch_features/inception-bn-blue/MD590/MD590_lossless_alignedTo_MD590-N47-2015.09.12-05.32.06_MD590_2_0140_cropped_gray/MD590-N58-2015.09.12-06.08.20_MD590_2_0173_lossless_alignedTo_MD590-N47-2015.09.12-05.32.06_MD590_2_0140_cropped_gray_patch_locations.txt\n"
     ]
    },
    {
     "name": "stderr",
     "output_type": "stream",
     "text": [
      "Child returned 0\n"
     ]
    },
    {
     "name": "stdout",
     "output_type": "stream",
     "text": [
      "/shared/CSHL_patch_features/inception-bn-blue/MD590/MD590-IHC58-2015.08.10-22.04.21_MD590_2_0173_lossless_alignedTo_MD590-N47-2015.09.12-05.32.06_MD590_2_0140_cropped/MD590-IHC58-2015.08.10-22.04.21_MD590_2_0173_lossless_alignedTo_MD590-N47-2015.09.12-05.32.06_MD590_2_0140_cropped_features.bp\n",
      "/shared/CSHL_patch_features/inception-bn-blue/MD590/MD590_lossless_alignedTo_MD590-N47-2015.09.12-05.32.06_MD590_2_0140_cropped_gray/MD590-IHC58-2015.08.10-22.04.21_MD590_2_0173_lossless_alignedTo_MD590-N47-2015.09.12-05.32.06_MD590_2_0140_cropped_gray_features.bp\n",
      "aws s3 cp s3://mousebrainatlas-data/CSHL_patch_features/inception-bn-blue/MD590/MD590-IHC58-2015.08.10-22.04.21_MD590_2_0173_lossless_alignedTo_MD590-N47-2015.09.12-05.32.06_MD590_2_0140_cropped/MD590-IHC58-2015.08.10-22.04.21_MD590_2_0173_lossless_alignedTo_MD590-N47-2015.09.12-05.32.06_MD590_2_0140_cropped_features.bp s3://mousebrainatlas-data/CSHL_patch_features/inception-bn-blue/MD590/MD590_lossless_alignedTo_MD590-N47-2015.09.12-05.32.06_MD590_2_0140_cropped_gray/MD590-IHC58-2015.08.10-22.04.21_MD590_2_0173_lossless_alignedTo_MD590-N47-2015.09.12-05.32.06_MD590_2_0140_cropped_gray_features.bp\n"
     ]
    },
    {
     "name": "stderr",
     "output_type": "stream",
     "text": [
      "Child returned 0\n"
     ]
    },
    {
     "name": "stdout",
     "output_type": "stream",
     "text": [
      "/shared/CSHL_patch_features/inception-bn-blue/MD590/MD590-IHC58-2015.08.10-22.04.21_MD590_2_0173_lossless_alignedTo_MD590-N47-2015.09.12-05.32.06_MD590_2_0140_cropped/MD590-IHC58-2015.08.10-22.04.21_MD590_2_0173_lossless_alignedTo_MD590-N47-2015.09.12-05.32.06_MD590_2_0140_cropped_patch_locations.txt\n",
      "/shared/CSHL_patch_features/inception-bn-blue/MD590/MD590_lossless_alignedTo_MD590-N47-2015.09.12-05.32.06_MD590_2_0140_cropped_gray/MD590-IHC58-2015.08.10-22.04.21_MD590_2_0173_lossless_alignedTo_MD590-N47-2015.09.12-05.32.06_MD590_2_0140_cropped_gray_patch_locations.txt\n",
      "aws s3 cp s3://mousebrainatlas-data/CSHL_patch_features/inception-bn-blue/MD590/MD590-IHC58-2015.08.10-22.04.21_MD590_2_0173_lossless_alignedTo_MD590-N47-2015.09.12-05.32.06_MD590_2_0140_cropped/MD590-IHC58-2015.08.10-22.04.21_MD590_2_0173_lossless_alignedTo_MD590-N47-2015.09.12-05.32.06_MD590_2_0140_cropped_patch_locations.txt s3://mousebrainatlas-data/CSHL_patch_features/inception-bn-blue/MD590/MD590_lossless_alignedTo_MD590-N47-2015.09.12-05.32.06_MD590_2_0140_cropped_gray/MD590-IHC58-2015.08.10-22.04.21_MD590_2_0173_lossless_alignedTo_MD590-N47-2015.09.12-05.32.06_MD590_2_0140_cropped_gray_patch_locations.txt\n"
     ]
    },
    {
     "name": "stderr",
     "output_type": "stream",
     "text": [
      "Child returned 0\n"
     ]
    },
    {
     "name": "stdout",
     "output_type": "stream",
     "text": [
      "/shared/CSHL_patch_features/inception-bn-blue/MD590/MD590-N58-2015.09.12-06.08.20_MD590_3_0174_lossless_alignedTo_MD590-N47-2015.09.12-05.32.06_MD590_2_0140_cropped/MD590-N58-2015.09.12-06.08.20_MD590_3_0174_lossless_alignedTo_MD590-N47-2015.09.12-05.32.06_MD590_2_0140_cropped_features.bp\n",
      "/shared/CSHL_patch_features/inception-bn-blue/MD590/MD590_lossless_alignedTo_MD590-N47-2015.09.12-05.32.06_MD590_2_0140_cropped_gray/MD590-N58-2015.09.12-06.08.20_MD590_3_0174_lossless_alignedTo_MD590-N47-2015.09.12-05.32.06_MD590_2_0140_cropped_gray_features.bp\n",
      "aws s3 cp s3://mousebrainatlas-data/CSHL_patch_features/inception-bn-blue/MD590/MD590-N58-2015.09.12-06.08.20_MD590_3_0174_lossless_alignedTo_MD590-N47-2015.09.12-05.32.06_MD590_2_0140_cropped/MD590-N58-2015.09.12-06.08.20_MD590_3_0174_lossless_alignedTo_MD590-N47-2015.09.12-05.32.06_MD590_2_0140_cropped_features.bp s3://mousebrainatlas-data/CSHL_patch_features/inception-bn-blue/MD590/MD590_lossless_alignedTo_MD590-N47-2015.09.12-05.32.06_MD590_2_0140_cropped_gray/MD590-N58-2015.09.12-06.08.20_MD590_3_0174_lossless_alignedTo_MD590-N47-2015.09.12-05.32.06_MD590_2_0140_cropped_gray_features.bp\n"
     ]
    },
    {
     "name": "stderr",
     "output_type": "stream",
     "text": [
      "Child returned 0\n"
     ]
    },
    {
     "name": "stdout",
     "output_type": "stream",
     "text": [
      "/shared/CSHL_patch_features/inception-bn-blue/MD590/MD590-N58-2015.09.12-06.08.20_MD590_3_0174_lossless_alignedTo_MD590-N47-2015.09.12-05.32.06_MD590_2_0140_cropped/MD590-N58-2015.09.12-06.08.20_MD590_3_0174_lossless_alignedTo_MD590-N47-2015.09.12-05.32.06_MD590_2_0140_cropped_patch_locations.txt\n",
      "/shared/CSHL_patch_features/inception-bn-blue/MD590/MD590_lossless_alignedTo_MD590-N47-2015.09.12-05.32.06_MD590_2_0140_cropped_gray/MD590-N58-2015.09.12-06.08.20_MD590_3_0174_lossless_alignedTo_MD590-N47-2015.09.12-05.32.06_MD590_2_0140_cropped_gray_patch_locations.txt\n",
      "aws s3 cp s3://mousebrainatlas-data/CSHL_patch_features/inception-bn-blue/MD590/MD590-N58-2015.09.12-06.08.20_MD590_3_0174_lossless_alignedTo_MD590-N47-2015.09.12-05.32.06_MD590_2_0140_cropped/MD590-N58-2015.09.12-06.08.20_MD590_3_0174_lossless_alignedTo_MD590-N47-2015.09.12-05.32.06_MD590_2_0140_cropped_patch_locations.txt s3://mousebrainatlas-data/CSHL_patch_features/inception-bn-blue/MD590/MD590_lossless_alignedTo_MD590-N47-2015.09.12-05.32.06_MD590_2_0140_cropped_gray/MD590-N58-2015.09.12-06.08.20_MD590_3_0174_lossless_alignedTo_MD590-N47-2015.09.12-05.32.06_MD590_2_0140_cropped_gray_patch_locations.txt\n"
     ]
    },
    {
     "name": "stderr",
     "output_type": "stream",
     "text": [
      "Child returned 0\n"
     ]
    },
    {
     "name": "stdout",
     "output_type": "stream",
     "text": [
      "/shared/CSHL_patch_features/inception-bn-blue/MD590/MD590-IHC58-2015.08.10-22.04.21_MD590_1_0174_lossless_alignedTo_MD590-N47-2015.09.12-05.32.06_MD590_2_0140_cropped/MD590-IHC58-2015.08.10-22.04.21_MD590_1_0174_lossless_alignedTo_MD590-N47-2015.09.12-05.32.06_MD590_2_0140_cropped_features.bp\n",
      "/shared/CSHL_patch_features/inception-bn-blue/MD590/MD590_lossless_alignedTo_MD590-N47-2015.09.12-05.32.06_MD590_2_0140_cropped_gray/MD590-IHC58-2015.08.10-22.04.21_MD590_1_0174_lossless_alignedTo_MD590-N47-2015.09.12-05.32.06_MD590_2_0140_cropped_gray_features.bp\n",
      "aws s3 cp s3://mousebrainatlas-data/CSHL_patch_features/inception-bn-blue/MD590/MD590-IHC58-2015.08.10-22.04.21_MD590_1_0174_lossless_alignedTo_MD590-N47-2015.09.12-05.32.06_MD590_2_0140_cropped/MD590-IHC58-2015.08.10-22.04.21_MD590_1_0174_lossless_alignedTo_MD590-N47-2015.09.12-05.32.06_MD590_2_0140_cropped_features.bp s3://mousebrainatlas-data/CSHL_patch_features/inception-bn-blue/MD590/MD590_lossless_alignedTo_MD590-N47-2015.09.12-05.32.06_MD590_2_0140_cropped_gray/MD590-IHC58-2015.08.10-22.04.21_MD590_1_0174_lossless_alignedTo_MD590-N47-2015.09.12-05.32.06_MD590_2_0140_cropped_gray_features.bp\n"
     ]
    },
    {
     "name": "stderr",
     "output_type": "stream",
     "text": [
      "Child returned 0\n"
     ]
    },
    {
     "name": "stdout",
     "output_type": "stream",
     "text": [
      "/shared/CSHL_patch_features/inception-bn-blue/MD590/MD590-IHC58-2015.08.10-22.04.21_MD590_1_0174_lossless_alignedTo_MD590-N47-2015.09.12-05.32.06_MD590_2_0140_cropped/MD590-IHC58-2015.08.10-22.04.21_MD590_1_0174_lossless_alignedTo_MD590-N47-2015.09.12-05.32.06_MD590_2_0140_cropped_patch_locations.txt\n",
      "/shared/CSHL_patch_features/inception-bn-blue/MD590/MD590_lossless_alignedTo_MD590-N47-2015.09.12-05.32.06_MD590_2_0140_cropped_gray/MD590-IHC58-2015.08.10-22.04.21_MD590_1_0174_lossless_alignedTo_MD590-N47-2015.09.12-05.32.06_MD590_2_0140_cropped_gray_patch_locations.txt\n",
      "aws s3 cp s3://mousebrainatlas-data/CSHL_patch_features/inception-bn-blue/MD590/MD590-IHC58-2015.08.10-22.04.21_MD590_1_0174_lossless_alignedTo_MD590-N47-2015.09.12-05.32.06_MD590_2_0140_cropped/MD590-IHC58-2015.08.10-22.04.21_MD590_1_0174_lossless_alignedTo_MD590-N47-2015.09.12-05.32.06_MD590_2_0140_cropped_patch_locations.txt s3://mousebrainatlas-data/CSHL_patch_features/inception-bn-blue/MD590/MD590_lossless_alignedTo_MD590-N47-2015.09.12-05.32.06_MD590_2_0140_cropped_gray/MD590-IHC58-2015.08.10-22.04.21_MD590_1_0174_lossless_alignedTo_MD590-N47-2015.09.12-05.32.06_MD590_2_0140_cropped_gray_patch_locations.txt\n"
     ]
    },
    {
     "name": "stderr",
     "output_type": "stream",
     "text": [
      "Child returned 0\n"
     ]
    },
    {
     "name": "stdout",
     "output_type": "stream",
     "text": [
      "/shared/CSHL_patch_features/inception-bn-blue/MD590/MD590-N59-2015.09.12-06.14.08_MD590_1_0175_lossless_alignedTo_MD590-N47-2015.09.12-05.32.06_MD590_2_0140_cropped/MD590-N59-2015.09.12-06.14.08_MD590_1_0175_lossless_alignedTo_MD590-N47-2015.09.12-05.32.06_MD590_2_0140_cropped_features.bp\n",
      "/shared/CSHL_patch_features/inception-bn-blue/MD590/MD590_lossless_alignedTo_MD590-N47-2015.09.12-05.32.06_MD590_2_0140_cropped_gray/MD590-N59-2015.09.12-06.14.08_MD590_1_0175_lossless_alignedTo_MD590-N47-2015.09.12-05.32.06_MD590_2_0140_cropped_gray_features.bp\n",
      "aws s3 cp s3://mousebrainatlas-data/CSHL_patch_features/inception-bn-blue/MD590/MD590-N59-2015.09.12-06.14.08_MD590_1_0175_lossless_alignedTo_MD590-N47-2015.09.12-05.32.06_MD590_2_0140_cropped/MD590-N59-2015.09.12-06.14.08_MD590_1_0175_lossless_alignedTo_MD590-N47-2015.09.12-05.32.06_MD590_2_0140_cropped_features.bp s3://mousebrainatlas-data/CSHL_patch_features/inception-bn-blue/MD590/MD590_lossless_alignedTo_MD590-N47-2015.09.12-05.32.06_MD590_2_0140_cropped_gray/MD590-N59-2015.09.12-06.14.08_MD590_1_0175_lossless_alignedTo_MD590-N47-2015.09.12-05.32.06_MD590_2_0140_cropped_gray_features.bp\n"
     ]
    },
    {
     "name": "stderr",
     "output_type": "stream",
     "text": [
      "Child returned 0\n"
     ]
    },
    {
     "name": "stdout",
     "output_type": "stream",
     "text": [
      "/shared/CSHL_patch_features/inception-bn-blue/MD590/MD590-N59-2015.09.12-06.14.08_MD590_1_0175_lossless_alignedTo_MD590-N47-2015.09.12-05.32.06_MD590_2_0140_cropped/MD590-N59-2015.09.12-06.14.08_MD590_1_0175_lossless_alignedTo_MD590-N47-2015.09.12-05.32.06_MD590_2_0140_cropped_patch_locations.txt\n",
      "/shared/CSHL_patch_features/inception-bn-blue/MD590/MD590_lossless_alignedTo_MD590-N47-2015.09.12-05.32.06_MD590_2_0140_cropped_gray/MD590-N59-2015.09.12-06.14.08_MD590_1_0175_lossless_alignedTo_MD590-N47-2015.09.12-05.32.06_MD590_2_0140_cropped_gray_patch_locations.txt\n",
      "aws s3 cp s3://mousebrainatlas-data/CSHL_patch_features/inception-bn-blue/MD590/MD590-N59-2015.09.12-06.14.08_MD590_1_0175_lossless_alignedTo_MD590-N47-2015.09.12-05.32.06_MD590_2_0140_cropped/MD590-N59-2015.09.12-06.14.08_MD590_1_0175_lossless_alignedTo_MD590-N47-2015.09.12-05.32.06_MD590_2_0140_cropped_patch_locations.txt s3://mousebrainatlas-data/CSHL_patch_features/inception-bn-blue/MD590/MD590_lossless_alignedTo_MD590-N47-2015.09.12-05.32.06_MD590_2_0140_cropped_gray/MD590-N59-2015.09.12-06.14.08_MD590_1_0175_lossless_alignedTo_MD590-N47-2015.09.12-05.32.06_MD590_2_0140_cropped_gray_patch_locations.txt\n"
     ]
    },
    {
     "name": "stderr",
     "output_type": "stream",
     "text": [
      "Child returned 0\n"
     ]
    },
    {
     "name": "stdout",
     "output_type": "stream",
     "text": [
      "/shared/CSHL_patch_features/inception-bn-blue/MD590/MD590-N59-2015.09.12-06.14.08_MD590_2_0176_lossless_alignedTo_MD590-N47-2015.09.12-05.32.06_MD590_2_0140_cropped/MD590-N59-2015.09.12-06.14.08_MD590_2_0176_lossless_alignedTo_MD590-N47-2015.09.12-05.32.06_MD590_2_0140_cropped_features.bp\n",
      "/shared/CSHL_patch_features/inception-bn-blue/MD590/MD590_lossless_alignedTo_MD590-N47-2015.09.12-05.32.06_MD590_2_0140_cropped_gray/MD590-N59-2015.09.12-06.14.08_MD590_2_0176_lossless_alignedTo_MD590-N47-2015.09.12-05.32.06_MD590_2_0140_cropped_gray_features.bp\n",
      "aws s3 cp s3://mousebrainatlas-data/CSHL_patch_features/inception-bn-blue/MD590/MD590-N59-2015.09.12-06.14.08_MD590_2_0176_lossless_alignedTo_MD590-N47-2015.09.12-05.32.06_MD590_2_0140_cropped/MD590-N59-2015.09.12-06.14.08_MD590_2_0176_lossless_alignedTo_MD590-N47-2015.09.12-05.32.06_MD590_2_0140_cropped_features.bp s3://mousebrainatlas-data/CSHL_patch_features/inception-bn-blue/MD590/MD590_lossless_alignedTo_MD590-N47-2015.09.12-05.32.06_MD590_2_0140_cropped_gray/MD590-N59-2015.09.12-06.14.08_MD590_2_0176_lossless_alignedTo_MD590-N47-2015.09.12-05.32.06_MD590_2_0140_cropped_gray_features.bp\n"
     ]
    },
    {
     "name": "stderr",
     "output_type": "stream",
     "text": [
      "Child returned 0\n"
     ]
    },
    {
     "name": "stdout",
     "output_type": "stream",
     "text": [
      "/shared/CSHL_patch_features/inception-bn-blue/MD590/MD590-N59-2015.09.12-06.14.08_MD590_2_0176_lossless_alignedTo_MD590-N47-2015.09.12-05.32.06_MD590_2_0140_cropped/MD590-N59-2015.09.12-06.14.08_MD590_2_0176_lossless_alignedTo_MD590-N47-2015.09.12-05.32.06_MD590_2_0140_cropped_patch_locations.txt\n",
      "/shared/CSHL_patch_features/inception-bn-blue/MD590/MD590_lossless_alignedTo_MD590-N47-2015.09.12-05.32.06_MD590_2_0140_cropped_gray/MD590-N59-2015.09.12-06.14.08_MD590_2_0176_lossless_alignedTo_MD590-N47-2015.09.12-05.32.06_MD590_2_0140_cropped_gray_patch_locations.txt\n",
      "aws s3 cp s3://mousebrainatlas-data/CSHL_patch_features/inception-bn-blue/MD590/MD590-N59-2015.09.12-06.14.08_MD590_2_0176_lossless_alignedTo_MD590-N47-2015.09.12-05.32.06_MD590_2_0140_cropped/MD590-N59-2015.09.12-06.14.08_MD590_2_0176_lossless_alignedTo_MD590-N47-2015.09.12-05.32.06_MD590_2_0140_cropped_patch_locations.txt s3://mousebrainatlas-data/CSHL_patch_features/inception-bn-blue/MD590/MD590_lossless_alignedTo_MD590-N47-2015.09.12-05.32.06_MD590_2_0140_cropped_gray/MD590-N59-2015.09.12-06.14.08_MD590_2_0176_lossless_alignedTo_MD590-N47-2015.09.12-05.32.06_MD590_2_0140_cropped_gray_patch_locations.txt\n"
     ]
    },
    {
     "name": "stderr",
     "output_type": "stream",
     "text": [
      "Child returned 0\n"
     ]
    },
    {
     "name": "stdout",
     "output_type": "stream",
     "text": [
      "/shared/CSHL_patch_features/inception-bn-blue/MD590/MD590-N59-2015.09.12-06.14.08_MD590_3_0177_lossless_alignedTo_MD590-N47-2015.09.12-05.32.06_MD590_2_0140_cropped/MD590-N59-2015.09.12-06.14.08_MD590_3_0177_lossless_alignedTo_MD590-N47-2015.09.12-05.32.06_MD590_2_0140_cropped_features.bp\n",
      "/shared/CSHL_patch_features/inception-bn-blue/MD590/MD590_lossless_alignedTo_MD590-N47-2015.09.12-05.32.06_MD590_2_0140_cropped_gray/MD590-N59-2015.09.12-06.14.08_MD590_3_0177_lossless_alignedTo_MD590-N47-2015.09.12-05.32.06_MD590_2_0140_cropped_gray_features.bp\n",
      "aws s3 cp s3://mousebrainatlas-data/CSHL_patch_features/inception-bn-blue/MD590/MD590-N59-2015.09.12-06.14.08_MD590_3_0177_lossless_alignedTo_MD590-N47-2015.09.12-05.32.06_MD590_2_0140_cropped/MD590-N59-2015.09.12-06.14.08_MD590_3_0177_lossless_alignedTo_MD590-N47-2015.09.12-05.32.06_MD590_2_0140_cropped_features.bp s3://mousebrainatlas-data/CSHL_patch_features/inception-bn-blue/MD590/MD590_lossless_alignedTo_MD590-N47-2015.09.12-05.32.06_MD590_2_0140_cropped_gray/MD590-N59-2015.09.12-06.14.08_MD590_3_0177_lossless_alignedTo_MD590-N47-2015.09.12-05.32.06_MD590_2_0140_cropped_gray_features.bp\n"
     ]
    },
    {
     "name": "stderr",
     "output_type": "stream",
     "text": [
      "Child returned 0\n"
     ]
    },
    {
     "name": "stdout",
     "output_type": "stream",
     "text": [
      "/shared/CSHL_patch_features/inception-bn-blue/MD590/MD590-N59-2015.09.12-06.14.08_MD590_3_0177_lossless_alignedTo_MD590-N47-2015.09.12-05.32.06_MD590_2_0140_cropped/MD590-N59-2015.09.12-06.14.08_MD590_3_0177_lossless_alignedTo_MD590-N47-2015.09.12-05.32.06_MD590_2_0140_cropped_patch_locations.txt\n",
      "/shared/CSHL_patch_features/inception-bn-blue/MD590/MD590_lossless_alignedTo_MD590-N47-2015.09.12-05.32.06_MD590_2_0140_cropped_gray/MD590-N59-2015.09.12-06.14.08_MD590_3_0177_lossless_alignedTo_MD590-N47-2015.09.12-05.32.06_MD590_2_0140_cropped_gray_patch_locations.txt\n",
      "aws s3 cp s3://mousebrainatlas-data/CSHL_patch_features/inception-bn-blue/MD590/MD590-N59-2015.09.12-06.14.08_MD590_3_0177_lossless_alignedTo_MD590-N47-2015.09.12-05.32.06_MD590_2_0140_cropped/MD590-N59-2015.09.12-06.14.08_MD590_3_0177_lossless_alignedTo_MD590-N47-2015.09.12-05.32.06_MD590_2_0140_cropped_patch_locations.txt s3://mousebrainatlas-data/CSHL_patch_features/inception-bn-blue/MD590/MD590_lossless_alignedTo_MD590-N47-2015.09.12-05.32.06_MD590_2_0140_cropped_gray/MD590-N59-2015.09.12-06.14.08_MD590_3_0177_lossless_alignedTo_MD590-N47-2015.09.12-05.32.06_MD590_2_0140_cropped_gray_patch_locations.txt\n"
     ]
    },
    {
     "name": "stderr",
     "output_type": "stream",
     "text": [
      "Child returned 0\n"
     ]
    },
    {
     "name": "stdout",
     "output_type": "stream",
     "text": [
      "/shared/CSHL_patch_features/inception-bn-blue/MD590/MD590-N60-2015.08.03-20.59.41_MD590_3_0178_lossless_alignedTo_MD590-N47-2015.09.12-05.32.06_MD590_2_0140_cropped/MD590-N60-2015.08.03-20.59.41_MD590_3_0178_lossless_alignedTo_MD590-N47-2015.09.12-05.32.06_MD590_2_0140_cropped_features.bp\n",
      "/shared/CSHL_patch_features/inception-bn-blue/MD590/MD590_lossless_alignedTo_MD590-N47-2015.09.12-05.32.06_MD590_2_0140_cropped_gray/MD590-N60-2015.08.03-20.59.41_MD590_3_0178_lossless_alignedTo_MD590-N47-2015.09.12-05.32.06_MD590_2_0140_cropped_gray_features.bp\n",
      "aws s3 cp s3://mousebrainatlas-data/CSHL_patch_features/inception-bn-blue/MD590/MD590-N60-2015.08.03-20.59.41_MD590_3_0178_lossless_alignedTo_MD590-N47-2015.09.12-05.32.06_MD590_2_0140_cropped/MD590-N60-2015.08.03-20.59.41_MD590_3_0178_lossless_alignedTo_MD590-N47-2015.09.12-05.32.06_MD590_2_0140_cropped_features.bp s3://mousebrainatlas-data/CSHL_patch_features/inception-bn-blue/MD590/MD590_lossless_alignedTo_MD590-N47-2015.09.12-05.32.06_MD590_2_0140_cropped_gray/MD590-N60-2015.08.03-20.59.41_MD590_3_0178_lossless_alignedTo_MD590-N47-2015.09.12-05.32.06_MD590_2_0140_cropped_gray_features.bp\n"
     ]
    },
    {
     "name": "stderr",
     "output_type": "stream",
     "text": [
      "Child returned 0\n"
     ]
    },
    {
     "name": "stdout",
     "output_type": "stream",
     "text": [
      "/shared/CSHL_patch_features/inception-bn-blue/MD590/MD590-N60-2015.08.03-20.59.41_MD590_3_0178_lossless_alignedTo_MD590-N47-2015.09.12-05.32.06_MD590_2_0140_cropped/MD590-N60-2015.08.03-20.59.41_MD590_3_0178_lossless_alignedTo_MD590-N47-2015.09.12-05.32.06_MD590_2_0140_cropped_patch_locations.txt\n",
      "/shared/CSHL_patch_features/inception-bn-blue/MD590/MD590_lossless_alignedTo_MD590-N47-2015.09.12-05.32.06_MD590_2_0140_cropped_gray/MD590-N60-2015.08.03-20.59.41_MD590_3_0178_lossless_alignedTo_MD590-N47-2015.09.12-05.32.06_MD590_2_0140_cropped_gray_patch_locations.txt\n",
      "aws s3 cp s3://mousebrainatlas-data/CSHL_patch_features/inception-bn-blue/MD590/MD590-N60-2015.08.03-20.59.41_MD590_3_0178_lossless_alignedTo_MD590-N47-2015.09.12-05.32.06_MD590_2_0140_cropped/MD590-N60-2015.08.03-20.59.41_MD590_3_0178_lossless_alignedTo_MD590-N47-2015.09.12-05.32.06_MD590_2_0140_cropped_patch_locations.txt s3://mousebrainatlas-data/CSHL_patch_features/inception-bn-blue/MD590/MD590_lossless_alignedTo_MD590-N47-2015.09.12-05.32.06_MD590_2_0140_cropped_gray/MD590-N60-2015.08.03-20.59.41_MD590_3_0178_lossless_alignedTo_MD590-N47-2015.09.12-05.32.06_MD590_2_0140_cropped_gray_patch_locations.txt\n"
     ]
    },
    {
     "name": "stderr",
     "output_type": "stream",
     "text": [
      "Child returned 0\n"
     ]
    },
    {
     "name": "stdout",
     "output_type": "stream",
     "text": [
      "/shared/CSHL_patch_features/inception-bn-blue/MD590/MD590-N60-2015.08.03-20.59.41_MD590_2_0179_lossless_alignedTo_MD590-N47-2015.09.12-05.32.06_MD590_2_0140_cropped/MD590-N60-2015.08.03-20.59.41_MD590_2_0179_lossless_alignedTo_MD590-N47-2015.09.12-05.32.06_MD590_2_0140_cropped_features.bp\n",
      "/shared/CSHL_patch_features/inception-bn-blue/MD590/MD590_lossless_alignedTo_MD590-N47-2015.09.12-05.32.06_MD590_2_0140_cropped_gray/MD590-N60-2015.08.03-20.59.41_MD590_2_0179_lossless_alignedTo_MD590-N47-2015.09.12-05.32.06_MD590_2_0140_cropped_gray_features.bp\n",
      "aws s3 cp s3://mousebrainatlas-data/CSHL_patch_features/inception-bn-blue/MD590/MD590-N60-2015.08.03-20.59.41_MD590_2_0179_lossless_alignedTo_MD590-N47-2015.09.12-05.32.06_MD590_2_0140_cropped/MD590-N60-2015.08.03-20.59.41_MD590_2_0179_lossless_alignedTo_MD590-N47-2015.09.12-05.32.06_MD590_2_0140_cropped_features.bp s3://mousebrainatlas-data/CSHL_patch_features/inception-bn-blue/MD590/MD590_lossless_alignedTo_MD590-N47-2015.09.12-05.32.06_MD590_2_0140_cropped_gray/MD590-N60-2015.08.03-20.59.41_MD590_2_0179_lossless_alignedTo_MD590-N47-2015.09.12-05.32.06_MD590_2_0140_cropped_gray_features.bp\n"
     ]
    },
    {
     "name": "stderr",
     "output_type": "stream",
     "text": [
      "Child returned 0\n"
     ]
    },
    {
     "name": "stdout",
     "output_type": "stream",
     "text": [
      "/shared/CSHL_patch_features/inception-bn-blue/MD590/MD590-N60-2015.08.03-20.59.41_MD590_2_0179_lossless_alignedTo_MD590-N47-2015.09.12-05.32.06_MD590_2_0140_cropped/MD590-N60-2015.08.03-20.59.41_MD590_2_0179_lossless_alignedTo_MD590-N47-2015.09.12-05.32.06_MD590_2_0140_cropped_patch_locations.txt\n",
      "/shared/CSHL_patch_features/inception-bn-blue/MD590/MD590_lossless_alignedTo_MD590-N47-2015.09.12-05.32.06_MD590_2_0140_cropped_gray/MD590-N60-2015.08.03-20.59.41_MD590_2_0179_lossless_alignedTo_MD590-N47-2015.09.12-05.32.06_MD590_2_0140_cropped_gray_patch_locations.txt\n",
      "aws s3 cp s3://mousebrainatlas-data/CSHL_patch_features/inception-bn-blue/MD590/MD590-N60-2015.08.03-20.59.41_MD590_2_0179_lossless_alignedTo_MD590-N47-2015.09.12-05.32.06_MD590_2_0140_cropped/MD590-N60-2015.08.03-20.59.41_MD590_2_0179_lossless_alignedTo_MD590-N47-2015.09.12-05.32.06_MD590_2_0140_cropped_patch_locations.txt s3://mousebrainatlas-data/CSHL_patch_features/inception-bn-blue/MD590/MD590_lossless_alignedTo_MD590-N47-2015.09.12-05.32.06_MD590_2_0140_cropped_gray/MD590-N60-2015.08.03-20.59.41_MD590_2_0179_lossless_alignedTo_MD590-N47-2015.09.12-05.32.06_MD590_2_0140_cropped_gray_patch_locations.txt\n"
     ]
    },
    {
     "name": "stderr",
     "output_type": "stream",
     "text": [
      "Child returned 0\n"
     ]
    },
    {
     "name": "stdout",
     "output_type": "stream",
     "text": [
      "/shared/CSHL_patch_features/inception-bn-blue/MD590/MD590-IHC60-2015.08.10-22.13.42_MD590_2_0179_lossless_alignedTo_MD590-N47-2015.09.12-05.32.06_MD590_2_0140_cropped/MD590-IHC60-2015.08.10-22.13.42_MD590_2_0179_lossless_alignedTo_MD590-N47-2015.09.12-05.32.06_MD590_2_0140_cropped_features.bp\n",
      "/shared/CSHL_patch_features/inception-bn-blue/MD590/MD590_lossless_alignedTo_MD590-N47-2015.09.12-05.32.06_MD590_2_0140_cropped_gray/MD590-IHC60-2015.08.10-22.13.42_MD590_2_0179_lossless_alignedTo_MD590-N47-2015.09.12-05.32.06_MD590_2_0140_cropped_gray_features.bp\n",
      "aws s3 cp s3://mousebrainatlas-data/CSHL_patch_features/inception-bn-blue/MD590/MD590-IHC60-2015.08.10-22.13.42_MD590_2_0179_lossless_alignedTo_MD590-N47-2015.09.12-05.32.06_MD590_2_0140_cropped/MD590-IHC60-2015.08.10-22.13.42_MD590_2_0179_lossless_alignedTo_MD590-N47-2015.09.12-05.32.06_MD590_2_0140_cropped_features.bp s3://mousebrainatlas-data/CSHL_patch_features/inception-bn-blue/MD590/MD590_lossless_alignedTo_MD590-N47-2015.09.12-05.32.06_MD590_2_0140_cropped_gray/MD590-IHC60-2015.08.10-22.13.42_MD590_2_0179_lossless_alignedTo_MD590-N47-2015.09.12-05.32.06_MD590_2_0140_cropped_gray_features.bp\n"
     ]
    },
    {
     "name": "stderr",
     "output_type": "stream",
     "text": [
      "Child returned 0\n"
     ]
    },
    {
     "name": "stdout",
     "output_type": "stream",
     "text": [
      "/shared/CSHL_patch_features/inception-bn-blue/MD590/MD590-IHC60-2015.08.10-22.13.42_MD590_2_0179_lossless_alignedTo_MD590-N47-2015.09.12-05.32.06_MD590_2_0140_cropped/MD590-IHC60-2015.08.10-22.13.42_MD590_2_0179_lossless_alignedTo_MD590-N47-2015.09.12-05.32.06_MD590_2_0140_cropped_patch_locations.txt\n",
      "/shared/CSHL_patch_features/inception-bn-blue/MD590/MD590_lossless_alignedTo_MD590-N47-2015.09.12-05.32.06_MD590_2_0140_cropped_gray/MD590-IHC60-2015.08.10-22.13.42_MD590_2_0179_lossless_alignedTo_MD590-N47-2015.09.12-05.32.06_MD590_2_0140_cropped_gray_patch_locations.txt\n",
      "aws s3 cp s3://mousebrainatlas-data/CSHL_patch_features/inception-bn-blue/MD590/MD590-IHC60-2015.08.10-22.13.42_MD590_2_0179_lossless_alignedTo_MD590-N47-2015.09.12-05.32.06_MD590_2_0140_cropped/MD590-IHC60-2015.08.10-22.13.42_MD590_2_0179_lossless_alignedTo_MD590-N47-2015.09.12-05.32.06_MD590_2_0140_cropped_patch_locations.txt s3://mousebrainatlas-data/CSHL_patch_features/inception-bn-blue/MD590/MD590_lossless_alignedTo_MD590-N47-2015.09.12-05.32.06_MD590_2_0140_cropped_gray/MD590-IHC60-2015.08.10-22.13.42_MD590_2_0179_lossless_alignedTo_MD590-N47-2015.09.12-05.32.06_MD590_2_0140_cropped_gray_patch_locations.txt\n"
     ]
    },
    {
     "name": "stderr",
     "output_type": "stream",
     "text": [
      "Child returned 0\n"
     ]
    },
    {
     "name": "stdout",
     "output_type": "stream",
     "text": [
      "/shared/CSHL_patch_features/inception-bn-blue/MD590/MD590-N60-2015.08.03-20.59.41_MD590_1_0180_lossless_alignedTo_MD590-N47-2015.09.12-05.32.06_MD590_2_0140_cropped/MD590-N60-2015.08.03-20.59.41_MD590_1_0180_lossless_alignedTo_MD590-N47-2015.09.12-05.32.06_MD590_2_0140_cropped_features.bp\n",
      "/shared/CSHL_patch_features/inception-bn-blue/MD590/MD590_lossless_alignedTo_MD590-N47-2015.09.12-05.32.06_MD590_2_0140_cropped_gray/MD590-N60-2015.08.03-20.59.41_MD590_1_0180_lossless_alignedTo_MD590-N47-2015.09.12-05.32.06_MD590_2_0140_cropped_gray_features.bp\n",
      "aws s3 cp s3://mousebrainatlas-data/CSHL_patch_features/inception-bn-blue/MD590/MD590-N60-2015.08.03-20.59.41_MD590_1_0180_lossless_alignedTo_MD590-N47-2015.09.12-05.32.06_MD590_2_0140_cropped/MD590-N60-2015.08.03-20.59.41_MD590_1_0180_lossless_alignedTo_MD590-N47-2015.09.12-05.32.06_MD590_2_0140_cropped_features.bp s3://mousebrainatlas-data/CSHL_patch_features/inception-bn-blue/MD590/MD590_lossless_alignedTo_MD590-N47-2015.09.12-05.32.06_MD590_2_0140_cropped_gray/MD590-N60-2015.08.03-20.59.41_MD590_1_0180_lossless_alignedTo_MD590-N47-2015.09.12-05.32.06_MD590_2_0140_cropped_gray_features.bp\n"
     ]
    },
    {
     "name": "stderr",
     "output_type": "stream",
     "text": [
      "Child returned 0\n"
     ]
    },
    {
     "name": "stdout",
     "output_type": "stream",
     "text": [
      "/shared/CSHL_patch_features/inception-bn-blue/MD590/MD590-N60-2015.08.03-20.59.41_MD590_1_0180_lossless_alignedTo_MD590-N47-2015.09.12-05.32.06_MD590_2_0140_cropped/MD590-N60-2015.08.03-20.59.41_MD590_1_0180_lossless_alignedTo_MD590-N47-2015.09.12-05.32.06_MD590_2_0140_cropped_patch_locations.txt\n",
      "/shared/CSHL_patch_features/inception-bn-blue/MD590/MD590_lossless_alignedTo_MD590-N47-2015.09.12-05.32.06_MD590_2_0140_cropped_gray/MD590-N60-2015.08.03-20.59.41_MD590_1_0180_lossless_alignedTo_MD590-N47-2015.09.12-05.32.06_MD590_2_0140_cropped_gray_patch_locations.txt\n",
      "aws s3 cp s3://mousebrainatlas-data/CSHL_patch_features/inception-bn-blue/MD590/MD590-N60-2015.08.03-20.59.41_MD590_1_0180_lossless_alignedTo_MD590-N47-2015.09.12-05.32.06_MD590_2_0140_cropped/MD590-N60-2015.08.03-20.59.41_MD590_1_0180_lossless_alignedTo_MD590-N47-2015.09.12-05.32.06_MD590_2_0140_cropped_patch_locations.txt s3://mousebrainatlas-data/CSHL_patch_features/inception-bn-blue/MD590/MD590_lossless_alignedTo_MD590-N47-2015.09.12-05.32.06_MD590_2_0140_cropped_gray/MD590-N60-2015.08.03-20.59.41_MD590_1_0180_lossless_alignedTo_MD590-N47-2015.09.12-05.32.06_MD590_2_0140_cropped_gray_patch_locations.txt\n"
     ]
    },
    {
     "name": "stderr",
     "output_type": "stream",
     "text": [
      "Child returned 0\n"
     ]
    },
    {
     "name": "stdout",
     "output_type": "stream",
     "text": [
      "/shared/CSHL_patch_features/inception-bn-blue/MD590/MD590-IHC60-2015.08.10-22.13.42_MD590_1_0180_lossless_alignedTo_MD590-N47-2015.09.12-05.32.06_MD590_2_0140_cropped/MD590-IHC60-2015.08.10-22.13.42_MD590_1_0180_lossless_alignedTo_MD590-N47-2015.09.12-05.32.06_MD590_2_0140_cropped_features.bp\n",
      "/shared/CSHL_patch_features/inception-bn-blue/MD590/MD590_lossless_alignedTo_MD590-N47-2015.09.12-05.32.06_MD590_2_0140_cropped_gray/MD590-IHC60-2015.08.10-22.13.42_MD590_1_0180_lossless_alignedTo_MD590-N47-2015.09.12-05.32.06_MD590_2_0140_cropped_gray_features.bp\n",
      "aws s3 cp s3://mousebrainatlas-data/CSHL_patch_features/inception-bn-blue/MD590/MD590-IHC60-2015.08.10-22.13.42_MD590_1_0180_lossless_alignedTo_MD590-N47-2015.09.12-05.32.06_MD590_2_0140_cropped/MD590-IHC60-2015.08.10-22.13.42_MD590_1_0180_lossless_alignedTo_MD590-N47-2015.09.12-05.32.06_MD590_2_0140_cropped_features.bp s3://mousebrainatlas-data/CSHL_patch_features/inception-bn-blue/MD590/MD590_lossless_alignedTo_MD590-N47-2015.09.12-05.32.06_MD590_2_0140_cropped_gray/MD590-IHC60-2015.08.10-22.13.42_MD590_1_0180_lossless_alignedTo_MD590-N47-2015.09.12-05.32.06_MD590_2_0140_cropped_gray_features.bp\n"
     ]
    },
    {
     "name": "stderr",
     "output_type": "stream",
     "text": [
      "Child returned 0\n"
     ]
    },
    {
     "name": "stdout",
     "output_type": "stream",
     "text": [
      "/shared/CSHL_patch_features/inception-bn-blue/MD590/MD590-IHC60-2015.08.10-22.13.42_MD590_1_0180_lossless_alignedTo_MD590-N47-2015.09.12-05.32.06_MD590_2_0140_cropped/MD590-IHC60-2015.08.10-22.13.42_MD590_1_0180_lossless_alignedTo_MD590-N47-2015.09.12-05.32.06_MD590_2_0140_cropped_patch_locations.txt\n",
      "/shared/CSHL_patch_features/inception-bn-blue/MD590/MD590_lossless_alignedTo_MD590-N47-2015.09.12-05.32.06_MD590_2_0140_cropped_gray/MD590-IHC60-2015.08.10-22.13.42_MD590_1_0180_lossless_alignedTo_MD590-N47-2015.09.12-05.32.06_MD590_2_0140_cropped_gray_patch_locations.txt\n",
      "aws s3 cp s3://mousebrainatlas-data/CSHL_patch_features/inception-bn-blue/MD590/MD590-IHC60-2015.08.10-22.13.42_MD590_1_0180_lossless_alignedTo_MD590-N47-2015.09.12-05.32.06_MD590_2_0140_cropped/MD590-IHC60-2015.08.10-22.13.42_MD590_1_0180_lossless_alignedTo_MD590-N47-2015.09.12-05.32.06_MD590_2_0140_cropped_patch_locations.txt s3://mousebrainatlas-data/CSHL_patch_features/inception-bn-blue/MD590/MD590_lossless_alignedTo_MD590-N47-2015.09.12-05.32.06_MD590_2_0140_cropped_gray/MD590-IHC60-2015.08.10-22.13.42_MD590_1_0180_lossless_alignedTo_MD590-N47-2015.09.12-05.32.06_MD590_2_0140_cropped_gray_patch_locations.txt\n"
     ]
    },
    {
     "name": "stderr",
     "output_type": "stream",
     "text": [
      "Child returned 0\n"
     ]
    },
    {
     "name": "stdout",
     "output_type": "stream",
     "text": [
      "/shared/CSHL_patch_features/inception-bn-blue/MD590/MD590-N61-2015.08.03-21.04.14_MD590_3_0181_lossless_alignedTo_MD590-N47-2015.09.12-05.32.06_MD590_2_0140_cropped/MD590-N61-2015.08.03-21.04.14_MD590_3_0181_lossless_alignedTo_MD590-N47-2015.09.12-05.32.06_MD590_2_0140_cropped_features.bp\n",
      "/shared/CSHL_patch_features/inception-bn-blue/MD590/MD590_lossless_alignedTo_MD590-N47-2015.09.12-05.32.06_MD590_2_0140_cropped_gray/MD590-N61-2015.08.03-21.04.14_MD590_3_0181_lossless_alignedTo_MD590-N47-2015.09.12-05.32.06_MD590_2_0140_cropped_gray_features.bp\n",
      "aws s3 cp s3://mousebrainatlas-data/CSHL_patch_features/inception-bn-blue/MD590/MD590-N61-2015.08.03-21.04.14_MD590_3_0181_lossless_alignedTo_MD590-N47-2015.09.12-05.32.06_MD590_2_0140_cropped/MD590-N61-2015.08.03-21.04.14_MD590_3_0181_lossless_alignedTo_MD590-N47-2015.09.12-05.32.06_MD590_2_0140_cropped_features.bp s3://mousebrainatlas-data/CSHL_patch_features/inception-bn-blue/MD590/MD590_lossless_alignedTo_MD590-N47-2015.09.12-05.32.06_MD590_2_0140_cropped_gray/MD590-N61-2015.08.03-21.04.14_MD590_3_0181_lossless_alignedTo_MD590-N47-2015.09.12-05.32.06_MD590_2_0140_cropped_gray_features.bp\n"
     ]
    },
    {
     "name": "stderr",
     "output_type": "stream",
     "text": [
      "Child returned 0\n"
     ]
    },
    {
     "name": "stdout",
     "output_type": "stream",
     "text": [
      "/shared/CSHL_patch_features/inception-bn-blue/MD590/MD590-N61-2015.08.03-21.04.14_MD590_3_0181_lossless_alignedTo_MD590-N47-2015.09.12-05.32.06_MD590_2_0140_cropped/MD590-N61-2015.08.03-21.04.14_MD590_3_0181_lossless_alignedTo_MD590-N47-2015.09.12-05.32.06_MD590_2_0140_cropped_patch_locations.txt\n",
      "/shared/CSHL_patch_features/inception-bn-blue/MD590/MD590_lossless_alignedTo_MD590-N47-2015.09.12-05.32.06_MD590_2_0140_cropped_gray/MD590-N61-2015.08.03-21.04.14_MD590_3_0181_lossless_alignedTo_MD590-N47-2015.09.12-05.32.06_MD590_2_0140_cropped_gray_patch_locations.txt\n",
      "aws s3 cp s3://mousebrainatlas-data/CSHL_patch_features/inception-bn-blue/MD590/MD590-N61-2015.08.03-21.04.14_MD590_3_0181_lossless_alignedTo_MD590-N47-2015.09.12-05.32.06_MD590_2_0140_cropped/MD590-N61-2015.08.03-21.04.14_MD590_3_0181_lossless_alignedTo_MD590-N47-2015.09.12-05.32.06_MD590_2_0140_cropped_patch_locations.txt s3://mousebrainatlas-data/CSHL_patch_features/inception-bn-blue/MD590/MD590_lossless_alignedTo_MD590-N47-2015.09.12-05.32.06_MD590_2_0140_cropped_gray/MD590-N61-2015.08.03-21.04.14_MD590_3_0181_lossless_alignedTo_MD590-N47-2015.09.12-05.32.06_MD590_2_0140_cropped_gray_patch_locations.txt\n"
     ]
    },
    {
     "name": "stderr",
     "output_type": "stream",
     "text": [
      "Child returned 0\n"
     ]
    },
    {
     "name": "stdout",
     "output_type": "stream",
     "text": [
      "/shared/CSHL_patch_features/inception-bn-blue/MD590/MD590-IHC61-2015.08.10-22.18.21_MD590_3_0181_lossless_alignedTo_MD590-N47-2015.09.12-05.32.06_MD590_2_0140_cropped/MD590-IHC61-2015.08.10-22.18.21_MD590_3_0181_lossless_alignedTo_MD590-N47-2015.09.12-05.32.06_MD590_2_0140_cropped_features.bp\n",
      "/shared/CSHL_patch_features/inception-bn-blue/MD590/MD590_lossless_alignedTo_MD590-N47-2015.09.12-05.32.06_MD590_2_0140_cropped_gray/MD590-IHC61-2015.08.10-22.18.21_MD590_3_0181_lossless_alignedTo_MD590-N47-2015.09.12-05.32.06_MD590_2_0140_cropped_gray_features.bp\n",
      "aws s3 cp s3://mousebrainatlas-data/CSHL_patch_features/inception-bn-blue/MD590/MD590-IHC61-2015.08.10-22.18.21_MD590_3_0181_lossless_alignedTo_MD590-N47-2015.09.12-05.32.06_MD590_2_0140_cropped/MD590-IHC61-2015.08.10-22.18.21_MD590_3_0181_lossless_alignedTo_MD590-N47-2015.09.12-05.32.06_MD590_2_0140_cropped_features.bp s3://mousebrainatlas-data/CSHL_patch_features/inception-bn-blue/MD590/MD590_lossless_alignedTo_MD590-N47-2015.09.12-05.32.06_MD590_2_0140_cropped_gray/MD590-IHC61-2015.08.10-22.18.21_MD590_3_0181_lossless_alignedTo_MD590-N47-2015.09.12-05.32.06_MD590_2_0140_cropped_gray_features.bp\n"
     ]
    },
    {
     "name": "stderr",
     "output_type": "stream",
     "text": [
      "Child returned 0\n"
     ]
    },
    {
     "name": "stdout",
     "output_type": "stream",
     "text": [
      "/shared/CSHL_patch_features/inception-bn-blue/MD590/MD590-IHC61-2015.08.10-22.18.21_MD590_3_0181_lossless_alignedTo_MD590-N47-2015.09.12-05.32.06_MD590_2_0140_cropped/MD590-IHC61-2015.08.10-22.18.21_MD590_3_0181_lossless_alignedTo_MD590-N47-2015.09.12-05.32.06_MD590_2_0140_cropped_patch_locations.txt\n",
      "/shared/CSHL_patch_features/inception-bn-blue/MD590/MD590_lossless_alignedTo_MD590-N47-2015.09.12-05.32.06_MD590_2_0140_cropped_gray/MD590-IHC61-2015.08.10-22.18.21_MD590_3_0181_lossless_alignedTo_MD590-N47-2015.09.12-05.32.06_MD590_2_0140_cropped_gray_patch_locations.txt\n",
      "aws s3 cp s3://mousebrainatlas-data/CSHL_patch_features/inception-bn-blue/MD590/MD590-IHC61-2015.08.10-22.18.21_MD590_3_0181_lossless_alignedTo_MD590-N47-2015.09.12-05.32.06_MD590_2_0140_cropped/MD590-IHC61-2015.08.10-22.18.21_MD590_3_0181_lossless_alignedTo_MD590-N47-2015.09.12-05.32.06_MD590_2_0140_cropped_patch_locations.txt s3://mousebrainatlas-data/CSHL_patch_features/inception-bn-blue/MD590/MD590_lossless_alignedTo_MD590-N47-2015.09.12-05.32.06_MD590_2_0140_cropped_gray/MD590-IHC61-2015.08.10-22.18.21_MD590_3_0181_lossless_alignedTo_MD590-N47-2015.09.12-05.32.06_MD590_2_0140_cropped_gray_patch_locations.txt\n"
     ]
    },
    {
     "name": "stderr",
     "output_type": "stream",
     "text": [
      "Child returned 0\n"
     ]
    },
    {
     "name": "stdout",
     "output_type": "stream",
     "text": [
      "/shared/CSHL_patch_features/inception-bn-blue/MD590/MD590-N61-2015.08.03-21.04.14_MD590_2_0182_lossless_alignedTo_MD590-N47-2015.09.12-05.32.06_MD590_2_0140_cropped/MD590-N61-2015.08.03-21.04.14_MD590_2_0182_lossless_alignedTo_MD590-N47-2015.09.12-05.32.06_MD590_2_0140_cropped_features.bp\n",
      "/shared/CSHL_patch_features/inception-bn-blue/MD590/MD590_lossless_alignedTo_MD590-N47-2015.09.12-05.32.06_MD590_2_0140_cropped_gray/MD590-N61-2015.08.03-21.04.14_MD590_2_0182_lossless_alignedTo_MD590-N47-2015.09.12-05.32.06_MD590_2_0140_cropped_gray_features.bp\n",
      "aws s3 cp s3://mousebrainatlas-data/CSHL_patch_features/inception-bn-blue/MD590/MD590-N61-2015.08.03-21.04.14_MD590_2_0182_lossless_alignedTo_MD590-N47-2015.09.12-05.32.06_MD590_2_0140_cropped/MD590-N61-2015.08.03-21.04.14_MD590_2_0182_lossless_alignedTo_MD590-N47-2015.09.12-05.32.06_MD590_2_0140_cropped_features.bp s3://mousebrainatlas-data/CSHL_patch_features/inception-bn-blue/MD590/MD590_lossless_alignedTo_MD590-N47-2015.09.12-05.32.06_MD590_2_0140_cropped_gray/MD590-N61-2015.08.03-21.04.14_MD590_2_0182_lossless_alignedTo_MD590-N47-2015.09.12-05.32.06_MD590_2_0140_cropped_gray_features.bp\n"
     ]
    },
    {
     "name": "stderr",
     "output_type": "stream",
     "text": [
      "Child returned 0\n"
     ]
    },
    {
     "name": "stdout",
     "output_type": "stream",
     "text": [
      "/shared/CSHL_patch_features/inception-bn-blue/MD590/MD590-N61-2015.08.03-21.04.14_MD590_2_0182_lossless_alignedTo_MD590-N47-2015.09.12-05.32.06_MD590_2_0140_cropped/MD590-N61-2015.08.03-21.04.14_MD590_2_0182_lossless_alignedTo_MD590-N47-2015.09.12-05.32.06_MD590_2_0140_cropped_patch_locations.txt\n",
      "/shared/CSHL_patch_features/inception-bn-blue/MD590/MD590_lossless_alignedTo_MD590-N47-2015.09.12-05.32.06_MD590_2_0140_cropped_gray/MD590-N61-2015.08.03-21.04.14_MD590_2_0182_lossless_alignedTo_MD590-N47-2015.09.12-05.32.06_MD590_2_0140_cropped_gray_patch_locations.txt\n",
      "aws s3 cp s3://mousebrainatlas-data/CSHL_patch_features/inception-bn-blue/MD590/MD590-N61-2015.08.03-21.04.14_MD590_2_0182_lossless_alignedTo_MD590-N47-2015.09.12-05.32.06_MD590_2_0140_cropped/MD590-N61-2015.08.03-21.04.14_MD590_2_0182_lossless_alignedTo_MD590-N47-2015.09.12-05.32.06_MD590_2_0140_cropped_patch_locations.txt s3://mousebrainatlas-data/CSHL_patch_features/inception-bn-blue/MD590/MD590_lossless_alignedTo_MD590-N47-2015.09.12-05.32.06_MD590_2_0140_cropped_gray/MD590-N61-2015.08.03-21.04.14_MD590_2_0182_lossless_alignedTo_MD590-N47-2015.09.12-05.32.06_MD590_2_0140_cropped_gray_patch_locations.txt\n"
     ]
    },
    {
     "name": "stderr",
     "output_type": "stream",
     "text": [
      "Child returned 0\n"
     ]
    },
    {
     "name": "stdout",
     "output_type": "stream",
     "text": [
      "/shared/CSHL_patch_features/inception-bn-blue/MD590/MD590-IHC61-2015.08.10-22.18.21_MD590_2_0182_lossless_alignedTo_MD590-N47-2015.09.12-05.32.06_MD590_2_0140_cropped/MD590-IHC61-2015.08.10-22.18.21_MD590_2_0182_lossless_alignedTo_MD590-N47-2015.09.12-05.32.06_MD590_2_0140_cropped_features.bp\n",
      "/shared/CSHL_patch_features/inception-bn-blue/MD590/MD590_lossless_alignedTo_MD590-N47-2015.09.12-05.32.06_MD590_2_0140_cropped_gray/MD590-IHC61-2015.08.10-22.18.21_MD590_2_0182_lossless_alignedTo_MD590-N47-2015.09.12-05.32.06_MD590_2_0140_cropped_gray_features.bp\n",
      "aws s3 cp s3://mousebrainatlas-data/CSHL_patch_features/inception-bn-blue/MD590/MD590-IHC61-2015.08.10-22.18.21_MD590_2_0182_lossless_alignedTo_MD590-N47-2015.09.12-05.32.06_MD590_2_0140_cropped/MD590-IHC61-2015.08.10-22.18.21_MD590_2_0182_lossless_alignedTo_MD590-N47-2015.09.12-05.32.06_MD590_2_0140_cropped_features.bp s3://mousebrainatlas-data/CSHL_patch_features/inception-bn-blue/MD590/MD590_lossless_alignedTo_MD590-N47-2015.09.12-05.32.06_MD590_2_0140_cropped_gray/MD590-IHC61-2015.08.10-22.18.21_MD590_2_0182_lossless_alignedTo_MD590-N47-2015.09.12-05.32.06_MD590_2_0140_cropped_gray_features.bp\n"
     ]
    },
    {
     "name": "stderr",
     "output_type": "stream",
     "text": [
      "Child returned 0\n"
     ]
    },
    {
     "name": "stdout",
     "output_type": "stream",
     "text": [
      "/shared/CSHL_patch_features/inception-bn-blue/MD590/MD590-IHC61-2015.08.10-22.18.21_MD590_2_0182_lossless_alignedTo_MD590-N47-2015.09.12-05.32.06_MD590_2_0140_cropped/MD590-IHC61-2015.08.10-22.18.21_MD590_2_0182_lossless_alignedTo_MD590-N47-2015.09.12-05.32.06_MD590_2_0140_cropped_patch_locations.txt\n",
      "/shared/CSHL_patch_features/inception-bn-blue/MD590/MD590_lossless_alignedTo_MD590-N47-2015.09.12-05.32.06_MD590_2_0140_cropped_gray/MD590-IHC61-2015.08.10-22.18.21_MD590_2_0182_lossless_alignedTo_MD590-N47-2015.09.12-05.32.06_MD590_2_0140_cropped_gray_patch_locations.txt\n",
      "aws s3 cp s3://mousebrainatlas-data/CSHL_patch_features/inception-bn-blue/MD590/MD590-IHC61-2015.08.10-22.18.21_MD590_2_0182_lossless_alignedTo_MD590-N47-2015.09.12-05.32.06_MD590_2_0140_cropped/MD590-IHC61-2015.08.10-22.18.21_MD590_2_0182_lossless_alignedTo_MD590-N47-2015.09.12-05.32.06_MD590_2_0140_cropped_patch_locations.txt s3://mousebrainatlas-data/CSHL_patch_features/inception-bn-blue/MD590/MD590_lossless_alignedTo_MD590-N47-2015.09.12-05.32.06_MD590_2_0140_cropped_gray/MD590-IHC61-2015.08.10-22.18.21_MD590_2_0182_lossless_alignedTo_MD590-N47-2015.09.12-05.32.06_MD590_2_0140_cropped_gray_patch_locations.txt\n"
     ]
    },
    {
     "name": "stderr",
     "output_type": "stream",
     "text": [
      "Child returned 0\n"
     ]
    },
    {
     "name": "stdout",
     "output_type": "stream",
     "text": [
      "/shared/CSHL_patch_features/inception-bn-blue/MD590/MD590-N61-2015.08.03-21.04.14_MD590_1_0183_lossless_alignedTo_MD590-N47-2015.09.12-05.32.06_MD590_2_0140_cropped/MD590-N61-2015.08.03-21.04.14_MD590_1_0183_lossless_alignedTo_MD590-N47-2015.09.12-05.32.06_MD590_2_0140_cropped_features.bp\n",
      "/shared/CSHL_patch_features/inception-bn-blue/MD590/MD590_lossless_alignedTo_MD590-N47-2015.09.12-05.32.06_MD590_2_0140_cropped_gray/MD590-N61-2015.08.03-21.04.14_MD590_1_0183_lossless_alignedTo_MD590-N47-2015.09.12-05.32.06_MD590_2_0140_cropped_gray_features.bp\n",
      "aws s3 cp s3://mousebrainatlas-data/CSHL_patch_features/inception-bn-blue/MD590/MD590-N61-2015.08.03-21.04.14_MD590_1_0183_lossless_alignedTo_MD590-N47-2015.09.12-05.32.06_MD590_2_0140_cropped/MD590-N61-2015.08.03-21.04.14_MD590_1_0183_lossless_alignedTo_MD590-N47-2015.09.12-05.32.06_MD590_2_0140_cropped_features.bp s3://mousebrainatlas-data/CSHL_patch_features/inception-bn-blue/MD590/MD590_lossless_alignedTo_MD590-N47-2015.09.12-05.32.06_MD590_2_0140_cropped_gray/MD590-N61-2015.08.03-21.04.14_MD590_1_0183_lossless_alignedTo_MD590-N47-2015.09.12-05.32.06_MD590_2_0140_cropped_gray_features.bp\n"
     ]
    },
    {
     "name": "stderr",
     "output_type": "stream",
     "text": [
      "Child returned 0\n"
     ]
    },
    {
     "name": "stdout",
     "output_type": "stream",
     "text": [
      "/shared/CSHL_patch_features/inception-bn-blue/MD590/MD590-N61-2015.08.03-21.04.14_MD590_1_0183_lossless_alignedTo_MD590-N47-2015.09.12-05.32.06_MD590_2_0140_cropped/MD590-N61-2015.08.03-21.04.14_MD590_1_0183_lossless_alignedTo_MD590-N47-2015.09.12-05.32.06_MD590_2_0140_cropped_patch_locations.txt\n",
      "/shared/CSHL_patch_features/inception-bn-blue/MD590/MD590_lossless_alignedTo_MD590-N47-2015.09.12-05.32.06_MD590_2_0140_cropped_gray/MD590-N61-2015.08.03-21.04.14_MD590_1_0183_lossless_alignedTo_MD590-N47-2015.09.12-05.32.06_MD590_2_0140_cropped_gray_patch_locations.txt\n",
      "aws s3 cp s3://mousebrainatlas-data/CSHL_patch_features/inception-bn-blue/MD590/MD590-N61-2015.08.03-21.04.14_MD590_1_0183_lossless_alignedTo_MD590-N47-2015.09.12-05.32.06_MD590_2_0140_cropped/MD590-N61-2015.08.03-21.04.14_MD590_1_0183_lossless_alignedTo_MD590-N47-2015.09.12-05.32.06_MD590_2_0140_cropped_patch_locations.txt s3://mousebrainatlas-data/CSHL_patch_features/inception-bn-blue/MD590/MD590_lossless_alignedTo_MD590-N47-2015.09.12-05.32.06_MD590_2_0140_cropped_gray/MD590-N61-2015.08.03-21.04.14_MD590_1_0183_lossless_alignedTo_MD590-N47-2015.09.12-05.32.06_MD590_2_0140_cropped_gray_patch_locations.txt\n"
     ]
    },
    {
     "name": "stderr",
     "output_type": "stream",
     "text": [
      "Child returned 0\n"
     ]
    },
    {
     "name": "stdout",
     "output_type": "stream",
     "text": [
      "/shared/CSHL_patch_features/inception-bn-blue/MD590/MD590-IHC61-2015.08.10-22.18.21_MD590_1_0183_lossless_alignedTo_MD590-N47-2015.09.12-05.32.06_MD590_2_0140_cropped/MD590-IHC61-2015.08.10-22.18.21_MD590_1_0183_lossless_alignedTo_MD590-N47-2015.09.12-05.32.06_MD590_2_0140_cropped_features.bp\n",
      "/shared/CSHL_patch_features/inception-bn-blue/MD590/MD590_lossless_alignedTo_MD590-N47-2015.09.12-05.32.06_MD590_2_0140_cropped_gray/MD590-IHC61-2015.08.10-22.18.21_MD590_1_0183_lossless_alignedTo_MD590-N47-2015.09.12-05.32.06_MD590_2_0140_cropped_gray_features.bp\n",
      "aws s3 cp s3://mousebrainatlas-data/CSHL_patch_features/inception-bn-blue/MD590/MD590-IHC61-2015.08.10-22.18.21_MD590_1_0183_lossless_alignedTo_MD590-N47-2015.09.12-05.32.06_MD590_2_0140_cropped/MD590-IHC61-2015.08.10-22.18.21_MD590_1_0183_lossless_alignedTo_MD590-N47-2015.09.12-05.32.06_MD590_2_0140_cropped_features.bp s3://mousebrainatlas-data/CSHL_patch_features/inception-bn-blue/MD590/MD590_lossless_alignedTo_MD590-N47-2015.09.12-05.32.06_MD590_2_0140_cropped_gray/MD590-IHC61-2015.08.10-22.18.21_MD590_1_0183_lossless_alignedTo_MD590-N47-2015.09.12-05.32.06_MD590_2_0140_cropped_gray_features.bp\n"
     ]
    },
    {
     "name": "stderr",
     "output_type": "stream",
     "text": [
      "Child returned 0\n"
     ]
    },
    {
     "name": "stdout",
     "output_type": "stream",
     "text": [
      "/shared/CSHL_patch_features/inception-bn-blue/MD590/MD590-IHC61-2015.08.10-22.18.21_MD590_1_0183_lossless_alignedTo_MD590-N47-2015.09.12-05.32.06_MD590_2_0140_cropped/MD590-IHC61-2015.08.10-22.18.21_MD590_1_0183_lossless_alignedTo_MD590-N47-2015.09.12-05.32.06_MD590_2_0140_cropped_patch_locations.txt\n",
      "/shared/CSHL_patch_features/inception-bn-blue/MD590/MD590_lossless_alignedTo_MD590-N47-2015.09.12-05.32.06_MD590_2_0140_cropped_gray/MD590-IHC61-2015.08.10-22.18.21_MD590_1_0183_lossless_alignedTo_MD590-N47-2015.09.12-05.32.06_MD590_2_0140_cropped_gray_patch_locations.txt\n",
      "aws s3 cp s3://mousebrainatlas-data/CSHL_patch_features/inception-bn-blue/MD590/MD590-IHC61-2015.08.10-22.18.21_MD590_1_0183_lossless_alignedTo_MD590-N47-2015.09.12-05.32.06_MD590_2_0140_cropped/MD590-IHC61-2015.08.10-22.18.21_MD590_1_0183_lossless_alignedTo_MD590-N47-2015.09.12-05.32.06_MD590_2_0140_cropped_patch_locations.txt s3://mousebrainatlas-data/CSHL_patch_features/inception-bn-blue/MD590/MD590_lossless_alignedTo_MD590-N47-2015.09.12-05.32.06_MD590_2_0140_cropped_gray/MD590-IHC61-2015.08.10-22.18.21_MD590_1_0183_lossless_alignedTo_MD590-N47-2015.09.12-05.32.06_MD590_2_0140_cropped_gray_patch_locations.txt\n"
     ]
    },
    {
     "name": "stderr",
     "output_type": "stream",
     "text": [
      "Child returned 0\n"
     ]
    },
    {
     "name": "stdout",
     "output_type": "stream",
     "text": [
      "/shared/CSHL_patch_features/inception-bn-blue/MD590/MD590-N62-2015.08.03-21.08.37_MD590_3_0184_lossless_alignedTo_MD590-N47-2015.09.12-05.32.06_MD590_2_0140_cropped/MD590-N62-2015.08.03-21.08.37_MD590_3_0184_lossless_alignedTo_MD590-N47-2015.09.12-05.32.06_MD590_2_0140_cropped_features.bp\n",
      "/shared/CSHL_patch_features/inception-bn-blue/MD590/MD590_lossless_alignedTo_MD590-N47-2015.09.12-05.32.06_MD590_2_0140_cropped_gray/MD590-N62-2015.08.03-21.08.37_MD590_3_0184_lossless_alignedTo_MD590-N47-2015.09.12-05.32.06_MD590_2_0140_cropped_gray_features.bp\n",
      "aws s3 cp s3://mousebrainatlas-data/CSHL_patch_features/inception-bn-blue/MD590/MD590-N62-2015.08.03-21.08.37_MD590_3_0184_lossless_alignedTo_MD590-N47-2015.09.12-05.32.06_MD590_2_0140_cropped/MD590-N62-2015.08.03-21.08.37_MD590_3_0184_lossless_alignedTo_MD590-N47-2015.09.12-05.32.06_MD590_2_0140_cropped_features.bp s3://mousebrainatlas-data/CSHL_patch_features/inception-bn-blue/MD590/MD590_lossless_alignedTo_MD590-N47-2015.09.12-05.32.06_MD590_2_0140_cropped_gray/MD590-N62-2015.08.03-21.08.37_MD590_3_0184_lossless_alignedTo_MD590-N47-2015.09.12-05.32.06_MD590_2_0140_cropped_gray_features.bp\n"
     ]
    },
    {
     "name": "stderr",
     "output_type": "stream",
     "text": [
      "Child returned 0\n"
     ]
    },
    {
     "name": "stdout",
     "output_type": "stream",
     "text": [
      "/shared/CSHL_patch_features/inception-bn-blue/MD590/MD590-N62-2015.08.03-21.08.37_MD590_3_0184_lossless_alignedTo_MD590-N47-2015.09.12-05.32.06_MD590_2_0140_cropped/MD590-N62-2015.08.03-21.08.37_MD590_3_0184_lossless_alignedTo_MD590-N47-2015.09.12-05.32.06_MD590_2_0140_cropped_patch_locations.txt\n",
      "/shared/CSHL_patch_features/inception-bn-blue/MD590/MD590_lossless_alignedTo_MD590-N47-2015.09.12-05.32.06_MD590_2_0140_cropped_gray/MD590-N62-2015.08.03-21.08.37_MD590_3_0184_lossless_alignedTo_MD590-N47-2015.09.12-05.32.06_MD590_2_0140_cropped_gray_patch_locations.txt\n",
      "aws s3 cp s3://mousebrainatlas-data/CSHL_patch_features/inception-bn-blue/MD590/MD590-N62-2015.08.03-21.08.37_MD590_3_0184_lossless_alignedTo_MD590-N47-2015.09.12-05.32.06_MD590_2_0140_cropped/MD590-N62-2015.08.03-21.08.37_MD590_3_0184_lossless_alignedTo_MD590-N47-2015.09.12-05.32.06_MD590_2_0140_cropped_patch_locations.txt s3://mousebrainatlas-data/CSHL_patch_features/inception-bn-blue/MD590/MD590_lossless_alignedTo_MD590-N47-2015.09.12-05.32.06_MD590_2_0140_cropped_gray/MD590-N62-2015.08.03-21.08.37_MD590_3_0184_lossless_alignedTo_MD590-N47-2015.09.12-05.32.06_MD590_2_0140_cropped_gray_patch_locations.txt\n"
     ]
    },
    {
     "name": "stderr",
     "output_type": "stream",
     "text": [
      "Child returned 0\n"
     ]
    },
    {
     "name": "stdout",
     "output_type": "stream",
     "text": [
      "/shared/CSHL_patch_features/inception-bn-blue/MD590/MD590-IHC62-2015.08.10-22.22.52_MD590_3_0184_lossless_alignedTo_MD590-N47-2015.09.12-05.32.06_MD590_2_0140_cropped/MD590-IHC62-2015.08.10-22.22.52_MD590_3_0184_lossless_alignedTo_MD590-N47-2015.09.12-05.32.06_MD590_2_0140_cropped_features.bp\n",
      "/shared/CSHL_patch_features/inception-bn-blue/MD590/MD590_lossless_alignedTo_MD590-N47-2015.09.12-05.32.06_MD590_2_0140_cropped_gray/MD590-IHC62-2015.08.10-22.22.52_MD590_3_0184_lossless_alignedTo_MD590-N47-2015.09.12-05.32.06_MD590_2_0140_cropped_gray_features.bp\n",
      "aws s3 cp s3://mousebrainatlas-data/CSHL_patch_features/inception-bn-blue/MD590/MD590-IHC62-2015.08.10-22.22.52_MD590_3_0184_lossless_alignedTo_MD590-N47-2015.09.12-05.32.06_MD590_2_0140_cropped/MD590-IHC62-2015.08.10-22.22.52_MD590_3_0184_lossless_alignedTo_MD590-N47-2015.09.12-05.32.06_MD590_2_0140_cropped_features.bp s3://mousebrainatlas-data/CSHL_patch_features/inception-bn-blue/MD590/MD590_lossless_alignedTo_MD590-N47-2015.09.12-05.32.06_MD590_2_0140_cropped_gray/MD590-IHC62-2015.08.10-22.22.52_MD590_3_0184_lossless_alignedTo_MD590-N47-2015.09.12-05.32.06_MD590_2_0140_cropped_gray_features.bp\n"
     ]
    },
    {
     "name": "stderr",
     "output_type": "stream",
     "text": [
      "Child returned 0\n"
     ]
    },
    {
     "name": "stdout",
     "output_type": "stream",
     "text": [
      "/shared/CSHL_patch_features/inception-bn-blue/MD590/MD590-IHC62-2015.08.10-22.22.52_MD590_3_0184_lossless_alignedTo_MD590-N47-2015.09.12-05.32.06_MD590_2_0140_cropped/MD590-IHC62-2015.08.10-22.22.52_MD590_3_0184_lossless_alignedTo_MD590-N47-2015.09.12-05.32.06_MD590_2_0140_cropped_patch_locations.txt\n",
      "/shared/CSHL_patch_features/inception-bn-blue/MD590/MD590_lossless_alignedTo_MD590-N47-2015.09.12-05.32.06_MD590_2_0140_cropped_gray/MD590-IHC62-2015.08.10-22.22.52_MD590_3_0184_lossless_alignedTo_MD590-N47-2015.09.12-05.32.06_MD590_2_0140_cropped_gray_patch_locations.txt\n",
      "aws s3 cp s3://mousebrainatlas-data/CSHL_patch_features/inception-bn-blue/MD590/MD590-IHC62-2015.08.10-22.22.52_MD590_3_0184_lossless_alignedTo_MD590-N47-2015.09.12-05.32.06_MD590_2_0140_cropped/MD590-IHC62-2015.08.10-22.22.52_MD590_3_0184_lossless_alignedTo_MD590-N47-2015.09.12-05.32.06_MD590_2_0140_cropped_patch_locations.txt s3://mousebrainatlas-data/CSHL_patch_features/inception-bn-blue/MD590/MD590_lossless_alignedTo_MD590-N47-2015.09.12-05.32.06_MD590_2_0140_cropped_gray/MD590-IHC62-2015.08.10-22.22.52_MD590_3_0184_lossless_alignedTo_MD590-N47-2015.09.12-05.32.06_MD590_2_0140_cropped_gray_patch_locations.txt\n"
     ]
    },
    {
     "name": "stderr",
     "output_type": "stream",
     "text": [
      "Child returned 0\n"
     ]
    },
    {
     "name": "stdout",
     "output_type": "stream",
     "text": [
      "/shared/CSHL_patch_features/inception-bn-blue/MD590/MD590-N62-2015.08.03-21.08.37_MD590_2_0185_lossless_alignedTo_MD590-N47-2015.09.12-05.32.06_MD590_2_0140_cropped/MD590-N62-2015.08.03-21.08.37_MD590_2_0185_lossless_alignedTo_MD590-N47-2015.09.12-05.32.06_MD590_2_0140_cropped_features.bp\n",
      "/shared/CSHL_patch_features/inception-bn-blue/MD590/MD590_lossless_alignedTo_MD590-N47-2015.09.12-05.32.06_MD590_2_0140_cropped_gray/MD590-N62-2015.08.03-21.08.37_MD590_2_0185_lossless_alignedTo_MD590-N47-2015.09.12-05.32.06_MD590_2_0140_cropped_gray_features.bp\n",
      "aws s3 cp s3://mousebrainatlas-data/CSHL_patch_features/inception-bn-blue/MD590/MD590-N62-2015.08.03-21.08.37_MD590_2_0185_lossless_alignedTo_MD590-N47-2015.09.12-05.32.06_MD590_2_0140_cropped/MD590-N62-2015.08.03-21.08.37_MD590_2_0185_lossless_alignedTo_MD590-N47-2015.09.12-05.32.06_MD590_2_0140_cropped_features.bp s3://mousebrainatlas-data/CSHL_patch_features/inception-bn-blue/MD590/MD590_lossless_alignedTo_MD590-N47-2015.09.12-05.32.06_MD590_2_0140_cropped_gray/MD590-N62-2015.08.03-21.08.37_MD590_2_0185_lossless_alignedTo_MD590-N47-2015.09.12-05.32.06_MD590_2_0140_cropped_gray_features.bp\n"
     ]
    },
    {
     "name": "stderr",
     "output_type": "stream",
     "text": [
      "Child returned 0\n"
     ]
    },
    {
     "name": "stdout",
     "output_type": "stream",
     "text": [
      "/shared/CSHL_patch_features/inception-bn-blue/MD590/MD590-N62-2015.08.03-21.08.37_MD590_2_0185_lossless_alignedTo_MD590-N47-2015.09.12-05.32.06_MD590_2_0140_cropped/MD590-N62-2015.08.03-21.08.37_MD590_2_0185_lossless_alignedTo_MD590-N47-2015.09.12-05.32.06_MD590_2_0140_cropped_patch_locations.txt\n",
      "/shared/CSHL_patch_features/inception-bn-blue/MD590/MD590_lossless_alignedTo_MD590-N47-2015.09.12-05.32.06_MD590_2_0140_cropped_gray/MD590-N62-2015.08.03-21.08.37_MD590_2_0185_lossless_alignedTo_MD590-N47-2015.09.12-05.32.06_MD590_2_0140_cropped_gray_patch_locations.txt\n",
      "aws s3 cp s3://mousebrainatlas-data/CSHL_patch_features/inception-bn-blue/MD590/MD590-N62-2015.08.03-21.08.37_MD590_2_0185_lossless_alignedTo_MD590-N47-2015.09.12-05.32.06_MD590_2_0140_cropped/MD590-N62-2015.08.03-21.08.37_MD590_2_0185_lossless_alignedTo_MD590-N47-2015.09.12-05.32.06_MD590_2_0140_cropped_patch_locations.txt s3://mousebrainatlas-data/CSHL_patch_features/inception-bn-blue/MD590/MD590_lossless_alignedTo_MD590-N47-2015.09.12-05.32.06_MD590_2_0140_cropped_gray/MD590-N62-2015.08.03-21.08.37_MD590_2_0185_lossless_alignedTo_MD590-N47-2015.09.12-05.32.06_MD590_2_0140_cropped_gray_patch_locations.txt\n"
     ]
    },
    {
     "name": "stderr",
     "output_type": "stream",
     "text": [
      "Child returned 0\n"
     ]
    },
    {
     "name": "stdout",
     "output_type": "stream",
     "text": [
      "/shared/CSHL_patch_features/inception-bn-blue/MD590/MD590-IHC62-2015.08.10-22.22.52_MD590_2_0185_lossless_alignedTo_MD590-N47-2015.09.12-05.32.06_MD590_2_0140_cropped/MD590-IHC62-2015.08.10-22.22.52_MD590_2_0185_lossless_alignedTo_MD590-N47-2015.09.12-05.32.06_MD590_2_0140_cropped_features.bp\n",
      "/shared/CSHL_patch_features/inception-bn-blue/MD590/MD590_lossless_alignedTo_MD590-N47-2015.09.12-05.32.06_MD590_2_0140_cropped_gray/MD590-IHC62-2015.08.10-22.22.52_MD590_2_0185_lossless_alignedTo_MD590-N47-2015.09.12-05.32.06_MD590_2_0140_cropped_gray_features.bp\n",
      "aws s3 cp s3://mousebrainatlas-data/CSHL_patch_features/inception-bn-blue/MD590/MD590-IHC62-2015.08.10-22.22.52_MD590_2_0185_lossless_alignedTo_MD590-N47-2015.09.12-05.32.06_MD590_2_0140_cropped/MD590-IHC62-2015.08.10-22.22.52_MD590_2_0185_lossless_alignedTo_MD590-N47-2015.09.12-05.32.06_MD590_2_0140_cropped_features.bp s3://mousebrainatlas-data/CSHL_patch_features/inception-bn-blue/MD590/MD590_lossless_alignedTo_MD590-N47-2015.09.12-05.32.06_MD590_2_0140_cropped_gray/MD590-IHC62-2015.08.10-22.22.52_MD590_2_0185_lossless_alignedTo_MD590-N47-2015.09.12-05.32.06_MD590_2_0140_cropped_gray_features.bp\n"
     ]
    },
    {
     "name": "stderr",
     "output_type": "stream",
     "text": [
      "Child returned 0\n"
     ]
    },
    {
     "name": "stdout",
     "output_type": "stream",
     "text": [
      "/shared/CSHL_patch_features/inception-bn-blue/MD590/MD590-IHC62-2015.08.10-22.22.52_MD590_2_0185_lossless_alignedTo_MD590-N47-2015.09.12-05.32.06_MD590_2_0140_cropped/MD590-IHC62-2015.08.10-22.22.52_MD590_2_0185_lossless_alignedTo_MD590-N47-2015.09.12-05.32.06_MD590_2_0140_cropped_patch_locations.txt\n",
      "/shared/CSHL_patch_features/inception-bn-blue/MD590/MD590_lossless_alignedTo_MD590-N47-2015.09.12-05.32.06_MD590_2_0140_cropped_gray/MD590-IHC62-2015.08.10-22.22.52_MD590_2_0185_lossless_alignedTo_MD590-N47-2015.09.12-05.32.06_MD590_2_0140_cropped_gray_patch_locations.txt\n",
      "aws s3 cp s3://mousebrainatlas-data/CSHL_patch_features/inception-bn-blue/MD590/MD590-IHC62-2015.08.10-22.22.52_MD590_2_0185_lossless_alignedTo_MD590-N47-2015.09.12-05.32.06_MD590_2_0140_cropped/MD590-IHC62-2015.08.10-22.22.52_MD590_2_0185_lossless_alignedTo_MD590-N47-2015.09.12-05.32.06_MD590_2_0140_cropped_patch_locations.txt s3://mousebrainatlas-data/CSHL_patch_features/inception-bn-blue/MD590/MD590_lossless_alignedTo_MD590-N47-2015.09.12-05.32.06_MD590_2_0140_cropped_gray/MD590-IHC62-2015.08.10-22.22.52_MD590_2_0185_lossless_alignedTo_MD590-N47-2015.09.12-05.32.06_MD590_2_0140_cropped_gray_patch_locations.txt\n"
     ]
    },
    {
     "name": "stderr",
     "output_type": "stream",
     "text": [
      "Child returned 0\n"
     ]
    },
    {
     "name": "stdout",
     "output_type": "stream",
     "text": [
      "/shared/CSHL_patch_features/inception-bn-blue/MD590/MD590-N62-2015.08.03-21.08.37_MD590_1_0186_lossless_alignedTo_MD590-N47-2015.09.12-05.32.06_MD590_2_0140_cropped/MD590-N62-2015.08.03-21.08.37_MD590_1_0186_lossless_alignedTo_MD590-N47-2015.09.12-05.32.06_MD590_2_0140_cropped_features.bp\n",
      "/shared/CSHL_patch_features/inception-bn-blue/MD590/MD590_lossless_alignedTo_MD590-N47-2015.09.12-05.32.06_MD590_2_0140_cropped_gray/MD590-N62-2015.08.03-21.08.37_MD590_1_0186_lossless_alignedTo_MD590-N47-2015.09.12-05.32.06_MD590_2_0140_cropped_gray_features.bp\n",
      "aws s3 cp s3://mousebrainatlas-data/CSHL_patch_features/inception-bn-blue/MD590/MD590-N62-2015.08.03-21.08.37_MD590_1_0186_lossless_alignedTo_MD590-N47-2015.09.12-05.32.06_MD590_2_0140_cropped/MD590-N62-2015.08.03-21.08.37_MD590_1_0186_lossless_alignedTo_MD590-N47-2015.09.12-05.32.06_MD590_2_0140_cropped_features.bp s3://mousebrainatlas-data/CSHL_patch_features/inception-bn-blue/MD590/MD590_lossless_alignedTo_MD590-N47-2015.09.12-05.32.06_MD590_2_0140_cropped_gray/MD590-N62-2015.08.03-21.08.37_MD590_1_0186_lossless_alignedTo_MD590-N47-2015.09.12-05.32.06_MD590_2_0140_cropped_gray_features.bp\n"
     ]
    },
    {
     "name": "stderr",
     "output_type": "stream",
     "text": [
      "Child returned 0\n"
     ]
    },
    {
     "name": "stdout",
     "output_type": "stream",
     "text": [
      "/shared/CSHL_patch_features/inception-bn-blue/MD590/MD590-N62-2015.08.03-21.08.37_MD590_1_0186_lossless_alignedTo_MD590-N47-2015.09.12-05.32.06_MD590_2_0140_cropped/MD590-N62-2015.08.03-21.08.37_MD590_1_0186_lossless_alignedTo_MD590-N47-2015.09.12-05.32.06_MD590_2_0140_cropped_patch_locations.txt\n",
      "/shared/CSHL_patch_features/inception-bn-blue/MD590/MD590_lossless_alignedTo_MD590-N47-2015.09.12-05.32.06_MD590_2_0140_cropped_gray/MD590-N62-2015.08.03-21.08.37_MD590_1_0186_lossless_alignedTo_MD590-N47-2015.09.12-05.32.06_MD590_2_0140_cropped_gray_patch_locations.txt\n",
      "aws s3 cp s3://mousebrainatlas-data/CSHL_patch_features/inception-bn-blue/MD590/MD590-N62-2015.08.03-21.08.37_MD590_1_0186_lossless_alignedTo_MD590-N47-2015.09.12-05.32.06_MD590_2_0140_cropped/MD590-N62-2015.08.03-21.08.37_MD590_1_0186_lossless_alignedTo_MD590-N47-2015.09.12-05.32.06_MD590_2_0140_cropped_patch_locations.txt s3://mousebrainatlas-data/CSHL_patch_features/inception-bn-blue/MD590/MD590_lossless_alignedTo_MD590-N47-2015.09.12-05.32.06_MD590_2_0140_cropped_gray/MD590-N62-2015.08.03-21.08.37_MD590_1_0186_lossless_alignedTo_MD590-N47-2015.09.12-05.32.06_MD590_2_0140_cropped_gray_patch_locations.txt\n"
     ]
    },
    {
     "name": "stderr",
     "output_type": "stream",
     "text": [
      "Child returned 0\n"
     ]
    },
    {
     "name": "stdout",
     "output_type": "stream",
     "text": [
      "/shared/CSHL_patch_features/inception-bn-blue/MD590/MD590-IHC62-2015.08.10-22.22.52_MD590_1_0186_lossless_alignedTo_MD590-N47-2015.09.12-05.32.06_MD590_2_0140_cropped/MD590-IHC62-2015.08.10-22.22.52_MD590_1_0186_lossless_alignedTo_MD590-N47-2015.09.12-05.32.06_MD590_2_0140_cropped_features.bp\n",
      "/shared/CSHL_patch_features/inception-bn-blue/MD590/MD590_lossless_alignedTo_MD590-N47-2015.09.12-05.32.06_MD590_2_0140_cropped_gray/MD590-IHC62-2015.08.10-22.22.52_MD590_1_0186_lossless_alignedTo_MD590-N47-2015.09.12-05.32.06_MD590_2_0140_cropped_gray_features.bp\n",
      "aws s3 cp s3://mousebrainatlas-data/CSHL_patch_features/inception-bn-blue/MD590/MD590-IHC62-2015.08.10-22.22.52_MD590_1_0186_lossless_alignedTo_MD590-N47-2015.09.12-05.32.06_MD590_2_0140_cropped/MD590-IHC62-2015.08.10-22.22.52_MD590_1_0186_lossless_alignedTo_MD590-N47-2015.09.12-05.32.06_MD590_2_0140_cropped_features.bp s3://mousebrainatlas-data/CSHL_patch_features/inception-bn-blue/MD590/MD590_lossless_alignedTo_MD590-N47-2015.09.12-05.32.06_MD590_2_0140_cropped_gray/MD590-IHC62-2015.08.10-22.22.52_MD590_1_0186_lossless_alignedTo_MD590-N47-2015.09.12-05.32.06_MD590_2_0140_cropped_gray_features.bp\n"
     ]
    },
    {
     "name": "stderr",
     "output_type": "stream",
     "text": [
      "Child returned 0\n"
     ]
    },
    {
     "name": "stdout",
     "output_type": "stream",
     "text": [
      "/shared/CSHL_patch_features/inception-bn-blue/MD590/MD590-IHC62-2015.08.10-22.22.52_MD590_1_0186_lossless_alignedTo_MD590-N47-2015.09.12-05.32.06_MD590_2_0140_cropped/MD590-IHC62-2015.08.10-22.22.52_MD590_1_0186_lossless_alignedTo_MD590-N47-2015.09.12-05.32.06_MD590_2_0140_cropped_patch_locations.txt\n",
      "/shared/CSHL_patch_features/inception-bn-blue/MD590/MD590_lossless_alignedTo_MD590-N47-2015.09.12-05.32.06_MD590_2_0140_cropped_gray/MD590-IHC62-2015.08.10-22.22.52_MD590_1_0186_lossless_alignedTo_MD590-N47-2015.09.12-05.32.06_MD590_2_0140_cropped_gray_patch_locations.txt\n",
      "aws s3 cp s3://mousebrainatlas-data/CSHL_patch_features/inception-bn-blue/MD590/MD590-IHC62-2015.08.10-22.22.52_MD590_1_0186_lossless_alignedTo_MD590-N47-2015.09.12-05.32.06_MD590_2_0140_cropped/MD590-IHC62-2015.08.10-22.22.52_MD590_1_0186_lossless_alignedTo_MD590-N47-2015.09.12-05.32.06_MD590_2_0140_cropped_patch_locations.txt s3://mousebrainatlas-data/CSHL_patch_features/inception-bn-blue/MD590/MD590_lossless_alignedTo_MD590-N47-2015.09.12-05.32.06_MD590_2_0140_cropped_gray/MD590-IHC62-2015.08.10-22.22.52_MD590_1_0186_lossless_alignedTo_MD590-N47-2015.09.12-05.32.06_MD590_2_0140_cropped_gray_patch_locations.txt\n"
     ]
    },
    {
     "name": "stderr",
     "output_type": "stream",
     "text": [
      "Child returned 0\n"
     ]
    },
    {
     "name": "stdout",
     "output_type": "stream",
     "text": [
      "/shared/CSHL_patch_features/inception-bn-blue/MD590/MD590-N63-2015.08.03-21.13.04_MD590_3_0187_lossless_alignedTo_MD590-N47-2015.09.12-05.32.06_MD590_2_0140_cropped/MD590-N63-2015.08.03-21.13.04_MD590_3_0187_lossless_alignedTo_MD590-N47-2015.09.12-05.32.06_MD590_2_0140_cropped_features.bp\n",
      "/shared/CSHL_patch_features/inception-bn-blue/MD590/MD590_lossless_alignedTo_MD590-N47-2015.09.12-05.32.06_MD590_2_0140_cropped_gray/MD590-N63-2015.08.03-21.13.04_MD590_3_0187_lossless_alignedTo_MD590-N47-2015.09.12-05.32.06_MD590_2_0140_cropped_gray_features.bp\n",
      "aws s3 cp s3://mousebrainatlas-data/CSHL_patch_features/inception-bn-blue/MD590/MD590-N63-2015.08.03-21.13.04_MD590_3_0187_lossless_alignedTo_MD590-N47-2015.09.12-05.32.06_MD590_2_0140_cropped/MD590-N63-2015.08.03-21.13.04_MD590_3_0187_lossless_alignedTo_MD590-N47-2015.09.12-05.32.06_MD590_2_0140_cropped_features.bp s3://mousebrainatlas-data/CSHL_patch_features/inception-bn-blue/MD590/MD590_lossless_alignedTo_MD590-N47-2015.09.12-05.32.06_MD590_2_0140_cropped_gray/MD590-N63-2015.08.03-21.13.04_MD590_3_0187_lossless_alignedTo_MD590-N47-2015.09.12-05.32.06_MD590_2_0140_cropped_gray_features.bp\n"
     ]
    },
    {
     "name": "stderr",
     "output_type": "stream",
     "text": [
      "Child returned 0\n"
     ]
    },
    {
     "name": "stdout",
     "output_type": "stream",
     "text": [
      "/shared/CSHL_patch_features/inception-bn-blue/MD590/MD590-N63-2015.08.03-21.13.04_MD590_3_0187_lossless_alignedTo_MD590-N47-2015.09.12-05.32.06_MD590_2_0140_cropped/MD590-N63-2015.08.03-21.13.04_MD590_3_0187_lossless_alignedTo_MD590-N47-2015.09.12-05.32.06_MD590_2_0140_cropped_patch_locations.txt\n",
      "/shared/CSHL_patch_features/inception-bn-blue/MD590/MD590_lossless_alignedTo_MD590-N47-2015.09.12-05.32.06_MD590_2_0140_cropped_gray/MD590-N63-2015.08.03-21.13.04_MD590_3_0187_lossless_alignedTo_MD590-N47-2015.09.12-05.32.06_MD590_2_0140_cropped_gray_patch_locations.txt\n",
      "aws s3 cp s3://mousebrainatlas-data/CSHL_patch_features/inception-bn-blue/MD590/MD590-N63-2015.08.03-21.13.04_MD590_3_0187_lossless_alignedTo_MD590-N47-2015.09.12-05.32.06_MD590_2_0140_cropped/MD590-N63-2015.08.03-21.13.04_MD590_3_0187_lossless_alignedTo_MD590-N47-2015.09.12-05.32.06_MD590_2_0140_cropped_patch_locations.txt s3://mousebrainatlas-data/CSHL_patch_features/inception-bn-blue/MD590/MD590_lossless_alignedTo_MD590-N47-2015.09.12-05.32.06_MD590_2_0140_cropped_gray/MD590-N63-2015.08.03-21.13.04_MD590_3_0187_lossless_alignedTo_MD590-N47-2015.09.12-05.32.06_MD590_2_0140_cropped_gray_patch_locations.txt\n"
     ]
    },
    {
     "name": "stderr",
     "output_type": "stream",
     "text": [
      "Child returned 0\n"
     ]
    },
    {
     "name": "stdout",
     "output_type": "stream",
     "text": [
      "/shared/CSHL_patch_features/inception-bn-blue/MD590/MD590-IHC63-2015.08.10-22.27.12_MD590_3_0187_lossless_alignedTo_MD590-N47-2015.09.12-05.32.06_MD590_2_0140_cropped/MD590-IHC63-2015.08.10-22.27.12_MD590_3_0187_lossless_alignedTo_MD590-N47-2015.09.12-05.32.06_MD590_2_0140_cropped_features.bp\n",
      "/shared/CSHL_patch_features/inception-bn-blue/MD590/MD590_lossless_alignedTo_MD590-N47-2015.09.12-05.32.06_MD590_2_0140_cropped_gray/MD590-IHC63-2015.08.10-22.27.12_MD590_3_0187_lossless_alignedTo_MD590-N47-2015.09.12-05.32.06_MD590_2_0140_cropped_gray_features.bp\n",
      "aws s3 cp s3://mousebrainatlas-data/CSHL_patch_features/inception-bn-blue/MD590/MD590-IHC63-2015.08.10-22.27.12_MD590_3_0187_lossless_alignedTo_MD590-N47-2015.09.12-05.32.06_MD590_2_0140_cropped/MD590-IHC63-2015.08.10-22.27.12_MD590_3_0187_lossless_alignedTo_MD590-N47-2015.09.12-05.32.06_MD590_2_0140_cropped_features.bp s3://mousebrainatlas-data/CSHL_patch_features/inception-bn-blue/MD590/MD590_lossless_alignedTo_MD590-N47-2015.09.12-05.32.06_MD590_2_0140_cropped_gray/MD590-IHC63-2015.08.10-22.27.12_MD590_3_0187_lossless_alignedTo_MD590-N47-2015.09.12-05.32.06_MD590_2_0140_cropped_gray_features.bp\n"
     ]
    },
    {
     "name": "stderr",
     "output_type": "stream",
     "text": [
      "Child returned 0\n"
     ]
    },
    {
     "name": "stdout",
     "output_type": "stream",
     "text": [
      "/shared/CSHL_patch_features/inception-bn-blue/MD590/MD590-IHC63-2015.08.10-22.27.12_MD590_3_0187_lossless_alignedTo_MD590-N47-2015.09.12-05.32.06_MD590_2_0140_cropped/MD590-IHC63-2015.08.10-22.27.12_MD590_3_0187_lossless_alignedTo_MD590-N47-2015.09.12-05.32.06_MD590_2_0140_cropped_patch_locations.txt\n",
      "/shared/CSHL_patch_features/inception-bn-blue/MD590/MD590_lossless_alignedTo_MD590-N47-2015.09.12-05.32.06_MD590_2_0140_cropped_gray/MD590-IHC63-2015.08.10-22.27.12_MD590_3_0187_lossless_alignedTo_MD590-N47-2015.09.12-05.32.06_MD590_2_0140_cropped_gray_patch_locations.txt\n",
      "aws s3 cp s3://mousebrainatlas-data/CSHL_patch_features/inception-bn-blue/MD590/MD590-IHC63-2015.08.10-22.27.12_MD590_3_0187_lossless_alignedTo_MD590-N47-2015.09.12-05.32.06_MD590_2_0140_cropped/MD590-IHC63-2015.08.10-22.27.12_MD590_3_0187_lossless_alignedTo_MD590-N47-2015.09.12-05.32.06_MD590_2_0140_cropped_patch_locations.txt s3://mousebrainatlas-data/CSHL_patch_features/inception-bn-blue/MD590/MD590_lossless_alignedTo_MD590-N47-2015.09.12-05.32.06_MD590_2_0140_cropped_gray/MD590-IHC63-2015.08.10-22.27.12_MD590_3_0187_lossless_alignedTo_MD590-N47-2015.09.12-05.32.06_MD590_2_0140_cropped_gray_patch_locations.txt\n"
     ]
    },
    {
     "name": "stderr",
     "output_type": "stream",
     "text": [
      "Child returned 0\n"
     ]
    },
    {
     "name": "stdout",
     "output_type": "stream",
     "text": [
      "/shared/CSHL_patch_features/inception-bn-blue/MD590/MD590-N63-2015.08.03-21.13.04_MD590_2_0188_lossless_alignedTo_MD590-N47-2015.09.12-05.32.06_MD590_2_0140_cropped/MD590-N63-2015.08.03-21.13.04_MD590_2_0188_lossless_alignedTo_MD590-N47-2015.09.12-05.32.06_MD590_2_0140_cropped_features.bp\n",
      "/shared/CSHL_patch_features/inception-bn-blue/MD590/MD590_lossless_alignedTo_MD590-N47-2015.09.12-05.32.06_MD590_2_0140_cropped_gray/MD590-N63-2015.08.03-21.13.04_MD590_2_0188_lossless_alignedTo_MD590-N47-2015.09.12-05.32.06_MD590_2_0140_cropped_gray_features.bp\n",
      "aws s3 cp s3://mousebrainatlas-data/CSHL_patch_features/inception-bn-blue/MD590/MD590-N63-2015.08.03-21.13.04_MD590_2_0188_lossless_alignedTo_MD590-N47-2015.09.12-05.32.06_MD590_2_0140_cropped/MD590-N63-2015.08.03-21.13.04_MD590_2_0188_lossless_alignedTo_MD590-N47-2015.09.12-05.32.06_MD590_2_0140_cropped_features.bp s3://mousebrainatlas-data/CSHL_patch_features/inception-bn-blue/MD590/MD590_lossless_alignedTo_MD590-N47-2015.09.12-05.32.06_MD590_2_0140_cropped_gray/MD590-N63-2015.08.03-21.13.04_MD590_2_0188_lossless_alignedTo_MD590-N47-2015.09.12-05.32.06_MD590_2_0140_cropped_gray_features.bp\n"
     ]
    },
    {
     "name": "stderr",
     "output_type": "stream",
     "text": [
      "Child returned 0\n"
     ]
    },
    {
     "name": "stdout",
     "output_type": "stream",
     "text": [
      "/shared/CSHL_patch_features/inception-bn-blue/MD590/MD590-N63-2015.08.03-21.13.04_MD590_2_0188_lossless_alignedTo_MD590-N47-2015.09.12-05.32.06_MD590_2_0140_cropped/MD590-N63-2015.08.03-21.13.04_MD590_2_0188_lossless_alignedTo_MD590-N47-2015.09.12-05.32.06_MD590_2_0140_cropped_patch_locations.txt\n",
      "/shared/CSHL_patch_features/inception-bn-blue/MD590/MD590_lossless_alignedTo_MD590-N47-2015.09.12-05.32.06_MD590_2_0140_cropped_gray/MD590-N63-2015.08.03-21.13.04_MD590_2_0188_lossless_alignedTo_MD590-N47-2015.09.12-05.32.06_MD590_2_0140_cropped_gray_patch_locations.txt\n",
      "aws s3 cp s3://mousebrainatlas-data/CSHL_patch_features/inception-bn-blue/MD590/MD590-N63-2015.08.03-21.13.04_MD590_2_0188_lossless_alignedTo_MD590-N47-2015.09.12-05.32.06_MD590_2_0140_cropped/MD590-N63-2015.08.03-21.13.04_MD590_2_0188_lossless_alignedTo_MD590-N47-2015.09.12-05.32.06_MD590_2_0140_cropped_patch_locations.txt s3://mousebrainatlas-data/CSHL_patch_features/inception-bn-blue/MD590/MD590_lossless_alignedTo_MD590-N47-2015.09.12-05.32.06_MD590_2_0140_cropped_gray/MD590-N63-2015.08.03-21.13.04_MD590_2_0188_lossless_alignedTo_MD590-N47-2015.09.12-05.32.06_MD590_2_0140_cropped_gray_patch_locations.txt\n"
     ]
    },
    {
     "name": "stderr",
     "output_type": "stream",
     "text": [
      "Child returned 0\n"
     ]
    },
    {
     "name": "stdout",
     "output_type": "stream",
     "text": [
      "/shared/CSHL_patch_features/inception-bn-blue/MD590/MD590-IHC63-2015.08.10-22.27.12_MD590_2_0188_lossless_alignedTo_MD590-N47-2015.09.12-05.32.06_MD590_2_0140_cropped/MD590-IHC63-2015.08.10-22.27.12_MD590_2_0188_lossless_alignedTo_MD590-N47-2015.09.12-05.32.06_MD590_2_0140_cropped_features.bp\n",
      "/shared/CSHL_patch_features/inception-bn-blue/MD590/MD590_lossless_alignedTo_MD590-N47-2015.09.12-05.32.06_MD590_2_0140_cropped_gray/MD590-IHC63-2015.08.10-22.27.12_MD590_2_0188_lossless_alignedTo_MD590-N47-2015.09.12-05.32.06_MD590_2_0140_cropped_gray_features.bp\n",
      "aws s3 cp s3://mousebrainatlas-data/CSHL_patch_features/inception-bn-blue/MD590/MD590-IHC63-2015.08.10-22.27.12_MD590_2_0188_lossless_alignedTo_MD590-N47-2015.09.12-05.32.06_MD590_2_0140_cropped/MD590-IHC63-2015.08.10-22.27.12_MD590_2_0188_lossless_alignedTo_MD590-N47-2015.09.12-05.32.06_MD590_2_0140_cropped_features.bp s3://mousebrainatlas-data/CSHL_patch_features/inception-bn-blue/MD590/MD590_lossless_alignedTo_MD590-N47-2015.09.12-05.32.06_MD590_2_0140_cropped_gray/MD590-IHC63-2015.08.10-22.27.12_MD590_2_0188_lossless_alignedTo_MD590-N47-2015.09.12-05.32.06_MD590_2_0140_cropped_gray_features.bp\n"
     ]
    },
    {
     "name": "stderr",
     "output_type": "stream",
     "text": [
      "Child returned 0\n"
     ]
    },
    {
     "name": "stdout",
     "output_type": "stream",
     "text": [
      "/shared/CSHL_patch_features/inception-bn-blue/MD590/MD590-IHC63-2015.08.10-22.27.12_MD590_2_0188_lossless_alignedTo_MD590-N47-2015.09.12-05.32.06_MD590_2_0140_cropped/MD590-IHC63-2015.08.10-22.27.12_MD590_2_0188_lossless_alignedTo_MD590-N47-2015.09.12-05.32.06_MD590_2_0140_cropped_patch_locations.txt\n",
      "/shared/CSHL_patch_features/inception-bn-blue/MD590/MD590_lossless_alignedTo_MD590-N47-2015.09.12-05.32.06_MD590_2_0140_cropped_gray/MD590-IHC63-2015.08.10-22.27.12_MD590_2_0188_lossless_alignedTo_MD590-N47-2015.09.12-05.32.06_MD590_2_0140_cropped_gray_patch_locations.txt\n",
      "aws s3 cp s3://mousebrainatlas-data/CSHL_patch_features/inception-bn-blue/MD590/MD590-IHC63-2015.08.10-22.27.12_MD590_2_0188_lossless_alignedTo_MD590-N47-2015.09.12-05.32.06_MD590_2_0140_cropped/MD590-IHC63-2015.08.10-22.27.12_MD590_2_0188_lossless_alignedTo_MD590-N47-2015.09.12-05.32.06_MD590_2_0140_cropped_patch_locations.txt s3://mousebrainatlas-data/CSHL_patch_features/inception-bn-blue/MD590/MD590_lossless_alignedTo_MD590-N47-2015.09.12-05.32.06_MD590_2_0140_cropped_gray/MD590-IHC63-2015.08.10-22.27.12_MD590_2_0188_lossless_alignedTo_MD590-N47-2015.09.12-05.32.06_MD590_2_0140_cropped_gray_patch_locations.txt\n"
     ]
    },
    {
     "name": "stderr",
     "output_type": "stream",
     "text": [
      "Child returned 0\n"
     ]
    },
    {
     "name": "stdout",
     "output_type": "stream",
     "text": [
      "/shared/CSHL_patch_features/inception-bn-blue/MD590/MD590-N63-2015.08.03-21.13.04_MD590_1_0189_lossless_alignedTo_MD590-N47-2015.09.12-05.32.06_MD590_2_0140_cropped/MD590-N63-2015.08.03-21.13.04_MD590_1_0189_lossless_alignedTo_MD590-N47-2015.09.12-05.32.06_MD590_2_0140_cropped_features.bp\n",
      "/shared/CSHL_patch_features/inception-bn-blue/MD590/MD590_lossless_alignedTo_MD590-N47-2015.09.12-05.32.06_MD590_2_0140_cropped_gray/MD590-N63-2015.08.03-21.13.04_MD590_1_0189_lossless_alignedTo_MD590-N47-2015.09.12-05.32.06_MD590_2_0140_cropped_gray_features.bp\n",
      "aws s3 cp s3://mousebrainatlas-data/CSHL_patch_features/inception-bn-blue/MD590/MD590-N63-2015.08.03-21.13.04_MD590_1_0189_lossless_alignedTo_MD590-N47-2015.09.12-05.32.06_MD590_2_0140_cropped/MD590-N63-2015.08.03-21.13.04_MD590_1_0189_lossless_alignedTo_MD590-N47-2015.09.12-05.32.06_MD590_2_0140_cropped_features.bp s3://mousebrainatlas-data/CSHL_patch_features/inception-bn-blue/MD590/MD590_lossless_alignedTo_MD590-N47-2015.09.12-05.32.06_MD590_2_0140_cropped_gray/MD590-N63-2015.08.03-21.13.04_MD590_1_0189_lossless_alignedTo_MD590-N47-2015.09.12-05.32.06_MD590_2_0140_cropped_gray_features.bp\n"
     ]
    },
    {
     "name": "stderr",
     "output_type": "stream",
     "text": [
      "Child returned 0\n"
     ]
    },
    {
     "name": "stdout",
     "output_type": "stream",
     "text": [
      "/shared/CSHL_patch_features/inception-bn-blue/MD590/MD590-N63-2015.08.03-21.13.04_MD590_1_0189_lossless_alignedTo_MD590-N47-2015.09.12-05.32.06_MD590_2_0140_cropped/MD590-N63-2015.08.03-21.13.04_MD590_1_0189_lossless_alignedTo_MD590-N47-2015.09.12-05.32.06_MD590_2_0140_cropped_patch_locations.txt\n",
      "/shared/CSHL_patch_features/inception-bn-blue/MD590/MD590_lossless_alignedTo_MD590-N47-2015.09.12-05.32.06_MD590_2_0140_cropped_gray/MD590-N63-2015.08.03-21.13.04_MD590_1_0189_lossless_alignedTo_MD590-N47-2015.09.12-05.32.06_MD590_2_0140_cropped_gray_patch_locations.txt\n",
      "aws s3 cp s3://mousebrainatlas-data/CSHL_patch_features/inception-bn-blue/MD590/MD590-N63-2015.08.03-21.13.04_MD590_1_0189_lossless_alignedTo_MD590-N47-2015.09.12-05.32.06_MD590_2_0140_cropped/MD590-N63-2015.08.03-21.13.04_MD590_1_0189_lossless_alignedTo_MD590-N47-2015.09.12-05.32.06_MD590_2_0140_cropped_patch_locations.txt s3://mousebrainatlas-data/CSHL_patch_features/inception-bn-blue/MD590/MD590_lossless_alignedTo_MD590-N47-2015.09.12-05.32.06_MD590_2_0140_cropped_gray/MD590-N63-2015.08.03-21.13.04_MD590_1_0189_lossless_alignedTo_MD590-N47-2015.09.12-05.32.06_MD590_2_0140_cropped_gray_patch_locations.txt\n"
     ]
    },
    {
     "name": "stderr",
     "output_type": "stream",
     "text": [
      "Child returned 0\n"
     ]
    },
    {
     "name": "stdout",
     "output_type": "stream",
     "text": [
      "/shared/CSHL_patch_features/inception-bn-blue/MD590/MD590-IHC63-2015.08.10-22.27.12_MD590_1_0189_lossless_alignedTo_MD590-N47-2015.09.12-05.32.06_MD590_2_0140_cropped/MD590-IHC63-2015.08.10-22.27.12_MD590_1_0189_lossless_alignedTo_MD590-N47-2015.09.12-05.32.06_MD590_2_0140_cropped_features.bp\n",
      "/shared/CSHL_patch_features/inception-bn-blue/MD590/MD590_lossless_alignedTo_MD590-N47-2015.09.12-05.32.06_MD590_2_0140_cropped_gray/MD590-IHC63-2015.08.10-22.27.12_MD590_1_0189_lossless_alignedTo_MD590-N47-2015.09.12-05.32.06_MD590_2_0140_cropped_gray_features.bp\n",
      "aws s3 cp s3://mousebrainatlas-data/CSHL_patch_features/inception-bn-blue/MD590/MD590-IHC63-2015.08.10-22.27.12_MD590_1_0189_lossless_alignedTo_MD590-N47-2015.09.12-05.32.06_MD590_2_0140_cropped/MD590-IHC63-2015.08.10-22.27.12_MD590_1_0189_lossless_alignedTo_MD590-N47-2015.09.12-05.32.06_MD590_2_0140_cropped_features.bp s3://mousebrainatlas-data/CSHL_patch_features/inception-bn-blue/MD590/MD590_lossless_alignedTo_MD590-N47-2015.09.12-05.32.06_MD590_2_0140_cropped_gray/MD590-IHC63-2015.08.10-22.27.12_MD590_1_0189_lossless_alignedTo_MD590-N47-2015.09.12-05.32.06_MD590_2_0140_cropped_gray_features.bp\n"
     ]
    },
    {
     "name": "stderr",
     "output_type": "stream",
     "text": [
      "Child returned 0\n"
     ]
    },
    {
     "name": "stdout",
     "output_type": "stream",
     "text": [
      "/shared/CSHL_patch_features/inception-bn-blue/MD590/MD590-IHC63-2015.08.10-22.27.12_MD590_1_0189_lossless_alignedTo_MD590-N47-2015.09.12-05.32.06_MD590_2_0140_cropped/MD590-IHC63-2015.08.10-22.27.12_MD590_1_0189_lossless_alignedTo_MD590-N47-2015.09.12-05.32.06_MD590_2_0140_cropped_patch_locations.txt\n",
      "/shared/CSHL_patch_features/inception-bn-blue/MD590/MD590_lossless_alignedTo_MD590-N47-2015.09.12-05.32.06_MD590_2_0140_cropped_gray/MD590-IHC63-2015.08.10-22.27.12_MD590_1_0189_lossless_alignedTo_MD590-N47-2015.09.12-05.32.06_MD590_2_0140_cropped_gray_patch_locations.txt\n",
      "aws s3 cp s3://mousebrainatlas-data/CSHL_patch_features/inception-bn-blue/MD590/MD590-IHC63-2015.08.10-22.27.12_MD590_1_0189_lossless_alignedTo_MD590-N47-2015.09.12-05.32.06_MD590_2_0140_cropped/MD590-IHC63-2015.08.10-22.27.12_MD590_1_0189_lossless_alignedTo_MD590-N47-2015.09.12-05.32.06_MD590_2_0140_cropped_patch_locations.txt s3://mousebrainatlas-data/CSHL_patch_features/inception-bn-blue/MD590/MD590_lossless_alignedTo_MD590-N47-2015.09.12-05.32.06_MD590_2_0140_cropped_gray/MD590-IHC63-2015.08.10-22.27.12_MD590_1_0189_lossless_alignedTo_MD590-N47-2015.09.12-05.32.06_MD590_2_0140_cropped_gray_patch_locations.txt\n"
     ]
    },
    {
     "name": "stderr",
     "output_type": "stream",
     "text": [
      "Child returned 0\n"
     ]
    },
    {
     "name": "stdout",
     "output_type": "stream",
     "text": [
      "/shared/CSHL_patch_features/inception-bn-blue/MD590/MD590-N64-2015.08.03-21.17.23_MD590_3_0190_lossless_alignedTo_MD590-N47-2015.09.12-05.32.06_MD590_2_0140_cropped/MD590-N64-2015.08.03-21.17.23_MD590_3_0190_lossless_alignedTo_MD590-N47-2015.09.12-05.32.06_MD590_2_0140_cropped_features.bp\n",
      "/shared/CSHL_patch_features/inception-bn-blue/MD590/MD590_lossless_alignedTo_MD590-N47-2015.09.12-05.32.06_MD590_2_0140_cropped_gray/MD590-N64-2015.08.03-21.17.23_MD590_3_0190_lossless_alignedTo_MD590-N47-2015.09.12-05.32.06_MD590_2_0140_cropped_gray_features.bp\n",
      "aws s3 cp s3://mousebrainatlas-data/CSHL_patch_features/inception-bn-blue/MD590/MD590-N64-2015.08.03-21.17.23_MD590_3_0190_lossless_alignedTo_MD590-N47-2015.09.12-05.32.06_MD590_2_0140_cropped/MD590-N64-2015.08.03-21.17.23_MD590_3_0190_lossless_alignedTo_MD590-N47-2015.09.12-05.32.06_MD590_2_0140_cropped_features.bp s3://mousebrainatlas-data/CSHL_patch_features/inception-bn-blue/MD590/MD590_lossless_alignedTo_MD590-N47-2015.09.12-05.32.06_MD590_2_0140_cropped_gray/MD590-N64-2015.08.03-21.17.23_MD590_3_0190_lossless_alignedTo_MD590-N47-2015.09.12-05.32.06_MD590_2_0140_cropped_gray_features.bp\n"
     ]
    },
    {
     "name": "stderr",
     "output_type": "stream",
     "text": [
      "Child returned 0\n"
     ]
    },
    {
     "name": "stdout",
     "output_type": "stream",
     "text": [
      "/shared/CSHL_patch_features/inception-bn-blue/MD590/MD590-N64-2015.08.03-21.17.23_MD590_3_0190_lossless_alignedTo_MD590-N47-2015.09.12-05.32.06_MD590_2_0140_cropped/MD590-N64-2015.08.03-21.17.23_MD590_3_0190_lossless_alignedTo_MD590-N47-2015.09.12-05.32.06_MD590_2_0140_cropped_patch_locations.txt\n",
      "/shared/CSHL_patch_features/inception-bn-blue/MD590/MD590_lossless_alignedTo_MD590-N47-2015.09.12-05.32.06_MD590_2_0140_cropped_gray/MD590-N64-2015.08.03-21.17.23_MD590_3_0190_lossless_alignedTo_MD590-N47-2015.09.12-05.32.06_MD590_2_0140_cropped_gray_patch_locations.txt\n",
      "aws s3 cp s3://mousebrainatlas-data/CSHL_patch_features/inception-bn-blue/MD590/MD590-N64-2015.08.03-21.17.23_MD590_3_0190_lossless_alignedTo_MD590-N47-2015.09.12-05.32.06_MD590_2_0140_cropped/MD590-N64-2015.08.03-21.17.23_MD590_3_0190_lossless_alignedTo_MD590-N47-2015.09.12-05.32.06_MD590_2_0140_cropped_patch_locations.txt s3://mousebrainatlas-data/CSHL_patch_features/inception-bn-blue/MD590/MD590_lossless_alignedTo_MD590-N47-2015.09.12-05.32.06_MD590_2_0140_cropped_gray/MD590-N64-2015.08.03-21.17.23_MD590_3_0190_lossless_alignedTo_MD590-N47-2015.09.12-05.32.06_MD590_2_0140_cropped_gray_patch_locations.txt\n"
     ]
    },
    {
     "name": "stderr",
     "output_type": "stream",
     "text": [
      "Child returned 0\n"
     ]
    },
    {
     "name": "stdout",
     "output_type": "stream",
     "text": [
      "/shared/CSHL_patch_features/inception-bn-blue/MD590/MD590-IHC64-2015.08.10-22.31.41_MD590_3_0190_lossless_alignedTo_MD590-N47-2015.09.12-05.32.06_MD590_2_0140_cropped/MD590-IHC64-2015.08.10-22.31.41_MD590_3_0190_lossless_alignedTo_MD590-N47-2015.09.12-05.32.06_MD590_2_0140_cropped_features.bp\n",
      "/shared/CSHL_patch_features/inception-bn-blue/MD590/MD590_lossless_alignedTo_MD590-N47-2015.09.12-05.32.06_MD590_2_0140_cropped_gray/MD590-IHC64-2015.08.10-22.31.41_MD590_3_0190_lossless_alignedTo_MD590-N47-2015.09.12-05.32.06_MD590_2_0140_cropped_gray_features.bp\n",
      "aws s3 cp s3://mousebrainatlas-data/CSHL_patch_features/inception-bn-blue/MD590/MD590-IHC64-2015.08.10-22.31.41_MD590_3_0190_lossless_alignedTo_MD590-N47-2015.09.12-05.32.06_MD590_2_0140_cropped/MD590-IHC64-2015.08.10-22.31.41_MD590_3_0190_lossless_alignedTo_MD590-N47-2015.09.12-05.32.06_MD590_2_0140_cropped_features.bp s3://mousebrainatlas-data/CSHL_patch_features/inception-bn-blue/MD590/MD590_lossless_alignedTo_MD590-N47-2015.09.12-05.32.06_MD590_2_0140_cropped_gray/MD590-IHC64-2015.08.10-22.31.41_MD590_3_0190_lossless_alignedTo_MD590-N47-2015.09.12-05.32.06_MD590_2_0140_cropped_gray_features.bp\n"
     ]
    },
    {
     "name": "stderr",
     "output_type": "stream",
     "text": [
      "Child returned 0\n"
     ]
    },
    {
     "name": "stdout",
     "output_type": "stream",
     "text": [
      "/shared/CSHL_patch_features/inception-bn-blue/MD590/MD590-IHC64-2015.08.10-22.31.41_MD590_3_0190_lossless_alignedTo_MD590-N47-2015.09.12-05.32.06_MD590_2_0140_cropped/MD590-IHC64-2015.08.10-22.31.41_MD590_3_0190_lossless_alignedTo_MD590-N47-2015.09.12-05.32.06_MD590_2_0140_cropped_patch_locations.txt\n",
      "/shared/CSHL_patch_features/inception-bn-blue/MD590/MD590_lossless_alignedTo_MD590-N47-2015.09.12-05.32.06_MD590_2_0140_cropped_gray/MD590-IHC64-2015.08.10-22.31.41_MD590_3_0190_lossless_alignedTo_MD590-N47-2015.09.12-05.32.06_MD590_2_0140_cropped_gray_patch_locations.txt\n",
      "aws s3 cp s3://mousebrainatlas-data/CSHL_patch_features/inception-bn-blue/MD590/MD590-IHC64-2015.08.10-22.31.41_MD590_3_0190_lossless_alignedTo_MD590-N47-2015.09.12-05.32.06_MD590_2_0140_cropped/MD590-IHC64-2015.08.10-22.31.41_MD590_3_0190_lossless_alignedTo_MD590-N47-2015.09.12-05.32.06_MD590_2_0140_cropped_patch_locations.txt s3://mousebrainatlas-data/CSHL_patch_features/inception-bn-blue/MD590/MD590_lossless_alignedTo_MD590-N47-2015.09.12-05.32.06_MD590_2_0140_cropped_gray/MD590-IHC64-2015.08.10-22.31.41_MD590_3_0190_lossless_alignedTo_MD590-N47-2015.09.12-05.32.06_MD590_2_0140_cropped_gray_patch_locations.txt\n"
     ]
    },
    {
     "name": "stderr",
     "output_type": "stream",
     "text": [
      "Child returned 0\n"
     ]
    },
    {
     "name": "stdout",
     "output_type": "stream",
     "text": [
      "/shared/CSHL_patch_features/inception-bn-blue/MD590/MD590-N64-2015.08.03-21.17.23_MD590_2_0191_lossless_alignedTo_MD590-N47-2015.09.12-05.32.06_MD590_2_0140_cropped/MD590-N64-2015.08.03-21.17.23_MD590_2_0191_lossless_alignedTo_MD590-N47-2015.09.12-05.32.06_MD590_2_0140_cropped_features.bp\n",
      "/shared/CSHL_patch_features/inception-bn-blue/MD590/MD590_lossless_alignedTo_MD590-N47-2015.09.12-05.32.06_MD590_2_0140_cropped_gray/MD590-N64-2015.08.03-21.17.23_MD590_2_0191_lossless_alignedTo_MD590-N47-2015.09.12-05.32.06_MD590_2_0140_cropped_gray_features.bp\n",
      "aws s3 cp s3://mousebrainatlas-data/CSHL_patch_features/inception-bn-blue/MD590/MD590-N64-2015.08.03-21.17.23_MD590_2_0191_lossless_alignedTo_MD590-N47-2015.09.12-05.32.06_MD590_2_0140_cropped/MD590-N64-2015.08.03-21.17.23_MD590_2_0191_lossless_alignedTo_MD590-N47-2015.09.12-05.32.06_MD590_2_0140_cropped_features.bp s3://mousebrainatlas-data/CSHL_patch_features/inception-bn-blue/MD590/MD590_lossless_alignedTo_MD590-N47-2015.09.12-05.32.06_MD590_2_0140_cropped_gray/MD590-N64-2015.08.03-21.17.23_MD590_2_0191_lossless_alignedTo_MD590-N47-2015.09.12-05.32.06_MD590_2_0140_cropped_gray_features.bp\n"
     ]
    },
    {
     "name": "stderr",
     "output_type": "stream",
     "text": [
      "Child returned 0\n"
     ]
    },
    {
     "name": "stdout",
     "output_type": "stream",
     "text": [
      "/shared/CSHL_patch_features/inception-bn-blue/MD590/MD590-N64-2015.08.03-21.17.23_MD590_2_0191_lossless_alignedTo_MD590-N47-2015.09.12-05.32.06_MD590_2_0140_cropped/MD590-N64-2015.08.03-21.17.23_MD590_2_0191_lossless_alignedTo_MD590-N47-2015.09.12-05.32.06_MD590_2_0140_cropped_patch_locations.txt\n",
      "/shared/CSHL_patch_features/inception-bn-blue/MD590/MD590_lossless_alignedTo_MD590-N47-2015.09.12-05.32.06_MD590_2_0140_cropped_gray/MD590-N64-2015.08.03-21.17.23_MD590_2_0191_lossless_alignedTo_MD590-N47-2015.09.12-05.32.06_MD590_2_0140_cropped_gray_patch_locations.txt\n",
      "aws s3 cp s3://mousebrainatlas-data/CSHL_patch_features/inception-bn-blue/MD590/MD590-N64-2015.08.03-21.17.23_MD590_2_0191_lossless_alignedTo_MD590-N47-2015.09.12-05.32.06_MD590_2_0140_cropped/MD590-N64-2015.08.03-21.17.23_MD590_2_0191_lossless_alignedTo_MD590-N47-2015.09.12-05.32.06_MD590_2_0140_cropped_patch_locations.txt s3://mousebrainatlas-data/CSHL_patch_features/inception-bn-blue/MD590/MD590_lossless_alignedTo_MD590-N47-2015.09.12-05.32.06_MD590_2_0140_cropped_gray/MD590-N64-2015.08.03-21.17.23_MD590_2_0191_lossless_alignedTo_MD590-N47-2015.09.12-05.32.06_MD590_2_0140_cropped_gray_patch_locations.txt\n"
     ]
    },
    {
     "name": "stderr",
     "output_type": "stream",
     "text": [
      "Child returned 0\n"
     ]
    },
    {
     "name": "stdout",
     "output_type": "stream",
     "text": [
      "/shared/CSHL_patch_features/inception-bn-blue/MD590/MD590-IHC64-2015.08.10-22.31.41_MD590_2_0191_lossless_alignedTo_MD590-N47-2015.09.12-05.32.06_MD590_2_0140_cropped/MD590-IHC64-2015.08.10-22.31.41_MD590_2_0191_lossless_alignedTo_MD590-N47-2015.09.12-05.32.06_MD590_2_0140_cropped_features.bp\n",
      "/shared/CSHL_patch_features/inception-bn-blue/MD590/MD590_lossless_alignedTo_MD590-N47-2015.09.12-05.32.06_MD590_2_0140_cropped_gray/MD590-IHC64-2015.08.10-22.31.41_MD590_2_0191_lossless_alignedTo_MD590-N47-2015.09.12-05.32.06_MD590_2_0140_cropped_gray_features.bp\n",
      "aws s3 cp s3://mousebrainatlas-data/CSHL_patch_features/inception-bn-blue/MD590/MD590-IHC64-2015.08.10-22.31.41_MD590_2_0191_lossless_alignedTo_MD590-N47-2015.09.12-05.32.06_MD590_2_0140_cropped/MD590-IHC64-2015.08.10-22.31.41_MD590_2_0191_lossless_alignedTo_MD590-N47-2015.09.12-05.32.06_MD590_2_0140_cropped_features.bp s3://mousebrainatlas-data/CSHL_patch_features/inception-bn-blue/MD590/MD590_lossless_alignedTo_MD590-N47-2015.09.12-05.32.06_MD590_2_0140_cropped_gray/MD590-IHC64-2015.08.10-22.31.41_MD590_2_0191_lossless_alignedTo_MD590-N47-2015.09.12-05.32.06_MD590_2_0140_cropped_gray_features.bp\n"
     ]
    },
    {
     "name": "stderr",
     "output_type": "stream",
     "text": [
      "Child returned 0\n"
     ]
    },
    {
     "name": "stdout",
     "output_type": "stream",
     "text": [
      "/shared/CSHL_patch_features/inception-bn-blue/MD590/MD590-IHC64-2015.08.10-22.31.41_MD590_2_0191_lossless_alignedTo_MD590-N47-2015.09.12-05.32.06_MD590_2_0140_cropped/MD590-IHC64-2015.08.10-22.31.41_MD590_2_0191_lossless_alignedTo_MD590-N47-2015.09.12-05.32.06_MD590_2_0140_cropped_patch_locations.txt\n",
      "/shared/CSHL_patch_features/inception-bn-blue/MD590/MD590_lossless_alignedTo_MD590-N47-2015.09.12-05.32.06_MD590_2_0140_cropped_gray/MD590-IHC64-2015.08.10-22.31.41_MD590_2_0191_lossless_alignedTo_MD590-N47-2015.09.12-05.32.06_MD590_2_0140_cropped_gray_patch_locations.txt\n",
      "aws s3 cp s3://mousebrainatlas-data/CSHL_patch_features/inception-bn-blue/MD590/MD590-IHC64-2015.08.10-22.31.41_MD590_2_0191_lossless_alignedTo_MD590-N47-2015.09.12-05.32.06_MD590_2_0140_cropped/MD590-IHC64-2015.08.10-22.31.41_MD590_2_0191_lossless_alignedTo_MD590-N47-2015.09.12-05.32.06_MD590_2_0140_cropped_patch_locations.txt s3://mousebrainatlas-data/CSHL_patch_features/inception-bn-blue/MD590/MD590_lossless_alignedTo_MD590-N47-2015.09.12-05.32.06_MD590_2_0140_cropped_gray/MD590-IHC64-2015.08.10-22.31.41_MD590_2_0191_lossless_alignedTo_MD590-N47-2015.09.12-05.32.06_MD590_2_0140_cropped_gray_patch_locations.txt\n"
     ]
    },
    {
     "name": "stderr",
     "output_type": "stream",
     "text": [
      "Child returned 0\n"
     ]
    },
    {
     "name": "stdout",
     "output_type": "stream",
     "text": [
      "/shared/CSHL_patch_features/inception-bn-blue/MD590/MD590-N64-2015.08.03-21.17.23_MD590_1_0192_lossless_alignedTo_MD590-N47-2015.09.12-05.32.06_MD590_2_0140_cropped/MD590-N64-2015.08.03-21.17.23_MD590_1_0192_lossless_alignedTo_MD590-N47-2015.09.12-05.32.06_MD590_2_0140_cropped_features.bp\n",
      "/shared/CSHL_patch_features/inception-bn-blue/MD590/MD590_lossless_alignedTo_MD590-N47-2015.09.12-05.32.06_MD590_2_0140_cropped_gray/MD590-N64-2015.08.03-21.17.23_MD590_1_0192_lossless_alignedTo_MD590-N47-2015.09.12-05.32.06_MD590_2_0140_cropped_gray_features.bp\n",
      "aws s3 cp s3://mousebrainatlas-data/CSHL_patch_features/inception-bn-blue/MD590/MD590-N64-2015.08.03-21.17.23_MD590_1_0192_lossless_alignedTo_MD590-N47-2015.09.12-05.32.06_MD590_2_0140_cropped/MD590-N64-2015.08.03-21.17.23_MD590_1_0192_lossless_alignedTo_MD590-N47-2015.09.12-05.32.06_MD590_2_0140_cropped_features.bp s3://mousebrainatlas-data/CSHL_patch_features/inception-bn-blue/MD590/MD590_lossless_alignedTo_MD590-N47-2015.09.12-05.32.06_MD590_2_0140_cropped_gray/MD590-N64-2015.08.03-21.17.23_MD590_1_0192_lossless_alignedTo_MD590-N47-2015.09.12-05.32.06_MD590_2_0140_cropped_gray_features.bp\n"
     ]
    },
    {
     "name": "stderr",
     "output_type": "stream",
     "text": [
      "Child returned 0\n"
     ]
    },
    {
     "name": "stdout",
     "output_type": "stream",
     "text": [
      "/shared/CSHL_patch_features/inception-bn-blue/MD590/MD590-N64-2015.08.03-21.17.23_MD590_1_0192_lossless_alignedTo_MD590-N47-2015.09.12-05.32.06_MD590_2_0140_cropped/MD590-N64-2015.08.03-21.17.23_MD590_1_0192_lossless_alignedTo_MD590-N47-2015.09.12-05.32.06_MD590_2_0140_cropped_patch_locations.txt\n",
      "/shared/CSHL_patch_features/inception-bn-blue/MD590/MD590_lossless_alignedTo_MD590-N47-2015.09.12-05.32.06_MD590_2_0140_cropped_gray/MD590-N64-2015.08.03-21.17.23_MD590_1_0192_lossless_alignedTo_MD590-N47-2015.09.12-05.32.06_MD590_2_0140_cropped_gray_patch_locations.txt\n",
      "aws s3 cp s3://mousebrainatlas-data/CSHL_patch_features/inception-bn-blue/MD590/MD590-N64-2015.08.03-21.17.23_MD590_1_0192_lossless_alignedTo_MD590-N47-2015.09.12-05.32.06_MD590_2_0140_cropped/MD590-N64-2015.08.03-21.17.23_MD590_1_0192_lossless_alignedTo_MD590-N47-2015.09.12-05.32.06_MD590_2_0140_cropped_patch_locations.txt s3://mousebrainatlas-data/CSHL_patch_features/inception-bn-blue/MD590/MD590_lossless_alignedTo_MD590-N47-2015.09.12-05.32.06_MD590_2_0140_cropped_gray/MD590-N64-2015.08.03-21.17.23_MD590_1_0192_lossless_alignedTo_MD590-N47-2015.09.12-05.32.06_MD590_2_0140_cropped_gray_patch_locations.txt\n"
     ]
    },
    {
     "name": "stderr",
     "output_type": "stream",
     "text": [
      "Child returned 0\n"
     ]
    },
    {
     "name": "stdout",
     "output_type": "stream",
     "text": [
      "/shared/CSHL_patch_features/inception-bn-blue/MD590/MD590-IHC64-2015.08.10-22.31.41_MD590_1_0192_lossless_alignedTo_MD590-N47-2015.09.12-05.32.06_MD590_2_0140_cropped/MD590-IHC64-2015.08.10-22.31.41_MD590_1_0192_lossless_alignedTo_MD590-N47-2015.09.12-05.32.06_MD590_2_0140_cropped_features.bp\n",
      "/shared/CSHL_patch_features/inception-bn-blue/MD590/MD590_lossless_alignedTo_MD590-N47-2015.09.12-05.32.06_MD590_2_0140_cropped_gray/MD590-IHC64-2015.08.10-22.31.41_MD590_1_0192_lossless_alignedTo_MD590-N47-2015.09.12-05.32.06_MD590_2_0140_cropped_gray_features.bp\n",
      "aws s3 cp s3://mousebrainatlas-data/CSHL_patch_features/inception-bn-blue/MD590/MD590-IHC64-2015.08.10-22.31.41_MD590_1_0192_lossless_alignedTo_MD590-N47-2015.09.12-05.32.06_MD590_2_0140_cropped/MD590-IHC64-2015.08.10-22.31.41_MD590_1_0192_lossless_alignedTo_MD590-N47-2015.09.12-05.32.06_MD590_2_0140_cropped_features.bp s3://mousebrainatlas-data/CSHL_patch_features/inception-bn-blue/MD590/MD590_lossless_alignedTo_MD590-N47-2015.09.12-05.32.06_MD590_2_0140_cropped_gray/MD590-IHC64-2015.08.10-22.31.41_MD590_1_0192_lossless_alignedTo_MD590-N47-2015.09.12-05.32.06_MD590_2_0140_cropped_gray_features.bp\n"
     ]
    },
    {
     "name": "stderr",
     "output_type": "stream",
     "text": [
      "Child returned 0\n"
     ]
    },
    {
     "name": "stdout",
     "output_type": "stream",
     "text": [
      "/shared/CSHL_patch_features/inception-bn-blue/MD590/MD590-IHC64-2015.08.10-22.31.41_MD590_1_0192_lossless_alignedTo_MD590-N47-2015.09.12-05.32.06_MD590_2_0140_cropped/MD590-IHC64-2015.08.10-22.31.41_MD590_1_0192_lossless_alignedTo_MD590-N47-2015.09.12-05.32.06_MD590_2_0140_cropped_patch_locations.txt\n",
      "/shared/CSHL_patch_features/inception-bn-blue/MD590/MD590_lossless_alignedTo_MD590-N47-2015.09.12-05.32.06_MD590_2_0140_cropped_gray/MD590-IHC64-2015.08.10-22.31.41_MD590_1_0192_lossless_alignedTo_MD590-N47-2015.09.12-05.32.06_MD590_2_0140_cropped_gray_patch_locations.txt\n",
      "aws s3 cp s3://mousebrainatlas-data/CSHL_patch_features/inception-bn-blue/MD590/MD590-IHC64-2015.08.10-22.31.41_MD590_1_0192_lossless_alignedTo_MD590-N47-2015.09.12-05.32.06_MD590_2_0140_cropped/MD590-IHC64-2015.08.10-22.31.41_MD590_1_0192_lossless_alignedTo_MD590-N47-2015.09.12-05.32.06_MD590_2_0140_cropped_patch_locations.txt s3://mousebrainatlas-data/CSHL_patch_features/inception-bn-blue/MD590/MD590_lossless_alignedTo_MD590-N47-2015.09.12-05.32.06_MD590_2_0140_cropped_gray/MD590-IHC64-2015.08.10-22.31.41_MD590_1_0192_lossless_alignedTo_MD590-N47-2015.09.12-05.32.06_MD590_2_0140_cropped_gray_patch_locations.txt\n"
     ]
    },
    {
     "name": "stderr",
     "output_type": "stream",
     "text": [
      "Child returned 0\n"
     ]
    },
    {
     "name": "stdout",
     "output_type": "stream",
     "text": [
      "/shared/CSHL_patch_features/inception-bn-blue/MD590/MD590-N65-2015.08.03-21.21.32_MD590_3_0193_lossless_alignedTo_MD590-N47-2015.09.12-05.32.06_MD590_2_0140_cropped/MD590-N65-2015.08.03-21.21.32_MD590_3_0193_lossless_alignedTo_MD590-N47-2015.09.12-05.32.06_MD590_2_0140_cropped_features.bp\n",
      "/shared/CSHL_patch_features/inception-bn-blue/MD590/MD590_lossless_alignedTo_MD590-N47-2015.09.12-05.32.06_MD590_2_0140_cropped_gray/MD590-N65-2015.08.03-21.21.32_MD590_3_0193_lossless_alignedTo_MD590-N47-2015.09.12-05.32.06_MD590_2_0140_cropped_gray_features.bp\n",
      "aws s3 cp s3://mousebrainatlas-data/CSHL_patch_features/inception-bn-blue/MD590/MD590-N65-2015.08.03-21.21.32_MD590_3_0193_lossless_alignedTo_MD590-N47-2015.09.12-05.32.06_MD590_2_0140_cropped/MD590-N65-2015.08.03-21.21.32_MD590_3_0193_lossless_alignedTo_MD590-N47-2015.09.12-05.32.06_MD590_2_0140_cropped_features.bp s3://mousebrainatlas-data/CSHL_patch_features/inception-bn-blue/MD590/MD590_lossless_alignedTo_MD590-N47-2015.09.12-05.32.06_MD590_2_0140_cropped_gray/MD590-N65-2015.08.03-21.21.32_MD590_3_0193_lossless_alignedTo_MD590-N47-2015.09.12-05.32.06_MD590_2_0140_cropped_gray_features.bp\n"
     ]
    },
    {
     "name": "stderr",
     "output_type": "stream",
     "text": [
      "Child returned 0\n"
     ]
    },
    {
     "name": "stdout",
     "output_type": "stream",
     "text": [
      "/shared/CSHL_patch_features/inception-bn-blue/MD590/MD590-N65-2015.08.03-21.21.32_MD590_3_0193_lossless_alignedTo_MD590-N47-2015.09.12-05.32.06_MD590_2_0140_cropped/MD590-N65-2015.08.03-21.21.32_MD590_3_0193_lossless_alignedTo_MD590-N47-2015.09.12-05.32.06_MD590_2_0140_cropped_patch_locations.txt\n",
      "/shared/CSHL_patch_features/inception-bn-blue/MD590/MD590_lossless_alignedTo_MD590-N47-2015.09.12-05.32.06_MD590_2_0140_cropped_gray/MD590-N65-2015.08.03-21.21.32_MD590_3_0193_lossless_alignedTo_MD590-N47-2015.09.12-05.32.06_MD590_2_0140_cropped_gray_patch_locations.txt\n",
      "aws s3 cp s3://mousebrainatlas-data/CSHL_patch_features/inception-bn-blue/MD590/MD590-N65-2015.08.03-21.21.32_MD590_3_0193_lossless_alignedTo_MD590-N47-2015.09.12-05.32.06_MD590_2_0140_cropped/MD590-N65-2015.08.03-21.21.32_MD590_3_0193_lossless_alignedTo_MD590-N47-2015.09.12-05.32.06_MD590_2_0140_cropped_patch_locations.txt s3://mousebrainatlas-data/CSHL_patch_features/inception-bn-blue/MD590/MD590_lossless_alignedTo_MD590-N47-2015.09.12-05.32.06_MD590_2_0140_cropped_gray/MD590-N65-2015.08.03-21.21.32_MD590_3_0193_lossless_alignedTo_MD590-N47-2015.09.12-05.32.06_MD590_2_0140_cropped_gray_patch_locations.txt\n"
     ]
    },
    {
     "name": "stderr",
     "output_type": "stream",
     "text": [
      "Child returned 0\n"
     ]
    },
    {
     "name": "stdout",
     "output_type": "stream",
     "text": [
      "/shared/CSHL_patch_features/inception-bn-blue/MD590/MD590-IHC65-2015.08.10-22.35.53_MD590_3_0193_lossless_alignedTo_MD590-N47-2015.09.12-05.32.06_MD590_2_0140_cropped/MD590-IHC65-2015.08.10-22.35.53_MD590_3_0193_lossless_alignedTo_MD590-N47-2015.09.12-05.32.06_MD590_2_0140_cropped_features.bp\n",
      "/shared/CSHL_patch_features/inception-bn-blue/MD590/MD590_lossless_alignedTo_MD590-N47-2015.09.12-05.32.06_MD590_2_0140_cropped_gray/MD590-IHC65-2015.08.10-22.35.53_MD590_3_0193_lossless_alignedTo_MD590-N47-2015.09.12-05.32.06_MD590_2_0140_cropped_gray_features.bp\n",
      "aws s3 cp s3://mousebrainatlas-data/CSHL_patch_features/inception-bn-blue/MD590/MD590-IHC65-2015.08.10-22.35.53_MD590_3_0193_lossless_alignedTo_MD590-N47-2015.09.12-05.32.06_MD590_2_0140_cropped/MD590-IHC65-2015.08.10-22.35.53_MD590_3_0193_lossless_alignedTo_MD590-N47-2015.09.12-05.32.06_MD590_2_0140_cropped_features.bp s3://mousebrainatlas-data/CSHL_patch_features/inception-bn-blue/MD590/MD590_lossless_alignedTo_MD590-N47-2015.09.12-05.32.06_MD590_2_0140_cropped_gray/MD590-IHC65-2015.08.10-22.35.53_MD590_3_0193_lossless_alignedTo_MD590-N47-2015.09.12-05.32.06_MD590_2_0140_cropped_gray_features.bp\n"
     ]
    },
    {
     "name": "stderr",
     "output_type": "stream",
     "text": [
      "Child returned 0\n"
     ]
    },
    {
     "name": "stdout",
     "output_type": "stream",
     "text": [
      "/shared/CSHL_patch_features/inception-bn-blue/MD590/MD590-IHC65-2015.08.10-22.35.53_MD590_3_0193_lossless_alignedTo_MD590-N47-2015.09.12-05.32.06_MD590_2_0140_cropped/MD590-IHC65-2015.08.10-22.35.53_MD590_3_0193_lossless_alignedTo_MD590-N47-2015.09.12-05.32.06_MD590_2_0140_cropped_patch_locations.txt\n",
      "/shared/CSHL_patch_features/inception-bn-blue/MD590/MD590_lossless_alignedTo_MD590-N47-2015.09.12-05.32.06_MD590_2_0140_cropped_gray/MD590-IHC65-2015.08.10-22.35.53_MD590_3_0193_lossless_alignedTo_MD590-N47-2015.09.12-05.32.06_MD590_2_0140_cropped_gray_patch_locations.txt\n",
      "aws s3 cp s3://mousebrainatlas-data/CSHL_patch_features/inception-bn-blue/MD590/MD590-IHC65-2015.08.10-22.35.53_MD590_3_0193_lossless_alignedTo_MD590-N47-2015.09.12-05.32.06_MD590_2_0140_cropped/MD590-IHC65-2015.08.10-22.35.53_MD590_3_0193_lossless_alignedTo_MD590-N47-2015.09.12-05.32.06_MD590_2_0140_cropped_patch_locations.txt s3://mousebrainatlas-data/CSHL_patch_features/inception-bn-blue/MD590/MD590_lossless_alignedTo_MD590-N47-2015.09.12-05.32.06_MD590_2_0140_cropped_gray/MD590-IHC65-2015.08.10-22.35.53_MD590_3_0193_lossless_alignedTo_MD590-N47-2015.09.12-05.32.06_MD590_2_0140_cropped_gray_patch_locations.txt\n"
     ]
    },
    {
     "name": "stderr",
     "output_type": "stream",
     "text": [
      "Child returned 0\n"
     ]
    },
    {
     "name": "stdout",
     "output_type": "stream",
     "text": [
      "/shared/CSHL_patch_features/inception-bn-blue/MD590/MD590-N65-2015.08.03-21.21.32_MD590_2_0194_lossless_alignedTo_MD590-N47-2015.09.12-05.32.06_MD590_2_0140_cropped/MD590-N65-2015.08.03-21.21.32_MD590_2_0194_lossless_alignedTo_MD590-N47-2015.09.12-05.32.06_MD590_2_0140_cropped_features.bp\n",
      "/shared/CSHL_patch_features/inception-bn-blue/MD590/MD590_lossless_alignedTo_MD590-N47-2015.09.12-05.32.06_MD590_2_0140_cropped_gray/MD590-N65-2015.08.03-21.21.32_MD590_2_0194_lossless_alignedTo_MD590-N47-2015.09.12-05.32.06_MD590_2_0140_cropped_gray_features.bp\n",
      "aws s3 cp s3://mousebrainatlas-data/CSHL_patch_features/inception-bn-blue/MD590/MD590-N65-2015.08.03-21.21.32_MD590_2_0194_lossless_alignedTo_MD590-N47-2015.09.12-05.32.06_MD590_2_0140_cropped/MD590-N65-2015.08.03-21.21.32_MD590_2_0194_lossless_alignedTo_MD590-N47-2015.09.12-05.32.06_MD590_2_0140_cropped_features.bp s3://mousebrainatlas-data/CSHL_patch_features/inception-bn-blue/MD590/MD590_lossless_alignedTo_MD590-N47-2015.09.12-05.32.06_MD590_2_0140_cropped_gray/MD590-N65-2015.08.03-21.21.32_MD590_2_0194_lossless_alignedTo_MD590-N47-2015.09.12-05.32.06_MD590_2_0140_cropped_gray_features.bp\n"
     ]
    },
    {
     "name": "stderr",
     "output_type": "stream",
     "text": [
      "Child returned 0\n"
     ]
    },
    {
     "name": "stdout",
     "output_type": "stream",
     "text": [
      "/shared/CSHL_patch_features/inception-bn-blue/MD590/MD590-N65-2015.08.03-21.21.32_MD590_2_0194_lossless_alignedTo_MD590-N47-2015.09.12-05.32.06_MD590_2_0140_cropped/MD590-N65-2015.08.03-21.21.32_MD590_2_0194_lossless_alignedTo_MD590-N47-2015.09.12-05.32.06_MD590_2_0140_cropped_patch_locations.txt\n",
      "/shared/CSHL_patch_features/inception-bn-blue/MD590/MD590_lossless_alignedTo_MD590-N47-2015.09.12-05.32.06_MD590_2_0140_cropped_gray/MD590-N65-2015.08.03-21.21.32_MD590_2_0194_lossless_alignedTo_MD590-N47-2015.09.12-05.32.06_MD590_2_0140_cropped_gray_patch_locations.txt\n",
      "aws s3 cp s3://mousebrainatlas-data/CSHL_patch_features/inception-bn-blue/MD590/MD590-N65-2015.08.03-21.21.32_MD590_2_0194_lossless_alignedTo_MD590-N47-2015.09.12-05.32.06_MD590_2_0140_cropped/MD590-N65-2015.08.03-21.21.32_MD590_2_0194_lossless_alignedTo_MD590-N47-2015.09.12-05.32.06_MD590_2_0140_cropped_patch_locations.txt s3://mousebrainatlas-data/CSHL_patch_features/inception-bn-blue/MD590/MD590_lossless_alignedTo_MD590-N47-2015.09.12-05.32.06_MD590_2_0140_cropped_gray/MD590-N65-2015.08.03-21.21.32_MD590_2_0194_lossless_alignedTo_MD590-N47-2015.09.12-05.32.06_MD590_2_0140_cropped_gray_patch_locations.txt\n"
     ]
    },
    {
     "name": "stderr",
     "output_type": "stream",
     "text": [
      "Child returned 0\n"
     ]
    },
    {
     "name": "stdout",
     "output_type": "stream",
     "text": [
      "/shared/CSHL_patch_features/inception-bn-blue/MD590/MD590-IHC65-2015.08.10-22.35.53_MD590_2_0194_lossless_alignedTo_MD590-N47-2015.09.12-05.32.06_MD590_2_0140_cropped/MD590-IHC65-2015.08.10-22.35.53_MD590_2_0194_lossless_alignedTo_MD590-N47-2015.09.12-05.32.06_MD590_2_0140_cropped_features.bp\n",
      "/shared/CSHL_patch_features/inception-bn-blue/MD590/MD590_lossless_alignedTo_MD590-N47-2015.09.12-05.32.06_MD590_2_0140_cropped_gray/MD590-IHC65-2015.08.10-22.35.53_MD590_2_0194_lossless_alignedTo_MD590-N47-2015.09.12-05.32.06_MD590_2_0140_cropped_gray_features.bp\n",
      "aws s3 cp s3://mousebrainatlas-data/CSHL_patch_features/inception-bn-blue/MD590/MD590-IHC65-2015.08.10-22.35.53_MD590_2_0194_lossless_alignedTo_MD590-N47-2015.09.12-05.32.06_MD590_2_0140_cropped/MD590-IHC65-2015.08.10-22.35.53_MD590_2_0194_lossless_alignedTo_MD590-N47-2015.09.12-05.32.06_MD590_2_0140_cropped_features.bp s3://mousebrainatlas-data/CSHL_patch_features/inception-bn-blue/MD590/MD590_lossless_alignedTo_MD590-N47-2015.09.12-05.32.06_MD590_2_0140_cropped_gray/MD590-IHC65-2015.08.10-22.35.53_MD590_2_0194_lossless_alignedTo_MD590-N47-2015.09.12-05.32.06_MD590_2_0140_cropped_gray_features.bp\n"
     ]
    },
    {
     "name": "stderr",
     "output_type": "stream",
     "text": [
      "Child returned 0\n"
     ]
    },
    {
     "name": "stdout",
     "output_type": "stream",
     "text": [
      "/shared/CSHL_patch_features/inception-bn-blue/MD590/MD590-IHC65-2015.08.10-22.35.53_MD590_2_0194_lossless_alignedTo_MD590-N47-2015.09.12-05.32.06_MD590_2_0140_cropped/MD590-IHC65-2015.08.10-22.35.53_MD590_2_0194_lossless_alignedTo_MD590-N47-2015.09.12-05.32.06_MD590_2_0140_cropped_patch_locations.txt\n",
      "/shared/CSHL_patch_features/inception-bn-blue/MD590/MD590_lossless_alignedTo_MD590-N47-2015.09.12-05.32.06_MD590_2_0140_cropped_gray/MD590-IHC65-2015.08.10-22.35.53_MD590_2_0194_lossless_alignedTo_MD590-N47-2015.09.12-05.32.06_MD590_2_0140_cropped_gray_patch_locations.txt\n",
      "aws s3 cp s3://mousebrainatlas-data/CSHL_patch_features/inception-bn-blue/MD590/MD590-IHC65-2015.08.10-22.35.53_MD590_2_0194_lossless_alignedTo_MD590-N47-2015.09.12-05.32.06_MD590_2_0140_cropped/MD590-IHC65-2015.08.10-22.35.53_MD590_2_0194_lossless_alignedTo_MD590-N47-2015.09.12-05.32.06_MD590_2_0140_cropped_patch_locations.txt s3://mousebrainatlas-data/CSHL_patch_features/inception-bn-blue/MD590/MD590_lossless_alignedTo_MD590-N47-2015.09.12-05.32.06_MD590_2_0140_cropped_gray/MD590-IHC65-2015.08.10-22.35.53_MD590_2_0194_lossless_alignedTo_MD590-N47-2015.09.12-05.32.06_MD590_2_0140_cropped_gray_patch_locations.txt\n"
     ]
    },
    {
     "name": "stderr",
     "output_type": "stream",
     "text": [
      "Child returned 0\n"
     ]
    },
    {
     "name": "stdout",
     "output_type": "stream",
     "text": [
      "/shared/CSHL_patch_features/inception-bn-blue/MD590/MD590-N65-2015.08.03-21.21.32_MD590_1_0195_lossless_alignedTo_MD590-N47-2015.09.12-05.32.06_MD590_2_0140_cropped/MD590-N65-2015.08.03-21.21.32_MD590_1_0195_lossless_alignedTo_MD590-N47-2015.09.12-05.32.06_MD590_2_0140_cropped_features.bp\n",
      "/shared/CSHL_patch_features/inception-bn-blue/MD590/MD590_lossless_alignedTo_MD590-N47-2015.09.12-05.32.06_MD590_2_0140_cropped_gray/MD590-N65-2015.08.03-21.21.32_MD590_1_0195_lossless_alignedTo_MD590-N47-2015.09.12-05.32.06_MD590_2_0140_cropped_gray_features.bp\n",
      "aws s3 cp s3://mousebrainatlas-data/CSHL_patch_features/inception-bn-blue/MD590/MD590-N65-2015.08.03-21.21.32_MD590_1_0195_lossless_alignedTo_MD590-N47-2015.09.12-05.32.06_MD590_2_0140_cropped/MD590-N65-2015.08.03-21.21.32_MD590_1_0195_lossless_alignedTo_MD590-N47-2015.09.12-05.32.06_MD590_2_0140_cropped_features.bp s3://mousebrainatlas-data/CSHL_patch_features/inception-bn-blue/MD590/MD590_lossless_alignedTo_MD590-N47-2015.09.12-05.32.06_MD590_2_0140_cropped_gray/MD590-N65-2015.08.03-21.21.32_MD590_1_0195_lossless_alignedTo_MD590-N47-2015.09.12-05.32.06_MD590_2_0140_cropped_gray_features.bp\n"
     ]
    },
    {
     "name": "stderr",
     "output_type": "stream",
     "text": [
      "Child returned 0\n"
     ]
    },
    {
     "name": "stdout",
     "output_type": "stream",
     "text": [
      "/shared/CSHL_patch_features/inception-bn-blue/MD590/MD590-N65-2015.08.03-21.21.32_MD590_1_0195_lossless_alignedTo_MD590-N47-2015.09.12-05.32.06_MD590_2_0140_cropped/MD590-N65-2015.08.03-21.21.32_MD590_1_0195_lossless_alignedTo_MD590-N47-2015.09.12-05.32.06_MD590_2_0140_cropped_patch_locations.txt\n",
      "/shared/CSHL_patch_features/inception-bn-blue/MD590/MD590_lossless_alignedTo_MD590-N47-2015.09.12-05.32.06_MD590_2_0140_cropped_gray/MD590-N65-2015.08.03-21.21.32_MD590_1_0195_lossless_alignedTo_MD590-N47-2015.09.12-05.32.06_MD590_2_0140_cropped_gray_patch_locations.txt\n",
      "aws s3 cp s3://mousebrainatlas-data/CSHL_patch_features/inception-bn-blue/MD590/MD590-N65-2015.08.03-21.21.32_MD590_1_0195_lossless_alignedTo_MD590-N47-2015.09.12-05.32.06_MD590_2_0140_cropped/MD590-N65-2015.08.03-21.21.32_MD590_1_0195_lossless_alignedTo_MD590-N47-2015.09.12-05.32.06_MD590_2_0140_cropped_patch_locations.txt s3://mousebrainatlas-data/CSHL_patch_features/inception-bn-blue/MD590/MD590_lossless_alignedTo_MD590-N47-2015.09.12-05.32.06_MD590_2_0140_cropped_gray/MD590-N65-2015.08.03-21.21.32_MD590_1_0195_lossless_alignedTo_MD590-N47-2015.09.12-05.32.06_MD590_2_0140_cropped_gray_patch_locations.txt\n"
     ]
    },
    {
     "name": "stderr",
     "output_type": "stream",
     "text": [
      "Child returned 0\n"
     ]
    },
    {
     "name": "stdout",
     "output_type": "stream",
     "text": [
      "/shared/CSHL_patch_features/inception-bn-blue/MD590/MD590-IHC65-2015.08.10-22.35.53_MD590_1_0195_lossless_alignedTo_MD590-N47-2015.09.12-05.32.06_MD590_2_0140_cropped/MD590-IHC65-2015.08.10-22.35.53_MD590_1_0195_lossless_alignedTo_MD590-N47-2015.09.12-05.32.06_MD590_2_0140_cropped_features.bp\n",
      "/shared/CSHL_patch_features/inception-bn-blue/MD590/MD590_lossless_alignedTo_MD590-N47-2015.09.12-05.32.06_MD590_2_0140_cropped_gray/MD590-IHC65-2015.08.10-22.35.53_MD590_1_0195_lossless_alignedTo_MD590-N47-2015.09.12-05.32.06_MD590_2_0140_cropped_gray_features.bp\n",
      "aws s3 cp s3://mousebrainatlas-data/CSHL_patch_features/inception-bn-blue/MD590/MD590-IHC65-2015.08.10-22.35.53_MD590_1_0195_lossless_alignedTo_MD590-N47-2015.09.12-05.32.06_MD590_2_0140_cropped/MD590-IHC65-2015.08.10-22.35.53_MD590_1_0195_lossless_alignedTo_MD590-N47-2015.09.12-05.32.06_MD590_2_0140_cropped_features.bp s3://mousebrainatlas-data/CSHL_patch_features/inception-bn-blue/MD590/MD590_lossless_alignedTo_MD590-N47-2015.09.12-05.32.06_MD590_2_0140_cropped_gray/MD590-IHC65-2015.08.10-22.35.53_MD590_1_0195_lossless_alignedTo_MD590-N47-2015.09.12-05.32.06_MD590_2_0140_cropped_gray_features.bp\n"
     ]
    },
    {
     "name": "stderr",
     "output_type": "stream",
     "text": [
      "Child returned 0\n"
     ]
    },
    {
     "name": "stdout",
     "output_type": "stream",
     "text": [
      "/shared/CSHL_patch_features/inception-bn-blue/MD590/MD590-IHC65-2015.08.10-22.35.53_MD590_1_0195_lossless_alignedTo_MD590-N47-2015.09.12-05.32.06_MD590_2_0140_cropped/MD590-IHC65-2015.08.10-22.35.53_MD590_1_0195_lossless_alignedTo_MD590-N47-2015.09.12-05.32.06_MD590_2_0140_cropped_patch_locations.txt\n",
      "/shared/CSHL_patch_features/inception-bn-blue/MD590/MD590_lossless_alignedTo_MD590-N47-2015.09.12-05.32.06_MD590_2_0140_cropped_gray/MD590-IHC65-2015.08.10-22.35.53_MD590_1_0195_lossless_alignedTo_MD590-N47-2015.09.12-05.32.06_MD590_2_0140_cropped_gray_patch_locations.txt\n",
      "aws s3 cp s3://mousebrainatlas-data/CSHL_patch_features/inception-bn-blue/MD590/MD590-IHC65-2015.08.10-22.35.53_MD590_1_0195_lossless_alignedTo_MD590-N47-2015.09.12-05.32.06_MD590_2_0140_cropped/MD590-IHC65-2015.08.10-22.35.53_MD590_1_0195_lossless_alignedTo_MD590-N47-2015.09.12-05.32.06_MD590_2_0140_cropped_patch_locations.txt s3://mousebrainatlas-data/CSHL_patch_features/inception-bn-blue/MD590/MD590_lossless_alignedTo_MD590-N47-2015.09.12-05.32.06_MD590_2_0140_cropped_gray/MD590-IHC65-2015.08.10-22.35.53_MD590_1_0195_lossless_alignedTo_MD590-N47-2015.09.12-05.32.06_MD590_2_0140_cropped_gray_patch_locations.txt\n"
     ]
    },
    {
     "name": "stderr",
     "output_type": "stream",
     "text": [
      "Child returned 0\n"
     ]
    },
    {
     "name": "stdout",
     "output_type": "stream",
     "text": [
      "/shared/CSHL_patch_features/inception-bn-blue/MD590/MD590-N66-2015.08.03-21.25.41_MD590_3_0196_lossless_alignedTo_MD590-N47-2015.09.12-05.32.06_MD590_2_0140_cropped/MD590-N66-2015.08.03-21.25.41_MD590_3_0196_lossless_alignedTo_MD590-N47-2015.09.12-05.32.06_MD590_2_0140_cropped_features.bp\n",
      "/shared/CSHL_patch_features/inception-bn-blue/MD590/MD590_lossless_alignedTo_MD590-N47-2015.09.12-05.32.06_MD590_2_0140_cropped_gray/MD590-N66-2015.08.03-21.25.41_MD590_3_0196_lossless_alignedTo_MD590-N47-2015.09.12-05.32.06_MD590_2_0140_cropped_gray_features.bp\n",
      "aws s3 cp s3://mousebrainatlas-data/CSHL_patch_features/inception-bn-blue/MD590/MD590-N66-2015.08.03-21.25.41_MD590_3_0196_lossless_alignedTo_MD590-N47-2015.09.12-05.32.06_MD590_2_0140_cropped/MD590-N66-2015.08.03-21.25.41_MD590_3_0196_lossless_alignedTo_MD590-N47-2015.09.12-05.32.06_MD590_2_0140_cropped_features.bp s3://mousebrainatlas-data/CSHL_patch_features/inception-bn-blue/MD590/MD590_lossless_alignedTo_MD590-N47-2015.09.12-05.32.06_MD590_2_0140_cropped_gray/MD590-N66-2015.08.03-21.25.41_MD590_3_0196_lossless_alignedTo_MD590-N47-2015.09.12-05.32.06_MD590_2_0140_cropped_gray_features.bp\n"
     ]
    },
    {
     "name": "stderr",
     "output_type": "stream",
     "text": [
      "Child returned 0\n"
     ]
    },
    {
     "name": "stdout",
     "output_type": "stream",
     "text": [
      "/shared/CSHL_patch_features/inception-bn-blue/MD590/MD590-N66-2015.08.03-21.25.41_MD590_3_0196_lossless_alignedTo_MD590-N47-2015.09.12-05.32.06_MD590_2_0140_cropped/MD590-N66-2015.08.03-21.25.41_MD590_3_0196_lossless_alignedTo_MD590-N47-2015.09.12-05.32.06_MD590_2_0140_cropped_patch_locations.txt\n",
      "/shared/CSHL_patch_features/inception-bn-blue/MD590/MD590_lossless_alignedTo_MD590-N47-2015.09.12-05.32.06_MD590_2_0140_cropped_gray/MD590-N66-2015.08.03-21.25.41_MD590_3_0196_lossless_alignedTo_MD590-N47-2015.09.12-05.32.06_MD590_2_0140_cropped_gray_patch_locations.txt\n",
      "aws s3 cp s3://mousebrainatlas-data/CSHL_patch_features/inception-bn-blue/MD590/MD590-N66-2015.08.03-21.25.41_MD590_3_0196_lossless_alignedTo_MD590-N47-2015.09.12-05.32.06_MD590_2_0140_cropped/MD590-N66-2015.08.03-21.25.41_MD590_3_0196_lossless_alignedTo_MD590-N47-2015.09.12-05.32.06_MD590_2_0140_cropped_patch_locations.txt s3://mousebrainatlas-data/CSHL_patch_features/inception-bn-blue/MD590/MD590_lossless_alignedTo_MD590-N47-2015.09.12-05.32.06_MD590_2_0140_cropped_gray/MD590-N66-2015.08.03-21.25.41_MD590_3_0196_lossless_alignedTo_MD590-N47-2015.09.12-05.32.06_MD590_2_0140_cropped_gray_patch_locations.txt\n"
     ]
    },
    {
     "name": "stderr",
     "output_type": "stream",
     "text": [
      "Child returned 0\n"
     ]
    },
    {
     "name": "stdout",
     "output_type": "stream",
     "text": [
      "/shared/CSHL_patch_features/inception-bn-blue/MD590/MD590-IHC66-2015.08.10-22.50.24_MD590_3_0196_lossless_alignedTo_MD590-N47-2015.09.12-05.32.06_MD590_2_0140_cropped/MD590-IHC66-2015.08.10-22.50.24_MD590_3_0196_lossless_alignedTo_MD590-N47-2015.09.12-05.32.06_MD590_2_0140_cropped_features.bp\n",
      "/shared/CSHL_patch_features/inception-bn-blue/MD590/MD590_lossless_alignedTo_MD590-N47-2015.09.12-05.32.06_MD590_2_0140_cropped_gray/MD590-IHC66-2015.08.10-22.50.24_MD590_3_0196_lossless_alignedTo_MD590-N47-2015.09.12-05.32.06_MD590_2_0140_cropped_gray_features.bp\n",
      "aws s3 cp s3://mousebrainatlas-data/CSHL_patch_features/inception-bn-blue/MD590/MD590-IHC66-2015.08.10-22.50.24_MD590_3_0196_lossless_alignedTo_MD590-N47-2015.09.12-05.32.06_MD590_2_0140_cropped/MD590-IHC66-2015.08.10-22.50.24_MD590_3_0196_lossless_alignedTo_MD590-N47-2015.09.12-05.32.06_MD590_2_0140_cropped_features.bp s3://mousebrainatlas-data/CSHL_patch_features/inception-bn-blue/MD590/MD590_lossless_alignedTo_MD590-N47-2015.09.12-05.32.06_MD590_2_0140_cropped_gray/MD590-IHC66-2015.08.10-22.50.24_MD590_3_0196_lossless_alignedTo_MD590-N47-2015.09.12-05.32.06_MD590_2_0140_cropped_gray_features.bp\n"
     ]
    },
    {
     "name": "stderr",
     "output_type": "stream",
     "text": [
      "Child returned 0\n"
     ]
    },
    {
     "name": "stdout",
     "output_type": "stream",
     "text": [
      "/shared/CSHL_patch_features/inception-bn-blue/MD590/MD590-IHC66-2015.08.10-22.50.24_MD590_3_0196_lossless_alignedTo_MD590-N47-2015.09.12-05.32.06_MD590_2_0140_cropped/MD590-IHC66-2015.08.10-22.50.24_MD590_3_0196_lossless_alignedTo_MD590-N47-2015.09.12-05.32.06_MD590_2_0140_cropped_patch_locations.txt\n",
      "/shared/CSHL_patch_features/inception-bn-blue/MD590/MD590_lossless_alignedTo_MD590-N47-2015.09.12-05.32.06_MD590_2_0140_cropped_gray/MD590-IHC66-2015.08.10-22.50.24_MD590_3_0196_lossless_alignedTo_MD590-N47-2015.09.12-05.32.06_MD590_2_0140_cropped_gray_patch_locations.txt\n",
      "aws s3 cp s3://mousebrainatlas-data/CSHL_patch_features/inception-bn-blue/MD590/MD590-IHC66-2015.08.10-22.50.24_MD590_3_0196_lossless_alignedTo_MD590-N47-2015.09.12-05.32.06_MD590_2_0140_cropped/MD590-IHC66-2015.08.10-22.50.24_MD590_3_0196_lossless_alignedTo_MD590-N47-2015.09.12-05.32.06_MD590_2_0140_cropped_patch_locations.txt s3://mousebrainatlas-data/CSHL_patch_features/inception-bn-blue/MD590/MD590_lossless_alignedTo_MD590-N47-2015.09.12-05.32.06_MD590_2_0140_cropped_gray/MD590-IHC66-2015.08.10-22.50.24_MD590_3_0196_lossless_alignedTo_MD590-N47-2015.09.12-05.32.06_MD590_2_0140_cropped_gray_patch_locations.txt\n"
     ]
    },
    {
     "name": "stderr",
     "output_type": "stream",
     "text": [
      "Child returned 0\n"
     ]
    },
    {
     "name": "stdout",
     "output_type": "stream",
     "text": [
      "/shared/CSHL_patch_features/inception-bn-blue/MD590/MD590-N66-2015.08.03-21.25.41_MD590_2_0197_lossless_alignedTo_MD590-N47-2015.09.12-05.32.06_MD590_2_0140_cropped/MD590-N66-2015.08.03-21.25.41_MD590_2_0197_lossless_alignedTo_MD590-N47-2015.09.12-05.32.06_MD590_2_0140_cropped_features.bp\n",
      "/shared/CSHL_patch_features/inception-bn-blue/MD590/MD590_lossless_alignedTo_MD590-N47-2015.09.12-05.32.06_MD590_2_0140_cropped_gray/MD590-N66-2015.08.03-21.25.41_MD590_2_0197_lossless_alignedTo_MD590-N47-2015.09.12-05.32.06_MD590_2_0140_cropped_gray_features.bp\n",
      "aws s3 cp s3://mousebrainatlas-data/CSHL_patch_features/inception-bn-blue/MD590/MD590-N66-2015.08.03-21.25.41_MD590_2_0197_lossless_alignedTo_MD590-N47-2015.09.12-05.32.06_MD590_2_0140_cropped/MD590-N66-2015.08.03-21.25.41_MD590_2_0197_lossless_alignedTo_MD590-N47-2015.09.12-05.32.06_MD590_2_0140_cropped_features.bp s3://mousebrainatlas-data/CSHL_patch_features/inception-bn-blue/MD590/MD590_lossless_alignedTo_MD590-N47-2015.09.12-05.32.06_MD590_2_0140_cropped_gray/MD590-N66-2015.08.03-21.25.41_MD590_2_0197_lossless_alignedTo_MD590-N47-2015.09.12-05.32.06_MD590_2_0140_cropped_gray_features.bp\n"
     ]
    },
    {
     "name": "stderr",
     "output_type": "stream",
     "text": [
      "Child returned 0\n"
     ]
    },
    {
     "name": "stdout",
     "output_type": "stream",
     "text": [
      "/shared/CSHL_patch_features/inception-bn-blue/MD590/MD590-N66-2015.08.03-21.25.41_MD590_2_0197_lossless_alignedTo_MD590-N47-2015.09.12-05.32.06_MD590_2_0140_cropped/MD590-N66-2015.08.03-21.25.41_MD590_2_0197_lossless_alignedTo_MD590-N47-2015.09.12-05.32.06_MD590_2_0140_cropped_patch_locations.txt\n",
      "/shared/CSHL_patch_features/inception-bn-blue/MD590/MD590_lossless_alignedTo_MD590-N47-2015.09.12-05.32.06_MD590_2_0140_cropped_gray/MD590-N66-2015.08.03-21.25.41_MD590_2_0197_lossless_alignedTo_MD590-N47-2015.09.12-05.32.06_MD590_2_0140_cropped_gray_patch_locations.txt\n",
      "aws s3 cp s3://mousebrainatlas-data/CSHL_patch_features/inception-bn-blue/MD590/MD590-N66-2015.08.03-21.25.41_MD590_2_0197_lossless_alignedTo_MD590-N47-2015.09.12-05.32.06_MD590_2_0140_cropped/MD590-N66-2015.08.03-21.25.41_MD590_2_0197_lossless_alignedTo_MD590-N47-2015.09.12-05.32.06_MD590_2_0140_cropped_patch_locations.txt s3://mousebrainatlas-data/CSHL_patch_features/inception-bn-blue/MD590/MD590_lossless_alignedTo_MD590-N47-2015.09.12-05.32.06_MD590_2_0140_cropped_gray/MD590-N66-2015.08.03-21.25.41_MD590_2_0197_lossless_alignedTo_MD590-N47-2015.09.12-05.32.06_MD590_2_0140_cropped_gray_patch_locations.txt\n"
     ]
    },
    {
     "name": "stderr",
     "output_type": "stream",
     "text": [
      "Child returned 0\n"
     ]
    },
    {
     "name": "stdout",
     "output_type": "stream",
     "text": [
      "/shared/CSHL_patch_features/inception-bn-blue/MD590/MD590-IHC66-2015.08.10-22.50.24_MD590_2_0197_lossless_alignedTo_MD590-N47-2015.09.12-05.32.06_MD590_2_0140_cropped/MD590-IHC66-2015.08.10-22.50.24_MD590_2_0197_lossless_alignedTo_MD590-N47-2015.09.12-05.32.06_MD590_2_0140_cropped_features.bp\n",
      "/shared/CSHL_patch_features/inception-bn-blue/MD590/MD590_lossless_alignedTo_MD590-N47-2015.09.12-05.32.06_MD590_2_0140_cropped_gray/MD590-IHC66-2015.08.10-22.50.24_MD590_2_0197_lossless_alignedTo_MD590-N47-2015.09.12-05.32.06_MD590_2_0140_cropped_gray_features.bp\n",
      "aws s3 cp s3://mousebrainatlas-data/CSHL_patch_features/inception-bn-blue/MD590/MD590-IHC66-2015.08.10-22.50.24_MD590_2_0197_lossless_alignedTo_MD590-N47-2015.09.12-05.32.06_MD590_2_0140_cropped/MD590-IHC66-2015.08.10-22.50.24_MD590_2_0197_lossless_alignedTo_MD590-N47-2015.09.12-05.32.06_MD590_2_0140_cropped_features.bp s3://mousebrainatlas-data/CSHL_patch_features/inception-bn-blue/MD590/MD590_lossless_alignedTo_MD590-N47-2015.09.12-05.32.06_MD590_2_0140_cropped_gray/MD590-IHC66-2015.08.10-22.50.24_MD590_2_0197_lossless_alignedTo_MD590-N47-2015.09.12-05.32.06_MD590_2_0140_cropped_gray_features.bp\n"
     ]
    },
    {
     "name": "stderr",
     "output_type": "stream",
     "text": [
      "Child returned 0\n"
     ]
    },
    {
     "name": "stdout",
     "output_type": "stream",
     "text": [
      "/shared/CSHL_patch_features/inception-bn-blue/MD590/MD590-IHC66-2015.08.10-22.50.24_MD590_2_0197_lossless_alignedTo_MD590-N47-2015.09.12-05.32.06_MD590_2_0140_cropped/MD590-IHC66-2015.08.10-22.50.24_MD590_2_0197_lossless_alignedTo_MD590-N47-2015.09.12-05.32.06_MD590_2_0140_cropped_patch_locations.txt\n",
      "/shared/CSHL_patch_features/inception-bn-blue/MD590/MD590_lossless_alignedTo_MD590-N47-2015.09.12-05.32.06_MD590_2_0140_cropped_gray/MD590-IHC66-2015.08.10-22.50.24_MD590_2_0197_lossless_alignedTo_MD590-N47-2015.09.12-05.32.06_MD590_2_0140_cropped_gray_patch_locations.txt\n",
      "aws s3 cp s3://mousebrainatlas-data/CSHL_patch_features/inception-bn-blue/MD590/MD590-IHC66-2015.08.10-22.50.24_MD590_2_0197_lossless_alignedTo_MD590-N47-2015.09.12-05.32.06_MD590_2_0140_cropped/MD590-IHC66-2015.08.10-22.50.24_MD590_2_0197_lossless_alignedTo_MD590-N47-2015.09.12-05.32.06_MD590_2_0140_cropped_patch_locations.txt s3://mousebrainatlas-data/CSHL_patch_features/inception-bn-blue/MD590/MD590_lossless_alignedTo_MD590-N47-2015.09.12-05.32.06_MD590_2_0140_cropped_gray/MD590-IHC66-2015.08.10-22.50.24_MD590_2_0197_lossless_alignedTo_MD590-N47-2015.09.12-05.32.06_MD590_2_0140_cropped_gray_patch_locations.txt\n"
     ]
    },
    {
     "name": "stderr",
     "output_type": "stream",
     "text": [
      "Child returned 0\n"
     ]
    },
    {
     "name": "stdout",
     "output_type": "stream",
     "text": [
      "/shared/CSHL_patch_features/inception-bn-blue/MD590/MD590-N66-2015.08.03-21.25.41_MD590_1_0198_lossless_alignedTo_MD590-N47-2015.09.12-05.32.06_MD590_2_0140_cropped/MD590-N66-2015.08.03-21.25.41_MD590_1_0198_lossless_alignedTo_MD590-N47-2015.09.12-05.32.06_MD590_2_0140_cropped_features.bp\n",
      "/shared/CSHL_patch_features/inception-bn-blue/MD590/MD590_lossless_alignedTo_MD590-N47-2015.09.12-05.32.06_MD590_2_0140_cropped_gray/MD590-N66-2015.08.03-21.25.41_MD590_1_0198_lossless_alignedTo_MD590-N47-2015.09.12-05.32.06_MD590_2_0140_cropped_gray_features.bp\n",
      "aws s3 cp s3://mousebrainatlas-data/CSHL_patch_features/inception-bn-blue/MD590/MD590-N66-2015.08.03-21.25.41_MD590_1_0198_lossless_alignedTo_MD590-N47-2015.09.12-05.32.06_MD590_2_0140_cropped/MD590-N66-2015.08.03-21.25.41_MD590_1_0198_lossless_alignedTo_MD590-N47-2015.09.12-05.32.06_MD590_2_0140_cropped_features.bp s3://mousebrainatlas-data/CSHL_patch_features/inception-bn-blue/MD590/MD590_lossless_alignedTo_MD590-N47-2015.09.12-05.32.06_MD590_2_0140_cropped_gray/MD590-N66-2015.08.03-21.25.41_MD590_1_0198_lossless_alignedTo_MD590-N47-2015.09.12-05.32.06_MD590_2_0140_cropped_gray_features.bp\n"
     ]
    },
    {
     "name": "stderr",
     "output_type": "stream",
     "text": [
      "Child returned 0\n"
     ]
    },
    {
     "name": "stdout",
     "output_type": "stream",
     "text": [
      "/shared/CSHL_patch_features/inception-bn-blue/MD590/MD590-N66-2015.08.03-21.25.41_MD590_1_0198_lossless_alignedTo_MD590-N47-2015.09.12-05.32.06_MD590_2_0140_cropped/MD590-N66-2015.08.03-21.25.41_MD590_1_0198_lossless_alignedTo_MD590-N47-2015.09.12-05.32.06_MD590_2_0140_cropped_patch_locations.txt\n",
      "/shared/CSHL_patch_features/inception-bn-blue/MD590/MD590_lossless_alignedTo_MD590-N47-2015.09.12-05.32.06_MD590_2_0140_cropped_gray/MD590-N66-2015.08.03-21.25.41_MD590_1_0198_lossless_alignedTo_MD590-N47-2015.09.12-05.32.06_MD590_2_0140_cropped_gray_patch_locations.txt\n",
      "aws s3 cp s3://mousebrainatlas-data/CSHL_patch_features/inception-bn-blue/MD590/MD590-N66-2015.08.03-21.25.41_MD590_1_0198_lossless_alignedTo_MD590-N47-2015.09.12-05.32.06_MD590_2_0140_cropped/MD590-N66-2015.08.03-21.25.41_MD590_1_0198_lossless_alignedTo_MD590-N47-2015.09.12-05.32.06_MD590_2_0140_cropped_patch_locations.txt s3://mousebrainatlas-data/CSHL_patch_features/inception-bn-blue/MD590/MD590_lossless_alignedTo_MD590-N47-2015.09.12-05.32.06_MD590_2_0140_cropped_gray/MD590-N66-2015.08.03-21.25.41_MD590_1_0198_lossless_alignedTo_MD590-N47-2015.09.12-05.32.06_MD590_2_0140_cropped_gray_patch_locations.txt\n"
     ]
    },
    {
     "name": "stderr",
     "output_type": "stream",
     "text": [
      "Child returned 0\n"
     ]
    },
    {
     "name": "stdout",
     "output_type": "stream",
     "text": [
      "/shared/CSHL_patch_features/inception-bn-blue/MD590/MD590-IHC66-2015.08.10-22.50.24_MD590_1_0198_lossless_alignedTo_MD590-N47-2015.09.12-05.32.06_MD590_2_0140_cropped/MD590-IHC66-2015.08.10-22.50.24_MD590_1_0198_lossless_alignedTo_MD590-N47-2015.09.12-05.32.06_MD590_2_0140_cropped_features.bp\n",
      "/shared/CSHL_patch_features/inception-bn-blue/MD590/MD590_lossless_alignedTo_MD590-N47-2015.09.12-05.32.06_MD590_2_0140_cropped_gray/MD590-IHC66-2015.08.10-22.50.24_MD590_1_0198_lossless_alignedTo_MD590-N47-2015.09.12-05.32.06_MD590_2_0140_cropped_gray_features.bp\n",
      "aws s3 cp s3://mousebrainatlas-data/CSHL_patch_features/inception-bn-blue/MD590/MD590-IHC66-2015.08.10-22.50.24_MD590_1_0198_lossless_alignedTo_MD590-N47-2015.09.12-05.32.06_MD590_2_0140_cropped/MD590-IHC66-2015.08.10-22.50.24_MD590_1_0198_lossless_alignedTo_MD590-N47-2015.09.12-05.32.06_MD590_2_0140_cropped_features.bp s3://mousebrainatlas-data/CSHL_patch_features/inception-bn-blue/MD590/MD590_lossless_alignedTo_MD590-N47-2015.09.12-05.32.06_MD590_2_0140_cropped_gray/MD590-IHC66-2015.08.10-22.50.24_MD590_1_0198_lossless_alignedTo_MD590-N47-2015.09.12-05.32.06_MD590_2_0140_cropped_gray_features.bp\n"
     ]
    },
    {
     "name": "stderr",
     "output_type": "stream",
     "text": [
      "Child returned 0\n"
     ]
    },
    {
     "name": "stdout",
     "output_type": "stream",
     "text": [
      "/shared/CSHL_patch_features/inception-bn-blue/MD590/MD590-IHC66-2015.08.10-22.50.24_MD590_1_0198_lossless_alignedTo_MD590-N47-2015.09.12-05.32.06_MD590_2_0140_cropped/MD590-IHC66-2015.08.10-22.50.24_MD590_1_0198_lossless_alignedTo_MD590-N47-2015.09.12-05.32.06_MD590_2_0140_cropped_patch_locations.txt\n",
      "/shared/CSHL_patch_features/inception-bn-blue/MD590/MD590_lossless_alignedTo_MD590-N47-2015.09.12-05.32.06_MD590_2_0140_cropped_gray/MD590-IHC66-2015.08.10-22.50.24_MD590_1_0198_lossless_alignedTo_MD590-N47-2015.09.12-05.32.06_MD590_2_0140_cropped_gray_patch_locations.txt\n",
      "aws s3 cp s3://mousebrainatlas-data/CSHL_patch_features/inception-bn-blue/MD590/MD590-IHC66-2015.08.10-22.50.24_MD590_1_0198_lossless_alignedTo_MD590-N47-2015.09.12-05.32.06_MD590_2_0140_cropped/MD590-IHC66-2015.08.10-22.50.24_MD590_1_0198_lossless_alignedTo_MD590-N47-2015.09.12-05.32.06_MD590_2_0140_cropped_patch_locations.txt s3://mousebrainatlas-data/CSHL_patch_features/inception-bn-blue/MD590/MD590_lossless_alignedTo_MD590-N47-2015.09.12-05.32.06_MD590_2_0140_cropped_gray/MD590-IHC66-2015.08.10-22.50.24_MD590_1_0198_lossless_alignedTo_MD590-N47-2015.09.12-05.32.06_MD590_2_0140_cropped_gray_patch_locations.txt\n"
     ]
    },
    {
     "name": "stderr",
     "output_type": "stream",
     "text": [
      "Child returned 0\n"
     ]
    },
    {
     "name": "stdout",
     "output_type": "stream",
     "text": [
      "/shared/CSHL_patch_features/inception-bn-blue/MD590/MD590-N67-2015.08.03-21.29.46_MD590_3_0199_lossless_alignedTo_MD590-N47-2015.09.12-05.32.06_MD590_2_0140_cropped/MD590-N67-2015.08.03-21.29.46_MD590_3_0199_lossless_alignedTo_MD590-N47-2015.09.12-05.32.06_MD590_2_0140_cropped_features.bp\n",
      "/shared/CSHL_patch_features/inception-bn-blue/MD590/MD590_lossless_alignedTo_MD590-N47-2015.09.12-05.32.06_MD590_2_0140_cropped_gray/MD590-N67-2015.08.03-21.29.46_MD590_3_0199_lossless_alignedTo_MD590-N47-2015.09.12-05.32.06_MD590_2_0140_cropped_gray_features.bp\n",
      "aws s3 cp s3://mousebrainatlas-data/CSHL_patch_features/inception-bn-blue/MD590/MD590-N67-2015.08.03-21.29.46_MD590_3_0199_lossless_alignedTo_MD590-N47-2015.09.12-05.32.06_MD590_2_0140_cropped/MD590-N67-2015.08.03-21.29.46_MD590_3_0199_lossless_alignedTo_MD590-N47-2015.09.12-05.32.06_MD590_2_0140_cropped_features.bp s3://mousebrainatlas-data/CSHL_patch_features/inception-bn-blue/MD590/MD590_lossless_alignedTo_MD590-N47-2015.09.12-05.32.06_MD590_2_0140_cropped_gray/MD590-N67-2015.08.03-21.29.46_MD590_3_0199_lossless_alignedTo_MD590-N47-2015.09.12-05.32.06_MD590_2_0140_cropped_gray_features.bp\n"
     ]
    },
    {
     "name": "stderr",
     "output_type": "stream",
     "text": [
      "Child returned 0\n"
     ]
    },
    {
     "name": "stdout",
     "output_type": "stream",
     "text": [
      "/shared/CSHL_patch_features/inception-bn-blue/MD590/MD590-N67-2015.08.03-21.29.46_MD590_3_0199_lossless_alignedTo_MD590-N47-2015.09.12-05.32.06_MD590_2_0140_cropped/MD590-N67-2015.08.03-21.29.46_MD590_3_0199_lossless_alignedTo_MD590-N47-2015.09.12-05.32.06_MD590_2_0140_cropped_patch_locations.txt\n",
      "/shared/CSHL_patch_features/inception-bn-blue/MD590/MD590_lossless_alignedTo_MD590-N47-2015.09.12-05.32.06_MD590_2_0140_cropped_gray/MD590-N67-2015.08.03-21.29.46_MD590_3_0199_lossless_alignedTo_MD590-N47-2015.09.12-05.32.06_MD590_2_0140_cropped_gray_patch_locations.txt\n",
      "aws s3 cp s3://mousebrainatlas-data/CSHL_patch_features/inception-bn-blue/MD590/MD590-N67-2015.08.03-21.29.46_MD590_3_0199_lossless_alignedTo_MD590-N47-2015.09.12-05.32.06_MD590_2_0140_cropped/MD590-N67-2015.08.03-21.29.46_MD590_3_0199_lossless_alignedTo_MD590-N47-2015.09.12-05.32.06_MD590_2_0140_cropped_patch_locations.txt s3://mousebrainatlas-data/CSHL_patch_features/inception-bn-blue/MD590/MD590_lossless_alignedTo_MD590-N47-2015.09.12-05.32.06_MD590_2_0140_cropped_gray/MD590-N67-2015.08.03-21.29.46_MD590_3_0199_lossless_alignedTo_MD590-N47-2015.09.12-05.32.06_MD590_2_0140_cropped_gray_patch_locations.txt\n"
     ]
    },
    {
     "name": "stderr",
     "output_type": "stream",
     "text": [
      "Child returned 0\n"
     ]
    },
    {
     "name": "stdout",
     "output_type": "stream",
     "text": [
      "/shared/CSHL_patch_features/inception-bn-blue/MD590/MD590-IHC67-2015.08.10-22.54.35_MD590_3_0199_lossless_alignedTo_MD590-N47-2015.09.12-05.32.06_MD590_2_0140_cropped/MD590-IHC67-2015.08.10-22.54.35_MD590_3_0199_lossless_alignedTo_MD590-N47-2015.09.12-05.32.06_MD590_2_0140_cropped_features.bp\n",
      "/shared/CSHL_patch_features/inception-bn-blue/MD590/MD590_lossless_alignedTo_MD590-N47-2015.09.12-05.32.06_MD590_2_0140_cropped_gray/MD590-IHC67-2015.08.10-22.54.35_MD590_3_0199_lossless_alignedTo_MD590-N47-2015.09.12-05.32.06_MD590_2_0140_cropped_gray_features.bp\n",
      "aws s3 cp s3://mousebrainatlas-data/CSHL_patch_features/inception-bn-blue/MD590/MD590-IHC67-2015.08.10-22.54.35_MD590_3_0199_lossless_alignedTo_MD590-N47-2015.09.12-05.32.06_MD590_2_0140_cropped/MD590-IHC67-2015.08.10-22.54.35_MD590_3_0199_lossless_alignedTo_MD590-N47-2015.09.12-05.32.06_MD590_2_0140_cropped_features.bp s3://mousebrainatlas-data/CSHL_patch_features/inception-bn-blue/MD590/MD590_lossless_alignedTo_MD590-N47-2015.09.12-05.32.06_MD590_2_0140_cropped_gray/MD590-IHC67-2015.08.10-22.54.35_MD590_3_0199_lossless_alignedTo_MD590-N47-2015.09.12-05.32.06_MD590_2_0140_cropped_gray_features.bp\n"
     ]
    },
    {
     "name": "stderr",
     "output_type": "stream",
     "text": [
      "Child returned 0\n"
     ]
    },
    {
     "name": "stdout",
     "output_type": "stream",
     "text": [
      "/shared/CSHL_patch_features/inception-bn-blue/MD590/MD590-IHC67-2015.08.10-22.54.35_MD590_3_0199_lossless_alignedTo_MD590-N47-2015.09.12-05.32.06_MD590_2_0140_cropped/MD590-IHC67-2015.08.10-22.54.35_MD590_3_0199_lossless_alignedTo_MD590-N47-2015.09.12-05.32.06_MD590_2_0140_cropped_patch_locations.txt\n",
      "/shared/CSHL_patch_features/inception-bn-blue/MD590/MD590_lossless_alignedTo_MD590-N47-2015.09.12-05.32.06_MD590_2_0140_cropped_gray/MD590-IHC67-2015.08.10-22.54.35_MD590_3_0199_lossless_alignedTo_MD590-N47-2015.09.12-05.32.06_MD590_2_0140_cropped_gray_patch_locations.txt\n",
      "aws s3 cp s3://mousebrainatlas-data/CSHL_patch_features/inception-bn-blue/MD590/MD590-IHC67-2015.08.10-22.54.35_MD590_3_0199_lossless_alignedTo_MD590-N47-2015.09.12-05.32.06_MD590_2_0140_cropped/MD590-IHC67-2015.08.10-22.54.35_MD590_3_0199_lossless_alignedTo_MD590-N47-2015.09.12-05.32.06_MD590_2_0140_cropped_patch_locations.txt s3://mousebrainatlas-data/CSHL_patch_features/inception-bn-blue/MD590/MD590_lossless_alignedTo_MD590-N47-2015.09.12-05.32.06_MD590_2_0140_cropped_gray/MD590-IHC67-2015.08.10-22.54.35_MD590_3_0199_lossless_alignedTo_MD590-N47-2015.09.12-05.32.06_MD590_2_0140_cropped_gray_patch_locations.txt\n"
     ]
    },
    {
     "name": "stderr",
     "output_type": "stream",
     "text": [
      "Child returned 0\n"
     ]
    },
    {
     "name": "stdout",
     "output_type": "stream",
     "text": [
      "/shared/CSHL_patch_features/inception-bn-blue/MD590/MD590-N67-2015.08.03-21.29.46_MD590_2_0200_lossless_alignedTo_MD590-N47-2015.09.12-05.32.06_MD590_2_0140_cropped/MD590-N67-2015.08.03-21.29.46_MD590_2_0200_lossless_alignedTo_MD590-N47-2015.09.12-05.32.06_MD590_2_0140_cropped_features.bp\n",
      "/shared/CSHL_patch_features/inception-bn-blue/MD590/MD590_lossless_alignedTo_MD590-N47-2015.09.12-05.32.06_MD590_2_0140_cropped_gray/MD590-N67-2015.08.03-21.29.46_MD590_2_0200_lossless_alignedTo_MD590-N47-2015.09.12-05.32.06_MD590_2_0140_cropped_gray_features.bp\n",
      "aws s3 cp s3://mousebrainatlas-data/CSHL_patch_features/inception-bn-blue/MD590/MD590-N67-2015.08.03-21.29.46_MD590_2_0200_lossless_alignedTo_MD590-N47-2015.09.12-05.32.06_MD590_2_0140_cropped/MD590-N67-2015.08.03-21.29.46_MD590_2_0200_lossless_alignedTo_MD590-N47-2015.09.12-05.32.06_MD590_2_0140_cropped_features.bp s3://mousebrainatlas-data/CSHL_patch_features/inception-bn-blue/MD590/MD590_lossless_alignedTo_MD590-N47-2015.09.12-05.32.06_MD590_2_0140_cropped_gray/MD590-N67-2015.08.03-21.29.46_MD590_2_0200_lossless_alignedTo_MD590-N47-2015.09.12-05.32.06_MD590_2_0140_cropped_gray_features.bp\n"
     ]
    },
    {
     "name": "stderr",
     "output_type": "stream",
     "text": [
      "Child returned 0\n"
     ]
    },
    {
     "name": "stdout",
     "output_type": "stream",
     "text": [
      "/shared/CSHL_patch_features/inception-bn-blue/MD590/MD590-N67-2015.08.03-21.29.46_MD590_2_0200_lossless_alignedTo_MD590-N47-2015.09.12-05.32.06_MD590_2_0140_cropped/MD590-N67-2015.08.03-21.29.46_MD590_2_0200_lossless_alignedTo_MD590-N47-2015.09.12-05.32.06_MD590_2_0140_cropped_patch_locations.txt\n",
      "/shared/CSHL_patch_features/inception-bn-blue/MD590/MD590_lossless_alignedTo_MD590-N47-2015.09.12-05.32.06_MD590_2_0140_cropped_gray/MD590-N67-2015.08.03-21.29.46_MD590_2_0200_lossless_alignedTo_MD590-N47-2015.09.12-05.32.06_MD590_2_0140_cropped_gray_patch_locations.txt\n",
      "aws s3 cp s3://mousebrainatlas-data/CSHL_patch_features/inception-bn-blue/MD590/MD590-N67-2015.08.03-21.29.46_MD590_2_0200_lossless_alignedTo_MD590-N47-2015.09.12-05.32.06_MD590_2_0140_cropped/MD590-N67-2015.08.03-21.29.46_MD590_2_0200_lossless_alignedTo_MD590-N47-2015.09.12-05.32.06_MD590_2_0140_cropped_patch_locations.txt s3://mousebrainatlas-data/CSHL_patch_features/inception-bn-blue/MD590/MD590_lossless_alignedTo_MD590-N47-2015.09.12-05.32.06_MD590_2_0140_cropped_gray/MD590-N67-2015.08.03-21.29.46_MD590_2_0200_lossless_alignedTo_MD590-N47-2015.09.12-05.32.06_MD590_2_0140_cropped_gray_patch_locations.txt\n"
     ]
    },
    {
     "name": "stderr",
     "output_type": "stream",
     "text": [
      "Child returned 0\n"
     ]
    },
    {
     "name": "stdout",
     "output_type": "stream",
     "text": [
      "/shared/CSHL_patch_features/inception-bn-blue/MD590/MD590-IHC67-2015.08.10-22.54.35_MD590_2_0200_lossless_alignedTo_MD590-N47-2015.09.12-05.32.06_MD590_2_0140_cropped/MD590-IHC67-2015.08.10-22.54.35_MD590_2_0200_lossless_alignedTo_MD590-N47-2015.09.12-05.32.06_MD590_2_0140_cropped_features.bp\n",
      "/shared/CSHL_patch_features/inception-bn-blue/MD590/MD590_lossless_alignedTo_MD590-N47-2015.09.12-05.32.06_MD590_2_0140_cropped_gray/MD590-IHC67-2015.08.10-22.54.35_MD590_2_0200_lossless_alignedTo_MD590-N47-2015.09.12-05.32.06_MD590_2_0140_cropped_gray_features.bp\n",
      "aws s3 cp s3://mousebrainatlas-data/CSHL_patch_features/inception-bn-blue/MD590/MD590-IHC67-2015.08.10-22.54.35_MD590_2_0200_lossless_alignedTo_MD590-N47-2015.09.12-05.32.06_MD590_2_0140_cropped/MD590-IHC67-2015.08.10-22.54.35_MD590_2_0200_lossless_alignedTo_MD590-N47-2015.09.12-05.32.06_MD590_2_0140_cropped_features.bp s3://mousebrainatlas-data/CSHL_patch_features/inception-bn-blue/MD590/MD590_lossless_alignedTo_MD590-N47-2015.09.12-05.32.06_MD590_2_0140_cropped_gray/MD590-IHC67-2015.08.10-22.54.35_MD590_2_0200_lossless_alignedTo_MD590-N47-2015.09.12-05.32.06_MD590_2_0140_cropped_gray_features.bp\n"
     ]
    },
    {
     "name": "stderr",
     "output_type": "stream",
     "text": [
      "Child returned 0\n"
     ]
    },
    {
     "name": "stdout",
     "output_type": "stream",
     "text": [
      "/shared/CSHL_patch_features/inception-bn-blue/MD590/MD590-IHC67-2015.08.10-22.54.35_MD590_2_0200_lossless_alignedTo_MD590-N47-2015.09.12-05.32.06_MD590_2_0140_cropped/MD590-IHC67-2015.08.10-22.54.35_MD590_2_0200_lossless_alignedTo_MD590-N47-2015.09.12-05.32.06_MD590_2_0140_cropped_patch_locations.txt\n",
      "/shared/CSHL_patch_features/inception-bn-blue/MD590/MD590_lossless_alignedTo_MD590-N47-2015.09.12-05.32.06_MD590_2_0140_cropped_gray/MD590-IHC67-2015.08.10-22.54.35_MD590_2_0200_lossless_alignedTo_MD590-N47-2015.09.12-05.32.06_MD590_2_0140_cropped_gray_patch_locations.txt\n",
      "aws s3 cp s3://mousebrainatlas-data/CSHL_patch_features/inception-bn-blue/MD590/MD590-IHC67-2015.08.10-22.54.35_MD590_2_0200_lossless_alignedTo_MD590-N47-2015.09.12-05.32.06_MD590_2_0140_cropped/MD590-IHC67-2015.08.10-22.54.35_MD590_2_0200_lossless_alignedTo_MD590-N47-2015.09.12-05.32.06_MD590_2_0140_cropped_patch_locations.txt s3://mousebrainatlas-data/CSHL_patch_features/inception-bn-blue/MD590/MD590_lossless_alignedTo_MD590-N47-2015.09.12-05.32.06_MD590_2_0140_cropped_gray/MD590-IHC67-2015.08.10-22.54.35_MD590_2_0200_lossless_alignedTo_MD590-N47-2015.09.12-05.32.06_MD590_2_0140_cropped_gray_patch_locations.txt\n"
     ]
    },
    {
     "name": "stderr",
     "output_type": "stream",
     "text": [
      "Child returned 0\n"
     ]
    },
    {
     "name": "stdout",
     "output_type": "stream",
     "text": [
      "/shared/CSHL_patch_features/inception-bn-blue/MD590/MD590-N67-2015.08.03-21.29.46_MD590_1_0201_lossless_alignedTo_MD590-N47-2015.09.12-05.32.06_MD590_2_0140_cropped/MD590-N67-2015.08.03-21.29.46_MD590_1_0201_lossless_alignedTo_MD590-N47-2015.09.12-05.32.06_MD590_2_0140_cropped_features.bp\n",
      "/shared/CSHL_patch_features/inception-bn-blue/MD590/MD590_lossless_alignedTo_MD590-N47-2015.09.12-05.32.06_MD590_2_0140_cropped_gray/MD590-N67-2015.08.03-21.29.46_MD590_1_0201_lossless_alignedTo_MD590-N47-2015.09.12-05.32.06_MD590_2_0140_cropped_gray_features.bp\n",
      "aws s3 cp s3://mousebrainatlas-data/CSHL_patch_features/inception-bn-blue/MD590/MD590-N67-2015.08.03-21.29.46_MD590_1_0201_lossless_alignedTo_MD590-N47-2015.09.12-05.32.06_MD590_2_0140_cropped/MD590-N67-2015.08.03-21.29.46_MD590_1_0201_lossless_alignedTo_MD590-N47-2015.09.12-05.32.06_MD590_2_0140_cropped_features.bp s3://mousebrainatlas-data/CSHL_patch_features/inception-bn-blue/MD590/MD590_lossless_alignedTo_MD590-N47-2015.09.12-05.32.06_MD590_2_0140_cropped_gray/MD590-N67-2015.08.03-21.29.46_MD590_1_0201_lossless_alignedTo_MD590-N47-2015.09.12-05.32.06_MD590_2_0140_cropped_gray_features.bp\n"
     ]
    },
    {
     "name": "stderr",
     "output_type": "stream",
     "text": [
      "Child returned 0\n"
     ]
    },
    {
     "name": "stdout",
     "output_type": "stream",
     "text": [
      "/shared/CSHL_patch_features/inception-bn-blue/MD590/MD590-N67-2015.08.03-21.29.46_MD590_1_0201_lossless_alignedTo_MD590-N47-2015.09.12-05.32.06_MD590_2_0140_cropped/MD590-N67-2015.08.03-21.29.46_MD590_1_0201_lossless_alignedTo_MD590-N47-2015.09.12-05.32.06_MD590_2_0140_cropped_patch_locations.txt\n",
      "/shared/CSHL_patch_features/inception-bn-blue/MD590/MD590_lossless_alignedTo_MD590-N47-2015.09.12-05.32.06_MD590_2_0140_cropped_gray/MD590-N67-2015.08.03-21.29.46_MD590_1_0201_lossless_alignedTo_MD590-N47-2015.09.12-05.32.06_MD590_2_0140_cropped_gray_patch_locations.txt\n",
      "aws s3 cp s3://mousebrainatlas-data/CSHL_patch_features/inception-bn-blue/MD590/MD590-N67-2015.08.03-21.29.46_MD590_1_0201_lossless_alignedTo_MD590-N47-2015.09.12-05.32.06_MD590_2_0140_cropped/MD590-N67-2015.08.03-21.29.46_MD590_1_0201_lossless_alignedTo_MD590-N47-2015.09.12-05.32.06_MD590_2_0140_cropped_patch_locations.txt s3://mousebrainatlas-data/CSHL_patch_features/inception-bn-blue/MD590/MD590_lossless_alignedTo_MD590-N47-2015.09.12-05.32.06_MD590_2_0140_cropped_gray/MD590-N67-2015.08.03-21.29.46_MD590_1_0201_lossless_alignedTo_MD590-N47-2015.09.12-05.32.06_MD590_2_0140_cropped_gray_patch_locations.txt\n"
     ]
    },
    {
     "name": "stderr",
     "output_type": "stream",
     "text": [
      "Child returned 0\n"
     ]
    },
    {
     "name": "stdout",
     "output_type": "stream",
     "text": [
      "/shared/CSHL_patch_features/inception-bn-blue/MD590/MD590-IHC67-2015.08.10-22.54.35_MD590_1_0201_lossless_alignedTo_MD590-N47-2015.09.12-05.32.06_MD590_2_0140_cropped/MD590-IHC67-2015.08.10-22.54.35_MD590_1_0201_lossless_alignedTo_MD590-N47-2015.09.12-05.32.06_MD590_2_0140_cropped_features.bp\n",
      "/shared/CSHL_patch_features/inception-bn-blue/MD590/MD590_lossless_alignedTo_MD590-N47-2015.09.12-05.32.06_MD590_2_0140_cropped_gray/MD590-IHC67-2015.08.10-22.54.35_MD590_1_0201_lossless_alignedTo_MD590-N47-2015.09.12-05.32.06_MD590_2_0140_cropped_gray_features.bp\n",
      "aws s3 cp s3://mousebrainatlas-data/CSHL_patch_features/inception-bn-blue/MD590/MD590-IHC67-2015.08.10-22.54.35_MD590_1_0201_lossless_alignedTo_MD590-N47-2015.09.12-05.32.06_MD590_2_0140_cropped/MD590-IHC67-2015.08.10-22.54.35_MD590_1_0201_lossless_alignedTo_MD590-N47-2015.09.12-05.32.06_MD590_2_0140_cropped_features.bp s3://mousebrainatlas-data/CSHL_patch_features/inception-bn-blue/MD590/MD590_lossless_alignedTo_MD590-N47-2015.09.12-05.32.06_MD590_2_0140_cropped_gray/MD590-IHC67-2015.08.10-22.54.35_MD590_1_0201_lossless_alignedTo_MD590-N47-2015.09.12-05.32.06_MD590_2_0140_cropped_gray_features.bp\n"
     ]
    },
    {
     "name": "stderr",
     "output_type": "stream",
     "text": [
      "Child returned 0\n"
     ]
    },
    {
     "name": "stdout",
     "output_type": "stream",
     "text": [
      "/shared/CSHL_patch_features/inception-bn-blue/MD590/MD590-IHC67-2015.08.10-22.54.35_MD590_1_0201_lossless_alignedTo_MD590-N47-2015.09.12-05.32.06_MD590_2_0140_cropped/MD590-IHC67-2015.08.10-22.54.35_MD590_1_0201_lossless_alignedTo_MD590-N47-2015.09.12-05.32.06_MD590_2_0140_cropped_patch_locations.txt\n",
      "/shared/CSHL_patch_features/inception-bn-blue/MD590/MD590_lossless_alignedTo_MD590-N47-2015.09.12-05.32.06_MD590_2_0140_cropped_gray/MD590-IHC67-2015.08.10-22.54.35_MD590_1_0201_lossless_alignedTo_MD590-N47-2015.09.12-05.32.06_MD590_2_0140_cropped_gray_patch_locations.txt\n",
      "aws s3 cp s3://mousebrainatlas-data/CSHL_patch_features/inception-bn-blue/MD590/MD590-IHC67-2015.08.10-22.54.35_MD590_1_0201_lossless_alignedTo_MD590-N47-2015.09.12-05.32.06_MD590_2_0140_cropped/MD590-IHC67-2015.08.10-22.54.35_MD590_1_0201_lossless_alignedTo_MD590-N47-2015.09.12-05.32.06_MD590_2_0140_cropped_patch_locations.txt s3://mousebrainatlas-data/CSHL_patch_features/inception-bn-blue/MD590/MD590_lossless_alignedTo_MD590-N47-2015.09.12-05.32.06_MD590_2_0140_cropped_gray/MD590-IHC67-2015.08.10-22.54.35_MD590_1_0201_lossless_alignedTo_MD590-N47-2015.09.12-05.32.06_MD590_2_0140_cropped_gray_patch_locations.txt\n"
     ]
    },
    {
     "name": "stderr",
     "output_type": "stream",
     "text": [
      "Child returned 0\n"
     ]
    },
    {
     "name": "stdout",
     "output_type": "stream",
     "text": [
      "/shared/CSHL_patch_features/inception-bn-blue/MD590/MD590-N68-2015.08.03-21.33.49_MD590_3_0202_lossless_alignedTo_MD590-N47-2015.09.12-05.32.06_MD590_2_0140_cropped/MD590-N68-2015.08.03-21.33.49_MD590_3_0202_lossless_alignedTo_MD590-N47-2015.09.12-05.32.06_MD590_2_0140_cropped_features.bp\n",
      "/shared/CSHL_patch_features/inception-bn-blue/MD590/MD590_lossless_alignedTo_MD590-N47-2015.09.12-05.32.06_MD590_2_0140_cropped_gray/MD590-N68-2015.08.03-21.33.49_MD590_3_0202_lossless_alignedTo_MD590-N47-2015.09.12-05.32.06_MD590_2_0140_cropped_gray_features.bp\n",
      "aws s3 cp s3://mousebrainatlas-data/CSHL_patch_features/inception-bn-blue/MD590/MD590-N68-2015.08.03-21.33.49_MD590_3_0202_lossless_alignedTo_MD590-N47-2015.09.12-05.32.06_MD590_2_0140_cropped/MD590-N68-2015.08.03-21.33.49_MD590_3_0202_lossless_alignedTo_MD590-N47-2015.09.12-05.32.06_MD590_2_0140_cropped_features.bp s3://mousebrainatlas-data/CSHL_patch_features/inception-bn-blue/MD590/MD590_lossless_alignedTo_MD590-N47-2015.09.12-05.32.06_MD590_2_0140_cropped_gray/MD590-N68-2015.08.03-21.33.49_MD590_3_0202_lossless_alignedTo_MD590-N47-2015.09.12-05.32.06_MD590_2_0140_cropped_gray_features.bp\n"
     ]
    },
    {
     "name": "stderr",
     "output_type": "stream",
     "text": [
      "Child returned 0\n"
     ]
    },
    {
     "name": "stdout",
     "output_type": "stream",
     "text": [
      "/shared/CSHL_patch_features/inception-bn-blue/MD590/MD590-N68-2015.08.03-21.33.49_MD590_3_0202_lossless_alignedTo_MD590-N47-2015.09.12-05.32.06_MD590_2_0140_cropped/MD590-N68-2015.08.03-21.33.49_MD590_3_0202_lossless_alignedTo_MD590-N47-2015.09.12-05.32.06_MD590_2_0140_cropped_patch_locations.txt\n",
      "/shared/CSHL_patch_features/inception-bn-blue/MD590/MD590_lossless_alignedTo_MD590-N47-2015.09.12-05.32.06_MD590_2_0140_cropped_gray/MD590-N68-2015.08.03-21.33.49_MD590_3_0202_lossless_alignedTo_MD590-N47-2015.09.12-05.32.06_MD590_2_0140_cropped_gray_patch_locations.txt\n",
      "aws s3 cp s3://mousebrainatlas-data/CSHL_patch_features/inception-bn-blue/MD590/MD590-N68-2015.08.03-21.33.49_MD590_3_0202_lossless_alignedTo_MD590-N47-2015.09.12-05.32.06_MD590_2_0140_cropped/MD590-N68-2015.08.03-21.33.49_MD590_3_0202_lossless_alignedTo_MD590-N47-2015.09.12-05.32.06_MD590_2_0140_cropped_patch_locations.txt s3://mousebrainatlas-data/CSHL_patch_features/inception-bn-blue/MD590/MD590_lossless_alignedTo_MD590-N47-2015.09.12-05.32.06_MD590_2_0140_cropped_gray/MD590-N68-2015.08.03-21.33.49_MD590_3_0202_lossless_alignedTo_MD590-N47-2015.09.12-05.32.06_MD590_2_0140_cropped_gray_patch_locations.txt\n"
     ]
    },
    {
     "name": "stderr",
     "output_type": "stream",
     "text": [
      "Child returned 0\n"
     ]
    },
    {
     "name": "stdout",
     "output_type": "stream",
     "text": [
      "/shared/CSHL_patch_features/inception-bn-blue/MD590/MD590-IHC68-2015.08.10-22.58.41_MD590_3_0202_lossless_alignedTo_MD590-N47-2015.09.12-05.32.06_MD590_2_0140_cropped/MD590-IHC68-2015.08.10-22.58.41_MD590_3_0202_lossless_alignedTo_MD590-N47-2015.09.12-05.32.06_MD590_2_0140_cropped_features.bp\n",
      "/shared/CSHL_patch_features/inception-bn-blue/MD590/MD590_lossless_alignedTo_MD590-N47-2015.09.12-05.32.06_MD590_2_0140_cropped_gray/MD590-IHC68-2015.08.10-22.58.41_MD590_3_0202_lossless_alignedTo_MD590-N47-2015.09.12-05.32.06_MD590_2_0140_cropped_gray_features.bp\n",
      "aws s3 cp s3://mousebrainatlas-data/CSHL_patch_features/inception-bn-blue/MD590/MD590-IHC68-2015.08.10-22.58.41_MD590_3_0202_lossless_alignedTo_MD590-N47-2015.09.12-05.32.06_MD590_2_0140_cropped/MD590-IHC68-2015.08.10-22.58.41_MD590_3_0202_lossless_alignedTo_MD590-N47-2015.09.12-05.32.06_MD590_2_0140_cropped_features.bp s3://mousebrainatlas-data/CSHL_patch_features/inception-bn-blue/MD590/MD590_lossless_alignedTo_MD590-N47-2015.09.12-05.32.06_MD590_2_0140_cropped_gray/MD590-IHC68-2015.08.10-22.58.41_MD590_3_0202_lossless_alignedTo_MD590-N47-2015.09.12-05.32.06_MD590_2_0140_cropped_gray_features.bp\n"
     ]
    },
    {
     "name": "stderr",
     "output_type": "stream",
     "text": [
      "Child returned 0\n"
     ]
    },
    {
     "name": "stdout",
     "output_type": "stream",
     "text": [
      "/shared/CSHL_patch_features/inception-bn-blue/MD590/MD590-IHC68-2015.08.10-22.58.41_MD590_3_0202_lossless_alignedTo_MD590-N47-2015.09.12-05.32.06_MD590_2_0140_cropped/MD590-IHC68-2015.08.10-22.58.41_MD590_3_0202_lossless_alignedTo_MD590-N47-2015.09.12-05.32.06_MD590_2_0140_cropped_patch_locations.txt\n",
      "/shared/CSHL_patch_features/inception-bn-blue/MD590/MD590_lossless_alignedTo_MD590-N47-2015.09.12-05.32.06_MD590_2_0140_cropped_gray/MD590-IHC68-2015.08.10-22.58.41_MD590_3_0202_lossless_alignedTo_MD590-N47-2015.09.12-05.32.06_MD590_2_0140_cropped_gray_patch_locations.txt\n",
      "aws s3 cp s3://mousebrainatlas-data/CSHL_patch_features/inception-bn-blue/MD590/MD590-IHC68-2015.08.10-22.58.41_MD590_3_0202_lossless_alignedTo_MD590-N47-2015.09.12-05.32.06_MD590_2_0140_cropped/MD590-IHC68-2015.08.10-22.58.41_MD590_3_0202_lossless_alignedTo_MD590-N47-2015.09.12-05.32.06_MD590_2_0140_cropped_patch_locations.txt s3://mousebrainatlas-data/CSHL_patch_features/inception-bn-blue/MD590/MD590_lossless_alignedTo_MD590-N47-2015.09.12-05.32.06_MD590_2_0140_cropped_gray/MD590-IHC68-2015.08.10-22.58.41_MD590_3_0202_lossless_alignedTo_MD590-N47-2015.09.12-05.32.06_MD590_2_0140_cropped_gray_patch_locations.txt\n"
     ]
    },
    {
     "name": "stderr",
     "output_type": "stream",
     "text": [
      "Child returned 0\n"
     ]
    },
    {
     "name": "stdout",
     "output_type": "stream",
     "text": [
      "/shared/CSHL_patch_features/inception-bn-blue/MD590/MD590-N68-2015.08.03-21.33.49_MD590_2_0203_lossless_alignedTo_MD590-N47-2015.09.12-05.32.06_MD590_2_0140_cropped/MD590-N68-2015.08.03-21.33.49_MD590_2_0203_lossless_alignedTo_MD590-N47-2015.09.12-05.32.06_MD590_2_0140_cropped_features.bp\n",
      "/shared/CSHL_patch_features/inception-bn-blue/MD590/MD590_lossless_alignedTo_MD590-N47-2015.09.12-05.32.06_MD590_2_0140_cropped_gray/MD590-N68-2015.08.03-21.33.49_MD590_2_0203_lossless_alignedTo_MD590-N47-2015.09.12-05.32.06_MD590_2_0140_cropped_gray_features.bp\n",
      "aws s3 cp s3://mousebrainatlas-data/CSHL_patch_features/inception-bn-blue/MD590/MD590-N68-2015.08.03-21.33.49_MD590_2_0203_lossless_alignedTo_MD590-N47-2015.09.12-05.32.06_MD590_2_0140_cropped/MD590-N68-2015.08.03-21.33.49_MD590_2_0203_lossless_alignedTo_MD590-N47-2015.09.12-05.32.06_MD590_2_0140_cropped_features.bp s3://mousebrainatlas-data/CSHL_patch_features/inception-bn-blue/MD590/MD590_lossless_alignedTo_MD590-N47-2015.09.12-05.32.06_MD590_2_0140_cropped_gray/MD590-N68-2015.08.03-21.33.49_MD590_2_0203_lossless_alignedTo_MD590-N47-2015.09.12-05.32.06_MD590_2_0140_cropped_gray_features.bp\n"
     ]
    },
    {
     "name": "stderr",
     "output_type": "stream",
     "text": [
      "Child returned 0\n"
     ]
    },
    {
     "name": "stdout",
     "output_type": "stream",
     "text": [
      "/shared/CSHL_patch_features/inception-bn-blue/MD590/MD590-N68-2015.08.03-21.33.49_MD590_2_0203_lossless_alignedTo_MD590-N47-2015.09.12-05.32.06_MD590_2_0140_cropped/MD590-N68-2015.08.03-21.33.49_MD590_2_0203_lossless_alignedTo_MD590-N47-2015.09.12-05.32.06_MD590_2_0140_cropped_patch_locations.txt\n",
      "/shared/CSHL_patch_features/inception-bn-blue/MD590/MD590_lossless_alignedTo_MD590-N47-2015.09.12-05.32.06_MD590_2_0140_cropped_gray/MD590-N68-2015.08.03-21.33.49_MD590_2_0203_lossless_alignedTo_MD590-N47-2015.09.12-05.32.06_MD590_2_0140_cropped_gray_patch_locations.txt\n",
      "aws s3 cp s3://mousebrainatlas-data/CSHL_patch_features/inception-bn-blue/MD590/MD590-N68-2015.08.03-21.33.49_MD590_2_0203_lossless_alignedTo_MD590-N47-2015.09.12-05.32.06_MD590_2_0140_cropped/MD590-N68-2015.08.03-21.33.49_MD590_2_0203_lossless_alignedTo_MD590-N47-2015.09.12-05.32.06_MD590_2_0140_cropped_patch_locations.txt s3://mousebrainatlas-data/CSHL_patch_features/inception-bn-blue/MD590/MD590_lossless_alignedTo_MD590-N47-2015.09.12-05.32.06_MD590_2_0140_cropped_gray/MD590-N68-2015.08.03-21.33.49_MD590_2_0203_lossless_alignedTo_MD590-N47-2015.09.12-05.32.06_MD590_2_0140_cropped_gray_patch_locations.txt\n"
     ]
    },
    {
     "name": "stderr",
     "output_type": "stream",
     "text": [
      "Child returned 0\n"
     ]
    },
    {
     "name": "stdout",
     "output_type": "stream",
     "text": [
      "/shared/CSHL_patch_features/inception-bn-blue/MD590/MD590-IHC68-2015.08.10-22.58.41_MD590_2_0203_lossless_alignedTo_MD590-N47-2015.09.12-05.32.06_MD590_2_0140_cropped/MD590-IHC68-2015.08.10-22.58.41_MD590_2_0203_lossless_alignedTo_MD590-N47-2015.09.12-05.32.06_MD590_2_0140_cropped_features.bp\n",
      "/shared/CSHL_patch_features/inception-bn-blue/MD590/MD590_lossless_alignedTo_MD590-N47-2015.09.12-05.32.06_MD590_2_0140_cropped_gray/MD590-IHC68-2015.08.10-22.58.41_MD590_2_0203_lossless_alignedTo_MD590-N47-2015.09.12-05.32.06_MD590_2_0140_cropped_gray_features.bp\n",
      "aws s3 cp s3://mousebrainatlas-data/CSHL_patch_features/inception-bn-blue/MD590/MD590-IHC68-2015.08.10-22.58.41_MD590_2_0203_lossless_alignedTo_MD590-N47-2015.09.12-05.32.06_MD590_2_0140_cropped/MD590-IHC68-2015.08.10-22.58.41_MD590_2_0203_lossless_alignedTo_MD590-N47-2015.09.12-05.32.06_MD590_2_0140_cropped_features.bp s3://mousebrainatlas-data/CSHL_patch_features/inception-bn-blue/MD590/MD590_lossless_alignedTo_MD590-N47-2015.09.12-05.32.06_MD590_2_0140_cropped_gray/MD590-IHC68-2015.08.10-22.58.41_MD590_2_0203_lossless_alignedTo_MD590-N47-2015.09.12-05.32.06_MD590_2_0140_cropped_gray_features.bp\n"
     ]
    },
    {
     "name": "stderr",
     "output_type": "stream",
     "text": [
      "Child returned 0\n"
     ]
    },
    {
     "name": "stdout",
     "output_type": "stream",
     "text": [
      "/shared/CSHL_patch_features/inception-bn-blue/MD590/MD590-IHC68-2015.08.10-22.58.41_MD590_2_0203_lossless_alignedTo_MD590-N47-2015.09.12-05.32.06_MD590_2_0140_cropped/MD590-IHC68-2015.08.10-22.58.41_MD590_2_0203_lossless_alignedTo_MD590-N47-2015.09.12-05.32.06_MD590_2_0140_cropped_patch_locations.txt\n",
      "/shared/CSHL_patch_features/inception-bn-blue/MD590/MD590_lossless_alignedTo_MD590-N47-2015.09.12-05.32.06_MD590_2_0140_cropped_gray/MD590-IHC68-2015.08.10-22.58.41_MD590_2_0203_lossless_alignedTo_MD590-N47-2015.09.12-05.32.06_MD590_2_0140_cropped_gray_patch_locations.txt\n",
      "aws s3 cp s3://mousebrainatlas-data/CSHL_patch_features/inception-bn-blue/MD590/MD590-IHC68-2015.08.10-22.58.41_MD590_2_0203_lossless_alignedTo_MD590-N47-2015.09.12-05.32.06_MD590_2_0140_cropped/MD590-IHC68-2015.08.10-22.58.41_MD590_2_0203_lossless_alignedTo_MD590-N47-2015.09.12-05.32.06_MD590_2_0140_cropped_patch_locations.txt s3://mousebrainatlas-data/CSHL_patch_features/inception-bn-blue/MD590/MD590_lossless_alignedTo_MD590-N47-2015.09.12-05.32.06_MD590_2_0140_cropped_gray/MD590-IHC68-2015.08.10-22.58.41_MD590_2_0203_lossless_alignedTo_MD590-N47-2015.09.12-05.32.06_MD590_2_0140_cropped_gray_patch_locations.txt\n"
     ]
    },
    {
     "name": "stderr",
     "output_type": "stream",
     "text": [
      "Child returned 0\n"
     ]
    },
    {
     "name": "stdout",
     "output_type": "stream",
     "text": [
      "/shared/CSHL_patch_features/inception-bn-blue/MD590/MD590-N68-2015.08.03-21.33.49_MD590_1_0204_lossless_alignedTo_MD590-N47-2015.09.12-05.32.06_MD590_2_0140_cropped/MD590-N68-2015.08.03-21.33.49_MD590_1_0204_lossless_alignedTo_MD590-N47-2015.09.12-05.32.06_MD590_2_0140_cropped_features.bp\n",
      "/shared/CSHL_patch_features/inception-bn-blue/MD590/MD590_lossless_alignedTo_MD590-N47-2015.09.12-05.32.06_MD590_2_0140_cropped_gray/MD590-N68-2015.08.03-21.33.49_MD590_1_0204_lossless_alignedTo_MD590-N47-2015.09.12-05.32.06_MD590_2_0140_cropped_gray_features.bp\n",
      "aws s3 cp s3://mousebrainatlas-data/CSHL_patch_features/inception-bn-blue/MD590/MD590-N68-2015.08.03-21.33.49_MD590_1_0204_lossless_alignedTo_MD590-N47-2015.09.12-05.32.06_MD590_2_0140_cropped/MD590-N68-2015.08.03-21.33.49_MD590_1_0204_lossless_alignedTo_MD590-N47-2015.09.12-05.32.06_MD590_2_0140_cropped_features.bp s3://mousebrainatlas-data/CSHL_patch_features/inception-bn-blue/MD590/MD590_lossless_alignedTo_MD590-N47-2015.09.12-05.32.06_MD590_2_0140_cropped_gray/MD590-N68-2015.08.03-21.33.49_MD590_1_0204_lossless_alignedTo_MD590-N47-2015.09.12-05.32.06_MD590_2_0140_cropped_gray_features.bp\n"
     ]
    },
    {
     "name": "stderr",
     "output_type": "stream",
     "text": [
      "Child returned 0\n"
     ]
    },
    {
     "name": "stdout",
     "output_type": "stream",
     "text": [
      "/shared/CSHL_patch_features/inception-bn-blue/MD590/MD590-N68-2015.08.03-21.33.49_MD590_1_0204_lossless_alignedTo_MD590-N47-2015.09.12-05.32.06_MD590_2_0140_cropped/MD590-N68-2015.08.03-21.33.49_MD590_1_0204_lossless_alignedTo_MD590-N47-2015.09.12-05.32.06_MD590_2_0140_cropped_patch_locations.txt\n",
      "/shared/CSHL_patch_features/inception-bn-blue/MD590/MD590_lossless_alignedTo_MD590-N47-2015.09.12-05.32.06_MD590_2_0140_cropped_gray/MD590-N68-2015.08.03-21.33.49_MD590_1_0204_lossless_alignedTo_MD590-N47-2015.09.12-05.32.06_MD590_2_0140_cropped_gray_patch_locations.txt\n",
      "aws s3 cp s3://mousebrainatlas-data/CSHL_patch_features/inception-bn-blue/MD590/MD590-N68-2015.08.03-21.33.49_MD590_1_0204_lossless_alignedTo_MD590-N47-2015.09.12-05.32.06_MD590_2_0140_cropped/MD590-N68-2015.08.03-21.33.49_MD590_1_0204_lossless_alignedTo_MD590-N47-2015.09.12-05.32.06_MD590_2_0140_cropped_patch_locations.txt s3://mousebrainatlas-data/CSHL_patch_features/inception-bn-blue/MD590/MD590_lossless_alignedTo_MD590-N47-2015.09.12-05.32.06_MD590_2_0140_cropped_gray/MD590-N68-2015.08.03-21.33.49_MD590_1_0204_lossless_alignedTo_MD590-N47-2015.09.12-05.32.06_MD590_2_0140_cropped_gray_patch_locations.txt\n"
     ]
    },
    {
     "name": "stderr",
     "output_type": "stream",
     "text": [
      "Child returned 0\n"
     ]
    },
    {
     "name": "stdout",
     "output_type": "stream",
     "text": [
      "/shared/CSHL_patch_features/inception-bn-blue/MD590/MD590-IHC68-2015.08.10-22.58.41_MD590_1_0204_lossless_alignedTo_MD590-N47-2015.09.12-05.32.06_MD590_2_0140_cropped/MD590-IHC68-2015.08.10-22.58.41_MD590_1_0204_lossless_alignedTo_MD590-N47-2015.09.12-05.32.06_MD590_2_0140_cropped_features.bp\n",
      "/shared/CSHL_patch_features/inception-bn-blue/MD590/MD590_lossless_alignedTo_MD590-N47-2015.09.12-05.32.06_MD590_2_0140_cropped_gray/MD590-IHC68-2015.08.10-22.58.41_MD590_1_0204_lossless_alignedTo_MD590-N47-2015.09.12-05.32.06_MD590_2_0140_cropped_gray_features.bp\n",
      "aws s3 cp s3://mousebrainatlas-data/CSHL_patch_features/inception-bn-blue/MD590/MD590-IHC68-2015.08.10-22.58.41_MD590_1_0204_lossless_alignedTo_MD590-N47-2015.09.12-05.32.06_MD590_2_0140_cropped/MD590-IHC68-2015.08.10-22.58.41_MD590_1_0204_lossless_alignedTo_MD590-N47-2015.09.12-05.32.06_MD590_2_0140_cropped_features.bp s3://mousebrainatlas-data/CSHL_patch_features/inception-bn-blue/MD590/MD590_lossless_alignedTo_MD590-N47-2015.09.12-05.32.06_MD590_2_0140_cropped_gray/MD590-IHC68-2015.08.10-22.58.41_MD590_1_0204_lossless_alignedTo_MD590-N47-2015.09.12-05.32.06_MD590_2_0140_cropped_gray_features.bp\n"
     ]
    },
    {
     "name": "stderr",
     "output_type": "stream",
     "text": [
      "Child returned 0\n"
     ]
    },
    {
     "name": "stdout",
     "output_type": "stream",
     "text": [
      "/shared/CSHL_patch_features/inception-bn-blue/MD590/MD590-IHC68-2015.08.10-22.58.41_MD590_1_0204_lossless_alignedTo_MD590-N47-2015.09.12-05.32.06_MD590_2_0140_cropped/MD590-IHC68-2015.08.10-22.58.41_MD590_1_0204_lossless_alignedTo_MD590-N47-2015.09.12-05.32.06_MD590_2_0140_cropped_patch_locations.txt\n",
      "/shared/CSHL_patch_features/inception-bn-blue/MD590/MD590_lossless_alignedTo_MD590-N47-2015.09.12-05.32.06_MD590_2_0140_cropped_gray/MD590-IHC68-2015.08.10-22.58.41_MD590_1_0204_lossless_alignedTo_MD590-N47-2015.09.12-05.32.06_MD590_2_0140_cropped_gray_patch_locations.txt\n",
      "aws s3 cp s3://mousebrainatlas-data/CSHL_patch_features/inception-bn-blue/MD590/MD590-IHC68-2015.08.10-22.58.41_MD590_1_0204_lossless_alignedTo_MD590-N47-2015.09.12-05.32.06_MD590_2_0140_cropped/MD590-IHC68-2015.08.10-22.58.41_MD590_1_0204_lossless_alignedTo_MD590-N47-2015.09.12-05.32.06_MD590_2_0140_cropped_patch_locations.txt s3://mousebrainatlas-data/CSHL_patch_features/inception-bn-blue/MD590/MD590_lossless_alignedTo_MD590-N47-2015.09.12-05.32.06_MD590_2_0140_cropped_gray/MD590-IHC68-2015.08.10-22.58.41_MD590_1_0204_lossless_alignedTo_MD590-N47-2015.09.12-05.32.06_MD590_2_0140_cropped_gray_patch_locations.txt\n"
     ]
    },
    {
     "name": "stderr",
     "output_type": "stream",
     "text": [
      "Child returned 0\n"
     ]
    },
    {
     "name": "stdout",
     "output_type": "stream",
     "text": [
      "/shared/CSHL_patch_features/inception-bn-blue/MD590/MD590-N69-2015.08.03-21.37.52_MD590_3_0205_lossless_alignedTo_MD590-N47-2015.09.12-05.32.06_MD590_2_0140_cropped/MD590-N69-2015.08.03-21.37.52_MD590_3_0205_lossless_alignedTo_MD590-N47-2015.09.12-05.32.06_MD590_2_0140_cropped_features.bp\n",
      "/shared/CSHL_patch_features/inception-bn-blue/MD590/MD590_lossless_alignedTo_MD590-N47-2015.09.12-05.32.06_MD590_2_0140_cropped_gray/MD590-N69-2015.08.03-21.37.52_MD590_3_0205_lossless_alignedTo_MD590-N47-2015.09.12-05.32.06_MD590_2_0140_cropped_gray_features.bp\n",
      "aws s3 cp s3://mousebrainatlas-data/CSHL_patch_features/inception-bn-blue/MD590/MD590-N69-2015.08.03-21.37.52_MD590_3_0205_lossless_alignedTo_MD590-N47-2015.09.12-05.32.06_MD590_2_0140_cropped/MD590-N69-2015.08.03-21.37.52_MD590_3_0205_lossless_alignedTo_MD590-N47-2015.09.12-05.32.06_MD590_2_0140_cropped_features.bp s3://mousebrainatlas-data/CSHL_patch_features/inception-bn-blue/MD590/MD590_lossless_alignedTo_MD590-N47-2015.09.12-05.32.06_MD590_2_0140_cropped_gray/MD590-N69-2015.08.03-21.37.52_MD590_3_0205_lossless_alignedTo_MD590-N47-2015.09.12-05.32.06_MD590_2_0140_cropped_gray_features.bp\n"
     ]
    },
    {
     "name": "stderr",
     "output_type": "stream",
     "text": [
      "Child returned 0\n"
     ]
    },
    {
     "name": "stdout",
     "output_type": "stream",
     "text": [
      "/shared/CSHL_patch_features/inception-bn-blue/MD590/MD590-N69-2015.08.03-21.37.52_MD590_3_0205_lossless_alignedTo_MD590-N47-2015.09.12-05.32.06_MD590_2_0140_cropped/MD590-N69-2015.08.03-21.37.52_MD590_3_0205_lossless_alignedTo_MD590-N47-2015.09.12-05.32.06_MD590_2_0140_cropped_patch_locations.txt\n",
      "/shared/CSHL_patch_features/inception-bn-blue/MD590/MD590_lossless_alignedTo_MD590-N47-2015.09.12-05.32.06_MD590_2_0140_cropped_gray/MD590-N69-2015.08.03-21.37.52_MD590_3_0205_lossless_alignedTo_MD590-N47-2015.09.12-05.32.06_MD590_2_0140_cropped_gray_patch_locations.txt\n",
      "aws s3 cp s3://mousebrainatlas-data/CSHL_patch_features/inception-bn-blue/MD590/MD590-N69-2015.08.03-21.37.52_MD590_3_0205_lossless_alignedTo_MD590-N47-2015.09.12-05.32.06_MD590_2_0140_cropped/MD590-N69-2015.08.03-21.37.52_MD590_3_0205_lossless_alignedTo_MD590-N47-2015.09.12-05.32.06_MD590_2_0140_cropped_patch_locations.txt s3://mousebrainatlas-data/CSHL_patch_features/inception-bn-blue/MD590/MD590_lossless_alignedTo_MD590-N47-2015.09.12-05.32.06_MD590_2_0140_cropped_gray/MD590-N69-2015.08.03-21.37.52_MD590_3_0205_lossless_alignedTo_MD590-N47-2015.09.12-05.32.06_MD590_2_0140_cropped_gray_patch_locations.txt\n"
     ]
    },
    {
     "name": "stderr",
     "output_type": "stream",
     "text": [
      "Child returned 0\n"
     ]
    },
    {
     "name": "stdout",
     "output_type": "stream",
     "text": [
      "/shared/CSHL_patch_features/inception-bn-blue/MD590/MD590-IHC69-2015.08.10-23.02.45_MD590_3_0205_lossless_alignedTo_MD590-N47-2015.09.12-05.32.06_MD590_2_0140_cropped/MD590-IHC69-2015.08.10-23.02.45_MD590_3_0205_lossless_alignedTo_MD590-N47-2015.09.12-05.32.06_MD590_2_0140_cropped_features.bp\n",
      "/shared/CSHL_patch_features/inception-bn-blue/MD590/MD590_lossless_alignedTo_MD590-N47-2015.09.12-05.32.06_MD590_2_0140_cropped_gray/MD590-IHC69-2015.08.10-23.02.45_MD590_3_0205_lossless_alignedTo_MD590-N47-2015.09.12-05.32.06_MD590_2_0140_cropped_gray_features.bp\n",
      "aws s3 cp s3://mousebrainatlas-data/CSHL_patch_features/inception-bn-blue/MD590/MD590-IHC69-2015.08.10-23.02.45_MD590_3_0205_lossless_alignedTo_MD590-N47-2015.09.12-05.32.06_MD590_2_0140_cropped/MD590-IHC69-2015.08.10-23.02.45_MD590_3_0205_lossless_alignedTo_MD590-N47-2015.09.12-05.32.06_MD590_2_0140_cropped_features.bp s3://mousebrainatlas-data/CSHL_patch_features/inception-bn-blue/MD590/MD590_lossless_alignedTo_MD590-N47-2015.09.12-05.32.06_MD590_2_0140_cropped_gray/MD590-IHC69-2015.08.10-23.02.45_MD590_3_0205_lossless_alignedTo_MD590-N47-2015.09.12-05.32.06_MD590_2_0140_cropped_gray_features.bp\n"
     ]
    },
    {
     "name": "stderr",
     "output_type": "stream",
     "text": [
      "Child returned 0\n"
     ]
    },
    {
     "name": "stdout",
     "output_type": "stream",
     "text": [
      "/shared/CSHL_patch_features/inception-bn-blue/MD590/MD590-IHC69-2015.08.10-23.02.45_MD590_3_0205_lossless_alignedTo_MD590-N47-2015.09.12-05.32.06_MD590_2_0140_cropped/MD590-IHC69-2015.08.10-23.02.45_MD590_3_0205_lossless_alignedTo_MD590-N47-2015.09.12-05.32.06_MD590_2_0140_cropped_patch_locations.txt\n",
      "/shared/CSHL_patch_features/inception-bn-blue/MD590/MD590_lossless_alignedTo_MD590-N47-2015.09.12-05.32.06_MD590_2_0140_cropped_gray/MD590-IHC69-2015.08.10-23.02.45_MD590_3_0205_lossless_alignedTo_MD590-N47-2015.09.12-05.32.06_MD590_2_0140_cropped_gray_patch_locations.txt\n",
      "aws s3 cp s3://mousebrainatlas-data/CSHL_patch_features/inception-bn-blue/MD590/MD590-IHC69-2015.08.10-23.02.45_MD590_3_0205_lossless_alignedTo_MD590-N47-2015.09.12-05.32.06_MD590_2_0140_cropped/MD590-IHC69-2015.08.10-23.02.45_MD590_3_0205_lossless_alignedTo_MD590-N47-2015.09.12-05.32.06_MD590_2_0140_cropped_patch_locations.txt s3://mousebrainatlas-data/CSHL_patch_features/inception-bn-blue/MD590/MD590_lossless_alignedTo_MD590-N47-2015.09.12-05.32.06_MD590_2_0140_cropped_gray/MD590-IHC69-2015.08.10-23.02.45_MD590_3_0205_lossless_alignedTo_MD590-N47-2015.09.12-05.32.06_MD590_2_0140_cropped_gray_patch_locations.txt\n"
     ]
    },
    {
     "name": "stderr",
     "output_type": "stream",
     "text": [
      "Child returned 0\n"
     ]
    },
    {
     "name": "stdout",
     "output_type": "stream",
     "text": [
      "/shared/CSHL_patch_features/inception-bn-blue/MD590/MD590-N69-2015.08.03-21.37.52_MD590_2_0206_lossless_alignedTo_MD590-N47-2015.09.12-05.32.06_MD590_2_0140_cropped/MD590-N69-2015.08.03-21.37.52_MD590_2_0206_lossless_alignedTo_MD590-N47-2015.09.12-05.32.06_MD590_2_0140_cropped_features.bp\n",
      "/shared/CSHL_patch_features/inception-bn-blue/MD590/MD590_lossless_alignedTo_MD590-N47-2015.09.12-05.32.06_MD590_2_0140_cropped_gray/MD590-N69-2015.08.03-21.37.52_MD590_2_0206_lossless_alignedTo_MD590-N47-2015.09.12-05.32.06_MD590_2_0140_cropped_gray_features.bp\n",
      "aws s3 cp s3://mousebrainatlas-data/CSHL_patch_features/inception-bn-blue/MD590/MD590-N69-2015.08.03-21.37.52_MD590_2_0206_lossless_alignedTo_MD590-N47-2015.09.12-05.32.06_MD590_2_0140_cropped/MD590-N69-2015.08.03-21.37.52_MD590_2_0206_lossless_alignedTo_MD590-N47-2015.09.12-05.32.06_MD590_2_0140_cropped_features.bp s3://mousebrainatlas-data/CSHL_patch_features/inception-bn-blue/MD590/MD590_lossless_alignedTo_MD590-N47-2015.09.12-05.32.06_MD590_2_0140_cropped_gray/MD590-N69-2015.08.03-21.37.52_MD590_2_0206_lossless_alignedTo_MD590-N47-2015.09.12-05.32.06_MD590_2_0140_cropped_gray_features.bp\n"
     ]
    },
    {
     "name": "stderr",
     "output_type": "stream",
     "text": [
      "Child returned 0\n"
     ]
    },
    {
     "name": "stdout",
     "output_type": "stream",
     "text": [
      "/shared/CSHL_patch_features/inception-bn-blue/MD590/MD590-N69-2015.08.03-21.37.52_MD590_2_0206_lossless_alignedTo_MD590-N47-2015.09.12-05.32.06_MD590_2_0140_cropped/MD590-N69-2015.08.03-21.37.52_MD590_2_0206_lossless_alignedTo_MD590-N47-2015.09.12-05.32.06_MD590_2_0140_cropped_patch_locations.txt\n",
      "/shared/CSHL_patch_features/inception-bn-blue/MD590/MD590_lossless_alignedTo_MD590-N47-2015.09.12-05.32.06_MD590_2_0140_cropped_gray/MD590-N69-2015.08.03-21.37.52_MD590_2_0206_lossless_alignedTo_MD590-N47-2015.09.12-05.32.06_MD590_2_0140_cropped_gray_patch_locations.txt\n",
      "aws s3 cp s3://mousebrainatlas-data/CSHL_patch_features/inception-bn-blue/MD590/MD590-N69-2015.08.03-21.37.52_MD590_2_0206_lossless_alignedTo_MD590-N47-2015.09.12-05.32.06_MD590_2_0140_cropped/MD590-N69-2015.08.03-21.37.52_MD590_2_0206_lossless_alignedTo_MD590-N47-2015.09.12-05.32.06_MD590_2_0140_cropped_patch_locations.txt s3://mousebrainatlas-data/CSHL_patch_features/inception-bn-blue/MD590/MD590_lossless_alignedTo_MD590-N47-2015.09.12-05.32.06_MD590_2_0140_cropped_gray/MD590-N69-2015.08.03-21.37.52_MD590_2_0206_lossless_alignedTo_MD590-N47-2015.09.12-05.32.06_MD590_2_0140_cropped_gray_patch_locations.txt\n"
     ]
    },
    {
     "name": "stderr",
     "output_type": "stream",
     "text": [
      "Child returned 0\n"
     ]
    },
    {
     "name": "stdout",
     "output_type": "stream",
     "text": [
      "/shared/CSHL_patch_features/inception-bn-blue/MD590/MD590-IHC69-2015.08.10-23.02.45_MD590_2_0206_lossless_alignedTo_MD590-N47-2015.09.12-05.32.06_MD590_2_0140_cropped/MD590-IHC69-2015.08.10-23.02.45_MD590_2_0206_lossless_alignedTo_MD590-N47-2015.09.12-05.32.06_MD590_2_0140_cropped_features.bp\n",
      "/shared/CSHL_patch_features/inception-bn-blue/MD590/MD590_lossless_alignedTo_MD590-N47-2015.09.12-05.32.06_MD590_2_0140_cropped_gray/MD590-IHC69-2015.08.10-23.02.45_MD590_2_0206_lossless_alignedTo_MD590-N47-2015.09.12-05.32.06_MD590_2_0140_cropped_gray_features.bp\n",
      "aws s3 cp s3://mousebrainatlas-data/CSHL_patch_features/inception-bn-blue/MD590/MD590-IHC69-2015.08.10-23.02.45_MD590_2_0206_lossless_alignedTo_MD590-N47-2015.09.12-05.32.06_MD590_2_0140_cropped/MD590-IHC69-2015.08.10-23.02.45_MD590_2_0206_lossless_alignedTo_MD590-N47-2015.09.12-05.32.06_MD590_2_0140_cropped_features.bp s3://mousebrainatlas-data/CSHL_patch_features/inception-bn-blue/MD590/MD590_lossless_alignedTo_MD590-N47-2015.09.12-05.32.06_MD590_2_0140_cropped_gray/MD590-IHC69-2015.08.10-23.02.45_MD590_2_0206_lossless_alignedTo_MD590-N47-2015.09.12-05.32.06_MD590_2_0140_cropped_gray_features.bp\n"
     ]
    },
    {
     "name": "stderr",
     "output_type": "stream",
     "text": [
      "Child returned 0\n"
     ]
    },
    {
     "name": "stdout",
     "output_type": "stream",
     "text": [
      "/shared/CSHL_patch_features/inception-bn-blue/MD590/MD590-IHC69-2015.08.10-23.02.45_MD590_2_0206_lossless_alignedTo_MD590-N47-2015.09.12-05.32.06_MD590_2_0140_cropped/MD590-IHC69-2015.08.10-23.02.45_MD590_2_0206_lossless_alignedTo_MD590-N47-2015.09.12-05.32.06_MD590_2_0140_cropped_patch_locations.txt\n",
      "/shared/CSHL_patch_features/inception-bn-blue/MD590/MD590_lossless_alignedTo_MD590-N47-2015.09.12-05.32.06_MD590_2_0140_cropped_gray/MD590-IHC69-2015.08.10-23.02.45_MD590_2_0206_lossless_alignedTo_MD590-N47-2015.09.12-05.32.06_MD590_2_0140_cropped_gray_patch_locations.txt\n",
      "aws s3 cp s3://mousebrainatlas-data/CSHL_patch_features/inception-bn-blue/MD590/MD590-IHC69-2015.08.10-23.02.45_MD590_2_0206_lossless_alignedTo_MD590-N47-2015.09.12-05.32.06_MD590_2_0140_cropped/MD590-IHC69-2015.08.10-23.02.45_MD590_2_0206_lossless_alignedTo_MD590-N47-2015.09.12-05.32.06_MD590_2_0140_cropped_patch_locations.txt s3://mousebrainatlas-data/CSHL_patch_features/inception-bn-blue/MD590/MD590_lossless_alignedTo_MD590-N47-2015.09.12-05.32.06_MD590_2_0140_cropped_gray/MD590-IHC69-2015.08.10-23.02.45_MD590_2_0206_lossless_alignedTo_MD590-N47-2015.09.12-05.32.06_MD590_2_0140_cropped_gray_patch_locations.txt\n"
     ]
    },
    {
     "name": "stderr",
     "output_type": "stream",
     "text": [
      "Child returned 0\n"
     ]
    },
    {
     "name": "stdout",
     "output_type": "stream",
     "text": [
      "/shared/CSHL_patch_features/inception-bn-blue/MD590/MD590-N69-2015.08.03-21.37.52_MD590_1_0207_lossless_alignedTo_MD590-N47-2015.09.12-05.32.06_MD590_2_0140_cropped/MD590-N69-2015.08.03-21.37.52_MD590_1_0207_lossless_alignedTo_MD590-N47-2015.09.12-05.32.06_MD590_2_0140_cropped_features.bp\n",
      "/shared/CSHL_patch_features/inception-bn-blue/MD590/MD590_lossless_alignedTo_MD590-N47-2015.09.12-05.32.06_MD590_2_0140_cropped_gray/MD590-N69-2015.08.03-21.37.52_MD590_1_0207_lossless_alignedTo_MD590-N47-2015.09.12-05.32.06_MD590_2_0140_cropped_gray_features.bp\n",
      "aws s3 cp s3://mousebrainatlas-data/CSHL_patch_features/inception-bn-blue/MD590/MD590-N69-2015.08.03-21.37.52_MD590_1_0207_lossless_alignedTo_MD590-N47-2015.09.12-05.32.06_MD590_2_0140_cropped/MD590-N69-2015.08.03-21.37.52_MD590_1_0207_lossless_alignedTo_MD590-N47-2015.09.12-05.32.06_MD590_2_0140_cropped_features.bp s3://mousebrainatlas-data/CSHL_patch_features/inception-bn-blue/MD590/MD590_lossless_alignedTo_MD590-N47-2015.09.12-05.32.06_MD590_2_0140_cropped_gray/MD590-N69-2015.08.03-21.37.52_MD590_1_0207_lossless_alignedTo_MD590-N47-2015.09.12-05.32.06_MD590_2_0140_cropped_gray_features.bp\n"
     ]
    },
    {
     "name": "stderr",
     "output_type": "stream",
     "text": [
      "Child returned 0\n"
     ]
    },
    {
     "name": "stdout",
     "output_type": "stream",
     "text": [
      "/shared/CSHL_patch_features/inception-bn-blue/MD590/MD590-N69-2015.08.03-21.37.52_MD590_1_0207_lossless_alignedTo_MD590-N47-2015.09.12-05.32.06_MD590_2_0140_cropped/MD590-N69-2015.08.03-21.37.52_MD590_1_0207_lossless_alignedTo_MD590-N47-2015.09.12-05.32.06_MD590_2_0140_cropped_patch_locations.txt\n",
      "/shared/CSHL_patch_features/inception-bn-blue/MD590/MD590_lossless_alignedTo_MD590-N47-2015.09.12-05.32.06_MD590_2_0140_cropped_gray/MD590-N69-2015.08.03-21.37.52_MD590_1_0207_lossless_alignedTo_MD590-N47-2015.09.12-05.32.06_MD590_2_0140_cropped_gray_patch_locations.txt\n",
      "aws s3 cp s3://mousebrainatlas-data/CSHL_patch_features/inception-bn-blue/MD590/MD590-N69-2015.08.03-21.37.52_MD590_1_0207_lossless_alignedTo_MD590-N47-2015.09.12-05.32.06_MD590_2_0140_cropped/MD590-N69-2015.08.03-21.37.52_MD590_1_0207_lossless_alignedTo_MD590-N47-2015.09.12-05.32.06_MD590_2_0140_cropped_patch_locations.txt s3://mousebrainatlas-data/CSHL_patch_features/inception-bn-blue/MD590/MD590_lossless_alignedTo_MD590-N47-2015.09.12-05.32.06_MD590_2_0140_cropped_gray/MD590-N69-2015.08.03-21.37.52_MD590_1_0207_lossless_alignedTo_MD590-N47-2015.09.12-05.32.06_MD590_2_0140_cropped_gray_patch_locations.txt\n"
     ]
    },
    {
     "name": "stderr",
     "output_type": "stream",
     "text": [
      "Child returned 0\n"
     ]
    },
    {
     "name": "stdout",
     "output_type": "stream",
     "text": [
      "/shared/CSHL_patch_features/inception-bn-blue/MD590/MD590-IHC69-2015.08.10-23.02.45_MD590_1_0207_lossless_alignedTo_MD590-N47-2015.09.12-05.32.06_MD590_2_0140_cropped/MD590-IHC69-2015.08.10-23.02.45_MD590_1_0207_lossless_alignedTo_MD590-N47-2015.09.12-05.32.06_MD590_2_0140_cropped_features.bp\n",
      "/shared/CSHL_patch_features/inception-bn-blue/MD590/MD590_lossless_alignedTo_MD590-N47-2015.09.12-05.32.06_MD590_2_0140_cropped_gray/MD590-IHC69-2015.08.10-23.02.45_MD590_1_0207_lossless_alignedTo_MD590-N47-2015.09.12-05.32.06_MD590_2_0140_cropped_gray_features.bp\n",
      "aws s3 cp s3://mousebrainatlas-data/CSHL_patch_features/inception-bn-blue/MD590/MD590-IHC69-2015.08.10-23.02.45_MD590_1_0207_lossless_alignedTo_MD590-N47-2015.09.12-05.32.06_MD590_2_0140_cropped/MD590-IHC69-2015.08.10-23.02.45_MD590_1_0207_lossless_alignedTo_MD590-N47-2015.09.12-05.32.06_MD590_2_0140_cropped_features.bp s3://mousebrainatlas-data/CSHL_patch_features/inception-bn-blue/MD590/MD590_lossless_alignedTo_MD590-N47-2015.09.12-05.32.06_MD590_2_0140_cropped_gray/MD590-IHC69-2015.08.10-23.02.45_MD590_1_0207_lossless_alignedTo_MD590-N47-2015.09.12-05.32.06_MD590_2_0140_cropped_gray_features.bp\n"
     ]
    },
    {
     "name": "stderr",
     "output_type": "stream",
     "text": [
      "Child returned 0\n"
     ]
    },
    {
     "name": "stdout",
     "output_type": "stream",
     "text": [
      "/shared/CSHL_patch_features/inception-bn-blue/MD590/MD590-IHC69-2015.08.10-23.02.45_MD590_1_0207_lossless_alignedTo_MD590-N47-2015.09.12-05.32.06_MD590_2_0140_cropped/MD590-IHC69-2015.08.10-23.02.45_MD590_1_0207_lossless_alignedTo_MD590-N47-2015.09.12-05.32.06_MD590_2_0140_cropped_patch_locations.txt\n",
      "/shared/CSHL_patch_features/inception-bn-blue/MD590/MD590_lossless_alignedTo_MD590-N47-2015.09.12-05.32.06_MD590_2_0140_cropped_gray/MD590-IHC69-2015.08.10-23.02.45_MD590_1_0207_lossless_alignedTo_MD590-N47-2015.09.12-05.32.06_MD590_2_0140_cropped_gray_patch_locations.txt\n",
      "aws s3 cp s3://mousebrainatlas-data/CSHL_patch_features/inception-bn-blue/MD590/MD590-IHC69-2015.08.10-23.02.45_MD590_1_0207_lossless_alignedTo_MD590-N47-2015.09.12-05.32.06_MD590_2_0140_cropped/MD590-IHC69-2015.08.10-23.02.45_MD590_1_0207_lossless_alignedTo_MD590-N47-2015.09.12-05.32.06_MD590_2_0140_cropped_patch_locations.txt s3://mousebrainatlas-data/CSHL_patch_features/inception-bn-blue/MD590/MD590_lossless_alignedTo_MD590-N47-2015.09.12-05.32.06_MD590_2_0140_cropped_gray/MD590-IHC69-2015.08.10-23.02.45_MD590_1_0207_lossless_alignedTo_MD590-N47-2015.09.12-05.32.06_MD590_2_0140_cropped_gray_patch_locations.txt\n"
     ]
    },
    {
     "name": "stderr",
     "output_type": "stream",
     "text": [
      "Child returned 0\n"
     ]
    },
    {
     "name": "stdout",
     "output_type": "stream",
     "text": [
      "/shared/CSHL_patch_features/inception-bn-blue/MD590/MD590-N70-2015.08.03-21.41.49_MD590_3_0208_lossless_alignedTo_MD590-N47-2015.09.12-05.32.06_MD590_2_0140_cropped/MD590-N70-2015.08.03-21.41.49_MD590_3_0208_lossless_alignedTo_MD590-N47-2015.09.12-05.32.06_MD590_2_0140_cropped_features.bp\n",
      "/shared/CSHL_patch_features/inception-bn-blue/MD590/MD590_lossless_alignedTo_MD590-N47-2015.09.12-05.32.06_MD590_2_0140_cropped_gray/MD590-N70-2015.08.03-21.41.49_MD590_3_0208_lossless_alignedTo_MD590-N47-2015.09.12-05.32.06_MD590_2_0140_cropped_gray_features.bp\n",
      "aws s3 cp s3://mousebrainatlas-data/CSHL_patch_features/inception-bn-blue/MD590/MD590-N70-2015.08.03-21.41.49_MD590_3_0208_lossless_alignedTo_MD590-N47-2015.09.12-05.32.06_MD590_2_0140_cropped/MD590-N70-2015.08.03-21.41.49_MD590_3_0208_lossless_alignedTo_MD590-N47-2015.09.12-05.32.06_MD590_2_0140_cropped_features.bp s3://mousebrainatlas-data/CSHL_patch_features/inception-bn-blue/MD590/MD590_lossless_alignedTo_MD590-N47-2015.09.12-05.32.06_MD590_2_0140_cropped_gray/MD590-N70-2015.08.03-21.41.49_MD590_3_0208_lossless_alignedTo_MD590-N47-2015.09.12-05.32.06_MD590_2_0140_cropped_gray_features.bp\n"
     ]
    },
    {
     "name": "stderr",
     "output_type": "stream",
     "text": [
      "Child returned 0\n"
     ]
    },
    {
     "name": "stdout",
     "output_type": "stream",
     "text": [
      "/shared/CSHL_patch_features/inception-bn-blue/MD590/MD590-N70-2015.08.03-21.41.49_MD590_3_0208_lossless_alignedTo_MD590-N47-2015.09.12-05.32.06_MD590_2_0140_cropped/MD590-N70-2015.08.03-21.41.49_MD590_3_0208_lossless_alignedTo_MD590-N47-2015.09.12-05.32.06_MD590_2_0140_cropped_patch_locations.txt\n",
      "/shared/CSHL_patch_features/inception-bn-blue/MD590/MD590_lossless_alignedTo_MD590-N47-2015.09.12-05.32.06_MD590_2_0140_cropped_gray/MD590-N70-2015.08.03-21.41.49_MD590_3_0208_lossless_alignedTo_MD590-N47-2015.09.12-05.32.06_MD590_2_0140_cropped_gray_patch_locations.txt\n",
      "aws s3 cp s3://mousebrainatlas-data/CSHL_patch_features/inception-bn-blue/MD590/MD590-N70-2015.08.03-21.41.49_MD590_3_0208_lossless_alignedTo_MD590-N47-2015.09.12-05.32.06_MD590_2_0140_cropped/MD590-N70-2015.08.03-21.41.49_MD590_3_0208_lossless_alignedTo_MD590-N47-2015.09.12-05.32.06_MD590_2_0140_cropped_patch_locations.txt s3://mousebrainatlas-data/CSHL_patch_features/inception-bn-blue/MD590/MD590_lossless_alignedTo_MD590-N47-2015.09.12-05.32.06_MD590_2_0140_cropped_gray/MD590-N70-2015.08.03-21.41.49_MD590_3_0208_lossless_alignedTo_MD590-N47-2015.09.12-05.32.06_MD590_2_0140_cropped_gray_patch_locations.txt\n"
     ]
    },
    {
     "name": "stderr",
     "output_type": "stream",
     "text": [
      "Child returned 0\n"
     ]
    },
    {
     "name": "stdout",
     "output_type": "stream",
     "text": [
      "/shared/CSHL_patch_features/inception-bn-blue/MD590/MD590-IHC70-2015.08.10-23.06.44_MD590_3_0208_lossless_alignedTo_MD590-N47-2015.09.12-05.32.06_MD590_2_0140_cropped/MD590-IHC70-2015.08.10-23.06.44_MD590_3_0208_lossless_alignedTo_MD590-N47-2015.09.12-05.32.06_MD590_2_0140_cropped_features.bp\n",
      "/shared/CSHL_patch_features/inception-bn-blue/MD590/MD590_lossless_alignedTo_MD590-N47-2015.09.12-05.32.06_MD590_2_0140_cropped_gray/MD590-IHC70-2015.08.10-23.06.44_MD590_3_0208_lossless_alignedTo_MD590-N47-2015.09.12-05.32.06_MD590_2_0140_cropped_gray_features.bp\n",
      "aws s3 cp s3://mousebrainatlas-data/CSHL_patch_features/inception-bn-blue/MD590/MD590-IHC70-2015.08.10-23.06.44_MD590_3_0208_lossless_alignedTo_MD590-N47-2015.09.12-05.32.06_MD590_2_0140_cropped/MD590-IHC70-2015.08.10-23.06.44_MD590_3_0208_lossless_alignedTo_MD590-N47-2015.09.12-05.32.06_MD590_2_0140_cropped_features.bp s3://mousebrainatlas-data/CSHL_patch_features/inception-bn-blue/MD590/MD590_lossless_alignedTo_MD590-N47-2015.09.12-05.32.06_MD590_2_0140_cropped_gray/MD590-IHC70-2015.08.10-23.06.44_MD590_3_0208_lossless_alignedTo_MD590-N47-2015.09.12-05.32.06_MD590_2_0140_cropped_gray_features.bp\n"
     ]
    },
    {
     "name": "stderr",
     "output_type": "stream",
     "text": [
      "Child returned 0\n"
     ]
    },
    {
     "name": "stdout",
     "output_type": "stream",
     "text": [
      "/shared/CSHL_patch_features/inception-bn-blue/MD590/MD590-IHC70-2015.08.10-23.06.44_MD590_3_0208_lossless_alignedTo_MD590-N47-2015.09.12-05.32.06_MD590_2_0140_cropped/MD590-IHC70-2015.08.10-23.06.44_MD590_3_0208_lossless_alignedTo_MD590-N47-2015.09.12-05.32.06_MD590_2_0140_cropped_patch_locations.txt\n",
      "/shared/CSHL_patch_features/inception-bn-blue/MD590/MD590_lossless_alignedTo_MD590-N47-2015.09.12-05.32.06_MD590_2_0140_cropped_gray/MD590-IHC70-2015.08.10-23.06.44_MD590_3_0208_lossless_alignedTo_MD590-N47-2015.09.12-05.32.06_MD590_2_0140_cropped_gray_patch_locations.txt\n",
      "aws s3 cp s3://mousebrainatlas-data/CSHL_patch_features/inception-bn-blue/MD590/MD590-IHC70-2015.08.10-23.06.44_MD590_3_0208_lossless_alignedTo_MD590-N47-2015.09.12-05.32.06_MD590_2_0140_cropped/MD590-IHC70-2015.08.10-23.06.44_MD590_3_0208_lossless_alignedTo_MD590-N47-2015.09.12-05.32.06_MD590_2_0140_cropped_patch_locations.txt s3://mousebrainatlas-data/CSHL_patch_features/inception-bn-blue/MD590/MD590_lossless_alignedTo_MD590-N47-2015.09.12-05.32.06_MD590_2_0140_cropped_gray/MD590-IHC70-2015.08.10-23.06.44_MD590_3_0208_lossless_alignedTo_MD590-N47-2015.09.12-05.32.06_MD590_2_0140_cropped_gray_patch_locations.txt\n"
     ]
    },
    {
     "name": "stderr",
     "output_type": "stream",
     "text": [
      "Child returned 0\n"
     ]
    },
    {
     "name": "stdout",
     "output_type": "stream",
     "text": [
      "/shared/CSHL_patch_features/inception-bn-blue/MD590/MD590-N70-2015.08.03-21.41.49_MD590_2_0209_lossless_alignedTo_MD590-N47-2015.09.12-05.32.06_MD590_2_0140_cropped/MD590-N70-2015.08.03-21.41.49_MD590_2_0209_lossless_alignedTo_MD590-N47-2015.09.12-05.32.06_MD590_2_0140_cropped_features.bp\n",
      "/shared/CSHL_patch_features/inception-bn-blue/MD590/MD590_lossless_alignedTo_MD590-N47-2015.09.12-05.32.06_MD590_2_0140_cropped_gray/MD590-N70-2015.08.03-21.41.49_MD590_2_0209_lossless_alignedTo_MD590-N47-2015.09.12-05.32.06_MD590_2_0140_cropped_gray_features.bp\n",
      "aws s3 cp s3://mousebrainatlas-data/CSHL_patch_features/inception-bn-blue/MD590/MD590-N70-2015.08.03-21.41.49_MD590_2_0209_lossless_alignedTo_MD590-N47-2015.09.12-05.32.06_MD590_2_0140_cropped/MD590-N70-2015.08.03-21.41.49_MD590_2_0209_lossless_alignedTo_MD590-N47-2015.09.12-05.32.06_MD590_2_0140_cropped_features.bp s3://mousebrainatlas-data/CSHL_patch_features/inception-bn-blue/MD590/MD590_lossless_alignedTo_MD590-N47-2015.09.12-05.32.06_MD590_2_0140_cropped_gray/MD590-N70-2015.08.03-21.41.49_MD590_2_0209_lossless_alignedTo_MD590-N47-2015.09.12-05.32.06_MD590_2_0140_cropped_gray_features.bp\n"
     ]
    },
    {
     "name": "stderr",
     "output_type": "stream",
     "text": [
      "Child returned 0\n"
     ]
    },
    {
     "name": "stdout",
     "output_type": "stream",
     "text": [
      "/shared/CSHL_patch_features/inception-bn-blue/MD590/MD590-N70-2015.08.03-21.41.49_MD590_2_0209_lossless_alignedTo_MD590-N47-2015.09.12-05.32.06_MD590_2_0140_cropped/MD590-N70-2015.08.03-21.41.49_MD590_2_0209_lossless_alignedTo_MD590-N47-2015.09.12-05.32.06_MD590_2_0140_cropped_patch_locations.txt\n",
      "/shared/CSHL_patch_features/inception-bn-blue/MD590/MD590_lossless_alignedTo_MD590-N47-2015.09.12-05.32.06_MD590_2_0140_cropped_gray/MD590-N70-2015.08.03-21.41.49_MD590_2_0209_lossless_alignedTo_MD590-N47-2015.09.12-05.32.06_MD590_2_0140_cropped_gray_patch_locations.txt\n",
      "aws s3 cp s3://mousebrainatlas-data/CSHL_patch_features/inception-bn-blue/MD590/MD590-N70-2015.08.03-21.41.49_MD590_2_0209_lossless_alignedTo_MD590-N47-2015.09.12-05.32.06_MD590_2_0140_cropped/MD590-N70-2015.08.03-21.41.49_MD590_2_0209_lossless_alignedTo_MD590-N47-2015.09.12-05.32.06_MD590_2_0140_cropped_patch_locations.txt s3://mousebrainatlas-data/CSHL_patch_features/inception-bn-blue/MD590/MD590_lossless_alignedTo_MD590-N47-2015.09.12-05.32.06_MD590_2_0140_cropped_gray/MD590-N70-2015.08.03-21.41.49_MD590_2_0209_lossless_alignedTo_MD590-N47-2015.09.12-05.32.06_MD590_2_0140_cropped_gray_patch_locations.txt\n"
     ]
    },
    {
     "name": "stderr",
     "output_type": "stream",
     "text": [
      "Child returned 0\n"
     ]
    },
    {
     "name": "stdout",
     "output_type": "stream",
     "text": [
      "/shared/CSHL_patch_features/inception-bn-blue/MD590/MD590-IHC70-2015.08.10-23.06.44_MD590_2_0209_lossless_alignedTo_MD590-N47-2015.09.12-05.32.06_MD590_2_0140_cropped/MD590-IHC70-2015.08.10-23.06.44_MD590_2_0209_lossless_alignedTo_MD590-N47-2015.09.12-05.32.06_MD590_2_0140_cropped_features.bp\n",
      "/shared/CSHL_patch_features/inception-bn-blue/MD590/MD590_lossless_alignedTo_MD590-N47-2015.09.12-05.32.06_MD590_2_0140_cropped_gray/MD590-IHC70-2015.08.10-23.06.44_MD590_2_0209_lossless_alignedTo_MD590-N47-2015.09.12-05.32.06_MD590_2_0140_cropped_gray_features.bp\n",
      "aws s3 cp s3://mousebrainatlas-data/CSHL_patch_features/inception-bn-blue/MD590/MD590-IHC70-2015.08.10-23.06.44_MD590_2_0209_lossless_alignedTo_MD590-N47-2015.09.12-05.32.06_MD590_2_0140_cropped/MD590-IHC70-2015.08.10-23.06.44_MD590_2_0209_lossless_alignedTo_MD590-N47-2015.09.12-05.32.06_MD590_2_0140_cropped_features.bp s3://mousebrainatlas-data/CSHL_patch_features/inception-bn-blue/MD590/MD590_lossless_alignedTo_MD590-N47-2015.09.12-05.32.06_MD590_2_0140_cropped_gray/MD590-IHC70-2015.08.10-23.06.44_MD590_2_0209_lossless_alignedTo_MD590-N47-2015.09.12-05.32.06_MD590_2_0140_cropped_gray_features.bp\n"
     ]
    },
    {
     "name": "stderr",
     "output_type": "stream",
     "text": [
      "Child returned 0\n"
     ]
    },
    {
     "name": "stdout",
     "output_type": "stream",
     "text": [
      "/shared/CSHL_patch_features/inception-bn-blue/MD590/MD590-IHC70-2015.08.10-23.06.44_MD590_2_0209_lossless_alignedTo_MD590-N47-2015.09.12-05.32.06_MD590_2_0140_cropped/MD590-IHC70-2015.08.10-23.06.44_MD590_2_0209_lossless_alignedTo_MD590-N47-2015.09.12-05.32.06_MD590_2_0140_cropped_patch_locations.txt\n",
      "/shared/CSHL_patch_features/inception-bn-blue/MD590/MD590_lossless_alignedTo_MD590-N47-2015.09.12-05.32.06_MD590_2_0140_cropped_gray/MD590-IHC70-2015.08.10-23.06.44_MD590_2_0209_lossless_alignedTo_MD590-N47-2015.09.12-05.32.06_MD590_2_0140_cropped_gray_patch_locations.txt\n",
      "aws s3 cp s3://mousebrainatlas-data/CSHL_patch_features/inception-bn-blue/MD590/MD590-IHC70-2015.08.10-23.06.44_MD590_2_0209_lossless_alignedTo_MD590-N47-2015.09.12-05.32.06_MD590_2_0140_cropped/MD590-IHC70-2015.08.10-23.06.44_MD590_2_0209_lossless_alignedTo_MD590-N47-2015.09.12-05.32.06_MD590_2_0140_cropped_patch_locations.txt s3://mousebrainatlas-data/CSHL_patch_features/inception-bn-blue/MD590/MD590_lossless_alignedTo_MD590-N47-2015.09.12-05.32.06_MD590_2_0140_cropped_gray/MD590-IHC70-2015.08.10-23.06.44_MD590_2_0209_lossless_alignedTo_MD590-N47-2015.09.12-05.32.06_MD590_2_0140_cropped_gray_patch_locations.txt\n"
     ]
    },
    {
     "name": "stderr",
     "output_type": "stream",
     "text": [
      "Child returned 0\n"
     ]
    },
    {
     "name": "stdout",
     "output_type": "stream",
     "text": [
      "/shared/CSHL_patch_features/inception-bn-blue/MD590/MD590-N70-2015.08.03-21.41.49_MD590_1_0210_lossless_alignedTo_MD590-N47-2015.09.12-05.32.06_MD590_2_0140_cropped/MD590-N70-2015.08.03-21.41.49_MD590_1_0210_lossless_alignedTo_MD590-N47-2015.09.12-05.32.06_MD590_2_0140_cropped_features.bp\n",
      "/shared/CSHL_patch_features/inception-bn-blue/MD590/MD590_lossless_alignedTo_MD590-N47-2015.09.12-05.32.06_MD590_2_0140_cropped_gray/MD590-N70-2015.08.03-21.41.49_MD590_1_0210_lossless_alignedTo_MD590-N47-2015.09.12-05.32.06_MD590_2_0140_cropped_gray_features.bp\n",
      "aws s3 cp s3://mousebrainatlas-data/CSHL_patch_features/inception-bn-blue/MD590/MD590-N70-2015.08.03-21.41.49_MD590_1_0210_lossless_alignedTo_MD590-N47-2015.09.12-05.32.06_MD590_2_0140_cropped/MD590-N70-2015.08.03-21.41.49_MD590_1_0210_lossless_alignedTo_MD590-N47-2015.09.12-05.32.06_MD590_2_0140_cropped_features.bp s3://mousebrainatlas-data/CSHL_patch_features/inception-bn-blue/MD590/MD590_lossless_alignedTo_MD590-N47-2015.09.12-05.32.06_MD590_2_0140_cropped_gray/MD590-N70-2015.08.03-21.41.49_MD590_1_0210_lossless_alignedTo_MD590-N47-2015.09.12-05.32.06_MD590_2_0140_cropped_gray_features.bp\n"
     ]
    },
    {
     "name": "stderr",
     "output_type": "stream",
     "text": [
      "Child returned 0\n"
     ]
    },
    {
     "name": "stdout",
     "output_type": "stream",
     "text": [
      "/shared/CSHL_patch_features/inception-bn-blue/MD590/MD590-N70-2015.08.03-21.41.49_MD590_1_0210_lossless_alignedTo_MD590-N47-2015.09.12-05.32.06_MD590_2_0140_cropped/MD590-N70-2015.08.03-21.41.49_MD590_1_0210_lossless_alignedTo_MD590-N47-2015.09.12-05.32.06_MD590_2_0140_cropped_patch_locations.txt\n",
      "/shared/CSHL_patch_features/inception-bn-blue/MD590/MD590_lossless_alignedTo_MD590-N47-2015.09.12-05.32.06_MD590_2_0140_cropped_gray/MD590-N70-2015.08.03-21.41.49_MD590_1_0210_lossless_alignedTo_MD590-N47-2015.09.12-05.32.06_MD590_2_0140_cropped_gray_patch_locations.txt\n",
      "aws s3 cp s3://mousebrainatlas-data/CSHL_patch_features/inception-bn-blue/MD590/MD590-N70-2015.08.03-21.41.49_MD590_1_0210_lossless_alignedTo_MD590-N47-2015.09.12-05.32.06_MD590_2_0140_cropped/MD590-N70-2015.08.03-21.41.49_MD590_1_0210_lossless_alignedTo_MD590-N47-2015.09.12-05.32.06_MD590_2_0140_cropped_patch_locations.txt s3://mousebrainatlas-data/CSHL_patch_features/inception-bn-blue/MD590/MD590_lossless_alignedTo_MD590-N47-2015.09.12-05.32.06_MD590_2_0140_cropped_gray/MD590-N70-2015.08.03-21.41.49_MD590_1_0210_lossless_alignedTo_MD590-N47-2015.09.12-05.32.06_MD590_2_0140_cropped_gray_patch_locations.txt\n"
     ]
    },
    {
     "name": "stderr",
     "output_type": "stream",
     "text": [
      "Child returned 0\n"
     ]
    }
   ],
   "source": [
    "for stack in ['MD590']:\n",
    "    for fn in metadata_cache['valid_filenames'][stack]:\n",
    "        \n",
    "        tmp_fp = DataManager.get_dnn_features_filepath(stack, 'inception-bn-blue', fn=fn, input_img_version='cropped')\n",
    "        old_fp = os.path.join(os.path.dirname(os.path.dirname(tmp_fp)), fn + '_lossless_alignedTo_' + metadata_cache['anchor_fn'][stack] + '_cropped', os.path.basename(tmp_fp))\n",
    "        \n",
    "        fp = DataManager.get_dnn_features_filepath(stack, 'inception-bn-blue', fn=fn, input_img_version='cropped_gray')\n",
    "        \n",
    "        execute_command(\"aws s3 cp s3://mousebrainatlas-data/\" + relative_to_local(old_fp) + \\\n",
    "                \" s3://mousebrainatlas-data/\" + relative_to_local(fp))\n",
    "        \n",
    "        tmp_fp = DataManager.get_dnn_feature_locations_filepath(stack, 'inception-bn-blue', fn=fn, input_img_version='cropped')\n",
    "        old_fp = os.path.join(os.path.dirname(os.path.dirname(tmp_fp)), fn + '_lossless_alignedTo_' + metadata_cache['anchor_fn'][stack] + '_cropped', os.path.basename(tmp_fp))\n",
    "        \n",
    "        fp = DataManager.get_dnn_feature_locations_filepath(stack, 'inception-bn-blue', fn=fn, input_img_version='cropped_gray')\n",
    "        \n",
    "        execute_command(\"aws s3 cp s3://mousebrainatlas-data/\" + relative_to_local(old_fp) + \\\n",
    "                \" s3://mousebrainatlas-data/\" + relative_to_local(fp))"
   ]
  },
  {
   "cell_type": "code",
   "execution_count": null,
   "metadata": {
    "collapsed": true
   },
   "outputs": [],
   "source": []
  }
 ],
 "metadata": {
  "kernelspec": {
   "display_name": "Python 2",
   "language": "python",
   "name": "python2"
  },
  "language_info": {
   "codemirror_mode": {
    "name": "ipython",
    "version": 2
   },
   "file_extension": ".py",
   "mimetype": "text/x-python",
   "name": "python",
   "nbconvert_exporter": "python",
   "pygments_lexer": "ipython2",
   "version": "2.7.12"
  }
 },
 "nbformat": 4,
 "nbformat_minor": 2
}
