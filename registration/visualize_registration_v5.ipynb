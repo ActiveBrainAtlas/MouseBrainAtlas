{
 "cells": [
  {
   "cell_type": "code",
   "execution_count": 1,
   "metadata": {},
   "outputs": [
    {
     "name": "stdout",
     "output_type": "stream",
     "text": [
      "Setting environment for Local Macbook Pro\n"
     ]
    }
   ],
   "source": [
    "%load_ext autoreload\n",
    "%autoreload 2\n",
    "\n",
    "import sys\n",
    "import os\n",
    "import time\n",
    "\n",
    "import numpy as np\n",
    "\n",
    "sys.path.append(os.environ['REPO_DIR'] + '/utilities')\n",
    "from utilities2015 import *\n",
    "from registration_utilities import *\n",
    "from annotation_utilities import *\n",
    "from metadata import *\n",
    "from data_manager import *\n",
    "from visualization_utilities import *"
   ]
  },
  {
   "cell_type": "markdown",
   "metadata": {},
   "source": [
    "# Draw globally and locally warped atlas on the same section."
   ]
  },
  {
   "cell_type": "code",
   "execution_count": 2,
   "metadata": {
    "collapsed": true
   },
   "outputs": [],
   "source": [
    "stack_fixed = 'MD585'\n",
    "stack_moving = 'atlasV5'\n",
    "detector_id = 15\n",
    "downsample_factor = 8\n",
    "bg_img_version = 'grayJpeg'"
   ]
  },
  {
   "cell_type": "code",
   "execution_count": 3,
   "metadata": {},
   "outputs": [
    {
     "name": "stderr",
     "output_type": "stream",
     "text": [
      "Prior structure/index map not found. Generating a new one.\n",
      "Prior structure/index map not found. Generating a new one.\n"
     ]
    },
    {
     "name": "stdout",
     "output_type": "stream",
     "text": [
      "0 511 0 374 111 479\n"
     ]
    }
   ],
   "source": [
    "volume_downsample = 32\n",
    "\n",
    "warped_volumes_global = DataManager.load_transformed_volume_all_known_structures(stack_m=stack_moving, \n",
    "                                                                          stack_f=stack_fixed, \n",
    "                                                                          prep_id_f=2,\n",
    "                                                                        detector_id_f=detector_id,\n",
    "                                                                        warp_setting=20,\n",
    "                                                                          downscale=volume_downsample,\n",
    "                                                                          trial_idx=None, sided=True)\n",
    "\n",
    "if len(warped_volumes_global) == 0:\n",
    "    raise Exception('No volumes are loaded.')\n",
    "\n",
    "    \n",
    "warped_volumes_local = DataManager.load_transformed_volume_all_known_structures(stack_m=stack_moving, \n",
    "                                                                          stack_f=stack_fixed, \n",
    "                                                                          prep_id_f=2,\n",
    "                                                                        detector_id_f=detector_id,\n",
    "                                                                        warp_setting=17,\n",
    "                                                                          downscale=volume_downsample,\n",
    "                                                                          trial_idx=None, sided=True)\n",
    "\n",
    "if len(warped_volumes_local) == 0:\n",
    "    raise Exception('No volumes are loaded.')\n",
    "\n",
    "# For getting correct contour location\n",
    "bbox_down32 = \\\n",
    "DataManager.load_original_volume_bbox(stack=stack_fixed, volume_type='score', structure='7N', \n",
    "                                      downscale=32, prep_id=2, detector_id=detector_id)\n",
    "xmin_vol_f, xmax_vol_f, ymin_vol_f, ymax_vol_f, zmin_vol_f, zmax_vol_f = bbox_down32 * 32 / volume_downsample\n",
    "print xmin_vol_f, xmax_vol_f, ymin_vol_f, ymax_vol_f, zmin_vol_f, zmax_vol_f"
   ]
  },
  {
   "cell_type": "code",
   "execution_count": 4,
   "metadata": {
    "collapsed": true
   },
   "outputs": [],
   "source": [
    "ydim_f, xdim_f, zdim_f = warped_volumes_global['10N_L'].shape\n",
    "centroid_f = np.array([xdim_f/2, ydim_f/2, zdim_f/2])"
   ]
  },
  {
   "cell_type": "code",
   "execution_count": 19,
   "metadata": {},
   "outputs": [
    {
     "name": "stderr",
     "output_type": "stream",
     "text": [
      "Volume shape: (356, 427, 375)\n"
     ]
    }
   ],
   "source": [
    "warped_volumes_original = DataManager.load_original_volume_all_known_structures(stack=stack_moving, \n",
    "                                                                          downscale=volume_downsample,\n",
    "                                                                          sided=True,\n",
    "                                                                                return_structure_index_mapping=False\n",
    "                                                                           )"
   ]
  },
  {
   "cell_type": "code",
   "execution_count": 20,
   "metadata": {
    "collapsed": true
   },
   "outputs": [],
   "source": [
    "ydim_m, xdim_m, zdim_m = warped_volumes_original['10N_L'].shape\n",
    "centroid_m = np.array([xdim_m/2, ydim_m/2, zdim_m/2])"
   ]
  },
  {
   "cell_type": "code",
   "execution_count": 21,
   "metadata": {
    "scrolled": true
   },
   "outputs": [
    {
     "name": "stderr",
     "output_type": "stream",
     "text": [
      "Interpolating/filling sparse volume: 0.02 seconds.\n",
      "Interpolating/filling sparse volume: 0.08 seconds.\n",
      "Interpolating/filling sparse volume: 0.04 seconds.\n",
      "Interpolating/filling sparse volume: 0.02 seconds.\n",
      "Interpolating/filling sparse volume: 0.01 seconds.\n",
      "Interpolating/filling sparse volume: 0.04 seconds.\n",
      "Interpolating/filling sparse volume: 0.00 seconds.\n",
      "Interpolating/filling sparse volume: 0.09 seconds.\n",
      "Interpolating/filling sparse volume: 0.04 seconds.\n",
      "Interpolating/filling sparse volume: 0.01 seconds.\n",
      "Interpolating/filling sparse volume: 0.09 seconds.\n",
      "Interpolating/filling sparse volume: 0.11 seconds.\n",
      "Interpolating/filling sparse volume: 0.05 seconds.\n",
      "Interpolating/filling sparse volume: 0.03 seconds.\n",
      "Interpolating/filling sparse volume: 0.05 seconds.\n",
      "Interpolating/filling sparse volume: 0.09 seconds.\n",
      "Interpolating/filling sparse volume: 0.03 seconds.\n",
      "Interpolating/filling sparse volume: 0.09 seconds.\n",
      "Interpolating/filling sparse volume: 0.05 seconds.\n",
      "Interpolating/filling sparse volume: 0.06 seconds.\n",
      "Interpolating/filling sparse volume: 0.04 seconds.\n",
      "Interpolating/filling sparse volume: 0.01 seconds.\n",
      "Interpolating/filling sparse volume: 0.00 seconds.\n",
      "Interpolating/filling sparse volume: 0.05 seconds.\n",
      "Interpolating/filling sparse volume: 0.02 seconds.\n",
      "Interpolating/filling sparse volume: 0.01 seconds.\n",
      "Interpolating/filling sparse volume: 0.02 seconds.\n",
      "Interpolating/filling sparse volume: 0.03 seconds.\n",
      "Interpolating/filling sparse volume: 0.01 seconds.\n",
      "Interpolating/filling sparse volume: 0.02 seconds.\n",
      "Interpolating/filling sparse volume: 0.04 seconds.\n",
      "Interpolating/filling sparse volume: 0.00 seconds.\n",
      "Interpolating/filling sparse volume: 0.00 seconds.\n",
      "Interpolating/filling sparse volume: 0.31 seconds.\n",
      "Interpolating/filling sparse volume: 0.03 seconds.\n",
      "Interpolating/filling sparse volume: 0.05 seconds.\n",
      "Interpolating/filling sparse volume: 0.00 seconds.\n",
      "Interpolating/filling sparse volume: 0.04 seconds.\n",
      "Interpolating/filling sparse volume: 0.01 seconds.\n",
      "Interpolating/filling sparse volume: 0.01 seconds.\n",
      "Interpolating/filling sparse volume: 0.05 seconds.\n",
      "Interpolating/filling sparse volume: 0.01 seconds.\n",
      "Interpolating/filling sparse volume: 0.01 seconds.\n",
      "Interpolating/filling sparse volume: 0.01 seconds.\n",
      "Interpolating/filling sparse volume: 0.09 seconds.\n",
      "Interpolating/filling sparse volume: 0.00 seconds.\n",
      "Interpolating/filling sparse volume: 0.01 seconds.\n",
      "Interpolating/filling sparse volume: 0.01 seconds.\n",
      "Interpolating/filling sparse volume: 0.51 seconds.\n",
      "Interpolating/filling sparse volume: 0.02 seconds.\n",
      "Interpolating/filling sparse volume: 0.00 seconds.\n"
     ]
    }
   ],
   "source": [
    "T = np.column_stack([np.eye(3), -centroid_m + centroid_f])\n",
    "\n",
    "warped_volumes_centroidAlignedToFixed_tuples = {}\n",
    "\n",
    "for sided_name, vol in warped_volumes_original.iteritems():\n",
    "    warped_volumes_centroidAlignedToFixed_tuples[sided_name] = transform_volume_v2(vol, T.flatten())"
   ]
  },
  {
   "cell_type": "code",
   "execution_count": 22,
   "metadata": {
    "collapsed": true
   },
   "outputs": [],
   "source": [
    "del warped_volumes_original"
   ]
  },
  {
   "cell_type": "code",
   "execution_count": 23,
   "metadata": {
    "collapsed": true
   },
   "outputs": [],
   "source": [
    "warped_volumes_centroidAlignedToFixed = crop_and_pad_volumes(vol_bbox_dict=warped_volumes_centroidAlignedToFixed_tuples, \n",
    "                     out_bbox=(0,xdim_f-1, 0,ydim_f-1, 0,zdim_f-1))"
   ]
  },
  {
   "cell_type": "code",
   "execution_count": 24,
   "metadata": {
    "collapsed": true
   },
   "outputs": [],
   "source": [
    "del warped_volumes_centroidAlignedToFixed_tuples"
   ]
  },
  {
   "cell_type": "code",
   "execution_count": 1,
   "metadata": {},
   "outputs": [
    {
     "ename": "NameError",
     "evalue": "name 'generate_scoremap_layer' is not defined",
     "output_type": "error",
     "traceback": [
      "\u001b[0;31m---------------------------------------------------------------------------\u001b[0m",
      "\u001b[0;31mNameError\u001b[0m                                 Traceback (most recent call last)",
      "\u001b[0;32m<ipython-input-1-8089e5dbbf2d>\u001b[0m in \u001b[0;36m<module>\u001b[0;34m()\u001b[0m\n\u001b[0;32m----> 1\u001b[0;31m \u001b[0mscoremap_viz\u001b[0m \u001b[0;34m=\u001b[0m \u001b[0mgenerate_scoremap_layer\u001b[0m\u001b[0;34m(\u001b[0m\u001b[0mstack\u001b[0m\u001b[0;34m=\u001b[0m\u001b[0mstack_fixed\u001b[0m\u001b[0;34m,\u001b[0m \u001b[0mstructure\u001b[0m\u001b[0;34m=\u001b[0m\u001b[0;34m'5N'\u001b[0m\u001b[0;34m,\u001b[0m \u001b[0mdownscale\u001b[0m\u001b[0;34m=\u001b[0m\u001b[0;36m8\u001b[0m\u001b[0;34m,\u001b[0m \u001b[0mdetector_id\u001b[0m\u001b[0;34m=\u001b[0m\u001b[0;36m15\u001b[0m\u001b[0;34m,\u001b[0m \u001b[0msec\u001b[0m\u001b[0;34m=\u001b[0m\u001b[0;36m155\u001b[0m\u001b[0;34m)\u001b[0m\u001b[0;34m\u001b[0m\u001b[0m\n\u001b[0m",
      "\u001b[0;31mNameError\u001b[0m: name 'generate_scoremap_layer' is not defined"
     ]
    }
   ],
   "source": [
    "scoremap_viz = generate_scoremap_layer(stack=stack_fixed, structure='5N', downscale=8, detector_id=15, sec=155)"
   ]
  },
  {
   "cell_type": "code",
   "execution_count": 26,
   "metadata": {},
   "outputs": [
    {
     "name": "stderr",
     "output_type": "stream",
     "text": [
      "/home/yuncong/Brain/utilities/visualization_utilities.py:211: FutureWarning: elementwise comparison failed; returning scalar instead, but in the future will perform elementwise comparison\n",
      "  if bg == 'original':\n"
     ]
    },
    {
     "name": "stdout",
     "output_type": "stream",
     "text": [
      "local Sp5C_L\n",
      "local VLL_L\n",
      "local 7N_L\n",
      "local LRt_L\n",
      "local SNR_L\n",
      "local Sp5O_L\n",
      "local 5N_L\n",
      "local SNC_L\n",
      "local IC\n",
      "local 7n_L\n",
      "local SC\n",
      "local Amb_L\n",
      "global Sp5C_L\n",
      "global VLL_L\n",
      "global 7N_L\n",
      "global LRt_L\n",
      "global SNR_L\n",
      "global 5N_L\n",
      "global SNC_L\n",
      "global IC\n",
      "global DC_L\n",
      "global 7n_L\n",
      "global SC\n",
      "global Amb_L\n",
      "centerAligned Sp5C_L\n",
      "centerAligned VLL_L\n",
      "centerAligned 7N_L\n",
      "centerAligned LRt_L\n",
      "centerAligned SNR_L\n",
      "centerAligned 5N_L\n",
      "centerAligned SNC_L\n",
      "centerAligned IC\n",
      "centerAligned DC_L\n",
      "centerAligned 7n_L\n",
      "centerAligned SC\n",
      "centerAligned Amb_L\n"
     ]
    }
   ],
   "source": [
    "sec = 155\n",
    "\n",
    "viz = annotation_from_multiple_warped_atlases_overlay_on(bg=scoremap_viz, \n",
    "                                                                warped_volumes_sets={\n",
    "                                                                    'centerAligned': warped_volumes_centroidAlignedToFixed,\n",
    "                                                                    'global': warped_volumes_global,\n",
    "                                                                                'local': warped_volumes_local},\n",
    "                                              volume_origin=(xmin_vol_f, ymin_vol_f, zmin_vol_f),\n",
    "                                              stack_fixed=stack_fixed, sec=sec, out_downsample=downsample_factor,\n",
    "                                             bg_img_version=bg_img_version,\n",
    "                                             levels=[0.5],\n",
    "                                                        level_colors={'centerAligned': {0.5: (0,0,255)},\n",
    "                                                                    'global': {0.5: (255,0,0)},\n",
    "                                                                     'local': {0.5: (0,255,0)}})"
   ]
  },
  {
   "cell_type": "code",
   "execution_count": 63,
   "metadata": {
    "scrolled": true
   },
   "outputs": [
    {
     "name": "stdout",
     "output_type": "stream",
     "text": [
      "LRt_R\n",
      "Sp5C_L\n",
      "Pn_L\n",
      "7N_R\n",
      "PBG_L\n",
      "VLL_L\n",
      "4N_R\n",
      "VLL_R\n",
      "7N_L\n",
      "PBG_R\n",
      "RtTg\n",
      "Sp5C_R\n",
      "Pn_R\n",
      "LRt_L\n",
      "Sp5O_R\n",
      "SNR_L\n",
      "12N\n",
      "SNR_R\n",
      "Sp5O_L\n",
      "DC_R\n",
      "VCA_L\n",
      "3N_L\n",
      "6N_R\n",
      "Sp5I_L\n",
      "RMC_R\n",
      "5N_L\n",
      "SNC_L\n",
      "SNC_R\n",
      "AP\n",
      "RMC_L\n",
      "Sp5I_R\n",
      "3N_R\n",
      "6N_L\n",
      "IC\n",
      "VCA_R\n",
      "DC_L\n",
      "Amb_R\n",
      "VCP_R\n",
      "LC_R\n",
      "10N_R\n",
      "7n_R\n",
      "5N_R\n",
      "Tz_L\n",
      "Tz_R\n",
      "7n_L\n",
      "4N_L\n",
      "LC_L\n",
      "10N_L\n",
      "SC\n",
      "VCP_L\n",
      "Amb_L\n",
      "LRt_R\n",
      "Sp5C_L\n",
      "Pn_L\n",
      "7N_R\n",
      "PBG_L\n",
      "VLL_L\n",
      "4N_R\n",
      "VLL_R\n",
      "7N_L\n",
      "PBG_R\n",
      "RtTg\n",
      "Sp5C_R\n",
      "Pn_R\n",
      "LRt_L\n",
      "Sp5O_R\n",
      "SNR_L\n",
      "12N\n",
      "SNR_R\n",
      "Sp5O_L\n",
      "DC_R\n",
      "VCA_L\n",
      "3N_L\n",
      "6N_R\n",
      "Sp5I_L\n",
      "RMC_R\n",
      "5N_L\n",
      "SNC_L\n",
      "SNC_R\n",
      "AP\n",
      "RMC_L\n",
      "Sp5I_R\n",
      "3N_R\n",
      "6N_L\n",
      "IC\n",
      "VCA_R\n",
      "DC_L\n",
      "Amb_R\n",
      "VCP_R\n",
      "LC_R\n",
      "10N_R\n",
      "7n_R\n",
      "5N_R\n",
      "Tz_L\n",
      "Tz_R\n",
      "7n_L\n",
      "4N_L\n",
      "LC_L\n",
      "10N_L\n",
      "SC\n",
      "VCP_L\n",
      "Amb_L\n",
      "LRt_R\n",
      "Sp5C_L\n",
      "Pn_L\n",
      "7N_R\n",
      "PBG_L\n",
      "VLL_L\n",
      "4N_R\n",
      "VLL_R\n",
      "7N_L\n",
      "PBG_R\n",
      "RtTg\n",
      "Sp5C_R\n",
      "Pn_R\n",
      "LRt_L\n",
      "Sp5O_R\n",
      "SNR_L\n",
      "12N\n",
      "SNR_R\n",
      "Sp5O_L\n",
      "DC_R\n",
      "VCA_L\n",
      "3N_L\n",
      "6N_R\n",
      "Sp5I_L\n",
      "RMC_R\n",
      "5N_L\n",
      "SNC_L\n",
      "SNC_R\n",
      "AP\n",
      "5N_R\n",
      "Sp5I_R\n",
      "3N_R\n",
      "6N_L\n",
      "IC\n",
      "VCA_R\n",
      "DC_L\n",
      "Amb_R\n",
      "VCP_R\n",
      "LC_R\n",
      "10N_R\n",
      "7n_R\n",
      "RMC_L\n",
      "Tz_L\n",
      "Tz_R\n",
      "7n_L\n",
      "4N_L\n",
      "LC_L\n",
      "10N_L\n",
      "SC\n",
      "VCP_L\n",
      "Amb_L\n"
     ]
    }
   ],
   "source": [
    "sec = 155\n",
    "\n",
    "viz = annotation_from_multiple_warped_atlases_overlay_on(bg='original', \n",
    "                                                                warped_volumes_sets={\n",
    "                                                                    'centerAligned': warped_volumes_centroidAlignedToFixed,\n",
    "                                                                    'global': warped_volumes_global,\n",
    "                                                                                'local': warped_volumes_local},\n",
    "                                              volume_origin=(xmin_vol_f, ymin_vol_f, zmin_vol_f),\n",
    "                                              stack_fixed=stack_fixed, sec=sec, out_downsample=downsample_factor,\n",
    "                                             bg_img_version=bg_img_version,\n",
    "                                             levels=[0.5],\n",
    "                                                        level_colors={'centerAligned': {0.5: (0,0,255)},\n",
    "                                                                    'global': {0.5: (255,0,0)},\n",
    "                                                                     'local': {0.5: (0,255,0)}})"
   ]
  },
  {
   "cell_type": "code",
   "execution_count": 27,
   "metadata": {},
   "outputs": [
    {
     "data": {
      "text/html": [
       "<a href='tmp.jpg' target='_blank'>tmp.jpg</a><br>"
      ],
      "text/plain": [
       "/home/yuncong/Brain/registration/tmp.jpg"
      ]
     },
     "execution_count": 27,
     "metadata": {},
     "output_type": "execute_result"
    }
   ],
   "source": [
    "display_image(viz)"
   ]
  },
  {
   "cell_type": "code",
   "execution_count": 66,
   "metadata": {},
   "outputs": [
    {
     "name": "stdout",
     "output_type": "stream",
     "text": [
      "local Sp5C_L\n",
      "local Pn_L\n",
      "local VLL_L\n",
      "local 7N_L\n",
      "local LRt_L\n",
      "local SNR_L\n",
      "local SNC_L\n",
      "local IC\n",
      "local 7n_L\n",
      "local SC\n",
      "global Sp5C_L\n",
      "global VLL_L\n",
      "global 7N_L\n",
      "global LRt_L\n",
      "global SNR_L\n",
      "global 5N_L\n",
      "global SNC_L\n",
      "global IC\n",
      "global 7n_L\n",
      "global SC\n",
      "centerAligned Sp5C_L\n",
      "centerAligned Pn_L\n",
      "centerAligned VLL_L\n",
      "centerAligned 7N_L\n",
      "centerAligned LRt_L\n",
      "centerAligned SNR_L\n",
      "centerAligned SNC_L\n",
      "centerAligned IC\n",
      "centerAligned 7n_L\n",
      "centerAligned SC\n"
     ]
    }
   ],
   "source": [
    "sec = 165\n",
    "\n",
    "viz = annotation_from_multiple_warped_atlases_overlay_on(bg='original', \n",
    "                                                                warped_volumes_sets={\n",
    "                                                                    'centerAligned': warped_volumes_centroidAlignedToFixed,\n",
    "                                                                    'global': warped_volumes_global,\n",
    "                                                                                'local': warped_volumes_local},\n",
    "                                              volume_origin=(xmin_vol_f, ymin_vol_f, zmin_vol_f),\n",
    "                                              stack_fixed=stack_fixed, sec=sec, out_downsample=downsample_factor,\n",
    "                                             bg_img_version=bg_img_version,\n",
    "                                             levels=[0.5],\n",
    "                                                        level_colors={'centerAligned': {0.5: (0,0,255)},\n",
    "                                                                    'global': {0.5: (255,0,0)},\n",
    "                                                                     'local': {0.5: (0,255,0)}})"
   ]
  },
  {
   "cell_type": "code",
   "execution_count": 67,
   "metadata": {},
   "outputs": [
    {
     "data": {
      "text/html": [
       "<a href='tmp.jpg' target='_blank'>tmp.jpg</a><br>"
      ],
      "text/plain": [
       "/home/yuncong/Brain/registration/tmp.jpg"
      ]
     },
     "execution_count": 67,
     "metadata": {},
     "output_type": "execute_result"
    }
   ],
   "source": [
    "display_image(viz)"
   ]
  },
  {
   "cell_type": "code",
   "execution_count": null,
   "metadata": {
    "collapsed": true
   },
   "outputs": [],
   "source": []
  }
 ],
 "metadata": {
  "kernelspec": {
   "display_name": "Python 2",
   "language": "python",
   "name": "python2"
  },
  "language_info": {
   "codemirror_mode": {
    "name": "ipython",
    "version": 2
   },
   "file_extension": ".py",
   "mimetype": "text/x-python",
   "name": "python",
   "nbconvert_exporter": "python",
   "pygments_lexer": "ipython2",
   "version": "2.7.12"
  }
 },
 "nbformat": 4,
 "nbformat_minor": 2
}
