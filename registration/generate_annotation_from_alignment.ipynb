{
 "cells": [
  {
   "cell_type": "code",
   "execution_count": 1,
   "metadata": {},
   "outputs": [
    {
     "name": "stderr",
     "output_type": "stream",
     "text": [
      "/usr/local/lib/python2.7/dist-packages/matplotlib/__init__.py:1405: UserWarning: \n",
      "This call to matplotlib.use() has no effect because the backend has already\n",
      "been chosen; matplotlib.use() must be called *before* pylab, matplotlib.pyplot,\n",
      "or matplotlib.backends is imported for the first time.\n",
      "\n",
      "  warnings.warn(_use_error_msg)\n",
      "No vtk\n"
     ]
    },
    {
     "name": "stdout",
     "output_type": "stream",
     "text": [
      "Setting environment for AWS compute node\n"
     ]
    }
   ],
   "source": [
    "%load_ext autoreload\n",
    "%autoreload 2\n",
    "\n",
    "import sys\n",
    "import os\n",
    "import time\n",
    "\n",
    "import matplotlib.pyplot as plt\n",
    "%matplotlib inline\n",
    "import numpy as np\n",
    "\n",
    "sys.path.append(os.path.join(os.environ['REPO_DIR'], 'utilities'))\n",
    "from utilities2015 import *\n",
    "from metadata import *\n",
    "from data_manager import *\n",
    "from registration_utilities import *"
   ]
  },
  {
   "cell_type": "code",
   "execution_count": 2,
   "metadata": {
    "collapsed": true
   },
   "outputs": [],
   "source": [
    "classifier_id = 37\n",
    "warp_setting = 1"
   ]
  },
  {
   "cell_type": "code",
   "execution_count": 3,
   "metadata": {
    "collapsed": true
   },
   "outputs": [],
   "source": [
    "def generate_annotation_file_from_aligned_atlas(stack_m, stack_f, classifier_setting_m, classifier_setting_f,\n",
    "                                               warp_setting, trial_idx):\n",
    "    \"\"\"\n",
    "    Compute the structure contours on a fixed stack according to the atlas aligned to it.\n",
    "    The structure contours are stored as a pandas dataframe. \n",
    "    Rows are section indices and columns are structure names.\n",
    "    Structure names are unsided only.\n",
    "    Also save this dataframe as a hdf file. \n",
    "    The file location can be retrieved by DataManager.get_annotation_filepath().\n",
    "    \n",
    "    Returns:\n",
    "        dataframe: the structure contours\n",
    "    \"\"\"\n",
    "        \n",
    "    warped_volumes = DataManager.load_transformed_volume_all_known_structures(stack_m=stack_m, stack_f=stack_f,\n",
    "                                    classifier_setting_m=classifier_setting_m,\n",
    "                                    classifier_setting_f=classifier_setting_f,\n",
    "                                    warp_setting=warp_setting,\n",
    "                                    trial_idx=trial_idx, sided=True)\n",
    "    downsample_factor = 32\n",
    "    \n",
    "    # For getting correct contour location\n",
    "    xmin_vol_f, _, ymin_vol_f, _, zmin_vol_f, _ = \\\n",
    "    DataManager.load_original_volume_bbox(stack=stack_f, vol_type='score', structure='7N', downscale=downsample_factor, classifier_setting=classifier_setting_f)\n",
    "    \n",
    "    first_sec, last_sec = metadata_cache['section_limits'][stack_f]\n",
    "    structure_contours = get_structure_contours_from_aligned_atlas(warped_volumes, downsample_factor=downsample_factor,\n",
    "                                                         volume_origin=(xmin_vol_f, ymin_vol_f, zmin_vol_f),\n",
    "#                                                          sections=range(first_sec, last_sec+1), \n",
    "                                                        sections=metadata_cache['valid_sections'][stack_f], \n",
    "                                                         level=.5)\n",
    "    \n",
    "    from pandas import DataFrame\n",
    "    annotation_dataframe = DataFrame(structure_contours).T\n",
    "    \n",
    "    annotation_df_fp = DataManager.get_annotation_filepath(stack=stack_f, by_human=False, stack_m=stack_m, \n",
    "                                                           classifier_setting_m=classifier_setting_m,\n",
    "                                                          classifier_setting_f=classifier_setting_f,\n",
    "                                                          warp_setting=warp_setting,\n",
    "                                                          trial_idx=trial_idx)\n",
    "    save_hdf_v2(annotation_dataframe, annotation_df_fp)"
   ]
  },
  {
   "cell_type": "code",
   "execution_count": 4,
   "metadata": {
    "scrolled": true
   },
   "outputs": [
    {
     "name": "stdout",
     "output_type": "stream",
     "text": [
      "rm -rf /shared/CSHL_volumes/atlasV3/atlasV3_down32_scoreVolume_clf_37_warp_1_MD642_down32_scoreVolume_clf_37_trial_1/score_volumes/atlasV3_down32_scoreVolume_clf_37_warp_1_MD642_down32_scoreVolume_clf_37_trial_1_sp5.bp && mkdir -p /shared/CSHL_volumes/atlasV3/atlasV3_down32_scoreVolume_clf_37_warp_1_MD642_down32_scoreVolume_clf_37_trial_1/score_volumes\n",
      "aws s3 cp s3://mousebrainatlas-data/CSHL_volumes/atlasV3/atlasV3_down32_scoreVolume_clf_37_warp_1_MD642_down32_scoreVolume_clf_37_trial_1/score_volumes/atlasV3_down32_scoreVolume_clf_37_warp_1_MD642_down32_scoreVolume_clf_37_trial_1_sp5.bp /shared/CSHL_volumes/atlasV3/atlasV3_down32_scoreVolume_clf_37_warp_1_MD642_down32_scoreVolume_clf_37_trial_1/score_volumes/atlasV3_down32_scoreVolume_clf_37_warp_1_MD642_down32_scoreVolume_clf_37_trial_1_sp5.bp\n"
     ]
    },
    {
     "name": "stderr",
     "output_type": "stream",
     "text": [
      "Child returned 0\n",
      "Child returned 1\n",
      "0.44 seconds.\n",
      "File does not exist: /shared/CSHL_volumes/atlasV3/atlasV3_down32_scoreVolume_clf_37_warp_1_MD642_down32_scoreVolume_clf_37_trial_1/score_volumes/atlasV3_down32_scoreVolume_clf_37_warp_1_MD642_down32_scoreVolume_clf_37_trial_1_sp5.bp\n",
      "[Errno 2] No such file or directory: '/shared/CSHL_volumes/atlasV3/atlasV3_down32_scoreVolume_clf_37_warp_1_MD642_down32_scoreVolume_clf_37_trial_1/score_volumes/atlasV3_down32_scoreVolume_clf_37_warp_1_MD642_down32_scoreVolume_clf_37_trial_1_sp5.bp'\n",
      "Score volume for sp5 does not exist.\n",
      "Child returned 0\n"
     ]
    },
    {
     "name": "stdout",
     "output_type": "stream",
     "text": [
      "rm -rf /shared/CSHL_volumes/atlasV3/atlasV3_down32_scoreVolume_clf_37_warp_1_MD642_down32_scoreVolume_clf_37_trial_1/score_volumes/atlasV3_down32_scoreVolume_clf_37_warp_1_MD642_down32_scoreVolume_clf_37_trial_1_outerContour.bp && mkdir -p /shared/CSHL_volumes/atlasV3/atlasV3_down32_scoreVolume_clf_37_warp_1_MD642_down32_scoreVolume_clf_37_trial_1/score_volumes\n",
      "aws s3 cp s3://mousebrainatlas-data/CSHL_volumes/atlasV3/atlasV3_down32_scoreVolume_clf_37_warp_1_MD642_down32_scoreVolume_clf_37_trial_1/score_volumes/atlasV3_down32_scoreVolume_clf_37_warp_1_MD642_down32_scoreVolume_clf_37_trial_1_outerContour.bp /shared/CSHL_volumes/atlasV3/atlasV3_down32_scoreVolume_clf_37_warp_1_MD642_down32_scoreVolume_clf_37_trial_1/score_volumes/atlasV3_down32_scoreVolume_clf_37_warp_1_MD642_down32_scoreVolume_clf_37_trial_1_outerContour.bp\n"
     ]
    },
    {
     "name": "stderr",
     "output_type": "stream",
     "text": [
      "Child returned 1\n",
      "0.38 seconds.\n",
      "File does not exist: /shared/CSHL_volumes/atlasV3/atlasV3_down32_scoreVolume_clf_37_warp_1_MD642_down32_scoreVolume_clf_37_trial_1/score_volumes/atlasV3_down32_scoreVolume_clf_37_warp_1_MD642_down32_scoreVolume_clf_37_trial_1_outerContour.bp\n",
      "[Errno 2] No such file or directory: '/shared/CSHL_volumes/atlasV3/atlasV3_down32_scoreVolume_clf_37_warp_1_MD642_down32_scoreVolume_clf_37_trial_1/score_volumes/atlasV3_down32_scoreVolume_clf_37_warp_1_MD642_down32_scoreVolume_clf_37_trial_1_outerContour.bp'\n",
      "Score volume for outerContour does not exist.\n",
      "Computing structure contours for section 81...\n",
      "Computing structure contours for section 82...\n",
      "Computing structure contours for section 83...\n",
      "Computing structure contours for section 84...\n",
      "Computing structure contours for section 85...\n",
      "Computing structure contours for section 86...\n",
      "Computing structure contours for section 87...\n",
      "Computing structure contours for section 88...\n",
      "Computing structure contours for section 89...\n",
      "Computing structure contours for section 90...\n",
      "Computing structure contours for section 91...\n",
      "Computing structure contours for section 92...\n",
      "Computing structure contours for section 93...\n",
      "Computing structure contours for section 94...\n",
      "Computing structure contours for section 95...\n",
      "Computing structure contours for section 96...\n",
      "Computing structure contours for section 98...\n",
      "Computing structure contours for section 99...\n",
      "Computing structure contours for section 100...\n",
      "Computing structure contours for section 101...\n",
      "Computing structure contours for section 102...\n",
      "Computing structure contours for section 103...\n",
      "Computing structure contours for section 104...\n",
      "Computing structure contours for section 105...\n",
      "Computing structure contours for section 106...\n",
      "Computing structure contours for section 107...\n",
      "Computing structure contours for section 108...\n",
      "Computing structure contours for section 109...\n",
      "Computing structure contours for section 110...\n",
      "Computing structure contours for section 111...\n",
      "Computing structure contours for section 112...\n",
      "Computing structure contours for section 113...\n",
      "Computing structure contours for section 114...\n",
      "Computing structure contours for section 115...\n",
      "Computing structure contours for section 116...\n",
      "Computing structure contours for section 117...\n",
      "Computing structure contours for section 118...\n",
      "Computing structure contours for section 119...\n",
      "Computing structure contours for section 120...\n",
      "Computing structure contours for section 121...\n",
      "Computing structure contours for section 122...\n",
      "Computing structure contours for section 123...\n",
      "Computing structure contours for section 124...\n",
      "Computing structure contours for section 125...\n",
      "Computing structure contours for section 126...\n",
      "Computing structure contours for section 127...\n",
      "Computing structure contours for section 128...\n",
      "Computing structure contours for section 129...\n",
      "Computing structure contours for section 130...\n",
      "Computing structure contours for section 131...\n",
      "Computing structure contours for section 132...\n",
      "Computing structure contours for section 133...\n",
      "Computing structure contours for section 134...\n",
      "Computing structure contours for section 135...\n",
      "Computing structure contours for section 136...\n",
      "Computing structure contours for section 137...\n",
      "Computing structure contours for section 138...\n",
      "Computing structure contours for section 139...\n",
      "Computing structure contours for section 140...\n",
      "Computing structure contours for section 141...\n",
      "Computing structure contours for section 142...\n",
      "Computing structure contours for section 143...\n",
      "Computing structure contours for section 144...\n",
      "Computing structure contours for section 145...\n",
      "Computing structure contours for section 146...\n",
      "Computing structure contours for section 147...\n",
      "Computing structure contours for section 148...\n",
      "Computing structure contours for section 149...\n",
      "Computing structure contours for section 150...\n",
      "Computing structure contours for section 151...\n",
      "Computing structure contours for section 152...\n",
      "Computing structure contours for section 153...\n",
      "Computing structure contours for section 154...\n",
      "Computing structure contours for section 155...\n",
      "Computing structure contours for section 156...\n",
      "Computing structure contours for section 157...\n",
      "Computing structure contours for section 158...\n",
      "Computing structure contours for section 159...\n",
      "Computing structure contours for section 160...\n",
      "Computing structure contours for section 161...\n",
      "Computing structure contours for section 162...\n",
      "Computing structure contours for section 164...\n",
      "Computing structure contours for section 165...\n",
      "Computing structure contours for section 166...\n",
      "Computing structure contours for section 167...\n",
      "Computing structure contours for section 168...\n",
      "Computing structure contours for section 169...\n",
      "Computing structure contours for section 170...\n",
      "Computing structure contours for section 171...\n",
      "Computing structure contours for section 172...\n",
      "Computing structure contours for section 173...\n",
      "Computing structure contours for section 174...\n",
      "Computing structure contours for section 175...\n",
      "Computing structure contours for section 176...\n",
      "Computing structure contours for section 177...\n",
      "Computing structure contours for section 178...\n",
      "Computing structure contours for section 179...\n",
      "Computing structure contours for section 181...\n",
      "Computing structure contours for section 182...\n",
      "Computing structure contours for section 183...\n",
      "Computing structure contours for section 184...\n",
      "Computing structure contours for section 185...\n",
      "Computing structure contours for section 186...\n",
      "Computing structure contours for section 187...\n",
      "Computing structure contours for section 188...\n",
      "Computing structure contours for section 189...\n",
      "Computing structure contours for section 190...\n",
      "Computing structure contours for section 191...\n",
      "Computing structure contours for section 192...\n",
      "Computing structure contours for section 193...\n",
      "Computing structure contours for section 194...\n",
      "Computing structure contours for section 195...\n",
      "Computing structure contours for section 196...\n",
      "Computing structure contours for section 197...\n",
      "Computing structure contours for section 198...\n",
      "Computing structure contours for section 199...\n",
      "Computing structure contours for section 200...\n",
      "Computing structure contours for section 201...\n",
      "Computing structure contours for section 202...\n",
      "Computing structure contours for section 203...\n",
      "Computing structure contours for section 204...\n",
      "Computing structure contours for section 205...\n",
      "Computing structure contours for section 206...\n",
      "Computing structure contours for section 207...\n",
      "Computing structure contours for section 208...\n",
      "Computing structure contours for section 209...\n",
      "Computing structure contours for section 210...\n",
      "Computing structure contours for section 211...\n",
      "Computing structure contours for section 212...\n",
      "Computing structure contours for section 213...\n",
      "Computing structure contours for section 214...\n",
      "Computing structure contours for section 215...\n",
      "Computing structure contours for section 216...\n",
      "Computing structure contours for section 217...\n",
      "Computing structure contours for section 218...\n",
      "Computing structure contours for section 219...\n",
      "Computing structure contours for section 220...\n",
      "Computing structure contours for section 221...\n",
      "Computing structure contours for section 222...\n",
      "Computing structure contours for section 223...\n",
      "Computing structure contours for section 224...\n",
      "Computing structure contours for section 225...\n",
      "Computing structure contours for section 226...\n",
      "Computing structure contours for section 227...\n",
      "Computing structure contours for section 228...\n",
      "Computing structure contours for section 229...\n",
      "Computing structure contours for section 230...\n",
      "Computing structure contours for section 231...\n",
      "Computing structure contours for section 232...\n",
      "Computing structure contours for section 233...\n",
      "Computing structure contours for section 234...\n",
      "Computing structure contours for section 235...\n",
      "Computing structure contours for section 236...\n",
      "Computing structure contours for section 237...\n",
      "Computing structure contours for section 238...\n",
      "Computing structure contours for section 239...\n",
      "Computing structure contours for section 240...\n",
      "Computing structure contours for section 241...\n",
      "Computing structure contours for section 242...\n"
     ]
    },
    {
     "name": "stderr",
     "output_type": "stream",
     "text": [
      "Computing structure contours for section 243...\n",
      "Computing structure contours for section 244...\n",
      "Computing structure contours for section 245...\n",
      "Computing structure contours for section 246...\n",
      "Computing structure contours for section 247...\n",
      "Computing structure contours for section 248...\n",
      "Computing structure contours for section 249...\n",
      "Computing structure contours for section 250...\n",
      "Computing structure contours for section 251...\n",
      "Computing structure contours for section 252...\n",
      "Computing structure contours for section 253...\n",
      "Computing structure contours for section 254...\n",
      "Computing structure contours for section 255...\n",
      "Computing structure contours for section 256...\n",
      "Computing structure contours for section 257...\n",
      "Computing structure contours for section 258...\n",
      "Computing structure contours for section 259...\n",
      "Computing structure contours for section 260...\n",
      "Computing structure contours for section 261...\n",
      "Computing structure contours for section 262...\n",
      "Computing structure contours for section 263...\n",
      "Computing structure contours for section 264...\n",
      "Computing structure contours for section 265...\n",
      "Computing structure contours for section 266...\n",
      "Computing structure contours for section 267...\n",
      "Computing structure contours for section 268...\n",
      "Computing structure contours for section 269...\n",
      "Computing structure contours for section 270...\n",
      "Computing structure contours for section 271...\n",
      "Computing structure contours for section 272...\n",
      "Computing structure contours for section 273...\n",
      "Computing structure contours for section 274...\n",
      "Computing structure contours for section 275...\n",
      "Computing structure contours for section 276...\n",
      "Computing structure contours for section 277...\n",
      "Computing structure contours for section 278...\n",
      "Computing structure contours for section 279...\n",
      "Computing structure contours for section 280...\n",
      "Computing structure contours for section 281...\n",
      "Computing structure contours for section 282...\n",
      "Computing structure contours for section 283...\n",
      "Computing structure contours for section 284...\n",
      "Computing structure contours for section 285...\n",
      "Computing structure contours for section 286...\n",
      "Computing structure contours for section 287...\n",
      "Computing structure contours for section 288...\n",
      "Computing structure contours for section 289...\n",
      "Computing structure contours for section 290...\n",
      "Computing structure contours for section 291...\n",
      "Computing structure contours for section 292...\n",
      "Computing structure contours for section 293...\n",
      "Computing structure contours for section 294...\n",
      "Computing structure contours for section 295...\n",
      "Computing structure contours for section 296...\n",
      "Computing structure contours for section 297...\n",
      "Computing structure contours for section 298...\n",
      "Computing structure contours for section 299...\n",
      "Computing structure contours for section 300...\n",
      "Computing structure contours for section 301...\n",
      "Computing structure contours for section 302...\n",
      "Computing structure contours for section 303...\n",
      "Computing structure contours for section 304...\n",
      "Computing structure contours for section 305...\n",
      "Computing structure contours for section 306...\n",
      "Computing structure contours for section 307...\n",
      "Computing structure contours for section 308...\n",
      "Computing structure contours for section 309...\n",
      "Computing structure contours for section 310...\n",
      "Computing structure contours for section 311...\n",
      "Computing structure contours for section 312...\n",
      "Computing structure contours for section 313...\n",
      "Computing structure contours for section 314...\n",
      "Computing structure contours for section 315...\n",
      "Computing structure contours for section 316...\n",
      "Computing structure contours for section 317...\n",
      "Computing structure contours for section 318...\n",
      "Computing structure contours for section 319...\n",
      "Computing structure contours for section 320...\n",
      "Computing structure contours for section 321...\n",
      "Computing structure contours for section 322...\n",
      "Computing structure contours for section 323...\n",
      "Computing structure contours for section 324...\n",
      "Computing structure contours for section 325...\n",
      "Computing structure contours for section 326...\n",
      "Computing structure contours for section 327...\n",
      "Computing structure contours for section 328...\n",
      "Computing structure contours for section 329...\n",
      "Computing structure contours for section 330...\n",
      "Computing structure contours for section 331...\n",
      "Computing structure contours for section 332...\n",
      "Computing structure contours for section 333...\n",
      "Computing structure contours for section 334...\n",
      "Computing structure contours for section 335...\n",
      "Computing structure contours for section 336...\n",
      "Computing structure contours for section 337...\n",
      "Computing structure contours for section 338...\n",
      "Computing structure contours for section 339...\n",
      "Computing structure contours for section 340...\n",
      "Computing structure contours for section 341...\n",
      "Computing structure contours for section 342...\n",
      "Computing structure contours for section 343...\n",
      "Computing structure contours for section 344...\n",
      "Computing structure contours for section 345...\n",
      "Computing structure contours for section 346...\n",
      "Computing structure contours for section 347...\n",
      "Computing structure contours for section 348...\n",
      "Computing structure contours for section 349...\n",
      "Computing structure contours for section 350...\n",
      "Computing structure contours for section 351...\n",
      "Computing structure contours for section 352...\n",
      "Computing structure contours for section 353...\n",
      "Computing structure contours for section 354...\n",
      "Computing structure contours for section 355...\n",
      "Computing structure contours for section 356...\n",
      "Computing structure contours for section 357...\n",
      "Computing structure contours for section 358...\n",
      "Computing structure contours for section 359...\n",
      "Computing structure contours for section 360...\n",
      "Computing structure contours for section 361...\n",
      "Computing structure contours for section 362...\n",
      "Computing structure contours for section 363...\n",
      "Computing structure contours for section 364...\n",
      "/usr/local/lib/python2.7/dist-packages/pandas/core/generic.py:1282: PerformanceWarning: \n",
      "your performance may suffer as PyTables will pickle object types that it cannot\n",
      "map directly to c-types [inferred_type->mixed,key->block0_values] [items->['10N_L', '10N_R', '12N', '3N_L', '3N_R', '4N_L', '4N_R', '5N_L', '5N_R', '6N_L', '6N_R', '7N_L', '7N_R', '7n_L', '7n_R', 'AP', 'Amb_L', 'Amb_R', 'DC_L', 'DC_R', 'IC', 'LC_L', 'LC_R', 'LRt_L', 'LRt_R', 'PBG_L', 'PBG_R', 'Pn_L', 'Pn_R', 'RMC_L', 'RMC_R', 'RtTg', 'SC', 'SNC_L', 'SNC_R', 'SNR_L', 'SNR_R', 'Sp5C_L', 'Sp5C_R', 'Sp5I_L', 'Sp5I_R', 'Sp5O_L', 'Sp5O_R', 'Tz_L', 'Tz_R', 'VCA_L', 'VCA_R', 'VCP_L', 'VCP_R', 'VLL_L', 'VLL_R']]\n",
      "\n",
      "  return pytables.to_hdf(path_or_buf, key, self, **kwargs)\n"
     ]
    }
   ],
   "source": [
    "generate_annotation_file_from_aligned_atlas(stack_m='atlasV3', stack_f='MD642', \n",
    "                                            classifier_setting_m=classifier_id, \n",
    "                                            classifier_setting_f=classifier_id, \n",
    "                                            warp_setting=warp_setting, \n",
    "                                            trial_idx=1)"
   ]
  },
  {
   "cell_type": "code",
   "execution_count": 5,
   "metadata": {},
   "outputs": [],
   "source": [
    "contours_df, _ = DataManager.load_annotation_v3(stack_m='atlasV3', by_human=False, \n",
    "                                                      stack='MD642', \n",
    "                                            classifier_setting_m=classifier_id, \n",
    "                                            classifier_setting_f=classifier_id, \n",
    "                                            warp_setting=warp_setting, \n",
    "                                            trial_idx=1)"
   ]
  },
  {
   "cell_type": "code",
   "execution_count": 15,
   "metadata": {
    "scrolled": true
   },
   "outputs": [
    {
     "name": "stderr",
     "output_type": "stream",
     "text": [
      "Computing grid indices lookup for section 89...\n",
      "Computing grid indices lookup for section 94...\n",
      "Computing grid indices lookup for section 100...\n"
     ]
    },
    {
     "name": "stdout",
     "output_type": "stream",
     "text": [
      "VCA_L 49\n"
     ]
    },
    {
     "name": "stderr",
     "output_type": "stream",
     "text": [
      "Computing grid indices lookup for section 105...\n",
      "Computing grid indices lookup for section 90...\n",
      "Computing grid indices lookup for section 110...\n"
     ]
    },
    {
     "name": "stdout",
     "output_type": "stream",
     "text": [
      "VCA_L 0\n",
      "VCA_L 356\n"
     ]
    },
    {
     "name": "stderr",
     "output_type": "stream",
     "text": [
      "Computing grid indices lookup for section 115...\n"
     ]
    },
    {
     "name": "stdout",
     "output_type": "stream",
     "text": [
      "VCA_L 92\n"
     ]
    },
    {
     "name": "stderr",
     "output_type": "stream",
     "text": [
      "Computing grid indices lookup for section 120...\n"
     ]
    },
    {
     "name": "stdout",
     "output_type": "stream",
     "text": [
      "VCA_L 746\n",
      "PBG_L 0\n"
     ]
    },
    {
     "name": "stderr",
     "output_type": "stream",
     "text": [
      "Computing grid indices lookup for section 95...\n",
      "Computing grid indices lookup for section 125...\n"
     ]
    },
    {
     "name": "stdout",
     "output_type": "stream",
     "text": [
      "DC_L 445\n"
     ]
    },
    {
     "name": "stderr",
     "output_type": "stream",
     "text": [
      "Computing grid indices lookup for section 91...\n"
     ]
    },
    {
     "name": "stdout",
     "output_type": "stream",
     "text": [
      "VCA_L 728\n"
     ]
    },
    {
     "name": "stderr",
     "output_type": "stream",
     "text": [
      "Computing grid indices lookup for section 130...\n"
     ]
    },
    {
     "name": "stdout",
     "output_type": "stream",
     "text": [
      "DC_L 69\n",
      "VCP_L 0\n",
      "DC_L 373\n",
      "Sp5C_L 0\n",
      "Sp5O_L 102\n",
      "PBG_L 31\n",
      "PBG_L 40\n"
     ]
    },
    {
     "name": "stderr",
     "output_type": "stream",
     "text": [
      "Computing grid indices lookup for section 135...\n"
     ]
    },
    {
     "name": "stdout",
     "output_type": "stream",
     "text": [
      "VCA_L 138\n",
      "VCA_L 476\n",
      "VCP_L 101\n",
      "SNR_L 165\n",
      "VLL_L 75\n"
     ]
    },
    {
     "name": "stderr",
     "output_type": "stream",
     "text": [
      "Computing grid indices lookup for section 140...\n"
     ]
    },
    {
     "name": "stdout",
     "output_type": "stream",
     "text": [
      "VCP_L 429\n",
      "Sp5I_L 235\n"
     ]
    },
    {
     "name": "stderr",
     "output_type": "stream",
     "text": [
      "Computing grid indices lookup for section 92...\n",
      "Computing grid indices lookup for section 101...\n"
     ]
    },
    {
     "name": "stdout",
     "output_type": "stream",
     "text": [
      "DC_L 363\n",
      "VCA_L 0\n"
     ]
    },
    {
     "name": "stderr",
     "output_type": "stream",
     "text": [
      "Computing grid indices lookup for section 96...\n",
      "Computing grid indices lookup for section 145...\n"
     ]
    },
    {
     "name": "stdout",
     "output_type": "stream",
     "text": [
      "Sp5C_L 329\n"
     ]
    },
    {
     "name": "stderr",
     "output_type": "stream",
     "text": [
      "Computing grid indices lookup for section 93...\n"
     ]
    },
    {
     "name": "stdout",
     "output_type": "stream",
     "text": [
      "VCA_L 0\n",
      "Sp5O_L 343\n",
      "Sp5I_L 0\n",
      "DC_L 165\n",
      "PBG_L 11\n"
     ]
    },
    {
     "name": "stderr",
     "output_type": "stream",
     "text": [
      "Computing grid indices lookup for section 150...\n"
     ]
    },
    {
     "name": "stdout",
     "output_type": "stream",
     "text": [
      "Sp5C_L 0\n",
      "SNR_L 359\n",
      "Sp5O_L 0\n"
     ]
    },
    {
     "name": "stderr",
     "output_type": "stream",
     "text": [
      "Computing grid indices lookup for section 116...\n"
     ]
    },
    {
     "name": "stdout",
     "output_type": "stream",
     "text": [
      "Sp5I_L 0\n"
     ]
    },
    {
     "name": "stderr",
     "output_type": "stream",
     "text": [
      "Computing grid indices lookup for section 155...\n"
     ]
    },
    {
     "name": "stdout",
     "output_type": "stream",
     "text": [
      "VCP_L 286\n",
      "Sp5I_L 0\n",
      "VCA_L 788\n",
      "DC_L 0\n",
      "DC_L 0\n",
      "VCP_L 0\n",
      "VCA_L 515\n",
      "VCP_L 0\n",
      "VLL_L 179\n",
      "Sp5C_L 622\n",
      "DC_L 112\n",
      "DC_L 74\n",
      "VLL_L 210\n",
      "7N_L 0\n"
     ]
    },
    {
     "name": "stderr",
     "output_type": "stream",
     "text": [
      "Computing grid indices lookup for section 160...\n",
      "Computing grid indices lookup for section 111...\n",
      "Computing grid indices lookup for section 117...\n",
      "Computing grid indices lookup for section 98...\n"
     ]
    },
    {
     "name": "stdout",
     "output_type": "stream",
     "text": [
      "VCA_L 0\n",
      "Sp5C_L 955\n"
     ]
    },
    {
     "name": "stderr",
     "output_type": "stream",
     "text": [
      "Computing grid indices lookup for section 166...\n"
     ]
    },
    {
     "name": "stdout",
     "output_type": "stream",
     "text": [
      "VLL_L 172\n"
     ]
    },
    {
     "name": "stderr",
     "output_type": "stream",
     "text": [
      "Computing grid indices lookup for section 102...\n"
     ]
    },
    {
     "name": "stdout",
     "output_type": "stream",
     "text": [
      "Sp5I_L 30\n"
     ]
    },
    {
     "name": "stderr",
     "output_type": "stream",
     "text": [
      "Computing grid indices lookup for section 121...\n"
     ]
    },
    {
     "name": "stdout",
     "output_type": "stream",
     "text": [
      "DC_L 0\n"
     ]
    },
    {
     "name": "stderr",
     "output_type": "stream",
     "text": [
      "Computing grid indices lookup for section 171...\n"
     ]
    },
    {
     "name": "stdout",
     "output_type": "stream",
     "text": [
      "Sp5C_L 0\n",
      "SNR_L 579\n",
      "PBG_L 11\n",
      "VLL_L 176\n",
      "Sp5O_L 0\n"
     ]
    },
    {
     "name": "stderr",
     "output_type": "stream",
     "text": [
      "Computing grid indices lookup for section 118...\n"
     ]
    },
    {
     "name": "stdout",
     "output_type": "stream",
     "text": [
      "Sp5O_L 0\n",
      "DC_L 436\n",
      "Pn_L 105\n",
      "VCA_L 629\n"
     ]
    },
    {
     "name": "stderr",
     "output_type": "stream",
     "text": [
      "Computing grid indices lookup for section 106...\n"
     ]
    },
    {
     "name": "stdout",
     "output_type": "stream",
     "text": [
      "Sp5C_L 1152\n",
      "SNR_L 766\n",
      "SNR_L 723\n",
      "Sp5I_L 58\n",
      "DC_L 0\n",
      "Sp5I_L 276\n",
      "VCA_L 812\n"
     ]
    },
    {
     "name": "stderr",
     "output_type": "stream",
     "text": [
      "Computing grid indices lookup for section 126...\n"
     ]
    },
    {
     "name": "stdout",
     "output_type": "stream",
     "text": [
      "Sp5C_L 941\n",
      "SNC_L 14\n",
      "7N_L 309\n"
     ]
    },
    {
     "name": "stderr",
     "output_type": "stream",
     "text": [
      "Computing grid indices lookup for section 99...\n"
     ]
    },
    {
     "name": "stdout",
     "output_type": "stream",
     "text": [
      "5N_L 287\n",
      "VLL_L 246\n",
      "VCP_L 401\n"
     ]
    },
    {
     "name": "stderr",
     "output_type": "stream",
     "text": [
      "Computing grid indices lookup for section 131...\n"
     ]
    },
    {
     "name": "stdout",
     "output_type": "stream",
     "text": [
      "PBG_L 33\n"
     ]
    },
    {
     "name": "stderr",
     "output_type": "stream",
     "text": [
      "Computing grid indices lookup for section 119...\n"
     ]
    },
    {
     "name": "stdout",
     "output_type": "stream",
     "text": [
      "Sp5C_L 890\n",
      "SNR_L 789\n",
      "DC_L 148\n",
      "DC_L 182\n",
      "VLL_L 209\n",
      "Sp5O_L 0\n",
      "Sp5O_L 988\n",
      "Sp5I_L 0\n",
      "IC 189\n",
      "SNC_L 33\n",
      "LRt_L 187\n",
      "VCA_L 653\n",
      "Sp5C_L 126\n",
      "VLL_L 56\n",
      "5N_L 92\n",
      "DC_L 16\n",
      "7N_L 299\n",
      "VCP_L 137\n",
      "SNR_L 230\n",
      "PBG_L 33\n",
      "Sp5O_L 0\n",
      "Sp5I_L 0\n",
      "VCA_L 677\n",
      "SNC_L 33\n",
      "7N_L 397\n",
      "DC_L 214\n"
     ]
    },
    {
     "name": "stderr",
     "output_type": "stream",
     "text": [
      "Computing grid indices lookup for section 112...\n"
     ]
    },
    {
     "name": "stdout",
     "output_type": "stream",
     "text": [
      "VCP_L 7\n",
      "IC 0\n",
      "7N_L 406\n",
      "Sp5I_L 589\n",
      "DC_L 105\n",
      "VLL_L 134\n",
      "DC_L 402\n",
      "SNR_L 460\n"
     ]
    },
    {
     "name": "stderr",
     "output_type": "stream",
     "text": [
      "Computing grid indices lookup for section 122...\n"
     ]
    },
    {
     "name": "stdout",
     "output_type": "stream",
     "text": [
      "SC 470\n",
      "SNC_L 0\n",
      "LRt_L 116\n",
      "DC_L 47\n",
      "PBG_L 16\n",
      "VCA_L 132\n",
      "SNR_L 729\n",
      "LRt_L 165\n",
      "IC 1620\n"
     ]
    },
    {
     "name": "stderr",
     "output_type": "stream",
     "text": [
      "Computing grid indices lookup for section 176...\n",
      "Computing grid indices lookup for section 103...\n"
     ]
    },
    {
     "name": "stdout",
     "output_type": "stream",
     "text": [
      "VCP_L 340\n",
      "SC 99\n",
      "SC 775\n",
      "SNR_L 431\n",
      "Sp5O_L 186\n",
      "7n_L 67\n"
     ]
    },
    {
     "name": "stderr",
     "output_type": "stream",
     "text": [
      "Computing grid indices lookup for section 182...\n"
     ]
    },
    {
     "name": "stdout",
     "output_type": "stream",
     "text": [
      "SNR_L 688\n",
      "5N_L 400\n",
      "DC_L 421\n",
      "Pn_L 249\n"
     ]
    },
    {
     "name": "stderr",
     "output_type": "stream",
     "text": [
      "Computing grid indices lookup for section 127...\n"
     ]
    },
    {
     "name": "stdout",
     "output_type": "stream",
     "text": [
      "SNR_L 579\n",
      "SNC_L 27\n",
      "IC 1457\n",
      "PBG_L 36\n",
      "Sp5I_L 327\n",
      "DC_L 0\n",
      "Pn_L 354\n",
      "5N_L 17\n",
      "VCA_L 815\n",
      "5N_L 336\n",
      "VCP_L 318\n",
      "7N_L 299\n",
      "7n_L 97\n",
      "Sp5O_L 897\n",
      "SC 0\n",
      "SNC_L 24\n",
      "SC 1212\n",
      "SNC_L 23\n"
     ]
    },
    {
     "name": "stderr",
     "output_type": "stream",
     "text": [
      "Computing grid indices lookup for section 107...\n"
     ]
    },
    {
     "name": "stdout",
     "output_type": "stream",
     "text": [
      "7N_L 293\n",
      "SNR_L 265\n",
      "LRt_L 0\n",
      "DC_L 286\n",
      "LRt_L 208\n"
     ]
    },
    {
     "name": "stderr",
     "output_type": "stream",
     "text": [
      "Computing grid indices lookup for section 123...\n"
     ]
    },
    {
     "name": "stdout",
     "output_type": "stream",
     "text": [
      "Sp5I_L 515\n",
      "VCP_L 195\n",
      "SNR_L 258\n",
      "IC 1700\n",
      "PBG_L 25\n"
     ]
    },
    {
     "name": "stderr",
     "output_type": "stream",
     "text": [
      "Computing grid indices lookup for section 141...\n"
     ]
    },
    {
     "name": "stdout",
     "output_type": "stream",
     "text": [
      "RMC_L 11\n",
      "Sp5O_L 540\n",
      "DC_L 62\n",
      "SNC_L 0\n",
      "SNR_L 13\n",
      "Sp5O_L 0\n"
     ]
    },
    {
     "name": "stderr",
     "output_type": "stream",
     "text": [
      "Computing grid indices lookup for section 113...\n"
     ]
    },
    {
     "name": "stdout",
     "output_type": "stream",
     "text": [
      "SNR_L 350\n",
      "VCA_L 596\n",
      "VCA_L 0\n",
      "IC 1549\n",
      "DC_L 0\n",
      "7n_L 98\n",
      "IC 1719\n",
      "SNC_L 32\n",
      "7n_L 97\n",
      "7n_L 110\n",
      "SC 0\n",
      "Amb_L 0\n",
      "Sp5I_L 412\n",
      "Sp5C_L 662\n",
      "Sp5I_L 542\n",
      "VLL_L 0\n",
      "DC_L 0\n",
      "VCP_L 361\n"
     ]
    },
    {
     "name": "stderr",
     "output_type": "stream",
     "text": [
      "Computing grid indices lookup for section 146...\n",
      "Computing grid indices lookup for section 136...\n",
      "Computing grid indices lookup for section 104...\n"
     ]
    },
    {
     "name": "stdout",
     "output_type": "stream",
     "text": [
      "DC_L 422\n",
      "VCP_L 0\n",
      "IC 1050\n",
      "DC_L 130\n",
      "7n_L 67\n",
      "SC 1619\n",
      "IC 1204\n",
      "Sp5C_L 373\n"
     ]
    },
    {
     "name": "stderr",
     "output_type": "stream",
     "text": [
      "Computing grid indices lookup for section 114...\n"
     ]
    },
    {
     "name": "stdout",
     "output_type": "stream",
     "text": [
      "PBG_L 6\n",
      "VCA_L 0\n"
     ]
    },
    {
     "name": "stderr",
     "output_type": "stream",
     "text": [
      "Computing grid indices lookup for section 108...\n"
     ]
    },
    {
     "name": "stdout",
     "output_type": "stream",
     "text": [
      "SNR_L 743\n",
      "DC_L 0\n",
      "VCA_L 0\n",
      "7n_L 77\n",
      "LC_L 279\n"
     ]
    },
    {
     "name": "stderr",
     "output_type": "stream",
     "text": [
      "Computing grid indices lookup for section 172...\n"
     ]
    },
    {
     "name": "stdout",
     "output_type": "stream",
     "text": [
      "Sp5C_L 1005\n",
      "VCA_L 773\n",
      "SNC_L 17\n",
      "SC 2262\n",
      "Amb_L 0\n",
      "VLL_L 177\n",
      "VCP_L 160\n",
      "VLL_L 175\n"
     ]
    },
    {
     "name": "stderr",
     "output_type": "stream",
     "text": [
      "Computing grid indices lookup for section 124...\n"
     ]
    },
    {
     "name": "stdout",
     "output_type": "stream",
     "text": [
      "DC_L 439\n"
     ]
    },
    {
     "name": "stderr",
     "output_type": "stream",
     "text": [
      "Computing grid indices lookup for section 151...\n"
     ]
    },
    {
     "name": "stdout",
     "output_type": "stream",
     "text": [
      "DC_L 329\n"
     ]
    },
    {
     "name": "stderr",
     "output_type": "stream",
     "text": [
      "Computing grid indices lookup for section 128...\n"
     ]
    },
    {
     "name": "stdout",
     "output_type": "stream",
     "text": [
      "VCP_L 0\n",
      "Sp5C_L 0\n"
     ]
    },
    {
     "name": "stderr",
     "output_type": "stream",
     "text": [
      "Computing grid indices lookup for section 132...\n"
     ]
    },
    {
     "name": "stdout",
     "output_type": "stream",
     "text": [
      "PBG_L 33\n",
      "PBG_L 39\n",
      "IC 515\n"
     ]
    },
    {
     "name": "stderr",
     "output_type": "stream",
     "text": [
      "Computing grid indices lookup for section 187...\n"
     ]
    },
    {
     "name": "stdout",
     "output_type": "stream",
     "text": [
      "DC_L 0\n",
      "VLL_L 0\n",
      "SNR_L 604\n",
      "Sp5C_L 311\n",
      "VLL_L 224\n",
      "Sp5C_L 165\n",
      "SNR_L 109\n",
      "Pn_L 0\n",
      "VCP_L 378\n",
      "PBG_L 30\n",
      "SC 2498\n",
      "SNR_L 794\n",
      "SC 2616\n",
      "7N_L 183\n",
      "SNR_L 315\n",
      "SC 502\n",
      "Pn_L 371\n"
     ]
    },
    {
     "name": "stderr",
     "output_type": "stream",
     "text": [
      "Computing grid indices lookup for section 192...\n"
     ]
    },
    {
     "name": "stdout",
     "output_type": "stream",
     "text": [
      "7N_L 298\n",
      "Sp5O_L 289\n",
      "Sp5I_L 0\n",
      "VLL_L 152\n",
      "5N_L 148\n",
      "7N_L 168\n",
      "Sp5O_L 681\n"
     ]
    },
    {
     "name": "stderr",
     "output_type": "stream",
     "text": [
      "Computing grid indices lookup for section 109...\n"
     ]
    },
    {
     "name": "stdout",
     "output_type": "stream",
     "text": [
      "DC_L 122\n",
      "SNC_L 31\n",
      "LRt_L 183\n",
      "Sp5O_L 634\n",
      "SNR_L 768\n",
      "Pn_L 395\n",
      "SNR_L 470\n",
      "RtTg 139\n",
      "VCA_L 323\n",
      "Sp5I_L 581\n",
      "5N_L 326\n",
      "SNR_L 449\n",
      "SNC_L 0\n",
      "RtTg 254\n",
      "LRt_L 171\n",
      "Sp5I_L 536\n",
      "DC_L 42\n",
      "SC 0\n",
      "LRt_L 14\n",
      "SNC_L 32\n",
      "IC 1518\n",
      "RMC_L 82\n"
     ]
    },
    {
     "name": "stderr",
     "output_type": "stream",
     "text": [
      "Computing grid indices lookup for section 161...\n"
     ]
    },
    {
     "name": "stdout",
     "output_type": "stream",
     "text": [
      "DC_L 89\n",
      "7n_L 1\n",
      "Sp5O_L 990\n",
      "DC_L 445\n",
      "VCP_L 0\n",
      "RMC_L 130\n"
     ]
    },
    {
     "name": "stderr",
     "output_type": "stream",
     "text": [
      "Computing grid indices lookup for section 197...\n",
      "Computing grid indices lookup for section 142...\n"
     ]
    },
    {
     "name": "stdout",
     "output_type": "stream",
     "text": [
      "Sp5I_L 524\n",
      "IC 1429\n",
      "7n_L 0\n"
     ]
    },
    {
     "name": "stderr",
     "output_type": "stream",
     "text": [
      "Computing grid indices lookup for section 156...\n"
     ]
    },
    {
     "name": "stdout",
     "output_type": "stream",
     "text": [
      "SC 864\n",
      "IC 964\n",
      "IC 1648\n",
      "DC_L 66\n",
      "Pn_L 417\n",
      "Sp5C_L 1\n",
      "IC 848\n",
      "7n_L 73\n"
     ]
    },
    {
     "name": "stderr",
     "output_type": "stream",
     "text": [
      "Computing grid indices lookup for section 202...\n",
      "Computing grid indices lookup for section 167...\n"
     ]
    },
    {
     "name": "stdout",
     "output_type": "stream",
     "text": [
      "Sp5C_L 924\n",
      "7n_L 79\n",
      "LC_L 0\n",
      "SC 0\n",
      "Sp5C_L 745\n",
      "VLL_L 232\n",
      "Tz_L 115\n",
      "RtTg 346\n"
     ]
    },
    {
     "name": "stderr",
     "output_type": "stream",
     "text": [
      "Computing grid indices lookup for section 183...\n"
     ]
    },
    {
     "name": "stdout",
     "output_type": "stream",
     "text": [
      "VLL_L 193\n"
     ]
    },
    {
     "name": "stderr",
     "output_type": "stream",
     "text": [
      "Computing grid indices lookup for section 129...\n",
      "Computing grid indices lookup for section 177...\n"
     ]
    },
    {
     "name": "stdout",
     "output_type": "stream",
     "text": [
      "7n_L 72\n",
      "VLL_L 168\n",
      "PBG_L 39\n",
      "RMC_L 193\n",
      "Pn_L 462\n",
      "7N_L 337\n",
      "SC 2335\n",
      "VLL_L 46\n",
      "7N_L 405\n",
      "Pn_L 358\n",
      "Pn_L 268\n",
      "LRt_L 21\n"
     ]
    },
    {
     "name": "stderr",
     "output_type": "stream",
     "text": [
      "Computing grid indices lookup for section 137...\n"
     ]
    },
    {
     "name": "stdout",
     "output_type": "stream",
     "text": [
      "Sp5C_L 856\n",
      "RtTg 420\n",
      "LRt_L 129\n",
      "7N_L 279\n",
      "SNR_L 756\n",
      "SC 2561\n",
      "IC 693\n",
      "Pn_L 20\n",
      "VLL_L 0\n",
      "7N_L 313\n",
      "SNR_L 338\n",
      "LRt_L 0\n",
      "SNC_L 24\n",
      "IC 0\n",
      "RMC_L 226\n",
      "DC_L 0\n",
      "Sp5C_L 463\n",
      "SNR_L 723\n",
      "PBG_L 0\n",
      "6N_L 17\n",
      "LRt_L 210\n",
      "SC 2574\n",
      "Tz_L 177\n",
      "7N_L 379\n",
      "SNR_L 672\n"
     ]
    },
    {
     "name": "stderr",
     "output_type": "stream",
     "text": [
      "Computing grid indices lookup for section 133...\n"
     ]
    },
    {
     "name": "stdout",
     "output_type": "stream",
     "text": [
      "7n_L 30\n",
      "SNR_L 340\n",
      "Sp5O_L 681\n",
      "VLL_L 178\n",
      "SNR_L 240\n",
      "5N_L 419\n",
      "SNC_L 29\n",
      "LRt_L 175\n",
      "SC 568\n",
      "5N_L 299\n",
      "IC 512\n",
      "RMC_L 24\n",
      "Sp5C_L 210\n",
      "SNC_L 4\n",
      "SNC_L 27\n",
      "PBG_L 24\n",
      "SNC_L 22\n"
     ]
    },
    {
     "name": "stderr",
     "output_type": "stream",
     "text": [
      "Computing grid indices lookup for section 147...\n"
     ]
    },
    {
     "name": "stdout",
     "output_type": "stream",
     "text": [
      "Sp5I_L 534\n",
      "Tz_L 143\n",
      "10N_L 0\n"
     ]
    },
    {
     "name": "stderr",
     "output_type": "stream",
     "text": [
      "Computing grid indices lookup for section 152...\n"
     ]
    },
    {
     "name": "stdout",
     "output_type": "stream",
     "text": [
      "SNR_L 642\n",
      "SNR_L 554\n",
      "VLL_L 171\n",
      "DC_L 82\n",
      "SNC_L 25\n",
      "IC 1172\n",
      "SC 2547\n",
      "IC 1045\n",
      "Sp5O_L 236\n",
      "7n_L 75\n",
      "LC_L 0\n",
      "7n_L 66\n",
      "IC 1720\n",
      "Sp5C_L 1054\n",
      "SNR_L 507\n",
      "VLL_L 0\n",
      "IC 1704\n",
      "7N_L 8\n"
     ]
    },
    {
     "name": "stderr",
     "output_type": "stream",
     "text": [
      "Computing grid indices lookup for section 173...\n"
     ]
    },
    {
     "name": "stdout",
     "output_type": "stream",
     "text": [
      "7n_L 105\n",
      "Sp5C_L 1120\n",
      "Sp5C_L 0\n",
      "7n_L 108\n",
      "LC_L 304\n",
      "Sp5I_L 454\n",
      "SNC_L 0\n",
      "IC 1515\n",
      "SC 2267\n"
     ]
    },
    {
     "name": "stderr",
     "output_type": "stream",
     "text": [
      "Computing grid indices lookup for section 188...\n"
     ]
    },
    {
     "name": "stdout",
     "output_type": "stream",
     "text": [
      "VLL_L 232\n",
      "Pn_L 165\n",
      "DC_L 28\n"
     ]
    },
    {
     "name": "stderr",
     "output_type": "stream",
     "text": [
      "Computing grid indices lookup for section 143...\n"
     ]
    },
    {
     "name": "stdout",
     "output_type": "stream",
     "text": [
      "7n_L 103\n",
      "SC 0\n",
      "Sp5O_L 1024\n",
      "SNR_L 790\n"
     ]
    },
    {
     "name": "stderr",
     "output_type": "stream",
     "text": [
      "Computing grid indices lookup for section 193...\n"
     ]
    },
    {
     "name": "stdout",
     "output_type": "stream",
     "text": [
      "7N_L 206\n",
      "7N_L 283\n",
      "SC 236\n",
      "SC 2519\n",
      "Pn_L 376\n",
      "5N_L 185\n",
      "SC 1701\n",
      "SC 1969\n"
     ]
    },
    {
     "name": "stderr",
     "output_type": "stream",
     "text": [
      "Computing grid indices lookup for section 207...\n"
     ]
    },
    {
     "name": "stdout",
     "output_type": "stream",
     "text": [
      "Sp5I_L 519\n",
      "Sp5C_L 785\n",
      "Pn_L 0\n",
      "7N_L 146\n",
      "LRt_L 194\n",
      "Amb_L 20\n",
      "SNC_L 34\n",
      "SC 2607\n",
      "Pn_L 398\n",
      "DC_L 64\n",
      "SC 0\n",
      "SNR_L 765\n",
      "VLL_L 171\n",
      "RtTg 161\n",
      "RtTg 456\n",
      "RtTg 268\n",
      "SNR_L 409\n",
      "LRt_L 3\n",
      "RMC_L 0\n",
      "5N_L 341\n",
      "LRt_L 158\n",
      "SNC_L 40\n",
      "12N 147\n",
      "SNC_L 30\n",
      "IC 1529\n",
      "7n_L 0\n"
     ]
    },
    {
     "name": "stderr",
     "output_type": "stream",
     "text": [
      "Computing grid indices lookup for section 198...\n"
     ]
    },
    {
     "name": "stdout",
     "output_type": "stream",
     "text": [
      "RMC_L 87\n",
      "SC 0\n",
      "RMC_L 54\n",
      "SNR_L 763\n",
      "3N_L 13\n",
      "SNC_L 24\n",
      "6N_L 18\n",
      "IC 821\n",
      "Pn_L 427\n",
      "IC 1356\n",
      "Tz_L 151\n",
      "IC 951\n"
     ]
    },
    {
     "name": "stderr",
     "output_type": "stream",
     "text": [
      "Computing grid indices lookup for section 203...\n"
     ]
    },
    {
     "name": "stdout",
     "output_type": "stream",
     "text": [
      "IC 1653\n",
      "IC 398\n",
      "7n_L 83\n",
      "7n_L 68\n"
     ]
    },
    {
     "name": "stderr",
     "output_type": "stream",
     "text": [
      "Computing grid indices lookup for section 138...\n"
     ]
    },
    {
     "name": "stdout",
     "output_type": "stream",
     "text": [
      "7n_L 71\n",
      "RtTg 361\n",
      "7n_L 87\n",
      "SC 0\n",
      "IC 1191\n",
      "Tz_L 93\n",
      "DC_L 0\n"
     ]
    },
    {
     "name": "stderr",
     "output_type": "stream",
     "text": [
      "Computing grid indices lookup for section 168...\n"
     ]
    },
    {
     "name": "stdout",
     "output_type": "stream",
     "text": [
      "SC 0\n",
      "4N_L 21\n",
      "RMC_L 204\n"
     ]
    },
    {
     "name": "stderr",
     "output_type": "stream",
     "text": [
      "Computing grid indices lookup for section 134...\n"
     ]
    },
    {
     "name": "stdout",
     "output_type": "stream",
     "text": [
      "Pn_L 471\n"
     ]
    },
    {
     "name": "stderr",
     "output_type": "stream",
     "text": [
      "Computing grid indices lookup for section 178...\n"
     ]
    },
    {
     "name": "stdout",
     "output_type": "stream",
     "text": [
      "Sp5C_L 510\n",
      "10N_L 54\n",
      "Sp5C_L 284\n",
      "Pn_L 285\n",
      "RtTg 425\n",
      "VLL_L 178\n",
      "IC 635\n"
     ]
    },
    {
     "name": "stderr",
     "output_type": "stream",
     "text": [
      "Computing grid indices lookup for section 157...\n"
     ]
    },
    {
     "name": "stdout",
     "output_type": "stream",
     "text": [
      "PBG_L 13\n",
      "Sp5C_L 0\n",
      "SC 2403\n",
      "SC 2555\n",
      "SC 2574\n"
     ]
    },
    {
     "name": "stderr",
     "output_type": "stream",
     "text": [
      "Computing grid indices lookup for section 184...\n"
     ]
    },
    {
     "name": "stdout",
     "output_type": "stream",
     "text": [
      "RMC_L 212\n"
     ]
    },
    {
     "name": "stderr",
     "output_type": "stream",
     "text": [
      "Computing grid indices lookup for section 148...\n"
     ]
    },
    {
     "name": "stdout",
     "output_type": "stream",
     "text": [
      "Sp5C_L 838\n",
      "Sp5C_L 0\n",
      "7N_L 312\n",
      "Tz_L 176\n",
      "6N_L 20\n",
      "VLL_L 180\n",
      "VLL_L 223\n",
      "7n_L 16\n",
      "Pn_L 36\n",
      "SNR_L 667\n",
      "Sp5O_L 0\n",
      "VLL_L 191\n",
      "Pn_L 363\n",
      "LRt_L 204\n",
      "7N_L 352\n",
      "SC 2077\n",
      "7N_L 61\n",
      "IC 498\n",
      "7N_L 375\n",
      "LRt_L 0\n",
      "LRt_L 42\n",
      "SNR_L 563\n",
      "7N_L 254\n",
      "Sp5I_L 362\n"
     ]
    },
    {
     "name": "stderr",
     "output_type": "stream",
     "text": [
      "Computing grid indices lookup for section 144...\n"
     ]
    },
    {
     "name": "stdout",
     "output_type": "stream",
     "text": [
      "SNC_L 0\n",
      "RtTg 32\n"
     ]
    },
    {
     "name": "stderr",
     "output_type": "stream",
     "text": [
      "Computing grid indices lookup for section 162...\n"
     ]
    },
    {
     "name": "stdout",
     "output_type": "stream",
     "text": [
      "Tz_L 143\n",
      "SNR_L 329\n",
      "DC_L 23\n",
      "SNC_L 30\n",
      "10N_L 22\n",
      "SNR_L 536\n",
      "SC 2485\n",
      "SNR_L 800\n",
      "5N_L 0\n",
      "LRt_L 202\n",
      "SNR_L 713\n",
      "SNR_L 0\n",
      "RMC_L 0\n",
      "SC 277\n",
      "SNC_L 28\n",
      "Sp5C_L 840\n",
      "Sp5O_L 1123\n",
      "SNC_L 37\n",
      "VLL_L 177\n",
      "5N_L 418\n"
     ]
    },
    {
     "name": "stderr",
     "output_type": "stream",
     "text": [
      "Computing grid indices lookup for section 153...\n"
     ]
    },
    {
     "name": "stdout",
     "output_type": "stream",
     "text": [
      "SNC_L 0\n",
      "IC 1151\n",
      "7n_L 0\n",
      "Sp5C_L 888\n",
      "IC 1017\n",
      "LC_L 42\n",
      "Sp5I_L 563\n"
     ]
    },
    {
     "name": "stderr",
     "output_type": "stream",
     "text": [
      "Computing grid indices lookup for section 194...\n",
      "Computing grid indices lookup for section 189...\n"
     ]
    },
    {
     "name": "stdout",
     "output_type": "stream",
     "text": [
      "SC 2214\n",
      "VLL_L 160\n",
      "IC 1510\n",
      "7n_L 69\n",
      "DC_L 51\n",
      "IC 1568\n",
      "SNR_L 772\n"
     ]
    },
    {
     "name": "stderr",
     "output_type": "stream",
     "text": [
      "Computing grid indices lookup for section 174...\n"
     ]
    },
    {
     "name": "stdout",
     "output_type": "stream",
     "text": [
      "7n_L 105\n",
      "5N_L 15\n",
      "SNC_L 0\n",
      "Sp5C_L 0\n",
      "Pn_L 0\n",
      "7n_L 48\n",
      "SC 0\n",
      "SC 56\n",
      "IC 1721\n",
      "Sp5C_L 1132\n",
      "LC_L 322\n",
      "7N_L 406\n",
      "Pn_L 401\n",
      "Pn_L 380\n",
      "7n_L 104\n",
      "7N_L 279\n",
      "7N_L 121\n",
      "LRt_L 140\n",
      "VLL_L 246\n"
     ]
    },
    {
     "name": "stderr",
     "output_type": "stream",
     "text": [
      "Computing grid indices lookup for section 139...\n",
      "Computing grid indices lookup for section 208...\n"
     ]
    },
    {
     "name": "stdout",
     "output_type": "stream",
     "text": [
      "RtTg 278\n",
      "SC 2531\n",
      "IC 1233\n",
      "RtTg 176\n",
      "SC 0\n",
      "LRt_L 0\n",
      "7N_L 265\n",
      "LRt_L 201\n",
      "SC 2326\n",
      "RMC_L 143\n"
     ]
    },
    {
     "name": "stderr",
     "output_type": "stream",
     "text": [
      "Computing grid indices lookup for section 199...\n"
     ]
    },
    {
     "name": "stdout",
     "output_type": "stream",
     "text": [
      "RMC_L 94\n",
      "SNR_L 651\n",
      "SC 1740\n",
      "Sp5C_L 592\n",
      "Pn_L 505\n",
      "RtTg 0\n",
      "SC 2583\n",
      "SNR_L 396\n",
      "5N_L 239\n",
      "VLL_L 176\n",
      "SNR_L 748\n",
      "IC 797\n",
      "Pn_L 427\n",
      "SNC_L 38\n",
      "12N 177\n",
      "SNC_L 23\n",
      "RMC_L 0\n",
      "IC 939\n",
      "Tz_L 0\n",
      "3N_L 50\n"
     ]
    },
    {
     "name": "stderr",
     "output_type": "stream",
     "text": [
      "Computing grid indices lookup for section 149...\n"
     ]
    },
    {
     "name": "stdout",
     "output_type": "stream",
     "text": [
      "Tz_L 166\n",
      "5N_L 375\n",
      "6N_L 13\n",
      "7n_L 69\n",
      "RtTg 373\n",
      "7n_L 59\n"
     ]
    },
    {
     "name": "stderr",
     "output_type": "stream",
     "text": [
      "Computing grid indices lookup for section 212...\n",
      "Computing grid indices lookup for section 204...\n"
     ]
    },
    {
     "name": "stdout",
     "output_type": "stream",
     "text": [
      "SNC_L 32\n",
      "SNR_L 703\n",
      "Sp5O_L 0\n",
      "RMC_L 213\n",
      "Sp5I_L 0\n",
      "IC 1315\n",
      "IC 388\n",
      "SNC_L 12\n",
      "IC 0\n"
     ]
    },
    {
     "name": "stderr",
     "output_type": "stream",
     "text": [
      "Computing grid indices lookup for section 217...\n"
     ]
    },
    {
     "name": "stdout",
     "output_type": "stream",
     "text": [
      "IC 1672\n",
      "7n_L 86\n",
      "Sp5C_L 1108\n",
      "DC_L 19\n",
      "Tz_L 82\n",
      "SC 0\n",
      "Pn_L 469\n",
      "Pn_L 489\n",
      "4N_L 23\n",
      "IC 615\n",
      "7n_L 102\n",
      "10N_L 0\n",
      "Pn_L 127\n",
      "SC 2542\n",
      "VLL_L 197\n",
      "IC 1664\n",
      "RtTg 436\n",
      "Tz_L 172\n",
      "SC 2571\n",
      "7N_L 85\n"
     ]
    },
    {
     "name": "stderr",
     "output_type": "stream",
     "text": [
      "Computing grid indices lookup for section 179...\n"
     ]
    },
    {
     "name": "stdout",
     "output_type": "stream",
     "text": [
      "RtTg 464\n",
      "7n_L 12\n",
      "7n_L 95\n",
      "12N 16\n"
     ]
    },
    {
     "name": "stderr",
     "output_type": "stream",
     "text": [
      "Computing grid indices lookup for section 169...\n"
     ]
    },
    {
     "name": "stdout",
     "output_type": "stream",
     "text": [
      "RtTg 480\n",
      "RMC_L 176\n",
      "SC 2444\n",
      "Pn_L 314\n",
      "12N 304\n",
      "6N_L 23\n",
      "SC 2058\n",
      "SC 2075\n"
     ]
    },
    {
     "name": "stderr",
     "output_type": "stream",
     "text": [
      "Computing grid indices lookup for section 185...\n"
     ]
    },
    {
     "name": "stdout",
     "output_type": "stream",
     "text": [
      "SNR_L 778\n",
      "Amb_L 46\n",
      "3N_L 143\n",
      "12N 303\n",
      "7N_L 319\n",
      "3N_L 0\n",
      "SC 1522\n"
     ]
    },
    {
     "name": "stderr",
     "output_type": "stream",
     "text": [
      "Computing grid indices lookup for section 158...\n"
     ]
    },
    {
     "name": "stdout",
     "output_type": "stream",
     "text": [
      "IC 458\n",
      "Sp5C_L 0\n",
      "AP 47\n",
      "5N_L 266\n",
      "SC 2437\n"
     ]
    },
    {
     "name": "stderr",
     "output_type": "stream",
     "text": [
      "Computing grid indices lookup for section 222...\n"
     ]
    },
    {
     "name": "stdout",
     "output_type": "stream",
     "text": [
      "Pn_L 365\n",
      "IC 377\n",
      "Sp5C_L 798\n",
      "Tz_L 0\n",
      "LRt_L 214\n",
      "10N_L 0\n",
      "SNC_L 30\n",
      "VLL_L 218\n",
      "Tz_L 122\n",
      "Pn_L 51\n",
      "IC 377\n",
      "7N_L 242\n",
      "10N_L 34\n",
      "SNR_L 306\n",
      "SNC_L 0\n",
      "RtTg 44\n",
      "7N_L 369\n",
      "10N_L 31\n",
      "RtTg 403\n",
      "7N_L 360\n",
      "LRt_L 56\n"
     ]
    },
    {
     "name": "stderr",
     "output_type": "stream",
     "text": [
      "Computing grid indices lookup for section 190...\n"
     ]
    },
    {
     "name": "stdout",
     "output_type": "stream",
     "text": [
      "IC 1596\n",
      "LRt_L 200\n"
     ]
    },
    {
     "name": "stderr",
     "output_type": "stream",
     "text": [
      "Computing grid indices lookup for section 195...\n"
     ]
    },
    {
     "name": "stdout",
     "output_type": "stream",
     "text": [
      "LRt_L 177\n",
      "12N 219\n",
      "SC 2083\n",
      "7n_L 61\n",
      "IC 1102\n",
      "SNR_L 157\n",
      "Pn_L 383\n",
      "AP 110\n",
      "3N_R 0\n",
      "SNR_L 710\n",
      "SC 2146\n",
      "7n_L 70\n",
      "7N_L 56\n",
      "RMC_L 62\n",
      "SC 2110\n",
      "SNR_L 517\n",
      "Pn_L 409\n"
     ]
    },
    {
     "name": "stderr",
     "output_type": "stream",
     "text": [
      "Computing grid indices lookup for section 175...\n"
     ]
    },
    {
     "name": "stdout",
     "output_type": "stream",
     "text": [
      "SNC_L 29\n",
      "LC_L 127\n",
      "5N_L 403\n",
      "SC 0\n",
      "IC 367\n",
      "SC 1151\n",
      "RtTg 214\n",
      "RtTg 326\n"
     ]
    },
    {
     "name": "stderr",
     "output_type": "stream",
     "text": [
      "Computing grid indices lookup for section 209...\n"
     ]
    },
    {
     "name": "stdout",
     "output_type": "stream",
     "text": [
      "SNC_L 24\n",
      "Pn_L 206\n",
      "LRt_L 138\n",
      "IC 996\n",
      "RMC_L 166\n"
     ]
    },
    {
     "name": "stderr",
     "output_type": "stream",
     "text": [
      "Computing grid indices lookup for section 200...\n"
     ]
    },
    {
     "name": "stdout",
     "output_type": "stream",
     "text": [
      "7n_L 69\n",
      "7N_L 283\n",
      "RMC_L 106\n",
      "Pn_L 523\n",
      "IC 1511\n",
      "LC_L 290\n",
      "Pn_L 433\n",
      "7n_L 101\n",
      "LRt_L 208\n",
      "IC 748\n",
      "Tz_L 0\n",
      "IC 1725\n",
      "SC 2041\n"
     ]
    },
    {
     "name": "stderr",
     "output_type": "stream",
     "text": [
      "Computing grid indices lookup for section 154...\n"
     ]
    },
    {
     "name": "stdout",
     "output_type": "stream",
     "text": [
      "7n_L 45\n",
      "RtTg 481\n",
      "7n_L 103\n",
      "IC 905\n",
      "RtTg 389\n",
      "SNR_L 381\n"
     ]
    },
    {
     "name": "stderr",
     "output_type": "stream",
     "text": [
      "Computing grid indices lookup for section 164...\n"
     ]
    },
    {
     "name": "stdout",
     "output_type": "stream",
     "text": [
      "Tz_L 29\n"
     ]
    },
    {
     "name": "stderr",
     "output_type": "stream",
     "text": [
      "Computing grid indices lookup for section 213...\n"
     ]
    },
    {
     "name": "stdout",
     "output_type": "stream",
     "text": [
      "Pn_L 0\n",
      "RtTg 0\n",
      "SNC_L 37\n",
      "7n_L 69\n",
      "12N 243\n",
      "3N_L 0\n",
      "RMC_L 216\n",
      "6N_L 6\n",
      "SC 2330\n",
      "SC 2578\n"
     ]
    },
    {
     "name": "stderr",
     "output_type": "stream",
     "text": [
      "Computing grid indices lookup for section 218...\n"
     ]
    },
    {
     "name": "stdout",
     "output_type": "stream",
     "text": [
      "12N 306\n",
      "Sp5C_L 1145\n"
     ]
    },
    {
     "name": "stderr",
     "output_type": "stream",
     "text": [
      "Computing grid indices lookup for section 181...\n"
     ]
    },
    {
     "name": "stdout",
     "output_type": "stream",
     "text": [
      "SC 1785\n",
      "Pn_L 3\n",
      "RtTg 0\n"
     ]
    },
    {
     "name": "stderr",
     "output_type": "stream",
     "text": [
      "Computing grid indices lookup for section 205...\n"
     ]
    },
    {
     "name": "stdout",
     "output_type": "stream",
     "text": [
      "IC 384\n",
      "IC 588\n",
      "SC 2557\n",
      "3N_L 147\n",
      "IC 1279\n",
      "Sp5C_L 905\n",
      "VLL_L 240\n",
      "Tz_L 51\n",
      "Pn_L 347\n",
      "7n_L 83\n",
      "4N_L 19\n",
      "12N 292\n",
      "Tz_L 167\n",
      "VLL_L 119\n",
      "7n_L 6\n",
      "Pn_L 496\n",
      "IC 375\n",
      "SC 2552\n",
      "SC 0\n",
      "Tz_L 0\n",
      "3N_L 42\n",
      "7N_L 279\n",
      "7N_L 300\n",
      "10N_L 52\n",
      "AP 74\n",
      "10N_L 47\n"
     ]
    },
    {
     "name": "stderr",
     "output_type": "stream",
     "text": [
      "Computing grid indices lookup for section 227...\n",
      "Computing grid indices lookup for section 223...\n"
     ]
    },
    {
     "name": "stdout",
     "output_type": "stream",
     "text": [
      "RtTg 444\n",
      "7N_L 420\n",
      "LRt_L 211\n",
      "12N 65\n",
      "IC 371\n",
      "SNR_L 734\n",
      "LRt_L 152\n",
      "SC 2463\n",
      "10N_L 11\n",
      "RMC_L 154\n",
      "RtTg 426\n",
      "SNR_L 269\n",
      "RtTg 410\n",
      "RMC_L 3\n",
      "6N_L 24\n",
      "SNC_L 17\n",
      "5N_L 385\n",
      "SC 2094\n",
      "SC 2055\n",
      "SNR_L 629\n",
      "SNC_L 27\n",
      "12N 258\n",
      "12N 210\n",
      "IC 445\n"
     ]
    },
    {
     "name": "stderr",
     "output_type": "stream",
     "text": [
      "Computing grid indices lookup for section 196...\n"
     ]
    },
    {
     "name": "stdout",
     "output_type": "stream",
     "text": [
      "5N_L 152\n",
      "AP 99\n",
      "AP 120\n"
     ]
    },
    {
     "name": "stderr",
     "output_type": "stream",
     "text": [
      "Computing grid indices lookup for section 201...\n"
     ]
    },
    {
     "name": "stdout",
     "output_type": "stream",
     "text": [
      "Tz_L 118\n",
      "SNC_L 23\n",
      "IC 1058\n",
      "SC 2094\n",
      "3N_R 62\n",
      "3N_R 148\n",
      "7n_L 68\n",
      "10N_L 37\n",
      "Pn_L 412\n"
     ]
    },
    {
     "name": "stderr",
     "output_type": "stream",
     "text": [
      "Computing grid indices lookup for section 170...\n",
      "Computing grid indices lookup for section 186...\n",
      "Computing grid indices lookup for section 159...\n"
     ]
    },
    {
     "name": "stdout",
     "output_type": "stream",
     "text": [
      "IC 1678\n",
      "Pn_L 455\n",
      "LC_L 250\n",
      "IC 380\n",
      "IC 414\n",
      "SC 0\n",
      "SC 0\n",
      "7n_L 102\n",
      "RtTg 341\n",
      "SC 0\n"
     ]
    },
    {
     "name": "stderr",
     "output_type": "stream",
     "text": [
      "Computing grid indices lookup for section 191...\n"
     ]
    },
    {
     "name": "stdout",
     "output_type": "stream",
     "text": [
      "IC 1624\n",
      "Pn_L 370\n",
      "RtTg 407\n",
      "RMC_L 185\n",
      "7n_L 104\n",
      "Sp5C_L 659\n",
      "7N_L 226\n",
      "RMC_L 220\n",
      "SC 2122\n",
      "6N_L 9\n",
      "Pn_L 382\n",
      "Sp5C_L 948\n"
     ]
    },
    {
     "name": "stderr",
     "output_type": "stream",
     "text": [
      "Computing grid indices lookup for section 214...\n"
     ]
    },
    {
     "name": "stdout",
     "output_type": "stream",
     "text": [
      "Pn_L 83\n",
      "7N_L 16\n",
      "RtTg 72\n",
      "IC 724\n",
      "LRt_L 0\n",
      "SC 2619\n",
      "VLL_L 219\n"
     ]
    },
    {
     "name": "stderr",
     "output_type": "stream",
     "text": [
      "Computing grid indices lookup for section 232...\n"
     ]
    },
    {
     "name": "stdout",
     "output_type": "stream",
     "text": [
      "IC 538\n",
      "7N_L 323\n",
      "SNR_L 102\n",
      "RtTg 228\n",
      "Pn_L 369\n",
      "RtTg 0\n",
      "Tz_L 181\n",
      "SC 2148\n"
     ]
    },
    {
     "name": "stderr",
     "output_type": "stream",
     "text": [
      "Computing grid indices lookup for section 219...\n"
     ]
    },
    {
     "name": "stdout",
     "output_type": "stream",
     "text": [
      "7N_L 386\n",
      "7n_L 38\n",
      "RMC_L 72\n",
      "LRt_L 105\n"
     ]
    },
    {
     "name": "stderr",
     "output_type": "stream",
     "text": [
      "Computing grid indices lookup for section 210...\n",
      "Computing grid indices lookup for section 224...\n"
     ]
    },
    {
     "name": "stdout",
     "output_type": "stream",
     "text": [
      "Tz_L 150\n",
      "LRt_L 185\n",
      "RtTg 0\n"
     ]
    },
    {
     "name": "stderr",
     "output_type": "stream",
     "text": [
      "Computing grid indices lookup for section 228...\n"
     ]
    },
    {
     "name": "stdout",
     "output_type": "stream",
     "text": [
      "Amb_L 52\n",
      "RtTg 0\n",
      "LRt_L 92\n",
      "10N_L 8\n",
      "SC 0\n",
      "RtTg 464\n",
      "12N 314\n",
      "RMC_L 114\n",
      "RtTg 432\n",
      "3N_L 144\n",
      "12N 215\n",
      "Pn_L 521\n",
      "SNR_L 478\n",
      "12N 270\n",
      "IC 990\n",
      "12N 328\n",
      "SNC_L 31\n",
      "SNR_L 694\n",
      "AP 121\n",
      "AP 82\n",
      "7n_L 70\n",
      "IC 894\n",
      "IC 380\n",
      "12N 280\n",
      "3N_R 78\n",
      "SC 2546\n",
      "3N_R 91\n",
      "3N_L 12\n",
      "RtTg 496\n",
      "Tz_L 57\n",
      "3N_R 150\n",
      "5N_L 360\n",
      "LC_L 226\n",
      "10N_L 47\n",
      "SC 0\n",
      "AP 78\n",
      "7n_L 72\n",
      "SNC_L 21\n",
      "IC 539\n",
      "IC 388\n",
      "12N 260\n",
      "IC 1489\n"
     ]
    },
    {
     "name": "stderr",
     "output_type": "stream",
     "text": [
      "Computing grid indices lookup for section 237...\n"
     ]
    },
    {
     "name": "stdout",
     "output_type": "stream",
     "text": [
      "IC 427\n",
      "RtTg 0\n",
      "IC 364\n",
      "10N_L 0\n",
      "3N_L 116\n",
      "6N_L 0\n",
      "7n_L 100\n"
     ]
    },
    {
     "name": "stderr",
     "output_type": "stream",
     "text": [
      "Computing grid indices lookup for section 206...\n"
     ]
    },
    {
     "name": "stdout",
     "output_type": "stream",
     "text": [
      "10N_R 47\n",
      "4N_R 18\n",
      "IC 1720\n",
      "Pn_R 469\n",
      "IC 376\n",
      "SC 2558\n",
      "SC 2556\n"
     ]
    },
    {
     "name": "stderr",
     "output_type": "stream",
     "text": [
      "Computing grid indices lookup for section 242...\n"
     ]
    },
    {
     "name": "stdout",
     "output_type": "stream",
     "text": [
      "Pn_L 495\n",
      "7n_L 108\n",
      "SC 0\n",
      "Tz_L 42\n",
      "SC 2025\n",
      "4N_L 12\n"
     ]
    },
    {
     "name": "stderr",
     "output_type": "stream",
     "text": [
      "Computing grid indices lookup for section 247...\n"
     ]
    },
    {
     "name": "stdout",
     "output_type": "stream",
     "text": [
      "RtTg 0\n",
      "SC 2052\n",
      "12N 289\n",
      "SC 2320\n",
      "6N_R 11\n",
      "SC 2075\n",
      "RtTg 452\n",
      "RtTg 442\n"
     ]
    },
    {
     "name": "stderr",
     "output_type": "stream",
     "text": [
      "Computing grid indices lookup for section 215...\n"
     ]
    },
    {
     "name": "stdout",
     "output_type": "stream",
     "text": [
      "10N_L 54\n",
      "Pn_R 0\n",
      "12N 0\n",
      "6N_R 25\n",
      "SC 2134\n",
      "RMC_R 131\n",
      "12N 122\n",
      "Pn_R 470\n",
      "Pn_L 270\n",
      "RMC_R 213\n",
      "RMC_L 95\n",
      "6N_L 25\n"
     ]
    },
    {
     "name": "stderr",
     "output_type": "stream",
     "text": [
      "Computing grid indices lookup for section 252...\n"
     ]
    },
    {
     "name": "stdout",
     "output_type": "stream",
     "text": [
      "RMC_R 183\n"
     ]
    },
    {
     "name": "stderr",
     "output_type": "stream",
     "text": [
      "Computing grid indices lookup for section 165...\n"
     ]
    },
    {
     "name": "stdout",
     "output_type": "stream",
     "text": [
      "IC 661\n",
      "RtTg 482\n",
      "SC 2053\n",
      "RtTg 365\n",
      "IC 408\n",
      "IC 813\n",
      "10N_R 55\n",
      "Tz_R 0\n",
      "SC 0\n",
      "IC 975\n",
      "10N_R 0\n",
      "10N_R 39\n",
      "Tz_L 107\n",
      "12N 314\n"
     ]
    },
    {
     "name": "stderr",
     "output_type": "stream",
     "text": [
      "Computing grid indices lookup for section 225...\n"
     ]
    },
    {
     "name": "stdout",
     "output_type": "stream",
     "text": [
      "7n_R 19\n",
      "4N_L 11\n",
      "Tz_R 64\n",
      "Pn_R 419\n",
      "3N_L 129\n",
      "AP 18\n",
      "Sp5C_L 892\n",
      "10N_L 45\n"
     ]
    },
    {
     "name": "stderr",
     "output_type": "stream",
     "text": [
      "Computing grid indices lookup for section 229...\n"
     ]
    },
    {
     "name": "stdout",
     "output_type": "stream",
     "text": [
      "Tz_R 126\n",
      "RMC_R 117\n",
      "VLL_L 82\n"
     ]
    },
    {
     "name": "stderr",
     "output_type": "stream",
     "text": [
      "Computing grid indices lookup for section 220...\n"
     ]
    },
    {
     "name": "stdout",
     "output_type": "stream",
     "text": [
      "RtTg 428\n",
      "IC 373\n"
     ]
    },
    {
     "name": "stderr",
     "output_type": "stream",
     "text": [
      "Computing grid indices lookup for section 257...\n"
     ]
    },
    {
     "name": "stdout",
     "output_type": "stream",
     "text": [
      "RtTg 432\n",
      "7N_L 408\n"
     ]
    },
    {
     "name": "stderr",
     "output_type": "stream",
     "text": [
      "Computing grid indices lookup for section 233...\n"
     ]
    },
    {
     "name": "stdout",
     "output_type": "stream",
     "text": [
      "10N_L 42\n",
      "SC 0\n"
     ]
    },
    {
     "name": "stderr",
     "output_type": "stream",
     "text": [
      "Computing grid indices lookup for section 262...\n"
     ]
    },
    {
     "name": "stdout",
     "output_type": "stream",
     "text": [
      "12N 220\n",
      "IC 1064\n",
      "RtTg 416\n",
      "SC 2445\n"
     ]
    },
    {
     "name": "stderr",
     "output_type": "stream",
     "text": [
      "Computing grid indices lookup for section 267...\n"
     ]
    },
    {
     "name": "stdout",
     "output_type": "stream",
     "text": [
      "RtTg 258\n",
      "LRt_L 164\n",
      "SC 2091\n",
      "SC 2368\n",
      "AP 117\n",
      "7n_R 63\n",
      "LRt_R 128\n",
      "12N 295\n"
     ]
    },
    {
     "name": "stderr",
     "output_type": "stream",
     "text": [
      "Computing grid indices lookup for section 272...\n"
     ]
    },
    {
     "name": "stdout",
     "output_type": "stream",
     "text": [
      "RtTg 458\n",
      "3N_R 112\n"
     ]
    },
    {
     "name": "stderr",
     "output_type": "stream",
     "text": [
      "Computing grid indices lookup for section 238...\n"
     ]
    },
    {
     "name": "stdout",
     "output_type": "stream",
     "text": [
      "AP 48\n",
      "7N_R 112\n",
      "Pn_R 0\n",
      "3N_R 0\n",
      "12N 251\n",
      "Tz_R 173\n",
      "LRt_R 200\n",
      "Pn_R 391\n",
      "RMC_R 0\n",
      "SNR_L 600\n",
      "RtTg 148\n",
      "AP 99\n",
      "LRt_R 216\n",
      "IC 399\n",
      "RtTg 446\n",
      "5N_L 65\n",
      "12N 331\n",
      "7N_R 269\n",
      "IC 472\n",
      "10N_R 0\n",
      "RtTg 17\n",
      "3N_R 53\n",
      "SNC_L 25\n",
      "Pn_R 376\n",
      "7N_R 335\n",
      "SNR_R 0\n",
      "Pn_R 0\n",
      "IC 363\n",
      "SNR_R 0\n",
      "RMC_R 1\n"
     ]
    },
    {
     "name": "stderr",
     "output_type": "stream",
     "text": [
      "Computing grid indices lookup for section 211...\n"
     ]
    },
    {
     "name": "stdout",
     "output_type": "stream",
     "text": [
      "Pn_R 483\n",
      "IC 1177\n",
      "SNC_R 45\n",
      "Pn_R 374\n",
      "SC 2393\n",
      "IC 547\n",
      "10N_R 0\n",
      "4N_R 20\n",
      "LC_R 244\n",
      "12N 268\n"
     ]
    },
    {
     "name": "stderr",
     "output_type": "stream",
     "text": [
      "Computing grid indices lookup for section 216...\n"
     ]
    },
    {
     "name": "stdout",
     "output_type": "stream",
     "text": [
      "SC 2027\n",
      "Pn_L 489\n",
      "6N_R 15\n",
      "IC 1577\n",
      "SNR_R 302\n",
      "7n_R 68\n",
      "IC 1366\n",
      "SC 2088\n",
      "SNC_R 31\n"
     ]
    },
    {
     "name": "stderr",
     "output_type": "stream",
     "text": [
      "Computing grid indices lookup for section 243...\n"
     ]
    },
    {
     "name": "stdout",
     "output_type": "stream",
     "text": [
      "7n_L 102\n",
      "RMC_R 160\n",
      "SC 2059\n"
     ]
    },
    {
     "name": "stderr",
     "output_type": "stream",
     "text": [
      "Computing grid indices lookup for section 248...\n"
     ]
    },
    {
     "name": "stdout",
     "output_type": "stream",
     "text": [
      "Pn_L 227\n",
      "IC 1563\n",
      "Tz_R 161\n",
      "LC_R 201\n",
      "RtTg 493\n",
      "7n_R 76\n",
      "7n_R 61\n",
      "RtTg 442\n",
      "RtTg 404\n",
      "IC 695\n",
      "SC 2157\n",
      "RtTg 472\n",
      "12N 274\n"
     ]
    },
    {
     "name": "stderr",
     "output_type": "stream",
     "text": [
      "Computing grid indices lookup for section 277...\n"
     ]
    },
    {
     "name": "stdout",
     "output_type": "stream",
     "text": [
      "IC 1470\n",
      "10N_R 53\n",
      "Tz_R 0\n",
      "Pn_R 494\n",
      "3N_L 121\n",
      "Pn_R 453\n",
      "SC 2232\n",
      "7n_R 61\n",
      "6N_R 21\n",
      "12N 305\n",
      "Amb_L 53\n",
      "LRt_R 221\n",
      "SC 2388\n",
      "SC 2011\n",
      "RMC_R 149\n",
      "3N_L 113\n",
      "SC 2229\n",
      "RMC_R 206\n",
      "IC 377\n",
      "AP 29\n",
      "Tz_L 33\n",
      "7N_R 292\n",
      "Sp5C_R 0\n",
      "Pn_R 0\n",
      "4N_L 5\n"
     ]
    },
    {
     "name": "stderr",
     "output_type": "stream",
     "text": [
      "Computing grid indices lookup for section 230...\n",
      "Computing grid indices lookup for section 221...\n",
      "Computing grid indices lookup for section 253...\n",
      "Computing grid indices lookup for section 226...\n"
     ]
    },
    {
     "name": "stdout",
     "output_type": "stream",
     "text": [
      "IC 371\n",
      "IC 1010\n",
      "10N_L 0\n",
      "10N_L 54\n",
      "SC 2377\n",
      "SC 2144\n",
      "IC 861\n",
      "7n_R 32\n",
      "SNR_R 562\n",
      "SNC_R 0\n",
      "RtTg 351\n",
      "RtTg 461\n",
      "10N_R 32\n",
      "RtTg 408\n",
      "RtTg 432\n",
      "Tz_R 143\n",
      "Tz_R 81\n"
     ]
    },
    {
     "name": "stderr",
     "output_type": "stream",
     "text": [
      "Computing grid indices lookup for section 234...\n"
     ]
    },
    {
     "name": "stdout",
     "output_type": "stream",
     "text": [
      "Pn_R 418\n",
      "12N 233\n",
      "12N 303\n",
      "12N 242\n",
      "AP 28\n",
      "RMC_R 107\n",
      "AP 107\n",
      "SC 2108\n",
      "IC 1662\n",
      "SC 2056\n",
      "AP 106\n",
      "3N_R 126\n",
      "IC 0\n",
      "RtTg 470\n",
      "10N_R 0\n",
      "7n_R 82\n",
      "4N_R 0\n"
     ]
    },
    {
     "name": "stderr",
     "output_type": "stream",
     "text": [
      "Computing grid indices lookup for section 273...\n"
     ]
    },
    {
     "name": "stdout",
     "output_type": "stream",
     "text": [
      "3N_R 141\n",
      "SC 2357\n",
      "IC 368\n",
      "SC 2431\n",
      "Pn_R 212\n"
     ]
    },
    {
     "name": "stderr",
     "output_type": "stream",
     "text": [
      "Computing grid indices lookup for section 258...\n"
     ]
    },
    {
     "name": "stdout",
     "output_type": "stream",
     "text": [
      "IC 1083\n",
      "LRt_R 3\n",
      "LRt_R 214\n",
      "IC 408\n",
      "SC 0\n",
      "7n_R 64\n"
     ]
    },
    {
     "name": "stderr",
     "output_type": "stream",
     "text": [
      "Computing grid indices lookup for section 263...\n"
     ]
    },
    {
     "name": "stdout",
     "output_type": "stream",
     "text": [
      "LRt_R 0\n",
      "12N 331\n",
      "RtTg 243\n",
      "7N_R 337\n",
      "SC 1770\n",
      "7N_R 141\n",
      "Tz_R 175\n",
      "SC 2092\n",
      "SC 2049\n"
     ]
    },
    {
     "name": "stderr",
     "output_type": "stream",
     "text": [
      "Computing grid indices lookup for section 239...\n"
     ]
    },
    {
     "name": "stdout",
     "output_type": "stream",
     "text": [
      "RtTg 106\n",
      "Pn_R 269\n",
      "IC 590\n",
      "Pn_R 389\n"
     ]
    },
    {
     "name": "stderr",
     "output_type": "stream",
     "text": [
      "Computing grid indices lookup for section 268...\n"
     ]
    },
    {
     "name": "stdout",
     "output_type": "stream",
     "text": [
      "RMC_R 70\n"
     ]
    },
    {
     "name": "stderr",
     "output_type": "stream",
     "text": [
      "Computing grid indices lookup for section 282...\n"
     ]
    },
    {
     "name": "stdout",
     "output_type": "stream",
     "text": [
      "10N_R 52\n",
      "RtTg 440\n",
      "Pn_R 379\n",
      "Pn_R 0\n",
      "4N_R 17\n",
      "SNR_R 429\n",
      "LRt_R 210\n",
      "SNC_R 40\n",
      "LRt_R 187\n",
      "SNR_R 231\n",
      "SC 2407\n"
     ]
    },
    {
     "name": "stderr",
     "output_type": "stream",
     "text": [
      "Computing grid indices lookup for section 287...\n"
     ]
    },
    {
     "name": "stdout",
     "output_type": "stream",
     "text": [
      "12N 243\n",
      "SNC_R 5\n",
      "6N_R 19\n",
      "IC 1203\n"
     ]
    },
    {
     "name": "stderr",
     "output_type": "stream",
     "text": [
      "Computing grid indices lookup for section 292...\n"
     ]
    },
    {
     "name": "stdout",
     "output_type": "stream",
     "text": [
      "7N_R 301\n"
     ]
    },
    {
     "name": "stderr",
     "output_type": "stream",
     "text": [
      "Computing grid indices lookup for section 249...\n"
     ]
    },
    {
     "name": "stdout",
     "output_type": "stream",
     "text": [
      "7N_R 373\n",
      "VLL_R 0\n",
      "LRt_R 158\n",
      "Sp5C_R 0\n"
     ]
    },
    {
     "name": "stderr",
     "output_type": "stream",
     "text": [
      "Computing grid indices lookup for section 297...\n"
     ]
    },
    {
     "name": "stdout",
     "output_type": "stream",
     "text": [
      "RMC_R 187\n",
      "Pn_R 0\n",
      "LRt_R 86\n",
      "LC_R 289\n"
     ]
    },
    {
     "name": "stderr",
     "output_type": "stream",
     "text": [
      "Computing grid indices lookup for section 244...\n"
     ]
    },
    {
     "name": "stdout",
     "output_type": "stream",
     "text": [
      "Pn_R 365\n",
      "IC 1603\n",
      "RtTg 388\n",
      "SC 2225\n",
      "7n_R 70\n",
      "7N_R 418\n",
      "IC 1380\n",
      "VLL_R 0\n",
      "7N_R 258\n"
     ]
    },
    {
     "name": "stderr",
     "output_type": "stream",
     "text": [
      "Computing grid indices lookup for section 302...\n",
      "Computing grid indices lookup for section 231...\n"
     ]
    },
    {
     "name": "stdout",
     "output_type": "stream",
     "text": [
      "7n_R 80\n",
      "7N_R 382\n",
      "7N_R 0\n"
     ]
    },
    {
     "name": "stderr",
     "output_type": "stream",
     "text": [
      "Computing grid indices lookup for section 278...\n"
     ]
    },
    {
     "name": "stdout",
     "output_type": "stream",
     "text": [
      "IC 712\n",
      "LRt_R 0\n",
      "SNR_R 685\n",
      "RtTg 432\n",
      "SNR_R 321\n",
      "Tz_R 134\n",
      "LC_R 158\n",
      "Pn_R 448\n",
      "VLL_R 239\n",
      "SNC_R 27\n",
      "SNC_R 30\n",
      "VLL_R 213\n",
      "10N_R 54\n",
      "7n_R 62\n",
      "VLL_R 310\n",
      "7N_R 294\n",
      "Sp5C_R 0\n",
      "RtTg 491\n",
      "Tz_R 25\n",
      "RMC_R 137\n",
      "5N_R 157\n",
      "Pn_R 491\n",
      "6N_R 16\n",
      "Sp5C_R 891\n",
      "SC 1960\n",
      "12N 317\n",
      "AP 0\n",
      "RMC_R 197\n",
      "Sp5C_R 1067\n",
      "Sp5C_R 1194\n",
      "IC 1502\n",
      "SNR_R 801\n",
      "SC 2375\n",
      "IC 1025\n",
      "Sp5C_R 550\n",
      "3N_R 110\n",
      "Pn_R 0\n",
      "7n_R 40\n",
      "7n_R 63\n",
      "SC 2203\n"
     ]
    },
    {
     "name": "stderr",
     "output_type": "stream",
     "text": [
      "Computing grid indices lookup for section 254...\n"
     ]
    },
    {
     "name": "stdout",
     "output_type": "stream",
     "text": [
      "IC 1652\n",
      "SNC_R 33\n",
      "7n_R 0\n",
      "SNR_R 753\n",
      "SC 2398\n",
      "IC 888\n",
      "SNC_R 26\n",
      "Tz_R 146\n",
      "SNR_R 807\n",
      "IC 503\n",
      "10N_R 0\n",
      "RtTg 310\n",
      "5N_R 390\n",
      "SNR_R 581\n",
      "SNR_R 856\n",
      "SNC_R 0\n",
      "4N_R 6\n",
      "10N_R 22\n",
      "DC_R 17\n",
      "SNC_R 0\n"
     ]
    },
    {
     "name": "stderr",
     "output_type": "stream",
     "text": [
      "Computing grid indices lookup for section 235...\n"
     ]
    },
    {
     "name": "stdout",
     "output_type": "stream",
     "text": [
      "SNC_R 37\n",
      "5N_R 394\n",
      "7n_R 35\n",
      "SC 0\n",
      "Tz_R 93\n",
      "SC 1347\n",
      "Pn_R 413\n",
      "SC 2064\n",
      "5N_R 274\n",
      "RMC_R 95\n",
      "RtTg 475\n",
      "7n_R 84\n",
      "Pn_R 0\n",
      "IC 1225\n",
      "SC 2349\n",
      "IC 1679\n",
      "7n_R 87\n",
      "SC 2110\n",
      "IC 1405\n",
      "7n_R 82\n",
      "Amb_R 47\n",
      "SC 393\n",
      "12N 325\n",
      "RMC_R 13\n",
      "7n_R 94\n",
      "SC 0\n",
      "IC 1105\n",
      "SC 2421\n"
     ]
    },
    {
     "name": "stderr",
     "output_type": "stream",
     "text": [
      "Computing grid indices lookup for section 274...\n"
     ]
    },
    {
     "name": "stdout",
     "output_type": "stream",
     "text": [
      "SC 740\n",
      "7n_R 66\n"
     ]
    },
    {
     "name": "stderr",
     "output_type": "stream",
     "text": [
      "Computing grid indices lookup for section 303...\n"
     ]
    },
    {
     "name": "stdout",
     "output_type": "stream",
     "text": [
      "LRt_R 218\n",
      "IC 606\n",
      "Tz_R 180\n"
     ]
    },
    {
     "name": "stderr",
     "output_type": "stream",
     "text": [
      "Computing grid indices lookup for section 259...\n"
     ]
    },
    {
     "name": "stdout",
     "output_type": "stream",
     "text": [
      "LRt_R 0\n",
      "SC 1727\n",
      "7N_R 42\n"
     ]
    },
    {
     "name": "stderr",
     "output_type": "stream",
     "text": [
      "Computing grid indices lookup for section 264...\n"
     ]
    },
    {
     "name": "stdout",
     "output_type": "stream",
     "text": [
      "LRt_R 0\n"
     ]
    },
    {
     "name": "stderr",
     "output_type": "stream",
     "text": [
      "Computing grid indices lookup for section 240...\n"
     ]
    },
    {
     "name": "stdout",
     "output_type": "stream",
     "text": [
      "7N_R 326\n",
      "Sp5C_R 0\n",
      "10N_R 55\n",
      "4N_R 3\n",
      "RtTg 220\n",
      "VLL_R 212\n",
      "7N_R 172\n",
      "Pn_R 243\n",
      "RtTg 87\n",
      "RtTg 442\n",
      "Pn_R 385\n",
      "SC 2413\n",
      "RMC_R 49\n"
     ]
    },
    {
     "name": "stderr",
     "output_type": "stream",
     "text": [
      "Computing grid indices lookup for section 283...\n",
      "Computing grid indices lookup for section 250...\n",
      "Computing grid indices lookup for section 269...\n"
     ]
    },
    {
     "name": "stdout",
     "output_type": "stream",
     "text": [
      "Sp5C_R 1004\n",
      "SNR_R 452\n",
      "LRt_R 0\n",
      "Pn_R 373\n"
     ]
    },
    {
     "name": "stderr",
     "output_type": "stream",
     "text": [
      "Computing grid indices lookup for section 307...\n"
     ]
    },
    {
     "name": "stdout",
     "output_type": "stream",
     "text": [
      "Pn_R 513\n",
      "SNC_R 40\n",
      "SC 2259\n",
      "LRt_R 187\n",
      "RtTg 383\n",
      "7N_R 317\n",
      "SNR_R 251\n"
     ]
    },
    {
     "name": "stderr",
     "output_type": "stream",
     "text": [
      "Computing grid indices lookup for section 298...\n"
     ]
    },
    {
     "name": "stdout",
     "output_type": "stream",
     "text": [
      "12N 168\n",
      "VLL_R 228\n",
      "SNC_R 12\n",
      "SNR_R 782\n",
      "IC 1248\n",
      "6N_R 25\n",
      "PBG_R 25\n",
      "7N_R 383\n",
      "VLL_R 0\n",
      "DC_R 24\n",
      "7N_R 212\n",
      "Pn_R 358\n",
      "VLL_R 0\n"
     ]
    },
    {
     "name": "stderr",
     "output_type": "stream",
     "text": [
      "Computing grid indices lookup for section 245...\n"
     ]
    },
    {
     "name": "stdout",
     "output_type": "stream",
     "text": [
      "Pn_R 441\n",
      "SNC_R 16\n",
      "RMC_R 215\n",
      "IC 1616\n",
      "LC_R 296\n",
      "7n_R 26\n"
     ]
    },
    {
     "name": "stderr",
     "output_type": "stream",
     "text": [
      "Computing grid indices lookup for section 293...\n"
     ]
    },
    {
     "name": "stdout",
     "output_type": "stream",
     "text": [
      "RMC_R 133\n",
      "7n_R 67\n",
      "SC 14\n",
      "7n_R 83\n"
     ]
    },
    {
     "name": "stderr",
     "output_type": "stream",
     "text": [
      "Computing grid indices lookup for section 288...\n"
     ]
    },
    {
     "name": "stdout",
     "output_type": "stream",
     "text": [
      "Sp5C_R 656\n"
     ]
    },
    {
     "name": "stderr",
     "output_type": "stream",
     "text": [
      "Computing grid indices lookup for section 279...\n"
     ]
    },
    {
     "name": "stdout",
     "output_type": "stream",
     "text": [
      "SNR_R 337\n",
      "IC 1405\n",
      "LRt_R 53\n",
      "RtTg 430\n",
      "Tz_R 53\n",
      "SC 0\n",
      "SNC_R 31\n",
      "LRt_R 153\n",
      "Sp5C_R 1208\n",
      "IC 764\n",
      "LC_R 124\n",
      "LRt_R 198\n",
      "7N_R 356\n",
      "Sp5C_R 882\n",
      "7n_R 60\n",
      "IC 1039\n",
      "SNR_R 684\n",
      "Pn_R 6\n",
      "10N_R 48\n",
      "Pn_R 490\n",
      "7N_R 304\n",
      "7n_R 45\n",
      "7N_R 420\n",
      "VLL_R 0\n",
      "Sp5C_R 0\n",
      "DC_R 53\n",
      "SC 1933\n",
      "Tz_R 44\n",
      "VLL_R 295\n"
     ]
    },
    {
     "name": "stderr",
     "output_type": "stream",
     "text": [
      "Computing grid indices lookup for section 255...\n"
     ]
    },
    {
     "name": "stdout",
     "output_type": "stream",
     "text": [
      "RMC_R 190\n",
      "SNR_R 866\n",
      "DC_R 0\n",
      "IC 1515\n",
      "Tz_R 148\n"
     ]
    },
    {
     "name": "stderr",
     "output_type": "stream",
     "text": [
      "Computing grid indices lookup for section 236...\n"
     ]
    },
    {
     "name": "stdout",
     "output_type": "stream",
     "text": [
      "7n_R 64\n",
      "SNR_R 698\n",
      "RtTg 0\n",
      "SNC_R 36\n",
      "RtTg 298\n",
      "SNR_R 759\n",
      "SNC_R 27\n",
      "SC 2187\n",
      "5N_R 219\n",
      "SNC_R 26\n",
      "IC 945\n",
      "Sp5C_R 769\n",
      "10N_R 0\n",
      "7n_R 0\n",
      "Pn_R 379\n",
      "Sp5C_R 1178\n"
     ]
    },
    {
     "name": "stderr",
     "output_type": "stream",
     "text": [
      "Computing grid indices lookup for section 304...\n"
     ]
    },
    {
     "name": "stdout",
     "output_type": "stream",
     "text": [
      "5N_R 196\n",
      "7n_R 78\n",
      "7N_R 0\n",
      "Pn_R 406\n",
      "VLL_R 0\n",
      "PBG_R 3\n",
      "Pn_R 100\n",
      "SC 2417\n",
      "Tz_R 109\n",
      "RMC_R 92\n",
      "5N_R 417\n",
      "IC 0\n",
      "SC 2347\n",
      "SC 2048\n"
     ]
    },
    {
     "name": "stderr",
     "output_type": "stream",
     "text": [
      "Computing grid indices lookup for section 308...\n",
      "Computing grid indices lookup for section 260...\n"
     ]
    },
    {
     "name": "stdout",
     "output_type": "stream",
     "text": [
      "12N 318\n",
      "SC 312\n",
      "6N_R 0\n",
      "Amb_R 35\n",
      "LRt_R 81\n",
      "RMC_R 54\n",
      "SNR_R 825\n",
      "7n_R 95\n",
      "SC 0\n",
      "SNR_R 616\n",
      "7N_R 15\n",
      "Sp5C_R 877\n",
      "VLL_R 240\n",
      "IC 1615\n",
      "Amb_R 1\n",
      "SNC_R 34\n",
      "SNC_R 29\n",
      "PBG_R 31\n",
      "IC 1117\n",
      "5N_R 3\n",
      "7n_R 85\n",
      "SC 0\n",
      "RtTg 203\n",
      "7n_R 65\n",
      "IC 621\n",
      "SC 2400\n",
      "5N_R 363\n",
      "SNR_R 750\n",
      "Sp5C_R 610\n"
     ]
    },
    {
     "name": "stderr",
     "output_type": "stream",
     "text": [
      "Computing grid indices lookup for section 275...\n"
     ]
    },
    {
     "name": "stdout",
     "output_type": "stream",
     "text": [
      "Tz_R 177\n",
      "10N_R 54\n",
      "Pn_R 379\n",
      "Sp5O_R 26\n",
      "4N_R 0\n",
      "DC_R 29\n",
      "SNR_R 1\n",
      "SNC_R 0\n",
      "SC 0\n",
      "RMC_R 36\n",
      "IC 1699\n",
      "LRt_R 223\n",
      "IC 824\n",
      "7n_R 83\n",
      "7n_R 84\n",
      "7N_R 313\n",
      "SNR_R 651\n"
     ]
    },
    {
     "name": "stderr",
     "output_type": "stream",
     "text": [
      "Computing grid indices lookup for section 265...\n"
     ]
    },
    {
     "name": "stdout",
     "output_type": "stream",
     "text": [
      "Sp5C_R 4\n",
      "LRt_R 0\n",
      "IC 1281\n",
      "SC 2415\n",
      "DC_R 56\n"
     ]
    },
    {
     "name": "stderr",
     "output_type": "stream",
     "text": [
      "Computing grid indices lookup for section 251...\n",
      "Computing grid indices lookup for section 299...\n",
      "Computing grid indices lookup for section 270...\n"
     ]
    },
    {
     "name": "stdout",
     "output_type": "stream",
     "text": [
      "SC 2286\n",
      "Pn_R 222\n",
      "SNR_R 0\n",
      "7N_R 222\n",
      "SC 644\n",
      "LC_R 286\n"
     ]
    },
    {
     "name": "stderr",
     "output_type": "stream",
     "text": [
      "Computing grid indices lookup for section 289...\n"
     ]
    },
    {
     "name": "stdout",
     "output_type": "stream",
     "text": [
      "7N_R 176\n",
      "SC 1609\n",
      "SNC_R 35\n",
      "RtTg 38\n",
      "RtTg 373\n",
      "LRt_R 209\n"
     ]
    },
    {
     "name": "stderr",
     "output_type": "stream",
     "text": [
      "Computing grid indices lookup for section 241...\n"
     ]
    },
    {
     "name": "stdout",
     "output_type": "stream",
     "text": [
      "7n_R 64\n"
     ]
    },
    {
     "name": "stderr",
     "output_type": "stream",
     "text": [
      "Computing grid indices lookup for section 305...\n"
     ]
    },
    {
     "name": "stdout",
     "output_type": "stream",
     "text": [
      "Tz_R 28\n",
      "SC 0\n",
      "LRt_R 146\n",
      "VLL_R 224\n",
      "7N_R 325\n",
      "VLL_R 208\n",
      "Pn_R 377\n"
     ]
    },
    {
     "name": "stderr",
     "output_type": "stream",
     "text": [
      "Computing grid indices lookup for section 246...\n"
     ]
    },
    {
     "name": "stdout",
     "output_type": "stream",
     "text": [
      "RtTg 442\n",
      "Pn_R 427\n",
      "RMC_R 0\n",
      "PBG_R 8\n",
      "7N_R 415\n",
      "VLL_R 0\n",
      "IC 1628\n",
      "Pn_R 345\n",
      "SNR_R 281\n",
      "RtTg 420\n",
      "7n_R 83\n"
     ]
    },
    {
     "name": "stderr",
     "output_type": "stream",
     "text": [
      "Computing grid indices lookup for section 309...\n",
      "Computing grid indices lookup for section 284...\n"
     ]
    },
    {
     "name": "stdout",
     "output_type": "stream",
     "text": [
      "Pn_R 508\n",
      "SNC_R 23\n",
      "Sp5C_R 1199\n",
      "12N 0\n",
      "Sp5C_R 808\n",
      "6N_R 25\n",
      "SNR_R 352\n",
      "IC 1054\n",
      "VLL_R 243\n",
      "LRt_R 180\n",
      "SNC_R 33\n",
      "7n_R 61\n",
      "Pn_R 479\n",
      "RMC_R 217\n",
      "PBG_R 36\n",
      "Sp5C_R 923\n",
      "RMC_R 185\n",
      "SNR_R 856\n",
      "7N_R 396\n",
      "Tz_R 167\n"
     ]
    },
    {
     "name": "stderr",
     "output_type": "stream",
     "text": [
      "Computing grid indices lookup for section 312...\n"
     ]
    },
    {
     "name": "stdout",
     "output_type": "stream",
     "text": [
      "DC_R 0\n",
      "IC 1446\n",
      "SNR_R 741\n"
     ]
    },
    {
     "name": "stderr",
     "output_type": "stream",
     "text": [
      "Computing grid indices lookup for section 256...\n"
     ]
    },
    {
     "name": "stdout",
     "output_type": "stream",
     "text": [
      "SC 1893\n",
      "DC_R 34\n",
      "VLL_R 98\n",
      "SNC_R 34\n",
      "LC_R 45\n",
      "Sp5C_R 573\n",
      "SNC_R 0\n",
      "Sp5O_R 1\n",
      "IC 790\n",
      "IC 1530\n",
      "VLL_R 137\n",
      "7n_R 59\n",
      "SNR_R 761\n",
      "RtTg 276\n",
      "5N_R 174\n",
      "PBG_R 37\n",
      "7n_R 68\n",
      "IC 961\n",
      "SNC_R 31\n",
      "10N_R 39\n"
     ]
    },
    {
     "name": "stderr",
     "output_type": "stream",
     "text": [
      "Computing grid indices lookup for section 261...\n"
     ]
    },
    {
     "name": "stdout",
     "output_type": "stream",
     "text": [
      "7n_R 74\n",
      "10N_R 2\n",
      "7n_R 11\n",
      "Tz_R 52\n",
      "SNR_R 635\n",
      "Sp5C_R 326\n",
      "LRt_R 119\n",
      "SC 2379\n",
      "Pn_R 400\n",
      "5N_R 419\n"
     ]
    },
    {
     "name": "stderr",
     "output_type": "stream",
     "text": [
      "Computing grid indices lookup for section 294...\n"
     ]
    },
    {
     "name": "stdout",
     "output_type": "stream",
     "text": [
      "SC 262\n"
     ]
    },
    {
     "name": "stderr",
     "output_type": "stream",
     "text": [
      "Computing grid indices lookup for section 280...\n"
     ]
    },
    {
     "name": "stdout",
     "output_type": "stream",
     "text": [
      "DC_R 66\n",
      "LRt_R 0\n",
      "Sp5I_R 0\n",
      "7N_R 46\n",
      "Tz_R 116\n",
      "Sp5C_R 884\n",
      "RMC_R 82\n",
      "SC 2171\n",
      "SC 2038\n",
      "RtTg 187\n",
      "7N_R 343\n",
      "LRt_R 194\n"
     ]
    },
    {
     "name": "stderr",
     "output_type": "stream",
     "text": [
      "Computing grid indices lookup for section 306...\n"
     ]
    },
    {
     "name": "stdout",
     "output_type": "stream",
     "text": [
      "Sp5O_R 1050\n",
      "IC 1325\n",
      "SNR_R 720\n",
      "VLL_R 281\n",
      "7N_R 317\n",
      "Pn_R 379\n",
      "Amb_R 18\n",
      "SC 2429\n",
      "SNR_R 0\n",
      "IC 1136\n",
      "VLL_R 208\n",
      "SNC_R 24\n",
      "RMC_R 20\n",
      "PBG_R 15\n",
      "7n_R 94\n",
      "LC_R 60\n",
      "Sp5C_R 0\n",
      "SC 2383\n",
      "SNR_R 490\n"
     ]
    },
    {
     "name": "stderr",
     "output_type": "stream",
     "text": [
      "Computing grid indices lookup for section 276...\n"
     ]
    },
    {
     "name": "stdout",
     "output_type": "stream",
     "text": [
      "7n_R 66\n",
      "Tz_R 0\n",
      "5N_R 268\n",
      "DC_R 83\n"
     ]
    },
    {
     "name": "stderr",
     "output_type": "stream",
     "text": [
      "Computing grid indices lookup for section 310...\n"
     ]
    },
    {
     "name": "stdout",
     "output_type": "stream",
     "text": [
      "VLL_R 0\n",
      "LRt_R 228\n",
      "Sp5C_R 815\n",
      "Sp5C_R 1206\n",
      "Pn_R 0\n",
      "SNR_R 728\n",
      "SC 971\n",
      "PBG_R 39\n",
      "IC 1315\n",
      "DC_R 40\n",
      "SNC_R 0\n",
      "7N_R 296\n",
      "Sp5I_R 600\n",
      "IC 1581\n",
      "LC_R 265\n"
     ]
    },
    {
     "name": "stderr",
     "output_type": "stream",
     "text": [
      "Computing grid indices lookup for section 317...\n"
     ]
    },
    {
     "name": "stdout",
     "output_type": "stream",
     "text": [
      "PBG_R 0\n",
      "Sp5C_R 482\n",
      "Amb_R 52\n",
      "SNR_R 643\n",
      "7n_R 0\n",
      "SC 2396\n"
     ]
    },
    {
     "name": "stderr",
     "output_type": "stream",
     "text": [
      "Computing grid indices lookup for section 300...\n"
     ]
    },
    {
     "name": "stdout",
     "output_type": "stream",
     "text": [
      "SNR_R 836\n",
      "7n_R 67\n",
      "Sp5C_R 38\n",
      "Tz_R 11\n",
      "SNC_R 27\n",
      "SC 0\n",
      "Sp5C_R 194\n",
      "SNC_R 36\n"
     ]
    },
    {
     "name": "stderr",
     "output_type": "stream",
     "text": [
      "Computing grid indices lookup for section 266...\n"
     ]
    },
    {
     "name": "stdout",
     "output_type": "stream",
     "text": [
      "7N_R 149\n",
      "Sp5O_R 271\n",
      "5N_R 39\n"
     ]
    },
    {
     "name": "stderr",
     "output_type": "stream",
     "text": [
      "Computing grid indices lookup for section 271...\n"
     ]
    },
    {
     "name": "stdout",
     "output_type": "stream",
     "text": [
      "LRt_R 0\n",
      "Pn_R 186\n",
      "SNR_R 0\n",
      "5N_R 346\n",
      "VLL_R 217\n",
      "SC 1227\n",
      "SNC_R 35\n",
      "LRt_R 195\n",
      "Sp5O_R 805\n",
      "7N_R 336\n"
     ]
    },
    {
     "name": "stderr",
     "output_type": "stream",
     "text": [
      "Computing grid indices lookup for section 322...\n"
     ]
    },
    {
     "name": "stdout",
     "output_type": "stream",
     "text": [
      "SNR_R 587\n",
      "7N_R 254\n",
      "DC_R 65\n",
      "IC 1685\n"
     ]
    },
    {
     "name": "stderr",
     "output_type": "stream",
     "text": [
      "Computing grid indices lookup for section 327...\n"
     ]
    },
    {
     "name": "stdout",
     "output_type": "stream",
     "text": [
      "IC 516\n",
      "SNR_R 258\n",
      "RtTg 27\n",
      "Sp5O_R 0\n",
      "Pn_R 320\n",
      "7n_R 81\n",
      "7n_R 86\n",
      "Sp5O_R 384\n",
      "Sp5C_R 1182\n"
     ]
    },
    {
     "name": "stderr",
     "output_type": "stream",
     "text": [
      "Computing grid indices lookup for section 332...\n"
     ]
    },
    {
     "name": "stdout",
     "output_type": "stream",
     "text": [
      "SC 0\n",
      "SC 0\n",
      "DC_R 105\n",
      "IC 1652\n",
      "Sp5I_R 468\n",
      "DC_R 325\n",
      "Pn_R 374\n"
     ]
    },
    {
     "name": "stderr",
     "output_type": "stream",
     "text": [
      "Computing grid indices lookup for section 313...\n"
     ]
    },
    {
     "name": "stdout",
     "output_type": "stream",
     "text": [
      "Sp5I_R 0\n",
      "DC_R 169\n",
      "7n_R 82\n",
      "SNR_R 383\n",
      "SC 0\n",
      "DC_R 400\n",
      "VLL_R 106\n",
      "SNC_R 44\n",
      "Sp5I_R 576\n",
      "SNR_R 848\n",
      "SNR_R 290\n"
     ]
    },
    {
     "name": "stderr",
     "output_type": "stream",
     "text": [
      "Computing grid indices lookup for section 328...\n"
     ]
    },
    {
     "name": "stdout",
     "output_type": "stream",
     "text": [
      "DC_R 0\n"
     ]
    },
    {
     "name": "stderr",
     "output_type": "stream",
     "text": [
      "Computing grid indices lookup for section 337...\n"
     ]
    },
    {
     "name": "stdout",
     "output_type": "stream",
     "text": [
      "PBG_R 41\n",
      "Sp5I_R 519\n",
      "Sp5C_R 0\n",
      "SNC_R 29\n",
      "Sp5O_R 10\n",
      "VCA_R 179\n",
      "SNC_R 31\n"
     ]
    },
    {
     "name": "stderr",
     "output_type": "stream",
     "text": [
      "Computing grid indices lookup for section 342...\n"
     ]
    },
    {
     "name": "stdout",
     "output_type": "stream",
     "text": [
      "DC_R 358\n"
     ]
    },
    {
     "name": "stderr",
     "output_type": "stream",
     "text": [
      "Computing grid indices lookup for section 290...\n"
     ]
    },
    {
     "name": "stdout",
     "output_type": "stream",
     "text": [
      "5N_R 113\n",
      "VCP_R 201\n",
      "DC_R 351\n",
      "7n_R 66\n",
      "Sp5I_R 5\n",
      "VCA_R 0\n",
      "DC_R 127\n",
      "IC 1551\n",
      "VCA_R 0\n",
      "LRt_R 116\n",
      "VCP_R 3\n"
     ]
    },
    {
     "name": "stderr",
     "output_type": "stream",
     "text": [
      "Computing grid indices lookup for section 323...\n"
     ]
    },
    {
     "name": "stdout",
     "output_type": "stream",
     "text": [
      "7n_R 73\n",
      "Sp5O_R 1112\n",
      "IC 1456\n",
      "SC 210\n",
      "LC_R 4\n",
      "VCA_R 514\n",
      "VCP_R 278\n"
     ]
    },
    {
     "name": "stderr",
     "output_type": "stream",
     "text": [
      "Computing grid indices lookup for section 311...\n"
     ]
    },
    {
     "name": "stdout",
     "output_type": "stream",
     "text": [
      "7N_R 402\n",
      "7n_R 63\n"
     ]
    },
    {
     "name": "stderr",
     "output_type": "stream",
     "text": [
      "Computing grid indices lookup for section 318...\n",
      "Computing grid indices lookup for section 333...\n"
     ]
    },
    {
     "name": "stdout",
     "output_type": "stream",
     "text": [
      "Sp5O_R 251\n",
      "DC_R 0\n",
      "PBG_R 11\n",
      "VCP_R 389\n",
      "SNR_R 440\n"
     ]
    },
    {
     "name": "stderr",
     "output_type": "stream",
     "text": [
      "Computing grid indices lookup for section 329...\n"
     ]
    },
    {
     "name": "stdout",
     "output_type": "stream",
     "text": [
      "VLL_R 295\n",
      "DC_R 205\n",
      "VLL_R 203\n"
     ]
    },
    {
     "name": "stderr",
     "output_type": "stream",
     "text": [
      "Computing grid indices lookup for section 343...\n"
     ]
    },
    {
     "name": "stdout",
     "output_type": "stream",
     "text": [
      "VCA_R 220\n",
      "DC_R 86\n",
      "PBG_R 39\n",
      "SC 2030\n"
     ]
    },
    {
     "name": "stderr",
     "output_type": "stream",
     "text": [
      "Computing grid indices lookup for section 285...\n"
     ]
    },
    {
     "name": "stdout",
     "output_type": "stream",
     "text": [
      "DC_R 54\n"
     ]
    },
    {
     "name": "stderr",
     "output_type": "stream",
     "text": [
      "Computing grid indices lookup for section 295...\n",
      "Computing grid indices lookup for section 347...\n"
     ]
    },
    {
     "name": "stdout",
     "output_type": "stream",
     "text": [
      "LRt_R 0\n",
      "DC_R 399\n",
      "Sp5O_R 663\n",
      "VCP_R 242\n",
      "Sp5I_R 463\n"
     ]
    },
    {
     "name": "stderr",
     "output_type": "stream",
     "text": [
      "Computing grid indices lookup for section 281...\n"
     ]
    },
    {
     "name": "stdout",
     "output_type": "stream",
     "text": [
      "SC 2171\n",
      "Sp5I_R 39\n",
      "LRt_R 175\n",
      "Sp5C_R 433\n",
      "Sp5I_R 559\n",
      "7N_R 322\n",
      "VCA_R 61\n",
      "SNR_R 189\n",
      "VCP_R 0\n"
     ]
    },
    {
     "name": "stderr",
     "output_type": "stream",
     "text": [
      "Computing grid indices lookup for section 338...\n"
     ]
    },
    {
     "name": "stdout",
     "output_type": "stream",
     "text": [
      "Sp5C_R 1005\n",
      "VCA_R 729\n",
      "DC_R 0\n",
      "VCP_R 0\n",
      "LRt_R 194\n",
      "VCA_R 583\n"
     ]
    },
    {
     "name": "stderr",
     "output_type": "stream",
     "text": [
      "Computing grid indices lookup for section 334...\n"
     ]
    },
    {
     "name": "stdout",
     "output_type": "stream",
     "text": [
      "DC_R 0\n",
      "7N_R 404\n",
      "VCA_R 0\n",
      "VCP_R 11\n",
      "DC_R 127\n",
      "VLL_R 275\n"
     ]
    },
    {
     "name": "stderr",
     "output_type": "stream",
     "text": [
      "Computing grid indices lookup for section 324...\n"
     ]
    },
    {
     "name": "stdout",
     "output_type": "stream",
     "text": [
      "VLL_R 123\n",
      "7N_R 331\n",
      "VCP_R 270\n"
     ]
    },
    {
     "name": "stderr",
     "output_type": "stream",
     "text": [
      "Computing grid indices lookup for section 330...\n"
     ]
    },
    {
     "name": "stdout",
     "output_type": "stream",
     "text": [
      "Sp5O_R 593\n",
      "SNR_R 0\n",
      "VCA_R 561\n",
      "DC_R 0\n"
     ]
    },
    {
     "name": "stderr",
     "output_type": "stream",
     "text": [
      "Computing grid indices lookup for section 344...\n"
     ]
    },
    {
     "name": "stdout",
     "output_type": "stream",
     "text": [
      "VCP_R 0\n",
      "SNR_R 781\n"
     ]
    },
    {
     "name": "stderr",
     "output_type": "stream",
     "text": [
      "Computing grid indices lookup for section 348...\n"
     ]
    },
    {
     "name": "stdout",
     "output_type": "stream",
     "text": [
      "Sp5O_R 213\n",
      "Sp5I_R 5\n",
      "VCA_R 0\n",
      "Sp5I_R 548\n",
      "DC_R 12\n",
      "DC_R 67\n",
      "SNC_R 33\n"
     ]
    },
    {
     "name": "stderr",
     "output_type": "stream",
     "text": [
      "Computing grid indices lookup for section 335...\n"
     ]
    },
    {
     "name": "stdout",
     "output_type": "stream",
     "text": [
      "VCP_R 78\n"
     ]
    },
    {
     "name": "stderr",
     "output_type": "stream",
     "text": [
      "Computing grid indices lookup for section 301...\n"
     ]
    },
    {
     "name": "stdout",
     "output_type": "stream",
     "text": [
      "DC_R 226\n",
      "Sp5C_R 1221\n"
     ]
    },
    {
     "name": "stderr",
     "output_type": "stream",
     "text": [
      "Computing grid indices lookup for section 339...\n"
     ]
    },
    {
     "name": "stdout",
     "output_type": "stream",
     "text": [
      "VCA_R 552\n",
      "7N_R 98\n",
      "5N_R 412\n",
      "Sp5C_R 840\n",
      "Sp5C_R 895\n"
     ]
    },
    {
     "name": "stderr",
     "output_type": "stream",
     "text": [
      "Computing grid indices lookup for section 331...\n"
     ]
    },
    {
     "name": "stdout",
     "output_type": "stream",
     "text": [
      "DC_R 405\n",
      "Sp5I_R 613\n",
      "VCA_R 717\n",
      "Sp5I_R 430\n"
     ]
    },
    {
     "name": "stderr",
     "output_type": "stream",
     "text": [
      "Computing grid indices lookup for section 314...\n"
     ]
    },
    {
     "name": "stdout",
     "output_type": "stream",
     "text": [
      "Pn_R 57\n",
      "VLL_R 215\n",
      "DC_R 308\n"
     ]
    },
    {
     "name": "stderr",
     "output_type": "stream",
     "text": [
      "Computing grid indices lookup for section 349...\n"
     ]
    },
    {
     "name": "stdout",
     "output_type": "stream",
     "text": [
      "VCP_R 143\n",
      "VLL_R 67\n",
      "SNR_R 846\n"
     ]
    },
    {
     "name": "stderr",
     "output_type": "stream",
     "text": [
      "Computing grid indices lookup for section 352...\n"
     ]
    },
    {
     "name": "stdout",
     "output_type": "stream",
     "text": [
      "SNC_R 0\n",
      "VCA_R 368\n",
      "VCA_R 0\n",
      "DC_R 409\n",
      "PBG_R 37\n"
     ]
    },
    {
     "name": "stderr",
     "output_type": "stream",
     "text": [
      "Computing grid indices lookup for section 353...\n"
     ]
    },
    {
     "name": "stdout",
     "output_type": "stream",
     "text": [
      "SNR_R 726\n"
     ]
    },
    {
     "name": "stderr",
     "output_type": "stream",
     "text": [
      "Computing grid indices lookup for section 319...\n"
     ]
    },
    {
     "name": "stdout",
     "output_type": "stream",
     "text": [
      "IC 1281\n",
      "PBG_R 0\n",
      "SNR_R 658\n",
      "VCA_R 468\n",
      "SNC_R 26\n",
      "VCA_R 619\n",
      "5N_R 330\n",
      "VCA_R 115\n"
     ]
    },
    {
     "name": "stderr",
     "output_type": "stream",
     "text": [
      "Computing grid indices lookup for section 325...\n"
     ]
    },
    {
     "name": "stdout",
     "output_type": "stream",
     "text": [
      "VCP_R 327\n",
      "7n_R 85\n",
      "Sp5C_R 1133\n",
      "Sp5C_R 252\n",
      "SNC_R 26\n",
      "VCA_R 218\n"
     ]
    },
    {
     "name": "stderr",
     "output_type": "stream",
     "text": [
      "Computing grid indices lookup for section 350...\n",
      "Computing grid indices lookup for section 345...\n"
     ]
    },
    {
     "name": "stdout",
     "output_type": "stream",
     "text": [
      "VCP_R 123\n",
      "5N_R 306\n",
      "5N_R 85\n",
      "Sp5O_R 595\n",
      "SNR_R 0\n",
      "Sp5O_R 175\n"
     ]
    },
    {
     "name": "stderr",
     "output_type": "stream",
     "text": [
      "Computing grid indices lookup for section 354...\n"
     ]
    },
    {
     "name": "stdout",
     "output_type": "stream",
     "text": [
      "VCP_R 369\n",
      "IC 276\n",
      "DC_R 128\n",
      "SC 848\n",
      "VCA_R 122\n",
      "7n_R 89\n",
      "DC_R 239\n",
      "VCA_R 429\n",
      "SNR_R 835\n",
      "Sp5I_R 542\n",
      "VCA_R 687\n",
      "VCP_R 0\n"
     ]
    },
    {
     "name": "stderr",
     "output_type": "stream",
     "text": [
      "Computing grid indices lookup for section 355...\n"
     ]
    },
    {
     "name": "stdout",
     "output_type": "stream",
     "text": [
      "Sp5O_R 1104\n"
     ]
    },
    {
     "name": "stderr",
     "output_type": "stream",
     "text": [
      "Computing grid indices lookup for section 336...\n"
     ]
    },
    {
     "name": "stdout",
     "output_type": "stream",
     "text": [
      "SNR_R 0\n",
      "DC_R 17\n"
     ]
    },
    {
     "name": "stderr",
     "output_type": "stream",
     "text": [
      "Computing grid indices lookup for section 351...\n"
     ]
    },
    {
     "name": "stdout",
     "output_type": "stream",
     "text": [
      "IC 1672\n",
      "Sp5I_R 383\n",
      "VCA_R 0\n",
      "DC_R 90\n",
      "IC 1542\n",
      "VCA_R 74\n",
      "SNC_R 23\n"
     ]
    },
    {
     "name": "stderr",
     "output_type": "stream",
     "text": [
      "Computing grid indices lookup for section 340...\n"
     ]
    },
    {
     "name": "stdout",
     "output_type": "stream",
     "text": [
      "SC 503\n"
     ]
    },
    {
     "name": "stderr",
     "output_type": "stream",
     "text": [
      "Computing grid indices lookup for section 346...\n"
     ]
    },
    {
     "name": "stdout",
     "output_type": "stream",
     "text": [
      "7n_R 81\n",
      "SC 0\n",
      "Amb_R 58\n",
      "5N_R 13\n",
      "7n_R 51\n"
     ]
    },
    {
     "name": "stderr",
     "output_type": "stream",
     "text": [
      "Computing grid indices lookup for section 356...\n"
     ]
    },
    {
     "name": "stdout",
     "output_type": "stream",
     "text": [
      "VCA_R 0\n",
      "DC_R 387\n",
      "7n_R 89\n",
      "Sp5I_R 541\n"
     ]
    },
    {
     "name": "stderr",
     "output_type": "stream",
     "text": [
      "Computing grid indices lookup for section 326...\n"
     ]
    },
    {
     "name": "stdout",
     "output_type": "stream",
     "text": [
      "DC_R 218\n",
      "SC 119\n",
      "Sp5O_R 0\n"
     ]
    },
    {
     "name": "stderr",
     "output_type": "stream",
     "text": [
      "Computing grid indices lookup for section 320...\n"
     ]
    },
    {
     "name": "stdout",
     "output_type": "stream",
     "text": [
      "VCA_R 622\n",
      "VCP_R 0\n",
      "VCA_R 425\n",
      "SC 1192\n",
      "DC_R 299\n",
      "VCA_R 688\n",
      "Sp5O_R 560\n",
      "VCP_R 325\n",
      "VCP_R 354\n",
      "DC_R 132\n",
      "Sp5I_R 268\n"
     ]
    },
    {
     "name": "stderr",
     "output_type": "stream",
     "text": [
      "Computing grid indices lookup for section 341...\n"
     ]
    },
    {
     "name": "stdout",
     "output_type": "stream",
     "text": [
      "Sp5I_R 544\n"
     ]
    },
    {
     "name": "stderr",
     "output_type": "stream",
     "text": [
      "Computing grid indices lookup for section 296...\n"
     ]
    },
    {
     "name": "stdout",
     "output_type": "stream",
     "text": [
      "DC_R 166\n"
     ]
    },
    {
     "name": "stderr",
     "output_type": "stream",
     "text": [
      "Computing grid indices lookup for section 315...\n"
     ]
    },
    {
     "name": "stdout",
     "output_type": "stream",
     "text": [
      "VLL_R 0\n"
     ]
    },
    {
     "name": "stderr",
     "output_type": "stream",
     "text": [
      "Computing grid indices lookup for section 291...\n"
     ]
    },
    {
     "name": "stdout",
     "output_type": "stream",
     "text": [
      "PBG_R 34\n"
     ]
    },
    {
     "name": "stderr",
     "output_type": "stream",
     "text": [
      "Computing grid indices lookup for section 321...\n"
     ]
    },
    {
     "name": "stdout",
     "output_type": "stream",
     "text": [
      "7N_R 289\n",
      "LRt_R 103\n",
      "Sp5C_R 188\n",
      "VCA_R 703\n",
      "VLL_R 245\n",
      "7N_R 394\n",
      "Sp5O_R 456\n",
      "VCP_R 303\n",
      "DC_R 154\n",
      "VLL_R 313\n",
      "Sp5O_R 954\n"
     ]
    },
    {
     "name": "stderr",
     "output_type": "stream",
     "text": [
      "Computing grid indices lookup for section 286...\n"
     ]
    },
    {
     "name": "stdout",
     "output_type": "stream",
     "text": [
      "Sp5C_R 1210\n",
      "Sp5I_R 531\n",
      "SNR_R 317\n",
      "LRt_R 175\n",
      "DC_R 93\n",
      "Sp5I_R 0\n",
      "Sp5C_R 1085\n",
      "SNR_R 857\n",
      "7N_R 409\n",
      "SNC_R 42\n",
      "VLL_R 154\n",
      "5N_R 294\n",
      "SNR_R 784\n",
      "IC 1\n",
      "7n_R 87\n",
      "SC 0\n",
      "SNC_R 34\n",
      "5N_R 397\n"
     ]
    },
    {
     "name": "stderr",
     "output_type": "stream",
     "text": [
      "Computing grid indices lookup for section 316...\n"
     ]
    },
    {
     "name": "stdout",
     "output_type": "stream",
     "text": [
      "Sp5C_R 894\n",
      "PBG_R 35\n",
      "Sp5C_R 142\n",
      "SNR_R 736\n",
      "IC 1246\n",
      "SNC_R 24\n",
      "7n_R 86\n",
      "Sp5O_R 895\n",
      "5N_R 335\n",
      "SC 795\n",
      "SNR_R 291\n",
      "DC_R 93\n",
      "IC 1507\n",
      "Amb_R 59\n",
      "Sp5I_R 576\n",
      "7n_R 89\n",
      "SC 1158\n"
     ]
    }
   ],
   "source": [
    "from learning_utilities import generate_annotation_to_grid_indices_lookup\n",
    "grid_index_lookup = generate_annotation_to_grid_indices_lookup(stack_m='atlasV3', by_human=False, stack='MD642', \n",
    "                                            classifier_setting_m=classifier_id, \n",
    "                                            classifier_setting_f=classifier_id, \n",
    "                                            warp_setting=warp_setting, \n",
    "                                            trial_idx=1, surround_margins=[500])"
   ]
  },
  {
   "cell_type": "code",
   "execution_count": 16,
   "metadata": {
    "scrolled": true
   },
   "outputs": [
    {
     "name": "stderr",
     "output_type": "stream",
     "text": [
      "/usr/local/lib/python2.7/dist-packages/pandas/core/generic.py:1282: PerformanceWarning: \n",
      "your performance may suffer as PyTables will pickle object types that it cannot\n",
      "map directly to c-types [inferred_type->mixed,key->block0_values] [items->['10N_L', '10N_L_negative', '10N_L_surround_500_12N', '10N_L_surround_500_AP', '10N_L_surround_500_noclass', '10N_R', '10N_R_negative', '10N_R_surround_500_12N', '10N_R_surround_500_noclass', '12N', '12N_negative', '12N_surround_500_10N_L', '12N_surround_500_10N_R', '12N_surround_500_AP', '12N_surround_500_noclass', '3N_L', '3N_L_negative', '3N_L_surround_500_4N_L', '3N_L_surround_500_noclass', '3N_R', '3N_R_negative', '3N_R_surround_500_4N_R', '3N_R_surround_500_noclass', '4N_L', '4N_L_negative', '4N_L_surround_500_3N_L', '4N_L_surround_500_noclass', '4N_R', '4N_R_negative', '4N_R_surround_500_3N_R', '4N_R_surround_500_noclass', '5N_L', '5N_L_negative', '5N_L_surround_500_noclass', '5N_R', '5N_R_negative', '5N_R_surround_500_noclass', '6N_L', '6N_L_negative', '6N_L_surround_500_noclass', '6N_R', '6N_R_negative', '6N_R_surround_500_noclass', '7N_L', '7N_L_negative', '7N_L_surround_500_noclass', '7N_R', '7N_R_negative', '7N_R_surround_500_noclass', '7n_L', '7n_L_negative', '7n_L_surround_500_noclass', '7n_R', '7n_R_negative', '7n_R_surround_500_noclass', 'AP', 'AP_negative', 'AP_surround_500_10N_L', 'AP_surround_500_12N', 'AP_surround_500_noclass', 'Amb_L', 'Amb_L_negative', 'Amb_L_surround_500_LRt_L', 'Amb_L_surround_500_noclass', 'Amb_R', 'Amb_R_negative', 'Amb_R_surround_500_LRt_R', 'Amb_R_surround_500_noclass', 'DC_L', 'DC_L_negative', 'DC_L_surround_500_VCA_L', 'DC_L_surround_500_VCP_L', 'DC_L_surround_500_noclass', 'DC_R', 'DC_R_negative', 'DC_R_surround_500_VCA_R', 'DC_R_surround_500_VCP_R', 'DC_R_surround_500_noclass', 'IC', 'IC_negative', 'IC_surround_500_SC', 'IC_surround_500_noclass', 'LC_L', 'LC_L_negative', 'LC_L_surround_500_noclass', 'LC_R', 'LC_R_negative', 'LC_R_surround_500_7n_R', 'LC_R_surround_500_noclass', 'LRt_L', 'LRt_L_negative', 'LRt_L_surround_500_Amb_L', 'LRt_L_surround_500_noclass', 'LRt_R', 'LRt_R_negative', 'LRt_R_surround_500_Amb_R', 'LRt_R_surround_500_noclass', 'PBG_L', 'PBG_L_negative', 'PBG_L_surround_500_noclass', 'PBG_R', 'PBG_R_negative', 'PBG_R_surround_500_noclass', 'Pn_L', 'Pn_L_negative', 'Pn_L_surround_500_RtTg', 'Pn_L_surround_500_noclass', 'Pn_R', 'Pn_R_negative', 'Pn_R_surround_500_RtTg', 'Pn_R_surround_500_noclass', 'RMC_L', 'RMC_L_negative', 'RMC_L_surround_500_noclass', 'RMC_R', 'RMC_R_negative', 'RMC_R_surround_500_noclass', 'RtTg', 'RtTg_negative', 'RtTg_surround_500_Pn_L', 'RtTg_surround_500_Pn_R', 'RtTg_surround_500_Tz_L', 'RtTg_surround_500_Tz_R', 'RtTg_surround_500_noclass', 'SC', 'SC_negative', 'SC_surround_500_IC', 'SC_surround_500_noclass', 'SNC_L', 'SNC_L_negative', 'SNC_L_surround_500_SNR_L', 'SNC_L_surround_500_noclass', 'SNC_R', 'SNC_R_negative', 'SNC_R_surround_500_SNR_R', 'SNC_R_surround_500_noclass', 'SNR_L', 'SNR_L_negative', 'SNR_L_surround_500_SNC_L', 'SNR_L_surround_500_noclass', 'SNR_R', 'SNR_R_negative', 'SNR_R_surround_500_SNC_R', 'SNR_R_surround_500_noclass', 'Sp5C_L', 'Sp5C_L_negative', 'Sp5C_L_surround_500_Sp5I_L', 'Sp5C_L_surround_500_noclass', 'Sp5C_R', 'Sp5C_R_negative', 'Sp5C_R_surround_500_Sp5I_R', 'Sp5C_R_surround_500_noclass', 'Sp5I_L', 'Sp5I_L_negative', 'Sp5I_L_surround_500_Sp5C_L', 'Sp5I_L_surround_500_Sp5O_L', 'Sp5I_L_surround_500_noclass', 'Sp5I_R', 'Sp5I_R_negative', 'Sp5I_R_surround_500_Sp5C_R', 'Sp5I_R_surround_500_Sp5O_R', 'Sp5I_R_surround_500_noclass', 'Sp5O_L', 'Sp5O_L_negative', 'Sp5O_L_surround_500_Sp5I_L', 'Sp5O_L_surround_500_noclass', 'Sp5O_R', 'Sp5O_R_negative', 'Sp5O_R_surround_500_Sp5I_R', 'Sp5O_R_surround_500_noclass', 'Tz_L', 'Tz_L_negative', 'Tz_L_surround_500_RtTg', 'Tz_L_surround_500_noclass', 'Tz_R', 'Tz_R_negative', 'Tz_R_surround_500_RtTg', 'Tz_R_surround_500_noclass', 'VCA_L', 'VCA_L_negative', 'VCA_L_surround_500_DC_L', 'VCA_L_surround_500_VCP_L', 'VCA_L_surround_500_noclass', 'VCA_R', 'VCA_R_negative', 'VCA_R_surround_500_DC_R', 'VCA_R_surround_500_VCP_R', 'VCA_R_surround_500_noclass', 'VCP_L', 'VCP_L_negative', 'VCP_L_surround_500_DC_L', 'VCP_L_surround_500_VCA_L', 'VCP_L_surround_500_noclass', 'VCP_R', 'VCP_R_negative', 'VCP_R_surround_500_DC_R', 'VCP_R_surround_500_VCA_R', 'VCP_R_surround_500_noclass', 'VLL_L', 'VLL_L_negative', 'VLL_L_surround_500_noclass', 'VLL_R', 'VLL_R_negative', 'VLL_R_surround_500_noclass', 'bg', 'noclass']]\n",
      "\n",
      "  return pytables.to_hdf(path_or_buf, key, self, **kwargs)\n"
     ]
    },
    {
     "name": "stdout",
     "output_type": "stream",
     "text": [
      "aws s3 cp /shared/CSHL_labelings_v3/MD642/annotation_atlasV3_down32_scoreVolume_clf_37_warp_1_MD642_down32_scoreVolume_clf_37_trial_1_grid_indices_lookup.hdf s3://mousebrainatlas-data/CSHL_labelings_v3/MD642/annotation_atlasV3_down32_scoreVolume_clf_37_warp_1_MD642_down32_scoreVolume_clf_37_trial_1_grid_indices_lookup.hdf\n"
     ]
    },
    {
     "name": "stderr",
     "output_type": "stream",
     "text": [
      "Child returned 0\n",
      "14.89 seconds.\n"
     ]
    }
   ],
   "source": [
    "grid_indices_lookup_fp = DataManager.get_annotation_to_grid_indices_lookup_filepath(stack_m='atlasV3', \n",
    "                                                                                    by_human=False, stack='MD642', \n",
    "                                            classifier_setting_m=classifier_id, \n",
    "                                            classifier_setting_f=classifier_id, \n",
    "                                            warp_setting=warp_setting, \n",
    "                                            trial_idx=1)\n",
    "    \n",
    "save_hdf_v2(grid_index_lookup, grid_indices_lookup_fp)\n",
    "upload_to_s3(grid_indices_lookup_fp)"
   ]
  },
  {
   "cell_type": "code",
   "execution_count": null,
   "metadata": {
    "collapsed": true
   },
   "outputs": [],
   "source": []
  }
 ],
 "metadata": {
  "kernelspec": {
   "display_name": "Python 2",
   "language": "python",
   "name": "python2"
  },
  "language_info": {
   "codemirror_mode": {
    "name": "ipython",
    "version": 2
   },
   "file_extension": ".py",
   "mimetype": "text/x-python",
   "name": "python",
   "nbconvert_exporter": "python",
   "pygments_lexer": "ipython2",
   "version": "2.7.12"
  }
 },
 "nbformat": 4,
 "nbformat_minor": 2
}
