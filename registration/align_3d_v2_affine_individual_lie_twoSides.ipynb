{
 "cells": [
  {
   "cell_type": "code",
   "execution_count": null,
   "metadata": {
    "collapsed": true
   },
   "outputs": [],
   "source": [
    "# Aligns a score volume with an annotation volume"
   ]
  },
  {
   "cell_type": "code",
   "execution_count": 2,
   "metadata": {
    "collapsed": false
   },
   "outputs": [],
   "source": [
    "%load_ext autoreload\n",
    "%autoreload 2"
   ]
  },
  {
   "cell_type": "code",
   "execution_count": 3,
   "metadata": {
    "collapsed": false
   },
   "outputs": [],
   "source": [
    "import numpy as np\n",
    "\n",
    "import sys\n",
    "import os\n",
    "\n",
    "sys.path.append(os.environ['REPO_DIR'] + '/utilities')\n",
    "from utilities2015 import *\n",
    "from registration_utilities import *\n",
    "\n",
    "import matplotlib.pyplot as plt\n",
    "%matplotlib inline\n",
    "\n",
    "from joblib import Parallel, delayed\n",
    "import time\n",
    "\n",
    "import logging\n",
    "\n",
    "from collections import defaultdict"
   ]
  },
  {
   "cell_type": "code",
   "execution_count": 4,
   "metadata": {
    "collapsed": true
   },
   "outputs": [],
   "source": [
    "volume_dir = '/home/yuncong/csd395/CSHL_volumes/'"
   ]
  },
  {
   "cell_type": "code",
   "execution_count": 5,
   "metadata": {
    "collapsed": false
   },
   "outputs": [],
   "source": [
    "labels_twoSides = []\n",
    "labels_twoSides_indices = {}\n",
    "with open(volume_dir + '/MD589/volume_MD589_annotation_withOuterContour_labelIndices.txt', 'r') as f:\n",
    "    lines = f.readlines()\n",
    "    for line in lines:\n",
    "        name, index = line.split()\n",
    "        labels_twoSides.append(name)\n",
    "        labels_twoSides_indices[name] = int(index)\n",
    "        \n",
    "labelMap_sidedToUnsided = {name: name if '_' not in name else name[:-2] for name in labels_twoSides_indices.keys()}\n",
    "labels_unsided = ['BackG'] + sorted(set(labelMap_sidedToUnsided.values()) - {'BackG', 'outerContour'}) + ['outerContour']\n",
    "labels_unsided_indices = dict((j, i) for i, j in enumerate(labels_unsided))\n",
    "\n",
    "from collections import defaultdict\n",
    "\n",
    "labelMap_unsidedToSided = defaultdict(list)\n",
    "for name_sided, name_unsided in labelMap_sidedToUnsided.iteritems():\n",
    "    labelMap_unsidedToSided[name_unsided].append(name_sided)\n",
    "labelMap_unsidedToSided.default_factory = None"
   ]
  },
  {
   "cell_type": "code",
   "execution_count": 6,
   "metadata": {
    "collapsed": true
   },
   "outputs": [],
   "source": [
    "stack = 'MD594'"
   ]
  },
  {
   "cell_type": "code",
   "execution_count": 7,
   "metadata": {
    "collapsed": false
   },
   "outputs": [],
   "source": [
    "atlasProjected_volume = bp.unpack_ndarray_file(os.path.join(volume_dir, '%(stack)s/%(stack)s_volume_atlasProjected.bp' % {'stack': stack}))"
   ]
  },
  {
   "cell_type": "code",
   "execution_count": 8,
   "metadata": {
    "collapsed": false
   },
   "outputs": [
    {
     "name": "stderr",
     "output_type": "stream",
     "text": [
      "load atlas: 6.748372 seconds\n"
     ]
    }
   ],
   "source": [
    "def parallel_where(name, num_samples=None):\n",
    "    \n",
    "    w = np.where(atlasProjected_volume == labels_twoSides_indices[name])\n",
    "    \n",
    "    if num_samples is not None:\n",
    "        n = len(w[0])\n",
    "        sample_indices = np.random.choice(range(n), min(num_samples, n), replace=False)\n",
    "        return np.c_[w[1][sample_indices].astype(np.int16), \n",
    "                     w[0][sample_indices].astype(np.int16), \n",
    "                     w[2][sample_indices].astype(np.int16)]\n",
    "    else:\n",
    "        return np.c_[w[1].astype(np.int16), w[0].astype(np.int16), w[2].astype(np.int16)]\n",
    "\n",
    "t = time.time()\n",
    "\n",
    "atlasProjected_nzs = Parallel(n_jobs=16)(delayed(parallel_where)(name, num_samples=int(1e5)) \n",
    "                                for name in labels_twoSides[1:])\n",
    "atlasProjected_nzs = {name: nzs for name, nzs in zip(labels_twoSides[1:], atlasProjected_nzs)}\n",
    "\n",
    "sys.stderr.write('load atlas: %f seconds\\n' % (time.time() - t)) #~ 4s, sometime 13s"
   ]
  },
  {
   "cell_type": "code",
   "execution_count": 7,
   "metadata": {
    "collapsed": false
   },
   "outputs": [],
   "source": [
    "atlasProjected_nzs_full = Parallel(n_jobs=16)(delayed(parallel_where)(name) for name in labels_twoSides[1:])\n",
    "atlasProjected_nzs_full = {name: nzs for name, nzs in zip(labels_twoSides[1:], atlasProjected_nzs_full)}"
   ]
  },
  {
   "cell_type": "code",
   "execution_count": null,
   "metadata": {
    "collapsed": false
   },
   "outputs": [],
   "source": [
    "for z in range(420,441,1):\n",
    "    print z\n",
    "    plt.figure(figsize=(10,10));\n",
    "    plt.imshow(atlasProjected_volume[..., z]);\n",
    "    plt.show();"
   ]
  },
  {
   "cell_type": "code",
   "execution_count": null,
   "metadata": {
    "collapsed": true
   },
   "outputs": [],
   "source": []
  },
  {
   "cell_type": "code",
   "execution_count": 9,
   "metadata": {
    "collapsed": true
   },
   "outputs": [],
   "source": [
    "downsample_factor = 16\n",
    "\n",
    "section_thickness = 20 # in um\n",
    "xy_pixel_distance_lossless = 0.46\n",
    "xy_pixel_distance_tb = xy_pixel_distance_lossless * 32 # in um, thumbnail\n",
    "\n",
    "xy_pixel_distance_downsampled = xy_pixel_distance_lossless * downsample_factor\n",
    "z_xy_ratio_downsampled = section_thickness / xy_pixel_distance_downsampled"
   ]
  },
  {
   "cell_type": "code",
   "execution_count": null,
   "metadata": {
    "collapsed": true
   },
   "outputs": [],
   "source": [
    "# atlas_landmark_bboxes = {}\n",
    "# with open(volume_dir+'/volume_%(stack)s_annotation_withOuterContour_landmarkBboxes.txt' % {'stack': stack}, 'r') as f:\n",
    "#     lines = f.readlines()\n",
    "#     for l in lines:\n",
    "#         s = l.split()\n",
    "#         atlas_landmark_bboxes[s[0]] = map(int, s[1:]) # xmin, xmax, ymin, ymax, zmin, zmax"
   ]
  },
  {
   "cell_type": "code",
   "execution_count": null,
   "metadata": {
    "collapsed": true
   },
   "outputs": [],
   "source": []
  },
  {
   "cell_type": "code",
   "execution_count": null,
   "metadata": {
    "collapsed": true
   },
   "outputs": [],
   "source": [
    "# Load test volume"
   ]
  },
  {
   "cell_type": "code",
   "execution_count": 10,
   "metadata": {
    "collapsed": false
   },
   "outputs": [],
   "source": [
    "atlasAlignParams_dir = '/oasis/projects/nsf/csd395/yuncong/CSHL_atlasAlignParams'\n",
    "params_dir = create_if_not_exists(atlasAlignParams_dir + '/' + stack)\n",
    "\n",
    "# with open(atlasAlignParams_dir + '/%(stack)s/%(stack)s_3dAlignParams.txt' % {'stack': stack}, 'r') as f:\n",
    "#     lines = f.readlines()\n",
    "    \n",
    "# T_final = np.array(map(float, lines[1].strip().split()))"
   ]
  },
  {
   "cell_type": "code",
   "execution_count": 11,
   "metadata": {
    "collapsed": false,
    "scrolled": true
   },
   "outputs": [
    {
     "name": "stdout",
     "output_type": "stream",
     "text": [
      "844 484 443\n",
      "[ 422.   242.   221.5]\n"
     ]
    }
   ],
   "source": [
    "t = time.time()\n",
    "\n",
    "volume2_allLabels = {}\n",
    "\n",
    "for name in labels_unsided:\n",
    "    \n",
    "    if name == 'BackG':\n",
    "        continue\n",
    "\n",
    "    volume2_roi = bp.unpack_ndarray_file(os.path.join(volume_dir, '%(stack)s/%(stack)s_scoreVolume_%(label)s.bp' % \\\n",
    "                                                      {'stack': stack, 'label': name})).astype(np.float16)\n",
    "    volume2_allLabels[name] = volume2_roi\n",
    "    del volume2_roi\n",
    "\n",
    "test_ydim, test_xdim, test_zdim = volume2_allLabels.values()[0].shape\n",
    "\n",
    "print test_xdim, test_ydim, test_zdim\n",
    "\n",
    "# test_xdim = volume_xmax - volume_xmin + 1\n",
    "# test_ydim = volume_ymax - volume_ymin + 1\n",
    "# test_zdim = volume_zmax - volume_zmin + 1\n",
    "\n",
    "sys.stderr.write('load score volumes: %f seconds\\n' % (time.time() - t))"
   ]
  },
  {
   "cell_type": "code",
   "execution_count": 12,
   "metadata": {
    "collapsed": false
   },
   "outputs": [
    {
     "name": "stderr",
     "output_type": "stream",
     "text": [
      "load gradient 12N: 5.497084 seconds\n",
      "load gradient 5N: 6.869349 seconds\n",
      "load gradient 6N: 6.264617 seconds\n",
      "load gradient 7N: 7.741165 seconds\n",
      "load gradient 7n: 13.669241 seconds\n",
      "load gradient AP: 15.993627 seconds\n",
      "load gradient Amb: 20.791550 seconds\n",
      "load gradient LC: 6.280397 seconds\n",
      "load gradient LRt: 6.168224 seconds\n",
      "load gradient Pn: 7.000846 seconds\n",
      "load gradient R: 6.922921 seconds\n",
      "load gradient RtTg: 8.705409 seconds\n",
      "load gradient Tz: 18.926611 seconds\n",
      "load gradient VLL: 11.373709 seconds\n",
      "load gradient sp5: 19.761688 seconds\n",
      "load gradient outerContour: 22.839031 seconds\n",
      "overall: 184.813037 seconds\n"
     ]
    }
   ],
   "source": [
    "########### Load Gradient ###########\n",
    "\n",
    "dSdxyz = {name: np.empty((3, test_ydim, test_xdim, test_zdim), dtype=np.float16) for name in labels_unsided[1:]}\n",
    "\n",
    "t1 = time.time()\n",
    "\n",
    "for name in labels_unsided:\n",
    "    \n",
    "    if name == 'BackG':\n",
    "        continue\n",
    "\n",
    "    t = time.time()\n",
    "    \n",
    "    dSdxyz[name][0] = bp.unpack_ndarray_file(volume_dir + '/%(stack)s/%(stack)s_scoreVolume_%(label)s_gx.bp' % {'stack':stack, 'label':name})\n",
    "    dSdxyz[name][1] = bp.unpack_ndarray_file(volume_dir + '/%(stack)s/%(stack)s_scoreVolume_%(label)s_gy.bp' % {'stack':stack, 'label':name})\n",
    "    dSdxyz[name][2] = bp.unpack_ndarray_file(volume_dir + '/%(stack)s/%(stack)s_scoreVolume_%(label)s_gz.bp' % {'stack':stack, 'label':name})\n",
    "    \n",
    "    sys.stderr.write('load gradient %s: %f seconds\\n' % (name, time.time() - t)) # ~7s\n",
    "\n",
    "sys.stderr.write('overall: %f seconds\\n' % (time.time() - t1)) # 140s"
   ]
  },
  {
   "cell_type": "code",
   "execution_count": 16,
   "metadata": {
    "collapsed": true
   },
   "outputs": [],
   "source": [
    "def matrix_exp(w):\n",
    "    \n",
    "    wx, wy, wz = w\n",
    "    w_skew = np.array([[0, -wz, wy], [wz, 0, -wx], [-wy, wx, 0]])\n",
    "    \n",
    "    theta = np.sqrt(np.sum(w**2))\n",
    "    \n",
    "    exp_w = np.eye(3) + np.sin(theta)/theta*w_skew + (1-np.cos(theta))/theta**2*np.dot(w_skew, w_skew)\n",
    "    return exp_w\n",
    "\n",
    "def matrix_exp_v(v):\n",
    "    t = v[:3]\n",
    "    w = v[3:]\n",
    "    \n",
    "    theta = np.sqrt(np.sum(w**2))\n",
    "    \n",
    "    wx, wy, wz = w\n",
    "    w_skew = np.array([[0, -wz, wy], [wz, 0, -wx], [-wy, wx, 0]])\n",
    "    exp_w = np.eye(3) + np.sin(theta)/theta*w_skew + (1-np.cos(theta))/(theta**2)*np.dot(w_skew, w_skew)\n",
    "    \n",
    "    V = np.eye(3) + (1-np.cos(theta))/(theta**2)*w_skew + (theta-np.sin(theta))/(theta**3)*np.dot(w_skew, w_skew)\n",
    "    \n",
    "    return exp_w, np.dot(V, t)"
   ]
  },
  {
   "cell_type": "code",
   "execution_count": 13,
   "metadata": {
    "collapsed": true
   },
   "outputs": [],
   "source": [
    "def compute_score(T, name):\n",
    "        \n",
    "    name_unsided = labelMap_sidedToUnsided[name]\n",
    "    \n",
    "    pts_prime = transform_points(T, pts_centered=atlasProjected_pts_centered[name], \n",
    "                                 c_prime=test_centroid2).astype(np.int16)\n",
    "                \n",
    "    xs_prime, ys_prime, zs_prime = pts_prime.T\n",
    "    \n",
    "    valid = (xs_prime >= 0) & (ys_prime >= 0) & (zs_prime >= 0) & \\\n",
    "            (xs_prime < test_xdim) & (ys_prime < test_ydim) & (zs_prime < test_zdim)\n",
    "            \n",
    "    assert np.count_nonzero(valid) > 0, 'No valid pixel after transform: %s' % name\n",
    "    \n",
    "    xs_prime_valid, ys_prime_valid, zs_prime_valid = pts_prime[valid].T\n",
    "    \n",
    "    voxel_probs_valid = volume2_allLabels[name_unsided][ys_prime_valid, xs_prime_valid, zs_prime_valid] / 1e6\n",
    "    score = voxel_probs_valid.sum()\n",
    "    \n",
    "    return score"
   ]
  },
  {
   "cell_type": "code",
   "execution_count": 14,
   "metadata": {
    "collapsed": true
   },
   "outputs": [],
   "source": [
    "def step(T, name, lr, verbose=False, num_samples=1000):\n",
    "    '''\n",
    "    T: 1x12 vector\n",
    "    l: landmark class label\n",
    "    '''\n",
    "    \n",
    "    name_unsided = labelMap_sidedToUnsided[name]\n",
    "        \n",
    "    pts_prime = transform_points(T, pts_centered=atlasProjected_pts_centered[name], c_prime=test_centroid2).astype(np.int16)\n",
    "    \n",
    "    xs_prime, ys_prime, zs_prime = pts_prime.T\n",
    "        \n",
    "    valid = (xs_prime >= 0) & (ys_prime >= 0) & (zs_prime >= 0) & \\\n",
    "            (xs_prime < test_xdim) & (ys_prime < test_ydim) & (zs_prime < test_zdim)\n",
    "    \n",
    "    if verbose:\n",
    "        print 'nz', np.count_nonzero(valid) \n",
    "        \n",
    "    assert np.count_nonzero(valid) > 0, 'No valid pixel after transform: %s' % name\n",
    "    \n",
    "    xs_prime_valid, ys_prime_valid, zs_prime_valid = pts_prime[valid].T\n",
    "        \n",
    "    voxel_probs_valid = volume2_allLabels[name_unsided][ys_prime_valid, xs_prime_valid, zs_prime_valid] / 1e6\n",
    "    score = voxel_probs_valid.sum()\n",
    "    \n",
    "    if num_samples is not None:\n",
    "        # sample some voxels # this seems to make optimization more stable than using all voxels\n",
    "    \n",
    "        ii = np.random.choice(range(np.count_nonzero(valid)), \n",
    "                              min(num_samples, np.count_nonzero(valid)), \n",
    "                              replace=False)\n",
    "        \n",
    "        dSdx = dSdxyz[name_unsided][0, ys_prime_valid, xs_prime_valid, zs_prime_valid][ii]        \n",
    "        dSdy = dSdxyz[name_unsided][1, ys_prime_valid, xs_prime_valid, zs_prime_valid][ii]\n",
    "        dSdz = dSdxyz[name_unsided][2, ys_prime_valid, xs_prime_valid, zs_prime_valid][ii]\n",
    "        \n",
    "        xss = xs_prime_valid.astype(np.float)[ii]\n",
    "        yss = ys_prime_valid.astype(np.float)[ii]\n",
    "        zss = zs_prime_valid.astype(np.float)[ii]\n",
    "        \n",
    "    else:\n",
    "        # use all voxels    \n",
    "        dSdx = dSdxyz[name_unsided][0, ys_prime_valid, xs_prime_valid, zs_prime_valid]\n",
    "        dSdy = dSdxyz[name_unsided][1, ys_prime_valid, xs_prime_valid, zs_prime_valid]\n",
    "        dSdz = dSdxyz[name_unsided][2, ys_prime_valid, xs_prime_valid, zs_prime_valid]\n",
    "\n",
    "        xss = xs_prime_valid.astype(np.float)\n",
    "        yss = ys_prime_valid.astype(np.float)\n",
    "        zss = zs_prime_valid.astype(np.float)\n",
    "\n",
    "    #############################################\n",
    "    \n",
    "    q = np.c_[dSdx, dSdy, dSdz, -dSdy*zss + dSdz*yss, dSdx*zss - dSdz*xss, -dSdx*yss + dSdy*xss]\n",
    "    \n",
    "    dMdv = q.sum(axis=0)\n",
    "\n",
    "    if verbose:\n",
    "        print 'q:', q\n",
    "        print 'dMdv:', dMdv\n",
    "        print 'score:', score\n",
    "\n",
    "#     lr = np.array([0, 0, 0, 0, 0, 1e-2])\n",
    "    global dMdv_historical\n",
    "    dMdv_historical += dMdv**2\n",
    "    dMdv_adjusted = dMdv / (1e-10 + np.sqrt(dMdv_historical))\n",
    "    v_opt = lr * dMdv_adjusted # no minus sign because maximizing\n",
    "\n",
    "#     global iteration\n",
    "#     lr = np.array([0, 0, 0, 0, 0, 1e-7])\n",
    "#     v_opt = lr * np.exp(-iteration/1000.) * dMdv # no minus sign because maximizing\n",
    "#     v_opt = lr * dMdv # no minus sign because maximizing\n",
    "\n",
    "    if verbose:\n",
    "        print 'v_opt:', v_opt\n",
    "\n",
    "    theta = np.sqrt(np.sum(v_opt[3:]**2))\n",
    "    if verbose:\n",
    "        print 'theta:', theta\n",
    "    assert theta < np.pi\n",
    "        \n",
    "    exp_w, Vt = matrix_exp_v(v_opt)\n",
    "    \n",
    "    if verbose:\n",
    "        print 'Vt:' , Vt\n",
    "    \n",
    "    Tm = np.reshape(T, (3,4))\n",
    "    t = Tm[:, 3]\n",
    "    R = Tm[:, :3]\n",
    "                        \n",
    "    R_new = np.dot(exp_w, R)\n",
    "    t_new = np.dot(exp_w, t) + Vt\n",
    "    \n",
    "    if verbose:\n",
    "        print '\\n'\n",
    "\n",
    "    return np.column_stack([R_new, t_new]).flatten(), score"
   ]
  },
  {
   "cell_type": "code",
   "execution_count": null,
   "metadata": {
    "collapsed": true
   },
   "outputs": [],
   "source": [
    "### all landmarks"
   ]
  },
  {
   "cell_type": "code",
   "execution_count": null,
   "metadata": {
    "collapsed": true
   },
   "outputs": [],
   "source": [
    "hessian_allLandmarks = {}"
   ]
  },
  {
   "cell_type": "code",
   "execution_count": 17,
   "metadata": {
    "collapsed": false,
    "scrolled": true
   },
   "outputs": [
    {
     "name": "stdout",
     "output_type": "stream",
     "text": [
      "Amb_R\n"
     ]
    },
    {
     "data": {
      "image/png": "[encoded data removed]",
      "text/plain": [
       "<matplotlib.figure.Figure at 0x5442ed0>"
      ]
     },
     "metadata": {},
     "output_type": "display_data"
    }
   ],
   "source": [
    "history_len = 200\n",
    "T0 = np.array([1,0,0,0,0,1,0,0,0,0,1,0])\n",
    "max_iter = 5000\n",
    "\n",
    "# for name_of_interest in labels_twoSides:\n",
    "for name_of_interest in ['Amb_R']:\n",
    "\n",
    "    if name_of_interest == 'BackG' or name_of_interest == 'outerContour':\n",
    "        continue\n",
    "    \n",
    "    print name_of_interest\n",
    "    \n",
    "    # set the rotation center of both atlas and test volume to the landmark centroid after affine projection\n",
    "    \n",
    "    global atlasProjected_centroid, test_centroid2, atlasProjected_pts_centered\n",
    "    \n",
    "    atlasProjected_centroid = atlasProjected_nzs[name_of_interest].mean(axis=0)\n",
    "    test_centroid2 = atlasProjected_centroid.copy()\n",
    "    atlasProjected_pts_centered = {name: nzs - atlasProjected_centroid for name, nzs in atlasProjected_nzs.iteritems()}\n",
    "    \n",
    "    ############ gradient descent ############\n",
    "\n",
    "    dMdv_historical = np.zeros((6,))\n",
    "\n",
    "    score_best = 0\n",
    "    scores = []\n",
    "    \n",
    "    T = T0.copy()\n",
    "\n",
    "    for iteration in range(max_iter):\n",
    "        \n",
    "        T, s = step(T, name=name_of_interest, lr=np.array([1,1,1,1e-2,1e-2,1e-2]), verbose=False,\n",
    "                    num_samples=10000)\n",
    "        \n",
    "#         success = False\n",
    "#         c = 0\n",
    "#         while not success and c < 10:\n",
    "#             try:\n",
    "#                 c += 1\n",
    "#                 T, s = step(T, name=name_of_interest, lr=np.array([1,1,1,1e-2,1e-2,1e-2]), verbose=True,\n",
    "#                             num_samples=None)\n",
    "#                 success = True\n",
    "#             except:\n",
    "#                 pass\n",
    "        \n",
    "#         H = hessian(T, lambda x: score_transform(x, name_of_interest), epsilon=np.array([1e-1, 1e-1, 1e-1, 5,\n",
    "#                                                                                 1e-1, 1e-1, 1e-1, 5,\n",
    "#                                                                                 1e-1, 1e-1, 1e-1, 5]))\n",
    "#         print H.diagonal()[[3,7,11]]\n",
    "#         print H.diagonal()\n",
    "#         print np.sum(H.diagonal()[[3, 7, 11]])\n",
    "            \n",
    "        scores.append(s)\n",
    "\n",
    "        if iteration > 2*history_len:\n",
    "            if np.abs(np.mean(scores[iteration-history_len:iteration]) - \\\n",
    "                      np.mean(scores[iteration-2*history_len:iteration-history_len])) < 1e-5:\n",
    "                break\n",
    "\n",
    "        if s > score_best:\n",
    "            best_gradient_descent_params = T\n",
    "            score_best = s\n",
    "    \n",
    "#     H = hessian(T, lambda x: score_transform(x, name_of_interest), epsilon=np.array([1e-1, 1e-1, 1e-1, 5,\n",
    "#                                                                                 1e-1, 1e-1, 1e-1, 5,\n",
    "#                                                                                 1e-1, 1e-1, 1e-1, 5]))\n",
    "#     hessian_allLandmarks[name_of_interest] = H.diagonal()\n",
    "#     np.save(params_dir + '/%(stack)s_%(name)s_transformUponAffineProjection_hessian.npy' % \\\n",
    "#             {'stack': stack, 'name': name_of_interest}, H)\n",
    "    \n",
    "#     with open(params_dir + '/%(stack)s_%(name)s_transformUponAffineProjection_hessian.txt' % {'stack': stack, 'name': name_of_interest}, \n",
    "#               'w') as f:\n",
    "#         f.write((' '.join(['%f']*12)+'\\n') % tuple(best_gradient_descent_params))\n",
    "    \n",
    "#     print np.sum(H.diagonal())\n",
    "    \n",
    "#     print score_best\n",
    "#     print best_gradient_descent_params.reshape((3,4))\n",
    "\n",
    "#     print scores[0]\n",
    "#     print scores[-1]\n",
    "\n",
    "    plt.plot(scores);\n",
    "    plt.show();\n",
    "    \n",
    "    with open(params_dir + '/%(stack)s_%(name)s_transformUponAffineProjection.txt' % {'stack': stack, 'name': name_of_interest}, \n",
    "              'w') as f:\n",
    "        f.write((' '.join(['%f']*12)+'\\n') % tuple(best_gradient_descent_params))\n",
    "        f.write((' '.join(['%d']*3)+'\\n') % tuple(np.r_[test_xdim, test_ydim, test_zdim]))\n",
    "        f.write((' '.join(['%.1f']*3)+'\\n') % tuple(atlasProjected_centroid))\n",
    "        f.write((' '.join(['%.1f']*3)+'\\n') % tuple(test_centroid2))"
   ]
  }
 ],
 "metadata": {
  "kernelspec": {
   "display_name": "Python 2",
   "language": "python",
   "name": "python2"
  },
  "language_info": {
   "codemirror_mode": {
    "name": "ipython",
    "version": 2
   },
   "file_extension": ".py",
   "mimetype": "text/x-python",
   "name": "python",
   "nbconvert_exporter": "python",
   "pygments_lexer": "ipython2",
   "version": "2.7.3"
  }
 },
 "nbformat": 4,
 "nbformat_minor": 0
}
