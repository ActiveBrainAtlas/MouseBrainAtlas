{
 "cells": [
  {
   "cell_type": "code",
   "execution_count": 39,
   "metadata": {
    "collapsed": false
   },
   "outputs": [
    {
     "name": "stdout",
     "output_type": "stream",
     "text": [
      "The autoreload extension is already loaded. To reload it, use:\n",
      "  %reload_ext autoreload\n"
     ]
    }
   ],
   "source": [
    "%load_ext autoreload\n",
    "%autoreload 2\n",
    "\n",
    "import numpy as np\n",
    "\n",
    "import sys\n",
    "import os\n",
    "\n",
    "sys.path.append(os.environ['REPO_DIR'] + '/utilities')\n",
    "from utilities2015 import *\n",
    "from registration_utilities import *\n",
    "from metadata import *\n",
    "from data_manager import *\n",
    "\n",
    "import matplotlib.pyplot as plt\n",
    "%matplotlib inline\n",
    "\n",
    "from joblib import Parallel, delayed\n",
    "import time"
   ]
  },
  {
   "cell_type": "code",
   "execution_count": 2,
   "metadata": {
    "collapsed": true
   },
   "outputs": [],
   "source": [
    "stack_fixed = 'MD590'\n",
    "train_sample_scheme = 1\n",
    "global_transform_scheme = 1\n",
    "trial_idx = 1"
   ]
  },
  {
   "cell_type": "code",
   "execution_count": null,
   "metadata": {
    "collapsed": true
   },
   "outputs": [],
   "source": [
    "stack_moving = 'atlas_on_MD589'"
   ]
  },
  {
   "cell_type": "code",
   "execution_count": 4,
   "metadata": {
    "collapsed": true
   },
   "outputs": [],
   "source": [
    "paired_structures = ['5N', '6N', '7N', '7n', 'Amb', 'LC', 'LRt', 'Pn', 'Tz', 'VLL', 'RMC', 'SNC', 'SNR', '3N', '4N',\n",
    "                    'Sp5I', 'Sp5O', 'Sp5C', 'PBG', '10N', 'VCA', 'VCP', 'DC']\n",
    "singular_structures = ['AP', '12N', 'RtTg', 'SC', 'IC']\n",
    "structures = paired_structures + singular_structures"
   ]
  },
  {
   "cell_type": "code",
   "execution_count": null,
   "metadata": {
    "collapsed": true
   },
   "outputs": [],
   "source": []
  },
  {
   "cell_type": "code",
   "execution_count": null,
   "metadata": {
    "collapsed": true
   },
   "outputs": [],
   "source": [
    "# GLOBAL TRANSFORM"
   ]
  },
  {
   "cell_type": "code",
   "execution_count": 5,
   "metadata": {
    "collapsed": false
   },
   "outputs": [],
   "source": [
    "global_params, centroid_m, centroid_f, xdim_m, ydim_m, zdim_m, xdim_f, ydim_f, zdim_f = \\\n",
    "DataManager.load_global_alignment_parameters(stack_moving=stack_moving,\n",
    "                                            stack_fixed=stack_fixed,\n",
    "                                            train_sample_scheme=train_sample_scheme,\n",
    "                                            global_transform_scheme=global_transform_scheme,\n",
    "                                            trial_idx=trial_idx)"
   ]
  },
  {
   "cell_type": "code",
   "execution_count": null,
   "metadata": {
    "collapsed": false,
    "scrolled": true
   },
   "outputs": [],
   "source": [
    "# Transform moving volume, sided\n",
    "\n",
    "structures_sided = sum([[n] if n in singular_structures else [convert_to_left_name(n), convert_to_right_name(n)]\n",
    "                        for n in structures], [])\n",
    "\n",
    "for name_s in structures_sided:\n",
    "\n",
    "#     print name_s\n",
    "\n",
    "    vol_m = DataManager.load_score_volume(stack=stack_moving, label=name_s, downscale=32)\n",
    "\n",
    "    volume_m_alignedTo_f = \\\n",
    "    transform_volume(vol=vol_m, global_params=global_params, centroid_m=centroid_m, centroid_f=centroid_f,\n",
    "                      xdim_f=xdim_f, ydim_f=ydim_f, zdim_f=zdim_f)\n",
    "\n",
    "    volume_m_alignedTo_f_fn = DataManager.get_transformed_volume_filepath(stack_m=stack_moving, type_m='score',\n",
    "                                            stack_f=stack_fixed, type_f='score',\n",
    "                                            label=name_s,\n",
    "                                            downscale=32,\n",
    "                                            train_sample_scheme_f=train_sample_scheme,\n",
    "                                            global_transform_scheme=global_transform_scheme)\n",
    "\n",
    "    create_if_not_exists(os.path.dirname(volume_m_alignedTo_f_fn))\n",
    "\n",
    "    bp.pack_ndarray_file(volume_m_alignedTo_f, volume_m_alignedTo_f_fn)"
   ]
  },
  {
   "cell_type": "code",
   "execution_count": null,
   "metadata": {
    "collapsed": false,
    "scrolled": true
   },
   "outputs": [],
   "source": [
    "# Transform moving volume, sided, + surround\n",
    "\n",
    "for name_s in structures_sided:\n",
    "\n",
    "#     print name_s + '_surround'\n",
    "\n",
    "    vol_m = DataManager.load_score_volume(stack=stack_moving, label=name_s+'_surround', downscale=32)\n",
    "\n",
    "    volume_m_alignedTo_f = \\\n",
    "    transform_volume(vol=vol_m, global_params=global_params, centroid_m=centroid_m, centroid_f=centroid_f,\n",
    "                      xdim_f=xdim_f, ydim_f=ydim_f, zdim_f=zdim_f)\n",
    "\n",
    "    volume_m_alignedTo_f_fn = DataManager.get_transformed_volume_filepath(stack_m=stack_moving, type_m='score',\n",
    "                                            stack_f=stack_fixed, type_f='score',\n",
    "                                            label=name_s+'_surround',\n",
    "                                            downscale=32,\n",
    "                                            train_sample_scheme_f=train_sample_scheme,\n",
    "                                            global_transform_scheme=global_transform_scheme)\n",
    "\n",
    "    create_if_not_exists(os.path.dirname(volume_m_alignedTo_f_fn))\n",
    "\n",
    "    bp.pack_ndarray_file(volume_m_alignedTo_f, volume_m_alignedTo_f_fn)"
   ]
  },
  {
   "cell_type": "code",
   "execution_count": null,
   "metadata": {
    "collapsed": true
   },
   "outputs": [],
   "source": []
  },
  {
   "cell_type": "code",
   "execution_count": null,
   "metadata": {
    "collapsed": true
   },
   "outputs": [],
   "source": [
    "# LOCAL TRANSFORM"
   ]
  },
  {
   "cell_type": "code",
   "execution_count": 13,
   "metadata": {
    "collapsed": true
   },
   "outputs": [],
   "source": [
    "local_transform_scheme = 1"
   ]
  },
  {
   "cell_type": "code",
   "execution_count": 30,
   "metadata": {
    "collapsed": false
   },
   "outputs": [],
   "source": [
    "# for name_s in ['7N_L']:\n",
    "for name_s in structures_sided:\n",
    "\n",
    "    local_params, centroid_m, centroid_f, xdim_m, ydim_m, zdim_m, xdim_f, ydim_f, zdim_f = \\\n",
    "    DataManager.load_local_alignment_parameters(stack_moving=stack_moving,\n",
    "                                                stack_fixed=stack_fixed,\n",
    "                                                train_sample_scheme=train_sample_scheme,\n",
    "                                                global_transform_scheme=global_transform_scheme,\n",
    "                                                 local_transform_scheme=local_transform_scheme,\n",
    "                                                trial_idx=trial_idx,\n",
    "                                               label=name_s)\n",
    "    \n",
    "    global_transformed_moving_structure_vol = DataManager.load_transformed_volume(stack_m=stack_moving, type_m='score',\n",
    "                                       stack_f=stack_fixed, type_f='score',\n",
    "                                        downscale=32,\n",
    "                                        train_sample_scheme_f=train_sample_scheme, \n",
    "                                        global_transform_scheme=global_transform_scheme, \n",
    "                                        label=name_s)\n",
    "    \n",
    "    local_transformed_moving_structure_vol = transform_volume(vol=global_transformed_moving_structure_vol, \n",
    "                                             global_params=local_params, \n",
    "                                             centroid_m=centroid_m, centroid_f=centroid_f,\n",
    "                                             xdim_f=xdim_f, ydim_f=ydim_f, zdim_f=zdim_f)\n",
    "    \n",
    "    local_transformed_moving_structure_fn = DataManager.get_transformed_volume_filepath(stack_m=stack_moving, type_m='score',\n",
    "                                   stack_f=stack_fixed, type_f='score',\n",
    "                                    downscale=32,\n",
    "                                    train_sample_scheme_f=train_sample_scheme, \n",
    "                                    global_transform_scheme=global_transform_scheme, \n",
    "                                    local_transform_scheme=local_transform_scheme, \n",
    "                                    label=name_s)\n",
    "\n",
    "    create_if_not_exists(os.path.dirname(local_transformed_moving_structure_fn))\n",
    "    bp.pack_ndarray_file(local_transformed_moving_structure_vol, local_transformed_moving_structure_fn)"
   ]
  },
  {
   "cell_type": "code",
   "execution_count": 25,
   "metadata": {
    "collapsed": false
   },
   "outputs": [],
   "source": []
  },
  {
   "cell_type": "code",
   "execution_count": null,
   "metadata": {
    "collapsed": true
   },
   "outputs": [],
   "source": [
    "# GLOBAL TRANSFORM REVERSED"
   ]
  },
  {
   "cell_type": "code",
   "execution_count": 31,
   "metadata": {
    "collapsed": true
   },
   "outputs": [],
   "source": [
    "global_params, centroid_m, centroid_f, xdim_m, ydim_m, zdim_m, xdim_f, ydim_f, zdim_f = \\\n",
    "DataManager.load_global_alignment_parameters(stack_moving=stack_moving,\n",
    "                                            stack_fixed=stack_fixed,\n",
    "                                            train_sample_scheme=train_sample_scheme,\n",
    "                                            global_transform_scheme=global_transform_scheme,\n",
    "                                            trial_idx=trial_idx)"
   ]
  },
  {
   "cell_type": "code",
   "execution_count": 48,
   "metadata": {
    "collapsed": false
   },
   "outputs": [],
   "source": [
    "# for name_s in ['7N_L']:\n",
    "for name_s in structures_sided:\n",
    "    \n",
    "    local_transformed_moving_structure_vol = DataManager.load_transformed_volume(stack_m=stack_moving, type_m='score',\n",
    "                                       stack_f=stack_fixed, type_f='score',\n",
    "                                        downscale=32,\n",
    "                                        train_sample_scheme_f=train_sample_scheme, \n",
    "                                        global_transform_scheme=global_transform_scheme, \n",
    "                                        local_transform_scheme=local_transform_scheme,\n",
    "                                        label=name_s)\n",
    "    \n",
    "    local_transformed_moving_structure_global_reversed_vol = transform_volume_inverse(vol=local_transformed_moving_structure_vol, \n",
    "                                             global_params=global_params, \n",
    "                                             centroid_m=centroid_m, centroid_f=centroid_f,\n",
    "                                             xdim_m=xdim_m, ydim_m=ydim_m, zdim_m=zdim_m)\n",
    "    \n",
    "    local_transformed_moving_structure_global_reversed_fn = DataManager.get_transformed_volume_filepath(stack_m=stack_moving, type_m='score',\n",
    "                                   stack_f=stack_fixed, type_f='score',\n",
    "                                    downscale=32,\n",
    "                                    train_sample_scheme_f=train_sample_scheme, \n",
    "                                    global_transform_scheme=global_transform_scheme, \n",
    "                                    local_transform_scheme=local_transform_scheme, \n",
    "                                    label=name_s, transitive='by')\n",
    "\n",
    "    create_if_not_exists(os.path.dirname(local_transformed_moving_structure_global_reversed_fn))\n",
    "    bp.pack_ndarray_file(local_transformed_moving_structure_global_reversed_vol, local_transformed_moving_structure_global_reversed_fn)"
   ]
  },
  {
   "cell_type": "code",
   "execution_count": null,
   "metadata": {
    "collapsed": true
   },
   "outputs": [],
   "source": []
  }
 ],
 "metadata": {
  "kernelspec": {
   "display_name": "Python 2",
   "language": "python",
   "name": "python2"
  },
  "language_info": {
   "codemirror_mode": {
    "name": "ipython",
    "version": 2
   },
   "file_extension": ".py",
   "mimetype": "text/x-python",
   "name": "python",
   "nbconvert_exporter": "python",
   "pygments_lexer": "ipython2",
   "version": "2.7.3"
  }
 },
 "nbformat": 4,
 "nbformat_minor": 1
}
