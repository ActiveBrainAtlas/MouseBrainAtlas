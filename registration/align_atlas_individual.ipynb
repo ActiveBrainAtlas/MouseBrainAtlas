{
 "cells": [
  {
   "cell_type": "code",
   "execution_count": 1,
   "metadata": {
    "collapsed": true
   },
   "outputs": [],
   "source": [
    "%load_ext autoreload\n",
    "%autoreload 2"
   ]
  },
  {
   "cell_type": "code",
   "execution_count": 2,
   "metadata": {
    "collapsed": false
   },
   "outputs": [
    {
     "name": "stdout",
     "output_type": "stream",
     "text": [
      "Setting environment for Gordon\n"
     ]
    }
   ],
   "source": [
    "import numpy as np\n",
    "\n",
    "import sys\n",
    "import os\n",
    "\n",
    "sys.path.append(os.environ['REPO_DIR'] + '/utilities')\n",
    "from utilities2015 import *\n",
    "from registration_utilities import *\n",
    "\n",
    "from lie import *\n",
    "\n",
    "import matplotlib.pyplot as plt\n",
    "%matplotlib inline\n",
    "\n",
    "from joblib import Parallel, delayed\n",
    "import time\n",
    "\n",
    "import logging"
   ]
  },
  {
   "cell_type": "code",
   "execution_count": 3,
   "metadata": {
    "collapsed": true
   },
   "outputs": [],
   "source": [
    "stack = 'MD589'"
   ]
  },
  {
   "cell_type": "code",
   "execution_count": 4,
   "metadata": {
    "collapsed": true
   },
   "outputs": [],
   "source": [
    "# Load atlasProjected volume\n",
    "\n",
    "atlasProjected_volume = bp.unpack_ndarray_file(os.path.join(volume_dir, '%(stack)s/%(stack)s_atlasProjectedVolume.bp' % {'stack': stack}))\n",
    "\n",
    "available_labels_sided = [labels_sided[i-1] for i in np.unique(atlasProjected_volume) if i > 0]\n",
    "available_labels_unsided = set([labelMap_sidedToUnsided[name] for name in available_labels_sided ])"
   ]
  },
  {
   "cell_type": "code",
   "execution_count": 5,
   "metadata": {
    "collapsed": false
   },
   "outputs": [
    {
     "name": "stderr",
     "output_type": "stream",
     "text": [
      "load atlas: 2.530730 seconds\n"
     ]
    }
   ],
   "source": [
    "def parallel_where(name, num_samples=None):\n",
    "    global atlasProjected_volume, labels_sided_indices\n",
    "    \n",
    "    w = np.where(atlasProjected_volume == labels_sided_indices[name])\n",
    "    \n",
    "    if num_samples is not None:\n",
    "        n = len(w[0])\n",
    "        sample_indices = np.random.choice(range(n), min(num_samples, n), replace=False)\n",
    "        return np.c_[w[1][sample_indices].astype(np.int16), \n",
    "                     w[0][sample_indices].astype(np.int16), \n",
    "                     w[2][sample_indices].astype(np.int16)]\n",
    "    else:\n",
    "        return np.c_[w[1].astype(np.int16), w[0].astype(np.int16), w[2].astype(np.int16)]\n",
    "\n",
    "t = time.time()\n",
    "\n",
    "atlasProjected_nzs = Parallel(n_jobs=16)(delayed(parallel_where)(name_s, num_samples=int(1e5)) \n",
    "                                         for name_s in available_labels_sided)\n",
    "atlasProjected_nzs = dict(zip(available_labels_sided, atlasProjected_nzs))\n",
    "\n",
    "sys.stderr.write('load atlas: %f seconds\\n' % (time.time() - t)) #~ 7s"
   ]
  },
  {
   "cell_type": "code",
   "execution_count": 6,
   "metadata": {
    "collapsed": true
   },
   "outputs": [],
   "source": [
    "atlasProjected_centroid = {name: nzs.mean(axis=0) for name, nzs in atlasProjected_nzs.iteritems()}\n",
    "atlasProjected_pts_centered = {name: nzs - atlasProjected_centroid[name] for name, nzs in atlasProjected_nzs.iteritems()}\n",
    "test_centroid = atlasProjected_centroid.copy()"
   ]
  },
  {
   "cell_type": "code",
   "execution_count": 7,
   "metadata": {
    "collapsed": false
   },
   "outputs": [],
   "source": [
    "params_dir = create_if_not_exists(atlasAlignParams_rootdir + '/' + stack)"
   ]
  },
  {
   "cell_type": "code",
   "execution_count": 8,
   "metadata": {
    "collapsed": false
   },
   "outputs": [
    {
     "name": "stdout",
     "output_type": "stream",
     "text": [
      "838 460 454\n"
     ]
    },
    {
     "name": "stderr",
     "output_type": "stream",
     "text": [
      "load score volumes: 27.311006 seconds\n"
     ]
    }
   ],
   "source": [
    "# Load score volumes\n",
    "\n",
    "t = time.time()\n",
    "\n",
    "volume2_allLabels = {}\n",
    "\n",
    "for name in available_labels_unsided:\n",
    "    \n",
    "    if name == 'BackG':\n",
    "        continue\n",
    "\n",
    "    volume2_roi = bp.unpack_ndarray_file(os.path.join(volume_dir, '%(stack)s/%(stack)s_scoreVolume_%(label)s.bp' % \\\n",
    "                                                      {'stack': stack, 'label': name})).astype(np.float16)\n",
    "    volume2_allLabels[name] = volume2_roi\n",
    "    del volume2_roi\n",
    "\n",
    "test_ydim, test_xdim, test_zdim = volume2_allLabels.values()[0].shape\n",
    "\n",
    "print test_xdim, test_ydim, test_zdim\n",
    "\n",
    "# test_xdim = volume_xmax - volume_xmin + 1\n",
    "# test_ydim = volume_ymax - volume_ymin + 1\n",
    "# test_zdim = volume_zmax - volume_zmin + 1\n",
    "\n",
    "sys.stderr.write('load score volumes: %f seconds\\n' % (time.time() - t))"
   ]
  },
  {
   "cell_type": "code",
   "execution_count": 9,
   "metadata": {
    "collapsed": false
   },
   "outputs": [
    {
     "name": "stderr",
     "output_type": "stream",
     "text": [
      "load gradient RtTg: 7.284836 seconds\n",
      "load gradient VLL: 7.331550 seconds\n",
      "load gradient Tz: 6.140227 seconds\n",
      "load gradient LC: 6.388064 seconds\n",
      "load gradient 7N: 8.727900 seconds\n",
      "load gradient Amb: 18.876865 seconds\n",
      "load gradient 6N: 22.397704 seconds\n",
      "load gradient AP: 21.240719 seconds\n",
      "load gradient 5N: 23.257954 seconds\n",
      "load gradient 12N: 26.817956 seconds\n",
      "load gradient 7n: 18.203069 seconds\n",
      "load gradient R: 21.689346 seconds\n",
      "load gradient Pn: 23.636573 seconds\n",
      "load gradient LRt: 20.174089 seconds\n",
      "overall: 232.173730 seconds\n"
     ]
    }
   ],
   "source": [
    "########### Load Gradient ###########\n",
    "\n",
    "dSdxyz = {name: np.empty((3, test_ydim, test_xdim, test_zdim), dtype=np.float16) for name in available_labels_unsided}\n",
    "\n",
    "t1 = time.time()\n",
    "\n",
    "for name in available_labels_unsided:\n",
    "    \n",
    "    if name == 'BackG':\n",
    "        continue\n",
    "\n",
    "    t = time.time()\n",
    "    \n",
    "    dSdxyz[name][0] = bp.unpack_ndarray_file(volume_dir + '/%(stack)s/%(stack)s_scoreVolume_%(label)s_gx.bp' % {'stack':stack, 'label':name})\n",
    "    dSdxyz[name][1] = bp.unpack_ndarray_file(volume_dir + '/%(stack)s/%(stack)s_scoreVolume_%(label)s_gy.bp' % {'stack':stack, 'label':name})\n",
    "    dSdxyz[name][2] = bp.unpack_ndarray_file(volume_dir + '/%(stack)s/%(stack)s_scoreVolume_%(label)s_gz.bp' % {'stack':stack, 'label':name})\n",
    "    \n",
    "    sys.stderr.write('load gradient %s: %f seconds\\n' % (name, time.time() - t)) # ~7s\n",
    "\n",
    "sys.stderr.write('overall: %f seconds\\n' % (time.time() - t1)) # 140s"
   ]
  },
  {
   "cell_type": "code",
   "execution_count": 10,
   "metadata": {
    "collapsed": false
   },
   "outputs": [],
   "source": [
    "def step_lie(T, name, lr, dMdv_historical, verbose=False, num_samples=1000):\n",
    "    \"\"\"\n",
    "    One optimization step over Lie group SE(3).\n",
    "    \n",
    "    T: flattened 1x12 vector of 3x4 transform matrix\n",
    "    name: landmark class label\n",
    "    lr: learning rate\n",
    "    \"\"\"\n",
    "    \n",
    "    name_unsided = labelMap_sidedToUnsided[name]\n",
    "        \n",
    "    pts_prime = transform_points(T, pts_centered=atlasProjected_pts_centered[name], \n",
    "                                 c_prime=test_centroid[name]).astype(np.int16)\n",
    "    \n",
    "    xs_prime, ys_prime, zs_prime = pts_prime.T\n",
    "        \n",
    "    valid = (xs_prime >= 0) & (ys_prime >= 0) & (zs_prime >= 0) & \\\n",
    "            (xs_prime < test_xdim) & (ys_prime < test_ydim) & (zs_prime < test_zdim)\n",
    "    \n",
    "    if verbose:\n",
    "        print 'nz', np.count_nonzero(valid) \n",
    "        \n",
    "    assert np.count_nonzero(valid) > 0, 'No valid pixel after transform: %s' % name\n",
    "    \n",
    "    xs_prime_valid, ys_prime_valid, zs_prime_valid = pts_prime[valid].T\n",
    "        \n",
    "    voxel_probs_valid = volume2_allLabels[name_unsided][ys_prime_valid, xs_prime_valid, zs_prime_valid] / 1e6\n",
    "    score = voxel_probs_valid.sum()\n",
    "    \n",
    "    if num_samples is not None:\n",
    "        # sample some voxels # this seems to make optimization more stable than using all voxels\n",
    "    \n",
    "        ii = np.random.choice(range(np.count_nonzero(valid)), \n",
    "                              min(num_samples, np.count_nonzero(valid)), \n",
    "                              replace=False)\n",
    "        \n",
    "        dSdx = dSdxyz[name_unsided][0, ys_prime_valid, xs_prime_valid, zs_prime_valid][ii]        \n",
    "        dSdy = dSdxyz[name_unsided][1, ys_prime_valid, xs_prime_valid, zs_prime_valid][ii]\n",
    "        dSdz = dSdxyz[name_unsided][2, ys_prime_valid, xs_prime_valid, zs_prime_valid][ii]\n",
    "        \n",
    "        xss = xs_prime_valid.astype(np.float)[ii]\n",
    "        yss = ys_prime_valid.astype(np.float)[ii]\n",
    "        zss = zs_prime_valid.astype(np.float)[ii]\n",
    "        \n",
    "    else:\n",
    "        # use all voxels    \n",
    "        dSdx = dSdxyz[name_unsided][0, ys_prime_valid, xs_prime_valid, zs_prime_valid]\n",
    "        dSdy = dSdxyz[name_unsided][1, ys_prime_valid, xs_prime_valid, zs_prime_valid]\n",
    "        dSdz = dSdxyz[name_unsided][2, ys_prime_valid, xs_prime_valid, zs_prime_valid]\n",
    "\n",
    "        xss = xs_prime_valid.astype(np.float)\n",
    "        yss = ys_prime_valid.astype(np.float)\n",
    "        zss = zs_prime_valid.astype(np.float)\n",
    "\n",
    "    #############################################\n",
    "    \n",
    "    q = np.c_[dSdx, dSdy, dSdz, -dSdy*zss + dSdz*yss, dSdx*zss - dSdz*xss, -dSdx*yss + dSdy*xss]\n",
    "    \n",
    "    dMdv = q.sum(axis=0)\n",
    "\n",
    "    if verbose:\n",
    "        print 'q:', q\n",
    "        print 'dMdv:', dMdv\n",
    "        print 'score:', score\n",
    "\n",
    "#     lr = np.array([0, 0, 0, 0, 0, 1e-2])\n",
    "#     global dMdv_historical\n",
    "    dMdv_historical += dMdv**2\n",
    "    dMdv_adjusted = dMdv / (1e-10 + np.sqrt(dMdv_historical))\n",
    "    v_opt = lr * dMdv_adjusted # no minus sign because maximizing\n",
    "\n",
    "#     global iteration\n",
    "#     lr = np.array([0, 0, 0, 0, 0, 1e-7])\n",
    "#     v_opt = lr * np.exp(-iteration/1000.) * dMdv # no minus sign because maximizing\n",
    "#     v_opt = lr * dMdv # no minus sign because maximizing\n",
    "\n",
    "    if verbose:\n",
    "        print 'v_opt:', v_opt\n",
    "\n",
    "    theta = np.sqrt(np.sum(v_opt[3:]**2))\n",
    "    if verbose:\n",
    "        print 'theta:', theta\n",
    "    assert theta < np.pi\n",
    "        \n",
    "    exp_w, Vt = matrix_exp_v(v_opt)\n",
    "    \n",
    "    if verbose:\n",
    "        print 'Vt:' , Vt\n",
    "    \n",
    "    Tm = np.reshape(T, (3,4))\n",
    "    t = Tm[:, 3]\n",
    "    R = Tm[:, :3]\n",
    "                        \n",
    "    R_new = np.dot(exp_w, R)\n",
    "    t_new = np.dot(exp_w, t) + Vt\n",
    "    \n",
    "    if verbose:\n",
    "        print '\\n'\n",
    "\n",
    "    return np.column_stack([R_new, t_new]).flatten(), score, dMdv_historical"
   ]
  },
  {
   "cell_type": "code",
   "execution_count": 24,
   "metadata": {
    "collapsed": false
   },
   "outputs": [],
   "source": [
    "def compute_score(T, name, surround=False):\n",
    "        \n",
    "    name_unsided = labelMap_sidedToUnsided[name]\n",
    "    \n",
    "    if not surround:\n",
    "        pts_prime = transform_points(T, pts_centered=atlasProjected_pts_centered[name], \n",
    "                                     c_prime=test_centroid[name]).astype(np.int16)\n",
    "    else:\n",
    "        pts_prime = transform_points(T, pts_centered=surr_pts_centered[name], \n",
    "                                     c_prime=test_centroid[name]).astype(np.int16)\n",
    "                \n",
    "    xs_prime, ys_prime, zs_prime = pts_prime.T\n",
    "    \n",
    "    valid = (xs_prime >= 0) & (ys_prime >= 0) & (zs_prime >= 0) & \\\n",
    "            (xs_prime < test_xdim) & (ys_prime < test_ydim) & (zs_prime < test_zdim)\n",
    "            \n",
    "    assert np.count_nonzero(valid) > 0, 'No valid pixel after transform: %s' % name\n",
    "    \n",
    "    xs_prime_valid, ys_prime_valid, zs_prime_valid = pts_prime[valid].T\n",
    "    \n",
    "    voxel_probs_valid = volume2_allLabels[name_unsided][ys_prime_valid, xs_prime_valid, zs_prime_valid] / 1e6\n",
    "    score = voxel_probs_valid.sum()\n",
    "    \n",
    "    return score\n",
    "\n",
    "def compute_score_and_gradient(T, name, surround=False, num_samples=None):\n",
    "    \"\"\"\n",
    "    Compute score and gradient.\n",
    "    \"\"\"\n",
    "    \n",
    "    name_unsided = labelMap_sidedToUnsided[name]\n",
    "\n",
    "    if not surround:\n",
    "        pts_prime = transform_points(T, pts_centered=atlasProjected_pts_centered[name], \n",
    "                                     c_prime=test_centroid[name]).astype(np.int16)\n",
    "    else:\n",
    "        pts_prime = transform_points(T, pts_centered=surr_pts_centered[name], \n",
    "                                     c_prime=test_centroid[name]).astype(np.int16)\n",
    "\n",
    "    xs_prime, ys_prime, zs_prime = pts_prime.T\n",
    "\n",
    "    valid = (xs_prime >= 0) & (ys_prime >= 0) & (zs_prime >= 0) & \\\n",
    "            (xs_prime < test_xdim) & (ys_prime < test_ydim) & (zs_prime < test_zdim)\n",
    "\n",
    "    assert np.count_nonzero(valid) > 0, 'No valid pixel after transform: %s' % name\n",
    "\n",
    "    xs_prime_valid, ys_prime_valid, zs_prime_valid = pts_prime[valid].T\n",
    "\n",
    "    voxel_probs_valid = volume2_allLabels[name_unsided][ys_prime_valid, xs_prime_valid, zs_prime_valid] / 1e6\n",
    "    score = voxel_probs_valid.sum()\n",
    "    \n",
    "    if num_samples is not None:\n",
    "    \n",
    "        n = np.count_nonzero(valid)\n",
    "        ii = np.random.choice(range(n), min(int(num_samples), n), replace=False)\n",
    "    \n",
    "        Sx = dSdxyz[name_unsided][0, ys_prime_valid, xs_prime_valid, zs_prime_valid][ii]\n",
    "        Sy = dSdxyz[name_unsided][1, ys_prime_valid, xs_prime_valid, zs_prime_valid][ii]\n",
    "        Sz = dSdxyz[name_unsided][2, ys_prime_valid, xs_prime_valid, zs_prime_valid][ii]\n",
    "        \n",
    "        if not surround:\n",
    "            dxs, dys, dzs = atlasProjected_pts_centered[name][valid][ii].T\n",
    "        else:\n",
    "            dxs, dys, dzs = surr_pts_centered[name][valid][ii].T\n",
    "            \n",
    "    else:\n",
    "\n",
    "        Sx = dSdxyz[name_unsided][0, ys_prime_valid, xs_prime_valid, zs_prime_valid]\n",
    "        Sy = dSdxyz[name_unsided][1, ys_prime_valid, xs_prime_valid, zs_prime_valid]\n",
    "        Sz = dSdxyz[name_unsided][2, ys_prime_valid, xs_prime_valid, zs_prime_valid]\n",
    "\n",
    "        if not surround:\n",
    "            dxs, dys, dzs = atlasProjected_pts_centered[name][valid].T\n",
    "        else:\n",
    "            dxs, dys, dzs = surr_pts_centered[name][valid].T\n",
    "\n",
    "    dMdA = np.c_[Sx*dxs, Sx*dys, Sx*dzs, Sx, \n",
    "                  Sy*dxs, Sy*dys, Sy*dzs, Sy,\n",
    "                  Sz*dxs, Sz*dys, Sz*dzs, Sz].sum(axis=0)\n",
    "    \n",
    "    return score, dMdA\n",
    "\n",
    "\n",
    "def step_gd(T, name, lr, dMdA_historical, surround=False, surround_weight=2., num_samples=None):\n",
    "    \"\"\"\n",
    "    One optimization step using gradient descent with Adagrad.\n",
    "    \n",
    "    T: flattened 1x12 vector of 3x4 transform matrix.\n",
    "    name: landmark class label\n",
    "    lr: learning rate\n",
    "    \"\"\"\n",
    "    \n",
    "    score, dMdA = compute_score_and_gradient(T, name, num_samples=num_samples)\n",
    "    \n",
    "    if surround:\n",
    "        s_surr, dMdA_surr = compute_score_and_gradient(T, name, surround=True, num_samples=num_samples)\n",
    "        dMdA -= surround_weight * dMdA_surr\n",
    "        score -= surround_weight * s_surr\n",
    "        \n",
    "    dMdA_historical += dMdA**2\n",
    "    dMdA_adjusted = dMdA / (1e-10 + np.sqrt(dMdA_historical))\n",
    "\n",
    "    new_T = T + lr*dMdA_adjusted\n",
    "    \n",
    "    return new_T, score, dMdA_historical"
   ]
  },
  {
   "cell_type": "code",
   "execution_count": null,
   "metadata": {
    "collapsed": true
   },
   "outputs": [],
   "source": []
  },
  {
   "cell_type": "code",
   "execution_count": 27,
   "metadata": {
    "collapsed": false
   },
   "outputs": [],
   "source": [
    "surr_nzs = get_surround_voxels(atlasProjected_volume, fill=True)\n",
    "surr_nzs = {labels_sided[name_s_ind]: nzs for name_s_ind, nzs in surr_nzs.iteritems() \n",
    "            if labels_sided[name_s_ind] in available_labels_sided}\n",
    "surr_pts_centered = {name: nzs - test_centroid[name] for name, nzs in surr_nzs.iteritems()}"
   ]
  },
  {
   "cell_type": "code",
   "execution_count": null,
   "metadata": {
    "collapsed": true
   },
   "outputs": [],
   "source": []
  },
  {
   "cell_type": "code",
   "execution_count": 30,
   "metadata": {
    "collapsed": false
   },
   "outputs": [
    {
     "name": "stdout",
     "output_type": "stream",
     "text": [
      "7n_R\n"
     ]
    },
    {
     "data": {
      "image/png": "[encoded data removed]",
      "text/plain": [
       "<matplotlib.figure.Figure at 0xd64c0d0>"
      ]
     },
     "metadata": {},
     "output_type": "display_data"
    },
    {
     "name": "stdout",
     "output_type": "stream",
     "text": [
      "[[  9.90714790e-01  -1.21925300e-01  -6.01533516e-02  -5.29201631e+00]\n",
      " [  1.21834362e-01   9.92536872e-01  -5.19093426e-03   1.20193562e+01]\n",
      " [  6.03373256e-02  -2.18600985e-03   9.98175650e-01   1.17442913e+01]]\n"
     ]
    }
   ],
   "source": [
    "history_len = 200\n",
    "T0 = np.array([1,0,0,0,0,1,0,0,0,0,1,0])\n",
    "max_iter = 100\n",
    "\n",
    "# for name_of_interest in available_labels_sided:\n",
    "for name_of_interest in ['7n_R']:\n",
    "\n",
    "    if name_of_interest == 'BackG' or name_of_interest == 'outerContour':\n",
    "        continue\n",
    "    \n",
    "    print name_of_interest\n",
    "    \n",
    "    # set the rotation center of both atlas and test volume to the landmark centroid after affine projection\n",
    "    \n",
    "#     global atlasProjected_centroid, test_centroid, atlasProjected_pts_centered\n",
    "        \n",
    "#     atlasProjected_centroid = atlasProjected_nzs[name_of_interest].mean(axis=0)\n",
    "#     test_centroid = atlasProjected_centroid[name_of_interest].copy()\n",
    "    \n",
    "    ############ gradient descent ############\n",
    "\n",
    "    dMdv_historical = np.zeros((6,))\n",
    "#     dMdA_historical = np.zeros((12,))\n",
    "\n",
    "    score_best = 0\n",
    "    scores = []\n",
    "    \n",
    "    T = T0.copy()\n",
    "\n",
    "    for iteration in range(max_iter):\n",
    "        \n",
    "        T, s, dMdv_historical = step_lie(T, name=name_of_interest, lr=np.array([1,1,1,1e-2,1e-2,1e-2]), \n",
    "                        dMdv_historical=dMdv_historical, verbose=False, num_samples=10000)\n",
    "\n",
    "#         lr1, lr2 = (1., 1e-2)\n",
    "#         lr = np.r_[lr2, lr2, lr2, lr1, lr2, lr2, lr2, lr1, lr2, lr2, lr2, lr1]\n",
    "#         T, s, dMdA_historical = step_gd(T, name=name_of_interest, lr=lr, dMdA_historical=dMdA_historical,\n",
    "#                                        surround=True, surround_weight=2.)\n",
    "        \n",
    "#         success = False\n",
    "#         c = 0\n",
    "#         while not success and c < 10:\n",
    "#             try:\n",
    "#                 c += 1\n",
    "#                 T, s = step(T, name=name_of_interest, lr=np.array([1,1,1,1e-2,1e-2,1e-2]), verbose=True,\n",
    "#                             num_samples=None)\n",
    "#                 success = True\n",
    "#             except:\n",
    "#                 pass\n",
    "            \n",
    "        scores.append(s)\n",
    "\n",
    "        if iteration > 2*history_len:\n",
    "            if np.abs(np.mean(scores[iteration-history_len:iteration]) - \\\n",
    "                      np.mean(scores[iteration-2*history_len:iteration-history_len])) < 1e-5:\n",
    "                break\n",
    "\n",
    "        if s > score_best:\n",
    "            best_gradient_descent_params = T\n",
    "            score_best = s\n",
    "    \n",
    "    plt.plot(scores);\n",
    "    plt.show();\n",
    "    \n",
    "    print best_gradient_descent_params.reshape((3,4))\n",
    "    \n",
    "#     np.save(atlasAlignOptLogs_dir + '/%(stack)s_%(name)s_scoreEvolutions_transformUponAffineProjection.npy' % \\\n",
    "#             {'stack':stack, 'name': name_of_interest}, scores)\n",
    "    \n",
    "#     with open(params_dir + '/%(stack)s_%(name)s_transformUponAffineProjection.txt' % {'stack': stack, 'name': name_of_interest}, \n",
    "#               'w') as f:\n",
    "#         f.write((' '.join(['%f']*12)+'\\n') % tuple(best_gradient_descent_params))\n",
    "#         f.write((' '.join(['%d']*3)+'\\n') % tuple(np.r_[test_xdim, test_ydim, test_zdim]))\n",
    "#         f.write((' '.join(['%.1f']*3)+'\\n') % tuple(atlasProjected_centroid[name_of_interest]))\n",
    "#         f.write((' '.join(['%.1f']*3)+'\\n') % tuple(test_centroid[name_of_interest]))"
   ]
  },
  {
   "cell_type": "code",
   "execution_count": null,
   "metadata": {
    "collapsed": true
   },
   "outputs": [],
   "source": []
  }
 ],
 "metadata": {
  "kernelspec": {
   "display_name": "Python 2",
   "language": "python",
   "name": "python2"
  },
  "language_info": {
   "codemirror_mode": {
    "name": "ipython",
    "version": 2
   },
   "file_extension": ".py",
   "mimetype": "text/x-python",
   "name": "python",
   "nbconvert_exporter": "python",
   "pygments_lexer": "ipython2",
   "version": "2.7.3"
  }
 },
 "nbformat": 4,
 "nbformat_minor": 0
}
