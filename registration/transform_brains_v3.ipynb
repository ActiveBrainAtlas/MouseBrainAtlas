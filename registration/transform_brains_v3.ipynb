{
 "cells": [
  {
   "cell_type": "code",
   "execution_count": 1,
   "metadata": {
    "collapsed": false
   },
   "outputs": [
    {
     "name": "stdout",
     "output_type": "stream",
     "text": [
      "Setting environment for Gordon\n"
     ]
    },
    {
     "name": "stderr",
     "output_type": "stream",
     "text": [
      "No vtk\n"
     ]
    }
   ],
   "source": [
    "%load_ext autoreload\n",
    "%autoreload 2\n",
    "\n",
    "import sys\n",
    "import os\n",
    "import time\n",
    "\n",
    "import numpy as np\n",
    "import matplotlib.pyplot as plt\n",
    "%matplotlib inline\n",
    "\n",
    "sys.path.append(os.environ['REPO_DIR'] + '/utilities')\n",
    "from utilities2015 import *\n",
    "from registration_utilities import *\n",
    "from metadata import *\n",
    "from data_manager import *"
   ]
  },
  {
   "cell_type": "code",
   "execution_count": 2,
   "metadata": {
    "collapsed": true
   },
   "outputs": [],
   "source": [
    "stack_fixed = 'MD642'\n",
    "stack_moving = 'atlasV2'\n",
    "\n",
    "classifier_setting = 2"
   ]
  },
  {
   "cell_type": "markdown",
   "metadata": {},
   "source": [
    "# Global Transform - between two annotation volumes"
   ]
  },
  {
   "cell_type": "code",
   "execution_count": 56,
   "metadata": {
    "collapsed": false
   },
   "outputs": [],
   "source": [
    "global_params, centroid_m, centroid_f, xdim_m, ydim_m, zdim_m, xdim_f, ydim_f, zdim_f = \\\n",
    "DataManager.load_global_alignment_parameters(stack_moving=stack_moving, moving_volume_type='annotation',\n",
    "                                            stack_fixed=stack_fixed, fixed_volume_type='annotation',\n",
    "                                            global_transform_scheme=global_transform_scheme)"
   ]
  },
  {
   "cell_type": "code",
   "execution_count": 84,
   "metadata": {
    "collapsed": false
   },
   "outputs": [],
   "source": [
    "vol_m = DataManager.load_annotation_volume(stack=stack_moving, downscale=32)\n",
    "\n",
    "volume_m_alignedTo_f = \\\n",
    "transform_volume(vol=vol_m, global_params=global_params, centroid_m=centroid_m, centroid_f=centroid_f,\n",
    "                  xdim_f=xdim_f, ydim_f=ydim_f, zdim_f=zdim_f)\n",
    "\n",
    "volume_m_alignedTo_f_fn = DataManager.get_transformed_volume_filepath(stack_m=stack_moving, type_m='annotation',\n",
    "                                        stack_f=stack_fixed, type_f='annotation',\n",
    "                                        downscale=32,\n",
    "                                        global_transform_scheme=global_transform_scheme)\n",
    "\n",
    "create_if_not_exists(os.path.dirname(volume_m_alignedTo_f_fn))\n",
    "bp.pack_ndarray_file(volume_m_alignedTo_f, volume_m_alignedTo_f_fn)"
   ]
  },
  {
   "cell_type": "code",
   "execution_count": null,
   "metadata": {
    "collapsed": false
   },
   "outputs": [],
   "source": [
    "display_volume_sections(volume_m_alignedTo_f)"
   ]
  },
  {
   "cell_type": "markdown",
   "metadata": {},
   "source": [
    "# Global Transform Annotation Volumes"
   ]
  },
  {
   "cell_type": "code",
   "execution_count": 21,
   "metadata": {
    "collapsed": false
   },
   "outputs": [],
   "source": [
    "stack_fixed = 'MD589'\n",
    "stack_moving = 'MD585'"
   ]
  },
  {
   "cell_type": "code",
   "execution_count": 22,
   "metadata": {
    "collapsed": true
   },
   "outputs": [],
   "source": [
    "warp_setting = 9\n",
    "\n",
    "if warp_setting == 1:\n",
    "    upstream_warp_setting = None\n",
    "    transform_type = 'affine'\n",
    "elif warp_setting == 7:\n",
    "    upstream_warp_setting = None\n",
    "    transform_type = 'rigid'\n",
    "elif warp_setting == 8:\n",
    "    upstream_warp_setting = None\n",
    "    transform_type = None\n",
    "elif warp_setting == 9:\n",
    "    upstream_warp_setting = 8\n",
    "    transform_type = 'rigid'\n",
    "else:\n",
    "    raise Exception('Warp setting not recognized.')"
   ]
  },
  {
   "cell_type": "code",
   "execution_count": 23,
   "metadata": {
    "collapsed": false
   },
   "outputs": [],
   "source": [
    "# Load transform parameters\n",
    "\n",
    "global_params, centroid_m, centroid_f, xdim_m, ydim_m, zdim_m, xdim_f, ydim_f, zdim_f = \\\n",
    "DataManager.load_alignment_parameters(stack_m=stack_moving, stack_f=stack_fixed,\n",
    "                                      type_f='annotation_as_score',\n",
    "                                      type_m='annotation_as_score',\n",
    "                                      warp_setting=warp_setting,\n",
    "                                      trial_idx=0)"
   ]
  },
  {
   "cell_type": "code",
   "execution_count": 24,
   "metadata": {
    "collapsed": false,
    "scrolled": true
   },
   "outputs": [
    {
     "name": "stderr",
     "output_type": "stream",
     "text": [
      "Transform: 1.79 seconds.\n",
      "Transform: 1.77 seconds.\n",
      "Transform: 1.76 seconds.\n",
      "Transform: 1.76 seconds.\n",
      "Transform: 1.79 seconds.\n",
      "Transform: 1.79 seconds.\n",
      "Transform: 1.82 seconds.\n",
      "Transform: 1.82 seconds.\n",
      "Transform: 1.76 seconds.\n",
      "Transform: 1.76 seconds.\n",
      "Transform: 1.77 seconds.\n",
      "Transform: 1.76 seconds.\n",
      "Transform: 1.79 seconds.\n",
      "Transform: 1.79 seconds.\n",
      "Transform: 1.81 seconds.\n",
      "Transform: 1.80 seconds.\n",
      "Transform: 1.78 seconds.\n",
      "Transform: 1.78 seconds.\n",
      "Transform: 1.81 seconds.\n",
      "Transform: 1.80 seconds.\n",
      "Transform: 1.78 seconds.\n",
      "Transform: 1.78 seconds.\n",
      "Transform: 1.80 seconds.\n",
      "Transform: 1.81 seconds.\n",
      "Transform: 1.90 seconds.\n",
      "Transform: 1.88 seconds.\n",
      "Transform: 1.77 seconds.\n",
      "Transform: 1.77 seconds.\n",
      "Transform: 1.77 seconds.\n",
      "Transform: 1.77 seconds.\n",
      "Transform: 1.80 seconds.\n",
      "Transform: 1.79 seconds.\n",
      "Transform: 1.78 seconds.\n",
      "Transform: 1.80 seconds.\n",
      "Transform: 1.86 seconds.\n",
      "Transform: 1.85 seconds.\n",
      "Transform: 1.77 seconds.\n",
      "Transform: 1.77 seconds.\n",
      "Transform: 1.78 seconds.\n",
      "Transform: 1.78 seconds.\n",
      "Transform: 1.80 seconds.\n",
      "Transform: 1.80 seconds.\n",
      "Transform: 1.78 seconds.\n",
      "Transform: 1.79 seconds.\n",
      "Transform: 1.81 seconds.\n",
      "Transform: 1.80 seconds.\n",
      "Transform: 1.77 seconds.\n",
      "Transform: 1.80 seconds.\n",
      "Transform: 1.86 seconds.\n",
      "File does not exist: /oasis/projects/nsf/csd395/yuncong/CSHL_volumes/MD594/MD594_down32_annotationAsScoreVolume_warp_8_MD589_down32_annotationAsScoreVolume_trial_0/score_volumes/MD594_down32_annotationAsScoreVolume_warp_8_MD589_down32_annotationAsScoreVolume_trial_0_sp5.bp\n",
      "[Errno 2] No such file or directory: '/oasis/projects/nsf/csd395/yuncong/CSHL_volumes/MD594/MD594_down32_annotationAsScoreVolume_warp_8_MD589_down32_annotationAsScoreVolume_trial_0/score_volumes/MD594_down32_annotationAsScoreVolume_warp_8_MD589_down32_annotationAsScoreVolume_trial_0_sp5.bp'\n",
      "Error transforming volume sp5.\n",
      "File does not exist: /oasis/projects/nsf/csd395/yuncong/CSHL_volumes/MD594/MD594_down32_annotationAsScoreVolume_warp_8_MD589_down32_annotationAsScoreVolume_trial_0/score_volumes/MD594_down32_annotationAsScoreVolume_warp_8_MD589_down32_annotationAsScoreVolume_trial_0_outerContour.bp\n",
      "[Errno 2] No such file or directory: '/oasis/projects/nsf/csd395/yuncong/CSHL_volumes/MD594/MD594_down32_annotationAsScoreVolume_warp_8_MD589_down32_annotationAsScoreVolume_trial_0/score_volumes/MD594_down32_annotationAsScoreVolume_warp_8_MD589_down32_annotationAsScoreVolume_trial_0_outerContour.bp'\n",
      "Error transforming volume outerContour.\n",
      "Transform: 2.38 seconds.\n",
      "Transform: 2.12 seconds.\n"
     ]
    }
   ],
   "source": [
    "# for structure in all_known_structures_sided_with_surround:\n",
    "for structure in all_known_structures_sided:\n",
    "# for structure in ['7N_L']:\n",
    "    \n",
    "    try:\n",
    "        t = time.time()\n",
    "\n",
    "        vol_m = DataManager.load_transformed_volume(stack_m=stack_moving, stack_f=stack_fixed,\n",
    "                                                          type_m='annotation_as_score', \n",
    "                                                          type_f='annotation_as_score',\n",
    "                                                         warp_setting=upstream_warp_setting,\n",
    "                                                         structure=structure)\n",
    "        \n",
    "        volume_m_alignedTo_f = \\\n",
    "        transform_volume(vol=vol_m, global_params=global_params, centroid_m=centroid_m, centroid_f=centroid_f,\n",
    "                          xdim_f=xdim_f, ydim_f=ydim_f, zdim_f=zdim_f)\n",
    "\n",
    "        volume_m_alignedTo_f_fn = \\\n",
    "        DataManager.get_transformed_volume_filepath(stack_m=stack_moving, stack_f=stack_fixed,\n",
    "                                                    type_m='annotation_as_score',\n",
    "                                                    type_f='annotation_as_score',\n",
    "                                                    warp_setting=warp_setting,\n",
    "                                                    structure=structure)\n",
    "\n",
    "        create_if_not_exists(os.path.dirname(volume_m_alignedTo_f_fn))\n",
    "        bp.pack_ndarray_file(volume_m_alignedTo_f, volume_m_alignedTo_f_fn)\n",
    "    \n",
    "        sys.stderr.write('Transform: %.2f seconds.\\n' % (time.time() - t)) # 3s\n",
    "    \n",
    "    except Exception as e:\n",
    "        sys.stderr.write('%s\\n' % e)\n",
    "        sys.stderr.write('Error transforming volume %s.\\n' % structure)"
   ]
  },
  {
   "cell_type": "markdown",
   "metadata": {
    "collapsed": true
   },
   "source": [
    "# Global Transform"
   ]
  },
  {
   "cell_type": "code",
   "execution_count": 3,
   "metadata": {
    "collapsed": false
   },
   "outputs": [],
   "source": [
    "warp_setting = 1\n",
    "trial_idx = 0"
   ]
  },
  {
   "cell_type": "code",
   "execution_count": 4,
   "metadata": {
    "collapsed": false,
    "scrolled": true
   },
   "outputs": [],
   "source": [
    "# Load transform parameters\n",
    "\n",
    "global_params, centroid_m, centroid_f, xdim_m, ydim_m, zdim_m, xdim_f, ydim_f, zdim_f = \\\n",
    "DataManager.load_alignment_parameters(stack_m=stack_moving, stack_f=stack_fixed,\n",
    "                                      classifier_setting_m=classifier_setting,\n",
    "                                      classifier_setting_f=classifier_setting,\n",
    "                                      warp_setting=warp_setting,\n",
    "                                      trial_idx=0)"
   ]
  },
  {
   "cell_type": "code",
   "execution_count": 5,
   "metadata": {
    "collapsed": false,
    "scrolled": true
   },
   "outputs": [
    {
     "name": "stderr",
     "output_type": "stream",
     "text": [
      "Transform: 2.52 seconds.\n",
      "Transform: 2.66 seconds.\n",
      "Transform: 2.51 seconds.\n",
      "Transform: 2.60 seconds.\n",
      "Transform: 2.54 seconds.\n",
      "Transform: 2.67 seconds.\n",
      "Transform: 2.50 seconds.\n",
      "Transform: 2.56 seconds.\n",
      "Transform: 2.50 seconds.\n",
      "Transform: 2.52 seconds.\n",
      "Transform: 2.44 seconds.\n",
      "Transform: 2.50 seconds.\n",
      "Transform: 2.45 seconds.\n",
      "Transform: 2.52 seconds.\n",
      "Transform: 2.47 seconds.\n",
      "Transform: 2.57 seconds.\n",
      "Transform: 2.46 seconds.\n",
      "Transform: 2.58 seconds.\n",
      "Transform: 2.47 seconds.\n",
      "Transform: 2.52 seconds.\n",
      "Transform: 2.48 seconds.\n",
      "Transform: 2.55 seconds.\n",
      "Transform: 2.48 seconds.\n",
      "Transform: 2.67 seconds.\n",
      "Transform: 2.48 seconds.\n",
      "Transform: 2.62 seconds.\n",
      "Transform: 2.50 seconds.\n",
      "Transform: 2.64 seconds.\n",
      "Transform: 2.52 seconds.\n",
      "Transform: 2.65 seconds.\n",
      "Transform: 2.47 seconds.\n",
      "Transform: 2.76 seconds.\n",
      "Transform: 2.45 seconds.\n",
      "Transform: 2.62 seconds.\n",
      "Transform: 2.45 seconds.\n",
      "Transform: 2.55 seconds.\n",
      "Transform: 2.51 seconds.\n",
      "Transform: 2.67 seconds.\n",
      "Transform: 2.51 seconds.\n",
      "Transform: 2.67 seconds.\n",
      "Transform: 2.96 seconds.\n",
      "Transform: 3.34 seconds.\n",
      "Transform: 2.45 seconds.\n",
      "Transform: 2.53 seconds.\n",
      "Transform: 2.45 seconds.\n",
      "Transform: 2.53 seconds.\n",
      "Transform: 2.47 seconds.\n",
      "Transform: 2.63 seconds.\n",
      "Transform: 2.50 seconds.\n",
      "Transform: 2.58 seconds.\n",
      "Transform: 2.45 seconds.\n",
      "Transform: 2.53 seconds.\n",
      "Transform: 2.45 seconds.\n",
      "Transform: 2.53 seconds.\n",
      "Transform: 2.52 seconds.\n",
      "Transform: 2.65 seconds.\n",
      "Transform: 2.51 seconds.\n",
      "Transform: 2.65 seconds.\n",
      "Transform: 2.46 seconds.\n",
      "Transform: 2.57 seconds.\n",
      "Transform: 2.46 seconds.\n",
      "Transform: 2.72 seconds.\n",
      "Transform: 2.59 seconds.\n",
      "Transform: 2.87 seconds.\n",
      "Transform: 3.36 seconds.\n",
      "Transform: 3.73 seconds.\n",
      "Transform: 2.48 seconds.\n",
      "Transform: 2.61 seconds.\n",
      "Transform: 2.48 seconds.\n",
      "Transform: 2.59 seconds.\n",
      "Transform: 2.61 seconds.\n",
      "Transform: 2.81 seconds.\n",
      "Transform: 2.58 seconds.\n",
      "Transform: 2.78 seconds.\n",
      "Transform: 2.61 seconds.\n",
      "Transform: 2.81 seconds.\n",
      "Transform: 2.59 seconds.\n",
      "Transform: 2.80 seconds.\n",
      "Transform: 2.55 seconds.\n",
      "Transform: 2.74 seconds.\n",
      "Transform: 2.52 seconds.\n",
      "Transform: 2.72 seconds.\n",
      "Transform: 2.52 seconds.\n",
      "Transform: 2.70 seconds.\n",
      "Transform: 2.51 seconds.\n",
      "Transform: 2.70 seconds.\n",
      "Transform: 2.46 seconds.\n",
      "Transform: 2.56 seconds.\n",
      "Transform: 2.46 seconds.\n",
      "Transform: 2.56 seconds.\n",
      "Transform: 2.48 seconds.\n",
      "Transform: 2.59 seconds.\n",
      "Transform: 2.49 seconds.\n",
      "Transform: 2.60 seconds.\n",
      "Transform: 2.47 seconds.\n",
      "Transform: 2.57 seconds.\n",
      "Transform: 2.50 seconds.\n",
      "Transform: 2.60 seconds.\n",
      "Transform: 2.52 seconds.\n",
      "Transform: 2.71 seconds.\n",
      "Transform: 2.51 seconds.\n",
      "Transform: 2.69 seconds.\n",
      "File does not exist: /oasis/projects/nsf/csd395/yuncong/CSHL_volumes/atlasV2/atlasV2_down32_scoreVolume/score_volumes/atlasV2_down32_scoreVolume_outerContour.bp\n",
      "[Errno 2] No such file or directory: '/oasis/projects/nsf/csd395/yuncong/CSHL_volumes/atlasV2/atlasV2_down32_scoreVolume/score_volumes/atlasV2_down32_scoreVolume_outerContour.bp'\n",
      "Error transforming volume outerContour.\n",
      "File does not exist: /oasis/projects/nsf/csd395/yuncong/CSHL_volumes/atlasV2/atlasV2_down32_scoreVolume/score_volumes/atlasV2_down32_scoreVolume_outerContour_surround_x1.5.bp\n",
      "[Errno 2] No such file or directory: '/oasis/projects/nsf/csd395/yuncong/CSHL_volumes/atlasV2/atlasV2_down32_scoreVolume/score_volumes/atlasV2_down32_scoreVolume_outerContour_surround_x1.5.bp'\n",
      "Error transforming volume outerContour_surround_x1.5.\n",
      "File does not exist: /oasis/projects/nsf/csd395/yuncong/CSHL_volumes/atlasV2/atlasV2_down32_scoreVolume/score_volumes/atlasV2_down32_scoreVolume_sp5.bp\n",
      "[Errno 2] No such file or directory: '/oasis/projects/nsf/csd395/yuncong/CSHL_volumes/atlasV2/atlasV2_down32_scoreVolume/score_volumes/atlasV2_down32_scoreVolume_sp5.bp'\n",
      "Error transforming volume sp5.\n",
      "File does not exist: /oasis/projects/nsf/csd395/yuncong/CSHL_volumes/atlasV2/atlasV2_down32_scoreVolume/score_volumes/atlasV2_down32_scoreVolume_sp5_surround_x1.5.bp\n",
      "[Errno 2] No such file or directory: '/oasis/projects/nsf/csd395/yuncong/CSHL_volumes/atlasV2/atlasV2_down32_scoreVolume/score_volumes/atlasV2_down32_scoreVolume_sp5_surround_x1.5.bp'\n",
      "Error transforming volume sp5_surround_x1.5.\n"
     ]
    }
   ],
   "source": [
    "# Transform moving volume, sided, without surround\n",
    "\n",
    "for structure in all_known_structures_sided_with_surround:\n",
    "# for structure in all_known_structures_sided:\n",
    "# for structure in ['7N_L']:\n",
    "    \n",
    "    try:\n",
    "        t = time.time()\n",
    "\n",
    "        vol_m = DataManager.load_score_volume(stack=stack_moving, structure=structure, downscale=32)\n",
    "\n",
    "        volume_m_alignedTo_f = \\\n",
    "        transform_volume(vol=vol_m, global_params=global_params, centroid_m=centroid_m, centroid_f=centroid_f,\n",
    "                          xdim_f=xdim_f, ydim_f=ydim_f, zdim_f=zdim_f)\n",
    "\n",
    "        volume_m_alignedTo_f_fn = \\\n",
    "        DataManager.get_transformed_volume_filepath(stack_m=stack_moving, type_m='score',\n",
    "                                                    stack_f=stack_fixed, type_f='score',\n",
    "                                                    downscale=32,\n",
    "                                                    classifier_setting_m=classifier_setting,\n",
    "                                                    classifier_setting_f=classifier_setting,\n",
    "                                                    warp_setting=warp_setting,\n",
    "                                                    structure=structure)\n",
    "\n",
    "        create_if_not_exists(os.path.dirname(volume_m_alignedTo_f_fn))\n",
    "        bp.pack_ndarray_file(volume_m_alignedTo_f, volume_m_alignedTo_f_fn)\n",
    "    \n",
    "        sys.stderr.write('Transform: %.2f seconds.\\n' % (time.time() - t)) # 3s\n",
    "    \n",
    "    except Exception as e:\n",
    "        sys.stderr.write('%s\\n' % e)\n",
    "        sys.stderr.write('Error transforming volume %s.\\n' % structure)"
   ]
  },
  {
   "cell_type": "markdown",
   "metadata": {},
   "source": [
    "# Read"
   ]
  },
  {
   "cell_type": "code",
   "execution_count": 6,
   "metadata": {
    "collapsed": true
   },
   "outputs": [],
   "source": [
    "warp_setting = 1\n",
    "trial_idx = 0"
   ]
  },
  {
   "cell_type": "code",
   "execution_count": 7,
   "metadata": {
    "collapsed": false
   },
   "outputs": [],
   "source": [
    "# Read transformed volumes\n",
    "\n",
    "structure = '7N_L'\n",
    "\n",
    "warped_volume = DataManager.load_transformed_volume(stack_m=stack_moving, \n",
    "                                                                          stack_f=stack_fixed, \n",
    "                                    classifier_setting_m=classifier_setting,\n",
    "                                    classifier_setting_f=classifier_setting,\n",
    "                                    warp_setting=warp_setting,\n",
    "                                    trial_idx=0, structure=structure)"
   ]
  },
  {
   "cell_type": "code",
   "execution_count": null,
   "metadata": {
    "collapsed": false
   },
   "outputs": [],
   "source": [
    "display_volume_sections(warped_volume)"
   ]
  },
  {
   "cell_type": "markdown",
   "metadata": {
    "collapsed": true
   },
   "source": [
    "# Structure-wise Transform"
   ]
  },
  {
   "cell_type": "code",
   "execution_count": 9,
   "metadata": {
    "collapsed": true
   },
   "outputs": [],
   "source": [
    "classifier_setting = 2\n",
    "warp_setting = 5\n",
    "trial_idx = 0"
   ]
  },
  {
   "cell_type": "code",
   "execution_count": 10,
   "metadata": {
    "collapsed": false
   },
   "outputs": [],
   "source": [
    "if warp_setting == 1:\n",
    "    upstream_warp_setting = None    \n",
    "    transform_type = 'affine'\n",
    "elif warp_setting == 2:\n",
    "    upstream_warp_setting = 1\n",
    "    transform_type = 'rigid'\n",
    "    include_surround = False\n",
    "elif warp_setting == 4:\n",
    "    upstream_warp_setting = 1\n",
    "    transform_type = 'rigid'\n",
    "    reg_weights = np.array([1e-6, 1e-6, 1e-6])\n",
    "    include_surround = False\n",
    "elif warp_setting == 5:\n",
    "    upstream_warp_setting = 1\n",
    "    transform_type = 'rigid'\n",
    "    reg_weights = np.array([0,0,0])\n",
    "    include_surround = True\n",
    "else:\n",
    "    raise Exception('Warp setting not recognized.')\n",
    "    \n",
    "if trial_idx in [0, 1]:\n",
    "    upstream_trial_idx = 0"
   ]
  },
  {
   "cell_type": "code",
   "execution_count": 11,
   "metadata": {
    "collapsed": false,
    "scrolled": true
   },
   "outputs": [
    {
     "name": "stderr",
     "output_type": "stream",
     "text": [
      "Transform: 3.69 seconds.\n",
      "Transform: 3.66 seconds.\n",
      "Transform: 3.66 seconds.\n",
      "Transform: 3.70 seconds.\n",
      "Transform: 3.73 seconds.\n",
      "Transform: 3.73 seconds.\n",
      "Transform: 3.71 seconds.\n",
      "Transform: 3.72 seconds.\n",
      "Transform: 3.66 seconds.\n",
      "Transform: 3.66 seconds.\n",
      "Transform: 3.67 seconds.\n",
      "Transform: 3.68 seconds.\n",
      "Transform: 3.69 seconds.\n",
      "Transform: 3.71 seconds.\n",
      "Transform: 3.72 seconds.\n",
      "Transform: 3.72 seconds.\n",
      "Transform: 3.69 seconds.\n",
      "Transform: 3.66 seconds.\n",
      "Transform: 3.74 seconds.\n",
      "Transform: 3.74 seconds.\n",
      "Transform: 3.68 seconds.\n",
      "Transform: 3.70 seconds.\n",
      "Transform: 3.82 seconds.\n",
      "Transform: 3.69 seconds.\n",
      "Transform: 3.78 seconds.\n",
      "Transform: 3.80 seconds.\n",
      "Transform: 3.65 seconds.\n",
      "Transform: 3.66 seconds.\n",
      "Transform: 3.64 seconds.\n",
      "Transform: 3.64 seconds.\n",
      "Transform: 3.73 seconds.\n",
      "Transform: 3.77 seconds.\n",
      "Transform: 3.74 seconds.\n",
      "Transform: 3.73 seconds.\n",
      "Transform: 3.82 seconds.\n",
      "Transform: 3.87 seconds.\n",
      "Transform: 3.66 seconds.\n",
      "Transform: 3.66 seconds.\n",
      "Transform: 3.65 seconds.\n",
      "Transform: 3.66 seconds.\n",
      "Transform: 3.70 seconds.\n",
      "Transform: 3.79 seconds.\n",
      "Transform: 3.68 seconds.\n",
      "Transform: 3.73 seconds.\n",
      "Transform: 3.72 seconds.\n",
      "Transform: 3.74 seconds.\n",
      "Transform: 3.64 seconds.\n",
      "Transform: 3.67 seconds.\n",
      "Transform: 3.80 seconds.\n",
      "File does not exist: /oasis/projects/nsf/csd395/yuncong/CSHL_registration_parameters/atlasV2/atlasV2_down32_scoreVolume_clf_2_warp_5_MD642_down32_scoreVolume_clf_2_trial_0/atlasV2_down32_scoreVolume_clf_2_warp_5_MD642_down32_scoreVolume_clf_2_trial_0_parameters_sp5.txt\n",
      "[Errno 2] No such file or directory: '/oasis/projects/nsf/csd395/yuncong/CSHL_registration_parameters/atlasV2/atlasV2_down32_scoreVolume_clf_2_warp_5_MD642_down32_scoreVolume_clf_2_trial_0/atlasV2_down32_scoreVolume_clf_2_warp_5_MD642_down32_scoreVolume_clf_2_trial_0_parameters_sp5.txt'\n",
      "Error transforming volume sp5.\n",
      "File does not exist: /oasis/projects/nsf/csd395/yuncong/CSHL_registration_parameters/atlasV2/atlasV2_down32_scoreVolume_clf_2_warp_5_MD642_down32_scoreVolume_clf_2_trial_0/atlasV2_down32_scoreVolume_clf_2_warp_5_MD642_down32_scoreVolume_clf_2_trial_0_parameters_outerContour.txt\n",
      "[Errno 2] No such file or directory: '/oasis/projects/nsf/csd395/yuncong/CSHL_registration_parameters/atlasV2/atlasV2_down32_scoreVolume_clf_2_warp_5_MD642_down32_scoreVolume_clf_2_trial_0/atlasV2_down32_scoreVolume_clf_2_warp_5_MD642_down32_scoreVolume_clf_2_trial_0_parameters_outerContour.txt'\n",
      "Error transforming volume outerContour.\n",
      "Transform: 4.57 seconds.\n",
      "Transform: 4.16 seconds.\n"
     ]
    }
   ],
   "source": [
    "for structure in all_known_structures_sided:\n",
    "\n",
    "    # Load local transform parameters\n",
    "    \n",
    "    try:\n",
    "\n",
    "        t = time.time()\n",
    "        \n",
    "        local_params, centroid_m, centroid_f, xdim_m, ydim_m, zdim_m, xdim_f, ydim_f, zdim_f = \\\n",
    "        DataManager.load_alignment_parameters(stack_m=stack_moving, stack_f=stack_fixed,\n",
    "                                              classifier_setting_m=classifier_setting,\n",
    "                                              classifier_setting_f=classifier_setting,\n",
    "                                              warp_setting=warp_setting,\n",
    "                                              param_suffix=structure,\n",
    "                                              trial_idx=trial_idx)\n",
    "\n",
    "        # Read global tx\n",
    "        global_transformed_moving_structure_vol = \\\n",
    "        DataManager.load_transformed_volume(stack_m=stack_moving, stack_f=stack_fixed,\n",
    "                                            classifier_setting_m=classifier_setting,\n",
    "                                            classifier_setting_f=classifier_setting,\n",
    "                                            warp_setting=upstream_warp_setting, \n",
    "                                            trial_idx=upstream_trial_idx,\n",
    "                                            structure=structure)\n",
    "\n",
    "        # Transform\n",
    "        local_transformed_moving_structure_vol = transform_volume(vol=global_transformed_moving_structure_vol, \n",
    "                                                 global_params=local_params, \n",
    "                                                 centroid_m=centroid_m, centroid_f=centroid_f,\n",
    "                                                 xdim_f=xdim_f, ydim_f=ydim_f, zdim_f=zdim_f)\n",
    "\n",
    "        # Save\n",
    "        local_transformed_moving_structure_fn = \\\n",
    "        DataManager.get_transformed_volume_filepath(stack_m=stack_moving, stack_f=stack_fixed,\n",
    "                                                    classifier_setting_m=classifier_setting,\n",
    "                                                    classifier_setting_f=classifier_setting,\n",
    "                                                    warp_setting=warp_setting,\n",
    "                                                    trial_idx=trial_idx,\n",
    "                                                    structure=structure)\n",
    "\n",
    "        create_if_not_exists(os.path.dirname(local_transformed_moving_structure_fn))\n",
    "        bp.pack_ndarray_file(local_transformed_moving_structure_vol, local_transformed_moving_structure_fn)\n",
    "        \n",
    "        sys.stderr.write('Transform: %.2f seconds.\\n' % (time.time() - t))\n",
    "        \n",
    "    except Exception as e:\n",
    "        sys.stderr.write('%s\\n' % e)\n",
    "        sys.stderr.write('Error transforming volume %s.\\n' % structure)"
   ]
  },
  {
   "cell_type": "markdown",
   "metadata": {
    "collapsed": true
   },
   "source": [
    "# Global Transform Reversed"
   ]
  },
  {
   "cell_type": "code",
   "execution_count": 4,
   "metadata": {
    "collapsed": true
   },
   "outputs": [],
   "source": [
    "warp_setting = 3\n",
    "trial_idx = 0"
   ]
  },
  {
   "cell_type": "code",
   "execution_count": 6,
   "metadata": {
    "collapsed": true
   },
   "outputs": [],
   "source": [
    "if warp_setting == 1:\n",
    "    upstream_warp_setting = None\n",
    "elif warp_setting == 2:\n",
    "    upstream_warp_setting = 1\n",
    "elif warp_setting == 3:\n",
    "    global_warp_setting = 1\n",
    "    upstream_warp_setting = 2\n",
    "else:\n",
    "    raise Exception('Warp setting not recognized.')\n",
    "    \n",
    "if trial_idx in [0, 1]:\n",
    "    upstream_trial_idx = 0"
   ]
  },
  {
   "cell_type": "code",
   "execution_count": 7,
   "metadata": {
    "collapsed": false
   },
   "outputs": [],
   "source": [
    "# Load transform parameters\n",
    "\n",
    "global_params, centroid_m, centroid_f, xdim_m, ydim_m, zdim_m, xdim_f, ydim_f, zdim_f = \\\n",
    "DataManager.load_alignment_parameters(stack_m=stack_moving, stack_f=stack_fixed,\n",
    "                                      classifier_setting_m=classifier_setting,\n",
    "                                      classifier_setting_f=classifier_setting,\n",
    "                                      warp_setting=global_warp_setting,\n",
    "                                      trial_idx=trial_idx)"
   ]
  },
  {
   "cell_type": "code",
   "execution_count": null,
   "metadata": {
    "collapsed": false,
    "scrolled": true
   },
   "outputs": [],
   "source": [
    "# for structure in ['PBG_L']:\n",
    "for structure in all_known_structures_sided:\n",
    "    \n",
    "    try:\n",
    "        \n",
    "        t = time.time()\n",
    "\n",
    "        local_transformed_moving_structure_vol = \\\n",
    "            DataManager.load_transformed_volume(stack_m=stack_moving, stack_f=stack_fixed,\n",
    "                                                classifier_setting_m=classifier_setting,\n",
    "                                                classifier_setting_f=classifier_setting,\n",
    "                                                warp_setting=upstream_warp_setting, \n",
    "                                                trial_idx=upstream_trial_idx,\n",
    "                                                structure=structure)\n",
    "\n",
    "        local_transformed_moving_structure_global_reversed_vol = \\\n",
    "        transform_volume_inverse(vol=local_transformed_moving_structure_vol, \n",
    "                                 global_params=global_params, \n",
    "                                 centroid_m=centroid_m, centroid_f=centroid_f,\n",
    "                                 xdim_m=xdim_m, ydim_m=ydim_m, zdim_m=zdim_m)\n",
    "\n",
    "        local_transformed_moving_structure_global_reversed_fn = \\\n",
    "        DataManager.get_transformed_volume_filepath(stack_m=stack_moving, type_m='score',\n",
    "                                                        stack_f=stack_fixed, type_f='score',\n",
    "                                                        downscale=32,\n",
    "                                                        classifier_setting_m=classifier_setting,\n",
    "                                                        classifier_setting_f=classifier_setting,\n",
    "                                                        warp_setting=warp_setting,\n",
    "                                                        structure=structure)\n",
    "\n",
    "        create_if_not_exists(os.path.dirname(local_transformed_moving_structure_global_reversed_fn))\n",
    "        bp.pack_ndarray_file(local_transformed_moving_structure_global_reversed_vol, local_transformed_moving_structure_global_reversed_fn)\n",
    "\n",
    "        sys.stderr.write('Transform: %.2f seconds.\\n' % (time.time() - t))\n",
    "        \n",
    "    except Exception as e:\n",
    "        sys.stderr.write('%s\\n' % e)\n",
    "        sys.stderr.write('Error transforming volume %s.\\n' % structure)"
   ]
  }
 ],
 "metadata": {
  "kernelspec": {
   "display_name": "Python 2",
   "language": "python",
   "name": "python2"
  },
  "language_info": {
   "codemirror_mode": {
    "name": "ipython",
    "version": 2
   },
   "file_extension": ".py",
   "mimetype": "text/x-python",
   "name": "python",
   "nbconvert_exporter": "python",
   "pygments_lexer": "ipython2",
   "version": "2.7.3"
  }
 },
 "nbformat": 4,
 "nbformat_minor": 1
}
