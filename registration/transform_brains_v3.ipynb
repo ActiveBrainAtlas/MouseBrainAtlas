{
 "cells": [
  {
   "cell_type": "code",
   "execution_count": 2,
   "metadata": {
    "collapsed": false
   },
   "outputs": [
    {
     "name": "stdout",
     "output_type": "stream",
     "text": [
      "Setting environment for Gordon\n"
     ]
    },
    {
     "name": "stderr",
     "output_type": "stream",
     "text": [
      "No vtk\n"
     ]
    }
   ],
   "source": [
    "%load_ext autoreload\n",
    "%autoreload 2\n",
    "\n",
    "import numpy as np\n",
    "import sys\n",
    "import os\n",
    "import time\n",
    "\n",
    "sys.path.append(os.environ['REPO_DIR'] + '/utilities')\n",
    "from utilities2015 import *\n",
    "from registration_utilities import *\n",
    "from metadata import *\n",
    "from data_manager import *\n",
    "\n",
    "import matplotlib.pyplot as plt\n",
    "%matplotlib inline"
   ]
  },
  {
   "cell_type": "code",
   "execution_count": 3,
   "metadata": {
    "collapsed": true
   },
   "outputs": [],
   "source": [
    "stack_fixed = 'MD595'\n",
    "stack_moving = 'atlasV2'\n",
    "\n",
    "classifier_setting = 2"
   ]
  },
  {
   "cell_type": "markdown",
   "metadata": {},
   "source": [
    "# Global Transform - between two annotation volumes"
   ]
  },
  {
   "cell_type": "code",
   "execution_count": 56,
   "metadata": {
    "collapsed": false
   },
   "outputs": [],
   "source": [
    "global_params, centroid_m, centroid_f, xdim_m, ydim_m, zdim_m, xdim_f, ydim_f, zdim_f = \\\n",
    "DataManager.load_global_alignment_parameters(stack_moving=stack_moving, moving_volume_type='annotation',\n",
    "                                            stack_fixed=stack_fixed, fixed_volume_type='annotation',\n",
    "                                            global_transform_scheme=global_transform_scheme)"
   ]
  },
  {
   "cell_type": "code",
   "execution_count": 84,
   "metadata": {
    "collapsed": false
   },
   "outputs": [],
   "source": [
    "vol_m = DataManager.load_annotation_volume(stack=stack_moving, downscale=32)\n",
    "\n",
    "volume_m_alignedTo_f = \\\n",
    "transform_volume(vol=vol_m, global_params=global_params, centroid_m=centroid_m, centroid_f=centroid_f,\n",
    "                  xdim_f=xdim_f, ydim_f=ydim_f, zdim_f=zdim_f)\n",
    "\n",
    "volume_m_alignedTo_f_fn = DataManager.get_transformed_volume_filepath(stack_m=stack_moving, type_m='annotation',\n",
    "                                        stack_f=stack_fixed, type_f='annotation',\n",
    "                                        downscale=32,\n",
    "                                        global_transform_scheme=global_transform_scheme)\n",
    "\n",
    "create_if_not_exists(os.path.dirname(volume_m_alignedTo_f_fn))\n",
    "bp.pack_ndarray_file(volume_m_alignedTo_f, volume_m_alignedTo_f_fn)"
   ]
  },
  {
   "cell_type": "code",
   "execution_count": null,
   "metadata": {
    "collapsed": false
   },
   "outputs": [],
   "source": [
    "display_volume_sections(volume_m_alignedTo_f)"
   ]
  },
  {
   "cell_type": "markdown",
   "metadata": {
    "collapsed": true
   },
   "source": [
    "# Global Transform"
   ]
  },
  {
   "cell_type": "code",
   "execution_count": 60,
   "metadata": {
    "collapsed": true
   },
   "outputs": [],
   "source": [
    "warp_setting = 1\n",
    "trial_idx = 0"
   ]
  },
  {
   "cell_type": "code",
   "execution_count": null,
   "metadata": {
    "collapsed": false,
    "scrolled": true
   },
   "outputs": [],
   "source": [
    "# Load transform parameters\n",
    "\n",
    "global_params, centroid_m, centroid_f, xdim_m, ydim_m, zdim_m, xdim_f, ydim_f, zdim_f = \\\n",
    "DataManager.load_alignment_parameters(stack_m=stack_moving, stack_f=stack_fixed,\n",
    "                                      classifier_setting_m=classifier_setting,\n",
    "                                      classifier_setting_f=classifier_setting,\n",
    "                                      warp_setting=warp_setting,\n",
    "                                      trial_idx=0)"
   ]
  },
  {
   "cell_type": "code",
   "execution_count": 31,
   "metadata": {
    "collapsed": false,
    "scrolled": true
   },
   "outputs": [
    {
     "name": "stderr",
     "output_type": "stream",
     "text": [
      "File does not exist: /oasis/projects/nsf/csd395/yuncong/CSHL_volumes/atlasV2/score_volumes/atlasV2_down32_scoreVolume_sp5.bp\n",
      "[Errno 2] No such file or directory: '/oasis/projects/nsf/csd395/yuncong/CSHL_volumes/atlasV2/score_volumes/atlasV2_down32_scoreVolume_sp5.bp'\n",
      "Error transforming volume sp5.\n",
      "File does not exist: /oasis/projects/nsf/csd395/yuncong/CSHL_volumes/atlasV2/score_volumes/atlasV2_down32_scoreVolume_outerContour.bp\n",
      "[Errno 2] No such file or directory: '/oasis/projects/nsf/csd395/yuncong/CSHL_volumes/atlasV2/score_volumes/atlasV2_down32_scoreVolume_outerContour.bp'\n",
      "Error transforming volume outerContour.\n"
     ]
    }
   ],
   "source": [
    "# Transform moving volume, sided, without surround\n",
    "\n",
    "for structure in all_known_structures_sided:\n",
    "# for name_s in ['7N_L']:\n",
    "    \n",
    "    try:\n",
    "        t = time.time()\n",
    "\n",
    "        vol_m = DataManager.load_score_volume(stack=stack_moving, structure=structure, downscale=32)\n",
    "\n",
    "        volume_m_alignedTo_f = \\\n",
    "        transform_volume(vol=vol_m, global_params=global_params, centroid_m=centroid_m, centroid_f=centroid_f,\n",
    "                          xdim_f=xdim_f, ydim_f=ydim_f, zdim_f=zdim_f)\n",
    "\n",
    "        volume_m_alignedTo_f_fn = \\\n",
    "        DataManager.get_transformed_volume_filepath(stack_m=stack_moving, type_m='score',\n",
    "                                                    stack_f=stack_fixed, type_f='score',\n",
    "                                                    downscale=32,\n",
    "                                                    classifier_setting_m=classifier_setting,\n",
    "                                                    classifier_setting_f=classifier_setting,\n",
    "                                                    warp_setting=warp_setting,\n",
    "                                                    structure=structure)\n",
    "\n",
    "        create_if_not_exists(os.path.dirname(volume_m_alignedTo_f_fn))\n",
    "        bp.pack_ndarray_file(volume_m_alignedTo_f, volume_m_alignedTo_f_fn)\n",
    "    \n",
    "        sys.stderr.write('Transform: %.2f seconds.\\n' % (time.time() - t))\n",
    "    \n",
    "    except Exception as e:\n",
    "        sys.stderr.write('%s\\n' % e)\n",
    "        sys.stderr.write('Error transforming volume %s.\\n' % structure)"
   ]
  },
  {
   "cell_type": "markdown",
   "metadata": {
    "collapsed": true
   },
   "source": [
    "# Structure-wise Transform"
   ]
  },
  {
   "cell_type": "code",
   "execution_count": 53,
   "metadata": {
    "collapsed": true
   },
   "outputs": [],
   "source": [
    "warp_setting = 2\n",
    "trial_idx = 0"
   ]
  },
  {
   "cell_type": "code",
   "execution_count": 2,
   "metadata": {
    "collapsed": true
   },
   "outputs": [],
   "source": [
    "if warp_setting == 1:\n",
    "    upstream_warp_setting = None\n",
    "elif warp_setting == 2:\n",
    "    upstream_warp_setting = 1\n",
    "else:\n",
    "    raise Exception('Warp setting not recognized.')\n",
    "    \n",
    "if trial_idx in [0, 1]:\n",
    "    upstream_trial_idx = 0"
   ]
  },
  {
   "cell_type": "code",
   "execution_count": 51,
   "metadata": {
    "collapsed": false
   },
   "outputs": [
    {
     "name": "stderr",
     "output_type": "stream",
     "text": [
      "Structure-wise transform: 3.49"
     ]
    }
   ],
   "source": [
    "for structure in all_known_structures_sided:\n",
    "\n",
    "    # Load local transform parameters\n",
    "    \n",
    "    try:\n",
    "\n",
    "        t = time.time()\n",
    "        \n",
    "        local_params, centroid_m, centroid_f, xdim_m, ydim_m, zdim_m, xdim_f, ydim_f, zdim_f = \\\n",
    "        DataManager.load_alignment_parameters(stack_m=stack_moving, stack_f=stack_fixed,\n",
    "                                              classifier_setting_m=classifier_setting,\n",
    "                                              classifier_setting_f=classifier_setting,\n",
    "                                              warp_setting=warp_setting,\n",
    "                                              param_suffix=structure,\n",
    "                                              trial_idx=trial_idx)\n",
    "\n",
    "        # Read global tx\n",
    "        global_transformed_moving_structure_vol = \\\n",
    "        DataManager.load_transformed_volume(stack_m=stack_moving, stack_f=stack_fixed,\n",
    "                                            classifier_setting_m=classifier_setting,\n",
    "                                            classifier_setting_f=classifier_setting,\n",
    "                                            warp_setting=upstream_warp_setting, \n",
    "                                            trial_idx=upstream_trial_idx,\n",
    "                                            structure=structure)\n",
    "\n",
    "        # Transform\n",
    "        local_transformed_moving_structure_vol = transform_volume(vol=global_transformed_moving_structure_vol, \n",
    "                                                 global_params=local_params, \n",
    "                                                 centroid_m=centroid_m, centroid_f=centroid_f,\n",
    "                                                 xdim_f=xdim_f, ydim_f=ydim_f, zdim_f=zdim_f)\n",
    "\n",
    "        # Save\n",
    "        local_transformed_moving_structure_fn = \\\n",
    "        DataManager.get_transformed_volume_filepath(stack_m=stack_moving, stack_f=stack_fixed,\n",
    "                                                    classifier_setting_m=classifier_setting,\n",
    "                                                    classifier_setting_f=classifier_setting,\n",
    "                                                    warp_setting=warp_setting,\n",
    "                                                    trial_idx=trial_idx,\n",
    "                                                    structure=structure)\n",
    "\n",
    "        create_if_not_exists(os.path.dirname(local_transformed_moving_structure_fn))\n",
    "        bp.pack_ndarray_file(local_transformed_moving_structure_vol, local_transformed_moving_structure_fn)\n",
    "        \n",
    "        sys.stderr.write('Transform: %.2f seconds.\\n' % (time.time() - t))\n",
    "        \n",
    "    except Exception as e:\n",
    "        sys.stderr.write('%s\\n' % e)\n",
    "        sys.stderr.write('Error transforming volume %s.\\n' % structure)"
   ]
  },
  {
   "cell_type": "markdown",
   "metadata": {
    "collapsed": true
   },
   "source": [
    "# Global Transform Reversed"
   ]
  },
  {
   "cell_type": "code",
   "execution_count": 4,
   "metadata": {
    "collapsed": true
   },
   "outputs": [],
   "source": [
    "warp_setting = 3\n",
    "trial_idx = 0"
   ]
  },
  {
   "cell_type": "code",
   "execution_count": 6,
   "metadata": {
    "collapsed": true
   },
   "outputs": [],
   "source": [
    "if warp_setting == 1:\n",
    "    upstream_warp_setting = None\n",
    "elif warp_setting == 2:\n",
    "    upstream_warp_setting = 1\n",
    "elif warp_setting == 3:\n",
    "    global_warp_setting = 1\n",
    "    upstream_warp_setting = 2\n",
    "else:\n",
    "    raise Exception('Warp setting not recognized.')\n",
    "    \n",
    "if trial_idx in [0, 1]:\n",
    "    upstream_trial_idx = 0"
   ]
  },
  {
   "cell_type": "code",
   "execution_count": 7,
   "metadata": {
    "collapsed": false
   },
   "outputs": [],
   "source": [
    "# Load transform parameters\n",
    "\n",
    "global_params, centroid_m, centroid_f, xdim_m, ydim_m, zdim_m, xdim_f, ydim_f, zdim_f = \\\n",
    "DataManager.load_alignment_parameters(stack_m=stack_moving, stack_f=stack_fixed,\n",
    "                                      classifier_setting_m=classifier_setting,\n",
    "                                      classifier_setting_f=classifier_setting,\n",
    "                                      warp_setting=global_warp_setting,\n",
    "                                      trial_idx=trial_idx)"
   ]
  },
  {
   "cell_type": "code",
   "execution_count": null,
   "metadata": {
    "collapsed": false,
    "scrolled": true
   },
   "outputs": [],
   "source": [
    "# for structure in ['PBG_L']:\n",
    "for structure in all_known_structures_sided:\n",
    "    \n",
    "    try:\n",
    "        \n",
    "        t = time.time()\n",
    "\n",
    "        local_transformed_moving_structure_vol = \\\n",
    "            DataManager.load_transformed_volume(stack_m=stack_moving, stack_f=stack_fixed,\n",
    "                                                classifier_setting_m=classifier_setting,\n",
    "                                                classifier_setting_f=classifier_setting,\n",
    "                                                warp_setting=upstream_warp_setting, \n",
    "                                                trial_idx=upstream_trial_idx,\n",
    "                                                structure=structure)\n",
    "\n",
    "        local_transformed_moving_structure_global_reversed_vol = \\\n",
    "        transform_volume_inverse(vol=local_transformed_moving_structure_vol, \n",
    "                                 global_params=global_params, \n",
    "                                 centroid_m=centroid_m, centroid_f=centroid_f,\n",
    "                                 xdim_m=xdim_m, ydim_m=ydim_m, zdim_m=zdim_m)\n",
    "\n",
    "        local_transformed_moving_structure_global_reversed_fn = \\\n",
    "        DataManager.get_transformed_volume_filepath(stack_m=stack_moving, type_m='score',\n",
    "                                                        stack_f=stack_fixed, type_f='score',\n",
    "                                                        downscale=32,\n",
    "                                                        classifier_setting_m=classifier_setting,\n",
    "                                                        classifier_setting_f=classifier_setting,\n",
    "                                                        warp_setting=warp_setting,\n",
    "                                                        structure=structure)\n",
    "\n",
    "        create_if_not_exists(os.path.dirname(local_transformed_moving_structure_global_reversed_fn))\n",
    "        bp.pack_ndarray_file(local_transformed_moving_structure_global_reversed_vol, local_transformed_moving_structure_global_reversed_fn)\n",
    "\n",
    "        sys.stderr.write('Transform: %.2f seconds.\\n' % (time.time() - t))\n",
    "        \n",
    "    except Exception as e:\n",
    "        sys.stderr.write('%s\\n' % e)\n",
    "        sys.stderr.write('Error transforming volume %s.\\n' % structure)"
   ]
  }
 ],
 "metadata": {
  "kernelspec": {
   "display_name": "Python 2",
   "language": "python",
   "name": "python2"
  },
  "language_info": {
   "codemirror_mode": {
    "name": "ipython",
    "version": 2
   },
   "file_extension": ".py",
   "mimetype": "text/x-python",
   "name": "python",
   "nbconvert_exporter": "python",
   "pygments_lexer": "ipython2",
   "version": "2.7.3"
  }
 },
 "nbformat": 4,
 "nbformat_minor": 1
}
