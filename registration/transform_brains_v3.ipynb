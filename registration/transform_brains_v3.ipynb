{
 "cells": [
  {
   "cell_type": "code",
   "execution_count": 1,
   "metadata": {},
   "outputs": [
    {
     "name": "stderr",
     "output_type": "stream",
     "text": [
      "/usr/local/lib/python2.7/dist-packages/matplotlib/__init__.py:1401: UserWarning:  This call to matplotlib.use() has no effect\n",
      "because the backend has already been chosen;\n",
      "matplotlib.use() must be called *before* pylab, matplotlib.pyplot,\n",
      "or matplotlib.backends is imported for the first time.\n",
      "\n",
      "  warnings.warn(_use_error_msg)\n"
     ]
    },
    {
     "name": "stdout",
     "output_type": "stream",
     "text": [
      "Setting environment for AWS compute node\n"
     ]
    },
    {
     "name": "stderr",
     "output_type": "stream",
     "text": [
      "No vtk\n",
      "File does not exist: /shared/CSHL_data_processed/MD635/MD635_anchor.txt\n",
      "File does not exist: /shared/CSHL_data_processed/MD635/MD635_sorted_filenames.txt\n",
      "File does not exist: /shared/CSHL_data_processed/MD635/MD635_cropbox.txt\n",
      "File does not exist: /shared/CSHL_data_processed/MD635/MD635_cropbox.txt\n",
      "File does not exist: /shared/CSHL_data_processed/MD653/MD653_anchor.txt\n",
      "File does not exist: /shared/CSHL_data_processed/MD653/MD653_sorted_filenames.txt\n",
      "File does not exist: /shared/CSHL_data_processed/MD653/MD653_cropbox.txt\n",
      "File does not exist: /shared/CSHL_data_processed/MD653/MD653_cropbox.txt\n",
      "File does not exist: /shared/CSHL_data_processed/MD652/MD652_anchor.txt\n",
      "File does not exist: /shared/CSHL_data_processed/MD652/MD652_sorted_filenames.txt\n",
      "File does not exist: /shared/CSHL_data_processed/MD652/MD652_cropbox.txt\n",
      "File does not exist: /shared/CSHL_data_processed/MD652/MD652_cropbox.txt\n",
      "File does not exist: /shared/CSHL_data_processed/MD642/MD642_anchor.txt\n",
      "File does not exist: /shared/CSHL_data_processed/MD642/MD642_sorted_filenames.txt\n",
      "File does not exist: /shared/CSHL_data_processed/MD642/MD642_cropbox.txt\n",
      "File does not exist: /shared/CSHL_data_processed/MD642/MD642_cropbox.txt\n",
      "File does not exist: /shared/CSHL_data_processed/MD657/MD657_anchor.txt\n",
      "File does not exist: /shared/CSHL_data_processed/MD657/MD657_sorted_filenames.txt\n",
      "File does not exist: /shared/CSHL_data_processed/MD657/MD657_cropbox.txt\n",
      "File does not exist: /shared/CSHL_data_processed/MD657/MD657_cropbox.txt\n"
     ]
    }
   ],
   "source": [
    "%load_ext autoreload\n",
    "%autoreload 2\n",
    "\n",
    "import sys\n",
    "import os\n",
    "import time\n",
    "\n",
    "import numpy as np\n",
    "import matplotlib.pyplot as plt\n",
    "%matplotlib inline\n",
    "\n",
    "sys.path.append(os.environ['REPO_DIR'] + '/utilities')\n",
    "from utilities2015 import *\n",
    "from registration_utilities import *\n",
    "from metadata import *\n",
    "from data_manager import *"
   ]
  },
  {
   "cell_type": "code",
   "execution_count": 2,
   "metadata": {
    "collapsed": true
   },
   "outputs": [],
   "source": [
    "stack_fixed = 'MD591'\n",
    "stack_moving = 'atlasV3'\n",
    "\n",
    "classifier_setting = 30"
   ]
  },
  {
   "cell_type": "markdown",
   "metadata": {},
   "source": [
    "# Global Transform - between two annotation volumes"
   ]
  },
  {
   "cell_type": "code",
   "execution_count": 56,
   "metadata": {
    "collapsed": true
   },
   "outputs": [],
   "source": [
    "global_params, centroid_m, centroid_f, xdim_m, ydim_m, zdim_m, xdim_f, ydim_f, zdim_f = \\\n",
    "DataManager.load_global_alignment_parameters(stack_moving=stack_moving, moving_volume_type='annotation',\n",
    "                                            stack_fixed=stack_fixed, fixed_volume_type='annotation',\n",
    "                                            global_transform_scheme=global_transform_scheme)"
   ]
  },
  {
   "cell_type": "code",
   "execution_count": 84,
   "metadata": {
    "collapsed": true
   },
   "outputs": [],
   "source": [
    "vol_m = DataManager.load_annotation_volume(stack=stack_moving, downscale=32)\n",
    "\n",
    "volume_m_alignedTo_f = \\\n",
    "transform_volume(vol=vol_m, global_params=global_params, centroid_m=centroid_m, centroid_f=centroid_f,\n",
    "                  xdim_f=xdim_f, ydim_f=ydim_f, zdim_f=zdim_f)\n",
    "\n",
    "volume_m_alignedTo_f_fn = DataManager.get_transformed_volume_filepath(stack_m=stack_moving, type_m='annotation',\n",
    "                                        stack_f=stack_fixed, type_f='annotation',\n",
    "                                        downscale=32,\n",
    "                                        global_transform_scheme=global_transform_scheme)\n",
    "\n",
    "create_if_not_exists(os.path.dirname(volume_m_alignedTo_f_fn))\n",
    "bp.pack_ndarray_file(volume_m_alignedTo_f, volume_m_alignedTo_f_fn)"
   ]
  },
  {
   "cell_type": "code",
   "execution_count": null,
   "metadata": {
    "collapsed": true
   },
   "outputs": [],
   "source": [
    "display_volume_sections(volume_m_alignedTo_f)"
   ]
  },
  {
   "cell_type": "markdown",
   "metadata": {},
   "source": [
    "# Global Transform Annotation Volumes"
   ]
  },
  {
   "cell_type": "code",
   "execution_count": 21,
   "metadata": {
    "collapsed": true
   },
   "outputs": [],
   "source": [
    "stack_fixed = 'MD589'\n",
    "stack_moving = 'MD585'"
   ]
  },
  {
   "cell_type": "code",
   "execution_count": 22,
   "metadata": {
    "collapsed": true
   },
   "outputs": [],
   "source": [
    "warp_setting = 9\n",
    "\n",
    "if warp_setting == 1:\n",
    "    upstream_warp_setting = None\n",
    "    transform_type = 'affine'\n",
    "elif warp_setting == 7:\n",
    "    upstream_warp_setting = None\n",
    "    transform_type = 'rigid'\n",
    "elif warp_setting == 8:\n",
    "    upstream_warp_setting = None\n",
    "    transform_type = None\n",
    "elif warp_setting == 9:\n",
    "    upstream_warp_setting = 8\n",
    "    transform_type = 'rigid'\n",
    "else:\n",
    "    raise Exception('Warp setting not recognized.')"
   ]
  },
  {
   "cell_type": "code",
   "execution_count": 23,
   "metadata": {
    "collapsed": true
   },
   "outputs": [],
   "source": [
    "# Load transform parameters\n",
    "\n",
    "global_params, centroid_m, centroid_f, xdim_m, ydim_m, zdim_m, xdim_f, ydim_f, zdim_f = \\\n",
    "DataManager.load_alignment_parameters(stack_m=stack_moving, stack_f=stack_fixed,\n",
    "                                      type_f='annotation_as_score',\n",
    "                                      type_m='annotation_as_score',\n",
    "                                      warp_setting=warp_setting,\n",
    "                                      trial_idx=0)"
   ]
  },
  {
   "cell_type": "code",
   "execution_count": 24,
   "metadata": {
    "scrolled": true
   },
   "outputs": [
    {
     "name": "stderr",
     "output_type": "stream",
     "text": [
      "Transform: 1.79 seconds.\n",
      "Transform: 1.77 seconds.\n",
      "Transform: 1.76 seconds.\n",
      "Transform: 1.76 seconds.\n",
      "Transform: 1.79 seconds.\n",
      "Transform: 1.79 seconds.\n",
      "Transform: 1.82 seconds.\n",
      "Transform: 1.82 seconds.\n",
      "Transform: 1.76 seconds.\n",
      "Transform: 1.76 seconds.\n",
      "Transform: 1.77 seconds.\n",
      "Transform: 1.76 seconds.\n",
      "Transform: 1.79 seconds.\n",
      "Transform: 1.79 seconds.\n",
      "Transform: 1.81 seconds.\n",
      "Transform: 1.80 seconds.\n",
      "Transform: 1.78 seconds.\n",
      "Transform: 1.78 seconds.\n",
      "Transform: 1.81 seconds.\n",
      "Transform: 1.80 seconds.\n",
      "Transform: 1.78 seconds.\n",
      "Transform: 1.78 seconds.\n",
      "Transform: 1.80 seconds.\n",
      "Transform: 1.81 seconds.\n",
      "Transform: 1.90 seconds.\n",
      "Transform: 1.88 seconds.\n",
      "Transform: 1.77 seconds.\n",
      "Transform: 1.77 seconds.\n",
      "Transform: 1.77 seconds.\n",
      "Transform: 1.77 seconds.\n",
      "Transform: 1.80 seconds.\n",
      "Transform: 1.79 seconds.\n",
      "Transform: 1.78 seconds.\n",
      "Transform: 1.80 seconds.\n",
      "Transform: 1.86 seconds.\n",
      "Transform: 1.85 seconds.\n",
      "Transform: 1.77 seconds.\n",
      "Transform: 1.77 seconds.\n",
      "Transform: 1.78 seconds.\n",
      "Transform: 1.78 seconds.\n",
      "Transform: 1.80 seconds.\n",
      "Transform: 1.80 seconds.\n",
      "Transform: 1.78 seconds.\n",
      "Transform: 1.79 seconds.\n",
      "Transform: 1.81 seconds.\n",
      "Transform: 1.80 seconds.\n",
      "Transform: 1.77 seconds.\n",
      "Transform: 1.80 seconds.\n",
      "Transform: 1.86 seconds.\n",
      "File does not exist: /oasis/projects/nsf/csd395/yuncong/CSHL_volumes/MD594/MD594_down32_annotationAsScoreVolume_warp_8_MD589_down32_annotationAsScoreVolume_trial_0/score_volumes/MD594_down32_annotationAsScoreVolume_warp_8_MD589_down32_annotationAsScoreVolume_trial_0_sp5.bp\n",
      "[Errno 2] No such file or directory: '/oasis/projects/nsf/csd395/yuncong/CSHL_volumes/MD594/MD594_down32_annotationAsScoreVolume_warp_8_MD589_down32_annotationAsScoreVolume_trial_0/score_volumes/MD594_down32_annotationAsScoreVolume_warp_8_MD589_down32_annotationAsScoreVolume_trial_0_sp5.bp'\n",
      "Error transforming volume sp5.\n",
      "File does not exist: /oasis/projects/nsf/csd395/yuncong/CSHL_volumes/MD594/MD594_down32_annotationAsScoreVolume_warp_8_MD589_down32_annotationAsScoreVolume_trial_0/score_volumes/MD594_down32_annotationAsScoreVolume_warp_8_MD589_down32_annotationAsScoreVolume_trial_0_outerContour.bp\n",
      "[Errno 2] No such file or directory: '/oasis/projects/nsf/csd395/yuncong/CSHL_volumes/MD594/MD594_down32_annotationAsScoreVolume_warp_8_MD589_down32_annotationAsScoreVolume_trial_0/score_volumes/MD594_down32_annotationAsScoreVolume_warp_8_MD589_down32_annotationAsScoreVolume_trial_0_outerContour.bp'\n",
      "Error transforming volume outerContour.\n",
      "Transform: 2.38 seconds.\n",
      "Transform: 2.12 seconds.\n"
     ]
    }
   ],
   "source": [
    "# for structure in all_known_structures_sided_with_surround:\n",
    "for structure in all_known_structures_sided:\n",
    "# for structure in ['7N_L']:\n",
    "    \n",
    "    try:\n",
    "        t = time.time()\n",
    "\n",
    "        vol_m = DataManager.load_transformed_volume(stack_m=stack_moving, stack_f=stack_fixed,\n",
    "                                                          type_m='annotation_as_score', \n",
    "                                                          type_f='annotation_as_score',\n",
    "                                                         warp_setting=upstream_warp_setting,\n",
    "                                                         structure=structure)\n",
    "        \n",
    "        volume_m_alignedTo_f = \\\n",
    "        transform_volume(vol=vol_m, global_params=global_params, centroid_m=centroid_m, centroid_f=centroid_f,\n",
    "                          xdim_f=xdim_f, ydim_f=ydim_f, zdim_f=zdim_f)\n",
    "\n",
    "        volume_m_alignedTo_f_fn = \\\n",
    "        DataManager.get_transformed_volume_filepath(stack_m=stack_moving, stack_f=stack_fixed,\n",
    "                                                    type_m='annotation_as_score',\n",
    "                                                    type_f='annotation_as_score',\n",
    "                                                    warp_setting=warp_setting,\n",
    "                                                    structure=structure)\n",
    "\n",
    "        create_if_not_exists(os.path.dirname(volume_m_alignedTo_f_fn))\n",
    "        bp.pack_ndarray_file(volume_m_alignedTo_f, volume_m_alignedTo_f_fn)\n",
    "    \n",
    "        sys.stderr.write('Transform: %.2f seconds.\\n' % (time.time() - t)) # 3s\n",
    "    \n",
    "    except Exception as e:\n",
    "        sys.stderr.write('%s\\n' % e)\n",
    "        sys.stderr.write('Error transforming volume %s.\\n' % structure)"
   ]
  },
  {
   "cell_type": "markdown",
   "metadata": {
    "collapsed": true
   },
   "source": [
    "# Global Transform"
   ]
  },
  {
   "cell_type": "code",
   "execution_count": 3,
   "metadata": {},
   "outputs": [],
   "source": [
    "warp_setting = 1\n",
    "trial_idx = 3"
   ]
  },
  {
   "cell_type": "code",
   "execution_count": 6,
   "metadata": {
    "scrolled": true
   },
   "outputs": [],
   "source": [
    "# Load transform parameters\n",
    "\n",
    "global_params, centroid_m, centroid_f, xdim_m, ydim_m, zdim_m, xdim_f, ydim_f, zdim_f = \\\n",
    "DataManager.load_alignment_parameters(stack_m=stack_moving, stack_f=stack_fixed,\n",
    "                                      classifier_setting_m=classifier_setting,\n",
    "                                      classifier_setting_f=classifier_setting,\n",
    "                                      warp_setting=warp_setting,\n",
    "                                      trial_idx=trial_idx)"
   ]
  },
  {
   "cell_type": "code",
   "execution_count": 9,
   "metadata": {
    "scrolled": true
   },
   "outputs": [
    {
     "name": "stdout",
     "output_type": "stream",
     "text": [
      "aws s3 cp /shared/CSHL_volumes/atlasV3/atlasV3_down32_scoreVolume_clf_30_warp_1_MD591_down32_scoreVolume_clf_30_trial_3/score_volumes/atlasV3_down32_scoreVolume_clf_30_warp_1_MD591_down32_scoreVolume_clf_30_trial_3_10N_L.bp s3://mousebrainatlas-data/CSHL_volumes/atlasV3/atlasV3_down32_scoreVolume_clf_30_warp_1_MD591_down32_scoreVolume_clf_30_trial_3/score_volumes/atlasV3_down32_scoreVolume_clf_30_warp_1_MD591_down32_scoreVolume_clf_30_trial_3_10N_L.bp\n"
     ]
    },
    {
     "name": "stderr",
     "output_type": "stream",
     "text": [
      "Child returned 0\n",
      "0.47 seconds.\n",
      "Transform: 2.06 seconds.\n",
      "Child returned 0\n"
     ]
    },
    {
     "name": "stdout",
     "output_type": "stream",
     "text": [
      "rm -rf /shared/CSHL_volumes/atlasV3/atlasV3_down32_scoreVolume/score_volumes/atlasV3_down32_scoreVolume_10N_L_surround_200.bp && mkdir -p /shared/CSHL_volumes/atlasV3/atlasV3_down32_scoreVolume/score_volumes\n",
      "aws s3 cp s3://mousebrainatlas-data/CSHL_volumes/atlasV3/atlasV3_down32_scoreVolume/score_volumes/atlasV3_down32_scoreVolume_10N_L_surround_200.bp /shared/CSHL_volumes/atlasV3/atlasV3_down32_scoreVolume/score_volumes/atlasV3_down32_scoreVolume_10N_L_surround_200.bp\n"
     ]
    },
    {
     "name": "stderr",
     "output_type": "stream",
     "text": [
      "Child returned 0\n",
      "0.51 seconds.\n"
     ]
    },
    {
     "name": "stdout",
     "output_type": "stream",
     "text": [
      "aws s3 cp /shared/CSHL_volumes/atlasV3/atlasV3_down32_scoreVolume_clf_30_warp_1_MD591_down32_scoreVolume_clf_30_trial_3/score_volumes/atlasV3_down32_scoreVolume_clf_30_warp_1_MD591_down32_scoreVolume_clf_30_trial_3_10N_L_surround_200.bp s3://mousebrainatlas-data/CSHL_volumes/atlasV3/atlasV3_down32_scoreVolume_clf_30_warp_1_MD591_down32_scoreVolume_clf_30_trial_3/score_volumes/atlasV3_down32_scoreVolume_clf_30_warp_1_MD591_down32_scoreVolume_clf_30_trial_3_10N_L_surround_200.bp\n"
     ]
    },
    {
     "name": "stderr",
     "output_type": "stream",
     "text": [
      "Child returned 0\n",
      "0.42 seconds.\n",
      "Transform: 2.56 seconds.\n"
     ]
    },
    {
     "name": "stdout",
     "output_type": "stream",
     "text": [
      "aws s3 cp /shared/CSHL_volumes/atlasV3/atlasV3_down32_scoreVolume_clf_30_warp_1_MD591_down32_scoreVolume_clf_30_trial_3/score_volumes/atlasV3_down32_scoreVolume_clf_30_warp_1_MD591_down32_scoreVolume_clf_30_trial_3_10N_R.bp s3://mousebrainatlas-data/CSHL_volumes/atlasV3/atlasV3_down32_scoreVolume_clf_30_warp_1_MD591_down32_scoreVolume_clf_30_trial_3/score_volumes/atlasV3_down32_scoreVolume_clf_30_warp_1_MD591_down32_scoreVolume_clf_30_trial_3_10N_R.bp\n"
     ]
    },
    {
     "name": "stderr",
     "output_type": "stream",
     "text": [
      "Child returned 0\n",
      "0.42 seconds.\n",
      "Transform: 2.01 seconds.\n",
      "Child returned 0\n"
     ]
    },
    {
     "name": "stdout",
     "output_type": "stream",
     "text": [
      "rm -rf /shared/CSHL_volumes/atlasV3/atlasV3_down32_scoreVolume/score_volumes/atlasV3_down32_scoreVolume_10N_R_surround_200.bp && mkdir -p /shared/CSHL_volumes/atlasV3/atlasV3_down32_scoreVolume/score_volumes\n",
      "aws s3 cp s3://mousebrainatlas-data/CSHL_volumes/atlasV3/atlasV3_down32_scoreVolume/score_volumes/atlasV3_down32_scoreVolume_10N_R_surround_200.bp /shared/CSHL_volumes/atlasV3/atlasV3_down32_scoreVolume/score_volumes/atlasV3_down32_scoreVolume_10N_R_surround_200.bp\n"
     ]
    },
    {
     "name": "stderr",
     "output_type": "stream",
     "text": [
      "Child returned 0\n",
      "0.46 seconds.\n"
     ]
    },
    {
     "name": "stdout",
     "output_type": "stream",
     "text": [
      "aws s3 cp /shared/CSHL_volumes/atlasV3/atlasV3_down32_scoreVolume_clf_30_warp_1_MD591_down32_scoreVolume_clf_30_trial_3/score_volumes/atlasV3_down32_scoreVolume_clf_30_warp_1_MD591_down32_scoreVolume_clf_30_trial_3_10N_R_surround_200.bp s3://mousebrainatlas-data/CSHL_volumes/atlasV3/atlasV3_down32_scoreVolume_clf_30_warp_1_MD591_down32_scoreVolume_clf_30_trial_3/score_volumes/atlasV3_down32_scoreVolume_clf_30_warp_1_MD591_down32_scoreVolume_clf_30_trial_3_10N_R_surround_200.bp\n"
     ]
    },
    {
     "name": "stderr",
     "output_type": "stream",
     "text": [
      "Child returned 0\n",
      "0.47 seconds.\n",
      "Transform: 2.55 seconds.\n"
     ]
    },
    {
     "name": "stdout",
     "output_type": "stream",
     "text": [
      "aws s3 cp /shared/CSHL_volumes/atlasV3/atlasV3_down32_scoreVolume_clf_30_warp_1_MD591_down32_scoreVolume_clf_30_trial_3/score_volumes/atlasV3_down32_scoreVolume_clf_30_warp_1_MD591_down32_scoreVolume_clf_30_trial_3_12N.bp s3://mousebrainatlas-data/CSHL_volumes/atlasV3/atlasV3_down32_scoreVolume_clf_30_warp_1_MD591_down32_scoreVolume_clf_30_trial_3/score_volumes/atlasV3_down32_scoreVolume_clf_30_warp_1_MD591_down32_scoreVolume_clf_30_trial_3_12N.bp\n"
     ]
    },
    {
     "name": "stderr",
     "output_type": "stream",
     "text": [
      "Child returned 0\n",
      "0.41 seconds.\n",
      "Transform: 2.01 seconds.\n",
      "Child returned 0\n"
     ]
    },
    {
     "name": "stdout",
     "output_type": "stream",
     "text": [
      "rm -rf /shared/CSHL_volumes/atlasV3/atlasV3_down32_scoreVolume/score_volumes/atlasV3_down32_scoreVolume_12N_surround_200.bp && mkdir -p /shared/CSHL_volumes/atlasV3/atlasV3_down32_scoreVolume/score_volumes\n",
      "aws s3 cp s3://mousebrainatlas-data/CSHL_volumes/atlasV3/atlasV3_down32_scoreVolume/score_volumes/atlasV3_down32_scoreVolume_12N_surround_200.bp /shared/CSHL_volumes/atlasV3/atlasV3_down32_scoreVolume/score_volumes/atlasV3_down32_scoreVolume_12N_surround_200.bp\n"
     ]
    },
    {
     "name": "stderr",
     "output_type": "stream",
     "text": [
      "Child returned 0\n",
      "0.46 seconds.\n"
     ]
    },
    {
     "name": "stdout",
     "output_type": "stream",
     "text": [
      "aws s3 cp /shared/CSHL_volumes/atlasV3/atlasV3_down32_scoreVolume_clf_30_warp_1_MD591_down32_scoreVolume_clf_30_trial_3/score_volumes/atlasV3_down32_scoreVolume_clf_30_warp_1_MD591_down32_scoreVolume_clf_30_trial_3_12N_surround_200.bp s3://mousebrainatlas-data/CSHL_volumes/atlasV3/atlasV3_down32_scoreVolume_clf_30_warp_1_MD591_down32_scoreVolume_clf_30_trial_3/score_volumes/atlasV3_down32_scoreVolume_clf_30_warp_1_MD591_down32_scoreVolume_clf_30_trial_3_12N_surround_200.bp\n"
     ]
    },
    {
     "name": "stderr",
     "output_type": "stream",
     "text": [
      "Child returned 0\n",
      "0.46 seconds.\n",
      "Transform: 2.58 seconds.\n"
     ]
    },
    {
     "name": "stdout",
     "output_type": "stream",
     "text": [
      "aws s3 cp /shared/CSHL_volumes/atlasV3/atlasV3_down32_scoreVolume_clf_30_warp_1_MD591_down32_scoreVolume_clf_30_trial_3/score_volumes/atlasV3_down32_scoreVolume_clf_30_warp_1_MD591_down32_scoreVolume_clf_30_trial_3_3N_L.bp s3://mousebrainatlas-data/CSHL_volumes/atlasV3/atlasV3_down32_scoreVolume_clf_30_warp_1_MD591_down32_scoreVolume_clf_30_trial_3/score_volumes/atlasV3_down32_scoreVolume_clf_30_warp_1_MD591_down32_scoreVolume_clf_30_trial_3_3N_L.bp\n"
     ]
    },
    {
     "name": "stderr",
     "output_type": "stream",
     "text": [
      "Child returned 0\n",
      "0.41 seconds.\n",
      "Transform: 1.98 seconds.\n",
      "Child returned 0\n"
     ]
    },
    {
     "name": "stdout",
     "output_type": "stream",
     "text": [
      "rm -rf /shared/CSHL_volumes/atlasV3/atlasV3_down32_scoreVolume/score_volumes/atlasV3_down32_scoreVolume_3N_L_surround_200.bp && mkdir -p /shared/CSHL_volumes/atlasV3/atlasV3_down32_scoreVolume/score_volumes\n",
      "aws s3 cp s3://mousebrainatlas-data/CSHL_volumes/atlasV3/atlasV3_down32_scoreVolume/score_volumes/atlasV3_down32_scoreVolume_3N_L_surround_200.bp /shared/CSHL_volumes/atlasV3/atlasV3_down32_scoreVolume/score_volumes/atlasV3_down32_scoreVolume_3N_L_surround_200.bp\n"
     ]
    },
    {
     "name": "stderr",
     "output_type": "stream",
     "text": [
      "Child returned 0\n",
      "0.47 seconds.\n"
     ]
    },
    {
     "name": "stdout",
     "output_type": "stream",
     "text": [
      "aws s3 cp /shared/CSHL_volumes/atlasV3/atlasV3_down32_scoreVolume_clf_30_warp_1_MD591_down32_scoreVolume_clf_30_trial_3/score_volumes/atlasV3_down32_scoreVolume_clf_30_warp_1_MD591_down32_scoreVolume_clf_30_trial_3_3N_L_surround_200.bp s3://mousebrainatlas-data/CSHL_volumes/atlasV3/atlasV3_down32_scoreVolume_clf_30_warp_1_MD591_down32_scoreVolume_clf_30_trial_3/score_volumes/atlasV3_down32_scoreVolume_clf_30_warp_1_MD591_down32_scoreVolume_clf_30_trial_3_3N_L_surround_200.bp\n"
     ]
    },
    {
     "name": "stderr",
     "output_type": "stream",
     "text": [
      "Child returned 0\n",
      "0.41 seconds.\n",
      "Transform: 2.48 seconds.\n"
     ]
    },
    {
     "name": "stdout",
     "output_type": "stream",
     "text": [
      "aws s3 cp /shared/CSHL_volumes/atlasV3/atlasV3_down32_scoreVolume_clf_30_warp_1_MD591_down32_scoreVolume_clf_30_trial_3/score_volumes/atlasV3_down32_scoreVolume_clf_30_warp_1_MD591_down32_scoreVolume_clf_30_trial_3_3N_R.bp s3://mousebrainatlas-data/CSHL_volumes/atlasV3/atlasV3_down32_scoreVolume_clf_30_warp_1_MD591_down32_scoreVolume_clf_30_trial_3/score_volumes/atlasV3_down32_scoreVolume_clf_30_warp_1_MD591_down32_scoreVolume_clf_30_trial_3_3N_R.bp\n"
     ]
    },
    {
     "name": "stderr",
     "output_type": "stream",
     "text": [
      "Child returned 0\n",
      "1.01 seconds.\n",
      "Transform: 2.58 seconds.\n",
      "Child returned 0\n"
     ]
    },
    {
     "name": "stdout",
     "output_type": "stream",
     "text": [
      "rm -rf /shared/CSHL_volumes/atlasV3/atlasV3_down32_scoreVolume/score_volumes/atlasV3_down32_scoreVolume_3N_R_surround_200.bp && mkdir -p /shared/CSHL_volumes/atlasV3/atlasV3_down32_scoreVolume/score_volumes\n",
      "aws s3 cp s3://mousebrainatlas-data/CSHL_volumes/atlasV3/atlasV3_down32_scoreVolume/score_volumes/atlasV3_down32_scoreVolume_3N_R_surround_200.bp /shared/CSHL_volumes/atlasV3/atlasV3_down32_scoreVolume/score_volumes/atlasV3_down32_scoreVolume_3N_R_surround_200.bp\n"
     ]
    },
    {
     "name": "stderr",
     "output_type": "stream",
     "text": [
      "Child returned 0\n",
      "0.46 seconds.\n"
     ]
    },
    {
     "name": "stdout",
     "output_type": "stream",
     "text": [
      "aws s3 cp /shared/CSHL_volumes/atlasV3/atlasV3_down32_scoreVolume_clf_30_warp_1_MD591_down32_scoreVolume_clf_30_trial_3/score_volumes/atlasV3_down32_scoreVolume_clf_30_warp_1_MD591_down32_scoreVolume_clf_30_trial_3_3N_R_surround_200.bp s3://mousebrainatlas-data/CSHL_volumes/atlasV3/atlasV3_down32_scoreVolume_clf_30_warp_1_MD591_down32_scoreVolume_clf_30_trial_3/score_volumes/atlasV3_down32_scoreVolume_clf_30_warp_1_MD591_down32_scoreVolume_clf_30_trial_3_3N_R_surround_200.bp\n"
     ]
    },
    {
     "name": "stderr",
     "output_type": "stream",
     "text": [
      "Child returned 0\n",
      "0.41 seconds.\n",
      "Transform: 2.47 seconds.\n"
     ]
    },
    {
     "name": "stdout",
     "output_type": "stream",
     "text": [
      "aws s3 cp /shared/CSHL_volumes/atlasV3/atlasV3_down32_scoreVolume_clf_30_warp_1_MD591_down32_scoreVolume_clf_30_trial_3/score_volumes/atlasV3_down32_scoreVolume_clf_30_warp_1_MD591_down32_scoreVolume_clf_30_trial_3_4N_L.bp s3://mousebrainatlas-data/CSHL_volumes/atlasV3/atlasV3_down32_scoreVolume_clf_30_warp_1_MD591_down32_scoreVolume_clf_30_trial_3/score_volumes/atlasV3_down32_scoreVolume_clf_30_warp_1_MD591_down32_scoreVolume_clf_30_trial_3_4N_L.bp\n"
     ]
    },
    {
     "name": "stderr",
     "output_type": "stream",
     "text": [
      "Child returned 0\n",
      "0.41 seconds.\n",
      "Transform: 1.98 seconds.\n",
      "Child returned 0\n"
     ]
    },
    {
     "name": "stdout",
     "output_type": "stream",
     "text": [
      "rm -rf /shared/CSHL_volumes/atlasV3/atlasV3_down32_scoreVolume/score_volumes/atlasV3_down32_scoreVolume_4N_L_surround_200.bp && mkdir -p /shared/CSHL_volumes/atlasV3/atlasV3_down32_scoreVolume/score_volumes\n",
      "aws s3 cp s3://mousebrainatlas-data/CSHL_volumes/atlasV3/atlasV3_down32_scoreVolume/score_volumes/atlasV3_down32_scoreVolume_4N_L_surround_200.bp /shared/CSHL_volumes/atlasV3/atlasV3_down32_scoreVolume/score_volumes/atlasV3_down32_scoreVolume_4N_L_surround_200.bp\n"
     ]
    },
    {
     "name": "stderr",
     "output_type": "stream",
     "text": [
      "Child returned 0\n",
      "0.48 seconds.\n"
     ]
    },
    {
     "name": "stdout",
     "output_type": "stream",
     "text": [
      "aws s3 cp /shared/CSHL_volumes/atlasV3/atlasV3_down32_scoreVolume_clf_30_warp_1_MD591_down32_scoreVolume_clf_30_trial_3/score_volumes/atlasV3_down32_scoreVolume_clf_30_warp_1_MD591_down32_scoreVolume_clf_30_trial_3_4N_L_surround_200.bp s3://mousebrainatlas-data/CSHL_volumes/atlasV3/atlasV3_down32_scoreVolume_clf_30_warp_1_MD591_down32_scoreVolume_clf_30_trial_3/score_volumes/atlasV3_down32_scoreVolume_clf_30_warp_1_MD591_down32_scoreVolume_clf_30_trial_3_4N_L_surround_200.bp\n"
     ]
    },
    {
     "name": "stderr",
     "output_type": "stream",
     "text": [
      "Child returned 0\n",
      "0.41 seconds.\n",
      "Transform: 2.47 seconds.\n"
     ]
    },
    {
     "name": "stdout",
     "output_type": "stream",
     "text": [
      "aws s3 cp /shared/CSHL_volumes/atlasV3/atlasV3_down32_scoreVolume_clf_30_warp_1_MD591_down32_scoreVolume_clf_30_trial_3/score_volumes/atlasV3_down32_scoreVolume_clf_30_warp_1_MD591_down32_scoreVolume_clf_30_trial_3_4N_R.bp s3://mousebrainatlas-data/CSHL_volumes/atlasV3/atlasV3_down32_scoreVolume_clf_30_warp_1_MD591_down32_scoreVolume_clf_30_trial_3/score_volumes/atlasV3_down32_scoreVolume_clf_30_warp_1_MD591_down32_scoreVolume_clf_30_trial_3_4N_R.bp\n"
     ]
    },
    {
     "name": "stderr",
     "output_type": "stream",
     "text": [
      "Child returned 0\n",
      "0.41 seconds.\n",
      "Transform: 1.98 seconds.\n",
      "Child returned 0\n"
     ]
    },
    {
     "name": "stdout",
     "output_type": "stream",
     "text": [
      "rm -rf /shared/CSHL_volumes/atlasV3/atlasV3_down32_scoreVolume/score_volumes/atlasV3_down32_scoreVolume_4N_R_surround_200.bp && mkdir -p /shared/CSHL_volumes/atlasV3/atlasV3_down32_scoreVolume/score_volumes\n",
      "aws s3 cp s3://mousebrainatlas-data/CSHL_volumes/atlasV3/atlasV3_down32_scoreVolume/score_volumes/atlasV3_down32_scoreVolume_4N_R_surround_200.bp /shared/CSHL_volumes/atlasV3/atlasV3_down32_scoreVolume/score_volumes/atlasV3_down32_scoreVolume_4N_R_surround_200.bp\n"
     ]
    },
    {
     "name": "stderr",
     "output_type": "stream",
     "text": [
      "Child returned 0\n",
      "0.46 seconds.\n"
     ]
    },
    {
     "name": "stdout",
     "output_type": "stream",
     "text": [
      "aws s3 cp /shared/CSHL_volumes/atlasV3/atlasV3_down32_scoreVolume_clf_30_warp_1_MD591_down32_scoreVolume_clf_30_trial_3/score_volumes/atlasV3_down32_scoreVolume_clf_30_warp_1_MD591_down32_scoreVolume_clf_30_trial_3_4N_R_surround_200.bp s3://mousebrainatlas-data/CSHL_volumes/atlasV3/atlasV3_down32_scoreVolume_clf_30_warp_1_MD591_down32_scoreVolume_clf_30_trial_3/score_volumes/atlasV3_down32_scoreVolume_clf_30_warp_1_MD591_down32_scoreVolume_clf_30_trial_3_4N_R_surround_200.bp\n"
     ]
    },
    {
     "name": "stderr",
     "output_type": "stream",
     "text": [
      "Child returned 0\n",
      "0.41 seconds.\n",
      "Transform: 2.46 seconds.\n"
     ]
    },
    {
     "name": "stdout",
     "output_type": "stream",
     "text": [
      "aws s3 cp /shared/CSHL_volumes/atlasV3/atlasV3_down32_scoreVolume_clf_30_warp_1_MD591_down32_scoreVolume_clf_30_trial_3/score_volumes/atlasV3_down32_scoreVolume_clf_30_warp_1_MD591_down32_scoreVolume_clf_30_trial_3_5N_L.bp s3://mousebrainatlas-data/CSHL_volumes/atlasV3/atlasV3_down32_scoreVolume_clf_30_warp_1_MD591_down32_scoreVolume_clf_30_trial_3/score_volumes/atlasV3_down32_scoreVolume_clf_30_warp_1_MD591_down32_scoreVolume_clf_30_trial_3_5N_L.bp\n"
     ]
    },
    {
     "name": "stderr",
     "output_type": "stream",
     "text": [
      "Child returned 0\n",
      "0.41 seconds.\n",
      "Transform: 2.00 seconds.\n",
      "Child returned 0\n"
     ]
    },
    {
     "name": "stdout",
     "output_type": "stream",
     "text": [
      "rm -rf /shared/CSHL_volumes/atlasV3/atlasV3_down32_scoreVolume/score_volumes/atlasV3_down32_scoreVolume_5N_L_surround_200.bp && mkdir -p /shared/CSHL_volumes/atlasV3/atlasV3_down32_scoreVolume/score_volumes\n",
      "aws s3 cp s3://mousebrainatlas-data/CSHL_volumes/atlasV3/atlasV3_down32_scoreVolume/score_volumes/atlasV3_down32_scoreVolume_5N_L_surround_200.bp /shared/CSHL_volumes/atlasV3/atlasV3_down32_scoreVolume/score_volumes/atlasV3_down32_scoreVolume_5N_L_surround_200.bp\n"
     ]
    },
    {
     "name": "stderr",
     "output_type": "stream",
     "text": [
      "Child returned 0\n",
      "0.47 seconds.\n"
     ]
    },
    {
     "name": "stdout",
     "output_type": "stream",
     "text": [
      "aws s3 cp /shared/CSHL_volumes/atlasV3/atlasV3_down32_scoreVolume_clf_30_warp_1_MD591_down32_scoreVolume_clf_30_trial_3/score_volumes/atlasV3_down32_scoreVolume_clf_30_warp_1_MD591_down32_scoreVolume_clf_30_trial_3_5N_L_surround_200.bp s3://mousebrainatlas-data/CSHL_volumes/atlasV3/atlasV3_down32_scoreVolume_clf_30_warp_1_MD591_down32_scoreVolume_clf_30_trial_3/score_volumes/atlasV3_down32_scoreVolume_clf_30_warp_1_MD591_down32_scoreVolume_clf_30_trial_3_5N_L_surround_200.bp\n"
     ]
    },
    {
     "name": "stderr",
     "output_type": "stream",
     "text": [
      "Child returned 0\n",
      "0.41 seconds.\n",
      "Transform: 2.51 seconds.\n"
     ]
    },
    {
     "name": "stdout",
     "output_type": "stream",
     "text": [
      "aws s3 cp /shared/CSHL_volumes/atlasV3/atlasV3_down32_scoreVolume_clf_30_warp_1_MD591_down32_scoreVolume_clf_30_trial_3/score_volumes/atlasV3_down32_scoreVolume_clf_30_warp_1_MD591_down32_scoreVolume_clf_30_trial_3_5N_R.bp s3://mousebrainatlas-data/CSHL_volumes/atlasV3/atlasV3_down32_scoreVolume_clf_30_warp_1_MD591_down32_scoreVolume_clf_30_trial_3/score_volumes/atlasV3_down32_scoreVolume_clf_30_warp_1_MD591_down32_scoreVolume_clf_30_trial_3_5N_R.bp\n"
     ]
    },
    {
     "name": "stderr",
     "output_type": "stream",
     "text": [
      "Child returned 0\n",
      "0.41 seconds.\n",
      "Transform: 2.00 seconds.\n",
      "Child returned 0\n"
     ]
    },
    {
     "name": "stdout",
     "output_type": "stream",
     "text": [
      "rm -rf /shared/CSHL_volumes/atlasV3/atlasV3_down32_scoreVolume/score_volumes/atlasV3_down32_scoreVolume_5N_R_surround_200.bp && mkdir -p /shared/CSHL_volumes/atlasV3/atlasV3_down32_scoreVolume/score_volumes\n",
      "aws s3 cp s3://mousebrainatlas-data/CSHL_volumes/atlasV3/atlasV3_down32_scoreVolume/score_volumes/atlasV3_down32_scoreVolume_5N_R_surround_200.bp /shared/CSHL_volumes/atlasV3/atlasV3_down32_scoreVolume/score_volumes/atlasV3_down32_scoreVolume_5N_R_surround_200.bp\n"
     ]
    },
    {
     "name": "stderr",
     "output_type": "stream",
     "text": [
      "Child returned 0\n",
      "0.46 seconds.\n"
     ]
    },
    {
     "name": "stdout",
     "output_type": "stream",
     "text": [
      "aws s3 cp /shared/CSHL_volumes/atlasV3/atlasV3_down32_scoreVolume_clf_30_warp_1_MD591_down32_scoreVolume_clf_30_trial_3/score_volumes/atlasV3_down32_scoreVolume_clf_30_warp_1_MD591_down32_scoreVolume_clf_30_trial_3_5N_R_surround_200.bp s3://mousebrainatlas-data/CSHL_volumes/atlasV3/atlasV3_down32_scoreVolume_clf_30_warp_1_MD591_down32_scoreVolume_clf_30_trial_3/score_volumes/atlasV3_down32_scoreVolume_clf_30_warp_1_MD591_down32_scoreVolume_clf_30_trial_3_5N_R_surround_200.bp\n"
     ]
    },
    {
     "name": "stderr",
     "output_type": "stream",
     "text": [
      "Child returned 0\n",
      "0.46 seconds.\n",
      "Transform: 2.59 seconds.\n"
     ]
    },
    {
     "name": "stdout",
     "output_type": "stream",
     "text": [
      "aws s3 cp /shared/CSHL_volumes/atlasV3/atlasV3_down32_scoreVolume_clf_30_warp_1_MD591_down32_scoreVolume_clf_30_trial_3/score_volumes/atlasV3_down32_scoreVolume_clf_30_warp_1_MD591_down32_scoreVolume_clf_30_trial_3_6N_L.bp s3://mousebrainatlas-data/CSHL_volumes/atlasV3/atlasV3_down32_scoreVolume_clf_30_warp_1_MD591_down32_scoreVolume_clf_30_trial_3/score_volumes/atlasV3_down32_scoreVolume_clf_30_warp_1_MD591_down32_scoreVolume_clf_30_trial_3_6N_L.bp\n"
     ]
    },
    {
     "name": "stderr",
     "output_type": "stream",
     "text": [
      "Child returned 0\n",
      "0.41 seconds.\n",
      "Transform: 1.98 seconds.\n",
      "Child returned 0\n"
     ]
    },
    {
     "name": "stdout",
     "output_type": "stream",
     "text": [
      "rm -rf /shared/CSHL_volumes/atlasV3/atlasV3_down32_scoreVolume/score_volumes/atlasV3_down32_scoreVolume_6N_L_surround_200.bp && mkdir -p /shared/CSHL_volumes/atlasV3/atlasV3_down32_scoreVolume/score_volumes\n",
      "aws s3 cp s3://mousebrainatlas-data/CSHL_volumes/atlasV3/atlasV3_down32_scoreVolume/score_volumes/atlasV3_down32_scoreVolume_6N_L_surround_200.bp /shared/CSHL_volumes/atlasV3/atlasV3_down32_scoreVolume/score_volumes/atlasV3_down32_scoreVolume_6N_L_surround_200.bp\n"
     ]
    },
    {
     "name": "stderr",
     "output_type": "stream",
     "text": [
      "Child returned 0\n",
      "0.46 seconds.\n"
     ]
    },
    {
     "name": "stdout",
     "output_type": "stream",
     "text": [
      "aws s3 cp /shared/CSHL_volumes/atlasV3/atlasV3_down32_scoreVolume_clf_30_warp_1_MD591_down32_scoreVolume_clf_30_trial_3/score_volumes/atlasV3_down32_scoreVolume_clf_30_warp_1_MD591_down32_scoreVolume_clf_30_trial_3_6N_L_surround_200.bp s3://mousebrainatlas-data/CSHL_volumes/atlasV3/atlasV3_down32_scoreVolume_clf_30_warp_1_MD591_down32_scoreVolume_clf_30_trial_3/score_volumes/atlasV3_down32_scoreVolume_clf_30_warp_1_MD591_down32_scoreVolume_clf_30_trial_3_6N_L_surround_200.bp\n"
     ]
    },
    {
     "name": "stderr",
     "output_type": "stream",
     "text": [
      "Child returned 0\n",
      "0.41 seconds.\n",
      "Transform: 2.46 seconds.\n"
     ]
    },
    {
     "name": "stdout",
     "output_type": "stream",
     "text": [
      "aws s3 cp /shared/CSHL_volumes/atlasV3/atlasV3_down32_scoreVolume_clf_30_warp_1_MD591_down32_scoreVolume_clf_30_trial_3/score_volumes/atlasV3_down32_scoreVolume_clf_30_warp_1_MD591_down32_scoreVolume_clf_30_trial_3_6N_R.bp s3://mousebrainatlas-data/CSHL_volumes/atlasV3/atlasV3_down32_scoreVolume_clf_30_warp_1_MD591_down32_scoreVolume_clf_30_trial_3/score_volumes/atlasV3_down32_scoreVolume_clf_30_warp_1_MD591_down32_scoreVolume_clf_30_trial_3_6N_R.bp\n"
     ]
    },
    {
     "name": "stderr",
     "output_type": "stream",
     "text": [
      "Child returned 0\n",
      "0.41 seconds.\n",
      "Transform: 1.98 seconds.\n",
      "Child returned 0\n"
     ]
    },
    {
     "name": "stdout",
     "output_type": "stream",
     "text": [
      "rm -rf /shared/CSHL_volumes/atlasV3/atlasV3_down32_scoreVolume/score_volumes/atlasV3_down32_scoreVolume_6N_R_surround_200.bp && mkdir -p /shared/CSHL_volumes/atlasV3/atlasV3_down32_scoreVolume/score_volumes\n",
      "aws s3 cp s3://mousebrainatlas-data/CSHL_volumes/atlasV3/atlasV3_down32_scoreVolume/score_volumes/atlasV3_down32_scoreVolume_6N_R_surround_200.bp /shared/CSHL_volumes/atlasV3/atlasV3_down32_scoreVolume/score_volumes/atlasV3_down32_scoreVolume_6N_R_surround_200.bp\n"
     ]
    },
    {
     "name": "stderr",
     "output_type": "stream",
     "text": [
      "Child returned 0\n",
      "0.46 seconds.\n"
     ]
    },
    {
     "name": "stdout",
     "output_type": "stream",
     "text": [
      "aws s3 cp /shared/CSHL_volumes/atlasV3/atlasV3_down32_scoreVolume_clf_30_warp_1_MD591_down32_scoreVolume_clf_30_trial_3/score_volumes/atlasV3_down32_scoreVolume_clf_30_warp_1_MD591_down32_scoreVolume_clf_30_trial_3_6N_R_surround_200.bp s3://mousebrainatlas-data/CSHL_volumes/atlasV3/atlasV3_down32_scoreVolume_clf_30_warp_1_MD591_down32_scoreVolume_clf_30_trial_3/score_volumes/atlasV3_down32_scoreVolume_clf_30_warp_1_MD591_down32_scoreVolume_clf_30_trial_3_6N_R_surround_200.bp\n"
     ]
    },
    {
     "name": "stderr",
     "output_type": "stream",
     "text": [
      "Child returned 0\n",
      "0.46 seconds.\n",
      "Transform: 2.50 seconds.\n"
     ]
    },
    {
     "name": "stdout",
     "output_type": "stream",
     "text": [
      "aws s3 cp /shared/CSHL_volumes/atlasV3/atlasV3_down32_scoreVolume_clf_30_warp_1_MD591_down32_scoreVolume_clf_30_trial_3/score_volumes/atlasV3_down32_scoreVolume_clf_30_warp_1_MD591_down32_scoreVolume_clf_30_trial_3_7N_L.bp s3://mousebrainatlas-data/CSHL_volumes/atlasV3/atlasV3_down32_scoreVolume_clf_30_warp_1_MD591_down32_scoreVolume_clf_30_trial_3/score_volumes/atlasV3_down32_scoreVolume_clf_30_warp_1_MD591_down32_scoreVolume_clf_30_trial_3_7N_L.bp\n"
     ]
    },
    {
     "name": "stderr",
     "output_type": "stream",
     "text": [
      "Child returned 0\n",
      "0.41 seconds.\n",
      "Transform: 2.00 seconds.\n",
      "Child returned 0\n"
     ]
    },
    {
     "name": "stdout",
     "output_type": "stream",
     "text": [
      "rm -rf /shared/CSHL_volumes/atlasV3/atlasV3_down32_scoreVolume/score_volumes/atlasV3_down32_scoreVolume_7N_L_surround_200.bp && mkdir -p /shared/CSHL_volumes/atlasV3/atlasV3_down32_scoreVolume/score_volumes\n",
      "aws s3 cp s3://mousebrainatlas-data/CSHL_volumes/atlasV3/atlasV3_down32_scoreVolume/score_volumes/atlasV3_down32_scoreVolume_7N_L_surround_200.bp /shared/CSHL_volumes/atlasV3/atlasV3_down32_scoreVolume/score_volumes/atlasV3_down32_scoreVolume_7N_L_surround_200.bp\n"
     ]
    },
    {
     "name": "stderr",
     "output_type": "stream",
     "text": [
      "Child returned 0\n",
      "0.47 seconds.\n"
     ]
    },
    {
     "name": "stdout",
     "output_type": "stream",
     "text": [
      "aws s3 cp /shared/CSHL_volumes/atlasV3/atlasV3_down32_scoreVolume_clf_30_warp_1_MD591_down32_scoreVolume_clf_30_trial_3/score_volumes/atlasV3_down32_scoreVolume_clf_30_warp_1_MD591_down32_scoreVolume_clf_30_trial_3_7N_L_surround_200.bp s3://mousebrainatlas-data/CSHL_volumes/atlasV3/atlasV3_down32_scoreVolume_clf_30_warp_1_MD591_down32_scoreVolume_clf_30_trial_3/score_volumes/atlasV3_down32_scoreVolume_clf_30_warp_1_MD591_down32_scoreVolume_clf_30_trial_3_7N_L_surround_200.bp\n"
     ]
    },
    {
     "name": "stderr",
     "output_type": "stream",
     "text": [
      "Child returned 0\n",
      "0.41 seconds.\n",
      "Transform: 2.53 seconds.\n"
     ]
    },
    {
     "name": "stdout",
     "output_type": "stream",
     "text": [
      "aws s3 cp /shared/CSHL_volumes/atlasV3/atlasV3_down32_scoreVolume_clf_30_warp_1_MD591_down32_scoreVolume_clf_30_trial_3/score_volumes/atlasV3_down32_scoreVolume_clf_30_warp_1_MD591_down32_scoreVolume_clf_30_trial_3_7N_R.bp s3://mousebrainatlas-data/CSHL_volumes/atlasV3/atlasV3_down32_scoreVolume_clf_30_warp_1_MD591_down32_scoreVolume_clf_30_trial_3/score_volumes/atlasV3_down32_scoreVolume_clf_30_warp_1_MD591_down32_scoreVolume_clf_30_trial_3_7N_R.bp\n"
     ]
    },
    {
     "name": "stderr",
     "output_type": "stream",
     "text": [
      "Child returned 0\n",
      "0.47 seconds.\n",
      "Transform: 2.07 seconds.\n",
      "Child returned 0\n"
     ]
    },
    {
     "name": "stdout",
     "output_type": "stream",
     "text": [
      "rm -rf /shared/CSHL_volumes/atlasV3/atlasV3_down32_scoreVolume/score_volumes/atlasV3_down32_scoreVolume_7N_R_surround_200.bp && mkdir -p /shared/CSHL_volumes/atlasV3/atlasV3_down32_scoreVolume/score_volumes\n",
      "aws s3 cp s3://mousebrainatlas-data/CSHL_volumes/atlasV3/atlasV3_down32_scoreVolume/score_volumes/atlasV3_down32_scoreVolume_7N_R_surround_200.bp /shared/CSHL_volumes/atlasV3/atlasV3_down32_scoreVolume/score_volumes/atlasV3_down32_scoreVolume_7N_R_surround_200.bp\n"
     ]
    },
    {
     "name": "stderr",
     "output_type": "stream",
     "text": [
      "Child returned 0\n",
      "0.47 seconds.\n"
     ]
    },
    {
     "name": "stdout",
     "output_type": "stream",
     "text": [
      "aws s3 cp /shared/CSHL_volumes/atlasV3/atlasV3_down32_scoreVolume_clf_30_warp_1_MD591_down32_scoreVolume_clf_30_trial_3/score_volumes/atlasV3_down32_scoreVolume_clf_30_warp_1_MD591_down32_scoreVolume_clf_30_trial_3_7N_R_surround_200.bp s3://mousebrainatlas-data/CSHL_volumes/atlasV3/atlasV3_down32_scoreVolume_clf_30_warp_1_MD591_down32_scoreVolume_clf_30_trial_3/score_volumes/atlasV3_down32_scoreVolume_clf_30_warp_1_MD591_down32_scoreVolume_clf_30_trial_3_7N_R_surround_200.bp\n"
     ]
    },
    {
     "name": "stderr",
     "output_type": "stream",
     "text": [
      "Child returned 0\n",
      "0.42 seconds.\n",
      "Transform: 2.53 seconds.\n"
     ]
    },
    {
     "name": "stdout",
     "output_type": "stream",
     "text": [
      "aws s3 cp /shared/CSHL_volumes/atlasV3/atlasV3_down32_scoreVolume_clf_30_warp_1_MD591_down32_scoreVolume_clf_30_trial_3/score_volumes/atlasV3_down32_scoreVolume_clf_30_warp_1_MD591_down32_scoreVolume_clf_30_trial_3_7n_L.bp s3://mousebrainatlas-data/CSHL_volumes/atlasV3/atlasV3_down32_scoreVolume_clf_30_warp_1_MD591_down32_scoreVolume_clf_30_trial_3/score_volumes/atlasV3_down32_scoreVolume_clf_30_warp_1_MD591_down32_scoreVolume_clf_30_trial_3_7n_L.bp\n"
     ]
    },
    {
     "name": "stderr",
     "output_type": "stream",
     "text": [
      "Child returned 0\n",
      "0.47 seconds.\n",
      "Transform: 2.09 seconds.\n",
      "Child returned 0\n"
     ]
    },
    {
     "name": "stdout",
     "output_type": "stream",
     "text": [
      "rm -rf /shared/CSHL_volumes/atlasV3/atlasV3_down32_scoreVolume/score_volumes/atlasV3_down32_scoreVolume_7n_L_surround_200.bp && mkdir -p /shared/CSHL_volumes/atlasV3/atlasV3_down32_scoreVolume/score_volumes\n",
      "aws s3 cp s3://mousebrainatlas-data/CSHL_volumes/atlasV3/atlasV3_down32_scoreVolume/score_volumes/atlasV3_down32_scoreVolume_7n_L_surround_200.bp /shared/CSHL_volumes/atlasV3/atlasV3_down32_scoreVolume/score_volumes/atlasV3_down32_scoreVolume_7n_L_surround_200.bp\n"
     ]
    },
    {
     "name": "stderr",
     "output_type": "stream",
     "text": [
      "Child returned 0\n",
      "0.48 seconds.\n"
     ]
    },
    {
     "name": "stdout",
     "output_type": "stream",
     "text": [
      "aws s3 cp /shared/CSHL_volumes/atlasV3/atlasV3_down32_scoreVolume_clf_30_warp_1_MD591_down32_scoreVolume_clf_30_trial_3/score_volumes/atlasV3_down32_scoreVolume_clf_30_warp_1_MD591_down32_scoreVolume_clf_30_trial_3_7n_L_surround_200.bp s3://mousebrainatlas-data/CSHL_volumes/atlasV3/atlasV3_down32_scoreVolume_clf_30_warp_1_MD591_down32_scoreVolume_clf_30_trial_3/score_volumes/atlasV3_down32_scoreVolume_clf_30_warp_1_MD591_down32_scoreVolume_clf_30_trial_3_7n_L_surround_200.bp\n"
     ]
    },
    {
     "name": "stderr",
     "output_type": "stream",
     "text": [
      "Child returned 0\n",
      "0.47 seconds.\n",
      "Transform: 2.66 seconds.\n"
     ]
    },
    {
     "name": "stdout",
     "output_type": "stream",
     "text": [
      "aws s3 cp /shared/CSHL_volumes/atlasV3/atlasV3_down32_scoreVolume_clf_30_warp_1_MD591_down32_scoreVolume_clf_30_trial_3/score_volumes/atlasV3_down32_scoreVolume_clf_30_warp_1_MD591_down32_scoreVolume_clf_30_trial_3_7n_R.bp s3://mousebrainatlas-data/CSHL_volumes/atlasV3/atlasV3_down32_scoreVolume_clf_30_warp_1_MD591_down32_scoreVolume_clf_30_trial_3/score_volumes/atlasV3_down32_scoreVolume_clf_30_warp_1_MD591_down32_scoreVolume_clf_30_trial_3_7n_R.bp\n"
     ]
    },
    {
     "name": "stderr",
     "output_type": "stream",
     "text": [
      "Child returned 0\n",
      "0.46 seconds.\n",
      "Transform: 2.08 seconds.\n",
      "Child returned 0\n"
     ]
    },
    {
     "name": "stdout",
     "output_type": "stream",
     "text": [
      "rm -rf /shared/CSHL_volumes/atlasV3/atlasV3_down32_scoreVolume/score_volumes/atlasV3_down32_scoreVolume_7n_R_surround_200.bp && mkdir -p /shared/CSHL_volumes/atlasV3/atlasV3_down32_scoreVolume/score_volumes\n",
      "aws s3 cp s3://mousebrainatlas-data/CSHL_volumes/atlasV3/atlasV3_down32_scoreVolume/score_volumes/atlasV3_down32_scoreVolume_7n_R_surround_200.bp /shared/CSHL_volumes/atlasV3/atlasV3_down32_scoreVolume/score_volumes/atlasV3_down32_scoreVolume_7n_R_surround_200.bp\n"
     ]
    },
    {
     "name": "stderr",
     "output_type": "stream",
     "text": [
      "Child returned 0\n",
      "0.40 seconds.\n"
     ]
    },
    {
     "name": "stdout",
     "output_type": "stream",
     "text": [
      "aws s3 cp /shared/CSHL_volumes/atlasV3/atlasV3_down32_scoreVolume_clf_30_warp_1_MD591_down32_scoreVolume_clf_30_trial_3/score_volumes/atlasV3_down32_scoreVolume_clf_30_warp_1_MD591_down32_scoreVolume_clf_30_trial_3_7n_R_surround_200.bp s3://mousebrainatlas-data/CSHL_volumes/atlasV3/atlasV3_down32_scoreVolume_clf_30_warp_1_MD591_down32_scoreVolume_clf_30_trial_3/score_volumes/atlasV3_down32_scoreVolume_clf_30_warp_1_MD591_down32_scoreVolume_clf_30_trial_3_7n_R_surround_200.bp\n"
     ]
    },
    {
     "name": "stderr",
     "output_type": "stream",
     "text": [
      "Child returned 0\n",
      "0.41 seconds.\n",
      "Transform: 2.51 seconds.\n"
     ]
    },
    {
     "name": "stdout",
     "output_type": "stream",
     "text": [
      "aws s3 cp /shared/CSHL_volumes/atlasV3/atlasV3_down32_scoreVolume_clf_30_warp_1_MD591_down32_scoreVolume_clf_30_trial_3/score_volumes/atlasV3_down32_scoreVolume_clf_30_warp_1_MD591_down32_scoreVolume_clf_30_trial_3_AP.bp s3://mousebrainatlas-data/CSHL_volumes/atlasV3/atlasV3_down32_scoreVolume_clf_30_warp_1_MD591_down32_scoreVolume_clf_30_trial_3/score_volumes/atlasV3_down32_scoreVolume_clf_30_warp_1_MD591_down32_scoreVolume_clf_30_trial_3_AP.bp\n"
     ]
    },
    {
     "name": "stderr",
     "output_type": "stream",
     "text": [
      "Child returned 0\n",
      "0.41 seconds.\n",
      "Transform: 1.98 seconds.\n",
      "Child returned 0\n"
     ]
    },
    {
     "name": "stdout",
     "output_type": "stream",
     "text": [
      "rm -rf /shared/CSHL_volumes/atlasV3/atlasV3_down32_scoreVolume/score_volumes/atlasV3_down32_scoreVolume_AP_surround_200.bp && mkdir -p /shared/CSHL_volumes/atlasV3/atlasV3_down32_scoreVolume/score_volumes\n",
      "aws s3 cp s3://mousebrainatlas-data/CSHL_volumes/atlasV3/atlasV3_down32_scoreVolume/score_volumes/atlasV3_down32_scoreVolume_AP_surround_200.bp /shared/CSHL_volumes/atlasV3/atlasV3_down32_scoreVolume/score_volumes/atlasV3_down32_scoreVolume_AP_surround_200.bp\n"
     ]
    },
    {
     "name": "stderr",
     "output_type": "stream",
     "text": [
      "Child returned 0\n",
      "0.46 seconds.\n"
     ]
    },
    {
     "name": "stdout",
     "output_type": "stream",
     "text": [
      "aws s3 cp /shared/CSHL_volumes/atlasV3/atlasV3_down32_scoreVolume_clf_30_warp_1_MD591_down32_scoreVolume_clf_30_trial_3/score_volumes/atlasV3_down32_scoreVolume_clf_30_warp_1_MD591_down32_scoreVolume_clf_30_trial_3_AP_surround_200.bp s3://mousebrainatlas-data/CSHL_volumes/atlasV3/atlasV3_down32_scoreVolume_clf_30_warp_1_MD591_down32_scoreVolume_clf_30_trial_3/score_volumes/atlasV3_down32_scoreVolume_clf_30_warp_1_MD591_down32_scoreVolume_clf_30_trial_3_AP_surround_200.bp\n"
     ]
    },
    {
     "name": "stderr",
     "output_type": "stream",
     "text": [
      "Child returned 0\n",
      "0.41 seconds.\n",
      "Transform: 2.47 seconds.\n"
     ]
    },
    {
     "name": "stdout",
     "output_type": "stream",
     "text": [
      "aws s3 cp /shared/CSHL_volumes/atlasV3/atlasV3_down32_scoreVolume_clf_30_warp_1_MD591_down32_scoreVolume_clf_30_trial_3/score_volumes/atlasV3_down32_scoreVolume_clf_30_warp_1_MD591_down32_scoreVolume_clf_30_trial_3_Amb_L.bp s3://mousebrainatlas-data/CSHL_volumes/atlasV3/atlasV3_down32_scoreVolume_clf_30_warp_1_MD591_down32_scoreVolume_clf_30_trial_3/score_volumes/atlasV3_down32_scoreVolume_clf_30_warp_1_MD591_down32_scoreVolume_clf_30_trial_3_Amb_L.bp\n"
     ]
    },
    {
     "name": "stderr",
     "output_type": "stream",
     "text": [
      "Child returned 0\n",
      "0.42 seconds.\n",
      "Transform: 1.98 seconds.\n",
      "Child returned 0\n"
     ]
    },
    {
     "name": "stdout",
     "output_type": "stream",
     "text": [
      "rm -rf /shared/CSHL_volumes/atlasV3/atlasV3_down32_scoreVolume/score_volumes/atlasV3_down32_scoreVolume_Amb_L_surround_200.bp && mkdir -p /shared/CSHL_volumes/atlasV3/atlasV3_down32_scoreVolume/score_volumes\n",
      "aws s3 cp s3://mousebrainatlas-data/CSHL_volumes/atlasV3/atlasV3_down32_scoreVolume/score_volumes/atlasV3_down32_scoreVolume_Amb_L_surround_200.bp /shared/CSHL_volumes/atlasV3/atlasV3_down32_scoreVolume/score_volumes/atlasV3_down32_scoreVolume_Amb_L_surround_200.bp\n"
     ]
    },
    {
     "name": "stderr",
     "output_type": "stream",
     "text": [
      "Child returned 0\n",
      "0.47 seconds.\n"
     ]
    },
    {
     "name": "stdout",
     "output_type": "stream",
     "text": [
      "aws s3 cp /shared/CSHL_volumes/atlasV3/atlasV3_down32_scoreVolume_clf_30_warp_1_MD591_down32_scoreVolume_clf_30_trial_3/score_volumes/atlasV3_down32_scoreVolume_clf_30_warp_1_MD591_down32_scoreVolume_clf_30_trial_3_Amb_L_surround_200.bp s3://mousebrainatlas-data/CSHL_volumes/atlasV3/atlasV3_down32_scoreVolume_clf_30_warp_1_MD591_down32_scoreVolume_clf_30_trial_3/score_volumes/atlasV3_down32_scoreVolume_clf_30_warp_1_MD591_down32_scoreVolume_clf_30_trial_3_Amb_L_surround_200.bp\n"
     ]
    },
    {
     "name": "stderr",
     "output_type": "stream",
     "text": [
      "Child returned 0\n",
      "0.46 seconds.\n",
      "Transform: 2.52 seconds.\n"
     ]
    },
    {
     "name": "stdout",
     "output_type": "stream",
     "text": [
      "aws s3 cp /shared/CSHL_volumes/atlasV3/atlasV3_down32_scoreVolume_clf_30_warp_1_MD591_down32_scoreVolume_clf_30_trial_3/score_volumes/atlasV3_down32_scoreVolume_clf_30_warp_1_MD591_down32_scoreVolume_clf_30_trial_3_Amb_R.bp s3://mousebrainatlas-data/CSHL_volumes/atlasV3/atlasV3_down32_scoreVolume_clf_30_warp_1_MD591_down32_scoreVolume_clf_30_trial_3/score_volumes/atlasV3_down32_scoreVolume_clf_30_warp_1_MD591_down32_scoreVolume_clf_30_trial_3_Amb_R.bp\n"
     ]
    },
    {
     "name": "stderr",
     "output_type": "stream",
     "text": [
      "Child returned 0\n",
      "0.42 seconds.\n",
      "Transform: 1.98 seconds.\n",
      "Child returned 0\n"
     ]
    },
    {
     "name": "stdout",
     "output_type": "stream",
     "text": [
      "rm -rf /shared/CSHL_volumes/atlasV3/atlasV3_down32_scoreVolume/score_volumes/atlasV3_down32_scoreVolume_Amb_R_surround_200.bp && mkdir -p /shared/CSHL_volumes/atlasV3/atlasV3_down32_scoreVolume/score_volumes\n",
      "aws s3 cp s3://mousebrainatlas-data/CSHL_volumes/atlasV3/atlasV3_down32_scoreVolume/score_volumes/atlasV3_down32_scoreVolume_Amb_R_surround_200.bp /shared/CSHL_volumes/atlasV3/atlasV3_down32_scoreVolume/score_volumes/atlasV3_down32_scoreVolume_Amb_R_surround_200.bp\n"
     ]
    },
    {
     "name": "stderr",
     "output_type": "stream",
     "text": [
      "Child returned 0\n",
      "0.47 seconds.\n"
     ]
    },
    {
     "name": "stdout",
     "output_type": "stream",
     "text": [
      "aws s3 cp /shared/CSHL_volumes/atlasV3/atlasV3_down32_scoreVolume_clf_30_warp_1_MD591_down32_scoreVolume_clf_30_trial_3/score_volumes/atlasV3_down32_scoreVolume_clf_30_warp_1_MD591_down32_scoreVolume_clf_30_trial_3_Amb_R_surround_200.bp s3://mousebrainatlas-data/CSHL_volumes/atlasV3/atlasV3_down32_scoreVolume_clf_30_warp_1_MD591_down32_scoreVolume_clf_30_trial_3/score_volumes/atlasV3_down32_scoreVolume_clf_30_warp_1_MD591_down32_scoreVolume_clf_30_trial_3_Amb_R_surround_200.bp\n"
     ]
    },
    {
     "name": "stderr",
     "output_type": "stream",
     "text": [
      "Child returned 0\n",
      "0.42 seconds.\n",
      "Transform: 2.48 seconds.\n"
     ]
    },
    {
     "name": "stdout",
     "output_type": "stream",
     "text": [
      "aws s3 cp /shared/CSHL_volumes/atlasV3/atlasV3_down32_scoreVolume_clf_30_warp_1_MD591_down32_scoreVolume_clf_30_trial_3/score_volumes/atlasV3_down32_scoreVolume_clf_30_warp_1_MD591_down32_scoreVolume_clf_30_trial_3_DC_L.bp s3://mousebrainatlas-data/CSHL_volumes/atlasV3/atlasV3_down32_scoreVolume_clf_30_warp_1_MD591_down32_scoreVolume_clf_30_trial_3/score_volumes/atlasV3_down32_scoreVolume_clf_30_warp_1_MD591_down32_scoreVolume_clf_30_trial_3_DC_L.bp\n"
     ]
    },
    {
     "name": "stderr",
     "output_type": "stream",
     "text": [
      "Child returned 0\n",
      "0.47 seconds.\n",
      "Transform: 2.10 seconds.\n",
      "Child returned 0\n"
     ]
    },
    {
     "name": "stdout",
     "output_type": "stream",
     "text": [
      "rm -rf /shared/CSHL_volumes/atlasV3/atlasV3_down32_scoreVolume/score_volumes/atlasV3_down32_scoreVolume_DC_L_surround_200.bp && mkdir -p /shared/CSHL_volumes/atlasV3/atlasV3_down32_scoreVolume/score_volumes\n",
      "aws s3 cp s3://mousebrainatlas-data/CSHL_volumes/atlasV3/atlasV3_down32_scoreVolume/score_volumes/atlasV3_down32_scoreVolume_DC_L_surround_200.bp /shared/CSHL_volumes/atlasV3/atlasV3_down32_scoreVolume/score_volumes/atlasV3_down32_scoreVolume_DC_L_surround_200.bp\n"
     ]
    },
    {
     "name": "stderr",
     "output_type": "stream",
     "text": [
      "Child returned 0\n",
      "0.46 seconds.\n"
     ]
    },
    {
     "name": "stdout",
     "output_type": "stream",
     "text": [
      "aws s3 cp /shared/CSHL_volumes/atlasV3/atlasV3_down32_scoreVolume_clf_30_warp_1_MD591_down32_scoreVolume_clf_30_trial_3/score_volumes/atlasV3_down32_scoreVolume_clf_30_warp_1_MD591_down32_scoreVolume_clf_30_trial_3_DC_L_surround_200.bp s3://mousebrainatlas-data/CSHL_volumes/atlasV3/atlasV3_down32_scoreVolume_clf_30_warp_1_MD591_down32_scoreVolume_clf_30_trial_3/score_volumes/atlasV3_down32_scoreVolume_clf_30_warp_1_MD591_down32_scoreVolume_clf_30_trial_3_DC_L_surround_200.bp\n"
     ]
    },
    {
     "name": "stderr",
     "output_type": "stream",
     "text": [
      "Child returned 0\n",
      "0.42 seconds.\n",
      "Transform: 2.58 seconds.\n"
     ]
    },
    {
     "name": "stdout",
     "output_type": "stream",
     "text": [
      "aws s3 cp /shared/CSHL_volumes/atlasV3/atlasV3_down32_scoreVolume_clf_30_warp_1_MD591_down32_scoreVolume_clf_30_trial_3/score_volumes/atlasV3_down32_scoreVolume_clf_30_warp_1_MD591_down32_scoreVolume_clf_30_trial_3_DC_R.bp s3://mousebrainatlas-data/CSHL_volumes/atlasV3/atlasV3_down32_scoreVolume_clf_30_warp_1_MD591_down32_scoreVolume_clf_30_trial_3/score_volumes/atlasV3_down32_scoreVolume_clf_30_warp_1_MD591_down32_scoreVolume_clf_30_trial_3_DC_R.bp\n"
     ]
    },
    {
     "name": "stderr",
     "output_type": "stream",
     "text": [
      "Child returned 0\n",
      "0.42 seconds.\n",
      "Transform: 2.03 seconds.\n",
      "Child returned 0\n"
     ]
    },
    {
     "name": "stdout",
     "output_type": "stream",
     "text": [
      "rm -rf /shared/CSHL_volumes/atlasV3/atlasV3_down32_scoreVolume/score_volumes/atlasV3_down32_scoreVolume_DC_R_surround_200.bp && mkdir -p /shared/CSHL_volumes/atlasV3/atlasV3_down32_scoreVolume/score_volumes\n",
      "aws s3 cp s3://mousebrainatlas-data/CSHL_volumes/atlasV3/atlasV3_down32_scoreVolume/score_volumes/atlasV3_down32_scoreVolume_DC_R_surround_200.bp /shared/CSHL_volumes/atlasV3/atlasV3_down32_scoreVolume/score_volumes/atlasV3_down32_scoreVolume_DC_R_surround_200.bp\n"
     ]
    },
    {
     "name": "stderr",
     "output_type": "stream",
     "text": [
      "Child returned 0\n",
      "0.47 seconds.\n"
     ]
    },
    {
     "name": "stdout",
     "output_type": "stream",
     "text": [
      "aws s3 cp /shared/CSHL_volumes/atlasV3/atlasV3_down32_scoreVolume_clf_30_warp_1_MD591_down32_scoreVolume_clf_30_trial_3/score_volumes/atlasV3_down32_scoreVolume_clf_30_warp_1_MD591_down32_scoreVolume_clf_30_trial_3_DC_R_surround_200.bp s3://mousebrainatlas-data/CSHL_volumes/atlasV3/atlasV3_down32_scoreVolume_clf_30_warp_1_MD591_down32_scoreVolume_clf_30_trial_3/score_volumes/atlasV3_down32_scoreVolume_clf_30_warp_1_MD591_down32_scoreVolume_clf_30_trial_3_DC_R_surround_200.bp\n"
     ]
    },
    {
     "name": "stderr",
     "output_type": "stream",
     "text": [
      "Child returned 0\n",
      "0.42 seconds.\n",
      "Transform: 2.58 seconds.\n"
     ]
    },
    {
     "name": "stdout",
     "output_type": "stream",
     "text": [
      "aws s3 cp /shared/CSHL_volumes/atlasV3/atlasV3_down32_scoreVolume_clf_30_warp_1_MD591_down32_scoreVolume_clf_30_trial_3/score_volumes/atlasV3_down32_scoreVolume_clf_30_warp_1_MD591_down32_scoreVolume_clf_30_trial_3_IC.bp s3://mousebrainatlas-data/CSHL_volumes/atlasV3/atlasV3_down32_scoreVolume_clf_30_warp_1_MD591_down32_scoreVolume_clf_30_trial_3/score_volumes/atlasV3_down32_scoreVolume_clf_30_warp_1_MD591_down32_scoreVolume_clf_30_trial_3_IC.bp\n"
     ]
    },
    {
     "name": "stderr",
     "output_type": "stream",
     "text": [
      "Child returned 0\n",
      "0.42 seconds.\n",
      "Transform: 2.53 seconds.\n",
      "Child returned 0\n"
     ]
    },
    {
     "name": "stdout",
     "output_type": "stream",
     "text": [
      "rm -rf /shared/CSHL_volumes/atlasV3/atlasV3_down32_scoreVolume/score_volumes/atlasV3_down32_scoreVolume_IC_surround_200.bp && mkdir -p /shared/CSHL_volumes/atlasV3/atlasV3_down32_scoreVolume/score_volumes\n",
      "aws s3 cp s3://mousebrainatlas-data/CSHL_volumes/atlasV3/atlasV3_down32_scoreVolume/score_volumes/atlasV3_down32_scoreVolume_IC_surround_200.bp /shared/CSHL_volumes/atlasV3/atlasV3_down32_scoreVolume/score_volumes/atlasV3_down32_scoreVolume_IC_surround_200.bp\n"
     ]
    },
    {
     "name": "stderr",
     "output_type": "stream",
     "text": [
      "Child returned 0\n",
      "0.46 seconds.\n"
     ]
    },
    {
     "name": "stdout",
     "output_type": "stream",
     "text": [
      "aws s3 cp /shared/CSHL_volumes/atlasV3/atlasV3_down32_scoreVolume_clf_30_warp_1_MD591_down32_scoreVolume_clf_30_trial_3/score_volumes/atlasV3_down32_scoreVolume_clf_30_warp_1_MD591_down32_scoreVolume_clf_30_trial_3_IC_surround_200.bp s3://mousebrainatlas-data/CSHL_volumes/atlasV3/atlasV3_down32_scoreVolume_clf_30_warp_1_MD591_down32_scoreVolume_clf_30_trial_3/score_volumes/atlasV3_down32_scoreVolume_clf_30_warp_1_MD591_down32_scoreVolume_clf_30_trial_3_IC_surround_200.bp\n"
     ]
    },
    {
     "name": "stderr",
     "output_type": "stream",
     "text": [
      "Child returned 0\n",
      "0.42 seconds.\n",
      "Transform: 3.19 seconds.\n"
     ]
    },
    {
     "name": "stdout",
     "output_type": "stream",
     "text": [
      "aws s3 cp /shared/CSHL_volumes/atlasV3/atlasV3_down32_scoreVolume_clf_30_warp_1_MD591_down32_scoreVolume_clf_30_trial_3/score_volumes/atlasV3_down32_scoreVolume_clf_30_warp_1_MD591_down32_scoreVolume_clf_30_trial_3_LC_L.bp s3://mousebrainatlas-data/CSHL_volumes/atlasV3/atlasV3_down32_scoreVolume_clf_30_warp_1_MD591_down32_scoreVolume_clf_30_trial_3/score_volumes/atlasV3_down32_scoreVolume_clf_30_warp_1_MD591_down32_scoreVolume_clf_30_trial_3_LC_L.bp\n"
     ]
    },
    {
     "name": "stderr",
     "output_type": "stream",
     "text": [
      "Child returned 0\n",
      "0.47 seconds.\n",
      "Transform: 2.05 seconds.\n",
      "Child returned 0\n"
     ]
    },
    {
     "name": "stdout",
     "output_type": "stream",
     "text": [
      "rm -rf /shared/CSHL_volumes/atlasV3/atlasV3_down32_scoreVolume/score_volumes/atlasV3_down32_scoreVolume_LC_L_surround_200.bp && mkdir -p /shared/CSHL_volumes/atlasV3/atlasV3_down32_scoreVolume/score_volumes\n",
      "aws s3 cp s3://mousebrainatlas-data/CSHL_volumes/atlasV3/atlasV3_down32_scoreVolume/score_volumes/atlasV3_down32_scoreVolume_LC_L_surround_200.bp /shared/CSHL_volumes/atlasV3/atlasV3_down32_scoreVolume/score_volumes/atlasV3_down32_scoreVolume_LC_L_surround_200.bp\n"
     ]
    },
    {
     "name": "stderr",
     "output_type": "stream",
     "text": [
      "Child returned 0\n",
      "0.49 seconds.\n"
     ]
    },
    {
     "name": "stdout",
     "output_type": "stream",
     "text": [
      "aws s3 cp /shared/CSHL_volumes/atlasV3/atlasV3_down32_scoreVolume_clf_30_warp_1_MD591_down32_scoreVolume_clf_30_trial_3/score_volumes/atlasV3_down32_scoreVolume_clf_30_warp_1_MD591_down32_scoreVolume_clf_30_trial_3_LC_L_surround_200.bp s3://mousebrainatlas-data/CSHL_volumes/atlasV3/atlasV3_down32_scoreVolume_clf_30_warp_1_MD591_down32_scoreVolume_clf_30_trial_3/score_volumes/atlasV3_down32_scoreVolume_clf_30_warp_1_MD591_down32_scoreVolume_clf_30_trial_3_LC_L_surround_200.bp\n"
     ]
    },
    {
     "name": "stderr",
     "output_type": "stream",
     "text": [
      "Child returned 0\n",
      "0.42 seconds.\n",
      "Transform: 2.56 seconds.\n"
     ]
    },
    {
     "name": "stdout",
     "output_type": "stream",
     "text": [
      "aws s3 cp /shared/CSHL_volumes/atlasV3/atlasV3_down32_scoreVolume_clf_30_warp_1_MD591_down32_scoreVolume_clf_30_trial_3/score_volumes/atlasV3_down32_scoreVolume_clf_30_warp_1_MD591_down32_scoreVolume_clf_30_trial_3_LC_R.bp s3://mousebrainatlas-data/CSHL_volumes/atlasV3/atlasV3_down32_scoreVolume_clf_30_warp_1_MD591_down32_scoreVolume_clf_30_trial_3/score_volumes/atlasV3_down32_scoreVolume_clf_30_warp_1_MD591_down32_scoreVolume_clf_30_trial_3_LC_R.bp\n"
     ]
    },
    {
     "name": "stderr",
     "output_type": "stream",
     "text": [
      "Child returned 0\n",
      "0.47 seconds.\n",
      "Transform: 2.07 seconds.\n",
      "Child returned 0\n"
     ]
    },
    {
     "name": "stdout",
     "output_type": "stream",
     "text": [
      "rm -rf /shared/CSHL_volumes/atlasV3/atlasV3_down32_scoreVolume/score_volumes/atlasV3_down32_scoreVolume_LC_R_surround_200.bp && mkdir -p /shared/CSHL_volumes/atlasV3/atlasV3_down32_scoreVolume/score_volumes\n",
      "aws s3 cp s3://mousebrainatlas-data/CSHL_volumes/atlasV3/atlasV3_down32_scoreVolume/score_volumes/atlasV3_down32_scoreVolume_LC_R_surround_200.bp /shared/CSHL_volumes/atlasV3/atlasV3_down32_scoreVolume/score_volumes/atlasV3_down32_scoreVolume_LC_R_surround_200.bp\n"
     ]
    },
    {
     "name": "stderr",
     "output_type": "stream",
     "text": [
      "Child returned 0\n",
      "0.57 seconds.\n"
     ]
    },
    {
     "name": "stdout",
     "output_type": "stream",
     "text": [
      "aws s3 cp /shared/CSHL_volumes/atlasV3/atlasV3_down32_scoreVolume_clf_30_warp_1_MD591_down32_scoreVolume_clf_30_trial_3/score_volumes/atlasV3_down32_scoreVolume_clf_30_warp_1_MD591_down32_scoreVolume_clf_30_trial_3_LC_R_surround_200.bp s3://mousebrainatlas-data/CSHL_volumes/atlasV3/atlasV3_down32_scoreVolume_clf_30_warp_1_MD591_down32_scoreVolume_clf_30_trial_3/score_volumes/atlasV3_down32_scoreVolume_clf_30_warp_1_MD591_down32_scoreVolume_clf_30_trial_3_LC_R_surround_200.bp\n"
     ]
    },
    {
     "name": "stderr",
     "output_type": "stream",
     "text": [
      "Child returned 0\n",
      "0.47 seconds.\n",
      "Transform: 2.69 seconds.\n"
     ]
    },
    {
     "name": "stdout",
     "output_type": "stream",
     "text": [
      "aws s3 cp /shared/CSHL_volumes/atlasV3/atlasV3_down32_scoreVolume_clf_30_warp_1_MD591_down32_scoreVolume_clf_30_trial_3/score_volumes/atlasV3_down32_scoreVolume_clf_30_warp_1_MD591_down32_scoreVolume_clf_30_trial_3_LRt_L.bp s3://mousebrainatlas-data/CSHL_volumes/atlasV3/atlasV3_down32_scoreVolume_clf_30_warp_1_MD591_down32_scoreVolume_clf_30_trial_3/score_volumes/atlasV3_down32_scoreVolume_clf_30_warp_1_MD591_down32_scoreVolume_clf_30_trial_3_LRt_L.bp\n"
     ]
    },
    {
     "name": "stderr",
     "output_type": "stream",
     "text": [
      "Child returned 0\n",
      "0.42 seconds.\n",
      "Transform: 2.15 seconds.\n",
      "Child returned 0\n"
     ]
    },
    {
     "name": "stdout",
     "output_type": "stream",
     "text": [
      "rm -rf /shared/CSHL_volumes/atlasV3/atlasV3_down32_scoreVolume/score_volumes/atlasV3_down32_scoreVolume_LRt_L_surround_200.bp && mkdir -p /shared/CSHL_volumes/atlasV3/atlasV3_down32_scoreVolume/score_volumes\n",
      "aws s3 cp s3://mousebrainatlas-data/CSHL_volumes/atlasV3/atlasV3_down32_scoreVolume/score_volumes/atlasV3_down32_scoreVolume_LRt_L_surround_200.bp /shared/CSHL_volumes/atlasV3/atlasV3_down32_scoreVolume/score_volumes/atlasV3_down32_scoreVolume_LRt_L_surround_200.bp\n"
     ]
    },
    {
     "name": "stderr",
     "output_type": "stream",
     "text": [
      "Child returned 0\n",
      "0.50 seconds.\n"
     ]
    },
    {
     "name": "stdout",
     "output_type": "stream",
     "text": [
      "aws s3 cp /shared/CSHL_volumes/atlasV3/atlasV3_down32_scoreVolume_clf_30_warp_1_MD591_down32_scoreVolume_clf_30_trial_3/score_volumes/atlasV3_down32_scoreVolume_clf_30_warp_1_MD591_down32_scoreVolume_clf_30_trial_3_LRt_L_surround_200.bp s3://mousebrainatlas-data/CSHL_volumes/atlasV3/atlasV3_down32_scoreVolume_clf_30_warp_1_MD591_down32_scoreVolume_clf_30_trial_3/score_volumes/atlasV3_down32_scoreVolume_clf_30_warp_1_MD591_down32_scoreVolume_clf_30_trial_3_LRt_L_surround_200.bp\n"
     ]
    },
    {
     "name": "stderr",
     "output_type": "stream",
     "text": [
      "Child returned 0\n",
      "0.47 seconds.\n",
      "Transform: 2.83 seconds.\n"
     ]
    },
    {
     "name": "stdout",
     "output_type": "stream",
     "text": [
      "aws s3 cp /shared/CSHL_volumes/atlasV3/atlasV3_down32_scoreVolume_clf_30_warp_1_MD591_down32_scoreVolume_clf_30_trial_3/score_volumes/atlasV3_down32_scoreVolume_clf_30_warp_1_MD591_down32_scoreVolume_clf_30_trial_3_LRt_R.bp s3://mousebrainatlas-data/CSHL_volumes/atlasV3/atlasV3_down32_scoreVolume_clf_30_warp_1_MD591_down32_scoreVolume_clf_30_trial_3/score_volumes/atlasV3_down32_scoreVolume_clf_30_warp_1_MD591_down32_scoreVolume_clf_30_trial_3_LRt_R.bp\n"
     ]
    },
    {
     "name": "stderr",
     "output_type": "stream",
     "text": [
      "Child returned 0\n",
      "0.47 seconds.\n",
      "Transform: 2.23 seconds.\n",
      "Child returned 0\n"
     ]
    },
    {
     "name": "stdout",
     "output_type": "stream",
     "text": [
      "rm -rf /shared/CSHL_volumes/atlasV3/atlasV3_down32_scoreVolume/score_volumes/atlasV3_down32_scoreVolume_LRt_R_surround_200.bp && mkdir -p /shared/CSHL_volumes/atlasV3/atlasV3_down32_scoreVolume/score_volumes\n",
      "aws s3 cp s3://mousebrainatlas-data/CSHL_volumes/atlasV3/atlasV3_down32_scoreVolume/score_volumes/atlasV3_down32_scoreVolume_LRt_R_surround_200.bp /shared/CSHL_volumes/atlasV3/atlasV3_down32_scoreVolume/score_volumes/atlasV3_down32_scoreVolume_LRt_R_surround_200.bp\n"
     ]
    },
    {
     "name": "stderr",
     "output_type": "stream",
     "text": [
      "Child returned 0\n",
      "0.47 seconds.\n"
     ]
    },
    {
     "name": "stdout",
     "output_type": "stream",
     "text": [
      "aws s3 cp /shared/CSHL_volumes/atlasV3/atlasV3_down32_scoreVolume_clf_30_warp_1_MD591_down32_scoreVolume_clf_30_trial_3/score_volumes/atlasV3_down32_scoreVolume_clf_30_warp_1_MD591_down32_scoreVolume_clf_30_trial_3_LRt_R_surround_200.bp s3://mousebrainatlas-data/CSHL_volumes/atlasV3/atlasV3_down32_scoreVolume_clf_30_warp_1_MD591_down32_scoreVolume_clf_30_trial_3/score_volumes/atlasV3_down32_scoreVolume_clf_30_warp_1_MD591_down32_scoreVolume_clf_30_trial_3_LRt_R_surround_200.bp\n"
     ]
    },
    {
     "name": "stderr",
     "output_type": "stream",
     "text": [
      "Child returned 0\n",
      "0.42 seconds.\n",
      "Transform: 2.79 seconds.\n"
     ]
    },
    {
     "name": "stdout",
     "output_type": "stream",
     "text": [
      "aws s3 cp /shared/CSHL_volumes/atlasV3/atlasV3_down32_scoreVolume_clf_30_warp_1_MD591_down32_scoreVolume_clf_30_trial_3/score_volumes/atlasV3_down32_scoreVolume_clf_30_warp_1_MD591_down32_scoreVolume_clf_30_trial_3_PBG_L.bp s3://mousebrainatlas-data/CSHL_volumes/atlasV3/atlasV3_down32_scoreVolume_clf_30_warp_1_MD591_down32_scoreVolume_clf_30_trial_3/score_volumes/atlasV3_down32_scoreVolume_clf_30_warp_1_MD591_down32_scoreVolume_clf_30_trial_3_PBG_L.bp\n"
     ]
    },
    {
     "name": "stderr",
     "output_type": "stream",
     "text": [
      "Child returned 0\n",
      "0.47 seconds.\n",
      "Transform: 2.05 seconds.\n",
      "Child returned 0\n"
     ]
    },
    {
     "name": "stdout",
     "output_type": "stream",
     "text": [
      "rm -rf /shared/CSHL_volumes/atlasV3/atlasV3_down32_scoreVolume/score_volumes/atlasV3_down32_scoreVolume_PBG_L_surround_200.bp && mkdir -p /shared/CSHL_volumes/atlasV3/atlasV3_down32_scoreVolume/score_volumes\n",
      "aws s3 cp s3://mousebrainatlas-data/CSHL_volumes/atlasV3/atlasV3_down32_scoreVolume/score_volumes/atlasV3_down32_scoreVolume_PBG_L_surround_200.bp /shared/CSHL_volumes/atlasV3/atlasV3_down32_scoreVolume/score_volumes/atlasV3_down32_scoreVolume_PBG_L_surround_200.bp\n"
     ]
    },
    {
     "name": "stderr",
     "output_type": "stream",
     "text": [
      "Child returned 0\n",
      "0.56 seconds.\n"
     ]
    },
    {
     "name": "stdout",
     "output_type": "stream",
     "text": [
      "aws s3 cp /shared/CSHL_volumes/atlasV3/atlasV3_down32_scoreVolume_clf_30_warp_1_MD591_down32_scoreVolume_clf_30_trial_3/score_volumes/atlasV3_down32_scoreVolume_clf_30_warp_1_MD591_down32_scoreVolume_clf_30_trial_3_PBG_L_surround_200.bp s3://mousebrainatlas-data/CSHL_volumes/atlasV3/atlasV3_down32_scoreVolume_clf_30_warp_1_MD591_down32_scoreVolume_clf_30_trial_3/score_volumes/atlasV3_down32_scoreVolume_clf_30_warp_1_MD591_down32_scoreVolume_clf_30_trial_3_PBG_L_surround_200.bp\n"
     ]
    },
    {
     "name": "stderr",
     "output_type": "stream",
     "text": [
      "Child returned 0\n",
      "0.42 seconds.\n",
      "Transform: 2.59 seconds.\n"
     ]
    },
    {
     "name": "stdout",
     "output_type": "stream",
     "text": [
      "aws s3 cp /shared/CSHL_volumes/atlasV3/atlasV3_down32_scoreVolume_clf_30_warp_1_MD591_down32_scoreVolume_clf_30_trial_3/score_volumes/atlasV3_down32_scoreVolume_clf_30_warp_1_MD591_down32_scoreVolume_clf_30_trial_3_PBG_R.bp s3://mousebrainatlas-data/CSHL_volumes/atlasV3/atlasV3_down32_scoreVolume_clf_30_warp_1_MD591_down32_scoreVolume_clf_30_trial_3/score_volumes/atlasV3_down32_scoreVolume_clf_30_warp_1_MD591_down32_scoreVolume_clf_30_trial_3_PBG_R.bp\n"
     ]
    },
    {
     "name": "stderr",
     "output_type": "stream",
     "text": [
      "Child returned 0\n",
      "0.52 seconds.\n",
      "Transform: 2.10 seconds.\n",
      "Child returned 0\n"
     ]
    },
    {
     "name": "stdout",
     "output_type": "stream",
     "text": [
      "rm -rf /shared/CSHL_volumes/atlasV3/atlasV3_down32_scoreVolume/score_volumes/atlasV3_down32_scoreVolume_PBG_R_surround_200.bp && mkdir -p /shared/CSHL_volumes/atlasV3/atlasV3_down32_scoreVolume/score_volumes\n",
      "aws s3 cp s3://mousebrainatlas-data/CSHL_volumes/atlasV3/atlasV3_down32_scoreVolume/score_volumes/atlasV3_down32_scoreVolume_PBG_R_surround_200.bp /shared/CSHL_volumes/atlasV3/atlasV3_down32_scoreVolume/score_volumes/atlasV3_down32_scoreVolume_PBG_R_surround_200.bp\n"
     ]
    },
    {
     "name": "stderr",
     "output_type": "stream",
     "text": [
      "Child returned 0\n",
      "0.54 seconds.\n"
     ]
    },
    {
     "name": "stdout",
     "output_type": "stream",
     "text": [
      "aws s3 cp /shared/CSHL_volumes/atlasV3/atlasV3_down32_scoreVolume_clf_30_warp_1_MD591_down32_scoreVolume_clf_30_trial_3/score_volumes/atlasV3_down32_scoreVolume_clf_30_warp_1_MD591_down32_scoreVolume_clf_30_trial_3_PBG_R_surround_200.bp s3://mousebrainatlas-data/CSHL_volumes/atlasV3/atlasV3_down32_scoreVolume_clf_30_warp_1_MD591_down32_scoreVolume_clf_30_trial_3/score_volumes/atlasV3_down32_scoreVolume_clf_30_warp_1_MD591_down32_scoreVolume_clf_30_trial_3_PBG_R_surround_200.bp\n"
     ]
    },
    {
     "name": "stderr",
     "output_type": "stream",
     "text": [
      "Child returned 0\n",
      "0.47 seconds.\n",
      "Transform: 2.62 seconds.\n"
     ]
    },
    {
     "name": "stdout",
     "output_type": "stream",
     "text": [
      "aws s3 cp /shared/CSHL_volumes/atlasV3/atlasV3_down32_scoreVolume_clf_30_warp_1_MD591_down32_scoreVolume_clf_30_trial_3/score_volumes/atlasV3_down32_scoreVolume_clf_30_warp_1_MD591_down32_scoreVolume_clf_30_trial_3_Pn_L.bp s3://mousebrainatlas-data/CSHL_volumes/atlasV3/atlasV3_down32_scoreVolume_clf_30_warp_1_MD591_down32_scoreVolume_clf_30_trial_3/score_volumes/atlasV3_down32_scoreVolume_clf_30_warp_1_MD591_down32_scoreVolume_clf_30_trial_3_Pn_L.bp\n"
     ]
    },
    {
     "name": "stderr",
     "output_type": "stream",
     "text": [
      "Child returned 0\n",
      "0.42 seconds.\n",
      "Transform: 2.04 seconds.\n",
      "Child returned 0\n"
     ]
    },
    {
     "name": "stdout",
     "output_type": "stream",
     "text": [
      "rm -rf /shared/CSHL_volumes/atlasV3/atlasV3_down32_scoreVolume/score_volumes/atlasV3_down32_scoreVolume_Pn_L_surround_200.bp && mkdir -p /shared/CSHL_volumes/atlasV3/atlasV3_down32_scoreVolume/score_volumes\n",
      "aws s3 cp s3://mousebrainatlas-data/CSHL_volumes/atlasV3/atlasV3_down32_scoreVolume/score_volumes/atlasV3_down32_scoreVolume_Pn_L_surround_200.bp /shared/CSHL_volumes/atlasV3/atlasV3_down32_scoreVolume/score_volumes/atlasV3_down32_scoreVolume_Pn_L_surround_200.bp\n"
     ]
    },
    {
     "name": "stderr",
     "output_type": "stream",
     "text": [
      "Child returned 0\n",
      "0.46 seconds.\n"
     ]
    },
    {
     "name": "stdout",
     "output_type": "stream",
     "text": [
      "aws s3 cp /shared/CSHL_volumes/atlasV3/atlasV3_down32_scoreVolume_clf_30_warp_1_MD591_down32_scoreVolume_clf_30_trial_3/score_volumes/atlasV3_down32_scoreVolume_clf_30_warp_1_MD591_down32_scoreVolume_clf_30_trial_3_Pn_L_surround_200.bp s3://mousebrainatlas-data/CSHL_volumes/atlasV3/atlasV3_down32_scoreVolume_clf_30_warp_1_MD591_down32_scoreVolume_clf_30_trial_3/score_volumes/atlasV3_down32_scoreVolume_clf_30_warp_1_MD591_down32_scoreVolume_clf_30_trial_3_Pn_L_surround_200.bp\n"
     ]
    },
    {
     "name": "stderr",
     "output_type": "stream",
     "text": [
      "Child returned 0\n",
      "0.46 seconds.\n",
      "Transform: 2.61 seconds.\n"
     ]
    },
    {
     "name": "stdout",
     "output_type": "stream",
     "text": [
      "aws s3 cp /shared/CSHL_volumes/atlasV3/atlasV3_down32_scoreVolume_clf_30_warp_1_MD591_down32_scoreVolume_clf_30_trial_3/score_volumes/atlasV3_down32_scoreVolume_clf_30_warp_1_MD591_down32_scoreVolume_clf_30_trial_3_Pn_R.bp s3://mousebrainatlas-data/CSHL_volumes/atlasV3/atlasV3_down32_scoreVolume_clf_30_warp_1_MD591_down32_scoreVolume_clf_30_trial_3/score_volumes/atlasV3_down32_scoreVolume_clf_30_warp_1_MD591_down32_scoreVolume_clf_30_trial_3_Pn_R.bp\n"
     ]
    },
    {
     "name": "stderr",
     "output_type": "stream",
     "text": [
      "Child returned 0\n",
      "0.41 seconds.\n",
      "Transform: 2.03 seconds.\n",
      "Child returned 0\n"
     ]
    },
    {
     "name": "stdout",
     "output_type": "stream",
     "text": [
      "rm -rf /shared/CSHL_volumes/atlasV3/atlasV3_down32_scoreVolume/score_volumes/atlasV3_down32_scoreVolume_Pn_R_surround_200.bp && mkdir -p /shared/CSHL_volumes/atlasV3/atlasV3_down32_scoreVolume/score_volumes\n",
      "aws s3 cp s3://mousebrainatlas-data/CSHL_volumes/atlasV3/atlasV3_down32_scoreVolume/score_volumes/atlasV3_down32_scoreVolume_Pn_R_surround_200.bp /shared/CSHL_volumes/atlasV3/atlasV3_down32_scoreVolume/score_volumes/atlasV3_down32_scoreVolume_Pn_R_surround_200.bp\n"
     ]
    },
    {
     "name": "stderr",
     "output_type": "stream",
     "text": [
      "Child returned 0\n",
      "0.46 seconds.\n"
     ]
    },
    {
     "name": "stdout",
     "output_type": "stream",
     "text": [
      "aws s3 cp /shared/CSHL_volumes/atlasV3/atlasV3_down32_scoreVolume_clf_30_warp_1_MD591_down32_scoreVolume_clf_30_trial_3/score_volumes/atlasV3_down32_scoreVolume_clf_30_warp_1_MD591_down32_scoreVolume_clf_30_trial_3_Pn_R_surround_200.bp s3://mousebrainatlas-data/CSHL_volumes/atlasV3/atlasV3_down32_scoreVolume_clf_30_warp_1_MD591_down32_scoreVolume_clf_30_trial_3/score_volumes/atlasV3_down32_scoreVolume_clf_30_warp_1_MD591_down32_scoreVolume_clf_30_trial_3_Pn_R_surround_200.bp\n"
     ]
    },
    {
     "name": "stderr",
     "output_type": "stream",
     "text": [
      "Child returned 0\n",
      "0.41 seconds.\n",
      "Transform: 2.56 seconds.\n"
     ]
    },
    {
     "name": "stdout",
     "output_type": "stream",
     "text": [
      "aws s3 cp /shared/CSHL_volumes/atlasV3/atlasV3_down32_scoreVolume_clf_30_warp_1_MD591_down32_scoreVolume_clf_30_trial_3/score_volumes/atlasV3_down32_scoreVolume_clf_30_warp_1_MD591_down32_scoreVolume_clf_30_trial_3_RMC_L.bp s3://mousebrainatlas-data/CSHL_volumes/atlasV3/atlasV3_down32_scoreVolume_clf_30_warp_1_MD591_down32_scoreVolume_clf_30_trial_3/score_volumes/atlasV3_down32_scoreVolume_clf_30_warp_1_MD591_down32_scoreVolume_clf_30_trial_3_RMC_L.bp\n"
     ]
    },
    {
     "name": "stderr",
     "output_type": "stream",
     "text": [
      "Child returned 0\n",
      "0.41 seconds.\n",
      "Transform: 2.01 seconds.\n",
      "Child returned 0\n"
     ]
    },
    {
     "name": "stdout",
     "output_type": "stream",
     "text": [
      "rm -rf /shared/CSHL_volumes/atlasV3/atlasV3_down32_scoreVolume/score_volumes/atlasV3_down32_scoreVolume_RMC_L_surround_200.bp && mkdir -p /shared/CSHL_volumes/atlasV3/atlasV3_down32_scoreVolume/score_volumes\n",
      "aws s3 cp s3://mousebrainatlas-data/CSHL_volumes/atlasV3/atlasV3_down32_scoreVolume/score_volumes/atlasV3_down32_scoreVolume_RMC_L_surround_200.bp /shared/CSHL_volumes/atlasV3/atlasV3_down32_scoreVolume/score_volumes/atlasV3_down32_scoreVolume_RMC_L_surround_200.bp\n"
     ]
    },
    {
     "name": "stderr",
     "output_type": "stream",
     "text": [
      "Child returned 0\n",
      "0.47 seconds.\n"
     ]
    },
    {
     "name": "stdout",
     "output_type": "stream",
     "text": [
      "aws s3 cp /shared/CSHL_volumes/atlasV3/atlasV3_down32_scoreVolume_clf_30_warp_1_MD591_down32_scoreVolume_clf_30_trial_3/score_volumes/atlasV3_down32_scoreVolume_clf_30_warp_1_MD591_down32_scoreVolume_clf_30_trial_3_RMC_L_surround_200.bp s3://mousebrainatlas-data/CSHL_volumes/atlasV3/atlasV3_down32_scoreVolume_clf_30_warp_1_MD591_down32_scoreVolume_clf_30_trial_3/score_volumes/atlasV3_down32_scoreVolume_clf_30_warp_1_MD591_down32_scoreVolume_clf_30_trial_3_RMC_L_surround_200.bp\n"
     ]
    },
    {
     "name": "stderr",
     "output_type": "stream",
     "text": [
      "Child returned 0\n",
      "0.42 seconds.\n",
      "Transform: 2.54 seconds.\n"
     ]
    },
    {
     "name": "stdout",
     "output_type": "stream",
     "text": [
      "aws s3 cp /shared/CSHL_volumes/atlasV3/atlasV3_down32_scoreVolume_clf_30_warp_1_MD591_down32_scoreVolume_clf_30_trial_3/score_volumes/atlasV3_down32_scoreVolume_clf_30_warp_1_MD591_down32_scoreVolume_clf_30_trial_3_RMC_R.bp s3://mousebrainatlas-data/CSHL_volumes/atlasV3/atlasV3_down32_scoreVolume_clf_30_warp_1_MD591_down32_scoreVolume_clf_30_trial_3/score_volumes/atlasV3_down32_scoreVolume_clf_30_warp_1_MD591_down32_scoreVolume_clf_30_trial_3_RMC_R.bp\n"
     ]
    },
    {
     "name": "stderr",
     "output_type": "stream",
     "text": [
      "Child returned 0\n",
      "0.42 seconds.\n",
      "Transform: 2.01 seconds.\n",
      "Child returned 0\n"
     ]
    },
    {
     "name": "stdout",
     "output_type": "stream",
     "text": [
      "rm -rf /shared/CSHL_volumes/atlasV3/atlasV3_down32_scoreVolume/score_volumes/atlasV3_down32_scoreVolume_RMC_R_surround_200.bp && mkdir -p /shared/CSHL_volumes/atlasV3/atlasV3_down32_scoreVolume/score_volumes\n",
      "aws s3 cp s3://mousebrainatlas-data/CSHL_volumes/atlasV3/atlasV3_down32_scoreVolume/score_volumes/atlasV3_down32_scoreVolume_RMC_R_surround_200.bp /shared/CSHL_volumes/atlasV3/atlasV3_down32_scoreVolume/score_volumes/atlasV3_down32_scoreVolume_RMC_R_surround_200.bp\n"
     ]
    },
    {
     "name": "stderr",
     "output_type": "stream",
     "text": [
      "Child returned 0\n",
      "0.47 seconds.\n"
     ]
    },
    {
     "name": "stdout",
     "output_type": "stream",
     "text": [
      "aws s3 cp /shared/CSHL_volumes/atlasV3/atlasV3_down32_scoreVolume_clf_30_warp_1_MD591_down32_scoreVolume_clf_30_trial_3/score_volumes/atlasV3_down32_scoreVolume_clf_30_warp_1_MD591_down32_scoreVolume_clf_30_trial_3_RMC_R_surround_200.bp s3://mousebrainatlas-data/CSHL_volumes/atlasV3/atlasV3_down32_scoreVolume_clf_30_warp_1_MD591_down32_scoreVolume_clf_30_trial_3/score_volumes/atlasV3_down32_scoreVolume_clf_30_warp_1_MD591_down32_scoreVolume_clf_30_trial_3_RMC_R_surround_200.bp\n"
     ]
    },
    {
     "name": "stderr",
     "output_type": "stream",
     "text": [
      "Child returned 0\n",
      "0.42 seconds.\n",
      "Transform: 2.53 seconds.\n"
     ]
    },
    {
     "name": "stdout",
     "output_type": "stream",
     "text": [
      "aws s3 cp /shared/CSHL_volumes/atlasV3/atlasV3_down32_scoreVolume_clf_30_warp_1_MD591_down32_scoreVolume_clf_30_trial_3/score_volumes/atlasV3_down32_scoreVolume_clf_30_warp_1_MD591_down32_scoreVolume_clf_30_trial_3_RtTg.bp s3://mousebrainatlas-data/CSHL_volumes/atlasV3/atlasV3_down32_scoreVolume_clf_30_warp_1_MD591_down32_scoreVolume_clf_30_trial_3/score_volumes/atlasV3_down32_scoreVolume_clf_30_warp_1_MD591_down32_scoreVolume_clf_30_trial_3_RtTg.bp\n"
     ]
    },
    {
     "name": "stderr",
     "output_type": "stream",
     "text": [
      "Child returned 0\n",
      "0.47 seconds.\n",
      "Transform: 2.16 seconds.\n",
      "Child returned 0\n"
     ]
    },
    {
     "name": "stdout",
     "output_type": "stream",
     "text": [
      "rm -rf /shared/CSHL_volumes/atlasV3/atlasV3_down32_scoreVolume/score_volumes/atlasV3_down32_scoreVolume_RtTg_surround_200.bp && mkdir -p /shared/CSHL_volumes/atlasV3/atlasV3_down32_scoreVolume/score_volumes\n",
      "aws s3 cp s3://mousebrainatlas-data/CSHL_volumes/atlasV3/atlasV3_down32_scoreVolume/score_volumes/atlasV3_down32_scoreVolume_RtTg_surround_200.bp /shared/CSHL_volumes/atlasV3/atlasV3_down32_scoreVolume/score_volumes/atlasV3_down32_scoreVolume_RtTg_surround_200.bp\n"
     ]
    },
    {
     "name": "stderr",
     "output_type": "stream",
     "text": [
      "Child returned 0\n",
      "0.47 seconds.\n"
     ]
    },
    {
     "name": "stdout",
     "output_type": "stream",
     "text": [
      "aws s3 cp /shared/CSHL_volumes/atlasV3/atlasV3_down32_scoreVolume_clf_30_warp_1_MD591_down32_scoreVolume_clf_30_trial_3/score_volumes/atlasV3_down32_scoreVolume_clf_30_warp_1_MD591_down32_scoreVolume_clf_30_trial_3_RtTg_surround_200.bp s3://mousebrainatlas-data/CSHL_volumes/atlasV3/atlasV3_down32_scoreVolume_clf_30_warp_1_MD591_down32_scoreVolume_clf_30_trial_3/score_volumes/atlasV3_down32_scoreVolume_clf_30_warp_1_MD591_down32_scoreVolume_clf_30_trial_3_RtTg_surround_200.bp\n"
     ]
    },
    {
     "name": "stderr",
     "output_type": "stream",
     "text": [
      "Child returned 0\n",
      "0.42 seconds.\n",
      "Transform: 2.70 seconds.\n"
     ]
    },
    {
     "name": "stdout",
     "output_type": "stream",
     "text": [
      "aws s3 cp /shared/CSHL_volumes/atlasV3/atlasV3_down32_scoreVolume_clf_30_warp_1_MD591_down32_scoreVolume_clf_30_trial_3/score_volumes/atlasV3_down32_scoreVolume_clf_30_warp_1_MD591_down32_scoreVolume_clf_30_trial_3_SC.bp s3://mousebrainatlas-data/CSHL_volumes/atlasV3/atlasV3_down32_scoreVolume_clf_30_warp_1_MD591_down32_scoreVolume_clf_30_trial_3/score_volumes/atlasV3_down32_scoreVolume_clf_30_warp_1_MD591_down32_scoreVolume_clf_30_trial_3_SC.bp\n"
     ]
    },
    {
     "name": "stderr",
     "output_type": "stream",
     "text": [
      "Child returned 0\n",
      "0.41 seconds.\n",
      "Transform: 2.77 seconds.\n",
      "Child returned 0\n"
     ]
    },
    {
     "name": "stdout",
     "output_type": "stream",
     "text": [
      "rm -rf /shared/CSHL_volumes/atlasV3/atlasV3_down32_scoreVolume/score_volumes/atlasV3_down32_scoreVolume_SC_surround_200.bp && mkdir -p /shared/CSHL_volumes/atlasV3/atlasV3_down32_scoreVolume/score_volumes\n",
      "aws s3 cp s3://mousebrainatlas-data/CSHL_volumes/atlasV3/atlasV3_down32_scoreVolume/score_volumes/atlasV3_down32_scoreVolume_SC_surround_200.bp /shared/CSHL_volumes/atlasV3/atlasV3_down32_scoreVolume/score_volumes/atlasV3_down32_scoreVolume_SC_surround_200.bp\n"
     ]
    },
    {
     "name": "stderr",
     "output_type": "stream",
     "text": [
      "Child returned 0\n",
      "0.44 seconds.\n"
     ]
    },
    {
     "name": "stdout",
     "output_type": "stream",
     "text": [
      "aws s3 cp /shared/CSHL_volumes/atlasV3/atlasV3_down32_scoreVolume_clf_30_warp_1_MD591_down32_scoreVolume_clf_30_trial_3/score_volumes/atlasV3_down32_scoreVolume_clf_30_warp_1_MD591_down32_scoreVolume_clf_30_trial_3_SC_surround_200.bp s3://mousebrainatlas-data/CSHL_volumes/atlasV3/atlasV3_down32_scoreVolume_clf_30_warp_1_MD591_down32_scoreVolume_clf_30_trial_3/score_volumes/atlasV3_down32_scoreVolume_clf_30_warp_1_MD591_down32_scoreVolume_clf_30_trial_3_SC_surround_200.bp\n"
     ]
    },
    {
     "name": "stderr",
     "output_type": "stream",
     "text": [
      "Child returned 0\n",
      "0.41 seconds.\n",
      "Transform: 3.40 seconds.\n"
     ]
    },
    {
     "name": "stdout",
     "output_type": "stream",
     "text": [
      "aws s3 cp /shared/CSHL_volumes/atlasV3/atlasV3_down32_scoreVolume_clf_30_warp_1_MD591_down32_scoreVolume_clf_30_trial_3/score_volumes/atlasV3_down32_scoreVolume_clf_30_warp_1_MD591_down32_scoreVolume_clf_30_trial_3_SNC_L.bp s3://mousebrainatlas-data/CSHL_volumes/atlasV3/atlasV3_down32_scoreVolume_clf_30_warp_1_MD591_down32_scoreVolume_clf_30_trial_3/score_volumes/atlasV3_down32_scoreVolume_clf_30_warp_1_MD591_down32_scoreVolume_clf_30_trial_3_SNC_L.bp\n"
     ]
    },
    {
     "name": "stderr",
     "output_type": "stream",
     "text": [
      "Child returned 0\n",
      "0.41 seconds.\n",
      "Transform: 2.00 seconds.\n",
      "Child returned 0\n"
     ]
    },
    {
     "name": "stdout",
     "output_type": "stream",
     "text": [
      "rm -rf /shared/CSHL_volumes/atlasV3/atlasV3_down32_scoreVolume/score_volumes/atlasV3_down32_scoreVolume_SNC_L_surround_200.bp && mkdir -p /shared/CSHL_volumes/atlasV3/atlasV3_down32_scoreVolume/score_volumes\n",
      "aws s3 cp s3://mousebrainatlas-data/CSHL_volumes/atlasV3/atlasV3_down32_scoreVolume/score_volumes/atlasV3_down32_scoreVolume_SNC_L_surround_200.bp /shared/CSHL_volumes/atlasV3/atlasV3_down32_scoreVolume/score_volumes/atlasV3_down32_scoreVolume_SNC_L_surround_200.bp\n"
     ]
    },
    {
     "name": "stderr",
     "output_type": "stream",
     "text": [
      "Child returned 0\n",
      "0.41 seconds.\n"
     ]
    },
    {
     "name": "stdout",
     "output_type": "stream",
     "text": [
      "aws s3 cp /shared/CSHL_volumes/atlasV3/atlasV3_down32_scoreVolume_clf_30_warp_1_MD591_down32_scoreVolume_clf_30_trial_3/score_volumes/atlasV3_down32_scoreVolume_clf_30_warp_1_MD591_down32_scoreVolume_clf_30_trial_3_SNC_L_surround_200.bp s3://mousebrainatlas-data/CSHL_volumes/atlasV3/atlasV3_down32_scoreVolume_clf_30_warp_1_MD591_down32_scoreVolume_clf_30_trial_3/score_volumes/atlasV3_down32_scoreVolume_clf_30_warp_1_MD591_down32_scoreVolume_clf_30_trial_3_SNC_L_surround_200.bp\n"
     ]
    },
    {
     "name": "stderr",
     "output_type": "stream",
     "text": [
      "Child returned 0\n",
      "0.52 seconds.\n",
      "Transform: 2.57 seconds.\n"
     ]
    },
    {
     "name": "stdout",
     "output_type": "stream",
     "text": [
      "aws s3 cp /shared/CSHL_volumes/atlasV3/atlasV3_down32_scoreVolume_clf_30_warp_1_MD591_down32_scoreVolume_clf_30_trial_3/score_volumes/atlasV3_down32_scoreVolume_clf_30_warp_1_MD591_down32_scoreVolume_clf_30_trial_3_SNC_R.bp s3://mousebrainatlas-data/CSHL_volumes/atlasV3/atlasV3_down32_scoreVolume_clf_30_warp_1_MD591_down32_scoreVolume_clf_30_trial_3/score_volumes/atlasV3_down32_scoreVolume_clf_30_warp_1_MD591_down32_scoreVolume_clf_30_trial_3_SNC_R.bp\n"
     ]
    },
    {
     "name": "stderr",
     "output_type": "stream",
     "text": [
      "Child returned 0\n",
      "0.41 seconds.\n",
      "Transform: 2.01 seconds.\n",
      "Child returned 0\n"
     ]
    },
    {
     "name": "stdout",
     "output_type": "stream",
     "text": [
      "rm -rf /shared/CSHL_volumes/atlasV3/atlasV3_down32_scoreVolume/score_volumes/atlasV3_down32_scoreVolume_SNC_R_surround_200.bp && mkdir -p /shared/CSHL_volumes/atlasV3/atlasV3_down32_scoreVolume/score_volumes\n",
      "aws s3 cp s3://mousebrainatlas-data/CSHL_volumes/atlasV3/atlasV3_down32_scoreVolume/score_volumes/atlasV3_down32_scoreVolume_SNC_R_surround_200.bp /shared/CSHL_volumes/atlasV3/atlasV3_down32_scoreVolume/score_volumes/atlasV3_down32_scoreVolume_SNC_R_surround_200.bp\n"
     ]
    },
    {
     "name": "stderr",
     "output_type": "stream",
     "text": [
      "Child returned 0\n",
      "0.46 seconds.\n"
     ]
    },
    {
     "name": "stdout",
     "output_type": "stream",
     "text": [
      "aws s3 cp /shared/CSHL_volumes/atlasV3/atlasV3_down32_scoreVolume_clf_30_warp_1_MD591_down32_scoreVolume_clf_30_trial_3/score_volumes/atlasV3_down32_scoreVolume_clf_30_warp_1_MD591_down32_scoreVolume_clf_30_trial_3_SNC_R_surround_200.bp s3://mousebrainatlas-data/CSHL_volumes/atlasV3/atlasV3_down32_scoreVolume_clf_30_warp_1_MD591_down32_scoreVolume_clf_30_trial_3/score_volumes/atlasV3_down32_scoreVolume_clf_30_warp_1_MD591_down32_scoreVolume_clf_30_trial_3_SNC_R_surround_200.bp\n"
     ]
    },
    {
     "name": "stderr",
     "output_type": "stream",
     "text": [
      "Child returned 0\n",
      "0.41 seconds.\n",
      "Transform: 2.52 seconds.\n"
     ]
    },
    {
     "name": "stdout",
     "output_type": "stream",
     "text": [
      "aws s3 cp /shared/CSHL_volumes/atlasV3/atlasV3_down32_scoreVolume_clf_30_warp_1_MD591_down32_scoreVolume_clf_30_trial_3/score_volumes/atlasV3_down32_scoreVolume_clf_30_warp_1_MD591_down32_scoreVolume_clf_30_trial_3_SNR_L.bp s3://mousebrainatlas-data/CSHL_volumes/atlasV3/atlasV3_down32_scoreVolume_clf_30_warp_1_MD591_down32_scoreVolume_clf_30_trial_3/score_volumes/atlasV3_down32_scoreVolume_clf_30_warp_1_MD591_down32_scoreVolume_clf_30_trial_3_SNR_L.bp\n"
     ]
    },
    {
     "name": "stderr",
     "output_type": "stream",
     "text": [
      "Child returned 0\n",
      "0.41 seconds.\n",
      "Transform: 2.09 seconds.\n",
      "Child returned 0\n"
     ]
    },
    {
     "name": "stdout",
     "output_type": "stream",
     "text": [
      "rm -rf /shared/CSHL_volumes/atlasV3/atlasV3_down32_scoreVolume/score_volumes/atlasV3_down32_scoreVolume_SNR_L_surround_200.bp && mkdir -p /shared/CSHL_volumes/atlasV3/atlasV3_down32_scoreVolume/score_volumes\n",
      "aws s3 cp s3://mousebrainatlas-data/CSHL_volumes/atlasV3/atlasV3_down32_scoreVolume/score_volumes/atlasV3_down32_scoreVolume_SNR_L_surround_200.bp /shared/CSHL_volumes/atlasV3/atlasV3_down32_scoreVolume/score_volumes/atlasV3_down32_scoreVolume_SNR_L_surround_200.bp\n"
     ]
    },
    {
     "name": "stderr",
     "output_type": "stream",
     "text": [
      "Child returned 0\n",
      "0.45 seconds.\n"
     ]
    },
    {
     "name": "stdout",
     "output_type": "stream",
     "text": [
      "aws s3 cp /shared/CSHL_volumes/atlasV3/atlasV3_down32_scoreVolume_clf_30_warp_1_MD591_down32_scoreVolume_clf_30_trial_3/score_volumes/atlasV3_down32_scoreVolume_clf_30_warp_1_MD591_down32_scoreVolume_clf_30_trial_3_SNR_L_surround_200.bp s3://mousebrainatlas-data/CSHL_volumes/atlasV3/atlasV3_down32_scoreVolume_clf_30_warp_1_MD591_down32_scoreVolume_clf_30_trial_3/score_volumes/atlasV3_down32_scoreVolume_clf_30_warp_1_MD591_down32_scoreVolume_clf_30_trial_3_SNR_L_surround_200.bp\n"
     ]
    },
    {
     "name": "stderr",
     "output_type": "stream",
     "text": [
      "Child returned 0\n",
      "0.46 seconds.\n",
      "Transform: 2.70 seconds.\n"
     ]
    },
    {
     "name": "stdout",
     "output_type": "stream",
     "text": [
      "aws s3 cp /shared/CSHL_volumes/atlasV3/atlasV3_down32_scoreVolume_clf_30_warp_1_MD591_down32_scoreVolume_clf_30_trial_3/score_volumes/atlasV3_down32_scoreVolume_clf_30_warp_1_MD591_down32_scoreVolume_clf_30_trial_3_SNR_R.bp s3://mousebrainatlas-data/CSHL_volumes/atlasV3/atlasV3_down32_scoreVolume_clf_30_warp_1_MD591_down32_scoreVolume_clf_30_trial_3/score_volumes/atlasV3_down32_scoreVolume_clf_30_warp_1_MD591_down32_scoreVolume_clf_30_trial_3_SNR_R.bp\n"
     ]
    },
    {
     "name": "stderr",
     "output_type": "stream",
     "text": [
      "Child returned 0\n",
      "0.41 seconds.\n",
      "Transform: 2.09 seconds.\n",
      "Child returned 0\n"
     ]
    },
    {
     "name": "stdout",
     "output_type": "stream",
     "text": [
      "rm -rf /shared/CSHL_volumes/atlasV3/atlasV3_down32_scoreVolume/score_volumes/atlasV3_down32_scoreVolume_SNR_R_surround_200.bp && mkdir -p /shared/CSHL_volumes/atlasV3/atlasV3_down32_scoreVolume/score_volumes\n",
      "aws s3 cp s3://mousebrainatlas-data/CSHL_volumes/atlasV3/atlasV3_down32_scoreVolume/score_volumes/atlasV3_down32_scoreVolume_SNR_R_surround_200.bp /shared/CSHL_volumes/atlasV3/atlasV3_down32_scoreVolume/score_volumes/atlasV3_down32_scoreVolume_SNR_R_surround_200.bp\n"
     ]
    },
    {
     "name": "stderr",
     "output_type": "stream",
     "text": [
      "Child returned 0\n",
      "0.51 seconds.\n"
     ]
    },
    {
     "name": "stdout",
     "output_type": "stream",
     "text": [
      "aws s3 cp /shared/CSHL_volumes/atlasV3/atlasV3_down32_scoreVolume_clf_30_warp_1_MD591_down32_scoreVolume_clf_30_trial_3/score_volumes/atlasV3_down32_scoreVolume_clf_30_warp_1_MD591_down32_scoreVolume_clf_30_trial_3_SNR_R_surround_200.bp s3://mousebrainatlas-data/CSHL_volumes/atlasV3/atlasV3_down32_scoreVolume_clf_30_warp_1_MD591_down32_scoreVolume_clf_30_trial_3/score_volumes/atlasV3_down32_scoreVolume_clf_30_warp_1_MD591_down32_scoreVolume_clf_30_trial_3_SNR_R_surround_200.bp\n"
     ]
    },
    {
     "name": "stderr",
     "output_type": "stream",
     "text": [
      "Child returned 0\n",
      "0.41 seconds.\n",
      "Transform: 2.71 seconds.\n"
     ]
    },
    {
     "name": "stdout",
     "output_type": "stream",
     "text": [
      "aws s3 cp /shared/CSHL_volumes/atlasV3/atlasV3_down32_scoreVolume_clf_30_warp_1_MD591_down32_scoreVolume_clf_30_trial_3/score_volumes/atlasV3_down32_scoreVolume_clf_30_warp_1_MD591_down32_scoreVolume_clf_30_trial_3_Sp5C_L.bp s3://mousebrainatlas-data/CSHL_volumes/atlasV3/atlasV3_down32_scoreVolume_clf_30_warp_1_MD591_down32_scoreVolume_clf_30_trial_3/score_volumes/atlasV3_down32_scoreVolume_clf_30_warp_1_MD591_down32_scoreVolume_clf_30_trial_3_Sp5C_L.bp\n"
     ]
    },
    {
     "name": "stderr",
     "output_type": "stream",
     "text": [
      "Child returned 0\n",
      "0.41 seconds.\n",
      "Transform: 2.09 seconds.\n",
      "Child returned 0\n"
     ]
    },
    {
     "name": "stdout",
     "output_type": "stream",
     "text": [
      "rm -rf /shared/CSHL_volumes/atlasV3/atlasV3_down32_scoreVolume/score_volumes/atlasV3_down32_scoreVolume_Sp5C_L_surround_200.bp && mkdir -p /shared/CSHL_volumes/atlasV3/atlasV3_down32_scoreVolume/score_volumes\n",
      "aws s3 cp s3://mousebrainatlas-data/CSHL_volumes/atlasV3/atlasV3_down32_scoreVolume/score_volumes/atlasV3_down32_scoreVolume_Sp5C_L_surround_200.bp /shared/CSHL_volumes/atlasV3/atlasV3_down32_scoreVolume/score_volumes/atlasV3_down32_scoreVolume_Sp5C_L_surround_200.bp\n"
     ]
    },
    {
     "name": "stderr",
     "output_type": "stream",
     "text": [
      "Child returned 0\n",
      "0.46 seconds.\n"
     ]
    },
    {
     "name": "stdout",
     "output_type": "stream",
     "text": [
      "aws s3 cp /shared/CSHL_volumes/atlasV3/atlasV3_down32_scoreVolume_clf_30_warp_1_MD591_down32_scoreVolume_clf_30_trial_3/score_volumes/atlasV3_down32_scoreVolume_clf_30_warp_1_MD591_down32_scoreVolume_clf_30_trial_3_Sp5C_L_surround_200.bp s3://mousebrainatlas-data/CSHL_volumes/atlasV3/atlasV3_down32_scoreVolume_clf_30_warp_1_MD591_down32_scoreVolume_clf_30_trial_3/score_volumes/atlasV3_down32_scoreVolume_clf_30_warp_1_MD591_down32_scoreVolume_clf_30_trial_3_Sp5C_L_surround_200.bp\n"
     ]
    },
    {
     "name": "stderr",
     "output_type": "stream",
     "text": [
      "Child returned 0\n",
      "0.47 seconds.\n",
      "Transform: 2.73 seconds.\n"
     ]
    },
    {
     "name": "stdout",
     "output_type": "stream",
     "text": [
      "aws s3 cp /shared/CSHL_volumes/atlasV3/atlasV3_down32_scoreVolume_clf_30_warp_1_MD591_down32_scoreVolume_clf_30_trial_3/score_volumes/atlasV3_down32_scoreVolume_clf_30_warp_1_MD591_down32_scoreVolume_clf_30_trial_3_Sp5C_R.bp s3://mousebrainatlas-data/CSHL_volumes/atlasV3/atlasV3_down32_scoreVolume_clf_30_warp_1_MD591_down32_scoreVolume_clf_30_trial_3/score_volumes/atlasV3_down32_scoreVolume_clf_30_warp_1_MD591_down32_scoreVolume_clf_30_trial_3_Sp5C_R.bp\n"
     ]
    },
    {
     "name": "stderr",
     "output_type": "stream",
     "text": [
      "Child returned 0\n",
      "0.42 seconds.\n",
      "Transform: 2.10 seconds.\n",
      "Child returned 0\n"
     ]
    },
    {
     "name": "stdout",
     "output_type": "stream",
     "text": [
      "rm -rf /shared/CSHL_volumes/atlasV3/atlasV3_down32_scoreVolume/score_volumes/atlasV3_down32_scoreVolume_Sp5C_R_surround_200.bp && mkdir -p /shared/CSHL_volumes/atlasV3/atlasV3_down32_scoreVolume/score_volumes\n",
      "aws s3 cp s3://mousebrainatlas-data/CSHL_volumes/atlasV3/atlasV3_down32_scoreVolume/score_volumes/atlasV3_down32_scoreVolume_Sp5C_R_surround_200.bp /shared/CSHL_volumes/atlasV3/atlasV3_down32_scoreVolume/score_volumes/atlasV3_down32_scoreVolume_Sp5C_R_surround_200.bp\n"
     ]
    },
    {
     "name": "stderr",
     "output_type": "stream",
     "text": [
      "Child returned 0\n",
      "0.47 seconds.\n"
     ]
    },
    {
     "name": "stdout",
     "output_type": "stream",
     "text": [
      "aws s3 cp /shared/CSHL_volumes/atlasV3/atlasV3_down32_scoreVolume_clf_30_warp_1_MD591_down32_scoreVolume_clf_30_trial_3/score_volumes/atlasV3_down32_scoreVolume_clf_30_warp_1_MD591_down32_scoreVolume_clf_30_trial_3_Sp5C_R_surround_200.bp s3://mousebrainatlas-data/CSHL_volumes/atlasV3/atlasV3_down32_scoreVolume_clf_30_warp_1_MD591_down32_scoreVolume_clf_30_trial_3/score_volumes/atlasV3_down32_scoreVolume_clf_30_warp_1_MD591_down32_scoreVolume_clf_30_trial_3_Sp5C_R_surround_200.bp\n"
     ]
    },
    {
     "name": "stderr",
     "output_type": "stream",
     "text": [
      "Child returned 0\n",
      "0.52 seconds.\n",
      "Transform: 2.78 seconds.\n"
     ]
    },
    {
     "name": "stdout",
     "output_type": "stream",
     "text": [
      "aws s3 cp /shared/CSHL_volumes/atlasV3/atlasV3_down32_scoreVolume_clf_30_warp_1_MD591_down32_scoreVolume_clf_30_trial_3/score_volumes/atlasV3_down32_scoreVolume_clf_30_warp_1_MD591_down32_scoreVolume_clf_30_trial_3_Sp5I_L.bp s3://mousebrainatlas-data/CSHL_volumes/atlasV3/atlasV3_down32_scoreVolume_clf_30_warp_1_MD591_down32_scoreVolume_clf_30_trial_3/score_volumes/atlasV3_down32_scoreVolume_clf_30_warp_1_MD591_down32_scoreVolume_clf_30_trial_3_Sp5I_L.bp\n"
     ]
    },
    {
     "name": "stderr",
     "output_type": "stream",
     "text": [
      "Child returned 0\n",
      "0.42 seconds.\n",
      "Transform: 2.04 seconds.\n",
      "Child returned 0\n"
     ]
    },
    {
     "name": "stdout",
     "output_type": "stream",
     "text": [
      "rm -rf /shared/CSHL_volumes/atlasV3/atlasV3_down32_scoreVolume/score_volumes/atlasV3_down32_scoreVolume_Sp5I_L_surround_200.bp && mkdir -p /shared/CSHL_volumes/atlasV3/atlasV3_down32_scoreVolume/score_volumes\n",
      "aws s3 cp s3://mousebrainatlas-data/CSHL_volumes/atlasV3/atlasV3_down32_scoreVolume/score_volumes/atlasV3_down32_scoreVolume_Sp5I_L_surround_200.bp /shared/CSHL_volumes/atlasV3/atlasV3_down32_scoreVolume/score_volumes/atlasV3_down32_scoreVolume_Sp5I_L_surround_200.bp\n"
     ]
    },
    {
     "name": "stderr",
     "output_type": "stream",
     "text": [
      "Child returned 0\n",
      "0.52 seconds.\n"
     ]
    },
    {
     "name": "stdout",
     "output_type": "stream",
     "text": [
      "aws s3 cp /shared/CSHL_volumes/atlasV3/atlasV3_down32_scoreVolume_clf_30_warp_1_MD591_down32_scoreVolume_clf_30_trial_3/score_volumes/atlasV3_down32_scoreVolume_clf_30_warp_1_MD591_down32_scoreVolume_clf_30_trial_3_Sp5I_L_surround_200.bp s3://mousebrainatlas-data/CSHL_volumes/atlasV3/atlasV3_down32_scoreVolume_clf_30_warp_1_MD591_down32_scoreVolume_clf_30_trial_3/score_volumes/atlasV3_down32_scoreVolume_clf_30_warp_1_MD591_down32_scoreVolume_clf_30_trial_3_Sp5I_L_surround_200.bp\n"
     ]
    },
    {
     "name": "stderr",
     "output_type": "stream",
     "text": [
      "Child returned 0\n",
      "0.41 seconds.\n",
      "Transform: 2.66 seconds.\n"
     ]
    },
    {
     "name": "stdout",
     "output_type": "stream",
     "text": [
      "aws s3 cp /shared/CSHL_volumes/atlasV3/atlasV3_down32_scoreVolume_clf_30_warp_1_MD591_down32_scoreVolume_clf_30_trial_3/score_volumes/atlasV3_down32_scoreVolume_clf_30_warp_1_MD591_down32_scoreVolume_clf_30_trial_3_Sp5I_R.bp s3://mousebrainatlas-data/CSHL_volumes/atlasV3/atlasV3_down32_scoreVolume_clf_30_warp_1_MD591_down32_scoreVolume_clf_30_trial_3/score_volumes/atlasV3_down32_scoreVolume_clf_30_warp_1_MD591_down32_scoreVolume_clf_30_trial_3_Sp5I_R.bp\n"
     ]
    },
    {
     "name": "stderr",
     "output_type": "stream",
     "text": [
      "Child returned 0\n",
      "0.42 seconds.\n",
      "Transform: 2.05 seconds.\n",
      "Child returned 0\n"
     ]
    },
    {
     "name": "stdout",
     "output_type": "stream",
     "text": [
      "rm -rf /shared/CSHL_volumes/atlasV3/atlasV3_down32_scoreVolume/score_volumes/atlasV3_down32_scoreVolume_Sp5I_R_surround_200.bp && mkdir -p /shared/CSHL_volumes/atlasV3/atlasV3_down32_scoreVolume/score_volumes\n",
      "aws s3 cp s3://mousebrainatlas-data/CSHL_volumes/atlasV3/atlasV3_down32_scoreVolume/score_volumes/atlasV3_down32_scoreVolume_Sp5I_R_surround_200.bp /shared/CSHL_volumes/atlasV3/atlasV3_down32_scoreVolume/score_volumes/atlasV3_down32_scoreVolume_Sp5I_R_surround_200.bp\n"
     ]
    },
    {
     "name": "stderr",
     "output_type": "stream",
     "text": [
      "Child returned 0\n",
      "0.48 seconds.\n"
     ]
    },
    {
     "name": "stdout",
     "output_type": "stream",
     "text": [
      "aws s3 cp /shared/CSHL_volumes/atlasV3/atlasV3_down32_scoreVolume_clf_30_warp_1_MD591_down32_scoreVolume_clf_30_trial_3/score_volumes/atlasV3_down32_scoreVolume_clf_30_warp_1_MD591_down32_scoreVolume_clf_30_trial_3_Sp5I_R_surround_200.bp s3://mousebrainatlas-data/CSHL_volumes/atlasV3/atlasV3_down32_scoreVolume_clf_30_warp_1_MD591_down32_scoreVolume_clf_30_trial_3/score_volumes/atlasV3_down32_scoreVolume_clf_30_warp_1_MD591_down32_scoreVolume_clf_30_trial_3_Sp5I_R_surround_200.bp\n"
     ]
    },
    {
     "name": "stderr",
     "output_type": "stream",
     "text": [
      "Child returned 0\n",
      "0.47 seconds.\n",
      "Transform: 2.67 seconds.\n"
     ]
    },
    {
     "name": "stdout",
     "output_type": "stream",
     "text": [
      "aws s3 cp /shared/CSHL_volumes/atlasV3/atlasV3_down32_scoreVolume_clf_30_warp_1_MD591_down32_scoreVolume_clf_30_trial_3/score_volumes/atlasV3_down32_scoreVolume_clf_30_warp_1_MD591_down32_scoreVolume_clf_30_trial_3_Sp5O_L.bp s3://mousebrainatlas-data/CSHL_volumes/atlasV3/atlasV3_down32_scoreVolume_clf_30_warp_1_MD591_down32_scoreVolume_clf_30_trial_3/score_volumes/atlasV3_down32_scoreVolume_clf_30_warp_1_MD591_down32_scoreVolume_clf_30_trial_3_Sp5O_L.bp\n"
     ]
    },
    {
     "name": "stderr",
     "output_type": "stream",
     "text": [
      "Child returned 0\n",
      "0.47 seconds.\n",
      "Transform: 2.10 seconds.\n",
      "Child returned 0\n"
     ]
    },
    {
     "name": "stdout",
     "output_type": "stream",
     "text": [
      "rm -rf /shared/CSHL_volumes/atlasV3/atlasV3_down32_scoreVolume/score_volumes/atlasV3_down32_scoreVolume_Sp5O_L_surround_200.bp && mkdir -p /shared/CSHL_volumes/atlasV3/atlasV3_down32_scoreVolume/score_volumes\n",
      "aws s3 cp s3://mousebrainatlas-data/CSHL_volumes/atlasV3/atlasV3_down32_scoreVolume/score_volumes/atlasV3_down32_scoreVolume_Sp5O_L_surround_200.bp /shared/CSHL_volumes/atlasV3/atlasV3_down32_scoreVolume/score_volumes/atlasV3_down32_scoreVolume_Sp5O_L_surround_200.bp\n"
     ]
    },
    {
     "name": "stderr",
     "output_type": "stream",
     "text": [
      "Child returned 0\n",
      "0.50 seconds.\n"
     ]
    },
    {
     "name": "stdout",
     "output_type": "stream",
     "text": [
      "aws s3 cp /shared/CSHL_volumes/atlasV3/atlasV3_down32_scoreVolume_clf_30_warp_1_MD591_down32_scoreVolume_clf_30_trial_3/score_volumes/atlasV3_down32_scoreVolume_clf_30_warp_1_MD591_down32_scoreVolume_clf_30_trial_3_Sp5O_L_surround_200.bp s3://mousebrainatlas-data/CSHL_volumes/atlasV3/atlasV3_down32_scoreVolume_clf_30_warp_1_MD591_down32_scoreVolume_clf_30_trial_3/score_volumes/atlasV3_down32_scoreVolume_clf_30_warp_1_MD591_down32_scoreVolume_clf_30_trial_3_Sp5O_L_surround_200.bp\n"
     ]
    },
    {
     "name": "stderr",
     "output_type": "stream",
     "text": [
      "Child returned 0\n",
      "0.46 seconds.\n",
      "Transform: 2.69 seconds.\n"
     ]
    },
    {
     "name": "stdout",
     "output_type": "stream",
     "text": [
      "aws s3 cp /shared/CSHL_volumes/atlasV3/atlasV3_down32_scoreVolume_clf_30_warp_1_MD591_down32_scoreVolume_clf_30_trial_3/score_volumes/atlasV3_down32_scoreVolume_clf_30_warp_1_MD591_down32_scoreVolume_clf_30_trial_3_Sp5O_R.bp s3://mousebrainatlas-data/CSHL_volumes/atlasV3/atlasV3_down32_scoreVolume_clf_30_warp_1_MD591_down32_scoreVolume_clf_30_trial_3/score_volumes/atlasV3_down32_scoreVolume_clf_30_warp_1_MD591_down32_scoreVolume_clf_30_trial_3_Sp5O_R.bp\n"
     ]
    },
    {
     "name": "stderr",
     "output_type": "stream",
     "text": [
      "Child returned 0\n",
      "0.47 seconds.\n",
      "Transform: 2.08 seconds.\n",
      "Child returned 0\n"
     ]
    },
    {
     "name": "stdout",
     "output_type": "stream",
     "text": [
      "rm -rf /shared/CSHL_volumes/atlasV3/atlasV3_down32_scoreVolume/score_volumes/atlasV3_down32_scoreVolume_Sp5O_R_surround_200.bp && mkdir -p /shared/CSHL_volumes/atlasV3/atlasV3_down32_scoreVolume/score_volumes\n",
      "aws s3 cp s3://mousebrainatlas-data/CSHL_volumes/atlasV3/atlasV3_down32_scoreVolume/score_volumes/atlasV3_down32_scoreVolume_Sp5O_R_surround_200.bp /shared/CSHL_volumes/atlasV3/atlasV3_down32_scoreVolume/score_volumes/atlasV3_down32_scoreVolume_Sp5O_R_surround_200.bp\n"
     ]
    },
    {
     "name": "stderr",
     "output_type": "stream",
     "text": [
      "Child returned 0\n",
      "0.51 seconds.\n"
     ]
    },
    {
     "name": "stdout",
     "output_type": "stream",
     "text": [
      "aws s3 cp /shared/CSHL_volumes/atlasV3/atlasV3_down32_scoreVolume_clf_30_warp_1_MD591_down32_scoreVolume_clf_30_trial_3/score_volumes/atlasV3_down32_scoreVolume_clf_30_warp_1_MD591_down32_scoreVolume_clf_30_trial_3_Sp5O_R_surround_200.bp s3://mousebrainatlas-data/CSHL_volumes/atlasV3/atlasV3_down32_scoreVolume_clf_30_warp_1_MD591_down32_scoreVolume_clf_30_trial_3/score_volumes/atlasV3_down32_scoreVolume_clf_30_warp_1_MD591_down32_scoreVolume_clf_30_trial_3_Sp5O_R_surround_200.bp\n"
     ]
    },
    {
     "name": "stderr",
     "output_type": "stream",
     "text": [
      "Child returned 0\n",
      "0.41 seconds.\n",
      "Transform: 2.63 seconds.\n"
     ]
    },
    {
     "name": "stdout",
     "output_type": "stream",
     "text": [
      "aws s3 cp /shared/CSHL_volumes/atlasV3/atlasV3_down32_scoreVolume_clf_30_warp_1_MD591_down32_scoreVolume_clf_30_trial_3/score_volumes/atlasV3_down32_scoreVolume_clf_30_warp_1_MD591_down32_scoreVolume_clf_30_trial_3_Tz_L.bp s3://mousebrainatlas-data/CSHL_volumes/atlasV3/atlasV3_down32_scoreVolume_clf_30_warp_1_MD591_down32_scoreVolume_clf_30_trial_3/score_volumes/atlasV3_down32_scoreVolume_clf_30_warp_1_MD591_down32_scoreVolume_clf_30_trial_3_Tz_L.bp\n"
     ]
    },
    {
     "name": "stderr",
     "output_type": "stream",
     "text": [
      "Child returned 0\n",
      "0.41 seconds.\n",
      "Transform: 1.98 seconds.\n",
      "Child returned 0\n"
     ]
    },
    {
     "name": "stdout",
     "output_type": "stream",
     "text": [
      "rm -rf /shared/CSHL_volumes/atlasV3/atlasV3_down32_scoreVolume/score_volumes/atlasV3_down32_scoreVolume_Tz_L_surround_200.bp && mkdir -p /shared/CSHL_volumes/atlasV3/atlasV3_down32_scoreVolume/score_volumes\n",
      "aws s3 cp s3://mousebrainatlas-data/CSHL_volumes/atlasV3/atlasV3_down32_scoreVolume/score_volumes/atlasV3_down32_scoreVolume_Tz_L_surround_200.bp /shared/CSHL_volumes/atlasV3/atlasV3_down32_scoreVolume/score_volumes/atlasV3_down32_scoreVolume_Tz_L_surround_200.bp\n"
     ]
    },
    {
     "name": "stderr",
     "output_type": "stream",
     "text": [
      "Child returned 0\n",
      "0.46 seconds.\n"
     ]
    },
    {
     "name": "stdout",
     "output_type": "stream",
     "text": [
      "aws s3 cp /shared/CSHL_volumes/atlasV3/atlasV3_down32_scoreVolume_clf_30_warp_1_MD591_down32_scoreVolume_clf_30_trial_3/score_volumes/atlasV3_down32_scoreVolume_clf_30_warp_1_MD591_down32_scoreVolume_clf_30_trial_3_Tz_L_surround_200.bp s3://mousebrainatlas-data/CSHL_volumes/atlasV3/atlasV3_down32_scoreVolume_clf_30_warp_1_MD591_down32_scoreVolume_clf_30_trial_3/score_volumes/atlasV3_down32_scoreVolume_clf_30_warp_1_MD591_down32_scoreVolume_clf_30_trial_3_Tz_L_surround_200.bp\n"
     ]
    },
    {
     "name": "stderr",
     "output_type": "stream",
     "text": [
      "Child returned 0\n",
      "0.51 seconds.\n",
      "Transform: 2.58 seconds.\n"
     ]
    },
    {
     "name": "stdout",
     "output_type": "stream",
     "text": [
      "aws s3 cp /shared/CSHL_volumes/atlasV3/atlasV3_down32_scoreVolume_clf_30_warp_1_MD591_down32_scoreVolume_clf_30_trial_3/score_volumes/atlasV3_down32_scoreVolume_clf_30_warp_1_MD591_down32_scoreVolume_clf_30_trial_3_Tz_R.bp s3://mousebrainatlas-data/CSHL_volumes/atlasV3/atlasV3_down32_scoreVolume_clf_30_warp_1_MD591_down32_scoreVolume_clf_30_trial_3/score_volumes/atlasV3_down32_scoreVolume_clf_30_warp_1_MD591_down32_scoreVolume_clf_30_trial_3_Tz_R.bp\n"
     ]
    },
    {
     "name": "stderr",
     "output_type": "stream",
     "text": [
      "Child returned 0\n",
      "0.46 seconds.\n",
      "Transform: 2.04 seconds.\n",
      "Child returned 0\n"
     ]
    },
    {
     "name": "stdout",
     "output_type": "stream",
     "text": [
      "rm -rf /shared/CSHL_volumes/atlasV3/atlasV3_down32_scoreVolume/score_volumes/atlasV3_down32_scoreVolume_Tz_R_surround_200.bp && mkdir -p /shared/CSHL_volumes/atlasV3/atlasV3_down32_scoreVolume/score_volumes\n",
      "aws s3 cp s3://mousebrainatlas-data/CSHL_volumes/atlasV3/atlasV3_down32_scoreVolume/score_volumes/atlasV3_down32_scoreVolume_Tz_R_surround_200.bp /shared/CSHL_volumes/atlasV3/atlasV3_down32_scoreVolume/score_volumes/atlasV3_down32_scoreVolume_Tz_R_surround_200.bp\n"
     ]
    },
    {
     "name": "stderr",
     "output_type": "stream",
     "text": [
      "Child returned 0\n",
      "0.45 seconds.\n"
     ]
    },
    {
     "name": "stdout",
     "output_type": "stream",
     "text": [
      "aws s3 cp /shared/CSHL_volumes/atlasV3/atlasV3_down32_scoreVolume_clf_30_warp_1_MD591_down32_scoreVolume_clf_30_trial_3/score_volumes/atlasV3_down32_scoreVolume_clf_30_warp_1_MD591_down32_scoreVolume_clf_30_trial_3_Tz_R_surround_200.bp s3://mousebrainatlas-data/CSHL_volumes/atlasV3/atlasV3_down32_scoreVolume_clf_30_warp_1_MD591_down32_scoreVolume_clf_30_trial_3/score_volumes/atlasV3_down32_scoreVolume_clf_30_warp_1_MD591_down32_scoreVolume_clf_30_trial_3_Tz_R_surround_200.bp\n"
     ]
    },
    {
     "name": "stderr",
     "output_type": "stream",
     "text": [
      "Child returned 0\n",
      "0.46 seconds.\n",
      "Transform: 2.53 seconds.\n"
     ]
    },
    {
     "name": "stdout",
     "output_type": "stream",
     "text": [
      "aws s3 cp /shared/CSHL_volumes/atlasV3/atlasV3_down32_scoreVolume_clf_30_warp_1_MD591_down32_scoreVolume_clf_30_trial_3/score_volumes/atlasV3_down32_scoreVolume_clf_30_warp_1_MD591_down32_scoreVolume_clf_30_trial_3_VCA_L.bp s3://mousebrainatlas-data/CSHL_volumes/atlasV3/atlasV3_down32_scoreVolume_clf_30_warp_1_MD591_down32_scoreVolume_clf_30_trial_3/score_volumes/atlasV3_down32_scoreVolume_clf_30_warp_1_MD591_down32_scoreVolume_clf_30_trial_3_VCA_L.bp\n"
     ]
    },
    {
     "name": "stderr",
     "output_type": "stream",
     "text": [
      "Child returned 0\n",
      "0.46 seconds.\n",
      "Transform: 2.06 seconds.\n",
      "Child returned 0\n"
     ]
    },
    {
     "name": "stdout",
     "output_type": "stream",
     "text": [
      "rm -rf /shared/CSHL_volumes/atlasV3/atlasV3_down32_scoreVolume/score_volumes/atlasV3_down32_scoreVolume_VCA_L_surround_200.bp && mkdir -p /shared/CSHL_volumes/atlasV3/atlasV3_down32_scoreVolume/score_volumes\n",
      "aws s3 cp s3://mousebrainatlas-data/CSHL_volumes/atlasV3/atlasV3_down32_scoreVolume/score_volumes/atlasV3_down32_scoreVolume_VCA_L_surround_200.bp /shared/CSHL_volumes/atlasV3/atlasV3_down32_scoreVolume/score_volumes/atlasV3_down32_scoreVolume_VCA_L_surround_200.bp\n"
     ]
    },
    {
     "name": "stderr",
     "output_type": "stream",
     "text": [
      "Child returned 0\n",
      "0.46 seconds.\n"
     ]
    },
    {
     "name": "stdout",
     "output_type": "stream",
     "text": [
      "aws s3 cp /shared/CSHL_volumes/atlasV3/atlasV3_down32_scoreVolume_clf_30_warp_1_MD591_down32_scoreVolume_clf_30_trial_3/score_volumes/atlasV3_down32_scoreVolume_clf_30_warp_1_MD591_down32_scoreVolume_clf_30_trial_3_VCA_L_surround_200.bp s3://mousebrainatlas-data/CSHL_volumes/atlasV3/atlasV3_down32_scoreVolume_clf_30_warp_1_MD591_down32_scoreVolume_clf_30_trial_3/score_volumes/atlasV3_down32_scoreVolume_clf_30_warp_1_MD591_down32_scoreVolume_clf_30_trial_3_VCA_L_surround_200.bp\n"
     ]
    },
    {
     "name": "stderr",
     "output_type": "stream",
     "text": [
      "Child returned 0\n",
      "0.46 seconds.\n",
      "Transform: 2.57 seconds.\n"
     ]
    },
    {
     "name": "stdout",
     "output_type": "stream",
     "text": [
      "aws s3 cp /shared/CSHL_volumes/atlasV3/atlasV3_down32_scoreVolume_clf_30_warp_1_MD591_down32_scoreVolume_clf_30_trial_3/score_volumes/atlasV3_down32_scoreVolume_clf_30_warp_1_MD591_down32_scoreVolume_clf_30_trial_3_VCA_R.bp s3://mousebrainatlas-data/CSHL_volumes/atlasV3/atlasV3_down32_scoreVolume_clf_30_warp_1_MD591_down32_scoreVolume_clf_30_trial_3/score_volumes/atlasV3_down32_scoreVolume_clf_30_warp_1_MD591_down32_scoreVolume_clf_30_trial_3_VCA_R.bp\n"
     ]
    },
    {
     "name": "stderr",
     "output_type": "stream",
     "text": [
      "Child returned 0\n",
      "0.41 seconds.\n",
      "Transform: 2.01 seconds.\n",
      "Child returned 0\n"
     ]
    },
    {
     "name": "stdout",
     "output_type": "stream",
     "text": [
      "rm -rf /shared/CSHL_volumes/atlasV3/atlasV3_down32_scoreVolume/score_volumes/atlasV3_down32_scoreVolume_VCA_R_surround_200.bp && mkdir -p /shared/CSHL_volumes/atlasV3/atlasV3_down32_scoreVolume/score_volumes\n",
      "aws s3 cp s3://mousebrainatlas-data/CSHL_volumes/atlasV3/atlasV3_down32_scoreVolume/score_volumes/atlasV3_down32_scoreVolume_VCA_R_surround_200.bp /shared/CSHL_volumes/atlasV3/atlasV3_down32_scoreVolume/score_volumes/atlasV3_down32_scoreVolume_VCA_R_surround_200.bp\n"
     ]
    },
    {
     "name": "stderr",
     "output_type": "stream",
     "text": [
      "Child returned 0\n",
      "0.46 seconds.\n"
     ]
    },
    {
     "name": "stdout",
     "output_type": "stream",
     "text": [
      "aws s3 cp /shared/CSHL_volumes/atlasV3/atlasV3_down32_scoreVolume_clf_30_warp_1_MD591_down32_scoreVolume_clf_30_trial_3/score_volumes/atlasV3_down32_scoreVolume_clf_30_warp_1_MD591_down32_scoreVolume_clf_30_trial_3_VCA_R_surround_200.bp s3://mousebrainatlas-data/CSHL_volumes/atlasV3/atlasV3_down32_scoreVolume_clf_30_warp_1_MD591_down32_scoreVolume_clf_30_trial_3/score_volumes/atlasV3_down32_scoreVolume_clf_30_warp_1_MD591_down32_scoreVolume_clf_30_trial_3_VCA_R_surround_200.bp\n"
     ]
    },
    {
     "name": "stderr",
     "output_type": "stream",
     "text": [
      "Child returned 0\n",
      "0.41 seconds.\n",
      "Transform: 2.52 seconds.\n"
     ]
    },
    {
     "name": "stdout",
     "output_type": "stream",
     "text": [
      "aws s3 cp /shared/CSHL_volumes/atlasV3/atlasV3_down32_scoreVolume_clf_30_warp_1_MD591_down32_scoreVolume_clf_30_trial_3/score_volumes/atlasV3_down32_scoreVolume_clf_30_warp_1_MD591_down32_scoreVolume_clf_30_trial_3_VCP_L.bp s3://mousebrainatlas-data/CSHL_volumes/atlasV3/atlasV3_down32_scoreVolume_clf_30_warp_1_MD591_down32_scoreVolume_clf_30_trial_3/score_volumes/atlasV3_down32_scoreVolume_clf_30_warp_1_MD591_down32_scoreVolume_clf_30_trial_3_VCP_L.bp\n"
     ]
    },
    {
     "name": "stderr",
     "output_type": "stream",
     "text": [
      "Child returned 0\n",
      "0.46 seconds.\n",
      "Transform: 2.05 seconds.\n",
      "Child returned 0\n"
     ]
    },
    {
     "name": "stdout",
     "output_type": "stream",
     "text": [
      "rm -rf /shared/CSHL_volumes/atlasV3/atlasV3_down32_scoreVolume/score_volumes/atlasV3_down32_scoreVolume_VCP_L_surround_200.bp && mkdir -p /shared/CSHL_volumes/atlasV3/atlasV3_down32_scoreVolume/score_volumes\n",
      "aws s3 cp s3://mousebrainatlas-data/CSHL_volumes/atlasV3/atlasV3_down32_scoreVolume/score_volumes/atlasV3_down32_scoreVolume_VCP_L_surround_200.bp /shared/CSHL_volumes/atlasV3/atlasV3_down32_scoreVolume/score_volumes/atlasV3_down32_scoreVolume_VCP_L_surround_200.bp\n"
     ]
    },
    {
     "name": "stderr",
     "output_type": "stream",
     "text": [
      "Child returned 0\n",
      "0.45 seconds.\n"
     ]
    },
    {
     "name": "stdout",
     "output_type": "stream",
     "text": [
      "aws s3 cp /shared/CSHL_volumes/atlasV3/atlasV3_down32_scoreVolume_clf_30_warp_1_MD591_down32_scoreVolume_clf_30_trial_3/score_volumes/atlasV3_down32_scoreVolume_clf_30_warp_1_MD591_down32_scoreVolume_clf_30_trial_3_VCP_L_surround_200.bp s3://mousebrainatlas-data/CSHL_volumes/atlasV3/atlasV3_down32_scoreVolume_clf_30_warp_1_MD591_down32_scoreVolume_clf_30_trial_3/score_volumes/atlasV3_down32_scoreVolume_clf_30_warp_1_MD591_down32_scoreVolume_clf_30_trial_3_VCP_L_surround_200.bp\n"
     ]
    },
    {
     "name": "stderr",
     "output_type": "stream",
     "text": [
      "Child returned 0\n",
      "0.46 seconds.\n",
      "Transform: 2.54 seconds.\n"
     ]
    },
    {
     "name": "stdout",
     "output_type": "stream",
     "text": [
      "aws s3 cp /shared/CSHL_volumes/atlasV3/atlasV3_down32_scoreVolume_clf_30_warp_1_MD591_down32_scoreVolume_clf_30_trial_3/score_volumes/atlasV3_down32_scoreVolume_clf_30_warp_1_MD591_down32_scoreVolume_clf_30_trial_3_VCP_R.bp s3://mousebrainatlas-data/CSHL_volumes/atlasV3/atlasV3_down32_scoreVolume_clf_30_warp_1_MD591_down32_scoreVolume_clf_30_trial_3/score_volumes/atlasV3_down32_scoreVolume_clf_30_warp_1_MD591_down32_scoreVolume_clf_30_trial_3_VCP_R.bp\n"
     ]
    },
    {
     "name": "stderr",
     "output_type": "stream",
     "text": [
      "Child returned 0\n",
      "0.41 seconds.\n",
      "Transform: 2.00 seconds.\n",
      "Child returned 0\n"
     ]
    },
    {
     "name": "stdout",
     "output_type": "stream",
     "text": [
      "rm -rf /shared/CSHL_volumes/atlasV3/atlasV3_down32_scoreVolume/score_volumes/atlasV3_down32_scoreVolume_VCP_R_surround_200.bp && mkdir -p /shared/CSHL_volumes/atlasV3/atlasV3_down32_scoreVolume/score_volumes\n",
      "aws s3 cp s3://mousebrainatlas-data/CSHL_volumes/atlasV3/atlasV3_down32_scoreVolume/score_volumes/atlasV3_down32_scoreVolume_VCP_R_surround_200.bp /shared/CSHL_volumes/atlasV3/atlasV3_down32_scoreVolume/score_volumes/atlasV3_down32_scoreVolume_VCP_R_surround_200.bp\n"
     ]
    },
    {
     "name": "stderr",
     "output_type": "stream",
     "text": [
      "Child returned 0\n",
      "0.41 seconds.\n"
     ]
    },
    {
     "name": "stdout",
     "output_type": "stream",
     "text": [
      "aws s3 cp /shared/CSHL_volumes/atlasV3/atlasV3_down32_scoreVolume_clf_30_warp_1_MD591_down32_scoreVolume_clf_30_trial_3/score_volumes/atlasV3_down32_scoreVolume_clf_30_warp_1_MD591_down32_scoreVolume_clf_30_trial_3_VCP_R_surround_200.bp s3://mousebrainatlas-data/CSHL_volumes/atlasV3/atlasV3_down32_scoreVolume_clf_30_warp_1_MD591_down32_scoreVolume_clf_30_trial_3/score_volumes/atlasV3_down32_scoreVolume_clf_30_warp_1_MD591_down32_scoreVolume_clf_30_trial_3_VCP_R_surround_200.bp\n"
     ]
    },
    {
     "name": "stderr",
     "output_type": "stream",
     "text": [
      "Child returned 0\n",
      "0.41 seconds.\n",
      "Transform: 2.46 seconds.\n"
     ]
    },
    {
     "name": "stdout",
     "output_type": "stream",
     "text": [
      "aws s3 cp /shared/CSHL_volumes/atlasV3/atlasV3_down32_scoreVolume_clf_30_warp_1_MD591_down32_scoreVolume_clf_30_trial_3/score_volumes/atlasV3_down32_scoreVolume_clf_30_warp_1_MD591_down32_scoreVolume_clf_30_trial_3_VLL_L.bp s3://mousebrainatlas-data/CSHL_volumes/atlasV3/atlasV3_down32_scoreVolume_clf_30_warp_1_MD591_down32_scoreVolume_clf_30_trial_3/score_volumes/atlasV3_down32_scoreVolume_clf_30_warp_1_MD591_down32_scoreVolume_clf_30_trial_3_VLL_L.bp\n"
     ]
    },
    {
     "name": "stderr",
     "output_type": "stream",
     "text": [
      "Child returned 0\n",
      "0.41 seconds.\n",
      "Transform: 2.06 seconds.\n",
      "Child returned 0\n"
     ]
    },
    {
     "name": "stdout",
     "output_type": "stream",
     "text": [
      "rm -rf /shared/CSHL_volumes/atlasV3/atlasV3_down32_scoreVolume/score_volumes/atlasV3_down32_scoreVolume_VLL_L_surround_200.bp && mkdir -p /shared/CSHL_volumes/atlasV3/atlasV3_down32_scoreVolume/score_volumes\n",
      "aws s3 cp s3://mousebrainatlas-data/CSHL_volumes/atlasV3/atlasV3_down32_scoreVolume/score_volumes/atlasV3_down32_scoreVolume_VLL_L_surround_200.bp /shared/CSHL_volumes/atlasV3/atlasV3_down32_scoreVolume/score_volumes/atlasV3_down32_scoreVolume_VLL_L_surround_200.bp\n"
     ]
    },
    {
     "name": "stderr",
     "output_type": "stream",
     "text": [
      "Child returned 0\n",
      "0.46 seconds.\n"
     ]
    },
    {
     "name": "stdout",
     "output_type": "stream",
     "text": [
      "aws s3 cp /shared/CSHL_volumes/atlasV3/atlasV3_down32_scoreVolume_clf_30_warp_1_MD591_down32_scoreVolume_clf_30_trial_3/score_volumes/atlasV3_down32_scoreVolume_clf_30_warp_1_MD591_down32_scoreVolume_clf_30_trial_3_VLL_L_surround_200.bp s3://mousebrainatlas-data/CSHL_volumes/atlasV3/atlasV3_down32_scoreVolume_clf_30_warp_1_MD591_down32_scoreVolume_clf_30_trial_3/score_volumes/atlasV3_down32_scoreVolume_clf_30_warp_1_MD591_down32_scoreVolume_clf_30_trial_3_VLL_L_surround_200.bp\n"
     ]
    },
    {
     "name": "stderr",
     "output_type": "stream",
     "text": [
      "Child returned 0\n",
      "0.41 seconds.\n",
      "Transform: 2.63 seconds.\n"
     ]
    },
    {
     "name": "stdout",
     "output_type": "stream",
     "text": [
      "aws s3 cp /shared/CSHL_volumes/atlasV3/atlasV3_down32_scoreVolume_clf_30_warp_1_MD591_down32_scoreVolume_clf_30_trial_3/score_volumes/atlasV3_down32_scoreVolume_clf_30_warp_1_MD591_down32_scoreVolume_clf_30_trial_3_VLL_R.bp s3://mousebrainatlas-data/CSHL_volumes/atlasV3/atlasV3_down32_scoreVolume_clf_30_warp_1_MD591_down32_scoreVolume_clf_30_trial_3/score_volumes/atlasV3_down32_scoreVolume_clf_30_warp_1_MD591_down32_scoreVolume_clf_30_trial_3_VLL_R.bp\n"
     ]
    },
    {
     "name": "stderr",
     "output_type": "stream",
     "text": [
      "Child returned 0\n",
      "0.41 seconds.\n",
      "Transform: 2.05 seconds.\n",
      "Child returned 0\n"
     ]
    },
    {
     "name": "stdout",
     "output_type": "stream",
     "text": [
      "rm -rf /shared/CSHL_volumes/atlasV3/atlasV3_down32_scoreVolume/score_volumes/atlasV3_down32_scoreVolume_VLL_R_surround_200.bp && mkdir -p /shared/CSHL_volumes/atlasV3/atlasV3_down32_scoreVolume/score_volumes\n",
      "aws s3 cp s3://mousebrainatlas-data/CSHL_volumes/atlasV3/atlasV3_down32_scoreVolume/score_volumes/atlasV3_down32_scoreVolume_VLL_R_surround_200.bp /shared/CSHL_volumes/atlasV3/atlasV3_down32_scoreVolume/score_volumes/atlasV3_down32_scoreVolume_VLL_R_surround_200.bp\n"
     ]
    },
    {
     "name": "stderr",
     "output_type": "stream",
     "text": [
      "Child returned 0\n",
      "0.45 seconds.\n"
     ]
    },
    {
     "name": "stdout",
     "output_type": "stream",
     "text": [
      "aws s3 cp /shared/CSHL_volumes/atlasV3/atlasV3_down32_scoreVolume_clf_30_warp_1_MD591_down32_scoreVolume_clf_30_trial_3/score_volumes/atlasV3_down32_scoreVolume_clf_30_warp_1_MD591_down32_scoreVolume_clf_30_trial_3_VLL_R_surround_200.bp s3://mousebrainatlas-data/CSHL_volumes/atlasV3/atlasV3_down32_scoreVolume_clf_30_warp_1_MD591_down32_scoreVolume_clf_30_trial_3/score_volumes/atlasV3_down32_scoreVolume_clf_30_warp_1_MD591_down32_scoreVolume_clf_30_trial_3_VLL_R_surround_200.bp\n"
     ]
    },
    {
     "name": "stderr",
     "output_type": "stream",
     "text": [
      "Child returned 0\n",
      "0.42 seconds.\n",
      "Transform: 2.61 seconds.\n",
      "Child returned 0\n"
     ]
    },
    {
     "name": "stdout",
     "output_type": "stream",
     "text": [
      "rm -rf /shared/CSHL_volumes/atlasV3/atlasV3_down32_scoreVolume/score_volumes/atlasV3_down32_scoreVolume_outerContour.bp && mkdir -p /shared/CSHL_volumes/atlasV3/atlasV3_down32_scoreVolume/score_volumes\n",
      "aws s3 cp s3://mousebrainatlas-data/CSHL_volumes/atlasV3/atlasV3_down32_scoreVolume/score_volumes/atlasV3_down32_scoreVolume_outerContour.bp /shared/CSHL_volumes/atlasV3/atlasV3_down32_scoreVolume/score_volumes/atlasV3_down32_scoreVolume_outerContour.bp\n"
     ]
    },
    {
     "name": "stderr",
     "output_type": "stream",
     "text": [
      "Child returned 1\n",
      "0.35 seconds.\n",
      "File does not exist: /shared/CSHL_volumes/atlasV3/atlasV3_down32_scoreVolume/score_volumes/atlasV3_down32_scoreVolume_outerContour.bp\n",
      "[Errno 2] No such file or directory: '/shared/CSHL_volumes/atlasV3/atlasV3_down32_scoreVolume/score_volumes/atlasV3_down32_scoreVolume_outerContour.bp'\n",
      "Error transforming volume outerContour.\n",
      "Child returned 0\n"
     ]
    },
    {
     "name": "stdout",
     "output_type": "stream",
     "text": [
      "rm -rf /shared/CSHL_volumes/atlasV3/atlasV3_down32_scoreVolume/score_volumes/atlasV3_down32_scoreVolume_outerContour_surround_200.bp && mkdir -p /shared/CSHL_volumes/atlasV3/atlasV3_down32_scoreVolume/score_volumes\n",
      "aws s3 cp s3://mousebrainatlas-data/CSHL_volumes/atlasV3/atlasV3_down32_scoreVolume/score_volumes/atlasV3_down32_scoreVolume_outerContour_surround_200.bp /shared/CSHL_volumes/atlasV3/atlasV3_down32_scoreVolume/score_volumes/atlasV3_down32_scoreVolume_outerContour_surround_200.bp\n"
     ]
    },
    {
     "name": "stderr",
     "output_type": "stream",
     "text": [
      "Child returned 1\n",
      "0.35 seconds.\n",
      "File does not exist: /shared/CSHL_volumes/atlasV3/atlasV3_down32_scoreVolume/score_volumes/atlasV3_down32_scoreVolume_outerContour_surround_200.bp\n",
      "[Errno 2] No such file or directory: '/shared/CSHL_volumes/atlasV3/atlasV3_down32_scoreVolume/score_volumes/atlasV3_down32_scoreVolume_outerContour_surround_200.bp'\n",
      "Error transforming volume outerContour_surround_200.\n",
      "Child returned 0\n"
     ]
    },
    {
     "name": "stdout",
     "output_type": "stream",
     "text": [
      "rm -rf /shared/CSHL_volumes/atlasV3/atlasV3_down32_scoreVolume/score_volumes/atlasV3_down32_scoreVolume_sp5.bp && mkdir -p /shared/CSHL_volumes/atlasV3/atlasV3_down32_scoreVolume/score_volumes\n",
      "aws s3 cp s3://mousebrainatlas-data/CSHL_volumes/atlasV3/atlasV3_down32_scoreVolume/score_volumes/atlasV3_down32_scoreVolume_sp5.bp /shared/CSHL_volumes/atlasV3/atlasV3_down32_scoreVolume/score_volumes/atlasV3_down32_scoreVolume_sp5.bp\n"
     ]
    },
    {
     "name": "stderr",
     "output_type": "stream",
     "text": [
      "Child returned 1\n",
      "0.36 seconds.\n",
      "File does not exist: /shared/CSHL_volumes/atlasV3/atlasV3_down32_scoreVolume/score_volumes/atlasV3_down32_scoreVolume_sp5.bp\n",
      "[Errno 2] No such file or directory: '/shared/CSHL_volumes/atlasV3/atlasV3_down32_scoreVolume/score_volumes/atlasV3_down32_scoreVolume_sp5.bp'\n",
      "Error transforming volume sp5.\n",
      "Child returned 0\n"
     ]
    },
    {
     "name": "stdout",
     "output_type": "stream",
     "text": [
      "rm -rf /shared/CSHL_volumes/atlasV3/atlasV3_down32_scoreVolume/score_volumes/atlasV3_down32_scoreVolume_sp5_surround_200.bp && mkdir -p /shared/CSHL_volumes/atlasV3/atlasV3_down32_scoreVolume/score_volumes\n",
      "aws s3 cp s3://mousebrainatlas-data/CSHL_volumes/atlasV3/atlasV3_down32_scoreVolume/score_volumes/atlasV3_down32_scoreVolume_sp5_surround_200.bp /shared/CSHL_volumes/atlasV3/atlasV3_down32_scoreVolume/score_volumes/atlasV3_down32_scoreVolume_sp5_surround_200.bp\n"
     ]
    },
    {
     "name": "stderr",
     "output_type": "stream",
     "text": [
      "Child returned 1\n",
      "0.35 seconds.\n",
      "File does not exist: /shared/CSHL_volumes/atlasV3/atlasV3_down32_scoreVolume/score_volumes/atlasV3_down32_scoreVolume_sp5_surround_200.bp\n",
      "[Errno 2] No such file or directory: '/shared/CSHL_volumes/atlasV3/atlasV3_down32_scoreVolume/score_volumes/atlasV3_down32_scoreVolume_sp5_surround_200.bp'\n",
      "Error transforming volume sp5_surround_200.\n"
     ]
    }
   ],
   "source": [
    "# Transform moving volume, sided, without surround\n",
    "\n",
    "for structure in all_known_structures_sided_with_surround:\n",
    "# for structure in all_known_structures_sided:\n",
    "# for structure in ['7N_L']:\n",
    "    \n",
    "    try:\n",
    "        t = time.time()\n",
    "\n",
    "        vol_m = DataManager.load_score_volume(stack=stack_moving, structure=structure, downscale=32)\n",
    "\n",
    "        volume_m_alignedTo_f = \\\n",
    "        transform_volume(vol=vol_m, global_params=global_params, centroid_m=centroid_m, centroid_f=centroid_f,\n",
    "                          xdim_f=xdim_f, ydim_f=ydim_f, zdim_f=zdim_f)\n",
    "\n",
    "        volume_m_alignedTo_f_fn = \\\n",
    "        DataManager.get_transformed_volume_filepath(stack_m=stack_moving, type_m='score',\n",
    "                                                    stack_f=stack_fixed, type_f='score',\n",
    "                                                    downscale=32,\n",
    "                                                    classifier_setting_m=classifier_setting,\n",
    "                                                    classifier_setting_f=classifier_setting,\n",
    "                                                    warp_setting=warp_setting,\n",
    "                                                    structure=structure,\n",
    "                                                   trial_idx=trial_idx)\n",
    "\n",
    "        create_parent_dir_if_not_exists(volume_m_alignedTo_f_fn)\n",
    "        bp.pack_ndarray_file(volume_m_alignedTo_f, volume_m_alignedTo_f_fn)\n",
    "        \n",
    "        upload_from_ec2_to_s3(volume_m_alignedTo_f_fn)\n",
    "    \n",
    "        sys.stderr.write('Transform: %.2f seconds.\\n' % (time.time() - t)) # 3s\n",
    "    \n",
    "    except Exception as e:\n",
    "        sys.stderr.write('%s\\n' % e)\n",
    "        sys.stderr.write('Error transforming volume %s.\\n' % structure)"
   ]
  },
  {
   "cell_type": "markdown",
   "metadata": {},
   "source": [
    "# Read"
   ]
  },
  {
   "cell_type": "code",
   "execution_count": 6,
   "metadata": {
    "collapsed": true
   },
   "outputs": [],
   "source": [
    "warp_setting = 1\n",
    "trial_idx = 0"
   ]
  },
  {
   "cell_type": "code",
   "execution_count": 7,
   "metadata": {
    "collapsed": true
   },
   "outputs": [],
   "source": [
    "# Read transformed volumes\n",
    "\n",
    "structure = '7N_L'\n",
    "\n",
    "warped_volume = DataManager.load_transformed_volume(stack_m=stack_moving, \n",
    "                                                                          stack_f=stack_fixed, \n",
    "                                    classifier_setting_m=classifier_setting,\n",
    "                                    classifier_setting_f=classifier_setting,\n",
    "                                    warp_setting=warp_setting,\n",
    "                                    trial_idx=0, structure=structure)"
   ]
  },
  {
   "cell_type": "code",
   "execution_count": null,
   "metadata": {
    "collapsed": true
   },
   "outputs": [],
   "source": [
    "display_volume_sections(warped_volume)"
   ]
  },
  {
   "cell_type": "markdown",
   "metadata": {
    "collapsed": true
   },
   "source": [
    "# Structure-wise Transform"
   ]
  },
  {
   "cell_type": "code",
   "execution_count": 5,
   "metadata": {
    "collapsed": true
   },
   "outputs": [],
   "source": [
    "classifier_setting = 2\n",
    "warp_setting = 5\n",
    "trial_idx = 0"
   ]
  },
  {
   "cell_type": "code",
   "execution_count": 7,
   "metadata": {
    "collapsed": true
   },
   "outputs": [],
   "source": [
    "if warp_setting == 1:\n",
    "    upstream_warp_setting = None\n",
    "elif warp_setting == 2:\n",
    "    upstream_warp_setting = 1\n",
    "elif warp_setting == 4:\n",
    "    upstream_warp_setting = 1\n",
    "elif warp_setting == 5:\n",
    "    upstream_warp_setting = 1\n",
    "else:\n",
    "    raise Exception('Warp setting not recognized.')\n",
    "    \n",
    "if trial_idx in [0, 1]:\n",
    "    upstream_trial_idx = 0"
   ]
  },
  {
   "cell_type": "code",
   "execution_count": 8,
   "metadata": {
    "scrolled": true
   },
   "outputs": [
    {
     "name": "stderr",
     "output_type": "stream",
     "text": [
      "Transform: 5.52 seconds.\n",
      "Transform: 5.47 seconds.\n",
      "Transform: 5.48 seconds.\n",
      "Transform: 5.48 seconds.\n",
      "Transform: 5.51 seconds.\n",
      "Transform: 5.52 seconds.\n",
      "Transform: 5.52 seconds.\n",
      "Transform: 5.54 seconds.\n",
      "Transform: 5.56 seconds.\n",
      "Transform: 5.50 seconds.\n",
      "Transform: 5.48 seconds.\n",
      "Transform: 5.50 seconds.\n",
      "Transform: 5.51 seconds.\n",
      "Transform: 5.50 seconds.\n",
      "Transform: 5.52 seconds.\n",
      "Transform: 5.52 seconds.\n",
      "Transform: 5.50 seconds.\n",
      "Transform: 5.46 seconds.\n",
      "Transform: 5.51 seconds.\n",
      "Transform: 5.53 seconds.\n",
      "Transform: 5.45 seconds.\n",
      "Transform: 5.48 seconds.\n",
      "Transform: 5.53 seconds.\n",
      "Transform: 5.50 seconds.\n",
      "Transform: 5.65 seconds.\n",
      "Transform: 5.62 seconds.\n",
      "Transform: 5.48 seconds.\n",
      "Transform: 5.50 seconds.\n",
      "Transform: 5.51 seconds.\n",
      "Transform: 5.47 seconds.\n",
      "Transform: 5.58 seconds.\n",
      "Transform: 5.56 seconds.\n",
      "Transform: 5.57 seconds.\n",
      "Transform: 5.56 seconds.\n",
      "Transform: 5.66 seconds.\n",
      "Transform: 5.69 seconds.\n",
      "Transform: 5.53 seconds.\n",
      "Transform: 5.45 seconds.\n",
      "Transform: 5.51 seconds.\n",
      "Transform: 5.46 seconds.\n",
      "Transform: 5.52 seconds.\n",
      "Transform: 5.50 seconds.\n",
      "Transform: 5.49 seconds.\n",
      "Transform: 5.50 seconds.\n",
      "Transform: 5.55 seconds.\n",
      "Transform: 5.51 seconds.\n",
      "Transform: 5.45 seconds.\n",
      "Transform: 5.47 seconds.\n",
      "Transform: 5.63 seconds.\n",
      "File does not exist: /oasis/projects/nsf/csd395/yuncong/CSHL_registration_parameters/atlasV2/atlasV2_down32_scoreVolume_clf_2_warp_5_MD642_down32_scoreVolume_clf_2_trial_0/atlasV2_down32_scoreVolume_clf_2_warp_5_MD642_down32_scoreVolume_clf_2_trial_0_parameters_sp5.txt\n",
      "[Errno 2] No such file or directory: '/oasis/projects/nsf/csd395/yuncong/CSHL_registration_parameters/atlasV2/atlasV2_down32_scoreVolume_clf_2_warp_5_MD642_down32_scoreVolume_clf_2_trial_0/atlasV2_down32_scoreVolume_clf_2_warp_5_MD642_down32_scoreVolume_clf_2_trial_0_parameters_sp5.txt'\n",
      "Error transforming volume sp5.\n",
      "File does not exist: /oasis/projects/nsf/csd395/yuncong/CSHL_registration_parameters/atlasV2/atlasV2_down32_scoreVolume_clf_2_warp_5_MD642_down32_scoreVolume_clf_2_trial_0/atlasV2_down32_scoreVolume_clf_2_warp_5_MD642_down32_scoreVolume_clf_2_trial_0_parameters_outerContour.txt\n",
      "[Errno 2] No such file or directory: '/oasis/projects/nsf/csd395/yuncong/CSHL_registration_parameters/atlasV2/atlasV2_down32_scoreVolume_clf_2_warp_5_MD642_down32_scoreVolume_clf_2_trial_0/atlasV2_down32_scoreVolume_clf_2_warp_5_MD642_down32_scoreVolume_clf_2_trial_0_parameters_outerContour.txt'\n",
      "Error transforming volume outerContour.\n",
      "Transform: 6.39 seconds.\n",
      "Transform: 5.93 seconds.\n"
     ]
    }
   ],
   "source": [
    "for structure in all_known_structures_sided:\n",
    "\n",
    "    # Load local transform parameters\n",
    "    \n",
    "    try:\n",
    "\n",
    "        t = time.time()\n",
    "        \n",
    "        local_params, centroid_m, centroid_f, xdim_m, ydim_m, zdim_m, xdim_f, ydim_f, zdim_f = \\\n",
    "        DataManager.load_alignment_parameters(stack_m=stack_moving, stack_f=stack_fixed,\n",
    "                                              classifier_setting_m=classifier_setting,\n",
    "                                              classifier_setting_f=classifier_setting,\n",
    "                                              warp_setting=warp_setting,\n",
    "                                              param_suffix=structure,\n",
    "                                              trial_idx=trial_idx)\n",
    "\n",
    "        # Read global tx\n",
    "        global_transformed_moving_structure_vol = \\\n",
    "        DataManager.load_transformed_volume(stack_m=stack_moving, stack_f=stack_fixed,\n",
    "                                            classifier_setting_m=classifier_setting,\n",
    "                                            classifier_setting_f=classifier_setting,\n",
    "                                            warp_setting=upstream_warp_setting, \n",
    "                                            trial_idx=upstream_trial_idx,\n",
    "                                            structure=structure)\n",
    "\n",
    "        # Transform\n",
    "        local_transformed_moving_structure_vol = transform_volume(vol=global_transformed_moving_structure_vol, \n",
    "                                                 global_params=local_params, \n",
    "                                                 centroid_m=centroid_m, centroid_f=centroid_f,\n",
    "                                                 xdim_f=xdim_f, ydim_f=ydim_f, zdim_f=zdim_f)\n",
    "\n",
    "        # Save\n",
    "        local_transformed_moving_structure_fn = \\\n",
    "        DataManager.get_transformed_volume_filepath(stack_m=stack_moving, stack_f=stack_fixed,\n",
    "                                                    classifier_setting_m=classifier_setting,\n",
    "                                                    classifier_setting_f=classifier_setting,\n",
    "                                                    warp_setting=warp_setting,\n",
    "                                                    trial_idx=trial_idx,\n",
    "                                                    structure=structure)\n",
    "\n",
    "        create_if_not_exists(os.path.dirname(local_transformed_moving_structure_fn))\n",
    "        bp.pack_ndarray_file(local_transformed_moving_structure_vol, local_transformed_moving_structure_fn)\n",
    "        \n",
    "        sys.stderr.write('Transform: %.2f seconds.\\n' % (time.time() - t))\n",
    "        \n",
    "    except Exception as e:\n",
    "        sys.stderr.write('%s\\n' % e)\n",
    "        sys.stderr.write('Error transforming volume %s.\\n' % structure)"
   ]
  },
  {
   "cell_type": "markdown",
   "metadata": {},
   "source": [
    "# Polyrigid Transform"
   ]
  },
  {
   "cell_type": "code",
   "execution_count": 3,
   "metadata": {
    "collapsed": true
   },
   "outputs": [],
   "source": [
    "warp_setting = 12\n",
    "upstream_warp_setting = 1\n",
    "classifier_setting = 2"
   ]
  },
  {
   "cell_type": "code",
   "execution_count": 4,
   "metadata": {},
   "outputs": [
    {
     "name": "stderr",
     "output_type": "stream",
     "text": [
      "File does not exist: /oasis/projects/nsf/csd395/yuncong/CSHL_volumes/atlasV2/atlasV2_down32_scoreVolume_clf_2_warp_1_MD642_down32_scoreVolume_clf_2_trial_0/score_volumes/atlasV2_down32_scoreVolume_clf_2_warp_1_MD642_down32_scoreVolume_clf_2_trial_0_sp5.bp\n",
      "[Errno 2] No such file or directory: '/oasis/projects/nsf/csd395/yuncong/CSHL_volumes/atlasV2/atlasV2_down32_scoreVolume_clf_2_warp_1_MD642_down32_scoreVolume_clf_2_trial_0/score_volumes/atlasV2_down32_scoreVolume_clf_2_warp_1_MD642_down32_scoreVolume_clf_2_trial_0_sp5.bp'\n",
      "Score volume for sp5 does not exist.\n",
      "File does not exist: /oasis/projects/nsf/csd395/yuncong/CSHL_volumes/atlasV2/atlasV2_down32_scoreVolume_clf_2_warp_1_MD642_down32_scoreVolume_clf_2_trial_0/score_volumes/atlasV2_down32_scoreVolume_clf_2_warp_1_MD642_down32_scoreVolume_clf_2_trial_0_outerContour.bp\n",
      "[Errno 2] No such file or directory: '/oasis/projects/nsf/csd395/yuncong/CSHL_volumes/atlasV2/atlasV2_down32_scoreVolume_clf_2_warp_1_MD642_down32_scoreVolume_clf_2_trial_0/score_volumes/atlasV2_down32_scoreVolume_clf_2_warp_1_MD642_down32_scoreVolume_clf_2_trial_0_outerContour.bp'\n",
      "Score volume for outerContour does not exist.\n"
     ]
    }
   ],
   "source": [
    "globally_registered_volume = \\\n",
    "DataManager.load_volume_all_known_structures(stack_m=stack_moving, stack_f=stack_fixed,\n",
    "                                            warp_setting=upstream_warp_setting,\n",
    "                                            classifier_setting_m=classifier_setting,\n",
    "                                            classifier_setting_f=classifier_setting,\n",
    "                                            trial_idx=0)"
   ]
  },
  {
   "cell_type": "code",
   "execution_count": 5,
   "metadata": {
    "collapsed": true
   },
   "outputs": [],
   "source": [
    "structure_sizes = {k: np.count_nonzero(v) for k, v in globally_registered_volume.iteritems()}\n",
    "\n",
    "total_size = sum(structure_sizes.values())\n",
    "structure_sizes_percent = {s: float(size)/total_size for s, size in structure_sizes.iteritems()}"
   ]
  },
  {
   "cell_type": "code",
   "execution_count": 6,
   "metadata": {
    "collapsed": true
   },
   "outputs": [],
   "source": [
    "structure_covars = {}\n",
    "for s, v in globally_registered_volume.iteritems():\n",
    "    ys, xs, zs = np.where(v)\n",
    "    nzs = np.c_[xs, ys, zs]\n",
    "    nzsc = nzs - nzs.mean(axis=0)\n",
    "    C = np.dot(nzsc.T, nzsc)/float(len(nzsc))\n",
    "    S, V = np.linalg.eigh(C)\n",
    "    structure_covars[s] = C"
   ]
  },
  {
   "cell_type": "code",
   "execution_count": 7,
   "metadata": {},
   "outputs": [
    {
     "name": "stderr",
     "output_type": "stream",
     "text": [
      "File does not exist: /oasis/projects/nsf/csd395/yuncong/CSHL_registration_parameters/atlasV2/atlasV2_down32_scoreVolume_clf_2_warp_5_MD642_down32_scoreVolume_clf_2_trial_0/atlasV2_down32_scoreVolume_clf_2_warp_5_MD642_down32_scoreVolume_clf_2_trial_0_parameters_sp5.txt\n",
      "Error loading transform parameters for sp5.\n",
      "File does not exist: /oasis/projects/nsf/csd395/yuncong/CSHL_registration_parameters/atlasV2/atlasV2_down32_scoreVolume_clf_2_warp_5_MD642_down32_scoreVolume_clf_2_trial_0/atlasV2_down32_scoreVolume_clf_2_warp_5_MD642_down32_scoreVolume_clf_2_trial_0_parameters_outerContour.txt\n",
      "Error loading transform parameters for outerContour.\n"
     ]
    }
   ],
   "source": [
    "# Read Transform of each structure, do polyrigid transform\n",
    "\n",
    "rigid_parameters = {}\n",
    "anchor_points = {}\n",
    "\n",
    "for structure in all_known_structures_sided:\n",
    "\n",
    "    try:\n",
    "        tx_params, centroid_m, centroid_f, xdim_m, ydim_m, zdim_m, xdim_f, ydim_f, zdim_f = \\\n",
    "        DataManager.load_alignment_parameters(stack_m=stack_moving,\n",
    "                                          stack_f=stack_fixed,\n",
    "                                          classifier_setting_f=2,  \n",
    "                                          classifier_setting_m=2,\n",
    "                                        warp_setting=5,\n",
    "                                           trial_idx=0,\n",
    "                                            param_suffix=structure)\n",
    "        \n",
    "        rigid_parameters[structure] = (tx_params, centroid_m, centroid_f, xdim_m, ydim_m, zdim_m, xdim_f, ydim_f, zdim_f)\n",
    "        anchor_points[structure] = centroid_m\n",
    "    except:\n",
    "        sys.stderr.write('Error loading transform parameters for %s.\\n' % structure)"
   ]
  },
  {
   "cell_type": "code",
   "execution_count": 8,
   "metadata": {
    "collapsed": true
   },
   "outputs": [],
   "source": [
    "weights = structure_sizes_percent\n",
    "alpha = 1.\n",
    "sigmas = {s: alpha * v for s, v in structure_covars.iteritems()}"
   ]
  },
  {
   "cell_type": "code",
   "execution_count": null,
   "metadata": {
    "collapsed": true
   },
   "outputs": [],
   "source": [
    "# Parallel\n",
    "\n",
    "def func(structure):\n",
    "    \n",
    "    polyrigid_registered_volume = transform_volume_polyrigid(globally_registered_volume[structure], \n",
    "                                  rigid_parameters.values(), \n",
    "                                  anchor_points.values(), \n",
    "                                  sigmas.values(), \n",
    "                                  weights.values())\n",
    "\n",
    "    # Save\n",
    "    fn = \\\n",
    "    DataManager.get_transformed_volume_filepath(stack_m=stack_moving, stack_f=stack_fixed,\n",
    "                                                classifier_setting_m=classifier_setting,\n",
    "                                                classifier_setting_f=classifier_setting,\n",
    "                                                warp_setting=warp_setting,\n",
    "                                                trial_idx=0,\n",
    "                                                structure=structure)\n",
    "\n",
    "    create_parent_dir_if_not_exists(fn)\n",
    "    bp.pack_ndarray_file(polyrigid_registered_volume, fn)"
   ]
  },
  {
   "cell_type": "code",
   "execution_count": null,
   "metadata": {
    "collapsed": true
   },
   "outputs": [],
   "source": [
    "pool = Pool(15)\n",
    "pool.map(func, globally_registered_volume.keys())\n",
    "pool.terminate()\n",
    "pool.join()"
   ]
  },
  {
   "cell_type": "code",
   "execution_count": 17,
   "metadata": {
    "scrolled": true
   },
   "outputs": [
    {
     "name": "stdout",
     "output_type": "stream",
     "text": [
      "LRt_R\n",
      "Sp5C_L\n",
      "Pn_L\n",
      "7N_R\n",
      "PBG_L\n",
      "VLL_L\n",
      "4N_R\n",
      "VLL_R\n",
      "7N_L\n",
      "PBG_R\n",
      "RtTg\n",
      "Sp5C_R\n",
      "Pn_R\n",
      "LRt_L\n",
      "Sp5O_R\n",
      "SNR_L\n",
      "12N\n",
      "SNR_R\n",
      "Sp5O_L\n",
      "DC_R\n",
      "VCA_L\n",
      "3N_L\n",
      "6N_R\n",
      "Sp5I_L\n",
      "RMC_R\n",
      "5N_L\n",
      "SNC_L\n",
      "SNC_R\n",
      "AP\n",
      "RMC_L\n",
      "Sp5I_R\n",
      "3N_R\n",
      "6N_L\n",
      "IC\n",
      "VCA_R\n",
      "DC_L\n",
      "Amb_R\n",
      "VCP_R\n",
      "LC_R\n",
      "10N_R\n",
      "7n_R\n",
      "5N_R\n",
      "Tz_L\n",
      "Tz_R\n",
      "7n_L\n",
      "4N_L\n",
      "LC_L\n",
      "10N_L\n",
      "SC\n",
      "VCP_L\n",
      "Amb_L\n"
     ]
    }
   ],
   "source": [
    "# Sequential\n",
    "\n",
    "for structure, gv in globally_registered_volume.iteritems():\n",
    "    print structure\n",
    "    polyrigid_registered_volume = transform_volume_polyrigid(gv, \n",
    "                                  rigid_parameters.values(), \n",
    "                                  anchor_points.values(), \n",
    "                                  sigmas.values(), \n",
    "                                  weights.values())\n",
    "\n",
    "    # Save\n",
    "    fn = \\\n",
    "    DataManager.get_transformed_volume_filepath(stack_m=stack_moving, stack_f=stack_fixed,\n",
    "                                                classifier_setting_m=classifier_setting,\n",
    "                                                classifier_setting_f=classifier_setting,\n",
    "                                                warp_setting=warp_setting,\n",
    "                                                trial_idx=0,\n",
    "                                                structure=structure)\n",
    "\n",
    "    create_parent_dir_if_not_exists(fn)\n",
    "    bp.pack_ndarray_file(polyrigid_registered_volume, fn)"
   ]
  },
  {
   "cell_type": "markdown",
   "metadata": {
    "collapsed": true
   },
   "source": [
    "# Global Transform Reversed"
   ]
  },
  {
   "cell_type": "code",
   "execution_count": 4,
   "metadata": {
    "collapsed": true
   },
   "outputs": [],
   "source": [
    "warp_setting = 3\n",
    "trial_idx = 0"
   ]
  },
  {
   "cell_type": "code",
   "execution_count": 6,
   "metadata": {
    "collapsed": true
   },
   "outputs": [],
   "source": [
    "if warp_setting == 1:\n",
    "    upstream_warp_setting = None\n",
    "elif warp_setting == 2:\n",
    "    upstream_warp_setting = 1\n",
    "elif warp_setting == 3:\n",
    "    global_warp_setting = 1\n",
    "    upstream_warp_setting = 2\n",
    "else:\n",
    "    raise Exception('Warp setting not recognized.')\n",
    "    \n",
    "if trial_idx in [0, 1]:\n",
    "    upstream_trial_idx = 0"
   ]
  },
  {
   "cell_type": "code",
   "execution_count": 7,
   "metadata": {
    "collapsed": true
   },
   "outputs": [],
   "source": [
    "# Load transform parameters\n",
    "\n",
    "global_params, centroid_m, centroid_f, xdim_m, ydim_m, zdim_m, xdim_f, ydim_f, zdim_f = \\\n",
    "DataManager.load_alignment_parameters(stack_m=stack_moving, stack_f=stack_fixed,\n",
    "                                      classifier_setting_m=classifier_setting,\n",
    "                                      classifier_setting_f=classifier_setting,\n",
    "                                      warp_setting=global_warp_setting,\n",
    "                                      trial_idx=trial_idx)"
   ]
  },
  {
   "cell_type": "code",
   "execution_count": null,
   "metadata": {
    "collapsed": true,
    "scrolled": true
   },
   "outputs": [],
   "source": [
    "# for structure in ['PBG_L']:\n",
    "for structure in all_known_structures_sided:\n",
    "    \n",
    "    try:\n",
    "        \n",
    "        t = time.time()\n",
    "\n",
    "        local_transformed_moving_structure_vol = \\\n",
    "            DataManager.load_transformed_volume(stack_m=stack_moving, stack_f=stack_fixed,\n",
    "                                                classifier_setting_m=classifier_setting,\n",
    "                                                classifier_setting_f=classifier_setting,\n",
    "                                                warp_setting=upstream_warp_setting, \n",
    "                                                trial_idx=upstream_trial_idx,\n",
    "                                                structure=structure)\n",
    "\n",
    "        local_transformed_moving_structure_global_reversed_vol = \\\n",
    "        transform_volume_inverse(vol=local_transformed_moving_structure_vol, \n",
    "                                 global_params=global_params, \n",
    "                                 centroid_m=centroid_m, centroid_f=centroid_f,\n",
    "                                 xdim_m=xdim_m, ydim_m=ydim_m, zdim_m=zdim_m)\n",
    "\n",
    "        local_transformed_moving_structure_global_reversed_fn = \\\n",
    "        DataManager.get_transformed_volume_filepath(stack_m=stack_moving, type_m='score',\n",
    "                                                        stack_f=stack_fixed, type_f='score',\n",
    "                                                        downscale=32,\n",
    "                                                        classifier_setting_m=classifier_setting,\n",
    "                                                        classifier_setting_f=classifier_setting,\n",
    "                                                        warp_setting=warp_setting,\n",
    "                                                        structure=structure)\n",
    "\n",
    "        create_if_not_exists(os.path.dirname(local_transformed_moving_structure_global_reversed_fn))\n",
    "        bp.pack_ndarray_file(local_transformed_moving_structure_global_reversed_vol, local_transformed_moving_structure_global_reversed_fn)\n",
    "\n",
    "        sys.stderr.write('Transform: %.2f seconds.\\n' % (time.time() - t))\n",
    "        \n",
    "    except Exception as e:\n",
    "        sys.stderr.write('%s\\n' % e)\n",
    "        sys.stderr.write('Error transforming volume %s.\\n' % structure)"
   ]
  }
 ],
 "metadata": {
  "kernelspec": {
   "display_name": "Python 2",
   "language": "python",
   "name": "python2"
  },
  "language_info": {
   "codemirror_mode": {
    "name": "ipython",
    "version": 2
   },
   "file_extension": ".py",
   "mimetype": "text/x-python",
   "name": "python",
   "nbconvert_exporter": "python",
   "pygments_lexer": "ipython2",
   "version": "2.7.12"
  }
 },
 "nbformat": 4,
 "nbformat_minor": 1
}
