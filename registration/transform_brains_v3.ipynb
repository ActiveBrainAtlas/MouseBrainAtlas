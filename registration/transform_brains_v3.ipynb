{
 "cells": [
  {
   "cell_type": "code",
   "execution_count": 1,
   "metadata": {
    "collapsed": false
   },
   "outputs": [
    {
     "name": "stdout",
     "output_type": "stream",
     "text": [
      "Setting environment for Gordon\n"
     ]
    },
    {
     "name": "stderr",
     "output_type": "stream",
     "text": [
      "No vtk\n"
     ]
    }
   ],
   "source": [
    "%load_ext autoreload\n",
    "%autoreload 2\n",
    "\n",
    "import sys\n",
    "import os\n",
    "import time\n",
    "\n",
    "import numpy as np\n",
    "import matplotlib.pyplot as plt\n",
    "%matplotlib inline\n",
    "\n",
    "sys.path.append(os.environ['REPO_DIR'] + '/utilities')\n",
    "from utilities2015 import *\n",
    "from registration_utilities import *\n",
    "from metadata import *\n",
    "from data_manager import *"
   ]
  },
  {
   "cell_type": "code",
   "execution_count": 2,
   "metadata": {
    "collapsed": true
   },
   "outputs": [],
   "source": [
    "stack_fixed = 'MD642'\n",
    "stack_moving = 'atlasV2'\n",
    "\n",
    "classifier_setting = 2"
   ]
  },
  {
   "cell_type": "markdown",
   "metadata": {},
   "source": [
    "# Global Transform - between two annotation volumes"
   ]
  },
  {
   "cell_type": "code",
   "execution_count": 56,
   "metadata": {
    "collapsed": false
   },
   "outputs": [],
   "source": [
    "global_params, centroid_m, centroid_f, xdim_m, ydim_m, zdim_m, xdim_f, ydim_f, zdim_f = \\\n",
    "DataManager.load_global_alignment_parameters(stack_moving=stack_moving, moving_volume_type='annotation',\n",
    "                                            stack_fixed=stack_fixed, fixed_volume_type='annotation',\n",
    "                                            global_transform_scheme=global_transform_scheme)"
   ]
  },
  {
   "cell_type": "code",
   "execution_count": 84,
   "metadata": {
    "collapsed": false
   },
   "outputs": [],
   "source": [
    "vol_m = DataManager.load_annotation_volume(stack=stack_moving, downscale=32)\n",
    "\n",
    "volume_m_alignedTo_f = \\\n",
    "transform_volume(vol=vol_m, global_params=global_params, centroid_m=centroid_m, centroid_f=centroid_f,\n",
    "                  xdim_f=xdim_f, ydim_f=ydim_f, zdim_f=zdim_f)\n",
    "\n",
    "volume_m_alignedTo_f_fn = DataManager.get_transformed_volume_filepath(stack_m=stack_moving, type_m='annotation',\n",
    "                                        stack_f=stack_fixed, type_f='annotation',\n",
    "                                        downscale=32,\n",
    "                                        global_transform_scheme=global_transform_scheme)\n",
    "\n",
    "create_if_not_exists(os.path.dirname(volume_m_alignedTo_f_fn))\n",
    "bp.pack_ndarray_file(volume_m_alignedTo_f, volume_m_alignedTo_f_fn)"
   ]
  },
  {
   "cell_type": "code",
   "execution_count": null,
   "metadata": {
    "collapsed": false
   },
   "outputs": [],
   "source": [
    "display_volume_sections(volume_m_alignedTo_f)"
   ]
  },
  {
   "cell_type": "markdown",
   "metadata": {},
   "source": [
    "# Global Transform Annotation Volumes"
   ]
  },
  {
   "cell_type": "code",
   "execution_count": 21,
   "metadata": {
    "collapsed": false
   },
   "outputs": [],
   "source": [
    "stack_fixed = 'MD589'\n",
    "stack_moving = 'MD585'"
   ]
  },
  {
   "cell_type": "code",
   "execution_count": 22,
   "metadata": {
    "collapsed": true
   },
   "outputs": [],
   "source": [
    "warp_setting = 9\n",
    "\n",
    "if warp_setting == 1:\n",
    "    upstream_warp_setting = None\n",
    "    transform_type = 'affine'\n",
    "elif warp_setting == 7:\n",
    "    upstream_warp_setting = None\n",
    "    transform_type = 'rigid'\n",
    "elif warp_setting == 8:\n",
    "    upstream_warp_setting = None\n",
    "    transform_type = None\n",
    "elif warp_setting == 9:\n",
    "    upstream_warp_setting = 8\n",
    "    transform_type = 'rigid'\n",
    "else:\n",
    "    raise Exception('Warp setting not recognized.')"
   ]
  },
  {
   "cell_type": "code",
   "execution_count": 23,
   "metadata": {
    "collapsed": false
   },
   "outputs": [],
   "source": [
    "# Load transform parameters\n",
    "\n",
    "global_params, centroid_m, centroid_f, xdim_m, ydim_m, zdim_m, xdim_f, ydim_f, zdim_f = \\\n",
    "DataManager.load_alignment_parameters(stack_m=stack_moving, stack_f=stack_fixed,\n",
    "                                      type_f='annotation_as_score',\n",
    "                                      type_m='annotation_as_score',\n",
    "                                      warp_setting=warp_setting,\n",
    "                                      trial_idx=0)"
   ]
  },
  {
   "cell_type": "code",
   "execution_count": 24,
   "metadata": {
    "collapsed": false,
    "scrolled": true
   },
   "outputs": [
    {
     "name": "stderr",
     "output_type": "stream",
     "text": [
      "Transform: 1.79 seconds.\n",
      "Transform: 1.77 seconds.\n",
      "Transform: 1.76 seconds.\n",
      "Transform: 1.76 seconds.\n",
      "Transform: 1.79 seconds.\n",
      "Transform: 1.79 seconds.\n",
      "Transform: 1.82 seconds.\n",
      "Transform: 1.82 seconds.\n",
      "Transform: 1.76 seconds.\n",
      "Transform: 1.76 seconds.\n",
      "Transform: 1.77 seconds.\n",
      "Transform: 1.76 seconds.\n",
      "Transform: 1.79 seconds.\n",
      "Transform: 1.79 seconds.\n",
      "Transform: 1.81 seconds.\n",
      "Transform: 1.80 seconds.\n",
      "Transform: 1.78 seconds.\n",
      "Transform: 1.78 seconds.\n",
      "Transform: 1.81 seconds.\n",
      "Transform: 1.80 seconds.\n",
      "Transform: 1.78 seconds.\n",
      "Transform: 1.78 seconds.\n",
      "Transform: 1.80 seconds.\n",
      "Transform: 1.81 seconds.\n",
      "Transform: 1.90 seconds.\n",
      "Transform: 1.88 seconds.\n",
      "Transform: 1.77 seconds.\n",
      "Transform: 1.77 seconds.\n",
      "Transform: 1.77 seconds.\n",
      "Transform: 1.77 seconds.\n",
      "Transform: 1.80 seconds.\n",
      "Transform: 1.79 seconds.\n",
      "Transform: 1.78 seconds.\n",
      "Transform: 1.80 seconds.\n",
      "Transform: 1.86 seconds.\n",
      "Transform: 1.85 seconds.\n",
      "Transform: 1.77 seconds.\n",
      "Transform: 1.77 seconds.\n",
      "Transform: 1.78 seconds.\n",
      "Transform: 1.78 seconds.\n",
      "Transform: 1.80 seconds.\n",
      "Transform: 1.80 seconds.\n",
      "Transform: 1.78 seconds.\n",
      "Transform: 1.79 seconds.\n",
      "Transform: 1.81 seconds.\n",
      "Transform: 1.80 seconds.\n",
      "Transform: 1.77 seconds.\n",
      "Transform: 1.80 seconds.\n",
      "Transform: 1.86 seconds.\n",
      "File does not exist: /oasis/projects/nsf/csd395/yuncong/CSHL_volumes/MD594/MD594_down32_annotationAsScoreVolume_warp_8_MD589_down32_annotationAsScoreVolume_trial_0/score_volumes/MD594_down32_annotationAsScoreVolume_warp_8_MD589_down32_annotationAsScoreVolume_trial_0_sp5.bp\n",
      "[Errno 2] No such file or directory: '/oasis/projects/nsf/csd395/yuncong/CSHL_volumes/MD594/MD594_down32_annotationAsScoreVolume_warp_8_MD589_down32_annotationAsScoreVolume_trial_0/score_volumes/MD594_down32_annotationAsScoreVolume_warp_8_MD589_down32_annotationAsScoreVolume_trial_0_sp5.bp'\n",
      "Error transforming volume sp5.\n",
      "File does not exist: /oasis/projects/nsf/csd395/yuncong/CSHL_volumes/MD594/MD594_down32_annotationAsScoreVolume_warp_8_MD589_down32_annotationAsScoreVolume_trial_0/score_volumes/MD594_down32_annotationAsScoreVolume_warp_8_MD589_down32_annotationAsScoreVolume_trial_0_outerContour.bp\n",
      "[Errno 2] No such file or directory: '/oasis/projects/nsf/csd395/yuncong/CSHL_volumes/MD594/MD594_down32_annotationAsScoreVolume_warp_8_MD589_down32_annotationAsScoreVolume_trial_0/score_volumes/MD594_down32_annotationAsScoreVolume_warp_8_MD589_down32_annotationAsScoreVolume_trial_0_outerContour.bp'\n",
      "Error transforming volume outerContour.\n",
      "Transform: 2.38 seconds.\n",
      "Transform: 2.12 seconds.\n"
     ]
    }
   ],
   "source": [
    "# for structure in all_known_structures_sided_with_surround:\n",
    "for structure in all_known_structures_sided:\n",
    "# for structure in ['7N_L']:\n",
    "    \n",
    "    try:\n",
    "        t = time.time()\n",
    "\n",
    "        vol_m = DataManager.load_transformed_volume(stack_m=stack_moving, stack_f=stack_fixed,\n",
    "                                                          type_m='annotation_as_score', \n",
    "                                                          type_f='annotation_as_score',\n",
    "                                                         warp_setting=upstream_warp_setting,\n",
    "                                                         structure=structure)\n",
    "        \n",
    "        volume_m_alignedTo_f = \\\n",
    "        transform_volume(vol=vol_m, global_params=global_params, centroid_m=centroid_m, centroid_f=centroid_f,\n",
    "                          xdim_f=xdim_f, ydim_f=ydim_f, zdim_f=zdim_f)\n",
    "\n",
    "        volume_m_alignedTo_f_fn = \\\n",
    "        DataManager.get_transformed_volume_filepath(stack_m=stack_moving, stack_f=stack_fixed,\n",
    "                                                    type_m='annotation_as_score',\n",
    "                                                    type_f='annotation_as_score',\n",
    "                                                    warp_setting=warp_setting,\n",
    "                                                    structure=structure)\n",
    "\n",
    "        create_if_not_exists(os.path.dirname(volume_m_alignedTo_f_fn))\n",
    "        bp.pack_ndarray_file(volume_m_alignedTo_f, volume_m_alignedTo_f_fn)\n",
    "    \n",
    "        sys.stderr.write('Transform: %.2f seconds.\\n' % (time.time() - t)) # 3s\n",
    "    \n",
    "    except Exception as e:\n",
    "        sys.stderr.write('%s\\n' % e)\n",
    "        sys.stderr.write('Error transforming volume %s.\\n' % structure)"
   ]
  },
  {
   "cell_type": "markdown",
   "metadata": {
    "collapsed": true
   },
   "source": [
    "# Global Transform"
   ]
  },
  {
   "cell_type": "code",
   "execution_count": 3,
   "metadata": {
    "collapsed": false
   },
   "outputs": [],
   "source": [
    "warp_setting = 1\n",
    "trial_idx = 0"
   ]
  },
  {
   "cell_type": "code",
   "execution_count": 4,
   "metadata": {
    "collapsed": false,
    "scrolled": true
   },
   "outputs": [],
   "source": [
    "# Load transform parameters\n",
    "\n",
    "global_params, centroid_m, centroid_f, xdim_m, ydim_m, zdim_m, xdim_f, ydim_f, zdim_f = \\\n",
    "DataManager.load_alignment_parameters(stack_m=stack_moving, stack_f=stack_fixed,\n",
    "                                      classifier_setting_m=classifier_setting,\n",
    "                                      classifier_setting_f=classifier_setting,\n",
    "                                      warp_setting=warp_setting,\n",
    "                                      trial_idx=0)"
   ]
  },
  {
   "cell_type": "code",
   "execution_count": 6,
   "metadata": {
    "collapsed": false,
    "scrolled": true
   },
   "outputs": [
    {
     "name": "stderr",
     "output_type": "stream",
     "text": [
      "Transform: 3.28 seconds.\n",
      "Transform: 3.33 seconds.\n",
      "Transform: 3.26 seconds.\n",
      "Transform: 3.32 seconds.\n",
      "Transform: 3.24 seconds.\n",
      "Transform: 3.38 seconds.\n",
      "Transform: 3.23 seconds.\n",
      "Transform: 3.30 seconds.\n",
      "Transform: 3.24 seconds.\n",
      "Transform: 3.33 seconds.\n",
      "Transform: 3.20 seconds.\n",
      "Transform: 3.28 seconds.\n",
      "Transform: 3.23 seconds.\n",
      "Transform: 3.28 seconds.\n",
      "Transform: 3.24 seconds.\n",
      "Transform: 3.36 seconds.\n",
      "Transform: 3.26 seconds.\n",
      "Transform: 3.36 seconds.\n",
      "Transform: 3.21 seconds.\n",
      "Transform: 3.32 seconds.\n",
      "Transform: 3.24 seconds.\n",
      "Transform: 3.30 seconds.\n",
      "Transform: 3.29 seconds.\n",
      "Transform: 3.46 seconds.\n",
      "Transform: 3.25 seconds.\n",
      "Transform: 3.38 seconds.\n",
      "Transform: 3.29 seconds.\n",
      "Transform: 3.42 seconds.\n",
      "Transform: 3.29 seconds.\n",
      "Transform: 3.51 seconds.\n",
      "Transform: 3.23 seconds.\n",
      "Transform: 3.29 seconds.\n",
      "Transform: 3.24 seconds.\n",
      "Transform: 3.34 seconds.\n",
      "Transform: 3.22 seconds.\n",
      "Transform: 3.28 seconds.\n",
      "Transform: 3.29 seconds.\n",
      "Transform: 3.45 seconds.\n",
      "Transform: 3.28 seconds.\n",
      "Transform: 3.44 seconds.\n",
      "Transform: 3.74 seconds.\n",
      "Transform: 4.16 seconds.\n",
      "Transform: 3.22 seconds.\n",
      "Transform: 3.33 seconds.\n",
      "Transform: 3.25 seconds.\n",
      "Transform: 3.31 seconds.\n",
      "Transform: 3.26 seconds.\n",
      "Transform: 3.38 seconds.\n",
      "Transform: 3.27 seconds.\n",
      "Transform: 3.38 seconds.\n",
      "Transform: 3.23 seconds.\n",
      "Transform: 3.34 seconds.\n",
      "Transform: 3.24 seconds.\n",
      "Transform: 3.35 seconds.\n",
      "Transform: 3.28 seconds.\n",
      "Transform: 3.42 seconds.\n",
      "Transform: 3.29 seconds.\n",
      "Transform: 3.44 seconds.\n",
      "Transform: 3.25 seconds.\n",
      "Transform: 3.33 seconds.\n",
      "Transform: 3.25 seconds.\n",
      "Transform: 3.35 seconds.\n",
      "Transform: 3.37 seconds.\n",
      "Transform: 3.59 seconds.\n",
      "Transform: 4.17 seconds.\n",
      "Transform: 4.56 seconds.\n",
      "Transform: 3.25 seconds.\n",
      "Transform: 3.37 seconds.\n",
      "Transform: 3.26 seconds.\n",
      "Transform: 3.38 seconds.\n",
      "Transform: 3.42 seconds.\n",
      "Transform: 3.59 seconds.\n",
      "Transform: 3.38 seconds.\n",
      "Transform: 3.57 seconds.\n",
      "Transform: 3.38 seconds.\n",
      "Transform: 3.60 seconds.\n",
      "Transform: 3.37 seconds.\n",
      "Transform: 3.59 seconds.\n",
      "Transform: 3.30 seconds.\n",
      "Transform: 3.52 seconds.\n",
      "Transform: 3.31 seconds.\n",
      "Transform: 3.52 seconds.\n",
      "Transform: 3.33 seconds.\n",
      "Transform: 3.48 seconds.\n",
      "Transform: 3.29 seconds.\n",
      "Transform: 3.53 seconds.\n",
      "Transform: 3.24 seconds.\n",
      "Transform: 3.34 seconds.\n",
      "Transform: 3.25 seconds.\n",
      "Transform: 3.34 seconds.\n",
      "Transform: 3.26 seconds.\n",
      "Transform: 3.36 seconds.\n",
      "Transform: 3.26 seconds.\n",
      "Transform: 3.37 seconds.\n",
      "Transform: 3.24 seconds.\n",
      "Transform: 3.35 seconds.\n",
      "Transform: 3.25 seconds.\n",
      "Transform: 3.44 seconds.\n",
      "Transform: 3.30 seconds.\n",
      "Transform: 3.46 seconds.\n",
      "Transform: 3.30 seconds.\n",
      "Transform: 3.49 seconds.\n",
      "File does not exist: /oasis/projects/nsf/csd395/yuncong/CSHL_volumes/atlasV2/atlasV2_down32_scoreVolume/score_volumes/atlasV2_down32_scoreVolume_outerContour.bp\n",
      "[Errno 2] No such file or directory: '/oasis/projects/nsf/csd395/yuncong/CSHL_volumes/atlasV2/atlasV2_down32_scoreVolume/score_volumes/atlasV2_down32_scoreVolume_outerContour.bp'\n",
      "Error transforming volume outerContour.\n",
      "File does not exist: /oasis/projects/nsf/csd395/yuncong/CSHL_volumes/atlasV2/atlasV2_down32_scoreVolume/score_volumes/atlasV2_down32_scoreVolume_outerContour_surround_x1.5.bp\n",
      "[Errno 2] No such file or directory: '/oasis/projects/nsf/csd395/yuncong/CSHL_volumes/atlasV2/atlasV2_down32_scoreVolume/score_volumes/atlasV2_down32_scoreVolume_outerContour_surround_x1.5.bp'\n",
      "Error transforming volume outerContour_surround_x1.5.\n",
      "File does not exist: /oasis/projects/nsf/csd395/yuncong/CSHL_volumes/atlasV2/atlasV2_down32_scoreVolume/score_volumes/atlasV2_down32_scoreVolume_sp5.bp\n",
      "[Errno 2] No such file or directory: '/oasis/projects/nsf/csd395/yuncong/CSHL_volumes/atlasV2/atlasV2_down32_scoreVolume/score_volumes/atlasV2_down32_scoreVolume_sp5.bp'\n",
      "Error transforming volume sp5.\n",
      "File does not exist: /oasis/projects/nsf/csd395/yuncong/CSHL_volumes/atlasV2/atlasV2_down32_scoreVolume/score_volumes/atlasV2_down32_scoreVolume_sp5_surround_x1.5.bp\n",
      "[Errno 2] No such file or directory: '/oasis/projects/nsf/csd395/yuncong/CSHL_volumes/atlasV2/atlasV2_down32_scoreVolume/score_volumes/atlasV2_down32_scoreVolume_sp5_surround_x1.5.bp'\n",
      "Error transforming volume sp5_surround_x1.5.\n"
     ]
    }
   ],
   "source": [
    "# Transform moving volume, sided, without surround\n",
    "\n",
    "for structure in all_known_structures_sided_with_surround:\n",
    "# for structure in all_known_structures_sided:\n",
    "# for structure in ['7N_L']:\n",
    "    \n",
    "    try:\n",
    "        t = time.time()\n",
    "\n",
    "        vol_m = DataManager.load_score_volume(stack=stack_moving, structure=structure, downscale=32)\n",
    "\n",
    "        volume_m_alignedTo_f = \\\n",
    "        transform_volume(vol=vol_m, global_params=global_params, centroid_m=centroid_m, centroid_f=centroid_f,\n",
    "                          xdim_f=xdim_f, ydim_f=ydim_f, zdim_f=zdim_f)\n",
    "\n",
    "        volume_m_alignedTo_f_fn = \\\n",
    "        DataManager.get_transformed_volume_filepath(stack_m=stack_moving, type_m='score',\n",
    "                                                    stack_f=stack_fixed, type_f='score',\n",
    "                                                    downscale=32,\n",
    "                                                    classifier_setting_m=classifier_setting,\n",
    "                                                    classifier_setting_f=classifier_setting,\n",
    "                                                    warp_setting=warp_setting,\n",
    "                                                    structure=structure)\n",
    "\n",
    "        create_if_not_exists(os.path.dirname(volume_m_alignedTo_f_fn))\n",
    "        bp.pack_ndarray_file(volume_m_alignedTo_f, volume_m_alignedTo_f_fn)\n",
    "    \n",
    "        sys.stderr.write('Transform: %.2f seconds.\\n' % (time.time() - t)) # 3s\n",
    "    \n",
    "    except Exception as e:\n",
    "        sys.stderr.write('%s\\n' % e)\n",
    "        sys.stderr.write('Error transforming volume %s.\\n' % structure)"
   ]
  },
  {
   "cell_type": "markdown",
   "metadata": {},
   "source": [
    "# Read"
   ]
  },
  {
   "cell_type": "code",
   "execution_count": 6,
   "metadata": {
    "collapsed": true
   },
   "outputs": [],
   "source": [
    "warp_setting = 1\n",
    "trial_idx = 0"
   ]
  },
  {
   "cell_type": "code",
   "execution_count": 7,
   "metadata": {
    "collapsed": false
   },
   "outputs": [],
   "source": [
    "# Read transformed volumes\n",
    "\n",
    "structure = '7N_L'\n",
    "\n",
    "warped_volume = DataManager.load_transformed_volume(stack_m=stack_moving, \n",
    "                                                                          stack_f=stack_fixed, \n",
    "                                    classifier_setting_m=classifier_setting,\n",
    "                                    classifier_setting_f=classifier_setting,\n",
    "                                    warp_setting=warp_setting,\n",
    "                                    trial_idx=0, structure=structure)"
   ]
  },
  {
   "cell_type": "code",
   "execution_count": null,
   "metadata": {
    "collapsed": false
   },
   "outputs": [],
   "source": [
    "display_volume_sections(warped_volume)"
   ]
  },
  {
   "cell_type": "markdown",
   "metadata": {
    "collapsed": true
   },
   "source": [
    "# Structure-wise Transform"
   ]
  },
  {
   "cell_type": "code",
   "execution_count": 5,
   "metadata": {
    "collapsed": true
   },
   "outputs": [],
   "source": [
    "classifier_setting = 2\n",
    "warp_setting = 5\n",
    "trial_idx = 0"
   ]
  },
  {
   "cell_type": "code",
   "execution_count": 7,
   "metadata": {
    "collapsed": false
   },
   "outputs": [],
   "source": [
    "if warp_setting == 1:\n",
    "    upstream_warp_setting = None\n",
    "elif warp_setting == 2:\n",
    "    upstream_warp_setting = 1\n",
    "elif warp_setting == 4:\n",
    "    upstream_warp_setting = 1\n",
    "elif warp_setting == 5:\n",
    "    upstream_warp_setting = 1\n",
    "else:\n",
    "    raise Exception('Warp setting not recognized.')\n",
    "    \n",
    "if trial_idx in [0, 1]:\n",
    "    upstream_trial_idx = 0"
   ]
  },
  {
   "cell_type": "code",
   "execution_count": 8,
   "metadata": {
    "collapsed": false,
    "scrolled": true
   },
   "outputs": [
    {
     "name": "stderr",
     "output_type": "stream",
     "text": [
      "Transform: 5.52 seconds.\n",
      "Transform: 5.47 seconds.\n",
      "Transform: 5.48 seconds.\n",
      "Transform: 5.48 seconds.\n",
      "Transform: 5.51 seconds.\n",
      "Transform: 5.52 seconds.\n",
      "Transform: 5.52 seconds.\n",
      "Transform: 5.54 seconds.\n",
      "Transform: 5.56 seconds.\n",
      "Transform: 5.50 seconds.\n",
      "Transform: 5.48 seconds.\n",
      "Transform: 5.50 seconds.\n",
      "Transform: 5.51 seconds.\n",
      "Transform: 5.50 seconds.\n",
      "Transform: 5.52 seconds.\n",
      "Transform: 5.52 seconds.\n",
      "Transform: 5.50 seconds.\n",
      "Transform: 5.46 seconds.\n",
      "Transform: 5.51 seconds.\n",
      "Transform: 5.53 seconds.\n",
      "Transform: 5.45 seconds.\n",
      "Transform: 5.48 seconds.\n",
      "Transform: 5.53 seconds.\n",
      "Transform: 5.50 seconds.\n",
      "Transform: 5.65 seconds.\n",
      "Transform: 5.62 seconds.\n",
      "Transform: 5.48 seconds.\n",
      "Transform: 5.50 seconds.\n",
      "Transform: 5.51 seconds.\n",
      "Transform: 5.47 seconds.\n",
      "Transform: 5.58 seconds.\n",
      "Transform: 5.56 seconds.\n",
      "Transform: 5.57 seconds.\n",
      "Transform: 5.56 seconds.\n",
      "Transform: 5.66 seconds.\n",
      "Transform: 5.69 seconds.\n",
      "Transform: 5.53 seconds.\n",
      "Transform: 5.45 seconds.\n",
      "Transform: 5.51 seconds.\n",
      "Transform: 5.46 seconds.\n",
      "Transform: 5.52 seconds.\n",
      "Transform: 5.50 seconds.\n",
      "Transform: 5.49 seconds.\n",
      "Transform: 5.50 seconds.\n",
      "Transform: 5.55 seconds.\n",
      "Transform: 5.51 seconds.\n",
      "Transform: 5.45 seconds.\n",
      "Transform: 5.47 seconds.\n",
      "Transform: 5.63 seconds.\n",
      "File does not exist: /oasis/projects/nsf/csd395/yuncong/CSHL_registration_parameters/atlasV2/atlasV2_down32_scoreVolume_clf_2_warp_5_MD642_down32_scoreVolume_clf_2_trial_0/atlasV2_down32_scoreVolume_clf_2_warp_5_MD642_down32_scoreVolume_clf_2_trial_0_parameters_sp5.txt\n",
      "[Errno 2] No such file or directory: '/oasis/projects/nsf/csd395/yuncong/CSHL_registration_parameters/atlasV2/atlasV2_down32_scoreVolume_clf_2_warp_5_MD642_down32_scoreVolume_clf_2_trial_0/atlasV2_down32_scoreVolume_clf_2_warp_5_MD642_down32_scoreVolume_clf_2_trial_0_parameters_sp5.txt'\n",
      "Error transforming volume sp5.\n",
      "File does not exist: /oasis/projects/nsf/csd395/yuncong/CSHL_registration_parameters/atlasV2/atlasV2_down32_scoreVolume_clf_2_warp_5_MD642_down32_scoreVolume_clf_2_trial_0/atlasV2_down32_scoreVolume_clf_2_warp_5_MD642_down32_scoreVolume_clf_2_trial_0_parameters_outerContour.txt\n",
      "[Errno 2] No such file or directory: '/oasis/projects/nsf/csd395/yuncong/CSHL_registration_parameters/atlasV2/atlasV2_down32_scoreVolume_clf_2_warp_5_MD642_down32_scoreVolume_clf_2_trial_0/atlasV2_down32_scoreVolume_clf_2_warp_5_MD642_down32_scoreVolume_clf_2_trial_0_parameters_outerContour.txt'\n",
      "Error transforming volume outerContour.\n",
      "Transform: 6.39 seconds.\n",
      "Transform: 5.93 seconds.\n"
     ]
    }
   ],
   "source": [
    "for structure in all_known_structures_sided:\n",
    "\n",
    "    # Load local transform parameters\n",
    "    \n",
    "    try:\n",
    "\n",
    "        t = time.time()\n",
    "        \n",
    "        local_params, centroid_m, centroid_f, xdim_m, ydim_m, zdim_m, xdim_f, ydim_f, zdim_f = \\\n",
    "        DataManager.load_alignment_parameters(stack_m=stack_moving, stack_f=stack_fixed,\n",
    "                                              classifier_setting_m=classifier_setting,\n",
    "                                              classifier_setting_f=classifier_setting,\n",
    "                                              warp_setting=warp_setting,\n",
    "                                              param_suffix=structure,\n",
    "                                              trial_idx=trial_idx)\n",
    "\n",
    "        # Read global tx\n",
    "        global_transformed_moving_structure_vol = \\\n",
    "        DataManager.load_transformed_volume(stack_m=stack_moving, stack_f=stack_fixed,\n",
    "                                            classifier_setting_m=classifier_setting,\n",
    "                                            classifier_setting_f=classifier_setting,\n",
    "                                            warp_setting=upstream_warp_setting, \n",
    "                                            trial_idx=upstream_trial_idx,\n",
    "                                            structure=structure)\n",
    "\n",
    "        # Transform\n",
    "        local_transformed_moving_structure_vol = transform_volume(vol=global_transformed_moving_structure_vol, \n",
    "                                                 global_params=local_params, \n",
    "                                                 centroid_m=centroid_m, centroid_f=centroid_f,\n",
    "                                                 xdim_f=xdim_f, ydim_f=ydim_f, zdim_f=zdim_f)\n",
    "\n",
    "        # Save\n",
    "        local_transformed_moving_structure_fn = \\\n",
    "        DataManager.get_transformed_volume_filepath(stack_m=stack_moving, stack_f=stack_fixed,\n",
    "                                                    classifier_setting_m=classifier_setting,\n",
    "                                                    classifier_setting_f=classifier_setting,\n",
    "                                                    warp_setting=warp_setting,\n",
    "                                                    trial_idx=trial_idx,\n",
    "                                                    structure=structure)\n",
    "\n",
    "        create_if_not_exists(os.path.dirname(local_transformed_moving_structure_fn))\n",
    "        bp.pack_ndarray_file(local_transformed_moving_structure_vol, local_transformed_moving_structure_fn)\n",
    "        \n",
    "        sys.stderr.write('Transform: %.2f seconds.\\n' % (time.time() - t))\n",
    "        \n",
    "    except Exception as e:\n",
    "        sys.stderr.write('%s\\n' % e)\n",
    "        sys.stderr.write('Error transforming volume %s.\\n' % structure)"
   ]
  },
  {
   "cell_type": "markdown",
   "metadata": {},
   "source": [
    "# Polyrigid Transform"
   ]
  },
  {
   "cell_type": "code",
   "execution_count": 3,
   "metadata": {
    "collapsed": true
   },
   "outputs": [],
   "source": [
    "warp_setting = 12\n",
    "upstream_warp_setting = 1\n",
    "classifier_setting = 2"
   ]
  },
  {
   "cell_type": "code",
   "execution_count": 4,
   "metadata": {
    "collapsed": false
   },
   "outputs": [
    {
     "name": "stderr",
     "output_type": "stream",
     "text": [
      "File does not exist: /oasis/projects/nsf/csd395/yuncong/CSHL_volumes/atlasV2/atlasV2_down32_scoreVolume_clf_2_warp_1_MD642_down32_scoreVolume_clf_2_trial_0/score_volumes/atlasV2_down32_scoreVolume_clf_2_warp_1_MD642_down32_scoreVolume_clf_2_trial_0_sp5.bp\n",
      "[Errno 2] No such file or directory: '/oasis/projects/nsf/csd395/yuncong/CSHL_volumes/atlasV2/atlasV2_down32_scoreVolume_clf_2_warp_1_MD642_down32_scoreVolume_clf_2_trial_0/score_volumes/atlasV2_down32_scoreVolume_clf_2_warp_1_MD642_down32_scoreVolume_clf_2_trial_0_sp5.bp'\n",
      "Score volume for sp5 does not exist.\n",
      "File does not exist: /oasis/projects/nsf/csd395/yuncong/CSHL_volumes/atlasV2/atlasV2_down32_scoreVolume_clf_2_warp_1_MD642_down32_scoreVolume_clf_2_trial_0/score_volumes/atlasV2_down32_scoreVolume_clf_2_warp_1_MD642_down32_scoreVolume_clf_2_trial_0_outerContour.bp\n",
      "[Errno 2] No such file or directory: '/oasis/projects/nsf/csd395/yuncong/CSHL_volumes/atlasV2/atlasV2_down32_scoreVolume_clf_2_warp_1_MD642_down32_scoreVolume_clf_2_trial_0/score_volumes/atlasV2_down32_scoreVolume_clf_2_warp_1_MD642_down32_scoreVolume_clf_2_trial_0_outerContour.bp'\n",
      "Score volume for outerContour does not exist.\n"
     ]
    }
   ],
   "source": [
    "globally_registered_volume = \\\n",
    "DataManager.load_volume_all_known_structures(stack_m=stack_moving, stack_f=stack_fixed,\n",
    "                                            warp_setting=upstream_warp_setting,\n",
    "                                            classifier_setting_m=classifier_setting,\n",
    "                                            classifier_setting_f=classifier_setting,\n",
    "                                            trial_idx=0)"
   ]
  },
  {
   "cell_type": "code",
   "execution_count": 5,
   "metadata": {
    "collapsed": true
   },
   "outputs": [],
   "source": [
    "structure_sizes = {k: np.count_nonzero(v) for k, v in globally_registered_volume.iteritems()}\n",
    "\n",
    "total_size = sum(structure_sizes.values())\n",
    "structure_sizes_percent = {s: float(size)/total_size for s, size in structure_sizes.iteritems()}"
   ]
  },
  {
   "cell_type": "code",
   "execution_count": 6,
   "metadata": {
    "collapsed": true
   },
   "outputs": [],
   "source": [
    "structure_covars = {}\n",
    "for s, v in globally_registered_volume.iteritems():\n",
    "    ys, xs, zs = np.where(v)\n",
    "    nzs = np.c_[xs, ys, zs]\n",
    "    nzsc = nzs - nzs.mean(axis=0)\n",
    "    C = np.dot(nzsc.T, nzsc)/float(len(nzsc))\n",
    "    S, V = np.linalg.eigh(C)\n",
    "    structure_covars[s] = C"
   ]
  },
  {
   "cell_type": "code",
   "execution_count": 7,
   "metadata": {
    "collapsed": false
   },
   "outputs": [
    {
     "name": "stderr",
     "output_type": "stream",
     "text": [
      "File does not exist: /oasis/projects/nsf/csd395/yuncong/CSHL_registration_parameters/atlasV2/atlasV2_down32_scoreVolume_clf_2_warp_5_MD642_down32_scoreVolume_clf_2_trial_0/atlasV2_down32_scoreVolume_clf_2_warp_5_MD642_down32_scoreVolume_clf_2_trial_0_parameters_sp5.txt\n",
      "Error loading transform parameters for sp5.\n",
      "File does not exist: /oasis/projects/nsf/csd395/yuncong/CSHL_registration_parameters/atlasV2/atlasV2_down32_scoreVolume_clf_2_warp_5_MD642_down32_scoreVolume_clf_2_trial_0/atlasV2_down32_scoreVolume_clf_2_warp_5_MD642_down32_scoreVolume_clf_2_trial_0_parameters_outerContour.txt\n",
      "Error loading transform parameters for outerContour.\n"
     ]
    }
   ],
   "source": [
    "# Read Transform of each structure, do polyrigid transform\n",
    "\n",
    "rigid_parameters = {}\n",
    "anchor_points = {}\n",
    "\n",
    "for structure in all_known_structures_sided:\n",
    "\n",
    "    try:\n",
    "        tx_params, centroid_m, centroid_f, xdim_m, ydim_m, zdim_m, xdim_f, ydim_f, zdim_f = \\\n",
    "        DataManager.load_alignment_parameters(stack_m=stack_moving,\n",
    "                                          stack_f=stack_fixed,\n",
    "                                          classifier_setting_f=2,  \n",
    "                                          classifier_setting_m=2,\n",
    "                                        warp_setting=5,\n",
    "                                           trial_idx=0,\n",
    "                                            param_suffix=structure)\n",
    "        \n",
    "        rigid_parameters[structure] = (tx_params, centroid_m, centroid_f, xdim_m, ydim_m, zdim_m, xdim_f, ydim_f, zdim_f)\n",
    "        anchor_points[structure] = centroid_m\n",
    "    except:\n",
    "        sys.stderr.write('Error loading transform parameters for %s.\\n' % structure)"
   ]
  },
  {
   "cell_type": "code",
   "execution_count": 8,
   "metadata": {
    "collapsed": true
   },
   "outputs": [],
   "source": [
    "weights = structure_sizes_percent\n",
    "alpha = 1.\n",
    "sigmas = {s: alpha * v for s, v in structure_covars.iteritems()}"
   ]
  },
  {
   "cell_type": "code",
   "execution_count": null,
   "metadata": {
    "collapsed": true
   },
   "outputs": [],
   "source": [
    "# Parallel\n",
    "\n",
    "def func(structure):\n",
    "    \n",
    "    polyrigid_registered_volume = transform_volume_polyrigid(globally_registered_volume[structure], \n",
    "                                  rigid_parameters.values(), \n",
    "                                  anchor_points.values(), \n",
    "                                  sigmas.values(), \n",
    "                                  weights.values())\n",
    "\n",
    "    # Save\n",
    "    fn = \\\n",
    "    DataManager.get_transformed_volume_filepath(stack_m=stack_moving, stack_f=stack_fixed,\n",
    "                                                classifier_setting_m=classifier_setting,\n",
    "                                                classifier_setting_f=classifier_setting,\n",
    "                                                warp_setting=warp_setting,\n",
    "                                                trial_idx=0,\n",
    "                                                structure=structure)\n",
    "\n",
    "    create_parent_dir_if_not_exists(fn)\n",
    "    bp.pack_ndarray_file(polyrigid_registered_volume, fn)"
   ]
  },
  {
   "cell_type": "code",
   "execution_count": null,
   "metadata": {
    "collapsed": true
   },
   "outputs": [],
   "source": [
    "pool = Pool(15)\n",
    "pool.map(func, globally_registered_volume.keys())\n",
    "pool.terminate()\n",
    "pool.join()"
   ]
  },
  {
   "cell_type": "code",
   "execution_count": 17,
   "metadata": {
    "collapsed": false,
    "scrolled": true
   },
   "outputs": [
    {
     "name": "stdout",
     "output_type": "stream",
     "text": [
      "LRt_R\n",
      "Sp5C_L\n",
      "Pn_L\n",
      "7N_R\n",
      "PBG_L\n",
      "VLL_L\n",
      "4N_R\n",
      "VLL_R\n",
      "7N_L\n",
      "PBG_R\n",
      "RtTg\n",
      "Sp5C_R\n",
      "Pn_R\n",
      "LRt_L\n",
      "Sp5O_R\n",
      "SNR_L\n",
      "12N\n",
      "SNR_R\n",
      "Sp5O_L\n",
      "DC_R\n",
      "VCA_L\n",
      "3N_L\n",
      "6N_R\n",
      "Sp5I_L\n",
      "RMC_R\n",
      "5N_L\n",
      "SNC_L\n",
      "SNC_R\n",
      "AP\n",
      "RMC_L\n",
      "Sp5I_R\n",
      "3N_R\n",
      "6N_L\n",
      "IC\n",
      "VCA_R\n",
      "DC_L\n",
      "Amb_R\n",
      "VCP_R\n",
      "LC_R\n",
      "10N_R\n",
      "7n_R\n",
      "5N_R\n",
      "Tz_L\n",
      "Tz_R\n",
      "7n_L\n",
      "4N_L\n",
      "LC_L\n",
      "10N_L\n",
      "SC\n",
      "VCP_L\n",
      "Amb_L\n"
     ]
    }
   ],
   "source": [
    "# Sequential\n",
    "\n",
    "for structure, gv in globally_registered_volume.iteritems():\n",
    "    print structure\n",
    "    polyrigid_registered_volume = transform_volume_polyrigid(gv, \n",
    "                                  rigid_parameters.values(), \n",
    "                                  anchor_points.values(), \n",
    "                                  sigmas.values(), \n",
    "                                  weights.values())\n",
    "\n",
    "    # Save\n",
    "    fn = \\\n",
    "    DataManager.get_transformed_volume_filepath(stack_m=stack_moving, stack_f=stack_fixed,\n",
    "                                                classifier_setting_m=classifier_setting,\n",
    "                                                classifier_setting_f=classifier_setting,\n",
    "                                                warp_setting=warp_setting,\n",
    "                                                trial_idx=0,\n",
    "                                                structure=structure)\n",
    "\n",
    "    create_parent_dir_if_not_exists(fn)\n",
    "    bp.pack_ndarray_file(polyrigid_registered_volume, fn)"
   ]
  },
  {
   "cell_type": "markdown",
   "metadata": {
    "collapsed": true
   },
   "source": [
    "# Global Transform Reversed"
   ]
  },
  {
   "cell_type": "code",
   "execution_count": 4,
   "metadata": {
    "collapsed": true
   },
   "outputs": [],
   "source": [
    "warp_setting = 3\n",
    "trial_idx = 0"
   ]
  },
  {
   "cell_type": "code",
   "execution_count": 6,
   "metadata": {
    "collapsed": true
   },
   "outputs": [],
   "source": [
    "if warp_setting == 1:\n",
    "    upstream_warp_setting = None\n",
    "elif warp_setting == 2:\n",
    "    upstream_warp_setting = 1\n",
    "elif warp_setting == 3:\n",
    "    global_warp_setting = 1\n",
    "    upstream_warp_setting = 2\n",
    "else:\n",
    "    raise Exception('Warp setting not recognized.')\n",
    "    \n",
    "if trial_idx in [0, 1]:\n",
    "    upstream_trial_idx = 0"
   ]
  },
  {
   "cell_type": "code",
   "execution_count": 7,
   "metadata": {
    "collapsed": false
   },
   "outputs": [],
   "source": [
    "# Load transform parameters\n",
    "\n",
    "global_params, centroid_m, centroid_f, xdim_m, ydim_m, zdim_m, xdim_f, ydim_f, zdim_f = \\\n",
    "DataManager.load_alignment_parameters(stack_m=stack_moving, stack_f=stack_fixed,\n",
    "                                      classifier_setting_m=classifier_setting,\n",
    "                                      classifier_setting_f=classifier_setting,\n",
    "                                      warp_setting=global_warp_setting,\n",
    "                                      trial_idx=trial_idx)"
   ]
  },
  {
   "cell_type": "code",
   "execution_count": null,
   "metadata": {
    "collapsed": false,
    "scrolled": true
   },
   "outputs": [],
   "source": [
    "# for structure in ['PBG_L']:\n",
    "for structure in all_known_structures_sided:\n",
    "    \n",
    "    try:\n",
    "        \n",
    "        t = time.time()\n",
    "\n",
    "        local_transformed_moving_structure_vol = \\\n",
    "            DataManager.load_transformed_volume(stack_m=stack_moving, stack_f=stack_fixed,\n",
    "                                                classifier_setting_m=classifier_setting,\n",
    "                                                classifier_setting_f=classifier_setting,\n",
    "                                                warp_setting=upstream_warp_setting, \n",
    "                                                trial_idx=upstream_trial_idx,\n",
    "                                                structure=structure)\n",
    "\n",
    "        local_transformed_moving_structure_global_reversed_vol = \\\n",
    "        transform_volume_inverse(vol=local_transformed_moving_structure_vol, \n",
    "                                 global_params=global_params, \n",
    "                                 centroid_m=centroid_m, centroid_f=centroid_f,\n",
    "                                 xdim_m=xdim_m, ydim_m=ydim_m, zdim_m=zdim_m)\n",
    "\n",
    "        local_transformed_moving_structure_global_reversed_fn = \\\n",
    "        DataManager.get_transformed_volume_filepath(stack_m=stack_moving, type_m='score',\n",
    "                                                        stack_f=stack_fixed, type_f='score',\n",
    "                                                        downscale=32,\n",
    "                                                        classifier_setting_m=classifier_setting,\n",
    "                                                        classifier_setting_f=classifier_setting,\n",
    "                                                        warp_setting=warp_setting,\n",
    "                                                        structure=structure)\n",
    "\n",
    "        create_if_not_exists(os.path.dirname(local_transformed_moving_structure_global_reversed_fn))\n",
    "        bp.pack_ndarray_file(local_transformed_moving_structure_global_reversed_vol, local_transformed_moving_structure_global_reversed_fn)\n",
    "\n",
    "        sys.stderr.write('Transform: %.2f seconds.\\n' % (time.time() - t))\n",
    "        \n",
    "    except Exception as e:\n",
    "        sys.stderr.write('%s\\n' % e)\n",
    "        sys.stderr.write('Error transforming volume %s.\\n' % structure)"
   ]
  }
 ],
 "metadata": {
  "kernelspec": {
   "display_name": "Python 2",
   "language": "python",
   "name": "python2"
  },
  "language_info": {
   "codemirror_mode": {
    "name": "ipython",
    "version": 2
   },
   "file_extension": ".py",
   "mimetype": "text/x-python",
   "name": "python",
   "nbconvert_exporter": "python",
   "pygments_lexer": "ipython2",
   "version": "2.7.3"
  }
 },
 "nbformat": 4,
 "nbformat_minor": 1
}
