{
 "cells": [
  {
   "cell_type": "code",
   "execution_count": 1,
   "metadata": {
    "collapsed": false
   },
   "outputs": [
    {
     "name": "stdout",
     "output_type": "stream",
     "text": [
      "Setting environment for Gordon\n"
     ]
    },
    {
     "name": "stderr",
     "output_type": "stream",
     "text": [
      "No vtk\n"
     ]
    }
   ],
   "source": [
    "%load_ext autoreload\n",
    "%autoreload 2\n",
    "\n",
    "import numpy as np\n",
    "import sys\n",
    "import os\n",
    "import time\n",
    "\n",
    "sys.path.append(os.path.join(os.environ['REPO_DIR'], 'utilities'))\n",
    "from utilities2015 import *\n",
    "from registration_utilities import *\n",
    "from annotation_utilities import *\n",
    "from metadata import *\n",
    "from data_manager import *\n",
    "\n",
    "import matplotlib.pyplot as plt\n",
    "%matplotlib inline"
   ]
  },
  {
   "cell_type": "code",
   "execution_count": 3,
   "metadata": {
    "collapsed": false
   },
   "outputs": [],
   "source": [
    "stack_fixed = 'MD594'\n",
    "stack_moving = 'atlasV2'"
   ]
  },
  {
   "cell_type": "code",
   "execution_count": 4,
   "metadata": {
    "collapsed": true
   },
   "outputs": [],
   "source": [
    "classifier_setting = 2\n",
    "warp_setting = 2"
   ]
  },
  {
   "cell_type": "code",
   "execution_count": 5,
   "metadata": {
    "collapsed": true
   },
   "outputs": [],
   "source": [
    "if warp_setting == 1:\n",
    "    upstream_warp_setting = None    \n",
    "    transform_type = 'affine'\n",
    "elif warp_setting == 2:\n",
    "    upstream_warp_setting = 1\n",
    "    transform_type = 'rigid'\n",
    "else:\n",
    "    raise Exception('Warp setting not recognized.')"
   ]
  },
  {
   "cell_type": "code",
   "execution_count": 6,
   "metadata": {
    "collapsed": false
   },
   "outputs": [],
   "source": [
    "# train_sample_scheme = 1\n",
    "# global_transform_scheme = 1\n",
    "\n",
    "# local_transform_scheme = 1\n",
    "# # 1: no regularization, structures weight the same\n",
    "# # 2: with regularization, structures weight the same\n",
    "# # 3: no regularization, with surround\n",
    "# # 4: with regularization, with surround\n",
    "# # 5: no regularization, structure weight inversely prop to size\n",
    "# # 6: with regularization, structure weight inversely prop to size\n",
    "\n",
    "# if local_transform_scheme == 1:\n",
    "#     reg_weights = np.array([0.,0.,0.])\n",
    "# elif local_transform_scheme == 2:\n",
    "#     reg_weights = np.array([1e-6, 1e-6, 1e-6])\n",
    "# elif local_transform_scheme == 3:\n",
    "#     reg_weights = np.array([0.,0.,0.])\n",
    "# elif local_transform_scheme == 4:\n",
    "#     reg_weights = np.array([1e-4, 1e-4, 1e-4])\n",
    "    \n",
    "# # stack_moving = 'atlas_on_MD589'\n",
    "# stack_moving = 'atlasV2'"
   ]
  },
  {
   "cell_type": "code",
   "execution_count": 7,
   "metadata": {
    "collapsed": false,
    "scrolled": true
   },
   "outputs": [
    {
     "name": "stderr",
     "output_type": "stream",
     "text": [
      "File does not exist: /oasis/projects/nsf/csd395/yuncong/CSHL_volumes/MD594/score_volumes/MD594_down32_scoreVolume_outerContour_setting_2.bp\n",
      "Score volume for outerContour does not exist.\n",
      "File does not exist: /oasis/projects/nsf/csd395/yuncong/CSHL_volumes/MD594/score_volumes/MD594_down32_scoreVolume_sp5_setting_2.bp\n",
      "Score volume for sp5 does not exist.\n"
     ]
    }
   ],
   "source": [
    "volume_fixed, structure_to_label_fixed, label_to_structure_fixed = \\\n",
    "DataManager.load_score_volume_all_known_structures(stack=stack_fixed, classifier_setting=classifier_setting)"
   ]
  },
  {
   "cell_type": "code",
   "execution_count": 13,
   "metadata": {
    "collapsed": false
   },
   "outputs": [],
   "source": [
    "gradient_filepath_map_f = {ind_f: \\\n",
    "                           DataManager.get_score_volume_gradient_filepath_template(\\\n",
    "                            stack=stack_fixed, structure=struct_f, setting=classifier_setting)\n",
    "                           for ind_f, struct_f in label_to_structure_fixed.iteritems()}"
   ]
  },
  {
   "cell_type": "code",
   "execution_count": 9,
   "metadata": {
    "collapsed": true
   },
   "outputs": [],
   "source": [
    "# volume_moving_structure_sizes = {l: np.count_nonzero(vol > 0) for l, vol in volume_moving.iteritems()}\n",
    "\n",
    "# for lm, s in volume_moving_structure_sizes.iteritems():\n",
    "#     print label_to_name_moving[lm], s, 'voxels'"
   ]
  },
  {
   "cell_type": "code",
   "execution_count": 24,
   "metadata": {
    "collapsed": true
   },
   "outputs": [],
   "source": [
    "# labelIndexMap_m2f = {}\n",
    "# for label_m, name_m in label_to_name_moving.iteritems():\n",
    "#     labelIndexMap_m2f[label_m] = name_to_label_fixed[convert_to_original_name(name_m)]\n",
    "    \n",
    "# label_weights_m = {}\n",
    "# for label_m, name_m in label_to_name_moving.iteritems():\n",
    "#     if 'surround' in name_m:\n",
    "#         if local_transform_scheme == 3 or local_transform_scheme == 4:\n",
    "#             label_weights_m[label_m] = -1\n",
    "#         else:\n",
    "#             label_weights_m[label_m] = 0\n",
    "#     else:\n",
    "#         label_weights_m[label_m] = 1"
   ]
  },
  {
   "cell_type": "markdown",
   "metadata": {},
   "source": [
    "# Align"
   ]
  },
  {
   "cell_type": "code",
   "execution_count": 12,
   "metadata": {
    "collapsed": false,
    "scrolled": true
   },
   "outputs": [
    {
     "name": "stderr",
     "output_type": "stream",
     "text": [
      "Label weights not set, default to 1 for all structures.\n",
      "Regularization weights not set, default to 0.\n"
     ]
    },
    {
     "name": "stdout",
     "output_type": "stream",
     "text": [
      "set([12])\n"
     ]
    },
    {
     "name": "stderr",
     "output_type": "stream",
     "text": [
      "load gradient 12: 3.901515 seconds\n",
      "overall: 3.901677 seconds\n",
      "grid search: 7.986386 seconds\n",
      "-inf 0.456946\n",
      "grid search: 5.646227 seconds\n",
      "0.456946 0.460311\n",
      "grid search: 4.142373 seconds\n",
      "grid search: 2.941816 seconds\n",
      "0.460311 0.465997\n",
      "grid search: 2.340800 seconds\n",
      "grid search: 1.637957 seconds\n",
      "grid search: 1.338569 seconds\n",
      "grid search: 1.134012 seconds\n",
      "0.465997 0.466762\n",
      "grid search: 0.833251 seconds\n",
      "grid search: 0.638124 seconds\n",
      "grid search: 0.532896 seconds\n",
      "grid search: 0.436609 seconds\n",
      "grid search: 0.431678 seconds\n",
      "0.466762 0.466857\n",
      "grid search: 0.336391 seconds\n",
      "0.466857 0.466861\n",
      "grid search: 0.334694 seconds\n",
      "grid search: 0.235095 seconds\n",
      "grid search: 0.234609 seconds\n",
      "0.466861 0.466919\n",
      "grid search: 0.236409 seconds\n",
      "grid search: 0.234549 seconds\n",
      "grid search: 0.235507 seconds\n",
      "iteration 0\n"
     ]
    },
    {
     "name": "stdout",
     "output_type": "stream",
     "text": [
      "params_best_upToNow [-0.2066942  -4.29926453  4.62030018  0.08493072]\n"
     ]
    },
    {
     "name": "stderr",
     "output_type": "stream",
     "text": [
      "step: 0.29 seconds\n",
      "score: 0.466919\n",
      "iteration 1\n",
      "step: 0.28 seconds\n",
      "score: 0.444639\n",
      "iteration 2\n",
      "step: 0.27 seconds\n",
      "score: 0.449944\n",
      "iteration 3\n",
      "step: 0.27 seconds\n",
      "score: 0.445421\n",
      "iteration 4\n",
      "step: 0.27 seconds\n",
      "score: 0.465747\n",
      "iteration 5\n",
      "step: 0.27 seconds\n",
      "score: 0.470110\n",
      "iteration 6\n",
      "step: 0.28 seconds\n",
      "score: 0.469080\n",
      "iteration 7\n",
      "step: 0.27 seconds\n",
      "score: 0.471682\n",
      "iteration 8\n",
      "step: 0.28 seconds\n",
      "score: 0.470207\n",
      "iteration 9\n",
      "step: 0.27 seconds\n",
      "score: 0.472327\n",
      "iteration 10\n",
      "step: 0.27 seconds\n",
      "score: 0.473646\n",
      "iteration 11\n",
      "step: 0.27 seconds\n",
      "score: 0.474024\n",
      "iteration 12\n",
      "step: 0.27 seconds\n",
      "score: 0.474166\n",
      "iteration 13\n",
      "step: 0.27 seconds\n",
      "score: 0.473509\n",
      "iteration 14\n",
      "step: 0.27 seconds\n",
      "score: 0.472963\n",
      "iteration 15\n",
      "step: 0.27 seconds\n",
      "score: 0.473497\n",
      "iteration 16\n",
      "step: 0.27 seconds\n",
      "score: 0.474019\n",
      "iteration 17\n",
      "step: 0.27 seconds\n",
      "score: 0.474144\n",
      "iteration 18\n",
      "step: 0.27 seconds\n",
      "score: 0.474141\n",
      "iteration 19\n",
      "step: 0.28 seconds\n",
      "score: 0.474456\n",
      "iteration 20\n",
      "step: 0.28 seconds\n",
      "score: 0.474458\n",
      "iteration 21\n",
      "step: 0.27 seconds\n",
      "score: 0.474453\n",
      "iteration 22\n",
      "step: 0.28 seconds\n",
      "score: 0.472580\n",
      "iteration 23\n",
      "step: 0.27 seconds\n",
      "score: 0.472920\n",
      "iteration 24\n",
      "step: 0.28 seconds\n",
      "score: 0.473472\n",
      "iteration 25\n",
      "step: 0.27 seconds\n",
      "score: 0.474051\n",
      "iteration 26\n",
      "step: 0.27 seconds\n",
      "score: 0.474071\n",
      "iteration 27\n",
      "step: 0.28 seconds\n",
      "score: 0.473151\n",
      "iteration 28\n",
      "step: 0.27 seconds\n",
      "score: 0.473787\n",
      "iteration 29\n",
      "step: 0.28 seconds\n",
      "score: 0.473518\n",
      "iteration 30\n",
      "step: 0.27 seconds\n",
      "score: 0.474278\n",
      "iteration 31\n",
      "step: 0.27 seconds\n",
      "score: 0.473191\n",
      "iteration 32\n",
      "step: 0.28 seconds\n",
      "score: 0.474171\n",
      "iteration 33\n",
      "step: 0.27 seconds\n",
      "score: 0.473505\n",
      "iteration 34\n",
      "step: 0.27 seconds\n",
      "score: 0.474453\n",
      "iteration 35\n",
      "step: 0.28 seconds\n",
      "score: 0.474299\n",
      "iteration 36\n",
      "step: 0.28 seconds\n",
      "score: 0.474632\n",
      "iteration 37\n",
      "step: 0.27 seconds\n",
      "score: 0.474496\n",
      "iteration 38\n",
      "step: 0.28 seconds\n",
      "score: 0.474415\n",
      "iteration 39\n",
      "step: 0.28 seconds\n",
      "score: 0.474178\n",
      "iteration 40\n",
      "step: 0.27 seconds\n",
      "score: 0.474554\n",
      "iteration 41\n",
      "step: 0.28 seconds\n",
      "score: 0.473506\n",
      "iteration 42\n",
      "step: 0.28 seconds\n",
      "score: 0.474124\n",
      "iteration 43\n",
      "step: 0.27 seconds\n",
      "score: 0.472874\n",
      "iteration 44\n",
      "step: 0.28 seconds\n",
      "score: 0.474324\n",
      "iteration 45\n",
      "step: 0.28 seconds\n",
      "score: 0.473103\n",
      "iteration 46\n",
      "step: 0.28 seconds\n",
      "score: 0.474505\n",
      "iteration 47\n",
      "step: 0.27 seconds\n",
      "score: 0.474373\n",
      "iteration 48\n",
      "step: 0.27 seconds\n",
      "score: 0.473936\n",
      "iteration 49\n",
      "step: 0.28 seconds\n",
      "score: 0.474651\n",
      "iteration 50\n",
      "step: 0.27 seconds\n",
      "score: 0.474430\n",
      "iteration 51\n",
      "step: 0.27 seconds\n",
      "score: 0.474311\n",
      "iteration 52\n",
      "step: 0.27 seconds\n",
      "score: 0.474623\n",
      "iteration 53\n",
      "step: 0.27 seconds\n",
      "score: 0.474631\n",
      "iteration 54\n",
      "step: 0.27 seconds\n",
      "score: 0.474158\n",
      "iteration 55\n",
      "step: 0.27 seconds\n",
      "score: 0.474549\n",
      "iteration 56\n",
      "step: 0.27 seconds\n",
      "score: 0.474679\n",
      "iteration 57\n",
      "step: 0.28 seconds\n",
      "score: 0.474614\n",
      "iteration 58\n",
      "step: 0.27 seconds\n",
      "score: 0.474295\n",
      "iteration 59\n",
      "step: 0.27 seconds\n",
      "score: 0.474280\n",
      "iteration 60\n",
      "step: 0.28 seconds\n",
      "score: 0.474395\n",
      "iteration 61\n",
      "step: 0.28 seconds\n",
      "score: 0.474356\n",
      "iteration 62\n",
      "step: 0.27 seconds\n",
      "score: 0.473946\n",
      "iteration 63\n",
      "step: 0.27 seconds\n",
      "score: 0.473879\n",
      "iteration 64\n",
      "step: 0.27 seconds\n",
      "score: 0.473617\n",
      "iteration 65\n",
      "step: 0.27 seconds\n",
      "score: 0.474025\n",
      "iteration 66\n",
      "step: 0.27 seconds\n",
      "score: 0.474375\n",
      "iteration 67\n",
      "step: 0.28 seconds\n",
      "score: 0.474217\n",
      "iteration 68\n",
      "step: 0.27 seconds\n",
      "score: 0.474201\n",
      "iteration 69\n",
      "step: 0.27 seconds\n",
      "score: 0.474340\n",
      "iteration 70\n",
      "step: 0.27 seconds\n",
      "score: 0.473592\n",
      "iteration 71\n",
      "step: 0.28 seconds\n",
      "score: 0.474221\n",
      "iteration 72\n",
      "step: 0.28 seconds\n",
      "score: 0.474286\n",
      "iteration 73\n",
      "step: 0.28 seconds\n",
      "score: 0.474249\n",
      "iteration 74\n",
      "step: 0.27 seconds\n",
      "score: 0.474381\n",
      "iteration 75\n",
      "step: 0.28 seconds\n",
      "score: 0.474252\n",
      "iteration 76\n",
      "step: 0.28 seconds\n",
      "score: 0.474642\n",
      "iteration 77\n",
      "step: 0.28 seconds\n",
      "score: 0.474635\n",
      "iteration 78\n",
      "step: 0.28 seconds\n",
      "score: 0.474496\n",
      "iteration 79\n",
      "step: 0.28 seconds\n",
      "score: 0.474370\n",
      "iteration 80\n",
      "step: 0.28 seconds\n",
      "score: 0.474493\n",
      "iteration 81\n",
      "step: 0.28 seconds\n",
      "score: 0.474624\n",
      "iteration 82\n",
      "step: 0.28 seconds\n",
      "score: 0.474234\n",
      "iteration 83\n",
      "step: 0.28 seconds\n",
      "score: 0.474470\n",
      "iteration 84\n",
      "step: 0.29 seconds\n",
      "score: 0.474362\n",
      "iteration 85\n",
      "step: 0.30 seconds\n",
      "score: 0.474183\n",
      "iteration 86\n",
      "step: 0.30 seconds\n",
      "score: 0.474399\n",
      "iteration 87\n",
      "step: 0.30 seconds\n",
      "score: 0.474427\n",
      "iteration 88\n",
      "step: 0.30 seconds\n",
      "score: 0.473947\n",
      "iteration 89\n",
      "step: 0.30 seconds\n",
      "score: 0.473926\n",
      "iteration 90\n",
      "step: 0.30 seconds\n",
      "score: 0.474075\n",
      "iteration 91\n",
      "step: 0.30 seconds\n",
      "score: 0.474497\n",
      "iteration 92\n",
      "step: 0.30 seconds\n",
      "score: 0.474170\n",
      "iteration 93\n",
      "step: 0.30 seconds\n",
      "score: 0.474592\n",
      "iteration 94\n",
      "step: 0.30 seconds\n",
      "score: 0.474414\n",
      "iteration 95\n",
      "step: 0.30 seconds\n",
      "score: 0.474234\n",
      "iteration 96\n",
      "step: 0.30 seconds\n",
      "score: 0.474350\n",
      "iteration 97\n",
      "step: 0.30 seconds\n",
      "score: 0.474473\n",
      "iteration 98\n",
      "step: 0.30 seconds\n",
      "score: 0.474293\n",
      "iteration 99\n",
      "step: 0.30 seconds\n",
      "score: 0.473876\n",
      "iteration 100\n",
      "step: 0.30 seconds\n",
      "score: 0.474398\n",
      "iteration 101\n",
      "step: 0.30 seconds\n",
      "score: 0.474593\n",
      "iteration 102\n",
      "step: 0.30 seconds\n",
      "score: 0.473970\n",
      "iteration 103\n",
      "step: 0.30 seconds\n",
      "score: 0.474533\n",
      "iteration 104\n",
      "step: 0.30 seconds\n",
      "score: 0.474623\n",
      "iteration 105\n",
      "step: 0.30 seconds\n",
      "score: 0.474558\n",
      "iteration 106\n",
      "step: 0.30 seconds\n",
      "score: 0.474412\n",
      "iteration 107\n",
      "step: 0.30 seconds\n",
      "score: 0.474530\n",
      "iteration 108\n",
      "step: 0.30 seconds\n",
      "score: 0.474066\n",
      "iteration 109\n",
      "step: 0.30 seconds\n",
      "score: 0.473852\n",
      "iteration 110\n",
      "step: 0.30 seconds\n",
      "score: 0.474160\n",
      "iteration 111\n",
      "step: 0.30 seconds\n",
      "score: 0.474425\n",
      "iteration 112\n",
      "step: 0.30 seconds\n",
      "score: 0.474428\n",
      "iteration 113\n",
      "step: 0.30 seconds\n",
      "score: 0.473230\n",
      "iteration 114\n",
      "step: 0.30 seconds\n",
      "score: 0.474457\n",
      "iteration 115\n",
      "step: 0.30 seconds\n",
      "score: 0.474595\n",
      "iteration 116\n",
      "step: 0.30 seconds\n",
      "score: 0.474227\n",
      "iteration 117\n",
      "step: 0.30 seconds\n",
      "score: 0.474449\n",
      "iteration 118\n",
      "step: 0.30 seconds\n",
      "score: 0.474530\n",
      "iteration 119\n",
      "step: 0.30 seconds\n",
      "score: 0.474258\n",
      "iteration 120\n",
      "step: 0.30 seconds\n",
      "score: 0.474643\n",
      "iteration 121\n",
      "step: 0.30 seconds\n",
      "score: 0.474230\n",
      "iteration 122\n",
      "step: 0.30 seconds\n",
      "score: 0.474200\n",
      "iteration 123\n",
      "step: 0.30 seconds\n",
      "score: 0.474443\n",
      "iteration 124\n",
      "step: 0.30 seconds\n",
      "score: 0.474522\n",
      "iteration 125\n",
      "step: 0.30 seconds\n",
      "score: 0.474189\n",
      "iteration 126\n",
      "step: 0.30 seconds\n",
      "score: 0.474405\n",
      "iteration 127\n",
      "step: 0.30 seconds\n",
      "score: 0.474196\n",
      "iteration 128\n",
      "step: 0.30 seconds\n",
      "score: 0.473790\n",
      "iteration 129\n",
      "step: 0.30 seconds\n",
      "score: 0.474250\n",
      "iteration 130\n",
      "step: 0.30 seconds\n",
      "score: 0.474596\n",
      "iteration 131\n",
      "step: 0.30 seconds\n",
      "score: 0.474536\n",
      "iteration 132\n",
      "step: 0.30 seconds\n",
      "score: 0.474499\n",
      "iteration 133\n",
      "step: 0.30 seconds\n",
      "score: 0.473771\n",
      "iteration 134\n",
      "step: 0.30 seconds\n",
      "score: 0.474333\n",
      "iteration 135\n",
      "step: 0.30 seconds\n",
      "score: 0.474524\n",
      "iteration 136\n",
      "step: 0.30 seconds\n",
      "score: 0.473753\n",
      "iteration 137\n",
      "step: 0.30 seconds\n",
      "score: 0.474192\n",
      "iteration 138\n",
      "step: 0.30 seconds\n",
      "score: 0.474173\n",
      "iteration 139\n",
      "step: 0.30 seconds\n",
      "score: 0.474220\n",
      "iteration 140\n",
      "step: 0.30 seconds\n",
      "score: 0.474593\n",
      "iteration 141\n",
      "step: 0.30 seconds\n",
      "score: 0.473393\n",
      "iteration 142\n",
      "step: 0.30 seconds\n",
      "score: 0.474426\n",
      "iteration 143\n",
      "step: 0.30 seconds\n",
      "score: 0.474375\n",
      "iteration 144\n",
      "step: 0.30 seconds\n",
      "score: 0.474553\n"
     ]
    },
    {
     "name": "stdout",
     "output_type": "stream",
     "text": [
      "[[  9.93055187e-01  -1.16936597e-01  -1.29316537e-02  -2.33307212e-01]\n",
      " [  1.17648910e-01   9.87369584e-01   1.06113325e-01  -2.85295610e+00]\n",
      " [  3.59790398e-04  -1.06897783e-01   9.94269951e-01   7.51494553e+00]]\n"
     ]
    },
    {
     "data": {
      "image/png": "[encoded data removed]",
      "text/plain": [
       "<matplotlib.figure.Figure at 0x2997f10>"
      ]
     },
     "metadata": {},
     "output_type": "display_data"
    },
    {
     "name": "stdout",
     "output_type": "stream",
     "text": [
      "0.474679499865 0.474552571774\n"
     ]
    }
   ],
   "source": [
    "trial_num = 1\n",
    "\n",
    "for trial_idx in range(trial_num):\n",
    "    \n",
    "    if trial_idx in [0, 1]:\n",
    "        upstream_trial_idx = 0\n",
    "        \n",
    "    volume_moving = DataManager.load_transformed_volume_all_known_structures(stack_m=stack_moving, stack_f=stack_fixed,\n",
    "                                                                         classifier_setting_m=classifier_setting,\n",
    "                                                                         classifier_setting_f=classifier_setting,\n",
    "                                                                         warp_setting=upstream_warp_setting, \n",
    "                                                                         trial_idx=upstream_trial_idx,\n",
    "                                                                         sided=True)\n",
    "\n",
    "    structure_to_label_moving = {s: l+1 for l, s in enumerate(sorted(volume_moving.keys()))}\n",
    "    label_to_structure_moving = {l+1: s for l, s in enumerate(sorted(volume_moving.keys()))}\n",
    "    volume_moving = {structure_to_label_moving[s]: v for s, v in volume_moving.items()}\n",
    "\n",
    "    label_mapping_m2f = {label_m: structure_to_label_fixed[convert_to_original_name(name_m)] \n",
    "                         for label_m, name_m in label_to_structure_moving.iteritems()}\n",
    "\n",
    "    # for structure in all_known_structures_sided:\n",
    "    for structure in ['IC']:\n",
    "\n",
    "        try:\n",
    "\n",
    "            label_mapping_m2f_one_structure = {label_m: label_f for label_m, label_f in label_mapping_m2f.iteritems()\n",
    "                                               if label_to_structure_moving[label_m] == structure}\n",
    "\n",
    "            volume_moving_one_structure = {l: v for l, v in volume_moving.items() \n",
    "                                           if label_to_structure_moving[l] == structure}\n",
    "\n",
    "            aligner = Aligner4(volume_fixed, volume_moving_one_structure, \n",
    "                               labelIndexMap_m2f=label_mapping_m2f_one_structure)\n",
    "\n",
    "            aligner.set_centroid(centroid_m='structure_centroid', centroid_f='centroid_m', \n",
    "                                 indices_m=[structure_to_label_moving[structure]])\n",
    "\n",
    "            aligner.load_gradient(gradient_filepath_map_f=gradient_filepath_map_f) # 120s = 2 mins\n",
    "\n",
    "            T, scores = aligner.optimize(type=transform_type, \n",
    "                                         max_iter_num=1000, history_len=50, terminate_thresh=1e-5,\n",
    "                                        grid_search_iteration_number=20,\n",
    "                                         grid_search_sample_number=1000,\n",
    "                                         grad_computation_sample_number=1e5,\n",
    "                                         lr1=10, lr2=0.1,\n",
    "                                        std_tx=50, std_ty=50, std_tz=100, std_theta_xy=np.deg2rad(10),\n",
    "                                        epsilon=1e-8)\n",
    "\n",
    "            print T.reshape((3,4))\n",
    "            plt.figure();\n",
    "            plt.plot(scores);\n",
    "            plt.show();\n",
    "            print max(scores), scores[-1]\n",
    "\n",
    "            params_fp = \\\n",
    "            DataManager.get_alignment_parameters_filepath(stack_m=stack_moving, stack_f=stack_fixed,\n",
    "                                                          classifier_setting_m=classifier_setting,\n",
    "                                                          classifier_setting_f=classifier_setting,\n",
    "                                                          warp_setting=warp_setting,\n",
    "                                                          param_suffix=structure,\n",
    "                                                          trial_idx=trial_idx)\n",
    "\n",
    "            DataManager.save_alignment_parameters(params_fp, T, \n",
    "                                                  aligner.centroid_m, aligner.centroid_f,\n",
    "                                                  aligner.xdim_m, aligner.ydim_m, aligner.zdim_m, \n",
    "                                                  aligner.xdim_f, aligner.ydim_f, aligner.zdim_f)\n",
    "\n",
    "            score_plot_fp = \\\n",
    "            DataManager.get_alignment_score_plot_filepath(stack_m=stack_moving, stack_f=stack_fixed,\n",
    "                                                          classifier_setting_m=classifier_setting,\n",
    "                                                          classifier_setting_f=classifier_setting,\n",
    "                                                          warp_setting=warp_setting,\n",
    "                                                          param_suffix=structure,\n",
    "                                                          trial_idx=trial_idx)\n",
    "            fig = plt.figure();\n",
    "            plt.plot(scores);\n",
    "            plt.savefig(score_plot_fp, bbox_inches='tight')\n",
    "            plt.close(fig)\n",
    "\n",
    "        except Exception as e:\n",
    "            sys.stderr.write('%s\\n' % e)\n",
    "            sys.stderr.write('Error transforming volume %s.\\n' % structure)"
   ]
  },
  {
   "cell_type": "markdown",
   "metadata": {
    "collapsed": true
   },
   "source": [
    "# POLYRIGID TRANSFORM"
   ]
  },
  {
   "cell_type": "code",
   "execution_count": 27,
   "metadata": {
    "collapsed": true
   },
   "outputs": [],
   "source": [
    "annotation_structure_sizes = {s: len(parallel_where_binary(volume_annotation == name_to_label_annotation[s])) \n",
    "                              for s in structures_sided}\n",
    "annotation_structure_sizes_precent = {s: float(size)/sum(annotation_structure_sizes.values()) \n",
    "                                      for s, size in annotation_structure_sizes.iteritems()}"
   ]
  },
  {
   "cell_type": "code",
   "execution_count": 175,
   "metadata": {
    "collapsed": false,
    "scrolled": true
   },
   "outputs": [],
   "source": [
    "annotation_structure_radius = {}\n",
    "# annotation_structure_axes = {}\n",
    "annotation_structure_covars = {}\n",
    "for s in structures_sided:\n",
    "    nzs = parallel_where_binary(volume_annotation == name_to_label_annotation[s])\n",
    "    nzsc = nzs - nzs.mean(axis=0)\n",
    "    C = np.dot(nzsc.T, nzsc)/float(len(nzsc))\n",
    "    S, V = np.linalg.eigh(C)\n",
    "#     annotation_structure_axes[s] = V\n",
    "    annotation_structure_radius[s] = np.sqrt(S)\n",
    "    annotation_structure_covars[s] = C\n",
    "#     alpha = 1.\n",
    "#     scaled_C = np.dot(np.dot(V.T, alpha*S), V)\n",
    "#     annotation_structure_covars[s] = scaled_C"
   ]
  },
  {
   "cell_type": "code",
   "execution_count": 210,
   "metadata": {
    "collapsed": false
   },
   "outputs": [],
   "source": [
    "# Read Transform of each structure, do polyrigid transform\n",
    "\n",
    "volume_m_aligned_to_f_allAnnotatedBrains = {}\n",
    "\n",
    "stack = 'MD589'\n",
    "volume_annotation = volumes_annotation[stack]\n",
    "\n",
    "# for stack, volume_annotation in volumes_annotation.iteritems():\n",
    "\n",
    "rigid_parameters_list = []\n",
    "anchor_points = []\n",
    "# sigmas = [1. for _ in structures_sided]\n",
    "\n",
    "alpha = 1.\n",
    "sigmas = [alpha * annotation_structure_covars[s] for s in structures_sided]\n",
    "\n",
    "# weights = [1. for s in structures_sided]\n",
    "weights = [annotation_structure_sizes_precent[s] for s in structures_sided]\n",
    "\n",
    "for name_s in structures_sided:\n",
    "# for name_s in ['VLL_L']:\n",
    "\n",
    "    try:\n",
    "        tx_params, centroid_m, centroid_f, xdim_m, ydim_m, zdim_m, xdim_f, ydim_f, zdim_f = \\\n",
    "        DataManager.load_local_alignment_parameters(stack_moving=stack_moving,\n",
    "                                                    moving_volume_type='score',\n",
    "                                                    stack_fixed=stack_fixed,\n",
    "                                                    fixed_volume_type='score',\n",
    "                                                    train_sample_scheme=train_sample_scheme,\n",
    "                                                    global_transform_scheme=global_transform_scheme,\n",
    "                                                    local_transform_scheme=local_transform_scheme,\n",
    "                                                   label=name_s,\n",
    "                                                   trial_idx=1)\n",
    "\n",
    "        rigid_parameters_list.append((tx_params, centroid_m, centroid_f, xdim_m, ydim_m, zdim_m, xdim_f, ydim_f, zdim_f))\n",
    "        anchor_points.append(centroid_m)\n",
    "    except:\n",
    "        sys.stderr.write('Cannot load parameters for %s.\\n' % name_s)"
   ]
  },
  {
   "cell_type": "code",
   "execution_count": 211,
   "metadata": {
    "collapsed": false
   },
   "outputs": [],
   "source": [
    "volume_m_aligned_to_f_allAnnotatedBrains[stack] = transform_volume_polyrigid(volume_annotation, \n",
    "                                                                             rigid_parameters_list, \n",
    "                                                                             anchor_points, sigmas, \n",
    "                                                                             weights)"
   ]
  },
  {
   "cell_type": "code",
   "execution_count": 212,
   "metadata": {
    "collapsed": true
   },
   "outputs": [],
   "source": [
    "viz_dir = create_if_not_exists(DataManager.get_local_alignment_viz_dir(stack_moving=stack_moving,\n",
    "                                                        stack_fixed=stack_fixed,\n",
    "                                                        moving_volume_type='score',\n",
    "                                                        fixed_volume_type='score',\n",
    "                                                        train_sample_scheme=train_sample_scheme,\n",
    "                                                        global_transform_scheme=global_transform_scheme,\n",
    "                                                        local_transform_scheme=5))"
   ]
  },
  {
   "cell_type": "code",
   "execution_count": 213,
   "metadata": {
    "collapsed": false
   },
   "outputs": [
    {
     "name": "stderr",
     "output_type": "stream",
     "text": [
      "/oasis/projects/nsf/csd395/yuncong/brain_virtualenv/lib/python2.7/site-packages/skimage/external/tifffile/tifffile.py:1794: RuntimeWarning: py_decodelzw encountered unexpected end of stream\n",
      "  strip = decompress(strip)\n"
     ]
    }
   ],
   "source": [
    "bar = show_progress_bar(first_sec, last_sec)\n",
    "\n",
    "for sec in range(first_sec, last_sec+1):\n",
    "# for sec in range(140, 160):\n",
    "    \n",
    "    if metadata_cache['sections_to_filenames'][stack_fixed][sec] in ['Placeholder', 'Rescan', 'Nonexisting']:\n",
    "            continue\n",
    "\n",
    "    bar.value = sec\n",
    "\n",
    "    img_fn = DataManager.get_image_filepath(stack=stack_fixed, section=sec, resol='thumbnail', version='cropped_tif')\n",
    "    img = imread(img_fn)\n",
    "\n",
    "#         img_fn = DataManager.get_scoremap_viz_filepath(stack=stack_fixed, section=sec, label='7N', train_sample_scheme=train_sample_scheme)\n",
    "#         img = imread(img_fn)[::4, ::4]\n",
    "\n",
    "    viz = img.copy()\n",
    "\n",
    "    z = voxel_z_size * (sec - 1) - zmin_vol_f\n",
    "    \n",
    "    ##############################################\n",
    "    \n",
    "#     for stack, volume_m_aligned_to_f in volume_m_aligned_to_f_allAnnotatedBrains.iteritems():\n",
    "\n",
    "    stack = 'MD589'\n",
    "    volume_m_aligned_to_f = volume_m_aligned_to_f_allAnnotatedBrains[stack]\n",
    "            \n",
    "    contours_m_alignedTo_f_on_volume = find_contour_points(volume_m_aligned_to_f[..., int(z)])\n",
    "    contours_m_alignedTo_f_on_cropped = {i: [cnt + (xmin_vol_f, ymin_vol_f) for cnt in cnts] \n",
    "                                         for i, cnts in contours_m_alignedTo_f_on_volume.iteritems()}\n",
    "\n",
    "#     # Draw fixed volume annotation contours\n",
    "#     for ind_f, cnts_f in contours_f_on_cropped.iteritems():\n",
    "#         for cnt_f in cnts_f:\n",
    "#             cv2.polylines(viz, [cnt_f.astype(np.int)], True, (0,255,0), 2)\n",
    "\n",
    "    # Draw moving volume annotation contours\n",
    "    for ind_m, cnts_m in contours_m_alignedTo_f_on_cropped.iteritems():\n",
    "        for cnt_m in cnts_m:\n",
    "#             cv2.polylines(viz, [cnt_m.astype(np.int)], True, stack_colors[stack], 2)\n",
    "            cv2.polylines(viz, [cnt_m.astype(np.int)], True, structure_colors[convert_name_to_unsided(label_to_name_moving[ind_m])], 1)\n",
    "\n",
    "            # put label texts\n",
    "#             label_pos = cnt_m.mean(axis=0).astype(np.int)\n",
    "#             cv2.putText(viz, convert_name_to_unsided(name_s), tuple(label_pos), \n",
    "#                         cv2.FONT_HERSHEY_DUPLEX, .5, ((0,0,0)), 1)\n",
    "\n",
    "    viz_fn = os.path.join(viz_dir, '%(stack_moving)s_over_%(stack_fixed)s_%(sec)04d.jpg' % \\\n",
    "          {'stack_moving': stack_moving, 'stack_fixed': stack_fixed, 'sec': sec})\n",
    "    imsave(viz_fn, viz)\n",
    "\n",
    "#     plt.figure(figsize=(10, 10));\n",
    "#     plt.imshow(viz);\n",
    "#     plt.show();"
   ]
  },
  {
   "cell_type": "code",
   "execution_count": null,
   "metadata": {
    "collapsed": true
   },
   "outputs": [],
   "source": []
  },
  {
   "cell_type": "code",
   "execution_count": null,
   "metadata": {
    "collapsed": true
   },
   "outputs": [],
   "source": [
    "# TRANSFORM VOLUMES"
   ]
  },
  {
   "cell_type": "code",
   "execution_count": 31,
   "metadata": {
    "collapsed": false,
    "scrolled": true
   },
   "outputs": [
    {
     "name": "stdout",
     "output_type": "stream",
     "text": [
      "5N_L\n"
     ]
    },
    {
     "name": "stderr",
     "output_type": "stream",
     "text": [
      "/oasis/projects/nsf/csd395/yuncong/brain_virtualenv/lib/python2.7/site-packages/ipykernel/__main__.py:22: DeprecationWarning: BaseException.message has been deprecated as of Python 2.6\n",
      "\n"
     ]
    },
    {
     "name": "stdout",
     "output_type": "stream",
     "text": [
      "5N_R\n"
     ]
    },
    {
     "name": "stderr",
     "output_type": "stream",
     "text": [
      "\n"
     ]
    },
    {
     "name": "stdout",
     "output_type": "stream",
     "text": [
      "6N_L\n",
      "6N_R\n"
     ]
    },
    {
     "name": "stderr",
     "output_type": "stream",
     "text": [
      "\n"
     ]
    },
    {
     "name": "stdout",
     "output_type": "stream",
     "text": [
      "7N_L\n"
     ]
    },
    {
     "name": "stderr",
     "output_type": "stream",
     "text": [
      "\n"
     ]
    },
    {
     "name": "stdout",
     "output_type": "stream",
     "text": [
      "7N_R\n"
     ]
    },
    {
     "name": "stderr",
     "output_type": "stream",
     "text": [
      "\n"
     ]
    },
    {
     "name": "stdout",
     "output_type": "stream",
     "text": [
      "7n_L\n"
     ]
    },
    {
     "name": "stderr",
     "output_type": "stream",
     "text": [
      "\n"
     ]
    },
    {
     "name": "stdout",
     "output_type": "stream",
     "text": [
      "7n_R\n"
     ]
    },
    {
     "name": "stderr",
     "output_type": "stream",
     "text": [
      "\n"
     ]
    },
    {
     "name": "stdout",
     "output_type": "stream",
     "text": [
      "Amb_L\n"
     ]
    },
    {
     "name": "stderr",
     "output_type": "stream",
     "text": [
      "\n"
     ]
    },
    {
     "name": "stdout",
     "output_type": "stream",
     "text": [
      "Amb_R\n"
     ]
    },
    {
     "name": "stderr",
     "output_type": "stream",
     "text": [
      "\n"
     ]
    },
    {
     "name": "stdout",
     "output_type": "stream",
     "text": [
      "LC_L\n"
     ]
    },
    {
     "name": "stderr",
     "output_type": "stream",
     "text": [
      "\n"
     ]
    },
    {
     "name": "stdout",
     "output_type": "stream",
     "text": [
      "LC_R\n"
     ]
    },
    {
     "name": "stderr",
     "output_type": "stream",
     "text": [
      "\n"
     ]
    },
    {
     "name": "stdout",
     "output_type": "stream",
     "text": [
      "LRt_L\n"
     ]
    },
    {
     "name": "stderr",
     "output_type": "stream",
     "text": [
      "\n"
     ]
    },
    {
     "name": "stdout",
     "output_type": "stream",
     "text": [
      "LRt_R\n"
     ]
    },
    {
     "name": "stderr",
     "output_type": "stream",
     "text": [
      "\n"
     ]
    },
    {
     "ename": "KeyboardInterrupt",
     "evalue": "",
     "output_type": "error",
     "traceback": [
      "\u001b[0;31m---------------------------------------------------------------------------\u001b[0m",
      "\u001b[0;31mKeyboardInterrupt\u001b[0m                         Traceback (most recent call last)",
      "\u001b[0;32m<ipython-input-31-0d23438d4cde>\u001b[0m in \u001b[0;36m<module>\u001b[0;34m()\u001b[0m\n\u001b[1;32m     35\u001b[0m                           \u001b[0mxdim_f\u001b[0m\u001b[0;34m=\u001b[0m\u001b[0mxdim_f\u001b[0m\u001b[0;34m,\u001b[0m\u001b[0;34m\u001b[0m\u001b[0m\n\u001b[1;32m     36\u001b[0m                           \u001b[0mydim_f\u001b[0m\u001b[0;34m=\u001b[0m\u001b[0mydim_f\u001b[0m\u001b[0;34m,\u001b[0m\u001b[0;34m\u001b[0m\u001b[0m\n\u001b[0;32m---> 37\u001b[0;31m                           zdim_f=zdim_f)\n\u001b[0m",
      "\u001b[0;32m/oasis/projects/nsf/csd395/yuncong/Brain/utilities/registration_utilities.py\u001b[0m in \u001b[0;36mtransform_volume\u001b[0;34m(vol, global_params, centroid_m, centroid_f, xdim_f, ydim_f, zdim_f)\u001b[0m\n\u001b[1;32m   2728\u001b[0m \u001b[0;32mdef\u001b[0m \u001b[0mtransform_volume\u001b[0m\u001b[0;34m(\u001b[0m\u001b[0mvol\u001b[0m\u001b[0;34m,\u001b[0m \u001b[0mglobal_params\u001b[0m\u001b[0;34m,\u001b[0m \u001b[0mcentroid_m\u001b[0m\u001b[0;34m,\u001b[0m \u001b[0mcentroid_f\u001b[0m\u001b[0;34m,\u001b[0m \u001b[0mxdim_f\u001b[0m\u001b[0;34m,\u001b[0m \u001b[0mydim_f\u001b[0m\u001b[0;34m,\u001b[0m \u001b[0mzdim_f\u001b[0m\u001b[0;34m)\u001b[0m\u001b[0;34m:\u001b[0m\u001b[0;34m\u001b[0m\u001b[0m\n\u001b[1;32m   2729\u001b[0m \u001b[0;34m\u001b[0m\u001b[0m\n\u001b[0;32m-> 2730\u001b[0;31m     \u001b[0mnzvoxels_m_temp\u001b[0m \u001b[0;34m=\u001b[0m \u001b[0mparallel_where_binary\u001b[0m\u001b[0;34m(\u001b[0m\u001b[0mvol\u001b[0m \u001b[0;34m>\u001b[0m \u001b[0;36m0\u001b[0m\u001b[0;34m)\u001b[0m\u001b[0;34m\u001b[0m\u001b[0m\n\u001b[0m\u001b[1;32m   2731\u001b[0m     \u001b[0;31m# \"_temp\" is appended to avoid name conflict with module level variable defined in registration.py\u001b[0m\u001b[0;34m\u001b[0m\u001b[0;34m\u001b[0m\u001b[0m\n\u001b[1;32m   2732\u001b[0m \u001b[0;34m\u001b[0m\u001b[0m\n",
      "\u001b[0;32m/oasis/projects/nsf/csd395/yuncong/Brain/utilities/registration_utilities.py\u001b[0m in \u001b[0;36mparallel_where_binary\u001b[0;34m(binary_volume, num_samples)\u001b[0m\n\u001b[1;32m     19\u001b[0m \u001b[0;32mdef\u001b[0m \u001b[0mparallel_where_binary\u001b[0m\u001b[0;34m(\u001b[0m\u001b[0mbinary_volume\u001b[0m\u001b[0;34m,\u001b[0m \u001b[0mnum_samples\u001b[0m\u001b[0;34m=\u001b[0m\u001b[0mNone\u001b[0m\u001b[0;34m)\u001b[0m\u001b[0;34m:\u001b[0m\u001b[0;34m\u001b[0m\u001b[0m\n\u001b[1;32m     20\u001b[0m \u001b[0;34m\u001b[0m\u001b[0m\n\u001b[0;32m---> 21\u001b[0;31m     \u001b[0mw\u001b[0m \u001b[0;34m=\u001b[0m \u001b[0mnp\u001b[0m\u001b[0;34m.\u001b[0m\u001b[0mwhere\u001b[0m\u001b[0;34m(\u001b[0m\u001b[0mbinary_volume\u001b[0m\u001b[0;34m)\u001b[0m\u001b[0;34m\u001b[0m\u001b[0m\n\u001b[0m\u001b[1;32m     22\u001b[0m \u001b[0;34m\u001b[0m\u001b[0m\n\u001b[1;32m     23\u001b[0m     \u001b[0;32mif\u001b[0m \u001b[0mnum_samples\u001b[0m \u001b[0;32mis\u001b[0m \u001b[0;32mnot\u001b[0m \u001b[0mNone\u001b[0m\u001b[0;34m:\u001b[0m\u001b[0;34m\u001b[0m\u001b[0m\n",
      "\u001b[0;31mKeyboardInterrupt\u001b[0m: "
     ]
    }
   ],
   "source": [
    "# Transforming each volume (only relevant structure is activated) according to computed local transforms\n",
    "\n",
    "volume_m_aligned_to_f_allNames = {'MD589': {}, 'MD594': {}}\n",
    "\n",
    "for name_s in structures_sided:\n",
    "# for name_s in ['VLL_L']:\n",
    "        \n",
    "    print name_s\n",
    "\n",
    "    try:\n",
    "        tx_params, centroid_m, centroid_f, xdim_m, ydim_m, zdim_m, xdim_f, ydim_f, zdim_f = \\\n",
    "        DataManager.load_local_alignment_parameters(stack_moving=stack_moving,\n",
    "                                                    moving_volume_type='score',\n",
    "                                                    stack_fixed=stack_fixed,\n",
    "                                                    fixed_volume_type='score',\n",
    "                                                    train_sample_scheme=train_sample_scheme,\n",
    "                                                    global_transform_scheme=global_transform_scheme,\n",
    "                                                    local_transform_scheme=local_transform_scheme,\n",
    "                                                   label=name_s)\n",
    "\n",
    "    except Exception as e:\n",
    "        \n",
    "        sys.stderr.write(e.message + '\\n')\n",
    "        \n",
    "        tx_params = (1,0,0,0,0,1,0,0,0,0,1,0)\n",
    "        centroid_m = (0,0,0)\n",
    "        centroid_f = (0,0,0)\n",
    "        xdim_f, ydim_f, zdim_f = (vol_fixed_xdim, vol_fixed_ydim, vol_fixed_zdim)\n",
    "\n",
    "\n",
    "    for stack, volume_annotation in volumes_annotation.iteritems():\n",
    "        volume_m_aligned_to_f_allNames[stack][name_s] = \\\n",
    "        transform_volume(vol=volume_annotation==name_to_label_annotation[name_s], \n",
    "                           global_params=tx_params, \n",
    "                           centroid_m=centroid_m, \n",
    "                           centroid_f=centroid_f,\n",
    "                          xdim_f=xdim_f,\n",
    "                          ydim_f=ydim_f,\n",
    "                          zdim_f=zdim_f)"
   ]
  },
  {
   "cell_type": "code",
   "execution_count": null,
   "metadata": {
    "collapsed": false
   },
   "outputs": [],
   "source": [
    "bar = show_progress_bar(first_sec, last_sec)\n",
    "\n",
    "# for sec in range(first_sec, last_sec+1):\n",
    "for sec in range(140, 160):\n",
    "    \n",
    "    if metadata_cache['sections_to_filenames'][stack_fixed][sec] in ['Placeholder', 'Rescan', 'Nonexisting']:\n",
    "            continue\n",
    "\n",
    "    bar.value = sec\n",
    "\n",
    "    img_fn = DataManager.get_image_filepath(stack=stack_fixed, section=sec, resol='thumbnail', version='cropped_tif')\n",
    "    img = imread(img_fn)\n",
    "\n",
    "#         img_fn = DataManager.get_scoremap_viz_filepath(stack=stack_fixed, section=sec, label='7N', train_sample_scheme=train_sample_scheme)\n",
    "#         img = imread(img_fn)[::4, ::4]\n",
    "\n",
    "    viz = img.copy()\n",
    "\n",
    "    z = voxel_z_size * (sec - 1) - zmin_vol_f\n",
    "    \n",
    "    ##############################################\n",
    "    \n",
    "    for stack, x in volume_m_aligned_to_f_allNames.iteritems():\n",
    "        for name_s, volume_m_aligned_to_f in x.iteritems():\n",
    "        \n",
    "            contours_m_alignedTo_f_on_volume = find_contour_points(volume_m_aligned_to_f[..., int(z)])\n",
    "            contours_m_alignedTo_f_on_cropped = {i: [cnt + (xmin_vol_f, ymin_vol_f) for cnt in cnts] \n",
    "                                                 for i, cnts in contours_m_alignedTo_f_on_volume.iteritems()}\n",
    "\n",
    "        #     # Draw fixed volume annotation contours\n",
    "        #     for ind_f, cnts_f in contours_f_on_cropped.iteritems():\n",
    "        #         for cnt_f in cnts_f:\n",
    "        #             cv2.polylines(viz, [cnt_f.astype(np.int)], True, (0,255,0), 2)\n",
    "\n",
    "            # Draw moving volume annotation contours\n",
    "            for ind_m, cnts_m in contours_m_alignedTo_f_on_cropped.iteritems():\n",
    "                for cnt_m in cnts_m:\n",
    "                    cv2.polylines(viz, [cnt_m.astype(np.int)], True, stack_colors[stack], 2)\n",
    "                    \n",
    "                    # put label texts\n",
    "                    label_pos = cnt_m.mean(axis=0).astype(np.int)\n",
    "                    cv2.putText(viz, convert_name_to_unsided(name_s), tuple(label_pos), \n",
    "                                cv2.FONT_HERSHEY_DUPLEX, .5, ((0,0,0)), 1)\n",
    "\n",
    "    viz_fn = os.path.join(viz_dir, '%(stack_moving)s_over_%(stack_fixed)s_%(sec)04d.jpg' % \\\n",
    "          {'stack_moving': stack_moving, 'stack_fixed': stack_fixed, 'sec': sec})\n",
    "#     imsave(viz_fn, viz)\n",
    "\n",
    "#     plt.figure(figsize=(10, 10));\n",
    "#     plt.imshow(viz);\n",
    "#     plt.show();"
   ]
  },
  {
   "cell_type": "code",
   "execution_count": null,
   "metadata": {
    "collapsed": true
   },
   "outputs": [],
   "source": []
  }
 ],
 "metadata": {
  "kernelspec": {
   "display_name": "Python 2",
   "language": "python",
   "name": "python2"
  },
  "language_info": {
   "codemirror_mode": {
    "name": "ipython",
    "version": 2
   },
   "file_extension": ".py",
   "mimetype": "text/x-python",
   "name": "python",
   "nbconvert_exporter": "python",
   "pygments_lexer": "ipython2",
   "version": "2.7.3"
  }
 },
 "nbformat": 4,
 "nbformat_minor": 1
}
