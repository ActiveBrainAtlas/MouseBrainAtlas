{
 "cells": [
  {
   "cell_type": "code",
   "execution_count": 1,
   "metadata": {
    "collapsed": true
   },
   "outputs": [],
   "source": [
    "%load_ext autoreload\n",
    "%autoreload 2"
   ]
  },
  {
   "cell_type": "code",
   "execution_count": 2,
   "metadata": {},
   "outputs": [
    {
     "name": "stderr",
     "output_type": "stream",
     "text": [
      "/usr/local/lib/python2.7/dist-packages/matplotlib/__init__.py:1401: UserWarning:  This call to matplotlib.use() has no effect\n",
      "because the backend has already been chosen;\n",
      "matplotlib.use() must be called *before* pylab, matplotlib.pyplot,\n",
      "or matplotlib.backends is imported for the first time.\n",
      "\n",
      "  warnings.warn(_use_error_msg)\n"
     ]
    },
    {
     "name": "stdout",
     "output_type": "stream",
     "text": [
      "Setting environment for AWS compute node\n"
     ]
    },
    {
     "name": "stderr",
     "output_type": "stream",
     "text": [
      "No vtk\n",
      "File does not exist: /shared/CSHL_data_processed/MD635/MD635_anchor.txt\n",
      "File does not exist: /shared/CSHL_data_processed/MD635/MD635_sorted_filenames.txt\n",
      "File does not exist: /shared/CSHL_data_processed/MD635/MD635_cropbox.txt\n",
      "File does not exist: /shared/CSHL_data_processed/MD635/MD635_cropbox.txt\n"
     ]
    }
   ],
   "source": [
    "import sys\n",
    "import os\n",
    "import time\n",
    "\n",
    "import matplotlib.pyplot as plt\n",
    "%matplotlib inline\n",
    "import numpy as np\n",
    "\n",
    "sys.path.append(os.path.join(os.environ['REPO_DIR'], 'utilities'))\n",
    "from utilities2015 import *\n",
    "from registration_utilities import *\n",
    "from annotation_utilities import *\n",
    "from metadata import *\n",
    "from data_manager import *"
   ]
  },
  {
   "cell_type": "code",
   "execution_count": 3,
   "metadata": {
    "collapsed": true
   },
   "outputs": [],
   "source": [
    "stack_fixed = 'MD657'\n",
    "stack_moving = 'atlasV3'"
   ]
  },
  {
   "cell_type": "code",
   "execution_count": 4,
   "metadata": {
    "collapsed": true
   },
   "outputs": [],
   "source": [
    "classifier_setting = 30\n",
    "warp_setting = 1"
   ]
  },
  {
   "cell_type": "code",
   "execution_count": 5,
   "metadata": {},
   "outputs": [
    {
     "data": {
      "text/html": [
       "<div>\n",
       "<table border=\"1\" class=\"dataframe\">\n",
       "  <thead>\n",
       "    <tr style=\"text-align: right;\">\n",
       "      <th></th>\n",
       "      <th>upstream_warp_id</th>\n",
       "      <th>transform_type</th>\n",
       "      <th>terminate_thresh</th>\n",
       "      <th>grad_computation_sample_number</th>\n",
       "      <th>grid_search_sample_number</th>\n",
       "      <th>std_tx</th>\n",
       "      <th>std_ty</th>\n",
       "      <th>std_tz</th>\n",
       "      <th>std_theta_xy</th>\n",
       "      <th>surround_weight</th>\n",
       "      <th>regularization_weight</th>\n",
       "    </tr>\n",
       "    <tr>\n",
       "      <th>warp_id</th>\n",
       "      <th></th>\n",
       "      <th></th>\n",
       "      <th></th>\n",
       "      <th></th>\n",
       "      <th></th>\n",
       "      <th></th>\n",
       "      <th></th>\n",
       "      <th></th>\n",
       "      <th></th>\n",
       "      <th></th>\n",
       "      <th></th>\n",
       "    </tr>\n",
       "  </thead>\n",
       "  <tbody>\n",
       "    <tr>\n",
       "      <th>1</th>\n",
       "      <td>None</td>\n",
       "      <td>affine</td>\n",
       "      <td>0.000010</td>\n",
       "      <td>100000.0</td>\n",
       "      <td>1000.0</td>\n",
       "      <td>100</td>\n",
       "      <td>100</td>\n",
       "      <td>100</td>\n",
       "      <td>30</td>\n",
       "      <td>0</td>\n",
       "      <td>NaN</td>\n",
       "    </tr>\n",
       "    <tr>\n",
       "      <th>2</th>\n",
       "      <td>1</td>\n",
       "      <td>rigid</td>\n",
       "      <td>0.000010</td>\n",
       "      <td>100000.0</td>\n",
       "      <td>10000.0</td>\n",
       "      <td>100</td>\n",
       "      <td>100</td>\n",
       "      <td>100</td>\n",
       "      <td>30</td>\n",
       "      <td>0</td>\n",
       "      <td>NaN</td>\n",
       "    </tr>\n",
       "    <tr>\n",
       "      <th>4</th>\n",
       "      <td>1</td>\n",
       "      <td>rigid</td>\n",
       "      <td>0.000001</td>\n",
       "      <td>100000.0</td>\n",
       "      <td>10000.0</td>\n",
       "      <td>100</td>\n",
       "      <td>100</td>\n",
       "      <td>100</td>\n",
       "      <td>10</td>\n",
       "      <td>0</td>\n",
       "      <td>0.000001</td>\n",
       "    </tr>\n",
       "    <tr>\n",
       "      <th>5</th>\n",
       "      <td>1</td>\n",
       "      <td>rigid</td>\n",
       "      <td>0.000001</td>\n",
       "      <td>100000.0</td>\n",
       "      <td>10000.0</td>\n",
       "      <td>100</td>\n",
       "      <td>100</td>\n",
       "      <td>100</td>\n",
       "      <td>30</td>\n",
       "      <td>inverse</td>\n",
       "      <td>0.000000</td>\n",
       "    </tr>\n",
       "    <tr>\n",
       "      <th>6</th>\n",
       "      <td>1</td>\n",
       "      <td>affine</td>\n",
       "      <td>0.000010</td>\n",
       "      <td>100000.0</td>\n",
       "      <td>10000.0</td>\n",
       "      <td>100</td>\n",
       "      <td>100</td>\n",
       "      <td>100</td>\n",
       "      <td>30</td>\n",
       "      <td>-0.5</td>\n",
       "      <td>0.000000</td>\n",
       "    </tr>\n",
       "    <tr>\n",
       "      <th>7</th>\n",
       "      <td>None</td>\n",
       "      <td>rigid</td>\n",
       "      <td>0.000001</td>\n",
       "      <td>100000.0</td>\n",
       "      <td>1000.0</td>\n",
       "      <td>50</td>\n",
       "      <td>50</td>\n",
       "      <td>50</td>\n",
       "      <td>10</td>\n",
       "      <td>0</td>\n",
       "      <td>NaN</td>\n",
       "    </tr>\n",
       "    <tr>\n",
       "      <th>10</th>\n",
       "      <td>None</td>\n",
       "      <td>rigid</td>\n",
       "      <td>0.000010</td>\n",
       "      <td>100000.0</td>\n",
       "      <td>1000.0</td>\n",
       "      <td>100</td>\n",
       "      <td>100</td>\n",
       "      <td>100</td>\n",
       "      <td>30</td>\n",
       "      <td>0</td>\n",
       "      <td>NaN</td>\n",
       "    </tr>\n",
       "    <tr>\n",
       "      <th>11</th>\n",
       "      <td>1</td>\n",
       "      <td>affine</td>\n",
       "      <td>0.000010</td>\n",
       "      <td>100000.0</td>\n",
       "      <td>10000.0</td>\n",
       "      <td>100</td>\n",
       "      <td>100</td>\n",
       "      <td>100</td>\n",
       "      <td>30</td>\n",
       "      <td>-0.1</td>\n",
       "      <td>0.000000</td>\n",
       "    </tr>\n",
       "  </tbody>\n",
       "</table>\n",
       "</div>"
      ],
      "text/plain": [
       "        upstream_warp_id transform_type  terminate_thresh  \\\n",
       "warp_id                                                     \n",
       "1                   None         affine          0.000010   \n",
       "2                      1          rigid          0.000010   \n",
       "4                      1          rigid          0.000001   \n",
       "5                      1          rigid          0.000001   \n",
       "6                      1         affine          0.000010   \n",
       "7                   None          rigid          0.000001   \n",
       "10                  None          rigid          0.000010   \n",
       "11                     1         affine          0.000010   \n",
       "\n",
       "         grad_computation_sample_number  grid_search_sample_number  std_tx  \\\n",
       "warp_id                                                                      \n",
       "1                              100000.0                     1000.0     100   \n",
       "2                              100000.0                    10000.0     100   \n",
       "4                              100000.0                    10000.0     100   \n",
       "5                              100000.0                    10000.0     100   \n",
       "6                              100000.0                    10000.0     100   \n",
       "7                              100000.0                     1000.0      50   \n",
       "10                             100000.0                     1000.0     100   \n",
       "11                             100000.0                    10000.0     100   \n",
       "\n",
       "         std_ty  std_tz  std_theta_xy surround_weight  regularization_weight  \n",
       "warp_id                                                                       \n",
       "1           100     100            30               0                    NaN  \n",
       "2           100     100            30               0                    NaN  \n",
       "4           100     100            10               0               0.000001  \n",
       "5           100     100            30         inverse               0.000000  \n",
       "6           100     100            30            -0.5               0.000000  \n",
       "7            50      50            10               0                    NaN  \n",
       "10          100     100            30               0                    NaN  \n",
       "11          100     100            30            -0.1               0.000000  "
      ]
     },
     "execution_count": 5,
     "metadata": {},
     "output_type": "execute_result"
    }
   ],
   "source": [
    "registration_settings"
   ]
  },
  {
   "cell_type": "code",
   "execution_count": 6,
   "metadata": {},
   "outputs": [
    {
     "name": "stdout",
     "output_type": "stream",
     "text": [
      "upstream_warp_id                    None\n",
      "transform_type                    affine\n",
      "terminate_thresh                   1e-05\n",
      "grad_computation_sample_number    100000\n",
      "grid_search_sample_number           1000\n",
      "std_tx                               100\n",
      "std_ty                               100\n",
      "std_tz                               100\n",
      "std_theta_xy                          30\n",
      "surround_weight                        0\n",
      "regularization_weight                NaN\n",
      "Name: 1, dtype: object\n"
     ]
    }
   ],
   "source": [
    "warp_properties = registration_settings.loc[warp_setting]\n",
    "print warp_properties\n",
    "\n",
    "upstream_warp_setting = warp_properties['upstream_warp_id']\n",
    "if upstream_warp_setting == 'None':\n",
    "    upstream_warp_setting = None\n",
    "transform_type = warp_properties['transform_type']\n",
    "terminate_thresh = warp_properties['terminate_thresh']\n",
    "grad_computation_sample_number = warp_properties['grad_computation_sample_number']\n",
    "grid_search_sample_number = warp_properties['grid_search_sample_number']\n",
    "std_tx = warp_properties['std_tx']\n",
    "std_ty = warp_properties['std_ty']\n",
    "std_tz = warp_properties['std_tz']\n",
    "std_theta_xy = np.deg2rad(warp_properties['std_theta_xy'])"
   ]
  },
  {
   "cell_type": "code",
   "execution_count": 7,
   "metadata": {
    "scrolled": true
   },
   "outputs": [
    {
     "name": "stderr",
     "output_type": "stream",
     "text": [
      "File does not exist: /shared/CSHL_volumes/atlasV3/atlasV3_down32_annotationVolume/atlasV3_down32_annotationVolume_nameToLabel.txt\n",
      "Prior structure/index map not found. Generating a new one.\n"
     ]
    },
    {
     "name": "stdout",
     "output_type": "stream",
     "text": [
      "rm -rf /shared/CSHL_volumes/atlasV3/atlasV3_down32_scoreVolume/score_volumes/atlasV3_down32_scoreVolume_outerContour.bp && mkdir -p /shared/CSHL_volumes/atlasV3/atlasV3_down32_scoreVolume/score_volumes\n",
      "aws s3 cp s3://mousebrainatlas-data/CSHL_volumes/atlasV3/atlasV3_down32_scoreVolume/score_volumes/atlasV3_down32_scoreVolume_outerContour.bp /shared/CSHL_volumes/atlasV3/atlasV3_down32_scoreVolume/score_volumes/atlasV3_down32_scoreVolume_outerContour.bp\n"
     ]
    },
    {
     "name": "stderr",
     "output_type": "stream",
     "text": [
      "Child returned 0\n",
      "Child returned 1\n",
      "0.66 seconds.\n",
      "File does not exist: /shared/CSHL_volumes/atlasV3/atlasV3_down32_scoreVolume/score_volumes/atlasV3_down32_scoreVolume_outerContour.bp\n",
      "Score volume for outerContour does not exist.\n",
      "Child returned 0\n"
     ]
    },
    {
     "name": "stdout",
     "output_type": "stream",
     "text": [
      "rm -rf /shared/CSHL_volumes/atlasV3/atlasV3_down32_scoreVolume/score_volumes/atlasV3_down32_scoreVolume_sp5.bp && mkdir -p /shared/CSHL_volumes/atlasV3/atlasV3_down32_scoreVolume/score_volumes\n",
      "aws s3 cp s3://mousebrainatlas-data/CSHL_volumes/atlasV3/atlasV3_down32_scoreVolume/score_volumes/atlasV3_down32_scoreVolume_sp5.bp /shared/CSHL_volumes/atlasV3/atlasV3_down32_scoreVolume/score_volumes/atlasV3_down32_scoreVolume_sp5.bp\n",
      "(373, 430, 369)\n"
     ]
    },
    {
     "name": "stderr",
     "output_type": "stream",
     "text": [
      "Child returned 1\n",
      "0.66 seconds.\n",
      "File does not exist: /shared/CSHL_volumes/atlasV3/atlasV3_down32_scoreVolume/score_volumes/atlasV3_down32_scoreVolume_sp5.bp\n",
      "Score volume for sp5 does not exist.\n",
      "Volume shape: (373, 430, 369)\n"
     ]
    }
   ],
   "source": [
    "volume_moving, structure_to_label_moving, label_to_structure_moving = \\\n",
    "DataManager.load_original_volume_all_known_structures(stack=stack_moving, sided=True, volume_type='score')\n",
    "\n",
    "print volume_moving[1].shape"
   ]
  },
  {
   "cell_type": "code",
   "execution_count": 8,
   "metadata": {
    "scrolled": true
   },
   "outputs": [
    {
     "name": "stderr",
     "output_type": "stream",
     "text": [
      "File does not exist: /shared/CSHL_volumes/MD657/MD657_down32_annotationVolume/MD657_down32_annotationVolume_nameToLabel.txt\n",
      "Prior structure/index map not found. Generating a new one.\n"
     ]
    },
    {
     "name": "stdout",
     "output_type": "stream",
     "text": [
      "rm -rf /shared/CSHL_volumes/MD657/MD657_down32_scoreVolume_clf_30/score_volumes/MD657_down32_scoreVolume_clf_30_outerContour.bp && mkdir -p /shared/CSHL_volumes/MD657/MD657_down32_scoreVolume_clf_30/score_volumes\n"
     ]
    },
    {
     "name": "stderr",
     "output_type": "stream",
     "text": [
      "Child returned 0\n"
     ]
    },
    {
     "name": "stdout",
     "output_type": "stream",
     "text": [
      "aws s3 cp s3://mousebrainatlas-data/CSHL_volumes/MD657/MD657_down32_scoreVolume_clf_30/score_volumes/MD657_down32_scoreVolume_clf_30_outerContour.bp /shared/CSHL_volumes/MD657/MD657_down32_scoreVolume_clf_30/score_volumes/MD657_down32_scoreVolume_clf_30_outerContour.bp\n"
     ]
    },
    {
     "name": "stderr",
     "output_type": "stream",
     "text": [
      "Child returned 1\n",
      "1.15 seconds.\n",
      "File does not exist: /shared/CSHL_volumes/MD657/MD657_down32_scoreVolume_clf_30/score_volumes/MD657_down32_scoreVolume_clf_30_outerContour.bp\n",
      "Score volume for outerContour does not exist.\n"
     ]
    },
    {
     "name": "stdout",
     "output_type": "stream",
     "text": [
      "rm -rf /shared/CSHL_volumes/MD657/MD657_down32_scoreVolume_clf_30/score_volumes/MD657_down32_scoreVolume_clf_30_sp5.bp && mkdir -p /shared/CSHL_volumes/MD657/MD657_down32_scoreVolume_clf_30/score_volumes\n"
     ]
    },
    {
     "name": "stderr",
     "output_type": "stream",
     "text": [
      "Child returned 0\n"
     ]
    },
    {
     "name": "stdout",
     "output_type": "stream",
     "text": [
      "aws s3 cp s3://mousebrainatlas-data/CSHL_volumes/MD657/MD657_down32_scoreVolume_clf_30/score_volumes/MD657_down32_scoreVolume_clf_30_sp5.bp /shared/CSHL_volumes/MD657/MD657_down32_scoreVolume_clf_30/score_volumes/MD657_down32_scoreVolume_clf_30_sp5.bp\n",
      "(530, 862, 367)\n"
     ]
    },
    {
     "name": "stderr",
     "output_type": "stream",
     "text": [
      "Child returned 1\n",
      "1.17 seconds.\n",
      "File does not exist: /shared/CSHL_volumes/MD657/MD657_down32_scoreVolume_clf_30/score_volumes/MD657_down32_scoreVolume_clf_30_sp5.bp\n",
      "Score volume for sp5 does not exist.\n",
      "Volume shape: (530, 862, 367)\n"
     ]
    }
   ],
   "source": [
    "volume_fixed, structure_to_label_fixed, label_to_structure_fixed = \\\n",
    "DataManager.load_original_volume_all_known_structures(stack=stack_fixed, classifier_setting=classifier_setting, \n",
    "                                                   sided=False, volume_type='score')\n",
    "\n",
    "print volume_fixed[1].shape"
   ]
  },
  {
   "cell_type": "code",
   "execution_count": 9,
   "metadata": {
    "collapsed": true
   },
   "outputs": [],
   "source": [
    "label_mapping_m2f = {label_m: structure_to_label_fixed[convert_to_original_name(name_m)] \n",
    "                     for label_m, name_m in label_to_structure_moving.iteritems()\n",
    "                     if name_m in ['7N_L', '7N_R', '12N', '5N_L', 'Pn_R', 'SNR_L', \n",
    "                                   'VLL_R', '7n_L', 'Tz_R', 'VCA_L', 'VCP_R']}\n",
    "\n",
    "# label_mapping_m2f = {label_m: structure_to_label_fixed[convert_to_original_name(name_m)] \n",
    "#                      for label_m, name_m in label_to_structure_moving.iteritems()}"
   ]
  },
  {
   "cell_type": "code",
   "execution_count": 58,
   "metadata": {
    "collapsed": true
   },
   "outputs": [],
   "source": [
    "# volume_moving_structure_sizes = {l: np.count_nonzero(vol > 0) for l, vol in volume_moving.iteritems()}"
   ]
  },
  {
   "cell_type": "code",
   "execution_count": 59,
   "metadata": {
    "collapsed": true
   },
   "outputs": [],
   "source": [
    "# structures_sorted_by_size = [x[1] for x in sorted((s, label_to_structure_moving[l]) for l, s in volume_moving_structure_sizes.iteritems())]\n",
    "# print structures_sorted_by_size"
   ]
  },
  {
   "cell_type": "code",
   "execution_count": 10,
   "metadata": {
    "collapsed": true
   },
   "outputs": [],
   "source": [
    "label_weights_m = {}\n",
    "for label_m, name_m in label_to_structure_moving.iteritems():\n",
    "    if 'surround' in name_m:\n",
    "        label_weights_m[label_m] = 0\n",
    "    else:\n",
    "        label_weights_m[label_m] = 1\n",
    "#         label_weights_m[label_m] = np.minimum(1e5 / volume_moving_structure_sizes[label_m], 1.)"
   ]
  },
  {
   "cell_type": "markdown",
   "metadata": {},
   "source": [
    "# Compute Registration"
   ]
  },
  {
   "cell_type": "code",
   "execution_count": 11,
   "metadata": {},
   "outputs": [
    {
     "name": "stderr",
     "output_type": "stream",
     "text": [
      "Label weights not set, default to 1 for all structures.\n",
      "Regularization weights not set, default to 0.\n"
     ]
    }
   ],
   "source": [
    "aligner = Aligner4(volume_fixed, volume_moving, labelIndexMap_m2f=label_mapping_m2f)"
   ]
  },
  {
   "cell_type": "code",
   "execution_count": 12,
   "metadata": {},
   "outputs": [
    {
     "name": "stdout",
     "output_type": "stream",
     "text": [
      "m: [ 215.   186.5  184.5] f: [ 215.   186.5  184.5]\n"
     ]
    }
   ],
   "source": [
    "# aligner.set_centroid(centroid_m='origin', centroid_f='origin')\n",
    "aligner.set_centroid(centroid_m='volume_centroid', centroid_f='centroid_m')\n",
    "# aligner.set_centroid(centroid_m='structure_centroid', centroid_f='centroid_m', indices_m=[structure_to_label_moving['7N_L']])"
   ]
  },
  {
   "cell_type": "code",
   "execution_count": 13,
   "metadata": {
    "collapsed": true
   },
   "outputs": [],
   "source": [
    "gradient_filepath_map_f = \\\n",
    "{ind_f: DataManager.get_volume_gradient_filepath_template(\\\n",
    "                                                          stack=stack_fixed, structure=label_to_structure_fixed[ind_f],\n",
    "                                                          classifier_setting=classifier_setting)\n",
    " for ind_m, ind_f in label_mapping_m2f.iteritems()}"
   ]
  },
  {
   "cell_type": "code",
   "execution_count": 14,
   "metadata": {
    "scrolled": true
   },
   "outputs": [
    {
     "name": "stdout",
     "output_type": "stream",
     "text": [
      "set([2, 5, 7, 8, 16, 21, 25, 26, 27, 28])\n",
      "rm -rf /shared/CSHL_volumes/MD657/MD657_down32_scoreVolume_clf_30/score_volume_gradients/MD657_down32_scoreVolume_clf_30_12N_gx.bp && mkdir -p /shared/CSHL_volumes/MD657/MD657_down32_scoreVolume_clf_30/score_volume_gradients\n"
     ]
    },
    {
     "name": "stderr",
     "output_type": "stream",
     "text": [
      "Child returned 0\n"
     ]
    },
    {
     "name": "stdout",
     "output_type": "stream",
     "text": [
      "aws s3 cp s3://mousebrainatlas-data/CSHL_volumes/MD657/MD657_down32_scoreVolume_clf_30/score_volume_gradients/MD657_down32_scoreVolume_clf_30_12N_gx.bp /shared/CSHL_volumes/MD657/MD657_down32_scoreVolume_clf_30/score_volume_gradients/MD657_down32_scoreVolume_clf_30_12N_gx.bp\n"
     ]
    },
    {
     "name": "stderr",
     "output_type": "stream",
     "text": [
      "Child returned 0\n",
      "3.08 seconds.\n"
     ]
    },
    {
     "name": "stdout",
     "output_type": "stream",
     "text": [
      "rm -rf /shared/CSHL_volumes/MD657/MD657_down32_scoreVolume_clf_30/score_volume_gradients/MD657_down32_scoreVolume_clf_30_12N_gy.bp && mkdir -p /shared/CSHL_volumes/MD657/MD657_down32_scoreVolume_clf_30/score_volume_gradients\n"
     ]
    },
    {
     "name": "stderr",
     "output_type": "stream",
     "text": [
      "Child returned 0\n"
     ]
    },
    {
     "name": "stdout",
     "output_type": "stream",
     "text": [
      "aws s3 cp s3://mousebrainatlas-data/CSHL_volumes/MD657/MD657_down32_scoreVolume_clf_30/score_volume_gradients/MD657_down32_scoreVolume_clf_30_12N_gy.bp /shared/CSHL_volumes/MD657/MD657_down32_scoreVolume_clf_30/score_volume_gradients/MD657_down32_scoreVolume_clf_30_12N_gy.bp\n"
     ]
    },
    {
     "name": "stderr",
     "output_type": "stream",
     "text": [
      "Child returned 0\n",
      "2.65 seconds.\n"
     ]
    },
    {
     "name": "stdout",
     "output_type": "stream",
     "text": [
      "rm -rf /shared/CSHL_volumes/MD657/MD657_down32_scoreVolume_clf_30/score_volume_gradients/MD657_down32_scoreVolume_clf_30_12N_gz.bp && mkdir -p /shared/CSHL_volumes/MD657/MD657_down32_scoreVolume_clf_30/score_volume_gradients\n"
     ]
    },
    {
     "name": "stderr",
     "output_type": "stream",
     "text": [
      "Child returned 0\n"
     ]
    },
    {
     "name": "stdout",
     "output_type": "stream",
     "text": [
      "aws s3 cp s3://mousebrainatlas-data/CSHL_volumes/MD657/MD657_down32_scoreVolume_clf_30/score_volume_gradients/MD657_down32_scoreVolume_clf_30_12N_gz.bp /shared/CSHL_volumes/MD657/MD657_down32_scoreVolume_clf_30/score_volume_gradients/MD657_down32_scoreVolume_clf_30_12N_gz.bp\n"
     ]
    },
    {
     "name": "stderr",
     "output_type": "stream",
     "text": [
      "Child returned 0\n",
      "2.71 seconds.\n",
      "load gradient 2: 26.652249 seconds\n"
     ]
    },
    {
     "name": "stdout",
     "output_type": "stream",
     "text": [
      "rm -rf /shared/CSHL_volumes/MD657/MD657_down32_scoreVolume_clf_30/score_volume_gradients/MD657_down32_scoreVolume_clf_30_5N_gx.bp && mkdir -p /shared/CSHL_volumes/MD657/MD657_down32_scoreVolume_clf_30/score_volume_gradients\n"
     ]
    },
    {
     "name": "stderr",
     "output_type": "stream",
     "text": [
      "Child returned 0\n"
     ]
    },
    {
     "name": "stdout",
     "output_type": "stream",
     "text": [
      "aws s3 cp s3://mousebrainatlas-data/CSHL_volumes/MD657/MD657_down32_scoreVolume_clf_30/score_volume_gradients/MD657_down32_scoreVolume_clf_30_5N_gx.bp /shared/CSHL_volumes/MD657/MD657_down32_scoreVolume_clf_30/score_volume_gradients/MD657_down32_scoreVolume_clf_30_5N_gx.bp\n"
     ]
    },
    {
     "name": "stderr",
     "output_type": "stream",
     "text": [
      "Child returned 0"
     ]
    },
    {
     "name": "stdout",
     "output_type": "stream",
     "text": [
      "rm -rf /shared/CSHL_volumes/MD657/MD657_down32_scoreVolume_clf_30/score_volume_gradients/MD657_down32_scoreVolume_clf_30_5N_gy.bp && mkdir -p /shared/CSHL_volumes/MD657/MD657_down32_scoreVolume_clf_30/score_volume_gradients\n"
     ]
    },
    {
     "name": "stderr",
     "output_type": "stream",
     "text": [
      "\n",
      "2.82 seconds.\n",
      "Child returned 0\n"
     ]
    },
    {
     "name": "stdout",
     "output_type": "stream",
     "text": [
      "aws s3 cp s3://mousebrainatlas-data/CSHL_volumes/MD657/MD657_down32_scoreVolume_clf_30/score_volume_gradients/MD657_down32_scoreVolume_clf_30_5N_gy.bp /shared/CSHL_volumes/MD657/MD657_down32_scoreVolume_clf_30/score_volume_gradients/MD657_down32_scoreVolume_clf_30_5N_gy.bp\n"
     ]
    },
    {
     "name": "stderr",
     "output_type": "stream",
     "text": [
      "Child returned 0\n",
      "2.87 seconds.\n"
     ]
    },
    {
     "name": "stdout",
     "output_type": "stream",
     "text": [
      "rm -rf /shared/CSHL_volumes/MD657/MD657_down32_scoreVolume_clf_30/score_volume_gradients/MD657_down32_scoreVolume_clf_30_5N_gz.bp && mkdir -p /shared/CSHL_volumes/MD657/MD657_down32_scoreVolume_clf_30/score_volume_gradients\n"
     ]
    },
    {
     "name": "stderr",
     "output_type": "stream",
     "text": [
      "Child returned 0"
     ]
    },
    {
     "name": "stdout",
     "output_type": "stream",
     "text": [
      "aws s3 cp s3://mousebrainatlas-data/CSHL_volumes/MD657/MD657_down32_scoreVolume_clf_30/score_volume_gradients/MD657_down32_scoreVolume_clf_30_5N_gz.bp /shared/CSHL_volumes/MD657/MD657_down32_scoreVolume_clf_30/score_volume_gradients/MD657_down32_scoreVolume_clf_30_5N_gz.bp\n"
     ]
    },
    {
     "name": "stderr",
     "output_type": "stream",
     "text": [
      "\n",
      "Child returned 0\n",
      "2.82 seconds.\n",
      "load gradient 5: 23.348137 seconds\n"
     ]
    },
    {
     "name": "stdout",
     "output_type": "stream",
     "text": [
      "rm -rf /shared/CSHL_volumes/MD657/MD657_down32_scoreVolume_clf_30/score_volume_gradients/MD657_down32_scoreVolume_clf_30_7N_gx.bp && mkdir -p /shared/CSHL_volumes/MD657/MD657_down32_scoreVolume_clf_30/score_volume_gradients\n"
     ]
    },
    {
     "name": "stderr",
     "output_type": "stream",
     "text": [
      "Child returned 0\n"
     ]
    },
    {
     "name": "stdout",
     "output_type": "stream",
     "text": [
      "aws s3 cp s3://mousebrainatlas-data/CSHL_volumes/MD657/MD657_down32_scoreVolume_clf_30/score_volume_gradients/MD657_down32_scoreVolume_clf_30_7N_gx.bp /shared/CSHL_volumes/MD657/MD657_down32_scoreVolume_clf_30/score_volume_gradients/MD657_down32_scoreVolume_clf_30_7N_gx.bp\n"
     ]
    },
    {
     "name": "stderr",
     "output_type": "stream",
     "text": [
      "Child returned 0"
     ]
    },
    {
     "name": "stdout",
     "output_type": "stream",
     "text": [
      "rm -rf /shared/CSHL_volumes/MD657/MD657_down32_scoreVolume_clf_30/score_volume_gradients/MD657_down32_scoreVolume_clf_30_7N_gy.bp && mkdir -p /shared/CSHL_volumes/MD657/MD657_down32_scoreVolume_clf_30/score_volume_gradients\n"
     ]
    },
    {
     "name": "stderr",
     "output_type": "stream",
     "text": [
      "\n",
      "2.72 seconds.\n",
      "Child returned 0"
     ]
    },
    {
     "name": "stdout",
     "output_type": "stream",
     "text": [
      "aws s3 cp s3://mousebrainatlas-data/CSHL_volumes/MD657/MD657_down32_scoreVolume_clf_30/score_volume_gradients/MD657_down32_scoreVolume_clf_30_7N_gy.bp /shared/CSHL_volumes/MD657/MD657_down32_scoreVolume_clf_30/score_volume_gradients/MD657_down32_scoreVolume_clf_30_7N_gy.bp\n"
     ]
    },
    {
     "name": "stderr",
     "output_type": "stream",
     "text": [
      "\n",
      "Child returned 0\n",
      "2.78 seconds.\n"
     ]
    },
    {
     "name": "stdout",
     "output_type": "stream",
     "text": [
      "rm -rf /shared/CSHL_volumes/MD657/MD657_down32_scoreVolume_clf_30/score_volume_gradients/MD657_down32_scoreVolume_clf_30_7N_gz.bp && mkdir -p /shared/CSHL_volumes/MD657/MD657_down32_scoreVolume_clf_30/score_volume_gradients\n"
     ]
    },
    {
     "name": "stderr",
     "output_type": "stream",
     "text": [
      "Child returned 0\n"
     ]
    },
    {
     "name": "stdout",
     "output_type": "stream",
     "text": [
      "aws s3 cp s3://mousebrainatlas-data/CSHL_volumes/MD657/MD657_down32_scoreVolume_clf_30/score_volume_gradients/MD657_down32_scoreVolume_clf_30_7N_gz.bp /shared/CSHL_volumes/MD657/MD657_down32_scoreVolume_clf_30/score_volume_gradients/MD657_down32_scoreVolume_clf_30_7N_gz.bp\n"
     ]
    },
    {
     "name": "stderr",
     "output_type": "stream",
     "text": [
      "Child returned 0\n",
      "2.87 seconds.\n",
      "load gradient 7: 23.455189 seconds\n"
     ]
    },
    {
     "name": "stdout",
     "output_type": "stream",
     "text": [
      "rm -rf /shared/CSHL_volumes/MD657/MD657_down32_scoreVolume_clf_30/score_volume_gradients/MD657_down32_scoreVolume_clf_30_7n_gx.bp && mkdir -p /shared/CSHL_volumes/MD657/MD657_down32_scoreVolume_clf_30/score_volume_gradients\n"
     ]
    },
    {
     "name": "stderr",
     "output_type": "stream",
     "text": [
      "Child returned 0\n"
     ]
    },
    {
     "name": "stdout",
     "output_type": "stream",
     "text": [
      "aws s3 cp s3://mousebrainatlas-data/CSHL_volumes/MD657/MD657_down32_scoreVolume_clf_30/score_volume_gradients/MD657_down32_scoreVolume_clf_30_7n_gx.bp /shared/CSHL_volumes/MD657/MD657_down32_scoreVolume_clf_30/score_volume_gradients/MD657_down32_scoreVolume_clf_30_7n_gx.bp\n"
     ]
    },
    {
     "name": "stderr",
     "output_type": "stream",
     "text": [
      "Child returned 0\n",
      "2.74 seconds.\n"
     ]
    },
    {
     "name": "stdout",
     "output_type": "stream",
     "text": [
      "rm -rf /shared/CSHL_volumes/MD657/MD657_down32_scoreVolume_clf_30/score_volume_gradients/MD657_down32_scoreVolume_clf_30_7n_gy.bp && mkdir -p /shared/CSHL_volumes/MD657/MD657_down32_scoreVolume_clf_30/score_volume_gradients\n"
     ]
    },
    {
     "name": "stderr",
     "output_type": "stream",
     "text": [
      "Child returned 0\n"
     ]
    },
    {
     "name": "stdout",
     "output_type": "stream",
     "text": [
      "aws s3 cp s3://mousebrainatlas-data/CSHL_volumes/MD657/MD657_down32_scoreVolume_clf_30/score_volume_gradients/MD657_down32_scoreVolume_clf_30_7n_gy.bp /shared/CSHL_volumes/MD657/MD657_down32_scoreVolume_clf_30/score_volume_gradients/MD657_down32_scoreVolume_clf_30_7n_gy.bp\n"
     ]
    },
    {
     "name": "stderr",
     "output_type": "stream",
     "text": [
      "Child returned 0\n",
      "3.24 seconds.\n"
     ]
    },
    {
     "name": "stdout",
     "output_type": "stream",
     "text": [
      "rm -rf /shared/CSHL_volumes/MD657/MD657_down32_scoreVolume_clf_30/score_volume_gradients/MD657_down32_scoreVolume_clf_30_7n_gz.bp && mkdir -p /shared/CSHL_volumes/MD657/MD657_down32_scoreVolume_clf_30/score_volume_gradients\n"
     ]
    },
    {
     "name": "stderr",
     "output_type": "stream",
     "text": [
      "Child returned 0\n"
     ]
    },
    {
     "name": "stdout",
     "output_type": "stream",
     "text": [
      "aws s3 cp s3://mousebrainatlas-data/CSHL_volumes/MD657/MD657_down32_scoreVolume_clf_30/score_volume_gradients/MD657_down32_scoreVolume_clf_30_7n_gz.bp /shared/CSHL_volumes/MD657/MD657_down32_scoreVolume_clf_30/score_volume_gradients/MD657_down32_scoreVolume_clf_30_7n_gz.bp\n"
     ]
    },
    {
     "name": "stderr",
     "output_type": "stream",
     "text": [
      "Child returned 0\n",
      "2.85 seconds.\n",
      "load gradient 8: 22.054937 seconds\n"
     ]
    },
    {
     "name": "stdout",
     "output_type": "stream",
     "text": [
      "rm -rf /shared/CSHL_volumes/MD657/MD657_down32_scoreVolume_clf_30/score_volume_gradients/MD657_down32_scoreVolume_clf_30_Pn_gx.bp && mkdir -p /shared/CSHL_volumes/MD657/MD657_down32_scoreVolume_clf_30/score_volume_gradients\n"
     ]
    },
    {
     "name": "stderr",
     "output_type": "stream",
     "text": [
      "Child returned 0\n"
     ]
    },
    {
     "name": "stdout",
     "output_type": "stream",
     "text": [
      "aws s3 cp s3://mousebrainatlas-data/CSHL_volumes/MD657/MD657_down32_scoreVolume_clf_30/score_volume_gradients/MD657_down32_scoreVolume_clf_30_Pn_gx.bp /shared/CSHL_volumes/MD657/MD657_down32_scoreVolume_clf_30/score_volume_gradients/MD657_down32_scoreVolume_clf_30_Pn_gx.bp\n"
     ]
    },
    {
     "name": "stderr",
     "output_type": "stream",
     "text": [
      "Child returned 0\n",
      "2.91 seconds.\n"
     ]
    },
    {
     "name": "stdout",
     "output_type": "stream",
     "text": [
      "rm -rf /shared/CSHL_volumes/MD657/MD657_down32_scoreVolume_clf_30/score_volume_gradients/MD657_down32_scoreVolume_clf_30_Pn_gy.bp && mkdir -p /shared/CSHL_volumes/MD657/MD657_down32_scoreVolume_clf_30/score_volume_gradients\n"
     ]
    },
    {
     "name": "stderr",
     "output_type": "stream",
     "text": [
      "Child returned 0\n"
     ]
    },
    {
     "name": "stdout",
     "output_type": "stream",
     "text": [
      "aws s3 cp s3://mousebrainatlas-data/CSHL_volumes/MD657/MD657_down32_scoreVolume_clf_30/score_volume_gradients/MD657_down32_scoreVolume_clf_30_Pn_gy.bp /shared/CSHL_volumes/MD657/MD657_down32_scoreVolume_clf_30/score_volume_gradients/MD657_down32_scoreVolume_clf_30_Pn_gy.bp\n"
     ]
    },
    {
     "name": "stderr",
     "output_type": "stream",
     "text": [
      "Child returned 0\n",
      "2.87 seconds.\n"
     ]
    },
    {
     "name": "stdout",
     "output_type": "stream",
     "text": [
      "rm -rf /shared/CSHL_volumes/MD657/MD657_down32_scoreVolume_clf_30/score_volume_gradients/MD657_down32_scoreVolume_clf_30_Pn_gz.bp && mkdir -p /shared/CSHL_volumes/MD657/MD657_down32_scoreVolume_clf_30/score_volume_gradients\n"
     ]
    },
    {
     "name": "stderr",
     "output_type": "stream",
     "text": [
      "Child returned 0\n"
     ]
    },
    {
     "name": "stdout",
     "output_type": "stream",
     "text": [
      "aws s3 cp s3://mousebrainatlas-data/CSHL_volumes/MD657/MD657_down32_scoreVolume_clf_30/score_volume_gradients/MD657_down32_scoreVolume_clf_30_Pn_gz.bp /shared/CSHL_volumes/MD657/MD657_down32_scoreVolume_clf_30/score_volume_gradients/MD657_down32_scoreVolume_clf_30_Pn_gz.bp\n"
     ]
    },
    {
     "name": "stderr",
     "output_type": "stream",
     "text": [
      "Child returned 0\n",
      "2.89 seconds.\n",
      "load gradient 16: 22.108996 seconds\n"
     ]
    },
    {
     "name": "stdout",
     "output_type": "stream",
     "text": [
      "rm -rf /shared/CSHL_volumes/MD657/MD657_down32_scoreVolume_clf_30/score_volume_gradients/MD657_down32_scoreVolume_clf_30_SNR_gx.bp && mkdir -p /shared/CSHL_volumes/MD657/MD657_down32_scoreVolume_clf_30/score_volume_gradients\n"
     ]
    },
    {
     "name": "stderr",
     "output_type": "stream",
     "text": [
      "Child returned "
     ]
    },
    {
     "name": "stdout",
     "output_type": "stream",
     "text": [
      "aws s3 cp s3://mousebrainatlas-data/CSHL_volumes/MD657/MD657_down32_scoreVolume_clf_30/score_volume_gradients/MD657_down32_scoreVolume_clf_30_SNR_gx.bp /shared/CSHL_volumes/MD657/MD657_down32_scoreVolume_clf_30/score_volume_gradients/MD657_down32_scoreVolume_clf_30_SNR_gx.bp\n"
     ]
    },
    {
     "name": "stderr",
     "output_type": "stream",
     "text": [
      "0\n",
      "Child returned 0\n"
     ]
    },
    {
     "name": "stdout",
     "output_type": "stream",
     "text": [
      "rm -rf /shared/CSHL_volumes/MD657/MD657_down32_scoreVolume_clf_30/score_volume_gradients/MD657_down32_scoreVolume_clf_30_SNR_gy.bp && mkdir -p /shared/CSHL_volumes/MD657/MD657_down32_scoreVolume_clf_30/score_volume_gradients\n"
     ]
    },
    {
     "name": "stderr",
     "output_type": "stream",
     "text": [
      "2.91 seconds.\n",
      "Child returned 0\n"
     ]
    },
    {
     "name": "stdout",
     "output_type": "stream",
     "text": [
      "aws s3 cp s3://mousebrainatlas-data/CSHL_volumes/MD657/MD657_down32_scoreVolume_clf_30/score_volume_gradients/MD657_down32_scoreVolume_clf_30_SNR_gy.bp /shared/CSHL_volumes/MD657/MD657_down32_scoreVolume_clf_30/score_volume_gradients/MD657_down32_scoreVolume_clf_30_SNR_gy.bp\n"
     ]
    },
    {
     "name": "stderr",
     "output_type": "stream",
     "text": [
      "Child returned 0\n",
      "2.96 seconds.\n"
     ]
    },
    {
     "name": "stdout",
     "output_type": "stream",
     "text": [
      "rm -rf /shared/CSHL_volumes/MD657/MD657_down32_scoreVolume_clf_30/score_volume_gradients/MD657_down32_scoreVolume_clf_30_SNR_gz.bp && mkdir -p /shared/CSHL_volumes/MD657/MD657_down32_scoreVolume_clf_30/score_volume_gradients\n"
     ]
    },
    {
     "name": "stderr",
     "output_type": "stream",
     "text": [
      "Child returned 0\n"
     ]
    },
    {
     "name": "stdout",
     "output_type": "stream",
     "text": [
      "aws s3 cp s3://mousebrainatlas-data/CSHL_volumes/MD657/MD657_down32_scoreVolume_clf_30/score_volume_gradients/MD657_down32_scoreVolume_clf_30_SNR_gz.bp /shared/CSHL_volumes/MD657/MD657_down32_scoreVolume_clf_30/score_volume_gradients/MD657_down32_scoreVolume_clf_30_SNR_gz.bp\n"
     ]
    },
    {
     "name": "stderr",
     "output_type": "stream",
     "text": [
      "Child returned 0\n",
      "3.04 seconds.\n",
      "load gradient 21: 23.575489 seconds\n"
     ]
    },
    {
     "name": "stdout",
     "output_type": "stream",
     "text": [
      "rm -rf /shared/CSHL_volumes/MD657/MD657_down32_scoreVolume_clf_30/score_volume_gradients/MD657_down32_scoreVolume_clf_30_Tz_gx.bp && mkdir -p /shared/CSHL_volumes/MD657/MD657_down32_scoreVolume_clf_30/score_volume_gradients\n"
     ]
    },
    {
     "name": "stderr",
     "output_type": "stream",
     "text": [
      "Child returned 0"
     ]
    },
    {
     "name": "stdout",
     "output_type": "stream",
     "text": [
      "aws s3 cp s3://mousebrainatlas-data/CSHL_volumes/MD657/MD657_down32_scoreVolume_clf_30/score_volume_gradients/MD657_down32_scoreVolume_clf_30_Tz_gx.bp /shared/CSHL_volumes/MD657/MD657_down32_scoreVolume_clf_30/score_volume_gradients/MD657_down32_scoreVolume_clf_30_Tz_gx.bp\n"
     ]
    },
    {
     "name": "stderr",
     "output_type": "stream",
     "text": [
      "\n",
      "Child returned 0\n",
      "2.93 seconds.\n"
     ]
    },
    {
     "name": "stdout",
     "output_type": "stream",
     "text": [
      "rm -rf /shared/CSHL_volumes/MD657/MD657_down32_scoreVolume_clf_30/score_volume_gradients/MD657_down32_scoreVolume_clf_30_Tz_gy.bp && mkdir -p /shared/CSHL_volumes/MD657/MD657_down32_scoreVolume_clf_30/score_volume_gradients\n"
     ]
    },
    {
     "name": "stderr",
     "output_type": "stream",
     "text": [
      "Child returned 0\n"
     ]
    },
    {
     "name": "stdout",
     "output_type": "stream",
     "text": [
      "aws s3 cp s3://mousebrainatlas-data/CSHL_volumes/MD657/MD657_down32_scoreVolume_clf_30/score_volume_gradients/MD657_down32_scoreVolume_clf_30_Tz_gy.bp /shared/CSHL_volumes/MD657/MD657_down32_scoreVolume_clf_30/score_volume_gradients/MD657_down32_scoreVolume_clf_30_Tz_gy.bp\n"
     ]
    },
    {
     "name": "stderr",
     "output_type": "stream",
     "text": [
      "Child returned 0\n",
      "2.96 seconds.\n"
     ]
    },
    {
     "name": "stdout",
     "output_type": "stream",
     "text": [
      "rm -rf /shared/CSHL_volumes/MD657/MD657_down32_scoreVolume_clf_30/score_volume_gradients/MD657_down32_scoreVolume_clf_30_Tz_gz.bp && mkdir -p /shared/CSHL_volumes/MD657/MD657_down32_scoreVolume_clf_30/score_volume_gradients\n"
     ]
    },
    {
     "name": "stderr",
     "output_type": "stream",
     "text": [
      "Child returned 0\n"
     ]
    },
    {
     "name": "stdout",
     "output_type": "stream",
     "text": [
      "aws s3 cp s3://mousebrainatlas-data/CSHL_volumes/MD657/MD657_down32_scoreVolume_clf_30/score_volume_gradients/MD657_down32_scoreVolume_clf_30_Tz_gz.bp /shared/CSHL_volumes/MD657/MD657_down32_scoreVolume_clf_30/score_volume_gradients/MD657_down32_scoreVolume_clf_30_Tz_gz.bp\n"
     ]
    },
    {
     "name": "stderr",
     "output_type": "stream",
     "text": [
      "Child returned 0\n",
      "2.90 seconds.\n",
      "load gradient 25: 26.797920 seconds\n"
     ]
    },
    {
     "name": "stdout",
     "output_type": "stream",
     "text": [
      "rm -rf /shared/CSHL_volumes/MD657/MD657_down32_scoreVolume_clf_30/score_volume_gradients/MD657_down32_scoreVolume_clf_30_VCA_gx.bp && mkdir -p /shared/CSHL_volumes/MD657/MD657_down32_scoreVolume_clf_30/score_volume_gradients\n"
     ]
    },
    {
     "name": "stderr",
     "output_type": "stream",
     "text": [
      "Child returned 0"
     ]
    },
    {
     "name": "stdout",
     "output_type": "stream",
     "text": [
      "aws s3 cp s3://mousebrainatlas-data/CSHL_volumes/MD657/MD657_down32_scoreVolume_clf_30/score_volume_gradients/MD657_down32_scoreVolume_clf_30_VCA_gx.bp /shared/CSHL_volumes/MD657/MD657_down32_scoreVolume_clf_30/score_volume_gradients/MD657_down32_scoreVolume_clf_30_VCA_gx.bp\n"
     ]
    },
    {
     "name": "stderr",
     "output_type": "stream",
     "text": [
      "\n",
      "Child returned 0\n",
      "2.96 seconds.\n"
     ]
    },
    {
     "name": "stdout",
     "output_type": "stream",
     "text": [
      "rm -rf /shared/CSHL_volumes/MD657/MD657_down32_scoreVolume_clf_30/score_volume_gradients/MD657_down32_scoreVolume_clf_30_VCA_gy.bp && mkdir -p /shared/CSHL_volumes/MD657/MD657_down32_scoreVolume_clf_30/score_volume_gradients\n"
     ]
    },
    {
     "name": "stderr",
     "output_type": "stream",
     "text": [
      "Child returned 0"
     ]
    },
    {
     "name": "stdout",
     "output_type": "stream",
     "text": [
      "aws s3 cp s3://mousebrainatlas-data/CSHL_volumes/MD657/MD657_down32_scoreVolume_clf_30/score_volume_gradients/MD657_down32_scoreVolume_clf_30_VCA_gy.bp /shared/CSHL_volumes/MD657/MD657_down32_scoreVolume_clf_30/score_volume_gradients/MD657_down32_scoreVolume_clf_30_VCA_gy.bp\n"
     ]
    },
    {
     "name": "stderr",
     "output_type": "stream",
     "text": [
      "\n",
      "Child returned 0\n",
      "2.82 seconds.\n"
     ]
    },
    {
     "name": "stdout",
     "output_type": "stream",
     "text": [
      "rm -rf /shared/CSHL_volumes/MD657/MD657_down32_scoreVolume_clf_30/score_volume_gradients/MD657_down32_scoreVolume_clf_30_VCA_gz.bp && mkdir -p /shared/CSHL_volumes/MD657/MD657_down32_scoreVolume_clf_30/score_volume_gradients\n"
     ]
    },
    {
     "name": "stderr",
     "output_type": "stream",
     "text": [
      "Child returned 0\n"
     ]
    },
    {
     "name": "stdout",
     "output_type": "stream",
     "text": [
      "aws s3 cp s3://mousebrainatlas-data/CSHL_volumes/MD657/MD657_down32_scoreVolume_clf_30/score_volume_gradients/MD657_down32_scoreVolume_clf_30_VCA_gz.bp /shared/CSHL_volumes/MD657/MD657_down32_scoreVolume_clf_30/score_volume_gradients/MD657_down32_scoreVolume_clf_30_VCA_gz.bp\n"
     ]
    },
    {
     "name": "stderr",
     "output_type": "stream",
     "text": [
      "Child returned 0\n",
      "2.96 seconds.\n",
      "load gradient 26: 29.093413 seconds\n"
     ]
    },
    {
     "name": "stdout",
     "output_type": "stream",
     "text": [
      "rm -rf /shared/CSHL_volumes/MD657/MD657_down32_scoreVolume_clf_30/score_volume_gradients/MD657_down32_scoreVolume_clf_30_VCP_gx.bp && mkdir -p /shared/CSHL_volumes/MD657/MD657_down32_scoreVolume_clf_30/score_volume_gradients\n"
     ]
    },
    {
     "name": "stderr",
     "output_type": "stream",
     "text": [
      "Child returned 0"
     ]
    },
    {
     "name": "stdout",
     "output_type": "stream",
     "text": [
      "aws s3 cp s3://mousebrainatlas-data/CSHL_volumes/MD657/MD657_down32_scoreVolume_clf_30/score_volume_gradients/MD657_down32_scoreVolume_clf_30_VCP_gx.bp /shared/CSHL_volumes/MD657/MD657_down32_scoreVolume_clf_30/score_volume_gradients/MD657_down32_scoreVolume_clf_30_VCP_gx.bp\n"
     ]
    },
    {
     "name": "stderr",
     "output_type": "stream",
     "text": [
      "\n",
      "Child returned 0\n",
      "3.00 seconds.\n"
     ]
    },
    {
     "name": "stdout",
     "output_type": "stream",
     "text": [
      "rm -rf /shared/CSHL_volumes/MD657/MD657_down32_scoreVolume_clf_30/score_volume_gradients/MD657_down32_scoreVolume_clf_30_VCP_gy.bp && mkdir -p /shared/CSHL_volumes/MD657/MD657_down32_scoreVolume_clf_30/score_volume_gradients\n"
     ]
    },
    {
     "name": "stderr",
     "output_type": "stream",
     "text": [
      "Child returned 0\n"
     ]
    },
    {
     "name": "stdout",
     "output_type": "stream",
     "text": [
      "aws s3 cp s3://mousebrainatlas-data/CSHL_volumes/MD657/MD657_down32_scoreVolume_clf_30/score_volume_gradients/MD657_down32_scoreVolume_clf_30_VCP_gy.bp /shared/CSHL_volumes/MD657/MD657_down32_scoreVolume_clf_30/score_volume_gradients/MD657_down32_scoreVolume_clf_30_VCP_gy.bp\n"
     ]
    },
    {
     "name": "stderr",
     "output_type": "stream",
     "text": [
      "Child returned 0\n",
      "2.97 seconds.\n"
     ]
    },
    {
     "name": "stdout",
     "output_type": "stream",
     "text": [
      "rm -rf /shared/CSHL_volumes/MD657/MD657_down32_scoreVolume_clf_30/score_volume_gradients/MD657_down32_scoreVolume_clf_30_VCP_gz.bp && mkdir -p /shared/CSHL_volumes/MD657/MD657_down32_scoreVolume_clf_30/score_volume_gradients\n"
     ]
    },
    {
     "name": "stderr",
     "output_type": "stream",
     "text": [
      "Child returned 0\n"
     ]
    },
    {
     "name": "stdout",
     "output_type": "stream",
     "text": [
      "aws s3 cp s3://mousebrainatlas-data/CSHL_volumes/MD657/MD657_down32_scoreVolume_clf_30/score_volume_gradients/MD657_down32_scoreVolume_clf_30_VCP_gz.bp /shared/CSHL_volumes/MD657/MD657_down32_scoreVolume_clf_30/score_volume_gradients/MD657_down32_scoreVolume_clf_30_VCP_gz.bp\n"
     ]
    },
    {
     "name": "stderr",
     "output_type": "stream",
     "text": [
      "Child returned 0\n",
      "3.15 seconds.\n",
      "load gradient 27: 22.821938 seconds\n"
     ]
    },
    {
     "name": "stdout",
     "output_type": "stream",
     "text": [
      "rm -rf /shared/CSHL_volumes/MD657/MD657_down32_scoreVolume_clf_30/score_volume_gradients/MD657_down32_scoreVolume_clf_30_VLL_gx.bp && mkdir -p /shared/CSHL_volumes/MD657/MD657_down32_scoreVolume_clf_30/score_volume_gradients\n"
     ]
    },
    {
     "name": "stderr",
     "output_type": "stream",
     "text": [
      "Child returned 0\n"
     ]
    },
    {
     "name": "stdout",
     "output_type": "stream",
     "text": [
      "aws s3 cp s3://mousebrainatlas-data/CSHL_volumes/MD657/MD657_down32_scoreVolume_clf_30/score_volume_gradients/MD657_down32_scoreVolume_clf_30_VLL_gx.bp /shared/CSHL_volumes/MD657/MD657_down32_scoreVolume_clf_30/score_volume_gradients/MD657_down32_scoreVolume_clf_30_VLL_gx.bp\n"
     ]
    },
    {
     "name": "stderr",
     "output_type": "stream",
     "text": [
      "Child returned 0\n",
      "2.94 seconds.\n"
     ]
    },
    {
     "name": "stdout",
     "output_type": "stream",
     "text": [
      "rm -rf /shared/CSHL_volumes/MD657/MD657_down32_scoreVolume_clf_30/score_volume_gradients/MD657_down32_scoreVolume_clf_30_VLL_gy.bp && mkdir -p /shared/CSHL_volumes/MD657/MD657_down32_scoreVolume_clf_30/score_volume_gradients\n"
     ]
    },
    {
     "name": "stderr",
     "output_type": "stream",
     "text": [
      "Child returned 0\n"
     ]
    },
    {
     "name": "stdout",
     "output_type": "stream",
     "text": [
      "aws s3 cp s3://mousebrainatlas-data/CSHL_volumes/MD657/MD657_down32_scoreVolume_clf_30/score_volume_gradients/MD657_down32_scoreVolume_clf_30_VLL_gy.bp /shared/CSHL_volumes/MD657/MD657_down32_scoreVolume_clf_30/score_volume_gradients/MD657_down32_scoreVolume_clf_30_VLL_gy.bp\n"
     ]
    },
    {
     "name": "stderr",
     "output_type": "stream",
     "text": [
      "Child returned 0\n",
      "2.95 seconds.\n"
     ]
    },
    {
     "name": "stdout",
     "output_type": "stream",
     "text": [
      "rm -rf /shared/CSHL_volumes/MD657/MD657_down32_scoreVolume_clf_30/score_volume_gradients/MD657_down32_scoreVolume_clf_30_VLL_gz.bp && mkdir -p /shared/CSHL_volumes/MD657/MD657_down32_scoreVolume_clf_30/score_volume_gradients\n"
     ]
    },
    {
     "name": "stderr",
     "output_type": "stream",
     "text": [
      "Child returned 0"
     ]
    },
    {
     "name": "stdout",
     "output_type": "stream",
     "text": [
      "aws s3 cp s3://mousebrainatlas-data/CSHL_volumes/MD657/MD657_down32_scoreVolume_clf_30/score_volume_gradients/MD657_down32_scoreVolume_clf_30_VLL_gz.bp /shared/CSHL_volumes/MD657/MD657_down32_scoreVolume_clf_30/score_volume_gradients/MD657_down32_scoreVolume_clf_30_VLL_gz.bp\n"
     ]
    },
    {
     "name": "stderr",
     "output_type": "stream",
     "text": [
      "\n",
      "Child returned 0\n",
      "3.05 seconds.\n",
      "load gradient 28: 19.095036 seconds\n",
      "overall: 239.004393 seconds\n"
     ]
    }
   ],
   "source": [
    "aligner.load_gradient(gradient_filepath_map_f=gradient_filepath_map_f) # 120s-170 = 2 mins"
   ]
  },
  {
   "cell_type": "code",
   "execution_count": 15,
   "metadata": {
    "collapsed": true
   },
   "outputs": [],
   "source": [
    "aligner.set_label_weights(label_weights=label_weights_m)"
   ]
  },
  {
   "cell_type": "code",
   "execution_count": 17,
   "metadata": {
    "scrolled": true
   },
   "outputs": [
    {
     "name": "stderr",
     "output_type": "stream",
     "text": [
      "grid search: 8.278438 seconds\n",
      "tx_best: -14.70 (voxel), ty_best: 48.96, tz_best: -4.17, theta_xy_best: -9.41 (deg)\n",
      "sigma_tx: 100.00 (voxel), sigma_ty: 100.00, sigma_tz: 100.00, sigma_theta_xy: 30.00 (deg)\n",
      "-inf 0.214125\n",
      "grid search: 6.875690 seconds\n",
      "tx_best: -14.70 (voxel), ty_best: 48.96, tz_best: -4.17, theta_xy_best: -9.41 (deg)\n",
      "sigma_tx: 71.65 (voxel), sigma_ty: 71.65, sigma_tz: 71.65, sigma_theta_xy: 21.50 (deg)\n",
      "grid search: 5.514729 seconds\n",
      "tx_best: -16.21 (voxel), ty_best: 54.79, tz_best: -1.37, theta_xy_best: -11.96 (deg)\n",
      "sigma_tx: 51.34 (voxel), sigma_ty: 51.34, sigma_tz: 51.34, sigma_theta_xy: 15.40 (deg)\n",
      "0.214125 0.215209\n",
      "grid search: 4.872470 seconds\n",
      "tx_best: -16.21 (voxel), ty_best: 54.79, tz_best: -1.37, theta_xy_best: -11.96 (deg)\n",
      "sigma_tx: 36.79 (voxel), sigma_ty: 36.79, sigma_tz: 36.79, sigma_theta_xy: 11.04 (deg)\n",
      "grid search: 4.178607 seconds\n",
      "tx_best: -16.21 (voxel), ty_best: 54.79, tz_best: -1.37, theta_xy_best: -11.96 (deg)\n",
      "sigma_tx: 26.36 (voxel), sigma_ty: 26.36, sigma_tz: 26.36, sigma_theta_xy: 7.91 (deg)\n",
      "grid search: 3.872105 seconds\n",
      "tx_best: -24.01 (voxel), ty_best: 45.46, tz_best: -3.05, theta_xy_best: -13.51 (deg)\n",
      "sigma_tx: 18.89 (voxel), sigma_ty: 18.89, sigma_tz: 18.89, sigma_theta_xy: 5.67 (deg)\n",
      "0.215209 0.216752\n",
      "grid search: 3.615296 seconds\n",
      "tx_best: -25.32 (voxel), ty_best: 46.57, tz_best: -4.80, theta_xy_best: -14.58 (deg)\n",
      "sigma_tx: 13.53 (voxel), sigma_ty: 13.53, sigma_tz: 13.53, sigma_theta_xy: 4.06 (deg)\n",
      "0.216752 0.218102\n",
      "grid search: 3.421643 seconds\n",
      "tx_best: -24.02 (voxel), ty_best: 44.18, tz_best: -3.35, theta_xy_best: -15.82 (deg)\n",
      "sigma_tx: 9.70 (voxel), sigma_ty: 9.70, sigma_tz: 9.70, sigma_theta_xy: 2.91 (deg)\n",
      "0.218102 0.218826\n",
      "iteration 0\n"
     ]
    },
    {
     "name": "stdout",
     "output_type": "stream",
     "text": [
      "params_best_upToNow [-24.02029253  44.18005151  -3.34588064  -0.27606594]\n"
     ]
    },
    {
     "name": "stderr",
     "output_type": "stream",
     "text": [
      "step: 0.27 seconds\n",
      "score: 0.218826\n",
      "iteration 1\n",
      "step: 0.26 seconds\n",
      "score: 0.190611\n",
      "iteration 2\n",
      "step: 0.26 seconds\n",
      "score: 0.184739\n",
      "iteration 3\n",
      "step: 0.26 seconds\n",
      "score: 0.215130\n",
      "iteration 4\n",
      "step: 0.26 seconds\n",
      "score: 0.224046\n",
      "iteration 5\n",
      "step: 0.26 seconds\n",
      "score: 0.228006\n",
      "iteration 6\n",
      "step: 0.26 seconds\n",
      "score: 0.219331\n",
      "iteration 7\n",
      "step: 0.26 seconds\n",
      "score: 0.225107\n",
      "iteration 8\n",
      "step: 0.26 seconds\n",
      "score: 0.218756\n",
      "iteration 9\n",
      "step: 0.27 seconds\n",
      "score: 0.228034\n",
      "iteration 10\n",
      "step: 0.26 seconds\n",
      "score: 0.241322\n",
      "iteration 11\n",
      "step: 0.27 seconds\n",
      "score: 0.236830\n",
      "iteration 12\n",
      "step: 0.27 seconds\n",
      "score: 0.237455\n",
      "iteration 13\n",
      "step: 0.27 seconds\n",
      "score: 0.239125\n",
      "iteration 14\n",
      "step: 0.27 seconds\n",
      "score: 0.243543\n",
      "iteration 15\n",
      "step: 0.27 seconds\n",
      "score: 0.240144\n",
      "iteration 16\n",
      "step: 0.26 seconds\n",
      "score: 0.246831\n",
      "iteration 17\n",
      "step: 0.27 seconds\n",
      "score: 0.246281\n",
      "iteration 18\n",
      "step: 0.27 seconds\n",
      "score: 0.252993\n",
      "iteration 19\n",
      "step: 0.27 seconds\n",
      "score: 0.253577\n",
      "iteration 20\n",
      "step: 0.27 seconds\n",
      "score: 0.259697\n",
      "iteration 21\n",
      "step: 0.27 seconds\n",
      "score: 0.259452\n",
      "iteration 22\n",
      "step: 0.27 seconds\n",
      "score: 0.263095\n",
      "iteration 23\n",
      "step: 0.27 seconds\n",
      "score: 0.262402\n",
      "iteration 24\n",
      "step: 0.27 seconds\n",
      "score: 0.268981\n",
      "iteration 25\n",
      "step: 0.27 seconds\n",
      "score: 0.270113\n",
      "iteration 26\n",
      "step: 0.27 seconds\n",
      "score: 0.271411\n",
      "iteration 27\n",
      "step: 0.27 seconds\n",
      "score: 0.273414\n",
      "iteration 28\n",
      "step: 0.27 seconds\n",
      "score: 0.273749\n",
      "iteration 29\n",
      "step: 0.27 seconds\n",
      "score: 0.273681\n",
      "iteration 30\n",
      "step: 0.27 seconds\n",
      "score: 0.275177\n",
      "iteration 31\n",
      "step: 0.27 seconds\n",
      "score: 0.273730\n",
      "iteration 32\n",
      "step: 0.27 seconds\n",
      "score: 0.276148\n",
      "iteration 33\n",
      "step: 0.27 seconds\n",
      "score: 0.275133\n",
      "iteration 34\n",
      "step: 0.27 seconds\n",
      "score: 0.276423\n",
      "iteration 35\n",
      "step: 0.27 seconds\n",
      "score: 0.276214\n",
      "iteration 36\n",
      "step: 0.27 seconds\n",
      "score: 0.275960\n",
      "iteration 37\n",
      "step: 0.27 seconds\n",
      "score: 0.276385\n",
      "iteration 38\n",
      "step: 0.27 seconds\n",
      "score: 0.277041\n",
      "iteration 39\n",
      "step: 0.27 seconds\n",
      "score: 0.278179\n",
      "iteration 40\n",
      "step: 0.27 seconds\n",
      "score: 0.278565\n",
      "iteration 41\n",
      "step: 0.27 seconds\n",
      "score: 0.279636\n",
      "iteration 42\n",
      "step: 0.27 seconds\n",
      "score: 0.280478\n",
      "iteration 43\n",
      "step: 0.27 seconds\n",
      "score: 0.281227\n",
      "iteration 44\n",
      "step: 0.27 seconds\n",
      "score: 0.281535\n",
      "iteration 45\n",
      "step: 0.27 seconds\n",
      "score: 0.281641\n",
      "iteration 46\n",
      "step: 0.27 seconds\n",
      "score: 0.282274\n",
      "iteration 47\n",
      "step: 0.27 seconds\n",
      "score: 0.282249\n",
      "iteration 48\n",
      "step: 0.27 seconds\n",
      "score: 0.282983\n",
      "iteration 49\n",
      "step: 0.27 seconds\n",
      "score: 0.282873\n",
      "iteration 50\n",
      "step: 0.27 seconds\n",
      "score: 0.283593\n",
      "iteration 51\n",
      "step: 0.27 seconds\n",
      "score: 0.283629\n",
      "iteration 52\n",
      "step: 0.27 seconds\n",
      "score: 0.284105\n",
      "iteration 53\n",
      "step: 0.27 seconds\n",
      "score: 0.284054\n",
      "iteration 54\n",
      "step: 0.27 seconds\n",
      "score: 0.284348\n",
      "iteration 55\n",
      "step: 0.27 seconds\n",
      "score: 0.283982\n",
      "iteration 56\n",
      "step: 0.27 seconds\n",
      "score: 0.284122\n",
      "iteration 57\n",
      "step: 0.27 seconds\n",
      "score: 0.283857\n",
      "iteration 58\n",
      "step: 0.27 seconds\n",
      "score: 0.284692\n",
      "iteration 59\n",
      "step: 0.27 seconds\n",
      "score: 0.283597\n",
      "iteration 60\n",
      "step: 0.27 seconds\n",
      "score: 0.284697\n",
      "iteration 61\n",
      "step: 0.27 seconds\n",
      "score: 0.283574\n",
      "iteration 62\n",
      "step: 0.27 seconds\n",
      "score: 0.285563\n",
      "iteration 63\n",
      "step: 0.27 seconds\n",
      "score: 0.283524\n",
      "iteration 64\n",
      "step: 0.27 seconds\n",
      "score: 0.286058\n",
      "iteration 65\n",
      "step: 0.27 seconds\n",
      "score: 0.284388\n",
      "iteration 66\n",
      "step: 0.27 seconds\n",
      "score: 0.286958\n",
      "iteration 67\n",
      "step: 0.27 seconds\n",
      "score: 0.286186\n",
      "iteration 68\n",
      "step: 0.27 seconds\n",
      "score: 0.287286\n",
      "iteration 69\n",
      "step: 0.27 seconds\n",
      "score: 0.286068\n",
      "iteration 70\n",
      "step: 0.27 seconds\n",
      "score: 0.288341\n",
      "iteration 71\n",
      "step: 0.27 seconds\n",
      "score: 0.287525\n",
      "iteration 72\n",
      "step: 0.27 seconds\n",
      "score: 0.288477\n",
      "iteration 73\n",
      "step: 0.27 seconds\n",
      "score: 0.287632\n",
      "iteration 74\n",
      "step: 0.27 seconds\n",
      "score: 0.288559\n",
      "iteration 75\n",
      "step: 0.27 seconds\n",
      "score: 0.287614\n",
      "iteration 76\n",
      "step: 0.27 seconds\n",
      "score: 0.288865\n",
      "iteration 77\n",
      "step: 0.27 seconds\n",
      "score: 0.287935\n",
      "iteration 78\n",
      "step: 0.27 seconds\n",
      "score: 0.289099\n",
      "iteration 79\n",
      "step: 0.27 seconds\n",
      "score: 0.288196\n",
      "iteration 80\n",
      "step: 0.27 seconds\n",
      "score: 0.289243\n",
      "iteration 81\n",
      "step: 0.27 seconds\n",
      "score: 0.288237\n",
      "iteration 82\n",
      "step: 0.27 seconds\n",
      "score: 0.289413\n",
      "iteration 83\n",
      "step: 0.27 seconds\n",
      "score: 0.288541\n",
      "iteration 84\n",
      "step: 0.27 seconds\n",
      "score: 0.289613\n",
      "iteration 85\n",
      "step: 0.27 seconds\n",
      "score: 0.288739\n",
      "iteration 86\n",
      "step: 0.27 seconds\n",
      "score: 0.289717\n",
      "iteration 87\n",
      "step: 0.27 seconds\n",
      "score: 0.288941\n",
      "iteration 88\n",
      "step: 0.27 seconds\n",
      "score: 0.289974\n",
      "iteration 89\n",
      "step: 0.27 seconds\n",
      "score: 0.289173\n",
      "iteration 90\n",
      "step: 0.27 seconds\n",
      "score: 0.290122\n",
      "iteration 91\n",
      "step: 0.27 seconds\n",
      "score: 0.289374\n",
      "iteration 92\n",
      "step: 0.27 seconds\n",
      "score: 0.290162\n",
      "iteration 93\n",
      "step: 0.27 seconds\n",
      "score: 0.289692\n",
      "iteration 94\n",
      "step: 0.27 seconds\n",
      "score: 0.290194\n",
      "iteration 95\n",
      "step: 0.27 seconds\n",
      "score: 0.289774\n",
      "iteration 96\n",
      "step: 0.27 seconds\n",
      "score: 0.290319\n",
      "iteration 97\n",
      "step: 0.27 seconds\n",
      "score: 0.289605\n",
      "iteration 98\n",
      "step: 0.27 seconds\n",
      "score: 0.290061\n",
      "iteration 99\n",
      "step: 0.27 seconds\n",
      "score: 0.289385\n",
      "iteration 100\n",
      "step: 0.27 seconds\n",
      "score: 0.290598\n",
      "iteration 101\n",
      "step: 0.27 seconds\n",
      "score: 0.290139\n",
      "iteration 102\n",
      "step: 0.27 seconds\n",
      "score: 0.290624\n",
      "iteration 103\n",
      "step: 0.27 seconds\n",
      "score: 0.290379\n",
      "iteration 104\n",
      "step: 0.27 seconds\n",
      "score: 0.290668\n",
      "iteration 105\n",
      "step: 0.27 seconds\n",
      "score: 0.290391\n",
      "iteration 106\n",
      "step: 0.27 seconds\n",
      "score: 0.290884\n",
      "iteration 107\n",
      "step: 0.27 seconds\n",
      "score: 0.290778\n",
      "iteration 108\n",
      "step: 0.27 seconds\n",
      "score: 0.290671\n",
      "iteration 109\n",
      "step: 0.27 seconds\n",
      "score: 0.290398\n",
      "iteration 110\n",
      "step: 0.27 seconds\n",
      "score: 0.290944\n",
      "iteration 111\n",
      "step: 0.27 seconds\n",
      "score: 0.290903\n",
      "iteration 112\n",
      "step: 0.27 seconds\n",
      "score: 0.290918\n",
      "iteration 113\n",
      "step: 0.27 seconds\n",
      "score: 0.290901\n",
      "iteration 114\n",
      "step: 0.27 seconds\n",
      "score: 0.290929\n",
      "iteration 115\n",
      "step: 0.27 seconds\n",
      "score: 0.290888\n",
      "iteration 116\n",
      "step: 0.27 seconds\n",
      "score: 0.290943\n",
      "iteration 117\n",
      "step: 0.27 seconds\n",
      "score: 0.290957\n",
      "iteration 118\n",
      "step: 0.27 seconds\n",
      "score: 0.291099\n",
      "iteration 119\n",
      "step: 0.27 seconds\n",
      "score: 0.291089\n",
      "iteration 120\n",
      "step: 0.27 seconds\n",
      "score: 0.291181\n",
      "iteration 121\n",
      "step: 0.27 seconds\n",
      "score: 0.291165\n",
      "iteration 122\n",
      "step: 0.27 seconds\n",
      "score: 0.291211\n",
      "iteration 123\n",
      "step: 0.27 seconds\n",
      "score: 0.291126\n",
      "iteration 124\n",
      "step: 0.27 seconds\n",
      "score: 0.291126\n",
      "iteration 125\n",
      "step: 0.27 seconds\n",
      "score: 0.290964\n",
      "iteration 126\n",
      "step: 0.27 seconds\n",
      "score: 0.291145\n",
      "iteration 127\n",
      "step: 0.27 seconds\n",
      "score: 0.291132\n",
      "iteration 128\n",
      "step: 0.27 seconds\n",
      "score: 0.291253\n",
      "iteration 129\n",
      "step: 0.27 seconds\n",
      "score: 0.291243\n",
      "iteration 130\n",
      "step: 0.27 seconds\n",
      "score: 0.291319\n",
      "iteration 131\n",
      "step: 0.27 seconds\n",
      "score: 0.291295\n",
      "iteration 132\n",
      "step: 0.27 seconds\n",
      "score: 0.291281\n",
      "iteration 133\n",
      "step: 0.27 seconds\n",
      "score: 0.291405\n",
      "iteration 134\n",
      "step: 0.27 seconds\n",
      "score: 0.291348\n",
      "iteration 135\n",
      "step: 0.27 seconds\n",
      "score: 0.291395\n",
      "iteration 136\n",
      "step: 0.27 seconds\n",
      "score: 0.291328\n",
      "iteration 137\n",
      "step: 0.27 seconds\n",
      "score: 0.291363\n",
      "iteration 138\n",
      "step: 0.27 seconds\n",
      "score: 0.291345\n",
      "iteration 139\n",
      "step: 0.27 seconds\n",
      "score: 0.291367\n",
      "iteration 140\n",
      "step: 0.27 seconds\n",
      "score: 0.291262\n",
      "iteration 141\n",
      "step: 0.27 seconds\n",
      "score: 0.291376\n",
      "iteration 142\n",
      "step: 0.27 seconds\n",
      "score: 0.291143\n",
      "iteration 143\n",
      "step: 0.27 seconds\n",
      "score: 0.291138\n",
      "iteration 144\n",
      "step: 0.27 seconds\n",
      "score: 0.290538\n",
      "iteration 145\n",
      "step: 0.27 seconds\n",
      "score: 0.291039\n",
      "iteration 146\n",
      "step: 0.27 seconds\n",
      "score: 0.290652\n",
      "iteration 147\n",
      "step: 0.27 seconds\n",
      "score: 0.291166\n",
      "iteration 148\n",
      "step: 0.27 seconds\n",
      "score: 0.290809\n",
      "iteration 149\n",
      "step: 0.27 seconds\n",
      "score: 0.291152\n",
      "iteration 150\n",
      "step: 0.27 seconds\n",
      "score: 0.290794\n",
      "iteration 151\n",
      "step: 0.27 seconds\n",
      "score: 0.291189\n",
      "iteration 152\n",
      "step: 0.27 seconds\n",
      "score: 0.290839\n",
      "iteration 153\n",
      "step: 0.27 seconds\n",
      "score: 0.291182\n",
      "iteration 154\n",
      "step: 0.27 seconds\n",
      "score: 0.290849\n",
      "iteration 155\n",
      "step: 0.27 seconds\n",
      "score: 0.291126\n",
      "iteration 156\n",
      "step: 0.27 seconds\n",
      "score: 0.290868\n",
      "iteration 157\n",
      "step: 0.27 seconds\n",
      "score: 0.291154\n",
      "iteration 158\n",
      "step: 0.27 seconds\n",
      "score: 0.290837\n",
      "iteration 159\n",
      "step: 0.27 seconds\n",
      "score: 0.291237\n",
      "iteration 160\n",
      "step: 0.27 seconds\n",
      "score: 0.290975\n",
      "iteration 161\n",
      "step: 0.27 seconds\n",
      "score: 0.291189\n",
      "iteration 162\n",
      "step: 0.27 seconds\n",
      "score: 0.290940\n",
      "iteration 163\n",
      "step: 0.27 seconds\n",
      "score: 0.291178\n",
      "iteration 164\n",
      "step: 0.27 seconds\n",
      "score: 0.291030\n",
      "iteration 165\n",
      "step: 0.27 seconds\n",
      "score: 0.291195\n",
      "iteration 166\n",
      "step: 0.27 seconds\n",
      "score: 0.291017\n",
      "iteration 167\n",
      "step: 0.27 seconds\n",
      "score: 0.291329\n",
      "iteration 168\n",
      "step: 0.27 seconds\n",
      "score: 0.291105\n",
      "iteration 169\n",
      "step: 0.27 seconds\n",
      "score: 0.291319\n",
      "iteration 170\n"
     ]
    },
    {
     "name": "stderr",
     "output_type": "stream",
     "text": [
      "step: 0.27 seconds\n",
      "score: 0.291162\n",
      "iteration 171\n",
      "step: 0.27 seconds\n",
      "score: 0.291393\n",
      "iteration 172\n",
      "step: 0.27 seconds\n",
      "score: 0.291174\n",
      "iteration 173\n",
      "step: 0.27 seconds\n",
      "score: 0.291372\n",
      "iteration 174\n",
      "step: 0.27 seconds\n",
      "score: 0.291305\n",
      "iteration 175\n",
      "step: 0.27 seconds\n",
      "score: 0.291337\n",
      "iteration 176\n",
      "step: 0.27 seconds\n",
      "score: 0.291308\n",
      "iteration 177\n",
      "step: 0.27 seconds\n",
      "score: 0.291379\n",
      "iteration 178\n",
      "step: 0.27 seconds\n",
      "score: 0.291349\n",
      "iteration 179\n",
      "step: 0.27 seconds\n",
      "score: 0.291413\n",
      "iteration 180\n",
      "step: 0.27 seconds\n",
      "score: 0.291306\n",
      "iteration 181\n",
      "step: 0.27 seconds\n",
      "score: 0.291465\n",
      "iteration 182\n",
      "step: 0.27 seconds\n",
      "score: 0.291327\n",
      "iteration 183\n",
      "step: 0.27 seconds\n",
      "score: 0.291510\n",
      "iteration 184\n",
      "step: 0.27 seconds\n",
      "score: 0.291387\n",
      "iteration 185\n",
      "step: 0.27 seconds\n",
      "score: 0.291400\n",
      "iteration 186\n",
      "step: 0.27 seconds\n",
      "score: 0.291364\n",
      "iteration 187\n",
      "step: 0.27 seconds\n",
      "score: 0.291521\n",
      "iteration 188\n",
      "step: 0.27 seconds\n",
      "score: 0.291437\n",
      "iteration 189\n",
      "step: 0.27 seconds\n",
      "score: 0.291472\n",
      "iteration 190\n",
      "step: 0.27 seconds\n",
      "score: 0.291447\n",
      "iteration 191\n",
      "step: 0.27 seconds\n",
      "score: 0.291523\n",
      "iteration 192\n",
      "step: 0.27 seconds\n",
      "score: 0.291433\n",
      "iteration 193\n",
      "step: 0.27 seconds\n",
      "score: 0.291455\n",
      "iteration 194\n",
      "step: 0.27 seconds\n",
      "score: 0.291498\n",
      "iteration 195\n",
      "step: 0.27 seconds\n",
      "score: 0.291475\n",
      "iteration 196\n",
      "step: 0.27 seconds\n",
      "score: 0.291475\n",
      "iteration 197\n",
      "step: 0.27 seconds\n",
      "score: 0.291540\n",
      "iteration 198\n",
      "step: 0.27 seconds\n",
      "score: 0.291481\n",
      "iteration 199\n",
      "step: 0.27 seconds\n",
      "score: 0.291693\n",
      "iteration 200\n",
      "step: 0.27 seconds\n",
      "score: 0.291696\n",
      "iteration 201\n",
      "step: 0.27 seconds\n",
      "score: 0.291611\n",
      "iteration 202\n",
      "step: 0.27 seconds\n",
      "score: 0.291691\n",
      "iteration 203\n",
      "step: 0.27 seconds\n",
      "score: 0.291709\n",
      "iteration 204\n",
      "step: 0.27 seconds\n",
      "score: 0.291684\n",
      "iteration 205\n",
      "step: 0.27 seconds\n",
      "score: 0.291699\n",
      "iteration 206\n",
      "step: 0.27 seconds\n",
      "score: 0.291771\n",
      "iteration 207\n",
      "step: 0.27 seconds\n",
      "score: 0.291695\n",
      "iteration 208\n",
      "step: 0.27 seconds\n",
      "score: 0.291722\n",
      "iteration 209\n",
      "step: 0.26 seconds\n",
      "score: 0.291524\n",
      "iteration 210\n",
      "step: 0.27 seconds\n",
      "score: 0.291819\n",
      "iteration 211\n",
      "step: 0.27 seconds\n",
      "score: 0.291642\n",
      "iteration 212\n",
      "step: 0.27 seconds\n",
      "score: 0.291843\n",
      "iteration 213\n",
      "step: 0.26 seconds\n",
      "score: 0.291738\n",
      "iteration 214\n",
      "step: 0.27 seconds\n",
      "score: 0.291977\n",
      "iteration 215\n",
      "step: 0.27 seconds\n",
      "score: 0.291716\n",
      "iteration 216\n",
      "step: 0.27 seconds\n",
      "score: 0.292143\n",
      "iteration 217\n",
      "step: 0.27 seconds\n",
      "score: 0.291932\n",
      "iteration 218\n",
      "step: 0.27 seconds\n",
      "score: 0.292019\n",
      "iteration 219\n",
      "step: 0.27 seconds\n",
      "score: 0.291878\n",
      "iteration 220\n",
      "step: 0.27 seconds\n",
      "score: 0.292071\n",
      "iteration 221\n",
      "step: 0.26 seconds\n",
      "score: 0.292039\n",
      "iteration 222\n",
      "step: 0.27 seconds\n",
      "score: 0.292088\n",
      "iteration 223\n",
      "step: 0.26 seconds\n",
      "score: 0.292126\n",
      "iteration 224\n",
      "step: 0.27 seconds\n",
      "score: 0.292089\n",
      "iteration 225\n",
      "step: 0.26 seconds\n",
      "score: 0.292227\n",
      "iteration 226\n",
      "step: 0.27 seconds\n",
      "score: 0.292156\n",
      "iteration 227\n",
      "step: 0.26 seconds\n",
      "score: 0.292261\n",
      "iteration 228\n",
      "step: 0.27 seconds\n",
      "score: 0.292036\n",
      "iteration 229\n",
      "step: 0.26 seconds\n",
      "score: 0.292156\n",
      "iteration 230\n",
      "step: 0.27 seconds\n",
      "score: 0.292106\n",
      "iteration 231\n",
      "step: 0.26 seconds\n",
      "score: 0.292207\n",
      "iteration 232\n",
      "step: 0.27 seconds\n",
      "score: 0.292069\n",
      "iteration 233\n",
      "step: 0.27 seconds\n",
      "score: 0.292386\n",
      "iteration 234\n",
      "step: 0.27 seconds\n",
      "score: 0.292151\n",
      "iteration 235\n",
      "step: 0.26 seconds\n",
      "score: 0.292465\n",
      "iteration 236\n",
      "step: 0.27 seconds\n",
      "score: 0.292280\n",
      "iteration 237\n",
      "step: 0.26 seconds\n",
      "score: 0.292568\n",
      "iteration 238\n",
      "step: 0.27 seconds\n",
      "score: 0.292376\n",
      "iteration 239\n",
      "step: 0.27 seconds\n",
      "score: 0.292660\n",
      "iteration 240\n",
      "step: 0.27 seconds\n",
      "score: 0.292438\n",
      "iteration 241\n",
      "step: 0.26 seconds\n",
      "score: 0.292801\n",
      "iteration 242\n",
      "step: 0.27 seconds\n",
      "score: 0.292536\n",
      "iteration 243\n",
      "step: 0.26 seconds\n",
      "score: 0.292852\n",
      "iteration 244\n",
      "step: 0.27 seconds\n",
      "score: 0.292559\n",
      "iteration 245\n",
      "step: 0.26 seconds\n",
      "score: 0.292855\n",
      "iteration 246\n",
      "step: 0.27 seconds\n",
      "score: 0.292657\n",
      "iteration 247\n",
      "step: 0.26 seconds\n",
      "score: 0.292956\n",
      "iteration 248\n",
      "step: 0.27 seconds\n",
      "score: 0.292752\n",
      "iteration 249\n",
      "step: 0.27 seconds\n",
      "score: 0.292954\n",
      "iteration 250\n",
      "step: 0.27 seconds\n",
      "score: 0.292709\n",
      "iteration 251\n",
      "step: 0.27 seconds\n",
      "score: 0.292914\n",
      "iteration 252\n",
      "step: 0.27 seconds\n",
      "score: 0.292712\n",
      "iteration 253\n",
      "step: 0.26 seconds\n",
      "score: 0.292988\n",
      "iteration 254\n",
      "step: 0.27 seconds\n",
      "score: 0.292885\n",
      "iteration 255\n",
      "step: 0.27 seconds\n",
      "score: 0.293167\n",
      "iteration 256\n",
      "step: 0.27 seconds\n",
      "score: 0.293011\n",
      "iteration 257\n",
      "step: 0.26 seconds\n",
      "score: 0.293176\n",
      "iteration 258\n",
      "step: 0.27 seconds\n",
      "score: 0.293091\n",
      "iteration 259\n",
      "step: 0.26 seconds\n",
      "score: 0.293243\n",
      "iteration 260\n",
      "step: 0.27 seconds\n",
      "score: 0.293188\n",
      "iteration 261\n",
      "step: 0.27 seconds\n",
      "score: 0.293357\n",
      "iteration 262\n",
      "step: 0.27 seconds\n",
      "score: 0.293324\n",
      "iteration 263\n",
      "step: 0.26 seconds\n",
      "score: 0.293429\n",
      "iteration 264\n",
      "step: 0.27 seconds\n",
      "score: 0.293407\n",
      "iteration 265\n",
      "step: 0.26 seconds\n",
      "score: 0.293490\n",
      "iteration 266\n",
      "step: 0.27 seconds\n",
      "score: 0.293472\n",
      "iteration 267\n",
      "step: 0.27 seconds\n",
      "score: 0.293542\n",
      "iteration 268\n",
      "step: 0.27 seconds\n",
      "score: 0.293528\n",
      "iteration 269\n",
      "step: 0.27 seconds\n",
      "score: 0.293531\n",
      "iteration 270\n",
      "step: 0.27 seconds\n",
      "score: 0.293523\n",
      "iteration 271\n",
      "step: 0.27 seconds\n",
      "score: 0.293520\n",
      "iteration 272\n",
      "step: 0.27 seconds\n",
      "score: 0.293522\n",
      "iteration 273\n",
      "step: 0.27 seconds\n",
      "score: 0.293528\n",
      "iteration 274\n",
      "step: 0.27 seconds\n",
      "score: 0.293544\n",
      "iteration 275\n",
      "step: 0.27 seconds\n",
      "score: 0.293567\n",
      "iteration 276\n",
      "step: 0.27 seconds\n",
      "score: 0.293548\n",
      "iteration 277\n",
      "step: 0.27 seconds\n",
      "score: 0.293570\n",
      "iteration 278\n",
      "step: 0.27 seconds\n",
      "score: 0.293600\n",
      "iteration 279\n",
      "step: 0.27 seconds\n",
      "score: 0.293640\n",
      "iteration 280\n",
      "step: 0.27 seconds\n",
      "score: 0.293605\n",
      "iteration 281\n",
      "step: 0.27 seconds\n",
      "score: 0.293624\n",
      "iteration 282\n",
      "step: 0.27 seconds\n",
      "score: 0.293651\n",
      "iteration 283\n",
      "step: 0.27 seconds\n",
      "score: 0.293665\n",
      "iteration 284\n",
      "step: 0.27 seconds\n",
      "score: 0.293669\n",
      "iteration 285\n",
      "step: 0.26 seconds\n",
      "score: 0.293678\n",
      "iteration 286\n",
      "step: 0.27 seconds\n",
      "score: 0.293653\n",
      "iteration 287\n",
      "step: 0.26 seconds\n",
      "score: 0.293646\n",
      "iteration 288\n",
      "step: 0.27 seconds\n",
      "score: 0.293686\n",
      "iteration 289\n",
      "step: 0.26 seconds\n",
      "score: 0.293725\n",
      "iteration 290\n",
      "step: 0.27 seconds\n",
      "score: 0.293714\n",
      "iteration 291\n",
      "step: 0.26 seconds\n",
      "score: 0.293744\n",
      "iteration 292\n",
      "step: 0.27 seconds\n",
      "score: 0.293765\n",
      "iteration 293\n",
      "step: 0.27 seconds\n",
      "score: 0.293800\n",
      "iteration 294\n",
      "step: 0.26 seconds\n",
      "score: 0.293793\n",
      "iteration 295\n",
      "step: 0.27 seconds\n",
      "score: 0.293829\n",
      "iteration 296\n",
      "step: 0.27 seconds\n",
      "score: 0.293775\n",
      "iteration 297\n",
      "step: 0.27 seconds\n",
      "score: 0.293801\n",
      "iteration 298\n",
      "step: 0.27 seconds\n",
      "score: 0.293772\n",
      "iteration 299\n",
      "step: 0.27 seconds\n",
      "score: 0.293777\n",
      "iteration 300\n",
      "step: 0.27 seconds\n",
      "score: 0.293793\n",
      "iteration 301\n",
      "step: 0.27 seconds\n",
      "score: 0.293827\n",
      "iteration 302\n",
      "step: 0.27 seconds\n",
      "score: 0.293814\n",
      "iteration 303\n",
      "step: 0.27 seconds\n",
      "score: 0.293868\n",
      "iteration 304\n",
      "step: 0.27 seconds\n",
      "score: 0.293840\n",
      "iteration 305\n",
      "step: 0.27 seconds\n",
      "score: 0.293884\n",
      "iteration 306\n",
      "step: 0.27 seconds\n",
      "score: 0.293880\n",
      "iteration 307\n",
      "step: 0.27 seconds\n",
      "score: 0.293892\n",
      "iteration 308\n",
      "step: 0.27 seconds\n",
      "score: 0.293918\n",
      "iteration 309\n",
      "step: 0.27 seconds\n",
      "score: 0.293971\n",
      "iteration 310\n",
      "step: 0.27 seconds\n",
      "score: 0.293964\n",
      "iteration 311\n",
      "step: 0.27 seconds\n",
      "score: 0.293948\n",
      "iteration 312\n",
      "step: 0.27 seconds\n",
      "score: 0.293965\n",
      "iteration 313\n",
      "step: 0.26 seconds\n",
      "score: 0.294002\n",
      "iteration 314\n",
      "step: 0.27 seconds\n",
      "score: 0.294014\n",
      "iteration 315\n",
      "step: 0.27 seconds\n",
      "score: 0.294026\n",
      "iteration 316\n",
      "step: 0.27 seconds\n",
      "score: 0.294021\n",
      "iteration 317\n",
      "step: 0.26 seconds\n",
      "score: 0.294013\n",
      "iteration 318\n",
      "step: 0.27 seconds\n",
      "score: 0.294029\n",
      "iteration 319\n",
      "step: 0.26 seconds\n",
      "score: 0.294032\n",
      "iteration 320\n",
      "step: 0.27 seconds\n",
      "score: 0.294026\n",
      "iteration 321\n",
      "step: 0.26 seconds\n",
      "score: 0.294022\n",
      "iteration 322\n",
      "step: 0.26 seconds\n",
      "score: 0.294044\n",
      "iteration 323\n",
      "step: 0.27 seconds\n",
      "score: 0.294042\n",
      "iteration 324\n",
      "step: 0.26 seconds\n",
      "score: 0.294040\n",
      "iteration 325\n",
      "step: 0.26 seconds\n",
      "score: 0.294034\n",
      "iteration 326\n",
      "step: 0.26 seconds\n",
      "score: 0.294051\n",
      "iteration 327\n",
      "step: 0.26 seconds\n",
      "score: 0.293981\n",
      "iteration 328\n",
      "step: 0.26 seconds\n",
      "score: 0.294083\n",
      "iteration 329\n",
      "step: 0.27 seconds\n",
      "score: 0.293963\n",
      "iteration 330\n",
      "step: 0.27 seconds\n",
      "score: 0.294031\n",
      "iteration 331\n",
      "step: 0.27 seconds\n",
      "score: 0.293968\n",
      "iteration 332\n",
      "step: 0.26 seconds\n",
      "score: 0.294038\n",
      "grid search: 8.060285 seconds\n",
      "tx_best: -12.33 (voxel), ty_best: 19.43, tz_best: 9.27, theta_xy_best: -12.82 (deg)\n",
      "sigma_tx: 100.00 (voxel), sigma_ty: 100.00, sigma_tz: 100.00, sigma_theta_xy: 30.00 (deg)\n",
      "-inf 0.195872\n",
      "grid search: 6.484891 seconds\n",
      "tx_best: 54.84 (voxel), ty_best: 72.04, tz_best: 2.45, theta_xy_best: -24.76 (deg)\n",
      "sigma_tx: 71.65 (voxel), sigma_ty: 71.65, sigma_tz: 71.65, sigma_theta_xy: 21.50 (deg)\n",
      "0.195872 0.217977\n"
     ]
    },
    {
     "name": "stderr",
     "output_type": "stream",
     "text": [
      "grid search: 5.663694 seconds\n",
      "tx_best: 67.32 (voxel), ty_best: 58.26, tz_best: 4.34, theta_xy_best: -17.36 (deg)\n",
      "sigma_tx: 51.34 (voxel), sigma_ty: 51.34, sigma_tz: 51.34, sigma_theta_xy: 15.40 (deg)\n",
      "0.217977 0.247468\n",
      "grid search: 5.122275 seconds\n",
      "tx_best: 67.32 (voxel), ty_best: 58.26, tz_best: 4.34, theta_xy_best: -17.36 (deg)\n",
      "sigma_tx: 36.79 (voxel), sigma_ty: 36.79, sigma_tz: 36.79, sigma_theta_xy: 11.04 (deg)\n",
      "grid search: 4.386797 seconds\n",
      "tx_best: 76.26 (voxel), ty_best: 67.56, tz_best: -0.60, theta_xy_best: -9.79 (deg)\n",
      "sigma_tx: 26.36 (voxel), sigma_ty: 26.36, sigma_tz: 26.36, sigma_theta_xy: 7.91 (deg)\n",
      "0.247468 0.261336\n",
      "grid search: 3.946778 seconds\n",
      "tx_best: 91.32 (voxel), ty_best: 62.12, tz_best: -2.26, theta_xy_best: -5.78 (deg)\n",
      "sigma_tx: 18.89 (voxel), sigma_ty: 18.89, sigma_tz: 18.89, sigma_theta_xy: 5.67 (deg)\n",
      "0.261336 0.273853\n",
      "grid search: 3.762670 seconds\n",
      "tx_best: 89.78 (voxel), ty_best: 62.98, tz_best: -1.07, theta_xy_best: -7.76 (deg)\n",
      "sigma_tx: 13.53 (voxel), sigma_ty: 13.53, sigma_tz: 13.53, sigma_theta_xy: 4.06 (deg)\n",
      "0.273853 0.275936\n",
      "grid search: 3.578828 seconds\n",
      "tx_best: 98.27 (voxel), ty_best: 62.61, tz_best: 1.03, theta_xy_best: -4.87 (deg)\n",
      "sigma_tx: 9.70 (voxel), sigma_ty: 9.70, sigma_tz: 9.70, sigma_theta_xy: 2.91 (deg)\n",
      "0.275936 0.277556\n",
      "iteration 0\n"
     ]
    },
    {
     "name": "stdout",
     "output_type": "stream",
     "text": [
      "params_best_upToNow [  9.82680263e+01   6.26071209e+01   1.02865863e+00  -8.50496777e-02]\n"
     ]
    },
    {
     "name": "stderr",
     "output_type": "stream",
     "text": [
      "step: 0.26 seconds\n",
      "score: 0.277556\n",
      "iteration 1\n",
      "step: 0.26 seconds\n",
      "score: 0.217185\n",
      "iteration 2\n",
      "step: 0.26 seconds\n",
      "score: 0.170052\n",
      "iteration 3\n",
      "step: 0.26 seconds\n",
      "score: 0.237298\n",
      "iteration 4\n",
      "step: 0.26 seconds\n",
      "score: 0.251777\n",
      "iteration 5\n",
      "step: 0.26 seconds\n",
      "score: 0.238939\n",
      "iteration 6\n",
      "step: 0.26 seconds\n",
      "score: 0.295850\n",
      "iteration 7\n",
      "step: 0.26 seconds\n",
      "score: 0.246136\n",
      "iteration 8\n",
      "step: 0.26 seconds\n",
      "score: 0.277977\n",
      "iteration 9\n",
      "step: 0.26 seconds\n",
      "score: 0.291930\n",
      "iteration 10\n",
      "step: 0.26 seconds\n",
      "score: 0.256397\n",
      "iteration 11\n",
      "step: 0.26 seconds\n",
      "score: 0.289200\n",
      "iteration 12\n",
      "step: 0.26 seconds\n",
      "score: 0.280790\n",
      "iteration 13\n",
      "step: 0.26 seconds\n",
      "score: 0.292112\n",
      "iteration 14\n",
      "step: 0.26 seconds\n",
      "score: 0.284836\n",
      "iteration 15\n",
      "step: 0.26 seconds\n",
      "score: 0.301433\n",
      "iteration 16\n",
      "step: 0.26 seconds\n",
      "score: 0.282470\n",
      "iteration 17\n",
      "step: 0.26 seconds\n",
      "score: 0.310989\n",
      "iteration 18\n",
      "step: 0.26 seconds\n",
      "score: 0.293869\n",
      "iteration 19\n",
      "step: 0.26 seconds\n",
      "score: 0.298783\n",
      "iteration 20\n",
      "step: 0.26 seconds\n",
      "score: 0.280016\n",
      "iteration 21\n",
      "step: 0.26 seconds\n",
      "score: 0.313046\n",
      "iteration 22\n",
      "step: 0.26 seconds\n",
      "score: 0.316260\n",
      "iteration 23\n",
      "step: 0.26 seconds\n",
      "score: 0.313202\n",
      "iteration 24\n",
      "step: 0.26 seconds\n",
      "score: 0.301027\n",
      "iteration 25\n",
      "step: 0.26 seconds\n",
      "score: 0.309351\n",
      "iteration 26\n",
      "step: 0.26 seconds\n",
      "score: 0.298838\n",
      "iteration 27\n",
      "step: 0.26 seconds\n",
      "score: 0.314061\n",
      "iteration 28\n",
      "step: 0.26 seconds\n",
      "score: 0.307784\n",
      "iteration 29\n",
      "step: 0.26 seconds\n",
      "score: 0.311972\n",
      "iteration 30\n",
      "step: 0.26 seconds\n",
      "score: 0.304392\n",
      "iteration 31\n",
      "step: 0.26 seconds\n",
      "score: 0.314645\n",
      "iteration 32\n",
      "step: 0.26 seconds\n",
      "score: 0.310609\n",
      "iteration 33\n",
      "step: 0.26 seconds\n",
      "score: 0.314885\n",
      "iteration 34\n",
      "step: 0.26 seconds\n",
      "score: 0.310506\n",
      "iteration 35\n",
      "step: 0.26 seconds\n",
      "score: 0.315508\n",
      "iteration 36\n",
      "step: 0.26 seconds\n",
      "score: 0.311921\n",
      "iteration 37\n",
      "step: 0.26 seconds\n",
      "score: 0.316086\n",
      "iteration 38\n",
      "step: 0.26 seconds\n",
      "score: 0.313422\n",
      "iteration 39\n",
      "step: 0.26 seconds\n",
      "score: 0.316317\n",
      "iteration 40\n",
      "step: 0.26 seconds\n",
      "score: 0.314103\n",
      "iteration 41\n",
      "step: 0.26 seconds\n",
      "score: 0.316637\n",
      "iteration 42\n",
      "step: 0.26 seconds\n",
      "score: 0.314606\n",
      "iteration 43\n",
      "step: 0.26 seconds\n",
      "score: 0.316887\n",
      "iteration 44\n",
      "step: 0.26 seconds\n",
      "score: 0.315106\n",
      "iteration 45\n",
      "step: 0.26 seconds\n",
      "score: 0.317182\n",
      "iteration 46\n",
      "step: 0.26 seconds\n",
      "score: 0.315890\n",
      "iteration 47\n",
      "step: 0.26 seconds\n",
      "score: 0.317701\n",
      "iteration 48\n",
      "step: 0.26 seconds\n",
      "score: 0.316772\n",
      "iteration 49\n",
      "step: 0.26 seconds\n",
      "score: 0.318314\n",
      "iteration 50\n",
      "step: 0.26 seconds\n",
      "score: 0.317600\n",
      "iteration 51\n",
      "step: 0.26 seconds\n",
      "score: 0.318595\n",
      "iteration 52\n",
      "step: 0.26 seconds\n",
      "score: 0.318190\n",
      "iteration 53\n",
      "step: 0.26 seconds\n",
      "score: 0.318942\n",
      "iteration 54\n",
      "step: 0.26 seconds\n",
      "score: 0.318585\n",
      "iteration 55\n",
      "step: 0.26 seconds\n",
      "score: 0.319271\n",
      "iteration 56\n",
      "step: 0.26 seconds\n",
      "score: 0.318749\n",
      "iteration 57\n",
      "step: 0.26 seconds\n",
      "score: 0.319294\n",
      "iteration 58\n",
      "step: 0.26 seconds\n",
      "score: 0.318811\n",
      "iteration 59\n",
      "step: 0.26 seconds\n",
      "score: 0.319392\n",
      "iteration 60\n",
      "step: 0.26 seconds\n",
      "score: 0.318817\n",
      "iteration 61\n",
      "step: 0.26 seconds\n",
      "score: 0.319467\n",
      "iteration 62\n",
      "step: 0.26 seconds\n",
      "score: 0.318878\n",
      "iteration 63\n",
      "step: 0.26 seconds\n",
      "score: 0.319556\n",
      "iteration 64\n",
      "step: 0.26 seconds\n",
      "score: 0.319041\n",
      "iteration 65\n",
      "step: 0.26 seconds\n",
      "score: 0.319610\n",
      "iteration 66\n",
      "step: 0.26 seconds\n",
      "score: 0.319029\n",
      "iteration 67\n",
      "step: 0.26 seconds\n",
      "score: 0.319636\n",
      "iteration 68\n",
      "step: 0.26 seconds\n",
      "score: 0.319127\n",
      "iteration 69\n",
      "step: 0.26 seconds\n",
      "score: 0.319732\n",
      "iteration 70\n",
      "step: 0.26 seconds\n",
      "score: 0.319232\n",
      "iteration 71\n",
      "step: 0.26 seconds\n",
      "score: 0.319666\n",
      "iteration 72\n",
      "step: 0.26 seconds\n",
      "score: 0.319289\n",
      "iteration 73\n",
      "step: 0.26 seconds\n",
      "score: 0.319711\n",
      "iteration 74\n",
      "step: 0.26 seconds\n",
      "score: 0.319353\n",
      "iteration 75\n",
      "step: 0.26 seconds\n",
      "score: 0.319771\n",
      "iteration 76\n",
      "step: 0.26 seconds\n",
      "score: 0.319492\n",
      "iteration 77\n",
      "step: 0.26 seconds\n",
      "score: 0.319796\n",
      "iteration 78\n",
      "step: 0.26 seconds\n",
      "score: 0.319476\n",
      "iteration 79\n",
      "step: 0.26 seconds\n",
      "score: 0.319770\n",
      "iteration 80\n",
      "step: 0.26 seconds\n",
      "score: 0.319504\n",
      "iteration 81\n",
      "step: 0.26 seconds\n",
      "score: 0.319794\n",
      "iteration 82\n",
      "step: 0.26 seconds\n",
      "score: 0.319597\n",
      "iteration 83\n",
      "step: 0.26 seconds\n",
      "score: 0.319906\n",
      "iteration 84\n",
      "step: 0.26 seconds\n",
      "score: 0.319676\n",
      "iteration 85\n",
      "step: 0.26 seconds\n",
      "score: 0.319839\n",
      "iteration 86\n",
      "step: 0.26 seconds\n",
      "score: 0.319672\n",
      "iteration 87\n",
      "step: 0.26 seconds\n",
      "score: 0.319940\n",
      "iteration 88\n",
      "step: 0.26 seconds\n",
      "score: 0.319780\n",
      "iteration 89\n",
      "step: 0.26 seconds\n",
      "score: 0.319969\n",
      "iteration 90\n",
      "step: 0.26 seconds\n",
      "score: 0.319836\n",
      "iteration 91\n",
      "step: 0.26 seconds\n",
      "score: 0.320069\n",
      "iteration 92\n",
      "step: 0.26 seconds\n",
      "score: 0.320024\n",
      "iteration 93\n",
      "step: 0.26 seconds\n",
      "score: 0.320101\n",
      "iteration 94\n",
      "step: 0.26 seconds\n",
      "score: 0.320066\n",
      "iteration 95\n",
      "step: 0.26 seconds\n",
      "score: 0.320056\n",
      "iteration 96\n",
      "step: 0.26 seconds\n",
      "score: 0.320031\n",
      "iteration 97\n",
      "step: 0.26 seconds\n",
      "score: 0.320157\n",
      "iteration 98\n",
      "step: 0.26 seconds\n",
      "score: 0.320099\n",
      "iteration 99\n",
      "step: 0.26 seconds\n",
      "score: 0.320185\n",
      "iteration 100\n",
      "step: 0.26 seconds\n",
      "score: 0.320259\n",
      "iteration 101\n",
      "step: 0.26 seconds\n",
      "score: 0.320299\n",
      "iteration 102\n",
      "step: 0.26 seconds\n",
      "score: 0.320406\n",
      "iteration 103\n",
      "step: 0.26 seconds\n",
      "score: 0.320435\n",
      "iteration 104\n",
      "step: 0.26 seconds\n",
      "score: 0.320446\n",
      "iteration 105\n",
      "step: 0.26 seconds\n",
      "score: 0.320418\n",
      "iteration 106\n",
      "step: 0.26 seconds\n",
      "score: 0.320460\n",
      "iteration 107\n",
      "step: 0.26 seconds\n",
      "score: 0.320491\n",
      "iteration 108\n",
      "step: 0.26 seconds\n",
      "score: 0.320435\n",
      "iteration 109\n",
      "step: 0.26 seconds\n",
      "score: 0.320433\n",
      "iteration 110\n",
      "step: 0.26 seconds\n",
      "score: 0.320582\n",
      "iteration 111\n",
      "step: 0.26 seconds\n",
      "score: 0.320581\n",
      "iteration 112\n",
      "step: 0.26 seconds\n",
      "score: 0.320631\n",
      "iteration 113\n",
      "step: 0.26 seconds\n",
      "score: 0.320552\n",
      "iteration 114\n",
      "step: 0.26 seconds\n",
      "score: 0.320593\n",
      "iteration 115\n",
      "step: 0.27 seconds\n",
      "score: 0.320526\n",
      "iteration 116\n",
      "step: 0.27 seconds\n",
      "score: 0.320645\n",
      "iteration 117\n",
      "step: 0.26 seconds\n",
      "score: 0.320660\n",
      "iteration 118\n",
      "step: 0.26 seconds\n",
      "score: 0.320714\n",
      "iteration 119\n",
      "step: 0.26 seconds\n",
      "score: 0.320632\n",
      "iteration 120\n",
      "step: 0.26 seconds\n",
      "score: 0.320752\n",
      "iteration 121\n",
      "step: 0.26 seconds\n",
      "score: 0.320679\n",
      "iteration 122\n",
      "step: 0.26 seconds\n",
      "score: 0.320779\n",
      "iteration 123\n",
      "step: 0.26 seconds\n",
      "score: 0.320651\n",
      "iteration 124\n",
      "step: 0.26 seconds\n",
      "score: 0.320787\n",
      "iteration 125\n",
      "step: 0.26 seconds\n",
      "score: 0.320666\n",
      "iteration 126\n",
      "step: 0.26 seconds\n",
      "score: 0.320796\n",
      "iteration 127\n",
      "step: 0.26 seconds\n",
      "score: 0.320695\n",
      "iteration 128\n",
      "step: 0.26 seconds\n",
      "score: 0.320754\n",
      "iteration 129\n",
      "step: 0.26 seconds\n",
      "score: 0.320802\n",
      "iteration 130\n",
      "step: 0.26 seconds\n",
      "score: 0.320711\n",
      "iteration 131\n",
      "step: 0.26 seconds\n",
      "score: 0.320781\n",
      "iteration 132\n",
      "step: 0.26 seconds\n",
      "score: 0.320687\n",
      "iteration 133\n",
      "step: 0.26 seconds\n",
      "score: 0.320804\n",
      "iteration 134\n",
      "step: 0.26 seconds\n",
      "score: 0.320695\n",
      "iteration 135\n",
      "step: 0.26 seconds\n",
      "score: 0.320810\n",
      "iteration 136\n",
      "step: 0.26 seconds\n",
      "score: 0.320748\n",
      "iteration 137\n",
      "step: 0.26 seconds\n",
      "score: 0.320788\n",
      "iteration 138\n",
      "step: 0.26 seconds\n",
      "score: 0.320726\n",
      "iteration 139\n",
      "step: 0.26 seconds\n",
      "score: 0.320759\n",
      "iteration 140\n",
      "step: 0.26 seconds\n",
      "score: 0.320713\n",
      "iteration 141\n",
      "step: 0.26 seconds\n",
      "score: 0.320751\n",
      "iteration 142\n",
      "step: 0.26 seconds\n",
      "score: 0.320756\n",
      "grid search: 8.464639 seconds\n",
      "tx_best: 69.64 (voxel), ty_best: 59.38, tz_best: -1.75, theta_xy_best: -13.92 (deg)\n",
      "sigma_tx: 100.00 (voxel), sigma_ty: 100.00, sigma_tz: 100.00, sigma_theta_xy: 30.00 (deg)\n",
      "-inf 0.247573\n",
      "grid search: 6.489017 seconds\n",
      "tx_best: 79.84 (voxel), ty_best: 59.08, tz_best: -5.85, theta_xy_best: -10.06 (deg)\n",
      "sigma_tx: 71.65 (voxel), sigma_ty: 71.65, sigma_tz: 71.65, sigma_theta_xy: 21.50 (deg)\n",
      "0.247573 0.249793\n",
      "grid search: 5.874436 seconds\n",
      "tx_best: 79.84 (voxel), ty_best: 59.08, tz_best: -5.85, theta_xy_best: -10.06 (deg)\n",
      "sigma_tx: 51.34 (voxel), sigma_ty: 51.34, sigma_tz: 51.34, sigma_theta_xy: 15.40 (deg)\n",
      "grid search: 5.026879 seconds\n",
      "tx_best: 100.33 (voxel), ty_best: 60.64, tz_best: 5.46, theta_xy_best: -5.04 (deg)\n",
      "sigma_tx: 36.79 (voxel), sigma_ty: 36.79, sigma_tz: 36.79, sigma_theta_xy: 11.04 (deg)\n",
      "0.249793 0.270476\n",
      "grid search: 4.335166 seconds\n",
      "tx_best: 100.33 (voxel), ty_best: 60.64, tz_best: 5.46, theta_xy_best: -5.04 (deg)\n",
      "sigma_tx: 26.36 (voxel), sigma_ty: 26.36, sigma_tz: 26.36, sigma_theta_xy: 7.91 (deg)\n",
      "grid search: 3.816476 seconds\n",
      "tx_best: 96.05 (voxel), ty_best: 65.45, tz_best: -0.36, theta_xy_best: -5.28 (deg)\n",
      "sigma_tx: 18.89 (voxel), sigma_ty: 18.89, sigma_tz: 18.89, sigma_theta_xy: 5.67 (deg)\n",
      "0.270476 0.275194\n",
      "grid search: 3.602984 seconds\n",
      "tx_best: 90.15 (voxel), ty_best: 62.95, tz_best: 4.41, theta_xy_best: -8.06 (deg)\n",
      "sigma_tx: 13.53 (voxel), sigma_ty: 13.53, sigma_tz: 13.53, sigma_theta_xy: 4.06 (deg)\n",
      "0.275194 0.277056\n"
     ]
    },
    {
     "name": "stderr",
     "output_type": "stream",
     "text": [
      "grid search: 3.281966 seconds\n",
      "tx_best: 87.09 (voxel), ty_best: 62.74, tz_best: 1.16, theta_xy_best: -7.94 (deg)\n",
      "sigma_tx: 9.70 (voxel), sigma_ty: 9.70, sigma_tz: 9.70, sigma_theta_xy: 2.91 (deg)\n",
      "0.277056 0.277994\n",
      "iteration 0\n"
     ]
    },
    {
     "name": "stdout",
     "output_type": "stream",
     "text": [
      "params_best_upToNow [ 87.09083166  62.74068929   1.16298588  -0.13857352]\n"
     ]
    },
    {
     "name": "stderr",
     "output_type": "stream",
     "text": [
      "step: 0.26 seconds\n",
      "score: 0.277994\n",
      "iteration 1\n",
      "step: 0.26 seconds\n",
      "score: 0.167089\n",
      "iteration 2\n",
      "step: 0.26 seconds\n",
      "score: 0.191893\n",
      "iteration 3\n",
      "step: 0.26 seconds\n",
      "score: 0.207270\n",
      "iteration 4\n",
      "step: 0.26 seconds\n",
      "score: 0.225408\n",
      "iteration 5\n",
      "step: 0.26 seconds\n",
      "score: 0.244237\n",
      "iteration 6\n",
      "step: 0.26 seconds\n",
      "score: 0.242770\n",
      "iteration 7\n",
      "step: 0.26 seconds\n",
      "score: 0.237426\n",
      "iteration 8\n",
      "step: 0.26 seconds\n",
      "score: 0.271084\n",
      "iteration 9\n",
      "step: 0.26 seconds\n",
      "score: 0.285798\n",
      "iteration 10\n",
      "step: 0.26 seconds\n",
      "score: 0.253151\n",
      "iteration 11\n",
      "step: 0.26 seconds\n",
      "score: 0.269145\n",
      "iteration 12\n",
      "step: 0.26 seconds\n",
      "score: 0.291219\n",
      "iteration 13\n",
      "step: 0.26 seconds\n",
      "score: 0.273655\n",
      "iteration 14\n",
      "step: 0.26 seconds\n",
      "score: 0.297846\n",
      "iteration 15\n",
      "step: 0.26 seconds\n",
      "score: 0.284608\n",
      "iteration 16\n",
      "step: 0.26 seconds\n",
      "score: 0.299751\n",
      "iteration 17\n",
      "step: 0.26 seconds\n",
      "score: 0.285110\n",
      "iteration 18\n",
      "step: 0.26 seconds\n",
      "score: 0.308446\n",
      "iteration 19\n",
      "step: 0.26 seconds\n",
      "score: 0.291990\n",
      "iteration 20\n",
      "step: 0.26 seconds\n",
      "score: 0.302451\n",
      "iteration 21\n",
      "step: 0.26 seconds\n",
      "score: 0.283785\n",
      "iteration 22\n",
      "step: 0.26 seconds\n",
      "score: 0.309925\n",
      "iteration 23\n",
      "step: 0.26 seconds\n",
      "score: 0.302250\n",
      "iteration 24\n",
      "step: 0.26 seconds\n",
      "score: 0.302059\n",
      "iteration 25\n",
      "step: 0.26 seconds\n",
      "score: 0.300221\n",
      "iteration 26\n",
      "step: 0.26 seconds\n",
      "score: 0.309191\n",
      "iteration 27\n",
      "step: 0.26 seconds\n",
      "score: 0.306525\n",
      "iteration 28\n",
      "step: 0.26 seconds\n",
      "score: 0.310782\n",
      "iteration 29\n",
      "step: 0.26 seconds\n",
      "score: 0.304580\n",
      "iteration 30\n",
      "step: 0.26 seconds\n",
      "score: 0.311297\n",
      "iteration 31\n",
      "step: 0.26 seconds\n",
      "score: 0.301500\n",
      "iteration 32\n",
      "step: 0.26 seconds\n",
      "score: 0.314606\n",
      "iteration 33\n",
      "step: 0.26 seconds\n",
      "score: 0.309110\n",
      "iteration 34\n",
      "step: 0.26 seconds\n",
      "score: 0.314238\n",
      "iteration 35\n",
      "step: 0.26 seconds\n",
      "score: 0.308570\n",
      "iteration 36\n",
      "step: 0.26 seconds\n",
      "score: 0.315681\n",
      "iteration 37\n",
      "step: 0.26 seconds\n",
      "score: 0.311836\n",
      "iteration 38\n",
      "step: 0.26 seconds\n",
      "score: 0.315748\n",
      "iteration 39\n",
      "step: 0.26 seconds\n",
      "score: 0.312321\n",
      "iteration 40\n",
      "step: 0.26 seconds\n",
      "score: 0.316488\n",
      "iteration 41\n",
      "step: 0.26 seconds\n",
      "score: 0.313757\n",
      "iteration 42\n",
      "step: 0.26 seconds\n",
      "score: 0.317486\n",
      "iteration 43\n",
      "step: 0.26 seconds\n",
      "score: 0.315356\n",
      "iteration 44\n",
      "step: 0.26 seconds\n",
      "score: 0.317564\n",
      "iteration 45\n",
      "step: 0.26 seconds\n",
      "score: 0.315770\n",
      "iteration 46\n",
      "step: 0.26 seconds\n",
      "score: 0.317928\n",
      "iteration 47\n",
      "step: 0.26 seconds\n",
      "score: 0.316278\n",
      "iteration 48\n",
      "step: 0.26 seconds\n",
      "score: 0.318043\n",
      "iteration 49\n",
      "step: 0.26 seconds\n",
      "score: 0.316798\n",
      "iteration 50\n",
      "step: 0.26 seconds\n",
      "score: 0.318142\n",
      "iteration 51\n",
      "step: 0.26 seconds\n",
      "score: 0.317004\n",
      "iteration 52\n",
      "step: 0.26 seconds\n",
      "score: 0.318447\n",
      "iteration 53\n",
      "step: 0.26 seconds\n",
      "score: 0.317452\n",
      "iteration 54\n",
      "step: 0.26 seconds\n",
      "score: 0.318827\n",
      "iteration 55\n",
      "step: 0.26 seconds\n",
      "score: 0.318009\n",
      "iteration 56\n",
      "step: 0.26 seconds\n",
      "score: 0.319174\n",
      "iteration 57\n",
      "step: 0.26 seconds\n",
      "score: 0.318523\n",
      "iteration 58\n",
      "step: 0.26 seconds\n",
      "score: 0.319452\n",
      "iteration 59\n",
      "step: 0.26 seconds\n",
      "score: 0.318887\n",
      "iteration 60\n",
      "step: 0.26 seconds\n",
      "score: 0.319577\n",
      "iteration 61\n",
      "step: 0.26 seconds\n",
      "score: 0.319223\n",
      "iteration 62\n",
      "step: 0.26 seconds\n",
      "score: 0.319800\n",
      "iteration 63\n",
      "step: 0.26 seconds\n",
      "score: 0.319530\n",
      "iteration 64\n",
      "step: 0.26 seconds\n",
      "score: 0.319905\n",
      "iteration 65\n",
      "step: 0.26 seconds\n",
      "score: 0.319700\n",
      "iteration 66\n",
      "step: 0.26 seconds\n",
      "score: 0.320030\n",
      "iteration 67\n",
      "step: 0.26 seconds\n",
      "score: 0.319849\n",
      "iteration 68\n",
      "step: 0.26 seconds\n",
      "score: 0.320162\n",
      "iteration 69\n",
      "step: 0.26 seconds\n",
      "score: 0.319992\n",
      "iteration 70\n",
      "step: 0.26 seconds\n",
      "score: 0.320265\n",
      "iteration 71\n",
      "step: 0.26 seconds\n",
      "score: 0.320158\n",
      "iteration 72\n",
      "step: 0.26 seconds\n",
      "score: 0.320217\n",
      "iteration 73\n",
      "step: 0.26 seconds\n",
      "score: 0.320028\n",
      "iteration 74\n",
      "step: 0.26 seconds\n",
      "score: 0.320190\n",
      "iteration 75\n",
      "step: 0.26 seconds\n",
      "score: 0.320029\n",
      "iteration 76\n",
      "step: 0.26 seconds\n",
      "score: 0.320263\n",
      "iteration 77\n",
      "step: 0.26 seconds\n",
      "score: 0.320145\n",
      "iteration 78\n",
      "step: 0.26 seconds\n",
      "score: 0.320193\n",
      "iteration 79\n",
      "step: 0.26 seconds\n",
      "score: 0.320004\n",
      "iteration 80\n",
      "step: 0.26 seconds\n",
      "score: 0.320247\n",
      "iteration 81\n",
      "step: 0.26 seconds\n",
      "score: 0.320097\n",
      "iteration 82\n",
      "step: 0.26 seconds\n",
      "score: 0.320209\n",
      "iteration 83\n",
      "step: 0.26 seconds\n",
      "score: 0.320140\n",
      "iteration 84\n",
      "step: 0.26 seconds\n",
      "score: 0.320222\n",
      "iteration 85\n",
      "step: 0.26 seconds\n",
      "score: 0.320081\n",
      "iteration 86\n",
      "step: 0.26 seconds\n",
      "score: 0.320297\n",
      "iteration 87\n",
      "step: 0.26 seconds\n",
      "score: 0.320188\n",
      "iteration 88\n",
      "step: 0.26 seconds\n",
      "score: 0.320305\n",
      "iteration 89\n",
      "step: 0.26 seconds\n",
      "score: 0.320183\n",
      "iteration 90\n",
      "step: 0.26 seconds\n",
      "score: 0.320376\n",
      "iteration 91\n",
      "step: 0.26 seconds\n",
      "score: 0.320231\n",
      "iteration 92\n",
      "step: 0.26 seconds\n",
      "score: 0.320338\n",
      "iteration 93\n",
      "step: 0.26 seconds\n",
      "score: 0.320205\n",
      "iteration 94\n",
      "step: 0.26 seconds\n",
      "score: 0.320314\n",
      "iteration 95\n",
      "step: 0.26 seconds\n",
      "score: 0.320139\n",
      "iteration 96\n",
      "step: 0.26 seconds\n",
      "score: 0.320357\n",
      "iteration 97\n",
      "step: 0.26 seconds\n",
      "score: 0.320199\n",
      "iteration 98\n",
      "step: 0.26 seconds\n",
      "score: 0.320377\n",
      "iteration 99\n",
      "step: 0.26 seconds\n",
      "score: 0.320223\n",
      "iteration 100\n",
      "step: 0.26 seconds\n",
      "score: 0.320340\n",
      "iteration 101\n",
      "step: 0.26 seconds\n",
      "score: 0.320214\n",
      "iteration 102\n",
      "step: 0.26 seconds\n",
      "score: 0.320353\n",
      "iteration 103\n",
      "step: 0.26 seconds\n",
      "score: 0.320204\n",
      "iteration 104\n",
      "step: 0.26 seconds\n",
      "score: 0.320293\n",
      "iteration 105\n",
      "step: 0.26 seconds\n",
      "score: 0.320149\n",
      "iteration 106\n",
      "step: 0.26 seconds\n",
      "score: 0.320350\n",
      "iteration 107\n",
      "step: 0.26 seconds\n",
      "score: 0.320231\n",
      "grid search: 8.083380 seconds\n",
      "tx_best: -41.42 (voxel), ty_best: 16.23, tz_best: 6.69, theta_xy_best: -24.31 (deg)\n",
      "sigma_tx: 100.00 (voxel), sigma_ty: 100.00, sigma_tz: 100.00, sigma_theta_xy: 30.00 (deg)\n",
      "-inf 0.200444\n",
      "grid search: 6.816058 seconds\n",
      "tx_best: -11.29 (voxel), ty_best: 54.05, tz_best: -6.56, theta_xy_best: -10.58 (deg)\n",
      "sigma_tx: 71.65 (voxel), sigma_ty: 71.65, sigma_tz: 71.65, sigma_theta_xy: 21.50 (deg)\n",
      "0.200444 0.214384\n",
      "grid search: 5.526149 seconds\n",
      "tx_best: -21.25 (voxel), ty_best: 42.56, tz_best: -2.55, theta_xy_best: -15.22 (deg)\n",
      "sigma_tx: 51.34 (voxel), sigma_ty: 51.34, sigma_tz: 51.34, sigma_theta_xy: 15.40 (deg)\n",
      "0.214384 0.218673\n",
      "grid search: 4.688707 seconds\n",
      "tx_best: -21.25 (voxel), ty_best: 42.56, tz_best: -2.55, theta_xy_best: -15.22 (deg)\n",
      "sigma_tx: 36.79 (voxel), sigma_ty: 36.79, sigma_tz: 36.79, sigma_theta_xy: 11.04 (deg)\n",
      "grid search: 4.179338 seconds\n",
      "tx_best: -21.25 (voxel), ty_best: 42.56, tz_best: -2.55, theta_xy_best: -15.22 (deg)\n",
      "sigma_tx: 26.36 (voxel), sigma_ty: 26.36, sigma_tz: 26.36, sigma_theta_xy: 7.91 (deg)\n",
      "grid search: 3.781333 seconds\n",
      "tx_best: -21.25 (voxel), ty_best: 42.56, tz_best: -2.55, theta_xy_best: -15.22 (deg)\n",
      "sigma_tx: 18.89 (voxel), sigma_ty: 18.89, sigma_tz: 18.89, sigma_theta_xy: 5.67 (deg)\n",
      "grid search: 3.573668 seconds\n",
      "tx_best: -31.00 (voxel), ty_best: 46.87, tz_best: -5.84, theta_xy_best: -16.35 (deg)\n",
      "sigma_tx: 13.53 (voxel), sigma_ty: 13.53, sigma_tz: 13.53, sigma_theta_xy: 4.06 (deg)\n",
      "0.218673 0.218944\n",
      "grid search: 3.320729 seconds\n",
      "tx_best: -33.98 (voxel), ty_best: 43.83, tz_best: -2.12, theta_xy_best: -17.41 (deg)\n",
      "sigma_tx: 9.70 (voxel), sigma_ty: 9.70, sigma_tz: 9.70, sigma_theta_xy: 2.91 (deg)\n",
      "0.218944 0.219597\n",
      "iteration 0\n"
     ]
    },
    {
     "name": "stdout",
     "output_type": "stream",
     "text": [
      "params_best_upToNow [-33.97926546  43.83268638  -2.12156589  -0.30383498]\n"
     ]
    },
    {
     "name": "stderr",
     "output_type": "stream",
     "text": [
      "step: 0.26 seconds\n",
      "score: 0.219597\n",
      "iteration 1\n",
      "step: 0.27 seconds\n",
      "score: 0.210075\n",
      "iteration 2\n",
      "step: 0.26 seconds\n",
      "score: 0.189952\n",
      "iteration 3\n",
      "step: 0.26 seconds\n",
      "score: 0.232311\n",
      "iteration 4\n",
      "step: 0.26 seconds\n",
      "score: 0.233103\n",
      "iteration 5\n",
      "step: 0.27 seconds\n",
      "score: 0.224978\n",
      "iteration 6\n",
      "step: 0.27 seconds\n",
      "score: 0.243290\n",
      "iteration 7\n",
      "step: 0.27 seconds\n",
      "score: 0.239571\n",
      "iteration 8\n",
      "step: 0.27 seconds\n",
      "score: 0.248824\n",
      "iteration 9\n",
      "step: 0.27 seconds\n",
      "score: 0.254744\n",
      "iteration 10\n",
      "step: 0.27 seconds\n",
      "score: 0.253089\n",
      "iteration 11\n",
      "step: 0.27 seconds\n",
      "score: 0.253516\n",
      "iteration 12\n",
      "step: 0.27 seconds\n",
      "score: 0.256631\n",
      "iteration 13\n",
      "step: 0.27 seconds\n",
      "score: 0.255906\n",
      "iteration 14\n",
      "step: 0.27 seconds\n",
      "score: 0.256480\n",
      "iteration 15\n",
      "step: 0.27 seconds\n",
      "score: 0.257386\n",
      "iteration 16\n",
      "step: 0.27 seconds\n",
      "score: 0.259005\n",
      "iteration 17\n",
      "step: 0.27 seconds\n",
      "score: 0.258488\n",
      "iteration 18\n",
      "step: 0.27 seconds\n",
      "score: 0.258770\n",
      "iteration 19\n",
      "step: 0.27 seconds\n",
      "score: 0.258487\n",
      "iteration 20\n",
      "step: 0.27 seconds\n",
      "score: 0.259416\n",
      "iteration 21\n",
      "step: 0.27 seconds\n",
      "score: 0.259868\n",
      "iteration 22\n",
      "step: 0.27 seconds\n",
      "score: 0.260301\n",
      "iteration 23\n",
      "step: 0.27 seconds\n",
      "score: 0.261081\n",
      "iteration 24\n",
      "step: 0.27 seconds\n",
      "score: 0.260908\n",
      "iteration 25\n",
      "step: 0.27 seconds\n",
      "score: 0.260719\n",
      "iteration 26\n",
      "step: 0.27 seconds\n",
      "score: 0.261727\n",
      "iteration 27\n",
      "step: 0.27 seconds\n",
      "score: 0.261272\n",
      "iteration 28\n",
      "step: 0.27 seconds\n",
      "score: 0.261866\n",
      "iteration 29\n",
      "step: 0.27 seconds\n",
      "score: 0.262136\n",
      "iteration 30\n",
      "step: 0.27 seconds\n",
      "score: 0.261794\n",
      "iteration 31\n",
      "step: 0.27 seconds\n",
      "score: 0.261553\n",
      "iteration 32\n",
      "step: 0.27 seconds\n",
      "score: 0.262403\n",
      "iteration 33\n",
      "step: 0.27 seconds\n",
      "score: 0.262267\n",
      "iteration 34\n",
      "step: 0.27 seconds\n",
      "score: 0.261649\n",
      "iteration 35\n",
      "step: 0.27 seconds\n",
      "score: 0.262539\n",
      "iteration 36\n",
      "step: 0.27 seconds\n",
      "score: 0.262016\n",
      "iteration 37\n",
      "step: 0.27 seconds\n",
      "score: 0.262074\n",
      "iteration 38\n",
      "step: 0.27 seconds\n",
      "score: 0.261243\n",
      "iteration 39\n",
      "step: 0.27 seconds\n",
      "score: 0.260917\n",
      "iteration 40\n",
      "step: 0.27 seconds\n",
      "score: 0.261215\n",
      "iteration 41\n",
      "step: 0.27 seconds\n",
      "score: 0.261904\n",
      "iteration 42\n",
      "step: 0.27 seconds\n",
      "score: 0.261480\n",
      "iteration 43\n",
      "step: 0.27 seconds\n",
      "score: 0.261636\n",
      "iteration 44\n",
      "step: 0.27 seconds\n",
      "score: 0.261807\n",
      "grid search: 7.630761 seconds\n",
      "tx_best: 79.72 (voxel), ty_best: 63.51, tz_best: 14.99, theta_xy_best: -18.19 (deg)\n",
      "sigma_tx: 100.00 (voxel), sigma_ty: 100.00, sigma_tz: 100.00, sigma_theta_xy: 30.00 (deg)\n",
      "-inf 0.207658\n",
      "grid search: 6.428107 seconds\n",
      "tx_best: 66.22 (voxel), ty_best: 64.57, tz_best: 11.94, theta_xy_best: -18.06 (deg)\n",
      "sigma_tx: 71.65 (voxel), sigma_ty: 71.65, sigma_tz: 71.65, sigma_theta_xy: 21.50 (deg)\n",
      "0.207658 0.231193\n",
      "grid search: 5.520083 seconds\n",
      "tx_best: 83.72 (voxel), ty_best: 68.84, tz_best: -1.85, theta_xy_best: -11.16 (deg)\n",
      "sigma_tx: 51.34 (voxel), sigma_ty: 51.34, sigma_tz: 51.34, sigma_theta_xy: 15.40 (deg)\n",
      "0.231193 0.265793\n",
      "grid search: 4.978310 seconds\n",
      "tx_best: 95.46 (voxel), ty_best: 62.12, tz_best: 3.76, theta_xy_best: -7.85 (deg)\n",
      "sigma_tx: 36.79 (voxel), sigma_ty: 36.79, sigma_tz: 36.79, sigma_theta_xy: 11.04 (deg)\n",
      "0.265793 0.273335\n",
      "grid search: 4.298559 seconds\n",
      "tx_best: 91.93 (voxel), ty_best: 65.76, tz_best: 4.62, theta_xy_best: -7.36 (deg)\n",
      "sigma_tx: 26.36 (voxel), sigma_ty: 26.36, sigma_tz: 26.36, sigma_theta_xy: 7.91 (deg)\n",
      "0.273335 0.275444\n",
      "grid search: 3.807950 seconds\n",
      "tx_best: 91.93 (voxel), ty_best: 65.76, tz_best: 4.62, theta_xy_best: -7.36 (deg)\n",
      "sigma_tx: 18.89 (voxel), sigma_ty: 18.89, sigma_tz: 18.89, sigma_theta_xy: 5.67 (deg)\n",
      "grid search: 3.604143 seconds\n",
      "tx_best: 94.16 (voxel), ty_best: 63.38, tz_best: 2.48, theta_xy_best: -5.34 (deg)\n",
      "sigma_tx: 13.53 (voxel), sigma_ty: 13.53, sigma_tz: 13.53, sigma_theta_xy: 4.06 (deg)\n",
      "0.275444 0.276920\n",
      "grid search: 3.268675 seconds\n",
      "tx_best: 94.16 (voxel), ty_best: 63.38, tz_best: 2.48, theta_xy_best: -5.34 (deg)\n",
      "sigma_tx: 9.70 (voxel), sigma_ty: 9.70, sigma_tz: 9.70, sigma_theta_xy: 2.91 (deg)\n",
      "iteration 0\n"
     ]
    },
    {
     "name": "stdout",
     "output_type": "stream",
     "text": [
      "params_best_upToNow [  9.41630857e+01   6.33772694e+01   2.48248253e+00  -9.32273637e-02]\n"
     ]
    },
    {
     "name": "stderr",
     "output_type": "stream",
     "text": [
      "step: 0.26 seconds\n",
      "score: 0.276920\n",
      "iteration 1\n",
      "step: 0.26 seconds\n",
      "score: 0.187655\n",
      "iteration 2\n",
      "step: 0.25 seconds\n",
      "score: 0.185851\n",
      "iteration 3\n",
      "step: 0.26 seconds\n",
      "score: 0.220224\n",
      "iteration 4\n",
      "step: 0.26 seconds\n",
      "score: 0.190203\n",
      "iteration 5\n",
      "step: 0.26 seconds\n",
      "score: 0.250991\n",
      "iteration 6\n",
      "step: 0.26 seconds\n",
      "score: 0.237405\n",
      "iteration 7\n",
      "step: 0.26 seconds\n",
      "score: 0.217995\n",
      "iteration 8\n",
      "step: 0.26 seconds\n",
      "score: 0.216785\n",
      "iteration 9\n",
      "step: 0.26 seconds\n",
      "score: 0.244753\n",
      "iteration 10\n",
      "step: 0.26 seconds\n",
      "score: 0.239019\n",
      "iteration 11\n",
      "step: 0.26 seconds\n",
      "score: 0.246892\n",
      "iteration 12\n",
      "step: 0.26 seconds\n",
      "score: 0.252893\n",
      "iteration 13\n",
      "step: 0.26 seconds\n",
      "score: 0.257500\n",
      "iteration 14\n",
      "step: 0.26 seconds\n",
      "score: 0.269732\n",
      "iteration 15\n",
      "step: 0.26 seconds\n",
      "score: 0.292183\n",
      "iteration 16\n",
      "step: 0.26 seconds\n",
      "score: 0.284553\n",
      "iteration 17\n",
      "step: 0.26 seconds\n",
      "score: 0.284248\n",
      "iteration 18\n",
      "step: 0.26 seconds\n",
      "score: 0.272324\n",
      "iteration 19\n",
      "step: 0.26 seconds\n",
      "score: 0.293902\n",
      "iteration 20\n",
      "step: 0.26 seconds\n",
      "score: 0.277304\n",
      "iteration 21\n",
      "step: 0.26 seconds\n",
      "score: 0.297614\n",
      "iteration 22\n",
      "step: 0.26 seconds\n",
      "score: 0.289525\n",
      "iteration 23\n",
      "step: 0.26 seconds\n",
      "score: 0.303315\n",
      "iteration 24\n",
      "step: 0.26 seconds\n",
      "score: 0.296076\n",
      "iteration 25\n",
      "step: 0.26 seconds\n",
      "score: 0.306735\n",
      "iteration 26\n",
      "step: 0.26 seconds\n",
      "score: 0.300245\n",
      "iteration 27\n",
      "step: 0.26 seconds\n",
      "score: 0.308914\n",
      "iteration 28\n",
      "step: 0.26 seconds\n",
      "score: 0.300101\n",
      "iteration 29\n",
      "step: 0.26 seconds\n",
      "score: 0.311076\n",
      "iteration 30\n",
      "step: 0.26 seconds\n",
      "score: 0.300376\n",
      "iteration 31\n",
      "step: 0.26 seconds\n",
      "score: 0.312148\n",
      "iteration 32\n",
      "step: 0.26 seconds\n",
      "score: 0.304508\n",
      "iteration 33\n",
      "step: 0.26 seconds\n",
      "score: 0.312717\n",
      "iteration 34\n",
      "step: 0.26 seconds\n",
      "score: 0.306929\n",
      "iteration 35\n",
      "step: 0.26 seconds\n",
      "score: 0.313915\n",
      "iteration 36\n",
      "step: 0.26 seconds\n",
      "score: 0.309570\n",
      "iteration 37\n",
      "step: 0.26 seconds\n",
      "score: 0.315062\n",
      "iteration 38\n",
      "step: 0.26 seconds\n",
      "score: 0.311632\n",
      "iteration 39\n",
      "step: 0.26 seconds\n",
      "score: 0.315950\n",
      "iteration 40\n",
      "step: 0.26 seconds\n",
      "score: 0.313017\n",
      "iteration 41\n",
      "step: 0.26 seconds\n",
      "score: 0.316423\n",
      "iteration 42\n",
      "step: 0.26 seconds\n",
      "score: 0.313570\n",
      "iteration 43\n",
      "step: 0.26 seconds\n",
      "score: 0.317051\n",
      "iteration 44\n",
      "step: 0.26 seconds\n",
      "score: 0.315075\n",
      "iteration 45\n",
      "step: 0.26 seconds\n",
      "score: 0.317619\n",
      "iteration 46\n",
      "step: 0.26 seconds\n",
      "score: 0.316252\n",
      "iteration 47\n",
      "step: 0.26 seconds\n",
      "score: 0.317906\n",
      "iteration 48\n",
      "step: 0.26 seconds\n",
      "score: 0.316652\n",
      "iteration 49\n",
      "step: 0.26 seconds\n",
      "score: 0.318032\n",
      "iteration 50\n",
      "step: 0.26 seconds\n",
      "score: 0.316768\n",
      "iteration 51\n",
      "step: 0.26 seconds\n",
      "score: 0.318355\n",
      "iteration 52\n",
      "step: 0.26 seconds\n",
      "score: 0.317305\n",
      "iteration 53\n",
      "step: 0.26 seconds\n",
      "score: 0.318604\n",
      "iteration 54\n",
      "step: 0.26 seconds\n",
      "score: 0.317651\n",
      "iteration 55\n",
      "step: 0.26 seconds\n",
      "score: 0.318789\n",
      "iteration 56\n",
      "step: 0.26 seconds\n",
      "score: 0.317962\n",
      "iteration 57\n",
      "step: 0.26 seconds\n",
      "score: 0.318967\n",
      "iteration 58\n",
      "step: 0.26 seconds\n",
      "score: 0.318433\n",
      "iteration 59\n",
      "step: 0.26 seconds\n",
      "score: 0.319175\n",
      "iteration 60\n",
      "step: 0.26 seconds\n",
      "score: 0.318619\n",
      "iteration 61\n",
      "step: 0.26 seconds\n",
      "score: 0.319263\n",
      "iteration 62\n",
      "step: 0.26 seconds\n",
      "score: 0.318865\n",
      "iteration 63\n",
      "step: 0.26 seconds\n",
      "score: 0.319398\n",
      "iteration 64\n",
      "step: 0.26 seconds\n",
      "score: 0.319076\n",
      "iteration 65\n",
      "step: 0.26 seconds\n",
      "score: 0.319494\n",
      "iteration 66\n",
      "step: 0.26 seconds\n",
      "score: 0.319186\n",
      "iteration 67\n",
      "step: 0.26 seconds\n",
      "score: 0.319586\n",
      "iteration 68\n",
      "step: 0.26 seconds\n",
      "score: 0.319387\n",
      "iteration 69\n",
      "step: 0.26 seconds\n",
      "score: 0.319779\n",
      "iteration 70\n",
      "step: 0.26 seconds\n",
      "score: 0.319650\n",
      "iteration 71\n",
      "step: 0.26 seconds\n",
      "score: 0.319910\n",
      "iteration 72\n",
      "step: 0.26 seconds\n",
      "score: 0.319803\n",
      "iteration 73\n",
      "step: 0.26 seconds\n",
      "score: 0.320137\n",
      "iteration 74\n",
      "step: 0.26 seconds\n",
      "score: 0.320058\n",
      "iteration 75\n",
      "step: 0.26 seconds\n",
      "score: 0.320280\n",
      "iteration 76\n",
      "step: 0.26 seconds\n",
      "score: 0.320110\n",
      "iteration 77\n",
      "step: 0.26 seconds\n",
      "score: 0.320252\n",
      "iteration 78\n",
      "step: 0.26 seconds\n",
      "score: 0.320096\n",
      "iteration 79\n",
      "step: 0.26 seconds\n",
      "score: 0.320323\n",
      "iteration 80\n",
      "step: 0.26 seconds\n",
      "score: 0.320066\n",
      "iteration 81\n",
      "step: 0.26 seconds\n",
      "score: 0.320352\n",
      "iteration 82\n",
      "step: 0.26 seconds\n",
      "score: 0.320150\n",
      "iteration 83\n",
      "step: 0.26 seconds\n",
      "score: 0.320296\n",
      "iteration 84\n",
      "step: 0.26 seconds\n",
      "score: 0.320105\n",
      "iteration 85\n",
      "step: 0.26 seconds\n",
      "score: 0.320292\n",
      "iteration 86\n",
      "step: 0.26 seconds\n",
      "score: 0.320094\n",
      "iteration 87\n",
      "step: 0.26 seconds\n",
      "score: 0.320252\n",
      "iteration 88\n",
      "step: 0.26 seconds\n",
      "score: 0.320067\n",
      "iteration 89\n",
      "step: 0.26 seconds\n",
      "score: 0.320289\n",
      "iteration 90\n",
      "step: 0.26 seconds\n",
      "score: 0.320140\n",
      "iteration 91\n",
      "step: 0.26 seconds\n",
      "score: 0.320329\n",
      "iteration 92\n",
      "step: 0.26 seconds\n",
      "score: 0.320201\n",
      "iteration 93\n",
      "step: 0.26 seconds\n",
      "score: 0.320347\n",
      "iteration 94\n",
      "step: 0.26 seconds\n",
      "score: 0.320206\n",
      "iteration 95\n",
      "step: 0.26 seconds\n",
      "score: 0.320276\n",
      "iteration 96\n",
      "step: 0.26 seconds\n",
      "score: 0.320240\n",
      "iteration 97\n",
      "step: 0.26 seconds\n",
      "score: 0.320393\n",
      "iteration 98\n",
      "step: 0.26 seconds\n",
      "score: 0.320190\n",
      "iteration 99\n",
      "step: 0.26 seconds\n",
      "score: 0.320334\n",
      "iteration 100\n",
      "step: 0.26 seconds\n",
      "score: 0.320251\n",
      "iteration 101\n",
      "step: 0.26 seconds\n",
      "score: 0.320364\n",
      "iteration 102\n",
      "step: 0.26 seconds\n",
      "score: 0.320199\n",
      "iteration 103\n",
      "step: 0.26 seconds\n",
      "score: 0.320353\n",
      "iteration 104\n",
      "step: 0.26 seconds\n",
      "score: 0.320218\n",
      "iteration 105\n",
      "step: 0.26 seconds\n",
      "score: 0.320380\n",
      "iteration 106\n",
      "step: 0.26 seconds\n",
      "score: 0.320294\n",
      "iteration 107\n",
      "step: 0.26 seconds\n",
      "score: 0.320400\n",
      "iteration 108\n",
      "step: 0.26 seconds\n",
      "score: 0.320343\n",
      "iteration 109\n",
      "step: 0.26 seconds\n",
      "score: 0.320403\n",
      "iteration 110\n",
      "step: 0.26 seconds\n",
      "score: 0.320329\n",
      "iteration 111\n",
      "step: 0.26 seconds\n",
      "score: 0.320426\n",
      "iteration 112\n",
      "step: 0.26 seconds\n",
      "score: 0.320325\n",
      "iteration 113\n",
      "step: 0.26 seconds\n",
      "score: 0.320464\n",
      "iteration 114\n",
      "step: 0.26 seconds\n",
      "score: 0.320400\n",
      "iteration 115\n",
      "step: 0.26 seconds\n",
      "score: 0.320476\n",
      "iteration 116\n",
      "step: 0.26 seconds\n",
      "score: 0.320356\n",
      "iteration 117\n",
      "step: 0.26 seconds\n",
      "score: 0.320462\n",
      "iteration 118\n",
      "step: 0.26 seconds\n",
      "score: 0.320431\n",
      "iteration 119\n",
      "step: 0.26 seconds\n",
      "score: 0.320483\n",
      "iteration 120\n",
      "step: 0.26 seconds\n",
      "score: 0.320334\n",
      "iteration 121\n",
      "step: 0.26 seconds\n",
      "score: 0.320459\n",
      "iteration 122\n",
      "step: 0.26 seconds\n",
      "score: 0.320369\n",
      "iteration 123\n",
      "step: 0.26 seconds\n",
      "score: 0.320440\n",
      "iteration 124\n",
      "step: 0.26 seconds\n",
      "score: 0.320371\n",
      "iteration 125\n",
      "step: 0.26 seconds\n",
      "score: 0.320468\n",
      "iteration 126\n",
      "step: 0.26 seconds\n",
      "score: 0.320378\n",
      "iteration 127\n",
      "step: 0.26 seconds\n",
      "score: 0.320580\n",
      "iteration 128\n",
      "step: 0.26 seconds\n",
      "score: 0.320483\n",
      "iteration 129\n",
      "step: 0.26 seconds\n",
      "score: 0.320529\n",
      "iteration 130\n",
      "step: 0.26 seconds\n",
      "score: 0.320530\n",
      "iteration 131\n",
      "step: 0.26 seconds\n",
      "score: 0.320536\n",
      "iteration 132\n",
      "step: 0.26 seconds\n",
      "score: 0.320502\n",
      "iteration 133\n",
      "step: 0.26 seconds\n",
      "score: 0.320603\n",
      "iteration 134\n",
      "step: 0.26 seconds\n",
      "score: 0.320607\n",
      "iteration 135\n",
      "step: 0.26 seconds\n",
      "score: 0.320637\n",
      "iteration 136\n",
      "step: 0.26 seconds\n",
      "score: 0.320518\n",
      "iteration 137\n",
      "step: 0.26 seconds\n",
      "score: 0.320549\n",
      "iteration 138\n",
      "step: 0.26 seconds\n",
      "score: 0.320526\n",
      "iteration 139\n",
      "step: 0.26 seconds\n",
      "score: 0.320574\n",
      "iteration 140\n",
      "step: 0.26 seconds\n",
      "score: 0.320561\n",
      "iteration 141\n",
      "step: 0.26 seconds\n",
      "score: 0.320666\n",
      "iteration 142\n",
      "step: 0.26 seconds\n",
      "score: 0.320599\n",
      "iteration 143\n",
      "step: 0.26 seconds\n",
      "score: 0.320652\n",
      "iteration 144\n",
      "step: 0.26 seconds\n",
      "score: 0.320598\n",
      "iteration 145\n",
      "step: 0.26 seconds\n",
      "score: 0.320664\n",
      "iteration 146\n",
      "step: 0.26 seconds\n",
      "score: 0.320590\n",
      "iteration 147\n",
      "step: 0.26 seconds\n",
      "score: 0.320639\n",
      "iteration 148\n",
      "step: 0.26 seconds\n",
      "score: 0.320619\n",
      "iteration 149\n",
      "step: 0.26 seconds\n",
      "score: 0.320691\n",
      "iteration 150\n",
      "step: 0.26 seconds\n",
      "score: 0.320721\n",
      "iteration 151\n",
      "step: 0.26 seconds\n",
      "score: 0.320689\n",
      "iteration 152\n",
      "step: 0.26 seconds\n",
      "score: 0.320733\n",
      "iteration 153\n",
      "step: 0.26 seconds\n",
      "score: 0.320700\n",
      "iteration 154\n",
      "step: 0.26 seconds\n",
      "score: 0.320745\n",
      "iteration 155\n",
      "step: 0.26 seconds\n",
      "score: 0.320719\n",
      "iteration 156\n",
      "step: 0.26 seconds\n",
      "score: 0.320778\n",
      "iteration 157\n",
      "step: 0.26 seconds\n",
      "score: 0.320732\n",
      "iteration 158\n",
      "step: 0.26 seconds\n",
      "score: 0.320730\n",
      "iteration 159\n",
      "step: 0.26 seconds\n",
      "score: 0.320714\n",
      "iteration 160\n",
      "step: 0.26 seconds\n",
      "score: 0.320759\n",
      "iteration 161\n",
      "step: 0.26 seconds\n",
      "score: 0.320703\n",
      "iteration 162\n",
      "step: 0.26 seconds\n",
      "score: 0.320759\n",
      "iteration 163\n",
      "step: 0.26 seconds\n",
      "score: 0.320731\n",
      "iteration 164\n",
      "step: 0.26 seconds\n",
      "score: 0.320746\n",
      "iteration 165\n",
      "step: 0.26 seconds\n",
      "score: 0.320756\n",
      "iteration 166\n",
      "step: 0.26 seconds\n",
      "score: 0.320709\n",
      "iteration 167\n",
      "step: 0.26 seconds\n",
      "score: 0.320741\n",
      "iteration 168\n",
      "step: 0.26 seconds\n",
      "score: 0.320772\n",
      "iteration 169\n",
      "step: 0.26 seconds\n",
      "score: 0.320735\n",
      "iteration 170\n"
     ]
    },
    {
     "name": "stderr",
     "output_type": "stream",
     "text": [
      "step: 0.26 seconds\n",
      "score: 0.320783\n",
      "iteration 171\n",
      "step: 0.26 seconds\n",
      "score: 0.320702\n",
      "iteration 172\n",
      "step: 0.26 seconds\n",
      "score: 0.320736\n",
      "iteration 173\n",
      "step: 0.26 seconds\n",
      "score: 0.320705\n"
     ]
    }
   ],
   "source": [
    "# For rigid, \n",
    "# grad_computation_sample_number = 1e5 is desired\n",
    "# grid_search_iteration_number and grid_search_sample_number seem to be unimportant as well, set to 100\n",
    "# lr1=10, lr2=.1 is best\n",
    "\n",
    "# For affine, \n",
    "# lr2 = .001 is too slow; 0.1 rises faster than 0.01\n",
    "# lr1 does not matter\n",
    "# plateus around iteration 100, but keep rising afterwards.\n",
    "# grad_computation_sample_number does not make a difference\n",
    "\n",
    "# while True:\n",
    "\n",
    "T_all_trials = []\n",
    "scores_all_trials = []\n",
    "\n",
    "for _ in range(5):\n",
    "\n",
    "    try:\n",
    "        T, scores = aligner.optimize(type=transform_type, max_iter_num=1000, history_len=10, \n",
    "                                     terminate_thresh=terminate_thresh,\n",
    "                                     grid_search_iteration_number=30,\n",
    "                                     grid_search_sample_number=grid_search_sample_number,\n",
    "                                     grad_computation_sample_number=grad_computation_sample_number,\n",
    "                                     lr1=10, lr2=0.1,\n",
    "                                     std_tx=std_tx, std_ty=std_ty, std_tz=std_tz, std_theta_xy=std_theta_xy)\n",
    "                \n",
    "        T_all_trials.append(T)\n",
    "        scores_all_trials.append(scores)\n",
    "        \n",
    "    except Exception as e:\n",
    "        sys.stderr.write('%s\\n' % e)\n"
   ]
  },
  {
   "cell_type": "code",
   "execution_count": 67,
   "metadata": {
    "collapsed": true
   },
   "outputs": [],
   "source": [
    "# plt.plot(np.arange(30), std_tx*np.exp(-np.arange(30)/3.));\n",
    "# plt.xlabel('Iteration');\n",
    "# plt.ylabel('Search radius (voxel)');\n",
    "# plt.title('Grid search radius shrinking schedule');\n",
    "# plt.show();"
   ]
  },
  {
   "cell_type": "code",
   "execution_count": 18,
   "metadata": {},
   "outputs": [
    {
     "name": "stdout",
     "output_type": "stream",
     "text": [
      "Setting environment for AWS compute node\n",
      "inliers [0 1 2 3 4]\n",
      "Widest standard deviation of converged translation parameters for different trials: 52.39 voxels, 771.18 um\n"
     ]
    },
    {
     "data": {
      "image/png": "[encoded data removed]",
      "text/plain": [
       "<matplotlib.figure.Figure at 0x7f5dad57c3d0>"
      ]
     },
     "metadata": {},
     "output_type": "display_data"
    }
   ],
   "source": [
    "converged_scores = np.array([s[-1] for s in scores_all_trials])\n",
    "q3 = np.percentile(converged_scores, 75)\n",
    "q1 = np.percentile(converged_scores, 25)\n",
    "iqr = q3 - q1\n",
    "inlier_min = q1 - 1.5 * iqr\n",
    "inlier_max = q3 + 1.5 * iqr\n",
    "inliers = np.where((converged_scores > inlier_min) & (converged_scores < inlier_max))[0]\n",
    "print 'inliers', inliers\n",
    "\n",
    "plt.figure();\n",
    "for trial_idx, scores in enumerate(scores_all_trials):\n",
    "    plt.plot(scores, label='trial ' + str(trial_idx));\n",
    "plt.xlabel('Iteration');\n",
    "plt.ylabel('Score');\n",
    "plt.legend();\n",
    "plt.title('Score evolution for different optimization runs');\n",
    "\n",
    "from sklearn.decomposition import PCA\n",
    "pca = PCA(n_components=3)\n",
    "T_all_trials = np.array(T_all_trials)\n",
    "t_std = np.std(pca.fit_transform(T_all_trials[inliers[:,None] ,[3,7,11]])[0])\n",
    "t_std_um = t_std * XY_PIXEL_DISTANCE_TB\n",
    "print 'Widest standard deviation of converged translation parameters for different trials: %.2f voxels, %.2f um' % (t_std, t_std_um)\n",
    "\n",
    "# tx_std = np.std(T_all_trials[inliers, 3])\n",
    "# ty_std = np.std(T_all_trials[inliers, 7])\n",
    "# tz_std = np.std(T_all_trials[inliers, 11])\n",
    "# tx_std_um = tx_std * XY_PIXEL_DISTANCE_TB\n",
    "# ty_std_um = ty_std * XY_PIXEL_DISTANCE_TB\n",
    "# tz_std_um = tz_std * XY_PIXEL_DISTANCE_TB\n",
    "# print 'tx std:', tx_std, 'voxels', tx_std_um, 'um'\n",
    "# print 'ty std:', ty_std, 'voxels', ty_std_um, 'um'\n",
    "# print 'tz std:', tz_std, 'voxels', tz_std_um, 'um'\n",
    "\n",
    "# plt.scatter(np.ones((5,)), np.array(T_all_trials)[:, 3], marker='+');\n",
    "# plt.scatter(2*np.ones((5,)), np.array(T_all_trials)[:, 7], marker='+');\n",
    "# plt.scatter(3*np.ones((5,)), np.array(T_all_trials)[:, 11], marker='+');"
   ]
  },
  {
   "cell_type": "code",
   "execution_count": 25,
   "metadata": {},
   "outputs": [
    {
     "name": "stdout",
     "output_type": "stream",
     "text": [
      "Best trial: 1\n",
      "0.320809839293 0.320755775552\n",
      "[[  9.11047410e-01   1.90605831e-01   9.68623565e-02   8.60834470e+01]\n",
      " [ -1.36177954e-01   9.41296564e-01  -2.91388472e-02   5.81403729e+01]\n",
      " [ -8.75583231e-02   4.36355566e-02   9.91272515e-01  -6.38990009e+00]]\n"
     ]
    },
    {
     "data": {
      "image/png": "[encoded data removed]",
      "text/plain": [
       "<matplotlib.figure.Figure at 0x7f574b5f0350>"
      ]
     },
     "metadata": {},
     "output_type": "display_data"
    }
   ],
   "source": [
    "best_trial = np.argsort([np.max(scores) for scores in scores_all_trials])[-1]\n",
    "T = T_all_trials[best_trial]\n",
    "scores = scores_all_trials[best_trial]\n",
    "print 'Best trial:', best_trial\n",
    "print max(scores), scores[-1]\n",
    "\n",
    "print T.reshape((3,4))\n",
    "plt.figure();\n",
    "plt.plot(scores);\n",
    "plt.show();"
   ]
  },
  {
   "cell_type": "code",
   "execution_count": 22,
   "metadata": {
    "collapsed": true,
    "scrolled": true
   },
   "outputs": [],
   "source": [
    "# print T.reshape((3,4))\n",
    "# plt.plot(scores);\n",
    "# print max(scores), scores[-1]"
   ]
  },
  {
   "cell_type": "markdown",
   "metadata": {
    "collapsed": true
   },
   "source": [
    "# Export parameters and score plots"
   ]
  },
  {
   "cell_type": "code",
   "execution_count": 27,
   "metadata": {
    "scrolled": true
   },
   "outputs": [
    {
     "name": "stdout",
     "output_type": "stream",
     "text": [
      "aws s3 cp /shared/CSHL_registration_parameters/atlasV3/atlasV3_down32_scoreVolume_clf_30_warp_1_MD657_down32_scoreVolume_clf_30_trial_0/atlasV3_down32_scoreVolume_clf_30_warp_1_MD657_down32_scoreVolume_clf_30_trial_0_parameters.txt s3://mousebrainatlas-data/CSHL_registration_parameters/atlasV3/atlasV3_down32_scoreVolume_clf_30_warp_1_MD657_down32_scoreVolume_clf_30_trial_0/atlasV3_down32_scoreVolume_clf_30_warp_1_MD657_down32_scoreVolume_clf_30_trial_0_parameters.txt\n"
     ]
    },
    {
     "name": "stderr",
     "output_type": "stream",
     "text": [
      "Child returned 0\n",
      "0.94 seconds.\n"
     ]
    },
    {
     "name": "stdout",
     "output_type": "stream",
     "text": [
      "aws s3 cp /shared/CSHL_registration_parameters/atlasV3/atlasV3_down32_scoreVolume_clf_30_warp_1_MD657_down32_scoreVolume_clf_30_trial_0/atlasV3_down32_scoreVolume_clf_30_warp_1_MD657_down32_scoreVolume_clf_30_trial_0_scoreHistory.bp s3://mousebrainatlas-data/CSHL_registration_parameters/atlasV3/atlasV3_down32_scoreVolume_clf_30_warp_1_MD657_down32_scoreVolume_clf_30_trial_0/atlasV3_down32_scoreVolume_clf_30_warp_1_MD657_down32_scoreVolume_clf_30_trial_0_scoreHistory.bp\n"
     ]
    },
    {
     "name": "stderr",
     "output_type": "stream",
     "text": [
      "Child returned 0\n",
      "0.99 seconds.\n"
     ]
    },
    {
     "name": "stdout",
     "output_type": "stream",
     "text": [
      "aws s3 cp /shared/CSHL_registration_parameters/atlasV3/atlasV3_down32_scoreVolume_clf_30_warp_1_MD657_down32_scoreVolume_clf_30_trial_0/atlasV3_down32_scoreVolume_clf_30_warp_1_MD657_down32_scoreVolume_clf_30_trial_0_scoreEvolution.png s3://mousebrainatlas-data/CSHL_registration_parameters/atlasV3/atlasV3_down32_scoreVolume_clf_30_warp_1_MD657_down32_scoreVolume_clf_30_trial_0/atlasV3_down32_scoreVolume_clf_30_warp_1_MD657_down32_scoreVolume_clf_30_trial_0_scoreEvolution.png\n"
     ]
    },
    {
     "name": "stderr",
     "output_type": "stream",
     "text": [
      "Child returned 0\n",
      "0.99 seconds.\n"
     ]
    },
    {
     "name": "stdout",
     "output_type": "stream",
     "text": [
      "aws s3 cp /shared/CSHL_registration_parameters/atlasV3/atlasV3_down32_scoreVolume_clf_30_warp_1_MD657_down32_scoreVolume_clf_30_trial_1/atlasV3_down32_scoreVolume_clf_30_warp_1_MD657_down32_scoreVolume_clf_30_trial_1_parameters.txt s3://mousebrainatlas-data/CSHL_registration_parameters/atlasV3/atlasV3_down32_scoreVolume_clf_30_warp_1_MD657_down32_scoreVolume_clf_30_trial_1/atlasV3_down32_scoreVolume_clf_30_warp_1_MD657_down32_scoreVolume_clf_30_trial_1_parameters.txt\n"
     ]
    },
    {
     "name": "stderr",
     "output_type": "stream",
     "text": [
      "Child returned 0\n",
      "0.94 seconds.\n"
     ]
    },
    {
     "name": "stdout",
     "output_type": "stream",
     "text": [
      "aws s3 cp /shared/CSHL_registration_parameters/atlasV3/atlasV3_down32_scoreVolume_clf_30_warp_1_MD657_down32_scoreVolume_clf_30_trial_1/atlasV3_down32_scoreVolume_clf_30_warp_1_MD657_down32_scoreVolume_clf_30_trial_1_scoreHistory.bp s3://mousebrainatlas-data/CSHL_registration_parameters/atlasV3/atlasV3_down32_scoreVolume_clf_30_warp_1_MD657_down32_scoreVolume_clf_30_trial_1/atlasV3_down32_scoreVolume_clf_30_warp_1_MD657_down32_scoreVolume_clf_30_trial_1_scoreHistory.bp\n"
     ]
    },
    {
     "name": "stderr",
     "output_type": "stream",
     "text": [
      "Child returned 0\n",
      "0.94 seconds.\n"
     ]
    },
    {
     "name": "stdout",
     "output_type": "stream",
     "text": [
      "aws s3 cp /shared/CSHL_registration_parameters/atlasV3/atlasV3_down32_scoreVolume_clf_30_warp_1_MD657_down32_scoreVolume_clf_30_trial_1/atlasV3_down32_scoreVolume_clf_30_warp_1_MD657_down32_scoreVolume_clf_30_trial_1_scoreEvolution.png s3://mousebrainatlas-data/CSHL_registration_parameters/atlasV3/atlasV3_down32_scoreVolume_clf_30_warp_1_MD657_down32_scoreVolume_clf_30_trial_1/atlasV3_down32_scoreVolume_clf_30_warp_1_MD657_down32_scoreVolume_clf_30_trial_1_scoreEvolution.png\n"
     ]
    },
    {
     "name": "stderr",
     "output_type": "stream",
     "text": [
      "Child returned 0\n",
      "0.99 seconds.\n"
     ]
    },
    {
     "name": "stdout",
     "output_type": "stream",
     "text": [
      "aws s3 cp /shared/CSHL_registration_parameters/atlasV3/atlasV3_down32_scoreVolume_clf_30_warp_1_MD657_down32_scoreVolume_clf_30_trial_2/atlasV3_down32_scoreVolume_clf_30_warp_1_MD657_down32_scoreVolume_clf_30_trial_2_parameters.txt s3://mousebrainatlas-data/CSHL_registration_parameters/atlasV3/atlasV3_down32_scoreVolume_clf_30_warp_1_MD657_down32_scoreVolume_clf_30_trial_2/atlasV3_down32_scoreVolume_clf_30_warp_1_MD657_down32_scoreVolume_clf_30_trial_2_parameters.txt\n"
     ]
    },
    {
     "name": "stderr",
     "output_type": "stream",
     "text": [
      "Child returned 0\n",
      "0.94 seconds.\n"
     ]
    },
    {
     "name": "stdout",
     "output_type": "stream",
     "text": [
      "aws s3 cp /shared/CSHL_registration_parameters/atlasV3/atlasV3_down32_scoreVolume_clf_30_warp_1_MD657_down32_scoreVolume_clf_30_trial_2/atlasV3_down32_scoreVolume_clf_30_warp_1_MD657_down32_scoreVolume_clf_30_trial_2_scoreHistory.bp s3://mousebrainatlas-data/CSHL_registration_parameters/atlasV3/atlasV3_down32_scoreVolume_clf_30_warp_1_MD657_down32_scoreVolume_clf_30_trial_2/atlasV3_down32_scoreVolume_clf_30_warp_1_MD657_down32_scoreVolume_clf_30_trial_2_scoreHistory.bp\n"
     ]
    },
    {
     "name": "stderr",
     "output_type": "stream",
     "text": [
      "Child returned 0\n",
      "0.94 seconds.\n"
     ]
    },
    {
     "name": "stdout",
     "output_type": "stream",
     "text": [
      "aws s3 cp /shared/CSHL_registration_parameters/atlasV3/atlasV3_down32_scoreVolume_clf_30_warp_1_MD657_down32_scoreVolume_clf_30_trial_2/atlasV3_down32_scoreVolume_clf_30_warp_1_MD657_down32_scoreVolume_clf_30_trial_2_scoreEvolution.png s3://mousebrainatlas-data/CSHL_registration_parameters/atlasV3/atlasV3_down32_scoreVolume_clf_30_warp_1_MD657_down32_scoreVolume_clf_30_trial_2/atlasV3_down32_scoreVolume_clf_30_warp_1_MD657_down32_scoreVolume_clf_30_trial_2_scoreEvolution.png\n"
     ]
    },
    {
     "name": "stderr",
     "output_type": "stream",
     "text": [
      "Child returned 0\n",
      "0.99 seconds.\n"
     ]
    },
    {
     "name": "stdout",
     "output_type": "stream",
     "text": [
      "aws s3 cp /shared/CSHL_registration_parameters/atlasV3/atlasV3_down32_scoreVolume_clf_30_warp_1_MD657_down32_scoreVolume_clf_30_trial_3/atlasV3_down32_scoreVolume_clf_30_warp_1_MD657_down32_scoreVolume_clf_30_trial_3_parameters.txt s3://mousebrainatlas-data/CSHL_registration_parameters/atlasV3/atlasV3_down32_scoreVolume_clf_30_warp_1_MD657_down32_scoreVolume_clf_30_trial_3/atlasV3_down32_scoreVolume_clf_30_warp_1_MD657_down32_scoreVolume_clf_30_trial_3_parameters.txt\n"
     ]
    },
    {
     "name": "stderr",
     "output_type": "stream",
     "text": [
      "Child returned 0\n",
      "0.94 seconds.\n"
     ]
    },
    {
     "name": "stdout",
     "output_type": "stream",
     "text": [
      "aws s3 cp /shared/CSHL_registration_parameters/atlasV3/atlasV3_down32_scoreVolume_clf_30_warp_1_MD657_down32_scoreVolume_clf_30_trial_3/atlasV3_down32_scoreVolume_clf_30_warp_1_MD657_down32_scoreVolume_clf_30_trial_3_scoreHistory.bp s3://mousebrainatlas-data/CSHL_registration_parameters/atlasV3/atlasV3_down32_scoreVolume_clf_30_warp_1_MD657_down32_scoreVolume_clf_30_trial_3/atlasV3_down32_scoreVolume_clf_30_warp_1_MD657_down32_scoreVolume_clf_30_trial_3_scoreHistory.bp\n"
     ]
    },
    {
     "name": "stderr",
     "output_type": "stream",
     "text": [
      "Child returned 0\n",
      "1.00 seconds.\n"
     ]
    },
    {
     "name": "stdout",
     "output_type": "stream",
     "text": [
      "aws s3 cp /shared/CSHL_registration_parameters/atlasV3/atlasV3_down32_scoreVolume_clf_30_warp_1_MD657_down32_scoreVolume_clf_30_trial_3/atlasV3_down32_scoreVolume_clf_30_warp_1_MD657_down32_scoreVolume_clf_30_trial_3_scoreEvolution.png s3://mousebrainatlas-data/CSHL_registration_parameters/atlasV3/atlasV3_down32_scoreVolume_clf_30_warp_1_MD657_down32_scoreVolume_clf_30_trial_3/atlasV3_down32_scoreVolume_clf_30_warp_1_MD657_down32_scoreVolume_clf_30_trial_3_scoreEvolution.png\n"
     ]
    },
    {
     "name": "stderr",
     "output_type": "stream",
     "text": [
      "Child returned 0\n",
      "0.99 seconds.\n"
     ]
    },
    {
     "name": "stdout",
     "output_type": "stream",
     "text": [
      "aws s3 cp /shared/CSHL_registration_parameters/atlasV3/atlasV3_down32_scoreVolume_clf_30_warp_1_MD657_down32_scoreVolume_clf_30_trial_4/atlasV3_down32_scoreVolume_clf_30_warp_1_MD657_down32_scoreVolume_clf_30_trial_4_parameters.txt s3://mousebrainatlas-data/CSHL_registration_parameters/atlasV3/atlasV3_down32_scoreVolume_clf_30_warp_1_MD657_down32_scoreVolume_clf_30_trial_4/atlasV3_down32_scoreVolume_clf_30_warp_1_MD657_down32_scoreVolume_clf_30_trial_4_parameters.txt\n"
     ]
    },
    {
     "name": "stderr",
     "output_type": "stream",
     "text": [
      "Child returned 0\n",
      "0.94 seconds.\n"
     ]
    },
    {
     "name": "stdout",
     "output_type": "stream",
     "text": [
      "aws s3 cp /shared/CSHL_registration_parameters/atlasV3/atlasV3_down32_scoreVolume_clf_30_warp_1_MD657_down32_scoreVolume_clf_30_trial_4/atlasV3_down32_scoreVolume_clf_30_warp_1_MD657_down32_scoreVolume_clf_30_trial_4_scoreHistory.bp s3://mousebrainatlas-data/CSHL_registration_parameters/atlasV3/atlasV3_down32_scoreVolume_clf_30_warp_1_MD657_down32_scoreVolume_clf_30_trial_4/atlasV3_down32_scoreVolume_clf_30_warp_1_MD657_down32_scoreVolume_clf_30_trial_4_scoreHistory.bp\n"
     ]
    },
    {
     "name": "stderr",
     "output_type": "stream",
     "text": [
      "Child returned 0\n",
      "0.94 seconds.\n"
     ]
    },
    {
     "name": "stdout",
     "output_type": "stream",
     "text": [
      "aws s3 cp /shared/CSHL_registration_parameters/atlasV3/atlasV3_down32_scoreVolume_clf_30_warp_1_MD657_down32_scoreVolume_clf_30_trial_4/atlasV3_down32_scoreVolume_clf_30_warp_1_MD657_down32_scoreVolume_clf_30_trial_4_scoreEvolution.png s3://mousebrainatlas-data/CSHL_registration_parameters/atlasV3/atlasV3_down32_scoreVolume_clf_30_warp_1_MD657_down32_scoreVolume_clf_30_trial_4/atlasV3_down32_scoreVolume_clf_30_warp_1_MD657_down32_scoreVolume_clf_30_trial_4_scoreEvolution.png\n"
     ]
    },
    {
     "name": "stderr",
     "output_type": "stream",
     "text": [
      "Child returned 0\n",
      "0.99 seconds.\n"
     ]
    }
   ],
   "source": [
    "for trial_idx in range(5):\n",
    "    \n",
    "    T = T_all_trials[trial_idx]\n",
    "    scores = scores_all_trials[trial_idx]\n",
    "    \n",
    "    params_fp = \\\n",
    "    DataManager.get_alignment_parameters_filepath(stack_m=stack_moving, stack_f=stack_fixed,\n",
    "                                                  classifier_setting_m=classifier_setting,\n",
    "                                                  classifier_setting_f=classifier_setting,\n",
    "                                                  warp_setting=warp_setting,\n",
    "                                                  trial_idx=trial_idx)\n",
    "    DataManager.save_alignment_parameters(params_fp, T, \n",
    "                                          aligner.centroid_m, aligner.centroid_f,\n",
    "                                          aligner.xdim_m, aligner.ydim_m, aligner.zdim_m, \n",
    "                                          aligner.xdim_f, aligner.ydim_f, aligner.zdim_f)\n",
    "    upload_from_ec2_to_s3(params_fp)\n",
    "    \n",
    "    history_fp = DataManager.get_score_history_filepath(stack_m=stack_moving, stack_f=stack_fixed,\n",
    "                                                          classifier_setting_m=classifier_setting,\n",
    "                                                          classifier_setting_f=classifier_setting,\n",
    "                                                          warp_setting=warp_setting,\n",
    "                                                          trial_idx=trial_idx)\n",
    "    bp.pack_ndarray_file(np.array(scores), history_fp)\n",
    "    upload_from_ec2_to_s3(history_fp)\n",
    "\n",
    "    score_plot_fp = \\\n",
    "    DataManager.get_alignment_score_plot_filepath(stack_m=stack_moving, stack_f=stack_fixed,\n",
    "                                                         classifier_setting_m=classifier_setting,\n",
    "                                                         classifier_setting_f=classifier_setting,\n",
    "                                                         warp_setting=warp_setting,\n",
    "                                                         trial_idx=trial_idx)\n",
    "    fig = plt.figure();\n",
    "    plt.plot(scores);\n",
    "    plt.savefig(score_plot_fp, bbox_inches='tight')\n",
    "    plt.close(fig)\n",
    "\n",
    "    upload_from_ec2_to_s3(score_plot_fp)"
   ]
  },
  {
   "cell_type": "markdown",
   "metadata": {},
   "source": [
    "# Draw Results"
   ]
  },
  {
   "cell_type": "code",
   "execution_count": 34,
   "metadata": {
    "collapsed": true
   },
   "outputs": [],
   "source": [
    "# global_params, centroid_m, centroid_f, xdim_m, ydim_m, zdim_m, xdim_f, ydim_f, zdim_f = \\\n",
    "# (T, \n",
    "#   aligner.centroid_m, aligner.centroid_f,\n",
    "#   aligner.xdim_m, aligner.ydim_m, aligner.zdim_m, \n",
    "#   aligner.xdim_f, aligner.ydim_f, aligner.zdim_f)"
   ]
  },
  {
   "cell_type": "code",
   "execution_count": 36,
   "metadata": {
    "collapsed": true
   },
   "outputs": [],
   "source": [
    "# # Transform moving volume, sided, without surround\n",
    "\n",
    "# structure = '5N_L'\n",
    "\n",
    "# vol_m = DataManager.load_volume(stack=stack_moving, structure=structure, downscale=32)\n",
    "\n",
    "# volume_m_alignedTo_f = \\\n",
    "# transform_volume(vol=vol_m, global_params=global_params, centroid_m=centroid_m, centroid_f=centroid_f,\n",
    "#                   xdim_f=xdim_f, ydim_f=ydim_f, zdim_f=zdim_f)"
   ]
  },
  {
   "cell_type": "code",
   "execution_count": 37,
   "metadata": {
    "collapsed": true
   },
   "outputs": [],
   "source": [
    "# # Set colors for different contour level\n",
    "# levels = [0.1, 0.25, 0.5, 0.75, .99]\n",
    "# level_colors = {level: (int(level*255),0,0) for level in levels}"
   ]
  },
  {
   "cell_type": "code",
   "execution_count": 42,
   "metadata": {
    "scrolled": true
   },
   "outputs": [
    {
     "name": "stderr",
     "output_type": "stream",
     "text": [
      "Error loading scoremap for section 143\n",
      "Error loading scoremap for section 144\n",
      "Error loading scoremap for section 145\n",
      "Error loading scoremap for section 146\n",
      "Error loading scoremap for section 147\n",
      "Error loading scoremap for section 148\n",
      "Error loading scoremap for section 149\n",
      "Error loading scoremap for section 150\n",
      "Error loading scoremap for section 151\n",
      "Error loading scoremap for section 152\n",
      "Error loading scoremap for section 153\n",
      "Error loading scoremap for section 154\n",
      "Error loading scoremap for section 155\n",
      "Error loading scoremap for section 156\n",
      "Error loading scoremap for section 157\n",
      "Error loading scoremap for section 158\n",
      "Error loading scoremap for section 159\n",
      "Error loading scoremap for section 160\n",
      "Error loading scoremap for section 161\n",
      "Error loading scoremap for section 162\n",
      "Error loading scoremap for section 163\n",
      "Error loading scoremap for section 164\n",
      "Error loading scoremap for section 165\n",
      "Error loading scoremap for section 166\n",
      "Error loading scoremap for section 167\n",
      "Error loading scoremap for section 168\n"
     ]
    }
   ],
   "source": [
    "# # Generate overlay visualization\n",
    "\n",
    "# # For getting correct contour location\n",
    "\n",
    "# # xmin_vol_f, xmax_vol_f, ymin_vol_f, ymax_vol_f, zmin_vol_f, zmax_vol_f = \\\n",
    "# # DataManager.load_volume_bbox(stack=stack_fixed, type='score', structure='7N', \n",
    "# #                              downscale=32, classifier_setting=classifier_setting)\n",
    "# # print xmin_vol_f, xmax_vol_f, ymin_vol_f, ymax_vol_f, zmin_vol_f, zmax_vol_f\n",
    "\n",
    "# xmin_vol_f, xmax_vol_f, ymin_vol_f, ymax_vol_f = DataManager.load_cropbox(stack=stack_fixed)[:4]\n",
    "\n",
    "# # Generate atlas overlay image for every section\n",
    "\n",
    "# zf, zl = bbox_3d(volume_m_alignedTo_f)[4:]\n",
    "# sec_first = DataManager.convert_z_to_section(stack=stack_fixed, z=zf, downsample=32)\n",
    "# sec_last = DataManager.convert_z_to_section(stack=stack_fixed, z=zl, downsample=32)\n",
    "\n",
    "# for sec in range(sec_first, sec_last+1):\n",
    "# # for sec in [155]:\n",
    "    \n",
    "#     if is_invalid(metadata_cache['sections_to_filenames'][stack_fixed][sec]):\n",
    "#         continue\n",
    "    \n",
    "#     try:\n",
    "#         img_fn = DataManager.get_image_filepath(stack=stack_fixed, section=sec, resol='thumbnail', version='cropped_tif')\n",
    "#         img = imread(img_fn)\n",
    "# #         img = imread(DataManager.get_scoremap_viz_filepath(stack=stack_fixed, section=sec, \n",
    "# #                                                            downscale=32,\n",
    "# #                                                            structure=convert_to_original_name(structure), \n",
    "# #                                                            setting=classifier_setting))\n",
    "#     except:\n",
    "#         sys.stderr.write('Error loading scoremap for section %d\\n' % sec)\n",
    "#         continue\n",
    "    \n",
    "#     viz = img.copy()\n",
    "    \n",
    "#     z1, z2 = DataManager.convert_section_to_z(stack=stack_fixed, sec=sec, downsample=32)\n",
    "#     z = int(z1)\n",
    "    \n",
    "#     # Find moving volume annotation contours\n",
    "#     c = 0\n",
    "#     vol = volume_m_alignedTo_f\n",
    "#     for level in levels:\n",
    "#         cnts = find_contours(vol[..., z], level=level) # rows, cols\n",
    "#         c += len(cnts)\n",
    "#         for cnt in cnts:\n",
    "#             # r,c to x,y\n",
    "#             cnt_on_cropped = cnt[:, ::-1] + (xmin_vol_f, ymin_vol_f)\n",
    "#             cv2.polylines(viz, [cnt_on_cropped.astype(np.int)], True, level_colors[level], 1)\n",
    "    \n",
    "#     if c > 0:    \n",
    "# #         plt.figure(figsize=(20,20));\n",
    "#         plt.figure();\n",
    "#         plt.title(\"sec=%d, z=%d, c=%d\" % (sec, z, c));\n",
    "#         plt.imshow(viz);\n",
    "#         plt.show();\n"
   ]
  },
  {
   "cell_type": "code",
   "execution_count": null,
   "metadata": {
    "collapsed": true
   },
   "outputs": [],
   "source": []
  }
 ],
 "metadata": {
  "kernelspec": {
   "display_name": "Python 2",
   "language": "python",
   "name": "python2"
  },
  "language_info": {
   "codemirror_mode": {
    "name": "ipython",
    "version": 2
   },
   "file_extension": ".py",
   "mimetype": "text/x-python",
   "name": "python",
   "nbconvert_exporter": "python",
   "pygments_lexer": "ipython2",
   "version": "2.7.12"
  }
 },
 "nbformat": 4,
 "nbformat_minor": 1
}
