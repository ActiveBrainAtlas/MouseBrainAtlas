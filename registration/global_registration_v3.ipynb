{
 "cells": [
  {
   "cell_type": "code",
   "execution_count": 1,
   "metadata": {
    "collapsed": false
   },
   "outputs": [
    {
     "name": "stdout",
     "output_type": "stream",
     "text": [
      "Setting environment for Gordon\n"
     ]
    },
    {
     "name": "stderr",
     "output_type": "stream",
     "text": [
      "No vtk\n"
     ]
    }
   ],
   "source": [
    "%load_ext autoreload\n",
    "%autoreload 2\n",
    "\n",
    "import numpy as np\n",
    "import sys\n",
    "import os\n",
    "import time\n",
    "\n",
    "sys.path.append(os.path.join(os.environ['REPO_DIR'], 'utilities'))\n",
    "from utilities2015 import *\n",
    "from registration_utilities import *\n",
    "from annotation_utilities import *\n",
    "from metadata import *\n",
    "from data_manager import *\n",
    "\n",
    "import matplotlib.pyplot as plt\n",
    "%matplotlib inline"
   ]
  },
  {
   "cell_type": "code",
   "execution_count": 2,
   "metadata": {
    "collapsed": false
   },
   "outputs": [],
   "source": [
    "stack_fixed = 'MD642'\n",
    "stack_moving = 'atlasV2'"
   ]
  },
  {
   "cell_type": "code",
   "execution_count": 3,
   "metadata": {
    "collapsed": true
   },
   "outputs": [],
   "source": [
    "classifier_setting = 2\n",
    "warp_setting = 1"
   ]
  },
  {
   "cell_type": "code",
   "execution_count": 4,
   "metadata": {
    "collapsed": true
   },
   "outputs": [],
   "source": [
    "if warp_setting == 1:\n",
    "    upstream_warp_setting = None\n",
    "    transform_type = 'affine'\n",
    "elif warp_setting == 2:\n",
    "    upstream_warp_setting = 1\n",
    "    transform_type = 'rigid'\n",
    "else:\n",
    "    raise Exception('Warp setting not recognized.')"
   ]
  },
  {
   "cell_type": "code",
   "execution_count": 5,
   "metadata": {
    "collapsed": false,
    "scrolled": true
   },
   "outputs": [
    {
     "name": "stdout",
     "output_type": "stream",
     "text": [
      "(344, 418, 373)\n"
     ]
    },
    {
     "name": "stderr",
     "output_type": "stream",
     "text": [
      "File does not exist: /oasis/projects/nsf/csd395/yuncong/CSHL_volumes/atlasV2/atlasV2_down32_scoreVolume/score_volumes/atlasV2_down32_scoreVolume_outerContour.bp\n",
      "Score volume for outerContour does not exist.\n",
      "File does not exist: /oasis/projects/nsf/csd395/yuncong/CSHL_volumes/atlasV2/atlasV2_down32_scoreVolume/score_volumes/atlasV2_down32_scoreVolume_sp5.bp\n",
      "Score volume for sp5 does not exist.\n"
     ]
    }
   ],
   "source": [
    "volume_moving, structure_to_label_moving, label_to_structure_moving = \\\n",
    "DataManager.load_score_volume_all_known_structures(stack=stack_moving, sided=True)\n",
    "\n",
    "print volume_moving[1].shape"
   ]
  },
  {
   "cell_type": "code",
   "execution_count": 6,
   "metadata": {
    "collapsed": false
   },
   "outputs": [
    {
     "name": "stdout",
     "output_type": "stream",
     "text": [
      "(487, 897, 387)\n"
     ]
    },
    {
     "name": "stderr",
     "output_type": "stream",
     "text": [
      "File does not exist: /oasis/projects/nsf/csd395/yuncong/CSHL_volumes/MD642/MD642_down32_scoreVolume_clf_2/score_volumes/MD642_down32_scoreVolume_clf_2_outerContour.bp\n",
      "Score volume for outerContour does not exist.\n",
      "File does not exist: /oasis/projects/nsf/csd395/yuncong/CSHL_volumes/MD642/MD642_down32_scoreVolume_clf_2/score_volumes/MD642_down32_scoreVolume_clf_2_sp5.bp\n",
      "Score volume for sp5 does not exist.\n"
     ]
    }
   ],
   "source": [
    "volume_fixed, structure_to_label_fixed, label_to_structure_fixed = \\\n",
    "DataManager.load_score_volume_all_known_structures(stack=stack_fixed, classifier_setting=classifier_setting)\n",
    "\n",
    "print volume_fixed[1].shape"
   ]
  },
  {
   "cell_type": "code",
   "execution_count": 7,
   "metadata": {
    "collapsed": false
   },
   "outputs": [],
   "source": [
    "label_mapping_m2f = {label_m: structure_to_label_fixed[convert_to_original_name(name_m)] \n",
    "                     for label_m, name_m in label_to_structure_moving.iteritems()}\n",
    "#                     if name_m in ['7N_L', '7N_R', '12N', '5N_L', '5N_R']}\n",
    "\n",
    "# label_mapping_m2f = {label_m: structure_to_label_fixed[convert_to_original_name(name_m)] \n",
    "#                      for label_m, name_m in label_to_structure_moving.iteritems()}"
   ]
  },
  {
   "cell_type": "code",
   "execution_count": 8,
   "metadata": {
    "collapsed": false
   },
   "outputs": [],
   "source": [
    "# volume_moving_structure_sizes = {l: np.count_nonzero(vol > 0) for l, vol in volume_moving.iteritems()}"
   ]
  },
  {
   "cell_type": "code",
   "execution_count": 9,
   "metadata": {
    "collapsed": false
   },
   "outputs": [],
   "source": [
    "# structures_sorted_by_size = [x[1] for x in sorted((s, label_to_structure_moving[l]) for l, s in volume_moving_structure_sizes.iteritems())]\n",
    "# print structures_sorted_by_size"
   ]
  },
  {
   "cell_type": "code",
   "execution_count": 10,
   "metadata": {
    "collapsed": true
   },
   "outputs": [],
   "source": [
    "label_weights_m = {}\n",
    "for label_m, name_m in label_to_structure_moving.iteritems():\n",
    "    if 'surround' in name_m:\n",
    "        label_weights_m[label_m] = 0\n",
    "    else:\n",
    "        label_weights_m[label_m] = 1\n",
    "#         label_weights_m[label_m] = np.minimum(1e5 / volume_moving_structure_sizes[label_m], 1.)"
   ]
  },
  {
   "cell_type": "markdown",
   "metadata": {},
   "source": [
    "# Compute Registration"
   ]
  },
  {
   "cell_type": "code",
   "execution_count": 11,
   "metadata": {
    "collapsed": false
   },
   "outputs": [
    {
     "name": "stderr",
     "output_type": "stream",
     "text": [
      "Label weights not set, default to 1 for all structures.\n",
      "Regularization weights not set, default to 0.\n"
     ]
    }
   ],
   "source": [
    "aligner = Aligner4(volume_fixed, volume_moving, labelIndexMap_m2f=label_mapping_m2f)"
   ]
  },
  {
   "cell_type": "code",
   "execution_count": 12,
   "metadata": {
    "collapsed": false
   },
   "outputs": [],
   "source": [
    "aligner.set_centroid(centroid_m='volume_centroid', centroid_f='volume_centroid')\n",
    "# aligner.set_centroid(centroid_m='structure_centroid', centroid_f='centroid_m', indices_m=[structure_to_label_moving['7N_L']])"
   ]
  },
  {
   "cell_type": "code",
   "execution_count": 13,
   "metadata": {
    "collapsed": false
   },
   "outputs": [],
   "source": [
    "gradient_filepath_map_f = {ind_f: DataManager.get_score_volume_gradient_filepath_template(\\\n",
    "                            stack=stack_fixed, structure=label_to_structure_fixed[ind_f],\n",
    "                            downscale=32, classifier_setting=classifier_setting)\n",
    "                           for ind_m, ind_f in label_mapping_m2f.iteritems()}"
   ]
  },
  {
   "cell_type": "code",
   "execution_count": 14,
   "metadata": {
    "collapsed": false,
    "scrolled": true
   },
   "outputs": [
    {
     "name": "stdout",
     "output_type": "stream",
     "text": [
      "set([1, 2, 3, 4, 5, 6, 7, 8, 9, 10, 11, 12, 13, 14, 15, 16, 17, 18, 19, 20, 21, 22, 23, 24, 25, 26, 27, 28])\n"
     ]
    },
    {
     "name": "stderr",
     "output_type": "stream",
     "text": [
      "load gradient 1: 5.370811 seconds\n",
      "load gradient 2: 5.433557 seconds\n",
      "load gradient 3: 5.494721 seconds\n",
      "load gradient 4: 5.533272 seconds\n",
      "load gradient 5: 5.518442 seconds\n",
      "load gradient 6: 5.078528 seconds\n",
      "load gradient 7: 5.600928 seconds\n",
      "load gradient 8: 6.259254 seconds\n",
      "load gradient 9: 5.299168 seconds\n",
      "load gradient 10: 5.737577 seconds\n",
      "load gradient 11: 6.361954 seconds\n",
      "load gradient 12: 6.337992 seconds\n",
      "load gradient 13: 5.819107 seconds\n",
      "load gradient 14: 5.640958 seconds\n",
      "load gradient 15: 6.493856 seconds\n",
      "load gradient 16: 5.782841 seconds\n",
      "load gradient 17: 6.271435 seconds\n",
      "load gradient 18: 5.855417 seconds\n",
      "load gradient 19: 6.350250 seconds\n",
      "load gradient 20: 6.502966 seconds\n",
      "load gradient 21: 5.886642 seconds\n",
      "load gradient 22: 5.717786 seconds\n",
      "load gradient 23: 5.616491 seconds\n",
      "load gradient 24: 5.675707 seconds\n",
      "load gradient 25: 5.218669 seconds\n",
      "load gradient 26: 7.568102 seconds\n",
      "load gradient 27: 14.064758 seconds\n",
      "load gradient 28: 39.097134 seconds\n",
      "overall: 205.592777 seconds\n"
     ]
    }
   ],
   "source": [
    "aligner.load_gradient(gradient_filepath_map_f=gradient_filepath_map_f) # 120s-170 = 2 mins"
   ]
  },
  {
   "cell_type": "code",
   "execution_count": 15,
   "metadata": {
    "collapsed": true
   },
   "outputs": [],
   "source": [
    "aligner.set_label_weights(label_weights=label_weights_m)"
   ]
  },
  {
   "cell_type": "code",
   "execution_count": 17,
   "metadata": {
    "collapsed": false,
    "scrolled": true
   },
   "outputs": [
    {
     "name": "stderr",
     "output_type": "stream",
     "text": [
      "[Errno 12] Cannot allocate memory\n"
     ]
    }
   ],
   "source": [
    "# For rigid, \n",
    "# grad_computation_sample_number = 1e5 is desired\n",
    "# grid_search_iteration_number and grid_search_sample_number seem to be unimportant as well, set to 100\n",
    "# lr1=10, lr2=.1 is best\n",
    "\n",
    "# For affine, \n",
    "# lr2 = .001 is too slow; 0.1 rises faster than 0.01\n",
    "# lr1 does not matter\n",
    "# plateus around iteration 100, but keep rising afterwards.\n",
    "# grad_computation_sample_number does not make a difference\n",
    "\n",
    "# while True:\n",
    "for _ in range(1):\n",
    "\n",
    "    try:\n",
    "        T, scores = aligner.optimize(type=transform_type, max_iter_num=1000, history_len=10, terminate_thresh=1e-4,\n",
    "                                     indices_m=None,\n",
    "                                    grid_search_iteration_number=30,\n",
    "                                     grid_search_sample_number=100,\n",
    "                                     grad_computation_sample_number=1e5,\n",
    "                                     lr1=10, lr2=0.1,\n",
    "                                    std_tx=50, std_ty=50, std_tz=100, std_theta_xy=np.deg2rad(10))\n",
    "        \n",
    "        break\n",
    "        \n",
    "    except Exception as e:\n",
    "        sys.stderr.write('%s\\n' % e)\n"
   ]
  },
  {
   "cell_type": "code",
   "execution_count": 17,
   "metadata": {
    "collapsed": false,
    "scrolled": true
   },
   "outputs": [
    {
     "name": "stdout",
     "output_type": "stream",
     "text": [
      "[[  9.64145974e-01   4.17902932e-01   1.52698484e-01  -7.29906224e+01]\n",
      " [ -2.23489451e-01   1.00386496e+00   1.09127826e-01  -1.14316385e+01]\n",
      " [  8.10744785e-02  -5.76604923e-02   8.63141340e-01   2.58735821e+01]]\n",
      "2.24160306682 2.24057817054\n"
     ]
    },
    {
     "data": {
      "image/png": "[encoded data removed]",
      "text/plain": [
       "<matplotlib.figure.Figure at 0x4d9af10>"
      ]
     },
     "metadata": {},
     "output_type": "display_data"
    }
   ],
   "source": [
    "print T.reshape((3,4))\n",
    "plt.plot(scores);\n",
    "print max(scores), scores[-1]"
   ]
  },
  {
   "cell_type": "markdown",
   "metadata": {
    "collapsed": true
   },
   "source": [
    "# Export parameters and score plots"
   ]
  },
  {
   "cell_type": "code",
   "execution_count": null,
   "metadata": {
    "collapsed": false
   },
   "outputs": [],
   "source": [
    "params_fp = \\\n",
    "DataManager.get_alignment_parameters_filepath(stack_m=stack_moving, stack_f=stack_fixed,\n",
    "                                              classifier_setting_m=classifier_setting,\n",
    "                                              classifier_setting_f=classifier_setting,\n",
    "                                              warp_setting=warp_setting,\n",
    "                                              trial_idx=0)\n",
    "\n",
    "DataManager.save_alignment_parameters(params_fp, T, \n",
    "                                      aligner.centroid_m, aligner.centroid_f,\n",
    "                                      aligner.xdim_m, aligner.ydim_m, aligner.zdim_m, \n",
    "                                      aligner.xdim_f, aligner.ydim_f, aligner.zdim_f)\n",
    "\n",
    "score_plot_fp = \\\n",
    "DataManager.get_alignment_score_plot_filepath(stack_m=stack_moving, stack_f=stack_fixed,\n",
    "                                                     classifier_setting_m=classifier_setting,\n",
    "                                                     classifier_setting_f=classifier_setting,\n",
    "                                                     warp_setting=warp_setting,\n",
    "                                                     trial_idx=0)\n",
    "fig = plt.figure();\n",
    "plt.plot(scores);\n",
    "plt.savefig(score_plot_fp, bbox_inches='tight')\n",
    "plt.close(fig)"
   ]
  }
 ],
 "metadata": {
  "kernelspec": {
   "display_name": "Python 2",
   "language": "python",
   "name": "python2"
  },
  "language_info": {
   "codemirror_mode": {
    "name": "ipython",
    "version": 2
   },
   "file_extension": ".py",
   "mimetype": "text/x-python",
   "name": "python",
   "nbconvert_exporter": "python",
   "pygments_lexer": "ipython2",
   "version": "2.7.3"
  }
 },
 "nbformat": 4,
 "nbformat_minor": 0
}
