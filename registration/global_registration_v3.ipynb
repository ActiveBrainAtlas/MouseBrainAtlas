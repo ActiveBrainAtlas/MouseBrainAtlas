{
 "cells": [
  {
   "cell_type": "code",
   "execution_count": 1,
   "metadata": {
    "collapsed": false
   },
   "outputs": [
    {
     "name": "stdout",
     "output_type": "stream",
     "text": [
      "Setting environment for Gordon\n"
     ]
    },
    {
     "name": "stderr",
     "output_type": "stream",
     "text": [
      "No vtk\n"
     ]
    }
   ],
   "source": [
    "%load_ext autoreload\n",
    "%autoreload 2\n",
    "\n",
    "import numpy as np\n",
    "import sys\n",
    "import os\n",
    "import time\n",
    "\n",
    "sys.path.append(os.path.join(os.environ['REPO_DIR'], 'utilities'))\n",
    "from utilities2015 import *\n",
    "from registration_utilities import *\n",
    "from annotation_utilities import *\n",
    "from metadata import *\n",
    "from data_manager import *\n",
    "\n",
    "import matplotlib.pyplot as plt\n",
    "%matplotlib inline"
   ]
  },
  {
   "cell_type": "code",
   "execution_count": 2,
   "metadata": {
    "collapsed": false
   },
   "outputs": [],
   "source": [
    "stack_fixed = 'MD642'\n",
    "stack_moving = 'atlasV2'"
   ]
  },
  {
   "cell_type": "code",
   "execution_count": 3,
   "metadata": {
    "collapsed": true
   },
   "outputs": [],
   "source": [
    "classifier_setting = 2\n",
    "warp_setting = 1"
   ]
  },
  {
   "cell_type": "code",
   "execution_count": 4,
   "metadata": {
    "collapsed": true
   },
   "outputs": [],
   "source": [
    "if warp_setting == 1:\n",
    "    upstream_warp_setting = None\n",
    "    transform_type = 'affine'\n",
    "elif warp_setting == 2:\n",
    "    upstream_warp_setting = 1\n",
    "    transform_type = 'rigid'\n",
    "else:\n",
    "    raise Exception('Warp setting not recognized.')"
   ]
  },
  {
   "cell_type": "code",
   "execution_count": 5,
   "metadata": {
    "collapsed": true
   },
   "outputs": [],
   "source": [
    "grad_computation_sample_number = 1e5\n",
    "grid_search_sample_number = 1000\n",
    "grid_search_iteration_number = 30\n",
    "std_tx = 50\n",
    "std_ty = 50\n",
    "std_tz = 50\n",
    "std_theta_xy = np.deg2rad(10)"
   ]
  },
  {
   "cell_type": "code",
   "execution_count": 6,
   "metadata": {
    "collapsed": false,
    "scrolled": true
   },
   "outputs": [
    {
     "name": "stdout",
     "output_type": "stream",
     "text": [
      "(344, 418, 373)\n"
     ]
    },
    {
     "name": "stderr",
     "output_type": "stream",
     "text": [
      "File does not exist: /oasis/projects/nsf/csd395/yuncong/CSHL_volumes/atlasV2/atlasV2_down32_scoreVolume/score_volumes/atlasV2_down32_scoreVolume_outerContour.bp\n",
      "Score volume for outerContour does not exist.\n",
      "File does not exist: /oasis/projects/nsf/csd395/yuncong/CSHL_volumes/atlasV2/atlasV2_down32_scoreVolume/score_volumes/atlasV2_down32_scoreVolume_sp5.bp\n",
      "Score volume for sp5 does not exist.\n"
     ]
    }
   ],
   "source": [
    "volume_moving, structure_to_label_moving, label_to_structure_moving = \\\n",
    "DataManager.load_score_volume_all_known_structures(stack=stack_moving, sided=True)\n",
    "\n",
    "print volume_moving[1].shape"
   ]
  },
  {
   "cell_type": "code",
   "execution_count": 7,
   "metadata": {
    "collapsed": false
   },
   "outputs": [
    {
     "name": "stdout",
     "output_type": "stream",
     "text": [
      "(487, 600, 387)\n"
     ]
    },
    {
     "name": "stderr",
     "output_type": "stream",
     "text": [
      "File does not exist: /oasis/projects/nsf/csd395/yuncong/CSHL_volumes/MD642/MD642_down32_scoreVolume_clf_2/score_volumes/MD642_down32_scoreVolume_clf_2_outerContour.bp\n",
      "Score volume for outerContour does not exist.\n",
      "File does not exist: /oasis/projects/nsf/csd395/yuncong/CSHL_volumes/MD642/MD642_down32_scoreVolume_clf_2/score_volumes/MD642_down32_scoreVolume_clf_2_sp5.bp\n",
      "Score volume for sp5 does not exist.\n"
     ]
    }
   ],
   "source": [
    "volume_fixed, structure_to_label_fixed, label_to_structure_fixed = \\\n",
    "DataManager.load_score_volume_all_known_structures(stack=stack_fixed, classifier_setting=classifier_setting)\n",
    "\n",
    "print volume_fixed[1].shape"
   ]
  },
  {
   "cell_type": "code",
   "execution_count": 8,
   "metadata": {
    "collapsed": false
   },
   "outputs": [],
   "source": [
    "label_mapping_m2f = {label_m: structure_to_label_fixed[convert_to_original_name(name_m)] \n",
    "                     for label_m, name_m in label_to_structure_moving.iteritems()\n",
    "                     if name_m in ['7N_L', '7N_R', '12N', '5N_L', '5N_R', 'Pn_L', 'Pn_R', 'SNR_L', 'SNR_R',\n",
    "                                  'VLL_L', 'VLL_R', '7n_L', '7n_R', 'Tz_L', 'Tz_R', 'VCA_L', 'VCP_L',\n",
    "                                  'VCA_R', 'VCP_R']}\n",
    "\n",
    "# label_mapping_m2f = {label_m: structure_to_label_fixed[convert_to_original_name(name_m)] \n",
    "#                      for label_m, name_m in label_to_structure_moving.iteritems()}"
   ]
  },
  {
   "cell_type": "code",
   "execution_count": 9,
   "metadata": {
    "collapsed": false
   },
   "outputs": [],
   "source": [
    "# volume_moving_structure_sizes = {l: np.count_nonzero(vol > 0) for l, vol in volume_moving.iteritems()}"
   ]
  },
  {
   "cell_type": "code",
   "execution_count": 10,
   "metadata": {
    "collapsed": false
   },
   "outputs": [],
   "source": [
    "# structures_sorted_by_size = [x[1] for x in sorted((s, label_to_structure_moving[l]) for l, s in volume_moving_structure_sizes.iteritems())]\n",
    "# print structures_sorted_by_size"
   ]
  },
  {
   "cell_type": "code",
   "execution_count": 11,
   "metadata": {
    "collapsed": true
   },
   "outputs": [],
   "source": [
    "label_weights_m = {}\n",
    "for label_m, name_m in label_to_structure_moving.iteritems():\n",
    "    if 'surround' in name_m:\n",
    "        label_weights_m[label_m] = 0\n",
    "    else:\n",
    "        label_weights_m[label_m] = 1\n",
    "#         label_weights_m[label_m] = np.minimum(1e5 / volume_moving_structure_sizes[label_m], 1.)"
   ]
  },
  {
   "cell_type": "markdown",
   "metadata": {},
   "source": [
    "# Compute Registration"
   ]
  },
  {
   "cell_type": "code",
   "execution_count": 12,
   "metadata": {
    "collapsed": false
   },
   "outputs": [
    {
     "name": "stderr",
     "output_type": "stream",
     "text": [
      "Label weights not set, default to 1 for all structures.\n",
      "Regularization weights not set, default to 0.\n"
     ]
    }
   ],
   "source": [
    "aligner = Aligner4(volume_fixed, volume_moving, labelIndexMap_m2f=label_mapping_m2f)"
   ]
  },
  {
   "cell_type": "code",
   "execution_count": 13,
   "metadata": {
    "collapsed": false
   },
   "outputs": [],
   "source": [
    "aligner.set_centroid(centroid_m='volume_centroid', centroid_f='volume_centroid')\n",
    "# aligner.set_centroid(centroid_m='structure_centroid', centroid_f='centroid_m', indices_m=[structure_to_label_moving['7N_L']])"
   ]
  },
  {
   "cell_type": "code",
   "execution_count": 14,
   "metadata": {
    "collapsed": false
   },
   "outputs": [],
   "source": [
    "gradient_filepath_map_f = {ind_f: DataManager.get_score_volume_gradient_filepath_template(\\\n",
    "                            stack=stack_fixed, structure=label_to_structure_fixed[ind_f],\n",
    "                            downscale=32, classifier_setting=classifier_setting)\n",
    "                           for ind_m, ind_f in label_mapping_m2f.iteritems()}"
   ]
  },
  {
   "cell_type": "code",
   "execution_count": 15,
   "metadata": {
    "collapsed": false,
    "scrolled": true
   },
   "outputs": [
    {
     "name": "stdout",
     "output_type": "stream",
     "text": [
      "set([2, 5, 7, 8, 16, 21, 25, 26, 27, 28])\n"
     ]
    },
    {
     "name": "stderr",
     "output_type": "stream",
     "text": [
      "load gradient 2: 3.897755 seconds\n",
      "load gradient 5: 3.995346 seconds\n",
      "load gradient 7: 4.026175 seconds\n",
      "load gradient 8: 4.357387 seconds\n",
      "load gradient 16: 4.111798 seconds\n",
      "load gradient 21: 4.128352 seconds\n",
      "load gradient 25: 3.644358 seconds\n",
      "load gradient 26: 3.857940 seconds\n",
      "load gradient 27: 3.824490 seconds\n",
      "load gradient 28: 3.935699 seconds\n",
      "overall: 39.780616 seconds\n"
     ]
    }
   ],
   "source": [
    "aligner.load_gradient(gradient_filepath_map_f=gradient_filepath_map_f) # 120s-170 = 2 mins"
   ]
  },
  {
   "cell_type": "code",
   "execution_count": 16,
   "metadata": {
    "collapsed": true
   },
   "outputs": [],
   "source": [
    "aligner.set_label_weights(label_weights=label_weights_m)"
   ]
  },
  {
   "cell_type": "code",
   "execution_count": 17,
   "metadata": {
    "collapsed": false,
    "scrolled": true
   },
   "outputs": [
    {
     "name": "stderr",
     "output_type": "stream",
     "text": [
      "grid search: 11.473692 seconds\n",
      "-inf 0.536686\n",
      "grid search: 8.448045 seconds\n",
      "0.536686 0.586947\n",
      "grid search: 6.231539 seconds\n",
      "0.586947 0.600036\n",
      "grid search: 4.429210 seconds\n",
      "0.600036 0.627045\n",
      "grid search: 3.623656 seconds\n",
      "0.627045 0.634800\n",
      "grid search: 2.424417 seconds\n",
      "grid search: 1.919907 seconds\n",
      "grid search: 1.318376 seconds\n",
      "grid search: 1.118051 seconds\n",
      "grid search: 0.917270 seconds\n",
      "0.634800 0.634997\n",
      "grid search: 0.817519 seconds\n",
      "0.634997 0.635384\n",
      "grid search: 0.621692 seconds\n",
      "0.635384 0.635539\n",
      "grid search: 0.514007 seconds\n",
      "grid search: 0.405061 seconds\n",
      "0.635539 0.635777\n",
      "grid search: 0.415285 seconds\n",
      "0.635777 0.635869\n",
      "grid search: 0.416450 seconds\n",
      "grid search: 0.314544 seconds\n",
      "0.635869 0.635893\n",
      "grid search: 0.313186 seconds\n",
      "grid search: 0.315262 seconds\n",
      "0.635893 0.635903\n",
      "grid search: 0.313227 seconds\n",
      "0.635903 0.635978\n",
      "grid search: 0.320426 seconds\n",
      "grid search: 0.311443 seconds\n",
      "grid search: 0.304470 seconds\n",
      "grid search: 0.319141 seconds\n",
      "grid search: 0.312404 seconds\n",
      "grid search: 0.319520 seconds\n",
      "grid search: 0.308322 seconds\n",
      "grid search: 0.319938 seconds\n",
      "grid search: 0.311852 seconds\n",
      "grid search: 0.318328 seconds\n",
      "iteration 0\n"
     ]
    },
    {
     "name": "stdout",
     "output_type": "stream",
     "text": [
      "params_best_upToNow [ 39.95521672 -31.193648     3.67943165  -0.31136568]\n"
     ]
    },
    {
     "name": "stderr",
     "output_type": "stream",
     "text": [
      "step: 0.56 seconds\n",
      "score: 0.635978\n",
      "iteration 1\n",
      "step: 0.57 seconds\n",
      "score: 0.402916\n",
      "iteration 2\n",
      "step: 0.55 seconds\n",
      "score: 0.343942\n",
      "iteration 3\n",
      "step: 0.56 seconds\n",
      "score: 0.475640\n",
      "iteration 4\n",
      "step: 0.56 seconds\n",
      "score: 0.483206\n",
      "iteration 5\n",
      "step: 0.55 seconds\n",
      "score: 0.458426\n",
      "iteration 6\n",
      "step: 0.55 seconds\n",
      "score: 0.628801\n",
      "iteration 7\n",
      "step: 0.55 seconds\n",
      "score: 0.597116\n",
      "iteration 8\n",
      "step: 0.55 seconds\n",
      "score: 0.587292\n",
      "iteration 9\n",
      "step: 0.55 seconds\n",
      "score: 0.610287\n",
      "iteration 10\n",
      "step: 0.56 seconds\n",
      "score: 0.552266\n",
      "iteration 11\n",
      "step: 0.55 seconds\n",
      "score: 0.592819\n",
      "iteration 12\n",
      "step: 0.55 seconds\n",
      "score: 0.589240\n",
      "iteration 13\n",
      "step: 0.55 seconds\n",
      "score: 0.598721\n",
      "iteration 14\n",
      "step: 0.55 seconds\n",
      "score: 0.635326\n",
      "iteration 15\n",
      "step: 0.55 seconds\n",
      "score: 0.620468\n",
      "iteration 16\n",
      "step: 0.55 seconds\n",
      "score: 0.641982\n",
      "iteration 17\n",
      "step: 0.55 seconds\n",
      "score: 0.632419\n",
      "iteration 18\n",
      "step: 0.55 seconds\n",
      "score: 0.647682\n",
      "iteration 19\n",
      "step: 0.55 seconds\n",
      "score: 0.640422\n",
      "iteration 20\n",
      "step: 0.55 seconds\n",
      "score: 0.650888\n",
      "iteration 21\n",
      "step: 0.55 seconds\n",
      "score: 0.644295\n",
      "iteration 22\n",
      "step: 0.55 seconds\n",
      "score: 0.653609\n",
      "iteration 23\n",
      "step: 0.55 seconds\n",
      "score: 0.649334\n",
      "iteration 24\n",
      "step: 0.55 seconds\n",
      "score: 0.655897\n",
      "iteration 25\n",
      "step: 0.55 seconds\n",
      "score: 0.652910\n",
      "iteration 26\n",
      "step: 0.55 seconds\n",
      "score: 0.658509\n",
      "iteration 27\n",
      "step: 0.55 seconds\n",
      "score: 0.657081\n",
      "iteration 28\n",
      "step: 0.55 seconds\n",
      "score: 0.660256\n",
      "iteration 29\n",
      "step: 0.55 seconds\n",
      "score: 0.660110\n",
      "iteration 30\n",
      "step: 0.55 seconds\n",
      "score: 0.661135\n",
      "iteration 31\n",
      "step: 0.55 seconds\n",
      "score: 0.661046\n",
      "iteration 32\n",
      "step: 0.55 seconds\n",
      "score: 0.662030\n",
      "iteration 33\n",
      "step: 0.55 seconds\n",
      "score: 0.663047\n",
      "iteration 34\n",
      "step: 0.55 seconds\n",
      "score: 0.662801\n",
      "iteration 35\n",
      "step: 0.55 seconds\n",
      "score: 0.664017\n",
      "iteration 36\n",
      "step: 0.55 seconds\n",
      "score: 0.663961\n",
      "iteration 37\n",
      "step: 0.55 seconds\n",
      "score: 0.665271\n",
      "iteration 38\n",
      "step: 0.55 seconds\n",
      "score: 0.665091\n",
      "iteration 39\n",
      "step: 0.55 seconds\n",
      "score: 0.666586\n",
      "iteration 40\n",
      "step: 0.55 seconds\n",
      "score: 0.666334\n",
      "iteration 41\n",
      "step: 0.55 seconds\n",
      "score: 0.667333\n",
      "iteration 42\n",
      "step: 0.55 seconds\n",
      "score: 0.667139\n",
      "iteration 43\n",
      "step: 0.55 seconds\n",
      "score: 0.668285\n",
      "iteration 44\n",
      "step: 0.55 seconds\n",
      "score: 0.668169\n",
      "iteration 45\n",
      "step: 0.55 seconds\n",
      "score: 0.669616\n",
      "iteration 46\n",
      "step: 0.55 seconds\n",
      "score: 0.669296\n",
      "iteration 47\n",
      "step: 0.55 seconds\n",
      "score: 0.670120\n",
      "iteration 48\n",
      "step: 0.55 seconds\n",
      "score: 0.669807\n",
      "iteration 49\n",
      "step: 0.55 seconds\n",
      "score: 0.670633\n",
      "iteration 50\n",
      "step: 0.55 seconds\n",
      "score: 0.670170\n",
      "iteration 51\n",
      "step: 0.55 seconds\n",
      "score: 0.670955\n",
      "iteration 52\n",
      "step: 0.55 seconds\n",
      "score: 0.670801\n",
      "iteration 53\n",
      "step: 0.55 seconds\n",
      "score: 0.670883\n",
      "iteration 54\n",
      "step: 0.55 seconds\n",
      "score: 0.670806\n",
      "iteration 55\n",
      "step: 0.55 seconds\n",
      "score: 0.670859\n",
      "iteration 56\n",
      "step: 0.55 seconds\n",
      "score: 0.670951\n",
      "iteration 57\n",
      "step: 0.55 seconds\n",
      "score: 0.671206\n",
      "iteration 58\n",
      "step: 0.55 seconds\n",
      "score: 0.671134\n",
      "iteration 59\n",
      "step: 0.55 seconds\n",
      "score: 0.671526\n",
      "iteration 60\n",
      "step: 0.55 seconds\n",
      "score: 0.671512\n",
      "iteration 61\n",
      "step: 0.55 seconds\n",
      "score: 0.671887\n",
      "iteration 62\n",
      "step: 0.55 seconds\n",
      "score: 0.671758\n",
      "iteration 63\n",
      "step: 0.55 seconds\n",
      "score: 0.671820\n",
      "iteration 64\n",
      "step: 0.55 seconds\n",
      "score: 0.671711\n",
      "iteration 65\n",
      "step: 0.55 seconds\n",
      "score: 0.671617\n",
      "iteration 66\n",
      "step: 0.55 seconds\n",
      "score: 0.671705\n",
      "iteration 67\n",
      "step: 0.55 seconds\n",
      "score: 0.671471\n",
      "iteration 68\n",
      "step: 0.55 seconds\n",
      "score: 0.671450\n",
      "iteration 69\n",
      "step: 0.55 seconds\n",
      "score: 0.671144\n",
      "iteration 70\n",
      "step: 0.55 seconds\n",
      "score: 0.671268\n",
      "iteration 71\n",
      "step: 0.55 seconds\n",
      "score: 0.671132\n",
      "iteration 72\n",
      "step: 0.55 seconds\n",
      "score: 0.671278\n",
      "iteration 73\n",
      "step: 0.55 seconds\n",
      "score: 0.671403\n",
      "iteration 74\n",
      "step: 0.55 seconds\n",
      "score: 0.671385\n"
     ]
    }
   ],
   "source": [
    "# For rigid, \n",
    "# grad_computation_sample_number = 1e5 is desired\n",
    "# grid_search_iteration_number and grid_search_sample_number seem to be unimportant as well, set to 100\n",
    "# lr1=10, lr2=.1 is best\n",
    "\n",
    "# For affine, \n",
    "# lr2 = .001 is too slow; 0.1 rises faster than 0.01\n",
    "# lr1 does not matter\n",
    "# plateus around iteration 100, but keep rising afterwards.\n",
    "# grad_computation_sample_number does not make a difference\n",
    "\n",
    "# while True:\n",
    "for _ in range(1):\n",
    "\n",
    "    try:\n",
    "        T, scores = aligner.optimize(type=transform_type, max_iter_num=1000, history_len=10, \n",
    "                                     terminate_thresh=1e-4,\n",
    "                                     indices_m=None,\n",
    "                                     grid_search_iteration_number=grid_search_iteration_number,\n",
    "                                     grid_search_sample_number=grid_search_sample_number,\n",
    "                                     grad_computation_sample_number=grad_computation_sample_number,\n",
    "                                     lr1=10, lr2=0.1,\n",
    "                                     std_tx=std_tx, std_ty=std_ty, std_tz=std_tz, std_theta_xy=std_theta_xy)\n",
    "        \n",
    "        break\n",
    "        \n",
    "    except Exception as e:\n",
    "        sys.stderr.write('%s\\n' % e)\n"
   ]
  },
  {
   "cell_type": "code",
   "execution_count": 18,
   "metadata": {
    "collapsed": false,
    "scrolled": true
   },
   "outputs": [
    {
     "name": "stdout",
     "output_type": "stream",
     "text": [
      "[[  1.01409818e+00   3.86926317e-01  -3.72102497e-02   2.75477623e+01]\n",
      " [ -3.48053454e-01   1.00252211e+00  -1.04326072e-02  -5.03462657e+01]\n",
      " [ -9.42639140e-03   5.32517379e-02   9.89741848e-01  -2.52050887e-01]]\n",
      "0.671886667609 0.671385204419\n"
     ]
    },
    {
     "data": {
      "image/png": "[encoded data removed]",
      "text/plain": [
       "<matplotlib.figure.Figure at 0x7487dd0>"
      ]
     },
     "metadata": {},
     "output_type": "display_data"
    }
   ],
   "source": [
    "print T.reshape((3,4))\n",
    "plt.plot(scores);\n",
    "print max(scores), scores[-1]"
   ]
  },
  {
   "cell_type": "markdown",
   "metadata": {
    "collapsed": true
   },
   "source": [
    "# Export parameters and score plots"
   ]
  },
  {
   "cell_type": "code",
   "execution_count": 19,
   "metadata": {
    "collapsed": false
   },
   "outputs": [],
   "source": [
    "params_fp = \\\n",
    "DataManager.get_alignment_parameters_filepath(stack_m=stack_moving, stack_f=stack_fixed,\n",
    "                                              classifier_setting_m=classifier_setting,\n",
    "                                              classifier_setting_f=classifier_setting,\n",
    "                                              warp_setting=warp_setting,\n",
    "                                              trial_idx=0)\n",
    "\n",
    "DataManager.save_alignment_parameters(params_fp, T, \n",
    "                                      aligner.centroid_m, aligner.centroid_f,\n",
    "                                      aligner.xdim_m, aligner.ydim_m, aligner.zdim_m, \n",
    "                                      aligner.xdim_f, aligner.ydim_f, aligner.zdim_f)\n",
    "\n",
    "score_plot_fp = \\\n",
    "DataManager.get_alignment_score_plot_filepath(stack_m=stack_moving, stack_f=stack_fixed,\n",
    "                                                     classifier_setting_m=classifier_setting,\n",
    "                                                     classifier_setting_f=classifier_setting,\n",
    "                                                     warp_setting=warp_setting,\n",
    "                                                     trial_idx=0)\n",
    "fig = plt.figure();\n",
    "plt.plot(scores);\n",
    "plt.savefig(score_plot_fp, bbox_inches='tight')\n",
    "plt.close(fig)"
   ]
  },
  {
   "cell_type": "code",
   "execution_count": null,
   "metadata": {
    "collapsed": true
   },
   "outputs": [],
   "source": []
  }
 ],
 "metadata": {
  "kernelspec": {
   "display_name": "Python 2",
   "language": "python",
   "name": "python2"
  },
  "language_info": {
   "codemirror_mode": {
    "name": "ipython",
    "version": 2
   },
   "file_extension": ".py",
   "mimetype": "text/x-python",
   "name": "python",
   "nbconvert_exporter": "python",
   "pygments_lexer": "ipython2",
   "version": "2.7.3"
  }
 },
 "nbformat": 4,
 "nbformat_minor": 0
}
