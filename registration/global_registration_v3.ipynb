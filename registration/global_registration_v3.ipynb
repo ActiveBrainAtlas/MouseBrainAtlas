{
 "cells": [
  {
   "cell_type": "code",
   "execution_count": 12,
   "metadata": {
    "collapsed": false
   },
   "outputs": [
    {
     "name": "stdout",
     "output_type": "stream",
     "text": [
      "The autoreload extension is already loaded. To reload it, use:\n",
      "  %reload_ext autoreload\n"
     ]
    }
   ],
   "source": [
    "%load_ext autoreload\n",
    "%autoreload 2\n",
    "\n",
    "import numpy as np\n",
    "import sys\n",
    "import os\n",
    "import time\n",
    "\n",
    "sys.path.append(os.path.join(os.environ['REPO_DIR'], 'utilities'))\n",
    "from utilities2015 import *\n",
    "from registration_utilities import *\n",
    "from annotation_utilities import *\n",
    "from metadata import *\n",
    "from data_manager import *\n",
    "\n",
    "import matplotlib.pyplot as plt\n",
    "%matplotlib inline"
   ]
  },
  {
   "cell_type": "code",
   "execution_count": 13,
   "metadata": {
    "collapsed": false
   },
   "outputs": [],
   "source": [
    "stack_fixed = 'MD595'\n",
    "stack_moving = 'atlasV2'"
   ]
  },
  {
   "cell_type": "code",
   "execution_count": 14,
   "metadata": {
    "collapsed": true
   },
   "outputs": [],
   "source": [
    "classifier_setting = 2\n",
    "warp_setting = 1"
   ]
  },
  {
   "cell_type": "code",
   "execution_count": 15,
   "metadata": {
    "collapsed": true
   },
   "outputs": [],
   "source": [
    "if warp_setting == 1:\n",
    "    upstream_warp_setting = None\n",
    "    transform_type = 'affine'\n",
    "elif warp_setting == 2:\n",
    "    upstream_warp_setting = 1\n",
    "    transform_type = 'rigid'\n",
    "else:\n",
    "    raise Exception('Warp setting not recognized.')"
   ]
  },
  {
   "cell_type": "code",
   "execution_count": 7,
   "metadata": {
    "collapsed": false
   },
   "outputs": [],
   "source": [
    "# all_known_structures_sided_surround = [convert_to_surround_name(s, margin='x1.5') for s in all_known_structures_sided]\n",
    "# all_known_structures_sided_with_surround = sorted(all_known_structures_sided + all_known_structures_sided_surround)"
   ]
  },
  {
   "cell_type": "code",
   "execution_count": 16,
   "metadata": {
    "collapsed": false
   },
   "outputs": [
    {
     "name": "stderr",
     "output_type": "stream",
     "text": [
      "File does not exist: /oasis/projects/nsf/csd395/yuncong/CSHL_volumes/atlasV2/score_volumes/atlasV2_down32_scoreVolume_outerContour.bp\n",
      "Score volume for outerContour does not exist.\n",
      "File does not exist: /oasis/projects/nsf/csd395/yuncong/CSHL_volumes/atlasV2/score_volumes/atlasV2_down32_scoreVolume_sp5.bp\n",
      "Score volume for sp5 does not exist.\n"
     ]
    }
   ],
   "source": [
    "volume_moving, structure_to_label_moving, label_to_structure_moving = \\\n",
    "DataManager.load_score_volume_all_known_structures(stack=stack_moving, sided=True)"
   ]
  },
  {
   "cell_type": "code",
   "execution_count": 17,
   "metadata": {
    "collapsed": false
   },
   "outputs": [
    {
     "name": "stderr",
     "output_type": "stream",
     "text": [
      "File does not exist: /oasis/projects/nsf/csd395/yuncong/CSHL_volumes/MD595/score_volumes/MD595_down32_scoreVolume_outerContour_setting_2.bp\n",
      "Score volume for outerContour does not exist.\n",
      "File does not exist: /oasis/projects/nsf/csd395/yuncong/CSHL_volumes/MD595/score_volumes/MD595_down32_scoreVolume_sp5_setting_2.bp\n",
      "Score volume for sp5 does not exist.\n"
     ]
    }
   ],
   "source": [
    "volume_fixed, structure_to_label_fixed, label_to_structure_fixed = \\\n",
    "DataManager.load_score_volume_all_known_structures(stack=stack_fixed, classifier_setting=classifier_setting)"
   ]
  },
  {
   "cell_type": "code",
   "execution_count": 18,
   "metadata": {
    "collapsed": false
   },
   "outputs": [],
   "source": [
    "label_mapping_m2f = {label_m: structure_to_label_fixed[convert_to_original_name(name_m)] \n",
    "                     for label_m, name_m in label_to_structure_moving.iteritems()\n",
    "                    if name_m in ['7N_L', '7N_R', '12N', '5N_L', '5N_R']}\n",
    "\n",
    "# label_mapping_m2f = {label_m: structure_to_label_fixed[convert_to_original_name(name_m)] \n",
    "#                      for label_m, name_m in label_to_structure_moving.iteritems()}"
   ]
  },
  {
   "cell_type": "code",
   "execution_count": 19,
   "metadata": {
    "collapsed": false
   },
   "outputs": [],
   "source": [
    "# volume_moving_structure_sizes = {l: np.count_nonzero(vol > 0) for l, vol in volume_moving.iteritems()}"
   ]
  },
  {
   "cell_type": "code",
   "execution_count": 20,
   "metadata": {
    "collapsed": true
   },
   "outputs": [],
   "source": [
    "label_weights_m = {}\n",
    "for label_m, name_m in label_to_structure_moving.iteritems():\n",
    "    if 'surround' in name_m:\n",
    "        label_weights_m[label_m] = 0\n",
    "    else:\n",
    "        label_weights_m[label_m] = 1\n",
    "#         label_weights_m[label_m] = np.minimum(1e5 / volume_moving_structure_sizes[label_m], 1.)"
   ]
  },
  {
   "cell_type": "markdown",
   "metadata": {},
   "source": [
    "# Compute Registration"
   ]
  },
  {
   "cell_type": "code",
   "execution_count": 21,
   "metadata": {
    "collapsed": false
   },
   "outputs": [
    {
     "name": "stderr",
     "output_type": "stream",
     "text": [
      "Label weights not set, default to 1 for all structures.\n",
      "Regularization weights not set, default to 0.\n"
     ]
    }
   ],
   "source": [
    "aligner = Aligner4(volume_fixed, volume_moving, labelIndexMap_m2f=label_mapping_m2f)"
   ]
  },
  {
   "cell_type": "code",
   "execution_count": 22,
   "metadata": {
    "collapsed": false
   },
   "outputs": [],
   "source": [
    "aligner.set_centroid(centroid_m='volume_centroid', centroid_f='volume_centroid')\n",
    "# aligner.set_centroid(centroid_m='structure_centroid', centroid_f='centroid_m', indices_m=[structure_to_label_moving['7N_L']])"
   ]
  },
  {
   "cell_type": "code",
   "execution_count": 23,
   "metadata": {
    "collapsed": true
   },
   "outputs": [],
   "source": [
    "gradient_filepath_map_f = {ind_f: DataManager.get_score_volume_gradient_filepath_template(\\\n",
    "                            stack=stack_fixed, structure=label_to_structure_fixed[ind_f],\n",
    "                            downscale=32, setting=classifier_setting)\n",
    "                           for ind_m, ind_f in label_mapping_m2f.iteritems()}"
   ]
  },
  {
   "cell_type": "code",
   "execution_count": 24,
   "metadata": {
    "collapsed": false,
    "scrolled": true
   },
   "outputs": [
    {
     "name": "stdout",
     "output_type": "stream",
     "text": [
      "set([2, 5, 7])\n"
     ]
    },
    {
     "name": "stderr",
     "output_type": "stream",
     "text": [
      "load gradient 2: 3.675937 seconds\n",
      "load gradient 5: 4.376242 seconds\n",
      "load gradient 7: 4.894658 seconds\n",
      "overall: 12.947308 seconds\n"
     ]
    }
   ],
   "source": [
    "aligner.load_gradient(gradient_filepath_map_f=gradient_filepath_map_f) # 120s = 2 mins"
   ]
  },
  {
   "cell_type": "code",
   "execution_count": 25,
   "metadata": {
    "collapsed": true
   },
   "outputs": [],
   "source": [
    "aligner.set_label_weights(label_weights=label_weights_m)"
   ]
  },
  {
   "cell_type": "code",
   "execution_count": 26,
   "metadata": {
    "collapsed": false,
    "scrolled": true
   },
   "outputs": [
    {
     "name": "stderr",
     "output_type": "stream",
     "text": [
      "grid search: 0.715761 seconds\n",
      "-inf 0.096292\n",
      "grid search: 0.371879 seconds\n",
      "0.096292 0.097844\n",
      "grid search: 0.375715 seconds\n",
      "0.097844 0.106835\n",
      "grid search: 0.372216 seconds\n",
      "0.106835 0.107299\n",
      "grid search: 0.271112 seconds\n",
      "grid search: 0.273998 seconds\n",
      "grid search: 0.269451 seconds\n",
      "0.107299 0.107324\n",
      "grid search: 0.269384 seconds\n",
      "grid search: 0.269603 seconds\n",
      "0.107324 0.108367\n",
      "grid search: 0.277849 seconds\n",
      "0.108367 0.109063\n",
      "grid search: 0.273829 seconds\n",
      "grid search: 0.273422 seconds\n",
      "grid search: 0.275033 seconds\n",
      "grid search: 0.271772 seconds\n",
      "0.109063 0.109171\n",
      "grid search: 0.271992 seconds\n",
      "grid search: 0.271955 seconds\n",
      "grid search: 0.271773 seconds\n",
      "grid search: 0.272007 seconds\n",
      "grid search: 0.277868 seconds\n",
      "grid search: 0.273493 seconds\n",
      "grid search: 0.273959 seconds\n",
      "grid search: 0.273621 seconds\n",
      "grid search: 0.275067 seconds\n",
      "grid search: 0.271881 seconds\n",
      "grid search: 0.278107 seconds\n",
      "grid search: 0.272421 seconds\n",
      "grid search: 0.275856 seconds\n",
      "grid search: 0.275540 seconds\n",
      "grid search: 0.277194 seconds\n",
      "grid search: 0.274476 seconds\n",
      "iteration 0\n",
      "step: 0.17 seconds\n",
      "score: 0.109171\n",
      "iteration 1\n"
     ]
    },
    {
     "name": "stdout",
     "output_type": "stream",
     "text": [
      "params_best_upToNow [-19.60154214  -7.12816042   6.30237967  -0.22034546]\n"
     ]
    },
    {
     "name": "stderr",
     "output_type": "stream",
     "text": [
      "step: 0.13 seconds\n",
      "score: 0.087120\n",
      "iteration 2\n",
      "step: 0.13 seconds\n",
      "score: 0.092995\n",
      "iteration 3\n",
      "step: 0.13 seconds\n",
      "score: 0.090654\n",
      "iteration 4\n",
      "step: 0.13 seconds\n",
      "score: 0.121909\n",
      "iteration 5\n",
      "step: 0.13 seconds\n",
      "score: 0.140380\n",
      "iteration 6\n",
      "step: 0.13 seconds\n",
      "score: 0.140057\n",
      "iteration 7\n",
      "step: 0.13 seconds\n",
      "score: 0.142749\n",
      "iteration 8\n",
      "step: 0.13 seconds\n",
      "score: 0.134163\n",
      "iteration 9\n",
      "step: 0.13 seconds\n",
      "score: 0.114675\n",
      "iteration 10\n",
      "step: 0.13 seconds\n",
      "score: 0.142024\n",
      "iteration 11\n",
      "step: 0.13 seconds\n",
      "score: 0.141620\n",
      "iteration 12\n",
      "step: 0.13 seconds\n",
      "score: 0.140370\n",
      "iteration 13\n",
      "step: 0.13 seconds\n",
      "score: 0.127788\n",
      "iteration 14\n",
      "step: 0.13 seconds\n",
      "score: 0.145207\n",
      "iteration 15\n",
      "step: 0.13 seconds\n",
      "score: 0.145661\n",
      "iteration 16\n",
      "step: 0.13 seconds\n",
      "score: 0.146481\n",
      "iteration 17\n",
      "step: 0.13 seconds\n",
      "score: 0.144368\n",
      "iteration 18\n",
      "step: 0.13 seconds\n",
      "score: 0.146941\n",
      "iteration 19\n",
      "step: 0.13 seconds\n",
      "score: 0.145657\n",
      "iteration 20\n",
      "step: 0.13 seconds\n",
      "score: 0.147714\n",
      "iteration 21\n",
      "step: 0.13 seconds\n",
      "score: 0.147257\n",
      "iteration 22\n",
      "step: 0.13 seconds\n",
      "score: 0.148587\n",
      "iteration 23\n",
      "step: 0.13 seconds\n",
      "score: 0.148602\n",
      "iteration 24\n",
      "step: 0.13 seconds\n",
      "score: 0.149413\n",
      "iteration 25\n",
      "step: 0.13 seconds\n",
      "score: 0.149360\n",
      "iteration 26\n",
      "step: 0.13 seconds\n",
      "score: 0.149748\n",
      "iteration 27\n",
      "step: 0.13 seconds\n",
      "score: 0.149839\n",
      "iteration 28\n",
      "step: 0.13 seconds\n",
      "score: 0.150137\n",
      "iteration 29\n",
      "step: 0.13 seconds\n",
      "score: 0.150292\n",
      "iteration 30\n",
      "step: 0.13 seconds\n",
      "score: 0.150442\n",
      "iteration 31\n",
      "step: 0.13 seconds\n",
      "score: 0.150497\n",
      "iteration 32\n",
      "step: 0.13 seconds\n",
      "score: 0.150574\n",
      "iteration 33\n",
      "step: 0.13 seconds\n",
      "score: 0.150683\n",
      "iteration 34\n",
      "step: 0.13 seconds\n",
      "score: 0.150712\n",
      "iteration 35\n",
      "step: 0.13 seconds\n",
      "score: 0.150830\n",
      "iteration 36\n",
      "step: 0.13 seconds\n",
      "score: 0.150891\n",
      "iteration 37\n",
      "step: 0.13 seconds\n",
      "score: 0.150843\n",
      "iteration 38\n",
      "step: 0.13 seconds\n",
      "score: 0.150993\n",
      "iteration 39\n",
      "step: 0.13 seconds\n",
      "score: 0.151022\n",
      "iteration 40\n",
      "step: 0.13 seconds\n",
      "score: 0.151049\n",
      "iteration 41\n",
      "step: 0.13 seconds\n",
      "score: 0.151102\n",
      "iteration 42\n",
      "step: 0.13 seconds\n",
      "score: 0.151158\n",
      "iteration 43\n",
      "step: 0.13 seconds\n",
      "score: 0.151194\n",
      "iteration 44\n",
      "step: 0.13 seconds\n",
      "score: 0.151235\n",
      "iteration 45\n",
      "step: 0.13 seconds\n",
      "score: 0.151266\n",
      "iteration 46\n",
      "step: 0.13 seconds\n",
      "score: 0.151339\n",
      "iteration 47\n",
      "step: 0.13 seconds\n",
      "score: 0.151332\n",
      "iteration 48\n",
      "step: 0.13 seconds\n",
      "score: 0.151387\n",
      "iteration 49\n",
      "step: 0.13 seconds\n",
      "score: 0.151341\n",
      "iteration 50\n",
      "step: 0.13 seconds\n",
      "score: 0.151400\n",
      "iteration 51\n",
      "step: 0.13 seconds\n",
      "score: 0.151432\n",
      "iteration 52\n",
      "step: 0.13 seconds\n",
      "score: 0.151455\n",
      "iteration 53\n",
      "step: 0.13 seconds\n",
      "score: 0.151484\n",
      "iteration 54\n",
      "step: 0.13 seconds\n",
      "score: 0.151551\n",
      "iteration 55\n",
      "step: 0.13 seconds\n",
      "score: 0.151572\n",
      "iteration 56\n",
      "step: 0.13 seconds\n",
      "score: 0.151599\n",
      "iteration 57\n",
      "step: 0.13 seconds\n",
      "score: 0.151567\n",
      "iteration 58\n",
      "step: 0.13 seconds\n",
      "score: 0.151673\n",
      "iteration 59\n",
      "step: 0.13 seconds\n",
      "score: 0.151702\n",
      "iteration 60\n",
      "step: 0.13 seconds\n",
      "score: 0.151723\n",
      "iteration 61\n",
      "step: 0.13 seconds\n",
      "score: 0.151646\n",
      "iteration 62\n",
      "step: 0.13 seconds\n",
      "score: 0.151712\n",
      "iteration 63\n",
      "step: 0.13 seconds\n",
      "score: 0.151743\n",
      "iteration 64\n",
      "step: 0.13 seconds\n",
      "score: 0.151726\n",
      "iteration 65\n",
      "step: 0.13 seconds\n",
      "score: 0.151751\n",
      "iteration 66\n",
      "step: 0.13 seconds\n",
      "score: 0.151819\n",
      "iteration 67\n",
      "step: 0.13 seconds\n",
      "score: 0.151747\n",
      "iteration 68\n",
      "step: 0.13 seconds\n",
      "score: 0.151820\n",
      "iteration 69\n",
      "step: 0.13 seconds\n",
      "score: 0.151816\n",
      "iteration 70\n",
      "step: 0.13 seconds\n",
      "score: 0.151794\n",
      "iteration 71\n",
      "step: 0.13 seconds\n",
      "score: 0.151818\n",
      "iteration 72\n",
      "step: 0.13 seconds\n",
      "score: 0.151768\n",
      "iteration 73\n",
      "step: 0.13 seconds\n",
      "score: 0.151807\n",
      "iteration 74\n",
      "step: 0.13 seconds\n",
      "score: 0.151764\n",
      "iteration 75\n",
      "step: 0.13 seconds\n",
      "score: 0.151860\n",
      "iteration 76\n",
      "step: 0.13 seconds\n",
      "score: 0.151779\n",
      "iteration 77\n",
      "step: 0.13 seconds\n",
      "score: 0.151859\n"
     ]
    }
   ],
   "source": [
    "# For rigid, \n",
    "# grad_computation_sample_number = 1e5 is desired\n",
    "# grid_search_iteration_number and grid_search_sample_number seem to be unimportant as well, set to 100\n",
    "# lr1=10, lr2=.1 is best\n",
    "\n",
    "# For affine, \n",
    "# lr2 = .001 is too slow; 0.1 rises faster than 0.01\n",
    "# lr1 does not matter\n",
    "# plateus around iteration 100, but keep rising afterwards.\n",
    "# grad_computation_sample_number does not make a difference\n",
    "\n",
    "while True:\n",
    "\n",
    "    try:\n",
    "        T, scores = aligner.optimize(type=transform_type, max_iter_num=1000, history_len=10, terminate_thresh=1e-4,\n",
    "                                     indices_m=None,\n",
    "                                    grid_search_iteration_number=30,\n",
    "                                     grid_search_sample_number=100,\n",
    "                                     grad_computation_sample_number=1e5,\n",
    "                                     lr1=10, lr2=0.1,\n",
    "                                    std_tx=50, std_ty=50, std_tz=100, std_theta_xy=np.deg2rad(10))\n",
    "        \n",
    "        break\n",
    "        \n",
    "    except Exception as e:\n",
    "        sys.stderr.write(e.message + '\\n')\n"
   ]
  },
  {
   "cell_type": "code",
   "execution_count": 27,
   "metadata": {
    "collapsed": false,
    "scrolled": true
   },
   "outputs": [
    {
     "name": "stdout",
     "output_type": "stream",
     "text": [
      "[[  0.95395654   0.29727645  -0.03992034 -30.41558902]\n",
      " [ -0.28188781   0.93403275   0.21936749   6.06975864]\n",
      " [  0.10249969  -0.19801399   0.97482525  15.36102851]]\n",
      "0.151859971695 0.151859009638\n"
     ]
    },
    {
     "data": {
      "image/png": "[encoded data removed]",
      "text/plain": [
       "<matplotlib.figure.Figure at 0x5706610>"
      ]
     },
     "metadata": {},
     "output_type": "display_data"
    }
   ],
   "source": [
    "print T.reshape((3,4))\n",
    "plt.plot(scores);\n",
    "print max(scores), scores[-1]"
   ]
  },
  {
   "cell_type": "markdown",
   "metadata": {
    "collapsed": true
   },
   "source": [
    "# Export parameters and score plots"
   ]
  },
  {
   "cell_type": "code",
   "execution_count": 28,
   "metadata": {
    "collapsed": true
   },
   "outputs": [],
   "source": [
    "params_fp = \\\n",
    "DataManager.get_alignment_parameters_filepath(stack_m=stack_moving, stack_f=stack_fixed,\n",
    "                                              classifier_setting_m=classifier_setting,\n",
    "                                              classifier_setting_f=classifier_setting,\n",
    "                                              warp_setting=warp_setting,\n",
    "                                              trial_idx=0)"
   ]
  },
  {
   "cell_type": "code",
   "execution_count": 54,
   "metadata": {
    "collapsed": false
   },
   "outputs": [],
   "source": [
    "params_fp = \\\n",
    "DataManager.get_alignment_parameters_filepath(stack_m=stack_moving, stack_f=stack_fixed,\n",
    "                                              classifier_setting_m=classifier_setting,\n",
    "                                              classifier_setting_f=classifier_setting,\n",
    "                                              warp_setting=warp_setting,\n",
    "                                              trial_idx=0)\n",
    "\n",
    "DataManager.save_alignment_parameters(params_fp, T, \n",
    "                                      aligner.centroid_m, aligner.centroid_f,\n",
    "                                      aligner.xdim_m, aligner.ydim_m, aligner.zdim_m, \n",
    "                                      aligner.xdim_f, aligner.ydim_f, aligner.zdim_f)\n",
    "\n",
    "score_plot_fp = \\\n",
    "DataManager.get_alignment_score_plot_filepath(stack_m=stack_moving, stack_f=stack_fixed,\n",
    "                                                     classifier_setting_m=classifier_setting,\n",
    "                                                     classifier_setting_f=classifier_setting,\n",
    "                                                     warp_setting=warp_setting,\n",
    "                                                     trial_idx=0)\n",
    "fig = plt.figure();\n",
    "plt.plot(scores);\n",
    "plt.savefig(score_plot_fp, bbox_inches='tight')\n",
    "plt.close(fig)"
   ]
  }
 ],
 "metadata": {
  "kernelspec": {
   "display_name": "Python 2",
   "language": "python",
   "name": "python2"
  },
  "language_info": {
   "codemirror_mode": {
    "name": "ipython",
    "version": 2
   },
   "file_extension": ".py",
   "mimetype": "text/x-python",
   "name": "python",
   "nbconvert_exporter": "python",
   "pygments_lexer": "ipython2",
   "version": "2.7.3"
  }
 },
 "nbformat": 4,
 "nbformat_minor": 0
}
