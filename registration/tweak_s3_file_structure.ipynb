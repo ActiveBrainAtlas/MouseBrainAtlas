{
 "cells": [
  {
   "cell_type": "code",
   "execution_count": 2,
   "metadata": {
    "collapsed": true
   },
   "outputs": [],
   "source": [
    "%reload_ext autoreload\n",
    "%autoreload 2"
   ]
  },
  {
   "cell_type": "code",
   "execution_count": 4,
   "metadata": {
    "scrolled": true
   },
   "outputs": [],
   "source": [
    "import os\n",
    "import sys\n",
    "import time\n",
    "\n",
    "import matplotlib.pyplot as plt\n",
    "%matplotlib inline\n",
    "import numpy as np\n",
    "\n",
    "sys.path.append(os.path.join(os.environ['REPO_DIR'], 'utilities'))\n",
    "from utilities2015 import *\n",
    "from metadata import *\n",
    "from data_manager import *\n",
    "from learning_utilities import *"
   ]
  },
  {
   "cell_type": "code",
   "execution_count": 14,
   "metadata": {},
   "outputs": [
    {
     "name": "stdout",
     "output_type": "stream",
     "text": [
      "rm -rf /shared/CSHL_patch_features/inception-bn-blue/MD658 && mkdir -p /shared/CSHL_patch_features/inception-bn-blue\n",
      "aws s3 cp --recursive s3://mousebrainatlas-data/CSHL_patch_features/inception-bn-blue/MD658 /shared/CSHL_patch_features/inception-bn-blue/MD658\n"
     ]
    },
    {
     "name": "stderr",
     "output_type": "stream",
     "text": [
      "Child returned 0\n",
      "Child returned 0\n",
      "232.64 seconds.\n"
     ]
    }
   ],
   "source": [
    "for stack in ['MD658']:\n",
    "    d = os.path.dirname(DataManager.get_dnn_features_filepath(stack, 'inception-bn-blue', section=1, input_img_version='cropped_gray'))\n",
    "    old_d = os.path.dirname(d)\n",
    "    download_from_s3(old_d, is_dir=True, redownload=True)"
   ]
  },
  {
   "cell_type": "code",
   "execution_count": null,
   "metadata": {
    "collapsed": true
   },
   "outputs": [],
   "source": [
    "execute_command(\"mkdir %s\" % d)\n",
    "    \n",
    "cmd = \"find %s -mindepth 2 -type f -exec mv -t %s -i '{}' +\" % (stack, d)\n",
    "execute_command(cmd)\n",
    "\n",
    "upload_to_s3(d, is_dir=True)"
   ]
  }
 ],
 "metadata": {
  "kernelspec": {
   "display_name": "Python 2",
   "language": "python",
   "name": "python2"
  },
  "language_info": {
   "codemirror_mode": {
    "name": "ipython",
    "version": 2
   },
   "file_extension": ".py",
   "mimetype": "text/x-python",
   "name": "python",
   "nbconvert_exporter": "python",
   "pygments_lexer": "ipython2",
   "version": "2.7.12"
  }
 },
 "nbformat": 4,
 "nbformat_minor": 2
}
