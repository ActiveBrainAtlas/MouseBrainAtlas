{
 "cells": [
  {
   "cell_type": "code",
   "execution_count": 1,
   "metadata": {},
   "outputs": [
    {
     "name": "stdout",
     "output_type": "stream",
     "text": [
      "Setting environment for Precision WorkStation\n"
     ]
    },
    {
     "name": "stderr",
     "output_type": "stream",
     "text": [
      "No vtk\n"
     ]
    }
   ],
   "source": [
    "%load_ext autoreload\n",
    "%autoreload 2\n",
    "\n",
    "import sys\n",
    "import os\n",
    "import time\n",
    "\n",
    "import matplotlib.pyplot as plt\n",
    "%matplotlib inline\n",
    "import numpy as np\n",
    "\n",
    "sys.path.append(os.path.join(os.environ['REPO_DIR'], 'utilities'))\n",
    "from utilities2015 import *\n",
    "from registration_utilities import *\n",
    "from annotation_utilities import *\n",
    "from metadata import *\n",
    "from data_manager import *"
   ]
  },
  {
   "cell_type": "code",
   "execution_count": 7,
   "metadata": {
    "collapsed": true
   },
   "outputs": [],
   "source": [
    "def get_structure_contours_from_structure_volumes_v3(volumes, stack, sections, \n",
    "                                                     resolution, level, sample_every=1,\n",
    "                                                    use_unsided_name_as_key=False):\n",
    "    \"\"\"\n",
    "    Re-section atlas volumes and obtain structure contours on each section.\n",
    "    Resolution of output contours are in volume resolution.\n",
    "    v3 supports multiple levels.\n",
    "\n",
    "    Args:\n",
    "        volumes (dict of (3D array, 3-tuple)): {structure: (volume, origin_wrt_wholebrain)}. volume is a 3d array of probability values.\n",
    "        sections (list of int):\n",
    "        resolution (int): resolution of input volumes.\n",
    "        level (float or dict or dict of list): the cut-off probability at which surfaces are generated from probabilistic volumes. Default is 0.5.\n",
    "        sample_every (int): how sparse to sample contour vertices.\n",
    "\n",
    "    Returns:\n",
    "        Dict {section: {name_s: contour vertices}}.\n",
    "    \"\"\"\n",
    "\n",
    "    from collections import defaultdict\n",
    "    \n",
    "    structure_contours_wrt_alignedBrainstemCrop_rawResol = defaultdict(lambda: defaultdict(dict))\n",
    "\n",
    "    converter = CoordinatesConverter(stack=stack, section_list=metadata_cache['sections_to_filenames'][stack].keys())\n",
    "\n",
    "    converter.register_new_resolution('structure_volume', resol_um=convert_resolution_string_to_um(resolution=resolution, stack=stack))\n",
    "    converter.register_new_resolution('image', resol_um=convert_resolution_string_to_um(resolution='raw', stack=stack))\n",
    "    \n",
    "    for name_s, (structure_volume_volResol, origin_wrt_wholebrain_volResol) in volumes.iteritems():\n",
    "\n",
    "        converter.derive_three_view_frames(name_s, \n",
    "        origin_wrt_wholebrain_um=convert_resolution_string_to_um(resolution=resolution, stack=stack) * origin_wrt_wholebrain_volResol,\n",
    "        zdim_um=convert_resolution_string_to_um(resolution=resolution, stack=stack) * structure_volume_volResol.shape[2])\n",
    "\n",
    "        positions_of_all_sections_wrt_structureVolume = converter.convert_frame_and_resolution(\n",
    "        p=np.array(sections)[:,None],\n",
    "        in_wrt=('wholebrain', 'sagittal'), in_resolution='section',\n",
    "        out_wrt=(name_s, 'sagittal'), out_resolution='structure_volume')[..., 2].flatten()\n",
    "            \n",
    "        structure_ddim = structure_volume_volResol.shape[2]\n",
    "        \n",
    "        valid_mask = (positions_of_all_sections_wrt_structureVolume >= 0) & (positions_of_all_sections_wrt_structureVolume < structure_ddim)\n",
    "        if np.count_nonzero(valid_mask) == 0:\n",
    "#             sys.stderr.write(\"%s, valid_mask is empty.\\n\" % name_s)\n",
    "            continue\n",
    "\n",
    "        positions_of_all_sections_wrt_structureVolume = positions_of_all_sections_wrt_structureVolume[valid_mask]\n",
    "        positions_of_all_sections_wrt_structureVolume = np.round(positions_of_all_sections_wrt_structureVolume).astype(np.int)\n",
    "        \n",
    "        if isinstance(level, dict):\n",
    "            level_this_structure = level[name_s]\n",
    "        else:\n",
    "            level_this_structure = level\n",
    "\n",
    "        if isinstance(level_this_structure, float):\n",
    "            level_this_structure = [level_this_structure]\n",
    "                        \n",
    "        for one_level in level_this_structure:\n",
    "\n",
    "            contour_2d_wrt_structureVolume_sectionPositions_volResol = \\\n",
    "            find_contour_points_3d(structure_volume_volResol >= one_level,\n",
    "                                    along_direction='sagittal',\n",
    "                                    sample_every=sample_every,\n",
    "                                    positions=positions_of_all_sections_wrt_structureVolume)\n",
    "\n",
    "            for d_wrt_structureVolume, cnt_uv_wrt_structureVolume in contour_2d_wrt_structureVolume_sectionPositions_volResol.iteritems():\n",
    "\n",
    "                contour_3d_wrt_structureVolume_volResol = np.column_stack([cnt_uv_wrt_structureVolume, np.ones((len(cnt_uv_wrt_structureVolume),)) * d_wrt_structureVolume])\n",
    "\n",
    "    #             contour_3d_wrt_wholebrain_uv_rawResol_section = converter.convert_frame_and_resolution(\n",
    "    #                 p=contour_3d_wrt_structureVolume_volResol,\n",
    "    #                 in_wrt=(name_s, 'sagittal'), in_resolution='structure_volume',\n",
    "    #                 out_wrt=('wholebrain', 'sagittal'), out_resolution='image_image_section')\n",
    "\n",
    "                contour_3d_wrt_alignedBrainstemCrop_uv_rawResol_section = converter.convert_frame_and_resolution(\n",
    "                    p=contour_3d_wrt_structureVolume_volResol,\n",
    "                    in_wrt=(name_s, 'sagittal'), in_resolution='structure_volume',\n",
    "                    out_wrt=('wholebrainXYcropped', 'sagittal'), out_resolution='image_image_section')\n",
    "\n",
    "                assert len(np.unique(contour_3d_wrt_alignedBrainstemCrop_uv_rawResol_section[:,2])) == 1\n",
    "                sec = int(contour_3d_wrt_alignedBrainstemCrop_uv_rawResol_section[0,2])\n",
    "\n",
    "                if use_unsided_name_as_key:\n",
    "                    name = convert_to_unsided_label(name_s)\n",
    "                else:\n",
    "                    name = name_s\n",
    "\n",
    "                structure_contours_wrt_alignedBrainstemCrop_rawResol[sec][name][one_level] = contour_3d_wrt_alignedBrainstemCrop_uv_rawResol_section[..., :2]\n",
    "        \n",
    "    return structure_contours_wrt_alignedBrainstemCrop_rawResol"
   ]
  },
  {
   "cell_type": "markdown",
   "metadata": {},
   "source": [
    "# Generate manuscript figure"
   ]
  },
  {
   "cell_type": "code",
   "execution_count": 8,
   "metadata": {
    "collapsed": true
   },
   "outputs": [],
   "source": [
    "# CHATM2 section 106 shows 5N/7N/Amb, ROI: x=8112,y=8960,w=8608,h=6608\n",
    "# CHATM2 section 162 shows 6N/10N/12N, ROI: x=10560,y=9552,w=8368,h=3072"
   ]
  },
  {
   "cell_type": "code",
   "execution_count": 9,
   "metadata": {},
   "outputs": [
    {
     "name": "stderr",
     "output_type": "stream",
     "text": [
      "Not using image_cache.\n"
     ]
    },
    {
     "name": "stdout",
     "output_type": "stream",
     "text": [
      "/data/CSHL_data_processed/CHATM2/CHATM2_prep2_raw_CHATJpeg/CHATM2_slide53_2018_01_22-S3_prep2_raw_CHATJpeg.jpg\n"
     ]
    }
   ],
   "source": [
    "# img = DataManager.load_image_v2(stack='CHATM2', prep_id=2, resol='raw', version='CHATJpeg', section=106)\n",
    "\n",
    "version = 'NtbNormalizedAdaptiveInvertedGammaJpeg'\n",
    "# version = 'CHATJpeg'\n",
    "sec = 162\n",
    "img = DataManager.load_image_v2(stack='CHATM2', prep_id=2, resol='raw', version=version, section=sec)\n",
    "viz0 = gray2rgb(img)"
   ]
  },
  {
   "cell_type": "code",
   "execution_count": 10,
   "metadata": {},
   "outputs": [
    {
     "name": "stdout",
     "output_type": "stream",
     "text": [
      "aws s3 cp --recursive \"s3://mousebrainatlas-data/CSHL_labelings_v3/CHATM2\" \"/home/yuncong/CSHL_labelings_v3/CHATM2\" --exclude \"*\" --include \"*structuresHanddrawn*\"\n",
      "0\n",
      "latest timestamp:  05122018234101\n"
     ]
    }
   ],
   "source": [
    "for stack in ['CHATM2']:\n",
    "    \n",
    "    section_margin_um = 500.\n",
    "    section_margin = int(section_margin_um / SECTION_THICKNESS)\n",
    "\n",
    "    valid_secmin = np.min(metadata_cache['valid_sections'][stack])\n",
    "    valid_secmax = np.max(metadata_cache['valid_sections'][stack])\n",
    "\n",
    "    chat_structures_df = DataManager.load_annotation_v4(stack=stack, by_human=True, \n",
    "                                                   suffix='structuresHanddrawn', \n",
    "                                                   timestamp='latest')\n",
    "\n",
    "    chat_structures_df = chat_structures_df[~chat_structures_df['volume'].isnull()]\n",
    "\n",
    "    chat_structures, chat_structure_resolution = \\\n",
    "    convert_structure_annotation_to_volume_origin_dict_v2(structures_df=chat_structures_df, \n",
    "                                                          out_resolution='10.0um', stack=stack)\n",
    "\n",
    "#     for structure_m in ['Amb_L', '5N_L', '7N_L']:\n",
    "#     for structure_m in ['6N_L', '10N_L', '12N']:\n",
    "    for structure_m in ['12N']:\n",
    "\n",
    "        stack_m_spec = dict(name='atlasV6',\n",
    "                           vol_type='score',\n",
    "                           structure=structure_m,\n",
    "                            resolution='10.0um'\n",
    "                           )\n",
    "\n",
    "        stack_f_spec = dict(name=stack,\n",
    "                           vol_type='score',\n",
    "                           detector_id=799,\n",
    "                           structure=convert_to_original_name(structure_m),\n",
    "                            resolution='10.0um'\n",
    "                           )\n",
    "\n",
    "        local_alignment_spec = dict(stack_m=stack_m_spec, \n",
    "                              stack_f=stack_f_spec,\n",
    "                              warp_setting=27)\n",
    "\n",
    "        vo = DataManager.load_transformed_volume_v2(alignment_spec=local_alignment_spec, return_origin_instead_of_bbox=True)\n",
    "\n",
    "        registered_atlas_structures_wrt_wholebrainXYcropped_xysecTwoCorners = \\\n",
    "        load_json('/home/yuncong/' + stack + '_registered_atlas_structures_wrt_wholebrainXYcropped_xysecTwoCorners.json')\n",
    "\n",
    "        (_, _, secmin), (_, _, secmax) = registered_atlas_structures_wrt_wholebrainXYcropped_xysecTwoCorners[structure_m]\n",
    "\n",
    "        atlas_structures_wrt_wholebrainWithMargin_sections = \\\n",
    "        range(max(secmin - section_margin, valid_secmin), min(secmax + 1 + section_margin, valid_secmax))\n",
    "\n",
    "        levels = [0.1, 0.25, 0.5, 0.75, 0.99]\n",
    "\n",
    "        contours_all_sections_all_structures_all_levels = \\\n",
    "        get_structure_contours_from_structure_volumes_v3(volumes={structure_m: vo}, stack=stack, \n",
    "                                                         sections=atlas_structures_wrt_wholebrainWithMargin_sections,\n",
    "                                                        resolution='10.0um', level=levels, sample_every=5)\n",
    "\n",
    "        ####################################\n",
    "\n",
    "        chat_vo = chat_structures[structure_m]\n",
    "\n",
    "        chat_contours_all_sections_all_structures_all_levels = \\\n",
    "        get_structure_contours_from_structure_volumes_v3(volumes={structure_m: chat_vo}, stack=stack, \n",
    "                                                         sections=atlas_structures_wrt_wholebrainWithMargin_sections,\n",
    "                                                        resolution='10.0um', level=[.5], sample_every=1)\n",
    "\n",
    "        ####################################\n",
    "\n",
    "        # prep2 because at end of get_structure_contours_from_structure_volumes_v2 we used wholebrainXYcropped\n",
    "\n",
    "#         for sec, contours_all_structures_all_levels in sorted(contours_all_sections_all_structures_all_levels.items()):\n",
    "#         for sec, contours_all_structures_all_levels in [(106, contours_all_sections_all_structures_all_levels[106])]:\n",
    "\n",
    "        contours_all_structures_all_levels = contours_all_sections_all_structures_all_levels[sec]\n",
    "\n",
    "        if is_invalid(sec=sec, stack=stack):\n",
    "            continue\n",
    "\n",
    "#             for version in ['NtbNormalizedAdaptiveInvertedGammaJpeg', 'CHATJpeg']:\n",
    "#             for version in ['CHATJpeg']:\n",
    "#                 img = DataManager.load_image_v2(stack=stack, prep_id=2, resol='raw', version=version, section=sec)\n",
    "\n",
    "        for name_s, cnt_all_levels in contours_all_structures_all_levels.iteritems():\n",
    "#                     viz = gray2rgb(img)\n",
    "#                     for level, cnt in cnt_all_levels.iteritems():\n",
    "#                         cv2.polylines(viz, [cnt.astype(np.int)], isClosed=True, color=LEVEL_TO_COLOR_LINE[level], thickness=10)\n",
    "\n",
    "#                     fp = os.path.join('/home/yuncong/' + stack + '_atlas_aligned_multilevel', name_s, version, stack + '_' + name_s + '_' + version + '_' + ('%03d' % sec) + '.jpg')\n",
    "#                     print fp\n",
    "#                     create_parent_dir_if_not_exists(fp)\n",
    "#                     imsave(fp, viz)\n",
    "\n",
    "#                     # Add CHAT contour\n",
    "#                     if sec in chat_contours_all_sections_all_structures_all_levels:\n",
    "#                         chat_cnt = chat_contours_all_sections_all_structures_all_levels[sec][name_s][.5]\n",
    "#                         cv2.polylines(viz, [chat_cnt.astype(np.int)], isClosed=True, color=(255,255,255), thickness=20)\n",
    "\n",
    "#                     fp = os.path.join('/home/yuncong/' + stack + '_atlas_aligned_multilevel_down16', name_s, version, stack + '_' + name_s + '_' + version + '_' + ('%03d' % sec) + '.jpg')\n",
    "#                     print fp\n",
    "#                     create_parent_dir_if_not_exists(fp)\n",
    "#                     imsave(fp, viz[::16, ::16])\n",
    "\n",
    "            #######################\n",
    "\n",
    "            for level, cnt in cnt_all_levels.iteritems():\n",
    "                cv2.polylines(viz0, [cnt.astype(np.int)], isClosed=True, color=LEVEL_TO_COLOR_LINE[level], thickness=10)\n",
    "\n",
    "            if sec in chat_contours_all_sections_all_structures_all_levels:\n",
    "                chat_cnt = chat_contours_all_sections_all_structures_all_levels[sec][name_s][.5]\n",
    "                cv2.polylines(viz0, [chat_cnt.astype(np.int)], isClosed=True, color=(255,255,255), thickness=20)\n",
    "\n",
    "                #######################\n",
    "\n"
   ]
  },
  {
   "cell_type": "code",
   "execution_count": 11,
   "metadata": {},
   "outputs": [
    {
     "name": "stdout",
     "output_type": "stream",
     "text": [
      "/home/yuncong/CHATM2_atlas_aligned_multilevel_all_structures/CHATJpeg/CHATM2_CHATJpeg_161.jpg\n"
     ]
    }
   ],
   "source": [
    "fp = os.path.join('/home/yuncong/' + stack + '_atlas_aligned_multilevel_all_structures', version, stack + '_' + version + '_' + ('%03d' % sec) + '.jpg')\n",
    "print fp\n",
    "create_parent_dir_if_not_exists(fp)\n",
    "imsave(fp, viz0)"
   ]
  },
  {
   "cell_type": "code",
   "execution_count": 12,
   "metadata": {},
   "outputs": [
    {
     "name": "stdout",
     "output_type": "stream",
     "text": [
      "/home/yuncong/CHATM2_atlas_aligned_multilevel_down16_all_structures/CHATJpeg/CHATM2_CHATJpeg_161.jpg\n"
     ]
    }
   ],
   "source": [
    "fp = os.path.join('/home/yuncong/' + stack + '_atlas_aligned_multilevel_down16_all_structures', version, stack + '_' + version + '_' + ('%03d' % sec) + '.jpg')\n",
    "print fp\n",
    "create_parent_dir_if_not_exists(fp)\n",
    "imsave(fp, viz0[::16, ::16])"
   ]
  },
  {
   "cell_type": "markdown",
   "metadata": {},
   "source": [
    "# Summarize amount of deviation from CHAT"
   ]
  },
  {
   "cell_type": "code",
   "execution_count": null,
   "metadata": {
    "collapsed": true
   },
   "outputs": [],
   "source": [
    "deviation_from_chat_um_per_structure_all_stacks = {}\n",
    "\n",
    "for stack in ['CHATM2', 'CHATM3']:\n",
    "# for stack in ['CHATM2']:\n",
    "    \n",
    "#     stack = 'CHATM2' # 05092018200440\n",
    "    # stack = 'CHATM3' # 05092018203614\n",
    "\n",
    "    chat_structures_df = DataManager.load_annotation_v4(stack=stack, by_human=True, \n",
    "                                                   suffix='structuresHanddrawn', \n",
    "                                                   timestamp='latest')\n",
    "\n",
    "    chat_structures_df = chat_structures_df[~chat_structures_df['volume'].isnull()]\n",
    "\n",
    "    chat_structures, chat_structure_resolution = \\\n",
    "    convert_structure_annotation_to_volume_origin_dict_v2(structures_df=chat_structures_df, \n",
    "                                                          out_resolution='10.0um', stack=stack)\n",
    "\n",
    "    deviation_from_chat_um_per_structure = {}\n",
    "\n",
    "#     for name_s, (v_chat, o_chat) in sorted(chat_structures.items()):\n",
    "    for name_s in ['5N_L', '5N_R', '6N_L', '6N_R', '7N_L', '7N_R', 'Amb_L', 'Amb_R', '10N_L', '10N_R', '12N']:\n",
    "        \n",
    "        (v_chat, o_chat) = chat_structures[name_s]\n",
    "        \n",
    "#         if name_s in ['3N_L', '3N_R', '4N_L', '4N_R']:\n",
    "#             continue\n",
    "\n",
    "        chat_centroid = get_centroid_3d(v_chat) + o_chat\n",
    "#         chat_centroid = o_chat\n",
    "\n",
    "        stack_m_spec = dict(name='atlasV6',\n",
    "                       vol_type='score',\n",
    "                       structure=name_s,\n",
    "                        resolution='10.0um'\n",
    "                       )\n",
    "\n",
    "        stack_f_spec = dict(name=stack,\n",
    "                           vol_type='score',\n",
    "                           detector_id=799,\n",
    "                           structure=convert_to_original_name(name_s),\n",
    "                            resolution='10.0um'\n",
    "                           )\n",
    "\n",
    "        local_alignment_spec = dict(stack_m=stack_m_spec, \n",
    "                              stack_f=stack_f_spec,\n",
    "                              warp_setting=27)\n",
    "\n",
    "        v_alg, o_alg = DataManager.load_transformed_volume_v2(alignment_spec=local_alignment_spec, \n",
    "                                                      return_origin_instead_of_bbox=True)\n",
    "        alg_centroid = get_centroid_3d(v_alg) + o_alg\n",
    "#         alg_centroid = o_alg\n",
    "\n",
    "#         print name_s, chat_centroid, alg_centroid, chat_centroid - alg_centroid, np.linalg.norm(chat_centroid - alg_centroid), 'x 10.0um'\n",
    "\n",
    "#         deviation_from_chat_um_per_structure[name_s] = np.linalg.norm(chat_centroid - alg_centroid) * 10.\n",
    "        deviation_from_chat_um_per_structure[name_s] = np.abs(chat_centroid[0] - alg_centroid[0]) * 10.\n",
    "\n",
    "    deviation_from_chat_um_per_structure_all_stacks[stack] = deviation_from_chat_um_per_structure\n",
    "    \n",
    "\n",
    "fig, ax = plot_by_stack_by_structure(deviation_from_chat_um_per_structure_all_stacks, \n",
    "#                            structures=sorted(deviation_from_chat_um_per_structure.keys()), \n",
    "                           structures=['5N_L', '5N_R', '6N_L', '6N_R', '7N_L', '7N_R', 'Amb_L', 'Amb_R', '10N_L', '10N_R', '12N'],\n",
    "                          yticks=np.arange(0, np.max(deviation_from_chat_um_per_structure.values())+10, 50),\n",
    "                          ylabel='Error ($\\mu$m)',\n",
    "                                     xlabel='Structures (sorted from rostral to caudal)',\n",
    "                        title='Rostral-caudal error of automated annotations compared to CHAT labels')"
   ]
  },
  {
   "cell_type": "code",
   "execution_count": null,
   "metadata": {
    "collapsed": true
   },
   "outputs": [],
   "source": [
    "bar_height = [std_rostral_caudal_all_structures[s] \n",
    "for s in ['5N_L', '5N_R', '6N_L', '6N_R', '7N_L', '7N_R', 'Amb_L', 'Amb_R', '10N_L', '10N_R', '12N']]"
   ]
  },
  {
   "cell_type": "code",
   "execution_count": null,
   "metadata": {
    "collapsed": true
   },
   "outputs": [],
   "source": [
    "ax.hlines(y=bar_height, xmin=np.arange(-.3, -.3+len(bar_height)), xmax=np.arange(.3, .3+len(bar_height)+1));"
   ]
  },
  {
   "cell_type": "code",
   "execution_count": null,
   "metadata": {
    "collapsed": true
   },
   "outputs": [],
   "source": [
    "import matplotlib.lines as mlines\n",
    "black_line = mlines.Line2D([], [], color='black', label='Population std. var.')\n",
    "handles, labels = ax.get_legend_handles_labels()\n",
    "# ax.legend(handles, labels)\n",
    "# import matplotlib.patches as mpatches\n",
    "# red_patch = mpatches.Rectangle(xy=(0,0), width=1, height=1, angle=0.0, color='black', label='Population std var')\n",
    "ax.legend(handles=handles + [black_line]);"
   ]
  },
  {
   "cell_type": "code",
   "execution_count": null,
   "metadata": {
    "collapsed": true
   },
   "outputs": [],
   "source": [
    "fig"
   ]
  },
  {
   "cell_type": "code",
   "execution_count": 5,
   "metadata": {
    "collapsed": true
   },
   "outputs": [],
   "source": [
    "import pandas as pd"
   ]
  },
  {
   "cell_type": "code",
   "execution_count": 10,
   "metadata": {},
   "outputs": [],
   "source": [
    "pd.Series(rms_3d_all_structures).to_csv('/home/yuncong/population_rms_3d_all_structures.csv')"
   ]
  },
  {
   "cell_type": "code",
   "execution_count": 4,
   "metadata": {
    "collapsed": true
   },
   "outputs": [],
   "source": [
    "rms_3d_all_structures = \\\n",
    "{'10N_L': 131.71192054112927,\n",
    " '10N_R': 114.96417637822844,\n",
    " '12N': 91.3270700999804,\n",
    " '3N_L': 147.98449664547243,\n",
    " '3N_R': 152.16865163127156,\n",
    " '4N_L': 158.69662475344322,\n",
    " '4N_R': 158.43216221034416,\n",
    " '5N_L': 78.32631884362334,\n",
    " '5N_R': 85.95302152618588,\n",
    " '6N_L': 113.07629780975675,\n",
    " '6N_R': 218.17263584304976,\n",
    " '7N_L': 102.5725161699128,\n",
    " '7N_R': 72.63248091490208,\n",
    " '7n_L': 71.46592203158622,\n",
    " '7n_R': 75.25927329777348,\n",
    " 'AP': 136.2815598245806,\n",
    " 'Amb_L': 132.02746680538993,\n",
    " 'Amb_R': 84.02518989273634,\n",
    " 'DC_L': 155.3585723709082,\n",
    " 'DC_R': 171.79567295576604,\n",
    " 'IC': 181.10799688956945,\n",
    " 'LC_L': 80.01409678709847,\n",
    " 'LC_R': 98.99470628358642,\n",
    " 'LRt_L': 179.27431940235496,\n",
    " 'LRt_R': 161.8269305086202,\n",
    " 'PBG_L': 238.33674289448834,\n",
    " 'PBG_R': 250.83628545791547,\n",
    " 'Pn_L': 94.42299470592697,\n",
    " 'Pn_R': 121.40960765270191,\n",
    " 'RMC_L': 74.15096911922737,\n",
    " 'RMC_R': 98.74452140018367,\n",
    " 'RtTg': 98.44958129019756,\n",
    " 'SC': 152.07067811851826,\n",
    " 'SNC_L': 176.72171558010933,\n",
    " 'SNC_R': 376.7595848929037,\n",
    " 'SNR_L': 135.78206710374852,\n",
    " 'SNR_R': 189.01059052068905,\n",
    " 'Sp5C_L': 182.64086075775114,\n",
    " 'Sp5C_R': 215.61126983505886,\n",
    " 'Sp5I_L': 137.720089625935,\n",
    " 'Sp5I_R': 175.23520185721895,\n",
    " 'Sp5O_L': 105.21523162672761,\n",
    " 'Sp5O_R': 154.17620463439533,\n",
    " 'Tz_L': 90.4634346426642,\n",
    " 'Tz_R': 72.16627875545487,\n",
    " 'VCA_L': 191.67689496954583,\n",
    " 'VCA_R': 157.7867444645034,\n",
    " 'VCP_L': 181.21763612969875,\n",
    " 'VCP_R': 177.82775451903518,\n",
    " 'VLL_L': 116.72853023806996,\n",
    " 'VLL_R': 143.18241448763393}"
   ]
  },
  {
   "cell_type": "code",
   "execution_count": 1,
   "metadata": {
    "collapsed": true
   },
   "outputs": [],
   "source": [
    "# Got this from `update_atlas.ipynb`\n",
    "\n",
    "std_rostral_caudal_all_structures = {'10N_L': 103.42021274923908,\n",
    " '10N_R': 75.95924780580737,\n",
    " '12N': 68.32049890900197,\n",
    " '3N_L': 54.97742349968691,\n",
    " '3N_R': 58.379548925477394,\n",
    " '4N_L': 30.67232267803452,\n",
    " '4N_R': 60.29220799807557,\n",
    " '5N_L': 56.57086576638428,\n",
    " '5N_R': 49.10816722833687,\n",
    " '6N_L': 74.3642772366564,\n",
    " '6N_R': 81.55248706408344,\n",
    " '7N_L': 48.31151635654887,\n",
    " '7N_R': 41.47692179437372,\n",
    " '7n_L': 35.19943253565955,\n",
    " '7n_R': 42.287104089026364,\n",
    " 'AP': 88.0574920336851,\n",
    " 'Amb_L': 73.53499710520586,\n",
    " 'Amb_R': 40.78454054188801,\n",
    " 'DC_L': 102.55766464685689,\n",
    " 'DC_R': 84.42462719496737,\n",
    " 'IC': 49.89508894942529,\n",
    " 'LC_L': 54.742163166311165,\n",
    " 'LC_R': 45.455029290349195,\n",
    " 'LRt_L': 94.83452479180202,\n",
    " 'LRt_R': 50.495272487349126,\n",
    " 'PBG_L': 125.32155168375405,\n",
    " 'PBG_R': 144.0799798618805,\n",
    " 'Pn_L': 26.95352835751879,\n",
    " 'Pn_R': 30.714566472150093,\n",
    " 'RMC_L': 42.376941495891515,\n",
    " 'RMC_R': 61.40273269428388,\n",
    " 'RtTg': 33.81589003254259,\n",
    " 'SC': 58.204642126226496,\n",
    " 'SNC_L': 71.68790405871921,\n",
    " 'SNC_R': 96.45458747105981,\n",
    " 'SNR_L': 66.43441836299478,\n",
    " 'SNR_R': 97.54493855224497,\n",
    " 'Sp5C_L': 60.46272962021727,\n",
    " 'Sp5C_R': 103.9787422763316,\n",
    " 'Sp5I_L': 63.10318088419658,\n",
    " 'Sp5I_R': 81.01362617645212,\n",
    " 'Sp5O_L': 71.46808744368994,\n",
    " 'Sp5O_R': 90.04113695199503,\n",
    " 'Tz_L': 61.53237060781115,\n",
    " 'Tz_R': 52.00457612796869,\n",
    " 'VCA_L': 76.74775208219178,\n",
    " 'VCA_R': 101.90966907267152,\n",
    " 'VCP_L': 114.3421015638567,\n",
    " 'VCP_R': 117.19213463683252,\n",
    " 'VLL_L': 50.55337770750099,\n",
    " 'VLL_R': 69.01056120588787}"
   ]
  }
 ],
 "metadata": {
  "kernelspec": {
   "display_name": "Python 2",
   "language": "python",
   "name": "python2"
  },
  "language_info": {
   "codemirror_mode": {
    "name": "ipython",
    "version": 2
   },
   "file_extension": ".py",
   "mimetype": "text/x-python",
   "name": "python",
   "nbconvert_exporter": "python",
   "pygments_lexer": "ipython2",
   "version": "2.7.12"
  }
 },
 "nbformat": 4,
 "nbformat_minor": 2
}
