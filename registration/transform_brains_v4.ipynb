{
 "cells": [
  {
   "cell_type": "code",
   "execution_count": 10,
   "metadata": {},
   "outputs": [
    {
     "name": "stdout",
     "output_type": "stream",
     "text": [
      "The autoreload extension is already loaded. To reload it, use:\n",
      "  %reload_ext autoreload\n"
     ]
    }
   ],
   "source": [
    "%load_ext autoreload\n",
    "%autoreload 2\n",
    "\n",
    "import sys\n",
    "import os\n",
    "import time\n",
    "\n",
    "import numpy as np\n",
    "import matplotlib.pyplot as plt\n",
    "%matplotlib inline\n",
    "\n",
    "sys.path.append(os.environ['REPO_DIR'] + '/utilities')\n",
    "from utilities2015 import *\n",
    "from registration_utilities import *\n",
    "from metadata import *\n",
    "from data_manager import *"
   ]
  },
  {
   "cell_type": "code",
   "execution_count": 11,
   "metadata": {
    "collapsed": true
   },
   "outputs": [],
   "source": [
    "stack_fixed = 'MD662'\n",
    "stack_moving = 'atlasV4'\n",
    "\n",
    "warp_setting = 16\n",
    "detector_id = 1"
   ]
  },
  {
   "cell_type": "markdown",
   "metadata": {},
   "source": [
    "# Global Transform - between two annotation volumes"
   ]
  },
  {
   "cell_type": "code",
   "execution_count": 56,
   "metadata": {
    "collapsed": true
   },
   "outputs": [],
   "source": [
    "global_params, centroid_m, centroid_f, xdim_m, ydim_m, zdim_m, xdim_f, ydim_f, zdim_f = \\\n",
    "DataManager.load_global_alignment_parameters(stack_moving=stack_moving, moving_volume_type='annotation',\n",
    "                                            stack_fixed=stack_fixed, fixed_volume_type='annotation',\n",
    "                                            global_transform_scheme=global_transform_scheme)"
   ]
  },
  {
   "cell_type": "code",
   "execution_count": 84,
   "metadata": {
    "collapsed": true
   },
   "outputs": [],
   "source": [
    "vol_m = DataManager.load_annotation_volume(stack=stack_moving, downscale=32)\n",
    "\n",
    "volume_m_alignedTo_f = \\\n",
    "transform_volume(vol=vol_m, global_params=global_params, centroid_m=centroid_m, centroid_f=centroid_f,\n",
    "                  xdim_f=xdim_f, ydim_f=ydim_f, zdim_f=zdim_f)\n",
    "\n",
    "volume_m_alignedTo_f_fn = DataManager.get_transformed_volume_filepath(stack_m=stack_moving, type_m='annotation',\n",
    "                                        stack_f=stack_fixed, type_f='annotation',\n",
    "                                        downscale=32,\n",
    "                                        global_transform_scheme=global_transform_scheme)\n",
    "\n",
    "create_if_not_exists(os.path.dirname(volume_m_alignedTo_f_fn))\n",
    "bp.pack_ndarray_file(volume_m_alignedTo_f, volume_m_alignedTo_f_fn)"
   ]
  },
  {
   "cell_type": "code",
   "execution_count": null,
   "metadata": {
    "collapsed": true
   },
   "outputs": [],
   "source": [
    "display_volume_sections(volume_m_alignedTo_f)"
   ]
  },
  {
   "cell_type": "markdown",
   "metadata": {},
   "source": [
    "# Global Transform Annotation Volumes"
   ]
  },
  {
   "cell_type": "code",
   "execution_count": 21,
   "metadata": {
    "collapsed": true
   },
   "outputs": [],
   "source": [
    "stack_fixed = 'MD589'\n",
    "stack_moving = 'MD585'"
   ]
  },
  {
   "cell_type": "code",
   "execution_count": 22,
   "metadata": {
    "collapsed": true
   },
   "outputs": [],
   "source": [
    "warp_setting = 9\n",
    "\n",
    "if warp_setting == 1:\n",
    "    upstream_warp_setting = None\n",
    "    transform_type = 'affine'\n",
    "elif warp_setting == 7:\n",
    "    upstream_warp_setting = None\n",
    "    transform_type = 'rigid'\n",
    "elif warp_setting == 8:\n",
    "    upstream_warp_setting = None\n",
    "    transform_type = None\n",
    "elif warp_setting == 9:\n",
    "    upstream_warp_setting = 8\n",
    "    transform_type = 'rigid'\n",
    "else:\n",
    "    raise Exception('Warp setting not recognized.')"
   ]
  },
  {
   "cell_type": "code",
   "execution_count": 23,
   "metadata": {
    "collapsed": true
   },
   "outputs": [],
   "source": [
    "# Load transform parameters\n",
    "\n",
    "global_params, centroid_m, centroid_f, xdim_m, ydim_m, zdim_m, xdim_f, ydim_f, zdim_f = \\\n",
    "DataManager.load_alignment_parameters(stack_m=stack_moving, stack_f=stack_fixed,\n",
    "                                      type_f='annotation_as_score',\n",
    "                                      type_m='annotation_as_score',\n",
    "                                      warp_setting=warp_setting,\n",
    "                                      trial_idx=0)"
   ]
  },
  {
   "cell_type": "code",
   "execution_count": 24,
   "metadata": {
    "scrolled": true
   },
   "outputs": [
    {
     "name": "stderr",
     "output_type": "stream",
     "text": [
      "Transform: 1.79 seconds.\n",
      "Transform: 1.77 seconds.\n",
      "Transform: 1.76 seconds.\n",
      "Transform: 1.76 seconds.\n",
      "Transform: 1.79 seconds.\n",
      "Transform: 1.79 seconds.\n",
      "Transform: 1.82 seconds.\n",
      "Transform: 1.82 seconds.\n",
      "Transform: 1.76 seconds.\n",
      "Transform: 1.76 seconds.\n",
      "Transform: 1.77 seconds.\n",
      "Transform: 1.76 seconds.\n",
      "Transform: 1.79 seconds.\n",
      "Transform: 1.79 seconds.\n",
      "Transform: 1.81 seconds.\n",
      "Transform: 1.80 seconds.\n",
      "Transform: 1.78 seconds.\n",
      "Transform: 1.78 seconds.\n",
      "Transform: 1.81 seconds.\n",
      "Transform: 1.80 seconds.\n",
      "Transform: 1.78 seconds.\n",
      "Transform: 1.78 seconds.\n",
      "Transform: 1.80 seconds.\n",
      "Transform: 1.81 seconds.\n",
      "Transform: 1.90 seconds.\n",
      "Transform: 1.88 seconds.\n",
      "Transform: 1.77 seconds.\n",
      "Transform: 1.77 seconds.\n",
      "Transform: 1.77 seconds.\n",
      "Transform: 1.77 seconds.\n",
      "Transform: 1.80 seconds.\n",
      "Transform: 1.79 seconds.\n",
      "Transform: 1.78 seconds.\n",
      "Transform: 1.80 seconds.\n",
      "Transform: 1.86 seconds.\n",
      "Transform: 1.85 seconds.\n",
      "Transform: 1.77 seconds.\n",
      "Transform: 1.77 seconds.\n",
      "Transform: 1.78 seconds.\n",
      "Transform: 1.78 seconds.\n",
      "Transform: 1.80 seconds.\n",
      "Transform: 1.80 seconds.\n",
      "Transform: 1.78 seconds.\n",
      "Transform: 1.79 seconds.\n",
      "Transform: 1.81 seconds.\n",
      "Transform: 1.80 seconds.\n",
      "Transform: 1.77 seconds.\n",
      "Transform: 1.80 seconds.\n",
      "Transform: 1.86 seconds.\n",
      "File does not exist: /oasis/projects/nsf/csd395/yuncong/CSHL_volumes/MD594/MD594_down32_annotationAsScoreVolume_warp_8_MD589_down32_annotationAsScoreVolume_trial_0/score_volumes/MD594_down32_annotationAsScoreVolume_warp_8_MD589_down32_annotationAsScoreVolume_trial_0_sp5.bp\n",
      "[Errno 2] No such file or directory: '/oasis/projects/nsf/csd395/yuncong/CSHL_volumes/MD594/MD594_down32_annotationAsScoreVolume_warp_8_MD589_down32_annotationAsScoreVolume_trial_0/score_volumes/MD594_down32_annotationAsScoreVolume_warp_8_MD589_down32_annotationAsScoreVolume_trial_0_sp5.bp'\n",
      "Error transforming volume sp5.\n",
      "File does not exist: /oasis/projects/nsf/csd395/yuncong/CSHL_volumes/MD594/MD594_down32_annotationAsScoreVolume_warp_8_MD589_down32_annotationAsScoreVolume_trial_0/score_volumes/MD594_down32_annotationAsScoreVolume_warp_8_MD589_down32_annotationAsScoreVolume_trial_0_outerContour.bp\n",
      "[Errno 2] No such file or directory: '/oasis/projects/nsf/csd395/yuncong/CSHL_volumes/MD594/MD594_down32_annotationAsScoreVolume_warp_8_MD589_down32_annotationAsScoreVolume_trial_0/score_volumes/MD594_down32_annotationAsScoreVolume_warp_8_MD589_down32_annotationAsScoreVolume_trial_0_outerContour.bp'\n",
      "Error transforming volume outerContour.\n",
      "Transform: 2.38 seconds.\n",
      "Transform: 2.12 seconds.\n"
     ]
    }
   ],
   "source": [
    "# for structure in all_known_structures_sided_with_surround:\n",
    "for structure in all_known_structures_sided:\n",
    "# for structure in ['7N_L']:\n",
    "    \n",
    "    try:\n",
    "        t = time.time()\n",
    "\n",
    "        vol_m = DataManager.load_transformed_volume(stack_m=stack_moving, stack_f=stack_fixed,\n",
    "                                                          type_m='annotation_as_score', \n",
    "                                                          type_f='annotation_as_score',\n",
    "                                                         warp_setting=upstream_warp_setting,\n",
    "                                                         structure=structure)\n",
    "        \n",
    "        volume_m_alignedTo_f = \\\n",
    "        transform_volume(vol=vol_m, global_params=global_params, centroid_m=centroid_m, centroid_f=centroid_f,\n",
    "                          xdim_f=xdim_f, ydim_f=ydim_f, zdim_f=zdim_f)\n",
    "\n",
    "        volume_m_alignedTo_f_fn = \\\n",
    "        DataManager.get_transformed_volume_filepath(stack_m=stack_moving, stack_f=stack_fixed,\n",
    "                                                    type_m='annotation_as_score',\n",
    "                                                    type_f='annotation_as_score',\n",
    "                                                    warp_setting=warp_setting,\n",
    "                                                    structure=structure)\n",
    "\n",
    "        create_if_not_exists(os.path.dirname(volume_m_alignedTo_f_fn))\n",
    "        bp.pack_ndarray_file(volume_m_alignedTo_f, volume_m_alignedTo_f_fn)\n",
    "    \n",
    "        sys.stderr.write('Transform: %.2f seconds.\\n' % (time.time() - t)) # 3s\n",
    "    \n",
    "    except Exception as e:\n",
    "        sys.stderr.write('%s\\n' % e)\n",
    "        sys.stderr.write('Error transforming volume %s.\\n' % structure)"
   ]
  },
  {
   "cell_type": "markdown",
   "metadata": {
    "collapsed": true
   },
   "source": [
    "# Global Transform"
   ]
  },
  {
   "cell_type": "code",
   "execution_count": 3,
   "metadata": {
    "collapsed": true
   },
   "outputs": [],
   "source": [
    "warp_setting = 16\n",
    "trial_idx = None"
   ]
  },
  {
   "cell_type": "code",
   "execution_count": 4,
   "metadata": {
    "collapsed": true
   },
   "outputs": [],
   "source": [
    "warp_properties = registration_settings.loc[warp_setting]\n",
    "\n",
    "upstream_warp_setting = warp_properties['upstream_warp_id']\n",
    "if upstream_warp_setting == 'None':\n",
    "    upstream_warp_setting = None\n",
    "else:\n",
    "    upstream_warp_setting = int(upstream_warp_setting)"
   ]
  },
  {
   "cell_type": "code",
   "execution_count": 5,
   "metadata": {
    "collapsed": true,
    "scrolled": true
   },
   "outputs": [],
   "source": [
    "# Load transform parameters\n",
    "\n",
    "global_params, centroid_m, centroid_f, xdim_m, ydim_m, zdim_m, xdim_f, ydim_f, zdim_f = \\\n",
    "DataManager.load_alignment_parameters(stack_m=stack_moving, stack_f=stack_fixed,\n",
    "                                      prep_id_f=2,\n",
    "                                      detector_id_f=detector_id,\n",
    "                                      warp_setting=warp_setting)"
   ]
  },
  {
   "cell_type": "code",
   "execution_count": 6,
   "metadata": {
    "collapsed": true
   },
   "outputs": [],
   "source": [
    "# Parallel"
   ]
  },
  {
   "cell_type": "code",
   "execution_count": 8,
   "metadata": {
    "collapsed": true
   },
   "outputs": [],
   "source": [
    "def transform_volume_one_structure(structure):\n",
    "    try:\n",
    "        t = time.time()\n",
    "\n",
    "        vol_m = DataManager.load_original_volume(stack=stack_moving, structure=structure, \n",
    "                                                 downscale=32)\n",
    "\n",
    "        volume_m_alignedTo_f = \\\n",
    "        transform_volume(vol=vol_m, global_params=global_params, centroid_m=centroid_m, centroid_f=centroid_f,\n",
    "                          xdim_f=xdim_f, ydim_f=ydim_f, zdim_f=zdim_f)\n",
    "\n",
    "        volume_m_alignedTo_f_fp = \\\n",
    "        DataManager.get_transformed_volume_filepath(stack_m=stack_moving,\n",
    "                                                    stack_f=stack_fixed,\n",
    "                                                    detector_id_f=detector_id,\n",
    "                                                    warp_setting=warp_setting,\n",
    "                                                    structure=structure,\n",
    "                                                   trial_idx=trial_idx)\n",
    "\n",
    "        create_parent_dir_if_not_exists(volume_m_alignedTo_f_fp)\n",
    "        bp.pack_ndarray_file(volume_m_alignedTo_f, volume_m_alignedTo_f_fp)\n",
    "        \n",
    "        upload_to_s3(volume_m_alignedTo_f_fp)\n",
    "    \n",
    "        sys.stderr.write('Transform: %.2f seconds.\\n' % (time.time() - t)) # 3s\n",
    "    \n",
    "    except Exception as e:\n",
    "        sys.stderr.write('Error transforming volume %s: %s.\\n' % (structure, e))"
   ]
  },
  {
   "cell_type": "code",
   "execution_count": 9,
   "metadata": {
    "scrolled": true
   },
   "outputs": [
    {
     "name": "stdout",
     "output_type": "stream",
     "text": [
      "aws s3 cp \"/shared/CSHL_volumes/atlasV4/atlasV4_down32_scoreVolume_warp16_MD662_detector1_down32_scoreVolume/score_volumes/atlasV4_down32_scoreVolume_warp16_MD662_detector1_down32_scoreVolume_10N_L.bp\" \"s3://mousebrainatlas-data/CSHL_volumes/atlasV4/atlasV4_down32_scoreVolume_warp16_MD662_detector1_down32_scoreVolume/score_volumes/atlasV4_down32_scoreVolume_warp16_MD662_detector1_down32_scoreVolume_10N_L.bp\"\n",
      "aws s3 cp \"/shared/CSHL_volumes/atlasV4/atlasV4_down32_scoreVolume_warp16_MD662_detector1_down32_scoreVolume/score_volumes/atlasV4_down32_scoreVolume_warp16_MD662_detector1_down32_scoreVolume_4N_L.bp\" \"s3://mousebrainatlas-data/CSHL_volumes/atlasV4/atlasV4_down32_scoreVolume_warp16_MD662_detector1_down32_scoreVolume/score_volumes/atlasV4_down32_scoreVolume_warp16_MD662_detector1_down32_scoreVolume_4N_L.bp\"\n",
      "aws s3 cp \"/shared/CSHL_volumes/atlasV4/atlasV4_down32_scoreVolume_warp16_MD662_detector1_down32_scoreVolume/score_volumes/atlasV4_down32_scoreVolume_warp16_MD662_detector1_down32_scoreVolume_4N_R.bp\" \"s3://mousebrainatlas-data/CSHL_volumes/atlasV4/atlasV4_down32_scoreVolume_warp16_MD662_detector1_down32_scoreVolume/score_volumes/atlasV4_down32_scoreVolume_warp16_MD662_detector1_down32_scoreVolume_4N_R.bp\"\n",
      "aws s3 cp \"/shared/CSHL_volumes/atlasV4/atlasV4_down32_scoreVolume_warp16_MD662_detector1_down32_scoreVolume/score_volumes/atlasV4_down32_scoreVolume_warp16_MD662_detector1_down32_scoreVolume_3N_R.bp\" \"s3://mousebrainatlas-data/CSHL_volumes/atlasV4/atlasV4_down32_scoreVolume_warp16_MD662_detector1_down32_scoreVolume/score_volumes/atlasV4_down32_scoreVolume_warp16_MD662_detector1_down32_scoreVolume_3N_R.bp\"\n",
      "aws s3 cp \"/shared/CSHL_volumes/atlasV4/atlasV4_down32_scoreVolume_warp16_MD662_detector1_down32_scoreVolume/score_volumes/atlasV4_down32_scoreVolume_warp16_MD662_detector1_down32_scoreVolume_6N_R.bp\" \"s3://mousebrainatlas-data/CSHL_volumes/atlasV4/atlasV4_down32_scoreVolume_warp16_MD662_detector1_down32_scoreVolume/score_volumes/atlasV4_down32_scoreVolume_warp16_MD662_detector1_down32_scoreVolume_6N_R.bp\"\n",
      "aws s3 cp \"/shared/CSHL_volumes/atlasV4/atlasV4_down32_scoreVolume_warp16_MD662_detector1_down32_scoreVolume/score_volumes/atlasV4_down32_scoreVolume_warp16_MD662_detector1_down32_scoreVolume_AP.bp\" \"s3://mousebrainatlas-data/CSHL_volumes/atlasV4/atlasV4_down32_scoreVolume_warp16_MD662_detector1_down32_scoreVolume/score_volumes/atlasV4_down32_scoreVolume_warp16_MD662_detector1_down32_scoreVolume_AP.bp\"\n",
      "aws s3 cp \"/shared/CSHL_volumes/atlasV4/atlasV4_down32_scoreVolume_warp16_MD662_detector1_down32_scoreVolume/score_volumes/atlasV4_down32_scoreVolume_warp16_MD662_detector1_down32_scoreVolume_5N_L.bp\" \"s3://mousebrainatlas-data/CSHL_volumes/atlasV4/atlasV4_down32_scoreVolume_warp16_MD662_detector1_down32_scoreVolume/score_volumes/atlasV4_down32_scoreVolume_warp16_MD662_detector1_down32_scoreVolume_5N_L.bp\"\n",
      "aws s3 cp \"/shared/CSHL_volumes/atlasV4/atlasV4_down32_scoreVolume_warp16_MD662_detector1_down32_scoreVolume/score_volumes/atlasV4_down32_scoreVolume_warp16_MD662_detector1_down32_scoreVolume_3N_L.bp\" \"s3://mousebrainatlas-data/CSHL_volumes/atlasV4/atlasV4_down32_scoreVolume_warp16_MD662_detector1_down32_scoreVolume/score_volumes/atlasV4_down32_scoreVolume_warp16_MD662_detector1_down32_scoreVolume_3N_L.bp\"\n",
      "aws s3 cp \"/shared/CSHL_volumes/atlasV4/atlasV4_down32_scoreVolume_warp16_MD662_detector1_down32_scoreVolume/score_volumes/atlasV4_down32_scoreVolume_warp16_MD662_detector1_down32_scoreVolume_10N_R.bp\" \"s3://mousebrainatlas-data/CSHL_volumes/atlasV4/atlasV4_down32_scoreVolume_warp16_MD662_detector1_down32_scoreVolume/score_volumes/atlasV4_down32_scoreVolume_warp16_MD662_detector1_down32_scoreVolume_10N_R.bp\"\n",
      "aws s3 cp \"/shared/CSHL_volumes/atlasV4/atlasV4_down32_scoreVolume_warp16_MD662_detector1_down32_scoreVolume/score_volumes/atlasV4_down32_scoreVolume_warp16_MD662_detector1_down32_scoreVolume_6N_L.bp\" \"s3://mousebrainatlas-data/CSHL_volumes/atlasV4/atlasV4_down32_scoreVolume_warp16_MD662_detector1_down32_scoreVolume/score_volumes/atlasV4_down32_scoreVolume_warp16_MD662_detector1_down32_scoreVolume_6N_L.bp\"\n",
      "aws s3 cp \"/shared/CSHL_volumes/atlasV4/atlasV4_down32_scoreVolume_warp16_MD662_detector1_down32_scoreVolume/score_volumes/atlasV4_down32_scoreVolume_warp16_MD662_detector1_down32_scoreVolume_7N_L.bp\" \"s3://mousebrainatlas-data/CSHL_volumes/atlasV4/atlasV4_down32_scoreVolume_warp16_MD662_detector1_down32_scoreVolume/score_volumes/atlasV4_down32_scoreVolume_warp16_MD662_detector1_down32_scoreVolume_7N_L.bp\"\n",
      "aws s3 cp \"/shared/CSHL_volumes/atlasV4/atlasV4_down32_scoreVolume_warp16_MD662_detector1_down32_scoreVolume/score_volumes/atlasV4_down32_scoreVolume_warp16_MD662_detector1_down32_scoreVolume_5N_R.bp\" \"s3://mousebrainatlas-data/CSHL_volumes/atlasV4/atlasV4_down32_scoreVolume_warp16_MD662_detector1_down32_scoreVolume/score_volumes/atlasV4_down32_scoreVolume_warp16_MD662_detector1_down32_scoreVolume_5N_R.bp\"\n",
      "aws s3 cp \"/shared/CSHL_volumes/atlasV4/atlasV4_down32_scoreVolume_warp16_MD662_detector1_down32_scoreVolume/score_volumes/atlasV4_down32_scoreVolume_warp16_MD662_detector1_down32_scoreVolume_7N_R.bp\" \"s3://mousebrainatlas-data/CSHL_volumes/atlasV4/atlasV4_down32_scoreVolume_warp16_MD662_detector1_down32_scoreVolume/score_volumes/atlasV4_down32_scoreVolume_warp16_MD662_detector1_down32_scoreVolume_7N_R.bp\"\n",
      "aws s3 cp \"/shared/CSHL_volumes/atlasV4/atlasV4_down32_scoreVolume_warp16_MD662_detector1_down32_scoreVolume/score_volumes/atlasV4_down32_scoreVolume_warp16_MD662_detector1_down32_scoreVolume_12N.bp\" \"s3://mousebrainatlas-data/CSHL_volumes/atlasV4/atlasV4_down32_scoreVolume_warp16_MD662_detector1_down32_scoreVolume/score_volumes/atlasV4_down32_scoreVolume_warp16_MD662_detector1_down32_scoreVolume_12N.bp\"\n",
      "aws s3 cp \"/shared/CSHL_volumes/atlasV4/atlasV4_down32_scoreVolume_warp16_MD662_detector1_down32_scoreVolume/score_volumes/atlasV4_down32_scoreVolume_warp16_MD662_detector1_down32_scoreVolume_7n_L.bp\" \"s3://mousebrainatlas-data/CSHL_volumes/atlasV4/atlasV4_down32_scoreVolume_warp16_MD662_detector1_down32_scoreVolume/score_volumes/atlasV4_down32_scoreVolume_warp16_MD662_detector1_down32_scoreVolume_7n_L.bp\"\n",
      "aws s3 cp \"/shared/CSHL_volumes/atlasV4/atlasV4_down32_scoreVolume_warp16_MD662_detector1_down32_scoreVolume/score_volumes/atlasV4_down32_scoreVolume_warp16_MD662_detector1_down32_scoreVolume_7n_R.bp\" \"s3://mousebrainatlas-data/CSHL_volumes/atlasV4/atlasV4_down32_scoreVolume_warp16_MD662_detector1_down32_scoreVolume/score_volumes/atlasV4_down32_scoreVolume_warp16_MD662_detector1_down32_scoreVolume_7n_R.bp\"\n"
     ]
    },
    {
     "name": "stderr",
     "output_type": "stream",
     "text": [
      "Transform: 4.21 seconds.\n",
      "Transform: 4.23 seconds.\n",
      "Transform: 4.23 seconds.\n",
      "Transform: 4.25 seconds.\n",
      "Transform: 4.27 seconds.\n",
      "Transform: 4.29 seconds.\n",
      "Transform: 4.30 seconds.\n",
      "Transform: 4.30 seconds.\n",
      "Transform: 4.32 seconds.\n",
      "Transform: 4.29 seconds.\n",
      "Transform: 4.32 seconds.\n",
      "Transform: 4.33 seconds.\n",
      "Transform: 4.34 seconds.\n",
      "Transform: 4.36 seconds.\n",
      "Transform: 4.37 seconds.\n",
      "Transform: 4.38 seconds.\n"
     ]
    },
    {
     "name": "stdout",
     "output_type": "stream",
     "text": [
      "aws s3 cp \"/shared/CSHL_volumes/atlasV4/atlasV4_down32_scoreVolume_warp16_MD662_detector1_down32_scoreVolume/score_volumes/atlasV4_down32_scoreVolume_warp16_MD662_detector1_down32_scoreVolume_4N_L_surround_200.bp\" \"s3://mousebrainatlas-data/CSHL_volumes/atlasV4/atlasV4_down32_scoreVolume_warp16_MD662_detector1_down32_scoreVolume/score_volumes/atlasV4_down32_scoreVolume_warp16_MD662_detector1_down32_scoreVolume_4N_L_surround_200.bp\"\n",
      "aws s3 cp \"/shared/CSHL_volumes/atlasV4/atlasV4_down32_scoreVolume_warp16_MD662_detector1_down32_scoreVolume/score_volumes/atlasV4_down32_scoreVolume_warp16_MD662_detector1_down32_scoreVolume_4N_R_surround_200.bp\" \"s3://mousebrainatlas-data/CSHL_volumes/atlasV4/atlasV4_down32_scoreVolume_warp16_MD662_detector1_down32_scoreVolume/score_volumes/atlasV4_down32_scoreVolume_warp16_MD662_detector1_down32_scoreVolume_4N_R_surround_200.bp\"\n",
      "aws s3 cp \"/shared/CSHL_volumes/atlasV4/atlasV4_down32_scoreVolume_warp16_MD662_detector1_down32_scoreVolume/score_volumes/atlasV4_down32_scoreVolume_warp16_MD662_detector1_down32_scoreVolume_3N_L_surround_200.bp\" \"s3://mousebrainatlas-data/CSHL_volumes/atlasV4/atlasV4_down32_scoreVolume_warp16_MD662_detector1_down32_scoreVolume/score_volumes/atlasV4_down32_scoreVolume_warp16_MD662_detector1_down32_scoreVolume_3N_L_surround_200.bp\"\n",
      "aws s3 cp \"/shared/CSHL_volumes/atlasV4/atlasV4_down32_scoreVolume_warp16_MD662_detector1_down32_scoreVolume/score_volumes/atlasV4_down32_scoreVolume_warp16_MD662_detector1_down32_scoreVolume_6N_R_surround_200.bp\" \"s3://mousebrainatlas-data/CSHL_volumes/atlasV4/atlasV4_down32_scoreVolume_warp16_MD662_detector1_down32_scoreVolume/score_volumes/atlasV4_down32_scoreVolume_warp16_MD662_detector1_down32_scoreVolume_6N_R_surround_200.bp\"\n",
      "aws s3 cp \"/shared/CSHL_volumes/atlasV4/atlasV4_down32_scoreVolume_warp16_MD662_detector1_down32_scoreVolume/score_volumes/atlasV4_down32_scoreVolume_warp16_MD662_detector1_down32_scoreVolume_3N_R_surround_200.bp\" \"s3://mousebrainatlas-data/CSHL_volumes/atlasV4/atlasV4_down32_scoreVolume_warp16_MD662_detector1_down32_scoreVolume/score_volumes/atlasV4_down32_scoreVolume_warp16_MD662_detector1_down32_scoreVolume_3N_R_surround_200.bp\"\n",
      "aws s3 cp \"/shared/CSHL_volumes/atlasV4/atlasV4_down32_scoreVolume_warp16_MD662_detector1_down32_scoreVolume/score_volumes/atlasV4_down32_scoreVolume_warp16_MD662_detector1_down32_scoreVolume_7N_R_surround_200.bp\" \"s3://mousebrainatlas-data/CSHL_volumes/atlasV4/atlasV4_down32_scoreVolume_warp16_MD662_detector1_down32_scoreVolume/score_volumes/atlasV4_down32_scoreVolume_warp16_MD662_detector1_down32_scoreVolume_7N_R_surround_200.bp\"\n",
      "aws s3 cp \"/shared/CSHL_volumes/atlasV4/atlasV4_down32_scoreVolume_warp16_MD662_detector1_down32_scoreVolume/score_volumes/atlasV4_down32_scoreVolume_warp16_MD662_detector1_down32_scoreVolume_10N_R_surround_200.bp\" \"s3://mousebrainatlas-data/CSHL_volumes/atlasV4/atlasV4_down32_scoreVolume_warp16_MD662_detector1_down32_scoreVolume/score_volumes/atlasV4_down32_scoreVolume_warp16_MD662_detector1_down32_scoreVolume_10N_R_surround_200.bp\"\n",
      "aws s3 cp \"/shared/CSHL_volumes/atlasV4/atlasV4_down32_scoreVolume_warp16_MD662_detector1_down32_scoreVolume/score_volumes/atlasV4_down32_scoreVolume_warp16_MD662_detector1_down32_scoreVolume_10N_L_surround_200.bp\" \"s3://mousebrainatlas-data/CSHL_volumes/atlasV4/atlasV4_down32_scoreVolume_warp16_MD662_detector1_down32_scoreVolume/score_volumes/atlasV4_down32_scoreVolume_warp16_MD662_detector1_down32_scoreVolume_10N_L_surround_200.bp\"\n",
      "aws s3 cp \"/shared/CSHL_volumes/atlasV4/atlasV4_down32_scoreVolume_warp16_MD662_detector1_down32_scoreVolume/score_volumes/atlasV4_down32_scoreVolume_warp16_MD662_detector1_down32_scoreVolume_7N_L_surround_200.bp\" \"s3://mousebrainatlas-data/CSHL_volumes/atlasV4/atlasV4_down32_scoreVolume_warp16_MD662_detector1_down32_scoreVolume/score_volumes/atlasV4_down32_scoreVolume_warp16_MD662_detector1_down32_scoreVolume_7N_L_surround_200.bp\"\n",
      "aws s3 cp \"/shared/CSHL_volumes/atlasV4/atlasV4_down32_scoreVolume_warp16_MD662_detector1_down32_scoreVolume/score_volumes/atlasV4_down32_scoreVolume_warp16_MD662_detector1_down32_scoreVolume_6N_L_surround_200.bp\" \"s3://mousebrainatlas-data/CSHL_volumes/atlasV4/atlasV4_down32_scoreVolume_warp16_MD662_detector1_down32_scoreVolume/score_volumes/atlasV4_down32_scoreVolume_warp16_MD662_detector1_down32_scoreVolume_6N_L_surround_200.bp\"\n",
      "aws s3 cp \"/shared/CSHL_volumes/atlasV4/atlasV4_down32_scoreVolume_warp16_MD662_detector1_down32_scoreVolume/score_volumes/atlasV4_down32_scoreVolume_warp16_MD662_detector1_down32_scoreVolume_5N_L_surround_200.bp\" \"s3://mousebrainatlas-data/CSHL_volumes/atlasV4/atlasV4_down32_scoreVolume_warp16_MD662_detector1_down32_scoreVolume/score_volumes/atlasV4_down32_scoreVolume_warp16_MD662_detector1_down32_scoreVolume_5N_L_surround_200.bp\"\n",
      "aws s3 cp \"/shared/CSHL_volumes/atlasV4/atlasV4_down32_scoreVolume_warp16_MD662_detector1_down32_scoreVolume/score_volumes/atlasV4_down32_scoreVolume_warp16_MD662_detector1_down32_scoreVolume_AP_surround_200.bp\" \"s3://mousebrainatlas-data/CSHL_volumes/atlasV4/atlasV4_down32_scoreVolume_warp16_MD662_detector1_down32_scoreVolume/score_volumes/atlasV4_down32_scoreVolume_warp16_MD662_detector1_down32_scoreVolume_AP_surround_200.bp\"\n",
      "aws s3 cp \"/shared/CSHL_volumes/atlasV4/atlasV4_down32_scoreVolume_warp16_MD662_detector1_down32_scoreVolume/score_volumes/atlasV4_down32_scoreVolume_warp16_MD662_detector1_down32_scoreVolume_5N_R_surround_200.bp\" \"s3://mousebrainatlas-data/CSHL_volumes/atlasV4/atlasV4_down32_scoreVolume_warp16_MD662_detector1_down32_scoreVolume/score_volumes/atlasV4_down32_scoreVolume_warp16_MD662_detector1_down32_scoreVolume_5N_R_surround_200.bp\"\n",
      "aws s3 cp \"/shared/CSHL_volumes/atlasV4/atlasV4_down32_scoreVolume_warp16_MD662_detector1_down32_scoreVolume/score_volumes/atlasV4_down32_scoreVolume_warp16_MD662_detector1_down32_scoreVolume_12N_surround_200.bp\" \"s3://mousebrainatlas-data/CSHL_volumes/atlasV4/atlasV4_down32_scoreVolume_warp16_MD662_detector1_down32_scoreVolume/score_volumes/atlasV4_down32_scoreVolume_warp16_MD662_detector1_down32_scoreVolume_12N_surround_200.bp\"\n",
      "aws s3 cp \"/shared/CSHL_volumes/atlasV4/atlasV4_down32_scoreVolume_warp16_MD662_detector1_down32_scoreVolume/score_volumes/atlasV4_down32_scoreVolume_warp16_MD662_detector1_down32_scoreVolume_7n_R_surround_200.bp\" \"s3://mousebrainatlas-data/CSHL_volumes/atlasV4/atlasV4_down32_scoreVolume_warp16_MD662_detector1_down32_scoreVolume/score_volumes/atlasV4_down32_scoreVolume_warp16_MD662_detector1_down32_scoreVolume_7n_R_surround_200.bp\"\n",
      "aws s3 cp \"/shared/CSHL_volumes/atlasV4/atlasV4_down32_scoreVolume_warp16_MD662_detector1_down32_scoreVolume/score_volumes/atlasV4_down32_scoreVolume_warp16_MD662_detector1_down32_scoreVolume_7n_L_surround_200.bp\" \"s3://mousebrainatlas-data/CSHL_volumes/atlasV4/atlasV4_down32_scoreVolume_warp16_MD662_detector1_down32_scoreVolume/score_volumes/atlasV4_down32_scoreVolume_warp16_MD662_detector1_down32_scoreVolume_7n_L_surround_200.bp\"\n"
     ]
    },
    {
     "name": "stderr",
     "output_type": "stream",
     "text": [
      "Transform: 4.12 seconds.\n",
      "Transform: 4.16 seconds.\n",
      "Transform: 4.19 seconds.\n",
      "Transform: 4.19 seconds.\n",
      "Transform: 4.15 seconds.\n",
      "Transform: 4.17 seconds.\n",
      "Transform: 4.20 seconds.\n",
      "Transform: 4.19 seconds.\n",
      "Transform: 4.26 seconds.\n",
      "Transform: 4.22 seconds.\n",
      "Transform: 4.19 seconds.\n",
      "Transform: 4.23 seconds.\n",
      "Transform: 4.24 seconds.\n",
      "Transform: 4.21 seconds.\n",
      "Transform: 4.31 seconds.\n",
      "Transform: 4.46 seconds.\n"
     ]
    },
    {
     "name": "stdout",
     "output_type": "stream",
     "text": [
      "aws s3 cp \"/shared/CSHL_volumes/atlasV4/atlasV4_down32_scoreVolume_warp16_MD662_detector1_down32_scoreVolume/score_volumes/atlasV4_down32_scoreVolume_warp16_MD662_detector1_down32_scoreVolume_Amb_L.bp\" \"s3://mousebrainatlas-data/CSHL_volumes/atlasV4/atlasV4_down32_scoreVolume_warp16_MD662_detector1_down32_scoreVolume/score_volumes/atlasV4_down32_scoreVolume_warp16_MD662_detector1_down32_scoreVolume_Amb_L.bp\"\n",
      "aws s3 cp \"/shared/CSHL_volumes/atlasV4/atlasV4_down32_scoreVolume_warp16_MD662_detector1_down32_scoreVolume/score_volumes/atlasV4_down32_scoreVolume_warp16_MD662_detector1_down32_scoreVolume_Amb_R.bp\" \"s3://mousebrainatlas-data/CSHL_volumes/atlasV4/atlasV4_down32_scoreVolume_warp16_MD662_detector1_down32_scoreVolume/score_volumes/atlasV4_down32_scoreVolume_warp16_MD662_detector1_down32_scoreVolume_Amb_R.bp\"\n",
      "aws s3 cp \"/shared/CSHL_volumes/atlasV4/atlasV4_down32_scoreVolume_warp16_MD662_detector1_down32_scoreVolume/score_volumes/atlasV4_down32_scoreVolume_warp16_MD662_detector1_down32_scoreVolume_DC_L.bp\" \"s3://mousebrainatlas-data/CSHL_volumes/atlasV4/atlasV4_down32_scoreVolume_warp16_MD662_detector1_down32_scoreVolume/score_volumes/atlasV4_down32_scoreVolume_warp16_MD662_detector1_down32_scoreVolume_DC_L.bp\"\n",
      "aws s3 cp \"/shared/CSHL_volumes/atlasV4/atlasV4_down32_scoreVolume_warp16_MD662_detector1_down32_scoreVolume/score_volumes/atlasV4_down32_scoreVolume_warp16_MD662_detector1_down32_scoreVolume_DC_R.bp\" \"s3://mousebrainatlas-data/CSHL_volumes/atlasV4/atlasV4_down32_scoreVolume_warp16_MD662_detector1_down32_scoreVolume/score_volumes/atlasV4_down32_scoreVolume_warp16_MD662_detector1_down32_scoreVolume_DC_R.bp\"\n",
      "aws s3 cp \"/shared/CSHL_volumes/atlasV4/atlasV4_down32_scoreVolume_warp16_MD662_detector1_down32_scoreVolume/score_volumes/atlasV4_down32_scoreVolume_warp16_MD662_detector1_down32_scoreVolume_PBG_L.bp\" \"s3://mousebrainatlas-data/CSHL_volumes/atlasV4/atlasV4_down32_scoreVolume_warp16_MD662_detector1_down32_scoreVolume/score_volumes/atlasV4_down32_scoreVolume_warp16_MD662_detector1_down32_scoreVolume_PBG_L.bp\"\n",
      "aws s3 cp \"/shared/CSHL_volumes/atlasV4/atlasV4_down32_scoreVolume_warp16_MD662_detector1_down32_scoreVolume/score_volumes/atlasV4_down32_scoreVolume_warp16_MD662_detector1_down32_scoreVolume_RMC_L.bp\" \"s3://mousebrainatlas-data/CSHL_volumes/atlasV4/atlasV4_down32_scoreVolume_warp16_MD662_detector1_down32_scoreVolume/score_volumes/atlasV4_down32_scoreVolume_warp16_MD662_detector1_down32_scoreVolume_RMC_L.bp\"\n",
      "aws s3 cp \"/shared/CSHL_volumes/atlasV4/atlasV4_down32_scoreVolume_warp16_MD662_detector1_down32_scoreVolume/score_volumes/atlasV4_down32_scoreVolume_warp16_MD662_detector1_down32_scoreVolume_LC_L.bp\" \"s3://mousebrainatlas-data/CSHL_volumes/atlasV4/atlasV4_down32_scoreVolume_warp16_MD662_detector1_down32_scoreVolume/score_volumes/atlasV4_down32_scoreVolume_warp16_MD662_detector1_down32_scoreVolume_LC_L.bp\"\n",
      "aws s3 cp \"/shared/CSHL_volumes/atlasV4/atlasV4_down32_scoreVolume_warp16_MD662_detector1_down32_scoreVolume/score_volumes/atlasV4_down32_scoreVolume_warp16_MD662_detector1_down32_scoreVolume_PBG_R.bp\" \"s3://mousebrainatlas-data/CSHL_volumes/atlasV4/atlasV4_down32_scoreVolume_warp16_MD662_detector1_down32_scoreVolume/score_volumes/atlasV4_down32_scoreVolume_warp16_MD662_detector1_down32_scoreVolume_PBG_R.bp\"\n",
      "aws s3 cp \"/shared/CSHL_volumes/atlasV4/atlasV4_down32_scoreVolume_warp16_MD662_detector1_down32_scoreVolume/score_volumes/atlasV4_down32_scoreVolume_warp16_MD662_detector1_down32_scoreVolume_RMC_R.bp\" \"s3://mousebrainatlas-data/CSHL_volumes/atlasV4/atlasV4_down32_scoreVolume_warp16_MD662_detector1_down32_scoreVolume/score_volumes/atlasV4_down32_scoreVolume_warp16_MD662_detector1_down32_scoreVolume_RMC_R.bp\"\n",
      "aws s3 cp \"/shared/CSHL_volumes/atlasV4/atlasV4_down32_scoreVolume_warp16_MD662_detector1_down32_scoreVolume/score_volumes/atlasV4_down32_scoreVolume_warp16_MD662_detector1_down32_scoreVolume_LC_R.bp\" \"s3://mousebrainatlas-data/CSHL_volumes/atlasV4/atlasV4_down32_scoreVolume_warp16_MD662_detector1_down32_scoreVolume/score_volumes/atlasV4_down32_scoreVolume_warp16_MD662_detector1_down32_scoreVolume_LC_R.bp\"\n",
      "aws s3 cp \"/shared/CSHL_volumes/atlasV4/atlasV4_down32_scoreVolume_warp16_MD662_detector1_down32_scoreVolume/score_volumes/atlasV4_down32_scoreVolume_warp16_MD662_detector1_down32_scoreVolume_Pn_L.bp\" \"s3://mousebrainatlas-data/CSHL_volumes/atlasV4/atlasV4_down32_scoreVolume_warp16_MD662_detector1_down32_scoreVolume/score_volumes/atlasV4_down32_scoreVolume_warp16_MD662_detector1_down32_scoreVolume_Pn_L.bp\"\n",
      "aws s3 cp \"/shared/CSHL_volumes/atlasV4/atlasV4_down32_scoreVolume_warp16_MD662_detector1_down32_scoreVolume/score_volumes/atlasV4_down32_scoreVolume_warp16_MD662_detector1_down32_scoreVolume_Pn_R.bp\" \"s3://mousebrainatlas-data/CSHL_volumes/atlasV4/atlasV4_down32_scoreVolume_warp16_MD662_detector1_down32_scoreVolume/score_volumes/atlasV4_down32_scoreVolume_warp16_MD662_detector1_down32_scoreVolume_Pn_R.bp\"\n",
      "aws s3 cp \"/shared/CSHL_volumes/atlasV4/atlasV4_down32_scoreVolume_warp16_MD662_detector1_down32_scoreVolume/score_volumes/atlasV4_down32_scoreVolume_warp16_MD662_detector1_down32_scoreVolume_LRt_L.bp\" \"s3://mousebrainatlas-data/CSHL_volumes/atlasV4/atlasV4_down32_scoreVolume_warp16_MD662_detector1_down32_scoreVolume/score_volumes/atlasV4_down32_scoreVolume_warp16_MD662_detector1_down32_scoreVolume_LRt_L.bp\"\n",
      "aws s3 cp \"/shared/CSHL_volumes/atlasV4/atlasV4_down32_scoreVolume_warp16_MD662_detector1_down32_scoreVolume/score_volumes/atlasV4_down32_scoreVolume_warp16_MD662_detector1_down32_scoreVolume_LRt_R.bp\" \"s3://mousebrainatlas-data/CSHL_volumes/atlasV4/atlasV4_down32_scoreVolume_warp16_MD662_detector1_down32_scoreVolume/score_volumes/atlasV4_down32_scoreVolume_warp16_MD662_detector1_down32_scoreVolume_LRt_R.bp\"\n"
     ]
    },
    {
     "name": "stderr",
     "output_type": "stream",
     "text": [
      "Transform: 4.12 seconds.\n"
     ]
    },
    {
     "name": "stdout",
     "output_type": "stream",
     "text": [
      "aws s3 cp \"/shared/CSHL_volumes/atlasV4/atlasV4_down32_scoreVolume_warp16_MD662_detector1_down32_scoreVolume/score_volumes/atlasV4_down32_scoreVolume_warp16_MD662_detector1_down32_scoreVolume_RtTg.bp\" \"s3://mousebrainatlas-data/CSHL_volumes/atlasV4/atlasV4_down32_scoreVolume_warp16_MD662_detector1_down32_scoreVolume/score_volumes/atlasV4_down32_scoreVolume_warp16_MD662_detector1_down32_scoreVolume_RtTg.bp\"\n"
     ]
    },
    {
     "name": "stderr",
     "output_type": "stream",
     "text": [
      "Transform: 4.15 seconds.\n",
      "Transform: 4.22 seconds.\n",
      "Transform: 4.11 seconds.\n",
      "Transform: 4.17 seconds.\n",
      "Transform: 4.29 seconds.\n",
      "Transform: 4.29 seconds.\n",
      "Transform: 4.31 seconds.\n",
      "Transform: 4.18 seconds.\n",
      "Transform: 4.26 seconds.\n",
      "Transform: 4.31 seconds.\n",
      "Transform: 4.31 seconds.\n",
      "Transform: 4.48 seconds.\n",
      "Transform: 4.51 seconds.\n",
      "Transform: 4.41 seconds.\n"
     ]
    },
    {
     "name": "stdout",
     "output_type": "stream",
     "text": [
      "aws s3 cp \"/shared/CSHL_volumes/atlasV4/atlasV4_down32_scoreVolume_warp16_MD662_detector1_down32_scoreVolume/score_volumes/atlasV4_down32_scoreVolume_warp16_MD662_detector1_down32_scoreVolume_IC.bp\" \"s3://mousebrainatlas-data/CSHL_volumes/atlasV4/atlasV4_down32_scoreVolume_warp16_MD662_detector1_down32_scoreVolume/score_volumes/atlasV4_down32_scoreVolume_warp16_MD662_detector1_down32_scoreVolume_IC.bp\"\n"
     ]
    },
    {
     "name": "stderr",
     "output_type": "stream",
     "text": [
      "Transform: 6.21 seconds.\n"
     ]
    },
    {
     "name": "stdout",
     "output_type": "stream",
     "text": [
      "aws s3 cp \"/shared/CSHL_volumes/atlasV4/atlasV4_down32_scoreVolume_warp16_MD662_detector1_down32_scoreVolume/score_volumes/atlasV4_down32_scoreVolume_warp16_MD662_detector1_down32_scoreVolume_Amb_R_surround_200.bp\" \"s3://mousebrainatlas-data/CSHL_volumes/atlasV4/atlasV4_down32_scoreVolume_warp16_MD662_detector1_down32_scoreVolume/score_volumes/atlasV4_down32_scoreVolume_warp16_MD662_detector1_down32_scoreVolume_Amb_R_surround_200.bp\"\n",
      "aws s3 cp \"/shared/CSHL_volumes/atlasV4/atlasV4_down32_scoreVolume_warp16_MD662_detector1_down32_scoreVolume/score_volumes/atlasV4_down32_scoreVolume_warp16_MD662_detector1_down32_scoreVolume_Amb_L_surround_200.bp\" \"s3://mousebrainatlas-data/CSHL_volumes/atlasV4/atlasV4_down32_scoreVolume_warp16_MD662_detector1_down32_scoreVolume/score_volumes/atlasV4_down32_scoreVolume_warp16_MD662_detector1_down32_scoreVolume_Amb_L_surround_200.bp\"\n",
      "aws s3 cp \"/shared/CSHL_volumes/atlasV4/atlasV4_down32_scoreVolume_warp16_MD662_detector1_down32_scoreVolume/score_volumes/atlasV4_down32_scoreVolume_warp16_MD662_detector1_down32_scoreVolume_DC_L_surround_200.bp\" \"s3://mousebrainatlas-data/CSHL_volumes/atlasV4/atlasV4_down32_scoreVolume_warp16_MD662_detector1_down32_scoreVolume/score_volumes/atlasV4_down32_scoreVolume_warp16_MD662_detector1_down32_scoreVolume_DC_L_surround_200.bp\"\n",
      "aws s3 cp \"/shared/CSHL_volumes/atlasV4/atlasV4_down32_scoreVolume_warp16_MD662_detector1_down32_scoreVolume/score_volumes/atlasV4_down32_scoreVolume_warp16_MD662_detector1_down32_scoreVolume_PBG_R_surround_200.bp\" \"s3://mousebrainatlas-data/CSHL_volumes/atlasV4/atlasV4_down32_scoreVolume_warp16_MD662_detector1_down32_scoreVolume/score_volumes/atlasV4_down32_scoreVolume_warp16_MD662_detector1_down32_scoreVolume_PBG_R_surround_200.bp\"\n",
      "aws s3 cp \"/shared/CSHL_volumes/atlasV4/atlasV4_down32_scoreVolume_warp16_MD662_detector1_down32_scoreVolume/score_volumes/atlasV4_down32_scoreVolume_warp16_MD662_detector1_down32_scoreVolume_RMC_L_surround_200.bp\" \"s3://mousebrainatlas-data/CSHL_volumes/atlasV4/atlasV4_down32_scoreVolume_warp16_MD662_detector1_down32_scoreVolume/score_volumes/atlasV4_down32_scoreVolume_warp16_MD662_detector1_down32_scoreVolume_RMC_L_surround_200.bp\"\n",
      "aws s3 cp \"/shared/CSHL_volumes/atlasV4/atlasV4_down32_scoreVolume_warp16_MD662_detector1_down32_scoreVolume/score_volumes/atlasV4_down32_scoreVolume_warp16_MD662_detector1_down32_scoreVolume_LC_R_surround_200.bp\" \"s3://mousebrainatlas-data/CSHL_volumes/atlasV4/atlasV4_down32_scoreVolume_warp16_MD662_detector1_down32_scoreVolume/score_volumes/atlasV4_down32_scoreVolume_warp16_MD662_detector1_down32_scoreVolume_LC_R_surround_200.bp\"\n",
      "aws s3 cp \"/shared/CSHL_volumes/atlasV4/atlasV4_down32_scoreVolume_warp16_MD662_detector1_down32_scoreVolume/score_volumes/atlasV4_down32_scoreVolume_warp16_MD662_detector1_down32_scoreVolume_LC_L_surround_200.bp\" \"s3://mousebrainatlas-data/CSHL_volumes/atlasV4/atlasV4_down32_scoreVolume_warp16_MD662_detector1_down32_scoreVolume/score_volumes/atlasV4_down32_scoreVolume_warp16_MD662_detector1_down32_scoreVolume_LC_L_surround_200.bp\"\n",
      "aws s3 cp \"/shared/CSHL_volumes/atlasV4/atlasV4_down32_scoreVolume_warp16_MD662_detector1_down32_scoreVolume/score_volumes/atlasV4_down32_scoreVolume_warp16_MD662_detector1_down32_scoreVolume_PBG_L_surround_200.bp\" \"s3://mousebrainatlas-data/CSHL_volumes/atlasV4/atlasV4_down32_scoreVolume_warp16_MD662_detector1_down32_scoreVolume/score_volumes/atlasV4_down32_scoreVolume_warp16_MD662_detector1_down32_scoreVolume_PBG_L_surround_200.bp\"\n",
      "aws s3 cp \"/shared/CSHL_volumes/atlasV4/atlasV4_down32_scoreVolume_warp16_MD662_detector1_down32_scoreVolume/score_volumes/atlasV4_down32_scoreVolume_warp16_MD662_detector1_down32_scoreVolume_DC_R_surround_200.bp\" \"s3://mousebrainatlas-data/CSHL_volumes/atlasV4/atlasV4_down32_scoreVolume_warp16_MD662_detector1_down32_scoreVolume/score_volumes/atlasV4_down32_scoreVolume_warp16_MD662_detector1_down32_scoreVolume_DC_R_surround_200.bp\"\n",
      "aws s3 cp \"/shared/CSHL_volumes/atlasV4/atlasV4_down32_scoreVolume_warp16_MD662_detector1_down32_scoreVolume/score_volumes/atlasV4_down32_scoreVolume_warp16_MD662_detector1_down32_scoreVolume_RMC_R_surround_200.bp\" \"s3://mousebrainatlas-data/CSHL_volumes/atlasV4/atlasV4_down32_scoreVolume_warp16_MD662_detector1_down32_scoreVolume/score_volumes/atlasV4_down32_scoreVolume_warp16_MD662_detector1_down32_scoreVolume_RMC_R_surround_200.bp\"\n",
      "aws s3 cp \"/shared/CSHL_volumes/atlasV4/atlasV4_down32_scoreVolume_warp16_MD662_detector1_down32_scoreVolume/score_volumes/atlasV4_down32_scoreVolume_warp16_MD662_detector1_down32_scoreVolume_Pn_R_surround_200.bp\" \"s3://mousebrainatlas-data/CSHL_volumes/atlasV4/atlasV4_down32_scoreVolume_warp16_MD662_detector1_down32_scoreVolume/score_volumes/atlasV4_down32_scoreVolume_warp16_MD662_detector1_down32_scoreVolume_Pn_R_surround_200.bp\"\n",
      "aws s3 cp \"/shared/CSHL_volumes/atlasV4/atlasV4_down32_scoreVolume_warp16_MD662_detector1_down32_scoreVolume/score_volumes/atlasV4_down32_scoreVolume_warp16_MD662_detector1_down32_scoreVolume_Pn_L_surround_200.bp\" \"s3://mousebrainatlas-data/CSHL_volumes/atlasV4/atlasV4_down32_scoreVolume_warp16_MD662_detector1_down32_scoreVolume/score_volumes/atlasV4_down32_scoreVolume_warp16_MD662_detector1_down32_scoreVolume_Pn_L_surround_200.bp\"\n",
      "aws s3 cp \"/shared/CSHL_volumes/atlasV4/atlasV4_down32_scoreVolume_warp16_MD662_detector1_down32_scoreVolume/score_volumes/atlasV4_down32_scoreVolume_warp16_MD662_detector1_down32_scoreVolume_LRt_R_surround_200.bp\" \"s3://mousebrainatlas-data/CSHL_volumes/atlasV4/atlasV4_down32_scoreVolume_warp16_MD662_detector1_down32_scoreVolume/score_volumes/atlasV4_down32_scoreVolume_warp16_MD662_detector1_down32_scoreVolume_LRt_R_surround_200.bp\"\n",
      "aws s3 cp \"/shared/CSHL_volumes/atlasV4/atlasV4_down32_scoreVolume_warp16_MD662_detector1_down32_scoreVolume/score_volumes/atlasV4_down32_scoreVolume_warp16_MD662_detector1_down32_scoreVolume_LRt_L_surround_200.bp\" \"s3://mousebrainatlas-data/CSHL_volumes/atlasV4/atlasV4_down32_scoreVolume_warp16_MD662_detector1_down32_scoreVolume/score_volumes/atlasV4_down32_scoreVolume_warp16_MD662_detector1_down32_scoreVolume_LRt_L_surround_200.bp\"\n"
     ]
    },
    {
     "name": "stderr",
     "output_type": "stream",
     "text": [
      "Transform: 3.99 seconds.\n",
      "Transform: 4.08 seconds.\n"
     ]
    },
    {
     "name": "stdout",
     "output_type": "stream",
     "text": [
      "aws s3 cp \"/shared/CSHL_volumes/atlasV4/atlasV4_down32_scoreVolume_warp16_MD662_detector1_down32_scoreVolume/score_volumes/atlasV4_down32_scoreVolume_warp16_MD662_detector1_down32_scoreVolume_RtTg_surround_200.bp\" \"s3://mousebrainatlas-data/CSHL_volumes/atlasV4/atlasV4_down32_scoreVolume_warp16_MD662_detector1_down32_scoreVolume/score_volumes/atlasV4_down32_scoreVolume_warp16_MD662_detector1_down32_scoreVolume_RtTg_surround_200.bp\"\n"
     ]
    },
    {
     "name": "stderr",
     "output_type": "stream",
     "text": [
      "Transform: 4.16 seconds.\n",
      "Transform: 4.12 seconds.\n",
      "Transform: 4.18 seconds.\n",
      "Transform: 4.23 seconds.\n",
      "Transform: 4.24 seconds.\n",
      "Transform: 4.21 seconds.\n",
      "Transform: 4.18 seconds.\n",
      "Transform: 4.31 seconds.\n",
      "Transform: 4.23 seconds.\n",
      "Transform: 4.15 seconds.\n",
      "Transform: 4.33 seconds.\n",
      "Transform: 4.20 seconds.\n",
      "Transform: 4.20 seconds.\n"
     ]
    },
    {
     "name": "stdout",
     "output_type": "stream",
     "text": [
      "aws s3 cp \"/shared/CSHL_volumes/atlasV4/atlasV4_down32_scoreVolume_warp16_MD662_detector1_down32_scoreVolume/score_volumes/atlasV4_down32_scoreVolume_warp16_MD662_detector1_down32_scoreVolume_IC_surround_200.bp\" \"s3://mousebrainatlas-data/CSHL_volumes/atlasV4/atlasV4_down32_scoreVolume_warp16_MD662_detector1_down32_scoreVolume/score_volumes/atlasV4_down32_scoreVolume_warp16_MD662_detector1_down32_scoreVolume_IC_surround_200.bp\"\n"
     ]
    },
    {
     "name": "stderr",
     "output_type": "stream",
     "text": [
      "Transform: 4.61 seconds.\n"
     ]
    },
    {
     "name": "stdout",
     "output_type": "stream",
     "text": [
      "aws s3 cp \"/shared/CSHL_volumes/atlasV4/atlasV4_down32_scoreVolume_warp16_MD662_detector1_down32_scoreVolume/score_volumes/atlasV4_down32_scoreVolume_warp16_MD662_detector1_down32_scoreVolume_SNC_L.bp\" \"s3://mousebrainatlas-data/CSHL_volumes/atlasV4/atlasV4_down32_scoreVolume_warp16_MD662_detector1_down32_scoreVolume/score_volumes/atlasV4_down32_scoreVolume_warp16_MD662_detector1_down32_scoreVolume_SNC_L.bp\"\n",
      "aws s3 cp \"/shared/CSHL_volumes/atlasV4/atlasV4_down32_scoreVolume_warp16_MD662_detector1_down32_scoreVolume/score_volumes/atlasV4_down32_scoreVolume_warp16_MD662_detector1_down32_scoreVolume_SNC_R.bp\" \"s3://mousebrainatlas-data/CSHL_volumes/atlasV4/atlasV4_down32_scoreVolume_warp16_MD662_detector1_down32_scoreVolume/score_volumes/atlasV4_down32_scoreVolume_warp16_MD662_detector1_down32_scoreVolume_SNC_R.bp\"\n",
      "aws s3 cp \"/shared/CSHL_volumes/atlasV4/atlasV4_down32_scoreVolume_warp16_MD662_detector1_down32_scoreVolume/score_volumes/atlasV4_down32_scoreVolume_warp16_MD662_detector1_down32_scoreVolume_Sp5O_L.bp\" \"s3://mousebrainatlas-data/CSHL_volumes/atlasV4/atlasV4_down32_scoreVolume_warp16_MD662_detector1_down32_scoreVolume/score_volumes/atlasV4_down32_scoreVolume_warp16_MD662_detector1_down32_scoreVolume_Sp5O_L.bp\"\n",
      "aws s3 cp \"/shared/CSHL_volumes/atlasV4/atlasV4_down32_scoreVolume_warp16_MD662_detector1_down32_scoreVolume/score_volumes/atlasV4_down32_scoreVolume_warp16_MD662_detector1_down32_scoreVolume_Tz_R.bp\" \"s3://mousebrainatlas-data/CSHL_volumes/atlasV4/atlasV4_down32_scoreVolume_warp16_MD662_detector1_down32_scoreVolume/score_volumes/atlasV4_down32_scoreVolume_warp16_MD662_detector1_down32_scoreVolume_Tz_R.bp\"\n",
      "aws s3 cp \"/shared/CSHL_volumes/atlasV4/atlasV4_down32_scoreVolume_warp16_MD662_detector1_down32_scoreVolume/score_volumes/atlasV4_down32_scoreVolume_warp16_MD662_detector1_down32_scoreVolume_SNR_R.bp\" \"s3://mousebrainatlas-data/CSHL_volumes/atlasV4/atlasV4_down32_scoreVolume_warp16_MD662_detector1_down32_scoreVolume/score_volumes/atlasV4_down32_scoreVolume_warp16_MD662_detector1_down32_scoreVolume_SNR_R.bp\"\n",
      "aws s3 cp \"/shared/CSHL_volumes/atlasV4/atlasV4_down32_scoreVolume_warp16_MD662_detector1_down32_scoreVolume/score_volumes/atlasV4_down32_scoreVolume_warp16_MD662_detector1_down32_scoreVolume_Sp5I_R.bp\" \"s3://mousebrainatlas-data/CSHL_volumes/atlasV4/atlasV4_down32_scoreVolume_warp16_MD662_detector1_down32_scoreVolume/score_volumes/atlasV4_down32_scoreVolume_warp16_MD662_detector1_down32_scoreVolume_Sp5I_R.bp\"\n",
      "aws s3 cp \"/shared/CSHL_volumes/atlasV4/atlasV4_down32_scoreVolume_warp16_MD662_detector1_down32_scoreVolume/score_volumes/atlasV4_down32_scoreVolume_warp16_MD662_detector1_down32_scoreVolume_Tz_L.bp\" \"s3://mousebrainatlas-data/CSHL_volumes/atlasV4/atlasV4_down32_scoreVolume_warp16_MD662_detector1_down32_scoreVolume/score_volumes/atlasV4_down32_scoreVolume_warp16_MD662_detector1_down32_scoreVolume_Tz_L.bp\"\n",
      "aws s3 cp \"/shared/CSHL_volumes/atlasV4/atlasV4_down32_scoreVolume_warp16_MD662_detector1_down32_scoreVolume/score_volumes/atlasV4_down32_scoreVolume_warp16_MD662_detector1_down32_scoreVolume_Sp5I_L.bp\" \"s3://mousebrainatlas-data/CSHL_volumes/atlasV4/atlasV4_down32_scoreVolume_warp16_MD662_detector1_down32_scoreVolume/score_volumes/atlasV4_down32_scoreVolume_warp16_MD662_detector1_down32_scoreVolume_Sp5I_L.bp\"\n",
      "aws s3 cp \"/shared/CSHL_volumes/atlasV4/atlasV4_down32_scoreVolume_warp16_MD662_detector1_down32_scoreVolume/score_volumes/atlasV4_down32_scoreVolume_warp16_MD662_detector1_down32_scoreVolume_VCA_L.bp\" \"s3://mousebrainatlas-data/CSHL_volumes/atlasV4/atlasV4_down32_scoreVolume_warp16_MD662_detector1_down32_scoreVolume/score_volumes/atlasV4_down32_scoreVolume_warp16_MD662_detector1_down32_scoreVolume_VCA_L.bp\"\n",
      "aws s3 cp \"/shared/CSHL_volumes/atlasV4/atlasV4_down32_scoreVolume_warp16_MD662_detector1_down32_scoreVolume/score_volumes/atlasV4_down32_scoreVolume_warp16_MD662_detector1_down32_scoreVolume_Sp5C_R.bp\" \"s3://mousebrainatlas-data/CSHL_volumes/atlasV4/atlasV4_down32_scoreVolume_warp16_MD662_detector1_down32_scoreVolume/score_volumes/atlasV4_down32_scoreVolume_warp16_MD662_detector1_down32_scoreVolume_Sp5C_R.bp\"\n",
      "aws s3 cp \"/shared/CSHL_volumes/atlasV4/atlasV4_down32_scoreVolume_warp16_MD662_detector1_down32_scoreVolume/score_volumes/atlasV4_down32_scoreVolume_warp16_MD662_detector1_down32_scoreVolume_SNR_L.bp\" \"s3://mousebrainatlas-data/CSHL_volumes/atlasV4/atlasV4_down32_scoreVolume_warp16_MD662_detector1_down32_scoreVolume/score_volumes/atlasV4_down32_scoreVolume_warp16_MD662_detector1_down32_scoreVolume_SNR_L.bp\"\n",
      "aws s3 cp \"/shared/CSHL_volumes/atlasV4/atlasV4_down32_scoreVolume_warp16_MD662_detector1_down32_scoreVolume/score_volumes/atlasV4_down32_scoreVolume_warp16_MD662_detector1_down32_scoreVolume_Sp5O_R.bp\" \"s3://mousebrainatlas-data/CSHL_volumes/atlasV4/atlasV4_down32_scoreVolume_warp16_MD662_detector1_down32_scoreVolume/score_volumes/atlasV4_down32_scoreVolume_warp16_MD662_detector1_down32_scoreVolume_Sp5O_R.bp\"\n"
     ]
    },
    {
     "name": "stderr",
     "output_type": "stream",
     "text": [
      "Transform: 4.13 seconds.\n"
     ]
    },
    {
     "name": "stdout",
     "output_type": "stream",
     "text": [
      "aws s3 cp \"/shared/CSHL_volumes/atlasV4/atlasV4_down32_scoreVolume_warp16_MD662_detector1_down32_scoreVolume/score_volumes/atlasV4_down32_scoreVolume_warp16_MD662_detector1_down32_scoreVolume_Sp5C_L.bp\" \"s3://mousebrainatlas-data/CSHL_volumes/atlasV4/atlasV4_down32_scoreVolume_warp16_MD662_detector1_down32_scoreVolume/score_volumes/atlasV4_down32_scoreVolume_warp16_MD662_detector1_down32_scoreVolume_Sp5C_L.bp\"\n",
      "aws s3 cp \"/shared/CSHL_volumes/atlasV4/atlasV4_down32_scoreVolume_warp16_MD662_detector1_down32_scoreVolume/score_volumes/atlasV4_down32_scoreVolume_warp16_MD662_detector1_down32_scoreVolume_VCA_R.bp\" \"s3://mousebrainatlas-data/CSHL_volumes/atlasV4/atlasV4_down32_scoreVolume_warp16_MD662_detector1_down32_scoreVolume/score_volumes/atlasV4_down32_scoreVolume_warp16_MD662_detector1_down32_scoreVolume_VCA_R.bp\"\n"
     ]
    },
    {
     "name": "stderr",
     "output_type": "stream",
     "text": [
      "Transform: 4.24 seconds.\n",
      "Transform: 4.20 seconds.\n",
      "Transform: 4.06 seconds.\n",
      "Transform: 4.49 seconds.\n",
      "Transform: 4.41 seconds.\n",
      "Transform: 4.37 seconds.\n",
      "Transform: 4.15 seconds.\n",
      "Transform: 4.38 seconds.\n",
      "Transform: 4.28 seconds.\n",
      "Transform: 4.21 seconds.\n",
      "Transform: 4.47 seconds.\n",
      "Transform: 4.53 seconds.\n",
      "Transform: 4.14 seconds.\n"
     ]
    },
    {
     "name": "stdout",
     "output_type": "stream",
     "text": [
      "aws s3 cp \"/shared/CSHL_volumes/atlasV4/atlasV4_down32_scoreVolume_warp16_MD662_detector1_down32_scoreVolume/score_volumes/atlasV4_down32_scoreVolume_warp16_MD662_detector1_down32_scoreVolume_VCP_L.bp\" \"s3://mousebrainatlas-data/CSHL_volumes/atlasV4/atlasV4_down32_scoreVolume_warp16_MD662_detector1_down32_scoreVolume/score_volumes/atlasV4_down32_scoreVolume_warp16_MD662_detector1_down32_scoreVolume_VCP_L.bp\"\n",
      "aws s3 cp \"/shared/CSHL_volumes/atlasV4/atlasV4_down32_scoreVolume_warp16_MD662_detector1_down32_scoreVolume/score_volumes/atlasV4_down32_scoreVolume_warp16_MD662_detector1_down32_scoreVolume_SC.bp\" \"s3://mousebrainatlas-data/CSHL_volumes/atlasV4/atlasV4_down32_scoreVolume_warp16_MD662_detector1_down32_scoreVolume/score_volumes/atlasV4_down32_scoreVolume_warp16_MD662_detector1_down32_scoreVolume_SC.bp\"\n"
     ]
    },
    {
     "name": "stderr",
     "output_type": "stream",
     "text": [
      "Transform: 4.04 seconds.\n",
      "Transform: 7.29 seconds.\n"
     ]
    },
    {
     "name": "stdout",
     "output_type": "stream",
     "text": [
      "aws s3 cp \"/shared/CSHL_volumes/atlasV4/atlasV4_down32_scoreVolume_warp16_MD662_detector1_down32_scoreVolume/score_volumes/atlasV4_down32_scoreVolume_warp16_MD662_detector1_down32_scoreVolume_SNC_L_surround_200.bp\" \"s3://mousebrainatlas-data/CSHL_volumes/atlasV4/atlasV4_down32_scoreVolume_warp16_MD662_detector1_down32_scoreVolume/score_volumes/atlasV4_down32_scoreVolume_warp16_MD662_detector1_down32_scoreVolume_SNC_L_surround_200.bp\"\n",
      "aws s3 cp \"/shared/CSHL_volumes/atlasV4/atlasV4_down32_scoreVolume_warp16_MD662_detector1_down32_scoreVolume/score_volumes/atlasV4_down32_scoreVolume_warp16_MD662_detector1_down32_scoreVolume_SNC_R_surround_200.bp\" \"s3://mousebrainatlas-data/CSHL_volumes/atlasV4/atlasV4_down32_scoreVolume_warp16_MD662_detector1_down32_scoreVolume/score_volumes/atlasV4_down32_scoreVolume_warp16_MD662_detector1_down32_scoreVolume_SNC_R_surround_200.bp\"\n",
      "aws s3 cp \"/shared/CSHL_volumes/atlasV4/atlasV4_down32_scoreVolume_warp16_MD662_detector1_down32_scoreVolume/score_volumes/atlasV4_down32_scoreVolume_warp16_MD662_detector1_down32_scoreVolume_Sp5O_L_surround_200.bp\" \"s3://mousebrainatlas-data/CSHL_volumes/atlasV4/atlasV4_down32_scoreVolume_warp16_MD662_detector1_down32_scoreVolume/score_volumes/atlasV4_down32_scoreVolume_warp16_MD662_detector1_down32_scoreVolume_Sp5O_L_surround_200.bp\"\n",
      "aws s3 cp \"/shared/CSHL_volumes/atlasV4/atlasV4_down32_scoreVolume_warp16_MD662_detector1_down32_scoreVolume/score_volumes/atlasV4_down32_scoreVolume_warp16_MD662_detector1_down32_scoreVolume_Sp5I_L_surround_200.bp\" \"s3://mousebrainatlas-data/CSHL_volumes/atlasV4/atlasV4_down32_scoreVolume_warp16_MD662_detector1_down32_scoreVolume/score_volumes/atlasV4_down32_scoreVolume_warp16_MD662_detector1_down32_scoreVolume_Sp5I_L_surround_200.bp\"\n",
      "aws s3 cp \"/shared/CSHL_volumes/atlasV4/atlasV4_down32_scoreVolume_warp16_MD662_detector1_down32_scoreVolume/score_volumes/atlasV4_down32_scoreVolume_warp16_MD662_detector1_down32_scoreVolume_Tz_R_surround_200.bp\" \"s3://mousebrainatlas-data/CSHL_volumes/atlasV4/atlasV4_down32_scoreVolume_warp16_MD662_detector1_down32_scoreVolume/score_volumes/atlasV4_down32_scoreVolume_warp16_MD662_detector1_down32_scoreVolume_Tz_R_surround_200.bp\"\n",
      "aws s3 cp \"/shared/CSHL_volumes/atlasV4/atlasV4_down32_scoreVolume_warp16_MD662_detector1_down32_scoreVolume/score_volumes/atlasV4_down32_scoreVolume_warp16_MD662_detector1_down32_scoreVolume_Tz_L_surround_200.bp\" \"s3://mousebrainatlas-data/CSHL_volumes/atlasV4/atlasV4_down32_scoreVolume_warp16_MD662_detector1_down32_scoreVolume/score_volumes/atlasV4_down32_scoreVolume_warp16_MD662_detector1_down32_scoreVolume_Tz_L_surround_200.bp\"\n",
      "aws s3 cp \"/shared/CSHL_volumes/atlasV4/atlasV4_down32_scoreVolume_warp16_MD662_detector1_down32_scoreVolume/score_volumes/atlasV4_down32_scoreVolume_warp16_MD662_detector1_down32_scoreVolume_Sp5I_R_surround_200.bp\" \"s3://mousebrainatlas-data/CSHL_volumes/atlasV4/atlasV4_down32_scoreVolume_warp16_MD662_detector1_down32_scoreVolume/score_volumes/atlasV4_down32_scoreVolume_warp16_MD662_detector1_down32_scoreVolume_Sp5I_R_surround_200.bp\"\n",
      "aws s3 cp \"/shared/CSHL_volumes/atlasV4/atlasV4_down32_scoreVolume_warp16_MD662_detector1_down32_scoreVolume/score_volumes/atlasV4_down32_scoreVolume_warp16_MD662_detector1_down32_scoreVolume_SNR_L_surround_200.bp\" \"s3://mousebrainatlas-data/CSHL_volumes/atlasV4/atlasV4_down32_scoreVolume_warp16_MD662_detector1_down32_scoreVolume/score_volumes/atlasV4_down32_scoreVolume_warp16_MD662_detector1_down32_scoreVolume_SNR_L_surround_200.bp\"\n",
      "aws s3 cp \"/shared/CSHL_volumes/atlasV4/atlasV4_down32_scoreVolume_warp16_MD662_detector1_down32_scoreVolume/score_volumes/atlasV4_down32_scoreVolume_warp16_MD662_detector1_down32_scoreVolume_VCA_L_surround_200.bp\" \"s3://mousebrainatlas-data/CSHL_volumes/atlasV4/atlasV4_down32_scoreVolume_warp16_MD662_detector1_down32_scoreVolume/score_volumes/atlasV4_down32_scoreVolume_warp16_MD662_detector1_down32_scoreVolume_VCA_L_surround_200.bp\"\n",
      "aws s3 cp \"/shared/CSHL_volumes/atlasV4/atlasV4_down32_scoreVolume_warp16_MD662_detector1_down32_scoreVolume/score_volumes/atlasV4_down32_scoreVolume_warp16_MD662_detector1_down32_scoreVolume_VCA_R_surround_200.bp\" \"s3://mousebrainatlas-data/CSHL_volumes/atlasV4/atlasV4_down32_scoreVolume_warp16_MD662_detector1_down32_scoreVolume/score_volumes/atlasV4_down32_scoreVolume_warp16_MD662_detector1_down32_scoreVolume_VCA_R_surround_200.bp\"\n"
     ]
    },
    {
     "name": "stderr",
     "output_type": "stream",
     "text": [
      "Transform: 4.24 seconds.\n"
     ]
    },
    {
     "name": "stdout",
     "output_type": "stream",
     "text": [
      "aws s3 cp \"/shared/CSHL_volumes/atlasV4/atlasV4_down32_scoreVolume_warp16_MD662_detector1_down32_scoreVolume/score_volumes/atlasV4_down32_scoreVolume_warp16_MD662_detector1_down32_scoreVolume_Sp5O_R_surround_200.bp\" \"s3://mousebrainatlas-data/CSHL_volumes/atlasV4/atlasV4_down32_scoreVolume_warp16_MD662_detector1_down32_scoreVolume/score_volumes/atlasV4_down32_scoreVolume_warp16_MD662_detector1_down32_scoreVolume_Sp5O_R_surround_200.bp\"\n",
      "aws s3 cp \"/shared/CSHL_volumes/atlasV4/atlasV4_down32_scoreVolume_warp16_MD662_detector1_down32_scoreVolume/score_volumes/atlasV4_down32_scoreVolume_warp16_MD662_detector1_down32_scoreVolume_SNR_R_surround_200.bp\" \"s3://mousebrainatlas-data/CSHL_volumes/atlasV4/atlasV4_down32_scoreVolume_warp16_MD662_detector1_down32_scoreVolume/score_volumes/atlasV4_down32_scoreVolume_warp16_MD662_detector1_down32_scoreVolume_SNR_R_surround_200.bp\"\n",
      "aws s3 cp \"/shared/CSHL_volumes/atlasV4/atlasV4_down32_scoreVolume_warp16_MD662_detector1_down32_scoreVolume/score_volumes/atlasV4_down32_scoreVolume_warp16_MD662_detector1_down32_scoreVolume_Sp5C_R_surround_200.bp\" \"s3://mousebrainatlas-data/CSHL_volumes/atlasV4/atlasV4_down32_scoreVolume_warp16_MD662_detector1_down32_scoreVolume/score_volumes/atlasV4_down32_scoreVolume_warp16_MD662_detector1_down32_scoreVolume_Sp5C_R_surround_200.bp\"\n"
     ]
    },
    {
     "name": "stderr",
     "output_type": "stream",
     "text": [
      "Transform: 4.13 seconds.\n"
     ]
    },
    {
     "name": "stdout",
     "output_type": "stream",
     "text": [
      "aws s3 cp \"/shared/CSHL_volumes/atlasV4/atlasV4_down32_scoreVolume_warp16_MD662_detector1_down32_scoreVolume/score_volumes/atlasV4_down32_scoreVolume_warp16_MD662_detector1_down32_scoreVolume_Sp5C_L_surround_200.bp\" \"s3://mousebrainatlas-data/CSHL_volumes/atlasV4/atlasV4_down32_scoreVolume_warp16_MD662_detector1_down32_scoreVolume/score_volumes/atlasV4_down32_scoreVolume_warp16_MD662_detector1_down32_scoreVolume_Sp5C_L_surround_200.bp\"\n"
     ]
    },
    {
     "name": "stderr",
     "output_type": "stream",
     "text": [
      "Transform: 4.05 seconds.\n",
      "Transform: 3.97 seconds.\n"
     ]
    },
    {
     "name": "stdout",
     "output_type": "stream",
     "text": [
      "rm -rf \"/shared/CSHL_volumes/atlasV4/atlasV4_down32_scoreVolume/score_volumes/atlasV4_down32_scoreVolume_outerContour.bp\" && mkdir -p \"/shared/CSHL_volumes/atlasV4/atlasV4_down32_scoreVolume/score_volumes\"\n",
      "aws s3 cp \"s3://mousebrainatlas-data/CSHL_volumes/atlasV4/atlasV4_down32_scoreVolume/score_volumes/atlasV4_down32_scoreVolume_outerContour.bp\" \"/shared/CSHL_volumes/atlasV4/atlasV4_down32_scoreVolume/score_volumes/atlasV4_down32_scoreVolume_outerContour.bp\"\n"
     ]
    },
    {
     "name": "stderr",
     "output_type": "stream",
     "text": [
      "Transform: 4.13 seconds.\n"
     ]
    },
    {
     "name": "stdout",
     "output_type": "stream",
     "text": [
      "rm -rf \"/shared/CSHL_volumes/atlasV4/atlasV4_down32_scoreVolume/score_volumes/atlasV4_down32_scoreVolume_sp5.bp\" && mkdir -p \"/shared/CSHL_volumes/atlasV4/atlasV4_down32_scoreVolume/score_volumes\"\n",
      "aws s3 cp \"s3://mousebrainatlas-data/CSHL_volumes/atlasV4/atlasV4_down32_scoreVolume/score_volumes/atlasV4_down32_scoreVolume_sp5.bp\" \"/shared/CSHL_volumes/atlasV4/atlasV4_down32_scoreVolume/score_volumes/atlasV4_down32_scoreVolume_sp5.bp\"\n"
     ]
    },
    {
     "name": "stderr",
     "output_type": "stream",
     "text": [
      "Transform: 4.17 seconds.\n",
      "Transform: 4.22 seconds.\n",
      "Transform: 4.26 seconds.\n",
      "Transform: 4.24 seconds.\n",
      "Transform: 4.14 seconds.\n",
      "Transform: 4.27 seconds.\n",
      "Transform: 4.39 seconds.\n",
      "Transform: 4.33 seconds.\n",
      "File does not exist: /shared/CSHL_volumes/atlasV4/atlasV4_down32_scoreVolume/score_volumes/atlasV4_down32_scoreVolume_outerContour.bp\n",
      "Error transforming volume outerContour: [Errno 2] No such file or directory: '/shared/CSHL_volumes/atlasV4/atlasV4_down32_scoreVolume/score_volumes/atlasV4_down32_scoreVolume_outerContour.bp'.\n"
     ]
    },
    {
     "name": "stdout",
     "output_type": "stream",
     "text": [
      "rm -rf \"/shared/CSHL_volumes/atlasV4/atlasV4_down32_scoreVolume/score_volumes/atlasV4_down32_scoreVolume_outerContour_surround_200.bp\" && mkdir -p \"/shared/CSHL_volumes/atlasV4/atlasV4_down32_scoreVolume/score_volumes\"\n",
      "aws s3 cp \"s3://mousebrainatlas-data/CSHL_volumes/atlasV4/atlasV4_down32_scoreVolume/score_volumes/atlasV4_down32_scoreVolume_outerContour_surround_200.bp\" \"/shared/CSHL_volumes/atlasV4/atlasV4_down32_scoreVolume/score_volumes/atlasV4_down32_scoreVolume_outerContour_surround_200.bp\"\n"
     ]
    },
    {
     "name": "stderr",
     "output_type": "stream",
     "text": [
      "File does not exist: /shared/CSHL_volumes/atlasV4/atlasV4_down32_scoreVolume/score_volumes/atlasV4_down32_scoreVolume_sp5.bp\n",
      "Error transforming volume sp5: [Errno 2] No such file or directory: '/shared/CSHL_volumes/atlasV4/atlasV4_down32_scoreVolume/score_volumes/atlasV4_down32_scoreVolume_sp5.bp'.\n"
     ]
    },
    {
     "name": "stdout",
     "output_type": "stream",
     "text": [
      "rm -rf \"/shared/CSHL_volumes/atlasV4/atlasV4_down32_scoreVolume/score_volumes/atlasV4_down32_scoreVolume_sp5_surround_200.bp\" && mkdir -p \"/shared/CSHL_volumes/atlasV4/atlasV4_down32_scoreVolume/score_volumes\"\n"
     ]
    },
    {
     "name": "stderr",
     "output_type": "stream",
     "text": [
      "Transform: 4.46 seconds.\n"
     ]
    },
    {
     "name": "stdout",
     "output_type": "stream",
     "text": [
      "aws s3 cp \"s3://mousebrainatlas-data/CSHL_volumes/atlasV4/atlasV4_down32_scoreVolume/score_volumes/atlasV4_down32_scoreVolume_sp5_surround_200.bp\" \"/shared/CSHL_volumes/atlasV4/atlasV4_down32_scoreVolume/score_volumes/atlasV4_down32_scoreVolume_sp5_surround_200.bp\"\n",
      "aws s3 cp \"/shared/CSHL_volumes/atlasV4/atlasV4_down32_scoreVolume_warp16_MD662_detector1_down32_scoreVolume/score_volumes/atlasV4_down32_scoreVolume_warp16_MD662_detector1_down32_scoreVolume_VCP_L_surround_200.bp\" \"s3://mousebrainatlas-data/CSHL_volumes/atlasV4/atlasV4_down32_scoreVolume_warp16_MD662_detector1_down32_scoreVolume/score_volumes/atlasV4_down32_scoreVolume_warp16_MD662_detector1_down32_scoreVolume_VCP_L_surround_200.bp\"\n"
     ]
    },
    {
     "name": "stderr",
     "output_type": "stream",
     "text": [
      "File does not exist: /shared/CSHL_volumes/atlasV4/atlasV4_down32_scoreVolume/score_volumes/atlasV4_down32_scoreVolume_outerContour_surround_200.bp\n",
      "Error transforming volume outerContour_surround_200: [Errno 2] No such file or directory: '/shared/CSHL_volumes/atlasV4/atlasV4_down32_scoreVolume/score_volumes/atlasV4_down32_scoreVolume_outerContour_surround_200.bp'.\n",
      "File does not exist: /shared/CSHL_volumes/atlasV4/atlasV4_down32_scoreVolume/score_volumes/atlasV4_down32_scoreVolume_sp5_surround_200.bp\n",
      "Error transforming volume sp5_surround_200: [Errno 2] No such file or directory: '/shared/CSHL_volumes/atlasV4/atlasV4_down32_scoreVolume/score_volumes/atlasV4_down32_scoreVolume_sp5_surround_200.bp'.\n",
      "Transform: 3.35 seconds.\n"
     ]
    },
    {
     "name": "stdout",
     "output_type": "stream",
     "text": [
      "aws s3 cp \"/shared/CSHL_volumes/atlasV4/atlasV4_down32_scoreVolume_warp16_MD662_detector1_down32_scoreVolume/score_volumes/atlasV4_down32_scoreVolume_warp16_MD662_detector1_down32_scoreVolume_SC_surround_200.bp\" \"s3://mousebrainatlas-data/CSHL_volumes/atlasV4/atlasV4_down32_scoreVolume_warp16_MD662_detector1_down32_scoreVolume/score_volumes/atlasV4_down32_scoreVolume_warp16_MD662_detector1_down32_scoreVolume_SC_surround_200.bp\"\n",
      "aws s3 cp \"/shared/CSHL_volumes/atlasV4/atlasV4_down32_scoreVolume_warp16_MD662_detector1_down32_scoreVolume/score_volumes/atlasV4_down32_scoreVolume_warp16_MD662_detector1_down32_scoreVolume_VCP_R.bp\" \"s3://mousebrainatlas-data/CSHL_volumes/atlasV4/atlasV4_down32_scoreVolume_warp16_MD662_detector1_down32_scoreVolume/score_volumes/atlasV4_down32_scoreVolume_warp16_MD662_detector1_down32_scoreVolume_VCP_R.bp\"\n",
      "aws s3 cp \"/shared/CSHL_volumes/atlasV4/atlasV4_down32_scoreVolume_warp16_MD662_detector1_down32_scoreVolume/score_volumes/atlasV4_down32_scoreVolume_warp16_MD662_detector1_down32_scoreVolume_VLL_L.bp\" \"s3://mousebrainatlas-data/CSHL_volumes/atlasV4/atlasV4_down32_scoreVolume_warp16_MD662_detector1_down32_scoreVolume/score_volumes/atlasV4_down32_scoreVolume_warp16_MD662_detector1_down32_scoreVolume_VLL_L.bp\"\n",
      "aws s3 cp \"/shared/CSHL_volumes/atlasV4/atlasV4_down32_scoreVolume_warp16_MD662_detector1_down32_scoreVolume/score_volumes/atlasV4_down32_scoreVolume_warp16_MD662_detector1_down32_scoreVolume_VLL_R.bp\" \"s3://mousebrainatlas-data/CSHL_volumes/atlasV4/atlasV4_down32_scoreVolume_warp16_MD662_detector1_down32_scoreVolume/score_volumes/atlasV4_down32_scoreVolume_warp16_MD662_detector1_down32_scoreVolume_VLL_R.bp\"\n"
     ]
    },
    {
     "name": "stderr",
     "output_type": "stream",
     "text": [
      "Transform: 3.83 seconds.\n",
      "Transform: 2.88 seconds.\n",
      "Transform: 2.79 seconds.\n",
      "Transform: 2.94 seconds.\n"
     ]
    },
    {
     "name": "stdout",
     "output_type": "stream",
     "text": [
      "aws s3 cp \"/shared/CSHL_volumes/atlasV4/atlasV4_down32_scoreVolume_warp16_MD662_detector1_down32_scoreVolume/score_volumes/atlasV4_down32_scoreVolume_warp16_MD662_detector1_down32_scoreVolume_VCP_R_surround_200.bp\" \"s3://mousebrainatlas-data/CSHL_volumes/atlasV4/atlasV4_down32_scoreVolume_warp16_MD662_detector1_down32_scoreVolume/score_volumes/atlasV4_down32_scoreVolume_warp16_MD662_detector1_down32_scoreVolume_VCP_R_surround_200.bp\"\n",
      "aws s3 cp \"/shared/CSHL_volumes/atlasV4/atlasV4_down32_scoreVolume_warp16_MD662_detector1_down32_scoreVolume/score_volumes/atlasV4_down32_scoreVolume_warp16_MD662_detector1_down32_scoreVolume_VLL_R_surround_200.bp\" \"s3://mousebrainatlas-data/CSHL_volumes/atlasV4/atlasV4_down32_scoreVolume_warp16_MD662_detector1_down32_scoreVolume/score_volumes/atlasV4_down32_scoreVolume_warp16_MD662_detector1_down32_scoreVolume_VLL_R_surround_200.bp\"\n",
      "aws s3 cp \"/shared/CSHL_volumes/atlasV4/atlasV4_down32_scoreVolume_warp16_MD662_detector1_down32_scoreVolume/score_volumes/atlasV4_down32_scoreVolume_warp16_MD662_detector1_down32_scoreVolume_VLL_L_surround_200.bp\" \"s3://mousebrainatlas-data/CSHL_volumes/atlasV4/atlasV4_down32_scoreVolume_warp16_MD662_detector1_down32_scoreVolume/score_volumes/atlasV4_down32_scoreVolume_warp16_MD662_detector1_down32_scoreVolume_VLL_L_surround_200.bp\"\n"
     ]
    },
    {
     "name": "stderr",
     "output_type": "stream",
     "text": [
      "Transform: 2.70 seconds.\n",
      "Transform: 2.67 seconds.\n",
      "Transform: 2.69 seconds.\n",
      "Transform all structures: 30.99 seconds.\n"
     ]
    }
   ],
   "source": [
    "t = time.time()\n",
    "\n",
    "pool = Pool(NUM_CORES)\n",
    "pool.map(transform_volume_one_structure, all_known_structures_sided_with_surround)\n",
    "pool.close()\n",
    "pool.join()\n",
    "\n",
    "sys.stderr.write('Transform all structures: %.2f seconds.\\n' % (time.time() - t)) #"
   ]
  },
  {
   "cell_type": "code",
   "execution_count": null,
   "metadata": {
    "collapsed": true
   },
   "outputs": [],
   "source": [
    "# Sequential"
   ]
  },
  {
   "cell_type": "code",
   "execution_count": 5,
   "metadata": {
    "scrolled": true
   },
   "outputs": [
    {
     "name": "stdout",
     "output_type": "stream",
     "text": [
      "aws s3 cp /shared/CSHL_volumes/atlasV3/atlasV3_down32_scoreVolume_clf_30_warp_1_MD657_down32_scoreVolume_clf_30_trial_3/score_volumes/atlasV3_down32_scoreVolume_clf_30_warp_1_MD657_down32_scoreVolume_clf_30_trial_3_10N_L.bp s3://mousebrainatlas-data/CSHL_volumes/atlasV3/atlasV3_down32_scoreVolume_clf_30_warp_1_MD657_down32_scoreVolume_clf_30_trial_3/score_volumes/atlasV3_down32_scoreVolume_clf_30_warp_1_MD657_down32_scoreVolume_clf_30_trial_3_10N_L.bp\n"
     ]
    },
    {
     "name": "stderr",
     "output_type": "stream",
     "text": [
      "Child returned 0\n",
      "0.46 seconds.\n",
      "Transform: 2.88 seconds.\n"
     ]
    },
    {
     "name": "stdout",
     "output_type": "stream",
     "text": [
      "aws s3 cp /shared/CSHL_volumes/atlasV3/atlasV3_down32_scoreVolume_clf_30_warp_1_MD657_down32_scoreVolume_clf_30_trial_3/score_volumes/atlasV3_down32_scoreVolume_clf_30_warp_1_MD657_down32_scoreVolume_clf_30_trial_3_10N_L_surround_200.bp s3://mousebrainatlas-data/CSHL_volumes/atlasV3/atlasV3_down32_scoreVolume_clf_30_warp_1_MD657_down32_scoreVolume_clf_30_trial_3/score_volumes/atlasV3_down32_scoreVolume_clf_30_warp_1_MD657_down32_scoreVolume_clf_30_trial_3_10N_L_surround_200.bp\n"
     ]
    },
    {
     "name": "stderr",
     "output_type": "stream",
     "text": [
      "Child returned 0\n",
      "0.47 seconds.\n",
      "Transform: 2.91 seconds.\n"
     ]
    },
    {
     "name": "stdout",
     "output_type": "stream",
     "text": [
      "aws s3 cp /shared/CSHL_volumes/atlasV3/atlasV3_down32_scoreVolume_clf_30_warp_1_MD657_down32_scoreVolume_clf_30_trial_3/score_volumes/atlasV3_down32_scoreVolume_clf_30_warp_1_MD657_down32_scoreVolume_clf_30_trial_3_10N_R.bp s3://mousebrainatlas-data/CSHL_volumes/atlasV3/atlasV3_down32_scoreVolume_clf_30_warp_1_MD657_down32_scoreVolume_clf_30_trial_3/score_volumes/atlasV3_down32_scoreVolume_clf_30_warp_1_MD657_down32_scoreVolume_clf_30_trial_3_10N_R.bp\n"
     ]
    },
    {
     "name": "stderr",
     "output_type": "stream",
     "text": [
      "Child returned 0\n",
      "0.46 seconds.\n",
      "Transform: 2.86 seconds.\n"
     ]
    },
    {
     "name": "stdout",
     "output_type": "stream",
     "text": [
      "aws s3 cp /shared/CSHL_volumes/atlasV3/atlasV3_down32_scoreVolume_clf_30_warp_1_MD657_down32_scoreVolume_clf_30_trial_3/score_volumes/atlasV3_down32_scoreVolume_clf_30_warp_1_MD657_down32_scoreVolume_clf_30_trial_3_10N_R_surround_200.bp s3://mousebrainatlas-data/CSHL_volumes/atlasV3/atlasV3_down32_scoreVolume_clf_30_warp_1_MD657_down32_scoreVolume_clf_30_trial_3/score_volumes/atlasV3_down32_scoreVolume_clf_30_warp_1_MD657_down32_scoreVolume_clf_30_trial_3_10N_R_surround_200.bp\n"
     ]
    },
    {
     "name": "stderr",
     "output_type": "stream",
     "text": [
      "Child returned 0\n",
      "0.46 seconds.\n",
      "Transform: 2.90 seconds.\n"
     ]
    },
    {
     "name": "stdout",
     "output_type": "stream",
     "text": [
      "aws s3 cp /shared/CSHL_volumes/atlasV3/atlasV3_down32_scoreVolume_clf_30_warp_1_MD657_down32_scoreVolume_clf_30_trial_3/score_volumes/atlasV3_down32_scoreVolume_clf_30_warp_1_MD657_down32_scoreVolume_clf_30_trial_3_12N.bp s3://mousebrainatlas-data/CSHL_volumes/atlasV3/atlasV3_down32_scoreVolume_clf_30_warp_1_MD657_down32_scoreVolume_clf_30_trial_3/score_volumes/atlasV3_down32_scoreVolume_clf_30_warp_1_MD657_down32_scoreVolume_clf_30_trial_3_12N.bp\n"
     ]
    },
    {
     "name": "stderr",
     "output_type": "stream",
     "text": [
      "Child returned 0\n",
      "0.46 seconds.\n",
      "Transform: 2.88 seconds.\n"
     ]
    },
    {
     "name": "stdout",
     "output_type": "stream",
     "text": [
      "aws s3 cp /shared/CSHL_volumes/atlasV3/atlasV3_down32_scoreVolume_clf_30_warp_1_MD657_down32_scoreVolume_clf_30_trial_3/score_volumes/atlasV3_down32_scoreVolume_clf_30_warp_1_MD657_down32_scoreVolume_clf_30_trial_3_12N_surround_200.bp s3://mousebrainatlas-data/CSHL_volumes/atlasV3/atlasV3_down32_scoreVolume_clf_30_warp_1_MD657_down32_scoreVolume_clf_30_trial_3/score_volumes/atlasV3_down32_scoreVolume_clf_30_warp_1_MD657_down32_scoreVolume_clf_30_trial_3_12N_surround_200.bp\n"
     ]
    },
    {
     "name": "stderr",
     "output_type": "stream",
     "text": [
      "Child returned 0\n",
      "0.46 seconds.\n",
      "Transform: 2.94 seconds.\n"
     ]
    },
    {
     "name": "stdout",
     "output_type": "stream",
     "text": [
      "aws s3 cp /shared/CSHL_volumes/atlasV3/atlasV3_down32_scoreVolume_clf_30_warp_1_MD657_down32_scoreVolume_clf_30_trial_3/score_volumes/atlasV3_down32_scoreVolume_clf_30_warp_1_MD657_down32_scoreVolume_clf_30_trial_3_3N_L.bp s3://mousebrainatlas-data/CSHL_volumes/atlasV3/atlasV3_down32_scoreVolume_clf_30_warp_1_MD657_down32_scoreVolume_clf_30_trial_3/score_volumes/atlasV3_down32_scoreVolume_clf_30_warp_1_MD657_down32_scoreVolume_clf_30_trial_3_3N_L.bp\n"
     ]
    },
    {
     "name": "stderr",
     "output_type": "stream",
     "text": [
      "Child returned 0\n",
      "0.46 seconds.\n",
      "Transform: 2.85 seconds.\n"
     ]
    },
    {
     "name": "stdout",
     "output_type": "stream",
     "text": [
      "aws s3 cp /shared/CSHL_volumes/atlasV3/atlasV3_down32_scoreVolume_clf_30_warp_1_MD657_down32_scoreVolume_clf_30_trial_3/score_volumes/atlasV3_down32_scoreVolume_clf_30_warp_1_MD657_down32_scoreVolume_clf_30_trial_3_3N_L_surround_200.bp s3://mousebrainatlas-data/CSHL_volumes/atlasV3/atlasV3_down32_scoreVolume_clf_30_warp_1_MD657_down32_scoreVolume_clf_30_trial_3/score_volumes/atlasV3_down32_scoreVolume_clf_30_warp_1_MD657_down32_scoreVolume_clf_30_trial_3_3N_L_surround_200.bp\n"
     ]
    },
    {
     "name": "stderr",
     "output_type": "stream",
     "text": [
      "Child returned 0\n",
      "0.46 seconds.\n",
      "Transform: 2.87 seconds.\n"
     ]
    },
    {
     "name": "stdout",
     "output_type": "stream",
     "text": [
      "aws s3 cp /shared/CSHL_volumes/atlasV3/atlasV3_down32_scoreVolume_clf_30_warp_1_MD657_down32_scoreVolume_clf_30_trial_3/score_volumes/atlasV3_down32_scoreVolume_clf_30_warp_1_MD657_down32_scoreVolume_clf_30_trial_3_3N_R.bp s3://mousebrainatlas-data/CSHL_volumes/atlasV3/atlasV3_down32_scoreVolume_clf_30_warp_1_MD657_down32_scoreVolume_clf_30_trial_3/score_volumes/atlasV3_down32_scoreVolume_clf_30_warp_1_MD657_down32_scoreVolume_clf_30_trial_3_3N_R.bp\n"
     ]
    },
    {
     "name": "stderr",
     "output_type": "stream",
     "text": [
      "Child returned 0\n",
      "0.41 seconds.\n",
      "Transform: 2.80 seconds.\n"
     ]
    },
    {
     "name": "stdout",
     "output_type": "stream",
     "text": [
      "aws s3 cp /shared/CSHL_volumes/atlasV3/atlasV3_down32_scoreVolume_clf_30_warp_1_MD657_down32_scoreVolume_clf_30_trial_3/score_volumes/atlasV3_down32_scoreVolume_clf_30_warp_1_MD657_down32_scoreVolume_clf_30_trial_3_3N_R_surround_200.bp s3://mousebrainatlas-data/CSHL_volumes/atlasV3/atlasV3_down32_scoreVolume_clf_30_warp_1_MD657_down32_scoreVolume_clf_30_trial_3/score_volumes/atlasV3_down32_scoreVolume_clf_30_warp_1_MD657_down32_scoreVolume_clf_30_trial_3_3N_R_surround_200.bp\n"
     ]
    },
    {
     "name": "stderr",
     "output_type": "stream",
     "text": [
      "Child returned 0\n",
      "0.46 seconds.\n",
      "Transform: 2.87 seconds.\n"
     ]
    },
    {
     "name": "stdout",
     "output_type": "stream",
     "text": [
      "aws s3 cp /shared/CSHL_volumes/atlasV3/atlasV3_down32_scoreVolume_clf_30_warp_1_MD657_down32_scoreVolume_clf_30_trial_3/score_volumes/atlasV3_down32_scoreVolume_clf_30_warp_1_MD657_down32_scoreVolume_clf_30_trial_3_4N_L.bp s3://mousebrainatlas-data/CSHL_volumes/atlasV3/atlasV3_down32_scoreVolume_clf_30_warp_1_MD657_down32_scoreVolume_clf_30_trial_3/score_volumes/atlasV3_down32_scoreVolume_clf_30_warp_1_MD657_down32_scoreVolume_clf_30_trial_3_4N_L.bp\n"
     ]
    },
    {
     "name": "stderr",
     "output_type": "stream",
     "text": [
      "Child returned 0\n",
      "0.51 seconds.\n",
      "Transform: 2.90 seconds.\n"
     ]
    },
    {
     "name": "stdout",
     "output_type": "stream",
     "text": [
      "aws s3 cp /shared/CSHL_volumes/atlasV3/atlasV3_down32_scoreVolume_clf_30_warp_1_MD657_down32_scoreVolume_clf_30_trial_3/score_volumes/atlasV3_down32_scoreVolume_clf_30_warp_1_MD657_down32_scoreVolume_clf_30_trial_3_4N_L_surround_200.bp s3://mousebrainatlas-data/CSHL_volumes/atlasV3/atlasV3_down32_scoreVolume_clf_30_warp_1_MD657_down32_scoreVolume_clf_30_trial_3/score_volumes/atlasV3_down32_scoreVolume_clf_30_warp_1_MD657_down32_scoreVolume_clf_30_trial_3_4N_L_surround_200.bp\n"
     ]
    },
    {
     "name": "stderr",
     "output_type": "stream",
     "text": [
      "Child returned 0\n",
      "0.46 seconds.\n",
      "Transform: 2.86 seconds.\n"
     ]
    },
    {
     "name": "stdout",
     "output_type": "stream",
     "text": [
      "aws s3 cp /shared/CSHL_volumes/atlasV3/atlasV3_down32_scoreVolume_clf_30_warp_1_MD657_down32_scoreVolume_clf_30_trial_3/score_volumes/atlasV3_down32_scoreVolume_clf_30_warp_1_MD657_down32_scoreVolume_clf_30_trial_3_4N_R.bp s3://mousebrainatlas-data/CSHL_volumes/atlasV3/atlasV3_down32_scoreVolume_clf_30_warp_1_MD657_down32_scoreVolume_clf_30_trial_3/score_volumes/atlasV3_down32_scoreVolume_clf_30_warp_1_MD657_down32_scoreVolume_clf_30_trial_3_4N_R.bp\n"
     ]
    },
    {
     "name": "stderr",
     "output_type": "stream",
     "text": [
      "Child returned 0\n",
      "0.41 seconds.\n",
      "Transform: 2.79 seconds.\n"
     ]
    },
    {
     "name": "stdout",
     "output_type": "stream",
     "text": [
      "aws s3 cp /shared/CSHL_volumes/atlasV3/atlasV3_down32_scoreVolume_clf_30_warp_1_MD657_down32_scoreVolume_clf_30_trial_3/score_volumes/atlasV3_down32_scoreVolume_clf_30_warp_1_MD657_down32_scoreVolume_clf_30_trial_3_4N_R_surround_200.bp s3://mousebrainatlas-data/CSHL_volumes/atlasV3/atlasV3_down32_scoreVolume_clf_30_warp_1_MD657_down32_scoreVolume_clf_30_trial_3/score_volumes/atlasV3_down32_scoreVolume_clf_30_warp_1_MD657_down32_scoreVolume_clf_30_trial_3_4N_R_surround_200.bp\n"
     ]
    },
    {
     "name": "stderr",
     "output_type": "stream",
     "text": [
      "Child returned 0\n",
      "0.41 seconds.\n",
      "Transform: 2.81 seconds.\n"
     ]
    },
    {
     "name": "stdout",
     "output_type": "stream",
     "text": [
      "aws s3 cp /shared/CSHL_volumes/atlasV3/atlasV3_down32_scoreVolume_clf_30_warp_1_MD657_down32_scoreVolume_clf_30_trial_3/score_volumes/atlasV3_down32_scoreVolume_clf_30_warp_1_MD657_down32_scoreVolume_clf_30_trial_3_5N_L.bp s3://mousebrainatlas-data/CSHL_volumes/atlasV3/atlasV3_down32_scoreVolume_clf_30_warp_1_MD657_down32_scoreVolume_clf_30_trial_3/score_volumes/atlasV3_down32_scoreVolume_clf_30_warp_1_MD657_down32_scoreVolume_clf_30_trial_3_5N_L.bp\n"
     ]
    },
    {
     "name": "stderr",
     "output_type": "stream",
     "text": [
      "Child returned 0\n",
      "0.41 seconds.\n",
      "Transform: 2.82 seconds.\n"
     ]
    },
    {
     "name": "stdout",
     "output_type": "stream",
     "text": [
      "aws s3 cp /shared/CSHL_volumes/atlasV3/atlasV3_down32_scoreVolume_clf_30_warp_1_MD657_down32_scoreVolume_clf_30_trial_3/score_volumes/atlasV3_down32_scoreVolume_clf_30_warp_1_MD657_down32_scoreVolume_clf_30_trial_3_5N_L_surround_200.bp s3://mousebrainatlas-data/CSHL_volumes/atlasV3/atlasV3_down32_scoreVolume_clf_30_warp_1_MD657_down32_scoreVolume_clf_30_trial_3/score_volumes/atlasV3_down32_scoreVolume_clf_30_warp_1_MD657_down32_scoreVolume_clf_30_trial_3_5N_L_surround_200.bp\n"
     ]
    },
    {
     "name": "stderr",
     "output_type": "stream",
     "text": [
      "Child returned 0\n",
      "0.46 seconds.\n",
      "Transform: 2.91 seconds.\n"
     ]
    },
    {
     "name": "stdout",
     "output_type": "stream",
     "text": [
      "aws s3 cp /shared/CSHL_volumes/atlasV3/atlasV3_down32_scoreVolume_clf_30_warp_1_MD657_down32_scoreVolume_clf_30_trial_3/score_volumes/atlasV3_down32_scoreVolume_clf_30_warp_1_MD657_down32_scoreVolume_clf_30_trial_3_5N_R.bp s3://mousebrainatlas-data/CSHL_volumes/atlasV3/atlasV3_down32_scoreVolume_clf_30_warp_1_MD657_down32_scoreVolume_clf_30_trial_3/score_volumes/atlasV3_down32_scoreVolume_clf_30_warp_1_MD657_down32_scoreVolume_clf_30_trial_3_5N_R.bp\n"
     ]
    },
    {
     "name": "stderr",
     "output_type": "stream",
     "text": [
      "Child returned 0\n",
      "0.46 seconds.\n",
      "Transform: 2.86 seconds.\n"
     ]
    },
    {
     "name": "stdout",
     "output_type": "stream",
     "text": [
      "aws s3 cp /shared/CSHL_volumes/atlasV3/atlasV3_down32_scoreVolume_clf_30_warp_1_MD657_down32_scoreVolume_clf_30_trial_3/score_volumes/atlasV3_down32_scoreVolume_clf_30_warp_1_MD657_down32_scoreVolume_clf_30_trial_3_5N_R_surround_200.bp s3://mousebrainatlas-data/CSHL_volumes/atlasV3/atlasV3_down32_scoreVolume_clf_30_warp_1_MD657_down32_scoreVolume_clf_30_trial_3/score_volumes/atlasV3_down32_scoreVolume_clf_30_warp_1_MD657_down32_scoreVolume_clf_30_trial_3_5N_R_surround_200.bp\n"
     ]
    },
    {
     "name": "stderr",
     "output_type": "stream",
     "text": [
      "Child returned 0\n",
      "0.46 seconds.\n",
      "Transform: 2.91 seconds.\n"
     ]
    },
    {
     "name": "stdout",
     "output_type": "stream",
     "text": [
      "aws s3 cp /shared/CSHL_volumes/atlasV3/atlasV3_down32_scoreVolume_clf_30_warp_1_MD657_down32_scoreVolume_clf_30_trial_3/score_volumes/atlasV3_down32_scoreVolume_clf_30_warp_1_MD657_down32_scoreVolume_clf_30_trial_3_6N_L.bp s3://mousebrainatlas-data/CSHL_volumes/atlasV3/atlasV3_down32_scoreVolume_clf_30_warp_1_MD657_down32_scoreVolume_clf_30_trial_3/score_volumes/atlasV3_down32_scoreVolume_clf_30_warp_1_MD657_down32_scoreVolume_clf_30_trial_3_6N_L.bp\n"
     ]
    },
    {
     "name": "stderr",
     "output_type": "stream",
     "text": [
      "Child returned 0\n",
      "0.51 seconds.\n",
      "Transform: 2.91 seconds.\n"
     ]
    },
    {
     "name": "stdout",
     "output_type": "stream",
     "text": [
      "aws s3 cp /shared/CSHL_volumes/atlasV3/atlasV3_down32_scoreVolume_clf_30_warp_1_MD657_down32_scoreVolume_clf_30_trial_3/score_volumes/atlasV3_down32_scoreVolume_clf_30_warp_1_MD657_down32_scoreVolume_clf_30_trial_3_6N_L_surround_200.bp s3://mousebrainatlas-data/CSHL_volumes/atlasV3/atlasV3_down32_scoreVolume_clf_30_warp_1_MD657_down32_scoreVolume_clf_30_trial_3/score_volumes/atlasV3_down32_scoreVolume_clf_30_warp_1_MD657_down32_scoreVolume_clf_30_trial_3_6N_L_surround_200.bp\n"
     ]
    },
    {
     "name": "stderr",
     "output_type": "stream",
     "text": [
      "Child returned 0\n",
      "0.41 seconds.\n",
      "Transform: 2.82 seconds.\n"
     ]
    },
    {
     "name": "stdout",
     "output_type": "stream",
     "text": [
      "aws s3 cp /shared/CSHL_volumes/atlasV3/atlasV3_down32_scoreVolume_clf_30_warp_1_MD657_down32_scoreVolume_clf_30_trial_3/score_volumes/atlasV3_down32_scoreVolume_clf_30_warp_1_MD657_down32_scoreVolume_clf_30_trial_3_6N_R.bp s3://mousebrainatlas-data/CSHL_volumes/atlasV3/atlasV3_down32_scoreVolume_clf_30_warp_1_MD657_down32_scoreVolume_clf_30_trial_3/score_volumes/atlasV3_down32_scoreVolume_clf_30_warp_1_MD657_down32_scoreVolume_clf_30_trial_3_6N_R.bp\n"
     ]
    },
    {
     "name": "stderr",
     "output_type": "stream",
     "text": [
      "Child returned 0\n",
      "0.47 seconds.\n",
      "Transform: 2.86 seconds.\n"
     ]
    },
    {
     "name": "stdout",
     "output_type": "stream",
     "text": [
      "aws s3 cp /shared/CSHL_volumes/atlasV3/atlasV3_down32_scoreVolume_clf_30_warp_1_MD657_down32_scoreVolume_clf_30_trial_3/score_volumes/atlasV3_down32_scoreVolume_clf_30_warp_1_MD657_down32_scoreVolume_clf_30_trial_3_6N_R_surround_200.bp s3://mousebrainatlas-data/CSHL_volumes/atlasV3/atlasV3_down32_scoreVolume_clf_30_warp_1_MD657_down32_scoreVolume_clf_30_trial_3/score_volumes/atlasV3_down32_scoreVolume_clf_30_warp_1_MD657_down32_scoreVolume_clf_30_trial_3_6N_R_surround_200.bp\n"
     ]
    },
    {
     "name": "stderr",
     "output_type": "stream",
     "text": [
      "Child returned 0\n",
      "0.42 seconds.\n",
      "Transform: 2.83 seconds.\n"
     ]
    },
    {
     "name": "stdout",
     "output_type": "stream",
     "text": [
      "aws s3 cp /shared/CSHL_volumes/atlasV3/atlasV3_down32_scoreVolume_clf_30_warp_1_MD657_down32_scoreVolume_clf_30_trial_3/score_volumes/atlasV3_down32_scoreVolume_clf_30_warp_1_MD657_down32_scoreVolume_clf_30_trial_3_7N_L.bp s3://mousebrainatlas-data/CSHL_volumes/atlasV3/atlasV3_down32_scoreVolume_clf_30_warp_1_MD657_down32_scoreVolume_clf_30_trial_3/score_volumes/atlasV3_down32_scoreVolume_clf_30_warp_1_MD657_down32_scoreVolume_clf_30_trial_3_7N_L.bp\n"
     ]
    },
    {
     "name": "stderr",
     "output_type": "stream",
     "text": [
      "Child returned 0\n",
      "0.47 seconds.\n",
      "Transform: 2.93 seconds.\n"
     ]
    },
    {
     "name": "stdout",
     "output_type": "stream",
     "text": [
      "aws s3 cp /shared/CSHL_volumes/atlasV3/atlasV3_down32_scoreVolume_clf_30_warp_1_MD657_down32_scoreVolume_clf_30_trial_3/score_volumes/atlasV3_down32_scoreVolume_clf_30_warp_1_MD657_down32_scoreVolume_clf_30_trial_3_7N_L_surround_200.bp s3://mousebrainatlas-data/CSHL_volumes/atlasV3/atlasV3_down32_scoreVolume_clf_30_warp_1_MD657_down32_scoreVolume_clf_30_trial_3/score_volumes/atlasV3_down32_scoreVolume_clf_30_warp_1_MD657_down32_scoreVolume_clf_30_trial_3_7N_L_surround_200.bp\n"
     ]
    },
    {
     "name": "stderr",
     "output_type": "stream",
     "text": [
      "Child returned 0\n",
      "0.47 seconds.\n",
      "Transform: 2.94 seconds.\n"
     ]
    },
    {
     "name": "stdout",
     "output_type": "stream",
     "text": [
      "aws s3 cp /shared/CSHL_volumes/atlasV3/atlasV3_down32_scoreVolume_clf_30_warp_1_MD657_down32_scoreVolume_clf_30_trial_3/score_volumes/atlasV3_down32_scoreVolume_clf_30_warp_1_MD657_down32_scoreVolume_clf_30_trial_3_7N_R.bp s3://mousebrainatlas-data/CSHL_volumes/atlasV3/atlasV3_down32_scoreVolume_clf_30_warp_1_MD657_down32_scoreVolume_clf_30_trial_3/score_volumes/atlasV3_down32_scoreVolume_clf_30_warp_1_MD657_down32_scoreVolume_clf_30_trial_3_7N_R.bp\n"
     ]
    },
    {
     "name": "stderr",
     "output_type": "stream",
     "text": [
      "Child returned 0\n",
      "0.47 seconds.\n",
      "Transform: 2.89 seconds.\n"
     ]
    },
    {
     "name": "stdout",
     "output_type": "stream",
     "text": [
      "aws s3 cp /shared/CSHL_volumes/atlasV3/atlasV3_down32_scoreVolume_clf_30_warp_1_MD657_down32_scoreVolume_clf_30_trial_3/score_volumes/atlasV3_down32_scoreVolume_clf_30_warp_1_MD657_down32_scoreVolume_clf_30_trial_3_7N_R_surround_200.bp s3://mousebrainatlas-data/CSHL_volumes/atlasV3/atlasV3_down32_scoreVolume_clf_30_warp_1_MD657_down32_scoreVolume_clf_30_trial_3/score_volumes/atlasV3_down32_scoreVolume_clf_30_warp_1_MD657_down32_scoreVolume_clf_30_trial_3_7N_R_surround_200.bp\n"
     ]
    },
    {
     "name": "stderr",
     "output_type": "stream",
     "text": [
      "Child returned 0\n",
      "0.47 seconds.\n",
      "Transform: 2.95 seconds.\n"
     ]
    },
    {
     "name": "stdout",
     "output_type": "stream",
     "text": [
      "aws s3 cp /shared/CSHL_volumes/atlasV3/atlasV3_down32_scoreVolume_clf_30_warp_1_MD657_down32_scoreVolume_clf_30_trial_3/score_volumes/atlasV3_down32_scoreVolume_clf_30_warp_1_MD657_down32_scoreVolume_clf_30_trial_3_7n_L.bp s3://mousebrainatlas-data/CSHL_volumes/atlasV3/atlasV3_down32_scoreVolume_clf_30_warp_1_MD657_down32_scoreVolume_clf_30_trial_3/score_volumes/atlasV3_down32_scoreVolume_clf_30_warp_1_MD657_down32_scoreVolume_clf_30_trial_3_7n_L.bp\n"
     ]
    },
    {
     "name": "stderr",
     "output_type": "stream",
     "text": [
      "Child returned 0\n",
      "0.41 seconds.\n",
      "Transform: 2.86 seconds.\n"
     ]
    },
    {
     "name": "stdout",
     "output_type": "stream",
     "text": [
      "aws s3 cp /shared/CSHL_volumes/atlasV3/atlasV3_down32_scoreVolume_clf_30_warp_1_MD657_down32_scoreVolume_clf_30_trial_3/score_volumes/atlasV3_down32_scoreVolume_clf_30_warp_1_MD657_down32_scoreVolume_clf_30_trial_3_7n_L_surround_200.bp s3://mousebrainatlas-data/CSHL_volumes/atlasV3/atlasV3_down32_scoreVolume_clf_30_warp_1_MD657_down32_scoreVolume_clf_30_trial_3/score_volumes/atlasV3_down32_scoreVolume_clf_30_warp_1_MD657_down32_scoreVolume_clf_30_trial_3_7n_L_surround_200.bp\n"
     ]
    },
    {
     "name": "stderr",
     "output_type": "stream",
     "text": [
      "Child returned 0\n",
      "0.46 seconds.\n",
      "Transform: 2.99 seconds.\n"
     ]
    },
    {
     "name": "stdout",
     "output_type": "stream",
     "text": [
      "aws s3 cp /shared/CSHL_volumes/atlasV3/atlasV3_down32_scoreVolume_clf_30_warp_1_MD657_down32_scoreVolume_clf_30_trial_3/score_volumes/atlasV3_down32_scoreVolume_clf_30_warp_1_MD657_down32_scoreVolume_clf_30_trial_3_7n_R.bp s3://mousebrainatlas-data/CSHL_volumes/atlasV3/atlasV3_down32_scoreVolume_clf_30_warp_1_MD657_down32_scoreVolume_clf_30_trial_3/score_volumes/atlasV3_down32_scoreVolume_clf_30_warp_1_MD657_down32_scoreVolume_clf_30_trial_3_7n_R.bp\n"
     ]
    },
    {
     "name": "stderr",
     "output_type": "stream",
     "text": [
      "Child returned 0\n",
      "0.46 seconds.\n",
      "Transform: 2.91 seconds.\n"
     ]
    },
    {
     "name": "stdout",
     "output_type": "stream",
     "text": [
      "aws s3 cp /shared/CSHL_volumes/atlasV3/atlasV3_down32_scoreVolume_clf_30_warp_1_MD657_down32_scoreVolume_clf_30_trial_3/score_volumes/atlasV3_down32_scoreVolume_clf_30_warp_1_MD657_down32_scoreVolume_clf_30_trial_3_7n_R_surround_200.bp s3://mousebrainatlas-data/CSHL_volumes/atlasV3/atlasV3_down32_scoreVolume_clf_30_warp_1_MD657_down32_scoreVolume_clf_30_trial_3/score_volumes/atlasV3_down32_scoreVolume_clf_30_warp_1_MD657_down32_scoreVolume_clf_30_trial_3_7n_R_surround_200.bp\n"
     ]
    },
    {
     "name": "stderr",
     "output_type": "stream",
     "text": [
      "Child returned 0\n",
      "0.46 seconds.\n",
      "Transform: 2.98 seconds.\n"
     ]
    },
    {
     "name": "stdout",
     "output_type": "stream",
     "text": [
      "aws s3 cp /shared/CSHL_volumes/atlasV3/atlasV3_down32_scoreVolume_clf_30_warp_1_MD657_down32_scoreVolume_clf_30_trial_3/score_volumes/atlasV3_down32_scoreVolume_clf_30_warp_1_MD657_down32_scoreVolume_clf_30_trial_3_AP.bp s3://mousebrainatlas-data/CSHL_volumes/atlasV3/atlasV3_down32_scoreVolume_clf_30_warp_1_MD657_down32_scoreVolume_clf_30_trial_3/score_volumes/atlasV3_down32_scoreVolume_clf_30_warp_1_MD657_down32_scoreVolume_clf_30_trial_3_AP.bp\n"
     ]
    },
    {
     "name": "stderr",
     "output_type": "stream",
     "text": [
      "Child returned 0\n",
      "0.46 seconds.\n",
      "Transform: 2.86 seconds.\n"
     ]
    },
    {
     "name": "stdout",
     "output_type": "stream",
     "text": [
      "aws s3 cp /shared/CSHL_volumes/atlasV3/atlasV3_down32_scoreVolume_clf_30_warp_1_MD657_down32_scoreVolume_clf_30_trial_3/score_volumes/atlasV3_down32_scoreVolume_clf_30_warp_1_MD657_down32_scoreVolume_clf_30_trial_3_AP_surround_200.bp s3://mousebrainatlas-data/CSHL_volumes/atlasV3/atlasV3_down32_scoreVolume_clf_30_warp_1_MD657_down32_scoreVolume_clf_30_trial_3/score_volumes/atlasV3_down32_scoreVolume_clf_30_warp_1_MD657_down32_scoreVolume_clf_30_trial_3_AP_surround_200.bp\n"
     ]
    },
    {
     "name": "stderr",
     "output_type": "stream",
     "text": [
      "Child returned 0\n",
      "0.46 seconds.\n",
      "Transform: 2.88 seconds.\n"
     ]
    },
    {
     "name": "stdout",
     "output_type": "stream",
     "text": [
      "aws s3 cp /shared/CSHL_volumes/atlasV3/atlasV3_down32_scoreVolume_clf_30_warp_1_MD657_down32_scoreVolume_clf_30_trial_3/score_volumes/atlasV3_down32_scoreVolume_clf_30_warp_1_MD657_down32_scoreVolume_clf_30_trial_3_Amb_L.bp s3://mousebrainatlas-data/CSHL_volumes/atlasV3/atlasV3_down32_scoreVolume_clf_30_warp_1_MD657_down32_scoreVolume_clf_30_trial_3/score_volumes/atlasV3_down32_scoreVolume_clf_30_warp_1_MD657_down32_scoreVolume_clf_30_trial_3_Amb_L.bp\n"
     ]
    },
    {
     "name": "stderr",
     "output_type": "stream",
     "text": [
      "Child returned 0\n",
      "0.41 seconds.\n",
      "Transform: 2.80 seconds.\n"
     ]
    },
    {
     "name": "stdout",
     "output_type": "stream",
     "text": [
      "aws s3 cp /shared/CSHL_volumes/atlasV3/atlasV3_down32_scoreVolume_clf_30_warp_1_MD657_down32_scoreVolume_clf_30_trial_3/score_volumes/atlasV3_down32_scoreVolume_clf_30_warp_1_MD657_down32_scoreVolume_clf_30_trial_3_Amb_L_surround_200.bp s3://mousebrainatlas-data/CSHL_volumes/atlasV3/atlasV3_down32_scoreVolume_clf_30_warp_1_MD657_down32_scoreVolume_clf_30_trial_3/score_volumes/atlasV3_down32_scoreVolume_clf_30_warp_1_MD657_down32_scoreVolume_clf_30_trial_3_Amb_L_surround_200.bp\n"
     ]
    },
    {
     "name": "stderr",
     "output_type": "stream",
     "text": [
      "Child returned 0\n",
      "0.46 seconds.\n",
      "Transform: 2.87 seconds.\n"
     ]
    },
    {
     "name": "stdout",
     "output_type": "stream",
     "text": [
      "aws s3 cp /shared/CSHL_volumes/atlasV3/atlasV3_down32_scoreVolume_clf_30_warp_1_MD657_down32_scoreVolume_clf_30_trial_3/score_volumes/atlasV3_down32_scoreVolume_clf_30_warp_1_MD657_down32_scoreVolume_clf_30_trial_3_Amb_R.bp s3://mousebrainatlas-data/CSHL_volumes/atlasV3/atlasV3_down32_scoreVolume_clf_30_warp_1_MD657_down32_scoreVolume_clf_30_trial_3/score_volumes/atlasV3_down32_scoreVolume_clf_30_warp_1_MD657_down32_scoreVolume_clf_30_trial_3_Amb_R.bp\n"
     ]
    },
    {
     "name": "stderr",
     "output_type": "stream",
     "text": [
      "Child returned 0\n",
      "0.46 seconds.\n",
      "Transform: 2.85 seconds.\n"
     ]
    },
    {
     "name": "stdout",
     "output_type": "stream",
     "text": [
      "aws s3 cp /shared/CSHL_volumes/atlasV3/atlasV3_down32_scoreVolume_clf_30_warp_1_MD657_down32_scoreVolume_clf_30_trial_3/score_volumes/atlasV3_down32_scoreVolume_clf_30_warp_1_MD657_down32_scoreVolume_clf_30_trial_3_Amb_R_surround_200.bp s3://mousebrainatlas-data/CSHL_volumes/atlasV3/atlasV3_down32_scoreVolume_clf_30_warp_1_MD657_down32_scoreVolume_clf_30_trial_3/score_volumes/atlasV3_down32_scoreVolume_clf_30_warp_1_MD657_down32_scoreVolume_clf_30_trial_3_Amb_R_surround_200.bp\n"
     ]
    },
    {
     "name": "stderr",
     "output_type": "stream",
     "text": [
      "Child returned 0\n",
      "0.41 seconds.\n",
      "Transform: 2.82 seconds.\n"
     ]
    },
    {
     "name": "stdout",
     "output_type": "stream",
     "text": [
      "aws s3 cp /shared/CSHL_volumes/atlasV3/atlasV3_down32_scoreVolume_clf_30_warp_1_MD657_down32_scoreVolume_clf_30_trial_3/score_volumes/atlasV3_down32_scoreVolume_clf_30_warp_1_MD657_down32_scoreVolume_clf_30_trial_3_DC_L.bp s3://mousebrainatlas-data/CSHL_volumes/atlasV3/atlasV3_down32_scoreVolume_clf_30_warp_1_MD657_down32_scoreVolume_clf_30_trial_3/score_volumes/atlasV3_down32_scoreVolume_clf_30_warp_1_MD657_down32_scoreVolume_clf_30_trial_3_DC_L.bp\n"
     ]
    },
    {
     "name": "stderr",
     "output_type": "stream",
     "text": [
      "Child returned 0\n",
      "0.36 seconds.\n",
      "Transform: 2.81 seconds.\n"
     ]
    },
    {
     "ename": "KeyboardInterrupt",
     "evalue": "",
     "output_type": "error",
     "traceback": [
      "\u001b[0;31m---------------------------------------------------------------------------\u001b[0m",
      "\u001b[0;31mKeyboardInterrupt\u001b[0m                         Traceback (most recent call last)",
      "\u001b[0;32m<ipython-input-5-55893fa238a8>\u001b[0m in \u001b[0;36m<module>\u001b[0;34m()\u001b[0m\n\u001b[1;32m     11\u001b[0m \u001b[0;34m\u001b[0m\u001b[0m\n\u001b[1;32m     12\u001b[0m         volume_m_alignedTo_f =         transform_volume(vol=vol_m, global_params=global_params, centroid_m=centroid_m, centroid_f=centroid_f,\n\u001b[0;32m---> 13\u001b[0;31m                           xdim_f=xdim_f, ydim_f=ydim_f, zdim_f=zdim_f)\n\u001b[0m\u001b[1;32m     14\u001b[0m \u001b[0;34m\u001b[0m\u001b[0m\n\u001b[1;32m     15\u001b[0m         volume_m_alignedTo_f_fn =         DataManager.get_transformed_volume_filepath(stack_m=stack_moving, type_m='score',\n",
      "\u001b[0;32m/shared/MouseBrainAtlas/utilities/registration_utilities.pyc\u001b[0m in \u001b[0;36mtransform_volume\u001b[0;34m(vol, global_params, centroid_m, centroid_f, xdim_f, ydim_f, zdim_f)\u001b[0m\n\u001b[1;32m   1597\u001b[0m     \u001b[0;32mif\u001b[0m \u001b[0mnp\u001b[0m\u001b[0;34m.\u001b[0m\u001b[0missubdtype\u001b[0m\u001b[0;34m(\u001b[0m\u001b[0mvolume_m_aligned_to_f\u001b[0m\u001b[0;34m.\u001b[0m\u001b[0mdtype\u001b[0m\u001b[0;34m,\u001b[0m \u001b[0mnp\u001b[0m\u001b[0;34m.\u001b[0m\u001b[0mfloat\u001b[0m\u001b[0;34m)\u001b[0m\u001b[0;34m:\u001b[0m\u001b[0;34m\u001b[0m\u001b[0m\n\u001b[1;32m   1598\u001b[0m         \u001b[0;31m# score volume\u001b[0m\u001b[0;34m\u001b[0m\u001b[0;34m\u001b[0m\u001b[0m\n\u001b[0;32m-> 1599\u001b[0;31m         \u001b[0mdense_volume\u001b[0m \u001b[0;34m=\u001b[0m \u001b[0mfill_sparse_score_volume\u001b[0m\u001b[0;34m(\u001b[0m\u001b[0mvolume_m_aligned_to_f\u001b[0m\u001b[0;34m)\u001b[0m\u001b[0;34m\u001b[0m\u001b[0m\n\u001b[0m\u001b[1;32m   1600\u001b[0m     \u001b[0;32melif\u001b[0m \u001b[0mnp\u001b[0m\u001b[0;34m.\u001b[0m\u001b[0missubdtype\u001b[0m\u001b[0;34m(\u001b[0m\u001b[0mvolume_m_aligned_to_f\u001b[0m\u001b[0;34m.\u001b[0m\u001b[0mdtype\u001b[0m\u001b[0;34m,\u001b[0m \u001b[0mnp\u001b[0m\u001b[0;34m.\u001b[0m\u001b[0minteger\u001b[0m\u001b[0;34m)\u001b[0m\u001b[0;34m:\u001b[0m\u001b[0;34m\u001b[0m\u001b[0m\n\u001b[1;32m   1601\u001b[0m         \u001b[0mdense_volume\u001b[0m \u001b[0;34m=\u001b[0m \u001b[0mfill_sparse_volume\u001b[0m\u001b[0;34m(\u001b[0m\u001b[0mvolume_m_aligned_to_f\u001b[0m\u001b[0;34m)\u001b[0m\u001b[0;34m\u001b[0m\u001b[0m\n",
      "\u001b[0;32m/shared/MouseBrainAtlas/utilities/registration_utilities.pyc\u001b[0m in \u001b[0;36mfill_sparse_score_volume\u001b[0;34m(vol)\u001b[0m\n\u001b[1;32m   1656\u001b[0m \u001b[0;32mdef\u001b[0m \u001b[0mfill_sparse_score_volume\u001b[0m\u001b[0;34m(\u001b[0m\u001b[0mvol\u001b[0m\u001b[0;34m)\u001b[0m\u001b[0;34m:\u001b[0m\u001b[0;34m\u001b[0m\u001b[0m\n\u001b[1;32m   1657\u001b[0m     \u001b[0mdense_vol\u001b[0m \u001b[0;34m=\u001b[0m \u001b[0mnp\u001b[0m\u001b[0;34m.\u001b[0m\u001b[0mzeros_like\u001b[0m\u001b[0;34m(\u001b[0m\u001b[0mvol\u001b[0m\u001b[0;34m)\u001b[0m\u001b[0;34m\u001b[0m\u001b[0m\n\u001b[0;32m-> 1658\u001b[0;31m     \u001b[0mxmin\u001b[0m\u001b[0;34m,\u001b[0m \u001b[0mxmax\u001b[0m\u001b[0;34m,\u001b[0m \u001b[0mymin\u001b[0m\u001b[0;34m,\u001b[0m \u001b[0mymax\u001b[0m\u001b[0;34m,\u001b[0m \u001b[0mzmin\u001b[0m\u001b[0;34m,\u001b[0m \u001b[0mzmax\u001b[0m \u001b[0;34m=\u001b[0m \u001b[0mbbox_3d\u001b[0m\u001b[0;34m(\u001b[0m\u001b[0mvol\u001b[0m\u001b[0;34m)\u001b[0m\u001b[0;34m\u001b[0m\u001b[0m\n\u001b[0m\u001b[1;32m   1659\u001b[0m     \u001b[0mroi\u001b[0m \u001b[0;34m=\u001b[0m \u001b[0mvol\u001b[0m\u001b[0;34m[\u001b[0m\u001b[0mymin\u001b[0m\u001b[0;34m:\u001b[0m\u001b[0mymax\u001b[0m\u001b[0;34m+\u001b[0m\u001b[0;36m1\u001b[0m\u001b[0;34m,\u001b[0m \u001b[0mxmin\u001b[0m\u001b[0;34m:\u001b[0m\u001b[0mxmax\u001b[0m\u001b[0;34m+\u001b[0m\u001b[0;36m1\u001b[0m\u001b[0;34m,\u001b[0m \u001b[0mzmin\u001b[0m\u001b[0;34m:\u001b[0m\u001b[0mzmax\u001b[0m\u001b[0;34m+\u001b[0m\u001b[0;36m1\u001b[0m\u001b[0;34m]\u001b[0m\u001b[0;34m\u001b[0m\u001b[0m\n\u001b[1;32m   1660\u001b[0m     \u001b[0mroi_dense_vol\u001b[0m \u001b[0;34m=\u001b[0m \u001b[0mnp\u001b[0m\u001b[0;34m.\u001b[0m\u001b[0mzeros_like\u001b[0m\u001b[0;34m(\u001b[0m\u001b[0mroi\u001b[0m\u001b[0;34m)\u001b[0m\u001b[0;34m\u001b[0m\u001b[0m\n",
      "\u001b[0;32m/shared/MouseBrainAtlas/utilities/utilities2015.pyc\u001b[0m in \u001b[0;36mbbox_3d\u001b[0;34m(img)\u001b[0m\n\u001b[1;32m    643\u001b[0m \u001b[0;32mdef\u001b[0m \u001b[0mbbox_3d\u001b[0m\u001b[0;34m(\u001b[0m\u001b[0mimg\u001b[0m\u001b[0;34m)\u001b[0m\u001b[0;34m:\u001b[0m\u001b[0;34m\u001b[0m\u001b[0m\n\u001b[1;32m    644\u001b[0m \u001b[0;34m\u001b[0m\u001b[0m\n\u001b[0;32m--> 645\u001b[0;31m     \u001b[0mr\u001b[0m \u001b[0;34m=\u001b[0m \u001b[0mnp\u001b[0m\u001b[0;34m.\u001b[0m\u001b[0many\u001b[0m\u001b[0;34m(\u001b[0m\u001b[0mimg\u001b[0m\u001b[0;34m,\u001b[0m \u001b[0maxis\u001b[0m\u001b[0;34m=\u001b[0m\u001b[0;34m(\u001b[0m\u001b[0;36m1\u001b[0m\u001b[0;34m,\u001b[0m \u001b[0;36m2\u001b[0m\u001b[0;34m)\u001b[0m\u001b[0;34m)\u001b[0m\u001b[0;34m\u001b[0m\u001b[0m\n\u001b[0m\u001b[1;32m    646\u001b[0m     \u001b[0mc\u001b[0m \u001b[0;34m=\u001b[0m \u001b[0mnp\u001b[0m\u001b[0;34m.\u001b[0m\u001b[0many\u001b[0m\u001b[0;34m(\u001b[0m\u001b[0mimg\u001b[0m\u001b[0;34m,\u001b[0m \u001b[0maxis\u001b[0m\u001b[0;34m=\u001b[0m\u001b[0;34m(\u001b[0m\u001b[0;36m0\u001b[0m\u001b[0;34m,\u001b[0m \u001b[0;36m2\u001b[0m\u001b[0;34m)\u001b[0m\u001b[0;34m)\u001b[0m\u001b[0;34m\u001b[0m\u001b[0m\n\u001b[1;32m    647\u001b[0m     \u001b[0mz\u001b[0m \u001b[0;34m=\u001b[0m \u001b[0mnp\u001b[0m\u001b[0;34m.\u001b[0m\u001b[0many\u001b[0m\u001b[0;34m(\u001b[0m\u001b[0mimg\u001b[0m\u001b[0;34m,\u001b[0m \u001b[0maxis\u001b[0m\u001b[0;34m=\u001b[0m\u001b[0;34m(\u001b[0m\u001b[0;36m0\u001b[0m\u001b[0;34m,\u001b[0m \u001b[0;36m1\u001b[0m\u001b[0;34m)\u001b[0m\u001b[0;34m)\u001b[0m\u001b[0;34m\u001b[0m\u001b[0m\n",
      "\u001b[0;32m/usr/local/lib/python2.7/dist-packages/numpy/core/fromnumeric.pyc\u001b[0m in \u001b[0;36many\u001b[0;34m(a, axis, out, keepdims)\u001b[0m\n\u001b[1;32m   1948\u001b[0m     \u001b[0;32mif\u001b[0m \u001b[0mkeepdims\u001b[0m \u001b[0;32mis\u001b[0m \u001b[0;32mnot\u001b[0m \u001b[0mnp\u001b[0m\u001b[0;34m.\u001b[0m\u001b[0m_NoValue\u001b[0m\u001b[0;34m:\u001b[0m\u001b[0;34m\u001b[0m\u001b[0m\n\u001b[1;32m   1949\u001b[0m         \u001b[0mkwargs\u001b[0m\u001b[0;34m[\u001b[0m\u001b[0;34m'keepdims'\u001b[0m\u001b[0;34m]\u001b[0m \u001b[0;34m=\u001b[0m \u001b[0mkeepdims\u001b[0m\u001b[0;34m\u001b[0m\u001b[0m\n\u001b[0;32m-> 1950\u001b[0;31m     \u001b[0;32mreturn\u001b[0m \u001b[0marr\u001b[0m\u001b[0;34m.\u001b[0m\u001b[0many\u001b[0m\u001b[0;34m(\u001b[0m\u001b[0maxis\u001b[0m\u001b[0;34m=\u001b[0m\u001b[0maxis\u001b[0m\u001b[0;34m,\u001b[0m \u001b[0mout\u001b[0m\u001b[0;34m=\u001b[0m\u001b[0mout\u001b[0m\u001b[0;34m,\u001b[0m \u001b[0;34m**\u001b[0m\u001b[0mkwargs\u001b[0m\u001b[0;34m)\u001b[0m\u001b[0;34m\u001b[0m\u001b[0m\n\u001b[0m\u001b[1;32m   1951\u001b[0m \u001b[0;34m\u001b[0m\u001b[0m\n\u001b[1;32m   1952\u001b[0m \u001b[0;34m\u001b[0m\u001b[0m\n",
      "\u001b[0;32m/usr/local/lib/python2.7/dist-packages/numpy/core/_methods.pyc\u001b[0m in \u001b[0;36m_any\u001b[0;34m(a, axis, dtype, out, keepdims)\u001b[0m\n\u001b[1;32m     36\u001b[0m \u001b[0;34m\u001b[0m\u001b[0m\n\u001b[1;32m     37\u001b[0m \u001b[0;32mdef\u001b[0m \u001b[0m_any\u001b[0m\u001b[0;34m(\u001b[0m\u001b[0ma\u001b[0m\u001b[0;34m,\u001b[0m \u001b[0maxis\u001b[0m\u001b[0;34m=\u001b[0m\u001b[0mNone\u001b[0m\u001b[0;34m,\u001b[0m \u001b[0mdtype\u001b[0m\u001b[0;34m=\u001b[0m\u001b[0mNone\u001b[0m\u001b[0;34m,\u001b[0m \u001b[0mout\u001b[0m\u001b[0;34m=\u001b[0m\u001b[0mNone\u001b[0m\u001b[0;34m,\u001b[0m \u001b[0mkeepdims\u001b[0m\u001b[0;34m=\u001b[0m\u001b[0mFalse\u001b[0m\u001b[0;34m)\u001b[0m\u001b[0;34m:\u001b[0m\u001b[0;34m\u001b[0m\u001b[0m\n\u001b[0;32m---> 38\u001b[0;31m     \u001b[0;32mreturn\u001b[0m \u001b[0mumr_any\u001b[0m\u001b[0;34m(\u001b[0m\u001b[0ma\u001b[0m\u001b[0;34m,\u001b[0m \u001b[0maxis\u001b[0m\u001b[0;34m,\u001b[0m \u001b[0mdtype\u001b[0m\u001b[0;34m,\u001b[0m \u001b[0mout\u001b[0m\u001b[0;34m,\u001b[0m \u001b[0mkeepdims\u001b[0m\u001b[0;34m)\u001b[0m\u001b[0;34m\u001b[0m\u001b[0m\n\u001b[0m\u001b[1;32m     39\u001b[0m \u001b[0;34m\u001b[0m\u001b[0m\n\u001b[1;32m     40\u001b[0m \u001b[0;32mdef\u001b[0m \u001b[0m_all\u001b[0m\u001b[0;34m(\u001b[0m\u001b[0ma\u001b[0m\u001b[0;34m,\u001b[0m \u001b[0maxis\u001b[0m\u001b[0;34m=\u001b[0m\u001b[0mNone\u001b[0m\u001b[0;34m,\u001b[0m \u001b[0mdtype\u001b[0m\u001b[0;34m=\u001b[0m\u001b[0mNone\u001b[0m\u001b[0;34m,\u001b[0m \u001b[0mout\u001b[0m\u001b[0;34m=\u001b[0m\u001b[0mNone\u001b[0m\u001b[0;34m,\u001b[0m \u001b[0mkeepdims\u001b[0m\u001b[0;34m=\u001b[0m\u001b[0mFalse\u001b[0m\u001b[0;34m)\u001b[0m\u001b[0;34m:\u001b[0m\u001b[0;34m\u001b[0m\u001b[0m\n",
      "\u001b[0;31mKeyboardInterrupt\u001b[0m: "
     ]
    }
   ],
   "source": [
    "# Transform moving volume, sided, without surround\n",
    "\n",
    "for structure in all_known_structures_sided_with_surround:\n",
    "# for structure in all_known_structures_sided:\n",
    "# for structure in ['7N_L']:\n",
    "    \n",
    "    try:\n",
    "        t = time.time()\n",
    "\n",
    "        vol_m = DataManager.load_original_volume(stack=stack_moving, structure=structure, downscale=32, volume_type='score')\n",
    "\n",
    "        volume_m_alignedTo_f = \\\n",
    "        transform_volume(vol=vol_m, global_params=global_params, centroid_m=centroid_m, centroid_f=centroid_f,\n",
    "                          xdim_f=xdim_f, ydim_f=ydim_f, zdim_f=zdim_f)\n",
    "\n",
    "        volume_m_alignedTo_f_fn = \\\n",
    "        DataManager.get_transformed_volume_filepath(stack_m=stack_moving, type_m='score',\n",
    "                                                    stack_f=stack_fixed, type_f='score',\n",
    "                                                    downscale=32,\n",
    "                                                    classifier_setting_m=classifier_setting,\n",
    "                                                    classifier_setting_f=classifier_setting,\n",
    "                                                    warp_setting=warp_setting,\n",
    "                                                    structure=structure,\n",
    "                                                   trial_idx=trial_idx)\n",
    "\n",
    "        create_parent_dir_if_not_exists(volume_m_alignedTo_f_fn)\n",
    "        bp.pack_ndarray_file(volume_m_alignedTo_f, volume_m_alignedTo_f_fn)\n",
    "        \n",
    "        upload_from_ec2_to_s3(volume_m_alignedTo_f_fn)\n",
    "    \n",
    "        sys.stderr.write('Transform: %.2f seconds.\\n' % (time.time() - t)) # 3s\n",
    "    \n",
    "    except Exception as e:\n",
    "        sys.stderr.write('%s\\n' % e)\n",
    "        sys.stderr.write('Error transforming volume %s.\\n' % structure)"
   ]
  },
  {
   "cell_type": "markdown",
   "metadata": {},
   "source": [
    "# Read"
   ]
  },
  {
   "cell_type": "code",
   "execution_count": 6,
   "metadata": {
    "collapsed": true
   },
   "outputs": [],
   "source": [
    "warp_setting = 1\n",
    "trial_idx = 0"
   ]
  },
  {
   "cell_type": "code",
   "execution_count": 7,
   "metadata": {
    "collapsed": true
   },
   "outputs": [],
   "source": [
    "# Read transformed volumes\n",
    "\n",
    "structure = '7N_L'\n",
    "\n",
    "warped_volume = DataManager.load_transformed_volume(stack_m=stack_moving, \n",
    "                                                                          stack_f=stack_fixed, \n",
    "                                    classifier_setting_m=classifier_setting,\n",
    "                                    classifier_setting_f=classifier_setting,\n",
    "                                    warp_setting=warp_setting,\n",
    "                                    trial_idx=0, structure=structure)"
   ]
  },
  {
   "cell_type": "code",
   "execution_count": null,
   "metadata": {
    "collapsed": true
   },
   "outputs": [],
   "source": [
    "display_volume_sections(warped_volume)"
   ]
  },
  {
   "cell_type": "markdown",
   "metadata": {
    "collapsed": true
   },
   "source": [
    "# Structure-wise Transform"
   ]
  },
  {
   "cell_type": "code",
   "execution_count": 17,
   "metadata": {
    "collapsed": true
   },
   "outputs": [],
   "source": [
    "classifier_setting = 30\n",
    "warp_setting = 5\n",
    "trial_idx = 0"
   ]
  },
  {
   "cell_type": "code",
   "execution_count": 18,
   "metadata": {},
   "outputs": [
    {
     "name": "stdout",
     "output_type": "stream",
     "text": [
      "upstream_warp_id                        1\n",
      "transform_type                      rigid\n",
      "terminate_thresh                    1e-06\n",
      "grad_computation_sample_number     100000\n",
      "grid_search_sample_number           10000\n",
      "std_tx                                100\n",
      "std_ty                                100\n",
      "std_tz                                100\n",
      "std_theta_xy                           30\n",
      "surround_weight                   inverse\n",
      "regularization_weight                   0\n",
      "Name: 5, dtype: object\n"
     ]
    }
   ],
   "source": [
    "warp_properties = registration_settings.loc[warp_setting]\n",
    "print warp_properties\n",
    "\n",
    "upstream_warp_setting = warp_properties['upstream_warp_id']\n",
    "if upstream_warp_setting == 'None':\n",
    "    upstream_warp_setting = None\n",
    "else:\n",
    "    upstream_warp_setting = int(upstream_warp_setting)\n",
    "    upstream_trial_idx = 1 # modify this for different upstream warp"
   ]
  },
  {
   "cell_type": "code",
   "execution_count": 19,
   "metadata": {
    "collapsed": true
   },
   "outputs": [],
   "source": [
    "# if warp_setting == 1:\n",
    "#     upstream_warp_setting = None\n",
    "# elif warp_setting == 2:\n",
    "#     upstream_warp_setting = 1\n",
    "# elif warp_setting == 4:\n",
    "#     upstream_warp_setting = 1\n",
    "# elif warp_setting == 5:\n",
    "#     upstream_warp_setting = 1\n",
    "# else:\n",
    "#     raise Exception('Warp setting not recognized.')"
   ]
  },
  {
   "cell_type": "code",
   "execution_count": 20,
   "metadata": {
    "scrolled": true
   },
   "outputs": [
    {
     "name": "stdout",
     "output_type": "stream",
     "text": [
      "aws s3 cp /shared/CSHL_volumes/atlasV3/atlasV3_down32_scoreVolume_clf_30_warp_5_MD657_down32_scoreVolume_clf_30_trial_0/score_volumes/atlasV3_down32_scoreVolume_clf_30_warp_5_MD657_down32_scoreVolume_clf_30_trial_0_IC.bp s3://mousebrainatlas-data/CSHL_volumes/atlasV3/atlasV3_down32_scoreVolume_clf_30_warp_5_MD657_down32_scoreVolume_clf_30_trial_0/score_volumes/atlasV3_down32_scoreVolume_clf_30_warp_5_MD657_down32_scoreVolume_clf_30_trial_0_IC.bp\n"
     ]
    },
    {
     "name": "stderr",
     "output_type": "stream",
     "text": [
      "Child returned 0\n",
      "0.46 seconds.\n",
      "Transform: 5.00 seconds.\n"
     ]
    }
   ],
   "source": [
    "# for structure in all_known_structures_sided:\n",
    "for structure in ['IC']:\n",
    "\n",
    "    # Load local transform parameters\n",
    "    \n",
    "    try:\n",
    "\n",
    "        t = time.time()\n",
    "        \n",
    "        local_params, centroid_m, centroid_f, xdim_m, ydim_m, zdim_m, xdim_f, ydim_f, zdim_f = \\\n",
    "        DataManager.load_alignment_parameters(stack_m=stack_moving, stack_f=stack_fixed,\n",
    "                                              classifier_setting_m=classifier_setting,\n",
    "                                              classifier_setting_f=classifier_setting,\n",
    "                                              warp_setting=warp_setting,\n",
    "                                              param_suffix=structure,\n",
    "                                              trial_idx=trial_idx)\n",
    "\n",
    "        # Read global tx\n",
    "        global_transformed_moving_structure_vol = \\\n",
    "        DataManager.load_transformed_volume(stack_m=stack_moving, stack_f=stack_fixed,\n",
    "                                            classifier_setting_m=classifier_setting,\n",
    "                                            classifier_setting_f=classifier_setting,\n",
    "                                            warp_setting=upstream_warp_setting, \n",
    "                                            trial_idx=upstream_trial_idx,\n",
    "                                            structure=structure)\n",
    "\n",
    "        # Transform\n",
    "        local_transformed_moving_structure_vol = transform_volume(vol=global_transformed_moving_structure_vol, \n",
    "                                                 global_params=local_params, \n",
    "                                                 centroid_m=centroid_m, centroid_f=centroid_f,\n",
    "                                                 xdim_f=xdim_f, ydim_f=ydim_f, zdim_f=zdim_f)\n",
    "\n",
    "        # Save\n",
    "        local_transformed_moving_structure_fn = \\\n",
    "        DataManager.get_transformed_volume_filepath(stack_m=stack_moving, stack_f=stack_fixed,\n",
    "                                                    classifier_setting_m=classifier_setting,\n",
    "                                                    classifier_setting_f=classifier_setting,\n",
    "                                                    warp_setting=warp_setting,\n",
    "                                                    trial_idx=trial_idx,\n",
    "                                                    structure=structure)\n",
    "\n",
    "        create_parent_dir_if_not_exists(local_transformed_moving_structure_fn)\n",
    "        bp.pack_ndarray_file(local_transformed_moving_structure_vol, local_transformed_moving_structure_fn)\n",
    "        \n",
    "        upload_from_ec2_to_s3(local_transformed_moving_structure_fn)\n",
    "        \n",
    "        sys.stderr.write('Transform: %.2f seconds.\\n' % (time.time() - t))\n",
    "        \n",
    "    except Exception as e:\n",
    "        sys.stderr.write('%s\\n' % e)\n",
    "        sys.stderr.write('Error transforming volume %s.\\n' % structure)"
   ]
  },
  {
   "cell_type": "markdown",
   "metadata": {},
   "source": [
    "# Polyrigid Transform"
   ]
  },
  {
   "cell_type": "code",
   "execution_count": 3,
   "metadata": {
    "collapsed": true
   },
   "outputs": [],
   "source": [
    "warp_setting = 12\n",
    "upstream_warp_setting = 1\n",
    "classifier_setting = 2"
   ]
  },
  {
   "cell_type": "code",
   "execution_count": 4,
   "metadata": {},
   "outputs": [
    {
     "name": "stderr",
     "output_type": "stream",
     "text": [
      "File does not exist: /oasis/projects/nsf/csd395/yuncong/CSHL_volumes/atlasV2/atlasV2_down32_scoreVolume_clf_2_warp_1_MD642_down32_scoreVolume_clf_2_trial_0/score_volumes/atlasV2_down32_scoreVolume_clf_2_warp_1_MD642_down32_scoreVolume_clf_2_trial_0_sp5.bp\n",
      "[Errno 2] No such file or directory: '/oasis/projects/nsf/csd395/yuncong/CSHL_volumes/atlasV2/atlasV2_down32_scoreVolume_clf_2_warp_1_MD642_down32_scoreVolume_clf_2_trial_0/score_volumes/atlasV2_down32_scoreVolume_clf_2_warp_1_MD642_down32_scoreVolume_clf_2_trial_0_sp5.bp'\n",
      "Score volume for sp5 does not exist.\n",
      "File does not exist: /oasis/projects/nsf/csd395/yuncong/CSHL_volumes/atlasV2/atlasV2_down32_scoreVolume_clf_2_warp_1_MD642_down32_scoreVolume_clf_2_trial_0/score_volumes/atlasV2_down32_scoreVolume_clf_2_warp_1_MD642_down32_scoreVolume_clf_2_trial_0_outerContour.bp\n",
      "[Errno 2] No such file or directory: '/oasis/projects/nsf/csd395/yuncong/CSHL_volumes/atlasV2/atlasV2_down32_scoreVolume_clf_2_warp_1_MD642_down32_scoreVolume_clf_2_trial_0/score_volumes/atlasV2_down32_scoreVolume_clf_2_warp_1_MD642_down32_scoreVolume_clf_2_trial_0_outerContour.bp'\n",
      "Score volume for outerContour does not exist.\n"
     ]
    }
   ],
   "source": [
    "globally_registered_volume = \\\n",
    "DataManager.load_volume_all_known_structures(stack_m=stack_moving, stack_f=stack_fixed,\n",
    "                                            warp_setting=upstream_warp_setting,\n",
    "                                            classifier_setting_m=classifier_setting,\n",
    "                                            classifier_setting_f=classifier_setting,\n",
    "                                            trial_idx=0)"
   ]
  },
  {
   "cell_type": "code",
   "execution_count": 5,
   "metadata": {
    "collapsed": true
   },
   "outputs": [],
   "source": [
    "structure_sizes = {k: np.count_nonzero(v) for k, v in globally_registered_volume.iteritems()}\n",
    "\n",
    "total_size = sum(structure_sizes.values())\n",
    "structure_sizes_percent = {s: float(size)/total_size for s, size in structure_sizes.iteritems()}"
   ]
  },
  {
   "cell_type": "code",
   "execution_count": 6,
   "metadata": {
    "collapsed": true
   },
   "outputs": [],
   "source": [
    "structure_covars = {}\n",
    "for s, v in globally_registered_volume.iteritems():\n",
    "    ys, xs, zs = np.where(v)\n",
    "    nzs = np.c_[xs, ys, zs]\n",
    "    nzsc = nzs - nzs.mean(axis=0)\n",
    "    C = np.dot(nzsc.T, nzsc)/float(len(nzsc))\n",
    "    S, V = np.linalg.eigh(C)\n",
    "    structure_covars[s] = C"
   ]
  },
  {
   "cell_type": "code",
   "execution_count": 7,
   "metadata": {},
   "outputs": [
    {
     "name": "stderr",
     "output_type": "stream",
     "text": [
      "File does not exist: /oasis/projects/nsf/csd395/yuncong/CSHL_registration_parameters/atlasV2/atlasV2_down32_scoreVolume_clf_2_warp_5_MD642_down32_scoreVolume_clf_2_trial_0/atlasV2_down32_scoreVolume_clf_2_warp_5_MD642_down32_scoreVolume_clf_2_trial_0_parameters_sp5.txt\n",
      "Error loading transform parameters for sp5.\n",
      "File does not exist: /oasis/projects/nsf/csd395/yuncong/CSHL_registration_parameters/atlasV2/atlasV2_down32_scoreVolume_clf_2_warp_5_MD642_down32_scoreVolume_clf_2_trial_0/atlasV2_down32_scoreVolume_clf_2_warp_5_MD642_down32_scoreVolume_clf_2_trial_0_parameters_outerContour.txt\n",
      "Error loading transform parameters for outerContour.\n"
     ]
    }
   ],
   "source": [
    "# Read Transform of each structure, do polyrigid transform\n",
    "\n",
    "rigid_parameters = {}\n",
    "anchor_points = {}\n",
    "\n",
    "for structure in all_known_structures_sided:\n",
    "\n",
    "    try:\n",
    "        tx_params, centroid_m, centroid_f, xdim_m, ydim_m, zdim_m, xdim_f, ydim_f, zdim_f = \\\n",
    "        DataManager.load_alignment_parameters(stack_m=stack_moving,\n",
    "                                          stack_f=stack_fixed,\n",
    "                                          classifier_setting_f=2,  \n",
    "                                          classifier_setting_m=2,\n",
    "                                        warp_setting=5,\n",
    "                                           trial_idx=0,\n",
    "                                            param_suffix=structure)\n",
    "        \n",
    "        rigid_parameters[structure] = (tx_params, centroid_m, centroid_f, xdim_m, ydim_m, zdim_m, xdim_f, ydim_f, zdim_f)\n",
    "        anchor_points[structure] = centroid_m\n",
    "    except:\n",
    "        sys.stderr.write('Error loading transform parameters for %s.\\n' % structure)"
   ]
  },
  {
   "cell_type": "code",
   "execution_count": 8,
   "metadata": {
    "collapsed": true
   },
   "outputs": [],
   "source": [
    "weights = structure_sizes_percent\n",
    "alpha = 1.\n",
    "sigmas = {s: alpha * v for s, v in structure_covars.iteritems()}"
   ]
  },
  {
   "cell_type": "code",
   "execution_count": null,
   "metadata": {
    "collapsed": true
   },
   "outputs": [],
   "source": [
    "# Parallel\n",
    "\n",
    "def func(structure):\n",
    "    \n",
    "    polyrigid_registered_volume = transform_volume_polyrigid(globally_registered_volume[structure], \n",
    "                                  rigid_parameters.values(), \n",
    "                                  anchor_points.values(), \n",
    "                                  sigmas.values(), \n",
    "                                  weights.values())\n",
    "\n",
    "    # Save\n",
    "    fn = \\\n",
    "    DataManager.get_transformed_volume_filepath(stack_m=stack_moving, stack_f=stack_fixed,\n",
    "                                                classifier_setting_m=classifier_setting,\n",
    "                                                classifier_setting_f=classifier_setting,\n",
    "                                                warp_setting=warp_setting,\n",
    "                                                trial_idx=0,\n",
    "                                                structure=structure)\n",
    "\n",
    "    create_parent_dir_if_not_exists(fn)\n",
    "    bp.pack_ndarray_file(polyrigid_registered_volume, fn)"
   ]
  },
  {
   "cell_type": "code",
   "execution_count": null,
   "metadata": {
    "collapsed": true
   },
   "outputs": [],
   "source": [
    "pool = Pool(15)\n",
    "pool.map(func, globally_registered_volume.keys())\n",
    "pool.terminate()\n",
    "pool.join()"
   ]
  },
  {
   "cell_type": "code",
   "execution_count": 17,
   "metadata": {
    "scrolled": true
   },
   "outputs": [
    {
     "name": "stdout",
     "output_type": "stream",
     "text": [
      "LRt_R\n",
      "Sp5C_L\n",
      "Pn_L\n",
      "7N_R\n",
      "PBG_L\n",
      "VLL_L\n",
      "4N_R\n",
      "VLL_R\n",
      "7N_L\n",
      "PBG_R\n",
      "RtTg\n",
      "Sp5C_R\n",
      "Pn_R\n",
      "LRt_L\n",
      "Sp5O_R\n",
      "SNR_L\n",
      "12N\n",
      "SNR_R\n",
      "Sp5O_L\n",
      "DC_R\n",
      "VCA_L\n",
      "3N_L\n",
      "6N_R\n",
      "Sp5I_L\n",
      "RMC_R\n",
      "5N_L\n",
      "SNC_L\n",
      "SNC_R\n",
      "AP\n",
      "RMC_L\n",
      "Sp5I_R\n",
      "3N_R\n",
      "6N_L\n",
      "IC\n",
      "VCA_R\n",
      "DC_L\n",
      "Amb_R\n",
      "VCP_R\n",
      "LC_R\n",
      "10N_R\n",
      "7n_R\n",
      "5N_R\n",
      "Tz_L\n",
      "Tz_R\n",
      "7n_L\n",
      "4N_L\n",
      "LC_L\n",
      "10N_L\n",
      "SC\n",
      "VCP_L\n",
      "Amb_L\n"
     ]
    }
   ],
   "source": [
    "# Sequential\n",
    "\n",
    "for structure, gv in globally_registered_volume.iteritems():\n",
    "    print structure\n",
    "    polyrigid_registered_volume = transform_volume_polyrigid(gv, \n",
    "                                  rigid_parameters.values(), \n",
    "                                  anchor_points.values(), \n",
    "                                  sigmas.values(), \n",
    "                                  weights.values())\n",
    "\n",
    "    # Save\n",
    "    fn = \\\n",
    "    DataManager.get_transformed_volume_filepath(stack_m=stack_moving, stack_f=stack_fixed,\n",
    "                                                classifier_setting_m=classifier_setting,\n",
    "                                                classifier_setting_f=classifier_setting,\n",
    "                                                warp_setting=warp_setting,\n",
    "                                                trial_idx=0,\n",
    "                                                structure=structure)\n",
    "\n",
    "    create_parent_dir_if_not_exists(fn)\n",
    "    bp.pack_ndarray_file(polyrigid_registered_volume, fn)"
   ]
  },
  {
   "cell_type": "markdown",
   "metadata": {
    "collapsed": true
   },
   "source": [
    "# Global Transform Reversed"
   ]
  },
  {
   "cell_type": "code",
   "execution_count": 4,
   "metadata": {
    "collapsed": true
   },
   "outputs": [],
   "source": [
    "warp_setting = 3\n",
    "trial_idx = 0"
   ]
  },
  {
   "cell_type": "code",
   "execution_count": 6,
   "metadata": {
    "collapsed": true
   },
   "outputs": [],
   "source": [
    "if warp_setting == 1:\n",
    "    upstream_warp_setting = None\n",
    "elif warp_setting == 2:\n",
    "    upstream_warp_setting = 1\n",
    "elif warp_setting == 3:\n",
    "    global_warp_setting = 1\n",
    "    upstream_warp_setting = 2\n",
    "else:\n",
    "    raise Exception('Warp setting not recognized.')\n",
    "    \n",
    "if trial_idx in [0, 1]:\n",
    "    upstream_trial_idx = 0"
   ]
  },
  {
   "cell_type": "code",
   "execution_count": 7,
   "metadata": {
    "collapsed": true
   },
   "outputs": [],
   "source": [
    "# Load transform parameters\n",
    "\n",
    "global_params, centroid_m, centroid_f, xdim_m, ydim_m, zdim_m, xdim_f, ydim_f, zdim_f = \\\n",
    "DataManager.load_alignment_parameters(stack_m=stack_moving, stack_f=stack_fixed,\n",
    "                                      classifier_setting_m=classifier_setting,\n",
    "                                      classifier_setting_f=classifier_setting,\n",
    "                                      warp_setting=global_warp_setting,\n",
    "                                      trial_idx=trial_idx)"
   ]
  },
  {
   "cell_type": "code",
   "execution_count": null,
   "metadata": {
    "collapsed": true,
    "scrolled": true
   },
   "outputs": [],
   "source": [
    "# for structure in ['PBG_L']:\n",
    "for structure in all_known_structures_sided:\n",
    "    \n",
    "    try:\n",
    "        \n",
    "        t = time.time()\n",
    "\n",
    "        local_transformed_moving_structure_vol = \\\n",
    "            DataManager.load_transformed_volume(stack_m=stack_moving, stack_f=stack_fixed,\n",
    "                                                classifier_setting_m=classifier_setting,\n",
    "                                                classifier_setting_f=classifier_setting,\n",
    "                                                warp_setting=upstream_warp_setting, \n",
    "                                                trial_idx=upstream_trial_idx,\n",
    "                                                structure=structure)\n",
    "\n",
    "        local_transformed_moving_structure_global_reversed_vol = \\\n",
    "        transform_volume_inverse(vol=local_transformed_moving_structure_vol, \n",
    "                                 global_params=global_params, \n",
    "                                 centroid_m=centroid_m, centroid_f=centroid_f,\n",
    "                                 xdim_m=xdim_m, ydim_m=ydim_m, zdim_m=zdim_m)\n",
    "\n",
    "        local_transformed_moving_structure_global_reversed_fn = \\\n",
    "        DataManager.get_transformed_volume_filepath(stack_m=stack_moving, type_m='score',\n",
    "                                                        stack_f=stack_fixed, type_f='score',\n",
    "                                                        downscale=32,\n",
    "                                                        classifier_setting_m=classifier_setting,\n",
    "                                                        classifier_setting_f=classifier_setting,\n",
    "                                                        warp_setting=warp_setting,\n",
    "                                                        structure=structure)\n",
    "\n",
    "        create_if_not_exists(os.path.dirname(local_transformed_moving_structure_global_reversed_fn))\n",
    "        bp.pack_ndarray_file(local_transformed_moving_structure_global_reversed_vol, local_transformed_moving_structure_global_reversed_fn)\n",
    "\n",
    "        sys.stderr.write('Transform: %.2f seconds.\\n' % (time.time() - t))\n",
    "        \n",
    "    except Exception as e:\n",
    "        sys.stderr.write('%s\\n' % e)\n",
    "        sys.stderr.write('Error transforming volume %s.\\n' % structure)"
   ]
  },
  {
   "cell_type": "markdown",
   "metadata": {},
   "source": [
    "# Global Transform Reversed (new)"
   ]
  },
  {
   "cell_type": "code",
   "execution_count": 18,
   "metadata": {
    "collapsed": true
   },
   "outputs": [],
   "source": [
    "warp_setting = 18\n",
    "\n",
    "global_warp_setting = 16\n",
    "local_warp_setting = 17\n",
    "trial_idx = None"
   ]
  },
  {
   "cell_type": "code",
   "execution_count": 19,
   "metadata": {
    "collapsed": true
   },
   "outputs": [],
   "source": [
    "# Load transform parameters\n",
    "\n",
    "global_params, centroid_m, centroid_f, xdim_m, ydim_m, zdim_m, xdim_f, ydim_f, zdim_f = \\\n",
    "DataManager.load_alignment_parameters(stack_m=stack_moving, stack_f=stack_fixed,\n",
    "                                      prep_id_f=2,\n",
    "                                      detector_id_f=detector_id,\n",
    "                                      warp_setting=global_warp_setting)"
   ]
  },
  {
   "cell_type": "code",
   "execution_count": null,
   "metadata": {
    "collapsed": true
   },
   "outputs": [],
   "source": [
    "for structure in ['PBG_L']:\n",
    "# for structure in all_known_structures_sided:\n",
    "    \n",
    "    try:\n",
    "        \n",
    "        t = time.time()\n",
    "\n",
    "        local_transformed_moving_structure_vol = \\\n",
    "            DataManager.load_transformed_volume(stack_m=stack_moving, stack_f=stack_fixed,\n",
    "                                                prep_id_f=2,\n",
    "                                                detector_id_f=detector_id,\n",
    "                                                warp_setting=local_warp_setting, \n",
    "                                                structure=structure)\n",
    "\n",
    "        local_transformed_moving_structure_global_reversed_vol = \\\n",
    "        transform_volume_inverse(vol=local_transformed_moving_structure_vol, \n",
    "                                 global_params=global_params, \n",
    "                                 centroid_m=centroid_m, centroid_f=centroid_f,\n",
    "                                 xdim_m=xdim_m, ydim_m=ydim_m, zdim_m=zdim_m)\n",
    "\n",
    "        local_transformed_moving_structure_global_reversed_fp = \\\n",
    "        DataManager.get_transformed_volume_filepath(stack_m=stack_moving,\n",
    "                                                    stack_f=stack_fixed,\n",
    "                                                    downscale=32,\n",
    "                                                    prep_id_f=2,\n",
    "                                                    detector_id_f=detector_id,\n",
    "                                                    warp_setting=warp_setting,\n",
    "                                                    structure=structure)\n",
    "\n",
    "        create_if_not_exists(os.path.dirname(local_transformed_moving_structure_global_reversed_fp))\n",
    "        bp.pack_ndarray_file(local_transformed_moving_structure_global_reversed_vol, local_transformed_moving_structure_global_reversed_fp)\n",
    "\n",
    "        sys.stderr.write('Transform: %.2f seconds.\\n' % (time.time() - t))\n",
    "        \n",
    "    except Exception as e:\n",
    "        sys.stderr.write('Error transforming volume %s: %s.\\n' % (structure, e))"
   ]
  },
  {
   "cell_type": "markdown",
   "metadata": {},
   "source": [
    "# Globally map specimen to atlas"
   ]
  },
  {
   "cell_type": "code",
   "execution_count": 25,
   "metadata": {
    "collapsed": true
   },
   "outputs": [],
   "source": [
    "# Load transform parameters\n",
    "\n",
    "global_params, centroid_m, centroid_f, xdim_m, ydim_m, zdim_m, xdim_f, ydim_f, zdim_f = \\\n",
    "DataManager.load_alignment_parameters(stack_m='atlasV4', stack_f='MD662',\n",
    "                                      prep_id_f=2,\n",
    "                                      detector_id_f=detector_id,\n",
    "                                      warp_setting=16)"
   ]
  },
  {
   "cell_type": "code",
   "execution_count": null,
   "metadata": {
    "scrolled": true
   },
   "outputs": [],
   "source": [
    "# for structure in ['PBG']:\n",
    "for structure in all_known_structures:\n",
    "    \n",
    "    try:\n",
    "        \n",
    "        t = time.time()\n",
    "\n",
    "        vol_f = DataManager.load_original_volume(stack='MD662',\n",
    "                                                 downscale=32,\n",
    "                                            prep_id=2,\n",
    "                                            detector_id=detector_id,\n",
    "                                            structure=structure)\n",
    "\n",
    "        vol_f_reversed = transform_volume_inverse(vol=vol_f, \n",
    "                                                 global_params=global_params, \n",
    "                                                 centroid_m=centroid_m, centroid_f=centroid_f,\n",
    "                                                 xdim_m=xdim_m, ydim_m=ydim_m, zdim_m=zdim_m)\n",
    "\n",
    "        vol_f_reversed_fp = \\\n",
    "        DataManager.get_transformed_volume_filepath(stack_m='MD662',\n",
    "                                                    stack_f='atlasV4',\n",
    "                                                    prep_id_m=2,\n",
    "                                                    detector_id_m=detector_id,\n",
    "                                                    warp_setting=18,\n",
    "                                                    structure=structure)\n",
    "\n",
    "        create_if_not_exists(os.path.dirname(vol_f_reversed_fp))\n",
    "        bp.pack_ndarray_file(vol_f_reversed, vol_f_reversed_fp)\n",
    "        upload_to_s3(vol_f_reversed_fp)\n",
    "\n",
    "        sys.stderr.write('Transform: %.2f seconds.\\n' % (time.time() - t))\n",
    "        \n",
    "    except Exception as e:\n",
    "        sys.stderr.write('Error transforming volume %s: %s.\\n' % (structure, e))"
   ]
  },
  {
   "cell_type": "code",
   "execution_count": null,
   "metadata": {
    "collapsed": true
   },
   "outputs": [],
   "source": []
  }
 ],
 "metadata": {
  "kernelspec": {
   "display_name": "Python 2",
   "language": "python",
   "name": "python2"
  },
  "language_info": {
   "codemirror_mode": {
    "name": "ipython",
    "version": 2
   },
   "file_extension": ".py",
   "mimetype": "text/x-python",
   "name": "python",
   "nbconvert_exporter": "python",
   "pygments_lexer": "ipython2",
   "version": "2.7.12"
  }
 },
 "nbformat": 4,
 "nbformat_minor": 1
}
