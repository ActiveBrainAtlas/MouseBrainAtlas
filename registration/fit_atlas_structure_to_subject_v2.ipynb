{
 "cells": [
  {
   "cell_type": "code",
   "execution_count": 46,
   "metadata": {
    "collapsed": false
   },
   "outputs": [
    {
     "name": "stdout",
     "output_type": "stream",
     "text": [
      "The autoreload extension is already loaded. To reload it, use:\n",
      "  %reload_ext autoreload\n"
     ]
    }
   ],
   "source": [
    "%load_ext autoreload\n",
    "%autoreload 2\n",
    "\n",
    "import numpy as np\n",
    "\n",
    "import sys\n",
    "import os\n",
    "\n",
    "sys.path.append(os.environ['REPO_DIR'] + '/utilities')\n",
    "from utilities2015 import *\n",
    "from registration_utilities import parallel_where_binary, Aligner4\n",
    "from metadata import *\n",
    "from data_manager import *\n",
    "\n",
    "import matplotlib.pyplot as plt\n",
    "%matplotlib inline\n",
    "\n",
    "from joblib import Parallel, delayed\n",
    "import time"
   ]
  },
  {
   "cell_type": "code",
   "execution_count": 47,
   "metadata": {
    "collapsed": true
   },
   "outputs": [],
   "source": [
    "stack_fixed = 'MD590'"
   ]
  },
  {
   "cell_type": "code",
   "execution_count": 48,
   "metadata": {
    "collapsed": true
   },
   "outputs": [],
   "source": [
    "train_sample_scheme = 1\n",
    "global_transform_scheme = 1\n",
    "\n",
    "local_transform_scheme = 3\n",
    "# 1: no regularization\n",
    "# 2: with regularization\n",
    "# 3: no regularization, with surround\n",
    "# 4: with regularization, with surround\n",
    "\n",
    "if local_transform_scheme == 1:\n",
    "    reg_weights = np.array([0.,0.,0.])\n",
    "elif local_transform_scheme == 2:\n",
    "    reg_weights = np.array([1e-4, 1e-4, 1e-4])\n",
    "elif local_transform_scheme == 3:\n",
    "    reg_weights = np.array([0.,0.,0.])\n",
    "elif local_transform_scheme == 4:\n",
    "    reg_weights = np.array([1e-4, 1e-4, 1e-4])\n",
    "    \n",
    "stack_moving = 'atlas_on_MD589'"
   ]
  },
  {
   "cell_type": "code",
   "execution_count": 49,
   "metadata": {
    "collapsed": true
   },
   "outputs": [],
   "source": [
    "paired_structures = ['5N', '6N', '7N', '7n', 'Amb', 'LC', 'LRt', 'Pn', 'Tz', 'VLL', 'RMC', 'SNC', 'SNR', '3N', '4N',\n",
    "                    'Sp5I', 'Sp5O', 'Sp5C', 'PBG', '10N', 'VCA', 'VCP', 'DC']\n",
    "singular_structures = ['AP', '12N', 'RtTg', 'SC', 'IC']\n",
    "structures = paired_structures + singular_structures"
   ]
  },
  {
   "cell_type": "code",
   "execution_count": 50,
   "metadata": {
    "collapsed": true
   },
   "outputs": [],
   "source": [
    "label_to_name_fixed = {i+1: name for i, name in enumerate(sorted(structures))}\n",
    "name_to_label_fixed = {n:l for l, n in label_to_name_fixed.iteritems()}"
   ]
  },
  {
   "cell_type": "code",
   "execution_count": 6,
   "metadata": {
    "collapsed": true
   },
   "outputs": [],
   "source": [
    "# name_to_label_moving = DataManager.load_annotation_volume_nameToLabel(stack='MD589', downscale=32)\n",
    "# label_to_name_moving = {l:n for n, l in name_to_label_moving.iteritems()}"
   ]
  },
  {
   "cell_type": "code",
   "execution_count": 7,
   "metadata": {
    "collapsed": true
   },
   "outputs": [],
   "source": [
    "structures_sided = sum([[n] if n in singular_structures \n",
    "                        else [convert_to_left_name(n), convert_to_right_name(n)] \n",
    "                        for n in structures], [])"
   ]
  },
  {
   "cell_type": "code",
   "execution_count": 8,
   "metadata": {
    "collapsed": false
   },
   "outputs": [],
   "source": [
    "if local_transform_scheme == 1 or local_transform_scheme == 2:\n",
    "    \n",
    "    label_to_name_moving = {i+1: name for i, name in enumerate(structures_sided)}\n",
    "    name_to_label_moving = {n:l for l, n in label_to_name_moving.iteritems()}\n",
    "\n",
    "elif local_transform_scheme == 3 or local_transform_scheme == 4:\n",
    "\n",
    "    structures_sided_plus_surround = sum([[s, s+'_surround'] for s in structures_sided], [])\n",
    "\n",
    "    label_to_name_moving = {i+1: name for i, name in enumerate(structures_sided_plus_surround)}\n",
    "    name_to_label_moving = {n:l for l, n in label_to_name_moving.iteritems()}"
   ]
  },
  {
   "cell_type": "code",
   "execution_count": 39,
   "metadata": {
    "collapsed": true
   },
   "outputs": [],
   "source": [
    "def convert_to_original_name(name):\n",
    "    return name.split('_')[0]"
   ]
  },
  {
   "cell_type": "code",
   "execution_count": null,
   "metadata": {
    "collapsed": true
   },
   "outputs": [],
   "source": [
    "labelIndexMap_m2f = {}\n",
    "for label_m, name_m in label_to_name_moving.iteritems():\n",
    "    labelIndexMap_m2f[label_m] = name_to_label_fixed[convert_to_original_name(name_m)]"
   ]
  },
  {
   "cell_type": "code",
   "execution_count": 9,
   "metadata": {
    "collapsed": true
   },
   "outputs": [],
   "source": [
    "label_weights_m = {}\n",
    "for label_m, name_m in label_to_name_moving.iteritems():\n",
    "    if 'surround' in name_m:\n",
    "        if local_transform_scheme == 1 or local_transform_scheme == 2:\n",
    "            label_weights_m[label_m] = 0\n",
    "        elif local_transform_scheme == 3 or local_transform_scheme == 4:\n",
    "            label_weights_m[label_m] = -1\n",
    "    else:\n",
    "        label_weights_m[label_m] = 1"
   ]
  },
  {
   "cell_type": "code",
   "execution_count": 10,
   "metadata": {
    "collapsed": false
   },
   "outputs": [
    {
     "name": "stdout",
     "output_type": "stream",
     "text": [
      "(408, 548, 358)\n",
      "float16\n"
     ]
    }
   ],
   "source": [
    "# Load fixed volumes\n",
    "\n",
    "volume_fixed = {name_to_label_fixed[name]: DataManager.load_score_volume(stack=stack_fixed, label=name, downscale=32, train_sample_scheme=train_sample_scheme)\n",
    "               for name in structures}\n",
    "\n",
    "print volume_fixed.values()[0].shape\n",
    "print volume_fixed.values()[0].dtype\n",
    "\n",
    "vol_fixed_xmin, vol_fixed_ymin, vol_fixed_zmin = (0,0,0)\n",
    "vol_fixed_ymax, vol_fixed_xmax, vol_fixed_zmax = np.array(volume_fixed.values()[0].shape) - 1\n",
    "vol_fixed_xdim = vol_fixed_xmax + 1 - vol_fixed_xmin\n",
    "vol_fixed_ydim = vol_fixed_ymax + 1 - vol_fixed_ymin\n",
    "vol_fixed_zdim = vol_fixed_zmax + 1 - vol_fixed_zmin"
   ]
  },
  {
   "cell_type": "code",
   "execution_count": 11,
   "metadata": {
    "collapsed": false
   },
   "outputs": [],
   "source": [
    "# volume_moving = bp.unpack_ndarray_file(DataManager.get_transformed_volume_filepath(stack_m='MD589', type_m='annotation',\n",
    "#                                                            stack_f=stack_fixed, type_f='score',\n",
    "#                                                            downscale=32,\n",
    "#                                                            train_sample_scheme_f=1))\n",
    "\n",
    "# print volume_moving.shape\n",
    "\n",
    "# vol_moving_xmin, vol_moving_ymin, vol_moving_zmin = (0,0,0)\n",
    "# vol_moving_ymax, vol_moving_xmax, vol_moving_zmax = np.array(volume_moving.shape) - 1"
   ]
  },
  {
   "cell_type": "code",
   "execution_count": 137,
   "metadata": {
    "collapsed": false
   },
   "outputs": [],
   "source": [
    "# volume_moving = {name_to_label_moving[name_s]: DataManager.load_transformed_volume(stack_m='atlas_on_MD589',\n",
    "#                                                                                    type_m='score',\n",
    "#                                                                                    stack_f=stack_fixed,\n",
    "#                                                                                    type_f='score',\n",
    "#                                                                                    downscale=32,\n",
    "#                                                                                    train_sample_scheme_f=train_sample_scheme,\n",
    "#                                                                                    label=name_s)\n",
    "#                  for name_s in structures_sided}"
   ]
  },
  {
   "cell_type": "code",
   "execution_count": null,
   "metadata": {
    "collapsed": true
   },
   "outputs": [],
   "source": [
    "# volume_moving = {name_to_label_moving[name_s]: DataManager.load_transformed_volume(stack_m='atlas_on_MD589',\n",
    "#                                                                                    type_m='score',\n",
    "#                                                                                    stack_f=stack_fixed,\n",
    "#                                                                                    type_f='score',\n",
    "#                                                                                    downscale=32,\n",
    "#                                                                                    train_sample_scheme_f=train_sample_scheme,\n",
    "#                                                                                    label=name_s)\n",
    "#                  for name_s in structures_sided_plus_surround}"
   ]
  },
  {
   "cell_type": "code",
   "execution_count": 12,
   "metadata": {
    "collapsed": false
   },
   "outputs": [],
   "source": [
    "# Load moving volumes\n",
    "\n",
    "if local_transform_scheme == 1 or local_transform_scheme == 2:\n",
    "\n",
    "    volume_moving = {name_to_label_moving[name_s]: DataManager.load_transformed_volume(stack_m='atlas_on_MD589',\n",
    "                                                                                       type_m='score',\n",
    "                                                                                       stack_f=stack_fixed,\n",
    "                                                                                       type_f='score',\n",
    "                                                                                       downscale=32,\n",
    "                                                                                       train_sample_scheme_f=train_sample_scheme,\n",
    "                                                                                       label=name_s)\n",
    "                     for name_s in structures_sided}\n",
    "\n",
    "elif local_transform_scheme == 3 or local_transform_scheme == 4:\n",
    "    \n",
    "    volume_moving = {name_to_label_moving[name_s]: DataManager.load_transformed_volume(stack_m='atlas_on_MD589',\n",
    "                                                                                       type_m='score',\n",
    "                                                                                       stack_f=stack_fixed,\n",
    "                                                                                       type_f='score',\n",
    "                                                                                       downscale=32,\n",
    "                                                                                       train_sample_scheme_f=train_sample_scheme,\n",
    "                                                                                       label=name_s)\n",
    "                     for name_s in structures_sided_plus_surround}\n",
    "    \n",
    "    \n",
    "print volume_moving.values()[0].shape\n",
    "print volume_moving.values()[0].dtype\n",
    "\n",
    "vol_moving_xmin, vol_moving_ymin, vol_moving_zmin = (0,0,0)\n",
    "vol_moving_ymax, vol_moving_xmax, vol_moving_zmax = np.array(volume_moving.values()[0].shape) - 1"
   ]
  },
  {
   "cell_type": "code",
   "execution_count": 40,
   "metadata": {
    "collapsed": true
   },
   "outputs": [],
   "source": [
    "volume_moving_structure_sizes = {l: np.count_nonzero(vol > 0) for l, vol in volume_moving.iteritems()}"
   ]
  },
  {
   "cell_type": "code",
   "execution_count": 43,
   "metadata": {
    "collapsed": false,
    "scrolled": true
   },
   "outputs": [
    {
     "name": "stdout",
     "output_type": "stream",
     "text": [
      "5N_L 36836\n",
      "5N_L_surround 100313\n",
      "5N_R 36062\n",
      "5N_R_surround 97969\n",
      "6N_L 2010\n",
      "6N_L_surround 6919\n",
      "6N_R 1330\n",
      "6N_R_surround 4890\n",
      "7N_L 94340\n",
      "7N_L_surround 256212\n",
      "7N_R 66777\n",
      "7N_R_surround 178727\n",
      "7n_L 33850\n",
      "7n_L_surround 100574\n",
      "7n_R 25798\n",
      "7n_R_surround 75546\n",
      "Amb_L 2389\n",
      "Amb_L_surround 7779\n",
      "Amb_R 2259\n",
      "Amb_R_surround 8263\n",
      "LC_L 14483\n",
      "LC_L_surround 42421\n",
      "LC_R 10310\n",
      "LC_R_surround 30761\n",
      "LRt_L 50524\n",
      "LRt_L_surround 98141\n",
      "LRt_R 62363\n",
      "LRt_R_surround 159988\n",
      "Pn_L 102448\n",
      "Pn_L_surround 275853\n",
      "Pn_R 86624\n",
      "Pn_R_surround 228373\n",
      "Tz_L 22378\n",
      "Tz_L_surround 66664\n",
      "Tz_R 21571\n",
      "Tz_R_surround 62585\n",
      "VLL_L 64471\n",
      "VLL_L_surround 191709\n",
      "VLL_R 42261\n",
      "VLL_R_surround 119115\n",
      "RMC_L 19998\n",
      "RMC_L_surround 54747\n",
      "RMC_R 26495\n",
      "RMC_R_surround 72985\n",
      "SNC_L 16608\n",
      "SNC_L_surround 48281\n",
      "SNC_R 12745\n",
      "SNC_R_surround 34131\n",
      "SNR_L 168597\n",
      "SNR_L_surround 386417\n",
      "SNR_R 161304\n",
      "SNR_R_surround 359648\n",
      "3N_L 7103\n",
      "3N_L_surround 21303\n",
      "3N_R 8729\n",
      "3N_R_surround 25644\n",
      "4N_L 595\n",
      "4N_L_surround 2389\n",
      "4N_R 542\n",
      "4N_R_surround 1992\n",
      "Sp5I_L 74611\n",
      "Sp5I_L_surround 247272\n",
      "Sp5I_R 74847\n",
      "Sp5I_R_surround 204532\n",
      "Sp5O_L 73957\n",
      "Sp5O_L_surround 220915\n",
      "Sp5O_R 97134\n",
      "Sp5O_R_surround 270051\n",
      "Sp5C_L 234815\n",
      "Sp5C_L_surround 540992\n",
      "Sp5C_R 203784\n",
      "Sp5C_R_surround 519857\n",
      "PBG_L 5938\n",
      "PBG_L_surround 19677\n",
      "PBG_R 4944\n",
      "PBG_R_surround 15380\n",
      "10N_L 7255\n",
      "10N_L_surround 24898\n",
      "10N_R 7036\n",
      "10N_R_surround 23069\n",
      "VCA_L 69163\n",
      "VCA_L_surround 160159\n",
      "VCA_R 69070\n",
      "VCA_R_surround 141995\n",
      "VCP_L 35349\n",
      "VCP_L_surround 100595\n",
      "VCP_R 32684\n",
      "VCP_R_surround 93092\n",
      "DC_L 60232\n",
      "DC_L_surround 95292\n",
      "DC_R 58111\n",
      "DC_R_surround 169140\n",
      "AP 8320\n",
      "AP_surround 24418\n",
      "12N 60744\n",
      "12N_surround 165507\n",
      "RtTg 166819\n",
      "RtTg_surround 468797\n",
      "SC 1526888\n",
      "SC_surround 2823752\n",
      "IC 823602\n",
      "IC_surround 1769056\n"
     ]
    }
   ],
   "source": [
    "for lm, s in volume_moving_structure_sizes.iteritems():\n",
    "    print label_to_name_moving[lm], s, 'voxels'"
   ]
  },
  {
   "cell_type": "code",
   "execution_count": 55,
   "metadata": {
    "collapsed": false
   },
   "outputs": [
    {
     "name": "stdout",
     "output_type": "stream",
     "text": [
      "SC\n",
      "set([19])\n"
     ]
    },
    {
     "name": "stderr",
     "output_type": "stream",
     "text": [
      "load gradient 19: 0.674495 seconds\n",
      "overall: 0.674640 seconds\n",
      "grid search: 39.955247 seconds\n",
      "-inf 0.090800\n",
      "grid search: 29.862237 seconds\n",
      "0.090800 0.121658\n",
      "grid search: 23.408104 seconds\n",
      "0.121658 0.134364\n",
      "grid search: 14.987803 seconds\n",
      "0.134364 0.135070\n",
      "grid search: 11.374639 seconds\n",
      "0.135070 0.136516\n",
      "grid search: 7.780050 seconds\n",
      "0.136516 0.140901\n",
      "grid search: 6.565473 seconds\n",
      "0.140901 0.142111\n",
      "grid search: 4.169793 seconds\n",
      "0.142111 0.142277\n",
      "grid search: 3.257169 seconds\n",
      "0.142277 0.143120\n",
      "grid search: 2.863972 seconds\n",
      "iteration 0\n"
     ]
    },
    {
     "name": "stdout",
     "output_type": "stream",
     "text": [
      "params_best_upToNow [-13.37431152 -12.53787585   2.80281912  -0.43396329]\n"
     ]
    },
    {
     "name": "stderr",
     "output_type": "stream",
     "text": [
      "score: 0.143120\n",
      "Gradient descent does not converge to higher than grid search score. Likely stuck at local minima.\n",
      "145.75 seconds\n"
     ]
    }
   ],
   "source": [
    "# for name_s in structures_sided:\n",
    "for name_s in [\n",
    "    'SC']:\n",
    "# for name_s in ['IC']:\n",
    "    \n",
    "    print name_s\n",
    "\n",
    "#     try:\n",
    "        \n",
    "    if local_transform_scheme == 1 or local_transform_scheme == 2:\n",
    "    \n",
    "        aligner = Aligner4(volume_fixed, {name_to_label_moving[name_s]: \n",
    "                                          volume_moving[name_to_label_moving[name_s]]}, \\\n",
    "                           labelIndexMap_m2f={name_to_label_moving[name_s]:\n",
    "                                              name_to_label_fixed[convert_name_to_unsided(name_s)]})\n",
    "\n",
    "    elif local_transform_scheme == 3 or local_transform_scheme == 4:\n",
    "                \n",
    "        aligner = Aligner4(volume_fixed, {name_to_label_moving[name_s]: volume_moving[name_to_label_moving[name_s]],\n",
    "                                         name_to_label_moving[name_s+'_surround']: volume_moving[name_to_label_moving[name_s+'_surround']]}, \\\n",
    "                        labelIndexMap_m2f={name_to_label_moving[name_s]: name_to_label_fixed[convert_name_to_unsided(name_s)],\n",
    "                                          name_to_label_moving[name_s+'_surround']: name_to_label_fixed[convert_to_original_name(name_s+'_surround')]})\n",
    "\n",
    "    # aligner.set_centroid(centroid_m='volume_centroid', centroid_f='volume_centroid')\n",
    "    aligner.set_centroid(centroid_m='structure_centroid', centroid_f='centroid_m', \n",
    "                         indices_m=[name_to_label_moving[name_s]])\n",
    "\n",
    "    gradient_filepath_map_f = {ind_f: VOLUME_ROOTDIR + '/%(stack)s/score_volume_gradients/%(stack)s_down32_scoreVolume_%(label)s_trainSampleScheme_%(scheme)d_%%(suffix)s.bp' % \\\n",
    "                           {'stack': stack_fixed, 'label': label_to_name_fixed[ind_f], 'scheme':train_sample_scheme}\n",
    "                           for ind_m, ind_f in labelIndexMap_m2f.iteritems()}\n",
    "\n",
    "    aligner.load_gradient(gradient_filepath_map_f=gradient_filepath_map_f, indices_f=None)\n",
    "\n",
    "    t = time.time()\n",
    "    \n",
    "    # SC + SC_surround\n",
    "    # grid_search_sample_number = 100, 6.2s (first iter) x 10 iters (exp. diminishing) ~ 20s\n",
    "    # grid_search_sample_number = 1000, 40s (first iter) x 10 iters ~ 143s\n",
    "    # grid_search_sample_number = 10000, 380s (first iter) x 10 iters ~ 1315s\n",
    "    \n",
    "    # IC + IC_surround\n",
    "    # grid_search_sample_number = 100, 4s (first iter)\n",
    "    # grid_search_sample_number = 1000, 27s (first iter)\n",
    "    # grid_search_sample_number = 10000, 215s (first iter)\n",
    "    T, scores = aligner.optimize(type='rigid', max_iter_num=1, history_len=50, terminate_thresh=1e-5,\n",
    "                                 indices_m=None,\n",
    "                                grid_search_iteration_number=10,\n",
    "                                 grid_search_sample_number=1000,\n",
    "                                 grad_computation_sample_number=1e5,\n",
    "                                 lr1=10, lr2=0.1,\n",
    "                                label_weights=label_weights_m,\n",
    "                                std_tx=50, std_ty=50, std_tz=100, std_theta_xy=np.deg2rad(10),\n",
    "                                reg_weights=reg_weights,\n",
    "                                epsilon=1e-8)\n",
    "\n",
    "    sys.stderr.write('%.2f seconds\\n' % (time.time() - t))\n",
    "\n",
    "#     print T.reshape((3,4))\n",
    "#     plt.plot(scores);\n",
    "#     print max(scores), scores[-1]\n",
    "\n",
    "    ########################################################\n",
    "\n",
    "#     params_fp = DataManager.get_local_alignment_parameters_filepath(stack_moving=stack_moving,\n",
    "#                                                                 moving_volume_type='score',\n",
    "#                                                                 stack_fixed=stack_fixed,\n",
    "#                                                                 fixed_volume_type='score',\n",
    "#                                                                 train_sample_scheme=train_sample_scheme,\n",
    "#                                                                 global_transform_scheme=global_transform_scheme,\n",
    "#                                                                 local_transform_scheme=local_transform_scheme,\n",
    "#                                                                label=name_s)\n",
    "\n",
    "#     DataManager.save_alignment_parameters(params_fp, \n",
    "#                                           T, aligner.centroid_m, aligner.centroid_f, \n",
    "#                                           aligner.xdim_m, aligner.ydim_m, aligner.zdim_m, \n",
    "#                                           aligner.xdim_f, aligner.ydim_f, aligner.zdim_f)\n",
    "\n",
    "\n",
    "#     score_plot_fp = DataManager.get_local_alignment_score_plot_filepath(stack_moving=stack_moving,\n",
    "#                                                                     moving_volume_type='score',\n",
    "#                                                                     stack_fixed=stack_fixed,\n",
    "#                                                                     fixed_volume_type='score',\n",
    "#                                                                     train_sample_scheme=train_sample_scheme,\n",
    "#                                                                     global_transform_scheme=global_transform_scheme,\n",
    "#                                                                     local_transform_scheme=local_transform_scheme,\n",
    "#                                                                    label=name_s)\n",
    "#     fig = plt.figure();\n",
    "#     plt.plot(scores);\n",
    "#     plt.savefig(score_plot_fp, bbox_inches='tight')\n",
    "#     plt.close(fig)\n",
    "        \n",
    "#     except Exception as e:\n",
    "#         sys.stderr.write(e.message + '\\n')\n",
    "        "
   ]
  },
  {
   "cell_type": "code",
   "execution_count": null,
   "metadata": {
    "collapsed": true
   },
   "outputs": [],
   "source": [
    "grid search: 381.169159 seconds\n",
    "-inf 0.097706\n",
    "grid search: 268.446036 seconds\n",
    "0.097706 0.131981\n",
    "grid search: 204.342847 seconds\n",
    "0.131981 0.134127\n",
    "grid search: 140.295061 seconds\n",
    "0.134127 0.137373\n",
    "grid search: 101.956750 seconds\n",
    "0.137373 0.140532\n",
    "grid search: 75.771214 seconds\n",
    "0.140532 0.143347\n",
    "grid search: 53.781020 seconds\n",
    "0.143347 0.144307\n",
    "grid search: 39.256106 seconds\n",
    "0.144307 0.144767\n",
    "grid search: 29.117969 seconds\n",
    "0.144767 0.145112"
   ]
  },
  {
   "cell_type": "code",
   "execution_count": null,
   "metadata": {
    "collapsed": true
   },
   "outputs": [],
   "source": []
  },
  {
   "cell_type": "code",
   "execution_count": 20,
   "metadata": {
    "collapsed": true
   },
   "outputs": [],
   "source": [
    "from registration_utilities import transform_volume, transform_points, find_contour_points"
   ]
  },
  {
   "cell_type": "code",
   "execution_count": 21,
   "metadata": {
    "collapsed": false
   },
   "outputs": [],
   "source": [
    "volumes_annotation = {'MD594': bp.unpack_ndarray_file(DataManager.get_transformed_volume_filepath(stack_m='MD594', type_m='annotation',\n",
    "                                                stack_f=stack_fixed, type_f='score',\n",
    "                                                downscale=32, train_sample_scheme_f=1)),\n",
    "                      \n",
    "                      'MD589': bp.unpack_ndarray_file(DataManager.get_transformed_volume_filepath(stack_m='MD589', type_m='annotation',\n",
    "                                                stack_f=stack_fixed, type_f='score',\n",
    "                                                downscale=32, train_sample_scheme_f=1))}"
   ]
  },
  {
   "cell_type": "code",
   "execution_count": 22,
   "metadata": {
    "collapsed": false,
    "scrolled": true
   },
   "outputs": [],
   "source": [
    "name_to_label_annotation = DataManager.load_annotation_volume_nameToLabel('MD589', downscale=32)\n",
    "label_to_name_annotation = {l: n for n, l in name_to_label_annotation.iteritems()}"
   ]
  },
  {
   "cell_type": "code",
   "execution_count": 23,
   "metadata": {
    "collapsed": true
   },
   "outputs": [],
   "source": [
    "stack_colors = {'MD589': (255,0,0), 'MD594': (0,255,0)}"
   ]
  },
  {
   "cell_type": "code",
   "execution_count": 24,
   "metadata": {
    "collapsed": true
   },
   "outputs": [],
   "source": [
    "first_sec, last_sec = metadata_cache['section_limits'][stack_fixed]"
   ]
  },
  {
   "cell_type": "code",
   "execution_count": 25,
   "metadata": {
    "collapsed": false
   },
   "outputs": [
    {
     "name": "stdout",
     "output_type": "stream",
     "text": [
      "0 547 0 407 110 467\n"
     ]
    }
   ],
   "source": [
    "xmin_vol_f, xmax_vol_f, ymin_vol_f, ymax_vol_f, zmin_vol_f, zmax_vol_f = np.loadtxt('/home/yuncong/csd395/CSHL_volumes2/%(stack_fixed)s/score_volumes/%(stack_fixed)s_down32_scoreVolume_7N_bbox.txt' %\\\n",
    "          dict(stack_fixed=stack_fixed)).astype(np.int)\n",
    "print xmin_vol_f, xmax_vol_f, ymin_vol_f, ymax_vol_f, zmin_vol_f, zmax_vol_f"
   ]
  },
  {
   "cell_type": "code",
   "execution_count": 26,
   "metadata": {
    "collapsed": true
   },
   "outputs": [],
   "source": [
    "downsample_factor = 32\n",
    "xy_pixel_distance_downsampled = xy_pixel_distance_lossless * downsample_factor\n",
    "voxel_z_size = section_thickness / xy_pixel_distance_downsampled"
   ]
  },
  {
   "cell_type": "code",
   "execution_count": 27,
   "metadata": {
    "collapsed": false
   },
   "outputs": [],
   "source": [
    "viz_dir = create_if_not_exists(DataManager.get_local_alignment_viz_dir(stack_moving=stack_moving,\n",
    "                                                        stack_fixed=stack_fixed,\n",
    "                                                        moving_volume_type='score',\n",
    "                                                        fixed_volume_type='score',\n",
    "                                                        train_sample_scheme=train_sample_scheme,\n",
    "                                                        global_transform_scheme=global_transform_scheme,\n",
    "                                                        local_transform_scheme=local_transform_scheme))"
   ]
  },
  {
   "cell_type": "code",
   "execution_count": null,
   "metadata": {
    "collapsed": false
   },
   "outputs": [],
   "source": []
  },
  {
   "cell_type": "code",
   "execution_count": 33,
   "metadata": {
    "collapsed": false
   },
   "outputs": [],
   "source": [
    "# tx_params, centroid_m, centroid_f, xdim_m, ydim_m, zdim_m, xdim_f, ydim_f, zdim_f = \\\n",
    "#     DataManager.load_local_alignment_parameters(stack_moving=stack_moving,\n",
    "#                                                 moving_volume_type='score',\n",
    "#                                                 stack_fixed=stack_fixed,\n",
    "#                                                 fixed_volume_type='score',\n",
    "#                                                 train_sample_scheme=train_sample_scheme,\n",
    "#                                                 global_transform_scheme=global_transform_scheme,\n",
    "#                                                 local_transform_scheme=local_transform_scheme,\n",
    "#                                                label='5N_R')\n",
    "\n",
    "# annotation_volumes_volume_m_aligned_to_f = {}\n",
    "# for stack, volume_annotation in volumes_annotation.iteritems():\n",
    "#     annotation_volumes_volume_m_aligned_to_f[stack] = transform_volume(\\\n",
    "#                                            vol=volume_annotation==name_to_label_annotation['5N_R'], \n",
    "#                                                                        global_params=tx_params, \n",
    "#                                                                        centroid_m=centroid_m, \n",
    "#                                                                        centroid_f=centroid_f,\n",
    "#                                                                       xdim_f=xdim_f,\n",
    "#                                                                       ydim_f=ydim_f,\n",
    "#                                                                       zdim_f=zdim_f).astype(np.uint8)"
   ]
  },
  {
   "cell_type": "code",
   "execution_count": 34,
   "metadata": {
    "collapsed": false
   },
   "outputs": [],
   "source": [
    "# bar = show_progress_bar(first_sec, last_sec)\n",
    "\n",
    "# for sec in range(first_sec, last_sec+1):\n",
    "\n",
    "#     if metadata_cache['sections_to_filenames'][stack_fixed][sec] in ['Placeholder', 'Rescan', 'Nonexisting']:\n",
    "#         continue\n",
    "\n",
    "#     bar.value = sec\n",
    "\n",
    "#     img_fn = DataManager.get_image_filepath(stack=stack_fixed, section=sec, resol='thumbnail', version='cropped_tif')\n",
    "#     img = imread(img_fn)\n",
    "\n",
    "# #         img_fn = DataManager.get_scoremap_viz_filepath(stack=stack_fixed, section=sec, label='7N', train_sample_scheme=train_sample_scheme)\n",
    "# #         img = imread(img_fn)[::4, ::4]\n",
    "\n",
    "#     viz = img.copy()\n",
    "\n",
    "#     z = voxel_z_size * (sec - 1) - zmin_vol_f\n",
    "\n",
    "#     # Find fixed volume annotation contours\n",
    "# #     contours_f_on_volume = find_contour_points(volume_fixed[..., int(z)])\n",
    "# #     contours_f_on_cropped = {i: [cnt + (xmin_vol_f, ymin_vol_f) for cnt in cnts] for i, cnts in contours_f_on_volume.iteritems()}\n",
    "\n",
    "#     # Find moving volume annotation contours\n",
    "\n",
    "#     for stack, volume_m_aligned_to_f in annotation_volumes_volume_m_aligned_to_f.iteritems():\n",
    "\n",
    "#         contours_m_alignedTo_f_on_volume = find_contour_points(volume_m_aligned_to_f[..., int(z)])\n",
    "#         contours_m_alignedTo_f_on_cropped = {i: [cnt + (xmin_vol_f, ymin_vol_f) for cnt in cnts] \n",
    "#                                              for i, cnts in contours_m_alignedTo_f_on_volume.iteritems()}\n",
    "\n",
    "#     #     # Draw fixed volume annotation contours\n",
    "#     #     for ind_f, cnts_f in contours_f_on_cropped.iteritems():\n",
    "#     #         for cnt_f in cnts_f:\n",
    "#     #             cv2.polylines(viz, [cnt_f.astype(np.int)], True, (0,255,0), 2)\n",
    "\n",
    "#         # Draw moving volume annotation contours\n",
    "#         for ind_m, cnts_m in contours_m_alignedTo_f_on_cropped.iteritems():\n",
    "#             for cnt_m in cnts_m:\n",
    "#                 cv2.polylines(viz, [cnt_m.astype(np.int)], True, stack_colors[stack], 2)\n",
    "\n",
    "#     viz_fn = os.path.join(viz_dir, '%(stack_moving)s_over_%(stack_fixed)s_%(sec)04d.jpg' % \\\n",
    "#           {'stack_moving': stack_moving, 'stack_fixed': stack_fixed, 'sec': sec})\n",
    "#     imsave(viz_fn, viz)"
   ]
  },
  {
   "cell_type": "code",
   "execution_count": null,
   "metadata": {
    "collapsed": true
   },
   "outputs": [],
   "source": []
  },
  {
   "cell_type": "code",
   "execution_count": 45,
   "metadata": {
    "collapsed": false,
    "scrolled": true
   },
   "outputs": [
    {
     "name": "stdout",
     "output_type": "stream",
     "text": [
      "VLL_L\n"
     ]
    }
   ],
   "source": [
    "# Transforming each volume (only relevant structure is activated) according to computed local transforms\n",
    "\n",
    "volume_m_aligned_to_f_allNames = {'MD589': {}, 'MD594': {}}\n",
    "\n",
    "# for name_s in structures_sided:\n",
    "for name_s in ['VLL_L']:\n",
    "        \n",
    "    print name_s\n",
    "\n",
    "    try:\n",
    "        tx_params, centroid_m, centroid_f, xdim_m, ydim_m, zdim_m, xdim_f, ydim_f, zdim_f = \\\n",
    "        DataManager.load_local_alignment_parameters(stack_moving=stack_moving,\n",
    "                                                    moving_volume_type='score',\n",
    "                                                    stack_fixed=stack_fixed,\n",
    "                                                    fixed_volume_type='score',\n",
    "                                                    train_sample_scheme=train_sample_scheme,\n",
    "                                                    global_transform_scheme=global_transform_scheme,\n",
    "                                                    local_transform_scheme=local_transform_scheme,\n",
    "                                                   label=name_s)\n",
    "\n",
    "    except Exception as e:\n",
    "        \n",
    "        sys.stderr.write(e.message + '\\n')\n",
    "        \n",
    "        tx_params = (1,0,0,0,0,1,0,0,0,0,1,0)\n",
    "        centroid_m = (0,0,0)\n",
    "        centroid_f = (0,0,0)\n",
    "        xdim_f, ydim_f, zdim_f = (vol_fixed_xdim, vol_fixed_ydim, vol_fixed_zdim)\n",
    "\n",
    "\n",
    "    for stack, volume_annotation in volumes_annotation.iteritems():\n",
    "        volume_m_aligned_to_f_allNames[stack][name_s] = \\\n",
    "        transform_volume(vol=volume_annotation==name_to_label_annotation[name_s], \n",
    "                           global_params=tx_params, \n",
    "                           centroid_m=centroid_m, \n",
    "                           centroid_f=centroid_f,\n",
    "                          xdim_f=xdim_f,\n",
    "                          ydim_f=ydim_f,\n",
    "                          zdim_f=zdim_f)"
   ]
  },
  {
   "cell_type": "code",
   "execution_count": null,
   "metadata": {
    "collapsed": false
   },
   "outputs": [],
   "source": [
    "bar = show_progress_bar(first_sec, last_sec)\n",
    "\n",
    "# for sec in range(first_sec, last_sec+1):\n",
    "for sec in range(140, 160):\n",
    "    \n",
    "    if metadata_cache['sections_to_filenames'][stack_fixed][sec] in ['Placeholder', 'Rescan', 'Nonexisting']:\n",
    "            continue\n",
    "\n",
    "    bar.value = sec\n",
    "\n",
    "    img_fn = DataManager.get_image_filepath(stack=stack_fixed, section=sec, resol='thumbnail', version='cropped_tif')\n",
    "    img = imread(img_fn)\n",
    "\n",
    "#         img_fn = DataManager.get_scoremap_viz_filepath(stack=stack_fixed, section=sec, label='7N', train_sample_scheme=train_sample_scheme)\n",
    "#         img = imread(img_fn)[::4, ::4]\n",
    "\n",
    "    viz = img.copy()\n",
    "\n",
    "    z = voxel_z_size * (sec - 1) - zmin_vol_f\n",
    "    \n",
    "    ##############################################\n",
    "    \n",
    "    for stack, x in volume_m_aligned_to_f_allNames.iteritems():\n",
    "        for name_s, volume_m_aligned_to_f in x.iteritems():\n",
    "        \n",
    "            contours_m_alignedTo_f_on_volume = find_contour_points(volume_m_aligned_to_f[..., int(z)])\n",
    "            contours_m_alignedTo_f_on_cropped = {i: [cnt + (xmin_vol_f, ymin_vol_f) for cnt in cnts] \n",
    "                                                 for i, cnts in contours_m_alignedTo_f_on_volume.iteritems()}\n",
    "\n",
    "        #     # Draw fixed volume annotation contours\n",
    "        #     for ind_f, cnts_f in contours_f_on_cropped.iteritems():\n",
    "        #         for cnt_f in cnts_f:\n",
    "        #             cv2.polylines(viz, [cnt_f.astype(np.int)], True, (0,255,0), 2)\n",
    "\n",
    "            # Draw moving volume annotation contours\n",
    "            for ind_m, cnts_m in contours_m_alignedTo_f_on_cropped.iteritems():\n",
    "                for cnt_m in cnts_m:\n",
    "                    cv2.polylines(viz, [cnt_m.astype(np.int)], True, stack_colors[stack], 2)\n",
    "                    \n",
    "                    # put label texts\n",
    "                    label_pos = cnt_m.mean(axis=0).astype(np.int)\n",
    "                    cv2.putText(viz, convert_name_to_unsided(name_s), tuple(label_pos), \n",
    "                                cv2.FONT_HERSHEY_DUPLEX, .5, ((0,0,0)), 1)\n",
    "\n",
    "    viz_fn = os.path.join(viz_dir, '%(stack_moving)s_over_%(stack_fixed)s_%(sec)04d.jpg' % \\\n",
    "          {'stack_moving': stack_moving, 'stack_fixed': stack_fixed, 'sec': sec})\n",
    "#     imsave(viz_fn, viz)\n",
    "\n",
    "#     plt.figure(figsize=(10, 10));\n",
    "#     plt.imshow(viz);\n",
    "#     plt.show();"
   ]
  },
  {
   "cell_type": "code",
   "execution_count": null,
   "metadata": {
    "collapsed": true
   },
   "outputs": [],
   "source": []
  }
 ],
 "metadata": {
  "kernelspec": {
   "display_name": "Python 2",
   "language": "python",
   "name": "python2"
  },
  "language_info": {
   "codemirror_mode": {
    "name": "ipython",
    "version": 2
   },
   "file_extension": ".py",
   "mimetype": "text/x-python",
   "name": "python",
   "nbconvert_exporter": "python",
   "pygments_lexer": "ipython2",
   "version": "2.7.3"
  }
 },
 "nbformat": 4,
 "nbformat_minor": 1
}
