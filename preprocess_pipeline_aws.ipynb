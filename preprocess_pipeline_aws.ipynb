{
 "cells": [
  {
   "cell_type": "code",
   "execution_count": 1,
   "metadata": {
    "scrolled": true
   },
   "outputs": [
    {
     "name": "stdout",
     "output_type": "stream",
     "text": [
      "Setting environment for AWS compute node\n",
      "rm -rf \"/shared/CSHL_data_processed/ChatCryoJane201710/ChatCryoJane201710_alignedTo_ChatCryoJane201710_slide60-S3-Ntb_cropbox.txt\" && mkdir -p \"/shared/CSHL_data_processed/ChatCryoJane201710\"\n",
      "aws s3 cp \"s3://mousebrainatlas-data/CSHL_data_processed/ChatCryoJane201710/ChatCryoJane201710_alignedTo_ChatCryoJane201710_slide60-S3-Ntb_cropbox.txt\" \"/shared/CSHL_data_processed/ChatCryoJane201710/ChatCryoJane201710_alignedTo_ChatCryoJane201710_slide60-S3-Ntb_cropbox.txt\"\n"
     ]
    },
    {
     "name": "stderr",
     "output_type": "stream",
     "text": [
      "No vtk\n"
     ]
    },
    {
     "name": "stdout",
     "output_type": "stream",
     "text": [
      "rm -rf \"/shared/CSHL_data_processed/ChatCryoJane201710/ChatCryoJane201710_alignedTo_ChatCryoJane201710_slide60-S3-Ntb_cropbox.txt\" && mkdir -p \"/shared/CSHL_data_processed/ChatCryoJane201710\"\n",
      "aws s3 cp \"s3://mousebrainatlas-data/CSHL_data_processed/ChatCryoJane201710/ChatCryoJane201710_alignedTo_ChatCryoJane201710_slide60-S3-Ntb_cropbox.txt\" \"/shared/CSHL_data_processed/ChatCryoJane201710/ChatCryoJane201710_alignedTo_ChatCryoJane201710_slide60-S3-Ntb_cropbox.txt\"\n",
      "rm -rf \"/shared/CSHL_data_processed/ChatCryoJane201710/ChatCryoJane201710_alignedTo_ChatCryoJane201710_slide60-S3-Ntb_cropbox.txt\" && mkdir -p \"/shared/CSHL_data_processed/ChatCryoJane201710\"\n",
      "aws s3 cp \"s3://mousebrainatlas-data/CSHL_data_processed/ChatCryoJane201710/ChatCryoJane201710_alignedTo_ChatCryoJane201710_slide60-S3-Ntb_cropbox.txt\" \"/shared/CSHL_data_processed/ChatCryoJane201710/ChatCryoJane201710_alignedTo_ChatCryoJane201710_slide60-S3-Ntb_cropbox.txt\"\n",
      "rm -rf \"/shared/CSHL_data_processed/ChatCryoJane201710/ChatCryoJane201710_alignedTo_ChatCryoJane201710_slide60-S3-Ntb_cropbox.txt\" && mkdir -p \"/shared/CSHL_data_processed/ChatCryoJane201710\"\n",
      "aws s3 cp \"s3://mousebrainatlas-data/CSHL_data_processed/ChatCryoJane201710/ChatCryoJane201710_alignedTo_ChatCryoJane201710_slide60-S3-Ntb_cropbox.txt\" \"/shared/CSHL_data_processed/ChatCryoJane201710/ChatCryoJane201710_alignedTo_ChatCryoJane201710_slide60-S3-Ntb_cropbox.txt\"\n"
     ]
    }
   ],
   "source": [
    "%load_ext autoreload\n",
    "%autoreload 2\n",
    "\n",
    "import os\n",
    "import time\n",
    "import sys\n",
    "\n",
    "sys.path.append(os.path.join(os.environ['REPO_DIR'], 'utilities'))\n",
    "from utilities2015 import *\n",
    "from metadata import *\n",
    "from data_manager import *\n",
    "from distributed_utilities import *\n",
    "from preprocess_utilities import *"
   ]
  },
  {
   "cell_type": "markdown",
   "metadata": {},
   "source": [
    "- After receiving data of a new stack, put images and macros in corresponding folder.\n",
    "- Add the stack name to proper variables in `metadata.txt`."
   ]
  },
  {
   "cell_type": "code",
   "execution_count": 2,
   "metadata": {},
   "outputs": [],
   "source": [
    "# stack = 'MD658'\n",
    "stack = 'ChatCryoJane201710'"
   ]
  },
  {
   "cell_type": "code",
   "execution_count": 3,
   "metadata": {},
   "outputs": [],
   "source": [
    "# tb_fmt = 'png'\n",
    "tb_fmt = 'tif'"
   ]
  },
  {
   "cell_type": "markdown",
   "metadata": {},
   "source": [
    "- Use GUI, quality check and sort images.\n",
    "- Upload `sorted_filenames.txt` to S3"
   ]
  },
  {
   "cell_type": "code",
   "execution_count": 4,
   "metadata": {},
   "outputs": [
    {
     "name": "stdout",
     "output_type": "stream",
     "text": [
      "aws s3 cp --recursive \"s3://mousebrainatlas-rawdata/CSHL_data/MD662\" \"/shared/CSHL_data/MD662\" --exclude \"*\" --include \"*.png\"\n"
     ]
    }
   ],
   "source": [
    "transfer_data_synced(os.path.join('CSHL_data', stack), \n",
    "                     from_hostname='s3raw', to_hostname='ec2', is_dir=True, include_only='*.'+tb_fmt)"
   ]
  },
  {
   "cell_type": "code",
   "execution_count": 5,
   "metadata": {},
   "outputs": [
    {
     "name": "stdout",
     "output_type": "stream",
     "text": [
      "rm -rf \"/shared/CSHL_data_processed/MD662/MD662_sorted_filenames.txt\" && mkdir -p \"/shared/CSHL_data_processed/MD662\"\n",
      "aws s3 cp \"s3://mousebrainatlas-data/CSHL_data_processed/MD662/MD662_sorted_filenames.txt\" \"/shared/CSHL_data_processed/MD662/MD662_sorted_filenames.txt\"\n"
     ]
    }
   ],
   "source": [
    "transfer_data_synced(os.path.join('CSHL_data_processed', stack, stack + '_sorted_filenames.txt'), \n",
    "                     from_hostname='s3', to_hostname='ec2', is_dir=False)"
   ]
  },
  {
   "cell_type": "markdown",
   "metadata": {},
   "source": [
    "# Align"
   ]
  },
  {
   "cell_type": "code",
   "execution_count": 4,
   "metadata": {
    "collapsed": true
   },
   "outputs": [],
   "source": [
    "# ! rm /shared/CSHL_data_processed/MD662/MD662_sorted_filenames.txt"
   ]
  },
  {
   "cell_type": "code",
   "execution_count": 4,
   "metadata": {
    "collapsed": true,
    "scrolled": true
   },
   "outputs": [],
   "source": [
    "_, sections_to_filenames = DataManager.load_sorted_filenames(stack=stack) \n",
    "# Note that this could be the human-corrected version, in which case the transforms may not exist.\n",
    "valid_filenames = [fn for fn in sections_to_filenames.values() if not is_invalid(fn=fn)]"
   ]
  },
  {
   "cell_type": "code",
   "execution_count": 5,
   "metadata": {
    "collapsed": true
   },
   "outputs": [],
   "source": [
    "version = 'Ntb'"
   ]
  },
  {
   "cell_type": "code",
   "execution_count": 6,
   "metadata": {
    "collapsed": true
   },
   "outputs": [],
   "source": [
    "script = os.path.join(REPO_DIR, 'preprocess', 'align_consecutive_v2.py')\n",
    "if stack == 'ChatCryoJane201710':\n",
    "    input_dir = os.path.join(THUMBNAIL_DATA_DIR, stack, 'ChatCryoJane201710_thumbnails_%(version)s' % {'version':version})\n",
    "else:\n",
    "    input_dir = os.path.join(RAW_DATA_DIR, stack)\n",
    "output_dir = create_if_not_exists(os.path.join(THUMBNAIL_DATA_DIR, stack, stack + '_elastix_output'))"
   ]
  },
  {
   "cell_type": "code",
   "execution_count": 7,
   "metadata": {
    "collapsed": true
   },
   "outputs": [],
   "source": [
    "# ! rm -r {output_dir}"
   ]
  },
  {
   "cell_type": "code",
   "execution_count": 8,
   "metadata": {},
   "outputs": [
    {
     "name": "stdout",
     "output_type": "stream",
     "text": [
      "Align...\n",
      "rm -f ~/stderr_*; rm -f ~/stdout_*\n"
     ]
    },
    {
     "name": "stderr",
     "output_type": "stream",
     "text": [
      "Run locally.\n"
     ]
    },
    {
     "name": "stdout",
     "output_type": "stream",
     "text": [
      "done in 1509.08946395 seconds\n"
     ]
    },
    {
     "name": "stderr",
     "output_type": "stream",
     "text": [
      "Jobs submitted. Use wait_qsub_complete() to wait for all execution to finish.\n"
     ]
    }
   ],
   "source": [
    "t = time.time()\n",
    "print 'Align...'\n",
    "\n",
    "run_distributed(\"%(script)s %(stack)s \\\"%(input_dir)s\\\" \\\"%(output_dir)s\\\" \\'%%(kwargs_str)s\\' %(fmt)s \" % \\\n",
    "                {'script': script,\n",
    "                'stack': stack,\n",
    "                'input_dir': input_dir,\n",
    "                'output_dir': output_dir,\n",
    "                'fmt': tb_fmt,\n",
    "                },\n",
    "                kwargs_list=[{'prev_fn': valid_filenames[i-1] + '_thumbnail_' + version, \n",
    "                              'curr_fn': valid_filenames[i] + '_thumbnail_' + version,\n",
    "                             'prev_sn': valid_filenames[i-1] ,\n",
    "                             'curr_sn': valid_filenames[i] } \n",
    "                             for i in range(1, len(valid_filenames))],\n",
    "                argument_type='list',\n",
    "                jobs_per_node=8,\n",
    "               local_only=True)\n",
    "\n",
    "# wait_qsub_complete()\n",
    "\n",
    "print 'done in', time.time() - t, 'seconds' # 252 seconds"
   ]
  },
  {
   "cell_type": "code",
   "execution_count": null,
   "metadata": {
    "collapsed": true
   },
   "outputs": [],
   "source": [
    "# t = time.time()\n",
    "# print 'Align...'\n",
    "\n",
    "# run_distributed(\"%(script)s %(stack)s \\\"%(input_dir)s\\\" \\\"%(output_dir)s\\\" \\'%%(kwargs_str)s\\' %(fmt)s\" % \\\n",
    "#                 {'script': script,\n",
    "#                 'stack': stack,\n",
    "#                 'input_dir': input_dir,\n",
    "#                 'output_dir': output_dir,\n",
    "#                 'fmt': tb_fmt},\n",
    "#                 kwargs_list=[{'prev_fn': valid_filenames[i-1], 'curr_fn': valid_filenames[i]} \n",
    "#                              for i in range(1, len(valid_filenames))],\n",
    "#                 argument_type='list',\n",
    "#                jobs_per_node=16)\n",
    "\n",
    "# wait_qsub_complete()\n",
    "\n",
    "# print 'done in', time.time() - t, 'seconds' # 252 seconds"
   ]
  },
  {
   "cell_type": "code",
   "execution_count": 39,
   "metadata": {},
   "outputs": [
    {
     "name": "stdout",
     "output_type": "stream",
     "text": [
      "aws s3 cp --recursive \"/media/yuncong/BstemAtlasData/CSHL_data_processed/ChatCryoJane201710/ChatCryoJane201710_elastix_output\" \"s3://mousebrainatlas-data/CSHL_data_processed/ChatCryoJane201710/ChatCryoJane201710_elastix_output\"\n"
     ]
    }
   ],
   "source": [
    "# transfer_data_synced(os.path.join('CSHL_data_processed', stack, stack + '_elastix_output'), \n",
    "#                      from_hostname='ec2', to_hostname='s3', is_dir=True)\n",
    "upload_to_s3(output_dir, is_dir=True, local_root=DATA_ROOTDIR)"
   ]
  },
  {
   "cell_type": "markdown",
   "metadata": {},
   "source": [
    "# Check final metrics"
   ]
  },
  {
   "cell_type": "code",
   "execution_count": 9,
   "metadata": {
    "collapsed": true
   },
   "outputs": [],
   "source": [
    "import re\n",
    "\n",
    "final_metric = {}\n",
    "for i in range(1, len(valid_filenames)):\n",
    "#     if stack == 'ChatCryoJane201710':\n",
    "#         prev_fn = valid_filenames[i-1] + '-Ntb'\n",
    "#         curr_fn = valid_filenames[i] + '-Ntb'\n",
    "#     else:\n",
    "    prev_fn = valid_filenames[i-1]\n",
    "    curr_fn = valid_filenames[i]\n",
    "\n",
    "    with open(os.path.join(output_dir, curr_fn + '_to_' + prev_fn, 'elastix.log'), 'r') as f:\n",
    "        t = f.read()\n",
    "        g = re.search(\"Final metric value  = (.*?)\\n\", t)\n",
    "#         final_metric[(curr_fn, prev_fn)] = -float(g.groups()[0])\n",
    "        final_metric[i] = float(g.groups()[0])"
   ]
  },
  {
   "cell_type": "code",
   "execution_count": 10,
   "metadata": {},
   "outputs": [
    {
     "data": {
      "image/png": "[encoded data removed]",
      "text/plain": [
       "<matplotlib.figure.Figure at 0x7faf7901e4d0>"
      ]
     },
     "metadata": {},
     "output_type": "display_data"
    }
   ],
   "source": [
    "%matplotlib inline\n",
    "metric_arr = np.array(final_metric.values())\n",
    "plt.figure(figsize=(20,2));\n",
    "plt.ylim([-1, metric_arr.max()+.1]);\n",
    "plt.stem(metric_arr);\n",
    "plt.title('Mutual information of pairwise registration');\n",
    "plt.yticks(np.arange(-1, metric_arr.max()+.1, 0.1));\n",
    "plt.xlabel('Image index');\n",
    "plt.ylabel('Mutual info');"
   ]
  },
  {
   "cell_type": "code",
   "execution_count": 11,
   "metadata": {},
   "outputs": [
    {
     "name": "stdout",
     "output_type": "stream",
     "text": [
      "worst pair: ChatCryoJane201710_slide12-S2\n"
     ]
    }
   ],
   "source": [
    "print 'worst pair:', valid_filenames[np.argmin(final_metric.values())]"
   ]
  },
  {
   "cell_type": "markdown",
   "metadata": {},
   "source": [
    "- download `elastix_output/` to local machine, edit consecutive transforms in local GUI, generate `custom_transforms/` to S3, upload to S3.\n",
    "- determine anchor image, upload `anchor.txt` to S3."
   ]
  },
  {
   "cell_type": "markdown",
   "metadata": {},
   "source": [
    "# Compose consecutive transforms"
   ]
  },
  {
   "cell_type": "code",
   "execution_count": 173,
   "metadata": {},
   "outputs": [
    {
     "name": "stdout",
     "output_type": "stream",
     "text": [
      "rm -rf \"/shared/CSHL_data_processed/MD661/MD661_elastix_output\" && mkdir -p \"/shared/CSHL_data_processed/MD661\"\n",
      "aws s3 cp --recursive \"s3://mousebrainatlas-data/CSHL_data_processed/MD661/MD661_elastix_output\" \"/shared/CSHL_data_processed/MD661/MD661_elastix_output\"\n"
     ]
    }
   ],
   "source": [
    "transfer_data_synced(os.path.join('CSHL_data_processed', stack, stack + '_elastix_output'), \n",
    "                     from_hostname='s3', to_hostname='ec2', is_dir=True)"
   ]
  },
  {
   "cell_type": "code",
   "execution_count": 30,
   "metadata": {
    "scrolled": true
   },
   "outputs": [
    {
     "name": "stdout",
     "output_type": "stream",
     "text": [
      "rm -rf /shared/CSHL_data_processed/MD661/MD661_custom_transforms && mkdir -p /shared/CSHL_data_processed/MD661\n",
      "aws s3 cp --recursive s3://mousebrainatlas-data/CSHL_data_processed/MD661/MD661_custom_transforms /shared/CSHL_data_processed/MD661/MD661_custom_transforms\n"
     ]
    }
   ],
   "source": [
    "transfer_data_synced(os.path.join('CSHL_data_processed', stack, stack + '_custom_transforms'), \n",
    "                     from_hostname='s3', to_hostname='ec2', is_dir=True)"
   ]
  },
  {
   "cell_type": "code",
   "execution_count": 14,
   "metadata": {},
   "outputs": [
    {
     "name": "stdout",
     "output_type": "stream",
     "text": [
      "rm -rf \"/shared/CSHL_data_processed/MD662/MD662_anchor.txt\" && mkdir -p \"/shared/CSHL_data_processed/MD662\"\n",
      "aws s3 cp \"s3://mousebrainatlas-data/CSHL_data_processed/MD662/MD662_anchor.txt\" \"/shared/CSHL_data_processed/MD662/MD662_anchor.txt\"\n"
     ]
    }
   ],
   "source": [
    "transfer_data_synced(os.path.join('CSHL_data_processed', stack, stack + '_anchor.txt'), \n",
    "                     from_hostname='s3', to_hostname='ec2', is_dir=False)"
   ]
  },
  {
   "cell_type": "code",
   "execution_count": 12,
   "metadata": {
    "collapsed": true
   },
   "outputs": [],
   "source": [
    "anchor_fn = DataManager.load_anchor_filename(stack=stack)\n",
    "# if stack == 'ChatCryoJane201710':\n",
    "#     anchor_idx = valid_filenames.index(anchor_fn + '-Chat')\n",
    "# else:\n",
    "anchor_idx = valid_filenames.index(anchor_fn)"
   ]
  },
  {
   "cell_type": "code",
   "execution_count": 13,
   "metadata": {
    "collapsed": true
   },
   "outputs": [],
   "source": [
    "script = os.path.join(REPO_DIR, 'preprocess', 'compose_transform_thumbnail_v2.py')\n",
    "input_dir = os.path.join(DATA_DIR, stack, stack + '_elastix_output')\n",
    "output_fn = os.path.join(DATA_DIR, stack, '%(stack)s_transformsTo_%(anchor_fn)s.pkl' % \\\n",
    "                                                dict(stack=stack, anchor_fn=anchor_fn))"
   ]
  },
  {
   "cell_type": "code",
   "execution_count": 14,
   "metadata": {
    "collapsed": true
   },
   "outputs": [],
   "source": [
    "! rm -f \"{output_fn}\""
   ]
  },
  {
   "cell_type": "code",
   "execution_count": 15,
   "metadata": {},
   "outputs": [
    {
     "name": "stdout",
     "output_type": "stream",
     "text": [
      "Composing transform...\n",
      "rm -f ~/stderr_*; rm -f ~/stdout_*\n"
     ]
    },
    {
     "name": "stderr",
     "output_type": "stream",
     "text": [
      "Run locally.\n"
     ]
    },
    {
     "name": "stdout",
     "output_type": "stream",
     "text": [
      "done in 2.99335694313 seconds\n"
     ]
    },
    {
     "name": "stderr",
     "output_type": "stream",
     "text": [
      "Jobs submitted. Use wait_qsub_complete() to wait for all execution to finish.\n"
     ]
    }
   ],
   "source": [
    "t = time.time()\n",
    "print 'Composing transform...'\n",
    "\n",
    "run_distributed(\"%(script)s %(stack)s \\\"%(input_dir)s\\\" \\'%%(kwargs_str)s\\' %(anchor_idx)d \\\"%(output_fn)s\\\"\" % \\\n",
    "            {'stack': stack,\n",
    "            'script': script,\n",
    "            'input_dir': input_dir,\n",
    "            'anchor_idx': anchor_idx,\n",
    "            'output_fn': output_fn},\n",
    "            kwargs_list=[{'filenames': valid_filenames}],\n",
    "            argument_type='list',\n",
    "               local_only=True)\n",
    "\n",
    "# wait_qsub_complete()\n",
    "\n",
    "print 'done in', time.time() - t, 'seconds' # 20 seconds"
   ]
  },
  {
   "cell_type": "code",
   "execution_count": 43,
   "metadata": {},
   "outputs": [
    {
     "name": "stdout",
     "output_type": "stream",
     "text": [
      "aws s3 cp --recursive \"/shared/CSHL_data_processed/MD662\" \"s3://mousebrainatlas-data/CSHL_data_processed/MD662\" --exclude \"*\" --include \"*.pkl\"\n"
     ]
    }
   ],
   "source": [
    "transfer_data_synced(os.path.join('CSHL_data_processed', stack), \n",
    "                     from_hostname='ec2', to_hostname='s3', is_dir=True, include_only='*.pkl')"
   ]
  },
  {
   "cell_type": "markdown",
   "metadata": {},
   "source": [
    "# Warp"
   ]
  },
  {
   "cell_type": "code",
   "execution_count": 37,
   "metadata": {},
   "outputs": [
    {
     "name": "stdout",
     "output_type": "stream",
     "text": [
      "aws s3 cp --recursive s3://mousebrainatlas-data/CSHL_data_processed/MD661 /shared/CSHL_data_processed/MD661 --exclude \"*\" --include \"*.pkl\"\n"
     ]
    }
   ],
   "source": [
    "transfer_data_synced(os.path.join('CSHL_data_processed', stack), \n",
    "                     from_hostname='s3', to_hostname='ec2', is_dir=True, include_only='*.pkl')"
   ]
  },
  {
   "cell_type": "code",
   "execution_count": 25,
   "metadata": {
    "collapsed": true
   },
   "outputs": [],
   "source": [
    "if stack in all_nissl_stacks:\n",
    "    pad_bg_color = 'white'\n",
    "elif stack == 'ChatCryoJane201710':\n",
    "    pad_bg_color = 'black'\n",
    "else:\n",
    "    pad_bg_color = 'auto'"
   ]
  },
  {
   "cell_type": "code",
   "execution_count": 27,
   "metadata": {
    "collapsed": true
   },
   "outputs": [],
   "source": [
    "prep_id = 1"
   ]
  },
  {
   "cell_type": "code",
   "execution_count": 41,
   "metadata": {},
   "outputs": [
    {
     "name": "stdout",
     "output_type": "stream",
     "text": [
      "out_dir: /media/yuncong/BstemAtlasData/CSHL_data_processed/ChatCryoJane201710/ChatCryoJane201710_prep1_thumbnail_Chat\n"
     ]
    }
   ],
   "source": [
    "if stack == 'ChatCryoJane201710':\n",
    "    version = 'Chat'\n",
    "    input_dir = os.path.join(THUMBNAIL_DATA_DIR, stack, 'ChatCryoJane201710_thumbnails_%(version)s') % {'version':version}\n",
    "else:\n",
    "    input_dir = os.path.join(RAW_DATA_DIR, stack)\n",
    "\n",
    "out_dir = DataManager.get_image_dir_v2(stack=stack, prep_id=prep_id, resol='thumbnail', version=version)\n",
    "print 'out_dir:', out_dir\n",
    "script = os.path.join(REPO_DIR, 'preprocess', 'warp_crop_IM_v3.py')"
   ]
  },
  {
   "cell_type": "code",
   "execution_count": 29,
   "metadata": {
    "collapsed": true
   },
   "outputs": [],
   "source": [
    "! rm -rf {out_dir}"
   ]
  },
  {
   "cell_type": "code",
   "execution_count": 42,
   "metadata": {
    "scrolled": true
   },
   "outputs": [
    {
     "name": "stdout",
     "output_type": "stream",
     "text": [
      "Warping...\n",
      "rm -f ~/stderr_*; rm -f ~/stdout_*\n"
     ]
    },
    {
     "name": "stderr",
     "output_type": "stream",
     "text": [
      "Run locally.\n"
     ]
    },
    {
     "name": "stdout",
     "output_type": "stream",
     "text": [
      "done in 52.3990800381 seconds\n"
     ]
    },
    {
     "name": "stderr",
     "output_type": "stream",
     "text": [
      "Jobs submitted. Use wait_qsub_complete() to wait for all execution to finish.\n"
     ]
    }
   ],
   "source": [
    "t = time.time()\n",
    "print 'Warping...'\n",
    "\n",
    "transforms_to_anchor = DataManager.load_transforms(stack=stack, downsample_factor=32, use_inverse=False, anchor_fn=anchor_fn)\n",
    "\n",
    "if pad_bg_color == 'auto': # useful for alternatively stained stacks where bg varies depending on stain on each section\n",
    "    run_distributed('%(script)s %(stack)s \\\"%%(input_fp)s\\\" \\\"%%(output_fp)s\\\" %%(transform)s thumbnail 0 0 2000 1500 %%(pad_bg_color)s' % \\\n",
    "                    {'script': script,\n",
    "                    'stack': stack,\n",
    "                    },\n",
    "                    kwargs_list=[{'transform': ','.join(map(str, transforms_to_anchor[fn].flatten())),\n",
    "                                'input_fp': os.path.join(input_dir, \\\n",
    "                                                        fn + '_thumbnail_' + version + '.' + tb_fmt \\\n",
    "                                              if version is not None \\\n",
    "                                              else fn + '.' + tb_fmt),\n",
    "                                  'output_fp': DataManager.get_image_filepath_v2(stack=stack, fn=fn, prep_id=prep_id, version=version, resol='thumbnail'),\n",
    "                                'pad_bg_color': 'black' if fn.split('-')[1][0] == 'F' else 'white'}\n",
    "                                for fn in valid_filenames],\n",
    "                    argument_type='single',\n",
    "                   jobs_per_node=8,\n",
    "                   local_only=True)\n",
    "else:\n",
    "    run_distributed('%(script)s %(stack)s \\\"%%(input_fp)s\\\" \\\"%%(output_fp)s\\\" %%(transform)s thumbnail 0 0 2000 1500 %(pad_bg_color)s' % \\\n",
    "                    {'script': script,\n",
    "                    'stack': stack,\n",
    "                    'pad_bg_color': pad_bg_color},\n",
    "                    kwargs_list=[{'transform': ','.join(map(str, transforms_to_anchor[fn].flatten())),\n",
    "                                'input_fp': os.path.join(input_dir, \\\n",
    "                                                        fn + '_thumbnail_' + version + '.' + tb_fmt \\\n",
    "                                              if version is not None \\\n",
    "                                              else fn + '.' + tb_fmt),\n",
    "                                  'output_fp': DataManager.get_image_filepath_v2(stack=stack, fn=fn, prep_id=prep_id, version=version, resol='thumbnail'),\n",
    "                                 }\n",
    "                                for fn in valid_filenames],\n",
    "                    argument_type='single',\n",
    "                   jobs_per_node=8,\n",
    "                   local_only=True)\n",
    "\n",
    "# wait_qsub_complete()\n",
    "    \n",
    "print 'done in', time.time() - t, 'seconds' # 300 seconds."
   ]
  },
  {
   "cell_type": "code",
   "execution_count": 43,
   "metadata": {},
   "outputs": [
    {
     "name": "stdout",
     "output_type": "stream",
     "text": [
      "aws s3 cp --recursive \"/media/yuncong/BstemAtlasData/CSHL_data_processed/ChatCryoJane201710/ChatCryoJane201710_prep1_thumbnail_Chat\" \"s3://mousebrainatlas-data/CSHL_data_processed/ChatCryoJane201710/ChatCryoJane201710_prep1_thumbnail_Chat\"\n"
     ]
    }
   ],
   "source": [
    "upload_to_s3(out_dir, is_dir=True, local_root=DATA_ROOTDIR)"
   ]
  },
  {
   "cell_type": "markdown",
   "metadata": {},
   "source": [
    "- Download aligned images to local. In GUI, check alignment correctness.\n",
    "- Place cropbox. Upload `cropbox.txt` to S3.\n",
    "- If section order is altered, redo the process starting from \"Align\"."
   ]
  },
  {
   "cell_type": "markdown",
   "metadata": {},
   "source": [
    "- (Recommended) Run `reconstruct/construct_thumbnail_volume_v3.ipynb` notebook. Check the smoothness of virtual re-sectioning in brain labeling gui."
   ]
  },
  {
   "cell_type": "markdown",
   "metadata": {},
   "source": [
    "# Crop"
   ]
  },
  {
   "cell_type": "code",
   "execution_count": 146,
   "metadata": {},
   "outputs": [
    {
     "name": "stdout",
     "output_type": "stream",
     "text": [
      "rm -rf \"/shared/CSHL_data_processed/MD661/MD661_alignedTo_MD662&661-F116-2017.06.07-04.39.41_MD661_1_0346_cropbox.txt\" && mkdir -p \"/shared/CSHL_data_processed/MD661\"\n",
      "aws s3 cp \"s3://mousebrainatlas-data/CSHL_data_processed/MD661/MD661_alignedTo_MD662&661-F116-2017.06.07-04.39.41_MD661_1_0346_cropbox.txt\" \"/shared/CSHL_data_processed/MD661/MD661_alignedTo_MD662&661-F116-2017.06.07-04.39.41_MD661_1_0346_cropbox.txt\"\n"
     ]
    }
   ],
   "source": [
    "# stack = 'MD661'\n",
    "# download_from_s3(DataManager.get_cropbox_filename(stack), redownload=True)"
   ]
  },
  {
   "cell_type": "code",
   "execution_count": 5,
   "metadata": {
    "scrolled": true
   },
   "outputs": [
    {
     "name": "stderr",
     "output_type": "stream",
     "text": [
      "[autoreload of utilities2015 failed: Traceback (most recent call last):\n",
      "  File \"/usr/local/lib/python2.7/dist-packages/IPython/extensions/autoreload.py\", line 247, in check\n",
      "    superreload(m, reload, self.old_objects)\n",
      "AttributeError: __abstractmethods__\n",
      "]\n"
     ]
    },
    {
     "name": "stdout",
     "output_type": "stream",
     "text": [
      "rm -rf \"/media/yuncong/BstemAtlasData/CSHL_data_processed/ChatCryoJane201710/ChatCryoJane201710_alignedTo_ChatCryoJane201710_slide60-S3_cropbox.txt\" && mkdir -p \"/media/yuncong/BstemAtlasData/CSHL_data_processed/ChatCryoJane201710\"\n",
      "aws s3 cp \"s3://mousebrainatlas-data/CSHL_data_processed/ChatCryoJane201710/ChatCryoJane201710_alignedTo_ChatCryoJane201710_slide60-S3_cropbox.txt\" \"/media/yuncong/BstemAtlasData/CSHL_data_processed/ChatCryoJane201710/ChatCryoJane201710_alignedTo_ChatCryoJane201710_slide60-S3_cropbox.txt\"\n",
      "509 72 949 696\n"
     ]
    }
   ],
   "source": [
    "xmin, xmax, ymin, ymax, first_sec, last_sec = DataManager.load_cropbox(stack=stack)\n",
    "w = xmax + 1 - xmin\n",
    "h = ymax + 1 - ymin\n",
    "x = xmin\n",
    "y = ymin\n",
    "\n",
    "print x,y,w,h"
   ]
  },
  {
   "cell_type": "code",
   "execution_count": 207,
   "metadata": {
    "collapsed": true
   },
   "outputs": [],
   "source": [
    "# first_fn = sections_to_filenames[first_sec]\n",
    "# last_fn = sections_to_filenames[last_sec]"
   ]
  },
  {
   "cell_type": "code",
   "execution_count": 208,
   "metadata": {
    "collapsed": true
   },
   "outputs": [],
   "source": [
    "# first_idx_among_valid = valid_filenames.index(first_fn)\n",
    "# last_idx_among_valid = valid_filenames.index(last_fn)"
   ]
  },
  {
   "cell_type": "markdown",
   "metadata": {},
   "source": [
    "# Crop Thumbnail"
   ]
  },
  {
   "cell_type": "code",
   "execution_count": 14,
   "metadata": {},
   "outputs": [
    {
     "name": "stdout",
     "output_type": "stream",
     "text": [
      "rm -r /media/yuncong/BstemAtlasData/CSHL_data_processed/ChatCryoJane201710/ChatCryoJane201710_prep2_thumbnail_Ntb\n",
      "mkdir -p /media/yuncong/BstemAtlasData/CSHL_data_processed/ChatCryoJane201710/ChatCryoJane201710_prep2_thumbnail_Ntb\n"
     ]
    }
   ],
   "source": [
    "# input_dir = os.path.join(DATA_DIR, stack, \"%(stack)s_thumbnail_alignedTo_%(anchor_fn)s\" % \\\n",
    "#                            {'stack': stack, 'anchor_fn': anchor_fn})\n",
    "\n",
    "# output_dir = os.path.join(DATA_DIR, stack, \"%(stack)s_thumbnail_alignedTo_%(anchor_fn)s_cropped\" % \\\n",
    "#                            {'stack': stack, 'anchor_fn': anchor_fn})\n",
    "\n",
    "input_dir = DataManager.get_image_dir_v2(stack=stack, prep_id=1, resol='thumbnail', version='Ntb')\n",
    "download_from_s3(input_dir, is_dir=True, local_root=DATA_ROOTDIR)\n",
    "\n",
    "output_dir = DataManager.get_image_dir_v2(stack=stack, prep_id=2, resol='thumbnail', version='Ntb')\n",
    "execute_command('rm -r ' + output_dir);\n",
    "execute_command('mkdir -p ' + output_dir);"
   ]
  },
  {
   "cell_type": "code",
   "execution_count": 10,
   "metadata": {
    "collapsed": true
   },
   "outputs": [],
   "source": [
    "_, sections_to_filenames = DataManager.load_sorted_filenames(stack=stack) \n",
    "valid_filenames = [fn for fn in sections_to_filenames.values() if not is_invalid(fn=fn)]"
   ]
  },
  {
   "cell_type": "code",
   "execution_count": 15,
   "metadata": {
    "scrolled": true
   },
   "outputs": [
    {
     "name": "stderr",
     "output_type": "stream",
     "text": [
      "cropping thumbnail..."
     ]
    },
    {
     "name": "stdout",
     "output_type": "stream",
     "text": [
      "convert \"/media/yuncong/BstemAtlasData/CSHL_data_processed/ChatCryoJane201710/ChatCryoJane201710_prep1_thumbnail_Ntb/ChatCryoJane201710_slide1-S1_prep1_thumbnail_Ntb.tif\" -crop 949x696+509+72  \"/media/yuncong/BstemAtlasData/CSHL_data_processed/ChatCryoJane201710/ChatCryoJane201710_prep2_thumbnail_Ntb/ChatCryoJane201710_slide1-S1_prep2_thumbnail_Ntb.tif\"\n",
      "convert \"/media/yuncong/BstemAtlasData/CSHL_data_processed/ChatCryoJane201710/ChatCryoJane201710_prep1_thumbnail_Ntb/ChatCryoJane201710_slide2-S1_prep1_thumbnail_Ntb.tif\" -crop 949x696+509+72  \"/media/yuncong/BstemAtlasData/CSHL_data_processed/ChatCryoJane201710/ChatCryoJane201710_prep2_thumbnail_Ntb/ChatCryoJane201710_slide2-S1_prep2_thumbnail_Ntb.tif\"\n",
      "convert \"/media/yuncong/BstemAtlasData/CSHL_data_processed/ChatCryoJane201710/ChatCryoJane201710_prep1_thumbnail_Ntb/ChatCryoJane201710_slide1-S2_prep1_thumbnail_Ntb.tif\" -crop 949x696+509+72  \"/media/yuncong/BstemAtlasData/CSHL_data_processed/ChatCryoJane201710/ChatCryoJane201710_prep2_thumbnail_Ntb/ChatCryoJane201710_slide1-S2_prep2_thumbnail_Ntb.tif\"\n",
      "convert \"/media/yuncong/BstemAtlasData/CSHL_data_processed/ChatCryoJane201710/ChatCryoJane201710_prep1_thumbnail_Ntb/ChatCryoJane201710_slide2-S2_prep1_thumbnail_Ntb.tif\" -crop 949x696+509+72  \"/media/yuncong/BstemAtlasData/CSHL_data_processed/ChatCryoJane201710/ChatCryoJane201710_prep2_thumbnail_Ntb/ChatCryoJane201710_slide2-S2_prep2_thumbnail_Ntb.tif\"\n",
      "convert \"/media/yuncong/BstemAtlasData/CSHL_data_processed/ChatCryoJane201710/ChatCryoJane201710_prep1_thumbnail_Ntb/ChatCryoJane201710_slide1-S3_prep1_thumbnail_Ntb.tif\" -crop 949x696+509+72  \"/media/yuncong/BstemAtlasData/CSHL_data_processed/ChatCryoJane201710/ChatCryoJane201710_prep2_thumbnail_Ntb/ChatCryoJane201710_slide1-S3_prep2_thumbnail_Ntb.tif\"\n",
      "convert \"/media/yuncong/BstemAtlasData/CSHL_data_processed/ChatCryoJane201710/ChatCryoJane201710_prep1_thumbnail_Ntb/ChatCryoJane201710_slide2-S3_prep1_thumbnail_Ntb.tif\" -crop 949x696+509+72  \"/media/yuncong/BstemAtlasData/CSHL_data_processed/ChatCryoJane201710/ChatCryoJane201710_prep2_thumbnail_Ntb/ChatCryoJane201710_slide2-S3_prep2_thumbnail_Ntb.tif\"\n",
      "convert \"/media/yuncong/BstemAtlasData/CSHL_data_processed/ChatCryoJane201710/ChatCryoJane201710_prep1_thumbnail_Ntb/ChatCryoJane201710_slide3-S1_prep1_thumbnail_Ntb.tif\" -crop 949x696+509+72  \"/media/yuncong/BstemAtlasData/CSHL_data_processed/ChatCryoJane201710/ChatCryoJane201710_prep2_thumbnail_Ntb/ChatCryoJane201710_slide3-S1_prep2_thumbnail_Ntb.tif\"\n",
      "convert \"/media/yuncong/BstemAtlasData/CSHL_data_processed/ChatCryoJane201710/ChatCryoJane201710_prep1_thumbnail_Ntb/ChatCryoJane201710_slide4-S1_prep1_thumbnail_Ntb.tif\" -crop 949x696+509+72  \"/media/yuncong/BstemAtlasData/CSHL_data_processed/ChatCryoJane201710/ChatCryoJane201710_prep2_thumbnail_Ntb/ChatCryoJane201710_slide4-S1_prep2_thumbnail_Ntb.tif\"\n",
      "convert \"/media/yuncong/BstemAtlasData/CSHL_data_processed/ChatCryoJane201710/ChatCryoJane201710_prep1_thumbnail_Ntb/ChatCryoJane201710_slide3-S2_prep1_thumbnail_Ntb.tif\" -crop 949x696+509+72  \"/media/yuncong/BstemAtlasData/CSHL_data_processed/ChatCryoJane201710/ChatCryoJane201710_prep2_thumbnail_Ntb/ChatCryoJane201710_slide3-S2_prep2_thumbnail_Ntb.tif\"\n",
      "convert \"/media/yuncong/BstemAtlasData/CSHL_data_processed/ChatCryoJane201710/ChatCryoJane201710_prep1_thumbnail_Ntb/ChatCryoJane201710_slide4-S2_prep1_thumbnail_Ntb.tif\" -crop 949x696+509+72  \"/media/yuncong/BstemAtlasData/CSHL_data_processed/ChatCryoJane201710/ChatCryoJane201710_prep2_thumbnail_Ntb/ChatCryoJane201710_slide4-S2_prep2_thumbnail_Ntb.tif\"\n",
      "convert \"/media/yuncong/BstemAtlasData/CSHL_data_processed/ChatCryoJane201710/ChatCryoJane201710_prep1_thumbnail_Ntb/ChatCryoJane201710_slide3-S3_prep1_thumbnail_Ntb.tif\" -crop 949x696+509+72  \"/media/yuncong/BstemAtlasData/CSHL_data_processed/ChatCryoJane201710/ChatCryoJane201710_prep2_thumbnail_Ntb/ChatCryoJane201710_slide3-S3_prep2_thumbnail_Ntb.tif\"\n",
      "convert \"/media/yuncong/BstemAtlasData/CSHL_data_processed/ChatCryoJane201710/ChatCryoJane201710_prep1_thumbnail_Ntb/ChatCryoJane201710_slide4-S3_prep1_thumbnail_Ntb.tif\" -crop 949x696+509+72  \"/media/yuncong/BstemAtlasData/CSHL_data_processed/ChatCryoJane201710/ChatCryoJane201710_prep2_thumbnail_Ntb/ChatCryoJane201710_slide4-S3_prep2_thumbnail_Ntb.tif\"\n",
      "convert \"/media/yuncong/BstemAtlasData/CSHL_data_processed/ChatCryoJane201710/ChatCryoJane201710_prep1_thumbnail_Ntb/ChatCryoJane201710_slide5-S1_prep1_thumbnail_Ntb.tif\" -crop 949x696+509+72  \"/media/yuncong/BstemAtlasData/CSHL_data_processed/ChatCryoJane201710/ChatCryoJane201710_prep2_thumbnail_Ntb/ChatCryoJane201710_slide5-S1_prep2_thumbnail_Ntb.tif\"\n",
      "convert \"/media/yuncong/BstemAtlasData/CSHL_data_processed/ChatCryoJane201710/ChatCryoJane201710_prep1_thumbnail_Ntb/ChatCryoJane201710_slide6-S1_prep1_thumbnail_Ntb.tif\" -crop 949x696+509+72  \"/media/yuncong/BstemAtlasData/CSHL_data_processed/ChatCryoJane201710/ChatCryoJane201710_prep2_thumbnail_Ntb/ChatCryoJane201710_slide6-S1_prep2_thumbnail_Ntb.tif\"\n",
      "convert \"/media/yuncong/BstemAtlasData/CSHL_data_processed/ChatCryoJane201710/ChatCryoJane201710_prep1_thumbnail_Ntb/ChatCryoJane201710_slide5-S2_prep1_thumbnail_Ntb.tif\" -crop 949x696+509+72  \"/media/yuncong/BstemAtlasData/CSHL_data_processed/ChatCryoJane201710/ChatCryoJane201710_prep2_thumbnail_Ntb/ChatCryoJane201710_slide5-S2_prep2_thumbnail_Ntb.tif\"\n",
      "convert \"/media/yuncong/BstemAtlasData/CSHL_data_processed/ChatCryoJane201710/ChatCryoJane201710_prep1_thumbnail_Ntb/ChatCryoJane201710_slide6-S2_prep1_thumbnail_Ntb.tif\" -crop 949x696+509+72  \"/media/yuncong/BstemAtlasData/CSHL_data_processed/ChatCryoJane201710/ChatCryoJane201710_prep2_thumbnail_Ntb/ChatCryoJane201710_slide6-S2_prep2_thumbnail_Ntb.tif\"\n",
      "convert \"/media/yuncong/BstemAtlasData/CSHL_data_processed/ChatCryoJane201710/ChatCryoJane201710_prep1_thumbnail_Ntb/ChatCryoJane201710_slide5-S3_prep1_thumbnail_Ntb.tif\" -crop 949x696+509+72  \"/media/yuncong/BstemAtlasData/CSHL_data_processed/ChatCryoJane201710/ChatCryoJane201710_prep2_thumbnail_Ntb/ChatCryoJane201710_slide5-S3_prep2_thumbnail_Ntb.tif\"\n",
      "convert \"/media/yuncong/BstemAtlasData/CSHL_data_processed/ChatCryoJane201710/ChatCryoJane201710_prep1_thumbnail_Ntb/ChatCryoJane201710_slide6-S3_prep1_thumbnail_Ntb.tif\" -crop 949x696+509+72  \"/media/yuncong/BstemAtlasData/CSHL_data_processed/ChatCryoJane201710/ChatCryoJane201710_prep2_thumbnail_Ntb/ChatCryoJane201710_slide6-S3_prep2_thumbnail_Ntb.tif\"\n",
      "convert \"/media/yuncong/BstemAtlasData/CSHL_data_processed/ChatCryoJane201710/ChatCryoJane201710_prep1_thumbnail_Ntb/ChatCryoJane201710_slide7-S1_prep1_thumbnail_Ntb.tif\" -crop 949x696+509+72  \"/media/yuncong/BstemAtlasData/CSHL_data_processed/ChatCryoJane201710/ChatCryoJane201710_prep2_thumbnail_Ntb/ChatCryoJane201710_slide7-S1_prep2_thumbnail_Ntb.tif\"\n",
      "convert \"/media/yuncong/BstemAtlasData/CSHL_data_processed/ChatCryoJane201710/ChatCryoJane201710_prep1_thumbnail_Ntb/ChatCryoJane201710_slide8-S1_prep1_thumbnail_Ntb.tif\" -crop 949x696+509+72  \"/media/yuncong/BstemAtlasData/CSHL_data_processed/ChatCryoJane201710/ChatCryoJane201710_prep2_thumbnail_Ntb/ChatCryoJane201710_slide8-S1_prep2_thumbnail_Ntb.tif\"\n",
      "convert \"/media/yuncong/BstemAtlasData/CSHL_data_processed/ChatCryoJane201710/ChatCryoJane201710_prep1_thumbnail_Ntb/ChatCryoJane201710_slide7-S2_prep1_thumbnail_Ntb.tif\" -crop 949x696+509+72  \"/media/yuncong/BstemAtlasData/CSHL_data_processed/ChatCryoJane201710/ChatCryoJane201710_prep2_thumbnail_Ntb/ChatCryoJane201710_slide7-S2_prep2_thumbnail_Ntb.tif\"\n",
      "convert \"/media/yuncong/BstemAtlasData/CSHL_data_processed/ChatCryoJane201710/ChatCryoJane201710_prep1_thumbnail_Ntb/ChatCryoJane201710_slide8-S2_prep1_thumbnail_Ntb.tif\" -crop 949x696+509+72  \"/media/yuncong/BstemAtlasData/CSHL_data_processed/ChatCryoJane201710/ChatCryoJane201710_prep2_thumbnail_Ntb/ChatCryoJane201710_slide8-S2_prep2_thumbnail_Ntb.tif\"\n",
      "convert \"/media/yuncong/BstemAtlasData/CSHL_data_processed/ChatCryoJane201710/ChatCryoJane201710_prep1_thumbnail_Ntb/ChatCryoJane201710_slide7-S3_prep1_thumbnail_Ntb.tif\" -crop 949x696+509+72  \"/media/yuncong/BstemAtlasData/CSHL_data_processed/ChatCryoJane201710/ChatCryoJane201710_prep2_thumbnail_Ntb/ChatCryoJane201710_slide7-S3_prep2_thumbnail_Ntb.tif\"\n",
      "convert \"/media/yuncong/BstemAtlasData/CSHL_data_processed/ChatCryoJane201710/ChatCryoJane201710_prep1_thumbnail_Ntb/ChatCryoJane201710_slide8-S3_prep1_thumbnail_Ntb.tif\" -crop 949x696+509+72  \"/media/yuncong/BstemAtlasData/CSHL_data_processed/ChatCryoJane201710/ChatCryoJane201710_prep2_thumbnail_Ntb/ChatCryoJane201710_slide8-S3_prep2_thumbnail_Ntb.tif\"\n",
      "convert \"/media/yuncong/BstemAtlasData/CSHL_data_processed/ChatCryoJane201710/ChatCryoJane201710_prep1_thumbnail_Ntb/ChatCryoJane201710_slide9-S1_prep1_thumbnail_Ntb.tif\" -crop 949x696+509+72  \"/media/yuncong/BstemAtlasData/CSHL_data_processed/ChatCryoJane201710/ChatCryoJane201710_prep2_thumbnail_Ntb/ChatCryoJane201710_slide9-S1_prep2_thumbnail_Ntb.tif\"\n"
     ]
    },
    {
     "name": "stdout",
     "output_type": "stream",
     "text": [
      "convert \"/media/yuncong/BstemAtlasData/CSHL_data_processed/ChatCryoJane201710/ChatCryoJane201710_prep1_thumbnail_Ntb/ChatCryoJane201710_slide10-S1_prep1_thumbnail_Ntb.tif\" -crop 949x696+509+72  \"/media/yuncong/BstemAtlasData/CSHL_data_processed/ChatCryoJane201710/ChatCryoJane201710_prep2_thumbnail_Ntb/ChatCryoJane201710_slide10-S1_prep2_thumbnail_Ntb.tif\"\n",
      "convert \"/media/yuncong/BstemAtlasData/CSHL_data_processed/ChatCryoJane201710/ChatCryoJane201710_prep1_thumbnail_Ntb/ChatCryoJane201710_slide9-S2_prep1_thumbnail_Ntb.tif\" -crop 949x696+509+72  \"/media/yuncong/BstemAtlasData/CSHL_data_processed/ChatCryoJane201710/ChatCryoJane201710_prep2_thumbnail_Ntb/ChatCryoJane201710_slide9-S2_prep2_thumbnail_Ntb.tif\"\n",
      "convert \"/media/yuncong/BstemAtlasData/CSHL_data_processed/ChatCryoJane201710/ChatCryoJane201710_prep1_thumbnail_Ntb/ChatCryoJane201710_slide10-S2_prep1_thumbnail_Ntb.tif\" -crop 949x696+509+72  \"/media/yuncong/BstemAtlasData/CSHL_data_processed/ChatCryoJane201710/ChatCryoJane201710_prep2_thumbnail_Ntb/ChatCryoJane201710_slide10-S2_prep2_thumbnail_Ntb.tif\"\n",
      "convert \"/media/yuncong/BstemAtlasData/CSHL_data_processed/ChatCryoJane201710/ChatCryoJane201710_prep1_thumbnail_Ntb/ChatCryoJane201710_slide9-S3_prep1_thumbnail_Ntb.tif\" -crop 949x696+509+72  \"/media/yuncong/BstemAtlasData/CSHL_data_processed/ChatCryoJane201710/ChatCryoJane201710_prep2_thumbnail_Ntb/ChatCryoJane201710_slide9-S3_prep2_thumbnail_Ntb.tif\"\n",
      "convert \"/media/yuncong/BstemAtlasData/CSHL_data_processed/ChatCryoJane201710/ChatCryoJane201710_prep1_thumbnail_Ntb/ChatCryoJane201710_slide10-S3_prep1_thumbnail_Ntb.tif\" -crop 949x696+509+72  \"/media/yuncong/BstemAtlasData/CSHL_data_processed/ChatCryoJane201710/ChatCryoJane201710_prep2_thumbnail_Ntb/ChatCryoJane201710_slide10-S3_prep2_thumbnail_Ntb.tif\"\n",
      "convert \"/media/yuncong/BstemAtlasData/CSHL_data_processed/ChatCryoJane201710/ChatCryoJane201710_prep1_thumbnail_Ntb/ChatCryoJane201710_slide11-S1_prep1_thumbnail_Ntb.tif\" -crop 949x696+509+72  \"/media/yuncong/BstemAtlasData/CSHL_data_processed/ChatCryoJane201710/ChatCryoJane201710_prep2_thumbnail_Ntb/ChatCryoJane201710_slide11-S1_prep2_thumbnail_Ntb.tif\"\n",
      "convert \"/media/yuncong/BstemAtlasData/CSHL_data_processed/ChatCryoJane201710/ChatCryoJane201710_prep1_thumbnail_Ntb/ChatCryoJane201710_slide12-S1_prep1_thumbnail_Ntb.tif\" -crop 949x696+509+72  \"/media/yuncong/BstemAtlasData/CSHL_data_processed/ChatCryoJane201710/ChatCryoJane201710_prep2_thumbnail_Ntb/ChatCryoJane201710_slide12-S1_prep2_thumbnail_Ntb.tif\"\n",
      "convert \"/media/yuncong/BstemAtlasData/CSHL_data_processed/ChatCryoJane201710/ChatCryoJane201710_prep1_thumbnail_Ntb/ChatCryoJane201710_slide11-S2_prep1_thumbnail_Ntb.tif\" -crop 949x696+509+72  \"/media/yuncong/BstemAtlasData/CSHL_data_processed/ChatCryoJane201710/ChatCryoJane201710_prep2_thumbnail_Ntb/ChatCryoJane201710_slide11-S2_prep2_thumbnail_Ntb.tif\"\n",
      "convert \"/media/yuncong/BstemAtlasData/CSHL_data_processed/ChatCryoJane201710/ChatCryoJane201710_prep1_thumbnail_Ntb/ChatCryoJane201710_slide12-S2_prep1_thumbnail_Ntb.tif\" -crop 949x696+509+72  \"/media/yuncong/BstemAtlasData/CSHL_data_processed/ChatCryoJane201710/ChatCryoJane201710_prep2_thumbnail_Ntb/ChatCryoJane201710_slide12-S2_prep2_thumbnail_Ntb.tif\"\n",
      "convert \"/media/yuncong/BstemAtlasData/CSHL_data_processed/ChatCryoJane201710/ChatCryoJane201710_prep1_thumbnail_Ntb/ChatCryoJane201710_slide11-S3_prep1_thumbnail_Ntb.tif\" -crop 949x696+509+72  \"/media/yuncong/BstemAtlasData/CSHL_data_processed/ChatCryoJane201710/ChatCryoJane201710_prep2_thumbnail_Ntb/ChatCryoJane201710_slide11-S3_prep2_thumbnail_Ntb.tif\"\n",
      "convert \"/media/yuncong/BstemAtlasData/CSHL_data_processed/ChatCryoJane201710/ChatCryoJane201710_prep1_thumbnail_Ntb/ChatCryoJane201710_slide12-S3_prep1_thumbnail_Ntb.tif\" -crop 949x696+509+72  \"/media/yuncong/BstemAtlasData/CSHL_data_processed/ChatCryoJane201710/ChatCryoJane201710_prep2_thumbnail_Ntb/ChatCryoJane201710_slide12-S3_prep2_thumbnail_Ntb.tif\"\n",
      "convert \"/media/yuncong/BstemAtlasData/CSHL_data_processed/ChatCryoJane201710/ChatCryoJane201710_prep1_thumbnail_Ntb/ChatCryoJane201710_slide13-S1_prep1_thumbnail_Ntb.tif\" -crop 949x696+509+72  \"/media/yuncong/BstemAtlasData/CSHL_data_processed/ChatCryoJane201710/ChatCryoJane201710_prep2_thumbnail_Ntb/ChatCryoJane201710_slide13-S1_prep2_thumbnail_Ntb.tif\"\n",
      "convert \"/media/yuncong/BstemAtlasData/CSHL_data_processed/ChatCryoJane201710/ChatCryoJane201710_prep1_thumbnail_Ntb/ChatCryoJane201710_slide14-S1_prep1_thumbnail_Ntb.tif\" -crop 949x696+509+72  \"/media/yuncong/BstemAtlasData/CSHL_data_processed/ChatCryoJane201710/ChatCryoJane201710_prep2_thumbnail_Ntb/ChatCryoJane201710_slide14-S1_prep2_thumbnail_Ntb.tif\"\n",
      "convert \"/media/yuncong/BstemAtlasData/CSHL_data_processed/ChatCryoJane201710/ChatCryoJane201710_prep1_thumbnail_Ntb/ChatCryoJane201710_slide13-S2_prep1_thumbnail_Ntb.tif\" -crop 949x696+509+72  \"/media/yuncong/BstemAtlasData/CSHL_data_processed/ChatCryoJane201710/ChatCryoJane201710_prep2_thumbnail_Ntb/ChatCryoJane201710_slide13-S2_prep2_thumbnail_Ntb.tif\"\n",
      "convert \"/media/yuncong/BstemAtlasData/CSHL_data_processed/ChatCryoJane201710/ChatCryoJane201710_prep1_thumbnail_Ntb/ChatCryoJane201710_slide14-S2_prep1_thumbnail_Ntb.tif\" -crop 949x696+509+72  \"/media/yuncong/BstemAtlasData/CSHL_data_processed/ChatCryoJane201710/ChatCryoJane201710_prep2_thumbnail_Ntb/ChatCryoJane201710_slide14-S2_prep2_thumbnail_Ntb.tif\"\n",
      "convert \"/media/yuncong/BstemAtlasData/CSHL_data_processed/ChatCryoJane201710/ChatCryoJane201710_prep1_thumbnail_Ntb/ChatCryoJane201710_slide13-S3_prep1_thumbnail_Ntb.tif\" -crop 949x696+509+72  \"/media/yuncong/BstemAtlasData/CSHL_data_processed/ChatCryoJane201710/ChatCryoJane201710_prep2_thumbnail_Ntb/ChatCryoJane201710_slide13-S3_prep2_thumbnail_Ntb.tif\"\n",
      "convert \"/media/yuncong/BstemAtlasData/CSHL_data_processed/ChatCryoJane201710/ChatCryoJane201710_prep1_thumbnail_Ntb/ChatCryoJane201710_slide14-S3_prep1_thumbnail_Ntb.tif\" -crop 949x696+509+72  \"/media/yuncong/BstemAtlasData/CSHL_data_processed/ChatCryoJane201710/ChatCryoJane201710_prep2_thumbnail_Ntb/ChatCryoJane201710_slide14-S3_prep2_thumbnail_Ntb.tif\"\n",
      "convert \"/media/yuncong/BstemAtlasData/CSHL_data_processed/ChatCryoJane201710/ChatCryoJane201710_prep1_thumbnail_Ntb/ChatCryoJane201710_slide15-S1_prep1_thumbnail_Ntb.tif\" -crop 949x696+509+72  \"/media/yuncong/BstemAtlasData/CSHL_data_processed/ChatCryoJane201710/ChatCryoJane201710_prep2_thumbnail_Ntb/ChatCryoJane201710_slide15-S1_prep2_thumbnail_Ntb.tif\"\n",
      "convert \"/media/yuncong/BstemAtlasData/CSHL_data_processed/ChatCryoJane201710/ChatCryoJane201710_prep1_thumbnail_Ntb/ChatCryoJane201710_slide16-S1_prep1_thumbnail_Ntb.tif\" -crop 949x696+509+72  \"/media/yuncong/BstemAtlasData/CSHL_data_processed/ChatCryoJane201710/ChatCryoJane201710_prep2_thumbnail_Ntb/ChatCryoJane201710_slide16-S1_prep2_thumbnail_Ntb.tif\"\n",
      "convert \"/media/yuncong/BstemAtlasData/CSHL_data_processed/ChatCryoJane201710/ChatCryoJane201710_prep1_thumbnail_Ntb/ChatCryoJane201710_slide15-S2_prep1_thumbnail_Ntb.tif\" -crop 949x696+509+72  \"/media/yuncong/BstemAtlasData/CSHL_data_processed/ChatCryoJane201710/ChatCryoJane201710_prep2_thumbnail_Ntb/ChatCryoJane201710_slide15-S2_prep2_thumbnail_Ntb.tif\"\n",
      "convert \"/media/yuncong/BstemAtlasData/CSHL_data_processed/ChatCryoJane201710/ChatCryoJane201710_prep1_thumbnail_Ntb/ChatCryoJane201710_slide16-S2_prep1_thumbnail_Ntb.tif\" -crop 949x696+509+72  \"/media/yuncong/BstemAtlasData/CSHL_data_processed/ChatCryoJane201710/ChatCryoJane201710_prep2_thumbnail_Ntb/ChatCryoJane201710_slide16-S2_prep2_thumbnail_Ntb.tif\"\n",
      "convert \"/media/yuncong/BstemAtlasData/CSHL_data_processed/ChatCryoJane201710/ChatCryoJane201710_prep1_thumbnail_Ntb/ChatCryoJane201710_slide15-S3_prep1_thumbnail_Ntb.tif\" -crop 949x696+509+72  \"/media/yuncong/BstemAtlasData/CSHL_data_processed/ChatCryoJane201710/ChatCryoJane201710_prep2_thumbnail_Ntb/ChatCryoJane201710_slide15-S3_prep2_thumbnail_Ntb.tif\"\n",
      "convert \"/media/yuncong/BstemAtlasData/CSHL_data_processed/ChatCryoJane201710/ChatCryoJane201710_prep1_thumbnail_Ntb/ChatCryoJane201710_slide16-S3_prep1_thumbnail_Ntb.tif\" -crop 949x696+509+72  \"/media/yuncong/BstemAtlasData/CSHL_data_processed/ChatCryoJane201710/ChatCryoJane201710_prep2_thumbnail_Ntb/ChatCryoJane201710_slide16-S3_prep2_thumbnail_Ntb.tif\"\n",
      "convert \"/media/yuncong/BstemAtlasData/CSHL_data_processed/ChatCryoJane201710/ChatCryoJane201710_prep1_thumbnail_Ntb/ChatCryoJane201710_slide17-S1_prep1_thumbnail_Ntb.tif\" -crop 949x696+509+72  \"/media/yuncong/BstemAtlasData/CSHL_data_processed/ChatCryoJane201710/ChatCryoJane201710_prep2_thumbnail_Ntb/ChatCryoJane201710_slide17-S1_prep2_thumbnail_Ntb.tif\"\n"
     ]
    },
    {
     "name": "stdout",
     "output_type": "stream",
     "text": [
      "convert \"/media/yuncong/BstemAtlasData/CSHL_data_processed/ChatCryoJane201710/ChatCryoJane201710_prep1_thumbnail_Ntb/ChatCryoJane201710_slide18-S1_prep1_thumbnail_Ntb.tif\" -crop 949x696+509+72  \"/media/yuncong/BstemAtlasData/CSHL_data_processed/ChatCryoJane201710/ChatCryoJane201710_prep2_thumbnail_Ntb/ChatCryoJane201710_slide18-S1_prep2_thumbnail_Ntb.tif\"\n",
      "convert \"/media/yuncong/BstemAtlasData/CSHL_data_processed/ChatCryoJane201710/ChatCryoJane201710_prep1_thumbnail_Ntb/ChatCryoJane201710_slide17-S2_prep1_thumbnail_Ntb.tif\" -crop 949x696+509+72  \"/media/yuncong/BstemAtlasData/CSHL_data_processed/ChatCryoJane201710/ChatCryoJane201710_prep2_thumbnail_Ntb/ChatCryoJane201710_slide17-S2_prep2_thumbnail_Ntb.tif\"\n",
      "convert \"/media/yuncong/BstemAtlasData/CSHL_data_processed/ChatCryoJane201710/ChatCryoJane201710_prep1_thumbnail_Ntb/ChatCryoJane201710_slide18-S2_prep1_thumbnail_Ntb.tif\" -crop 949x696+509+72  \"/media/yuncong/BstemAtlasData/CSHL_data_processed/ChatCryoJane201710/ChatCryoJane201710_prep2_thumbnail_Ntb/ChatCryoJane201710_slide18-S2_prep2_thumbnail_Ntb.tif\"\n",
      "convert \"/media/yuncong/BstemAtlasData/CSHL_data_processed/ChatCryoJane201710/ChatCryoJane201710_prep1_thumbnail_Ntb/ChatCryoJane201710_slide17-S3_prep1_thumbnail_Ntb.tif\" -crop 949x696+509+72  \"/media/yuncong/BstemAtlasData/CSHL_data_processed/ChatCryoJane201710/ChatCryoJane201710_prep2_thumbnail_Ntb/ChatCryoJane201710_slide17-S3_prep2_thumbnail_Ntb.tif\"\n",
      "convert \"/media/yuncong/BstemAtlasData/CSHL_data_processed/ChatCryoJane201710/ChatCryoJane201710_prep1_thumbnail_Ntb/ChatCryoJane201710_slide18-S3_prep1_thumbnail_Ntb.tif\" -crop 949x696+509+72  \"/media/yuncong/BstemAtlasData/CSHL_data_processed/ChatCryoJane201710/ChatCryoJane201710_prep2_thumbnail_Ntb/ChatCryoJane201710_slide18-S3_prep2_thumbnail_Ntb.tif\"\n",
      "convert \"/media/yuncong/BstemAtlasData/CSHL_data_processed/ChatCryoJane201710/ChatCryoJane201710_prep1_thumbnail_Ntb/ChatCryoJane201710_slide19-S1_prep1_thumbnail_Ntb.tif\" -crop 949x696+509+72  \"/media/yuncong/BstemAtlasData/CSHL_data_processed/ChatCryoJane201710/ChatCryoJane201710_prep2_thumbnail_Ntb/ChatCryoJane201710_slide19-S1_prep2_thumbnail_Ntb.tif\"\n",
      "convert \"/media/yuncong/BstemAtlasData/CSHL_data_processed/ChatCryoJane201710/ChatCryoJane201710_prep1_thumbnail_Ntb/ChatCryoJane201710_slide20-S1_prep1_thumbnail_Ntb.tif\" -crop 949x696+509+72  \"/media/yuncong/BstemAtlasData/CSHL_data_processed/ChatCryoJane201710/ChatCryoJane201710_prep2_thumbnail_Ntb/ChatCryoJane201710_slide20-S1_prep2_thumbnail_Ntb.tif\"\n",
      "convert \"/media/yuncong/BstemAtlasData/CSHL_data_processed/ChatCryoJane201710/ChatCryoJane201710_prep1_thumbnail_Ntb/ChatCryoJane201710_slide19-S2_prep1_thumbnail_Ntb.tif\" -crop 949x696+509+72  \"/media/yuncong/BstemAtlasData/CSHL_data_processed/ChatCryoJane201710/ChatCryoJane201710_prep2_thumbnail_Ntb/ChatCryoJane201710_slide19-S2_prep2_thumbnail_Ntb.tif\"\n",
      "convert \"/media/yuncong/BstemAtlasData/CSHL_data_processed/ChatCryoJane201710/ChatCryoJane201710_prep1_thumbnail_Ntb/ChatCryoJane201710_slide20-S2_prep1_thumbnail_Ntb.tif\" -crop 949x696+509+72  \"/media/yuncong/BstemAtlasData/CSHL_data_processed/ChatCryoJane201710/ChatCryoJane201710_prep2_thumbnail_Ntb/ChatCryoJane201710_slide20-S2_prep2_thumbnail_Ntb.tif\"\n",
      "convert \"/media/yuncong/BstemAtlasData/CSHL_data_processed/ChatCryoJane201710/ChatCryoJane201710_prep1_thumbnail_Ntb/ChatCryoJane201710_slide19-S3_prep1_thumbnail_Ntb.tif\" -crop 949x696+509+72  \"/media/yuncong/BstemAtlasData/CSHL_data_processed/ChatCryoJane201710/ChatCryoJane201710_prep2_thumbnail_Ntb/ChatCryoJane201710_slide19-S3_prep2_thumbnail_Ntb.tif\"\n",
      "convert \"/media/yuncong/BstemAtlasData/CSHL_data_processed/ChatCryoJane201710/ChatCryoJane201710_prep1_thumbnail_Ntb/ChatCryoJane201710_slide20-S3_prep1_thumbnail_Ntb.tif\" -crop 949x696+509+72  \"/media/yuncong/BstemAtlasData/CSHL_data_processed/ChatCryoJane201710/ChatCryoJane201710_prep2_thumbnail_Ntb/ChatCryoJane201710_slide20-S3_prep2_thumbnail_Ntb.tif\"\n",
      "convert \"/media/yuncong/BstemAtlasData/CSHL_data_processed/ChatCryoJane201710/ChatCryoJane201710_prep1_thumbnail_Ntb/ChatCryoJane201710_slide21-S1_prep1_thumbnail_Ntb.tif\" -crop 949x696+509+72  \"/media/yuncong/BstemAtlasData/CSHL_data_processed/ChatCryoJane201710/ChatCryoJane201710_prep2_thumbnail_Ntb/ChatCryoJane201710_slide21-S1_prep2_thumbnail_Ntb.tif\"\n",
      "convert \"/media/yuncong/BstemAtlasData/CSHL_data_processed/ChatCryoJane201710/ChatCryoJane201710_prep1_thumbnail_Ntb/ChatCryoJane201710_slide22-S1_prep1_thumbnail_Ntb.tif\" -crop 949x696+509+72  \"/media/yuncong/BstemAtlasData/CSHL_data_processed/ChatCryoJane201710/ChatCryoJane201710_prep2_thumbnail_Ntb/ChatCryoJane201710_slide22-S1_prep2_thumbnail_Ntb.tif\"\n",
      "convert \"/media/yuncong/BstemAtlasData/CSHL_data_processed/ChatCryoJane201710/ChatCryoJane201710_prep1_thumbnail_Ntb/ChatCryoJane201710_slide21-S2_prep1_thumbnail_Ntb.tif\" -crop 949x696+509+72  \"/media/yuncong/BstemAtlasData/CSHL_data_processed/ChatCryoJane201710/ChatCryoJane201710_prep2_thumbnail_Ntb/ChatCryoJane201710_slide21-S2_prep2_thumbnail_Ntb.tif\"\n",
      "convert \"/media/yuncong/BstemAtlasData/CSHL_data_processed/ChatCryoJane201710/ChatCryoJane201710_prep1_thumbnail_Ntb/ChatCryoJane201710_slide22-S2_prep1_thumbnail_Ntb.tif\" -crop 949x696+509+72  \"/media/yuncong/BstemAtlasData/CSHL_data_processed/ChatCryoJane201710/ChatCryoJane201710_prep2_thumbnail_Ntb/ChatCryoJane201710_slide22-S2_prep2_thumbnail_Ntb.tif\"\n",
      "convert \"/media/yuncong/BstemAtlasData/CSHL_data_processed/ChatCryoJane201710/ChatCryoJane201710_prep1_thumbnail_Ntb/ChatCryoJane201710_slide21-S3_prep1_thumbnail_Ntb.tif\" -crop 949x696+509+72  \"/media/yuncong/BstemAtlasData/CSHL_data_processed/ChatCryoJane201710/ChatCryoJane201710_prep2_thumbnail_Ntb/ChatCryoJane201710_slide21-S3_prep2_thumbnail_Ntb.tif\"\n",
      "convert \"/media/yuncong/BstemAtlasData/CSHL_data_processed/ChatCryoJane201710/ChatCryoJane201710_prep1_thumbnail_Ntb/ChatCryoJane201710_slide22-S3_prep1_thumbnail_Ntb.tif\" -crop 949x696+509+72  \"/media/yuncong/BstemAtlasData/CSHL_data_processed/ChatCryoJane201710/ChatCryoJane201710_prep2_thumbnail_Ntb/ChatCryoJane201710_slide22-S3_prep2_thumbnail_Ntb.tif\"\n",
      "convert \"/media/yuncong/BstemAtlasData/CSHL_data_processed/ChatCryoJane201710/ChatCryoJane201710_prep1_thumbnail_Ntb/ChatCryoJane201710_slide23-S1_prep1_thumbnail_Ntb.tif\" -crop 949x696+509+72  \"/media/yuncong/BstemAtlasData/CSHL_data_processed/ChatCryoJane201710/ChatCryoJane201710_prep2_thumbnail_Ntb/ChatCryoJane201710_slide23-S1_prep2_thumbnail_Ntb.tif\"\n",
      "convert \"/media/yuncong/BstemAtlasData/CSHL_data_processed/ChatCryoJane201710/ChatCryoJane201710_prep1_thumbnail_Ntb/ChatCryoJane201710_slide24-S1_prep1_thumbnail_Ntb.tif\" -crop 949x696+509+72  \"/media/yuncong/BstemAtlasData/CSHL_data_processed/ChatCryoJane201710/ChatCryoJane201710_prep2_thumbnail_Ntb/ChatCryoJane201710_slide24-S1_prep2_thumbnail_Ntb.tif\"\n",
      "convert \"/media/yuncong/BstemAtlasData/CSHL_data_processed/ChatCryoJane201710/ChatCryoJane201710_prep1_thumbnail_Ntb/ChatCryoJane201710_slide23-S2_prep1_thumbnail_Ntb.tif\" -crop 949x696+509+72  \"/media/yuncong/BstemAtlasData/CSHL_data_processed/ChatCryoJane201710/ChatCryoJane201710_prep2_thumbnail_Ntb/ChatCryoJane201710_slide23-S2_prep2_thumbnail_Ntb.tif\"\n",
      "convert \"/media/yuncong/BstemAtlasData/CSHL_data_processed/ChatCryoJane201710/ChatCryoJane201710_prep1_thumbnail_Ntb/ChatCryoJane201710_slide24-S2_prep1_thumbnail_Ntb.tif\" -crop 949x696+509+72  \"/media/yuncong/BstemAtlasData/CSHL_data_processed/ChatCryoJane201710/ChatCryoJane201710_prep2_thumbnail_Ntb/ChatCryoJane201710_slide24-S2_prep2_thumbnail_Ntb.tif\"\n",
      "convert \"/media/yuncong/BstemAtlasData/CSHL_data_processed/ChatCryoJane201710/ChatCryoJane201710_prep1_thumbnail_Ntb/ChatCryoJane201710_slide23-S3_prep1_thumbnail_Ntb.tif\" -crop 949x696+509+72  \"/media/yuncong/BstemAtlasData/CSHL_data_processed/ChatCryoJane201710/ChatCryoJane201710_prep2_thumbnail_Ntb/ChatCryoJane201710_slide23-S3_prep2_thumbnail_Ntb.tif\"\n",
      "convert \"/media/yuncong/BstemAtlasData/CSHL_data_processed/ChatCryoJane201710/ChatCryoJane201710_prep1_thumbnail_Ntb/ChatCryoJane201710_slide24-S3_prep1_thumbnail_Ntb.tif\" -crop 949x696+509+72  \"/media/yuncong/BstemAtlasData/CSHL_data_processed/ChatCryoJane201710/ChatCryoJane201710_prep2_thumbnail_Ntb/ChatCryoJane201710_slide24-S3_prep2_thumbnail_Ntb.tif\"\n",
      "convert \"/media/yuncong/BstemAtlasData/CSHL_data_processed/ChatCryoJane201710/ChatCryoJane201710_prep1_thumbnail_Ntb/ChatCryoJane201710_slide25-S1_prep1_thumbnail_Ntb.tif\" -crop 949x696+509+72  \"/media/yuncong/BstemAtlasData/CSHL_data_processed/ChatCryoJane201710/ChatCryoJane201710_prep2_thumbnail_Ntb/ChatCryoJane201710_slide25-S1_prep2_thumbnail_Ntb.tif\"\n"
     ]
    },
    {
     "name": "stdout",
     "output_type": "stream",
     "text": [
      "convert \"/media/yuncong/BstemAtlasData/CSHL_data_processed/ChatCryoJane201710/ChatCryoJane201710_prep1_thumbnail_Ntb/ChatCryoJane201710_slide26-S1_prep1_thumbnail_Ntb.tif\" -crop 949x696+509+72  \"/media/yuncong/BstemAtlasData/CSHL_data_processed/ChatCryoJane201710/ChatCryoJane201710_prep2_thumbnail_Ntb/ChatCryoJane201710_slide26-S1_prep2_thumbnail_Ntb.tif\"\n",
      "convert \"/media/yuncong/BstemAtlasData/CSHL_data_processed/ChatCryoJane201710/ChatCryoJane201710_prep1_thumbnail_Ntb/ChatCryoJane201710_slide25-S2_prep1_thumbnail_Ntb.tif\" -crop 949x696+509+72  \"/media/yuncong/BstemAtlasData/CSHL_data_processed/ChatCryoJane201710/ChatCryoJane201710_prep2_thumbnail_Ntb/ChatCryoJane201710_slide25-S2_prep2_thumbnail_Ntb.tif\"\n",
      "convert \"/media/yuncong/BstemAtlasData/CSHL_data_processed/ChatCryoJane201710/ChatCryoJane201710_prep1_thumbnail_Ntb/ChatCryoJane201710_slide26-S2_prep1_thumbnail_Ntb.tif\" -crop 949x696+509+72  \"/media/yuncong/BstemAtlasData/CSHL_data_processed/ChatCryoJane201710/ChatCryoJane201710_prep2_thumbnail_Ntb/ChatCryoJane201710_slide26-S2_prep2_thumbnail_Ntb.tif\"\n",
      "convert \"/media/yuncong/BstemAtlasData/CSHL_data_processed/ChatCryoJane201710/ChatCryoJane201710_prep1_thumbnail_Ntb/ChatCryoJane201710_slide25-S3_prep1_thumbnail_Ntb.tif\" -crop 949x696+509+72  \"/media/yuncong/BstemAtlasData/CSHL_data_processed/ChatCryoJane201710/ChatCryoJane201710_prep2_thumbnail_Ntb/ChatCryoJane201710_slide25-S3_prep2_thumbnail_Ntb.tif\"\n",
      "convert \"/media/yuncong/BstemAtlasData/CSHL_data_processed/ChatCryoJane201710/ChatCryoJane201710_prep1_thumbnail_Ntb/ChatCryoJane201710_slide26-S3_prep1_thumbnail_Ntb.tif\" -crop 949x696+509+72  \"/media/yuncong/BstemAtlasData/CSHL_data_processed/ChatCryoJane201710/ChatCryoJane201710_prep2_thumbnail_Ntb/ChatCryoJane201710_slide26-S3_prep2_thumbnail_Ntb.tif\"\n",
      "convert \"/media/yuncong/BstemAtlasData/CSHL_data_processed/ChatCryoJane201710/ChatCryoJane201710_prep1_thumbnail_Ntb/ChatCryoJane201710_slide27-S1_prep1_thumbnail_Ntb.tif\" -crop 949x696+509+72  \"/media/yuncong/BstemAtlasData/CSHL_data_processed/ChatCryoJane201710/ChatCryoJane201710_prep2_thumbnail_Ntb/ChatCryoJane201710_slide27-S1_prep2_thumbnail_Ntb.tif\"\n",
      "convert \"/media/yuncong/BstemAtlasData/CSHL_data_processed/ChatCryoJane201710/ChatCryoJane201710_prep1_thumbnail_Ntb/ChatCryoJane201710_slide28-S1_prep1_thumbnail_Ntb.tif\" -crop 949x696+509+72  \"/media/yuncong/BstemAtlasData/CSHL_data_processed/ChatCryoJane201710/ChatCryoJane201710_prep2_thumbnail_Ntb/ChatCryoJane201710_slide28-S1_prep2_thumbnail_Ntb.tif\"\n",
      "convert \"/media/yuncong/BstemAtlasData/CSHL_data_processed/ChatCryoJane201710/ChatCryoJane201710_prep1_thumbnail_Ntb/ChatCryoJane201710_slide27-S2_prep1_thumbnail_Ntb.tif\" -crop 949x696+509+72  \"/media/yuncong/BstemAtlasData/CSHL_data_processed/ChatCryoJane201710/ChatCryoJane201710_prep2_thumbnail_Ntb/ChatCryoJane201710_slide27-S2_prep2_thumbnail_Ntb.tif\"\n",
      "convert \"/media/yuncong/BstemAtlasData/CSHL_data_processed/ChatCryoJane201710/ChatCryoJane201710_prep1_thumbnail_Ntb/ChatCryoJane201710_slide28-S2_prep1_thumbnail_Ntb.tif\" -crop 949x696+509+72  \"/media/yuncong/BstemAtlasData/CSHL_data_processed/ChatCryoJane201710/ChatCryoJane201710_prep2_thumbnail_Ntb/ChatCryoJane201710_slide28-S2_prep2_thumbnail_Ntb.tif\"\n",
      "convert \"/media/yuncong/BstemAtlasData/CSHL_data_processed/ChatCryoJane201710/ChatCryoJane201710_prep1_thumbnail_Ntb/ChatCryoJane201710_slide27-S3_prep1_thumbnail_Ntb.tif\" -crop 949x696+509+72  \"/media/yuncong/BstemAtlasData/CSHL_data_processed/ChatCryoJane201710/ChatCryoJane201710_prep2_thumbnail_Ntb/ChatCryoJane201710_slide27-S3_prep2_thumbnail_Ntb.tif\"\n",
      "convert \"/media/yuncong/BstemAtlasData/CSHL_data_processed/ChatCryoJane201710/ChatCryoJane201710_prep1_thumbnail_Ntb/ChatCryoJane201710_slide28-S3_prep1_thumbnail_Ntb.tif\" -crop 949x696+509+72  \"/media/yuncong/BstemAtlasData/CSHL_data_processed/ChatCryoJane201710/ChatCryoJane201710_prep2_thumbnail_Ntb/ChatCryoJane201710_slide28-S3_prep2_thumbnail_Ntb.tif\"\n",
      "convert \"/media/yuncong/BstemAtlasData/CSHL_data_processed/ChatCryoJane201710/ChatCryoJane201710_prep1_thumbnail_Ntb/ChatCryoJane201710_slide29-S1_prep1_thumbnail_Ntb.tif\" -crop 949x696+509+72  \"/media/yuncong/BstemAtlasData/CSHL_data_processed/ChatCryoJane201710/ChatCryoJane201710_prep2_thumbnail_Ntb/ChatCryoJane201710_slide29-S1_prep2_thumbnail_Ntb.tif\"\n",
      "convert \"/media/yuncong/BstemAtlasData/CSHL_data_processed/ChatCryoJane201710/ChatCryoJane201710_prep1_thumbnail_Ntb/ChatCryoJane201710_slide30-S1_prep1_thumbnail_Ntb.tif\" -crop 949x696+509+72  \"/media/yuncong/BstemAtlasData/CSHL_data_processed/ChatCryoJane201710/ChatCryoJane201710_prep2_thumbnail_Ntb/ChatCryoJane201710_slide30-S1_prep2_thumbnail_Ntb.tif\"\n",
      "convert \"/media/yuncong/BstemAtlasData/CSHL_data_processed/ChatCryoJane201710/ChatCryoJane201710_prep1_thumbnail_Ntb/ChatCryoJane201710_slide29-S2_prep1_thumbnail_Ntb.tif\" -crop 949x696+509+72  \"/media/yuncong/BstemAtlasData/CSHL_data_processed/ChatCryoJane201710/ChatCryoJane201710_prep2_thumbnail_Ntb/ChatCryoJane201710_slide29-S2_prep2_thumbnail_Ntb.tif\"\n",
      "convert \"/media/yuncong/BstemAtlasData/CSHL_data_processed/ChatCryoJane201710/ChatCryoJane201710_prep1_thumbnail_Ntb/ChatCryoJane201710_slide30-S2_prep1_thumbnail_Ntb.tif\" -crop 949x696+509+72  \"/media/yuncong/BstemAtlasData/CSHL_data_processed/ChatCryoJane201710/ChatCryoJane201710_prep2_thumbnail_Ntb/ChatCryoJane201710_slide30-S2_prep2_thumbnail_Ntb.tif\"\n",
      "convert \"/media/yuncong/BstemAtlasData/CSHL_data_processed/ChatCryoJane201710/ChatCryoJane201710_prep1_thumbnail_Ntb/ChatCryoJane201710_slide29-S3_prep1_thumbnail_Ntb.tif\" -crop 949x696+509+72  \"/media/yuncong/BstemAtlasData/CSHL_data_processed/ChatCryoJane201710/ChatCryoJane201710_prep2_thumbnail_Ntb/ChatCryoJane201710_slide29-S3_prep2_thumbnail_Ntb.tif\"\n",
      "convert \"/media/yuncong/BstemAtlasData/CSHL_data_processed/ChatCryoJane201710/ChatCryoJane201710_prep1_thumbnail_Ntb/ChatCryoJane201710_slide30-S3_prep1_thumbnail_Ntb.tif\" -crop 949x696+509+72  \"/media/yuncong/BstemAtlasData/CSHL_data_processed/ChatCryoJane201710/ChatCryoJane201710_prep2_thumbnail_Ntb/ChatCryoJane201710_slide30-S3_prep2_thumbnail_Ntb.tif\"\n",
      "convert \"/media/yuncong/BstemAtlasData/CSHL_data_processed/ChatCryoJane201710/ChatCryoJane201710_prep1_thumbnail_Ntb/ChatCryoJane201710_slide31-S1_prep1_thumbnail_Ntb.tif\" -crop 949x696+509+72  \"/media/yuncong/BstemAtlasData/CSHL_data_processed/ChatCryoJane201710/ChatCryoJane201710_prep2_thumbnail_Ntb/ChatCryoJane201710_slide31-S1_prep2_thumbnail_Ntb.tif\"\n",
      "convert \"/media/yuncong/BstemAtlasData/CSHL_data_processed/ChatCryoJane201710/ChatCryoJane201710_prep1_thumbnail_Ntb/ChatCryoJane201710_slide32-S1_prep1_thumbnail_Ntb.tif\" -crop 949x696+509+72  \"/media/yuncong/BstemAtlasData/CSHL_data_processed/ChatCryoJane201710/ChatCryoJane201710_prep2_thumbnail_Ntb/ChatCryoJane201710_slide32-S1_prep2_thumbnail_Ntb.tif\"\n",
      "convert \"/media/yuncong/BstemAtlasData/CSHL_data_processed/ChatCryoJane201710/ChatCryoJane201710_prep1_thumbnail_Ntb/ChatCryoJane201710_slide31-S2_prep1_thumbnail_Ntb.tif\" -crop 949x696+509+72  \"/media/yuncong/BstemAtlasData/CSHL_data_processed/ChatCryoJane201710/ChatCryoJane201710_prep2_thumbnail_Ntb/ChatCryoJane201710_slide31-S2_prep2_thumbnail_Ntb.tif\"\n",
      "convert \"/media/yuncong/BstemAtlasData/CSHL_data_processed/ChatCryoJane201710/ChatCryoJane201710_prep1_thumbnail_Ntb/ChatCryoJane201710_slide32-S2_prep1_thumbnail_Ntb.tif\" -crop 949x696+509+72  \"/media/yuncong/BstemAtlasData/CSHL_data_processed/ChatCryoJane201710/ChatCryoJane201710_prep2_thumbnail_Ntb/ChatCryoJane201710_slide32-S2_prep2_thumbnail_Ntb.tif\"\n",
      "convert \"/media/yuncong/BstemAtlasData/CSHL_data_processed/ChatCryoJane201710/ChatCryoJane201710_prep1_thumbnail_Ntb/ChatCryoJane201710_slide31-S3_prep1_thumbnail_Ntb.tif\" -crop 949x696+509+72  \"/media/yuncong/BstemAtlasData/CSHL_data_processed/ChatCryoJane201710/ChatCryoJane201710_prep2_thumbnail_Ntb/ChatCryoJane201710_slide31-S3_prep2_thumbnail_Ntb.tif\"\n",
      "convert \"/media/yuncong/BstemAtlasData/CSHL_data_processed/ChatCryoJane201710/ChatCryoJane201710_prep1_thumbnail_Ntb/ChatCryoJane201710_slide32-S3_prep1_thumbnail_Ntb.tif\" -crop 949x696+509+72  \"/media/yuncong/BstemAtlasData/CSHL_data_processed/ChatCryoJane201710/ChatCryoJane201710_prep2_thumbnail_Ntb/ChatCryoJane201710_slide32-S3_prep2_thumbnail_Ntb.tif\"\n",
      "convert \"/media/yuncong/BstemAtlasData/CSHL_data_processed/ChatCryoJane201710/ChatCryoJane201710_prep1_thumbnail_Ntb/ChatCryoJane201710_slide33-S1_prep1_thumbnail_Ntb.tif\" -crop 949x696+509+72  \"/media/yuncong/BstemAtlasData/CSHL_data_processed/ChatCryoJane201710/ChatCryoJane201710_prep2_thumbnail_Ntb/ChatCryoJane201710_slide33-S1_prep2_thumbnail_Ntb.tif\"\n"
     ]
    },
    {
     "name": "stdout",
     "output_type": "stream",
     "text": [
      "convert \"/media/yuncong/BstemAtlasData/CSHL_data_processed/ChatCryoJane201710/ChatCryoJane201710_prep1_thumbnail_Ntb/ChatCryoJane201710_slide34-S1_prep1_thumbnail_Ntb.tif\" -crop 949x696+509+72  \"/media/yuncong/BstemAtlasData/CSHL_data_processed/ChatCryoJane201710/ChatCryoJane201710_prep2_thumbnail_Ntb/ChatCryoJane201710_slide34-S1_prep2_thumbnail_Ntb.tif\"\n",
      "convert \"/media/yuncong/BstemAtlasData/CSHL_data_processed/ChatCryoJane201710/ChatCryoJane201710_prep1_thumbnail_Ntb/ChatCryoJane201710_slide33-S2_prep1_thumbnail_Ntb.tif\" -crop 949x696+509+72  \"/media/yuncong/BstemAtlasData/CSHL_data_processed/ChatCryoJane201710/ChatCryoJane201710_prep2_thumbnail_Ntb/ChatCryoJane201710_slide33-S2_prep2_thumbnail_Ntb.tif\"\n",
      "convert \"/media/yuncong/BstemAtlasData/CSHL_data_processed/ChatCryoJane201710/ChatCryoJane201710_prep1_thumbnail_Ntb/ChatCryoJane201710_slide34-S2_prep1_thumbnail_Ntb.tif\" -crop 949x696+509+72  \"/media/yuncong/BstemAtlasData/CSHL_data_processed/ChatCryoJane201710/ChatCryoJane201710_prep2_thumbnail_Ntb/ChatCryoJane201710_slide34-S2_prep2_thumbnail_Ntb.tif\"\n",
      "convert \"/media/yuncong/BstemAtlasData/CSHL_data_processed/ChatCryoJane201710/ChatCryoJane201710_prep1_thumbnail_Ntb/ChatCryoJane201710_slide33-S3_prep1_thumbnail_Ntb.tif\" -crop 949x696+509+72  \"/media/yuncong/BstemAtlasData/CSHL_data_processed/ChatCryoJane201710/ChatCryoJane201710_prep2_thumbnail_Ntb/ChatCryoJane201710_slide33-S3_prep2_thumbnail_Ntb.tif\"\n",
      "convert \"/media/yuncong/BstemAtlasData/CSHL_data_processed/ChatCryoJane201710/ChatCryoJane201710_prep1_thumbnail_Ntb/ChatCryoJane201710_slide34-S3_prep1_thumbnail_Ntb.tif\" -crop 949x696+509+72  \"/media/yuncong/BstemAtlasData/CSHL_data_processed/ChatCryoJane201710/ChatCryoJane201710_prep2_thumbnail_Ntb/ChatCryoJane201710_slide34-S3_prep2_thumbnail_Ntb.tif\"\n",
      "convert \"/media/yuncong/BstemAtlasData/CSHL_data_processed/ChatCryoJane201710/ChatCryoJane201710_prep1_thumbnail_Ntb/ChatCryoJane201710_slide35-S1_prep1_thumbnail_Ntb.tif\" -crop 949x696+509+72  \"/media/yuncong/BstemAtlasData/CSHL_data_processed/ChatCryoJane201710/ChatCryoJane201710_prep2_thumbnail_Ntb/ChatCryoJane201710_slide35-S1_prep2_thumbnail_Ntb.tif\"\n",
      "convert \"/media/yuncong/BstemAtlasData/CSHL_data_processed/ChatCryoJane201710/ChatCryoJane201710_prep1_thumbnail_Ntb/ChatCryoJane201710_slide36-S1_prep1_thumbnail_Ntb.tif\" -crop 949x696+509+72  \"/media/yuncong/BstemAtlasData/CSHL_data_processed/ChatCryoJane201710/ChatCryoJane201710_prep2_thumbnail_Ntb/ChatCryoJane201710_slide36-S1_prep2_thumbnail_Ntb.tif\"\n",
      "convert \"/media/yuncong/BstemAtlasData/CSHL_data_processed/ChatCryoJane201710/ChatCryoJane201710_prep1_thumbnail_Ntb/ChatCryoJane201710_slide35-S2_prep1_thumbnail_Ntb.tif\" -crop 949x696+509+72  \"/media/yuncong/BstemAtlasData/CSHL_data_processed/ChatCryoJane201710/ChatCryoJane201710_prep2_thumbnail_Ntb/ChatCryoJane201710_slide35-S2_prep2_thumbnail_Ntb.tif\"\n",
      "convert \"/media/yuncong/BstemAtlasData/CSHL_data_processed/ChatCryoJane201710/ChatCryoJane201710_prep1_thumbnail_Ntb/ChatCryoJane201710_slide36-S2_prep1_thumbnail_Ntb.tif\" -crop 949x696+509+72  \"/media/yuncong/BstemAtlasData/CSHL_data_processed/ChatCryoJane201710/ChatCryoJane201710_prep2_thumbnail_Ntb/ChatCryoJane201710_slide36-S2_prep2_thumbnail_Ntb.tif\"\n",
      "convert \"/media/yuncong/BstemAtlasData/CSHL_data_processed/ChatCryoJane201710/ChatCryoJane201710_prep1_thumbnail_Ntb/ChatCryoJane201710_slide35-S3_prep1_thumbnail_Ntb.tif\" -crop 949x696+509+72  \"/media/yuncong/BstemAtlasData/CSHL_data_processed/ChatCryoJane201710/ChatCryoJane201710_prep2_thumbnail_Ntb/ChatCryoJane201710_slide35-S3_prep2_thumbnail_Ntb.tif\"\n",
      "convert \"/media/yuncong/BstemAtlasData/CSHL_data_processed/ChatCryoJane201710/ChatCryoJane201710_prep1_thumbnail_Ntb/ChatCryoJane201710_slide36-S3_prep1_thumbnail_Ntb.tif\" -crop 949x696+509+72  \"/media/yuncong/BstemAtlasData/CSHL_data_processed/ChatCryoJane201710/ChatCryoJane201710_prep2_thumbnail_Ntb/ChatCryoJane201710_slide36-S3_prep2_thumbnail_Ntb.tif\"\n",
      "convert \"/media/yuncong/BstemAtlasData/CSHL_data_processed/ChatCryoJane201710/ChatCryoJane201710_prep1_thumbnail_Ntb/ChatCryoJane201710_slide37-S1_prep1_thumbnail_Ntb.tif\" -crop 949x696+509+72  \"/media/yuncong/BstemAtlasData/CSHL_data_processed/ChatCryoJane201710/ChatCryoJane201710_prep2_thumbnail_Ntb/ChatCryoJane201710_slide37-S1_prep2_thumbnail_Ntb.tif\"\n",
      "convert \"/media/yuncong/BstemAtlasData/CSHL_data_processed/ChatCryoJane201710/ChatCryoJane201710_prep1_thumbnail_Ntb/ChatCryoJane201710_slide38-S1_prep1_thumbnail_Ntb.tif\" -crop 949x696+509+72  \"/media/yuncong/BstemAtlasData/CSHL_data_processed/ChatCryoJane201710/ChatCryoJane201710_prep2_thumbnail_Ntb/ChatCryoJane201710_slide38-S1_prep2_thumbnail_Ntb.tif\"\n",
      "convert \"/media/yuncong/BstemAtlasData/CSHL_data_processed/ChatCryoJane201710/ChatCryoJane201710_prep1_thumbnail_Ntb/ChatCryoJane201710_slide37-S2_prep1_thumbnail_Ntb.tif\" -crop 949x696+509+72  \"/media/yuncong/BstemAtlasData/CSHL_data_processed/ChatCryoJane201710/ChatCryoJane201710_prep2_thumbnail_Ntb/ChatCryoJane201710_slide37-S2_prep2_thumbnail_Ntb.tif\"\n",
      "convert \"/media/yuncong/BstemAtlasData/CSHL_data_processed/ChatCryoJane201710/ChatCryoJane201710_prep1_thumbnail_Ntb/ChatCryoJane201710_slide38-S2_prep1_thumbnail_Ntb.tif\" -crop 949x696+509+72  \"/media/yuncong/BstemAtlasData/CSHL_data_processed/ChatCryoJane201710/ChatCryoJane201710_prep2_thumbnail_Ntb/ChatCryoJane201710_slide38-S2_prep2_thumbnail_Ntb.tif\"\n",
      "convert \"/media/yuncong/BstemAtlasData/CSHL_data_processed/ChatCryoJane201710/ChatCryoJane201710_prep1_thumbnail_Ntb/ChatCryoJane201710_slide37-S3_prep1_thumbnail_Ntb.tif\" -crop 949x696+509+72  \"/media/yuncong/BstemAtlasData/CSHL_data_processed/ChatCryoJane201710/ChatCryoJane201710_prep2_thumbnail_Ntb/ChatCryoJane201710_slide37-S3_prep2_thumbnail_Ntb.tif\"\n",
      "convert \"/media/yuncong/BstemAtlasData/CSHL_data_processed/ChatCryoJane201710/ChatCryoJane201710_prep1_thumbnail_Ntb/ChatCryoJane201710_slide38-S3_prep1_thumbnail_Ntb.tif\" -crop 949x696+509+72  \"/media/yuncong/BstemAtlasData/CSHL_data_processed/ChatCryoJane201710/ChatCryoJane201710_prep2_thumbnail_Ntb/ChatCryoJane201710_slide38-S3_prep2_thumbnail_Ntb.tif\"\n",
      "convert \"/media/yuncong/BstemAtlasData/CSHL_data_processed/ChatCryoJane201710/ChatCryoJane201710_prep1_thumbnail_Ntb/ChatCryoJane201710_slide39-S1_prep1_thumbnail_Ntb.tif\" -crop 949x696+509+72  \"/media/yuncong/BstemAtlasData/CSHL_data_processed/ChatCryoJane201710/ChatCryoJane201710_prep2_thumbnail_Ntb/ChatCryoJane201710_slide39-S1_prep2_thumbnail_Ntb.tif\"\n",
      "convert \"/media/yuncong/BstemAtlasData/CSHL_data_processed/ChatCryoJane201710/ChatCryoJane201710_prep1_thumbnail_Ntb/ChatCryoJane201710_slide40-S1_prep1_thumbnail_Ntb.tif\" -crop 949x696+509+72  \"/media/yuncong/BstemAtlasData/CSHL_data_processed/ChatCryoJane201710/ChatCryoJane201710_prep2_thumbnail_Ntb/ChatCryoJane201710_slide40-S1_prep2_thumbnail_Ntb.tif\"\n",
      "convert \"/media/yuncong/BstemAtlasData/CSHL_data_processed/ChatCryoJane201710/ChatCryoJane201710_prep1_thumbnail_Ntb/ChatCryoJane201710_slide39-S2_prep1_thumbnail_Ntb.tif\" -crop 949x696+509+72  \"/media/yuncong/BstemAtlasData/CSHL_data_processed/ChatCryoJane201710/ChatCryoJane201710_prep2_thumbnail_Ntb/ChatCryoJane201710_slide39-S2_prep2_thumbnail_Ntb.tif\"\n",
      "convert \"/media/yuncong/BstemAtlasData/CSHL_data_processed/ChatCryoJane201710/ChatCryoJane201710_prep1_thumbnail_Ntb/ChatCryoJane201710_slide40-S2_prep1_thumbnail_Ntb.tif\" -crop 949x696+509+72  \"/media/yuncong/BstemAtlasData/CSHL_data_processed/ChatCryoJane201710/ChatCryoJane201710_prep2_thumbnail_Ntb/ChatCryoJane201710_slide40-S2_prep2_thumbnail_Ntb.tif\"\n",
      "convert \"/media/yuncong/BstemAtlasData/CSHL_data_processed/ChatCryoJane201710/ChatCryoJane201710_prep1_thumbnail_Ntb/ChatCryoJane201710_slide39-S3_prep1_thumbnail_Ntb.tif\" -crop 949x696+509+72  \"/media/yuncong/BstemAtlasData/CSHL_data_processed/ChatCryoJane201710/ChatCryoJane201710_prep2_thumbnail_Ntb/ChatCryoJane201710_slide39-S3_prep2_thumbnail_Ntb.tif\"\n",
      "convert \"/media/yuncong/BstemAtlasData/CSHL_data_processed/ChatCryoJane201710/ChatCryoJane201710_prep1_thumbnail_Ntb/ChatCryoJane201710_slide40-S3_prep1_thumbnail_Ntb.tif\" -crop 949x696+509+72  \"/media/yuncong/BstemAtlasData/CSHL_data_processed/ChatCryoJane201710/ChatCryoJane201710_prep2_thumbnail_Ntb/ChatCryoJane201710_slide40-S3_prep2_thumbnail_Ntb.tif\"\n",
      "convert \"/media/yuncong/BstemAtlasData/CSHL_data_processed/ChatCryoJane201710/ChatCryoJane201710_prep1_thumbnail_Ntb/ChatCryoJane201710_slide41-S1_prep1_thumbnail_Ntb.tif\" -crop 949x696+509+72  \"/media/yuncong/BstemAtlasData/CSHL_data_processed/ChatCryoJane201710/ChatCryoJane201710_prep2_thumbnail_Ntb/ChatCryoJane201710_slide41-S1_prep2_thumbnail_Ntb.tif\"\n"
     ]
    },
    {
     "name": "stdout",
     "output_type": "stream",
     "text": [
      "convert \"/media/yuncong/BstemAtlasData/CSHL_data_processed/ChatCryoJane201710/ChatCryoJane201710_prep1_thumbnail_Ntb/ChatCryoJane201710_slide42-S1_prep1_thumbnail_Ntb.tif\" -crop 949x696+509+72  \"/media/yuncong/BstemAtlasData/CSHL_data_processed/ChatCryoJane201710/ChatCryoJane201710_prep2_thumbnail_Ntb/ChatCryoJane201710_slide42-S1_prep2_thumbnail_Ntb.tif\"\n",
      "convert \"/media/yuncong/BstemAtlasData/CSHL_data_processed/ChatCryoJane201710/ChatCryoJane201710_prep1_thumbnail_Ntb/ChatCryoJane201710_slide41-S2_prep1_thumbnail_Ntb.tif\" -crop 949x696+509+72  \"/media/yuncong/BstemAtlasData/CSHL_data_processed/ChatCryoJane201710/ChatCryoJane201710_prep2_thumbnail_Ntb/ChatCryoJane201710_slide41-S2_prep2_thumbnail_Ntb.tif\"\n",
      "convert \"/media/yuncong/BstemAtlasData/CSHL_data_processed/ChatCryoJane201710/ChatCryoJane201710_prep1_thumbnail_Ntb/ChatCryoJane201710_slide42-S2_prep1_thumbnail_Ntb.tif\" -crop 949x696+509+72  \"/media/yuncong/BstemAtlasData/CSHL_data_processed/ChatCryoJane201710/ChatCryoJane201710_prep2_thumbnail_Ntb/ChatCryoJane201710_slide42-S2_prep2_thumbnail_Ntb.tif\"\n",
      "convert \"/media/yuncong/BstemAtlasData/CSHL_data_processed/ChatCryoJane201710/ChatCryoJane201710_prep1_thumbnail_Ntb/ChatCryoJane201710_slide41-S3_prep1_thumbnail_Ntb.tif\" -crop 949x696+509+72  \"/media/yuncong/BstemAtlasData/CSHL_data_processed/ChatCryoJane201710/ChatCryoJane201710_prep2_thumbnail_Ntb/ChatCryoJane201710_slide41-S3_prep2_thumbnail_Ntb.tif\"\n",
      "convert \"/media/yuncong/BstemAtlasData/CSHL_data_processed/ChatCryoJane201710/ChatCryoJane201710_prep1_thumbnail_Ntb/ChatCryoJane201710_slide42-S3_prep1_thumbnail_Ntb.tif\" -crop 949x696+509+72  \"/media/yuncong/BstemAtlasData/CSHL_data_processed/ChatCryoJane201710/ChatCryoJane201710_prep2_thumbnail_Ntb/ChatCryoJane201710_slide42-S3_prep2_thumbnail_Ntb.tif\"\n",
      "convert \"/media/yuncong/BstemAtlasData/CSHL_data_processed/ChatCryoJane201710/ChatCryoJane201710_prep1_thumbnail_Ntb/ChatCryoJane201710_slide43-S1_prep1_thumbnail_Ntb.tif\" -crop 949x696+509+72  \"/media/yuncong/BstemAtlasData/CSHL_data_processed/ChatCryoJane201710/ChatCryoJane201710_prep2_thumbnail_Ntb/ChatCryoJane201710_slide43-S1_prep2_thumbnail_Ntb.tif\"\n",
      "convert \"/media/yuncong/BstemAtlasData/CSHL_data_processed/ChatCryoJane201710/ChatCryoJane201710_prep1_thumbnail_Ntb/ChatCryoJane201710_slide44-S1_prep1_thumbnail_Ntb.tif\" -crop 949x696+509+72  \"/media/yuncong/BstemAtlasData/CSHL_data_processed/ChatCryoJane201710/ChatCryoJane201710_prep2_thumbnail_Ntb/ChatCryoJane201710_slide44-S1_prep2_thumbnail_Ntb.tif\"\n",
      "convert \"/media/yuncong/BstemAtlasData/CSHL_data_processed/ChatCryoJane201710/ChatCryoJane201710_prep1_thumbnail_Ntb/ChatCryoJane201710_slide43-S2_prep1_thumbnail_Ntb.tif\" -crop 949x696+509+72  \"/media/yuncong/BstemAtlasData/CSHL_data_processed/ChatCryoJane201710/ChatCryoJane201710_prep2_thumbnail_Ntb/ChatCryoJane201710_slide43-S2_prep2_thumbnail_Ntb.tif\"\n",
      "convert \"/media/yuncong/BstemAtlasData/CSHL_data_processed/ChatCryoJane201710/ChatCryoJane201710_prep1_thumbnail_Ntb/ChatCryoJane201710_slide44-S2_prep1_thumbnail_Ntb.tif\" -crop 949x696+509+72  \"/media/yuncong/BstemAtlasData/CSHL_data_processed/ChatCryoJane201710/ChatCryoJane201710_prep2_thumbnail_Ntb/ChatCryoJane201710_slide44-S2_prep2_thumbnail_Ntb.tif\"\n",
      "convert \"/media/yuncong/BstemAtlasData/CSHL_data_processed/ChatCryoJane201710/ChatCryoJane201710_prep1_thumbnail_Ntb/ChatCryoJane201710_slide43-S3_prep1_thumbnail_Ntb.tif\" -crop 949x696+509+72  \"/media/yuncong/BstemAtlasData/CSHL_data_processed/ChatCryoJane201710/ChatCryoJane201710_prep2_thumbnail_Ntb/ChatCryoJane201710_slide43-S3_prep2_thumbnail_Ntb.tif\"\n",
      "convert \"/media/yuncong/BstemAtlasData/CSHL_data_processed/ChatCryoJane201710/ChatCryoJane201710_prep1_thumbnail_Ntb/ChatCryoJane201710_slide44-S3_prep1_thumbnail_Ntb.tif\" -crop 949x696+509+72  \"/media/yuncong/BstemAtlasData/CSHL_data_processed/ChatCryoJane201710/ChatCryoJane201710_prep2_thumbnail_Ntb/ChatCryoJane201710_slide44-S3_prep2_thumbnail_Ntb.tif\"\n",
      "convert \"/media/yuncong/BstemAtlasData/CSHL_data_processed/ChatCryoJane201710/ChatCryoJane201710_prep1_thumbnail_Ntb/ChatCryoJane201710_slide45-S1_prep1_thumbnail_Ntb.tif\" -crop 949x696+509+72  \"/media/yuncong/BstemAtlasData/CSHL_data_processed/ChatCryoJane201710/ChatCryoJane201710_prep2_thumbnail_Ntb/ChatCryoJane201710_slide45-S1_prep2_thumbnail_Ntb.tif\"\n",
      "convert \"/media/yuncong/BstemAtlasData/CSHL_data_processed/ChatCryoJane201710/ChatCryoJane201710_prep1_thumbnail_Ntb/ChatCryoJane201710_slide46-S1_prep1_thumbnail_Ntb.tif\" -crop 949x696+509+72  \"/media/yuncong/BstemAtlasData/CSHL_data_processed/ChatCryoJane201710/ChatCryoJane201710_prep2_thumbnail_Ntb/ChatCryoJane201710_slide46-S1_prep2_thumbnail_Ntb.tif\"\n",
      "convert \"/media/yuncong/BstemAtlasData/CSHL_data_processed/ChatCryoJane201710/ChatCryoJane201710_prep1_thumbnail_Ntb/ChatCryoJane201710_slide45-S2_prep1_thumbnail_Ntb.tif\" -crop 949x696+509+72  \"/media/yuncong/BstemAtlasData/CSHL_data_processed/ChatCryoJane201710/ChatCryoJane201710_prep2_thumbnail_Ntb/ChatCryoJane201710_slide45-S2_prep2_thumbnail_Ntb.tif\"\n",
      "convert \"/media/yuncong/BstemAtlasData/CSHL_data_processed/ChatCryoJane201710/ChatCryoJane201710_prep1_thumbnail_Ntb/ChatCryoJane201710_slide46-S2_prep1_thumbnail_Ntb.tif\" -crop 949x696+509+72  \"/media/yuncong/BstemAtlasData/CSHL_data_processed/ChatCryoJane201710/ChatCryoJane201710_prep2_thumbnail_Ntb/ChatCryoJane201710_slide46-S2_prep2_thumbnail_Ntb.tif\"\n",
      "convert \"/media/yuncong/BstemAtlasData/CSHL_data_processed/ChatCryoJane201710/ChatCryoJane201710_prep1_thumbnail_Ntb/ChatCryoJane201710_slide45-S3_prep1_thumbnail_Ntb.tif\" -crop 949x696+509+72  \"/media/yuncong/BstemAtlasData/CSHL_data_processed/ChatCryoJane201710/ChatCryoJane201710_prep2_thumbnail_Ntb/ChatCryoJane201710_slide45-S3_prep2_thumbnail_Ntb.tif\"\n",
      "convert \"/media/yuncong/BstemAtlasData/CSHL_data_processed/ChatCryoJane201710/ChatCryoJane201710_prep1_thumbnail_Ntb/ChatCryoJane201710_slide46-S3_prep1_thumbnail_Ntb.tif\" -crop 949x696+509+72  \"/media/yuncong/BstemAtlasData/CSHL_data_processed/ChatCryoJane201710/ChatCryoJane201710_prep2_thumbnail_Ntb/ChatCryoJane201710_slide46-S3_prep2_thumbnail_Ntb.tif\"\n",
      "convert \"/media/yuncong/BstemAtlasData/CSHL_data_processed/ChatCryoJane201710/ChatCryoJane201710_prep1_thumbnail_Ntb/ChatCryoJane201710_slide47-S1_prep1_thumbnail_Ntb.tif\" -crop 949x696+509+72  \"/media/yuncong/BstemAtlasData/CSHL_data_processed/ChatCryoJane201710/ChatCryoJane201710_prep2_thumbnail_Ntb/ChatCryoJane201710_slide47-S1_prep2_thumbnail_Ntb.tif\"\n",
      "convert \"/media/yuncong/BstemAtlasData/CSHL_data_processed/ChatCryoJane201710/ChatCryoJane201710_prep1_thumbnail_Ntb/ChatCryoJane201710_slide48-S1_prep1_thumbnail_Ntb.tif\" -crop 949x696+509+72  \"/media/yuncong/BstemAtlasData/CSHL_data_processed/ChatCryoJane201710/ChatCryoJane201710_prep2_thumbnail_Ntb/ChatCryoJane201710_slide48-S1_prep2_thumbnail_Ntb.tif\"\n",
      "convert \"/media/yuncong/BstemAtlasData/CSHL_data_processed/ChatCryoJane201710/ChatCryoJane201710_prep1_thumbnail_Ntb/ChatCryoJane201710_slide47-S2_prep1_thumbnail_Ntb.tif\" -crop 949x696+509+72  \"/media/yuncong/BstemAtlasData/CSHL_data_processed/ChatCryoJane201710/ChatCryoJane201710_prep2_thumbnail_Ntb/ChatCryoJane201710_slide47-S2_prep2_thumbnail_Ntb.tif\"\n",
      "convert \"/media/yuncong/BstemAtlasData/CSHL_data_processed/ChatCryoJane201710/ChatCryoJane201710_prep1_thumbnail_Ntb/ChatCryoJane201710_slide48-S2_prep1_thumbnail_Ntb.tif\" -crop 949x696+509+72  \"/media/yuncong/BstemAtlasData/CSHL_data_processed/ChatCryoJane201710/ChatCryoJane201710_prep2_thumbnail_Ntb/ChatCryoJane201710_slide48-S2_prep2_thumbnail_Ntb.tif\"\n",
      "convert \"/media/yuncong/BstemAtlasData/CSHL_data_processed/ChatCryoJane201710/ChatCryoJane201710_prep1_thumbnail_Ntb/ChatCryoJane201710_slide47-S3_prep1_thumbnail_Ntb.tif\" -crop 949x696+509+72  \"/media/yuncong/BstemAtlasData/CSHL_data_processed/ChatCryoJane201710/ChatCryoJane201710_prep2_thumbnail_Ntb/ChatCryoJane201710_slide47-S3_prep2_thumbnail_Ntb.tif\"\n",
      "convert \"/media/yuncong/BstemAtlasData/CSHL_data_processed/ChatCryoJane201710/ChatCryoJane201710_prep1_thumbnail_Ntb/ChatCryoJane201710_slide48-S3_prep1_thumbnail_Ntb.tif\" -crop 949x696+509+72  \"/media/yuncong/BstemAtlasData/CSHL_data_processed/ChatCryoJane201710/ChatCryoJane201710_prep2_thumbnail_Ntb/ChatCryoJane201710_slide48-S3_prep2_thumbnail_Ntb.tif\"\n",
      "convert \"/media/yuncong/BstemAtlasData/CSHL_data_processed/ChatCryoJane201710/ChatCryoJane201710_prep1_thumbnail_Ntb/ChatCryoJane201710_slide49-S1_prep1_thumbnail_Ntb.tif\" -crop 949x696+509+72  \"/media/yuncong/BstemAtlasData/CSHL_data_processed/ChatCryoJane201710/ChatCryoJane201710_prep2_thumbnail_Ntb/ChatCryoJane201710_slide49-S1_prep2_thumbnail_Ntb.tif\"\n"
     ]
    },
    {
     "name": "stdout",
     "output_type": "stream",
     "text": [
      "convert \"/media/yuncong/BstemAtlasData/CSHL_data_processed/ChatCryoJane201710/ChatCryoJane201710_prep1_thumbnail_Ntb/ChatCryoJane201710_slide50-S1_prep1_thumbnail_Ntb.tif\" -crop 949x696+509+72  \"/media/yuncong/BstemAtlasData/CSHL_data_processed/ChatCryoJane201710/ChatCryoJane201710_prep2_thumbnail_Ntb/ChatCryoJane201710_slide50-S1_prep2_thumbnail_Ntb.tif\"\n",
      "convert \"/media/yuncong/BstemAtlasData/CSHL_data_processed/ChatCryoJane201710/ChatCryoJane201710_prep1_thumbnail_Ntb/ChatCryoJane201710_slide49-S2_prep1_thumbnail_Ntb.tif\" -crop 949x696+509+72  \"/media/yuncong/BstemAtlasData/CSHL_data_processed/ChatCryoJane201710/ChatCryoJane201710_prep2_thumbnail_Ntb/ChatCryoJane201710_slide49-S2_prep2_thumbnail_Ntb.tif\"\n",
      "convert \"/media/yuncong/BstemAtlasData/CSHL_data_processed/ChatCryoJane201710/ChatCryoJane201710_prep1_thumbnail_Ntb/ChatCryoJane201710_slide50-S2_prep1_thumbnail_Ntb.tif\" -crop 949x696+509+72  \"/media/yuncong/BstemAtlasData/CSHL_data_processed/ChatCryoJane201710/ChatCryoJane201710_prep2_thumbnail_Ntb/ChatCryoJane201710_slide50-S2_prep2_thumbnail_Ntb.tif\"\n",
      "convert \"/media/yuncong/BstemAtlasData/CSHL_data_processed/ChatCryoJane201710/ChatCryoJane201710_prep1_thumbnail_Ntb/ChatCryoJane201710_slide49-S3_prep1_thumbnail_Ntb.tif\" -crop 949x696+509+72  \"/media/yuncong/BstemAtlasData/CSHL_data_processed/ChatCryoJane201710/ChatCryoJane201710_prep2_thumbnail_Ntb/ChatCryoJane201710_slide49-S3_prep2_thumbnail_Ntb.tif\"\n",
      "convert \"/media/yuncong/BstemAtlasData/CSHL_data_processed/ChatCryoJane201710/ChatCryoJane201710_prep1_thumbnail_Ntb/ChatCryoJane201710_slide50-S3_prep1_thumbnail_Ntb.tif\" -crop 949x696+509+72  \"/media/yuncong/BstemAtlasData/CSHL_data_processed/ChatCryoJane201710/ChatCryoJane201710_prep2_thumbnail_Ntb/ChatCryoJane201710_slide50-S3_prep2_thumbnail_Ntb.tif\"\n",
      "convert \"/media/yuncong/BstemAtlasData/CSHL_data_processed/ChatCryoJane201710/ChatCryoJane201710_prep1_thumbnail_Ntb/ChatCryoJane201710_slide51-S1_prep1_thumbnail_Ntb.tif\" -crop 949x696+509+72  \"/media/yuncong/BstemAtlasData/CSHL_data_processed/ChatCryoJane201710/ChatCryoJane201710_prep2_thumbnail_Ntb/ChatCryoJane201710_slide51-S1_prep2_thumbnail_Ntb.tif\"\n",
      "convert \"/media/yuncong/BstemAtlasData/CSHL_data_processed/ChatCryoJane201710/ChatCryoJane201710_prep1_thumbnail_Ntb/ChatCryoJane201710_slide52-S1_prep1_thumbnail_Ntb.tif\" -crop 949x696+509+72  \"/media/yuncong/BstemAtlasData/CSHL_data_processed/ChatCryoJane201710/ChatCryoJane201710_prep2_thumbnail_Ntb/ChatCryoJane201710_slide52-S1_prep2_thumbnail_Ntb.tif\"\n",
      "convert \"/media/yuncong/BstemAtlasData/CSHL_data_processed/ChatCryoJane201710/ChatCryoJane201710_prep1_thumbnail_Ntb/ChatCryoJane201710_slide51-S2_prep1_thumbnail_Ntb.tif\" -crop 949x696+509+72  \"/media/yuncong/BstemAtlasData/CSHL_data_processed/ChatCryoJane201710/ChatCryoJane201710_prep2_thumbnail_Ntb/ChatCryoJane201710_slide51-S2_prep2_thumbnail_Ntb.tif\"\n",
      "convert \"/media/yuncong/BstemAtlasData/CSHL_data_processed/ChatCryoJane201710/ChatCryoJane201710_prep1_thumbnail_Ntb/ChatCryoJane201710_slide52-S2_prep1_thumbnail_Ntb.tif\" -crop 949x696+509+72  \"/media/yuncong/BstemAtlasData/CSHL_data_processed/ChatCryoJane201710/ChatCryoJane201710_prep2_thumbnail_Ntb/ChatCryoJane201710_slide52-S2_prep2_thumbnail_Ntb.tif\"\n",
      "convert \"/media/yuncong/BstemAtlasData/CSHL_data_processed/ChatCryoJane201710/ChatCryoJane201710_prep1_thumbnail_Ntb/ChatCryoJane201710_slide51-S3_prep1_thumbnail_Ntb.tif\" -crop 949x696+509+72  \"/media/yuncong/BstemAtlasData/CSHL_data_processed/ChatCryoJane201710/ChatCryoJane201710_prep2_thumbnail_Ntb/ChatCryoJane201710_slide51-S3_prep2_thumbnail_Ntb.tif\"\n",
      "convert \"/media/yuncong/BstemAtlasData/CSHL_data_processed/ChatCryoJane201710/ChatCryoJane201710_prep1_thumbnail_Ntb/ChatCryoJane201710_slide52-S3_prep1_thumbnail_Ntb.tif\" -crop 949x696+509+72  \"/media/yuncong/BstemAtlasData/CSHL_data_processed/ChatCryoJane201710/ChatCryoJane201710_prep2_thumbnail_Ntb/ChatCryoJane201710_slide52-S3_prep2_thumbnail_Ntb.tif\"\n",
      "convert \"/media/yuncong/BstemAtlasData/CSHL_data_processed/ChatCryoJane201710/ChatCryoJane201710_prep1_thumbnail_Ntb/ChatCryoJane201710_slide53-S1_prep1_thumbnail_Ntb.tif\" -crop 949x696+509+72  \"/media/yuncong/BstemAtlasData/CSHL_data_processed/ChatCryoJane201710/ChatCryoJane201710_prep2_thumbnail_Ntb/ChatCryoJane201710_slide53-S1_prep2_thumbnail_Ntb.tif\"\n",
      "convert \"/media/yuncong/BstemAtlasData/CSHL_data_processed/ChatCryoJane201710/ChatCryoJane201710_prep1_thumbnail_Ntb/ChatCryoJane201710_slide54-S1_prep1_thumbnail_Ntb.tif\" -crop 949x696+509+72  \"/media/yuncong/BstemAtlasData/CSHL_data_processed/ChatCryoJane201710/ChatCryoJane201710_prep2_thumbnail_Ntb/ChatCryoJane201710_slide54-S1_prep2_thumbnail_Ntb.tif\"\n",
      "convert \"/media/yuncong/BstemAtlasData/CSHL_data_processed/ChatCryoJane201710/ChatCryoJane201710_prep1_thumbnail_Ntb/ChatCryoJane201710_slide53-S2_prep1_thumbnail_Ntb.tif\" -crop 949x696+509+72  \"/media/yuncong/BstemAtlasData/CSHL_data_processed/ChatCryoJane201710/ChatCryoJane201710_prep2_thumbnail_Ntb/ChatCryoJane201710_slide53-S2_prep2_thumbnail_Ntb.tif\"\n",
      "convert \"/media/yuncong/BstemAtlasData/CSHL_data_processed/ChatCryoJane201710/ChatCryoJane201710_prep1_thumbnail_Ntb/ChatCryoJane201710_slide54-S2_prep1_thumbnail_Ntb.tif\" -crop 949x696+509+72  \"/media/yuncong/BstemAtlasData/CSHL_data_processed/ChatCryoJane201710/ChatCryoJane201710_prep2_thumbnail_Ntb/ChatCryoJane201710_slide54-S2_prep2_thumbnail_Ntb.tif\"\n",
      "convert \"/media/yuncong/BstemAtlasData/CSHL_data_processed/ChatCryoJane201710/ChatCryoJane201710_prep1_thumbnail_Ntb/ChatCryoJane201710_slide53-S3_prep1_thumbnail_Ntb.tif\" -crop 949x696+509+72  \"/media/yuncong/BstemAtlasData/CSHL_data_processed/ChatCryoJane201710/ChatCryoJane201710_prep2_thumbnail_Ntb/ChatCryoJane201710_slide53-S3_prep2_thumbnail_Ntb.tif\"\n",
      "convert \"/media/yuncong/BstemAtlasData/CSHL_data_processed/ChatCryoJane201710/ChatCryoJane201710_prep1_thumbnail_Ntb/ChatCryoJane201710_slide54-S3_prep1_thumbnail_Ntb.tif\" -crop 949x696+509+72  \"/media/yuncong/BstemAtlasData/CSHL_data_processed/ChatCryoJane201710/ChatCryoJane201710_prep2_thumbnail_Ntb/ChatCryoJane201710_slide54-S3_prep2_thumbnail_Ntb.tif\"\n",
      "convert \"/media/yuncong/BstemAtlasData/CSHL_data_processed/ChatCryoJane201710/ChatCryoJane201710_prep1_thumbnail_Ntb/ChatCryoJane201710_slide55-S1_prep1_thumbnail_Ntb.tif\" -crop 949x696+509+72  \"/media/yuncong/BstemAtlasData/CSHL_data_processed/ChatCryoJane201710/ChatCryoJane201710_prep2_thumbnail_Ntb/ChatCryoJane201710_slide55-S1_prep2_thumbnail_Ntb.tif\"\n",
      "convert \"/media/yuncong/BstemAtlasData/CSHL_data_processed/ChatCryoJane201710/ChatCryoJane201710_prep1_thumbnail_Ntb/ChatCryoJane201710_slide56-S1_prep1_thumbnail_Ntb.tif\" -crop 949x696+509+72  \"/media/yuncong/BstemAtlasData/CSHL_data_processed/ChatCryoJane201710/ChatCryoJane201710_prep2_thumbnail_Ntb/ChatCryoJane201710_slide56-S1_prep2_thumbnail_Ntb.tif\"\n",
      "convert \"/media/yuncong/BstemAtlasData/CSHL_data_processed/ChatCryoJane201710/ChatCryoJane201710_prep1_thumbnail_Ntb/ChatCryoJane201710_slide55-S2_prep1_thumbnail_Ntb.tif\" -crop 949x696+509+72  \"/media/yuncong/BstemAtlasData/CSHL_data_processed/ChatCryoJane201710/ChatCryoJane201710_prep2_thumbnail_Ntb/ChatCryoJane201710_slide55-S2_prep2_thumbnail_Ntb.tif\"\n",
      "convert \"/media/yuncong/BstemAtlasData/CSHL_data_processed/ChatCryoJane201710/ChatCryoJane201710_prep1_thumbnail_Ntb/ChatCryoJane201710_slide56-S2_prep1_thumbnail_Ntb.tif\" -crop 949x696+509+72  \"/media/yuncong/BstemAtlasData/CSHL_data_processed/ChatCryoJane201710/ChatCryoJane201710_prep2_thumbnail_Ntb/ChatCryoJane201710_slide56-S2_prep2_thumbnail_Ntb.tif\"\n",
      "convert \"/media/yuncong/BstemAtlasData/CSHL_data_processed/ChatCryoJane201710/ChatCryoJane201710_prep1_thumbnail_Ntb/ChatCryoJane201710_slide55-S3_prep1_thumbnail_Ntb.tif\" -crop 949x696+509+72  \"/media/yuncong/BstemAtlasData/CSHL_data_processed/ChatCryoJane201710/ChatCryoJane201710_prep2_thumbnail_Ntb/ChatCryoJane201710_slide55-S3_prep2_thumbnail_Ntb.tif\"\n",
      "convert \"/media/yuncong/BstemAtlasData/CSHL_data_processed/ChatCryoJane201710/ChatCryoJane201710_prep1_thumbnail_Ntb/ChatCryoJane201710_slide56-S3_prep1_thumbnail_Ntb.tif\" -crop 949x696+509+72  \"/media/yuncong/BstemAtlasData/CSHL_data_processed/ChatCryoJane201710/ChatCryoJane201710_prep2_thumbnail_Ntb/ChatCryoJane201710_slide56-S3_prep2_thumbnail_Ntb.tif\"\n",
      "convert \"/media/yuncong/BstemAtlasData/CSHL_data_processed/ChatCryoJane201710/ChatCryoJane201710_prep1_thumbnail_Ntb/ChatCryoJane201710_slide57-S1_prep1_thumbnail_Ntb.tif\" -crop 949x696+509+72  \"/media/yuncong/BstemAtlasData/CSHL_data_processed/ChatCryoJane201710/ChatCryoJane201710_prep2_thumbnail_Ntb/ChatCryoJane201710_slide57-S1_prep2_thumbnail_Ntb.tif\"\n"
     ]
    },
    {
     "name": "stdout",
     "output_type": "stream",
     "text": [
      "convert \"/media/yuncong/BstemAtlasData/CSHL_data_processed/ChatCryoJane201710/ChatCryoJane201710_prep1_thumbnail_Ntb/ChatCryoJane201710_slide58-S1_prep1_thumbnail_Ntb.tif\" -crop 949x696+509+72  \"/media/yuncong/BstemAtlasData/CSHL_data_processed/ChatCryoJane201710/ChatCryoJane201710_prep2_thumbnail_Ntb/ChatCryoJane201710_slide58-S1_prep2_thumbnail_Ntb.tif\"\n",
      "convert \"/media/yuncong/BstemAtlasData/CSHL_data_processed/ChatCryoJane201710/ChatCryoJane201710_prep1_thumbnail_Ntb/ChatCryoJane201710_slide57-S2_prep1_thumbnail_Ntb.tif\" -crop 949x696+509+72  \"/media/yuncong/BstemAtlasData/CSHL_data_processed/ChatCryoJane201710/ChatCryoJane201710_prep2_thumbnail_Ntb/ChatCryoJane201710_slide57-S2_prep2_thumbnail_Ntb.tif\"\n",
      "convert \"/media/yuncong/BstemAtlasData/CSHL_data_processed/ChatCryoJane201710/ChatCryoJane201710_prep1_thumbnail_Ntb/ChatCryoJane201710_slide58-S2_prep1_thumbnail_Ntb.tif\" -crop 949x696+509+72  \"/media/yuncong/BstemAtlasData/CSHL_data_processed/ChatCryoJane201710/ChatCryoJane201710_prep2_thumbnail_Ntb/ChatCryoJane201710_slide58-S2_prep2_thumbnail_Ntb.tif\"\n",
      "convert \"/media/yuncong/BstemAtlasData/CSHL_data_processed/ChatCryoJane201710/ChatCryoJane201710_prep1_thumbnail_Ntb/ChatCryoJane201710_slide57-S3_prep1_thumbnail_Ntb.tif\" -crop 949x696+509+72  \"/media/yuncong/BstemAtlasData/CSHL_data_processed/ChatCryoJane201710/ChatCryoJane201710_prep2_thumbnail_Ntb/ChatCryoJane201710_slide57-S3_prep2_thumbnail_Ntb.tif\"\n",
      "convert \"/media/yuncong/BstemAtlasData/CSHL_data_processed/ChatCryoJane201710/ChatCryoJane201710_prep1_thumbnail_Ntb/ChatCryoJane201710_slide59-S1_prep1_thumbnail_Ntb.tif\" -crop 949x696+509+72  \"/media/yuncong/BstemAtlasData/CSHL_data_processed/ChatCryoJane201710/ChatCryoJane201710_prep2_thumbnail_Ntb/ChatCryoJane201710_slide59-S1_prep2_thumbnail_Ntb.tif\"\n",
      "convert \"/media/yuncong/BstemAtlasData/CSHL_data_processed/ChatCryoJane201710/ChatCryoJane201710_prep1_thumbnail_Ntb/ChatCryoJane201710_slide60-S1_prep1_thumbnail_Ntb.tif\" -crop 949x696+509+72  \"/media/yuncong/BstemAtlasData/CSHL_data_processed/ChatCryoJane201710/ChatCryoJane201710_prep2_thumbnail_Ntb/ChatCryoJane201710_slide60-S1_prep2_thumbnail_Ntb.tif\"\n",
      "convert \"/media/yuncong/BstemAtlasData/CSHL_data_processed/ChatCryoJane201710/ChatCryoJane201710_prep1_thumbnail_Ntb/ChatCryoJane201710_slide59-S2_prep1_thumbnail_Ntb.tif\" -crop 949x696+509+72  \"/media/yuncong/BstemAtlasData/CSHL_data_processed/ChatCryoJane201710/ChatCryoJane201710_prep2_thumbnail_Ntb/ChatCryoJane201710_slide59-S2_prep2_thumbnail_Ntb.tif\"\n",
      "convert \"/media/yuncong/BstemAtlasData/CSHL_data_processed/ChatCryoJane201710/ChatCryoJane201710_prep1_thumbnail_Ntb/ChatCryoJane201710_slide60-S2_prep1_thumbnail_Ntb.tif\" -crop 949x696+509+72  \"/media/yuncong/BstemAtlasData/CSHL_data_processed/ChatCryoJane201710/ChatCryoJane201710_prep2_thumbnail_Ntb/ChatCryoJane201710_slide60-S2_prep2_thumbnail_Ntb.tif\"\n",
      "convert \"/media/yuncong/BstemAtlasData/CSHL_data_processed/ChatCryoJane201710/ChatCryoJane201710_prep1_thumbnail_Ntb/ChatCryoJane201710_slide59-S3_prep1_thumbnail_Ntb.tif\" -crop 949x696+509+72  \"/media/yuncong/BstemAtlasData/CSHL_data_processed/ChatCryoJane201710/ChatCryoJane201710_prep2_thumbnail_Ntb/ChatCryoJane201710_slide59-S3_prep2_thumbnail_Ntb.tif\"\n",
      "convert \"/media/yuncong/BstemAtlasData/CSHL_data_processed/ChatCryoJane201710/ChatCryoJane201710_prep1_thumbnail_Ntb/ChatCryoJane201710_slide60-S3_prep1_thumbnail_Ntb.tif\" -crop 949x696+509+72  \"/media/yuncong/BstemAtlasData/CSHL_data_processed/ChatCryoJane201710/ChatCryoJane201710_prep2_thumbnail_Ntb/ChatCryoJane201710_slide60-S3_prep2_thumbnail_Ntb.tif\"\n"
     ]
    },
    {
     "name": "stderr",
     "output_type": "stream",
     "text": [
      "done in 21.484202 seconds\n"
     ]
    }
   ],
   "source": [
    "t = time.time()\n",
    "sys.stderr.write('cropping thumbnail...')\n",
    "\n",
    "for fn in valid_filenames:\n",
    "\n",
    "    execute_command('convert \\\"%(input_fp)s\\\" -crop %(w)dx%(h)d+%(x)d+%(y)d  \\\"%(output_fp)s\\\"' % \\\n",
    "        {'stack': stack,\n",
    "        'input_fp': DataManager.get_image_filepath_v2(stack=stack, prep_id=1, fn=fn, resol='thumbnail', version='Ntb'),\n",
    "        'output_fp': DataManager.get_image_filepath_v2(stack=stack, prep_id=2, fn=fn, resol='thumbnail', version='Ntb'),\n",
    "        'w':xmax+1-xmin, 'h':ymax+1-ymin, 'x':xmin, 'y':ymin})\n",
    "\n",
    "sys.stderr.write('done in %f seconds\\n' % (time.time() - t)) # 70s (aws)"
   ]
  },
  {
   "cell_type": "code",
   "execution_count": 154,
   "metadata": {
    "collapsed": true
   },
   "outputs": [],
   "source": [
    "# t = time.time()\n",
    "# sys.stderr.write('cropping thumbnail...')\n",
    "\n",
    "# execute_command('mogrify -set filename:name %%t -crop %(w)dx%(h)d+%(x)d+%(y)d -write \"%(output_dir)s/%%[filename:name]_cropped.tif\" %(input_dir)s/*.tif' % \\\n",
    "#     {'input_dir': input_dir,\n",
    "#      'output_dir': output_dir,\n",
    "#     'w':w, 'h':h, 'x':x, 'y':y})\n",
    "\n",
    "# sys.stderr.write('done in %f seconds\\n' % (time.time() - t)) # 100 seconds"
   ]
  },
  {
   "cell_type": "code",
   "execution_count": 17,
   "metadata": {},
   "outputs": [
    {
     "name": "stdout",
     "output_type": "stream",
     "text": [
      "aws s3 cp --recursive \"/media/yuncong/BstemAtlasData/CSHL_data_processed/ChatCryoJane201710/ChatCryoJane201710_prep2_thumbnail_Ntb\" \"s3://mousebrainatlas-data/CSHL_data_processed/ChatCryoJane201710/ChatCryoJane201710_prep2_thumbnail_Ntb\"\n"
     ]
    }
   ],
   "source": [
    "upload_to_s3(output_dir, is_dir=True, local_root=DATA_ROOTDIR)"
   ]
  },
  {
   "cell_type": "code",
   "execution_count": 78,
   "metadata": {
    "collapsed": true
   },
   "outputs": [],
   "source": [
    "# transfer_data_synced(os.path.join('CSHL_data_processed', stack, stack + '_thumbnail_alignedTo_' + anchor_fn + '_cropped'),\n",
    "#                     from_hostname='ec2',\n",
    "#                     to_hostname='s3',\n",
    "#                     is_dir=True)"
   ]
  },
  {
   "cell_type": "markdown",
   "metadata": {},
   "source": [
    "# Expand lossless JP2 (use /shared)"
   ]
  },
  {
   "cell_type": "code",
   "execution_count": 79,
   "metadata": {
    "collapsed": true
   },
   "outputs": [],
   "source": [
    "stack = 'MD661'"
   ]
  },
  {
   "cell_type": "code",
   "execution_count": null,
   "metadata": {
    "scrolled": true
   },
   "outputs": [
    {
     "name": "stdout",
     "output_type": "stream",
     "text": [
      "aws s3 cp --recursive \"s3://mousebrainatlas-rawdata/CSHL_data/MD661\" \"/shared/CSHL_data/MD661\" --exclude \"*\" --include \"*_lossless.jp2\"\n"
     ]
    }
   ],
   "source": [
    "transfer_data_synced(os.path.join('CSHL_data', stack),\n",
    "                    from_hostname='s3raw',\n",
    "                    to_hostname='ec2',\n",
    "                    is_dir=True,\n",
    "                    include_only='*_lossless.jp2')"
   ]
  },
  {
   "cell_type": "code",
   "execution_count": 88,
   "metadata": {
    "collapsed": true
   },
   "outputs": [],
   "source": [
    "output_dir = create_if_not_exists(DataManager.get_image_dir_v2(stack=stack, prep_id=1, resol='lossless'))"
   ]
  },
  {
   "cell_type": "code",
   "execution_count": null,
   "metadata": {
    "collapsed": true,
    "scrolled": true
   },
   "outputs": [],
   "source": [
    "t = time.time()\n",
    "sys.stderr.write('expanding...')\n",
    "\n",
    "in_fps = [fn + '_lossless.jp2' for fn in metadata_cache['valid_filenames'][stack]]\n",
    "out_fps = [DataManager.get_image_filepath_v2(stack=stack, prep_id=1, resol='lossless', fn=fn) \n",
    "           for fn in metadata_cache['valid_filenames'][stack]]\n",
    "\n",
    "run_distributed('export LD_LIBRARY_PATH=/home/ubuntu/KDU79_Demo_Apps_for_Linux-x86-64_170108:$LD_LIBRARY_PATH; %(kdu_bin)s -i \\\"%%(in_fp)s\\\" -o \\\"%%(out_fp)s\\\"' % \\\n",
    "                {'kdu_bin': KDU_EXPAND_BIN},\n",
    "                kwargs_list={'in_fp': in_fps, 'out_fp': out_fps},\n",
    "                argument_type='single',\n",
    "               cluster_size=16)\n",
    "\n",
    "wait_qsub_complete()\n",
    "\n",
    "sys.stderr.write('done in %f seconds\\n' % (time.time() - t)) # 900 seconds."
   ]
  },
  {
   "cell_type": "code",
   "execution_count": null,
   "metadata": {
    "collapsed": true,
    "scrolled": true
   },
   "outputs": [],
   "source": [
    "transfer_data_synced(os.path.join('CSHL_data_processed', stack, stack + '_lossless_tif'),\n",
    "                    from_hostname='ec2',\n",
    "                    to_hostname='s3',\n",
    "                    is_dir=True) # 6000s"
   ]
  },
  {
   "cell_type": "markdown",
   "metadata": {},
   "source": [
    "# Warping and cropping lossless (use /shared)"
   ]
  },
  {
   "cell_type": "code",
   "execution_count": 24,
   "metadata": {},
   "outputs": [
    {
     "name": "stdout",
     "output_type": "stream",
     "text": [
      "rm -rf /shared/CSHL_data_processed/MD585/MD585_lossless_tif && mkdir -p /shared/CSHL_data_processed/MD585\n",
      "aws s3 cp --recursive s3://mousebrainatlas-data/CSHL_data_processed/MD585/MD585_lossless_tif /shared/CSHL_data_processed/MD585/MD585_lossless_tif\n"
     ]
    },
    {
     "name": "stderr",
     "output_type": "stream",
     "text": [
      "Child returned 0\n"
     ]
    },
    {
     "name": "stdout",
     "output_type": "stream",
     "text": [
      "3079.07781506\n"
     ]
    },
    {
     "name": "stderr",
     "output_type": "stream",
     "text": [
      "Child returned 0\n",
      "3079.08 seconds.\n"
     ]
    }
   ],
   "source": [
    "transfer_data_synced(os.path.join('CSHL_data_processed', stack, stack + '_lossless_tif'),\n",
    "                    from_hostname='s3',\n",
    "                    to_hostname='ec2',\n",
    "                    is_dir=True)\n",
    "# 3000 seconds"
   ]
  },
  {
   "cell_type": "code",
   "execution_count": 37,
   "metadata": {
    "collapsed": true
   },
   "outputs": [],
   "source": [
    "# tf_filepath = os.path.join(DATA_DIR, stack, '%(stack)s_transformsTo_anchor.pkl' % {'stack':stack})\n",
    "# tfs = pickle.load(open(tf_filepath, 'r'))\n",
    "# Note that the index from trasform pickle file starts at 0, BUT the .._renamed folder index starts at 1.#\n",
    "\n",
    "tfs = DataManager.load_transforms(stack=stack)\n",
    "\n",
    "lossless_tif_dir = os.path.join(DATA_DIR, stack, stack + '_lossless_tif')\n",
    "lossless_aligned_cropped_dir = os.path.join(DATA_DIR, stack, stack + '_lossless_alignedTo_' + anchor_fn + '_cropped')\n",
    "\n",
    "script_fp = os.path.join(REPO_DIR, 'preprocess', 'warp_crop_IM_v2.py')"
   ]
  },
  {
   "cell_type": "code",
   "execution_count": 45,
   "metadata": {
    "collapsed": true
   },
   "outputs": [],
   "source": [
    "! rm -r {lossless_aligned_cropped_dir}"
   ]
  },
  {
   "cell_type": "code",
   "execution_count": 43,
   "metadata": {
    "collapsed": true
   },
   "outputs": [],
   "source": [
    "if stack in all_nissl_stacks:\n",
    "    pad_bg_color = 'white'\n",
    "else:\n",
    "    pad_bg_color = 'auto'"
   ]
  },
  {
   "cell_type": "code",
   "execution_count": null,
   "metadata": {
    "collapsed": true
   },
   "outputs": [],
   "source": [
    "t = time.time()\n",
    "sys.stderr.write('warping and cropping lossless...')\n",
    "\n",
    "# wait_num_nodes(16)\n",
    "                   \n",
    "if pad_bg_color == 'auto':\n",
    "    # If alternating, then black padding for F sections, white padding for N sections.\n",
    "    run_distributed(command='%(script_path)s %(stack)s %(lossless_tif_dir)s %(lossless_aligned_cropped_dir)s %%(transform)s %%(filename)s %%(output_fn)s lossless %(x)d %(y)d %(w)d %(h)d %%(pad_bg_color)s'%\\\n",
    "                    {'script_path': script_fp,\n",
    "                    'stack': stack,\n",
    "                    'lossless_tif_dir': lossless_tif_dir,\n",
    "                    'lossless_aligned_cropped_dir': lossless_aligned_cropped_dir,\n",
    "                    'x': x,\n",
    "                    'y': y,\n",
    "                    'w': w,\n",
    "                    'h': h},\n",
    "                    kwargs_list=[{'transform': ','.join(map(str, tfs[fn].flatten())),\n",
    "                                'filename': fn + '_lossless.tif',\n",
    "                                'output_fn': fn + '_lossless_alignedTo_' + anchor_fn + '_cropped.tif',\n",
    "                                'pad_bg_color': 'black' if fn.split('-')[1][0] == 'F' else 'white'}\n",
    "                                for fn in valid_filenames[first_idx_among_valid:last_idx_among_valid+1]],\n",
    "#                                  for fn in valid_filenames[first_idx_among_valid:first_idx_among_valid+16]],\n",
    "                    argument_type='single',\n",
    "                   cluster_size=16,\n",
    "                   jobs_per_node=4)\n",
    "else:\n",
    "    run_distributed(command='%(script_path)s %(stack)s %(lossless_tif_dir)s %(lossless_aligned_cropped_dir)s %%(transform)s %%(filename)s %%(output_fn)s lossless %(x)d %(y)d %(w)d %(h)d %(pad_bg_color)s'%\\\n",
    "                    {'script_path': script_fp,\n",
    "                    'stack': stack,\n",
    "                    'lossless_tif_dir': lossless_tif_dir,\n",
    "                    'lossless_aligned_cropped_dir': lossless_aligned_cropped_dir,\n",
    "                    'x': x,\n",
    "                    'y': y,\n",
    "                    'w': w,\n",
    "                    'h': h,\n",
    "                    'pad_bg_color': pad_bg_color},\n",
    "                    kwargs_list=[{'transform': ','.join(map(str, tfs[fn].flatten())),\n",
    "                                'filename': fn + '_lossless.tif',\n",
    "                                'output_fn': fn + '_lossless_alignedTo_' + anchor_fn + '_cropped.tif'}\n",
    "                                for fn in valid_filenames[first_idx_among_valid:last_idx_among_valid+1]],\n",
    "#                                  for fn in valid_filenames[first_idx_among_valid:first_idx_among_valid+16]],\n",
    "                    argument_type='single',\n",
    "                   cluster_size=16,\n",
    "                   jobs_per_node=4)\n",
    "\n",
    "wait_qsub_complete()\n",
    "    \n",
    "sys.stderr.write('done in %f seconds\\n' % (time.time() - t)) # 4140 seconds (AWS)"
   ]
  },
  {
   "cell_type": "code",
   "execution_count": 24,
   "metadata": {},
   "outputs": [
    {
     "name": "stdout",
     "output_type": "stream",
     "text": [
      "aws s3 cp --recursive /shared/CSHL_data_processed/MD658/MD658_lossless_alignedTo_MD658-N58-2017.03.31-19.59.31_MD658_2_0173_cropped s3://mousebrainatlas-data/CSHL_data_processed/MD658/MD658_lossless_alignedTo_MD658-N58-2017.03.31-19.59.31_MD658_2_0173_cropped\n"
     ]
    },
    {
     "name": "stderr",
     "output_type": "stream",
     "text": [
      "Child returned 0\n",
      "1064.17 seconds.\n"
     ]
    }
   ],
   "source": [
    "transfer_data_synced(os.path.join('CSHL_data_processed', stack, stack + '_lossless_alignedTo_' + anchor_fn + '_cropped'),\n",
    "                    from_hostname='ec2',\n",
    "                    to_hostname='s3',\n",
    "                    is_dir=True) \n",
    "# 512 seconds"
   ]
  },
  {
   "cell_type": "markdown",
   "metadata": {},
   "source": [
    "# Warp and crop lossless CryoJane"
   ]
  },
  {
   "cell_type": "code",
   "execution_count": 4,
   "metadata": {
    "collapsed": true
   },
   "outputs": [],
   "source": [
    "version = 'Ntb'\n",
    "\n",
    "if stack in all_nissl_stacks:\n",
    "    pad_bg_color = 'white'\n",
    "elif stack == 'ChatCryoJane201710':\n",
    "    pad_bg_color = 'black'\n",
    "else:\n",
    "    pad_bg_color = 'auto'"
   ]
  },
  {
   "cell_type": "code",
   "execution_count": 5,
   "metadata": {
    "collapsed": true
   },
   "outputs": [],
   "source": [
    "prep_id = 2"
   ]
  },
  {
   "cell_type": "code",
   "execution_count": 6,
   "metadata": {
    "collapsed": true
   },
   "outputs": [],
   "source": [
    "_, sections_to_filenames = DataManager.load_sorted_filenames(stack=stack) \n",
    "valid_filenames = [fn for fn in sections_to_filenames.values() if not is_invalid(fn=fn)]"
   ]
  },
  {
   "cell_type": "code",
   "execution_count": 15,
   "metadata": {
    "collapsed": true
   },
   "outputs": [],
   "source": [
    "# RAW_DATA_DIR = os.path.join(DATA_ROOTDIR, 'CSHL_data')"
   ]
  },
  {
   "cell_type": "code",
   "execution_count": 14,
   "metadata": {},
   "outputs": [],
   "source": [
    "# tf_filepath = os.path.join(DATA_DIR, stack, '%(stack)s_transformsTo_anchor.pkl' % {'stack':stack})\n",
    "# tfs = pickle.load(open(tf_filepath, 'r'))\n",
    "# Note that the index from trasform pickle file starts at 0, BUT the .._renamed folder index starts at 1.#\n",
    "\n",
    "anchor_fn = DataManager.load_anchor_filename(stack=stack)\n",
    "transforms_to_anchor = DataManager.load_transforms(stack=stack, downsample_factor=32, use_inverse=False, anchor_fn=anchor_fn)\n",
    "\n",
    "input_dir = os.path.join(RAW_DATA_DIR, stack, stack + '_raw_' + version)\n",
    "# output_dir = os.path.join(DATA_DIR, stack, stack + '_prep' + prep_id + _lossless_' + version)\n",
    "output_dir = DataManager.get_image_dir_v2(stack=stack, prep_id=prep_id, resol='lossless', version=version)\n",
    "\n",
    "script = os.path.join(REPO_DIR, 'preprocess', 'warp_crop_IM_v3.py')"
   ]
  },
  {
   "cell_type": "code",
   "execution_count": 17,
   "metadata": {},
   "outputs": [
    {
     "name": "stdout",
     "output_type": "stream",
     "text": [
      "509 72 949 696\n"
     ]
    }
   ],
   "source": [
    "xmin, xmax, ymin, ymax, first_sec, last_sec = DataManager.load_cropbox(stack=stack)\n",
    "w = xmax + 1 - xmin\n",
    "h = ymax + 1 - ymin\n",
    "x = xmin\n",
    "y = ymin\n",
    "\n",
    "print x,y,w,h"
   ]
  },
  {
   "cell_type": "code",
   "execution_count": 22,
   "metadata": {},
   "outputs": [
    {
     "name": "stdout",
     "output_type": "stream",
     "text": [
      "rm -f ~/stderr_*; rm -f ~/stdout_*\n"
     ]
    },
    {
     "name": "stderr",
     "output_type": "stream",
     "text": [
      "Run locally.\n"
     ]
    },
    {
     "name": "stdout",
     "output_type": "stream",
     "text": [
      "done in 16722.7882979 seconds\n"
     ]
    },
    {
     "name": "stderr",
     "output_type": "stream",
     "text": [
      "Jobs submitted. Use wait_qsub_complete() to wait for all execution to finish.\n"
     ]
    }
   ],
   "source": [
    "t = time.time()\n",
    "\n",
    "if pad_bg_color == 'auto': # useful for alternatively stained stacks where bg varies depending on stain on each section\n",
    "    run_distributed('%(script)s %(stack)s \\\"%%(input_fp)s\\\" \\\"%%(output_fp)s\\\" %%(transform)s lossless %(x)d %(y)d %(w)d %(h)d %%(pad_bg_color)s' % \\\n",
    "                    {'script': script,\n",
    "                    'stack': stack,\n",
    "                     'x': x,\n",
    "                    'y': y,\n",
    "                    'w': w,\n",
    "                    'h': h,\n",
    "                    },\n",
    "                    kwargs_list=[{'transform': ','.join(map(str, transforms_to_anchor[fn].flatten())),\n",
    "                                'input_fp': os.path.join(input_dir, \\\n",
    "                                                        fn + '_lossless_' + version + '.' + tb_fmt \\\n",
    "                                              if version is not None \\\n",
    "                                              else fn + '.' + tb_fmt),\n",
    "                                  'output_fp': DataManager.get_image_filepath_v2(stack=stack, fn=fn, prep_id=prep_id, version=version, resol='lossless'),\n",
    "                                'pad_bg_color': 'black' if fn.split('-')[1][0] == 'F' else 'white'}\n",
    "                                for fn in valid_filenames],\n",
    "                    argument_type='single',\n",
    "                   jobs_per_node=1,\n",
    "                   local_only=True)\n",
    "else:\n",
    "    run_distributed('%(script)s %(stack)s \\\"%%(input_fp)s\\\" \\\"%%(output_fp)s\\\" %%(transform)s lossless %(x)d %(y)d %(w)d %(h)d %(pad_bg_color)s' % \\\n",
    "                    {'script': script,\n",
    "                    'stack': stack,\n",
    "                     'x': x,\n",
    "                    'y': y,\n",
    "                    'w': w,\n",
    "                    'h': h,\n",
    "                    'pad_bg_color': pad_bg_color},\n",
    "                    kwargs_list=[{'transform': ','.join(map(str, transforms_to_anchor[fn].flatten())),\n",
    "                                'input_fp': os.path.join(input_dir, \\\n",
    "                                                        fn + '_lossless_' + version + '.' + tb_fmt \\\n",
    "                                              if version is not None \\\n",
    "                                              else fn + '.' + tb_fmt),\n",
    "                                  'output_fp': DataManager.get_image_filepath_v2(stack=stack, fn=fn, prep_id=prep_id, version=version, resol='lossless'),\n",
    "                                 }\n",
    "                                for fn in valid_filenames],\n",
    "                    argument_type='single',\n",
    "                   jobs_per_node=1,\n",
    "                   local_only=True)\n",
    "\n",
    "# wait_qsub_complete()\n",
    "    \n",
    "print 'done in', time.time() - t, 'seconds' # 300 seconds."
   ]
  },
  {
   "cell_type": "markdown",
   "metadata": {},
   "source": [
    "# Expand and Crop together (use /scratch)"
   ]
  },
  {
   "cell_type": "code",
   "execution_count": 10,
   "metadata": {
    "collapsed": true
   },
   "outputs": [],
   "source": [
    "stack = 'MD661'"
   ]
  },
  {
   "cell_type": "code",
   "execution_count": 11,
   "metadata": {},
   "outputs": [
    {
     "name": "stdout",
     "output_type": "stream",
     "text": [
      "468 1244 129 620\n"
     ]
    }
   ],
   "source": [
    "tfs = DataManager.load_transforms(stack=stack, downsample_factor=32, use_inverse=False)\n",
    "# xmin, xmax, ymin, ymax = metadata_cache['cropbox'][stack]\n",
    "xmin, xmax, ymin, ymax = DataManager.load_cropbox(stack)[:4]\n",
    "print xmin, xmax, ymin, ymax"
   ]
  },
  {
   "cell_type": "code",
   "execution_count": 12,
   "metadata": {
    "collapsed": true
   },
   "outputs": [],
   "source": [
    "raw_jp2_dir = DataManager.get_image_dir(stack=stack, resol='lossless', version='original_jp2', raw_data_dir='/scratch/CSHL_data')\n",
    "lossless_tif_dir = DataManager.get_image_dir_v2(stack=stack, resol='lossless', prep_id=0, data_dir='/scratch/CSHL_data_processed')\n",
    "lossless_aligned_cropped_dir = DataManager.get_image_dir_v2(stack=stack, resol='lossless', prep_id=2, data_dir='/scratch/CSHL_data_processed')"
   ]
  },
  {
   "cell_type": "code",
   "execution_count": 85,
   "metadata": {
    "scrolled": true
   },
   "outputs": [
    {
     "name": "stdout",
     "output_type": "stream",
     "text": [
      "rm -f ~/stderr_*; rm -f ~/stdout_*\n"
     ]
    },
    {
     "name": "stderr",
     "output_type": "stream",
     "text": [
      "16 nodes available.\n",
      "Jobs submitted. Use wait_qsub_complete() to wait for all execution to finish.\n"
     ]
    }
   ],
   "source": [
    "run_distributed('rm -rf /scratch/*', argument_type='single')"
   ]
  },
  {
   "cell_type": "code",
   "execution_count": 13,
   "metadata": {},
   "outputs": [
    {
     "name": "stderr",
     "output_type": "stream",
     "text": [
      "expanding...16 nodes available.\n",
      "Jobs submitted. Use wait_qsub_complete() to wait for all execution to finish.\n"
     ]
    },
    {
     "name": "stdout",
     "output_type": "stream",
     "text": [
      "rm -f ~/stderr_*; rm -f ~/stdout_*\n"
     ]
    },
    {
     "name": "stderr",
     "output_type": "stream",
     "text": [
      "qsub returned.\n",
      "done in 150.463349 seconds\n"
     ]
    }
   ],
   "source": [
    "t = time.time()\n",
    "sys.stderr.write('expanding...')\n",
    "\n",
    "warp_crop_script_fp = os.path.join(REPO_DIR, 'preprocess', 'warp_crop_IM_v3.py')\n",
    "\n",
    "run_distributed('aws s3 cp \\\"s3://mousebrainatlas-rawdata/CSHL_data/%(stack)s/%%(fn)s_lossless.jp2\\\" \\\"%(raw_jp2_dir)s\\\"/ && \\\n",
    "mkdir -p \\\"%(lossless_tif_dir)s\\\" && \\\n",
    "LD_LIBRARY_PATH=/home/ubuntu/KDU79_Demo_Apps_for_Linux-x86-64_170108:$LD_LIBRARY_PATH %(kdu_bin)s -i \\\"%%(in_fp)s\\\" -o \\\"%%(lossless_tif_fp)s\\\" && \\\n",
    "mkdir -p \\\"%(lossless_aligned_cropped_dir)s\\\" && \\\n",
    "%(script_path)s %(stack)s \\\"%%(lossless_tif_fp)s\\\" \\\"%%(lossless_aligned_cropped_fp)s\\\" %%(transform)s lossless %(x)d %(y)d %(w)d %(h)d %%(pad_bg_color)s && \\\n",
    "aws s3 cp \\\"%%(lossless_aligned_cropped_fp)s\\\" \\\"s3://mousebrainatlas-data/%(s3_dest_dir)s/\\\"' % \\\n",
    "                {'stack': stack,\n",
    "                'kdu_bin': KDU_EXPAND_BIN,\n",
    "                'raw_jp2_dir': raw_jp2_dir,\n",
    "                'script_path': warp_crop_script_fp,\n",
    "                'lossless_tif_dir': lossless_tif_dir,\n",
    "                'lossless_aligned_cropped_dir': lossless_aligned_cropped_dir,\n",
    "                 's3_dest_dir': relative_to_local(lossless_aligned_cropped_dir, local_root='/scratch'),\n",
    "                'x': xmin,\n",
    "                'y': ymin,\n",
    "                'w': xmax + 1 - xmin,\n",
    "                'h': ymax + 1 - ymin},\n",
    "                kwargs_list=[{'fn': fn, \n",
    "                              'in_fp': os.path.join(raw_jp2_dir, fn + '_lossless.jp2'),\n",
    "                              'transform': ','.join(map(str, tfs[fn].flatten())),\n",
    "                                'lossless_tif_fp': DataManager.get_image_filepath_v2(stack=stack, fn=fn, resol='lossless', prep_id=0, data_dir='/scratch/CSHL_data_processed'),\n",
    "                                'lossless_aligned_cropped_fp': DataManager.get_image_filepath_v2(stack=stack, fn=fn, resol='lossless', prep_id=2, data_dir='/scratch/CSHL_data_processed'),\n",
    "                                'pad_bg_color': 'black' if fn.split('-')[1][0] == 'F' else 'white'}\n",
    "                             for fn in metadata_cache['valid_filenames'][stack]],\n",
    "                argument_type='single')\n",
    "\n",
    "wait_qsub_complete()\n",
    "\n",
    "sys.stderr.write('done in %f seconds\\n' % (time.time() - t)) \n",
    "# 16 4.2xlarge, whole stack,4222 seconds.\n",
    "# 4 4.xlarge nodes, whole stack, 10280 seconds."
   ]
  },
  {
   "cell_type": "markdown",
   "metadata": {},
   "source": [
    "# Convert images to nissl-like grayscale - for full nissl stacks"
   ]
  },
  {
   "cell_type": "code",
   "execution_count": 20,
   "metadata": {},
   "outputs": [
    {
     "name": "stderr",
     "output_type": "stream",
     "text": [
      "Convert nissl images to gray...Child returned 0\n",
      "16 nodes requested, 16 nodes available...Continuing\n"
     ]
    },
    {
     "name": "stdout",
     "output_type": "stream",
     "text": [
      "rm -f ~/stderr_*; rm -f ~/stdout_*\n"
     ]
    },
    {
     "name": "stderr",
     "output_type": "stream",
     "text": [
      "Jobs submitted. Use wait_qsub_complete() to check if they finish.\n",
      "qsub returned.\n",
      "done in 1136.945903 seconds\n"
     ]
    }
   ],
   "source": [
    "# for stack in all_nissl_stacks:\n",
    "for stack in ['MD595']:\n",
    "    \n",
    "    download_from_s3(DataManager.get_sorted_filenames_filename(stack=stack))\n",
    "    _, sections_to_filenames = DataManager.load_sorted_filenames(stack=stack)\n",
    "    \n",
    "    valid_filenames = [fn for fn in sections_to_filenames.values() if not is_invalid(fn=fn)]\n",
    "    download_from_s3(DataManager.get_anchor_filename_filename(stack=stack))\n",
    "\n",
    "    _, _, _, _, first_sec, last_sec = DataManager.load_cropbox(stack=stack)\n",
    "    first_fn = sections_to_filenames[first_sec]\n",
    "    last_fn = sections_to_filenames[last_sec]\n",
    "    first_idx_among_valid = valid_filenames.index(first_fn)\n",
    "    last_idx_among_valid = valid_filenames.index(last_fn)\n",
    "\n",
    "    # Convert Nissl images to grayscale\n",
    "    \n",
    "    t = time.time()\n",
    "    sys.stderr.write('Convert nissl images to gray...')\n",
    "\n",
    "    script_fp = os.path.join(REPO_DIR, 'preprocess', 'convert_grayscale_neurotrace_v2.py')\n",
    "\n",
    "    run_distributed(command='%(script_path)s %(stack)s \\'%%(filenames)s\\''%\\\n",
    "                        {'script_path': script_fp, 'stack': stack},\n",
    "                        kwargs_list={'filenames': valid_filenames[first_idx_among_valid:last_idx_among_valid+1]\n",
    "                                    },\n",
    "                        argument_type='list2')\n",
    "\n",
    "    wait_qsub_complete()\n",
    "\n",
    "    sys.stderr.write('done in %f seconds\\n' % (time.time() - t)) # 900 seconds."
   ]
  },
  {
   "cell_type": "markdown",
   "metadata": {},
   "source": [
    "# Convert images to nissl-like grayscale - for alternating nissl/neurotrace stacks"
   ]
  },
  {
   "cell_type": "code",
   "execution_count": 269,
   "metadata": {
    "scrolled": true
   },
   "outputs": [
    {
     "name": "stderr",
     "output_type": "stream",
     "text": [
      "Convert nissl images to gray...16 nodes requested, 16 nodes available...Continuing\n",
      "Jobs submitted. Use wait_qsub_complete() to check if they finish.\n",
      "qsub returned.\n",
      "done in 1098.395771 seconds\n",
      "16 nodes requested, 16 nodes available...Continuing\n"
     ]
    },
    {
     "name": "stdout",
     "output_type": "stream",
     "text": [
      "Match intensity profile between Neurotrace and Nissl..."
     ]
    },
    {
     "name": "stderr",
     "output_type": "stream",
     "text": [
      "Jobs submitted. Use wait_qsub_complete() to check if they finish.\n",
      "qsub returned.\n",
      "Convert neurotrace images to gray...16 nodes requested, 16 nodes available...Continuing\n"
     ]
    },
    {
     "name": "stdout",
     "output_type": "stream",
     "text": [
      " done in 2371.7916441 seconds\n"
     ]
    },
    {
     "name": "stderr",
     "output_type": "stream",
     "text": [
      "Jobs submitted. Use wait_qsub_complete() to check if they finish.\n",
      "qsub returned.\n",
      "done in 1008.132029 seconds\n",
      "Convert nissl images to gray...16 nodes requested, 16 nodes available...Continuing\n",
      "Jobs submitted. Use wait_qsub_complete() to check if they finish.\n",
      "qsub returned.\n",
      "done in 1053.684169 seconds\n",
      "16 nodes requested, 16 nodes available...Continuing\n"
     ]
    },
    {
     "name": "stdout",
     "output_type": "stream",
     "text": [
      "Match intensity profile between Neurotrace and Nissl..."
     ]
    },
    {
     "name": "stderr",
     "output_type": "stream",
     "text": [
      "Jobs submitted. Use wait_qsub_complete() to check if they finish.\n",
      "qsub returned.\n",
      "Convert neurotrace images to gray...16 nodes requested, 16 nodes available...Continuing\n"
     ]
    },
    {
     "name": "stdout",
     "output_type": "stream",
     "text": [
      " done in 3785.25425816 seconds\n"
     ]
    },
    {
     "name": "stderr",
     "output_type": "stream",
     "text": [
      "Jobs submitted. Use wait_qsub_complete() to check if they finish.\n",
      "qsub returned.\n",
      "done in 1298.919096 seconds\n"
     ]
    }
   ],
   "source": [
    "# for stack in all_alt_nissl_ntb_stacks + all_alt_nissl_tracing_stacks:\n",
    "for stack in ['MD653', 'MD657']:\n",
    "    \n",
    "    download_from_s3(DataManager.get_sorted_filenames_filename(stack=stack))\n",
    "    _, sections_to_filenames = DataManager.load_sorted_filenames(stack=stack)\n",
    "    \n",
    "    valid_filenames = [fn for fn in sections_to_filenames.values() if not is_invalid(fn=fn)]\n",
    "    download_from_s3(DataManager.get_anchor_filename_filename(stack=stack))\n",
    "\n",
    "    _, _, _, _, first_sec, last_sec = DataManager.load_cropbox(stack=stack)\n",
    "    first_fn = sections_to_filenames[first_sec]\n",
    "    last_fn = sections_to_filenames[last_sec]\n",
    "    first_idx_among_valid = valid_filenames.index(first_fn)\n",
    "    last_idx_among_valid = valid_filenames.index(last_fn)\n",
    "\n",
    "    # Convert Nissl images to grayscale\n",
    "    \n",
    "    t = time.time()\n",
    "    sys.stderr.write('Convert nissl images to gray...')\n",
    "\n",
    "    script_fp = os.path.join(REPO_DIR, 'preprocess', 'convert_grayscale_neurotrace_v2.py')\n",
    "\n",
    "    run_distributed(command='%(script_path)s %(stack)s \\'%%(filenames)s\\''%\\\n",
    "                        {'script_path': script_fp, 'stack': stack},\n",
    "                        kwargs_list={'filenames': \n",
    "                                     [fn for fn in valid_filenames[first_idx_among_valid:last_idx_among_valid+1]\n",
    "                                      if fn.split('-')[1][0] == 'N']\n",
    "                                    },\n",
    "                        argument_type='list2',\n",
    "                       cluster_size=16)\n",
    "\n",
    "    wait_qsub_complete()\n",
    "\n",
    "    sys.stderr.write('done in %f seconds\\n' % (time.time() - t)) # 900 seconds.\n",
    "    \n",
    "    # Match intensity profile between Neurotrace Blue to Nissl\n",
    "\n",
    "    t = time.time()\n",
    "    sys.stderr.write('Match intensity profile between Neurotrace and Nissl...')\n",
    "\n",
    "    filename_pairs = []\n",
    "    l = valid_filenames[first_idx_among_valid:last_idx_among_valid+1]\n",
    "    for i, fn in enumerate(l):\n",
    "        if l[i].split('-')[1][0] == 'F':\n",
    "            for d in range(1, 99):\n",
    "                if i+d < len(l) and l[i+d].split('-')[1][0] == 'N':\n",
    "                    filename_pairs.append((l[i+d], l[i]))\n",
    "                    break\n",
    "                if i-d >= 0 and l[i-d].split('-')[1][0] == 'N':\n",
    "                    filename_pairs.append((l[i-d], l[i]))\n",
    "                    break\n",
    "            \n",
    "    script_fp = os.path.join(REPO_DIR, 'preprocess', 'match_intensity_profile.py')\n",
    "    \n",
    "    run_distributed(command='%(script_path)s %(stack)s \\'%%(filename_pairs)s\\' ' % \\\n",
    "                    {'script_path': script_fp,\n",
    "                    'stack': stack,\n",
    "                    'filename_pairs': filename_pairs},\n",
    "                    kwargs_list=dict(filename_pairs=filename_pairs),\n",
    "                    argument_type='list2',\n",
    "                   cluster_size=16)\n",
    "\n",
    "    wait_qsub_complete()\n",
    "\n",
    "    sys.stderr.write('done in %f seconds\\n' % (time.time() - t)) # 2500 seconds. \n",
    "    # TODO: One node is especially slow, investigate.\n",
    "    \n",
    "    # Convert Neurotrace images to grayscale\n",
    "    \n",
    "    t = time.time()\n",
    "    sys.stderr.write('Convert neurotrace images to gray...')\n",
    "    \n",
    "    script_fp = os.path.join(REPO_DIR, 'preprocess', 'convert_grayscale_neurotrace_v2.py')\n",
    "    \n",
    "    run_distributed(command='%(script_path)s %(stack)s \\'%%(filenames)s\\''%\\\n",
    "                        {'script_path': script_fp, \n",
    "                        'stack': stack},\n",
    "                        kwargs_list={'filenames': [fn for fn in valid_filenames[first_idx_among_valid:last_idx_among_valid+1]\n",
    "                                      if fn.split('-')[1][0] == 'F']\n",
    "                                    },\n",
    "                        argument_type='list2',\n",
    "                       cluster_size=16)\n",
    "\n",
    "    wait_qsub_complete()\n",
    "\n",
    "    sys.stderr.write('done in %f seconds\\n' % (time.time() - t)) # 1200 seconds.    "
   ]
  },
  {
   "cell_type": "markdown",
   "metadata": {},
   "source": [
    "# Convert images to nissl-like grayscale - for full neurotrace stacks"
   ]
  },
  {
   "cell_type": "code",
   "execution_count": 9,
   "metadata": {},
   "outputs": [
    {
     "name": "stderr",
     "output_type": "stream",
     "text": [
      "Convert neurotrace images to gray...Child returned 0\n",
      "16 nodes available.\n"
     ]
    },
    {
     "name": "stdout",
     "output_type": "stream",
     "text": [
      "rm -f ~/stderr_*; rm -f ~/stdout_*\n"
     ]
    },
    {
     "name": "stderr",
     "output_type": "stream",
     "text": [
      "Jobs submitted. Use wait_qsub_complete() to wait for all execution to finish.\n",
      "qsub returned.\n",
      "done in 1952.800308 seconds\n"
     ]
    }
   ],
   "source": [
    "for stack in ['MD635']:\n",
    "    \n",
    "    # Convert Neurotrace images to grayscale using a priori intensity mapping.\n",
    "    \n",
    "    t = time.time()\n",
    "    sys.stderr.write('Convert neurotrace images to gray...')\n",
    "    \n",
    "    script_fp = os.path.join(REPO_DIR, 'preprocess', 'convert_grayscale_neurotrace_v2.py')\n",
    "    \n",
    "    run_distributed(command='%(script_path)s %(stack)s \\'%%(filenames)s\\''%\\\n",
    "                        {'script_path': script_fp, \n",
    "                        'stack': stack},\n",
    "                        kwargs_list={'filenames': metadata_cache['valid_filenames'][stack]},\n",
    "                        argument_type='list2')\n",
    "\n",
    "    wait_qsub_complete()\n",
    "\n",
    "    sys.stderr.write('done in %f seconds\\n' % (time.time() - t)) # 2000 seconds.    "
   ]
  },
  {
   "cell_type": "markdown",
   "metadata": {},
   "source": [
    "# ONE STACK"
   ]
  },
  {
   "cell_type": "markdown",
   "metadata": {},
   "source": [
    "# Step 1: Convert Nissl images to grayscale"
   ]
  },
  {
   "cell_type": "code",
   "execution_count": null,
   "metadata": {
    "collapsed": true
   },
   "outputs": [],
   "source": [
    "t = time.time()\n",
    "sys.stderr.write('Convert nissl images to gray...')\n",
    "               \n",
    "script_fp = os.path.join(REPO_DIR, 'preprocess', 'convert_grayscale_neurotrace_v2.py')\n",
    "\n",
    "run_distributed(command='%(script_path)s %(stack)s \\'%%(filenames)s\\''%\\\n",
    "                    {'script_path': script_fp, 'stack': stack},\n",
    "#                     kwargs_list={'filenames': valid_filenames[first_idx_among_valid:last_idx_among_valid+1]},\n",
    "                    kwargs_list={'filenames':\n",
    "                                 [fn for fn in valid_filenames[first_idx_among_valid:last_idx_among_valid+1]\n",
    "                                  if fn.split('-')[1][0] == 'N']},\n",
    "                    argument_type='list2',\n",
    "                   cluster_size=16)\n",
    "\n",
    "wait_qsub_complete()\n",
    "\n",
    "sys.stderr.write('done in %f seconds\\n' % (time.time() - t)) # 1200 seconds."
   ]
  },
  {
   "cell_type": "code",
   "execution_count": 44,
   "metadata": {
    "collapsed": true
   },
   "outputs": [],
   "source": [
    "# Convert contrast-stretched Neurotrace images to grayscale\n",
    "\n",
    "# script_fp = os.path.join(REPO_DIR, 'preprocess', 'convert_grayscale_neurotrace.py')\n",
    "# in_dir = os.path.join(DATA_DIR, stack, stack + '_lossless_alignedTo_' + anchor_fn + '_cropped_contrast_stretched')\n",
    "# out_dir = os.path.join(DATA_DIR, stack, stack + '_lossless_alignedTo_' + anchor_fn + '_cropped_contrast_stretched_blueasgray')\n",
    "# ! mkdir -p {out_dir}"
   ]
  },
  {
   "cell_type": "code",
   "execution_count": 57,
   "metadata": {},
   "outputs": [
    {
     "name": "stderr",
     "output_type": "stream",
     "text": [
      "Convert neurotrace images to gray...16 nodes requested, 16 nodes available...Continuing\n",
      "Jobs submitted. Use wait_qsub_complete() to check if they finish.\n",
      "qsub returned.\n",
      "done in 75.575123 seconds\n"
     ]
    }
   ],
   "source": [
    "# t = time.time()\n",
    "# sys.stderr.write('Convert neurotrace images to gray...')\n",
    "               \n",
    "# run_distributed(command='%(script_path)s %%(in_fn)s %%(out_fn)s'%\\\n",
    "#                     {'script_path': script_fp},\n",
    "#                     kwargs_list=[{'in_fn': os.path.join(in_dir, fn + '_lossless_alignedTo_' + anchor_fn + '_cropped_contrast_stretched.tif'),\n",
    "#                                 'out_fn': os.path.join(out_dir, fn + '_lossless_alignedTo_' + anchor_fn + '_cropped_contrast_stretched_blueasgray.tif')}\n",
    "# #                                 for fn in valid_filenames[first_idx_among_valid:last_idx_among_valid+1]\n",
    "#                                  for fn in valid_filenames[150:151]\n",
    "#                                 if fn.split('-')[1][0] == 'F'],\n",
    "#                     argument_type='single',\n",
    "#                    cluster_size=16)\n",
    "\n",
    "# wait_qsub_complete()\n",
    "\n",
    "# sys.stderr.write('done in %f seconds\\n' % (time.time() - t)) # 2500 seconds"
   ]
  },
  {
   "cell_type": "markdown",
   "metadata": {},
   "source": [
    "# Step 2: Match intensity profile between Neurotrace Blue to Nissl"
   ]
  },
  {
   "cell_type": "code",
   "execution_count": 122,
   "metadata": {
    "scrolled": true
   },
   "outputs": [
    {
     "name": "stdout",
     "output_type": "stream",
     "text": [
      "Match intensity profile between Neurotrace and Nissl... rm -f ~/stderr_*; rm -f ~/stdout_*\n"
     ]
    },
    {
     "name": "stderr",
     "output_type": "stream",
     "text": [
      "Child returned 0\n",
      "16 nodes available.\n",
      "Jobs submitted. Use wait_qsub_complete() to wait for all execution to finish.\n",
      "qsub returned.\n",
      "Child returned 0\n",
      "16 nodes available.\n"
     ]
    },
    {
     "name": "stdout",
     "output_type": "stream",
     "text": [
      "done in 2790.67252398 seconds\n",
      "Match intensity profile between Neurotrace and Nissl... rm -f ~/stderr_*; rm -f ~/stdout_*\n"
     ]
    },
    {
     "name": "stderr",
     "output_type": "stream",
     "text": [
      "Jobs submitted. Use wait_qsub_complete() to wait for all execution to finish.\n",
      "qsub returned.\n",
      "Child returned 0\n",
      "16 nodes available.\n"
     ]
    },
    {
     "name": "stdout",
     "output_type": "stream",
     "text": [
      "done in 2554.21281099 seconds\n",
      "Match intensity profile between Neurotrace and Nissl... rm -f ~/stderr_*; rm -f ~/stdout_*\n"
     ]
    },
    {
     "name": "stderr",
     "output_type": "stream",
     "text": [
      "Jobs submitted. Use wait_qsub_complete() to wait for all execution to finish.\n",
      "qsub returned.\n",
      "Child returned 0\n",
      "16 nodes available.\n"
     ]
    },
    {
     "name": "stdout",
     "output_type": "stream",
     "text": [
      "done in 2655.20303488 seconds\n",
      "Match intensity profile between Neurotrace and Nissl... rm -f ~/stderr_*; rm -f ~/stdout_*\n"
     ]
    },
    {
     "name": "stderr",
     "output_type": "stream",
     "text": [
      "Jobs submitted. Use wait_qsub_complete() to wait for all execution to finish.\n"
     ]
    },
    {
     "name": "stdout",
     "output_type": "stream",
     "text": [
      "done in 2363.96758008 seconds\n"
     ]
    },
    {
     "name": "stderr",
     "output_type": "stream",
     "text": [
      "qsub returned.\n"
     ]
    }
   ],
   "source": [
    "# for stack in all_alt_nissl_ntb_stacks + all_alt_nissl_tracing_stacks:\n",
    "for stack in ['MD653', 'MD652', 'MD642', 'MD658']:\n",
    "\n",
    "#     download_from_s3(DataManager.get_sorted_filenames_filename(stack=stack))\n",
    "#     _, sections_to_filenames = DataManager.load_sorted_filenames(stack=stack)\n",
    "#     valid_filenames = [fn for fn in sections_to_filenames.values() if not is_invalid(fn=fn)]\n",
    "#     download_from_s3(DataManager.get_anchor_filename_filename(stack=stack))\n",
    "#     anchor_fn = DataManager.load_anchor_filename(stack=stack)\n",
    "#     download_from_s3(DataManager.get_cropbox_filename(stack=stack))\n",
    "#     xmin, xmax, ymin, ymax, first_sec, last_sec = DataManager.load_cropbox(stack=stack)\n",
    "#     w = xmax + 1 - xmin\n",
    "#     h = ymax + 1 - ymin\n",
    "#     x = xmin\n",
    "#     y = ymin\n",
    "#     first_fn = sections_to_filenames[first_sec]\n",
    "#     last_fn = sections_to_filenames[last_sec]\n",
    "#     first_idx_among_valid = valid_filenames.index(first_fn)\n",
    "#     last_idx_among_valid = valid_filenames.index(last_fn)\n",
    "    \n",
    "    #########################################################\n",
    "    \n",
    "    t = time.time()\n",
    "    print 'Match intensity profile between Neurotrace and Nissl...',\n",
    "    \n",
    "    filename_pairs = []\n",
    "    l = metadata_cache['valid_filenames'][stack]\n",
    "    for i, fn in enumerate(l):\n",
    "        if l[i].split('-')[1][0] == 'F':\n",
    "            for d in range(1, 99):\n",
    "                if i+d < len(l) and l[i+d].split('-')[1][0] == 'N':\n",
    "                    filename_pairs.append((l[i+d], l[i]))\n",
    "                    break\n",
    "                if i-d >= 0 and l[i-d].split('-')[1][0] == 'N':\n",
    "                    filename_pairs.append((l[i-d], l[i]))\n",
    "                    break\n",
    "    \n",
    "    script = os.path.join(REPO_DIR, 'preprocess', 'match_intensity_profile_v2.py')\n",
    "    \n",
    "    run_distributed(command='%(script_path)s %(stack)s \\'%%(filename_pairs)s\\' 100' % \\\n",
    "                    {'script_path': script,\n",
    "                    'stack': stack},\n",
    "#                     kwargs_list=dict(filename_pairs=filename_pairs[37:38]),\n",
    "                    kwargs_list=dict(filename_pairs=filename_pairs),\n",
    "                    argument_type='list2'\n",
    "                   )\n",
    "\n",
    "    wait_qsub_complete()\n",
    "\n",
    "    print 'done in', time.time() - t, 'seconds'"
   ]
  },
  {
   "cell_type": "markdown",
   "metadata": {},
   "source": [
    "# Step 3: Convert Neurotrace images to grayscale (New, use nonlinear intensity mapping)"
   ]
  },
  {
   "cell_type": "code",
   "execution_count": 6,
   "metadata": {},
   "outputs": [
    {
     "name": "stdout",
     "output_type": "stream",
     "text": [
      "Setting autoscaling group cfncluster-yuncongcluster-ComputeFleet-1LEH9CIEITL1A capaticy to 16...it may take more than 5 minutes for SGE to know new hosts.\n"
     ]
    }
   ],
   "source": [
    "request_compute_nodes(16, 'yuncong')"
   ]
  },
  {
   "cell_type": "code",
   "execution_count": 7,
   "metadata": {
    "scrolled": true
   },
   "outputs": [
    {
     "name": "stdout",
     "output_type": "stream",
     "text": [
      "rm -f ~/stderr_*; rm -f ~/stdout_*\n"
     ]
    },
    {
     "name": "stderr",
     "output_type": "stream",
     "text": [
      "0 nodes available.\n"
     ]
    }
   ],
   "source": [
    "run_distributed('rm -rf /scratch/*', argument_type='single')"
   ]
  },
  {
   "cell_type": "code",
   "execution_count": 8,
   "metadata": {
    "collapsed": true
   },
   "outputs": [],
   "source": [
    "# for fn in valid_filenames[first_idx_among_valid:last_idx_among_valid+1]:\n",
    "#     download_from_s3(DataManager.get_image_filepath(stack=stack, version='cropped', resol='lossless', fn=fn))"
   ]
  },
  {
   "cell_type": "markdown",
   "metadata": {},
   "source": [
    "This requires at least 4.2xlarge instances. 4.xlarge causes memory error."
   ]
  },
  {
   "cell_type": "code",
   "execution_count": 101,
   "metadata": {
    "collapsed": true
   },
   "outputs": [],
   "source": [
    "# _, sections_to_filenames = DataManager.load_sorted_filenames(stack=stack) \n",
    "# valid_filenames = [fn for fn in sections_to_filenames.values() if not is_invalid(fn=fn)]"
   ]
  },
  {
   "cell_type": "code",
   "execution_count": 8,
   "metadata": {
    "collapsed": true
   },
   "outputs": [],
   "source": [
    "script_fp = os.path.join(REPO_DIR, 'preprocess', 'convert_grayscale_neurotrace_v2.py')"
   ]
  },
  {
   "cell_type": "code",
   "execution_count": 9,
   "metadata": {
    "scrolled": false
   },
   "outputs": [
    {
     "name": "stderr",
     "output_type": "stream",
     "text": [
      "Convert neurotrace images to gray...16 nodes available.\n",
      "Jobs submitted. Use wait_qsub_complete() to wait for all execution to finish.\n"
     ]
    },
    {
     "name": "stdout",
     "output_type": "stream",
     "text": [
      "rm -f ~/stderr_*; rm -f ~/stdout_*\n"
     ]
    },
    {
     "name": "stderr",
     "output_type": "stream",
     "text": [
      "qsub returned.\n",
      "done in 1885.043394 seconds\n",
      "Convert neurotrace images to gray...16 nodes available.\n"
     ]
    },
    {
     "name": "stdout",
     "output_type": "stream",
     "text": [
      "rm -f ~/stderr_*; rm -f ~/stdout_*\n"
     ]
    },
    {
     "name": "stderr",
     "output_type": "stream",
     "text": [
      "Jobs submitted. Use wait_qsub_complete() to wait for all execution to finish.\n",
      "qsub returned.\n",
      "done in 2247.007864 seconds\n"
     ]
    }
   ],
   "source": [
    "# for stack in all_alt_nissl_ntb_stacks + all_alt_nissl_tracing_stacks:\n",
    "for stack in ['MD652', 'MD653']:\n",
    "    \n",
    "#     output_dir = create_if_not_exists(DataManager.get_image_dir_v2(stack=stack, prep_id=2, resol='lossless'));\n",
    "#     ! rm -r {output_dir}\n",
    "\n",
    "    t = time.time()\n",
    "    sys.stderr.write('Convert neurotrace images to gray...')\n",
    "\n",
    "    run_distributed(command='DATA_DIR=/scratch/CSHL_data_processed %(script_path)s %(stack)s \\'%%(filenames)s\\' -o %(output_version)s --not_use_section_specific'%\\\n",
    "#     run_distributed(command='DATA_DIR=/scratch/CSHL_data_processed %(script_path)s %(stack)s \\'%%(filenames)s\\' -o %(output_version)s'%\\\n",
    "                        {'script_path': script_fp, \n",
    "                        'stack': stack,\n",
    "                        'output_version': 'grayDefault'},\n",
    "                        kwargs_list={'filenames': metadata_cache['valid_filenames'][stack]\n",
    "#                                      [fn for fn in metadata_cache['valid_filenames'][stack][151:152]\n",
    "#                                       if fn.split('-')[1][0] == 'F']\n",
    "                                    },\n",
    "                        argument_type='list2')\n",
    "\n",
    "    wait_qsub_complete()\n",
    "\n",
    "    sys.stderr.write('done in %f seconds\\n' % (time.time() - t)) # 1200 seconds.\n",
    "    \n",
    "# 16 4.2xlarge, whole stack, 2000s"
   ]
  },
  {
   "cell_type": "code",
   "execution_count": 68,
   "metadata": {
    "collapsed": true
   },
   "outputs": [],
   "source": [
    "# upload_to_s3(DataManager.get_image_dir(stack=stack, version='cropped_gray', resol='lossless'), is_dir=True)"
   ]
  },
  {
   "cell_type": "markdown",
   "metadata": {},
   "source": [
    "# Step 2/3: Convert Neurotrace images to grayscale (linear intensity mapping)"
   ]
  },
  {
   "cell_type": "code",
   "execution_count": 2,
   "metadata": {
    "collapsed": true
   },
   "outputs": [],
   "source": [
    "stack = 'MD662'"
   ]
  },
  {
   "cell_type": "code",
   "execution_count": 3,
   "metadata": {
    "collapsed": true
   },
   "outputs": [],
   "source": [
    "script_fp = os.path.join(REPO_DIR, 'preprocess', 'convert_grayscale_neurotrace_v2.py')"
   ]
  },
  {
   "cell_type": "code",
   "execution_count": 5,
   "metadata": {},
   "outputs": [
    {
     "name": "stdout",
     "output_type": "stream",
     "text": [
      "rm -f ~/stderr_*; rm -f ~/stdout_*\n"
     ]
    },
    {
     "name": "stderr",
     "output_type": "stream",
     "text": [
      "0 nodes available.\n",
      "qsub returned.\n"
     ]
    }
   ],
   "source": [
    "run_distributed('rm -rf /scratch/*', argument_type='single')\n",
    "wait_qsub_complete()"
   ]
  },
  {
   "cell_type": "code",
   "execution_count": 8,
   "metadata": {
    "scrolled": true
   },
   "outputs": [
    {
     "name": "stderr",
     "output_type": "stream",
     "text": [
      "Convert neurotrace images to gray...16 nodes available.\n"
     ]
    },
    {
     "name": "stdout",
     "output_type": "stream",
     "text": [
      "rm -f ~/stderr_*; rm -f ~/stdout_*\n"
     ]
    },
    {
     "name": "stderr",
     "output_type": "stream",
     "text": [
      "Jobs submitted. Use wait_qsub_complete() to wait for all execution to finish.\n",
      "qsub returned.\n",
      "done in 672.223936 seconds\n",
      "16 nodes available.\n"
     ]
    },
    {
     "name": "stdout",
     "output_type": "stream",
     "text": [
      "rm -f ~/stderr_*; rm -f ~/stdout_*\n"
     ]
    },
    {
     "name": "stderr",
     "output_type": "stream",
     "text": [
      "Jobs submitted. Use wait_qsub_complete() to wait for all execution to finish.\n",
      "qsub returned.\n",
      "done in 1264.206029 seconds\n"
     ]
    }
   ],
   "source": [
    "t = time.time()\n",
    "sys.stderr.write('Convert neurotrace images to gray...')\n",
    "\n",
    "for low in range(500, 1500, 500):\n",
    "    high = 0\n",
    "# for low in [500]:\n",
    "\n",
    "    run_distributed(command='DATA_ROOTDIR=/scratch %(script_path)s %(stack)s \\'%%(filenames)s\\' -l %(low)d -H %(high)d -o %(output_version)s'%\\\n",
    "                        {'script_path': script_fp, \n",
    "                        'stack': stack,\n",
    "                        'low': low,\n",
    "                         'high': high,\n",
    "                        'output_version': 'grayL'+str(low)+'H'+str(high)},\n",
    "                        kwargs_list={'filenames': \n",
    "                                     [fn for fn in metadata_cache['valid_filenames'][stack]\n",
    "                                      if fn.split('-')[1][0] == 'F']},\n",
    "#                                      metadata_cache['valid_filenames'][stack]},\n",
    "                        argument_type='list2',\n",
    "                   node_list=get_node_list())\n",
    "\n",
    "    wait_qsub_complete()\n",
    "\n",
    "    sys.stderr.write('done in %f seconds\\n' % (time.time() - t)) \n",
    "\n",
    "# /scratch, 133 jobs / 16 nodes: 850 seconds"
   ]
  },
  {
   "cell_type": "code",
   "execution_count": null,
   "metadata": {
    "collapsed": true
   },
   "outputs": [],
   "source": [
    "# This may not be necessary. Intensity rescaling is easy at feature generation time.\n",
    "\n",
    "script_fp = os.path.join(REPO_DIR, 'preprocess', 'convert_grayscale_neurotrace_v2.py')\n",
    "\n",
    "for stack in ['MD585', 'MD589', 'MD594']:\n",
    "    \n",
    "    run_distributed('rm -rf /scratch/*', argument_type='single')\n",
    "    wait_qsub_complete()\n",
    "\n",
    "    for low in [0, 63, 127]:\n",
    "        for high in [127, 191, 255]:\n",
    "            if low < high:\n",
    "                \n",
    "                t = time.time()\n",
    "                sys.stderr.write('Convert nissl images to gray...')\n",
    "\n",
    "                run_distributed(command='DATA_DIR=/scratch/CSHL_data_processed %(script_path)s %(stack)s \\'%%(filenames)s\\' -l %(low)d -H %(high)d -o %(output_version)s'%\\\n",
    "                                    {'script_path': script_fp, \n",
    "                                    'stack': stack,\n",
    "                                    'low': low,\n",
    "                                     'high': high,\n",
    "                                    'output_version': 'grayLinear'+str(low)+'t'+str(high)},\n",
    "                                    kwargs_list={'filenames': metadata_cache['valid_filenames'][stack]},\n",
    "                                    argument_type='list2',\n",
    "                               node_list=get_node_list())\n",
    "\n",
    "                wait_qsub_complete()\n",
    "\n",
    "                sys.stderr.write('done in %f seconds\\n' % (time.time() - t)) \n",
    "\n",
    "            # /scratch, 133 jobs / 16 nodes: 850 seconds"
   ]
  },
  {
   "cell_type": "markdown",
   "metadata": {},
   "source": [
    "# Compress nissl gray and normalized fluorescent gray images (NEW)"
   ]
  },
  {
   "cell_type": "code",
   "execution_count": 12,
   "metadata": {},
   "outputs": [
    {
     "name": "stdout",
     "output_type": "stream",
     "text": [
      "rm -f ~/stderr_*; rm -f ~/stdout_*\n"
     ]
    },
    {
     "name": "stderr",
     "output_type": "stream",
     "text": [
      "16 nodes available.\n",
      "Jobs submitted. Use wait_qsub_complete() to wait for all execution to finish.\n"
     ]
    }
   ],
   "source": [
    "run_distributed('rm -r /scratch/*', argument_type='single')"
   ]
  },
  {
   "cell_type": "code",
   "execution_count": 2,
   "metadata": {
    "scrolled": true
   },
   "outputs": [
    {
     "name": "stdout",
     "output_type": "stream",
     "text": [
      "Generating compressed images... rm -f ~/stderr_*; rm -f ~/stdout_*\n"
     ]
    },
    {
     "name": "stderr",
     "output_type": "stream",
     "text": [
      "16 nodes available.\n",
      "Jobs submitted. Use wait_qsub_complete() to wait for all execution to finish.\n",
      "qsub returned.\n",
      "16 nodes available.\n"
     ]
    },
    {
     "name": "stdout",
     "output_type": "stream",
     "text": [
      "done in 271.186305046 seconds\n",
      "Generating compressed images... rm -f ~/stderr_*; rm -f ~/stdout_*\n"
     ]
    },
    {
     "name": "stderr",
     "output_type": "stream",
     "text": [
      "Jobs submitted. Use wait_qsub_complete() to wait for all execution to finish.\n",
      "qsub returned.\n",
      "16 nodes available.\n"
     ]
    },
    {
     "name": "stdout",
     "output_type": "stream",
     "text": [
      "done in 236.153964996 seconds\n",
      "Generating compressed images... rm -f ~/stderr_*; rm -f ~/stdout_*\n"
     ]
    },
    {
     "name": "stderr",
     "output_type": "stream",
     "text": [
      "Jobs submitted. Use wait_qsub_complete() to wait for all execution to finish.\n",
      "qsub returned.\n",
      "16 nodes available.\n"
     ]
    },
    {
     "name": "stdout",
     "output_type": "stream",
     "text": [
      "done in 266.273519039 seconds\n",
      "Generating compressed images... rm -f ~/stderr_*; rm -f ~/stdout_*\n"
     ]
    },
    {
     "name": "stderr",
     "output_type": "stream",
     "text": [
      "Jobs submitted. Use wait_qsub_complete() to wait for all execution to finish.\n"
     ]
    },
    {
     "name": "stdout",
     "output_type": "stream",
     "text": [
      "done in 261.257901907 seconds\n"
     ]
    },
    {
     "name": "stderr",
     "output_type": "stream",
     "text": [
      "qsub returned.\n"
     ]
    }
   ],
   "source": [
    "# for stack in all_alt_nissl_ntb_stacks + all_alt_nissl_tracing_stacks:\n",
    "for stack in ['MD642', 'MD652', 'MD653', 'MD657']:\n",
    "    \n",
    "    t = time.time()\n",
    "    print 'Generating compressed images...',\n",
    "\n",
    "    script_fp = os.path.join(REPO_DIR, 'preprocess', 'compress_as_jpeg.py')\n",
    "\n",
    "    # Only specifying DATA_DIR does not work because download_from_s3() forms the path relative to ROOT_DIR.\n",
    "    run_distributed('ROOT_DIR=/scratch %(script)s \\\"%%(input_fp)s\\\" \\\"%%(output_fp)s\\\"' % \\\n",
    "                    {'script': script_fp},\n",
    "                    kwargs_list=[{'input_fp': \n",
    "                                  DataManager.get_image_filepath_v2(stack=stack, prep_id=2, fn=fn, resol='lossless', \n",
    "                                                                    version='grayDefault', data_dir='/scratch/CSHL_data_processed'),\n",
    "                                  'output_fp': \n",
    "                                  DataManager.get_image_filepath_v2(stack=stack, prep_id=2, fn=fn, resol='lossless', \n",
    "                                                                    version='grayDefaultJpeg',data_dir='/scratch/CSHL_data_processed',ext='jpg')}\n",
    "                                 for fn in metadata_cache['valid_filenames'][stack]],\n",
    "                        argument_type='single')\n",
    "\n",
    "    wait_qsub_complete()\n",
    "\n",
    "    sys.stderr.write('done in %f seconds\\n' % (time.time() - t)) \n",
    "    # for one stack 300 seconds."
   ]
  },
  {
   "cell_type": "markdown",
   "metadata": {},
   "source": [
    "# Shrink JPEG"
   ]
  },
  {
   "cell_type": "code",
   "execution_count": 3,
   "metadata": {
    "collapsed": true
   },
   "outputs": [],
   "source": [
    "downscale = 8"
   ]
  },
  {
   "cell_type": "code",
   "execution_count": 4,
   "metadata": {
    "collapsed": true
   },
   "outputs": [],
   "source": [
    "script_fp = os.path.join(REPO_DIR, 'preprocess', 'rescale_image.py')"
   ]
  },
  {
   "cell_type": "code",
   "execution_count": 7,
   "metadata": {},
   "outputs": [
    {
     "name": "stdout",
     "output_type": "stream",
     "text": [
      "Generating compressed images... rm -f ~/stderr_*; rm -f ~/stdout_*\n"
     ]
    },
    {
     "name": "stderr",
     "output_type": "stream",
     "text": [
      "16 nodes available.\n",
      "Jobs submitted. Use wait_qsub_complete() to wait for all execution to finish.\n",
      "qsub returned.\n",
      "done in 135.785959 seconds\n",
      "16 nodes available.\n"
     ]
    },
    {
     "name": "stdout",
     "output_type": "stream",
     "text": [
      "Generating compressed images... rm -f ~/stderr_*; rm -f ~/stdout_*\n"
     ]
    },
    {
     "name": "stderr",
     "output_type": "stream",
     "text": [
      "Jobs submitted. Use wait_qsub_complete() to wait for all execution to finish.\n",
      "qsub returned.\n",
      "done in 150.879550 seconds\n",
      "16 nodes available.\n"
     ]
    },
    {
     "name": "stdout",
     "output_type": "stream",
     "text": [
      "Generating compressed images... rm -f ~/stderr_*; rm -f ~/stdout_*\n"
     ]
    },
    {
     "name": "stderr",
     "output_type": "stream",
     "text": [
      "Jobs submitted. Use wait_qsub_complete() to wait for all execution to finish.\n",
      "qsub returned.\n",
      "done in 155.894895 seconds\n",
      "16 nodes available.\n"
     ]
    },
    {
     "name": "stdout",
     "output_type": "stream",
     "text": [
      "Generating compressed images... rm -f ~/stderr_*; rm -f ~/stdout_*\n"
     ]
    },
    {
     "name": "stderr",
     "output_type": "stream",
     "text": [
      "Jobs submitted. Use wait_qsub_complete() to wait for all execution to finish.\n",
      "qsub returned.\n",
      "done in 140.805168 seconds\n"
     ]
    }
   ],
   "source": [
    "# for stack in all_alt_nissl_ntb_stacks + all_alt_nissl_tracing_stacks:\n",
    "for stack in ['MD652', 'MD653', 'MD657', 'MD658']:\n",
    "    \n",
    "    t = time.time()\n",
    "    print 'Generating compressed images...',\n",
    "    w, h = metadata_cache['image_shape'][stack]\n",
    "    \n",
    "    if downscale == 32:\n",
    "\n",
    "        run_distributed('ROOT_DIR=/scratch %(script)s \\\"%%(input_fp)s\\\" \\\"%%(output_fp)s\\\" -W %(w)d -H %(h)d' % \\\n",
    "                {'script': script_fp, 'w': w/32, 'h': h/32},\n",
    "                kwargs_list=[{'input_fp': DataManager.get_image_filepath_v2(stack=stack, prep_id=2, fn=fn, resol='lossless', version='grayJpeg', data_dir='/scratch/CSHL_data_processed',ext='jpg'),\n",
    "                              'output_fp': DataManager.get_image_filepath_v2(stack=stack, prep_id=2, fn=fn, resol='thumbnail', version='grayJpeg', thumbnail_data_dir='/scratch/CSHL_data_processed',ext='jpg')}\n",
    "                             for fn in metadata_cache['valid_filenames'][stack]],\n",
    "                    argument_type='single')\n",
    "        \n",
    "    else:\n",
    "        \n",
    "        # Only specifying DATA_DIR does not work because download_from_s3() forms the path relative to ROOT_DIR.\n",
    "        run_distributed('ROOT_DIR=/scratch %(script)s \\\"%%(input_fp)s\\\" \\\"%%(output_fp)s\\\" -W %(w)d -H %(h)d' % \\\n",
    "                        {'script': script_fp, 'w': w/downscale, 'h': h/downscale},\n",
    "                        kwargs_list=[{'input_fp': DataManager.get_image_filepath_v2(stack=stack, prep_id=2, fn=fn,\\\n",
    "                                                                                    resol='lossless', \\\n",
    "                                                                                    version='grayDefaultJpeg', data_dir='/scratch/CSHL_data_processed',ext='jpg'),\n",
    "                                      'output_fp': DataManager.get_image_filepath_v2(stack=stack, prep_id=2, fn=fn, \\\n",
    "                                                                                     resol='down%d'%downscale, \\\n",
    "                                                                                     version='grayDefaultJpeg', data_dir='/scratch/CSHL_data_processed',ext='jpg')}\n",
    "                                     for fn in metadata_cache['valid_filenames'][stack]],\n",
    "                            argument_type='single')\n",
    "\n",
    "    wait_qsub_complete()\n",
    "\n",
    "    sys.stderr.write('done in %f seconds\\n' % (time.time() - t))"
   ]
  },
  {
   "cell_type": "markdown",
   "metadata": {},
   "source": [
    "# Compress and shrink."
   ]
  },
  {
   "cell_type": "code",
   "execution_count": 2,
   "metadata": {
    "collapsed": true
   },
   "outputs": [],
   "source": [
    "downscale = 8"
   ]
  },
  {
   "cell_type": "code",
   "execution_count": 6,
   "metadata": {
    "collapsed": true
   },
   "outputs": [],
   "source": [
    "script_fp = os.path.join(REPO_DIR, 'preprocess', 'compress_and_rescale.py')"
   ]
  },
  {
   "cell_type": "code",
   "execution_count": 7,
   "metadata": {},
   "outputs": [
    {
     "name": "stdout",
     "output_type": "stream",
     "text": [
      "Compress and rescale images... rm -f ~/stderr_*; rm -f ~/stdout_*\n"
     ]
    },
    {
     "name": "stderr",
     "output_type": "stream",
     "text": [
      "5 nodes available.\n",
      "Jobs submitted. Use wait_qsub_complete() to wait for all execution to finish.\n",
      "qsub returned.\n",
      "5 nodes available.\n",
      "Jobs submitted. Use wait_qsub_complete() to wait for all execution to finish.\n"
     ]
    },
    {
     "name": "stdout",
     "output_type": "stream",
     "text": [
      "done in 321.014811039 seconds\n",
      "Compress and rescale images... rm -f ~/stderr_*; rm -f ~/stdout_*\n"
     ]
    },
    {
     "name": "stderr",
     "output_type": "stream",
     "text": [
      "qsub returned.\n",
      "5 nodes available.\n",
      "Jobs submitted. Use wait_qsub_complete() to wait for all execution to finish.\n"
     ]
    },
    {
     "name": "stdout",
     "output_type": "stream",
     "text": [
      "done in 280.957913876 seconds\n",
      "Compress and rescale images... rm -f ~/stderr_*; rm -f ~/stdout_*\n"
     ]
    },
    {
     "name": "stderr",
     "output_type": "stream",
     "text": [
      "qsub returned.\n",
      "5 nodes available.\n",
      "Jobs submitted. Use wait_qsub_complete() to wait for all execution to finish.\n"
     ]
    },
    {
     "name": "stdout",
     "output_type": "stream",
     "text": [
      "done in 295.970170021 seconds\n",
      "Compress and rescale images... rm -f ~/stderr_*; rm -f ~/stdout_*\n"
     ]
    },
    {
     "name": "stderr",
     "output_type": "stream",
     "text": [
      "qsub returned.\n",
      "5 nodes available.\n",
      "Jobs submitted. Use wait_qsub_complete() to wait for all execution to finish.\n"
     ]
    },
    {
     "name": "stdout",
     "output_type": "stream",
     "text": [
      "done in 305.981263161 seconds\n",
      "Compress and rescale images... rm -f ~/stderr_*; rm -f ~/stdout_*\n"
     ]
    },
    {
     "name": "stderr",
     "output_type": "stream",
     "text": [
      "qsub returned.\n",
      "5 nodes available.\n",
      "Jobs submitted. Use wait_qsub_complete() to wait for all execution to finish.\n"
     ]
    },
    {
     "name": "stdout",
     "output_type": "stream",
     "text": [
      "done in 305.985481977 seconds\n",
      "Compress and rescale images... rm -f ~/stderr_*; rm -f ~/stdout_*\n"
     ]
    },
    {
     "name": "stderr",
     "output_type": "stream",
     "text": [
      "qsub returned.\n",
      "5 nodes available.\n",
      "Jobs submitted. Use wait_qsub_complete() to wait for all execution to finish.\n"
     ]
    },
    {
     "name": "stdout",
     "output_type": "stream",
     "text": [
      "done in 306.00112009 seconds\n",
      "Compress and rescale images... rm -f ~/stderr_*; rm -f ~/stdout_*\n"
     ]
    },
    {
     "name": "stderr",
     "output_type": "stream",
     "text": [
      "qsub returned.\n",
      "5 nodes available.\n",
      "Jobs submitted. Use wait_qsub_complete() to wait for all execution to finish.\n"
     ]
    },
    {
     "name": "stdout",
     "output_type": "stream",
     "text": [
      "done in 280.882650137 seconds\n",
      "Compress and rescale images... rm -f ~/stderr_*; rm -f ~/stdout_*\n"
     ]
    },
    {
     "name": "stderr",
     "output_type": "stream",
     "text": [
      "qsub returned.\n",
      "5 nodes available.\n",
      "Jobs submitted. Use wait_qsub_complete() to wait for all execution to finish.\n"
     ]
    },
    {
     "name": "stdout",
     "output_type": "stream",
     "text": [
      "done in 316.070741892 seconds\n",
      "Compress and rescale images... rm -f ~/stderr_*; rm -f ~/stdout_*\n"
     ]
    },
    {
     "name": "stderr",
     "output_type": "stream",
     "text": [
      "qsub returned.\n",
      "5 nodes available.\n",
      "Jobs submitted. Use wait_qsub_complete() to wait for all execution to finish.\n"
     ]
    },
    {
     "name": "stdout",
     "output_type": "stream",
     "text": [
      "done in 305.982710123 seconds\n",
      "Compress and rescale images... rm -f ~/stderr_*; rm -f ~/stdout_*\n"
     ]
    },
    {
     "name": "stderr",
     "output_type": "stream",
     "text": [
      "qsub returned.\n",
      "5 nodes available.\n",
      "Jobs submitted. Use wait_qsub_complete() to wait for all execution to finish.\n"
     ]
    },
    {
     "name": "stdout",
     "output_type": "stream",
     "text": [
      "done in 321.06528306 seconds\n",
      "Compress and rescale images... rm -f ~/stderr_*; rm -f ~/stdout_*\n"
     ]
    },
    {
     "name": "stderr",
     "output_type": "stream",
     "text": [
      "qsub returned.\n",
      "5 nodes available.\n",
      "Jobs submitted. Use wait_qsub_complete() to wait for all execution to finish.\n"
     ]
    },
    {
     "name": "stdout",
     "output_type": "stream",
     "text": [
      "done in 331.033967972 seconds\n",
      "Compress and rescale images... rm -f ~/stderr_*; rm -f ~/stdout_*\n",
      "done in 376.182645082 seconds\n"
     ]
    },
    {
     "name": "stderr",
     "output_type": "stream",
     "text": [
      "qsub returned.\n"
     ]
    }
   ],
   "source": [
    "for (in_version, out_version) in [('gray', 'grayJpeg')]:\n",
    "    for stack in all_nissl_stacks:\n",
    "\n",
    "        t = time.time()\n",
    "        print 'Compress and rescale images...',\n",
    "        w, h = metadata_cache['image_shape'][stack]\n",
    "        run_distributed('DATA_ROOTDIR=/scratch %(script)s \\\"%%(input_fp)s\\\" \\\"%%(output_fp)s\\\" -W %(w)d -H %(h)d' % \\\n",
    "                        {'script': script_fp, 'w': w/downscale, 'h': h/downscale},\n",
    "                        kwargs_list=[{'input_fp': DataManager.get_image_filepath_v2(stack=stack, prep_id=2, fn=fn, \n",
    "                                                                                    resol='lossless', \n",
    "                                                                                    version=in_version, \n",
    "                                                                                    data_dir='/scratch/CSHL_data_processed'),\n",
    "                                      'output_fp': DataManager.get_image_filepath_v2(stack=stack, prep_id=2, fn=fn, \n",
    "                                                                                     resol='down'+str(downscale), \n",
    "                                                                                     version=out_version,\n",
    "                                                                                     data_dir='/scratch/CSHL_data_processed', ext='jpg')}\n",
    "#                                      for fn in metadata_cache['valid_filenames'][stack] if fn.split('-')[1][0] == 'F'],\n",
    "                                     for fn in metadata_cache['valid_filenames'][stack]],\n",
    "                            argument_type='single')\n",
    "\n",
    "        wait_qsub_complete()\n",
    "\n",
    "        print 'done in', time.time() - t, 'seconds' \n",
    "\n",
    "    # 16 m4.4xlarge, one stack, 115 seconds."
   ]
  },
  {
   "cell_type": "markdown",
   "metadata": {},
   "source": [
    "# Constrast stretch 16-bit fluorescent image, generate RGB JPEG (NEW)"
   ]
  },
  {
   "cell_type": "code",
   "execution_count": 2,
   "metadata": {},
   "outputs": [
    {
     "name": "stdout",
     "output_type": "stream",
     "text": [
      "rm -f ~/stderr_*; rm -f ~/stdout_*\n"
     ]
    },
    {
     "name": "stderr",
     "output_type": "stream",
     "text": [
      "0 nodes available.\n"
     ]
    }
   ],
   "source": [
    "run_distributed('rm -r /scratch/*', argument_type='single')"
   ]
  },
  {
   "cell_type": "code",
   "execution_count": 10,
   "metadata": {
    "collapsed": true
   },
   "outputs": [],
   "source": [
    "script_fp = os.path.join(REPO_DIR, 'preprocess', 'contrast_stretch_fluorescent_image.py')"
   ]
  },
  {
   "cell_type": "code",
   "execution_count": 10,
   "metadata": {
    "collapsed": true
   },
   "outputs": [],
   "source": [
    "# on_s3 = [os.path.splitext(r.split()[3])[0][:-len('_prep2_lossless_contrastStretched')]\n",
    "#  for r in check_output(\"aws s3 ls s3://mousebrainatlas-data/CSHL_data_processed/MD661/MD661_prep2_lossless_contrastStretched/\".split()).split('\\n')\n",
    "#  if len(r.split()) > 1]\n",
    "# print set(on_s3) - set(metadata_cache['valid_filenames'][stack])\n",
    "# print set(metadata_cache['valid_filenames'][stack]) - set(on_s3)"
   ]
  },
  {
   "cell_type": "code",
   "execution_count": 11,
   "metadata": {
    "collapsed": true
   },
   "outputs": [],
   "source": [
    "# import psutil\n",
    "# vmem = psutil.virtual_memory()\n",
    "# print vmem.total"
   ]
  },
  {
   "cell_type": "code",
   "execution_count": 28,
   "metadata": {},
   "outputs": [
    {
     "name": "stdout",
     "output_type": "stream",
     "text": [
      "rm -f ~/stderr_*; rm -f ~/stdout_*\n"
     ]
    },
    {
     "name": "stderr",
     "output_type": "stream",
     "text": [
      "16 nodes available.\n",
      "Jobs submitted. Use wait_qsub_complete() to wait for all execution to finish.\n",
      "qsub returned.\n",
      "done in 522.101666 seconds\n"
     ]
    }
   ],
   "source": [
    "for stack in ['MD658']:\n",
    "\n",
    "    t = time.time()\n",
    "    \n",
    "    if stack == 'MD658':\n",
    "        label_channel = 0\n",
    "        label_clipmax = 1300\n",
    "    else:\n",
    "        label_channel = 1\n",
    "        label_clipmax = 400\n",
    "    \n",
    "\n",
    "    run_distributed(command='DATA_ROOTDIR=/scratch/ %(script_path)s %(stack)s \\'%%(filenames)s\\' -c %(label_channel)d -max %(label_clipmax)d'%\\\n",
    "                        {'script_path': script_fp, \n",
    "                        'stack': stack,\n",
    "                        'label_channel': label_channel,\n",
    "                        'label_clipmax': label_clipmax},\n",
    "                        kwargs_list={'filenames': \n",
    "                                     [fn for fn in metadata_cache['valid_filenames'][stack]\n",
    "                                      if fn.split('-')[1][0] == 'F']\n",
    "#                                      ['MD658-F33-2017.04.04-23.12.27_MD658_1_0097']\n",
    "                                    },\n",
    "                        argument_type='list2')\n",
    "\n",
    "    wait_qsub_complete()\n",
    "\n",
    "    sys.stderr.write('done in %f seconds\\n' % (time.time() - t))"
   ]
  },
  {
   "cell_type": "markdown",
   "metadata": {},
   "source": [
    "# Generate Masks for Aligned Sections (new)"
   ]
  },
  {
   "cell_type": "markdown",
   "metadata": {},
   "source": [
    "- Download aligned thumbnails to local machine.\n",
    "- Run `mask_editing_gui.py`. Draw initial contours. Upload `initSnakeContours.pkl` to S3."
   ]
  },
  {
   "cell_type": "code",
   "execution_count": 4,
   "metadata": {
    "scrolled": true
   },
   "outputs": [
    {
     "name": "stdout",
     "output_type": "stream",
     "text": [
      "rm -rf \"/shared/CSHL_data_processed/ChatCryoJane201710/ChatCryoJane201710_prep1_thumbnail_Ntb\" && mkdir -p \"/shared/CSHL_data_processed/ChatCryoJane201710\"\n",
      "aws s3 cp --recursive \"s3://mousebrainatlas-data/CSHL_data_processed/ChatCryoJane201710/ChatCryoJane201710_prep1_thumbnail_Ntb\" \"/shared/CSHL_data_processed/ChatCryoJane201710/ChatCryoJane201710_prep1_thumbnail_Ntb\"\n"
     ]
    }
   ],
   "source": [
    "# download_from_s3(DataManager.get_image_dir_v2(stack=stack, prep_id=1, resol='thumbnail'), is_dir=True)\n",
    "download_from_s3(DataManager.get_image_dir_v2(stack=stack, prep_id=1, resol='thumbnail', version='Ntb'), is_dir=True)"
   ]
  },
  {
   "cell_type": "code",
   "execution_count": 4,
   "metadata": {
    "scrolled": true
   },
   "outputs": [],
   "source": [
    "script = os.path.join(REPO_DIR, 'preprocess', 'generate_thumbnail_masks_v5.py')\n",
    "\n",
    "output_dir = create_if_not_exists(DataManager.get_auto_submask_rootdir_filepath(stack=stack))\n",
    "! rm -rf {output_dir} # important to clear remaining folders."
   ]
  },
  {
   "cell_type": "code",
   "execution_count": 5,
   "metadata": {},
   "outputs": [
    {
     "name": "stdout",
     "output_type": "stream",
     "text": [
      "rm -rf \"/shared/CSHL_data_processed/ChatCryoJane201710/ChatCryoJane201710_prep1_thumbnail_initSnakeContours.pkl\" && mkdir -p \"/shared/CSHL_data_processed/ChatCryoJane201710\"\n",
      "aws s3 cp \"s3://mousebrainatlas-data/CSHL_data_processed/ChatCryoJane201710/ChatCryoJane201710_prep1_thumbnail_initSnakeContours.pkl\" \"/shared/CSHL_data_processed/ChatCryoJane201710/ChatCryoJane201710_prep1_thumbnail_initSnakeContours.pkl\"\n"
     ]
    }
   ],
   "source": [
    "init_snake_contours_fp = DataManager.get_initial_snake_contours_filepath(stack=stack)\n",
    "download_from_s3(init_snake_contours_fp, redownload=True)"
   ]
  },
  {
   "cell_type": "code",
   "execution_count": 60,
   "metadata": {
    "collapsed": true,
    "scrolled": true
   },
   "outputs": [],
   "source": [
    "# _, sections_to_filenames = DataManager.load_sorted_filenames(stack=stack) \n",
    "# valid_filenames = [fn for fn in sections_to_filenames.values() if not is_invalid(fn=fn)]"
   ]
  },
  {
   "cell_type": "code",
   "execution_count": null,
   "metadata": {},
   "outputs": [
    {
     "name": "stdout",
     "output_type": "stream",
     "text": [
      "Generating thumbnail mask... rm -f ~/stderr_*; rm -f ~/stdout_*\n"
     ]
    },
    {
     "name": "stderr",
     "output_type": "stream",
     "text": [
      "Run locally.\n"
     ]
    }
   ],
   "source": [
    "t = time.time()\n",
    "print 'Generating thumbnail mask...',\n",
    "\n",
    "run_distributed(command='%(script_path)s %(stack)s \\'%%(filenames)s\\' %(init_snake_contours_fp)s --min_size 500 --default_channel 1 --shrink 3 --version Ntb' % \\\n",
    "                {'script_path': script,\n",
    "                'stack': stack,\n",
    "                'init_snake_contours_fp': init_snake_contours_fp},\n",
    "                kwargs_list={'filenames': metadata_cache['valid_filenames_all'][stack]},\n",
    "                argument_type='list2',\n",
    "               local_only=True)\n",
    "\n",
    "# wait_qsub_complete()\n",
    "\n",
    "print 'done in', time.time() - t, 'seconds' # 300s (aws)"
   ]
  },
  {
   "cell_type": "markdown",
   "metadata": {},
   "source": [
    "- download the folder `autoSubmasks` from S3.\n",
    "- Use local mask editing tool, generate `userModifiedSubmasks` and `masks`, upload to S3."
   ]
  },
  {
   "cell_type": "markdown",
   "metadata": {},
   "source": [
    "# Generate Masks"
   ]
  },
  {
   "cell_type": "code",
   "execution_count": 11,
   "metadata": {
    "collapsed": true
   },
   "outputs": [],
   "source": [
    "script = os.path.join(REPO_DIR, 'preprocess', 'generate_thumbnail_masks_v4.py')\n",
    "input_dir = os.path.join(RAW_DATA_DIR, stack)\n",
    "output_dir = create_if_not_exists(os.path.join(DATA_DIR, stack, stack + '_submasks'))\n",
    "! rm -f output_dir/*"
   ]
  },
  {
   "cell_type": "code",
   "execution_count": 16,
   "metadata": {
    "scrolled": true
   },
   "outputs": [
    {
     "name": "stdout",
     "output_type": "stream",
     "text": [
      "Generating thumbnail mask... Setting autoscaling group cfncluster-yuncongCluster-ComputeFleet-1LFRACYHLTNL8 capaticy to 16...it may take more than 5 minutes for SGE to know new hosts.\n"
     ]
    },
    {
     "name": "stderr",
     "output_type": "stream",
     "text": [
      "Wait for SGE to know all nodes (timeout in 300 seconds)...\n",
      "All nodes are ready.\n",
      "16 nodes requested, 16 nodes available...Continuing\n",
      "Jobs submitted. Use wait_qsub_complete() to check if they finish.\n"
     ]
    },
    {
     "name": "stdout",
     "output_type": "stream",
     "text": [
      "done in 403.646880865 seconds\n"
     ]
    },
    {
     "name": "stderr",
     "output_type": "stream",
     "text": [
      "qsub returned.\n"
     ]
    }
   ],
   "source": [
    "t = time.time()\n",
    "print 'Generating thumbnail mask...',\n",
    "\n",
    "wait_num_nodes(16)\n",
    "\n",
    "run_distributed(command='%(script_path)s %(stack)s %(input_dir)s \\'%%(filenames)s\\' %(output_dir)s --border_dissim_percentile %(border_dissim_percentile)d --min_size %(min_size)d' % \\\n",
    "                {'script_path': script,\n",
    "                'stack': stack,\n",
    "                'input_dir': input_dir,\n",
    "                'output_dir': output_dir,\n",
    "                'border_dissim_percentile': DEFAULT_BORDER_DISSIMILARITY_PERCENTILE,\n",
    "                'min_size': DEFAULT_MINSIZE},\n",
    "                kwargs_list=dict(filenames=valid_filenames),\n",
    "                exclude_nodes=[33],\n",
    "                argument_type='list2',\n",
    "               cluster_size=16,\n",
    "               jobs_per_node=1)\n",
    "\n",
    "wait_qsub_complete()\n",
    "\n",
    "print 'done in', time.time() - t, 'seconds' # 300s (aws)"
   ]
  },
  {
   "cell_type": "code",
   "execution_count": 18,
   "metadata": {},
   "outputs": [
    {
     "name": "stdout",
     "output_type": "stream",
     "text": [
      "aws s3 cp --recursive /shared/CSHL_data_processed/MD594/MD594_submasks s3://mousebrainatlas-data/CSHL_data_processed/MD594/MD594_submasks\n"
     ]
    },
    {
     "name": "stderr",
     "output_type": "stream",
     "text": [
      "Child returned 0\n",
      "3.72 seconds.\n"
     ]
    }
   ],
   "source": [
    "transfer_data_synced(relative_to_ec2(output_dir),\n",
    "                    from_hostname='ec2',\n",
    "                    to_hostname='s3',\n",
    "                    is_dir=True)"
   ]
  },
  {
   "cell_type": "markdown",
   "metadata": {
    "collapsed": true
   },
   "source": [
    "- download `submasks/` to local machine\n",
    "- review them in GUI\n",
    "- generate `submasks_modified/`, `masks/`, `submasks_finalDecisions.txt`, upload to S3"
   ]
  },
  {
   "cell_type": "markdown",
   "metadata": {},
   "source": [
    "# Warp Thumbnail Masks"
   ]
  },
  {
   "cell_type": "code",
   "execution_count": 28,
   "metadata": {
    "collapsed": true
   },
   "outputs": [],
   "source": [
    "script = os.path.join(REPO_DIR, 'preprocess', 'warp_crop_IM_v2.py')\n",
    "input_dir = os.path.join(DATA_DIR, stack, stack + '_masks')"
   ]
  },
  {
   "cell_type": "code",
   "execution_count": 22,
   "metadata": {},
   "outputs": [
    {
     "name": "stdout",
     "output_type": "stream",
     "text": [
      "rm -rf /shared/CSHL_data_processed/MD594/MD594_masks && mkdir -p /shared/CSHL_data_processed/MD594\n",
      "aws s3 cp --recursive s3://mousebrainatlas-data/CSHL_data_processed/MD594/MD594_masks /shared/CSHL_data_processed/MD594/MD594_masks\n"
     ]
    },
    {
     "name": "stderr",
     "output_type": "stream",
     "text": [
      "Child returned 0\n",
      "Child returned 0\n",
      "1.87 seconds.\n"
     ]
    }
   ],
   "source": [
    "transfer_data_synced(relative_to_ec2(input_dir),\n",
    "                    from_hostname='s3',\n",
    "                    to_hostname='ec2',\n",
    "                    is_dir=True)"
   ]
  },
  {
   "cell_type": "code",
   "execution_count": 31,
   "metadata": {},
   "outputs": [
    {
     "name": "stdout",
     "output_type": "stream",
     "text": [
      "rm -rf /shared/CSHL_data_processed/MD658/MD658_alignedTo_MD658-N58-2017.03.31-19.59.31_MD658_2_0173_masks\n"
     ]
    },
    {
     "name": "stderr",
     "output_type": "stream",
     "text": [
      "Child returned 0\n"
     ]
    }
   ],
   "source": [
    "output_dir = os.path.join(DATA_DIR, stack, stack + '_masks_alignedTo_' + anchor_fn)\n",
    "execute_command('rm -rf ' + output_dir)\n",
    "\n",
    "transforms_to_anchor = load_pickle(DataManager.get_transforms_filename(stack=stack))"
   ]
  },
  {
   "cell_type": "code",
   "execution_count": 24,
   "metadata": {},
   "outputs": [
    {
     "name": "stdout",
     "output_type": "stream",
     "text": [
      "warping thumbnail mask... Setting autoscaling group cfncluster-yuncongCluster-ComputeFleet-1LFRACYHLTNL8 capaticy to 16...it may take more than 5 minutes for SGE to know new hosts.\n"
     ]
    },
    {
     "name": "stderr",
     "output_type": "stream",
     "text": [
      "16 nodes requested, 1 nodes available...Continuing\n",
      "Jobs submitted. Use wait_qsub_complete() to check if they finish.\n"
     ]
    },
    {
     "name": "stdout",
     "output_type": "stream",
     "text": [
      "done in 76.2961359024 seconds\n"
     ]
    },
    {
     "name": "stderr",
     "output_type": "stream",
     "text": [
      "qsub returned.\n"
     ]
    }
   ],
   "source": [
    "t = time.time()\n",
    "print 'warping thumbnail mask...',\n",
    "\n",
    "run_distributed('%(script)s %(stack)s %(input_dir)s %(output_dir)s %%(transform)s %%(filename)s %%(output_fn)s thumbnail 0 0 2000 1500 black' % \\\n",
    "                {'script': script,\n",
    "                'stack': stack,\n",
    "                'input_dir': input_dir,\n",
    "                'output_dir': output_dir},\n",
    "                kwargs_list=[{'transform': ','.join(map(str, transforms_to_anchor[fn].flatten())),\n",
    "                            'filename': fn + '_mask.png',\n",
    "                            'output_fn': fn + '_mask_alignedTo_' + anchor_fn + '.png'}\n",
    "                            for fn in valid_filenames],\n",
    "                argument_type='single',\n",
    "               cluster_size=16,\n",
    "               jobs_per_node=16)\n",
    "\n",
    "wait_qsub_complete()\n",
    "\n",
    "print 'done in', time.time() - t, 'seconds' # 20 seconds (aws)"
   ]
  },
  {
   "cell_type": "code",
   "execution_count": 27,
   "metadata": {},
   "outputs": [
    {
     "name": "stdout",
     "output_type": "stream",
     "text": [
      "aws s3 cp --recursive /shared/CSHL_data_processed/MD594/MD594_masks_alignedTo_MD594-IHC58-2015.08.26-18.48.50_MD594_1_0172 s3://mousebrainatlas-data/CSHL_data_processed/MD594/MD594_masks_alignedTo_MD594-IHC58-2015.08.26-18.48.50_MD594_1_0172\n"
     ]
    },
    {
     "name": "stderr",
     "output_type": "stream",
     "text": [
      "Child returned 0\n",
      "3.42 seconds.\n"
     ]
    }
   ],
   "source": [
    "transfer_data_synced(relative_to_ec2(output_dir),\n",
    "                    from_hostname='ec2',\n",
    "                    to_hostname='s3',\n",
    "                    is_dir=True)"
   ]
  },
  {
   "cell_type": "markdown",
   "metadata": {},
   "source": [
    "# Crop Thumbnail Masks"
   ]
  },
  {
   "cell_type": "code",
   "execution_count": 220,
   "metadata": {
    "collapsed": true
   },
   "outputs": [],
   "source": [
    "# stack = 'MD661'\n",
    "\n",
    "# download_from_s3(DataManager.get_sorted_filenames_filename(stack=stack))\n",
    "# _, sections_to_filenames = DataManager.load_sorted_filenames(stack=stack)\n",
    "# valid_filenames = [fn for fn in sections_to_filenames.values() if not is_invalid(fn=fn)]\n",
    "# download_from_s3(DataManager.get_anchor_filename_filename(stack=stack))\n",
    "# anchor_fn = DataManager.load_anchor_filename(stack=stack)\n",
    "# download_from_s3(DataManager.get_cropbox_filename(stack=stack))\n",
    "# xmin, xmax, ymin, ymax, first_sec, last_sec = DataManager.load_cropbox(stack=stack)\n",
    "# w = xmax + 1 - xmin\n",
    "# h = ymax + 1 - ymin\n",
    "# x = xmin\n",
    "# y = ymin\n",
    "# first_fn = sections_to_filenames[first_sec]\n",
    "# last_fn = sections_to_filenames[last_sec]\n",
    "# first_idx_among_valid = valid_filenames.index(first_fn)\n",
    "# last_idx_among_valid = valid_filenames.index(last_fn)"
   ]
  },
  {
   "cell_type": "code",
   "execution_count": 32,
   "metadata": {
    "collapsed": true
   },
   "outputs": [],
   "source": [
    "####"
   ]
  },
  {
   "cell_type": "code",
   "execution_count": 32,
   "metadata": {},
   "outputs": [
    {
     "name": "stdout",
     "output_type": "stream",
     "text": [
      "468 1244 129 620\n"
     ]
    }
   ],
   "source": [
    "stack = 'MD661'\n",
    "xmin, xmax, ymin, ymax, _, _ = DataManager.load_cropbox(stack=stack)\n",
    "print xmin, xmax, ymin, ymax"
   ]
  },
  {
   "cell_type": "code",
   "execution_count": 37,
   "metadata": {},
   "outputs": [
    {
     "name": "stdout",
     "output_type": "stream",
     "text": [
      "rm -rf \"/shared/CSHL_data_processed/MD661/MD661_prep1_thumbnail_mask\" && mkdir -p \"/shared/CSHL_data_processed/MD661\"\n",
      "aws s3 cp --recursive \"s3://mousebrainatlas-data/CSHL_data_processed/MD661/MD661_prep1_thumbnail_mask\" \"/shared/CSHL_data_processed/MD661/MD661_prep1_thumbnail_mask\"\n",
      "rm -rf /shared/CSHL_data_processed/MD661/MD661_prep2_thumbnail_mask\n",
      "mkdir -p /shared/CSHL_data_processed/MD661/MD661_prep2_thumbnail_mask\n"
     ]
    }
   ],
   "source": [
    "input_dir = DataManager.get_thumbnail_mask_dir_v3(stack=stack, prep_id=1)\n",
    "download_from_s3(input_dir, is_dir=True)\n",
    "\n",
    "output_dir = DataManager.get_thumbnail_mask_dir_v3(stack=stack, prep_id=2)\n",
    "\n",
    "execute_command('rm -rf ' + output_dir);\n",
    "execute_command('mkdir -p ' + output_dir);"
   ]
  },
  {
   "cell_type": "code",
   "execution_count": 34,
   "metadata": {
    "collapsed": true
   },
   "outputs": [],
   "source": [
    "_, sections_to_filenames = DataManager.load_sorted_filenames(stack=stack) \n",
    "valid_filenames = [fn for fn in sections_to_filenames.values() if not is_invalid(fn=fn)]"
   ]
  },
  {
   "cell_type": "code",
   "execution_count": 39,
   "metadata": {},
   "outputs": [
    {
     "name": "stderr",
     "output_type": "stream",
     "text": [
      "cropping thumbnail mask..."
     ]
    },
    {
     "name": "stdout",
     "output_type": "stream",
     "text": [
      "convert \"/shared/CSHL_data_processed/MD661/MD661_prep1_thumbnail_mask/MD662&661-F1-2017.06.02-17.07.55_MD661_1_0001_prep1_thumbnail_mask.png\" -crop 777x492+468+129 \"/shared/CSHL_data_processed/MD661/MD661_prep2_thumbnail_mask/MD662&661-F1-2017.06.02-17.07.55_MD661_1_0001_prep2_thumbnail_mask.png\"\n",
      "convert \"/shared/CSHL_data_processed/MD661/MD661_prep1_thumbnail_mask/MD662&661-F1-2017.06.02-17.07.55_MD661_2_0002_prep1_thumbnail_mask.png\" -crop 777x492+468+129 \"/shared/CSHL_data_processed/MD661/MD661_prep2_thumbnail_mask/MD662&661-F1-2017.06.02-17.07.55_MD661_2_0002_prep2_thumbnail_mask.png\"\n",
      "convert \"/shared/CSHL_data_processed/MD661/MD661_prep1_thumbnail_mask/MD662&661-F1-2017.06.02-17.07.55_MD661_3_0003_prep1_thumbnail_mask.png\" -crop 777x492+468+129 \"/shared/CSHL_data_processed/MD661/MD661_prep2_thumbnail_mask/MD662&661-F1-2017.06.02-17.07.55_MD661_3_0003_prep2_thumbnail_mask.png\"\n",
      "convert \"/shared/CSHL_data_processed/MD661/MD661_prep1_thumbnail_mask/MD662&661-F2-2017.06.02-17.21.53_MD661_1_0004_prep1_thumbnail_mask.png\" -crop 777x492+468+129 \"/shared/CSHL_data_processed/MD661/MD661_prep2_thumbnail_mask/MD662&661-F2-2017.06.02-17.21.53_MD661_1_0004_prep2_thumbnail_mask.png\"\n",
      "convert \"/shared/CSHL_data_processed/MD661/MD661_prep1_thumbnail_mask/MD662&661-F2-2017.06.02-17.21.53_MD661_2_0005_prep1_thumbnail_mask.png\" -crop 777x492+468+129 \"/shared/CSHL_data_processed/MD661/MD661_prep2_thumbnail_mask/MD662&661-F2-2017.06.02-17.21.53_MD661_2_0005_prep2_thumbnail_mask.png\"\n",
      "convert \"/shared/CSHL_data_processed/MD661/MD661_prep1_thumbnail_mask/MD662&661-F2-2017.06.02-17.21.53_MD661_3_0006_prep1_thumbnail_mask.png\" -crop 777x492+468+129 \"/shared/CSHL_data_processed/MD661/MD661_prep2_thumbnail_mask/MD662&661-F2-2017.06.02-17.21.53_MD661_3_0006_prep2_thumbnail_mask.png\"\n",
      "convert \"/shared/CSHL_data_processed/MD661/MD661_prep1_thumbnail_mask/MD662&661-F3-2017.06.02-17.43.06_MD661_1_0007_prep1_thumbnail_mask.png\" -crop 777x492+468+129 \"/shared/CSHL_data_processed/MD661/MD661_prep2_thumbnail_mask/MD662&661-F3-2017.06.02-17.43.06_MD661_1_0007_prep2_thumbnail_mask.png\"\n",
      "convert \"/shared/CSHL_data_processed/MD661/MD661_prep1_thumbnail_mask/MD662&661-F3-2017.06.02-17.43.06_MD661_2_0008_prep1_thumbnail_mask.png\" -crop 777x492+468+129 \"/shared/CSHL_data_processed/MD661/MD661_prep2_thumbnail_mask/MD662&661-F3-2017.06.02-17.43.06_MD661_2_0008_prep2_thumbnail_mask.png\"\n",
      "convert \"/shared/CSHL_data_processed/MD661/MD661_prep1_thumbnail_mask/MD662&661-F3-2017.06.02-17.43.06_MD661_3_0009_prep1_thumbnail_mask.png\" -crop 777x492+468+129 \"/shared/CSHL_data_processed/MD661/MD661_prep2_thumbnail_mask/MD662&661-F3-2017.06.02-17.43.06_MD661_3_0009_prep2_thumbnail_mask.png\"\n",
      "convert \"/shared/CSHL_data_processed/MD661/MD661_prep1_thumbnail_mask/MD662&661-F4-2017.06.02-18.04.01_MD661_1_0010_prep1_thumbnail_mask.png\" -crop 777x492+468+129 \"/shared/CSHL_data_processed/MD661/MD661_prep2_thumbnail_mask/MD662&661-F4-2017.06.02-18.04.01_MD661_1_0010_prep2_thumbnail_mask.png\"\n",
      "convert \"/shared/CSHL_data_processed/MD661/MD661_prep1_thumbnail_mask/MD662&661-F4-2017.06.02-18.04.01_MD661_2_0011_prep1_thumbnail_mask.png\" -crop 777x492+468+129 \"/shared/CSHL_data_processed/MD661/MD661_prep2_thumbnail_mask/MD662&661-F4-2017.06.02-18.04.01_MD661_2_0011_prep2_thumbnail_mask.png\"\n",
      "convert \"/shared/CSHL_data_processed/MD661/MD661_prep1_thumbnail_mask/MD662&661-F4-2017.06.02-18.04.01_MD661_3_0012_prep1_thumbnail_mask.png\" -crop 777x492+468+129 \"/shared/CSHL_data_processed/MD661/MD661_prep2_thumbnail_mask/MD662&661-F4-2017.06.02-18.04.01_MD661_3_0012_prep2_thumbnail_mask.png\"\n",
      "convert \"/shared/CSHL_data_processed/MD661/MD661_prep1_thumbnail_mask/MD662&661-F5-2017.06.02-18.25.27_MD661_1_0013_prep1_thumbnail_mask.png\" -crop 777x492+468+129 \"/shared/CSHL_data_processed/MD661/MD661_prep2_thumbnail_mask/MD662&661-F5-2017.06.02-18.25.27_MD661_1_0013_prep2_thumbnail_mask.png\"\n",
      "convert \"/shared/CSHL_data_processed/MD661/MD661_prep1_thumbnail_mask/MD662&661-F5-2017.06.02-18.25.27_MD661_2_0014_prep1_thumbnail_mask.png\" -crop 777x492+468+129 \"/shared/CSHL_data_processed/MD661/MD661_prep2_thumbnail_mask/MD662&661-F5-2017.06.02-18.25.27_MD661_2_0014_prep2_thumbnail_mask.png\"\n",
      "convert \"/shared/CSHL_data_processed/MD661/MD661_prep1_thumbnail_mask/MD662&661-F5-2017.06.02-18.25.27_MD661_3_0015_prep1_thumbnail_mask.png\" -crop 777x492+468+129 \"/shared/CSHL_data_processed/MD661/MD661_prep2_thumbnail_mask/MD662&661-F5-2017.06.02-18.25.27_MD661_3_0015_prep2_thumbnail_mask.png\"\n",
      "convert \"/shared/CSHL_data_processed/MD661/MD661_prep1_thumbnail_mask/MD662&661-F7-2017.06.02-18.46.54_MD661_1_0019_prep1_thumbnail_mask.png\" -crop 777x492+468+129 \"/shared/CSHL_data_processed/MD661/MD661_prep2_thumbnail_mask/MD662&661-F7-2017.06.02-18.46.54_MD661_1_0019_prep2_thumbnail_mask.png\"\n",
      "convert \"/shared/CSHL_data_processed/MD661/MD661_prep1_thumbnail_mask/MD662&661-F7-2017.06.02-18.46.54_MD661_2_0020_prep1_thumbnail_mask.png\" -crop 777x492+468+129 \"/shared/CSHL_data_processed/MD661/MD661_prep2_thumbnail_mask/MD662&661-F7-2017.06.02-18.46.54_MD661_2_0020_prep2_thumbnail_mask.png\"\n",
      "convert \"/shared/CSHL_data_processed/MD661/MD661_prep1_thumbnail_mask/MD662&661-F7-2017.06.02-18.46.54_MD661_3_0021_prep1_thumbnail_mask.png\" -crop 777x492+468+129 \"/shared/CSHL_data_processed/MD661/MD661_prep2_thumbnail_mask/MD662&661-F7-2017.06.02-18.46.54_MD661_3_0021_prep2_thumbnail_mask.png\"\n",
      "convert \"/shared/CSHL_data_processed/MD661/MD661_prep1_thumbnail_mask/MD662&661-F8-2017.06.02-19.08.17_MD661_1_0022_prep1_thumbnail_mask.png\" -crop 777x492+468+129 \"/shared/CSHL_data_processed/MD661/MD661_prep2_thumbnail_mask/MD662&661-F8-2017.06.02-19.08.17_MD661_1_0022_prep2_thumbnail_mask.png\"\n",
      "convert \"/shared/CSHL_data_processed/MD661/MD661_prep1_thumbnail_mask/MD662&661-F8-2017.06.02-19.08.17_MD661_2_0023_prep1_thumbnail_mask.png\" -crop 777x492+468+129 \"/shared/CSHL_data_processed/MD661/MD661_prep2_thumbnail_mask/MD662&661-F8-2017.06.02-19.08.17_MD661_2_0023_prep2_thumbnail_mask.png\"\n",
      "convert \"/shared/CSHL_data_processed/MD661/MD661_prep1_thumbnail_mask/MD662&661-F8-2017.06.02-19.08.17_MD661_3_0024_prep1_thumbnail_mask.png\" -crop 777x492+468+129 \"/shared/CSHL_data_processed/MD661/MD661_prep2_thumbnail_mask/MD662&661-F8-2017.06.02-19.08.17_MD661_3_0024_prep2_thumbnail_mask.png\"\n",
      "convert \"/shared/CSHL_data_processed/MD661/MD661_prep1_thumbnail_mask/MD662&661-F9-2017.06.02-19.29.31_MD661_1_0025_prep1_thumbnail_mask.png\" -crop 777x492+468+129 \"/shared/CSHL_data_processed/MD661/MD661_prep2_thumbnail_mask/MD662&661-F9-2017.06.02-19.29.31_MD661_1_0025_prep2_thumbnail_mask.png\"\n",
      "convert \"/shared/CSHL_data_processed/MD661/MD661_prep1_thumbnail_mask/MD662&661-F9-2017.06.02-19.29.31_MD661_2_0026_prep1_thumbnail_mask.png\" -crop 777x492+468+129 \"/shared/CSHL_data_processed/MD661/MD661_prep2_thumbnail_mask/MD662&661-F9-2017.06.02-19.29.31_MD661_2_0026_prep2_thumbnail_mask.png\"\n",
      "convert \"/shared/CSHL_data_processed/MD661/MD661_prep1_thumbnail_mask/MD662&661-F9-2017.06.02-19.29.31_MD661_3_0027_prep1_thumbnail_mask.png\" -crop 777x492+468+129 \"/shared/CSHL_data_processed/MD661/MD661_prep2_thumbnail_mask/MD662&661-F9-2017.06.02-19.29.31_MD661_3_0027_prep2_thumbnail_mask.png\"\n",
      "convert \"/shared/CSHL_data_processed/MD661/MD661_prep1_thumbnail_mask/MD662&661-F10-2017.06.02-19.50.53_MD661_1_0028_prep1_thumbnail_mask.png\" -crop 777x492+468+129 \"/shared/CSHL_data_processed/MD661/MD661_prep2_thumbnail_mask/MD662&661-F10-2017.06.02-19.50.53_MD661_1_0028_prep2_thumbnail_mask.png\"\n",
      "convert \"/shared/CSHL_data_processed/MD661/MD661_prep1_thumbnail_mask/MD662&661-F10-2017.06.02-19.50.53_MD661_2_0029_prep1_thumbnail_mask.png\" -crop 777x492+468+129 \"/shared/CSHL_data_processed/MD661/MD661_prep2_thumbnail_mask/MD662&661-F10-2017.06.02-19.50.53_MD661_2_0029_prep2_thumbnail_mask.png\"\n",
      "convert \"/shared/CSHL_data_processed/MD661/MD661_prep1_thumbnail_mask/MD662&661-F10-2017.06.02-19.50.53_MD661_3_0030_prep1_thumbnail_mask.png\" -crop 777x492+468+129 \"/shared/CSHL_data_processed/MD661/MD661_prep2_thumbnail_mask/MD662&661-F10-2017.06.02-19.50.53_MD661_3_0030_prep2_thumbnail_mask.png\"\n",
      "convert \"/shared/CSHL_data_processed/MD661/MD661_prep1_thumbnail_mask/MD662&661-F11-2017.06.02-20.12.07_MD661_1_0031_prep1_thumbnail_mask.png\" -crop 777x492+468+129 \"/shared/CSHL_data_processed/MD661/MD661_prep2_thumbnail_mask/MD662&661-F11-2017.06.02-20.12.07_MD661_1_0031_prep2_thumbnail_mask.png\"\n"
     ]
    },
    {
     "name": "stdout",
     "output_type": "stream",
     "text": [
      "convert \"/shared/CSHL_data_processed/MD661/MD661_prep1_thumbnail_mask/MD662&661-F11-2017.06.02-20.12.07_MD661_2_0032_prep1_thumbnail_mask.png\" -crop 777x492+468+129 \"/shared/CSHL_data_processed/MD661/MD661_prep2_thumbnail_mask/MD662&661-F11-2017.06.02-20.12.07_MD661_2_0032_prep2_thumbnail_mask.png\"\n",
      "convert \"/shared/CSHL_data_processed/MD661/MD661_prep1_thumbnail_mask/MD662&661-F11-2017.06.02-20.12.07_MD661_3_0033_prep1_thumbnail_mask.png\" -crop 777x492+468+129 \"/shared/CSHL_data_processed/MD661/MD661_prep2_thumbnail_mask/MD662&661-F11-2017.06.02-20.12.07_MD661_3_0033_prep2_thumbnail_mask.png\"\n",
      "convert \"/shared/CSHL_data_processed/MD661/MD661_prep1_thumbnail_mask/MD662&661-F12-2017.06.02-20.33.07_MD661_1_0034_prep1_thumbnail_mask.png\" -crop 777x492+468+129 \"/shared/CSHL_data_processed/MD661/MD661_prep2_thumbnail_mask/MD662&661-F12-2017.06.02-20.33.07_MD661_1_0034_prep2_thumbnail_mask.png\"\n",
      "convert \"/shared/CSHL_data_processed/MD661/MD661_prep1_thumbnail_mask/MD662&661-F12-2017.06.02-20.33.07_MD661_2_0035_prep1_thumbnail_mask.png\" -crop 777x492+468+129 \"/shared/CSHL_data_processed/MD661/MD661_prep2_thumbnail_mask/MD662&661-F12-2017.06.02-20.33.07_MD661_2_0035_prep2_thumbnail_mask.png\"\n",
      "convert \"/shared/CSHL_data_processed/MD661/MD661_prep1_thumbnail_mask/MD662&661-F12-2017.06.02-20.33.07_MD661_3_0036_prep1_thumbnail_mask.png\" -crop 777x492+468+129 \"/shared/CSHL_data_processed/MD661/MD661_prep2_thumbnail_mask/MD662&661-F12-2017.06.02-20.33.07_MD661_3_0036_prep2_thumbnail_mask.png\"\n",
      "convert \"/shared/CSHL_data_processed/MD661/MD661_prep1_thumbnail_mask/MD662&661-F13-2017.06.02-20.54.57_MD661_1_0037_prep1_thumbnail_mask.png\" -crop 777x492+468+129 \"/shared/CSHL_data_processed/MD661/MD661_prep2_thumbnail_mask/MD662&661-F13-2017.06.02-20.54.57_MD661_1_0037_prep2_thumbnail_mask.png\"\n",
      "convert \"/shared/CSHL_data_processed/MD661/MD661_prep1_thumbnail_mask/MD662&661-F13-2017.06.02-20.54.57_MD661_2_0038_prep1_thumbnail_mask.png\" -crop 777x492+468+129 \"/shared/CSHL_data_processed/MD661/MD661_prep2_thumbnail_mask/MD662&661-F13-2017.06.02-20.54.57_MD661_2_0038_prep2_thumbnail_mask.png\"\n",
      "convert \"/shared/CSHL_data_processed/MD661/MD661_prep1_thumbnail_mask/MD662&661-F13-2017.06.02-20.54.57_MD661_3_0039_prep1_thumbnail_mask.png\" -crop 777x492+468+129 \"/shared/CSHL_data_processed/MD661/MD661_prep2_thumbnail_mask/MD662&661-F13-2017.06.02-20.54.57_MD661_3_0039_prep2_thumbnail_mask.png\"\n",
      "convert \"/shared/CSHL_data_processed/MD661/MD661_prep1_thumbnail_mask/MD662&661-F14-2017.06.08-15.59.57_MD661_1_0040_prep1_thumbnail_mask.png\" -crop 777x492+468+129 \"/shared/CSHL_data_processed/MD661/MD661_prep2_thumbnail_mask/MD662&661-F14-2017.06.08-15.59.57_MD661_1_0040_prep2_thumbnail_mask.png\"\n",
      "convert \"/shared/CSHL_data_processed/MD661/MD661_prep1_thumbnail_mask/MD662&661-F14-2017.06.08-15.59.57_MD661_2_0041_prep1_thumbnail_mask.png\" -crop 777x492+468+129 \"/shared/CSHL_data_processed/MD661/MD661_prep2_thumbnail_mask/MD662&661-F14-2017.06.08-15.59.57_MD661_2_0041_prep2_thumbnail_mask.png\"\n",
      "convert \"/shared/CSHL_data_processed/MD661/MD661_prep1_thumbnail_mask/MD662&661-F14-2017.06.08-15.59.57_MD661_3_0042_prep1_thumbnail_mask.png\" -crop 777x492+468+129 \"/shared/CSHL_data_processed/MD661/MD661_prep2_thumbnail_mask/MD662&661-F14-2017.06.08-15.59.57_MD661_3_0042_prep2_thumbnail_mask.png\"\n",
      "convert \"/shared/CSHL_data_processed/MD661/MD661_prep1_thumbnail_mask/MD662&661-F15-2017.06.02-21.15.53_MD661_1_0043_prep1_thumbnail_mask.png\" -crop 777x492+468+129 \"/shared/CSHL_data_processed/MD661/MD661_prep2_thumbnail_mask/MD662&661-F15-2017.06.02-21.15.53_MD661_1_0043_prep2_thumbnail_mask.png\"\n",
      "convert \"/shared/CSHL_data_processed/MD661/MD661_prep1_thumbnail_mask/MD662&661-F15-2017.06.02-21.15.53_MD661_2_0044_prep1_thumbnail_mask.png\" -crop 777x492+468+129 \"/shared/CSHL_data_processed/MD661/MD661_prep2_thumbnail_mask/MD662&661-F15-2017.06.02-21.15.53_MD661_2_0044_prep2_thumbnail_mask.png\"\n",
      "convert \"/shared/CSHL_data_processed/MD661/MD661_prep1_thumbnail_mask/MD662&661-F15-2017.06.02-21.15.53_MD661_3_0045_prep1_thumbnail_mask.png\" -crop 777x492+468+129 \"/shared/CSHL_data_processed/MD661/MD661_prep2_thumbnail_mask/MD662&661-F15-2017.06.02-21.15.53_MD661_3_0045_prep2_thumbnail_mask.png\"\n",
      "convert \"/shared/CSHL_data_processed/MD661/MD661_prep1_thumbnail_mask/MD662&661-F16-2017.06.02-21.43.54_MD661_1_0046_prep1_thumbnail_mask.png\" -crop 777x492+468+129 \"/shared/CSHL_data_processed/MD661/MD661_prep2_thumbnail_mask/MD662&661-F16-2017.06.02-21.43.54_MD661_1_0046_prep2_thumbnail_mask.png\"\n",
      "convert \"/shared/CSHL_data_processed/MD661/MD661_prep1_thumbnail_mask/MD662&661-F16-2017.06.02-21.43.54_MD661_2_0047_prep1_thumbnail_mask.png\" -crop 777x492+468+129 \"/shared/CSHL_data_processed/MD661/MD661_prep2_thumbnail_mask/MD662&661-F16-2017.06.02-21.43.54_MD661_2_0047_prep2_thumbnail_mask.png\"\n",
      "convert \"/shared/CSHL_data_processed/MD661/MD661_prep1_thumbnail_mask/MD662&661-F16-2017.06.02-21.43.54_MD661_3_0048_prep1_thumbnail_mask.png\" -crop 777x492+468+129 \"/shared/CSHL_data_processed/MD661/MD661_prep2_thumbnail_mask/MD662&661-F16-2017.06.02-21.43.54_MD661_3_0048_prep2_thumbnail_mask.png\"\n",
      "convert \"/shared/CSHL_data_processed/MD661/MD661_prep1_thumbnail_mask/MD662&661-F17-2017.06.02-22.09.05_MD661_1_0049_prep1_thumbnail_mask.png\" -crop 777x492+468+129 \"/shared/CSHL_data_processed/MD661/MD661_prep2_thumbnail_mask/MD662&661-F17-2017.06.02-22.09.05_MD661_1_0049_prep2_thumbnail_mask.png\"\n",
      "convert \"/shared/CSHL_data_processed/MD661/MD661_prep1_thumbnail_mask/MD662&661-F17-2017.06.02-22.09.05_MD661_2_0050_prep1_thumbnail_mask.png\" -crop 777x492+468+129 \"/shared/CSHL_data_processed/MD661/MD661_prep2_thumbnail_mask/MD662&661-F17-2017.06.02-22.09.05_MD661_2_0050_prep2_thumbnail_mask.png\"\n",
      "convert \"/shared/CSHL_data_processed/MD661/MD661_prep1_thumbnail_mask/MD662&661-F17-2017.06.02-22.09.05_MD661_3_0051_prep1_thumbnail_mask.png\" -crop 777x492+468+129 \"/shared/CSHL_data_processed/MD661/MD661_prep2_thumbnail_mask/MD662&661-F17-2017.06.02-22.09.05_MD661_3_0051_prep2_thumbnail_mask.png\"\n",
      "convert \"/shared/CSHL_data_processed/MD661/MD661_prep1_thumbnail_mask/MD662&661-F18-2017.06.02-22.34.01_MD661_1_0052_prep1_thumbnail_mask.png\" -crop 777x492+468+129 \"/shared/CSHL_data_processed/MD661/MD661_prep2_thumbnail_mask/MD662&661-F18-2017.06.02-22.34.01_MD661_1_0052_prep2_thumbnail_mask.png\"\n",
      "convert \"/shared/CSHL_data_processed/MD661/MD661_prep1_thumbnail_mask/MD662&661-F18-2017.06.02-22.34.01_MD661_2_0053_prep1_thumbnail_mask.png\" -crop 777x492+468+129 \"/shared/CSHL_data_processed/MD661/MD661_prep2_thumbnail_mask/MD662&661-F18-2017.06.02-22.34.01_MD661_2_0053_prep2_thumbnail_mask.png\"\n",
      "convert \"/shared/CSHL_data_processed/MD661/MD661_prep1_thumbnail_mask/MD662&661-F18-2017.06.02-22.34.01_MD661_3_0054_prep1_thumbnail_mask.png\" -crop 777x492+468+129 \"/shared/CSHL_data_processed/MD661/MD661_prep2_thumbnail_mask/MD662&661-F18-2017.06.02-22.34.01_MD661_3_0054_prep2_thumbnail_mask.png\"\n",
      "convert \"/shared/CSHL_data_processed/MD661/MD661_prep1_thumbnail_mask/MD662&661-F19-2017.06.02-22.58.59_MD661_1_0055_prep1_thumbnail_mask.png\" -crop 777x492+468+129 \"/shared/CSHL_data_processed/MD661/MD661_prep2_thumbnail_mask/MD662&661-F19-2017.06.02-22.58.59_MD661_1_0055_prep2_thumbnail_mask.png\"\n",
      "convert \"/shared/CSHL_data_processed/MD661/MD661_prep1_thumbnail_mask/MD662&661-F19-2017.06.02-22.58.59_MD661_2_0056_prep1_thumbnail_mask.png\" -crop 777x492+468+129 \"/shared/CSHL_data_processed/MD661/MD661_prep2_thumbnail_mask/MD662&661-F19-2017.06.02-22.58.59_MD661_2_0056_prep2_thumbnail_mask.png\"\n",
      "convert \"/shared/CSHL_data_processed/MD661/MD661_prep1_thumbnail_mask/MD662&661-F19-2017.06.02-22.58.59_MD661_3_0057_prep1_thumbnail_mask.png\" -crop 777x492+468+129 \"/shared/CSHL_data_processed/MD661/MD661_prep2_thumbnail_mask/MD662&661-F19-2017.06.02-22.58.59_MD661_3_0057_prep2_thumbnail_mask.png\"\n",
      "convert \"/shared/CSHL_data_processed/MD661/MD661_prep1_thumbnail_mask/MD662&661-F20-2017.06.02-23.23.55_MD661_1_0058_prep1_thumbnail_mask.png\" -crop 777x492+468+129 \"/shared/CSHL_data_processed/MD661/MD661_prep2_thumbnail_mask/MD662&661-F20-2017.06.02-23.23.55_MD661_1_0058_prep2_thumbnail_mask.png\"\n",
      "convert \"/shared/CSHL_data_processed/MD661/MD661_prep1_thumbnail_mask/MD662&661-F20-2017.06.02-23.23.55_MD661_2_0059_prep1_thumbnail_mask.png\" -crop 777x492+468+129 \"/shared/CSHL_data_processed/MD661/MD661_prep2_thumbnail_mask/MD662&661-F20-2017.06.02-23.23.55_MD661_2_0059_prep2_thumbnail_mask.png\"\n"
     ]
    },
    {
     "name": "stdout",
     "output_type": "stream",
     "text": [
      "convert \"/shared/CSHL_data_processed/MD661/MD661_prep1_thumbnail_mask/MD662&661-F20-2017.06.02-23.23.55_MD661_3_0060_prep1_thumbnail_mask.png\" -crop 777x492+468+129 \"/shared/CSHL_data_processed/MD661/MD661_prep2_thumbnail_mask/MD662&661-F20-2017.06.02-23.23.55_MD661_3_0060_prep2_thumbnail_mask.png\"\n",
      "convert \"/shared/CSHL_data_processed/MD661/MD661_prep1_thumbnail_mask/MD662&661-F21-2017.06.08-16.21.02_MD661_1_0061_prep1_thumbnail_mask.png\" -crop 777x492+468+129 \"/shared/CSHL_data_processed/MD661/MD661_prep2_thumbnail_mask/MD662&661-F21-2017.06.08-16.21.02_MD661_1_0061_prep2_thumbnail_mask.png\"\n",
      "convert \"/shared/CSHL_data_processed/MD661/MD661_prep1_thumbnail_mask/MD662&661-F21-2017.06.08-16.21.02_MD661_2_0062_prep1_thumbnail_mask.png\" -crop 777x492+468+129 \"/shared/CSHL_data_processed/MD661/MD661_prep2_thumbnail_mask/MD662&661-F21-2017.06.08-16.21.02_MD661_2_0062_prep2_thumbnail_mask.png\"\n",
      "convert \"/shared/CSHL_data_processed/MD661/MD661_prep1_thumbnail_mask/MD662&661-F21-2017.06.08-16.21.02_MD661_3_0063_prep1_thumbnail_mask.png\" -crop 777x492+468+129 \"/shared/CSHL_data_processed/MD661/MD661_prep2_thumbnail_mask/MD662&661-F21-2017.06.08-16.21.02_MD661_3_0063_prep2_thumbnail_mask.png\"\n",
      "convert \"/shared/CSHL_data_processed/MD661/MD661_prep1_thumbnail_mask/MD662&661-F22-2017.06.08-16.46.06_MD661_1_0064_prep1_thumbnail_mask.png\" -crop 777x492+468+129 \"/shared/CSHL_data_processed/MD661/MD661_prep2_thumbnail_mask/MD662&661-F22-2017.06.08-16.46.06_MD661_1_0064_prep2_thumbnail_mask.png\"\n",
      "convert \"/shared/CSHL_data_processed/MD661/MD661_prep1_thumbnail_mask/MD662&661-F22-2017.06.08-16.46.06_MD661_2_0065_prep1_thumbnail_mask.png\" -crop 777x492+468+129 \"/shared/CSHL_data_processed/MD661/MD661_prep2_thumbnail_mask/MD662&661-F22-2017.06.08-16.46.06_MD661_2_0065_prep2_thumbnail_mask.png\"\n",
      "convert \"/shared/CSHL_data_processed/MD661/MD661_prep1_thumbnail_mask/MD662&661-F22-2017.06.08-16.46.06_MD661_3_0066_prep1_thumbnail_mask.png\" -crop 777x492+468+129 \"/shared/CSHL_data_processed/MD661/MD661_prep2_thumbnail_mask/MD662&661-F22-2017.06.08-16.46.06_MD661_3_0066_prep2_thumbnail_mask.png\"\n",
      "convert \"/shared/CSHL_data_processed/MD661/MD661_prep1_thumbnail_mask/MD662&661-F23-2017.06.05-11.58.13_MD661_1_0067_prep1_thumbnail_mask.png\" -crop 777x492+468+129 \"/shared/CSHL_data_processed/MD661/MD661_prep2_thumbnail_mask/MD662&661-F23-2017.06.05-11.58.13_MD661_1_0067_prep2_thumbnail_mask.png\"\n",
      "convert \"/shared/CSHL_data_processed/MD661/MD661_prep1_thumbnail_mask/MD662&661-F23-2017.06.05-11.58.13_MD661_2_0068_prep1_thumbnail_mask.png\" -crop 777x492+468+129 \"/shared/CSHL_data_processed/MD661/MD661_prep2_thumbnail_mask/MD662&661-F23-2017.06.05-11.58.13_MD661_2_0068_prep2_thumbnail_mask.png\"\n",
      "convert \"/shared/CSHL_data_processed/MD661/MD661_prep1_thumbnail_mask/MD662&661-F23-2017.06.05-11.58.13_MD661_3_0069_prep1_thumbnail_mask.png\" -crop 777x492+468+129 \"/shared/CSHL_data_processed/MD661/MD661_prep2_thumbnail_mask/MD662&661-F23-2017.06.05-11.58.13_MD661_3_0069_prep2_thumbnail_mask.png\"\n",
      "convert \"/shared/CSHL_data_processed/MD661/MD661_prep1_thumbnail_mask/MD662&661-F24-2017.06.05-12.23.11_MD661_1_0070_prep1_thumbnail_mask.png\" -crop 777x492+468+129 \"/shared/CSHL_data_processed/MD661/MD661_prep2_thumbnail_mask/MD662&661-F24-2017.06.05-12.23.11_MD661_1_0070_prep2_thumbnail_mask.png\"\n",
      "convert \"/shared/CSHL_data_processed/MD661/MD661_prep1_thumbnail_mask/MD662&661-F24-2017.06.05-12.23.11_MD661_2_0071_prep1_thumbnail_mask.png\" -crop 777x492+468+129 \"/shared/CSHL_data_processed/MD661/MD661_prep2_thumbnail_mask/MD662&661-F24-2017.06.05-12.23.11_MD661_2_0071_prep2_thumbnail_mask.png\"\n",
      "convert \"/shared/CSHL_data_processed/MD661/MD661_prep1_thumbnail_mask/MD662&661-F24-2017.06.05-12.23.11_MD661_3_0072_prep1_thumbnail_mask.png\" -crop 777x492+468+129 \"/shared/CSHL_data_processed/MD661/MD661_prep2_thumbnail_mask/MD662&661-F24-2017.06.05-12.23.11_MD661_3_0072_prep2_thumbnail_mask.png\"\n",
      "convert \"/shared/CSHL_data_processed/MD661/MD661_prep1_thumbnail_mask/MD662&661-F25-2017.06.05-12.48.19_MD661_1_0073_prep1_thumbnail_mask.png\" -crop 777x492+468+129 \"/shared/CSHL_data_processed/MD661/MD661_prep2_thumbnail_mask/MD662&661-F25-2017.06.05-12.48.19_MD661_1_0073_prep2_thumbnail_mask.png\"\n",
      "convert \"/shared/CSHL_data_processed/MD661/MD661_prep1_thumbnail_mask/MD662&661-F25-2017.06.05-12.48.19_MD661_2_0074_prep1_thumbnail_mask.png\" -crop 777x492+468+129 \"/shared/CSHL_data_processed/MD661/MD661_prep2_thumbnail_mask/MD662&661-F25-2017.06.05-12.48.19_MD661_2_0074_prep2_thumbnail_mask.png\"\n",
      "convert \"/shared/CSHL_data_processed/MD661/MD661_prep1_thumbnail_mask/MD662&661-F25-2017.06.05-12.48.19_MD661_3_0075_prep1_thumbnail_mask.png\" -crop 777x492+468+129 \"/shared/CSHL_data_processed/MD661/MD661_prep2_thumbnail_mask/MD662&661-F25-2017.06.05-12.48.19_MD661_3_0075_prep2_thumbnail_mask.png\"\n",
      "convert \"/shared/CSHL_data_processed/MD661/MD661_prep1_thumbnail_mask/MD662&661-F26-2017.06.05-13.12.57_MD661_1_0076_prep1_thumbnail_mask.png\" -crop 777x492+468+129 \"/shared/CSHL_data_processed/MD661/MD661_prep2_thumbnail_mask/MD662&661-F26-2017.06.05-13.12.57_MD661_1_0076_prep2_thumbnail_mask.png\"\n",
      "convert \"/shared/CSHL_data_processed/MD661/MD661_prep1_thumbnail_mask/MD662&661-F26-2017.06.05-13.12.57_MD661_2_0077_prep1_thumbnail_mask.png\" -crop 777x492+468+129 \"/shared/CSHL_data_processed/MD661/MD661_prep2_thumbnail_mask/MD662&661-F26-2017.06.05-13.12.57_MD661_2_0077_prep2_thumbnail_mask.png\"\n",
      "convert \"/shared/CSHL_data_processed/MD661/MD661_prep1_thumbnail_mask/MD662&661-F26-2017.06.05-13.12.57_MD661_3_0078_prep1_thumbnail_mask.png\" -crop 777x492+468+129 \"/shared/CSHL_data_processed/MD661/MD661_prep2_thumbnail_mask/MD662&661-F26-2017.06.05-13.12.57_MD661_3_0078_prep2_thumbnail_mask.png\"\n",
      "convert \"/shared/CSHL_data_processed/MD661/MD661_prep1_thumbnail_mask/MD662&661-F27-2017.06.05-13.37.58_MD661_1_0079_prep1_thumbnail_mask.png\" -crop 777x492+468+129 \"/shared/CSHL_data_processed/MD661/MD661_prep2_thumbnail_mask/MD662&661-F27-2017.06.05-13.37.58_MD661_1_0079_prep2_thumbnail_mask.png\"\n",
      "convert \"/shared/CSHL_data_processed/MD661/MD661_prep1_thumbnail_mask/MD662&661-F27-2017.06.05-13.37.58_MD661_2_0080_prep1_thumbnail_mask.png\" -crop 777x492+468+129 \"/shared/CSHL_data_processed/MD661/MD661_prep2_thumbnail_mask/MD662&661-F27-2017.06.05-13.37.58_MD661_2_0080_prep2_thumbnail_mask.png\"\n",
      "convert \"/shared/CSHL_data_processed/MD661/MD661_prep1_thumbnail_mask/MD662&661-F27-2017.06.05-13.37.58_MD661_3_0081_prep1_thumbnail_mask.png\" -crop 777x492+468+129 \"/shared/CSHL_data_processed/MD661/MD661_prep2_thumbnail_mask/MD662&661-F27-2017.06.05-13.37.58_MD661_3_0081_prep2_thumbnail_mask.png\"\n",
      "convert \"/shared/CSHL_data_processed/MD661/MD661_prep1_thumbnail_mask/MD662&661-F28-2017.06.05-14.02.44_MD661_1_0082_prep1_thumbnail_mask.png\" -crop 777x492+468+129 \"/shared/CSHL_data_processed/MD661/MD661_prep2_thumbnail_mask/MD662&661-F28-2017.06.05-14.02.44_MD661_1_0082_prep2_thumbnail_mask.png\"\n",
      "convert \"/shared/CSHL_data_processed/MD661/MD661_prep1_thumbnail_mask/MD662&661-F28-2017.06.05-14.02.44_MD661_2_0083_prep1_thumbnail_mask.png\" -crop 777x492+468+129 \"/shared/CSHL_data_processed/MD661/MD661_prep2_thumbnail_mask/MD662&661-F28-2017.06.05-14.02.44_MD661_2_0083_prep2_thumbnail_mask.png\"\n",
      "convert \"/shared/CSHL_data_processed/MD661/MD661_prep1_thumbnail_mask/MD662&661-F28-2017.06.05-14.02.44_MD661_3_0084_prep1_thumbnail_mask.png\" -crop 777x492+468+129 \"/shared/CSHL_data_processed/MD661/MD661_prep2_thumbnail_mask/MD662&661-F28-2017.06.05-14.02.44_MD661_3_0084_prep2_thumbnail_mask.png\"\n",
      "convert \"/shared/CSHL_data_processed/MD661/MD661_prep1_thumbnail_mask/MD662&661-F29-2017.06.05-14.26.10_MD661_1_0085_prep1_thumbnail_mask.png\" -crop 777x492+468+129 \"/shared/CSHL_data_processed/MD661/MD661_prep2_thumbnail_mask/MD662&661-F29-2017.06.05-14.26.10_MD661_1_0085_prep2_thumbnail_mask.png\"\n",
      "convert \"/shared/CSHL_data_processed/MD661/MD661_prep1_thumbnail_mask/MD662&661-F29-2017.06.05-14.26.10_MD661_2_0086_prep1_thumbnail_mask.png\" -crop 777x492+468+129 \"/shared/CSHL_data_processed/MD661/MD661_prep2_thumbnail_mask/MD662&661-F29-2017.06.05-14.26.10_MD661_2_0086_prep2_thumbnail_mask.png\"\n",
      "convert \"/shared/CSHL_data_processed/MD661/MD661_prep1_thumbnail_mask/MD662&661-F29-2017.06.05-14.26.10_MD661_3_0087_prep1_thumbnail_mask.png\" -crop 777x492+468+129 \"/shared/CSHL_data_processed/MD661/MD661_prep2_thumbnail_mask/MD662&661-F29-2017.06.05-14.26.10_MD661_3_0087_prep2_thumbnail_mask.png\"\n"
     ]
    },
    {
     "name": "stdout",
     "output_type": "stream",
     "text": [
      "convert \"/shared/CSHL_data_processed/MD661/MD661_prep1_thumbnail_mask/MD662&661-F30-2017.06.05-14.49.48_MD661_1_0088_prep1_thumbnail_mask.png\" -crop 777x492+468+129 \"/shared/CSHL_data_processed/MD661/MD661_prep2_thumbnail_mask/MD662&661-F30-2017.06.05-14.49.48_MD661_1_0088_prep2_thumbnail_mask.png\"\n",
      "convert \"/shared/CSHL_data_processed/MD661/MD661_prep1_thumbnail_mask/MD662&661-F30-2017.06.05-14.49.48_MD661_2_0089_prep1_thumbnail_mask.png\" -crop 777x492+468+129 \"/shared/CSHL_data_processed/MD661/MD661_prep2_thumbnail_mask/MD662&661-F30-2017.06.05-14.49.48_MD661_2_0089_prep2_thumbnail_mask.png\"\n",
      "convert \"/shared/CSHL_data_processed/MD661/MD661_prep1_thumbnail_mask/MD662&661-F30-2017.06.05-14.49.48_MD661_3_0090_prep1_thumbnail_mask.png\" -crop 777x492+468+129 \"/shared/CSHL_data_processed/MD661/MD661_prep2_thumbnail_mask/MD662&661-F30-2017.06.05-14.49.48_MD661_3_0090_prep2_thumbnail_mask.png\"\n",
      "convert \"/shared/CSHL_data_processed/MD661/MD661_prep1_thumbnail_mask/MD662&661-F31-2017.06.05-15.13.47_MD661_1_0091_prep1_thumbnail_mask.png\" -crop 777x492+468+129 \"/shared/CSHL_data_processed/MD661/MD661_prep2_thumbnail_mask/MD662&661-F31-2017.06.05-15.13.47_MD661_1_0091_prep2_thumbnail_mask.png\"\n",
      "convert \"/shared/CSHL_data_processed/MD661/MD661_prep1_thumbnail_mask/MD662&661-F31-2017.06.05-15.13.47_MD661_2_0092_prep1_thumbnail_mask.png\" -crop 777x492+468+129 \"/shared/CSHL_data_processed/MD661/MD661_prep2_thumbnail_mask/MD662&661-F31-2017.06.05-15.13.47_MD661_2_0092_prep2_thumbnail_mask.png\"\n",
      "convert \"/shared/CSHL_data_processed/MD661/MD661_prep1_thumbnail_mask/MD662&661-F31-2017.06.05-15.13.47_MD661_3_0093_prep1_thumbnail_mask.png\" -crop 777x492+468+129 \"/shared/CSHL_data_processed/MD661/MD661_prep2_thumbnail_mask/MD662&661-F31-2017.06.05-15.13.47_MD661_3_0093_prep2_thumbnail_mask.png\"\n",
      "convert \"/shared/CSHL_data_processed/MD661/MD661_prep1_thumbnail_mask/MD662&661-F32-2017.06.05-15.41.24_MD661_1_0094_prep1_thumbnail_mask.png\" -crop 777x492+468+129 \"/shared/CSHL_data_processed/MD661/MD661_prep2_thumbnail_mask/MD662&661-F32-2017.06.05-15.41.24_MD661_1_0094_prep2_thumbnail_mask.png\"\n",
      "convert \"/shared/CSHL_data_processed/MD661/MD661_prep1_thumbnail_mask/MD662&661-F32-2017.06.05-15.41.24_MD661_2_0095_prep1_thumbnail_mask.png\" -crop 777x492+468+129 \"/shared/CSHL_data_processed/MD661/MD661_prep2_thumbnail_mask/MD662&661-F32-2017.06.05-15.41.24_MD661_2_0095_prep2_thumbnail_mask.png\"\n",
      "convert \"/shared/CSHL_data_processed/MD661/MD661_prep1_thumbnail_mask/MD662&661-F32-2017.06.05-15.41.24_MD661_3_0096_prep1_thumbnail_mask.png\" -crop 777x492+468+129 \"/shared/CSHL_data_processed/MD661/MD661_prep2_thumbnail_mask/MD662&661-F32-2017.06.05-15.41.24_MD661_3_0096_prep2_thumbnail_mask.png\"\n",
      "convert \"/shared/CSHL_data_processed/MD661/MD661_prep1_thumbnail_mask/MD662&661-F33-2017.06.05-16.09.53_MD661_1_0097_prep1_thumbnail_mask.png\" -crop 777x492+468+129 \"/shared/CSHL_data_processed/MD661/MD661_prep2_thumbnail_mask/MD662&661-F33-2017.06.05-16.09.53_MD661_1_0097_prep2_thumbnail_mask.png\"\n",
      "convert \"/shared/CSHL_data_processed/MD661/MD661_prep1_thumbnail_mask/MD662&661-F33-2017.06.05-16.09.53_MD661_2_0098_prep1_thumbnail_mask.png\" -crop 777x492+468+129 \"/shared/CSHL_data_processed/MD661/MD661_prep2_thumbnail_mask/MD662&661-F33-2017.06.05-16.09.53_MD661_2_0098_prep2_thumbnail_mask.png\"\n",
      "convert \"/shared/CSHL_data_processed/MD661/MD661_prep1_thumbnail_mask/MD662&661-F33-2017.06.05-16.09.53_MD661_3_0099_prep1_thumbnail_mask.png\" -crop 777x492+468+129 \"/shared/CSHL_data_processed/MD661/MD661_prep2_thumbnail_mask/MD662&661-F33-2017.06.05-16.09.53_MD661_3_0099_prep2_thumbnail_mask.png\"\n",
      "convert \"/shared/CSHL_data_processed/MD661/MD661_prep1_thumbnail_mask/MD662&661-F34-2017.06.05-16.39.12_MD661_1_0100_prep1_thumbnail_mask.png\" -crop 777x492+468+129 \"/shared/CSHL_data_processed/MD661/MD661_prep2_thumbnail_mask/MD662&661-F34-2017.06.05-16.39.12_MD661_1_0100_prep2_thumbnail_mask.png\"\n",
      "convert \"/shared/CSHL_data_processed/MD661/MD661_prep1_thumbnail_mask/MD662&661-F34-2017.06.05-16.39.12_MD661_2_0101_prep1_thumbnail_mask.png\" -crop 777x492+468+129 \"/shared/CSHL_data_processed/MD661/MD661_prep2_thumbnail_mask/MD662&661-F34-2017.06.05-16.39.12_MD661_2_0101_prep2_thumbnail_mask.png\"\n",
      "convert \"/shared/CSHL_data_processed/MD661/MD661_prep1_thumbnail_mask/MD662&661-F34-2017.06.05-16.39.12_MD661_3_0102_prep1_thumbnail_mask.png\" -crop 777x492+468+129 \"/shared/CSHL_data_processed/MD661/MD661_prep2_thumbnail_mask/MD662&661-F34-2017.06.05-16.39.12_MD661_3_0102_prep2_thumbnail_mask.png\"\n",
      "convert \"/shared/CSHL_data_processed/MD661/MD661_prep1_thumbnail_mask/MD662&661-F35-2017.06.05-17.08.18_MD661_1_0103_prep1_thumbnail_mask.png\" -crop 777x492+468+129 \"/shared/CSHL_data_processed/MD661/MD661_prep2_thumbnail_mask/MD662&661-F35-2017.06.05-17.08.18_MD661_1_0103_prep2_thumbnail_mask.png\"\n",
      "convert \"/shared/CSHL_data_processed/MD661/MD661_prep1_thumbnail_mask/MD662&661-F35-2017.06.05-17.08.18_MD661_2_0104_prep1_thumbnail_mask.png\" -crop 777x492+468+129 \"/shared/CSHL_data_processed/MD661/MD661_prep2_thumbnail_mask/MD662&661-F35-2017.06.05-17.08.18_MD661_2_0104_prep2_thumbnail_mask.png\"\n",
      "convert \"/shared/CSHL_data_processed/MD661/MD661_prep1_thumbnail_mask/MD662&661-F35-2017.06.05-17.08.18_MD661_3_0105_prep1_thumbnail_mask.png\" -crop 777x492+468+129 \"/shared/CSHL_data_processed/MD661/MD661_prep2_thumbnail_mask/MD662&661-F35-2017.06.05-17.08.18_MD661_3_0105_prep2_thumbnail_mask.png\"\n",
      "convert \"/shared/CSHL_data_processed/MD661/MD661_prep1_thumbnail_mask/MD662&661-F36-2017.06.05-17.38.33_MD661_1_0106_prep1_thumbnail_mask.png\" -crop 777x492+468+129 \"/shared/CSHL_data_processed/MD661/MD661_prep2_thumbnail_mask/MD662&661-F36-2017.06.05-17.38.33_MD661_1_0106_prep2_thumbnail_mask.png\"\n",
      "convert \"/shared/CSHL_data_processed/MD661/MD661_prep1_thumbnail_mask/MD662&661-F36-2017.06.05-17.38.33_MD661_2_0107_prep1_thumbnail_mask.png\" -crop 777x492+468+129 \"/shared/CSHL_data_processed/MD661/MD661_prep2_thumbnail_mask/MD662&661-F36-2017.06.05-17.38.33_MD661_2_0107_prep2_thumbnail_mask.png\"\n",
      "convert \"/shared/CSHL_data_processed/MD661/MD661_prep1_thumbnail_mask/MD662&661-F36-2017.06.05-17.38.33_MD661_3_0108_prep1_thumbnail_mask.png\" -crop 777x492+468+129 \"/shared/CSHL_data_processed/MD661/MD661_prep2_thumbnail_mask/MD662&661-F36-2017.06.05-17.38.33_MD661_3_0108_prep2_thumbnail_mask.png\"\n",
      "convert \"/shared/CSHL_data_processed/MD661/MD661_prep1_thumbnail_mask/MD662&661-F37-2017.06.05-18.09.08_MD661_1_0109_prep1_thumbnail_mask.png\" -crop 777x492+468+129 \"/shared/CSHL_data_processed/MD661/MD661_prep2_thumbnail_mask/MD662&661-F37-2017.06.05-18.09.08_MD661_1_0109_prep2_thumbnail_mask.png\"\n",
      "convert \"/shared/CSHL_data_processed/MD661/MD661_prep1_thumbnail_mask/MD662&661-F37-2017.06.05-18.09.08_MD661_2_0110_prep1_thumbnail_mask.png\" -crop 777x492+468+129 \"/shared/CSHL_data_processed/MD661/MD661_prep2_thumbnail_mask/MD662&661-F37-2017.06.05-18.09.08_MD661_2_0110_prep2_thumbnail_mask.png\"\n",
      "convert \"/shared/CSHL_data_processed/MD661/MD661_prep1_thumbnail_mask/MD662&661-F37-2017.06.05-18.09.08_MD661_3_0111_prep1_thumbnail_mask.png\" -crop 777x492+468+129 \"/shared/CSHL_data_processed/MD661/MD661_prep2_thumbnail_mask/MD662&661-F37-2017.06.05-18.09.08_MD661_3_0111_prep2_thumbnail_mask.png\"\n",
      "convert \"/shared/CSHL_data_processed/MD661/MD661_prep1_thumbnail_mask/MD662&661-F38-2017.06.05-18.38.44_MD661_1_0112_prep1_thumbnail_mask.png\" -crop 777x492+468+129 \"/shared/CSHL_data_processed/MD661/MD661_prep2_thumbnail_mask/MD662&661-F38-2017.06.05-18.38.44_MD661_1_0112_prep2_thumbnail_mask.png\"\n",
      "convert \"/shared/CSHL_data_processed/MD661/MD661_prep1_thumbnail_mask/MD662&661-F38-2017.06.05-18.38.44_MD661_2_0113_prep1_thumbnail_mask.png\" -crop 777x492+468+129 \"/shared/CSHL_data_processed/MD661/MD661_prep2_thumbnail_mask/MD662&661-F38-2017.06.05-18.38.44_MD661_2_0113_prep2_thumbnail_mask.png\"\n",
      "convert \"/shared/CSHL_data_processed/MD661/MD661_prep1_thumbnail_mask/MD662&661-F38-2017.06.05-18.38.44_MD661_3_0114_prep1_thumbnail_mask.png\" -crop 777x492+468+129 \"/shared/CSHL_data_processed/MD661/MD661_prep2_thumbnail_mask/MD662&661-F38-2017.06.05-18.38.44_MD661_3_0114_prep2_thumbnail_mask.png\"\n",
      "convert \"/shared/CSHL_data_processed/MD661/MD661_prep1_thumbnail_mask/MD662&661-F39-2017.06.05-19.07.49_MD661_1_0115_prep1_thumbnail_mask.png\" -crop 777x492+468+129 \"/shared/CSHL_data_processed/MD661/MD661_prep2_thumbnail_mask/MD662&661-F39-2017.06.05-19.07.49_MD661_1_0115_prep2_thumbnail_mask.png\"\n"
     ]
    },
    {
     "name": "stdout",
     "output_type": "stream",
     "text": [
      "convert \"/shared/CSHL_data_processed/MD661/MD661_prep1_thumbnail_mask/MD662&661-F39-2017.06.05-19.07.49_MD661_2_0116_prep1_thumbnail_mask.png\" -crop 777x492+468+129 \"/shared/CSHL_data_processed/MD661/MD661_prep2_thumbnail_mask/MD662&661-F39-2017.06.05-19.07.49_MD661_2_0116_prep2_thumbnail_mask.png\"\n",
      "convert \"/shared/CSHL_data_processed/MD661/MD661_prep1_thumbnail_mask/MD662&661-F39-2017.06.05-19.07.49_MD661_3_0117_prep1_thumbnail_mask.png\" -crop 777x492+468+129 \"/shared/CSHL_data_processed/MD661/MD661_prep2_thumbnail_mask/MD662&661-F39-2017.06.05-19.07.49_MD661_3_0117_prep2_thumbnail_mask.png\"\n",
      "convert \"/shared/CSHL_data_processed/MD661/MD661_prep1_thumbnail_mask/MD662&661-F40-2017.06.05-19.36.43_MD661_1_0118_prep1_thumbnail_mask.png\" -crop 777x492+468+129 \"/shared/CSHL_data_processed/MD661/MD661_prep2_thumbnail_mask/MD662&661-F40-2017.06.05-19.36.43_MD661_1_0118_prep2_thumbnail_mask.png\"\n",
      "convert \"/shared/CSHL_data_processed/MD661/MD661_prep1_thumbnail_mask/MD662&661-F40-2017.06.05-19.36.43_MD661_2_0119_prep1_thumbnail_mask.png\" -crop 777x492+468+129 \"/shared/CSHL_data_processed/MD661/MD661_prep2_thumbnail_mask/MD662&661-F40-2017.06.05-19.36.43_MD661_2_0119_prep2_thumbnail_mask.png\"\n",
      "convert \"/shared/CSHL_data_processed/MD661/MD661_prep1_thumbnail_mask/MD662&661-F40-2017.06.05-19.36.43_MD661_3_0120_prep1_thumbnail_mask.png\" -crop 777x492+468+129 \"/shared/CSHL_data_processed/MD661/MD661_prep2_thumbnail_mask/MD662&661-F40-2017.06.05-19.36.43_MD661_3_0120_prep2_thumbnail_mask.png\"\n",
      "convert \"/shared/CSHL_data_processed/MD661/MD661_prep1_thumbnail_mask/MD662&661-F41-2017.06.05-20.06.59_MD661_1_0121_prep1_thumbnail_mask.png\" -crop 777x492+468+129 \"/shared/CSHL_data_processed/MD661/MD661_prep2_thumbnail_mask/MD662&661-F41-2017.06.05-20.06.59_MD661_1_0121_prep2_thumbnail_mask.png\"\n",
      "convert \"/shared/CSHL_data_processed/MD661/MD661_prep1_thumbnail_mask/MD662&661-F41-2017.06.05-20.06.59_MD661_2_0122_prep1_thumbnail_mask.png\" -crop 777x492+468+129 \"/shared/CSHL_data_processed/MD661/MD661_prep2_thumbnail_mask/MD662&661-F41-2017.06.05-20.06.59_MD661_2_0122_prep2_thumbnail_mask.png\"\n",
      "convert \"/shared/CSHL_data_processed/MD661/MD661_prep1_thumbnail_mask/MD662&661-F41-2017.06.05-20.06.59_MD661_3_0123_prep1_thumbnail_mask.png\" -crop 777x492+468+129 \"/shared/CSHL_data_processed/MD661/MD661_prep2_thumbnail_mask/MD662&661-F41-2017.06.05-20.06.59_MD661_3_0123_prep2_thumbnail_mask.png\"\n",
      "convert \"/shared/CSHL_data_processed/MD661/MD661_prep1_thumbnail_mask/MD662&661-F42-2017.06.05-20.35.31_MD661_1_0124_prep1_thumbnail_mask.png\" -crop 777x492+468+129 \"/shared/CSHL_data_processed/MD661/MD661_prep2_thumbnail_mask/MD662&661-F42-2017.06.05-20.35.31_MD661_1_0124_prep2_thumbnail_mask.png\"\n",
      "convert \"/shared/CSHL_data_processed/MD661/MD661_prep1_thumbnail_mask/MD662&661-F42-2017.06.05-20.35.31_MD661_2_0125_prep1_thumbnail_mask.png\" -crop 777x492+468+129 \"/shared/CSHL_data_processed/MD661/MD661_prep2_thumbnail_mask/MD662&661-F42-2017.06.05-20.35.31_MD661_2_0125_prep2_thumbnail_mask.png\"\n",
      "convert \"/shared/CSHL_data_processed/MD661/MD661_prep1_thumbnail_mask/MD662&661-F42-2017.06.05-20.35.31_MD661_3_0126_prep1_thumbnail_mask.png\" -crop 777x492+468+129 \"/shared/CSHL_data_processed/MD661/MD661_prep2_thumbnail_mask/MD662&661-F42-2017.06.05-20.35.31_MD661_3_0126_prep2_thumbnail_mask.png\"\n",
      "convert \"/shared/CSHL_data_processed/MD661/MD661_prep1_thumbnail_mask/MD662&661-F43-2017.06.05-21.05.21_MD661_1_0127_prep1_thumbnail_mask.png\" -crop 777x492+468+129 \"/shared/CSHL_data_processed/MD661/MD661_prep2_thumbnail_mask/MD662&661-F43-2017.06.05-21.05.21_MD661_1_0127_prep2_thumbnail_mask.png\"\n",
      "convert \"/shared/CSHL_data_processed/MD661/MD661_prep1_thumbnail_mask/MD662&661-F43-2017.06.05-21.05.21_MD661_2_0128_prep1_thumbnail_mask.png\" -crop 777x492+468+129 \"/shared/CSHL_data_processed/MD661/MD661_prep2_thumbnail_mask/MD662&661-F43-2017.06.05-21.05.21_MD661_2_0128_prep2_thumbnail_mask.png\"\n",
      "convert \"/shared/CSHL_data_processed/MD661/MD661_prep1_thumbnail_mask/MD662&661-F43-2017.06.05-21.05.21_MD661_3_0129_prep1_thumbnail_mask.png\" -crop 777x492+468+129 \"/shared/CSHL_data_processed/MD661/MD661_prep2_thumbnail_mask/MD662&661-F43-2017.06.05-21.05.21_MD661_3_0129_prep2_thumbnail_mask.png\"\n",
      "convert \"/shared/CSHL_data_processed/MD661/MD661_prep1_thumbnail_mask/MD662&661-F44-2017.06.05-21.36.28_MD661_1_0130_prep1_thumbnail_mask.png\" -crop 777x492+468+129 \"/shared/CSHL_data_processed/MD661/MD661_prep2_thumbnail_mask/MD662&661-F44-2017.06.05-21.36.28_MD661_1_0130_prep2_thumbnail_mask.png\"\n",
      "convert \"/shared/CSHL_data_processed/MD661/MD661_prep1_thumbnail_mask/MD662&661-F44-2017.06.05-21.36.28_MD661_2_0131_prep1_thumbnail_mask.png\" -crop 777x492+468+129 \"/shared/CSHL_data_processed/MD661/MD661_prep2_thumbnail_mask/MD662&661-F44-2017.06.05-21.36.28_MD661_2_0131_prep2_thumbnail_mask.png\"\n",
      "convert \"/shared/CSHL_data_processed/MD661/MD661_prep1_thumbnail_mask/MD662&661-F44-2017.06.05-21.36.28_MD661_3_0132_prep1_thumbnail_mask.png\" -crop 777x492+468+129 \"/shared/CSHL_data_processed/MD661/MD661_prep2_thumbnail_mask/MD662&661-F44-2017.06.05-21.36.28_MD661_3_0132_prep2_thumbnail_mask.png\"\n",
      "convert \"/shared/CSHL_data_processed/MD661/MD661_prep1_thumbnail_mask/MD662&661-F45-2017.06.05-22.05.50_MD661_1_0133_prep1_thumbnail_mask.png\" -crop 777x492+468+129 \"/shared/CSHL_data_processed/MD661/MD661_prep2_thumbnail_mask/MD662&661-F45-2017.06.05-22.05.50_MD661_1_0133_prep2_thumbnail_mask.png\"\n",
      "convert \"/shared/CSHL_data_processed/MD661/MD661_prep1_thumbnail_mask/MD662&661-F45-2017.06.05-22.05.50_MD661_2_0134_prep1_thumbnail_mask.png\" -crop 777x492+468+129 \"/shared/CSHL_data_processed/MD661/MD661_prep2_thumbnail_mask/MD662&661-F45-2017.06.05-22.05.50_MD661_2_0134_prep2_thumbnail_mask.png\"\n",
      "convert \"/shared/CSHL_data_processed/MD661/MD661_prep1_thumbnail_mask/MD662&661-F45-2017.06.05-22.05.50_MD661_3_0135_prep1_thumbnail_mask.png\" -crop 777x492+468+129 \"/shared/CSHL_data_processed/MD661/MD661_prep2_thumbnail_mask/MD662&661-F45-2017.06.05-22.05.50_MD661_3_0135_prep2_thumbnail_mask.png\"\n",
      "convert \"/shared/CSHL_data_processed/MD661/MD661_prep1_thumbnail_mask/MD662&661-F46-2017.06.05-22.36.28_MD661_1_0136_prep1_thumbnail_mask.png\" -crop 777x492+468+129 \"/shared/CSHL_data_processed/MD661/MD661_prep2_thumbnail_mask/MD662&661-F46-2017.06.05-22.36.28_MD661_1_0136_prep2_thumbnail_mask.png\"\n",
      "convert \"/shared/CSHL_data_processed/MD661/MD661_prep1_thumbnail_mask/MD662&661-F46-2017.06.05-22.36.28_MD661_2_0137_prep1_thumbnail_mask.png\" -crop 777x492+468+129 \"/shared/CSHL_data_processed/MD661/MD661_prep2_thumbnail_mask/MD662&661-F46-2017.06.05-22.36.28_MD661_2_0137_prep2_thumbnail_mask.png\"\n",
      "convert \"/shared/CSHL_data_processed/MD661/MD661_prep1_thumbnail_mask/MD662&661-F46-2017.06.05-22.36.28_MD661_3_0138_prep1_thumbnail_mask.png\" -crop 777x492+468+129 \"/shared/CSHL_data_processed/MD661/MD661_prep2_thumbnail_mask/MD662&661-F46-2017.06.05-22.36.28_MD661_3_0138_prep2_thumbnail_mask.png\"\n",
      "convert \"/shared/CSHL_data_processed/MD661/MD661_prep1_thumbnail_mask/MD662&661-F47-2017.06.05-23.06.43_MD661_1_0139_prep1_thumbnail_mask.png\" -crop 777x492+468+129 \"/shared/CSHL_data_processed/MD661/MD661_prep2_thumbnail_mask/MD662&661-F47-2017.06.05-23.06.43_MD661_1_0139_prep2_thumbnail_mask.png\"\n",
      "convert \"/shared/CSHL_data_processed/MD661/MD661_prep1_thumbnail_mask/MD662&661-F47-2017.06.05-23.06.43_MD661_2_0140_prep1_thumbnail_mask.png\" -crop 777x492+468+129 \"/shared/CSHL_data_processed/MD661/MD661_prep2_thumbnail_mask/MD662&661-F47-2017.06.05-23.06.43_MD661_2_0140_prep2_thumbnail_mask.png\"\n",
      "convert \"/shared/CSHL_data_processed/MD661/MD661_prep1_thumbnail_mask/MD662&661-F47-2017.06.05-23.06.43_MD661_3_0141_prep1_thumbnail_mask.png\" -crop 777x492+468+129 \"/shared/CSHL_data_processed/MD661/MD661_prep2_thumbnail_mask/MD662&661-F47-2017.06.05-23.06.43_MD661_3_0141_prep2_thumbnail_mask.png\"\n",
      "convert \"/shared/CSHL_data_processed/MD661/MD661_prep1_thumbnail_mask/MD662&661-F48-2017.06.05-23.36.49_MD661_1_0142_prep1_thumbnail_mask.png\" -crop 777x492+468+129 \"/shared/CSHL_data_processed/MD661/MD661_prep2_thumbnail_mask/MD662&661-F48-2017.06.05-23.36.49_MD661_1_0142_prep2_thumbnail_mask.png\"\n",
      "convert \"/shared/CSHL_data_processed/MD661/MD661_prep1_thumbnail_mask/MD662&661-F48-2017.06.05-23.36.49_MD661_2_0143_prep1_thumbnail_mask.png\" -crop 777x492+468+129 \"/shared/CSHL_data_processed/MD661/MD661_prep2_thumbnail_mask/MD662&661-F48-2017.06.05-23.36.49_MD661_2_0143_prep2_thumbnail_mask.png\"\n"
     ]
    },
    {
     "name": "stdout",
     "output_type": "stream",
     "text": [
      "convert \"/shared/CSHL_data_processed/MD661/MD661_prep1_thumbnail_mask/MD662&661-F48-2017.06.05-23.36.49_MD661_3_0144_prep1_thumbnail_mask.png\" -crop 777x492+468+129 \"/shared/CSHL_data_processed/MD661/MD661_prep2_thumbnail_mask/MD662&661-F48-2017.06.05-23.36.49_MD661_3_0144_prep2_thumbnail_mask.png\"\n",
      "convert \"/shared/CSHL_data_processed/MD661/MD661_prep1_thumbnail_mask/MD662&661-F49-2017.06.06-00.05.38_MD661_1_0145_prep1_thumbnail_mask.png\" -crop 777x492+468+129 \"/shared/CSHL_data_processed/MD661/MD661_prep2_thumbnail_mask/MD662&661-F49-2017.06.06-00.05.38_MD661_1_0145_prep2_thumbnail_mask.png\"\n",
      "convert \"/shared/CSHL_data_processed/MD661/MD661_prep1_thumbnail_mask/MD662&661-F49-2017.06.06-00.05.38_MD661_2_0146_prep1_thumbnail_mask.png\" -crop 777x492+468+129 \"/shared/CSHL_data_processed/MD661/MD661_prep2_thumbnail_mask/MD662&661-F49-2017.06.06-00.05.38_MD661_2_0146_prep2_thumbnail_mask.png\"\n",
      "convert \"/shared/CSHL_data_processed/MD661/MD661_prep1_thumbnail_mask/MD662&661-F49-2017.06.06-00.05.38_MD661_3_0147_prep1_thumbnail_mask.png\" -crop 777x492+468+129 \"/shared/CSHL_data_processed/MD661/MD661_prep2_thumbnail_mask/MD662&661-F49-2017.06.06-00.05.38_MD661_3_0147_prep2_thumbnail_mask.png\"\n",
      "convert \"/shared/CSHL_data_processed/MD661/MD661_prep1_thumbnail_mask/MD662&661-F50-2017.06.06-00.35.44_MD661_1_0148_prep1_thumbnail_mask.png\" -crop 777x492+468+129 \"/shared/CSHL_data_processed/MD661/MD661_prep2_thumbnail_mask/MD662&661-F50-2017.06.06-00.35.44_MD661_1_0148_prep2_thumbnail_mask.png\"\n",
      "convert \"/shared/CSHL_data_processed/MD661/MD661_prep1_thumbnail_mask/MD662&661-F50-2017.06.06-00.35.44_MD661_2_0149_prep1_thumbnail_mask.png\" -crop 777x492+468+129 \"/shared/CSHL_data_processed/MD661/MD661_prep2_thumbnail_mask/MD662&661-F50-2017.06.06-00.35.44_MD661_2_0149_prep2_thumbnail_mask.png\"\n",
      "convert \"/shared/CSHL_data_processed/MD661/MD661_prep1_thumbnail_mask/MD662&661-F50-2017.06.06-00.35.44_MD661_3_0150_prep1_thumbnail_mask.png\" -crop 777x492+468+129 \"/shared/CSHL_data_processed/MD661/MD661_prep2_thumbnail_mask/MD662&661-F50-2017.06.06-00.35.44_MD661_3_0150_prep2_thumbnail_mask.png\"\n",
      "convert \"/shared/CSHL_data_processed/MD661/MD661_prep1_thumbnail_mask/MD662&661-F51-2017.06.06-01.06.07_MD661_1_0151_prep1_thumbnail_mask.png\" -crop 777x492+468+129 \"/shared/CSHL_data_processed/MD661/MD661_prep2_thumbnail_mask/MD662&661-F51-2017.06.06-01.06.07_MD661_1_0151_prep2_thumbnail_mask.png\"\n",
      "convert \"/shared/CSHL_data_processed/MD661/MD661_prep1_thumbnail_mask/MD662&661-F51-2017.06.06-01.06.07_MD661_2_0152_prep1_thumbnail_mask.png\" -crop 777x492+468+129 \"/shared/CSHL_data_processed/MD661/MD661_prep2_thumbnail_mask/MD662&661-F51-2017.06.06-01.06.07_MD661_2_0152_prep2_thumbnail_mask.png\"\n",
      "convert \"/shared/CSHL_data_processed/MD661/MD661_prep1_thumbnail_mask/MD662&661-F51-2017.06.06-01.06.07_MD661_3_0153_prep1_thumbnail_mask.png\" -crop 777x492+468+129 \"/shared/CSHL_data_processed/MD661/MD661_prep2_thumbnail_mask/MD662&661-F51-2017.06.06-01.06.07_MD661_3_0153_prep2_thumbnail_mask.png\"\n",
      "convert \"/shared/CSHL_data_processed/MD661/MD661_prep1_thumbnail_mask/MD662&661-F52-2017.06.06-01.35.53_MD661_1_0154_prep1_thumbnail_mask.png\" -crop 777x492+468+129 \"/shared/CSHL_data_processed/MD661/MD661_prep2_thumbnail_mask/MD662&661-F52-2017.06.06-01.35.53_MD661_1_0154_prep2_thumbnail_mask.png\"\n",
      "convert \"/shared/CSHL_data_processed/MD661/MD661_prep1_thumbnail_mask/MD662&661-F52-2017.06.06-01.35.53_MD661_2_0155_prep1_thumbnail_mask.png\" -crop 777x492+468+129 \"/shared/CSHL_data_processed/MD661/MD661_prep2_thumbnail_mask/MD662&661-F52-2017.06.06-01.35.53_MD661_2_0155_prep2_thumbnail_mask.png\"\n",
      "convert \"/shared/CSHL_data_processed/MD661/MD661_prep1_thumbnail_mask/MD662&661-F52-2017.06.06-01.35.53_MD661_3_0156_prep1_thumbnail_mask.png\" -crop 777x492+468+129 \"/shared/CSHL_data_processed/MD661/MD661_prep2_thumbnail_mask/MD662&661-F52-2017.06.06-01.35.53_MD661_3_0156_prep2_thumbnail_mask.png\"\n",
      "convert \"/shared/CSHL_data_processed/MD661/MD661_prep1_thumbnail_mask/MD662&661-F53-2017.06.08-17.11.31_MD661_1_0157_prep1_thumbnail_mask.png\" -crop 777x492+468+129 \"/shared/CSHL_data_processed/MD661/MD661_prep2_thumbnail_mask/MD662&661-F53-2017.06.08-17.11.31_MD661_1_0157_prep2_thumbnail_mask.png\"\n",
      "convert \"/shared/CSHL_data_processed/MD661/MD661_prep1_thumbnail_mask/MD662&661-F53-2017.06.08-17.11.31_MD661_2_0158_prep1_thumbnail_mask.png\" -crop 777x492+468+129 \"/shared/CSHL_data_processed/MD661/MD661_prep2_thumbnail_mask/MD662&661-F53-2017.06.08-17.11.31_MD661_2_0158_prep2_thumbnail_mask.png\"\n",
      "convert \"/shared/CSHL_data_processed/MD661/MD661_prep1_thumbnail_mask/MD662&661-F53-2017.06.08-17.11.31_MD661_3_0159_prep1_thumbnail_mask.png\" -crop 777x492+468+129 \"/shared/CSHL_data_processed/MD661/MD661_prep2_thumbnail_mask/MD662&661-F53-2017.06.08-17.11.31_MD661_3_0159_prep2_thumbnail_mask.png\"\n",
      "convert \"/shared/CSHL_data_processed/MD661/MD661_prep1_thumbnail_mask/MD662&661-F54-2017.06.22-17.00.44_MD661_1_0160_prep1_thumbnail_mask.png\" -crop 777x492+468+129 \"/shared/CSHL_data_processed/MD661/MD661_prep2_thumbnail_mask/MD662&661-F54-2017.06.22-17.00.44_MD661_1_0160_prep2_thumbnail_mask.png\"\n",
      "convert \"/shared/CSHL_data_processed/MD661/MD661_prep1_thumbnail_mask/MD662&661-F54-2017.06.22-17.00.44_MD661_2_0161_prep1_thumbnail_mask.png\" -crop 777x492+468+129 \"/shared/CSHL_data_processed/MD661/MD661_prep2_thumbnail_mask/MD662&661-F54-2017.06.22-17.00.44_MD661_2_0161_prep2_thumbnail_mask.png\"\n",
      "convert \"/shared/CSHL_data_processed/MD661/MD661_prep1_thumbnail_mask/MD662&661-F54-2017.06.22-17.00.44_MD661_3_0162_prep1_thumbnail_mask.png\" -crop 777x492+468+129 \"/shared/CSHL_data_processed/MD661/MD661_prep2_thumbnail_mask/MD662&661-F54-2017.06.22-17.00.44_MD661_3_0162_prep2_thumbnail_mask.png\"\n",
      "convert \"/shared/CSHL_data_processed/MD661/MD661_prep1_thumbnail_mask/MD662&661-F55-2017.06.22-17.33.34_MD661_1_0163_prep1_thumbnail_mask.png\" -crop 777x492+468+129 \"/shared/CSHL_data_processed/MD661/MD661_prep2_thumbnail_mask/MD662&661-F55-2017.06.22-17.33.34_MD661_1_0163_prep2_thumbnail_mask.png\"\n",
      "convert \"/shared/CSHL_data_processed/MD661/MD661_prep1_thumbnail_mask/MD662&661-F55-2017.06.22-17.33.34_MD661_2_0164_prep1_thumbnail_mask.png\" -crop 777x492+468+129 \"/shared/CSHL_data_processed/MD661/MD661_prep2_thumbnail_mask/MD662&661-F55-2017.06.22-17.33.34_MD661_2_0164_prep2_thumbnail_mask.png\"\n",
      "convert \"/shared/CSHL_data_processed/MD661/MD661_prep1_thumbnail_mask/MD662&661-F55-2017.06.22-17.33.34_MD661_3_0165_prep1_thumbnail_mask.png\" -crop 777x492+468+129 \"/shared/CSHL_data_processed/MD661/MD661_prep2_thumbnail_mask/MD662&661-F55-2017.06.22-17.33.34_MD661_3_0165_prep2_thumbnail_mask.png\"\n",
      "convert \"/shared/CSHL_data_processed/MD661/MD661_prep1_thumbnail_mask/MD662&661-F56-2017.06.08-18.42.36_MD661_1_0166_prep1_thumbnail_mask.png\" -crop 777x492+468+129 \"/shared/CSHL_data_processed/MD661/MD661_prep2_thumbnail_mask/MD662&661-F56-2017.06.08-18.42.36_MD661_1_0166_prep2_thumbnail_mask.png\"\n",
      "convert \"/shared/CSHL_data_processed/MD661/MD661_prep1_thumbnail_mask/MD662&661-F56-2017.06.08-18.42.36_MD661_2_0167_prep1_thumbnail_mask.png\" -crop 777x492+468+129 \"/shared/CSHL_data_processed/MD661/MD661_prep2_thumbnail_mask/MD662&661-F56-2017.06.08-18.42.36_MD661_2_0167_prep2_thumbnail_mask.png\"\n",
      "convert \"/shared/CSHL_data_processed/MD661/MD661_prep1_thumbnail_mask/MD662&661-F56-2017.06.08-18.42.36_MD661_3_0168_prep1_thumbnail_mask.png\" -crop 777x492+468+129 \"/shared/CSHL_data_processed/MD661/MD661_prep2_thumbnail_mask/MD662&661-F56-2017.06.08-18.42.36_MD661_3_0168_prep2_thumbnail_mask.png\"\n",
      "convert \"/shared/CSHL_data_processed/MD661/MD661_prep1_thumbnail_mask/MD662&661-F57-2017.06.06-02.06.22_MD661_1_0169_prep1_thumbnail_mask.png\" -crop 777x492+468+129 \"/shared/CSHL_data_processed/MD661/MD661_prep2_thumbnail_mask/MD662&661-F57-2017.06.06-02.06.22_MD661_1_0169_prep2_thumbnail_mask.png\"\n",
      "convert \"/shared/CSHL_data_processed/MD661/MD661_prep1_thumbnail_mask/MD662&661-F57-2017.06.06-02.06.22_MD661_2_0170_prep1_thumbnail_mask.png\" -crop 777x492+468+129 \"/shared/CSHL_data_processed/MD661/MD661_prep2_thumbnail_mask/MD662&661-F57-2017.06.06-02.06.22_MD661_2_0170_prep2_thumbnail_mask.png\"\n",
      "convert \"/shared/CSHL_data_processed/MD661/MD661_prep1_thumbnail_mask/MD662&661-F57-2017.06.06-02.06.22_MD661_3_0171_prep1_thumbnail_mask.png\" -crop 777x492+468+129 \"/shared/CSHL_data_processed/MD661/MD661_prep2_thumbnail_mask/MD662&661-F57-2017.06.06-02.06.22_MD661_3_0171_prep2_thumbnail_mask.png\"\n"
     ]
    },
    {
     "name": "stdout",
     "output_type": "stream",
     "text": [
      "convert \"/shared/CSHL_data_processed/MD661/MD661_prep1_thumbnail_mask/MD662&661-F58-2017.06.06-02.35.45_MD661_1_0172_prep1_thumbnail_mask.png\" -crop 777x492+468+129 \"/shared/CSHL_data_processed/MD661/MD661_prep2_thumbnail_mask/MD662&661-F58-2017.06.06-02.35.45_MD661_1_0172_prep2_thumbnail_mask.png\"\n",
      "convert \"/shared/CSHL_data_processed/MD661/MD661_prep1_thumbnail_mask/MD662&661-F58-2017.06.06-02.35.45_MD661_2_0173_prep1_thumbnail_mask.png\" -crop 777x492+468+129 \"/shared/CSHL_data_processed/MD661/MD661_prep2_thumbnail_mask/MD662&661-F58-2017.06.06-02.35.45_MD661_2_0173_prep2_thumbnail_mask.png\"\n",
      "convert \"/shared/CSHL_data_processed/MD661/MD661_prep1_thumbnail_mask/MD662&661-F58-2017.06.06-02.35.45_MD661_3_0174_prep1_thumbnail_mask.png\" -crop 777x492+468+129 \"/shared/CSHL_data_processed/MD661/MD661_prep2_thumbnail_mask/MD662&661-F58-2017.06.06-02.35.45_MD661_3_0174_prep2_thumbnail_mask.png\"\n",
      "convert \"/shared/CSHL_data_processed/MD661/MD661_prep1_thumbnail_mask/MD662&661-F59-2017.06.06-03.05.00_MD661_1_0175_prep1_thumbnail_mask.png\" -crop 777x492+468+129 \"/shared/CSHL_data_processed/MD661/MD661_prep2_thumbnail_mask/MD662&661-F59-2017.06.06-03.05.00_MD661_1_0175_prep2_thumbnail_mask.png\"\n",
      "convert \"/shared/CSHL_data_processed/MD661/MD661_prep1_thumbnail_mask/MD662&661-F59-2017.06.06-03.05.00_MD661_2_0176_prep1_thumbnail_mask.png\" -crop 777x492+468+129 \"/shared/CSHL_data_processed/MD661/MD661_prep2_thumbnail_mask/MD662&661-F59-2017.06.06-03.05.00_MD661_2_0176_prep2_thumbnail_mask.png\"\n",
      "convert \"/shared/CSHL_data_processed/MD661/MD661_prep1_thumbnail_mask/MD662&661-F59-2017.06.06-03.05.00_MD661_3_0177_prep1_thumbnail_mask.png\" -crop 777x492+468+129 \"/shared/CSHL_data_processed/MD661/MD661_prep2_thumbnail_mask/MD662&661-F59-2017.06.06-03.05.00_MD661_3_0177_prep2_thumbnail_mask.png\"\n",
      "convert \"/shared/CSHL_data_processed/MD661/MD661_prep1_thumbnail_mask/MD662&661-F60-2017.06.06-03.35.37_MD661_1_0178_prep1_thumbnail_mask.png\" -crop 777x492+468+129 \"/shared/CSHL_data_processed/MD661/MD661_prep2_thumbnail_mask/MD662&661-F60-2017.06.06-03.35.37_MD661_1_0178_prep2_thumbnail_mask.png\"\n",
      "convert \"/shared/CSHL_data_processed/MD661/MD661_prep1_thumbnail_mask/MD662&661-F60-2017.06.06-03.35.37_MD661_2_0179_prep1_thumbnail_mask.png\" -crop 777x492+468+129 \"/shared/CSHL_data_processed/MD661/MD661_prep2_thumbnail_mask/MD662&661-F60-2017.06.06-03.35.37_MD661_2_0179_prep2_thumbnail_mask.png\"\n",
      "convert \"/shared/CSHL_data_processed/MD661/MD661_prep1_thumbnail_mask/MD662&661-F60-2017.06.06-03.35.37_MD661_3_0180_prep1_thumbnail_mask.png\" -crop 777x492+468+129 \"/shared/CSHL_data_processed/MD661/MD661_prep2_thumbnail_mask/MD662&661-F60-2017.06.06-03.35.37_MD661_3_0180_prep2_thumbnail_mask.png\"\n",
      "convert \"/shared/CSHL_data_processed/MD661/MD661_prep1_thumbnail_mask/MD662&661-F61-2017.06.06-04.06.02_MD661_1_0181_prep1_thumbnail_mask.png\" -crop 777x492+468+129 \"/shared/CSHL_data_processed/MD661/MD661_prep2_thumbnail_mask/MD662&661-F61-2017.06.06-04.06.02_MD661_1_0181_prep2_thumbnail_mask.png\"\n",
      "convert \"/shared/CSHL_data_processed/MD661/MD661_prep1_thumbnail_mask/MD662&661-F61-2017.06.06-04.06.02_MD661_2_0182_prep1_thumbnail_mask.png\" -crop 777x492+468+129 \"/shared/CSHL_data_processed/MD661/MD661_prep2_thumbnail_mask/MD662&661-F61-2017.06.06-04.06.02_MD661_2_0182_prep2_thumbnail_mask.png\"\n",
      "convert \"/shared/CSHL_data_processed/MD661/MD661_prep1_thumbnail_mask/MD662&661-F61-2017.06.06-04.06.02_MD661_3_0183_prep1_thumbnail_mask.png\" -crop 777x492+468+129 \"/shared/CSHL_data_processed/MD661/MD661_prep2_thumbnail_mask/MD662&661-F61-2017.06.06-04.06.02_MD661_3_0183_prep2_thumbnail_mask.png\"\n",
      "convert \"/shared/CSHL_data_processed/MD661/MD661_prep1_thumbnail_mask/MD662&661-F62-2017.06.06-04.35.55_MD661_1_0184_prep1_thumbnail_mask.png\" -crop 777x492+468+129 \"/shared/CSHL_data_processed/MD661/MD661_prep2_thumbnail_mask/MD662&661-F62-2017.06.06-04.35.55_MD661_1_0184_prep2_thumbnail_mask.png\"\n",
      "convert \"/shared/CSHL_data_processed/MD661/MD661_prep1_thumbnail_mask/MD662&661-F62-2017.06.06-04.35.55_MD661_2_0185_prep1_thumbnail_mask.png\" -crop 777x492+468+129 \"/shared/CSHL_data_processed/MD661/MD661_prep2_thumbnail_mask/MD662&661-F62-2017.06.06-04.35.55_MD661_2_0185_prep2_thumbnail_mask.png\"\n",
      "convert \"/shared/CSHL_data_processed/MD661/MD661_prep1_thumbnail_mask/MD662&661-F62-2017.06.06-04.35.55_MD661_3_0186_prep1_thumbnail_mask.png\" -crop 777x492+468+129 \"/shared/CSHL_data_processed/MD661/MD661_prep2_thumbnail_mask/MD662&661-F62-2017.06.06-04.35.55_MD661_3_0186_prep2_thumbnail_mask.png\"\n",
      "convert \"/shared/CSHL_data_processed/MD661/MD661_prep1_thumbnail_mask/MD662&661-F63-2017.06.06-05.05.24_MD661_1_0187_prep1_thumbnail_mask.png\" -crop 777x492+468+129 \"/shared/CSHL_data_processed/MD661/MD661_prep2_thumbnail_mask/MD662&661-F63-2017.06.06-05.05.24_MD661_1_0187_prep2_thumbnail_mask.png\"\n",
      "convert \"/shared/CSHL_data_processed/MD661/MD661_prep1_thumbnail_mask/MD662&661-F63-2017.06.06-05.05.24_MD661_2_0188_prep1_thumbnail_mask.png\" -crop 777x492+468+129 \"/shared/CSHL_data_processed/MD661/MD661_prep2_thumbnail_mask/MD662&661-F63-2017.06.06-05.05.24_MD661_2_0188_prep2_thumbnail_mask.png\"\n",
      "convert \"/shared/CSHL_data_processed/MD661/MD661_prep1_thumbnail_mask/MD662&661-F63-2017.06.06-05.05.24_MD661_3_0189_prep1_thumbnail_mask.png\" -crop 777x492+468+129 \"/shared/CSHL_data_processed/MD661/MD661_prep2_thumbnail_mask/MD662&661-F63-2017.06.06-05.05.24_MD661_3_0189_prep2_thumbnail_mask.png\"\n",
      "convert \"/shared/CSHL_data_processed/MD661/MD661_prep1_thumbnail_mask/MD662&661-F64-2017.06.06-05.35.10_MD661_1_0190_prep1_thumbnail_mask.png\" -crop 777x492+468+129 \"/shared/CSHL_data_processed/MD661/MD661_prep2_thumbnail_mask/MD662&661-F64-2017.06.06-05.35.10_MD661_1_0190_prep2_thumbnail_mask.png\"\n",
      "convert \"/shared/CSHL_data_processed/MD661/MD661_prep1_thumbnail_mask/MD662&661-F64-2017.06.06-05.35.10_MD661_2_0191_prep1_thumbnail_mask.png\" -crop 777x492+468+129 \"/shared/CSHL_data_processed/MD661/MD661_prep2_thumbnail_mask/MD662&661-F64-2017.06.06-05.35.10_MD661_2_0191_prep2_thumbnail_mask.png\"\n",
      "convert \"/shared/CSHL_data_processed/MD661/MD661_prep1_thumbnail_mask/MD662&661-F64-2017.06.06-05.35.10_MD661_3_0192_prep1_thumbnail_mask.png\" -crop 777x492+468+129 \"/shared/CSHL_data_processed/MD661/MD661_prep2_thumbnail_mask/MD662&661-F64-2017.06.06-05.35.10_MD661_3_0192_prep2_thumbnail_mask.png\"\n",
      "convert \"/shared/CSHL_data_processed/MD661/MD661_prep1_thumbnail_mask/MD662&661-F65-2017.06.06-06.05.08_MD661_1_0193_prep1_thumbnail_mask.png\" -crop 777x492+468+129 \"/shared/CSHL_data_processed/MD661/MD661_prep2_thumbnail_mask/MD662&661-F65-2017.06.06-06.05.08_MD661_1_0193_prep2_thumbnail_mask.png\"\n",
      "convert \"/shared/CSHL_data_processed/MD661/MD661_prep1_thumbnail_mask/MD662&661-F65-2017.06.06-06.05.08_MD661_2_0194_prep1_thumbnail_mask.png\" -crop 777x492+468+129 \"/shared/CSHL_data_processed/MD661/MD661_prep2_thumbnail_mask/MD662&661-F65-2017.06.06-06.05.08_MD661_2_0194_prep2_thumbnail_mask.png\"\n",
      "convert \"/shared/CSHL_data_processed/MD661/MD661_prep1_thumbnail_mask/MD662&661-F65-2017.06.06-06.05.08_MD661_3_0195_prep1_thumbnail_mask.png\" -crop 777x492+468+129 \"/shared/CSHL_data_processed/MD661/MD661_prep2_thumbnail_mask/MD662&661-F65-2017.06.06-06.05.08_MD661_3_0195_prep2_thumbnail_mask.png\"\n",
      "convert \"/shared/CSHL_data_processed/MD661/MD661_prep1_thumbnail_mask/MD662&661-F66-2017.06.06-06.35.52_MD661_1_0196_prep1_thumbnail_mask.png\" -crop 777x492+468+129 \"/shared/CSHL_data_processed/MD661/MD661_prep2_thumbnail_mask/MD662&661-F66-2017.06.06-06.35.52_MD661_1_0196_prep2_thumbnail_mask.png\"\n",
      "convert \"/shared/CSHL_data_processed/MD661/MD661_prep1_thumbnail_mask/MD662&661-F66-2017.06.06-06.35.52_MD661_2_0197_prep1_thumbnail_mask.png\" -crop 777x492+468+129 \"/shared/CSHL_data_processed/MD661/MD661_prep2_thumbnail_mask/MD662&661-F66-2017.06.06-06.35.52_MD661_2_0197_prep2_thumbnail_mask.png\"\n",
      "convert \"/shared/CSHL_data_processed/MD661/MD661_prep1_thumbnail_mask/MD662&661-F66-2017.06.06-06.35.52_MD661_3_0198_prep1_thumbnail_mask.png\" -crop 777x492+468+129 \"/shared/CSHL_data_processed/MD661/MD661_prep2_thumbnail_mask/MD662&661-F66-2017.06.06-06.35.52_MD661_3_0198_prep2_thumbnail_mask.png\"\n",
      "convert \"/shared/CSHL_data_processed/MD661/MD661_prep1_thumbnail_mask/MD662&661-F67-2017.06.06-07.07.27_MD661_1_0199_prep1_thumbnail_mask.png\" -crop 777x492+468+129 \"/shared/CSHL_data_processed/MD661/MD661_prep2_thumbnail_mask/MD662&661-F67-2017.06.06-07.07.27_MD661_1_0199_prep2_thumbnail_mask.png\"\n"
     ]
    },
    {
     "name": "stdout",
     "output_type": "stream",
     "text": [
      "convert \"/shared/CSHL_data_processed/MD661/MD661_prep1_thumbnail_mask/MD662&661-F67-2017.06.06-07.07.27_MD661_2_0200_prep1_thumbnail_mask.png\" -crop 777x492+468+129 \"/shared/CSHL_data_processed/MD661/MD661_prep2_thumbnail_mask/MD662&661-F67-2017.06.06-07.07.27_MD661_2_0200_prep2_thumbnail_mask.png\"\n",
      "convert \"/shared/CSHL_data_processed/MD661/MD661_prep1_thumbnail_mask/MD662&661-F67-2017.06.06-07.07.27_MD661_3_0201_prep1_thumbnail_mask.png\" -crop 777x492+468+129 \"/shared/CSHL_data_processed/MD661/MD661_prep2_thumbnail_mask/MD662&661-F67-2017.06.06-07.07.27_MD661_3_0201_prep2_thumbnail_mask.png\"\n",
      "convert \"/shared/CSHL_data_processed/MD661/MD661_prep1_thumbnail_mask/MD662&661-F68-2017.06.06-07.39.27_MD661_1_0202_prep1_thumbnail_mask.png\" -crop 777x492+468+129 \"/shared/CSHL_data_processed/MD661/MD661_prep2_thumbnail_mask/MD662&661-F68-2017.06.06-07.39.27_MD661_1_0202_prep2_thumbnail_mask.png\"\n",
      "convert \"/shared/CSHL_data_processed/MD661/MD661_prep1_thumbnail_mask/MD662&661-F68-2017.06.06-07.39.27_MD661_2_0203_prep1_thumbnail_mask.png\" -crop 777x492+468+129 \"/shared/CSHL_data_processed/MD661/MD661_prep2_thumbnail_mask/MD662&661-F68-2017.06.06-07.39.27_MD661_2_0203_prep2_thumbnail_mask.png\"\n",
      "convert \"/shared/CSHL_data_processed/MD661/MD661_prep1_thumbnail_mask/MD662&661-F68-2017.06.06-07.39.27_MD661_3_0204_prep1_thumbnail_mask.png\" -crop 777x492+468+129 \"/shared/CSHL_data_processed/MD661/MD661_prep2_thumbnail_mask/MD662&661-F68-2017.06.06-07.39.27_MD661_3_0204_prep2_thumbnail_mask.png\"\n",
      "convert \"/shared/CSHL_data_processed/MD661/MD661_prep1_thumbnail_mask/MD662&661-F69-2017.06.06-08.11.04_MD661_1_0205_prep1_thumbnail_mask.png\" -crop 777x492+468+129 \"/shared/CSHL_data_processed/MD661/MD661_prep2_thumbnail_mask/MD662&661-F69-2017.06.06-08.11.04_MD661_1_0205_prep2_thumbnail_mask.png\"\n",
      "convert \"/shared/CSHL_data_processed/MD661/MD661_prep1_thumbnail_mask/MD662&661-F69-2017.06.06-08.11.04_MD661_2_0206_prep1_thumbnail_mask.png\" -crop 777x492+468+129 \"/shared/CSHL_data_processed/MD661/MD661_prep2_thumbnail_mask/MD662&661-F69-2017.06.06-08.11.04_MD661_2_0206_prep2_thumbnail_mask.png\"\n",
      "convert \"/shared/CSHL_data_processed/MD661/MD661_prep1_thumbnail_mask/MD662&661-F70-2017.06.06-08.36.23_MD661_1_0208_prep1_thumbnail_mask.png\" -crop 777x492+468+129 \"/shared/CSHL_data_processed/MD661/MD661_prep2_thumbnail_mask/MD662&661-F70-2017.06.06-08.36.23_MD661_1_0208_prep2_thumbnail_mask.png\"\n",
      "convert \"/shared/CSHL_data_processed/MD661/MD661_prep1_thumbnail_mask/MD662&661-F70-2017.06.06-08.36.23_MD661_2_0209_prep1_thumbnail_mask.png\" -crop 777x492+468+129 \"/shared/CSHL_data_processed/MD661/MD661_prep2_thumbnail_mask/MD662&661-F70-2017.06.06-08.36.23_MD661_2_0209_prep2_thumbnail_mask.png\"\n",
      "convert \"/shared/CSHL_data_processed/MD661/MD661_prep1_thumbnail_mask/MD662&661-F71-2017.06.06-09.00.35_MD661_1_0211_prep1_thumbnail_mask.png\" -crop 777x492+468+129 \"/shared/CSHL_data_processed/MD661/MD661_prep2_thumbnail_mask/MD662&661-F71-2017.06.06-09.00.35_MD661_1_0211_prep2_thumbnail_mask.png\"\n",
      "convert \"/shared/CSHL_data_processed/MD661/MD661_prep1_thumbnail_mask/MD662&661-F71-2017.06.06-09.00.35_MD661_2_0212_prep1_thumbnail_mask.png\" -crop 777x492+468+129 \"/shared/CSHL_data_processed/MD661/MD661_prep2_thumbnail_mask/MD662&661-F71-2017.06.06-09.00.35_MD661_2_0212_prep2_thumbnail_mask.png\"\n",
      "convert \"/shared/CSHL_data_processed/MD661/MD661_prep1_thumbnail_mask/MD662&661-F72-2017.06.06-09.26.44_MD661_1_0214_prep1_thumbnail_mask.png\" -crop 777x492+468+129 \"/shared/CSHL_data_processed/MD661/MD661_prep2_thumbnail_mask/MD662&661-F72-2017.06.06-09.26.44_MD661_1_0214_prep2_thumbnail_mask.png\"\n",
      "convert \"/shared/CSHL_data_processed/MD661/MD661_prep1_thumbnail_mask/MD662&661-F72-2017.06.06-09.26.44_MD661_2_0215_prep1_thumbnail_mask.png\" -crop 777x492+468+129 \"/shared/CSHL_data_processed/MD661/MD661_prep2_thumbnail_mask/MD662&661-F72-2017.06.06-09.26.44_MD661_2_0215_prep2_thumbnail_mask.png\"\n",
      "convert \"/shared/CSHL_data_processed/MD661/MD661_prep1_thumbnail_mask/MD662&661-F73-2017.06.06-09.53.20_MD661_1_0217_prep1_thumbnail_mask.png\" -crop 777x492+468+129 \"/shared/CSHL_data_processed/MD661/MD661_prep2_thumbnail_mask/MD662&661-F73-2017.06.06-09.53.20_MD661_1_0217_prep2_thumbnail_mask.png\"\n",
      "convert \"/shared/CSHL_data_processed/MD661/MD661_prep1_thumbnail_mask/MD662&661-F73-2017.06.06-09.53.20_MD661_2_0218_prep1_thumbnail_mask.png\" -crop 777x492+468+129 \"/shared/CSHL_data_processed/MD661/MD661_prep2_thumbnail_mask/MD662&661-F73-2017.06.06-09.53.20_MD661_2_0218_prep2_thumbnail_mask.png\"\n",
      "convert \"/shared/CSHL_data_processed/MD661/MD661_prep1_thumbnail_mask/MD662&661-F75-2017.06.06-10.19.15_MD661_1_0223_prep1_thumbnail_mask.png\" -crop 777x492+468+129 \"/shared/CSHL_data_processed/MD661/MD661_prep2_thumbnail_mask/MD662&661-F75-2017.06.06-10.19.15_MD661_1_0223_prep2_thumbnail_mask.png\"\n",
      "convert \"/shared/CSHL_data_processed/MD661/MD661_prep1_thumbnail_mask/MD662&661-F75-2017.06.06-10.19.15_MD661_2_0224_prep1_thumbnail_mask.png\" -crop 777x492+468+129 \"/shared/CSHL_data_processed/MD661/MD661_prep2_thumbnail_mask/MD662&661-F75-2017.06.06-10.19.15_MD661_2_0224_prep2_thumbnail_mask.png\"\n",
      "convert \"/shared/CSHL_data_processed/MD661/MD661_prep1_thumbnail_mask/MD662&661-F76-2017.06.06-16.23.52_MD661_1_0226_prep1_thumbnail_mask.png\" -crop 777x492+468+129 \"/shared/CSHL_data_processed/MD661/MD661_prep2_thumbnail_mask/MD662&661-F76-2017.06.06-16.23.52_MD661_1_0226_prep2_thumbnail_mask.png\"\n",
      "convert \"/shared/CSHL_data_processed/MD661/MD661_prep1_thumbnail_mask/MD662&661-F76-2017.06.06-16.23.52_MD661_2_0227_prep1_thumbnail_mask.png\" -crop 777x492+468+129 \"/shared/CSHL_data_processed/MD661/MD661_prep2_thumbnail_mask/MD662&661-F76-2017.06.06-16.23.52_MD661_2_0227_prep2_thumbnail_mask.png\"\n",
      "convert \"/shared/CSHL_data_processed/MD661/MD661_prep1_thumbnail_mask/MD662&661-F77-2017.06.06-11.00.56_MD661_1_0229_prep1_thumbnail_mask.png\" -crop 777x492+468+129 \"/shared/CSHL_data_processed/MD661/MD661_prep2_thumbnail_mask/MD662&661-F77-2017.06.06-11.00.56_MD661_1_0229_prep2_thumbnail_mask.png\"\n",
      "convert \"/shared/CSHL_data_processed/MD661/MD661_prep1_thumbnail_mask/MD662&661-F77-2017.06.06-11.00.56_MD661_2_0230_prep1_thumbnail_mask.png\" -crop 777x492+468+129 \"/shared/CSHL_data_processed/MD661/MD661_prep2_thumbnail_mask/MD662&661-F77-2017.06.06-11.00.56_MD661_2_0230_prep2_thumbnail_mask.png\"\n",
      "convert \"/shared/CSHL_data_processed/MD661/MD661_prep1_thumbnail_mask/MD662&661-F78-2017.06.06-11.26.03_MD661_1_0232_prep1_thumbnail_mask.png\" -crop 777x492+468+129 \"/shared/CSHL_data_processed/MD661/MD661_prep2_thumbnail_mask/MD662&661-F78-2017.06.06-11.26.03_MD661_1_0232_prep2_thumbnail_mask.png\"\n",
      "convert \"/shared/CSHL_data_processed/MD661/MD661_prep1_thumbnail_mask/MD662&661-F78-2017.06.06-11.26.03_MD661_2_0233_prep1_thumbnail_mask.png\" -crop 777x492+468+129 \"/shared/CSHL_data_processed/MD661/MD661_prep2_thumbnail_mask/MD662&661-F78-2017.06.06-11.26.03_MD661_2_0233_prep2_thumbnail_mask.png\"\n",
      "convert \"/shared/CSHL_data_processed/MD661/MD661_prep1_thumbnail_mask/MD662&661-F79-2017.06.06-11.52.28_MD661_1_0235_prep1_thumbnail_mask.png\" -crop 777x492+468+129 \"/shared/CSHL_data_processed/MD661/MD661_prep2_thumbnail_mask/MD662&661-F79-2017.06.06-11.52.28_MD661_1_0235_prep2_thumbnail_mask.png\"\n",
      "convert \"/shared/CSHL_data_processed/MD661/MD661_prep1_thumbnail_mask/MD662&661-F79-2017.06.06-11.52.28_MD661_2_0236_prep1_thumbnail_mask.png\" -crop 777x492+468+129 \"/shared/CSHL_data_processed/MD661/MD661_prep2_thumbnail_mask/MD662&661-F79-2017.06.06-11.52.28_MD661_2_0236_prep2_thumbnail_mask.png\"\n",
      "convert \"/shared/CSHL_data_processed/MD661/MD661_prep1_thumbnail_mask/MD662&661-F80-2017.06.06-12.18.56_MD661_1_0238_prep1_thumbnail_mask.png\" -crop 777x492+468+129 \"/shared/CSHL_data_processed/MD661/MD661_prep2_thumbnail_mask/MD662&661-F80-2017.06.06-12.18.56_MD661_1_0238_prep2_thumbnail_mask.png\"\n",
      "convert \"/shared/CSHL_data_processed/MD661/MD661_prep1_thumbnail_mask/MD662&661-F80-2017.06.06-12.18.56_MD661_2_0239_prep1_thumbnail_mask.png\" -crop 777x492+468+129 \"/shared/CSHL_data_processed/MD661/MD661_prep2_thumbnail_mask/MD662&661-F80-2017.06.06-12.18.56_MD661_2_0239_prep2_thumbnail_mask.png\"\n",
      "convert \"/shared/CSHL_data_processed/MD661/MD661_prep1_thumbnail_mask/MD662&661-F81-2017.06.06-12.44.40_MD661_1_0241_prep1_thumbnail_mask.png\" -crop 777x492+468+129 \"/shared/CSHL_data_processed/MD661/MD661_prep2_thumbnail_mask/MD662&661-F81-2017.06.06-12.44.40_MD661_1_0241_prep2_thumbnail_mask.png\"\n"
     ]
    },
    {
     "name": "stdout",
     "output_type": "stream",
     "text": [
      "convert \"/shared/CSHL_data_processed/MD661/MD661_prep1_thumbnail_mask/MD662&661-F81-2017.06.06-12.44.40_MD661_2_0242_prep1_thumbnail_mask.png\" -crop 777x492+468+129 \"/shared/CSHL_data_processed/MD661/MD661_prep2_thumbnail_mask/MD662&661-F81-2017.06.06-12.44.40_MD661_2_0242_prep2_thumbnail_mask.png\"\n",
      "convert \"/shared/CSHL_data_processed/MD661/MD661_prep1_thumbnail_mask/MD662&661-F82-2017.06.06-13.10.59_MD661_1_0244_prep1_thumbnail_mask.png\" -crop 777x492+468+129 \"/shared/CSHL_data_processed/MD661/MD661_prep2_thumbnail_mask/MD662&661-F82-2017.06.06-13.10.59_MD661_1_0244_prep2_thumbnail_mask.png\"\n",
      "convert \"/shared/CSHL_data_processed/MD661/MD661_prep1_thumbnail_mask/MD662&661-F82-2017.06.06-13.10.59_MD661_2_0245_prep1_thumbnail_mask.png\" -crop 777x492+468+129 \"/shared/CSHL_data_processed/MD661/MD661_prep2_thumbnail_mask/MD662&661-F82-2017.06.06-13.10.59_MD661_2_0245_prep2_thumbnail_mask.png\"\n",
      "convert \"/shared/CSHL_data_processed/MD661/MD661_prep1_thumbnail_mask/MD662&661-F83-2017.06.06-13.37.35_MD661_1_0247_prep1_thumbnail_mask.png\" -crop 777x492+468+129 \"/shared/CSHL_data_processed/MD661/MD661_prep2_thumbnail_mask/MD662&661-F83-2017.06.06-13.37.35_MD661_1_0247_prep2_thumbnail_mask.png\"\n",
      "convert \"/shared/CSHL_data_processed/MD661/MD661_prep1_thumbnail_mask/MD662&661-F83-2017.06.06-13.37.35_MD661_2_0248_prep1_thumbnail_mask.png\" -crop 777x492+468+129 \"/shared/CSHL_data_processed/MD661/MD661_prep2_thumbnail_mask/MD662&661-F83-2017.06.06-13.37.35_MD661_2_0248_prep2_thumbnail_mask.png\"\n",
      "convert \"/shared/CSHL_data_processed/MD661/MD661_prep1_thumbnail_mask/MD662&661-F84-2017.06.06-14.03.51_MD661_1_0250_prep1_thumbnail_mask.png\" -crop 777x492+468+129 \"/shared/CSHL_data_processed/MD661/MD661_prep2_thumbnail_mask/MD662&661-F84-2017.06.06-14.03.51_MD661_1_0250_prep2_thumbnail_mask.png\"\n",
      "convert \"/shared/CSHL_data_processed/MD661/MD661_prep1_thumbnail_mask/MD662&661-F84-2017.06.06-14.03.51_MD661_2_0251_prep1_thumbnail_mask.png\" -crop 777x492+468+129 \"/shared/CSHL_data_processed/MD661/MD661_prep2_thumbnail_mask/MD662&661-F84-2017.06.06-14.03.51_MD661_2_0251_prep2_thumbnail_mask.png\"\n",
      "convert \"/shared/CSHL_data_processed/MD661/MD661_prep1_thumbnail_mask/MD662&661-F85-2017.06.06-14.30.01_MD661_1_0253_prep1_thumbnail_mask.png\" -crop 777x492+468+129 \"/shared/CSHL_data_processed/MD661/MD661_prep2_thumbnail_mask/MD662&661-F85-2017.06.06-14.30.01_MD661_1_0253_prep2_thumbnail_mask.png\"\n",
      "convert \"/shared/CSHL_data_processed/MD661/MD661_prep1_thumbnail_mask/MD662&661-F85-2017.06.06-14.30.01_MD661_2_0254_prep1_thumbnail_mask.png\" -crop 777x492+468+129 \"/shared/CSHL_data_processed/MD661/MD661_prep2_thumbnail_mask/MD662&661-F85-2017.06.06-14.30.01_MD661_2_0254_prep2_thumbnail_mask.png\"\n",
      "convert \"/shared/CSHL_data_processed/MD661/MD661_prep1_thumbnail_mask/MD662&661-F86-2017.06.06-14.56.48_MD661_1_0256_prep1_thumbnail_mask.png\" -crop 777x492+468+129 \"/shared/CSHL_data_processed/MD661/MD661_prep2_thumbnail_mask/MD662&661-F86-2017.06.06-14.56.48_MD661_1_0256_prep2_thumbnail_mask.png\"\n",
      "convert \"/shared/CSHL_data_processed/MD661/MD661_prep1_thumbnail_mask/MD662&661-F86-2017.06.06-14.56.48_MD661_2_0257_prep1_thumbnail_mask.png\" -crop 777x492+468+129 \"/shared/CSHL_data_processed/MD661/MD661_prep2_thumbnail_mask/MD662&661-F86-2017.06.06-14.56.48_MD661_2_0257_prep2_thumbnail_mask.png\"\n",
      "convert \"/shared/CSHL_data_processed/MD661/MD661_prep1_thumbnail_mask/MD662&661-F87-2017.06.06-15.22.59_MD661_1_0259_prep1_thumbnail_mask.png\" -crop 777x492+468+129 \"/shared/CSHL_data_processed/MD661/MD661_prep2_thumbnail_mask/MD662&661-F87-2017.06.06-15.22.59_MD661_1_0259_prep2_thumbnail_mask.png\"\n",
      "convert \"/shared/CSHL_data_processed/MD661/MD661_prep1_thumbnail_mask/MD662&661-F87-2017.06.06-15.22.59_MD661_2_0260_prep1_thumbnail_mask.png\" -crop 777x492+468+129 \"/shared/CSHL_data_processed/MD661/MD661_prep2_thumbnail_mask/MD662&661-F87-2017.06.06-15.22.59_MD661_2_0260_prep2_thumbnail_mask.png\"\n",
      "convert \"/shared/CSHL_data_processed/MD661/MD661_prep1_thumbnail_mask/MD662&661-F88-2017.06.06-15.57.25_MD661_1_0262_prep1_thumbnail_mask.png\" -crop 777x492+468+129 \"/shared/CSHL_data_processed/MD661/MD661_prep2_thumbnail_mask/MD662&661-F88-2017.06.06-15.57.25_MD661_1_0262_prep2_thumbnail_mask.png\"\n",
      "convert \"/shared/CSHL_data_processed/MD661/MD661_prep1_thumbnail_mask/MD662&661-F88-2017.06.06-15.57.25_MD661_2_0263_prep1_thumbnail_mask.png\" -crop 777x492+468+129 \"/shared/CSHL_data_processed/MD661/MD661_prep2_thumbnail_mask/MD662&661-F88-2017.06.06-15.57.25_MD661_2_0263_prep2_thumbnail_mask.png\"\n",
      "convert \"/shared/CSHL_data_processed/MD661/MD661_prep1_thumbnail_mask/MD662&661-F89-2017.06.06-16.49.49_MD661_1_0265_prep1_thumbnail_mask.png\" -crop 777x492+468+129 \"/shared/CSHL_data_processed/MD661/MD661_prep2_thumbnail_mask/MD662&661-F89-2017.06.06-16.49.49_MD661_1_0265_prep2_thumbnail_mask.png\"\n",
      "convert \"/shared/CSHL_data_processed/MD661/MD661_prep1_thumbnail_mask/MD662&661-F89-2017.06.06-16.49.49_MD661_2_0266_prep1_thumbnail_mask.png\" -crop 777x492+468+129 \"/shared/CSHL_data_processed/MD661/MD661_prep2_thumbnail_mask/MD662&661-F89-2017.06.06-16.49.49_MD661_2_0266_prep2_thumbnail_mask.png\"\n",
      "convert \"/shared/CSHL_data_processed/MD661/MD661_prep1_thumbnail_mask/MD662&661-F90-2017.06.06-17.16.08_MD661_1_0268_prep1_thumbnail_mask.png\" -crop 777x492+468+129 \"/shared/CSHL_data_processed/MD661/MD661_prep2_thumbnail_mask/MD662&661-F90-2017.06.06-17.16.08_MD661_1_0268_prep2_thumbnail_mask.png\"\n",
      "convert \"/shared/CSHL_data_processed/MD661/MD661_prep1_thumbnail_mask/MD662&661-F90-2017.06.06-17.16.08_MD661_2_0269_prep1_thumbnail_mask.png\" -crop 777x492+468+129 \"/shared/CSHL_data_processed/MD661/MD661_prep2_thumbnail_mask/MD662&661-F90-2017.06.06-17.16.08_MD661_2_0269_prep2_thumbnail_mask.png\"\n",
      "convert \"/shared/CSHL_data_processed/MD661/MD661_prep1_thumbnail_mask/MD662&661-F91-2017.06.06-17.42.59_MD661_1_0271_prep1_thumbnail_mask.png\" -crop 777x492+468+129 \"/shared/CSHL_data_processed/MD661/MD661_prep2_thumbnail_mask/MD662&661-F91-2017.06.06-17.42.59_MD661_1_0271_prep2_thumbnail_mask.png\"\n",
      "convert \"/shared/CSHL_data_processed/MD661/MD661_prep1_thumbnail_mask/MD662&661-F91-2017.06.06-17.42.59_MD661_2_0272_prep1_thumbnail_mask.png\" -crop 777x492+468+129 \"/shared/CSHL_data_processed/MD661/MD661_prep2_thumbnail_mask/MD662&661-F91-2017.06.06-17.42.59_MD661_2_0272_prep2_thumbnail_mask.png\"\n",
      "convert \"/shared/CSHL_data_processed/MD661/MD661_prep1_thumbnail_mask/MD662&661-F92-2017.06.06-18.08.17_MD661_1_0274_prep1_thumbnail_mask.png\" -crop 777x492+468+129 \"/shared/CSHL_data_processed/MD661/MD661_prep2_thumbnail_mask/MD662&661-F92-2017.06.06-18.08.17_MD661_1_0274_prep2_thumbnail_mask.png\"\n",
      "convert \"/shared/CSHL_data_processed/MD661/MD661_prep1_thumbnail_mask/MD662&661-F92-2017.06.06-18.08.17_MD661_2_0275_prep1_thumbnail_mask.png\" -crop 777x492+468+129 \"/shared/CSHL_data_processed/MD661/MD661_prep2_thumbnail_mask/MD662&661-F92-2017.06.06-18.08.17_MD661_2_0275_prep2_thumbnail_mask.png\"\n",
      "convert \"/shared/CSHL_data_processed/MD661/MD661_prep1_thumbnail_mask/MD662&661-F93-2017.06.06-18.34.27_MD661_1_0277_prep1_thumbnail_mask.png\" -crop 777x492+468+129 \"/shared/CSHL_data_processed/MD661/MD661_prep2_thumbnail_mask/MD662&661-F93-2017.06.06-18.34.27_MD661_1_0277_prep2_thumbnail_mask.png\"\n",
      "convert \"/shared/CSHL_data_processed/MD661/MD661_prep1_thumbnail_mask/MD662&661-F93-2017.06.06-18.34.27_MD661_2_0278_prep1_thumbnail_mask.png\" -crop 777x492+468+129 \"/shared/CSHL_data_processed/MD661/MD661_prep2_thumbnail_mask/MD662&661-F93-2017.06.06-18.34.27_MD661_2_0278_prep2_thumbnail_mask.png\"\n",
      "convert \"/shared/CSHL_data_processed/MD661/MD661_prep1_thumbnail_mask/MD662&661-F94-2017.06.06-19.01.05_MD661_1_0280_prep1_thumbnail_mask.png\" -crop 777x492+468+129 \"/shared/CSHL_data_processed/MD661/MD661_prep2_thumbnail_mask/MD662&661-F94-2017.06.06-19.01.05_MD661_1_0280_prep2_thumbnail_mask.png\"\n",
      "convert \"/shared/CSHL_data_processed/MD661/MD661_prep1_thumbnail_mask/MD662&661-F94-2017.06.06-19.01.05_MD661_2_0281_prep1_thumbnail_mask.png\" -crop 777x492+468+129 \"/shared/CSHL_data_processed/MD661/MD661_prep2_thumbnail_mask/MD662&661-F94-2017.06.06-19.01.05_MD661_2_0281_prep2_thumbnail_mask.png\"\n",
      "convert \"/shared/CSHL_data_processed/MD661/MD661_prep1_thumbnail_mask/MD662&661-F95-2017.06.06-19.27.57_MD661_1_0283_prep1_thumbnail_mask.png\" -crop 777x492+468+129 \"/shared/CSHL_data_processed/MD661/MD661_prep2_thumbnail_mask/MD662&661-F95-2017.06.06-19.27.57_MD661_1_0283_prep2_thumbnail_mask.png\"\n"
     ]
    },
    {
     "name": "stdout",
     "output_type": "stream",
     "text": [
      "convert \"/shared/CSHL_data_processed/MD661/MD661_prep1_thumbnail_mask/MD662&661-F95-2017.06.06-19.27.57_MD661_2_0284_prep1_thumbnail_mask.png\" -crop 777x492+468+129 \"/shared/CSHL_data_processed/MD661/MD661_prep2_thumbnail_mask/MD662&661-F95-2017.06.06-19.27.57_MD661_2_0284_prep2_thumbnail_mask.png\"\n",
      "convert \"/shared/CSHL_data_processed/MD661/MD661_prep1_thumbnail_mask/MD662&661-F96-2017.06.06-19.55.10_MD661_1_0286_prep1_thumbnail_mask.png\" -crop 777x492+468+129 \"/shared/CSHL_data_processed/MD661/MD661_prep2_thumbnail_mask/MD662&661-F96-2017.06.06-19.55.10_MD661_1_0286_prep2_thumbnail_mask.png\"\n",
      "convert \"/shared/CSHL_data_processed/MD661/MD661_prep1_thumbnail_mask/MD662&661-F96-2017.06.06-19.55.10_MD661_2_0287_prep1_thumbnail_mask.png\" -crop 777x492+468+129 \"/shared/CSHL_data_processed/MD661/MD661_prep2_thumbnail_mask/MD662&661-F96-2017.06.06-19.55.10_MD661_2_0287_prep2_thumbnail_mask.png\"\n",
      "convert \"/shared/CSHL_data_processed/MD661/MD661_prep1_thumbnail_mask/MD662&661-F97-2017.06.06-20.20.43_MD661_1_0289_prep1_thumbnail_mask.png\" -crop 777x492+468+129 \"/shared/CSHL_data_processed/MD661/MD661_prep2_thumbnail_mask/MD662&661-F97-2017.06.06-20.20.43_MD661_1_0289_prep2_thumbnail_mask.png\"\n",
      "convert \"/shared/CSHL_data_processed/MD661/MD661_prep1_thumbnail_mask/MD662&661-F97-2017.06.06-20.20.43_MD661_2_0290_prep1_thumbnail_mask.png\" -crop 777x492+468+129 \"/shared/CSHL_data_processed/MD661/MD661_prep2_thumbnail_mask/MD662&661-F97-2017.06.06-20.20.43_MD661_2_0290_prep2_thumbnail_mask.png\"\n",
      "convert \"/shared/CSHL_data_processed/MD661/MD661_prep1_thumbnail_mask/MD662&661-F98-2017.06.06-20.47.32_MD661_1_0292_prep1_thumbnail_mask.png\" -crop 777x492+468+129 \"/shared/CSHL_data_processed/MD661/MD661_prep2_thumbnail_mask/MD662&661-F98-2017.06.06-20.47.32_MD661_1_0292_prep2_thumbnail_mask.png\"\n",
      "convert \"/shared/CSHL_data_processed/MD661/MD661_prep1_thumbnail_mask/MD662&661-F98-2017.06.06-20.47.32_MD661_2_0293_prep1_thumbnail_mask.png\" -crop 777x492+468+129 \"/shared/CSHL_data_processed/MD661/MD661_prep2_thumbnail_mask/MD662&661-F98-2017.06.06-20.47.32_MD661_2_0293_prep2_thumbnail_mask.png\"\n",
      "convert \"/shared/CSHL_data_processed/MD661/MD661_prep1_thumbnail_mask/MD662&661-F99-2017.06.06-21.14.03_MD661_1_0295_prep1_thumbnail_mask.png\" -crop 777x492+468+129 \"/shared/CSHL_data_processed/MD661/MD661_prep2_thumbnail_mask/MD662&661-F99-2017.06.06-21.14.03_MD661_1_0295_prep2_thumbnail_mask.png\"\n",
      "convert \"/shared/CSHL_data_processed/MD661/MD661_prep1_thumbnail_mask/MD662&661-F99-2017.06.06-21.14.03_MD661_2_0296_prep1_thumbnail_mask.png\" -crop 777x492+468+129 \"/shared/CSHL_data_processed/MD661/MD661_prep2_thumbnail_mask/MD662&661-F99-2017.06.06-21.14.03_MD661_2_0296_prep2_thumbnail_mask.png\"\n",
      "convert \"/shared/CSHL_data_processed/MD661/MD661_prep1_thumbnail_mask/MD662&661-F100-2017.06.06-21.40.10_MD661_1_0298_prep1_thumbnail_mask.png\" -crop 777x492+468+129 \"/shared/CSHL_data_processed/MD661/MD661_prep2_thumbnail_mask/MD662&661-F100-2017.06.06-21.40.10_MD661_1_0298_prep2_thumbnail_mask.png\"\n",
      "convert \"/shared/CSHL_data_processed/MD661/MD661_prep1_thumbnail_mask/MD662&661-F100-2017.06.06-21.40.10_MD661_2_0299_prep1_thumbnail_mask.png\" -crop 777x492+468+129 \"/shared/CSHL_data_processed/MD661/MD661_prep2_thumbnail_mask/MD662&661-F100-2017.06.06-21.40.10_MD661_2_0299_prep2_thumbnail_mask.png\"\n",
      "convert \"/shared/CSHL_data_processed/MD661/MD661_prep1_thumbnail_mask/MD662&661-F101-2017.06.06-22.05.45_MD661_1_0301_prep1_thumbnail_mask.png\" -crop 777x492+468+129 \"/shared/CSHL_data_processed/MD661/MD661_prep2_thumbnail_mask/MD662&661-F101-2017.06.06-22.05.45_MD661_1_0301_prep2_thumbnail_mask.png\"\n",
      "convert \"/shared/CSHL_data_processed/MD661/MD661_prep1_thumbnail_mask/MD662&661-F101-2017.06.06-22.05.45_MD661_2_0302_prep1_thumbnail_mask.png\" -crop 777x492+468+129 \"/shared/CSHL_data_processed/MD661/MD661_prep2_thumbnail_mask/MD662&661-F101-2017.06.06-22.05.45_MD661_2_0302_prep2_thumbnail_mask.png\"\n",
      "convert \"/shared/CSHL_data_processed/MD661/MD661_prep1_thumbnail_mask/MD662&661-F102-2017.06.06-22.30.50_MD661_1_0304_prep1_thumbnail_mask.png\" -crop 777x492+468+129 \"/shared/CSHL_data_processed/MD661/MD661_prep2_thumbnail_mask/MD662&661-F102-2017.06.06-22.30.50_MD661_1_0304_prep2_thumbnail_mask.png\"\n",
      "convert \"/shared/CSHL_data_processed/MD661/MD661_prep1_thumbnail_mask/MD662&661-F102-2017.06.06-22.30.50_MD661_2_0305_prep1_thumbnail_mask.png\" -crop 777x492+468+129 \"/shared/CSHL_data_processed/MD661/MD661_prep2_thumbnail_mask/MD662&661-F102-2017.06.06-22.30.50_MD661_2_0305_prep2_thumbnail_mask.png\"\n",
      "convert \"/shared/CSHL_data_processed/MD661/MD661_prep1_thumbnail_mask/MD662&661-F103-2017.06.06-22.56.22_MD661_1_0307_prep1_thumbnail_mask.png\" -crop 777x492+468+129 \"/shared/CSHL_data_processed/MD661/MD661_prep2_thumbnail_mask/MD662&661-F103-2017.06.06-22.56.22_MD661_1_0307_prep2_thumbnail_mask.png\"\n",
      "convert \"/shared/CSHL_data_processed/MD661/MD661_prep1_thumbnail_mask/MD662&661-F103-2017.06.06-22.56.22_MD661_2_0308_prep1_thumbnail_mask.png\" -crop 777x492+468+129 \"/shared/CSHL_data_processed/MD661/MD661_prep2_thumbnail_mask/MD662&661-F103-2017.06.06-22.56.22_MD661_2_0308_prep2_thumbnail_mask.png\"\n",
      "convert \"/shared/CSHL_data_processed/MD661/MD661_prep1_thumbnail_mask/MD662&661-F104-2017.06.06-23.26.43_MD661_1_0310_prep1_thumbnail_mask.png\" -crop 777x492+468+129 \"/shared/CSHL_data_processed/MD661/MD661_prep2_thumbnail_mask/MD662&661-F104-2017.06.06-23.26.43_MD661_1_0310_prep2_thumbnail_mask.png\"\n",
      "convert \"/shared/CSHL_data_processed/MD661/MD661_prep1_thumbnail_mask/MD662&661-F104-2017.06.06-23.26.43_MD661_2_0311_prep1_thumbnail_mask.png\" -crop 777x492+468+129 \"/shared/CSHL_data_processed/MD661/MD661_prep2_thumbnail_mask/MD662&661-F104-2017.06.06-23.26.43_MD661_2_0311_prep2_thumbnail_mask.png\"\n",
      "convert \"/shared/CSHL_data_processed/MD661/MD661_prep1_thumbnail_mask/MD662&661-F105-2017.06.06-23.53.33_MD661_1_0313_prep1_thumbnail_mask.png\" -crop 777x492+468+129 \"/shared/CSHL_data_processed/MD661/MD661_prep2_thumbnail_mask/MD662&661-F105-2017.06.06-23.53.33_MD661_1_0313_prep2_thumbnail_mask.png\"\n",
      "convert \"/shared/CSHL_data_processed/MD661/MD661_prep1_thumbnail_mask/MD662&661-F105-2017.06.06-23.53.33_MD661_2_0314_prep1_thumbnail_mask.png\" -crop 777x492+468+129 \"/shared/CSHL_data_processed/MD661/MD661_prep2_thumbnail_mask/MD662&661-F105-2017.06.06-23.53.33_MD661_2_0314_prep2_thumbnail_mask.png\"\n",
      "convert \"/shared/CSHL_data_processed/MD661/MD661_prep1_thumbnail_mask/MD662&661-F106-2017.06.07-00.20.03_MD661_1_0316_prep1_thumbnail_mask.png\" -crop 777x492+468+129 \"/shared/CSHL_data_processed/MD661/MD661_prep2_thumbnail_mask/MD662&661-F106-2017.06.07-00.20.03_MD661_1_0316_prep2_thumbnail_mask.png\"\n",
      "convert \"/shared/CSHL_data_processed/MD661/MD661_prep1_thumbnail_mask/MD662&661-F106-2017.06.07-00.20.03_MD661_2_0317_prep1_thumbnail_mask.png\" -crop 777x492+468+129 \"/shared/CSHL_data_processed/MD661/MD661_prep2_thumbnail_mask/MD662&661-F106-2017.06.07-00.20.03_MD661_2_0317_prep2_thumbnail_mask.png\"\n",
      "convert \"/shared/CSHL_data_processed/MD661/MD661_prep1_thumbnail_mask/MD662&661-F107-2017.06.07-00.44.42_MD661_1_0319_prep1_thumbnail_mask.png\" -crop 777x492+468+129 \"/shared/CSHL_data_processed/MD661/MD661_prep2_thumbnail_mask/MD662&661-F107-2017.06.07-00.44.42_MD661_1_0319_prep2_thumbnail_mask.png\"\n",
      "convert \"/shared/CSHL_data_processed/MD661/MD661_prep1_thumbnail_mask/MD662&661-F107-2017.06.07-00.44.42_MD661_2_0320_prep1_thumbnail_mask.png\" -crop 777x492+468+129 \"/shared/CSHL_data_processed/MD661/MD661_prep2_thumbnail_mask/MD662&661-F107-2017.06.07-00.44.42_MD661_2_0320_prep2_thumbnail_mask.png\"\n",
      "convert \"/shared/CSHL_data_processed/MD661/MD661_prep1_thumbnail_mask/MD662&661-F108-2017.06.07-01.10.56_MD661_1_0322_prep1_thumbnail_mask.png\" -crop 777x492+468+129 \"/shared/CSHL_data_processed/MD661/MD661_prep2_thumbnail_mask/MD662&661-F108-2017.06.07-01.10.56_MD661_1_0322_prep2_thumbnail_mask.png\"\n",
      "convert \"/shared/CSHL_data_processed/MD661/MD661_prep1_thumbnail_mask/MD662&661-F108-2017.06.07-01.10.56_MD661_2_0323_prep1_thumbnail_mask.png\" -crop 777x492+468+129 \"/shared/CSHL_data_processed/MD661/MD661_prep2_thumbnail_mask/MD662&661-F108-2017.06.07-01.10.56_MD661_2_0323_prep2_thumbnail_mask.png\"\n",
      "convert \"/shared/CSHL_data_processed/MD661/MD661_prep1_thumbnail_mask/MD662&661-F109-2017.06.07-01.37.37_MD661_1_0325_prep1_thumbnail_mask.png\" -crop 777x492+468+129 \"/shared/CSHL_data_processed/MD661/MD661_prep2_thumbnail_mask/MD662&661-F109-2017.06.07-01.37.37_MD661_1_0325_prep2_thumbnail_mask.png\"\n"
     ]
    },
    {
     "name": "stdout",
     "output_type": "stream",
     "text": [
      "convert \"/shared/CSHL_data_processed/MD661/MD661_prep1_thumbnail_mask/MD662&661-F109-2017.06.07-01.37.37_MD661_2_0326_prep1_thumbnail_mask.png\" -crop 777x492+468+129 \"/shared/CSHL_data_processed/MD661/MD661_prep2_thumbnail_mask/MD662&661-F109-2017.06.07-01.37.37_MD661_2_0326_prep2_thumbnail_mask.png\"\n",
      "convert \"/shared/CSHL_data_processed/MD661/MD661_prep1_thumbnail_mask/MD662&661-F110-2017.06.07-02.03.05_MD661_1_0328_prep1_thumbnail_mask.png\" -crop 777x492+468+129 \"/shared/CSHL_data_processed/MD661/MD661_prep2_thumbnail_mask/MD662&661-F110-2017.06.07-02.03.05_MD661_1_0328_prep2_thumbnail_mask.png\"\n",
      "convert \"/shared/CSHL_data_processed/MD661/MD661_prep1_thumbnail_mask/MD662&661-F110-2017.06.07-02.03.05_MD661_2_0329_prep1_thumbnail_mask.png\" -crop 777x492+468+129 \"/shared/CSHL_data_processed/MD661/MD661_prep2_thumbnail_mask/MD662&661-F110-2017.06.07-02.03.05_MD661_2_0329_prep2_thumbnail_mask.png\"\n",
      "convert \"/shared/CSHL_data_processed/MD661/MD661_prep1_thumbnail_mask/MD662&661-F111-2017.06.07-02.28.23_MD661_1_0331_prep1_thumbnail_mask.png\" -crop 777x492+468+129 \"/shared/CSHL_data_processed/MD661/MD661_prep2_thumbnail_mask/MD662&661-F111-2017.06.07-02.28.23_MD661_1_0331_prep2_thumbnail_mask.png\"\n",
      "convert \"/shared/CSHL_data_processed/MD661/MD661_prep1_thumbnail_mask/MD662&661-F111-2017.06.07-02.28.23_MD661_2_0332_prep1_thumbnail_mask.png\" -crop 777x492+468+129 \"/shared/CSHL_data_processed/MD661/MD661_prep2_thumbnail_mask/MD662&661-F111-2017.06.07-02.28.23_MD661_2_0332_prep2_thumbnail_mask.png\"\n",
      "convert \"/shared/CSHL_data_processed/MD661/MD661_prep1_thumbnail_mask/MD662&661-F112-2017.06.07-02.53.08_MD661_1_0334_prep1_thumbnail_mask.png\" -crop 777x492+468+129 \"/shared/CSHL_data_processed/MD661/MD661_prep2_thumbnail_mask/MD662&661-F112-2017.06.07-02.53.08_MD661_1_0334_prep2_thumbnail_mask.png\"\n",
      "convert \"/shared/CSHL_data_processed/MD661/MD661_prep1_thumbnail_mask/MD662&661-F112-2017.06.07-02.53.08_MD661_2_0335_prep1_thumbnail_mask.png\" -crop 777x492+468+129 \"/shared/CSHL_data_processed/MD661/MD661_prep2_thumbnail_mask/MD662&661-F112-2017.06.07-02.53.08_MD661_2_0335_prep2_thumbnail_mask.png\"\n",
      "convert \"/shared/CSHL_data_processed/MD661/MD661_prep1_thumbnail_mask/MD662&661-F113-2017.06.07-03.19.59_MD661_1_0337_prep1_thumbnail_mask.png\" -crop 777x492+468+129 \"/shared/CSHL_data_processed/MD661/MD661_prep2_thumbnail_mask/MD662&661-F113-2017.06.07-03.19.59_MD661_1_0337_prep2_thumbnail_mask.png\"\n",
      "convert \"/shared/CSHL_data_processed/MD661/MD661_prep1_thumbnail_mask/MD662&661-F113-2017.06.07-03.19.59_MD661_2_0338_prep1_thumbnail_mask.png\" -crop 777x492+468+129 \"/shared/CSHL_data_processed/MD661/MD661_prep2_thumbnail_mask/MD662&661-F113-2017.06.07-03.19.59_MD661_2_0338_prep2_thumbnail_mask.png\"\n",
      "convert \"/shared/CSHL_data_processed/MD661/MD661_prep1_thumbnail_mask/MD662&661-F114-2017.06.07-03.45.47_MD661_1_0340_prep1_thumbnail_mask.png\" -crop 777x492+468+129 \"/shared/CSHL_data_processed/MD661/MD661_prep2_thumbnail_mask/MD662&661-F114-2017.06.07-03.45.47_MD661_1_0340_prep2_thumbnail_mask.png\"\n",
      "convert \"/shared/CSHL_data_processed/MD661/MD661_prep1_thumbnail_mask/MD662&661-F114-2017.06.07-03.45.47_MD661_2_0341_prep1_thumbnail_mask.png\" -crop 777x492+468+129 \"/shared/CSHL_data_processed/MD661/MD661_prep2_thumbnail_mask/MD662&661-F114-2017.06.07-03.45.47_MD661_2_0341_prep2_thumbnail_mask.png\"\n",
      "convert \"/shared/CSHL_data_processed/MD661/MD661_prep1_thumbnail_mask/MD662&661-F115-2017.06.07-04.11.41_MD661_1_0343_prep1_thumbnail_mask.png\" -crop 777x492+468+129 \"/shared/CSHL_data_processed/MD661/MD661_prep2_thumbnail_mask/MD662&661-F115-2017.06.07-04.11.41_MD661_1_0343_prep2_thumbnail_mask.png\"\n",
      "convert \"/shared/CSHL_data_processed/MD661/MD661_prep1_thumbnail_mask/MD662&661-F115-2017.06.07-04.11.41_MD661_2_0344_prep1_thumbnail_mask.png\" -crop 777x492+468+129 \"/shared/CSHL_data_processed/MD661/MD661_prep2_thumbnail_mask/MD662&661-F115-2017.06.07-04.11.41_MD661_2_0344_prep2_thumbnail_mask.png\"\n",
      "convert \"/shared/CSHL_data_processed/MD661/MD661_prep1_thumbnail_mask/MD662&661-F116-2017.06.07-04.39.41_MD661_1_0346_prep1_thumbnail_mask.png\" -crop 777x492+468+129 \"/shared/CSHL_data_processed/MD661/MD661_prep2_thumbnail_mask/MD662&661-F116-2017.06.07-04.39.41_MD661_1_0346_prep2_thumbnail_mask.png\"\n",
      "convert \"/shared/CSHL_data_processed/MD661/MD661_prep1_thumbnail_mask/MD662&661-F116-2017.06.07-04.39.41_MD661_2_0347_prep1_thumbnail_mask.png\" -crop 777x492+468+129 \"/shared/CSHL_data_processed/MD661/MD661_prep2_thumbnail_mask/MD662&661-F116-2017.06.07-04.39.41_MD661_2_0347_prep2_thumbnail_mask.png\"\n",
      "convert \"/shared/CSHL_data_processed/MD661/MD661_prep1_thumbnail_mask/MD662&661-F118-2017.06.07-11.26.45_MD661_1_0352_prep1_thumbnail_mask.png\" -crop 777x492+468+129 \"/shared/CSHL_data_processed/MD661/MD661_prep2_thumbnail_mask/MD662&661-F118-2017.06.07-11.26.45_MD661_1_0352_prep2_thumbnail_mask.png\"\n",
      "convert \"/shared/CSHL_data_processed/MD661/MD661_prep1_thumbnail_mask/MD662&661-F118-2017.06.07-11.26.45_MD661_2_0353_prep1_thumbnail_mask.png\" -crop 777x492+468+129 \"/shared/CSHL_data_processed/MD661/MD661_prep2_thumbnail_mask/MD662&661-F118-2017.06.07-11.26.45_MD661_2_0353_prep2_thumbnail_mask.png\"\n",
      "convert \"/shared/CSHL_data_processed/MD661/MD661_prep1_thumbnail_mask/MD662&661-F117-2017.06.07-05.06.52_MD661_1_0349_prep1_thumbnail_mask.png\" -crop 777x492+468+129 \"/shared/CSHL_data_processed/MD661/MD661_prep2_thumbnail_mask/MD662&661-F117-2017.06.07-05.06.52_MD661_1_0349_prep2_thumbnail_mask.png\"\n",
      "convert \"/shared/CSHL_data_processed/MD661/MD661_prep1_thumbnail_mask/MD662&661-F117-2017.06.07-05.06.52_MD661_2_0350_prep1_thumbnail_mask.png\" -crop 777x492+468+129 \"/shared/CSHL_data_processed/MD661/MD661_prep2_thumbnail_mask/MD662&661-F117-2017.06.07-05.06.52_MD661_2_0350_prep2_thumbnail_mask.png\"\n",
      "convert \"/shared/CSHL_data_processed/MD661/MD661_prep1_thumbnail_mask/MD662&661-F119-2017.06.07-11.50.55_MD661_1_0355_prep1_thumbnail_mask.png\" -crop 777x492+468+129 \"/shared/CSHL_data_processed/MD661/MD661_prep2_thumbnail_mask/MD662&661-F119-2017.06.07-11.50.55_MD661_1_0355_prep2_thumbnail_mask.png\"\n",
      "convert \"/shared/CSHL_data_processed/MD661/MD661_prep1_thumbnail_mask/MD662&661-F119-2017.06.07-11.50.55_MD661_2_0356_prep1_thumbnail_mask.png\" -crop 777x492+468+129 \"/shared/CSHL_data_processed/MD661/MD661_prep2_thumbnail_mask/MD662&661-F119-2017.06.07-11.50.55_MD661_2_0356_prep2_thumbnail_mask.png\"\n",
      "convert \"/shared/CSHL_data_processed/MD661/MD661_prep1_thumbnail_mask/MD662&661-F120-2017.06.07-14.31.54_MD661_1_0358_prep1_thumbnail_mask.png\" -crop 777x492+468+129 \"/shared/CSHL_data_processed/MD661/MD661_prep2_thumbnail_mask/MD662&661-F120-2017.06.07-14.31.54_MD661_1_0358_prep2_thumbnail_mask.png\"\n",
      "convert \"/shared/CSHL_data_processed/MD661/MD661_prep1_thumbnail_mask/MD662&661-F120-2017.06.07-14.31.54_MD661_2_0359_prep1_thumbnail_mask.png\" -crop 777x492+468+129 \"/shared/CSHL_data_processed/MD661/MD661_prep2_thumbnail_mask/MD662&661-F120-2017.06.07-14.31.54_MD661_2_0359_prep2_thumbnail_mask.png\"\n",
      "convert \"/shared/CSHL_data_processed/MD661/MD661_prep1_thumbnail_mask/MD662&661-F121-2017.06.07-14.55.33_MD661_1_0361_prep1_thumbnail_mask.png\" -crop 777x492+468+129 \"/shared/CSHL_data_processed/MD661/MD661_prep2_thumbnail_mask/MD662&661-F121-2017.06.07-14.55.33_MD661_1_0361_prep2_thumbnail_mask.png\"\n",
      "convert \"/shared/CSHL_data_processed/MD661/MD661_prep1_thumbnail_mask/MD662&661-F121-2017.06.07-14.55.33_MD661_2_0362_prep1_thumbnail_mask.png\" -crop 777x492+468+129 \"/shared/CSHL_data_processed/MD661/MD661_prep2_thumbnail_mask/MD662&661-F121-2017.06.07-14.55.33_MD661_2_0362_prep2_thumbnail_mask.png\"\n",
      "convert \"/shared/CSHL_data_processed/MD661/MD661_prep1_thumbnail_mask/MD662&661-F122-2017.06.07-15.19.59_MD661_1_0364_prep1_thumbnail_mask.png\" -crop 777x492+468+129 \"/shared/CSHL_data_processed/MD661/MD661_prep2_thumbnail_mask/MD662&661-F122-2017.06.07-15.19.59_MD661_1_0364_prep2_thumbnail_mask.png\"\n",
      "convert \"/shared/CSHL_data_processed/MD661/MD661_prep1_thumbnail_mask/MD662&661-F122-2017.06.07-15.19.59_MD661_2_0365_prep1_thumbnail_mask.png\" -crop 777x492+468+129 \"/shared/CSHL_data_processed/MD661/MD661_prep2_thumbnail_mask/MD662&661-F122-2017.06.07-15.19.59_MD661_2_0365_prep2_thumbnail_mask.png\"\n",
      "convert \"/shared/CSHL_data_processed/MD661/MD661_prep1_thumbnail_mask/MD662&661-F123-2017.06.07-16.02.16_MD661_1_0367_prep1_thumbnail_mask.png\" -crop 777x492+468+129 \"/shared/CSHL_data_processed/MD661/MD661_prep2_thumbnail_mask/MD662&661-F123-2017.06.07-16.02.16_MD661_1_0367_prep2_thumbnail_mask.png\"\n"
     ]
    },
    {
     "name": "stdout",
     "output_type": "stream",
     "text": [
      "convert \"/shared/CSHL_data_processed/MD661/MD661_prep1_thumbnail_mask/MD662&661-F123-2017.06.07-16.02.16_MD661_2_0368_prep1_thumbnail_mask.png\" -crop 777x492+468+129 \"/shared/CSHL_data_processed/MD661/MD661_prep2_thumbnail_mask/MD662&661-F123-2017.06.07-16.02.16_MD661_2_0368_prep2_thumbnail_mask.png\"\n",
      "convert \"/shared/CSHL_data_processed/MD661/MD661_prep1_thumbnail_mask/MD662&661-F124-2017.06.07-16.26.31_MD661_1_0370_prep1_thumbnail_mask.png\" -crop 777x492+468+129 \"/shared/CSHL_data_processed/MD661/MD661_prep2_thumbnail_mask/MD662&661-F124-2017.06.07-16.26.31_MD661_1_0370_prep2_thumbnail_mask.png\"\n",
      "convert \"/shared/CSHL_data_processed/MD661/MD661_prep1_thumbnail_mask/MD662&661-F124-2017.06.07-16.26.31_MD661_2_0371_prep1_thumbnail_mask.png\" -crop 777x492+468+129 \"/shared/CSHL_data_processed/MD661/MD661_prep2_thumbnail_mask/MD662&661-F124-2017.06.07-16.26.31_MD661_2_0371_prep2_thumbnail_mask.png\"\n",
      "convert \"/shared/CSHL_data_processed/MD661/MD661_prep1_thumbnail_mask/MD662&661-F126-2017.06.07-17.13.02_MD661_1_0376_prep1_thumbnail_mask.png\" -crop 777x492+468+129 \"/shared/CSHL_data_processed/MD661/MD661_prep2_thumbnail_mask/MD662&661-F126-2017.06.07-17.13.02_MD661_1_0376_prep2_thumbnail_mask.png\"\n",
      "convert \"/shared/CSHL_data_processed/MD661/MD661_prep1_thumbnail_mask/MD662&661-F126-2017.06.07-17.13.02_MD661_2_0377_prep1_thumbnail_mask.png\" -crop 777x492+468+129 \"/shared/CSHL_data_processed/MD661/MD661_prep2_thumbnail_mask/MD662&661-F126-2017.06.07-17.13.02_MD661_2_0377_prep2_thumbnail_mask.png\"\n",
      "convert \"/shared/CSHL_data_processed/MD661/MD661_prep1_thumbnail_mask/MD662&661-F125-2017.06.07-16.50.51_MD661_1_0373_prep1_thumbnail_mask.png\" -crop 777x492+468+129 \"/shared/CSHL_data_processed/MD661/MD661_prep2_thumbnail_mask/MD662&661-F125-2017.06.07-16.50.51_MD661_1_0373_prep2_thumbnail_mask.png\"\n",
      "convert \"/shared/CSHL_data_processed/MD661/MD661_prep1_thumbnail_mask/MD662&661-F125-2017.06.07-16.50.51_MD661_2_0374_prep1_thumbnail_mask.png\" -crop 777x492+468+129 \"/shared/CSHL_data_processed/MD661/MD661_prep2_thumbnail_mask/MD662&661-F125-2017.06.07-16.50.51_MD661_2_0374_prep2_thumbnail_mask.png\"\n",
      "convert \"/shared/CSHL_data_processed/MD661/MD661_prep1_thumbnail_mask/MD662&661-F127-2017.06.07-17.34.51_MD661_1_0379_prep1_thumbnail_mask.png\" -crop 777x492+468+129 \"/shared/CSHL_data_processed/MD661/MD661_prep2_thumbnail_mask/MD662&661-F127-2017.06.07-17.34.51_MD661_1_0379_prep2_thumbnail_mask.png\"\n",
      "convert \"/shared/CSHL_data_processed/MD661/MD661_prep1_thumbnail_mask/MD662&661-F127-2017.06.07-17.34.51_MD661_2_0380_prep1_thumbnail_mask.png\" -crop 777x492+468+129 \"/shared/CSHL_data_processed/MD661/MD661_prep2_thumbnail_mask/MD662&661-F127-2017.06.07-17.34.51_MD661_2_0380_prep2_thumbnail_mask.png\"\n",
      "convert \"/shared/CSHL_data_processed/MD661/MD661_prep1_thumbnail_mask/MD662&661-F127-2017.06.07-17.34.51_MD661_3_0381_prep1_thumbnail_mask.png\" -crop 777x492+468+129 \"/shared/CSHL_data_processed/MD661/MD661_prep2_thumbnail_mask/MD662&661-F127-2017.06.07-17.34.51_MD661_3_0381_prep2_thumbnail_mask.png\"\n",
      "convert \"/shared/CSHL_data_processed/MD661/MD661_prep1_thumbnail_mask/MD662&661-F128-2017.06.07-18.06.20_MD661_1_0382_prep1_thumbnail_mask.png\" -crop 777x492+468+129 \"/shared/CSHL_data_processed/MD661/MD661_prep2_thumbnail_mask/MD662&661-F128-2017.06.07-18.06.20_MD661_1_0382_prep2_thumbnail_mask.png\"\n",
      "convert \"/shared/CSHL_data_processed/MD661/MD661_prep1_thumbnail_mask/MD662&661-F128-2017.06.07-18.06.20_MD661_2_0383_prep1_thumbnail_mask.png\" -crop 777x492+468+129 \"/shared/CSHL_data_processed/MD661/MD661_prep2_thumbnail_mask/MD662&661-F128-2017.06.07-18.06.20_MD661_2_0383_prep2_thumbnail_mask.png\"\n",
      "convert \"/shared/CSHL_data_processed/MD661/MD661_prep1_thumbnail_mask/MD662&661-F128-2017.06.07-18.06.20_MD661_3_0384_prep1_thumbnail_mask.png\" -crop 777x492+468+129 \"/shared/CSHL_data_processed/MD661/MD661_prep2_thumbnail_mask/MD662&661-F128-2017.06.07-18.06.20_MD661_3_0384_prep2_thumbnail_mask.png\"\n",
      "convert \"/shared/CSHL_data_processed/MD661/MD661_prep1_thumbnail_mask/MD662&661-F129-2017.06.07-18.36.41_MD661_1_0385_prep1_thumbnail_mask.png\" -crop 777x492+468+129 \"/shared/CSHL_data_processed/MD661/MD661_prep2_thumbnail_mask/MD662&661-F129-2017.06.07-18.36.41_MD661_1_0385_prep2_thumbnail_mask.png\"\n",
      "convert \"/shared/CSHL_data_processed/MD661/MD661_prep1_thumbnail_mask/MD662&661-F129-2017.06.07-18.36.41_MD661_2_0386_prep1_thumbnail_mask.png\" -crop 777x492+468+129 \"/shared/CSHL_data_processed/MD661/MD661_prep2_thumbnail_mask/MD662&661-F129-2017.06.07-18.36.41_MD661_2_0386_prep2_thumbnail_mask.png\"\n",
      "convert \"/shared/CSHL_data_processed/MD661/MD661_prep1_thumbnail_mask/MD662&661-F129-2017.06.07-18.36.41_MD661_3_0387_prep1_thumbnail_mask.png\" -crop 777x492+468+129 \"/shared/CSHL_data_processed/MD661/MD661_prep2_thumbnail_mask/MD662&661-F129-2017.06.07-18.36.41_MD661_3_0387_prep2_thumbnail_mask.png\"\n",
      "convert \"/shared/CSHL_data_processed/MD661/MD661_prep1_thumbnail_mask/MD662&661-F130-2017.06.07-19.06.02_MD661_1_0388_prep1_thumbnail_mask.png\" -crop 777x492+468+129 \"/shared/CSHL_data_processed/MD661/MD661_prep2_thumbnail_mask/MD662&661-F130-2017.06.07-19.06.02_MD661_1_0388_prep2_thumbnail_mask.png\"\n",
      "convert \"/shared/CSHL_data_processed/MD661/MD661_prep1_thumbnail_mask/MD662&661-F130-2017.06.07-19.06.02_MD661_2_0389_prep1_thumbnail_mask.png\" -crop 777x492+468+129 \"/shared/CSHL_data_processed/MD661/MD661_prep2_thumbnail_mask/MD662&661-F130-2017.06.07-19.06.02_MD661_2_0389_prep2_thumbnail_mask.png\"\n",
      "convert \"/shared/CSHL_data_processed/MD661/MD661_prep1_thumbnail_mask/MD662&661-F130-2017.06.07-19.06.02_MD661_3_0390_prep1_thumbnail_mask.png\" -crop 777x492+468+129 \"/shared/CSHL_data_processed/MD661/MD661_prep2_thumbnail_mask/MD662&661-F130-2017.06.07-19.06.02_MD661_3_0390_prep2_thumbnail_mask.png\"\n",
      "convert \"/shared/CSHL_data_processed/MD661/MD661_prep1_thumbnail_mask/MD662&661-F131-2017.06.07-19.36.32_MD661_1_0391_prep1_thumbnail_mask.png\" -crop 777x492+468+129 \"/shared/CSHL_data_processed/MD661/MD661_prep2_thumbnail_mask/MD662&661-F131-2017.06.07-19.36.32_MD661_1_0391_prep2_thumbnail_mask.png\"\n",
      "convert \"/shared/CSHL_data_processed/MD661/MD661_prep1_thumbnail_mask/MD662&661-F131-2017.06.07-19.36.32_MD661_2_0392_prep1_thumbnail_mask.png\" -crop 777x492+468+129 \"/shared/CSHL_data_processed/MD661/MD661_prep2_thumbnail_mask/MD662&661-F131-2017.06.07-19.36.32_MD661_2_0392_prep2_thumbnail_mask.png\"\n",
      "convert \"/shared/CSHL_data_processed/MD661/MD661_prep1_thumbnail_mask/MD662&661-F131-2017.06.07-19.36.32_MD661_3_0393_prep1_thumbnail_mask.png\" -crop 777x492+468+129 \"/shared/CSHL_data_processed/MD661/MD661_prep2_thumbnail_mask/MD662&661-F131-2017.06.07-19.36.32_MD661_3_0393_prep2_thumbnail_mask.png\"\n",
      "convert \"/shared/CSHL_data_processed/MD661/MD661_prep1_thumbnail_mask/MD662&661-F132-2017.06.07-20.06.12_MD661_1_0394_prep1_thumbnail_mask.png\" -crop 777x492+468+129 \"/shared/CSHL_data_processed/MD661/MD661_prep2_thumbnail_mask/MD662&661-F132-2017.06.07-20.06.12_MD661_1_0394_prep2_thumbnail_mask.png\"\n",
      "convert \"/shared/CSHL_data_processed/MD661/MD661_prep1_thumbnail_mask/MD662&661-F132-2017.06.07-20.06.12_MD661_2_0395_prep1_thumbnail_mask.png\" -crop 777x492+468+129 \"/shared/CSHL_data_processed/MD661/MD661_prep2_thumbnail_mask/MD662&661-F132-2017.06.07-20.06.12_MD661_2_0395_prep2_thumbnail_mask.png\"\n",
      "convert \"/shared/CSHL_data_processed/MD661/MD661_prep1_thumbnail_mask/MD662&661-F132-2017.06.07-20.06.12_MD661_3_0396_prep1_thumbnail_mask.png\" -crop 777x492+468+129 \"/shared/CSHL_data_processed/MD661/MD661_prep2_thumbnail_mask/MD662&661-F132-2017.06.07-20.06.12_MD661_3_0396_prep2_thumbnail_mask.png\"\n",
      "convert \"/shared/CSHL_data_processed/MD661/MD661_prep1_thumbnail_mask/MD662&661-F133-2017.06.07-20.35.00_MD661_1_0397_prep1_thumbnail_mask.png\" -crop 777x492+468+129 \"/shared/CSHL_data_processed/MD661/MD661_prep2_thumbnail_mask/MD662&661-F133-2017.06.07-20.35.00_MD661_1_0397_prep2_thumbnail_mask.png\"\n",
      "convert \"/shared/CSHL_data_processed/MD661/MD661_prep1_thumbnail_mask/MD662&661-F133-2017.06.07-20.35.00_MD661_2_0398_prep1_thumbnail_mask.png\" -crop 777x492+468+129 \"/shared/CSHL_data_processed/MD661/MD661_prep2_thumbnail_mask/MD662&661-F133-2017.06.07-20.35.00_MD661_2_0398_prep2_thumbnail_mask.png\"\n",
      "convert \"/shared/CSHL_data_processed/MD661/MD661_prep1_thumbnail_mask/MD662&661-F133-2017.06.07-20.35.00_MD661_3_0399_prep1_thumbnail_mask.png\" -crop 777x492+468+129 \"/shared/CSHL_data_processed/MD661/MD661_prep2_thumbnail_mask/MD662&661-F133-2017.06.07-20.35.00_MD661_3_0399_prep2_thumbnail_mask.png\"\n"
     ]
    },
    {
     "name": "stdout",
     "output_type": "stream",
     "text": [
      "convert \"/shared/CSHL_data_processed/MD661/MD661_prep1_thumbnail_mask/MD662&661-F134-2017.06.07-21.04.24_MD661_1_0400_prep1_thumbnail_mask.png\" -crop 777x492+468+129 \"/shared/CSHL_data_processed/MD661/MD661_prep2_thumbnail_mask/MD662&661-F134-2017.06.07-21.04.24_MD661_1_0400_prep2_thumbnail_mask.png\"\n",
      "convert \"/shared/CSHL_data_processed/MD661/MD661_prep1_thumbnail_mask/MD662&661-F134-2017.06.07-21.04.24_MD661_2_0401_prep1_thumbnail_mask.png\" -crop 777x492+468+129 \"/shared/CSHL_data_processed/MD661/MD661_prep2_thumbnail_mask/MD662&661-F134-2017.06.07-21.04.24_MD661_2_0401_prep2_thumbnail_mask.png\"\n",
      "convert \"/shared/CSHL_data_processed/MD661/MD661_prep1_thumbnail_mask/MD662&661-F134-2017.06.07-21.04.24_MD661_3_0402_prep1_thumbnail_mask.png\" -crop 777x492+468+129 \"/shared/CSHL_data_processed/MD661/MD661_prep2_thumbnail_mask/MD662&661-F134-2017.06.07-21.04.24_MD661_3_0402_prep2_thumbnail_mask.png\"\n",
      "convert \"/shared/CSHL_data_processed/MD661/MD661_prep1_thumbnail_mask/MD662&661-F135-2017.06.07-21.33.10_MD661_1_0403_prep1_thumbnail_mask.png\" -crop 777x492+468+129 \"/shared/CSHL_data_processed/MD661/MD661_prep2_thumbnail_mask/MD662&661-F135-2017.06.07-21.33.10_MD661_1_0403_prep2_thumbnail_mask.png\"\n",
      "convert \"/shared/CSHL_data_processed/MD661/MD661_prep1_thumbnail_mask/MD662&661-F135-2017.06.07-21.33.10_MD661_2_0404_prep1_thumbnail_mask.png\" -crop 777x492+468+129 \"/shared/CSHL_data_processed/MD661/MD661_prep2_thumbnail_mask/MD662&661-F135-2017.06.07-21.33.10_MD661_2_0404_prep2_thumbnail_mask.png\"\n",
      "convert \"/shared/CSHL_data_processed/MD661/MD661_prep1_thumbnail_mask/MD662&661-F135-2017.06.07-21.33.10_MD661_3_0405_prep1_thumbnail_mask.png\" -crop 777x492+468+129 \"/shared/CSHL_data_processed/MD661/MD661_prep2_thumbnail_mask/MD662&661-F135-2017.06.07-21.33.10_MD661_3_0405_prep2_thumbnail_mask.png\"\n",
      "convert \"/shared/CSHL_data_processed/MD661/MD661_prep1_thumbnail_mask/MD662&661-F136-2017.06.07-22.02.11_MD661_1_0406_prep1_thumbnail_mask.png\" -crop 777x492+468+129 \"/shared/CSHL_data_processed/MD661/MD661_prep2_thumbnail_mask/MD662&661-F136-2017.06.07-22.02.11_MD661_1_0406_prep2_thumbnail_mask.png\"\n",
      "convert \"/shared/CSHL_data_processed/MD661/MD661_prep1_thumbnail_mask/MD662&661-F136-2017.06.07-22.02.11_MD661_2_0407_prep1_thumbnail_mask.png\" -crop 777x492+468+129 \"/shared/CSHL_data_processed/MD661/MD661_prep2_thumbnail_mask/MD662&661-F136-2017.06.07-22.02.11_MD661_2_0407_prep2_thumbnail_mask.png\"\n",
      "convert \"/shared/CSHL_data_processed/MD661/MD661_prep1_thumbnail_mask/MD662&661-F136-2017.06.07-22.02.11_MD661_3_0408_prep1_thumbnail_mask.png\" -crop 777x492+468+129 \"/shared/CSHL_data_processed/MD661/MD661_prep2_thumbnail_mask/MD662&661-F136-2017.06.07-22.02.11_MD661_3_0408_prep2_thumbnail_mask.png\"\n",
      "convert \"/shared/CSHL_data_processed/MD661/MD661_prep1_thumbnail_mask/MD662&661-F137-2017.06.07-22.31.13_MD661_1_0409_prep1_thumbnail_mask.png\" -crop 777x492+468+129 \"/shared/CSHL_data_processed/MD661/MD661_prep2_thumbnail_mask/MD662&661-F137-2017.06.07-22.31.13_MD661_1_0409_prep2_thumbnail_mask.png\"\n",
      "convert \"/shared/CSHL_data_processed/MD661/MD661_prep1_thumbnail_mask/MD662&661-F137-2017.06.07-22.31.13_MD661_2_0410_prep1_thumbnail_mask.png\" -crop 777x492+468+129 \"/shared/CSHL_data_processed/MD661/MD661_prep2_thumbnail_mask/MD662&661-F137-2017.06.07-22.31.13_MD661_2_0410_prep2_thumbnail_mask.png\"\n",
      "convert \"/shared/CSHL_data_processed/MD661/MD661_prep1_thumbnail_mask/MD662&661-F137-2017.06.07-22.31.13_MD661_3_0411_prep1_thumbnail_mask.png\" -crop 777x492+468+129 \"/shared/CSHL_data_processed/MD661/MD661_prep2_thumbnail_mask/MD662&661-F137-2017.06.07-22.31.13_MD661_3_0411_prep2_thumbnail_mask.png\"\n",
      "convert \"/shared/CSHL_data_processed/MD661/MD661_prep1_thumbnail_mask/MD662&661-F138-2017.06.07-23.00.07_MD661_1_0412_prep1_thumbnail_mask.png\" -crop 777x492+468+129 \"/shared/CSHL_data_processed/MD661/MD661_prep2_thumbnail_mask/MD662&661-F138-2017.06.07-23.00.07_MD661_1_0412_prep2_thumbnail_mask.png\"\n",
      "convert \"/shared/CSHL_data_processed/MD661/MD661_prep1_thumbnail_mask/MD662&661-F138-2017.06.07-23.00.07_MD661_2_0413_prep1_thumbnail_mask.png\" -crop 777x492+468+129 \"/shared/CSHL_data_processed/MD661/MD661_prep2_thumbnail_mask/MD662&661-F138-2017.06.07-23.00.07_MD661_2_0413_prep2_thumbnail_mask.png\"\n",
      "convert \"/shared/CSHL_data_processed/MD661/MD661_prep1_thumbnail_mask/MD662&661-F138-2017.06.07-23.00.07_MD661_3_0414_prep1_thumbnail_mask.png\" -crop 777x492+468+129 \"/shared/CSHL_data_processed/MD661/MD661_prep2_thumbnail_mask/MD662&661-F138-2017.06.07-23.00.07_MD661_3_0414_prep2_thumbnail_mask.png\"\n",
      "convert \"/shared/CSHL_data_processed/MD661/MD661_prep1_thumbnail_mask/MD662&661-F139-2017.06.07-23.28.09_MD661_1_0415_prep1_thumbnail_mask.png\" -crop 777x492+468+129 \"/shared/CSHL_data_processed/MD661/MD661_prep2_thumbnail_mask/MD662&661-F139-2017.06.07-23.28.09_MD661_1_0415_prep2_thumbnail_mask.png\"\n",
      "convert \"/shared/CSHL_data_processed/MD661/MD661_prep1_thumbnail_mask/MD662&661-F139-2017.06.07-23.28.09_MD661_2_0416_prep1_thumbnail_mask.png\" -crop 777x492+468+129 \"/shared/CSHL_data_processed/MD661/MD661_prep2_thumbnail_mask/MD662&661-F139-2017.06.07-23.28.09_MD661_2_0416_prep2_thumbnail_mask.png\"\n",
      "convert \"/shared/CSHL_data_processed/MD661/MD661_prep1_thumbnail_mask/MD662&661-F139-2017.06.07-23.28.09_MD661_3_0417_prep1_thumbnail_mask.png\" -crop 777x492+468+129 \"/shared/CSHL_data_processed/MD661/MD661_prep2_thumbnail_mask/MD662&661-F139-2017.06.07-23.28.09_MD661_3_0417_prep2_thumbnail_mask.png\"\n",
      "convert \"/shared/CSHL_data_processed/MD661/MD661_prep1_thumbnail_mask/MD662&661-F140-2017.06.07-23.55.43_MD661_1_0418_prep1_thumbnail_mask.png\" -crop 777x492+468+129 \"/shared/CSHL_data_processed/MD661/MD661_prep2_thumbnail_mask/MD662&661-F140-2017.06.07-23.55.43_MD661_1_0418_prep2_thumbnail_mask.png\"\n",
      "convert \"/shared/CSHL_data_processed/MD661/MD661_prep1_thumbnail_mask/MD662&661-F140-2017.06.07-23.55.43_MD661_2_0419_prep1_thumbnail_mask.png\" -crop 777x492+468+129 \"/shared/CSHL_data_processed/MD661/MD661_prep2_thumbnail_mask/MD662&661-F140-2017.06.07-23.55.43_MD661_2_0419_prep2_thumbnail_mask.png\"\n",
      "convert \"/shared/CSHL_data_processed/MD661/MD661_prep1_thumbnail_mask/MD662&661-F140-2017.06.07-23.55.43_MD661_3_0420_prep1_thumbnail_mask.png\" -crop 777x492+468+129 \"/shared/CSHL_data_processed/MD661/MD661_prep2_thumbnail_mask/MD662&661-F140-2017.06.07-23.55.43_MD661_3_0420_prep2_thumbnail_mask.png\"\n",
      "convert \"/shared/CSHL_data_processed/MD661/MD661_prep1_thumbnail_mask/MD662&661-F141-2017.06.08-00.23.35_MD661_1_0421_prep1_thumbnail_mask.png\" -crop 777x492+468+129 \"/shared/CSHL_data_processed/MD661/MD661_prep2_thumbnail_mask/MD662&661-F141-2017.06.08-00.23.35_MD661_1_0421_prep2_thumbnail_mask.png\"\n",
      "convert \"/shared/CSHL_data_processed/MD661/MD661_prep1_thumbnail_mask/MD662&661-F141-2017.06.08-00.23.35_MD661_2_0422_prep1_thumbnail_mask.png\" -crop 777x492+468+129 \"/shared/CSHL_data_processed/MD661/MD661_prep2_thumbnail_mask/MD662&661-F141-2017.06.08-00.23.35_MD661_2_0422_prep2_thumbnail_mask.png\"\n",
      "convert \"/shared/CSHL_data_processed/MD661/MD661_prep1_thumbnail_mask/MD662&661-F141-2017.06.08-00.23.35_MD661_3_0423_prep1_thumbnail_mask.png\" -crop 777x492+468+129 \"/shared/CSHL_data_processed/MD661/MD661_prep2_thumbnail_mask/MD662&661-F141-2017.06.08-00.23.35_MD661_3_0423_prep2_thumbnail_mask.png\"\n",
      "convert \"/shared/CSHL_data_processed/MD661/MD661_prep1_thumbnail_mask/MD662&661-F142-2017.06.08-19.12.20_MD661_1_0424_prep1_thumbnail_mask.png\" -crop 777x492+468+129 \"/shared/CSHL_data_processed/MD661/MD661_prep2_thumbnail_mask/MD662&661-F142-2017.06.08-19.12.20_MD661_1_0424_prep2_thumbnail_mask.png\"\n",
      "convert \"/shared/CSHL_data_processed/MD661/MD661_prep1_thumbnail_mask/MD662&661-F142-2017.06.08-19.12.20_MD661_2_0425_prep1_thumbnail_mask.png\" -crop 777x492+468+129 \"/shared/CSHL_data_processed/MD661/MD661_prep2_thumbnail_mask/MD662&661-F142-2017.06.08-19.12.20_MD661_2_0425_prep2_thumbnail_mask.png\"\n",
      "convert \"/shared/CSHL_data_processed/MD661/MD661_prep1_thumbnail_mask/MD662&661-F142-2017.06.08-19.12.20_MD661_3_0426_prep1_thumbnail_mask.png\" -crop 777x492+468+129 \"/shared/CSHL_data_processed/MD661/MD661_prep2_thumbnail_mask/MD662&661-F142-2017.06.08-19.12.20_MD661_3_0426_prep2_thumbnail_mask.png\"\n",
      "convert \"/shared/CSHL_data_processed/MD661/MD661_prep1_thumbnail_mask/MD662&661-F143-2017.06.08-00.52.06_MD661_1_0427_prep1_thumbnail_mask.png\" -crop 777x492+468+129 \"/shared/CSHL_data_processed/MD661/MD661_prep2_thumbnail_mask/MD662&661-F143-2017.06.08-00.52.06_MD661_1_0427_prep2_thumbnail_mask.png\"\n"
     ]
    },
    {
     "name": "stdout",
     "output_type": "stream",
     "text": [
      "convert \"/shared/CSHL_data_processed/MD661/MD661_prep1_thumbnail_mask/MD662&661-F143-2017.06.08-00.52.06_MD661_2_0428_prep1_thumbnail_mask.png\" -crop 777x492+468+129 \"/shared/CSHL_data_processed/MD661/MD661_prep2_thumbnail_mask/MD662&661-F143-2017.06.08-00.52.06_MD661_2_0428_prep2_thumbnail_mask.png\"\n",
      "convert \"/shared/CSHL_data_processed/MD661/MD661_prep1_thumbnail_mask/MD662&661-F143-2017.06.08-00.52.06_MD661_3_0429_prep1_thumbnail_mask.png\" -crop 777x492+468+129 \"/shared/CSHL_data_processed/MD661/MD661_prep2_thumbnail_mask/MD662&661-F143-2017.06.08-00.52.06_MD661_3_0429_prep2_thumbnail_mask.png\"\n",
      "convert \"/shared/CSHL_data_processed/MD661/MD661_prep1_thumbnail_mask/MD662&661-F144-2017.06.08-01.17.04_MD661_1_0430_prep1_thumbnail_mask.png\" -crop 777x492+468+129 \"/shared/CSHL_data_processed/MD661/MD661_prep2_thumbnail_mask/MD662&661-F144-2017.06.08-01.17.04_MD661_1_0430_prep2_thumbnail_mask.png\"\n",
      "convert \"/shared/CSHL_data_processed/MD661/MD661_prep1_thumbnail_mask/MD662&661-F144-2017.06.08-01.17.04_MD661_2_0431_prep1_thumbnail_mask.png\" -crop 777x492+468+129 \"/shared/CSHL_data_processed/MD661/MD661_prep2_thumbnail_mask/MD662&661-F144-2017.06.08-01.17.04_MD661_2_0431_prep2_thumbnail_mask.png\"\n",
      "convert \"/shared/CSHL_data_processed/MD661/MD661_prep1_thumbnail_mask/MD662&661-F144-2017.06.08-01.17.04_MD661_3_0432_prep1_thumbnail_mask.png\" -crop 777x492+468+129 \"/shared/CSHL_data_processed/MD661/MD661_prep2_thumbnail_mask/MD662&661-F144-2017.06.08-01.17.04_MD661_3_0432_prep2_thumbnail_mask.png\"\n",
      "convert \"/shared/CSHL_data_processed/MD661/MD661_prep1_thumbnail_mask/MD662&661-F145-2017.06.08-01.42.12_MD661_1_0433_prep1_thumbnail_mask.png\" -crop 777x492+468+129 \"/shared/CSHL_data_processed/MD661/MD661_prep2_thumbnail_mask/MD662&661-F145-2017.06.08-01.42.12_MD661_1_0433_prep2_thumbnail_mask.png\"\n",
      "convert \"/shared/CSHL_data_processed/MD661/MD661_prep1_thumbnail_mask/MD662&661-F145-2017.06.08-01.42.12_MD661_2_0434_prep1_thumbnail_mask.png\" -crop 777x492+468+129 \"/shared/CSHL_data_processed/MD661/MD661_prep2_thumbnail_mask/MD662&661-F145-2017.06.08-01.42.12_MD661_2_0434_prep2_thumbnail_mask.png\"\n",
      "convert \"/shared/CSHL_data_processed/MD661/MD661_prep1_thumbnail_mask/MD662&661-F145-2017.06.08-01.42.12_MD661_3_0435_prep1_thumbnail_mask.png\" -crop 777x492+468+129 \"/shared/CSHL_data_processed/MD661/MD661_prep2_thumbnail_mask/MD662&661-F145-2017.06.08-01.42.12_MD661_3_0435_prep2_thumbnail_mask.png\"\n",
      "convert \"/shared/CSHL_data_processed/MD661/MD661_prep1_thumbnail_mask/MD662&661-F146-2017.06.08-02.07.21_MD661_1_0436_prep1_thumbnail_mask.png\" -crop 777x492+468+129 \"/shared/CSHL_data_processed/MD661/MD661_prep2_thumbnail_mask/MD662&661-F146-2017.06.08-02.07.21_MD661_1_0436_prep2_thumbnail_mask.png\"\n",
      "convert \"/shared/CSHL_data_processed/MD661/MD661_prep1_thumbnail_mask/MD662&661-F146-2017.06.08-02.07.21_MD661_2_0437_prep1_thumbnail_mask.png\" -crop 777x492+468+129 \"/shared/CSHL_data_processed/MD661/MD661_prep2_thumbnail_mask/MD662&661-F146-2017.06.08-02.07.21_MD661_2_0437_prep2_thumbnail_mask.png\"\n",
      "convert \"/shared/CSHL_data_processed/MD661/MD661_prep1_thumbnail_mask/MD662&661-F146-2017.06.08-02.07.21_MD661_3_0438_prep1_thumbnail_mask.png\" -crop 777x492+468+129 \"/shared/CSHL_data_processed/MD661/MD661_prep2_thumbnail_mask/MD662&661-F146-2017.06.08-02.07.21_MD661_3_0438_prep2_thumbnail_mask.png\"\n",
      "convert \"/shared/CSHL_data_processed/MD661/MD661_prep1_thumbnail_mask/MD662&661-F147-2017.06.08-02.33.03_MD661_1_0439_prep1_thumbnail_mask.png\" -crop 777x492+468+129 \"/shared/CSHL_data_processed/MD661/MD661_prep2_thumbnail_mask/MD662&661-F147-2017.06.08-02.33.03_MD661_1_0439_prep2_thumbnail_mask.png\"\n",
      "convert \"/shared/CSHL_data_processed/MD661/MD661_prep1_thumbnail_mask/MD662&661-F147-2017.06.08-02.33.03_MD661_2_0440_prep1_thumbnail_mask.png\" -crop 777x492+468+129 \"/shared/CSHL_data_processed/MD661/MD661_prep2_thumbnail_mask/MD662&661-F147-2017.06.08-02.33.03_MD661_2_0440_prep2_thumbnail_mask.png\"\n",
      "convert \"/shared/CSHL_data_processed/MD661/MD661_prep1_thumbnail_mask/MD662&661-F147-2017.06.08-02.33.03_MD661_3_0441_prep1_thumbnail_mask.png\" -crop 777x492+468+129 \"/shared/CSHL_data_processed/MD661/MD661_prep2_thumbnail_mask/MD662&661-F147-2017.06.08-02.33.03_MD661_3_0441_prep2_thumbnail_mask.png\"\n",
      "convert \"/shared/CSHL_data_processed/MD661/MD661_prep1_thumbnail_mask/MD662&661-F148-2017.06.08-02.58.49_MD661_1_0442_prep1_thumbnail_mask.png\" -crop 777x492+468+129 \"/shared/CSHL_data_processed/MD661/MD661_prep2_thumbnail_mask/MD662&661-F148-2017.06.08-02.58.49_MD661_1_0442_prep2_thumbnail_mask.png\"\n",
      "convert \"/shared/CSHL_data_processed/MD661/MD661_prep1_thumbnail_mask/MD662&661-F148-2017.06.08-02.58.49_MD661_2_0443_prep1_thumbnail_mask.png\" -crop 777x492+468+129 \"/shared/CSHL_data_processed/MD661/MD661_prep2_thumbnail_mask/MD662&661-F148-2017.06.08-02.58.49_MD661_2_0443_prep2_thumbnail_mask.png\"\n",
      "convert \"/shared/CSHL_data_processed/MD661/MD661_prep1_thumbnail_mask/MD662&661-F148-2017.06.08-02.58.49_MD661_3_0444_prep1_thumbnail_mask.png\" -crop 777x492+468+129 \"/shared/CSHL_data_processed/MD661/MD661_prep2_thumbnail_mask/MD662&661-F148-2017.06.08-02.58.49_MD661_3_0444_prep2_thumbnail_mask.png\"\n",
      "convert \"/shared/CSHL_data_processed/MD661/MD661_prep1_thumbnail_mask/MD662&661-F149-2017.06.08-03.23.49_MD661_1_0445_prep1_thumbnail_mask.png\" -crop 777x492+468+129 \"/shared/CSHL_data_processed/MD661/MD661_prep2_thumbnail_mask/MD662&661-F149-2017.06.08-03.23.49_MD661_1_0445_prep2_thumbnail_mask.png\"\n",
      "convert \"/shared/CSHL_data_processed/MD661/MD661_prep1_thumbnail_mask/MD662&661-F149-2017.06.08-03.23.49_MD661_2_0446_prep1_thumbnail_mask.png\" -crop 777x492+468+129 \"/shared/CSHL_data_processed/MD661/MD661_prep2_thumbnail_mask/MD662&661-F149-2017.06.08-03.23.49_MD661_2_0446_prep2_thumbnail_mask.png\"\n",
      "convert \"/shared/CSHL_data_processed/MD661/MD661_prep1_thumbnail_mask/MD662&661-F149-2017.06.08-03.23.49_MD661_3_0447_prep1_thumbnail_mask.png\" -crop 777x492+468+129 \"/shared/CSHL_data_processed/MD661/MD661_prep2_thumbnail_mask/MD662&661-F149-2017.06.08-03.23.49_MD661_3_0447_prep2_thumbnail_mask.png\"\n",
      "convert \"/shared/CSHL_data_processed/MD661/MD661_prep1_thumbnail_mask/MD662&661-F150-2017.06.07-05.49.02_MD661_1_0448_prep1_thumbnail_mask.png\" -crop 777x492+468+129 \"/shared/CSHL_data_processed/MD661/MD661_prep2_thumbnail_mask/MD662&661-F150-2017.06.07-05.49.02_MD661_1_0448_prep2_thumbnail_mask.png\"\n",
      "convert \"/shared/CSHL_data_processed/MD661/MD661_prep1_thumbnail_mask/MD662&661-F150-2017.06.07-05.49.02_MD661_2_0449_prep1_thumbnail_mask.png\" -crop 777x492+468+129 \"/shared/CSHL_data_processed/MD661/MD661_prep2_thumbnail_mask/MD662&661-F150-2017.06.07-05.49.02_MD661_2_0449_prep2_thumbnail_mask.png\"\n",
      "convert \"/shared/CSHL_data_processed/MD661/MD661_prep1_thumbnail_mask/MD662&661-F150-2017.06.07-05.49.02_MD661_3_0450_prep1_thumbnail_mask.png\" -crop 777x492+468+129 \"/shared/CSHL_data_processed/MD661/MD661_prep2_thumbnail_mask/MD662&661-F150-2017.06.07-05.49.02_MD661_3_0450_prep2_thumbnail_mask.png\"\n",
      "convert \"/shared/CSHL_data_processed/MD661/MD661_prep1_thumbnail_mask/MD662&661-F151-2017.06.08-03.49.47_MD661_1_0451_prep1_thumbnail_mask.png\" -crop 777x492+468+129 \"/shared/CSHL_data_processed/MD661/MD661_prep2_thumbnail_mask/MD662&661-F151-2017.06.08-03.49.47_MD661_1_0451_prep2_thumbnail_mask.png\"\n",
      "convert \"/shared/CSHL_data_processed/MD661/MD661_prep1_thumbnail_mask/MD662&661-F151-2017.06.08-03.49.47_MD661_2_0452_prep1_thumbnail_mask.png\" -crop 777x492+468+129 \"/shared/CSHL_data_processed/MD661/MD661_prep2_thumbnail_mask/MD662&661-F151-2017.06.08-03.49.47_MD661_2_0452_prep2_thumbnail_mask.png\"\n",
      "convert \"/shared/CSHL_data_processed/MD661/MD661_prep1_thumbnail_mask/MD662&661-F151-2017.06.08-03.49.47_MD661_3_0453_prep1_thumbnail_mask.png\" -crop 777x492+468+129 \"/shared/CSHL_data_processed/MD661/MD661_prep2_thumbnail_mask/MD662&661-F151-2017.06.08-03.49.47_MD661_3_0453_prep2_thumbnail_mask.png\"\n",
      "convert \"/shared/CSHL_data_processed/MD661/MD661_prep1_thumbnail_mask/MD662&661-F152-2017.06.08-04.14.54_MD661_1_0454_prep1_thumbnail_mask.png\" -crop 777x492+468+129 \"/shared/CSHL_data_processed/MD661/MD661_prep2_thumbnail_mask/MD662&661-F152-2017.06.08-04.14.54_MD661_1_0454_prep2_thumbnail_mask.png\"\n",
      "convert \"/shared/CSHL_data_processed/MD661/MD661_prep1_thumbnail_mask/MD662&661-F152-2017.06.08-04.14.54_MD661_2_0455_prep1_thumbnail_mask.png\" -crop 777x492+468+129 \"/shared/CSHL_data_processed/MD661/MD661_prep2_thumbnail_mask/MD662&661-F152-2017.06.08-04.14.54_MD661_2_0455_prep2_thumbnail_mask.png\"\n"
     ]
    },
    {
     "name": "stdout",
     "output_type": "stream",
     "text": [
      "convert \"/shared/CSHL_data_processed/MD661/MD661_prep1_thumbnail_mask/MD662&661-F152-2017.06.08-04.14.54_MD661_3_0456_prep1_thumbnail_mask.png\" -crop 777x492+468+129 \"/shared/CSHL_data_processed/MD661/MD661_prep2_thumbnail_mask/MD662&661-F152-2017.06.08-04.14.54_MD661_3_0456_prep2_thumbnail_mask.png\"\n",
      "convert \"/shared/CSHL_data_processed/MD661/MD661_prep1_thumbnail_mask/MD662&661-F153-2017.06.08-04.36.42_MD661_1_0457_prep1_thumbnail_mask.png\" -crop 777x492+468+129 \"/shared/CSHL_data_processed/MD661/MD661_prep2_thumbnail_mask/MD662&661-F153-2017.06.08-04.36.42_MD661_1_0457_prep2_thumbnail_mask.png\"\n",
      "convert \"/shared/CSHL_data_processed/MD661/MD661_prep1_thumbnail_mask/MD662&661-F153-2017.06.08-04.36.42_MD661_2_0458_prep1_thumbnail_mask.png\" -crop 777x492+468+129 \"/shared/CSHL_data_processed/MD661/MD661_prep2_thumbnail_mask/MD662&661-F153-2017.06.08-04.36.42_MD661_2_0458_prep2_thumbnail_mask.png\"\n",
      "convert \"/shared/CSHL_data_processed/MD661/MD661_prep1_thumbnail_mask/MD662&661-F153-2017.06.08-04.36.42_MD661_3_0459_prep1_thumbnail_mask.png\" -crop 777x492+468+129 \"/shared/CSHL_data_processed/MD661/MD661_prep2_thumbnail_mask/MD662&661-F153-2017.06.08-04.36.42_MD661_3_0459_prep2_thumbnail_mask.png\"\n",
      "convert \"/shared/CSHL_data_processed/MD661/MD661_prep1_thumbnail_mask/MD662&661-F154-2017.06.08-04.58.31_MD661_1_0460_prep1_thumbnail_mask.png\" -crop 777x492+468+129 \"/shared/CSHL_data_processed/MD661/MD661_prep2_thumbnail_mask/MD662&661-F154-2017.06.08-04.58.31_MD661_1_0460_prep2_thumbnail_mask.png\"\n",
      "convert \"/shared/CSHL_data_processed/MD661/MD661_prep1_thumbnail_mask/MD662&661-F154-2017.06.08-04.58.31_MD661_2_0461_prep1_thumbnail_mask.png\" -crop 777x492+468+129 \"/shared/CSHL_data_processed/MD661/MD661_prep2_thumbnail_mask/MD662&661-F154-2017.06.08-04.58.31_MD661_2_0461_prep2_thumbnail_mask.png\"\n",
      "convert \"/shared/CSHL_data_processed/MD661/MD661_prep1_thumbnail_mask/MD662&661-F154-2017.06.08-04.58.31_MD661_3_0462_prep1_thumbnail_mask.png\" -crop 777x492+468+129 \"/shared/CSHL_data_processed/MD661/MD661_prep2_thumbnail_mask/MD662&661-F154-2017.06.08-04.58.31_MD661_3_0462_prep2_thumbnail_mask.png\"\n",
      "convert \"/shared/CSHL_data_processed/MD661/MD661_prep1_thumbnail_mask/MD662&661-F155-2017.06.08-05.19.51_MD661_1_0463_prep1_thumbnail_mask.png\" -crop 777x492+468+129 \"/shared/CSHL_data_processed/MD661/MD661_prep2_thumbnail_mask/MD662&661-F155-2017.06.08-05.19.51_MD661_1_0463_prep2_thumbnail_mask.png\"\n",
      "convert \"/shared/CSHL_data_processed/MD661/MD661_prep1_thumbnail_mask/MD662&661-F155-2017.06.08-05.19.51_MD661_2_0464_prep1_thumbnail_mask.png\" -crop 777x492+468+129 \"/shared/CSHL_data_processed/MD661/MD661_prep2_thumbnail_mask/MD662&661-F155-2017.06.08-05.19.51_MD661_2_0464_prep2_thumbnail_mask.png\"\n",
      "convert \"/shared/CSHL_data_processed/MD661/MD661_prep1_thumbnail_mask/MD662&661-F155-2017.06.08-05.19.51_MD661_3_0465_prep1_thumbnail_mask.png\" -crop 777x492+468+129 \"/shared/CSHL_data_processed/MD661/MD661_prep2_thumbnail_mask/MD662&661-F155-2017.06.08-05.19.51_MD661_3_0465_prep2_thumbnail_mask.png\"\n",
      "convert \"/shared/CSHL_data_processed/MD661/MD661_prep1_thumbnail_mask/MD662&661-F156-2017.06.08-05.40.36_MD661_1_0466_prep1_thumbnail_mask.png\" -crop 777x492+468+129 \"/shared/CSHL_data_processed/MD661/MD661_prep2_thumbnail_mask/MD662&661-F156-2017.06.08-05.40.36_MD661_1_0466_prep2_thumbnail_mask.png\"\n",
      "convert \"/shared/CSHL_data_processed/MD661/MD661_prep1_thumbnail_mask/MD662&661-F156-2017.06.08-05.40.36_MD661_2_0467_prep1_thumbnail_mask.png\" -crop 777x492+468+129 \"/shared/CSHL_data_processed/MD661/MD661_prep2_thumbnail_mask/MD662&661-F156-2017.06.08-05.40.36_MD661_2_0467_prep2_thumbnail_mask.png\"\n",
      "convert \"/shared/CSHL_data_processed/MD661/MD661_prep1_thumbnail_mask/MD662&661-F156-2017.06.08-05.40.36_MD661_3_0468_prep1_thumbnail_mask.png\" -crop 777x492+468+129 \"/shared/CSHL_data_processed/MD661/MD661_prep2_thumbnail_mask/MD662&661-F156-2017.06.08-05.40.36_MD661_3_0468_prep2_thumbnail_mask.png\"\n",
      "convert \"/shared/CSHL_data_processed/MD661/MD661_prep1_thumbnail_mask/MD662&661-F157-2017.06.08-06.01.11_MD661_1_0469_prep1_thumbnail_mask.png\" -crop 777x492+468+129 \"/shared/CSHL_data_processed/MD661/MD661_prep2_thumbnail_mask/MD662&661-F157-2017.06.08-06.01.11_MD661_1_0469_prep2_thumbnail_mask.png\"\n",
      "convert \"/shared/CSHL_data_processed/MD661/MD661_prep1_thumbnail_mask/MD662&661-F157-2017.06.08-06.01.11_MD661_2_0470_prep1_thumbnail_mask.png\" -crop 777x492+468+129 \"/shared/CSHL_data_processed/MD661/MD661_prep2_thumbnail_mask/MD662&661-F157-2017.06.08-06.01.11_MD661_2_0470_prep2_thumbnail_mask.png\"\n",
      "convert \"/shared/CSHL_data_processed/MD661/MD661_prep1_thumbnail_mask/MD662&661-F157-2017.06.08-06.01.11_MD661_3_0471_prep1_thumbnail_mask.png\" -crop 777x492+468+129 \"/shared/CSHL_data_processed/MD661/MD661_prep2_thumbnail_mask/MD662&661-F157-2017.06.08-06.01.11_MD661_3_0471_prep2_thumbnail_mask.png\"\n",
      "convert \"/shared/CSHL_data_processed/MD661/MD661_prep1_thumbnail_mask/MD662&661-F158-2017.06.08-10.33.29_MD661_1_0472_prep1_thumbnail_mask.png\" -crop 777x492+468+129 \"/shared/CSHL_data_processed/MD661/MD661_prep2_thumbnail_mask/MD662&661-F158-2017.06.08-10.33.29_MD661_1_0472_prep2_thumbnail_mask.png\"\n",
      "convert \"/shared/CSHL_data_processed/MD661/MD661_prep1_thumbnail_mask/MD662&661-F158-2017.06.08-10.33.29_MD661_2_0473_prep1_thumbnail_mask.png\" -crop 777x492+468+129 \"/shared/CSHL_data_processed/MD661/MD661_prep2_thumbnail_mask/MD662&661-F158-2017.06.08-10.33.29_MD661_2_0473_prep2_thumbnail_mask.png\"\n",
      "convert \"/shared/CSHL_data_processed/MD661/MD661_prep1_thumbnail_mask/MD662&661-F158-2017.06.08-10.33.29_MD661_3_0474_prep1_thumbnail_mask.png\" -crop 777x492+468+129 \"/shared/CSHL_data_processed/MD661/MD661_prep2_thumbnail_mask/MD662&661-F158-2017.06.08-10.33.29_MD661_3_0474_prep2_thumbnail_mask.png\"\n",
      "convert \"/shared/CSHL_data_processed/MD661/MD661_prep1_thumbnail_mask/MD662&661-F159-2017.06.08-10.58.24_MD661_1_0475_prep1_thumbnail_mask.png\" -crop 777x492+468+129 \"/shared/CSHL_data_processed/MD661/MD661_prep2_thumbnail_mask/MD662&661-F159-2017.06.08-10.58.24_MD661_1_0475_prep2_thumbnail_mask.png\"\n",
      "convert \"/shared/CSHL_data_processed/MD661/MD661_prep1_thumbnail_mask/MD662&661-F159-2017.06.08-10.58.24_MD661_2_0476_prep1_thumbnail_mask.png\" -crop 777x492+468+129 \"/shared/CSHL_data_processed/MD661/MD661_prep2_thumbnail_mask/MD662&661-F159-2017.06.08-10.58.24_MD661_2_0476_prep2_thumbnail_mask.png\"\n",
      "convert \"/shared/CSHL_data_processed/MD661/MD661_prep1_thumbnail_mask/MD662&661-F159-2017.06.08-10.58.24_MD661_3_0477_prep1_thumbnail_mask.png\" -crop 777x492+468+129 \"/shared/CSHL_data_processed/MD661/MD661_prep2_thumbnail_mask/MD662&661-F159-2017.06.08-10.58.24_MD661_3_0477_prep2_thumbnail_mask.png\"\n",
      "convert \"/shared/CSHL_data_processed/MD661/MD661_prep1_thumbnail_mask/MD662&661-F160-2017.06.08-06.22.55_MD661_1_0478_prep1_thumbnail_mask.png\" -crop 777x492+468+129 \"/shared/CSHL_data_processed/MD661/MD661_prep2_thumbnail_mask/MD662&661-F160-2017.06.08-06.22.55_MD661_1_0478_prep2_thumbnail_mask.png\"\n",
      "convert \"/shared/CSHL_data_processed/MD661/MD661_prep1_thumbnail_mask/MD662&661-F160-2017.06.08-06.22.55_MD661_2_0479_prep1_thumbnail_mask.png\" -crop 777x492+468+129 \"/shared/CSHL_data_processed/MD661/MD661_prep2_thumbnail_mask/MD662&661-F160-2017.06.08-06.22.55_MD661_2_0479_prep2_thumbnail_mask.png\"\n",
      "convert \"/shared/CSHL_data_processed/MD661/MD661_prep1_thumbnail_mask/MD662&661-F160-2017.06.08-06.22.55_MD661_3_0480_prep1_thumbnail_mask.png\" -crop 777x492+468+129 \"/shared/CSHL_data_processed/MD661/MD661_prep2_thumbnail_mask/MD662&661-F160-2017.06.08-06.22.55_MD661_3_0480_prep2_thumbnail_mask.png\"\n",
      "convert \"/shared/CSHL_data_processed/MD661/MD661_prep1_thumbnail_mask/MD662&661-F161-2017.06.08-11.23.08_MD661_1_0481_prep1_thumbnail_mask.png\" -crop 777x492+468+129 \"/shared/CSHL_data_processed/MD661/MD661_prep2_thumbnail_mask/MD662&661-F161-2017.06.08-11.23.08_MD661_1_0481_prep2_thumbnail_mask.png\"\n",
      "convert \"/shared/CSHL_data_processed/MD661/MD661_prep1_thumbnail_mask/MD662&661-F161-2017.06.08-11.23.08_MD661_2_0482_prep1_thumbnail_mask.png\" -crop 777x492+468+129 \"/shared/CSHL_data_processed/MD661/MD661_prep2_thumbnail_mask/MD662&661-F161-2017.06.08-11.23.08_MD661_2_0482_prep2_thumbnail_mask.png\"\n",
      "convert \"/shared/CSHL_data_processed/MD661/MD661_prep1_thumbnail_mask/MD662&661-F161-2017.06.08-11.23.08_MD661_3_0483_prep1_thumbnail_mask.png\" -crop 777x492+468+129 \"/shared/CSHL_data_processed/MD661/MD661_prep2_thumbnail_mask/MD662&661-F161-2017.06.08-11.23.08_MD661_3_0483_prep2_thumbnail_mask.png\"\n"
     ]
    },
    {
     "name": "stdout",
     "output_type": "stream",
     "text": [
      "convert \"/shared/CSHL_data_processed/MD661/MD661_prep1_thumbnail_mask/MD662&661-F162-2017.06.08-06.40.13_MD661_1_0484_prep1_thumbnail_mask.png\" -crop 777x492+468+129 \"/shared/CSHL_data_processed/MD661/MD661_prep2_thumbnail_mask/MD662&661-F162-2017.06.08-06.40.13_MD661_1_0484_prep2_thumbnail_mask.png\"\n",
      "convert \"/shared/CSHL_data_processed/MD661/MD661_prep1_thumbnail_mask/MD662&661-F162-2017.06.08-06.40.13_MD661_2_0485_prep1_thumbnail_mask.png\" -crop 777x492+468+129 \"/shared/CSHL_data_processed/MD661/MD661_prep2_thumbnail_mask/MD662&661-F162-2017.06.08-06.40.13_MD661_2_0485_prep2_thumbnail_mask.png\"\n",
      "convert \"/shared/CSHL_data_processed/MD661/MD661_prep1_thumbnail_mask/MD662&661-F162-2017.06.08-06.40.13_MD661_3_0486_prep1_thumbnail_mask.png\" -crop 777x492+468+129 \"/shared/CSHL_data_processed/MD661/MD661_prep2_thumbnail_mask/MD662&661-F162-2017.06.08-06.40.13_MD661_3_0486_prep2_thumbnail_mask.png\"\n",
      "convert \"/shared/CSHL_data_processed/MD661/MD661_prep1_thumbnail_mask/MD662&661-F163-2017.06.08-11.45.10_MD661_1_0487_prep1_thumbnail_mask.png\" -crop 777x492+468+129 \"/shared/CSHL_data_processed/MD661/MD661_prep2_thumbnail_mask/MD662&661-F163-2017.06.08-11.45.10_MD661_1_0487_prep2_thumbnail_mask.png\"\n",
      "convert \"/shared/CSHL_data_processed/MD661/MD661_prep1_thumbnail_mask/MD662&661-F163-2017.06.08-11.45.10_MD661_2_0488_prep1_thumbnail_mask.png\" -crop 777x492+468+129 \"/shared/CSHL_data_processed/MD661/MD661_prep2_thumbnail_mask/MD662&661-F163-2017.06.08-11.45.10_MD661_2_0488_prep2_thumbnail_mask.png\"\n",
      "convert \"/shared/CSHL_data_processed/MD661/MD661_prep1_thumbnail_mask/MD662&661-F163-2017.06.08-11.45.10_MD661_3_0489_prep1_thumbnail_mask.png\" -crop 777x492+468+129 \"/shared/CSHL_data_processed/MD661/MD661_prep2_thumbnail_mask/MD662&661-F163-2017.06.08-11.45.10_MD661_3_0489_prep2_thumbnail_mask.png\"\n",
      "convert \"/shared/CSHL_data_processed/MD661/MD661_prep1_thumbnail_mask/MD662&661-F164-2017.06.08-06.56.25_MD661_1_0490_prep1_thumbnail_mask.png\" -crop 777x492+468+129 \"/shared/CSHL_data_processed/MD661/MD661_prep2_thumbnail_mask/MD662&661-F164-2017.06.08-06.56.25_MD661_1_0490_prep2_thumbnail_mask.png\"\n",
      "convert \"/shared/CSHL_data_processed/MD661/MD661_prep1_thumbnail_mask/MD662&661-F164-2017.06.08-06.56.25_MD661_2_0491_prep1_thumbnail_mask.png\" -crop 777x492+468+129 \"/shared/CSHL_data_processed/MD661/MD661_prep2_thumbnail_mask/MD662&661-F164-2017.06.08-06.56.25_MD661_2_0491_prep2_thumbnail_mask.png\"\n",
      "convert \"/shared/CSHL_data_processed/MD661/MD661_prep1_thumbnail_mask/MD662&661-F164-2017.06.08-06.56.25_MD661_3_0492_prep1_thumbnail_mask.png\" -crop 777x492+468+129 \"/shared/CSHL_data_processed/MD661/MD661_prep2_thumbnail_mask/MD662&661-F164-2017.06.08-06.56.25_MD661_3_0492_prep2_thumbnail_mask.png\"\n",
      "convert \"/shared/CSHL_data_processed/MD661/MD661_prep1_thumbnail_mask/MD662&661-F165-2017.06.08-07.11.35_MD661_1_0493_prep1_thumbnail_mask.png\" -crop 777x492+468+129 \"/shared/CSHL_data_processed/MD661/MD661_prep2_thumbnail_mask/MD662&661-F165-2017.06.08-07.11.35_MD661_1_0493_prep2_thumbnail_mask.png\"\n",
      "convert \"/shared/CSHL_data_processed/MD661/MD661_prep1_thumbnail_mask/MD662&661-F165-2017.06.08-07.11.35_MD661_2_0494_prep1_thumbnail_mask.png\" -crop 777x492+468+129 \"/shared/CSHL_data_processed/MD661/MD661_prep2_thumbnail_mask/MD662&661-F165-2017.06.08-07.11.35_MD661_2_0494_prep2_thumbnail_mask.png\"\n",
      "convert \"/shared/CSHL_data_processed/MD661/MD661_prep1_thumbnail_mask/MD662&661-F165-2017.06.08-07.11.35_MD661_3_0495_prep1_thumbnail_mask.png\" -crop 777x492+468+129 \"/shared/CSHL_data_processed/MD661/MD661_prep2_thumbnail_mask/MD662&661-F165-2017.06.08-07.11.35_MD661_3_0495_prep2_thumbnail_mask.png\"\n",
      "convert \"/shared/CSHL_data_processed/MD661/MD661_prep1_thumbnail_mask/MD662&661-F166-2017.06.08-12.07.10_MD661_1_0496_prep1_thumbnail_mask.png\" -crop 777x492+468+129 \"/shared/CSHL_data_processed/MD661/MD661_prep2_thumbnail_mask/MD662&661-F166-2017.06.08-12.07.10_MD661_1_0496_prep2_thumbnail_mask.png\"\n",
      "convert \"/shared/CSHL_data_processed/MD661/MD661_prep1_thumbnail_mask/MD662&661-F166-2017.06.08-12.07.10_MD661_2_0497_prep1_thumbnail_mask.png\" -crop 777x492+468+129 \"/shared/CSHL_data_processed/MD661/MD661_prep2_thumbnail_mask/MD662&661-F166-2017.06.08-12.07.10_MD661_2_0497_prep2_thumbnail_mask.png\"\n",
      "convert \"/shared/CSHL_data_processed/MD661/MD661_prep1_thumbnail_mask/MD662&661-F166-2017.06.08-12.07.10_MD661_3_0498_prep1_thumbnail_mask.png\" -crop 777x492+468+129 \"/shared/CSHL_data_processed/MD661/MD661_prep2_thumbnail_mask/MD662&661-F166-2017.06.08-12.07.10_MD661_3_0498_prep2_thumbnail_mask.png\"\n",
      "convert \"/shared/CSHL_data_processed/MD661/MD661_prep1_thumbnail_mask/MD662&661-F167-2017.06.08-07.26.12_MD661_1_0499_prep1_thumbnail_mask.png\" -crop 777x492+468+129 \"/shared/CSHL_data_processed/MD661/MD661_prep2_thumbnail_mask/MD662&661-F167-2017.06.08-07.26.12_MD661_1_0499_prep2_thumbnail_mask.png\"\n",
      "convert \"/shared/CSHL_data_processed/MD661/MD661_prep1_thumbnail_mask/MD662&661-F167-2017.06.08-07.26.12_MD661_2_0500_prep1_thumbnail_mask.png\" -crop 777x492+468+129 \"/shared/CSHL_data_processed/MD661/MD661_prep2_thumbnail_mask/MD662&661-F167-2017.06.08-07.26.12_MD661_2_0500_prep2_thumbnail_mask.png\"\n",
      "convert \"/shared/CSHL_data_processed/MD661/MD661_prep1_thumbnail_mask/MD662&661-F167-2017.06.08-07.26.12_MD661_3_0501_prep1_thumbnail_mask.png\" -crop 777x492+468+129 \"/shared/CSHL_data_processed/MD661/MD661_prep2_thumbnail_mask/MD662&661-F167-2017.06.08-07.26.12_MD661_3_0501_prep2_thumbnail_mask.png\"\n"
     ]
    },
    {
     "name": "stderr",
     "output_type": "stream",
     "text": [
      "done in 69.757590 seconds\n"
     ]
    }
   ],
   "source": [
    "t = time.time()\n",
    "sys.stderr.write('cropping thumbnail mask...')\n",
    "\n",
    "for fn in valid_filenames:\n",
    "\n",
    "    execute_command('convert \\\"%(input_fp)s\\\" -crop %(w)dx%(h)d+%(x)d+%(y)d \\\"%(output_fp)s\\\"' % \\\n",
    "        {'stack': stack,\n",
    "        'input_fp': DataManager.get_image_filepath_v2(stack=stack, prep_id=1, fn=fn, resol='thumbnail', version='mask', ext='png'),\n",
    "        'output_fp': DataManager.get_image_filepath_v2(stack=stack, prep_id=2, fn=fn, resol='thumbnail', version='mask', ext='png'),\n",
    "        'w':xmax+1-xmin, 'h':ymax+1-ymin, 'x':xmin, 'y':ymin})\n",
    "\n",
    "sys.stderr.write('done in %f seconds\\n' % (time.time() - t)) # 70s (aws)"
   ]
  },
  {
   "cell_type": "code",
   "execution_count": 121,
   "metadata": {
    "collapsed": true
   },
   "outputs": [],
   "source": [
    "# t = time.time()\n",
    "# sys.stderr.write('cropping thumbnail mask...')\n",
    "\n",
    "# execute_command('mogrify -set filename:name %%t -crop %(w)dx%(h)d+%(x)d+%(y)d -write \\\"%(output_dir)s/%%[filename:name]_cropped.png\\\" \\\"%(input_dir)s/*.png\\\"' % \\\n",
    "#     {'stack': stack,\n",
    "#     'input_dir': input_dir,\n",
    "#     'output_dir': output_dir,\n",
    "#     'w':xmax+1-xmin, 'h':ymax+1-ymin, 'x':xmin, 'y':ymin})\n",
    "\n",
    "# sys.stderr.write('done in %f seconds\\n' % (time.time() - t)) # 70s (aws)"
   ]
  },
  {
   "cell_type": "code",
   "execution_count": 40,
   "metadata": {},
   "outputs": [
    {
     "name": "stdout",
     "output_type": "stream",
     "text": [
      "aws s3 cp --recursive \"/shared/CSHL_data_processed/MD661/MD661_prep2_thumbnail_mask\" \"s3://mousebrainatlas-data/CSHL_data_processed/MD661/MD661_prep2_thumbnail_mask\"\n"
     ]
    }
   ],
   "source": [
    "upload_to_s3(output_dir, is_dir=True)"
   ]
  },
  {
   "cell_type": "markdown",
   "metadata": {
    "collapsed": true
   },
   "source": [
    "- Run `extract_test_features_cnn.ipynb` on workstation.\n",
    "- Upload to extracted features to S3.\n",
    "- Continue with `learning/pipeline_aws.ipynb`"
   ]
  }
 ],
 "metadata": {
  "kernelspec": {
   "display_name": "Python 2",
   "language": "python",
   "name": "python2"
  },
  "language_info": {
   "codemirror_mode": {
    "name": "ipython",
    "version": 2
   },
   "file_extension": ".py",
   "mimetype": "text/x-python",
   "name": "python",
   "nbconvert_exporter": "python",
   "pygments_lexer": "ipython2",
   "version": "2.7.12"
  }
 },
 "nbformat": 4,
 "nbformat_minor": 2
}
