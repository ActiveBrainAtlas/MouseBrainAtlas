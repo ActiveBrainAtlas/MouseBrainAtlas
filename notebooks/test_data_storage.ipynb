{
 "metadata": {
  "name": "",
  "signature": "sha256:6b4b9857e7f50601580dcf913ae3c87bd394296bea98099cae5ff25970bfaea8"
 },
 "nbformat": 3,
 "nbformat_minor": 0,
 "worksheets": [
  {
   "cells": [
    {
     "cell_type": "code",
     "collapsed": false,
     "input": [
      "%load_ext autoreload\n",
      "%autoreload 2"
     ],
     "language": "python",
     "metadata": {},
     "outputs": [],
     "prompt_number": 1
    },
    {
     "cell_type": "code",
     "collapsed": false,
     "input": [
      "from utilities import *\n",
      "\n",
      "if 'SSH_CONNECTION' in os.environ:\n",
      "    DATA_DIR = '/home/yuncong/DavidData'\n",
      "    REPO_DIR = '/home/yuncong/Brain'\n",
      "else:\n",
      "    DATA_DIR = '/home/yuncong/BrainLocal/DavidData_v4'\n",
      "    REPO_DIR = '/home/yuncong/Brain'\n",
      "\n",
      "dm = DataManager(DATA_DIR, REPO_DIR)\n",
      "\n",
      "class args:\n",
      "    stack_name = 'RS141'\n",
      "    resolution = 'x5'\n",
      "    slice_ind = 1\n",
      "    gabor_params_id = 'blueNisslWide'\n",
      "    segm_params_id = 'blueNissl'\n",
      "    vq_params_id = 'blueNissl'"
     ],
     "language": "python",
     "metadata": {},
     "outputs": [],
     "prompt_number": 2
    },
    {
     "cell_type": "code",
     "collapsed": false,
     "input": [
      "dm.set_image(args.stack_name, args.resolution, args.slice_ind)\n",
      "dm.set_gabor_params(gabor_params_id=args.gabor_params_id)\n",
      "dm.set_segmentation_params(segm_params_id=args.segm_params_id)\n",
      "dm.set_vq_params(vq_params_id=args.vq_params_id)"
     ],
     "language": "python",
     "metadata": {},
     "outputs": [],
     "prompt_number": 3
    },
    {
     "cell_type": "code",
     "collapsed": false,
     "input": [
      "cropped_features = dm.load_pipeline_result('cropFeatures', 'npy')"
     ],
     "language": "python",
     "metadata": {},
     "outputs": [
      {
       "output_type": "stream",
       "stream": "stdout",
       "text": [
        "loaded /home/yuncong/BrainLocal/DavidData_v4/RS141/x5/0001/filterResults/RS141_x5_0001_gabor-blueNisslWide_cropFeatures.npy\n"
       ]
      }
     ],
     "prompt_number": 4
    },
    {
     "cell_type": "code",
     "collapsed": false,
     "input": [
      "@timeit \n",
      "def save_numpy_compressed():\n",
      "    np.savez_compressed('/tmp/test.npz', cropped_features)\n",
      "    print os.path.getsize('/tmp/test.npz'), 'bytes'\n",
      "#     os.remove('/tmp/test.npz')\n",
      "\n",
      "save_numpy_compressed()"
     ],
     "language": "python",
     "metadata": {},
     "outputs": [],
     "prompt_number": 5
    },
    {
     "cell_type": "code",
     "collapsed": false,
     "input": [
      "import tables\n",
      "\n",
      "@timeit\n",
      "def save_pytables(complevel):\n",
      "    filters = tables.Filters(complevel=complevel, complib='blosc')\n",
      "    f = tables.open_file('/tmp/test', 'w')\n",
      "    f.create_carray(f.root, 'features', obj=cropped_features, filters=filters)\n",
      "    print os.path.getsize('/tmp/test'), 'bytes'\n",
      "#     os.remove('/tmp/test')\n",
      "    f.close()\n",
      "    \n",
      "    \n",
      "save_pytables(1)"
     ],
     "language": "python",
     "metadata": {},
     "outputs": [
      {
       "output_type": "stream",
       "stream": "stdout",
       "text": [
        "==== save_pytables ====\n",
        "2501905739"
       ]
      },
      {
       "output_type": "stream",
       "stream": "stdout",
       "text": [
        " bytes\n",
        "'save_pytables' run time was 7.947200060 sec"
       ]
      },
      {
       "output_type": "stream",
       "stream": "stdout",
       "text": [
        "\n"
       ]
      }
     ],
     "prompt_number": 7
    },
    {
     "cell_type": "code",
     "collapsed": false,
     "input": [
      "save_pytables(9)"
     ],
     "language": "python",
     "metadata": {},
     "outputs": [
      {
       "output_type": "stream",
       "stream": "stdout",
       "text": [
        "==== save_pytables ====\n",
        "1815620030"
       ]
      },
      {
       "output_type": "stream",
       "stream": "stdout",
       "text": [
        " bytes\n",
        "'save_pytables' run time was 8.834963083 sec\n"
       ]
      }
     ],
     "prompt_number": 8
    },
    {
     "cell_type": "code",
     "collapsed": false,
     "input": [
      "del cropped_features"
     ],
     "language": "python",
     "metadata": {},
     "outputs": [],
     "prompt_number": 7
    },
    {
     "cell_type": "code",
     "collapsed": false,
     "input": [
      "f = tables.open_file('/tmp/test', 'r')\n",
      "features = f.root.features\n",
      "a = features[:]\n",
      "print a.shape\n",
      "f.close()"
     ],
     "language": "python",
     "metadata": {},
     "outputs": [
      {
       "output_type": "stream",
       "stream": "stdout",
       "text": [
        "(2493, 5597, 99)\n"
       ]
      }
     ],
     "prompt_number": 8
    }
   ],
   "metadata": {}
  }
 ]
}