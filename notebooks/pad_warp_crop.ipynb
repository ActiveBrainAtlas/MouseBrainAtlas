{
 "cells": [
  {
   "cell_type": "code",
   "execution_count": 1,
   "metadata": {
    "collapsed": true
   },
   "outputs": [],
   "source": [
    "import sys\n",
    "import os\n",
    "from subprocess import check_output\n",
    "from skimage.util import pad\n",
    "from skimage.io import imread, imsave\n",
    "import numpy as np\n",
    "import cPickle as pickle\n",
    "import cv2\n",
    "import time\n",
    "\n",
    "from joblib import Parallel, delayed"
   ]
  },
  {
   "cell_type": "code",
   "execution_count": 2,
   "metadata": {
    "collapsed": false
   },
   "outputs": [],
   "source": [
    "input_dir = '/home/yuncong/csd395/CSHL_data/MD579_renamed'\n",
    "filenames = os.listdir(input_dir)\n",
    "suffix = '_lossless.tif'\n",
    "# suffix = '_thumbnail.tif'\n",
    "all_files = dict(sorted([(int(img_fn[:-4].split('_')[1]), img_fn) \n",
    "                         for img_fn in filenames if img_fn.endswith(suffix)]))"
   ]
  },
  {
   "cell_type": "code",
   "execution_count": 3,
   "metadata": {
    "collapsed": false
   },
   "outputs": [],
   "source": [
    "# img_shapes = {}\n",
    "# for i, img_fn in all_files.iteritems():\n",
    "#     img_shapes[i] = np.array(check_output(\"identify %s\" % os.path.join(input_dir, img_fn), shell=True).split()[2].split('x'),\n",
    "#                      np.int)\n",
    "    \n",
    "def identify_shape(img_fn):\n",
    "    return map(int, check_output(\"identify -format %%Wx%%H %s\" % os.path.join(input_dir, img_fn), \n",
    "                                 shell=True).split('x'))\n",
    "\n",
    "img_shapes_arr = np.array(Parallel(n_jobs=16)(delayed(identify_shape)(img_fn) for img_fn in all_files.itervalues()))\n",
    "max_width = img_shapes_arr[:,0].max()\n",
    "max_height = img_shapes_arr[:,1].max()\n",
    "\n",
    "margin = 0\n",
    "\n",
    "canvas_width = max_width + 2 * margin\n",
    "canvas_height = max_height + 2 * margin"
   ]
  },
  {
   "cell_type": "code",
   "execution_count": 4,
   "metadata": {
    "collapsed": true
   },
   "outputs": [],
   "source": [
    "padded_dir = '/home/yuncong/csd395/CSHL_data/MD579_padded'\n",
    "if not os.path.exists(padded_dir):\n",
    "    os.makedirs(padded_dir)\n",
    "\n",
    "warped_dir = '/home/yuncong/csd395/CSHL_data/MD579_warped'\n",
    "if not os.path.exists(warped_dir):\n",
    "    os.makedirs(warped_dir)\n",
    "    \n",
    "cropped_dir = '/home/yuncong/csd395/CSHL_data/MD579_cropped'\n",
    "if not os.path.exists(cropped_dir):\n",
    "    os.makedirs(cropped_dir)\n",
    "    \n",
    "shrinked_dir = '/home/yuncong/csd395/CSHL_data/MD579_shrinked'\n",
    "if not os.path.exists(shrinked_dir):\n",
    "    os.makedirs(shrinked_dir)"
   ]
  },
  {
   "cell_type": "code",
   "execution_count": 5,
   "metadata": {
    "collapsed": true
   },
   "outputs": [],
   "source": [
    "with open('/home/yuncong/csd395/MD579_finalTransfParams.pkl', 'r') as f:\n",
    "    Ts = pickle.load(f)\n",
    "    \n",
    "# the section that correponds to Ts[0]\n",
    "init_sec = 59\n",
    "\n",
    "# the resolution of lossless is \"scale factor\" times the resolution on which transform parameters are obtained\n",
    "scale_factor = 32\n",
    "    \n",
    "Ts_lossless = {}\n",
    "for sec, T in Ts.iteritems():\n",
    "    T_lossless = T.copy()\n",
    "    T_lossless[:2, 2] = T[:2, 2] * scale_factor\n",
    "    Ts_lossless[sec + init_sec] = T_lossless\n",
    "    \n",
    "bg_color = (230,232,235)"
   ]
  },
  {
   "cell_type": "code",
   "execution_count": 6,
   "metadata": {
    "collapsed": true
   },
   "outputs": [],
   "source": [
    "from subprocess import check_output, call\n",
    "\n",
    "def execute_command(cmd):\n",
    "    print cmd\n",
    "\n",
    "    try:\n",
    "        retcode = call(cmd, shell=True)\n",
    "        if retcode < 0:\n",
    "            print >>sys.stderr, \"Child was terminated by signal\", -retcode\n",
    "        else:\n",
    "            print >>sys.stderr, \"Child returned\", retcode\n",
    "    except OSError as e:\n",
    "        print >>sys.stderr, \"Execution failed:\", e\n",
    "        raise e"
   ]
  },
  {
   "cell_type": "code",
   "execution_count": 18,
   "metadata": {
    "collapsed": false
   },
   "outputs": [],
   "source": [
    "def pad_and_warp_and_crop(img_fn, T, input_dir=input_dir, padded_dir=padded_dir, \n",
    "                                      warped_dir=warped_dir, cropped_dir=cropped_dir,\n",
    "                          ext='tif'):\n",
    "    \n",
    "    img_fn = os.path.basename(img_fn)\n",
    "    \n",
    "    secind = int(img_fn[:-4].split('_')[1])\n",
    "    \n",
    "    warped_fn = img_fn[:-4] + '_padded_warped.' + ext\n",
    "    padded_fn = img_fn[:-4] + '_padded.' + ext\n",
    "    \n",
    "    d = {'input_fn': os.path.join(input_dir, img_fn),\n",
    "        'output_fn': os.path.join(padded_dir, padded_fn),\n",
    "         'bg_r': bg_color[0],\n",
    "         'bg_g': bg_color[1],\n",
    "         'bg_b': bg_color[2],\n",
    "         'width': canvas_width,\n",
    "         'height': canvas_height,\n",
    "         'offset_x': '+0',\n",
    "         'offset_y': '+0'\n",
    "         }\n",
    "        \n",
    "    convert_cmd = 'convert %(input_fn)s -background \"rgb(%(bg_r)d,%(bg_g)d,%(bg_b)d)\" -gravity center -geometry %(offset_x)s%(offset_y)s -extent %(width)dx%(height)d -compress lzw %(output_fn)s'%d\n",
    "    execute_command(convert_cmd)\n",
    "    \n",
    "    # special treatment for MD579\n",
    "    if secind in range(59, 67):\n",
    "        d = {\n",
    "            'input_fn': os.path.join(padded_dir, padded_fn),\n",
    "            'output_fn': os.path.join(padded_dir, padded_fn),\n",
    "            'bg_r': bg_color[0],\n",
    "            'bg_g': bg_color[1],\n",
    "            'bg_b': bg_color[2],\n",
    "            'offset_y': '-' + str(300*scale_factor)    \n",
    "        }\n",
    "        execute_command('convert -page +0%(offset_y)s %(input_fn)s -background \"rgb(%(bg_r)d,%(bg_g)d,%(bg_b)d)\" -flatten %(output_fn)s'%d)\n",
    "\n",
    "    d = {'sx':T[0,0],\n",
    "         'sy':T[1,1],\n",
    "         'rx':T[1,0],\n",
    "         'ry':T[0,1],\n",
    "         'tx':T[0,2],\n",
    "         'ty':T[1,2],\n",
    "         'input_fn': os.path.join(padded_dir, padded_fn),\n",
    "         'output_fn': os.path.join(warped_dir, warped_fn)\n",
    "        }\n",
    "\n",
    "    affine_cmd = \"convert %(input_fn)s -distort AffineProjection '%(sx)f,%(rx)f,%(ry)f,%(sy)f,%(tx)f,%(ty)f' %(output_fn)s\"%d\n",
    "    execute_command(affine_cmd)\n",
    "    \n",
    "    cropped_fn = img_fn[:-4] + '_padded_warped_cropped.' + ext\n",
    "\n",
    "    d = {\n",
    "    'x': 576 * scale_factor,\n",
    "    'y': 413 * scale_factor,\n",
    "    'w': 403 * scale_factor,\n",
    "    'h': 280 * scale_factor,\n",
    "    'input_fn': os.path.join(warped_dir, warped_fn),\n",
    "    'output_fn': os.path.join(cropped_dir, cropped_fn)\n",
    "    }\n",
    "\n",
    "    crop_cmd = 'convert %(input_fn)s -crop %(w)dx%(h)d+%(x)d+%(y)d %(output_fn)s'%d\n",
    "    execute_command(crop_cmd)\n",
    "    \n",
    "    d = {\n",
    "        'input_fn': os.path.join(warped_dir, warped_fn),\n",
    "        'shrinked_fn': os.path.join(shrinked_dir, img_fn[:-4] + '_padded_warped_shrinked.' + ext)\n",
    "    }\n",
    "        \n",
    "    shrink_cmd = 'convert %(input_fn)s -scale 12.5%% %(shrinked_fn)s'%d\n",
    "    execute_command(shrink_cmd)"
   ]
  },
  {
   "cell_type": "code",
   "execution_count": 20,
   "metadata": {
    "collapsed": false
   },
   "outputs": [
    {
     "name": "stdout",
     "output_type": "stream",
     "text": [
      "convert /home/yuncong/csd395/CSHL_data/MD579_renamed/MD579_0063_lossless.tif -background \"rgb(230,232,235)\" -gravity center -geometry +0+0 -extent 36508x43384 -compress lzw /home/yuncong/csd395/CSHL_data/MD579_padded/MD579_0063_lossless_padded.tif\n",
      "convert -page +0-9600 /home/yuncong/csd395/CSHL_data/MD579_padded/MD579_0063_lossless_padded.tif -background \"rgb(230,232,235)\" -flatten /home/yuncong/csd395/CSHL_data/MD579_padded/MD579_0063_lossless_padded.tif"
     ]
    },
    {
     "name": "stderr",
     "output_type": "stream",
     "text": [
      "Child returned 0\n",
      "Child returned"
     ]
    },
    {
     "name": "stdout",
     "output_type": "stream",
     "text": [
      "\n",
      "convert /home/yuncong/csd395/CSHL_data/MD579_padded/MD579_0063_lossless_padded.tif -distort AffineProjection '0.999569,0.029345,-0.029345,0.999569,-2012.807015,-627.073523' /home/yuncong/csd395/CSHL_data/MD579_warped/MD579_0063_lossless_padded_warped.tif"
     ]
    },
    {
     "name": "stderr",
     "output_type": "stream",
     "text": [
      " 1\n",
      "Child returned"
     ]
    },
    {
     "name": "stdout",
     "output_type": "stream",
     "text": [
      "\n",
      "convert /home/yuncong/csd395/CSHL_data/MD579_warped/MD579_0063_lossless_padded_warped.tif -crop 7904x3648+20064+24352 /home/yuncong/csd395/CSHL_data/MD579_cropped/MD579_0063_lossless_padded_warped_cropped.tif"
     ]
    },
    {
     "name": "stderr",
     "output_type": "stream",
     "text": [
      " 0\n",
      "Child returned"
     ]
    },
    {
     "name": "stdout",
     "output_type": "stream",
     "text": [
      "\n",
      "438.022116184"
     ]
    },
    {
     "name": "stderr",
     "output_type": "stream",
     "text": [
      " 0\n",
      "Child returned"
     ]
    },
    {
     "name": "stdout",
     "output_type": "stream",
     "text": [
      "\n",
      "convert /home/yuncong/csd395/CSHL_data/MD579_renamed/MD579_0064_lossless.tif -background \"rgb(230,232,235)\" -gravity center -geometry +0+0 -extent 36508x43384 -compress lzw /home/yuncong/csd395/CSHL_data/MD579_padded/MD579_0064_lossless_padded.tif\n",
      "convert -page +0-9600 /home/yuncong/csd395/CSHL_data/MD579_padded/MD579_0064_lossless_padded.tif -background \"rgb(230,232,235)\" -flatten /home/yuncong/csd395/CSHL_data/MD579_padded/MD579_0064_lossless_padded.tif"
     ]
    },
    {
     "name": "stderr",
     "output_type": "stream",
     "text": [
      " 0\n",
      "Child returned"
     ]
    },
    {
     "name": "stdout",
     "output_type": "stream",
     "text": [
      "\n",
      "convert /home/yuncong/csd395/CSHL_data/MD579_padded/MD579_0064_lossless_padded.tif -distort AffineProjection '0.999588,0.028688,-0.028688,0.999588,-1094.042416,-280.873666' /home/yuncong/csd395/CSHL_data/MD579_warped/MD579_0064_lossless_padded_warped.tif"
     ]
    },
    {
     "name": "stderr",
     "output_type": "stream",
     "text": [
      " 1\n",
      "Child returned"
     ]
    },
    {
     "name": "stdout",
     "output_type": "stream",
     "text": [
      "\n",
      "convert /home/yuncong/csd395/CSHL_data/MD579_warped/MD579_0064_lossless_padded_warped.tif -crop 7904x3648+20064+24352 /home/yuncong/csd395/CSHL_data/MD579_cropped/MD579_0064_lossless_padded_warped_cropped.tif"
     ]
    },
    {
     "name": "stderr",
     "output_type": "stream",
     "text": [
      " 0\n",
      "Child returned"
     ]
    },
    {
     "name": "stdout",
     "output_type": "stream",
     "text": [
      "\n",
      "449.341854095"
     ]
    },
    {
     "name": "stderr",
     "output_type": "stream",
     "text": [
      " 0\n",
      "Child returned"
     ]
    },
    {
     "name": "stdout",
     "output_type": "stream",
     "text": [
      "\n",
      "convert /home/yuncong/csd395/CSHL_data/MD579_renamed/MD579_0065_lossless.tif -background \"rgb(230,232,235)\" -gravity center -geometry +0+0 -extent 36508x43384 -compress lzw /home/yuncong/csd395/CSHL_data/MD579_padded/MD579_0065_lossless_padded.tif\n",
      "convert -page +0-9600 /home/yuncong/csd395/CSHL_data/MD579_padded/MD579_0065_lossless_padded.tif -background \"rgb(230,232,235)\" -flatten /home/yuncong/csd395/CSHL_data/MD579_padded/MD579_0065_lossless_padded.tif"
     ]
    },
    {
     "name": "stderr",
     "output_type": "stream",
     "text": [
      " 0\n",
      "Child returned"
     ]
    },
    {
     "name": "stdout",
     "output_type": "stream",
     "text": [
      "\n",
      "convert /home/yuncong/csd395/CSHL_data/MD579_padded/MD579_0065_lossless_padded.tif -distort AffineProjection '0.999985,-0.005520,0.005520,0.999985,-1739.263485,136.114121' /home/yuncong/csd395/CSHL_data/MD579_warped/MD579_0065_lossless_padded_warped.tif"
     ]
    },
    {
     "name": "stderr",
     "output_type": "stream",
     "text": [
      " 1\n",
      "Child returned"
     ]
    },
    {
     "name": "stdout",
     "output_type": "stream",
     "text": [
      "\n",
      "convert /home/yuncong/csd395/CSHL_data/MD579_warped/MD579_0065_lossless_padded_warped.tif -crop 7904x3648+20064+24352 /home/yuncong/csd395/CSHL_data/MD579_cropped/MD579_0065_lossless_padded_warped_cropped.tif"
     ]
    },
    {
     "name": "stderr",
     "output_type": "stream",
     "text": [
      " 0\n",
      "Child returned"
     ]
    },
    {
     "name": "stdout",
     "output_type": "stream",
     "text": [
      "\n",
      "470.160746813\n"
     ]
    },
    {
     "name": "stderr",
     "output_type": "stream",
     "text": [
      " 0\n"
     ]
    }
   ],
   "source": [
    "for secind in Ts_lossless.keys()[4:7]:\n",
    "    t = time.time()\n",
    "    pad_and_warp_and_crop(all_files[secind], np.linalg.inv(Ts_lossless[secind]))\n",
    "    print time.time()-t"
   ]
  },
  {
   "cell_type": "code",
   "execution_count": 9,
   "metadata": {
    "collapsed": false,
    "scrolled": true
   },
   "outputs": [],
   "source": [
    "# t = time.time()\n",
    "# #does not save much time\n",
    "# Parallel(n_jobs=3)(delayed(pad_and_warp_and_crop)(all_files[secind], np.linalg.inv(Ts_lossless[secind])) \n",
    "#                                           for secind in Ts_lossless.keys()[4:7])\n",
    "# print time.time() - t"
   ]
  }
 ],
 "metadata": {
  "kernelspec": {
   "display_name": "Python 2",
   "language": "python",
   "name": "python2"
  },
  "language_info": {
   "codemirror_mode": {
    "name": "ipython",
    "version": 2
   },
   "file_extension": ".py",
   "mimetype": "text/x-python",
   "name": "python",
   "nbconvert_exporter": "python",
   "pygments_lexer": "ipython2",
   "version": "2.7.3"
  }
 },
 "nbformat": 4,
 "nbformat_minor": 0
}
