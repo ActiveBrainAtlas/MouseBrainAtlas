{
 "cells": [
  {
   "cell_type": "code",
   "execution_count": 19,
   "metadata": {
    "collapsed": false,
    "scrolled": true
   },
   "outputs": [],
   "source": [
    "%reload_ext autoreload\n",
    "%autoreload 2\n",
    "\n",
    "import os\n",
    "\n",
    "import sys\n",
    "sys.path.append(os.environ['GORDON_REPO_DIR'] + '/pipeline_scripts')\n",
    "\n",
    "from utilities2014 import *\n",
    "\n",
    "sys.path.append('/home/yuncong/project/opencv-2.4.9/release/lib/python2.7/site-packages')\n",
    "import cv2\n",
    "\n",
    "dm = DataManager(generate_hierarchy=False, stack='RS141', resol='x5', section=1)\n",
    "dm._load_image()\n",
    "\n",
    "# Over-segment the image into superpixels using SLIC (http://ivrg.epfl.ch/research/superpixels)\n",
    "\n",
    "from skimage.segmentation import slic, mark_boundaries\n",
    "from skimage.util import img_as_ubyte, pad\n",
    "from joblib import Parallel, delayed\n",
    "\n",
    "masked_image = dm.image.copy()\n",
    "masked_image[~dm.mask] = 0\n",
    "\n",
    "textonmap2 = dm.load_pipeline_result('texMap', 'npy')\n",
    "textonmap_viz = dm.load_pipeline_result('texMap', 'png')\n",
    "n_texton = len(np.unique(textonmap2)) - 1\n",
    "\n",
    "\n",
    "import collections\n",
    "from skimage.filters import gaussian_filter\n",
    "from _regular_grid import regular_grid\n",
    "\n",
    "import _slic_texture\n"
   ]
  },
  {
   "cell_type": "code",
   "execution_count": 98,
   "metadata": {
    "collapsed": false
   },
   "outputs": [],
   "source": [
    "# ymin, ymax, xmin, xmax = (2140, 2511, 900, 1322)\n",
    "# ymin, ymax, xmin, xmax = (1064, 1700, 4805, 5300)\n",
    "ymin, ymax, xmin, xmax = (1340, 1800, 2640, 3080)\n",
    "grids = (slice(ymin, ymax, 1), slice(xmin, xmax, 1))\n",
    "\n",
    "image = img_as_float(masked_image[grids]).copy()\n",
    "textonmap = textonmap2[grids].copy()"
   ]
  },
  {
   "cell_type": "code",
   "execution_count": 99,
   "metadata": {
    "collapsed": false
   },
   "outputs": [],
   "source": [
    "spacing = None\n",
    "# sigma = 1.\n",
    "n_segments = 100\n",
    "# compactness = 1.\n",
    "max_iter = 10\n",
    "\n",
    "if spacing is None:\n",
    "    spacing = np.ones(3)\n",
    "elif isinstance(spacing, (list, tuple)):\n",
    "    spacing = np.array(spacing, dtype=np.double)\n",
    "\n",
    "# image = gaussian_filter(image, sigma)\n",
    "\n",
    "height, width = image.shape[:2]\n",
    "\n",
    "# initialize cluster centroids for desired number of segments\n",
    "grid_y, grid_x = np.mgrid[:height, :width]\n",
    "slices = regular_grid(image.shape[:2], n_segments)\n",
    "step_y, step_x = [int(s.step) for s in slices]\n",
    "segments_y = grid_y[slices]\n",
    "segments_x = grid_x[slices]\n",
    "\n",
    "image_texture = np.zeros((image.shape + (n_texton,)))\n",
    "for y in range(image.shape[0]):\n",
    "    for x in range(image.shape[1]):\n",
    "        if textonmap[y,x] != -1:\n",
    "            image_texture[y, x, textonmap[y,x]] = 1\n",
    "\n",
    "segments_texture = image_texture[slices]\n",
    "            \n",
    "segments = np.concatenate([segments_y[..., np.newaxis],\n",
    "                           segments_x[..., np.newaxis],\n",
    "                           segments_texture],\n",
    "                          axis=-1).reshape(-1, 2+n_texton)\n",
    "segments = np.ascontiguousarray(segments)\n",
    "    \n",
    "# we do the scaling of ratio in the same way as in the SLIC paper\n",
    "# so the values have the same meaning\n",
    "step = float(max((step_y, step_x)))\n",
    "# ratio = 1.0 / compactness\n",
    "\n",
    "# image = np.ascontiguousarray(image * ratio)\n",
    "# if enforce_connectivity:\n",
    "#     segment_size = depth * height * width / n_segments\n",
    "#     min_size = int(min_size_factor * segment_size)\n",
    "#     max_size = int(max_size_factor * segment_size)\n",
    "#     labels = _enforce_label_connectivity_cython(labels,\n",
    "#                                                 n_segments,\n",
    "#                                                 min_size,\n",
    "#                                                 max_size)"
   ]
  },
  {
   "cell_type": "code",
   "execution_count": 100,
   "metadata": {
    "collapsed": false
   },
   "outputs": [
    {
     "data": {
      "text/html": [
       "<a href='tmp.jpg' target='_blank'>tmp.jpg</a><br>"
      ],
      "text/plain": [
       "/oasis/projects/nsf/csd395/yuncong/Brain/notebooks/tmp.jpg"
      ]
     },
     "execution_count": 100,
     "metadata": {},
     "output_type": "execute_result"
    }
   ],
   "source": [
    "labels = _slic_texture._slic_cython(image_texture, segments, step, max_iter, spacing, False)\n",
    "\n",
    "min_size_factor=0.5\n",
    "max_size_factor=3\n",
    "\n",
    "segment_size = height * width / n_segments\n",
    "min_size = int(min_size_factor * segment_size)\n",
    "max_size = int(max_size_factor * segment_size)\n",
    "labels = _slic_texture._enforce_label_connectivity_cython(labels,\n",
    "                                            n_segments,\n",
    "                                            min_size,\n",
    "                                            max_size)\n",
    "\n",
    "labels2 = slic(gray2rgb(img_as_float(masked_image[grids])), \n",
    "                n_segments=n_segments, \n",
    "                max_iter=10, \n",
    "#                     compactness=float(dm.segm_params['slic_compactness']), \n",
    "                compactness=10., \n",
    "                sigma=float(dm.segm_params['slic_sigma']), \n",
    "                enforce_connectivity=True)\n",
    "\n",
    "\n",
    "\n",
    "labels3 = slic(gray2rgb(img_as_float(masked_image[grids])), \n",
    "                n_segments=n_segments, \n",
    "                max_iter=10, \n",
    "#                     compactness=float(dm.segm_params['slic_compactness']), \n",
    "                compactness=30., \n",
    "                sigma=float(dm.segm_params['slic_sigma']), \n",
    "                enforce_connectivity=True)\n",
    "\n",
    "labels4 = slic(gray2rgb(img_as_float(masked_image[grids])), \n",
    "                n_segments=n_segments, \n",
    "                max_iter=10, \n",
    "                compactness=float(dm.segm_params['slic_compactness']), \n",
    "                sigma=float(dm.segm_params['slic_sigma']), \n",
    "                enforce_connectivity=True)\n",
    "\n",
    "\n",
    "a = gray2rgb(img_as_float(masked_image[grids]))\n",
    "\n",
    "b = mark_boundaries(a, labels)\n",
    "\n",
    "bb = mark_boundaries(img_as_float(textonmap_viz[grids]), labels)\n",
    "\n",
    "c = mark_boundaries(a, labels2)\n",
    "d = mark_boundaries(a, labels3)\n",
    "e = mark_boundaries(a, labels4)\n",
    "\n",
    "G_nonmaxsup = dm.load_pipeline_result('Gnonmaxsup', 'npy')[grids]\n",
    "Gmax = dm.load_pipeline_result('Gmax', 'npy')[grids]\n",
    "alpha = 1.5\n",
    "Gmax = 1 - 1/(1+alpha*Gmax)\n",
    "\n",
    "G_nonmaxsup_thresh_viz = b.copy()\n",
    "for y,x in zip(*np.where(G_nonmaxsup)):\n",
    "    if Gmax[y,x] > .6:\n",
    "        r = int(Gmax[y,x]*5)\n",
    "        G_nonmaxsup_thresh_viz[y-r:y+r, x-r:x+r] = [Gmax[y,x], 0, 0]\n",
    "        \n",
    "f = G_nonmaxsup_thresh_viz\n",
    "\n",
    "# b = colors[labels]\n",
    "display(np.concatenate([a, bb, b, f, c, d, e], axis=1))"
   ]
  },
  {
   "cell_type": "code",
   "execution_count": 31,
   "metadata": {
    "collapsed": true
   },
   "outputs": [],
   "source": [
    "import matplotlib.pyplot as plt"
   ]
  },
  {
   "cell_type": "code",
   "execution_count": 10,
   "metadata": {
    "collapsed": false
   },
   "outputs": [],
   "source": [
    "# colors = np.loadtxt('../visualization/100colors.txt')"
   ]
  }
 ],
 "metadata": {
  "kernelspec": {
   "display_name": "Python 2",
   "language": "python",
   "name": "python2"
  },
  "language_info": {
   "codemirror_mode": {
    "name": "ipython",
    "version": 2
   },
   "file_extension": ".py",
   "mimetype": "text/x-python",
   "name": "python",
   "nbconvert_exporter": "python",
   "pygments_lexer": "ipython2",
   "version": "2.7.3"
  }
 },
 "nbformat": 4,
 "nbformat_minor": 0
}
