{
 "cells": [
  {
   "cell_type": "code",
   "execution_count": 3,
   "metadata": {
    "collapsed": false,
    "scrolled": true
   },
   "outputs": [],
   "source": [
    "%reload_ext autoreload\n",
    "%autoreload 2\n",
    "\n",
    "import numpy as np\n",
    "\n",
    "from joblib import Parallel, delayed\n",
    "\n",
    "import matplotlib.pyplot as plt\n",
    "%matplotlib inline\n",
    "\n",
    "import os, sys\n",
    "import time\n",
    "\n",
    "sys.path.append(os.path.join(os.environ['GORDON_REPO_DIR'], 'utilities'))\n",
    "from utilities2015 import *"
   ]
  },
  {
   "cell_type": "code",
   "execution_count": 4,
   "metadata": {
    "collapsed": false
   },
   "outputs": [],
   "source": [
    "dm = DataManager(stack='MD594', section=139, segm_params_id='tSLIC200')\n",
    "\n",
    "textonmap = dm.load_pipeline_result('texMap')\n",
    "n_texton = textonmap.max() + 1"
   ]
  },
  {
   "cell_type": "code",
   "execution_count": 5,
   "metadata": {
    "collapsed": true
   },
   "outputs": [],
   "source": [
    "histograms_normalized = dm.load_pipeline_result('histogramsPixelNormalized')"
   ]
  },
  {
   "cell_type": "code",
   "execution_count": null,
   "metadata": {
    "collapsed": true
   },
   "outputs": [],
   "source": []
  },
  {
   "cell_type": "code",
   "execution_count": null,
   "metadata": {
    "collapsed": true
   },
   "outputs": [],
   "source": [
    "window_size = 201\n",
    "window_halfsize = (window_size-1)/2\n",
    "\n",
    "single_channel_maps = [textonmap[dm.ymin-window_halfsize : dm.ymax+1+window_halfsize, \n",
    "                                 dm.xmin-window_halfsize : dm.xmax+1+window_halfsize] == c\n",
    "                       for c in range(n_texton)]"
   ]
  },
  {
   "cell_type": "code",
   "execution_count": null,
   "metadata": {
    "collapsed": false
   },
   "outputs": [],
   "source": [
    "sys.stderr.write('computing histogram for each pixel\\n')\n",
    "t = time.time()\n",
    "\n",
    "from skimage.transform import integral_image\n",
    "\n",
    "# it is important to pad the integral image with zeros before first row and first column\n",
    "def compute_integral_image(m):\n",
    "    return np.pad(integral_image(m), ((1,0),(1,0)), mode='constant', constant_values=0)\n",
    "\n",
    "int_imgs = np.dstack(Parallel(n_jobs=4)(delayed(compute_integral_image)(m) for m in single_channel_maps))\n",
    "\n",
    "sys.stderr.write('done in %.2f seconds\\n' % (time.time() - t))"
   ]
  },
  {
   "cell_type": "code",
   "execution_count": null,
   "metadata": {
    "collapsed": false
   },
   "outputs": [],
   "source": [
    "histograms = int_imgs[window_size:, window_size:] + \\\n",
    "            int_imgs[:-window_size, :-window_size] - \\\n",
    "            int_imgs[window_size:, :-window_size] - \\\n",
    "            int_imgs[:-window_size, window_size:]\n",
    "        \n",
    "histograms_normalized = histograms/histograms.sum(axis=-1)[...,None].astype(np.float)"
   ]
  },
  {
   "cell_type": "code",
   "execution_count": null,
   "metadata": {
    "collapsed": false
   },
   "outputs": [],
   "source": [
    "dm.save_pipeline_result(histograms_normalized, 'histogramsPixelNormalized')"
   ]
  },
  {
   "cell_type": "code",
   "execution_count": null,
   "metadata": {
    "collapsed": false,
    "scrolled": true
   },
   "outputs": [],
   "source": [
    "del single_channel_maps, histograms, int_imgs"
   ]
  },
  {
   "cell_type": "code",
   "execution_count": null,
   "metadata": {
    "collapsed": true
   },
   "outputs": [],
   "source": []
  },
  {
   "cell_type": "code",
   "execution_count": null,
   "metadata": {
    "collapsed": false,
    "scrolled": false
   },
   "outputs": [],
   "source": [
    "fig, axes = plt.subplots(3,7,figsize=(20,10));\n",
    "for ax in axes.flat:\n",
    "    ax.axis('off');\n",
    "    \n",
    "axes[0,0].imshow(dm.image_rgb_jpg[dm.ymin:dm.ymin+1000, dm.xmin:dm.xmin+1000]);\n",
    "axes[0,1].imshow(textonmap[dm.ymin:dm.ymin+1000, dm.xmin:dm.xmin+1000]);\n",
    "for i in range(n_texton):\n",
    "    axes[1+i/7, i%7].matshow(histograms_normalized[:1000, :1000, i]);\n",
    "    axes[1+i/7, i%7].set_title('histogram channel %d' % i);"
   ]
  },
  {
   "cell_type": "code",
   "execution_count": null,
   "metadata": {
    "collapsed": true
   },
   "outputs": [],
   "source": []
  },
  {
   "cell_type": "code",
   "execution_count": 6,
   "metadata": {
    "collapsed": false
   },
   "outputs": [],
   "source": [
    "from itertools import chain\n",
    "from operator import itemgetter, attrgetter\n",
    "from skimage.measure import regionprops\n",
    "from skimage.segmentation import slic, mark_boundaries, relabel_sequential\n",
    "from skimage.util import img_as_ubyte, pad\n",
    "import cv2\n",
    "\n",
    "# w_spatial = 0.001\n",
    "\n",
    "# spacing = 200\n",
    "# sp_ys, sp_xs = np.mgrid[0:dm.h:spacing, 0:dm.w:spacing]\n",
    "# sp_texhists = histograms_normalized[sp_ys.flat, sp_xs.flat]\n",
    "# centroids = np.c_[sp_xs.flat, sp_ys.flat, sp_texhists]\n",
    "# n_superpixels = centroids.shape[0]"
   ]
  },
  {
   "cell_type": "code",
   "execution_count": 7,
   "metadata": {
    "collapsed": false
   },
   "outputs": [],
   "source": [
    "def compute_distance_to_centroids(centroids_xy, centroids_texture, spacing, w_spatial, hist_map, h, w,\n",
    "                                 ymins, ymaxs, xmins, xmaxs, window_spatial_distances):\n",
    "    \n",
    "    n = len(centroids_xy)\n",
    "    \n",
    "    ds = [None for _ in range(n)]\n",
    "        \n",
    "    for ci in range(n):\n",
    "    \n",
    "        ymin = ymins[ci]\n",
    "        xmin = xmins[ci]\n",
    "        ymax = ymaxs[ci]\n",
    "        xmax = xmaxs[ci]\n",
    "        \n",
    "        cx, cy = centroids_xy[ci].astype(np.int)\n",
    "                \n",
    "        crop_window_x_min = spacing-cx if cx-spacing < 0 else 0\n",
    "        crop_window_y_min = spacing-cy if cy-spacing < 0 else 0\n",
    "        crop_window_x_max = 2*spacing - (cx+spacing - (w - 1)) if cx+spacing > w - 1 else 2*spacing\n",
    "        crop_window_y_max = 2*spacing - (cy+spacing - (h - 1)) if cy+spacing > h - 1 else 2*spacing\n",
    "                \n",
    "        spatial_ds = window_spatial_distances[crop_window_y_min:crop_window_y_max+1,\n",
    "                                              crop_window_x_min:crop_window_x_max+1].reshape((-1,))\n",
    "\n",
    "        texture_ds = chi2s([centroids_texture[ci]], \n",
    "                           hist_map[ymin:ymax+1, xmin:xmax+1].reshape((-1, hist_map.shape[-1])))\n",
    "        \n",
    "        try:\n",
    "            ds[ci] = w_spatial * spatial_ds + texture_ds\n",
    "        except:\n",
    "            sys.stderr.write('1, %d,%d,%d,%d; 2, %d,%d,%d,%d\\n'%(xmin,ymin,xmax,ymax,\n",
    "                                                                crop_window_x_min,crop_window_y_min,\n",
    "                                                                 crop_window_x_max,crop_window_y_max))\n",
    "            raise\n",
    "            \n",
    "    return ds\n",
    "\n",
    "# def compute_new_centroids(sps, assignments, hist_map):\n",
    "    \n",
    "#     centroids = np.zeros((len(sps), 2 + hist_map.shape[-1]))\n",
    "#     counts = np.zeros(len(sps))\n",
    "#     for r, ss in enumerate(assignments):\n",
    "#         centroids[ss, 1] += r\n",
    "#         centroids[ss, 0] += ss\n",
    "# #         for c, s in enumerate(ss):\n",
    "# #         centroids[s,:2] += (c,r)\n",
    "#         centroids[ss, 2:] += hist_map[r,c]\n",
    "#         counts[ss] += 1\n",
    "            \n",
    "#     centroids = centroids / counts\n",
    "            \n",
    "# #     for i, sp_i in enumerate(sps):        \n",
    "# #         rs, cs = np.where(assignments == sp_i)\n",
    "# #         centroids[i] = np.r_[np.c_[rs, cs].mean(axis=0)[::-1], hist_map[rs, cs].mean(axis=0)]\n",
    "#     return centroids\n",
    "\n",
    "\n",
    "# def compute_new_centroids2(sp_coords, hist_map):\n",
    "\n",
    "#     centroids = np.empty((len(sp_coords), 2+hist_map.shape[-1]))\n",
    "#     for i, coords in enumerate(sp_coords):    \n",
    "#         rs = coords[:,0]\n",
    "#         cs = coords[:,1]\n",
    "#         centroids[i, 0] = cs.mean()\n",
    "#         centroids[i, 1] = rs.mean()\n",
    "#         centroids[i, 2:] = hist_map[rs, cs].mean(axis=0)\n",
    "    \n",
    "#     return centroids\n",
    "\n",
    "# def compute_new_centroids_texture(sp_coords, hist_map):\n",
    "#     centroids_textures = [hist_map[coords[:,0], coords[:,1]].mean(axis=0) for coords in sp_coords]    \n",
    "#     return centroids_textures"
   ]
  },
  {
   "cell_type": "code",
   "execution_count": null,
   "metadata": {
    "collapsed": true
   },
   "outputs": [],
   "source": [
    "from skimage.segmentation import mark_boundaries\n",
    "dm._load_image(versions=['rgb-jpg'])"
   ]
  },
  {
   "cell_type": "code",
   "execution_count": 18,
   "metadata": {
    "collapsed": false
   },
   "outputs": [],
   "source": [
    "def slic_texture(hist_map, spacing=200, w_spatial=0.001, max_iter=5):\n",
    "\n",
    "#     hist_map = histograms_normalized\n",
    "#     spacing=200\n",
    "#     w_spatial=0.001\n",
    "#     max_iter=1\n",
    "\n",
    "    h, w, n_texton = hist_map.shape\n",
    "\n",
    "    sp_ys, sp_xs = np.mgrid[0:h:spacing, 0:w:spacing]\n",
    "    \n",
    "    n_superpixels = len(sp_ys.flat)\n",
    "    \n",
    "    centroids_textures = hist_map[0:h:spacing, 0:w:spacing].reshape((-1, n_texton))\n",
    "    centroids_xy = np.c_[sp_xs.flat, sp_ys.flat]\n",
    "\n",
    "    ys, xs = np.mgrid[-spacing:spacing+1, -spacing:spacing+1]\n",
    "    window_spatial_distances = np.sqrt(ys**2 + xs**2)\n",
    "    \n",
    "    for iter_i in range(max_iter):\n",
    "\n",
    "        print 'iteration', iter_i\n",
    "\n",
    "        cx = centroids_xy[:, 0].astype(np.int)\n",
    "        cy = centroids_xy[:, 1].astype(np.int)\n",
    "        window_ymins = np.maximum(0, cy - spacing)\n",
    "        window_xmins = np.maximum(0, cx - spacing)\n",
    "        window_ymaxs = np.minimum(h-1, cy + spacing)\n",
    "        window_xmaxs = np.minimum(w-1, cx + spacing)\n",
    "                \n",
    "        assignments = -1 * np.ones((h, w), np.int16)\n",
    "        distances = np.inf * np.ones((h, w), np.float16)\n",
    "\n",
    "        sys.stderr.write('%d superpixels\\n'%n_superpixels)\n",
    "\n",
    "        a = time.time()            \n",
    "\n",
    "        sys.stderr.write('compute distance\\n')\n",
    "        \n",
    "        res = Parallel(n_jobs=16)(delayed(compute_distance_to_centroids)(centroids_xy[si:ei], \n",
    "                                                                         centroids_textures[si:ei], \n",
    "                                                                         spacing=spacing, w_spatial=w_spatial, \n",
    "                                                                         hist_map=hist_map, h=h, w=w, \n",
    "                                                                         ymins=window_ymins[si:ei], \n",
    "                                                                         ymaxs=window_ymaxs[si:ei], \n",
    "                                                                         xmins=window_xmins[si:ei], \n",
    "                                                                         xmaxs=window_xmaxs[si:ei],\n",
    "                                                window_spatial_distances=window_spatial_distances)\n",
    "                                    for si, ei in zip(np.arange(0, n_superpixels, n_superpixels/128), \n",
    "                                        np.arange(0, n_superpixels, n_superpixels/128) + n_superpixels/128))\n",
    "\n",
    "        sys.stderr.write('done in %.2f seconds\\n' % (time.time() - a))\n",
    "\n",
    "        a = time.time()\n",
    "\n",
    "        sys.stderr.write('aggregate\\n')\n",
    "\n",
    "        for sp_i, new_ds in enumerate(chain(*res)):\n",
    "            \n",
    "            ymin = window_ymins[sp_i]\n",
    "            xmin = window_xmins[sp_i]\n",
    "            ymax = window_ymaxs[sp_i]\n",
    "            xmax = window_xmaxs[sp_i]\n",
    "\n",
    "            q = new_ds.reshape((ymax+1-ymin, xmax+1-xmin))\n",
    "            s = q < distances[ymin:ymax+1, xmin:xmax+1]\n",
    "\n",
    "            distances[ymin:ymax+1, xmin:xmax+1][s] = q[s]\n",
    "            assignments[ymin:ymax+1, xmin:xmax+1][s] = sp_i\n",
    "    \n",
    "        del res\n",
    "\n",
    "        sys.stderr.write('done in %.2f seconds\\n' % (time.time() - a))\n",
    "        \n",
    "        \n",
    "        img_superpixelized = mark_boundaries(dm.image_rgb_jpg[dm.ymin:dm.ymax+1, dm.xmin:dm.xmax+1], \n",
    "                                             assignments, color=(1,0,0))\n",
    "        img_superpixelized = img_as_ubyte(img_superpixelized)\n",
    "        dm.save_pipeline_result(img_superpixelized, 'segmentationWithoutTextIter%d'%iter_i)\n",
    "        \n",
    "        \n",
    "        sys.stderr.write('update assignment\\n')\n",
    "        t = time.time()\n",
    "\n",
    "        props = regionprops(assignments+1)\n",
    "        sp_coords = map(attrgetter('coords'), props)\n",
    "        sp_centroid = np.asarray(map(attrgetter('centroid'), props))\n",
    "        \n",
    "        centroids_textures = [hist_map[coords[:,0], coords[:,1]].mean(axis=0) for coords in sp_coords]\n",
    "        \n",
    "        centroids_xy_new = sp_centroid[:, ::-1]\n",
    "\n",
    "        sys.stderr.write('total centroid location change = %d\\n' % \n",
    "                         np.sum(np.abs(centroids_xy_new - centroids_xy)))\n",
    "\n",
    "        centroids_xy = centroids_xy_new\n",
    "\n",
    "        sys.stderr.write('done in %.2f seconds\\n' % (time.time() - t))\n",
    "\n",
    "    return assignments"
   ]
  },
  {
   "cell_type": "code",
   "execution_count": 19,
   "metadata": {
    "collapsed": false,
    "scrolled": true
   },
   "outputs": [
    {
     "name": "stdout",
     "output_type": "stream",
     "text": [
      "iteration 0\n"
     ]
    },
    {
     "name": "stderr",
     "output_type": "stream",
     "text": [
      "1953 superpixels\n",
      "compute distance\n",
      "done in 19.01 seconds\n",
      "aggregate\n",
      "done in 4.20 seconds\n",
      "update assignment\n",
      "total centroid location change = 38244\n"
     ]
    },
    {
     "name": "stdout",
     "output_type": "stream",
     "text": [
      "saved /oasis/projects/nsf/csd395/yuncong/CSHL_data_results/MD594/0139/MD594_0139_lossless_segm-tSLIC200_segmentationWithoutTextIter0.jpg\n",
      "iteration"
     ]
    },
    {
     "name": "stderr",
     "output_type": "stream",
     "text": [
      "done in 10.46 seconds\n",
      "1953 superpixels\n"
     ]
    },
    {
     "name": "stdout",
     "output_type": "stream",
     "text": [
      " 1\n"
     ]
    },
    {
     "name": "stderr",
     "output_type": "stream",
     "text": [
      "compute distance\n",
      "done in 19.18 seconds\n",
      "aggregate\n",
      "done in 4.26 seconds\n",
      "update assignment\n",
      "total centroid location change = 19260\n"
     ]
    },
    {
     "name": "stdout",
     "output_type": "stream",
     "text": [
      "saved /oasis/projects/nsf/csd395/yuncong/CSHL_data_results/MD594/0139/MD594_0139_lossless_segm-tSLIC200_segmentationWithoutTextIter1.jpg\n",
      "iteration"
     ]
    },
    {
     "name": "stderr",
     "output_type": "stream",
     "text": [
      "done in 11.23 seconds\n",
      "1953 superpixels\n"
     ]
    },
    {
     "name": "stdout",
     "output_type": "stream",
     "text": [
      " 2\n"
     ]
    },
    {
     "name": "stderr",
     "output_type": "stream",
     "text": [
      "compute distance\n",
      "done in 23.48 seconds\n",
      "aggregate\n",
      "done in 4.38 seconds\n",
      "update assignment\n",
      "total centroid location change = 14949\n"
     ]
    },
    {
     "name": "stdout",
     "output_type": "stream",
     "text": [
      "saved /oasis/projects/nsf/csd395/yuncong/CSHL_data_results/MD594/0139/MD594_0139_lossless_segm-tSLIC200_segmentationWithoutTextIter2.jpg\n",
      "iteration"
     ]
    },
    {
     "name": "stderr",
     "output_type": "stream",
     "text": [
      "done in 10.73 seconds\n",
      "1953 superpixels\n"
     ]
    },
    {
     "name": "stdout",
     "output_type": "stream",
     "text": [
      " 3\n"
     ]
    },
    {
     "name": "stderr",
     "output_type": "stream",
     "text": [
      "compute distance\n",
      "done in 22.13 seconds\n",
      "aggregate\n",
      "done in 4.33 seconds\n",
      "update assignment\n",
      "total centroid location change = 12586\n"
     ]
    },
    {
     "name": "stdout",
     "output_type": "stream",
     "text": [
      "saved /oasis/projects/nsf/csd395/yuncong/CSHL_data_results/MD594/0139/MD594_0139_lossless_segm-tSLIC200_segmentationWithoutTextIter3.jpg\n",
      "iteration"
     ]
    },
    {
     "name": "stderr",
     "output_type": "stream",
     "text": [
      "done in 10.65 seconds\n",
      "1953 superpixels\n"
     ]
    },
    {
     "name": "stdout",
     "output_type": "stream",
     "text": [
      " 4\n"
     ]
    },
    {
     "name": "stderr",
     "output_type": "stream",
     "text": [
      "compute distance\n",
      "done in 21.31 seconds\n",
      "aggregate\n",
      "done in 4.46 seconds\n",
      "update assignment\n",
      "total centroid location change = 10911\n"
     ]
    },
    {
     "name": "stdout",
     "output_type": "stream",
     "text": [
      "saved /oasis/projects/nsf/csd395/yuncong/CSHL_data_results/MD594/0139/MD594_0139_lossless_segm-tSLIC200_segmentationWithoutTextIter4.jpg\n",
      "iteration"
     ]
    },
    {
     "name": "stderr",
     "output_type": "stream",
     "text": [
      "done in 10.82 seconds\n",
      "1953 superpixels\n"
     ]
    },
    {
     "name": "stdout",
     "output_type": "stream",
     "text": [
      " 5\n"
     ]
    },
    {
     "name": "stderr",
     "output_type": "stream",
     "text": [
      "compute distance\n",
      "done in 21.34 seconds\n",
      "aggregate\n",
      "done in 4.39 seconds\n",
      "update assignment\n",
      "total centroid location change = 9708\n"
     ]
    },
    {
     "name": "stdout",
     "output_type": "stream",
     "text": [
      "saved /oasis/projects/nsf/csd395/yuncong/CSHL_data_results/MD594/0139/MD594_0139_lossless_segm-tSLIC200_segmentationWithoutTextIter5.jpg\n",
      "iteration"
     ]
    },
    {
     "name": "stderr",
     "output_type": "stream",
     "text": [
      "done in 10.75 seconds\n",
      "1953 superpixels\n"
     ]
    },
    {
     "name": "stdout",
     "output_type": "stream",
     "text": [
      " 6\n"
     ]
    },
    {
     "name": "stderr",
     "output_type": "stream",
     "text": [
      "compute distance\n",
      "done in 21.71 seconds\n",
      "aggregate\n",
      "done in 4.45 seconds\n",
      "update assignment\n",
      "total centroid location change = 8810\n"
     ]
    },
    {
     "name": "stdout",
     "output_type": "stream",
     "text": [
      "saved /oasis/projects/nsf/csd395/yuncong/CSHL_data_results/MD594/0139/MD594_0139_lossless_segm-tSLIC200_segmentationWithoutTextIter6.jpg\n",
      "iteration"
     ]
    },
    {
     "name": "stderr",
     "output_type": "stream",
     "text": [
      "done in 10.84 seconds\n",
      "1953 superpixels\n"
     ]
    },
    {
     "name": "stdout",
     "output_type": "stream",
     "text": [
      " 7\n"
     ]
    },
    {
     "name": "stderr",
     "output_type": "stream",
     "text": [
      "compute distance\n",
      "done in 21.36 seconds\n",
      "aggregate\n",
      "done in 4.43 seconds\n",
      "update assignment\n",
      "total centroid location change = 8024\n"
     ]
    },
    {
     "name": "stdout",
     "output_type": "stream",
     "text": [
      "saved /oasis/projects/nsf/csd395/yuncong/CSHL_data_results/MD594/0139/MD594_0139_lossless_segm-tSLIC200_segmentationWithoutTextIter7.jpg\n",
      "iteration"
     ]
    },
    {
     "name": "stderr",
     "output_type": "stream",
     "text": [
      "done in 10.83 seconds\n",
      "1953 superpixels\n"
     ]
    },
    {
     "name": "stdout",
     "output_type": "stream",
     "text": [
      " 8\n"
     ]
    },
    {
     "name": "stderr",
     "output_type": "stream",
     "text": [
      "compute distance\n",
      "done in 21.66 seconds\n",
      "aggregate\n",
      "done in 4.42 seconds\n",
      "update assignment\n",
      "total centroid location change = 7292\n"
     ]
    },
    {
     "name": "stdout",
     "output_type": "stream",
     "text": [
      "saved /oasis/projects/nsf/csd395/yuncong/CSHL_data_results/MD594/0139/MD594_0139_lossless_segm-tSLIC200_segmentationWithoutTextIter8.jpg\n",
      "iteration"
     ]
    },
    {
     "name": "stderr",
     "output_type": "stream",
     "text": [
      "done in 11.03 seconds\n",
      "1953 superpixels\n"
     ]
    },
    {
     "name": "stdout",
     "output_type": "stream",
     "text": [
      " 9\n"
     ]
    },
    {
     "name": "stderr",
     "output_type": "stream",
     "text": [
      "compute distance\n",
      "done in 22.34 seconds\n",
      "aggregate\n",
      "done in 4.43 seconds\n",
      "update assignment\n",
      "total centroid location change = 6715\n"
     ]
    },
    {
     "name": "stdout",
     "output_type": "stream",
     "text": [
      "saved /oasis/projects/nsf/csd395/yuncong/CSHL_data_results/MD594/0139/MD594_0139_lossless_segm-tSLIC200_segmentationWithoutTextIter9.jpg\n"
     ]
    },
    {
     "name": "stderr",
     "output_type": "stream",
     "text": [
      "done in 11.09 seconds\n"
     ]
    }
   ],
   "source": [
    "assignments = slic_texture(histograms_normalized, max_iter=10, spacing=200)"
   ]
  },
  {
   "cell_type": "code",
   "execution_count": null,
   "metadata": {
    "collapsed": false
   },
   "outputs": [],
   "source": [
    "img_superpixelized = mark_boundaries(dm.image_rgb_jpg[dm.ymin:dm.ymax+1, dm.xmin:dm.xmax+1], \n",
    "                                     assignments, color=(1,0,0))\n",
    "display(img_superpixelized)"
   ]
  },
  {
   "cell_type": "code",
   "execution_count": null,
   "metadata": {
    "collapsed": true
   },
   "outputs": [],
   "source": []
  },
  {
   "cell_type": "code",
   "execution_count": null,
   "metadata": {
    "collapsed": true
   },
   "outputs": [],
   "source": [
    "hist_map = histograms_normalized"
   ]
  },
  {
   "cell_type": "code",
   "execution_count": null,
   "metadata": {
    "collapsed": false
   },
   "outputs": [],
   "source": [
    "h, w = hist_map.shape[:2]\n",
    "max_iter = 1\n",
    "spacing=200\n",
    "w_spatial=0.001\n",
    "\n",
    "from itertools import chain\n",
    "from operator import itemgetter\n",
    "\n",
    "sp_ys, sp_xs = np.mgrid[0:h:spacing, 0:w:spacing]\n",
    "sp_texhists = hist_map[sp_ys.flat, sp_xs.flat]\n",
    "centroids = np.c_[sp_xs.flat, sp_ys.flat, sp_texhists]\n",
    "n_superpixels = centroids.shape[0]"
   ]
  },
  {
   "cell_type": "code",
   "execution_count": null,
   "metadata": {
    "collapsed": false
   },
   "outputs": [],
   "source": [
    "print n_superpixels"
   ]
  },
  {
   "cell_type": "code",
   "execution_count": null,
   "metadata": {
    "collapsed": false
   },
   "outputs": [],
   "source": [
    "# for iter_i in range(max_iter):\n",
    "\n",
    "iter_i = 0\n",
    "\n",
    "print 'iteration', iter_i\n",
    "\n",
    "assignments = -1 * np.ones((h, w), np.int16)\n",
    "distances = np.inf * np.ones((h, w), np.float16)\n",
    "\n",
    "sys.stderr.write('compute_distance_to_centroids\\n')\n",
    "\n",
    "for i in range(0, n_superpixels, 100):\n",
    "\n",
    "    sys.stderr.write('compute_distance_to_centroids\\n')\n",
    "    t = time.time()\n",
    "    \n",
    "    res = Parallel(n_jobs=16)(delayed(compute_distance_to_centroids)(centroids_p, \n",
    "                                                                     spacing=spacing,\n",
    "                                                                    w_spatial=w_spatial,\n",
    "                                                                    hist_map=hist_map,\n",
    "                                                                     h=h, w=w)\n",
    "                              for centroids_p in np.array_split(centroids[i:i+100], 16))\n",
    "    \n",
    "    print time.time() - t\n",
    "\n",
    "\n",
    "    t = time.time()\n",
    "\n",
    "    new_dists = list(chain(*res))\n",
    "\n",
    "    for sp_i, nds in enumerate(new_dists):\n",
    "\n",
    "        cx = int(centroids[i+sp_i, 0])\n",
    "        cy = int(centroids[i+sp_i, 1])\n",
    "\n",
    "        ymin = max(0, cy - 2*spacing)\n",
    "        xmin = max(0, cx - 2*spacing)\n",
    "        ymax = min(h-1, cy + 2*spacing)\n",
    "        xmax = min(w-1, cx + 2*spacing)\n",
    "\n",
    "        ys, xs = np.mgrid[ymin:ymax+1, xmin:xmax+1].astype(np.int)\n",
    "        cls = np.c_[ys.flat, xs.flat]\n",
    "\n",
    "        s = nds < distances[cls[:,0], cls[:,1]]\n",
    "        distances[cls[s,0], cls[s,1]] = nds[s]\n",
    "        assignments[cls[s,0], cls[s,1]] = i + sp_i\n",
    "\n",
    "    del res\n",
    "    del new_dists\n",
    "    \n",
    "    print time.time() - t\n",
    "    \n",
    "    break\n",
    "\n",
    "\n",
    "# sys.stderr.write('done in %.2f seconds\\n' % (time.time() - t))"
   ]
  },
  {
   "cell_type": "code",
   "execution_count": null,
   "metadata": {
    "collapsed": true
   },
   "outputs": [],
   "source": []
  },
  {
   "cell_type": "code",
   "execution_count": null,
   "metadata": {
    "collapsed": true
   },
   "outputs": [],
   "source": [
    "img_superpixelized = mark_boundaries(dm.image_rgb_jpg[dm.ymin:dm.ymax+1, dm.xmin:dm.xmax+1], \n",
    "                                     assignments, color=(1,0,0))\n",
    "img_superpixelized = img_as_ubyte(img_superpixelized)\n",
    "#     dm.save_pipeline_result(img_superpixelized, 'segmentationWithoutTextIter%d'%iter_i)\n",
    "\n",
    "sys.stderr.write('update assignment\\n')\n",
    "\n",
    "centroids_part = Parallel(n_jobs=16)(delayed(compute_new_centroids)(sps, assignments=assignments,\n",
    "                                                                   hist_map=hist_map) \n",
    "                                     for sps in np.array_split(range(n_superpixels), 16))\n",
    "centroids_new = np.vstack(centroids_part)\n",
    "\n",
    "print 'total centroid location change', np.sum(np.abs(centroids_new[:,:2] - centroids[:,:2]))\n",
    "\n",
    "centroids = centroids_new\n",
    "\n",
    "sys.stderr.write('done in %.2f seconds\\n' % (time.time() - t))"
   ]
  },
  {
   "cell_type": "code",
   "execution_count": null,
   "metadata": {
    "collapsed": false
   },
   "outputs": [],
   "source": [
    "dm._load_image(versions=['rgb-jpg'])"
   ]
  },
  {
   "cell_type": "code",
   "execution_count": null,
   "metadata": {
    "collapsed": false
   },
   "outputs": [],
   "source": [
    "from skimage.segmentation import mark_boundaries\n",
    "viz = mark_boundaries(dm.image_rgb_jpg[dm.ymin:dm.ymax+1, dm.xmin:dm.xmax+1], q, color=(1,0,0))\n",
    "display(viz)"
   ]
  }
 ],
 "metadata": {
  "kernelspec": {
   "display_name": "Python 2",
   "language": "python",
   "name": "python2"
  },
  "language_info": {
   "codemirror_mode": {
    "name": "ipython",
    "version": 2
   },
   "file_extension": ".py",
   "mimetype": "text/x-python",
   "name": "python",
   "nbconvert_exporter": "python",
   "pygments_lexer": "ipython2",
   "version": "2.7.3"
  }
 },
 "nbformat": 4,
 "nbformat_minor": 0
}
