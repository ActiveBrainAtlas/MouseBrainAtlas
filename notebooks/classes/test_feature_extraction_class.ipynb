{
 "metadata": {
  "name": "",
  "signature": "sha256:4a5e066bb7878915329d6ae88c9dee398c7df61546b3834375f1faaa7d305bad"
 },
 "nbformat": 3,
 "nbformat_minor": 0,
 "worksheets": [
  {
   "cells": [
    {
     "cell_type": "code",
     "collapsed": false,
     "input": [
      "\"\"\"\n",
      "This test uses FeatureExtractor class (defined in feature_extraction_class.py).\n",
      "\n",
      "It shows the issue that in compute_texton() only a couple processes are utilized, \n",
      "thus making the computation very slow (20 sec vs. 1 sec).\n",
      "\"\"\""
     ],
     "language": "python",
     "metadata": {},
     "outputs": []
    },
    {
     "cell_type": "code",
     "collapsed": false,
     "input": [
      "import sys, os\n",
      "import matplotlib.pyplot as plt\n",
      "\n",
      "from IPython.display import FileLink\n",
      "\n",
      "import cv2\n",
      "\n",
      "import time\n",
      "\n",
      "from utilities import *\n",
      "\n",
      "from feature_extraction_class import *\n",
      "\n",
      "class args(object):\n",
      "    img_file = '../ParthaData/PMD1305_region0_reduce2/PMD1305_region0_reduce2_0244.tif'\n",
      "    param_id = 'nissl324'\n",
      "    output_dir ='/oasis/scratch/csd181/yuncong/output'\n",
      "    params_dir = '/oasis/projects/nsf/csd181/yuncong/Brain/params'\n",
      "\n",
      "# load parameter settings\n",
      "params_dir = os.path.realpath(args.params_dir)\n",
      "param_file = os.path.join(params_dir, 'param_%s.json'%args.param_id)\n",
      "param_default_file = os.path.join(params_dir, 'param_default.json')\n",
      "param = json.load(open(param_file, 'r'))\n",
      "param_default = json.load(open(param_default_file, 'r'))\n",
      "\n",
      "for k, v in param_default.iteritems():\n",
      "    if not isinstance(param[k], basestring):\n",
      "        if np.isnan(param[k]):\n",
      "            param[k] = v\n",
      "\n",
      "pprint.pprint(param)\n",
      "\n",
      "# set image paths\n",
      "img_file = os.path.realpath(args.img_file)\n",
      "img_path, ext = os.path.splitext(img_file)\n",
      "img_dir, img_name = os.path.split(img_path)\n",
      "\n",
      "print img_file\n",
      "img = cv2.imread(img_file, 0)\n",
      "im_height, im_width = img.shape[:2]\n",
      "\n",
      "# set output paths\n",
      "output_dir = os.path.realpath(args.output_dir)\n",
      "\n",
      "result_name = img_name + '_param_' + str(param['param_id'])\n",
      "result_dir = os.path.join(output_dir, result_name)\n",
      "if not os.path.exists(result_dir):\n",
      "    os.makedirs(result_dir)\n"
     ],
     "language": "python",
     "metadata": {},
     "outputs": []
    },
    {
     "cell_type": "code",
     "collapsed": false,
     "input": [
      "fe = FeatureExtractor(img, param)"
     ],
     "language": "python",
     "metadata": {},
     "outputs": []
    },
    {
     "cell_type": "code",
     "collapsed": false,
     "input": [
      "fe.compute_features()"
     ],
     "language": "python",
     "metadata": {},
     "outputs": []
    },
    {
     "cell_type": "code",
     "collapsed": false,
     "input": [
      "fe.compute_texton()"
     ],
     "language": "python",
     "metadata": {},
     "outputs": []
    }
   ],
   "metadata": {}
  }
 ]
}