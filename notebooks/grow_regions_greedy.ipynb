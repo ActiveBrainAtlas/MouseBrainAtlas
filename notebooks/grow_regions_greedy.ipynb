{
 "cells": [
  {
   "cell_type": "code",
   "execution_count": 1,
   "metadata": {
    "collapsed": false
   },
   "outputs": [],
   "source": [
    "%reload_ext autoreload\n",
    "%autoreload 2"
   ]
  },
  {
   "cell_type": "code",
   "execution_count": 2,
   "metadata": {
    "collapsed": false
   },
   "outputs": [],
   "source": [
    "import sys\n",
    "sys.path.append('/home/yuncong/Brain/pipeline_scripts')\n",
    "from utilities2014 import *\n",
    "import os\n",
    "\n",
    "from scipy.spatial.distance import cdist, pdist, squareform\n",
    "from scipy.cluster.hierarchy import average, fcluster, single, complete\n",
    "\n",
    "from joblib import Parallel, delayed\n",
    "\n",
    "from skimage.color import gray2rgb\n",
    "from skimage.measure import find_contours\n",
    "from skimage.util import img_as_float\n",
    "\n",
    "import matplotlib.pyplot as plt\n",
    "%matplotlib inline\n",
    "\n",
    "sys.path.append('/home/yuncong/project/opencv-2.4.9/release/lib/python2.7/site-packages')\n",
    "import cv2\n",
    "\n",
    "from networkx import from_dict_of_lists, Graph, adjacency_matrix, dfs_postorder_nodes\n",
    "from networkx.algorithms import node_connected_component\n",
    "\n",
    "os.environ['GORDON_DATA_DIR'] = '/home/yuncong/project/DavidData2014tif/'\n",
    "os.environ['GORDON_REPO_DIR'] = '/home/yuncong/Brain'\n",
    "os.environ['GORDON_RESULT_DIR'] = '/home/yuncong/project/DavidData2014results/'\n",
    "os.environ['GORDON_LABELING_DIR'] = '/home/yuncong/project/DavidData2014labelings/'\n",
    "\n",
    "dm = DataManager(generate_hierarchy=False, stack='RS141', resol='x5')\n",
    "dm.set_gabor_params(gabor_params_id='blueNisslWide')\n",
    "dm.set_segmentation_params(segm_params_id='blueNisslRegular')\n",
    "dm.set_vq_params(vq_params_id='blueNissl')"
   ]
  },
  {
   "cell_type": "code",
   "execution_count": 43,
   "metadata": {
    "collapsed": false
   },
   "outputs": [],
   "source": [
    "dm.set_slice(1)\n",
    "dm._load_image()\n",
    "\n",
    "texton_hists = dm.load_pipeline_result('texHist', 'npy')\n",
    "segmentation = dm.load_pipeline_result('segmentation', 'npy')\n",
    "n_superpixels = len(np.unique(segmentation)) - 1\n",
    "textonmap = dm.load_pipeline_result('texMap', 'npy')\n",
    "n_texton = len(np.unique(textonmap)) - 1\n",
    "neighbors = dm.load_pipeline_result('neighbors', 'npy')\n",
    "sp_properties = dm.load_pipeline_result('spProps', 'npy')\n",
    "# each item is (center_y, center_x, area, mean_intensity, ymin, xmin, ymax, xmax)\n",
    "segmentation_vis = dm.load_pipeline_result('segmentationWithoutText', 'jpg')"
   ]
  },
  {
   "cell_type": "code",
   "execution_count": 71,
   "metadata": {
    "collapsed": false
   },
   "outputs": [
    {
     "ename": "ValueError",
     "evalue": "Array can't be memory-mapped: Python objects in dtype.",
     "output_type": "error",
     "traceback": [
      "\u001b[1;31m---------------------------------------------------------------------------\u001b[0m",
      "\u001b[1;31mValueError\u001b[0m                                Traceback (most recent call last)",
      "\u001b[1;32m<ipython-input-71-392623f350a7>\u001b[0m in \u001b[0;36m<module>\u001b[1;34m()\u001b[0m\n\u001b[0;32m      1\u001b[0m \u001b[1;32mfrom\u001b[0m \u001b[0mjoblib\u001b[0m \u001b[1;32mimport\u001b[0m \u001b[0mload\u001b[0m\u001b[1;33m,\u001b[0m \u001b[0mdump\u001b[0m\u001b[1;33m\u001b[0m\u001b[0m\n\u001b[0;32m      2\u001b[0m \u001b[0m_\u001b[0m \u001b[1;33m=\u001b[0m \u001b[0mdump\u001b[0m\u001b[1;33m(\u001b[0m\u001b[0mneighbors\u001b[0m\u001b[1;33m,\u001b[0m \u001b[1;34m'/tmp/tmp'\u001b[0m\u001b[1;33m)\u001b[0m\u001b[1;33m\u001b[0m\u001b[0m\n\u001b[1;32m----> 3\u001b[1;33m \u001b[0mlarge_memmap\u001b[0m \u001b[1;33m=\u001b[0m \u001b[0mload\u001b[0m\u001b[1;33m(\u001b[0m\u001b[1;34m'/tmp/tmp'\u001b[0m\u001b[1;33m,\u001b[0m \u001b[0mmmap_mode\u001b[0m\u001b[1;33m=\u001b[0m\u001b[1;34m'r+'\u001b[0m\u001b[1;33m)\u001b[0m\u001b[1;33m\u001b[0m\u001b[0m\n\u001b[0m",
      "\u001b[1;32m/oasis/projects/nsf/csd181/yuncong/virtualenv-1.9.1/yuncongve/lib/python2.7/site-packages/joblib/numpy_pickle.pyc\u001b[0m in \u001b[0;36mload\u001b[1;34m(filename, mmap_mode)\u001b[0m\n\u001b[0;32m    423\u001b[0m \u001b[1;33m\u001b[0m\u001b[0m\n\u001b[0;32m    424\u001b[0m         \u001b[1;32mtry\u001b[0m\u001b[1;33m:\u001b[0m\u001b[1;33m\u001b[0m\u001b[0m\n\u001b[1;32m--> 425\u001b[1;33m             \u001b[0mobj\u001b[0m \u001b[1;33m=\u001b[0m \u001b[0munpickler\u001b[0m\u001b[1;33m.\u001b[0m\u001b[0mload\u001b[0m\u001b[1;33m(\u001b[0m\u001b[1;33m)\u001b[0m\u001b[1;33m\u001b[0m\u001b[0m\n\u001b[0m\u001b[0;32m    426\u001b[0m         \u001b[1;32mfinally\u001b[0m\u001b[1;33m:\u001b[0m\u001b[1;33m\u001b[0m\u001b[0m\n\u001b[0;32m    427\u001b[0m             \u001b[1;32mif\u001b[0m \u001b[0mhasattr\u001b[0m\u001b[1;33m(\u001b[0m\u001b[0munpickler\u001b[0m\u001b[1;33m,\u001b[0m \u001b[1;34m'file_handle'\u001b[0m\u001b[1;33m)\u001b[0m\u001b[1;33m:\u001b[0m\u001b[1;33m\u001b[0m\u001b[0m\n",
      "\u001b[1;32m/opt/python/lib/python2.7/pickle.py\u001b[0m in \u001b[0;36mload\u001b[1;34m(self)\u001b[0m\n\u001b[0;32m    856\u001b[0m             \u001b[1;32mwhile\u001b[0m \u001b[1;36m1\u001b[0m\u001b[1;33m:\u001b[0m\u001b[1;33m\u001b[0m\u001b[0m\n\u001b[0;32m    857\u001b[0m                 \u001b[0mkey\u001b[0m \u001b[1;33m=\u001b[0m \u001b[0mread\u001b[0m\u001b[1;33m(\u001b[0m\u001b[1;36m1\u001b[0m\u001b[1;33m)\u001b[0m\u001b[1;33m\u001b[0m\u001b[0m\n\u001b[1;32m--> 858\u001b[1;33m                 \u001b[0mdispatch\u001b[0m\u001b[1;33m[\u001b[0m\u001b[0mkey\u001b[0m\u001b[1;33m]\u001b[0m\u001b[1;33m(\u001b[0m\u001b[0mself\u001b[0m\u001b[1;33m)\u001b[0m\u001b[1;33m\u001b[0m\u001b[0m\n\u001b[0m\u001b[0;32m    859\u001b[0m         \u001b[1;32mexcept\u001b[0m \u001b[0m_Stop\u001b[0m\u001b[1;33m,\u001b[0m \u001b[0mstopinst\u001b[0m\u001b[1;33m:\u001b[0m\u001b[1;33m\u001b[0m\u001b[0m\n\u001b[0;32m    860\u001b[0m             \u001b[1;32mreturn\u001b[0m \u001b[0mstopinst\u001b[0m\u001b[1;33m.\u001b[0m\u001b[0mvalue\u001b[0m\u001b[1;33m\u001b[0m\u001b[0m\n",
      "\u001b[1;32m/oasis/projects/nsf/csd181/yuncong/virtualenv-1.9.1/yuncongve/lib/python2.7/site-packages/joblib/numpy_pickle.pyc\u001b[0m in \u001b[0;36mload_build\u001b[1;34m(self)\u001b[0m\n\u001b[0;32m    289\u001b[0m                         \"but numpy didn't import correctly\")\n\u001b[0;32m    290\u001b[0m             \u001b[0mnd_array_wrapper\u001b[0m \u001b[1;33m=\u001b[0m \u001b[0mself\u001b[0m\u001b[1;33m.\u001b[0m\u001b[0mstack\u001b[0m\u001b[1;33m.\u001b[0m\u001b[0mpop\u001b[0m\u001b[1;33m(\u001b[0m\u001b[1;33m)\u001b[0m\u001b[1;33m\u001b[0m\u001b[0m\n\u001b[1;32m--> 291\u001b[1;33m             \u001b[0marray\u001b[0m \u001b[1;33m=\u001b[0m \u001b[0mnd_array_wrapper\u001b[0m\u001b[1;33m.\u001b[0m\u001b[0mread\u001b[0m\u001b[1;33m(\u001b[0m\u001b[0mself\u001b[0m\u001b[1;33m)\u001b[0m\u001b[1;33m\u001b[0m\u001b[0m\n\u001b[0m\u001b[0;32m    292\u001b[0m             \u001b[0mself\u001b[0m\u001b[1;33m.\u001b[0m\u001b[0mstack\u001b[0m\u001b[1;33m.\u001b[0m\u001b[0mappend\u001b[0m\u001b[1;33m(\u001b[0m\u001b[0marray\u001b[0m\u001b[1;33m)\u001b[0m\u001b[1;33m\u001b[0m\u001b[0m\n\u001b[0;32m    293\u001b[0m \u001b[1;33m\u001b[0m\u001b[0m\n",
      "\u001b[1;32m/oasis/projects/nsf/csd181/yuncong/virtualenv-1.9.1/yuncongve/lib/python2.7/site-packages/joblib/numpy_pickle.pyc\u001b[0m in \u001b[0;36mread\u001b[1;34m(self, unpickler)\u001b[0m\n\u001b[0;32m    111\u001b[0m         \u001b[1;32mif\u001b[0m \u001b[0mnp_ver\u001b[0m \u001b[1;33m>=\u001b[0m \u001b[1;33m[\u001b[0m\u001b[1;36m1\u001b[0m\u001b[1;33m,\u001b[0m \u001b[1;36m3\u001b[0m\u001b[1;33m]\u001b[0m\u001b[1;33m:\u001b[0m\u001b[1;33m\u001b[0m\u001b[0m\n\u001b[0;32m    112\u001b[0m             array = unpickler.np.load(filename,\n\u001b[1;32m--> 113\u001b[1;33m                             mmap_mode=unpickler.mmap_mode)\n\u001b[0m\u001b[0;32m    114\u001b[0m         \u001b[1;32melse\u001b[0m\u001b[1;33m:\u001b[0m\u001b[1;33m\u001b[0m\u001b[0m\n\u001b[0;32m    115\u001b[0m             \u001b[1;31m# Numpy does not have mmap_mode before 1.3\u001b[0m\u001b[1;33m\u001b[0m\u001b[1;33m\u001b[0m\u001b[0m\n",
      "\u001b[1;32m/oasis/projects/nsf/csd181/yuncong/virtualenv-1.9.1/yuncongve/lib/python2.7/site-packages/numpy/lib/npyio.pyc\u001b[0m in \u001b[0;36mload\u001b[1;34m(file, mmap_mode)\u001b[0m\n\u001b[0;32m    389\u001b[0m             \u001b[1;31m# .npy file\u001b[0m\u001b[1;33m\u001b[0m\u001b[1;33m\u001b[0m\u001b[0m\n\u001b[0;32m    390\u001b[0m             \u001b[1;32mif\u001b[0m \u001b[0mmmap_mode\u001b[0m\u001b[1;33m:\u001b[0m\u001b[1;33m\u001b[0m\u001b[0m\n\u001b[1;32m--> 391\u001b[1;33m                 \u001b[1;32mreturn\u001b[0m \u001b[0mformat\u001b[0m\u001b[1;33m.\u001b[0m\u001b[0mopen_memmap\u001b[0m\u001b[1;33m(\u001b[0m\u001b[0mfile\u001b[0m\u001b[1;33m,\u001b[0m \u001b[0mmode\u001b[0m\u001b[1;33m=\u001b[0m\u001b[0mmmap_mode\u001b[0m\u001b[1;33m)\u001b[0m\u001b[1;33m\u001b[0m\u001b[0m\n\u001b[0m\u001b[0;32m    392\u001b[0m             \u001b[1;32melse\u001b[0m\u001b[1;33m:\u001b[0m\u001b[1;33m\u001b[0m\u001b[0m\n\u001b[0;32m    393\u001b[0m                 \u001b[1;32mreturn\u001b[0m \u001b[0mformat\u001b[0m\u001b[1;33m.\u001b[0m\u001b[0mread_array\u001b[0m\u001b[1;33m(\u001b[0m\u001b[0mfid\u001b[0m\u001b[1;33m)\u001b[0m\u001b[1;33m\u001b[0m\u001b[0m\n",
      "\u001b[1;32m/oasis/projects/nsf/csd181/yuncong/virtualenv-1.9.1/yuncongve/lib/python2.7/site-packages/numpy/lib/format.pyc\u001b[0m in \u001b[0;36mopen_memmap\u001b[1;34m(filename, mode, dtype, shape, fortran_order, version)\u001b[0m\n\u001b[0;32m    723\u001b[0m             \u001b[1;32mif\u001b[0m \u001b[0mdtype\u001b[0m\u001b[1;33m.\u001b[0m\u001b[0mhasobject\u001b[0m\u001b[1;33m:\u001b[0m\u001b[1;33m\u001b[0m\u001b[0m\n\u001b[0;32m    724\u001b[0m                 \u001b[0mmsg\u001b[0m \u001b[1;33m=\u001b[0m \u001b[1;34m\"Array can't be memory-mapped: Python objects in dtype.\"\u001b[0m\u001b[1;33m\u001b[0m\u001b[0m\n\u001b[1;32m--> 725\u001b[1;33m                 \u001b[1;32mraise\u001b[0m \u001b[0mValueError\u001b[0m\u001b[1;33m(\u001b[0m\u001b[0mmsg\u001b[0m\u001b[1;33m)\u001b[0m\u001b[1;33m\u001b[0m\u001b[0m\n\u001b[0m\u001b[0;32m    726\u001b[0m             \u001b[0moffset\u001b[0m \u001b[1;33m=\u001b[0m \u001b[0mfp\u001b[0m\u001b[1;33m.\u001b[0m\u001b[0mtell\u001b[0m\u001b[1;33m(\u001b[0m\u001b[1;33m)\u001b[0m\u001b[1;33m\u001b[0m\u001b[0m\n\u001b[0;32m    727\u001b[0m         \u001b[1;32mfinally\u001b[0m\u001b[1;33m:\u001b[0m\u001b[1;33m\u001b[0m\u001b[0m\n",
      "\u001b[1;31mValueError\u001b[0m: Array can't be memory-mapped: Python objects in dtype."
     ]
    }
   ],
   "source": [
    "from joblib import load, dump\n",
    "_ = dump(neighbors, '/tmp/tmp')\n",
    "large_memmap = load('/tmp/tmp', mmap_mode='r+')"
   ]
  },
  {
   "cell_type": "code",
   "execution_count": 44,
   "metadata": {
    "collapsed": false
   },
   "outputs": [],
   "source": [
    "try:\n",
    "    sp_sp_dists = dm.load_pipeline_result('texHistPairwiseDist', 'npy')\n",
    "#     raise\n",
    "except:\n",
    "    def f(a):\n",
    "        sp_dists = cdist(a, texton_hists, metric=chi2)\n",
    "#         sp_dists = cdist(a, texton_hists, metric=js)\n",
    "        return sp_dists\n",
    "\n",
    "    sp_dists = Parallel(n_jobs=16)(delayed(f)(s) for s in np.array_split(texton_hists, 16))\n",
    "    sp_sp_dists = np.vstack(sp_dists)\n",
    "    \n",
    "    dm.save_pipeline_result(sp_sp_dists, 'texHistPairwiseDist', 'npy')\n",
    "\n",
    "center_dists = pdist(sp_properties[:, :2])\n",
    "center_dist_matrix = squareform(center_dists)\n",
    "\n",
    "neighbors_dict = dict(zip(np.arange(n_superpixels), [list(i) for i in neighbors]))\n",
    "neighbor_graph = from_dict_of_lists(neighbors_dict)"
   ]
  },
  {
   "cell_type": "code",
   "execution_count": 45,
   "metadata": {
    "collapsed": false
   },
   "outputs": [],
   "source": [
    "# roughly the frequency texton counts (unnormalized histogram)\n",
    "texton_freqs = texton_hists * sp_properties[:,2][:, np.newaxis]"
   ]
  },
  {
   "cell_type": "code",
   "execution_count": 6,
   "metadata": {
    "collapsed": false
   },
   "outputs": [
    {
     "data": {
      "image/png": "[encoded data removed]",
      "text/plain": [
       "<matplotlib.figure.Figure at 0x13aad50>"
      ]
     },
     "metadata": {},
     "output_type": "display_data"
    }
   ],
   "source": [
    "# size prior\n",
    "x = np.arange(0,50,1)\n",
    "plt.plot(.1 * (1-np.exp(-.8*x)));\n",
    "plt.xlabel('region size');\n",
    "plt.title('landmark size prior');"
   ]
  },
  {
   "cell_type": "code",
   "execution_count": 7,
   "metadata": {
    "collapsed": false
   },
   "outputs": [
    {
     "data": {
      "image/png": "[encoded data removed]",
      "text/plain": [
       "<matplotlib.figure.Figure at 0x13aacd0>"
      ]
     },
     "metadata": {},
     "output_type": "display_data"
    }
   ],
   "source": [
    "# compactness penalty\n",
    "x = np.linspace(0,100,100)\n",
    "y = np.maximum(x-50,0)**2\n",
    "plt.plot(x,y);\n",
    "plt.xlabel('compactness coefficient');\n",
    "plt.title('compactness penalty');"
   ]
  },
  {
   "cell_type": "code",
   "execution_count": 46,
   "metadata": {
    "collapsed": true
   },
   "outputs": [],
   "source": [
    "def find_boundary_sps(clusters, neighbors, neighbor_graph, mode=None):\n",
    "    '''\n",
    "    Identify superpixels that are at the boundary of regions: surround set and frontier set\n",
    "    \n",
    "    Parameters\n",
    "    ----------\n",
    "    clusters : list of integer lists\n",
    "    neighbors : neighbor_list\n",
    "    neighbor_graph : \n",
    "    '''\n",
    "        \n",
    "    n_superpixels = len(clusters)\n",
    "    \n",
    "    surrounds_sps = []\n",
    "    frontiers_sps = []\n",
    "    \n",
    "    for cluster_ind, cluster in enumerate(clusters):\n",
    "        \n",
    "        surrounds = set([i for i in set.union(*[neighbors[c] for c in cluster]) if i not in cluster and i != -1])\n",
    "        surrounds = set([i for i in surrounds if any([n not in cluster for n in neighbors[i]])])\n",
    "\n",
    "        if len(surrounds) == 0:\n",
    "            surrounds_sps.append([])\n",
    "            frontiers_sps.append([])\n",
    "\n",
    "        else:\n",
    "            \n",
    "            if mode == 'surrounds' or mode == 'both':\n",
    "                surrounds_subgraph = neighbor_graph.subgraph(surrounds)\n",
    "                surrounds_traversal = list(dfs_postorder_nodes(surrounds_subgraph))\n",
    "                surrounds_sps.append(surrounds_traversal)\n",
    "            \n",
    "            if mode == 'frontiers' or mode == 'both':\n",
    "                frontiers = set.union(*[neighbors[c] for c in surrounds]) & set(cluster)\n",
    "                frontiers_subgraph = neighbor_graph.subgraph(frontiers)\n",
    "                frontiers_traversal = list(dfs_postorder_nodes(frontiers_subgraph))\n",
    "                frontiers_sps.append(frontiers_traversal)            \n",
    "    \n",
    "    if mode == 'surrounds':\n",
    "        return surrounds_sps\n",
    "    elif mode == 'frontiers':\n",
    "        return frontiers_sps\n",
    "    else:\n",
    "        return surrounds_sps, frontiers_sps"
   ]
  },
  {
   "cell_type": "code",
   "execution_count": 47,
   "metadata": {
    "collapsed": true
   },
   "outputs": [],
   "source": [
    "def compute_cluster_score(cluster, texton_hists=texton_hists, neighbors=neighbors):\n",
    "    \n",
    "    cluster_list = list(cluster)\n",
    "    cluster_avg = texton_hists[cluster_list].mean(axis=0)\n",
    "    \n",
    "    surrounds = set([i for i in set.union(*[neighbors[c] for c in cluster]) if i not in cluster and i != -1])\n",
    "    if len(surrounds) == 0: # single sp on background\n",
    "        return np.nan, np.nan, np.nan, np.nan, np.nan, np.nan, np.nan\n",
    "    \n",
    "    surrounds_list = list(surrounds)\n",
    "    surround_dist = np.squeeze(cdist([cluster_avg], texton_hists[surrounds_list], chi2)).min()\n",
    "\n",
    "    surds = find_boundary_sps([cluster], neighbors=neighbors, neighbor_graph=neighbor_graph,\n",
    "                                    mode='surrounds')\n",
    "    \n",
    "    compactness = len(surds[0])**2/float(len(cluster))\n",
    "    compactness = .001 * np.maximum(compactness-40,0)**2\n",
    "    \n",
    "    size_prior = .1 * (1-np.exp(-.8*len(cluster)))\n",
    "    \n",
    "    score = surround_dist - compactness + size_prior\n",
    "    \n",
    "    interior_dist = np.nan\n",
    "    interior_pval = np.nan\n",
    "    surround_pval = np.nan\n",
    "    \n",
    "    return score, surround_dist, interior_dist, compactness, surround_pval, interior_pval, size_prior"
   ]
  },
  {
   "cell_type": "code",
   "execution_count": 10,
   "metadata": {
    "collapsed": false
   },
   "outputs": [],
   "source": [
    "# def compute_cluster_score(cluster, texton_hists=texton_hists, neighbors=neighbors, output=False):\n",
    "#     '''\n",
    "#     Computes the significance score of a cluster\n",
    "    \n",
    "#     '''\n",
    "    \n",
    "#     cluster_list = list(cluster)\n",
    "#     cluster_avg = texton_hists[cluster_list].mean(axis=0)\n",
    "    \n",
    "#     surrounds = set([i for i in set.union(*[neighbors[c] for c in cluster]) if i not in cluster and i != -1])\n",
    "#     surrounds_list = list(surrounds)\n",
    "\n",
    "# #     f_avg = texton_freqs[cluster_list].sum(axis=0)\n",
    "    \n",
    "# #     interior_pvals = [chi2pval(f_avg, texton_freqs[i])[0] for i in cluster_list]\n",
    "# #     interior_pval = np.mean(interior_pvals)\n",
    "#     interior_pval = 0\n",
    "\n",
    "# #     surround_pvals = [chi2pval(f_avg, texton_freqs[i])[0] for i in surrounds_list]\n",
    "# #     surround_pval = np.max(surround_pvals)\n",
    "#     surround_pval = 0\n",
    "# #     assert not np.isnan(surround_pval), (cluster_list, surrounds_list[where(np.isnan(surround_pvals))[0]])\n",
    "\n",
    "#     interior_dist = np.squeeze(cdist([cluster_avg], texton_hists[cluster_list], chi2)).mean()\n",
    "#     surround_dist = np.squeeze(cdist([cluster_avg], texton_hists[surrounds_list], chi2)).min()\n",
    "\n",
    "# #     surround_stats = [chi2pval(f_avg, texton_freqs[i])[1] for i in surrounds_list]\n",
    "# #     surround_stat = np.min(surround_stats) \n",
    "    \n",
    "# #     compactness = 0\n",
    "#     compactness = len(find_boundaries([cluster], neighbors=neighbors, mode='surrounds')[0])**2/float(len(cluster))\n",
    "#     compactness = .001 * np.maximum(compactness-40,0)**2\n",
    "    \n",
    "#     size_prior = .1 * (1-np.exp(-.8*len(cluster)))\n",
    "    \n",
    "# #     score = 0. * surround_dist - interior_dist -  .0001 * np.maximum(compactness-50,0)**2\n",
    "# #     score = - surround_pval + interior_pval\n",
    "# #     score = - interior_dist\n",
    "# #     score = surround_dist - 0 * interior_dist - compactness\n",
    "# #     score = - surround_pval - 0 * interior_dist - compactness + size_prior\n",
    "#     score = surround_dist - 0 * interior_dist - compactness + size_prior\n",
    "    \n",
    "# #     return score, surround_pval, interior_pval, compactness\n",
    "#     return score, surround_dist, interior_dist, compactness, surround_pval, interior_pval, size_prior\n",
    "# #     return score, surround_stat, interior_dist, compactness\n"
   ]
  },
  {
   "cell_type": "code",
   "execution_count": 48,
   "metadata": {
    "collapsed": false
   },
   "outputs": [],
   "source": [
    "def grow_cluster3(seed, neighbors=neighbors, texton_hists=texton_hists, output=False, all_history=False):\n",
    "            \n",
    "    visited = set([])\n",
    "    curr_cluster = set([])\n",
    "        \n",
    "    candidate_scores = [0]\n",
    "    candidate_sps = [seed]\n",
    "\n",
    "    score_tuples = []\n",
    "    added_sps = []\n",
    "    \n",
    "    iter_ind = 0\n",
    "        \n",
    "    while len(candidate_sps) > 0:\n",
    "\n",
    "        best_ind = np.argmax(candidate_scores)\n",
    "        \n",
    "        heuristic = candidate_scores[best_ind]\n",
    "        sp = candidate_sps[best_ind]\n",
    "        \n",
    "        del candidate_scores[best_ind]\n",
    "        del candidate_sps[best_ind]\n",
    "        \n",
    "        if sp in curr_cluster:\n",
    "            continue\n",
    "                \n",
    "        iter_ind += 1\n",
    "        curr_cluster.add(sp)\n",
    "        added_sps.append(sp)\n",
    "        \n",
    "        tt = compute_cluster_score(curr_cluster, neighbors=neighbors, texton_hists=texton_hists)\n",
    "        tot, exterior, interior, compactness, surround_pval, interior_pval, size_prior = tt\n",
    "        if np.isnan(tot):\n",
    "            return [seed], -np.inf\n",
    "        score_tuples.append(np.r_[heuristic, tt])\n",
    "        \n",
    "        if output:\n",
    "            print 'iter', iter_ind, 'add', sp\n",
    "\n",
    "        visited.add(sp)\n",
    "        \n",
    "        candidate_sps = (set(candidate_sps) | (neighbors[sp] - set([-1])) | (visited - curr_cluster)) - curr_cluster\n",
    "        candidate_sps = list(candidate_sps)\n",
    "        \n",
    "#         f_avg = texton_freqs[list(curr_cluster)].sum(axis=0)\n",
    "#         candidate_scores = [chi2pval(f_avg, texton_freqs[i])[0] for i in candidate_sps]\n",
    "\n",
    "        h_avg = texton_hists[list(curr_cluster)].mean(axis=0)\n",
    "        candidate_scores = [-chi2(h_avg, texton_hists[i]) for i in candidate_sps]\n",
    "\n",
    "#         candidate_scores = [compute_cluster_score(curr_cluster | set([s])) for s in candidate_sps]\n",
    "                \n",
    "        if len(visited) > int(n_superpixels * 0.03):\n",
    "            break\n",
    "\n",
    "    score_tuples = np.array(score_tuples)\n",
    "    \n",
    "    min_size = 2\n",
    "    scores = score_tuples[:,1]\n",
    "    cutoff = np.argmax(scores[min_size:]) + min_size\n",
    "    \n",
    "    if output:\n",
    "        print 'cutoff', cutoff\n",
    "\n",
    "    final_cluster = added_sps[:cutoff]\n",
    "    final_score = scores[cutoff]\n",
    "    \n",
    "    if all_history:\n",
    "        return list(final_cluster), final_score, added_sps, score_tuples\n",
    "    else:\n",
    "        return list(final_cluster), final_score"
   ]
  },
  {
   "cell_type": "code",
   "execution_count": null,
   "metadata": {
    "collapsed": false,
    "scrolled": true
   },
   "outputs": [],
   "source": [
    "%prun final_cluster, final_score = grow_cluster3(2783, neighbors=neighbors, texton_hists=texton_hists)"
   ]
  },
  {
   "cell_type": "code",
   "execution_count": null,
   "metadata": {
    "collapsed": false
   },
   "outputs": [],
   "source": [
    "display(dm.visualize_cluster(final_cluster, text=True))"
   ]
  },
  {
   "cell_type": "code",
   "execution_count": null,
   "metadata": {
    "collapsed": false
   },
   "outputs": [],
   "source": [
    "# Plot the score evolution during region growing\n",
    "\n",
    "final_cluster, final_score, added_sps, score_tuples = grow_cluster3(2783, neighbors=neighbors, \n",
    "                                                        texton_hists=texton_hists, output=False, all_history=True)\n",
    "\n",
    "print 'final_score', final_score\n",
    "print 'cutoff', score_tuples[:,1].argmax()\n",
    "\n",
    "fig, axes = plt.subplots(4,1, figsize=(10,10), sharex=True)\n",
    "# axes[0].plot(score_tuples[:,0])\n",
    "# axes[0].set_title('heuristic')\n",
    "axes[0].plot(score_tuples[:,1])\n",
    "axes[0].set_title('total sig')\n",
    "axes[1].plot(score_tuples[:,2])\n",
    "axes[1].set_title('min chi-square contrast')\n",
    "axes[2].plot(score_tuples[:,3])\n",
    "axes[2].set_title('mean chi-square incoherence')\n",
    "axes[3].plot(score_tuples[:,4])\n",
    "axes[3].set_title('compactness')\n",
    "# axes[5].plot(score_tuples[:,5])\n",
    "# axes[5].set_title('max exterior p-value')\n",
    "# axes[6].plot(score_tuples[:,6])\n",
    "# axes[6].set_title('mean interior p-value')\n",
    "# axes[7].plot(score_tuples[:,7])\n",
    "# axes[7].set_title('size_prior')\n",
    "\n",
    "# fig, axes = plt.subplots(8,1, figsize=(10,10), sharex=True)\n",
    "# axes[0].plot(score_tuples[:,0])\n",
    "# axes[0].set_title('heuristic')\n",
    "# axes[1].plot(score_tuples[:,1])\n",
    "# axes[1].set_title('total sig')\n",
    "# axes[2].plot(score_tuples[:,2])\n",
    "# axes[2].set_title('min chi-square contrast')\n",
    "# axes[3].plot(score_tuples[:,3])\n",
    "# axes[3].set_title('mean chi-square incoherence')\n",
    "# axes[4].plot(score_tuples[:,4])\n",
    "# axes[4].set_title('compactness')\n",
    "# axes[5].plot(score_tuples[:,5])\n",
    "# axes[5].set_title('max exterior p-value')\n",
    "# axes[6].plot(score_tuples[:,6])\n",
    "# axes[6].set_title('mean interior p-value')\n",
    "# axes[7].plot(score_tuples[:,7])\n",
    "# axes[7].set_title('size_prior')\n",
    "\n",
    "plt.tight_layout()\n",
    "plt.show()"
   ]
  },
  {
   "cell_type": "code",
   "execution_count": 49,
   "metadata": {
    "collapsed": false
   },
   "outputs": [],
   "source": [
    "from scipy.stats import chisquare, chisqprob\n",
    "vars = np.var(texton_freqs, axis=0)\n",
    "\n",
    "def chi2pval(O1, O2):\n",
    "    n1 = O1.sum()\n",
    "    n2 = O2.sum()\n",
    "    n = n1 + n2\n",
    "    nc = O1 + O2\n",
    "    E1 = n1/n*nc\n",
    "    E2 = n2/n*nc\n",
    "    v = np.nonzero((O1 > 0) &  (O2 > 0) & (vars > 0))[0]\n",
    "    if len(v) == 0:\n",
    "        return 1e-6, np.nan\n",
    "    dof = max(len(v)-1, 1)\n",
    "    q = np.sum((O1[v]-E1[v])**2/vars[v]+(O2[v]-E2[v])**2/vars[v])\n",
    "    return chisqprob(q, dof), q"
   ]
  },
  {
   "cell_type": "code",
   "execution_count": 51,
   "metadata": {
    "collapsed": false
   },
   "outputs": [],
   "source": [
    "try:\n",
    "    expansion_clusters_tuples = dm.load_pipeline_result('clusters', 'pkl')\n",
    "#     raise\n",
    "except Exception as e:\n",
    "\n",
    "    import time\n",
    "    b = time.time()\n",
    "\n",
    "    expansion_clusters_tuples = Parallel(n_jobs=16)(delayed(grow_cluster3)(s) for s in range(n_superpixels))\n",
    "\n",
    "#     expansion_clusters_tuples = []\n",
    "#     for s in range(n_superpixels):\n",
    "#         print s\n",
    "#         ect = grow_cluster3(s)\n",
    "#         expansion_clusters_tuples.append(ect)\n",
    "    \n",
    "    print time.time() - b\n",
    "\n",
    "    dm.save_pipeline_result(expansion_clusters_tuples, 'clusters', 'pkl')"
   ]
  },
  {
   "cell_type": "code",
   "execution_count": 52,
   "metadata": {
    "collapsed": false
   },
   "outputs": [],
   "source": [
    "# expansion_clusters_tuples = dm.load_pipeline_result('clusters', 'pkl')\n",
    "expansion_clusters, expansion_cluster_scores = zip(*expansion_clusters_tuples)\n",
    "expansion_cluster_scores = np.array(expansion_cluster_scores)"
   ]
  },
  {
   "cell_type": "markdown",
   "metadata": {},
   "source": [
    "# Region Clustering Experiments"
   ]
  },
  {
   "cell_type": "code",
   "execution_count": 53,
   "metadata": {
    "collapsed": false
   },
   "outputs": [],
   "source": [
    "def compute_overlap(c1, c2):\n",
    "    return float(len(c1 & c2)) / min(len(c1),len(c2))\n",
    "\n",
    "def compute_overlap2(c1, c2):\n",
    "    return float(len(c1 & c2)) / len(c1 | c2)    \n",
    "\n",
    "def compute_overlap_partial(indices, sets, metric=1):\n",
    "    n_sets = len(sets)\n",
    "    \n",
    "    overlap_matrix = np.zeros((len(indices), n_sets))\n",
    "        \n",
    "    for ii, i in enumerate(indices):\n",
    "        for j in range(n_sets):\n",
    "            c1 = set(sets[i])\n",
    "            c2 = set(sets[j])\n",
    "            if len(c1) == 0 or len(c2) == 0:\n",
    "                overlap_matrix[ii, j] = 0\n",
    "            else:\n",
    "                if metric == 1:\n",
    "                    overlap_matrix[ii, j] = compute_overlap(c1, c2)\n",
    "                elif metric == 2:\n",
    "                    overlap_matrix[ii, j] = compute_overlap2(c1, c2)\n",
    "            \n",
    "    return overlap_matrix\n",
    "\n",
    "def set_pairwise_distances(sets, metric):\n",
    "\n",
    "    partial_overlap_mat = Parallel(n_jobs=16, max_nbytes=1e6)(delayed(compute_overlap_partial)(s, sets, metric=metric) \n",
    "                                        for s in np.array_split(range(len(sets)), 16))\n",
    "    overlap_matrix = np.vstack(partial_overlap_mat)\n",
    "    distance_matrix = 1 - overlap_matrix\n",
    "    \n",
    "    np.fill_diagonal(distance_matrix, 0)\n",
    "    \n",
    "    return distance_matrix\n",
    "\n",
    "def group_clusters(clusters=None, dist_thresh = 0.1, distance_matrix=None, metric=1):\n",
    "\n",
    "    if distance_matrix is None:\n",
    "        assert clusters is not None\n",
    "        distance_matrix = set_pairwise_distances(clusters, metric)\n",
    "        \n",
    "    lk = average(squareform(distance_matrix))\n",
    "#     lk = single(squareform(distance_matrix))\n",
    "\n",
    "    # T = fcluster(lk, 1.15, criterion='inconsistent')\n",
    "    T = fcluster(lk, dist_thresh, criterion='distance')\n",
    "\n",
    "    n_groups = len(set(T))    \n",
    "    groups = [None] * n_groups\n",
    "\n",
    "    for group_id in range(n_groups):\n",
    "        groups[group_id] = np.where(T == group_id+1)[0]\n",
    "        \n",
    "    return [g for g in groups if len(g) > 0]"
   ]
  },
  {
   "cell_type": "code",
   "execution_count": 54,
   "metadata": {
    "collapsed": false
   },
   "outputs": [],
   "source": [
    "try:\n",
    "    D = dm.load_pipeline_result('clusterPairwiseDist', 'npy')\n",
    "#     raise\n",
    "except:\n",
    "    D = set_pairwise_distances(expansion_clusters, metric=2)\n",
    "    dm.save_pipeline_result(D, 'clusterPairwiseDist', 'npy')"
   ]
  },
  {
   "cell_type": "code",
   "execution_count": 55,
   "metadata": {
    "collapsed": false
   },
   "outputs": [
    {
     "name": "stdout",
     "output_type": "stream",
     "text": [
      "523 expansion cluster groups\n"
     ]
    }
   ],
   "source": [
    "try:\n",
    "    expansion_cluster_groups = dm.load_pipeline_result('clusterGroups', 'pkl')\n",
    "#     raise\n",
    "except:\n",
    "    \n",
    "    import time\n",
    "    t = time.time()\n",
    "    expansion_cluster_groups = group_clusters(expansion_clusters, dist_thresh=.8, distance_matrix=D)\n",
    "    dm.save_pipeline_result(expansion_cluster_groups, 'clusterGroups', 'pkl')\n",
    "\n",
    "    print time.time() - t\n",
    "    \n",
    "print len(expansion_cluster_groups), 'expansion cluster groups'\n",
    "expansion_cluster_group_sizes = np.array(map(len, expansion_cluster_groups))"
   ]
  },
  {
   "cell_type": "code",
   "execution_count": 61,
   "metadata": {
    "collapsed": false
   },
   "outputs": [
    {
     "data": {
      "image/png": "[encoded data removed]",
      "text/plain": [
       "<matplotlib.figure.Figure at 0x4721ad0>"
      ]
     },
     "metadata": {},
     "output_type": "display_data"
    }
   ],
   "source": [
    "plt.hist(expansion_cluster_group_sizes, bins=100);\n",
    "plt.xlabel('group size');\n",
    "plt.title('number of expansion cluster groups with different sizes');"
   ]
  },
  {
   "cell_type": "code",
   "execution_count": 62,
   "metadata": {
    "collapsed": false
   },
   "outputs": [
    {
     "name": "stdout",
     "output_type": "stream",
     "text": [
      "162 big cluster groups\n"
     ]
    }
   ],
   "source": [
    "big_group_indices = np.where(expansion_cluster_group_sizes > 5)[0]\n",
    "n_big_groups = len(big_group_indices)\n",
    "print n_big_groups, 'big cluster groups'\n",
    "big_groups = [expansion_cluster_groups[i] for i in big_group_indices]\n",
    "\n",
    "# representative_cluster_indices = [g[np.argmax(expansion_cluster_scores[g])] for g in big_groups]\n",
    "# representative_cluster_scores = [expansion_cluster_scores[ind] for ind in representative_cluster_indices]\n",
    "\n",
    "# representative_cluster_scores_sorted, representative_cluster_indices_sorted_by_score, big_groups_sorted_by_score = map(list, \n",
    "#                                                                 zip(*sorted(zip(representative_cluster_scores, \n",
    "#                                                                     representative_cluster_indices,\n",
    "#                                                                     big_groups), reverse=True)))\n",
    "\n",
    "# representative_clusters_sorted_by_score = [expansion_clusters[i] for i in representative_cluster_indices_sorted_by_score]"
   ]
  },
  {
   "cell_type": "code",
   "execution_count": 63,
   "metadata": {
    "collapsed": false
   },
   "outputs": [
    {
     "name": "stdout",
     "output_type": "stream",
     "text": [
      "64 representative clusters\n"
     ]
    }
   ],
   "source": [
    "from collections import Counter\n",
    "\n",
    "representative_clusters = []\n",
    "representative_cluster_scores = []\n",
    "representative_cluster_indices = []\n",
    "\n",
    "big_groups_valid = []\n",
    "\n",
    "for gi, g in enumerate(big_groups):\n",
    "#     counter = Counter([frozenset(expansion_clusters[s]) for s in g])\n",
    "#     representative_cluster = counter.keys()[np.argmax(counter.values())]\n",
    "#     representative_clusters.append(representative_cluster)\n",
    "        \n",
    "#     cluster_indices_sorted_by_score = g[np.argsort(expansion_cluster_scores[g])[-1]]\n",
    "    \n",
    "    # Choose the highest scoring expansion cluster among each group as the representatitve\n",
    "    for i in np.argsort(expansion_cluster_scores[g])[::-1]:\n",
    "        c = expansion_clusters[g[i]]\n",
    "        sc = expansion_cluster_scores[g[i]]\n",
    "        if len(c) > n_superpixels * .004:\n",
    "            # threshold on region size, must have more than certain number of sp. (roughly 16 for 4,000 sps)\n",
    "            # this may exclude some small but salient regions\n",
    "            representative_clusters.append(c)\n",
    "            representative_cluster_indices.append(g[i])\n",
    "            representative_cluster_scores.append(sc)\n",
    "            big_groups_valid.append(g)\n",
    "            break\n",
    "    \n",
    "            \n",
    "#     score_counter = Counter(expansion_cluster_scores[g])\n",
    "#     representative_cluster_score = score_counter.keys()[np.argmax(score_counter.values())]\n",
    "#     representative_cluster_scores.append(representative_cluster_score)\n",
    "    \n",
    "# Note that representative_clusters and big_groups have different number of elements\n",
    "    \n",
    "print len(representative_clusters), 'representative clusters'\n",
    "    \n",
    "representative_cluster_scores_sorted, representative_clusters_sorted_by_score, \\\n",
    "representative_cluster_indices_sorted_by_score, \\\n",
    "big_groups_sorted_by_score = map(list, zip(*sorted(zip(representative_cluster_scores, \n",
    "                                                        representative_clusters,\n",
    "                                                        representative_cluster_indices,\n",
    "                                                        big_groups_valid), reverse=True)))"
   ]
  },
  {
   "cell_type": "code",
   "execution_count": 68,
   "metadata": {
    "collapsed": false
   },
   "outputs": [
    {
     "name": "stdout",
     "output_type": "stream",
     "text": [
      "33\n"
     ]
    }
   ],
   "source": [
    "for i, e in enumerate(representative_clusters_sorted_by_score):\n",
    "    if 2355 in e:\n",
    "        print i"
   ]
  },
  {
   "cell_type": "code",
   "execution_count": 66,
   "metadata": {
    "collapsed": false,
    "scrolled": true
   },
   "outputs": [
    {
     "data": {
      "text/html": [
       "<a href='tmp.jpg' target='_blank'>tmp.jpg</a><br>"
      ],
      "text/plain": [
       "/oasis/projects/nsf/csd181/yuncong/Brain/notebooks/tmp.jpg"
      ]
     },
     "execution_count": 66,
     "metadata": {},
     "output_type": "execute_result"
    }
   ],
   "source": [
    "display(dm.visualize_multiple_clusters(representative_clusters_sorted_by_score[40:50]))"
   ]
  },
  {
   "cell_type": "code",
   "execution_count": 52,
   "metadata": {
    "collapsed": false
   },
   "outputs": [
    {
     "name": "stdout",
     "output_type": "stream",
     "text": [
      "saved /home/yuncong/project/DavidData2014results/RS141/0007/RS141_x5_0007_gabor-blueNisslWide-segm-blueNisslRegular-vq-blueNissl_representativeClusters.pkl\n"
     ]
    }
   ],
   "source": [
    "representative_clusters = zip(representative_cluster_scores_sorted, representative_clusters_sorted_by_score, \n",
    "                   representative_cluster_indices_sorted_by_score, \n",
    "                   big_groups_sorted_by_score)\n",
    "\n",
    "dm.save_pipeline_result(representative_clusters, 'representativeClusters', 'pkl')"
   ]
  },
  {
   "cell_type": "code",
   "execution_count": 50,
   "metadata": {
    "collapsed": false
   },
   "outputs": [],
   "source": [
    "final_clusters_sorted_by_score = representative_clusters_sorted_by_score[:50]\n",
    "final_cluster_scores_sorted = representative_cluster_scores_sorted[:50]\n",
    "final_cluster_indices_sorted_by_score = representative_cluster_indices_sorted_by_score[:50]"
   ]
  },
  {
   "cell_type": "code",
   "execution_count": null,
   "metadata": {
    "collapsed": false
   },
   "outputs": [],
   "source": [
    "final_clusters_sorted_by_score = []\n",
    "final_cluster_scores_sorted = []\n",
    "final_cluster_indices_sorted_by_score = []\n",
    "\n",
    "covered = set([])\n",
    "\n",
    "for c, s, i in zip(representative_clusters_sorted_by_score, \n",
    "                   representative_cluster_scores_sorted, \n",
    "                   representative_cluster_indices_sorted_by_score)[:40]:\n",
    "        \n",
    "    if len(covered & set(c)) > 15:\n",
    "        print i, 'overlaps %d superpixels with previously selected regions' % len(covered & set(c))\n",
    "        continue\n",
    "\n",
    "    covered |= set(c)\n",
    "    final_clusters_sorted_by_score.append(c)\n",
    "    final_cluster_scores_sorted.append(s)\n",
    "    final_cluster_indices_sorted_by_score.append(i)"
   ]
  },
  {
   "cell_type": "code",
   "execution_count": 51,
   "metadata": {
    "collapsed": false
   },
   "outputs": [
    {
     "name": "stdout",
     "output_type": "stream",
     "text": [
      "saved /home/yuncong/project/DavidData2014results/RS141/0007/RS141_x5_0007_gabor-blueNisslWide-segm-blueNisslRegular-vq-blueNissl_regionsTop10.jpg\n",
      "saved /home/yuncong/project/DavidData2014results/RS141/0007/RS141_x5_0007_gabor-blueNisslWide-segm-blueNisslRegular-vq-blueNissl_regionsTop20.jpg\n",
      "saved /home/yuncong/project/DavidData2014results/RS141/0007/RS141_x5_0007_gabor-blueNisslWide-segm-blueNisslRegular-vq-blueNissl_regionsTop30.jpg\n",
      "saved /home/yuncong/project/DavidData2014results/RS141/0007/RS141_x5_0007_gabor-blueNisslWide-segm-blueNisslRegular-vq-blueNissl_regionsTop40.jpg\n",
      "saved /home/yuncong/project/DavidData2014results/RS141/0007/RS141_x5_0007_gabor-blueNisslWide-segm-blueNisslRegular-vq-blueNissl_regionsTop10to20.jpg\n",
      "saved /home/yuncong/project/DavidData2014results/RS141/0007/RS141_x5_0007_gabor-blueNisslWide-segm-blueNisslRegular-vq-blueNissl_regionsTop20to30.jpg\n",
      "saved /home/yuncong/project/DavidData2014results/RS141/0007/RS141_x5_0007_gabor-blueNisslWide-segm-blueNisslRegular-vq-blueNissl_regionsTop30to40.jpg\n",
      "saved /home/yuncong/project/DavidData2014results/RS141/0007/RS141_x5_0007_gabor-blueNisslWide-segm-blueNisslRegular-vq-blueNissl_regionsTop40toX.jpg\n"
     ]
    }
   ],
   "source": [
    "vis = visualize_multiple_clusters(final_clusters_sorted_by_score[:10], segmentation=segmentation, segmentation_vis=segmentation_vis)\n",
    "dm.save_pipeline_result( vis, 'regionsTop10' , 'jpg')\n",
    "\n",
    "vis = visualize_multiple_clusters(final_clusters_sorted_by_score[:20], segmentation=segmentation, segmentation_vis=segmentation_vis)\n",
    "dm.save_pipeline_result( vis, 'regionsTop20' , 'jpg')\n",
    "\n",
    "vis = visualize_multiple_clusters(final_clusters_sorted_by_score[:30], segmentation=segmentation, segmentation_vis=segmentation_vis)\n",
    "dm.save_pipeline_result( vis, 'regionsTop30' , 'jpg')\n",
    "\n",
    "vis = visualize_multiple_clusters(final_clusters_sorted_by_score[:40], segmentation=segmentation, segmentation_vis=segmentation_vis)\n",
    "dm.save_pipeline_result( vis, 'regionsTop40' , 'jpg')\n",
    "\n",
    "vis = visualize_multiple_clusters(final_clusters_sorted_by_score[10:20], segmentation=segmentation, segmentation_vis=segmentation_vis)\n",
    "dm.save_pipeline_result( vis, 'regionsTop10to20' , 'jpg')\n",
    "\n",
    "vis = visualize_multiple_clusters(final_clusters_sorted_by_score[20:30], segmentation=segmentation, segmentation_vis=segmentation_vis)\n",
    "dm.save_pipeline_result( vis, 'regionsTop20to30' , 'jpg')\n",
    "\n",
    "vis = visualize_multiple_clusters(final_clusters_sorted_by_score[30:40], segmentation=segmentation, segmentation_vis=segmentation_vis)\n",
    "dm.save_pipeline_result( vis, 'regionsTop30to40' , 'jpg')\n",
    "\n",
    "vis = visualize_multiple_clusters(final_clusters_sorted_by_score[40:], segmentation=segmentation, segmentation_vis=segmentation_vis)\n",
    "dm.save_pipeline_result( vis, 'regionsTop40toX' , 'jpg')\n",
    "\n",
    "\n",
    "#     fig = plt.figure(figsize=(10,10))\n",
    "#     plt.imshow(vis)\n",
    "#     plt.title('sorted group ' + str(i) + ', score ' + str(s))\n",
    "#     plt.axis('off')\n",
    "#     plt.show()"
   ]
  },
  {
   "cell_type": "code",
   "execution_count": null,
   "metadata": {
    "collapsed": false
   },
   "outputs": [],
   "source": [
    "# def SaveFigureAsImage(fileName,fig=None,orig_size=None):\n",
    "\n",
    "#     dpi = fig.get_dpi()\n",
    "#     w,h = orig_size\n",
    "#     fig.set_size_inches([float(w/dpi), float(h/dpi)])\n",
    "\n",
    "#     a=fig.gca()\n",
    "#     a.set_frame_on(False)\n",
    "#     a.set_xticks([]); a.set_yticks([])\n",
    "#     plt.axis('off')\n",
    "#     plt.xlim(0,h); plt.ylim(w,0)\n",
    "#     fig.savefig(fileName, transparent=True, bbox_inches='tight', \\\n",
    "#                         pad_inches=0)\n",
    "    \n",
    "    \n",
    "# def SaveFigureAsImage(fileName,fig=None,**kwargs):\n",
    "#     ''' Save a Matplotlib figure as an image without borders or frames.\n",
    "#        Args:\n",
    "#             fileName (str): String that ends in .png etc.\n",
    "\n",
    "#             fig (Matplotlib figure instance): figure you want to save as the image\n",
    "#         Keyword Args:\n",
    "#             orig_size (tuple): width, height of the original image used to maintain \n",
    "#             aspect ratio.\n",
    "#     '''\n",
    "#     fig_size = fig.get_size_inches()\n",
    "#     dpi = fig.get_dpi()\n",
    "    \n",
    "#     fig.set_size_inches(dpi)\n",
    "    \n",
    "#     w,h = fig_size[0], fig_size[1]\n",
    "#     fig.patch.set_alpha(0)\n",
    "#     if kwargs.has_key('orig_size'): # Aspect ratio scaling if required\n",
    "#         w,h = kwargs['orig_size']\n",
    "#         w2,h2 = fig_size[0],fig_size[1]\n",
    "#         fig.set_size_inches([(w2/w)*w,(w2/w)*h])\n",
    "#         fig.set_dpi((w2/w)*fig.get_dpi())\n",
    "#     a=fig.gca()\n",
    "#     a.set_frame_on(False)\n",
    "#     a.set_xticks([]); a.set_yticks([])\n",
    "#     plt.axis('off')\n",
    "#     plt.xlim(0,h); plt.ylim(w,0)\n",
    "#     fig.savefig(fileName, transparent=True, bbox_inches='tight', \\\n",
    "#                         pad_inches=0)"
   ]
  },
  {
   "cell_type": "code",
   "execution_count": null,
   "metadata": {
    "collapsed": false
   },
   "outputs": [],
   "source": [
    "# colors = (np.loadtxt('../visualization/100colors.txt') * 255).astype(np.int)\n",
    "\n",
    "# def visualize_contours(clusters):\n",
    "\n",
    "#     vis = dm.image_rgb.copy()\n",
    "\n",
    "#     for ci, c in enumerate(clusters):\n",
    "#         q = np.zeros((n_superpixels,))\n",
    "#         q[c] = 1.\n",
    "#         v = q[segmentation]\n",
    "#         contours = find_contours(img_as_float(v), 0.8)\n",
    "#         contour = contours[np.argmax(map(len, contours))]\n",
    "#         contour = np.round(contour[:,::-1].reshape((-1,1,2))).astype(np.int)\n",
    "#         cv2.polylines(vis, [contour], isClosed=True, color=colors[ci%len(colors)], thickness=10) \n",
    "#     #     cv2.polylines(vis, [contour], isClosed=True, color=[237,194,136], thickness=5) \n",
    "\n",
    "#     #     ax.plot(contour[:,1], contour[:,0])\n",
    "\n",
    "#     # fig.savefig('tmp.png', bbox_inches='tight', pad_inches=0)\n",
    "#     # fig.savefig('tmp.png', pad_inches=0)\n",
    "#     # SaveFigureAsImage('tmp.png', fig, orig_size=dm.image.shape[:2])\n",
    "#     # FileLink('tmp.png')\n",
    "#     return vis\n",
    "\n",
    "# # dm.save_pipeline_result(representative_clusters_sorted_by_score, 'goodRegions', 'pkl')\n",
    "\n",
    "# vis = visualize_contours(final_clusters_sorted_by_score[:10])\n",
    "# dm.save_pipeline_result(np.uint8(vis), 'contoursTop10', 'jpg')\n",
    "\n",
    "# vis = visualize_contours(final_clusters_sorted_by_score[10:20])\n",
    "# dm.save_pipeline_result(np.uint8(vis), 'contoursTop10to20', 'jpg')\n",
    "\n",
    "# vis = visualize_contours(final_clusters_sorted_by_score[20:30])\n",
    "# dm.save_pipeline_result(np.uint8(vis), 'contoursTop20to30', 'jpg')\n",
    "\n",
    "# vis = visualize_contours(final_clusters_sorted_by_score[30:])\n",
    "# dm.save_pipeline_result(np.uint8(vis), 'contoursTop30to40', 'jpg')\n",
    "\n",
    "# vis = visualize_contours(final_clusters_sorted_by_score)\n",
    "# dm.save_pipeline_result(np.uint8(vis), 'contoursTopAll', 'jpg')\n",
    "\n",
    "# vis = visualize_contours(final_clusters_sorted_by_score[:20])\n",
    "# dm.save_pipeline_result(np.uint8(vis), 'contoursTop20', 'jpg')\n",
    "\n",
    "# vis = visualize_contours(final_clusters_sorted_by_score[:30])\n",
    "# dm.save_pipeline_result(np.uint8(vis), 'contoursTop30', 'jpg')\n",
    "\n",
    "# vis = visualize_contours(final_clusters_sorted_by_score[:40])\n",
    "# dm.save_pipeline_result(np.uint8(vis), 'contoursTop40', 'jpg')"
   ]
  },
  {
   "cell_type": "code",
   "execution_count": null,
   "metadata": {
    "collapsed": false
   },
   "outputs": [],
   "source": [
    "# display(visualize_contours(representative_clusters_sorted_by_score[10:20]))"
   ]
  }
 ],
 "metadata": {
  "kernelspec": {
   "display_name": "Python 2",
   "language": "python",
   "name": "python2"
  },
  "language_info": {
   "codemirror_mode": {
    "name": "ipython",
    "version": 2
   },
   "file_extension": ".py",
   "mimetype": "text/x-python",
   "name": "python",
   "nbconvert_exporter": "python",
   "pygments_lexer": "ipython2",
   "version": "2.7.3"
  }
 },
 "nbformat": 4,
 "nbformat_minor": 0
}
