{
 "metadata": {
  "name": "",
  "signature": "sha256:b785723e6e86eb878e8ef937f1af6e307099446c58043eb4fff89b81254103f7"
 },
 "nbformat": 3,
 "nbformat_minor": 0,
 "worksheets": [
  {
   "cells": [
    {
     "cell_type": "code",
     "collapsed": false,
     "input": [
      "%reload_ext autoreload\n",
      "%autoreload 2"
     ],
     "language": "python",
     "metadata": {},
     "outputs": [],
     "prompt_number": 1
    },
    {
     "cell_type": "code",
     "collapsed": false,
     "input": [
      "import sys\n",
      "sys.path.append('/home/yuncong/Brain/pipeline_scripts')\n",
      "from utilities2014 import *\n",
      "import os\n",
      "\n",
      "from scipy.spatial.distance import cdist, pdist, squareform\n",
      "from joblib import Parallel, delayed\n",
      "from skimage.color import gray2rgb\n",
      "\n",
      "from skimage.measure import find_contours\n",
      "import cv2\n",
      "from skimage.util import img_as_float\n",
      "\n",
      "from networkx import from_dict_of_lists, Graph, adjacency_matrix\n",
      "from networkx.algorithms import node_connected_component\n",
      "\n",
      "%run grow_regions_common.ipynb\n",
      "\n",
      "os.environ['GORDON_DATA_DIR'] = '/home/yuncong/project/DavidData2014tif/'\n",
      "os.environ['GORDON_REPO_DIR'] = '/home/yuncong/Brain'\n",
      "os.environ['GORDON_RESULT_DIR'] = '/home/yuncong/project/DavidData2014results/'\n",
      "os.environ['GORDON_LABELING_DIR'] = '/home/yuncong/project/DavidData2014labelings/'\n",
      "\n",
      "dm = DataManager(data_dir=os.environ['GORDON_DATA_DIR'], \n",
      "  repo_dir=os.environ['GORDON_REPO_DIR'], \n",
      "  result_dir=os.environ['GORDON_RESULT_DIR'], \n",
      "  labeling_dir=os.environ['GORDON_LABELING_DIR'])\n",
      "\n",
      "dm.set_stack('RS141')\n",
      "dm.set_resol('x5')\n",
      "dm.set_gabor_params(gabor_params_id='blueNisslWide')\n",
      "dm.set_segmentation_params(segm_params_id='blueNisslRegular')\n",
      "dm.set_vq_params(vq_params_id='blueNissl')"
     ],
     "language": "python",
     "metadata": {},
     "outputs": [],
     "prompt_number": 2
    },
    {
     "cell_type": "code",
     "collapsed": false,
     "input": [
      "dm.set_slice(7)\n",
      "dm._load_image()\n",
      "\n",
      "texton_hists = dm.load_pipeline_result('texHist', 'npy')\n",
      "segmentation = dm.load_pipeline_result('segmentation', 'npy')\n",
      "n_superpixels = len(unique(segmentation)) - 1\n",
      "textonmap = dm.load_pipeline_result('texMap', 'npy')\n",
      "n_texton = len(np.unique(textonmap)) - 1\n",
      "neighbors = dm.load_pipeline_result('neighbors', 'npy')\n",
      "sp_properties = dm.load_pipeline_result('spProps', 'npy')\n",
      "segmentation_vis = dm.load_pipeline_result('segmentationWithoutText', 'jpg')"
     ],
     "language": "python",
     "metadata": {},
     "outputs": [
      {
       "output_type": "stream",
       "stream": "stdout",
       "text": [
        "loaded /home/yuncong/project/DavidData2014results/RS141/0007/RS141_x5_0007_gabor-blueNisslWide-segm-blueNisslRegular-vq-blueNissl_texHist.npy\n",
        "loaded /home/yuncong/project/DavidData2014results/RS141/0007/RS141_x5_0007_segm-blueNisslRegular_segmentation.npy\n",
        "loaded /home/yuncong/project/DavidData2014results/RS141/0007/RS141_x5_0007_gabor-blueNisslWide-vq-blueNissl_texMap.npy"
       ]
      },
      {
       "output_type": "stream",
       "stream": "stdout",
       "text": [
        "\n",
        "loaded /home/yuncong/project/DavidData2014results/RS141/0007/RS141_x5_0007_segm-blueNisslRegular_neighbors.npy"
       ]
      },
      {
       "output_type": "stream",
       "stream": "stdout",
       "text": [
        "\n",
        "loaded /home/yuncong/project/DavidData2014results/RS141/0007/RS141_x5_0007_segm-blueNisslRegular_spProps.npy"
       ]
      },
      {
       "output_type": "stream",
       "stream": "stdout",
       "text": [
        "\n",
        "loaded /home/yuncong/project/DavidData2014results/RS141/0007/RS141_x5_0007_segm-blueNisslRegular_segmentationWithoutText.jpg"
       ]
      },
      {
       "output_type": "stream",
       "stream": "stdout",
       "text": [
        "\n"
       ]
      }
     ],
     "prompt_number": 3
    },
    {
     "cell_type": "code",
     "collapsed": false,
     "input": [
      "try:\n",
      "    sp_sp_dists = dm.load_pipeline_result('texHistPairwiseDist', 'npy')\n",
      "#     raise\n",
      "except:\n",
      "    def f(a):\n",
      "        sp_dists = cdist(a, texton_hists, metric=chi2)\n",
      "#         sp_dists = cdist(a, texton_hists, metric=js)\n",
      "        return sp_dists\n",
      "\n",
      "    sp_dists = Parallel(n_jobs=16)(delayed(f)(s) for s in np.array_split(texton_hists, 16))\n",
      "    sp_sp_dists = np.vstack(sp_dists)\n",
      "    \n",
      "    dm.save_pipeline_result(sp_sp_dists, 'texHistPairwiseDist', 'npy')\n",
      "\n",
      "center_dists = pdist(sp_properties[:, :2])\n",
      "center_dist_matrix = squareform(center_dists)\n",
      "\n",
      "neighbors_dict = dict(zip(np.arange(n_superpixels), [list(i) for i in neighbors]))\n",
      "neighbor_graph = from_dict_of_lists(neighbors_dict)"
     ],
     "language": "python",
     "metadata": {},
     "outputs": [
      {
       "output_type": "stream",
       "stream": "stdout",
       "text": [
        "loaded /home/yuncong/project/DavidData2014results/RS141/0007/RS141_x5_0007_gabor-blueNisslWide-segm-blueNisslRegular-vq-blueNissl_texHistPairwiseDist.npy\n"
       ]
      }
     ],
     "prompt_number": 4
    },
    {
     "cell_type": "code",
     "collapsed": false,
     "input": [
      "texton_freqs = texton_hists * sp_properties[:,2][:, np.newaxis]"
     ],
     "language": "python",
     "metadata": {},
     "outputs": [],
     "prompt_number": 5
    },
    {
     "cell_type": "code",
     "collapsed": false,
     "input": [
      "# size prior\n",
      "x = np.arange(0,100,1)\n",
      "plt.plot(.1 * (1-np.exp(-.8*x)));\n",
      "plt.xlabel('region size');"
     ],
     "language": "python",
     "metadata": {},
     "outputs": []
    },
    {
     "cell_type": "code",
     "collapsed": false,
     "input": [
      "# compactness penalty\n",
      "x = np.linspace(0,100,100)\n",
      "y = np.maximum(x-50,0)**2\n",
      "plt.plot(x,y);\n",
      "plt.xlabel('compactness coefficient');"
     ],
     "language": "python",
     "metadata": {},
     "outputs": []
    },
    {
     "cell_type": "code",
     "collapsed": false,
     "input": [
      "def compute_cluster_score(cluster, texton_hists=texton_hists, neighbors=neighbors, output=False):\n",
      "    \n",
      "    cluster_list = list(cluster)    \n",
      "    cluster_avg = texton_hists[cluster_list].mean(axis=0)\n",
      "    \n",
      "    surrounds = set([i for i in set.union(*[neighbors[c] for c in cluster]) if i not in cluster and i != -1])\n",
      "    surrounds_list = list(surrounds)\n",
      "\n",
      "#     f_avg = texton_freqs[cluster_list].sum(axis=0)\n",
      "    \n",
      "#     interior_pvals = [chi2pval(f_avg, texton_freqs[i])[0] for i in cluster_list]\n",
      "#     interior_pval = np.mean(interior_pvals)\n",
      "    interior_pval = 0\n",
      "\n",
      "#     surround_pvals = [chi2pval(f_avg, texton_freqs[i])[0] for i in surrounds_list]\n",
      "#     surround_pval = np.max(surround_pvals)\n",
      "    surround_pval = 0\n",
      "#     assert not np.isnan(surround_pval), (cluster_list, surrounds_list[where(np.isnan(surround_pvals))[0]])\n",
      "\n",
      "    interior_dist = np.squeeze(cdist([cluster_avg], texton_hists[cluster_list], chi2)).mean()\n",
      "    surround_dist = np.squeeze(cdist([cluster_avg], texton_hists[surrounds_list], chi2)).min()\n",
      "\n",
      "#     surround_stats = [chi2pval(f_avg, texton_freqs[i])[1] for i in surrounds_list]\n",
      "#     surround_stat = np.min(surround_stats) \n",
      "    \n",
      "#     compactness = 0\n",
      "    compactness = len(find_boundaries([cluster], neighbors=neighbors, mode='surrounds')[0])**2/float(len(cluster))\n",
      "    compactness = .001 * np.maximum(compactness-40,0)**2\n",
      "    \n",
      "    size_prior = .1 * (1-np.exp(-.8*len(cluster)))\n",
      "    \n",
      "#     score = 0. * surround_dist - interior_dist -  .0001 * np.maximum(compactness-50,0)**2\n",
      "#     score = - surround_pval + interior_pval\n",
      "#     score = - interior_dist\n",
      "#     score = surround_dist - 0 * interior_dist - compactness\n",
      "#     score = - surround_pval - 0 * interior_dist - compactness + size_prior\n",
      "    score = surround_dist - 0 * interior_dist - compactness + size_prior\n",
      "    \n",
      "#     return score, surround_pval, interior_pval, compactness\n",
      "    return score, surround_dist, interior_dist, compactness, surround_pval, interior_pval, size_prior\n",
      "#     return score, surround_stat, interior_dist, compactness\n"
     ],
     "language": "python",
     "metadata": {},
     "outputs": [],
     "prompt_number": 6
    },
    {
     "cell_type": "code",
     "collapsed": false,
     "input": [
      "def grow_cluster3(seed, neighbors=neighbors, texton_hists=texton_hists, output=False, all_history=False):\n",
      "            \n",
      "    visited = set([])\n",
      "    curr_cluster = set([])\n",
      "        \n",
      "    candidate_scores = [0]\n",
      "    candidate_sps = [seed]\n",
      "\n",
      "    score_tuples = []\n",
      "    added_sps = []\n",
      "    \n",
      "    iter_ind = 0\n",
      "        \n",
      "    while len(candidate_sps) > 0:\n",
      "\n",
      "        best_ind = np.argmax(candidate_scores)\n",
      "        \n",
      "        heuristic = candidate_scores[best_ind]\n",
      "        sp = candidate_sps[best_ind]\n",
      "        \n",
      "        del candidate_scores[best_ind]\n",
      "        del candidate_sps[best_ind]\n",
      "        \n",
      "        if sp in curr_cluster:\n",
      "            continue\n",
      "                \n",
      "        iter_ind += 1\n",
      "        curr_cluster.add(sp)\n",
      "        added_sps.append(sp)\n",
      "        \n",
      "        tt = compute_cluster_score(curr_cluster)\n",
      "        tot, exterior, interior, compactness, surround_pval, interior_pval, size_prior = tt\n",
      "        score_tuples.append(np.r_[heuristic, tt])\n",
      "        \n",
      "        if output:\n",
      "            print 'iter', iter_ind, 'add', sp\n",
      "\n",
      "        visited.add(sp)\n",
      "        \n",
      "        candidate_sps = (set(candidate_sps) | (neighbors[sp] - set([-1])) | (visited - curr_cluster)) - curr_cluster\n",
      "        candidate_sps = list(candidate_sps)\n",
      "        \n",
      "#         f_avg = texton_freqs[list(curr_cluster)].sum(axis=0)\n",
      "#         candidate_scores = [chi2pval(f_avg, texton_freqs[i])[0] for i in candidate_sps]\n",
      "\n",
      "        h_avg = texton_hists[list(curr_cluster)].mean(axis=0)\n",
      "        candidate_scores = [-chi2(h_avg, texton_hists[i]) for i in candidate_sps]\n",
      "\n",
      "#         candidate_scores = [compute_cluster_score(curr_cluster | set([s])) for s in candidate_sps]\n",
      "                \n",
      "        if len(visited) > int(n_superpixels * 0.03):\n",
      "            break\n",
      "\n",
      "    score_tuples = np.array(score_tuples)\n",
      "    \n",
      "    min_size = 2\n",
      "    scores = score_tuples[:,1]\n",
      "    cutoff = np.argmax(scores[min_size:]) + min_size\n",
      "    \n",
      "    if output:\n",
      "        print 'cutoff', cutoff\n",
      "\n",
      "    final_cluster = added_sps[:cutoff]\n",
      "    final_score = scores[cutoff]\n",
      "    \n",
      "    if all_history:\n",
      "        return list(final_cluster), final_score, added_sps, score_tuples\n",
      "    else:\n",
      "        return list(final_cluster), final_score"
     ],
     "language": "python",
     "metadata": {},
     "outputs": [],
     "prompt_number": 7
    },
    {
     "cell_type": "code",
     "collapsed": false,
     "input": [
      "%prun final_cluster, final_score = grow_cluster3(3303, neighbors=neighbors, texton_hists=texton_hists, output=False)"
     ],
     "language": "python",
     "metadata": {},
     "outputs": [
      {
       "output_type": "stream",
       "stream": "stdout",
       "text": [
        " "
       ]
      }
     ],
     "prompt_number": 13
    },
    {
     "cell_type": "code",
     "collapsed": false,
     "input": [
      "display(visualize_cluster(final_cluster, segmentation=segmentation, segmentation_vis=segmentation_vis, text=True))"
     ],
     "language": "python",
     "metadata": {},
     "outputs": [
      {
       "output_type": "stream",
       "stream": "stderr",
       "text": [
        "/oasis/projects/nsf/csd181/yuncong/virtualenv-1.9.1/yuncongve/lib/python2.7/site-packages/skimage/util/dtype.py:107: UserWarning: Possible precision loss when converting from float64 to uint8\n",
        "  \"%s to %s\" % (dtypeobj_in, dtypeobj))\n"
       ]
      },
      {
       "html": [
        "<a href='tmp.jpg' target='_blank'>tmp.jpg</a><br>"
       ],
       "metadata": {},
       "output_type": "pyout",
       "prompt_number": 11,
       "text": [
        "/oasis/projects/nsf/csd181/yuncong/Brain/notebooks/tmp.jpg"
       ]
      }
     ],
     "prompt_number": 11
    },
    {
     "cell_type": "code",
     "collapsed": false,
     "input": [
      "t = sp_properties[list(final_cluster), 4:]\n",
      "rmin = int(t[:,0].min())\n",
      "cmin = int(t[:,1].min())\n",
      "rmax = int(t[:,2].max())\n",
      "cmax = int(t[:,3].max())"
     ],
     "language": "python",
     "metadata": {},
     "outputs": []
    },
    {
     "cell_type": "code",
     "collapsed": false,
     "input": [
      "t = sp_properties[added_sps, 4:]\n",
      "rmin = int(t[:,0].min())\n",
      "cmin = int(t[:,1].min())\n",
      "rmax = int(t[:,2].max())\n",
      "cmax = int(t[:,3].max())"
     ],
     "language": "python",
     "metadata": {},
     "outputs": []
    },
    {
     "cell_type": "code",
     "collapsed": false,
     "input": [
      "margin = 50"
     ],
     "language": "python",
     "metadata": {},
     "outputs": []
    },
    {
     "cell_type": "code",
     "collapsed": false,
     "input": [
      "final_cluster, final_score = grow_cluster3(3303, neighbors=neighbors, texton_hists=texton_hists, output=False)\n",
      "# display(visualize_cluster(final_cluster, segmentation=segmentation, segmentation_vis=segmentation_vis, text=True))\n",
      "\n",
      "vis = visualize_cluster(final_cluster, segmentation=segmentation, segmentation_vis=segmentation_vis,\n",
      "                        text=False, highlight_seed=True)\n",
      "plt.imshow(vis[rmin-margin:rmax+margin, cmin-margin:cmax+margin])\n",
      "plt.axis('off')\n",
      "plt.show()\n",
      "\n",
      "\n",
      "vis = visualize_cluster(added_sps[:1], segmentation=segmentation, segmentation_vis=segmentation_vis, text=False)\n",
      "plt.imshow(vis[rmin-margin:rmax+margin, cmin-margin:cmax+margin])\n",
      "plt.axis('off')\n",
      "plt.show()\n",
      "\n",
      "vis = visualize_cluster(added_sps[:10], segmentation=segmentation, segmentation_vis=segmentation_vis, text=False)\n",
      "plt.imshow(vis[rmin-margin:rmax+margin, cmin-margin:cmax+margin])\n",
      "plt.axis('off')\n",
      "plt.show()\n",
      "\n",
      "vis = visualize_cluster(added_sps[:50], segmentation=segmentation, segmentation_vis=segmentation_vis, text=False)\n",
      "plt.imshow(vis[rmin-margin:rmax+margin, cmin-margin:cmax+margin])\n",
      "plt.axis('off')\n",
      "plt.show()\n",
      "\n",
      "vis = visualize_cluster(final_cluster, segmentation=segmentation, segmentation_vis=segmentation_vis, text=False)\n",
      "plt.imshow(vis[rmin-margin:rmax+margin, cmin-margin:cmax+margin])\n",
      "plt.axis('off')\n",
      "plt.show()\n",
      "\n",
      "vis = visualize_cluster(added_sps, segmentation=segmentation, segmentation_vis=segmentation_vis, text=False)\n",
      "plt.imshow(vis[rmin-margin:rmax+margin, cmin-margin:cmax+margin])\n",
      "plt.axis('off')\n",
      "plt.show()"
     ],
     "language": "python",
     "metadata": {},
     "outputs": []
    },
    {
     "cell_type": "code",
     "collapsed": false,
     "input": [
      "vis = visualize_cluster(final_cluster, segmentation=segmentation, segmentation_vis=segmentation_vis, text=False)\n",
      "plt.imshow(vis[rmin-margin:rmax+margin, cmin-margin:cmax+margin])\n",
      "plt.axis('off')\n",
      "plt.show()"
     ],
     "language": "python",
     "metadata": {},
     "outputs": []
    },
    {
     "cell_type": "code",
     "collapsed": false,
     "input": [
      "final_cluster, final_score = grow_cluster3(3266, neighbors=neighbors, texton_hists=texton_hists, output=False)\n",
      "vis = visualize_cluster(final_cluster, segmentation=segmentation, segmentation_vis=segmentation_vis,\n",
      "                        text=False, highlight_seed=True)\n",
      "plt.imshow(vis[rmin-margin:rmax+margin, cmin-margin:cmax+margin])\n",
      "plt.axis('off')\n",
      "plt.show()\n",
      "\n",
      "final_cluster, final_score = grow_cluster3(3129, neighbors=neighbors, texton_hists=texton_hists, output=False)\n",
      "vis = visualize_cluster(final_cluster, segmentation=segmentation, segmentation_vis=segmentation_vis,\n",
      "                        text=False, highlight_seed=True)\n",
      "plt.imshow(vis[rmin-margin:rmax+margin, cmin-margin:cmax+margin])\n",
      "plt.axis('off')\n",
      "plt.show()\n",
      "\n",
      "final_cluster, final_score = grow_cluster3(2872, neighbors=neighbors, texton_hists=texton_hists, output=False)\n",
      "vis = visualize_cluster(final_cluster, segmentation=segmentation, segmentation_vis=segmentation_vis,\n",
      "                        text=False, highlight_seed=True)\n",
      "plt.imshow(vis[rmin-margin:rmax+margin, cmin-margin:cmax+margin])\n",
      "plt.axis('off')\n",
      "plt.show()"
     ],
     "language": "python",
     "metadata": {},
     "outputs": []
    },
    {
     "cell_type": "code",
     "collapsed": false,
     "input": [
      "t = sp_properties[[1306], 4:]\n",
      "rmin = int(t[:,0].min())\n",
      "cmin = int(t[:,1].min())\n",
      "rmax = int(t[:,2].max())\n",
      "cmax = int(t[:,3].max())\n",
      "margin = 300\n",
      "\n",
      "final_cluster, final_score = grow_cluster3(1152, neighbors=neighbors, texton_hists=texton_hists, output=False)\n",
      "vis = visualize_cluster(final_cluster, segmentation=segmentation, segmentation_vis=segmentation_vis,\n",
      "                        text=False, highlight_seed=True)\n",
      "plt.imshow(vis[rmin-margin:rmax+margin, cmin-margin:cmax+margin])\n",
      "plt.axis('off')\n",
      "plt.show()\n",
      "\n",
      "final_cluster, final_score = grow_cluster3(1203, neighbors=neighbors, texton_hists=texton_hists, output=False)\n",
      "vis = visualize_cluster(final_cluster, segmentation=segmentation, segmentation_vis=segmentation_vis,\n",
      "                        text=False, highlight_seed=True)\n",
      "plt.imshow(vis[rmin-margin:rmax+margin, cmin-margin:cmax+margin])\n",
      "plt.axis('off')\n",
      "plt.show()\n",
      "\n",
      "final_cluster, final_score = grow_cluster3(1169, neighbors=neighbors, texton_hists=texton_hists, output=False)\n",
      "vis = visualize_cluster(final_cluster, segmentation=segmentation, segmentation_vis=segmentation_vis,\n",
      "                        text=False, highlight_seed=True)\n",
      "plt.imshow(vis[rmin-margin:rmax+margin, cmin-margin:cmax+margin])\n",
      "plt.axis('off')\n",
      "plt.show()\n",
      "\n",
      "\n",
      "final_cluster, final_score = grow_cluster3(1145, neighbors=neighbors, texton_hists=texton_hists, output=False)\n",
      "vis = visualize_cluster(final_cluster, segmentation=segmentation, segmentation_vis=segmentation_vis,\n",
      "                        text=False, highlight_seed=True)\n",
      "plt.imshow(vis[rmin-margin:rmax+margin, cmin-margin:cmax+margin])\n",
      "plt.axis('off')\n",
      "plt.show()"
     ],
     "language": "python",
     "metadata": {},
     "outputs": []
    },
    {
     "cell_type": "code",
     "collapsed": false,
     "input": [
      "t = sp_properties[[1051], 4:]\n",
      "rmin = int(t[:,0].min())\n",
      "cmin = int(t[:,1].min())\n",
      "rmax = int(t[:,2].max())\n",
      "cmax = int(t[:,3].max())\n",
      "margin = 300\n",
      "\n",
      "final_cluster, final_score = grow_cluster3(1204, neighbors=neighbors, texton_hists=texton_hists, output=False)\n",
      "vis = visualize_cluster(final_cluster, segmentation=segmentation, segmentation_vis=segmentation_vis,\n",
      "                        text=False, highlight_seed=True)\n",
      "plt.imshow(vis[rmin-200:rmax+margin, cmin-margin:cmax+margin])\n",
      "plt.axis('off')\n",
      "plt.show()\n",
      "\n",
      "final_cluster, final_score = grow_cluster3(1041, neighbors=neighbors, texton_hists=texton_hists, output=False)\n",
      "vis = visualize_cluster(final_cluster, segmentation=segmentation, segmentation_vis=segmentation_vis,\n",
      "                        text=False, highlight_seed=True)\n",
      "plt.imshow(vis[rmin-200:rmax+margin, cmin-margin:cmax+margin])\n",
      "plt.axis('off')\n",
      "plt.show()\n",
      "\n",
      "final_cluster, final_score = grow_cluster3(1501, neighbors=neighbors, texton_hists=texton_hists, output=False)\n",
      "vis = visualize_cluster(final_cluster, segmentation=segmentation, segmentation_vis=segmentation_vis,\n",
      "                        text=False, highlight_seed=True)\n",
      "plt.imshow(vis[rmin-200:rmax+margin, cmin-margin:cmax+margin])\n",
      "plt.axis('off')\n",
      "plt.show()\n",
      "\n",
      "final_cluster, final_score = grow_cluster3(861, neighbors=neighbors, texton_hists=texton_hists, output=False)\n",
      "vis = visualize_cluster(final_cluster, segmentation=segmentation, segmentation_vis=segmentation_vis,\n",
      "                        text=False, highlight_seed=True)\n",
      "plt.imshow(vis[rmin-200:rmax+margin, cmin-margin:cmax+margin])\n",
      "plt.axis('off')\n",
      "plt.show()"
     ],
     "language": "python",
     "metadata": {},
     "outputs": []
    },
    {
     "cell_type": "code",
     "collapsed": false,
     "input": [
      "plt.bar(np.arange(n_texton), texton_hists[1968]);\n",
      "plt.xticks([]);\n",
      "plt.yticks([]);\n",
      "plt.show()\n",
      "\n",
      "plt.bar(np.arange(n_texton), texton_hists[2017]);\n",
      "plt.xticks([]);\n",
      "plt.yticks([]);\n",
      "plt.show()\n",
      "\n",
      "plt.bar(np.arange(n_texton), texton_hists[2268]);\n",
      "plt.xticks([]);\n",
      "plt.yticks([]);\n",
      "plt.show()"
     ],
     "language": "python",
     "metadata": {},
     "outputs": []
    },
    {
     "cell_type": "code",
     "collapsed": false,
     "input": [
      "def visualize_cluster(cluster, segmentation, segmentation_vis, text=False, highlight_seed=False):\n",
      "\n",
      "    a = -1*np.ones_like(segmentation)        \n",
      "\n",
      "    for i, c in enumerate(cluster):\n",
      "        if highlight_seed:\n",
      "            if i == 0:\n",
      "                a[segmentation == c] = 1       \n",
      "            else:\n",
      "                a[segmentation == c] = 0\n",
      "        else:\n",
      "            a[segmentation == c] = 0\n",
      "\n",
      "    vis = label2rgb(a, image=segmentation_vis)\n",
      "\n",
      "    vis = img_as_ubyte(vis[...,::-1])\n",
      "\n",
      "    if text:\n",
      "\n",
      "        import cv2\n",
      "\n",
      "        for i, sp in enumerate(cluster):\n",
      "            vis = cv2.putText(vis, str(i), \n",
      "                              tuple(np.floor(sp_properties[sp, [1,0]] - np.array([10,-10])).astype(np.int)), \n",
      "                              cv2.FONT_HERSHEY_DUPLEX,\n",
      "                              1., ((0,255,255)), 1)\n",
      "\n",
      "    return vis.copy()\n",
      "\n",
      "def visualize_multiple_clusters(clusters, segmentation, segmentation_vis, alpha_blend=True):\n",
      "    \n",
      "    colors = np.loadtxt('../visualization/100colors.txt')\n",
      "    n_superpixels = segmentation.max() + 1\n",
      "    \n",
      "    mask_alpha = .4\n",
      "    \n",
      "    if alpha_blend:\n",
      "        \n",
      "        for ci, c in enumerate(clusters):\n",
      "            m =  np.zeros((n_superpixels,), dtype=np.float)\n",
      "            m[list(c)] = mask_alpha\n",
      "            alpha = m[segmentation]\n",
      "            alpha[~dm.mask] = 0\n",
      "            \n",
      "            mm = np.zeros((n_superpixels,3), dtype=np.float)\n",
      "            mm[list(c)] = colors[ci]\n",
      "            blob = mm[segmentation]\n",
      "            \n",
      "            if ci == 0:\n",
      "                vis = alpha_blending(blob, gray2rgb(dm.image), alpha, 1.*np.ones((dm.image_height, dm.image_width)))\n",
      "            else:\n",
      "                vis = alpha_blending(blob, vis[..., :-1], alpha, vis[..., -1])\n",
      "                \n",
      "    else:\n",
      "    \n",
      "        n_superpixels = segmentation.max() + 1\n",
      "\n",
      "        n = len(clusters)\n",
      "        m = -1*np.ones((n_superpixels,), dtype=np.int)\n",
      "\n",
      "        for ci, c in enumerate(clusters):\n",
      "            m[list(c)] = ci\n",
      "\n",
      "        a = m[segmentation]\n",
      "        a[~dm.mask] = -1\n",
      "    #     a = -1*np.ones_like(segmentation)\n",
      "    #     for ci, c in enumerate(clusters):\n",
      "    #         for i in c:\n",
      "    #             a[segmentation == i] = ci\n",
      "\n",
      "        vis = label2rgb(a, image=segmentation_vis)\n",
      "\n",
      "        vis = img_as_ubyte(vis[...,::-1])\n",
      "\n",
      "    #     for ci, c in enumerate(clusters):\n",
      "    #         for i, sp in enumerate(c):\n",
      "    #             vis = cv2.putText(vis, str(i), \n",
      "    #                               tuple(np.floor(sp_properties[sp, [1,0]] - np.array([10,-10])).astype(np.int)), \n",
      "    #                               cv2.FONT_HERSHEY_DUPLEX,\n",
      "    #                               1., ((0,255,255)), 1)\n",
      "    \n",
      "    return vis.copy()"
     ],
     "language": "python",
     "metadata": {},
     "outputs": [],
     "prompt_number": 9
    },
    {
     "cell_type": "code",
     "collapsed": false,
     "input": [
      "final_cluster, final_score, added_sps, score_tuples = grow_cluster3(3228, neighbors=neighbors, texton_hists=texton_hists, \n",
      "                                                                    output=False, all_history=True)\n",
      "\n",
      "print 'final_score', final_score\n",
      "print 'cutoff', score_tuples[:,1].argmax()\n",
      "\n",
      "fig, axes = plt.subplots(4,1, figsize=(10,10), sharex=True)\n",
      "# axes[0].plot(score_tuples[:,0])\n",
      "# axes[0].set_title('heuristic')\n",
      "axes[0].plot(score_tuples[:,1])\n",
      "axes[0].set_title('total sig')\n",
      "axes[1].plot(score_tuples[:,2])\n",
      "axes[1].set_title('min chi-square contrast')\n",
      "axes[2].plot(score_tuples[:,3])\n",
      "axes[2].set_title('mean chi-square incoherence')\n",
      "axes[3].plot(score_tuples[:,4])\n",
      "axes[3].set_title('compactness')\n",
      "# axes[5].plot(score_tuples[:,5])\n",
      "# axes[5].set_title('max exterior p-value')\n",
      "# axes[6].plot(score_tuples[:,6])\n",
      "# axes[6].set_title('mean interior p-value')\n",
      "# axes[7].plot(score_tuples[:,7])\n",
      "# axes[7].set_title('size_prior')\n",
      "\n",
      "# fig, axes = plt.subplots(8,1, figsize=(10,10), sharex=True)\n",
      "# axes[0].plot(score_tuples[:,0])\n",
      "# axes[0].set_title('heuristic')\n",
      "# axes[1].plot(score_tuples[:,1])\n",
      "# axes[1].set_title('total sig')\n",
      "# axes[2].plot(score_tuples[:,2])\n",
      "# axes[2].set_title('min chi-square contrast')\n",
      "# axes[3].plot(score_tuples[:,3])\n",
      "# axes[3].set_title('mean chi-square incoherence')\n",
      "# axes[4].plot(score_tuples[:,4])\n",
      "# axes[4].set_title('compactness')\n",
      "# axes[5].plot(score_tuples[:,5])\n",
      "# axes[5].set_title('max exterior p-value')\n",
      "# axes[6].plot(score_tuples[:,6])\n",
      "# axes[6].set_title('mean interior p-value')\n",
      "# axes[7].plot(score_tuples[:,7])\n",
      "# axes[7].set_title('size_prior')\n",
      "\n",
      "plt.tight_layout()\n",
      "plt.show()"
     ],
     "language": "python",
     "metadata": {},
     "outputs": []
    },
    {
     "cell_type": "code",
     "collapsed": false,
     "input": [
      "import networkx\n",
      "\n",
      "def find_boundaries(clusters, neighbors, mode=None):\n",
      "            \n",
      "    border_sps = []\n",
      "    \n",
      "    for j, cluster in enumerate(clusters):\n",
      "        surrounds = set([i for i in set.union(*[neighbors[c] for c in cluster]) if i not in cluster and i != -1])\n",
      "#         surrounds = set([i for i in surrounds if any([(n not in cluster) and (n not in surrounds) for n in neighbors[i]])])\n",
      "        surrounds = set([i for i in surrounds if any([n not in cluster for n in neighbors[i]])])\n",
      "        if len(surrounds) == 0:\n",
      "            continue\n",
      "\n",
      "        if mode=='frontiers':\n",
      "            frontiers = set.union(*[neighbors[c] for c in surrounds]) & set(cluster)\n",
      "            border = frontiers\n",
      "        elif mode=='surrounds':\n",
      "            border = surrounds\n",
      "        elif mode=='both':\n",
      "            border = surrounds | frontiers\n",
      "         \n",
      "        boundary_subgraph = neighbor_graph.subgraph(border)\n",
      "        boundary_traversal = list(networkx.dfs_postorder_nodes(boundary_subgraph))\n",
      "        \n",
      "        border_sps.append(boundary_traversal)\n",
      "            \n",
      "    return border_sps"
     ],
     "language": "python",
     "metadata": {},
     "outputs": [],
     "prompt_number": 10
    },
    {
     "cell_type": "code",
     "collapsed": false,
     "input": [
      "from scipy.stats import chisquare, chisqprob\n",
      "vars = np.var(texton_freqs, axis=0)\n",
      "\n",
      "def chi2pval(O1, O2):\n",
      "    n1 = O1.sum()\n",
      "    n2 = O2.sum()\n",
      "    n = n1 + n2\n",
      "    nc = O1 + O2\n",
      "    E1 = n1/n*nc\n",
      "    E2 = n2/n*nc\n",
      "    v = np.nonzero((O1 > 0) &  (O2 > 0) & (vars > 0))[0]\n",
      "    if len(v) == 0:\n",
      "        return 1e-6, np.nan\n",
      "    dof = max(len(v)-1, 1)\n",
      "    q = np.sum((O1[v]-E1[v])**2/vars[v]+(O2[v]-E2[v])**2/vars[v])\n",
      "    return chisqprob(q, dof), q"
     ],
     "language": "python",
     "metadata": {},
     "outputs": [],
     "prompt_number": 40
    },
    {
     "cell_type": "code",
     "collapsed": false,
     "input": [
      "try:\n",
      "    expansion_clusters_tuples = dm.load_pipeline_result('clusters', 'pkl')\n",
      "    raise\n",
      "except Exception as e:\n",
      "\n",
      "    import time\n",
      "    b = time.time()\n",
      "\n",
      "    expansion_clusters_tuples = Parallel(n_jobs=16)(delayed(grow_cluster3)(s) for s in range(n_superpixels))\n",
      "\n",
      "    print time.time() - b\n",
      "\n",
      "#     dm.save_pipeline_result(expansion_clusters_tuples, 'clusters', 'pkl')"
     ],
     "language": "python",
     "metadata": {},
     "outputs": [
      {
       "output_type": "stream",
       "stream": "stdout",
       "text": [
        "loaded /home/yuncong/project/DavidData2014results/RS141/0007/RS141_x5_0007_gabor-blueNisslWide-segm-blueNisslRegular-vq-blueNissl_clusters.pkl\n"
       ]
      },
      {
       "output_type": "stream",
       "stream": "stdout",
       "text": [
        "240.854402065\n"
       ]
      }
     ],
     "prompt_number": 16
    },
    {
     "cell_type": "code",
     "collapsed": false,
     "input": [
      "# expansion_clusters_tuples = dm.load_pipeline_result('clusters', 'pkl')\n",
      "expansion_clusters, expansion_cluster_scores = zip(*expansion_clusters_tuples)\n",
      "expansion_cluster_scores = np.array(expansion_cluster_scores)"
     ],
     "language": "python",
     "metadata": {},
     "outputs": [],
     "prompt_number": 42
    },
    {
     "cell_type": "heading",
     "level": 1,
     "metadata": {},
     "source": [
      "Region Clustering Experiments"
     ]
    },
    {
     "cell_type": "code",
     "collapsed": false,
     "input": [
      "def compute_overlap(c1, c2):\n",
      "#     return float(len(c1 & c2))/min(len(c1),len(c2))\n",
      "    return float(len(c1 & c2))/len(c1 | c2)\n",
      "\n",
      "def compute_overlap_partial(indices, sets):\n",
      "    n_sets = len(sets)\n",
      "    \n",
      "    overlap_matrix = np.zeros((len(indices), n_sets))\n",
      "        \n",
      "    for ii, i in enumerate(indices):\n",
      "        for j in range(n_sets):\n",
      "            c1 = set(sets[i])\n",
      "            c2 = set(sets[j])\n",
      "            overlap_matrix[ii, j] = compute_overlap(c1, c2)\n",
      "            \n",
      "    return overlap_matrix\n",
      "\n",
      "def set_pairwise_distances(sets):\n",
      "\n",
      "    partial_overlap_mat = Parallel(n_jobs=16, max_nbytes=1e6)(delayed(compute_overlap_partial)(s, sets) \n",
      "                                        for s in np.array_split(range(len(sets)), 16))\n",
      "    overlap_matrix = np.vstack(partial_overlap_mat)\n",
      "    distance_matrix = 1 - overlap_matrix\n",
      "    \n",
      "    return distance_matrix"
     ],
     "language": "python",
     "metadata": {},
     "outputs": [],
     "prompt_number": 43
    },
    {
     "cell_type": "code",
     "collapsed": false,
     "input": [
      "try:\n",
      "    D = dm.load_pipeline_result('clusterPairwiseDist', 'npy')\n",
      "#     raise\n",
      "except:\n",
      "    D = set_pairwise_distances(expansion_clusters)\n",
      "    dm.save_pipeline_result(D, 'clusterPairwiseDist', 'npy')"
     ],
     "language": "python",
     "metadata": {},
     "outputs": [
      {
       "output_type": "stream",
       "stream": "stdout",
       "text": [
        "loaded /home/yuncong/project/DavidData2014results/RS141/0007/RS141_x5_0007_gabor-blueNisslWide-segm-blueNisslRegular-vq-blueNissl_clusterPairwiseDist.npy\n"
       ]
      }
     ],
     "prompt_number": 44
    },
    {
     "cell_type": "code",
     "collapsed": false,
     "input": [
      "from scipy.spatial.distance import pdist, squareform\n",
      "from scipy.cluster.hierarchy import average, fcluster, leaders, complete, single, dendrogram\n",
      "\n",
      "def group_clusters(clusters=None, dist_thresh = 0.01, distance_matrix=None):\n",
      "\n",
      "    if distance_matrix is None:\n",
      "        assert clusters is not None\n",
      "        distance_matrix = set_pairwise_distances(clusters)\n",
      "\n",
      "    lk = complete(squareform(distance_matrix))\n",
      "#     lk = average(squareform(distance_matrix))\n",
      "#     lk = single(squareform(distance_matrix))\n",
      "\n",
      "    # T = fcluster(lk, 1.15, criterion='inconsistent')\n",
      "    T = fcluster(lk, dist_thresh, criterion='distance')\n",
      "\n",
      "    n_groups = len(set(T))    \n",
      "    groups = [None] * n_groups\n",
      "\n",
      "    for group_id in range(n_groups):\n",
      "        groups[group_id] = where(T == group_id)[0]\n",
      "        \n",
      "    return [g for g in groups if len(g) > 0]"
     ],
     "language": "python",
     "metadata": {},
     "outputs": [],
     "prompt_number": 45
    },
    {
     "cell_type": "code",
     "collapsed": false,
     "input": [
      "try:\n",
      "    expansion_cluster_groups = dm.load_pipeline_result('clusterGroups', 'pkl')\n",
      "#     raise\n",
      "except:\n",
      "    import time\n",
      "    t = time.time()\n",
      "    expansion_cluster_groups = group_clusters(expansion_clusters, dist_thresh=.8, distance_matrix=D)\n",
      "    dm.save_pipeline_result(expansion_cluster_groups, 'clusterGroups', 'pkl')\n",
      "\n",
      "    print time.time() - t\n",
      "    \n",
      "print len(expansion_cluster_groups), 'expansion cluster groups'\n",
      "expansion_cluster_group_sizes = np.array(map(len, expansion_cluster_groups))\n",
      "\n"
     ],
     "language": "python",
     "metadata": {},
     "outputs": [
      {
       "output_type": "stream",
       "stream": "stdout",
       "text": [
        "loaded /home/yuncong/project/DavidData2014results/RS141/0007/RS141_x5_0007_gabor-blueNisslWide-segm-blueNisslRegular-vq-blueNissl_clusterGroups.pkl\n",
        "399 expansion cluster groups\n"
       ]
      }
     ],
     "prompt_number": 46
    },
    {
     "cell_type": "code",
     "collapsed": false,
     "input": [
      "plt.hist(expansion_cluster_group_sizes, bins=100);"
     ],
     "language": "python",
     "metadata": {},
     "outputs": [
      {
       "metadata": {},
       "output_type": "display_data",
       "png": "[encoded data removed]",
       "text": [
        "<matplotlib.figure.Figure at 0x80161d0>"
       ]
      }
     ],
     "prompt_number": 47
    },
    {
     "cell_type": "code",
     "collapsed": false,
     "input": [
      "big_group_indices = np.where(expansion_cluster_group_sizes > 5)[0]\n",
      "n_big_groups = len(big_group_indices)\n",
      "print n_big_groups, 'big cluster groups'\n",
      "big_groups = [expansion_cluster_groups[i] for i in big_group_indices]\n",
      "\n",
      "# representative_cluster_indices = [g[np.argmax(expansion_cluster_scores[g])] for g in big_groups]\n",
      "# representative_cluster_scores = [expansion_cluster_scores[ind] for ind in representative_cluster_indices]\n",
      "\n",
      "# representative_cluster_scores_sorted, representative_cluster_indices_sorted_by_score, big_groups_sorted_by_score = map(list, \n",
      "#                                                                 zip(*sorted(zip(representative_cluster_scores, \n",
      "#                                                                     representative_cluster_indices,\n",
      "#                                                                     big_groups), reverse=True)))\n",
      "\n",
      "# representative_clusters_sorted_by_score = [expansion_clusters[i] for i in representative_cluster_indices_sorted_by_score]"
     ],
     "language": "python",
     "metadata": {},
     "outputs": [
      {
       "output_type": "stream",
       "stream": "stdout",
       "text": [
        "152 big cluster groups\n"
       ]
      }
     ],
     "prompt_number": 48
    },
    {
     "cell_type": "code",
     "collapsed": false,
     "input": [
      "from collections import Counter\n",
      "\n",
      "representative_clusters = []\n",
      "representative_cluster_scores = []\n",
      "representative_cluster_indices = []\n",
      "\n",
      "big_groups_valid = []\n",
      "\n",
      "for g in big_groups:\n",
      "#     counter = Counter([frozenset(expansion_clusters[s]) for s in g])\n",
      "#     representative_cluster = counter.keys()[np.argmax(counter.values())]\n",
      "#     representative_clusters.append(representative_cluster)\n",
      "        \n",
      "#     cluster_indices_sorted_by_score = g[np.argsort(expansion_cluster_scores[g])[-1]]\n",
      "    for i in np.argsort(expansion_cluster_scores[g])[::-1]:\n",
      "        c = expansion_clusters[g[i]]\n",
      "        sc = expansion_cluster_scores[g[i]]\n",
      "        if len(c) > n_superpixels * .004:\n",
      "            representative_clusters.append(c)\n",
      "            representative_cluster_indices.append(g[i])\n",
      "            representative_cluster_scores.append(sc)\n",
      "            big_groups_valid.append(g)\n",
      "            break\n",
      "            \n",
      "#     score_counter = Counter(expansion_cluster_scores[g])\n",
      "#     representative_cluster_score = score_counter.keys()[np.argmax(score_counter.values())]\n",
      "#     representative_cluster_scores.append(representative_cluster_score)\n",
      "    \n",
      "# Note that representative_clusters and big_groups have different number of elements\n",
      "    \n",
      "print len(representative_clusters), 'representative clusters'\n",
      "    \n",
      "representative_cluster_scores_sorted, representative_clusters_sorted_by_score, \\\n",
      "representative_cluster_indices_sorted_by_score, \\\n",
      "big_groups_sorted_by_score = map(list, zip(*sorted(zip(representative_cluster_scores, \n",
      "                                                        representative_clusters,\n",
      "                                                        representative_cluster_indices,\n",
      "                                                        big_groups_valid), reverse=True)))"
     ],
     "language": "python",
     "metadata": {},
     "outputs": [
      {
       "output_type": "stream",
       "stream": "stdout",
       "text": [
        "90 representative clusters\n"
       ]
      }
     ],
     "prompt_number": 49
    },
    {
     "cell_type": "code",
     "collapsed": false,
     "input": [
      "for i, g in enumerate(representative_clusters_sorted_by_score):\n",
      "    if 3264 in g:\n",
      "        print i"
     ],
     "language": "python",
     "metadata": {},
     "outputs": [
      {
       "output_type": "stream",
       "stream": "stdout",
       "text": [
        "80\n"
       ]
      }
     ],
     "prompt_number": 20
    },
    {
     "cell_type": "code",
     "collapsed": false,
     "input": [
      "for seed in set(big_groups_sorted_by_score[28]):\n",
      "    plt.imshow(visualize_cluster(expansion_clusters[seed], segmentation=segmentation, segmentation_vis=segmentation_vis))\n",
      "    plt.show()"
     ],
     "language": "python",
     "metadata": {},
     "outputs": []
    },
    {
     "cell_type": "code",
     "collapsed": false,
     "input": [
      "display(visualize_cluster(representative_clusters_sorted_by_score[34], \n",
      "                          segmentation=segmentation, \n",
      "                          segmentation_vis=segmentation_vis))"
     ],
     "language": "python",
     "metadata": {},
     "outputs": []
    },
    {
     "cell_type": "code",
     "collapsed": false,
     "input": [
      "for i, (c, s) in enumerate(zip(representative_clusters_sorted_by_score, \n",
      "                               representative_cluster_scores_sorted)[:50]):\n",
      "#     vis = visualize_cluster(c, segmentation=segmentation, segmentation_vis=segmentation_vis)\n",
      "    vis = visualize_cluster(c, segmentation=segmentation, segmentation_vis=dm.image)\n",
      "    dm.save_pipeline_result( vis, 'region%02d'%i, 'jpg')"
     ],
     "language": "python",
     "metadata": {},
     "outputs": []
    },
    {
     "cell_type": "code",
     "collapsed": false,
     "input": [
      "final_clusters_sorted_by_score = representative_clusters_sorted_by_score[:50]\n",
      "final_cluster_scores_sorted = representative_cluster_scores_sorted[:50]\n",
      "final_cluster_indices_sorted_by_score = representative_cluster_indices_sorted_by_score[:50]"
     ],
     "language": "python",
     "metadata": {},
     "outputs": [],
     "prompt_number": 50
    },
    {
     "cell_type": "code",
     "collapsed": false,
     "input": [
      "final_clusters_sorted_by_score = []\n",
      "final_cluster_scores_sorted = []\n",
      "final_cluster_indices_sorted_by_score = []\n",
      "\n",
      "covered = set([])\n",
      "\n",
      "for c, s, i in zip(representative_clusters_sorted_by_score, \n",
      "                   representative_cluster_scores_sorted, \n",
      "                   representative_cluster_indices_sorted_by_score)[:40]:\n",
      "        \n",
      "    if len(covered & set(c)) > 15:\n",
      "        print i, 'overlaps %d superpixels with previously selected regions' % len(covered & set(c))\n",
      "        continue\n",
      "\n",
      "    covered |= set(c)\n",
      "    final_clusters_sorted_by_score.append(c)\n",
      "    final_cluster_scores_sorted.append(s)\n",
      "    final_cluster_indices_sorted_by_score.append(i)"
     ],
     "language": "python",
     "metadata": {},
     "outputs": []
    },
    {
     "cell_type": "code",
     "collapsed": false,
     "input": [
      "vis = visualize_multiple_clusters(final_clusters_sorted_by_score[:10], segmentation=segmentation, segmentation_vis=segmentation_vis)\n",
      "dm.save_pipeline_result( vis, 'regionsTop10' , 'jpg')\n",
      "\n",
      "vis = visualize_multiple_clusters(final_clusters_sorted_by_score[:20], segmentation=segmentation, segmentation_vis=segmentation_vis)\n",
      "dm.save_pipeline_result( vis, 'regionsTop20' , 'jpg')\n",
      "\n",
      "vis = visualize_multiple_clusters(final_clusters_sorted_by_score[:30], segmentation=segmentation, segmentation_vis=segmentation_vis)\n",
      "dm.save_pipeline_result( vis, 'regionsTop30' , 'jpg')\n",
      "\n",
      "vis = visualize_multiple_clusters(final_clusters_sorted_by_score[:40], segmentation=segmentation, segmentation_vis=segmentation_vis)\n",
      "dm.save_pipeline_result( vis, 'regionsTop40' , 'jpg')\n",
      "\n",
      "vis = visualize_multiple_clusters(final_clusters_sorted_by_score[10:20], segmentation=segmentation, segmentation_vis=segmentation_vis)\n",
      "dm.save_pipeline_result( vis, 'regionsTop10to20' , 'jpg')\n",
      "\n",
      "vis = visualize_multiple_clusters(final_clusters_sorted_by_score[20:30], segmentation=segmentation, segmentation_vis=segmentation_vis)\n",
      "dm.save_pipeline_result( vis, 'regionsTop20to30' , 'jpg')\n",
      "\n",
      "vis = visualize_multiple_clusters(final_clusters_sorted_by_score[30:40], segmentation=segmentation, segmentation_vis=segmentation_vis)\n",
      "dm.save_pipeline_result( vis, 'regionsTop30to40' , 'jpg')\n",
      "\n",
      "vis = visualize_multiple_clusters(final_clusters_sorted_by_score[40:], segmentation=segmentation, segmentation_vis=segmentation_vis)\n",
      "dm.save_pipeline_result( vis, 'regionsTop40toX' , 'jpg')\n",
      "\n",
      "\n",
      "#     fig = plt.figure(figsize=(10,10))\n",
      "#     plt.imshow(vis)\n",
      "#     plt.title('sorted group ' + str(i) + ', score ' + str(s))\n",
      "#     plt.axis('off')\n",
      "#     plt.show()"
     ],
     "language": "python",
     "metadata": {},
     "outputs": [
      {
       "output_type": "stream",
       "stream": "stdout",
       "text": [
        "saved /home/yuncong/project/DavidData2014results/RS141/0007/RS141_x5_0007_gabor-blueNisslWide-segm-blueNisslRegular-vq-blueNissl_regionsTop10.jpg\n",
        "saved /home/yuncong/project/DavidData2014results/RS141/0007/RS141_x5_0007_gabor-blueNisslWide-segm-blueNisslRegular-vq-blueNissl_regionsTop20.jpg"
       ]
      },
      {
       "output_type": "stream",
       "stream": "stdout",
       "text": [
        "\n",
        "saved /home/yuncong/project/DavidData2014results/RS141/0007/RS141_x5_0007_gabor-blueNisslWide-segm-blueNisslRegular-vq-blueNissl_regionsTop30.jpg"
       ]
      },
      {
       "output_type": "stream",
       "stream": "stdout",
       "text": [
        "\n",
        "saved /home/yuncong/project/DavidData2014results/RS141/0007/RS141_x5_0007_gabor-blueNisslWide-segm-blueNisslRegular-vq-blueNissl_regionsTop40.jpg"
       ]
      },
      {
       "output_type": "stream",
       "stream": "stdout",
       "text": [
        "\n",
        "saved /home/yuncong/project/DavidData2014results/RS141/0007/RS141_x5_0007_gabor-blueNisslWide-segm-blueNisslRegular-vq-blueNissl_regionsTop10to20.jpg"
       ]
      },
      {
       "output_type": "stream",
       "stream": "stdout",
       "text": [
        "\n",
        "saved /home/yuncong/project/DavidData2014results/RS141/0007/RS141_x5_0007_gabor-blueNisslWide-segm-blueNisslRegular-vq-blueNissl_regionsTop20to30.jpg"
       ]
      },
      {
       "output_type": "stream",
       "stream": "stdout",
       "text": [
        "\n",
        "saved /home/yuncong/project/DavidData2014results/RS141/0007/RS141_x5_0007_gabor-blueNisslWide-segm-blueNisslRegular-vq-blueNissl_regionsTop30to40.jpg"
       ]
      },
      {
       "output_type": "stream",
       "stream": "stdout",
       "text": [
        "\n",
        "saved /home/yuncong/project/DavidData2014results/RS141/0007/RS141_x5_0007_gabor-blueNisslWide-segm-blueNisslRegular-vq-blueNissl_regionsTop40toX.jpg"
       ]
      },
      {
       "output_type": "stream",
       "stream": "stdout",
       "text": [
        "\n"
       ]
      }
     ],
     "prompt_number": 51
    },
    {
     "cell_type": "code",
     "collapsed": false,
     "input": [
      "def SaveFigureAsImage(fileName,fig=None,orig_size=None):\n",
      "\n",
      "    dpi = fig.get_dpi()\n",
      "    w,h = orig_size\n",
      "    fig.set_size_inches([float(w/dpi), float(h/dpi)])\n",
      "\n",
      "    a=fig.gca()\n",
      "    a.set_frame_on(False)\n",
      "    a.set_xticks([]); a.set_yticks([])\n",
      "    plt.axis('off')\n",
      "    plt.xlim(0,h); plt.ylim(w,0)\n",
      "    fig.savefig(fileName, transparent=True, bbox_inches='tight', \\\n",
      "                        pad_inches=0)\n",
      "    \n",
      "    \n",
      "def SaveFigureAsImage(fileName,fig=None,**kwargs):\n",
      "    ''' Save a Matplotlib figure as an image without borders or frames.\n",
      "       Args:\n",
      "            fileName (str): String that ends in .png etc.\n",
      "\n",
      "            fig (Matplotlib figure instance): figure you want to save as the image\n",
      "        Keyword Args:\n",
      "            orig_size (tuple): width, height of the original image used to maintain \n",
      "            aspect ratio.\n",
      "    '''\n",
      "    fig_size = fig.get_size_inches()\n",
      "    dpi = fig.get_dpi()\n",
      "    \n",
      "    fig.set_size_inches(dpi)\n",
      "    \n",
      "    w,h = fig_size[0], fig_size[1]\n",
      "    fig.patch.set_alpha(0)\n",
      "    if kwargs.has_key('orig_size'): # Aspect ratio scaling if required\n",
      "        w,h = kwargs['orig_size']\n",
      "        w2,h2 = fig_size[0],fig_size[1]\n",
      "        fig.set_size_inches([(w2/w)*w,(w2/w)*h])\n",
      "        fig.set_dpi((w2/w)*fig.get_dpi())\n",
      "    a=fig.gca()\n",
      "    a.set_frame_on(False)\n",
      "    a.set_xticks([]); a.set_yticks([])\n",
      "    plt.axis('off')\n",
      "    plt.xlim(0,h); plt.ylim(w,0)\n",
      "    fig.savefig(fileName, transparent=True, bbox_inches='tight', \\\n",
      "                        pad_inches=0)"
     ],
     "language": "python",
     "metadata": {},
     "outputs": []
    },
    {
     "cell_type": "code",
     "collapsed": false,
     "input": [
      "colors = (np.loadtxt('../visualization/100colors.txt') * 255).astype(np.int)\n",
      "\n",
      "def visualize_contours(clusters):\n",
      "\n",
      "    vis = dm.image_rgb.copy()\n",
      "\n",
      "    for ci, c in enumerate(clusters):\n",
      "        q = np.zeros((n_superpixels,))\n",
      "        q[c] = 1.\n",
      "        v = q[segmentation]\n",
      "        contours = find_contours(img_as_float(v), 0.8)\n",
      "        contour = contours[np.argmax(map(len, contours))]\n",
      "        contour = np.round(contour[:,::-1].reshape((-1,1,2))).astype(np.int)\n",
      "        cv2.polylines(vis, [contour], isClosed=True, color=colors[ci%len(colors)], thickness=10) \n",
      "    #     cv2.polylines(vis, [contour], isClosed=True, color=[237,194,136], thickness=5) \n",
      "\n",
      "    #     ax.plot(contour[:,1], contour[:,0])\n",
      "\n",
      "    # fig.savefig('tmp.png', bbox_inches='tight', pad_inches=0)\n",
      "    # fig.savefig('tmp.png', pad_inches=0)\n",
      "    # SaveFigureAsImage('tmp.png', fig, orig_size=dm.image.shape[:2])\n",
      "    # FileLink('tmp.png')\n",
      "    return vis\n",
      "\n",
      "# dm.save_pipeline_result(representative_clusters_sorted_by_score, 'goodRegions', 'pkl')\n",
      "\n",
      "vis = visualize_contours(final_clusters_sorted_by_score[:10])\n",
      "dm.save_pipeline_result(np.uint8(vis), 'contoursTop10', 'jpg')\n",
      "\n",
      "vis = visualize_contours(final_clusters_sorted_by_score[10:20])\n",
      "dm.save_pipeline_result(np.uint8(vis), 'contoursTop10to20', 'jpg')\n",
      "\n",
      "vis = visualize_contours(final_clusters_sorted_by_score[20:30])\n",
      "dm.save_pipeline_result(np.uint8(vis), 'contoursTop20to30', 'jpg')\n",
      "\n",
      "vis = visualize_contours(final_clusters_sorted_by_score[30:])\n",
      "dm.save_pipeline_result(np.uint8(vis), 'contoursTop30to40', 'jpg')\n",
      "\n",
      "vis = visualize_contours(final_clusters_sorted_by_score)\n",
      "dm.save_pipeline_result(np.uint8(vis), 'contoursTopAll', 'jpg')\n",
      "\n",
      "vis = visualize_contours(final_clusters_sorted_by_score[:20])\n",
      "dm.save_pipeline_result(np.uint8(vis), 'contoursTop20', 'jpg')\n",
      "\n",
      "vis = visualize_contours(final_clusters_sorted_by_score[:30])\n",
      "dm.save_pipeline_result(np.uint8(vis), 'contoursTop30', 'jpg')\n",
      "\n",
      "vis = visualize_contours(final_clusters_sorted_by_score[:40])\n",
      "dm.save_pipeline_result(np.uint8(vis), 'contoursTop40', 'jpg')"
     ],
     "language": "python",
     "metadata": {},
     "outputs": [
      {
       "output_type": "stream",
       "stream": "stdout",
       "text": [
        "saved /home/yuncong/project/DavidData2014results/RS141/0006/RS141_x5_0006_gabor-blueNisslWide-segm-blueNisslRegular-vq-blueNissl_contoursTop10.jpg\n",
        "saved /home/yuncong/project/DavidData2014results/RS141/0006/RS141_x5_0006_gabor-blueNisslWide-segm-blueNisslRegular-vq-blueNissl_contoursTop10to20.jpg"
       ]
      },
      {
       "output_type": "stream",
       "stream": "stdout",
       "text": [
        "\n",
        "saved /home/yuncong/project/DavidData2014results/RS141/0006/RS141_x5_0006_gabor-blueNisslWide-segm-blueNisslRegular-vq-blueNissl_contoursTop20to30.jpg"
       ]
      },
      {
       "output_type": "stream",
       "stream": "stdout",
       "text": [
        "\n",
        "saved /home/yuncong/project/DavidData2014results/RS141/0006/RS141_x5_0006_gabor-blueNisslWide-segm-blueNisslRegular-vq-blueNissl_contoursTop30to40.jpg"
       ]
      },
      {
       "output_type": "stream",
       "stream": "stdout",
       "text": [
        "\n",
        "saved /home/yuncong/project/DavidData2014results/RS141/0006/RS141_x5_0006_gabor-blueNisslWide-segm-blueNisslRegular-vq-blueNissl_contoursTopAll.jpg"
       ]
      },
      {
       "output_type": "stream",
       "stream": "stdout",
       "text": [
        "\n"
       ]
      }
     ],
     "prompt_number": 27
    },
    {
     "cell_type": "code",
     "collapsed": false,
     "input": [
      "representative_clusters = zip(representative_cluster_scores_sorted, representative_clusters_sorted_by_score, \n",
      "                   representative_cluster_indices_sorted_by_score, \n",
      "                   big_groups_sorted_by_score)\n",
      "\n",
      "dm.save_pipeline_result(representative_clusters, 'representativeClusters', 'pkl')"
     ],
     "language": "python",
     "metadata": {},
     "outputs": [
      {
       "output_type": "stream",
       "stream": "stdout",
       "text": [
        "saved /home/yuncong/project/DavidData2014results/RS141/0007/RS141_x5_0007_gabor-blueNisslWide-segm-blueNisslRegular-vq-blueNissl_representativeClusters.pkl\n"
       ]
      }
     ],
     "prompt_number": 52
    },
    {
     "cell_type": "code",
     "collapsed": false,
     "input": [
      "display(visualize_contours(representative_clusters_sorted_by_score[10:20]))"
     ],
     "language": "python",
     "metadata": {},
     "outputs": []
    },
    {
     "cell_type": "markdown",
     "metadata": {},
     "source": [
      "Pairwise overlaps within each cluster group"
     ]
    },
    {
     "cell_type": "code",
     "collapsed": false,
     "input": [
      "group_ind = 11\n",
      "\n",
      "n = len(big_groups_sorted_by_score[group_ind])\n",
      "Q = np.zeros((n, n))\n",
      "for i, ci in enumerate(big_groups_sorted_by_score[group_ind]):\n",
      "    for j, cj in enumerate(big_groups_sorted_by_score[group_ind]):\n",
      "#         print i, j, ci, cj\n",
      "        Q[i,j] = compute_overlap(set(expansion_clusters[ci]), set(expansion_clusters[cj]))\n",
      "\n",
      "plt.matshow(Q, vmin=0, vmax=1.);\n",
      "plt.colorbar();"
     ],
     "language": "python",
     "metadata": {},
     "outputs": []
    },
    {
     "cell_type": "markdown",
     "metadata": {},
     "source": [
      "Pairwise overlaps between two cluster groups"
     ]
    },
    {
     "cell_type": "code",
     "collapsed": false,
     "input": [
      "group_ind1 = 16\n",
      "group_ind2 = 22\n",
      "\n",
      "n1 = len(big_groups_sorted_by_score[group_ind1])\n",
      "n2 = len(big_groups_sorted_by_score[group_ind2])\n",
      "Q = np.zeros((n1, n2))\n",
      "for i, ci in enumerate(big_groups_sorted_by_score[group_ind1]):\n",
      "    for j, cj in enumerate(big_groups_sorted_by_score[group_ind2]):\n",
      "        Q[i,j] = compute_overlap(set(expansion_clusters[ci]), set(expansion_clusters[cj]))\n",
      "\n",
      "plt.matshow(Q, vmin=0, vmax=1.);\n",
      "plt.colorbar();\n",
      "print Q.max()"
     ],
     "language": "python",
     "metadata": {},
     "outputs": []
    },
    {
     "cell_type": "markdown",
     "metadata": {},
     "source": [
      "Max pairwise overlaps between any groups. If hierarchical clusternig uses single linkage, then printed values should all be smaller than _dist_thresh_ in _group_clusters()_."
     ]
    },
    {
     "cell_type": "code",
     "collapsed": false,
     "input": [
      "from itertools import product\n",
      "\n",
      "n_big_groups = len(big_groups_sorted_by_score)\n",
      "\n",
      "for group_ind1, group_ind2 in product(range(n_big_groups), range(n_big_groups)):\n",
      "\n",
      "#     print group_ind1, group_ind2\n",
      "\n",
      "    if group_ind1 >= group_ind2: continue\n",
      "\n",
      "    n1 = len(big_groups_sorted_by_score[group_ind1])\n",
      "    n2 = len(big_groups_sorted_by_score[group_ind2])\n",
      "    Q = np.zeros((n1, n2))\n",
      "    for i, ci in enumerate(big_groups_sorted_by_score[group_ind1]):\n",
      "        for j, cj in enumerate(big_groups_sorted_by_score[group_ind2]):\n",
      "            Q[i,j] = compute_overlap(set(expansion_clusters[ci]), set(expansion_clusters[cj]))\n",
      "\n",
      "#     plt.matshow(Q, vmin=0, vmax=1.);\n",
      "#     plt.colorbar();\n",
      "#     print Q.max()\n",
      "    if Q.max() > .5:\n",
      "        print group_ind1, group_ind2, Q.max()\n",
      "        \n",
      "# ASSERT THESE VALUES ARE ALL SMALLER THAN THRESH DISTANCE OF HIERARCHICAL CLUSTERING !!!"
     ],
     "language": "python",
     "metadata": {},
     "outputs": []
    },
    {
     "cell_type": "markdown",
     "metadata": {},
     "source": [
      "Old"
     ]
    },
    {
     "cell_type": "code",
     "collapsed": false,
     "input": [
      "sp_votes = np.zeros((n_superpixels,))\n",
      "surrounds_sps = []\n",
      "for j, cluster in enumerate(cluster_sps):\n",
      "    surrounds = set([i for i in set.union(*[neighbors[c] for c in cluster]) if i not in cluster and i != -1])        \n",
      "    frontiers = set.union(*[neighbors[c] for c in surrounds]) & set(cluster)\n",
      "    surrounds_sps.append(surrounds | frontiers)\n",
      "#     print cluster, surrounds, frontiers\n",
      "#     weight = 1./len(cluster)\n",
      "    weight = 1\n",
      "    for sp in surrounds:\n",
      "        sp_votes[sp] += weight"
     ],
     "language": "python",
     "metadata": {},
     "outputs": []
    },
    {
     "cell_type": "code",
     "collapsed": false,
     "input": [
      "plt.hist(sp_votes);"
     ],
     "language": "python",
     "metadata": {},
     "outputs": []
    },
    {
     "cell_type": "code",
     "collapsed": false,
     "input": [
      "from itertools import chain\n",
      "sp_votes = np.bincount(list(chain(*surrounds_sps)))"
     ],
     "language": "python",
     "metadata": {},
     "outputs": []
    },
    {
     "cell_type": "code",
     "collapsed": false,
     "input": [
      "from mpl_toolkits.axes_grid1 import make_axes_locatable\n",
      "\n",
      "votemap = sp_votes[segmentation]\n",
      "\n",
      "plt.figure(figsize=(20,8))\n",
      "\n",
      "plt.subplot(121)\n",
      "plt.imshow(dm.image, aspect='equal', cmap=plt.cm.gray)\n",
      "plt.axis('off')\n",
      "\n",
      "ax = plt.subplot(122)\n",
      "\n",
      "plt.axis('off')\n",
      "votemap_im = ax.imshow(votemap, aspect='equal')\n",
      "divider = make_axes_locatable(ax)\n",
      "cax = divider.append_axes(\"right\", size=\"5%\", pad=0.05)\n",
      "plt.colorbar(votemap_im, cax=cax);\n",
      "\n",
      "plt.tight_layout()"
     ],
     "language": "python",
     "metadata": {},
     "outputs": []
    },
    {
     "cell_type": "code",
     "collapsed": false,
     "input": [
      "highvote_sps = np.where(sp_votes>20)[0]\n",
      "print len(highvote_sps)\n",
      "\n",
      "vis = visualize_cluster(highvote_sps)\n",
      "display(vis)"
     ],
     "language": "python",
     "metadata": {},
     "outputs": []
    },
    {
     "cell_type": "code",
     "collapsed": false,
     "input": [
      "highlighted_sps = np.where((cluster_size_sps < 200) & (cluster_size_sps > 4))[0]\n",
      "n_highlights = len(highlighted_sps)\n",
      "print n_highlights\n",
      "highlighted_clusters = [cluster_sps[s] for s in highlighted_sps]\n",
      "highlighted_scores = [cluster_score_sps[s] for s in highlighted_sps]"
     ],
     "language": "python",
     "metadata": {},
     "outputs": []
    },
    {
     "cell_type": "code",
     "collapsed": false,
     "input": [
      "from scipy.spatial.distance import pdist, squareform\n",
      "from scipy.cluster.hierarchy import average, fcluster, leaders, complete, single, dendrogram\n",
      "\n",
      "def group_clusters(clusters, dist_thresh = 0.1):\n",
      "\n",
      "    n_clusters = len(clusters)\n",
      "    \n",
      "    overlap_matrix = np.zeros((n_clusters, n_clusters))\n",
      "    \n",
      "    for i in range(n_clusters):\n",
      "        for j in range(n_clusters):\n",
      "            if i == j:\n",
      "                overlap_matrix[i, j] = 1\n",
      "            else:\n",
      "                c1 = set(clusters[i])\n",
      "                c2 = set(clusters[j])\n",
      "                overlap_matrix[i, j] = float(len(c1 & c2))/min(len(c1),len(c2))\n",
      "\n",
      "    distance_matrix = 1 - overlap_matrix\n",
      "    \n",
      "#     lk = average(squareform(distance_matrix))\n",
      "    lk = single(squareform(distance_matrix))\n",
      "\n",
      "    # T = fcluster(lk, 1.15, criterion='inconsistent')\n",
      "    T = fcluster(lk, dist_thresh, criterion='distance')\n",
      "\n",
      "    n_groups = len(set(T))\n",
      "    print n_groups, 'groups'\n",
      "    \n",
      "    groups = [None] * n_groups\n",
      "\n",
      "    for group_id in range(n_groups):\n",
      "        groups[group_id] = where(T == group_id)[0]\n",
      "    \n",
      "        \n",
      "    return groups"
     ],
     "language": "python",
     "metadata": {},
     "outputs": []
    },
    {
     "cell_type": "code",
     "collapsed": false,
     "input": [
      "highlighted_groups = group_clusters(highlighted_clusters)"
     ],
     "language": "python",
     "metadata": {},
     "outputs": []
    },
    {
     "cell_type": "code",
     "collapsed": false,
     "input": [
      "sp_groups = [ [highlighted_sps[i] for i in group] for group in highlighted_groups if len(group) > 1]\n",
      "union_clusters = [cluster_sps[g[np.argmax(cluster_score_sps[g])]] for g in sp_groups]"
     ],
     "language": "python",
     "metadata": {},
     "outputs": []
    },
    {
     "cell_type": "code",
     "collapsed": false,
     "input": [
      "union_cluster_groups = group_clusters(union_clusters, dist_thresh=0.5)\n",
      "union_cluster_groups = [u for u in union_cluster_groups if len(u) > 0]"
     ],
     "language": "python",
     "metadata": {},
     "outputs": []
    },
    {
     "cell_type": "code",
     "collapsed": false,
     "input": [
      "# union_cluster_union_clusters = [set.union(*[set(union_clusters[i]) for i in g]) for g in union_cluster_groups]\n",
      "# union_cluster_union_clusters = [set.intersection(*[set(union_clusters[i]) for i in g]) for g in union_cluster_groups]\n",
      "union_cluster_union_clusters = [union_clusters[g[np.argmax([compute_cluster_score(union_clusters[i])[0] for i in g])]] \n",
      "                                for g in union_cluster_groups]"
     ],
     "language": "python",
     "metadata": {},
     "outputs": []
    },
    {
     "cell_type": "code",
     "collapsed": false,
     "input": [
      "filtered_group_scores = np.array([compute_cluster_score(g)[0] for g in union_clusters])\n",
      "# filtered_group_scores = np.array([compute_cluster_score(g)[0] for g in union_cluter_union_clusters])\n",
      "# filtered_group_scores = [cluster_score_sps[list(g)].max() for g in filtered_groups]\n",
      "\n",
      "arg_score_sorted = np.argsort(filtered_group_scores)[::-1]\n",
      "\n",
      "union_cluster_union_clusters_sorted = [union_clusters[i] for i in arg_score_sorted]\n",
      "\n",
      "print len(union_cluster_union_clusters_sorted)"
     ],
     "language": "python",
     "metadata": {},
     "outputs": []
    },
    {
     "cell_type": "code",
     "collapsed": false,
     "input": [
      "dm.save_pipeline_result(union_cluster_union_clusters_sorted, 'groups', 'pkl')"
     ],
     "language": "python",
     "metadata": {},
     "outputs": []
    },
    {
     "cell_type": "code",
     "collapsed": false,
     "input": [
      "# for i, (g, s) in enumerate(zip(union_cluster_union_clusters_sorted, filtered_group_scores[arg_score_sorted])):\n",
      "#     print i, g, s"
     ],
     "language": "python",
     "metadata": {},
     "outputs": []
    },
    {
     "cell_type": "code",
     "collapsed": false,
     "input": [
      "def display(vis, filename='tmp.jpg'):\n",
      "    \n",
      "    if vis.dtype != np.uint8:\n",
      "        imsave(filename, img_as_ubyte(vis))\n",
      "    else:\n",
      "        imsave(filename, vis)\n",
      "            \n",
      "    from IPython.display import FileLink\n",
      "    return FileLink(filename)\n"
     ],
     "language": "python",
     "metadata": {},
     "outputs": []
    },
    {
     "cell_type": "code",
     "collapsed": false,
     "input": [
      "vis = visualize_multiple_clusters(union_cluster_union_clusters_sorted[:10])\n",
      "display(vis)\n",
      "# dm.save_pipeline_result(vis, 'groupsTop10Vis', 'jpg', is_rgb=True)"
     ],
     "language": "python",
     "metadata": {},
     "outputs": []
    },
    {
     "cell_type": "code",
     "collapsed": false,
     "input": [
      "vis = visualize_multiple_clusters(union_cluster_union_clusters_sorted[10:20])\n",
      "display(vis)\n",
      "# dm.save_pipeline_result(vis, 'groupsTop10to20Vis', 'jpg', is_rgb=True)"
     ],
     "language": "python",
     "metadata": {},
     "outputs": []
    },
    {
     "cell_type": "code",
     "collapsed": false,
     "input": [
      "vis = visualize_multiple_clusters(union_cluster_union_clusters_sorted[20:30])\n",
      "display(vis)\n",
      "# dm.save_pipeline_result(vis, 'groupsTop20to30Vis', 'jpg', is_rgb=True)"
     ],
     "language": "python",
     "metadata": {},
     "outputs": []
    }
   ],
   "metadata": {}
  }
 ]
}