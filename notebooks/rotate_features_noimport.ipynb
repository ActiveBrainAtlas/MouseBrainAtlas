{
 "metadata": {
  "name": "",
  "signature": "sha256:22ff16dd87742a2dec9504a4d833ff9b7316685db79e7e70e41d80fa3d76d535"
 },
 "nbformat": 3,
 "nbformat_minor": 0,
 "worksheets": [
  {
   "cells": [
    {
     "cell_type": "code",
     "collapsed": false,
     "input": [
      "# try:\n",
      "#     features_rotated = dm.load_pipeline_result('features_rotated', 'npy')\n",
      "\n",
      "# except Exception as e:\n",
      "\n",
      "features = dm.load_pipeline_result('features', 'npy')\n",
      "\n",
      "valid_features = features[:, dm.mask].T\n",
      "n_valid = len(valid_features)\n",
      "\n",
      "del features\n",
      "\n",
      "def rotate_features(fs):\n",
      "    features_tabular = fs.reshape((fs.shape[0], dm.n_freq, dm.n_angle))\n",
      "    max_angle_indices = features_tabular.max(axis=1).argmax(axis=-1)\n",
      "    features_rotated = np.reshape([np.roll(features_tabular[i], -ai, axis=-1) \n",
      "                               for i, ai in enumerate(max_angle_indices)], (fs.shape[0], dm.n_freq * dm.n_angle))\n",
      "\n",
      "    return features_rotated\n",
      "\n",
      "from joblib import Parallel, delayed\n",
      "\n",
      "n_splits = 1000\n",
      "features_rotated_list = Parallel(n_jobs=16)(delayed(rotate_features)(fs) for fs in np.array_split(valid_features, n_splits))\n",
      "features_rotated = np.vstack(features_rotated_list)\n",
      "\n",
      "del valid_features\n",
      "\n",
      "dm.save_pipeline_result(features_rotated, 'features_rotated', 'npy')"
     ],
     "language": "python",
     "metadata": {},
     "outputs": [
      {
       "output_type": "stream",
       "stream": "stdout",
       "text": [
        "/home/yuncong/project/DavidData2014results/RS141/0005/RS141_x5_0005_gabor-blueNisslWide_features.npy\n",
        "loaded /home/yuncong/project/DavidData2014results/RS141/0005/RS141_x5_0005_gabor-blueNisslWide_features.npy"
       ]
      },
      {
       "output_type": "stream",
       "stream": "stdout",
       "text": [
        "\n"
       ]
      },
      {
       "output_type": "stream",
       "stream": "stdout",
       "text": [
        "saved /home/yuncong/project/DavidData2014results/RS141/0005/RS141_x5_0005_gabor-blueNisslWide_features_rotated.npy\n"
       ]
      }
     ],
     "prompt_number": 4
    }
   ],
   "metadata": {}
  }
 ]
}