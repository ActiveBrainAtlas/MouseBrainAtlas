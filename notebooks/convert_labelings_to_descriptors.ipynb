{
 "cells": [
  {
   "cell_type": "code",
   "execution_count": 3,
   "metadata": {
    "collapsed": false
   },
   "outputs": [],
   "source": [
    "%load_ext autoreload\n",
    "%autoreload 2\n",
    "\n",
    "import os\n",
    "import time\n",
    "import sys\n",
    "\n",
    "from utilities2014 import *\n",
    "\n",
    "sys.path.append('/home/yuncong/project/opencv-2.4.9/release/lib/python2.7/site-packages')\n",
    "import cv2\n",
    "\n",
    "from joblib import Parallel, delayed\n",
    "\n",
    "from collections import defaultdict, Counter\n",
    "from itertools import combinations, chain, product\n",
    "\n",
    "import matplotlib.pyplot as plt\n",
    "%matplotlib inline\n",
    "\n",
    "import cPickle as pickle"
   ]
  },
  {
   "cell_type": "code",
   "execution_count": 4,
   "metadata": {
    "collapsed": true
   },
   "outputs": [],
   "source": [
    "from enum import Enum\n",
    "\n",
    "class PolygonType(Enum):\n",
    "    CLOSED = 'closed'\n",
    "    OPEN = 'open'\n",
    "    TEXTURE = 'textured'\n",
    "    TEXTURE_WITH_CONTOUR = 'texture with contour'\n",
    "    DIRECTION = 'directionality'"
   ]
  },
  {
   "cell_type": "code",
   "execution_count": 5,
   "metadata": {
    "collapsed": false
   },
   "outputs": [
    {
     "name": "stderr",
     "output_type": "stream",
     "text": [
      "/oasis/projects/nsf/csd181/yuncong/virtualenv-1.9.1/yuncongve/lib/python2.7/site-packages/skimage/filter/__init__.py:6: skimage_deprecation: The `skimage.filter` module has been renamed to `skimage.filters`.  This placeholder module will be removed in v0.13.\n",
      "  warn(skimage_deprecation('The `skimage.filter` module has been renamed '\n"
     ]
    }
   ],
   "source": [
    "dm = DataManager(generate_hierarchy=False, stack='RS141', resol='x5', section=4)\n",
    "dm._load_image()\n",
    "\n",
    "texton_hists = dm.load_pipeline_result('texHist', 'npy')\n",
    "segmentation = dm.load_pipeline_result('segmentation', 'npy')\n",
    "n_superpixels = len(np.unique(segmentation)) - 1\n",
    "textonmap = dm.load_pipeline_result('texMap', 'npy')\n",
    "n_texton = len(np.unique(textonmap)) - 1\n",
    "neighbors = dm.load_pipeline_result('neighbors', 'pkl')\n",
    "sp_properties = dm.load_pipeline_result('spProps', 'npy')\n",
    "segmentation_vis = dm.load_pipeline_result('segmentationWithText', 'jpg')\n",
    "\n",
    "# texture_map = texton_hists[segmentation]\n",
    "# texture_map[~dm.mask] = np.nan * np.ones((n_texton,))\n",
    "# dm.save_pipeline_result(texture_map, 'textureMap', 'npy')\n",
    "texture_map = dm.load_pipeline_result('textureMap', 'npy')\n",
    "\n",
    "coherence_map = dm.load_pipeline_result('coherenceMap', 'npy')\n",
    "eigenvec_map = dm.load_pipeline_result('eigenvecMap', 'npy')\n",
    "\n",
    "origPosCanvas = dm.load_pipeline_result('originPosOnCanvas', 'npy')"
   ]
  },
  {
   "cell_type": "code",
   "execution_count": 6,
   "metadata": {
    "collapsed": false
   },
   "outputs": [],
   "source": [
    "# labeling_name = 'RS141_0001_yuncong_08282015013756'\n",
    "labeling_name = 'RS141_0004_yuncong_08282015023125'\n",
    "labeling = dm.load_labeling(labeling_name='_'.join(labeling_name.split('_')[-2:]))"
   ]
  },
  {
   "cell_type": "code",
   "execution_count": 7,
   "metadata": {
    "collapsed": true
   },
   "outputs": [],
   "source": [
    "thetas = np.linspace(-np.pi/4, np.pi/4, 9)\n",
    "n_theta = len(thetas)\n",
    "Rs = [np.array([[np.cos(theta), np.sin(theta)], [-np.sin(theta), np.cos(theta)]]) for theta in thetas]"
   ]
  },
  {
   "cell_type": "code",
   "execution_count": 27,
   "metadata": {
    "collapsed": false
   },
   "outputs": [],
   "source": [
    "from scipy.spatial.distance import cdist\n",
    "\n",
    "def vertices_to_normals(vertices):\n",
    "    \n",
    "    n = vertices.shape[0]\n",
    "\n",
    "    # compute normal direction of each vertex\n",
    "    D = cdist(vertices, vertices)\n",
    "    nn = D.argsort(axis=1)[:,:3]\n",
    "    vertice_normals = np.empty((n, 2))\n",
    "    for i, neighborhood in enumerate(nn):\n",
    "        X = vertices[neighborhood]\n",
    "        Xc = X - X.mean(axis=0)\n",
    "        U,S,V = np.linalg.svd(np.dot(Xc.T, Xc))\n",
    "        tangent_dir = U[:,0]\n",
    "        vertice_normals[i] = np.array([tangent_dir[1], -tangent_dir[0]])\n",
    "        if vertice_normals[i][0] < 0: # make sure x-component is positive, i.e. normal points rightwards\n",
    "            vertice_normals[i] = -vertice_normals[i]\n",
    "    return vertice_normals\n",
    "\n",
    "\n",
    "def find_in_polygon(vertices, x, y):\n",
    "\n",
    "    from matplotlib.path import Path\n",
    "\n",
    "    X, Y = np.meshgrid(x, y)  # X, Y are 2D ndarrays\n",
    "    XY = np.dstack((X, Y))\n",
    "    XY_flat = XY.reshape((-1, 2))\n",
    "\n",
    "    mpath = Path(vertices) # the vertices of the polygon\n",
    "    mask_flat = mpath.contains_points(XY_flat)\n",
    "    mask = mask_flat.reshape(X.shape).copy()\n",
    "\n",
    "    return mask.astype(np.bool)\n",
    "\n",
    "    \n",
    "def compute_landmark_descriptors(group):\n",
    "    \n",
    "    n_polygon = len(group)\n",
    "        \n",
    "    all_polygon_types, all_polygon_vertices_global = zip(*group)\n",
    "                \n",
    "    edge_indices = [i for i in range(n_polygon)\n",
    "                   if all_polygon_types[i] == PolygonType.TEXTURE_WITH_CONTOUR \\\n",
    "                            or all_polygon_types[i] == PolygonType.CLOSED\\\n",
    "                           or all_polygon_types[i] == PolygonType.OPEN]\n",
    "    texture_indices = [i for i in range(n_polygon)\n",
    "                   if all_polygon_types[i] == PolygonType.TEXTURE_WITH_CONTOUR \\\n",
    "                            or all_polygon_types[i] == PolygonType.TEXTURE]\n",
    "    \n",
    "    res = [{'bbox':None, 'polygons':[{'type': all_polygon_types[i]} for i in range(n_polygon)]} \n",
    "           for _ in range(n_theta)]\n",
    "        \n",
    "    all_vertices = np.vstack(all_polygon_vertices_global)\n",
    "    \n",
    "    xmin, ymin = all_vertices.min(axis=0).astype(np.int)\n",
    "    xmax, ymax = all_vertices.max(axis=0).astype(np.int)\n",
    "    centroid_global = all_vertices.mean(axis=0).astype(np.int)\n",
    "    centroid_local = centroid_global - [xmin, ymin]\n",
    "    lm_texture_template = texture_map[ymin:ymax+1, xmin:xmax+1]\n",
    "\n",
    "    lm_box_shape = [xmax - xmin + 1, ymax - ymin + 1]\n",
    "\n",
    "    texture_sample_radius = 5\n",
    "    int_rs = np.arange(-texture_sample_radius, 0)\n",
    "    ext_rs = np.arange(1, texture_sample_radius+1)\n",
    "    \n",
    "    all_polygon_vertice_normals = map(vertices_to_normals, all_polygon_vertices_global)\n",
    "    \n",
    "    striation_indices = [i for i in range(n_polygon) if all_polygon_types[i] == PolygonType.DIRECTION]\n",
    "    if len(striation_indices) > 0:\n",
    "        striation_sample_points = np.vstack(all_polygon_vertices_global[i] for i in striation_indices).astype(np.int)\n",
    "        striation_sample_vecs = eigenvec_map[striation_sample_points[:,1], striation_sample_points[:,0]]\n",
    "\n",
    "    \n",
    "    for theta_i in range(n_theta):\n",
    "        \n",
    "        all_polygon_vertices_rotated_global = [np.dot(vertices - centroid_global, Rs[theta_i].T).astype(np.int) + centroid_global\n",
    "                                               for vertices in all_polygon_vertices_global]\n",
    "                \n",
    "        all_polygon_vertices_rotated_global_stacked = np.vstack(all_polygon_vertices_rotated_global)\n",
    "        all_polygon_vertices_rotated_global_xymin = all_polygon_vertices_rotated_global_stacked.min(axis=0)\n",
    "        all_polygon_vertices_rotated_global_xymax = all_polygon_vertices_rotated_global_stacked.max(axis=0)\n",
    "                \n",
    "        centroid_rotated_local = centroid_global - all_polygon_vertices_rotated_global_xymin\n",
    "        \n",
    "        rotated_bbox_shape = all_polygon_vertices_rotated_global_xymax - all_polygon_vertices_rotated_global_xymin + 1\n",
    "        \n",
    "        res[theta_i]['bbox'] = np.array([rotated_bbox_shape[0], rotated_bbox_shape[1], \n",
    "                                 centroid_rotated_local[0], centroid_rotated_local[1],\n",
    "                                        centroid_global[0], centroid_global[1],\n",
    "                                        xmin, ymin, xmax, ymax])\n",
    "        \n",
    "        all_polygon_vertices_rotated_local = [vertices_rotated_global - all_polygon_vertices_rotated_global_xymin\n",
    "                                              for vertices_rotated_global in all_polygon_vertices_rotated_global]\n",
    "        \n",
    "        all_polygon_vertices_rotated_canvas = [vertices_rotated_global + origPosCanvas \n",
    "                                               for vertices_rotated_global in all_polygon_vertices_rotated_global]\n",
    "\n",
    "        \n",
    "#         if len(edge_indices) > 0:\n",
    "            \n",
    "#             all_polygon_vertice_normals_rotated = [np.dot(vertice_normals, Rs[theta_i].T)\n",
    "#                                                    for vertice_normals in all_polygon_vertice_normals]\n",
    "            \n",
    "        for i in edge_indices:\n",
    "            polygon = res[theta_i]['polygons'][i]\n",
    "\n",
    "            polygon['boundary_normals'] = np.dot(all_polygon_vertice_normals[i], Rs[theta_i].T)\n",
    "            polygon['boundary_vertices_local'] = all_polygon_vertices_rotated_local[i]\n",
    "            polygon['boundary_vertices_global'] = all_polygon_vertices_rotated_global[i]\n",
    "            polygon['boundary_vertices_canvas'] = all_polygon_vertices_rotated_canvas[i]\n",
    "\n",
    "            int_texture_sample_xs = (all_polygon_vertices_global[i][:,0][:,None] + np.outer( polygon['boundary_normals'][:,0], int_rs)).astype(np.int)\n",
    "            int_texture_sample_ys = (all_polygon_vertices_global[i][:,1][:,None] + np.outer( polygon['boundary_normals'][:,1], int_rs)).astype(np.int)\n",
    "            polygon['boundary_int_texture'] = texture_map[int_texture_sample_ys, int_texture_sample_xs].mean(axis=1)\n",
    "\n",
    "            ext_texture_sample_xs = (all_polygon_vertices_global[i][:,0][:,None] + np.outer( polygon['boundary_normals'][:,0], ext_rs)).astype(np.int)\n",
    "            ext_texture_sample_ys = (all_polygon_vertices_global[i][:,1][:,None] + np.outer( polygon['boundary_normals'][:,1], ext_rs)).astype(np.int)\n",
    "            polygon['boundary_ext_texture'] = texture_map[ext_texture_sample_ys, ext_texture_sample_xs].mean(axis=1)\n",
    "                                        \n",
    "    \n",
    "        for i in striation_indices:\n",
    "            polygon = res[theta_i]['polygons'][i]\n",
    "\n",
    "            polygon['striation_points_local'] = all_polygon_vertices_rotated_local[i].astype(np.int)\n",
    "            \n",
    "            # original\n",
    "            striation_sample_points = all_polygon_vertices_global[i].astype(np.int)\n",
    "            striation_sample_vecs = eigenvec_map[striation_sample_points[:,1], striation_sample_points[:,0]]\n",
    "            \n",
    "            polygon['striation_vecs'] = np.dot(striation_sample_vecs, Rs[theta_i].T)\n",
    "            polygon['striation_points_global'] = all_polygon_vertices_global[i]\n",
    "            polygon['striation_points_canvas'] = all_polygon_vertices_rotated_canvas[i]      \n",
    "\n",
    "        # rotated templates\n",
    "        \n",
    "        if len(texture_indices) > 0:\n",
    "        \n",
    "            rotated_texTemplate = np.nan * np.ones((rotated_bbox_shape[1], rotated_bbox_shape[0], n_texton))\n",
    "\n",
    "            ys, xs = np.mgrid[:rotated_bbox_shape[1], :rotated_bbox_shape[0]]\n",
    "            a = np.dot(np.linalg.inv(Rs[theta_i]), (np.c_[xs.flat, ys.flat] - centroid_rotated_local).T).T\n",
    "\n",
    "            xss = (a[:,0] + centroid_local[0]).astype(np.int)\n",
    "            yss = (a[:,1] + centroid_local[1]).astype(np.int)\n",
    "\n",
    "            valid = (yss < lm_texture_template.shape[0]) & (yss >= 0) & (xss < lm_texture_template.shape[1]) & (xss >= 0)\n",
    "            rotated_texTemplate[ys.flat[valid], xs.flat[valid]] = lm_texture_template[yss[valid], xss[valid]].copy()\n",
    "\n",
    "            for i in texture_indices:\n",
    "                polygon = res[theta_i]['polygons'][i]\n",
    "\n",
    "                polygon_mask = find_in_polygon(all_polygon_vertices_rotated_local[i], \n",
    "                                               range(rotated_bbox_shape[0]), range(rotated_bbox_shape[1]))\n",
    "\n",
    "                polygon['textured_area_mask'] = polygon_mask\n",
    "                \n",
    "#                 polygon['textured_area_template'] = np.nan * np.ones_like(rotated_texTemplate)\n",
    "#                 polygon['textured_area_template'][polygon_mask] = rotated_texTemplate[polygon_mask].copy()\n",
    "#                 textured_pixels_ys, textured_pixels_xs = np.where(~np.isnan(polygon['textured_area_template'][...,0]))\n",
    "\n",
    "#                 textured_area_template = np.nan * np.ones_like(rotated_texTemplate)\n",
    "#                 textured_area_template[polygon_mask] = rotated_texTemplate[polygon_mask]\n",
    "                \n",
    "#                 polygon['textured_area_template_sparse'] = textured_area_template[::10, ::10].copy()\n",
    "            \n",
    "                polygon['textured_area_texton_histogram'] = np.nanmean(rotated_texTemplate[polygon_mask], axis=0)\n",
    "        \n",
    "#                 textured_pixels_ys, textured_pixels_xs = np.where(~np.isnan(textured_area_template[...,0]))\n",
    "#                 textured_pixels_xys_global = np.c_[textured_pixels_xs, textured_pixels_ys] + all_polygon_vertices_rotated_global_xymin\n",
    "#                 polygon['textured_area_pixels_global'] = textured_pixels_xys_global\n",
    "                polygon['textured_area_vertices_global'] = all_polygon_vertices_rotated_global[i]\n",
    "                polygon['textured_area_vertices_canvas'] = all_polygon_vertices_rotated_canvas[i]\n",
    "\n",
    "                \n",
    "        if len(edge_indices) > 0:\n",
    "            res[theta_i]['boundary_normals'] = np.vstack(res[theta_i]['polygons'][i]['boundary_normals'] for i in edge_indices)\n",
    "            res[theta_i]['boundary_vertices_local'] = np.vstack(res[theta_i]['polygons'][i]['boundary_vertices_local'] for i in edge_indices)\n",
    "            res[theta_i]['boundary_vertices_global'] = np.vstack(res[theta_i]['polygons'][i]['boundary_vertices_global'] for i in edge_indices)\n",
    "            res[theta_i]['boundary_vertices_canvas'] = np.vstack(res[theta_i]['polygons'][i]['boundary_vertices_canvas'] for i in edge_indices)\n",
    "            res[theta_i]['boundary_int_texture'] = np.vstack(res[theta_i]['polygons'][i]['boundary_int_texture'] for i in edge_indices)\n",
    "            res[theta_i]['boundary_ext_texture'] = np.vstack(res[theta_i]['polygons'][i]['boundary_ext_texture'] for i in edge_indices)\n",
    "        else:\n",
    "            res[theta_i]['boundary_vertices_local'] = []\n",
    "            res[theta_i]['boundary_vertices_global'] = []\n",
    "\n",
    "        if len(striation_indices) > 0:\n",
    "            res[theta_i]['striation_points_local'] = np.vstack(res[theta_i]['polygons'][i]['striation_points_local'] for i in striation_indices)\n",
    "            res[theta_i]['striation_vecs'] = np.vstack(res[theta_i]['polygons'][i]['striation_vecs'] for i in striation_indices)\n",
    "            res[theta_i]['striation_points_global'] = np.vstack(res[theta_i]['polygons'][i]['striation_points_global'] for i in striation_indices)\n",
    "            res[theta_i]['striation_points_canvas'] = np.vstack(res[theta_i]['polygons'][i]['striation_points_canvas'] for i in striation_indices)\n",
    "        else:\n",
    "            res[theta_i]['striation_points_local'] = []\n",
    "            res[theta_i]['striation_points_global'] = []\n",
    "            \n",
    "        if len(texture_indices) > 0:\n",
    "#             res[theta_i]['textured_area_template'] = np.sum(np.nan_to_num(res[theta_i]['polygons'][i]['textured_area_template']) for i in texture_indices)\n",
    "\n",
    "            mask = np.logical_or.reduce([res[theta_i]['polygons'][i]['textured_area_mask'] for i in texture_indices])\n",
    "            res[theta_i]['textured_area_mask'] = mask\n",
    "            \n",
    "#             res[theta_i]['textured_area_template'] = np.nan * np.ones_like(rotated_texTemplate)\n",
    "#             res[theta_i]['textured_area_template'][mask] = rotated_texTemplate[mask]\n",
    "\n",
    "            res[theta_i]['textured_area_masks_and_texhists'] = [(res[theta_i]['polygons'][i]['textured_area_mask'],\n",
    "                                                                 res[theta_i]['polygons'][i]['textured_area_texton_histogram'])\n",
    "                                                                for i in texture_indices]\n",
    "\n",
    "#             textured_area_template_sparse = np.nan * np.ones_like(rotated_texTemplate)\n",
    "#             textured_area_template_sparse[mask] = rotated_texTemplate[mask]\n",
    "#             res[theta_i]['textured_area_template_sparse'] = textured_area_template_sparse[::10, ::10].copy()\n",
    "            \n",
    "#             res[theta_i]['textured_area_pixels_global'] = np.vstack(res[theta_i]['polygons'][i]['textured_area_pixels_global'] for i in texture_indices)\n",
    "            res[theta_i]['textured_area_vertices_global'] = np.vstack(res[theta_i]['polygons'][i]['textured_area_vertices_global'] for i in texture_indices)\n",
    "        else:\n",
    "            res[theta_i]['textured_area_vertices_global'] = []\n",
    "        \n",
    "    return res"
   ]
  },
  {
   "cell_type": "code",
   "execution_count": 24,
   "metadata": {
    "collapsed": false
   },
   "outputs": [],
   "source": [
    "vertices_name = {PolygonType.OPEN: 'boundary_vertices_global',\n",
    "                 PolygonType.CLOSED: 'boundary_vertices_global',\n",
    "                 PolygonType.DIRECTION: 'striation_points_global',\n",
    "                 PolygonType.TEXTURE: 'textured_area_vertices_global',\n",
    "                 PolygonType.TEXTURE_WITH_CONTOUR: 'textured_area_vertices_global'\n",
    "                }"
   ]
  },
  {
   "cell_type": "code",
   "execution_count": 25,
   "metadata": {
    "collapsed": true
   },
   "outputs": [],
   "source": [
    "def compute_landmark_descriptors_helper(label, group):\n",
    "    descriptor = compute_landmark_descriptors(group)\n",
    "    with open('/home/yuncong/csd395/landmark_descriptors/%s_landmark_descriptors_%d.pkl'%(labeling_name,label), 'w') as f:\n",
    "        pickle.dump(descriptor, f)        \n",
    "#     return label, descriptor"
   ]
  },
  {
   "cell_type": "code",
   "execution_count": 18,
   "metadata": {
    "collapsed": false
   },
   "outputs": [],
   "source": [
    "# b = time.time()\n",
    "\n",
    "# Parallel(n_jobs=16)(delayed(compute_landmark_descriptors_helper)(label, group)\n",
    "#                     for label, group in labeling['final_polygons'].iteritems())\n",
    "\n",
    "# print time.time() - b"
   ]
  },
  {
   "cell_type": "code",
   "execution_count": 28,
   "metadata": {
    "collapsed": false,
    "scrolled": true
   },
   "outputs": [
    {
     "name": "stdout",
     "output_type": "stream",
     "text": [
      "0\n",
      "1\n",
      "2\n",
      "3\n",
      "4\n",
      "5\n",
      "6\n",
      "7\n",
      "8\n",
      "9\n",
      "10\n",
      "11\n",
      "12\n",
      "14\n",
      "15\n",
      "16\n"
     ]
    }
   ],
   "source": [
    "centriods_global = {}\n",
    "landmark_vertices_global = {}\n",
    "landmark_polygon_vertices_global = {}\n",
    "\n",
    "for label, group in labeling['final_polygons'].iteritems():\n",
    "    print label\n",
    "    descriptor = compute_landmark_descriptors(group)\n",
    "\n",
    "    with open('/home/yuncong/csd395/landmark_descriptors/%s_landmark_descriptors_%d.pkl'%(labeling_name,label), 'w') as f:\n",
    "        pickle.dump(descriptor, f)\n",
    "        \n",
    "    d = descriptor[4]\n",
    "    \n",
    "    centriods_global[label] = descriptor[0]['bbox'][4:6]\n",
    "    landmark_vertices_global[label] = [d['boundary_vertices_global'], \n",
    "                                       d['textured_area_vertices_global'], \n",
    "                                       d['striation_points_global']]\n",
    "    landmark_polygon_vertices_global[label] = [(p['type'], p[vertices_name[p['type']]]) for p in d['polygons']]"
   ]
  },
  {
   "cell_type": "code",
   "execution_count": 31,
   "metadata": {
    "collapsed": false
   },
   "outputs": [],
   "source": [
    "with open('/home/yuncong/csd395/landmark_descriptors/%s_landmark_centroids_global.pkl'%labeling_name, 'w') as f:\n",
    "    pickle.dump(centriods_global, f)"
   ]
  },
  {
   "cell_type": "code",
   "execution_count": 32,
   "metadata": {
    "collapsed": true
   },
   "outputs": [],
   "source": [
    "with open('/home/yuncong/csd395/landmark_descriptors/%s_landmark_vertices_global.pkl'%labeling_name, 'w') as f:\n",
    "    pickle.dump(landmark_vertices_global, f)"
   ]
  },
  {
   "cell_type": "code",
   "execution_count": 33,
   "metadata": {
    "collapsed": true
   },
   "outputs": [],
   "source": [
    "with open('/home/yuncong/csd395/landmark_descriptors/%s_landmark_polygon_vertices_global.pkl'%labeling_name, 'w') as f:\n",
    "    pickle.dump(landmark_polygon_vertices_global, f)"
   ]
  },
  {
   "cell_type": "code",
   "execution_count": null,
   "metadata": {
    "collapsed": true
   },
   "outputs": [],
   "source": [
    "# import tables as T\n",
    "# import numpy as N\n",
    "\n",
    "# ra = N.array([(3.14159,'some string',[1,2,3,4,5],N.arange(0,10,0.1))],\n",
    "# dtype = \"f8,S20,(5,)i4,(100,)f8\")\n",
    "\n",
    "# f = T.openFile(\"test.h5\", \"w\")\n",
    "# t = f.createTable(f.root, 'table', ra)\n",
    "# print \"table metadata-->\", repr(t)\n",
    "# print \"table data-->\", t[:]\n",
    "\n",
    "# f.close()"
   ]
  }
 ],
 "metadata": {
  "kernelspec": {
   "display_name": "Python 2",
   "language": "python",
   "name": "python2"
  },
  "language_info": {
   "codemirror_mode": {
    "name": "ipython",
    "version": 2
   },
   "file_extension": ".py",
   "mimetype": "text/x-python",
   "name": "python",
   "nbconvert_exporter": "python",
   "pygments_lexer": "ipython2",
   "version": "2.7.3"
  }
 },
 "nbformat": 4,
 "nbformat_minor": 0
}
