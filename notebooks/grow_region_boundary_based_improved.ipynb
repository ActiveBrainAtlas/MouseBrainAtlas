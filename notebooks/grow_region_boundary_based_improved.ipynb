{
 "metadata": {
  "name": "",
  "signature": "sha256:8e6da22e316810c8bdd3f76541ddfb369aeda2afece233cad3059426ccfa5523"
 },
 "nbformat": 3,
 "nbformat_minor": 0,
 "worksheets": [
  {
   "cells": [
    {
     "cell_type": "code",
     "collapsed": false,
     "input": [
      "import sys\n",
      "sys.path.append('/home/yuncong/Brain/pipeline_scripts')\n",
      "from utilities2014 import *\n",
      "import os\n",
      "\n",
      "from scipy.spatial.distance import cdist, pdist, squareform\n",
      "from joblib import Parallel, delayed\n",
      "from skimage.color import gray2rgb\n",
      "\n",
      "%run grow_region_boundary_based_common.ipynb\n",
      "\n",
      "section_ind = 17\n",
      "\n",
      "dm.set_slice(section_ind)\n",
      "dm._load_image()\n",
      "\n",
      "texton_hists = dm.load_pipeline_result('texHist', 'npy')\n",
      "segmentation = dm.load_pipeline_result('segmentation', 'npy')\n",
      "n_superpixels = len(unique(segmentation)) - 1\n",
      "textonmap = dm.load_pipeline_result('texMap', 'npy')\n",
      "n_texton = len(np.unique(textonmap)) - 1\n",
      "neighbors = dm.load_pipeline_result('neighbors', 'npy')\n",
      "sp_properties = dm.load_pipeline_result('spProps', 'npy')\n",
      "segmentation_vis = dm.load_pipeline_result('segmentationWithText', 'jpg')\n",
      "\n",
      "expansion_clusters = dm.load_pipeline_result('clusters', 'pkl')\n"
     ],
     "language": "python",
     "metadata": {},
     "outputs": [
      {
       "output_type": "stream",
       "stream": "stdout",
       "text": [
        "loaded /home/yuncong/project/DavidData2014results/RS141/0017/RS141_x5_0017_gabor-blueNisslWide-segm-blueNisslRegular-vq-blueNissl_texHist.npy\n",
        "loaded /home/yuncong/project/DavidData2014results/RS141/0017/RS141_x5_0017_segm-blueNisslRegular_segmentation.npy\n",
        "loaded /home/yuncong/project/DavidData2014results/RS141/0017/RS141_x5_0017_gabor-blueNisslWide-vq-blueNissl_texMap.npy"
       ]
      },
      {
       "output_type": "stream",
       "stream": "stdout",
       "text": [
        "\n",
        "loaded /home/yuncong/project/DavidData2014results/RS141/0017/RS141_x5_0017_segm-blueNisslRegular_neighbors.npy"
       ]
      },
      {
       "output_type": "stream",
       "stream": "stdout",
       "text": [
        "\n",
        "loaded /home/yuncong/project/DavidData2014results/RS141/0017/RS141_x5_0017_segm-blueNisslRegular_spProps.npy\n",
        "loaded /home/yuncong/project/DavidData2014results/RS141/0017/RS141_x5_0017_segm-blueNisslRegular_segmentationWithText.jpg"
       ]
      },
      {
       "output_type": "stream",
       "stream": "stdout",
       "text": [
        "\n",
        "loaded /home/yuncong/project/DavidData2014results/RS141/0017/RS141_x5_0017_gabor-blueNisslWide-segm-blueNisslRegular-vq-blueNissl_clusters.pkl"
       ]
      },
      {
       "output_type": "stream",
       "stream": "stdout",
       "text": [
        "\n"
       ]
      }
     ],
     "prompt_number": 3
    },
    {
     "cell_type": "code",
     "collapsed": false,
     "input": [
      "votemap, border_sps = compute_boundariness_vote(expansion_clusters, neighbors, mode='surrounds')"
     ],
     "language": "python",
     "metadata": {},
     "outputs": [],
     "prompt_number": 4
    },
    {
     "cell_type": "code",
     "collapsed": false,
     "input": [
      "boundary_dist_matrix = set_pairwise_distances(border_sps)\n",
      "border_clusters = group_clusters(border_sps, dist_thresh=.05, distance_matrix=boundary_dist_matrix)\n",
      "border_lengths = np.array([len(b) for b in border_sps])\n",
      "\n",
      "border_clusters = [b for b in border_clusters if len(b) > 0]\n",
      "\n",
      "border_cluster_size = np.array([len(b) for b in border_clusters])\n",
      "plt.hist(border_cluster_size, bins=np.linspace(0, border_cluster_size.max(), 100));\n",
      "plt.xlabel('votes');\n",
      "plt.ylabel('number of boundary groups');"
     ],
     "language": "python",
     "metadata": {},
     "outputs": [
      {
       "output_type": "stream",
       "stream": "stdout",
       "text": [
        "3035 groups\n"
       ]
      },
      {
       "metadata": {},
       "output_type": "display_data",
       "png": "[encoded data removed]",
       "text": [
        "<matplotlib.figure.Figure at 0x51e9750>"
       ]
      }
     ],
     "prompt_number": 5
    },
    {
     "cell_type": "code",
     "collapsed": false,
     "input": [
      "representative_borders = np.array([bc[np.argmax([border_lengths[i] for i in bc])] for bc in border_clusters])"
     ],
     "language": "python",
     "metadata": {},
     "outputs": [],
     "prompt_number": 6
    },
    {
     "cell_type": "code",
     "collapsed": false,
     "input": [
      "# good_borders, good_counts = zip(*[(set.union(*[border_sps[i] for i in b]), len(b)) for b in border_clusters if len(b) > 10])\n",
      "good_indices, good_borders, good_counts = zip(*[(i, border_sps[b], s) \n",
      "                            for i, (b, s) in enumerate(zip(representative_borders, border_cluster_size)) if s > 8])\n",
      "\n",
      "\n",
      "print zip(good_indices, counts)"
     ],
     "language": "python",
     "metadata": {},
     "outputs": [
      {
       "ename": "NameError",
       "evalue": "name 'counts' is not defined",
       "output_type": "pyerr",
       "traceback": [
        "\u001b[1;31m---------------------------------------------------------------------------\u001b[0m\n\u001b[1;31mNameError\u001b[0m                                 Traceback (most recent call last)",
        "\u001b[1;32m<ipython-input-7-db8515254af2>\u001b[0m in \u001b[0;36m<module>\u001b[1;34m()\u001b[0m\n\u001b[0;32m      4\u001b[0m \u001b[1;33m\u001b[0m\u001b[0m\n\u001b[0;32m      5\u001b[0m \u001b[1;33m\u001b[0m\u001b[0m\n\u001b[1;32m----> 6\u001b[1;33m \u001b[1;32mprint\u001b[0m \u001b[0mzip\u001b[0m\u001b[1;33m(\u001b[0m\u001b[0mgood_indices\u001b[0m\u001b[1;33m,\u001b[0m \u001b[0mcounts\u001b[0m\u001b[1;33m)\u001b[0m\u001b[1;33m\u001b[0m\u001b[0m\n\u001b[0m",
        "\u001b[1;31mNameError\u001b[0m: name 'counts' is not defined"
       ]
      }
     ],
     "prompt_number": 7
    },
    {
     "cell_type": "code",
     "collapsed": false,
     "input": [
      "vis = visualize_multiple_clusters(good_borders, segmentation=segmentation, segmentation_vis=segmentation_vis)\n",
      "\n",
      "plt.figure(figsize=(20,20))\n",
      "plt.imshow(vis)\n",
      "plt.axis('off')\n",
      "plt.title('good boundaries')"
     ],
     "language": "python",
     "metadata": {},
     "outputs": []
    },
    {
     "cell_type": "code",
     "collapsed": false,
     "input": [],
     "language": "python",
     "metadata": {},
     "outputs": []
    }
   ],
   "metadata": {}
  }
 ]
}