{
 "metadata": {
  "name": "",
  "signature": "sha256:d05e66f0e191e3254d5a5ded0441334ed0db5e90ad8331cd4d1a0762cbf0704f"
 },
 "nbformat": 3,
 "nbformat_minor": 0,
 "worksheets": [
  {
   "cells": [
    {
     "cell_type": "code",
     "collapsed": false,
     "input": [
      "from utilities import *\n",
      "from scipy.spatial.distance import cdist"
     ],
     "language": "python",
     "metadata": {},
     "outputs": []
    },
    {
     "cell_type": "code",
     "collapsed": false,
     "input": [
      "def compute_cluster_score(cluster, texton_hists, D_sp_null):\n",
      "    model = texton_hists[list(cluster)].mean(axis=0)\n",
      "    D_sp_model = np.squeeze(cdist([model], texton_hists[list(cluster)], chi2))\n",
      "    model_sum = np.sum(D_sp_model)\n",
      "    null_sum = np.sum(D_sp_null[list(cluster)])\n",
      "\n",
      "    # can be made weighted by superpixel size\n",
      "    \n",
      "    score = null_sum - model_sum\n",
      "    return score, null_sum, model_sum"
     ],
     "language": "python",
     "metadata": {},
     "outputs": []
    },
    {
     "cell_type": "code",
     "collapsed": false,
     "input": [
      "# def grow_cluster(seed, neighbors, texton_hists, D_sp_null, model_fit_reduce_limit=.5):\n",
      "    \n",
      "#     curr_cluster = set([seed])\n",
      "#     frontier = [seed]\n",
      "    \n",
      "#     curr_cluster_score, _, curr_model_score = compute_cluster_score(curr_cluster, texton_hists, D_sp_null)\n",
      "    \n",
      "#     while len(frontier) > 0:\n",
      "#         u = frontier.pop(-1)\n",
      "#         for v in neighbors[u]:\n",
      "#             if v == -1 or v in curr_cluster: \n",
      "#                 continue\n",
      "\n",
      "#             score_new, _, model_sum_new = compute_cluster_score(curr_cluster | set([v]), texton_hists, D_sp_null)\n",
      "            \n",
      "#             if score_new > curr_cluster_score and model_sum_new - curr_model_score < model_fit_reduce_limit :\n",
      "#                 curr_cluster.add(v)\n",
      "#                 frontier.append(v)\n",
      "#                 curr_cluster_score, _, curr_model_score = compute_cluster_score(curr_cluster, texton_hists, D_sp_null)\n",
      "            \n",
      "#             if len(curr_cluster) > 50:\n",
      "#                 return curr_cluster\n",
      "            \n",
      "#     return curr_cluster"
     ],
     "language": "python",
     "metadata": {},
     "outputs": []
    },
    {
     "cell_type": "code",
     "collapsed": false,
     "input": [
      "def grow_cluster(seed, neighbors, texton_hists, D_sp_null, model_fit_reduce_limit=.5, score_drop_tolerance=0.):\n",
      "        \n",
      "    curr_cluster = set([seed])\n",
      "    frontier = [seed]\n",
      "    \n",
      "    curr_cluster_score, curr_null_score, curr_model_score = compute_cluster_score(curr_cluster, texton_hists, D_sp_null)\n",
      "    \n",
      "    while len(frontier) > 0:\n",
      "        u = frontier.pop(-1)\n",
      "            \n",
      "        ns = np.array(list(neighbors[u]))\n",
      "        \n",
      "        ds = np.squeeze(cdist(texton_hists[u][np.newaxis, :], texton_hists[ns]))\n",
      "        \n",
      "        for v in ns[ds.argsort()]:\n",
      "            if v == -1 or v in curr_cluster: \n",
      "                continue\n",
      "\n",
      "            score_new, null_sum_new, model_sum_new = compute_cluster_score(curr_cluster | set([v]), texton_hists, D_sp_null)\n",
      "            \n",
      "#             if score_new > curr_cluster_score and model_sum_new - curr_model_score < model_fit_reduce_limit:\n",
      "            if score_new > curr_cluster_score - score_drop_tolerance and model_sum_new - curr_model_score < model_fit_reduce_limit:\n",
      "                curr_cluster.add(v)\n",
      "                frontier.append(v)\n",
      "                curr_cluster_score, curr_null_score, curr_model_score = compute_cluster_score(curr_cluster, texton_hists, D_sp_null)\n",
      "                \n",
      "            if len(curr_cluster) > 100:\n",
      "                return curr_cluster\n",
      "            \n",
      "    return curr_cluster"
     ],
     "language": "python",
     "metadata": {},
     "outputs": []
    }
   ],
   "metadata": {}
  }
 ]
}