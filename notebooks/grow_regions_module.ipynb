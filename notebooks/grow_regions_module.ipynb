{
 "metadata": {
  "name": "",
  "signature": "sha256:5e9ba60caad9d2992cf7c84b941075864c74c5a7b4115967dc8ffc3090a5213f"
 },
 "nbformat": 3,
 "nbformat_minor": 0,
 "worksheets": [
  {
   "cells": [
    {
     "cell_type": "code",
     "collapsed": false,
     "input": [
      "from utilities import *\n",
      "from scipy.spatial.distance import cdist"
     ],
     "language": "python",
     "metadata": {},
     "outputs": []
    },
    {
     "cell_type": "code",
     "collapsed": false,
     "input": [
      "def compute_cluster_score(cluster, texton_hists, D_sp_null):\n",
      "    model = texton_hists[list(cluster)].mean(axis=0)\n",
      "    D_sp_model = np.squeeze(cdist([model], texton_hists[list(cluster)], chi2))\n",
      "    model_sum = np.sum(D_sp_model)\n",
      "    null_sum = np.sum(D_sp_null[list(cluster)])\n",
      "\n",
      "    # can be made weighted by superpixel size\n",
      "    \n",
      "    score = null_sum - model_sum\n",
      "    return score, null_sum, model_sum"
     ],
     "language": "python",
     "metadata": {},
     "outputs": []
    },
    {
     "cell_type": "code",
     "collapsed": false,
     "input": [
      "def grow_cluster(seed, neighbors, texton_hists, D_sp_null, model_fit_reduce_limit=.5):\n",
      "    \n",
      "    curr_cluster = set([seed])\n",
      "    frontier = [seed]\n",
      "    \n",
      "    curr_cluster_score, _, curr_model_score = compute_cluster_score(curr_cluster, texton_hists, D_sp_null)\n",
      "    \n",
      "    while len(frontier) > 0:\n",
      "        u = frontier.pop(-1)\n",
      "        for v in neighbors[u]:\n",
      "            if v == -1 or v in curr_cluster: \n",
      "                continue\n",
      "\n",
      "            score_new, _, model_sum_new = compute_cluster_score(curr_cluster | set([v]), texton_hists, D_sp_null)\n",
      "            \n",
      "            if score_new > curr_cluster_score and model_sum_new - curr_model_score < model_fit_reduce_limit :\n",
      "                curr_cluster.add(v)\n",
      "                frontier.append(v)\n",
      "                curr_cluster_score, _, curr_model_score = compute_cluster_score(curr_cluster, texton_hists, D_sp_null)\n",
      "            \n",
      "            if len(curr_cluster) > 50:\n",
      "                return curr_cluster\n",
      "            \n",
      "    return curr_cluster"
     ],
     "language": "python",
     "metadata": {},
     "outputs": []
    }
   ],
   "metadata": {}
  }
 ]
}