{
 "cells": [
  {
   "cell_type": "code",
   "execution_count": 1,
   "metadata": {
    "collapsed": true
   },
   "outputs": [],
   "source": [
    "%reload_ext autoreload\n",
    "%autoreload 2\n",
    "\n",
    "import os\n",
    "import argparse\n",
    "import sys\n",
    "import time\n",
    "\n",
    "from joblib import Parallel, delayed\n",
    "from utilities2015 import *\n",
    "\n",
    "%matplotlib inline"
   ]
  },
  {
   "cell_type": "code",
   "execution_count": 2,
   "metadata": {
    "collapsed": true
   },
   "outputs": [],
   "source": [
    "dm = DataManager(stack='MD593', section=141, segm_params_id='tSLIC200')\n",
    "# dm._load_image(format='gray')"
   ]
  },
  {
   "cell_type": "code",
   "execution_count": 3,
   "metadata": {
    "collapsed": true
   },
   "outputs": [],
   "source": [
    "segmentation = dm.load_pipeline_result('segmentation')\n",
    "n_superpixels = segmentation.max() + 1\n",
    "\n",
    "textonmap = dm.load_pipeline_result('texMap')\n",
    "n_texton = textonmap.max() + 1\n",
    "texton_hists = dm.load_pipeline_result('texHist')\n",
    "\n",
    "neighbors = dm.load_pipeline_result('neighbors')\n",
    "\n",
    "edge_coords = dict(dm.load_pipeline_result('edgeCoords'))\n",
    "edge_neighbors = dm.load_pipeline_result('edgeNeighbors')\n",
    "\n",
    "dedge_vectors = dm.load_pipeline_result('dedgeVectors')\n",
    "dedge_neighbors = dm.load_pipeline_result('dedgeNeighbors')"
   ]
  },
  {
   "cell_type": "code",
   "execution_count": 4,
   "metadata": {
    "collapsed": true
   },
   "outputs": [],
   "source": [
    "window_size = 201\n",
    "window_halfsize = (window_size-1)/2"
   ]
  },
  {
   "cell_type": "code",
   "execution_count": 5,
   "metadata": {
    "collapsed": false
   },
   "outputs": [
    {
     "name": "stderr",
     "output_type": "stream",
     "text": [
      "computing histogram for each pixel\n",
      "done in 34.72 seconds\n"
     ]
    }
   ],
   "source": [
    "sys.stderr.write('computing histogram for each pixel\\n')\n",
    "t = time.time()\n",
    "\n",
    "single_channel_maps = [textonmap[dm.ymin-window_halfsize : dm.ymax+1+window_halfsize, \n",
    "                                 dm.xmin-window_halfsize : dm.xmax+1+window_halfsize] == c\n",
    "                       for c in range(n_texton)]\n",
    "\n",
    "from skimage.transform import integral_image\n",
    "\n",
    "# it is important to pad the integral image with zeros before first row and first column\n",
    "def compute_integral_image(m):\n",
    "    return np.pad(integral_image(m), ((1,0),(1,0)), mode='constant', constant_values=0)\n",
    "\n",
    "int_imgs = np.dstack(Parallel(n_jobs=4)(delayed(compute_integral_image)(m) for m in single_channel_maps))\n",
    "\n",
    "sys.stderr.write('done in %.2f seconds\\n' % (time.time() - t))"
   ]
  },
  {
   "cell_type": "code",
   "execution_count": 6,
   "metadata": {
    "collapsed": true
   },
   "outputs": [],
   "source": [
    "histograms = int_imgs[window_size:, window_size:] + \\\n",
    "            int_imgs[:-window_size, :-window_size] - \\\n",
    "            int_imgs[window_size:, :-window_size] - \\\n",
    "            int_imgs[:-window_size, window_size:]\n",
    "        \n",
    "histograms_normalized = histograms/histograms.sum(axis=-1)[...,None].astype(np.float)"
   ]
  },
  {
   "cell_type": "code",
   "execution_count": 7,
   "metadata": {
    "collapsed": false
   },
   "outputs": [
    {
     "name": "stderr",
     "output_type": "stream",
     "text": [
      "/oasis/projects/nsf/csd181/yuncong/virtualenv-1.9.1/yuncongve/lib/python2.7/site-packages/PIL/Image.py:2261: DecompressionBombWarning: Image size (203470848 pixels) exceeds limit of 89478485 pixels, could be decompression bomb DOS attack.\n",
      "  DecompressionBombWarning)\n"
     ]
    }
   ],
   "source": [
    "dm._load_image(versions=['rgb-jpg'])"
   ]
  },
  {
   "cell_type": "code",
   "execution_count": 8,
   "metadata": {
    "collapsed": false
   },
   "outputs": [
    {
     "name": "stdout",
     "output_type": "stream",
     "text": [
      "done in 38.3310351372 seconds\n"
     ]
    }
   ],
   "source": [
    "t = time.time()\n",
    "\n",
    "from sklearn.cluster import MiniBatchKMeans\n",
    "kmeans = MiniBatchKMeans(n_clusters=100, batch_size=1000)\n",
    "kmeans.fit(histograms_normalized.reshape((-1, n_texton))[::10])\n",
    "centroids = kmeans.cluster_centers_\n",
    "# labels = kmeans.labels_\t\n",
    "\n",
    "print 'done in', time.time() - t, 'seconds'"
   ]
  },
  {
   "cell_type": "code",
   "execution_count": 9,
   "metadata": {
    "collapsed": false
   },
   "outputs": [
    {
     "name": "stdout",
     "output_type": "stream",
     "text": [
      "merging centroids ... 14 reduced textons\n",
      "done in 0.138881921768 seconds\n"
     ]
    }
   ],
   "source": [
    "print 'merging centroids ...',\n",
    "t = time.time()\n",
    "\n",
    "from scipy.cluster.hierarchy import fclusterdata\n",
    "# cluster_assignments = fclusterdata(centroids, 1.2, method=\"complete\", criterion=\"inconsistent\", metric=chi2)\n",
    "cluster_assignments = fclusterdata(centroids, .3, method=\"complete\", criterion=\"distance\", metric=chi2)\n",
    "\n",
    "reduced_centroids = np.array([centroids[cluster_assignments == i].mean(axis=0) for i in set(cluster_assignments)])\n",
    "n_reduced_texton = len(reduced_centroids)\n",
    "print n_reduced_texton, 'reduced textons'\n",
    "\n",
    "print 'done in', time.time() - t, 'seconds'"
   ]
  },
  {
   "cell_type": "code",
   "execution_count": 69,
   "metadata": {
    "collapsed": false
   },
   "outputs": [],
   "source": [
    "del D"
   ]
  },
  {
   "cell_type": "code",
   "execution_count": 11,
   "metadata": {
    "collapsed": false
   },
   "outputs": [],
   "source": [
    "D = np.empty((n_reduced_texton, histograms_normalized.shape[0]*histograms_normalized.shape[1]))"
   ]
  },
  {
   "cell_type": "code",
   "execution_count": 12,
   "metadata": {
    "collapsed": false,
    "scrolled": true
   },
   "outputs": [
    {
     "name": "stdout",
     "output_type": "stream",
     "text": [
      "done in 18.097892046 seconds\n",
      "done in 15.0571899414 seconds\n",
      "done in 15.0769541264 seconds\n",
      "done in 15.0775198936 seconds\n",
      "done in 15.1270990372 seconds\n",
      "done in 15.1466021538 seconds\n",
      "done in 15.1669487953 seconds\n",
      "done in 15.1643509865 seconds\n",
      "done in 15.3693399429 seconds\n",
      "done in 15.1971180439 seconds\n",
      "done in 15.4001061916 seconds\n",
      "done in 15.3628160954 seconds\n",
      "done in 15.4676198959 seconds\n",
      "done in 15.3564350605 seconds\n"
     ]
    }
   ],
   "source": [
    "for i, c in enumerate(reduced_centroids):\n",
    "    t = time.time()\n",
    "\n",
    "    D[i] = chi2s([c], histograms_normalized.reshape((-1, n_texton)))\n",
    "    \n",
    "    print 'done in', time.time() - t, 'seconds'"
   ]
  },
  {
   "cell_type": "code",
   "execution_count": 11,
   "metadata": {
    "collapsed": true
   },
   "outputs": [],
   "source": [
    "# H = histograms_normalized.reshape((-1, n_texton))"
   ]
  },
  {
   "cell_type": "code",
   "execution_count": null,
   "metadata": {
    "collapsed": true
   },
   "outputs": [],
   "source": [
    "# t = time.time()\n",
    "# D = Parallel(n_jobs=4)(delayed(chi2s)([c], H) for c in reduced_centroids)\n",
    "# print 'done in', time.time() - t, 'seconds'"
   ]
  },
  {
   "cell_type": "code",
   "execution_count": 52,
   "metadata": {
    "collapsed": true
   },
   "outputs": [],
   "source": [
    "np.save('labelmap2.npy', labelmap)"
   ]
  },
  {
   "cell_type": "code",
   "execution_count": 13,
   "metadata": {
    "collapsed": true
   },
   "outputs": [],
   "source": [
    "labels = np.argmin(D, axis=0)"
   ]
  },
  {
   "cell_type": "code",
   "execution_count": 18,
   "metadata": {
    "collapsed": true
   },
   "outputs": [],
   "source": [
    "label_hist = np.bincount(labels, minlength=n_reduced_texton)"
   ]
  },
  {
   "cell_type": "code",
   "execution_count": 20,
   "metadata": {
    "collapsed": true
   },
   "outputs": [],
   "source": [
    "label_hist_normalized = label_hist/float(label_hist.sum())"
   ]
  },
  {
   "cell_type": "code",
   "execution_count": 50,
   "metadata": {
    "collapsed": false
   },
   "outputs": [
    {
     "data": {
      "image/png": "[encoded data removed]",
      "text/plain": [
       "<matplotlib.figure.Figure at 0x6964690>"
      ]
     },
     "metadata": {},
     "output_type": "display_data"
    }
   ],
   "source": [
    "plt.bar(range(n_reduced_texton), label_hist_normalized);\n",
    "plt.xlabel('texture label');"
   ]
  },
  {
   "cell_type": "code",
   "execution_count": null,
   "metadata": {
    "collapsed": true
   },
   "outputs": [],
   "source": [
    "labelmap = labels.reshape(histograms_normalized.shape[:2])"
   ]
  },
  {
   "cell_type": "code",
   "execution_count": 23,
   "metadata": {
    "collapsed": true
   },
   "outputs": [],
   "source": [
    "from skimage.measure import label, regionprops"
   ]
  },
  {
   "cell_type": "code",
   "execution_count": 61,
   "metadata": {
    "collapsed": false
   },
   "outputs": [
    {
     "name": "stderr",
     "output_type": "stream",
     "text": [
      "/oasis/projects/nsf/csd181/yuncong/virtualenv-1.9.1/yuncongve/lib/python2.7/site-packages/skimage/measure/_label.py:5: DeprecationWarning: The default value for `background` will change to 0 in v0.12\n",
      "  return _label(input, neighbors, background, return_num, connectivity)\n"
     ]
    }
   ],
   "source": [
    "comp_map, comp_num = label(labelmap, return_num=True)\n",
    "props = regionprops(comp_map)\n",
    "areas = np.array([p.area for p in props])"
   ]
  },
  {
   "cell_type": "code",
   "execution_count": 35,
   "metadata": {
    "collapsed": true
   },
   "outputs": [],
   "source": [
    "coords = np.array([p.coords for p in props])"
   ]
  },
  {
   "cell_type": "code",
   "execution_count": 51,
   "metadata": {
    "collapsed": false
   },
   "outputs": [
    {
     "data": {
      "image/png": "[encoded data removed]",
      "text/plain": [
       "<matplotlib.figure.Figure at 0x12268750>"
      ]
     },
     "metadata": {},
     "output_type": "display_data"
    }
   ],
   "source": [
    "plt.hist(np.log(areas), bins=100);\n",
    "plt.xlabel('log(area)');\n",
    "plt.ylabel('frequency');\n",
    "plt.title('connected component area distribution');"
   ]
  },
  {
   "cell_type": "code",
   "execution_count": 53,
   "metadata": {
    "collapsed": true
   },
   "outputs": [],
   "source": [
    "n = histograms_normalized.shape[0]*histograms_normalized.shape[1]"
   ]
  },
  {
   "cell_type": "code",
   "execution_count": 70,
   "metadata": {
    "collapsed": false,
    "scrolled": true
   },
   "outputs": [
    {
     "name": "stderr",
     "output_type": "stream",
     "text": [
      "/oasis/projects/nsf/csd181/yuncong/virtualenv-1.9.1/yuncongve/lib/python2.7/site-packages/skimage/measure/_label.py:5: DeprecationWarning: The default value for `background` will change to 0 in v0.12\n",
      "  return _label(input, neighbors, background, return_num, connectivity)\n",
      "/oasis/projects/nsf/csd181/yuncong/virtualenv-1.9.1/yuncongve/lib/python2.7/site-packages/skimage/measure/_label.py:5: DeprecationWarning: The default value for `background` will change to 0 in v0.12\n",
      "  return _label(input, neighbors, background, return_num, connectivity)\n",
      "/oasis/projects/nsf/csd181/yuncong/virtualenv-1.9.1/yuncongve/lib/python2.7/site-packages/skimage/measure/_label.py:5: DeprecationWarning: The default value for `background` will change to 0 in v0.12\n",
      "  return _label(input, neighbors, background, return_num, connectivity)\n",
      "/oasis/projects/nsf/csd181/yuncong/virtualenv-1.9.1/yuncongve/lib/python2.7/site-packages/skimage/measure/_label.py:5: DeprecationWarning: The default value for `background` will change to 0 in v0.12\n",
      "  return _label(input, neighbors, background, return_num, connectivity)\n",
      "/oasis/projects/nsf/csd181/yuncong/virtualenv-1.9.1/yuncongve/lib/python2.7/site-packages/skimage/measure/_label.py:5: DeprecationWarning: The default value for `background` will change to 0 in v0.12\n",
      "  return _label(input, neighbors, background, return_num, connectivity)\n",
      "/oasis/projects/nsf/csd181/yuncong/virtualenv-1.9.1/yuncongve/lib/python2.7/site-packages/skimage/measure/_label.py:5: DeprecationWarning: The default value for `background` will change to 0 in v0.12\n",
      "  return _label(input, neighbors, background, return_num, connectivity)\n",
      "/oasis/projects/nsf/csd181/yuncong/virtualenv-1.9.1/yuncongve/lib/python2.7/site-packages/skimage/measure/_label.py:5: DeprecationWarning: The default value for `background` will change to 0 in v0.12\n",
      "  return _label(input, neighbors, background, return_num, connectivity)\n",
      "/oasis/projects/nsf/csd181/yuncong/virtualenv-1.9.1/yuncongve/lib/python2.7/site-packages/skimage/measure/_label.py:5: DeprecationWarning: The default value for `background` will change to 0 in v0.12\n",
      "  return _label(input, neighbors, background, return_num, connectivity)\n",
      "/oasis/projects/nsf/csd181/yuncong/virtualenv-1.9.1/yuncongve/lib/python2.7/site-packages/skimage/measure/_label.py:5: DeprecationWarning: The default value for `background` will change to 0 in v0.12\n",
      "  return _label(input, neighbors, background, return_num, connectivity)\n",
      "/oasis/projects/nsf/csd181/yuncong/virtualenv-1.9.1/yuncongve/lib/python2.7/site-packages/skimage/measure/_label.py:5: DeprecationWarning: The default value for `background` will change to 0 in v0.12\n",
      "  return _label(input, neighbors, background, return_num, connectivity)\n",
      "/oasis/projects/nsf/csd181/yuncong/virtualenv-1.9.1/yuncongve/lib/python2.7/site-packages/skimage/measure/_label.py:5: DeprecationWarning: The default value for `background` will change to 0 in v0.12\n",
      "  return _label(input, neighbors, background, return_num, connectivity)\n",
      "/oasis/projects/nsf/csd181/yuncong/virtualenv-1.9.1/yuncongve/lib/python2.7/site-packages/skimage/measure/_label.py:5: DeprecationWarning: The default value for `background` will change to 0 in v0.12\n",
      "  return _label(input, neighbors, background, return_num, connectivity)\n",
      "/oasis/projects/nsf/csd181/yuncong/virtualenv-1.9.1/yuncongve/lib/python2.7/site-packages/skimage/measure/_label.py:5: DeprecationWarning: The default value for `background` will change to 0 in v0.12\n",
      "  return _label(input, neighbors, background, return_num, connectivity)\n",
      "/oasis/projects/nsf/csd181/yuncong/virtualenv-1.9.1/yuncongve/lib/python2.7/site-packages/skimage/measure/_label.py:5: DeprecationWarning: The default value for `background` will change to 0 in v0.12\n",
      "  return _label(input, neighbors, background, return_num, connectivity)\n",
      "/oasis/projects/nsf/csd181/yuncong/virtualenv-1.9.1/yuncongve/lib/python2.7/site-packages/skimage/measure/_label.py:5: DeprecationWarning: The default value for `background` will change to 0 in v0.12\n",
      "  return _label(input, neighbors, background, return_num, connectivity)\n",
      "/oasis/projects/nsf/csd181/yuncong/virtualenv-1.9.1/yuncongve/lib/python2.7/site-packages/skimage/measure/_label.py:5: DeprecationWarning: The default value for `background` will change to 0 in v0.12\n",
      "  return _label(input, neighbors, background, return_num, connectivity)\n",
      "/oasis/projects/nsf/csd181/yuncong/virtualenv-1.9.1/yuncongve/lib/python2.7/site-packages/skimage/measure/_label.py:5: DeprecationWarning: The default value for `background` will change to 0 in v0.12\n",
      "  return _label(input, neighbors, background, return_num, connectivity)\n",
      "/oasis/projects/nsf/csd181/yuncong/virtualenv-1.9.1/yuncongve/lib/python2.7/site-packages/skimage/measure/_label.py:5: DeprecationWarning: The default value for `background` will change to 0 in v0.12\n",
      "  return _label(input, neighbors, background, return_num, connectivity)\n",
      "/oasis/projects/nsf/csd181/yuncong/virtualenv-1.9.1/yuncongve/lib/python2.7/site-packages/skimage/measure/_label.py:5: DeprecationWarning: The default value for `background` will change to 0 in v0.12\n",
      "  return _label(input, neighbors, background, return_num, connectivity)\n",
      "/oasis/projects/nsf/csd181/yuncong/virtualenv-1.9.1/yuncongve/lib/python2.7/site-packages/skimage/measure/_label.py:5: DeprecationWarning: The default value for `background` will change to 0 in v0.12\n",
      "  return _label(input, neighbors, background, return_num, connectivity)\n",
      "/oasis/projects/nsf/csd181/yuncong/virtualenv-1.9.1/yuncongve/lib/python2.7/site-packages/skimage/measure/_label.py:5: DeprecationWarning: The default value for `background` will change to 0 in v0.12\n",
      "  return _label(input, neighbors, background, return_num, connectivity)\n",
      "/oasis/projects/nsf/csd181/yuncong/virtualenv-1.9.1/yuncongve/lib/python2.7/site-packages/skimage/measure/_label.py:5: DeprecationWarning: The default value for `background` will change to 0 in v0.12\n",
      "  return _label(input, neighbors, background, return_num, connectivity)\n",
      "/oasis/projects/nsf/csd181/yuncong/virtualenv-1.9.1/yuncongve/lib/python2.7/site-packages/skimage/measure/_label.py:5: DeprecationWarning: The default value for `background` will change to 0 in v0.12\n",
      "  return _label(input, neighbors, background, return_num, connectivity)\n",
      "/oasis/projects/nsf/csd181/yuncong/virtualenv-1.9.1/yuncongve/lib/python2.7/site-packages/skimage/measure/_label.py:5: DeprecationWarning: The default value for `background` will change to 0 in v0.12\n",
      "  return _label(input, neighbors, background, return_num, connectivity)\n",
      "/oasis/projects/nsf/csd181/yuncong/virtualenv-1.9.1/yuncongve/lib/python2.7/site-packages/skimage/measure/_label.py:5: DeprecationWarning: The default value for `background` will change to 0 in v0.12\n",
      "  return _label(input, neighbors, background, return_num, connectivity)\n",
      "/oasis/projects/nsf/csd181/yuncong/virtualenv-1.9.1/yuncongve/lib/python2.7/site-packages/skimage/measure/_label.py:5: DeprecationWarning: The default value for `background` will change to 0 in v0.12\n",
      "  return _label(input, neighbors, background, return_num, connectivity)\n",
      "/oasis/projects/nsf/csd181/yuncong/virtualenv-1.9.1/yuncongve/lib/python2.7/site-packages/skimage/measure/_label.py:5: DeprecationWarning: The default value for `background` will change to 0 in v0.12\n",
      "  return _label(input, neighbors, background, return_num, connectivity)\n",
      "/oasis/projects/nsf/csd181/yuncong/virtualenv-1.9.1/yuncongve/lib/python2.7/site-packages/skimage/measure/_label.py:5: DeprecationWarning: The default value for `background` will change to 0 in v0.12\n",
      "  return _label(input, neighbors, background, return_num, connectivity)\n",
      "/oasis/projects/nsf/csd181/yuncong/virtualenv-1.9.1/yuncongve/lib/python2.7/site-packages/skimage/measure/_label.py:5: DeprecationWarning: The default value for `background` will change to 0 in v0.12\n",
      "  return _label(input, neighbors, background, return_num, connectivity)\n",
      "/oasis/projects/nsf/csd181/yuncong/virtualenv-1.9.1/yuncongve/lib/python2.7/site-packages/skimage/measure/_label.py:5: DeprecationWarning: The default value for `background` will change to 0 in v0.12\n",
      "  return _label(input, neighbors, background, return_num, connectivity)\n",
      "/oasis/projects/nsf/csd181/yuncong/virtualenv-1.9.1/yuncongve/lib/python2.7/site-packages/skimage/measure/_label.py:5: DeprecationWarning: The default value for `background` will change to 0 in v0.12\n",
      "  return _label(input, neighbors, background, return_num, connectivity)\n",
      "/oasis/projects/nsf/csd181/yuncong/virtualenv-1.9.1/yuncongve/lib/python2.7/site-packages/skimage/measure/_label.py:5: DeprecationWarning: The default value for `background` will change to 0 in v0.12\n",
      "  return _label(input, neighbors, background, return_num, connectivity)\n",
      "/oasis/projects/nsf/csd181/yuncong/virtualenv-1.9.1/yuncongve/lib/python2.7/site-packages/skimage/measure/_label.py:5: DeprecationWarning: The default value for `background` will change to 0 in v0.12\n",
      "  return _label(input, neighbors, background, return_num, connectivity)\n",
      "/oasis/projects/nsf/csd181/yuncong/virtualenv-1.9.1/yuncongve/lib/python2.7/site-packages/skimage/measure/_label.py:5: DeprecationWarning: The default value for `background` will change to 0 in v0.12\n",
      "  return _label(input, neighbors, background, return_num, connectivity)\n",
      "/oasis/projects/nsf/csd181/yuncong/virtualenv-1.9.1/yuncongve/lib/python2.7/site-packages/skimage/measure/_label.py:5: DeprecationWarning: The default value for `background` will change to 0 in v0.12\n",
      "  return _label(input, neighbors, background, return_num, connectivity)\n",
      "/oasis/projects/nsf/csd181/yuncong/virtualenv-1.9.1/yuncongve/lib/python2.7/site-packages/skimage/measure/_label.py:5: DeprecationWarning: The default value for `background` will change to 0 in v0.12\n",
      "  return _label(input, neighbors, background, return_num, connectivity)\n",
      "/oasis/projects/nsf/csd181/yuncong/virtualenv-1.9.1/yuncongve/lib/python2.7/site-packages/skimage/measure/_label.py:5: DeprecationWarning: The default value for `background` will change to 0 in v0.12\n",
      "  return _label(input, neighbors, background, return_num, connectivity)\n",
      "/oasis/projects/nsf/csd181/yuncong/virtualenv-1.9.1/yuncongve/lib/python2.7/site-packages/skimage/measure/_label.py:5: DeprecationWarning: The default value for `background` will change to 0 in v0.12\n",
      "  return _label(input, neighbors, background, return_num, connectivity)\n",
      "/oasis/projects/nsf/csd181/yuncong/virtualenv-1.9.1/yuncongve/lib/python2.7/site-packages/skimage/measure/_label.py:5: DeprecationWarning: The default value for `background` will change to 0 in v0.12\n",
      "  return _label(input, neighbors, background, return_num, connectivity)\n",
      "/oasis/projects/nsf/csd181/yuncong/virtualenv-1.9.1/yuncongve/lib/python2.7/site-packages/skimage/measure/_label.py:5: DeprecationWarning: The default value for `background` will change to 0 in v0.12\n",
      "  return _label(input, neighbors, background, return_num, connectivity)\n",
      "/oasis/projects/nsf/csd181/yuncong/virtualenv-1.9.1/yuncongve/lib/python2.7/site-packages/skimage/measure/_label.py:5: DeprecationWarning: The default value for `background` will change to 0 in v0.12\n",
      "  return _label(input, neighbors, background, return_num, connectivity)\n",
      "/oasis/projects/nsf/csd181/yuncong/virtualenv-1.9.1/yuncongve/lib/python2.7/site-packages/skimage/measure/_label.py:5: DeprecationWarning: The default value for `background` will change to 0 in v0.12\n",
      "  return _label(input, neighbors, background, return_num, connectivity)\n",
      "/oasis/projects/nsf/csd181/yuncong/virtualenv-1.9.1/yuncongve/lib/python2.7/site-packages/skimage/measure/_label.py:5: DeprecationWarning: The default value for `background` will change to 0 in v0.12\n",
      "  return _label(input, neighbors, background, return_num, connectivity)\n",
      "/oasis/projects/nsf/csd181/yuncong/virtualenv-1.9.1/yuncongve/lib/python2.7/site-packages/skimage/measure/_label.py:5: DeprecationWarning: The default value for `background` will change to 0 in v0.12\n",
      "  return _label(input, neighbors, background, return_num, connectivity)\n",
      "/oasis/projects/nsf/csd181/yuncong/virtualenv-1.9.1/yuncongve/lib/python2.7/site-packages/skimage/measure/_label.py:5: DeprecationWarning: The default value for `background` will change to 0 in v0.12\n",
      "  return _label(input, neighbors, background, return_num, connectivity)\n",
      "/oasis/projects/nsf/csd181/yuncong/virtualenv-1.9.1/yuncongve/lib/python2.7/site-packages/skimage/measure/_label.py:5: DeprecationWarning: The default value for `background` will change to 0 in v0.12\n",
      "  return _label(input, neighbors, background, return_num, connectivity)\n",
      "/oasis/projects/nsf/csd181/yuncong/virtualenv-1.9.1/yuncongve/lib/python2.7/site-packages/skimage/measure/_label.py:5: DeprecationWarning: The default value for `background` will change to 0 in v0.12\n",
      "  return _label(input, neighbors, background, return_num, connectivity)\n",
      "/oasis/projects/nsf/csd181/yuncong/virtualenv-1.9.1/yuncongve/lib/python2.7/site-packages/skimage/measure/_label.py:5: DeprecationWarning: The default value for `background` will change to 0 in v0.12\n",
      "  return _label(input, neighbors, background, return_num, connectivity)\n",
      "/oasis/projects/nsf/csd181/yuncong/virtualenv-1.9.1/yuncongve/lib/python2.7/site-packages/skimage/measure/_label.py:5: DeprecationWarning: The default value for `background` will change to 0 in v0.12\n",
      "  return _label(input, neighbors, background, return_num, connectivity)\n",
      "/oasis/projects/nsf/csd181/yuncong/virtualenv-1.9.1/yuncongve/lib/python2.7/site-packages/skimage/measure/_label.py:5: DeprecationWarning: The default value for `background` will change to 0 in v0.12\n",
      "  return _label(input, neighbors, background, return_num, connectivity)\n",
      "/oasis/projects/nsf/csd181/yuncong/virtualenv-1.9.1/yuncongve/lib/python2.7/site-packages/skimage/measure/_label.py:5: DeprecationWarning: The default value for `background` will change to 0 in v0.12\n",
      "  return _label(input, neighbors, background, return_num, connectivity)\n",
      "/oasis/projects/nsf/csd181/yuncong/virtualenv-1.9.1/yuncongve/lib/python2.7/site-packages/skimage/measure/_label.py:5: DeprecationWarning: The default value for `background` will change to 0 in v0.12\n",
      "  return _label(input, neighbors, background, return_num, connectivity)\n",
      "/oasis/projects/nsf/csd181/yuncong/virtualenv-1.9.1/yuncongve/lib/python2.7/site-packages/skimage/measure/_label.py:5: DeprecationWarning: The default value for `background` will change to 0 in v0.12\n",
      "  return _label(input, neighbors, background, return_num, connectivity)\n",
      "/oasis/projects/nsf/csd181/yuncong/virtualenv-1.9.1/yuncongve/lib/python2.7/site-packages/skimage/measure/_label.py:5: DeprecationWarning: The default value for `background` will change to 0 in v0.12\n",
      "  return _label(input, neighbors, background, return_num, connectivity)\n",
      "/oasis/projects/nsf/csd181/yuncong/virtualenv-1.9.1/yuncongve/lib/python2.7/site-packages/skimage/measure/_label.py:5: DeprecationWarning: The default value for `background` will change to 0 in v0.12\n",
      "  return _label(input, neighbors, background, return_num, connectivity)\n",
      "/oasis/projects/nsf/csd181/yuncong/virtualenv-1.9.1/yuncongve/lib/python2.7/site-packages/skimage/measure/_label.py:5: DeprecationWarning: The default value for `background` will change to 0 in v0.12\n",
      "  return _label(input, neighbors, background, return_num, connectivity)\n",
      "/oasis/projects/nsf/csd181/yuncong/virtualenv-1.9.1/yuncongve/lib/python2.7/site-packages/skimage/measure/_label.py:5: DeprecationWarning: The default value for `background` will change to 0 in v0.12\n",
      "  return _label(input, neighbors, background, return_num, connectivity)\n",
      "/oasis/projects/nsf/csd181/yuncong/virtualenv-1.9.1/yuncongve/lib/python2.7/site-packages/skimage/measure/_label.py:5: DeprecationWarning: The default value for `background` will change to 0 in v0.12\n",
      "  return _label(input, neighbors, background, return_num, connectivity)\n",
      "/oasis/projects/nsf/csd181/yuncong/virtualenv-1.9.1/yuncongve/lib/python2.7/site-packages/skimage/measure/_label.py:5: DeprecationWarning: The default value for `background` will change to 0 in v0.12\n",
      "  return _label(input, neighbors, background, return_num, connectivity)\n",
      "/oasis/projects/nsf/csd181/yuncong/virtualenv-1.9.1/yuncongve/lib/python2.7/site-packages/skimage/measure/_label.py:5: DeprecationWarning: The default value for `background` will change to 0 in v0.12\n",
      "  return _label(input, neighbors, background, return_num, connectivity)\n",
      "/oasis/projects/nsf/csd181/yuncong/virtualenv-1.9.1/yuncongve/lib/python2.7/site-packages/skimage/measure/_label.py:5: DeprecationWarning: The default value for `background` will change to 0 in v0.12\n",
      "  return _label(input, neighbors, background, return_num, connectivity)\n",
      "/oasis/projects/nsf/csd181/yuncong/virtualenv-1.9.1/yuncongve/lib/python2.7/site-packages/skimage/measure/_label.py:5: DeprecationWarning: The default value for `background` will change to 0 in v0.12\n",
      "  return _label(input, neighbors, background, return_num, connectivity)\n",
      "/oasis/projects/nsf/csd181/yuncong/virtualenv-1.9.1/yuncongve/lib/python2.7/site-packages/skimage/measure/_label.py:5: DeprecationWarning: The default value for `background` will change to 0 in v0.12\n",
      "  return _label(input, neighbors, background, return_num, connectivity)\n",
      "/oasis/projects/nsf/csd181/yuncong/virtualenv-1.9.1/yuncongve/lib/python2.7/site-packages/skimage/measure/_label.py:5: DeprecationWarning: The default value for `background` will change to 0 in v0.12\n",
      "  return _label(input, neighbors, background, return_num, connectivity)\n",
      "/oasis/projects/nsf/csd181/yuncong/virtualenv-1.9.1/yuncongve/lib/python2.7/site-packages/skimage/measure/_label.py:5: DeprecationWarning: The default value for `background` will change to 0 in v0.12\n",
      "  return _label(input, neighbors, background, return_num, connectivity)\n",
      "/oasis/projects/nsf/csd181/yuncong/virtualenv-1.9.1/yuncongve/lib/python2.7/site-packages/skimage/measure/_label.py:5: DeprecationWarning: The default value for `background` will change to 0 in v0.12\n",
      "  return _label(input, neighbors, background, return_num, connectivity)\n",
      "/oasis/projects/nsf/csd181/yuncong/virtualenv-1.9.1/yuncongve/lib/python2.7/site-packages/skimage/measure/_label.py:5: DeprecationWarning: The default value for `background` will change to 0 in v0.12\n",
      "  return _label(input, neighbors, background, return_num, connectivity)\n",
      "/oasis/projects/nsf/csd181/yuncong/virtualenv-1.9.1/yuncongve/lib/python2.7/site-packages/skimage/measure/_label.py:5: DeprecationWarning: The default value for `background` will change to 0 in v0.12\n",
      "  return _label(input, neighbors, background, return_num, connectivity)\n",
      "/oasis/projects/nsf/csd181/yuncong/virtualenv-1.9.1/yuncongve/lib/python2.7/site-packages/skimage/measure/_label.py:5: DeprecationWarning: The default value for `background` will change to 0 in v0.12\n",
      "  return _label(input, neighbors, background, return_num, connectivity)\n",
      "/oasis/projects/nsf/csd181/yuncong/virtualenv-1.9.1/yuncongve/lib/python2.7/site-packages/skimage/measure/_label.py:5: DeprecationWarning: The default value for `background` will change to 0 in v0.12\n",
      "  return _label(input, neighbors, background, return_num, connectivity)\n",
      "/oasis/projects/nsf/csd181/yuncong/virtualenv-1.9.1/yuncongve/lib/python2.7/site-packages/skimage/measure/_label.py:5: DeprecationWarning: The default value for `background` will change to 0 in v0.12\n",
      "  return _label(input, neighbors, background, return_num, connectivity)\n",
      "/oasis/projects/nsf/csd181/yuncong/virtualenv-1.9.1/yuncongve/lib/python2.7/site-packages/skimage/measure/_label.py:5: DeprecationWarning: The default value for `background` will change to 0 in v0.12\n",
      "  return _label(input, neighbors, background, return_num, connectivity)\n",
      "/oasis/projects/nsf/csd181/yuncong/virtualenv-1.9.1/yuncongve/lib/python2.7/site-packages/skimage/measure/_label.py:5: DeprecationWarning: The default value for `background` will change to 0 in v0.12\n",
      "  return _label(input, neighbors, background, return_num, connectivity)\n",
      "/oasis/projects/nsf/csd181/yuncong/virtualenv-1.9.1/yuncongve/lib/python2.7/site-packages/skimage/measure/_label.py:5: DeprecationWarning: The default value for `background` will change to 0 in v0.12\n",
      "  return _label(input, neighbors, background, return_num, connectivity)\n",
      "/oasis/projects/nsf/csd181/yuncong/virtualenv-1.9.1/yuncongve/lib/python2.7/site-packages/skimage/measure/_label.py:5: DeprecationWarning: The default value for `background` will change to 0 in v0.12\n",
      "  return _label(input, neighbors, background, return_num, connectivity)\n",
      "/oasis/projects/nsf/csd181/yuncong/virtualenv-1.9.1/yuncongve/lib/python2.7/site-packages/skimage/measure/_label.py:5: DeprecationWarning: The default value for `background` will change to 0 in v0.12\n",
      "  return _label(input, neighbors, background, return_num, connectivity)\n",
      "/oasis/projects/nsf/csd181/yuncong/virtualenv-1.9.1/yuncongve/lib/python2.7/site-packages/skimage/measure/_label.py:5: DeprecationWarning: The default value for `background` will change to 0 in v0.12\n",
      "  return _label(input, neighbors, background, return_num, connectivity)\n",
      "/oasis/projects/nsf/csd181/yuncong/virtualenv-1.9.1/yuncongve/lib/python2.7/site-packages/skimage/measure/_label.py:5: DeprecationWarning: The default value for `background` will change to 0 in v0.12\n",
      "  return _label(input, neighbors, background, return_num, connectivity)\n",
      "/oasis/projects/nsf/csd181/yuncong/virtualenv-1.9.1/yuncongve/lib/python2.7/site-packages/skimage/measure/_label.py:5: DeprecationWarning: The default value for `background` will change to 0 in v0.12\n",
      "  return _label(input, neighbors, background, return_num, connectivity)\n",
      "/oasis/projects/nsf/csd181/yuncong/virtualenv-1.9.1/yuncongve/lib/python2.7/site-packages/skimage/measure/_label.py:5: DeprecationWarning: The default value for `background` will change to 0 in v0.12\n",
      "  return _label(input, neighbors, background, return_num, connectivity)\n",
      "/oasis/projects/nsf/csd181/yuncong/virtualenv-1.9.1/yuncongve/lib/python2.7/site-packages/skimage/measure/_label.py:5: DeprecationWarning: The default value for `background` will change to 0 in v0.12\n",
      "  return _label(input, neighbors, background, return_num, connectivity)\n",
      "/oasis/projects/nsf/csd181/yuncong/virtualenv-1.9.1/yuncongve/lib/python2.7/site-packages/skimage/measure/_label.py:5: DeprecationWarning: The default value for `background` will change to 0 in v0.12\n",
      "  return _label(input, neighbors, background, return_num, connectivity)\n",
      "/oasis/projects/nsf/csd181/yuncong/virtualenv-1.9.1/yuncongve/lib/python2.7/site-packages/skimage/measure/_label.py:5: DeprecationWarning: The default value for `background` will change to 0 in v0.12\n",
      "  return _label(input, neighbors, background, return_num, connectivity)\n",
      "/oasis/projects/nsf/csd181/yuncong/virtualenv-1.9.1/yuncongve/lib/python2.7/site-packages/skimage/measure/_label.py:5: DeprecationWarning: The default value for `background` will change to 0 in v0.12\n",
      "  return _label(input, neighbors, background, return_num, connectivity)\n",
      "/oasis/projects/nsf/csd181/yuncong/virtualenv-1.9.1/yuncongve/lib/python2.7/site-packages/skimage/measure/_label.py:5: DeprecationWarning: The default value for `background` will change to 0 in v0.12\n",
      "  return _label(input, neighbors, background, return_num, connectivity)\n",
      "/oasis/projects/nsf/csd181/yuncong/virtualenv-1.9.1/yuncongve/lib/python2.7/site-packages/skimage/measure/_label.py:5: DeprecationWarning: The default value for `background` will change to 0 in v0.12\n",
      "  return _label(input, neighbors, background, return_num, connectivity)\n",
      "/oasis/projects/nsf/csd181/yuncong/virtualenv-1.9.1/yuncongve/lib/python2.7/site-packages/skimage/measure/_label.py:5: DeprecationWarning: The default value for `background` will change to 0 in v0.12\n",
      "  return _label(input, neighbors, background, return_num, connectivity)\n",
      "/oasis/projects/nsf/csd181/yuncong/virtualenv-1.9.1/yuncongve/lib/python2.7/site-packages/skimage/measure/_label.py:5: DeprecationWarning: The default value for `background` will change to 0 in v0.12\n",
      "  return _label(input, neighbors, background, return_num, connectivity)\n",
      "/oasis/projects/nsf/csd181/yuncong/virtualenv-1.9.1/yuncongve/lib/python2.7/site-packages/skimage/measure/_label.py:5: DeprecationWarning: The default value for `background` will change to 0 in v0.12\n",
      "  return _label(input, neighbors, background, return_num, connectivity)\n",
      "/oasis/projects/nsf/csd181/yuncong/virtualenv-1.9.1/yuncongve/lib/python2.7/site-packages/skimage/measure/_label.py:5: DeprecationWarning: The default value for `background` will change to 0 in v0.12\n",
      "  return _label(input, neighbors, background, return_num, connectivity)\n",
      "/oasis/projects/nsf/csd181/yuncong/virtualenv-1.9.1/yuncongve/lib/python2.7/site-packages/skimage/measure/_label.py:5: DeprecationWarning: The default value for `background` will change to 0 in v0.12\n",
      "  return _label(input, neighbors, background, return_num, connectivity)\n",
      "/oasis/projects/nsf/csd181/yuncong/virtualenv-1.9.1/yuncongve/lib/python2.7/site-packages/skimage/measure/_label.py:5: DeprecationWarning: The default value for `background` will change to 0 in v0.12\n",
      "  return _label(input, neighbors, background, return_num, connectivity)\n",
      "/oasis/projects/nsf/csd181/yuncong/virtualenv-1.9.1/yuncongve/lib/python2.7/site-packages/skimage/measure/_label.py:5: DeprecationWarning: The default value for `background` will change to 0 in v0.12\n",
      "  return _label(input, neighbors, background, return_num, connectivity)\n",
      "/oasis/projects/nsf/csd181/yuncong/virtualenv-1.9.1/yuncongve/lib/python2.7/site-packages/skimage/measure/_label.py:5: DeprecationWarning: The default value for `background` will change to 0 in v0.12\n",
      "  return _label(input, neighbors, background, return_num, connectivity)\n",
      "/oasis/projects/nsf/csd181/yuncong/virtualenv-1.9.1/yuncongve/lib/python2.7/site-packages/skimage/measure/_label.py:5: DeprecationWarning: The default value for `background` will change to 0 in v0.12\n",
      "  return _label(input, neighbors, background, return_num, connectivity)\n",
      "/oasis/projects/nsf/csd181/yuncong/virtualenv-1.9.1/yuncongve/lib/python2.7/site-packages/skimage/measure/_label.py:5: DeprecationWarning: The default value for `background` will change to 0 in v0.12\n",
      "  return _label(input, neighbors, background, return_num, connectivity)\n",
      "/oasis/projects/nsf/csd181/yuncong/virtualenv-1.9.1/yuncongve/lib/python2.7/site-packages/skimage/measure/_label.py:5: DeprecationWarning: The default value for `background` will change to 0 in v0.12\n",
      "  return _label(input, neighbors, background, return_num, connectivity)\n",
      "/oasis/projects/nsf/csd181/yuncong/virtualenv-1.9.1/yuncongve/lib/python2.7/site-packages/skimage/measure/_label.py:5: DeprecationWarning: The default value for `background` will change to 0 in v0.12\n",
      "  return _label(input, neighbors, background, return_num, connectivity)\n",
      "/oasis/projects/nsf/csd181/yuncong/virtualenv-1.9.1/yuncongve/lib/python2.7/site-packages/skimage/measure/_label.py:5: DeprecationWarning: The default value for `background` will change to 0 in v0.12\n",
      "  return _label(input, neighbors, background, return_num, connectivity)\n",
      "/oasis/projects/nsf/csd181/yuncong/virtualenv-1.9.1/yuncongve/lib/python2.7/site-packages/skimage/measure/_label.py:5: DeprecationWarning: The default value for `background` will change to 0 in v0.12\n",
      "  return _label(input, neighbors, background, return_num, connectivity)\n"
     ]
    }
   ],
   "source": [
    "comp_num_stats = []\n",
    "for i in range(100):\n",
    "    random_labels = np.random.randint(0, n_reduced_texton, n)\n",
    "    randommap = random_labels.reshape(histograms_normalized.shape[:2])\n",
    "    _, random_comp_num = label(randommap, return_num=True)\n",
    "    comp_num_stats.append(random_comp_num)"
   ]
  },
  {
   "cell_type": "code",
   "execution_count": 71,
   "metadata": {
    "collapsed": false
   },
   "outputs": [
    {
     "data": {
      "image/png": "[encoded data removed]",
      "text/plain": [
       "<matplotlib.figure.Figure at 0x903e450>"
      ]
     },
     "metadata": {},
     "output_type": "display_data"
    }
   ],
   "source": [
    "plt.hist(comp_num_stats, bins=100);\n",
    "plt.xlabel('number of connected components');\n",
    "plt.ylabel('probability');\n",
    "plt.title('null distribution');"
   ]
  },
  {
   "cell_type": "code",
   "execution_count": null,
   "metadata": {
    "collapsed": true
   },
   "outputs": [],
   "source": [
    "plt.hist(np.log(random_areas), bins=100);\n",
    "plt.xlabel('log(area)');\n",
    "plt.ylabel('frequency');\n",
    "plt.title('connected component area distribution');"
   ]
  },
  {
   "cell_type": "code",
   "execution_count": null,
   "metadata": {
    "collapsed": false
   },
   "outputs": [],
   "source": [
    "# from scipy.spatial.distance import cdist\n",
    "\n",
    "# t = time.time()\n",
    "\n",
    "# D = cdist(histograms_normalized.reshape((-1, n_texton)), reduced_centroids, chi2)\n",
    "\n",
    "# # label_list = []\n",
    "# # for hists in np.array_split(histograms_normalized.reshape((-1, n_texton)), 3):\n",
    "# #     D = cdist(hists, reduced_centroids, chi2)\n",
    "# #     labels = np.argmin(D, axis=1)\n",
    "# #     label_list.append(labels)\n",
    "# # labels = np.concatenate(label_list)\n",
    "\n",
    "# print 'done in', time.time() - t, 'seconds'"
   ]
  },
  {
   "cell_type": "code",
   "execution_count": null,
   "metadata": {
    "collapsed": false
   },
   "outputs": [],
   "source": [
    "# kmeans = MiniBatchKMeans(n_clusters=n_reduced_texton, batch_size=1000, init=reduced_centroids, max_iter=1)\n",
    "# kmeans.fit(histograms_normalized.reshape((-1, n_texton)))\n",
    "# # final_centroids = kmeans.cluster_centers_\n",
    "# labels = kmeans.labels_\n",
    "\n",
    "# print 'done in', time.time() - t, 'seconds'\n"
   ]
  },
  {
   "cell_type": "code",
   "execution_count": 15,
   "metadata": {
    "collapsed": true
   },
   "outputs": [],
   "source": [
    "colors = np.loadtxt('../visualization/100colors.txt')"
   ]
  },
  {
   "cell_type": "code",
   "execution_count": 16,
   "metadata": {
    "collapsed": false
   },
   "outputs": [],
   "source": [
    "viz = colors[labelmap]"
   ]
  },
  {
   "cell_type": "code",
   "execution_count": 17,
   "metadata": {
    "collapsed": false
   },
   "outputs": [
    {
     "name": "stderr",
     "output_type": "stream",
     "text": [
      "/oasis/projects/nsf/csd181/yuncong/virtualenv-1.9.1/yuncongve/lib/python2.7/site-packages/skimage/util/dtype.py:111: UserWarning: Possible precision loss when converting from float64 to uint8\n",
      "  \"%s to %s\" % (dtypeobj_in, dtypeobj))\n"
     ]
    },
    {
     "data": {
      "text/html": [
       "<a href='tmp.jpg' target='_blank'>tmp.jpg</a><br>"
      ],
      "text/plain": [
       "/oasis/projects/nsf/csd395/yuncong/Brain/notebooks/tmp.jpg"
      ]
     },
     "execution_count": 17,
     "metadata": {},
     "output_type": "execute_result"
    }
   ],
   "source": [
    "display(viz)"
   ]
  }
 ],
 "metadata": {
  "kernelspec": {
   "display_name": "Python 2",
   "language": "python",
   "name": "python2"
  },
  "language_info": {
   "codemirror_mode": {
    "name": "ipython",
    "version": 2
   },
   "file_extension": ".py",
   "mimetype": "text/x-python",
   "name": "python",
   "nbconvert_exporter": "python",
   "pygments_lexer": "ipython2",
   "version": "2.7.3"
  }
 },
 "nbformat": 4,
 "nbformat_minor": 0
}
