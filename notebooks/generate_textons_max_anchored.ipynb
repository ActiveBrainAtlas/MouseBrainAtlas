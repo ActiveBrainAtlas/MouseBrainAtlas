{
 "metadata": {
  "name": "",
  "signature": "sha256:d18c56830baa09aff9f7e8ecd62238c1fb094d98d1755511cec2374df89d1e36"
 },
 "nbformat": 3,
 "nbformat_minor": 0,
 "worksheets": [
  {
   "cells": [
    {
     "cell_type": "code",
     "collapsed": false,
     "input": [
      "%reload_ext autoreload\n",
      "%autoreload 2\n",
      "\n",
      "from preamble import *"
     ],
     "language": "python",
     "metadata": {},
     "outputs": [
      {
       "output_type": "stream",
       "stream": "stdout",
       "text": [
        "num. of kernels: 99\n",
        "frequencies: [ 0.2         0.13333333  0.08888889  0.05925926  0.03950617  0.02633745\n",
        "  0.0175583   0.01170553  0.00780369]\n",
        "wavelength (pixels): [   5.            7.5          11.25         16.875        25.3125\n",
        "   37.96875      56.953125     85.4296875   128.14453125]\n",
        "max kernel matrix size: 243\n",
        "num. of kernels: 99"
       ]
      },
      {
       "output_type": "stream",
       "stream": "stdout",
       "text": [
        "\n",
        "frequencies: [ 0.2         0.13333333  0.08888889  0.05925926  0.03950617  0.02633745\n",
        "  0.0175583   0.01170553  0.00780369]\n",
        "wavelength (pixels): [   5.            7.5          11.25         16.875        25.3125\n",
        "   37.96875      56.953125     85.4296875   128.14453125]\n",
        "max kernel matrix size: 243\n"
       ]
      }
     ],
     "prompt_number": 8
    },
    {
     "cell_type": "code",
     "collapsed": false,
     "input": [
      "# try:\n",
      "#     features_rotated = dm.load_pipeline_result('features_rotated', 'npy')\n",
      "\n",
      "# except Exception as e:\n",
      "\n",
      "features = dm.load_pipeline_result('features', 'npy')\n",
      "\n",
      "valid_features = features[:, dm.mask].T\n",
      "n_valid = len(valid_features)\n",
      "\n",
      "del features\n",
      "\n",
      "def rotate_features(fs):\n",
      "    features_tabular = fs.reshape((fs.shape[0], dm.n_freq, dm.n_angle))\n",
      "    max_angle_indices = features_tabular.max(axis=1).argmax(axis=-1)\n",
      "    features_rotated = np.reshape([np.roll(features_tabular[i], -ai, axis=-1) \n",
      "                               for i, ai in enumerate(max_angle_indices)], (fs.shape[0], dm.n_freq * dm.n_angle))\n",
      "\n",
      "    return features_rotated\n",
      "\n",
      "from joblib import Parallel, delayed\n",
      "\n",
      "n_splits = 1000\n",
      "features_rotated_list = Parallel(n_jobs=16)(delayed(rotate_features)(fs) for fs in np.array_split(valid_features, n_splits))\n",
      "features_rotated = np.vstack(features_rotated_list)\n",
      "\n",
      "del valid_features\n",
      "\n",
      "dm.save_pipeline_result(features_rotated, 'features_rotated', 'npy')"
     ],
     "language": "python",
     "metadata": {},
     "outputs": [
      {
       "output_type": "stream",
       "stream": "stdout",
       "text": [
        "/home/yuncong/project/DavidData2014results/RS141/0005/RS141_x5_0005_gabor-blueNisslWide_features.npy\n",
        "loaded /home/yuncong/project/DavidData2014results/RS141/0005/RS141_x5_0005_gabor-blueNisslWide_features.npy"
       ]
      },
      {
       "output_type": "stream",
       "stream": "stdout",
       "text": [
        "\n"
       ]
      },
      {
       "output_type": "stream",
       "stream": "stdout",
       "text": [
        "saved /home/yuncong/project/DavidData2014results/RS141/0005/RS141_x5_0005_gabor-blueNisslWide_features_rotated.npy\n"
       ]
      }
     ],
     "prompt_number": 4
    },
    {
     "cell_type": "code",
     "collapsed": false,
     "input": [
      "n_texton = 100\n",
      "# n_texton = 10\n",
      "\n",
      "# # regular kmeans very slow\n",
      "# from sklearn.cluster import KMeans\n",
      "# kmeans = KMeans(n_clusters=n_texton)\n",
      "\n",
      "try:\n",
      "    centroids = dm.load_pipeline_result('original_centroids', 'npy')\n",
      "\n",
      "except:\n",
      "    \n",
      "    from sklearn.cluster import MiniBatchKMeans\n",
      "    kmeans = MiniBatchKMeans(n_clusters=n_texton, batch_size=1000)\n",
      "    # kmeans.fit(features_rotated_pca)\n",
      "    kmeans.fit(features_rotated)\n",
      "    centroids = kmeans.cluster_centers_\n",
      "    # labels = kmeans.labels_\n",
      "\n",
      "    dm.save_pipeline_result(centroids, 'original_centroids', 'npy')"
     ],
     "language": "python",
     "metadata": {},
     "outputs": [
      {
       "output_type": "stream",
       "stream": "stdout",
       "text": [
        "/home/yuncong/project/DavidData2014results/RS141/0005/RS141_x5_0005_gabor-blueNisslWide-vq-blueNissl_original_centroids.npy\n",
        "saved /home/yuncong/project/DavidData2014results/RS141/0005/RS141_x5_0005_gabor-blueNisslWide-vq-blueNissl_original_centroids.npy"
       ]
      },
      {
       "output_type": "stream",
       "stream": "stdout",
       "text": [
        "\n"
       ]
      }
     ],
     "prompt_number": 5
    },
    {
     "cell_type": "code",
     "collapsed": false,
     "input": [
      "from scipy.cluster.hierarchy import fclusterdata\n",
      "# cluster_assignments = fclusterdata(centroids, 1.15, method=\"complete\", criterion=\"inconsistent\")\n",
      "cluster_assignments = fclusterdata(centroids, 80., method=\"complete\", criterion=\"distance\")\n",
      "\n",
      "reduced_centroids = np.array([centroids[cluster_assignments == i].mean(axis=0) for i in set(cluster_assignments)])\n",
      "\n",
      "n_reduced_texton = len(reduced_centroids)\n",
      "print n_reduced_texton, 'reduced textons'\n",
      "\n",
      "from sklearn.cluster import MiniBatchKMeans\n",
      "kmeans = MiniBatchKMeans(n_clusters=n_reduced_texton, batch_size=1000, init=reduced_centroids)\n",
      "# kmeans.fit(features_rotated_pca)\n",
      "kmeans.fit(features_rotated)\n",
      "final_centroids = kmeans.cluster_centers_\n",
      "# labels = kmeans.labels_"
     ],
     "language": "python",
     "metadata": {},
     "outputs": [
      {
       "output_type": "stream",
       "stream": "stdout",
       "text": [
        "8\n"
       ]
      }
     ],
     "prompt_number": 6
    },
    {
     "cell_type": "code",
     "collapsed": false,
     "input": [
      "dm.save_pipeline_result(reduced_centroids, 'textons', 'npy')"
     ],
     "language": "python",
     "metadata": {},
     "outputs": [
      {
       "output_type": "stream",
       "stream": "stdout",
       "text": [
        "saved /home/yuncong/project/DavidData2014results/RS141/RS141_x5_gabor-blueNisslWide-vq-blueNissl_textons.npy\n"
       ]
      }
     ],
     "prompt_number": 7
    },
    {
     "cell_type": "code",
     "collapsed": false,
     "input": [
      "# def visualize_features(centroids, n_freq, n_angle, colors=None):\n",
      "#     \"\"\"\n",
      "#     if colors is not None, colorcodes are plotted below feature matrices\n",
      "#     \"\"\"\n",
      "\n",
      "#     import itertools\n",
      "#     from matplotlib import gridspec\n",
      "    \n",
      "#     n_cols = min(10, len(centroids))\n",
      "#     n_rows = int(np.ceil(n_texton/n_cols))\n",
      "        \n",
      "#     vmin = centroids.min()\n",
      "#     vmax = centroids.max()\n",
      "\n",
      "#     fig = plt.figure(figsize=(20,20), facecolor='white')\n",
      "        \n",
      "#     if colors is None:\n",
      "#         gs = gridspec.GridSpec(n_rows, n_cols, width_ratios=[1]*n_cols, height_ratios=[1]*n_rows)\n",
      "#         for r, c in itertools.product(range(n_rows), range(n_cols)):\n",
      "#             i = r * n_cols + c\n",
      "#             if i == len(centroids): break\n",
      "#             ax_mat = fig.add_subplot(gs[r*n_cols+c])\n",
      "#             ax_mat.set_title('texton %d'%i)\n",
      "#             ax_mat.matshow(centroids[i].reshape(n_freq, n_angle), vmin=vmin, vmax=vmax)\n",
      "#             ax_mat.set_xticks([])\n",
      "#             ax_mat.set_yticks([])\n",
      "#     else:\n",
      "#         gs = gridspec.GridSpec(2*n_rows, n_cols, width_ratios=[1]*n_cols, height_ratios=[4,1]*n_rows)\n",
      "#         for r, c in itertools.product(range(n_rows), range(n_cols)):\n",
      "#             i = r * n_cols + c\n",
      "#             if i == len(centroids): break\n",
      "#             ax_mat = fig.add_subplot(gs[r*2*n_cols+c])\n",
      "#             ax_mat.set_title('texton %d'%i)\n",
      "#             ax_mat.matshow(centroids[i].reshape(n_freq, n_angle), vmin=vmin, vmax=vmax)\n",
      "#             ax_mat.set_xticks([])\n",
      "#             ax_mat.set_yticks([])\n",
      "            \n",
      "#             ax_cbox = fig.add_subplot(gs[(r*2+1)*n_cols+c])\n",
      "#             cbox = np.ones((1,2,3))\n",
      "#             cbox[:,:,:] = colors[i]\n",
      "#             ax_cbox.imshow(cbox)\n",
      "#             ax_cbox.set_xticks([])\n",
      "#             ax_cbox.set_yticks([])\n",
      "\n",
      "#     plt.tight_layout()\n",
      "\n",
      "#     plt.show()"
     ],
     "language": "python",
     "metadata": {},
     "outputs": [],
     "prompt_number": 15
    },
    {
     "cell_type": "code",
     "collapsed": false,
     "input": [
      "# hc_colors = np.loadtxt('hc_colors.txt', delimiter=',')/ 255.\n",
      "# hc_colors = np.loadtxt('../visualization/high_contrast_colors.txt')/ 255.\n",
      "\n",
      "hc_colors = np.loadtxt('../visualization/100colors.txt')\n",
      "\n",
      "# hc_colors = np.random.random((n_texton, 3))\n",
      "# np.savetxt('../visualization/100colors.txt', hc_colors)"
     ],
     "language": "python",
     "metadata": {},
     "outputs": [],
     "prompt_number": 16
    },
    {
     "cell_type": "code",
     "collapsed": false,
     "input": [
      "# visualize_features(centroids, dm.n_freq, dm.n_angle, colors=hc_colors)"
     ],
     "language": "python",
     "metadata": {},
     "outputs": [],
     "prompt_number": 17
    },
    {
     "cell_type": "code",
     "collapsed": false,
     "input": [
      "# visualize_features(reduced_centroids, dm.n_freq, dm.n_angle, colors=hc_colors)"
     ],
     "language": "python",
     "metadata": {},
     "outputs": [],
     "prompt_number": 18
    }
   ],
   "metadata": {}
  }
 ]
}