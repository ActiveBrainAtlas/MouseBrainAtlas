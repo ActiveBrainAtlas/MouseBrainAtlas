{
 "metadata": {
  "name": "",
  "signature": "sha256:cdfc71b59ec0672a594ca2995f1476af2fb3136c62f8dc6abc1e1130a25000b3"
 },
 "nbformat": 3,
 "nbformat_minor": 0,
 "worksheets": [
  {
   "cells": [
    {
     "cell_type": "code",
     "collapsed": false,
     "input": [
      "import sys\n",
      "sys.path.append('/home/yuncong/Brain/pipeline_scripts')\n",
      "from utilities2014 import *\n",
      "import os\n",
      "\n",
      "os.environ['GORDON_DATA_DIR'] = '/home/yuncong/project/DavidData2014tif/'\n",
      "os.environ['GORDON_REPO_DIR'] = '/home/yuncong/Brain'\n",
      "os.environ['GORDON_RESULT_DIR'] = '/home/yuncong/project/DavidData2014results/'\n",
      "os.environ['GORDON_LABELING_DIR'] = '/home/yuncong/project/DavidData2014labelings/'\n",
      "\n",
      "dm = DataManager(data_dir=os.environ['GORDON_DATA_DIR'], \n",
      "  repo_dir=os.environ['GORDON_REPO_DIR'], \n",
      "  result_dir=os.environ['GORDON_RESULT_DIR'], \n",
      "  labeling_dir=os.environ['GORDON_LABELING_DIR'])\n",
      "\n",
      "for si in range(31,34):\n",
      "    print si\n",
      "    \n",
      "    class args:\n",
      "        stack_name = 'RS141'\n",
      "        resolution = 'x5'\n",
      "        slice_ind = si\n",
      "        gabor_params_id = 'blueNisslWide'\n",
      "        segm_params_id = 'blueNisslRegular'\n",
      "        vq_params_id = 'blueNissl'\n",
      "\n",
      "    dm.set_image(args.stack_name, args.resolution, args.slice_ind)\n",
      "    dm.set_gabor_params(gabor_params_id=args.gabor_params_id)\n",
      "    dm.set_segmentation_params(segm_params_id=args.segm_params_id)\n",
      "    dm.set_vq_params(vq_params_id=args.vq_params_id)\n",
      "\n",
      "    segmentation = dm.load_pipeline_result('segmentation', 'npy')\n",
      "    n_superpixels = len(unique(segmentation)) - 1\n",
      "\n",
      "    features = dm.load_pipeline_result('features', 'npy').astype(np.float)\n",
      "\n",
      "    features = np.rollaxis(features, 0, 3)\n",
      "\n",
      "    max_freqs, max_angles = np.unravel_index(features.argmax(axis=2), (dm.n_freq, dm.n_angle))\n",
      "    max_responses = features.max(axis=2)\n",
      "    max_mean_ratio = max_responses/features.mean(axis=2)\n",
      "\n",
      "    from joblib import Parallel, delayed\n",
      "\n",
      "    def worker(i):\n",
      "        chosen = segmentation == i\n",
      "\n",
      "        max_response_sp = max_responses[chosen].astype(np.float).max()\n",
      "        max_dir_sp = np.bincount(max_angles[chosen]).argmax()\n",
      "        max_freq_sp = np.bincount(max_freqs[chosen]).argmax()\n",
      "\n",
      "        all_mmr = max_mean_ratio[chosen].astype(np.float)\n",
      "        dominant_ratio_sp = np.count_nonzero(all_mmr > 1.02)/float(len(all_mmr))\n",
      "\n",
      "        return max_dir_sp, max_freq_sp, max_response_sp, dominant_ratio_sp\n",
      "\n",
      "    res = Parallel(n_jobs=16)(delayed(worker)(i) for i in range(n_superpixels))\n",
      "    max_dir_sp, max_freq_sp, max_response_sp, dominant_ratio_sp = map(np.array, zip(*res))\n",
      "\n",
      "    dm.save_pipeline_result(max_dir_sp, 'spMaxDirInd', 'npy')\n",
      "    dm.save_pipeline_result(dm.angles[max_dir_sp], 'spMaxDirAngle', 'npy')"
     ],
     "language": "python",
     "metadata": {},
     "outputs": [
      {
       "output_type": "stream",
       "stream": "stdout",
       "text": [
        "31\n"
       ]
      },
      {
       "ename": "AssertionError",
       "evalue": "Pipeline result 'segmentation.npy' does not exist",
       "output_type": "pyerr",
       "traceback": [
        "\u001b[1;31m---------------------------------------------------------------------------\u001b[0m\n\u001b[1;31mAssertionError\u001b[0m                            Traceback (most recent call last)",
        "\u001b[1;32m<ipython-input-2-a05f24c34ac8>\u001b[0m in \u001b[0;36m<module>\u001b[1;34m()\u001b[0m\n\u001b[0;32m     30\u001b[0m     \u001b[0mdm\u001b[0m\u001b[1;33m.\u001b[0m\u001b[0mset_vq_params\u001b[0m\u001b[1;33m(\u001b[0m\u001b[0mvq_params_id\u001b[0m\u001b[1;33m=\u001b[0m\u001b[0margs\u001b[0m\u001b[1;33m.\u001b[0m\u001b[0mvq_params_id\u001b[0m\u001b[1;33m)\u001b[0m\u001b[1;33m\u001b[0m\u001b[0m\n\u001b[0;32m     31\u001b[0m \u001b[1;33m\u001b[0m\u001b[0m\n\u001b[1;32m---> 32\u001b[1;33m     \u001b[0msegmentation\u001b[0m \u001b[1;33m=\u001b[0m \u001b[0mdm\u001b[0m\u001b[1;33m.\u001b[0m\u001b[0mload_pipeline_result\u001b[0m\u001b[1;33m(\u001b[0m\u001b[1;34m'segmentation'\u001b[0m\u001b[1;33m,\u001b[0m \u001b[1;34m'npy'\u001b[0m\u001b[1;33m)\u001b[0m\u001b[1;33m\u001b[0m\u001b[0m\n\u001b[0m\u001b[0;32m     33\u001b[0m     \u001b[0mn_superpixels\u001b[0m \u001b[1;33m=\u001b[0m \u001b[0mlen\u001b[0m\u001b[1;33m(\u001b[0m\u001b[0munique\u001b[0m\u001b[1;33m(\u001b[0m\u001b[0msegmentation\u001b[0m\u001b[1;33m)\u001b[0m\u001b[1;33m)\u001b[0m \u001b[1;33m-\u001b[0m \u001b[1;36m1\u001b[0m\u001b[1;33m\u001b[0m\u001b[0m\n\u001b[0;32m     34\u001b[0m \u001b[1;33m\u001b[0m\u001b[0m\n",
        "\u001b[1;32m/home/yuncong/Brain/pipeline_scripts/utilities2014.pyc\u001b[0m in \u001b[0;36mload_pipeline_result\u001b[1;34m(self, result_name, ext, is_rgb)\u001b[0m\n\u001b[0;32m    535\u001b[0m \u001b[1;33m\u001b[0m\u001b[0m\n\u001b[0;32m    536\u001b[0m         \u001b[1;32mif\u001b[0m \u001b[0mext\u001b[0m \u001b[1;33m==\u001b[0m \u001b[1;34m'npy'\u001b[0m\u001b[1;33m:\u001b[0m\u001b[1;33m\u001b[0m\u001b[0m\n\u001b[1;32m--> 537\u001b[1;33m             \u001b[1;32massert\u001b[0m \u001b[0mos\u001b[0m\u001b[1;33m.\u001b[0m\u001b[0mpath\u001b[0m\u001b[1;33m.\u001b[0m\u001b[0mexists\u001b[0m\u001b[1;33m(\u001b[0m\u001b[0mresult_filename\u001b[0m\u001b[1;33m)\u001b[0m\u001b[1;33m,\u001b[0m \u001b[1;34m\"Pipeline result '%s' does not exist\"\u001b[0m \u001b[1;33m%\u001b[0m \u001b[1;33m(\u001b[0m\u001b[0mresult_name\u001b[0m \u001b[1;33m+\u001b[0m \u001b[1;34m'.'\u001b[0m \u001b[1;33m+\u001b[0m \u001b[0mext\u001b[0m\u001b[1;33m)\u001b[0m\u001b[1;33m\u001b[0m\u001b[0m\n\u001b[0m\u001b[0;32m    538\u001b[0m             \u001b[0mdata\u001b[0m \u001b[1;33m=\u001b[0m \u001b[0mnp\u001b[0m\u001b[1;33m.\u001b[0m\u001b[0mload\u001b[0m\u001b[1;33m(\u001b[0m\u001b[0mresult_filename\u001b[0m\u001b[1;33m)\u001b[0m\u001b[1;33m\u001b[0m\u001b[0m\n\u001b[0;32m    539\u001b[0m         \u001b[1;32melif\u001b[0m \u001b[0mext\u001b[0m \u001b[1;33m==\u001b[0m \u001b[1;34m'tif'\u001b[0m \u001b[1;32mor\u001b[0m \u001b[0mext\u001b[0m \u001b[1;33m==\u001b[0m \u001b[1;34m'png'\u001b[0m \u001b[1;32mor\u001b[0m \u001b[0mext\u001b[0m \u001b[1;33m==\u001b[0m \u001b[1;34m'jpg'\u001b[0m\u001b[1;33m:\u001b[0m\u001b[1;33m\u001b[0m\u001b[0m\n",
        "\u001b[1;31mAssertionError\u001b[0m: Pipeline result 'segmentation.npy' does not exist"
       ]
      }
     ],
     "prompt_number": 2
    },
    {
     "cell_type": "code",
     "collapsed": false,
     "input": [],
     "language": "python",
     "metadata": {},
     "outputs": []
    }
   ],
   "metadata": {}
  }
 ]
}