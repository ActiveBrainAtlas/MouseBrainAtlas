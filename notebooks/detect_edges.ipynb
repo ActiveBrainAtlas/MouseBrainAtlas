{
 "cells": [
  {
   "cell_type": "code",
   "execution_count": 1,
   "metadata": {
    "collapsed": false
   },
   "outputs": [],
   "source": [
    "%load_ext autoreload\n",
    "%autoreload 2"
   ]
  },
  {
   "cell_type": "code",
   "execution_count": 2,
   "metadata": {
    "collapsed": false
   },
   "outputs": [],
   "source": [
    "import sys\n",
    "sys.path.append('/home/yuncong/Brain/pipeline_scripts')\n",
    "\n",
    "import utilities2014\n",
    "reload(utilities2014)\n",
    "from utilities2014 import *"
   ]
  },
  {
   "cell_type": "code",
   "execution_count": 3,
   "metadata": {
    "collapsed": false
   },
   "outputs": [
    {
     "name": "stdout",
     "output_type": "stream",
     "text": [
      "Couldn't import dot_parser, loading of dot files will not be possible.\n"
     ]
    }
   ],
   "source": [
    "import os\n",
    "import time\n",
    "\n",
    "# sys.path.append('/home/yuncong/project/opencv-2.4.9/release/lib/python2.7/site-packages')\n",
    "# import cv2\n",
    "\n",
    "# os.environ['GORDON_DATA_DIR'] = '/home/yuncong/project/DavidData2014tif/'\n",
    "# os.environ['GORDON_REPO_DIR'] = '/home/yuncong/Brain'\n",
    "# os.environ['GORDON_RESULT_DIR'] = '/home/yuncong/project/DavidData2014results/'\n",
    "# os.environ['GORDON_LABELING_DIR'] = '/home/yuncong/project/DavidData2014labelings/'\n",
    "\n",
    "from scipy.spatial.distance import cdist, pdist, squareform\n",
    "from scipy.cluster.hierarchy import average, fcluster, leaders, complete, single, dendrogram, ward\n",
    "\n",
    "from joblib import Parallel, delayed\n",
    "\n",
    "from skimage.color import gray2rgb\n",
    "from skimage.util import img_as_float, pad\n",
    "from skimage.morphology import disk\n",
    "from skimage.filters.rank import gradient\n",
    "\n",
    "from collections import defaultdict, Counter\n",
    "from itertools import combinations, chain, product\n",
    "\n",
    "import networkx\n",
    "from networkx import from_dict_of_lists, dfs_postorder_nodes\n",
    "\n",
    "import matplotlib.pyplot as plt\n",
    "%matplotlib inline"
   ]
  },
  {
   "cell_type": "code",
   "execution_count": 4,
   "metadata": {
    "collapsed": false
   },
   "outputs": [],
   "source": [
    "def compute_overlap(c1, c2):\n",
    "    return float(len(c1 & c2)) / min(len(c1),len(c2))\n",
    "\n",
    "def compute_overlap2(c1, c2):\n",
    "    return float(len(c1 & c2)) / len(c1 | c2)    \n",
    "\n",
    "def compute_overlap_partial(indices, sets, metric='jaccard'):\n",
    "    n_sets = len(sets)\n",
    "    \n",
    "    overlap_matrix = np.zeros((len(indices), n_sets))\n",
    "        \n",
    "    for ii, i in enumerate(indices):\n",
    "        for j in range(n_sets):\n",
    "            c1 = set(sets[i])\n",
    "            c2 = set(sets[j])\n",
    "            if len(c1) == 0 or len(c2) == 0:\n",
    "                overlap_matrix[ii, j] = 0\n",
    "            else:\n",
    "                if metric == 'min-jaccard':\n",
    "                    overlap_matrix[ii, j] = compute_overlap(c1, c2)\n",
    "                elif metric == 'jaccard':\n",
    "                    overlap_matrix[ii, j] = compute_overlap2(c1, c2)\n",
    "                else:\n",
    "                    raise Exception('metric %s is unknown'%metric)\n",
    "            \n",
    "    return overlap_matrix\n",
    "\n",
    "def compute_pairwise_distances(sets, metric):\n",
    "\n",
    "    partial_overlap_mat = Parallel(n_jobs=16, max_nbytes=1e6)(delayed(compute_overlap_partial)(s, sets, metric=metric) \n",
    "                                        for s in np.array_split(range(len(sets)), 16))\n",
    "    overlap_matrix = np.vstack(partial_overlap_mat)\n",
    "    distance_matrix = 1 - overlap_matrix\n",
    "    \n",
    "    np.fill_diagonal(distance_matrix, 0)\n",
    "    \n",
    "    return distance_matrix\n",
    "\n",
    "\n",
    "def group_clusters(clusters=None, dist_thresh = 0.1, distance_matrix=None, metric='jaccard', linkage='complete'):\n",
    "    \n",
    "    if distance_matrix is not None:\n",
    "        keys = range(len(distance_matrix))\n",
    "        if clusters is not None:\n",
    "            values = clusters\n",
    "        else:\n",
    "            values = range(len(distance_matrix))\n",
    "    else:\n",
    "        if isinstance(clusters, dict):\n",
    "            keys = clusters.keys()\n",
    "            values = clusters.values()\n",
    "        elif isinstance(clusters, list):\n",
    "            if isinstance(clusters[0], tuple):\n",
    "                keys = [i for i,j in clusters]\n",
    "                values = [j for i,j in clusters]\n",
    "            else:\n",
    "                keys = range(len(clusters))\n",
    "                values = clusters\n",
    "        else:\n",
    "            raise Exception('clusters is not the right type')\n",
    "    \n",
    "    if clusters is None:\n",
    "        assert distance_matrix is not None, 'distance_matrix must be provided.'\n",
    "    \n",
    "    if distance_matrix is None:\n",
    "        assert clusters is not None, 'clusters must be provided'\n",
    "        distance_matrix = compute_pairwise_distances(values, metric)\n",
    "        \n",
    "    if linkage=='complete':\n",
    "        lk = complete(squareform(distance_matrix))\n",
    "    elif linkage=='average':\n",
    "        lk = average(squareform(distance_matrix))\n",
    "    elif linkage=='single':\n",
    "        lk = single(squareform(distance_matrix))\n",
    "\n",
    "    # T = fcluster(lk, 1.15, criterion='inconsistent')\n",
    "    T = fcluster(lk, dist_thresh, criterion='distance')\n",
    "    \n",
    "    n_groups = len(set(T))\n",
    "    groups = [None] * n_groups\n",
    "\n",
    "    for group_id in range(n_groups):\n",
    "        groups[group_id] = np.where(T == group_id+1)[0]\n",
    "\n",
    "    index_groups = [[keys[i] for i in g] for g in groups if len(g) > 0]\n",
    "    res = [[values[i] for i in g] for g in groups if len(g) > 0]\n",
    "        \n",
    "    return index_groups, res, distance_matrix\n"
   ]
  },
  {
   "cell_type": "code",
   "execution_count": 5,
   "metadata": {
    "collapsed": false
   },
   "outputs": [],
   "source": [
    "# def detect_open_boundaries(sec_ind):\n",
    "    \n",
    "dm = DataManager(generate_hierarchy=False, stack='RS141', resol='x5', section=1)\n",
    "dm._load_image()\n",
    "\n",
    "# Load image and relevant data\n",
    "# im_height, im_width = dm.[:2]\n",
    "\n",
    "texton_hists = dm.load_pipeline_result('texHist', 'npy')\n",
    "segmentation = dm.load_pipeline_result('segmentation', 'npy')\n",
    "n_superpixels = len(np.unique(segmentation)) - 1\n",
    "textonmap = dm.load_pipeline_result('texMap', 'npy')\n",
    "n_texton = len(np.unique(textonmap)) - 1\n",
    "neighbors = dm.load_pipeline_result('neighbors', 'pkl')\n",
    "sp_properties = dm.load_pipeline_result('spProps', 'npy')\n",
    "segmentation_vis = dm.load_pipeline_result('segmentationWithText', 'jpg')\n",
    "\n",
    "# Load region proposals\n",
    "expansion_clusters_tuples = dm.load_pipeline_result('clusters', 'pkl')\n",
    "expansion_clusters, expansion_cluster_scores = zip(*expansion_clusters_tuples)\n",
    "expansion_cluster_scores = np.array(expansion_cluster_scores)\n",
    "\n",
    "neighbors_dict = dict(zip(np.arange(n_superpixels), [list(i) for i in neighbors]))\n",
    "neighbor_graph = from_dict_of_lists(neighbors_dict)\n",
    "\n",
    "surrounds_sps = dm.load_pipeline_result('clusterSurrounds', 'pkl')\n",
    "frontiers_sps = dm.load_pipeline_result('clusterFrontiers', 'pkl')"
   ]
  },
  {
   "cell_type": "code",
   "execution_count": 6,
   "metadata": {
    "collapsed": false
   },
   "outputs": [],
   "source": [
    "# votes for directed edgelets\n",
    "dedge_vote_dict = defaultdict(float)\n",
    "\n",
    "# Compute the supporter sets of every edgelet, based on region proposals\n",
    "# supporter_all[(100,101)] is the set of superpixels that supports directed edgelet (100,101)\n",
    "dedge_supporters = defaultdict(list)\n",
    "\n",
    "for s in range(n_superpixels):\n",
    "#     if s not in sps_in_good_regions: continue\n",
    "\n",
    "    c = list(expansion_clusters[s])\n",
    "    interior_texture = texton_hists[c].mean(axis=0)\n",
    "    b_sps = surrounds_sps[s]\n",
    "    b_contrasts = cdist(texton_hists[b_sps], interior_texture[np.newaxis, :], chi2)\n",
    "\n",
    "    for b_sp, b_contrast in zip(b_sps, b_contrasts):\n",
    "        int_sps = neighbors[b_sp] & set(expansion_clusters[s])\n",
    "        for int_sp in int_sps:\n",
    "            # weight of each edgelet is the contrast normalized by region size\n",
    "#             weight = float(b_contrast) / max(len(c), 5)\n",
    "#             weight = 1. / max(len(c), 5)\n",
    "            weight = 1.\n",
    "            dedge_vote_dict[(b_sp, int_sp)] += weight\n",
    "#             dedge_vote_dict[(int_sp, b_sp)] += weight\n",
    "            dedge_supporters[(b_sp, int_sp)].append(s) # (border_sp, interior_sp) or (out, in)\n",
    "\n",
    "dedge_vote_dict.default_factory = None\n",
    "dedge_supporters.default_factory = None"
   ]
  },
  {
   "cell_type": "code",
   "execution_count": 7,
   "metadata": {
    "collapsed": false
   },
   "outputs": [],
   "source": [
    "edge_coords = dict(dm.load_pipeline_result('edgeCoords', 'pkl'))\n",
    "edge_neighbors = dm.load_pipeline_result('edgeNeighbors', 'pkl')"
   ]
  },
  {
   "cell_type": "code",
   "execution_count": 8,
   "metadata": {
    "collapsed": false
   },
   "outputs": [],
   "source": [
    "import networkx as nx\n",
    "from itertools import chain\n",
    "\n",
    "def visualize_dedge_vote(vote_dict, vote_thresh=0, bg=None):\n",
    "\n",
    "    img_edge = np.zeros_like(dm.image_rgb, np.float)\n",
    "    img_edge_alpha = np.zeros_like(dm.image, np.float)\n",
    "    for edge, s in vote_dict.iteritems():\n",
    "        if s > vote_thresh:\n",
    "            cs = edge_coords[frozenset(edge)]\n",
    "            img_edge[cs[:,1], cs[:,0]] = (1.,0,0)\n",
    "            img_edge_alpha[cs[:,1], cs[:,0]] = s\n",
    "\n",
    "    img_edge_alpha = (img_edge_alpha-img_edge_alpha.min())/(img_edge_alpha.max()-img_edge_alpha.min())\n",
    "    \n",
    "    if bg is not None:\n",
    "        img_highvote = alpha_blending(img_as_float(bg), img_edge, \n",
    "                                      .2 * np.ones_like(dm.image), .8 * img_edge_alpha)\n",
    "        img_highvote[~dm.mask] = 0.\n",
    "        return img_highvote\n",
    "    else:\n",
    "        return img_edge_alpha"
   ]
  },
  {
   "cell_type": "code",
   "execution_count": 73,
   "metadata": {
    "collapsed": false
   },
   "outputs": [],
   "source": [
    "# dedge_vote_thresh = np.sort(dedge_vote_dict.values())[-.2*len(dedge_vote_dict)]\n",
    "# print dedge_vote_thresh\n",
    "\n",
    "# display(visualize_dedge_vote(dedge_vote_dict, bg=True, vote_thresh=dedge_vote_thresh))"
   ]
  },
  {
   "cell_type": "code",
   "execution_count": 9,
   "metadata": {
    "collapsed": false
   },
   "outputs": [
    {
     "name": "stdout",
     "output_type": "stream",
     "text": [
      "edgeContainedBy.pkl already exists, skip\n"
     ]
    }
   ],
   "source": [
    "all_edges = edge_coords.keys()\n",
    "all_dedges = set(chain(*[[(i,j),(j,i)] for i,j in all_edges]))\n",
    "\n",
    "try:\n",
    "    edge_contained_by = dm.load_pipeline_result('edgeContainedBy', 'pkl')\n",
    "    print \"edgeContainedBy.pkl already exists, skip\"\n",
    "\n",
    "except:\n",
    "    cluster_edges = dm.load_pipeline_result('clusterEdges', 'pkl')\n",
    "\n",
    "    def f(c, e):\n",
    "        q = set(chain(*[[(i,j),(j,i)] for i,j in combinations(c, 2) if frozenset([i,j]) in all_edges]))\n",
    "        return q | set(e)\n",
    "\n",
    "    contain_edges = Parallel(n_jobs=16)(delayed(f)(c,e) for c, e in zip(expansion_clusters, cluster_edges))\n",
    "\n",
    "    edge_contained_by = defaultdict(set)\n",
    "    for sp, es in enumerate(contain_edges):\n",
    "        for e in es:\n",
    "            edge_contained_by[e].add(sp)\n",
    "\n",
    "    edge_contained_by.default_factory = None\n",
    "\n",
    "    dm.save_pipeline_result(edge_contained_by, 'edgeContainedBy', 'pkl')"
   ]
  },
  {
   "cell_type": "code",
   "execution_count": 10,
   "metadata": {
    "collapsed": true
   },
   "outputs": [],
   "source": [
    "nz_dedges = dedge_vote_dict.keys()"
   ]
  },
  {
   "cell_type": "code",
   "execution_count": 11,
   "metadata": {
    "collapsed": false
   },
   "outputs": [],
   "source": [
    "# dedge_contrast = dict([((i,j), chi2(texton_hists[i], texton_hists[j])) for i,j in all_dedges])\n",
    "dedge_contrast = dict([((i,j), chi2(texton_hists[i], texton_hists[dedge_supporters[(i,j)]].mean(axis=0))) \n",
    "                       for i,j in nz_dedges])"
   ]
  },
  {
   "cell_type": "code",
   "execution_count": 12,
   "metadata": {
    "collapsed": false
   },
   "outputs": [],
   "source": [
    "nz_dedges2 = [e for e,sps in edge_contained_by.iteritems() if len(sps) > 3 and e in nz_dedges]\n",
    "nz_dedges2 = [e for e in nz_dedges2 if dedge_contrast[e] > .5]\n",
    "\n",
    "# nz_dedges2 = [e for e, sps in edge_contained_by.iteritems() if e in nz_dedges]\n",
    "dedge_stopperness = dict([(e, dedge_vote_dict[e]/len(edge_contained_by[e])) for e in nz_dedges2])"
   ]
  },
  {
   "cell_type": "code",
   "execution_count": 13,
   "metadata": {
    "collapsed": false
   },
   "outputs": [
    {
     "name": "stdout",
     "output_type": "stream",
     "text": [
      "9261 valid edges\n"
     ]
    }
   ],
   "source": [
    "nz_dedges2 = [e for e in nz_dedges2 if dedge_stopperness[e] == 1]\n",
    "print len(nz_dedges2), 'valid edges'"
   ]
  },
  {
   "cell_type": "code",
   "execution_count": 68,
   "metadata": {
    "collapsed": false
   },
   "outputs": [
    {
     "data": {
      "text/html": [
       "<a href='contrast.jpg' target='_blank'>contrast.jpg</a><br>"
      ],
      "text/plain": [
       "/oasis/projects/nsf/csd181/yuncong/Brain/notebooks/contrast.jpg"
      ]
     },
     "execution_count": 68,
     "metadata": {},
     "output_type": "execute_result"
    }
   ],
   "source": [
    "display(visualize_dedge_vote(dedge_contrast, bg=dm.image_rgb, vote_thresh=.5), 'contrast.jpg')"
   ]
  },
  {
   "cell_type": "code",
   "execution_count": 67,
   "metadata": {
    "collapsed": false
   },
   "outputs": [
    {
     "data": {
      "text/html": [
       "<a href='stopperness.jpg' target='_blank'>stopperness.jpg</a><br>"
      ],
      "text/plain": [
       "/oasis/projects/nsf/csd181/yuncong/Brain/notebooks/stopperness.jpg"
      ]
     },
     "execution_count": 67,
     "metadata": {},
     "output_type": "execute_result"
    }
   ],
   "source": [
    "display(visualize_dedge_vote(dedge_stopperness, bg=dm.image_rgb, vote_thresh=.99), 'stopperness.jpg')"
   ]
  },
  {
   "cell_type": "code",
   "execution_count": 279,
   "metadata": {
    "collapsed": true
   },
   "outputs": [],
   "source": [
    "# Method 1"
   ]
  },
  {
   "cell_type": "code",
   "execution_count": 14,
   "metadata": {
    "collapsed": true
   },
   "outputs": [],
   "source": [
    "def smart_union(x):\n",
    "    cc = Counter(chain(*x))\n",
    "    gs = set([s for s, c in cc.iteritems() if c > (cc.most_common(1)[0][1]*.3)])                           \n",
    "    return gs"
   ]
  },
  {
   "cell_type": "code",
   "execution_count": null,
   "metadata": {
    "collapsed": false
   },
   "outputs": [],
   "source": [
    "dedge_expandedSupporters = dict([(e, smart_union([expansion_clusters[s] for s in dedge_supporters[e]])) \n",
    "                                 for e in nz_dedges2])\n",
    "\n",
    "dedges_grouped, dedge_supporters_grouped, _ = group_clusters(clusters=dict((e, dedge_expandedSupporters[e]) for e in nz_dedges2),\n",
    "                                                             dist_thresh=.01, linkage='complete', metric='jaccard')\n",
    "\n",
    "print len(dedges_grouped), 'edge groups'"
   ]
  },
  {
   "cell_type": "code",
   "execution_count": null,
   "metadata": {
    "collapsed": false
   },
   "outputs": [],
   "source": [
    "dedge_group_supporters = map(smart_union, dedge_supporters_grouped)\n",
    "dedge_group_supporter_distmat = compute_pairwise_distances(dedge_group_supporters, metric='jaccard')"
   ]
  },
  {
   "cell_type": "code",
   "execution_count": null,
   "metadata": {
    "collapsed": false
   },
   "outputs": [],
   "source": [
    "# dedge_group_supporter_distmat = dedge_group_supporter_distmat > .1\n",
    "np.fill_diagonal(dedge_group_supporter_distmat, 0)\n",
    "\n",
    "# plt.matshow(dedge_group_supporter_distmat);\n",
    "# plt.colorbar();"
   ]
  },
  {
   "cell_type": "code",
   "execution_count": 15,
   "metadata": {
    "collapsed": false
   },
   "outputs": [],
   "source": [
    "# dedge_vectors = defaultdict(float)\n",
    "# for i,j in all_dedges:\n",
    "#     if i == -1 or j == -1:\n",
    "        \n",
    "#     vector_ji = sp_properties[i,:2]-sp_properties[j,:2]\n",
    "#     assert np.linalg.norm(vector_ji) < 100, '%d,%d'%(i,j)\n",
    "#     dedge_vectors[(i,j)] = vector_ji/np.linalg.norm(vector_ji)\n",
    "#     dedge_vectors[(j,i)] = -dedge_vectors[(i,j)]\n",
    "\n",
    "# dedge_vectors.default_factory = None\n",
    "\n",
    "dedge_vectors = dm.load_pipeline_result('edgeVectors', 'pkl')\n",
    "    "
   ]
  },
  {
   "cell_type": "code",
   "execution_count": 15,
   "metadata": {
    "collapsed": false
   },
   "outputs": [],
   "source": [
    "# dedge_neighbors = defaultdict(set)\n",
    "# for (i,j), es in edge_neighbors.iteritems():\n",
    "#     if i == -1 or j == -1:\n",
    "#         continue\n",
    "#     ls = set.union(*[{(a,b),(b,a)} for a,b in es])\n",
    "#     dedge_neighbors[(i,j)] |= set((a,b) for a,b in ls if not (i==b or j==a) and np.dot(dedge_vectors[(i,j)],dedge_vectors[(a,b)]) > -.5) - {(j,i),(i,j)}\n",
    "#     dedge_neighbors[(j,i)] |= set((a,b) for a,b in ls if not (j==b or i==a) and np.dot(dedge_vectors[(j,i)],dedge_vectors[(a,b)]) > -.5) - {(j,i),(i,j)}\n",
    "\n",
    "# dedge_neighbors.default_factory = None\n",
    "\n",
    "dedge_neighbors = dm.load_pipeline_result('dedgeNeighbors', 'pkl')"
   ]
  },
  {
   "cell_type": "code",
   "execution_count": 16,
   "metadata": {
    "collapsed": true
   },
   "outputs": [],
   "source": [
    "G = nx.from_dict_of_lists(dedge_neighbors)"
   ]
  },
  {
   "cell_type": "code",
   "execution_count": 59,
   "metadata": {
    "collapsed": false
   },
   "outputs": [],
   "source": [
    "Gs = nx.Graph()\n",
    "for u,v,d in G.edges(data=True):\n",
    "    if u in dedge_contrast and v in dedge_contrast:\n",
    "        c = .5*dedge_contrast[u]+.5*dedge_contrast[v]\n",
    "        w = np.exp(-c)\n",
    "    else:\n",
    "        w = np.inf\n",
    "    Gs.add_edge(u,v, {'weight':w})"
   ]
  },
  {
   "cell_type": "code",
   "execution_count": 60,
   "metadata": {
    "collapsed": false
   },
   "outputs": [],
   "source": [
    "# for p in nx.all_shortest_paths(G, (687,784), (1963,1865)):\n",
    "p = nx.shortest_path(Gs, (687,784), (1880,1796), 'weight')"
   ]
  },
  {
   "cell_type": "code",
   "execution_count": 61,
   "metadata": {
    "collapsed": false
   },
   "outputs": [
    {
     "data": {
      "text/html": [
       "<a href='tmp.jpg' target='_blank'>tmp.jpg</a><br>"
      ],
      "text/plain": [
       "/oasis/projects/nsf/csd181/yuncong/Brain/notebooks/tmp.jpg"
      ]
     },
     "execution_count": 61,
     "metadata": {},
     "output_type": "execute_result"
    }
   ],
   "source": [
    "display(dm.visualize_edge_sets([p]))"
   ]
  },
  {
   "cell_type": "code",
   "execution_count": 82,
   "metadata": {
    "collapsed": true
   },
   "outputs": [],
   "source": [
    "dedges_grouped = map(set, dedges_grouped)\n",
    "ngroup = len(dedges_grouped)\n",
    "\n",
    "conns = [[set() if any([sorted(e1)==sorted(e2) for e1, e2 in product(eg1, eg2)]) \n",
    "          else set([(i,j) for i,j in G.edges(eg1|eg2) if (i in eg1 and j in eg2) or (j in eg1 and i in eg2)]) \n",
    "         for eg1 in dedges_grouped] for eg2 in dedges_grouped]\n",
    "conns_flat = [a for b in conns for a in b ]"
   ]
  },
  {
   "cell_type": "code",
   "execution_count": 97,
   "metadata": {
    "collapsed": false
   },
   "outputs": [
    {
     "data": {
      "text/plain": [
       "1.0"
      ]
     },
     "execution_count": 97,
     "metadata": {},
     "output_type": "execute_result"
    }
   ],
   "source": [
    "dedge_group_supporter_distmat[259][367]"
   ]
  },
  {
   "cell_type": "code",
   "execution_count": 115,
   "metadata": {
    "collapsed": true
   },
   "outputs": [],
   "source": [
    "dedge_group_supporterTex_distmat = np.reshape([chi2(texton_hists[list(sps1)].mean(axis=0), texton_hists[list(sps2)].mean(axis=0))  \n",
    " for sps1, sps2 in product(dedge_group_supporters, dedge_group_supporters)], (ngroup, ngroup))"
   ]
  },
  {
   "cell_type": "code",
   "execution_count": null,
   "metadata": {
    "collapsed": true
   },
   "outputs": [],
   "source": [
    "# dedge_group_supporterTex_distmat = np.reshape([cdist(texton_hists[list(sps1)], texton_hists[list(sps2)], metric=chi2).mean() \n",
    "#                                                for sps1, sps2 in product(dedge_group_supporters, dedge_group_supporters)], \n",
    "#                                               (ngroup, ngroup))"
   ]
  },
  {
   "cell_type": "code",
   "execution_count": 118,
   "metadata": {
    "collapsed": false
   },
   "outputs": [
    {
     "data": {
      "image/png": "[encoded data removed]",
      "text/plain": [
       "<matplotlib.figure.Figure at 0x19ca38d0>"
      ]
     },
     "metadata": {},
     "output_type": "display_data"
    }
   ],
   "source": [
    "plt.matshow(dedge_group_supporterTex_distmat);\n",
    "plt.colorbar();"
   ]
  },
  {
   "cell_type": "code",
   "execution_count": 122,
   "metadata": {
    "collapsed": false
   },
   "outputs": [
    {
     "data": {
      "text/plain": [
       "[259, 262, 365, 366, 367, 368]"
      ]
     },
     "execution_count": 122,
     "metadata": {},
     "output_type": "execute_result"
    }
   ],
   "source": [
    "w"
   ]
  },
  {
   "cell_type": "code",
   "execution_count": 127,
   "metadata": {
    "collapsed": false
   },
   "outputs": [
    {
     "data": {
      "text/plain": [
       "<matplotlib.colorbar.Colorbar instance at 0x1248e5a8>"
      ]
     },
     "execution_count": 127,
     "metadata": {},
     "output_type": "execute_result"
    },
    {
     "data": {
      "image/png": "[encoded data removed]",
      "text/plain": [
       "<matplotlib.figure.Figure at 0xf6b8090>"
      ]
     },
     "metadata": {},
     "output_type": "display_data"
    }
   ],
   "source": [
    "plt.matshow(dedge_group_supporterTex_distmat[w][:,w]);\n",
    "plt.colorbar()"
   ]
  },
  {
   "cell_type": "code",
   "execution_count": 83,
   "metadata": {
    "collapsed": false,
    "scrolled": true
   },
   "outputs": [],
   "source": [
    "dedge_group_edgeConn_distmat = np.reshape(map(lambda x: len(x) < 1, conns_flat), (ngroup, ngroup))\n",
    "np.fill_diagonal(dedge_group_edgeConn_distmat, 0)\n",
    "\n",
    "# plt.matshow(dedge_group_edgeConn_distmat);\n",
    "# plt.colorbar();"
   ]
  },
  {
   "cell_type": "code",
   "execution_count": 128,
   "metadata": {
    "collapsed": true
   },
   "outputs": [],
   "source": [
    "dedge_group_distmat = 1 - (1-dedge_group_edgeConn_distmat) * (1-dedge_group_supporter_distmat > 0.1) * (dedge_group_supporterTex_distmat < .25)"
   ]
  },
  {
   "cell_type": "code",
   "execution_count": 101,
   "metadata": {
    "collapsed": true
   },
   "outputs": [],
   "source": [
    "w = [259, 262, 365, 366, 367, 368]"
   ]
  },
  {
   "cell_type": "code",
   "execution_count": 102,
   "metadata": {
    "collapsed": false
   },
   "outputs": [
    {
     "data": {
      "text/plain": [
       "array([[0, 0, 1, 1, 1, 1],\n",
       "       [0, 0, 1, 0, 1, 1],\n",
       "       [1, 1, 0, 1, 0, 1],\n",
       "       [1, 0, 1, 0, 1, 0],\n",
       "       [1, 1, 0, 1, 0, 0],\n",
       "       [1, 1, 1, 0, 0, 0]])"
      ]
     },
     "execution_count": 102,
     "metadata": {},
     "output_type": "execute_result"
    }
   ],
   "source": [
    "dedge_group_distmat[w][:,w]"
   ]
  },
  {
   "cell_type": "code",
   "execution_count": 126,
   "metadata": {
    "collapsed": false,
    "scrolled": true
   },
   "outputs": [
    {
     "data": {
      "text/html": [
       "<a href='tmp.jpg' target='_blank'>tmp.jpg</a><br>"
      ],
      "text/plain": [
       "/oasis/projects/nsf/csd181/yuncong/Brain/notebooks/tmp.jpg"
      ]
     },
     "execution_count": 126,
     "metadata": {},
     "output_type": "execute_result"
    }
   ],
   "source": [
    "display(dm.visualize_edges_and_superpixels([dedges_grouped[367]], \n",
    "                                           [dedge_group_supporters[367]]))"
   ]
  },
  {
   "cell_type": "code",
   "execution_count": 107,
   "metadata": {
    "collapsed": false,
    "scrolled": true
   },
   "outputs": [
    {
     "data": {
      "text/html": [
       "<a href='tmp.jpg' target='_blank'>tmp.jpg</a><br>"
      ],
      "text/plain": [
       "/oasis/projects/nsf/csd181/yuncong/Brain/notebooks/tmp.jpg"
      ]
     },
     "execution_count": 107,
     "metadata": {},
     "output_type": "execute_result"
    }
   ],
   "source": [
    "display(dm.visualize_edges_and_superpixels([dedges_grouped[i] for i in w], [dedge_group_supporters[i] for i in w]))"
   ]
  },
  {
   "cell_type": "code",
   "execution_count": 129,
   "metadata": {
    "collapsed": false
   },
   "outputs": [
    {
     "name": "stdout",
     "output_type": "stream",
     "text": [
      "252 edge groups after considering connectivity\n"
     ]
    }
   ],
   "source": [
    "ig, edge_groups2, _ = group_clusters(clusters=dedges_grouped, \n",
    "                                   distance_matrix=dedge_group_distmat, \n",
    "                                   dist_thresh=.5, linkage='single')\n",
    "\n",
    "print len(edge_groups), 'edge groups after considering connectivity'\n",
    "\n",
    "edge_groups = map(lambda x: set(chain(*x)), edge_groups2)"
   ]
  },
  {
   "cell_type": "code",
   "execution_count": 228,
   "metadata": {
    "collapsed": true
   },
   "outputs": [],
   "source": [
    "# display(dm.visualize_edges_and_superpixels(edge_groups_sorted[:40], edge_groups_supporter_sorted[:40]))"
   ]
  },
  {
   "cell_type": "code",
   "execution_count": 229,
   "metadata": {
    "collapsed": false,
    "scrolled": true
   },
   "outputs": [],
   "source": [
    "# g = nx.Graph(1-dedge_group_edgeConn_distmat[w][:,w])\n",
    "# gg = nx.relabel_nodes(g,dict(enumerate(w)))\n",
    "# nx.draw_spectral(gg, with_labels=True)"
   ]
  },
  {
   "cell_type": "code",
   "execution_count": 230,
   "metadata": {
    "collapsed": false,
    "scrolled": true
   },
   "outputs": [],
   "source": [
    "# display(dm.visualize_edge_sets([dedges_grouped[262]], text_size=3, img=segmentation_vis))"
   ]
  },
  {
   "cell_type": "code",
   "execution_count": 231,
   "metadata": {
    "collapsed": false
   },
   "outputs": [],
   "source": [
    "# display(dm.visualize_edge_sets(sorted(dedges_grouped, key=len, reverse=True)[:100],\n",
    "#                                text_size=3, img=segmentation_vis))"
   ]
  },
  {
   "cell_type": "code",
   "execution_count": 130,
   "metadata": {
    "collapsed": false
   },
   "outputs": [],
   "source": [
    "edge_groups_sorted = sorted(edge_groups, key=lambda x: sum(dedge_contrast[e] for e in x), reverse=True)\n",
    "edge_group_supporters_sorted = [smart_union(map(lambda e: dedge_expandedSupporters[e], es)) \n",
    "                                for es in edge_groups_sorted]"
   ]
  },
  {
   "cell_type": "code",
   "execution_count": 131,
   "metadata": {
    "collapsed": false
   },
   "outputs": [
    {
     "data": {
      "text/html": [
       "<a href='tmp.jpg' target='_blank'>tmp.jpg</a><br>"
      ],
      "text/plain": [
       "/oasis/projects/nsf/csd181/yuncong/Brain/notebooks/tmp.jpg"
      ]
     },
     "execution_count": 131,
     "metadata": {},
     "output_type": "execute_result"
    }
   ],
   "source": [
    "display(dm.visualize_edge_sets(edge_groups_sorted[:40], text_size=3, img=segmentation_vis))"
   ]
  },
  {
   "cell_type": "code",
   "execution_count": null,
   "metadata": {
    "collapsed": true
   },
   "outputs": [],
   "source": [
    "\n",
    "\n",
    "\n",
    "\n",
    "\n",
    "\n",
    "# Method xxx"
   ]
  },
  {
   "cell_type": "code",
   "execution_count": null,
   "metadata": {
    "collapsed": true
   },
   "outputs": [],
   "source": [
    "# dedge_group_edgeConn_distmat = set_pairwise_distances(dedges_grouped, metric='jaccard')"
   ]
  },
  {
   "cell_type": "code",
   "execution_count": 398,
   "metadata": {
    "collapsed": false
   },
   "outputs": [],
   "source": [
    "edge_group_grouped, edge_supporter_grouped, _ = group_clusters(zip(dedges_grouped, dedge_group_supporters), dist_thresh=.1, metric='jaccard')"
   ]
  },
  {
   "cell_type": "code",
   "execution_count": 399,
   "metadata": {
    "collapsed": false
   },
   "outputs": [],
   "source": [
    "edge_groups = map(lambda x: set.union(*map(set, x)), edge_group_grouped)"
   ]
  },
  {
   "cell_type": "code",
   "execution_count": 400,
   "metadata": {
    "collapsed": false
   },
   "outputs": [],
   "source": [
    "edge_groups_supporter = map(smart_union, edge_supporter_grouped)"
   ]
  },
  {
   "cell_type": "code",
   "execution_count": 421,
   "metadata": {
    "collapsed": false
   },
   "outputs": [],
   "source": [
    "edge_groups_sorted, edge_groups_supporter_sorted = zip(*[(y,z) for x,y,z in sorted([(np.sort([dedge_contrast[e] for e in eg])[-5:].mean(), eg, esg) \n",
    "                                            for eg, esg in zip(edge_groups, edge_groups_supporter)], reverse=True)])"
   ]
  },
  {
   "cell_type": "code",
   "execution_count": 418,
   "metadata": {
    "collapsed": false
   },
   "outputs": [],
   "source": [
    "edge_groups_sorted, edge_groups_supporter_sorted = zip(*[(y,z) for x,y,z in sorted([(np.mean([dedge_contrast[e] for e in eg]), eg, esg) \n",
    "                                            for eg, esg in zip(edge_groups, edge_groups_supporter)], reverse=True)])"
   ]
  },
  {
   "cell_type": "code",
   "execution_count": 414,
   "metadata": {
    "collapsed": false
   },
   "outputs": [],
   "source": [
    "edge_groups_sorted, edge_groups_supporter_sorted = zip(*[(y,z) for x,y,z in sorted([(np.sum([len(edge_coords[frozenset(e)]) for e in eg]), eg, esg) \n",
    "                                            for eg, esg in zip(edge_groups, edge_groups_supporter)], reverse=True)])"
   ]
  },
  {
   "cell_type": "code",
   "execution_count": 214,
   "metadata": {
    "collapsed": false
   },
   "outputs": [
    {
     "data": {
      "text/html": [
       "<a href='tmp.jpg' target='_blank'>tmp.jpg</a><br>"
      ],
      "text/plain": [
       "/oasis/projects/nsf/csd181/yuncong/Brain/notebooks/tmp.jpg"
      ]
     },
     "execution_count": 214,
     "metadata": {},
     "output_type": "execute_result"
    }
   ],
   "source": [
    "display(dm.visualize_edges_and_superpixels([[nz_dedges[10]]], [dedge_supporters[nz_dedges[10]]]))"
   ]
  },
  {
   "cell_type": "code",
   "execution_count": 213,
   "metadata": {
    "collapsed": false
   },
   "outputs": [
    {
     "data": {
      "text/html": [
       "<a href='tmp.jpg' target='_blank'>tmp.jpg</a><br>"
      ],
      "text/plain": [
       "/oasis/projects/nsf/csd181/yuncong/Brain/notebooks/tmp.jpg"
      ]
     },
     "execution_count": 213,
     "metadata": {},
     "output_type": "execute_result"
    }
   ],
   "source": [
    "display(dm.visualize_edges_and_superpixels([[nz_dedges[10]]], [dedge_expandedSupporters[nz_dedges[10]]]))"
   ]
  },
  {
   "cell_type": "code",
   "execution_count": null,
   "metadata": {
    "collapsed": true
   },
   "outputs": [],
   "source": [
    "display(dm.visualize_edge(edge_groups_sorted[:40]))"
   ]
  },
  {
   "cell_type": "code",
   "execution_count": null,
   "metadata": {
    "collapsed": false,
    "scrolled": true
   },
   "outputs": [],
   "source": [
    "display(dm.visualize_edges_and_superpixels(edge_groups_sorted[:40], edge_groups_supporter_sorted[:40]))"
   ]
  },
  {
   "cell_type": "code",
   "execution_count": 411,
   "metadata": {
    "collapsed": false
   },
   "outputs": [
    {
     "data": {
      "text/html": [
       "<a href='tmp.jpg' target='_blank'>tmp.jpg</a><br>"
      ],
      "text/plain": [
       "/oasis/projects/nsf/csd181/yuncong/Brain/notebooks/tmp.jpg"
      ]
     },
     "execution_count": 411,
     "metadata": {},
     "output_type": "execute_result"
    }
   ],
   "source": [
    "display(dm.visualize_edges_and_superpixels([], []))"
   ]
  },
  {
   "cell_type": "code",
   "execution_count": null,
   "metadata": {
    "collapsed": true
   },
   "outputs": [],
   "source": [
    "# Clique method"
   ]
  },
  {
   "cell_type": "code",
   "execution_count": 172,
   "metadata": {
    "collapsed": false,
    "scrolled": true
   },
   "outputs": [
    {
     "name": "stdout",
     "output_type": "stream",
     "text": [
      "121\n"
     ]
    }
   ],
   "source": [
    "import networkx as nx\n",
    "Q = nx.Graph((1. - dedge_supporter_dist_mat) >= .9)\n",
    "Q = nx.relabel_nodes(Q, dict(enumerate(nz_dedges2)))\n",
    "\n",
    "# option 1\n",
    "# cliques = list(nx.clique.find_cliques(Q))\n",
    "\n",
    "# option 2\n",
    "# cliques = list(nx.community.k_clique_communities(Q,10))\n",
    "\n",
    "# option 3\n",
    "cliques = list(nx.clique.find_cliques(Q))\n",
    "cliques = [c for c in cliques if len(c) > 10]\n",
    "\n",
    "print len(cliques)"
   ]
  },
  {
   "cell_type": "code",
   "execution_count": 97,
   "metadata": {
    "collapsed": true
   },
   "outputs": [],
   "source": [
    "from collections import Counter\n",
    "clique_counters = [Counter(chain(*[dedge_supporters[e] for e in es])) for es in cliques]\n",
    "clique_supporters = [set([s for s, c in cc.iteritems() if c > (cc.most_common(1)[0][1]*.3)]) for cc in clique_counters]\n",
    "\n",
    "# clique_supporters = [set.intersection(*[set(dedge_supporters[e]) for e in es]) for es in cliques]"
   ]
  },
  {
   "cell_type": "code",
   "execution_count": 144,
   "metadata": {
    "collapsed": true
   },
   "outputs": [],
   "source": [
    "clique_expandedSupporter_counters = [Counter(chain(*[expansion_clusters[s] for s in ss])) \n",
    "                                     for ss in clique_supporters]\n",
    "clique_expandedSupporters = [set([s for s, c in cc.iteritems() if c > (cc.most_common(1)[0][1]*.3)]) \n",
    "                             for cc in clique_expandedSupporter_counters]"
   ]
  },
  {
   "cell_type": "code",
   "execution_count": 176,
   "metadata": {
    "collapsed": false
   },
   "outputs": [
    {
     "name": "stdout",
     "output_type": "stream",
     "text": [
      "74\n"
     ]
    }
   ],
   "source": [
    "clique_supporter_distance_mat = set_pairwise_distances(clique_expandedSupporters, metric='jaccard')\n",
    "# clique_edge_distance_mat = set_pairwise_distances(cliques, metric='min-jaccard')\n",
    "\n",
    "cliques_grouped_by_supporter_overlap = sorted(group_clusters(dist_thresh=.25, \n",
    "                                            distance_matrix=clique_supporter_distance_mat,\n",
    "                                            linkage='average'), key=len, reverse=True)\n",
    "\n",
    "# clique_distance_mat = np.minimum(clique_supporter_distance_mat, clique_edge_distance_mat)\n",
    "\n",
    "# cliques_grouped_by_edge_overlap = group_clusters(dist_thresh=.25, \n",
    "#                                             distance_matrix=clique_edge_distance_mat,\n",
    "#                                             linkage='average')\n",
    "\n",
    "print len(cliques_grouped_by_supporter_overlap)\n",
    "# print len(cliques_grouped_by_edge_overlap)"
   ]
  },
  {
   "cell_type": "code",
   "execution_count": 147,
   "metadata": {
    "collapsed": true
   },
   "outputs": [],
   "source": [
    "def bipartite(D):\n",
    "    import networkx as nx\n",
    "    \n",
    "    n1, n2 = D.shape\n",
    "\n",
    "    DD = np.zeros((n1+n2, n1+n2))\n",
    "    DD[:n1, n1:] = D\n",
    "    DD[n1:, :n1] = D.T\n",
    "\n",
    "    G = nx.Graph(DD)\n",
    "    G = nx.relabel_nodes(G, dict([(i,(0,i)) for i in range(n1)]+[(n1+j,(1,j)) for j in range(n2)]))\n",
    "\n",
    "    return [sorted(g) for g in sorted(list(nx.connected_components(G)), key=len, reverse=True)]"
   ]
  },
  {
   "cell_type": "code",
   "execution_count": 148,
   "metadata": {
    "collapsed": false
   },
   "outputs": [],
   "source": [
    "d = np.reshape([len(set(list(ge))&set(list(gs)))>0 for ge, gs in product(cliques_grouped_by_edge_overlap, cliques_grouped_by_supporter_overlap)],\n",
    "          (len(cliques_grouped_by_edge_overlap), len(cliques_grouped_by_supporter_overlap)))\n",
    "cliques_grouped = sorted([list(set(chain(*[cliques_grouped_by_edge_overlap[i] if b == 0 else cliques_grouped_by_supporter_overlap[i] \n",
    "  for b,i in g ]))) for g in bipartite(d)], key=len, reverse=True)"
   ]
  },
  {
   "cell_type": "code",
   "execution_count": 157,
   "metadata": {
    "collapsed": false
   },
   "outputs": [
    {
     "name": "stdout",
     "output_type": "stream",
     "text": [
      "72\n"
     ]
    }
   ],
   "source": [
    "print len(cliques_grouped)"
   ]
  },
  {
   "cell_type": "code",
   "execution_count": 71,
   "metadata": {
    "collapsed": false
   },
   "outputs": [],
   "source": [
    "# cliques_indices_noduplicate = [g[np.argmax([len(cliques[e]) for e in g])] for g in cliques_grouped]\n",
    "cliques_indices_noduplicate = [g[np.argmax([np.sum([dedge_stopperness[ee] for ee in cliques[e]]) for e in g])] \n",
    "                               for g in cliques_grouped]\n",
    "cliques_noduplicate = [cliques[i] for i in cliques_indices_noduplicate]"
   ]
  },
  {
   "cell_type": "code",
   "execution_count": 72,
   "metadata": {
    "collapsed": true
   },
   "outputs": [],
   "source": [
    "clique_sorted_by_stopperness = sorted(cliques_noduplicate, \n",
    "                               key=lambda es: np.sum([dedge_stopperness[e] for e in es]), \n",
    "                               reverse=True)"
   ]
  },
  {
   "cell_type": "code",
   "execution_count": 227,
   "metadata": {
    "collapsed": false
   },
   "outputs": [],
   "source": [
    "# i = cliques_indices_noduplicate[cliques_noduplicate.index(clique_sorted_by_stopperness[13])]\n",
    "# print i\n",
    "# display(dm.visualize_edges_and_superpixels([cliques[i]], clique_supporters[i]))"
   ]
  },
  {
   "cell_type": "code",
   "execution_count": 76,
   "metadata": {
    "collapsed": false
   },
   "outputs": [
    {
     "data": {
      "text/html": [
       "<a href='top40Cliques.jpg' target='_blank'>top40Cliques.jpg</a><br>"
      ],
      "text/plain": [
       "/oasis/projects/nsf/csd181/yuncong/Brain/notebooks/top40Cliques.jpg"
      ]
     },
     "execution_count": 76,
     "metadata": {},
     "output_type": "execute_result"
    }
   ],
   "source": [
    "display(dm.visualize_edge_sets(clique_sorted_by_stopperness, img=segmentation_vis, \n",
    "                               directed=True, text_size=3), 'top40Cliques.jpg')"
   ]
  },
  {
   "cell_type": "code",
   "execution_count": null,
   "metadata": {
    "collapsed": true
   },
   "outputs": [],
   "source": [
    "# Common"
   ]
  },
  {
   "cell_type": "code",
   "execution_count": 125,
   "metadata": {
    "collapsed": false
   },
   "outputs": [
    {
     "data": {
      "text/html": [
       "<a href='tmp.jpg' target='_blank'>tmp.jpg</a><br>"
      ],
      "text/plain": [
       "/oasis/projects/nsf/csd181/yuncong/Brain/notebooks/tmp.jpg"
      ]
     },
     "execution_count": 125,
     "metadata": {},
     "output_type": "execute_result"
    }
   ],
   "source": [
    "display(dm.visualize_edge_sets(edge_groups_sorted[:40], text_size=3, img=segmentation_vis))"
   ]
  },
  {
   "cell_type": "code",
   "execution_count": 292,
   "metadata": {
    "collapsed": false
   },
   "outputs": [
    {
     "name": "stdout",
     "output_type": "stream",
     "text": [
      "saved /oasis/projects/nsf/csd395/yuncong/DavidData2014results/RS141/0003/RS141_x5_0003_gabor-blueNisslWide-segm-blueNisslRegular-vq-blueNissl_goodEdgeSets.pkl\n"
     ]
    }
   ],
   "source": [
    "dm.save_pipeline_result(edge_groups_sorted, 'goodEdgeSets', 'pkl')"
   ]
  },
  {
   "cell_type": "code",
   "execution_count": 293,
   "metadata": {
    "collapsed": false
   },
   "outputs": [
    {
     "name": "stdout",
     "output_type": "stream",
     "text": [
      "saved /oasis/projects/nsf/csd395/yuncong/DavidData2014results/RS141/0003/RS141_x5_0003_gabor-blueNisslWide-segm-blueNisslRegular-vq-blueNissl_goodEdgeSetsSupporters.pkl\n"
     ]
    }
   ],
   "source": [
    "dm.save_pipeline_result(edge_group_supporters_sorted, 'goodEdgeSetsSupporters', 'pkl')"
   ]
  },
  {
   "cell_type": "code",
   "execution_count": 294,
   "metadata": {
    "collapsed": false
   },
   "outputs": [
    {
     "name": "stdout",
     "output_type": "stream",
     "text": [
      "saved /oasis/projects/nsf/csd395/yuncong/DavidData2014results/RS141/0003/RS141_x5_0003_gabor-blueNisslWide-segm-blueNisslRegular-vq-blueNissl_boundaryModels2.pkl\n"
     ]
    }
   ],
   "source": [
    "boundary_models = []\n",
    "\n",
    "for i, es in enumerate(edge_groups_sorted[:40]):\n",
    "\n",
    "    es = list(es)\n",
    "    \n",
    "    interior_texture = texton_hists[list(edge_group_supporters_sorted[i])].mean(axis=0)\n",
    "    \n",
    "    surrounds = [e[0] for e in es]\n",
    "    exterior_textures = np.array([texton_hists[s] if s!=-1 else np.nan * np.ones((texton_hists.shape[1],)) \n",
    "                                  for s in surrounds])\n",
    "    # how to deal with -1 in surrounds? Assign to an all np.nan vector\n",
    "\n",
    "    points = np.array([edge_coords[frozenset(e)].mean(axis=0) for e in es])\n",
    "    center = points.mean(axis=0)\n",
    "\n",
    "    boundary_models.append((es, interior_texture, exterior_textures, points, center))\n",
    "\n",
    "dm.save_pipeline_result(boundary_models, 'boundaryModels', 'pkl')\n",
    "# dm.save_pipeline_result(nonoverlapping_lm_types_sorted_by_score, 'nonoverlapLmTypes', 'npy')\n",
    "# dm.save_pipeline_result(interior_superpixels, 'internalSps', 'pkl')"
   ]
  },
  {
   "cell_type": "code",
   "execution_count": null,
   "metadata": {
    "collapsed": true
   },
   "outputs": [],
   "source": []
  },
  {
   "cell_type": "code",
   "execution_count": null,
   "metadata": {
    "collapsed": true
   },
   "outputs": [],
   "source": []
  }
 ],
 "metadata": {
  "kernelspec": {
   "display_name": "Python 2",
   "language": "python",
   "name": "python2"
  },
  "language_info": {
   "codemirror_mode": {
    "name": "ipython",
    "version": 2
   },
   "file_extension": ".py",
   "mimetype": "text/x-python",
   "name": "python",
   "nbconvert_exporter": "python",
   "pygments_lexer": "ipython2",
   "version": "2.7.3"
  }
 },
 "nbformat": 4,
 "nbformat_minor": 0
}
