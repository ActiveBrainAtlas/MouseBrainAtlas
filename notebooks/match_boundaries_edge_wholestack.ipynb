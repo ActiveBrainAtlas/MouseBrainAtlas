{
 "metadata": {
  "name": "",
  "signature": "sha256:6c0ee480b30c420d77c8e756938eb7dc39dc5804fed82d009449ed1940ad56ae"
 },
 "nbformat": 3,
 "nbformat_minor": 0,
 "worksheets": [
  {
   "cells": [
    {
     "cell_type": "code",
     "collapsed": false,
     "input": [
      "%load_ext autoreload\n",
      "%autoreload 2"
     ],
     "language": "python",
     "metadata": {},
     "outputs": [],
     "prompt_number": 1
    },
    {
     "cell_type": "code",
     "collapsed": false,
     "input": [
      "sys.path.append('/home/yuncong/project/opencv-2.4.9/release/lib/python2.7/site-packages')"
     ],
     "language": "python",
     "metadata": {},
     "outputs": [],
     "prompt_number": 2
    },
    {
     "cell_type": "code",
     "collapsed": false,
     "input": [
      "sys.path.insert(0, '/home/yuncong/project/cython-munkres-wrapper/build/lib.linux-x86_64-2.7')\n",
      "from munkres import munkres\n",
      "# https://github.com/jfrelinger/cython-munkres-wrapper,\n",
      "# 10 times faster than the python implementation http://software.clapper.org/munkres/\n",
      "\n",
      "# from munkres import Munkres # http://software.clapper.org/munkres/"
     ],
     "language": "python",
     "metadata": {},
     "outputs": [],
     "prompt_number": 3
    },
    {
     "cell_type": "code",
     "collapsed": false,
     "input": [
      "import sys\n",
      "sys.path.append('/home/yuncong/Brain/pipeline_scripts')\n",
      "from utilities2014 import *\n",
      "import os\n",
      "\n",
      "os.environ['GORDON_DATA_DIR'] = '/home/yuncong/project/DavidData2014tif/'\n",
      "os.environ['GORDON_REPO_DIR'] = '/home/yuncong/Brain'\n",
      "os.environ['GORDON_RESULT_DIR'] = '/home/yuncong/project/DavidData2014results/'\n",
      "os.environ['GORDON_LABELING_DIR'] = '/home/yuncong/project/DavidData2014labelings/'\n",
      "\n",
      "\n",
      "from scipy.spatial.distance import cdist, pdist, squareform\n",
      "from scipy.cluster.hierarchy import average, fcluster, leaders, complete, single, dendrogram\n",
      "\n",
      "from joblib import Parallel, delayed\n",
      "\n",
      "from skimage.color import gray2rgb\n",
      "from skimage.util import img_as_float, pad\n",
      "from skimage.morphology import disk\n",
      "from skimage.filter.rank import gradient\n",
      "\n",
      "from collections import defaultdict, Counter\n",
      "from itertools import combinations, chain, product\n",
      "\n",
      "import networkx\n",
      "from networkx import from_dict_of_lists, dfs_postorder_nodes\n",
      "\n",
      "sys.path.append('shape_context')\n",
      "import shape_context as sc\n",
      "\n",
      "import time"
     ],
     "language": "python",
     "metadata": {},
     "outputs": [],
     "prompt_number": 4
    },
    {
     "cell_type": "code",
     "collapsed": false,
     "input": [
      "# Order the exterior by depth-first search\n",
      "# The ordering is not well-defined in some corners\n",
      "\n",
      "def find_boundary_sps(clusters, neighbors, neighbor_graph):\n",
      "    '''\n",
      "    Identify superpixels that are at the boundary of regions: surround set and frontier set\n",
      "    \n",
      "    Parameters\n",
      "    ----------\n",
      "    clusters : list of integer lists\n",
      "    neighbors : neighbor_list\n",
      "    neighbor_graph : \n",
      "    '''\n",
      "        \n",
      "    n_superpixels = len(clusters)\n",
      "    \n",
      "    surrounds_sps = []\n",
      "    frontiers_sps = []\n",
      "    \n",
      "    for cluster_ind, cluster in enumerate(clusters):\n",
      "        \n",
      "        surrounds = set([i for i in set.union(*[neighbors[c] for c in cluster]) if i not in cluster and i != -1])\n",
      "#         surrounds = set([i for i in surrounds if any([(n not in cluster) and (n not in surrounds) for n in neighbors[i]])])\n",
      "        surrounds = set([i for i in surrounds if any([n not in cluster for n in neighbors[i]])])\n",
      "\n",
      "        if len(surrounds) == 0:\n",
      "            surrounds_sps.append([])\n",
      "            frontiers_sps.append([])\n",
      "\n",
      "        else:\n",
      "            frontiers = set.union(*[neighbors[c] for c in surrounds]) & set(cluster)\n",
      "\n",
      "            surrounds_subgraph = neighbor_graph.subgraph(surrounds)\n",
      "            surrounds_traversal = list(dfs_postorder_nodes(surrounds_subgraph))\n",
      "\n",
      "            frontiers_subgraph = neighbor_graph.subgraph(frontiers)\n",
      "            frontiers_traversal = list(dfs_postorder_nodes(frontiers_subgraph))\n",
      "\n",
      "            surrounds_sps.append(surrounds_traversal)\n",
      "            frontiers_sps.append(frontiers_traversal)\n",
      "        \n",
      "    return surrounds_sps, frontiers_sps"
     ],
     "language": "python",
     "metadata": {},
     "outputs": [],
     "prompt_number": 5
    },
    {
     "cell_type": "code",
     "collapsed": false,
     "input": [
      "def compute_overlap(c1, c2):\n",
      "    return float(len(c1 & c2)) / min(len(c1),len(c2))\n",
      "\n",
      "def compute_overlap2(c1, c2):\n",
      "    return float(len(c1 & c2)) / len(c1 | c2)    \n",
      "\n",
      "def compute_overlap_partial(indices, sets, metric=1):\n",
      "    n_sets = len(sets)\n",
      "    \n",
      "    overlap_matrix = np.zeros((len(indices), n_sets))\n",
      "        \n",
      "    for ii, i in enumerate(indices):\n",
      "        for j in range(n_sets):\n",
      "            c1 = set(sets[i])\n",
      "            c2 = set(sets[j])\n",
      "            if len(c1) == 0 or len(c2) == 0:\n",
      "                overlap_matrix[ii, j] = 0\n",
      "            else:\n",
      "                if metric == 1:\n",
      "                    overlap_matrix[ii, j] = compute_overlap(c1, c2)\n",
      "                elif metric == 2:\n",
      "                    overlap_matrix[ii, j] = compute_overlap2(c1, c2)\n",
      "            \n",
      "    return overlap_matrix\n",
      "\n",
      "def set_pairwise_distances(sets, metric):\n",
      "\n",
      "    partial_overlap_mat = Parallel(n_jobs=16, max_nbytes=1e6)(delayed(compute_overlap_partial)(s, sets, metric=metric) \n",
      "                                        for s in np.array_split(range(len(sets)), 16))\n",
      "    overlap_matrix = np.vstack(partial_overlap_mat)\n",
      "    distance_matrix = 1 - overlap_matrix\n",
      "    \n",
      "    np.fill_diagonal(distance_matrix, 0)\n",
      "    \n",
      "    return distance_matrix\n",
      "\n",
      "def group_clusters(clusters=None, dist_thresh = 0.1, distance_matrix=None, metric=1):\n",
      "\n",
      "    if distance_matrix is None:\n",
      "        assert clusters is not None\n",
      "        distance_matrix = set_pairwise_distances(clusters, metric)\n",
      "        \n",
      "    lk = average(squareform(distance_matrix))\n",
      "#     lk = single(squareform(distance_matrix))\n",
      "\n",
      "    # T = fcluster(lk, 1.15, criterion='inconsistent')\n",
      "    T = fcluster(lk, dist_thresh, criterion='distance')\n",
      "\n",
      "    n_groups = len(set(T))    \n",
      "    groups = [None] * n_groups\n",
      "\n",
      "    for group_id in range(n_groups):\n",
      "        groups[group_id] = where(T == group_id)[0]\n",
      "        \n",
      "    return [g for g in groups if len(g) > 0]"
     ],
     "language": "python",
     "metadata": {},
     "outputs": [],
     "prompt_number": 6
    },
    {
     "cell_type": "code",
     "collapsed": false,
     "input": [
      "def find_boundaries_section(sec_ind):\n",
      "    '''\n",
      "    Find good boundary landmarks (both closed and open) from a section image.\n",
      "    \n",
      "    Parameters\n",
      "    ----------\n",
      "    sec_ind : int\n",
      "        section index\n",
      "    '''\n",
      "    \n",
      "    dm = DataManager(generate_hierarchy=False, stack='RS141', resol='x5')\n",
      "    \n",
      "    # Load image and relevant data\n",
      "    dm.set_slice(sec_ind)\n",
      "    im_height, im_width = imread(dm._get_image_filepath()).shape[:2]\n",
      "\n",
      "    texton_hists = dm.load_pipeline_result('texHist', 'npy')\n",
      "    segmentation = dm.load_pipeline_result('segmentation', 'npy')\n",
      "    n_superpixels = len(unique(segmentation)) - 1\n",
      "    textonmap = dm.load_pipeline_result('texMap', 'npy')\n",
      "    n_texton = len(np.unique(textonmap)) - 1\n",
      "    neighbors = dm.load_pipeline_result('neighbors', 'npy')\n",
      "    sp_properties = dm.load_pipeline_result('spProps', 'npy')\n",
      "    segmentation_vis = dm.load_pipeline_result('segmentationWithText', 'jpg')\n",
      "\n",
      "    # Load region proposals\n",
      "    expansion_clusters_tuples = dm.load_pipeline_result('clusters', 'pkl')\n",
      "    expansion_clusters, expansion_cluster_scores = zip(*expansion_clusters_tuples)\n",
      "    expansion_cluster_scores = np.array(expansion_cluster_scores)\n",
      "\n",
      "    neighbors_dict = dict(zip(np.arange(n_superpixels), [list(i) for i in neighbors]))\n",
      "    neighbor_graph = from_dict_of_lists(neighbors_dict)\n",
      "        \n",
      "    surrounds_sps, frontiers_sps = find_boundary_sps(expansion_clusters, neighbors=neighbors, neighbor_graph=neighbor_graph)\n",
      "    \n",
      "    \n",
      "    ############# OPEN BOUNDARY landmarks ##############\n",
      "    \n",
      "    # votes for directed edgelets\n",
      "    dEdge_votes = defaultdict(int)\n",
      "    \n",
      "    # Compute the supporter sets of every edgelet, based on region proposals\n",
      "    # supporter_all[(100,101)] is the set of superpixels that supports directed edgelet (100,101)\n",
      "    supporters_all = defaultdict(list)\n",
      "\n",
      "    for s in range(n_superpixels):\n",
      "    #     if s not in sps_in_good_regions: continue\n",
      "\n",
      "        c = list(expansion_clusters[s])\n",
      "        interior_texture = texton_hists[c].mean(axis=0)\n",
      "        b_sps = surrounds_sps[s]\n",
      "        b_contrasts = cdist(texton_hists[b_sps], interior_texture[np.newaxis, :], chi2)\n",
      "\n",
      "        for b_sp, b_contrast in zip(b_sps, b_contrasts):\n",
      "            int_sps = neighbors[b_sp] & set(c)\n",
      "            for int_sp in int_sps:\n",
      "                dEdge_votes[(b_sp, int_sp)] += b_contrast / max(len(c), 5)\n",
      "                dEdge_votes[(int_sp, b_sp)] += b_contrast / max(len(c), 5)\n",
      "                supporters_all[(b_sp, int_sp)].append(s) # (border_sp, interior_sp) or (out, in)\n",
      "\n",
      "    \n",
      "    # Identify all edgelets based on sp neighborhood information\n",
      "    try:\n",
      "        edge_coords = dm.load_pipeline_result('edgeCoords', 'pkl')\n",
      "    except:    \n",
      "        \n",
      "        # generate the set of all edgelets\n",
      "        edges = []\n",
      "        for i in range(n_superpixels):\n",
      "            for n in neighbors[i]:\n",
      "                edges.append(frozenset([i, n]))\n",
      "\n",
      "        # find the coordinates that belong to each edgelet\n",
      "        edge_map = gradient(segmentation.astype(np.uint8), disk(3)) > 0\n",
      "\n",
      "        edge_coords = defaultdict(list)\n",
      "\n",
      "        for y,x in zip(*np.nonzero(edge_map)):\n",
      "            if segmentation[y,x] != -1:\n",
      "                m = frozenset(segmentation[max(0, y-2):min(im_height, y+2),\n",
      "                                           max(0, x-2):min(im_width, x+2)].ravel())\n",
      "                if len(m) > 1:\n",
      "                    for q in set(combinations(m, 2)):\n",
      "                        edge_coords[frozenset(q)].append([y,x])\n",
      "\n",
      "        for edge, pts in edge_coords.iteritems():\n",
      "            if edge in edges:\n",
      "                edge_coords[edge] = np.array(pts)\n",
      "            \n",
      "        dm.save_pipeline_result(edge_coords, 'edgeCoords', 'pkl')\n",
      "    \n",
      "    # threshold the edgelet votes\n",
      "    dEdge_vote_thresh = 1.\n",
      "    winner_dEdges = [dedge for dedge, v in dEdge_votes.iteritems() if v > dEdge_vote_thresh]\n",
      "    \n",
      "    # group the winning edgelets, according to their supporter sets\n",
      "    winner_supporters = [supporters_all[dedge] for dedge in winner_dEdges]\n",
      "    supporter_D = set_pairwise_distances(winner_supporters, metric=1)\n",
      "    supporter_sim_thresh = .2\n",
      "    winner_indices_grouped_by_supporters = group_clusters(winner_supporters, dist_thresh=supporter_sim_thresh, \n",
      "                                                          distance_matrix=supporter_D)\n",
      "#     print len(winner_indices_grouped_by_supporters), 'alliances'\n",
      "    winners_grouped_by_supporters = [[winner_dEdges[i] for i in g] for g in winner_indices_grouped_by_supporters]\n",
      "    \n",
      "    alliance_sizes = np.array(map(len, winners_grouped_by_supporters))\n",
      "\n",
      "    # pick edgelet groups with more than 20 edgelets\n",
      "    big_alliance_indices = np.where(alliance_sizes > 20)[0]\n",
      "#     print len(big_alliance_indices), 'big alliances'\n",
      "    big_alliance_dEdges = [winners_grouped_by_supporters[ba_ind] for ba_ind in big_alliance_indices]\n",
      "    big_alliance_winnerIndices = [winner_indices_grouped_by_supporters[ba_ind] for ba_ind in big_alliance_indices]\n",
      "    big_alliance_supporters = [set.union(*[set(winner_supporters[i]) for i in a]) for a in big_alliance_winnerIndices]\n",
      "    # define supporter set of an edgelet group as the union of each supporter set\n",
      "\n",
      "    # sort edgelet groups by total vote over all edgelets\n",
      "    good_edgeSet_tuple_sorted_by_score = sorted([(np.sum([dEdge_votes[e] for e in edges]), edges, alliance_ind)\n",
      "                                                      for alliance_ind, edges in enumerate(big_alliance_dEdges)\n",
      "                                                      if len(edges) > 10], reverse=True)\n",
      "    good_edgeSet_scores_sorted, good_edgeSets_sorted, good_edgeSet_indices_sorted = zip(*good_edgeSet_tuple_sorted_by_score)  \n",
      "    good_edgeSet_supporters = [ big_alliance_supporters[alliance_i] for alliance_i in good_edgeSet_indices_sorted]\n",
      "    # give this to Idan's web interface\n",
      "    \n",
      "#     print len(good_edgeSet_tuple_sorted_by_score), 'good boundaries'\n",
      "    \n",
      "    # These edgelet groups constitute Open Boundary landmarks.\n",
      "    \n",
      "    \n",
      "    ############# CLOSED BOUNDARY landmarks ##############\n",
      "    \n",
      "    # Load region landmarks\n",
      "    representative_clusters = dm.load_pipeline_result('representativeClusters', 'pkl')\n",
      "\n",
      "    representative_cluster_scores_sorted, representative_clusters_sorted_by_score, \\\n",
      "    representative_cluster_indices_sorted_by_score, big_groups_sorted_by_score = zip(*representative_clusters)\n",
      "    \n",
      "    # Convert regions from sp set representation to edgelet set representation\n",
      "    \n",
      "    # Fill holes\n",
      "    representative_clusters_holefilled_sorted_by_score = []\n",
      "    \n",
      "    for ci, cluster in enumerate(representative_clusters_sorted_by_score):\n",
      "        holes = set([])\n",
      "        for t in [j for j in range(n_superpixels) if j not in cluster]:\n",
      "            if np.sum([i in cluster for i in neighbors[t]]) >= 3:\n",
      "                holes.add(t)\n",
      "#         print ci, holes\n",
      "        representative_clusters_holefilled_sorted_by_score.append(set(cluster) | holes)\n",
      "\n",
      "#     while True:\n",
      "#         representative_clusters_holefilled_sorted_by_score2 = []\n",
      "        \n",
      "#         for ci, cluster in enumerate(representative_clusters_sorted_by_score):\n",
      "            \n",
      "#             holes = set([])\n",
      "#             for t in [j for j in range(n_superpixels) if j not in cluster]:\n",
      "#                 if np.sum([i in cluster for i in neighbors[t]]) >= 3:\n",
      "#                     holes.add(t)\n",
      "# #             print ci, holes\n",
      "#             representative_clusters_holefilled_sorted_by_score2.append(set(cluster) | holes)\n",
      "#             representative_clusters_holefilled_sorted_by_score = representative_clusters_holefilled_sorted_by_score2[:]\n",
      "#         if len(holes) == 0:\n",
      "#             break    \n",
      "    \n",
      "    # Identify edgelets for the superpixel set\n",
      "    representative_cluster_edges = []\n",
      "\n",
      "    for cluster in representative_clusters_holefilled_sorted_by_score:\n",
      "        surrounds = set([i for i in set.union(*[neighbors[c] for c in cluster]) if i not in cluster and i != -1])\n",
      "    #     surrounds = set([i for i in surrounds if any([(n not in cluster) and (n not in surrounds) for n in neighbors[i]])])\n",
      "        surrounds = set([i for i in surrounds if any([n not in cluster for n in neighbors[i]])])\n",
      "\n",
      "        frontiers = set.union(*[neighbors[c] for c in surrounds]) & set(cluster)\n",
      "\n",
      "        region_edges = []\n",
      "        for s in surrounds:\n",
      "            for f in neighbors[s] & set(frontiers):\n",
      "                region_edges.append((s, f))\n",
      "\n",
      "        for i in cluster:\n",
      "            if -1 in neighbors[i]:\n",
      "                region_edges.append((-1, i))\n",
      "        representative_cluster_edges.append(region_edges)\n",
      "    \n",
      "    dm.save_pipeline_result(representative_cluster_edges, 'RepresentativeClusterEdges', 'pkl')\n",
      "    dm.save_pipeline_result(good_edgeSets_sorted, 'good_edgeSets_sorted', 'pkl')\n",
      "    \n",
      "    \n",
      "    # Select top 30 Closed Boundary landmarks and top 10 Open Boundary landmarks\n",
      "    all_edges = list(chain(*[representative_cluster_edges[:30], good_edgeSets_sorted[:10]]))\n",
      "\n",
      "    \n",
      "    # Represent each landmark with a tuple\n",
      "    # (edgeSet, interior_texture, exterior_textures, points, center, supporter_set(?))\n",
      "    boundary_models = []\n",
      "    \n",
      "    lm_supporters = list(representative_clusters_sorted_by_score[:30]) + list(good_edgeSet_supporters[:10])\n",
      "    dm.save_pipeline_result(lm_supporters, 'supporters', 'pkl')\n",
      "    \n",
      "#     lm_supporters = []\n",
      "    \n",
      "#     for s in representative_clusters_sorted_by_score[:30]:\n",
      "#         lm_supporters.append(s)\n",
      "    \n",
      "#     for s in good_edgeSet_supporters[:10]:\n",
      "#         lm_supporters.append(s)\n",
      "        \n",
      "    overlapping_boundary_groups = group_clusters(lm_supporters, dist_thresh = 0.1, metric=1)\n",
      "    nonoverlapping_lm_indices = [c[np.argmax([len(supporters[i]) for i in c])] for c in overlapping_boundary_groups]\n",
      "    \n",
      "    nonoverlapping_edges = [all_edges[i] for i in nonoverlapping_lm_indices]\n",
      "    \n",
      "    nonoverlapping_lm_supporters = [lm_supporters[i] for i in nonoverlapping_lm_indices]\n",
      "    \n",
      "    dm.save_pipeline_result(nonoverlapping_lm_supporters, 'nonoverlappingSupporters', 'pkl')\n",
      "    \n",
      "#     for edgeSet_ind, edgeSet in zip(good_edgeSet_indices_sorted, good_edgeSets_sorted):\n",
      "\n",
      "    for edgeSet in nonoverlapping_edges:\n",
      "\n",
      "        # interior_texture = texton_hists[list(big_alliance_supporters[edgeSet_ind])].mean(axis=0)\n",
      "\n",
      "        surrounds = [e[0] for e in edgeSet]\n",
      "        frontiers = [e[1] for e in edgeSet]\n",
      "\n",
      "        interior_texture = texton_hists[frontiers].mean(axis=0)\n",
      "        exterior_textures = texton_hists[surrounds]\n",
      "\n",
      "        points = np.array([edge_coords[frozenset(e)].mean(axis=0) for e in edgeSet])\n",
      "\n",
      "        center = points.mean(axis=0)\n",
      "\n",
      "        boundary_models.append((edgeSet, interior_texture, exterior_textures, points, center))\n",
      "    \n",
      "    \n",
      "    dm.save_pipeline_result(boundary_models, 'boundaryModels', 'pkl')    "
     ],
     "language": "python",
     "metadata": {},
     "outputs": [],
     "prompt_number": 7
    },
    {
     "cell_type": "code",
     "collapsed": false,
     "input": [
      "from sklearn.preprocessing import normalize\n",
      "\n",
      "def compute_shape_context_descriptors(pts, n_radial_bins=5, n_polar_bins=12, \n",
      "                                      dist_limit=.3, density=True, return_radial_ticks=False):\n",
      "    \n",
      "    dists, angles = sc.euclidean_dists_angles(pts)\n",
      "\n",
      "    n_points = dists.shape[0]\n",
      "    \n",
      "    base = 10.\n",
      "    r_array = (np.logspace(0, 1, n_radial_bins + 1, base=10) - 1)[1:] / (base-1)\n",
      "    theta_array = np.linspace(-np.pi, np.pi, n_polar_bins + 1)[1:]\n",
      "    descriptors_mat = np.zeros((n_points, n_radial_bins, n_polar_bins), dtype=np.int)\n",
      "\n",
      "    dists = dists / dists.max()\n",
      "\n",
      "    for i in range(n_points):\n",
      "        for j in range(i + 1, n_points):\n",
      "            \n",
      "#             if dists[i,j] >= r_array[-1]:\n",
      "#                 continue\n",
      "            \n",
      "            r_idx = np.searchsorted(r_array, dists[i, j])\n",
      "            theta_idx = np.searchsorted(theta_array, angles[i, j])\n",
      "            descriptors_mat[i, r_idx, theta_idx] += 1\n",
      "\n",
      "            theta_idx = np.searchsorted(theta_array, angles[j, i])\n",
      "            descriptors_mat[j, r_idx, theta_idx] += 1\n",
      "\n",
      "    descriptors = descriptors_mat.reshape(descriptors_mat.shape[0], -1)\n",
      "    \n",
      "    if density:\n",
      "        descriptors = normalize(descriptors.astype(np.float), axis=1)\n",
      "\n",
      "    if return_radial_ticks:\n",
      "        return descriptors, r_array\n",
      "    else:\n",
      "        return descriptors"
     ],
     "language": "python",
     "metadata": {},
     "outputs": [],
     "prompt_number": 141
    },
    {
     "cell_type": "code",
     "collapsed": false,
     "input": [
      "def plot_two_pointsets(pts1, pts2, center1=None, center2=None, text=True, show_sc1=None, show_sc2=None, r_array=None):\n",
      "    '''\n",
      "    show_sc1 is point index on which to draw shape context polar histogram boundaries\n",
      "    '''\n",
      "\n",
      "    fig = plt.figure(figsize=(10,10))\n",
      "    ax = fig.add_subplot(111, aspect='equal')\n",
      "    ax.scatter(pts1[:,0], pts1[:,1], c='r', label='PointSet 1')\n",
      "    ax.scatter(pts2[:,0], pts2[:,1], c='g', label='PointSet 2')\n",
      "\n",
      "    if center1 is not None:\n",
      "        ax.scatter(center1[0], center1[1], c='b')\n",
      "\n",
      "    if center2 is not None:\n",
      "        ax.scatter(center2[0], center2[1], c='b')\n",
      "\n",
      "    if text:\n",
      "        for i, (y,x) in enumerate(pts1):\n",
      "            if i > 95: break\n",
      "            ax.text(y, x, str(i), color='r')\n",
      "\n",
      "        for i, (y,x) in enumerate(pts2):\n",
      "            if i > 115: break\n",
      "            ax.text(y, x, str(i), color='g')\n",
      "    \n",
      "    if show_sc1 is not None:\n",
      "        dists_max1 = pdist(pts1).max() \n",
      "        scales1 = dists_max1 * r_array\n",
      "        \n",
      "        for s in scales1:\n",
      "            circle = plt.Circle(pts1[show_sc1], s, color='r', fill=False)\n",
      "            fig.gca().add_artist(circle)\n",
      "            \n",
      "    if show_sc2 is not None:\n",
      "        dists_max2 = pdist(pts2).max()\n",
      "        scales2 = dists_max2 * r_array\n",
      "\n",
      "        for s in scales2:\n",
      "            circle = plt.Circle(pts2[show_sc2], s, color='g', fill=False)\n",
      "            fig.gca().add_artist(circle)\n",
      "    \n",
      "    ax.legend()\n",
      "    ax.set_aspect('equal')\n",
      "\n",
      "    plt.show()"
     ],
     "language": "python",
     "metadata": {},
     "outputs": [],
     "prompt_number": 111
    },
    {
     "cell_type": "code",
     "collapsed": false,
     "input": [
      "def dynamic_programming(Dm, plot_matrix=False):\n",
      "    \n",
      "    n_rows, n_cols = Dm.shape\n",
      "    \n",
      "    penalty = 0\n",
      "    \n",
      "    T = np.zeros((n_rows+1, n_cols+1))\n",
      "    backtrack = np.zeros((n_rows+1, n_cols+1), np.int)\n",
      "    \n",
      "    for j in range(n_cols+1):\n",
      "        T[0,j] = - penalty * j\n",
      "\n",
      "    for i in range(n_rows+1):\n",
      "        T[i,0] = - penalty * i\n",
      "        \n",
      "    \n",
      "#     print Dm.max(), Dm.min(), Dm.mean()\n",
      "        \n",
      "    match = np.zeros((n_rows+1, n_cols+1))\n",
      "    \n",
      "    # T stores the average match reward until scanning node i vs j\n",
      "\n",
      "    for i in range(1, n_rows+1):\n",
      "        for j in range(1, n_cols+1):\n",
      "            q = [T[i-1,j-1]+100-Dm[i-1,j-1], T[i,j-1]-penalty, T[i-1,j]-penalty]\n",
      "            \n",
      "#             q = [(T[i-1,j-1]*match[i-1,j-1]+100-Dm[i-1,j-1])/float(match[i-1,j-1]+1), T[i,j-1]-penalty, T[i-1,j]-penalty]\n",
      "            \n",
      "            backtrack[i,j] = np.argmax(q)\n",
      "        \n",
      "#             if backtrack[i,j] == 0:\n",
      "#                 match[i,j] = match[i-1,j-1] + 1\n",
      "#             elif backtrack[i,j] == 1:\n",
      "#                 match[i,j] = match[i,j-1]\n",
      "#             elif backtrack[i,j] == 2:\n",
      "#                 match[i,j] == match[i-1,j]\n",
      "            \n",
      "#             a = np.nonzero(q==np.max(q))[0]            \n",
      "#             backtrack[i,j] = a[np.random.randint(len(a))]\n",
      "            T[i,j] = np.max(q)\n",
      "\n",
      "#     backtrack = []\n",
      "    \n",
      "#     r = n_rows - 1\n",
      "#     c = np.argmin(T[r,:])\n",
      "#     backtrack.append((r, c))\n",
      "    \n",
      "#     while r > 0 and c > 0:\n",
      "#         if T[r-1, c-1] < T[r, c-1]:\n",
      "#             backtrack.append((r-1, c-1))\n",
      "#             r = r - 1\n",
      "#             c = c - 1\n",
      "#         else:\n",
      "#             backtrack.append((r, c-1))\n",
      "#             c = c - 1\n",
      "            \n",
      "            \n",
      "#     matshow(T)\n",
      "\n",
      "#     print backtrack\n",
      "    \n",
      "#     for r,c in backtrack:\n",
      "# #         print r,c\n",
      "#         T[r,c] = 0\n",
      "    \n",
      "\n",
      "        \n",
      "    if plot_matrix:\n",
      "        \n",
      "        matshow(T)\n",
      "        colorbar()\n",
      "        \n",
      "        matshow(backtrack)\n",
      "        colorbar()\n",
      "        \n",
      "        TT = np.zeros_like(backtrack, np.int)\n",
      "        for r,c in steps:\n",
      "            TT[r,c] = 1\n",
      "        matshow(TT)\n",
      "    \n",
      "    return T, backtrack\n",
      "\n",
      "\n",
      "def backtrack_mat_to_steps(backtrack, backtrack_start_point):\n",
      "    steps = []\n",
      "\n",
      "    r, c = backtrack_start_point\n",
      "    \n",
      "    while r > 0 and c > 0:\n",
      "        a = backtrack[r,c]\n",
      "        steps.append((r,c))\n",
      "        if a == 0:\n",
      "            r = r - 1\n",
      "            c = c - 1\n",
      "        elif a == 1:\n",
      "            c = c - 1\n",
      "        elif a == 2:\n",
      "            r = r - 1\n",
      "            \n",
      "    return steps\n",
      "\n",
      "\n",
      "def matching_from_bakctrack(steps):\n",
      "    \n",
      "    matches = []\n",
      "    for i in range(len(steps)-1):\n",
      "        if steps[i+1][0] != steps[i][0] and steps[i+1][1] != steps[i][1]:\n",
      "            matches.append((steps[i][0]-1, steps[i][1]-1))\n",
      "            \n",
      "    return matches"
     ],
     "language": "python",
     "metadata": {},
     "outputs": [],
     "prompt_number": 31
    },
    {
     "cell_type": "code",
     "collapsed": false,
     "input": [
      "def centering(ps):\n",
      "    return ps - ps.mean(axis=0)\n",
      "\n",
      "def hausdorff(ps1, ps2, center=False):\n",
      "    if center:\n",
      "        ps1 = centering(ps1)\n",
      "        ps2 = centering(ps2)\n",
      "    D = cdist(ps1, ps2)\n",
      "    return max(np.max(D.min(axis=0)), np.max(D.min(axis=1)))\n",
      "\n",
      "def hausdorff_histograms(h1s, h2s, metric):\n",
      "    Ds = cdist(h1s, h2s, metric)\n",
      "    return max(np.nanmax(np.nanmin(Ds, axis=1)), np.nanmax(np.nanmin(Ds, axis=0)))\n",
      "\n",
      "\n",
      "def shape_context_score_with_textures(pts1, pts2, \n",
      "                                      exterior_textures1=None, exterior_textures2=None,\n",
      "                                      descriptor1=None, descriptor2=None,\n",
      "                                      r=0):\n",
      "    '''\n",
      "    Compute the shape context matching score between two point sets;\n",
      "    each point is associated a feature vector (a gabor texton histogram) \n",
      "    (not actually used in cost computation)\n",
      "    \n",
      "    Parameters\n",
      "    ----------\n",
      "    pts1 : n-by-2\n",
      "    pts2 : n-by-2\n",
      "\n",
      "    '''\n",
      "    \n",
      "    # NOTE THAT pts1 must contain LESS points than pts2 !!!\n",
      "\n",
      "#     pts1 = pts2 + np.array([100,100])\n",
      "#     pts1 = np.vstack([pts1[:30], pts1[-30:]])\n",
      "        \n",
      "    pts1 = sort_counterclockwise(pts1)\n",
      "    pts2 = sort_counterclockwise(pts2)\n",
      "    \n",
      "    pts1 = np.roll(pts1, r, axis=0)\n",
      "    \n",
      "    if descriptor1 is None:\n",
      "        descriptor1 = compute_shape_context_descriptors(pts1)\n",
      "    \n",
      "    if descriptor2 is None:\n",
      "        descriptor2 = compute_shape_context_descriptors(pts2)        \n",
      "        \n",
      "    pts1 = np.vstack([pts1,pts1])\n",
      "    pts2 = np.vstack([pts2,pts2])\n",
      "    descriptor1 = np.vstack([descriptor1,descriptor1])\n",
      "    descriptor2 = np.vstack([descriptor2,descriptor2])\n",
      "        \n",
      "    n_rows = descriptor1.shape[0]\n",
      "    n_cols = descriptor2.shape[0]\n",
      "        \n",
      "#     Dm = cdist(descriptor1, descriptor2, chi2)\n",
      "        \n",
      "    Dm = np.zeros((n_rows, n_cols))\n",
      "    for i, di in enumerate(descriptor1):\n",
      "        for j, dj in enumerate(descriptor2):\n",
      "\n",
      "#             q = chi2(di, dj)\n",
      "            q = np.linalg.norm(di-dj)\n",
      "#             Dm[i,j] = q if q < 15 else np.inf\n",
      "#             Dm[i,j] = q if q < 10 else np.inf\n",
      "            Dm[i,j] = q\n",
      "            \n",
      "    T, backtrack = dynamic_programming(Dm, plot_matrix=True)\n",
      "    \n",
      "    r0 = n_rows + 1\n",
      "    a = np.nonzero(T[r,:]==np.max(T[r,:]))[0]\n",
      "    if len(a) > 1:\n",
      "        print '%d paths have equivalent reward !'%len(a)\n",
      "    c0 = a[np.random.randint(len(a))]\n",
      "    \n",
      "    steps = backtrack_mat_to_steps(backtrack, backtrack_start_point=[r0,c0])\n",
      "    matches = matching_from_bakctrack(steps)\n",
      "    matches = np.asarray([(r%n_rows_orig, c%n_cols_orig) for r, c in matches])\n",
      "                \n",
      "# #     from operator import itemgetter\n",
      "#     from collections import defaultdict\n",
      "    \n",
      "#     matches_dict = defaultdict(list)\n",
      "#     for r, c in steps:\n",
      "#         matches_dict[r-1].append(c-1)\n",
      "        \n",
      "# #     print matches_dict\n",
      "        \n",
      "#     matches = np.array([(row, np.min(cols)) for row, cols in matches_dict.iteritems()], np.int)\n",
      "\n",
      "#     matches_dict = defaultdict(list)\n",
      "#     for r, c in matches:\n",
      "#         matches_dict[c].append(r)\n",
      "                \n",
      "#     matches = np.array([(np.min(rows), col) for col, rows in matches_dict.iteritems()], np.int)\n",
      "\n",
      "    \n",
      "#     matches = np.array(zip(*np.nonzero(munkres(Dm))))\n",
      "        \n",
      "#     munkres = Munkres()\n",
      "#     matches = np.array(munkres.compute(Dm.copy()))\n",
      "  \n",
      "#     print 'munkres', time.time() - a\n",
      "    \n",
      "#     n_unmatched = n_cols -  len(matches)\n",
      "\n",
      "    matched_cost = Dm[matches[:,0],matches[:,1]]\n",
      "    \n",
      "#     print n_unmatched, matched_cost.max()\n",
      "    \n",
      "#     mean_cost = (matched_cost.sum() + matched_cost.mean()*n_unmatched)/float(n_cols) if len(matches) > 0 else 0\n",
      "    mean_cost = matched_cost.mean()/float(len(matches)) if len(matches) > 0 else 0\n",
      "    \n",
      "    plot_two_pointsets(pts1, pts2, center1, center2, text=True)\n",
      "            \n",
      "    return mean_cost, matches\n"
     ],
     "language": "python",
     "metadata": {},
     "outputs": [],
     "prompt_number": 32
    },
    {
     "cell_type": "code",
     "collapsed": false,
     "input": [
      "def boundary_distance(b1, b2, sc1=None, sc2=None):\n",
      "    '''\n",
      "    Compute the distance between two boundaries.\n",
      "    Each tuple consists of (edgeSet, interior_texture, exterior_textures, points, center)\n",
      "    \n",
      "    Parameters\n",
      "    ----------\n",
      "    b1 : tuple\n",
      "    b2 : tuple\n",
      "    sc1 : #points-by-32 array\n",
      "        pre-computed shape context descriptor\n",
      "    sc2 : #points-by-32 array\n",
      "        pre-computed shape context descriptor\n",
      "    '''\n",
      "    \n",
      "    _, interior_texture1, exterior_textures1, points1, center1 = b1\n",
      "    _, interior_texture2, exterior_textures2, points2, center2 = b2\n",
      "    if sc1 is not None:\n",
      "        assert len(sc1) == points1.shape[0], 'number mismatch %d %d'%(len(sc1), points1.shape[0])\n",
      "    \n",
      "    if sc2 is not None:\n",
      "        assert len(sc2) == points2.shape[0], 'number mismatch %d %d'%(len(sc2), points2.shape[0])\n",
      "\n",
      "    # compute location difference\n",
      "    d_loc = np.linalg.norm(center1 - center2)\n",
      "    D_loc = np.maximum(0, d_loc - 500)\n",
      "\n",
      "    if d_loc > 1500:\n",
      "        return np.inf, np.inf, np.inf, np.inf, np.inf\n",
      "    \n",
      "    n1 = len(points1)\n",
      "    n2 = len(points2)\n",
      "    if max(n1,n2) > min(n1,n2) * 3:\n",
      "        return np.inf, np.inf, np.inf, np.inf, np.inf\n",
      "    \n",
      "    # compute interior texture difference\n",
      "    D_int = chi2(interior_texture1, interior_texture2)\n",
      "#     D_ext = hausdorff_histograms(exterior_textures1, exterior_textures2, metric=chi2)\n",
      "\n",
      "    # compute shape difference, exterior texture difference\n",
      "    if points1.shape[0] < points2.shape[0]:\n",
      "        \n",
      "        D_shape, matches = shape_context_score_with_textures(points1, points2, r=10)\n",
      "#         D_shape, matches, T, backtrack, Dm = shape_context_score_with_textures(points1, points2)\n",
      "\n",
      "#         D_shape_min = np.inf\n",
      "#         matches_min = []\n",
      "\n",
      "#         for r in range(-100, 100, 10):\n",
      "#             points1 = np.roll(points1, r, axis=0)\n",
      "#             D_shape, matches = shape_context_score_with_textures(points1, points2, descriptor1=sc1, descriptor2=sc2)\n",
      "            \n",
      "#             D_shape, matches = shape_context_score_with_textures(points1, points2, r=r)\n",
      "#             print r, D_shape\n",
      "#             if D_shape < D_shape_min:\n",
      "#                 D_shape_min = D_shape\n",
      "#                 matches_min = matches\n",
      "    \n",
      "        D_ext = np.mean([chi2(exterior_textures1[i], exterior_textures2[j]) for i, j in matches])\n",
      "    else:\n",
      "        D_shape, matches = shape_context_score_with_textures(points2, points1, descriptor1=sc2, descriptor2=sc1)        \n",
      "        D_ext = np.mean([chi2(exterior_textures2[i], exterior_textures1[j]) for i, j in matches])\n",
      "        \n",
      "    print matches\n",
      "\n",
      "    # weighted average of four terms\n",
      "    d = D_int + D_ext + .005 * D_shape + 0 * D_loc\n",
      "    \n",
      "    print 'D_shape =', D_shape\n",
      "    \n",
      "    return d, D_int, D_ext, D_shape, D_loc\n"
     ],
     "language": "python",
     "metadata": {},
     "outputs": [],
     "prompt_number": 263
    },
    {
     "cell_type": "code",
     "collapsed": false,
     "input": [
      "def sort_counterclockwise(pts):\n",
      "    '''\n",
      "    sort points from -pi to pi with respect to center\n",
      "    '''\n",
      "    center = np.mean(pts, axis=0)\n",
      "    vecs = pts - center\n",
      "    angles = np.arctan2(vecs[:,1], vecs[:,0])\n",
      "    order = np.argsort(angles)\n",
      "    return pts[order]"
     ],
     "language": "python",
     "metadata": {},
     "outputs": [],
     "prompt_number": 33
    },
    {
     "cell_type": "code",
     "collapsed": false,
     "input": [
      "def ransac_compute_offset(Dm, pts1, pts2, confidence_thresh=.01, ransac_iters=20, sample_size=5):\n",
      "\n",
      "    high_confidence_thresh = np.sort(Dm.flat)[int(confidence_thresh * len(Dm.flat))]\n",
      "    \n",
      "    high_confidence_pairs = []\n",
      "    rs, cs = np.where(Dm < high_confidence_thresh)\n",
      "    for r,c in zip(rs,cs):\n",
      "        high_confidence_pairs.append((r, c))\n",
      "        \n",
      "    print sorted(high_confidence_pairs)\n",
      "    \n",
      "    offsets = []\n",
      "    scores = []\n",
      "    for ri in range(ransac_iters):\n",
      "        offset = np.mean([pts1[high_confidence_pairs[r][0]] - pts2[high_confidence_pairs[r][1]] \n",
      "                                      for r in np.random.randint(0, len(high_confidence_pairs), sample_size)], axis=0)\n",
      "        offsets.append(offset)\n",
      "\n",
      "#         s = hausdorff(pts1 - offset, pts2, center=False)\n",
      "        \n",
      "        Dh = cdist(pts1 - offset, pts2, metric='euclidean')\n",
      "        \n",
      "#         a = [Dm[i, j]  if Dm[i, j] < .01 else np.inf for i, j in enumerate(Dh.argmin(axis=1))]\n",
      "#         if len(a) > 0:\n",
      "#             s += a\n",
      "#         b = np.mean([Dm[i, j] for j, i in enumerate(Dh.argmin(axis=0)) if Dm[i, j] < .01])\n",
      "#         if len(b) > 0:\n",
      "#             s += b    \n",
      "        \n",
      "#         matches = np.array(zip(*np.nonzero(munkres(Dh))))\n",
      "\n",
      "#         nn1 = Dh.argsort(axis=1)\n",
      "#         nn2 = Dh.argsort(axis=0)\n",
      "        \n",
      "#         s = []\n",
      "        \n",
      "#         for i, j in high_confidence_pairs:\n",
      "#             if j in nn1[i, :3] and i in nn2[:3, j]:\n",
      "#                 s.append(Dm[i, j])\n",
      "\n",
      "#         s = np.mean(s)\n",
      "\n",
      "        s = np.mean([Dm[i, j] for i, j in enumerate(Dh.argmin(axis=1))]) + \\\n",
      "            np.mean([Dm[i, j] for j, i in enumerate(Dh.argmin(axis=0))])\n",
      "        \n",
      "        scores.append(s)\n",
      "\n",
      "    # for o, s in zip(offsets, scores):\n",
      "    #     print o, s\n",
      "\n",
      "    best_offset = offsets[np.argmin(scores)]\n",
      "    \n",
      "    return best_offset"
     ],
     "language": "python",
     "metadata": {},
     "outputs": [],
     "prompt_number": 195
    },
    {
     "cell_type": "code",
     "collapsed": false,
     "input": [
      "dm1 = DataManager(generate_hierarchy=False, stack='RS141', resol='x5', section=0)\n",
      "dm2 = DataManager(generate_hierarchy=False, stack='RS141', resol='x5', section=1)\n",
      "\n",
      "boundaries1 = dm1.load_pipeline_result('boundaryModels', 'pkl')\n",
      "boundaries2 = dm2.load_pipeline_result('boundaryModels', 'pkl')\n",
      "\n",
      "pts1 = sort_counterclockwise(boundaries1[20][3])\n",
      "pts2 = sort_counterclockwise(boundaries2[24][3])"
     ],
     "language": "python",
     "metadata": {},
     "outputs": [],
     "prompt_number": 189
    },
    {
     "cell_type": "code",
     "collapsed": false,
     "input": [
      "descriptor1, r_array = compute_shape_context_descriptors(pts1, n_radial_bins=5, return_radial_ticks=True)\n",
      "descriptor2 = compute_shape_context_descriptors(pts2, n_radial_bins=5)"
     ],
     "language": "python",
     "metadata": {},
     "outputs": [],
     "prompt_number": 190
    },
    {
     "cell_type": "code",
     "collapsed": false,
     "input": [
      "descriptor_dists = cdist(descriptor1, descriptor2, metric='euclidean')"
     ],
     "language": "python",
     "metadata": {},
     "outputs": [],
     "prompt_number": 198
    },
    {
     "cell_type": "code",
     "collapsed": false,
     "input": [
      "best_offset = ransac_compute_offset( descriptor_dists, pts1, pts2, ransac_iters=100, confidence_thresh=0.01)"
     ],
     "language": "python",
     "metadata": {},
     "outputs": [
      {
       "output_type": "stream",
       "stream": "stdout",
       "text": [
        "[(11, 14), (16, 11), (16, 16), (16, 18), (16, 19), (18, 11), (18, 16), (18, 18), (18, 19), (20, 11), (20, 16), (20, 18), (20, 19), (21, 11), (21, 16), (21, 18), (21, 19), (22, 16), (22, 18), (22, 19), (23, 16), (23, 18), (23, 19), (23, 20), (23, 22), (24, 11), (24, 12), (24, 15), (24, 16), (24, 17), (24, 18), (24, 19), (24, 20), (24, 21), (24, 22), (25, 12), (25, 16), (25, 17), (25, 18), (25, 19), (25, 20), (25, 21), (25, 22), (26, 18), (63, 70), (64, 69), (64, 70), (64, 71), (64, 72), (65, 69), (65, 70), (65, 71), (66, 70), (66, 71), (66, 72), (66, 73), (66, 74), (66, 75), (66, 76), (66, 77), (66, 78), (67, 71), (67, 72), (67, 73), (67, 74), (67, 75), (67, 76), (67, 77), (67, 78), (67, 79), (68, 71), (68, 72), (68, 73), (68, 74), (68, 75), (68, 76), (68, 77), (68, 78), (68, 79), (69, 71), (69, 72), (69, 73), (69, 74), (69, 75), (69, 76), (69, 77), (69, 78), (69, 79), (70, 71), (70, 72), (70, 73), (70, 74), (70, 75), (70, 76), (70, 77), (70, 78), (70, 79), (71, 71), (71, 72), (71, 73), (71, 74), (71, 75), (71, 76), (71, 77), (71, 78), (71, 79), (71, 80), (71, 81), (79, 105)]\n"
       ]
      }
     ],
     "prompt_number": 197
    },
    {
     "cell_type": "code",
     "collapsed": false,
     "input": [
      "print best_offset"
     ],
     "language": "python",
     "metadata": {},
     "outputs": [
      {
       "output_type": "stream",
       "stream": "stdout",
       "text": [
        "[-333.2529386  -406.57820175]\n"
       ]
      }
     ],
     "prompt_number": 199
    },
    {
     "cell_type": "code",
     "collapsed": false,
     "input": [
      "plot_two_pointsets(pts1 - best_offset, pts2, show_sc1=66, show_sc2=74, r_array=r_array)"
     ],
     "language": "python",
     "metadata": {},
     "outputs": [
      {
       "metadata": {},
       "output_type": "display_data",
       "png": "[encoded data removed]",
       "text": [
        "<matplotlib.figure.Figure at 0x681ef90>"
       ]
      }
     ],
     "prompt_number": 201
    },
    {
     "cell_type": "code",
     "collapsed": false,
     "input": [
      " = boundary_distance(boundaries1[20], boundaries2[24])"
     ],
     "language": "python",
     "metadata": {},
     "outputs": []
    },
    {
     "cell_type": "code",
     "collapsed": false,
     "input": [
      "D = pdist(boundaries1[20][3])"
     ],
     "language": "python",
     "metadata": {},
     "outputs": [],
     "prompt_number": 218
    },
    {
     "cell_type": "code",
     "collapsed": false,
     "input": [
      "D = squareform(D)"
     ],
     "language": "python",
     "metadata": {},
     "outputs": [],
     "prompt_number": 219
    },
    {
     "cell_type": "code",
     "collapsed": false,
     "input": [
      "D_sorted = np.sort(D, axis=1)[:,1:4]"
     ],
     "language": "python",
     "metadata": {},
     "outputs": [],
     "prompt_number": 268
    },
    {
     "cell_type": "code",
     "collapsed": false,
     "input": [
      "nearest_neighbors = D.argsort(axis=1)[:,1:4]"
     ],
     "language": "python",
     "metadata": {},
     "outputs": [],
     "prompt_number": 269
    },
    {
     "cell_type": "code",
     "collapsed": false,
     "input": [
      "from networkx import from_dict_of_lists, draw_networkx, from_dict_of_dicts"
     ],
     "language": "python",
     "metadata": {},
     "outputs": [],
     "prompt_number": 270
    },
    {
     "cell_type": "code",
     "collapsed": false,
     "input": [
      "nearest_neighbors_dict = dict([(i, dict([(j, {'weight':D_sorted[i, k]}) for k, j in enumerate(a)])) for i, a in enumerate(nearest_neighbors)])"
     ],
     "language": "python",
     "metadata": {},
     "outputs": [],
     "prompt_number": 271
    },
    {
     "cell_type": "code",
     "collapsed": false,
     "input": [
      "nearest_neighbors_dict[0]"
     ],
     "language": "python",
     "metadata": {},
     "outputs": [
      {
       "metadata": {},
       "output_type": "pyout",
       "prompt_number": 272,
       "text": [
        "{24: {'weight': 31.490132609884782},\n",
        " 42: {'weight': 91.495380801506158},\n",
        " 84: {'weight': 87.824195423393618}}"
       ]
      }
     ],
     "prompt_number": 272
    },
    {
     "cell_type": "code",
     "collapsed": false,
     "input": [
      "G = from_dict_of_dicts(nearest_neighbors_dict)"
     ],
     "language": "python",
     "metadata": {},
     "outputs": [],
     "prompt_number": 273
    },
    {
     "cell_type": "code",
     "collapsed": false,
     "input": [
      "draw_networkx(G, with_labels=False, node_size=10)"
     ],
     "language": "python",
     "metadata": {},
     "outputs": [
      {
       "metadata": {},
       "output_type": "display_data",
       "png": "[encoded data removed]",
       "text": [
        "<matplotlib.figure.Figure at 0x5669350>"
       ]
      }
     ],
     "prompt_number": 274
    },
    {
     "cell_type": "code",
     "collapsed": false,
     "input": [
      "from networkx import dfs_edges, dfs_tree"
     ],
     "language": "python",
     "metadata": {},
     "outputs": [],
     "prompt_number": 276
    },
    {
     "cell_type": "code",
     "collapsed": false,
     "input": [
      "dfs_edges(G)"
     ],
     "language": "python",
     "metadata": {},
     "outputs": [
      {
       "metadata": {},
       "output_type": "pyout",
       "prompt_number": 277,
       "text": [
        "<generator object dfs_edges at 0x6212550>"
       ]
      }
     ],
     "prompt_number": 277
    },
    {
     "cell_type": "code",
     "collapsed": false,
     "input": [],
     "language": "python",
     "metadata": {},
     "outputs": []
    },
    {
     "cell_type": "code",
     "collapsed": false,
     "input": [
      "draw_networkx(dfs_tree(G, 1), with_labels=False, node_size=10)"
     ],
     "language": "python",
     "metadata": {},
     "outputs": [
      {
       "metadata": {},
       "output_type": "display_data",
       "png": "[encoded data removed]",
       "text": [
        "<matplotlib.figure.Figure at 0x5f31f90>"
       ]
      }
     ],
     "prompt_number": 282
    },
    {
     "cell_type": "code",
     "collapsed": false,
     "input": [
      "from networkx import all_pairs_dijkstra_path_length"
     ],
     "language": "python",
     "metadata": {},
     "outputs": [],
     "prompt_number": 241
    },
    {
     "cell_type": "code",
     "collapsed": false,
     "input": [
      "geodesic_dists_dict = all_pairs_dijkstra_path_length(G)"
     ],
     "language": "python",
     "metadata": {},
     "outputs": [],
     "prompt_number": 245
    },
    {
     "cell_type": "code",
     "collapsed": false,
     "input": [
      "geodesic_dists = np.array([[d for j, d in a.iteritems()] for i, a in geodesic_dists_dict.iteritems()])"
     ],
     "language": "python",
     "metadata": {},
     "outputs": [],
     "prompt_number": 247
    },
    {
     "cell_type": "code",
     "collapsed": false,
     "input": [
      "geodesic_dists = np.minimum(geodesic_dists, geodesic_dists.T)"
     ],
     "language": "python",
     "metadata": {},
     "outputs": [],
     "prompt_number": 252
    },
    {
     "cell_type": "code",
     "collapsed": false,
     "input": [
      "boundary_distance(boundaries1[20], boundaries2[1])"
     ],
     "language": "python",
     "metadata": {},
     "outputs": [
      {
       "ename": "IndexError",
       "evalue": "index 41 is out of bounds for axis 0 with size 38",
       "output_type": "pyerr",
       "traceback": [
        "\u001b[1;31m---------------------------------------------------------------------------\u001b[0m\n\u001b[1;31mIndexError\u001b[0m                                Traceback (most recent call last)",
        "\u001b[1;32m<ipython-input-33-7646ba2d31df>\u001b[0m in \u001b[0;36m<module>\u001b[1;34m()\u001b[0m\n\u001b[1;32m----> 1\u001b[1;33m \u001b[0mboundary_distance\u001b[0m\u001b[1;33m(\u001b[0m\u001b[0mboundaries1\u001b[0m\u001b[1;33m[\u001b[0m\u001b[1;36m20\u001b[0m\u001b[1;33m]\u001b[0m\u001b[1;33m,\u001b[0m \u001b[0mboundaries2\u001b[0m\u001b[1;33m[\u001b[0m\u001b[1;36m1\u001b[0m\u001b[1;33m]\u001b[0m\u001b[1;33m)\u001b[0m\u001b[1;33m\u001b[0m\u001b[0m\n\u001b[0m",
        "\u001b[1;32m<ipython-input-32-afdc115b4fdb>\u001b[0m in \u001b[0;36mboundary_distance\u001b[1;34m(b1, b2, sc1, sc2)\u001b[0m\n\u001b[0;32m    324\u001b[0m         \u001b[1;32mprint\u001b[0m \u001b[1;36m1\u001b[0m\u001b[1;33m,\u001b[0m \u001b[0mmatches\u001b[0m\u001b[1;33m\u001b[0m\u001b[0m\n\u001b[0;32m    325\u001b[0m     \u001b[1;32melse\u001b[0m\u001b[1;33m:\u001b[0m\u001b[1;33m\u001b[0m\u001b[0m\n\u001b[1;32m--> 326\u001b[1;33m         \u001b[0mD_shape\u001b[0m\u001b[1;33m,\u001b[0m \u001b[0mmatches\u001b[0m \u001b[1;33m=\u001b[0m \u001b[0mshape_context_score_with_textures\u001b[0m\u001b[1;33m(\u001b[0m\u001b[0mpoints2\u001b[0m\u001b[1;33m,\u001b[0m \u001b[0mpoints1\u001b[0m\u001b[1;33m,\u001b[0m \u001b[0mdescriptor1\u001b[0m\u001b[1;33m=\u001b[0m\u001b[0msc2\u001b[0m\u001b[1;33m,\u001b[0m \u001b[0mdescriptor2\u001b[0m\u001b[1;33m=\u001b[0m\u001b[0msc1\u001b[0m\u001b[1;33m)\u001b[0m\u001b[1;33m\u001b[0m\u001b[0m\n\u001b[0m\u001b[0;32m    327\u001b[0m         \u001b[0mD_ext\u001b[0m \u001b[1;33m=\u001b[0m \u001b[0mnp\u001b[0m\u001b[1;33m.\u001b[0m\u001b[0mmean\u001b[0m\u001b[1;33m(\u001b[0m\u001b[1;33m[\u001b[0m\u001b[0mchi2\u001b[0m\u001b[1;33m(\u001b[0m\u001b[0mexterior_textures2\u001b[0m\u001b[1;33m[\u001b[0m\u001b[0mi\u001b[0m\u001b[1;33m]\u001b[0m\u001b[1;33m,\u001b[0m \u001b[0mexterior_textures1\u001b[0m\u001b[1;33m[\u001b[0m\u001b[0mj\u001b[0m\u001b[1;33m]\u001b[0m\u001b[1;33m)\u001b[0m \u001b[1;32mfor\u001b[0m \u001b[0mi\u001b[0m\u001b[1;33m,\u001b[0m \u001b[0mj\u001b[0m \u001b[1;32min\u001b[0m \u001b[0mmatches\u001b[0m\u001b[1;33m]\u001b[0m\u001b[1;33m)\u001b[0m\u001b[1;33m\u001b[0m\u001b[0m\n\u001b[0;32m    328\u001b[0m         \u001b[1;32mprint\u001b[0m \u001b[1;36m2\u001b[0m\u001b[1;33m,\u001b[0m \u001b[0mmatches\u001b[0m\u001b[1;33m\u001b[0m\u001b[0m\n",
        "\u001b[1;32m<ipython-input-32-afdc115b4fdb>\u001b[0m in \u001b[0;36mshape_context_score_with_textures\u001b[1;34m(pts1, pts2, exterior_textures1, exterior_textures2, descriptor1, descriptor2, r)\u001b[0m\n\u001b[0;32m    106\u001b[0m \u001b[1;33m\u001b[0m\u001b[0m\n\u001b[0;32m    107\u001b[0m     \u001b[0mfigure\u001b[0m\u001b[1;33m(\u001b[0m\u001b[1;33m)\u001b[0m\u001b[1;33m\u001b[0m\u001b[0m\n\u001b[1;32m--> 108\u001b[1;33m     \u001b[0mbar\u001b[0m\u001b[1;33m(\u001b[0m\u001b[0mrange\u001b[0m\u001b[1;33m(\u001b[0m\u001b[1;36m60\u001b[0m\u001b[1;33m)\u001b[0m\u001b[1;33m,\u001b[0m \u001b[0mdescriptor1\u001b[0m\u001b[1;33m[\u001b[0m\u001b[1;36m41\u001b[0m\u001b[1;33m]\u001b[0m\u001b[1;33m)\u001b[0m\u001b[1;33m\u001b[0m\u001b[0m\n\u001b[0m\u001b[0;32m    109\u001b[0m     \u001b[1;32mprint\u001b[0m \u001b[0mdescriptor1_mat\u001b[0m\u001b[1;33m[\u001b[0m\u001b[1;36m41\u001b[0m\u001b[1;33m]\u001b[0m\u001b[1;33m\u001b[0m\u001b[0m\n\u001b[0;32m    110\u001b[0m     \u001b[1;32mprint\u001b[0m \u001b[0mdescriptor1\u001b[0m\u001b[1;33m[\u001b[0m\u001b[1;36m41\u001b[0m\u001b[1;33m]\u001b[0m\u001b[1;33m.\u001b[0m\u001b[0msum\u001b[0m\u001b[1;33m(\u001b[0m\u001b[1;33m)\u001b[0m\u001b[1;33m\u001b[0m\u001b[0m\n",
        "\u001b[1;31mIndexError\u001b[0m: index 41 is out of bounds for axis 0 with size 38"
       ]
      },
      {
       "metadata": {},
       "output_type": "display_data",
       "text": [
        "<matplotlib.figure.Figure at 0x4e5ac90>"
       ]
      }
     ],
     "prompt_number": 33
    },
    {
     "cell_type": "code",
     "collapsed": false,
     "input": [
      "# def boundary_distance_worker(b1, boundaries2, sc1, sc2s):\n",
      "#     return [boundary_distance(b1, b2, sc1=sc1, sc2=sc2) for b2, sc2 in zip(boundaries2, sc2s)]"
     ],
     "language": "python",
     "metadata": {},
     "outputs": []
    },
    {
     "cell_type": "code",
     "collapsed": false,
     "input": [
      "def generate_boundary_visualizations(sec1):\n",
      "    '''\n",
      "    Generate visualization for boundaries of sec1. \n",
      "    '''\n",
      "    \n",
      "    dm1 = DataManager(generate_hierarchy=False, stack='RS141', resol='x5', section=sec1)\n",
      "    \n",
      "    boundaries1 = dm1.load_pipeline_result('boundaryModels', 'pkl')\n",
      "\n",
      "    # Save output for section 1\n",
      "    for i, b in enumerate(boundaries1):\n",
      "        dm1.save_pipeline_result(dm1.visualize_edges(b[0], text=False, color=[0,255,0]), 'boundary%02d'%i, 'jpg')\n",
      "    \n",
      "    vis = dm.visualize_edge_sets([b[0] for b in boundaries1], text=True)\n",
      "    dm.save_pipeline_result(vis, 'allBoundaries', 'jpg')\n"
     ],
     "language": "python",
     "metadata": {},
     "outputs": [],
     "prompt_number": 54
    },
    {
     "cell_type": "code",
     "collapsed": false,
     "input": [
      "def match_landmarks(sec1, sec2, sc1=None, sc2=None):\n",
      "    '''\n",
      "    Match two sets of boundaries\n",
      "    \n",
      "    Parameters\n",
      "    ----------\n",
      "    sec1 : int\n",
      "    sec2 : int    \n",
      "    '''\n",
      "    dm1 = DataManager(generate_hierarchy=False, stack='RS141', resol='x5', section=sec1)\n",
      "    dm2 = DataManager(generate_hierarchy=False, stack='RS141', resol='x5', section=sec2)\n",
      "    \n",
      "    boundaries1 = dm1.load_pipeline_result('boundaryModels', 'pkl')\n",
      "    boundaries2 = dm2.load_pipeline_result('boundaryModels', 'pkl')\n",
      "    \n",
      "    n_boundaries1 = len(boundaries1)\n",
      "    n_boundaries2 = len(boundaries2)\n",
      "\n",
      "#     b = time.time()\n",
      "#     D_boundaries, D_int, D_ext, D_shape, D_loc = [],[],[],[],[]\n",
      "#     for i, j in product(range(n_boundaries1), range(n_boundaries2)):\n",
      "#         Db,Di,De,Ds,Dl = boundary_distance(boundaries1[i], boundaries2[j], sc1=sc1[i], sc2=sc2[j])\n",
      "#         D_boundaries.append(Db)\n",
      "#         D_int.append(Di)\n",
      "#         D_ext.append(De)\n",
      "#         D_shape.append(Ds)\n",
      "#         D_loc.append(Dl)\n",
      "#     print time.time() - b\n",
      "\n",
      "#     b = time.time()\n",
      "#     Ds = Parallel(n_jobs=16)(delayed(boundary_distance_worker)(boundaries1[i], boundaries2, sc1=sc1[i], sc2s=sc2) \n",
      "#                              for i in range(n_boundaries1))\n",
      "#     Ds = list(chain(*Ds))\n",
      "#     D_boundaries, D_int, D_ext, D_shape, D_loc = zip(*Ds)\n",
      "#     print time.time() - b\n",
      "    \n",
      "##    compute all pairwise distances between two sets\n",
      "#     b = time.time()    \n",
      "\n",
      "    Ds = Parallel(n_jobs=16)(delayed(boundary_distance)(boundaries1[i], boundaries2[j], sc1=sc1[i], sc2=sc2[j]) \n",
      "                             for i, j in product(range(n_boundaries1), range(n_boundaries2)))\n",
      "    D_boundaries, D_int, D_ext, D_shape, D_loc = zip(*Ds)\n",
      "\n",
      "#     print time.time() - b\n",
      "\n",
      "    D_boundaries = np.reshape(D_boundaries, (n_boundaries1, n_boundaries2))\n",
      "    D1 = np.reshape(D_int, (n_boundaries1, n_boundaries2))\n",
      "    D2 = np.reshape(D_ext, (n_boundaries1, n_boundaries2))\n",
      "    D3 = np.reshape(D_shape, (n_boundaries1, n_boundaries2))\n",
      "    D4 = np.reshape(D_loc, (n_boundaries1, n_boundaries2))\n",
      "\n",
      "        \n",
      "    # matching is all pairs in which either one is the closest to the other\n",
      "    # (score, landmark1_ind, landmark2_ind)\n",
      "    matchings = sorted([(D_boundaries[i,j], i, j) for j, i in enumerate(D_boundaries.argmin(axis=0)) \n",
      "                 if (i, j) in enumerate(D_boundaries.argmin(axis=1))])\n",
      "    \n",
      "#     print matchings\n",
      "    \n",
      "    dm1.save_pipeline_result(matchings, 'matchings%dWith%d'%(sec1,sec2), 'pkl')\n",
      "    \n",
      "    matchings2 = sorted([(D_boundaries[i,j], j, i) for j, i in enumerate(D_boundaries.argmin(axis=0)) \n",
      "                 if (i, j) in enumerate(D_boundaries.argmin(axis=1))])\n",
      "    \n",
      "    dm2.save_pipeline_result(matchings2, 'matchings%dWith%d'%(sec2, sec1), 'pkl')\n",
      "    \n",
      "    dm1.save_pipeline_result(D_boundaries, 'DBoundaries%dWith%d'%(sec1, sec2), 'npy')\n",
      "    dm1.save_pipeline_result(D1, 'D1s%dWith%d'%(sec1, sec2), 'npy')\n",
      "    dm1.save_pipeline_result(D2, 'D2s%dWith%d'%(sec1, sec2), 'npy')\n",
      "    dm1.save_pipeline_result(D3, 'D3s%dWith%d'%(sec1, sec2), 'npy')\n",
      "    dm1.save_pipeline_result(D4, 'D4s%dWith%d'%(sec1, sec2), 'npy')\n",
      "\n",
      "    dm2.save_pipeline_result(D_boundaries, 'DBoundaries%dWith%d'%(sec2, sec1), 'npy')\n",
      "    dm2.save_pipeline_result(D1, 'D1s%dWith%d'%(sec2, sec1), 'npy')\n",
      "    dm2.save_pipeline_result(D2, 'D2s%dWith%d'%(sec2, sec1), 'npy')\n",
      "    dm2.save_pipeline_result(D3, 'D3s%dWith%d'%(sec2, sec1), 'npy')\n",
      "    dm2.save_pipeline_result(D4, 'D4s%dWith%d'%(sec2, sec1), 'npy')\n"
     ],
     "language": "python",
     "metadata": {},
     "outputs": [],
     "prompt_number": 50
    },
    {
     "cell_type": "code",
     "collapsed": false,
     "input": [
      "def generate_matching_visualizations(sec1, sec2):\n",
      "    '''\n",
      "    Generate visualization for matching between sec1 and sec2\n",
      "    '''\n",
      "\n",
      "    dm1 = DataManager(generate_hierarchy=False, stack='RS141', resol='x5', section=sec1)\n",
      "    dm2 = DataManager(generate_hierarchy=False, stack='RS141', resol='x5', section=sec2)\n",
      "    \n",
      "    boundaries1 = dm1.load_pipeline_result('boundaryModels', 'pkl')\n",
      "    boundaries2 = dm2.load_pipeline_result('boundaryModels', 'pkl')    \n",
      "    \n",
      "    matchings = dm1.load_pipeline_result('matchings%dWith%d'%(sec1, sec2), 'pkl')\n",
      "\n",
      "    matched_boundaries1 = [boundaries1[i][0] for ind, (d,i,j) in enumerate(matchings)]\n",
      "    vis_matched_boundaries_next = dm1.visualize_edge_sets(matched_boundaries1, text=True)\n",
      "    dm1.save_pipeline_result(vis_matched_boundaries_next, 'matchedBoundaries%dWith%d'%(sec1, sec2), 'jpg')\n",
      "\n",
      "    matched_boundaries2 = [boundaries2[j][0] for ind, (d,i,j) in enumerate(matchings)]\n",
      "    vis_matched_boundaries_prev = dm2.visualize_edge_sets(matched_boundaries2, text=True)\n",
      "    dm2.save_pipeline_result(vis_matched_boundaries_prev, 'matchedBoundaries%dWith%d'%(sec2, sec1), 'jpg')\n",
      "\n",
      "    \n",
      "    # Place two images vertically \n",
      "    h1, w1 = vis_matched_boundaries_next.shape[:2]\n",
      "    h2, w2 = vis_matched_boundaries_prev.shape[:2]\n",
      "    \n",
      "    if w1 < w2:\n",
      "        left_margin = int((w2 - w1)/2)\n",
      "        right_margin = w2 - w1 - left_margin\n",
      "        vis_matched_boundaries_next = pad(vis_matched_boundaries_next, \n",
      "                                          ((0,0),(left_margin,right_margin),(0,0)), \n",
      "                                          'constant', constant_values=255)\n",
      "    else:\n",
      "        left_margin = int((w1 - w2)/2)\n",
      "        right_margin = w1 - w2 - left_margin\n",
      "        vis_matched_boundaries_prev = pad(vis_matched_boundaries_prev, \n",
      "                                          ((0,0),(left_margin,right_margin),(0,0)), \n",
      "                                          'constant', constant_values=255)\n",
      "        \n",
      "    vis = np.r_[vis_matched_boundaries_next, vis_matched_boundaries_prev]\n",
      "    \n",
      "    # Place two images horizontally side-by-side\n",
      "\n",
      "#     h1, w1 = vis_matched_boundaries_next.shape[:2]\n",
      "#     h2, w2 = vis_matched_boundaries_prev.shape[:2]\n",
      "    \n",
      "#     if h1 < h2:\n",
      "#         top_margin = int((h2 - h1)/2)\n",
      "#         bottom_margin = h2 - h1 - top_margin\n",
      "#         vis_matched_boundaries_next = pad(vis_matched_boundaries_next, \n",
      "#                                           ((top_margin,bottom_margin),(0,0),(0,0)), \n",
      "#                                           'constant', constant_values=255)\n",
      "#     else:\n",
      "#         top_margin = int((h1 - h2)/2)\n",
      "#         bottom_margin = h1 - h2 - top_margin\n",
      "#         vis_matched_boundaries_prev = pad(vis_matched_boundaries_prev, \n",
      "#                                           ((top_margin,bottom_margin),(0,0),(0,0)), \n",
      "#                                           'constant', constant_values=255)\n",
      "            \n",
      "#     vis = np.hstack([vis_matched_boundaries_next, vis_matched_boundaries_prev])\n",
      "    \n",
      "    dm1.save_pipeline_result(vis, 'matchedBoundaries%dWith%dSideBySide'%(sec1, sec2), 'jpg')\n",
      "    dm2.save_pipeline_result(vis, 'matchedBoundaries%dWith%dSideBySide'%(sec2, sec1), 'jpg')\n",
      "    \n",
      "    \n",
      "    for ind, (s, i, j) in enumerate(matchings):\n",
      "        # image with a particular boundary highlighted\n",
      "        \n",
      "        vis1 = dm1.load_pipeline_result('boundary%02d'%i, 'jpg')\n",
      "        vis2 = dm2.load_pipeline_result('boundary%02d'%j, 'jpg')\n",
      "        \n",
      "        h1, w1 = vis1.shape[:2]\n",
      "        h2, w2 = vis2.shape[:2]\n",
      "        \n",
      "        # Place vertically\n",
      "        if w1 < w2:\n",
      "            left_margin = int((w2 - w1)/2)\n",
      "            right_margin = w2 - w1 - left_margin\n",
      "            vis1 = pad(vis1, ((0,0),(left_margin,right_margin),(0,0)), 'constant', constant_values=255)\n",
      "        else:\n",
      "            left_margin = int((w1 - w2)/2)\n",
      "            right_margin = w1 - w2 - left_margin\n",
      "            vis2 = pad(vis2, ((0,0),(left_margin,right_margin),(0,0)), 'constant', constant_values=255)\n",
      "\n",
      "        vis_pair_prev = np.r_[vis1, vis2]\n",
      "        vis_pair_next = np.r_[vis2, vis1]\n",
      "        \n",
      "        dm1.save_pipeline_result(vis_pair_prev, 'matchedBoundaryPair%dFor%dWith%d'%(ind, sec1, sec2), 'jpg')\n",
      "        dm2.save_pipeline_result(vis_pair_next, 'matchedBoundaryPair%dFor%dWith%d'%(ind, sec2, sec1), 'jpg')\n",
      "    "
     ],
     "language": "python",
     "metadata": {},
     "outputs": [],
     "prompt_number": 51
    },
    {
     "cell_type": "code",
     "collapsed": false,
     "input": [
      "def compute_shape_context_descriptors(sec_ind):\n",
      "    dm = DataManager(generate_hierarchy=False, stack='RS141', resol='x5', section=sec_ind)\n",
      "    boundaries = dm.load_pipeline_result('boundaryModels', 'pkl')\n",
      "    \n",
      "    descs = []\n",
      "    for b in boundaries:\n",
      "        dists, angles = sc.euclidean_dists_angles(b[3])\n",
      "        descriptors = sc.shape_context(dists, angles)\n",
      "        assert len(descriptors) == b[3].shape[0], 'number mismatch, section %d'%sec_ind\n",
      "        n = descriptors.shape[0]\n",
      "        descs.append(descriptors.reshape(n, -1))\n",
      "        \n",
      "    return descs"
     ],
     "language": "python",
     "metadata": {},
     "outputs": [],
     "prompt_number": 57
    },
    {
     "cell_type": "code",
     "collapsed": false,
     "input": [
      "# Find boundaries for all sections\n",
      "\n",
      "for sec_ind in range(0,30):\n",
      "    print sec_ind\n",
      "    b = time.time()\n",
      "    find_boundaries_section(sec_ind)\n",
      "    print time.time()-b"
     ],
     "language": "python",
     "metadata": {},
     "outputs": []
    },
    {
     "cell_type": "code",
     "collapsed": false,
     "input": [
      "for sec_ind in range(0,30):\n",
      "    print sec_ind\n",
      "    generate_boundary_visualizations(sec_ind)"
     ],
     "language": "python",
     "metadata": {},
     "outputs": []
    },
    {
     "cell_type": "code",
     "collapsed": false,
     "input": [
      "# pre-compute all shape descriptors for all boundaries\n",
      "\n",
      "sc_descriptors = Parallel(n_jobs=16)(delayed(compute_shape_context_descriptors)(sec_ind) for sec_ind in range(0,30))"
     ],
     "language": "python",
     "metadata": {},
     "outputs": [],
     "prompt_number": 58
    },
    {
     "cell_type": "code",
     "collapsed": false,
     "input": [
      "# Match boundaries in consecutive sections\n",
      "\n",
      "for sec_ind in range(0,30):\n",
      "    print sec_ind\n",
      "    b = time.time()\n",
      "    match_landmarks(sec_ind, sec_ind+1, sc1=sc_descriptors[sec_ind], sc2=sc_descriptors[sec_ind+1])\n",
      "    print time.time()-b"
     ],
     "language": "python",
     "metadata": {},
     "outputs": []
    },
    {
     "cell_type": "code",
     "collapsed": false,
     "input": [
      "for sec_ind in range(0,30):\n",
      "    print sec_ind\n",
      "    generate_matching_visualizations(sec_ind, sec_ind+1)"
     ],
     "language": "python",
     "metadata": {},
     "outputs": []
    },
    {
     "cell_type": "code",
     "collapsed": false,
     "input": [
      "# find boundary for section 0 and 1 (for test)\n",
      "find_boundaries_section(0)"
     ],
     "language": "python",
     "metadata": {},
     "outputs": [
      {
       "output_type": "stream",
       "stream": "stdout",
       "text": [
        "saved /home/yuncong/project/DavidData2014results/RS141/0000/RS141_x5_0000_gabor-blueNisslWide-segm-blueNisslRegular-vq-blueNissl_RepresentativeClusterEdges.pkl\n",
        "saved /home/yuncong/project/DavidData2014results/RS141/0000/RS141_x5_0000_gabor-blueNisslWide-segm-blueNisslRegular-vq-blueNissl_good_edgeSets_sorted.pkl"
       ]
      },
      {
       "output_type": "stream",
       "stream": "stdout",
       "text": [
        "\n",
        "saved /home/yuncong/project/DavidData2014results/RS141/0000/RS141_x5_0000_gabor-blueNisslWide-segm-blueNisslRegular-vq-blueNissl_supporters.pkl\n"
       ]
      },
      {
       "output_type": "stream",
       "stream": "stdout",
       "text": [
        "saved /home/yuncong/project/DavidData2014results/RS141/0000/RS141_x5_0000_gabor-blueNisslWide-segm-blueNisslRegular-vq-blueNissl_nonoverlappingSupporters.pkl\n",
        "saved /home/yuncong/project/DavidData2014results/RS141/0000/RS141_x5_0000_gabor-blueNisslWide-segm-blueNisslRegular-vq-blueNissl_boundaryModels.pkl"
       ]
      },
      {
       "output_type": "stream",
       "stream": "stdout",
       "text": [
        "\n",
        "saved /home/yuncong/project/DavidData2014results/RS141/0000/RS141_x5_0000_gabor-blueNisslWide-segm-blueNisslRegular-vq-blueNissl_allBoundaries.jpg"
       ]
      },
      {
       "output_type": "stream",
       "stream": "stdout",
       "text": [
        "\n"
       ]
      }
     ],
     "prompt_number": 47
    },
    {
     "cell_type": "code",
     "collapsed": false,
     "input": [
      "find_boundaries_section(1)"
     ],
     "language": "python",
     "metadata": {},
     "outputs": [
      {
       "output_type": "stream",
       "stream": "stdout",
       "text": [
        "saved /home/yuncong/project/DavidData2014results/RS141/0001/RS141_x5_0001_gabor-blueNisslWide-segm-blueNisslRegular-vq-blueNissl_RepresentativeClusterEdges.pkl\n",
        "saved /home/yuncong/project/DavidData2014results/RS141/0001/RS141_x5_0001_gabor-blueNisslWide-segm-blueNisslRegular-vq-blueNissl_good_edgeSets_sorted.pkl"
       ]
      },
      {
       "output_type": "stream",
       "stream": "stdout",
       "text": [
        "\n",
        "saved /home/yuncong/project/DavidData2014results/RS141/0001/RS141_x5_0001_gabor-blueNisslWide-segm-blueNisslRegular-vq-blueNissl_supporters.pkl"
       ]
      },
      {
       "output_type": "stream",
       "stream": "stdout",
       "text": [
        "\n"
       ]
      },
      {
       "output_type": "stream",
       "stream": "stdout",
       "text": [
        "saved /home/yuncong/project/DavidData2014results/RS141/0001/RS141_x5_0001_gabor-blueNisslWide-segm-blueNisslRegular-vq-blueNissl_nonoverlappingSupporters.pkl\n",
        "saved /home/yuncong/project/DavidData2014results/RS141/0001/RS141_x5_0001_gabor-blueNisslWide-segm-blueNisslRegular-vq-blueNissl_boundaryModels.pkl"
       ]
      },
      {
       "output_type": "stream",
       "stream": "stdout",
       "text": [
        "\n",
        "saved /home/yuncong/project/DavidData2014results/RS141/0001/RS141_x5_0001_gabor-blueNisslWide-segm-blueNisslRegular-vq-blueNissl_allBoundaries.jpg"
       ]
      },
      {
       "output_type": "stream",
       "stream": "stdout",
       "text": [
        "\n"
       ]
      }
     ],
     "prompt_number": 48
    },
    {
     "cell_type": "code",
     "collapsed": false,
     "input": [
      "generate_boundary_visualizations(0)"
     ],
     "language": "python",
     "metadata": {},
     "outputs": []
    },
    {
     "cell_type": "code",
     "collapsed": false,
     "input": [
      "# match landmarks between section 0 and 1 (for test)\n",
      "match_landmarks(0, 1, sc1=sc_descriptors[0], sc2=sc_descriptors[1])"
     ],
     "language": "python",
     "metadata": {},
     "outputs": [
      {
       "output_type": "stream",
       "stream": "stdout",
       "text": [
        "saved /home/yuncong/project/DavidData2014results/RS141/0000/RS141_x5_0000_gabor-blueNisslWide-segm-blueNisslRegular-vq-blueNissl_matchings0With1.pkl\n",
        "saved /home/yuncong/project/DavidData2014results/RS141/0001/RS141_x5_0001_gabor-blueNisslWide-segm-blueNisslRegular-vq-blueNissl_matchings1With0.pkl\n",
        "saved /home/yuncong/project/DavidData2014results/RS141/0000/RS141_x5_0000_gabor-blueNisslWide-segm-blueNisslRegular-vq-blueNissl_DBoundaries0With1.npy\n",
        "saved /home/yuncong/project/DavidData2014results/RS141/0000/RS141_x5_0000_gabor-blueNisslWide-segm-blueNisslRegular-vq-blueNissl_D1s0With1.npy\n",
        "saved /home/yuncong/project/DavidData2014results/RS141/0000/RS141_x5_0000_gabor-blueNisslWide-segm-blueNisslRegular-vq-blueNissl_D2s0With1.npy\n",
        "saved /home/yuncong/project/DavidData2014results/RS141/0000/RS141_x5_0000_gabor-blueNisslWide-segm-blueNisslRegular-vq-blueNissl_D3s0With1.npy\n",
        "saved /home/yuncong/project/DavidData2014results/RS141/0000/RS141_x5_0000_gabor-blueNisslWide-segm-blueNisslRegular-vq-blueNissl_D4s0With1.npy"
       ]
      },
      {
       "output_type": "stream",
       "stream": "stdout",
       "text": [
        "\n",
        "saved /home/yuncong/project/DavidData2014results/RS141/0001/RS141_x5_0001_gabor-blueNisslWide-segm-blueNisslRegular-vq-blueNissl_DBoundaries1With0.npy\n",
        "saved /home/yuncong/project/DavidData2014results/RS141/0001/RS141_x5_0001_gabor-blueNisslWide-segm-blueNisslRegular-vq-blueNissl_D1s1With0.npy\n",
        "saved /home/yuncong/project/DavidData2014results/RS141/0001/RS141_x5_0001_gabor-blueNisslWide-segm-blueNisslRegular-vq-blueNissl_D2s1With0.npy\n",
        "saved /home/yuncong/project/DavidData2014results/RS141/0001/RS141_x5_0001_gabor-blueNisslWide-segm-blueNisslRegular-vq-blueNissl_D3s1With0.npy\n",
        "saved /home/yuncong/project/DavidData2014results/RS141/0001/RS141_x5_0001_gabor-blueNisslWide-segm-blueNisslRegular-vq-blueNissl_D4s1With0.npy"
       ]
      },
      {
       "output_type": "stream",
       "stream": "stdout",
       "text": [
        "\n"
       ]
      }
     ],
     "prompt_number": 325
    },
    {
     "cell_type": "code",
     "collapsed": true,
     "input": [
      "generate_matching_visualizations(0,1)"
     ],
     "language": "python",
     "metadata": {},
     "outputs": [
      {
       "output_type": "stream",
       "stream": "stdout",
       "text": [
        "saved /home/yuncong/project/DavidData2014results/RS141/0000/RS141_x5_0000_gabor-blueNisslWide-segm-blueNisslRegular-vq-blueNissl_matchedBoundaries0With1.jpg\n",
        "saved /home/yuncong/project/DavidData2014results/RS141/0001/RS141_x5_0001_gabor-blueNisslWide-segm-blueNisslRegular-vq-blueNissl_boundary00.jpg"
       ]
      },
      {
       "output_type": "stream",
       "stream": "stdout",
       "text": [
        "\n",
        "saved /home/yuncong/project/DavidData2014results/RS141/0001/RS141_x5_0001_gabor-blueNisslWide-segm-blueNisslRegular-vq-blueNissl_boundary01.jpg"
       ]
      },
      {
       "output_type": "stream",
       "stream": "stdout",
       "text": [
        "\n",
        "saved /home/yuncong/project/DavidData2014results/RS141/0001/RS141_x5_0001_gabor-blueNisslWide-segm-blueNisslRegular-vq-blueNissl_boundary02.jpg"
       ]
      },
      {
       "output_type": "stream",
       "stream": "stdout",
       "text": [
        "\n",
        "saved /home/yuncong/project/DavidData2014results/RS141/0001/RS141_x5_0001_gabor-blueNisslWide-segm-blueNisslRegular-vq-blueNissl_boundary03.jpg"
       ]
      },
      {
       "output_type": "stream",
       "stream": "stdout",
       "text": [
        "\n",
        "saved /home/yuncong/project/DavidData2014results/RS141/0001/RS141_x5_0001_gabor-blueNisslWide-segm-blueNisslRegular-vq-blueNissl_boundary04.jpg"
       ]
      },
      {
       "output_type": "stream",
       "stream": "stdout",
       "text": [
        "\n",
        "saved /home/yuncong/project/DavidData2014results/RS141/0001/RS141_x5_0001_gabor-blueNisslWide-segm-blueNisslRegular-vq-blueNissl_boundary05.jpg"
       ]
      },
      {
       "output_type": "stream",
       "stream": "stdout",
       "text": [
        "\n",
        "saved /home/yuncong/project/DavidData2014results/RS141/0001/RS141_x5_0001_gabor-blueNisslWide-segm-blueNisslRegular-vq-blueNissl_boundary06.jpg"
       ]
      },
      {
       "output_type": "stream",
       "stream": "stdout",
       "text": [
        "\n",
        "saved /home/yuncong/project/DavidData2014results/RS141/0001/RS141_x5_0001_gabor-blueNisslWide-segm-blueNisslRegular-vq-blueNissl_boundary07.jpg"
       ]
      },
      {
       "output_type": "stream",
       "stream": "stdout",
       "text": [
        "\n",
        "saved /home/yuncong/project/DavidData2014results/RS141/0001/RS141_x5_0001_gabor-blueNisslWide-segm-blueNisslRegular-vq-blueNissl_boundary08.jpg"
       ]
      },
      {
       "output_type": "stream",
       "stream": "stdout",
       "text": [
        "\n",
        "saved /home/yuncong/project/DavidData2014results/RS141/0001/RS141_x5_0001_gabor-blueNisslWide-segm-blueNisslRegular-vq-blueNissl_boundary09.jpg"
       ]
      },
      {
       "output_type": "stream",
       "stream": "stdout",
       "text": [
        "\n",
        "saved /home/yuncong/project/DavidData2014results/RS141/0001/RS141_x5_0001_gabor-blueNisslWide-segm-blueNisslRegular-vq-blueNissl_boundary10.jpg"
       ]
      },
      {
       "output_type": "stream",
       "stream": "stdout",
       "text": [
        "\n",
        "saved /home/yuncong/project/DavidData2014results/RS141/0001/RS141_x5_0001_gabor-blueNisslWide-segm-blueNisslRegular-vq-blueNissl_boundary11.jpg"
       ]
      },
      {
       "output_type": "stream",
       "stream": "stdout",
       "text": [
        "\n",
        "saved /home/yuncong/project/DavidData2014results/RS141/0001/RS141_x5_0001_gabor-blueNisslWide-segm-blueNisslRegular-vq-blueNissl_boundary12.jpg"
       ]
      },
      {
       "output_type": "stream",
       "stream": "stdout",
       "text": [
        "\n",
        "saved /home/yuncong/project/DavidData2014results/RS141/0001/RS141_x5_0001_gabor-blueNisslWide-segm-blueNisslRegular-vq-blueNissl_boundary13.jpg"
       ]
      },
      {
       "output_type": "stream",
       "stream": "stdout",
       "text": [
        "\n",
        "saved /home/yuncong/project/DavidData2014results/RS141/0001/RS141_x5_0001_gabor-blueNisslWide-segm-blueNisslRegular-vq-blueNissl_boundary14.jpg"
       ]
      },
      {
       "output_type": "stream",
       "stream": "stdout",
       "text": [
        "\n",
        "saved /home/yuncong/project/DavidData2014results/RS141/0001/RS141_x5_0001_gabor-blueNisslWide-segm-blueNisslRegular-vq-blueNissl_boundary15.jpg"
       ]
      },
      {
       "output_type": "stream",
       "stream": "stdout",
       "text": [
        "\n",
        "saved /home/yuncong/project/DavidData2014results/RS141/0001/RS141_x5_0001_gabor-blueNisslWide-segm-blueNisslRegular-vq-blueNissl_boundary16.jpg"
       ]
      },
      {
       "output_type": "stream",
       "stream": "stdout",
       "text": [
        "\n",
        "saved /home/yuncong/project/DavidData2014results/RS141/0001/RS141_x5_0001_gabor-blueNisslWide-segm-blueNisslRegular-vq-blueNissl_boundary17.jpg"
       ]
      },
      {
       "output_type": "stream",
       "stream": "stdout",
       "text": [
        "\n",
        "saved /home/yuncong/project/DavidData2014results/RS141/0001/RS141_x5_0001_gabor-blueNisslWide-segm-blueNisslRegular-vq-blueNissl_boundary18.jpg"
       ]
      },
      {
       "output_type": "stream",
       "stream": "stdout",
       "text": [
        "\n",
        "saved /home/yuncong/project/DavidData2014results/RS141/0001/RS141_x5_0001_gabor-blueNisslWide-segm-blueNisslRegular-vq-blueNissl_boundary19.jpg"
       ]
      },
      {
       "output_type": "stream",
       "stream": "stdout",
       "text": [
        "\n",
        "saved /home/yuncong/project/DavidData2014results/RS141/0001/RS141_x5_0001_gabor-blueNisslWide-segm-blueNisslRegular-vq-blueNissl_boundary20.jpg"
       ]
      },
      {
       "output_type": "stream",
       "stream": "stdout",
       "text": [
        "\n",
        "saved /home/yuncong/project/DavidData2014results/RS141/0001/RS141_x5_0001_gabor-blueNisslWide-segm-blueNisslRegular-vq-blueNissl_boundary21.jpg"
       ]
      },
      {
       "output_type": "stream",
       "stream": "stdout",
       "text": [
        "\n",
        "saved /home/yuncong/project/DavidData2014results/RS141/0001/RS141_x5_0001_gabor-blueNisslWide-segm-blueNisslRegular-vq-blueNissl_boundary22.jpg"
       ]
      },
      {
       "output_type": "stream",
       "stream": "stdout",
       "text": [
        "\n",
        "saved /home/yuncong/project/DavidData2014results/RS141/0001/RS141_x5_0001_gabor-blueNisslWide-segm-blueNisslRegular-vq-blueNissl_boundary23.jpg"
       ]
      },
      {
       "output_type": "stream",
       "stream": "stdout",
       "text": [
        "\n",
        "saved /home/yuncong/project/DavidData2014results/RS141/0001/RS141_x5_0001_gabor-blueNisslWide-segm-blueNisslRegular-vq-blueNissl_boundary24.jpg"
       ]
      },
      {
       "output_type": "stream",
       "stream": "stdout",
       "text": [
        "\n",
        "saved /home/yuncong/project/DavidData2014results/RS141/0001/RS141_x5_0001_gabor-blueNisslWide-segm-blueNisslRegular-vq-blueNissl_boundary25.jpg"
       ]
      },
      {
       "output_type": "stream",
       "stream": "stdout",
       "text": [
        "\n",
        "saved /home/yuncong/project/DavidData2014results/RS141/0001/RS141_x5_0001_gabor-blueNisslWide-segm-blueNisslRegular-vq-blueNissl_boundary26.jpg"
       ]
      },
      {
       "output_type": "stream",
       "stream": "stdout",
       "text": [
        "\n",
        "saved /home/yuncong/project/DavidData2014results/RS141/0001/RS141_x5_0001_gabor-blueNisslWide-segm-blueNisslRegular-vq-blueNissl_boundary27.jpg"
       ]
      },
      {
       "output_type": "stream",
       "stream": "stdout",
       "text": [
        "\n",
        "saved /home/yuncong/project/DavidData2014results/RS141/0001/RS141_x5_0001_gabor-blueNisslWide-segm-blueNisslRegular-vq-blueNissl_boundary28.jpg"
       ]
      },
      {
       "output_type": "stream",
       "stream": "stdout",
       "text": [
        "\n",
        "saved /home/yuncong/project/DavidData2014results/RS141/0001/RS141_x5_0001_gabor-blueNisslWide-segm-blueNisslRegular-vq-blueNissl_boundary29.jpg"
       ]
      },
      {
       "output_type": "stream",
       "stream": "stdout",
       "text": [
        "\n",
        "saved /home/yuncong/project/DavidData2014results/RS141/0001/RS141_x5_0001_gabor-blueNisslWide-segm-blueNisslRegular-vq-blueNissl_boundary30.jpg"
       ]
      },
      {
       "output_type": "stream",
       "stream": "stdout",
       "text": [
        "\n",
        "saved /home/yuncong/project/DavidData2014results/RS141/0001/RS141_x5_0001_gabor-blueNisslWide-segm-blueNisslRegular-vq-blueNissl_boundary31.jpg"
       ]
      },
      {
       "output_type": "stream",
       "stream": "stdout",
       "text": [
        "\n",
        "saved /home/yuncong/project/DavidData2014results/RS141/0001/RS141_x5_0001_gabor-blueNisslWide-segm-blueNisslRegular-vq-blueNissl_boundary32.jpg"
       ]
      },
      {
       "output_type": "stream",
       "stream": "stdout",
       "text": [
        "\n",
        "saved /home/yuncong/project/DavidData2014results/RS141/0001/RS141_x5_0001_gabor-blueNisslWide-segm-blueNisslRegular-vq-blueNissl_boundary33.jpg"
       ]
      },
      {
       "output_type": "stream",
       "stream": "stdout",
       "text": [
        "\n",
        "saved /home/yuncong/project/DavidData2014results/RS141/0001/RS141_x5_0001_gabor-blueNisslWide-segm-blueNisslRegular-vq-blueNissl_matchedBoundaries1With0.jpg"
       ]
      },
      {
       "output_type": "stream",
       "stream": "stdout",
       "text": [
        "\n",
        "saved /home/yuncong/project/DavidData2014results/RS141/0000/RS141_x5_0000_gabor-blueNisslWide-segm-blueNisslRegular-vq-blueNissl_matchedBoundaries0With1SideBySide.jpg"
       ]
      },
      {
       "output_type": "stream",
       "stream": "stdout",
       "text": [
        "\n",
        "saved /home/yuncong/project/DavidData2014results/RS141/0001/RS141_x5_0001_gabor-blueNisslWide-segm-blueNisslRegular-vq-blueNissl_matchedBoundaries1With0SideBySide.jpg"
       ]
      },
      {
       "output_type": "stream",
       "stream": "stdout",
       "text": [
        "\n",
        "saved /home/yuncong/project/DavidData2014results/RS141/0000/RS141_x5_0000_gabor-blueNisslWide-segm-blueNisslRegular-vq-blueNissl_matchedBoundaryPair0For0With1.jpg"
       ]
      },
      {
       "output_type": "stream",
       "stream": "stdout",
       "text": [
        "\n",
        "saved /home/yuncong/project/DavidData2014results/RS141/0001/RS141_x5_0001_gabor-blueNisslWide-segm-blueNisslRegular-vq-blueNissl_matchedBoundaryPair0For1With0.jpg"
       ]
      },
      {
       "output_type": "stream",
       "stream": "stdout",
       "text": [
        "\n",
        "saved /home/yuncong/project/DavidData2014results/RS141/0000/RS141_x5_0000_gabor-blueNisslWide-segm-blueNisslRegular-vq-blueNissl_matchedBoundaryPair1For0With1.jpg"
       ]
      },
      {
       "output_type": "stream",
       "stream": "stdout",
       "text": [
        "\n",
        "saved /home/yuncong/project/DavidData2014results/RS141/0001/RS141_x5_0001_gabor-blueNisslWide-segm-blueNisslRegular-vq-blueNissl_matchedBoundaryPair1For1With0.jpg"
       ]
      },
      {
       "output_type": "stream",
       "stream": "stdout",
       "text": [
        "\n",
        "saved /home/yuncong/project/DavidData2014results/RS141/0000/RS141_x5_0000_gabor-blueNisslWide-segm-blueNisslRegular-vq-blueNissl_matchedBoundaryPair2For0With1.jpg"
       ]
      },
      {
       "output_type": "stream",
       "stream": "stdout",
       "text": [
        "\n",
        "saved /home/yuncong/project/DavidData2014results/RS141/0001/RS141_x5_0001_gabor-blueNisslWide-segm-blueNisslRegular-vq-blueNissl_matchedBoundaryPair2For1With0.jpg"
       ]
      },
      {
       "output_type": "stream",
       "stream": "stdout",
       "text": [
        "\n",
        "saved /home/yuncong/project/DavidData2014results/RS141/0000/RS141_x5_0000_gabor-blueNisslWide-segm-blueNisslRegular-vq-blueNissl_matchedBoundaryPair3For0With1.jpg"
       ]
      },
      {
       "output_type": "stream",
       "stream": "stdout",
       "text": [
        "\n",
        "saved /home/yuncong/project/DavidData2014results/RS141/0001/RS141_x5_0001_gabor-blueNisslWide-segm-blueNisslRegular-vq-blueNissl_matchedBoundaryPair3For1With0.jpg"
       ]
      },
      {
       "output_type": "stream",
       "stream": "stdout",
       "text": [
        "\n",
        "saved /home/yuncong/project/DavidData2014results/RS141/0000/RS141_x5_0000_gabor-blueNisslWide-segm-blueNisslRegular-vq-blueNissl_matchedBoundaryPair4For0With1.jpg"
       ]
      },
      {
       "output_type": "stream",
       "stream": "stdout",
       "text": [
        "\n",
        "saved /home/yuncong/project/DavidData2014results/RS141/0001/RS141_x5_0001_gabor-blueNisslWide-segm-blueNisslRegular-vq-blueNissl_matchedBoundaryPair4For1With0.jpg"
       ]
      },
      {
       "output_type": "stream",
       "stream": "stdout",
       "text": [
        "\n",
        "saved /home/yuncong/project/DavidData2014results/RS141/0000/RS141_x5_0000_gabor-blueNisslWide-segm-blueNisslRegular-vq-blueNissl_matchedBoundaryPair5For0With1.jpg"
       ]
      },
      {
       "output_type": "stream",
       "stream": "stdout",
       "text": [
        "\n",
        "saved /home/yuncong/project/DavidData2014results/RS141/0001/RS141_x5_0001_gabor-blueNisslWide-segm-blueNisslRegular-vq-blueNissl_matchedBoundaryPair5For1With0.jpg"
       ]
      },
      {
       "output_type": "stream",
       "stream": "stdout",
       "text": [
        "\n",
        "saved /home/yuncong/project/DavidData2014results/RS141/0000/RS141_x5_0000_gabor-blueNisslWide-segm-blueNisslRegular-vq-blueNissl_matchedBoundaryPair6For0With1.jpg"
       ]
      },
      {
       "output_type": "stream",
       "stream": "stdout",
       "text": [
        "\n",
        "saved /home/yuncong/project/DavidData2014results/RS141/0001/RS141_x5_0001_gabor-blueNisslWide-segm-blueNisslRegular-vq-blueNissl_matchedBoundaryPair6For1With0.jpg"
       ]
      },
      {
       "output_type": "stream",
       "stream": "stdout",
       "text": [
        "\n",
        "saved /home/yuncong/project/DavidData2014results/RS141/0000/RS141_x5_0000_gabor-blueNisslWide-segm-blueNisslRegular-vq-blueNissl_matchedBoundaryPair7For0With1.jpg"
       ]
      },
      {
       "output_type": "stream",
       "stream": "stdout",
       "text": [
        "\n",
        "saved /home/yuncong/project/DavidData2014results/RS141/0001/RS141_x5_0001_gabor-blueNisslWide-segm-blueNisslRegular-vq-blueNissl_matchedBoundaryPair7For1With0.jpg"
       ]
      },
      {
       "output_type": "stream",
       "stream": "stdout",
       "text": [
        "\n",
        "saved /home/yuncong/project/DavidData2014results/RS141/0000/RS141_x5_0000_gabor-blueNisslWide-segm-blueNisslRegular-vq-blueNissl_matchedBoundaryPair8For0With1.jpg"
       ]
      },
      {
       "output_type": "stream",
       "stream": "stdout",
       "text": [
        "\n",
        "saved /home/yuncong/project/DavidData2014results/RS141/0001/RS141_x5_0001_gabor-blueNisslWide-segm-blueNisslRegular-vq-blueNissl_matchedBoundaryPair8For1With0.jpg"
       ]
      },
      {
       "output_type": "stream",
       "stream": "stdout",
       "text": [
        "\n",
        "saved /home/yuncong/project/DavidData2014results/RS141/0000/RS141_x5_0000_gabor-blueNisslWide-segm-blueNisslRegular-vq-blueNissl_matchedBoundaryPair9For0With1.jpg"
       ]
      },
      {
       "output_type": "stream",
       "stream": "stdout",
       "text": [
        "\n",
        "saved /home/yuncong/project/DavidData2014results/RS141/0001/RS141_x5_0001_gabor-blueNisslWide-segm-blueNisslRegular-vq-blueNissl_matchedBoundaryPair9For1With0.jpg"
       ]
      },
      {
       "output_type": "stream",
       "stream": "stdout",
       "text": [
        "\n",
        "saved /home/yuncong/project/DavidData2014results/RS141/0000/RS141_x5_0000_gabor-blueNisslWide-segm-blueNisslRegular-vq-blueNissl_matchedBoundaryPair10For0With1.jpg"
       ]
      },
      {
       "output_type": "stream",
       "stream": "stdout",
       "text": [
        "\n",
        "saved /home/yuncong/project/DavidData2014results/RS141/0001/RS141_x5_0001_gabor-blueNisslWide-segm-blueNisslRegular-vq-blueNissl_matchedBoundaryPair10For1With0.jpg"
       ]
      },
      {
       "output_type": "stream",
       "stream": "stdout",
       "text": [
        "\n",
        "saved /home/yuncong/project/DavidData2014results/RS141/0000/RS141_x5_0000_gabor-blueNisslWide-segm-blueNisslRegular-vq-blueNissl_matchedBoundaryPair11For0With1.jpg"
       ]
      },
      {
       "output_type": "stream",
       "stream": "stdout",
       "text": [
        "\n",
        "saved /home/yuncong/project/DavidData2014results/RS141/0001/RS141_x5_0001_gabor-blueNisslWide-segm-blueNisslRegular-vq-blueNissl_matchedBoundaryPair11For1With0.jpg"
       ]
      },
      {
       "output_type": "stream",
       "stream": "stdout",
       "text": [
        "\n",
        "saved /home/yuncong/project/DavidData2014results/RS141/0000/RS141_x5_0000_gabor-blueNisslWide-segm-blueNisslRegular-vq-blueNissl_matchedBoundaryPair12For0With1.jpg"
       ]
      },
      {
       "output_type": "stream",
       "stream": "stdout",
       "text": [
        "\n",
        "saved /home/yuncong/project/DavidData2014results/RS141/0001/RS141_x5_0001_gabor-blueNisslWide-segm-blueNisslRegular-vq-blueNissl_matchedBoundaryPair12For1With0.jpg"
       ]
      },
      {
       "output_type": "stream",
       "stream": "stdout",
       "text": [
        "\n",
        "saved /home/yuncong/project/DavidData2014results/RS141/0000/RS141_x5_0000_gabor-blueNisslWide-segm-blueNisslRegular-vq-blueNissl_matchedBoundaryPair13For0With1.jpg"
       ]
      },
      {
       "output_type": "stream",
       "stream": "stdout",
       "text": [
        "\n",
        "saved /home/yuncong/project/DavidData2014results/RS141/0001/RS141_x5_0001_gabor-blueNisslWide-segm-blueNisslRegular-vq-blueNissl_matchedBoundaryPair13For1With0.jpg"
       ]
      },
      {
       "output_type": "stream",
       "stream": "stdout",
       "text": [
        "\n",
        "saved /home/yuncong/project/DavidData2014results/RS141/0000/RS141_x5_0000_gabor-blueNisslWide-segm-blueNisslRegular-vq-blueNissl_matchedBoundaryPair14For0With1.jpg"
       ]
      },
      {
       "output_type": "stream",
       "stream": "stdout",
       "text": [
        "\n",
        "saved /home/yuncong/project/DavidData2014results/RS141/0001/RS141_x5_0001_gabor-blueNisslWide-segm-blueNisslRegular-vq-blueNissl_matchedBoundaryPair14For1With0.jpg"
       ]
      },
      {
       "output_type": "stream",
       "stream": "stdout",
       "text": [
        "\n"
       ]
      }
     ],
     "prompt_number": 336
    },
    {
     "cell_type": "code",
     "collapsed": false,
     "input": [
      "# For some reason, parallelizing does not work\n",
      "# Parallel(n_jobs=16)(delayed(find_boundaries_section)(sec_ind) for sec_ind in range(0,30))\n",
      "# Parallel(n_jobs=16)(delayed(match_landmarks)(sec1, sec1+1) for sec1 in range(0,29))"
     ],
     "language": "python",
     "metadata": {},
     "outputs": []
    },
    {
     "cell_type": "code",
     "collapsed": false,
     "input": [
      "D = dm.load_pipeline_result('DBoundaries0With1', 'npy')"
     ],
     "language": "python",
     "metadata": {},
     "outputs": [],
     "prompt_number": 337
    },
    {
     "cell_type": "code",
     "collapsed": false,
     "input": [
      "D1 = dm.load_pipeline_result('D1s0With1', 'npy')\n",
      "D2 = dm.load_pipeline_result('D2s0With1', 'npy')\n",
      "D3 = dm.load_pipeline_result('D3s0With1', 'npy')"
     ],
     "language": "python",
     "metadata": {},
     "outputs": [],
     "prompt_number": 338
    },
    {
     "cell_type": "code",
     "collapsed": false,
     "input": [
      "np.mean([x for x in D1.flat if not np.isinf(x)])"
     ],
     "language": "python",
     "metadata": {},
     "outputs": [
      {
       "metadata": {},
       "output_type": "pyout",
       "prompt_number": 328,
       "text": [
        "0.41108079562576033"
       ]
      }
     ],
     "prompt_number": 328
    },
    {
     "cell_type": "code",
     "collapsed": false,
     "input": [
      "np.mean([x for x in D2.flat if not np.isinf(x)])"
     ],
     "language": "python",
     "metadata": {},
     "outputs": [
      {
       "metadata": {},
       "output_type": "pyout",
       "prompt_number": 329,
       "text": [
        "0.44709969290764073"
       ]
      }
     ],
     "prompt_number": 329
    },
    {
     "cell_type": "code",
     "collapsed": false,
     "input": [
      "np.mean([x for x in D3.flat if not np.isinf(x)])"
     ],
     "language": "python",
     "metadata": {},
     "outputs": [
      {
       "metadata": {},
       "output_type": "pyout",
       "prompt_number": 330,
       "text": [
        "87.963576569524832"
       ]
      }
     ],
     "prompt_number": 330
    },
    {
     "cell_type": "code",
     "collapsed": false,
     "input": [
      "match = np.array(zip(*np.nonzero(munkres(D))))"
     ],
     "language": "python",
     "metadata": {},
     "outputs": [],
     "prompt_number": 331
    },
    {
     "cell_type": "code",
     "collapsed": false,
     "input": [
      "np.argsort(D3[20,:])"
     ],
     "language": "python",
     "metadata": {},
     "outputs": [
      {
       "metadata": {},
       "output_type": "pyout",
       "prompt_number": 344,
       "text": [
        "array([22,  1, 12, 28,  0, 11, 13,  9, 15, 32, 29, 25, 24, 23, 27,  8, 26,\n",
        "       30, 31, 21, 16, 19, 18, 17, 14, 10,  7,  6,  5,  4,  3,  2, 20, 33])"
       ]
      }
     ],
     "prompt_number": 344
    },
    {
     "cell_type": "code",
     "collapsed": false,
     "input": [
      "np.sort(D3[20,:])"
     ],
     "language": "python",
     "metadata": {},
     "outputs": [
      {
       "metadata": {},
       "output_type": "pyout",
       "prompt_number": 373,
       "text": [
        "array([ 0.20949451,  0.28457989,  0.30011573,  0.3236226 ,  0.33002317,\n",
        "        0.33241655,  0.35007897,  0.3554435 ,  0.35702732,  0.35946201,\n",
        "        0.38978066,  0.39186688,  0.42978848,  0.44806754,  0.53799823,\n",
        "        0.60543835,  0.61094515,  0.90268219,         inf,         inf,\n",
        "               inf,         inf,         inf,         inf,         inf,\n",
        "               inf,         inf,         inf,         inf,         inf,\n",
        "               inf,         inf,         inf,         inf])"
       ]
      }
     ],
     "prompt_number": 373
    },
    {
     "cell_type": "code",
     "collapsed": false,
     "input": [
      "np.argsort(D1[20,:])"
     ],
     "language": "python",
     "metadata": {},
     "outputs": [
      {
       "metadata": {},
       "output_type": "pyout",
       "prompt_number": 347,
       "text": [
        "array([ 0,  9, 11,  1, 24, 15, 26, 25, 27,  8, 12, 13, 22, 28, 29, 32, 23,\n",
        "       30, 31, 21, 16, 19, 18, 17, 14, 10,  7,  6,  5,  4,  3,  2, 20, 33])"
       ]
      }
     ],
     "prompt_number": 347
    },
    {
     "cell_type": "code",
     "collapsed": false,
     "input": [
      "np.argsort(D2[20,:])"
     ],
     "language": "python",
     "metadata": {},
     "outputs": [
      {
       "metadata": {},
       "output_type": "pyout",
       "prompt_number": 348,
       "text": [
        "array([24, 25, 32,  8, 26, 30, 11,  1, 12, 13,  9, 22, 27,  0, 28, 29, 23,\n",
        "       15, 31, 21, 16, 19, 18, 17, 14, 10,  7,  6,  5,  4,  3,  2, 20, 33])"
       ]
      }
     ],
     "prompt_number": 348
    },
    {
     "cell_type": "code",
     "collapsed": false,
     "input": [
      "np.argsort(D3[20,:])"
     ],
     "language": "python",
     "metadata": {},
     "outputs": [
      {
       "metadata": {},
       "output_type": "pyout",
       "prompt_number": 351,
       "text": [
        "array([22,  1, 12, 28,  0, 11, 13,  9, 15, 32, 29, 25, 24, 23, 27,  8, 26,\n",
        "       30, 31, 21, 16, 19, 18, 17, 14, 10,  7,  6,  5,  4,  3,  2, 20, 33])"
       ]
      }
     ],
     "prompt_number": 351
    },
    {
     "cell_type": "code",
     "collapsed": false,
     "input": [
      "dm1 = DataManager(generate_hierarchy=False, stack='RS141', resol='x5', section=0)\n",
      "dm2 = DataManager(generate_hierarchy=False, stack='RS141', resol='x5', section=1)\n",
      "\n",
      "boundaries1 = dm1.load_pipeline_result('boundaryModels', 'pkl')\n",
      "boundaries2 = dm2.load_pipeline_result('boundaryModels', 'pkl')\n"
     ],
     "language": "python",
     "metadata": {},
     "outputs": [],
     "prompt_number": 14
    },
    {
     "cell_type": "code",
     "collapsed": false,
     "input": [
      "np.argsort(D2[26,:])"
     ],
     "language": "python",
     "metadata": {},
     "outputs": [
      {
       "metadata": {},
       "output_type": "pyout",
       "prompt_number": 105,
       "text": [
        "array([32, 11, 25, 26, 27, 24, 22, 13, 12, 15,  9, 30, 18, 33,  8, 19, 28,\n",
        "       14, 29, 23, 31,  0, 20, 17, 10,  7,  6,  5,  4,  3,  2,  1, 21, 16])"
       ]
      }
     ],
     "prompt_number": 105
    },
    {
     "cell_type": "code",
     "collapsed": false,
     "input": [
      "np.argsort(D1[:,12])"
     ],
     "language": "python",
     "metadata": {},
     "outputs": [
      {
       "metadata": {},
       "output_type": "pyout",
       "prompt_number": 103,
       "text": [
        "array([26,  1, 30,  9, 28, 10, 20, 25,  5, 23, 32, 19, 22, 24, 21, 29, 18,\n",
        "        2,  6,  0, 27,  3, 31, 15, 14, 13, 12, 11,  8,  7,  4, 17, 16])"
       ]
      }
     ],
     "prompt_number": 103
    },
    {
     "cell_type": "code",
     "collapsed": false,
     "input": [
      "np.sort(D1[:,12])"
     ],
     "language": "python",
     "metadata": {},
     "outputs": [
      {
       "metadata": {},
       "output_type": "pyout",
       "prompt_number": 102,
       "text": [
        "array([ 0.05079027,  0.16595487,  0.1871135 ,  0.18930811,  0.20516376,\n",
        "        0.22739386,  0.25240033,  0.26079591,  0.27484423,  0.36083842,\n",
        "        0.3895121 ,  0.42556571,  0.42729552,  0.43405095,  0.44685439,\n",
        "        0.44904606,  0.49546057,  0.51832307,  0.66185651,  0.70055246,\n",
        "        0.9680352 ,  1.01717772,         inf,         inf,         inf,\n",
        "               inf,         inf,         inf,         inf,         inf,\n",
        "               inf,         inf,         inf])"
       ]
      }
     ],
     "prompt_number": 102
    },
    {
     "cell_type": "code",
     "collapsed": false,
     "input": [
      "np.sort(D[26,:])"
     ],
     "language": "python",
     "metadata": {},
     "outputs": [
      {
       "metadata": {},
       "output_type": "pyout",
       "prompt_number": 96,
       "text": [
        "array([ 0.43505073,  0.45868514,  0.46506629,  0.47764972,  0.4985918 ,\n",
        "        0.52637819,  0.55345258,  0.55796297,  0.56584254,  0.6223661 ,\n",
        "        0.64325226,  0.65628173,  0.66136614,  0.73277607,  0.77936456,\n",
        "        0.85294155,  0.88358742,  0.98066975,  1.16097082,  1.19658682,\n",
        "               inf,         inf,         inf,         inf,         inf,\n",
        "               inf,         inf,         inf,         inf,         inf,\n",
        "               inf,         inf,         inf,         inf])"
       ]
      }
     ],
     "prompt_number": 96
    },
    {
     "cell_type": "code",
     "collapsed": false,
     "input": [
      "np.argsort(D[26,:])"
     ],
     "language": "python",
     "metadata": {},
     "outputs": [
      {
       "metadata": {},
       "output_type": "pyout",
       "prompt_number": 95,
       "text": [
        "array([13, 22, 27, 12, 15, 25, 24, 26, 11,  9, 18, 33, 32, 28, 19, 29,  8,\n",
        "       14, 23, 30, 31,  0, 20, 17, 10,  7,  6,  5,  4,  3,  2,  1, 21, 16])"
       ]
      }
     ],
     "prompt_number": 95
    },
    {
     "cell_type": "code",
     "collapsed": false,
     "input": [
      "print sorted([(D[i,j], i, j) for i,j in match])"
     ],
     "language": "python",
     "metadata": {},
     "outputs": [
      {
       "output_type": "stream",
       "stream": "stdout",
       "text": [
        "[(0.11103515209866074, 1, 33), (0.33426747460730127, 5, 32), (0.34802898737865673, 28, 25), (0.35175132157777378, 23, 11), (0.36293415348962399, 11, 16), (0.36968050859038565, 7, 18), (0.37275859164119951, 29, 22), (0.37602272619784155, 30, 8), (0.3899505355853144, 20, 1), (0.41145058019525704, 2, 28), (0.42954428349545992, 27, 30), (0.43505072827762548, 26, 13), (0.43595666240936526, 25, 27), (0.43998365832011477, 24, 26), (0.44886025020785414, 31, 31), (0.45468672133205829, 12, 6), (0.45845845648590106, 15, 5), (0.45915048316640855, 14, 3), (0.4628356216307466, 16, 17), (0.46471491581716606, 6, 29), (0.47713579013222118, 9, 10), (0.47763585946573633, 8, 19), (0.47871520840577109, 4, 15), (0.48591833366531811, 18, 21), (0.49517654042071674, 10, 20), (0.49788754387874401, 19, 2), (0.50025502759092555, 13, 7), (0.55661263264455929, 22, 14), (0.59205543139242967, 0, 23), (0.64258620472975247, 17, 4), (0.69229256379445703, 32, 24), (0.85715246735935957, 21, 12), (0.98775430176869683, 3, 9)]\n"
       ]
      }
     ],
     "prompt_number": 79
    }
   ],
   "metadata": {}
  }
 ]
}