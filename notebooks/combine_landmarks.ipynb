{
 "cells": [
  {
   "cell_type": "code",
   "execution_count": 1,
   "metadata": {
    "collapsed": false
   },
   "outputs": [],
   "source": [
    "%load_ext autoreload\n",
    "%autoreload 2"
   ]
  },
  {
   "cell_type": "code",
   "execution_count": 2,
   "metadata": {
    "collapsed": false
   },
   "outputs": [],
   "source": [
    "import sys\n",
    "sys.path.append('/home/yuncong/project/opencv-2.4.9/release/lib/python2.7/site-packages')\n",
    "\n",
    "sys.path.insert(0, '/home/yuncong/project/cython-munkres-wrapper/build/lib.linux-x86_64-2.7')\n",
    "# import munkres\n",
    "# reload(munkres)\n",
    "from munkres import munkres\n",
    "\n",
    "# https://github.com/jfrelinger/cython-munkres-wrapper,\n",
    "# 10 times faster than the python implementation http://software.clapper.org/munkres/\n",
    "\n",
    "# from munkres import Munkres # http://software.clapper.org/munkres/"
   ]
  },
  {
   "cell_type": "code",
   "execution_count": 70,
   "metadata": {
    "collapsed": true
   },
   "outputs": [],
   "source": [
    "sys.path.append('/home/yuncong/Brain/pipeline_scripts')\n",
    "import utilities2014\n",
    "reload(utilities2014)\n",
    "from utilities2014 import *"
   ]
  },
  {
   "cell_type": "code",
   "execution_count": 3,
   "metadata": {
    "collapsed": false
   },
   "outputs": [],
   "source": [
    "import os\n",
    "import time\n",
    "\n",
    "# os.environ['GORDON_DATA_DIR'] = '/home/yuncong/project/DavidData2014tif/'\n",
    "# os.environ['GORDON_REPO_DIR'] = '/home/yuncong/Brain'\n",
    "# os.environ['GORDON_RESULT_DIR'] = '/home/yuncong/project/DavidData2014results/'\n",
    "# os.environ['GORDON_LABELING_DIR'] = '/home/yuncong/project/DavidData2014labelings/'\n",
    "\n",
    "from scipy.spatial.distance import cdist, pdist, squareform\n",
    "from scipy.cluster.hierarchy import average, fcluster, leaders, complete, single, dendrogram\n",
    "\n",
    "from joblib import Parallel, delayed\n",
    "\n",
    "from skimage.color import gray2rgb\n",
    "from skimage.util import img_as_float, pad\n",
    "from skimage.morphology import disk\n",
    "from skimage.filter.rank import gradient\n",
    "\n",
    "from collections import defaultdict, Counter\n",
    "from itertools import combinations, chain, product\n",
    "\n",
    "import networkx\n",
    "from networkx import from_dict_of_lists, dfs_postorder_nodes\n",
    "\n",
    "import matplotlib.pyplot as plt\n",
    "%matplotlib inline\n",
    "\n",
    "\n",
    "stack_name = 'RS140'"
   ]
  },
  {
   "cell_type": "code",
   "execution_count": 4,
   "metadata": {
    "collapsed": false
   },
   "outputs": [],
   "source": [
    "# Order the exterior by depth-first search\n",
    "# The ordering is not well-defined in some corners\n",
    "\n",
    "def find_boundary_sps(clusters, neighbors, neighbor_graph):\n",
    "    '''\n",
    "    Identify superpixels that are at the boundary of regions: surround set and frontier set\n",
    "    \n",
    "    Parameters\n",
    "    ----------\n",
    "    clusters : list of integer lists\n",
    "    neighbors : neighbor_list\n",
    "    neighbor_graph : \n",
    "    '''\n",
    "        \n",
    "    n_superpixels = len(clusters)\n",
    "    \n",
    "    surrounds_sps = []\n",
    "    frontiers_sps = []\n",
    "    \n",
    "    for cluster_ind, cluster in enumerate(clusters):\n",
    "        \n",
    "        surrounds = set([i for i in set.union(*[neighbors[c] for c in cluster]) if i not in cluster and i != -1])\n",
    "#         surrounds = set([i for i in surrounds if any([(n not in cluster) and (n not in surrounds) for n in neighbors[i]])])\n",
    "        surrounds = set([i for i in surrounds if any([n not in cluster for n in neighbors[i]])])\n",
    "\n",
    "        if len(surrounds) == 0:\n",
    "            surrounds_sps.append([])\n",
    "            frontiers_sps.append([])\n",
    "\n",
    "        else:\n",
    "            frontiers = set.union(*[neighbors[c] for c in surrounds]) & set(cluster)\n",
    "\n",
    "            surrounds_subgraph = neighbor_graph.subgraph(surrounds)\n",
    "            surrounds_traversal = list(dfs_postorder_nodes(surrounds_subgraph))\n",
    "\n",
    "            frontiers_subgraph = neighbor_graph.subgraph(frontiers)\n",
    "            frontiers_traversal = list(dfs_postorder_nodes(frontiers_subgraph))\n",
    "\n",
    "            surrounds_sps.append(surrounds_traversal)\n",
    "            frontiers_sps.append(frontiers_traversal)\n",
    "        \n",
    "    return surrounds_sps, frontiers_sps"
   ]
  },
  {
   "cell_type": "code",
   "execution_count": 49,
   "metadata": {
    "collapsed": false
   },
   "outputs": [],
   "source": [
    "def compute_overlap(c1, c2):\n",
    "    return float(len(c1 & c2)) / min(len(c1),len(c2))\n",
    "\n",
    "def compute_overlap2(c1, c2):\n",
    "    return float(len(c1 & c2)) / len(c1 | c2)    \n",
    "\n",
    "def compute_overlap_partial(indices, sets, metric='jaccard'):\n",
    "    n_sets = len(sets)\n",
    "    \n",
    "    overlap_matrix = np.zeros((len(indices), n_sets))\n",
    "        \n",
    "    for ii, i in enumerate(indices):\n",
    "        for j in range(n_sets):\n",
    "            c1 = set(sets[i])\n",
    "            c2 = set(sets[j])\n",
    "            if len(c1) == 0 or len(c2) == 0:\n",
    "                overlap_matrix[ii, j] = 0\n",
    "            else:\n",
    "                if metric == 'min-jaccard':\n",
    "                    overlap_matrix[ii, j] = compute_overlap(c1, c2)\n",
    "                elif metric == 'jaccard':\n",
    "                    overlap_matrix[ii, j] = compute_overlap2(c1, c2)\n",
    "            \n",
    "    return overlap_matrix\n",
    "\n",
    "def set_pairwise_distances(sets, metric):\n",
    "\n",
    "    partial_overlap_mat = Parallel(n_jobs=16, max_nbytes=1e6)(delayed(compute_overlap_partial)(s, sets, metric=metric) \n",
    "                                        for s in np.array_split(range(len(sets)), 16))\n",
    "    overlap_matrix = np.vstack(partial_overlap_mat)\n",
    "    distance_matrix = 1 - overlap_matrix\n",
    "    \n",
    "    np.fill_diagonal(distance_matrix, 0)\n",
    "    \n",
    "    return distance_matrix\n",
    "\n",
    "\n",
    "\n",
    "def group_clusters(clusters=None, dist_thresh = 0.1, distance_matrix=None, metric='jaccard',\n",
    "                  returnD=False, linkage='complete'):\n",
    "\n",
    "    if distance_matrix is None:\n",
    "        assert clusters is not None\n",
    "        distance_matrix = set_pairwise_distances(clusters, metric)\n",
    "        \n",
    "    if linkage=='complete':\n",
    "        lk = complete(squareform(distance_matrix))\n",
    "    elif linkage=='average':\n",
    "        lk = average(squareform(distance_matrix))\n",
    "    elif linkage=='single':\n",
    "        lk = single(squareform(distance_matrix))\n",
    "\n",
    "    # T = fcluster(lk, 1.15, criterion='inconsistent')\n",
    "    T = fcluster(lk, dist_thresh, criterion='distance')\n",
    "    \n",
    "    n_groups = len(set(T))\n",
    "    groups = [None] * n_groups\n",
    "\n",
    "    for group_id in range(n_groups):\n",
    "        groups[group_id] = np.where(T == group_id+1)[0]\n",
    "\n",
    "    if returnD:\n",
    "        return [g for g in groups if len(g) > 0], distance_matrix\n",
    "    else:\n",
    "        return [g for g in groups if len(g) > 0]\n"
   ]
  },
  {
   "cell_type": "code",
   "execution_count": 6,
   "metadata": {
    "collapsed": true
   },
   "outputs": [],
   "source": [
    "# def detect_open_boundaries(sec_ind):\n",
    "    \n",
    "#     dm = DataManager(generate_hierarchy=False, stack=stack_name, resol='x5', section=sec_ind)\n",
    "    \n",
    "#     # Load image and relevant data\n",
    "#     im_height, im_width = imread(dm._get_image_filepath()).shape[:2]\n",
    "\n",
    "#     texton_hists = dm.load_pipeline_result('texHist', 'npy')\n",
    "#     segmentation = dm.load_pipeline_result('segmentation', 'npy')\n",
    "#     n_superpixels = len(np.unique(segmentation)) - 1\n",
    "#     textonmap = dm.load_pipeline_result('texMap', 'npy')\n",
    "#     n_texton = len(np.unique(textonmap)) - 1\n",
    "#     neighbors = dm.load_pipeline_result('neighbors', 'npy')\n",
    "#     sp_properties = dm.load_pipeline_result('spProps', 'npy')\n",
    "#     segmentation_vis = dm.load_pipeline_result('segmentationWithText', 'jpg')\n",
    "\n",
    "#     # Load region proposals\n",
    "#     expansion_clusters_tuples = dm.load_pipeline_result('clusters', 'pkl')\n",
    "#     expansion_clusters, expansion_cluster_scores = zip(*expansion_clusters_tuples)\n",
    "#     expansion_cluster_scores = np.array(expansion_cluster_scores)\n",
    "\n",
    "#     neighbors_dict = dict(zip(np.arange(n_superpixels), [list(i) for i in neighbors]))\n",
    "#     neighbor_graph = from_dict_of_lists(neighbors_dict)\n",
    "        \n",
    "#     surrounds_sps, frontiers_sps = find_boundary_sps(expansion_clusters, neighbors=neighbors, neighbor_graph=neighbor_graph)\n",
    "    \n",
    "    \n",
    "#     # votes for directed edgelets\n",
    "#     dEdge_votes = defaultdict(int)\n",
    "    \n",
    "#     # Compute the supporter sets of every edgelet, based on region proposals\n",
    "#     # supporter_all[(100,101)] is the set of superpixels that supports directed edgelet (100,101)\n",
    "#     supporters_all = defaultdict(list)\n",
    "\n",
    "#     for s in range(n_superpixels):\n",
    "#     #     if s not in sps_in_good_regions: continue\n",
    "\n",
    "#         c = list(expansion_clusters[s])\n",
    "#         interior_texture = texton_hists[c].mean(axis=0)\n",
    "#         b_sps = surrounds_sps[s]\n",
    "#         b_contrasts = cdist(texton_hists[b_sps], interior_texture[np.newaxis, :], chi2)\n",
    "\n",
    "#         for b_sp, b_contrast in zip(b_sps, b_contrasts):\n",
    "#             int_sps = neighbors[b_sp] & set(c)\n",
    "#             for int_sp in int_sps:\n",
    "#                 dEdge_votes[(b_sp, int_sp)] += b_contrast / max(len(c), 5)\n",
    "#                 dEdge_votes[(int_sp, b_sp)] += b_contrast / max(len(c), 5)\n",
    "#                 supporters_all[(b_sp, int_sp)].append(s) # (border_sp, interior_sp) or (out, in)\n",
    "    \n",
    "#     edge_coords = dm.load_pipeline_result('edgeCoords', 'pkl')\n",
    "    \n",
    "#     # threshold the edgelet votes\n",
    "#     dEdge_vote_thresh = 1.\n",
    "#     winner_dEdges = [dedge for dedge, v in dEdge_votes.iteritems() if v > dEdge_vote_thresh]\n",
    "    \n",
    "#     # group the winning edgelets, according to their supporter sets\n",
    "#     winner_supporters = [supporters_all[dedge] for dedge in winner_dEdges]\n",
    "#     supporter_D = set_pairwise_distances(winner_supporters, metric=1)\n",
    "#     supporter_sim_thresh = .2\n",
    "#     winner_indices_grouped_by_supporters = group_clusters(winner_supporters, dist_thresh=supporter_sim_thresh, \n",
    "#                                                           distance_matrix=supporter_D)\n",
    "# #     print len(winner_indices_grouped_by_supporters), 'alliances'\n",
    "#     winners_grouped_by_supporters = [[winner_dEdges[i] for i in g] for g in winner_indices_grouped_by_supporters]\n",
    "    \n",
    "#     alliance_sizes = np.array(map(len, winners_grouped_by_supporters))\n",
    "\n",
    "#     # pick edgelet groups with more than 20 edgelets\n",
    "#     big_alliance_indices = np.where(alliance_sizes > 20)[0]\n",
    "# #     print len(big_alliance_indices), 'big alliances'\n",
    "#     big_alliance_dEdges = [winners_grouped_by_supporters[ba_ind] for ba_ind in big_alliance_indices]\n",
    "#     big_alliance_winnerIndices = [winner_indices_grouped_by_supporters[ba_ind] for ba_ind in big_alliance_indices]\n",
    "#     big_alliance_supporters = [set.union(*[set(winner_supporters[i]) for i in a]) for a in big_alliance_winnerIndices]\n",
    "#     # define supporter set of an edgelet group as the union of each supporter set\n",
    "\n",
    "#     # sort edgelet groups by total vote over all edgelets\n",
    "#     good_edgeSet_tuple_sorted_by_score = sorted([(np.sum([dEdge_votes[e] for e in edges]), edges, alliance_ind)\n",
    "#                                                       for alliance_ind, edges in enumerate(big_alliance_dEdges)\n",
    "#                                                       if len(edges) > 10], reverse=True)\n",
    "#     good_edgeSet_scores_sorted, good_edgeSets_sorted, good_edgeSet_indices_sorted = zip(*good_edgeSet_tuple_sorted_by_score)  \n",
    "#     good_edgeSet_supporters = [ big_alliance_supporters[alliance_i] for alliance_i in good_edgeSet_indices_sorted]\n",
    "#     # give this to Idan's web interface\n",
    "    \n",
    "# #     print len(good_edgeSet_tuple_sorted_by_score), 'good boundaries'\n",
    "    \n",
    "#     # These edgelet groups constitute Open Boundary landmarks.\n",
    "    \n",
    "#     vis = dm.visualize_edge_sets(good_edgeSets_sorted[:10])\n",
    "#     dm.save_pipeline_result(vis, 'openBoundariesTop10', 'jpg')\n",
    "    \n",
    "#     dm.save_pipeline_result(good_edgeSet_tuple_sorted_by_score, 'openBoundaries', 'pkl')\n",
    "#     dm.save_pipeline_result(good_edgeSet_supporters, 'openBoundariesSupporters', 'pkl')"
   ]
  },
  {
   "cell_type": "code",
   "execution_count": 7,
   "metadata": {
    "collapsed": false
   },
   "outputs": [],
   "source": [
    "def combine_two_landmark_types(sec_ind):\n",
    "    \n",
    "    dm = DataManager(generate_hierarchy=False, stack=stack_name, resol='x5', section=sec_ind)\n",
    "    texton_hists = dm.load_pipeline_result('texHist', 'npy')\n",
    "    edge_coords = dm.load_pipeline_result('edgeCoords', 'pkl')\n",
    "    \n",
    "    # Load closed region landmarks\n",
    "    representative_clusters = dm.load_pipeline_result('representativeClusters', 'pkl')\n",
    "\n",
    "    representative_cluster_scores_sorted, representative_clusters_sorted_by_score, \\\n",
    "    representative_cluster_indices_sorted_by_score, big_groups_sorted_by_score = zip(*representative_clusters)\n",
    "\n",
    "    closedRegion_edgeSets_sorted_by_score = dm.load_pipeline_result('closedRegionsTop30Edgesets', 'pkl')\n",
    "\n",
    "    # Load open boundary landmarks\n",
    "    openBoundaries = dm.load_pipeline_result('openBoundaries', 'pkl')\n",
    "    \n",
    "    openBoundaries_scores_sorted, openBoundaries_edgeSets_sorted_by_score, \\\n",
    "    openBoundaries_indices_sorted_by_score = zip(*openBoundaries)\n",
    "    \n",
    "    openBoundaries_supporters = dm.load_pipeline_result('openBoundariesSupporters', 'pkl')\n",
    "\n",
    "    \n",
    "    # Select top 30 Closed Boundary landmarks and top 10 Open Boundary landmarks\n",
    "    all_edgeSets = list(chain(*[closedRegion_edgeSets_sorted_by_score, \n",
    "                                openBoundaries_edgeSets_sorted_by_score[:10]]))\n",
    "    all_scores = list(chain(*[representative_cluster_scores_sorted, \n",
    "                                openBoundaries_scores_sorted[:10]]))\n",
    "\n",
    "    lm_types = np.r_[np.zeros((len(closedRegion_edgeSets_sorted_by_score),)), \n",
    "                    np.ones((10,))]\n",
    "    \n",
    "    # Represent each landmark with a tuple\n",
    "    # (edgeSet, interior_texture, exterior_textures, points, center, supporter_set(?))\n",
    "    boundary_models = []\n",
    "\n",
    "    all_supporters = list(representative_clusters_sorted_by_score[:30]) + list(openBoundaries_supporters[:10])\n",
    "    #     dm.save_pipeline_result(lm_supporters, 'supporters', 'pkl')\n",
    "\n",
    "#     overlapping_boundary_groups, D = group_clusters(all_supporters, dist_thresh = 0.1, metric=2,\n",
    "#                                                 returnD=True)\n",
    "    overlapping_boundary_groups, D = group_clusters(all_edgeSets, dist_thresh = 0.6, metric=1,\n",
    "                                                returnD=True)\n",
    "    \n",
    "    # select the landmark with the largest supporter set to represent each group (may need a better idea)\n",
    "    # using score is meaningless if comparison is between different types.\n",
    "    nonoverlapping_lm_indices = [c[np.argmax([len(all_supporters[i]) for i in c])] for c in overlapping_boundary_groups]\n",
    "#     print overlapping_boundary_groups\n",
    "#     print nonoverlapping_lm_indices\n",
    "\n",
    "    nonoverlapping_scores = [all_scores[i] for i in nonoverlapping_lm_indices]\n",
    "    \n",
    "    nonoverlapping_edgeSets = [all_edgeSets[i] for i in nonoverlapping_lm_indices]    \n",
    "    nonoverlapping_lm_supporters = [all_supporters[i] for i in nonoverlapping_lm_indices]\n",
    "    nonoverlapping_lm_types = [lm_types[i] for i in nonoverlapping_lm_indices]\n",
    "    \n",
    "    order = np.argsort(nonoverlapping_scores)[::-1]\n",
    "    \n",
    "    nonoverlapping_edgeSets_sorted_by_score = [nonoverlapping_edgeSets[i] for i in order]\n",
    "    nonoverlapping_lm_supporters_sorted_by_score = [nonoverlapping_lm_supporters[i] for i in order]\n",
    "    nonoverlapping_lm_types_sorted_by_score = [nonoverlapping_lm_types[i] for i in order]\n",
    "\n",
    "    #     dm.save_pipeline_result(nonoverlapping_lm_supporters, 'nonoverlappingSupporters', 'pkl')\n",
    "\n",
    "    #     for edgeSet_ind, edgeSet in zip(good_edgeSet_indices_sorted, good_edgeSets_sorted):\n",
    "\n",
    "    interior_superpixels = []\n",
    "    for edgeSet, spptrs, lm_type in zip(nonoverlapping_edgeSets_sorted_by_score, \n",
    "                                        nonoverlapping_lm_supporters_sorted_by_score, \n",
    "                                        nonoverlapping_lm_types_sorted_by_score):\n",
    "\n",
    "        # interior_texture = texton_hists[list(big_alliance_supporters[edgeSet_ind])].mean(axis=0)\n",
    "\n",
    "        surrounds = [e[0] for e in edgeSet]\n",
    "        frontiers = [e[1] for e in edgeSet]\n",
    "\n",
    "        if lm_type == 1: # OpenBoundaries\n",
    "            interior_texture = texton_hists[frontiers].mean(axis=0)\n",
    "            interior_superpixels.append(list(set(frontiers)))\n",
    "        else: # CloseRegions\n",
    "            interior_texture = texton_hists[list(spptrs)].mean(axis=0)\n",
    "            interior_superpixels.append(list(set(spptrs)))\n",
    "            \n",
    "        exterior_textures = np.array([texton_hists[s] if s!=-1 else np.nan * np.ones((texton_hists.shape[1],)) for s in surrounds])\n",
    "        # how to deal with -1 in surrounds? Assign to an all np.nan vector\n",
    "        \n",
    "        points = np.array([edge_coords[frozenset(e)].mean(axis=0) for e in edgeSet])\n",
    "\n",
    "        center = points.mean(axis=0)\n",
    "\n",
    "        boundary_models.append((edgeSet, interior_texture, exterior_textures, points, center))\n",
    "        \n",
    "    dm.save_pipeline_result(boundary_models, 'boundaryModels', 'pkl')\n",
    "    dm.save_pipeline_result(nonoverlapping_lm_types_sorted_by_score, 'nonoverlapLmTypes', 'npy')\n",
    "    dm.save_pipeline_result(interior_superpixels, 'internalSps', 'pkl')\n",
    "    \n",
    "#     return all_edgeSets, D\n",
    "    "
   ]
  },
  {
   "cell_type": "code",
   "execution_count": 8,
   "metadata": {
    "collapsed": false
   },
   "outputs": [],
   "source": [
    "def generate_boundary_visualizations(sec):\n",
    "    '''\n",
    "    Generate visualization for boundaries of sec. \n",
    "    '''\n",
    "    \n",
    "    dm = DataManager(generate_hierarchy=False, stack=stack_name, resol='x5', section=sec)\n",
    "    \n",
    "    boundaries = dm.load_pipeline_result('boundaryModels', 'pkl')\n",
    "\n",
    "    # Save output\n",
    "    for i, b in enumerate(boundaries):\n",
    "        dm.save_pipeline_result(dm.visualize_edges(b[0], text=False, color=[0,255,0]), 'boundary%02d'%i, 'jpg')\n",
    "    \n",
    "    vis = dm.visualize_edge_sets([b[0] for b in boundaries], text=False)\n",
    "    dm.save_pipeline_result(vis, 'allBoundaries', 'jpg')\n",
    "    \n",
    "    vis = dm.visualize_edge_sets([b[0] for b in boundaries], text=True)\n",
    "    dm.save_pipeline_result(vis, 'allBoundariesWithLabel', 'jpg')\n",
    "    "
   ]
  },
  {
   "cell_type": "code",
   "execution_count": 9,
   "metadata": {
    "collapsed": false
   },
   "outputs": [],
   "source": [
    "from subprocess import check_output\n",
    "s = check_output(\"ssh gordon.sdsc.edu ls %s\" % os.path.join(os.environ['GORDON_DATA_DIR'], stack_name, 'x5'), shell=True)\n",
    "slide_indices = [int(f) for f in s.split('\\n') if len(f) > 0]"
   ]
  },
  {
   "cell_type": "code",
   "execution_count": 10,
   "metadata": {
    "collapsed": false
   },
   "outputs": [],
   "source": [
    "# def detect_open_boundaries(sec_ind):\n",
    "    \n",
    "dm = DataManager(generate_hierarchy=False, stack='RS140', resol='x5', section=7)\n",
    "\n",
    "# Load image and relevant data\n",
    "im_height, im_width = imread(dm._get_image_filepath()).shape[:2]\n",
    "\n",
    "texton_hists = dm.load_pipeline_result('texHist', 'npy')\n",
    "segmentation = dm.load_pipeline_result('segmentation', 'npy')\n",
    "n_superpixels = len(np.unique(segmentation)) - 1\n",
    "textonmap = dm.load_pipeline_result('texMap', 'npy')\n",
    "n_texton = len(np.unique(textonmap)) - 1\n",
    "neighbors = dm.load_pipeline_result('neighbors', 'pkl')\n",
    "sp_properties = dm.load_pipeline_result('spProps', 'npy')\n",
    "segmentation_vis = dm.load_pipeline_result('segmentationWithText', 'jpg')\n",
    "\n",
    "# Load region proposals\n",
    "expansion_clusters_tuples = dm.load_pipeline_result('clusters', 'pkl')\n",
    "expansion_clusters, expansion_cluster_scores = zip(*expansion_clusters_tuples)\n",
    "expansion_cluster_scores = np.array(expansion_cluster_scores)\n",
    "\n",
    "neighbors_dict = dict(zip(np.arange(n_superpixels), [list(i) for i in neighbors]))\n",
    "neighbor_graph = from_dict_of_lists(neighbors_dict)\n",
    "\n",
    "surrounds_sps, frontiers_sps = find_boundary_sps(expansion_clusters, neighbors=neighbors, neighbor_graph=neighbor_graph)\n",
    "\n",
    "\n",
    "######################\n",
    "group_size_thresh = 5\n",
    "######################\n",
    "\n",
    "\n",
    "# votes for directed edgelets\n",
    "dEdge_votes = defaultdict(float)\n",
    "\n",
    "# Compute the supporter sets of every edgelet, based on region proposals\n",
    "# supporter_all[(100,101)] is the set of superpixels that supports directed edgelet (100,101)\n",
    "supporters_all = defaultdict(list)\n",
    "\n",
    "for s in range(n_superpixels):\n",
    "#     if s not in sps_in_good_regions: continue\n",
    "\n",
    "    c = list(expansion_clusters[s])\n",
    "    interior_texture = texton_hists[c].mean(axis=0)\n",
    "    b_sps = surrounds_sps[s]\n",
    "    b_contrasts = cdist(texton_hists[b_sps], interior_texture[np.newaxis, :], chi2)\n",
    "\n",
    "    for b_sp, b_contrast in zip(b_sps, b_contrasts):\n",
    "        int_sps = neighbors[b_sp] & set(expansion_clusters[s])\n",
    "        for int_sp in int_sps:\n",
    "            # weight of each edgelet is the contrast normalized by region size\n",
    "            weight = float(b_contrast) / max(len(c), 5)\n",
    "            dEdge_votes[(b_sp, int_sp)] += weight\n",
    "            dEdge_votes[(int_sp, b_sp)] += weight\n",
    "            supporters_all[(b_sp, int_sp)].append(s) # (border_sp, interior_sp) or (out, in)\n",
    "\n",
    "# edge_coords = dm.load_pipeline_result('edgeCoords', 'pkl')"
   ]
  },
  {
   "cell_type": "code",
   "execution_count": 11,
   "metadata": {
    "collapsed": false
   },
   "outputs": [
    {
     "data": {
      "image/png": "[encoded data removed]",
      "text/plain": [
       "<matplotlib.figure.Figure at 0x41c9a90>"
      ]
     },
     "metadata": {},
     "output_type": "display_data"
    }
   ],
   "source": [
    "plt.hist(dEdge_votes.values(), bins=100);\n",
    "plt.xlabel('vote weight');"
   ]
  },
  {
   "cell_type": "code",
   "execution_count": 36,
   "metadata": {
    "collapsed": true
   },
   "outputs": [],
   "source": [
    "dEdge_vote_thresh = .5"
   ]
  },
  {
   "cell_type": "code",
   "execution_count": 12,
   "metadata": {
    "collapsed": true
   },
   "outputs": [],
   "source": [
    "dm._load_image()"
   ]
  },
  {
   "cell_type": "code",
   "execution_count": 14,
   "metadata": {
    "collapsed": true
   },
   "outputs": [],
   "source": [
    "edge_coords = dm.load_pipeline_result('edgeCoords', 'pkl')"
   ]
  },
  {
   "cell_type": "code",
   "execution_count": 16,
   "metadata": {
    "collapsed": false
   },
   "outputs": [
    {
     "data": {
      "text/html": [
       "<a href='tmp.jpg' target='_blank'>tmp.jpg</a><br>"
      ],
      "text/plain": [
       "/oasis/projects/nsf/csd181/yuncong/Brain/notebooks/tmp.jpg"
      ]
     },
     "execution_count": 16,
     "metadata": {},
     "output_type": "execute_result"
    }
   ],
   "source": [
    "img_edge = np.zeros_like(dm.image_rgb, np.float)\n",
    "img_edge_alpha = np.zeros_like(dm.image, np.float)\n",
    "for edge, s in dEdge_votes.iteritems():\n",
    "        cs = np.array(list(edge_coords[frozenset(edge)]))\n",
    "        img_edge[cs[:,0], cs[:,1]] = (1.,0,0)\n",
    "        img_edge_alpha[cs[:,0], cs[:,1]] = s\n",
    "    \n",
    "# img_n = (img-img.min())/(img.max()-img.min())\n",
    "img_edge_alpha = (img_edge_alpha-img_edge_alpha.min())/(img_edge_alpha.max()-img_edge_alpha.min())\n",
    "# img_edge = plt.cm.Reds(img_n)\n",
    "# img_edge_alpha = .8 * np.ones_like(img)\n",
    "# img_edge_alpha[img_n == 0] = 0\n",
    "display(img_edge_alpha)\n",
    "\n",
    "img_vote = alpha_blending(img_as_float(gray2rgb(dm.image)), img_edge, \n",
    "                          .2 * np.ones_like(dm.image), .8 * img_edge_alpha)\n",
    "img_vote[~dm.mask] = 0.\n",
    "display(img_vote)"
   ]
  },
  {
   "cell_type": "code",
   "execution_count": 37,
   "metadata": {
    "collapsed": false
   },
   "outputs": [
    {
     "data": {
      "text/html": [
       "<a href='tmp.jpg' target='_blank'>tmp.jpg</a><br>"
      ],
      "text/plain": [
       "/oasis/projects/nsf/csd181/yuncong/Brain/notebooks/tmp.jpg"
      ]
     },
     "execution_count": 37,
     "metadata": {},
     "output_type": "execute_result"
    }
   ],
   "source": [
    "img_edge = np.zeros_like(dm.image_rgb, np.float)\n",
    "img_edge_alpha = np.zeros_like(dm.image, np.float)\n",
    "for edge, s in dEdge_votes.iteritems():\n",
    "    if s > dEdge_vote_thresh:\n",
    "        cs = np.array(list(edge_coords[frozenset(edge)]))\n",
    "        img_edge[cs[:,0], cs[:,1]] = (1.,0,0)\n",
    "        img_edge_alpha[cs[:,0], cs[:,1]] = s\n",
    "    \n",
    "img_edge_alpha = (img_edge_alpha-img_edge_alpha.min())/(img_edge_alpha.max()-img_edge_alpha.min())\n",
    "display(img_edge_alpha)\n",
    "\n",
    "img_highvote = alpha_blending(img_as_float(gray2rgb(dm.image)), img_edge, \n",
    "                          .2 * np.ones_like(dm.image), .8 * img_edge_alpha)\n",
    "img_highvote[~dm.mask] = 0.\n",
    "display(img_highvote)"
   ]
  },
  {
   "cell_type": "code",
   "execution_count": 149,
   "metadata": {
    "collapsed": true
   },
   "outputs": [],
   "source": [
    "cluster_dist_mat = set_pairwise_distances(expansion_clusters, metric=2)"
   ]
  },
  {
   "cell_type": "code",
   "execution_count": 151,
   "metadata": {
    "collapsed": true
   },
   "outputs": [],
   "source": [
    "sp_groups_by_expansion_regions = group_clusters(dist_thresh=.8, distance_matrix=cluster_dist_mat)"
   ]
  },
  {
   "cell_type": "code",
   "execution_count": 38,
   "metadata": {
    "collapsed": true
   },
   "outputs": [],
   "source": [
    "good_edges = [dedge for dedge, v in dEdge_votes.iteritems() if v > dEdge_vote_thresh]\n",
    "good_edge_lens = [len(edge_coords[frozenset(e)]) for e in good_edges]\n",
    "winner_supporters = [supporters_all[dedge] for dedge in good_edges]"
   ]
  },
  {
   "cell_type": "code",
   "execution_count": null,
   "metadata": {
    "collapsed": true
   },
   "outputs": [],
   "source": [
    "supporter_dist_mat_jac = set_pairwise_distances(winner_supporters, metric='jaccard')"
   ]
  },
  {
   "cell_type": "code",
   "execution_count": 62,
   "metadata": {
    "collapsed": false
   },
   "outputs": [],
   "source": [
    "supporter_dist_mat_minjac = set_pairwise_distances(winner_supporters, metric='min-jaccard')"
   ]
  },
  {
   "cell_type": "code",
   "execution_count": 52,
   "metadata": {
    "collapsed": true
   },
   "outputs": [],
   "source": [
    "supporter_sim_thresh = .2"
   ]
  },
  {
   "cell_type": "code",
   "execution_count": 63,
   "metadata": {
    "collapsed": false
   },
   "outputs": [],
   "source": [
    "good_edges_grouped_by_supporters = group_clusters(dist_thresh=supporter_sim_thresh, \n",
    "                                                  distance_matrix=supporter_dist_mat_minjac,\n",
    "                                                 linkage='complete')"
   ]
  },
  {
   "cell_type": "code",
   "execution_count": 38,
   "metadata": {
    "collapsed": true
   },
   "outputs": [],
   "source": [
    "edges = edge_coords.keys()"
   ]
  },
  {
   "cell_type": "code",
   "execution_count": 66,
   "metadata": {
    "collapsed": true
   },
   "outputs": [],
   "source": [
    "edge_map = -1 * np.ones_like(dm.image, np.int)"
   ]
  },
  {
   "cell_type": "code",
   "execution_count": 67,
   "metadata": {
    "collapsed": false
   },
   "outputs": [],
   "source": [
    "for ei, (e, pts_set) in enumerate(edge_coords.iteritems()):\n",
    "    rs, cs = zip(*pts_set)\n",
    "    edge_map[np.array(rs), np.array(cs)] = ei"
   ]
  },
  {
   "cell_type": "code",
   "execution_count": 81,
   "metadata": {
    "collapsed": false
   },
   "outputs": [
    {
     "data": {
      "text/plain": [
       "{(1800, 4610),\n",
       " (1800, 4611),\n",
       " (1800, 4612),\n",
       " (1801, 4610),\n",
       " (1801, 4611),\n",
       " (1801, 4612),\n",
       " (1802, 4608),\n",
       " (1802, 4609),\n",
       " (1802, 4610),\n",
       " (1802, 4611),\n",
       " (1802, 4612),\n",
       " (1803, 4608),\n",
       " (1803, 4609),\n",
       " (1803, 4610),\n",
       " (1803, 4612),\n",
       " (1804, 4609),\n",
       " (1804, 4610),\n",
       " (1805, 4610)}"
      ]
     },
     "execution_count": 81,
     "metadata": {},
     "output_type": "execute_result"
    }
   ],
   "source": [
    "edge_coords[edges[0]]"
   ]
  },
  {
   "cell_type": "code",
   "execution_count": null,
   "metadata": {
    "collapsed": false
   },
   "outputs": [],
   "source": [
    "def f(edge_coords):\n",
    "    return [set(zip(*np.dstack([np.mgrid[max(r-5,0):min(r+5, dm.image_height), \n",
    "                                         max(c-5,0):min(c+5, dm.image_width)].reshape((2,-1)) \n",
    "                                for r,c in pts]).reshape((2,-1)).tolist())) \n",
    "            for e, pts in edge_coords]\n",
    "\n",
    "b = Parallel(n_jobs=16)(delayed(f)(s) for s in np.array_split(edge_coords.items(), 16))"
   ]
  },
  {
   "cell_type": "code",
   "execution_count": 151,
   "metadata": {
    "collapsed": true
   },
   "outputs": [],
   "source": [
    "neighborhood_pts = [p for bb in b for p in bb]"
   ]
  },
  {
   "cell_type": "code",
   "execution_count": 159,
   "metadata": {
    "collapsed": false
   },
   "outputs": [
    {
     "ename": "IndexError",
     "evalue": "index 5922 is out of bounds for axis 1 with size 5920",
     "output_type": "error",
     "traceback": [
      "\u001b[1;31m---------------------------------------------------------------------------\u001b[0m",
      "\u001b[1;31mIndexError\u001b[0m                                Traceback (most recent call last)",
      "\u001b[1;32m<ipython-input-159-c62d2d763605>\u001b[0m in \u001b[0;36m<module>\u001b[1;34m()\u001b[0m\n\u001b[0;32m      3\u001b[0m     \u001b[0mpts\u001b[0m \u001b[1;33m=\u001b[0m \u001b[0mneighborhood_pts\u001b[0m\u001b[1;33m[\u001b[0m\u001b[0mei\u001b[0m\u001b[1;33m]\u001b[0m\u001b[1;33m\u001b[0m\u001b[0m\n\u001b[0;32m      4\u001b[0m     \u001b[0mrs\u001b[0m\u001b[1;33m,\u001b[0m \u001b[0mcs\u001b[0m \u001b[1;33m=\u001b[0m \u001b[0mzip\u001b[0m\u001b[1;33m(\u001b[0m\u001b[1;33m*\u001b[0m\u001b[0mpts\u001b[0m\u001b[1;33m)\u001b[0m\u001b[1;33m\u001b[0m\u001b[0m\n\u001b[1;32m----> 5\u001b[1;33m     \u001b[0medge_neighbors\u001b[0m\u001b[1;33m[\u001b[0m\u001b[0mei\u001b[0m\u001b[1;33m]\u001b[0m \u001b[1;33m|=\u001b[0m \u001b[0mset\u001b[0m\u001b[1;33m(\u001b[0m\u001b[0medge_map\u001b[0m\u001b[1;33m[\u001b[0m\u001b[0mrs\u001b[0m\u001b[1;33m,\u001b[0m\u001b[0mcs\u001b[0m\u001b[1;33m]\u001b[0m\u001b[1;33m)\u001b[0m\u001b[1;33m\u001b[0m\u001b[0m\n\u001b[0m",
      "\u001b[1;31mIndexError\u001b[0m: index 5922 is out of bounds for axis 1 with size 5920"
     ]
    }
   ],
   "source": [
    "edge_neighbors = defaultdict(set)\n",
    "for ei, e in enumerate(edges):\n",
    "    pts = neighborhood_pts[ei]\n",
    "    rs, cs = zip(*pts)\n",
    "    edge_neighbors[ei] |= set(edge_map[rs,cs])"
   ]
  },
  {
   "cell_type": "code",
   "execution_count": 102,
   "metadata": {
    "collapsed": false,
    "scrolled": true
   },
   "outputs": [
    {
     "data": {
      "text/html": [
       "<a href='tmp.jpg' target='_blank'>tmp.jpg</a><br>"
      ],
      "text/plain": [
       "/oasis/projects/nsf/csd181/yuncong/Brain/notebooks/tmp.jpg"
      ]
     },
     "execution_count": 102,
     "metadata": {},
     "output_type": "execute_result"
    }
   ],
   "source": [
    "display(dm.visualize_edge_sets(dedge_sets_sorted_by_size[:20], img=segmentation_vis, \n",
    "                               text=True, directed=True))"
   ]
  },
  {
   "cell_type": "code",
   "execution_count": 101,
   "metadata": {
    "collapsed": false
   },
   "outputs": [
    {
     "data": {
      "text/plain": [
       "151"
      ]
     },
     "execution_count": 101,
     "metadata": {},
     "output_type": "execute_result"
    }
   ],
   "source": [
    "len(dedge_sets)"
   ]
  },
  {
   "cell_type": "code",
   "execution_count": 100,
   "metadata": {
    "collapsed": true
   },
   "outputs": [],
   "source": [
    "dedge_sets = [[good_edges[i] for i in g] for g in good_edges_grouped_by_supporters if len(g) > 10]\n",
    "dedge_set_lens = [sum([len(edge_coords[frozenset(e)]) for e in es]) for es in dedge_sets]\n",
    "dedge_sets_sorted_by_size = [x for (y,x) in sorted(zip(dedge_set_lens,dedge_sets), reverse=True)]"
   ]
  },
  {
   "cell_type": "code",
   "execution_count": 64,
   "metadata": {
    "collapsed": false
   },
   "outputs": [],
   "source": [
    "edge_sets = [[frozenset(good_edges[i]) for i in g] for g in good_edges_grouped_by_supporters if len(g) > 10]\n",
    "edge_sets_sorted_by_size = sorted(edge_sets, key=len, reverse=True)"
   ]
  },
  {
   "cell_type": "code",
   "execution_count": null,
   "metadata": {
    "collapsed": true
   },
   "outputs": [],
   "source": [
    "# threshold the edgelet votes\n",
    "# winner_dEdges = [dedge for dedge, v in dEdge_votes.iteritems() if v > dEdge_vote_thresh]\n",
    "\n",
    "# group the winning edgelets, according to their supporter sets\n",
    "# winner_supporters = [supporters_all[dedge] for dedge in winner_dEdges]\n",
    "\n",
    "winner_supporters = [supporters_all[dedge] for dedge in dEdge_votes.keys()]\n",
    "supporter_D = set_pairwise_distances(winner_supporters, metric=1)\n",
    "\n",
    "winner_indices_grouped_by_supporters = group_clusters(clusters=winner_supporters, \n",
    "                                                      dist_thresh=supporter_sim_thresh, \n",
    "                                                      distance_matrix=supporter_D)\n",
    "#     print len(winner_indices_grouped_by_supporters), 'alliances'\n",
    "winners_grouped_by_supporters = [[winner_dEdges[i] for i in g] for g in winner_indices_grouped_by_supporters]\n",
    "\n",
    "alliance_sizes = np.array(map(len, winners_grouped_by_supporters))"
   ]
  },
  {
   "cell_type": "code",
   "execution_count": 24,
   "metadata": {
    "collapsed": true
   },
   "outputs": [],
   "source": [
    "# pick edgelet groups with more than certain # of edgelets\n",
    "big_alliance_indices = np.where(alliance_sizes > group_size_thresh)[0]\n",
    "\n",
    "#     print len(big_alliance_indices), 'big alliances'\n",
    "big_alliance_dEdges = [winners_grouped_by_supporters[ba_ind] for ba_ind in big_alliance_indices]\n",
    "big_alliance_winnerIndices = [winner_indices_grouped_by_supporters[ba_ind] for ba_ind in big_alliance_indices]\n",
    "big_alliance_supporters = [set.union(*[set(winner_supporters[i]) for i in a]) for a in big_alliance_winnerIndices]\n",
    "# define supporter set of an edgelet group as the union of each supporter set\n",
    "\n",
    "# sort edgelet groups by total vote of all edgelets\n",
    "good_edgeSet_tuple_sorted_by_score = sorted([(np.sum([dEdge_votes[e] for e in edges]), edges, alliance_ind)\n",
    "                                                  for alliance_ind, edges in enumerate(big_alliance_dEdges)\n",
    "                                                  if len(edges) > 10], reverse=True)\n",
    "good_edgeSet_scores_sorted, good_edgeSets_sorted, good_edgeSet_indices_sorted = zip(*good_edgeSet_tuple_sorted_by_score)  \n",
    "good_edgeSet_supporters = [ big_alliance_supporters[alliance_i] for alliance_i in good_edgeSet_indices_sorted]\n",
    "    # give this to Idan's web interface\n",
    "    \n",
    "#     print len(good_edgeSet_tuple_sorted_by_score), 'good boundaries'\n",
    "    \n",
    "    # These edgelet groups constitute Open Boundary landmarks.\n",
    "    \n",
    "#     vis = dm.visualize_edge_sets(good_edgeSets_sorted[:10])\n",
    "#     dm.save_pipeline_result(vis, 'openBoundariesTop10', 'jpg')\n",
    "    \n",
    "#     dm.save_pipeline_result(good_edgeSet_tuple_sorted_by_score, 'openBoundaries', 'pkl')\n",
    "#     dm.save_pipeline_result(good_edgeSet_supporters, 'openBoundariesSupporters', 'pkl')"
   ]
  },
  {
   "cell_type": "code",
   "execution_count": 10,
   "metadata": {
    "collapsed": true
   },
   "outputs": [],
   "source": [
    "# dm = DataManager(generate_hierarchy=False, stack='RS140', resol='x5', section=7)\n",
    "# t = dm.load_pipeline_result('openBoundaries', 'pkl')"
   ]
  },
  {
   "cell_type": "code",
   "execution_count": 12,
   "metadata": {
    "collapsed": true
   },
   "outputs": [],
   "source": [
    "# score, edgesets, _ = zip(*t)"
   ]
  },
  {
   "cell_type": "code",
   "execution_count": 25,
   "metadata": {
    "collapsed": false
   },
   "outputs": [
    {
     "data": {
      "text/html": [
       "<a href='tmp.jpg' target='_blank'>tmp.jpg</a><br>"
      ],
      "text/plain": [
       "/oasis/projects/nsf/csd181/yuncong/Brain/notebooks/tmp.jpg"
      ]
     },
     "execution_count": 25,
     "metadata": {},
     "output_type": "execute_result"
    }
   ],
   "source": [
    "display(dm.visualize_edge_sets(good_edgeSets_sorted, text=True))"
   ]
  },
  {
   "cell_type": "code",
   "execution_count": 16,
   "metadata": {
    "collapsed": false
   },
   "outputs": [
    {
     "name": "stdout",
     "output_type": "stream",
     "text": [
      "saved /home/yuncong/project/DavidData2014results/RS140/0015/RS140_x5_0015_gabor-blueNisslWide-segm-blueNisslRegular-vq-blueNissl_openBoundariesTop10.jpg\n",
      "saved /home/yuncong/project/DavidData2014results/RS140/0013/RS140_x5_0013_gabor-blueNisslWide-segm-blueNisslRegular-vq-blueNissl_openBoundariesTop10.jpg\n",
      "saved /home/yuncong/project/DavidData2014results/RS140/0014/RS140_x5_0014_gabor-blueNisslWide-segm-blueNisslRegular-vq-blueNissl_openBoundariesTop10.jpg\n",
      "saved /home/yuncong/project/DavidData2014results/RS140/0012/RS140_x5_0012_gabor-blueNisslWide-segm-blueNisslRegular-vq-blueNissl_openBoundariesTop10.jpg\n",
      "saved /home/yuncong/project/DavidData2014results/RS140/0010/RS140_x5_0010_gabor-blueNisslWide-segm-blueNisslRegular-vq-blueNissl_openBoundariesTop10.jpg\n",
      "saved /home/yuncong/project/DavidData2014results/RS140/0009/RS140_x5_0009_gabor-blueNisslWide-segm-blueNisslRegular-vq-blueNissl_openBoundariesTop10.jpg\n",
      "saved /home/yuncong/project/DavidData2014results/RS140/0007/RS140_x5_0007_gabor-blueNisslWide-segm-blueNisslRegular-vq-blueNissl_openBoundariesTop10.jpg\n",
      "saved /home/yuncong/project/DavidData2014results/RS140/0001/RS140_x5_0001_gabor-blueNisslWide-segm-blueNisslRegular-vq-blueNissl_openBoundariesTop10.jpg\n",
      "saved /home/yuncong/project/DavidData2014results/RS140/0011/RS140_x5_0011_gabor-blueNisslWide-segm-blueNisslRegular-vq-blueNissl_openBoundariesTop10.jpg\n",
      "saved /home/yuncong/project/DavidData2014results/RS140/0000/RS140_x5_0000_gabor-blueNisslWide-segm-blueNisslRegular-vq-blueNissl_openBoundariesTop10.jpg\n",
      "saved /home/yuncong/project/DavidData2014results/RS140/0005/RS140_x5_0005_gabor-blueNisslWide-segm-blueNisslRegular-vq-blueNissl_openBoundariesTop10.jpg\n",
      "saved /home/yuncong/project/DavidData2014results/RS140/0004/RS140_x5_0004_gabor-blueNisslWide-segm-blueNisslRegular-vq-blueNissl_openBoundariesTop10.jpg\n",
      "saved /home/yuncong/project/DavidData2014results/RS140/0003/RS140_x5_0003_gabor-blueNisslWide-segm-blueNisslRegular-vq-blueNissl_openBoundariesTop10.jpg\n",
      "saved /home/yuncong/project/DavidData2014results/RS140/0006/RS140_x5_0006_gabor-blueNisslWide-segm-blueNisslRegular-vq-blueNissl_openBoundariesTop10.jpg\n",
      "saved /home/yuncong/project/DavidData2014results/RS140/0002/RS140_x5_0002_gabor-blueNisslWide-segm-blueNisslRegular-vq-blueNissl_openBoundariesTop10.jpg\n",
      "saved /home/yuncong/project/DavidData2014results/RS140/0008/RS140_x5_0008_gabor-blueNisslWide-segm-blueNisslRegular-vq-blueNissl_openBoundariesTop10.jpg\n",
      "saved /home/yuncong/project/DavidData2014results/RS140/0015/RS140_x5_0015_gabor-blueNisslWide-segm-blueNisslRegular-vq-blueNissl_openBoundaries.pkl\n",
      "saved /home/yuncong/project/DavidData2014results/RS140/0013/RS140_x5_0013_gabor-blueNisslWide-segm-blueNisslRegular-vq-blueNissl_openBoundaries.pkl\n",
      "saved /home/yuncong/project/DavidData2014results/RS140/0014/RS140_x5_0014_gabor-blueNisslWide-segm-blueNisslRegular-vq-blueNissl_openBoundaries.pkl\n",
      "saved /home/yuncong/project/DavidData2014results/RS140/0012/RS140_x5_0012_gabor-blueNisslWide-segm-blueNisslRegular-vq-blueNissl_openBoundaries.pkl\n",
      "saved /home/yuncong/project/DavidData2014results/RS140/0010/RS140_x5_0010_gabor-blueNisslWide-segm-blueNisslRegular-vq-blueNissl_openBoundaries.pkl\n",
      "saved /home/yuncong/project/DavidData2014results/RS140/0009/RS140_x5_0009_gabor-blueNisslWide-segm-blueNisslRegular-vq-blueNissl_openBoundaries.pkl\n",
      "saved /home/yuncong/project/DavidData2014results/RS140/0007/RS140_x5_0007_gabor-blueNisslWide-segm-blueNisslRegular-vq-blueNissl_openBoundaries.pkl\n",
      "saved /home/yuncong/project/DavidData2014results/RS140/0001/RS140_x5_0001_gabor-blueNisslWide-segm-blueNisslRegular-vq-blueNissl_openBoundaries.pkl\n",
      "saved /home/yuncong/project/DavidData2014results/RS140/0011/RS140_x5_0011_gabor-blueNisslWide-segm-blueNisslRegular-vq-blueNissl_openBoundaries.pkl\n",
      "saved /home/yuncong/project/DavidData2014results/RS140/0000/RS140_x5_0000_gabor-blueNisslWide-segm-blueNisslRegular-vq-blueNissl_openBoundaries.pkl\n",
      "saved /home/yuncong/project/DavidData2014results/RS140/0005/RS140_x5_0005_gabor-blueNisslWide-segm-blueNisslRegular-vq-blueNissl_openBoundaries.pkl\n",
      "saved /home/yuncong/project/DavidData2014results/RS140/0004/RS140_x5_0004_gabor-blueNisslWide-segm-blueNisslRegular-vq-blueNissl_openBoundaries.pkl\n",
      "saved /home/yuncong/project/DavidData2014results/RS140/0003/RS140_x5_0003_gabor-blueNisslWide-segm-blueNisslRegular-vq-blueNissl_openBoundaries.pkl\n",
      "saved /home/yuncong/project/DavidData2014results/RS140/0006/RS140_x5_0006_gabor-blueNisslWide-segm-blueNisslRegular-vq-blueNissl_openBoundaries.pkl\n",
      "saved /home/yuncong/project/DavidData2014results/RS140/0002/RS140_x5_0002_gabor-blueNisslWide-segm-blueNisslRegular-vq-blueNissl_openBoundaries.pkl\n",
      "saved /home/yuncong/project/DavidData2014results/RS140/0008/RS140_x5_0008_gabor-blueNisslWide-segm-blueNisslRegular-vq-blueNissl_openBoundaries.pkl\n",
      "saved /home/yuncong/project/DavidData2014results/RS140/0015/RS140_x5_0015_gabor-blueNisslWide-segm-blueNisslRegular-vq-blueNissl_openBoundariesSupporters.pkl\n",
      "saved /home/yuncong/project/DavidData2014results/RS140/0013/RS140_x5_0013_gabor-blueNisslWide-segm-blueNisslRegular-vq-blueNissl_openBoundariesSupporters.pkl\n",
      "saved /home/yuncong/project/DavidData2014results/RS140/0014/RS140_x5_0014_gabor-blueNisslWide-segm-blueNisslRegular-vq-blueNissl_openBoundariesSupporters.pkl\n",
      "saved /home/yuncong/project/DavidData2014results/RS140/0012/RS140_x5_0012_gabor-blueNisslWide-segm-blueNisslRegular-vq-blueNissl_openBoundariesSupporters.pkl\n",
      "saved /home/yuncong/project/DavidData2014results/RS140/0010/RS140_x5_0010_gabor-blueNisslWide-segm-blueNisslRegular-vq-blueNissl_openBoundariesSupporters.pkl\n",
      "saved /home/yuncong/project/DavidData2014results/RS140/0009/RS140_x5_0009_gabor-blueNisslWide-segm-blueNisslRegular-vq-blueNissl_openBoundariesSupporters.pkl\n",
      "saved /home/yuncong/project/DavidData2014results/RS140/0007/RS140_x5_0007_gabor-blueNisslWide-segm-blueNisslRegular-vq-blueNissl_openBoundariesSupporters.pkl\n",
      "saved /home/yuncong/project/DavidData2014results/RS140/0001/RS140_x5_0001_gabor-blueNisslWide-segm-blueNisslRegular-vq-blueNissl_openBoundariesSupporters.pkl\n",
      "saved /home/yuncong/project/DavidData2014results/RS140/0011/RS140_x5_0011_gabor-blueNisslWide-segm-blueNisslRegular-vq-blueNissl_openBoundariesSupporters.pkl\n",
      "saved /home/yuncong/project/DavidData2014results/RS140/0000/RS140_x5_0000_gabor-blueNisslWide-segm-blueNisslRegular-vq-blueNissl_openBoundariesSupporters.pkl\n",
      "saved /home/yuncong/project/DavidData2014results/RS140/0005/RS140_x5_0005_gabor-blueNisslWide-segm-blueNisslRegular-vq-blueNissl_openBoundariesSupporters.pkl\n",
      "saved /home/yuncong/project/DavidData2014results/RS140/0004/RS140_x5_0004_gabor-blueNisslWide-segm-blueNisslRegular-vq-blueNissl_openBoundariesSupporters.pkl\n",
      "saved /home/yuncong/project/DavidData2014results/RS140/0003/RS140_x5_0003_gabor-blueNisslWide-segm-blueNisslRegular-vq-blueNissl_openBoundariesSupporters.pkl\n",
      "saved /home/yuncong/project/DavidData2014results/RS140/0006/RS140_x5_0006_gabor-blueNisslWide-segm-blueNisslRegular-vq-blueNissl_openBoundariesSupporters.pkl\n",
      "saved /home/yuncong/project/DavidData2014results/RS140/0002/RS140_x5_0002_gabor-blueNisslWide-segm-blueNisslRegular-vq-blueNissl_openBoundariesSupporters.pkl\n",
      "saved /home/yuncong/project/DavidData2014results/RS140/0008/RS140_x5_0008_gabor-blueNisslWide-segm-blueNisslRegular-vq-blueNissl_openBoundariesSupporters.pkl\n",
      "saved /home/yuncong/project/DavidData2014results/RS140/0016/RS140_x5_0016_gabor-blueNisslWide-segm-blueNisslRegular-vq-blueNissl_openBoundariesTop10.jpgsaved /home/yuncong/project/DavidData2014results/RS140/0017/RS140_x5_0017_gabor-blueNisslWide-segm-blueNisslRegular-vq-blueNissl_openBoundariesTop10.jpgsaved /home/yuncong/project/DavidData2014results/RS140/0018/RS140_x5_0018_gabor-blueNisslWide-segm-blueNisslRegular-vq-blueNissl_openBoundariesTop10.jpgsaved /home/yuncong/project/DavidData2014results/RS140/0019/RS140_x5_0019_gabor-blueNisslWide-segm-blueNisslRegular-vq-blueNissl_openBoundariesTop10.jpgsaved /home/yuncong/project/DavidData2014results/RS140/0020/RS140_x5_0020_gabor-blueNisslWide-segm-blueNisslRegular-vq-blueNissl_openBoundariesTop10.jpgsaved /home/yuncong/project/DavidData2014results/RS140/0021/RS140_x5_0021_gabor-blueNisslWide-segm-blueNisslRegular-vq-blueNissl_openBoundariesTop10.jpgsaved /home/yuncong/project/DavidData2014results/RS140/0022/RS140_x5_0022_gabor-blueNisslWide-segm-blueNisslRegular-vq-blueNissl_openBoundariesTop10.jpgsaved /home/yuncong/project/DavidData2014results/RS140/0023/RS140_x5_0023_gabor-blueNisslWide-segm-blueNisslRegular-vq-blueNissl_openBoundariesTop10.jpgsaved /home/yuncong/project/DavidData2014results/RS140/0024/RS140_x5_0024_gabor-blueNisslWide-segm-blueNisslRegular-vq-blueNissl_openBoundariesTop10.jpgsaved /home/yuncong/project/DavidData2014results/RS140/0025/RS140_x5_0025_gabor-blueNisslWide-segm-blueNisslRegular-vq-blueNissl_openBoundariesTop10.jpgsaved /home/yuncong/project/DavidData2014results/RS140/0026/RS140_x5_0026_gabor-blueNisslWide-segm-blueNisslRegular-vq-blueNissl_openBoundariesTop10.jpgsaved /home/yuncong/project/DavidData2014results/RS140/0027/RS140_x5_0027_gabor-blueNisslWide-segm-blueNisslRegular-vq-blueNissl_openBoundariesTop10.jpgsaved /home/yuncong/project/DavidData2014results/RS140/0028/RS140_x5_0028_gabor-blueNisslWide-segm-blueNisslRegular-vq-blueNissl_openBoundariesTop10.jpgsaved /home/yuncong/project/DavidData2014results/RS140/0029/RS140_x5_0029_gabor-blueNisslWide-segm-blueNisslRegular-vq-blueNissl_openBoundariesTop10.jpgsaved /home/yuncong/project/DavidData2014results/RS140/0031/RS140_x5_0031_gabor-blueNisslWide-segm-blueNisslRegular-vq-blueNissl_openBoundariesTop10.jpgsaved /home/yuncong/project/DavidData2014results/RS140/0032/RS140_x5_0032_gabor-blueNisslWide-segm-blueNisslRegular-vq-blueNissl_openBoundariesTop10.jpg\n",
      "\n",
      "\n",
      "\n",
      "\n",
      "\n",
      "\n",
      "\n",
      "\n",
      "\n",
      "\n",
      "\n",
      "\n",
      "\n",
      "\n",
      "\n",
      "saved /home/yuncong/project/DavidData2014results/RS140/0016/RS140_x5_0016_gabor-blueNisslWide-segm-blueNisslRegular-vq-blueNissl_openBoundaries.pkl\n",
      "saved /home/yuncong/project/DavidData2014results/RS140/0017/RS140_x5_0017_gabor-blueNisslWide-segm-blueNisslRegular-vq-blueNissl_openBoundaries.pkl\n",
      "saved /home/yuncong/project/DavidData2014results/RS140/0018/RS140_x5_0018_gabor-blueNisslWide-segm-blueNisslRegular-vq-blueNissl_openBoundaries.pkl\n",
      "saved /home/yuncong/project/DavidData2014results/RS140/0019/RS140_x5_0019_gabor-blueNisslWide-segm-blueNisslRegular-vq-blueNissl_openBoundaries.pkl\n",
      "saved /home/yuncong/project/DavidData2014results/RS140/0020/RS140_x5_0020_gabor-blueNisslWide-segm-blueNisslRegular-vq-blueNissl_openBoundaries.pkl\n",
      "saved /home/yuncong/project/DavidData2014results/RS140/0021/RS140_x5_0021_gabor-blueNisslWide-segm-blueNisslRegular-vq-blueNissl_openBoundaries.pkl\n",
      "saved /home/yuncong/project/DavidData2014results/RS140/0022/RS140_x5_0022_gabor-blueNisslWide-segm-blueNisslRegular-vq-blueNissl_openBoundaries.pkl\n",
      "saved /home/yuncong/project/DavidData2014results/RS140/0023/RS140_x5_0023_gabor-blueNisslWide-segm-blueNisslRegular-vq-blueNissl_openBoundaries.pkl\n",
      "saved /home/yuncong/project/DavidData2014results/RS140/0024/RS140_x5_0024_gabor-blueNisslWide-segm-blueNisslRegular-vq-blueNissl_openBoundaries.pkl\n",
      "saved /home/yuncong/project/DavidData2014results/RS140/0025/RS140_x5_0025_gabor-blueNisslWide-segm-blueNisslRegular-vq-blueNissl_openBoundaries.pkl\n",
      "saved /home/yuncong/project/DavidData2014results/RS140/0026/RS140_x5_0026_gabor-blueNisslWide-segm-blueNisslRegular-vq-blueNissl_openBoundaries.pkl\n",
      "saved /home/yuncong/project/DavidData2014results/RS140/0027/RS140_x5_0027_gabor-blueNisslWide-segm-blueNisslRegular-vq-blueNissl_openBoundaries.pkl\n",
      "saved /home/yuncong/project/DavidData2014results/RS140/0028/RS140_x5_0028_gabor-blueNisslWide-segm-blueNisslRegular-vq-blueNissl_openBoundaries.pkl\n",
      "saved /home/yuncong/project/DavidData2014results/RS140/0029/RS140_x5_0029_gabor-blueNisslWide-segm-blueNisslRegular-vq-blueNissl_openBoundaries.pkl\n",
      "saved /home/yuncong/project/DavidData2014results/RS140/0031/RS140_x5_0031_gabor-blueNisslWide-segm-blueNisslRegular-vq-blueNissl_openBoundaries.pkl\n",
      "saved /home/yuncong/project/DavidData2014results/RS140/0032/RS140_x5_0032_gabor-blueNisslWide-segm-blueNisslRegular-vq-blueNissl_openBoundaries.pkl\n",
      "saved /home/yuncong/project/DavidData2014results/RS140/0016/RS140_x5_0016_gabor-blueNisslWide-segm-blueNisslRegular-vq-blueNissl_openBoundariesSupporters.pkl\n",
      "saved /home/yuncong/project/DavidData2014results/RS140/0017/RS140_x5_0017_gabor-blueNisslWide-segm-blueNisslRegular-vq-blueNissl_openBoundariesSupporters.pkl\n",
      "saved /home/yuncong/project/DavidData2014results/RS140/0018/RS140_x5_0018_gabor-blueNisslWide-segm-blueNisslRegular-vq-blueNissl_openBoundariesSupporters.pkl\n",
      "saved /home/yuncong/project/DavidData2014results/RS140/0019/RS140_x5_0019_gabor-blueNisslWide-segm-blueNisslRegular-vq-blueNissl_openBoundariesSupporters.pkl\n",
      "saved /home/yuncong/project/DavidData2014results/RS140/0020/RS140_x5_0020_gabor-blueNisslWide-segm-blueNisslRegular-vq-blueNissl_openBoundariesSupporters.pkl\n",
      "saved /home/yuncong/project/DavidData2014results/RS140/0021/RS140_x5_0021_gabor-blueNisslWide-segm-blueNisslRegular-vq-blueNissl_openBoundariesSupporters.pkl\n",
      "saved /home/yuncong/project/DavidData2014results/RS140/0022/RS140_x5_0022_gabor-blueNisslWide-segm-blueNisslRegular-vq-blueNissl_openBoundariesSupporters.pkl\n",
      "saved /home/yuncong/project/DavidData2014results/RS140/0023/RS140_x5_0023_gabor-blueNisslWide-segm-blueNisslRegular-vq-blueNissl_openBoundariesSupporters.pkl\n",
      "saved /home/yuncong/project/DavidData2014results/RS140/0024/RS140_x5_0024_gabor-blueNisslWide-segm-blueNisslRegular-vq-blueNissl_openBoundariesSupporters.pkl\n",
      "saved /home/yuncong/project/DavidData2014results/RS140/0025/RS140_x5_0025_gabor-blueNisslWide-segm-blueNisslRegular-vq-blueNissl_openBoundariesSupporters.pkl\n",
      "saved /home/yuncong/project/DavidData2014results/RS140/0026/RS140_x5_0026_gabor-blueNisslWide-segm-blueNisslRegular-vq-blueNissl_openBoundariesSupporters.pkl\n",
      "saved /home/yuncong/project/DavidData2014results/RS140/0027/RS140_x5_0027_gabor-blueNisslWide-segm-blueNisslRegular-vq-blueNissl_openBoundariesSupporters.pkl\n",
      "saved /home/yuncong/project/DavidData2014results/RS140/0028/RS140_x5_0028_gabor-blueNisslWide-segm-blueNisslRegular-vq-blueNissl_openBoundariesSupporters.pkl\n",
      "saved /home/yuncong/project/DavidData2014results/RS140/0029/RS140_x5_0029_gabor-blueNisslWide-segm-blueNisslRegular-vq-blueNissl_openBoundariesSupporters.pkl\n",
      "saved /home/yuncong/project/DavidData2014results/RS140/0031/RS140_x5_0031_gabor-blueNisslWide-segm-blueNisslRegular-vq-blueNissl_openBoundariesSupporters.pkl\n",
      "saved /home/yuncong/project/DavidData2014results/RS140/0032/RS140_x5_0032_gabor-blueNisslWide-segm-blueNisslRegular-vq-blueNissl_openBoundariesSupporters.pkl\n",
      "saved /home/yuncong/project/DavidData2014results/RS140/0034/RS140_x5_0034_gabor-blueNisslWide-segm-blueNisslRegular-vq-blueNissl_openBoundariesTop10.jpgsaved /home/yuncong/project/DavidData2014results/RS140/0030/RS140_x5_0030_gabor-blueNisslWide-segm-blueNisslRegular-vq-blueNissl_openBoundariesTop10.jpgsaved /home/yuncong/project/DavidData2014results/RS140/0033/RS140_x5_0033_gabor-blueNisslWide-segm-blueNisslRegular-vq-blueNissl_openBoundariesTop10.jpgsaved /home/yuncong/project/DavidData2014results/RS140/0036/RS140_x5_0036_gabor-blueNisslWide-segm-blueNisslRegular-vq-blueNissl_openBoundariesTop10.jpgsaved /home/yuncong/project/DavidData2014results/RS140/0035/RS140_x5_0035_gabor-blueNisslWide-segm-blueNisslRegular-vq-blueNissl_openBoundariesTop10.jpg\n",
      "\n",
      "\n",
      "\n",
      "\n",
      "saved /home/yuncong/project/DavidData2014results/RS140/0034/RS140_x5_0034_gabor-blueNisslWide-segm-blueNisslRegular-vq-blueNissl_openBoundaries.pkl\n",
      "saved /home/yuncong/project/DavidData2014results/RS140/0030/RS140_x5_0030_gabor-blueNisslWide-segm-blueNisslRegular-vq-blueNissl_openBoundaries.pkl\n",
      "saved /home/yuncong/project/DavidData2014results/RS140/0033/RS140_x5_0033_gabor-blueNisslWide-segm-blueNisslRegular-vq-blueNissl_openBoundaries.pkl\n",
      "saved /home/yuncong/project/DavidData2014results/RS140/0036/RS140_x5_0036_gabor-blueNisslWide-segm-blueNisslRegular-vq-blueNissl_openBoundaries.pkl\n",
      "saved /home/yuncong/project/DavidData2014results/RS140/0035/RS140_x5_0035_gabor-blueNisslWide-segm-blueNisslRegular-vq-blueNissl_openBoundaries.pkl\n",
      "saved /home/yuncong/project/DavidData2014results/RS140/0034/RS140_x5_0034_gabor-blueNisslWide-segm-blueNisslRegular-vq-blueNissl_openBoundariesSupporters.pkl\n",
      "saved /home/yuncong/project/DavidData2014results/RS140/0030/RS140_x5_0030_gabor-blueNisslWide-segm-blueNisslRegular-vq-blueNissl_openBoundariesSupporters.pkl\n",
      "saved /home/yuncong/project/DavidData2014results/RS140/0033/RS140_x5_0033_gabor-blueNisslWide-segm-blueNisslRegular-vq-blueNissl_openBoundariesSupporters.pkl\n",
      "saved /home/yuncong/project/DavidData2014results/RS140/0036/RS140_x5_0036_gabor-blueNisslWide-segm-blueNisslRegular-vq-blueNissl_openBoundariesSupporters.pkl\n",
      "saved /home/yuncong/project/DavidData2014results/RS140/0035/RS140_x5_0035_gabor-blueNisslWide-segm-blueNisslRegular-vq-blueNissl_openBoundariesSupporters.pkl\n"
     ]
    },
    {
     "name": "stderr",
     "output_type": "stream",
     "text": [
      "/oasis/projects/nsf/csd181/yuncong/virtualenv-1.9.1/yuncongve/lib/python2.7/site-packages/IPython/kernel/__main__.py:29: UserWarning: Multiprocessing-backed parallel loops cannot be nested, setting n_jobs=1\n",
      "/oasis/projects/nsf/csd181/yuncong/virtualenv-1.9.1/yuncongve/lib/python2.7/site-packages/IPython/kernel/__main__.py:29: UserWarning: Multiprocessing-backed parallel loops cannot be nested, setting n_jobs=1\n",
      "/oasis/projects/nsf/csd181/yuncong/virtualenv-1.9.1/yuncongve/lib/python2.7/site-packages/IPython/kernel/__main__.py:29: UserWarning: Multiprocessing-backed parallel loops cannot be nested, setting n_jobs=1\n",
      "/oasis/projects/nsf/csd181/yuncong/virtualenv-1.9.1/yuncongve/lib/python2.7/site-packages/IPython/kernel/__main__.py:29: UserWarning: Multiprocessing-backed parallel loops cannot be nested, setting n_jobs=1\n",
      "/oasis/projects/nsf/csd181/yuncong/virtualenv-1.9.1/yuncongve/lib/python2.7/site-packages/IPython/kernel/__main__.py:29: UserWarning: Multiprocessing-backed parallel loops cannot be nested, setting n_jobs=1\n",
      "/oasis/projects/nsf/csd181/yuncong/virtualenv-1.9.1/yuncongve/lib/python2.7/site-packages/IPython/kernel/__main__.py:29: UserWarning: Multiprocessing-backed parallel loops cannot be nested, setting n_jobs=1\n",
      "/oasis/projects/nsf/csd181/yuncong/virtualenv-1.9.1/yuncongve/lib/python2.7/site-packages/IPython/kernel/__main__.py:29: UserWarning: Multiprocessing-backed parallel loops cannot be nested, setting n_jobs=1\n",
      "/oasis/projects/nsf/csd181/yuncong/virtualenv-1.9.1/yuncongve/lib/python2.7/site-packages/IPython/kernel/__main__.py:29: UserWarning: Multiprocessing-backed parallel loops cannot be nested, setting n_jobs=1\n",
      "/oasis/projects/nsf/csd181/yuncong/virtualenv-1.9.1/yuncongve/lib/python2.7/site-packages/IPython/kernel/__main__.py:29: UserWarning: Multiprocessing-backed parallel loops cannot be nested, setting n_jobs=1\n",
      "/oasis/projects/nsf/csd181/yuncong/virtualenv-1.9.1/yuncongve/lib/python2.7/site-packages/IPython/kernel/__main__.py:29: UserWarning: Multiprocessing-backed parallel loops cannot be nested, setting n_jobs=1\n",
      "/oasis/projects/nsf/csd181/yuncong/virtualenv-1.9.1/yuncongve/lib/python2.7/site-packages/IPython/kernel/__main__.py:29: UserWarning: Multiprocessing-backed parallel loops cannot be nested, setting n_jobs=1\n",
      "/oasis/projects/nsf/csd181/yuncong/virtualenv-1.9.1/yuncongve/lib/python2.7/site-packages/IPython/kernel/__main__.py:29: UserWarning: Multiprocessing-backed parallel loops cannot be nested, setting n_jobs=1\n",
      "/oasis/projects/nsf/csd181/yuncong/virtualenv-1.9.1/yuncongve/lib/python2.7/site-packages/IPython/kernel/__main__.py:29: UserWarning: Multiprocessing-backed parallel loops cannot be nested, setting n_jobs=1\n",
      "/oasis/projects/nsf/csd181/yuncong/virtualenv-1.9.1/yuncongve/lib/python2.7/site-packages/IPython/kernel/__main__.py:29: UserWarning: Multiprocessing-backed parallel loops cannot be nested, setting n_jobs=1\n",
      "/oasis/projects/nsf/csd181/yuncong/virtualenv-1.9.1/yuncongve/lib/python2.7/site-packages/IPython/kernel/__main__.py:29: UserWarning: Multiprocessing-backed parallel loops cannot be nested, setting n_jobs=1\n",
      "/oasis/projects/nsf/csd181/yuncong/virtualenv-1.9.1/yuncongve/lib/python2.7/site-packages/IPython/kernel/__main__.py:29: UserWarning: Multiprocessing-backed parallel loops cannot be nested, setting n_jobs=1\n"
     ]
    }
   ],
   "source": [
    "b = time.time()\n",
    "Parallel(n_jobs=16)(delayed(detect_open_boundaries)(sec_ind) for sec_ind in slide_indices)\n",
    "a = time.time()\n",
    "print 'detect_open_boundaries', a - b"
   ]
  },
  {
   "cell_type": "code",
   "execution_count": 18,
   "metadata": {
    "collapsed": false
   },
   "outputs": [
    {
     "name": "stdout",
     "output_type": "stream",
     "text": [
      "detect_open_boundaries 14.6288380623\n",
      "saved /home/yuncong/project/DavidData2014results/RS140/0007/RS140_x5_0007_gabor-blueNisslWide-segm-blueNisslRegular-vq-blueNissl_boundaryModels.pkl\n",
      "saved /home/yuncong/project/DavidData2014results/RS140/0006/RS140_x5_0006_gabor-blueNisslWide-segm-blueNisslRegular-vq-blueNissl_boundaryModels.pkl\n",
      "saved /home/yuncong/project/DavidData2014results/RS140/0005/RS140_x5_0005_gabor-blueNisslWide-segm-blueNisslRegular-vq-blueNissl_boundaryModels.pkl\n",
      "saved /home/yuncong/project/DavidData2014results/RS140/0003/RS140_x5_0003_gabor-blueNisslWide-segm-blueNisslRegular-vq-blueNissl_boundaryModels.pkl\n",
      "saved /home/yuncong/project/DavidData2014results/RS140/0001/RS140_x5_0001_gabor-blueNisslWide-segm-blueNisslRegular-vq-blueNissl_boundaryModels.pkl\n",
      "saved /home/yuncong/project/DavidData2014results/RS140/0010/RS140_x5_0010_gabor-blueNisslWide-segm-blueNisslRegular-vq-blueNissl_boundaryModels.pkl\n",
      "saved /home/yuncong/project/DavidData2014results/RS140/0002/RS140_x5_0002_gabor-blueNisslWide-segm-blueNisslRegular-vq-blueNissl_boundaryModels.pkl\n",
      "saved /home/yuncong/project/DavidData2014results/RS140/0000/RS140_x5_0000_gabor-blueNisslWide-segm-blueNisslRegular-vq-blueNissl_boundaryModels.pkl\n",
      "saved /home/yuncong/project/DavidData2014results/RS140/0004/RS140_x5_0004_gabor-blueNisslWide-segm-blueNisslRegular-vq-blueNissl_boundaryModels.pkl\n",
      "saved /home/yuncong/project/DavidData2014results/RS140/0011/RS140_x5_0011_gabor-blueNisslWide-segm-blueNisslRegular-vq-blueNissl_boundaryModels.pkl\n",
      "saved /home/yuncong/project/DavidData2014results/RS140/0014/RS140_x5_0014_gabor-blueNisslWide-segm-blueNisslRegular-vq-blueNissl_boundaryModels.pkl\n",
      "saved /home/yuncong/project/DavidData2014results/RS140/0009/RS140_x5_0009_gabor-blueNisslWide-segm-blueNisslRegular-vq-blueNissl_boundaryModels.pkl\n",
      "saved /home/yuncong/project/DavidData2014results/RS140/0015/RS140_x5_0015_gabor-blueNisslWide-segm-blueNisslRegular-vq-blueNissl_boundaryModels.pkl\n",
      "saved /home/yuncong/project/DavidData2014results/RS140/0012/RS140_x5_0012_gabor-blueNisslWide-segm-blueNisslRegular-vq-blueNissl_boundaryModels.pkl\n",
      "saved /home/yuncong/project/DavidData2014results/RS140/0013/RS140_x5_0013_gabor-blueNisslWide-segm-blueNisslRegular-vq-blueNissl_boundaryModels.pkl\n",
      "saved /home/yuncong/project/DavidData2014results/RS140/0008/RS140_x5_0008_gabor-blueNisslWide-segm-blueNisslRegular-vq-blueNissl_boundaryModels.pkl\n",
      "saved /home/yuncong/project/DavidData2014results/RS140/0007/RS140_x5_0007_gabor-blueNisslWide-segm-blueNisslRegular-vq-blueNissl_nonoverlapLmTypes.npy\n",
      "saved /home/yuncong/project/DavidData2014results/RS140/0006/RS140_x5_0006_gabor-blueNisslWide-segm-blueNisslRegular-vq-blueNissl_nonoverlapLmTypes.npy\n",
      "saved /home/yuncong/project/DavidData2014results/RS140/0005/RS140_x5_0005_gabor-blueNisslWide-segm-blueNisslRegular-vq-blueNissl_nonoverlapLmTypes.npy\n",
      "saved /home/yuncong/project/DavidData2014results/RS140/0003/RS140_x5_0003_gabor-blueNisslWide-segm-blueNisslRegular-vq-blueNissl_nonoverlapLmTypes.npy\n",
      "saved /home/yuncong/project/DavidData2014results/RS140/0001/RS140_x5_0001_gabor-blueNisslWide-segm-blueNisslRegular-vq-blueNissl_nonoverlapLmTypes.npy\n",
      "saved /home/yuncong/project/DavidData2014results/RS140/0010/RS140_x5_0010_gabor-blueNisslWide-segm-blueNisslRegular-vq-blueNissl_nonoverlapLmTypes.npy\n",
      "saved /home/yuncong/project/DavidData2014results/RS140/0002/RS140_x5_0002_gabor-blueNisslWide-segm-blueNisslRegular-vq-blueNissl_nonoverlapLmTypes.npy\n",
      "saved /home/yuncong/project/DavidData2014results/RS140/0000/RS140_x5_0000_gabor-blueNisslWide-segm-blueNisslRegular-vq-blueNissl_nonoverlapLmTypes.npy\n",
      "saved /home/yuncong/project/DavidData2014results/RS140/0004/RS140_x5_0004_gabor-blueNisslWide-segm-blueNisslRegular-vq-blueNissl_nonoverlapLmTypes.npy\n",
      "saved /home/yuncong/project/DavidData2014results/RS140/0011/RS140_x5_0011_gabor-blueNisslWide-segm-blueNisslRegular-vq-blueNissl_nonoverlapLmTypes.npy\n",
      "saved /home/yuncong/project/DavidData2014results/RS140/0014/RS140_x5_0014_gabor-blueNisslWide-segm-blueNisslRegular-vq-blueNissl_nonoverlapLmTypes.npy\n",
      "saved /home/yuncong/project/DavidData2014results/RS140/0009/RS140_x5_0009_gabor-blueNisslWide-segm-blueNisslRegular-vq-blueNissl_nonoverlapLmTypes.npy\n",
      "saved /home/yuncong/project/DavidData2014results/RS140/0015/RS140_x5_0015_gabor-blueNisslWide-segm-blueNisslRegular-vq-blueNissl_nonoverlapLmTypes.npy\n",
      "saved /home/yuncong/project/DavidData2014results/RS140/0012/RS140_x5_0012_gabor-blueNisslWide-segm-blueNisslRegular-vq-blueNissl_nonoverlapLmTypes.npy\n",
      "saved /home/yuncong/project/DavidData2014results/RS140/0013/RS140_x5_0013_gabor-blueNisslWide-segm-blueNisslRegular-vq-blueNissl_nonoverlapLmTypes.npy\n",
      "saved /home/yuncong/project/DavidData2014results/RS140/0008/RS140_x5_0008_gabor-blueNisslWide-segm-blueNisslRegular-vq-blueNissl_nonoverlapLmTypes.npy\n",
      "saved /home/yuncong/project/DavidData2014results/RS140/0007/RS140_x5_0007_gabor-blueNisslWide-segm-blueNisslRegular-vq-blueNissl_internalSps.pkl\n",
      "saved /home/yuncong/project/DavidData2014results/RS140/0006/RS140_x5_0006_gabor-blueNisslWide-segm-blueNisslRegular-vq-blueNissl_internalSps.pkl\n",
      "saved /home/yuncong/project/DavidData2014results/RS140/0005/RS140_x5_0005_gabor-blueNisslWide-segm-blueNisslRegular-vq-blueNissl_internalSps.pkl\n",
      "saved /home/yuncong/project/DavidData2014results/RS140/0003/RS140_x5_0003_gabor-blueNisslWide-segm-blueNisslRegular-vq-blueNissl_internalSps.pkl\n",
      "saved /home/yuncong/project/DavidData2014results/RS140/0001/RS140_x5_0001_gabor-blueNisslWide-segm-blueNisslRegular-vq-blueNissl_internalSps.pkl\n",
      "saved /home/yuncong/project/DavidData2014results/RS140/0010/RS140_x5_0010_gabor-blueNisslWide-segm-blueNisslRegular-vq-blueNissl_internalSps.pkl\n",
      "saved /home/yuncong/project/DavidData2014results/RS140/0002/RS140_x5_0002_gabor-blueNisslWide-segm-blueNisslRegular-vq-blueNissl_internalSps.pkl\n",
      "saved /home/yuncong/project/DavidData2014results/RS140/0000/RS140_x5_0000_gabor-blueNisslWide-segm-blueNisslRegular-vq-blueNissl_internalSps.pkl\n",
      "saved /home/yuncong/project/DavidData2014results/RS140/0004/RS140_x5_0004_gabor-blueNisslWide-segm-blueNisslRegular-vq-blueNissl_internalSps.pkl\n",
      "saved /home/yuncong/project/DavidData2014results/RS140/0011/RS140_x5_0011_gabor-blueNisslWide-segm-blueNisslRegular-vq-blueNissl_internalSps.pkl\n",
      "saved /home/yuncong/project/DavidData2014results/RS140/0014/RS140_x5_0014_gabor-blueNisslWide-segm-blueNisslRegular-vq-blueNissl_internalSps.pkl\n",
      "saved /home/yuncong/project/DavidData2014results/RS140/0009/RS140_x5_0009_gabor-blueNisslWide-segm-blueNisslRegular-vq-blueNissl_internalSps.pkl\n",
      "saved /home/yuncong/project/DavidData2014results/RS140/0015/RS140_x5_0015_gabor-blueNisslWide-segm-blueNisslRegular-vq-blueNissl_internalSps.pkl\n",
      "saved /home/yuncong/project/DavidData2014results/RS140/0012/RS140_x5_0012_gabor-blueNisslWide-segm-blueNisslRegular-vq-blueNissl_internalSps.pkl\n",
      "saved /home/yuncong/project/DavidData2014results/RS140/0013/RS140_x5_0013_gabor-blueNisslWide-segm-blueNisslRegular-vq-blueNissl_internalSps.pkl\n",
      "saved /home/yuncong/project/DavidData2014results/RS140/0008/RS140_x5_0008_gabor-blueNisslWide-segm-blueNisslRegular-vq-blueNissl_internalSps.pkl\n",
      "saved /home/yuncong/project/DavidData2014results/RS140/0016/RS140_x5_0016_gabor-blueNisslWide-segm-blueNisslRegular-vq-blueNissl_boundaryModels.pklsaved /home/yuncong/project/DavidData2014results/RS140/0017/RS140_x5_0017_gabor-blueNisslWide-segm-blueNisslRegular-vq-blueNissl_boundaryModels.pklsaved /home/yuncong/project/DavidData2014results/RS140/0018/RS140_x5_0018_gabor-blueNisslWide-segm-blueNisslRegular-vq-blueNissl_boundaryModels.pklsaved /home/yuncong/project/DavidData2014results/RS140/0019/RS140_x5_0019_gabor-blueNisslWide-segm-blueNisslRegular-vq-blueNissl_boundaryModels.pklsaved /home/yuncong/project/DavidData2014results/RS140/0020/RS140_x5_0020_gabor-blueNisslWide-segm-blueNisslRegular-vq-blueNissl_boundaryModels.pklsaved /home/yuncong/project/DavidData2014results/RS140/0021/RS140_x5_0021_gabor-blueNisslWide-segm-blueNisslRegular-vq-blueNissl_boundaryModels.pklsaved /home/yuncong/project/DavidData2014results/RS140/0022/RS140_x5_0022_gabor-blueNisslWide-segm-blueNisslRegular-vq-blueNissl_boundaryModels.pklsaved /home/yuncong/project/DavidData2014results/RS140/0023/RS140_x5_0023_gabor-blueNisslWide-segm-blueNisslRegular-vq-blueNissl_boundaryModels.pklsaved /home/yuncong/project/DavidData2014results/RS140/0024/RS140_x5_0024_gabor-blueNisslWide-segm-blueNisslRegular-vq-blueNissl_boundaryModels.pklsaved /home/yuncong/project/DavidData2014results/RS140/0025/RS140_x5_0025_gabor-blueNisslWide-segm-blueNisslRegular-vq-blueNissl_boundaryModels.pklsaved /home/yuncong/project/DavidData2014results/RS140/0026/RS140_x5_0026_gabor-blueNisslWide-segm-blueNisslRegular-vq-blueNissl_boundaryModels.pklsaved /home/yuncong/project/DavidData2014results/RS140/0027/RS140_x5_0027_gabor-blueNisslWide-segm-blueNisslRegular-vq-blueNissl_boundaryModels.pklsaved /home/yuncong/project/DavidData2014results/RS140/0028/RS140_x5_0028_gabor-blueNisslWide-segm-blueNisslRegular-vq-blueNissl_boundaryModels.pklsaved /home/yuncong/project/DavidData2014results/RS140/0029/RS140_x5_0029_gabor-blueNisslWide-segm-blueNisslRegular-vq-blueNissl_boundaryModels.pklsaved /home/yuncong/project/DavidData2014results/RS140/0030/RS140_x5_0030_gabor-blueNisslWide-segm-blueNisslRegular-vq-blueNissl_boundaryModels.pklsaved /home/yuncong/project/DavidData2014results/RS140/0031/RS140_x5_0031_gabor-blueNisslWide-segm-blueNisslRegular-vq-blueNissl_boundaryModels.pkl\n",
      "\n",
      "\n",
      "\n",
      "\n",
      "\n",
      "\n",
      "\n",
      "\n",
      "\n",
      "\n",
      "\n",
      "\n",
      "\n",
      "\n",
      "\n",
      "saved /home/yuncong/project/DavidData2014results/RS140/0016/RS140_x5_0016_gabor-blueNisslWide-segm-blueNisslRegular-vq-blueNissl_nonoverlapLmTypes.npy\n",
      "saved /home/yuncong/project/DavidData2014results/RS140/0017/RS140_x5_0017_gabor-blueNisslWide-segm-blueNisslRegular-vq-blueNissl_nonoverlapLmTypes.npy\n",
      "saved /home/yuncong/project/DavidData2014results/RS140/0018/RS140_x5_0018_gabor-blueNisslWide-segm-blueNisslRegular-vq-blueNissl_nonoverlapLmTypes.npy\n",
      "saved /home/yuncong/project/DavidData2014results/RS140/0019/RS140_x5_0019_gabor-blueNisslWide-segm-blueNisslRegular-vq-blueNissl_nonoverlapLmTypes.npy\n",
      "saved /home/yuncong/project/DavidData2014results/RS140/0020/RS140_x5_0020_gabor-blueNisslWide-segm-blueNisslRegular-vq-blueNissl_nonoverlapLmTypes.npy\n",
      "saved /home/yuncong/project/DavidData2014results/RS140/0021/RS140_x5_0021_gabor-blueNisslWide-segm-blueNisslRegular-vq-blueNissl_nonoverlapLmTypes.npy\n",
      "saved /home/yuncong/project/DavidData2014results/RS140/0022/RS140_x5_0022_gabor-blueNisslWide-segm-blueNisslRegular-vq-blueNissl_nonoverlapLmTypes.npy\n",
      "saved /home/yuncong/project/DavidData2014results/RS140/0023/RS140_x5_0023_gabor-blueNisslWide-segm-blueNisslRegular-vq-blueNissl_nonoverlapLmTypes.npy\n",
      "saved /home/yuncong/project/DavidData2014results/RS140/0024/RS140_x5_0024_gabor-blueNisslWide-segm-blueNisslRegular-vq-blueNissl_nonoverlapLmTypes.npy\n",
      "saved /home/yuncong/project/DavidData2014results/RS140/0025/RS140_x5_0025_gabor-blueNisslWide-segm-blueNisslRegular-vq-blueNissl_nonoverlapLmTypes.npy\n",
      "saved /home/yuncong/project/DavidData2014results/RS140/0026/RS140_x5_0026_gabor-blueNisslWide-segm-blueNisslRegular-vq-blueNissl_nonoverlapLmTypes.npy\n",
      "saved /home/yuncong/project/DavidData2014results/RS140/0027/RS140_x5_0027_gabor-blueNisslWide-segm-blueNisslRegular-vq-blueNissl_nonoverlapLmTypes.npy\n",
      "saved /home/yuncong/project/DavidData2014results/RS140/0028/RS140_x5_0028_gabor-blueNisslWide-segm-blueNisslRegular-vq-blueNissl_nonoverlapLmTypes.npy\n",
      "saved /home/yuncong/project/DavidData2014results/RS140/0029/RS140_x5_0029_gabor-blueNisslWide-segm-blueNisslRegular-vq-blueNissl_nonoverlapLmTypes.npy\n",
      "saved /home/yuncong/project/DavidData2014results/RS140/0030/RS140_x5_0030_gabor-blueNisslWide-segm-blueNisslRegular-vq-blueNissl_nonoverlapLmTypes.npy\n",
      "saved /home/yuncong/project/DavidData2014results/RS140/0031/RS140_x5_0031_gabor-blueNisslWide-segm-blueNisslRegular-vq-blueNissl_nonoverlapLmTypes.npy\n",
      "saved /home/yuncong/project/DavidData2014results/RS140/0016/RS140_x5_0016_gabor-blueNisslWide-segm-blueNisslRegular-vq-blueNissl_internalSps.pkl\n",
      "saved /home/yuncong/project/DavidData2014results/RS140/0017/RS140_x5_0017_gabor-blueNisslWide-segm-blueNisslRegular-vq-blueNissl_internalSps.pkl\n",
      "saved /home/yuncong/project/DavidData2014results/RS140/0018/RS140_x5_0018_gabor-blueNisslWide-segm-blueNisslRegular-vq-blueNissl_internalSps.pkl\n",
      "saved /home/yuncong/project/DavidData2014results/RS140/0019/RS140_x5_0019_gabor-blueNisslWide-segm-blueNisslRegular-vq-blueNissl_internalSps.pkl\n",
      "saved /home/yuncong/project/DavidData2014results/RS140/0020/RS140_x5_0020_gabor-blueNisslWide-segm-blueNisslRegular-vq-blueNissl_internalSps.pkl\n",
      "saved /home/yuncong/project/DavidData2014results/RS140/0021/RS140_x5_0021_gabor-blueNisslWide-segm-blueNisslRegular-vq-blueNissl_internalSps.pkl\n",
      "saved /home/yuncong/project/DavidData2014results/RS140/0022/RS140_x5_0022_gabor-blueNisslWide-segm-blueNisslRegular-vq-blueNissl_internalSps.pkl\n",
      "saved /home/yuncong/project/DavidData2014results/RS140/0023/RS140_x5_0023_gabor-blueNisslWide-segm-blueNisslRegular-vq-blueNissl_internalSps.pkl\n",
      "saved /home/yuncong/project/DavidData2014results/RS140/0024/RS140_x5_0024_gabor-blueNisslWide-segm-blueNisslRegular-vq-blueNissl_internalSps.pkl\n",
      "saved /home/yuncong/project/DavidData2014results/RS140/0025/RS140_x5_0025_gabor-blueNisslWide-segm-blueNisslRegular-vq-blueNissl_internalSps.pkl\n",
      "saved /home/yuncong/project/DavidData2014results/RS140/0026/RS140_x5_0026_gabor-blueNisslWide-segm-blueNisslRegular-vq-blueNissl_internalSps.pkl\n",
      "saved /home/yuncong/project/DavidData2014results/RS140/0027/RS140_x5_0027_gabor-blueNisslWide-segm-blueNisslRegular-vq-blueNissl_internalSps.pkl\n",
      "saved /home/yuncong/project/DavidData2014results/RS140/0028/RS140_x5_0028_gabor-blueNisslWide-segm-blueNisslRegular-vq-blueNissl_internalSps.pkl\n",
      "saved /home/yuncong/project/DavidData2014results/RS140/0029/RS140_x5_0029_gabor-blueNisslWide-segm-blueNisslRegular-vq-blueNissl_internalSps.pkl\n",
      "saved /home/yuncong/project/DavidData2014results/RS140/0030/RS140_x5_0030_gabor-blueNisslWide-segm-blueNisslRegular-vq-blueNissl_internalSps.pkl\n",
      "saved /home/yuncong/project/DavidData2014results/RS140/0031/RS140_x5_0031_gabor-blueNisslWide-segm-blueNisslRegular-vq-blueNissl_internalSps.pkl\n",
      "saved /home/yuncong/project/DavidData2014results/RS140/0033/RS140_x5_0033_gabor-blueNisslWide-segm-blueNisslRegular-vq-blueNissl_boundaryModels.pklsaved /home/yuncong/project/DavidData2014results/RS140/0032/RS140_x5_0032_gabor-blueNisslWide-segm-blueNisslRegular-vq-blueNissl_boundaryModels.pklsaved /home/yuncong/project/DavidData2014results/RS140/0036/RS140_x5_0036_gabor-blueNisslWide-segm-blueNisslRegular-vq-blueNissl_boundaryModels.pklsaved /home/yuncong/project/DavidData2014results/RS140/0035/RS140_x5_0035_gabor-blueNisslWide-segm-blueNisslRegular-vq-blueNissl_boundaryModels.pklsaved /home/yuncong/project/DavidData2014results/RS140/0034/RS140_x5_0034_gabor-blueNisslWide-segm-blueNisslRegular-vq-blueNissl_boundaryModels.pkl\n",
      "\n",
      "\n",
      "\n",
      "\n",
      "saved /home/yuncong/project/DavidData2014results/RS140/0033/RS140_x5_0033_gabor-blueNisslWide-segm-blueNisslRegular-vq-blueNissl_nonoverlapLmTypes.npy\n",
      "saved /home/yuncong/project/DavidData2014results/RS140/0032/RS140_x5_0032_gabor-blueNisslWide-segm-blueNisslRegular-vq-blueNissl_nonoverlapLmTypes.npy\n",
      "saved /home/yuncong/project/DavidData2014results/RS140/0034/RS140_x5_0034_gabor-blueNisslWide-segm-blueNisslRegular-vq-blueNissl_nonoverlapLmTypes.npy\n",
      "saved /home/yuncong/project/DavidData2014results/RS140/0035/RS140_x5_0035_gabor-blueNisslWide-segm-blueNisslRegular-vq-blueNissl_nonoverlapLmTypes.npy\n",
      "saved /home/yuncong/project/DavidData2014results/RS140/0036/RS140_x5_0036_gabor-blueNisslWide-segm-blueNisslRegular-vq-blueNissl_nonoverlapLmTypes.npy\n",
      "saved /home/yuncong/project/DavidData2014results/RS140/0033/RS140_x5_0033_gabor-blueNisslWide-segm-blueNisslRegular-vq-blueNissl_internalSps.pkl\n",
      "saved /home/yuncong/project/DavidData2014results/RS140/0032/RS140_x5_0032_gabor-blueNisslWide-segm-blueNisslRegular-vq-blueNissl_internalSps.pkl\n",
      "saved /home/yuncong/project/DavidData2014results/RS140/0034/RS140_x5_0034_gabor-blueNisslWide-segm-blueNisslRegular-vq-blueNissl_internalSps.pkl\n",
      "saved /home/yuncong/project/DavidData2014results/RS140/0035/RS140_x5_0035_gabor-blueNisslWide-segm-blueNisslRegular-vq-blueNissl_internalSps.pkl\n",
      "saved /home/yuncong/project/DavidData2014results/RS140/0036/RS140_x5_0036_gabor-blueNisslWide-segm-blueNisslRegular-vq-blueNissl_internalSps.pkl\n"
     ]
    },
    {
     "name": "stderr",
     "output_type": "stream",
     "text": [
      "/oasis/projects/nsf/csd181/yuncong/virtualenv-1.9.1/yuncongve/lib/python2.7/site-packages/IPython/kernel/__main__.py:29: UserWarning: Multiprocessing-backed parallel loops cannot be nested, setting n_jobs=1\n",
      "/oasis/projects/nsf/csd181/yuncong/virtualenv-1.9.1/yuncongve/lib/python2.7/site-packages/IPython/kernel/__main__.py:29: UserWarning: Multiprocessing-backed parallel loops cannot be nested, setting n_jobs=1\n",
      "/oasis/projects/nsf/csd181/yuncong/virtualenv-1.9.1/yuncongve/lib/python2.7/site-packages/IPython/kernel/__main__.py:29: UserWarning: Multiprocessing-backed parallel loops cannot be nested, setting n_jobs=1\n",
      "/oasis/projects/nsf/csd181/yuncong/virtualenv-1.9.1/yuncongve/lib/python2.7/site-packages/IPython/kernel/__main__.py:29: UserWarning: Multiprocessing-backed parallel loops cannot be nested, setting n_jobs=1\n",
      "/oasis/projects/nsf/csd181/yuncong/virtualenv-1.9.1/yuncongve/lib/python2.7/site-packages/IPython/kernel/__main__.py:29: UserWarning: Multiprocessing-backed parallel loops cannot be nested, setting n_jobs=1\n",
      "/oasis/projects/nsf/csd181/yuncong/virtualenv-1.9.1/yuncongve/lib/python2.7/site-packages/IPython/kernel/__main__.py:29: UserWarning: Multiprocessing-backed parallel loops cannot be nested, setting n_jobs=1\n",
      "/oasis/projects/nsf/csd181/yuncong/virtualenv-1.9.1/yuncongve/lib/python2.7/site-packages/IPython/kernel/__main__.py:29: UserWarning: Multiprocessing-backed parallel loops cannot be nested, setting n_jobs=1\n",
      "/oasis/projects/nsf/csd181/yuncong/virtualenv-1.9.1/yuncongve/lib/python2.7/site-packages/IPython/kernel/__main__.py:29: UserWarning: Multiprocessing-backed parallel loops cannot be nested, setting n_jobs=1\n",
      "/oasis/projects/nsf/csd181/yuncong/virtualenv-1.9.1/yuncongve/lib/python2.7/site-packages/IPython/kernel/__main__.py:29: UserWarning: Multiprocessing-backed parallel loops cannot be nested, setting n_jobs=1\n",
      "/oasis/projects/nsf/csd181/yuncong/virtualenv-1.9.1/yuncongve/lib/python2.7/site-packages/IPython/kernel/__main__.py:29: UserWarning: Multiprocessing-backed parallel loops cannot be nested, setting n_jobs=1\n",
      "/oasis/projects/nsf/csd181/yuncong/virtualenv-1.9.1/yuncongve/lib/python2.7/site-packages/IPython/kernel/__main__.py:29: UserWarning: Multiprocessing-backed parallel loops cannot be nested, setting n_jobs=1\n",
      "/oasis/projects/nsf/csd181/yuncong/virtualenv-1.9.1/yuncongve/lib/python2.7/site-packages/IPython/kernel/__main__.py:29: UserWarning: Multiprocessing-backed parallel loops cannot be nested, setting n_jobs=1\n",
      "/oasis/projects/nsf/csd181/yuncong/virtualenv-1.9.1/yuncongve/lib/python2.7/site-packages/IPython/kernel/__main__.py:29: UserWarning: Multiprocessing-backed parallel loops cannot be nested, setting n_jobs=1\n",
      "/oasis/projects/nsf/csd181/yuncong/virtualenv-1.9.1/yuncongve/lib/python2.7/site-packages/IPython/kernel/__main__.py:29: UserWarning: Multiprocessing-backed parallel loops cannot be nested, setting n_jobs=1\n",
      "/oasis/projects/nsf/csd181/yuncong/virtualenv-1.9.1/yuncongve/lib/python2.7/site-packages/IPython/kernel/__main__.py:29: UserWarning: Multiprocessing-backed parallel loops cannot be nested, setting n_jobs=1\n",
      "/oasis/projects/nsf/csd181/yuncong/virtualenv-1.9.1/yuncongve/lib/python2.7/site-packages/IPython/kernel/__main__.py:29: UserWarning: Multiprocessing-backed parallel loops cannot be nested, setting n_jobs=1\n"
     ]
    }
   ],
   "source": [
    "b = time.time()\n",
    "Parallel(n_jobs=16)(delayed(combine_two_landmark_types)(sec_ind) for sec_ind in slide_indices)\n",
    "a = time.time()\n",
    "print 'combine_two_landmark_types', a - b"
   ]
  },
  {
   "cell_type": "code",
   "execution_count": null,
   "metadata": {
    "collapsed": false,
    "scrolled": true
   },
   "outputs": [],
   "source": [
    "# # Find boundaries for all sections\n",
    "\n",
    "# for sec_ind in slide_indices:\n",
    "    \n",
    "# # #     b = time.time()\n",
    "#     detect_open_boundaries(sec_ind)\n",
    "# # #     print 'detect_open_boundaries', time.time()-b\n",
    "    \n",
    "# # #     b = time.time()\n",
    "#     combine_two_landmark_types(sec_ind)\n",
    "# # #     print 'combine_two_landmark_types', time.time()-b"
   ]
  },
  {
   "cell_type": "code",
   "execution_count": null,
   "metadata": {
    "collapsed": false,
    "scrolled": true
   },
   "outputs": [],
   "source": [
    "Parallel(n_jobs=16)(delayed(generate_boundary_visualizations)(sec_ind) for sec_ind in slide_indices)"
   ]
  }
 ],
 "metadata": {
  "kernelspec": {
   "display_name": "Python 2",
   "language": "python",
   "name": "python2"
  },
  "language_info": {
   "codemirror_mode": {
    "name": "ipython",
    "version": 2
   },
   "file_extension": ".py",
   "mimetype": "text/x-python",
   "name": "python",
   "nbconvert_exporter": "python",
   "pygments_lexer": "ipython2",
   "version": "2.7.3"
  }
 },
 "nbformat": 4,
 "nbformat_minor": 0
}
