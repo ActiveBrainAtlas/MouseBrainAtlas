{
 "metadata": {
  "name": "",
  "signature": "sha256:9c4f9855f4f9ac3bfac553e26922675e5874cc52fff74e0f0edca49d27dca32f"
 },
 "nbformat": 3,
 "nbformat_minor": 0,
 "worksheets": [
  {
   "cells": [
    {
     "cell_type": "code",
     "collapsed": false,
     "input": [
      "%reload_ext autoreload\n",
      "%autoreload 2\n",
      "\n",
      "from preamble import *"
     ],
     "language": "python",
     "metadata": {},
     "outputs": []
    },
    {
     "cell_type": "code",
     "collapsed": false,
     "input": [
      "# try:\n",
      "#     features_rotated = dm.load_pipeline_result('features_rotated', 'npy')\n",
      "\n",
      "# except Exception as e:\n",
      "\n",
      "features = dm.load_pipeline_result('features', 'npy')\n",
      "\n",
      "valid_features = features[:, dm.mask].T\n",
      "n_valid = len(valid_features)\n",
      "\n",
      "del features\n",
      "\n",
      "def rotate_features(fs):\n",
      "    features_tabular = fs.reshape((fs.shape[0], dm.n_freq, dm.n_angle))\n",
      "    max_angle_indices = features_tabular.max(axis=1).argmax(axis=-1)\n",
      "    features_rotated = np.reshape([np.roll(features_tabular[i], -ai, axis=-1) \n",
      "                               for i, ai in enumerate(max_angle_indices)], (fs.shape[0], dm.n_freq * dm.n_angle))\n",
      "\n",
      "    return features_rotated, max_angle_indices\n",
      "\n",
      "from joblib import Parallel, delayed\n",
      "\n",
      "n_splits = 1000\n",
      "features_rotated_tuple_list = Parallel(n_jobs=16)(delayed(rotate_features)(fs) for fs in np.array_split(valid_features, n_splits))\n",
      "features_rotated = np.vstack([fr for fr, mai in features_rotated_tuple_list])\n",
      "del valid_features\n",
      "\n",
      "dm.save_pipeline_result(features_rotated, 'features_rotated', 'npy')"
     ],
     "language": "python",
     "metadata": {},
     "outputs": []
    },
    {
     "cell_type": "code",
     "collapsed": false,
     "input": [
      "max_angle_indices = np.concatenate([mai for fr, mai in features_rotated_tuple_list]).T\n",
      "dm.save_pipeline_result(max_angle_indices, 'max_angle_indices', 'npy')\n"
     ],
     "language": "python",
     "metadata": {},
     "outputs": []
    }
   ],
   "metadata": {}
  }
 ]
}