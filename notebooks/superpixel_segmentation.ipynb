{
 "cells": [
  {
   "cell_type": "code",
   "execution_count": 48,
   "metadata": {
    "collapsed": false
   },
   "outputs": [],
   "source": [
    "%reload_ext autoreload\n",
    "%autoreload 2"
   ]
  },
  {
   "cell_type": "code",
   "execution_count": 1,
   "metadata": {
    "collapsed": true
   },
   "outputs": [],
   "source": [
    "import sys\n",
    "sys.path.append('/home/yuncong/Brain/pipeline_scripts')\n",
    "from utilities2014 import *\n",
    "import os\n",
    "\n",
    "sys.path.append('/home/yuncong/project/opencv-2.4.9/release/lib/python2.7/site-packages')\n",
    "import cv2\n",
    "\n",
    "\n",
    "os.environ['GORDON_DATA_DIR'] = '/home/yuncong/project/DavidData2014tif/'\n",
    "os.environ['GORDON_REPO_DIR'] = '/home/yuncong/Brain'\n",
    "os.environ['GORDON_RESULT_DIR'] = '/home/yuncong/project/DavidData2014results/'\n",
    "os.environ['GORDON_LABELING_DIR'] = '/home/yuncong/project/DavidData2014labelings/'\n",
    "\n",
    "dm = DataManager(data_dir=os.environ['GORDON_DATA_DIR'], \n",
    "  repo_dir=os.environ['GORDON_REPO_DIR'], \n",
    "  result_dir=os.environ['GORDON_RESULT_DIR'], \n",
    "  labeling_dir=os.environ['GORDON_LABELING_DIR'])\n",
    "\n",
    "class args:\n",
    "    stack_name = 'RS141'\n",
    "    resolution = 'x5'\n",
    "    slice_ind = 4\n",
    "    gabor_params_id = 'blueNisslWide'\n",
    "    segm_params_id = 'blueNisslRegular'\n",
    "    vq_params_id = 'blueNissl'\n",
    "    \n",
    "dm.set_image(args.stack_name, args.resolution, args.slice_ind)\n",
    "dm.set_gabor_params(gabor_params_id=args.gabor_params_id)\n",
    "dm.set_segmentation_params(segm_params_id=args.segm_params_id)\n",
    "dm.set_vq_params(vq_params_id=args.vq_params_id)"
   ]
  },
  {
   "cell_type": "code",
   "execution_count": 2,
   "metadata": {
    "collapsed": true
   },
   "outputs": [],
   "source": [
    "from joblib import Parallel, delayed"
   ]
  },
  {
   "cell_type": "code",
   "execution_count": 3,
   "metadata": {
    "collapsed": false,
    "scrolled": true
   },
   "outputs": [],
   "source": [
    "# Over-segment the image into superpixels using SLIC (http://ivrg.epfl.ch/research/superpixels)\n",
    "\n",
    "from skimage.segmentation import slic, mark_boundaries\n",
    "from skimage.util import img_as_ubyte, pad\n",
    "\n",
    "masked_image = dm.image.copy()\n",
    "\n",
    "# approx_bg_intensity = dm.image[10:20, 10:20].mean()\n",
    "# masked_image[~dm.mask] = approx_bg_intensity\n",
    "\n",
    "masked_image[~dm.mask] = 0\n",
    "\n",
    "segmentation = slic(gray2rgb(masked_image), n_segments=int(dm.segm_params['n_superpixels']), \n",
    "                    max_iter=10, \n",
    "                    compactness=float(dm.segm_params['slic_compactness']), \n",
    "                    sigma=float(dm.segm_params['slic_sigma']), \n",
    "                    enforce_connectivity=True)"
   ]
  },
  {
   "cell_type": "code",
   "execution_count": null,
   "metadata": {
    "collapsed": false
   },
   "outputs": [],
   "source": [
    "# display(mark_boundaries(masked_image, segmentation))"
   ]
  },
  {
   "cell_type": "code",
   "execution_count": 4,
   "metadata": {
    "collapsed": false
   },
   "outputs": [],
   "source": [
    "n = len(np.unique(segmentation))\n",
    "\n",
    "def f(i):\n",
    "    m = dm.mask[segmentation == i]\n",
    "    return np.count_nonzero(m)/float(len(m)) < .8\n",
    "\n",
    "q = Parallel(n_jobs=16)(delayed(f)(i) for i in range(n))\n",
    "                        \n",
    "masked_segmentation = segmentation.copy()\n",
    "for i in np.where(q)[0]:\n",
    "    masked_segmentation[segmentation == i] = -1"
   ]
  },
  {
   "cell_type": "code",
   "execution_count": null,
   "metadata": {
    "collapsed": false
   },
   "outputs": [],
   "source": [
    "# display(mark_boundaries(masked_image, masked_segmentation))"
   ]
  },
  {
   "cell_type": "code",
   "execution_count": 5,
   "metadata": {
    "collapsed": false
   },
   "outputs": [],
   "source": [
    "from skimage.segmentation import relabel_sequential\n",
    "\n",
    "# try:\n",
    "#     masked_segmentation_relabeled = dm.load_pipeline_result('segmentation', 'npy')\n",
    "\n",
    "# except:\n",
    "\n",
    "    # segmentation starts from 0\n",
    "masked_segmentation_relabeled, fw, inv = relabel_sequential(masked_segmentation + 1)\n",
    "\n",
    "# make background label -1\n",
    "masked_segmentation_relabeled -= 1\n"
   ]
  },
  {
   "cell_type": "code",
   "execution_count": 6,
   "metadata": {
    "collapsed": false
   },
   "outputs": [
    {
     "name": "stdout",
     "output_type": "stream",
     "text": [
      "saved /home/yuncong/project/DavidData2014results/RS141/0004/RS141_x5_0004_segm-blueNisslRegular_segmentation.npy\n"
     ]
    }
   ],
   "source": [
    "dm.save_pipeline_result(masked_segmentation_relabeled, 'segmentation', 'npy')"
   ]
  },
  {
   "cell_type": "code",
   "execution_count": 55,
   "metadata": {
    "collapsed": false
   },
   "outputs": [],
   "source": [
    "# masked_segmentation_relabeled = dm.load_pipeline_result('segmentation', 'npy')"
   ]
  },
  {
   "cell_type": "code",
   "execution_count": 7,
   "metadata": {
    "collapsed": false
   },
   "outputs": [
    {
     "name": "stdout",
     "output_type": "stream",
     "text": [
      "saved /home/yuncong/project/DavidData2014results/RS141/0004/RS141_x5_0004_segm-blueNisslRegular_spProps.npy\n"
     ]
    }
   ],
   "source": [
    "from joblib import Parallel, delayed\n",
    "\n",
    "sp_props = regionprops(masked_segmentation_relabeled + 1, intensity_image=dm.image, cache=True)\n",
    "\n",
    "def obtain_props_worker(i):\n",
    "    return sp_props[i].centroid, sp_props[i].area, sp_props[i].mean_intensity, sp_props[i].bbox\n",
    "\n",
    "r = Parallel(n_jobs=16)(delayed(obtain_props_worker)(i) for i in range(len(sp_props)))\n",
    "\n",
    "sp_centroids = np.array([s[0] for s in r])\n",
    "sp_areas = np.array([s[1] for s in r])\n",
    "sp_mean_intensity = np.array([s[2] for s in r])\n",
    "sp_bbox = np.array([s[3] for s in r]) \n",
    "\n",
    "# n_superpixel x 8: (cy, cx, area, mean_intensity, ymin, xmin, ymax, xmax)\n",
    "\n",
    "sp_properties = np.column_stack([sp_centroids, sp_areas, sp_mean_intensity, sp_bbox])\n",
    "\n",
    "dm.save_pipeline_result(sp_properties, 'spProps', 'npy')"
   ]
  },
  {
   "cell_type": "code",
   "execution_count": 10,
   "metadata": {
    "collapsed": false
   },
   "outputs": [
    {
     "name": "stdout",
     "output_type": "stream",
     "text": [
      "saved /home/yuncong/project/DavidData2014results/RS141/0004/RS141_x5_0004_segm-blueNisslRegular_segmentationWithoutText.jpg\n",
      "saved /home/yuncong/project/DavidData2014results/RS141/0004/RS141_x5_0004_segm-blueNisslRegular_segmentationWithText.jpg\n"
     ]
    }
   ],
   "source": [
    "n_superpixels = len(np.unique(masked_segmentation_relabeled)) - 1\n",
    "\n",
    "img_superpixelized = mark_boundaries(dm.image, masked_segmentation_relabeled)\n",
    "img_superpixelized_with_text = img_as_ubyte(img_superpixelized)\n",
    "\n",
    "dm.save_pipeline_result(img_superpixelized_with_text, 'segmentationWithoutText', 'jpg')\n",
    "\n",
    "for s in range(n_superpixels):\n",
    "    cv2.putText(img_superpixelized_with_text, str(s), \n",
    "                           tuple(np.floor(sp_centroids[s][::-1]).astype(np.int) - np.array([10,-10])), \n",
    "                           cv2.FONT_HERSHEY_DUPLEX,\n",
    "                           .5, ((255,0,255)), 1)\n",
    "\n",
    "dm.save_pipeline_result(img_superpixelized_with_text, 'segmentationWithText', 'jpg')"
   ]
  },
  {
   "cell_type": "code",
   "execution_count": 58,
   "metadata": {
    "collapsed": false
   },
   "outputs": [
    {
     "name": "stdout",
     "output_type": "stream",
     "text": [
      "saved /home/yuncong/project/DavidData2014results/RS139/0009/RS139_x5_0009_segm-blueNisslRegular_segmentationTransparent.png\n"
     ]
    }
   ],
   "source": [
    "emptycanvas_superpixelized = mark_boundaries(np.ones_like(dm.image), masked_segmentation_relabeled, \n",
    "                                             color=(0,0,0), outline_color=None)\n",
    "# emptycanvas_superpixelized = img_as_ubyte(emptycanvas_superpixelized)\n",
    "alpha_channel = ~ emptycanvas_superpixelized.all(axis=2)\n",
    "a = np.dstack([emptycanvas_superpixelized, alpha_channel])\n",
    "\n",
    "dm.save_pipeline_result(a, 'segmentationTransparent', 'png', is_rgb=True)"
   ]
  },
  {
   "cell_type": "code",
   "execution_count": 59,
   "metadata": {
    "collapsed": false
   },
   "outputs": [],
   "source": [
    "# display(img_superpixelized_with_text)"
   ]
  },
  {
   "cell_type": "code",
   "execution_count": 11,
   "metadata": {
    "collapsed": false
   },
   "outputs": [
    {
     "name": "stdout",
     "output_type": "stream",
     "text": [
      "saved /home/yuncong/project/DavidData2014results/RS141/0004/RS141_x5_0004_segm-blueNisslRegular_neighbors.pkl\n",
      "saved /home/yuncong/project/DavidData2014results/RS141/0004/RS141_x5_0004_gabor-blueNisslWide-segm-blueNisslRegular-vq-blueNissl_edgeNeighbors.pkl\n",
      "saved /home/yuncong/project/DavidData2014results/RS141/0004/RS141_x5_0004_gabor-blueNisslWide-segm-blueNisslRegular-vq-blueNissl_edgeCoords.pkl\n",
      "saved /home/yuncong/project/DavidData2014results/RS141/0004/RS141_x5_0004_gabor-blueNisslWide-segm-blueNisslRegular-vq-blueNissl_neighborsLongBorder.pkl\n"
     ]
    }
   ],
   "source": [
    "from collections import defaultdict\n",
    "\n",
    "d1 = np.diff(masked_segmentation_relabeled, axis=0).astype(np.bool)\n",
    "d2 = np.diff(masked_segmentation_relabeled, axis=1).astype(np.bool)\n",
    "d3 = (masked_segmentation_relabeled[1:,1:]-masked_segmentation_relabeled[:-1,:-1]).astype(np.bool)\n",
    "d4 = (masked_segmentation_relabeled[1:,:-1]-masked_segmentation_relabeled[:-1,1:]).astype(np.bool)\n",
    "d5 = (masked_segmentation_relabeled[2:,:]-masked_segmentation_relabeled[:-2,:]).astype(np.bool)\n",
    "d6 = (masked_segmentation_relabeled[:,2:]-masked_segmentation_relabeled[:,:-2]).astype(np.bool)\n",
    "d7 = (masked_segmentation_relabeled[2:,2:]-masked_segmentation_relabeled[:-2,:-2]).astype(np.bool)\n",
    "d8 = (masked_segmentation_relabeled[2:,:-2]-masked_segmentation_relabeled[:-2,2:]).astype(np.bool)\n",
    "\n",
    "neighbors = [set() for _ in range(n_superpixels)]\n",
    "edge_coords = defaultdict(set)\n",
    "\n",
    "def f(d, y1_offset=0, x1_offset=0, y2_offset=0, x2_offset=0):\n",
    "    ys, xs = np.where(d)\n",
    "    y1s = ys + y1_offset\n",
    "    x1s = xs + x1_offset\n",
    "    y2s = ys + y2_offset\n",
    "    x2s = xs + x2_offset\n",
    "    for y1,x1,y2,x2 in zip(y1s,x1s,y2s,x2s):\n",
    "        l1 = masked_segmentation_relabeled[y1,x1]\n",
    "        l2 = masked_segmentation_relabeled[y2,x2]\n",
    "        if l1 != -1:\n",
    "            neighbors[l1].add(l2)\n",
    "            edge_coords[frozenset([l1,l2])].add((y1,x1))\n",
    "            edge_coords[frozenset([l1,l2])].add((y2,x2))\n",
    "        if l2 != -1:\n",
    "            try:\n",
    "                neighbors[l2].add(l1)\n",
    "            except:\n",
    "                print l2,l1\n",
    "            edge_coords[frozenset([l1,l2])].add((y1,x1))\n",
    "            edge_coords[frozenset([l1,l2])].add((y2,x2))\n",
    "\n",
    "# cannot work because writing to the same container simultaneous is dangerous\n",
    "# fargs = [(d1, 0,0,1,0),(d2, 0,0,0,1),(d3, 0,0,1,1),(d4, 0,1,1,0),\n",
    "#          (d5, 0,0,2,0),(d6, 0,0,0,2),(d7, 0,0,2,2),(d8, 0,2,2,0)]\n",
    "# Parallel(n_jobs=16)(delayed(f)(t) for t in fargs)\n",
    "    \n",
    "f(d1, 0,0,1,0)\n",
    "f(d2, 0,0,0,1)\n",
    "f(d3, 0,0,1,1)\n",
    "f(d4, 0,1,1,0)\n",
    "f(d5, 0,0,2,0)\n",
    "f(d6, 0,0,0,2)\n",
    "f(d7, 0,0,2,2)\n",
    "f(d8, 0,2,2,0)\n",
    "\n",
    "# check symmetry; note that this CANNOT check if neighbors is complete\n",
    "A = np.zeros((n_superpixels, n_superpixels))\n",
    "for i, nbrs in enumerate(neighbors):\n",
    "    q = list([j for j in nbrs if j != -1])\n",
    "    A[i, q] = 1    \n",
    "assert np.all(A == A.T), 'neighbor list is not symmetric'\n",
    "\n",
    "for i in range(n_superpixels):\n",
    "    neighbors[i] -= {i}\n",
    "    \n",
    "dm.save_pipeline_result(neighbors, 'neighbors', 'pkl')\n",
    "\n",
    "edges = edge_coords.keys()\n",
    "\n",
    "edge_map = -1 * np.ones_like(dm.image, np.int)\n",
    "for ei, (e, pts_set) in enumerate(edge_coords.iteritems()):\n",
    "    rs, cs = zip(*pts_set)\n",
    "    edge_map[np.array(rs), np.array(cs)] = ei\n",
    "    \n",
    "def f(edge_coords):\n",
    "    return [set(zip(*np.hstack([np.mgrid[max(r-5,0):min(r+5, dm.image_height), \n",
    "                                         max(c-5,0):min(c+5, dm.image_width)].reshape((2,-1)) \n",
    "                                for r,c in pts]).reshape((2,-1)).tolist())) \n",
    "            for e, pts in edge_coords]\n",
    "\n",
    "b = Parallel(n_jobs=16)(delayed(f)(s) for s in np.array_split(edge_coords.items(), 16))\n",
    "neighborhood_pts = [p for bb in b for p in bb]\n",
    "\n",
    "edge_neighbors = defaultdict(set)\n",
    "for ei, pts in enumerate(neighborhood_pts):\n",
    "    rs, cs = zip(*pts)\n",
    "    eis = set(edge_map[rs,cs]) - {-1, ei}\n",
    "    edge_neighbors[edges[ei]] |= set([edges[ei] for ei in eis])\n",
    "\n",
    "dm.save_pipeline_result(edge_neighbors, 'edgeNeighbors','pkl')\n",
    "\n",
    "edge_coords_sorted = {}\n",
    "for e, pts in edge_coords.iteritems():\n",
    "    X = np.array(list(pts), dtype=np.float) # 2-by-n\n",
    "    Xc = X - X.mean(axis=0)\n",
    "    U,S,V = np.linalg.svd(np.dot(Xc.T, Xc))\n",
    "    u1 = U[:,0]\n",
    "    projs = np.dot(Xc,u1)\n",
    "    order = projs.argsort()\n",
    "    if Xc[order[0],0] > Xc[order[-1],0]:\n",
    "        order = order[::-1]\n",
    "    edge_coords_sorted[e] = X[order].astype(np.int)\n",
    "\n",
    "dm.save_pipeline_result(edge_coords_sorted, 'edgeCoords', 'pkl')\n",
    "\n",
    "border_len_thresh = 20\n",
    "neighbors_long_border = [set([nbr for nbr in nbrs if len(edge_coords[frozenset([n,nbr])]) > border_len_thresh]) \n",
    "                             for n, nbrs in enumerate(neighbors)]\n",
    "dm.save_pipeline_result(neighbors_long_border, 'neighborsLongBorder', 'pkl')"
   ]
  },
  {
   "cell_type": "code",
   "execution_count": null,
   "metadata": {
    "collapsed": false
   },
   "outputs": [],
   "source": [
    "# # Compute neighbor lists and connectivity matrix\n",
    "\n",
    "# from collections import defaultdict\n",
    "# from itertools import combinations\n",
    "# from skimage.segmentation import find_boundaries\n",
    "\n",
    "# # from skimage.morphology import disk\n",
    "# # from skimage.filter.rank import gradient\n",
    "    \n",
    "# # try:\n",
    "# #     neighbors = dm.load_pipeline_result('neighbors', 'pkl')\n",
    "\n",
    "# # except:\n",
    "\n",
    "# q = masked_segmentation_relabeled.astype(np.uint8)\n",
    "# d1 = np.diff(q, axis=0).astype(np.bool)\n",
    "# d2 = np.diff(q, axis=0).astype(np.bool)\n",
    "# d3 = (q[1:,1:]-q[:-1,:-1]).astype(np.bool)\n",
    "# d4 = (q[1:,:-1]-q[:-1,1:]).astype(np.bool)\n",
    "\n",
    "# edge_map = np.zeros_like(masked_segmentation_relabeled, np.bool)\n",
    "# # edge_map = gradient(masked_segmentation_relabeled.astype(np.uint8), square(3))\n",
    "# # edge_map = find_boundaries(masked_segmentation_relabeled) # behavior not clear\n",
    "# neighbors = [set() for _ in range(n_superpixels)]\n",
    "\n",
    "# edge_coords = defaultdict(set)\n",
    "\n",
    "# adj_size = 2\n",
    "\n",
    "# for y,x in zip(*np.nonzero(edge_map)):\n",
    "#     l = masked_segmentation_relabeled[y,x]\n",
    "#     if l != -1:\n",
    "#         adjacent_labels = set(masked_segmentation_relabeled[max(0, y-adj_size):min(dm.image_height, y+adj_size),\n",
    "#                                                         max(0, x-adj_size):min(dm.image_width, x+adj_size)].ravel())\n",
    "#         neighbors[l] |= adjacent_labels\n",
    "\n",
    "#         for al in adjacent_labels - {l}:\n",
    "#             edge_coords[frozenset([l,al])].add((y,x))\n",
    "\n",
    "# for i in range(n_superpixels):\n",
    "#     neighbors[i] -= {i}\n",
    "\n",
    "# # dm.save_pipeline_result(neighbors, 'neighbors', 'pkl')\n",
    "\n",
    "# # dm.save_pipeline_result(edge_coords, 'edgeCoords', 'pkl')\n",
    "\n",
    "# # border_len_thresh = 20\n",
    "# # neighbors_long_border = [set([nbr for nbr in nbrs if len(edge_coords[frozenset([n,nbr])]) > border_len_thresh]) \n",
    "# #                              for n, nbrs in enumerate(neighbors)]\n",
    "# # dm.save_pipeline_result(neighbors_long_border, 'neighborsLongBorder', 'pkl')\n",
    "\n",
    "\n",
    "# # neighbors_dict = dict(zip(np.arange(n_superpixels), [list(i) for i in neighbors]))\n",
    "# # neighbor_graph = from_dict_of_lists(neighbors_dict)"
   ]
  }
 ],
 "metadata": {
  "kernelspec": {
   "display_name": "Python 2",
   "language": "python",
   "name": "python2"
  },
  "language_info": {
   "codemirror_mode": {
    "name": "ipython",
    "version": 2
   },
   "file_extension": ".py",
   "mimetype": "text/x-python",
   "name": "python",
   "nbconvert_exporter": "python",
   "pygments_lexer": "ipython2",
   "version": "2.7.3"
  }
 },
 "nbformat": 4,
 "nbformat_minor": 0
}
