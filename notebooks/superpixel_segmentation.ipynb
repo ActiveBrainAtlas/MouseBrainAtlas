{
 "cells": [
  {
   "cell_type": "code",
   "execution_count": 1,
   "metadata": {
    "collapsed": false
   },
   "outputs": [],
   "source": [
    "%reload_ext autoreload\n",
    "%autoreload 2"
   ]
  },
  {
   "cell_type": "code",
   "execution_count": 2,
   "metadata": {
    "collapsed": false
   },
   "outputs": [
    {
     "name": "stderr",
     "output_type": "stream",
     "text": [
      "/oasis/projects/nsf/csd181/yuncong/virtualenv-1.9.1/yuncongve/lib/python2.7/site-packages/skimage/filter/__init__.py:6: skimage_deprecation: The `skimage.filter` module has been renamed to `skimage.filters`.  This placeholder module will be removed in v0.13.\n",
      "  warn(skimage_deprecation('The `skimage.filter` module has been renamed '\n"
     ]
    }
   ],
   "source": [
    "import os\n",
    "\n",
    "os.environ['GORDON_DATA_DIR']='/oasis/projects/nsf/csd181/yuncong/DavidData2014tif'\n",
    "os.environ['GORDON_REPO_DIR']='/oasis/projects/nsf/csd395/yuncong/Brain'\n",
    "os.environ['GORDON_RESULT_DIR']='/oasis/projects/nsf/csd395/yuncong/DavidData2014results'\n",
    "\n",
    "import sys\n",
    "sys.path.append(os.environ['GORDON_REPO_DIR'] + '/pipeline_scripts')\n",
    "\n",
    "import utilities2014\n",
    "reload(utilities2014)\n",
    "from utilities2014 import *\n",
    "\n",
    "sys.path.append('/home/yuncong/project/opencv-2.4.9/release/lib/python2.7/site-packages')\n",
    "import cv2\n",
    "\n",
    "dm = DataManager(generate_hierarchy=False, stack='RS141', resol='x5', section=1)\n",
    "dm._load_image()"
   ]
  },
  {
   "cell_type": "code",
   "execution_count": null,
   "metadata": {
    "collapsed": false,
    "scrolled": true
   },
   "outputs": [],
   "source": [
    "# Over-segment the image into superpixels using SLIC (http://ivrg.epfl.ch/research/superpixels)\n",
    "\n",
    "from skimage.segmentation import slic, mark_boundaries\n",
    "from skimage.util import img_as_ubyte, pad\n",
    "from joblib import Parallel, delayed\n",
    "\n",
    "masked_image = dm.image.copy()\n",
    "\n",
    "# approx_bg_intensity = dm.image[10:20, 10:20].mean()\n",
    "# masked_image[~dm.mask] = approx_bg_intensity\n",
    "\n",
    "masked_image[~dm.mask] = 0\n",
    "\n",
    "segmentation = slic(gray2rgb(masked_image), n_segments=int(dm.segm_params['n_superpixels']), \n",
    "                    max_iter=10, \n",
    "                    compactness=float(dm.segm_params['slic_compactness']), \n",
    "                    sigma=float(dm.segm_params['slic_sigma']), \n",
    "                    enforce_connectivity=True)"
   ]
  },
  {
   "cell_type": "code",
   "execution_count": 5,
   "metadata": {
    "collapsed": false
   },
   "outputs": [],
   "source": [
    "# display(mark_boundaries(masked_image, segmentation))"
   ]
  },
  {
   "cell_type": "code",
   "execution_count": 6,
   "metadata": {
    "collapsed": false
   },
   "outputs": [],
   "source": [
    "n = len(np.unique(segmentation))\n",
    "\n",
    "def f(i):\n",
    "    m = dm.mask[segmentation == i]\n",
    "    return np.count_nonzero(m)/float(len(m)) < .8\n",
    "\n",
    "q = Parallel(n_jobs=16)(delayed(f)(i) for i in range(n))\n",
    "                        \n",
    "masked_segmentation = segmentation.copy()\n",
    "for i in np.where(q)[0]:\n",
    "    masked_segmentation[segmentation == i] = -1"
   ]
  },
  {
   "cell_type": "code",
   "execution_count": 7,
   "metadata": {
    "collapsed": false
   },
   "outputs": [],
   "source": [
    "# display(mark_boundaries(masked_image, masked_segmentation))"
   ]
  },
  {
   "cell_type": "code",
   "execution_count": 8,
   "metadata": {
    "collapsed": false
   },
   "outputs": [],
   "source": [
    "from skimage.segmentation import relabel_sequential\n",
    "\n",
    "# try:\n",
    "#     masked_segmentation_relabeled = dm.load_pipeline_result('segmentation', 'npy')\n",
    "\n",
    "# except:\n",
    "\n",
    "    # segmentation starts from 0\n",
    "masked_segmentation_relabeled, fw, inv = relabel_sequential(masked_segmentation + 1)\n",
    "\n",
    "# make background label -1\n",
    "masked_segmentation_relabeled -= 1\n"
   ]
  },
  {
   "cell_type": "code",
   "execution_count": 9,
   "metadata": {
    "collapsed": false
   },
   "outputs": [
    {
     "name": "stdout",
     "output_type": "stream",
     "text": [
      "saved /home/yuncong/project/DavidData2014results/RS141/0008/RS141_x5_0008_segm-blueNisslRegular_segmentation.npy\n"
     ]
    }
   ],
   "source": [
    "dm.save_pipeline_result(masked_segmentation_relabeled, 'segmentation', 'npy')"
   ]
  },
  {
   "cell_type": "code",
   "execution_count": 4,
   "metadata": {
    "collapsed": false
   },
   "outputs": [],
   "source": [
    "# masked_segmentation_relabeled = dm.load_pipeline_result('segmentation', 'npy')"
   ]
  },
  {
   "cell_type": "code",
   "execution_count": 11,
   "metadata": {
    "collapsed": false
   },
   "outputs": [
    {
     "name": "stdout",
     "output_type": "stream",
     "text": [
      "saved /home/yuncong/project/DavidData2014results/RS141/0008/RS141_x5_0008_segm-blueNisslRegular_spProps.npy\n"
     ]
    }
   ],
   "source": [
    "sp_props = regionprops(masked_segmentation_relabeled + 1, intensity_image=dm.image, cache=True)\n",
    "\n",
    "def obtain_props_worker(i):\n",
    "    return sp_props[i].centroid, sp_props[i].area, sp_props[i].mean_intensity, sp_props[i].bbox\n",
    "\n",
    "r = Parallel(n_jobs=16)(delayed(obtain_props_worker)(i) for i in range(len(sp_props)))\n",
    "\n",
    "sp_centroids = np.array([s[0] for s in r])\n",
    "sp_areas = np.array([s[1] for s in r])\n",
    "sp_mean_intensity = np.array([s[2] for s in r])\n",
    "sp_bbox = np.array([s[3] for s in r]) \n",
    "\n",
    "# n_superpixel x 8: (cy, cx, area, mean_intensity, ymin, xmin, ymax, xmax)\n",
    "\n",
    "sp_properties = np.column_stack([sp_centroids, sp_areas, sp_mean_intensity, sp_bbox])\n",
    "\n",
    "dm.save_pipeline_result(sp_properties, 'spProps', 'npy')"
   ]
  },
  {
   "cell_type": "code",
   "execution_count": 5,
   "metadata": {
    "collapsed": true
   },
   "outputs": [],
   "source": [
    "# sp_properties = dm.load_pipeline_result('spProps', 'npy')"
   ]
  },
  {
   "cell_type": "code",
   "execution_count": 6,
   "metadata": {
    "collapsed": true
   },
   "outputs": [],
   "source": [
    "n_superpixels = len(np.unique(masked_segmentation_relabeled)) - 1"
   ]
  },
  {
   "cell_type": "code",
   "execution_count": 12,
   "metadata": {
    "collapsed": false
   },
   "outputs": [
    {
     "name": "stdout",
     "output_type": "stream",
     "text": [
      "saved /home/yuncong/project/DavidData2014results/RS141/0008/RS141_x5_0008_segm-blueNisslRegular_segmentationWithoutText.jpg\n",
      "saved /home/yuncong/project/DavidData2014results/RS141/0008/RS141_x5_0008_segm-blueNisslRegular_segmentationWithText.jpg\n"
     ]
    },
    {
     "name": "stderr",
     "output_type": "stream",
     "text": [
      "/oasis/projects/nsf/csd181/yuncong/virtualenv-1.9.1/yuncongve/lib/python2.7/site-packages/skimage/util/dtype.py:107: UserWarning: Possible precision loss when converting from float64 to uint8\n",
      "  \"%s to %s\" % (dtypeobj_in, dtypeobj))\n"
     ]
    }
   ],
   "source": [
    "img_superpixelized = mark_boundaries(dm.image, masked_segmentation_relabeled)\n",
    "img_superpixelized_with_text = img_as_ubyte(img_superpixelized)\n",
    "\n",
    "dm.save_pipeline_result(img_superpixelized_with_text, 'segmentationWithoutText', 'jpg')\n",
    "\n",
    "for s in range(n_superpixels):\n",
    "    cv2.putText(img_superpixelized_with_text, str(s), \n",
    "                           tuple(np.floor(sp_centroids[s][::-1]).astype(np.int) - np.array([10,-10])), \n",
    "                           cv2.FONT_HERSHEY_DUPLEX,\n",
    "                           .5, ((255,0,255)), 1)\n",
    "\n",
    "dm.save_pipeline_result(img_superpixelized_with_text, 'segmentationWithText', 'jpg')"
   ]
  },
  {
   "cell_type": "code",
   "execution_count": 13,
   "metadata": {
    "collapsed": false
   },
   "outputs": [
    {
     "name": "stdout",
     "output_type": "stream",
     "text": [
      "saved /home/yuncong/project/DavidData2014results/RS141/0008/RS141_x5_0008_segm-blueNisslRegular_segmentationTransparent.png\n"
     ]
    }
   ],
   "source": [
    "emptycanvas_superpixelized = mark_boundaries(np.ones_like(dm.image), masked_segmentation_relabeled, \n",
    "                                             color=(0,0,0), outline_color=None)\n",
    "# emptycanvas_superpixelized = img_as_ubyte(emptycanvas_superpixelized)\n",
    "alpha_channel = ~ emptycanvas_superpixelized.all(axis=2)\n",
    "a = np.dstack([emptycanvas_superpixelized, alpha_channel])\n",
    "\n",
    "dm.save_pipeline_result(a, 'segmentationTransparent', 'png', is_rgb=True)"
   ]
  },
  {
   "cell_type": "code",
   "execution_count": 14,
   "metadata": {
    "collapsed": false
   },
   "outputs": [],
   "source": [
    "# display(img_superpixelized_with_text)"
   ]
  },
  {
   "cell_type": "code",
   "execution_count": 7,
   "metadata": {
    "collapsed": false
   },
   "outputs": [],
   "source": [
    "def diff_offset(x_offset, y_offset):\n",
    "\n",
    "    h, w = masked_segmentation_relabeled.shape\n",
    "\n",
    "    moving_x_low = max(x_offset, 0)\n",
    "    moving_x_high = min(x_offset + w, w)\n",
    "    moving_width = moving_x_high - moving_x_low\n",
    "    moving_y_low = max(y_offset, 0)\n",
    "    moving_y_high = min(y_offset + h, h)\n",
    "    moving_height = moving_y_high - moving_y_low\n",
    "\n",
    "    d = np.dstack([masked_segmentation_relabeled[moving_y_low:moving_y_high, moving_x_low:moving_x_high], \n",
    "                   masked_segmentation_relabeled[:moving_height, :moving_width]])\n",
    "\n",
    "    ys, xs = np.mgrid[:d.shape[0], :d.shape[1]]\n",
    "    nzs = ~(d[...,0]==d[...,1])\n",
    "    r = np.c_[d[nzs], ys[nzs] + y_offset, xs[nzs] + x_offset] # [sp_label1, sp_label2, y, x]\n",
    "\n",
    "    return r"
   ]
  },
  {
   "cell_type": "code",
   "execution_count": 9,
   "metadata": {
    "collapsed": false
   },
   "outputs": [
    {
     "name": "stdout",
     "output_type": "stream",
     "text": [
      "6.52944087982\n",
      "saved /oasis/projects/nsf/csd395/yuncong/DavidData2014results/RS141/0001/RS141_x5_0001_segm-blueNisslRegular_neighbors.pkl\n"
     ]
    }
   ],
   "source": [
    "from collections import defaultdict\n",
    "\n",
    "t = time.time()\n",
    "\n",
    "diffs = np.vstack([diff_offset(1,0), diff_offset(0,1), diff_offset(1,1), diff_offset(1,-1)])\n",
    "\n",
    "edge_coords = defaultdict(set)\n",
    "neighbors = [set() for _ in range(n_superpixels)]\n",
    "\n",
    "for i, j, y, x in diffs:\n",
    "    edge_coords[frozenset([i,j])].add((x,y))\n",
    "    if i != -1:\n",
    "        neighbors[i].add(j)\n",
    "    if j != -1:\n",
    "        neighbors[j].add(i)\n",
    "\n",
    "print time.time() - t\n",
    "\n",
    "# check symmetry; note that this CANNOT check if neighbors is complete\n",
    "A = np.zeros((n_superpixels, n_superpixels))\n",
    "for i, nbrs in enumerate(neighbors):\n",
    "    q = list([j for j in nbrs if j != -1])\n",
    "    A[i, q] = 1    \n",
    "assert np.all(A == A.T), 'neighbor list is not symmetric'\n",
    "\n",
    "dm.save_pipeline_result(neighbors, 'neighbors', 'pkl')"
   ]
  },
  {
   "cell_type": "code",
   "execution_count": 86,
   "metadata": {
    "collapsed": false
   },
   "outputs": [
    {
     "name": "stdout",
     "output_type": "stream",
     "text": [
      "21.8166899681\n"
     ]
    }
   ],
   "source": [
    "# from collections import defaultdict\n",
    "\n",
    "# t = time.time()\n",
    "\n",
    "# d1 = np.diff(masked_segmentation_relabeled, axis=0).astype(np.bool)\n",
    "# d2 = np.diff(masked_segmentation_relabeled, axis=1).astype(np.bool)\n",
    "# d3 = (masked_segmentation_relabeled[1:,1:]-masked_segmentation_relabeled[:-1,:-1]).astype(np.bool)\n",
    "# d4 = (masked_segmentation_relabeled[1:,:-1]-masked_segmentation_relabeled[:-1,1:]).astype(np.bool)\n",
    "# d5 = (masked_segmentation_relabeled[2:,:]-masked_segmentation_relabeled[:-2,:]).astype(np.bool)\n",
    "# d6 = (masked_segmentation_relabeled[:,2:]-masked_segmentation_relabeled[:,:-2]).astype(np.bool)\n",
    "# d7 = (masked_segmentation_relabeled[2:,2:]-masked_segmentation_relabeled[:-2,:-2]).astype(np.bool)\n",
    "# d8 = (masked_segmentation_relabeled[2:,:-2]-masked_segmentation_relabeled[:-2,2:]).astype(np.bool)\n",
    "\n",
    "# neighbors = [set() for _ in range(n_superpixels)]\n",
    "# edge_coords = defaultdict(set)\n",
    "\n",
    "# def diff_after_offset(d, y1_offset=0, x1_offset=0, y2_offset=0, x2_offset=0, add_edge_coords=False):\n",
    "#     ys, xs = np.where(d)\n",
    "#     y1s = ys + y1_offset\n",
    "#     x1s = xs + x1_offset\n",
    "#     y2s = ys + y2_offset\n",
    "#     x2s = xs + x2_offset\n",
    "#     for y1,x1,y2,x2 in zip(y1s,x1s,y2s,x2s):\n",
    "#         l1 = masked_segmentation_relabeled[y1,x1]\n",
    "#         l2 = masked_segmentation_relabeled[y2,x2]\n",
    "#         if l1 != -1:\n",
    "#             neighbors[l1].add(l2)\n",
    "#             if add_edge_coords:\n",
    "#                 edge_coords[frozenset([l1,l2])].add((x1,y1))\n",
    "#                 edge_coords[frozenset([l1,l2])].add((x2,y2))\n",
    "#         if l2 != -1:\n",
    "#             neighbors[l2].add(l1)\n",
    "#             if add_edge_coords:\n",
    "#                 edge_coords[frozenset([l1,l2])].add((x1,y1))\n",
    "#                 edge_coords[frozenset([l1,l2])].add((x2,y2))\n",
    "                \n",
    "# # cannot work because writing to the same container simultaneous is dangerous\n",
    "# # fargs = [(d1, 0,0,1,0),(d2, 0,0,0,1),(d3, 0,0,1,1),(d4, 0,1,1,0),\n",
    "# #          (d5, 0,0,2,0),(d6, 0,0,0,2),(d7, 0,0,2,2),(d8, 0,2,2,0)]\n",
    "# # Parallel(n_jobs=16)(delayed(f)(t) for t in fargs)\n",
    "    \n",
    "# diff_after_offset(d1, 0,0,1,0, add_edge_coords=True)\n",
    "# diff_after_offset(d2, 0,0,0,1, add_edge_coords=True)\n",
    "# diff_after_offset(d3, 0,0,1,1, add_edge_coords=True)\n",
    "# diff_after_offset(d4, 0,1,1,0, add_edge_coords=True)\n",
    "# diff_after_offset(d5, 0,0,2,0, add_edge_coords=True)\n",
    "# diff_after_offset(d6, 0,0,0,2, add_edge_coords=True)\n",
    "# diff_after_offset(d7, 0,0,2,2, add_edge_coords=True)\n",
    "# diff_after_offset(d8, 0,2,2,0, add_edge_coords=True)\n",
    "\n",
    "# edge_coords.default_factory = None\n",
    "\n",
    "\n",
    "# # check symmetry; note that this CANNOT check if neighbors is complete\n",
    "# A = np.zeros((n_superpixels, n_superpixels))\n",
    "# for i, nbrs in enumerate(neighbors):\n",
    "#     q = list([j for j in nbrs if j != -1])\n",
    "#     A[i, q] = 1    \n",
    "# assert np.all(A == A.T), 'neighbor list is not symmetric'\n",
    "\n",
    "# for i in range(n_superpixels):\n",
    "#     neighbors[i] -= {i}\n",
    "    \n",
    "    \n",
    "# print time.time() - t\n",
    "\n",
    "    \n",
    "# # dm.save_pipeline_result(neighbors, 'neighbors', 'pkl')"
   ]
  },
  {
   "cell_type": "code",
   "execution_count": 18,
   "metadata": {
    "collapsed": false
   },
   "outputs": [],
   "source": [
    "# neighbors = dm.load_pipeline_result('neighbors', 'pkl')"
   ]
  },
  {
   "cell_type": "code",
   "execution_count": 10,
   "metadata": {
    "collapsed": false
   },
   "outputs": [
    {
     "name": "stdout",
     "output_type": "stream",
     "text": [
      "57.6408178806\n"
     ]
    }
   ],
   "source": [
    "t = time.time()\n",
    "\n",
    "edges = edge_coords.keys()\n",
    "\n",
    "edge_map = -1 * np.ones_like(dm.image, np.int)\n",
    "for ei, (e, pts_set) in enumerate(edge_coords.iteritems()):\n",
    "    xs, ys = zip(*pts_set)\n",
    "    edge_map[np.array(ys), np.array(xs)] = ei\n",
    "    \n",
    "def f(edge_coords):\n",
    "    return [set(zip(*np.hstack([np.mgrid[max(x-5,0):min(x+5, dm.image_width), \n",
    "                                         max(y-5,0):min(y+5, dm.image_height)].reshape((2,-1)) \n",
    "                                for x,y in pts]).reshape((2,-1)).tolist())) \n",
    "            for e, pts in edge_coords]\n",
    "\n",
    "b = Parallel(n_jobs=16)(delayed(f)(s) for s in np.array_split(edge_coords.items(), 16))\n",
    "neighborhood_pts = [p for bb in b for p in bb]\n",
    "\n",
    "edge_neighbors = defaultdict(set)\n",
    "for ei, pts in enumerate(neighborhood_pts):\n",
    "    xs, ys = zip(*pts)\n",
    "    eis = set(edge_map[ys,xs]) - {-1, ei}\n",
    "    edge_neighbors[edges[ei]] |= set([edges[ei] for ei in eis])\n",
    "\n",
    "# dm.save_pipeline_result(edge_neighbors, 'edgeNeighbors','pkl')\n",
    "\n",
    "print time.time() - t"
   ]
  },
  {
   "cell_type": "code",
   "execution_count": 11,
   "metadata": {
    "collapsed": false
   },
   "outputs": [
    {
     "name": "stdout",
     "output_type": "stream",
     "text": [
      "saved /oasis/projects/nsf/csd395/yuncong/DavidData2014results/RS141/0001/RS141_x5_0001_gabor-blueNisslWide-segm-blueNisslRegular-vq-blueNissl_edgeCoords.pkl\n",
      "saved /oasis/projects/nsf/csd395/yuncong/DavidData2014results/RS141/0001/RS141_x5_0001_gabor-blueNisslWide-segm-blueNisslRegular-vq-blueNissl_edgeMidpoints.pkl\n"
     ]
    }
   ],
   "source": [
    "edge_coords_sorted = {}\n",
    "edge_midpoint = {}\n",
    "\n",
    "for e, pts in edge_coords.iteritems():\n",
    "    X = np.array(list(pts), dtype=np.float) # n-by-2\n",
    "    c = X.mean(axis=0)\n",
    "    edge_midpoint[e] = c\n",
    "    Xc = X - c\n",
    "    U,S,V = np.linalg.svd(np.dot(Xc.T, Xc))\n",
    "    u1 = U[:,0]\n",
    "    projs = np.dot(Xc,u1)\n",
    "    order = projs.argsort()\n",
    "    if Xc[order[0],0] > Xc[order[-1],0]:\n",
    "        order = order[::-1]\n",
    "    edge_coords_sorted[e] = X[order].astype(np.int)\n",
    "    \n",
    "dm.save_pipeline_result(edge_coords_sorted, 'edgeCoords', 'pkl')\n",
    "dm.save_pipeline_result(edge_midpoint, 'edgeMidpoints', 'pkl')"
   ]
  },
  {
   "cell_type": "code",
   "execution_count": 12,
   "metadata": {
    "collapsed": false
   },
   "outputs": [
    {
     "name": "stdout",
     "output_type": "stream",
     "text": [
      "saved /oasis/projects/nsf/csd395/yuncong/DavidData2014results/RS141/0001/RS141_x5_0001_gabor-blueNisslWide-segm-blueNisslRegular-vq-blueNissl_edgeVectors.pkl\n"
     ]
    }
   ],
   "source": [
    "dedge_vectors = defaultdict(float)\n",
    "\n",
    "for e in edge_coords.keys():\n",
    "    c = edge_midpoint[e]\n",
    "    i, j = e\n",
    "    if i == -1:\n",
    "        vector_ji = sp_properties[j,:2][::-1] - c\n",
    "    elif j == -1:\n",
    "        vector_ji = c - sp_properties[i,:2][::-1]\n",
    "    else:\n",
    "        vector_ji = sp_properties[i,:2][::-1] - sp_properties[j,:2][::-1]\n",
    "\n",
    "    dedge_vectors[(i,j)] = vector_ji/np.linalg.norm(vector_ji)\n",
    "    dedge_vectors[(j,i)] = -dedge_vectors[(i,j)]\n",
    "\n",
    "dedge_vectors.default_factory = None\n",
    "\n",
    "dm.save_pipeline_result(dedge_vectors, 'edgeVectors', 'pkl')"
   ]
  },
  {
   "cell_type": "code",
   "execution_count": 13,
   "metadata": {
    "collapsed": false
   },
   "outputs": [
    {
     "name": "stdout",
     "output_type": "stream",
     "text": [
      "saved /oasis/projects/nsf/csd395/yuncong/DavidData2014results/RS141/0001/RS141_x5_0001_gabor-blueNisslWide-segm-blueNisslRegular-vq-blueNissl_dedgeNeighbors.pkl\n",
      "saved /oasis/projects/nsf/csd395/yuncong/DavidData2014results/RS141/0001/RS141_x5_0001_gabor-blueNisslWide-segm-blueNisslRegular-vq-blueNissl_neighborsLongBorder.pkl\n"
     ]
    }
   ],
   "source": [
    "dedge_neighbors = defaultdict(set)\n",
    "for (i,j), es in edge_neighbors.iteritems():\n",
    "\n",
    "    if len(es) == 0:\n",
    "        print 'WARNING: edge (%d,%d) has no neighbors'%(i,j)\n",
    "        ls = []\n",
    "    else:\n",
    "        ls = set.union(*[{(a,b),(b,a)} for a,b in es])\n",
    "    \n",
    "    dedge_neighbors[(i,j)] |= set((a,b) for a,b in ls \n",
    "                                  if not (i==b or j==a) and\\\n",
    "                                  np.dot(dedge_vectors[(i,j)], dedge_vectors[(a,b)]) > -.5) - {(j,i),(i,j)}\n",
    "\n",
    "    dedge_neighbors[(j,i)] |= set((a,b) for a,b in ls \n",
    "                                  if not (j==b or i==a) and\\\n",
    "                                  np.dot(dedge_vectors[(j,i)], dedge_vectors[(a,b)]) > -.5) - {(j,i),(i,j)}\n",
    "\n",
    "dedge_neighbors.default_factory = None\n",
    "dm.save_pipeline_result(dedge_neighbors, 'dedgeNeighbors', 'pkl')\n",
    "\n",
    "\n",
    "border_len_thresh = 20\n",
    "neighbors_long_border = [set([nbr for nbr in nbrs if len(edge_coords[frozenset([n,nbr])]) > border_len_thresh]) \n",
    "                             for n, nbrs in enumerate(neighbors)]\n",
    "dm.save_pipeline_result(neighbors_long_border, 'neighborsLongBorder', 'pkl')"
   ]
  },
  {
   "cell_type": "code",
   "execution_count": null,
   "metadata": {
    "collapsed": true
   },
   "outputs": [],
   "source": []
  }
 ],
 "metadata": {
  "kernelspec": {
   "display_name": "Python 2",
   "language": "python",
   "name": "python2"
  },
  "language_info": {
   "codemirror_mode": {
    "name": "ipython",
    "version": 2
   },
   "file_extension": ".py",
   "mimetype": "text/x-python",
   "name": "python",
   "nbconvert_exporter": "python",
   "pygments_lexer": "ipython2",
   "version": "2.7.3"
  }
 },
 "nbformat": 4,
 "nbformat_minor": 0
}
