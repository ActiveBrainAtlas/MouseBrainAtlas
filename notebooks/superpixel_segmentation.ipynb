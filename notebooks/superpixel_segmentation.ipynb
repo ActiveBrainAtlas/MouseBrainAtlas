{
 "cells": [
  {
   "cell_type": "code",
   "execution_count": 2,
   "metadata": {
    "collapsed": false
   },
   "outputs": [],
   "source": [
    "%reload_ext autoreload\n",
    "%autoreload 2"
   ]
  },
  {
   "cell_type": "code",
   "execution_count": 1,
   "metadata": {
    "collapsed": false
   },
   "outputs": [],
   "source": [
    "import os\n",
    "import sys\n",
    "import time\n",
    "\n",
    "from joblib import Parallel, delayed\n",
    "\n",
    "sys.path.append(os.path.join(os.environ['GORDON_REPO_DIR'], 'notebooks'))\n",
    "from utilities2015 import *\n",
    "\n",
    "sys.path.append('/home/yuncong/project/opencv-2.4.9/release/lib/python2.7/site-packages')\n",
    "import cv2\n",
    "\n",
    "dm = DataManager(data_dir=os.environ['GORDON_DATA_DIR'], \n",
    "                 repo_dir=os.environ['GORDON_REPO_DIR'], \n",
    "                 result_dir=os.environ['GORDON_RESULT_DIR'], \n",
    "                 labeling_dir=os.environ['GORDON_LABELING_DIR'],\n",
    "                 segm_params_id='tSLIC200', \n",
    "                 stack='MD593', \n",
    "                 section=140)"
   ]
  },
  {
   "cell_type": "code",
   "execution_count": null,
   "metadata": {
    "collapsed": false,
    "scrolled": true
   },
   "outputs": [],
   "source": [
    "sys.stderr.write('superpixel segmentation ...\\n')\n",
    "t = time.time()\n",
    "\n",
    "if dm.segm_params_id in ['gridsize200', 'gridsize100', 'gridsize50']:\n",
    "    grid_size = dm.grid_size\n",
    "\n",
    "    segmentation = np.zeros((dm.image_height, dm.image_width), np.int16)\n",
    "    rss, css = np.mgrid[0:dm.image_height:grid_size, 0:dm.image_width:grid_size]\n",
    "    for gi, (rs, cs) in enumerate(zip(rss.flat, css.flat)):\n",
    "        segmentation[rs:rs+grid_size, cs:cs+grid_size] = gi\n",
    "\n",
    "elif dm.segm_params_id in ['blueNisslRegular', 'n1500']:\n",
    "\n",
    "    dm._load_image(versions=['rgb'])\n",
    "    segmentation = -1 * np.ones((dm.image_height, dm.image_width), np.int16)\n",
    "    segmentation[dm.ymin:dm.ymax+1, dm.xmin:dm.xmax+1] = slic(dm.image_rgb[dm.ymin:dm.ymax+1, dm.xmin:dm.xmax+1], \n",
    "                                                            n_segments=int(dm.segm_params['n_superpixels']), \n",
    "                                                            max_iter=10, \n",
    "                                                            compactness=float(dm.segm_params['slic_compactness']), \n",
    "                                                            sigma=float(dm.segm_params['slic_sigma']), \n",
    "                                                            enforce_connectivity=True)\n",
    "\n",
    "elif dm.segm_params_id in ['tSLIC200']:\n",
    "\n",
    "    from slic_texture import slic_texture, enforce_connectivity\n",
    "    from skimage.transform import integral_image\n",
    "\n",
    "    segmentation = np.zeros((dm.image_height, dm.image_width), np.int16)\n",
    "\n",
    "    textonmap = dm.load_pipeline_result('texMap')\n",
    "    n_texton = textonmap.max() + 1\n",
    "\n",
    "    window_size = 201\n",
    "    window_halfsize = (window_size-1)/2\n",
    "\n",
    "    single_channel_maps = [textonmap[dm.ymin-window_halfsize : dm.ymax+1+window_halfsize, \n",
    "                                     dm.xmin-window_halfsize : dm.xmax+1+window_halfsize] == c\n",
    "                           for c in range(n_texton)]\n",
    "\n",
    "\n",
    "    # it is important to pad the integral image with zeros before first row and first column\n",
    "    def compute_integral_image(m):\n",
    "        return np.pad(integral_image(m), ((1,0),(1,0)), mode='constant', constant_values=0)\n",
    "\n",
    "    int_imgs = np.dstack(Parallel(n_jobs=4)(delayed(compute_integral_image)(m) for m in single_channel_maps))\n",
    "\n",
    "    histograms = int_imgs[window_size:, window_size:] + \\\n",
    "                int_imgs[:-window_size, :-window_size] - \\\n",
    "                int_imgs[window_size:, :-window_size] - \\\n",
    "                int_imgs[:-window_size, window_size:]\n",
    "\n",
    "    histograms_normalized = histograms/histograms.sum(axis=-1)[...,None].astype(np.float)\n",
    "\n",
    "    seg = slic_texture(histograms_normalized, max_iter=1)\n",
    "    segmentation[dm.ymin:dm.ymax+1, dm.xmin:dm.xmax+1] = enforce_connectivity(seg)\n",
    "\n",
    "segmentation[~dm.mask] = -1\n",
    "\n",
    "from skimage.segmentation import relabel_sequential\n",
    "\n",
    "# segmentation starts from 0\n",
    "masked_segmentation_relabeled, _, _ = relabel_sequential(segmentation + 1)\n",
    "\n",
    "# make background label -1\n",
    "segmentation = masked_segmentation_relabeled - 1\n",
    "\n",
    "# dm.save_pipeline_result(segmentation.astype(np.int16), 'segmentation')\n",
    "\n",
    "sys.stderr.write('done in %.2f seconds\\n' % (time.time() - t))"
   ]
  },
  {
   "cell_type": "code",
   "execution_count": 5,
   "metadata": {
    "collapsed": true
   },
   "outputs": [],
   "source": [
    "segmentation = dm.load_pipeline_result('segmentation')"
   ]
  },
  {
   "cell_type": "code",
   "execution_count": 6,
   "metadata": {
    "collapsed": true
   },
   "outputs": [],
   "source": [
    "n_superpixels = len(np.unique(segmentation)) - 1"
   ]
  },
  {
   "cell_type": "code",
   "execution_count": 7,
   "metadata": {
    "collapsed": false
   },
   "outputs": [
    {
     "name": "stdout",
     "output_type": "stream",
     "text": [
      "computing sp properties ... done in 4.86519002914 seconds\n"
     ]
    },
    {
     "name": "stderr",
     "output_type": "stream",
     "text": [
      "visualizations exist, skip"
     ]
    }
   ],
   "source": [
    "print 'computing sp properties ...',\n",
    "t = time.time()\n",
    "\n",
    "sp_all_props = regionprops(segmentation + 1, cache=True)\n",
    "\n",
    "def obtain_props_worker(spp):\n",
    "    return spp.centroid, spp.area, spp.bbox, spp.coords\n",
    "    # (row, col), a, (min_row, min_col, max_row, max_col),(rows, cols)\n",
    "\n",
    "sp_props = Parallel(n_jobs=16)(delayed(obtain_props_worker)(spp) for spp in sp_all_props)\n",
    "sp_centroids, sp_areas, sp_bbox, spp_coords = map(np.asarray, zip(*sp_props))\n",
    "\n",
    "# dm.save_pipeline_result(sp_centroids, 'spCentroids')\n",
    "# dm.save_pipeline_result(sp_areas, 'spAreas')\n",
    "# dm.save_pipeline_result(sp_bbox, 'spBbox')\n",
    "# dm.save_pipeline_result(spp_coords, 'spCoords')\n",
    "\n",
    "print 'done in', time.time() - t, 'seconds'\n",
    "\n",
    "if dm.check_pipeline_result('segmentationWithText'):\n",
    "    sys.stderr.write('visualizations exist, skip')\n",
    "else:\n",
    "\n",
    "    # from skimage.segmentation import mark_boundaries\n",
    "\n",
    "    print 'generating segmentation visualization ...',\n",
    "    t = time.time()\n",
    "\n",
    "    dm._load_image(versions=['rgb-jpg'])\n",
    "    img_superpixelized = mark_boundaries(dm.image_rgb_jpg, segmentation, color=(1,0,0))\n",
    "    img_superpixelized = img_as_ubyte(img_superpixelized)\n",
    "    dm.save_pipeline_result(img_superpixelized, 'segmentationWithoutText')\n",
    "\n",
    "    for s in range(n_superpixels):\n",
    "        cv2.putText(img_superpixelized, str(s), \n",
    "                    tuple(sp_centroids[s][::-1].astype(np.int) - (10,-10)), \n",
    "                    cv2.FONT_HERSHEY_DUPLEX, .5, ((255,0,255)), 1)\n",
    "\n",
    "    dm.save_pipeline_result(img_superpixelized, 'segmentationWithText')\n",
    "\n",
    "    # emptycanvas_superpixelized = mark_boundaries(np.ones((dm.image_height, dm.image_width)), segmentation, \n",
    "    #                                              color=(0,0,0), outline_color=None)\n",
    "\n",
    "    # alpha_channel = ~ emptycanvas_superpixelized.all(axis=2)\n",
    "    # rgba = np.dstack([emptycanvas_superpixelized, alpha_channel])\n",
    "\n",
    "    # dm.save_pipeline_result(rgba, 'segmentationTransparent', is_rgb=True)\n",
    "\n",
    "    print 'done in', time.time() - t, 'seconds'"
   ]
  },
  {
   "cell_type": "code",
   "execution_count": 8,
   "metadata": {
    "collapsed": true
   },
   "outputs": [],
   "source": [
    "from collections import defaultdict"
   ]
  },
  {
   "cell_type": "code",
   "execution_count": 9,
   "metadata": {
    "collapsed": false
   },
   "outputs": [
    {
     "name": "stdout",
     "output_type": "stream",
     "text": [
      "computing neighbors ... done in 23.5962250233 seconds\n",
      "compute edge info ... done in 0.948674917221 seconds\n"
     ]
    }
   ],
   "source": [
    "print 'computing neighbors ...',\n",
    "t = time.time()\n",
    "\n",
    "\n",
    "def diff_offset(x_offset, y_offset):\n",
    "\n",
    "    h, w = segmentation.shape\n",
    "\n",
    "    if x_offset == 1 and y_offset == -1:\n",
    "        d = np.dstack([segmentation[0:h-1, 1:w], segmentation[1:h, 0:w-1]])\n",
    "        # if diff's location y,x is (0,0), the edge is at (1,0) and (0,1)\n",
    "        ys, xs = np.mgrid[:d.shape[0], :d.shape[1]]\n",
    "        nzs = ~(d[...,0]==d[...,1])\n",
    "        r = np.c_[d[nzs], ys[nzs] + 1, xs[nzs], ys[nzs], xs[nzs] + 1] # [sp_label1, sp_label2, y1,x1,y2,x2]        \n",
    "    else:\n",
    "        moving_x_low = max(x_offset, 0)\n",
    "        moving_x_high = min(x_offset + w, w)\n",
    "        moving_width = moving_x_high - moving_x_low\n",
    "        moving_y_low = max(y_offset, 0)\n",
    "        moving_y_high = min(y_offset + h, h)\n",
    "        moving_height = moving_y_high - moving_y_low\n",
    "\n",
    "        d = np.dstack([segmentation[moving_y_low:moving_y_high, moving_x_low:moving_x_high], \n",
    "                       segmentation[:moving_height, :moving_width]])\n",
    "\n",
    "        ys, xs = np.mgrid[:d.shape[0], :d.shape[1]]\n",
    "        nzs = ~(d[...,0]==d[...,1])\n",
    "        # if diff's location y,x is (0,0), the edge is at (0,0) and (y_offset, x_offset)\n",
    "        r = np.c_[d[nzs], ys[nzs], xs[nzs], ys[nzs] + y_offset, xs[nzs] + x_offset] # [sp_label1, sp_label2, y1,x1,y2,x2]     \n",
    "\n",
    "    return r\n",
    "\n",
    "# diffs = np.vstack([diff_offset(1,0), diff_offset(0,1), diff_offset(1,1), diff_offset(1,-1)])\n",
    "diffs = np.vstack([diff_offset(1,0), diff_offset(0,1)])\n",
    "\n",
    "edge_coords = defaultdict(set)\n",
    "edge_junctions = defaultdict(set)\n",
    "neighbors = [set() for _ in range(n_superpixels)]\n",
    "\n",
    "for i, j, y1, x1, y2, x2 in diffs:\n",
    "    edge_coords[frozenset([i,j])] |= {(x1,y1), (x2,y2)}\n",
    "\n",
    "    if x1 == x2:\n",
    "        edge_junctions[frozenset([i,j])] |= {frozenset([(x1,y1),(x2,y2),(x1-1,y1),(x2-1,y2)]),\n",
    "                                            frozenset([(x1,y1),(x2,y2),(x1+1,y1),(x2+1,y2)])}\n",
    "    elif y1 == y2:\n",
    "        edge_junctions[frozenset([i,j])] |= {frozenset([(x1,y1),(x2,y2),(x1,y1-1),(x2,y2-1)]),\n",
    "                                            frozenset([(x1,y1),(x2,y2),(x1,y1+1),(x2,y2+1)])}\n",
    "    else:\n",
    "        edge_junctions[frozenset([i,j])] |= {frozenset([(x1,y1),(x2,y2),(x1,y2),(x2,y1)])}\n",
    "\n",
    "    if i != -1:\n",
    "        neighbors[i].add(j)\n",
    "    if j != -1:\n",
    "        neighbors[j].add(i)\n",
    "\n",
    "edge_coords = dict((e, np.array(list(pts))) for e, pts in edge_coords.iteritems())\n",
    "\n",
    "\n",
    "print 'done in', time.time() - t, 'seconds'\n",
    "\n",
    "print 'compute edge info ...',\n",
    "t = time.time()\n",
    "\n",
    "dedge_vectors = {}\n",
    "edge_coords_sorted = {}\n",
    "edge_midpoints = {}\n",
    "\n",
    "for e, pts in edge_coords.iteritems():\n",
    "\n",
    "    X = pts.astype(np.float)\n",
    "    c = X.mean(axis=0)\n",
    "    edge_midpoints[e] = X[np.squeeze(cdist([c], X)).argmin()] # closest point to the centroid\n",
    "    Xc = X - c\n",
    "    U,S,V = np.linalg.svd(np.dot(Xc.T, Xc))\n",
    "    u1 = U[:,0]\n",
    "    n1 = np.array([-u1[1], u1[0]])\n",
    "\n",
    "    s1, s2 = e\n",
    "    if s1 == -1:\n",
    "        mid_to_s1 = edge_midpoints[e] - sp_centroids[s2, ::-1]\n",
    "    else:\n",
    "        mid_to_s1 = sp_centroids[s1, ::-1] - edge_midpoints[e]\n",
    "\n",
    "    if np.dot(n1, mid_to_s1) > 0:\n",
    "        dedge_vectors[(s1,s2)] = n1\n",
    "        dedge_vectors[(s2,s1)] = -n1\n",
    "    else:\n",
    "        dedge_vectors[(s2,s1)] = n1\n",
    "        dedge_vectors[(s1,s2)] = -n1\n",
    "\n",
    "    projs = np.dot(Xc,u1)\n",
    "    order = projs.argsort()\n",
    "    if Xc[order[0],0] > Xc[order[-1],0]:\n",
    "        order = order[::-1]\n",
    "    edge_coords_sorted[e] = X[order].astype(np.int)\n",
    "\n",
    "print 'done in', time.time() - t, 'seconds'\n",
    "\n",
    "edge_coords = edge_coords_sorted"
   ]
  },
  {
   "cell_type": "code",
   "execution_count": 10,
   "metadata": {
    "collapsed": false
   },
   "outputs": [
    {
     "name": "stdout",
     "output_type": "stream",
     "text": [
      "saved /oasis/projects/nsf/csd395/yuncong/CSHL_data_results/MD593/0138/MD593_0138_lossless_segm-tSLIC200_neighbors.pkl\n",
      "saved /oasis/projects/nsf/csd395/yuncong/CSHL_data_results/MD593/0138/MD593_0138_lossless_segm-tSLIC200_edgeCoords.pkl\n",
      "saved /oasis/projects/nsf/csd395/yuncong/CSHL_data_results/MD593/0138/MD593_0138_lossless_segm-tSLIC200_edgeMidpoints.pkl\n",
      "saved /oasis/projects/nsf/csd395/yuncong/CSHL_data_results/MD593/0138/MD593_0138_lossless_segm-tSLIC200_dedgeVectors.pkl\n"
     ]
    }
   ],
   "source": [
    "dm.save_pipeline_result(neighbors, 'neighbors')\n",
    "dm.save_pipeline_result(edge_coords, 'edgeCoords')\n",
    "dm.save_pipeline_result(edge_midpoints, 'edgeMidpoints')\n",
    "dm.save_pipeline_result(dedge_vectors, 'dedgeVectors')"
   ]
  },
  {
   "cell_type": "code",
   "execution_count": null,
   "metadata": {
    "collapsed": true
   },
   "outputs": [],
   "source": [
    "%matplotlib inline"
   ]
  },
  {
   "cell_type": "code",
   "execution_count": null,
   "metadata": {
    "collapsed": true
   },
   "outputs": [],
   "source": [
    "def zoomin(x,y, margin=10, rel_to_mask=False):\n",
    "    if rel_to_mask:\n",
    "        plt.matshow(segmentation[dm.ymin+y-margin:dm.ymin+y+margin, dm.xmin+x-margin:dm.xmin+x+margin])\n",
    "    else:\n",
    "        plt.matshow(segmentation[y-margin:y+margin, x-margin:x+margin])"
   ]
  },
  {
   "cell_type": "code",
   "execution_count": null,
   "metadata": {
    "collapsed": false
   },
   "outputs": [],
   "source": [
    "zoomin(3809, 5059, 10)"
   ]
  },
  {
   "cell_type": "code",
   "execution_count": 11,
   "metadata": {
    "collapsed": false
   },
   "outputs": [
    {
     "data": {
      "text/plain": [
       "{813, 833, 871, 878}"
      ]
     },
     "execution_count": 11,
     "metadata": {},
     "output_type": "execute_result"
    }
   ],
   "source": [
    "neighbors[844]"
   ]
  },
  {
   "cell_type": "code",
   "execution_count": null,
   "metadata": {
    "collapsed": false
   },
   "outputs": [],
   "source": [
    "edge_junctions[(133,134)]"
   ]
  },
  {
   "cell_type": "code",
   "execution_count": 12,
   "metadata": {
    "collapsed": false
   },
   "outputs": [
    {
     "name": "stdout",
     "output_type": "stream",
     "text": [
      "computing edge neighbors ... done in 2.61927103996 seconds\n"
     ]
    }
   ],
   "source": [
    "print 'computing edge neighbors ...',\n",
    "t = time.time()\n",
    "\n",
    "edge_map = -1 * np.ones_like(segmentation, np.int)\n",
    "\n",
    "for ei, pts in enumerate(edge_coords.itervalues()):\n",
    "    edge_map[pts[:,1], pts[:,0]] = ei\n",
    "\n",
    "edges = edge_coords.keys()\n",
    "\n",
    "xs, ys = np.mgrid[-1:2, -1:2]\n",
    "\n",
    "def compute_edge_neighbors_worker(pts):\n",
    "    nbrs = set(edge_map[np.maximum(0, np.minimum(dm.image_height-1, (pts[:,1] + ys[:,:,None]).flat)), \n",
    "                        np.maximum(0, np.minimum(dm.image_width-1, (pts[:,0] + xs[:,:,None]).flat))])\n",
    "    return nbrs\n",
    "\n",
    "edge_neighbors = {}\n",
    "for ei, (e, pts) in enumerate(edge_coords.iteritems()):\n",
    "    nbr_ids = compute_edge_neighbors_worker(pts) - {-1, ei}\n",
    "    edge_neighbors[e] = set([edges[i] for i in nbr_ids if len(set.intersection(edge_junctions[e], edge_junctions[edges[i]])) > 0])\n",
    "\n",
    "print 'done in', time.time() - t, 'seconds'"
   ]
  },
  {
   "cell_type": "code",
   "execution_count": 13,
   "metadata": {
    "collapsed": false
   },
   "outputs": [
    {
     "name": "stdout",
     "output_type": "stream",
     "text": [
      "saved /oasis/projects/nsf/csd395/yuncong/CSHL_data_results/MD593/0138/MD593_0138_lossless_segm-tSLIC200_edgeNeighbors.pkl\n"
     ]
    }
   ],
   "source": [
    "dm.save_pipeline_result(edge_neighbors, 'edgeNeighbors')"
   ]
  },
  {
   "cell_type": "code",
   "execution_count": 14,
   "metadata": {
    "collapsed": false
   },
   "outputs": [
    {
     "name": "stdout",
     "output_type": "stream",
     "text": [
      "compute dedge neighbors ... done in 0.0973579883575 seconds\n"
     ]
    },
    {
     "name": "stderr",
     "output_type": "stream",
     "text": [
      "/oasis/projects/nsf/csd181/yuncong/virtualenv-1.9.1/yuncongve/lib/python2.7/site-packages/ipykernel/__main__.py:51: RuntimeWarning: invalid value encountered in divide\n"
     ]
    }
   ],
   "source": [
    "print 'compute dedge neighbors ...',\n",
    "t = time.time()\n",
    "\n",
    "dedge_neighbors = defaultdict(set)\n",
    "for edge, nbr_edges in edge_neighbors.iteritems():\n",
    "    s1, s2 = edge\n",
    "        \n",
    "    for nbr_edge in nbr_edges:\n",
    "        t1, t2 = nbr_edge\n",
    "        \n",
    "        if s1 == t1 or s2 == t2:\n",
    "            dedge_neighbors[(s1, s2)].add((t1, t2))\n",
    "            dedge_neighbors[(t1, t2)].add((s1, s2))\n",
    "            dedge_neighbors[(s2, s1)].add((t2, t1))\n",
    "            dedge_neighbors[(t2, t1)].add((s2, s1))      \n",
    "            continue\n",
    "        elif s1 == t2 or s2 == t1:\n",
    "            dedge_neighbors[(s2, s1)].add((t1, t2))\n",
    "            dedge_neighbors[(t1, t2)].add((s2, s1))\n",
    "            dedge_neighbors[(s1, s2)].add((t2, t1))\n",
    "            dedge_neighbors[(t2, t1)].add((s1, s2))\n",
    "            continue\n",
    "\n",
    "        ep1 = edge_coords[edge][0]\n",
    "        ep2 = edge_coords[edge][-1]\n",
    "        nbr_ep1 = edge_coords[nbr_edge][0]\n",
    "        nbr_ep2 = edge_coords[nbr_edge][-1]\n",
    "        endpoints_dists = cdist([ep1, ep2], [nbr_ep1, nbr_ep2])\n",
    "        ep_ind, nbr_ep_ind = np.unravel_index(endpoints_dists.argmin(), endpoints_dists.shape)\n",
    "        if ep_ind == 0:\n",
    "            ep_ind = 0\n",
    "            ep_inner_ind = min(100, len(edge_coords[edge])-1)\n",
    "        else:\n",
    "            ep_ind = -1\n",
    "            ep_inner_ind = max(-101, -len(edge_coords[edge]))\n",
    "            \n",
    "        if nbr_ep_ind == 0:\n",
    "            nbr_ep_ind = 0\n",
    "            nbr_ep_inner_ind = min(100, len(edge_coords[nbr_edge])-1)\n",
    "        else:\n",
    "            nbr_ep_ind = -1\n",
    "            nbr_ep_inner_ind = max(-101, -len(edge_coords[nbr_edge]))\n",
    "\n",
    "        ep_inner = edge_coords[edge][ep_inner_ind]\n",
    "        nbr_ep_inner = edge_coords[nbr_edge][nbr_ep_inner_ind]\n",
    "            \n",
    "        junction = .5 * (edge_coords[edge][ep_ind] + edge_coords[nbr_edge][nbr_ep_ind])\n",
    "        \n",
    "        vec_to_junction = junction - .5 * (ep_inner + nbr_ep_inner)\n",
    "        \n",
    "        unit_vec_to_junction = vec_to_junction/np.linalg.norm(vec_to_junction)\n",
    "        \n",
    "        midpoint_to_midpoint = ep_inner - nbr_ep_inner\n",
    "        midpoint_to_midpoint = midpoint_to_midpoint/np.linalg.norm(midpoint_to_midpoint)\n",
    "        n_mp_mp = np.array([-midpoint_to_midpoint[1], midpoint_to_midpoint[0]])\n",
    "        if np.dot(n_mp_mp, unit_vec_to_junction) < 0:\n",
    "            n_mp_mp = -n_mp_mp\n",
    "        \n",
    "        tang_ep = junction - ep_inner\n",
    "        n_ep = np.array([-tang_ep[1], tang_ep[0]])\n",
    "        if np.linalg.norm(n_ep) == 0:\n",
    "            n_ep = n_ep\n",
    "        else:\n",
    "            n_ep = n_ep/np.linalg.norm(n_ep)\n",
    "        \n",
    "        x_ep, y_ep = ep_inner + (5*n_ep).astype(np.int)\n",
    "        x_ep2, y_ep2 = ep_inner - (5*n_ep).astype(np.int)\n",
    "        \n",
    "        if segmentation[y_ep, x_ep] == s2 or segmentation[y_ep2, x_ep2] == s1:\n",
    "            n_ep = -n_ep\n",
    "            \n",
    "        tang_nbrep = junction - nbr_ep_inner\n",
    "        n_nbrep = np.array([-tang_nbrep[1], tang_nbrep[0]])\n",
    "        if np.linalg.norm(n_nbrep) == 0:\n",
    "            n_nbrep = n_nbrep\n",
    "        else:\n",
    "            n_nbrep = n_nbrep/np.linalg.norm(n_nbrep)\n",
    "        \n",
    "        x_nbrep, y_nbrep =  nbr_ep_inner + (5*n_nbrep).astype(np.int)\n",
    "        x_nbrep2, y_nbrep2 =  nbr_ep_inner - (5*n_nbrep).astype(np.int)\n",
    "        \n",
    "        if segmentation[y_nbrep, x_nbrep] == t2 or segmentation[y_nbrep2, x_nbrep2] == t1:\n",
    "            n_nbrep = -n_nbrep\n",
    "            \n",
    "        if np.dot(np.cross(n_ep, n_mp_mp), np.cross(n_mp_mp, n_nbrep)) > 0:\n",
    "            dedge_neighbors[(s1, s2)].add((t1, t2))\n",
    "            dedge_neighbors[(t1, t2)].add((s1, s2))\n",
    "            dedge_neighbors[(s2, s1)].add((t2, t1))\n",
    "            dedge_neighbors[(t2, t1)].add((s2, s1))            \n",
    "        else:\n",
    "            dedge_neighbors[(s2, s1)].add((t1, t2))\n",
    "            dedge_neighbors[(t1, t2)].add((s2, s1))\n",
    "            dedge_neighbors[(s1, s2)].add((t2, t1))\n",
    "            dedge_neighbors[(t2, t1)].add((s1, s2))\n",
    "                                        \n",
    "dedge_neighbors.default_factory = None\n",
    "\n",
    "print 'done in', time.time() - t, 'seconds'\n",
    "\n",
    "# dm.save_pipeline_result(dedge_neighbors, 'dedgeNeighbors')"
   ]
  },
  {
   "cell_type": "code",
   "execution_count": null,
   "metadata": {
    "collapsed": false
   },
   "outputs": [],
   "source": [
    "dedge_neighbors[(1088, 1068)]"
   ]
  },
  {
   "cell_type": "code",
   "execution_count": 15,
   "metadata": {
    "collapsed": false
   },
   "outputs": [
    {
     "name": "stdout",
     "output_type": "stream",
     "text": [
      "saved /oasis/projects/nsf/csd395/yuncong/CSHL_data_results/MD593/0138/MD593_0138_lossless_segm-tSLIC200_dedgeNeighbors.pkl\n"
     ]
    }
   ],
   "source": [
    "dm.save_pipeline_result(dedge_neighbors, 'dedgeNeighbors')"
   ]
  },
  {
   "cell_type": "code",
   "execution_count": null,
   "metadata": {
    "collapsed": true
   },
   "outputs": [],
   "source": []
  }
 ],
 "metadata": {
  "kernelspec": {
   "display_name": "Python 2",
   "language": "python",
   "name": "python2"
  },
  "language_info": {
   "codemirror_mode": {
    "name": "ipython",
    "version": 2
   },
   "file_extension": ".py",
   "mimetype": "text/x-python",
   "name": "python",
   "nbconvert_exporter": "python",
   "pygments_lexer": "ipython2",
   "version": "2.7.3"
  }
 },
 "nbformat": 4,
 "nbformat_minor": 0
}
