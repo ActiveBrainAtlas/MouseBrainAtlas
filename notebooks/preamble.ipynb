{
 "metadata": {
  "name": "",
  "signature": "sha256:df95f6105e624b6895616411a388ce63a6466bed2dd828e6fca8d3152bd4cd27"
 },
 "nbformat": 3,
 "nbformat_minor": 0,
 "worksheets": [
  {
   "cells": [
    {
     "cell_type": "code",
     "collapsed": false,
     "input": [
      "from utilities import *\n",
      "from joblib import Parallel, delayed\n",
      "\n",
      "if 'SSH_CONNECTION' in os.environ:\n",
      "    DATA_DIR = '/home/yuncong/project/DavidData2014tif/'\n",
      "    REPO_DIR = '/home/yuncong/Brain'\n",
      "else:\n",
      "    DATA_DIR = '/home/yuncong/BrainLocal/DavidData_v4'\n",
      "    REPO_DIR = '/home/yuncong/Brain'\n",
      "\n",
      "dm = DataManager(DATA_DIR, REPO_DIR)\n",
      "\n",
      "# import argparse\n",
      "# import sys\n",
      "\n",
      "# parser = argparse.ArgumentParser(\n",
      "# formatter_class=argparse.RawDescriptionHelpFormatter,\n",
      "# description='Execute feature extraction pipeline',\n",
      "# epilog=\"\"\"\n",
      "# The following command processes image RS141_x5_0001.tif using blueNissl for both gabor parameters and segmentation parameters.\n",
      "# python %s RS141 x5 1 -g blueNissl -s blueNissl\n",
      "# \"\"\"%(os.path.basename(sys.argv[0]), ))\n",
      "\n",
      "# parser.add_argument(\"stack_name\", type=str, help=\"stack name\")\n",
      "# parser.add_argument(\"resolution\", type=str, help=\"resolution string\")\n",
      "# parser.add_argument(\"slice_ind\", type=int, help=\"slice index\")\n",
      "# parser.add_argument(\"-g\", \"--gabor_params_id\", type=str, help=\"gabor filter parameters id (default: %(default)s)\", default='blueNissl')\n",
      "# parser.add_argument(\"-s\", \"--segm_params_id\", type=str, help=\"segmentation parameters id (default: %(default)s)\", default='blueNissl')\n",
      "# args = parser.parse_args()\n",
      "\n",
      "class args:\n",
      "    stack_name = 'RS141'\n",
      "    resolution = 'x5'\n",
      "    slice_ind = 5\n",
      "    gabor_params_id = 'blueNisslWide'\n",
      "#     gabor_params_id = 'blueNissl'\n",
      "    segm_params_id = 'blueNisslRegular'\n",
      "    vq_params_id = 'blueNissl'\n",
      "    \n",
      "dm.set_image(args.stack_name, args.resolution, args.slice_ind)\n",
      "dm.set_gabor_params(gabor_params_id=args.gabor_params_id)\n",
      "dm.set_segmentation_params(segm_params_id=args.segm_params_id)\n",
      "dm.set_vq_params(vq_params_id=args.vq_params_id)"
     ],
     "language": "python",
     "metadata": {},
     "outputs": [
      {
       "output_type": "stream",
       "stream": "stdout",
       "text": [
        "num. of kernels: 99\n",
        "frequencies: [ 0.2         0.13333333  0.08888889  0.05925926  0.03950617  0.02633745\n",
        "  0.0175583   0.01170553  0.00780369]\n",
        "wavelength (pixels): [   5.            7.5          11.25         16.875        25.3125\n",
        "   37.96875      56.953125     85.4296875   128.14453125]\n",
        "max kernel matrix size: 243\n"
       ]
      }
     ],
     "prompt_number": 4
    },
    {
     "cell_type": "code",
     "collapsed": false,
     "input": [],
     "language": "python",
     "metadata": {},
     "outputs": []
    }
   ],
   "metadata": {}
  }
 ]
}