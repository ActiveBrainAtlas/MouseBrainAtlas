{
 "metadata": {
  "name": "",
  "signature": "sha256:d226a596638d6a35b20df5c8c73e8922a5d5aba225681453645ba7fa809153f4"
 },
 "nbformat": 3,
 "nbformat_minor": 0,
 "worksheets": [
  {
   "cells": [
    {
     "cell_type": "code",
     "collapsed": false,
     "input": [
      "%load_ext autoreload\n",
      "%autoreload 2\n",
      "\n",
      "%autosave 0\n",
      "\n",
      "from utilities import *\n",
      "\n",
      "if 'SSH_CONNECTION' in os.environ:\n",
      "    DATA_DIR = '/home/yuncong/DavidData'\n",
      "    REPO_DIR = '/home/yuncong/Brain'\n",
      "else:\n",
      "    DATA_DIR = '/home/yuncong/BrainLocal/DavidData_4'\n",
      "    REPO_DIR = '/home/yuncong/BrainSaliencyDetection'\n",
      "\n",
      "dm = DataManager(DATA_DIR, REPO_DIR)\n",
      "\n",
      "class args:\n",
      "    stack_name = 'RS141'\n",
      "    resolution = 'x5'\n",
      "    slice_ind = 1\n",
      "    gabor_params_id = 'blueNisslWide'\n",
      "    segm_params_id = 'blueNissl'\n",
      "    vq_params_id = 'blueNissl'\n",
      "    \n",
      "    \n",
      "dm.set_image(args.stack_name, args.resolution, args.slice_ind)\n",
      "dm.set_gabor_params(gabor_params_id=args.gabor_params_id)\n",
      "dm.set_segmentation_params(segm_params_id=args.segm_params_id)\n",
      "dm.set_vq_params(vq_params_id=args.vq_params_id)\n",
      "\n",
      "from joblib import Parallel, delayed\n",
      "from skimage.filter import gabor_kernel\n",
      "\n",
      "theta_interval = dm.gabor_params['theta_interval']\n",
      "n_angle = int(180/theta_interval)\n",
      "freq_step = dm.gabor_params['freq_step']\n",
      "freq_max = 1./dm.gabor_params['min_wavelen']\n",
      "freq_min = 1./dm.gabor_params['max_wavelen']\n",
      "bandwidth = dm.gabor_params['bandwidth']\n",
      "n_freq = int(np.log(freq_max/freq_min)/np.log(freq_step)) + 1\n",
      "frequencies = freq_max/freq_step**np.arange(n_freq)\n",
      "angles = np.arange(0, n_angle)*np.deg2rad(theta_interval)\n",
      "\n",
      "raw_kernels = [gabor_kernel(f, theta=t, bandwidth=bandwidth) for f in frequencies for t in angles]\n",
      "raw_kernels = map(np.real, raw_kernels)\n",
      "\n",
      "n_kernel = len(raw_kernels)\n",
      "\n",
      "print 'num. of kernels: %d' % (n_kernel)\n",
      "print 'frequencies:', frequencies\n",
      "print 'wavelength (pixels):', 1/frequencies\n",
      "\n",
      "max_kern_size = np.max([kern.shape[0] for kern in raw_kernels])\n",
      "print 'max kernel matrix size:', max_kern_size\n",
      "\n",
      "# compensate the numerical biases of kernels\n",
      "\n",
      "biases = np.array([k.sum() for k in raw_kernels])\n",
      "\n",
      "mean_bias = biases.mean()\n",
      "kernels = [k/k.sum()*mean_bias for k in raw_kernels]\n"
     ],
     "language": "python",
     "metadata": {},
     "outputs": []
    },
    {
     "cell_type": "code",
     "collapsed": false,
     "input": [
      "from skimage.transform import rotate\n",
      "\n",
      "w = 10\n",
      "h = 10\n",
      "\n",
      "im_stripes = np.zeros((h, w))\n",
      "for row in range(0, h, 4):\n",
      "    im_stripes[row:row+2] = 1\n",
      "    \n",
      "ims = []\n",
      "for theta in range(-45, 360, 45):\n",
      "    im_stripes_rotated = rotate(im_stripes, -theta) > 0.5\n",
      "    ims.append(im_stripes_rotated)\n",
      "    \n",
      "pattern = np.vstack([np.hstack(ims[:3]), np.hstack([ims[3], np.zeros((h, w)), ims[3]]), np.hstack(ims[2::-1])])\n",
      "\n",
      "plt.imshow(pattern)"
     ],
     "language": "python",
     "metadata": {},
     "outputs": [
      {
       "metadata": {},
       "output_type": "pyout",
       "prompt_number": 83,
       "text": [
        "<matplotlib.image.AxesImage at 0xab666910>"
       ]
      },
      {
       "metadata": {},
       "output_type": "display_data",
       "png": "[encoded data removed]",
       "text": [
        "<matplotlib.figure.Figure at 0xb4657090>"
       ]
      }
     ],
     "prompt_number": 83
    },
    {
     "cell_type": "code",
     "collapsed": false,
     "input": [
      "from joblib import Parallel, delayed\n",
      "from scipy.signal import fftconvolve\n",
      "\n",
      "def convolve_per_proc(i):\n",
      "    return fftconvolve(canvas, kernels[i], 'same').astype(np.half)\n",
      "\n",
      "filtered = Parallel(n_jobs=16)(delayed(convolve_per_proc)(i) \n",
      "                        for i in range(n_kernel))\n",
      "\n",
      "features = np.empty((canvas.shape[0], canvas.shape[1], n_kernel), dtype=np.half)\n",
      "for i in range(n_kernel):\n",
      "    features[...,i] = filtered[i]\n",
      "\n",
      "del filtered"
     ],
     "language": "python",
     "metadata": {},
     "outputs": [],
     "prompt_number": 84
    },
    {
     "cell_type": "code",
     "collapsed": false,
     "input": [
      "features_tabular = features.reshape((features.shape[0]*features.shape[1], n_freq, n_angle))\n",
      "# max_angle_indices = features_tabular.mean(axis=1).argmax(axis=-1)\n",
      "max_angle_indices = features_tabular.max(axis=1).argmax(axis=-1)\n",
      "features_rotated = np.reshape([np.roll(features_tabular[i], -ai, axis=-1) \n",
      "                               for i, ai in enumerate(max_angle_indices)], \n",
      "                              (features.shape[0], features.shape[1], n_freq * n_angle))"
     ],
     "language": "python",
     "metadata": {},
     "outputs": [],
     "prompt_number": 85
    },
    {
     "cell_type": "code",
     "collapsed": false,
     "input": [
      "x = 6\n",
      "y = 3\n",
      "plt.matshow(features[y, x].reshape(n_freq, n_angle))\n",
      "print 'max angle index is', max_angle_indices[y * canvas.shape[0] + x]\n",
      "plt.matshow(features_rotated[y, x].reshape(n_freq, n_angle))"
     ],
     "language": "python",
     "metadata": {},
     "outputs": [
      {
       "output_type": "stream",
       "stream": "stdout",
       "text": [
        "max angle index is 3\n"
       ]
      },
      {
       "metadata": {},
       "output_type": "pyout",
       "prompt_number": 82,
       "text": [
        "<matplotlib.image.AxesImage at 0xae3d0590>"
       ]
      },
      {
       "metadata": {},
       "output_type": "display_data",
       "png": "[encoded data removed]",
       "text": [
        "<matplotlib.figure.Figure at 0x2130a5d0>"
       ]
      },
      {
       "metadata": {},
       "output_type": "display_data",
       "png": "[encoded data removed]",
       "text": [
        "<matplotlib.figure.Figure at 0xc1f841d0>"
       ]
      }
     ],
     "prompt_number": 82
    },
    {
     "cell_type": "code",
     "collapsed": false,
     "input": [
      "height, width = pattern.shape\n",
      "\n",
      "fig, axes = plt.subplots(height, width, figsize=(20,20), facecolor='white')\n",
      "\n",
      "patch_min = features.min()\n",
      "patch_max = features.max()\n",
      "\n",
      "for i in range(height):\n",
      "    for j in range(width):\n",
      "        axes[i, j].matshow(features[i, j].reshape(n_freq, n_angle), vmin=patch_min, vmax=patch_max)\n",
      "        axes[i, j].set_xticks([])\n",
      "        axes[i, j].set_yticks([])\n",
      "        \n",
      "plt.tight_layout()\n",
      "\n",
      "plt.savefig('patch_features.png', bbox_inches='tight')\n",
      "plt.close(fig)"
     ],
     "language": "python",
     "metadata": {},
     "outputs": [],
     "prompt_number": 89
    },
    {
     "cell_type": "code",
     "collapsed": false,
     "input": [
      "fig, axes = plt.subplots(height, width, figsize=(20,20), facecolor='white')\n",
      "\n",
      "patch_min = features_rotated.min()\n",
      "patch_max = features_rotated.max()\n",
      "\n",
      "for i in range(height):\n",
      "    for j in range(width):\n",
      "        axes[i, j].matshow(features_rotated[i, j].reshape(n_freq, n_angle), vmin=patch_min, vmax=patch_max)\n",
      "        axes[i, j].set_xticks([])\n",
      "        axes[i, j].set_yticks([])\n",
      "        \n",
      "plt.tight_layout()\n",
      "\n",
      "plt.savefig('patch_features_rotated.png', bbox_inches='tight')\n",
      "plt.close(fig)"
     ],
     "language": "python",
     "metadata": {},
     "outputs": [],
     "prompt_number": 90
    }
   ],
   "metadata": {}
  }
 ]
}