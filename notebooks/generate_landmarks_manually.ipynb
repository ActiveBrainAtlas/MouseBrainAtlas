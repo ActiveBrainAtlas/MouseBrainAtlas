{
 "cells": [
  {
   "cell_type": "code",
   "execution_count": 2,
   "metadata": {
    "collapsed": false
   },
   "outputs": [],
   "source": [
    "%load_ext autoreload\n",
    "%autoreload 2\n",
    "\n",
    "import os\n",
    "\n",
    "import sys\n",
    "sys.path.append(os.environ['GORDON_REPO_DIR'] + '/pipeline_scripts')\n",
    "\n",
    "import utilities2014\n",
    "reload(utilities2014)\n",
    "from utilities2014 import *\n",
    "\n",
    "import time\n",
    "\n",
    "sys.path.append('/home/yuncong/project/opencv-2.4.9/release/lib/python2.7/site-packages')\n",
    "import cv2\n",
    "\n",
    "from scipy.spatial.distance import cdist, pdist, squareform\n",
    "from scipy.cluster.hierarchy import average, fcluster, leaders, complete, single, dendrogram, ward\n",
    "\n",
    "from joblib import Parallel, delayed\n",
    "\n",
    "from skimage.color import gray2rgb\n",
    "from skimage.util import img_as_float, pad\n",
    "from skimage.morphology import disk\n",
    "from skimage.filters.rank import gradient\n",
    "\n",
    "from collections import defaultdict, Counter\n",
    "from itertools import combinations, chain, product\n",
    "\n",
    "import networkx\n",
    "from networkx import from_dict_of_lists, dfs_postorder_nodes\n",
    "\n",
    "import matplotlib.pyplot as plt\n",
    "%matplotlib inline"
   ]
  },
  {
   "cell_type": "code",
   "execution_count": 4,
   "metadata": {
    "collapsed": false
   },
   "outputs": [
    {
     "name": "stderr",
     "output_type": "stream",
     "text": [
      "/oasis/projects/nsf/csd181/yuncong/virtualenv-1.9.1/yuncongve/lib/python2.7/site-packages/skimage/filter/__init__.py:6: skimage_deprecation: The `skimage.filter` module has been renamed to `skimage.filters`.  This placeholder module will be removed in v0.13.\n",
      "  warn(skimage_deprecation('The `skimage.filter` module has been renamed '\n"
     ]
    }
   ],
   "source": [
    "dm = DataManager(generate_hierarchy=False, stack='RS141', resol='x5', section=1)\n",
    "dm._load_image()\n",
    "\n",
    "texton_hists = dm.load_pipeline_result('texHist', 'npy')\n",
    "segmentation = dm.load_pipeline_result('segmentation', 'npy')\n",
    "n_superpixels = len(np.unique(segmentation)) - 1\n",
    "textonmap = dm.load_pipeline_result('texMap', 'npy')\n",
    "n_texton = len(np.unique(textonmap)) - 1\n",
    "neighbors = dm.load_pipeline_result('neighbors', 'pkl')\n",
    "sp_properties = dm.load_pipeline_result('spProps', 'npy')\n",
    "segmentation_vis = dm.load_pipeline_result('segmentationWithText', 'jpg')\n",
    "\n",
    "# texture_map = texton_hists[segmentation]\n",
    "# texture_map[~dm.mask] = np.nan * np.ones((n_texton,))\n",
    "# dm.save_pipeline_result(texture_map, 'textureMap', 'npy')\n",
    "texture_map = dm.load_pipeline_result('textureMap', 'npy')"
   ]
  },
  {
   "cell_type": "code",
   "execution_count": 7,
   "metadata": {
    "collapsed": false
   },
   "outputs": [],
   "source": [
    "dedge_vectors = dm.load_pipeline_result('edgeVectors', 'pkl')\n",
    "dedge_neighbors = dm.load_pipeline_result('dedgeNeighbors', 'pkl')"
   ]
  },
  {
   "cell_type": "code",
   "execution_count": 8,
   "metadata": {
    "collapsed": true
   },
   "outputs": [],
   "source": [
    "edge_coords = dict(dm.load_pipeline_result('edgeCoords', 'pkl'))\n",
    "all_edges = edge_coords.keys()\n",
    "all_dedges = set(chain(*[[(i,j),(j,i)] for i,j in all_edges]))\n",
    "\n",
    "edge_neighbors = dm.load_pipeline_result('edgeNeighbors', 'pkl')"
   ]
  },
  {
   "cell_type": "code",
   "execution_count": 9,
   "metadata": {
    "collapsed": false
   },
   "outputs": [],
   "source": [
    "models = dm.load_pipeline_result('boundaryModels', 'pkl')"
   ]
  },
  {
   "cell_type": "code",
   "execution_count": 10,
   "metadata": {
    "collapsed": true
   },
   "outputs": [],
   "source": [
    "thetas = np.linspace(-np.pi/4, np.pi/4, 9)\n",
    "n_theta = len(thetas)\n",
    "Rs = [np.array([[np.cos(theta), np.sin(theta)], [-np.sin(theta), np.cos(theta)]]) for theta in thetas]"
   ]
  },
  {
   "cell_type": "code",
   "execution_count": 55,
   "metadata": {
    "collapsed": false,
    "scrolled": true
   },
   "outputs": [
    {
     "name": "stdout",
     "output_type": "stream",
     "text": [
      "landmark 0\n",
      "theta 0\n",
      "theta 1\n",
      "theta 2\n",
      "theta 3\n",
      "theta 4\n",
      "theta 5\n",
      "theta 6\n",
      "theta 7\n",
      "theta 8\n",
      "landmark 1\n",
      "theta 0\n",
      "theta 1\n",
      "theta 2\n",
      "theta 3\n",
      "theta 4\n",
      "theta 5\n",
      "theta 6\n",
      "theta 7\n",
      "theta 8\n",
      "landmark 2\n",
      "theta 0\n",
      "theta 1\n",
      "theta 2\n",
      "theta 3\n",
      "theta 4\n",
      "theta 5\n",
      "theta 6\n",
      "theta 7\n",
      "theta 8\n",
      "landmark 3\n",
      "theta 0\n",
      "theta 1\n",
      "theta 2\n",
      "theta 3\n",
      "theta 4\n",
      "theta 5\n",
      "theta 6\n",
      "theta 7\n",
      "theta 8\n",
      "landmark 4\n",
      "theta 0\n",
      "theta 1\n",
      "theta 2\n",
      "theta 3\n",
      "theta 4\n",
      "theta 5\n",
      "theta 6\n",
      "theta 7\n",
      "theta 8\n"
     ]
    }
   ],
   "source": [
    "for i, lm_ind in enumerate([0,4,24,2,17]):\n",
    "    \n",
    "# i = 3\n",
    "# lm_ind = 2\n",
    "\n",
    "    print 'landmark', i\n",
    "\n",
    "    lm_dedges = [de for de in models[lm_ind][0] if frozenset(de) in edge_coords]\n",
    "\n",
    "    lm_edge_points = np.array([edge_coords[frozenset(de)].mean(axis=0) for de in lm_dedges], dtype=np.int)\n",
    "    lm_edge_vectors = np.array([dedge_vectors[de]  for de in lm_dedges])\n",
    "    lm_edge_int_textures = np.array([texton_hists[de[1]]  for de in lm_dedges])\n",
    "    lm_edge_ext_textures = np.array([texton_hists[de[0]]  for de in lm_dedges])\n",
    "\n",
    "    xmin, ymin = lm_edge_points.min(axis=0).astype(np.int)\n",
    "    xmax, ymax = lm_edge_points.max(axis=0).astype(np.int)\n",
    "    centroid_global = lm_edge_points.mean(axis=0).astype(np.int)\n",
    "\n",
    "    lm_points_local = lm_edge_points - [xmin, ymin]\n",
    "    centroid_local = centroid_global - [xmin, ymin]\n",
    "\n",
    "    lm_box_shape = [xmax - xmin + 1, ymax - ymin + 1]\n",
    "\n",
    "    bbox_dims = np.array([lm_box_shape[0], lm_box_shape[1], xmin, ymin, xmax, ymax, \n",
    "                 centroid_global[0], centroid_global[1], centroid_local[0], centroid_local[1]])\n",
    "\n",
    "    np.save('/home/yuncong/csd395/lm_bbox_dims_%d.npy'%i, bbox_dims.astype(np.int))\n",
    "\n",
    "    lm_edges_tuple = np.c_[lm_edge_points, lm_points_local, lm_edge_vectors]\n",
    "    np.save('/home/yuncong/csd395/lm_edge_points_%d.npy'%i, lm_edges_tuple)\n",
    "\n",
    "    lm_edge_textures = np.c_[lm_edge_int_textures, lm_edge_ext_textures]\n",
    "    np.save('/home/yuncong/csd395/lm_edge_textures_%d.npy'%i, lm_edge_textures)\n",
    "\n",
    "    lm_texture_template = texture_map[ymin:ymax+1, xmin:xmax+1]\n",
    "    np.save('/home/yuncong/csd395/lm_texture_template_%d.npy'%i, lm_texture_template)\n",
    "\n",
    "    lm_points_centered = lm_edge_points - centroid_global\n",
    "\n",
    "    for theta_i in range(n_theta):\n",
    "    #theta_i = 0\n",
    "\n",
    "        print 'theta', theta_i\n",
    "\n",
    "        lm_pts_rotated = np.dot(Rs[theta_i], lm_points_centered.T).astype(np.int).T\n",
    "        lm_pts_rotated_local = lm_pts_rotated - lm_pts_rotated.min(axis=0)\n",
    "        centroid_local_rotated = - lm_pts_rotated.min(axis=0)\n",
    "        lm_pts_rotated_global = lm_pts_rotated + centroid_global\n",
    "\n",
    "        rotated_lm_box_shape = lm_pts_rotated_local.max(axis=0) + [1,1]\n",
    "\n",
    "        rotated_texTemplate = np.nan * np.ones((rotated_lm_box_shape[1], rotated_lm_box_shape[0], n_texton))\n",
    "\n",
    "        ys, xs = np.mgrid[:rotated_lm_box_shape[1], :rotated_lm_box_shape[0]]\n",
    "        a = np.dot(np.linalg.inv(Rs[theta_i]), (np.c_[xs.flat, ys.flat] - centroid_local_rotated).T).T\n",
    "\n",
    "        xss = (a[:,0] + centroid_local[0]).astype(np.int)\n",
    "        yss = (a[:,1] + centroid_local[1]).astype(np.int)\n",
    "        valid = (yss < lm_texture_template.shape[0]) & (yss >= 0) & (xss < lm_texture_template.shape[1]) & (xss >= 0)\n",
    "        rotated_texTemplate[ys.flat[valid], xs.flat[valid]] = lm_texture_template[yss[valid], xss[valid]]\n",
    "\n",
    "        np.save('/home/yuncong/csd395/lm_texture_template_%d_orientation%d.npy'%(i, theta_i), rotated_texTemplate)\n",
    "\n",
    "\n",
    "        bbox_dims_rotated = np.array([rotated_lm_box_shape[0], rotated_lm_box_shape[1],\n",
    "                            np.nan, np.nan, np.nan, np.nan,\n",
    "                             np.nan, np.nan, centroid_local_rotated[0], centroid_local_rotated[1]])\n",
    "\n",
    "        np.save('/home/yuncong/csd395/lm_bbox_dims_%d_orientation%d.npy'%(i, theta_i), bbox_dims_rotated.astype(np.int))\n",
    "\n",
    "        lm_edge_vectors_rotated = np.dot(Rs[theta_i], lm_edge_vectors.T).T\n",
    "\n",
    "        edge_tuple_rotated = np.c_[lm_pts_rotated_global, lm_pts_rotated_local, lm_edge_vectors_rotated]\n",
    "        np.save('/home/yuncong/csd395/lm_edge_points_%d_orientation%d.npy'%(i, theta_i), edge_tuple_rotated)\n"
   ]
  },
  {
   "cell_type": "code",
   "execution_count": 56,
   "metadata": {
    "collapsed": false
   },
   "outputs": [],
   "source": [
    "# # n_existing_lm = i + 1\n",
    "# n_existing_lm = 5\n",
    "# i = n_existing_lm"
   ]
  },
  {
   "cell_type": "code",
   "execution_count": 57,
   "metadata": {
    "collapsed": false
   },
   "outputs": [
    {
     "name": "stdout",
     "output_type": "stream",
     "text": [
      "landmark 5\n",
      "theta 0\n",
      "theta 1\n",
      "theta 2\n",
      "theta 3\n",
      "theta 4\n",
      "theta 5\n",
      "theta 6\n",
      "theta 7\n",
      "theta 8\n"
     ]
    }
   ],
   "source": [
    "for i in range(5):\n",
    "\n",
    "    print 'landmark', i\n",
    "\n",
    "    lm_edge_points = np.array([[4770,4905,4978,5047,5098,5151,5173,5205,5167,5097],\n",
    "                               [1078,1111,1143,1185,1225,1290,1330,1435,1501,1555]], np.int).T\n",
    "\n",
    "\n",
    "    D = cdist(lm_edge_points, lm_edge_points)\n",
    "    pts_sorted = D.argsort(axis=1)[:,:3]\n",
    "\n",
    "    gradient_dirs = np.empty((lm_edge_points.shape[0], 2))\n",
    "    for pi, neighborhood in enumerate(pts_sorted):\n",
    "        X = lm_edge_points[neighborhood]\n",
    "        c = X.mean(axis=0)\n",
    "        Xc = X - c\n",
    "        U,S,V = np.linalg.svd(np.dot(Xc.T, Xc))\n",
    "        tangent_dir = U[:,0]\n",
    "        gradient_dirs[pi] = np.array([tangent_dir[1], -tangent_dir[0]])\n",
    "        if np.dot(gradient_dirs[i], [1,0]) < 0:\n",
    "            gradient_dirs[pi] = -gradient_dirs[pi]\n",
    "\n",
    "    lm_edge_vectors = gradient_dirs\n",
    "\n",
    "    texture_sample_radius = 5\n",
    "    int_rs = np.arange(-texture_sample_radius, 0)\n",
    "    ext_rs = np.arange(1, texture_sample_radius+1)\n",
    "\n",
    "    int_texture_sample_xs = (lm_edge_points[:,0][:,None] + np.outer(gradient_dirs[:,0], int_rs)).astype(np.int)\n",
    "    int_texture_sample_ys = (lm_edge_points[:,1][:,None] + np.outer(gradient_dirs[:,1], int_rs)).astype(np.int)\n",
    "    lm_edge_int_textures = texture_map[int_texture_sample_ys, int_texture_sample_xs].mean(axis=1)\n",
    "\n",
    "\n",
    "    ext_texture_sample_xs = (lm_edge_points[:,0][:,None] + np.outer(gradient_dirs[:,0], ext_rs)).astype(np.int)\n",
    "    ext_texture_sample_ys = (lm_edge_points[:,1][:,None] + np.outer(gradient_dirs[:,1], ext_rs)).astype(np.int)\n",
    "    lm_edge_ext_textures = texture_map[ext_texture_sample_ys, ext_texture_sample_xs].mean(axis=1)\n",
    "\n",
    "\n",
    "    xmin, ymin = lm_edge_points.min(axis=0).astype(np.int)\n",
    "    xmax, ymax = lm_edge_points.max(axis=0).astype(np.int)\n",
    "    centroid_global = lm_edge_points.mean(axis=0).astype(np.int)\n",
    "\n",
    "    lm_points_local = lm_edge_points - [xmin, ymin]\n",
    "    centroid_local = centroid_global - [xmin, ymin]\n",
    "\n",
    "    lm_box_shape = [xmax - xmin + 1, ymax - ymin + 1]\n",
    "\n",
    "    bbox_dims = np.array([lm_box_shape[0], lm_box_shape[1], xmin, ymin, xmax, ymax, \n",
    "                 centroid_global[0], centroid_global[1], centroid_local[0], centroid_local[1]])\n",
    "\n",
    "    np.save('/home/yuncong/csd395/lm_bbox_dims_%d.npy'%i, bbox_dims.astype(np.int))\n",
    "\n",
    "    lm_edges_tuple = np.c_[lm_edge_points, lm_points_local, lm_edge_vectors]\n",
    "    np.save('/home/yuncong/csd395/lm_edge_points_%d.npy'%i, lm_edges_tuple)\n",
    "\n",
    "    lm_edge_textures = np.c_[lm_edge_int_textures, lm_edge_ext_textures]\n",
    "    np.save('/home/yuncong/csd395/lm_edge_textures_%d.npy'%i, lm_edge_textures)\n",
    "\n",
    "    lm_texture_template = texture_map[ymin:ymax+1, xmin:xmax+1]\n",
    "    np.save('/home/yuncong/csd395/lm_texture_template_%d.npy'%i, lm_texture_template)\n",
    "\n",
    "    lm_points_centered = lm_edge_points - centroid_global\n",
    "\n",
    "    for theta_i in range(n_theta):\n",
    "    #theta_i = 0\n",
    "\n",
    "        print 'theta', theta_i\n",
    "\n",
    "        lm_pts_rotated = np.dot(Rs[theta_i], lm_points_centered.T).astype(np.int).T\n",
    "        lm_pts_rotated_local = lm_pts_rotated - lm_pts_rotated.min(axis=0)\n",
    "        centroid_local_rotated = - lm_pts_rotated.min(axis=0)\n",
    "        lm_pts_rotated_global = lm_pts_rotated + centroid_global\n",
    "\n",
    "\n",
    "        rotated_lm_box_shape = lm_pts_rotated_local.max(axis=0) + [1,1]\n",
    "\n",
    "        rotated_texTemplate = np.nan * np.ones((rotated_lm_box_shape[1], rotated_lm_box_shape[0], n_texton))\n",
    "\n",
    "        ys, xs = np.mgrid[:rotated_lm_box_shape[1], :rotated_lm_box_shape[0]]\n",
    "        a = np.dot(np.linalg.inv(Rs[theta_i]), (np.c_[xs.flat, ys.flat] - centroid_local_rotated).T).T\n",
    "\n",
    "        xss = (a[:,0] + centroid_local[0]).astype(np.int)\n",
    "        yss = (a[:,1] + centroid_local[1]).astype(np.int)\n",
    "        valid = (yss < lm_texture_template.shape[0]) & (yss >= 0) & (xss < lm_texture_template.shape[1]) & (xss >= 0)\n",
    "        rotated_texTemplate[ys.flat[valid], xs.flat[valid]] = lm_texture_template[yss[valid], xss[valid]]\n",
    "\n",
    "        np.save('/home/yuncong/csd395/lm_texture_template_%d_orientation%d.npy'%(i, theta_i), rotated_texTemplate)\n",
    "\n",
    "\n",
    "        bbox_dims_rotated = np.array([rotated_lm_box_shape[0], rotated_lm_box_shape[1],\n",
    "                            np.nan, np.nan, np.nan, np.nan,\n",
    "                             np.nan, np.nan, centroid_local_rotated[0], centroid_local_rotated[1]])\n",
    "\n",
    "        np.save('/home/yuncong/csd395/lm_bbox_dims_%d_orientation%d.npy'%(i, theta_i), bbox_dims_rotated.astype(np.int))\n",
    "\n",
    "        lm_edge_vectors_rotated = np.dot(Rs[theta_i], lm_edge_vectors.T).T\n",
    "\n",
    "        edge_tuple_rotated = np.c_[lm_pts_rotated_global, lm_pts_rotated_local, lm_edge_vectors_rotated]\n",
    "        np.save('/home/yuncong/csd395/lm_edge_points_%d_orientation%d.npy'%(i, theta_i), edge_tuple_rotated)\n"
   ]
  },
  {
   "cell_type": "code",
   "execution_count": 58,
   "metadata": {
    "collapsed": false
   },
   "outputs": [
    {
     "data": {
      "text/plain": [
       "<matplotlib.image.AxesImage at 0x6f23190>"
      ]
     },
     "execution_count": 58,
     "metadata": {},
     "output_type": "execute_result"
    },
    {
     "data": {
      "image/png": "[encoded data removed]",
      "text/plain": [
       "<matplotlib.figure.Figure at 0x1a46ed0>"
      ]
     },
     "metadata": {},
     "output_type": "display_data"
    }
   ],
   "source": [
    "t = np.load('/home/yuncong/csd395/lm_texture_template_%d_orientation%d.npy'%(5, 4))\n",
    "plt.matshow(t[:,:,0])"
   ]
  },
  {
   "cell_type": "code",
   "execution_count": 7,
   "metadata": {
    "collapsed": false
   },
   "outputs": [
    {
     "data": {
      "text/html": [
       "<a href='tmp.jpg' target='_blank'>tmp.jpg</a><br>"
      ],
      "text/plain": [
       "/oasis/projects/nsf/csd395/yuncong/Brain/notebooks/tmp.jpg"
      ]
     },
     "execution_count": 7,
     "metadata": {},
     "output_type": "execute_result"
    }
   ],
   "source": [
    "lm_edge_points = np.load('/home/yuncong/csd395/lm_edge_points_%d_orientation%d.npy'%(5, 4))[:, :2].astype(np.int)\n",
    "\n",
    "ys = lm_edge_points[:,1]\n",
    "xs = lm_edge_points[:,0]\n",
    "\n",
    "bg_ubyte = img_as_ubyte(dm.image_rgb)\n",
    "\n",
    "overlay = np.zeros_like(dm.image, np.bool)\n",
    "overlay[ys, xs] = 1\n",
    "overlay = binary_dilation(overlay, disk(5))\n",
    "bg_ubyte[overlay] = [0,255,0]\n",
    "\n",
    "display(bg_ubyte)"
   ]
  },
  {
   "cell_type": "code",
   "execution_count": null,
   "metadata": {
    "collapsed": true
   },
   "outputs": [],
   "source": []
  }
 ],
 "metadata": {
  "kernelspec": {
   "display_name": "Python 2",
   "language": "python",
   "name": "python2"
  },
  "language_info": {
   "codemirror_mode": {
    "name": "ipython",
    "version": 2
   },
   "file_extension": ".py",
   "mimetype": "text/x-python",
   "name": "python",
   "nbconvert_exporter": "python",
   "pygments_lexer": "ipython2",
   "version": "2.7.3"
  }
 },
 "nbformat": 4,
 "nbformat_minor": 0
}
