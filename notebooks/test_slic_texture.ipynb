{
 "metadata": {
  "name": "",
  "signature": "sha256:7bb0b73b88ae68ec0add7baf02a3bd6ffd6375d6fdce6506aee4da1dddb751d8"
 },
 "nbformat": 3,
 "nbformat_minor": 0,
 "worksheets": [
  {
   "cells": [
    {
     "cell_type": "code",
     "collapsed": false,
     "input": [
      "%load_ext autoreload\n",
      "%autoreload 2\n",
      "\n",
      "from utilities import *\n",
      "\n",
      "if 'SSH_CONNECTION' in os.environ:\n",
      "    DATA_DIR = '/home/yuncong/DavidData'\n",
      "    REPO_DIR = '/home/yuncong/Brain'\n",
      "else:\n",
      "    DATA_DIR = '/home/yuncong/BrainLocal/DavidData_v4'\n",
      "    REPO_DIR = '/home/yuncong/Brain'\n",
      "\n",
      "dm = DataManager(DATA_DIR, REPO_DIR)\n",
      "\n",
      "class args:\n",
      "    stack_name = 'RS141'\n",
      "    resolution = 'x5'\n",
      "    slice_ind = 1\n",
      "    gabor_params_id = 'blueNisslWide'\n",
      "    segm_params_id = 'blueNissl'\n",
      "    \n",
      "dm.set_image(args.stack_name, args.resolution, args.slice_ind)\n",
      "dm.set_gabor_params(gabor_params_id=args.gabor_params_id)\n",
      "dm.set_segmentation_params(segm_params_id=args.segm_params_id)\n",
      "\n",
      "from skimage.filter import gabor_kernel\n",
      "\n",
      "theta_interval = dm.gabor_params['theta_interval']\n",
      "n_angle = int(180/theta_interval)\n",
      "freq_step = dm.gabor_params['freq_step']\n",
      "freq_max = 1./dm.gabor_params['min_wavelen']\n",
      "freq_min = 1./dm.gabor_params['max_wavelen']\n",
      "bandwidth = dm.gabor_params['bandwidth']\n",
      "n_freq = int(np.log(freq_max/freq_min)/np.log(freq_step)) + 1\n",
      "frequencies = freq_max/freq_step**np.arange(n_freq)\n",
      "angles = np.arange(0, n_angle)*np.deg2rad(theta_interval)\n",
      "\n",
      "kernels = [gabor_kernel(f, theta=t, bandwidth=bandwidth) for f in frequencies for t in angles]\n",
      "kernels = map(np.real, kernels)\n",
      "\n",
      "n_kernel = len(kernels)\n",
      "\n",
      "print 'num. of kernels: %d' % (n_kernel)\n",
      "print 'frequencies:', frequencies\n",
      "print 'wavelength (pixels):', 1/frequencies\n",
      "\n",
      "max_kern_size = np.max([kern.shape[0] for kern in kernels])\n",
      "print 'max kernel matrix size:', max_kern_size\n",
      "\n",
      "biases = np.array([k.sum() for k in kernels])\n",
      "mean_bias = biases.mean()\n",
      "kernels = [k/k.sum()*mean_bias for k in kernels]\n",
      "\n",
      "# dm.save_pipeline_result(kernels, 'kernels', 'pkl')"
     ],
     "language": "python",
     "metadata": {},
     "outputs": [
      {
       "output_type": "stream",
       "stream": "stdout",
       "text": [
        "num. of kernels: 99\n",
        "frequencies: [ 0.2         0.13333333  0.08888889  0.05925926  0.03950617  0.02633745\n",
        "  0.0175583   0.01170553  0.00780369]\n",
        "wavelength (pixels): [   5.            7.5          11.25         16.875        25.3125\n",
        "   37.96875      56.953125     85.4296875   128.14453125]\n",
        "max kernel matrix size: 243\n"
       ]
      }
     ],
     "prompt_number": 1
    },
    {
     "cell_type": "code",
     "collapsed": false,
     "input": [
      "def crop_borders(data):\n",
      "    cropped_data = data[max_kern_size/2:-max_kern_size/2, max_kern_size/2:-max_kern_size/2, ...].copy()\n",
      "    return cropped_data\n",
      "\n",
      "try:\n",
      "    cropped_features = dm.load_pipeline_result('cropFeatures', 'npy')\n",
      "except:\n",
      "    cropped_features = crop_borders(features)\n",
      "    dm.save_pipeline_result(cropped_features, 'cropFeatures', 'npy')\n",
      "\n",
      "try:\n",
      "    cropped_img = dm.load_pipeline_result('cropImg', 'tif')    \n",
      "except:\n",
      "    cropped_img = crop_borders(dm.image)\n",
      "    dm.save_pipeline_result(cropped_img, 'cropImg', 'tif')\n",
      "\n",
      "try:\n",
      "    cropped_mask = dm.load_pipeline_result('cropMask', 'npy')\n",
      "except:\n",
      "    cropped_mask = crop_borders(dm.mask)\n",
      "    dm.save_pipeline_result(cropped_mask, 'cropMask', 'npy')\n",
      "    dm.save_pipeline_result(cropped_mask, 'cropMask', 'tif')\n",
      "\n",
      "cropped_height, cropped_width = cropped_img.shape[:2]\n",
      "print cropped_height, cropped_width"
     ],
     "language": "python",
     "metadata": {},
     "outputs": []
    }
   ],
   "metadata": {}
  }
 ]
}