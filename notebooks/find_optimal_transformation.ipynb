{
 "cells": [
  {
   "cell_type": "code",
   "execution_count": null,
   "metadata": {
    "collapsed": true
   },
   "outputs": [],
   "source": [
    "landmark_indices = [0,5,6,7,8,9,10,11,12,13]\n",
    "n_landmark = len(landmark_indices)"
   ]
  },
  {
   "cell_type": "code",
   "execution_count": null,
   "metadata": {
    "collapsed": true
   },
   "outputs": [],
   "source": [
    "all_lm_centroid_global_rotated_versions = dict([])\n",
    "\n",
    "for lm_ind in landmark_indices:\n",
    "    with open('/home/yuncong/csd395/all_landmark_descriptors_%d.pkl'%lm_ind, 'r') as f:\n",
    "            landmark_descriptor = pickle.load(f)\n",
    "\n",
    "    lm_centroid_global_rotated_versions = map(lambda d: d['bbox'][4:6], landmark_descriptor)\n",
    "    all_lm_centroid_global_rotated_versions[lm_ind] = lm_centroid_global_rotated_versions"
   ]
  },
  {
   "cell_type": "code",
   "execution_count": null,
   "metadata": {
    "collapsed": true
   },
   "outputs": [],
   "source": [
    "all_lm_centroid_global = dict([(ind, rvs[4]) for ind, rvs in all_lm_centroid_global_rotated_versions.iteritems()])"
   ]
  },
  {
   "cell_type": "code",
   "execution_count": null,
   "metadata": {
    "collapsed": true
   },
   "outputs": [],
   "source": [
    "response_maps = dict([])\n",
    "for lm_ind in landmark_indices:\n",
    "    response_maps[lm_ind] = dm.load_pipeline_result('responseMapLmAllRotations%d'%lm_ind, 'npy')[4]"
   ]
  },
  {
   "cell_type": "code",
   "execution_count": null,
   "metadata": {
    "collapsed": true
   },
   "outputs": [],
   "source": [
    "from itertools import product"
   ]
  },
  {
   "cell_type": "code",
   "execution_count": null,
   "metadata": {
    "collapsed": true
   },
   "outputs": [],
   "source": [
    "image_centroid = np.array((int(dm.image_width/2), int(dm.image_height/2)))\n",
    "atlas_centroid = np.array((2772, 1385))\n",
    "\n",
    "xshifts = np.linspace(-400, 400, 100)\n",
    "yshifts = np.linspace(-400, 400, 100)\n",
    "angles = np.linspace(-np.pi/4, np.pi/4, 17)"
   ]
  },
  {
   "cell_type": "code",
   "execution_count": null,
   "metadata": {
    "collapsed": true
   },
   "outputs": [],
   "source": [
    "# sample_lms = np.random.choice(range(n_landmark), n_landmark, replace=False)\n",
    "sample_lms = [0, 9]\n",
    "# sample_lms = landmark_indices"
   ]
  },
  {
   "cell_type": "code",
   "execution_count": null,
   "metadata": {
    "collapsed": true
   },
   "outputs": [],
   "source": [
    "X = [all_lm_centroid_global[i] for i in sample_lms]\n",
    "Xc = X - atlas_centroid\n",
    "probs = []\n",
    "for xshift, yshift, angle in product(xshifts, yshifts, angles):\n",
    "#     print xshift, yshift, angle\n",
    "    T = np.array([[np.cos(angle), -np.sin(angle), xshift],\n",
    "                    [np.sin(angle), np.cos(angle), yshift],\n",
    "                    [0, 0, 1.]])\n",
    "    TXc = rigid_transform_to(Xc, T).astype(np.int)\n",
    "    TX = TXc + image_centroid\n",
    "    prob = np.sum(response_maps[lm][TX[i,1], TX[i,0]] if TX[i,1] < dm.image_height and TX[i,1] >= 0 \\\n",
    "                                                        and TX[i,0] < dm.image_width and TX[i,0] >= 0\\\n",
    "                  else 0\n",
    "                  for i, lm in enumerate(sample_lms))\n",
    "    probs.append(prob)"
   ]
  },
  {
   "cell_type": "code",
   "execution_count": null,
   "metadata": {
    "collapsed": true
   },
   "outputs": [],
   "source": [
    "probs_map = np.reshape(probs, (len(xshifts), len(yshifts), len(angles)))"
   ]
  },
  {
   "cell_type": "code",
   "execution_count": null,
   "metadata": {
    "collapsed": true
   },
   "outputs": [],
   "source": [
    "xshift_opt_ind, yshift_opt_ind, rot_opt_ind = np.unravel_index(np.argmax(probs_map), probs_map.shape)\n",
    "print xshift_opt_ind, yshift_opt_ind, rot_opt_ind\n",
    "\n",
    "xshift_opt = xshifts[xshift_opt_ind]\n",
    "yshift_opt = yshifts[yshift_opt_ind]\n",
    "rot_opt = angles[rot_opt_ind]\n",
    "\n",
    "print xshift_opt, yshift_opt, rot_opt, np.rad2deg(rot_opt)"
   ]
  },
  {
   "cell_type": "code",
   "execution_count": null,
   "metadata": {
    "collapsed": true
   },
   "outputs": [],
   "source": [
    "plt.matshow(probs_map[:,:,rot_opt_ind]);\n",
    "plt.xticks(range(0, len(xshifts), 20), xshifts[::20].astype(np.int));\n",
    "plt.xlabel('x-offset');\n",
    "plt.yticks(range(0, len(yshifts), 20), yshifts[::20].astype(np.int));\n",
    "plt.ylabel('y-offset');\n",
    "plt.colorbar();"
   ]
  },
  {
   "cell_type": "code",
   "execution_count": null,
   "metadata": {
    "collapsed": true
   },
   "outputs": [],
   "source": [
    "from skimage.transform import warp, AffineTransform\n",
    "\n",
    "R = np.array([[np.cos(rot_opt), -np.sin(rot_opt)],\n",
    "                [np.sin(rot_opt), np.cos(rot_opt)]])\n",
    "\n",
    "shift = image_centroid + (xshift_opt, yshift_opt) - np.dot(R, atlas_centroid)\n",
    "T = np.vstack([np.column_stack([R, shift]), [0,0,1]])\n",
    "\n",
    "trf = AffineTransform(T)\n",
    "img_trf = warp(dm.image_rgb, inverse_map=trf)"
   ]
  },
  {
   "cell_type": "code",
   "execution_count": null,
   "metadata": {
    "collapsed": true
   },
   "outputs": [],
   "source": [
    "canvas = np.zeros_like(dms[1].image_rgb)\n",
    "canvas[:dm.image_height, :dm.image_width] = img_trf\n",
    "\n",
    "overlayed = alpha_blending(canvas, dms[1].image_rgb, .5, .5)\n",
    "\n",
    "display(canvas)"
   ]
  }
 ],
 "metadata": {
  "kernelspec": {
   "display_name": "Python 2",
   "language": "python",
   "name": "python2"
  },
  "language_info": {
   "codemirror_mode": {
    "name": "ipython",
    "version": 2
   },
   "file_extension": ".py",
   "mimetype": "text/x-python",
   "name": "python",
   "nbconvert_exporter": "python",
   "pygments_lexer": "ipython2",
   "version": "2.7.3"
  }
 },
 "nbformat": 4,
 "nbformat_minor": 0
}
