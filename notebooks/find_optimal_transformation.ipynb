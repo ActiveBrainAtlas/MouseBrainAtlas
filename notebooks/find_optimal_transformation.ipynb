{
 "cells": [
  {
   "cell_type": "code",
   "execution_count": 1,
   "metadata": {
    "collapsed": true
   },
   "outputs": [],
   "source": [
    "import cPickle as pickle\n",
    "\n",
    "import os\n",
    "import sys\n",
    "\n",
    "from utilities2014 import *\n",
    "\n",
    "from itertools import product\n",
    "\n",
    "import cv2\n",
    "\n",
    "import matplotlib.pyplot as plt\n",
    "%matplotlib inline"
   ]
  },
  {
   "cell_type": "code",
   "execution_count": 7,
   "metadata": {
    "collapsed": true
   },
   "outputs": [],
   "source": [
    "from enum import Enum\n",
    "\n",
    "class PolygonType(Enum):\n",
    "    CLOSED = 'closed'\n",
    "    OPEN = 'open'\n",
    "    TEXTURE = 'textured'\n",
    "    TEXTURE_WITH_CONTOUR = 'texture with contour'\n",
    "    DIRECTION = 'directionality'"
   ]
  },
  {
   "cell_type": "code",
   "execution_count": 2,
   "metadata": {
    "collapsed": true
   },
   "outputs": [],
   "source": [
    "landmark_indices = range(17)\n",
    "n_landmark = len(landmark_indices)"
   ]
  },
  {
   "cell_type": "code",
   "execution_count": 3,
   "metadata": {
    "collapsed": true
   },
   "outputs": [],
   "source": [
    "# atlas_landmark_desc = 'RS141_0001_yuncong_08212015001655'"
   ]
  },
  {
   "cell_type": "code",
   "execution_count": null,
   "metadata": {
    "collapsed": true
   },
   "outputs": [],
   "source": [
    "# with open('/home/yuncong/csd395/landmark_descriptors/%s_landmark_centroid_global_%d.pkl'%(atlas_landmark_desc, lm_ind), 'r') as f:\n",
    "#     lm_centroid_global = pickle.load(f)"
   ]
  },
  {
   "cell_type": "code",
   "execution_count": 97,
   "metadata": {
    "collapsed": false
   },
   "outputs": [],
   "source": [
    "with open('/home/yuncong/csd395/landmark_descriptors/landmark_centroids_global.pkl', 'r') as f:\n",
    "    landmark_centroids_global = pickle.load(f)"
   ]
  },
  {
   "cell_type": "code",
   "execution_count": 13,
   "metadata": {
    "collapsed": false
   },
   "outputs": [
    {
     "name": "stderr",
     "output_type": "stream",
     "text": [
      "/oasis/projects/nsf/csd181/yuncong/virtualenv-1.9.1/yuncongve/lib/python2.7/site-packages/skimage/filter/__init__.py:6: skimage_deprecation: The `skimage.filter` module has been renamed to `skimage.filters`.  This placeholder module will be removed in v0.13.\n",
      "  warn(skimage_deprecation('The `skimage.filter` module has been renamed '\n"
     ]
    }
   ],
   "source": [
    "dm = DataManager(generate_hierarchy=False, stack='RS141', resol='x5', section=5)\n",
    "dm._load_image()"
   ]
  },
  {
   "cell_type": "code",
   "execution_count": 14,
   "metadata": {
    "collapsed": false,
    "scrolled": true
   },
   "outputs": [
    {
     "name": "stdout",
     "output_type": "stream",
     "text": [
      "0\n",
      "1\n",
      "2\n",
      "3\n",
      "4\n",
      "5\n",
      "6\n",
      "7\n",
      "8\n",
      "9\n",
      "10\n",
      "11\n",
      "12\n",
      "13\n",
      "14\n",
      "15\n",
      "16\n"
     ]
    }
   ],
   "source": [
    "response_maps_all_rotations = dict([])\n",
    "for lm_ind in landmark_indices:\n",
    "    print lm_ind\n",
    "    response_maps_all_rotations[lm_ind] = dm.load_pipeline_result('responseMapLmAllRotations%d'%lm_ind, 'npy')"
   ]
  },
  {
   "cell_type": "code",
   "execution_count": 15,
   "metadata": {
    "collapsed": true
   },
   "outputs": [],
   "source": [
    "from skimage.feature import peak_local_max\n",
    "\n",
    "def find_peaks(vs_max, topk=3):\n",
    "    \n",
    "    vs_max_smooth = gaussian_filter(vs_max, sigma=10)\n",
    "\n",
    "    peaks = peak_local_max(vs_max_smooth)\n",
    "    ypeaks = peaks[:,0]\n",
    "    xpeaks = peaks[:,1]\n",
    "\n",
    "    order = np.argsort(vs_max_smooth[ypeaks, xpeaks])[::-1]\n",
    "    ypeaks = ypeaks[order]\n",
    "    xpeaks = xpeaks[order]\n",
    "\n",
    "    return np.array([(x, y, vs_max[y, x]) for y, x in zip(ypeaks, xpeaks)[:topk]])\n",
    "\n",
    "def find_peaks_all_rotations(vs_max_all_angles, topk=3):\n",
    "    \n",
    "    topk_locs = []\n",
    "    for theta, vs_max in enumerate(vs_max_all_angles):\n",
    "        topk_locs += map(lambda t: t+(theta,), find_peaks(vs_max, topk))\n",
    "        \n",
    "    topk_locs = sorted(topk_locs, key=lambda x: x[2], reverse=True)[:topk]\n",
    "    \n",
    "    return topk_locs"
   ]
  },
  {
   "cell_type": "code",
   "execution_count": 16,
   "metadata": {
    "collapsed": true
   },
   "outputs": [],
   "source": [
    "image_centroid = np.array((int(dm.image_width/2), int(dm.image_height/2)))\n",
    "atlas_centroid = np.array((2772, 1385))\n",
    "\n",
    "xshifts = np.linspace(-400, 400, 100)\n",
    "yshifts = np.linspace(-400, 400, 100)\n",
    "angles = np.linspace(-np.pi/4, np.pi/4, 17)"
   ]
  },
  {
   "cell_type": "code",
   "execution_count": 17,
   "metadata": {
    "collapsed": true
   },
   "outputs": [],
   "source": [
    "# sample_lms = np.random.choice(range(n_landmark), n_landmark, replace=False)\n",
    "# sample_lms = [0, 9]\n",
    "sample_lms = landmark_indices"
   ]
  },
  {
   "cell_type": "code",
   "execution_count": 18,
   "metadata": {
    "collapsed": true
   },
   "outputs": [],
   "source": [
    "def rigid_transform_to(pts1, T):\n",
    "    pts1_trans = np.dot(T, np.column_stack([pts1, np.ones((pts1.shape[0],))]).T).T\n",
    "    pts1_trans = pts1_trans[:,:2]/pts1_trans[:,-1][:,np.newaxis]\n",
    "    return pts1_trans"
   ]
  },
  {
   "cell_type": "code",
   "execution_count": 19,
   "metadata": {
    "collapsed": false
   },
   "outputs": [],
   "source": [
    "thetas = np.linspace(-np.pi/4, np.pi/4, 9)\n",
    "n_theta = len(thetas)"
   ]
  },
  {
   "cell_type": "code",
   "execution_count": 20,
   "metadata": {
    "collapsed": false
   },
   "outputs": [],
   "source": [
    "X = [landmark_centroids_global[i] for i in sample_lms]\n",
    "Xc = X - atlas_centroid\n",
    "probs = []\n",
    "for xshift, yshift, angle in product(xshifts, yshifts, angles):\n",
    "#     print xshift, yshift, angle\n",
    "    T = np.array([[np.cos(angle), -np.sin(angle), xshift],\n",
    "                    [np.sin(angle), np.cos(angle), yshift],\n",
    "                    [0, 0, 1.]])\n",
    "    TXc = rigid_transform_to(Xc, T).astype(np.int)\n",
    "    TX = TXc + image_centroid\n",
    "    \n",
    "    theta_i = np.argmin(np.abs(thetas - angle))\n",
    "    \n",
    "    prob = np.sum(response_maps_all_rotations[lm][theta_i][TX[i,1], TX[i,0]] if TX[i,1] < dm.image_height and TX[i,1] >= 0 \\\n",
    "                                                        and TX[i,0] < dm.image_width and TX[i,0] >= 0\\\n",
    "                  else 0\n",
    "                  for i, lm in enumerate(sample_lms))\n",
    "    probs.append(prob)\n",
    "    \n",
    "probs_map = np.reshape(probs, (len(xshifts), len(yshifts), len(angles)))"
   ]
  },
  {
   "cell_type": "code",
   "execution_count": 21,
   "metadata": {
    "collapsed": false
   },
   "outputs": [
    {
     "name": "stdout",
     "output_type": "stream",
     "text": [
      "40 33 8\n",
      "-76.7676767677 -133.333333333 0.0 0.0\n",
      "4\n"
     ]
    }
   ],
   "source": [
    "xshift_opt_ind, yshift_opt_ind, rot_opt_ind = np.unravel_index(np.argmax(probs_map), probs_map.shape)\n",
    "print xshift_opt_ind, yshift_opt_ind, rot_opt_ind\n",
    "\n",
    "xshift_opt = xshifts[xshift_opt_ind]\n",
    "yshift_opt = yshifts[yshift_opt_ind]\n",
    "rot_opt = angles[rot_opt_ind]\n",
    "\n",
    "print xshift_opt, yshift_opt, rot_opt, np.rad2deg(rot_opt)\n",
    "\n",
    "theta_i_opt = np.argmin(np.abs(thetas - rot_opt))\n",
    "\n",
    "print theta_i_opt"
   ]
  },
  {
   "cell_type": "code",
   "execution_count": 22,
   "metadata": {
    "collapsed": true
   },
   "outputs": [],
   "source": [
    "R = np.array([[np.cos(rot_opt), -np.sin(rot_opt)],\n",
    "              [np.sin(rot_opt), np.cos(rot_opt)]])\n",
    "\n",
    "shift = image_centroid + (xshift_opt, yshift_opt) - np.dot(R, atlas_centroid)\n",
    "T = np.vstack([np.column_stack([R, shift]), [0,0,1]])"
   ]
  },
  {
   "cell_type": "code",
   "execution_count": 52,
   "metadata": {
    "collapsed": false
   },
   "outputs": [
    {
     "name": "stdout",
     "output_type": "stream",
     "text": [
      "saved /oasis/projects/nsf/csd395/yuncong/DavidData2014results/RS141/0005/RS141_x5_0005_gabor-blueNisslWide-segm-blueNisslRegular-vq-blueNissl_T.npy\n"
     ]
    }
   ],
   "source": [
    "# dm.save_pipeline_result(T, 'T', 'npy')"
   ]
  },
  {
   "cell_type": "code",
   "execution_count": 18,
   "metadata": {
    "collapsed": true
   },
   "outputs": [],
   "source": [
    "# from collections import defaultdict"
   ]
  },
  {
   "cell_type": "code",
   "execution_count": 65,
   "metadata": {
    "collapsed": false
   },
   "outputs": [],
   "source": [
    "with open('/home/yuncong/csd395/landmark_descriptors/landmark_vertices_global.pkl', 'r') as f:\n",
    "    landmark_vertices_global = pickle.load(f)\n",
    "    landmark_vertices_global = dict([(i, np.vstack([vs for vs in vss if len(vs) > 0]).astype(np.int))\n",
    "                                for i, vss in landmark_vertices_global.iteritems()])"
   ]
  },
  {
   "cell_type": "code",
   "execution_count": 92,
   "metadata": {
    "collapsed": false
   },
   "outputs": [],
   "source": [
    "with open('/home/yuncong/csd395/landmark_descriptors/landmark_polygon_vertices_global.pkl', 'r') as f:\n",
    "    landmark_polygon_vertices_global = pickle.load(f)"
   ]
  },
  {
   "cell_type": "code",
   "execution_count": 94,
   "metadata": {
    "collapsed": true
   },
   "outputs": [],
   "source": [
    "grid_ys1, grid_xs1 = np.meshgrid(range(0,dm.image_height, 50), range(0,dm.image_width, 1), indexing='ij')\n",
    "grid_ys2, grid_xs2 = np.meshgrid(range(0,dm.image_height, 1), range(0,dm.image_width, 50), indexing='ij')\n",
    "\n",
    "grid_ys = np.r_[grid_ys1.flat, grid_ys2.flat].astype(np.int)\n",
    "grid_xs = np.r_[grid_xs1.flat, grid_xs2.flat].astype(np.int)"
   ]
  },
  {
   "cell_type": "code",
   "execution_count": 25,
   "metadata": {
    "collapsed": true
   },
   "outputs": [],
   "source": [
    "colors = (np.loadtxt(os.environ['GORDON_REPO_DIR'] + '/visualization/100colors.txt', skiprows=1) * 255).astype(np.int)"
   ]
  },
  {
   "cell_type": "code",
   "execution_count": 99,
   "metadata": {
    "collapsed": false
   },
   "outputs": [
    {
     "data": {
      "text/html": [
       "<a href='tmp.jpg' target='_blank'>tmp.jpg</a><br>"
      ],
      "text/plain": [
       "/oasis/projects/nsf/csd395/yuncong/Brain/notebooks/tmp.jpg"
      ]
     },
     "execution_count": 99,
     "metadata": {},
     "output_type": "execute_result"
    }
   ],
   "source": [
    "atlas_viz = img_as_ubyte(dm.image_rgb)\n",
    "\n",
    "for x,y in landmark_centroids_global.itervalues():\n",
    "    cv2.circle(atlas_viz, (x,y), 20, (0,255,0), -1)\n",
    "    \n",
    "for x,y in np.c_[grid_xs.flat, grid_ys.flat]:\n",
    "    cv2.circle(atlas_viz, (x,y), 1, (0,0,0), -1)\n",
    "\n",
    "for i, lm in landmark_polygon_vertices_global.iteritems():\n",
    "    for ptype, vs in lm:\n",
    "        for x, y in vs.astype(np.int):\n",
    "            cv2.circle(atlas_viz, (x,y), 10, colors[i], -1)\n",
    "\n",
    "# dm.save_pipeline_result(atlas_viz, 'atlasViz', 'jpg')\n",
    "display(atlas_viz)"
   ]
  },
  {
   "cell_type": "code",
   "execution_count": 107,
   "metadata": {
    "collapsed": false
   },
   "outputs": [],
   "source": [
    "global_transf_vertices = dict([(i, rigid_transform_to(vs, T).astype(np.int))\n",
    "                               for i, vs in landmark_vertices_global.iteritems()])\n",
    "\n",
    "global_transf_polygon_vertices = dict([(i, [(ptype, rigid_transform_to(vs, T).astype(np.int)) \n",
    "                                            for ptype, vs in polygon_vs])\n",
    "                                  for i, polygon_vs in landmark_polygon_vertices_global.iteritems()])\n",
    "\n",
    "global_transf_centroids = [np.squeeze(rigid_transform_to(landmark_centroids_global[lm_ind][None,:], T).astype(np.int)) \n",
    "                        for lm_ind in landmark_indices]\n",
    "\n",
    "global_transf_grids = rigid_transform_to(np.c_[grid_xs.flat, grid_ys.flat], T).astype(np.int)"
   ]
  },
  {
   "cell_type": "code",
   "execution_count": 108,
   "metadata": {
    "collapsed": false
   },
   "outputs": [
    {
     "data": {
      "text/html": [
       "<a href='tmp.jpg' target='_blank'>tmp.jpg</a><br>"
      ],
      "text/plain": [
       "/oasis/projects/nsf/csd395/yuncong/Brain/notebooks/tmp.jpg"
      ]
     },
     "execution_count": 108,
     "metadata": {},
     "output_type": "execute_result"
    }
   ],
   "source": [
    "global_tranf_atlas_viz = img_as_ubyte(dm.image_rgb)\n",
    "\n",
    "for x,y in global_transf_centroids:\n",
    "    cv2.circle(global_tranf_atlas_viz, (x,y), 20, (0,255,0), -1)\n",
    "\n",
    "for i, lm in global_transf_polygon_vertices.iteritems():\n",
    "    for ptype, vs in lm:\n",
    "        for x, y in vs:\n",
    "            cv2.circle(global_tranf_atlas_viz, (x,y), 10, colors[i], -1)\n",
    "\n",
    "for x,y in global_transf_grids:\n",
    "    cv2.circle(global_tranf_atlas_viz, (x,y), 1, (0,0,0), -1)\n",
    "\n",
    "# dm.save_pipeline_result(global_tranf_atlas_viz, 'globalTransfAtlasViz', 'jpg')\n",
    "display(global_tranf_atlas_viz)"
   ]
  },
  {
   "cell_type": "code",
   "execution_count": 19,
   "metadata": {
    "collapsed": false
   },
   "outputs": [
    {
     "name": "stdout",
     "output_type": "stream",
     "text": [
      "saved /oasis/projects/nsf/csd395/yuncong/DavidData2014results/RS141/0005/RS141_x5_0005_gabor-blueNisslWide-segm-blueNisslRegular-vq-blueNissl_landmarkPositionsBeforeSnap.npy\n"
     ]
    }
   ],
   "source": [
    "# dm.save_pipeline_result(new_centroids_global, 'landmarkPositionsBeforeSnap', 'npy')"
   ]
  },
  {
   "cell_type": "code",
   "execution_count": 78,
   "metadata": {
    "collapsed": false
   },
   "outputs": [
    {
     "name": "stdout",
     "output_type": "stream",
     "text": [
      "0\n",
      "1\n",
      "2\n",
      "3\n",
      "4\n",
      "5\n",
      "6\n",
      "7\n",
      "8\n",
      "9\n",
      "10\n",
      "11\n",
      "12\n",
      "13\n",
      "14\n",
      "15\n",
      "16\n"
     ]
    }
   ],
   "source": [
    "displacement_control_points = []\n",
    "control_points = []\n",
    "\n",
    "for lm_ind in landmark_indices:\n",
    "    print lm_ind\n",
    "\n",
    "    centroid = global_transf_centroids[lm_ind]\n",
    "    \n",
    "    rmap = response_maps_all_rotations[lm_ind][theta_i_opt]\n",
    "\n",
    "    peaks = find_peaks(rmap, topk=-1)[:,:2].astype(np.int)\n",
    "    dists = np.squeeze(cdist([centroid], peaks))\n",
    "    peak_indices_in_neighborhood = np.where(dists < 300)[0]\n",
    "#     if len(peak_indices_in_neighborhood) == 0:\n",
    "#         nearest_peak = new_centroid_global\n",
    "#     else:\n",
    "    if len(peak_indices_in_neighborhood) > 0:\n",
    "        peak_scores = rmap[peaks[peak_indices_in_neighborhood,1], peaks[peak_indices_in_neighborhood,0]]\n",
    "        nearest_peak = peaks[peak_indices_in_neighborhood[np.argmax(peak_scores)]]\n",
    "\n",
    "    control_points.append(centroid)\n",
    "    displacement_control_points.append(nearest_peak - centroid)\n",
    "    \n",
    "control_points = np.array(control_points)\n",
    "displacement_control_points = np.array(displacement_control_points)"
   ]
  },
  {
   "cell_type": "code",
   "execution_count": 89,
   "metadata": {
    "collapsed": false
   },
   "outputs": [
    {
     "data": {
      "text/html": [
       "<a href='tmp.jpg' target='_blank'>tmp.jpg</a><br>"
      ],
      "text/plain": [
       "/oasis/projects/nsf/csd395/yuncong/Brain/notebooks/tmp.jpg"
      ]
     },
     "execution_count": 89,
     "metadata": {},
     "output_type": "execute_result"
    }
   ],
   "source": [
    "control_points_viz = img_as_ubyte(dm.image_rgb)\n",
    "\n",
    "for (x0,y0), (x,y) in zip(control_points.astype(np.int), (control_points + displacement_control_points).astype(np.int)):\n",
    "    cv2.circle(control_points_viz, (x0,y0), 20, (0,255,0), -1)\n",
    "    cv2.circle(control_points_viz, (x,y), 20, (255,0,0), -1)\n",
    "    cv2.line(control_points_viz, (x0,y0), (x,y), (0,255,0), 5)\n",
    "    \n",
    "display(control_points_viz)"
   ]
  },
  {
   "cell_type": "code",
   "execution_count": 80,
   "metadata": {
    "collapsed": true
   },
   "outputs": [],
   "source": [
    "def interpolate_displacement(pts, control_points, displacement_control_points, rbf_sigma=500):\n",
    "    diffs = np.array([p - control_points for p in pts])\n",
    "    dists_control_points = np.sqrt(np.sum(diffs**2, axis=-1))\n",
    "    weights_control_points = np.exp(-dists_control_points**2/rbf_sigma**2)\n",
    "    weights_control_points = weights_control_points / np.sum(weights_control_points, axis=1)[:,None]\n",
    "\n",
    "    pts_displacements = np.dot(weights_control_points, displacement_control_points)\n",
    "    displaced_pts = pts + pts_displacements\n",
    "    \n",
    "    return displaced_pts"
   ]
  },
  {
   "cell_type": "code",
   "execution_count": 81,
   "metadata": {
    "collapsed": true
   },
   "outputs": [],
   "source": [
    "rbf_sigma = 500"
   ]
  },
  {
   "cell_type": "code",
   "execution_count": 109,
   "metadata": {
    "collapsed": false
   },
   "outputs": [],
   "source": [
    "displacement_transf_grids = interpolate_displacement(global_transf_grids,\n",
    "                        control_points, displacement_control_points, rbf_sigma=rbf_sigma).astype(np.int)\n",
    "\n",
    "displacement_transf_centroids = interpolate_displacement(global_transf_centroids,\n",
    "                        control_points, displacement_control_points, rbf_sigma=rbf_sigma).astype(np.int)\n",
    "\n",
    "displacement_transf_vertices = dict([(i, interpolate_displacement(vs,\n",
    "                                 control_points, displacement_control_points, rbf_sigma=rbf_sigma).astype(np.int))\n",
    "                                for i, vs in global_transf_vertices.iteritems()])\n",
    "\n",
    "displacement_transf_polygon_vertices = dict([(i, [(ptype, interpolate_displacement(vs,\n",
    "                               control_points, displacement_control_points, rbf_sigma=rbf_sigma).astype(np.int)) \n",
    "                                                  for ptype, vs in polygon_vs])\n",
    "                                             for i, polygon_vs in global_transf_polygon_vertices.iteritems()])"
   ]
  },
  {
   "cell_type": "code",
   "execution_count": 110,
   "metadata": {
    "collapsed": false
   },
   "outputs": [
    {
     "data": {
      "text/html": [
       "<a href='tmp.jpg' target='_blank'>tmp.jpg</a><br>"
      ],
      "text/plain": [
       "/oasis/projects/nsf/csd395/yuncong/Brain/notebooks/tmp.jpg"
      ]
     },
     "execution_count": 110,
     "metadata": {},
     "output_type": "execute_result"
    }
   ],
   "source": [
    "displacement_transf_atlas_viz = img_as_ubyte(dm.image_rgb)\n",
    "\n",
    "displacement_transf_grids_valid = np.minimum((dm.image_width-1, dm.image_height-1), np.maximum(displacement_transf_grids, (0,0)))\n",
    "\n",
    "for x,y in displacement_transf_grids_valid:\n",
    "    cv2.circle(displacement_transf_atlas_viz, (x,y), 1, (0,0,0), -1)\n",
    "    \n",
    "for x,y in displacement_transf_centroids:\n",
    "    cv2.circle(displacement_transf_atlas_viz, (x,y), 20, (0,255,0), -1)\n",
    "    \n",
    "for i, lm in displacement_transf_polygon_vertices.iteritems():\n",
    "    for ptype, vs in lm:\n",
    "        for x, y in vs:\n",
    "            cv2.circle(displacement_transf_atlas_viz, (x,y), 10, colors[i], -1)\n",
    "\n",
    "# dm.save_pipeline_result(displacement_transf_atlas_viz, 'displacementTransfAtlasViz', 'jpg')\n",
    "display(displacement_transf_atlas_viz)"
   ]
  },
  {
   "cell_type": "code",
   "execution_count": null,
   "metadata": {
    "collapsed": true
   },
   "outputs": [],
   "source": [
    "import datetime\n",
    "\n",
    "with open(os.environ['GORDON_LABELING_DIR']+'/RS141/0001/RS141_0001_yuncong_08212015001655.pkl', 'r') as f:\n",
    "    labelings = pickle.load(f)\n",
    "\n",
    "new_labeling = dict([])\n",
    "new_labeling['parent_labeling_name'] = None\n",
    "new_labeling['login_time'] = None\n",
    "new_labeling['initial_polygons'] = None\n",
    "new_labeling['labelnames'] = labelings['labelnames']\n",
    "new_labeling['logout_time'] = datetime.datetime.now().strftime(\"%m%d%Y%H%M%S\")\n",
    "new_labeling['final_polygons'] = final_polygons\n",
    "new_labeling['username'] = 'hector'\n",
    "\n",
    "new_labeling_name = new_labeling['username'] + '_' + new_labeling['logout_time']"
   ]
  },
  {
   "cell_type": "code",
   "execution_count": 113,
   "metadata": {
    "collapsed": false
   },
   "outputs": [
    {
     "data": {
      "text/plain": [
       "{0: [(<PolygonType.TEXTURE: 'textured'>, array([[2628, 1912],\n",
       "          [2660, 1896],\n",
       "          [2712, 1879],\n",
       "          [2766, 1873],\n",
       "          [2840, 1860],\n",
       "          [2889, 1860],\n",
       "          [2962, 1854],\n",
       "          [2994, 1848],\n",
       "          [3031, 1871],\n",
       "          [3080, 1910],\n",
       "          [3079, 1957],\n",
       "          [3066, 1990],\n",
       "          [3032, 2012],\n",
       "          [2999, 2025],\n",
       "          [2953, 2038],\n",
       "          [2892, 2034],\n",
       "          [2860, 2031],\n",
       "          [2821, 2020],\n",
       "          [2758, 2008],\n",
       "          [2722, 1997],\n",
       "          [2664, 1986],\n",
       "          [2627, 1961],\n",
       "          [2597, 1933]]))],\n",
       " 1: [(<PolygonType.TEXTURE: 'textured'>, array([[1544, 1091],\n",
       "          [1572, 1127],\n",
       "          [1598, 1189],\n",
       "          [1634, 1217],\n",
       "          [1682, 1269],\n",
       "          [1729, 1313],\n",
       "          [1795, 1347],\n",
       "          [1840, 1397],\n",
       "          [1833, 1479],\n",
       "          [1802, 1523],\n",
       "          [1760, 1585],\n",
       "          [1726, 1600],\n",
       "          [1655, 1551],\n",
       "          [1595, 1518],\n",
       "          [1563, 1473],\n",
       "          [1527, 1411],\n",
       "          [1494, 1350],\n",
       "          [1473, 1305],\n",
       "          [1455, 1253],\n",
       "          [1435, 1176],\n",
       "          [1431, 1116],\n",
       "          [1455, 1086],\n",
       "          [1478, 1075],\n",
       "          [1512, 1078]]))],\n",
       " 2: [(<PolygonType.TEXTURE_WITH_CONTOUR: 'texture with contour'>,\n",
       "   array([[4084, 1615],\n",
       "          [4175, 1623],\n",
       "          [4278, 1631],\n",
       "          [4357, 1648],\n",
       "          [4447, 1657],\n",
       "          [4480, 1665],\n",
       "          [4545, 1677],\n",
       "          [4596, 1706],\n",
       "          [4573, 1749],\n",
       "          [4509, 1741],\n",
       "          [4407, 1719],\n",
       "          [4291, 1702],\n",
       "          [4195, 1665],\n",
       "          [4096, 1653],\n",
       "          [4058, 1631]]))],\n",
       " 3: [(<PolygonType.TEXTURE: 'textured'>, array([[1274,  595],\n",
       "          [1216,  554],\n",
       "          [1160,  570],\n",
       "          [1162,  629],\n",
       "          [1169,  691],\n",
       "          [1202,  745],\n",
       "          [1248,  782],\n",
       "          [1306,  758],\n",
       "          [1311,  648]]))],\n",
       " 4: [(<PolygonType.TEXTURE: 'textured'>, array([[1214, 1896],\n",
       "          [1207, 1969],\n",
       "          [1269, 2045],\n",
       "          [1335, 2088],\n",
       "          [1404, 2130],\n",
       "          [1487, 2153],\n",
       "          [1515, 2100],\n",
       "          [1532, 2007],\n",
       "          [1487, 1936],\n",
       "          [1439, 1867],\n",
       "          [1381, 1845],\n",
       "          [1352, 1797],\n",
       "          [1313, 1786],\n",
       "          [1291, 1792],\n",
       "          [1254, 1837]])), (<PolygonType.OPEN: 'open'>, array([[1160, 1955],\n",
       "          [1179, 1997],\n",
       "          [1204, 2022],\n",
       "          [1259, 2072],\n",
       "          [1321, 2115],\n",
       "          [1384, 2141],\n",
       "          [1429, 2147],\n",
       "          [1500, 2154],\n",
       "          [1528, 2139],\n",
       "          [1544, 2065],\n",
       "          [1546, 2015],\n",
       "          [1518, 1961],\n",
       "          [1482, 1909],\n",
       "          [1435, 1844],\n",
       "          [1368, 1783],\n",
       "          [1340, 1732],\n",
       "          [1315, 1702]]))],\n",
       " 5: [(<PolygonType.TEXTURE_WITH_CONTOUR: 'texture with contour'>,\n",
       "   array([[2057, 1536],\n",
       "          [2096, 1522],\n",
       "          [2143, 1518],\n",
       "          [2171, 1534],\n",
       "          [2177, 1552],\n",
       "          [2204, 1578],\n",
       "          [2238, 1599],\n",
       "          [2279, 1647],\n",
       "          [2293, 1699],\n",
       "          [2260, 1742],\n",
       "          [2218, 1762],\n",
       "          [2202, 1771],\n",
       "          [2168, 1767],\n",
       "          [2131, 1753],\n",
       "          [2128, 1782],\n",
       "          [2112, 1815],\n",
       "          [2071, 1825],\n",
       "          [2011, 1823],\n",
       "          [1985, 1774],\n",
       "          [1970, 1737],\n",
       "          [1971, 1677],\n",
       "          [1997, 1641],\n",
       "          [2017, 1622],\n",
       "          [2026, 1574]]))],\n",
       " 6: [(<PolygonType.TEXTURE: 'textured'>, array([[1954, 2025],\n",
       "          [1994, 2017],\n",
       "          [2030, 2005],\n",
       "          [2071, 2003],\n",
       "          [2110, 2019],\n",
       "          [2163, 2053],\n",
       "          [2185, 2094],\n",
       "          [2185, 2157],\n",
       "          [2139, 2184],\n",
       "          [2073, 2202],\n",
       "          [2007, 2192],\n",
       "          [1939, 2169],\n",
       "          [1908, 2109],\n",
       "          [1928, 2044]])), (<PolygonType.OPEN: 'open'>, array([[1913, 2031],\n",
       "          [1931, 2016],\n",
       "          [1947, 2007],\n",
       "          [1964, 2001],\n",
       "          [1988, 1996],\n",
       "          [2019, 1990],\n",
       "          [2041, 1985],\n",
       "          [2074, 1982],\n",
       "          [2123, 2004],\n",
       "          [2157, 2024],\n",
       "          [2184, 2051]]))],\n",
       " 7: [(<PolygonType.OPEN: 'open'>, array([[ 942, 1985],\n",
       "          [ 974, 2021],\n",
       "          [1005, 2054],\n",
       "          [1030, 2101],\n",
       "          [1072, 2153],\n",
       "          [1107, 2202],\n",
       "          [1159, 2237],\n",
       "          [1192, 2282],\n",
       "          [1237, 2317],\n",
       "          [1207, 2330],\n",
       "          [1159, 2344],\n",
       "          [1110, 2336],\n",
       "          [1063, 2339]])),\n",
       "  (<PolygonType.TEXTURE: 'textured'>, array([[ 933, 1994],\n",
       "          [ 953, 2009],\n",
       "          [ 977, 2041],\n",
       "          [ 992, 2058],\n",
       "          [1002, 2076],\n",
       "          [1022, 2108],\n",
       "          [1041, 2135],\n",
       "          [1058, 2156],\n",
       "          [1085, 2191],\n",
       "          [1117, 2225],\n",
       "          [1137, 2240],\n",
       "          [1166, 2266],\n",
       "          [1158, 2299],\n",
       "          [1119, 2304],\n",
       "          [1056, 2296],\n",
       "          [ 997, 2294],\n",
       "          [ 967, 2273],\n",
       "          [ 928, 2228],\n",
       "          [ 910, 2190],\n",
       "          [ 892, 2137],\n",
       "          [ 897, 2062],\n",
       "          [ 923, 2004]]))],\n",
       " 8: [(<PolygonType.TEXTURE_WITH_CONTOUR: 'texture with contour'>,\n",
       "   array([[2507,  400],\n",
       "          [2531,  361],\n",
       "          [2564,  342],\n",
       "          [2649,  326],\n",
       "          [2722,  343],\n",
       "          [2804,  371],\n",
       "          [2861,  437],\n",
       "          [2879,  518],\n",
       "          [2904,  572],\n",
       "          [2826,  538],\n",
       "          [2751,  510],\n",
       "          [2676,  496],\n",
       "          [2639,  463],\n",
       "          [2593,  450],\n",
       "          [2547,  428]]))],\n",
       " 9: [(<PolygonType.OPEN: 'open'>, array([[3834,  892],\n",
       "          [4143,  904],\n",
       "          [4359,  942],\n",
       "          [4581,  974],\n",
       "          [4761,  994],\n",
       "          [4886, 1018],\n",
       "          [4999, 1039],\n",
       "          [5098, 1092],\n",
       "          [5179, 1153],\n",
       "          [5248, 1238],\n",
       "          [5273, 1339],\n",
       "          [5258, 1422],\n",
       "          [5183, 1462],\n",
       "          [5089, 1504],\n",
       "          [4974, 1513]]))],\n",
       " 10: [(<PolygonType.DIRECTION: 'directionality'>, array([[1034,  920],\n",
       "          [1105, 1032],\n",
       "          [1161, 1166],\n",
       "          [1200, 1293]])),\n",
       "  (<PolygonType.DIRECTION: 'directionality'>, array([[1115,  895],\n",
       "          [1163, 1016],\n",
       "          [1202, 1133],\n",
       "          [1246, 1257]])),\n",
       "  (<PolygonType.DIRECTION: 'directionality'>, array([[ 963,  974],\n",
       "          [1052, 1071],\n",
       "          [1094, 1171],\n",
       "          [1139, 1294]])),\n",
       "  (<PolygonType.DIRECTION: 'directionality'>, array([[ 921, 1085],\n",
       "          [ 999, 1166],\n",
       "          [1055, 1262],\n",
       "          [1090, 1349]]))],\n",
       " 11: [(<PolygonType.DIRECTION: 'directionality'>, array([[ 834, 1704],\n",
       "          [ 933, 1839],\n",
       "          [1000, 1962],\n",
       "          [1088, 2087],\n",
       "          [1174, 2179],\n",
       "          [1260, 2232],\n",
       "          [1378, 2285]])),\n",
       "  (<PolygonType.DIRECTION: 'directionality'>, array([[ 894, 1669],\n",
       "          [ 967, 1783],\n",
       "          [1023, 1902],\n",
       "          [1082, 2008],\n",
       "          [1153, 2092],\n",
       "          [1251, 2174],\n",
       "          [1332, 2217],\n",
       "          [1384, 2232]])),\n",
       "  (<PolygonType.DIRECTION: 'directionality'>, array([[ 970, 1628],\n",
       "          [1019, 1737],\n",
       "          [1055, 1844],\n",
       "          [1112, 1969]]))],\n",
       " 12: [(<PolygonType.DIRECTION: 'directionality'>, array([[1395, 1531],\n",
       "          [1537, 1670],\n",
       "          [1635, 1748],\n",
       "          [1755, 1838],\n",
       "          [1906, 1903],\n",
       "          [2074, 1929],\n",
       "          [2226, 1948],\n",
       "          [2379, 2029],\n",
       "          [2527, 2096],\n",
       "          [2684, 2160],\n",
       "          [2847, 2208]])),\n",
       "  (<PolygonType.DIRECTION: 'directionality'>, array([[1434, 1502],\n",
       "          [1502, 1565],\n",
       "          [1582, 1633],\n",
       "          [1671, 1710],\n",
       "          [1762, 1779],\n",
       "          [1896, 1852],\n",
       "          [2060, 1889]]))],\n",
       " 13: [(<PolygonType.DIRECTION: 'directionality'>, array([[1286, 1554],\n",
       "          [1361, 1672],\n",
       "          [1428, 1776],\n",
       "          [1491, 1875]])),\n",
       "  (<PolygonType.DIRECTION: 'directionality'>, array([[1327, 1529],\n",
       "          [1398, 1658],\n",
       "          [1458, 1753],\n",
       "          [1517, 1835],\n",
       "          [1576, 1925]]))],\n",
       " 14: [(<PolygonType.DIRECTION: 'directionality'>, array([[3411, 1718],\n",
       "          [3624, 1612],\n",
       "          [3905, 1568],\n",
       "          [4173, 1535],\n",
       "          [4405, 1542],\n",
       "          [4693, 1533]])),\n",
       "  (<PolygonType.DIRECTION: 'directionality'>, array([[3384, 1675],\n",
       "          [3604, 1564],\n",
       "          [3829, 1522],\n",
       "          [4090, 1498],\n",
       "          [4339, 1489],\n",
       "          [4635, 1483]]))],\n",
       " 15: [(<PolygonType.DIRECTION: 'directionality'>, array([[2814, 1073],\n",
       "          [2940, 1080],\n",
       "          [3069, 1050],\n",
       "          [3177, 1020],\n",
       "          [3282,  970],\n",
       "          [3379,  931],\n",
       "          [3496,  880],\n",
       "          [3597,  841],\n",
       "          [3709,  808]])),\n",
       "  (<PolygonType.DIRECTION: 'directionality'>, array([[2811, 1044],\n",
       "          [2913, 1031],\n",
       "          [2996, 1017],\n",
       "          [3093,  979],\n",
       "          [3197,  948],\n",
       "          [3275,  905],\n",
       "          [3342,  871],\n",
       "          [3465,  834],\n",
       "          [3567,  804],\n",
       "          [3649,  776]]))],\n",
       " 16: [(<PolygonType.DIRECTION: 'directionality'>, array([[2110,  136],\n",
       "          [2196,  233],\n",
       "          [2270,  299],\n",
       "          [2351,  369],\n",
       "          [2448,  452],\n",
       "          [2538,  495],\n",
       "          [2625,  550],\n",
       "          [2713,  602],\n",
       "          [2833,  643],\n",
       "          [2929,  682],\n",
       "          [3003,  716]])),\n",
       "  (<PolygonType.DIRECTION: 'directionality'>, array([[2095,  202],\n",
       "          [2150,  265],\n",
       "          [2199,  318],\n",
       "          [2271,  375],\n",
       "          [2345,  439],\n",
       "          [2425,  508],\n",
       "          [2522,  577],\n",
       "          [2593,  608],\n",
       "          [2662,  640],\n",
       "          [2719,  663],\n",
       "          [2796,  699],\n",
       "          [2859,  732]])),\n",
       "  (<PolygonType.DIRECTION: 'directionality'>, array([[2378,  535],\n",
       "          [2457,  585],\n",
       "          [2543,  625],\n",
       "          [2624,  675],\n",
       "          [2701,  719],\n",
       "          [2775,  753],\n",
       "          [2853,  790]])),\n",
       "  (<PolygonType.DIRECTION: 'directionality'>, array([[2423,  634],\n",
       "          [2483,  665],\n",
       "          [2554,  701],\n",
       "          [2651,  748],\n",
       "          [2762,  795]])),\n",
       "  (<PolygonType.DIRECTION: 'directionality'>, array([[2373,  693],\n",
       "          [2453,  717],\n",
       "          [2535,  759]]))]}"
      ]
     },
     "execution_count": 113,
     "metadata": {},
     "output_type": "execute_result"
    }
   ],
   "source": [
    "displacement_transf_polygon_vertices"
   ]
  },
  {
   "cell_type": "code",
   "execution_count": 145,
   "metadata": {
    "collapsed": false
   },
   "outputs": [
    {
     "ename": "NameError",
     "evalue": "name 'final_polygons' is not defined",
     "output_type": "error",
     "traceback": [
      "\u001b[1;31m---------------------------------------------------------------------------\u001b[0m",
      "\u001b[1;31mNameError\u001b[0m                                 Traceback (most recent call last)",
      "\u001b[1;32m<ipython-input-145-d51686d227c6>\u001b[0m in \u001b[0;36m<module>\u001b[1;34m()\u001b[0m\n\u001b[1;32m----> 1\u001b[1;33m \u001b[0mfinal_polygons\u001b[0m\u001b[1;33m\u001b[0m\u001b[0m\n\u001b[0m",
      "\u001b[1;31mNameError\u001b[0m: name 'final_polygons' is not defined"
     ]
    }
   ],
   "source": [
    "final_polygons = []\n",
    "displacement_transf_polygon_vertices"
   ]
  },
  {
   "cell_type": "code",
   "execution_count": 53,
   "metadata": {
    "collapsed": true
   },
   "outputs": [],
   "source": [
    "def move_landmark(lm_ind, snap_peak=True):\n",
    "    \n",
    "    with open('/home/yuncong/csd395/landmark_descriptors/%s_landmark_boundary_vertices_all_polygons_global_%d.pkl'%(atlas_landmark_desc, lm_ind), 'r') as f:\n",
    "        all_polygon_boundary_vertices = pickle.load(f)[theta_i_opt]\n",
    "        \n",
    "    with open('/home/yuncong/csd395/landmark_descriptors/%s_landmark_textured_area_vertices_all_polygons_global_%d.pkl'%(atlas_landmark_desc, lm_ind), 'r') as f:\n",
    "        all_polygon_textured_area_vertices = pickle.load(f)[theta_i_opt]\n",
    "\n",
    "    with open('/home/yuncong/csd395/landmark_descriptors/%s_landmark_striation_points_all_polygons_global_%d.pkl'%(atlas_landmark_desc, lm_ind), 'r') as f:\n",
    "        all_polygon_striation_vertices = pickle.load(f)[theta_i_opt]\n",
    "\n",
    "    new_centroid_global = new_centroids_global[lm_ind]\n",
    "\n",
    "    new_landmark_descriptor = dict([])\n",
    "    new_landmark_descriptor['bbox'] = np.nan * np.ones((10,))\n",
    "    new_landmark_descriptor['bbox'][4:6] = new_centroid_global\n",
    "\n",
    "    if snap_peak:\n",
    "    \n",
    "        peaks = find_peaks(response_maps_all_rotations[lm_ind][theta_i_opt], topk=-1)[:,:2].astype(np.int)\n",
    "        dists = np.squeeze(cdist([new_centroid_global], peaks))\n",
    "        peak_indices_in_neighborhood = np.where(dists < 200)[0]\n",
    "        if len(peak_indices_in_neighborhood) == 0:\n",
    "            nearest_peak = new_centroid_global\n",
    "        else:\n",
    "\n",
    "        #     peak_scores = np.exp(-dists[peak_indices_in_neighborhood]**2/10**2) * \\\n",
    "        #             response_maps_all_rotations[lm_ind][theta_i_opt][peaks[peak_indices_in_neighborhood,1],\n",
    "        #                                                             peaks[peak_indices_in_neighborhood,0]]\n",
    "\n",
    "            peak_scores = response_maps_all_rotations[lm_ind][theta_i_opt][peaks[peak_indices_in_neighborhood,1],\n",
    "                                                                    peaks[peak_indices_in_neighborhood,0]]\n",
    "            nearest_peak = peaks[peak_indices_in_neighborhood[np.argmax(peak_scores)]]\n",
    "            \n",
    "    else:\n",
    "        nearest_peak = new_centroid_global\n",
    "\n",
    "    if all_polygon_boundary_vertices is not None:\n",
    "        new_landmark_descriptor['boundary_vertices_all_polygons_global'] = [rigid_transform_to(v, T).astype(np.int) - new_centroid_global + nearest_peak\n",
    "                                                                             for v in all_polygon_boundary_vertices]\n",
    "    else:\n",
    "        new_landmark_descriptor['boundary_vertices_all_polygons_global'] = None\n",
    "\n",
    "    if all_polygon_textured_area_vertices is not None:\n",
    "        new_landmark_descriptor['textured_area_vertices_all_polygons_global'] = [rigid_transform_to(v, T).astype(np.int) - new_centroid_global + nearest_peak\n",
    "                                                                                  for v in all_polygon_textured_area_vertices]\n",
    "    else:\n",
    "        new_landmark_descriptor['textured_area_vertices_all_polygons_global'] = None\n",
    "\n",
    "    if all_polygon_striation_vertices is not None:\n",
    "        new_landmark_descriptor['striation_vertices_all_polygons_global'] = [rigid_transform_to(v, T).astype(np.int) - new_centroid_global + nearest_peak\n",
    "                                                                              for v in all_polygon_striation_vertices]\n",
    "    else:\n",
    "        new_landmark_descriptor['striation_vertices_all_polygons_global'] = None\n",
    "\n",
    "    return new_landmark_descriptor"
   ]
  },
  {
   "cell_type": "code",
   "execution_count": 21,
   "metadata": {
    "collapsed": true
   },
   "outputs": [],
   "source": [
    "from joblib import Parallel, delayed"
   ]
  },
  {
   "cell_type": "code",
   "execution_count": 55,
   "metadata": {
    "collapsed": false
   },
   "outputs": [],
   "source": [
    "new_landmark_descriptors = Parallel(n_jobs=16)(delayed(move_landmark)(lm_ind, snap_peak=False) \n",
    "                                               for lm_ind in landmark_indices)\n",
    "new_landmark_descriptors = dict(zip(landmark_indices, new_landmark_descriptors))"
   ]
  },
  {
   "cell_type": "code",
   "execution_count": 67,
   "metadata": {
    "collapsed": false
   },
   "outputs": [],
   "source": [
    "import datetime\n",
    "timestamp = datetime.datetime.now().strftime(\"%m%d%Y%H%M%S\")\n",
    "\n",
    "for lm_ind in landmark_indices:\n",
    "    with open('/home/yuncong/csd395/%s_%s_%s_%s_landmark_descriptors_%d.pkl'%(\n",
    "            dm.stack, dm.slice_str, 'hector', timestamp, lm_ind), 'w') as f:\n",
    "        pickle.dump(new_landmark_descriptors[lm_ind], f)"
   ]
  },
  {
   "cell_type": "code",
   "execution_count": 43,
   "metadata": {
    "collapsed": false
   },
   "outputs": [
    {
     "name": "stdout",
     "output_type": "stream",
     "text": [
      "saved /oasis/projects/nsf/csd395/yuncong/DavidData2014results/RS141/0004/RS141_x5_0004_gabor-blueNisslWide-segm-blueNisslRegular-vq-blueNissl_landmarkDetections.jpg\n"
     ]
    }
   ],
   "source": [
    "# dm.save_pipeline_result(viz, 'landmarkDetections', 'jpg')"
   ]
  },
  {
   "cell_type": "code",
   "execution_count": 28,
   "metadata": {
    "collapsed": false
   },
   "outputs": [
    {
     "data": {
      "image/png": "[encoded data removed]",
      "text/plain": [
       "<matplotlib.figure.Figure at 0x5998190>"
      ]
     },
     "metadata": {},
     "output_type": "display_data"
    }
   ],
   "source": [
    "plt.matshow(probs_map[:,:,rot_opt_ind]);\n",
    "plt.xticks(range(0, len(xshifts), 20), xshifts[::20].astype(np.int));\n",
    "plt.xlabel('x-offset');\n",
    "plt.yticks(range(0, len(yshifts), 20), yshifts[::20].astype(np.int));\n",
    "plt.ylabel('y-offset');\n",
    "plt.colorbar();"
   ]
  },
  {
   "cell_type": "code",
   "execution_count": null,
   "metadata": {
    "collapsed": true
   },
   "outputs": [],
   "source": [
    "for "
   ]
  },
  {
   "cell_type": "code",
   "execution_count": 29,
   "metadata": {
    "collapsed": true
   },
   "outputs": [],
   "source": [
    "origin_pos_canvas_atlas = np.load(os.environ['GORDON_RESULT_DIR'] + '/atlas_origin_on_canvas.npy')\n",
    "origin_pos_canvas = dm.load_pipeline_result('originPosOnCanvas', 'npy')"
   ]
  },
  {
   "cell_type": "code",
   "execution_count": 21,
   "metadata": {
    "collapsed": true
   },
   "outputs": [],
   "source": [
    "canvas_shape = np.load(os.environ['GORDON_RESULT_DIR'] + '/paddedSize.npy')"
   ]
  },
  {
   "cell_type": "code",
   "execution_count": 61,
   "metadata": {
    "collapsed": true
   },
   "outputs": [],
   "source": [
    "def alpha_blending(src_rgb, dst_rgb, src_alpha, dst_alpha):\n",
    "    \n",
    "    \n",
    "    if np.issubdtype(src_rgb.dtype, np.uint8):\n",
    "        img = img_as_float(img)\n",
    "    \n",
    "    if src_rgb.dtype == np.uint8:\n",
    "        src_rgb = img_as_float(src_rgb)\n",
    "\n",
    "    if dst_rgb.dtype == np.uint8:\n",
    "        dst_rgb = img_as_float(dst_rgb)\n",
    "        \n",
    "    if isinstance(src_alpha, float) or  isinstance(src_alpha, int):\n",
    "        src_alpha = src_alpha * np.ones((src_rgb.shape[0], src_rgb.shape[1]))\n",
    "\n",
    "    if isinstance(dst_alpha, float) or  isinstance(dst_alpha, int):\n",
    "        dst_alpha = dst_alpha * np.ones((dst_rgb.shape[0], dst_rgb.shape[1]))\n",
    "\n",
    "    out_alpha = src_alpha + dst_alpha * (1. - src_alpha)\n",
    "    out_rgb = (src_rgb * src_alpha[..., None] +\n",
    "               dst_rgb * dst_alpha[..., None] * (1. - src_alpha[..., None])) / out_alpha[..., None]\n",
    "    \n",
    "    out = np.zeros((src_rgb.shape[0], src_rgb.shape[1], 4))\n",
    "        \n",
    "    out[..., :3] = out_rgb\n",
    "    out[..., 3] = out_alpha\n",
    "    \n",
    "    return out"
   ]
  },
  {
   "cell_type": "code",
   "execution_count": 63,
   "metadata": {
    "collapsed": true
   },
   "outputs": [],
   "source": [
    "from skimage.transform import warp, AffineTransform\n",
    "\n",
    "R = np.array([[np.cos(rot_opt), -np.sin(rot_opt)],\n",
    "                [np.sin(rot_opt), np.cos(rot_opt)]])\n",
    "\n",
    "shift_padded = image_centroid + (xshift_opt, yshift_opt) + origin_pos_canvas - np.dot(R, atlas_centroid + origin_pos_canvas_atlas)\n",
    "T_padded = np.vstack([np.column_stack([R, shift_padded]), [0,0,1]])\n",
    "\n",
    "image = dm.load_pipeline_result('padded', 'jpg')\n",
    "# image_warpped_to_atlas = warp(image, inverse_map=AffineTransform(T_padded))\n",
    "# display(image_warpped_to_atlas)"
   ]
  },
  {
   "cell_type": "code",
   "execution_count": 59,
   "metadata": {
    "collapsed": false
   },
   "outputs": [
    {
     "data": {
      "text/html": [
       "<a href='tmp.jpg' target='_blank'>tmp.jpg</a><br>"
      ],
      "text/plain": [
       "/oasis/projects/nsf/csd395/yuncong/Brain/notebooks/tmp.jpg"
      ]
     },
     "execution_count": 59,
     "metadata": {},
     "output_type": "execute_result"
    }
   ],
   "source": [
    "display(atlas_warpped_to_image)"
   ]
  },
  {
   "cell_type": "code",
   "execution_count": 64,
   "metadata": {
    "collapsed": false
   },
   "outputs": [
    {
     "data": {
      "text/html": [
       "<a href='tmp.jpg' target='_blank'>tmp.jpg</a><br>"
      ],
      "text/plain": [
       "/oasis/projects/nsf/csd395/yuncong/Brain/notebooks/tmp.jpg"
      ]
     },
     "execution_count": 64,
     "metadata": {},
     "output_type": "execute_result"
    }
   ],
   "source": [
    "atlas_warpped_to_image = warp(atlas_viz, inverse_map=AffineTransform(T_padded).inverse)\n",
    "# display(atlas_warpped_to_image)\n",
    "\n",
    "overlayed = alpha_blending(atlas_warpped_to_image, image, .3, .7)\n",
    "display(overlayed)"
   ]
  },
  {
   "cell_type": "code",
   "execution_count": 37,
   "metadata": {
    "collapsed": false
   },
   "outputs": [],
   "source": [
    "atlas_viz = imread(os.environ['GORDON_RESULT_DIR']+'/atlas_viz.jpg')"
   ]
  },
  {
   "cell_type": "code",
   "execution_count": 65,
   "metadata": {
    "collapsed": false
   },
   "outputs": [
    {
     "data": {
      "text/html": [
       "<a href='tmp.jpg' target='_blank'>tmp.jpg</a><br>"
      ],
      "text/plain": [
       "/oasis/projects/nsf/csd395/yuncong/Brain/notebooks/tmp.jpg"
      ]
     },
     "execution_count": 65,
     "metadata": {},
     "output_type": "execute_result"
    }
   ],
   "source": [
    "display(atlas_viz)"
   ]
  },
  {
   "cell_type": "code",
   "execution_count": 47,
   "metadata": {
    "collapsed": false
   },
   "outputs": [
    {
     "data": {
      "text/html": [
       "<a href='tmp.jpg' target='_blank'>tmp.jpg</a><br>"
      ],
      "text/plain": [
       "/oasis/projects/nsf/csd395/yuncong/Brain/notebooks/tmp.jpg"
      ]
     },
     "execution_count": 47,
     "metadata": {},
     "output_type": "execute_result"
    }
   ],
   "source": [
    "overlayed = alpha_blending(img_as_float(canvas2_warpped_to_atlas), img_as_float(atlas_viz), .5, .5)\n",
    "display(overlayed)"
   ]
  }
 ],
 "metadata": {
  "kernelspec": {
   "display_name": "Python 2",
   "language": "python",
   "name": "python2"
  },
  "language_info": {
   "codemirror_mode": {
    "name": "ipython",
    "version": 2
   },
   "file_extension": ".py",
   "mimetype": "text/x-python",
   "name": "python",
   "nbconvert_exporter": "python",
   "pygments_lexer": "ipython2",
   "version": "2.7.3"
  }
 },
 "nbformat": 4,
 "nbformat_minor": 0
}
