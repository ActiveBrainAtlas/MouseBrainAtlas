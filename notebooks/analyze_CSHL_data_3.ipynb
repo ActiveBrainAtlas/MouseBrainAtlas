{
 "cells": [
  {
   "cell_type": "code",
   "execution_count": null,
   "metadata": {
    "collapsed": true
   },
   "outputs": [],
   "source": [
    "%reload_ext autoreload\n",
    "%autoreload 2\n",
    "\n",
    "from skimage.io import imread, imsave\n",
    "from skimage.color import rgb2gray\n",
    "from skimage.util import img_as_float, img_as_ubyte, pad\n",
    "from skimage.transform import integral_image\n",
    "\n",
    "import numpy as np\n",
    "\n",
    "from joblib import Parallel, delayed\n",
    "\n",
    "from scipy.signal import fftconvolve\n",
    "from scipy.cluster.hierarchy import fclusterdata\n",
    "from scipy.spatial.distance import cdist, pdist\n",
    "\n",
    "import matplotlib.pyplot as plt\n",
    "import matplotlib\n",
    "%matplotlib inline\n",
    "\n",
    "from utilities2015 import *\n",
    "\n",
    "import os, sys\n",
    "import cv2\n",
    "import time"
   ]
  },
  {
   "cell_type": "code",
   "execution_count": null,
   "metadata": {
    "collapsed": true
   },
   "outputs": [],
   "source": [
    "centroids = dm.load_pipeline_result('textons', 'npy')\n",
    "n_texton = len(centroids)"
   ]
  },
  {
   "cell_type": "code",
   "execution_count": null,
   "metadata": {
    "collapsed": true
   },
   "outputs": [],
   "source": [
    "t = time.time()\n",
    "print 'assign textons ...',\n",
    "\n",
    "# kmeans = MiniBatchKMeans(n_clusters=n_reduced_texton, batch_size=1000, init=reduced_centroids[:, :20], max_iter=1)\n",
    "# kmeans.fit(features_rotated[:, :20])\n",
    "# labels = kmeans.labels_\n",
    "\n",
    "def first_last_tuples_distribute_over(first_sec, last_sec, n_host):\n",
    "    secs_per_job = (last_sec - first_sec + 1)/float(n_host)\n",
    "    first_last_tuples = [(int(first_sec+i*secs_per_job), int(first_sec+(i+1)*secs_per_job-1) if i != n_host - 1 else last_sec) for i in range(n_host)]\n",
    "    return first_last_tuples\n",
    "\n",
    "label_list = []\n",
    "for f, l in first_last_tuples_distribute_over(0, len(features_rotated), 3):\n",
    "    print f, l\n",
    "    D = cdist(features_rotated[f:l+1, :20], centroids[:, :20])\n",
    "    labels = np.argmin(D, axis=1)\n",
    "    label_list.append(labels)\n",
    "labels = np.concatenate(label_list)\n",
    "\n",
    "texton_map = labels.reshape((h,w))\n",
    "\n",
    "colors = (np.loadtxt('../visualization/100colors.txt') * 255).astype(np.uint8)\n",
    "textonmap_viz = colors[texton_map]\n",
    "\n",
    "print 'done in', time.time() - t, 'seconds'\n",
    "\n",
    "# del features_rotated\n",
    "# del kmeans\n",
    "del label_list\n",
    "del D\n",
    "del labels"
   ]
  },
  {
   "cell_type": "code",
   "execution_count": null,
   "metadata": {
    "collapsed": true
   },
   "outputs": [],
   "source": [
    "dm.save_pipeline_result(texton_map, 'textonmap', 'npy')\n",
    "dm.save_pipeline_result(textonmap_viz, 'textonmapViz', 'jpg')"
   ]
  },
  {
   "cell_type": "code",
   "execution_count": null,
   "metadata": {
    "collapsed": true
   },
   "outputs": [],
   "source": [
    "texton_hists = {}\n",
    "segmentation = np.zeros((h,w), np.int)\n",
    "rss, css = np.mgrid[0:h:50, 0:w:50]\n",
    "for gi, (rs, cs) in enumerate(zip(rss.flat, css.flat)):\n",
    "    segmentation[rs:rs+50, cs:cs+50] = gi\n",
    "    hist = np.bincount(texton_map[rs:rs+50, cs:cs+50].flat, minlength=n_texton)\n",
    "    texton_hists[gi] = hist/float(np.sum(hist))"
   ]
  },
  {
   "cell_type": "code",
   "execution_count": null,
   "metadata": {
    "collapsed": true
   },
   "outputs": [],
   "source": [
    "segmentation_viz = colors[segmentation%len(colors)]\n",
    "# display(segmentation_viz)"
   ]
  },
  {
   "cell_type": "code",
   "execution_count": null,
   "metadata": {
    "collapsed": true
   },
   "outputs": [],
   "source": [
    "dm.save_pipeline_result(segmentation_viz, 'segmentaionViz', 'jpg')"
   ]
  },
  {
   "cell_type": "code",
   "execution_count": null,
   "metadata": {
    "collapsed": true
   },
   "outputs": [],
   "source": [
    "dm.save_pipeline_result(np.asarray(texton_hists.values()), 'texHist', 'npy')\n",
    "dm.save_pipeline_result(segmentation, 'segmentation', 'npy')"
   ]
  },
  {
   "cell_type": "code",
   "execution_count": null,
   "metadata": {
    "collapsed": true
   },
   "outputs": [],
   "source": [
    "n_superpixels = len(np.unique(segmentation))"
   ]
  },
  {
   "cell_type": "code",
   "execution_count": null,
   "metadata": {
    "collapsed": true
   },
   "outputs": [],
   "source": [
    "from collections import defaultdict\n",
    "\n",
    "print 'computing neighbors ...',\n",
    "t = time.time()\n",
    "\n",
    "\n",
    "def diff_offset(x_offset, y_offset):\n",
    "\n",
    "    h, w = segmentation.shape\n",
    "\n",
    "    moving_x_low = max(x_offset, 0)\n",
    "    moving_x_high = min(x_offset + w, w)\n",
    "    moving_width = moving_x_high - moving_x_low\n",
    "    moving_y_low = max(y_offset, 0)\n",
    "    moving_y_high = min(y_offset + h, h)\n",
    "    moving_height = moving_y_high - moving_y_low\n",
    "\n",
    "    d = np.dstack([segmentation[moving_y_low:moving_y_high, moving_x_low:moving_x_high], \n",
    "                   segmentation[:moving_height, :moving_width]])\n",
    "\n",
    "    ys, xs = np.mgrid[:d.shape[0], :d.shape[1]]\n",
    "    nzs = ~(d[...,0]==d[...,1])\n",
    "    r = np.c_[d[nzs], ys[nzs] + y_offset, xs[nzs] + x_offset] # [sp_label1, sp_label2, y, x]\n",
    "\n",
    "    return r\n",
    "\n",
    "diffs = np.vstack([diff_offset(1,0), diff_offset(0,1), diff_offset(1,1), diff_offset(1,-1)])\n",
    "\n",
    "edge_coords = defaultdict(set)\n",
    "neighbors = [set() for _ in range(n_superpixels)]\n",
    "\n",
    "for i, j, y, x in diffs:\n",
    "    edge_coords[frozenset([i,j])].add((x,y))\n",
    "    if i != -1:\n",
    "        neighbors[i].add(j)\n",
    "    if j != -1:\n",
    "        neighbors[j].add(i)\n",
    "        \n",
    "edge_coords = dict((e, np.array(list(pts))) for e, pts in edge_coords.iteritems())\n",
    "\n",
    "# check symmetry; note that this CANNOT check if neighbors is complete\n",
    "A = np.zeros((n_superpixels, n_superpixels))\n",
    "for i, nbrs in enumerate(neighbors):\n",
    "    q = list([j for j in nbrs if j != -1])\n",
    "    A[i, q] = 1    \n",
    "assert np.all(A == A.T), 'neighbor list is not symmetric'\n",
    "\n",
    "dm.save_pipeline_result(neighbors, 'neighbors', 'pkl')\n",
    "dm.save_pipeline_result(edge_coords, 'edgeCoords', 'pkl')\n",
    "\n",
    "print 'done in', time.time() - t, 'seconds'"
   ]
  },
  {
   "cell_type": "code",
   "execution_count": null,
   "metadata": {
    "collapsed": true
   },
   "outputs": [],
   "source": [
    "print 'computing sp properties ...',\n",
    "t = time.time()\n",
    "\n",
    "sp_all_props = regionprops(segmentation + 1, cache=True)\n",
    "\n",
    "def obtain_props_worker(spp):\n",
    "    return spp.centroid, spp.area, spp.bbox\n",
    "\n",
    "sp_props = Parallel(n_jobs=16)(delayed(obtain_props_worker)(spp) for spp in sp_all_props)\n",
    "sp_centroids, sp_areas, sp_bbox = map(np.asarray, zip(*sp_props))\n",
    "\n",
    "\n",
    "dm.save_pipeline_result(sp_centroids, 'spCentroids', 'npy')\n",
    "dm.save_pipeline_result(sp_areas, 'spAreas', 'npy')\n",
    "dm.save_pipeline_result(sp_bbox, 'spBbox', 'npy')\n",
    "\n",
    "# n_superpixel x 8: (cy, cx, area, ymin, xmin, ymax, xmax)\n",
    "\n",
    "# sp_props = np.column_stack([sp_centroids, sp_areas, sp_bbox])\n",
    "\n",
    "# dm.save_pipeline_result(sp_properties, 'spProps', 'npy')\n",
    "\n",
    "print 'done in', time.time() - t, 'seconds'"
   ]
  },
  {
   "cell_type": "code",
   "execution_count": null,
   "metadata": {
    "collapsed": true
   },
   "outputs": [],
   "source": [
    "from skimage.segmentation import mark_boundaries\n",
    "\n",
    "print 'generating segmentation visualization ...',\n",
    "t = time.time()\n",
    "\n",
    "img_superpixelized = mark_boundaries(dm.image[ymin:ymax+1, xmin:xmax+1], segmentation)\n",
    "img_superpixelized = img_as_ubyte(img_superpixelized)\n",
    "dm.save_pipeline_result(img_superpixelized, 'segmentationWithoutText', 'jpg')\n",
    "\n",
    "for s in range(n_superpixels):\n",
    "    cv2.putText(img_superpixelized, str(s), \n",
    "                tuple(np.floor(sp_centroids[s][::-1]).astype(np.int) - np.array([10,-10])), \n",
    "                cv2.FONT_HERSHEY_DUPLEX, .5, ((255,0,255)), 1)\n",
    "\n",
    "dm.save_pipeline_result(img_superpixelized, 'segmentationWithText', 'jpg')\n",
    "\n",
    "emptycanvas_superpixelized = mark_boundaries(np.ones((h,w)), segmentation, \n",
    "                                             color=(0,0,0), outline_color=None)\n",
    "\n",
    "alpha_channel = ~ emptycanvas_superpixelized.all(axis=2)\n",
    "rgba = np.dstack([emptycanvas_superpixelized, alpha_channel])\n",
    "\n",
    "print 'done in', time.time() - t, 'seconds'\n",
    "\n",
    "dm.save_pipeline_result(rgba, 'segmentationTransparent', 'png', is_rgb=True)"
   ]
  },
  {
   "cell_type": "code",
   "execution_count": null,
   "metadata": {
    "collapsed": true
   },
   "outputs": [],
   "source": [
    "print 'computing edge neighbors ...',\n",
    "t = time.time()\n",
    "\n",
    "edge_map = -1 * np.ones_like(segmentation, np.int)\n",
    "\n",
    "for ei, pts in enumerate(edge_coords.itervalues()):\n",
    "    edge_map[pts[:,1], pts[:,0]] = ei\n",
    "    \n",
    "edges = edge_coords.keys()\n",
    "\n",
    "xs, ys = np.mgrid[-5:5, -5:5]\n",
    "\n",
    "def compute_edge_neighbors_worker(pts):\n",
    "    nbrs = set(edge_map[np.maximum(0, np.minimum(h-1, (pts[:,1] + ys[:,:,None]).flat)), \n",
    "                        np.maximum(0, np.minimum(w-1, (pts[:,0] + xs[:,:,None]).flat))])\n",
    "    return nbrs\n",
    "\n",
    "# edge_neighbors = Parallel(n_jobs=16)(delayed(compute_edge_neighbors_worker)(pts) \n",
    "#                                      for e, pts in edge_coords.items())\n",
    "\n",
    "edge_neighbors = {}\n",
    "for ei, (e, pts) in enumerate(edge_coords.iteritems()):\n",
    "    nbr_ids = compute_edge_neighbors_worker(pts) - {-1, ei}\n",
    "    edge_neighbors[e] = set(edges[i] for i in nbr_ids)\n",
    "    \n",
    "print 'done in', time.time() - t, 'seconds'\n",
    "\n",
    "dm.save_pipeline_result(edge_neighbors, 'edgeNeighbors', 'pkl')"
   ]
  },
  {
   "cell_type": "code",
   "execution_count": null,
   "metadata": {
    "collapsed": true
   },
   "outputs": [],
   "source": [
    "print 'sort edge points ...',\n",
    "t = time.time()\n",
    "\n",
    "edge_coords_sorted = {}\n",
    "edge_midpoint = {}\n",
    "\n",
    "for e, pts in edge_coords.iteritems():\n",
    "    X = pts.astype(np.float)\n",
    "    c = X.mean(axis=0)\n",
    "    edge_midpoint[e] = c\n",
    "    Xc = X - c\n",
    "    U,S,V = np.linalg.svd(np.dot(Xc.T, Xc))\n",
    "    u1 = U[:,0]\n",
    "    projs = np.dot(Xc,u1)\n",
    "    order = projs.argsort()\n",
    "    if Xc[order[0],0] > Xc[order[-1],0]:\n",
    "        order = order[::-1]\n",
    "    edge_coords_sorted[e] = X[order].astype(np.int)\n",
    "\n",
    "print 'done in', time.time() - t, 'seconds'\n",
    "\n",
    "dm.save_pipeline_result(edge_coords_sorted, 'edgeCoords', 'pkl')\n",
    "dm.save_pipeline_result(edge_midpoint, 'edgeMidpoints', 'pkl')"
   ]
  },
  {
   "cell_type": "code",
   "execution_count": null,
   "metadata": {
    "collapsed": true
   },
   "outputs": [],
   "source": [
    "print 'compute edge vectors ...',\n",
    "t = time.time()\n",
    "\n",
    "dedge_vectors = defaultdict(float)\n",
    "\n",
    "for e in edge_coords.iterkeys():\n",
    "    c = edge_midpoint[e]\n",
    "    i, j = e\n",
    "    if i == -1:\n",
    "        vector_ji = sp_centroids[j, ::-1] - c\n",
    "    elif j == -1:\n",
    "        vector_ji = c - sp_centroids[i, ::-1]\n",
    "    else:\n",
    "        vector_ji = sp_centroids[i, ::-1] - sp_centroids[j, ::-1]\n",
    "\n",
    "    dedge_vectors[(i,j)] = vector_ji/np.linalg.norm(vector_ji)\n",
    "    dedge_vectors[(j,i)] = -dedge_vectors[(i,j)]\n",
    "\n",
    "dedge_vectors.default_factory = None\n",
    "\n",
    "print 'done in', time.time() - t, 'seconds'\n",
    "\n",
    "dm.save_pipeline_result(dedge_vectors, 'edgeVectors', 'pkl')"
   ]
  },
  {
   "cell_type": "code",
   "execution_count": null,
   "metadata": {
    "collapsed": true
   },
   "outputs": [],
   "source": [
    "print 'compute dedge neighbors ...',\n",
    "t = time.time()\n",
    "\n",
    "dedge_neighbors = defaultdict(set)\n",
    "for (i,j), es in edge_neighbors.iteritems():\n",
    "\n",
    "    if len(es) == 0:\n",
    "        print 'WARNING: edge (%d,%d) has no neighbors'%(i,j)\n",
    "        ls = []\n",
    "    else:\n",
    "        ls = set.union(*[{(a,b),(b,a)} for a,b in es])\n",
    "    \n",
    "    dedge_neighbors[(i,j)] |= set((a,b) for a,b in ls \n",
    "                                  if not (i==b or j==a) and\\\n",
    "                                  np.dot(dedge_vectors[(i,j)], dedge_vectors[(a,b)]) > -.5) - {(j,i),(i,j)}\n",
    "\n",
    "    dedge_neighbors[(j,i)] |= set((a,b) for a,b in ls \n",
    "                                  if not (j==b or i==a) and\\\n",
    "                                  np.dot(dedge_vectors[(j,i)], dedge_vectors[(a,b)]) > -.5) - {(j,i),(i,j)}\n",
    "\n",
    "dedge_neighbors.default_factory = None\n",
    "\n",
    "print 'done in', time.time() - t, 'seconds'\n",
    "\n",
    "dm.save_pipeline_result(dedge_neighbors, 'dedgeNeighbors', 'pkl')\n",
    "\n",
    "# border_len_thresh = 20\n",
    "# neighbors_long_border = [set([nbr for nbr in nbrs if len(edge_coords[frozenset([n,nbr])]) > border_len_thresh]) \n",
    "#                              for n, nbrs in enumerate(neighbors)]\n",
    "# dm.save_pipeline_result(neighbors_long_border, 'neighborsLongBorder', 'pkl')\n"
   ]
  }
 ],
 "metadata": {
  "kernelspec": {
   "display_name": "Python 2",
   "language": "python",
   "name": "python2"
  },
  "language_info": {
   "codemirror_mode": {
    "name": "ipython",
    "version": 2
   },
   "file_extension": ".py",
   "mimetype": "text/x-python",
   "name": "python",
   "nbconvert_exporter": "python",
   "pygments_lexer": "ipython2",
   "version": "2.7.3"
  }
 },
 "nbformat": 4,
 "nbformat_minor": 0
}
