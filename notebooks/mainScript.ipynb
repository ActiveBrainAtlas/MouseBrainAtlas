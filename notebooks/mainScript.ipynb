{
 "metadata": {
  "name": "",
  "signature": "sha256:eee8ad8f81de2090d1e8b25b15a05c5f5aaab710e13718e465c1698e4853c003"
 },
 "nbformat": 3,
 "nbformat_minor": 0,
 "worksheets": [
  {
   "cells": [
    {
     "cell_type": "code",
     "collapsed": false,
     "input": [
      "%load_ext autoreload\n",
      "%autoreload 2\n",
      "\n",
      "from IPython.display import Image, FileLink\n",
      "\n",
      "from compute_features_module import GaborFeatureComputer\n",
      "from kmeans_module import SaliencyDetector\n",
      "from utilities import *\n",
      "\n",
      "import cv2\n",
      "import matplotlib.pyplot as plt\n",
      "\n",
      "import warnings\n",
      "warnings.filterwarnings(\"ignore\", category=DeprecationWarning) "
     ],
     "language": "python",
     "metadata": {},
     "outputs": [],
     "prompt_number": 1
    },
    {
     "cell_type": "code",
     "collapsed": false,
     "input": [
      "CACHE_DIR = '/home/yuncong/my_csd181_scratch/'\n",
      "# IMG_DIR = '/home/yuncong/my_csd181/ParthaData/PMD1305_reduce2/region3/'\n",
      "# img_name_fmt = 'PMD1305_%d.reduce2.region3'\n",
      "IMG_DIR = '/home/yuncong/my_csd181/ParthaData/PMD1305_reduce2/region1/'\n",
      "img_name_fmt = 'PMD1305_%d.reduce2.region1'"
     ],
     "language": "python",
     "metadata": {},
     "outputs": [],
     "prompt_number": 14
    },
    {
     "cell_type": "code",
     "collapsed": false,
     "input": [
      "gc = GaborFeatureComputer()\n",
      "img_id = 244\n",
      "# for img_id in range(159,176): # region2\n",
      "# img_id = 4\n",
      "print img_id\n",
      "img_name = img_name_fmt%img_id\n",
      "img = cv2.imread(IMG_DIR + img_name + '.tif', 0)\n",
      "gc.process_image(img, \n",
      "                 filtered_output = CACHE_DIR + img_name + '_filtered',\n",
      "                 features_output = CACHE_DIR + img_name + '_features')\n"
     ],
     "language": "python",
     "metadata": {},
     "outputs": [
      {
       "output_type": "stream",
       "stream": "stdout",
       "text": [
        "159\n"
       ]
      }
     ],
     "prompt_number": 5
    },
    {
     "cell_type": "code",
     "collapsed": false,
     "input": [
      "gc.visualize_features(output='output/'+img_name+'_features_%d.png'%img_id)"
     ],
     "language": "python",
     "metadata": {},
     "outputs": [],
     "prompt_number": 10
    },
    {
     "cell_type": "code",
     "collapsed": false,
     "input": [
      "FileLink('output/'+img_name+'_features_%d.png'%img_id)"
     ],
     "language": "python",
     "metadata": {},
     "outputs": [
      {
       "html": [
        "<a href='output/PMD1305_244.reduce2.region1_features_244.png' target='_blank'>output/PMD1305_244.reduce2.region1_features_244.png</a><br>"
       ],
       "metadata": {},
       "output_type": "pyout",
       "prompt_number": 12,
       "text": [
        "/oasis/projects/nsf/csd181/yuncong/Brain/output/PMD1305_244.reduce2.region1_features_244.png"
       ]
      }
     ],
     "prompt_number": 12
    },
    {
     "cell_type": "code",
     "collapsed": false,
     "input": [
      "gc = GaborFeatureComputer()\n",
      "# for img_id in range(241,250): # region1\n",
      "for img_id in range(159,176): # region2\n",
      "    print img_id\n",
      "    img_name = img_name_fmt%img_id\n",
      "    img = cv2.imread(IMG_DIR + img_name + '.tif', 0)\n",
      "    gc.process_image(img, features_output = CACHE_DIR + img_name + '_features')"
     ],
     "language": "python",
     "metadata": {},
     "outputs": [
      {
       "output_type": "stream",
       "stream": "stdout",
       "text": [
        "159\n",
        "==== process_image ===="
       ]
      },
      {
       "output_type": "stream",
       "stream": "stdout",
       "text": [
        "\n",
        "# of kernels = 60"
       ]
      },
      {
       "output_type": "stream",
       "stream": "stdout",
       "text": [
        "\n",
        "frequencies: [ 0.14142136  0.1         0.07071068  0.05        0.03535534]\n",
        "# of pixels per cycle: [  7.07106781  10.          14.14213562  20.          28.28427125]\n"
       ]
      },
      {
       "output_type": "stream",
       "stream": "stdout",
       "text": [
        "filtering completed.\n",
        "32 features selected"
       ]
      },
      {
       "output_type": "stream",
       "stream": "stdout",
       "text": [
        "\n",
        "features saved to /home/yuncong/my_csd181_scratch/PMD1305_159.reduce2.region2_features"
       ]
      },
      {
       "output_type": "stream",
       "stream": "stdout",
       "text": [
        "\n",
        "'process_image' run time was 33.312629938 sec\n",
        "160\n",
        "==== process_image ===="
       ]
      },
      {
       "output_type": "stream",
       "stream": "stdout",
       "text": [
        "\n",
        "filtering completed."
       ]
      },
      {
       "output_type": "stream",
       "stream": "stdout",
       "text": [
        "\n",
        "32 features selected"
       ]
      },
      {
       "output_type": "stream",
       "stream": "stdout",
       "text": [
        "\n",
        "features saved to /home/yuncong/my_csd181_scratch/PMD1305_160.reduce2.region2_features"
       ]
      },
      {
       "output_type": "stream",
       "stream": "stdout",
       "text": [
        "\n",
        "'process_image' run time was 31.768711090 sec\n",
        "161\n",
        "==== process_image ===="
       ]
      },
      {
       "output_type": "stream",
       "stream": "stdout",
       "text": [
        "\n",
        "filtering completed."
       ]
      },
      {
       "output_type": "stream",
       "stream": "stdout",
       "text": [
        "\n",
        "32 features selected"
       ]
      },
      {
       "output_type": "stream",
       "stream": "stdout",
       "text": [
        "\n",
        "features saved to /home/yuncong/my_csd181_scratch/PMD1305_161.reduce2.region2_features"
       ]
      },
      {
       "output_type": "stream",
       "stream": "stdout",
       "text": [
        "\n",
        "'process_image' run time was 30.649724960 sec\n",
        "162\n",
        "==== process_image ===="
       ]
      },
      {
       "output_type": "stream",
       "stream": "stdout",
       "text": [
        "\n",
        "filtering completed."
       ]
      },
      {
       "output_type": "stream",
       "stream": "stdout",
       "text": [
        "\n",
        "32 features selected"
       ]
      },
      {
       "output_type": "stream",
       "stream": "stdout",
       "text": [
        "\n",
        "features saved to /home/yuncong/my_csd181_scratch/PMD1305_162.reduce2.region2_features"
       ]
      },
      {
       "output_type": "stream",
       "stream": "stdout",
       "text": [
        "\n",
        "'process_image' run time was 30.794398069 sec\n",
        "163\n",
        "==== process_image ===="
       ]
      },
      {
       "output_type": "stream",
       "stream": "stdout",
       "text": [
        "\n",
        "filtering completed."
       ]
      },
      {
       "output_type": "stream",
       "stream": "stdout",
       "text": [
        "\n",
        "32 features selected"
       ]
      },
      {
       "output_type": "stream",
       "stream": "stdout",
       "text": [
        "\n",
        "features saved to /home/yuncong/my_csd181_scratch/PMD1305_163.reduce2.region2_features"
       ]
      },
      {
       "output_type": "stream",
       "stream": "stdout",
       "text": [
        "\n",
        "'process_image' run time was 29.058732986 sec\n",
        "164\n",
        "==== process_image ===="
       ]
      },
      {
       "output_type": "stream",
       "stream": "stdout",
       "text": [
        "\n",
        "filtering completed."
       ]
      },
      {
       "output_type": "stream",
       "stream": "stdout",
       "text": [
        "\n",
        "32 features selected"
       ]
      },
      {
       "output_type": "stream",
       "stream": "stdout",
       "text": [
        "\n",
        "features saved to /home/yuncong/my_csd181_scratch/PMD1305_164.reduce2.region2_features"
       ]
      },
      {
       "output_type": "stream",
       "stream": "stdout",
       "text": [
        "\n",
        "'process_image' run time was 34.018464088 sec\n",
        "165\n",
        "==== process_image ===="
       ]
      },
      {
       "output_type": "stream",
       "stream": "stdout",
       "text": [
        "\n",
        "filtering completed."
       ]
      },
      {
       "output_type": "stream",
       "stream": "stdout",
       "text": [
        "\n",
        "32 features selected"
       ]
      },
      {
       "output_type": "stream",
       "stream": "stdout",
       "text": [
        "\n",
        "features saved to /home/yuncong/my_csd181_scratch/PMD1305_165.reduce2.region2_features"
       ]
      },
      {
       "output_type": "stream",
       "stream": "stdout",
       "text": [
        "\n",
        "'process_image' run time was 32.212072134 sec\n",
        "166\n",
        "==== process_image ===="
       ]
      },
      {
       "output_type": "stream",
       "stream": "stdout",
       "text": [
        "\n",
        "filtering completed."
       ]
      },
      {
       "output_type": "stream",
       "stream": "stdout",
       "text": [
        "\n",
        "32 features selected"
       ]
      },
      {
       "output_type": "stream",
       "stream": "stdout",
       "text": [
        "\n",
        "features saved to /home/yuncong/my_csd181_scratch/PMD1305_166.reduce2.region2_features"
       ]
      },
      {
       "output_type": "stream",
       "stream": "stdout",
       "text": [
        "\n",
        "'process_image' run time was 29.982039213 sec\n",
        "167\n",
        "==== process_image ===="
       ]
      },
      {
       "output_type": "stream",
       "stream": "stdout",
       "text": [
        "\n",
        "filtering completed."
       ]
      },
      {
       "output_type": "stream",
       "stream": "stdout",
       "text": [
        "\n",
        "32 features selected"
       ]
      },
      {
       "output_type": "stream",
       "stream": "stdout",
       "text": [
        "\n",
        "features saved to /home/yuncong/my_csd181_scratch/PMD1305_167.reduce2.region2_features"
       ]
      },
      {
       "output_type": "stream",
       "stream": "stdout",
       "text": [
        "\n",
        "'process_image' run time was 30.317970037 sec\n",
        "168\n",
        "==== process_image ===="
       ]
      },
      {
       "output_type": "stream",
       "stream": "stdout",
       "text": [
        "\n",
        "filtering completed."
       ]
      },
      {
       "output_type": "stream",
       "stream": "stdout",
       "text": [
        "\n",
        "32 features selected"
       ]
      },
      {
       "output_type": "stream",
       "stream": "stdout",
       "text": [
        "\n",
        "features saved to /home/yuncong/my_csd181_scratch/PMD1305_168.reduce2.region2_features"
       ]
      },
      {
       "output_type": "stream",
       "stream": "stdout",
       "text": [
        "\n",
        "'process_image' run time was 29.664100885 sec\n",
        "169\n",
        "==== process_image ===="
       ]
      },
      {
       "output_type": "stream",
       "stream": "stdout",
       "text": [
        "\n",
        "filtering completed."
       ]
      },
      {
       "output_type": "stream",
       "stream": "stdout",
       "text": [
        "\n",
        "32 features selected"
       ]
      },
      {
       "output_type": "stream",
       "stream": "stdout",
       "text": [
        "\n",
        "features saved to /home/yuncong/my_csd181_scratch/PMD1305_169.reduce2.region2_features"
       ]
      },
      {
       "output_type": "stream",
       "stream": "stdout",
       "text": [
        "\n",
        "'process_image' run time was 33.520130873 sec\n",
        "170\n",
        "==== process_image ===="
       ]
      },
      {
       "output_type": "stream",
       "stream": "stdout",
       "text": [
        "\n",
        "filtering completed."
       ]
      },
      {
       "output_type": "stream",
       "stream": "stdout",
       "text": [
        "\n",
        "32 features selected"
       ]
      },
      {
       "output_type": "stream",
       "stream": "stdout",
       "text": [
        "\n",
        "features saved to /home/yuncong/my_csd181_scratch/PMD1305_170.reduce2.region2_features"
       ]
      },
      {
       "output_type": "stream",
       "stream": "stdout",
       "text": [
        "\n",
        "'process_image' run time was 29.781538963 sec\n",
        "171\n",
        "==== process_image ===="
       ]
      },
      {
       "output_type": "stream",
       "stream": "stdout",
       "text": [
        "\n",
        "filtering completed."
       ]
      },
      {
       "output_type": "stream",
       "stream": "stdout",
       "text": [
        "\n",
        "32 features selected"
       ]
      },
      {
       "output_type": "stream",
       "stream": "stdout",
       "text": [
        "\n",
        "features saved to /home/yuncong/my_csd181_scratch/PMD1305_171.reduce2.region2_features"
       ]
      },
      {
       "output_type": "stream",
       "stream": "stdout",
       "text": [
        "\n",
        "'process_image' run time was 30.144744873 sec\n",
        "172\n",
        "==== process_image ===="
       ]
      },
      {
       "output_type": "stream",
       "stream": "stdout",
       "text": [
        "\n",
        "filtering completed."
       ]
      },
      {
       "output_type": "stream",
       "stream": "stdout",
       "text": [
        "\n",
        "32 features selected"
       ]
      },
      {
       "output_type": "stream",
       "stream": "stdout",
       "text": [
        "\n",
        "features saved to /home/yuncong/my_csd181_scratch/PMD1305_172.reduce2.region2_features"
       ]
      },
      {
       "output_type": "stream",
       "stream": "stdout",
       "text": [
        "\n",
        "'process_image' run time was 30.338160038 sec\n",
        "173\n",
        "==== process_image ===="
       ]
      },
      {
       "output_type": "stream",
       "stream": "stdout",
       "text": [
        "\n",
        "filtering completed."
       ]
      },
      {
       "output_type": "stream",
       "stream": "stdout",
       "text": [
        "\n",
        "32 features selected"
       ]
      },
      {
       "output_type": "stream",
       "stream": "stdout",
       "text": [
        "\n",
        "features saved to /home/yuncong/my_csd181_scratch/PMD1305_173.reduce2.region2_features"
       ]
      },
      {
       "output_type": "stream",
       "stream": "stdout",
       "text": [
        "\n",
        "'process_image' run time was 33.225882053 sec\n",
        "174\n",
        "==== process_image ===="
       ]
      },
      {
       "output_type": "stream",
       "stream": "stdout",
       "text": [
        "\n",
        "filtering completed."
       ]
      },
      {
       "output_type": "stream",
       "stream": "stdout",
       "text": [
        "\n",
        "32 features selected"
       ]
      },
      {
       "output_type": "stream",
       "stream": "stdout",
       "text": [
        "\n",
        "features saved to /home/yuncong/my_csd181_scratch/PMD1305_174.reduce2.region2_features"
       ]
      },
      {
       "output_type": "stream",
       "stream": "stdout",
       "text": [
        "\n",
        "'process_image' run time was 31.974264145 sec\n",
        "175\n",
        "==== process_image ===="
       ]
      },
      {
       "output_type": "stream",
       "stream": "stdout",
       "text": [
        "\n",
        "filtering completed."
       ]
      },
      {
       "output_type": "stream",
       "stream": "stdout",
       "text": [
        "\n",
        "32 features selected"
       ]
      },
      {
       "output_type": "stream",
       "stream": "stdout",
       "text": [
        "\n",
        "features saved to /home/yuncong/my_csd181_scratch/PMD1305_175.reduce2.region2_features"
       ]
      },
      {
       "output_type": "stream",
       "stream": "stdout",
       "text": [
        "\n",
        "'process_image' run time was 32.989548922 sec\n"
       ]
      }
     ],
     "prompt_number": 4
    },
    {
     "cell_type": "code",
     "collapsed": false,
     "input": [
      "compactness = 5\n",
      "presmooth = 10\n",
      "num_textons = 10\n",
      "dist_thresh = .8\n",
      "neighbor_term_weight = 1.\n",
      "img_id = 159\n",
      "img_name = img_name_fmt%img_id\n",
      "img = cv2.imread(IMG_DIR + img_name + '.tif', 0)\n",
      "mask = foreground_mask(img)\n",
      "\n",
      "sd = SaliencyDetector(img, mask=mask, features_input=CACHE_DIR + img_name +'_features.npy')\n",
      "sd.compute_texton(num_textons=num_textons)\n",
      "sd.segment_superpixels(compactness=compactness, sigma=presmooth)\n",
      "sd.visualize_textonmap_superpixels(output='output/'+img_name+'_textonmap_%d.png'%img_id)\n"
     ],
     "language": "python",
     "metadata": {},
     "outputs": [
      {
       "output_type": "stream",
       "stream": "stdout",
       "text": [
        "==== compute_texton ====\n",
        "'compute_texton' run time was 75.965484858 sec"
       ]
      },
      {
       "output_type": "stream",
       "stream": "stdout",
       "text": [
        "\n"
       ]
      },
      {
       "ename": "AttributeError",
       "evalue": "'SaliencyDetector' object has no attribute 'segmentation'",
       "output_type": "pyerr",
       "traceback": [
        "\u001b[1;31m---------------------------------------------------------------------------\u001b[0m\n\u001b[1;31mAttributeError\u001b[0m                            Traceback (most recent call last)",
        "\u001b[1;32m<ipython-input-50-18eea276561f>\u001b[0m in \u001b[0;36m<module>\u001b[1;34m()\u001b[0m\n\u001b[0;32m     12\u001b[0m \u001b[0msd\u001b[0m\u001b[1;33m.\u001b[0m\u001b[0mcompute_texton\u001b[0m\u001b[1;33m(\u001b[0m\u001b[0mnum_textons\u001b[0m\u001b[1;33m=\u001b[0m\u001b[0mnum_textons\u001b[0m\u001b[1;33m)\u001b[0m\u001b[1;33m\u001b[0m\u001b[0m\n\u001b[0;32m     13\u001b[0m \u001b[1;31m# sd.segment_superpixels(compactness=compactness, sigma=presmooth)\u001b[0m\u001b[1;33m\u001b[0m\u001b[1;33m\u001b[0m\u001b[0m\n\u001b[1;32m---> 14\u001b[1;33m \u001b[0msd\u001b[0m\u001b[1;33m.\u001b[0m\u001b[0mvisualize_textonmap_superpixels\u001b[0m\u001b[1;33m(\u001b[0m\u001b[0moutput\u001b[0m\u001b[1;33m=\u001b[0m\u001b[1;34m'output/'\u001b[0m\u001b[1;33m+\u001b[0m\u001b[0mimg_name\u001b[0m\u001b[1;33m+\u001b[0m\u001b[1;34m'_textonmap_%d.png'\u001b[0m\u001b[1;33m%\u001b[0m\u001b[0mimg_id\u001b[0m\u001b[1;33m)\u001b[0m\u001b[1;33m\u001b[0m\u001b[0m\n\u001b[0m",
        "\u001b[1;32m/oasis/projects/nsf/csd181/yuncong/Brain/kmeans_module.pyc\u001b[0m in \u001b[0;36mvisualize_textonmap_superpixels\u001b[1;34m(self, output)\u001b[0m\n\u001b[0;32m     91\u001b[0m         \u001b[0mtextonmap_rgb\u001b[0m \u001b[1;33m=\u001b[0m \u001b[0mlabel2rgb\u001b[0m\u001b[1;33m(\u001b[0m\u001b[0mself\u001b[0m\u001b[1;33m.\u001b[0m\u001b[0mtextonmap\u001b[0m\u001b[1;33m,\u001b[0m \u001b[0mimage\u001b[0m\u001b[1;33m=\u001b[0m\u001b[0mNone\u001b[0m\u001b[1;33m,\u001b[0m \u001b[0mcolors\u001b[0m\u001b[1;33m=\u001b[0m\u001b[0mNone\u001b[0m\u001b[1;33m,\u001b[0m \u001b[0malpha\u001b[0m\u001b[1;33m=\u001b[0m\u001b[1;36m0.3\u001b[0m\u001b[1;33m,\u001b[0m \u001b[0mimage_alpha\u001b[0m\u001b[1;33m=\u001b[0m\u001b[1;36m1\u001b[0m\u001b[1;33m)\u001b[0m\u001b[1;33m\u001b[0m\u001b[0m\n\u001b[0;32m     92\u001b[0m \u001b[1;33m\u001b[0m\u001b[0m\n\u001b[1;32m---> 93\u001b[1;33m         \u001b[0mimg_superpixelized\u001b[0m \u001b[1;33m=\u001b[0m \u001b[0mmark_boundaries\u001b[0m\u001b[1;33m(\u001b[0m\u001b[0mgray2rgb\u001b[0m\u001b[1;33m(\u001b[0m\u001b[0mself\u001b[0m\u001b[1;33m.\u001b[0m\u001b[0mimg\u001b[0m\u001b[1;33m)\u001b[0m\u001b[1;33m,\u001b[0m \u001b[0mself\u001b[0m\u001b[1;33m.\u001b[0m\u001b[0msegmentation\u001b[0m\u001b[1;33m)\u001b[0m\u001b[1;33m\u001b[0m\u001b[0m\n\u001b[0m\u001b[0;32m     94\u001b[0m         \u001b[0mimg_superpixelized_text\u001b[0m \u001b[1;33m=\u001b[0m \u001b[0mimg_as_ubyte\u001b[0m\u001b[1;33m(\u001b[0m\u001b[0mimg_superpixelized\u001b[0m\u001b[1;33m)\u001b[0m\u001b[1;33m\u001b[0m\u001b[0m\n\u001b[0;32m     95\u001b[0m         \u001b[1;32mfor\u001b[0m \u001b[0ms\u001b[0m \u001b[1;32min\u001b[0m \u001b[0mrange\u001b[0m\u001b[1;33m(\u001b[0m\u001b[0mself\u001b[0m\u001b[1;33m.\u001b[0m\u001b[0mn_superpixels\u001b[0m\u001b[1;33m)\u001b[0m\u001b[1;33m:\u001b[0m\u001b[1;33m\u001b[0m\u001b[0m\n",
        "\u001b[1;31mAttributeError\u001b[0m: 'SaliencyDetector' object has no attribute 'segmentation'"
       ]
      }
     ],
     "prompt_number": 50
    },
    {
     "cell_type": "code",
     "collapsed": false,
     "input": [
      "sd.segment_superpixels(compactness=compactness, sigma=presmooth)\n"
     ],
     "language": "python",
     "metadata": {},
     "outputs": [
      {
       "output_type": "stream",
       "stream": "stdout",
       "text": [
        "==== segment_superpixels ====\n",
        "'segment_superpixels' run time was 27.855576038 sec"
       ]
      },
      {
       "output_type": "stream",
       "stream": "stdout",
       "text": [
        "\n"
       ]
      }
     ],
     "prompt_number": 51
    },
    {
     "cell_type": "code",
     "collapsed": false,
     "input": [
      "sd.visualize_textonmap_superpixels(output='output/'+img_name+'_textonmap_%d.png'%img_id)\n",
      "FileLink('output/'+img_name+'_textonmap_%d.png'%img_id)"
     ],
     "language": "python",
     "metadata": {},
     "outputs": [
      {
       "html": [
        "<a href='output/PMD1305_159.reduce2.region2_textonmap_159.png' target='_blank'>output/PMD1305_159.reduce2.region2_textonmap_159.png</a><br>"
       ],
       "metadata": {},
       "output_type": "pyout",
       "prompt_number": 52,
       "text": [
        "/oasis/projects/nsf/csd181/yuncong/Brain/output/PMD1305_159.reduce2.region2_textonmap_159.png"
       ]
      }
     ],
     "prompt_number": 52
    },
    {
     "cell_type": "code",
     "collapsed": false,
     "input": [
      "np.unique(sd.textonmap)"
     ],
     "language": "python",
     "metadata": {},
     "outputs": [
      {
       "metadata": {},
       "output_type": "pyout",
       "prompt_number": 56,
       "text": [
        "array([ 0,  1,  2,  3,  4,  6, 12, 15, 16, 17], dtype=int32)"
       ]
      }
     ],
     "prompt_number": 56
    },
    {
     "cell_type": "code",
     "collapsed": false,
     "input": [
      "compactness = 5\n",
      "presmooth = 10\n",
      "num_textons = 10\n",
      "dist_thresh = .8\n",
      "neighbor_term_weight = 1.\n",
      "\n",
      "# for img_id in range(241,250):\n",
      "# for img_id in range(159,176): # region2\n",
      "\n",
      "#     print img_id\n",
      "    \n",
      "#     img_name = img_name_fmt%img_id\n",
      "#     img = cv2.imread(IMG_DIR + img_name + '.tif', 0)\n",
      "#     mask = foreground_mask(img)\n",
      "    \n",
      "#     sd = SaliencyDetector(img, mask=mask, features_input=CACHE_DIR + img_name +'_features.npy')\n",
      "#     sd.compute_texton(num_textons=num_textons)\n",
      "#     sd.segment_superpixels(compactness=compactness, sigma=presmooth)\n",
      "#     sd.compute_connectivity()\n",
      "#     sd.compute_distance_matrix()\n",
      "#     sd.compute_saliency_map(neighbor_term_weight=neighbor_term_weight)\n",
      "#     sd.find_salient_clusters(dist_thresh=dist_thresh, n_top_clusters=10)\n",
      "#     sd.visualize_features(output='output/'+img_name+'_features_%d.png'%img_id)\n",
      "#     sd.visualize_superpixels(output='output/'+img_name+'_superpixelized_%d.png'%img_id)\n",
      "#     sd.visualize_textonmap_superpixels(output='output/'+img_name+'_textonmap_%d.png'%img_id)\n",
      "#     sd.visualize_saliency_map(output='output/'+img_name+'_saliencymap_%d.png'%img_id)\n",
      "#     sd.visualize_salient_clusters(output='output/'+img_name+'_salientclusters_%d.png'%img_id)\n",
      "    "
     ],
     "language": "python",
     "metadata": {},
     "outputs": [],
     "prompt_number": 9
    },
    {
     "cell_type": "code",
     "collapsed": false,
     "input": [
      "from matplotlib.backends.backend_pdf import PdfPages\n",
      "\n",
      "with PdfPages('region2_collection.pdf') as pdf:\n",
      "    \n",
      "#     for img_id in range(241,250):\n",
      "    for img_id in range(159,176): # region2\n",
      "        img_name = img_name_fmt%img_id\n",
      "\n",
      "        plt.imshow(cv2.imread('output/'+img_name+'_features_%d.png'%img_id))\n",
      "        plt.title('features, image %d'% img_id, fontsize=5)\n",
      "        plt.axis('off')\n",
      "        pdf.savefig(bbox_inches='tight', dpi=300)\n",
      "        plt.close();\n",
      "        \n",
      "        fig, axes = plt.subplots(nrows=2, ncols=2)\n",
      "        \n",
      "#         img_name = 'PMD1305_%d.reduce2.region1'%img_id    \n",
      "#         im = cv2.imread(IMG_DIR + img_name + '.tif')\n",
      "        \n",
      "        fig.suptitle('image %d' % img_id, fontsize=5)\n",
      "    \n",
      "        axes[0,0].imshow(cv2.imread('output/'+img_name+'_superpixelized_%d.png'%img_id))\n",
      "        axes[0,0].set_title('superpixelized, compactness=%d, presmooth=%.2f'%(compactness,presmooth), fontsize=5)\n",
      "        axes[0,0].axis('off')\n",
      "            \n",
      "        axes[0,1].imshow(cv2.imread('output/'+img_name+'_textonmap_%d.png'%img_id))\n",
      "        axes[0,1].set_title('texton map, num_textons=%d'%num_textons, fontsize=5)\n",
      "        axes[0,1].axis('off')\n",
      "        \n",
      "        axes[1,0].imshow(cv2.imread('output/'+img_name+'_saliencymap_%d.png'%img_id))\n",
      "        axes[1,0].set_title('saliency map, neighbor_term_weight=%.2f'%neighbor_term_weight, fontsize=5)\n",
      "        axes[1,0].axis('off')\n",
      "        \n",
      "        axes[1,1].imshow(cv2.imread('output/'+img_name+'_salientclusters_%d.png'%img_id))\n",
      "        axes[1,1].set_title('10 most salient clusters, cluster_grow_thresh=%.2f'%dist_thresh, fontsize=5)\n",
      "        axes[1,1].axis('off')\n",
      "        \n",
      "        pdf.savefig(bbox_inches='tight', dpi=300)\n",
      "        plt.close();"
     ],
     "language": "python",
     "metadata": {},
     "outputs": [
      {
       "ename": "TypeError",
       "evalue": "Image data can not convert to float",
       "output_type": "pyerr",
       "traceback": [
        "\u001b[1;31m---------------------------------------------------------------------------\u001b[0m\n\u001b[1;31mTypeError\u001b[0m                                 Traceback (most recent call last)",
        "\u001b[1;32m<ipython-input-3-25d886553586>\u001b[0m in \u001b[0;36m<module>\u001b[1;34m()\u001b[0m\n\u001b[0;32m      7\u001b[0m         \u001b[0mimg_name\u001b[0m \u001b[1;33m=\u001b[0m \u001b[0mimg_name_fmt\u001b[0m\u001b[1;33m%\u001b[0m\u001b[0mimg_id\u001b[0m\u001b[1;33m\u001b[0m\u001b[0m\n\u001b[0;32m      8\u001b[0m \u001b[1;33m\u001b[0m\u001b[0m\n\u001b[1;32m----> 9\u001b[1;33m         \u001b[0mplt\u001b[0m\u001b[1;33m.\u001b[0m\u001b[0mimshow\u001b[0m\u001b[1;33m(\u001b[0m\u001b[0mcv2\u001b[0m\u001b[1;33m.\u001b[0m\u001b[0mimread\u001b[0m\u001b[1;33m(\u001b[0m\u001b[1;34m'output/'\u001b[0m\u001b[1;33m+\u001b[0m\u001b[0mimg_name\u001b[0m\u001b[1;33m+\u001b[0m\u001b[1;34m'_features_%d.png'\u001b[0m\u001b[1;33m%\u001b[0m\u001b[0mimg_id\u001b[0m\u001b[1;33m)\u001b[0m\u001b[1;33m)\u001b[0m\u001b[1;33m\u001b[0m\u001b[0m\n\u001b[0m\u001b[0;32m     10\u001b[0m         \u001b[0mplt\u001b[0m\u001b[1;33m.\u001b[0m\u001b[0mtitle\u001b[0m\u001b[1;33m(\u001b[0m\u001b[1;34m'features, image %d'\u001b[0m\u001b[1;33m%\u001b[0m \u001b[0mimg_id\u001b[0m\u001b[1;33m,\u001b[0m \u001b[0mfontsize\u001b[0m\u001b[1;33m=\u001b[0m\u001b[1;36m5\u001b[0m\u001b[1;33m)\u001b[0m\u001b[1;33m\u001b[0m\u001b[0m\n\u001b[0;32m     11\u001b[0m         \u001b[0mplt\u001b[0m\u001b[1;33m.\u001b[0m\u001b[0maxis\u001b[0m\u001b[1;33m(\u001b[0m\u001b[1;34m'off'\u001b[0m\u001b[1;33m)\u001b[0m\u001b[1;33m\u001b[0m\u001b[0m\n",
        "\u001b[1;32m/oasis/projects/nsf/csd181/yuncong/virtualenv-1.9.1/yuncongve/lib/python2.7/site-packages/matplotlib/pyplot.pyc\u001b[0m in \u001b[0;36mimshow\u001b[1;34m(X, cmap, norm, aspect, interpolation, alpha, vmin, vmax, origin, extent, shape, filternorm, filterrad, imlim, resample, url, hold, **kwargs)\u001b[0m\n\u001b[0;32m   2890\u001b[0m                         \u001b[0mvmax\u001b[0m\u001b[1;33m=\u001b[0m\u001b[0mvmax\u001b[0m\u001b[1;33m,\u001b[0m \u001b[0morigin\u001b[0m\u001b[1;33m=\u001b[0m\u001b[0morigin\u001b[0m\u001b[1;33m,\u001b[0m \u001b[0mextent\u001b[0m\u001b[1;33m=\u001b[0m\u001b[0mextent\u001b[0m\u001b[1;33m,\u001b[0m \u001b[0mshape\u001b[0m\u001b[1;33m=\u001b[0m\u001b[0mshape\u001b[0m\u001b[1;33m,\u001b[0m\u001b[1;33m\u001b[0m\u001b[0m\n\u001b[0;32m   2891\u001b[0m                         \u001b[0mfilternorm\u001b[0m\u001b[1;33m=\u001b[0m\u001b[0mfilternorm\u001b[0m\u001b[1;33m,\u001b[0m \u001b[0mfilterrad\u001b[0m\u001b[1;33m=\u001b[0m\u001b[0mfilterrad\u001b[0m\u001b[1;33m,\u001b[0m\u001b[1;33m\u001b[0m\u001b[0m\n\u001b[1;32m-> 2892\u001b[1;33m                         imlim=imlim, resample=resample, url=url, **kwargs)\n\u001b[0m\u001b[0;32m   2893\u001b[0m         \u001b[0mdraw_if_interactive\u001b[0m\u001b[1;33m(\u001b[0m\u001b[1;33m)\u001b[0m\u001b[1;33m\u001b[0m\u001b[0m\n\u001b[0;32m   2894\u001b[0m     \u001b[1;32mfinally\u001b[0m\u001b[1;33m:\u001b[0m\u001b[1;33m\u001b[0m\u001b[0m\n",
        "\u001b[1;32m/oasis/projects/nsf/csd181/yuncong/virtualenv-1.9.1/yuncongve/lib/python2.7/site-packages/matplotlib/axes.pyc\u001b[0m in \u001b[0;36mimshow\u001b[1;34m(self, X, cmap, norm, aspect, interpolation, alpha, vmin, vmax, origin, extent, shape, filternorm, filterrad, imlim, resample, url, **kwargs)\u001b[0m\n\u001b[0;32m   7298\u001b[0m                        filterrad=filterrad, resample=resample, **kwargs)\n\u001b[0;32m   7299\u001b[0m \u001b[1;33m\u001b[0m\u001b[0m\n\u001b[1;32m-> 7300\u001b[1;33m         \u001b[0mim\u001b[0m\u001b[1;33m.\u001b[0m\u001b[0mset_data\u001b[0m\u001b[1;33m(\u001b[0m\u001b[0mX\u001b[0m\u001b[1;33m)\u001b[0m\u001b[1;33m\u001b[0m\u001b[0m\n\u001b[0m\u001b[0;32m   7301\u001b[0m         \u001b[0mim\u001b[0m\u001b[1;33m.\u001b[0m\u001b[0mset_alpha\u001b[0m\u001b[1;33m(\u001b[0m\u001b[0malpha\u001b[0m\u001b[1;33m)\u001b[0m\u001b[1;33m\u001b[0m\u001b[0m\n\u001b[0;32m   7302\u001b[0m         \u001b[0mself\u001b[0m\u001b[1;33m.\u001b[0m\u001b[0m_set_artist_props\u001b[0m\u001b[1;33m(\u001b[0m\u001b[0mim\u001b[0m\u001b[1;33m)\u001b[0m\u001b[1;33m\u001b[0m\u001b[0m\n",
        "\u001b[1;32m/oasis/projects/nsf/csd181/yuncong/virtualenv-1.9.1/yuncongve/lib/python2.7/site-packages/matplotlib/image.pyc\u001b[0m in \u001b[0;36mset_data\u001b[1;34m(self, A)\u001b[0m\n\u001b[0;32m    423\u001b[0m         if (self._A.dtype != np.uint8 and\n\u001b[0;32m    424\u001b[0m             not np.can_cast(self._A.dtype, np.float)):\n\u001b[1;32m--> 425\u001b[1;33m             \u001b[1;32mraise\u001b[0m \u001b[0mTypeError\u001b[0m\u001b[1;33m(\u001b[0m\u001b[1;34m\"Image data can not convert to float\"\u001b[0m\u001b[1;33m)\u001b[0m\u001b[1;33m\u001b[0m\u001b[0m\n\u001b[0m\u001b[0;32m    426\u001b[0m \u001b[1;33m\u001b[0m\u001b[0m\n\u001b[0;32m    427\u001b[0m         if (self._A.ndim not in (2, 3) or\n",
        "\u001b[1;31mTypeError\u001b[0m: Image data can not convert to float"
       ]
      },
      {
       "metadata": {},
       "output_type": "display_data",
       "png": "[encoded data removed]",
       "text": [
        "<matplotlib.figure.Figure at 0x402a390>"
       ]
      }
     ],
     "prompt_number": 3
    },
    {
     "cell_type": "code",
     "collapsed": false,
     "input": [
      "from matplotlib.backends.backend_pdf import PdfPages\n",
      "\n",
      "with PdfPages('region1_collection.pdf') as pdf:\n",
      "    \n",
      "    for img_id in range(241,250):# region1\n",
      "#     for img_id in range(159,176): # region2\n",
      "        img_name = img_name_fmt%img_id\n",
      "        print img_name\n",
      "\n",
      "        plt.imshow(cv2.imread('output/'+img_name+'_features_%d.png'%img_id))\n",
      "        plt.title('features, image %d'% img_id, fontsize=5)\n",
      "        plt.axis('off')\n",
      "        pdf.savefig(bbox_inches='tight', dpi=300)\n",
      "        plt.close();\n",
      "        \n",
      "#         fig, axes = plt.subplots(nrows=2, ncols=2)\n",
      "        \n",
      "#         img_name = 'PMD1305_%d.reduce2.region1'%img_id    \n",
      "#         im = cv2.imread(IMG_DIR + img_name + '.tif')\n",
      "                \n",
      "        plt.imshow(cv2.imread('output/'+img_name+'_superpixelized_%d.png'%img_id))\n",
      "        plt.title('image %d, ' % img_id + 'superpixelized, compactness=%d, presmooth=%.2f'%(compactness,presmooth), fontsize=5)\n",
      "        plt.axis('off')\n",
      "        pdf.savefig(bbox_inches='tight', dpi=600)\n",
      "        \n",
      "        plt.imshow(cv2.imread('output/'+img_name+'_textonmap_%d.png'%img_id))\n",
      "        plt.title('image %d, ' % img_id + 'texton map, num_textons=%d'%num_textons, fontsize=5)\n",
      "        plt.axis('off')\n",
      "        pdf.savefig(bbox_inches='tight', dpi=600)\n",
      "        \n",
      "        plt.imshow(cv2.imread('output/'+img_name+'_saliencymap_%d.png'%img_id))\n",
      "        plt.title('image %d, ' % img_id + 'saliency map, neighbor_term_weight=%.2f'%neighbor_term_weight, fontsize=5)\n",
      "        plt.axis('off')\n",
      "        pdf.savefig(bbox_inches='tight', dpi=600)\n",
      "        \n",
      "        plt.imshow(cv2.imread('output/'+img_name+'_salientclusters_%d.png'%img_id))\n",
      "        plt.title('image %d, ' % img_id + '10 most salient clusters, cluster_grow_thresh=%.2f'%dist_thresh, fontsize=5)\n",
      "        plt.axis('off')\n",
      "        \n",
      "        pdf.savefig(bbox_inches='tight', dpi=600)\n",
      "        plt.close();"
     ],
     "language": "python",
     "metadata": {},
     "outputs": [
      {
       "output_type": "stream",
       "stream": "stdout",
       "text": [
        "PMD1305_241.reduce2.region1\n"
       ]
      },
      {
       "ename": "TypeError",
       "evalue": "Image data can not convert to float",
       "output_type": "pyerr",
       "traceback": [
        "\u001b[1;31m---------------------------------------------------------------------------\u001b[0m\n\u001b[1;31mTypeError\u001b[0m                                 Traceback (most recent call last)",
        "\u001b[1;32m<ipython-input-15-a2e0d4c00fba>\u001b[0m in \u001b[0;36m<module>\u001b[1;34m()\u001b[0m\n\u001b[0;32m      8\u001b[0m         \u001b[1;32mprint\u001b[0m \u001b[0mimg_name\u001b[0m\u001b[1;33m\u001b[0m\u001b[0m\n\u001b[0;32m      9\u001b[0m \u001b[1;33m\u001b[0m\u001b[0m\n\u001b[1;32m---> 10\u001b[1;33m         \u001b[0mplt\u001b[0m\u001b[1;33m.\u001b[0m\u001b[0mimshow\u001b[0m\u001b[1;33m(\u001b[0m\u001b[0mcv2\u001b[0m\u001b[1;33m.\u001b[0m\u001b[0mimread\u001b[0m\u001b[1;33m(\u001b[0m\u001b[1;34m'output/'\u001b[0m\u001b[1;33m+\u001b[0m\u001b[0mimg_name\u001b[0m\u001b[1;33m+\u001b[0m\u001b[1;34m'_features_%d.png'\u001b[0m\u001b[1;33m%\u001b[0m\u001b[0mimg_id\u001b[0m\u001b[1;33m)\u001b[0m\u001b[1;33m)\u001b[0m\u001b[1;33m\u001b[0m\u001b[0m\n\u001b[0m\u001b[0;32m     11\u001b[0m         \u001b[0mplt\u001b[0m\u001b[1;33m.\u001b[0m\u001b[0mtitle\u001b[0m\u001b[1;33m(\u001b[0m\u001b[1;34m'features, image %d'\u001b[0m\u001b[1;33m%\u001b[0m \u001b[0mimg_id\u001b[0m\u001b[1;33m,\u001b[0m \u001b[0mfontsize\u001b[0m\u001b[1;33m=\u001b[0m\u001b[1;36m5\u001b[0m\u001b[1;33m)\u001b[0m\u001b[1;33m\u001b[0m\u001b[0m\n\u001b[0;32m     12\u001b[0m         \u001b[0mplt\u001b[0m\u001b[1;33m.\u001b[0m\u001b[0maxis\u001b[0m\u001b[1;33m(\u001b[0m\u001b[1;34m'off'\u001b[0m\u001b[1;33m)\u001b[0m\u001b[1;33m\u001b[0m\u001b[0m\n",
        "\u001b[1;32m/oasis/projects/nsf/csd181/yuncong/virtualenv-1.9.1/yuncongve/lib/python2.7/site-packages/matplotlib/pyplot.pyc\u001b[0m in \u001b[0;36mimshow\u001b[1;34m(X, cmap, norm, aspect, interpolation, alpha, vmin, vmax, origin, extent, shape, filternorm, filterrad, imlim, resample, url, hold, **kwargs)\u001b[0m\n\u001b[0;32m   2890\u001b[0m                         \u001b[0mvmax\u001b[0m\u001b[1;33m=\u001b[0m\u001b[0mvmax\u001b[0m\u001b[1;33m,\u001b[0m \u001b[0morigin\u001b[0m\u001b[1;33m=\u001b[0m\u001b[0morigin\u001b[0m\u001b[1;33m,\u001b[0m \u001b[0mextent\u001b[0m\u001b[1;33m=\u001b[0m\u001b[0mextent\u001b[0m\u001b[1;33m,\u001b[0m \u001b[0mshape\u001b[0m\u001b[1;33m=\u001b[0m\u001b[0mshape\u001b[0m\u001b[1;33m,\u001b[0m\u001b[1;33m\u001b[0m\u001b[0m\n\u001b[0;32m   2891\u001b[0m                         \u001b[0mfilternorm\u001b[0m\u001b[1;33m=\u001b[0m\u001b[0mfilternorm\u001b[0m\u001b[1;33m,\u001b[0m \u001b[0mfilterrad\u001b[0m\u001b[1;33m=\u001b[0m\u001b[0mfilterrad\u001b[0m\u001b[1;33m,\u001b[0m\u001b[1;33m\u001b[0m\u001b[0m\n\u001b[1;32m-> 2892\u001b[1;33m                         imlim=imlim, resample=resample, url=url, **kwargs)\n\u001b[0m\u001b[0;32m   2893\u001b[0m         \u001b[0mdraw_if_interactive\u001b[0m\u001b[1;33m(\u001b[0m\u001b[1;33m)\u001b[0m\u001b[1;33m\u001b[0m\u001b[0m\n\u001b[0;32m   2894\u001b[0m     \u001b[1;32mfinally\u001b[0m\u001b[1;33m:\u001b[0m\u001b[1;33m\u001b[0m\u001b[0m\n",
        "\u001b[1;32m/oasis/projects/nsf/csd181/yuncong/virtualenv-1.9.1/yuncongve/lib/python2.7/site-packages/matplotlib/axes.pyc\u001b[0m in \u001b[0;36mimshow\u001b[1;34m(self, X, cmap, norm, aspect, interpolation, alpha, vmin, vmax, origin, extent, shape, filternorm, filterrad, imlim, resample, url, **kwargs)\u001b[0m\n\u001b[0;32m   7298\u001b[0m                        filterrad=filterrad, resample=resample, **kwargs)\n\u001b[0;32m   7299\u001b[0m \u001b[1;33m\u001b[0m\u001b[0m\n\u001b[1;32m-> 7300\u001b[1;33m         \u001b[0mim\u001b[0m\u001b[1;33m.\u001b[0m\u001b[0mset_data\u001b[0m\u001b[1;33m(\u001b[0m\u001b[0mX\u001b[0m\u001b[1;33m)\u001b[0m\u001b[1;33m\u001b[0m\u001b[0m\n\u001b[0m\u001b[0;32m   7301\u001b[0m         \u001b[0mim\u001b[0m\u001b[1;33m.\u001b[0m\u001b[0mset_alpha\u001b[0m\u001b[1;33m(\u001b[0m\u001b[0malpha\u001b[0m\u001b[1;33m)\u001b[0m\u001b[1;33m\u001b[0m\u001b[0m\n\u001b[0;32m   7302\u001b[0m         \u001b[0mself\u001b[0m\u001b[1;33m.\u001b[0m\u001b[0m_set_artist_props\u001b[0m\u001b[1;33m(\u001b[0m\u001b[0mim\u001b[0m\u001b[1;33m)\u001b[0m\u001b[1;33m\u001b[0m\u001b[0m\n",
        "\u001b[1;32m/oasis/projects/nsf/csd181/yuncong/virtualenv-1.9.1/yuncongve/lib/python2.7/site-packages/matplotlib/image.pyc\u001b[0m in \u001b[0;36mset_data\u001b[1;34m(self, A)\u001b[0m\n\u001b[0;32m    423\u001b[0m         if (self._A.dtype != np.uint8 and\n\u001b[0;32m    424\u001b[0m             not np.can_cast(self._A.dtype, np.float)):\n\u001b[1;32m--> 425\u001b[1;33m             \u001b[1;32mraise\u001b[0m \u001b[0mTypeError\u001b[0m\u001b[1;33m(\u001b[0m\u001b[1;34m\"Image data can not convert to float\"\u001b[0m\u001b[1;33m)\u001b[0m\u001b[1;33m\u001b[0m\u001b[0m\n\u001b[0m\u001b[0;32m    426\u001b[0m \u001b[1;33m\u001b[0m\u001b[0m\n\u001b[0;32m    427\u001b[0m         if (self._A.ndim not in (2, 3) or\n",
        "\u001b[1;31mTypeError\u001b[0m: Image data can not convert to float"
       ]
      },
      {
       "metadata": {},
       "output_type": "display_data",
       "png": "[encoded data removed]",
       "text": [
        "<matplotlib.figure.Figure at 0x6fa07690>"
       ]
      }
     ],
     "prompt_number": 15
    }
   ],
   "metadata": {}
  }
 ]
}