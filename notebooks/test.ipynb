{
 "metadata": {
  "name": "",
  "signature": "sha256:6e1989475553ecbf36a0f3b14dd809473e406dc77bac0d35bd254a64f00d7730"
 },
 "nbformat": 3,
 "nbformat_minor": 0,
 "worksheets": [
  {
   "cells": [
    {
     "cell_type": "code",
     "collapsed": false,
     "input": [
      "from IPython.display import display\n",
      "from IPython.html import widgets as W\n",
      "from IPython.utils import traitlets as T\n",
      "\n",
      "class CirclesWidget(W.DOMWidget):\n",
      "    _view_name = T.Unicode('CirclesView', sync=True)\n",
      "    radii = T.List(sync=True)"
     ],
     "language": "python",
     "metadata": {},
     "outputs": [],
     "prompt_number": 1
    },
    {
     "cell_type": "code",
     "collapsed": false,
     "input": [
      "%%javascript\n",
      "require.config({paths: {d3: \"//d3js.org/d3.v3.min\"}});\n"
     ],
     "language": "python",
     "metadata": {},
     "outputs": [
      {
       "javascript": [
        "require.config({paths: {d3: \"//d3js.org/d3.v3.min\"}});"
       ],
       "metadata": {},
       "output_type": "display_data",
       "text": [
        "<IPython.core.display.Javascript at 0x2f1a4d0>"
       ]
      }
     ],
     "prompt_number": 2
    },
    {
     "cell_type": "code",
     "collapsed": false,
     "input": [
      "%%javascript\n",
      "require([\"widgets/js/widget\", \"d3\"], function(WidgetManager, d3){\n",
      "    var CirclesView = IPython.DOMWidgetView.extend({\n",
      "        render: function(){\n",
      "            this.svg = d3.select(this.el).append(\"svg\")\n",
      "                .attr({\n",
      "                    width: 500,\n",
      "                    height: 100\n",
      "                });\n",
      "\n",
      "            this.update();\n",
      "        },\n",
      "        update: function(){\n",
      "            var radii = this.model.get(\"radii\"),\n",
      "                circle = this.svg.selectAll(\"circle\")\n",
      "                    .data(radii);\n",
      "\n",
      "            circle.enter().append(\"circle\")\n",
      "                .style({fill: \"red\", opacity: .5})\n",
      "                .attr({cy: 50})\n",
      "                .on(\"click\", this.click.bind(this));\n",
      "\n",
      "            circle.transition()\n",
      "                .attr({\n",
      "                    cx: function(d, i){ return (i+1) * 50; },\n",
      "                    r: function(d){ return d * 10; }\n",
      "                });\n",
      "\n",
      "            circle.exit()\n",
      "                .transition()\n",
      "                .style({fill: \"black\", opacity: 0})\n",
      "                .remove();\n",
      "        },\n",
      "        click: function(d, i){\n",
      "            var new_radii = this.model.get(\"radii\").slice();\n",
      "            new_radii[i] += 1;\n",
      "            this.model.set(\"radii\", new_radii);\n",
      "            this.touch();\n",
      "        }\n",
      "    });\n",
      "    WidgetManager.register_widget_view(\"CirclesView\", CirclesView);\n",
      "});"
     ],
     "language": "python",
     "metadata": {},
     "outputs": [
      {
       "javascript": [
        "require([\"widgets/js/widget\", \"d3\"], function(WidgetManager, d3){\n",
        "    var CirclesView = IPython.DOMWidgetView.extend({\n",
        "        render: function(){\n",
        "            this.svg = d3.select(this.el).append(\"svg\")\n",
        "                .attr({\n",
        "                    width: 500,\n",
        "                    height: 100\n",
        "                });\n",
        "\n",
        "            this.update();\n",
        "        },\n",
        "        update: function(){\n",
        "            var radii = this.model.get(\"radii\"),\n",
        "                circle = this.svg.selectAll(\"circle\")\n",
        "                    .data(radii);\n",
        "\n",
        "            circle.enter().append(\"circle\")\n",
        "                .style({fill: \"red\", opacity: .5})\n",
        "                .attr({cy: 50})\n",
        "                .on(\"click\", this.click.bind(this));\n",
        "\n",
        "            circle.transition()\n",
        "                .attr({\n",
        "                    cx: function(d, i){ return (i+1) * 50; },\n",
        "                    r: function(d){ return d * 10; }\n",
        "                });\n",
        "\n",
        "            circle.exit()\n",
        "                .transition()\n",
        "                .style({fill: \"black\", opacity: 0})\n",
        "                .remove();\n",
        "        },\n",
        "        click: function(d, i){\n",
        "            var new_radii = this.model.get(\"radii\").slice();\n",
        "            new_radii[i] += 1;\n",
        "            this.model.set(\"radii\", new_radii);\n",
        "            this.touch();\n",
        "        }\n",
        "    });\n",
        "    WidgetManager.register_widget_view(\"CirclesView\", CirclesView);\n",
        "});"
       ],
       "metadata": {},
       "output_type": "display_data",
       "text": [
        "<IPython.core.display.Javascript at 0x2f1a510>"
       ]
      }
     ],
     "prompt_number": 3
    },
    {
     "cell_type": "code",
     "collapsed": false,
     "input": [
      "circles = CirclesWidget(radii=[1,2,3])\n",
      "display(circles)"
     ],
     "language": "python",
     "metadata": {},
     "outputs": [],
     "prompt_number": 5
    },
    {
     "cell_type": "code",
     "collapsed": false,
     "input": [
      "circles.radii = [3,2,1]\n"
     ],
     "language": "python",
     "metadata": {},
     "outputs": [],
     "prompt_number": 8
    },
    {
     "cell_type": "code",
     "collapsed": false,
     "input": [
      "import time\n",
      "import random\n",
      "for i in range(10):\n",
      "    time.sleep(1)\n",
      "    circles.radii = random.sample(range(10), random.randint(0, 10))"
     ],
     "language": "python",
     "metadata": {},
     "outputs": [
      {
       "ename": "KeyboardInterrupt",
       "evalue": "",
       "output_type": "pyerr",
       "traceback": [
        "\u001b[1;31m---------------------------------------------------------------------------\u001b[0m\n\u001b[1;31mKeyboardInterrupt\u001b[0m                         Traceback (most recent call last)",
        "\u001b[1;32m<ipython-input-9-945a0b2dcc47>\u001b[0m in \u001b[0;36m<module>\u001b[1;34m()\u001b[0m\n\u001b[0;32m      2\u001b[0m \u001b[1;32mimport\u001b[0m \u001b[0mrandom\u001b[0m\u001b[1;33m\u001b[0m\u001b[0m\n\u001b[0;32m      3\u001b[0m \u001b[1;32mfor\u001b[0m \u001b[0mi\u001b[0m \u001b[1;32min\u001b[0m \u001b[0mrange\u001b[0m\u001b[1;33m(\u001b[0m\u001b[1;36m10\u001b[0m\u001b[1;33m)\u001b[0m\u001b[1;33m:\u001b[0m\u001b[1;33m\u001b[0m\u001b[0m\n\u001b[1;32m----> 4\u001b[1;33m     \u001b[0mtime\u001b[0m\u001b[1;33m.\u001b[0m\u001b[0msleep\u001b[0m\u001b[1;33m(\u001b[0m\u001b[1;36m1\u001b[0m\u001b[1;33m)\u001b[0m\u001b[1;33m\u001b[0m\u001b[0m\n\u001b[0m\u001b[0;32m      5\u001b[0m     \u001b[0mcircles\u001b[0m\u001b[1;33m.\u001b[0m\u001b[0mradii\u001b[0m \u001b[1;33m=\u001b[0m \u001b[0mrandom\u001b[0m\u001b[1;33m.\u001b[0m\u001b[0msample\u001b[0m\u001b[1;33m(\u001b[0m\u001b[0mrange\u001b[0m\u001b[1;33m(\u001b[0m\u001b[1;36m10\u001b[0m\u001b[1;33m)\u001b[0m\u001b[1;33m,\u001b[0m \u001b[0mrandom\u001b[0m\u001b[1;33m.\u001b[0m\u001b[0mrandint\u001b[0m\u001b[1;33m(\u001b[0m\u001b[1;36m0\u001b[0m\u001b[1;33m,\u001b[0m \u001b[1;36m10\u001b[0m\u001b[1;33m)\u001b[0m\u001b[1;33m)\u001b[0m\u001b[1;33m\u001b[0m\u001b[0m\n",
        "\u001b[1;31mKeyboardInterrupt\u001b[0m: "
       ]
      }
     ],
     "prompt_number": 9
    }
   ],
   "metadata": {}
  }
 ]
}