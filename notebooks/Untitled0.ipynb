{
 "metadata": {
  "name": "",
  "signature": "sha256:f76a4d00ce2c29d09bccba776175c08606421d2a1c8a726bed935f5130c2b59d"
 },
 "nbformat": 3,
 "nbformat_minor": 0,
 "worksheets": []
}