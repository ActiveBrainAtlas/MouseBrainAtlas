{
 "metadata": {
  "name": "",
  "signature": "sha256:0793c2a4ed565e05fa2e001e4d6e7439981cb25e7afe315470fa2c282299728e"
 },
 "nbformat": 3,
 "nbformat_minor": 0,
 "worksheets": [
  {
   "cells": [
    {
     "cell_type": "code",
     "collapsed": false,
     "input": [
      "import sys\n",
      "import os\n",
      "\n",
      "sys.path.append('../pipeline_scripts/preprocess/morphsnakes')\n",
      "import morphsnakes\n",
      "\n",
      "import numpy as np\n",
      "from skimage.io import imread, imsave\n",
      "from skimage.color import rgb2gray, rgb2hsv\n",
      "from skimage.filter.rank import noise_filter, median\n",
      "from skimage.morphology import disk, remove_small_objects\n",
      "from skimage.measure import regionprops, label\n",
      "\n",
      "from matplotlib import pyplot as plt\n",
      "from PIL import Image\n",
      "\n",
      "from collections import defaultdict\n",
      "import json\n"
     ],
     "language": "python",
     "metadata": {},
     "outputs": [],
     "prompt_number": 42
    },
    {
     "cell_type": "code",
     "collapsed": false,
     "input": [
      "def foreground_mask_morphsnakes_slide(img, num_iters=1000, num_section_per_slide=5):\n",
      "\n",
      "    gI = morphsnakes.gborders(img, alpha=20000, sigma=1)\n",
      "\n",
      "    msnake = morphsnakes.MorphGAC(gI, smoothing=2, threshold=0.3, balloon=-3)\n",
      "\n",
      "    msnake.levelset = np.ones_like(img)\n",
      "    msnake.levelset[:3,:] = 0\n",
      "    msnake.levelset[-3:,:] = 0\n",
      "    msnake.levelset[:,:3] = 0\n",
      "    msnake.levelset[:,-3:] = 0\n",
      "\n",
      "    for i in xrange(num_iters):\n",
      "        msnake.step()\n",
      "        if i > 0:\n",
      "            diff = np.count_nonzero(msnake.levelset - previous_levelset < 0)\n",
      "            if diff < 40 and i > 300: # oscillate\n",
      "                break\n",
      "\n",
      "        previous_levelset = msnake.levelset\n",
      "\n",
      "    blob_labels, n_labels = label(msnake.levelset, neighbors=4, return_num=True, background=0)\n",
      "\n",
      "    blob_props = regionprops(blob_labels + 1)\n",
      "    all_areas = np.array([p.area for p in blob_props])\n",
      "    all_centers = np.array([p.centroid for p in blob_props])\n",
      "    all_bboxes = np.array([p.bbox for p in blob_props])\n",
      "\n",
      "    indices = np.argsort(all_areas)[::-1]\n",
      "    largest_area = all_areas[indices[:2]].mean()\n",
      "\n",
      "    valid = np.where(all_areas > largest_area * .45)[0]\n",
      "\n",
      "    valid = valid[np.argsort(all_centers[valid, 1])]\n",
      "    centers_x = all_centers[valid, 1]\n",
      "    centers_y = all_centers[valid, 0]\n",
      "\n",
      "    height, width = img.shape[:2]\n",
      "\n",
      "    attention = False\n",
      "\n",
      "    if len(valid) > num_section_per_slide:\n",
      "        attention = True\n",
      "        clusters = []\n",
      "\n",
      "        indices_close = np.where(np.diff(centers_x) < width * .1)[0]\n",
      "\n",
      "        print indices_close\n",
      "\n",
      "        if len(indices_close) > 0:\n",
      "            ups = []\n",
      "            downs = []\n",
      "\n",
      "            for i in range(len(valid)):\n",
      "                if i-1 in indices_close:\n",
      "                    continue\n",
      "                elif i in indices_close:\n",
      "                    if centers_y[i] > height * .5:\n",
      "                        ups.append(valid[i+1])\n",
      "                        downs.append(valid[i])\n",
      "                    else:\n",
      "                        ups.append(valid[i])\n",
      "                        downs.append(valid[i+1])\n",
      "                else:\n",
      "                    if centers_y[i] > height * .5:\n",
      "                        ups.append(-1)\n",
      "                        downs.append(valid[i])\n",
      "                    else:\n",
      "                        ups.append(valid[i])\n",
      "                        downs.append(-1)\n",
      "\n",
      "        arrangement = np.r_[ups, downs]\n",
      "\n",
      "    elif len(valid) < num_section_per_slide:\n",
      "        attention = True\n",
      "\n",
      "        snap_to_columns = (np.round((centers_x / width + 0.1) * num_section_per_slide) - 1).astype(np.int)\n",
      "\n",
      "        arrangement = -1 * np.ones((num_section_per_slide,), dtype=np.int)\n",
      "        arrangement[snap_to_columns] = valid\n",
      "    else:\n",
      "        arrangement = valid\n",
      "\n",
      "    bboxes = []\n",
      "    masks = []\n",
      "\n",
      "    for i, j in enumerate(arrangement):\n",
      "        if j == -1: continue\n",
      "\n",
      "        minr, minc, maxr, maxc = all_bboxes[j]\n",
      "        bboxes.append(all_bboxes[j])\n",
      "\n",
      "        mask = np.zeros_like(img, dtype=np.bool)\n",
      "        mask[blob_labels == j] = 1\n",
      "\n",
      "        section_mask = mask[minr:maxr+1, minc:maxc+1]\n",
      "\n",
      "        masks.append(section_mask)\n",
      "\n",
      "    return masks, bboxes, arrangement > -1"
     ],
     "language": "python",
     "metadata": {},
     "outputs": []
    },
    {
     "cell_type": "code",
     "collapsed": false,
     "input": [
      "def gen_mask(slide_ind, use_hsv=True, out_dir=None, mirror=None, rotate=None):\n",
      "\n",
      "#     print 'slide', slide_ind\n",
      "\n",
      "    imgcolor = Image.open(\"/home/yuncong/project/DavidData2015slides/CC35/x0.3125/CC35_%02d_x0.3125_z0.tif\" % slide_ind)\n",
      "    imgcolor = imgcolor.convert('RGB')\n",
      "    imgcolor = np.array(imgcolor)\n",
      "    img_gray = rgb2gray(imgcolor)\n",
      "    slide_height, slide_width = img_gray.shape[:2]\n",
      "\n",
      "    if use_hsv:\n",
      "        imghsv = rgb2hsv(imgcolor)\n",
      "        img = imghsv[...,1]\n",
      "    else:\n",
      "        img = img_gray\n",
      "\n",
      "    section_masks, bboxes = foreground_mask_morphsnakes_slide(img, num_iters=300)\n",
      "\n",
      "    image_dir = os.path.join(os.environ['GORDON_DATA_DIR'], 'CC35test')\n",
      "    if not os.path.exists(image_dir):\n",
      "        os.makedirs(image_dir)\n",
      "        \n",
      "#     section_images = []\n",
      "    for i, ((minr, minc, maxr, maxc), mask) in enumerate(zip(bboxes, section_masks)):\n",
      "        img = imgcolor[minr:maxr+1, minc:maxc+1].copy()\n",
      "        img[~mask] = 0\n",
      "#         section_images.append(img)\n",
      "        \n",
      "#         image_filepath = os.path.join(image_dir, '%s_x0.3125_%02d_%d.tif'%(stack, slide_ind, i))\n",
      "#         imsave(image_filepath, img)\n",
      "\n",
      "        plt.imshow(img)\n",
      "        plt.axis('off')\n",
      "        plt.show()\n",
      "        \n",
      "    return section_masks, bboxes"
     ],
     "language": "python",
     "metadata": {},
     "outputs": [],
     "prompt_number": 41
    },
    {
     "cell_type": "code",
     "collapsed": false,
     "input": [
      "gen_mask(53)"
     ],
     "language": "python",
     "metadata": {},
     "outputs": [
      {
       "output_type": "stream",
       "stream": "stdout",
       "text": [
        "0\n",
        "1"
       ]
      },
      {
       "output_type": "stream",
       "stream": "stdout",
       "text": [
        "\n",
        "2"
       ]
      },
      {
       "output_type": "stream",
       "stream": "stdout",
       "text": [
        "\n",
        "3"
       ]
      },
      {
       "output_type": "stream",
       "stream": "stdout",
       "text": [
        "\n",
        "4"
       ]
      },
      {
       "output_type": "stream",
       "stream": "stdout",
       "text": [
        "\n",
        "5"
       ]
      },
      {
       "output_type": "stream",
       "stream": "stdout",
       "text": [
        "\n",
        "6"
       ]
      },
      {
       "output_type": "stream",
       "stream": "stdout",
       "text": [
        "\n",
        "7"
       ]
      },
      {
       "output_type": "stream",
       "stream": "stdout",
       "text": [
        "\n",
        "8"
       ]
      },
      {
       "output_type": "stream",
       "stream": "stdout",
       "text": [
        "\n",
        "9"
       ]
      },
      {
       "output_type": "stream",
       "stream": "stdout",
       "text": [
        "\n",
        "10"
       ]
      },
      {
       "output_type": "stream",
       "stream": "stdout",
       "text": [
        "\n",
        "11"
       ]
      },
      {
       "output_type": "stream",
       "stream": "stdout",
       "text": [
        "\n"
       ]
      },
      {
       "ename": "KeyboardInterrupt",
       "evalue": "",
       "output_type": "pyerr",
       "traceback": [
        "\u001b[1;31m---------------------------------------------------------------------------\u001b[0m\n\u001b[1;31mKeyboardInterrupt\u001b[0m                         Traceback (most recent call last)",
        "\u001b[1;32m<ipython-input-43-81c6066a181f>\u001b[0m in \u001b[0;36m<module>\u001b[1;34m()\u001b[0m\n\u001b[1;32m----> 1\u001b[1;33m \u001b[0mgen_mask\u001b[0m\u001b[1;33m(\u001b[0m\u001b[1;36m53\u001b[0m\u001b[1;33m)\u001b[0m\u001b[1;33m\u001b[0m\u001b[0m\n\u001b[0m",
        "\u001b[1;32m<ipython-input-41-9a1ac933b8a8>\u001b[0m in \u001b[0;36mgen_mask\u001b[1;34m(slide_ind, use_hsv, out_dir, mirror, rotate)\u001b[0m\n\u001b[0;32m     15\u001b[0m         \u001b[0mimg\u001b[0m \u001b[1;33m=\u001b[0m \u001b[0mimg_gray\u001b[0m\u001b[1;33m\u001b[0m\u001b[0m\n\u001b[0;32m     16\u001b[0m \u001b[1;33m\u001b[0m\u001b[0m\n\u001b[1;32m---> 17\u001b[1;33m     \u001b[0msection_masks\u001b[0m\u001b[1;33m,\u001b[0m \u001b[0mbboxes\u001b[0m \u001b[1;33m=\u001b[0m \u001b[0mforeground_mask_morphsnakes_slide\u001b[0m\u001b[1;33m(\u001b[0m\u001b[0mimg\u001b[0m\u001b[1;33m,\u001b[0m \u001b[0mnum_iters\u001b[0m\u001b[1;33m=\u001b[0m\u001b[1;36m300\u001b[0m\u001b[1;33m)\u001b[0m\u001b[1;33m\u001b[0m\u001b[0m\n\u001b[0m\u001b[0;32m     18\u001b[0m \u001b[1;33m\u001b[0m\u001b[0m\n\u001b[0;32m     19\u001b[0m     \u001b[0mimage_dir\u001b[0m \u001b[1;33m=\u001b[0m \u001b[0mos\u001b[0m\u001b[1;33m.\u001b[0m\u001b[0mpath\u001b[0m\u001b[1;33m.\u001b[0m\u001b[0mjoin\u001b[0m\u001b[1;33m(\u001b[0m\u001b[0mos\u001b[0m\u001b[1;33m.\u001b[0m\u001b[0menviron\u001b[0m\u001b[1;33m[\u001b[0m\u001b[1;34m'GORDON_DATA_DIR'\u001b[0m\u001b[1;33m]\u001b[0m\u001b[1;33m,\u001b[0m \u001b[1;34m'CC35test'\u001b[0m\u001b[1;33m)\u001b[0m\u001b[1;33m\u001b[0m\u001b[0m\n",
        "\u001b[1;32m<ipython-input-42-3c282c893dbd>\u001b[0m in \u001b[0;36mforeground_mask_morphsnakes_slide\u001b[1;34m(img, num_iters)\u001b[0m\n\u001b[0;32m     46\u001b[0m \u001b[1;33m\u001b[0m\u001b[0m\n\u001b[0;32m     47\u001b[0m     \u001b[0mplt\u001b[0m\u001b[1;33m.\u001b[0m\u001b[0mfigure\u001b[0m\u001b[1;33m(\u001b[0m\u001b[1;33m)\u001b[0m\u001b[1;33m\u001b[0m\u001b[0m\n\u001b[1;32m---> 48\u001b[1;33m     \u001b[0mmorphsnakes\u001b[0m\u001b[1;33m.\u001b[0m\u001b[0mevolve_visual\u001b[0m\u001b[1;33m(\u001b[0m\u001b[0mmsnake\u001b[0m\u001b[1;33m,\u001b[0m \u001b[0mnum_iters\u001b[0m\u001b[1;33m=\u001b[0m\u001b[0mnum_iters\u001b[0m\u001b[1;33m,\u001b[0m \u001b[0mbackground\u001b[0m\u001b[1;33m=\u001b[0m\u001b[0mimg\u001b[0m\u001b[1;33m)\u001b[0m\u001b[1;33m\u001b[0m\u001b[0m\n\u001b[0m\u001b[0;32m     49\u001b[0m \u001b[1;33m\u001b[0m\u001b[0m\n\u001b[0;32m     50\u001b[0m     \u001b[0mblob_labels\u001b[0m\u001b[1;33m,\u001b[0m \u001b[0mn_labels\u001b[0m \u001b[1;33m=\u001b[0m \u001b[0mlabel\u001b[0m\u001b[1;33m(\u001b[0m\u001b[0mmsnake\u001b[0m\u001b[1;33m.\u001b[0m\u001b[0mlevelset\u001b[0m\u001b[1;33m,\u001b[0m \u001b[0mneighbors\u001b[0m\u001b[1;33m=\u001b[0m\u001b[1;36m4\u001b[0m\u001b[1;33m,\u001b[0m \u001b[0mreturn_num\u001b[0m\u001b[1;33m=\u001b[0m\u001b[0mTrue\u001b[0m\u001b[1;33m,\u001b[0m \u001b[0mbackground\u001b[0m\u001b[1;33m=\u001b[0m\u001b[1;36m0\u001b[0m\u001b[1;33m)\u001b[0m\u001b[1;33m\u001b[0m\u001b[0m\n",
        "\u001b[1;32m/oasis/projects/nsf/csd181/yuncong/Brain/pipeline_scripts/preprocess/morphsnakes/morphsnakes.pyc\u001b[0m in \u001b[0;36mevolve_visual\u001b[1;34m(msnake, levelset, num_iters, background)\u001b[0m\n\u001b[0;32m    332\u001b[0m         \u001b[1;32mprint\u001b[0m \u001b[0mi\u001b[0m\u001b[1;33m\u001b[0m\u001b[0m\n\u001b[0;32m    333\u001b[0m         \u001b[1;31m# Evolve.\u001b[0m\u001b[1;33m\u001b[0m\u001b[1;33m\u001b[0m\u001b[0m\n\u001b[1;32m--> 334\u001b[1;33m         \u001b[0mmsnake\u001b[0m\u001b[1;33m.\u001b[0m\u001b[0mstep\u001b[0m\u001b[1;33m(\u001b[0m\u001b[1;33m)\u001b[0m\u001b[1;33m\u001b[0m\u001b[0m\n\u001b[0m\u001b[0;32m    335\u001b[0m \u001b[1;33m\u001b[0m\u001b[0m\n\u001b[0;32m    336\u001b[0m         \u001b[1;31m# Update figure.\u001b[0m\u001b[1;33m\u001b[0m\u001b[1;33m\u001b[0m\u001b[0m\n",
        "\u001b[1;32m/oasis/projects/nsf/csd181/yuncong/Brain/pipeline_scripts/preprocess/morphsnakes/morphsnakes.pyc\u001b[0m in \u001b[0;36mstep\u001b[1;34m(self)\u001b[0m\n\u001b[0;32m    282\u001b[0m         \u001b[1;31m# Smoothing.\u001b[0m\u001b[1;33m\u001b[0m\u001b[1;33m\u001b[0m\u001b[0m\n\u001b[0;32m    283\u001b[0m         \u001b[1;32mfor\u001b[0m \u001b[0mi\u001b[0m \u001b[1;32min\u001b[0m \u001b[0mxrange\u001b[0m\u001b[1;33m(\u001b[0m\u001b[0mself\u001b[0m\u001b[1;33m.\u001b[0m\u001b[0msmoothing\u001b[0m\u001b[1;33m)\u001b[0m\u001b[1;33m:\u001b[0m\u001b[1;33m\u001b[0m\u001b[0m\n\u001b[1;32m--> 284\u001b[1;33m             \u001b[0mres\u001b[0m \u001b[1;33m=\u001b[0m \u001b[0mcurvop\u001b[0m\u001b[1;33m(\u001b[0m\u001b[0mres\u001b[0m\u001b[1;33m)\u001b[0m\u001b[1;33m\u001b[0m\u001b[0m\n\u001b[0m\u001b[0;32m    285\u001b[0m \u001b[1;33m\u001b[0m\u001b[0m\n\u001b[0;32m    286\u001b[0m         \u001b[0mself\u001b[0m\u001b[1;33m.\u001b[0m\u001b[0m_u\u001b[0m \u001b[1;33m=\u001b[0m \u001b[0mres\u001b[0m\u001b[1;33m\u001b[0m\u001b[0m\n",
        "\u001b[1;32m/oasis/projects/nsf/csd181/yuncong/Brain/pipeline_scripts/preprocess/morphsnakes/morphsnakes.pyc\u001b[0m in \u001b[0;36m__call__\u001b[1;34m(self, *args, **kwargs)\u001b[0m\n\u001b[0;32m     43\u001b[0m     \u001b[1;32mdef\u001b[0m \u001b[0m__call__\u001b[0m\u001b[1;33m(\u001b[0m\u001b[0mself\u001b[0m\u001b[1;33m,\u001b[0m \u001b[1;33m*\u001b[0m\u001b[0margs\u001b[0m\u001b[1;33m,\u001b[0m \u001b[1;33m**\u001b[0m\u001b[0mkwargs\u001b[0m\u001b[1;33m)\u001b[0m\u001b[1;33m:\u001b[0m\u001b[1;33m\u001b[0m\u001b[0m\n\u001b[0;32m     44\u001b[0m         \u001b[0mf\u001b[0m \u001b[1;33m=\u001b[0m \u001b[0mself\u001b[0m\u001b[1;33m.\u001b[0m\u001b[0mfuncs\u001b[0m\u001b[1;33m.\u001b[0m\u001b[0mnext\u001b[0m\u001b[1;33m(\u001b[0m\u001b[1;33m)\u001b[0m\u001b[1;33m\u001b[0m\u001b[0m\n\u001b[1;32m---> 45\u001b[1;33m         \u001b[1;32mreturn\u001b[0m \u001b[0mf\u001b[0m\u001b[1;33m(\u001b[0m\u001b[1;33m*\u001b[0m\u001b[0margs\u001b[0m\u001b[1;33m,\u001b[0m \u001b[1;33m**\u001b[0m\u001b[0mkwargs\u001b[0m\u001b[1;33m)\u001b[0m\u001b[1;33m\u001b[0m\u001b[0m\n\u001b[0m\u001b[0;32m     46\u001b[0m \u001b[1;33m\u001b[0m\u001b[0m\n\u001b[0;32m     47\u001b[0m \u001b[1;33m\u001b[0m\u001b[0m\n",
        "\u001b[1;32m/oasis/projects/nsf/csd181/yuncong/Brain/pipeline_scripts/preprocess/morphsnakes/morphsnakes.pyc\u001b[0m in \u001b[0;36m<lambda>\u001b[1;34m(u)\u001b[0m\n\u001b[0;32m     99\u001b[0m \u001b[1;31m# SIoIS operator.\u001b[0m\u001b[1;33m\u001b[0m\u001b[1;33m\u001b[0m\u001b[0m\n\u001b[0;32m    100\u001b[0m \u001b[0mSIoIS\u001b[0m \u001b[1;33m=\u001b[0m \u001b[1;32mlambda\u001b[0m \u001b[0mu\u001b[0m\u001b[1;33m:\u001b[0m \u001b[0mSI\u001b[0m\u001b[1;33m(\u001b[0m\u001b[0mIS\u001b[0m\u001b[1;33m(\u001b[0m\u001b[0mu\u001b[0m\u001b[1;33m)\u001b[0m\u001b[1;33m)\u001b[0m\u001b[1;33m\u001b[0m\u001b[0m\n\u001b[1;32m--> 101\u001b[1;33m \u001b[0mISoSI\u001b[0m \u001b[1;33m=\u001b[0m \u001b[1;32mlambda\u001b[0m \u001b[0mu\u001b[0m\u001b[1;33m:\u001b[0m \u001b[0mIS\u001b[0m\u001b[1;33m(\u001b[0m\u001b[0mSI\u001b[0m\u001b[1;33m(\u001b[0m\u001b[0mu\u001b[0m\u001b[1;33m)\u001b[0m\u001b[1;33m)\u001b[0m\u001b[1;33m\u001b[0m\u001b[0m\n\u001b[0m\u001b[0;32m    102\u001b[0m \u001b[0mcurvop\u001b[0m \u001b[1;33m=\u001b[0m \u001b[0mfcycle\u001b[0m\u001b[1;33m(\u001b[0m\u001b[1;33m[\u001b[0m\u001b[0mSIoIS\u001b[0m\u001b[1;33m,\u001b[0m \u001b[0mISoSI\u001b[0m\u001b[1;33m]\u001b[0m\u001b[1;33m)\u001b[0m\u001b[1;33m\u001b[0m\u001b[0m\n\u001b[0;32m    103\u001b[0m \u001b[1;33m\u001b[0m\u001b[0m\n",
        "\u001b[1;32m/oasis/projects/nsf/csd181/yuncong/Brain/pipeline_scripts/preprocess/morphsnakes/morphsnakes.pyc\u001b[0m in \u001b[0;36mIS\u001b[1;34m(u)\u001b[0m\n\u001b[0;32m     93\u001b[0m \u001b[1;33m\u001b[0m\u001b[0m\n\u001b[0;32m     94\u001b[0m     \u001b[1;32mfor\u001b[0m \u001b[0mi\u001b[0m \u001b[1;32min\u001b[0m \u001b[0mxrange\u001b[0m\u001b[1;33m(\u001b[0m\u001b[0mlen\u001b[0m\u001b[1;33m(\u001b[0m\u001b[0mP\u001b[0m\u001b[1;33m)\u001b[0m\u001b[1;33m)\u001b[0m\u001b[1;33m:\u001b[0m\u001b[1;33m\u001b[0m\u001b[0m\n\u001b[1;32m---> 95\u001b[1;33m         \u001b[0m_aux\u001b[0m\u001b[1;33m[\u001b[0m\u001b[0mi\u001b[0m\u001b[1;33m]\u001b[0m \u001b[1;33m=\u001b[0m \u001b[0mbinary_dilation\u001b[0m\u001b[1;33m(\u001b[0m\u001b[0mu\u001b[0m\u001b[1;33m,\u001b[0m \u001b[0mP\u001b[0m\u001b[1;33m[\u001b[0m\u001b[0mi\u001b[0m\u001b[1;33m]\u001b[0m\u001b[1;33m)\u001b[0m\u001b[1;33m\u001b[0m\u001b[0m\n\u001b[0m\u001b[0;32m     96\u001b[0m \u001b[1;33m\u001b[0m\u001b[0m\n\u001b[0;32m     97\u001b[0m     \u001b[1;32mreturn\u001b[0m \u001b[0m_aux\u001b[0m\u001b[1;33m.\u001b[0m\u001b[0mmin\u001b[0m\u001b[1;33m(\u001b[0m\u001b[1;36m0\u001b[0m\u001b[1;33m)\u001b[0m\u001b[1;33m\u001b[0m\u001b[0m\n",
        "\u001b[1;32m/oasis/projects/nsf/csd181/yuncong/virtualenv-1.9.1/yuncongve/lib/python2.7/site-packages/scipy/ndimage/morphology.pyc\u001b[0m in \u001b[0;36mbinary_dilation\u001b[1;34m(input, structure, iterations, mask, output, border_value, origin, brute_force)\u001b[0m\n\u001b[0;32m    496\u001b[0m \u001b[1;33m\u001b[0m\u001b[0m\n\u001b[0;32m    497\u001b[0m     return _binary_erosion(input, structure, iterations, mask,\n\u001b[1;32m--> 498\u001b[1;33m                            output, border_value, origin, 1, brute_force)\n\u001b[0m\u001b[0;32m    499\u001b[0m \u001b[1;33m\u001b[0m\u001b[0m\n\u001b[0;32m    500\u001b[0m \u001b[1;33m\u001b[0m\u001b[0m\n",
        "\u001b[1;32m/oasis/projects/nsf/csd181/yuncong/virtualenv-1.9.1/yuncongve/lib/python2.7/site-packages/scipy/ndimage/morphology.pyc\u001b[0m in \u001b[0;36m_binary_erosion\u001b[1;34m(input, structure, iterations, mask, output, border_value, origin, invert, brute_force)\u001b[0m\n\u001b[0;32m    244\u001b[0m     \u001b[1;32mif\u001b[0m \u001b[0miterations\u001b[0m \u001b[1;33m==\u001b[0m \u001b[1;36m1\u001b[0m\u001b[1;33m:\u001b[0m\u001b[1;33m\u001b[0m\u001b[0m\n\u001b[0;32m    245\u001b[0m         _nd_image.binary_erosion(input, structure, mask, output,\n\u001b[1;32m--> 246\u001b[1;33m                                      border_value, origin, invert, cit, 0)\n\u001b[0m\u001b[0;32m    247\u001b[0m         \u001b[1;32mreturn\u001b[0m \u001b[0mreturn_value\u001b[0m\u001b[1;33m\u001b[0m\u001b[0m\n\u001b[0;32m    248\u001b[0m     \u001b[1;32melif\u001b[0m \u001b[0mcit\u001b[0m \u001b[1;32mand\u001b[0m \u001b[1;32mnot\u001b[0m \u001b[0mbrute_force\u001b[0m\u001b[1;33m:\u001b[0m\u001b[1;33m\u001b[0m\u001b[0m\n",
        "\u001b[1;31mKeyboardInterrupt\u001b[0m: "
       ]
      },
      {
       "metadata": {},
       "output_type": "display_data",
       "png": "[encoded data removed]",
       "text": [
        "<matplotlib.figure.Figure at 0x66935d0>"
       ]
      }
     ],
     "prompt_number": 43
    },
    {
     "cell_type": "code",
     "collapsed": false,
     "input": [
      "stack = 'CC35'\n",
      "# bboxes_json = defaultdict(list)\n",
      "\n",
      "options = [{'use_hsv':True} for _ in range(4, 55)] # set to True for Nissl stains, False for Fluorescent stains\n",
      "\n",
      "from joblib import Parallel, delayed\n",
      "\n",
      "filtered = Parallel(n_jobs=16)(delayed(gen_mask)(i, **kwargs) \n",
      "                               for (i, kwargs) in zip(range(4, 55), options))\n",
      "\n",
      "# for slide_ind in range(4, 55):\n",
      "# slide_ind = 23\n"
     ],
     "language": "python",
     "metadata": {},
     "outputs": [],
     "prompt_number": 31
    }
   ],
   "metadata": {}
  }
 ]
}