{
 "cells": [
  {
   "cell_type": "code",
   "execution_count": 3,
   "metadata": {
    "collapsed": true
   },
   "outputs": [],
   "source": [
    "%reload_ext autoreload\n",
    "%autoreload 2"
   ]
  },
  {
   "cell_type": "code",
   "execution_count": 4,
   "metadata": {
    "collapsed": false
   },
   "outputs": [],
   "source": [
    "import numpy as np\n",
    "from joblib import Parallel, delayed\n",
    "from itertools import product\n",
    "import os\n",
    "\n",
    "import sys\n",
    "sys.path.append(os.environ['GORDON_REPO_DIR'] + '/pipeline_scripts')\n",
    "from utilities2014 import *\n",
    "\n",
    "import matplotlib.pyplot as plt\n",
    "%matplotlib inline\n",
    "\n",
    "from tables import *"
   ]
  },
  {
   "cell_type": "code",
   "execution_count": 5,
   "metadata": {
    "collapsed": false
   },
   "outputs": [
    {
     "name": "stderr",
     "output_type": "stream",
     "text": [
      "/oasis/projects/nsf/csd181/yuncong/virtualenv-1.9.1/yuncongve/lib/python2.7/site-packages/skimage/filter/__init__.py:6: skimage_deprecation: The `skimage.filter` module has been renamed to `skimage.filters`.  This placeholder module will be removed in v0.13.\n",
      "  warn(skimage_deprecation('The `skimage.filter` module has been renamed '\n"
     ]
    }
   ],
   "source": [
    "dm = DataManager(generate_hierarchy=False, stack='MD589', section=132)\n",
    "dm._load_image()"
   ]
  },
  {
   "cell_type": "code",
   "execution_count": 6,
   "metadata": {
    "collapsed": true
   },
   "outputs": [],
   "source": [
    "textonmap = dm.load_pipeline_result('texMap', 'npy')\n",
    "textonmap_viz = dm.load_pipeline_result('texMap', 'png')\n",
    "n_texton = len(np.unique(textonmap)) - 1\n",
    "\n",
    "mys, mxs = np.where(dm.mask)\n",
    "mys = mys.astype(np.int16)\n",
    "mxs = mxs.astype(np.int16)"
   ]
  },
  {
   "cell_type": "code",
   "execution_count": 7,
   "metadata": {
    "collapsed": true
   },
   "outputs": [],
   "source": [
    "n_theta = 12\n",
    "theta_binwidth = 2*np.pi/n_theta"
   ]
  },
  {
   "cell_type": "code",
   "execution_count": 12,
   "metadata": {
    "collapsed": false
   },
   "outputs": [
    {
     "data": {
      "text/html": [
       "<a href='tmp.jpg' target='_blank'>tmp.jpg</a><br>"
      ],
      "text/plain": [
       "/oasis/projects/nsf/csd395/yuncong/Brain/notebooks/tmp.jpg"
      ]
     },
     "execution_count": 12,
     "metadata": {},
     "output_type": "execute_result"
    }
   ],
   "source": [
    "Gmax_viz = plt.cm.jet(Gmax/np.nanmax(Gmax));\n",
    "display(Gmax_viz)"
   ]
  },
  {
   "cell_type": "code",
   "execution_count": null,
   "metadata": {
    "collapsed": false
   },
   "outputs": [],
   "source": [
    "theta_ind = 0"
   ]
  },
  {
   "cell_type": "code",
   "execution_count": null,
   "metadata": {
    "collapsed": false
   },
   "outputs": [],
   "source": [
    "dy, dx = np.gradient(Gmax)\n",
    "\n",
    "grad_norm = np.sqrt(dx**2+dy**2)\n",
    "grad_unit_vec_y = np.nan_to_num(dy/grad_norm)\n",
    "grad_unit_vec_x = np.nan_to_num(-dx/grad_norm)\n",
    "\n",
    "gy = grad_unit_vec_y[mys, mxs]\n",
    "gx = grad_unit_vec_x[mys, mxs]\n",
    "\n",
    "a = np.arange(-20, 20)\n",
    "\n",
    "neighborhood_y = np.outer(gy, a)\n",
    "neighborhood_x = np.outer(gx, a)\n",
    "\n",
    "global_neighborhood_y = (mys[:,None] + neighborhood_y).astype(np.int)\n",
    "global_neighborhood_x = (mxs[:,None] + neighborhood_x).astype(np.int)\n",
    "\n",
    "b = time.time()\n",
    "global_neighborhood_y[global_neighborhood_y < 0] = 0\n",
    "global_neighborhood_y[global_neighborhood_y >= height] = height-1\n",
    "global_neighborhood_x[global_neighborhood_x < 0] = 0\n",
    "global_neighborhood_x[global_neighborhood_x >= width] = width-1\n",
    "print time.time()-b\n",
    "\n",
    "# 60s, slower than above\n",
    "# b = time.time()\n",
    "# global_neighborhood_y = np.minimum(np.maximum(global_neighborhood_y.astype(np.int), 0), height)\n",
    "# global_neighborhood_x = np.minimum(np.maximum(global_neighborhood_x.astype(np.int), 0), width)\n",
    "# print time.time()-b\n",
    "\n",
    "global_neighborhood_values = Gmax[global_neighborhood_y, global_neighborhood_x]\n",
    "global_neighborhood_maximum = global_neighborhood_values.max(axis=1)\n",
    "\n",
    "values = Gmax[mys, mxs]\n",
    "\n",
    "is_local_maximum = global_neighborhood_maximum == values\n",
    "\n",
    "mys_local_max = mys[is_local_maximum]\n",
    "mxs_local_max = mxs[is_local_maximum]\n",
    "\n",
    "G_nonmaxsup = np.zeros_like(Gmax)\n",
    "G_nonmaxsup[mys_local_max, mxs_local_max] = Gmax[mys_local_max, mxs_local_max]\n",
    "G_nonmaxsup[(grad_unit_vec_y==0)&(grad_unit_vec_x==0)] = 0"
   ]
  },
  {
   "cell_type": "code",
   "execution_count": null,
   "metadata": {
    "collapsed": false
   },
   "outputs": [],
   "source": [
    "np.save('/home/yuncong/csd395/G_nonmaxsup.npy', G_nonmaxsup)"
   ]
  },
  {
   "cell_type": "code",
   "execution_count": null,
   "metadata": {
    "collapsed": false
   },
   "outputs": [],
   "source": [
    "# plt.matshow(G_nonmaxsup);\n",
    "\n",
    "# viz = plt.cm.jet(Gmax/Gmax.max())\n",
    "# display(viz)\n",
    "\n",
    "viz = plt.cm.jet(G_nonmaxsup/G_nonmaxsup.max());\n",
    "display(viz)"
   ]
  },
  {
   "cell_type": "code",
   "execution_count": null,
   "metadata": {
    "collapsed": true
   },
   "outputs": [],
   "source": [
    "G_nonmaxsup = np.load('/home/yuncong/csd395/G_nonmaxsup.npy')"
   ]
  },
  {
   "cell_type": "markdown",
   "metadata": {},
   "source": [
    "Compute intervening contour cue"
   ]
  },
  {
   "cell_type": "code",
   "execution_count": 27,
   "metadata": {
    "collapsed": true
   },
   "outputs": [],
   "source": [
    "r = 5\n",
    "rho = .5"
   ]
  },
  {
   "cell_type": "code",
   "execution_count": 28,
   "metadata": {
    "collapsed": false
   },
   "outputs": [],
   "source": [
    "conns_ij_y = []\n",
    "conns_ij_x = []\n",
    "circle_j = []\n",
    "for y, x in product(range(-r, r+1), range(-r, r+1)):\n",
    "    d = np.sqrt(y**2+x**2)\n",
    "    if d < r and not (y==0 and x==0):\n",
    "        pts_conn_ij_y = np.linspace(0,y,d).astype(np.int)\n",
    "        pts_conn_ij_x = np.linspace(0,x,d).astype(np.int)\n",
    "        circle_j.append((y,x))\n",
    "        conns_ij_y.append(pts_conn_ij_y)\n",
    "        conns_ij_x.append(pts_conn_ij_x)\n",
    "\n",
    "circle_j = np.asarray(circle_j)"
   ]
  },
  {
   "cell_type": "code",
   "execution_count": null,
   "metadata": {
    "collapsed": false,
    "scrolled": true
   },
   "outputs": [],
   "source": [
    "import compute_pie\n",
    "\n",
    "b = time.time()\n",
    "\n",
    "A = Parallel(n_jobs=16)(delayed(compute_pie.compute_connection_weight)(G_nonmaxsup, conns_ij_y, conns_ij_x,\n",
    "                                                                       mys[s], mxs[s], height, width)\n",
    "                        for s in np.array_split(range(len(mys)), 16))\n",
    "\n",
    "print time.time()-b\n",
    "\n",
    "A = np.vstack(A)\n",
    "W = np.exp(-A/rho)"
   ]
  },
  {
   "cell_type": "markdown",
   "metadata": {},
   "source": [
    "Alternative: use iPython Parallel"
   ]
  },
  {
   "cell_type": "code",
   "execution_count": null,
   "metadata": {
    "collapsed": true
   },
   "outputs": [],
   "source": [
    "from IPython.parallel import Client\n",
    "cli = Client(profile='parallel')\n",
    "dview = cli[:]"
   ]
  },
  {
   "cell_type": "code",
   "execution_count": null,
   "metadata": {
    "collapsed": false
   },
   "outputs": [],
   "source": [
    "dview.execute(\"import sys; sys.path.append('/home/yuncong/csd395/Brain/notebooks')\")\n",
    "dview.execute('import compute_pie')\n",
    "\n",
    "mydict=dict(G_nonmaxsup=G_nonmaxsup, conns_ij_y=conns_ij_y,\n",
    "             conns_ij_x=conns_ij_x, height=height, width=width)\n",
    "dview.push(mydict)\n",
    "\n",
    "bar = lambda a,b: compute_pie.compute_connection_weight(G_nonmaxsup=G_nonmaxsup, conns_ij_y=conns_ij_y,\n",
    "             conns_ij_x=conns_ij_x, height=height, width=width, mys=a, mxs=b)\n",
    "\n",
    "b = time.time()\n",
    "A = dview.map_sync(bar, np.array_split(mys, 192), np.array_split(mxs, 192))\n",
    "print time.time() - b\n",
    "\n",
    "A = np.vstack(A)\n",
    "W = np.exp(-A/rho)\n",
    "del A"
   ]
  },
  {
   "cell_type": "code",
   "execution_count": 24,
   "metadata": {
    "collapsed": false
   },
   "outputs": [],
   "source": [
    "with open_file('/home/yuncong/csd395/A.hdf', mode=\"r\") as f:\n",
    "    A = f.get_node('/data').read()"
   ]
  },
  {
   "cell_type": "code",
   "execution_count": 29,
   "metadata": {
    "collapsed": false
   },
   "outputs": [],
   "source": [
    "pis = np.c_[mys, mxs]\n",
    "pjs = pis[:,None] + circle_j\n",
    "lookup = dict([(tuple(pi), i) for i, pi in enumerate(pis)])\n",
    "nz_is, nz_offsets = np.where(A)\n",
    "print len(nz_is)\n",
    "\n",
    "def lookup_point_indices(pts):\n",
    "    return [lookup[tuple(p)] for p in pts]\n",
    "\n",
    "b = time.time()\n",
    "\n",
    "Q = Parallel(n_jobs=16)(delayed(lookup_point_indices)(pts) for pts in np.array_split(pjs[nz_is, nz_offsets], 16))\n",
    "\n",
    "from itertools import chain\n",
    "js = np.fromiter(list(chain(*Q)), dtype=np.int)\n",
    "\n",
    "print time.time() - b"
   ]
  },
  {
   "cell_type": "code",
   "execution_count": 34,
   "metadata": {
    "collapsed": true
   },
   "outputs": [],
   "source": [
    "from scipy.sparse import coo_matrix, csr_matrix, dia_matrix, diags"
   ]
  },
  {
   "cell_type": "code",
   "execution_count": 65,
   "metadata": {
    "collapsed": true
   },
   "outputs": [],
   "source": [
    "W = np.exp(-A/rho) # breaks sparsity"
   ]
  },
  {
   "cell_type": "code",
   "execution_count": 88,
   "metadata": {
    "collapsed": true
   },
   "outputs": [],
   "source": [
    "n = len(mys)\n",
    "M = coo_matrix((A[nz_is, nz_offsets], (nz_is, js)), shape=(n,n))\n",
    "m = M.tocsr()"
   ]
  },
  {
   "cell_type": "code",
   "execution_count": 144,
   "metadata": {
    "collapsed": false
   },
   "outputs": [],
   "source": [
    "partial_m = m[:20000,:20000].todense()\n",
    "W = np.exp(-partial_m/rho)\n",
    "D = np.diag(W.sum(axis=1).A1)"
   ]
  },
  {
   "cell_type": "code",
   "execution_count": 124,
   "metadata": {
    "collapsed": false,
    "scrolled": true
   },
   "outputs": [],
   "source": [
    "D = diags([W.sum(axis=1).A1], [0])\n",
    "d = D.tocsr()"
   ]
  },
  {
   "cell_type": "code",
   "execution_count": 5,
   "metadata": {
    "collapsed": true
   },
   "outputs": [],
   "source": [
    "def save_sparse_csr(filename,array):\n",
    "    np.savez(filename,data = array.data ,indices=array.indices,\n",
    "             indptr =array.indptr, shape=array.shape )\n",
    "\n",
    "def load_sparse_csr(filename):\n",
    "    loader = np.load(filename)\n",
    "    return csr_matrix((  loader['data'], loader['indices'], loader['indptr']),\n",
    "                         shape = loader['shape'])"
   ]
  },
  {
   "cell_type": "code",
   "execution_count": 6,
   "metadata": {
    "collapsed": false
   },
   "outputs": [],
   "source": [
    "L = load_sparse_csr(\"/home/yuncong/csd395/L.npz\")\n",
    "d = load_sparse_csr(\"/home/yuncong/csd395/d.npz\")"
   ]
  },
  {
   "cell_type": "code",
   "execution_count": 39,
   "metadata": {
    "collapsed": true
   },
   "outputs": [],
   "source": [
    "import scipy.sparse.linalg"
   ]
  },
  {
   "cell_type": "code",
   "execution_count": 145,
   "metadata": {
    "collapsed": false
   },
   "outputs": [],
   "source": [
    "vals, vecs = scipy.sparse.linalg.eigsh(D-W, k=4, M=D)"
   ]
  },
  {
   "cell_type": "code",
   "execution_count": 147,
   "metadata": {
    "collapsed": true
   },
   "outputs": [],
   "source": [
    "I = np.zeros(image.shape[:2])\n",
    "I[mys[:20000], mxs[:20000]] = vecs[:,0]\n",
    "plt.matshow(I)"
   ]
  },
  {
   "cell_type": "code",
   "execution_count": null,
   "metadata": {
    "collapsed": true
   },
   "outputs": [],
   "source": []
  },
  {
   "cell_type": "code",
   "execution_count": null,
   "metadata": {
    "collapsed": false
   },
   "outputs": [],
   "source": [
    "#     dy, dx = np.gradient(G[theta_ind])\n",
    "#     dt = dx*np.cos(diff_orientation) + dy*np.sin(diff_orientation)\n",
    "\n",
    "Gmax_viz = plt.cm.jet(G[theta_ind]/np.nanmax(G[theta_ind]));\n",
    "display(Gmax_viz)"
   ]
  },
  {
   "cell_type": "code",
   "execution_count": null,
   "metadata": {
    "collapsed": false
   },
   "outputs": [],
   "source": [
    "display(image)"
   ]
  },
  {
   "cell_type": "code",
   "execution_count": null,
   "metadata": {
    "collapsed": false
   },
   "outputs": [],
   "source": [
    "display(textonmap_viz)"
   ]
  },
  {
   "cell_type": "code",
   "execution_count": null,
   "metadata": {
    "collapsed": false
   },
   "outputs": [],
   "source": [
    "from scipy.ndimage.filters import gaussian_filter\n",
    "\n",
    "g = np.empty_like(G)\n",
    "eps = .001\n",
    "sigma = 10\n",
    "\n",
    "for theta_ind in range(n_theta/2):\n",
    "    print theta_ind\n",
    "    \n",
    "#     diff_orientation = thetas[theta_ind] + np.pi/2\n",
    "\n",
    "#     dy, dx = np.gradient(G[theta_ind])\n",
    "#     dt = dx*np.cos(diff_orientation) + dy*np.sin(diff_orientation)\n",
    "    \n",
    "#     dt_dy, dt_dx = np.gradient(dt)\n",
    "#     dt_dt = dt_dx*np.cos(diff_orientation) + dt_dy*np.sin(diff_orientation)\n",
    "\n",
    "#     d_to_peak = -(np.abs(dt)+eps)/dt_dt\n",
    "#     g = G[theta_ind]/(d_to_peak)\n",
    "    \n",
    "    dt = gaussian_filter(G[theta_ind], sigma, order=1)\n",
    "    dt_dt = gaussian_filter(G[theta_ind], sigma, order=2)\n",
    "    g[theta_ind] = G[theta_ind]*(-dt_dt/(np.abs(dt)+eps))"
   ]
  },
  {
   "cell_type": "code",
   "execution_count": null,
   "metadata": {
    "collapsed": false,
    "scrolled": false
   },
   "outputs": [],
   "source": [
    "vmax = np.nanmax(G)\n",
    "thetas = np.linspace(0, np.pi, n_theta/2+1)\n",
    "\n",
    "n_cols = 2\n",
    "n_rows = n_theta/2/n_cols\n",
    "fig, axes = plt.subplots(n_rows, n_cols, figsize=(20,20));\n",
    "for s in range(n_theta/2):\n",
    "    ax = axes[s/n_cols, s%n_cols]\n",
    "    ax.matshow(G[s], vmin=0, vmax=vmax);\n",
    "    ax.set_title('theta = %.2f'%np.rad2deg(thetas[s]))\n",
    "    ax.set_axis_off();"
   ]
  },
  {
   "cell_type": "code",
   "execution_count": null,
   "metadata": {
    "collapsed": true
   },
   "outputs": [],
   "source": []
  }
 ],
 "metadata": {
  "kernelspec": {
   "display_name": "Python 2",
   "language": "python",
   "name": "python2"
  },
  "language_info": {
   "codemirror_mode": {
    "name": "ipython",
    "version": 2
   },
   "file_extension": ".py",
   "mimetype": "text/x-python",
   "name": "python",
   "nbconvert_exporter": "python",
   "pygments_lexer": "ipython2",
   "version": "2.7.3"
  }
 },
 "nbformat": 4,
 "nbformat_minor": 0
}
