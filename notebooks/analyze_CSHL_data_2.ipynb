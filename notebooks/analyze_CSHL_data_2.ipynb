{
 "cells": [
  {
   "cell_type": "code",
   "execution_count": 9,
   "metadata": {
    "collapsed": true
   },
   "outputs": [],
   "source": [
    "%reload_ext autoreload\n",
    "%autoreload 2\n",
    "\n",
    "import numpy as np\n",
    "\n",
    "from joblib import Parallel, delayed\n",
    "\n",
    "from scipy.cluster.hierarchy import fclusterdata\n",
    "\n",
    "import matplotlib.pyplot as plt\n",
    "import matplotlib\n",
    "%matplotlib inline\n",
    "\n",
    "from utilities2015 import *\n",
    "\n",
    "import os, sys\n",
    "import time"
   ]
  },
  {
   "cell_type": "code",
   "execution_count": 10,
   "metadata": {
    "collapsed": true
   },
   "outputs": [],
   "source": [
    "stack = 'MD593'\n",
    "secind = 100"
   ]
  },
  {
   "cell_type": "code",
   "execution_count": 11,
   "metadata": {
    "collapsed": false
   },
   "outputs": [],
   "source": [
    "os.environ['GORDON_DATA_DIR'] = '/oasis/projects/nsf/csd395/yuncong/CSHL_data_processed'\n",
    "os.environ['GORDON_REPO_DIR'] = '/oasis/projects/nsf/csd395/yuncong/Brain'\n",
    "os.environ['GORDON_RESULT_DIR'] = '/oasis/projects/nsf/csd395/yuncong/CSHL_data_results'\n",
    "\n",
    "dm = DataManager(data_dir=os.environ['GORDON_DATA_DIR'],\n",
    "                 repo_dir=os.environ['GORDON_REPO_DIR'],\n",
    "                 result_dir=os.environ['GORDON_RESULT_DIR'],\n",
    "                 stack=stack, section=secind)"
   ]
  },
  {
   "cell_type": "code",
   "execution_count": 18,
   "metadata": {
    "collapsed": false
   },
   "outputs": [
    {
     "name": "stdout",
     "output_type": "stream",
     "text": [
      "loading features data ... done in 101.735247135 seconds\n"
     ]
    }
   ],
   "source": [
    "t = time.time()\n",
    "print 'loading features data ...',\n",
    "\n",
    "# features_rotated = dm.load_pipeline_result('featuresRotated', 'npy')\n",
    "features_rotated = dm.load_pipeline_result('featuresRotated', 'hdf')\n",
    "\n",
    "print 'done in', time.time() - t, 'seconds'"
   ]
  },
  {
   "cell_type": "code",
   "execution_count": 16,
   "metadata": {
    "collapsed": true
   },
   "outputs": [],
   "source": [
    "del features_rotated"
   ]
  },
  {
   "cell_type": "code",
   "execution_count": null,
   "metadata": {
    "collapsed": true
   },
   "outputs": [],
   "source": [
    "t = time.time()\n",
    "print 'quantize feature vectors ...',\n",
    "\n",
    "n_texton = 100\n",
    "    \n",
    "from sklearn.cluster import MiniBatchKMeans\n",
    "kmeans = MiniBatchKMeans(n_clusters=n_texton, batch_size=1000)\n",
    "kmeans.fit(features_rotated[::10])\n",
    "centroids = kmeans.cluster_centers_\n",
    "\n",
    "cluster_assignments = fclusterdata(centroids, 1.15, method=\"complete\", criterion=\"inconsistent\")\n",
    "# cluster_assignments = fclusterdata(centroids, 80., method=\"complete\", criterion=\"distance\"\n",
    "# cluster_assignments = fclusterdata(centroids, 1.1, method=\"complete\", criterion=\"inconsistent\")\n",
    "\n",
    "centroids = np.array([centroids[cluster_assignments == i].mean(axis=0) for i in set(cluster_assignments)])\n",
    "\n",
    "n_texton = len(centroids)\n",
    "print n_texton, 'reduced textons'\n",
    "\n",
    "print 'done in', time.time() - t, 'seconds'\n",
    "\n",
    "del kmeans\n",
    "\n",
    "dm.save_pipeline_result(centroids, 'textons', 'npy')"
   ]
  },
  {
   "cell_type": "code",
   "execution_count": null,
   "metadata": {
    "collapsed": true
   },
   "outputs": [],
   "source": [
    "for c in centroids:\n",
    "    plt.bar(range(dm.n_kernel), c)\n",
    "    plt.show()"
   ]
  }
 ],
 "metadata": {
  "kernelspec": {
   "display_name": "Python 2",
   "language": "python",
   "name": "python2"
  },
  "language_info": {
   "codemirror_mode": {
    "name": "ipython",
    "version": 2
   },
   "file_extension": ".py",
   "mimetype": "text/x-python",
   "name": "python",
   "nbconvert_exporter": "python",
   "pygments_lexer": "ipython2",
   "version": "2.7.3"
  }
 },
 "nbformat": 4,
 "nbformat_minor": 0
}
