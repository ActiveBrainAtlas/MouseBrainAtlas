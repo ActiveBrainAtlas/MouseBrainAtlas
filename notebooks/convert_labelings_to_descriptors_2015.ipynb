{
 "cells": [
  {
   "cell_type": "code",
   "execution_count": 1,
   "metadata": {
    "collapsed": false
   },
   "outputs": [],
   "source": [
    "%load_ext autoreload\n",
    "%autoreload 2\n",
    "\n",
    "import os\n",
    "import time\n",
    "import sys\n",
    "import itertools\n",
    "\n",
    "from utilities2015 import *\n",
    "\n",
    "from joblib import Parallel, delayed\n",
    "\n",
    "from collections import defaultdict, Counter\n",
    "from itertools import combinations, chain, product\n",
    "\n",
    "import matplotlib.pyplot as plt\n",
    "%matplotlib inline"
   ]
  },
  {
   "cell_type": "code",
   "execution_count": 2,
   "metadata": {
    "collapsed": true
   },
   "outputs": [],
   "source": [
    "from enum import Enum\n",
    "\n",
    "class PolygonType(Enum):\n",
    "    CLOSED = 'closed'\n",
    "    OPEN = 'open'\n",
    "    TEXTURE = 'textured'\n",
    "    TEXTURE_WITH_CONTOUR = 'texture with contour'\n",
    "    DIRECTION = 'directionality'"
   ]
  },
  {
   "cell_type": "code",
   "execution_count": 7,
   "metadata": {
    "collapsed": false
   },
   "outputs": [],
   "source": [
    "section_id = 100\n",
    "\n",
    "dm = DataManager(stack='MD593', section=section_id,\n",
    "                 labeling_dir='/home/yuncong/CSHL_data_labelings')\n",
    "\n",
    "# dm._load_image()\n",
    "\n",
    "texton_hists = dm.load_pipeline_result('texHist')\n",
    "segmentation = dm.load_pipeline_result('segmentation')\n",
    "n_superpixels = segmentation.max() + 1\n",
    "textonmap = dm.load_pipeline_result('texMap')\n",
    "n_texton = textonmap.max() + 1\n",
    "neighbors = dm.load_pipeline_result('neighbors')\n",
    "\n",
    "# neighbors_global = neighbors\n",
    "\n",
    "# texture_map = texton_hists[segmentation]\n",
    "# texture_map[~dm.mask] = np.nan * np.ones((n_texton,))\n",
    "# dm.save_pipeline_result(texture_map, 'textureMap', 'npy')\n",
    "\n",
    "# texture_map = dm.load_pipeline_result('textureMap', 'npy')\n",
    "\n",
    "# coherence_map = dm.load_pipeline_result('coherenceMap', 'npy')\n",
    "# eigenvec_map = dm.load_pipeline_result('eigenvecMap', 'npy')\n",
    "\n",
    "# origPosCanvas = dm.load_pipeline_result('originPosOnCanvas', 'npy')"
   ]
  },
  {
   "cell_type": "code",
   "execution_count": 8,
   "metadata": {
    "collapsed": false
   },
   "outputs": [],
   "source": [
    "labeling_name = 'MD593_0100_yuncong_09202015173615'\n",
    "labeling = dm.load_labeling(labeling_name='_'.join(labeling_name.split('_')[-2:]))"
   ]
  },
  {
   "cell_type": "code",
   "execution_count": 9,
   "metadata": {
    "collapsed": false
   },
   "outputs": [],
   "source": [
    "thetas = np.linspace(-np.pi/8, np.pi/8, 3)\n",
    "n_theta = len(thetas)\n",
    "Rs = [np.array([[np.cos(theta), np.sin(theta)], [-np.sin(theta), np.cos(theta)]]) for theta in thetas]\n",
    "\n",
    "scales = np.linspace(.8, 1.2, 3)\n",
    "n_scales = len(scales)"
   ]
  },
  {
   "cell_type": "code",
   "execution_count": 10,
   "metadata": {
    "collapsed": false
   },
   "outputs": [],
   "source": [
    "def find_in_polygon_coords(vertices):\n",
    "\n",
    "    from matplotlib.path import Path\n",
    "\n",
    "    xmin, ymin = vertices.min(axis=0)\n",
    "    xmax, ymax = vertices.max(axis=0)\n",
    "    \n",
    "    X, Y = np.meshgrid(range(xmin, xmax+1), range(ymin, ymax+1))\n",
    "    all_coords = np.c_[X.flat, Y.flat]\n",
    "    \n",
    "    mpath = Path(vertices) # the vertices of the polygon\n",
    "    mask_flat = mpath.contains_points(all_coords)\n",
    "    return all_coords[mask_flat]\n",
    "\n",
    "def compute_landmark_descriptors2(group):\n",
    "    polygon_type, vertices_global = group[0]\n",
    "    vertices_global = vertices_global.astype(np.int)\n",
    "\n",
    "    if polygon_type != PolygonType.TEXTURE_WITH_CONTOUR and polygon_type != PolygonType.TEXTURE:\n",
    "        return {}\n",
    "    \n",
    "#     xmin, ymin = vertices_global.min(axis=0).astype(np.int)\n",
    "#     xmax, ymax = vertices_global.max(axis=0).astype(np.int)\n",
    "    \n",
    "    coords = find_in_polygon_coords(vertices_global)\n",
    "    c = coords.mean(axis=0)\n",
    "\n",
    "    coords0 = coords - c\n",
    "    U,S,V = np.linalg.svd(np.dot(coords0.T, coords0)/coords0.shape[0])\n",
    "    v1 = U[:,0]\n",
    "    v2 = U[:,1]\n",
    "    s1 = np.sqrt(S[0])\n",
    "    s2 = np.sqrt(S[1])\n",
    "    \n",
    "#     ellipse_angle = np.rad2deg(np.arctan2(v1[1], v1[0]))\n",
    "\n",
    "    hist = np.bincount([l for l in textonmap[coords[:,1], coords[:,0]] if l != -1], minlength=n_texton)\n",
    "    hist = hist/float(hist.sum())\n",
    "\n",
    "    descriptor_variations = []\n",
    "    \n",
    "    for theta_i in range(n_theta):\n",
    "\n",
    "        v1t = np.dot(Rs[theta_i], v1)\n",
    "        v2t = np.dot(Rs[theta_i], v2)\n",
    "\n",
    "        for scale_i in range(n_scales):\n",
    "#             print theta_i, scale_i\n",
    "            \n",
    "#             t = time.time()\n",
    "            vertices_global_deformed = (np.dot(vertices_global - c, Rs[theta_i].T) * scales[scale_i] \n",
    "                                       + c).astype(np.int)        \n",
    "            \n",
    "            coords = find_in_polygon_coords(vertices_global_deformed).astype(np.int16)\n",
    "            coords0 = (coords - c).astype(np.int16)\n",
    "            \n",
    "            s1t = scales[scale_i] * s1\n",
    "            s2t = scales[scale_i] * s2\n",
    "            \n",
    "#             U,S,V = np.linalg.svd(np.dot(coords0.T, coords0)/coords0.shape[0])\n",
    "#             v1 = U[:,0]\n",
    "#             v2 = U[:,1]\n",
    "#             s1 = np.sqrt(S[0])\n",
    "#             s2 = np.sqrt(S[1])\n",
    "            \n",
    "            ellipse_angle = np.rad2deg(np.arctan2(v1t[1], v1t[0]))\n",
    "        \n",
    "            xmin, ymin = vertices_global_deformed.min(axis=0).astype(np.int)\n",
    "            xmax, ymax = vertices_global_deformed.max(axis=0).astype(np.int)\n",
    "            width = xmax - xmin + 1\n",
    "            height = ymax - ymin + 1\n",
    "\n",
    "            mask = np.zeros((height, width), np.bool)\n",
    "            coords1 = coords - (xmin, ymin)\n",
    "            mask[coords1[:,1], coords1[:,0]] = True\n",
    "            \n",
    "            descriptor = \\\n",
    "            {'centroid_global': c,\n",
    "             'mask': mask,\n",
    "#              'coords_local': coords0,\n",
    "#              'coords_global': coords,\n",
    "             'vertices_global': vertices_global,\n",
    "             'v1': v1t,\n",
    "             'v2': v2t,\n",
    "             's1': s1t,\n",
    "             's2': s2t,\n",
    "             'hist': hist,\n",
    "            'xmin': xmin,\n",
    "            'ymin': ymin,\n",
    "            'xmax': xmax,\n",
    "            'ymax': ymax,\n",
    "             'height':height,\n",
    "             'width': width,\n",
    "             'ellipse_angle': ellipse_angle,\n",
    "             'mask_xmin': xmin - c[0].astype(np.int),\n",
    "             'mask_ymin': ymin - c[1].astype(np.int),\n",
    "             'mask_xmax': xmax - c[0].astype(np.int),\n",
    "             'mask_ymax': ymax - c[1].astype(np.int),\n",
    "             'centroid_local': c - (xmin, ymin)\n",
    "            }\n",
    "\n",
    "            descriptor_variations.append(descriptor)\n",
    "            \n",
    "#             print time.time()-t\n",
    "            \n",
    "    return descriptor_variations    "
   ]
  },
  {
   "cell_type": "code",
   "execution_count": 11,
   "metadata": {
    "collapsed": false,
    "scrolled": true
   },
   "outputs": [],
   "source": [
    "d = compute_landmark_descriptors2(labeling['final_polygons'][3])"
   ]
  },
  {
   "cell_type": "code",
   "execution_count": 12,
   "metadata": {
    "collapsed": false,
    "scrolled": false
   },
   "outputs": [
    {
     "name": "stderr",
     "output_type": "stream",
     "text": [
      "/oasis/projects/nsf/csd181/yuncong/virtualenv-1.9.1/yuncongve/lib/python2.7/site-packages/matplotlib/figure.py:387: UserWarning: matplotlib is currently using a non-GUI backend, so cannot show the figure\n",
      "  \"matplotlib is currently using a non-GUI backend, \"\n"
     ]
    },
    {
     "data": {
      "image/png": "[encoded data removed]",
      "text/plain": [
       "<matplotlib.figure.Figure at 0x578a610>"
      ]
     },
     "metadata": {},
     "output_type": "display_data"
    }
   ],
   "source": [
    "# from matplotlib.patches import Ellipse\n",
    "\n",
    "fig, axes = plt.subplots(n_theta, n_scales, figsize=(20,20), sharex='all', sharey='all')\n",
    "\n",
    "for angle_i, scale_i in itertools.product(range(n_theta), range(n_scales)):\n",
    "# for angle_i, scale_i in itertools.product(range(1), range(1)):\n",
    "\n",
    "    dd = d[n_scales * angle_i + scale_i]\n",
    "    \n",
    "#     mask = np.zeros((dd['height'], dd['width']), np.bool)\n",
    "#     coords = dd['coords_global'] - (dd['xmin'], dd['ymin'])\n",
    "#     mask[coords[:,1], coords[:,0]] = True\n",
    "#     axes[angle_i, scale_i].matshow(mask, cmap=plt.cm.gray)\n",
    "\n",
    "#     el = Ellipse(dd['centroid_global'], 2*dd['s1']*1.5, 2*dd['s2']*1.5, dd['ellipse_angle'], fill=False)\n",
    "#     axes[angle_i, scale_i].add_patch(el)\n",
    "#     axes[angle_i, scale_i].set_xlim(dd['xmin'], dd['xmax'])\n",
    "#     axes[angle_i, scale_i].set_ylim(dd['ymin'], dd['ymax'])    \n",
    "#     axes[angle_i, scale_i].set(aspect='equal')\n",
    "#     axes[angle_i, scale_i].invert_yaxis()\n",
    "\n",
    "    axes[angle_i, scale_i].matshow(dd['mask'], cmap=plt.cm.gray);\n",
    "\n",
    "fig.show()"
   ]
  },
  {
   "cell_type": "code",
   "execution_count": 20,
   "metadata": {
    "collapsed": false,
    "scrolled": true
   },
   "outputs": [
    {
     "data": {
      "text/plain": [
       "8527"
      ]
     },
     "execution_count": 20,
     "metadata": {},
     "output_type": "execute_result"
    }
   ],
   "source": [
    "d[4]['xmin']"
   ]
  },
  {
   "cell_type": "code",
   "execution_count": 18,
   "metadata": {
    "collapsed": false
   },
   "outputs": [
    {
     "name": "stdout",
     "output_type": "stream",
     "text": [
      "[ 0.0439815   0.05535352  0.03582803  0.00434519  0.04065732  0.12972202\n",
      "  0.06677689  0.29048385  0.0729602   0.05146456  0.03889695  0.02379733\n",
      "  0.04489689  0.10083574]\n"
     ]
    },
    {
     "data": {
      "image/png": "[encoded data removed]",
      "text/plain": [
       "<matplotlib.figure.Figure at 0x6a87c90>"
      ]
     },
     "metadata": {},
     "output_type": "display_data"
    }
   ],
   "source": [
    "print d[0]['hist']\n",
    "plt.bar(range(n_texton), d[0]['hist']);"
   ]
  },
  {
   "cell_type": "code",
   "execution_count": 22,
   "metadata": {
    "collapsed": false,
    "scrolled": true
   },
   "outputs": [
    {
     "name": "stdout",
     "output_type": "stream",
     "text": [
      "0\n",
      "1\n",
      "2\n",
      "3\n",
      "4\n",
      "5\n"
     ]
    }
   ],
   "source": [
    "descriptor = {}\n",
    "for label, group in labeling['final_polygons'].iteritems():\n",
    "    print label\n",
    "    descriptor = compute_landmark_descriptors2(group)\n",
    "    with open('/home/yuncong/csd395/CSHL_data_landmarks/%s_landmark_%d.pkl'%(labeling_name, label), 'w') as f:\n",
    "        pickle.dump(descriptor, f)"
   ]
  }
 ],
 "metadata": {
  "kernelspec": {
   "display_name": "Python 2",
   "language": "python",
   "name": "python2"
  },
  "language_info": {
   "codemirror_mode": {
    "name": "ipython",
    "version": 2
   },
   "file_extension": ".py",
   "mimetype": "text/x-python",
   "name": "python",
   "nbconvert_exporter": "python",
   "pygments_lexer": "ipython2",
   "version": "2.7.3"
  }
 },
 "nbformat": 4,
 "nbformat_minor": 0
}
