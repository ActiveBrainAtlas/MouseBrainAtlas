{
 "metadata": {
  "name": "",
  "signature": "sha256:6af6c60a0e4e0be097ec65f52ba343b57f35cb2d08a823130a4a2ffbbc6b5531"
 },
 "nbformat": 3,
 "nbformat_minor": 0,
 "worksheets": [
  {
   "cells": [
    {
     "cell_type": "code",
     "collapsed": false,
     "input": [
      "# Over-segment the image into superpixels using SLIC (http://ivrg.epfl.ch/research/superpixels)\n",
      "\n",
      "from skimage.segmentation import slic, mark_boundaries\n",
      "from skimage.util import img_as_ubyte\n",
      "\n",
      "img_rgb = gray2rgb(dm.image)\n",
      "\n",
      "try:\n",
      "    segmentation = dm.load_pipeline_result('segmentation', 'npy')\n",
      "    \n",
      "except Exception as e:\n",
      "    segmentation = slic(img_rgb, n_segments=int(dm.segm_params['n_superpixels']), \n",
      "                        max_iter=10, \n",
      "                        compactness=float(dm.segm_params['slic_compactness']), \n",
      "                        sigma=float(dm.segm_params['slic_sigma']), \n",
      "                        enforce_connectivity=True)\n",
      "    print 'segmentation computed'\n",
      "    \n",
      "    dm.save_pipeline_result(segmentation.astype(np.int16), 'segmentation', 'npy')\n"
     ],
     "language": "python",
     "metadata": {},
     "outputs": []
    },
    {
     "cell_type": "code",
     "collapsed": false,
     "input": [
      "from skimage.segmentation import relabel_sequential\n",
      "\n",
      "try:\n",
      "    cropped_segmentation_relabeled = dm.load_pipeline_result('cropSegmentation', 'npy')\n",
      "except:\n",
      "    # segmentation starts from 0\n",
      "    cropped_segmentation = crop_borders(segmentation)\n",
      "    n_superpixels = len(np.unique(cropped_segmentation))\n",
      "    cropped_segmentation[~cropped_mask] = -1\n",
      "    cropped_segmentation_relabeled, fw, inv = relabel_sequential(cropped_segmentation + 1)\n",
      "\n",
      "    # make background label -1\n",
      "    cropped_segmentation_relabeled -= 1\n",
      "    dm.save_pipeline_result(cropped_segmentation_relabeled, 'cropSegmentation', 'npy')"
     ],
     "language": "python",
     "metadata": {},
     "outputs": []
    },
    {
     "cell_type": "code",
     "collapsed": false,
     "input": [
      "sp_props = regionprops(cropped_segmentation_relabeled + 1, intensity_image=cropped_img, cache=True)\n",
      "\n",
      "def obtain_props_worker(i):\n",
      "    return sp_props[i].centroid, sp_props[i].area, sp_props[i].mean_intensity, sp_props[i].bbox\n",
      "\n",
      "r = Parallel(n_jobs=16)(delayed(obtain_props_worker)(i) for i in range(len(sp_props)))\n",
      "sp_centroids = np.array([s[0] for s in r])\n",
      "sp_areas = np.array([s[1] for s in r])\n",
      "sp_mean_intensity = np.array([s[2] for s in r])\n",
      "sp_bbox = np.array([s[3] for s in r])\n",
      "\n",
      "sp_properties = np.column_stack([sp_centroids, sp_areas, sp_mean_intensity, sp_bbox])\n",
      "\n",
      "dm.save_pipeline_result(sp_properties, 'cropSpProps', 'npy')\n",
      "\n",
      "n_superpixels = len(np.unique(cropped_segmentation_relabeled))\n",
      "\n",
      "img_superpixelized = mark_boundaries(gray2rgb(cropped_img), cropped_segmentation_relabeled)\n",
      "img_superpixelized_text = img_as_ubyte(img_superpixelized)\n",
      "\n",
      "# background label (-1) is not displayed\n",
      "for s in range(n_superpixels - 1):\n",
      "    img_superpixelized_text = cv2.putText(img_superpixelized_text, str(s), \n",
      "                      tuple(np.floor(sp_centroids[s][::-1]).astype(np.int)), \n",
      "                      cv2.FONT_HERSHEY_COMPLEX_SMALL,\n",
      "                      .5, ((255,0,255)), 1)\n",
      "\n",
      "dm.save_pipeline_result(img_superpixelized_text, 'cropSegmentation', 'tif')"
     ],
     "language": "python",
     "metadata": {},
     "outputs": []
    },
    {
     "cell_type": "code",
     "collapsed": false,
     "input": [
      "# Compute neighbor lists and connectivity matrix\n",
      "\n",
      "from skimage.morphology import disk\n",
      "from skimage.filter.rank import gradient\n",
      "# from scipy.sparse import coo_matrix\n",
      "\n",
      "try:\n",
      "    neighbors = dm.load_pipeline_result('neighbors', 'npy')\n",
      "\n",
      "except:\n",
      "\n",
      "    edge_map = gradient(cropped_segmentation_relabeled.astype(np.uint8), disk(3))\n",
      "    neighbors = [set() for i in range(n_superpixels)]\n",
      "\n",
      "    for y,x in zip(*np.nonzero(edge_map)):\n",
      "        neighbors[cropped_segmentation_relabeled[y,x]] |= set(cropped_segmentation_relabeled[y-2:y+2,x-2:x+2].ravel())\n",
      "\n",
      "    for i in range(n_superpixels):\n",
      "        neighbors[i] -= set([i])\n",
      "\n",
      "    dm.save_pipeline_result(neighbors, 'neighbors', 'npy')\n"
     ],
     "language": "python",
     "metadata": {},
     "outputs": []
    }
   ],
   "metadata": {}
  }
 ]
}