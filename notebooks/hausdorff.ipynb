{
 "cells": [
  {
   "cell_type": "code",
   "execution_count": null,
   "metadata": {
    "collapsed": true
   },
   "outputs": [],
   "source": [
    "def centering(ps):\n",
    "    return ps - ps.mean(axis=0)\n",
    "\n",
    "def hausdorff(ps1, ps2, center=False):\n",
    "    if center:\n",
    "        ps1 = centering(ps1)\n",
    "        ps2 = centering(ps2)\n",
    "    D = cdist(ps1, ps2)\n",
    "    return max(np.max(D.min(axis=0)), np.max(D.min(axis=1)))\n",
    "\n",
    "def hausdorff_histograms(h1s, h2s, metric):\n",
    "    Ds = cdist(h1s, h2s, metric)\n",
    "    return max(np.nanmax(np.nanmin(Ds, axis=1)), np.nanmax(np.nanmin(Ds, axis=0)))\n"
   ]
  }
 ],
 "metadata": {
  "kernelspec": {
   "display_name": "Python 2",
   "language": "python",
   "name": "python2"
  }
 },
 "nbformat": 4,
 "nbformat_minor": 0
}
