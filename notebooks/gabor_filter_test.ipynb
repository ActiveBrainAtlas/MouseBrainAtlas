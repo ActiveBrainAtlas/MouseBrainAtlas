{
 "metadata": {
  "name": "",
  "signature": "sha256:93f6967bef02e39a0744926c0e5fabc017c1c4cbb4d39d4b05a3cdb9a7afb339"
 },
 "nbformat": 3,
 "nbformat_minor": 0,
 "worksheets": [
  {
   "cells": [
    {
     "cell_type": "code",
     "collapsed": false,
     "input": [
      "%load_ext autoreload\n",
      "%autoreload 2\n",
      "\n",
      "from preamble import *"
     ],
     "language": "python",
     "metadata": {},
     "outputs": [
      {
       "output_type": "stream",
       "stream": "stdout",
       "text": [
        "num. of kernels: 99\n",
        "frequencies: [ 0.2         0.13333333  0.08888889  0.05925926  0.03950617  0.02633745\n",
        "  0.0175583   0.01170553  0.00780369]\n",
        "wavelength (pixels): [   5.            7.5          11.25         16.875        25.3125\n",
        "   37.96875      56.953125     85.4296875   128.14453125]\n",
        "max kernel matrix size: 243\n"
       ]
      }
     ],
     "prompt_number": 1
    },
    {
     "cell_type": "code",
     "collapsed": false,
     "input": [
      "features = dm.load_pipeline_result('features', 'npy')\n",
      "features_rotated = dm.load_pipeline_result('features_rotated', 'npy')"
     ],
     "language": "python",
     "metadata": {},
     "outputs": [
      {
       "output_type": "stream",
       "stream": "stdout",
       "text": [
        "/home/yuncong/DavidData/RS141/x5/0001/pipelineResults/RS141_x5_0001_gabor-blueNisslWide_features.npy\n",
        "loaded /home/yuncong/DavidData/RS141/x5/0001/pipelineResults/RS141_x5_0001_gabor-blueNisslWide_features.npy"
       ]
      },
      {
       "output_type": "stream",
       "stream": "stdout",
       "text": [
        "\n",
        "/home/yuncong/DavidData/RS141/x5/0001/pipelineResults/RS141_x5_0001_gabor-blueNisslWide_features_rotated.npy\n",
        "loaded /home/yuncong/DavidData/RS141/x5/0001/pipelineResults/RS141_x5_0001_gabor-blueNisslWide_features_rotated.npy"
       ]
      },
      {
       "output_type": "stream",
       "stream": "stdout",
       "text": [
        "\n"
       ]
      }
     ],
     "prompt_number": 2
    },
    {
     "cell_type": "code",
     "collapsed": false,
     "input": [
      "f1 = features[:,817,4480]\n",
      "f2 = features[:,835,4502]\n",
      "f3 = features[:,847,4522]\n",
      "f4 = features[:,1130,3741]\n",
      "\n",
      "patch_min = min(f1.min(), f2.min(), f3.min(), f4.min())\n",
      "patch_max = max(f1.max(), f2.max(), f3.max(), f4.max())\n",
      "\n",
      "plt.matshow(f1.reshape(dm.n_freq, dm.n_angle), vmin=patch_min, vmax=patch_max)\n",
      "plt.show()\n",
      "plt.matshow(f2.reshape(dm.n_freq, dm.n_angle), vmin=patch_min, vmax=patch_max)\n",
      "plt.show()\n",
      "plt.matshow(f3.reshape(dm.n_freq, dm.n_angle), vmin=patch_min, vmax=patch_max)\n",
      "plt.show()\n",
      "plt.matshow(f4.reshape(dm.n_freq, dm.n_angle), vmin=patch_min, vmax=patch_max)"
     ],
     "language": "python",
     "metadata": {},
     "outputs": [
      {
       "metadata": {},
       "output_type": "display_data",
       "png": "[encoded data removed]",
       "text": [
        "<matplotlib.figure.Figure at 0x5023b10>"
       ]
      },
      {
       "metadata": {},
       "output_type": "display_data",
       "png": "[encoded data removed]",
       "text": [
        "<matplotlib.figure.Figure at 0x4e771d0>"
       ]
      },
      {
       "metadata": {},
       "output_type": "display_data",
       "png": "[encoded data removed]",
       "text": [
        "<matplotlib.figure.Figure at 0x5a5d390>"
       ]
      },
      {
       "metadata": {},
       "output_type": "pyout",
       "prompt_number": 16,
       "text": [
        "<matplotlib.image.AxesImage at 0x5a383d0>"
       ]
      },
      {
       "metadata": {},
       "output_type": "display_data",
       "png": "[encoded data removed]",
       "text": [
        "<matplotlib.figure.Figure at 0x5cd0710>"
       ]
      }
     ],
     "prompt_number": 16
    }
   ],
   "metadata": {}
  }
 ]
}