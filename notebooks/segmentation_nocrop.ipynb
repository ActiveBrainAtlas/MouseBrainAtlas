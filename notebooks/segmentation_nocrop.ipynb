{
 "metadata": {
  "name": "",
  "signature": "sha256:67c647b000d61e2a3ae0f7666c33cc330da908889cd673f970686d5455b80e46"
 },
 "nbformat": 3,
 "nbformat_minor": 0,
 "worksheets": [
  {
   "cells": [
    {
     "cell_type": "code",
     "collapsed": false,
     "input": [
      "%load_ext autoreload\n",
      "%autoreload 2\n",
      "\n",
      "from preamble import *"
     ],
     "language": "python",
     "metadata": {},
     "outputs": [
      {
       "output_type": "stream",
       "stream": "stdout",
       "text": [
        "num. of kernels: 99\n",
        "frequencies: [ 0.2         0.13333333  0.08888889  0.05925926  0.03950617  0.02633745\n",
        "  0.0175583   0.01170553  0.00780369]\n",
        "wavelength (pixels): [   5.            7.5          11.25         16.875        25.3125\n",
        "   37.96875      56.953125     85.4296875   128.14453125]\n",
        "max kernel matrix size: 243\n",
        "The autoreload extension is already loaded. To reload it, use:\n",
        "  %reload_ext autoreload\n"
       ]
      }
     ],
     "prompt_number": 29
    },
    {
     "cell_type": "code",
     "collapsed": false,
     "input": [
      "# Over-segment the image into superpixels using SLIC (http://ivrg.epfl.ch/research/superpixels)\n",
      "\n",
      "from skimage.segmentation import slic, mark_boundaries\n",
      "from skimage.util import img_as_ubyte, pad\n",
      "\n",
      "masked_image = dm.image.copy()\n",
      "\n",
      "# approx_bg_intensity = dm.image[10:20, 10:20].mean()\n",
      "# masked_image[~dm.mask] = approx_bg_intensity\n",
      "\n",
      "masked_image[~dm.mask] = 0\n",
      "\n",
      "segmentation = slic(gray2rgb(masked_image), n_segments=int(dm.segm_params['n_superpixels']), \n",
      "                    max_iter=10, \n",
      "                    compactness=float(dm.segm_params['slic_compactness']), \n",
      "                    sigma=float(dm.segm_params['slic_sigma']), \n",
      "                    enforce_connectivity=True)"
     ],
     "language": "python",
     "metadata": {},
     "outputs": [],
     "prompt_number": 30
    },
    {
     "cell_type": "code",
     "collapsed": false,
     "input": [
      "# display(mark_boundaries(masked_image, segmentation))"
     ],
     "language": "python",
     "metadata": {},
     "outputs": [],
     "prompt_number": 31
    },
    {
     "cell_type": "code",
     "collapsed": false,
     "input": [
      "n = len(np.unique(segmentation))\n",
      "\n",
      "def f(i):\n",
      "    m = dm.mask[segmentation == i]\n",
      "    return np.count_nonzero(m)/float(len(m)) < .8\n",
      "        \n",
      "q = Parallel(n_jobs=16)(delayed(f)(i) for i in range(n))\n",
      "                        \n",
      "masked_segmentation = segmentation.copy()\n",
      "for i in np.where(q)[0]:\n",
      "    masked_segmentation[segmentation == i] = -1"
     ],
     "language": "python",
     "metadata": {},
     "outputs": [],
     "prompt_number": 32
    },
    {
     "cell_type": "code",
     "collapsed": false,
     "input": [
      "# display(mark_boundaries(masked_image, masked_segmentation))"
     ],
     "language": "python",
     "metadata": {},
     "outputs": [],
     "prompt_number": 33
    },
    {
     "cell_type": "code",
     "collapsed": false,
     "input": [
      "from skimage.segmentation import relabel_sequential\n",
      "\n",
      "# try:\n",
      "#     masked_segmentation_relabeled = dm.load_pipeline_result('segmentation', 'npy')\n",
      "\n",
      "# except:\n",
      "\n",
      "    # segmentation starts from 0\n",
      "masked_segmentation_relabeled, fw, inv = relabel_sequential(masked_segmentation + 1)\n",
      "\n",
      "# make background label -1\n",
      "masked_segmentation_relabeled -= 1\n"
     ],
     "language": "python",
     "metadata": {},
     "outputs": [],
     "prompt_number": 34
    },
    {
     "cell_type": "code",
     "collapsed": false,
     "input": [
      "dm.save_pipeline_result(masked_segmentation_relabeled, 'segmentation', 'npy')\n"
     ],
     "language": "python",
     "metadata": {},
     "outputs": [
      {
       "output_type": "stream",
       "stream": "stdout",
       "text": [
        "saved /home/yuncong/DavidData/RS141/x5/0005/pipelineResults/RS141_x5_0005_segm-blueNissl2_segmentation.npy\n"
       ]
      }
     ],
     "prompt_number": 35
    },
    {
     "cell_type": "code",
     "collapsed": false,
     "input": [
      "from joblib import Parallel, delayed\n",
      "\n",
      "sp_props = regionprops(masked_segmentation_relabeled + 1, intensity_image=dm.image, cache=True)\n",
      "\n",
      "def obtain_props_worker(i):\n",
      "    return sp_props[i].centroid, sp_props[i].area, sp_props[i].mean_intensity, sp_props[i].bbox\n",
      "\n",
      "r = Parallel(n_jobs=16)(delayed(obtain_props_worker)(i) for i in range(len(sp_props)))\n",
      "\n",
      "sp_centroids = np.array([s[0] for s in r])\n",
      "sp_areas = np.array([s[1] for s in r])\n",
      "sp_mean_intensity = np.array([s[2] for s in r])\n",
      "sp_bbox = np.array([s[3] for s in r])\n",
      "\n",
      "sp_properties = np.column_stack([sp_centroids, sp_areas, sp_mean_intensity, sp_bbox])\n",
      "\n",
      "dm.save_pipeline_result(sp_properties, 'spProps', 'npy')"
     ],
     "language": "python",
     "metadata": {},
     "outputs": [
      {
       "output_type": "stream",
       "stream": "stdout",
       "text": [
        "saved /home/yuncong/DavidData/RS141/x5/0005/pipelineResults/RS141_x5_0005_segm-blueNissl2_spProps.npy\n"
       ]
      }
     ],
     "prompt_number": 36
    },
    {
     "cell_type": "code",
     "collapsed": false,
     "input": [
      "n_superpixels = len(np.unique(masked_segmentation_relabeled)) - 1\n",
      "\n",
      "img_superpixelized = mark_boundaries(dm.image, masked_segmentation_relabeled)\n",
      "img_superpixelized_with_text = img_as_ubyte(img_superpixelized)\n",
      "\n",
      "for s in range(n_superpixels):\n",
      "    img_superpixelized_with_text = cv2.putText(img_superpixelized_with_text, str(s), \n",
      "                                               tuple(np.floor(sp_centroids[s][::-1]).astype(np.int) - np.array([10,-10])), \n",
      "                                               cv2.FONT_HERSHEY_DUPLEX,\n",
      "                                               .5, ((255,0,255)), 1)\n",
      "\n",
      "dm.save_pipeline_result(img_superpixelized_with_text, 'segmentationWithText', 'jpg')"
     ],
     "language": "python",
     "metadata": {},
     "outputs": [
      {
       "output_type": "stream",
       "stream": "stdout",
       "text": [
        "saved /home/yuncong/DavidData/RS141/x5/0005/pipelineResults/RS141_x5_0005_segm-blueNissl2_segmentationWithText.jpg\n"
       ]
      }
     ],
     "prompt_number": 37
    },
    {
     "cell_type": "code",
     "collapsed": false,
     "input": [
      "# display(img_superpixelized_with_text)"
     ],
     "language": "python",
     "metadata": {},
     "outputs": [],
     "prompt_number": 38
    },
    {
     "cell_type": "code",
     "collapsed": false,
     "input": [
      "# Compute neighbor lists and connectivity matrix\n",
      "\n",
      "from skimage.morphology import disk\n",
      "from skimage.filter.rank import gradient\n",
      "\n",
      "# try:\n",
      "#     neighbors = dm.load_pipeline_result('neighbors', 'npy')\n",
      "\n",
      "# except:\n",
      "\n",
      "edge_map = gradient(masked_segmentation_relabeled.astype(np.uint8), disk(3))\n",
      "neighbors = [set() for i in range(n_superpixels)]\n",
      "\n",
      "for y,x in zip(*np.nonzero(edge_map)):\n",
      "    if masked_segmentation_relabeled[y,x] != -1:\n",
      "        neighbors[masked_segmentation_relabeled[y,x]] |= set(masked_segmentation_relabeled[max(0, y-2):min(dm.image_height, y+2),\n",
      "                                                                                       max(0, x-2):min(dm.image_width, x+2)].ravel())\n",
      "        \n",
      "for i in range(n_superpixels):\n",
      "    neighbors[i] -= set([i])\n",
      "\n",
      "dm.save_pipeline_result(neighbors, 'neighbors', 'npy')\n"
     ],
     "language": "python",
     "metadata": {},
     "outputs": [
      {
       "output_type": "stream",
       "stream": "stdout",
       "text": [
        "saved /home/yuncong/DavidData/RS141/x5/0005/pipelineResults/RS141_x5_0005_segm-blueNissl2_neighbors.npy\n"
       ]
      }
     ],
     "prompt_number": 39
    },
    {
     "cell_type": "code",
     "collapsed": false,
     "input": [],
     "language": "python",
     "metadata": {},
     "outputs": [],
     "prompt_number": 39
    }
   ],
   "metadata": {}
  }
 ]
}