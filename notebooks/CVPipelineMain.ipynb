{
 "metadata": {
  "name": "",
  "signature": "sha256:3c9160f539eece738197f800f34281a6758546a01bd9860b611ae272e3431bcf"
 },
 "nbformat": 3,
 "nbformat_minor": 0,
 "worksheets": [
  {
   "cells": [
    {
     "cell_type": "code",
     "collapsed": false,
     "input": [
      "# %load_ext autoreload\n",
      "# %autoreload 2\n",
      "\n",
      "from IPython.display import Image, FileLink\n",
      "\n",
      "from CVPipeline_module import CrossValidationPipeline\n",
      "from kmeans_module import SaliencyDetector\n",
      "from utilities import *\n",
      "\n",
      "import cv2\n",
      "import matplotlib.pyplot as plt\n",
      "\n",
      "import random\n",
      "\n",
      "import warnings\n",
      "warnings.filterwarnings(\"ignore\", category=DeprecationWarning) "
     ],
     "language": "python",
     "metadata": {},
     "outputs": [],
     "prompt_number": 3
    },
    {
     "cell_type": "code",
     "collapsed": false,
     "input": [
      "CACHE_DIR = '/home/yuncong/scratch/'\n",
      "IMG_DIR = '/home/yuncong/ParthaData/PMD1305_reduce0_region0/'\n",
      "img_name_fmt = 'PMD1305_%d_reduce0_region0'\n",
      "img_id = 244\n",
      "img_name = img_name_fmt%img_id\n",
      "\n",
      "params = {\n",
      "# 'param_id': random.randint(0,9999),\n",
      "'param_id': 1635,\n",
      "'theta_interval': 10,\n",
      "'n_freq': 4,\n",
      "'max_freq': 0.2,\n",
      "'n_texton': 20,\n",
      "'cache_dir': CACHE_DIR,\n",
      "'img_dir': IMG_DIR\n",
      "}\n",
      "pipeline = CrossValidationPipeline(params=params)"
     ],
     "language": "python",
     "metadata": {},
     "outputs": [],
     "prompt_number": 6
    },
    {
     "cell_type": "code",
     "collapsed": false,
     "input": [
      "pipeline.filter_image(img_name, output_feature=False)"
     ],
     "language": "python",
     "metadata": {},
     "outputs": [
      {
       "output_type": "stream",
       "stream": "stdout",
       "text": [
        "==== filter_image ====\n",
        "num. of kernels: 72"
       ]
      },
      {
       "output_type": "stream",
       "stream": "stdout",
       "text": [
        "\n",
        "frequencies: [ 0.2    0.1    0.05   0.025]\n",
        "wavelength (pixels): [  5.  10.  20.  40.]\n",
        "max kernel matrix size: 137\n"
       ]
      }
     ]
    },
    {
     "cell_type": "code",
     "collapsed": false,
     "input": [
      "pipeline.generate_textonmap()"
     ],
     "language": "python",
     "metadata": {},
     "outputs": [
      {
       "output_type": "stream",
       "stream": "stdout",
       "text": [
        "==== generate_textonmap ====\n",
        "iteration 0\n"
       ]
      }
     ]
    }
   ],
   "metadata": {}
  }
 ]
}