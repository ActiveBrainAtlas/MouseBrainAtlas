{
 "metadata": {
  "name": "",
  "signature": "sha256:8fbce019c84fca4118e8610a58315742c37e5d75286da640c63beb15879b9a74"
 },
 "nbformat": 3,
 "nbformat_minor": 0,
 "worksheets": [
  {
   "cells": [
    {
     "cell_type": "code",
     "collapsed": false,
     "input": [
      "%reload_ext autoreload\n",
      "%autoreload 2\n",
      "\n",
      "from preamble import *"
     ],
     "language": "python",
     "metadata": {},
     "outputs": [
      {
       "output_type": "stream",
       "stream": "stdout",
       "text": [
        "num. of kernels: 99\n",
        "frequencies: [ 0.2         0.13333333  0.08888889  0.05925926  0.03950617  0.02633745\n",
        "  0.0175583   0.01170553  0.00780369]\n",
        "wavelength (pixels): [   5.            7.5          11.25         16.875        25.3125\n",
        "   37.96875      56.953125     85.4296875   128.14453125]\n",
        "max kernel matrix size: 243\n"
       ]
      }
     ],
     "prompt_number": 2
    },
    {
     "cell_type": "code",
     "collapsed": false,
     "input": [
      "texton_hists = dm.load_pipeline_result('texHist', 'npy')\n",
      "\n",
      "segmentation = dm.load_pipeline_result('segmentation', 'npy')\n",
      "n_superpixels = len(unique(segmentation)) - 1\n",
      "\n",
      "textonmap = dm.load_pipeline_result('texMap', 'npy')\n",
      "n_texton = len(np.unique(textonmap)) - 1\n",
      "\n",
      "neighbors = dm.load_pipeline_result('neighbors', 'npy')\n",
      "\n",
      "sp_properties = dm.load_pipeline_result('spProps', 'npy')\n",
      "\n",
      "segmentation_vis = dm.load_pipeline_result('segmentationWithText', 'jpg')"
     ],
     "language": "python",
     "metadata": {},
     "outputs": [
      {
       "output_type": "stream",
       "stream": "stdout",
       "text": [
        "/home/yuncong/project/DavidData2014results/RS141/0005/RS141_x5_0005_gabor-blueNisslWide-segm-blueNisslRegular-vq-blueNissl_texHist.npy\n",
        "loaded /home/yuncong/project/DavidData2014results/RS141/0005/RS141_x5_0005_gabor-blueNisslWide-segm-blueNisslRegular-vq-blueNissl_texHist.npy"
       ]
      },
      {
       "output_type": "stream",
       "stream": "stdout",
       "text": [
        "\n",
        "/home/yuncong/project/DavidData2014results/RS141/0005/RS141_x5_0005_segm-blueNisslRegular_segmentation.npy\n",
        "loaded /home/yuncong/project/DavidData2014results/RS141/0005/RS141_x5_0005_segm-blueNisslRegular_segmentation.npy"
       ]
      },
      {
       "output_type": "stream",
       "stream": "stdout",
       "text": [
        "\n",
        "/home/yuncong/project/DavidData2014results/RS141/0005/RS141_x5_0005_gabor-blueNisslWide-vq-blueNissl_texMap.npy"
       ]
      },
      {
       "output_type": "stream",
       "stream": "stdout",
       "text": [
        "\n",
        "loaded /home/yuncong/project/DavidData2014results/RS141/0005/RS141_x5_0005_gabor-blueNisslWide-vq-blueNissl_texMap.npy"
       ]
      },
      {
       "output_type": "stream",
       "stream": "stdout",
       "text": [
        "\n",
        "/home/yuncong/project/DavidData2014results/RS141/0005/RS141_x5_0005_segm-blueNisslRegular_neighbors.npy"
       ]
      },
      {
       "output_type": "stream",
       "stream": "stdout",
       "text": [
        "\n",
        "loaded /home/yuncong/project/DavidData2014results/RS141/0005/RS141_x5_0005_segm-blueNisslRegular_neighbors.npy"
       ]
      },
      {
       "output_type": "stream",
       "stream": "stdout",
       "text": [
        "\n",
        "/home/yuncong/project/DavidData2014results/RS141/0005/RS141_x5_0005_segm-blueNisslRegular_spProps.npy\n",
        "loaded /home/yuncong/project/DavidData2014results/RS141/0005/RS141_x5_0005_segm-blueNisslRegular_spProps.npy\n",
        "/home/yuncong/project/DavidData2014results/RS141/0005/RS141_x5_0005_segm-blueNisslRegular_segmentationWithText.jpg\n",
        "loaded /home/yuncong/project/DavidData2014results/RS141/0005/RS141_x5_0005_segm-blueNisslRegular_segmentationWithText.jpg"
       ]
      },
      {
       "output_type": "stream",
       "stream": "stdout",
       "text": [
        "\n"
       ]
      }
     ],
     "prompt_number": 3
    },
    {
     "cell_type": "code",
     "collapsed": false,
     "input": [
      "from scipy.spatial.distance import cdist, pdist, squareform\n",
      "\n",
      "center_dists = pdist(sp_properties[:, :2])\n",
      "center_dist_matrix = squareform(center_dists)\n",
      "\n",
      "# k = 200\n",
      "# k_neighbors = np.argsort(center_dist_matrix, axis=1)[:, 1:k+1]\n",
      "\n",
      "# neighbor_dists = np.empty((n_superpixels, k))\n",
      "# for i in range(n_superpixels):\n",
      "# #     neighbor_dists[i] = np.squeeze(cdist(texton_hists[i][np.newaxis,:], texton_hists[k_neighbors[i]], chi2))\n",
      "#     neighbor_dists[i] = np.squeeze(cdist(texton_hists[i][np.newaxis,:], texton_hists[k_neighbors[i]], js))\n",
      "    \n",
      "# sp_sp_dists = np.nan * np.ones((n_superpixels, n_superpixels))\n",
      "# for i in range(n_superpixels):\n",
      "#     sp_sp_dists[i, k_neighbors[i]] = neighbor_dists[i]"
     ],
     "language": "python",
     "metadata": {},
     "outputs": [],
     "prompt_number": 20
    },
    {
     "cell_type": "code",
     "collapsed": false,
     "input": [
      "sp_sp_dists = squareform(pdist(texton_hists, js))"
     ],
     "language": "python",
     "metadata": {},
     "outputs": [],
     "prompt_number": 495
    },
    {
     "cell_type": "code",
     "collapsed": false,
     "input": [
      "def compute_cluster_score(cluster, texton_hists=texton_hists, neighbors=neighbors):\n",
      "    \n",
      "    cluster_list = list(cluster)\n",
      "    hists_cluster = texton_hists[cluster_list]\n",
      "\n",
      "    cluster_avg = hists_cluster.mean(axis=0)\n",
      "    \n",
      "    surrounds = set([i for i in set.union(*[neighbors[c] for c in cluster]) if i not in cluster and i != -1])\n",
      "    \n",
      "    surrounds_list = list(surrounds)\n",
      "    \n",
      "    hists_surround = texton_hists[surrounds_list]\n",
      "\n",
      "#     avg_dists = np.atleast_1d(np.squeeze(cdist(np.atleast_2d(cluster_avg), hists_cluster, chi2)))\n",
      "    \n",
      "    avg_dists = np.atleast_1d(np.squeeze(cdist(np.atleast_2d(cluster_avg), hists_cluster, js)))\n",
      "            \n",
      "    surround_dists = np.empty((len(cluster_list), ))\n",
      "    closest_neighboring_surround_sps = np.empty((len(cluster_list), ), dtype=np.int)\n",
      "    for ind, i in enumerate(cluster_list):\n",
      "        neighboring_surround_sps = list(neighbors[i] & surrounds)\n",
      "        if len(neighboring_surround_sps) > 0:\n",
      "            ds = sp_sp_dists[i, neighboring_surround_sps]\n",
      "            surround_dists[ind] = np.min(ds)\n",
      "            closest_neighboring_surround_sps[ind] = neighboring_surround_sps[np.argmin(ds)]\n",
      "        else:\n",
      "            surround_dists[ind] = np.nan\n",
      "            closest_neighboring_surround_sps[ind] = -1\n",
      "        \n",
      "#     surround_dists = np.array([sp_sp_dists[i, cluster_list] for i in surrounds_list])\n",
      "    \n",
      "    avg_dist = np.mean(avg_dists) / np.sqrt(len(cluster_list))\n",
      "#     avg_dist = np.max(avg_dists)\n",
      "#     surround_dist = np.min(np.atleast_2d(surround_dists), axis=0).mean()\n",
      "#     surround_dist = np.min(np.atleast_2d(surround_dists), axis=0).min()\n",
      "    surround_dist = np.nanmin(surround_dists)\n",
      "#     surround_dist = np.nanmean(surround_dists)\n",
      "\n",
      "    score = surround_dist\n",
      "\n",
      "#     score = (1 + 10 * np.log(len(cluster_list))) * (surround_dist - avg_dist)\n",
      "#     if len(cluster_list) == 1:\n",
      "#         score = 0\n",
      "#     score = (1 + np.log(len(cluster_list) + 1)) * (surround_dist - .01 * avg_dist)\n",
      "#     score = (1 + .01 * len(cluster_list)) * (surround_dist - .01 * avg_dist)\n",
      "#     score = (1 + .03 * np.log(10 * len(cluster_list) + 1)) * (surround_dist - .15 * avg_dist)\n",
      "#     score = (1 + .01 * np.log(10 * len(cluster_list) + 1)) * (surround_dist - .8 * avg_dist)\n",
      "\n",
      "    \n",
      "#     print 'cluster', cluster_list\n",
      "# #     print 'surrounds_list', surrounds_list\n",
      "# #     argmins = np.array(surrounds_list)[np.argmin(np.atleast_2d(surround_dists), axis=0)]\n",
      "#     mins = np.min(np.atleast_2d(surround_dists), axis=0)\n",
      "#     adv = mins - avg_dists\n",
      "#     print 'surrounds'\n",
      "#     for t in zip(cluster_list, closest_neighboring_surround_sps, mins, avg_dists, adv):\n",
      "#         print t\n",
      "    \n",
      "#     print 'sig:', score, ', surround:', surround_dist, ', model:', avg_dist\n",
      "#     print \n",
      "    \n",
      "    return score, surround_dist, avg_dist"
     ],
     "language": "python",
     "metadata": {},
     "outputs": [],
     "prompt_number": 5
    },
    {
     "cell_type": "code",
     "collapsed": false,
     "input": [
      "def visualize_cluster(cluster, segmentation=segmentation, segmentation_vis=segmentation_vis):\n",
      "\n",
      "    a = -1*np.ones_like(segmentation)\n",
      "    \n",
      "    for c in cluster:\n",
      "        a[segmentation == c] = 0\n",
      "        \n",
      "    vis = label2rgb(a, image=segmentation_vis)\n",
      "\n",
      "    vis = img_as_ubyte(vis[...,::-1])\n",
      "\n",
      "    for i, sp in enumerate(cluster):\n",
      "        vis = cv2.putText(vis, str(i), \n",
      "                          tuple(np.floor(sp_properties[sp, [1,0]] - np.array([10,-10])).astype(np.int)), \n",
      "                          cv2.FONT_HERSHEY_DUPLEX,\n",
      "                          1., ((0,255,255)), 1)\n",
      "\n",
      "    return vis.copy()\n",
      "\n",
      "def visualize_multiple_clusters(clusters, segmentation=segmentation, segmentation_vis=segmentation_vis):\n",
      "\n",
      "    n = len(clusters)\n",
      "    m = -1*np.ones((n_superpixels,), dtype=np.int)\n",
      "    \n",
      "    for ci, c in enumerate(clusters):\n",
      "        m[list(c)] = ci\n",
      "        \n",
      "    a = m[segmentation]\n",
      "    a[~dm.mask] = -1\n",
      "    \n",
      "#     a = -1*np.ones_like(segmentation)\n",
      "#     for ci, c in enumerate(clusters):\n",
      "#         for i in c:\n",
      "#             a[segmentation == i] = ci\n",
      "\n",
      "    vis = label2rgb(a, image=segmentation_vis)\n",
      "\n",
      "    vis = img_as_ubyte(vis[...,::-1])\n",
      "\n",
      "    for ci, c in enumerate(clusters):\n",
      "        for i, sp in enumerate(c):\n",
      "            vis = cv2.putText(vis, str(i), \n",
      "                              tuple(np.floor(sp_properties[sp, [1,0]] - np.array([10,-10])).astype(np.int)), \n",
      "                              cv2.FONT_HERSHEY_DUPLEX,\n",
      "                              1., ((0,255,255)), 1)\n",
      "    \n",
      "    return vis.copy()"
     ],
     "language": "python",
     "metadata": {},
     "outputs": [],
     "prompt_number": 6
    },
    {
     "cell_type": "code",
     "collapsed": false,
     "input": [
      "# def compare_two_sps(a,b):\n",
      "\n",
      "#     print sp_sp_dists[a,b]\n",
      "    \n",
      "#     js(texton_hists[a], texton_hists[b])\n",
      "\n",
      "#     plt.bar(np.arange(n_texton), texton_hists[a], width=.3, color='g')\n",
      "#     plt.bar(np.arange(n_texton)+.3, texton_hists[b], width=.3, color='b')\n",
      "#     plt.show()"
     ],
     "language": "python",
     "metadata": {},
     "outputs": []
    },
    {
     "cell_type": "code",
     "collapsed": false,
     "input": [
      "import networkx\n",
      "from networkx.algorithms import node_connected_component\n",
      "\n",
      "neighbors_dict = dict(zip(np.arange(n_superpixels), [list(i) for i in neighbors]))\n",
      "neighbor_graph = networkx.from_dict_of_lists(neighbors_dict)"
     ],
     "language": "python",
     "metadata": {},
     "outputs": [],
     "prompt_number": 7
    },
    {
     "cell_type": "code",
     "collapsed": false,
     "input": [
      "def grow_cluster(seed):\n",
      "\n",
      "#     seed = 3767\n",
      "    # null_seed = 3066\n",
      "\n",
      "    all_distances = np.atleast_1d(np.squeeze(cdist(texton_hists[seed][np.newaxis, :], texton_hists, js)))\n",
      "    # null_distances = np.atleast_1d(np.squeeze(cdist(texton_hists[null_seed][np.newaxis, :], texton_hists, js)))\n",
      "\n",
      "    ss = []\n",
      "    cc = []\n",
      "\n",
      "    # for i in np.arange(.01,null_distances[seed],.01):\n",
      "\n",
      "    for i in np.arange(.01, 0.3, .01):\n",
      "\n",
      "    #     similar_nodes = np.where(all_distances < .1)[0]\n",
      "        similar_nodes = np.where(all_distances < i)[0]\n",
      "    #     similar_nodes = np.where(all_distances < null_distances - i)[0]\n",
      "        similar_graph = neighbor_graph.subgraph(similar_nodes)\n",
      "\n",
      "        curr_cluster = node_connected_component(similar_graph, seed)\n",
      "\n",
      "        if len(curr_cluster) > int(n_superpixels * 0.05):\n",
      "            break\n",
      "            \n",
      "        cc.append(curr_cluster)\n",
      "\n",
      "        s, _, _ = compute_cluster_score(curr_cluster)\n",
      "        ss.append(s)\n",
      "        \n",
      "#         print i, curr_cluster, s\n",
      "\n",
      "    curr_cluster = cc[np.argmax(ss)]\n",
      "    score = np.max(ss)\n",
      "    \n",
      "    return curr_cluster, score"
     ],
     "language": "python",
     "metadata": {},
     "outputs": [],
     "prompt_number": 8
    },
    {
     "cell_type": "code",
     "collapsed": false,
     "input": [
      "def show_salmap(v, mask=dm.mask):\n",
      "    sal_map = v[segmentation]\n",
      "    sal_map[~mask] = sal_map.min()\n",
      "    plt.matshow(sal_map)\n",
      "    plt.colorbar()\n",
      "    plt.show()"
     ],
     "language": "python",
     "metadata": {},
     "outputs": [],
     "prompt_number": 508
    },
    {
     "cell_type": "code",
     "collapsed": false,
     "input": [
      "def equilibrium_dist(A, initial_v):\n",
      "    \n",
      "    v = initial_v\n",
      "    for i in range(50):\n",
      "        v_new = np.dot(v, A)\n",
      "        if np.linalg.norm(v_new - v) < 1e-5:\n",
      "            break\n",
      "        v = v_new\n",
      "\n",
      "    return v"
     ],
     "language": "python",
     "metadata": {},
     "outputs": [],
     "prompt_number": 514
    },
    {
     "cell_type": "code",
     "collapsed": false,
     "input": [
      "sigma = 0.1\n",
      "affinity_matrix = np.exp(-sp_sp_dists**2/sigma**2)\n",
      "affinity_matrix = affinity_matrix/affinity_matrix.sum(axis=1)[:, np.newaxis]\n",
      "v = equilibrium_dist(affinity_matrix, 1./n_superpixels * np.ones((n_superpixels, )))\n",
      "W = np.tile(v, (n_superpixels, 1))\n",
      "Z = np.linalg.inv(np.eye(n_superpixels) - affinity_matrix + W)\n",
      "\n",
      "Eii = 1/v\n",
      "Eij = Eii[j] * (Z)"
     ],
     "language": "python",
     "metadata": {},
     "outputs": [],
     "prompt_number": 526
    },
    {
     "cell_type": "code",
     "collapsed": false,
     "input": [
      "def GBVS(D, F):\n",
      "    \"\"\"\n",
      "    D is fully connected, feature distance matrix; F is spatial distance matrix\n",
      "    \"\"\"\n",
      "    \n",
      "    W = D*F\n",
      "    A = W/W.sum(axis=1)[:, np.newaxis]\n",
      "    \n",
      "    n = D.shape[0]\n",
      "    \n",
      "    initial_v = 1./n * np.ones((n,))\n",
      "    \n",
      "    v = equilibrium_dist(A, initial_v)\n",
      "    show_salmap(v)\n",
      "    \n",
      "    W2 = v[np.newaxis, :] * F\n",
      "    \n",
      "    A2 = W2/W2.sum(axis=1)[:, np.newaxis]\n",
      "    \n",
      "    v2 = equilibrium_dist(A2, initial_v)\n",
      "    show_salmap(v2)\n",
      "    \n",
      "    return v2"
     ],
     "language": "python",
     "metadata": {},
     "outputs": [],
     "prompt_number": 515
    },
    {
     "cell_type": "code",
     "collapsed": false,
     "input": [
      "sigma = 100\n",
      "F = np.exp(-center_dist_matrix**2/(2*sigma**2))\n",
      "\n",
      "sal_val = GBVS(sp_sp_dists, F)"
     ],
     "language": "python",
     "metadata": {},
     "outputs": [
      {
       "metadata": {},
       "output_type": "display_data",
       "png": "[encoded data removed]",
       "text": [
        "<matplotlib.figure.Figure at 0x86c5610>"
       ]
      },
      {
       "metadata": {},
       "output_type": "display_data",
       "png": "[encoded data removed]",
       "text": [
        "<matplotlib.figure.Figure at 0x7fa1950>"
       ]
      }
     ],
     "prompt_number": 516
    },
    {
     "cell_type": "code",
     "collapsed": false,
     "input": [
      "sal_map = sal_val[segmentation]\n",
      "sal_map[~dm.mask] = sal_map.min()\n",
      "sal_map_normalized = (sal_map/sal_map.max()*255).astype(np.uint8)\n",
      "display(sal_map_normalized)"
     ],
     "language": "python",
     "metadata": {},
     "outputs": [
      {
       "html": [
        "<a href='tmp.jpg' target='_blank'>tmp.jpg</a><br>"
       ],
       "metadata": {},
       "output_type": "pyout",
       "prompt_number": 519,
       "text": [
        "/oasis/projects/nsf/csd181/yuncong/Brain/notebooks/tmp.jpg"
       ]
      }
     ],
     "prompt_number": 519
    },
    {
     "cell_type": "code",
     "collapsed": false,
     "input": [
      "c = grow_cluster(3937)[0]\n",
      "vis = visualize_cluster(c)\n",
      "display(vis)"
     ],
     "language": "python",
     "metadata": {},
     "outputs": [
      {
       "html": [
        "<a href='tmp.jpg' target='_blank'>tmp.jpg</a><br>"
       ],
       "metadata": {},
       "output_type": "pyout",
       "prompt_number": 480,
       "text": [
        "/oasis/projects/nsf/csd181/yuncong/Brain/notebooks/tmp.jpg"
       ]
      }
     ],
     "prompt_number": 480
    },
    {
     "cell_type": "code",
     "collapsed": false,
     "input": [
      "cluster, s = grow_cluster(3640)\n",
      "print 'cluster', cluster\n",
      "vis = visualize_cluster(cluster)\n",
      "display(vis)"
     ],
     "language": "python",
     "metadata": {},
     "outputs": []
    },
    {
     "cell_type": "code",
     "collapsed": false,
     "input": [
      "def compute_bounding_box(cluster):\n",
      "    q = np.array([sp_properties[c, 4:] for c in cluster])\n",
      "    ymin, xmin = q[:, :2].min(axis=0)\n",
      "    ymax, xmax = q[:, 2:].max(axis=0)\n",
      "    return ymin, xmin, ymax, xmax"
     ],
     "language": "python",
     "metadata": {},
     "outputs": []
    },
    {
     "cell_type": "code",
     "collapsed": false,
     "input": [
      "# plt.plot(range(len(ss)), ss);"
     ],
     "language": "python",
     "metadata": {},
     "outputs": []
    },
    {
     "cell_type": "code",
     "collapsed": false,
     "input": [
      "# seed = 3395\n",
      "\n",
      "# all_distances = np.atleast_1d(np.squeeze(cdist(texton_hists[seed][np.newaxis, :], texton_hists, js)))\n",
      "# vis = all_distances[segmentation] < 0.02\n",
      "# vis[~dm.mask] = 0\n",
      "\n",
      "# plt.matshow(vis)\n",
      "# plt.colorbar()\n",
      "# plt.show()"
     ],
     "language": "python",
     "metadata": {},
     "outputs": []
    },
    {
     "cell_type": "code",
     "collapsed": false,
     "input": [
      "# try:\n",
      "#     clusters = dm.load_pipeline_result('clusters', 'pkl')\n",
      "    \n",
      "# except Exception as e:\n",
      "\n",
      "import time\n",
      "b = time.time()\n",
      "\n",
      "clusters = Parallel(n_jobs=16)(delayed(grow_cluster)(s) for s in range(n_superpixels))\n",
      "\n",
      "print time.time() - b\n",
      "\n",
      "# dm.save_pipeline_result(clusters, 'clusters', 'pkl')"
     ],
     "language": "python",
     "metadata": {},
     "outputs": []
    },
    {
     "cell_type": "code",
     "collapsed": false,
     "input": [
      "dm.save_pipeline_result(clusters, 'clusters', 'pkl')"
     ],
     "language": "python",
     "metadata": {},
     "outputs": []
    },
    {
     "cell_type": "code",
     "collapsed": false,
     "input": [
      "# clusters = dm.load_pipeline_result('clusters', 'pkl')"
     ],
     "language": "python",
     "metadata": {},
     "outputs": [
      {
       "output_type": "stream",
       "stream": "stdout",
       "text": [
        "/home/yuncong/project/DavidData2014results/RS141/0005/RS141_x5_0005_gabor-blueNisslWide-segm-blueNisslRegular-vq-blueNissl_clusters.pkl\n",
        "loaded /home/yuncong/project/DavidData2014results/RS141/0005/RS141_x5_0005_gabor-blueNisslWide-segm-blueNisslRegular-vq-blueNissl_clusters.pkl"
       ]
      },
      {
       "output_type": "stream",
       "stream": "stdout",
       "text": [
        "\n"
       ]
      }
     ],
     "prompt_number": 9
    },
    {
     "cell_type": "code",
     "collapsed": false,
     "input": [
      "cluster_sps, cluster_score_sps = zip(*clusters)\n",
      "cluster_size_sps = np.array([len(c) for c in cluster_sps])\n",
      "cluster_score_sps = np.array(cluster_score_sps)\n",
      "# cluster_bounding_boxes = Parallel(n_jobs=16)(delayed(compute_bounding_box)(c) for c in cluster_sps)"
     ],
     "language": "python",
     "metadata": {},
     "outputs": [],
     "prompt_number": 11
    },
    {
     "cell_type": "code",
     "collapsed": false,
     "input": [
      "# sigmap = cluster_score_sps[segmentation] * 5 + 1\n",
      "# sigmap[~dm.mask] = 0\n",
      "\n",
      "# plt.matshow(sigmap)\n",
      "# plt.colorbar()\n",
      "# plt.show()"
     ],
     "language": "python",
     "metadata": {},
     "outputs": []
    },
    {
     "cell_type": "code",
     "collapsed": false,
     "input": [
      "plt.hist(cluster_size_sps);"
     ],
     "language": "python",
     "metadata": {},
     "outputs": [
      {
       "metadata": {},
       "output_type": "display_data",
       "png": "[encoded data removed]",
       "text": [
        "<matplotlib.figure.Figure at 0x6251750>"
       ]
      }
     ],
     "prompt_number": 12
    },
    {
     "cell_type": "code",
     "collapsed": false,
     "input": [
      "highlighted_sps = np.where((cluster_size_sps < 200) & (cluster_size_sps > 4))[0]\n",
      "n_highlights = len(highlighted_sps)\n",
      "print n_highlights\n",
      "highlighted_clusters = [cluster_sps[s] for s in highlighted_sps]\n",
      "highlighted_scores = [cluster_score_sps[s] for s in highlighted_sps]"
     ],
     "language": "python",
     "metadata": {},
     "outputs": [
      {
       "output_type": "stream",
       "stream": "stdout",
       "text": [
        "3086\n"
       ]
      }
     ],
     "prompt_number": 165
    },
    {
     "cell_type": "code",
     "collapsed": false,
     "input": [
      "from scipy.spatial.distance import pdist, squareform\n",
      "from scipy.cluster.hierarchy import average, fcluster, leaders, complete, single, dendrogram\n",
      "\n",
      "def group_clusters(clusters, dist_thresh = 0.1):\n",
      "\n",
      "    n_clusters = len(clusters)\n",
      "    \n",
      "    overlap_matrix = np.zeros((n_clusters, n_clusters))\n",
      "    \n",
      "    for i in range(n_clusters):\n",
      "        for j in range(n_clusters):\n",
      "            if i == j:\n",
      "                overlap_matrix[i, j] = 1\n",
      "            else:\n",
      "                c1 = set(clusters[i])\n",
      "                c2 = set(clusters[j])\n",
      "                overlap_matrix[i, j] = float(len(c1 & c2))/min(len(c1),len(c2))\n",
      "\n",
      "    distance_matrix = 1 - overlap_matrix\n",
      "    \n",
      "    lk = average(squareform(distance_matrix))\n",
      "\n",
      "    # T = fcluster(lk, 1.15, criterion='inconsistent')\n",
      "    T = fcluster(lk, dist_thresh, criterion='distance')\n",
      "\n",
      "    n_groups = len(set(T))\n",
      "    print n_groups, 'groups'\n",
      "    \n",
      "    groups = [None] * n_groups\n",
      "\n",
      "    for group_id in range(n_groups):\n",
      "        groups[group_id] = where(T == group_id)[0]\n",
      "    \n",
      "    \n",
      "    sp_groups = [ [highlighted_sps[i] for i in group] for group in highlighted_groups if len(group) > 1]\n",
      "    union_clusters = [cluster_sps[g[np.argmax(cluster_score_sps[g])]] for g in sp_groups]\n",
      "    \n",
      "    return groups"
     ],
     "language": "python",
     "metadata": {},
     "outputs": [],
     "prompt_number": 214
    },
    {
     "cell_type": "code",
     "collapsed": false,
     "input": [
      "highlighted_groups = group_clusters(highlighted_clusters)"
     ],
     "language": "python",
     "metadata": {},
     "outputs": [
      {
       "output_type": "stream",
       "stream": "stdout",
       "text": [
        "631 groups\n"
       ]
      }
     ],
     "prompt_number": 193
    },
    {
     "cell_type": "code",
     "collapsed": false,
     "input": [
      "h = where(highlighted_sps==3508)[0]\n",
      "q = where(distance_matrix[h] <= 0.1)[1]\n",
      "vis = visualize_cluster(highlighted_sps[q])\n",
      "display(vis)"
     ],
     "language": "python",
     "metadata": {},
     "outputs": [
      {
       "output_type": "stream",
       "stream": "stderr",
       "text": [
        "/oasis/projects/nsf/csd181/yuncong/virtualenv-1.9.1/yuncongve/lib/python2.7/site-packages/skimage/util/dtype.py:107: UserWarning: Possible precision loss when converting from float64 to uint8\n",
        "  \"%s to %s\" % (dtypeobj_in, dtypeobj))\n"
       ]
      },
      {
       "html": [
        "<a href='tmp.jpg' target='_blank'>tmp.jpg</a><br>"
       ],
       "metadata": {},
       "output_type": "pyout",
       "prompt_number": 15,
       "text": [
        "/oasis/projects/nsf/csd181/yuncong/Brain/notebooks/tmp.jpg"
       ]
      }
     ],
     "prompt_number": 15
    },
    {
     "cell_type": "code",
     "collapsed": false,
     "input": [
      "def compute_cluster_score2(cluster, texton_hists=texton_hists, neighbors=neighbors):\n",
      "    \n",
      "    cluster_list = list(cluster)\n",
      "    hists_cluster = texton_hists[cluster_list]\n",
      "\n",
      "    cluster_avg = hists_cluster.mean(axis=0)\n",
      "    \n",
      "    surrounds = set([i for i in set.union(*[neighbors[c] for c in cluster]) if i not in cluster and i != -1])\n",
      "    \n",
      "    surrounds_list = list(surrounds)\n",
      "    \n",
      "#     interior_holes = set([s for s in surrounds_list if neighbors[s] <= set(cluster)])\n",
      "    \n",
      "    hists_surround = texton_hists[surrounds_list]\n",
      "\n",
      "#     avg_dists = np.atleast_1d(np.squeeze(cdist(np.atleast_2d(cluster_avg), hists_cluster, chi2)))\n",
      "    \n",
      "    avg_dists = np.atleast_1d(np.squeeze(cdist(np.atleast_2d(cluster_avg), hists_cluster, js)))\n",
      "            \n",
      "    surround_dists = np.empty((len(cluster_list), ))\n",
      "    closest_neighboring_surround_sps = np.empty((len(cluster_list), ), dtype=np.int)\n",
      "    for ind, i in enumerate(cluster_list):\n",
      "#         neighboring_surround_sps = list((neighbors[i] & surrounds) - interior_holes)      \n",
      "        neighboring_surround_sps = list(neighbors[i] & surrounds)\n",
      "        if (len(neighboring_surround_sps) > 0):\n",
      "            ds = sp_sp_dists[i, neighboring_surround_sps]\n",
      "            surround_dists[ind] = np.min(ds)\n",
      "            closest_neighboring_surround_sps[ind] = neighboring_surround_sps[np.argmin(ds)]\n",
      "        else:\n",
      "            surround_dists[ind] = np.nan\n",
      "            closest_neighboring_surround_sps[ind] = -1\n",
      "        \n",
      "#     surround_dists = np.array([sp_sp_dists[i, cluster_list] for i in surrounds_list])\n",
      "    \n",
      "    avg_dist = np.mean(avg_dists) / np.sqrt(len(cluster_list))\n",
      "#     avg_dist = np.max(avg_dists)\n",
      "#     surround_dist = np.min(np.atleast_2d(surround_dists), axis=0).mean()\n",
      "#     surround_dist = np.min(np.atleast_2d(surround_dists), axis=0).min()\n",
      "\n",
      "    surround_dist = np.nanmin(surround_dists)\n",
      "\n",
      "    score = surround_dist\n",
      "#     if len(cluster_list) == 1:\n",
      "#         score = 0\n",
      "#     score = (1 + np.log(len(cluster_list) + 1)) * (surround_dist - .01 * avg_dist)\n",
      "#     score = (1 + .01 * len(cluster_list)) * (surround_dist - .01 * avg_dist)\n",
      "#     score = (1 + .03 * np.log(10 * len(cluster_list) + 1)) * (surround_dist - .15 * avg_dist)\n",
      "#     score = (1 + .01 * np.log(10 * len(cluster_list) + 1)) * (surround_dist - .8 * avg_dist)\n",
      "    \n",
      "    print 'cluster', cluster_list\n",
      "#     print 'surrounds_list', surrounds_list\n",
      "#     argmins = np.array(surrounds_list)[np.argmin(np.atleast_2d(surround_dists), axis=0)]\n",
      "    mins = np.min(np.atleast_2d(surround_dists), axis=0)\n",
      "    adv = mins - avg_dists\n",
      "    print 'surrounds'\n",
      "    for t in zip(cluster_list, closest_neighboring_surround_sps, mins, avg_dists, adv):\n",
      "        print t\n",
      "    \n",
      "    print 'sig:', score, ', surround:', surround_dist, ', model:', avg_dist\n",
      "    print \n",
      "    \n",
      "    return score, surround_dist, avg_dist"
     ],
     "language": "python",
     "metadata": {},
     "outputs": [],
     "prompt_number": 94
    },
    {
     "cell_type": "code",
     "collapsed": false,
     "input": [
      "sp_groups = [ [highlighted_sps[i] for i in group] for group in highlighted_groups if len(group) > 1]\n",
      "union_clusters = [cluster_sps[g[np.argmax(cluster_score_sps[g])]] for g in sp_groups]"
     ],
     "language": "python",
     "metadata": {},
     "outputs": [],
     "prompt_number": 194
    },
    {
     "cell_type": "code",
     "collapsed": false,
     "input": [
      "union_cluster_groups = group_clusters(union_clusters, dist_thresh=0.5)\n",
      "union_cluster_groups = [u for u in union_cluster_groups if len(u) > 0]"
     ],
     "language": "python",
     "metadata": {},
     "outputs": [
      {
       "output_type": "stream",
       "stream": "stdout",
       "text": [
        "182 groups\n"
       ]
      }
     ],
     "prompt_number": 215
    },
    {
     "cell_type": "code",
     "collapsed": false,
     "input": [
      "union_cluster_groups[2]"
     ],
     "language": "python",
     "metadata": {},
     "outputs": [
      {
       "metadata": {},
       "output_type": "pyout",
       "prompt_number": 230,
       "text": [
        "array([21, 22, 23, 24, 25])"
       ]
      }
     ],
     "prompt_number": 230
    },
    {
     "cell_type": "code",
     "collapsed": false,
     "input": [
      "# union_cluster_union_clusters = [set.union(*[set(union_clusters[i]) for i in g]) for g in union_cluster_groups]\n",
      "# union_cluster_union_clusters = [set.intersection(*[set(union_clusters[i]) for i in g]) for g in union_cluster_groups]\n",
      "union_cluster_union_clusters = [union_clusters[g[np.argmax([compute_cluster_score(union_clusters[i])[0] for i in g])]] \n",
      "                                for g in union_cluster_groups]"
     ],
     "language": "python",
     "metadata": {},
     "outputs": [],
     "prompt_number": 241
    },
    {
     "cell_type": "code",
     "collapsed": false,
     "input": [
      "union_cluster_union_clusters[87]"
     ],
     "language": "python",
     "metadata": {},
     "outputs": [
      {
       "metadata": {},
       "output_type": "pyout",
       "prompt_number": 247,
       "text": [
        "[2084, 2085, 2398, 2188, 2288, 2292, 1982, 2308, 2206]"
       ]
      }
     ],
     "prompt_number": 247
    },
    {
     "cell_type": "code",
     "collapsed": false,
     "input": [
      "where([2085 in g for g in union_cluster_union_clusters])"
     ],
     "language": "python",
     "metadata": {},
     "outputs": [
      {
       "metadata": {},
       "output_type": "pyout",
       "prompt_number": 243,
       "text": [
        "(array([87]),)"
       ]
      }
     ],
     "prompt_number": 243
    },
    {
     "cell_type": "code",
     "collapsed": false,
     "input": [
      "filtered_group_scores = np.array([compute_cluster_score(g)[0] for g in union_cluster_union_clusters])\n",
      "# filtered_group_scores = [cluster_score_sps[list(g)].max() for g in filtered_groups]\n",
      "\n",
      "arg_score_sorted = np.argsort(filtered_group_scores)[::-1]\n",
      "\n",
      "union_cluster_union_clusters_sorted = [union_cluster_union_clusters[i] for i in arg_score_sorted]\n",
      "\n",
      "print len(union_cluster_union_clusters_sorted)"
     ],
     "language": "python",
     "metadata": {},
     "outputs": [
      {
       "output_type": "stream",
       "stream": "stdout",
       "text": [
        "181\n"
       ]
      }
     ],
     "prompt_number": 262
    },
    {
     "cell_type": "code",
     "collapsed": false,
     "input": [
      "c1 = set([2224, 2084, 2085, 2188, 2397, 2288, 2398, 1982, 2308, 2394, 2298, 2206])\n",
      "c2 = set([2084, 2085, 2398, 2188, 2288, 2292, 1982, 2308, 2206])\n",
      "ci = c1 & c2\n",
      "cu = c1 | c2\n",
      "print ci\n",
      "print cu\n",
      "# print float(len(ci))/len(cu)\n",
      "print float(len(ci))/min(len(ci),len(cu))"
     ],
     "language": "python",
     "metadata": {},
     "outputs": [
      {
       "output_type": "stream",
       "stream": "stdout",
       "text": [
        "set([2084, 2085, 2188, 2288, 2398, 1982, 2308, 2206])\n",
        "set([2224, 2084, 2085, 2188, 2397, 2288, 2398, 1982, 2308, 2298, 2292, 2394, 2206])\n",
        "1.0\n"
       ]
      }
     ],
     "prompt_number": 101
    },
    {
     "cell_type": "code",
     "collapsed": false,
     "input": [
      "seeds = where([2085 in g for g in union_clusters])[0]\n",
      "for seed in seeds:\n",
      "    print seed, groups[seed], union_clusters[seed]"
     ],
     "language": "python",
     "metadata": {},
     "outputs": [
      {
       "output_type": "stream",
       "stream": "stdout",
       "text": [
        "243 [2085 2206] [2224, 2084, 2085, 2188, 2397, 2288, 2398, 1982, 2308, 2394, 2298, 2206]\n",
        "244 [2188 2288 2308 2398] [2084, 2085, 2398, 2188, 2288, 2292, 1982, 2308, 2206]\n",
        "245 [2084 2292 2497 2500] [2497, 2084, 2085, 2398, 2188, 2288, 2292, 1982, 2308, 2206, 2500]\n"
       ]
      }
     ],
     "prompt_number": 134
    },
    {
     "cell_type": "code",
     "collapsed": false,
     "input": [
      "orig_index = where(highlighted_sps==2085)[0][0]\n",
      "close_highlighted_indices = where(distance_matrix[orig_index] < 1)[0]\n",
      "print highlighted_sps[close_highlighted_indices]\n",
      "print distance_matrix[orig_index, close_highlighted_indices]"
     ],
     "language": "python",
     "metadata": {},
     "outputs": [
      {
       "output_type": "stream",
       "stream": "stdout",
       "text": [
        "[2084 2085 2188 2206 2288 2292 2308 2397 2398 2399 2417 2497 2500 2837]\n",
        "[ 0.27272727  0.          0.16666667  0.          0.11111111  0.3\n",
        "  0.16666667  0.16666667  0.          0.75        0.66666667  0.3\n",
        "  0.28571429  0.83333333]\n"
       ]
      }
     ],
     "prompt_number": 96
    },
    {
     "cell_type": "code",
     "collapsed": false,
     "input": [
      "dm.save_pipeline_result(filtered_groups_res, 'groups', 'pkl')"
     ],
     "language": "python",
     "metadata": {},
     "outputs": [
      {
       "output_type": "stream",
       "stream": "stdout",
       "text": [
        "saved /home/yuncong/project/DavidData2014results/RS141/0005/RS141_x5_0005_gabor-blueNisslWide-segm-blueNisslRegular-vq-blueNissl_groups.pkl\n"
       ]
      }
     ],
     "prompt_number": 222
    },
    {
     "cell_type": "code",
     "collapsed": false,
     "input": [
      "for i in where([4 in g for g in highlighted_clusters])[0]:\n",
      "    print i, highlighted_clusters[i]"
     ],
     "language": "python",
     "metadata": {},
     "outputs": [
      {
       "output_type": "stream",
       "stream": "stdout",
       "text": [
        "0 [2, 3, 4, 5, 7, 9, 17, 35]\n",
        "1 [2, 3, 4, 5, 7, 8, 9, 10, 17, 35, 23]\n",
        "2 [2, 3, 4, 5, 7, 9, 17, 35]\n",
        "5 [2, 3, 4, 5, 7, 9, 17, 35]\n",
        "7 [2, 131, 4, 139, 14, 18, 21, 22, 23, 24, 25, 26, 29, 31, 32, 34, 36, 37, 38, 39, 40, 41, 42, 43, 44, 49, 50, 51, 56, 62, 63, 65, 66, 82, 85, 87, 100]\n",
        "9 [2, 131, 4, 139, 14, 18, 21, 22, 23, 24, 25, 26, 29, 31, 32, 34, 35, 36, 37, 38, 39, 40, 41, 42, 43, 44, 49, 50, 51, 56, 62, 63, 64, 65, 66, 82, 85, 87, 100]\n",
        "10 [131, 4, 139, 14, 18, 21, 22, 23, 24, 25, 26, 29, 31, 32, 34, 36, 37, 38, 39, 40, 41, 42, 43, 44, 49, 50, 51, 56, 61, 62, 63, 65, 66, 80, 82, 85, 87, 100]\n",
        "14 [2, 131, 4, 8, 9, 10, 139, 14, 144, 18, 21, 22, 23, 24, 25, 26, 29, 31, 32, 34, 35, 36, 165, 38, 39, 40, 41, 42, 43, 44, 49, 50, 51, 56, 61, 62, 63, 64, 65, 66, 80, 82, 85, 87, 37, 99, 100]\n",
        "18 [2, 3, 4, 5, 7, 9, 17, 35]\n"
       ]
      }
     ],
     "prompt_number": 279
    },
    {
     "cell_type": "code",
     "collapsed": false,
     "input": [
      "for i, (g, s) in enumerate(zip(union_cluster_union_clusters_sorted, filtered_group_scores[arg_score_sorted])):\n",
      "    print i, g, s"
     ],
     "language": "python",
     "metadata": {},
     "outputs": [
      {
       "output_type": "stream",
       "stream": "stdout",
       "text": [
        "0 [643, 583, 521, 586, 684, 654, 723, 720, 531, 726, 471, 728, 655, 650] 0.168362121065\n",
        "1 [4129, 4131, 4132, 4083, 4149, 4086, 4121, 4068, 4127] 0.143851673211\n",
        "2 [2084, 2085, 2398, 2188, 2288, 2292, 1982, 2308, 2206] 0.135681898539\n",
        "3 [6, 12, 13, 15, 16, 19] 0.0886939864018\n",
        "4 [161, 193, 202, 172, 173, 207, 112, 145, 114, 190, 123, 158] 0.0819294871054\n",
        "5 [33, 68, 45, 47, 53, 27, 28] 0.0810830634527\n",
        "6 [250, 278, 245, 206, 285] 0.0772838008074\n",
        "7 [3968, 3972, 4008, 3947, 3951, 3952, 3976, 3962] 0.0752596111776\n",
        "8 [297, 298, 299, 246, 247] 0.0712715973264\n",
        "9 [646, 582, 587, 524, 525, 526, 527, 528, 660, 535] 0.0708885400844\n",
        "10 [389, 390, 520, 414, 419, 420, 422, 435, 350, 459, 460, 335, 336, 466, 467, 340, 470, 344, 478, 351, 486, 372, 375, 378, 379, 508, 509] 0.070128045888\n",
        "11 [4106, 4100, 4110, 4094, 4122] 0.0564292112027\n",
        "12 [1090, 1091, 1004, 1104, 1086, 1177, 1083, 1021, 1022] 0.0545066446101\n",
        "13 [3369, 3370, 3467, 3399, 3279] 0.0531349441629\n",
        "14 [2401, 2569, 2412, 2391, 2492, 2301] 0.0518235827357\n",
        "15 [4033, 3983, 4134, 4136, 4011, 4079, 4084, 4088, 4091, 3996] 0.0510480600183\n",
        "16 [1280, 901, 1670, 1671, 905, 1169, 1170, 1171, 1172, 1175, 1176, 1180, 1565, 1568, 1569, 731, 1190, 1191, 814, 733, 1073, 1074, 1374, 1078, 1161, 1080, 1081, 1082, 1468, 1472, 1350, 1360, 1464, 1365, 1367, 1369, 987, 817, 990, 1297, 807, 1265, 1266, 1267, 1268, 1269, 1270, 1275] 0.0497148129968\n",
        "17 [2881, 2882, 2787, 2984, 2733, 2803, 2715] 0.0488157844286\n",
        "18 [935, 936, 910, 1007, 1008, 989] 0.0484176473328\n",
        "19 [2880, 2981, 3082, 2834, 2931, 3000] 0.0468972841113\n",
        "20 [3883, 3790, 3891, 3989, 3895, 3901] 0.04521762691\n",
        "21 [2800, 2818, 2700, 2838, 2703] 0.041764874319\n",
        "22 [1908, 2010, 2075, 2108, 2173, 2174] 0.0413239050871\n",
        "23 [3104, 3105, 3138, 3137, 3118, 3197] 0.0402001724905\n",
        "24 [2, 3, 4, 5, 7, 9, 17, 35] 0.0401462388238\n",
        "25 [1344, 1345, 1186, 1185, 1291, 1292, 1199, 1200, 1202, 1174, 1271, 1343] 0.0397824527805\n",
        "26 [578, 529, 595, 627, 567, 536] 0.0396993089274\n",
        "27 [3592, 3594, 3211, 3606, 3494, 3496, 3505, 3506, 3520, 3396, 3662, 3663, 3536, 3421, 3422, 3423, 3296, 3238, 3687, 3314, 3190, 3324] 0.0395089739617\n",
        "28 [4000, 4065, 4002, 4067, 4070, 3910, 3975, 4073, 4066, 3982, 3981, 4080, 3988, 4078, 3967, 4063] 0.0390761356376\n",
        "29 [352, 326, 302, 338, 308, 341] 0.0378430880169\n",
        "30 [2596, 2609, 2441, 2698, 2839, 2639, 2512, 2513, 2419, 2711, 2616, 2602, 2495] 0.0375893062255\n",
        "31 [2433, 2434, 2435, 2534, 2535, 2536, 2393, 2399] 0.0372694793288\n",
        "32 [142, 46, 143, 78, 88, 121, 187, 124] 0.036944947964\n",
        "33 [3088, 3172, 3173, 3207, 2959, 2960, 3185, 3061, 3062, 3063] 0.0356193673415\n",
        "34 [1346, 1379, 1444, 1446, 1250, 1358, 1263, 1294, 1179] 0.0355774843996\n",
        "35 [384, 474, 426, 475, 381] 0.0352872758038\n",
        "36 [518, 367, 436, 568, 510, 415] 0.034803482589\n",
        "37 [3424, 3521, 3522, 3907, 3908, 3718, 3848, 3977, 3820, 4072, 3920, 3921, 3701, 3607, 3864, 3994, 4030, 3999] 0.0347736201194\n",
        "38 [4103, 4110, 4119, 4120, 4122, 4123, 3872, 3876, 3878, 3884, 4013, 3889, 3893, 3898, 4028, 3959, 4050, 3937, 3938, 3954, 4087, 3966, 4095] 0.0337981625872\n",
        "39 [2816, 2784, 2732, 2832, 2833, 2802, 2708] 0.0337537771848\n",
        "40 [3106, 3107, 3085, 2998, 3125] 0.0336762394384\n",
        "41 [2665, 2570, 2891, 2892, 2767, 2612, 2505] 0.0336341682495\n",
        "42 [3368, 3322, 3491, 3436, 3405] 0.0336035471421\n",
        "43 [649, 651, 653, 658, 725, 729, 730, 732] 0.0333706846149\n",
        "44 [3398, 3466, 3500, 3313, 3386, 3323, 3487] 0.032989783689\n",
        "45 [1026, 1096, 1077, 991, 1085, 1087] 0.0309269470235\n",
        "46 [2866, 2964, 2906, 2926, 3002] 0.0307835206023\n",
        "47 [2912, 3040, 2820, 3041, 2921, 3024, 2939] 0.0306937592299\n",
        "48 [800, 676, 710, 842, 912, 758, 759, 796, 893, 670, 831] 0.0301134091501\n",
        "49 [2980, 2917, 2930, 2903, 2904, 2879] 0.0296015499443\n",
        "50 [203, 198, 294, 199, 265, 170, 171, 109, 238, 239, 220, 117, 151, 283, 155, 156, 125] 0.0294929041819\n",
        "51 [3873, 3846, 3847, 3692, 4014, 3919, 3733, 3997] 0.0289128123598\n",
        "52 [3728, 3729, 3634, 3604, 3807] 0.0288401106105\n",
        "53 [2976, 3079, 3080, 2997, 3094, 2974, 3093] 0.0281867486957\n",
        "54 [2595, 2695, 2728, 2701, 2799, 2493, 2525] 0.0278250708574\n",
        "55 [257, 262, 286, 287, 288, 289, 291, 305, 168, 169, 301, 200, 201, 186, 191, 322, 328, 329, 331, 333, 217, 218, 102, 240, 242, 244, 121, 252] 0.0272182011807\n",
        "56 [2209, 2283, 2340, 2443, 2319, 2236] 0.02688191886\n",
        "57 [2825, 2891, 2892, 2893, 2992, 2901] 0.0267406223985\n",
        "58 [580, 421, 423, 458, 396, 465, 339, 376, 377, 506, 543, 412, 349, 542, 479] 0.0263554664627\n",
        "59 [1971, 1972, 1894, 1806, 1871] 0.02620332557\n",
        "60 [397, 922, 795, 669, 1056, 675, 549, 569, 1012, 830, 707, 708, 709, 967, 968, 461, 983, 600, 742, 1000, 879, 880, 1137, 628, 630, 631, 511] 0.0258607959681\n",
        "61 [1056, 1000, 983, 1012, 1137] 0.0258607959681\n",
        "62 [2641, 2516, 2546, 2640, 2840, 2610, 2515, 2642, 2743, 2744, 2617, 2719] 0.0257151401362\n",
        "63 [3616, 3777, 3778, 3717, 3782, 3755, 3756, 3535, 3600, 3635, 3730, 3731, 3732, 3797] 0.0256182101243\n",
        "64 [32, 66, 100, 50, 87, 56] 0.0255992955319\n",
        "65 [994, 932, 806, 904, 811, 1075, 894, 988, 734] 0.0255543648135\n",
        "66 [3617, 3939, 3846, 3687, 3884, 3757, 3955, 3733, 3606] 0.0255022962249\n",
        "67 [387, 356, 357, 358, 393, 432, 401, 441] 0.0253275488014\n",
        "68 [427, 741, 519, 485, 716, 717, 753, 383, 469, 566, 599, 667, 543] 0.0251843597363\n",
        "69 [2054, 2215, 2157, 2158, 2159, 2289, 2004, 2263] 0.0249732613562\n",
        "70 [3075, 3076, 2907, 2990, 3011, 2999, 3097, 3003, 3027] 0.024965614369\n",
        "71 [226, 228, 229, 138, 273, 274, 183, 184, 185, 316, 317, 261] 0.0241230102668\n",
        "72 [1440, 1249, 1542, 1441, 1383, 1260, 1198, 1361, 1341, 1342, 1439] 0.0240596754872\n",
        "73 [3203, 3176, 3177, 3069, 3101, 3071] 0.0239266948577\n",
        "74 [1986, 2211, 2311, 2088, 2312, 1928, 2195, 2421] 0.0239201583555\n",
        "75 [3560, 3501, 3533, 3504, 3420, 3485] 0.0238687776453\n",
        "76 [4035, 3960, 3944, 3767, 3865, 3890, 3950, 3855, 3856, 3857, 3442, 3924, 4118, 3575, 3576, 3769, 3770, 3675, 3678, 3679] 0.0235264987837\n",
        "77 [2186, 2191, 2302, 2182, 2087] 0.023400877071\n",
        "78 [2887, 2986, 3115, 3022, 3183, 2994, 3156, 3127, 2911, 3038, 3039] 0.0230750407911\n",
        "79 [3490, 3403, 3311, 3418, 3484, 3390] 0.0230182093564\n",
        "80 [3307, 3205, 3337, 3123, 3215, 3608, 3479, 3224, 3609, 3099, 2717, 3618, 3619, 3495, 3019, 3247, 3248, 3249, 3507, 3124, 3638, 3511, 3007, 3008, 3523, 3397, 3785, 3018, 3787, 3406, 3153, 3285, 3414, 3035, 2908, 3111, 2918, 3304, 3689, 3691, 2808, 2792, 3443, 3317, 3704, 3705, 3198, 3327] 0.0230045646463\n",
        "81 [1025, 1252, 1253, 1158, 1159, 1160, 1258, 1070, 1164, 1166, 1167, 1076, 1262] 0.022790723653\n",
        "82 [2819, 2888, 2987, 2894, 2608, 2710] 0.0223285297442\n",
        "83 [898, 899, 739, 809, 810, 907, 1026, 813, 909, 816, 835, 820, 917, 727, 852, 738, 986, 827, 890, 1023] 0.0221341025725\n",
        "84 [2663, 2765, 2867, 2868, 2805, 2813] 0.022120858352\n",
        "85 [1592, 1571, 1658, 1659, 1581] 0.0220738165095\n",
        "86 [3776, 3808, 3693, 3699, 3796, 3795, 3703, 3868, 3965] 0.0214871336189\n",
        "87 [1065, 1066, 1020, 978, 929] 0.0213239819295\n",
        "88 [2817, 2788, 2886, 2919, 2793, 2634, 2738, 2837, 2935, 2936, 2937, 3037] 0.0211535753598\n",
        "89 [2371, 2372, 2184, 2219, 2068, 2167, 2168, 2203, 2269, 2270] 0.0208240608304\n",
        "90 [1921, 2023, 2127, 1713, 1819, 1820, 1822, 1919] 0.0205333515789\n",
        "91 [2400, 2467, 2405, 2566, 2503, 2507, 2403, 2390, 2491, 2565] 0.0205003737321\n",
        "92 [3611, 3331, 3300, 3429, 3430, 3402, 3381, 3547, 3580, 3454, 3621] 0.020496226715\n",
        "93 [4032, 4039, 4051, 4026, 4027, 3934] 0.0203978297322\n",
        "94 [1788, 1885, 2076, 2221, 2109, 1909, 1910, 2011, 2204, 2077] 0.0199603867373\n",
        "95 [3712, 3838, 3682, 3840, 3748, 3781, 3814, 3879, 3815, 3630, 3750, 3749, 3794, 3886, 3905, 3867, 3839, 3869, 3870, 3711] 0.0199458802438\n",
        "96 [64, 99, 165, 166, 144, 52] 0.0198551311084\n",
        "97 [385, 590, 399, 532, 374, 468, 477] 0.0196439669341\n",
        "98 [547, 780, 619, 620, 622, 751, 483, 597, 694, 698, 947, 862] 0.0194565336232\n",
        "99 [1025, 898, 899, 900, 745, 907, 813, 818, 835, 820, 822, 891] 0.019446460764\n",
        "100 [3873, 4071, 4074, 3979, 4044, 4109, 4077, 3987, 4113, 3955, 4052, 3797, 4092, 3999] 0.0192872604194\n",
        "101 [456, 504, 505, 540, 457] 0.0192210072308\n",
        "102 [705, 706, 963, 966, 908, 875, 876, 877, 878, 755, 756, 757, 793, 824, 665] 0.0191654463137\n",
        "103 [1664, 1668, 1669, 1673, 1676, 1683, 1557, 1558, 1881, 1562, 1563, 1564, 1566, 1567, 1699, 1700, 1575, 1582, 1459, 1462, 1463, 1465, 1469, 1492, 1471, 1473, 1479, 1872, 1362, 1875, 1876, 1366, 1593, 1572, 1372, 1373, 1764, 1765, 1766, 1299, 1380, 1770, 1771, 1388, 1773, 1774, 1779, 1364, 1660, 1789, 1663] 0.0190775039026\n",
        "104 [1314, 1455, 1221, 1381, 1405] 0.0184969591698\n",
        "105 [1873, 2002, 2003, 1884, 1983] 0.0182978999632\n",
        "106 [484, 625, 489, 621, 561, 562, 503, 548] 0.0180671058071\n",
        "107 [2306, 2275, 2376, 2378, 2316, 2317, 2222, 2485] 0.0179875737293\n",
        "108 [1890, 2051, 2052, 1775, 1783, 1947] 0.0179246445629\n",
        "109 [2466, 2405, 2507, 2390, 2359, 2491] 0.0178772360042\n",
        "110 [672, 623, 784, 785, 699, 700] 0.0177220120529\n",
        "111 [1608, 1823, 1715, 1507, 1607] 0.0176013665502\n",
        "112 [1121, 1314, 1315, 1221, 1313] 0.0175063142465\n",
        "113 [1184, 1259, 1477, 1254, 1256, 1354, 1335, 1264, 1432, 1140, 1333, 1334, 1431, 1336, 1433, 1240, 1533, 1534] 0.0174006909248\n",
        "114 [3940, 3665, 3624, 3849, 3562, 3438, 3439, 3664, 3537, 3636, 3470, 3735, 3306, 3326] 0.0173949861682\n",
        "115 [3936, 3716, 3817, 3660, 3597, 3948, 3958] 0.0173280400667\n",
        "116 [3584, 3714, 3590, 3465, 3220, 3484, 3614, 3236, 3493, 3498, 3499, 3633, 3509, 3384, 3774, 3270, 3410, 3411, 3412, 3292, 3683, 3684, 3309, 3583] 0.0173280400667\n",
        "117 [1128, 1050, 1229, 1230, 1183] 0.0171896649872\n",
        "118 [1504, 1605, 1606, 1711, 1712, 1782, 1887] 0.0170243377438\n",
        "119 [736, 836, 746, 828, 750] 0.016781587155\n",
        "120 [3395, 3492, 3305, 3402, 3581, 3696, 3651, 3416, 3612, 3517, 3518] 0.0167785181987\n",
        "121 [897, 931, 1203, 1005, 1168, 1105, 819, 980] 0.016389382198\n",
        "122 [2304, 3077, 3436, 2826, 2572, 2573, 2574, 3222, 2968, 2969, 2970, 2971, 3491, 2472, 2217, 2730, 2870, 2871, 3387, 3210, 3138, 3139, 3012, 3142, 3276, 3277, 3405, 2264, 3322, 2666, 2667, 2668, 2669, 3368, 2425, 2426, 2814, 2303] 0.0161580004352\n",
        "123 [3147, 3334, 3239, 3144, 3145, 3146, 3371, 3468, 3469, 3278, 3280, 3281, 3090, 3081, 3191, 3192, 3193, 3325] 0.0159627481403\n",
        "124 [1704, 1811, 1813, 1685, 1703] 0.0159579412953\n",
        "125 [2360, 2258, 2284, 2314, 2295] 0.0153925622849\n",
        "126 [2745, 2746, 2643, 2644, 2847] 0.0152546322614\n",
        "127 [1825, 1923, 2341, 2024, 2026, 2444, 1999, 2000, 2130, 1718, 2238] 0.0148748728349\n",
        "128 [738, 835, 809, 899, 820, 727, 986, 735] 0.0148214652663\n",
        "129 [1187, 1386, 1387, 1453, 1454, 1556, 1274, 1279] 0.0147121423784\n",
        "130 [2796, 2829, 2680, 2681, 2780, 2781, 2878] 0.0146973233658\n",
        "131 [3235, 3175, 2890, 3186, 2961, 2962, 3065, 3067] 0.0146360455905\n",
        "132 [992, 993, 1282, 1093, 1281, 1276, 1378, 937, 1009, 1205, 1097, 1079, 1368, 1466, 1467, 1084, 1181, 1375] 0.0145869100693\n",
        "133 [896, 897, 930, 906, 1003, 894] 0.0144065516763\n",
        "134 [3072, 3073, 3203, 3204, 3209, 3486, 3363, 3237, 3366, 3367, 2989, 2868, 3385, 3136, 3271, 3272, 3273, 3274, 3419, 3365, 3433, 3434, 3435, 3180, 3196] 0.0143337303044\n",
        "135 [2384, 2593, 2432, 2533, 2489] 0.014184370098\n",
        "136 [3025, 2851, 2988, 2950, 2811] 0.0140956997292\n",
        "137 [2726, 2727, 2763, 2925, 2864, 2705, 3070, 3071] 0.0139635879653\n",
        "138 [263, 147, 148, 149, 150, 279, 280, 153, 154, 159, 162, 163, 164, 241, 306, 232, 194, 195, 196, 197, 70, 71, 72, 73, 74, 75, 334, 208, 209, 210, 219, 103, 104, 105, 236, 237, 110, 113, 115, 116, 119, 122] 0.0139524706651\n",
        "139 [353, 386, 481, 392, 430, 533, 440] 0.0137993217059\n",
        "140 [2914, 2824, 3026, 2965, 2966, 3096, 2907] 0.0137169993467\n",
        "141 [2601, 2541, 2542, 2543, 2544, 2420] 0.0135605148714\n",
        "142 [128, 129, 179, 180, 137] 0.0134105816207\n",
        "143 [3139, 3012, 2729, 2730, 2927, 2613, 2967, 2968, 2814, 3189] 0.0133376065296\n",
        "144 [576, 843, 677, 881, 490, 747, 491, 913, 759, 760, 633, 634, 635, 636, 575] 0.0131769284049\n",
        "145 [1489, 1490, 1548, 1549, 1653] 0.0131601169719\n",
        "146 [1120, 1121, 1123, 1222, 1223, 1095, 1046] 0.0129197739144\n",
        "147 [3713, 3463, 3464, 2957, 2958, 3267, 3360, 3233, 3362, 3752, 3632, 3773, 3134, 3659, 3654, 3655, 3658, 3531, 3234, 3286, 3553, 3554, 3555, 3557, 3558, 3431, 3432, 3060] 0.0129014886536\n",
        "148 [1602, 1603, 1481, 1709, 1396, 1500, 1501] 0.0126047440192\n",
        "149 [3622, 3587, 3549, 3550, 3551] 0.011845763512\n",
        "150 [704, 960, 962, 963, 964, 965, 961, 841, 874, 599, 754, 1231, 1051, 593, 626, 1129, 642, 873, 667, 668] 0.01181134903\n",
        "151 [2752, 2722, 2723, 2852, 2853, 2649, 2650, 2651] 0.0117796938707\n",
        "152 [3340, 3339, 3252, 3251, 3225] 0.0116980235695\n",
        "153 [3256, 3257, 3130, 3219, 3194] 0.0116479871395\n",
        "154 [2961, 2563, 2564, 2725, 2759, 2760, 2762, 2923, 2860, 2861, 2863, 2865, 2963, 2905, 3066, 2890, 2622] 0.0115708920045\n",
        "155 [2243, 2213, 2345, 2091, 2135, 2137, 2313] 0.0115157891377\n",
        "156 [1793, 2242, 1976, 1930, 1899, 2032, 2033, 2034, 2035, 2036, 2037, 2136, 2138] 0.0115157891377\n",
        "157 [928, 1060, 1062, 973, 974, 975, 885, 1017, 1018, 1148, 927] 0.0107868033381\n",
        "158 [3296, 3141, 3142, 3089, 3324, 3210, 3143, 3119, 2928, 3313, 3028, 3078, 3387, 3238, 3013] 0.0106935679555\n",
        "159 [1216, 1115, 1604, 1897, 1898, 1709, 1678, 1098, 1686, 1399, 1400, 1818, 1791, 1116, 1309, 1502, 1503] 0.0105601212434\n",
        "160 [4096, 4097, 4098, 4099, 4101, 4102, 4104, 4105, 4108, 4111, 4115, 4116, 4124, 4128, 3626, 4140, 4141, 4142, 4143, 4145, 4146, 4147, 4151, 4154, 3644, 3645, 3646, 3647, 3648, 4161, 3650, 4165, 3158, 3159, 3160, 3681, 3712, 3722, 3723, 3724, 3227, 3740, 3741, 3742, 3743, 3744, 3745, 3867, 3748, 3749, 3254, 3255, 3772, 3792, 3804, 3813, 2940, 3308, 2941, 3826, 3827, 3828, 3829, 3830, 3831, 3832, 3833, 3834, 3835, 4138, 3330, 3116, 3543, 3345, 3346, 3347, 2841, 2842, 2843, 2844, 3870, 3879, 3886, 3887, 3896, 3902, 3903, 3904, 3911, 3912, 3913, 3914, 3915, 3408, 3409, 3925, 3926, 3927, 3928, 3929, 3930, 3931, 3932, 3428, 3946, 4157, 3957, 3961, 3451, 3452, 3453, 2942, 2943, 3649, 3982, 3986, 3995, 3739, 4004, 4005, 4006, 3228, 4016, 4017, 4018, 4019, 4020, 4021, 4022, 4023, 4024, 4025, 3515, 3516, 4036, 4037, 3528, 4042, 4003, 4055, 3544, 3545, 3546, 3042, 3043, 3044, 3045, 3046, 3047, 4081, 4085, 4093] 0.0103197805092\n",
        "161 [1584, 1768, 1474, 1701, 1702] 0.0102191401841\n",
        "162 [1123, 1124, 1223, 872, 1226, 1224, 1046, 1048, 958] 0.0100513430212\n",
        "163 [2336, 2339, 2021, 2438, 2439, 2122, 2123, 2386, 1998, 2418, 2230, 2231, 2232, 2233, 2234, 2235, 2282, 2539, 2335] 0.0100079831806\n",
        "164 [1052, 1053, 1054, 1055, 1843, 1100, 1618, 1619, 1621, 1622, 1623, 1624, 1625, 1626, 1627, 1628, 1629, 1630, 1631, 1632, 1633, 1634, 1635, 1130, 1131, 1132, 1133, 1134, 1135, 1136, 1725, 1726, 1727, 1728, 1729, 1731, 1732, 1733, 1734, 1735, 1736, 1737, 1739, 1740, 1232, 1233, 1234, 1235, 1236, 1237, 1238, 1239, 1836, 1290, 1834, 1323, 1324, 1325, 1326, 1327, 1328, 1329, 1330, 1331, 1332, 1845, 1846, 1844, 1351, 1352, 1355, 1412, 1430, 1414, 1415, 1416, 1417, 1418, 1419, 1420, 1422, 1423, 1424, 1425, 1426, 1427, 1428, 1429, 1942, 1943, 997, 998, 1515, 1517, 1518, 1519, 1520, 1521, 1522, 1523, 1524, 1525, 1526, 1527, 1530, 2046] 0.00997653379933\n",
        "165 [864, 781, 782, 1039, 948, 696] 0.0097586933745\n",
        "166 [266, 174, 175, 212, 213, 221, 255] 0.00962668389536\n",
        "167 [3456, 3457, 3458, 3459, 3332, 2949, 2951, 2952, 2953, 3086, 3349, 3350, 3352, 3353, 3354, 2821, 3382, 3258, 3259, 3261, 3262, 3161, 3162, 3163, 3164, 3165, 3166, 3167, 3168, 3052, 3053, 3054, 3056, 3582] 0.0094112553096\n",
        "168 [673, 866, 867, 869, 1042, 786, 952, 953, 606] 0.00933081967955\n",
        "169 [770, 771, 1031, 1111, 940, 941, 854, 919, 856, 857, 858] 0.00916109158498\n",
        "170 [2146, 2459, 1901, 2460, 2252, 2044, 2254, 2557, 2354, 2355, 2357, 2457, 2555, 2556, 2621] 0.00890872143542\n",
        "171 [3343, 3344, 3542, 3448, 3449, 3450, 3226] 0.00881350405618\n",
        "172 [1536, 1537, 1538, 2051, 1540, 1541, 1544, 1559, 2052, 1057, 1058, 1059, 1060, 1061, 1063, 1434, 1089, 1637, 1638, 1639, 1640, 1641, 1642, 1643, 1644, 1645, 1646, 1647, 1648, 1140, 1142, 1143, 1144, 1145, 1146, 1147, 1661, 1680, 1561, 1690, 1950, 1742, 1743, 1745, 1746, 1747, 1748, 1750, 1751, 1752, 1241, 1242, 1243, 1244, 1245, 1246, 1247, 1248, 1259, 1775, 1777, 1784, 1797, 1798, 1799, 1333, 1334, 1335, 1336, 1849, 1850, 1339, 1853, 1854, 845, 1848, 1337, 1338, 1892, 1431, 1433, 1946, 1435, 1436, 1437, 1438, 1951, 1947, 1457, 926, 1476, 1478, 970, 972, 1486, 1014, 1015, 1016, 1017, 1534, 1535] 0.00878167826925\n",
        "173 [1922, 2341, 2342, 2343, 2025, 2027, 2131, 2100, 2133, 2132, 2238] 0.00807791980196\n",
        "174 [544, 545, 611, 487, 552, 492, 493, 392, 440, 442] 0.007427351739\n",
        "175 [1027, 1028, 1029, 938, 939, 1106] 0.00705157569935\n",
        "176 [320, 321, 614, 403, 404, 405, 407, 408, 410, 284, 554, 556, 557, 688, 689, 690, 444, 445, 318, 447, 448, 449, 327, 249, 612, 613, 230, 360, 361, 362, 363, 364, 494, 495, 497, 498, 499, 446, 617, 276, 319, 253, 277] 0.0070220121144\n",
        "177 [2464, 2465, 2724, 2755, 2692, 2855, 2856, 2958, 2257, 2323, 2756, 2560, 2559, 2656, 2714, 2655, 2654, 2463] 0.00668306249021\n",
        "178 [1283, 1390, 1391, 1494, 1495, 1596, 1597, 1598] 0.0066046960344\n",
        "179 [3202, 2916, 3238, 3014, 3143, 3144, 3278, 2993, 3028, 2902, 3089, 3078, 2972, 3013] 0.00636826755949\n",
        "180 [1929, 1688, 1560, 1689, 1831, 1832, 1833, 1580, 1456, 1722, 1723, 1724, 1483, 1613, 1614, 1485, 1616, 1376, 1508, 1510, 1382, 1511, 1512, 1513, 1900, 1406] 0.00595065355942\n"
       ]
      }
     ],
     "prompt_number": 263
    },
    {
     "cell_type": "code",
     "collapsed": false,
     "input": [
      "vis = visualize_multiple_clusters(union_cluster_union_clusters_sorted[:30])\n",
      "display(vis)"
     ],
     "language": "python",
     "metadata": {},
     "outputs": [
      {
       "html": [
        "<a href='tmp.jpg' target='_blank'>tmp.jpg</a><br>"
       ],
       "metadata": {},
       "output_type": "pyout",
       "prompt_number": 273,
       "text": [
        "/oasis/projects/nsf/csd181/yuncong/Brain/notebooks/tmp.jpg"
       ]
      }
     ],
     "prompt_number": 273
    },
    {
     "cell_type": "code",
     "collapsed": false,
     "input": [
      "c = union_cluster_union_clusters_sorted[24]\n",
      "compute_cluster_score2(c)\n",
      "vis = visualize_cluster(c)\n",
      "display(vis)"
     ],
     "language": "python",
     "metadata": {},
     "outputs": [
      {
       "output_type": "stream",
       "stream": "stdout",
       "text": [
        "cluster [2, 3, 4, 5, 7, 9, 17, 35]\n",
        "surrounds\n",
        "(2, 14, 0.080798851011450928, 0.019973816950259817, 0.060825034061191108)\n",
        "(3, 14, 0.14221090355673846, 0.012947776125424196, 0.12926312743131427)\n",
        "(4, 14, 0.040146238823784597, 0.022865682275563688, 0.017280556548220909)\n",
        "(5, 18, 0.24772294065131667, 0.020104667832053363, 0.22761827281926331)\n",
        "(7, 22, 0.16768271817882247, 0.045011183783801076, 0.12267153439502139)\n",
        "(9, 22, 0.11163265675219837, 0.034061553173924772, 0.077571103578273598)\n",
        "(17, 14, 0.14956929821109768, 0.022503504610090166, 0.1270657936010075)\n",
        "(35, 31, 0.10748592732226453, 0.010020955582113033, 0.097464971740151493)\n",
        "sig: 0.0401462388238 , surround: 0.0401462388238 , model: 0.00828592765803\n",
        "\n"
       ]
      },
      {
       "html": [
        "<a href='tmp.jpg' target='_blank'>tmp.jpg</a><br>"
       ],
       "metadata": {},
       "output_type": "pyout",
       "prompt_number": 274,
       "text": [
        "/oasis/projects/nsf/csd181/yuncong/Brain/notebooks/tmp.jpg"
       ]
      }
     ],
     "prompt_number": 274
    }
   ],
   "metadata": {}
  }
 ]
}