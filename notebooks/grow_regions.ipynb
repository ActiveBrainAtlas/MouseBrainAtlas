{
 "metadata": {
  "name": "",
  "signature": "sha256:8c911a47e2882308c94bf9781d871dbe660c70a03e83fc911ad5a906ab72ba0c"
 },
 "nbformat": 3,
 "nbformat_minor": 0,
 "worksheets": [
  {
   "cells": [
    {
     "cell_type": "code",
     "collapsed": false,
     "input": [
      "from utilities import *\n",
      "\n",
      "if 'SSH_CONNECTION' in os.environ:\n",
      "    DATA_DIR = '/home/yuncong/DavidData'\n",
      "    REPO_DIR = '/home/yuncong/Brain'\n",
      "else:\n",
      "    DATA_DIR = '/home/yuncong/BrainLocal/DavidData_v4'\n",
      "    REPO_DIR = '/home/yuncong/BrainSaliencyDetection'\n",
      "\n",
      "dm = DataManager(DATA_DIR, REPO_DIR)\n",
      "\n",
      "class args:\n",
      "    stack_name = 'RS141'\n",
      "    resolution = 'x5'\n",
      "    slice_ind = 2\n",
      "    gabor_params_id = 'blueNisslWide'\n",
      "    segm_params_id = 'blueNissl'\n",
      "    vq_params_id = 'blueNissl'\n",
      "\n",
      "dm.set_image(args.stack_name, args.resolution, args.slice_ind)\n",
      "dm.set_gabor_params(gabor_params_id=args.gabor_params_id)\n",
      "dm.set_segmentation_params(segm_params_id=args.segm_params_id)\n",
      "dm.set_vq_params(vq_params_id=args.vq_params_id)\n",
      "\n",
      "from joblib import Parallel, delayed\n",
      "\n",
      "n_texton = int(dm.vq_params['n_texton'])\n",
      "\n",
      "texton_hists = dm.load_pipeline_result('texHist', 'npy')\n",
      "\n",
      "cropped_segmentation = dm.load_pipeline_result('cropSegmentation', 'npy')\n",
      "n_superpixels = len(unique(cropped_segmentation)) - 1\n",
      "cropped_mask = dm.load_pipeline_result('cropMask', 'npy')\n",
      "\n",
      "textonmap = dm.load_pipeline_result('texMap', 'npy')\n",
      "neighbors = dm.load_pipeline_result('neighbors', 'npy')\n",
      "\n",
      "cropped_image = dm.load_pipeline_result('cropImg', 'tif')\n",
      "sp_properties = dm.load_pipeline_result('cropSpProps', 'npy')"
     ],
     "language": "python",
     "metadata": {},
     "outputs": [
      {
       "output_type": "stream",
       "stream": "stdout",
       "text": [
        "loaded /home/yuncong/DavidData/RS141/x5/0002/histResults/RS141_x5_0002_gabor-blueNisslWide-segm-blueNissl-vq-blueNissl_texHist.npy\n",
        "loaded /home/yuncong/DavidData/RS141/x5/0002/segmResults/RS141_x5_0002_gabor-blueNisslWide-segm-blueNissl_cropSegmentation.npy\n",
        "loaded /home/yuncong/DavidData/RS141/x5/0002/filterResults/RS141_x5_0002_gabor-blueNisslWide_cropMask.npy"
       ]
      },
      {
       "output_type": "stream",
       "stream": "stdout",
       "text": [
        "\n",
        "loaded /home/yuncong/DavidData/RS141/x5/0002/vqResults/RS141_x5_0002_gabor-blueNisslWide-vq-blueNissl_texMap.npy"
       ]
      },
      {
       "output_type": "stream",
       "stream": "stdout",
       "text": [
        "\n",
        "loaded /home/yuncong/DavidData/RS141/x5/0002/segmResults/RS141_x5_0002_gabor-blueNisslWide-segm-blueNissl_neighbors.npy\n",
        "loaded /home/yuncong/DavidData/RS141/x5/0002/filterResults/RS141_x5_0002_gabor-blueNisslWide_cropImg.tif"
       ]
      },
      {
       "output_type": "stream",
       "stream": "stdout",
       "text": [
        "\n",
        "loaded /home/yuncong/DavidData/RS141/x5/0002/segmResults/RS141_x5_0002_gabor-blueNisslWide-segm-blueNissl_cropSpProps.npy\n"
       ]
      }
     ],
     "prompt_number": 1
    },
    {
     "cell_type": "code",
     "collapsed": false,
     "input": [
      "from scipy.spatial.distance import cdist\n",
      "\n",
      "overall_texton_hist = np.bincount(textonmap[cropped_mask].flat, minlength=n_texton)\n",
      "overall_texton_hist_normalized = overall_texton_hist.astype(np.float) / overall_texton_hist.sum()\n",
      "D_sp_null = np.squeeze(cdist(texton_hists, [overall_texton_hist_normalized], chi2))"
     ],
     "language": "python",
     "metadata": {},
     "outputs": [
      {
       "output_type": "stream",
       "stream": "stderr",
       "text": [
        "utilities.py:427: RuntimeWarning: invalid value encountered in divide\n",
        "  r = np.nansum((u-v)**2/(u+v))\n"
       ]
      }
     ],
     "prompt_number": 2
    },
    {
     "cell_type": "code",
     "collapsed": false,
     "input": [
      "def compute_cluster_score(cluster, texton_hists, D_sp_null):\n",
      "    model = texton_hists[list(cluster)].mean(axis=0)\n",
      "    D_sp_model = np.squeeze(cdist([model], texton_hists[list(cluster)], chi2))\n",
      "    model_sum = np.sum(D_sp_model)\n",
      "    null_sum = np.sum(D_sp_null[list(cluster)])\n",
      "\n",
      "    # can be made weighted by superpixel size\n",
      "    \n",
      "    score = null_sum - model_sum\n",
      "    return score, null_sum, model_sum"
     ],
     "language": "python",
     "metadata": {},
     "outputs": [],
     "prompt_number": 3
    },
    {
     "cell_type": "code",
     "collapsed": false,
     "input": [
      "def grow_cluster(seed, neighbors, texton_hists, D_sp_null):\n",
      "    \n",
      "    curr_cluster = set([seed])\n",
      "    frontier = [seed]\n",
      "    \n",
      "    curr_cluster_score, _, curr_model_score = compute_cluster_score(curr_cluster, texton_hists, D_sp_null)\n",
      "    \n",
      "    while len(frontier) > 0:\n",
      "        u = frontier.pop(-1)\n",
      "        for v in neighbors[u]:\n",
      "            if v == -1 or v in curr_cluster: \n",
      "                continue\n",
      "\n",
      "            score_new, _, model_sum_new = compute_cluster_score(curr_cluster | set([v]), texton_hists, D_sp_null)\n",
      "            \n",
      "            if score_new > curr_cluster_score and model_sum_new - curr_model_score < 0.5 :\n",
      "                curr_cluster.add(v)\n",
      "                frontier.append(v)\n",
      "                curr_cluster_score, _, curr_model_score = compute_cluster_score(curr_cluster, texton_hists, D_sp_null)\n",
      "            \n",
      "            if len(curr_cluster) > 50:\n",
      "                return curr_cluster\n",
      "            \n",
      "    return curr_cluster"
     ],
     "language": "python",
     "metadata": {},
     "outputs": [],
     "prompt_number": 4
    },
    {
     "cell_type": "code",
     "collapsed": false,
     "input": [
      "cluster_sp = Parallel(n_jobs=16)(delayed(grow_cluster)(s, neighbors, texton_hists, D_sp_null) \n",
      "                                 for s in range(n_superpixels))\n",
      "cluster_sp = map(list, cluster_sp)\n",
      "\n",
      "dm.save_pipeline_result(cluster_sp, 'clusters', 'pkl')"
     ],
     "language": "python",
     "metadata": {},
     "outputs": [
      {
       "output_type": "stream",
       "stream": "stdout",
       "text": [
        "saved /home/yuncong/DavidData/RS141/x5/0002/sigboostResults/RS141_x5_0002_gabor-blueNisslWide-segm-blueNissl-vq-blueNissl_clusters.pkl\n"
       ]
      }
     ],
     "prompt_number": 5
    },
    {
     "cell_type": "code",
     "collapsed": false,
     "input": [],
     "language": "python",
     "metadata": {},
     "outputs": []
    }
   ],
   "metadata": {}
  }
 ]
}