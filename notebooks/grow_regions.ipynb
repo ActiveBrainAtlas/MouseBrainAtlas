{
 "metadata": {
  "name": "",
  "signature": "sha256:84a14331f84a5b0414004c928cd1dedbe420e61c3af5123d0e864af0ef5f65a7"
 },
 "nbformat": 3,
 "nbformat_minor": 0,
 "worksheets": [
  {
   "cells": [
    {
     "cell_type": "code",
     "collapsed": false,
     "input": [
      "%load_ext autoreload\n",
      "%autoreload 2"
     ],
     "language": "python",
     "metadata": {},
     "outputs": [],
     "prompt_number": 1
    },
    {
     "cell_type": "code",
     "collapsed": false,
     "input": [
      "from utilities import *\n",
      "\n",
      "if 'SSH_CONNECTION' in os.environ:\n",
      "    DATA_DIR = '/home/yuncong/DavidData'\n",
      "    REPO_DIR = '/home/yuncong/Brain'\n",
      "else:\n",
      "    DATA_DIR = '/home/yuncong/BrainLocal/DavidData_4'\n",
      "    REPO_DIR = '/home/yuncong/BrainSaliencyDetection'\n",
      "\n",
      "dm = DataManager(DATA_DIR, REPO_DIR)\n",
      "\n",
      "class args:\n",
      "    stack_name = 'RS141'\n",
      "    resolution = 'x5'\n",
      "    slice_ind = 1\n",
      "    gabor_params_id = 'blueNisslWide'\n",
      "    segm_params_id = 'blueNissl'\n",
      "    vq_params_id = 'blueNissl'\n",
      "\n",
      "dm.set_image(args.stack_name, args.resolution, args.slice_ind)\n",
      "dm.set_gabor_params(gabor_params_id=args.gabor_params_id)\n",
      "dm.set_segmentation_params(segm_params_id=args.segm_params_id)\n",
      "dm.set_vq_params(vq_params_id=args.vq_params_id)\n",
      "\n",
      "from joblib import Parallel, delayed\n",
      "\n",
      "n_texton = int(dm.vq_params['n_texton'])\n",
      "\n",
      "texton_hists = dm.load_pipeline_result('texHist', 'npy')\n",
      "\n",
      "cropped_segmentation = dm.load_pipeline_result('cropSegmentation', 'npy')\n",
      "n_superpixels = len(unique(cropped_segmentation)) - 1\n",
      "cropped_mask = dm.load_pipeline_result('cropMask', 'npy')\n",
      "\n",
      "textonmap = dm.load_pipeline_result('texMap', 'npy')\n",
      "neighbors = dm.load_pipeline_result('neighbors', 'npy')\n",
      "\n",
      "cropped_image = dm.load_pipeline_result('cropImg', 'tif')\n"
     ],
     "language": "python",
     "metadata": {},
     "outputs": [
      {
       "output_type": "stream",
       "stream": "stdout",
       "text": [
        "loaded /home/yuncong/DavidData/RS141/x5/0001/histResults/RS141_x5_0001_gabor-blueNisslWide-segm-blueNissl-vq-blueNissl_texHist.npy\n",
        "loaded /home/yuncong/DavidData/RS141/x5/0001/segmResults/RS141_x5_0001_gabor-blueNisslWide-segm-blueNissl_cropSegmentation.npy\n",
        "loaded /home/yuncong/DavidData/RS141/x5/0001/filterResults/RS141_x5_0001_gabor-blueNisslWide_cropMask.npy"
       ]
      },
      {
       "output_type": "stream",
       "stream": "stdout",
       "text": [
        "\n",
        "loaded /home/yuncong/DavidData/RS141/x5/0001/vqResults/RS141_x5_0001_gabor-blueNisslWide-vq-blueNissl_texMap.npy\n",
        "loaded /home/yuncong/DavidData/RS141/x5/0001/segmResults/RS141_x5_0001_gabor-blueNisslWide-segm-blueNissl_neighbors.npy"
       ]
      },
      {
       "output_type": "stream",
       "stream": "stdout",
       "text": [
        "\n",
        "loaded /home/yuncong/DavidData/RS141/x5/0001/filterResults/RS141_x5_0001_gabor-blueNisslWide_cropImg.tif"
       ]
      },
      {
       "output_type": "stream",
       "stream": "stdout",
       "text": [
        "\n"
       ]
      }
     ],
     "prompt_number": 5
    },
    {
     "cell_type": "code",
     "collapsed": false,
     "input": [
      "def grow_cluster_relative_entropy(seed, frontier_contrast_diff_thresh = 0.1, max_cluster_size = 100):\n",
      "    '''\n",
      "    find the connected cluster of superpixels that have similar texture, starting from a superpixel as seed\n",
      "    '''\n",
      "    \n",
      "    re_thresh_min = 0.1\n",
      "    re_thresh_max = 0.5\n",
      "    \n",
      "    prev_frontier_contrast = np.inf\n",
      "    for re_thresh in np.arange(re_thresh_min, re_thresh_max, .01):\n",
      "    \n",
      "        print 're_thresh=', re_thresh\n",
      "    \n",
      "        curr_cluster = set([seed])\n",
      "        frontier = [seed]\n",
      "\n",
      "        while len(frontier) > 0:\n",
      "            u = frontier.pop(-1)\n",
      "            for v in neighbors[u]:\n",
      "                if v == -1 or v in curr_cluster: \n",
      "                    continue\n",
      "\n",
      "#                 if chi2(texton_hists[v], texton_hists[seed]) < re_thresh:    \n",
      "\n",
      "                edge_v = chi2(texton_hists[v], texton_hists[list(curr_cluster)].mean(axis=0))\n",
      "#                 print 'u=', u, 'v=',v, 'edge_v = ', edge_v\n",
      "                \n",
      "                if edge_v < re_thresh:\n",
      "                    curr_cluster.add(v)\n",
      "#                     print 'added, curr_cluster=', curr_cluster\n",
      "\n",
      "                    frontier.append(v)\n",
      "        \n",
      "        surround = set.union(*[neighbors[i] for i in curr_cluster])\n",
      "        if len(surround) == 0:\n",
      "            return curr_cluster, re_thresh\n",
      "\n",
      "        frontier_in_cluster = set.intersection(set.union(*[neighbors[i] for i in surround]), curr_cluster)\n",
      "        frontier_contrasts = [np.nanmax([chi2(texton_hists[i], texton_hists[j]) for j in neighbors[i] if j != -1]) \n",
      "                              for i in frontier_in_cluster]\n",
      "        frontier_contrast = np.max(frontier_contrasts)\n",
      "        \n",
      "        print 'frontier_contrast=', frontier_contrast, 'prev_frontier_contrast=', prev_frontier_contrast, 'diff=', frontier_contrast - prev_frontier_contrast\n",
      "        \n",
      "        if len(curr_cluster) > max_cluster_size or \\\n",
      "        frontier_contrast - prev_frontier_contrast > frontier_contrast_diff_thresh:\n",
      "            return curr_cluster, re_thresh\n",
      "        \n",
      "        prev_frontier_contrast = frontier_contrast\n",
      "        prev_cluster = curr_cluster\n",
      "        prev_re_thresh = re_thresh\n",
      "                                \n",
      "    return curr_cluster, re_thresh\n",
      "\n",
      "\n",
      "# dm.save_pipeline_result(vis,'tmp','tif')\n",
      "\n",
      "def grow_cluster_likelihood_ratio(seed, lr_grow_thresh = 5):\n",
      "    '''\n",
      "    find the connected cluster of superpixels that are more likely to be explained by given model than by null, \n",
      "    starting from a superpixel as seed\n",
      "    '''\n",
      "    \n",
      "    curr_cluster = set([seed])    \n",
      "    frontier = [seed]\n",
      "        \n",
      "    while len(frontier) > 0:\n",
      "        u = frontier.pop(-1)\n",
      "        for v in neighbors[u]:\n",
      "            if v == -1 or v in curr_cluster or np.count_nonzero(cropped_segmentation==v) < 10:\n",
      "                continue\n",
      "            \n",
      "            texton_model = texton_hists[list(curr_cluster)].mean(axis=0)\n",
      "            \n",
      "            d = chi2(texton_hists[v], texton_model)\n",
      "            edge_v = len(curr_cluster)*(D_texton_null[v] - d)\n",
      "            print 'u=', u, 'v=',v, 'edge_v = ', edge_v\n",
      "            print 'd_null=', D_texton_null[v], 'd_model=', d\n",
      "            print 'curr_cluster=', curr_cluster\n",
      "            \n",
      "            if edge_v > lr_grow_thresh:\n",
      "                curr_cluster.add(v)\n",
      "                frontier.append(v)\n",
      "                                \n",
      "    return curr_cluster, texton_model"
     ],
     "language": "python",
     "metadata": {},
     "outputs": [],
     "prompt_number": 7
    },
    {
     "cell_type": "code",
     "collapsed": false,
     "input": [
      "from scipy.spatial.distance import cdist\n",
      "\n",
      "overall_texton_hist = np.bincount(textonmap[cropped_mask].flat)\n",
      "\n",
      "overall_texton_hist_normalized = overall_texton_hist.astype(np.float) / overall_texton_hist.sum()\n",
      "\n",
      "D_sp_null = np.squeeze(cdist(texton_hists, [overall_texton_hist_normalized], chi2))\n",
      "distance2null_map = D_sp_null[cropped_segmentation].copy()\n",
      "distance2null_map[~cropped_mask] = 0\n",
      "plt.matshow(distance2null_map)\n",
      "plt.colorbar()\n"
     ],
     "language": "python",
     "metadata": {},
     "outputs": [
      {
       "metadata": {},
       "output_type": "pyout",
       "prompt_number": 12,
       "text": [
        "<matplotlib.colorbar.Colorbar instance at 0x60ced88>"
       ]
      },
      {
       "metadata": {},
       "output_type": "display_data",
       "png": "[encoded data removed]",
       "text": [
        "<matplotlib.figure.Figure at 0x7213710>"
       ]
      }
     ],
     "prompt_number": 12
    },
    {
     "cell_type": "code",
     "collapsed": false,
     "input": [
      "model = texton_hists[list(cluster)].mean(axis=0)"
     ],
     "language": "python",
     "metadata": {},
     "outputs": [],
     "prompt_number": 9
    },
    {
     "cell_type": "code",
     "collapsed": false,
     "input": [
      "D_sp_model = np.squeeze(cdist([model], texton_hists[list(cluster)], chi2))"
     ],
     "language": "python",
     "metadata": {},
     "outputs": [],
     "prompt_number": 26
    },
    {
     "cell_type": "code",
     "collapsed": false,
     "input": [
      "score = np.sum(D_sp_null[list(cluster)] - D_sp_model)"
     ],
     "language": "python",
     "metadata": {},
     "outputs": [],
     "prompt_number": 29
    },
    {
     "cell_type": "code",
     "collapsed": false,
     "input": [
      "score"
     ],
     "language": "python",
     "metadata": {},
     "outputs": [
      {
       "metadata": {},
       "output_type": "pyout",
       "prompt_number": 30,
       "text": [
        "10.580723206909171"
       ]
      }
     ],
     "prompt_number": 30
    },
    {
     "cell_type": "code",
     "collapsed": false,
     "input": [
      "def compute_cluster_score(cluster):\n",
      "    model = texton_hists[list(cluster)].mean(axis=0)\n",
      "    D_sp_model = np.squeeze(cdist([model], texton_hists[list(cluster)], chi2))\n",
      "    score = np.sum(D_sp_null[list(cluster)] - D_sp_model)\n",
      "    return score"
     ],
     "language": "python",
     "metadata": {},
     "outputs": [],
     "prompt_number": 6
    },
    {
     "cell_type": "code",
     "collapsed": false,
     "input": [
      "cluster, re_thresh = grow_cluster_relative_entropy(2046)"
     ],
     "language": "python",
     "metadata": {},
     "outputs": [
      {
       "output_type": "stream",
       "stream": "stdout",
       "text": [
        "re_thresh= 0.1\n",
        "frontier_contrast= 1.79928054192 prev_frontier_contrast= inf diff= -inf\n",
        "re_thresh= 0.11\n",
        "frontier_contrast= 1.79928054192 prev_frontier_contrast= 1.79928054192 diff= 0.0\n",
        "re_thresh= 0.12\n",
        "frontier_contrast= 1.79928054192 prev_frontier_contrast= 1.79928054192 diff= 0.0\n",
        "re_thresh= 0.13\n",
        "frontier_contrast= 1.79928054192 prev_frontier_contrast= 1.79928054192 diff= 0.0\n",
        "re_thresh= 0.14\n",
        "frontier_contrast= 1.81386835622 prev_frontier_contrast= 1.79928054192 diff= 0.0145878143022\n",
        "re_thresh= 0.15\n",
        "frontier_contrast= 1.81386835622 prev_frontier_contrast= 1.81386835622 diff= 0.0\n",
        "re_thresh= 0.16\n",
        "frontier_contrast= 1.81386835622 prev_frontier_contrast= 1.81386835622 diff= 0.0\n",
        "re_thresh= 0.17\n",
        "frontier_contrast= 1.81386835622 prev_frontier_contrast= 1.81386835622 diff= 0.0\n",
        "re_thresh= 0.18\n",
        "frontier_contrast= 1.81386835622 prev_frontier_contrast= 1.81386835622 diff= 0.0\n",
        "re_thresh= 0.19\n",
        "frontier_contrast= 1.81386835622 prev_frontier_contrast= 1.81386835622 diff= 0.0\n",
        "re_thresh= 0.2\n",
        "frontier_contrast= 1.81386835622 prev_frontier_contrast= 1.81386835622 diff= 0.0\n",
        "re_thresh= 0.21\n",
        "frontier_contrast= 1.81386835622 prev_frontier_contrast= 1.81386835622 diff= 0.0\n",
        "re_thresh= 0.22\n",
        "frontier_contrast="
       ]
      },
      {
       "output_type": "stream",
       "stream": "stdout",
       "text": [
        " 1.81386835622 prev_frontier_contrast= 1.81386835622 diff= 0.0\n",
        "re_thresh= 0.23\n",
        "frontier_contrast= 1.81386835622 prev_frontier_contrast= 1.81386835622 diff= 0.0\n",
        "re_thresh= 0.24\n",
        "frontier_contrast= 1.81386835622 prev_frontier_contrast= 1.81386835622 diff= 0.0\n",
        "re_thresh= 0.25\n",
        "frontier_contrast= 1.81386835622 prev_frontier_contrast= 1.81386835622 diff= 0.0\n",
        "re_thresh= 0.26\n",
        "frontier_contrast= 1.81386835622 prev_frontier_contrast= 1.81386835622 diff= 0.0\n",
        "re_thresh= 0.27\n",
        "frontier_contrast= 1.81386835622 prev_frontier_contrast= 1.81386835622 diff= 0.0\n",
        "re_thresh= 0.28\n",
        "frontier_contrast="
       ]
      },
      {
       "output_type": "stream",
       "stream": "stdout",
       "text": [
        " 1.81386835622 prev_frontier_contrast= 1.81386835622 diff= 0.0\n",
        "re_thresh= 0.29\n",
        "frontier_contrast= 1.81386835622 prev_frontier_contrast= 1.81386835622 diff= 0.0\n",
        "re_thresh= 0.3\n",
        "frontier_contrast= 1.81386835622 prev_frontier_contrast= 1.81386835622 diff= 0.0\n",
        "re_thresh= 0.31\n",
        "frontier_contrast= 1.96168968274 prev_frontier_contrast= 1.81386835622 diff= 0.147821326515\n"
       ]
      },
      {
       "output_type": "stream",
       "stream": "stderr",
       "text": [
        "utilities.py:404: RuntimeWarning: invalid value encountered in divide\n",
        "  r = np.nansum((u-v)**2/(u+v))\n"
       ]
      }
     ],
     "prompt_number": 8
    },
    {
     "cell_type": "code",
     "collapsed": false,
     "input": [
      "cluster, re_thresh = grow_cluster_relative_entropy(2046)\n",
      "\n",
      "vis = paint_superpixels_on_image(cluster, cropped_segmentation, cropped_image)\n",
      "plt.imshow(vis)\n"
     ],
     "language": "python",
     "metadata": {},
     "outputs": []
    },
    {
     "cell_type": "code",
     "collapsed": false,
     "input": [
      "for c in cluster:\n",
      "    plt.bar(np.arange(n_texton), texton_hists[c], width=0.8, color='b', alpha=0.5)\n",
      "    plt.title('%d'%c)\n",
      "    plt.show()\n"
     ],
     "language": "python",
     "metadata": {},
     "outputs": []
    },
    {
     "cell_type": "code",
     "collapsed": false,
     "input": [],
     "language": "python",
     "metadata": {},
     "outputs": []
    },
    {
     "cell_type": "code",
     "collapsed": false,
     "input": [],
     "language": "python",
     "metadata": {},
     "outputs": []
    },
    {
     "cell_type": "code",
     "collapsed": false,
     "input": [
      "plt.bar(np.arange(n_texton), overall_texton_hist_normalized, width=0.8, color='b', alpha=0.5)\n",
      "plt.show()\n",
      "plt.bar(np.arange(n_texton), model, width=0.8, color='r', alpha=0.5)\n"
     ],
     "language": "python",
     "metadata": {},
     "outputs": []
    },
    {
     "cell_type": "code",
     "collapsed": false,
     "input": [
      "distance_diff_map = D_diff[cropped_segmentation].copy()\n",
      "distance_diff_map[~cropped_mask] = 0\n",
      "plt.matshow(distance_diff_map)\n",
      "plt.colorbar()"
     ],
     "language": "python",
     "metadata": {},
     "outputs": []
    },
    {
     "cell_type": "code",
     "collapsed": false,
     "input": [
      "hist, bin_edges = np.histogram(D_sp_model, bins=np.arange(0,2,0.01))\n",
      "plt.bar(bin_edges[:-1], hist, width=bin_edges[1]-bin_edges[0])\n",
      "\n",
      "hist, bin_edges = np.histogram(D_sp_model[list(cluster)], bins=np.arange(0,2,0.01))\n",
      "plt.bar(bin_edges[:-1], hist, width=bin_edges[1]-bin_edges[0], color='g')\n",
      "\n",
      "plt.xlabel('D_diff')"
     ],
     "language": "python",
     "metadata": {},
     "outputs": []
    }
   ],
   "metadata": {}
  }
 ]
}