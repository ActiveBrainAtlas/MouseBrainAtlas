{
 "metadata": {
  "name": "",
  "signature": "sha256:a1da2be9cff66150341c3742b27c04f6a7ebf59dfa5536948f4c478a19fa239c"
 },
 "nbformat": 3,
 "nbformat_minor": 0,
 "worksheets": [
  {
   "cells": [
    {
     "cell_type": "code",
     "collapsed": false,
     "input": [
      "from utilities import *\n",
      "from scipy.spatial.distance import cdist"
     ],
     "language": "python",
     "metadata": {},
     "outputs": [],
     "prompt_number": 2
    },
    {
     "cell_type": "code",
     "collapsed": false,
     "input": [
      "def compute_cluster_score(cluster, texton_hists, D_sp_null):\n",
      "    model = texton_hists[list(cluster)].mean(axis=0)\n",
      "    D_sp_model = np.squeeze(cdist([model], texton_hists[list(cluster)], chi2))\n",
      "    model_sum = np.sum(D_sp_model)\n",
      "    null_sum = np.sum(D_sp_null[list(cluster)])\n",
      "\n",
      "    # can be made weighted by superpixel size\n",
      "    \n",
      "    score = null_sum - model_sum\n",
      "    return score, null_sum, model_sum"
     ],
     "language": "python",
     "metadata": {},
     "outputs": [],
     "prompt_number": 111
    },
    {
     "cell_type": "code",
     "collapsed": false,
     "input": [
      "def grow_cluster(seed, neighbors, texton_hists, D_sp_null):\n",
      "    \n",
      "    curr_cluster = set([seed])\n",
      "    frontier = [seed]\n",
      "\n",
      "    while len(frontier) > 0:\n",
      "        u = frontier.pop(-1)\n",
      "        for v in neighbors[u]:\n",
      "            if v == -1 or v in curr_cluster: \n",
      "                continue\n",
      "\n",
      "            score_new, null_sum_new, model_sum_new = compute_cluster_score(curr_cluster | set([v]),  texton_hists, D_sp_null)\n",
      "            score_old, null_sum_old, model_sum_old = compute_cluster_score(curr_cluster,  texton_hists, D_sp_null)\n",
      "\n",
      "            if score_new > score_old and model_sum_new - model_sum_old < 0.5 :\n",
      "                curr_cluster.add(v)\n",
      "#                 print curr_cluster\n",
      "                frontier.append(v)\n",
      "                \n",
      "    return curr_cluster"
     ],
     "language": "python",
     "metadata": {},
     "outputs": []
    }
   ],
   "metadata": {}
  }
 ]
}