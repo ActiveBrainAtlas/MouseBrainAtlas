{
 "cells": [
  {
   "cell_type": "code",
   "execution_count": null,
   "metadata": {
    "collapsed": true
   },
   "outputs": [],
   "source": [
    "section_ind = 3\n",
    "locs = [np.load('/home/yuncong/csd395/top3LocsLm%dSect%d.npy'%(lm_ind, section_ind)) for lm_ind in range(6)]"
   ]
  },
  {
   "cell_type": "code",
   "execution_count": null,
   "metadata": {
    "collapsed": true
   },
   "outputs": [],
   "source": [
    "centroids = []\n",
    "for lm_ind in range(6):\n",
    "    segment_points = np.load('/home/yuncong/csd395/sample_landmark_%d.npy'%lm_ind)\n",
    "    centroid = np.mean(segment_points[:, [1,0]], axis=0)\n",
    "    centroids.append(centroid)\n",
    "\n",
    "centroids = np.array(centroids)"
   ]
  },
  {
   "cell_type": "code",
   "execution_count": null,
   "metadata": {
    "collapsed": true
   },
   "outputs": [],
   "source": [
    "def rigid_transform_from_pairs(X,Y):\n",
    "    '''\n",
    "    X, Y are n-by-2 matrices\n",
    "    Y = RX\n",
    "    '''\n",
    "    \n",
    "    Xcentroid = X.mean(axis=0)\n",
    "    Ycentroid = Y.mean(axis=0)\n",
    "    \n",
    "    Xcentered = X - Xcentroid\n",
    "    Ycentered = Y - Ycentroid\n",
    "    \n",
    "    U, S, V = np.linalg.svd(np.dot(Xcentered.T, Ycentered))\n",
    "    M = [[1, 0], [0, np.linalg.det(np.dot(V, U.T))]]\n",
    "    R = np.dot(V, np.dot(M, U.T))\n",
    "    angle = np.arctan2(R[1,0], R[0,0])\n",
    "    t = Ycentroid.T - np.dot(R, Xcentroid.T)\n",
    "    \n",
    "    T = np.eye(3)\n",
    "    T[:2, :2] = R\n",
    "    T[:2, 2] = t\n",
    "   \n",
    "    return T, angle\n",
    "\n",
    "def rigid_transform_to(pts1, T):\n",
    "    pts1_trans = np.dot(T, np.column_stack([pts1, np.ones((pts1.shape[0],))]).T).T\n",
    "    pts1_trans = pts1_trans[:,:2]/pts1_trans[:,-1][:,np.newaxis]\n",
    "    return pts1_trans\n"
   ]
  },
  {
   "cell_type": "code",
   "execution_count": null,
   "metadata": {
    "collapsed": true
   },
   "outputs": [],
   "source": [
    "n_inliers = []\n",
    "rewards = []\n",
    "Ts = []\n",
    "As = []\n",
    "all_matches = []\n",
    "for ransac_i in range(100):\n",
    "\n",
    "    lm_samples = np.random.randint(0,6,3)\n",
    "    samples = np.array([np.r_[locs[l][np.random.randint(0,3), :2], centroids[l]] for l in lm_samples]).astype(np.int)\n",
    "    T, a = rigid_transform_from_pairs(samples[:,:2], samples[:,2:])\n",
    "\n",
    "    n_inlier = 0\n",
    "    reward = 0\n",
    "    pairs = []\n",
    "    matches = []\n",
    "    for l in range(6):\n",
    "        vecs = rigid_transform_to(locs[l][:,:2], T) - centroids[l]\n",
    "        ds = np.sqrt(np.sum(vecs**2, axis=1))\n",
    "        nn = ds.argmin()\n",
    "        if ds[nn] < 300:\n",
    "            n_inlier += 1\n",
    "            reward += np.exp(-ds[nn]/400.)  # !!! use response map to evaluate goodness\n",
    "            matches.append((l,nn))\n",
    "            pairs.append(np.r_[locs[l][nn,:2], centroids[l]])\n",
    "            \n",
    "            \n",
    "    n_inliers.append(n_inlier)\n",
    "    rewards.append(reward)\n",
    "    \n",
    "    if len(pairs) > 0:            \n",
    "        pairs = np.array(pairs)\n",
    "        T, a = rigid_transform_from_pairs(pairs[:,:2], pairs[:,2:])\n",
    "        Ts.append(T)\n",
    "        As.append(a)\n",
    "        all_matches.append(matches)\n",
    "    else:\n",
    "        Ts.append(None)\n",
    "        As.append(None)\n",
    "        all_matches.append(None)\n",
    "        \n",
    "best_iter = np.argmax(rewards)\n",
    "\n",
    "print n_inliers[best_iter]\n",
    "print rewards[best_iter]\n",
    "print all_matches[best_iter]"
   ]
  },
  {
   "cell_type": "code",
   "execution_count": null,
   "metadata": {
    "collapsed": true
   },
   "outputs": [],
   "source": [
    "np.abs(As[best_iter] - thetas).argmin()"
   ]
  },
  {
   "cell_type": "code",
   "execution_count": null,
   "metadata": {
    "collapsed": true
   },
   "outputs": [],
   "source": [
    "colors = 'rgbkcy'\n",
    "for l in range(6):\n",
    "    plt.scatter(locs[l][:,1], locs[l][:,0], c=colors[l], s=50);\n",
    "    plt.scatter(centroids[l, 1], centroids[l, 0], marker='^', c=colors[l], s=50);\n",
    "    \n",
    "plt.show()"
   ]
  },
  {
   "cell_type": "code",
   "execution_count": null,
   "metadata": {
    "collapsed": true
   },
   "outputs": [],
   "source": [
    "colors = 'rgbkcy'\n",
    "for l in range(6):\n",
    "    tr = rigid_transform_to(locs[l][:,:2], Ts[best_iter])\n",
    "    plt.scatter(tr[:,1], tr[:,0], c=colors[l], s=50);\n",
    "    plt.scatter(centroids[l, 1], centroids[l, 0], marker='^', c=colors[l], s=50);\n",
    "    \n",
    "plt.show()"
   ]
  },
  {
   "cell_type": "code",
   "execution_count": null,
   "metadata": {
    "collapsed": true
   },
   "outputs": [],
   "source": [
    "from skimage.feature import peak_local_max\n",
    "\n",
    "peaks = peak_local_max(vs_max_smooth)\n",
    "ypeaks = peaks[:,0]\n",
    "xpeaks = peaks[:,1]\n",
    "\n",
    "order = np.argsort(vs_max_smooth[ypeaks, xpeaks])[::-1]\n",
    "ypeaks = ypeaks[order]\n",
    "xpeaks = xpeaks[order]\n",
    "\n",
    "\n",
    "bg_ubyte = img_as_ubyte(dm.image_rgb)\n",
    "\n",
    "for i, (ybest, xbest) in enumerate(zip(ypeaks, xpeaks)[:10]):\n",
    "\n",
    "    best_theta = vs_argmax[ybest, xbest]\n",
    "    \n",
    "    print ybest, xbest, vs_max[ybest, xbest], best_theta\n",
    "\n",
    "    shifted_ys_best = ybest + template_points_rotated_versions[best_theta][:,0]\n",
    "    shifted_xs_best = xbest + template_points_rotated_versions[best_theta][:,1]\n",
    "    \n",
    "    overlay = np.zeros_like(dm.image, np.bool)\n",
    "    overlay[shifted_ys_best, shifted_xs_best] = 1\n",
    "    overlay = binary_dilation(overlay, disk(5))\n",
    "    bg_ubyte[overlay] = [0,255,0]\n",
    "\n",
    "    cv2.putText(bg_ubyte, str(i), (xbest, ybest), \n",
    "                cv2.FONT_HERSHEY_SCRIPT_SIMPLEX, 3, ((255,0,255)), 10)\n",
    "\n",
    "display(bg_ubyte)"
   ]
  }
 ],
 "metadata": {
  "kernelspec": {
   "display_name": "Python 2",
   "language": "python",
   "name": "python2"
  },
  "language_info": {
   "codemirror_mode": {
    "name": "ipython",
    "version": 2
   },
   "file_extension": ".py",
   "mimetype": "text/x-python",
   "name": "python",
   "nbconvert_exporter": "python",
   "pygments_lexer": "ipython2",
   "version": "2.7.3"
  }
 },
 "nbformat": 4,
 "nbformat_minor": 0
}
