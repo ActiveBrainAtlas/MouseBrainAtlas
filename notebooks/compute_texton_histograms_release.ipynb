{
 "metadata": {
  "name": "",
  "signature": "sha256:e0370a36416c4e8237f221eabcef33ffd307f45fe08f5b0b0bb694ff8b89467b"
 },
 "nbformat": 3,
 "nbformat_minor": 0,
 "worksheets": [
  {
   "cells": [
    {
     "cell_type": "code",
     "collapsed": false,
     "input": [
      "from utilities import *\n",
      "\n",
      "if 'SSH_CONNECTION' in os.environ:\n",
      "    DATA_DIR = '/home/yuncong/DavidData'\n",
      "    REPO_DIR = '/home/yuncong/Brain'\n",
      "else:\n",
      "    DATA_DIR = '/home/yuncong/BrainLocal/DavidData_4'\n",
      "    REPO_DIR = '/home/yuncong/BrainSaliencyDetection'\n",
      "\n",
      "dm = DataManager(DATA_DIR, REPO_DIR)\n",
      "\n",
      "import argparse\n",
      "import sys\n",
      "\n",
      "parser = argparse.ArgumentParser(\n",
      "formatter_class=argparse.RawDescriptionHelpFormatter,\n",
      "description='Execute feature extraction pipeline',\n",
      "epilog=\"\"\"\n",
      "For example, one can run\n",
      "python %s RS141 x5 1 -g blueNissl -s blueNissl -v blueNissl\n",
      "\"\"\"%(os.path.basename(sys.argv[0]), ))\n",
      "\n",
      "parser.add_argument(\"stack_name\", type=str, help=\"stack name\")\n",
      "parser.add_argument(\"resolution\", type=str, help=\"resolution string\")\n",
      "parser.add_argument(\"slice_ind\", type=int, help=\"slice index\")\n",
      "parser.add_argument(\"-g\", \"--gabor_params_id\", type=str, help=\"gabor filter parameters id (default: %(default)s)\", default='blueNissl')\n",
      "parser.add_argument(\"-s\", \"--segm_params_id\", type=str, help=\"segmentation parameters id (default: %(default)s)\", default='blueNissl')\n",
      "parser.add_argument(\"-v\", \"--vq_params_id\", type=str, help=\"vq parameters id (default: %(default)s)\", default='blueNissl')\n",
      "args = parser.parse_args()"
     ],
     "language": "python",
     "metadata": {},
     "outputs": [],
     "prompt_number": 2
    },
    {
     "cell_type": "code",
     "collapsed": false,
     "input": [
      "dm.set_image(args.stack_name, args.resolution, args.slice_ind)\n",
      "dm.set_gabor_params(gabor_params_id=args.gabor_params_id)\n",
      "dm.set_segmentation_params(segm_params_id=args.segm_params_id)\n",
      "dm.set_vq_params(vq_params_id=args.vq_params_id)\n",
      "\n",
      "from joblib import Parallel, delayed\n",
      "\n",
      "n_texton = int(dm.vq_params['n_texton'])\n",
      "\n",
      "theta_interval = dm.gabor_params['theta_interval']\n",
      "n_angle = int(180/theta_interval)\n",
      "freq_step = dm.gabor_params['freq_step']\n",
      "freq_max = 1./dm.gabor_params['min_wavelen']\n",
      "freq_min = 1./dm.gabor_params['max_wavelen']\n",
      "n_freq = int(np.log(freq_max/freq_min)/np.log(freq_step)) + 1"
     ],
     "language": "python",
     "metadata": {},
     "outputs": [],
     "prompt_number": 3
    },
    {
     "cell_type": "code",
     "collapsed": false,
     "input": [
      "cropped_segmentation = dm.load_pipeline_result('cropSegmentation', 'npy')\n",
      "n_superpixels = len(np.unique(cropped_segmentation)) - 1\n",
      "cropped_mask = dm.load_pipeline_result('cropMask', 'npy')\n",
      "\n",
      "textonmap = dm.load_pipeline_result('texMap', 'npy')\n",
      "\n",
      "try:\n",
      "    sp_texton_hist_normalized = dm.load_pipeline_result('texHist', 'npy')\n",
      "\n",
      "except:\n",
      "    \n",
      "    def texton_histogram_worker(i):\n",
      "        return np.bincount(textonmap[(cropped_segmentation == i)&(textonmap != -1)], minlength=n_texton)\n",
      "\n",
      "    r = Parallel(n_jobs=16)(delayed(texton_histogram_worker)(i) for i in range(n_superpixels))\n",
      "    sp_texton_hist = np.array(r)\n",
      "    sp_texton_hist_normalized = sp_texton_hist.astype(np.float) / sp_texton_hist.sum(axis=1)[:, np.newaxis] # denom might be invalid\n",
      "    dm.save_pipeline_result(sp_texton_hist_normalized, 'texHist', 'npy')\n",
      "\n",
      "# compute the null texton histogram\n",
      "overall_texton_hist = np.bincount(textonmap[cropped_mask].flat)\n",
      "overall_texton_hist_normalized = overall_texton_hist.astype(np.float) / overall_texton_hist.sum()"
     ],
     "language": "python",
     "metadata": {},
     "outputs": [
      {
       "output_type": "stream",
       "stream": "stdout",
       "text": [
        "loaded /home/yuncong/DavidData/RS141/x5/0001/segmResults/RS141_x5_0001_gabor-blueNisslWide-segm-blueNissl_cropSegmentation.npy\n",
        "loaded /home/yuncong/DavidData/RS141/x5/0001/filterResults/RS141_x5_0001_gabor-blueNisslWide_cropMask.npy"
       ]
      },
      {
       "output_type": "stream",
       "stream": "stdout",
       "text": [
        "\n",
        "loaded /home/yuncong/DavidData/RS141/x5/0001/vqResults/RS141_x5_0001_gabor-blueNisslWide-vq-blueNissl_texMap.npy"
       ]
      },
      {
       "output_type": "stream",
       "stream": "stdout",
       "text": [
        "\n"
       ]
      },
      {
       "output_type": "stream",
       "stream": "stdout",
       "text": [
        "saved /home/yuncong/DavidData/RS141/x5/0001/histResults/RS141_x5_0001_gabor-blueNisslWide-segm-blueNissl-vq-blueNissl_texHist.npy\n"
       ]
      }
     ],
     "prompt_number": 4
    }
   ],
   "metadata": {}
  }
 ]
}