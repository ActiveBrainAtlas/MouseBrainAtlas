{
 "metadata": {
  "name": "",
  "signature": "sha256:b1e269dd5096a212dce1f5c78cea46e1e9de17b65d7f3ecfdb11981e18ec42d4"
 },
 "nbformat": 3,
 "nbformat_minor": 0,
 "worksheets": [
  {
   "cells": [
    {
     "cell_type": "code",
     "collapsed": false,
     "input": [
      "%load_ext autoreload\n",
      "%autoreload 2\n",
      "\n",
      "import sys\n",
      "sys.path.append('/home/yuncong/Brain/pipeline_scripts')\n",
      "from utilities2014 import *\n",
      "import os\n",
      "\n",
      "os.environ['GORDON_DATA_DIR'] = '/home/yuncong/project/DavidData2014tif/'\n",
      "os.environ['GORDON_REPO_DIR'] = '/home/yuncong/Brain'\n",
      "os.environ['GORDON_RESULT_DIR'] = '/home/yuncong/project/DavidData2014results/'\n",
      "os.environ['GORDON_LABELING_DIR'] = '/home/yuncong/project/DavidData2014labelings/'"
     ],
     "language": "python",
     "metadata": {},
     "outputs": [],
     "prompt_number": 1
    },
    {
     "cell_type": "code",
     "collapsed": false,
     "input": [
      "from networkx import floyd_warshall, Graph, connected_components"
     ],
     "language": "python",
     "metadata": {},
     "outputs": [],
     "prompt_number": 2
    },
    {
     "cell_type": "code",
     "collapsed": false,
     "input": [
      "G = Graph()\n",
      "\n",
      "for sec1 in range(0,29):\n",
      "    dm1 = DataManager(generate_hierarchy=False, stack='RS141', resol='x5', section=sec1)\n",
      "    matchings = dm1.load_pipeline_result('matchings%dWith%d'%(sec1, sec1+1), 'pkl')\n",
      "    for s,i,j in matchings:\n",
      "        G.add_edge((sec1,i),(sec1+1,j))\n",
      "        #     print sec1\n",
      "#     print [(i,j) for s,i,j in matchings]"
     ],
     "language": "python",
     "metadata": {},
     "outputs": [],
     "prompt_number": 3
    },
    {
     "cell_type": "code",
     "collapsed": false,
     "input": [
      "comps = connected_components(G)\n",
      "comps_sorted = sorted(comps, key = len, reverse=True)\n",
      "robust_comps = [sorted(c) for c in comps_sorted if len(c) >= 5]\n",
      "print len(robust_comps), 'robust landmarks identified'"
     ],
     "language": "python",
     "metadata": {},
     "outputs": [
      {
       "output_type": "stream",
       "stream": "stdout",
       "text": [
        "30 robust landmarks identified\n"
       ]
      }
     ],
     "prompt_number": 4
    },
    {
     "cell_type": "code",
     "collapsed": false,
     "input": [
      "robust_comps[0]"
     ],
     "language": "python",
     "metadata": {},
     "outputs": [
      {
       "metadata": {},
       "output_type": "pyout",
       "prompt_number": 7,
       "text": [
        "[(3, 34),\n",
        " (4, 34),\n",
        " (5, 30),\n",
        " (6, 34),\n",
        " (7, 32),\n",
        " (8, 30),\n",
        " (9, 31),\n",
        " (10, 39),\n",
        " (11, 30),\n",
        " (12, 36),\n",
        " (13, 30),\n",
        " (14, 33),\n",
        " (15, 34)]"
       ]
      }
     ],
     "prompt_number": 7
    },
    {
     "cell_type": "code",
     "collapsed": false,
     "input": [],
     "language": "python",
     "metadata": {},
     "outputs": []
    }
   ],
   "metadata": {}
  }
 ]
}