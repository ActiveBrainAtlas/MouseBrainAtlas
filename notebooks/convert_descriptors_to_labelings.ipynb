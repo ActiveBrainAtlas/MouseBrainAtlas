{
 "cells": [
  {
   "cell_type": "code",
   "execution_count": 1,
   "metadata": {
    "collapsed": true
   },
   "outputs": [],
   "source": [
    "import cPickle as pickle\n",
    "\n",
    "import os\n",
    "import sys\n",
    "\n",
    "from utilities2014 import *\n",
    "\n",
    "from itertools import product\n",
    "\n",
    "import matplotlib.pyplot as plt\n",
    "%matplotlib inline"
   ]
  },
  {
   "cell_type": "code",
   "execution_count": 2,
   "metadata": {
    "collapsed": true
   },
   "outputs": [],
   "source": [
    "landmark_indices = range(17)"
   ]
  },
  {
   "cell_type": "code",
   "execution_count": 3,
   "metadata": {
    "collapsed": true
   },
   "outputs": [],
   "source": [
    "from enum import Enum\n",
    "class PolygonType(Enum):\n",
    "    CLOSED = 'closed'\n",
    "    OPEN = 'open'\n",
    "    TEXTURE = 'textured'\n",
    "    TEXTURE_WITH_CONTOUR = 'texture with contour'\n",
    "    DIRECTION = 'directionality'"
   ]
  },
  {
   "cell_type": "code",
   "execution_count": 89,
   "metadata": {
    "collapsed": false,
    "scrolled": true
   },
   "outputs": [
    {
     "name": "stdout",
     "output_type": "stream",
     "text": [
      "0\n",
      "1\n",
      "2\n",
      "3\n",
      "4\n",
      "5\n",
      "6\n",
      "7\n",
      "8\n",
      "9\n",
      "10\n",
      "11\n",
      "12\n",
      "13\n",
      "14\n",
      "15\n",
      "16\n"
     ]
    }
   ],
   "source": [
    "final_polygons = []\n",
    "\n",
    "for lm_ind in landmark_indices:\n",
    "    print lm_ind\n",
    "    \n",
    "    with open('/home/yuncong/csd395/RS141_0007_hector_08212015023433_landmark_descriptors_%d.pkl'%lm_ind, 'r') as f:\n",
    "        new_landmark_descriptor = pickle.load(f)\n",
    "        \n",
    "        if new_landmark_descriptor['striation_vertices_all_polygons_global'] is not None:\n",
    "            striation_polygons = [(lm_ind, PolygonType.DIRECTION, vs) if not np.all(vs[0]==vs[-1])\n",
    "                                  else (lm_ind, PolygonType.DIRECTION, vs[:-1])\n",
    "                                  for vs in new_landmark_descriptor['striation_vertices_all_polygons_global']]\n",
    "        else:\n",
    "            striation_polygons = []\n",
    "            \n",
    "        if new_landmark_descriptor['boundary_vertices_all_polygons_global'] is not None:\n",
    "            boundary_polygons = [(lm_ind, PolygonType.OPEN, vs) if not np.all(vs[0]==vs[-1])\n",
    "                                  else (lm_ind, PolygonType.OPEN, vs[:-1])\n",
    "                                 for vs in new_landmark_descriptor['boundary_vertices_all_polygons_global']]\n",
    "        else:\n",
    "            boundary_polygons = []\n",
    "            \n",
    "        if new_landmark_descriptor['textured_area_vertices_all_polygons_global'] is not None:\n",
    "            textured_area_polygons = [(lm_ind, PolygonType.TEXTURE, vs) if not np.all(vs[0]==vs[-1])\n",
    "                                  else (lm_ind, PolygonType.TEXTURE, vs[:-1])\n",
    "                                 for vs in new_landmark_descriptor['textured_area_vertices_all_polygons_global']]\n",
    "        else:\n",
    "            textured_area_polygons = []\n",
    "    \n",
    "    final_polygons += striation_polygons + boundary_polygons + textured_area_polygons\n"
   ]
  },
  {
   "cell_type": "code",
   "execution_count": 71,
   "metadata": {
    "collapsed": true
   },
   "outputs": [],
   "source": [
    "atlas_labeling_name = 'RS141_0001_yuncong_08212015001655'"
   ]
  },
  {
   "cell_type": "code",
   "execution_count": 72,
   "metadata": {
    "collapsed": false
   },
   "outputs": [],
   "source": [
    "import datetime\n",
    "\n",
    "with open(os.environ['GORDON_LABELING_DIR']+'/RS141/0001/%s.pkl'%atlas_labeling_name, 'r') as f:\n",
    "    labelings = pickle.load(f)"
   ]
  },
  {
   "cell_type": "code",
   "execution_count": 90,
   "metadata": {
    "collapsed": false
   },
   "outputs": [],
   "source": [
    "new_labeling = dict([])\n",
    "new_labeling['parent_labeling_name'] = None\n",
    "new_labeling['login_time'] = None\n",
    "new_labeling['initial_polygons'] = None\n",
    "new_labeling['labelnames'] = labelings['labelnames']\n",
    "new_labeling['logout_time'] = datetime.datetime.now().strftime(\"%m%d%Y%H%M%S\")\n",
    "new_labeling['final_polygons'] = final_polygons\n",
    "new_labeling['username'] = 'hector'\n",
    "\n",
    "new_labeling_name = new_labeling['username'] + '_' + new_labeling['logout_time']"
   ]
  },
  {
   "cell_type": "code",
   "execution_count": 91,
   "metadata": {
    "collapsed": false
   },
   "outputs": [
    {
     "name": "stdout",
     "output_type": "stream",
     "text": [
      "Labeling saved to /oasis/projects/nsf/csd181/yuncong/DavidData2014labelings/RS141/0007/RS141_0007_hector_08212015024844.pkl\n",
      "Preview saved to /oasis/projects/nsf/csd181/yuncong/DavidData2014labelings/RS141/0007/RS141_0007_hector_08212015024844.jpg\n"
     ]
    },
    {
     "name": "stderr",
     "output_type": "stream",
     "text": [
      "/oasis/projects/nsf/csd181/yuncong/virtualenv-1.9.1/yuncongve/lib/python2.7/site-packages/skimage/io/_io.py:159: UserWarning: /oasis/projects/nsf/csd181/yuncong/DavidData2014labelings/RS141/0007/RS141_0007_hector_08212015024844.jpg is a low contrast image\n",
      "  warnings.warn('%s is a low contrast image' % fname)\n"
     ]
    }
   ],
   "source": [
    "dm = DataManager(generate_hierarchy=False, stack='RS141', resol='x5', section=7)\n",
    "dm._load_image()\n",
    "labelmap_vis = np.zeros_like(dm.image_rgb)\n",
    "new_labeling_fn = dm.save_labeling(new_labeling, new_labeling_name, labelmap_vis)"
   ]
  },
  {
   "cell_type": "code",
   "execution_count": null,
   "metadata": {
    "collapsed": true
   },
   "outputs": [],
   "source": []
  }
 ],
 "metadata": {
  "kernelspec": {
   "display_name": "Python 2",
   "language": "python",
   "name": "python2"
  },
  "language_info": {
   "codemirror_mode": {
    "name": "ipython",
    "version": 2
   },
   "file_extension": ".py",
   "mimetype": "text/x-python",
   "name": "python",
   "nbconvert_exporter": "python",
   "pygments_lexer": "ipython2",
   "version": "2.7.3"
  }
 },
 "nbformat": 4,
 "nbformat_minor": 0
}
