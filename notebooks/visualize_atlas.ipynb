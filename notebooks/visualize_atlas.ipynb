{
 "cells": [
  {
   "cell_type": "code",
   "execution_count": 4,
   "metadata": {
    "collapsed": true
   },
   "outputs": [],
   "source": [
    "%load_ext autoreload\n",
    "%autoreload 2\n",
    "\n",
    "import os\n",
    "import time\n",
    "import sys\n",
    "\n",
    "from utilities2014 import *\n",
    "\n",
    "sys.path.append('/home/yuncong/project/opencv-2.4.9/release/lib/python2.7/site-packages')\n",
    "import cv2\n",
    "\n",
    "from joblib import Parallel, delayed\n",
    "\n",
    "from collections import defaultdict, Counter\n",
    "from itertools import combinations, chain, product\n",
    "\n",
    "import matplotlib.pyplot as plt\n",
    "%matplotlib inline"
   ]
  },
  {
   "cell_type": "code",
   "execution_count": 3,
   "metadata": {
    "collapsed": true
   },
   "outputs": [],
   "source": [
    "import cPickle as pickle"
   ]
  },
  {
   "cell_type": "code",
   "execution_count": 5,
   "metadata": {
    "collapsed": true
   },
   "outputs": [],
   "source": [
    "from enum import Enum\n",
    "\n",
    "class PolygonType(Enum):\n",
    "    CLOSED = 'closed'\n",
    "    OPEN = 'open'\n",
    "    TEXTURE = 'textured'\n",
    "    TEXTURE_WITH_CONTOUR = 'texture with contour'\n",
    "    DIRECTION = 'directionality'"
   ]
  },
  {
   "cell_type": "code",
   "execution_count": 6,
   "metadata": {
    "collapsed": true
   },
   "outputs": [],
   "source": [
    "thetas = np.linspace(-np.pi/4, np.pi/4, 9)\n",
    "n_theta = len(thetas)\n",
    "Rs = [np.array([[np.cos(theta), np.sin(theta)], [-np.sin(theta), np.cos(theta)]]) for theta in thetas]"
   ]
  },
  {
   "cell_type": "code",
   "execution_count": 7,
   "metadata": {
    "collapsed": true
   },
   "outputs": [],
   "source": [
    "landmark_indices = range(17)"
   ]
  },
  {
   "cell_type": "code",
   "execution_count": 15,
   "metadata": {
    "collapsed": false
   },
   "outputs": [],
   "source": [
    "vertices_name = {PolygonType.OPEN: 'boundary_vertices_global',\n",
    "PolygonType.CLOSED: 'boundary_vertices_global',\n",
    "PolygonType.DIRECTION: 'striation_points_global',\n",
    "PolygonType.TEXTURE: 'textured_area_vertices_global',\n",
    "PolygonType.TEXTURE_WITH_CONTOUR: 'textured_area_vertices_global'\n",
    "}"
   ]
  },
  {
   "cell_type": "code",
   "execution_count": 18,
   "metadata": {
    "collapsed": false
   },
   "outputs": [
    {
     "name": "stdout",
     "output_type": "stream",
     "text": [
      "0\n",
      "1\n",
      "2\n",
      "3\n",
      "4\n",
      "5\n",
      "6\n",
      "7\n",
      "8\n",
      "9\n",
      "10\n",
      "11\n",
      "12\n",
      "13\n",
      "14\n",
      "15\n",
      "16\n"
     ]
    }
   ],
   "source": [
    "landmark_polygons = {}\n",
    "for lm_ind in landmark_indices:\n",
    "    print lm_ind\n",
    "    \n",
    "    with open('/home/yuncong/csd395/landmark_descriptors/RS141_0001_yuncong_08212015001655_landmark_descriptors_%d.pkl'%lm_ind, 'r') as f:\n",
    "        landmark_polygons[lm_ind] = pickle.load(f)[4]['polygons']\n",
    "    \n",
    "#     landmark_polygons[lm_ind] = [(p['type'], p[vertices_name[p['type']]]) for p in polygons]"
   ]
  },
  {
   "cell_type": "code",
   "execution_count": 20,
   "metadata": {
    "collapsed": false
   },
   "outputs": [
    {
     "name": "stderr",
     "output_type": "stream",
     "text": [
      "/oasis/projects/nsf/csd181/yuncong/virtualenv-1.9.1/yuncongve/lib/python2.7/site-packages/skimage/filter/__init__.py:6: skimage_deprecation: The `skimage.filter` module has been renamed to `skimage.filters`.  This placeholder module will be removed in v0.13.\n",
      "  warn(skimage_deprecation('The `skimage.filter` module has been renamed '\n"
     ]
    }
   ],
   "source": [
    "dm = DataManager(generate_hierarchy=False, stack='RS141', resol='x5', section=1)\n",
    "dm._load_image()"
   ]
  },
  {
   "cell_type": "code",
   "execution_count": 21,
   "metadata": {
    "collapsed": true
   },
   "outputs": [],
   "source": [
    "colors = (np.loadtxt(os.environ['GORDON_REPO_DIR'] + '/visualization/100colors.txt', skiprows=1) * 255).astype(np.int)"
   ]
  },
  {
   "cell_type": "code",
   "execution_count": 25,
   "metadata": {
    "collapsed": true
   },
   "outputs": [],
   "source": [
    "import cv2\n",
    "\n",
    "def visualize_atlas(landmark_polygons):\n",
    "    '''\n",
    "    Visualize the atlas with landmarks in original orientation\n",
    "    '''\n",
    "    \n",
    "    canvas_size = np.load(os.environ['GORDON_RESULT_DIR'] + '/paddedSize.npy')\n",
    "    origin_on_canvas = dm.load_pipeline_result('originPosOnCanvas', 'npy')\n",
    "    \n",
    "    viz = 255 * np.ones(np.r_[canvas_size, 3], np.uint8)\n",
    "    viz[::20, :] = 0\n",
    "    viz[:, ::20] = 0\n",
    "\n",
    "    for label, polygons in landmark_polygons.iteritems():\n",
    "        for polygon in polygons:\n",
    "            ptype = polygon['type']\n",
    "            \n",
    "            if ptype == PolygonType.OPEN or ptype == PolygonType.CLOSED:\n",
    "                pts_canvas = polygon['boundary_vertices_global'] + origin_on_canvas\n",
    "                for x,y in pts_canvas.astype(np.int):\n",
    "                    cv2.circle(viz, (x,y), 5, colors[label], -1)\n",
    "\n",
    "            elif ptype == PolygonType.TEXTURE or ptype == PolygonType.TEXTURE_WITH_CONTOUR:\n",
    "                pts_canvas = polygon['textured_area_vertices_global'] + origin_on_canvas\n",
    "                for x,y in pts_canvas.astype(np.int):\n",
    "                    cv2.circle(viz, (x,y), 5, colors[label], -1)\n",
    "    #             viz[pts_canvas[:,1], pts_canvas[:,0]] = (0,255,0)\n",
    "\n",
    "            elif ptype == PolygonType.DIRECTION:\n",
    "                pts_canvas = polygon['striation_points_global'] + origin_on_canvas\n",
    "\n",
    "                vecs = polygon['striation_vecs']\n",
    "                for x,y in pts_canvas.astype(np.int):\n",
    "                    cv2.circle(viz, (x,y), 5, colors[label], -1)\n",
    "\n",
    "                length = 50.\n",
    "                ends = (pts_canvas + length * np.c_[vecs[:,1], -vecs[:,0]]).astype(np.int)\n",
    "                for end, (x,y) in zip(ends, pts_canvas.astype(np.int)):\n",
    "                    cv2.line(viz, (x,y), tuple(end), colors[label], thickness=2, lineType=8, shift=0)\n",
    "                \n",
    "    return viz"
   ]
  },
  {
   "cell_type": "code",
   "execution_count": 26,
   "metadata": {
    "collapsed": false
   },
   "outputs": [
    {
     "data": {
      "text/html": [
       "<a href='tmp.jpg' target='_blank'>tmp.jpg</a><br>"
      ],
      "text/plain": [
       "/oasis/projects/nsf/csd395/yuncong/Brain/notebooks/tmp.jpg"
      ]
     },
     "execution_count": 26,
     "metadata": {},
     "output_type": "execute_result"
    }
   ],
   "source": [
    "atlas_viz = visualize_atlas(landmark_polygons)\n",
    "display(atlas_viz)"
   ]
  },
  {
   "cell_type": "code",
   "execution_count": 34,
   "metadata": {
    "collapsed": false
   },
   "outputs": [
    {
     "name": "stdout",
     "output_type": "stream",
     "text": [
      "0\n",
      "1\n",
      "2\n",
      "3\n",
      "4\n",
      "5\n",
      "6\n",
      "7\n",
      "8\n",
      "9\n",
      "10\n",
      "11\n",
      "12\n",
      "13\n",
      "14\n",
      "15\n",
      "16\n"
     ]
    }
   ],
   "source": [
    "landmark_vertices = {}\n",
    "for lm_ind in landmark_indices:\n",
    "    print lm_ind\n",
    "    \n",
    "    with open('/home/yuncong/csd395/landmark_descriptors/RS141_0001_yuncong_08212015001655_landmark_descriptors_%d.pkl'%lm_ind, 'r') as f:\n",
    "        landmark_polygons = pickle.load(f)[4]        \n",
    "    landmark_vertices[lm_ind] = [landmark_polygons['boundary_vertices_global'], landmark_polygons['striation_points_global'], landmark_polygons['textured_area_vertices_global']]"
   ]
  },
  {
   "cell_type": "code",
   "execution_count": 43,
   "metadata": {
    "collapsed": true
   },
   "outputs": [],
   "source": [
    "def visualize_atlas(landmark_vertices):\n",
    "    '''\n",
    "    Visualize the atlas with landmarks in original orientation\n",
    "    '''\n",
    "    \n",
    "    canvas_size = np.load(os.environ['GORDON_RESULT_DIR'] + '/paddedSize.npy')\n",
    "    origin_on_canvas = dm.load_pipeline_result('originPosOnCanvas', 'npy')\n",
    "    \n",
    "    viz = 255 * np.ones(np.r_[canvas_size, 3], np.uint8)\n",
    "    viz[::20, :] = 0\n",
    "    viz[:, ::20] = 0\n",
    "\n",
    "    for label, (boundary_vertices, striation_vertices, textured_area_vertices) in landmark_vertices.iteritems():\n",
    "        if len(boundary_vertices) > 0:\n",
    "            pts_canvas = boundary_vertices + origin_on_canvas\n",
    "            for x,y in pts_canvas.astype(np.int):\n",
    "                cv2.circle(viz, (x,y), 5, colors[label], -1)\n",
    "        \n",
    "        if len(striation_vertices) > 0:\n",
    "            pts_canvas = striation_vertices + origin_on_canvas\n",
    "            for x,y in pts_canvas.astype(np.int):\n",
    "                cv2.circle(viz, (x,y), 5, colors[label], -1)\n",
    "        \n",
    "        if len(textured_area_vertices) > 0:        \n",
    "            pts_canvas = textured_area_vertices + origin_on_canvas\n",
    "            for x,y in pts_canvas.astype(np.int):\n",
    "                cv2.circle(viz, (x,y), 5, colors[label], -1)\n",
    "                \n",
    "    return viz"
   ]
  },
  {
   "cell_type": "code",
   "execution_count": 44,
   "metadata": {
    "collapsed": false
   },
   "outputs": [
    {
     "data": {
      "text/html": [
       "<a href='tmp.jpg' target='_blank'>tmp.jpg</a><br>"
      ],
      "text/plain": [
       "/oasis/projects/nsf/csd395/yuncong/Brain/notebooks/tmp.jpg"
      ]
     },
     "execution_count": 44,
     "metadata": {},
     "output_type": "execute_result"
    }
   ],
   "source": [
    "atlas_viz = visualize_atlas(landmark_vertices)\n",
    "display(atlas_viz)"
   ]
  },
  {
   "cell_type": "code",
   "execution_count": 27,
   "metadata": {
    "collapsed": true
   },
   "outputs": [],
   "source": [
    "imsave(os.environ['GORDON_RESULT_DIR'] + '/atlas_viz.jpg', atlas_viz)"
   ]
  },
  {
   "cell_type": "code",
   "execution_count": 28,
   "metadata": {
    "collapsed": true
   },
   "outputs": [],
   "source": [
    "atlas_origin_on_canvas = DataManager(generate_hierarchy=False, stack='RS141', resol='x5', section=1).load_pipeline_result('originPosOnCanvas','npy')\n",
    "np.save(os.environ['GORDON_RESULT_DIR'] + '/atlas_origin_on_canvas.npy', atlas_origin_on_canvas)"
   ]
  },
  {
   "cell_type": "code",
   "execution_count": null,
   "metadata": {
    "collapsed": true
   },
   "outputs": [],
   "source": [
    "# vis_overlay_alpha = np.ones(viz_overlay.shape[:2])\n",
    "# vis_overlay_alpha[np.all(viz_overlay == 0, axis=-1)] = 0.\n",
    "\n",
    "# viz = alpha_blending(dm.image_rgb, img_as_float(viz_overlay), .3, vis_overlay_alpha)\n",
    "# # viz = alpha_blending(np.ones_like(dm.image_rgb), img_as_float(viz_overlay), .3, vis_overlay_alpha)\n",
    "# display(viz)"
   ]
  }
 ],
 "metadata": {
  "kernelspec": {
   "display_name": "Python 2",
   "language": "python",
   "name": "python2"
  },
  "language_info": {
   "codemirror_mode": {
    "name": "ipython",
    "version": 2
   },
   "file_extension": ".py",
   "mimetype": "text/x-python",
   "name": "python",
   "nbconvert_exporter": "python",
   "pygments_lexer": "ipython2",
   "version": "2.7.3"
  }
 },
 "nbformat": 4,
 "nbformat_minor": 0
}
