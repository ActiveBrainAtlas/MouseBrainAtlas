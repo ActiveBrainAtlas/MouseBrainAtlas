{
 "cells": [
  {
   "cell_type": "code",
   "execution_count": 1,
   "metadata": {
    "collapsed": true
   },
   "outputs": [],
   "source": [
    "%reload_ext autoreload\n",
    "%autoreload 2"
   ]
  },
  {
   "cell_type": "code",
   "execution_count": 2,
   "metadata": {
    "collapsed": true
   },
   "outputs": [],
   "source": [
    "import os\n",
    "import sys\n",
    "\n",
    "from utilities2015 import *\n",
    "\n",
    "import time\n",
    "\n",
    "from scipy.spatial.distance import cdist, pdist, squareform\n",
    "from scipy.cluster.hierarchy import average, fcluster, single, complete\n",
    "\n",
    "from joblib import Parallel, delayed\n",
    "\n",
    "from skimage.color import gray2rgb\n",
    "from skimage.measure import find_contours\n",
    "from skimage.util import img_as_float\n",
    "\n",
    "import matplotlib.pyplot as plt\n",
    "%matplotlib inline\n",
    "\n",
    "sys.path.append('/home/yuncong/project/opencv-2.4.9/release/lib/python2.7/site-packages')\n",
    "import cv2\n",
    "\n",
    "from networkx import from_dict_of_lists, Graph, adjacency_matrix, dfs_postorder_nodes\n",
    "from networkx.algorithms import node_connected_component"
   ]
  },
  {
   "cell_type": "code",
   "execution_count": 4,
   "metadata": {
    "collapsed": true
   },
   "outputs": [],
   "source": [
    "stack = 'MD593'"
   ]
  },
  {
   "cell_type": "code",
   "execution_count": 5,
   "metadata": {
    "collapsed": false
   },
   "outputs": [
    {
     "name": "stderr",
     "output_type": "stream",
     "text": [
      "/oasis/projects/nsf/csd181/yuncong/virtualenv-1.9.1/yuncongve/lib/python2.7/site-packages/skimage/filter/__init__.py:6: skimage_deprecation: The `skimage.filter` module has been renamed to `skimage.filters`.  This placeholder module will be removed in v0.13.\n",
      "  warn(skimage_deprecation('The `skimage.filter` module has been renamed '\n",
      "/oasis/projects/nsf/csd181/yuncong/virtualenv-1.9.1/yuncongve/lib/python2.7/site-packages/PIL/Image.py:2261: DecompressionBombWarning: Image size (203470848 pixels) exceeds limit of 89478485 pixels, could be decompression bomb DOS attack.\n",
      "  DecompressionBombWarning)\n"
     ]
    },
    {
     "name": "stdout",
     "output_type": "stream",
     "text": [
      "reading image ... done in 38.843485117 seconds\n"
     ]
    }
   ],
   "source": [
    "os.environ['GORDON_DATA_DIR'] = '/oasis/projects/nsf/csd395/yuncong/CSHL_data_processed'\n",
    "os.environ['GORDON_REPO_DIR'] = '/oasis/projects/nsf/csd395/yuncong/Brain'\n",
    "os.environ['GORDON_RESULT_DIR'] = '/oasis/projects/nsf/csd395/yuncong/CSHL_data_results'\n",
    "\n",
    "dm = DataManager(data_dir=os.environ['GORDON_DATA_DIR'], \n",
    "  repo_dir=os.environ['GORDON_REPO_DIR'], \n",
    "  result_dir=os.environ['GORDON_RESULT_DIR'], labeling_dir=os.environ['GORDON_LABELING_DIR'])\n",
    "\n",
    "print 'reading image ...',b\n",
    "t = time.time()\n",
    "dm.set_image(stack, 100)\n",
    "print 'done in', time.time() - t, 'seconds'"
   ]
  },
  {
   "cell_type": "code",
   "execution_count": 55,
   "metadata": {
    "collapsed": true
   },
   "outputs": [],
   "source": [
    "neighbors = dm.load_pipeline_result('neighbors', 'pkl')"
   ]
  },
  {
   "cell_type": "code",
   "execution_count": 62,
   "metadata": {
    "collapsed": false
   },
   "outputs": [],
   "source": [
    "edge_neighbors = dm.load_pipeline_result('edgeNeighbors', 'pkl')"
   ]
  },
  {
   "cell_type": "code",
   "execution_count": 65,
   "metadata": {
    "collapsed": false
   },
   "outputs": [
    {
     "ename": "AssertionError",
     "evalue": "100: Pipeline result 'texMap.npy' does not exist",
     "output_type": "error",
     "traceback": [
      "\u001b[1;31m---------------------------------------------------------------------------\u001b[0m",
      "\u001b[1;31mAssertionError\u001b[0m                            Traceback (most recent call last)",
      "\u001b[1;32m<ipython-input-65-391976ccd5f3>\u001b[0m in \u001b[0;36m<module>\u001b[1;34m()\u001b[0m\n\u001b[1;32m----> 1\u001b[1;33m \u001b[0mtexton_map\u001b[0m \u001b[1;33m=\u001b[0m \u001b[0mdm\u001b[0m\u001b[1;33m.\u001b[0m\u001b[0mload_pipeline_result\u001b[0m\u001b[1;33m(\u001b[0m\u001b[1;34m'texMap'\u001b[0m\u001b[1;33m,\u001b[0m \u001b[1;34m'npy'\u001b[0m\u001b[1;33m)\u001b[0m\u001b[1;33m\u001b[0m\u001b[0m\n\u001b[0m",
      "\u001b[1;32m/oasis/projects/nsf/csd395/yuncong/Brain/notebooks/utilities2015.pyc\u001b[0m in \u001b[0;36mload_pipeline_result\u001b[1;34m(self, result_name, ext, is_rgb, section)\u001b[0m\n\u001b[0;32m    271\u001b[0m \u001b[1;33m\u001b[0m\u001b[0m\n\u001b[0;32m    272\u001b[0m         \u001b[1;32mif\u001b[0m \u001b[0mext\u001b[0m \u001b[1;33m==\u001b[0m \u001b[1;34m'npy'\u001b[0m\u001b[1;33m:\u001b[0m\u001b[1;33m\u001b[0m\u001b[0m\n\u001b[1;32m--> 273\u001b[1;33m             \u001b[1;32massert\u001b[0m \u001b[0mos\u001b[0m\u001b[1;33m.\u001b[0m\u001b[0mpath\u001b[0m\u001b[1;33m.\u001b[0m\u001b[0mexists\u001b[0m\u001b[1;33m(\u001b[0m\u001b[0mresult_filename\u001b[0m\u001b[1;33m)\u001b[0m\u001b[1;33m,\u001b[0m \u001b[1;34m\"%d: Pipeline result '%s' does not exist\"\u001b[0m \u001b[1;33m%\u001b[0m \u001b[1;33m(\u001b[0m\u001b[0mself\u001b[0m\u001b[1;33m.\u001b[0m\u001b[0mslice_ind\u001b[0m\u001b[1;33m,\u001b[0m \u001b[0mresult_name\u001b[0m \u001b[1;33m+\u001b[0m \u001b[1;34m'.'\u001b[0m \u001b[1;33m+\u001b[0m \u001b[0mext\u001b[0m\u001b[1;33m)\u001b[0m\u001b[1;33m\u001b[0m\u001b[0m\n\u001b[0m\u001b[0;32m    274\u001b[0m             \u001b[0mdata\u001b[0m \u001b[1;33m=\u001b[0m \u001b[0mnp\u001b[0m\u001b[1;33m.\u001b[0m\u001b[0mload\u001b[0m\u001b[1;33m(\u001b[0m\u001b[0mresult_filename\u001b[0m\u001b[1;33m)\u001b[0m\u001b[1;33m\u001b[0m\u001b[0m\n\u001b[0;32m    275\u001b[0m         \u001b[1;32melif\u001b[0m \u001b[0mext\u001b[0m \u001b[1;33m==\u001b[0m \u001b[1;34m'tif'\u001b[0m \u001b[1;32mor\u001b[0m \u001b[0mext\u001b[0m \u001b[1;33m==\u001b[0m \u001b[1;34m'png'\u001b[0m \u001b[1;32mor\u001b[0m \u001b[0mext\u001b[0m \u001b[1;33m==\u001b[0m \u001b[1;34m'jpg'\u001b[0m\u001b[1;33m:\u001b[0m\u001b[1;33m\u001b[0m\u001b[0m\n",
      "\u001b[1;31mAssertionError\u001b[0m: 100: Pipeline result 'texMap.npy' does not exist"
     ]
    }
   ],
   "source": [
    "texton_map = dm.load_pipeline_result('texMap', 'npy')"
   ]
  },
  {
   "cell_type": "code",
   "execution_count": 10,
   "metadata": {
    "collapsed": true
   },
   "outputs": [],
   "source": [
    "segmentation = dm.load_pipeline_result('segmentation', 'npy')"
   ]
  },
  {
   "cell_type": "code",
   "execution_count": 18,
   "metadata": {
    "collapsed": true
   },
   "outputs": [],
   "source": [
    "n_superpixels = segmentation.max() + 1"
   ]
  },
  {
   "cell_type": "code",
   "execution_count": 51,
   "metadata": {
    "collapsed": true
   },
   "outputs": [],
   "source": [
    "def diff_offset(x_offset, y_offset):\n",
    "\n",
    "    h, w = segmentation.shape\n",
    "    \n",
    "    if x_offset == 1 and y_offset == -1:\n",
    "        d = np.dstack([segmentation[0:h-1, 1:w], segmentation[1:h, 0:w-1]])\n",
    "        # if diff's location y,x is (0,0), the edge is at (1,0) and (0,1)\n",
    "        ys, xs = np.mgrid[:d.shape[0], :d.shape[1]]\n",
    "        nzs = ~(d[...,0]==d[...,1])\n",
    "        r = np.c_[d[nzs], ys[nzs] + 1, xs[nzs], ys[nzs], xs[nzs] + 1] # [sp_label1, sp_label2, y1,x1,y2,x2]        \n",
    "    else:\n",
    "        moving_x_low = max(x_offset, 0)\n",
    "        moving_x_high = min(x_offset + w, w)\n",
    "        moving_width = moving_x_high - moving_x_low\n",
    "        moving_y_low = max(y_offset, 0)\n",
    "        moving_y_high = min(y_offset + h, h)\n",
    "        moving_height = moving_y_high - moving_y_low\n",
    "\n",
    "        d = np.dstack([segmentation[moving_y_low:moving_y_high, moving_x_low:moving_x_high], \n",
    "                       segmentation[:moving_height, :moving_width]])\n",
    "\n",
    "        ys, xs = np.mgrid[:d.shape[0], :d.shape[1]]\n",
    "        nzs = ~(d[...,0]==d[...,1])\n",
    "        # if diff's location y,x is (0,0), the edge is at (0,0) and (y_offset, x_offset)\n",
    "        r = np.c_[d[nzs], ys[nzs], xs[nzs], ys[nzs] + y_offset, xs[nzs] + x_offset] # [sp_label1, sp_label2, y1,x1,y2,x2]     \n",
    "    \n",
    "    return r"
   ]
  },
  {
   "cell_type": "code",
   "execution_count": 52,
   "metadata": {
    "collapsed": false
   },
   "outputs": [],
   "source": [
    "diffs = np.vstack([diff_offset(1,0), diff_offset(0,1), diff_offset(1,1), diff_offset(1,-1)])\n",
    "\n",
    "neighbors = [set() for _ in range(n_superpixels)]\n",
    "\n",
    "for i, j, y1, x1, y2, x2 in diffs:\n",
    "    if i != -1:\n",
    "        neighbors[i].add(j)\n",
    "    if j != -1:\n",
    "        neighbors[j].add(i)\n",
    "        "
   ]
  }
 ],
 "metadata": {
  "kernelspec": {
   "display_name": "Python 2",
   "language": "python",
   "name": "python2"
  },
  "language_info": {
   "codemirror_mode": {
    "name": "ipython",
    "version": 2
   },
   "file_extension": ".py",
   "mimetype": "text/x-python",
   "name": "python",
   "nbconvert_exporter": "python",
   "pygments_lexer": "ipython2",
   "version": "2.7.3"
  }
 },
 "nbformat": 4,
 "nbformat_minor": 0
}
