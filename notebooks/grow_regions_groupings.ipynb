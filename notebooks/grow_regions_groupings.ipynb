{
 "metadata": {
  "name": "",
  "signature": "sha256:ab44261e00b2633cde765d4b40c1b0c7c2aa1afb1fc3afc5076013408a9b8920"
 },
 "nbformat": 3,
 "nbformat_minor": 0,
 "worksheets": [
  {
   "cells": [
    {
     "cell_type": "code",
     "collapsed": false,
     "input": [
      "%load_ext autoreload\n",
      "%autoreload 2\n",
      "\n",
      "from preamble import *"
     ],
     "language": "python",
     "metadata": {},
     "outputs": [
      {
       "output_type": "stream",
       "stream": "stdout",
       "text": [
        "num. of kernels: 99\n",
        "frequencies: [ 0.2         0.13333333  0.08888889  0.05925926  0.03950617  0.02633745\n",
        "  0.0175583   0.01170553  0.00780369]\n",
        "wavelength (pixels): [   5.            7.5          11.25         16.875        25.3125\n",
        "   37.96875      56.953125     85.4296875   128.14453125]\n",
        "max kernel matrix size: 243\n"
       ]
      }
     ],
     "prompt_number": 1
    },
    {
     "cell_type": "code",
     "collapsed": false,
     "input": [
      "texton_hists = dm.load_pipeline_result('texHist', 'npy')\n",
      "\n",
      "segmentation = dm.load_pipeline_result('segmentation', 'npy')\n",
      "n_superpixels = len(unique(segmentation)) - 1\n",
      "\n",
      "textonmap = dm.load_pipeline_result('texMap', 'npy')\n",
      "n_texton = len(np.unique(textonmap)) - 1\n",
      "\n",
      "neighbors = dm.load_pipeline_result('neighbors', 'npy')\n",
      "\n",
      "sp_properties = dm.load_pipeline_result('spProps', 'npy')\n",
      "\n",
      "segmentation_vis = dm.load_pipeline_result('segmentationWithText', 'jpg')"
     ],
     "language": "python",
     "metadata": {},
     "outputs": [
      {
       "output_type": "stream",
       "stream": "stdout",
       "text": [
        "/home/yuncong/DavidData/RS141/x5/0001/pipelineResults/RS141_x5_0001_gabor-blueNisslWide-segm-blueNissl-vq-blueNissl_texHist.npy\n",
        "loaded /home/yuncong/DavidData/RS141/x5/0001/pipelineResults/RS141_x5_0001_gabor-blueNisslWide-segm-blueNissl-vq-blueNissl_texHist.npy"
       ]
      },
      {
       "output_type": "stream",
       "stream": "stdout",
       "text": [
        "\n",
        "/home/yuncong/DavidData/RS141/x5/0001/pipelineResults/RS141_x5_0001_segm-blueNissl_segmentation.npy\n",
        "loaded /home/yuncong/DavidData/RS141/x5/0001/pipelineResults/RS141_x5_0001_segm-blueNissl_segmentation.npy"
       ]
      },
      {
       "output_type": "stream",
       "stream": "stdout",
       "text": [
        "\n",
        "/home/yuncong/DavidData/RS141/x5/0001/pipelineResults/RS141_x5_0001_gabor-blueNisslWide-vq-blueNissl_texMap.npy"
       ]
      },
      {
       "output_type": "stream",
       "stream": "stdout",
       "text": [
        "\n",
        "loaded /home/yuncong/DavidData/RS141/x5/0001/pipelineResults/RS141_x5_0001_gabor-blueNisslWide-vq-blueNissl_texMap.npy"
       ]
      },
      {
       "output_type": "stream",
       "stream": "stdout",
       "text": [
        "\n",
        "/home/yuncong/DavidData/RS141/x5/0001/pipelineResults/RS141_x5_0001_segm-blueNissl_neighbors.npy"
       ]
      },
      {
       "output_type": "stream",
       "stream": "stdout",
       "text": [
        "\n",
        "loaded /home/yuncong/DavidData/RS141/x5/0001/pipelineResults/RS141_x5_0001_segm-blueNissl_neighbors.npy\n",
        "/home/yuncong/DavidData/RS141/x5/0001/pipelineResults/RS141_x5_0001_segm-blueNissl_spProps.npy\n",
        "loaded /home/yuncong/DavidData/RS141/x5/0001/pipelineResults/RS141_x5_0001_segm-blueNissl_spProps.npy\n",
        "/home/yuncong/DavidData/RS141/x5/0001/pipelineResults/RS141_x5_0001_segm-blueNissl_segmentationWithText.jpg\n",
        "loaded /home/yuncong/DavidData/RS141/x5/0001/pipelineResults/RS141_x5_0001_segm-blueNissl_segmentationWithText.jpg"
       ]
      },
      {
       "output_type": "stream",
       "stream": "stdout",
       "text": [
        "\n"
       ]
      }
     ],
     "prompt_number": 2
    },
    {
     "cell_type": "code",
     "collapsed": false,
     "input": [
      "from scipy.spatial.distance import cdist, pdist, squareform\n",
      "\n",
      "center_dists = pdist(sp_properties[:, :2])\n",
      "center_dist_matrix = squareform(center_dists)\n",
      "\n",
      "k = 200\n",
      "k_neighbors = np.argsort(center_dist_matrix, axis=1)[:, 1:k+1]\n",
      "\n",
      "neighbor_dists = np.empty((n_superpixels, k))\n",
      "for i in range(n_superpixels):\n",
      "    neighbor_dists[i] = np.squeeze(cdist(texton_hists[i][np.newaxis,:], texton_hists[k_neighbors[i]], chi2))\n",
      "    \n",
      "sp_sp_dists = np.nan * np.ones((n_superpixels, n_superpixels))\n",
      "for i in range(n_superpixels):\n",
      "    sp_sp_dists[i, k_neighbors[i]] = neighbor_dists[i]"
     ],
     "language": "python",
     "metadata": {},
     "outputs": [
      {
       "output_type": "stream",
       "stream": "stderr",
       "text": [
        "utilities.py:450: RuntimeWarning: invalid value encountered in divide\n",
        "  r = np.nansum((u-v)**2/(u+v))\n"
       ]
      }
     ],
     "prompt_number": 3
    },
    {
     "cell_type": "code",
     "collapsed": false,
     "input": [
      "def compute_cluster_score(cluster, texton_hists=texton_hists, neighbors=neighbors):\n",
      "    \n",
      "    cluster_list = list(cluster)\n",
      "    hists_cluster = texton_hists[cluster_list]\n",
      "\n",
      "    cluster_avg = hists_cluster.mean(axis=0)\n",
      "    \n",
      "    surrounds = set([i for i in set.union(*[neighbors[c] for c in cluster]) if i not in cluster])\n",
      "    \n",
      "    surrounds_list = list(surrounds)\n",
      "    hists_surround = texton_hists[surrounds_list]\n",
      "\n",
      "    avg_dists = np.squeeze(cdist(np.atleast_2d(cluster_avg), hists_cluster, chi2))\n",
      "            \n",
      "    surround_dists = np.array([sp_sp_dists[i, cluster_list] for i in surrounds_list])\n",
      "        \n",
      "    uncomputed_sr, uncomputed_cl = np.where(np.isnan(surround_dists))\n",
      "    \n",
      "    for sr, cl in zip(uncomputed_sr, uncomputed_cl):\n",
      "        \n",
      "        i = surrounds_list[sr]\n",
      "        j = cluster_list[cl]\n",
      "        d = chi2(texton_hists[i], texton_hists[j])\n",
      "            \n",
      "        surround_dists[sr, cl] = d\n",
      "        \n",
      "        sp_sp_dists[i, j] = d\n",
      "        sp_sp_dists[j, i] = d\n",
      "    \n",
      "    assert not np.isnan(surround_dists).any(), 'some distances are not computed'\n",
      "    \n",
      "    avg_dist = np.mean(avg_dists)\n",
      "    surround_dist = np.min(np.atleast_2d(surround_dists), axis=0).mean()\n",
      "#     surround_dist = np.min(np.atleast_2d(surround_dists), axis=0).min()\n",
      "\n",
      "    score = surround_dist - avg_dist\n",
      "    \n",
      "#     print 'cluster', cluster_list\n",
      "#     print 'surrounds', surrounds_list\n",
      "#     print 'argmin', np.array(surrounds_list)[np.argmin(np.atleast_2d(surround_dists), axis=0)]\n",
      "#     print 'min', np.min(np.atleast_2d(surround_dists), axis=0)\n",
      "#     print 'model', avg_dists\n",
      "#     print 'adv', np.min(np.atleast_2d(surround_dists), axis=0) - avg_dists\n",
      "#     print 'sig:', score, ', surround:', surround_dist, ', model:', avg_dist\n",
      "#     print \n",
      "    \n",
      "    return score, surround_dist, avg_dist"
     ],
     "language": "python",
     "metadata": {},
     "outputs": [],
     "prompt_number": 4
    },
    {
     "cell_type": "code",
     "collapsed": false,
     "input": [
      "# def compute_cluster_score(cluster, texton_hists=texton_hists, neighbors=neighbors):\n",
      "    \n",
      "#     cluster_list = list(cluster)\n",
      "#     hists_cluster = texton_hists[cluster_list]\n",
      "    \n",
      "#     cluster_avg = hists_cluster.mean(axis=0)\n",
      "    \n",
      "#     surrounds = set([i for i in set.union(*[neighbors[c] for c in cluster]) if i not in cluster and i != -1])\n",
      "    \n",
      "#     surrounds_list = list(surrounds)\n",
      "#     hists_surround = texton_hists[surrounds_list]\n",
      "    \n",
      "#     r = cdist(np.r_[hists_surround, np.atleast_2d(cluster_avg)], hists_cluster, chi2)\n",
      "#     avg_dist = np.mean(r[-1, :])\n",
      "#     surround_dist = np.min(np.atleast_2d(r[:-1, :]), axis=0).mean()\n",
      "    \n",
      "# #     r = np.squeeze(cdist(np.atleast_2d(cluster_avg), np.r_[hists_cluster, hists_surround], chi2))\n",
      "# #     avg_dist = np.mean(r[:len(cluster_list)])\n",
      "# #     surround_dist = np.mean(r[len(cluster_list):])\n",
      "    \n",
      "#     score = surround_dist - avg_dist\n",
      "    \n",
      "#     print 'cluster', cluster_list\n",
      "#     print 'surrounds', surrounds_list\n",
      "#     print 'argmin', np.array(surrounds_list)[np.argmin(np.atleast_2d(surround_dists), axis=0)]\n",
      "#     print 'min', np.min(np.atleast_2d(surround_dists), axis=0)\n",
      "#     print 'model', avg_dists\n",
      "#     print 'adv', np.min(np.atleast_2d(surround_dists), axis=0) - avg_dists\n",
      "#     print 'sig:', score, ', surround:', surround_dist, ', model:', avg_dist\n",
      "#     print \n",
      "    \n",
      "#     return score, surround_dist, avg_dist"
     ],
     "language": "python",
     "metadata": {},
     "outputs": [],
     "prompt_number": 19
    },
    {
     "cell_type": "code",
     "collapsed": false,
     "input": [
      "import heapq\n",
      "\n",
      "def grow_cluster(seed, neighbors, texton_hists):\n",
      "    \n",
      "    scores = []\n",
      "    null_dists = []\n",
      "    model_dists = []\n",
      "    added_sp = []\n",
      "        \n",
      "    visited = set([])\n",
      "    curr_cluster = set([])\n",
      "                    \n",
      "    to_visit = [(0, seed)]\n",
      "        \n",
      "#     c = 0\n",
      "        \n",
      "    while len(to_visit) > 0:\n",
      "        \n",
      "        v = heapq.heappop(to_visit)[1]\n",
      "\n",
      "        if v in curr_cluster:\n",
      "            continue\n",
      "        \n",
      "#         print c\n",
      "#         c += 1\n",
      "        \n",
      "        curr_cluster_score, curr_null_dist, curr_model_dist = compute_cluster_score(curr_cluster | set([v]), texton_hists, neighbors)\n",
      "                \n",
      "        curr_cluster.add(v)\n",
      "\n",
      "        scores.append(curr_cluster_score)\n",
      "        null_dists.append(curr_null_dist)\n",
      "        model_dists.append(curr_model_dist)\n",
      "        added_sp.append(v)\n",
      "        \n",
      "        ns = np.array(list(neighbors[v] | (visited - curr_cluster)))\n",
      " \n",
      "        curr_avg = texton_hists[list(curr_cluster)].mean(axis=0)\n",
      "        ds = np.atleast_1d(np.squeeze(cdist(curr_avg[np.newaxis, :], texton_hists[ns])))\n",
      "\n",
      "        items = zip((ds*10000).astype(np.int), ns)\n",
      "\n",
      "        for dist, sp in items:\n",
      "            if sp != -1 and (dist, sp) not in to_visit and sp not in visited:\n",
      "                heapq.heappush(to_visit, (dist, sp))\n",
      "\n",
      "        visited.add(v)\n",
      "        \n",
      "#         print curr_cluster\n",
      "\n",
      "#         vis = visualize_cluster(curr_cluster)\n",
      "#         plt.imshow(vis)\n",
      "#         plt.show()\n",
      "        \n",
      "        if len(visited) > int(n_superpixels * 0.08):\n",
      "            break\n",
      "    \n",
      "    sp_max = np.argmax(scores)\n",
      "    curr_cluster = added_sp[:sp_max+1]\n",
      "    curr_cluster_score = scores[sp_max]\n",
      "        \n",
      "    return curr_cluster, curr_cluster_score, scores, null_dists, model_dists, added_sp"
     ],
     "language": "python",
     "metadata": {},
     "outputs": [],
     "prompt_number": 8
    },
    {
     "cell_type": "code",
     "collapsed": false,
     "input": [
      "def visualize_cluster(cluster, segmentation=segmentation, segmentation_vis=segmentation_vis):\n",
      "\n",
      "    a = -1*np.ones_like(segmentation)\n",
      "    \n",
      "    for c in cluster:\n",
      "        a[segmentation == c] = 0\n",
      "        \n",
      "    vis = label2rgb(a, image=segmentation_vis)\n",
      "\n",
      "    vis = img_as_ubyte(vis[...,::-1])\n",
      "\n",
      "    for i, sp in enumerate(cluster):\n",
      "        vis = cv2.putText(vis, str(i), \n",
      "                          tuple(np.floor(sp_properties[sp, [1,0]] - np.array([10,-10])).astype(np.int)), \n",
      "                          cv2.FONT_HERSHEY_DUPLEX,\n",
      "                          1., ((0,255,255)), 1)\n",
      "\n",
      "    return vis.copy()\n",
      "\n",
      "def visualize_multiple_clusters(clusters, segmentation=segmentation, segmentation_vis=segmentation_vis):\n",
      "\n",
      "    a = -1*np.ones_like(segmentation)\n",
      "    \n",
      "    for ci, c in enumerate(clusters):\n",
      "        for i in c:\n",
      "            a[segmentation == i] = ci\n",
      "\n",
      "    vis = label2rgb(a, image=segmentation_vis)\n",
      "\n",
      "    vis = img_as_ubyte(vis[...,::-1])\n",
      "\n",
      "    for ci, c in enumerate(clusters):\n",
      "        for i, sp in enumerate(c):\n",
      "            vis = cv2.putText(vis, str(i), \n",
      "                              tuple(np.floor(sp_properties[sp, [1,0]] - np.array([10,-10])).astype(np.int)), \n",
      "                              cv2.FONT_HERSHEY_DUPLEX,\n",
      "                              1., ((0,255,255)), 1)\n",
      "    \n",
      "    return vis.copy()"
     ],
     "language": "python",
     "metadata": {},
     "outputs": [],
     "prompt_number": 6
    },
    {
     "cell_type": "code",
     "collapsed": false,
     "input": [
      "seed = 821\n",
      "\n",
      "curr_cluster, curr_cluster_score, scores, avg_surround_distances, sp_avg_distances, added_sp = grow_cluster(seed, neighbors, texton_hists)\n",
      "\n",
      "print 'curr_cluster', curr_cluster\n",
      "print len(curr_cluster), 'superpixels'\n",
      "print 'cluster score', curr_cluster_score"
     ],
     "language": "python",
     "metadata": {},
     "outputs": [
      {
       "output_type": "stream",
       "stream": "stdout",
       "text": [
        "curr_cluster [821, 869, 977, 892, 781, 785, 899, 699, 822, 726, 978, 914, 795, 893, 702, 777, 696, 973, 987, 889, 908]\n",
        "21 superpixels\n",
        "cluster score 0.154309067983\n"
       ]
      }
     ],
     "prompt_number": 27
    },
    {
     "cell_type": "code",
     "collapsed": false,
     "input": [
      "vis = visualize_cluster(curr_cluster)\n",
      "# plt.imshow(vis)\n",
      "display(vis)"
     ],
     "language": "python",
     "metadata": {},
     "outputs": [
      {
       "html": [
        "<a href='tmp.jpg' target='_blank'>tmp.jpg</a><br>"
       ],
       "metadata": {},
       "output_type": "pyout",
       "prompt_number": 28,
       "text": [
        "/oasis/projects/nsf/csd181/yuncong/Brain/notebooks/tmp.jpg"
       ]
      }
     ],
     "prompt_number": 28
    },
    {
     "cell_type": "code",
     "collapsed": false,
     "input": [
      "vis = visualize_cluster(added_sp)\n",
      "# plt.imshow(vis)\n",
      "display(vis)"
     ],
     "language": "python",
     "metadata": {},
     "outputs": []
    },
    {
     "cell_type": "code",
     "collapsed": false,
     "input": [
      "# all_distances = np.atleast_1d(np.squeeze(cdist(texton_hists[seed][np.newaxis, :], texton_hists)))\n",
      "# vis = all_distances[cropped_segmentation] * 10 + 1\n",
      "# vis[~cropped_mask] = 0\n",
      "\n",
      "# plt.matshow(vis)\n",
      "# plt.colorbar()\n",
      "# plt.show()"
     ],
     "language": "python",
     "metadata": {},
     "outputs": [],
     "prompt_number": 16
    },
    {
     "cell_type": "code",
     "collapsed": false,
     "input": [
      "import matplotlib.pyplot as plt\n",
      "\n",
      "e = 30\n",
      "\n",
      "n = len(scores[:e])\n",
      "\n",
      "# fig, axes = plt.subplots(nrows=3, ncols=1, sharex=True)\n",
      "# axes[0].plot(range(0,n), scores[:e], color='b', label='sig score')\n",
      "# # plt.plot(range(1,n), np.diff(scores), color='y', label='change in l.l.r.')\n",
      "# axes[1].plot(range(0,n), avg_surround_distances[:e], color='g', label='null distance')\n",
      "# axes[2].plot(range(0,n), sp_avg_distances[:e], color='r', label='model distance')\n",
      "\n",
      "plt.plot(range(0,n), scores[:e], color='b', label='sig score')\n",
      "plt.plot(range(0,n), avg_surround_distances[:e], color='g', label='surround distance')\n",
      "plt.plot(range(0,n), sp_avg_distances[:e], color='r', label='model distance')\n",
      "\n",
      "plt.legend(bbox_to_anchor=(1.05, 1), loc=2, borderaxespad=0.)\n",
      "\n",
      "plt.xlabel('index of most recently added superpixel')\n",
      "\n",
      "plt.show()"
     ],
     "language": "python",
     "metadata": {},
     "outputs": [
      {
       "metadata": {},
       "output_type": "display_data",
       "png": "[encoded data removed]",
       "text": [
        "<matplotlib.figure.Figure at 0x76a11d0>"
       ]
      }
     ],
     "prompt_number": 10
    },
    {
     "cell_type": "code",
     "collapsed": false,
     "input": [
      "# try:\n",
      "#     clusters = dm.load_pipeline_result('clusters', 'pkl')\n",
      "    \n",
      "# except Exception as e:\n",
      "\n",
      "import time\n",
      "b = time.time()\n",
      "\n",
      "clusters = Parallel(n_jobs=16)(delayed(grow_cluster)(s, neighbors, texton_hists) for s in range(n_superpixels))\n",
      "# clusters = Parallel(n_jobs=16)(delayed(grow_cluster)(s, neighbors, texton_hists) for s in range(100))\n",
      "\n",
      "print time.time() - b\n",
      "\n",
      "# dm.save_pipeline_result(clusters, 'clusters', 'pkl')"
     ],
     "language": "python",
     "metadata": {},
     "outputs": [
      {
       "output_type": "stream",
       "stream": "stdout",
       "text": [
        "240.36522603\n"
       ]
      }
     ],
     "prompt_number": 11
    },
    {
     "cell_type": "code",
     "collapsed": false,
     "input": [
      "dm.save_pipeline_result(clusters, 'clusters', 'pkl')"
     ],
     "language": "python",
     "metadata": {},
     "outputs": [
      {
       "output_type": "stream",
       "stream": "stdout",
       "text": [
        "saved /home/yuncong/DavidData/RS141/x5/0001/pipelineResults/RS141_x5_0001_gabor-blueNisslWide-segm-blueNissl-vq-blueNissl_clusters.pkl\n"
       ]
      }
     ],
     "prompt_number": 12
    },
    {
     "cell_type": "code",
     "collapsed": false,
     "input": [
      "clusters = dm.load_pipeline_result('clusters', 'pkl')"
     ],
     "language": "python",
     "metadata": {},
     "outputs": [
      {
       "output_type": "stream",
       "stream": "stdout",
       "text": [
        "loaded /home/yuncong/DavidData/RS141/x5/0001/sigboostResults/RS141_x5_0001_gabor-blueNisslWide-segm-blueNissl-vq-blueNissl_clusters.pkl\n"
       ]
      }
     ],
     "prompt_number": 14
    },
    {
     "cell_type": "code",
     "collapsed": false,
     "input": [
      "cluster_sps, curr_cluster_score_sps, scores_sps, nulls_sps, models_sps, added_sps = zip(*clusters)\n",
      "cluster_size_sps = np.array([len(c) for c in cluster_sps])\n",
      "cluster_score_sps = np.array(curr_cluster_score_sps)"
     ],
     "language": "python",
     "metadata": {},
     "outputs": [],
     "prompt_number": 13
    },
    {
     "cell_type": "code",
     "collapsed": false,
     "input": [
      "sigmap = cluster_score_sps[segmentation] * 5 + 1\n",
      "sigmap[~dm.mask] = 0\n",
      "\n",
      "plt.matshow(sigmap)\n",
      "plt.colorbar()\n",
      "plt.show()"
     ],
     "language": "python",
     "metadata": {},
     "outputs": [
      {
       "metadata": {},
       "output_type": "display_data",
       "png": "[encoded data removed]",
       "text": [
        "<matplotlib.figure.Figure at 0x4e08e50>"
       ]
      }
     ],
     "prompt_number": 14
    },
    {
     "cell_type": "code",
     "collapsed": false,
     "input": [
      "highlighted_sps = np.where((cluster_size_sps < 200) & (cluster_size_sps > 2))[0]\n",
      "n_highlights = len(highlighted_sps)"
     ],
     "language": "python",
     "metadata": {},
     "outputs": [],
     "prompt_number": 15
    },
    {
     "cell_type": "code",
     "collapsed": false,
     "input": [
      "from scipy.spatial.distance import pdist, squareform\n",
      "\n",
      "overlap_matrix = np.zeros((n_highlights, n_highlights))\n",
      "for i in range(n_highlights):\n",
      "    for j in range(n_highlights):\n",
      "        if i == j:\n",
      "            overlap_matrix[i, j] = 1\n",
      "        else:\n",
      "            c1 = set(cluster_sps[highlighted_sps[i]])\n",
      "            c2 = set(cluster_sps[highlighted_sps[j]])\n",
      "            overlap_matrix[i, j] = float(len(c1 & c2))/min(len(c1),len(c2))\n",
      "          \n",
      "distance_matrix = 1 - overlap_matrix\n",
      "            \n",
      "plt.matshow(overlap_matrix, cmap=cm.coolwarm)\n",
      "plt.colorbar()\n",
      "plt.show()"
     ],
     "language": "python",
     "metadata": {},
     "outputs": [
      {
       "metadata": {},
       "output_type": "display_data",
       "png": "[encoded data removed]",
       "text": [
        "<matplotlib.figure.Figure at 0x41de8d0>"
       ]
      }
     ],
     "prompt_number": 16
    },
    {
     "cell_type": "code",
     "collapsed": false,
     "input": [
      "from scipy.cluster.hierarchy import average, fcluster, leaders, complete, single, dendrogram\n",
      "\n",
      "lk = average(squareform(distance_matrix))\n",
      "# T = fcluster(lk, 1.15, criterion='inconsistent')\n",
      "T = fcluster(lk, .3, criterion='distance')\n",
      "\n",
      "n_groups = len(set(T))\n",
      "print n_groups\n",
      "groups = [None] * n_groups\n",
      "\n",
      "for group_id in range(n_groups):\n",
      "    groups[group_id] = highlighted_sps[where(T == group_id)[0]]"
     ],
     "language": "python",
     "metadata": {},
     "outputs": [
      {
       "output_type": "stream",
       "stream": "stdout",
       "text": [
        "233\n"
       ]
      }
     ],
     "prompt_number": 30
    },
    {
     "cell_type": "code",
     "collapsed": false,
     "input": [
      "filtered_groups = [set.union(*[set(cluster_sps[i]) for i in g]) for g in groups if len(g) > 2]\n",
      "filtered_group_scores = [compute_cluster_score(g, texton_hists, neighbors)[0] for g in filtered_groups]\n",
      "\n",
      "arg_score_sorted = np.argsort(filtered_group_scores)[::-1]\n",
      "\n",
      "res = zip(filtered_groups, filtered_group_scores)\n",
      "filtered_groups_res = [res[i] for i in arg_score_sorted]\n",
      "\n",
      "dm.save_pipeline_result(filtered_groups_res, 'groups', 'pkl')"
     ],
     "language": "python",
     "metadata": {},
     "outputs": [],
     "prompt_number": 31
    },
    {
     "cell_type": "code",
     "collapsed": false,
     "input": [
      "for g, s in filtered_groups_res:\n",
      "    print g,s"
     ],
     "language": "python",
     "metadata": {},
     "outputs": [
      {
       "output_type": "stream",
       "stream": "stdout",
       "text": [
        "set([1857, 1827, 1861, 1802, 1803, 1868, 1838, 1848, 1855]) 0.574172609532\n",
        "set([1958, 1909, 1944, 1980, 1950]) 0.503878637837\n",
        "set([256, 289, 195, 325, 237, 242, 243, 308, 310, 380]) 0.412418973548\n",
        "set([1811, 1835, 1883]) 0.358704348097\n",
        "set([183, 216, 189]) 0.337414459915\n",
        "set([2016, 2023, 2024, 1997]) 0.32841650703\n",
        "set([1731, 1642, 1719, 1752]) 0.325515370342\n",
        "set([257, 387, 193, 264, 140, 143, 276, 405, 536, 281, 158, 162, 171, 172, 174, 176, 178, 179, 181, 315, 321, 194, 72, 74, 459, 76, 462, 591, 209, 340, 122, 221, 222, 223, 234, 241, 247, 506]) 0.292138365289\n",
        "set([1826, 1860, 1871]) 0.284744234463\n",
        "set([1952, 1953, 1942, 1913, 1914, 1947, 1948, 1951]) 0.279736102755\n",
        "set([259, 166, 230, 147, 163, 211]) 0.257089367292\n",
        "set([1734, 1737, 1676, 1556, 1647, 1628, 1693, 1631, 1568, 1697, 1762, 1819, 1692, 1563, 1711, 1651, 1781, 1721]) 0.255512983805\n",
        "set([1671, 1704, 1612, 1677, 1709, 1717, 1688, 1625, 1566]) 0.242722753613\n",
        "set([34, 39, 40, 71, 84, 152, 30]) 0.239883944141\n",
        "set([267, 177, 180, 119, 153]) 0.235771311094\n",
        "set([1472, 1665, 1323, 1622, 1674, 1544, 1545, 1546, 1547, 1617, 1684, 1558, 1687, 1689, 1241, 1180, 1502, 1190, 1639, 1576, 1532, 1451, 1388, 1643, 1416, 1459, 1588, 1649, 1468, 1469, 1534]) 0.233918543987\n",
        "set([400, 347, 521, 528, 446, 409, 411, 318]) 0.22394937929\n",
        "set([258, 137, 266, 66, 81, 57, 282, 97, 226, 232, 114, 239, 113, 306, 115, 117, 184, 121, 250, 126]) 0.210308482151\n",
        "set([1060, 1098, 1227, 1068]) 0.206742726421\n",
        "set([65, 102, 110, 142, 55, 89, 90, 93]) 0.200148272805\n",
        "set([1796, 1804, 1807, 1564, 1566, 1824, 1833, 1580, 1845, 1847, 1850, 1612, 1870, 1677, 1873, 1618, 1878, 1625, 1637, 1638, 1642, 1904, 1906, 1909, 1915, 1918, 1663, 1671, 1933, 1937, 1940, 1688, 1954, 1956, 1704, 1963, 1964, 1709, 1712, 1969, 1972, 1717, 1719, 1978, 1980, 1985, 1731, 1990, 1992, 1994, 1995, 1996, 1741, 1998, 2003, 2006, 1752, 2009, 2010, 1756, 2014, 2017, 2018, 2027, 1747, 1790]) 0.19182156668\n",
        "set([1665, 1622, 1639, 1545, 1674, 1617, 1588, 1558]) 0.183416911125\n",
        "set([1665, 1622, 1639, 1545, 1674, 1617, 1588, 1558]) 0.183416911125\n",
        "set([1774, 1845, 1756, 1790]) 0.181958498218\n",
        "set([1664, 1636, 1660]) 0.177729632485\n",
        "set([136, 78, 83, 86, 215, 92, 96, 44, 45, 46, 50, 56, 58]) 0.171667645256\n",
        "set([1992, 2010, 1998]) 0.158323301369\n",
        "set([824, 759, 760]) 0.156191388078\n",
        "set([1266, 1237, 1303, 1307]) 0.155288193122\n",
        "set([1761, 1808, 1713, 1718, 1751, 1755]) 0.152779601077\n",
        "set([1890, 1924, 1874, 1843, 1910]) 0.144588472698\n",
        "set([1670, 1707, 1772, 1806]) 0.14219931639\n",
        "set([260, 261, 145, 277, 217, 408, 412, 413, 415, 474, 426, 517, 430, 304, 561, 509, 192, 452, 199, 332, 333, 334, 335, 208, 600, 345, 346, 280, 356, 231, 490, 363, 111, 370, 502, 249, 252, 253]) 0.140436757994\n",
        "set([1416, 1362, 1459, 1435, 1532]) 0.140124868834\n",
        "set([1522, 1593, 1519]) 0.138507080766\n",
        "set([1922, 1700, 1832, 1740, 1739, 1900, 1750, 1788]) 0.134577780419\n",
        "set([1924, 1959, 1917, 1885]) 0.128224089915\n",
        "set([1538, 1607, 1565]) 0.12757066707\n",
        "set([770, 263, 534, 537, 541, 546, 293, 296, 307, 312, 316, 317, 577, 322, 836, 326, 327, 330, 348, 611, 359, 616, 617, 367, 360, 372, 629, 377, 383, 640, 386, 394, 395, 397, 398, 402, 406, 920, 418, 421, 423, 428, 285, 432, 691, 697, 442, 450, 456, 460, 469, 473, 483, 1000, 491, 750, 246, 254, 511]) 0.123789595209\n",
        "set([1571, 1577, 1453, 1485, 1584, 1528, 1630, 1503]) 0.119992965856\n",
        "set([416, 262, 588, 300, 368, 503, 350]) 0.118105373469\n",
        "set([1920, 1939, 1869]) 0.117911324748\n",
        "set([549, 470, 599, 540, 543]) 0.116321079888\n",
        "set([244, 201, 255]) 0.109805377344\n",
        "set([0, 1, 2, 129, 9, 11, 13, 14, 15, 144, 17, 20, 24, 154, 27, 29, 31, 32, 198, 173, 51, 53, 188, 62, 63, 68, 69, 70, 79, 88, 228, 224, 16, 98, 100, 101, 123, 125, 127]) 0.103785568142\n",
        "set([0, 129, 2, 1, 9, 11, 13, 14, 15, 144, 17, 20, 24, 154, 27, 29, 31, 32, 198, 173, 51, 53, 188, 62, 63, 68, 69, 70, 79, 88, 100, 224, 16, 98, 228, 101, 123, 125, 127]) 0.103785568142\n",
        "set([384, 513, 270, 666, 290, 420, 551, 558, 431, 433, 440, 453, 583, 461, 568, 471, 364, 500, 631, 376, 381]) 0.101501938188\n",
        "set([1024, 1025, 899, 645, 777, 908, 781, 656, 785, 914, 916, 1048, 794, 795, 1062, 683, 821, 822, 696, 699, 702, 831, 711, 968, 973, 977, 978, 726, 987, 869, 748, 752, 889, 762, 892, 893]) 0.101150126411\n",
        "set([1090, 1094, 1192, 1066, 1160, 1045, 1079, 991]) 0.0941028421636\n",
        "set([1376, 1285, 1320, 1365, 1398, 1210, 1438, 1221]) 0.0934012486516\n",
        "set([167, 109, 155, 125, 159]) 0.0929399392754\n",
        "set([0, 1, 2, 129, 9, 11, 13, 14, 15, 144, 17, 20, 24, 154, 27, 29, 31, 32, 173, 51, 53, 188, 62, 63, 68, 69, 198, 79, 88, 228, 224, 16, 98, 100, 101, 123, 125]) 0.0917357031429\n",
        "set([579, 620, 530, 532, 669, 542]) 0.0905347421789\n",
        "set([1063, 1001, 974, 919, 922]) 0.0901150781512\n",
        "set([689, 651, 556]) 0.0896633474212\n",
        "set([1003, 1132, 1105, 1017, 1116, 1054, 1087]) 0.0874953318032\n",
        "set([2025, 2026, 2028, 2030]) 0.0865470929921\n",
        "set([130, 131, 197, 336, 273, 149, 280, 283, 118, 120, 185, 187, 124, 127]) 0.0850881651523\n",
        "set([1408, 1367, 1432]) 0.0839027725075\n",
        "set([1004, 1081, 858, 926]) 0.0821318956998\n",
        "set([677, 615, 618, 703, 607]) 0.0812729874604\n",
        "set([0, 1, 2, 3, 5, 129, 9, 11, 13, 14, 15, 144, 17, 20, 24, 154, 27, 29, 31, 32, 70, 173, 51, 53, 188, 62, 63, 68, 69, 198, 79, 88, 228, 224, 16, 98, 100, 101, 123, 125, 127]) 0.0810702042664\n",
        "set([448, 515, 390, 396, 468, 494, 355, 484, 486, 429, 302, 560, 373, 375, 382]) 0.0804590582689\n",
        "set([1017, 986, 1002]) 0.0776674554122\n",
        "set([1792, 1793, 1730, 1733, 1768, 1724, 1661]) 0.0771813504402\n",
        "set([1492, 1561, 1595]) 0.0767831973848\n",
        "set([288, 345, 284]) 0.0749488551648\n",
        "set([1745, 1799, 1758]) 0.0686403773952\n",
        "set([1825, 1801, 1805, 1742, 1810, 1751, 1753, 1754, 1755, 1761, 1763, 1770, 1899, 1840, 1778, 1783, 1784]) 0.0677960117973\n",
        "set([1957, 1894, 1934, 1938]) 0.0675412289356\n",
        "set([1410, 1413, 1417, 1418, 1166, 1295, 1296, 1699, 1317, 1448, 1322, 1579, 1326, 1327, 1080, 1596, 1342, 1480, 1609, 1356, 1487, 1489, 1364, 1494, 1623, 1499, 1379, 1256, 1387, 1525, 1551, 1785, 1786, 1276, 1405]) 0.0670422576406\n",
        "set([662, 665, 636]) 0.0669965073671\n",
        "set([449, 547, 488, 298, 401, 434, 342, 504, 378, 379]) 0.066937774441\n",
        "set([1941, 1928, 1931]) 0.0665214292063\n",
        "set([1319, 1325, 1393, 1523, 1402, 1403]) 0.0664177970442\n",
        "set([258, 263, 266, 534, 537, 282, 541, 546, 293, 296, 306, 307, 312, 57, 316, 317, 577, 322, 836, 326, 327, 330, 397, 81, 348, 360, 352, 97, 611, 113, 359, 616, 617, 367, 1000, 114, 115, 372, 117, 377, 383, 640, 386, 137, 394, 395, 66, 398, 402, 406, 920, 418, 421, 423, 425, 428, 285, 432, 691, 697, 442, 443, 450, 456, 460, 473, 226, 483, 232, 491, 750, 239, 246, 250, 507, 254]) 0.0635647821334\n",
        "set([1712, 1638, 1580]) 0.0620048780791\n",
        "set([800, 747, 888, 693, 662, 952, 665, 636]) 0.0619209581242\n",
        "set([1889, 1921, 1839, 1936, 1814]) 0.061477872323\n",
        "set([672, 684, 622, 595]) 0.0607869729968\n",
        "set([1220, 1420, 1232, 1273, 1178, 1311, 1184, 1313, 1250, 1318, 1512, 1324, 1391, 1272, 1465, 1466, 1467, 1278]) 0.060340419447\n",
        "set([1441, 1395, 1421]) 0.0597835995655\n",
        "set([962, 876, 815, 1047, 792]) 0.0594680101358\n",
        "set([1130, 1134, 1230, 1212]) 0.0594119786006\n",
        "set([1714, 1749, 1708]) 0.0588641506064\n",
        "set([938, 1006, 1049, 924]) 0.0587150129659\n",
        "set([1123, 1002, 1003, 1132, 1105, 1074, 1044, 1175, 1017, 986, 1116, 1149, 1054, 1087]) 0.058569356585\n",
        "set([1315, 1397, 1355]) 0.0579520674219\n",
        "set([329, 362, 299, 278, 185, 445, 191]) 0.05649887698\n",
        "set([1825, 1770, 1899, 1840, 1854]) 0.0561944077314\n",
        "set([739, 660, 649]) 0.0535139155881\n",
        "set([232, 137, 266, 239, 337, 306, 250, 282]) 0.0528778014442\n",
        "set([1323, 1068, 1546, 1547, 1171, 1098, 1241, 1180, 1060, 1451, 1388, 1649, 1715, 1227, 1469]) 0.0522167965777\n",
        "set([1088, 1125, 1126, 1036, 1139]) 0.0519034865527\n",
        "set([932, 1029, 1191, 971, 1102, 975]) 0.0517327011244\n",
        "set([353, 324, 393, 458, 374, 439, 516, 314, 444, 479]) 0.0499066818803\n",
        "set([1892, 1839, 1816, 1916, 1887]) 0.0497865899704\n",
        "set([833, 783, 786, 731, 670, 737, 866, 618, 816, 563, 694, 703]) 0.0481456438232\n",
        "set([516, 517, 518, 393, 399, 403, 324, 155, 389, 416, 262, 550, 167, 553, 300, 430, 561, 562, 436, 439, 314, 159, 444, 451, 580, 374, 481, 458, 588, 463, 466, 214, 600, 603, 477, 350, 479, 353, 482, 614, 487, 362, 236, 109, 125, 368, 626, 627, 244, 502, 503, 509, 195]) 0.0457914551911\n",
        "set([1262, 1137, 1203, 1177, 1211, 1085]) 0.0440792106902\n",
        "set([1154, 1187, 1159, 1186, 1103, 1300, 1244, 1119]) 0.0440601316257\n",
        "set([933, 840, 811, 853, 921]) 0.0440367286756\n",
        "set([936, 905, 890]) 0.0428342224054\n",
        "set([944, 1011, 895]) 0.0426690589461\n",
        "set([385, 644, 779, 652, 655, 788, 407, 410, 668, 544, 673, 419, 807, 552, 682, 685, 565, 566, 578, 323, 455, 716, 849, 341, 601, 602, 527, 476, 349, 606, 610, 745, 874, 492, 251, 508]) 0.0424147250315\n",
        "set([1061, 902, 1096, 976, 947, 1055]) 0.0423251308973\n",
        "set([274, 357, 343]) 0.0415230619333\n",
        "set([1945, 1946, 1962, 1965, 1973, 1975, 1976, 1977, 1979, 1982, 1988, 1999, 2002, 2005, 2008, 2011, 2012, 2015, 2019, 2020, 2021, 2022, 2025, 2026, 2028, 2029, 2031]) 0.0414288683315\n",
        "set([1184, 1095, 1384, 1269, 1270, 1278]) 0.0412800465912\n",
        "set([1965, 2002, 2019, 2005, 2008, 1945, 1946, 1999, 2012, 2015, 2011, 2020, 2022, 2025, 1962, 2028, 2029, 2031, 1973, 1975, 1976, 1977, 1979, 2026, 1982]) 0.0408975326632\n",
        "set([770, 773, 701, 724, 860, 861]) 0.040067816611\n",
        "set([838, 850, 915, 917, 979]) 0.0399120222791\n",
        "set([1312, 1542, 1359, 1456, 1425, 1430, 1498, 1436]) 0.0398245084708\n",
        "set([1216, 1189, 1229, 1301, 1253]) 0.0391538586049\n",
        "set([481, 516, 399, 463, 477]) 0.0387985044615\n",
        "set([1184, 1313, 1250, 1220, 1232, 1272, 1273, 1178]) 0.0383590171175\n",
        "set([1585, 1626, 1599]) 0.0371245111521\n",
        "set([1378, 1283, 1380, 1263, 1339]) 0.0367573888093\n",
        "set([641, 686, 659, 634, 667]) 0.0366508052067\n",
        "set([864, 964, 1111, 984, 1039]) 0.0358611704904\n",
        "set([654, 465, 475, 480, 545, 485, 489, 498, 564, 570, 571, 572, 573, 575]) 0.0355677216806\n",
        "set([1056, 1155, 1063, 1033, 1005, 1109, 1082, 1083]) 0.0355202993635\n",
        "set([135, 141, 142, 77, 80, 82, 150, 91, 160, 41, 47, 49, 59]) 0.0352169576962\n",
        "set([1476, 1358, 1463, 1564, 1471]) 0.0347561196354\n",
        "set([675, 744, 524, 594, 501, 598, 827]) 0.0345777730488\n",
        "set([903, 729, 813]) 0.0344119389057\n",
        "set([1024, 645, 907, 908, 911, 656, 916, 790, 1048, 794, 1136, 804, 683, 688, 946, 1078, 696, 828, 829, 831, 708, 966, 711, 1101, 1107, 987, 751, 752, 625, 967, 889, 762, 764]) 0.0342733424332\n",
        "set([1536, 1409, 982, 1286, 1163, 1423, 1424, 1169, 1043, 1454, 1310, 1570, 1064, 1581, 942, 1461, 1594, 957, 949, 1215, 1605, 1481, 1611, 1122, 1104, 1366, 1497, 1115, 1506, 1516, 1517, 1521, 1394, 1267, 1524, 958, 1145, 1530, 1019]) 0.0336423610847\n",
        "set([1836, 1902, 1903, 1842, 1876, 1849, 1886]) 0.0333878058948\n",
        "set([1035, 1167, 1041, 979, 1108]) 0.0331313157068\n",
        "set([1872, 1809, 1746, 1816, 1887, 1829, 1830, 1767, 1834, 1773, 1775, 1782, 1787]) 0.0324510123595\n",
        "set([784, 776, 808, 859]) 0.0316160875787\n",
        "set([706, 583, 586, 587, 719, 663, 674, 749, 495, 500, 574, 638]) 0.031088775423\n",
        "set([718, 722, 756, 661, 761, 700]) 0.0308118537049\n",
        "set([1089, 1225, 1233, 1363, 1112, 1305, 1179, 1117, 1200, 1255, 1053, 1008, 1274]) 0.0296658673842\n",
        "set([993, 1072, 1051, 956, 990]) 0.0294085625202\n",
        "set([997, 1034, 971, 1075, 948]) 0.0288378135902\n",
        "set([546, 581, 469, 524, 594, 596, 501, 598, 604, 511]) 0.0284028225263\n",
        "set([578, 774, 779, 716, 655, 849, 788, 601, 668, 544, 678, 807, 745, 565, 566, 873, 632]) 0.027885052195\n",
        "set([1507, 1196, 1357, 1411, 1396, 1399, 1500, 1309, 1214]) 0.027772192982\n",
        "set([713, 818, 789, 857]) 0.0275549680694\n",
        "set([1411, 1505, 1289, 1347, 1299, 1309, 1377, 1507, 1449, 1515, 1470]) 0.0272243284024\n",
        "set([1282, 1290, 1245]) 0.0255806583505\n",
        "set([417, 342, 510]) 0.0249395114902\n",
        "set([139, 132, 202, 203, 204, 206, 82, 292, 219, 351, 225, 291, 164, 229, 168, 105, 146, 238, 303]) 0.0248713448257\n",
        "set([1302, 1198, 1240, 1138, 1333, 1142, 1337, 1176, 1209]) 0.0245672688235\n",
        "set([1667, 1798, 1683, 1698, 1705, 1578, 1708, 1714, 1586, 1722, 1727, 1728, 1729, 1735, 1736, 1738, 1749, 1641, 1648, 1777, 1653, 1656, 1789]) 0.0241736393977\n",
        "set([417, 358, 404, 438, 569, 505, 313]) 0.0234863242098\n",
        "set([1248, 1217, 1348, 1349, 1287]) 0.022837554352\n",
        "set([1254, 1337, 1257, 1261]) 0.0228316316751\n",
        "set([837, 692, 733, 734, 709]) 0.022593986346\n",
        "set([1923, 1799, 1737, 1935, 1745, 1876, 1813, 1817, 1882, 1819, 1886, 1759, 1828, 1897, 1898, 1903, 1842, 1908, 1758, 1912]) 0.0224769758254\n",
        "set([1541, 1419, 1292, 1293, 1298, 1301, 1183, 1189, 1447, 1193, 1450, 1197, 1455, 1340, 1086, 1216, 1346, 1351, 1354, 1229, 1360, 1496, 1369, 1372, 1373, 1247, 1124, 1253, 1265, 1268, 1271, 1275, 1533, 1429]) 0.0218208291752\n",
        "set([723, 679, 680]) 0.0213022236966\n",
        "set([741, 875, 799]) 0.0205959749123\n",
        "set([1667, 1798, 1673, 1678, 1552, 1809, 1683, 1557, 1648, 1698, 1705, 1708, 1714, 1586, 1587, 1590, 1722, 1728, 1729, 1735, 1736, 1738, 1490, 1493, 1529, 1766, 1510, 1681, 1641, 1520, 1777, 1653, 1782, 1656, 1657, 1658, 1789, 1749]) 0.0197380307848\n",
        "set([805, 742, 871, 712, 713, 839, 817, 838, 789, 730, 767]) 0.019046825034\n",
        "set([1856, 1776, 1891, 1901, 1968, 1938, 1859, 1846, 1880, 1822]) 0.0187194627281\n",
        "set([896, 642, 740, 852, 725, 887, 826, 635]) 0.0181529824812\n",
        "set([832, 1032, 970, 653, 782, 877, 980, 927, 1069, 742, 935, 1128, 871, 749, 878, 690, 767, 1151]) 0.0178029241581\n",
        "set([898, 942, 1042, 1043, 957, 958]) 0.0174335496756\n",
        "set([832, 1032, 970, 653, 782, 877, 980, 927, 1069, 742, 935, 1128, 749, 878, 690, 1016, 767, 1151]) 0.0164564288787\n",
        "set([1410, 1448, 1226, 1487, 1488, 1256, 1494, 1276, 1405, 1342]) 0.0157596543453\n",
        "set([801, 867, 868, 841, 884, 925]) 0.0150739210112\n",
        "set([768, 705, 1026, 901, 1096, 715, 976, 854, 791, 947, 798, 735, 736, 930, 1061, 998, 945, 755, 630, 1014, 1055, 1125, 1023]) 0.0147101181345\n",
        "set([203, 132, 202, 139, 204, 206, 82, 292, 229, 225, 291, 164, 165, 168, 105, 146, 238, 303, 351]) 0.0142982322839\n",
        "set([803, 774, 567, 664, 746, 906]) 0.0141283844039\n",
        "set([514, 519, 522, 219, 605, 351, 539, 292, 229, 422, 497, 441]) 0.0132341935236\n",
        "set([1288, 1195, 1201, 1143, 1207]) 0.0130639918833\n",
        "set([1353, 1292, 1368, 1275, 1372]) 0.00752844259886\n",
        "set([1792, 1794, 1927, 1929, 1930, 2007, 1932, 1812, 1821, 1823, 1955, 1960, 1961, 1966, 1967, 1844, 1974, 1976, 1853, 1984, 1987, 1988, 1989, 1991, 1993, 2000, 2001, 1875, 2004, 1877, 1879, 2013, 1888, 1891, 2021, 2022, 1895, 2029, 1911, 1919]) 0.00644779473191\n",
        "set([1696, 1604, 1680, 1668, 1620, 1732, 1694]) 0.00200637374367\n",
        "set([1537, 1539, 1668, 1669, 1415, 1518, 1433, 1434, 1437, 1567, 1440, 1574, 1575, 1452, 1540, 1458, 1462, 1597, 1601, 1604, 1350, 1608, 1353, 1614, 1615, 1491, 1368, 1501, 1531, 1511, 1258, 1646, 1526, 1527, 1659]) 9.06333648575e-05\n",
        "set([3, 133, 6, 7, 8, 265, 10, 23, 12, 18, 19, 148, 21, 22, 151, 28, 427, 161, 169, 170, 43, 157, 48, 305, 52, 437, 54, 9, 441, 60, 190, 64, 279, 67, 200, 156, 220, 107, 354, 104, 233, 106, 235, 366, 112, 369, 371, 62]) -0.01409293994\n"
       ]
      }
     ],
     "prompt_number": 40
    },
    {
     "cell_type": "code",
     "collapsed": false,
     "input": [
      "vis = visualize_multiple_clusters([filtered_groups[i] for i in arg_score_sorted[:20]])\n",
      "display(vis)"
     ],
     "language": "python",
     "metadata": {},
     "outputs": [
      {
       "html": [
        "<a href='tmp.jpg' target='_blank'>tmp.jpg</a><br>"
       ],
       "metadata": {},
       "output_type": "pyout",
       "prompt_number": 33,
       "text": [
        "/oasis/projects/nsf/csd181/yuncong/Brain/notebooks/tmp.jpg"
       ]
      }
     ],
     "prompt_number": 33
    },
    {
     "cell_type": "code",
     "collapsed": false,
     "input": [
      "# import networkx as nx\n",
      "# from networkx.algorithms.components import connected_components, strongly_connected_components\n",
      "# from networkx.algorithms import find_cliques, cliques_containing_node\n",
      "\n",
      "# G = nx.Graph(overlap_matrix)\n",
      "# # components = [c for c in connected_components(G) if len(c) > 10]\n",
      "# # components = [c for c in list(find_cliques(G)) if len(c) > 3 and len(c) < 50]\n",
      "# # components = [[highlighted_sps[i] for i in c] for c in list(find_cliques(G)) if len(c) > 3 and len(c) < 50]\n",
      "\n",
      "# print len(components)"
     ],
     "language": "python",
     "metadata": {},
     "outputs": [
      {
       "output_type": "stream",
       "stream": "stdout",
       "text": [
        "232\n"
       ]
      }
     ],
     "prompt_number": 42
    },
    {
     "cell_type": "code",
     "collapsed": false,
     "input": [
      "# from sklearn.cluster import AgglomerativeClustering\n",
      "# clustering = AgglomerativeClustering(linkage='average', n_clusters=10)\n",
      "# clustering.fit(X_red)\n",
      "# plot_clustering(X_red, X, clustering.labels_, \"%s linkage\" % linkage)"
     ],
     "language": "python",
     "metadata": {},
     "outputs": []
    },
    {
     "cell_type": "code",
     "collapsed": false,
     "input": [
      "# components_ranked = sorted(components, key=lambda c: compute_cluster_score(c, texton_hists, neighbors)[0], reverse=True)\n",
      "\n",
      "# print cliques_containing_node(G, 1751)"
     ],
     "language": "python",
     "metadata": {},
     "outputs": [],
     "prompt_number": 29
    }
   ],
   "metadata": {}
  }
 ]
}