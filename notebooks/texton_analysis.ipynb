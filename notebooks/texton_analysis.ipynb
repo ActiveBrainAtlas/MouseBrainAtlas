{
 "metadata": {
  "name": "",
  "signature": "sha256:c944fc30cd80d35b24c623bb3a5517b6436369f68fbcd3c72aa48c223076dd9d"
 },
 "nbformat": 3,
 "nbformat_minor": 0,
 "worksheets": [
  {
   "cells": [
    {
     "cell_type": "code",
     "collapsed": false,
     "input": [
      "import numpy as np\n",
      "import cv2\n",
      "\n",
      "import matplotlib.pyplot as plt\n",
      "\n",
      "import random, itertools, sys, os\n",
      "from multiprocessing import Pool\n",
      "import json\n",
      "\n",
      "import utilities\n",
      "from utilities import chi2\n",
      "\n",
      "from joblib import Parallel, delayed\n",
      "\n",
      "import glob, re, os, sys, subprocess, argparse\n",
      "import pprint\n",
      "import cPickle as pickle\n",
      "\n",
      "from skimage.color import hsv2rgb, label2rgb, gray2rgb\n"
     ],
     "language": "python",
     "metadata": {},
     "outputs": [],
     "prompt_number": 8
    },
    {
     "cell_type": "code",
     "collapsed": false,
     "input": [
      "# parser = argparse.ArgumentParser(\n",
      "# formatter_class=argparse.RawDescriptionHelpFormatter,\n",
      "# description='Semi-supervised Sigboost',\n",
      "# epilog=\"\"\"%s\n",
      "# \"\"\"%(os.path.basename(sys.argv[0]), ))\n",
      "\n",
      "# parser.add_argument(\"stack_name\", type=str, help=\"stack name\")\n",
      "# parser.add_argument(\"resolution\", type=str, help=\"resolution string\")\n",
      "# parser.add_argument(\"slice_num\", type=str, help=\"slice number, zero-padded to 4 digits\")\n",
      "# parser.add_argument(\"param_id\", type=str, help=\"parameter identification name\")\n",
      "# args = parser.parse_args()\n",
      "\n",
      "class args:\n",
      "    stack_name = 'RS141'\n",
      "    resolution = 'x5'\n",
      "    slice_id = '0000'\n",
      "    params_name = 'redNissl'\n",
      "\n",
      "data_dir = '/home/yuncong/BrainLocal/DavidData_v3'\n",
      "repo_dir = '/home/yuncong/BrainSaliencyDetection'\n",
      "params_dir = os.path.join(repo_dir, 'params')\n",
      "\n",
      "img_dir = os.path.join(data_dir, args.stack_name, args.resolution, args.slice_id)\n",
      "results_dir = os.path.join(img_dir, args.params_name + '_pipelineResults')\n",
      "labelings_dir = os.path.join(img_dir, 'labelings')\n",
      "\n",
      "image_name = '_'.join([args.stack_name, args.resolution, args.slice_id])\n",
      "instance_name = '_'.join([args.stack_name, args.resolution, args.slice_id, args.params_name])\n",
      "\n",
      "im = cv2.imread(os.path.join(img_dir, image_name + '.tif'), 0)\n",
      "img = utilities.regulate_img(im)\n",
      "\n",
      "cropped_img = cv2.imread(full_object_name('cropImg', 'tif'), 0)\n",
      "cropped_mask = np.load(full_object_name('cropMask', 'npy'), 0) > 0\n",
      "\n",
      "cropped_masked_img = cropped_img.copy()\n",
      "cropped_masked_img[~cropped_mask] = 0\n",
      "\n",
      "def full_object_name(obj_name, ext):\n",
      "    return os.path.join(data_dir, args.stack_name, args.resolution, args.slice_id, \n",
      "                        args.params_name+'_pipelineResults', instance_name + '_' + obj_name + '.' + ext)\n",
      "\n",
      "\n",
      "# load parameter settings\n",
      "params_dir = os.path.realpath(params_dir)\n",
      "param_file = os.path.join(params_dir, 'param_%s.json'%args.params_name)\n",
      "param_default_file = os.path.join(params_dir, 'param_default.json')\n",
      "param = json.load(open(param_file, 'r'))\n",
      "param_default = json.load(open(param_default_file, 'r'))\n",
      "\n",
      "for k, v in param_default.iteritems():\n",
      "    if not isinstance(param[k], basestring):\n",
      "        if np.isnan(param[k]):\n",
      "            param[k] = v\n",
      "\n",
      "pprint.pprint(param)"
     ],
     "language": "python",
     "metadata": {},
     "outputs": [
      {
       "output_type": "stream",
       "stream": "stdout",
       "text": [
        "{u'bandwidth': 2,\n",
        " u'beta': 1.0,\n",
        " u'freq_step': 1.5,\n",
        " u'frontier_contrast_diff_thresh': 0.2,\n",
        " u'lr_decision_thresh': 0.3,\n",
        " u'lr_grow_thresh': 0.1,\n",
        " u'max_wavelen': 40.0,\n",
        " u'min_wavelen': 5.0,\n",
        " u'n_iter': 10,\n",
        " u'n_models': 10,\n",
        " u'n_sample': 10000,\n",
        " u'n_superpixels': 2000.0,\n",
        " u'n_texton': 100,\n",
        " u'param_id': u'redNissl',\n",
        " u'slic_compactness': 20.0,\n",
        " u'slic_sigma': 5.0,\n",
        " u'theta_interval': 16}\n"
       ]
      }
     ],
     "prompt_number": 46
    },
    {
     "cell_type": "code",
     "collapsed": false,
     "input": [
      "textonmap = np.load(full_object_name('texMap', 'npy'))\n",
      "masked_textonmap = textonmap.copy()\n",
      "masked_textonmap[cropped_mask] = -1"
     ],
     "language": "python",
     "metadata": {},
     "outputs": [],
     "prompt_number": 41
    },
    {
     "cell_type": "code",
     "collapsed": false,
     "input": [
      "texmap_vis = label2rgb(textonmap, bg_label=-1)"
     ],
     "language": "python",
     "metadata": {},
     "outputs": [],
     "prompt_number": 53
    },
    {
     "cell_type": "code",
     "collapsed": false,
     "input": [
      "plt.imshow(cropped_mask, cmap=plt.cm.Greys_r)\n",
      "plt.show()"
     ],
     "language": "python",
     "metadata": {},
     "outputs": [],
     "prompt_number": 43
    },
    {
     "cell_type": "code",
     "collapsed": false,
     "input": [
      "plt.imshow(cropped_masked_img, cmap=plt.cm.Greys_r)\n",
      "plt.show()"
     ],
     "language": "python",
     "metadata": {},
     "outputs": [],
     "prompt_number": 47
    },
    {
     "cell_type": "code",
     "collapsed": false,
     "input": [
      "plt.imshow(texmap_vis)\n",
      "plt.show()"
     ],
     "language": "python",
     "metadata": {},
     "outputs": [],
     "prompt_number": 54
    }
   ],
   "metadata": {}
  }
 ]
}