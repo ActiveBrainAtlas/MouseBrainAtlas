{
 "metadata": {
  "name": "",
  "signature": "sha256:388def65c6065628e776c3de9f0bd2f77cc92b74e7b358e0b0f8db256170cbbf"
 },
 "nbformat": 3,
 "nbformat_minor": 0,
 "worksheets": [
  {
   "cells": [
    {
     "cell_type": "code",
     "collapsed": false,
     "input": [
      "import numpy as np\n",
      "import matplotlib.pyplot as plt\n",
      "\n",
      "hc_colors = np.loadtxt('../visualization/high_contrast_colors.txt', skiprows=1)/255.\n",
      "\n",
      "fig, axes = plt.subplots(ncols=len(hc_colors))\n",
      "fig.subplots_adjust(top=0.95, bottom=0.01, left=0.2, right=0.99)\n",
      "\n",
      "for i, (ax, c) in enumerate(zip(axes, hc_colors)):\n",
      "    color_box = np.empty((1,1,3))\n",
      "    color_box[:,:] = c\n",
      "    ax.imshow(color_box, aspect='equal')\n",
      "    pos = list(ax.get_position().bounds)\n",
      "    x_text = pos[0] + pos[2]/2.\n",
      "    y_text = pos[1] + pos[3]/2.\n",
      "    fig.text(x_text, y_text, i-1, va='center', ha='center', fontsize=10)\n",
      "\n",
      "for ax in axes:\n",
      "    ax.set_axis_off()\n",
      "    \n",
      "plt.savefig('../visualization/hc_colors.tif', bbox_inches='tight')\n",
      "# plt.show()"
     ],
     "language": "python",
     "metadata": {},
     "outputs": []
    }
   ],
   "metadata": {}
  }
 ]
}