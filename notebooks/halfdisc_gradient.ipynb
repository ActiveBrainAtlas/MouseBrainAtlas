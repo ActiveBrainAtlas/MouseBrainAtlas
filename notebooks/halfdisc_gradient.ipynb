{
 "cells": [
  {
   "cell_type": "code",
   "execution_count": 3,
   "metadata": {
    "collapsed": true
   },
   "outputs": [],
   "source": [
    "%reload_ext autoreload\n",
    "%autoreload 2"
   ]
  },
  {
   "cell_type": "code",
   "execution_count": 4,
   "metadata": {
    "collapsed": false
   },
   "outputs": [],
   "source": [
    "import numpy as np\n",
    "from joblib import Parallel, delayed\n",
    "from itertools import product\n",
    "import os\n",
    "\n",
    "import sys\n",
    "sys.path.append(os.environ['GORDON_REPO_DIR'] + '/pipeline_scripts')\n",
    "from utilities2014 import *\n",
    "\n",
    "import matplotlib.pyplot as plt\n",
    "%matplotlib inline\n",
    "\n",
    "from tables import *\n",
    "\n",
    "# import compute_pie"
   ]
  },
  {
   "cell_type": "code",
   "execution_count": 5,
   "metadata": {
    "collapsed": false
   },
   "outputs": [
    {
     "name": "stderr",
     "output_type": "stream",
     "text": [
      "/oasis/projects/nsf/csd181/yuncong/virtualenv-1.9.1/yuncongve/lib/python2.7/site-packages/skimage/filter/__init__.py:6: skimage_deprecation: The `skimage.filter` module has been renamed to `skimage.filters`.  This placeholder module will be removed in v0.13.\n",
      "  warn(skimage_deprecation('The `skimage.filter` module has been renamed '\n"
     ]
    }
   ],
   "source": [
    "dm = DataManager(generate_hierarchy=False, stack='RS141', resol='x5', section=2)\n",
    "dm._load_image()"
   ]
  },
  {
   "cell_type": "code",
   "execution_count": 6,
   "metadata": {
    "collapsed": true
   },
   "outputs": [],
   "source": [
    "textonmap = dm.load_pipeline_result('texMap', 'npy')\n",
    "textonmap_viz = dm.load_pipeline_result('texMap', 'png')\n",
    "n_texton = len(np.unique(textonmap)) - 1\n",
    "\n",
    "mys, mxs = np.where(dm.mask)\n",
    "mys = mys.astype(np.int16)\n",
    "mxs = mxs.astype(np.int16)"
   ]
  },
  {
   "cell_type": "code",
   "execution_count": 7,
   "metadata": {
    "collapsed": true
   },
   "outputs": [],
   "source": [
    "n_theta = 12\n",
    "theta_binwidth = 2*np.pi/n_theta"
   ]
  },
  {
   "cell_type": "code",
   "execution_count": 19,
   "metadata": {
    "collapsed": true
   },
   "outputs": [],
   "source": [
    "circle_indices_r = []"
   ]
  },
  {
   "cell_type": "code",
   "execution_count": 20,
   "metadata": {
    "collapsed": false
   },
   "outputs": [],
   "source": [
    "# if os.path.exists('/home/yuncong/csd395/H'):\n",
    "\n",
    "#     with open_file('/home/yuncong/csd395/H', mode=\"r\") as f:\n",
    "#         H = f.root.data.read()\n",
    "\n",
    "# else:\n",
    "\n",
    "radius_list = [50,100,200]\n",
    "n_radius = len(radius_list)\n",
    "max_radius = radius_list[-1]\n",
    "\n",
    "box_indices = np.dstack(np.meshgrid(np.arange(-max_radius, max_radius+1), \n",
    "                                    np.arange(-max_radius, max_radius+1))).astype(np.int16)\n",
    "norms = np.linalg.norm(box_indices.astype(np.float), axis=-1)\n",
    "\n",
    "pie_indices_r = []\n",
    "for ri in range(n_radius):\n",
    "#     if ri == 0:\n",
    "#         circle_indices = box_indices[norms <= radius_list[0]]\n",
    "#     else:\n",
    "#         circle_indices = box_indices[(norms <= radius_list[ri]) & (norms > radius_list[ri-1])]\n",
    "\n",
    "    circle_indices = box_indices[norms <= radius_list[ri]]\n",
    "    circle_indices_r.append(circle_indices)\n",
    "    \n",
    "    \n",
    "    angles = np.arctan2(circle_indices[:,0], circle_indices[:,1])\n",
    "    angles[angles < 0] += 2*np.pi\n",
    "    angular_bins = np.int0(angles/theta_binwidth)\n",
    "    pie_indices = [circle_indices[angular_bins==k] for k in range(n_theta)]\n",
    "    pie_indices_r.append(pie_indices)"
   ]
  },
  {
   "cell_type": "code",
   "execution_count": null,
   "metadata": {
    "collapsed": true
   },
   "outputs": [],
   "source": [
    "pie_mask = [[None for _ in range(n_theta)] for _ in radius_list]\n",
    "for ri, r in enumerate(radius_list):\n",
    "    for s in range(n_theta):\n",
    "        pie_mask[ri][s] = np.zeros((2*r+1,2*r+1), np.bool).copy()\n",
    "        pie_mask[ri][s][r+pie_indices_r[ri][s][:,0], r+pie_indices_r[ri][s][:,1]] = 1"
   ]
  },
  {
   "cell_type": "code",
   "execution_count": 8,
   "metadata": {
    "collapsed": false
   },
   "outputs": [],
   "source": [
    "# for ri, r in enumerate(radius_list):\n",
    "#     for s in range(n_theta):\n",
    "#         plt.figure()\n",
    "#         plt.matshow(pie_mask[ri][s], cmap=plt.cm.gray_r)"
   ]
  },
  {
   "cell_type": "code",
   "execution_count": 9,
   "metadata": {
    "collapsed": true
   },
   "outputs": [],
   "source": [
    "from scipy.signal import convolve2d, fftconvolve"
   ]
  },
  {
   "cell_type": "code",
   "execution_count": 10,
   "metadata": {
    "collapsed": false
   },
   "outputs": [],
   "source": [
    "# t = time.time()\n",
    "# # q = ndimage.convolve(textonmap_individual_channels[0], pie_mask[0][0])\n",
    "# q = fftconvolve(textonmap_individual_channels[0], pie_mask[0][0], mode='same').astype(np.int)\n",
    "# print time.time() - t"
   ]
  },
  {
   "cell_type": "code",
   "execution_count": 11,
   "metadata": {
    "collapsed": false
   },
   "outputs": [],
   "source": [
    "# t = time.time()\n",
    "# q = compute_pie_histogram(1, 0, pie_mask[1][0])\n",
    "# print time.time() - t"
   ]
  },
  {
   "cell_type": "code",
   "execution_count": 12,
   "metadata": {
    "collapsed": true
   },
   "outputs": [],
   "source": [
    "textonmap_individual_channels = [textonmap == c for c in range(n_texton)]\n",
    "\n",
    "filters = Filters(complevel=9, complib='blosc')\n",
    "\n",
    "def compute_pie_histogram(ri, s, pie_mask):\n",
    "    h = np.zeros((dm.image_height, dm.image_width, n_texton), np.int)\n",
    "    for c in range(n_texton):\n",
    "        h[:,:,c] = fftconvolve(textonmap_individual_channels[c], pie_mask, mode='same').astype(np.int)\n",
    "#         np.save('/home/yuncong/csd395/h_r%d_s%d.npy'%(ri,s), h)\n",
    "        \n",
    "    with open_file('/home/yuncong/csd395/h_r%d_s%d.hdf'%(ri,s), mode=\"w\") as f:\n",
    "        _ = f.create_carray('/', 'data', Int64Atom(), filters=filters, obj=h)\n",
    "        \n",
    "#     return h"
   ]
  },
  {
   "cell_type": "code",
   "execution_count": 13,
   "metadata": {
    "collapsed": false
   },
   "outputs": [
    {
     "name": "stdout",
     "output_type": "stream",
     "text": [
      "44.5730931759\n",
      "47.9857242107\n",
      "50.1922280788\n"
     ]
    }
   ],
   "source": [
    "from scipy import ndimage\n",
    "\n",
    "for ri in range(n_radius):\n",
    "    t = time.time()\n",
    "    Parallel(n_jobs=16)(delayed(compute_pie_histogram)(ri, s, pie_mask[ri][s]) for s in range(n_theta))\n",
    "    print time.time() - t"
   ]
  },
  {
   "cell_type": "code",
   "execution_count": null,
   "metadata": {
    "collapsed": true
   },
   "outputs": [],
   "source": [
    "# with open_file('/home/yuncong/csd395/H_r%d.hdf'%ri, mode=\"w\") as f:\n",
    "#     for s in range(n_theta):\n",
    "#         _ = f.create_carray('/', 'orientation_%d'%s, Int64Atom(), filters=filters, obj=H[s])"
   ]
  },
  {
   "cell_type": "code",
   "execution_count": null,
   "metadata": {
    "collapsed": false
   },
   "outputs": [],
   "source": [
    "# filters = Filters(complevel=9, complib='blosc')\n",
    "\n",
    "# for ri in range(n_radius):\n",
    "\n",
    "#     b = time.time()\n",
    "\n",
    "#     H = Parallel(n_jobs=16)(delayed(compute_pie.compute_pie_histogram)(textonmap, pie_indices_r[ri][s], \n",
    "#                                                        mys, mxs, radius_list[ri], height, width, n_texton) \n",
    "#                             for s in range(n_theta))\n",
    "\n",
    "#     print 1, time.time() - b\n",
    "    \n",
    "#     b = time.time()\n",
    "    \n",
    "#     with open_file('/home/yuncong/csd395/H_r%d.hdf'%ri, mode=\"w\") as f:\n",
    "#         for s in range(n_theta):\n",
    "#             _ = f.create_carray('/', 'orientation_%d'%s, Int64Atom(), filters=filters, obj=H[s])\n",
    "\n",
    "    \n",
    "#     print 2, time.time() - b\n",
    "    \n",
    "#     del H"
   ]
  },
  {
   "cell_type": "code",
   "execution_count": 8,
   "metadata": {
    "collapsed": true
   },
   "outputs": [],
   "source": [
    "def chi2s(h1s, h2s):\n",
    "    return np.nansum((h1s-h2s)**2/(h1s+h2s).astype(np.float), axis=1)\n",
    "\n",
    "def compute_halfdisc_histogram_diff(H, start_bin, mys, mxs):\n",
    "    \n",
    "    n_theta, height, width = H.shape[:3]\n",
    "    \n",
    "    Gs = np.zeros((height, width), np.float)\n",
    "\n",
    "    first_half_bins = np.arange(start_bin, start_bin+n_theta/2)%n_theta\n",
    "    second_half_bins = np.arange(start_bin+n_theta/2, start_bin+n_theta)%n_theta\n",
    "\n",
    "    H_halfdisk1 = np.sum(H[first_half_bins[:,None], mys, mxs], axis=0).astype(np.float)\n",
    "    H_halfdisk2 = np.sum(H[second_half_bins[:,None], mys, mxs], axis=0).astype(np.float)\n",
    "        \n",
    "    H_halfdisk1 /= H_halfdisk1.sum(axis=-1)[:,None]\n",
    "    H_halfdisk2 /= H_halfdisk2.sum(axis=-1)[:,None]\n",
    "    \n",
    "    Gs[mys, mxs] = chi2s(H_halfdisk1, H_halfdisk2)\n",
    "\n",
    "    return Gs"
   ]
  },
  {
   "cell_type": "code",
   "execution_count": 11,
   "metadata": {
    "collapsed": false
   },
   "outputs": [
    {
     "name": "stderr",
     "output_type": "stream",
     "text": [
      "/oasis/projects/nsf/csd181/yuncong/virtualenv-1.9.1/yuncongve/lib/python2.7/site-packages/IPython/kernel/__main__.py:16: RuntimeWarning: invalid value encountered in divide\n",
      "/oasis/projects/nsf/csd181/yuncong/virtualenv-1.9.1/yuncongve/lib/python2.7/site-packages/IPython/kernel/__main__.py:17: RuntimeWarning: invalid value encountered in divide\n",
      "/oasis/projects/nsf/csd181/yuncong/virtualenv-1.9.1/yuncongve/lib/python2.7/site-packages/IPython/kernel/__main__.py:2: RuntimeWarning: invalid value encountered in divide\n",
      "  from IPython.kernel.zmq import kernelapp as app\n"
     ]
    }
   ],
   "source": [
    "# %time G = Parallel(n_jobs=16)(delayed(compute_halfdisc_histogram_diff)(s, mys, mxs) for s in range(n_theta/2))\n",
    "\n",
    "# Gmax = np.zeros((dm.image_height, dm.image_width))\n",
    "# H = np.zeros((n_theta, dm.image_height, dm.image_width, n_texton), np.int)\n",
    "\n",
    "# for ri in range(n_radius):\n",
    "    \n",
    "#     t = time.time()\n",
    "\n",
    "#     for s in range(n_theta):\n",
    "#         with open_file('/home/yuncong/csd395/h_r%d_s%d.hdf'%(ri,s), mode=\"r\") as f:\n",
    "#             H[s] = f.get_node('/data').read()\n",
    "\n",
    "#     #     G = np.empty((n_theta/2, height, width))\n",
    "#     G = [compute_halfdisc_histogram_diff(H, s, mys, mxs) for s in range(n_theta/2)]\n",
    "#     Gmax = np.maximum(Gmax, np.max(G, axis=0))\n",
    "    \n",
    "#     print time.time() - t\n",
    "    \n",
    "# Gmax = np.zeros((n_radius, dm.image_height, dm.image_width), np.float)\n",
    "# for ri in range(n_radius):\n",
    "\n",
    "ri = 0\n",
    "for s in range(n_theta):\n",
    "    with open_file('/home/yuncong/csd395/h_r%d_s%d.hdf'%(ri,s), mode=\"r\") as f:\n",
    "        H[s] = f.get_node('/data').read()\n",
    "#     G = np.empty((n_theta/2, height, width))\n",
    "G = [compute_halfdisc_histogram_diff(H, s, mys, mxs) for s in range(n_theta/2)]\n",
    "Gmax = np.max(G, axis=0)\n",
    "\n"
   ]
  },
  {
   "cell_type": "code",
   "execution_count": 12,
   "metadata": {
    "collapsed": false
   },
   "outputs": [
    {
     "data": {
      "text/html": [
       "<a href='tmp.jpg' target='_blank'>tmp.jpg</a><br>"
      ],
      "text/plain": [
       "/oasis/projects/nsf/csd395/yuncong/Brain/notebooks/tmp.jpg"
      ]
     },
     "execution_count": 12,
     "metadata": {},
     "output_type": "execute_result"
    }
   ],
   "source": [
    "Gmax_viz = plt.cm.jet(Gmax/np.nanmax(Gmax));\n",
    "display(Gmax_viz)"
   ]
  },
  {
   "cell_type": "code",
   "execution_count": 13,
   "metadata": {
    "collapsed": true
   },
   "outputs": [],
   "source": [
    "np.save('/home/yuncong/csd395/Gmax.npy', Gmax)"
   ]
  },
  {
   "cell_type": "code",
   "execution_count": null,
   "metadata": {
    "collapsed": true
   },
   "outputs": [],
   "source": [
    "Gmax = np.load('/``home/yuncong/csd395/Gmax.npy')"
   ]
  },
  {
   "cell_type": "code",
   "execution_count": null,
   "metadata": {
    "collapsed": false
   },
   "outputs": [],
   "source": [
    "theta_ind = 0"
   ]
  },
  {
   "cell_type": "code",
   "execution_count": null,
   "metadata": {
    "collapsed": false
   },
   "outputs": [],
   "source": [
    "dy, dx = np.gradient(Gmax)\n",
    "\n",
    "grad_norm = np.sqrt(dx**2+dy**2)\n",
    "grad_unit_vec_y = np.nan_to_num(dy/grad_norm)\n",
    "grad_unit_vec_x = np.nan_to_num(-dx/grad_norm)\n",
    "\n",
    "gy = grad_unit_vec_y[mys, mxs]\n",
    "gx = grad_unit_vec_x[mys, mxs]\n",
    "\n",
    "a = np.arange(-20, 20)\n",
    "\n",
    "neighborhood_y = np.outer(gy, a)\n",
    "neighborhood_x = np.outer(gx, a)\n",
    "\n",
    "global_neighborhood_y = (mys[:,None] + neighborhood_y).astype(np.int)\n",
    "global_neighborhood_x = (mxs[:,None] + neighborhood_x).astype(np.int)\n",
    "\n",
    "b = time.time()\n",
    "global_neighborhood_y[global_neighborhood_y < 0] = 0\n",
    "global_neighborhood_y[global_neighborhood_y >= height] = height-1\n",
    "global_neighborhood_x[global_neighborhood_x < 0] = 0\n",
    "global_neighborhood_x[global_neighborhood_x >= width] = width-1\n",
    "print time.time()-b\n",
    "\n",
    "# 60s, slower than above\n",
    "# b = time.time()\n",
    "# global_neighborhood_y = np.minimum(np.maximum(global_neighborhood_y.astype(np.int), 0), height)\n",
    "# global_neighborhood_x = np.minimum(np.maximum(global_neighborhood_x.astype(np.int), 0), width)\n",
    "# print time.time()-b\n",
    "\n",
    "global_neighborhood_values = Gmax[global_neighborhood_y, global_neighborhood_x]\n",
    "global_neighborhood_maximum = global_neighborhood_values.max(axis=1)\n",
    "\n",
    "values = Gmax[mys, mxs]\n",
    "\n",
    "is_local_maximum = global_neighborhood_maximum == values\n",
    "\n",
    "mys_local_max = mys[is_local_maximum]\n",
    "mxs_local_max = mxs[is_local_maximum]\n",
    "\n",
    "G_nonmaxsup = np.zeros_like(Gmax)\n",
    "G_nonmaxsup[mys_local_max, mxs_local_max] = Gmax[mys_local_max, mxs_local_max]\n",
    "G_nonmaxsup[(grad_unit_vec_y==0)&(grad_unit_vec_x==0)] = 0"
   ]
  },
  {
   "cell_type": "code",
   "execution_count": null,
   "metadata": {
    "collapsed": false
   },
   "outputs": [],
   "source": [
    "np.save('/home/yuncong/csd395/G_nonmaxsup.npy', G_nonmaxsup)"
   ]
  },
  {
   "cell_type": "code",
   "execution_count": null,
   "metadata": {
    "collapsed": false
   },
   "outputs": [],
   "source": [
    "# plt.matshow(G_nonmaxsup);\n",
    "\n",
    "# viz = plt.cm.jet(Gmax/Gmax.max())\n",
    "# display(viz)\n",
    "\n",
    "viz = plt.cm.jet(G_nonmaxsup/G_nonmaxsup.max());\n",
    "display(viz)"
   ]
  },
  {
   "cell_type": "code",
   "execution_count": null,
   "metadata": {
    "collapsed": true
   },
   "outputs": [],
   "source": [
    "G_nonmaxsup = np.load('/home/yuncong/csd395/G_nonmaxsup.npy')"
   ]
  },
  {
   "cell_type": "markdown",
   "metadata": {},
   "source": [
    "Compute intervening contour cue"
   ]
  },
  {
   "cell_type": "code",
   "execution_count": 27,
   "metadata": {
    "collapsed": true
   },
   "outputs": [],
   "source": [
    "r = 5\n",
    "rho = .5"
   ]
  },
  {
   "cell_type": "code",
   "execution_count": 28,
   "metadata": {
    "collapsed": false
   },
   "outputs": [],
   "source": [
    "conns_ij_y = []\n",
    "conns_ij_x = []\n",
    "circle_j = []\n",
    "for y, x in product(range(-r, r+1), range(-r, r+1)):\n",
    "    d = np.sqrt(y**2+x**2)\n",
    "    if d < r and not (y==0 and x==0):\n",
    "        pts_conn_ij_y = np.linspace(0,y,d).astype(np.int)\n",
    "        pts_conn_ij_x = np.linspace(0,x,d).astype(np.int)\n",
    "        circle_j.append((y,x))\n",
    "        conns_ij_y.append(pts_conn_ij_y)\n",
    "        conns_ij_x.append(pts_conn_ij_x)\n",
    "\n",
    "circle_j = np.asarray(circle_j)"
   ]
  },
  {
   "cell_type": "code",
   "execution_count": null,
   "metadata": {
    "collapsed": false,
    "scrolled": true
   },
   "outputs": [],
   "source": [
    "import compute_pie\n",
    "\n",
    "b = time.time()\n",
    "\n",
    "A = Parallel(n_jobs=16)(delayed(compute_pie.compute_connection_weight)(G_nonmaxsup, conns_ij_y, conns_ij_x,\n",
    "                                                                       mys[s], mxs[s], height, width)\n",
    "                        for s in np.array_split(range(len(mys)), 16))\n",
    "\n",
    "print time.time()-b\n",
    "\n",
    "A = np.vstack(A)\n",
    "W = np.exp(-A/rho)"
   ]
  },
  {
   "cell_type": "markdown",
   "metadata": {},
   "source": [
    "Alternative: use iPython Parallel"
   ]
  },
  {
   "cell_type": "code",
   "execution_count": null,
   "metadata": {
    "collapsed": true
   },
   "outputs": [],
   "source": [
    "from IPython.parallel import Client\n",
    "cli = Client(profile='parallel')\n",
    "dview = cli[:]"
   ]
  },
  {
   "cell_type": "code",
   "execution_count": null,
   "metadata": {
    "collapsed": false
   },
   "outputs": [],
   "source": [
    "dview.execute(\"import sys; sys.path.append('/home/yuncong/csd395/Brain/notebooks')\")\n",
    "dview.execute('import compute_pie')\n",
    "\n",
    "mydict=dict(G_nonmaxsup=G_nonmaxsup, conns_ij_y=conns_ij_y,\n",
    "             conns_ij_x=conns_ij_x, height=height, width=width)\n",
    "dview.push(mydict)\n",
    "\n",
    "bar = lambda a,b: compute_pie.compute_connection_weight(G_nonmaxsup=G_nonmaxsup, conns_ij_y=conns_ij_y,\n",
    "             conns_ij_x=conns_ij_x, height=height, width=width, mys=a, mxs=b)\n",
    "\n",
    "b = time.time()\n",
    "A = dview.map_sync(bar, np.array_split(mys, 192), np.array_split(mxs, 192))\n",
    "print time.time() - b\n",
    "\n",
    "A = np.vstack(A)\n",
    "W = np.exp(-A/rho)\n",
    "del A"
   ]
  },
  {
   "cell_type": "code",
   "execution_count": 24,
   "metadata": {
    "collapsed": false
   },
   "outputs": [],
   "source": [
    "with open_file('/home/yuncong/csd395/A.hdf', mode=\"r\") as f:\n",
    "    A = f.get_node('/data').read()"
   ]
  },
  {
   "cell_type": "code",
   "execution_count": 29,
   "metadata": {
    "collapsed": false
   },
   "outputs": [],
   "source": [
    "pis = np.c_[mys, mxs]\n",
    "pjs = pis[:,None] + circle_j\n",
    "lookup = dict([(tuple(pi), i) for i, pi in enumerate(pis)])\n",
    "nz_is, nz_offsets = np.where(A)\n",
    "print len(nz_is)\n",
    "\n",
    "def lookup_point_indices(pts):\n",
    "    return [lookup[tuple(p)] for p in pts]\n",
    "\n",
    "b = time.time()\n",
    "\n",
    "Q = Parallel(n_jobs=16)(delayed(lookup_point_indices)(pts) for pts in np.array_split(pjs[nz_is, nz_offsets], 16))\n",
    "\n",
    "from itertools import chain\n",
    "js = np.fromiter(list(chain(*Q)), dtype=np.int)\n",
    "\n",
    "print time.time() - b"
   ]
  },
  {
   "cell_type": "code",
   "execution_count": 34,
   "metadata": {
    "collapsed": true
   },
   "outputs": [],
   "source": [
    "from scipy.sparse import coo_matrix, csr_matrix, dia_matrix, diags"
   ]
  },
  {
   "cell_type": "code",
   "execution_count": 65,
   "metadata": {
    "collapsed": true
   },
   "outputs": [],
   "source": [
    "W = np.exp(-A/rho) # breaks sparsity"
   ]
  },
  {
   "cell_type": "code",
   "execution_count": 88,
   "metadata": {
    "collapsed": true
   },
   "outputs": [],
   "source": [
    "n = len(mys)\n",
    "M = coo_matrix((A[nz_is, nz_offsets], (nz_is, js)), shape=(n,n))\n",
    "m = M.tocsr()"
   ]
  },
  {
   "cell_type": "code",
   "execution_count": 144,
   "metadata": {
    "collapsed": false
   },
   "outputs": [],
   "source": [
    "partial_m = m[:20000,:20000].todense()\n",
    "W = np.exp(-partial_m/rho)\n",
    "D = np.diag(W.sum(axis=1).A1)"
   ]
  },
  {
   "cell_type": "code",
   "execution_count": 124,
   "metadata": {
    "collapsed": false,
    "scrolled": true
   },
   "outputs": [],
   "source": [
    "D = diags([W.sum(axis=1).A1], [0])\n",
    "d = D.tocsr()"
   ]
  },
  {
   "cell_type": "code",
   "execution_count": 5,
   "metadata": {
    "collapsed": true
   },
   "outputs": [],
   "source": [
    "def save_sparse_csr(filename,array):\n",
    "    np.savez(filename,data = array.data ,indices=array.indices,\n",
    "             indptr =array.indptr, shape=array.shape )\n",
    "\n",
    "def load_sparse_csr(filename):\n",
    "    loader = np.load(filename)\n",
    "    return csr_matrix((  loader['data'], loader['indices'], loader['indptr']),\n",
    "                         shape = loader['shape'])"
   ]
  },
  {
   "cell_type": "code",
   "execution_count": 6,
   "metadata": {
    "collapsed": false
   },
   "outputs": [],
   "source": [
    "L = load_sparse_csr(\"/home/yuncong/csd395/L.npz\")\n",
    "d = load_sparse_csr(\"/home/yuncong/csd395/d.npz\")"
   ]
  },
  {
   "cell_type": "code",
   "execution_count": 39,
   "metadata": {
    "collapsed": true
   },
   "outputs": [],
   "source": [
    "import scipy.sparse.linalg"
   ]
  },
  {
   "cell_type": "code",
   "execution_count": 145,
   "metadata": {
    "collapsed": false
   },
   "outputs": [],
   "source": [
    "vals, vecs = scipy.sparse.linalg.eigsh(D-W, k=4, M=D)"
   ]
  },
  {
   "cell_type": "code",
   "execution_count": 147,
   "metadata": {
    "collapsed": true
   },
   "outputs": [],
   "source": [
    "I = np.zeros(image.shape[:2])\n",
    "I[mys[:20000], mxs[:20000]] = vecs[:,0]\n",
    "plt.matshow(I)"
   ]
  },
  {
   "cell_type": "code",
   "execution_count": null,
   "metadata": {
    "collapsed": true
   },
   "outputs": [],
   "source": []
  },
  {
   "cell_type": "code",
   "execution_count": null,
   "metadata": {
    "collapsed": false
   },
   "outputs": [],
   "source": [
    "#     dy, dx = np.gradient(G[theta_ind])\n",
    "#     dt = dx*np.cos(diff_orientation) + dy*np.sin(diff_orientation)\n",
    "\n",
    "Gmax_viz = plt.cm.jet(G[theta_ind]/np.nanmax(G[theta_ind]));\n",
    "display(Gmax_viz)"
   ]
  },
  {
   "cell_type": "code",
   "execution_count": null,
   "metadata": {
    "collapsed": false
   },
   "outputs": [],
   "source": [
    "display(image)"
   ]
  },
  {
   "cell_type": "code",
   "execution_count": null,
   "metadata": {
    "collapsed": false
   },
   "outputs": [],
   "source": [
    "display(textonmap_viz)"
   ]
  },
  {
   "cell_type": "code",
   "execution_count": null,
   "metadata": {
    "collapsed": false
   },
   "outputs": [],
   "source": [
    "from scipy.ndimage.filters import gaussian_filter\n",
    "\n",
    "g = np.empty_like(G)\n",
    "eps = .001\n",
    "sigma = 10\n",
    "\n",
    "for theta_ind in range(n_theta/2):\n",
    "    print theta_ind\n",
    "    \n",
    "#     diff_orientation = thetas[theta_ind] + np.pi/2\n",
    "\n",
    "#     dy, dx = np.gradient(G[theta_ind])\n",
    "#     dt = dx*np.cos(diff_orientation) + dy*np.sin(diff_orientation)\n",
    "    \n",
    "#     dt_dy, dt_dx = np.gradient(dt)\n",
    "#     dt_dt = dt_dx*np.cos(diff_orientation) + dt_dy*np.sin(diff_orientation)\n",
    "\n",
    "#     d_to_peak = -(np.abs(dt)+eps)/dt_dt\n",
    "#     g = G[theta_ind]/(d_to_peak)\n",
    "    \n",
    "    dt = gaussian_filter(G[theta_ind], sigma, order=1)\n",
    "    dt_dt = gaussian_filter(G[theta_ind], sigma, order=2)\n",
    "    g[theta_ind] = G[theta_ind]*(-dt_dt/(np.abs(dt)+eps))"
   ]
  },
  {
   "cell_type": "code",
   "execution_count": null,
   "metadata": {
    "collapsed": false
   },
   "outputs": [],
   "source": [
    "gmax = np.max(np.abs(g), axis=0)\n",
    "gmax = gmax/gmax.max()\n",
    "gmax_viz = plt.cm.jet(gmax*2);\n",
    "display(gmax_viz)"
   ]
  },
  {
   "cell_type": "code",
   "execution_count": null,
   "metadata": {
    "collapsed": false,
    "scrolled": false
   },
   "outputs": [],
   "source": [
    "vmax = np.nanmax(G)\n",
    "thetas = np.linspace(0, np.pi, n_theta/2+1)\n",
    "\n",
    "n_cols = 2\n",
    "n_rows = n_theta/2/n_cols\n",
    "fig, axes = plt.subplots(n_rows, n_cols, figsize=(20,20));\n",
    "for s in range(n_theta/2):\n",
    "    ax = axes[s/n_cols, s%n_cols]\n",
    "    ax.matshow(G[s], vmin=0, vmax=vmax);\n",
    "    ax.set_title('theta = %.2f'%np.rad2deg(thetas[s]))\n",
    "    ax.set_axis_off();"
   ]
  },
  {
   "cell_type": "code",
   "execution_count": null,
   "metadata": {
    "collapsed": true
   },
   "outputs": [],
   "source": []
  }
 ],
 "metadata": {
  "kernelspec": {
   "display_name": "Python 2",
   "language": "python",
   "name": "python2"
  },
  "language_info": {
   "codemirror_mode": {
    "name": "ipython",
    "version": 2
   },
   "file_extension": ".py",
   "mimetype": "text/x-python",
   "name": "python",
   "nbconvert_exporter": "python",
   "pygments_lexer": "ipython2",
   "version": "2.7.3"
  }
 },
 "nbformat": 4,
 "nbformat_minor": 0
}
