{
 "metadata": {
  "name": "",
  "signature": "sha256:8810d11e8c686f61eb324a3f259b14a2aa42c4c668c5753ec2d86408a34b480c"
 },
 "nbformat": 3,
 "nbformat_minor": 0,
 "worksheets": [
  {
   "cells": [
    {
     "cell_type": "code",
     "collapsed": false,
     "input": [
      "%edit parallelpi.py"
     ],
     "language": "python",
     "metadata": {},
     "outputs": [],
     "prompt_number": 3
    }
   ],
   "metadata": {}
  }
 ]
}