{
 "cells": [
  {
   "cell_type": "code",
   "execution_count": 1,
   "metadata": {
    "collapsed": false
   },
   "outputs": [],
   "source": [
    "%load_ext autoreload\n",
    "%autoreload 2\n",
    "\n",
    "import os\n",
    "\n",
    "import sys\n",
    "sys.path.append(os.environ['GORDON_REPO_DIR'] + '/pipeline_scripts')\n",
    "\n",
    "from utilities2014 import *\n",
    "\n",
    "import time\n",
    "\n",
    "sys.path.append('/home/yuncong/project/opencv-2.4.9/release/lib/python2.7/site-packages')\n",
    "import cv2\n",
    "\n",
    "from scipy.spatial.distance import cdist, pdist, squareform\n",
    "from scipy.cluster.hierarchy import average, fcluster, leaders, complete, single, dendrogram, ward\n",
    "\n",
    "from joblib import Parallel, delayed\n",
    "\n",
    "from skimage.color import gray2rgb\n",
    "from skimage.util import img_as_float, pad\n",
    "from skimage.morphology import disk\n",
    "from skimage.filters.rank import gradient\n",
    "\n",
    "from collections import defaultdict, Counter\n",
    "from itertools import combinations, chain, product\n",
    "\n",
    "import networkx\n",
    "from networkx import from_dict_of_lists, dfs_postorder_nodes\n",
    "\n",
    "import matplotlib.pyplot as plt\n",
    "%matplotlib inline"
   ]
  },
  {
   "cell_type": "code",
   "execution_count": 2,
   "metadata": {
    "collapsed": true
   },
   "outputs": [],
   "source": [
    "thetas = np.linspace(-np.pi/4, np.pi/4, 9)\n",
    "n_theta = len(thetas)"
   ]
  },
  {
   "cell_type": "code",
   "execution_count": 3,
   "metadata": {
    "collapsed": false
   },
   "outputs": [
    {
     "name": "stderr",
     "output_type": "stream",
     "text": [
      "/oasis/projects/nsf/csd181/yuncong/virtualenv-1.9.1/yuncongve/lib/python2.7/site-packages/skimage/filter/__init__.py:6: skimage_deprecation: The `skimage.filter` module has been renamed to `skimage.filters`.  This placeholder module will be removed in v0.13.\n",
      "  warn(skimage_deprecation('The `skimage.filter` module has been renamed '\n"
     ]
    }
   ],
   "source": [
    "dms = [DataManager(generate_hierarchy=False, stack='RS141', resol='x5', section=i) for i in range(7)]\n",
    "for dm in dms:\n",
    "    dm._load_image()"
   ]
  },
  {
   "cell_type": "code",
   "execution_count": 5,
   "metadata": {
    "collapsed": true
   },
   "outputs": [],
   "source": [
    "lms = []\n",
    "\n",
    "for lm_ind in range(6):\n",
    "\n",
    "        lm_texture_template_rotated_versions = [np.load('/home/yuncong/csd395/lm_texture_template_%d_orientation%d.npy'%(lm_ind, theta_i)) \n",
    "                                                    for theta_i in range(n_theta)]\n",
    "        lm_bbox_dims_rotated_versions = [np.load('/home/yuncong/csd395/lm_bbox_dims_%d_orientation%d.npy'%(lm_ind, theta_i)) \n",
    "                                                for theta_i in range(n_theta)]\n",
    "        lm_edges_tuple_rotated_versions = [np.load('/home/yuncong/csd395/lm_edge_points_%d_orientation%d.npy'%(lm_ind, theta_i)) \n",
    "                                                for theta_i in range(n_theta)]\n",
    "        \n",
    "        lms.append((lm_texture_template_rotated_versions, \n",
    "                    lm_bbox_dims_rotated_versions,\n",
    "                   lm_edges_tuple_rotated_versions))"
   ]
  },
  {
   "cell_type": "code",
   "execution_count": 13,
   "metadata": {
    "collapsed": false
   },
   "outputs": [],
   "source": [
    "def visualize_top_landmark_responses(section_ind, lm_ind):\n",
    "    dm = dms[section_ind]\n",
    "    \n",
    "    lm_texture_template_rotated_versions, lm_bbox_dims_rotated_versions, lm_edges_tuple_rotated_versions = lms[lm_ind]\n",
    "\n",
    "    bg_ubyte = img_as_ubyte(dm.image_rgb)\n",
    "\n",
    "    top3_locs = dm.load_pipeline_result('responsePeaksLm%d'%lm_ind, 'npy')\n",
    "\n",
    "    for i, (y, x, v, a) in enumerate(top3_locs[:3]):\n",
    "#         print v, a\n",
    "\n",
    "        shifted_ys = (y - lm_bbox_dims_rotated_versions[int(a)][9] + lm_edges_tuple_rotated_versions[int(a)][:,3]).astype(np.int)\n",
    "        shifted_xs = (x - lm_bbox_dims_rotated_versions[int(a)][8] + lm_edges_tuple_rotated_versions[int(a)][:,2]).astype(np.int)\n",
    "\n",
    "        overlay = np.zeros_like(dm.image, np.bool)\n",
    "        overlay[shifted_ys, shifted_xs] = 1\n",
    "        overlay = binary_dilation(overlay, disk(5))\n",
    "        c = np.random.randint(0,255,3)\n",
    "        bg_ubyte[overlay] = c\n",
    "\n",
    "    #     print shifted_xmean_best.astype(np.int), shifted_ymean_best.astype(np.int)\n",
    "\n",
    "        cv2.putText(bg_ubyte, str(i), (x.astype(np.int), y.astype(np.int)), \n",
    "                    cv2.FONT_HERSHEY_SCRIPT_SIMPLEX, 3, (c), 10)\n",
    "\n",
    "    return bg_ubyte"
   ]
  },
  {
   "cell_type": "code",
   "execution_count": 14,
   "metadata": {
    "collapsed": false
   },
   "outputs": [
    {
     "data": {
      "text/html": [
       "<a href='tmp.jpg' target='_blank'>tmp.jpg</a><br>"
      ],
      "text/plain": [
       "/oasis/projects/nsf/csd395/yuncong/Brain/notebooks/tmp.jpg"
      ]
     },
     "execution_count": 14,
     "metadata": {},
     "output_type": "execute_result"
    }
   ],
   "source": [
    "display(visualize_top_landmark_responses(2,2))"
   ]
  },
  {
   "cell_type": "code",
   "execution_count": 17,
   "metadata": {
    "collapsed": false,
    "scrolled": true
   },
   "outputs": [
    {
     "name": "stdout",
     "output_type": "stream",
     "text": [
      "saved /oasis/projects/nsf/csd395/yuncong/DavidData2014results/RS141/0000/RS141_x5_0000_gabor-blueNisslWide-segm-blueNisslRegular-vq-blueNissl_topLocsLm5.jpg\n",
      "saved /oasis/projects/nsf/csd395/yuncong/DavidData2014results/RS141/0000/RS141_x5_0000_gabor-blueNisslWide-segm-blueNisslRegular-vq-blueNissl_topLocsLm2.jpg\n",
      "saved /oasis/projects/nsf/csd395/yuncong/DavidData2014results/RS141/0000/RS141_x5_0000_gabor-blueNisslWide-segm-blueNisslRegular-vq-blueNissl_topLocsLm1.jpg\n",
      "saved /oasis/projects/nsf/csd395/yuncong/DavidData2014results/RS141/0000/RS141_x5_0000_gabor-blueNisslWide-segm-blueNisslRegular-vq-blueNissl_topLocsLm3.jpg\n",
      "saved /oasis/projects/nsf/csd395/yuncong/DavidData2014results/RS141/0000/RS141_x5_0000_gabor-blueNisslWide-segm-blueNisslRegular-vq-blueNissl_topLocsLm4.jpg\n",
      "saved /oasis/projects/nsf/csd395/yuncong/DavidData2014results/RS141/0000/RS141_x5_0000_gabor-blueNisslWide-segm-blueNisslRegular-vq-blueNissl_topLocsLm0.jpg\n",
      "saved /oasis/projects/nsf/csd395/yuncong/DavidData2014results/RS141/0003/RS141_x5_0003_gabor-blueNisslWide-segm-blueNisslRegular-vq-blueNissl_topLocsLm3.jpg\n",
      "saved /oasis/projects/nsf/csd395/yuncong/DavidData2014results/RS141/0003/RS141_x5_0003_gabor-blueNisslWide-segm-blueNisslRegular-vq-blueNissl_topLocsLm0.jpg\n",
      "saved /oasis/projects/nsf/csd395/yuncong/DavidData2014results/RS141/0003/RS141_x5_0003_gabor-blueNisslWide-segm-blueNisslRegular-vq-blueNissl_topLocsLm1.jpg\n",
      "saved /oasis/projects/nsf/csd395/yuncong/DavidData2014results/RS141/0002/RS141_x5_0002_gabor-blueNisslWide-segm-blueNisslRegular-vq-blueNissl_topLocsLm2.jpg\n",
      "saved /oasis/projects/nsf/csd395/yuncong/DavidData2014results/RS141/0002/RS141_x5_0002_gabor-blueNisslWide-segm-blueNisslRegular-vq-blueNissl_topLocsLm3.jpg\n",
      "saved /oasis/projects/nsf/csd395/yuncong/DavidData2014results/RS141/0003/RS141_x5_0003_gabor-blueNisslWide-segm-blueNisslRegular-vq-blueNissl_topLocsLm2.jpg\n",
      "saved /oasis/projects/nsf/csd395/yuncong/DavidData2014results/RS141/0002/RS141_x5_0002_gabor-blueNisslWide-segm-blueNisslRegular-vq-blueNissl_topLocsLm1.jpg\n",
      "saved /oasis/projects/nsf/csd395/yuncong/DavidData2014results/RS141/0002/RS141_x5_0002_gabor-blueNisslWide-segm-blueNisslRegular-vq-blueNissl_topLocsLm0.jpg\n",
      "saved /oasis/projects/nsf/csd395/yuncong/DavidData2014results/RS141/0002/RS141_x5_0002_gabor-blueNisslWide-segm-blueNisslRegular-vq-blueNissl_topLocsLm4.jpg\n",
      "saved /oasis/projects/nsf/csd395/yuncong/DavidData2014results/RS141/0002/RS141_x5_0002_gabor-blueNisslWide-segm-blueNisslRegular-vq-blueNissl_topLocsLm5.jpg\n",
      "saved /oasis/projects/nsf/csd395/yuncong/DavidData2014results/RS141/0003/RS141_x5_0003_gabor-blueNisslWide-segm-blueNisslRegular-vq-blueNissl_topLocsLm4.jpgsaved /oasis/projects/nsf/csd395/yuncong/DavidData2014results/RS141/0003/RS141_x5_0003_gabor-blueNisslWide-segm-blueNisslRegular-vq-blueNissl_topLocsLm5.jpgsaved /oasis/projects/nsf/csd395/yuncong/DavidData2014results/RS141/0004/RS141_x5_0004_gabor-blueNisslWide-segm-blueNisslRegular-vq-blueNissl_topLocsLm0.jpgsaved /oasis/projects/nsf/csd395/yuncong/DavidData2014results/RS141/0004/RS141_x5_0004_gabor-blueNisslWide-segm-blueNisslRegular-vq-blueNissl_topLocsLm1.jpgsaved /oasis/projects/nsf/csd395/yuncong/DavidData2014results/RS141/0004/RS141_x5_0004_gabor-blueNisslWide-segm-blueNisslRegular-vq-blueNissl_topLocsLm2.jpgsaved /oasis/projects/nsf/csd395/yuncong/DavidData2014results/RS141/0004/RS141_x5_0004_gabor-blueNisslWide-segm-blueNisslRegular-vq-blueNissl_topLocsLm3.jpgsaved /oasis/projects/nsf/csd395/yuncong/DavidData2014results/RS141/0004/RS141_x5_0004_gabor-blueNisslWide-segm-blueNisslRegular-vq-blueNissl_topLocsLm5.jpgsaved /oasis/projects/nsf/csd395/yuncong/DavidData2014results/RS141/0004/RS141_x5_0004_gabor-blueNisslWide-segm-blueNisslRegular-vq-blueNissl_topLocsLm4.jpgsaved /oasis/projects/nsf/csd395/yuncong/DavidData2014results/RS141/0005/RS141_x5_0005_gabor-blueNisslWide-segm-blueNisslRegular-vq-blueNissl_topLocsLm0.jpgsaved /oasis/projects/nsf/csd395/yuncong/DavidData2014results/RS141/0005/RS141_x5_0005_gabor-blueNisslWide-segm-blueNisslRegular-vq-blueNissl_topLocsLm1.jpgsaved /oasis/projects/nsf/csd395/yuncong/DavidData2014results/RS141/0005/RS141_x5_0005_gabor-blueNisslWide-segm-blueNisslRegular-vq-blueNissl_topLocsLm2.jpgsaved /oasis/projects/nsf/csd395/yuncong/DavidData2014results/RS141/0005/RS141_x5_0005_gabor-blueNisslWide-segm-blueNisslRegular-vq-blueNissl_topLocsLm3.jpgsaved /oasis/projects/nsf/csd395/yuncong/DavidData2014results/RS141/0005/RS141_x5_0005_gabor-blueNisslWide-segm-blueNisslRegular-vq-blueNissl_topLocsLm5.jpgsaved /oasis/projects/nsf/csd395/yuncong/DavidData2014results/RS141/0005/RS141_x5_0005_gabor-blueNisslWide-segm-blueNisslRegular-vq-blueNissl_topLocsLm4.jpgsaved /oasis/projects/nsf/csd395/yuncong/DavidData2014results/RS141/0006/RS141_x5_0006_gabor-blueNisslWide-segm-blueNisslRegular-vq-blueNissl_topLocsLm0.jpgsaved /oasis/projects/nsf/csd395/yuncong/DavidData2014results/RS141/0006/RS141_x5_0006_gabor-blueNisslWide-segm-blueNisslRegular-vq-blueNissl_topLocsLm1.jpg\n",
      "\n",
      "\n",
      "\n",
      "\n",
      "\n",
      "\n",
      "\n",
      "\n",
      "\n",
      "\n",
      "\n",
      "\n",
      "\n",
      "\n",
      "\n",
      "saved /oasis/projects/nsf/csd395/yuncong/DavidData2014results/RS141/0006/RS141_x5_0006_gabor-blueNisslWide-segm-blueNisslRegular-vq-blueNissl_topLocsLm5.jpgsaved /oasis/projects/nsf/csd395/yuncong/DavidData2014results/RS141/0006/RS141_x5_0006_gabor-blueNisslWide-segm-blueNisslRegular-vq-blueNissl_topLocsLm3.jpgsaved /oasis/projects/nsf/csd395/yuncong/DavidData2014results/RS141/0006/RS141_x5_0006_gabor-blueNisslWide-segm-blueNisslRegular-vq-blueNissl_topLocsLm2.jpgsaved /oasis/projects/nsf/csd395/yuncong/DavidData2014results/RS141/0006/RS141_x5_0006_gabor-blueNisslWide-segm-blueNisslRegular-vq-blueNissl_topLocsLm4.jpg\n",
      "\n",
      "\n",
      "\n"
     ]
    }
   ],
   "source": [
    "def visualize_and_save(section_ind, lm_ind): \n",
    "    viz = visualize_top_landmark_responses(section_ind, lm_ind)\n",
    "    dms[section_ind].save_pipeline_result(viz, 'topLocsLm%d'%lm_ind, 'jpg')\n",
    "\n",
    "_ = Parallel(n_jobs=16)(delayed(visualize_and_save)(section_ind, lm_ind) \n",
    "                for section_ind, lm_ind in product([0]+range(2,7), range(6)))"
   ]
  },
  {
   "cell_type": "code",
   "execution_count": null,
   "metadata": {
    "collapsed": true
   },
   "outputs": [],
   "source": [
    "plt.matshow(vs_max_smooth);\n",
    "plt.colorbar();"
   ]
  }
 ],
 "metadata": {
  "kernelspec": {
   "display_name": "Python 2",
   "language": "python",
   "name": "python2"
  },
  "language_info": {
   "codemirror_mode": {
    "name": "ipython",
    "version": 2
   },
   "file_extension": ".py",
   "mimetype": "text/x-python",
   "name": "python",
   "nbconvert_exporter": "python",
   "pygments_lexer": "ipython2",
   "version": "2.7.3"
  }
 },
 "nbformat": 4,
 "nbformat_minor": 0
}
