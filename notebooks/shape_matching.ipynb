{
 "cells": [
  {
   "cell_type": "code",
   "execution_count": 172,
   "metadata": {
    "collapsed": true
   },
   "outputs": [],
   "source": [
    "import sys\n",
    "\n",
    "# sys.path.append('/home/yuncong/project/opencv-2.4.9/release/lib/python2.7/site-packages')\n",
    "# import cv2\n",
    "\n",
    "sys.path.insert(0, '/home/yuncong/project/cython-munkres-wrapper/build/lib.linux-x86_64-2.7')\n",
    "# import munkres\n",
    "# reload(munkres)\n",
    "from munkres import munkres\n",
    "\n",
    "# https://github.com/jfrelinger/cython-munkres-wrapper,\n",
    "# 10 times faster than the python implementation http://software.clapper.org/munkres/\n",
    "\n",
    "# from munkres import Munkres # http://software.clapper.org/munkres/\n",
    "\n",
    "sys.path.append('/home/yuncong/Brain/pipeline_scripts')\n",
    "from utilities2014 import *\n",
    "import os\n",
    "import time\n",
    "\n",
    "import random\n",
    "\n",
    "os.environ['GORDON_DATA_DIR'] = '/home/yuncong/project/DavidData2014tif/'\n",
    "os.environ['GORDON_REPO_DIR'] = '/home/yuncong/Brain'\n",
    "os.environ['GORDON_RESULT_DIR'] = '/home/yuncong/csd395/DavidData2014results/'\n",
    "os.environ['GORDON_LABELING_DIR'] = '/home/yuncong/project/DavidData2014labelings/'\n",
    "\n",
    "from scipy.spatial.distance import cdist, pdist, squareform\n",
    "from scipy.cluster.hierarchy import average, fcluster, leaders, complete, single, dendrogram\n",
    "\n",
    "from joblib import Parallel, delayed\n",
    "\n",
    "from skimage.color import gray2rgb\n",
    "from skimage.util import img_as_float, pad\n",
    "from skimage.morphology import disk\n",
    "from skimage.filter.rank import gradient\n",
    "\n",
    "from sklearn.preprocessing import normalize\n",
    "\n",
    "from collections import defaultdict, Counter\n",
    "from itertools import combinations, chain, product\n",
    "\n",
    "import networkx\n",
    "from networkx import from_dict_of_lists, dfs_postorder_nodes\n",
    "\n",
    "import matplotlib.pyplot as plt\n",
    "%matplotlib inline"
   ]
  },
  {
   "cell_type": "code",
   "execution_count": 173,
   "metadata": {
    "collapsed": true
   },
   "outputs": [],
   "source": [
    "# def sort_counterclockwise(pts, return_order=False):\n",
    "#     '''\n",
    "#     sort points from -pi to pi with respect to center\n",
    "#     '''\n",
    "#     center = np.mean(pts, axis=0)\n",
    "#     vecs = pts - center\n",
    "#     angles = np.arctan2(vecs[:,1], vecs[:,0])\n",
    "#     order = np.argsort(angles)\n",
    "#     if return_order:\n",
    "#         return pts[order], order\n",
    "#     else:\n",
    "#         return pts[order]\n",
    "\n",
    "def rigid_transform_from_pairs(X,Y):\n",
    "    '''\n",
    "    X, Y are n-by-2 matrices\n",
    "    Reference: http://nghiaho.com/?page_id=671\n",
    "    '''\n",
    "\n",
    "    n = X.shape[0]\n",
    "    assert X.shape[0] == Y.shape[0], 'two point sets have different size'\n",
    "    assert n >= 2, 'rgiid transform estimate needs at least two points'\n",
    "    \n",
    "    X = X.T\n",
    "    Y = Y.T\n",
    "    \n",
    "    Xcentroid = X.mean(axis=1)\n",
    "    Ycentroid = Y.mean(axis=1)\n",
    "    \n",
    "    Xcentered = X - Xcentroid[:, np.newaxis]\n",
    "    Ycentered = Y - Ycentroid[:, np.newaxis]\n",
    "    \n",
    "    U, S, V = np.linalg.svd(np.dot(Xcentered, Ycentered.T))\n",
    "    R = np.dot(V, U.T)\n",
    "    d = np.linalg.det(R)\n",
    "    if d < 0:\n",
    "        R[1] *= -1\n",
    "    angle = np.arctan2(R[1,0], R[0,0])\n",
    "    t = Ycentroid - np.dot(R, Xcentroid)\n",
    "    \n",
    "    T = np.eye(3)\n",
    "    T[:2, :2] = R\n",
    "    T[:2, 2] = t\n",
    "   \n",
    "    return T, angle\n",
    "\n",
    "def rigid_transform_to(pts1, T):\n",
    "    pts1_trans = np.dot(T, np.column_stack([pts1, np.ones((pts1.shape[0],))]).T).T\n",
    "    return pts1_trans[:,:2]"
   ]
  },
  {
   "cell_type": "code",
   "execution_count": 174,
   "metadata": {
    "collapsed": false
   },
   "outputs": [],
   "source": [
    "def plot_two_pointsets(pts1, pts2, center1=True, center2=True, text=True, \n",
    "                       matchings=None,\n",
    "                       show_sc1=None, show_sc2=None, r_array=None, n_angles=None):\n",
    "    '''\n",
    "    show_sc1 is the point index on which to draw shape context polar histogram boundaries\n",
    "    '''\n",
    "    \n",
    "    pts1 = pts1*np.array([1,-1])\n",
    "    pts2 = pts2*np.array([1,-1])\n",
    "\n",
    "    fig = plt.figure(figsize=(10,10))\n",
    "    ax = fig.add_subplot(111, aspect='equal')\n",
    "#     ax.scatter(pts1[:,0], pts1[:,1], c='r', label='PointSet 1', s=40)\n",
    "#     ax.scatter(pts2[:,0], pts2[:,1], c='g', label='PointSet 2', s=40)\n",
    "    ax.scatter(pts1[:,0], pts1[:,1], c='r', label='PointSet 1', s=5)\n",
    "    ax.scatter(pts2[:,0], pts2[:,1], c='g', label='PointSet 2', s=5)\n",
    "\n",
    "    if center1:\n",
    "        center1 = pts1.mean(axis=0)\n",
    "        ax.scatter(center1[0], center1[1], c='b')\n",
    "\n",
    "    if center2:\n",
    "        center2 = pts2.mean(axis=0)\n",
    "        ax.scatter(center2[0], center2[1], c='b')\n",
    "\n",
    "    if text:\n",
    "        for i, (y,x) in enumerate(pts1):\n",
    "            ax.text(y, x, str(i), color='r')\n",
    "\n",
    "        for i, (y,x) in enumerate(pts2):\n",
    "            ax.text(y, x, str(i), color='g')\n",
    "    \n",
    "    if matchings is not None:\n",
    "        for i,j in matchings:\n",
    "            ln = plt.Line2D(np.r_[pts1[i,0], pts2[j,0]], np.r_[pts1[i,1], pts2[j,1]], c='k')\n",
    "            fig.gca().add_artist(ln)\n",
    "    \n",
    "    if show_sc1 is not None:\n",
    "        assert r_array is not None and n_angles is not None\n",
    "        dists_max1 = pdist(pts1).max() \n",
    "        scales1 = dists_max1 * r_array\n",
    "        \n",
    "        for s in scales1:\n",
    "            circle = plt.Circle(pts1[show_sc1], s, color='k', fill=False)\n",
    "            fig.gca().add_artist(circle)\n",
    "\n",
    "        angs = np.linspace(np.pi, -np.pi, n_angles+1)[:-1]\n",
    "        na = len(angs)\n",
    "        for ai, a in enumerate(angs):\n",
    "            ln = plt.Line2D(np.r_[pts1[show_sc1,0], pts1[show_sc1,0]+scales1[-1]*np.cos(a)], \n",
    "                            np.r_[pts1[show_sc1,1], pts1[show_sc1,1]+scales1[-1]*np.sin(a)], c='k')\n",
    "            fig.gca().add_artist(ln)\n",
    "            fig.gca().text(.5*(pts1[show_sc1,0]+scales1[0]*np.cos(a))+.5*(pts1[show_sc1,0]+scales1[0]*np.cos(angs[(ai+1)%na])), \n",
    "                           .5*(pts1[show_sc1,1]+scales1[0]*np.sin(a))+.5*(pts1[show_sc1,1]+scales1[0]*np.sin(angs[(ai+1)%na])), \n",
    "                           str(ai),\n",
    "                           horizontalalignment='center',\n",
    "                           verticalalignment='center')\n",
    "            \n",
    "    if show_sc2 is not None:\n",
    "        assert r_array is not None and n_angles is not None\n",
    "        dists_max2 = pdist(pts2).max()\n",
    "        scales2 = dists_max2 * r_array\n",
    "\n",
    "        for s in scales2:\n",
    "            circle = plt.Circle(pts2[show_sc2], s, color='k', fill=False)\n",
    "            fig.gca().add_artist(circle)\n",
    "            \n",
    "        angs = np.linspace(np.pi, -np.pi, n_angles+1)[:-1]\n",
    "        na = len(angs)\n",
    "        for ai, a in enumerate(angs):\n",
    "            ln = plt.Line2D(np.r_[pts2[show_sc2,0], pts2[show_sc2,0]+scales2[-1]*np.cos(a)], \n",
    "                            np.r_[pts2[show_sc2,1], pts2[show_sc2,1]+scales2[-1]*np.sin(a)], c='k')\n",
    "            fig.gca().add_artist(ln)\n",
    "            fig.gca().text(.5*(pts2[show_sc2,0]+scales2[0]*np.cos(a))+.5*(pts2[show_sc2,0]+scales2[0]*np.cos(angs[(ai+1)%na])), \n",
    "               .5*(pts2[show_sc2,1]+scales2[0]*np.sin(a))+.5*(pts2[show_sc2,1]+scales2[0]*np.sin(angs[(ai+1)%na])), \n",
    "               str(ai),\n",
    "               horizontalalignment='center',\n",
    "               verticalalignment='center')\n",
    "\n",
    "\n",
    "            \n",
    "#     ax.legend()\n",
    "    ax.set_aspect('equal')\n",
    "    ax.set_xticks([])\n",
    "    ax.set_yticks([])\n",
    "\n",
    "    plt.show()"
   ]
  },
  {
   "cell_type": "code",
   "execution_count": 4,
   "metadata": {
    "collapsed": true
   },
   "outputs": [],
   "source": [
    "def stable(rankings, A, B):\n",
    "    partners = dict((a, (rankings[(a, 1)], 1)) for a in A)\n",
    "    is_stable = False # whether the current pairing (given by `partners`) is stable\n",
    "    while is_stable == False:\n",
    "        is_stable = True\n",
    "        for b in B:\n",
    "            is_paired = False # whether b has a pair which b ranks <= to n\n",
    "            for n in range(1, len(B) + 1):\n",
    "                a = rankings[(b, n)]\n",
    "                a_partner, a_n = partners[a]\n",
    "                if a_partner == b:\n",
    "                    if is_paired:\n",
    "                        is_stable = False\n",
    "                        partners[a] = (rankings[(a, a_n + 1)], a_n + 1)\n",
    "                    else:\n",
    "                        is_paired = True\n",
    "    return sorted((a, b) for (a, (b, n)) in partners.items())\n",
    "\n",
    "\n",
    "def stable_marriage_matchings(D_boundaries):\n",
    "\n",
    "    A = ['A'+str(i) for i in range(n_boundaries1)]\n",
    "    B = ['B'+str(i) for i in range(n_boundaries2)]\n",
    "\n",
    "    ao = np.zeros(D_boundaries)\n",
    "    for q in range(n_boundaries1):\n",
    "        ao[q, np.argsort(D_boundaries[q,:])] = np.arange(n_boundaries2)\n",
    "\n",
    "    bo = np.zeros_like(D_boundaries.T)\n",
    "    for q in range(n_boundaries2):\n",
    "        bo[q, np.argsort(D_boundaries[:,q])] = np.arange(n_boundaries1)\n",
    "\n",
    "    rankings1 = zip(A, ao+1)\n",
    "    rankings2 = zip(B, bo+1)\n",
    "    rank = dict(rankings1+rankings2)\n",
    "\n",
    "    Arankings = dict(((a, rank[a][b_]), B[b_]) for (a, b_) in product(A, range(n_boundaries2)))\n",
    "    Brankings = dict(((b, rank[b][a_]), A[a_]) for (b, a_) in product(B, range(n_boundaries1)))\n",
    "    rankings = Arankings\n",
    "    rankings.update(Brankings)\n",
    "\n",
    "    m = stable(rankings, A, B)\n",
    "    m = [(int(i[1:]), int(j[1:])) for i, j in m]\n",
    "    m = sorted([(D_boundaries[i,j], i,j) for i,j in m if D_boundaries[i,j]<np.inf])\n",
    "\n",
    "#     for s, i,j in m:\n",
    "#         print s, i, j\n",
    "    \n",
    "    return m\n",
    "\n",
    "def greedy_matching(D_boundaries, verified_matchings=[], excluded_matchings=[]):\n",
    "    \n",
    "    thresh_percentage = .2\n",
    "    th = np.sort(D_boundaries[D_boundaries < np.inf].flat)[int(len(D_boundaries[D_boundaries < np.inf].flat)*thresh_percentage)]\n",
    "    print 'thresh', th\n",
    "    \n",
    "    matchings = verified_matchings[:]\n",
    "    rs, cs = np.unravel_index(np.argsort(D_boundaries.flat), D_boundaries.shape)\n",
    "    for r, c in zip(rs, cs):\n",
    "        if (r,c) in excluded_matchings:\n",
    "            continue\n",
    "        if D_boundaries[r,c] > th:\n",
    "            break\n",
    "        if r not in [i for i,j in matchings] and c not in [j for i,j in matchings]:\n",
    "            matchings.append((r,c))\n",
    "            \n",
    "    return matchings"
   ]
  },
  {
   "cell_type": "code",
   "execution_count": 6,
   "metadata": {
    "collapsed": false,
    "scrolled": true
   },
   "outputs": [
    {
     "data": {
      "text/plain": [
       "[<matplotlib.lines.Line2D at 0x3c74710>]"
      ]
     },
     "execution_count": 6,
     "metadata": {},
     "output_type": "execute_result"
    },
    {
     "data": {
      "image/png": "[encoded data removed]",
      "text/plain": [
       "<matplotlib.figure.Figure at 0x3c7d250>"
      ]
     },
     "metadata": {},
     "output_type": "display_data"
    }
   ],
   "source": [
    "plt.plot(np.linspace(0,1,100), np.exp(-10*np.linspace(0,1,100)))"
   ]
  },
  {
   "cell_type": "code",
   "execution_count": 7,
   "metadata": {
    "collapsed": true
   },
   "outputs": [],
   "source": [
    "import networkx as nx"
   ]
  },
  {
   "cell_type": "code",
   "execution_count": 71,
   "metadata": {
    "collapsed": false
   },
   "outputs": [],
   "source": [
    "from scipy.misc import comb\n",
    "\n",
    "def ransac_compute_rigid_transform(Dm, pts1, pts2, \n",
    "                                   confidence_thresh=.01, ransac_iters=20, sample_size=5,\n",
    "                                   matching_iter=10, n_neighbors=10):\n",
    "\n",
    "#     q = time.time()\n",
    "\n",
    "    N1 = len(pts1)\n",
    "    N2 = len(pts2)\n",
    "    \n",
    "    high_confidence_thresh = np.sort(Dm.flat)[int(confidence_thresh * np.size(Dm))]\n",
    "#     print 'high_confidence_thresh', high_confidence_thresh\n",
    "    rs, cs = np.where(Dm < high_confidence_thresh)\n",
    "    high_confidence_pairs = np.c_[rs,cs]\n",
    "    \n",
    "    if len(high_confidence_pairs) == 0:\n",
    "        return None, [], None, np.inf, 0\n",
    "    \n",
    "#     if OUTPUT:\n",
    "#         print 'high_confidence_pairs'\n",
    "#         print high_confidence_pairs\n",
    "       \n",
    "    p1s = np.sort(list(set(rs)))\n",
    "    p2s = np.sort(list(set(cs)))\n",
    "    n1 = len(p1s)\n",
    "    n2 = len(p2s)\n",
    "    \n",
    "    if n1 < sample_size or n2 < sample_size:\n",
    "        return None, [], None, np.inf, 0\n",
    "    \n",
    "    offsets = []\n",
    "    scores = []\n",
    "    matches_list = []\n",
    "    samples_list = []\n",
    "    angles = []\n",
    "    coverages = []\n",
    "    \n",
    "    sample_counter = 0\n",
    "    n_possible_samples = int(comb(len(high_confidence_pairs), sample_size, exact=False))\n",
    "\n",
    "#     n_possible_samples = len(possible_samples)\n",
    "    for ri in range(min(ransac_iters, n_possible_samples)):\n",
    "        \n",
    "        samples = []\n",
    "        \n",
    "        for tt in range(1000):\n",
    "#             s = possible_samples[sample_counter]\n",
    "            s = random.sample(high_confidence_pairs, sample_size)\n",
    "            sample_counter += 1\n",
    "            w1, w2 = zip(*s)\n",
    "            if len(set(w1)) == len(w1) and len(set(w2)) == len(w2):\n",
    "                samples = s\n",
    "                break\n",
    "        \n",
    "        if len(samples)==0:\n",
    "            return None, [], None, np.inf, 0\n",
    "\n",
    "#         samples = np.array(possible_samples[ri])\n",
    "\n",
    "        if OUTPUT:\n",
    "            print '\\nsamples', ri, samples\n",
    "        \n",
    "        X = pts1[[s[0] for s in samples]]\n",
    "        Y = pts2[[s[1] for s in samples]]\n",
    "                \n",
    "        # generate transform hypothesis\n",
    "        T, angle = rigid_transform_from_pairs(X, Y)\n",
    "        if np.abs(angle) > np.pi/4:\n",
    "            if OUTPUT:\n",
    "                print 'angle too wide', np.rad2deg(angle)\n",
    "            continue\n",
    "        \n",
    "        # apply transform hypothesis\n",
    "        pts1_trans = rigid_transform_to(pts1, T)\n",
    "        \n",
    "        # iterative closest point association\n",
    "        matches = None\n",
    "        matches_prev = None\n",
    "        \n",
    "        for mi in range(matching_iter):\n",
    "  \n",
    "            # given transform, find matching\n",
    "\n",
    "            t1 = time.time()\n",
    "            if OUTPUT:\n",
    "                print 'iter %d' % mi\n",
    "        \n",
    "#             b = time.time()\n",
    "    \n",
    "            Dh = cdist(pts1_trans, pts2, metric='euclidean')\n",
    "            Dnn1 = Dh.argsort(axis=1)\n",
    "            Dnn2 = Dh.argsort(axis=0).T\n",
    "#             print 'cdist', time.time() - b\n",
    "        \n",
    "#             b = time.time()\n",
    "            D2 = Dh.copy()\n",
    "            D2[np.arange(N1)[:,None], Dnn1[:,n_neighbors:]] = 999\n",
    "            D2[Dnn2[:,n_neighbors:], np.arange(N2)[:,None]] = 999\n",
    "            D2[Dm==np.inf] = 999\n",
    "#             D_hc_pairs = D2[p1s[:,np.newaxis], p2s]\n",
    "#             print 'D_hc_pairs', time.time() - b\n",
    "\n",
    "            if matches is not None:\n",
    "                matches_prev = matches\n",
    "            \n",
    "            b = time.time()\n",
    "#             matches_hc_pairs = np.array(zip(*np.nonzero(munkres(D_hc_pairs))))\n",
    "    \n",
    "#             Ah = Dh.max() - Dh\n",
    "#             B = nx.Graph()\n",
    "# #             B.add_nodes_from(range(N1), bipartite=0)\n",
    "# #             B.add_nodes_from(range(N1,N1+N2), bipartite=1)\n",
    "#             B.add_nodes_from(range(N1))\n",
    "#             B.add_nodes_from(range(N1, N1+N2))\n",
    "#             edges = [(i, N1+n, {'weight':Ah[i,n]}) for i in range(N1) for n in Dnn1[i,:3]] +\\\n",
    "#                     [(n, N1+j, {'weight':Ah[n,j]}) for j in range(N2) for n in Dnn2[j,:3]]\n",
    "#             B.add_edges_from(edges)\n",
    "    \n",
    "#             matches = nx.max_weight_matching(B).items()\n",
    "#             matches = map(sorted, matches)\n",
    "#             matches = np.array([(i, j-N1) for i,j in matches])\n",
    "    \n",
    "            matches = zip(*np.nonzero(munkres(D2)))\n",
    "            matches = np.array([(i,j) for i,j in matches if D2[i,j] != 999])\n",
    "        \n",
    "            if OUTPUT:\n",
    "                print 'munkres', time.time() - b\n",
    "                   \n",
    "            if len(matches) < 3:\n",
    "                r = 0\n",
    "                s = np.inf\n",
    "                if OUTPUT:\n",
    "                    print 'match too few, break'\n",
    "                    print 'iter', time.time() - t1\n",
    "                break\n",
    "            else:\n",
    "#                 xs1 = pts1_trans[matches[:,0], 0]\n",
    "#                 x_coverage1 = float(xs1.max() - xs1.min()) / (pts1_trans[:,0].max() - pts1_trans[:,0].min())\n",
    "#                 ys1 = pts1_trans[matches[:,0], 1]\n",
    "#                 y_coverage1 = float(ys1.max() - ys1.min()) / (pts1_trans[:,1].max() - pts1_trans[:,1].min())\n",
    "                \n",
    "#                 xs2 = pts2[matches[:,1], 0]\n",
    "#                 x_coverage2 = float(xs2.max() - xs2.min())/ (pts2[:,0].max() - pts2[:,0].min())\n",
    "#                 ys2 = pts2[matches[:,1], 1]\n",
    "#                 y_coverage2 = float(ys2.max() - ys2.min())/ (pts2[:,1].max() - pts2[:,1].min())\n",
    "                \n",
    "#                 coverage = .5 * x_coverage1 * y_coverage1 + .5 * x_coverage2 * y_coverage2\n",
    "                \n",
    "#                 s = Dh[matches[:,0], matches[:,1]].mean() / coverage**2\n",
    "                \n",
    "                r = float(len(set([i for i,j in matches])))/N1 * float(len(set([j for i,j in matches])))/N2\n",
    "                m = Dh[matches[:,0], matches[:,1]].mean() / 100.\n",
    "                s = r * m + (1-r) * 5.\n",
    "    \n",
    "            X = pts1[matches[:,0]]\n",
    "            Y = pts2[matches[:,1]]\n",
    "\n",
    "            T, angle = rigid_transform_from_pairs(X, Y)\n",
    "            if np.abs(angle) > np.pi/4:\n",
    "                if OUTPUT:\n",
    "                    print 'angle too wide, break'\n",
    "                    print 'iter', time.time() - t1\n",
    "                break\n",
    "\n",
    "            pts1_trans = rigid_transform_to(pts1, T)\n",
    "            \n",
    "            if matches_prev is not None and all([(i,j) in matches_prev for i,j in matches]):\n",
    "                if OUTPUT:\n",
    "                    print 'matching no change, break'\n",
    "                    print 'iter', time.time() - t1\n",
    "\n",
    "                break\n",
    "                \n",
    "#             print 'coverage and remaining', mi, time.time() - t2\n",
    "            if OUTPUT:\n",
    "                print 'iter', time.time() - t1\n",
    "                \n",
    "                            \n",
    "        samples_list.append(samples)\n",
    "        offsets.append(T)\n",
    "        matches_list.append(matches)\n",
    "        scores.append(s)\n",
    "        angles.append(angle)\n",
    "#         print 'score', s\n",
    "#         print len(matches), 'matches'\n",
    "        \n",
    "        coverages.append(r)\n",
    "    \n",
    "#         print matches\n",
    "#         print s\n",
    "#         plot_two_pointsets(pts1_trans[:,::-1]*np.array([1,-1]), pts2[:,::-1]*np.array([1,-1]), \n",
    "#                    center1=False, center2=False,\n",
    "#                    text=True, matchings=matches)\n",
    "            \n",
    "    if len(scores) > 0:\n",
    "        best_i = np.argmin(scores)\n",
    "\n",
    "        best_score = scores[best_i]\n",
    "        best_T = offsets[best_i]\n",
    "        best_sample = samples_list[best_i]\n",
    "        best_matches = matches_list[best_i]\n",
    "        best_angle = angles[best_i]\n",
    "#         print len(best_matches)\n",
    "#         print np.rad2deg(best_angle)\n",
    "        best_coverage = coverages[best_i]\n",
    "        \n",
    "#         print 'best_coverage', best_coverage\n",
    "\n",
    "    \n",
    "        return best_T, best_matches, best_sample, best_score, best_coverage\n",
    "    else:\n",
    "        return None, [], None, np.inf, 0"
   ]
  },
  {
   "cell_type": "code",
   "execution_count": 105,
   "metadata": {
    "collapsed": false
   },
   "outputs": [],
   "source": [
    "def boundary_distance(b1, b2, ev1=None, ev2=None, sc1=None, sc2=None, loc_thresh=1500):\n",
    "    '''\n",
    "    Compute the distance between two boundaries.\n",
    "    Each tuple consists of (edgeSet, interior_texture, exterior_textures, points, center)\n",
    "    \n",
    "    Parameters\n",
    "    ----------\n",
    "    b1 : tuple\n",
    "    b2 : tuple\n",
    "    sc1 : #points-by-32 array\n",
    "        pre-computed shape context descriptor\n",
    "    sc2 : #points-by-32 array\n",
    "        pre-computed shape context descriptor\n",
    "    '''\n",
    "    \n",
    "    edges1, interior_texture1, exterior_textures1, points1, center1 = b1\n",
    "    edges2, interior_texture2, exterior_textures2, points2, center2 = b2\n",
    "    \n",
    "    edges1 = list(edges1)\n",
    "    edges2 = list(edges2)\n",
    "    \n",
    "    if sc1 is not None:\n",
    "        assert len(sc1) == points1.shape[0], 'number mismatch %d %d'%(len(sc1), points1.shape[0])\n",
    "    \n",
    "    if sc2 is not None:\n",
    "        assert len(sc2) == points2.shape[0], 'number mismatch %d %d'%(len(sc2), points2.shape[0])\n",
    "\n",
    "    # compute location difference\n",
    "    d_loc = np.linalg.norm(center1 - center2)\n",
    "    D_loc = np.maximum(0, d_loc - 500)\n",
    "    \n",
    "#     print 'd_loc', d_loc\n",
    "\n",
    "    if d_loc > loc_thresh:\n",
    "        return np.inf, np.inf, np.inf, np.inf, np.inf\n",
    "    \n",
    "    n1 = len(points1)\n",
    "    n2 = len(points2)\n",
    "    if max(n1,n2) > min(n1,n2) * 3:\n",
    "        return np.inf, np.inf, np.inf, np.inf, np.inf\n",
    "    \n",
    "    # compute interior texture difference\n",
    "    D_int = chi2(interior_texture1, interior_texture2)\n",
    "#     D_ext = hausdorff_histograms(exterior_textures1, exterior_textures2, metric=chi2)\n",
    "\n",
    "    # compute shape difference, exterior texture difference\n",
    "#     D_shape, matches = shape_context_score(points1, points2, descriptor1=sc1, descriptor2=sc2)\n",
    "\n",
    "    n_radial_bins = 5\n",
    "    n_polar_bins = 12\n",
    "\n",
    "#     if sc1 is None:\n",
    "    sc1, po1 = compute_shape_context_descriptors(points1, n_radial_bins, n_polar_bins, dist_limit=1)\n",
    "    \n",
    "#     if sc2 is None:\n",
    "    sc2, po2 = compute_shape_context_descriptors(points2, n_radial_bins, n_polar_bins, dist_limit=1)\n",
    "    \n",
    "    descriptor_dists = cdist(sc1, sc2, metric='euclidean')\n",
    "    \n",
    "    a_diff_thresh = np.pi / 4\n",
    "    b_diff_thresh = a_diff_thresh / (2 * np.pi / n_polar_bins)\n",
    "    sc_orientation_similarity = np.array([[(np.abs(a1 - a2)) < b_diff_thresh for a2 in po2] for a1 in po1])\n",
    "    descriptor_dists[~sc_orientation_similarity] = np.inf\n",
    "    \n",
    "    if ev1 is not None and ev2 is not None:\n",
    "        edge_orientation_similarity = np.dot(ev1, ev2.T) > np.cos(np.pi/4)\n",
    "        descriptor_dists[~edge_orientation_similarity] = np.inf\n",
    "\n",
    "#     b = time.time()\n",
    "    T, matches, best_sample, D_shape, coverage = ransac_compute_rigid_transform(descriptor_dists, points1, points2, \n",
    "                                                                      ransac_iters=50, confidence_thresh=0.03, \n",
    "                                                                      sample_size=3, matching_iter=10,\n",
    "                                                                      n_neighbors=3)\n",
    "#     print 'ransac_compute_rigid_transform', time.time() - b\n",
    "    \n",
    "#     print coverage\n",
    "    \n",
    "    if len(matches) == 0:\n",
    "        D_shape = np.inf\n",
    "\n",
    "#         D_ext = np.mean([chi2(exterior_textures1[i], exterior_textures2[j]) for i, j in matches])\n",
    "    \n",
    "    bg_match = 0\n",
    "\n",
    "    if len(matches) == 0:\n",
    "        D_ext = np.inf\n",
    "    else:\n",
    "        ddd = []\n",
    "        for i, j in matches:\n",
    "            # -1 vs -1\n",
    "            if np.isnan(exterior_textures1[i]).all() and np.isnan(exterior_textures2[j]).all():\n",
    "                s = 0\n",
    "                bg_match += 1\n",
    "                ddd.append(s)\n",
    "            # non -1 vs non -1\n",
    "            elif not np.isnan(exterior_textures1[i]).all() and not np.isnan(exterior_textures2[j]).all():\n",
    "                s = chi2(exterior_textures1[i], exterior_textures2[j])\n",
    "                if OUTPUT:\n",
    "                    print 'exterior', i,j,s\n",
    "                ddd.append(s)\n",
    "            # -1 vs non -1\n",
    "            else:\n",
    "                ddd.append(2.)\n",
    "\n",
    "        if len(ddd) == 0:\n",
    "            D_ext = np.inf\n",
    "        elif len(ddd) == bg_match:\n",
    "            D_ext = 2.\n",
    "        else:\n",
    "            D_ext = np.mean(ddd)\n",
    "        \n",
    "        D_ext = coverage * D_ext + (1-coverage)*5.\n",
    "    \n",
    "    D_shape = .2 * D_shape\n",
    "    D_ext = .2 * D_ext\n",
    "    \n",
    "    # weighted average of four terms\n",
    "    d = D_int + D_ext + D_shape + 0 * D_loc\n",
    "    \n",
    "    return d, D_int, D_ext, D_shape, D_loc\n"
   ]
  },
  {
   "cell_type": "code",
   "execution_count": 175,
   "metadata": {
    "collapsed": false
   },
   "outputs": [
    {
     "name": "stdout",
     "output_type": "stream",
     "text": [
      "40 40\n"
     ]
    }
   ],
   "source": [
    "sec1 = 8\n",
    "sec2 = 9\n",
    "\n",
    "dm1 = DataManager(generate_hierarchy=False, stack='RS141', resol='x5', section=sec1)\n",
    "dm2 = DataManager(generate_hierarchy=False, stack='RS141', resol='x5', section=sec2)\n",
    "\n",
    "boundaries1 = dm1.load_pipeline_result('boundaryModels', 'pkl')\n",
    "boundaries2 = dm2.load_pipeline_result('boundaryModels', 'pkl')\n",
    "\n",
    "n_boundaries1 = len(boundaries1)\n",
    "n_boundaries2 = len(boundaries2)\n",
    "print n_boundaries1, n_boundaries2\n",
    "\n",
    "# sc1 = dm1.load_pipeline_result('shapeContext', 'pkl')\n",
    "# sc2 = dm2.load_pipeline_result('shapeContext', 'pkl')\n",
    "\n",
    "# lm_types1 = dm1.load_pipeline_result('nonoverlapLmTypes', 'npy')\n",
    "# lm_types2 = dm2.load_pipeline_result('nonoverlapLmTypes', 'npy')"
   ]
  },
  {
   "cell_type": "code",
   "execution_count": 182,
   "metadata": {
    "collapsed": false
   },
   "outputs": [
    {
     "name": "stderr",
     "output_type": "stream",
     "text": [
      "/oasis/projects/nsf/csd181/yuncong/virtualenv-1.9.1/yuncongve/lib/python2.7/site-packages/numpy/lib/function_base.py:1114: DeprecationWarning: numpy boolean subtract (the binary `-` operator) is deprecated, use the bitwise_xor (the `^` operator) or the logical_xor function instead.\n",
      "  return a[slice1]-a[slice2]\n"
     ]
    }
   ],
   "source": [
    "# from skimage.segmentation import random_walker\n",
    "# m = np.zeros_like(dm2.image, np.bool)\n",
    "# m[5,5] = 1\n",
    "# q = random_walker(dm2.image, m)"
   ]
  },
  {
   "cell_type": "code",
   "execution_count": 148,
   "metadata": {
    "collapsed": false
   },
   "outputs": [],
   "source": [
    "boundary_ind1 = 23\n",
    "boundary_ind2 = 17\n",
    "\n",
    "\n",
    "pts1 = boundaries1[boundary_ind1][3].copy()\n",
    "pts2 = boundaries2[boundary_ind2][3].copy()\n",
    "\n",
    "edges1 = boundaries1[boundary_ind1][0]\n",
    "edges2 = boundaries2[boundary_ind2][0]\n",
    "edges1 = list(edges1)\n",
    "edges2 = list(edges2)\n",
    "\n",
    "ev1 = dm1.load_pipeline_result('edgeVectors', 'pkl')\n",
    "ev2 = dm2.load_pipeline_result('edgeVectors', 'pkl')\n",
    "\n",
    "bev1 = np.array([ev1[e] for e in edges1])\n",
    "bev2 = np.array([ev2[e] for e in edges2])\n",
    "\n"
   ]
  },
  {
   "cell_type": "code",
   "execution_count": 149,
   "metadata": {
    "collapsed": false
   },
   "outputs": [
    {
     "name": "stdout",
     "output_type": "stream",
     "text": [
      "(2.6449486343827964, 1.2233291541693336, 0.72791775136656867, 0.69370172884689418, 0.0)\n",
      "0.195511102676\n"
     ]
    }
   ],
   "source": [
    "OUTPUT= False\n",
    "\n",
    "b = time.time()\n",
    "print boundary_distance(boundaries1[boundary_ind1], boundaries2[boundary_ind2], ev1=bev1, ev2=bev2)\n",
    "print time.time() - b"
   ]
  },
  {
   "cell_type": "code",
   "execution_count": 147,
   "metadata": {
    "collapsed": false,
    "scrolled": true
   },
   "outputs": [
    {
     "name": "stdout",
     "output_type": "stream",
     "text": [
      "(1.8481237599068696, 0.22662566854319854, 0.8306457058861284, 0.79085238547754277, 838.77056618838787)\n",
      "0.24010515213\n"
     ]
    }
   ],
   "source": [
    "OUTPUT= False\n",
    "\n",
    "b = time.time()\n",
    "print boundary_distance(boundaries1[boundary_ind1], boundaries2[boundary_ind2], ev1=bev1, ev2=bev2)\n",
    "print time.time() - b"
   ]
  },
  {
   "cell_type": "code",
   "execution_count": 145,
   "metadata": {
    "collapsed": false
   },
   "outputs": [
    {
     "name": "stdout",
     "output_type": "stream",
     "text": [
      "18\n",
      "coverage 0.190588235294\n",
      "score 4.14034601349\n"
     ]
    },
    {
     "data": {
      "image/png": "[encoded data removed]",
      "text/plain": [
       "<matplotlib.figure.Figure at 0x456e890>"
      ]
     },
     "metadata": {},
     "output_type": "display_data"
    }
   ],
   "source": [
    "OUTPUT= False\n",
    "\n",
    "n_radial_bins = 5\n",
    "n_polar_bins = 12\n",
    "dist_limit = 1.\n",
    "\n",
    "descriptor1, po1 = compute_shape_context_descriptors(pts1, n_radial_bins, dist_limit=dist_limit)\n",
    "descriptor2, po2 = compute_shape_context_descriptors(pts2, n_radial_bins, dist_limit=dist_limit)\n",
    "descriptor_dists = cdist(descriptor1, descriptor2, metric='euclidean')\n",
    "\n",
    "a_diff_thresh = np.pi / 4\n",
    "b_diff_thresh = a_diff_thresh / (2 * np.pi / n_polar_bins)\n",
    "orientation_compatibility = np.array([[(np.abs(a1 - a2)) < b_diff_thresh for a2 in po2] for a1 in po1])\n",
    "descriptor_dists[~orientation_compatibility] = np.inf\n",
    "\n",
    "edge_orientation_similarity = np.dot(bev1, bev2.T) > np.cos(np.pi/4)\n",
    "descriptor_dists[~edge_orientation_similarity] = np.inf\n",
    "\n",
    "# confidence_thresh = .03\n",
    "# high_confidence_thresh = np.sort(descriptor_dists.flat)[int(confidence_thresh * np.size(descriptor_dists))]\n",
    "# print high_confidence_thresh\n",
    "# rs, cs = np.where(descriptor_dists < high_confidence_thresh)\n",
    "# high_confidence_pairs = np.c_[rs,cs]\n",
    "\n",
    "r_array, theta_array = compute_r_theta_bins(n_radial_bins=n_radial_bins, n_polar_bins=n_polar_bins, dist_limit=dist_limit)\n",
    "\n",
    "T, matching, sample, score, coverage = ransac_compute_rigid_transform(descriptor_dists, pts1, pts2, \n",
    "                                                        ransac_iters=50, confidence_thresh=0.03, \n",
    "                                                        sample_size=3, matching_iter=10, n_neighbors=3)\n",
    "\n",
    "\n",
    "# print 'matching', matching\n",
    "# print 'sample', sample\n",
    "print len(matching)\n",
    "print 'coverage',coverage\n",
    "print 'score', score\n",
    "\n",
    "pts1_trans = rigid_transform_to(pts1, T)\n",
    "\n",
    "plot_two_pointsets(pts1_trans, pts2, center1=False, center2=False,\n",
    "#                   show_sc1=70, r_array=r_array, n_angles=12, \n",
    "                   text=True, matchings=matching)"
   ]
  },
  {
   "cell_type": "code",
   "execution_count": null,
   "metadata": {
    "collapsed": false,
    "scrolled": true
   },
   "outputs": [],
   "source": [
    "# Ss = []\n",
    "# for i in range(100):\n",
    "#     print i\n",
    "\n",
    "#     T, matching, sample, score, coverage = ransac_compute_rigid_transform(descriptor_dists, pts1, pts2, \n",
    "#                                                             ransac_iters=50, confidence_thresh=0.03, \n",
    "#                                                             sample_size=3, matching_iter=10, n_neighbors=3)\n",
    "#     Ss.append(score)\n",
    "\n",
    "\n",
    "# print np.std(Ss)\n",
    "# m = np.mean(Ss)\n",
    "# plt.hist(Ss, bins=np.arange(m-10,m+10,.1));"
   ]
  },
  {
   "cell_type": "code",
   "execution_count": 12,
   "metadata": {
    "collapsed": false
   },
   "outputs": [],
   "source": [
    "def centering(ps):\n",
    "    return ps - ps.mean(axis=0)\n",
    "\n",
    "def hausdorff(ps1, ps2, center=False):\n",
    "    if center:\n",
    "        ps1 = centering(ps1)\n",
    "        ps2 = centering(ps2)\n",
    "    D = cdist(ps1, ps2)\n",
    "    return max(np.max(D.min(axis=0)), np.max(D.min(axis=1)))\n",
    "\n",
    "def hausdorff_histograms(h1s, h2s, metric):\n",
    "    Ds = cdist(h1s, h2s, metric)\n",
    "    return max(np.nanmax(np.nanmin(Ds, axis=1)), np.nanmax(np.nanmin(Ds, axis=0)))\n",
    "\n",
    "\n",
    "def regulate_angles(a):\n",
    "    angles = a%(2*np.pi)\n",
    "    angles[angles > np.pi] = angles[angles > np.pi] - 2*np.pi\n",
    "    return angles\n",
    "\n",
    "def euclidean_dists_angles(points):\n",
    "    \"\"\"Returns symmetric pairwise ``dists`` and ``angles`` arrays.\"\"\"\n",
    "    \n",
    "    n = len(points)\n",
    "    dists = squareform(pdist(points, 'euclidean'))\n",
    "\n",
    "    xd = -np.subtract.outer(points[:,0], points[:,0])\n",
    "    yd = -np.subtract.outer(points[:,1], points[:,1])\n",
    "    angles = np.arctan2(yd,xd)\n",
    "\n",
    "#     closest_neighbor = dists.argsort(axis=1)[:,1]\n",
    "#     tangent_vectors = points[closest_neighbor] - points\n",
    "#     tangent_angles = np.arctan2(tangent_vectors[:,1], tangent_vectors[:,0])\n",
    "\n",
    "#     angles = angles - tangent_angles[:, np.newaxis]\n",
    "\n",
    "    angles = regulate_angles(angles)\n",
    "    \n",
    "#     tangent_angles = regulate_angles(tangent_angles)\n",
    "    \n",
    "    return dists, angles\n",
    "\n",
    "def compute_r_theta_bins(n_radial_bins=5, n_polar_bins=12, dist_limit=1.):\n",
    "    \"\"\"\n",
    "    Generate radius-theta bins for the shape context histogram.\n",
    "    \n",
    "    Args:\n",
    "        n_radial_bins (int): number of radial bins\n",
    "        n_polar_bins (int): number of polar bins\n",
    "        dist_limit (float): between 0 and 1\n",
    "\n",
    "    Returns:\n",
    "        (float array, float array): (r_array, theta_array)\n",
    "\n",
    "    \"\"\"\n",
    "        \n",
    "    base = 10.    \n",
    "    r_array = dist_limit * (np.logspace(0, 1, n_radial_bins + 1, base=10) - 1)[1:] / (base-1)\n",
    "    theta_array = np.linspace(-np.pi, np.pi, n_polar_bins + 1)[1:]\n",
    "    \n",
    "    return r_array, theta_array\n",
    "\n",
    "def compute_shape_context_descriptors(pts, n_radial_bins=5, n_polar_bins=12, \n",
    "                                      dist_limit=1., density=True):\n",
    "\n",
    "    dists, angles = euclidean_dists_angles(pts)\n",
    "    n_points = dists.shape[0]\n",
    "    \n",
    "    r_array, theta_array = compute_r_theta_bins(n_radial_bins, n_polar_bins, dist_limit)\n",
    "    \n",
    "    descriptors_mat = np.zeros((n_points, n_radial_bins, n_polar_bins), dtype=np.int)\n",
    "\n",
    "    dists = dists / dists.max()\n",
    "\n",
    "    for i in range(n_points):\n",
    "        for j in range(i + 1, n_points):\n",
    "            \n",
    "            if dists[i, j] >= r_array[-1]:\n",
    "                continue\n",
    "\n",
    "            r_idx = np.searchsorted(r_array, dists[i, j])\n",
    "            theta_idx = np.searchsorted(theta_array, angles[i, j])\n",
    "\n",
    "            descriptors_mat[i, r_idx, theta_idx] += 1\n",
    "\n",
    "            theta_idx = np.searchsorted(theta_array, angles[j, i])\n",
    "            descriptors_mat[j, r_idx, theta_idx] += 1\n",
    "            \n",
    "    polar_counts = descriptors_mat.sum(axis=1)\n",
    "    polar_proportions = polar_counts.astype(np.float) / polar_counts.sum(axis=-1)[:, None]\n",
    "    peak_orientations = np.argmax(polar_proportions, axis=-1)\n",
    "    for pt_ind, po in enumerate(peak_orientations):\n",
    "        descriptors_mat[pt_ind] = np.roll(descriptors_mat[pt_ind], shift=-po, axis=-1)\n",
    "\n",
    "    descriptors = descriptors_mat.reshape(descriptors_mat.shape[0], -1)\n",
    "\n",
    "    if density:\n",
    "        descriptors = normalize(descriptors.astype(np.float), axis=1)\n",
    "    \n",
    "    return descriptors, peak_orientations\n",
    "#     return descriptors, None"
   ]
  },
  {
   "cell_type": "code",
   "execution_count": null,
   "metadata": {
    "collapsed": false,
    "scrolled": true
   },
   "outputs": [],
   "source": [
    "# OUTPUT = False\n",
    "# Ds = []\n",
    "# for i, j in product(range(n_boundaries1), range(n_boundaries2)):\n",
    "#     b = time.time()\n",
    "#     a = boundary_distance(boundaries1[i], boundaries2[j])\n",
    "#     Ds.append(a)\n",
    "#     sys.stderr.write('%d,%d,%f\\n'%(i,j,time.time()-b))"
   ]
  },
  {
   "cell_type": "code",
   "execution_count": 129,
   "metadata": {
    "collapsed": false,
    "scrolled": true
   },
   "outputs": [],
   "source": [
    "OUTPUT=False\n",
    "\n",
    "# sc1 = dm1.load_pipeline_result('shapeContext', 'pkl')\n",
    "# sc2 = dm2.load_pipeline_result('shapeContext', 'pkl')\n",
    "\n",
    "ev1 = dm1.load_pipeline_result('edgeVectors', 'pkl')\n",
    "ev2 = dm2.load_pipeline_result('edgeVectors', 'pkl')\n",
    "\n",
    "bev1 = [np.array([ev1[e] for e in boundaries1[i][0]]) for i in range(n_boundaries1)]\n",
    "bev2 = [np.array([ev2[e] for e in boundaries2[j][0]]) for j in range(n_boundaries2)]\n",
    "\n",
    "Ds = Parallel(n_jobs=16)(delayed(boundary_distance)(boundaries1[i], boundaries2[j], ev1=bev1[i], ev2=bev2[j]) \n",
    "                         for i, j in product(range(n_boundaries1), range(n_boundaries2)))\n",
    "D_boundaries, D_int, D_ext, D_shape, D_loc = zip(*Ds)\n",
    "\n",
    "D_boundaries = np.reshape(D_boundaries, (n_boundaries1, n_boundaries2))\n",
    "D1 = np.reshape(D_int, (n_boundaries1, n_boundaries2))\n",
    "D2 = np.reshape(D_ext, (n_boundaries1, n_boundaries2))\n",
    "D3 = np.reshape(D_shape, (n_boundaries1, n_boundaries2))\n",
    "D4 = np.reshape(D_loc, (n_boundaries1, n_boundaries2))"
   ]
  },
  {
   "cell_type": "code",
   "execution_count": 118,
   "metadata": {
    "collapsed": false
   },
   "outputs": [],
   "source": [
    "D_boundaries = dm1.load_pipeline_result('DBoundaries%dWith%d'%(sec1,sec2), 'npy')\n",
    "D1 = dm1.load_pipeline_result('D1s%dWith%d'%(sec1,sec2), 'npy')\n",
    "D2 = dm1.load_pipeline_result('D2s%dWith%d'%(sec1,sec2), 'npy')\n",
    "D3 = dm1.load_pipeline_result('D3s%dWith%d'%(sec1,sec2), 'npy')"
   ]
  },
  {
   "cell_type": "code",
   "execution_count": 141,
   "metadata": {
    "collapsed": false
   },
   "outputs": [
    {
     "name": "stdout",
     "output_type": "stream",
     "text": [
      "0.760787965843\n",
      "0.914734754115\n",
      "0.90109891505\n"
     ]
    }
   ],
   "source": [
    "print np.mean(D1[D1!=np.inf])\n",
    "print np.mean(D2[D2!=np.inf])\n",
    "print np.mean(D3[D3!=np.inf])"
   ]
  },
  {
   "cell_type": "code",
   "execution_count": 135,
   "metadata": {
    "collapsed": true
   },
   "outputs": [],
   "source": [
    "boundary_supporters1 = dm1.load_pipeline_result('goodEdgeSetsSupporters', 'pkl')\n",
    "boundary_supporters2 = dm2.load_pipeline_result('goodEdgeSetsSupporters', 'pkl')"
   ]
  },
  {
   "cell_type": "code",
   "execution_count": 136,
   "metadata": {
    "collapsed": false
   },
   "outputs": [],
   "source": [
    "texton_hists1 = dm1.load_pipeline_result('texHist', 'npy')\n",
    "texton_hists2 = dm2.load_pipeline_result('texHist', 'npy')"
   ]
  },
  {
   "cell_type": "code",
   "execution_count": 139,
   "metadata": {
    "collapsed": false
   },
   "outputs": [
    {
     "data": {
      "text/plain": [
       "array([ 0.22662567,  0.68471881,  0.78364987,  0.81868888,  0.82827638,\n",
       "        1.04144233,  1.07076893,  1.14735977,  1.22332915,  1.24162861,\n",
       "        1.33284362,  1.41564593,  1.44526915,  1.54741094,  1.70517574,\n",
       "        1.89380987,  1.92445827,  1.93205049,  1.9335316 ,         inf,\n",
       "               inf,         inf,         inf,         inf,         inf,\n",
       "               inf,         inf,         inf,         inf,         inf,\n",
       "               inf,         inf,         inf,         inf,         inf,\n",
       "               inf,         inf,         inf,         inf,         inf])"
      ]
     },
     "execution_count": 139,
     "metadata": {},
     "output_type": "execute_result"
    }
   ],
   "source": [
    "np.sort(D1[23])"
   ]
  },
  {
   "cell_type": "code",
   "execution_count": 154,
   "metadata": {
    "collapsed": false
   },
   "outputs": [
    {
     "name": "stdout",
     "output_type": "stream",
     "text": [
      "[ 4  1 18 13 12  7  8 38 32 31]\n",
      "[ 4  1 18 13 24  7 38 12 27 21]\n",
      "[ 4  8 12 18 13 32  1  7 31 38]\n",
      "[ 4  8 12 18 13 32  1  7 31 38]\n"
     ]
    }
   ],
   "source": [
    "boundary_ind1 = 10\n",
    "print D_boundaries.argsort(axis=1)[boundary_ind1,:10]\n",
    "print D1.argsort(axis=1)[boundary_ind1,:10]\n",
    "print D2.argsort(axis=1)[boundary_ind1,:10]\n",
    "print D3.argsort(axis=1)[boundary_ind1,:10]"
   ]
  },
  {
   "cell_type": "code",
   "execution_count": 155,
   "metadata": {
    "collapsed": false
   },
   "outputs": [
    {
     "name": "stdout",
     "output_type": "stream",
     "text": [
      "[10 27 32  9 15]\n",
      "[10 27 32 15  9 17 24 25 26 28]\n",
      "[10  9 27 17 15 32 24 25 26 28]\n",
      "[10  9 27 17 15]\n"
     ]
    }
   ],
   "source": [
    "boundary_ind2 = 4\n",
    "print D_boundaries.argsort(axis=0)[:5, boundary_ind2]\n",
    "print D1.argsort(axis=0)[:10, boundary_ind2]\n",
    "print D2.argsort(axis=0)[:10, boundary_ind2]\n",
    "print D3.argsort(axis=0)[:5, boundary_ind2]"
   ]
  },
  {
   "cell_type": "code",
   "execution_count": 20,
   "metadata": {
    "collapsed": false
   },
   "outputs": [],
   "source": [
    "# D_boundaries = dm1.load_pipeline_result('DBoundaries%dWith%d'%(sec1, sec2), 'npy')\n",
    "# D1 = dm1.load_pipeline_result('D1s%dWith%d'%(sec1, sec2), 'npy')\n",
    "# D2 = dm1.load_pipeline_result('D2s%dWith%d'%(sec1, sec2), 'npy')\n",
    "# D3 = dm1.load_pipeline_result('D3s%dWith%d'%(sec1, sec2), 'npy')\n",
    "# D4 = dm1.load_pipeline_result('D4s%dWith%d'%(sec1, sec2), 'npy')"
   ]
  },
  {
   "cell_type": "code",
   "execution_count": 227,
   "metadata": {
    "collapsed": true
   },
   "outputs": [],
   "source": [
    "true_matchings = []\n",
    "ok_matchings = []\n",
    "\n",
    "excluded_matchings = []\n",
    "verified_matchings = []"
   ]
  },
  {
   "cell_type": "code",
   "execution_count": 510,
   "metadata": {
    "collapsed": false
   },
   "outputs": [],
   "source": [
    "def set_to_set_matching(D_boundaries):\n",
    "\n",
    "    DD = np.inf * np.ones((n_boundaries1+n_boundaries2, n_boundaries1+n_boundaries2))\n",
    "    DD[:n_boundaries1, n_boundaries1:] = D_boundaries\n",
    "    DD[n_boundaries1:, :n_boundaries1] = D_boundaries.T\n",
    "\n",
    "    a = DD[DD!=np.inf]\n",
    "    thresh = np.sort(a)[int(len(a)*.04)]\n",
    "    print thresh\n",
    "\n",
    "    import networkx as nx\n",
    "    G = nx.Graph(DD < thresh)\n",
    "    G = nx.relabel_nodes(G, dict([(i,(sec1,i)) for i in range(n_boundaries1)]+[(n_boundaries1+j,(sec2,j)) for j in range(n_boundaries2)]))\n",
    "\n",
    "    ms = [sorted(g) for g in sorted(list(nx.connected_components(G)), key=len, reverse=True) if len(g) >= 2]\n",
    "    print len(ms)\n",
    "    return ms"
   ]
  },
  {
   "cell_type": "code",
   "execution_count": 167,
   "metadata": {
    "collapsed": false
   },
   "outputs": [],
   "source": [
    "def knn_matching(D_boundaries, boundaries1, boundaries2, centroid_dist_limit=500):\n",
    "    \n",
    "    import networkx as nx\n",
    "    \n",
    "    n_boundaries1, n_boundaries2 = D_boundaries.shape\n",
    "    \n",
    "    nn1 = D_boundaries.argsort(axis=1)\n",
    "    dd1 = np.sort(D_boundaries,axis=1)\n",
    "    nn1 = [nn[:np.searchsorted(d, d[0]+0.2)] for d, nn in zip(dd1, nn1)]\n",
    "    \n",
    "    nn2 = D_boundaries.argsort(axis=0).T\n",
    "    dd2 = np.sort(D_boundaries,axis=0).T\n",
    "    nn2 = [nn[:np.searchsorted(d, d[0]+0.2)] for d, nn in zip(dd2, nn2)]\n",
    "\n",
    "    DD = np.zeros((n_boundaries1+n_boundaries2, n_boundaries1+n_boundaries2))\n",
    "    G = nx.Graph(DD)\n",
    "    G = nx.relabel_nodes(G, dict([(i,(0,i)) for i in range(n_boundaries1)]+[(n_boundaries1+j,(1,j)) for j in range(n_boundaries2)]))\n",
    "    matches = []\n",
    "    for i in range(n_boundaries1):\n",
    "        for j in range(n_boundaries2):\n",
    "#             if j in nn1[i,:k] and i in nn2[j,:k]:\n",
    "            if j in nn1[i] and i in nn2[j]:\n",
    "                matches.append((i,j))\n",
    "                G.add_edge((0,i), (1,j))\n",
    "\n",
    "    ms = [sorted(g) for g in sorted(list(nx.connected_components(G)), key=len, reverse=True) if len(g) >= 2]\n",
    "        \n",
    "    groups = []\n",
    "    for mi, m in enumerate(ms):\n",
    "        d = defaultdict(list)\n",
    "        for sec_i, bnd_i in m:\n",
    "            d[sec_i].append(bnd_i)\n",
    "        A = D_boundaries[d[0]][:,d[1]]\n",
    "        rs, cs = np.unravel_index(np.argsort(D_boundaries[d[0]][:,d[1]].flat), (len(d[0]), len(d[1])))\n",
    "    #     print rs, cs\n",
    "    #     print [((sec1, d[sec1][r]), (sec2, d[sec2][c]), D_boundaries[d[sec1][r], d[sec2][c]]) for r, c in zip(rs, cs)\n",
    "    #           if D_boundaries[d[sec1][r], d[sec2][c]] < np.inf]\n",
    "\n",
    "        g = []\n",
    "        for r, c in zip(rs, cs):\n",
    "            if D_boundaries[d[0][r], d[1][c]] < np.inf:\n",
    "    #             print ((sec1, d[sec1][r]), (sec2, d[sec2][c]), D_boundaries[d[sec1][r], d[sec2][c]])\n",
    "                g.append([d[0][r], d[1][c]])\n",
    "\n",
    "        groups.append(g)\n",
    "    \n",
    "#     print groups\n",
    "    \n",
    "    # RANSAC\n",
    "    import random\n",
    "\n",
    "    boundary1_centers = np.array([b[4][::-1] for b in boundaries1])\n",
    "    boundary2_centers = np.array([b[4][::-1] for b in boundaries2])\n",
    "\n",
    "    matches = []\n",
    "    scores = []\n",
    "\n",
    "    for ransac_iter in range(100):\n",
    "\n",
    "        boundary_samples = [random.sample(g, 1)[0] for g in random.sample(groups, min(len(groups), 3))]\n",
    "        X = []\n",
    "        Y = []\n",
    "        for b1, b2 in boundary_samples:\n",
    "            X.append(boundary1_centers[b1])\n",
    "            Y.append(boundary2_centers[b2])\n",
    "        X = np.array(X)\n",
    "        Y = np.array(Y)\n",
    "\n",
    "        T, angle = rigid_transform_from_pairs(X,Y)\n",
    "    #     print T, angle\n",
    "        if angle > np.pi/2:\n",
    "    #         print 'angle too wide'\n",
    "            matches.append([])\n",
    "            scores.append(0)\n",
    "            continue\n",
    "\n",
    "        boundary1_centers_trans = rigid_transform_to(boundary1_centers, T)\n",
    "#         print np.linalg.norm(boundary1_centers_trans[10]-boundary2_centers[4])\n",
    "\n",
    "        match = [(bi,bj) for g in groups for bi,bj in g \n",
    "                 if np.linalg.norm(boundary1_centers_trans[bi] - boundary2_centers[bj]) < centroid_dist_limit]\n",
    "\n",
    "        score = len(match)\n",
    "\n",
    "        matches.append(match)\n",
    "        scores.append(score)\n",
    "\n",
    "    best = np.argmax(scores)\n",
    "    s_best = scores[best]\n",
    "    m_best = matches[best]\n",
    "#     print m_best\n",
    "\n",
    "    g = nx.Graph()\n",
    "    g.add_edges_from([((0, i),(1, j), {'weight': D_boundaries[D_boundaries!=np.inf].max()-D_boundaries[i,j]}) \n",
    "                      for i,j in m_best])\n",
    "    m = nx.matching.max_weight_matching(g, maxcardinality=True)\n",
    "    \n",
    "    best_match = set(((0, dict([n1,n2])[0]), (1, dict([n1,n2])[1])) for n1,n2 in m.iteritems())\n",
    "    \n",
    "    print len(best_match)\n",
    "    \n",
    "    return best_match"
   ]
  },
  {
   "cell_type": "code",
   "execution_count": 168,
   "metadata": {
    "collapsed": false
   },
   "outputs": [
    {
     "name": "stdout",
     "output_type": "stream",
     "text": [
      "22\n",
      "set([((0, 12), (1, 14)), ((0, 31), (1, 7)), ((0, 13), (1, 36)), ((0, 9), (1, 12)), ((0, 11), (1, 5)), ((0, 20), (1, 29)), ((0, 28), (1, 17)), ((0, 0), (1, 1)), ((0, 8), (1, 11)), ((0, 14), (1, 15)), ((0, 7), (1, 22)), ((0, 33), (1, 16)), ((0, 30), (1, 6)), ((0, 17), (1, 8)), ((0, 10), (1, 4)), ((0, 1), (1, 2)), ((0, 5), (1, 3)), ((0, 15), (1, 27)), ((0, 22), (1, 25)), ((0, 24), (1, 39)), ((0, 25), (1, 33)), ((0, 2), (1, 10))])\n"
     ]
    }
   ],
   "source": [
    "best_match = knn_matching(D_boundaries, boundaries1, boundaries2, centroid_dist_limit=300)\n",
    "print best_match"
   ]
  },
  {
   "cell_type": "code",
   "execution_count": 169,
   "metadata": {
    "collapsed": true
   },
   "outputs": [],
   "source": [
    "def visualize_multiple_landmarks_multiple_sections_vertical(d):\n",
    "    '''\n",
    "    e.g. tpl = {3:[2,5,12], 4:[6,4,2]}\n",
    "    '''\n",
    "    \n",
    "    import cv2\n",
    "    \n",
    "    viss = []\n",
    "    for sec, bnds in d.iteritems():\n",
    "        dm = DataManager(generate_hierarchy=False, stack='RS140', resol='x5', section=sec)\n",
    "        boundaries = dm.load_pipeline_result('boundaryModels', 'pkl')\n",
    "        viz = dm.visualize_edge_sets([boundaries[b][0] for b in bnds])\n",
    "        cv2.putText(viz, str(sec), (50,150), cv2.FONT_HERSHEY_SIMPLEX, 5, ((0,0,0)), 3)\n",
    "        viss.append(viz)\n",
    "    \n",
    "    hws = np.array([v.shape[:2] for v in viss])\n",
    "    hmax, wmax = np.max(hws, axis=0)\n",
    "    left_margins = [int((wmax - w)/2) for h,w in hws]\n",
    "    right_margins = [ wmax - w - lm for (h,w), lm in zip(hws, left_margins)]\n",
    "    \n",
    "    viss_padded = []\n",
    "    for vis, lm, rm in zip(viss, left_margins, right_margins):\n",
    "        viss_padded.append(pad(vis, ((0,0),(lm,rm),(0,0)), 'constant', constant_values=255))\n",
    "        \n",
    "    vis_stacked = np.vstack(viss_padded)\n",
    "    return vis_stacked"
   ]
  },
  {
   "cell_type": "code",
   "execution_count": 170,
   "metadata": {
    "collapsed": false
   },
   "outputs": [],
   "source": [
    "d = {sec1: [m[0][1] for m in best_match], sec2: [m[1][1] for m in best_match]}\n",
    "viz = visualize_multiple_landmarks_multiple_sections_vertical(d)"
   ]
  },
  {
   "cell_type": "code",
   "execution_count": 171,
   "metadata": {
    "collapsed": false
   },
   "outputs": [
    {
     "data": {
      "text/html": [
       "<a href='tmp.jpg' target='_blank'>tmp.jpg</a><br>"
      ],
      "text/plain": [
       "/oasis/projects/nsf/csd181/yuncong/Brain/notebooks/tmp.jpg"
      ]
     },
     "execution_count": 171,
     "metadata": {},
     "output_type": "execute_result"
    }
   ],
   "source": [
    "display(viz)"
   ]
  },
  {
   "cell_type": "code",
   "execution_count": 398,
   "metadata": {
    "collapsed": false
   },
   "outputs": [
    {
     "data": {
      "image/png": "[encoded data removed]",
      "text/plain": [
       "<matplotlib.figure.Figure at 0x6d40f50>"
      ]
     },
     "metadata": {},
     "output_type": "display_data"
    }
   ],
   "source": [
    "plt.scatter(boundary1_centers[:,0], boundary1_centers[:,1], c='r');\n",
    "plt.scatter(boundary1_centers_trans[:,0], boundary1_centers_trans[:,1], c='b');\n",
    "plt.scatter(boundary2_centers[:,0], boundary2_centers[:,1], c='g');\n",
    "plt.axis('equal');\n",
    "\n",
    "for b1, b2 in boundary_samples:\n",
    "    plt.scatter(boundary1_centers[b1,0], boundary1_centers[b1,1], s=50, c='r');\n",
    "    plt.scatter(boundary1_centers_trans[b1,0], boundary1_centers_trans[b1,1], s=50, c='b');\n",
    "    plt.scatter(boundary2_centers[b2,0], boundary2_centers[b2,1], s=50, c='g');"
   ]
  },
  {
   "cell_type": "code",
   "execution_count": 191,
   "metadata": {
    "collapsed": false
   },
   "outputs": [],
   "source": [
    "for mi, m in enumerate(ms):\n",
    "    d = defaultdict(list)\n",
    "    for sec_i, bnd_i in m:\n",
    "        d[sec_i].append(bnd_i)\n",
    "    viz = visualize_multiple_landmarks_multiple_sections_vertical(d)\n",
    "    imsave('/tmp/match%d.jpg'%mi, viz)"
   ]
  },
  {
   "cell_type": "code",
   "execution_count": 231,
   "metadata": {
    "collapsed": false
   },
   "outputs": [
    {
     "name": "stdout",
     "output_type": "stream",
     "text": [
      "thresh 1.15145956284\n",
      "0.499922230267 15 13\n",
      "0.518476952595 12 9\n",
      "0.531359004104 25 17\n",
      "0.562409020548 8 12\n",
      "0.565141546816 3 3\n",
      "0.580699694362 26 31\n",
      "0.60348191592 35 33\n",
      "0.661771082669 30 30\n",
      "0.692197128708 37 37\n",
      "0.696131990026 38 6\n",
      "0.700496689697 1 7\n",
      "0.71110080807 11 36\n",
      "0.722425662423 0 15\n",
      "0.738109699912 39 19\n",
      "0.748848418049 20 2\n",
      "0.786082320524 33 23\n",
      "0.795422050806 9 34\n",
      "0.808752271406 16 11\n",
      "0.809018852431 36 25\n",
      "0.826431953451 24 14\n",
      "0.861407901448 34 8\n",
      "0.870501812023 6 10\n",
      "0.87628243497 22 18\n",
      "0.887783996068 27 21\n",
      "0.948681115541 5 4\n",
      "1.01056574704 21 1\n",
      "1.13059859233 7 0\n"
     ]
    }
   ],
   "source": [
    "matchings = greedy_matching(D_boundaries, verified_matchings, excluded_matchings)\n",
    "\n",
    "corr = 0\n",
    "parcorr = 0\n",
    "err = 0\n",
    "# crosstype = 0\n",
    "\n",
    "for i,j in matchings:\n",
    "    print D_boundaries[i,j], i, j\n",
    "    if (i,j) in true_matchings:\n",
    "        corr += 1.\n",
    "#         if int(lm_types1[i]) != int(lm_types2[j]):\n",
    "#             crosstype += 1.\n",
    "    elif (i,j) in ok_matchings:\n",
    "        parcorr += 1.\n",
    "#         if int(lm_types1[i]) != int(lm_types2[j]):\n",
    "#             crosstype += 1.\n",
    "    else:\n",
    "        err += 1.\n",
    "        \n",
    "# n = len(matchings)\n",
    "# tps = set(true_matchings) | set(ok_matchings)\n",
    "# recall = (corr+parcorr)/len(tps)\n",
    "# precision = (corr+parcorr)/n\n",
    "# beta = 5 # means how many times recall is important than precision\n",
    "# F = (1+beta**2) * (recall*precision) / (beta**2*precision + recall)\n",
    "# print '\\nrecall = %.2f, precision = %.2f, F = %.2f' % (recall, precision, F)\n",
    "\n",
    "# missed = tps - set(matchings)\n",
    "# print 'missed', missed, 'among them, the smallest distance is', np.min([D_boundaries[i,j] for i,j in missed])\n",
    "# wrong = set(matchings) - tps\n",
    "# print 'wrong', wrong\n",
    "# print 'Of all correct matchings, %.1f%% is between different types' % (crosstype/n*100)"
   ]
  },
  {
   "cell_type": "code",
   "execution_count": null,
   "metadata": {
    "collapsed": true
   },
   "outputs": [],
   "source": [
    "# one-dimensional embedding\n",
    "\n",
    "from networkx import from_dict_of_lists, draw_networkx, from_dict_of_dicts, dfs_edges, dfs_tree, all_pairs_dijkstra_path_length\n",
    "\n",
    "D = pdist(boundaries1[20][3])\n",
    "D = squareform(D)\n",
    "D_sorted = np.sort(D, axis=1)[:,1:4]\n",
    "nearest_neighbors = D.argsort(axis=1)[:,1:4]\n",
    "\n",
    "nearest_neighbors_dict = dict([(i, dict([(j, {'weight':D_sorted[i, k]}) for k, j in enumerate(a)])) for i, a in enumerate(nearest_neighbors)])\n",
    "# print nearest_neighbors_dict[0]\n",
    "\n",
    "G = from_dict_of_dicts(nearest_neighbors_dict)\n",
    "draw_networkx(G, with_labels=False, node_size=10)\n",
    "\n",
    "# print dfs_edges(G)\n",
    "draw_networkx(dfs_tree(G, 1), with_labels=False, node_size=10)\n",
    "\n",
    "geodesic_dists_dict = all_pairs_dijkstra_path_length(G)\n",
    "geodesic_dists = np.array([[d for j, d in a.iteritems()] for i, a in geodesic_dists_dict.iteritems()])\n",
    "geodesic_dists = np.minimum(geodesic_dists, geodesic_dists.T)"
   ]
  }
 ],
 "metadata": {
  "kernelspec": {
   "display_name": "Python 2",
   "language": "python",
   "name": "python2"
  },
  "language_info": {
   "codemirror_mode": {
    "name": "ipython",
    "version": 2
   },
   "file_extension": ".py",
   "mimetype": "text/x-python",
   "name": "python",
   "nbconvert_exporter": "python",
   "pygments_lexer": "ipython2",
   "version": "2.7.3"
  }
 },
 "nbformat": 4,
 "nbformat_minor": 0
}
