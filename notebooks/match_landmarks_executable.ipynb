{
 "cells": [
  {
   "cell_type": "code",
   "execution_count": null,
   "metadata": {
    "collapsed": true
   },
   "outputs": [],
   "source": [
    "def compute_boundary_distances(sec1, sec2):\n",
    "    \n",
    "    dm1 = DataManager(generate_hierarchy=False, stack='RS141', resol='x5', section=sec1)\n",
    "    dm2 = DataManager(generate_hierarchy=False, stack='RS141', resol='x5', section=sec2)\n",
    "    \n",
    "    boundaries1 = dm1.load_pipeline_result('boundaryModels', 'pkl')\n",
    "    boundaries2 = dm2.load_pipeline_result('boundaryModels', 'pkl')\n",
    "    \n",
    "    sc1 = dm1.load_pipeline_result('shapeContext', 'pkl')\n",
    "    sc2 = dm2.load_pipeline_result('shapeContext', 'pkl')\n",
    "\n",
    "    n_boundaries1 = len(boundaries1)\n",
    "    n_boundaries2 = len(boundaries2)\n",
    "\n",
    "    Ds = Parallel(n_jobs=16)(delayed(boundary_distance)(boundaries1[i], boundaries2[j], sc1=sc1[i], sc2=sc2[j]) \n",
    "                             for i, j in product(range(n_boundaries1), range(n_boundaries2)))\n",
    "    D_boundaries, D_int, D_ext, D_shape, D_loc = zip(*Ds)\n",
    "\n",
    "    D_boundaries = np.reshape(D_boundaries, (n_boundaries1, n_boundaries2))\n",
    "    D1 = np.reshape(D_int, (n_boundaries1, n_boundaries2))\n",
    "    D2 = np.reshape(D_ext, (n_boundaries1, n_boundaries2))\n",
    "    D3 = np.reshape(D_shape, (n_boundaries1, n_boundaries2))\n",
    "    D4 = np.reshape(D_loc, (n_boundaries1, n_boundaries2))\n",
    "    \n",
    "    dm1.save_pipeline_result(D_boundaries, 'DBoundaries%dWith%d'%(sec1, sec2), 'npy')\n",
    "    dm1.save_pipeline_result(D1, 'D1s%dWith%d'%(sec1, sec2), 'npy')\n",
    "    dm1.save_pipeline_result(D2, 'D2s%dWith%d'%(sec1, sec2), 'npy')\n",
    "    dm1.save_pipeline_result(D3, 'D3s%dWith%d'%(sec1, sec2), 'npy')\n",
    "    dm1.save_pipeline_result(D4, 'D4s%dWith%d'%(sec1, sec2), 'npy')\n",
    "\n",
    "    dm2.save_pipeline_result(D_boundaries.T, 'DBoundaries%dWith%d'%(sec2, sec1), 'npy')\n",
    "    dm2.save_pipeline_result(D1.T, 'D1s%dWith%d'%(sec2, sec1), 'npy')\n",
    "    dm2.save_pipeline_result(D2.T, 'D2s%dWith%d'%(sec2, sec1), 'npy')\n",
    "    dm2.save_pipeline_result(D3.T, 'D3s%dWith%d'%(sec2, sec1), 'npy')\n",
    "    dm2.save_pipeline_result(D4.T, 'D4s%dWith%d'%(sec2, sec1), 'npy')\n"
   ]
  },
  {
   "cell_type": "code",
   "execution_count": null,
   "metadata": {
    "collapsed": true
   },
   "outputs": [],
   "source": [
    "import argparse\n",
    "\n",
    "if __name__ == '__main__':\n",
    "    \n",
    "    parser = argparse.ArgumentParser(\n",
    "        formatter_class=argparse.RawDescriptionHelpFormatter,\n",
    "        description='Match boundaries between section n with n+1, n+2 and n+3')\n",
    "\n",
    "    parser.add_argument(\"stack_name\", type=str, help=\"stack name\")\n",
    "    parser.add_argument(\"slice_ind\", type=int, help=\"slice index\")\n",
    "    parser.add_argument(\"-g\", \"--gabor_params_id\", type=str, help=\"gabor filter parameters id (default: %(default)s)\", default='blueNisslWide')\n",
    "    parser.add_argument(\"-s\", \"--segm_params_id\", type=str, help=\"segmentation parameters id (default: %(default)s)\", default='blueNisslRegular')\n",
    "    parser.add_argument(\"-v\", \"--vq_params_id\", type=str, help=\"vector quantization parameters id (default: %(default)s)\", default='blueNissl')\n",
    "    args = parser.parse_args()\n",
    "\n",
    "    sec_ind = int(args.slice_ind)\n",
    "    \n",
    "    \n",
    "    \n",
    "    compute_boundary_distances(sec_ind)"
   ]
  }
 ],
 "metadata": {
  "kernelspec": {
   "display_name": "Python 2",
   "language": "python",
   "name": "python2"
  },
  "language_info": {
   "codemirror_mode": {
    "name": "ipython",
    "version": 2
   },
   "file_extension": ".py",
   "mimetype": "text/x-python",
   "name": "python",
   "nbconvert_exporter": "python",
   "pygments_lexer": "ipython2",
   "version": "2.7.3"
  }
 },
 "nbformat": 4,
 "nbformat_minor": 0
}
