{
 "metadata": {
  "name": "",
  "signature": "sha256:e8998117a13eda6dbe5ba56453524fb49fdd7c93ac8d5641081056ceb5b1d727"
 },
 "nbformat": 3,
 "nbformat_minor": 0,
 "worksheets": [
  {
   "cells": [
    {
     "cell_type": "code",
     "collapsed": false,
     "input": [
      "%load_ext autoreload\n",
      "%autoreload 2\n",
      "\n",
      "import os\n",
      "from IPython.display import FileLink, Image, FileLinks\n",
      "import manager_utilities"
     ],
     "language": "python",
     "metadata": {},
     "outputs": [
      {
       "output_type": "stream",
       "stream": "stdout",
       "text": [
        "The autoreload extension is already loaded. To reload it, use:\n",
        "  %reload_ext autoreload\n"
       ]
      }
     ],
     "prompt_number": 20
    },
    {
     "cell_type": "markdown",
     "metadata": {},
     "source": [
      "Specify the image path, and parameter file."
     ]
    },
    {
     "cell_type": "code",
     "collapsed": false,
     "input": [
      "scratch_dir = 'scratch/output'\n",
      "data_dir = '../data'\n",
      "param_dump_dir = '../params'\n",
      "\n",
      "dataset_name = 'PMD1305_reduce0_region0'\n",
      "img_idxs = 244\n",
      "param_ids = [5]"
     ],
     "language": "python",
     "metadata": {},
     "outputs": [],
     "prompt_number": 21
    },
    {
     "cell_type": "markdown",
     "metadata": {},
     "source": [
      "[This spreadsheet](https://docs.google.com/spreadsheets/d/1S189da_CxzC3GKISG3hZDG0n7mMycC0v4zTiRJraEUE/edit#gid=0) specifies the set of parameter values to test."
     ]
    },
    {
     "cell_type": "code",
     "collapsed": false,
     "input": [
      "parameters = manager_utilities.load_parameters('params.csv', redownload=False, dump_dir=param_dump_dir)"
     ],
     "language": "python",
     "metadata": {},
     "outputs": [],
     "prompt_number": 22
    },
    {
     "cell_type": "markdown",
     "metadata": {},
     "source": [
      "Then run the pipeline executable."
     ]
    },
    {
     "cell_type": "code",
     "collapsed": false,
     "input": [
      "%%time\n",
      "\n",
      "for img_idx, param_id in zip(img_idxs, param_ids):\n",
      "    img_path = os.path.join(data_dir, dataset_name, dataset_name + '_%04d.tif'%img_idx)\n",
      "    param_file = os.path.join(param_dump_dir, 'param%d.json'%param_id)\n",
      "    output_dir = os.path.join(scratch_dir, dataset_name + '_%04d'%img_idx + '_param%d'%param_id)\n",
      "    \n",
      "    %run CrossValidationPipelineScriptShellNoMagicV1.py {param_file} {img_path} {output_dir} "
     ],
     "language": "python",
     "metadata": {},
     "outputs": []
    },
    {
     "cell_type": "code",
     "collapsed": false,
     "input": [
      "Image(manager_utilities.get_img_filename('segmentation', img_name, param_id, cache_dir=cache_dir, ext='png'))"
     ],
     "language": "python",
     "metadata": {},
     "outputs": []
    },
    {
     "cell_type": "code",
     "collapsed": false,
     "input": [
      "Image(manager_utilities.get_img_filename('segmentation', img_name, param_id, cache_dir=cache_dir, ext='png'))"
     ],
     "language": "python",
     "metadata": {},
     "outputs": []
    }
   ],
   "metadata": {}
  }
 ]
}