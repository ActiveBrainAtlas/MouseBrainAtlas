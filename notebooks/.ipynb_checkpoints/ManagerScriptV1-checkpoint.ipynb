{
 "metadata": {
  "name": "",
  "signature": "sha256:294d25b1342d234297aec7bd8ffc5c978155c685439e07627bd67fba8f821c67"
 },
 "nbformat": 3,
 "nbformat_minor": 0,
 "worksheets": [
  {
   "cells": [
    {
     "cell_type": "code",
     "collapsed": false,
     "input": [
      "%load_ext autoreload\n",
      "%autoreload 2\n",
      "\n",
      "import os\n",
      "from IPython.display import FileLink, Image, FileLinks\n",
      "import itertools\n",
      "import manager_utilities"
     ],
     "language": "python",
     "metadata": {},
     "outputs": [],
     "prompt_number": 1
    },
    {
     "cell_type": "markdown",
     "metadata": {},
     "source": [
      "Specify the image path, and parameter file."
     ]
    },
    {
     "cell_type": "code",
     "collapsed": false,
     "input": [
      "output_dir = '../output'\n",
      "data_dir = '../data'\n",
      "param_dump_dir = '../params'\n",
      "\n",
      "dataset_name = 'PMD1305_reduce2_region1'\n",
      "img_idxs = [160]\n",
      "param_ids = [10]"
     ],
     "language": "python",
     "metadata": {},
     "outputs": [],
     "prompt_number": 2
    },
    {
     "cell_type": "markdown",
     "metadata": {},
     "source": [
      "[This spreadsheet](https://docs.google.com/spreadsheets/d/1S189da_CxzC3GKISG3hZDG0n7mMycC0v4zTiRJraEUE/edit#gid=0) specifies the set of parameter values to test."
     ]
    },
    {
     "cell_type": "code",
     "collapsed": false,
     "input": [
      "parameters = manager_utilities.load_parameters('params.csv', redownload=True, dump_dir=param_dump_dir)"
     ],
     "language": "python",
     "metadata": {},
     "outputs": [],
     "prompt_number": 3
    },
    {
     "cell_type": "markdown",
     "metadata": {},
     "source": [
      "Then run the pipeline executable."
     ]
    },
    {
     "cell_type": "code",
     "collapsed": false,
     "input": [
      "%%time\n",
      "\n",
      "for img_idx, param_id in itertools.product(img_idxs, param_ids):\n",
      "    img_path = os.path.join(data_dir, dataset_name, dataset_name + '_%04d.tif'%img_idx)\n",
      "    param_file = os.path.join(param_dump_dir, 'param%d.json'%param_id)\n",
      "    \n",
      "    %run CrossValidationPipelineScriptShellNoMagicV1.py {param_file} {img_path} {output_dir} \n",
      "    print '\\n'"
     ],
     "language": "python",
     "metadata": {},
     "outputs": [
      {
       "output_type": "stream",
       "stream": "stdout",
       "text": [
        "read ../data/PMD1305_reduce2_region0/PMD1305_reduce2_region0_0244.tif\n",
        "=== finding foreground mask ===\n",
        "=== filter using Gabor filters ==="
       ]
      },
      {
       "output_type": "stream",
       "stream": "stdout",
       "text": [
        "\n",
        "num. of kernels: 48\n",
        "frequencies: [ 0.1     0.05    0.025   0.0125]\n",
        "wavelength (pixels): [ 10.  20.  40.  80.]\n",
        "max kernel matrix size: 271\n",
        "load ../output/PMD1305_reduce2_region0_0244_param2/PMD1305_reduce2_region0_0244_param2_features.npy"
       ]
      },
      {
       "output_type": "stream",
       "stream": "stdout",
       "text": [
        "\n",
        "crop border where filters show border effects\n",
        "=== compute rotation-invariant texton map using K-Means ===\n",
        "iteration"
       ]
      },
      {
       "output_type": "stream",
       "stream": "stdout",
       "text": [
        " 0\n"
       ]
      },
      {
       "output_type": "stream",
       "stream": "stdout",
       "text": [
        "19.3120955066\n",
        "iteration 1\n"
       ]
      },
      {
       "output_type": "stream",
       "stream": "stdout",
       "text": [
        "11.1469161139\n",
        "iteration 2\n"
       ]
      },
      {
       "output_type": "stream",
       "stream": "stdout",
       "text": [
        "8.8215629915\n",
        "iteration 3\n"
       ]
      },
      {
       "output_type": "stream",
       "stream": "stdout",
       "text": [
        "9.21421891984\n",
        "iteration 4\n"
       ]
      },
      {
       "output_type": "stream",
       "stream": "stdout",
       "text": [
        "9.25579637524\n",
        "iteration 5\n"
       ]
      },
      {
       "output_type": "stream",
       "stream": "stdout",
       "text": [
        "8.73348440821\n",
        "iteration 6\n"
       ]
      },
      {
       "output_type": "stream",
       "stream": "stdout",
       "text": [
        "9.00373460639\n",
        "iteration 7\n"
       ]
      },
      {
       "output_type": "stream",
       "stream": "stdout",
       "text": [
        "8.76742940936\n",
        "iteration 8\n"
       ]
      },
      {
       "output_type": "stream",
       "stream": "stdout",
       "text": [
        "8.64718241932\n",
        "iteration 9\n"
       ]
      },
      {
       "output_type": "stream",
       "stream": "stdout",
       "text": [
        "8.57113950032\n",
        "kmeans completes\n"
       ]
      },
      {
       "output_type": "stream",
       "stream": "stdout",
       "text": [
        "textonmap saved to ../output/PMD1305_reduce2_region0_0244_param2/PMD1305_reduce2_region0_0244_param2_textonmap.npy\n",
        "textonmap saved to ../output/PMD1305_reduce2_region0_0244_param2/PMD1305_reduce2_region0_0244_param2_textonmap.tif"
       ]
      },
      {
       "output_type": "stream",
       "stream": "stdout",
       "text": [
        "\n",
        "textonmap saved to ../output/PMD1305_reduce2_region0_0244_param2/PMD1305_reduce2_region0_0244_param2_textonmap.png"
       ]
      },
      {
       "output_type": "stream",
       "stream": "stdout",
       "text": [
        "\n",
        "=== over-segment the image into superpixels based on color information ===\n",
        "segmentation computed"
       ]
      },
      {
       "output_type": "stream",
       "stream": "stdout",
       "text": [
        "\n",
        "segmentation saved to ../output/PMD1305_reduce2_region0_0244_param2/PMD1305_reduce2_region0_0244_param2_segmentation.npy\n"
       ]
      },
      {
       "output_type": "stream",
       "stream": "stdout",
       "text": [
        "segmentation saved to ../output/PMD1305_reduce2_region0_0244_param2/PMD1305_reduce2_region0_0244_param2_segmentation.tif\n",
        "segmentation saved to ../output/PMD1305_reduce2_region0_0244_param2/PMD1305_reduce2_region0_0244_param2_segmentation.png"
       ]
      },
      {
       "output_type": "stream",
       "stream": "stdout",
       "text": [
        "\n"
       ]
      },
      {
       "output_type": "stream",
       "stream": "stdout",
       "text": [
        "8 background superpixels\n",
        "=== compute texton and directionality histogram of each superpixel ===\n"
       ]
      },
      {
       "output_type": "stream",
       "stream": "stdout",
       "text": [
        "sp_texton_hist_normalized saved to ../output/PMD1305_reduce2_region0_0244_param2/PMD1305_reduce2_region0_0244_param2_sp_texton_hist_normalized.npy\n"
       ]
      },
      {
       "output_type": "stream",
       "stream": "stderr",
       "text": [
        "CrossValidationPipelineScriptShellNoMagicV1.py:267: RuntimeWarning: invalid value encountered in divide\n",
        "  sp_texton_hist_normalized = sp_texton_hist.astype(np.float) / sp_texton_hist.sum(axis=1)[:, np.newaxis]\n"
       ]
      },
      {
       "output_type": "stream",
       "stream": "stdout",
       "text": [
        "sp_dir_hist_normalized saved to ../output/PMD1305_reduce2_region0_0244_param2/PMD1305_reduce2_region0_0244_param2_sp_dir_hist_normalized.npy\n",
        "=== compute significance of each superpixel ===\n",
        "texton_saliencymap saved to ../output/PMD1305_reduce2_region0_0244_param2/PMD1305_reduce2_region0_0244_param2_texton_saliencymap.tif"
       ]
      },
      {
       "output_type": "stream",
       "stream": "stdout",
       "text": [
        "\n",
        "texton_saliencymap saved to ../output/PMD1305_reduce2_region0_0244_param2/PMD1305_reduce2_region0_0244_param2_texton_saliencymap.png\n",
        "\n"
       ]
      },
      {
       "output_type": "stream",
       "stream": "stdout",
       "text": [
        "\n",
        "read ../data/PMD1305_reduce2_region0/PMD1305_reduce2_region0_0244.tif"
       ]
      },
      {
       "output_type": "stream",
       "stream": "stdout",
       "text": [
        "\n",
        "=== finding foreground mask ===\n",
        "=== filter using Gabor filters ==="
       ]
      },
      {
       "output_type": "stream",
       "stream": "stdout",
       "text": [
        "\n",
        "num. of kernels: 84\n",
        "frequencies: [ 0.1         0.07092199  0.05029928  0.03567325  0.02530018  0.01794339\n",
        "  0.01272581]\n",
        "wavelength (pixels): [ 10.          14.1         19.881       28.03221     39.5254161\n",
        "  55.7308367   78.58047975]\n",
        "max kernel matrix size: 267\n",
        "load ../output/PMD1305_reduce2_region0_0244_param3/PMD1305_reduce2_region0_0244_param3_features.npy"
       ]
      },
      {
       "output_type": "stream",
       "stream": "stdout",
       "text": [
        "\n",
        "crop border where filters show border effects\n",
        "=== compute rotation-invariant texton map using K-Means ===\n",
        "iteration"
       ]
      },
      {
       "output_type": "stream",
       "stream": "stdout",
       "text": [
        " 0\n"
       ]
      },
      {
       "output_type": "stream",
       "stream": "stdout",
       "text": [
        "20.2310456589\n",
        "iteration 1\n"
       ]
      },
      {
       "output_type": "stream",
       "stream": "stdout",
       "text": [
        "7.64208633237\n",
        "iteration 2\n"
       ]
      },
      {
       "output_type": "stream",
       "stream": "stdout",
       "text": [
        "6.20980736081\n",
        "iteration 3\n"
       ]
      },
      {
       "output_type": "stream",
       "stream": "stdout",
       "text": [
        "7.03113708059\n",
        "iteration 4\n"
       ]
      },
      {
       "output_type": "stream",
       "stream": "stdout",
       "text": [
        "7.62017043459\n",
        "iteration 5\n"
       ]
      },
      {
       "output_type": "stream",
       "stream": "stdout",
       "text": [
        "7.60376238426\n",
        "iteration 6\n"
       ]
      },
      {
       "output_type": "stream",
       "stream": "stdout",
       "text": [
        "7.34327300799\n",
        "iteration 7\n"
       ]
      },
      {
       "output_type": "stream",
       "stream": "stdout",
       "text": [
        "7.11658238278\n",
        "iteration 8\n"
       ]
      },
      {
       "output_type": "stream",
       "stream": "stdout",
       "text": [
        "7.53129645091\n",
        "iteration 9\n"
       ]
      },
      {
       "output_type": "stream",
       "stream": "stdout",
       "text": [
        "7.21837336648\n",
        "kmeans completes\n"
       ]
      },
      {
       "output_type": "stream",
       "stream": "stdout",
       "text": [
        "textonmap saved to ../output/PMD1305_reduce2_region0_0244_param3/PMD1305_reduce2_region0_0244_param3_textonmap.npy\n",
        "textonmap saved to ../output/PMD1305_reduce2_region0_0244_param3/PMD1305_reduce2_region0_0244_param3_textonmap.tif"
       ]
      },
      {
       "output_type": "stream",
       "stream": "stdout",
       "text": [
        "\n",
        "textonmap saved to ../output/PMD1305_reduce2_region0_0244_param3/PMD1305_reduce2_region0_0244_param3_textonmap.png"
       ]
      },
      {
       "output_type": "stream",
       "stream": "stdout",
       "text": [
        "\n",
        "=== over-segment the image into superpixels based on color information ===\n",
        "segmentation computed"
       ]
      },
      {
       "output_type": "stream",
       "stream": "stdout",
       "text": [
        "\n",
        "segmentation saved to ../output/PMD1305_reduce2_region0_0244_param3/PMD1305_reduce2_region0_0244_param3_segmentation.npy\n"
       ]
      },
      {
       "output_type": "stream",
       "stream": "stdout",
       "text": [
        "segmentation saved to ../output/PMD1305_reduce2_region0_0244_param3/PMD1305_reduce2_region0_0244_param3_segmentation.tif\n",
        "segmentation saved to ../output/PMD1305_reduce2_region0_0244_param3/PMD1305_reduce2_region0_0244_param3_segmentation.png"
       ]
      },
      {
       "output_type": "stream",
       "stream": "stdout",
       "text": [
        "\n"
       ]
      },
      {
       "output_type": "stream",
       "stream": "stdout",
       "text": [
        "8 background superpixels\n",
        "=== compute texton and directionality histogram of each superpixel ===\n"
       ]
      },
      {
       "output_type": "stream",
       "stream": "stdout",
       "text": [
        "sp_texton_hist_normalized saved to ../output/PMD1305_reduce2_region0_0244_param3/PMD1305_reduce2_region0_0244_param3_sp_texton_hist_normalized.npy\n"
       ]
      },
      {
       "output_type": "stream",
       "stream": "stderr",
       "text": [
        "CrossValidationPipelineScriptShellNoMagicV1.py:267: RuntimeWarning: invalid value encountered in divide\n",
        "  sp_texton_hist_normalized = sp_texton_hist.astype(np.float) / sp_texton_hist.sum(axis=1)[:, np.newaxis]\n"
       ]
      },
      {
       "output_type": "stream",
       "stream": "stdout",
       "text": [
        "sp_dir_hist_normalized saved to ../output/PMD1305_reduce2_region0_0244_param3/PMD1305_reduce2_region0_0244_param3_sp_dir_hist_normalized.npy\n",
        "=== compute significance of each superpixel ===\n",
        "texton_saliencymap saved to ../output/PMD1305_reduce2_region0_0244_param3/PMD1305_reduce2_region0_0244_param3_texton_saliencymap.tif"
       ]
      },
      {
       "output_type": "stream",
       "stream": "stdout",
       "text": [
        "\n",
        "texton_saliencymap saved to ../output/PMD1305_reduce2_region0_0244_param3/PMD1305_reduce2_region0_0244_param3_texton_saliencymap.png\n",
        "\n"
       ]
      },
      {
       "output_type": "stream",
       "stream": "stdout",
       "text": [
        "\n",
        "read ../data/PMD1305_reduce2_region0/PMD1305_reduce2_region0_0244.tif"
       ]
      },
      {
       "output_type": "stream",
       "stream": "stdout",
       "text": [
        "\n",
        "=== finding foreground mask ===\n",
        "=== filter using Gabor filters ==="
       ]
      },
      {
       "output_type": "stream",
       "stream": "stdout",
       "text": [
        "\n",
        "num. of kernels: 48\n",
        "frequencies: [ 0.05     0.025    0.0125   0.00625]\n",
        "wavelength (pixels): [  20.   40.   80.  160.]\n",
        "max kernel matrix size: 541\n"
       ]
      },
      {
       "output_type": "stream",
       "stream": "stdout",
       "text": [
        "features saved to ../output/PMD1305_reduce2_region0_0244_param4/PMD1305_reduce2_region0_0244_param4_features.npy\n",
        "crop border where filters show border effects\n",
        "=== compute rotation-invariant texton map using K-Means ===\n",
        "iteration"
       ]
      },
      {
       "output_type": "stream",
       "stream": "stdout",
       "text": [
        " 0\n"
       ]
      },
      {
       "output_type": "stream",
       "stream": "stdout",
       "text": [
        "13.4377600693\n",
        "iteration 1\n"
       ]
      },
      {
       "output_type": "stream",
       "stream": "stdout",
       "text": [
        "7.91866962701\n",
        "iteration 2\n"
       ]
      },
      {
       "output_type": "stream",
       "stream": "stdout",
       "text": [
        "7.06065693987\n",
        "iteration 3\n"
       ]
      },
      {
       "output_type": "stream",
       "stream": "stdout",
       "text": [
        "7.07484642149\n",
        "iteration 4\n"
       ]
      },
      {
       "output_type": "stream",
       "stream": "stdout",
       "text": [
        "6.98662055214\n",
        "iteration 5\n"
       ]
      },
      {
       "output_type": "stream",
       "stream": "stdout",
       "text": [
        "6.97297855492\n",
        "iteration 6\n"
       ]
      },
      {
       "output_type": "stream",
       "stream": "stdout",
       "text": [
        "7.33322886723\n",
        "iteration 7\n"
       ]
      },
      {
       "output_type": "stream",
       "stream": "stdout",
       "text": [
        "7.01233649959\n",
        "iteration 8\n"
       ]
      },
      {
       "output_type": "stream",
       "stream": "stdout",
       "text": [
        "7.1327024745\n",
        "iteration 9\n"
       ]
      },
      {
       "output_type": "stream",
       "stream": "stdout",
       "text": [
        "7.6754663191\n",
        "kmeans completes\n"
       ]
      },
      {
       "output_type": "stream",
       "stream": "stdout",
       "text": [
        "textonmap saved to ../output/PMD1305_reduce2_region0_0244_param4/PMD1305_reduce2_region0_0244_param4_textonmap.npy\n",
        "textonmap saved to ../output/PMD1305_reduce2_region0_0244_param4/PMD1305_reduce2_region0_0244_param4_textonmap.tif"
       ]
      },
      {
       "output_type": "stream",
       "stream": "stdout",
       "text": [
        "\n",
        "textonmap saved to ../output/PMD1305_reduce2_region0_0244_param4/PMD1305_reduce2_region0_0244_param4_textonmap.png"
       ]
      },
      {
       "output_type": "stream",
       "stream": "stdout",
       "text": [
        "\n",
        "=== over-segment the image into superpixels based on color information ===\n",
        "segmentation computed"
       ]
      },
      {
       "output_type": "stream",
       "stream": "stdout",
       "text": [
        "\n",
        "segmentation saved to ../output/PMD1305_reduce2_region0_0244_param4/PMD1305_reduce2_region0_0244_param4_segmentation.npy\n"
       ]
      },
      {
       "output_type": "stream",
       "stream": "stdout",
       "text": [
        "segmentation saved to ../output/PMD1305_reduce2_region0_0244_param4/PMD1305_reduce2_region0_0244_param4_segmentation.tif\n",
        "segmentation saved to ../output/PMD1305_reduce2_region0_0244_param4/PMD1305_reduce2_region0_0244_param4_segmentation.png"
       ]
      },
      {
       "output_type": "stream",
       "stream": "stdout",
       "text": [
        "\n"
       ]
      },
      {
       "output_type": "stream",
       "stream": "stdout",
       "text": [
        "0 background superpixels\n",
        "=== compute texton and directionality histogram of each superpixel ===\n"
       ]
      },
      {
       "output_type": "stream",
       "stream": "stdout",
       "text": [
        "sp_texton_hist_normalized saved to ../output/PMD1305_reduce2_region0_0244_param4/PMD1305_reduce2_region0_0244_param4_sp_texton_hist_normalized.npy\n"
       ]
      },
      {
       "output_type": "stream",
       "stream": "stdout",
       "text": [
        "sp_dir_hist_normalized saved to ../output/PMD1305_reduce2_region0_0244_param4/PMD1305_reduce2_region0_0244_param4_sp_dir_hist_normalized.npy\n",
        "=== compute significance of each superpixel ===\n",
        "texton_saliencymap saved to ../output/PMD1305_reduce2_region0_0244_param4/PMD1305_reduce2_region0_0244_param4_texton_saliencymap.tif"
       ]
      },
      {
       "output_type": "stream",
       "stream": "stdout",
       "text": [
        "\n",
        "texton_saliencymap saved to ../output/PMD1305_reduce2_region0_0244_param4/PMD1305_reduce2_region0_0244_param4_texton_saliencymap.png\n",
        "\n",
        "\n",
        "CPU times: user 1min 59s, sys: 27.1 s, total: 2min 27s\n",
        "Wall time: 2min 19s\n"
       ]
      }
     ],
     "prompt_number": 7
    },
    {
     "cell_type": "code",
     "collapsed": false,
     "input": [
      "#Image(manager_utilities.get_img_filename('segmentation', img_name, param_id, cache_dir=cache_dir, ext='png'))"
     ],
     "language": "python",
     "metadata": {},
     "outputs": []
    },
    {
     "cell_type": "code",
     "collapsed": false,
     "input": [
      "#Image(manager_utilities.get_img_filename('segmentation', img_name, param_id, cache_dir=cache_dir, ext='png'))"
     ],
     "language": "python",
     "metadata": {},
     "outputs": []
    }
   ],
   "metadata": {}
  }
 ]
}