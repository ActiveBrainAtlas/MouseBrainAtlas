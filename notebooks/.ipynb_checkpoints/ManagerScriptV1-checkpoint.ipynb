{
 "metadata": {
  "name": "",
  "signature": "sha256:c3e464ca7765d87c65350aa70130e2089b186efcb3865a56383e90101e9e9a07"
 },
 "nbformat": 3,
 "nbformat_minor": 0,
 "worksheets": [
  {
   "cells": [
    {
     "cell_type": "code",
     "collapsed": false,
     "input": [
      "%load_ext autoreload\n",
      "%autoreload 2\n",
      "\n",
      "import os\n",
      "from IPython.display import FileLink, Image, FileLinks\n",
      "import itertools\n",
      "import manager_utilities"
     ],
     "language": "python",
     "metadata": {},
     "outputs": [
      {
       "output_type": "stream",
       "stream": "stdout",
       "text": [
        "The autoreload extension is already loaded. To reload it, use:\n",
        "  %reload_ext autoreload\n"
       ]
      }
     ],
     "prompt_number": 35
    },
    {
     "cell_type": "markdown",
     "metadata": {},
     "source": [
      "Specify the image path, and parameter file."
     ]
    },
    {
     "cell_type": "code",
     "collapsed": false,
     "input": [
      "output_dir = '../output'\n",
      "data_dir = '../data'\n",
      "param_dump_dir = '../params'\n",
      "\n",
      "dataset_name = 'PMD1305_reduce2_region0'\n",
      "img_idxs = [244,245]\n",
      "param_ids = [2,3]"
     ],
     "language": "python",
     "metadata": {},
     "outputs": [],
     "prompt_number": 36
    },
    {
     "cell_type": "markdown",
     "metadata": {},
     "source": [
      "[This spreadsheet](https://docs.google.com/spreadsheets/d/1S189da_CxzC3GKISG3hZDG0n7mMycC0v4zTiRJraEUE/edit#gid=0) specifies the set of parameter values to test."
     ]
    },
    {
     "cell_type": "code",
     "collapsed": false,
     "input": [
      "parameters = manager_utilities.load_parameters('params.csv', redownload=False, dump_dir=param_dump_dir)"
     ],
     "language": "python",
     "metadata": {},
     "outputs": [],
     "prompt_number": 33
    },
    {
     "cell_type": "markdown",
     "metadata": {},
     "source": [
      "Then run the pipeline executable."
     ]
    },
    {
     "cell_type": "code",
     "collapsed": false,
     "input": [
      "%%time\n",
      "\n",
      "for img_idx, param_id in itertools.product(img_idxs, param_ids):\n",
      "    img_path = os.path.join(data_dir, dataset_name, dataset_name + '_%04d.tif'%img_idx)\n",
      "    param_file = os.path.join(param_dump_dir, 'param%d.json'%param_id)\n",
      "    \n",
      "    %run CrossValidationPipelineScriptShellNoMagicV1.py {param_file} {img_path} {output_dir} \n",
      "    print '\\n'"
     ],
     "language": "python",
     "metadata": {},
     "outputs": [
      {
       "output_type": "stream",
       "stream": "stdout",
       "text": [
        "read ../data/PMD1305_reduce2_region0/PMD1305_reduce2_region0_0244.tif\n",
        "=== finding foreground mask ===\n",
        "=== filter using Gabor filters ==="
       ]
      },
      {
       "output_type": "stream",
       "stream": "stdout",
       "text": [
        "\n",
        "num. of kernels: 48\n",
        "frequencies: [ 0.1     0.05    0.025   0.0125]\n",
        "wavelength (pixels): [ 10.  20.  40.  80.]\n",
        "max kernel matrix size: 271\n"
       ]
      },
      {
       "output_type": "stream",
       "stream": "stdout",
       "text": [
        "features saved to ../output/PMD1305_reduce2_region0_0244_param2/PMD1305_reduce2_region0_0244_param2_features.npy\n",
        "crop border where filters show border effects\n",
        "=== compute rotation-invariant texton map using K-Means ===\n",
        "iteration"
       ]
      },
      {
       "output_type": "stream",
       "stream": "stdout",
       "text": [
        " 0\n"
       ]
      },
      {
       "output_type": "stream",
       "stream": "stdout",
       "text": [
        "17.7506726823\n",
        "iteration 1\n"
       ]
      },
      {
       "output_type": "stream",
       "stream": "stdout",
       "text": [
        "10.0122374991\n",
        "iteration 2\n"
       ]
      },
      {
       "output_type": "stream",
       "stream": "stdout",
       "text": [
        "8.88590265785\n",
        "iteration 3\n"
       ]
      },
      {
       "output_type": "stream",
       "stream": "stdout",
       "text": [
        "9.57056814823\n",
        "iteration 4\n"
       ]
      },
      {
       "output_type": "stream",
       "stream": "stdout",
       "text": [
        "9.81033122185\n",
        "kmeans completes\n"
       ]
      },
      {
       "output_type": "stream",
       "stream": "stdout",
       "text": [
        "textonmap saved to ../output/PMD1305_reduce2_region0_0244_param2/PMD1305_reduce2_region0_0244_param2_textonmap.npy\n",
        "textonmap saved to ../output/PMD1305_reduce2_region0_0244_param2/PMD1305_reduce2_region0_0244_param2_textonmap.tif"
       ]
      },
      {
       "output_type": "stream",
       "stream": "stdout",
       "text": [
        "\n",
        "textonmap saved to ../output/PMD1305_reduce2_region0_0244_param2/PMD1305_reduce2_region0_0244_param2_textonmap.png"
       ]
      },
      {
       "output_type": "stream",
       "stream": "stdout",
       "text": [
        "\n",
        "=== over-segment the image into superpixels based on color information ===\n",
        "segmentation computed"
       ]
      },
      {
       "output_type": "stream",
       "stream": "stdout",
       "text": [
        "\n",
        "segmentation saved to ../output/PMD1305_reduce2_region0_0244_param2/PMD1305_reduce2_region0_0244_param2_segmentation.npy\n"
       ]
      },
      {
       "output_type": "stream",
       "stream": "stdout",
       "text": [
        "segmentation saved to ../output/PMD1305_reduce2_region0_0244_param2/PMD1305_reduce2_region0_0244_param2_segmentation.tif\n",
        "segmentation saved to ../output/PMD1305_reduce2_region0_0244_param2/PMD1305_reduce2_region0_0244_param2_segmentation.png"
       ]
      },
      {
       "output_type": "stream",
       "stream": "stdout",
       "text": [
        "\n"
       ]
      },
      {
       "output_type": "stream",
       "stream": "stdout",
       "text": [
        "0 background superpixels\n",
        "=== compute texton and directionality histogram of each superpixel ===\n"
       ]
      },
      {
       "output_type": "stream",
       "stream": "stdout",
       "text": [
        "sp_texton_hist_normalized saved to ../output/PMD1305_reduce2_region0_0244_param2/PMD1305_reduce2_region0_0244_param2_sp_texton_hist_normalized.npy\n"
       ]
      },
      {
       "output_type": "stream",
       "stream": "stdout",
       "text": [
        "sp_dir_hist_normalized saved to ../output/PMD1305_reduce2_region0_0244_param2/PMD1305_reduce2_region0_0244_param2_sp_dir_hist_normalized.npy\n",
        "=== compute significance of each superpixel ===\n",
        "texton_saliencymap saved to ../output/PMD1305_reduce2_region0_0244_param2/PMD1305_reduce2_region0_0244_param2_texton_saliencymap.tif"
       ]
      },
      {
       "output_type": "stream",
       "stream": "stdout",
       "text": [
        "\n",
        "texton_saliencymap saved to ../output/PMD1305_reduce2_region0_0244_param2/PMD1305_reduce2_region0_0244_param2_texton_saliencymap.png\n",
        "read ../data/PMD1305_reduce2_region0/PMD1305_reduce2_region0_0245.tif"
       ]
      },
      {
       "output_type": "stream",
       "stream": "stdout",
       "text": [
        "\n",
        "=== finding foreground mask ===\n",
        "=== filter using Gabor filters ==="
       ]
      },
      {
       "output_type": "stream",
       "stream": "stdout",
       "text": [
        "\n",
        "num. of kernels: 84\n",
        "frequencies: [ 0.1         0.07092199  0.05029928  0.03567325  0.02530018  0.01794339\n",
        "  0.01272581]\n",
        "wavelength (pixels): [ 10.          14.1         19.881       28.03221     39.5254161\n",
        "  55.7308367   78.58047975]\n",
        "max kernel matrix size: 267\n"
       ]
      },
      {
       "output_type": "stream",
       "stream": "stdout",
       "text": [
        "features saved to ../output/PMD1305_reduce2_region0_0245_param3/PMD1305_reduce2_region0_0245_param3_features.npy\n",
        "crop border where filters show border effects\n",
        "=== compute rotation-invariant texton map using K-Means ===\n",
        "iteration"
       ]
      },
      {
       "output_type": "stream",
       "stream": "stdout",
       "text": [
        " 0\n"
       ]
      },
      {
       "output_type": "stream",
       "stream": "stdout",
       "text": [
        "22.578568179\n",
        "iteration 1\n"
       ]
      },
      {
       "output_type": "stream",
       "stream": "stdout",
       "text": [
        "8.19149752669\n",
        "iteration 2\n"
       ]
      },
      {
       "output_type": "stream",
       "stream": "stdout",
       "text": [
        "7.52444596174\n",
        "iteration 3\n"
       ]
      },
      {
       "output_type": "stream",
       "stream": "stdout",
       "text": [
        "6.80919660876\n",
        "iteration 4\n"
       ]
      },
      {
       "output_type": "stream",
       "stream": "stdout",
       "text": [
        "6.22106263049\n",
        "kmeans completes\n"
       ]
      },
      {
       "output_type": "stream",
       "stream": "stdout",
       "text": [
        "textonmap saved to ../output/PMD1305_reduce2_region0_0245_param3/PMD1305_reduce2_region0_0245_param3_textonmap.npy\n",
        "textonmap saved to ../output/PMD1305_reduce2_region0_0245_param3/PMD1305_reduce2_region0_0245_param3_textonmap.tif"
       ]
      },
      {
       "output_type": "stream",
       "stream": "stdout",
       "text": [
        "\n",
        "textonmap saved to ../output/PMD1305_reduce2_region0_0245_param3/PMD1305_reduce2_region0_0245_param3_textonmap.png"
       ]
      },
      {
       "output_type": "stream",
       "stream": "stdout",
       "text": [
        "\n",
        "=== over-segment the image into superpixels based on color information ===\n",
        "segmentation computed"
       ]
      },
      {
       "output_type": "stream",
       "stream": "stdout",
       "text": [
        "\n",
        "segmentation saved to ../output/PMD1305_reduce2_region0_0245_param3/PMD1305_reduce2_region0_0245_param3_segmentation.npy\n"
       ]
      },
      {
       "output_type": "stream",
       "stream": "stdout",
       "text": [
        "segmentation saved to ../output/PMD1305_reduce2_region0_0245_param3/PMD1305_reduce2_region0_0245_param3_segmentation.tif\n",
        "segmentation saved to ../output/PMD1305_reduce2_region0_0245_param3/PMD1305_reduce2_region0_0245_param3_segmentation.png"
       ]
      },
      {
       "output_type": "stream",
       "stream": "stdout",
       "text": [
        "\n"
       ]
      },
      {
       "output_type": "stream",
       "stream": "stdout",
       "text": [
        "0 background superpixels\n",
        "=== compute texton and directionality histogram of each superpixel ===\n"
       ]
      },
      {
       "output_type": "stream",
       "stream": "stdout",
       "text": [
        "sp_texton_hist_normalized saved to ../output/PMD1305_reduce2_region0_0245_param3/PMD1305_reduce2_region0_0245_param3_sp_texton_hist_normalized.npy\n"
       ]
      },
      {
       "output_type": "stream",
       "stream": "stdout",
       "text": [
        "sp_dir_hist_normalized saved to ../output/PMD1305_reduce2_region0_0245_param3/PMD1305_reduce2_region0_0245_param3_sp_dir_hist_normalized.npy\n",
        "=== compute significance of each superpixel ===\n",
        "texton_saliencymap saved to ../output/PMD1305_reduce2_region0_0245_param3/PMD1305_reduce2_region0_0245_param3_texton_saliencymap.tif"
       ]
      },
      {
       "output_type": "stream",
       "stream": "stdout",
       "text": [
        "\n",
        "texton_saliencymap saved to ../output/PMD1305_reduce2_region0_0245_param3/PMD1305_reduce2_region0_0245_param3_texton_saliencymap.png\n",
        "CPU times: user 53.5 s, sys: 15.8 s, total: 1min 9s\n",
        "Wall time: 1min 8s\n"
       ]
      }
     ],
     "prompt_number": 38
    },
    {
     "cell_type": "code",
     "collapsed": false,
     "input": [
      "Image(manager_utilities.get_img_filename('segmentation', img_name, param_id, cache_dir=cache_dir, ext='png'))"
     ],
     "language": "python",
     "metadata": {},
     "outputs": []
    },
    {
     "cell_type": "code",
     "collapsed": false,
     "input": [
      "Image(manager_utilities.get_img_filename('segmentation', img_name, param_id, cache_dir=cache_dir, ext='png'))"
     ],
     "language": "python",
     "metadata": {},
     "outputs": []
    }
   ],
   "metadata": {}
  }
 ]
}