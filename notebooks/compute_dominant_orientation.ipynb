{
 "cells": [
  {
   "cell_type": "code",
   "execution_count": 1,
   "metadata": {
    "collapsed": false
   },
   "outputs": [],
   "source": [
    "%load_ext autoreload\n",
    "%autoreload 2"
   ]
  },
  {
   "cell_type": "code",
   "execution_count": 2,
   "metadata": {
    "collapsed": false
   },
   "outputs": [
    {
     "name": "stderr",
     "output_type": "stream",
     "text": [
      "/oasis/projects/nsf/csd181/yuncong/virtualenv-1.9.1/yuncongve/lib/python2.7/site-packages/skimage/filter/__init__.py:6: skimage_deprecation: The `skimage.filter` module has been renamed to `skimage.filters`.  This placeholder module will be removed in v0.13.\n",
      "  warn(skimage_deprecation('The `skimage.filter` module has been renamed '\n"
     ]
    }
   ],
   "source": [
    "import os\n",
    "\n",
    "import sys\n",
    "sys.path.append(os.environ['GORDON_REPO_DIR'] + '/pipeline_scripts')\n",
    "\n",
    "from utilities2014 import *\n",
    "\n",
    "sys.path.append('/home/yuncong/project/opencv-2.4.9/release/lib/python2.7/site-packages')\n",
    "import cv2\n",
    "\n",
    "dm = DataManager(generate_hierarchy=False, stack='RS141', resol='x5', section=1)\n",
    "dm._load_image()\n",
    "\n",
    "texton_hists = dm.load_pipeline_result('texHist', 'npy')\n",
    "segmentation = dm.load_pipeline_result('segmentation', 'npy')\n",
    "n_superpixels = len(np.unique(segmentation)) - 1\n",
    "textonmap = dm.load_pipeline_result('texMap', 'npy')\n",
    "n_texton = len(np.unique(textonmap)) - 1\n",
    "neighbors = dm.load_pipeline_result('neighbors', 'pkl')\n",
    "sp_properties = dm.load_pipeline_result('spProps', 'npy')\n",
    "segmentation_vis = dm.load_pipeline_result('segmentationWithText', 'jpg')"
   ]
  },
  {
   "cell_type": "code",
   "execution_count": 4,
   "metadata": {
    "collapsed": false
   },
   "outputs": [],
   "source": [
    "features = dm.load_pipeline_result('features', 'npy').astype(np.float)"
   ]
  },
  {
   "cell_type": "code",
   "execution_count": 5,
   "metadata": {
    "collapsed": false
   },
   "outputs": [],
   "source": [
    "features = np.rollaxis(features, 0, 3)"
   ]
  },
  {
   "cell_type": "code",
   "execution_count": 6,
   "metadata": {
    "collapsed": false
   },
   "outputs": [],
   "source": [
    "max_freqs, max_angles = np.unravel_index(features.argmax(axis=2), (dm.n_freq, dm.n_angle))\n",
    "max_responses = features.max(axis=2)\n",
    "max_mean_ratio = max_responses/features.mean(axis=2)"
   ]
  },
  {
   "cell_type": "code",
   "execution_count": 7,
   "metadata": {
    "collapsed": false
   },
   "outputs": [],
   "source": [
    "from joblib import Parallel, delayed\n",
    "\n",
    "def worker(i):\n",
    "    chosen = segmentation == i\n",
    "    \n",
    "    max_response_sp = max_responses[chosen].astype(np.float).max()\n",
    "    max_dir_sp = np.bincount(max_angles[chosen]).argmax()\n",
    "    max_freq_sp = np.bincount(max_freqs[chosen]).argmax()\n",
    "    \n",
    "    all_mmr = max_mean_ratio[chosen].astype(np.float)\n",
    "    dominant_ratio_sp = np.count_nonzero(all_mmr > 1.02)/float(len(all_mmr))\n",
    "\n",
    "    return max_dir_sp, max_freq_sp, max_response_sp, dominant_ratio_sp\n",
    "    \n",
    "res = Parallel(n_jobs=16)(delayed(worker)(i) for i in range(n_superpixels))\n",
    "max_dir_sp, max_freq_sp, max_response_sp, dominant_ratio_sp = map(np.array, zip(*res))"
   ]
  },
  {
   "cell_type": "code",
   "execution_count": 8,
   "metadata": {
    "collapsed": false
   },
   "outputs": [
    {
     "name": "stdout",
     "output_type": "stream",
     "text": [
      "saved /oasis/projects/nsf/csd395/yuncong/DavidData2014results/RS141/0001/RS141_x5_0001_gabor-blueNisslWide-segm-blueNisslRegular_spMaxDirInd.npy\n",
      "saved /oasis/projects/nsf/csd395/yuncong/DavidData2014results/RS141/0001/RS141_x5_0001_gabor-blueNisslWide-segm-blueNisslRegular_spMaxDirAngle.npy\n"
     ]
    }
   ],
   "source": [
    "# dm.save_pipeline_result(max_dir_sp, 'spMaxDirInd', 'npy')\n",
    "# dm.save_pipeline_result(dm.angles[max_dir_sp], 'spMaxDirAngle', 'npy')"
   ]
  },
  {
   "cell_type": "code",
   "execution_count": 9,
   "metadata": {
    "collapsed": false
   },
   "outputs": [],
   "source": [
    "segmentation_vis = dm.load_pipeline_result('segmentationWithText', 'jpg')\n",
    "segmentation_vis2 = segmentation_vis.copy()\n",
    "segmentation_vis2[~dm.mask] = 0"
   ]
  },
  {
   "cell_type": "code",
   "execution_count": 10,
   "metadata": {
    "collapsed": false
   },
   "outputs": [],
   "source": [
    "hc_colors = np.loadtxt('../visualization/100colors.txt')"
   ]
  },
  {
   "cell_type": "code",
   "execution_count": null,
   "metadata": {
    "collapsed": false
   },
   "outputs": [],
   "source": [
    "# from skimage.color import hsv2rgb\n",
    "# [hsv2rgb((i/n_freq, )) for i in range(n_freq) for j in range(n_angle)]"
   ]
  },
  {
   "cell_type": "code",
   "execution_count": 21,
   "metadata": {
    "collapsed": false
   },
   "outputs": [],
   "source": [
    "max_response_sp_normalized = (max_response_sp - max_response_sp.min())/(max_response_sp.max() - max_response_sp.min())\n",
    "\n",
    "from skimage.util import img_as_ubyte\n",
    "\n",
    "dirmap_vis2 = gray2rgb(segmentation_vis.copy())\n",
    "# dirmap_vis2 = gray2rgb(cropped_segmentation_vis2.copy())\n",
    "# dirmap_vis2 = gray2rgb(np.zeros_like(cropped_segmentation, dtype=np.uint8))\n",
    "dirmap_vis2 = img_as_ubyte(dirmap_vis2)\n",
    "\n",
    "sp_properties = dm.load_pipeline_result('spProps', 'npy')\n",
    "\n",
    "for s in range(n_superpixels - 1):\n",
    "#     if dominant_ratio_sp[s] < 0.2:\n",
    "#         continue\n",
    "    \n",
    "    center = sp_properties[s, [1,0]].astype(np.int)\n",
    "    angle = dm.angles[max_dir_sp[s]]\n",
    "\n",
    "    length = max_response_sp_normalized[s]*100\n",
    "    end = center + np.array([length*np.sin(angle), -length*np.cos(angle)], dtype=np.int)\n",
    "    cv2.line(dirmap_vis2, tuple(center), tuple(end), (255,0,0), thickness=5, lineType=8, shift=0)\n",
    "    \n",
    "#     length = int(1./frequencies[max_freq_sp[s]])\n",
    "#     end = center + np.array([length*np.cos(angle), length*np.sin(angle)], dtype=np.int)\n",
    "#     cv2.line(dirmap_vis2, tuple(center), tuple(end), (255,0,0), \n",
    "#              thickness=5, lineType=8, shift=0)\n",
    "    \n",
    "    \n",
    "#     cv2.line(dirmap_vis2, tuple(center), tuple(end), tuple(map(int, hc_colors[max_freq_sp[s]+1]*255)), \n",
    "#              thickness=5, lineType=8, shift=0)\n",
    "            "
   ]
  },
  {
   "cell_type": "code",
   "execution_count": 23,
   "metadata": {
    "collapsed": false
   },
   "outputs": [
    {
     "data": {
      "text/html": [
       "<a href='tmp.jpg' target='_blank'>tmp.jpg</a><br>"
      ],
      "text/plain": [
       "/oasis/projects/nsf/csd395/yuncong/Brain/notebooks/tmp.jpg"
      ]
     },
     "execution_count": 23,
     "metadata": {},
     "output_type": "execute_result"
    }
   ],
   "source": [
    "display(dirmap_vis2)"
   ]
  },
  {
   "cell_type": "code",
   "execution_count": 19,
   "metadata": {
    "collapsed": false
   },
   "outputs": [
    {
     "name": "stdout",
     "output_type": "stream",
     "text": [
      "saved /home/yuncong/project/DavidData2014results/RS140/0000/RS140_x5_0000_gabor-blueNisslWide-segm-blueNisslRegular_dirMap.jpg\n"
     ]
    }
   ],
   "source": [
    "dm.save_pipeline_result(dirmap_vis2, 'dirMap', 'jpg')"
   ]
  },
  {
   "cell_type": "code",
   "execution_count": 11,
   "metadata": {
    "collapsed": false
   },
   "outputs": [],
   "source": [
    "import networkx"
   ]
  },
  {
   "cell_type": "code",
   "execution_count": 12,
   "metadata": {
    "collapsed": true
   },
   "outputs": [],
   "source": [
    "G = networkx.Graph()"
   ]
  },
  {
   "cell_type": "code",
   "execution_count": 25,
   "metadata": {
    "collapsed": false
   },
   "outputs": [
    {
     "data": {
      "text/plain": [
       "1.9547687622336491"
      ]
     },
     "execution_count": 25,
     "metadata": {},
     "output_type": "execute_result"
    }
   ],
   "source": [
    "dm.angles[max_dir_sp[353]]"
   ]
  },
  {
   "cell_type": "code",
   "execution_count": 26,
   "metadata": {
    "collapsed": false
   },
   "outputs": [
    {
     "data": {
      "text/plain": [
       "1.9547687622336491"
      ]
     },
     "execution_count": 26,
     "metadata": {},
     "output_type": "execute_result"
    }
   ],
   "source": [
    "dm.angles[max_dir_sp[354]]"
   ]
  },
  {
   "cell_type": "code",
   "execution_count": 28,
   "metadata": {
    "collapsed": false
   },
   "outputs": [],
   "source": [
    "# A = np.zeros((n_superpixels, n_superpixels))\n",
    "for sp in range(n_superpixels):\n",
    "    sp_angle = dm.angles[max_dir_sp[sp]]\n",
    "    for n in neighbors[sp]:\n",
    "        neighbor_angle = dm.angles[max_dir_sp[n]]\n",
    "        angle_diff = np.abs(np.cos(np.abs(neighbor_angle - sp_angle)))\n",
    "#         affin = max_response_sp_normalized[sp] * max_response_sp_normalized[n] * angle_diff\n",
    "        affin = angle_diff\n",
    "        G.add_edge(sp, n, weight=affin)"
   ]
  },
  {
   "cell_type": "code",
   "execution_count": 30,
   "metadata": {
    "collapsed": false
   },
   "outputs": [
    {
     "data": {
      "text/plain": [
       "{'weight': 1.0}"
      ]
     },
     "execution_count": 30,
     "metadata": {},
     "output_type": "execute_result"
    }
   ],
   "source": [
    "G.edge[353][354]"
   ]
  },
  {
   "cell_type": "code",
   "execution_count": 29,
   "metadata": {
    "collapsed": false
   },
   "outputs": [
    {
     "data": {
      "text/plain": [
       "{'weight': 0.10452846326765355}"
      ]
     },
     "execution_count": 29,
     "metadata": {},
     "output_type": "execute_result"
    }
   ],
   "source": [
    "G.edge[249][201]"
   ]
  },
  {
   "cell_type": "code",
   "execution_count": 31,
   "metadata": {
    "collapsed": false
   },
   "outputs": [],
   "source": [
    "comp = networkx.clustering(G, weight='weight')"
   ]
  },
  {
   "cell_type": "code",
   "execution_count": 57,
   "metadata": {
    "collapsed": true
   },
   "outputs": [],
   "source": [
    "e = networkx.betweenness.edge_betweenness(G, weight='weight')"
   ]
  },
  {
   "cell_type": "code",
   "execution_count": 50,
   "metadata": {
    "collapsed": true
   },
   "outputs": [],
   "source": [
    "vmap = max_response_sp[segmentation]"
   ]
  },
  {
   "cell_type": "code",
   "execution_count": 45,
   "metadata": {
    "collapsed": false
   },
   "outputs": [],
   "source": [
    "vmap = np.array(comp.values())[segmentation]"
   ]
  },
  {
   "cell_type": "code",
   "execution_count": 21,
   "metadata": {
    "collapsed": true
   },
   "outputs": [],
   "source": [
    "import matplotlib.pyplot as plt\n",
    "%matplotlib inline"
   ]
  },
  {
   "cell_type": "code",
   "execution_count": 56,
   "metadata": {
    "collapsed": false
   },
   "outputs": [
    {
     "data": {
      "image/png": "[encoded data removed]",
      "text/plain": [
       "<matplotlib.figure.Figure at 0x8c29390>"
      ]
     },
     "metadata": {},
     "output_type": "display_data"
    }
   ],
   "source": [
    "plt.matshow(vmap, vmin=.15);\n",
    "plt.colorbar(); "
   ]
  }
 ],
 "metadata": {
  "kernelspec": {
   "display_name": "Python 2",
   "language": "python",
   "name": "python2"
  },
  "language_info": {
   "codemirror_mode": {
    "name": "ipython",
    "version": 2
   },
   "file_extension": ".py",
   "mimetype": "text/x-python",
   "name": "python",
   "nbconvert_exporter": "python",
   "pygments_lexer": "ipython2",
   "version": "2.7.3"
  }
 },
 "nbformat": 4,
 "nbformat_minor": 0
}
