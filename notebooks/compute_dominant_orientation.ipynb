{
 "metadata": {
  "name": "",
  "signature": "sha256:a51208789d28c4f04b50f4d988670819fafc1e7e0556f7b267e52a44aa107216"
 },
 "nbformat": 3,
 "nbformat_minor": 0,
 "worksheets": [
  {
   "cells": [
    {
     "cell_type": "code",
     "collapsed": false,
     "input": [
      "%load_ext autoreload\n",
      "%autoreload 2"
     ],
     "language": "python",
     "metadata": {},
     "outputs": [
      {
       "output_type": "stream",
       "stream": "stdout",
       "text": [
        "The autoreload extension is already loaded. To reload it, use:\n",
        "  %reload_ext autoreload\n"
       ]
      }
     ],
     "prompt_number": 82
    },
    {
     "cell_type": "code",
     "collapsed": false,
     "input": [
      "from utilities import *\n",
      "\n",
      "if 'SSH_CONNECTION' in os.environ:\n",
      "    DATA_DIR = '/home/yuncong/DavidData'\n",
      "    REPO_DIR = '/home/yuncong/Brain'\n",
      "else:\n",
      "    DATA_DIR = '/home/yuncong/BrainLocal/DavidData_4'\n",
      "    REPO_DIR = '/home/yuncong/BrainSaliencyDetection'\n",
      "\n",
      "dm = DataManager(DATA_DIR, REPO_DIR)\n",
      "\n",
      "# import argparse\n",
      "# import sys\n",
      "\n",
      "# parser = argparse.ArgumentParser(\n",
      "# formatter_class=argparse.RawDescriptionHelpFormatter,\n",
      "# description='Execute feature extraction pipeline',\n",
      "# epilog=\"\"\"\n",
      "# The following command processes image RS141_x5_0001.tif using blueNissl for both gabor parameters and segmentation parameters.\n",
      "# python %s RS141 x5 1 -g blueNissl -s blueNissl -v blueNissl\n",
      "# \"\"\"%(os.path.basename(sys.argv[0]), ))\n",
      "\n",
      "# parser.add_argument(\"stack_name\", type=str, help=\"stack name\")\n",
      "# parser.add_argument(\"resolution\", type=str, help=\"resolution string\")\n",
      "# parser.add_argument(\"slice_ind\", type=int, help=\"slice index\")\n",
      "# parser.add_argument(\"-g\", \"--gabor_params_id\", type=str, help=\"gabor filter parameters id (default: %(default)s)\", default='blueNissl')\n",
      "# parser.add_argument(\"-s\", \"--segm_params_id\", type=str, help=\"segmentation parameters id (default: %(default)s)\", default='blueNissl')\n",
      "# parser.add_argument(\"-v\", \"--vq_params_id\", type=str, help=\"vq parameters id (default: %(default)s)\", default='blueNissl')\n",
      "# args = parser.parse_args()\n",
      "\n",
      "class args:\n",
      "    stack_name = 'RS141'\n",
      "    resolution = 'x5'\n",
      "    slice_ind = 1\n",
      "    gabor_params_id = 'blueNisslWide'\n",
      "    segm_params_id = 'blueNissl'\n",
      "    vq_params_id = 'blueNissl'"
     ],
     "language": "python",
     "metadata": {},
     "outputs": [],
     "prompt_number": 83
    },
    {
     "cell_type": "code",
     "collapsed": false,
     "input": [
      "dm.set_image(args.stack_name, args.resolution, args.slice_ind)\n",
      "dm.set_gabor_params(gabor_params_id=args.gabor_params_id)\n",
      "dm.set_segmentation_params(segm_params_id=args.segm_params_id)\n",
      "dm.set_vq_params(vq_params_id=args.vq_params_id)\n",
      "\n",
      "from joblib import Parallel, delayed\n",
      "\n",
      "n_texton = int(dm.vq_params['n_texton'])\n",
      "\n",
      "theta_interval = dm.gabor_params['theta_interval']\n",
      "n_angle = int(180/theta_interval)\n",
      "freq_step = dm.gabor_params['freq_step']\n",
      "freq_max = 1./dm.gabor_params['min_wavelen']\n",
      "freq_min = 1./dm.gabor_params['max_wavelen']\n",
      "n_freq = int(np.log(freq_max/freq_min)/np.log(freq_step)) + 1\n",
      "frequencies = freq_max/freq_step**np.arange(n_freq)\n",
      "angles = np.arange(0, n_angle)*np.deg2rad(theta_interval)"
     ],
     "language": "python",
     "metadata": {},
     "outputs": [],
     "prompt_number": 84
    },
    {
     "cell_type": "code",
     "collapsed": false,
     "input": [
      "cropped_segmentation = dm.load_pipeline_result('cropSegmentation', 'npy')\n",
      "n_superpixels = len(unique(cropped_segmentation)) - 1\n",
      "\n",
      "cropped_features = dm.load_pipeline_result('cropFeatures', 'npy')\n",
      "cropped_mask = dm.load_pipeline_result('cropMask', 'npy')"
     ],
     "language": "python",
     "metadata": {},
     "outputs": [
      {
       "output_type": "stream",
       "stream": "stdout",
       "text": [
        "loaded /home/yuncong/DavidData/RS141/x5/0001/segmResults/RS141_x5_0001_gabor-blueNisslWide-segm-blueNissl_cropSegmentation.npy\n",
        "loaded /home/yuncong/DavidData/RS141/x5/0001/filterResults/RS141_x5_0001_gabor-blueNisslWide_cropFeatures.npy"
       ]
      },
      {
       "output_type": "stream",
       "stream": "stdout",
       "text": [
        "\n",
        "loaded /home/yuncong/DavidData/RS141/x5/0001/filterResults/RS141_x5_0001_gabor-blueNisslWide_cropMask.npy"
       ]
      },
      {
       "output_type": "stream",
       "stream": "stdout",
       "text": [
        "\n"
       ]
      }
     ],
     "prompt_number": 85
    },
    {
     "cell_type": "code",
     "collapsed": false,
     "input": [
      "cropped_features_tabular = np.reshape(cropped_features, (cropped_features.shape[0], cropped_features.shape[1], n_freq, n_angle))\n",
      "directional_max = cropped_features_tabular.max(axis=2)\n",
      "response_argsorted = directional_max.argsort(axis=2)\n",
      "response_sorted = np.sort(directional_max, axis=2)\n",
      "max_second_ratio = response_sorted[:,:,-1]/response_sorted[:,:,-2]\n",
      "max_response = response_sorted[:,:,-1]\n",
      "max_dir = response_argsorted[:,:,-1]"
     ],
     "language": "python",
     "metadata": {},
     "outputs": [],
     "prompt_number": 87
    },
    {
     "cell_type": "code",
     "collapsed": false,
     "input": [
      "def worker(i):\n",
      "    return np.bincount(max_dir[cropped_segmentation == i]).argmax()\n",
      "    \n",
      "max_dir_sp = Parallel(n_jobs=16)(delayed(worker)(i) for i in range(n_superpixels))\n",
      "max_dir_sp = np.array(max_dir_sp)"
     ],
     "language": "python",
     "metadata": {},
     "outputs": [
      {
       "output_type": "stream",
       "stream": "stdout",
       "text": [
        "=== compute directionality histogram of each superpixel ===\n"
       ]
      }
     ],
     "prompt_number": 91
    },
    {
     "cell_type": "code",
     "collapsed": false,
     "input": [
      "cropped_image = dm.load_pipeline_result('cropImg', 'tif')"
     ],
     "language": "python",
     "metadata": {},
     "outputs": [
      {
       "output_type": "stream",
       "stream": "stdout",
       "text": [
        "loaded /home/yuncong/DavidData/RS141/x5/0001/filterResults/RS141_x5_0001_gabor-blueNisslWide_cropImg.tif\n"
       ]
      }
     ],
     "prompt_number": 95
    },
    {
     "cell_type": "code",
     "collapsed": false,
     "input": [
      "dirmap = max_dir_sp[cropped_segmentation].copy()\n",
      "dirmap[max_second_ratio < 1.02] = -1"
     ],
     "language": "python",
     "metadata": {},
     "outputs": [],
     "prompt_number": 96
    },
    {
     "cell_type": "code",
     "collapsed": false,
     "input": [
      "hc_colors = np.loadtxt('../visualization/high_contrast_colors.txt', skiprows=1)/255."
     ],
     "language": "python",
     "metadata": {},
     "outputs": [],
     "prompt_number": 98
    },
    {
     "cell_type": "code",
     "collapsed": false,
     "input": [
      "dirmap[(~cropped_mask)]  = -1\n",
      "\n",
      "dirmap_vis = label2rgb(dirmap, bg_label=-1, image=cropped_image, colors=hc_colors[1:1+n_angle], image_alpha=0.3)\n",
      "dirmap_vis[~cropped_mask] = 0\n",
      "dirmap_vis[max_second_ratio < 1.02] = 0\n",
      "# dm.save_pipeline_result(dirmap_vis, 'dirMap', 'tif')"
     ],
     "language": "python",
     "metadata": {},
     "outputs": [],
     "prompt_number": 99
    },
    {
     "cell_type": "code",
     "collapsed": false,
     "input": [
      "from skimage.util import img_as_ubyte\n",
      "\n",
      "dirmap_vis2 = dirmap_vis.copy()\n",
      "\n",
      "sp_properties = dm.load_pipeline_result('cropSpProps', 'npy')\n",
      "\n",
      "dirmap_vis2 = img_as_ubyte(dirmap_vis2)\n",
      "\n",
      "for s in range(n_superpixels - 1):\n",
      "    center = sp_properties[s, [1,0]].astype(np.int)\n",
      "    angle = angles[max_dir_sp[s]]\n",
      "    end = center + np.array([20*np.sin(angle), -20*np.cos(angle)], dtype=np.int)\n",
      "    \n",
      "    cv2.line(dirmap_vis2, tuple(center), tuple(end), (255,255,255), thickness=5, lineType=8, shift=0)\n",
      "        \n",
      "dm.save_pipeline_result(dirmap_vis2, 'dirMap', 'tif')\n",
      "    "
     ],
     "language": "python",
     "metadata": {},
     "outputs": [
      {
       "output_type": "stream",
       "stream": "stdout",
       "text": [
        "loaded /home/yuncong/DavidData/RS141/x5/0001/segmResults/RS141_x5_0001_gabor-blueNisslWide-segm-blueNissl_cropSpProps.npy\n",
        "saved /home/yuncong/DavidData/RS141/x5/0001/histResults/RS141_x5_0001_gabor-blueNisslWide-segm-blueNissl_dirMap.tif"
       ]
      },
      {
       "output_type": "stream",
       "stream": "stdout",
       "text": [
        "\n"
       ]
      }
     ],
     "prompt_number": 102
    }
   ],
   "metadata": {}
  }
 ]
}