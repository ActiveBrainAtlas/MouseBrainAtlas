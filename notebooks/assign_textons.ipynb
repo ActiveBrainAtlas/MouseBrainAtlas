{
 "cells": [
  {
   "cell_type": "code",
   "execution_count": 1,
   "metadata": {
    "collapsed": false
   },
   "outputs": [],
   "source": [
    "import os\n",
    "import argparse\n",
    "import sys\n",
    "from joblib import Parallel, delayed\n",
    "\n",
    "sys.path.append(os.path.join(os.environ['GORDON_REPO_DIR'], 'pipeline_scripts'))\n",
    "\n",
    "if os.environ['DATASET_VERSION'] == '2014':\n",
    "\tfrom utilities2014 import *\n",
    "elif os.environ['DATASET_VERSION'] == '2015':\n",
    "\tfrom utilities import *\n",
    "    \n",
    "%load_ext autoreload\n",
    "%autoreload 2\n",
    "\n",
    "dm = DataManager(generate_hierarchy=False, stack='RS141', resol='x5', section=24)"
   ]
  },
  {
   "cell_type": "code",
   "execution_count": 5,
   "metadata": {
    "collapsed": true
   },
   "outputs": [],
   "source": [
    "dm._load_image()"
   ]
  },
  {
   "cell_type": "code",
   "execution_count": 2,
   "metadata": {
    "collapsed": false
   },
   "outputs": [],
   "source": [
    "import itertools\n",
    "from joblib import Parallel, delayed\n",
    "from scipy.spatial.distance import cdist\n",
    "    \n",
    "centroids = dm.load_pipeline_result('textons', 'npy')\n",
    "features_rotated = dm.load_pipeline_result('features_rotated', 'npy')"
   ]
  },
  {
   "cell_type": "code",
   "execution_count": 3,
   "metadata": {
    "collapsed": false
   },
   "outputs": [],
   "source": [
    "# reconstruct textons\n",
    "\n",
    "# from skimage.util import pad\n",
    "# padded_kernels = [None] * dm.n_kernel\n",
    "# for i, kern in enumerate(dm.kernels):\n",
    "#     ksize = kern.shape[0]\n",
    "#     a = (dm.max_kern_size - ksize)/2\n",
    "#     padded_kern = pad(kern, [a, a], mode='constant', constant_values=0)\n",
    "#     padded_kernels[i] = padded_kern\n",
    "    \n",
    "    \n",
    "# F = np.vstack([k.flatten() for k in padded_kernels])\n",
    "\n",
    "# from numpy.linalg import lstsq\n",
    "\n",
    "# for f in centroids:\n",
    "#     b, r, _, _ = lstsq(F, f)\n",
    "\n",
    "#     c = b.reshape((dm.max_kern_size,dm.max_kern_size))\n",
    "\n",
    "#     plt.imshow(c[dm.max_kern_size/2-30:dm.max_kern_size/2+30,\n",
    "#                  dm.max_kern_size/2-30:dm.max_kern_size/2+30], cmap=plt.cm.Greys_r)\n",
    "    \n",
    "#     plt.show()"
   ]
  },
  {
   "cell_type": "code",
   "execution_count": 3,
   "metadata": {
    "collapsed": false
   },
   "outputs": [],
   "source": [
    "n_texton = len(centroids)\n",
    "# n_texton = 10\n",
    "\n",
    "from sklearn.cluster import MiniBatchKMeans\n",
    "\n",
    "kmeans = MiniBatchKMeans(n_clusters=n_texton, batch_size=1000, init=centroids)\n",
    "kmeans.fit(features_rotated)\n",
    "final_centroids = kmeans.cluster_centers_\n",
    "labels = kmeans.labels_"
   ]
  },
  {
   "cell_type": "code",
   "execution_count": 6,
   "metadata": {
    "collapsed": false
   },
   "outputs": [
    {
     "name": "stdout",
     "output_type": "stream",
     "text": [
      "saved /oasis/projects/nsf/csd395/yuncong/DavidData2014results/RS141/0024/RS141_x5_0024_gabor-blueNisslWide-vq-blueNissl_texMap.npy\n"
     ]
    }
   ],
   "source": [
    "# try:\n",
    "#     textonmap = dm.load_pipeline_result('texMap', 'npy')\n",
    "    \n",
    "# except Exception as e:\n",
    "    \n",
    "textonmap = -1 * np.ones_like(dm.image, dtype=np.int)\n",
    "textonmap[dm.mask] = labels\n",
    "\n",
    "dm.save_pipeline_result(textonmap, 'texMap', 'npy')"
   ]
  },
  {
   "cell_type": "code",
   "execution_count": 7,
   "metadata": {
    "collapsed": false
   },
   "outputs": [],
   "source": [
    "hc_colors = np.loadtxt('../visualization/100colors.txt')\n",
    "\n",
    "vis = label2rgb(textonmap, colors=hc_colors, alpha=1.)"
   ]
  },
  {
   "cell_type": "code",
   "execution_count": 7,
   "metadata": {
    "collapsed": false
   },
   "outputs": [],
   "source": [
    "# display(vis)"
   ]
  },
  {
   "cell_type": "code",
   "execution_count": 8,
   "metadata": {
    "collapsed": false
   },
   "outputs": [
    {
     "name": "stdout",
     "output_type": "stream",
     "text": [
      "saved /oasis/projects/nsf/csd395/yuncong/DavidData2014results/RS141/0024/RS141_x5_0024_gabor-blueNisslWide-vq-blueNissl_texMap.png\n"
     ]
    },
    {
     "name": "stderr",
     "output_type": "stream",
     "text": [
      "/oasis/projects/nsf/csd181/yuncong/virtualenv-1.9.1/yuncongve/lib/python2.7/site-packages/skimage/util/dtype.py:107: UserWarning: Possible precision loss when converting from float64 to uint8\n",
      "  \"%s to %s\" % (dtypeobj_in, dtypeobj))\n"
     ]
    }
   ],
   "source": [
    "dm.save_pipeline_result(vis, 'texMap', 'png')"
   ]
  },
  {
   "cell_type": "code",
   "execution_count": 31,
   "metadata": {
    "collapsed": false
   },
   "outputs": [],
   "source": [
    "# plt.hist(textonmap.flat, bins=np.arange(n_texton+1))\n",
    "# plt.xlabel('texton')\n",
    "# plt.xticks(np.arange(n_texton))\n",
    "# plt.show()"
   ]
  },
  {
   "cell_type": "code",
   "execution_count": 32,
   "metadata": {
    "collapsed": false
   },
   "outputs": [],
   "source": [
    "# def overlay_labels(image, lbp, labels):\n",
    "    \n",
    "#     mask = np.logical_or.reduce([lbp == each for each in labels])\n",
    "#     return label2rgb(mask, image=image, bg_label=0, alpha=0.5)\n",
    "\n",
    "# def visualize_textonmap_layered(textonmap, cropped_img):\n",
    "    \n",
    "#     for s in range(n_texton):\n",
    "#         print s\n",
    "#         overlayed = overlay_labels(cropped_img, textonmap, [s])\n",
    "#         cv2.imwrite('overlayed_pca_texton%d.png'%s, img_as_ubyte(overlayed)[..., ::-1])\n",
    "#     return "
   ]
  }
 ],
 "metadata": {
  "kernelspec": {
   "display_name": "Python 2",
   "language": "python",
   "name": "python2"
  },
  "language_info": {
   "codemirror_mode": {
    "name": "ipython",
    "version": 2
   },
   "file_extension": ".py",
   "mimetype": "text/x-python",
   "name": "python",
   "nbconvert_exporter": "python",
   "pygments_lexer": "ipython2",
   "version": "2.7.3"
  }
 },
 "nbformat": 4,
 "nbformat_minor": 0
}
