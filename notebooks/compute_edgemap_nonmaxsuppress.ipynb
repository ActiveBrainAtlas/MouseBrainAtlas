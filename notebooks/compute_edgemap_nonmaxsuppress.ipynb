{
 "cells": [
  {
   "cell_type": "code",
   "execution_count": 1,
   "metadata": {
    "collapsed": true
   },
   "outputs": [],
   "source": [
    "%reload_ext autoreload\n",
    "%autoreload 2\n",
    "\n",
    "import numpy as np\n",
    "from joblib import Parallel, delayed\n",
    "import os\n",
    "\n",
    "import sys\n",
    "sys.path.append(os.environ['GORDON_REPO_DIR'] + '/pipeline_scripts')\n",
    "from utilities2014 import *\n",
    "\n",
    "import matplotlib.pyplot as plt\n",
    "%matplotlib inline"
   ]
  },
  {
   "cell_type": "code",
   "execution_count": 52,
   "metadata": {
    "collapsed": false
   },
   "outputs": [],
   "source": [
    "dm = DataManager(generate_hierarchy=False, stack='RS141', resol='x5', section=1)\n",
    "dm._load_image()\n",
    "\n",
    "mys, mxs = np.where(dm.mask)\n",
    "mys = mys.astype(np.int16)\n",
    "mxs = mxs.astype(np.int16)\n",
    "\n",
    "n_theta = 12\n",
    "theta_binwidth = 2*np.pi/n_theta\n",
    "\n",
    "radius_list = [50,100,200]\n",
    "n_radius = len(radius_list)\n",
    "max_radius = radius_list[-1]\n"
   ]
  },
  {
   "cell_type": "code",
   "execution_count": 53,
   "metadata": {
    "collapsed": true
   },
   "outputs": [],
   "source": [
    "Gmax = dm.load_pipeline_result('Gmax', 'npy')\n",
    "alpha = 1.5\n",
    "Gmax = 1 - 1/(1+alpha*Gmax)"
   ]
  },
  {
   "cell_type": "code",
   "execution_count": 54,
   "metadata": {
    "collapsed": false
   },
   "outputs": [],
   "source": [
    "Gmax_viz = plt.cm.jet(Gmax/np.nanmax(Gmax));\n",
    "# display(Gmax_viz)\n",
    "# dm.save_pipeline_result(Gmax_viz, 'Gmax', 'jpg')"
   ]
  },
  {
   "cell_type": "code",
   "execution_count": 55,
   "metadata": {
    "collapsed": false
   },
   "outputs": [
    {
     "name": "stderr",
     "output_type": "stream",
     "text": [
      "/oasis/projects/nsf/csd181/yuncong/virtualenv-1.9.1/yuncongve/lib/python2.7/site-packages/IPython/kernel/__main__.py:6: RuntimeWarning: invalid value encountered in divide\n",
      "/oasis/projects/nsf/csd181/yuncong/virtualenv-1.9.1/yuncongve/lib/python2.7/site-packages/IPython/kernel/__main__.py:7: RuntimeWarning: invalid value encountered in divide\n"
     ]
    },
    {
     "name": "stdout",
     "output_type": "stream",
     "text": [
      "2.71691989899\n"
     ]
    }
   ],
   "source": [
    "# def nonmaximum_suppression(Gmax):\n",
    "\n",
    "dy, dx = np.gradient(Gmax)\n",
    "\n",
    "grad_norm = np.sqrt(dx**2+dy**2)\n",
    "grad_unit_vec_y = np.nan_to_num(dy/grad_norm)\n",
    "grad_unit_vec_x = np.nan_to_num(-dx/grad_norm)\n",
    "\n",
    "gy = grad_unit_vec_y[mys, mxs]\n",
    "gx = grad_unit_vec_x[mys, mxs]\n",
    "\n",
    "a = np.arange(-20, 20)\n",
    "\n",
    "neighborhood_y = np.outer(gy, a)\n",
    "neighborhood_x = np.outer(gx, a)\n",
    "\n",
    "global_neighborhood_y = (mys[:,None] + neighborhood_y).astype(np.int)\n",
    "global_neighborhood_x = (mxs[:,None] + neighborhood_x).astype(np.int)\n",
    "\n",
    "b = time.time()\n",
    "global_neighborhood_y[global_neighborhood_y < 0] = 0\n",
    "global_neighborhood_y[global_neighborhood_y >= dm.image_height] = dm.image_height-1\n",
    "global_neighborhood_x[global_neighborhood_x < 0] = 0\n",
    "global_neighborhood_x[global_neighborhood_x >= dm.image_width] = dm.image_width-1\n",
    "print time.time()-b\n",
    "\n",
    "# 60s, slower than above\n",
    "# b = time.time()\n",
    "# global_neighborhood_y = np.minimum(np.maximum(global_neighborhood_y.astype(np.int), 0), height)\n",
    "# global_neighborhood_x = np.minimum(np.maximum(global_neighborhood_x.astype(np.int), 0), width)\n",
    "# print time.time()-b\n",
    "\n",
    "global_neighborhood_values = Gmax[global_neighborhood_y, global_neighborhood_x]\n",
    "global_neighborhood_maximum = global_neighborhood_values.max(axis=1)\n",
    "\n",
    "values = Gmax[mys, mxs]\n",
    "\n",
    "is_local_maximum = global_neighborhood_maximum == values\n",
    "\n",
    "mys_local_max = mys[is_local_maximum]\n",
    "mxs_local_max = mxs[is_local_maximum]"
   ]
  },
  {
   "cell_type": "code",
   "execution_count": 56,
   "metadata": {
    "collapsed": false
   },
   "outputs": [
    {
     "name": "stdout",
     "output_type": "stream",
     "text": [
      "saved /oasis/projects/nsf/csd395/yuncong/DavidData2014results/RS141/0001/RS141_x5_0001_gabor-blueNisslWide-segm-blueNisslRegular-vq-blueNissl_Gnonmaxsup.npy\n",
      "saved /oasis/projects/nsf/csd395/yuncong/DavidData2014results/RS141/0001/RS141_x5_0001_gabor-blueNisslWide-segm-blueNisslRegular-vq-blueNissl_Gnonmaxsup.jpg\n"
     ]
    },
    {
     "name": "stderr",
     "output_type": "stream",
     "text": [
      "/oasis/projects/nsf/csd181/yuncong/virtualenv-1.9.1/yuncongve/lib/python2.7/site-packages/skimage/io/_io.py:159: UserWarning: /oasis/projects/nsf/csd395/yuncong/DavidData2014results/RS141/0001/RS141_x5_0001_gabor-blueNisslWide-segm-blueNisslRegular-vq-blueNissl_Gnonmaxsup.jpg is a low contrast image\n",
      "  warnings.warn('%s is a low contrast image' % fname)\n"
     ]
    }
   ],
   "source": [
    "G_nonmaxsup = np.zeros_like(Gmax)\n",
    "G_nonmaxsup[mys_local_max, mxs_local_max] = Gmax[mys_local_max, mxs_local_max]\n",
    "G_nonmaxsup[(grad_unit_vec_y==0)&(grad_unit_vec_x==0)] = 0\n",
    "\n",
    "dm.save_pipeline_result(G_nonmaxsup, 'Gnonmaxsup', 'npy')\n",
    "\n",
    "G_nonmaxsup_viz = plt.cm.jet(G_nonmaxsup/np.nanmax(G_nonmaxsup));\n",
    "dm.save_pipeline_result(G_nonmaxsup_viz, 'Gnonmaxsup', 'jpg')"
   ]
  },
  {
   "cell_type": "code",
   "execution_count": 43,
   "metadata": {
    "collapsed": false
   },
   "outputs": [
    {
     "name": "stdout",
     "output_type": "stream",
     "text": [
      "saved /oasis/projects/nsf/csd395/yuncong/DavidData2014results/RS141/0002/RS141_x5_0002_gabor-blueNisslWide-segm-blueNisslRegular-vq-blueNissl_GnonmaxsupThresh.jpg\n"
     ]
    }
   ],
   "source": [
    "G_nonmaxsup_thresh_viz = dm.image_rgb.copy()\n",
    "\n",
    "for y,x in zip(*np.where(G_nonmaxsup)):\n",
    "    if Gmax[y,x] > .6:\n",
    "        r = int(Gmax[y,x]*5)\n",
    "        G_nonmaxsup_thresh_viz[y-r:y+r, x-r:x+r] = [Gmax[y,x], 0, 0]\n",
    "        \n",
    "dm.save_pipeline_result(G_nonmaxsup_thresh_viz, 'GnonmaxsupThresh', 'jpg')         \n",
    "# display(G_nonmaxsup_thresh_viz)"
   ]
  },
  {
   "cell_type": "code",
   "execution_count": 57,
   "metadata": {
    "collapsed": false
   },
   "outputs": [
    {
     "name": "stdout",
     "output_type": "stream",
     "text": [
      "saved /oasis/projects/nsf/csd395/yuncong/DavidData2014results/RS141/0001/RS141_x5_0001_gabor-blueNisslWide-segm-blueNisslRegular-vq-blueNissl_GnonmaxsupThreshBW.jpg\n"
     ]
    }
   ],
   "source": [
    "G_nonmaxsup_thresh_viz = np.zeros_like(dm.image)\n",
    "\n",
    "for y,x in zip(*np.where(G_nonmaxsup)):\n",
    "    if Gmax[y,x] > .6:\n",
    "        r = int(Gmax[y,x]*5)\n",
    "#         G_nonmaxsup_thresh_viz[y-r:y+r, x-r:x+r] = Gmax[y,x]\n",
    "        G_nonmaxsup_thresh_viz[y-r:y+r, x-r:x+r] = 1\n",
    "\n",
    "G_nonmaxsup_thresh_viz = 1. - G_nonmaxsup_thresh_viz\n",
    "        \n",
    "dm.save_pipeline_result(G_nonmaxsup_thresh_viz, 'GnonmaxsupThreshBW', 'jpg')\n",
    "# display(G_nonmaxsup_thresh_viz)"
   ]
  },
  {
   "cell_type": "code",
   "execution_count": 58,
   "metadata": {
    "collapsed": false
   },
   "outputs": [
    {
     "data": {
      "text/html": [
       "<a href='tmp.jpg' target='_blank'>tmp.jpg</a><br>"
      ],
      "text/plain": [
       "/oasis/projects/nsf/csd395/yuncong/Brain/notebooks/tmp.jpg"
      ]
     },
     "execution_count": 58,
     "metadata": {},
     "output_type": "execute_result"
    }
   ],
   "source": [
    "display(G_nonmaxsup_thresh_viz)"
   ]
  }
 ],
 "metadata": {
  "kernelspec": {
   "display_name": "Python 2",
   "language": "python",
   "name": "python2"
  },
  "language_info": {
   "codemirror_mode": {
    "name": "ipython",
    "version": 2
   },
   "file_extension": ".py",
   "mimetype": "text/x-python",
   "name": "python",
   "nbconvert_exporter": "python",
   "pygments_lexer": "ipython2",
   "version": "2.7.3"
  }
 },
 "nbformat": 4,
 "nbformat_minor": 0
}
