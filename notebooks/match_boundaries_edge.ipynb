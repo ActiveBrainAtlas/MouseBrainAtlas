{
 "metadata": {
  "name": "",
  "signature": "sha256:f5bdfa712083a837de2977a7a5d9d0ae0ee402a60b735a59e8d907ac488ba6c7"
 },
 "nbformat": 3,
 "nbformat_minor": 0,
 "worksheets": [
  {
   "cells": [
    {
     "cell_type": "code",
     "collapsed": false,
     "input": [
      "import sys\n",
      "sys.path.append('/home/yuncong/Brain/pipeline_scripts')\n",
      "from utilities2014 import *\n",
      "import os\n",
      "\n",
      "from scipy.spatial.distance import cdist, pdist, squareform\n",
      "from joblib import Parallel, delayed\n",
      "from skimage.color import gray2rgb\n",
      "from skimage.util import img_as_float\n",
      "from skimage.morphology import disk\n",
      "from skimage.filter.rank import gradient\n",
      "\n",
      "from collections import defaultdict, Counter\n",
      "from itertools import combinations, chain\n",
      "\n",
      "import networkx\n",
      "from networkx import from_dict_of_lists, dfs_postorder_nodes\n",
      "\n",
      "%run grow_region_boundary_based_common.ipynb"
     ],
     "language": "python",
     "metadata": {},
     "outputs": []
    },
    {
     "cell_type": "code",
     "collapsed": false,
     "input": [
      "# Order the exterior by depth-first search\n",
      "# The ordering is non-deterministic in some corners\n",
      "\n",
      "def find_boundaries(clusters, neighbors, neighbor_graph):\n",
      "        \n",
      "    n_superpixels = len(clusters)\n",
      "    \n",
      "    surrounds_sps = []\n",
      "    frontiers_sps = []\n",
      "    \n",
      "    for cluster_ind, cluster in enumerate(clusters):\n",
      "        \n",
      "        surrounds = set([i for i in set.union(*[neighbors[c] for c in cluster]) if i not in cluster and i != -1])\n",
      "#         surrounds = set([i for i in surrounds if any([(n not in cluster) and (n not in surrounds) for n in neighbors[i]])])\n",
      "        surrounds = set([i for i in surrounds if any([n not in cluster for n in neighbors[i]])])\n",
      "\n",
      "        if len(surrounds) == 0:\n",
      "            continue\n",
      "\n",
      "        frontiers = set.union(*[neighbors[c] for c in surrounds]) & set(cluster)\n",
      "\n",
      "        surrounds_subgraph = neighbor_graph.subgraph(surrounds)\n",
      "        surrounds_traversal = list(dfs_postorder_nodes(surrounds_subgraph))\n",
      "\n",
      "        frontiers_subgraph = neighbor_graph.subgraph(frontiers)\n",
      "        frontiers_traversal = list(dfs_postorder_nodes(frontiers_subgraph))\n",
      "        \n",
      "        surrounds_sps.append(surrounds_traversal)\n",
      "        frontiers_sps.append(frontiers_traversal)\n",
      "        \n",
      "    return surrounds_sps, frontiers_sps\n"
     ],
     "language": "python",
     "metadata": {},
     "outputs": [],
     "prompt_number": 3
    },
    {
     "cell_type": "code",
     "collapsed": false,
     "input": [
      "def compute_overlap(c1, c2):\n",
      "    return float(len(c1 & c2)) / min(len(c1),len(c2))\n",
      "#     return float(len(c1 & c2)) / len(c1 | c2)\n",
      "\n",
      "def compute_overlap_partial(indices, sets):\n",
      "    n_sets = len(sets)\n",
      "    \n",
      "    overlap_matrix = np.zeros((len(indices), n_sets))\n",
      "        \n",
      "    for ii, i in enumerate(indices):\n",
      "        for j in range(n_sets):\n",
      "            c1 = set(sets[i])\n",
      "            c2 = set(sets[j])\n",
      "            if len(c1) == 0 or len(c2) == 0:\n",
      "                overlap_matrix[ii, j] = 0\n",
      "            else:\n",
      "                overlap_matrix[ii, j] = compute_overlap(c1, c2)\n",
      "            \n",
      "    return overlap_matrix\n",
      "\n",
      "def set_pairwise_distances(sets):\n",
      "\n",
      "    partial_overlap_mat = Parallel(n_jobs=16, max_nbytes=1e6)(delayed(compute_overlap_partial)(s, sets) \n",
      "                                        for s in np.array_split(range(len(sets)), 16))\n",
      "    overlap_matrix = np.vstack(partial_overlap_mat)\n",
      "    distance_matrix = 1 - overlap_matrix\n",
      "    \n",
      "    np.fill_diagonal(distance_matrix, 0)\n",
      "    \n",
      "    return distance_matrix"
     ],
     "language": "python",
     "metadata": {},
     "outputs": [],
     "prompt_number": 4
    },
    {
     "cell_type": "code",
     "collapsed": false,
     "input": [
      "def centering(ps):\n",
      "    return ps - ps.mean(axis=0)\n",
      "\n",
      "def hausdorff(ps1, ps2):\n",
      "    psc1 = centering(ps1)\n",
      "    psc2 = centering(ps2)\n",
      "    D = cdist(psc1, psc2)\n",
      "    return max(np.max(D.min(axis=0)), np.max(D.min(axis=1)))\n",
      "\n",
      "def hausdorff_histograms(h1s, h2s, metric):\n",
      "    Ds = cdist(h1s, h2s, metric)\n",
      "    return max(np.nanmax(np.nanmin(Ds, axis=1)), np.nanmax(np.nanmin(Ds, axis=0)))\n"
     ],
     "language": "python",
     "metadata": {},
     "outputs": [],
     "prompt_number": 5
    },
    {
     "cell_type": "code",
     "collapsed": false,
     "input": [
      "def find_boundaries_section(sec_ind):\n",
      "    \n",
      "    dm.set_slice(sec_ind)\n",
      "    dm._load_image()\n",
      "\n",
      "    texton_hists = dm.load_pipeline_result('texHist', 'npy')\n",
      "    segmentation = dm.load_pipeline_result('segmentation', 'npy')\n",
      "    n_superpixels = len(unique(segmentation)) - 1\n",
      "    textonmap = dm.load_pipeline_result('texMap', 'npy')\n",
      "    n_texton = len(np.unique(textonmap)) - 1\n",
      "    neighbors = dm.load_pipeline_result('neighbors', 'npy')\n",
      "    sp_properties = dm.load_pipeline_result('spProps', 'npy')\n",
      "    segmentation_vis = dm.load_pipeline_result('segmentationWithText', 'jpg')\n",
      "\n",
      "    expansion_clusters_tuples = dm.load_pipeline_result('clusters', 'pkl')\n",
      "    expansion_clusters, expansion_cluster_scores = zip(*expansion_clusters_tuples)\n",
      "    expansion_cluster_scores = np.array(expansion_cluster_scores)\n",
      "\n",
      "    neighbors_dict = dict(zip(np.arange(n_superpixels), [list(i) for i in neighbors]))\n",
      "    neighbor_graph = from_dict_of_lists(neighbors_dict)\n",
      "        \n",
      "    surrounds_sps, frontiers_sps = find_boundaries(expansion_clusters, neighbors=neighbors, neighbor_graph=neighbor_graph)\n",
      "    \n",
      "    dEdge_votes = defaultdict(int)\n",
      "    supporters_all = defaultdict(list)\n",
      "\n",
      "    for s in range(n_superpixels):\n",
      "    #     if s not in sps_in_good_regions: continue\n",
      "\n",
      "        c = list(expansion_clusters[s])\n",
      "        interior_texture = texton_hists[c].mean(axis=0)\n",
      "        b_sps = surrounds_sps[s]\n",
      "        b_contrasts = np.squeeze(cdist(texton_hists[b_sps], [interior_texture], chi2))\n",
      "\n",
      "        for b_sp, b_contrast in zip(b_sps, b_contrasts):\n",
      "            int_sps = neighbors[b_sp] & set(c)\n",
      "            for int_sp in int_sps:\n",
      "                dEdge_votes[(b_sp, int_sp)] += b_contrast / max(len(c), 5)\n",
      "                dEdge_votes[(int_sp, b_sp)] += b_contrast / max(len(c), 5)\n",
      "                supporters_all[(b_sp, int_sp)].append(s) # (border_sp, interior_sp)\n",
      "                \n",
      "    try:\n",
      "        edge_coords = dm.load_pipeline_result('edgeCoords', 'pkl')\n",
      "    except:    \n",
      "        edges = []\n",
      "        for i in range(n_superpixels):\n",
      "            for n in neighbors[i]:\n",
      "                edges.append(frozenset([i, n]))\n",
      "\n",
      "        edge_map = gradient(segmentation.astype(np.uint8), disk(3)) > 0\n",
      "\n",
      "    \n",
      "        edge_coords = defaultdict(list)\n",
      "\n",
      "        for y,x in zip(*np.nonzero(edge_map)):\n",
      "            if segmentation[y,x] != -1:\n",
      "                m = frozenset(segmentation[max(0, y-2):min(dm.image_height, y+2),\n",
      "                                 max(0, x-2):min(dm.image_width, x+2)].ravel())\n",
      "                if len(m) > 1:\n",
      "                    for q in set(combinations(m, 2)):\n",
      "                        edge_coords[frozenset(q)].append([y,x])\n",
      "\n",
      "        for edge, pts in edge_coords.iteritems():\n",
      "            if edge in edges:\n",
      "                edge_coords[edge] = np.array(pts)\n",
      "            \n",
      "        dm.save_pipeline_result(edge_coords, 'edgeCoords', 'pkl')\n",
      "            \n",
      "#     edges_sp = [set([]) for _ in range(n_superpixels)]\n",
      "\n",
      "#     for edge_ind, edge in enumerate(edges):\n",
      "#         s1, s2 = list(edge)\n",
      "#         edges_sp[s1].add(edge)\n",
      "#         edges_sp[s2].add(edge)\n",
      "\n",
      "#     edge_neighbors = defaultdict(set)\n",
      "\n",
      "#     for edge_a_ind, edge_a in enumerate(edges):\n",
      "#         pts_a = edge_coords[edge_a]\n",
      "#         q1, q2 = list(edge_a)\n",
      "#         for edge_b in edges_sp[q1] | edges_sp[q2]:\n",
      "#             pts_b = edge_coords[edge_b]\n",
      "#             if edge_a != edge_b:\n",
      "#                 possible_endpts_a = pts_a[[pts_a[:,0].argmin(), pts_a[:,0].argmax(), pts_a[:,1].argmin(), pts_a[:,1].argmax()]]\n",
      "#                 possible_endpts_b = pts_b[[pts_b[:,0].argmin(), pts_b[:,0].argmax(), pts_b[:,1].argmin(), pts_b[:,1].argmax()]]\n",
      "#                 if np.count_nonzero(cdist(possible_endpts_a, possible_endpts_b, metric=\"cityblock\") < 5) > 0:\n",
      "#                     edge_neighbors[edge_a].add(edge_b)\n",
      "#                     edge_neighbors[edge_b].add(edge_a)\n",
      "    \n",
      "    \n",
      "    winner_dEdges = [dedge for dedge, v in dEdge_votes.iteritems() if v > 1.]\n",
      "    winner_supporters = [supporters_all[dedge] for dedge in winner_dEdges]\n",
      "    D = set_pairwise_distances(winner_supporters)\n",
      "    \n",
      "    winner_indices_grouped_by_supporters = group_clusters(winner_supporters, dist_thresh=.2, distance_matrix=D)\n",
      "    print len(winner_indices_grouped_by_supporters), 'alliances'\n",
      "    winners_grouped_by_supporters = [[winner_dEdges[i] for i in g] for g in winner_indices_grouped_by_supporters]\n",
      "    \n",
      "    alliance_sizes = np.array(map(len, winners_grouped_by_supporters))\n",
      "\n",
      "    big_alliance_indices = np.where(alliance_sizes > 20)[0]\n",
      "    print len(big_alliance_indices), 'big alliances'\n",
      "    big_alliance_dEdges = [winners_grouped_by_supporters[ba_ind] for ba_ind in big_alliance_indices]\n",
      "    big_alliance_winnerIndices = [winner_indices_grouped_by_supporters[ba_ind] for ba_ind in big_alliance_indices]\n",
      "    big_alliance_supporters = [set.union(*[set(winner_supporters[i]) for i in a]) for a in big_alliance_winnerIndices]\n",
      "    \n",
      "\n",
      "    good_edgeSet_tuple_sorted_by_score = sorted([(np.sum([dEdge_votes[e] for e in edges]), edges, alliance_ind)\n",
      "                                                      for alliance_ind, edges in enumerate(big_alliance_dEdges)\n",
      "                                                      if len(edges) > 10], reverse=True)\n",
      "    good_edgeSet_scores_sorted, good_edgeSets_sorted, good_edgeSet_indices_sorted = zip(*good_edgeSet_tuple_sorted_by_score)  \n",
      "    print len(good_edgeSet_tuple_sorted_by_score), 'good boundaries'\n",
      "    # Above are open boundary landmarks\n",
      "    \n",
      "    \n",
      "    # BELOW are REGION LANDMARKS !!!\n",
      "    \n",
      "    representative_clusters = dm.load_pipeline_result('representativeClusters', 'pkl')\n",
      "\n",
      "    representative_cluster_scores_sorted, representative_clusters_sorted_by_score, \\\n",
      "    representative_cluster_indices_sorted_by_score, big_groups_sorted_by_score = zip(*representative_clusters)\n",
      "    \n",
      "    representative_clusters_holefilled_sorted_by_score = []\n",
      "\n",
      "    while True:\n",
      "        representative_clusters_holefilled_sorted_by_score2 = []\n",
      "        \n",
      "        for ci, cluster in enumerate(representative_clusters_sorted_by_score):\n",
      "            \n",
      "            holes = set([])\n",
      "            for t in [j for j in range(n_superpixels) if j not in cluster]:\n",
      "                if np.sum([i in cluster for i in neighbors[t]]) >= 3:\n",
      "                    holes.add(t)\n",
      "#             print ci, holes\n",
      "            representative_clusters_holefilled_sorted_by_score2.append(set(cluster) | holes)\n",
      "            representative_clusters_holefilled_sorted_by_score = representative_clusters_holefilled_sorted_by_score2[:]\n",
      "        if len(holes) == 0:\n",
      "            break    \n",
      "\n",
      "    representative_cluster_edges = []\n",
      "\n",
      "    for cluster in representative_clusters_holefilled_sorted_by_score:\n",
      "        surrounds = set([i for i in set.union(*[neighbors[c] for c in cluster]) if i not in cluster and i != -1])\n",
      "    #     surrounds = set([i for i in surrounds if any([(n not in cluster) and (n not in surrounds) for n in neighbors[i]])])\n",
      "        surrounds = set([i for i in surrounds if any([n not in cluster for n in neighbors[i]])])\n",
      "\n",
      "        frontiers = set.union(*[neighbors[c] for c in surrounds]) & set(cluster)\n",
      "\n",
      "        region_edges = []\n",
      "        for s in surrounds:\n",
      "            for f in neighbors[s] & set(frontiers):\n",
      "                region_edges.append((s, f))\n",
      "\n",
      "        for i in cluster:\n",
      "            if -1 in neighbors[i]:\n",
      "                region_edges.append((-1, i))\n",
      "        representative_cluster_edges.append(region_edges)\n",
      "        \n",
      "        \n",
      "    # use first 30 region landmarks and first 10 open boundaries\n",
      "    all_edges = chain(*[representative_cluster_edges[:30], good_edgeSets_sorted[:10]])\n",
      "    \n",
      "    boundary_models = []\n",
      "\n",
      "#     for edgeSet_ind, edgeSet in zip(good_edgeSet_indices_sorted, good_edgeSets_sorted):\n",
      "\n",
      "    for edgeSet in all_edges:\n",
      "\n",
      "        # interior_texture = texton_hists[list(big_alliance_supporters[edgeSet_ind])].mean(axis=0)\n",
      "\n",
      "        surrounds = [e[0] for e in edgeSet]\n",
      "        frontiers = [e[1] for e in edgeSet]\n",
      "\n",
      "        interior_texture = texton_hists[frontiers].mean(axis=0)\n",
      "        exterior_textures = texton_hists[surrounds]\n",
      "\n",
      "        points = np.array([edge_coords[frozenset(e)].mean(axis=0) for e in edgeSet])\n",
      "\n",
      "        center = points.mean(axis=0)\n",
      "\n",
      "        boundary_models.append((edgeSet, interior_texture, exterior_textures, points, center))\n",
      "    \n",
      "    \n",
      "    \n",
      "    \n",
      "    return boundary_models\n"
     ],
     "language": "python",
     "metadata": {},
     "outputs": [],
     "prompt_number": 6
    },
    {
     "cell_type": "code",
     "collapsed": false,
     "input": [
      "section1 = 7\n",
      "dm.set_slice(section1)\n",
      "try:\n",
      "    boundaries1 = dm.load_pipeline_result('boundaryModels', 'pkl')\n",
      "#     raise\n",
      "except:\n",
      "    boundaries1 = find_boundaries_section(section1)\n",
      "    dm.save_pipeline_result(boundaries1, 'boundaryModels', 'pkl')"
     ],
     "language": "python",
     "metadata": {},
     "outputs": [
      {
       "output_type": "stream",
       "stream": "stdout",
       "text": [
        "loaded /home/yuncong/project/DavidData2014results/RS141/0007/RS141_x5_0007_gabor-blueNisslWide-segm-blueNisslRegular-vq-blueNissl_boundaryModels.pkl\n"
       ]
      }
     ],
     "prompt_number": 7
    },
    {
     "cell_type": "code",
     "collapsed": false,
     "input": [
      "section2 = 6\n",
      "dm.set_slice(section2)\n",
      "try:\n",
      "    boundaries2 = dm.load_pipeline_result('boundaryModels', 'pkl')\n",
      "#     raise\n",
      "except:\n",
      "    boundaries2 = find_boundaries_section(section2)\n",
      "    dm.save_pipeline_result(boundaries2, 'boundaryModels', 'pkl')"
     ],
     "language": "python",
     "metadata": {},
     "outputs": [
      {
       "output_type": "stream",
       "stream": "stdout",
       "text": [
        "loaded /home/yuncong/project/DavidData2014results/RS141/0006/RS141_x5_0006_gabor-blueNisslWide-segm-blueNisslRegular-vq-blueNissl_boundaryModels.pkl\n"
       ]
      }
     ],
     "prompt_number": 8
    },
    {
     "cell_type": "code",
     "collapsed": false,
     "input": [
      "from munkres import Munkres\n",
      "\n",
      "sys.path.append('shape_context')\n",
      "import shape_context as sc\n",
      "\n",
      "def shape_context_score_with_textures(pts1, pts2, exterior_textures1, exterior_textures2):\n",
      "    # NOTE THAT pts1 must be more than pts2 !!!\n",
      "    \n",
      "#     ps1_sorted = centering(ps1_sorted)\n",
      "#     ps2_sorted = centering(ps2_sorted)\n",
      "\n",
      "    dists1, angles1 = sc.euclidean_dists_angles(pts1)\n",
      "    descriptors1 = sc.shape_context(dists1, angles1)\n",
      "    \n",
      "    dists2, angles2 = sc.euclidean_dists_angles(pts2)\n",
      "    descriptors2 = sc.shape_context(dists2, angles2)\n",
      "\n",
      "    n_rows = descriptors1.shape[0]\n",
      "    n_cols = descriptors2.shape[0]\n",
      "    \n",
      "    descriptors1 = descriptors1.reshape(n_rows, -1)\n",
      "    descriptors2 = descriptors2.reshape(n_cols, -1)\n",
      "        \n",
      "    Dm = np.zeros((n_rows, n_cols))\n",
      "    for i, di in enumerate(descriptors1):\n",
      "        for j, dj in enumerate(descriptors2):\n",
      "#             Dm[i,j] = 0.01 * chi2(di, dj) + chi2(exterior_textures1[i], exterior_textures2[j])\n",
      "            Dm[i,j] = chi2(di, dj)\n",
      "                \n",
      "    m = Munkres()\n",
      "    matches = m.compute(Dm.copy())\n",
      "    \n",
      "    total = 0\n",
      "    for row, column in matches:\n",
      "        value = Dm[row][column]\n",
      "        total += value\n",
      "        \n",
      "    if len(matches) > 0:\n",
      "        s = total / len(matches)\n",
      "\n",
      "    return s, matches"
     ],
     "language": "python",
     "metadata": {},
     "outputs": [],
     "prompt_number": 9
    },
    {
     "cell_type": "code",
     "collapsed": false,
     "input": [
      "dm.set_slice(section1)\n",
      "dm._load_image()\n",
      "img_rgb1 = dm.image_rgb\n",
      "img1 = dm.image\n",
      "edge_coords1 = dm.load_pipeline_result('edgeCoords', 'pkl')\n",
      "\n",
      "dm.set_slice(section2)\n",
      "dm._load_image()\n",
      "img_rgb2 = dm.image_rgb \n",
      "img2 = dm.image\n",
      "edge_coords2 = dm.load_pipeline_result('edgeCoords', 'pkl')\n"
     ],
     "language": "python",
     "metadata": {},
     "outputs": []
    },
    {
     "cell_type": "code",
     "collapsed": false,
     "input": [
      "boundaries = [b[0] for b in boundaries1]\n",
      "display(visualize_edge_sets(boundaries, img1, edge_coords=edge_coords1, text=True))"
     ],
     "language": "python",
     "metadata": {},
     "outputs": [
      {
       "html": [
        "<a href='tmp.jpg' target='_blank'>tmp.jpg</a><br>"
       ],
       "metadata": {},
       "output_type": "pyout",
       "prompt_number": 36,
       "text": [
        "/oasis/projects/nsf/csd181/yuncong/Brain/notebooks/tmp.jpg"
       ]
      }
     ],
     "prompt_number": 36
    },
    {
     "cell_type": "code",
     "collapsed": false,
     "input": [
      "boundaries = [b[0] for b in boundaries2]\n",
      "display(visualize_edge_sets(boundaries, img2, edge_coords=edge_coords2, text=True))"
     ],
     "language": "python",
     "metadata": {},
     "outputs": [
      {
       "html": [
        "<a href='tmp.jpg' target='_blank'>tmp.jpg</a><br>"
       ],
       "metadata": {},
       "output_type": "pyout",
       "prompt_number": 51,
       "text": [
        "/oasis/projects/nsf/csd181/yuncong/Brain/notebooks/tmp.jpg"
       ]
      }
     ],
     "prompt_number": 51
    },
    {
     "cell_type": "code",
     "collapsed": false,
     "input": [
      "edge_sets1 = [b[0] for b in boundaries1]\n",
      "edge_sets2 = [b[0] for b in boundaries2]\n",
      "\n",
      "matched_boundaries1 = []\n",
      "matched_boundaries2 = []\n",
      "\n",
      "for a, (distance, i,j) in enumerate(matchings):\n",
      "    matched_boundaries1.append(edge_sets1[i])\n",
      "    matched_boundaries2.append(edge_sets2[j])\n",
      "    \n",
      "vis_matched_boundaries1 = visualize_edge_sets(matched_boundaries1, img1, edge_coords=edge_coords1, text=True)\n",
      "vis_matched_boundaries2 = visualize_edge_sets(matched_boundaries2, img2, edge_coords=edge_coords2, text=True)"
     ],
     "language": "python",
     "metadata": {},
     "outputs": [],
     "prompt_number": 67
    },
    {
     "cell_type": "code",
     "collapsed": false,
     "input": [
      "vis_matched_boundaries1 = visualize_edge_sets(matched_boundaries1[:10], img1, edge_coords=edge_coords1, text=True)\n",
      "display(vis_matched_boundaries1)"
     ],
     "language": "python",
     "metadata": {},
     "outputs": [
      {
       "html": [
        "<a href='tmp.jpg' target='_blank'>tmp.jpg</a><br>"
       ],
       "metadata": {},
       "output_type": "pyout",
       "prompt_number": 68,
       "text": [
        "/oasis/projects/nsf/csd181/yuncong/Brain/notebooks/tmp.jpg"
       ]
      }
     ],
     "prompt_number": 68
    },
    {
     "cell_type": "code",
     "collapsed": false,
     "input": [
      "vis_matched_boundaries1 = visualize_edge_sets(matched_boundaries1[10:], img1, edge_coords=edge_coords1, text=True)\n",
      "display(vis_matched_boundaries1)"
     ],
     "language": "python",
     "metadata": {},
     "outputs": [
      {
       "html": [
        "<a href='tmp.jpg' target='_blank'>tmp.jpg</a><br>"
       ],
       "metadata": {},
       "output_type": "pyout",
       "prompt_number": 69,
       "text": [
        "/oasis/projects/nsf/csd181/yuncong/Brain/notebooks/tmp.jpg"
       ]
      }
     ],
     "prompt_number": 69
    },
    {
     "cell_type": "code",
     "collapsed": false,
     "input": [
      "vis_matched_boundaries2 = visualize_edge_sets(matched_boundaries2[:10], img2, edge_coords=edge_coords2, text=True)\n",
      "display(vis_matched_boundaries2)"
     ],
     "language": "python",
     "metadata": {},
     "outputs": [
      {
       "html": [
        "<a href='tmp.jpg' target='_blank'>tmp.jpg</a><br>"
       ],
       "metadata": {},
       "output_type": "pyout",
       "prompt_number": 70,
       "text": [
        "/oasis/projects/nsf/csd181/yuncong/Brain/notebooks/tmp.jpg"
       ]
      }
     ],
     "prompt_number": 70
    },
    {
     "cell_type": "code",
     "collapsed": false,
     "input": [
      "vis_matched_boundaries2 = visualize_edge_sets(matched_boundaries2[10:], img2, edge_coords=edge_coords2, text=True)\n",
      "display(vis_matched_boundaries2)"
     ],
     "language": "python",
     "metadata": {},
     "outputs": [
      {
       "html": [
        "<a href='tmp.jpg' target='_blank'>tmp.jpg</a><br>"
       ],
       "metadata": {},
       "output_type": "pyout",
       "prompt_number": 71,
       "text": [
        "/oasis/projects/nsf/csd181/yuncong/Brain/notebooks/tmp.jpg"
       ]
      }
     ],
     "prompt_number": 71
    },
    {
     "cell_type": "code",
     "collapsed": false,
     "input": [
      "display(vis_matched_boundaries1)"
     ],
     "language": "python",
     "metadata": {},
     "outputs": [
      {
       "html": [
        "<a href='tmp.jpg' target='_blank'>tmp.jpg</a><br>"
       ],
       "metadata": {},
       "output_type": "pyout",
       "prompt_number": 61,
       "text": [
        "/oasis/projects/nsf/csd181/yuncong/Brain/notebooks/tmp.jpg"
       ]
      }
     ],
     "prompt_number": 61
    },
    {
     "cell_type": "code",
     "collapsed": false,
     "input": [
      "display(vis_matched_boundaries2)"
     ],
     "language": "python",
     "metadata": {},
     "outputs": [
      {
       "html": [
        "<a href='tmp.jpg' target='_blank'>tmp.jpg</a><br>"
       ],
       "metadata": {},
       "output_type": "pyout",
       "prompt_number": 62,
       "text": [
        "/oasis/projects/nsf/csd181/yuncong/Brain/notebooks/tmp.jpg"
       ]
      }
     ],
     "prompt_number": 62
    },
    {
     "cell_type": "code",
     "collapsed": false,
     "input": [
      "def visualize_edge_sets(edge_sets, img, edge_coords, text=False, colors=None):\n",
      "    \n",
      "    if img.ndim == 2:\n",
      "        img_rgb = gray2rgb(img)\n",
      "    else:\n",
      "        img_rgb = img\n",
      "    \n",
      "    if colors is None:\n",
      "        colors = np.uint8(np.loadtxt('../visualization/100colors.txt') * 255)\n",
      "    \n",
      "#     vis = np.zeros_like(dm.image_rgb, dtype=np.uint8)\n",
      "    vis = img_as_ubyte(img_rgb)\n",
      "        \n",
      "    for edgeSet_ind, edges in enumerate(edge_sets):\n",
      "        \n",
      "        pointset = []\n",
      "        \n",
      "        for e_ind, degde in enumerate(edges):\n",
      "            q = frozenset(degde)\n",
      "            if q in edge_coords:\n",
      "                for point_ind, (y, x) in enumerate(edge_coords[q]):\n",
      "#                     vis[y, x] = colors[edgeSet_ind%len(colors)]\n",
      "                    vis[y-5:y+5, x-5:x+5] = colors[edgeSet_ind%len(colors)]\n",
      "              \n",
      "                    pointset.append((y,x))\n",
      "        \n",
      "        pointset = np.array(pointset)\n",
      "        ymean, xmean = pointset.mean(axis=0)\n",
      "        \n",
      "        if text:\n",
      "\n",
      "            import cv2\n",
      "\n",
      "            r = colors[edgeSet_ind%len(colors)].astype(np.int)\n",
      "\n",
      "            vis = cv2.putText(vis, str(edgeSet_ind), \n",
      "                              tuple(np.floor([xmean-100,ymean+100]).astype(np.int)), \n",
      "                              cv2.FONT_HERSHEY_DUPLEX,\n",
      "                              5., ((r[0],r[1],r[2])), 10)\n",
      "        \n",
      "        \n",
      "    return vis\n",
      "\n",
      "#     votemap_vis = alpha_blending(img_as_float(vis), img_as_float(dm.image_rgb), 0.7*np.ones((dm.image_height, dm.image_width)), \n",
      "#                    1.*np.ones((dm.image_height, dm.image_width)))\n",
      "\n",
      "#     return votemap_vis"
     ],
     "language": "python",
     "metadata": {},
     "outputs": [],
     "prompt_number": 56
    },
    {
     "cell_type": "code",
     "collapsed": false,
     "input": [
      "def visualize_edges(edges, img, edge_coords, text=False):\n",
      "    \n",
      "    import cv2\n",
      "    \n",
      "    if img.ndim == 2:\n",
      "        img_rgb = gray2rgb(img)\n",
      "    else:\n",
      "        img_rgb = img\n",
      "    \n",
      "    h, w = img.shape[:2]\n",
      "    \n",
      "#     vis = np.zeros((h, w, 3), dtype=np.uint8)\n",
      "    vis = img_as_ubyte(img_rgb)\n",
      "\n",
      "    for edge_ind, degde in enumerate(edges):\n",
      "        q = frozenset(degde)\n",
      "        if q in edge_coords:\n",
      "            for y, x in edge_coords[q]:\n",
      "                vis[y, x] = [0, 0, 255]\n",
      "                \n",
      "            if text:\n",
      "                vis = cv2.putText(vis, str(edge_ind), tuple([x, y]), \n",
      "                                  cv2.FONT_HERSHEY_DUPLEX, 1, 255, 1)\n",
      "                \n",
      "#     votemap_vis = alpha_blending(gray2rgb(img_as_float(vis)), img_as_float(img_rgb), 0.7*np.ones((h, w)), \n",
      "#                    1.*np.ones((h, w)))\n",
      "\n",
      "#     return votemap_vis\n",
      "\n",
      "    return vis"
     ],
     "language": "python",
     "metadata": {},
     "outputs": [],
     "prompt_number": 37
    },
    {
     "cell_type": "code",
     "collapsed": false,
     "input": [
      "from itertools import product\n",
      "\n",
      "n_boundaries1 = len(boundaries1)\n",
      "n_boundaries2 = len(boundaries2)\n",
      "\n",
      "import time\n",
      "t = time.time()\n",
      "Ds = Parallel(n_jobs=16)(delayed(boundary_distance)(boundaries1[i], boundaries2[j]) \n",
      "                         for i, j in product(range(n_boundaries1), range(n_boundaries2)))\n",
      "\n",
      "D_boundaries, D_int, D_ext, D_shape, D_loc = zip(*Ds)\n",
      "\n",
      "D_boundaries = np.reshape(D_boundaries, (n_boundaries1, n_boundaries2))\n",
      "D1 = np.reshape(D_int, (n_boundaries1, n_boundaries2))\n",
      "D2 = np.reshape(D_ext, (n_boundaries1, n_boundaries2))\n",
      "D3 = np.reshape(D_shape, (n_boundaries1, n_boundaries2))\n",
      "D4 = np.reshape(D_loc, (n_boundaries1, n_boundaries2))\n",
      "\n",
      "print time.time() - t\n",
      "\n",
      "###############\n",
      "\n",
      "\n",
      "matchings = [(D_boundaries[i,j], i, j) for j, i in enumerate(D_boundaries.argmin(axis=0)) if (i, j) in enumerate(D_boundaries.argmin(axis=1))]\n",
      "matchings = sorted(matchings)\n",
      "print matchings\n",
      "\n",
      "###############\n",
      "\n",
      "edge_sets1 = [b[0] for b in boundaries1]\n",
      "edge_sets2 = [b[0] for b in boundaries2]\n",
      "\n",
      "matched_boundaries1 = []\n",
      "matched_boundaries2 = []\n",
      "\n",
      "for a, (distance, i,j) in enumerate(matchings):\n",
      "    matched_boundaries1.append(edge_sets1[i])\n",
      "    matched_boundaries2.append(edge_sets2[j])\n",
      "\n",
      "    \n",
      "####################\n",
      "    \n",
      "dm.set_slice(section1)\n",
      "dm._load_image()\n",
      "\n",
      "img_rgb1 = dm.image_rgb\n",
      "img1 = dm.image\n",
      "edge_coords1 = dm.load_pipeline_result('edgeCoords', 'pkl')\n",
      "\n",
      "for i, b in enumerate(boundaries1):\n",
      "    vis = visualize_edges(b[0], img1, edge_coords=edge_coords1)\n",
      "    dm.save_pipeline_result(vis, 'boundary%02d'%i, 'jpg')\n",
      "    \n",
      "vis_matched_boundaries1 = visualze_edge_sets(matched_boundaries1, img1, edge_coords=edge_coords1, text=True)\n",
      "dm.save_pipeline_result(vis_matched_boundaries1, 'matchedBoundariesWithNext', 'jpg')\n",
      "\n",
      "display(visualize_edge_sets(edge_sets1, img1, edge_coords=edge_coords1, text=True))\n",
      "dm.save_pipeline_result(vis_matched_boundaries1, 'allBoundariesWithNext', 'jpg')\n",
      "\n",
      "dm.save_pipeline_result(D_boundaries, 'DBoundariesWithNext', 'npy')\n",
      "dm.save_pipeline_result(D1, 'D1WithNext', 'npy')\n",
      "dm.save_pipeline_result(D2, 'D2WithNext', 'npy')\n",
      "dm.save_pipeline_result(D3, 'D3WithNext', 'npy')\n",
      "dm.save_pipeline_result(D4, 'D4WithNext', 'npy')\n",
      "\n",
      "\n",
      "#####\n",
      "\n",
      "dm.set_slice(section2)\n",
      "dm._load_image()\n",
      "\n",
      "img_rgb2 = dm.image_rgb \n",
      "img2 = dm.image\n",
      "edge_coords2 = dm.load_pipeline_result('edgeCoords', 'pkl')\n",
      "\n",
      "for i, b in enumerate(boundaries2):\n",
      "    vis = visualize_edges(b[0], img2, edge_coords=edge_coords2)\n",
      "    dm.save_pipeline_result(vis, 'boundary%02d'%i, 'jpg')\n",
      "\n",
      "vis_matched_boundaries2 = visualize_edge_sets(matched_boundaries2, img2, edge_coords=edge_coords2, text=True)\n",
      "dm.save_pipeline_result(vis_matched_boundaries2, 'matchedBoundariesWithPrev', 'jpg')\n",
      "\n",
      "display(visualize_edge_sets(edge_sets2, img2, edge_coords=edge_coords2, text=True))\n",
      "dm.save_pipeline_result(vis_matched_boundaries2, 'allBoundariesWithPrev', 'jpg')\n",
      "\n",
      "dm.save_pipeline_result(D_boundaries, 'DBoundariesWithPrev', 'npy')\n",
      "dm.save_pipeline_result(D1, 'D1WithPrev', 'npy')\n",
      "dm.save_pipeline_result(D2, 'D2WithPrev', 'npy')\n",
      "dm.save_pipeline_result(D3, 'D3WithPrev', 'npy')\n",
      "dm.save_pipeline_result(D4, 'D4WithPrev', 'npy')\n"
     ],
     "language": "python",
     "metadata": {},
     "outputs": []
    },
    {
     "cell_type": "code",
     "collapsed": false,
     "input": [
      "_, interior_texture1, exterior_textures1, points1, center1 = boundaries1[11]\n",
      "_, interior_texture2, exterior_textures2, points2, center2 = boundaries2[7]\n",
      "\n",
      "if points1.shape[0] < points2.shape[0]:\n",
      "    print shape_context_score_with_textures(points1, points2, exterior_textures1, exterior_textures2)\n",
      "else:\n",
      "    print shape_context_score_with_textures(points2, points1, exterior_textures2, exterior_textures1)\n",
      " \n",
      "\n",
      "fig = plt.figure(figsize=(10,10))\n",
      "ax = fig.add_subplot(111, aspect='equal')\n",
      "ax.scatter(points1[:,0], points1[:,1], c='r')\n",
      "ax.scatter(points2[:,0], points2[:,1], c='g')\n",
      "\n",
      "ax.scatter(center1[0], center1[1], c='r', marker='+', s=50)\n",
      "ax.scatter(center2[0], center2[1], c='g', marker='+', s=50)\n",
      "\n",
      "for i, (y,x) in enumerate(points1):\n",
      "    ax.text(y, x, str(i), color='r')\n",
      "    \n",
      "for i, (y,x) in enumerate(points2):\n",
      "    ax.text(y, x, str(i), color='g')\n",
      "\n",
      "ax.set_aspect('equal')\n",
      "\n",
      "plt.show()"
     ],
     "language": "python",
     "metadata": {},
     "outputs": [
      {
       "output_type": "stream",
       "stream": "stdout",
       "text": [
        "(37.240000000000002, [(0, 33), (1, 0), (2, 15), (3, 16), (4, 3), (5, 12), (6, 5), (7, 24), (8, 2), (9, 14), (10, 39), (11, 26), (12, 38), (13, 4), (14, 10), (15, 1), (16, 23), (17, 36), (18, 7), (19, 18), (20, 8), (21, 6), (22, 29), (23, 25), (24, 28)])\n"
       ]
      },
      {
       "metadata": {},
       "output_type": "display_data",
       "png": "[encoded data removed]",
       "text": [
        "<matplotlib.figure.Figure at 0x422da10>"
       ]
      }
     ],
     "prompt_number": 72
    },
    {
     "cell_type": "code",
     "collapsed": false,
     "input": [
      "boundary_distance(boundaries1[0], boundaries2[0])"
     ],
     "language": "python",
     "metadata": {},
     "outputs": [
      {
       "metadata": {},
       "output_type": "pyout",
       "prompt_number": 17,
       "text": [
        "(1.3420624998450101,\n",
        " 0.27247900438397482,\n",
        " 0.46725472833774756,\n",
        " 0.60232876712328765,\n",
        " 0.0)"
       ]
      }
     ],
     "prompt_number": 17
    },
    {
     "cell_type": "code",
     "collapsed": false,
     "input": [
      "boundary_distance(boundaries1[22], boundaries2[13])"
     ],
     "language": "python",
     "metadata": {},
     "outputs": [
      {
       "metadata": {},
       "output_type": "pyout",
       "prompt_number": 162,
       "text": [
        "(1.7453278195505579,\n",
        " 0.050969574281764039,\n",
        " 0.69716982036959696,\n",
        " 0.22772727272727275,\n",
        " 0.76946115217192412)"
       ]
      }
     ],
     "prompt_number": 162
    },
    {
     "cell_type": "code",
     "collapsed": false,
     "input": [
      "x = np.linspace(0, 3000, 1000)\n",
      "plt.plot(x,  .0005 * np.maximum(0, x-500));"
     ],
     "language": "python",
     "metadata": {},
     "outputs": [
      {
       "metadata": {},
       "output_type": "display_data",
       "png": "[encoded data removed]",
       "text": [
        "<matplotlib.figure.Figure at 0x6624c50>"
       ]
      }
     ],
     "prompt_number": 158
    },
    {
     "cell_type": "code",
     "collapsed": false,
     "input": [
      "def boundary_distance(b1, b2):\n",
      "    \n",
      "    _, interior_texture1, exterior_textures1, points1, center1 = b1\n",
      "    _, interior_texture2, exterior_textures2, points2, center2 = b2\n",
      "\n",
      "    D_int = chi2(interior_texture1, interior_texture2)\n",
      "#     D_ext = hausdorff_histograms(exterior_textures1, exterior_textures2, metric=chi2)\n",
      "\n",
      "    if points1.shape[0] < points2.shape[0]:\n",
      "        d_shape, matches = shape_context_score_with_textures(points1, points2, exterior_textures1, exterior_textures2)\n",
      "        D_ext = np.mean([chi2(exterior_textures1[i], exterior_textures2[j]) for i, j in matches])\n",
      "    else:\n",
      "        d_shape, matches = shape_context_score_with_textures(points2, points1, exterior_textures2, exterior_textures1)\n",
      "        D_ext = np.mean([chi2(exterior_textures2[i], exterior_textures1[j]) for i, j in matches])\n",
      "    \n",
      "    D_shape = d_shape * .01\n",
      "    \n",
      "    d_loc = np.linalg.norm(center1 - center2)\n",
      "    D_loc = .0005 * np.maximum(0, d_loc - 500)\n",
      "        \n",
      "#     D_shape = D_shape * 0.01\n",
      "        \n",
      "#     print D_int, D_ext, D_shape\n",
      "        \n",
      "#     d = D_int + D_ext + 1. * D_shape + 0 * D_loc\n",
      "    d = D_int + D_ext\n",
      "    \n",
      "    return d, D_int, D_ext, D_shape, D_loc\n"
     ],
     "language": "python",
     "metadata": {},
     "outputs": [],
     "prompt_number": 64
    },
    {
     "cell_type": "code",
     "collapsed": false,
     "input": [
      "from itertools import product\n",
      "\n",
      "n_boundaries1 = len(boundaries1)\n",
      "n_boundaries2 = len(boundaries2)\n",
      "\n",
      "import time\n",
      "t = time.time()\n",
      "Ds = Parallel(n_jobs=16)(delayed(boundary_distance)(boundaries1[i], boundaries2[j]) \n",
      "                         for i, j in product(range(n_boundaries1), range(n_boundaries2)))\n",
      "\n",
      "D_boundaries, D_int, D_ext, D_shape, D_loc = zip(*Ds)\n",
      "\n",
      "D_boundaries = np.reshape(D_boundaries, (n_boundaries1, n_boundaries2))\n",
      "D1 = np.reshape(D_int, (n_boundaries1, n_boundaries2))\n",
      "D2 = np.reshape(D_ext, (n_boundaries1, n_boundaries2))\n",
      "D3 = np.reshape(D_shape, (n_boundaries1, n_boundaries2))\n",
      "D4 = np.reshape(D_loc, (n_boundaries1, n_boundaries2))\n",
      "\n",
      "print time.time() - t"
     ],
     "language": "python",
     "metadata": {},
     "outputs": [
      {
       "output_type": "stream",
       "stream": "stdout",
       "text": [
        "559.565334797\n"
       ]
      },
      {
       "output_type": "stream",
       "stream": "stderr",
       "text": [
        "/home/yuncong/Brain/pipeline_scripts/utilities2014.py:758: RuntimeWarning: divide by zero encountered in divide\n",
        "  r = np.nansum((u-v)**2/(u+v))\n",
        "/home/yuncong/Brain/pipeline_scripts/utilities2014.py:758: RuntimeWarning: divide by zero encountered in divide\n",
        "  r = np.nansum((u-v)**2/(u+v))\n",
        "/home/yuncong/Brain/pipeline_scripts/utilities2014.py:758: RuntimeWarning: divide by zero encountered in divide\n",
        "  r = np.nansum((u-v)**2/(u+v))\n",
        "/home/yuncong/Brain/pipeline_scripts/utilities2014.py:758: RuntimeWarning: divide by zero encountered in divide\n",
        "  r = np.nansum((u-v)**2/(u+v))\n",
        "/home/yuncong/Brain/pipeline_scripts/utilities2014.py:758: RuntimeWarning: divide by zero encountered in divide\n",
        "  r = np.nansum((u-v)**2/(u+v))\n",
        "/home/yuncong/Brain/pipeline_scripts/utilities2014.py:758: RuntimeWarning: divide by zero encountered in divide\n",
        "  r = np.nansum((u-v)**2/(u+v))\n",
        "/home/yuncong/Brain/pipeline_scripts/utilities2014.py:758: RuntimeWarning: divide by zero encountered in divide\n",
        "  r = np.nansum((u-v)**2/(u+v))\n",
        "/home/yuncong/Brain/pipeline_scripts/utilities2014.py:758: RuntimeWarning: divide by zero encountered in divide\n",
        "  r = np.nansum((u-v)**2/(u+v))\n",
        "/home/yuncong/Brain/pipeline_scripts/utilities2014.py:758: RuntimeWarning: divide by zero encountered in divide\n",
        "  r = np.nansum((u-v)**2/(u+v))\n",
        "/home/yuncong/Brain/pipeline_scripts/utilities2014.py:758: RuntimeWarning: divide by zero encountered in divide\n",
        "  r = np.nansum((u-v)**2/(u+v))\n",
        "/home/yuncong/Brain/pipeline_scripts/utilities2014.py:758: RuntimeWarning: divide by zero encountered in divide\n",
        "  r = np.nansum((u-v)**2/(u+v))\n",
        "/home/yuncong/Brain/pipeline_scripts/utilities2014.py:758: RuntimeWarning: divide by zero encountered in divide\n",
        "  r = np.nansum((u-v)**2/(u+v))\n",
        "/home/yuncong/Brain/pipeline_scripts/utilities2014.py:758: RuntimeWarning: divide by zero encountered in divide\n",
        "  r = np.nansum((u-v)**2/(u+v))\n",
        "/home/yuncong/Brain/pipeline_scripts/utilities2014.py:758: RuntimeWarning: divide by zero encountered in divide\n",
        "  r = np.nansum((u-v)**2/(u+v))\n",
        "/home/yuncong/Brain/pipeline_scripts/utilities2014.py:758: RuntimeWarning: divide by zero encountered in divide\n",
        "  r = np.nansum((u-v)**2/(u+v))\n",
        "/home/yuncong/Brain/pipeline_scripts/utilities2014.py:758: RuntimeWarning: divide by zero encountered in divide\n",
        "  r = np.nansum((u-v)**2/(u+v))\n",
        "/home/yuncong/Brain/pipeline_scripts/utilities2014.py:758: RuntimeWarning: invalid value encountered in divide\n",
        "  r = np.nansum((u-v)**2/(u+v))\n",
        "/home/yuncong/Brain/pipeline_scripts/utilities2014.py:758: RuntimeWarning: invalid value encountered in divide\n",
        "  r = np.nansum((u-v)**2/(u+v))\n",
        "/home/yuncong/Brain/pipeline_scripts/utilities2014.py:758: RuntimeWarning: invalid value encountered in divide\n",
        "  r = np.nansum((u-v)**2/(u+v))\n",
        "/home/yuncong/Brain/pipeline_scripts/utilities2014.py:758: RuntimeWarning: invalid value encountered in divide\n",
        "  r = np.nansum((u-v)**2/(u+v))\n",
        "/home/yuncong/Brain/pipeline_scripts/utilities2014.py:758: RuntimeWarning: invalid value encountered in divide\n",
        "  r = np.nansum((u-v)**2/(u+v))\n",
        "/home/yuncong/Brain/pipeline_scripts/utilities2014.py:758: RuntimeWarning: invalid value encountered in divide\n",
        "  r = np.nansum((u-v)**2/(u+v))\n",
        "/home/yuncong/Brain/pipeline_scripts/utilities2014.py:758: RuntimeWarning: invalid value encountered in divide\n",
        "  r = np.nansum((u-v)**2/(u+v))\n",
        "/home/yuncong/Brain/pipeline_scripts/utilities2014.py:758: RuntimeWarning: invalid value encountered in divide\n",
        "  r = np.nansum((u-v)**2/(u+v))\n",
        "/home/yuncong/Brain/pipeline_scripts/utilities2014.py:758: RuntimeWarning: invalid value encountered in divide\n",
        "  r = np.nansum((u-v)**2/(u+v))\n",
        "/home/yuncong/Brain/pipeline_scripts/utilities2014.py:758: RuntimeWarning: invalid value encountered in divide\n",
        "  r = np.nansum((u-v)**2/(u+v))\n",
        "/home/yuncong/Brain/pipeline_scripts/utilities2014.py:758: RuntimeWarning: invalid value encountered in divide\n",
        "  r = np.nansum((u-v)**2/(u+v))\n",
        "/home/yuncong/Brain/pipeline_scripts/utilities2014.py:758: RuntimeWarning: invalid value encountered in divide\n",
        "  r = np.nansum((u-v)**2/(u+v))\n",
        "/home/yuncong/Brain/pipeline_scripts/utilities2014.py:758: RuntimeWarning: invalid value encountered in divide\n",
        "  r = np.nansum((u-v)**2/(u+v))\n",
        "/home/yuncong/Brain/pipeline_scripts/utilities2014.py:758: RuntimeWarning: invalid value encountered in divide\n",
        "  r = np.nansum((u-v)**2/(u+v))\n",
        "/home/yuncong/Brain/pipeline_scripts/utilities2014.py:758: RuntimeWarning: invalid value encountered in divide\n",
        "  r = np.nansum((u-v)**2/(u+v))\n",
        "/home/yuncong/Brain/pipeline_scripts/utilities2014.py:758: RuntimeWarning: invalid value encountered in divide\n",
        "  r = np.nansum((u-v)**2/(u+v))\n"
       ]
      }
     ],
     "prompt_number": 65
    },
    {
     "cell_type": "code",
     "collapsed": false,
     "input": [
      "plt.matshow(D_boundaries, cmap=plt.cm.gray)\n",
      "plt.colorbar()\n",
      "plt.show()\n",
      "\n",
      "plt.matshow(D1, cmap=plt.cm.gray)\n",
      "plt.colorbar()\n",
      "plt.show()\n",
      "\n",
      "plt.matshow(D2, cmap=plt.cm.gray)\n",
      "plt.colorbar()\n",
      "plt.show()\n",
      "\n",
      "plt.matshow(D3, cmap=plt.cm.gray)\n",
      "plt.colorbar()\n",
      "plt.show()\n",
      "\n",
      "plt.matshow(D4, cmap=plt.cm.gray)\n",
      "plt.colorbar()\n",
      "plt.show()"
     ],
     "language": "python",
     "metadata": {},
     "outputs": []
    },
    {
     "cell_type": "code",
     "collapsed": false,
     "input": [
      "print D_boundaries[11, [7,8]]\n",
      "print D1[11, [7,8]]\n",
      "print D2[11, [7,8]]\n",
      "print D3[11, [7,8]]"
     ],
     "language": "python",
     "metadata": {},
     "outputs": [
      {
       "output_type": "stream",
       "stream": "stdout",
       "text": [
        "[ 1.15065821  1.00005842]\n",
        "[ 0.06653129  0.09214102]\n",
        "[ 0.74829358  0.6504174 ]\n",
        "[ 0.33583333  0.2575    ]\n"
       ]
      }
     ],
     "prompt_number": 192
    },
    {
     "cell_type": "code",
     "collapsed": false,
     "input": [
      "q = np.argsort(D_boundaries, axis=1)\n",
      "for i in range(n_boundaries1):\n",
      "    if np.min(D_boundaries[i]) < 1.2:\n",
      "        print i, q[i, :5], np.min(D_boundaries[i]), np.sort(D_boundaries[i])[1] -  np.min(D_boundaries[i])"
     ],
     "language": "python",
     "metadata": {},
     "outputs": [
      {
       "output_type": "stream",
       "stream": "stdout",
       "text": [
        "0 [ 0 18 11 15  6] 0.936269466343 0.402043508449\n",
        "1 [ 1 21 14  2  4] 0.747745971716 0.356832584959\n",
        "2 [ 9 10  2 24 20] 0.991863130144 0.11313793867\n",
        "3 [20 12 23 13  6] 1.16306704616 0.136749421026\n",
        "4 [20 24  9 17 23] 0.725580801696 0.110027133996\n",
        "5 [ 1 21  4 14 25] 0.866635175006 0.188971866896\n",
        "6 [21  1 14 19  4] 0.955239830534 0.127772455073\n",
        "7 [16 25  9  2 23] 1.01383111017 0.11071532818\n",
        "8 [14 19 21 22 16] 1.06229239347 0.0161375304564\n",
        "9 [18 11  6 13 12] 0.965316329672 0.0594092321696\n",
        "10 [ 1 21 14 19  4] 0.896377658639 0.0517203884352\n",
        "11 [ 8  7 27 15 26] 1.000058418 0.150599791261\n",
        "12 [21  4 19 14 16] 1.14415156832 0.0276405970521\n",
        "13 [11 15 18 13 27] 0.563507391612 0.372018831482\n",
        "15 [25 13 12 16 23] 1.03683130609 0.395277925884\n",
        "16 [27  8 15  7 18] 0.785651275106 0.154342904323\n",
        "17 [27 15 18 12 13] 0.826671531099 0.251689150849\n",
        "18 [15 27 18 12  8] 0.549438389618 0.06934614153\n",
        "19 [21  4 14  9 19] 0.821356921797 0.0276780184343\n",
        "20 [ 8 15 27  7 18] 0.972240434464 0.168107998795\n",
        "21 [14 21  9 19 25] 0.67258472463 0.363493469632\n",
        "22 [18 11 13 12  6] 0.947465141625 0.00435885029301\n"
       ]
      }
     ],
     "prompt_number": 189
    },
    {
     "cell_type": "code",
     "collapsed": false,
     "input": [
      "matchings = [(D_boundaries[i,j], i, j) for j, i in enumerate(D_boundaries.argmin(axis=0)) if (i, j) in enumerate(D_boundaries.argmin(axis=1))]\n",
      "matchings = sorted(matchings)\n",
      "print matchings"
     ],
     "language": "python",
     "metadata": {},
     "outputs": [
      {
       "output_type": "stream",
       "stream": "stdout",
       "text": [
        "[(0.31056114159824866, 9, 12), (0.35091347850841659, 4, 6), (0.37705356906930165, 17, 15), (0.37931304723909559, 8, 10), (0.38474022659383955, 0, 0), (0.38499605435946604, 27, 9), (0.4264962943984858, 36, 18), (0.4366580666958691, 26, 24), (0.45755585504209895, 31, 31), (0.4794341338516126, 34, 13), (0.48623102396750034, 22, 17), (0.50438303466895484, 11, 28), (0.52185082553024276, 29, 34), (0.53881967753102034, 18, 20), (0.57650149924127647, 30, 30), (0.5888594325722003, 13, 22), (0.60948932555021074, 6, 8), (0.76605342533802978, 5, 11), (0.87828063185275207, 35, 32), (0.96333337851230127, 39, 35)]\n"
       ]
      }
     ],
     "prompt_number": 66
    },
    {
     "cell_type": "code",
     "collapsed": false,
     "input": [
      "edge_sets1 = [b[0] for b in boundaries1]\n",
      "edge_sets2 = [b[0] for b in boundaries2]\n",
      "\n",
      "matched_boundaries1 = []\n",
      "matched_boundaries2 = []\n",
      "\n",
      "for a, (distance, i,j) in enumerate(matchings):\n",
      "    matched_boundaries1.append(edge_sets1[i])\n",
      "    matched_boundaries2.append(edge_sets2[j])\n"
     ],
     "language": "python",
     "metadata": {},
     "outputs": []
    },
    {
     "cell_type": "code",
     "collapsed": false,
     "input": [
      "dm.set_slice(section1)\n",
      "dm._load_image()\n",
      "\n",
      "img_rgb1 = dm.image_rgb\n",
      "img1 = dm.image\n",
      "edge_coords1 = dm.load_pipeline_result('edgeCoords', 'pkl')\n",
      "\n",
      "for i, b in enumerate(boundaries1):\n",
      "    vis = visualize_edges(b[0], img1, edge_coords=edge_coords1)\n",
      "    dm.save_pipeline_result(vis, 'boundary%02d'%i, 'jpg')\n",
      "    \n",
      "vis_matched_boundaries1 = visualze_edge_sets(matched_boundaries1, img1, edge_coords=edge_coords1, text=True)\n",
      "dm.save_pipeline_result(vis_matched_boundaries1, 'matchedBoundariesWithNext', 'jpg')\n",
      "\n",
      "display(visualize_edge_sets(edge_sets1, img1, edge_coords=edge_coords1, text=True))\n",
      "dm.save_pipeline_result(vis_matched_boundaries1, 'allBoundariesWithNext', 'jpg')\n",
      "\n",
      "dm.save_pipeline_result(D_boundaries, 'DBoundariesWithNext', 'npy')\n",
      "dm.save_pipeline_result(D1, 'D1WithNext', 'npy')\n",
      "dm.save_pipeline_result(D2, 'D2WithNext', 'npy')\n",
      "dm.save_pipeline_result(D3, 'D3WithNext', 'npy')\n",
      "dm.save_pipeline_result(D4, 'D4WithNext', 'npy')\n",
      "\n",
      "\n",
      "#####\n",
      "\n",
      "dm.set_slice(section2)\n",
      "dm._load_image()\n",
      "\n",
      "img_rgb2 = dm.image_rgb \n",
      "img2 = dm.image\n",
      "edge_coords2 = dm.load_pipeline_result('edgeCoords', 'pkl')\n",
      "\n",
      "for i, b in enumerate(boundaries2):\n",
      "    vis = visualize_edges(b[0], img2, edge_coords=edge_coords2)\n",
      "    dm.save_pipeline_result(vis, 'boundary%02d'%i, 'jpg')\n",
      "\n",
      "vis_matched_boundaries2 = visualize_edge_sets(matched_boundaries2, img2, edge_coords=edge_coords2, text=True)\n",
      "dm.save_pipeline_result(vis_matched_boundaries2, 'matchedBoundariesWithPrev', 'jpg')\n",
      "\n",
      "display(visualize_edge_sets(edge_sets2, img2, edge_coords=edge_coords2, text=True))\n",
      "dm.save_pipeline_result(vis_matched_boundaries2, 'allBoundariesWithPrev', 'jpg')\n",
      "\n",
      "dm.save_pipeline_result(D_boundaries, 'DBoundariesWithPrev', 'npy')\n",
      "dm.save_pipeline_result(D1, 'D1WithPrev', 'npy')\n",
      "dm.save_pipeline_result(D2, 'D2WithPrev', 'npy')\n",
      "dm.save_pipeline_result(D3, 'D3WithPrev', 'npy')\n",
      "dm.save_pipeline_result(D4, 'D4WithPrev', 'npy')\n"
     ],
     "language": "python",
     "metadata": {},
     "outputs": [
      {
       "output_type": "stream",
       "stream": "stdout",
       "text": [
        "loaded /home/yuncong/project/DavidData2014results/RS141/0007/RS141_x5_0007_gabor-blueNisslWide-segm-blueNisslRegular-vq-blueNissl_edgeCoords.pkl\n",
        "loaded /home/yuncong/project/DavidData2014results/RS141/0006/RS141_x5_0006_gabor-blueNisslWide-segm-blueNisslRegular-vq-blueNissl_edgeCoords.pkl"
       ]
      },
      {
       "output_type": "stream",
       "stream": "stdout",
       "text": [
        "\n"
       ]
      }
     ],
     "prompt_number": 12
    },
    {
     "cell_type": "code",
     "collapsed": false,
     "input": [
      "for a, (distance, i, j) in enumerate(matchings[:1]):\n",
      "    \n",
      "    vis1 = visualize_edges(boundaries1[i][0], img1, edge_coords=edge_coords1)\n",
      "    \n",
      "    vis2 = visualize_edges(boundaries2[j][0], img2, edge_coords=edge_coords2)\n",
      "\n",
      "    fig, axes = plt.subplots(1, 2, figsize=(20,20), dpi=300)\n",
      "\n",
      "    axes[0].imshow(vis1)\n",
      "    axes[0].axis('off')\n",
      "    axes[0].set_title('section %d, %d' %(section1, i))\n",
      "    \n",
      "    axes[1].imshow(vis2)\n",
      "    axes[1].axis('off')\n",
      "    axes[1].set_title('section %d, %d' %(section2, j))\n",
      "    \n",
      "    fn = dm._get_result_filename('boundaryMatch%02d'%a, 'jpg')          \n",
      "    plt.savefig(fn, bbox_inches='tight')\n",
      "    \n",
      "    plt.close(fig)\n",
      "    \n",
      "#     plt.show()"
     ],
     "language": "python",
     "metadata": {},
     "outputs": [
      {
       "ename": "NameError",
       "evalue": "name 'matchings' is not defined",
       "output_type": "pyerr",
       "traceback": [
        "\u001b[1;31m---------------------------------------------------------------------------\u001b[0m\n\u001b[1;31mNameError\u001b[0m                                 Traceback (most recent call last)",
        "\u001b[1;32m<ipython-input-1-22704b4c7b67>\u001b[0m in \u001b[0;36m<module>\u001b[1;34m()\u001b[0m\n\u001b[1;32m----> 1\u001b[1;33m \u001b[1;32mfor\u001b[0m \u001b[0ma\u001b[0m\u001b[1;33m,\u001b[0m \u001b[1;33m(\u001b[0m\u001b[0mdistance\u001b[0m\u001b[1;33m,\u001b[0m \u001b[0mi\u001b[0m\u001b[1;33m,\u001b[0m \u001b[0mj\u001b[0m\u001b[1;33m)\u001b[0m \u001b[1;32min\u001b[0m \u001b[0menumerate\u001b[0m\u001b[1;33m(\u001b[0m\u001b[0mmatchings\u001b[0m\u001b[1;33m[\u001b[0m\u001b[1;33m:\u001b[0m\u001b[1;36m1\u001b[0m\u001b[1;33m]\u001b[0m\u001b[1;33m)\u001b[0m\u001b[1;33m:\u001b[0m\u001b[1;33m\u001b[0m\u001b[0m\n\u001b[0m\u001b[0;32m      2\u001b[0m \u001b[1;33m\u001b[0m\u001b[0m\n\u001b[0;32m      3\u001b[0m     \u001b[0mvis1\u001b[0m \u001b[1;33m=\u001b[0m \u001b[0mvisualize_edges\u001b[0m\u001b[1;33m(\u001b[0m\u001b[0mboundaries1\u001b[0m\u001b[1;33m[\u001b[0m\u001b[0mi\u001b[0m\u001b[1;33m]\u001b[0m\u001b[1;33m[\u001b[0m\u001b[1;36m0\u001b[0m\u001b[1;33m]\u001b[0m\u001b[1;33m,\u001b[0m \u001b[0mimg1\u001b[0m\u001b[1;33m,\u001b[0m \u001b[0medge_coords\u001b[0m\u001b[1;33m=\u001b[0m\u001b[0medge_coords1\u001b[0m\u001b[1;33m)\u001b[0m\u001b[1;33m\u001b[0m\u001b[0m\n\u001b[0;32m      4\u001b[0m \u001b[1;33m\u001b[0m\u001b[0m\n\u001b[0;32m      5\u001b[0m     \u001b[0mvis2\u001b[0m \u001b[1;33m=\u001b[0m \u001b[0mvisualize_edges\u001b[0m\u001b[1;33m(\u001b[0m\u001b[0mboundaries2\u001b[0m\u001b[1;33m[\u001b[0m\u001b[0mj\u001b[0m\u001b[1;33m]\u001b[0m\u001b[1;33m[\u001b[0m\u001b[1;36m0\u001b[0m\u001b[1;33m]\u001b[0m\u001b[1;33m,\u001b[0m \u001b[0mimg2\u001b[0m\u001b[1;33m,\u001b[0m \u001b[0medge_coords\u001b[0m\u001b[1;33m=\u001b[0m\u001b[0medge_coords2\u001b[0m\u001b[1;33m)\u001b[0m\u001b[1;33m\u001b[0m\u001b[0m\n",
        "\u001b[1;31mNameError\u001b[0m: name 'matchings' is not defined"
       ]
      }
     ],
     "prompt_number": 1
    }
   ],
   "metadata": {}
  }
 ]
}