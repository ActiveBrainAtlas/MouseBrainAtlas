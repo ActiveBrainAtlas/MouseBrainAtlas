{
 "metadata": {
  "name": "",
  "signature": "sha256:4fa808ebaec60fafe53e89a1e4e877ff281bb03b7438da6f3086c4d6b8316059"
 },
 "nbformat": 3,
 "nbformat_minor": 0,
 "worksheets": [
  {
   "cells": [
    {
     "cell_type": "code",
     "collapsed": false,
     "input": [
      "import argparse\n",
      "import cPickle as pickle\n",
      "import os \n",
      "import numpy as np\n",
      "\n",
      "data_dir = '/home/yuncong/BrainLocal/DavidData'\n",
      "repo_dir = '/home/yuncong/BrainSaliencyDetection'\n",
      "params_dir = os.path.join(repo_dir, 'params')\n",
      "\n",
      "# # parse arguments\n",
      "# parser = argparse.ArgumentParser(\n",
      "# formatter_class=argparse.RawDescriptionHelpFormatter,\n",
      "# description='Supervised learning',\n",
      "# # epilog=\"\"\"\n",
      "# # \"\"\"%(os.path.basename(sys.argv[0]))\n",
      "# )\n",
      "\n",
      "# parser.add_argument(\"labeling_fn\", type=str, help=\"path to labeling file\")\n",
      "# parser.add_argument(\"-o\", \"--output_dir\", type=str, help=\"output directory (default: %(default)s)\", default='/oasis/scratch/csd181/yuncong/output')\n",
      "# args = parser.parse_args()\n",
      "\n",
      "class args(object):    \n",
      "    labeling_fn = '/home/yuncong/BrainLocal/DavidData/RS141/x5/0001/redNissl/labelings/RS141_x5_0001_redNissl_anon_10132014165928.pkl'\n",
      "\n",
      "\n",
      "stack_name, resolution, slice_id, params_name, username, logout_time = os.path.basename(args.labeling_fn)[:-4].split('_')\n",
      "\n",
      "results_dir = os.path.join(data_dir, stack_name, resolution, slice_id, params_name, 'pipelineResults')\n",
      "labelings_dir = os.path.join(data_dir, stack_name, resolution, slice_id, params_name, 'labelings')\n",
      "\n",
      "labeling = pickle.load(open(args.labeling_fn, 'r'))\n",
      "\n",
      "instance_name = '_'.join([stack_name, resolution, slice_id, params_name])\n",
      "parent_labeling_name = username + '_' + logout_time\n",
      "    \n",
      "def full_object_name(obj_name, ext):\n",
      "    return os.path.join(data_dir, stack_name, resolution, slice_id, params_name, 'pipelineResults', instance_name + '_' + obj_name + '.' + ext)\n",
      "\n",
      "sp_texton_hist_normalized = np.load(full_object_name('texHist', 'npy'))\n",
      "sp_dir_hist_normalized = np.load(full_object_name('dirHist', 'npy'))\n",
      "    \n",
      "labellist = labeling['final_labellist']\n",
      "\n",
      "models = []\n",
      "for i in range(np.max(labellist)+1):\n",
      "    sps = np.where(labellist == i)[0]\n",
      "    model = {}\n",
      "    if len(sps) > 0:\n",
      "        texton_model = sp_texton_hist_normalized[sps, :].mean(axis=0)\n",
      "        model['texton_hist'] = texton_model\n",
      "        dir_model = sp_dir_hist_normalized[sps, :].mean(axis=0)\n",
      "        model['dir_hist'] = dir_model\n",
      "        models.append(model)        \n",
      "        \n",
      "n_models = len(models)\n",
      "print n_models, 'models'"
     ],
     "language": "python",
     "metadata": {},
     "outputs": [
      {
       "output_type": "stream",
       "stream": "stdout",
       "text": [
        "4 models\n"
       ]
      }
     ],
     "prompt_number": 9
    },
    {
     "cell_type": "code",
     "collapsed": false,
     "input": [
      "segmentation = np.load(full_object_name('segmentation', 'npy'))\n",
      "labelmap = labellist[segmentation]"
     ],
     "language": "python",
     "metadata": {},
     "outputs": [],
     "prompt_number": 10
    },
    {
     "cell_type": "code",
     "collapsed": false,
     "input": [
      "for l in range(n_models):\n",
      "    matched_rows, matched_cols = np.where(labelmap == l)\n",
      "    ymin = matched_rows.min()\n",
      "    ymax = matched_rows.max()\n",
      "    xmin = matched_cols.min()\n",
      "    xmax = matched_cols.max()\n",
      "    models[l]['bounding_box'] = (xmin, ymin, xmax-xmin+1, ymax-ymin+1)    "
     ],
     "language": "python",
     "metadata": {},
     "outputs": [],
     "prompt_number": 16
    },
    {
     "cell_type": "code",
     "collapsed": false,
     "input": [
      "models_fn = os.path.join(labelings_dir, instance_name+'_models.pkl')\n",
      "pickle.dump(models, open(models_fn, 'w'))"
     ],
     "language": "python",
     "metadata": {},
     "outputs": [],
     "prompt_number": 17
    }
   ],
   "metadata": {}
  }
 ]
}