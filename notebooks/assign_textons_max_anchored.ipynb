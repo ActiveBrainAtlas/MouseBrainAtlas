{
 "metadata": {
  "name": "",
  "signature": "sha256:36fc6f25f511a9945ab87d4cab980e62a6be77ac27bf00683014715f6eb616cb"
 },
 "nbformat": 3,
 "nbformat_minor": 0,
 "worksheets": [
  {
   "cells": [
    {
     "cell_type": "code",
     "collapsed": false,
     "input": [
      "%load_ext autoreload\n",
      "%autoreload 2\n",
      "\n",
      "from preamble import *"
     ],
     "language": "python",
     "metadata": {},
     "outputs": [
      {
       "output_type": "stream",
       "stream": "stdout",
       "text": [
        "num. of kernels: 99\n",
        "frequencies: [ 0.2         0.13333333  0.08888889  0.05925926  0.03950617  0.02633745\n",
        "  0.0175583   0.01170553  0.00780369]\n",
        "wavelength (pixels): [   5.            7.5          11.25         16.875        25.3125\n",
        "   37.96875      56.953125     85.4296875   128.14453125]\n",
        "max kernel matrix size: 243\n",
        "The autoreload extension is already loaded. To reload it, use:\n",
        "  %reload_ext autoreload\n"
       ]
      }
     ],
     "prompt_number": 15
    },
    {
     "cell_type": "code",
     "collapsed": false,
     "input": [
      "import itertools\n",
      "from joblib import Parallel, delayed\n",
      "from scipy.spatial.distance import cdist\n",
      "    \n",
      "centroids = dm.load_pipeline_result('textons', 'npy')\n",
      "\n",
      "features_rotated = dm.load_pipeline_result('features_rotated', 'npy')"
     ],
     "language": "python",
     "metadata": {},
     "outputs": [
      {
       "output_type": "stream",
       "stream": "stdout",
       "text": [
        "loaded /home/yuncong/DavidData/RS141/x5/RS141_x5_gabor-blueNisslWide-vq-blueNissl_textons.npy\n",
        "loaded /home/yuncong/DavidData/RS141/x5/0001/filterResults/RS141_x5_0001_gabor-blueNisslWide_features_rotated.npy"
       ]
      },
      {
       "output_type": "stream",
       "stream": "stdout",
       "text": [
        "\n"
       ]
      }
     ],
     "prompt_number": 16
    },
    {
     "cell_type": "code",
     "collapsed": false,
     "input": [
      "n_texton = len(centroids)\n",
      "# n_texton = 10\n",
      "\n",
      "from sklearn.cluster import MiniBatchKMeans\n",
      "\n",
      "kmeans = MiniBatchKMeans(n_clusters=n_texton, batch_size=1000, init=centroids)\n",
      "kmeans.fit(features_rotated)\n",
      "final_centroids = kmeans.cluster_centers_\n",
      "labels = kmeans.labels_"
     ],
     "language": "python",
     "metadata": {},
     "outputs": [],
     "prompt_number": 17
    },
    {
     "cell_type": "code",
     "collapsed": false,
     "input": [
      "# try:\n",
      "#     textonmap = dm.load_pipeline_result('texMap', 'npy')\n",
      "    \n",
      "# except Exception as e:\n",
      "    \n",
      "textonmap = -1 * np.ones_like(dm.image, dtype=np.int)\n",
      "textonmap[dm.mask] = labels\n",
      "\n",
      "dm.save_pipeline_result(textonmap, 'texMap', 'npy')"
     ],
     "language": "python",
     "metadata": {},
     "outputs": [
      {
       "output_type": "stream",
       "stream": "stdout",
       "text": [
        "saved /home/yuncong/DavidData/RS141/x5/0001/vqResults/RS141_x5_0001_gabor-blueNisslWide-vq-blueNissl_texMap.npy\n"
       ]
      }
     ],
     "prompt_number": 13
    },
    {
     "cell_type": "code",
     "collapsed": false,
     "input": [
      "hc_colors = np.loadtxt('../visualization/100colors.txt')\n",
      "\n",
      "vis = label2rgb(textonmap, colors=hc_colors, alpha=1.)\n",
      "display(vis)"
     ],
     "language": "python",
     "metadata": {},
     "outputs": [
      {
       "html": [
        "<a href='tmp.jpg' target='_blank'>tmp.jpg</a><br>"
       ],
       "metadata": {},
       "output_type": "pyout",
       "prompt_number": 18,
       "text": [
        "/oasis/projects/nsf/csd181/yuncong/Brain/notebooks/tmp.jpg"
       ]
      }
     ],
     "prompt_number": 18
    },
    {
     "cell_type": "code",
     "collapsed": false,
     "input": [
      "dm.save_pipeline_result(vis, 'texMap', 'png')"
     ],
     "language": "python",
     "metadata": {},
     "outputs": [
      {
       "output_type": "stream",
       "stream": "stdout",
       "text": [
        "saved /home/yuncong/DavidData/RS141/x5/0001/vqResults/RS141_x5_0001_gabor-blueNisslWide-vq-blueNissl_texMap.png\n"
       ]
      }
     ],
     "prompt_number": 16
    },
    {
     "cell_type": "code",
     "collapsed": false,
     "input": [
      "plt.hist(textonmap.flat, bins=np.arange(n_texton+1))\n",
      "plt.xlabel('texton')\n",
      "plt.xticks(np.arange(n_texton))\n",
      "plt.show()"
     ],
     "language": "python",
     "metadata": {},
     "outputs": [
      {
       "metadata": {},
       "output_type": "display_data",
       "png": "[encoded data removed]",
       "text": [
        "<matplotlib.figure.Figure at 0x5080350>"
       ]
      }
     ],
     "prompt_number": 9
    },
    {
     "cell_type": "code",
     "collapsed": false,
     "input": [
      "def overlay_labels(image, lbp, labels):\n",
      "    \n",
      "    mask = np.logical_or.reduce([lbp == each for each in labels])\n",
      "    return label2rgb(mask, image=image, bg_label=0, alpha=0.5)\n",
      "\n",
      "def visualize_textonmap_layered(textonmap, cropped_img):\n",
      "    \n",
      "    for s in range(n_texton):\n",
      "        print s\n",
      "        overlayed = overlay_labels(cropped_img, textonmap, [s])\n",
      "        cv2.imwrite('overlayed_pca_texton%d.png'%s, img_as_ubyte(overlayed)[..., ::-1])\n",
      "    return "
     ],
     "language": "python",
     "metadata": {},
     "outputs": []
    }
   ],
   "metadata": {}
  }
 ]
}