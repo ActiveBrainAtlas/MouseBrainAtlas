{
 "metadata": {
  "name": "",
  "signature": "sha256:0013cbd24a902d1ed41941ba12ac9c6c1447a090d98f55cf6af6d575ce8151ba"
 },
 "nbformat": 3,
 "nbformat_minor": 0,
 "worksheets": [
  {
   "cells": [
    {
     "cell_type": "code",
     "collapsed": false,
     "input": [
      "%load_ext autoreload\n",
      "%autoreload 2\n",
      "\n",
      "from preamble import *"
     ],
     "language": "python",
     "metadata": {},
     "outputs": [
      {
       "output_type": "stream",
       "stream": "stdout",
       "text": [
        "num. of kernels: 99\n",
        "frequencies: [ 0.2         0.13333333  0.08888889  0.05925926  0.03950617  0.02633745\n",
        "  0.0175583   0.01170553  0.00780369]\n",
        "wavelength (pixels): [   5.            7.5          11.25         16.875        25.3125\n",
        "   37.96875      56.953125     85.4296875   128.14453125]\n",
        "max kernel matrix size: 243\n",
        "The autoreload extension is already loaded. To reload it, use:\n",
        "  %reload_ext autoreload\n"
       ]
      }
     ],
     "prompt_number": 23
    },
    {
     "cell_type": "code",
     "collapsed": false,
     "input": [
      "import itertools\n",
      "from joblib import Parallel, delayed\n",
      "from scipy.spatial.distance import cdist\n",
      "    \n",
      "centroids = dm.load_pipeline_result('textons', 'npy')\n",
      "features_rotated = dm.load_pipeline_result('features_rotated', 'npy')"
     ],
     "language": "python",
     "metadata": {},
     "outputs": [
      {
       "output_type": "stream",
       "stream": "stdout",
       "text": [
        "/home/yuncong/DavidData/RS141/x5/RS141_x5_gabor-blueNisslWide-vq-blueNissl_textons.npy\n",
        "loaded /home/yuncong/DavidData/RS141/x5/RS141_x5_gabor-blueNisslWide-vq-blueNissl_textons.npy\n",
        "/home/yuncong/DavidData/RS141/x5/0005/pipelineResults/RS141_x5_0005_gabor-blueNisslWide_features_rotated.npy\n",
        "loaded /home/yuncong/DavidData/RS141/x5/0005/pipelineResults/RS141_x5_0005_gabor-blueNisslWide_features_rotated.npy"
       ]
      },
      {
       "output_type": "stream",
       "stream": "stdout",
       "text": [
        "\n"
       ]
      }
     ],
     "prompt_number": 24
    },
    {
     "cell_type": "code",
     "collapsed": false,
     "input": [
      "# from skimage.util import pad\n",
      "# padded_kernels = [None] * dm.n_kernel\n",
      "# for i, kern in enumerate(dm.kernels):\n",
      "#     ksize = kern.shape[0]\n",
      "#     a = (dm.max_kern_size - ksize)/2\n",
      "#     padded_kern = pad(kern, [a, a], mode='constant', constant_values=0)\n",
      "#     padded_kernels[i] = padded_kern\n",
      "    \n",
      "    \n",
      "# F = np.vstack([k.flatten() for k in padded_kernels])\n",
      "\n",
      "# from numpy.linalg import lstsq\n",
      "\n",
      "# for f in centroids:\n",
      "#     b, r, _, _ = lstsq(F, f)\n",
      "\n",
      "#     c = b.reshape((dm.max_kern_size,dm.max_kern_size))\n",
      "\n",
      "#     plt.imshow(c[dm.max_kern_size/2-30:dm.max_kern_size/2+30,\n",
      "#                  dm.max_kern_size/2-30:dm.max_kern_size/2+30], cmap=plt.cm.Greys_r)\n",
      "    \n",
      "#     plt.show()"
     ],
     "language": "python",
     "metadata": {},
     "outputs": [],
     "prompt_number": 25
    },
    {
     "cell_type": "code",
     "collapsed": false,
     "input": [
      "n_texton = len(centroids)\n",
      "# n_texton = 10\n",
      "\n",
      "from sklearn.cluster import MiniBatchKMeans\n",
      "\n",
      "kmeans = MiniBatchKMeans(n_clusters=n_texton, batch_size=1000, init=centroids)\n",
      "kmeans.fit(features_rotated)\n",
      "final_centroids = kmeans.cluster_centers_\n",
      "labels = kmeans.labels_"
     ],
     "language": "python",
     "metadata": {},
     "outputs": [],
     "prompt_number": 26
    },
    {
     "cell_type": "code",
     "collapsed": false,
     "input": [
      "# try:\n",
      "#     textonmap = dm.load_pipeline_result('texMap', 'npy')\n",
      "    \n",
      "# except Exception as e:\n",
      "    \n",
      "textonmap = -1 * np.ones_like(dm.image, dtype=np.int)\n",
      "textonmap[dm.mask] = labels\n",
      "\n",
      "dm.save_pipeline_result(textonmap, 'texMap', 'npy')"
     ],
     "language": "python",
     "metadata": {},
     "outputs": [
      {
       "output_type": "stream",
       "stream": "stdout",
       "text": [
        "saved /home/yuncong/DavidData/RS141/x5/0005/pipelineResults/RS141_x5_0005_gabor-blueNisslWide-vq-blueNissl_texMap.npy\n"
       ]
      }
     ],
     "prompt_number": 27
    },
    {
     "cell_type": "code",
     "collapsed": false,
     "input": [
      "hc_colors = np.loadtxt('../visualization/100colors.txt')\n",
      "\n",
      "vis = label2rgb(textonmap, colors=hc_colors, alpha=1.)"
     ],
     "language": "python",
     "metadata": {},
     "outputs": [],
     "prompt_number": 28
    },
    {
     "cell_type": "code",
     "collapsed": false,
     "input": [
      "# display(vis)"
     ],
     "language": "python",
     "metadata": {},
     "outputs": [],
     "prompt_number": 29
    },
    {
     "cell_type": "code",
     "collapsed": false,
     "input": [
      "dm.save_pipeline_result(vis, 'texMap', 'png')"
     ],
     "language": "python",
     "metadata": {},
     "outputs": [
      {
       "output_type": "stream",
       "stream": "stdout",
       "text": [
        "saved /home/yuncong/DavidData/RS141/x5/0005/pipelineResults/RS141_x5_0005_gabor-blueNisslWide-vq-blueNissl_texMap.png\n"
       ]
      }
     ],
     "prompt_number": 30
    },
    {
     "cell_type": "code",
     "collapsed": false,
     "input": [
      "# plt.hist(textonmap.flat, bins=np.arange(n_texton+1))\n",
      "# plt.xlabel('texton')\n",
      "# plt.xticks(np.arange(n_texton))\n",
      "# plt.show()"
     ],
     "language": "python",
     "metadata": {},
     "outputs": [],
     "prompt_number": 31
    },
    {
     "cell_type": "code",
     "collapsed": false,
     "input": [
      "# def overlay_labels(image, lbp, labels):\n",
      "    \n",
      "#     mask = np.logical_or.reduce([lbp == each for each in labels])\n",
      "#     return label2rgb(mask, image=image, bg_label=0, alpha=0.5)\n",
      "\n",
      "# def visualize_textonmap_layered(textonmap, cropped_img):\n",
      "    \n",
      "#     for s in range(n_texton):\n",
      "#         print s\n",
      "#         overlayed = overlay_labels(cropped_img, textonmap, [s])\n",
      "#         cv2.imwrite('overlayed_pca_texton%d.png'%s, img_as_ubyte(overlayed)[..., ::-1])\n",
      "#     return "
     ],
     "language": "python",
     "metadata": {},
     "outputs": [],
     "prompt_number": 32
    }
   ],
   "metadata": {}
  }
 ]
}