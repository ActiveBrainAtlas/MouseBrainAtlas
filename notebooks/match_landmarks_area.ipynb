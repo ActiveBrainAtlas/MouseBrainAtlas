{
 "cells": [
  {
   "cell_type": "code",
   "execution_count": 1,
   "metadata": {
    "collapsed": true
   },
   "outputs": [],
   "source": [
    "%reload_ext autoreload\n",
    "%autoreload 2\n",
    "\n",
    "import sys\n",
    "sys.path.insert(0, '/home/yuncong/project/cython-munkres-wrapper/build/lib.linux-x86_64-2.7')\n",
    "from munkres import munkres\n",
    "\n",
    "import os\n",
    "import time\n",
    "\n",
    "from utilities2015 import *\n",
    "\n",
    "from scipy.spatial.distance import cdist, pdist, squareform\n",
    "from scipy.cluster.hierarchy import average, fcluster, single, complete\n",
    "\n",
    "from joblib import Parallel, delayed\n",
    "\n",
    "from skimage.color import gray2rgb\n",
    "from skimage.measure import find_contours\n",
    "from skimage.util import img_as_float\n",
    "\n",
    "import matplotlib.pyplot as plt\n",
    "%matplotlib inline\n",
    "\n",
    "from networkx import from_dict_of_lists, Graph, adjacency_matrix, dfs_postorder_nodes\n",
    "from networkx.algorithms import node_connected_component\n",
    "\n",
    "from shape_matching import *"
   ]
  },
  {
   "cell_type": "code",
   "execution_count": 2,
   "metadata": {
    "collapsed": false
   },
   "outputs": [],
   "source": [
    "stack_name = 'MD593'\n",
    "\n",
    "dms = dict([(sec_ind, DataManager(stack=stack_name, section=sec_ind, segm_params_id='tSLIC200')) \n",
    "       for sec_ind in [139, 140]])"
   ]
  },
  {
   "cell_type": "code",
   "execution_count": 3,
   "metadata": {
    "collapsed": false
   },
   "outputs": [],
   "source": [
    "def boundary_distance(b1, b2, loc_thresh=1500, verbose=False):\n",
    "    \n",
    "    _, interior_texture1, exterior_textures1, points1, center1, \\\n",
    "                        majorv1, minorv1, majorlen1, minorlen1, ell_center1 = b1\n",
    "        \n",
    "    _, interior_texture2, exterior_textures2, points2, center2, \\\n",
    "                        majorv2, minorv2, majorlen2, minorlen2, ell_center2 = b2\n",
    "    \n",
    "    # compute location difference\n",
    "    d_loc = np.linalg.norm(center1 - center2)\n",
    "    D_loc = np.maximum(0, d_loc - 500)\n",
    "    \n",
    "    if d_loc > loc_thresh:\n",
    "        return np.inf\n",
    "    \n",
    "    n1 = len(points1)\n",
    "    n2 = len(points2)\n",
    "    \n",
    "    if max(n1,n2) > min(n1,n2) * 3:\n",
    "        return np.inf\n",
    "    \n",
    "    # compute interior texture difference\n",
    "    D_int = chi2(interior_texture1, interior_texture2)\n",
    "\n",
    "#     D_area = len(multidim_intersect(coords1, coords2))/1e5\n",
    "    \n",
    "    d = D_int + D_loc\n",
    "    return d"
   ]
  },
  {
   "cell_type": "code",
   "execution_count": 4,
   "metadata": {
    "collapsed": true
   },
   "outputs": [],
   "source": [
    "from skimage.util import pad\n",
    "\n",
    "def generate_matching_visualizations(sec1, sec2, matchings=None):\n",
    "    '''\n",
    "    Generate visualization for matching between sec1 and sec2\n",
    "    '''\n",
    "    \n",
    "    dm1 = dms[sec1]\n",
    "    dm2 = dms[sec2]\n",
    "    \n",
    "    boundaries1 = dm1.load_pipeline_result('boundaryModels')\n",
    "    boundaries2 = dm2.load_pipeline_result('boundaryModels')\n",
    "    \n",
    "    if matchings is None:\n",
    "        matchings = dm1.load_pipeline_result('matchings%dWith%d'%(sec1, sec2))\n",
    "\n",
    "    matched_boundaries1 = [boundaries1[i][0] for ind, (d,i,j) in enumerate(matchings)]\n",
    "    vis_matched_boundaries_next = dm1.visualize_edge_sets(matched_boundaries1, show_set_index=True)\n",
    "\n",
    "    matched_boundaries2 = [boundaries2[j][0] for ind, (d,i,j) in enumerate(matchings)]\n",
    "    vis_matched_boundaries_prev = dm2.visualize_edge_sets(matched_boundaries2, show_set_index=True)\n",
    "\n",
    "    # Place two images vertically \n",
    "    h1, w1 = vis_matched_boundaries_next.shape[:2]\n",
    "    h2, w2 = vis_matched_boundaries_prev.shape[:2]\n",
    "    \n",
    "    if w1 < w2:\n",
    "        left_margin = int((w2 - w1)/2)\n",
    "        right_margin = w2 - w1 - left_margin\n",
    "        vis_matched_boundaries_next = pad(vis_matched_boundaries_next, \n",
    "                                          ((0,0),(left_margin,right_margin),(0,0)), \n",
    "                                          'constant', constant_values=255)\n",
    "    else:\n",
    "        left_margin = int((w1 - w2)/2)\n",
    "        right_margin = w1 - w2 - left_margin\n",
    "        vis_matched_boundaries_prev = pad(vis_matched_boundaries_prev, \n",
    "                                          ((0,0),(left_margin,right_margin),(0,0)), \n",
    "                                          'constant', constant_values=255)\n",
    "        \n",
    "    vis = np.r_[vis_matched_boundaries_next, vis_matched_boundaries_prev]\n",
    "    \n",
    "    return vis"
   ]
  },
  {
   "cell_type": "code",
   "execution_count": 5,
   "metadata": {
    "collapsed": true
   },
   "outputs": [],
   "source": [
    "def multidim_intersect(arr1, arr2):\n",
    "    arr1_view = arr1.view([('',arr1.dtype)]*arr1.shape[1])\n",
    "    arr2_view = arr2.view([('',arr2.dtype)]*arr2.shape[1])\n",
    "    intersected = numpy.intersect1d(arr1_view, arr2_view)\n",
    "    return intersected.view(arr1.dtype).reshape(-1, arr1.shape[1])"
   ]
  },
  {
   "cell_type": "code",
   "execution_count": 6,
   "metadata": {
    "collapsed": false
   },
   "outputs": [],
   "source": [
    "dm1 = dms[139]\n",
    "dm2 = dms[140]\n",
    "    \n",
    "boundaries1 = dm1.load_pipeline_result('boundaryModels')\n",
    "boundaries2 = dm2.load_pipeline_result('boundaryModels')"
   ]
  },
  {
   "cell_type": "code",
   "execution_count": 14,
   "metadata": {
    "collapsed": false
   },
   "outputs": [],
   "source": [
    "res = boundary_distance(boundaries1[1], boundaries2[23], verbose=True)"
   ]
  },
  {
   "cell_type": "code",
   "execution_count": 7,
   "metadata": {
    "collapsed": true
   },
   "outputs": [],
   "source": [
    "def compute_boundary_distances(sec1, sec2, verbose=False):\n",
    "    \n",
    "    dm1 = dms[sec1]\n",
    "    dm2 = dms[sec2]\n",
    "    \n",
    "    boundaries1 = dm1.load_pipeline_result('boundaryModels')\n",
    "    boundaries2 = dm2.load_pipeline_result('boundaryModels')\n",
    "    \n",
    "#     sc1 = dm1.load_pipeline_result('shapeContext')\n",
    "#     sc2 = dm2.load_pipeline_result('shapeContext')\n",
    "\n",
    "    n_boundaries1 = len(boundaries1)\n",
    "    n_boundaries2 = len(boundaries2)\n",
    "    \n",
    "    center_dist_thresh = 1500\n",
    "    \n",
    "    centers1 = [b[4] for b in boundaries1]\n",
    "    centers2 = [b[4] for b in boundaries2]\n",
    "    center_distances = cdist(centers1, centers2, metric='euclidean')\n",
    "    b1s, b2s = np.where(center_distances < center_dist_thresh)\n",
    "    \n",
    "    b = time.time()\n",
    "    \n",
    "    Ds = []\n",
    "    for i, j in zip(b1s, b2s):\n",
    "#         sys.stderr.write('%d,%d\\n'%(i,j))\n",
    "        d = boundary_distance(boundaries1[i], boundaries2[j], verbose=verbose)\n",
    "        Ds.append(d)\n",
    "        \n",
    "#     Ds = Parallel(n_jobs=2)(delayed(boundary_distance)(boundaries1[i], boundaries2[j], verbose=verbose) \n",
    "#                              for i, j in zip(b1s, b2s))\n",
    "    print  'boundary_distance', time.time() - b\n",
    "\n",
    "    Ds_mat = np.inf * np.ones((n_boundaries1, n_boundaries2))\n",
    "    Ds_mat[b1s, b2s] = Ds\n",
    "    \n",
    "    return Ds_mat\n",
    "    \n",
    "#     D_boundaries = np.inf * np.ones((n_boundaries1, n_boundaries2))\n",
    "#     D_int = np.inf * np.ones((n_boundaries1, n_boundaries2))\n",
    "#     D_ext = np.inf * np.ones((n_boundaries1, n_boundaries2))\n",
    "#     D_shape = np.inf * np.ones((n_boundaries1, n_boundaries2))\n",
    "    \n",
    "#     D_boundaries[b1s, b2s] = [d for d, d_int, d_ext, d_shape, d_loc in Ds]\n",
    "#     D_int[b1s, b2s] = [d_int for d, d_int, d_ext, d_shape, d_loc in Ds]\n",
    "#     D_ext[b1s, b2s] = [d_ext for d, d_int, d_ext, d_shape, d_loc in Ds]\n",
    "#     D_shape[b1s, b2s] = [d_shape for d, d_int, d_ext, d_shape, d_loc in Ds]\n",
    "    \n",
    "#     return D_boundaries, D_int, D_ext, D_shape"
   ]
  },
  {
   "cell_type": "code",
   "execution_count": 9,
   "metadata": {
    "collapsed": false
   },
   "outputs": [
    {
     "name": "stdout",
     "output_type": "stream",
     "text": [
      "boundary_distance 0.0636401176453\n"
     ]
    }
   ],
   "source": [
    "Ds = compute_boundary_distances(139, 140, verbose=True)"
   ]
  },
  {
   "cell_type": "code",
   "execution_count": 10,
   "metadata": {
    "collapsed": false
   },
   "outputs": [
    {
     "data": {
      "image/png": "[encoded data removed]",
      "text/plain": [
       "<matplotlib.figure.Figure at 0x5ec2c90>"
      ]
     },
     "metadata": {},
     "output_type": "display_data"
    }
   ],
   "source": [
    "plt.matshow(Ds);"
   ]
  },
  {
   "cell_type": "code",
   "execution_count": 11,
   "metadata": {
    "collapsed": true
   },
   "outputs": [],
   "source": [
    "from bipartite_matching import *"
   ]
  },
  {
   "cell_type": "code",
   "execution_count": 12,
   "metadata": {
    "collapsed": true
   },
   "outputs": [],
   "source": [
    "def match_landmarks(sec1, sec2, D=None, must_match=[], cannot_match=[]):\n",
    "    \n",
    "    dm1 = dms[sec1]\n",
    "    dm2 = dms[sec2]\n",
    "    boundaries1 = dm1.load_pipeline_result('boundaryModels')\n",
    "    boundaries2 = dm2.load_pipeline_result('boundaryModels')\n",
    "    \n",
    "    if D is None:\n",
    "        D = dm1.load_pipeline_result('DBoundaries%dWith%d'%(sec1, sec2))\n",
    "        \n",
    "    matchings = knn_matching(D, boundaries1, boundaries2)\n",
    "    matchings = sorted(matchings)\n",
    "    \n",
    "    return matchings"
   ]
  },
  {
   "cell_type": "code",
   "execution_count": 13,
   "metadata": {
    "collapsed": false
   },
   "outputs": [],
   "source": [
    "match = match_landmarks(139, 140, D=Ds)"
   ]
  },
  {
   "cell_type": "code",
   "execution_count": 14,
   "metadata": {
    "collapsed": false
   },
   "outputs": [
    {
     "data": {
      "text/plain": [
       "[(0.010513782200418636, 99, 48),\n",
       " (0.012938520394720886, 9, 9),\n",
       " (0.015839721147262724, 65, 96),\n",
       " (0.016131350370247485, 92, 98),\n",
       " (0.017340750047535318, 86, 70),\n",
       " (0.020273979011567321, 53, 20),\n",
       " (0.023193798332892663, 81, 86),\n",
       " (0.024561232736321149, 80, 82),\n",
       " (0.02922180682965789, 10, 61),\n",
       " (0.033884336420681331, 79, 63),\n",
       " (0.034584032242010725, 88, 52),\n",
       " (0.038041765263642349, 37, 79),\n",
       " (0.039312765844794803, 87, 58),\n",
       " (0.040640292591774388, 4, 17),\n",
       " (0.042826098936763687, 15, 14),\n",
       " (0.043471924654963218, 13, 18),\n",
       " (0.044438187779305291, 45, 85),\n",
       " (0.046774337815874395, 78, 38),\n",
       " (0.048370751608931978, 39, 83),\n",
       " (0.048529856887527659, 74, 99),\n",
       " (0.048987250691722196, 84, 22),\n",
       " (0.053628604623709504, 90, 23),\n",
       " (0.054836916188266978, 46, 62),\n",
       " (0.056136895337317555, 72, 27),\n",
       " (0.058801320425694588, 20, 65),\n",
       " (0.061442433961574235, 89, 31),\n",
       " (0.064920288245699273, 93, 7),\n",
       " (0.065423937126351236, 47, 87),\n",
       " (0.069475659028880976, 21, 5),\n",
       " (0.078499143516324477, 61, 19),\n",
       " (0.085892800584559961, 17, 24),\n",
       " (0.088051407781137486, 95, 56),\n",
       " (0.094504575617981146, 29, 15),\n",
       " (0.094612306304758059, 34, 51),\n",
       " (0.097041075272196534, 26, 53),\n",
       " (0.10010650994909559, 16, 32),\n",
       " (0.10039700598089586, 8, 11),\n",
       " (0.10073227215772118, 38, 46),\n",
       " (0.10084199873795308, 66, 33),\n",
       " (0.10298024399955245, 76, 97),\n",
       " (0.10668779205175785, 28, 54),\n",
       " (0.10859476197323717, 85, 29),\n",
       " (0.1241774926952891, 42, 60),\n",
       " (0.12643683140696388, 69, 39),\n",
       " (0.12791803038742383, 14, 34),\n",
       " (0.12891539171851341, 22, 42),\n",
       " (0.13167988087977478, 5, 40),\n",
       " (0.13326784619078325, 7, 66),\n",
       " (0.14487200225742378, 23, 81),\n",
       " (0.14634123856229722, 0, 30),\n",
       " (0.15257568471245761, 82, 57),\n",
       " (0.15970544615886009, 75, 25),\n",
       " (0.16028761368217803, 55, 47),\n",
       " (0.16120846798351898, 25, 89),\n",
       " (0.16241624758613066, 54, 28),\n",
       " (0.16338370098257168, 11, 77),\n",
       " (0.17878916429638236, 58, 45),\n",
       " (0.18808071168178128, 27, 74),\n",
       " (0.21250056743878687, 30, 4),\n",
       " (0.21493593698081159, 35, 37),\n",
       " (0.21960948442101536, 50, 12),\n",
       " (0.27104562861231574, 24, 35),\n",
       " (0.29050258814799762, 77, 8),\n",
       " (0.35401290537590813, 97, 55),\n",
       " (0.38405106004957257, 41, 59),\n",
       " (0.43933522638188283, 1, 36)]"
      ]
     },
     "execution_count": 14,
     "metadata": {},
     "output_type": "execute_result"
    }
   ],
   "source": [
    "match"
   ]
  },
  {
   "cell_type": "code",
   "execution_count": 15,
   "metadata": {
    "collapsed": false
   },
   "outputs": [
    {
     "name": "stderr",
     "output_type": "stream",
     "text": [
      "/oasis/projects/nsf/csd181/yuncong/virtualenv-1.9.1/yuncongve/lib/python2.7/site-packages/PIL/Image.py:2261: DecompressionBombWarning: Image size (203470848 pixels) exceeds limit of 89478485 pixels, could be decompression bomb DOS attack.\n",
      "  DecompressionBombWarning)\n"
     ]
    },
    {
     "data": {
      "text/html": [
       "<a href='tmp.jpg' target='_blank'>tmp.jpg</a><br>"
      ],
      "text/plain": [
       "/oasis/projects/nsf/csd395/yuncong/Brain/notebooks/tmp.jpg"
      ]
     },
     "execution_count": 15,
     "metadata": {},
     "output_type": "execute_result"
    }
   ],
   "source": [
    "viz = generate_matching_visualizations(139, 140, matchings=match[:10])\n",
    "display(viz)"
   ]
  },
  {
   "cell_type": "code",
   "execution_count": 28,
   "metadata": {
    "collapsed": false,
    "scrolled": true
   },
   "outputs": [],
   "source": [
    "match2 =[(s, i,j) for s,i,j in  match if s < 1]"
   ]
  },
  {
   "cell_type": "code",
   "execution_count": 29,
   "metadata": {
    "collapsed": false
   },
   "outputs": [
    {
     "data": {
      "text/plain": [
       "[(0.010485786513321346, 68, 71),\n",
       " (0.023723150392245453, 55, 50),\n",
       " (0.024516289979832163, 65, 37),\n",
       " (0.024917937259280244, 12, 25),\n",
       " (0.028757157119708728, 16, 6),\n",
       " (0.031018372851846866, 25, 49),\n",
       " (0.033471923439044572, 40, 44),\n",
       " (0.033596003857835108, 39, 56),\n",
       " (0.035026106964857098, 69, 51),\n",
       " (0.035942888528010829, 66, 59),\n",
       " (0.039928982148556426, 52, 53),\n",
       " (0.043178876165048015, 53, 60),\n",
       " (0.048579837281596136, 32, 20),\n",
       " (0.053276520959028073, 10, 2),\n",
       " (0.053810765115342087, 22, 62),\n",
       " (0.058218225513241906, 58, 66),\n",
       " (0.072222508194473636, 63, 34),\n",
       " (0.077418343778801496, 8, 32),\n",
       " (0.080747539154569559, 33, 11),\n",
       " (0.088007318611514784, 26, 24),\n",
       " (0.098695895072666101, 71, 41),\n",
       " (0.10501160025851936, 28, 15),\n",
       " (0.11081925474898384, 3, 12),\n",
       " (0.11340180998015041, 21, 10),\n",
       " (0.11597363803652097, 62, 61),\n",
       " (0.11702413194431464, 19, 16),\n",
       " (0.13870728890346368, 0, 18),\n",
       " (0.17161087355325394, 24, 28),\n",
       " (0.24121309313168879, 6, 7),\n",
       " (0.24218215667983575, 4, 1),\n",
       " (0.24823433501092845, 9, 43),\n",
       " (0.96275599076111862, 14, 22)]"
      ]
     },
     "execution_count": 29,
     "metadata": {},
     "output_type": "execute_result"
    }
   ],
   "source": [
    "match2"
   ]
  },
  {
   "cell_type": "code",
   "execution_count": 33,
   "metadata": {
    "collapsed": false
   },
   "outputs": [],
   "source": [
    "viz = generate_matching_visualizations(138, 139, matchings=match2[5:10])"
   ]
  },
  {
   "cell_type": "code",
   "execution_count": 34,
   "metadata": {
    "collapsed": false
   },
   "outputs": [
    {
     "data": {
      "text/html": [
       "<a href='tmp.jpg' target='_blank'>tmp.jpg</a><br>"
      ],
      "text/plain": [
       "/oasis/projects/nsf/csd395/yuncong/Brain/notebooks/tmp.jpg"
      ]
     },
     "execution_count": 34,
     "metadata": {},
     "output_type": "execute_result"
    }
   ],
   "source": [
    "display(viz)"
   ]
  },
  {
   "cell_type": "code",
   "execution_count": null,
   "metadata": {
    "collapsed": true
   },
   "outputs": [],
   "source": []
  }
 ],
 "metadata": {
  "kernelspec": {
   "display_name": "Python 2",
   "language": "python",
   "name": "python2"
  },
  "language_info": {
   "codemirror_mode": {
    "name": "ipython",
    "version": 2
   },
   "file_extension": ".py",
   "mimetype": "text/x-python",
   "name": "python",
   "nbconvert_exporter": "python",
   "pygments_lexer": "ipython2",
   "version": "2.7.3"
  }
 },
 "nbformat": 4,
 "nbformat_minor": 0
}
