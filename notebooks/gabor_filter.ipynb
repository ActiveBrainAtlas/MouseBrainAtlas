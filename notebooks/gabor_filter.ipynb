{
 "cells": [
  {
   "cell_type": "code",
   "execution_count": 1,
   "metadata": {
    "collapsed": false
   },
   "outputs": [],
   "source": [
    "%load_ext autoreload\n",
    "%autoreload 2"
   ]
  },
  {
   "cell_type": "code",
   "execution_count": 4,
   "metadata": {
    "collapsed": false
   },
   "outputs": [
    {
     "name": "stderr",
     "output_type": "stream",
     "text": [
      "/oasis/projects/nsf/csd181/yuncong/virtualenv-1.9.1/yuncongve/lib/python2.7/site-packages/PIL/Image.py:2261: DecompressionBombWarning: Image size (203470848 pixels) exceeds limit of 89478485 pixels, could be decompression bomb DOS attack.\n",
      "  DecompressionBombWarning)\n",
      "/oasis/projects/nsf/csd181/yuncong/virtualenv-1.9.1/yuncongve/lib/python2.7/site-packages/skimage/filter/__init__.py:6: skimage_deprecation: The `skimage.filter` module has been renamed to `skimage.filters`.  This placeholder module will be removed in v0.13.\n",
      "  warn(skimage_deprecation('The `skimage.filter` module has been renamed '\n"
     ]
    },
    {
     "name": "stdout",
     "output_type": "stream",
     "text": [
      "reading image ... done in 5.67617607117 seconds\n"
     ]
    }
   ],
   "source": [
    "import os\n",
    "import sys\n",
    "import time\n",
    "\n",
    "from joblib import Parallel, delayed\n",
    "\n",
    "sys.path.append(os.path.join(os.environ['GORDON_REPO_DIR'], 'notebooks'))\n",
    "from utilities2015 import *\n",
    "\n",
    "dm = DataManager(data_dir=os.environ['GORDON_DATA_DIR'], \n",
    "                 repo_dir=os.environ['GORDON_REPO_DIR'], \n",
    "                 result_dir=os.environ['GORDON_RESULT_DIR'], \n",
    "                 labeling_dir=os.environ['GORDON_LABELING_DIR'],\n",
    "                 stack='MD593',\n",
    "                 section=117)\n",
    "\n",
    "print 'reading image ...',\n",
    "t = time.time()\n",
    "dm._load_image(versions=['gray'])\n",
    "dm._generate_kernels()\n",
    "print 'done in', time.time() - t, 'seconds'"
   ]
  },
  {
   "cell_type": "code",
   "execution_count": 2,
   "metadata": {
    "collapsed": false
   },
   "outputs": [],
   "source": [
    "from skimage.util import pad\n",
    "\n",
    "approx_bg_intensity = dm.image[10:20, 10:20].mean()\n",
    "# approx_bg_intensity = 0\n",
    "\n",
    "masked_image = dm.image.copy()\n",
    "masked_image[~dm.mask] = approx_bg_intensity\n",
    "\n",
    "# padded_image = pad(masked_image, max_kern_size, 'constant', constant_values=approx_bg_intensity)\n",
    "padded_image = pad(masked_image, dm.max_kern_size, 'linear_ramp', end_values=approx_bg_intensity)\n",
    "\n",
    "# plt.imshow(padded_image, cm.Greys_r)\n",
    "# plt.show()\n",
    "\n",
    "# display(padded_image)"
   ]
  },
  {
   "cell_type": "code",
   "execution_count": null,
   "metadata": {
    "collapsed": false
   },
   "outputs": [],
   "source": [
    "import time\n",
    "b = time.time()\n",
    "\n",
    "from joblib import Parallel, delayed\n",
    "from scipy.signal import fftconvolve\n",
    "\n",
    "# try:\n",
    "#     features = dm.load_pipeline_result('features', 'npy')\n",
    "    \n",
    "# except Exception as e:\n",
    "\n",
    "def convolve_per_proc(i):\n",
    "    return fftconvolve(padded_image, dm.kernels[i], 'same').astype(np.half)\n",
    "\n",
    "padded_filtered = Parallel(n_jobs=16)(delayed(convolve_per_proc)(i) \n",
    "                        for i in range(dm.n_kernel))\n",
    "\n",
    "filtered = [f[dm.max_kern_size:-dm.max_kern_size, dm.max_kern_size:-dm.max_kern_size] for f in padded_filtered]\n",
    "\n",
    "#     features = np.empty((dm.image_height, dm.image_width, n_kernel), dtype=np.half)\n",
    "#     for i in range(n_kernel):\n",
    "#         features[...,i] = filtered[i]\n",
    "\n",
    "features = np.empty((dm.n_kernel, dm.image_height, dm.image_width), dtype=np.half)\n",
    "for i in range(dm.n_kernel):\n",
    "    features[i, ...] = filtered[i]\n",
    "\n",
    "del filtered\n",
    "\n",
    "dm.save_pipeline_result(features, 'features', 'npy')\n",
    "\n",
    "print 'gabor filtering', time.time() - b"
   ]
  },
  {
   "cell_type": "code",
   "execution_count": 17,
   "metadata": {
    "collapsed": false
   },
   "outputs": [],
   "source": [
    "# # visualize a slice of feature responses\n",
    "\n",
    "# cropped_response = features[-1]\n",
    "# plt.matshow(cropped_response, cmap=cm.coolwarm)\n",
    "# plt.colorbar()\n",
    "# plt.show()"
   ]
  },
  {
   "cell_type": "code",
   "execution_count": 18,
   "metadata": {
    "collapsed": false
   },
   "outputs": [],
   "source": [
    "# from skimage.exposure import rescale_intensity\n",
    "# cropped_response_vis = rescale_intensity(cropped_response, out_range=(0, 255))\n",
    "# cropped_response_vis[~dm.mask] = 127\n",
    "# display(cropped_response_vis.astype(np.uint8))"
   ]
  }
 ],
 "metadata": {
  "kernelspec": {
   "display_name": "Python 2",
   "language": "python",
   "name": "python2"
  },
  "language_info": {
   "codemirror_mode": {
    "name": "ipython",
    "version": 2
   },
   "file_extension": ".py",
   "mimetype": "text/x-python",
   "name": "python",
   "nbconvert_exporter": "python",
   "pygments_lexer": "ipython2",
   "version": "2.7.3"
  }
 },
 "nbformat": 4,
 "nbformat_minor": 0
}
