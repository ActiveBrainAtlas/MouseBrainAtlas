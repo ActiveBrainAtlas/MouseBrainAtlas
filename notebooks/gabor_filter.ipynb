{
 "metadata": {
  "name": "",
  "signature": "sha256:71fbe4c76204deb55a8357e3b4feb98ff07632ee90c233ac32add53429f3356a"
 },
 "nbformat": 3,
 "nbformat_minor": 0,
 "worksheets": [
  {
   "cells": [
    {
     "cell_type": "code",
     "collapsed": false,
     "input": [
      "from utilities import *\n",
      "\n",
      "class args:\n",
      "    stack_name = 'RS141'\n",
      "    resolution = 'x5'\n",
      "    slice = 4"
     ],
     "language": "python",
     "metadata": {},
     "outputs": [],
     "prompt_number": 3
    },
    {
     "cell_type": "code",
     "collapsed": false,
     "input": [
      "paramset = ParameterSet(1, 2, 4)\n",
      "\n",
      "# Generate Gabor filter kernels\n",
      "theta_interval = paramset.gabor_params['theta_interval']\n",
      "n_angle = int(180/theta_interval)\n",
      "freq_step = paramset.gabor_params['freq_step']\n",
      "freq_max = 1./paramset.gabor_params['min_wavelen']\n",
      "freq_min = 1./paramset.gabor_params['max_wavelen']\n",
      "bandwidth = paramset.gabor_params['bandwidth']\n",
      "n_freq = int(np.log(freq_max/freq_min)/np.log(freq_step)) + 1\n",
      "frequencies = freq_max/freq_step**np.arange(n_freq)\n",
      "\n",
      "kernels = [gabor_kernel(f, theta=t, bandwidth=bandwidth) for f in frequencies \n",
      "          for t in np.arange(0, n_angle)*np.deg2rad(theta_interval)]\n",
      "kernels = map(np.real, kernels)\n",
      "\n",
      "n_kernel = len(kernels)\n",
      "\n",
      "print '=== filter using Gabor filters ==='\n",
      "print 'num. of kernels: %d' % (n_kernel)\n",
      "print 'frequencies:', frequencies\n",
      "print 'wavelength (pixels):', 1/frequencies\n",
      "\n",
      "max_kern_size = np.max([kern.shape[0] for kern in kernels])\n",
      "print 'max kernel matrix size:', max_kern_size\n",
      "\n",
      "# Process the image using Gabor filters\n",
      "try:\n",
      "    raise IOError\n",
      "#     features = load_array('features')\n",
      "except IOError:\n",
      "    \n",
      "    def convolve_per_proc(i):\n",
      "        return fftconvolve(img, kernels[i], 'same').astype(np.half)\n",
      "    \n",
      "    filtered = Parallel(n_jobs=16)(delayed(convolve_per_proc)(i) \n",
      "                            for i in range(n_kernel))\n",
      "\n",
      "    features = np.empty((im_height, im_width, n_kernel), dtype=np.half)\n",
      "    for i in range(n_kernel):\n",
      "        features[...,i] = filtered[i]\n",
      "\n",
      "    del filtered\n",
      "    \n",
      "#     save_array(features, 'features')\n",
      "\n",
      "n_feature = features.shape[-1]\n",
      "\n",
      "def crop_borders(data):\n",
      "    return data[max_kern_size/2:-max_kern_size/2, max_kern_size/2:-max_kern_size/2, ...]\n",
      "    \n",
      "# crop borders\n",
      "cropped_features = crop_borders(features)\n",
      "cropped_img = crop_borders(img)\n",
      "cropped_mask = crop_borders(mask)\n",
      "cropped_height, cropped_width = cropped_img.shape[:2]"
     ],
     "language": "python",
     "metadata": {},
     "outputs": []
    }
   ],
   "metadata": {}
  }
 ]
}