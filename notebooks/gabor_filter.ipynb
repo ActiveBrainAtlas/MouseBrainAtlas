{
 "metadata": {
  "name": "",
  "signature": "sha256:00821a0db01ff11873687275317f765cc755b1cb670e2b1e35a298a66a3822fb"
 },
 "nbformat": 3,
 "nbformat_minor": 0,
 "worksheets": [
  {
   "cells": [
    {
     "cell_type": "code",
     "collapsed": false,
     "input": [
      "%load_ext autoreload\n",
      "%autoreload 2"
     ],
     "language": "python",
     "metadata": {},
     "outputs": [],
     "prompt_number": 1
    },
    {
     "cell_type": "code",
     "collapsed": false,
     "input": [
      "from utilities import *\n",
      "\n",
      "if 'SSH_CONNECTION' in os.environ:\n",
      "    DATA_DIR = '/home/yuncong/DavidData'\n",
      "    REPO_DIR = '/home/yuncong/Brain'\n",
      "else:\n",
      "    DATA_DIR = '/home/yuncong/BrainLocal/DavidData_v4'\n",
      "    REPO_DIR = '/home/yuncong/BrainSaliencyDetection'\n",
      "\n",
      "dm = DataManager(DATA_DIR, REPO_DIR)\n",
      "\n",
      "# import argparse\n",
      "# import sys\n",
      "\n",
      "# parser = argparse.ArgumentParser(\n",
      "# formatter_class=argparse.RawDescriptionHelpFormatter,\n",
      "# description='Execute feature extraction pipeline',\n",
      "# epilog=\"\"\"\n",
      "# The following command processes image RS141_x5_0001.tif using blueNissl for both gabor parameters and segmentation parameters.\n",
      "# python %s RS141 x5 1 -g blueNissl -s blueNissl\n",
      "# \"\"\"%(os.path.basename(sys.argv[0]), ))\n",
      "\n",
      "# parser.add_argument(\"stack_name\", type=str, help=\"stack name\")\n",
      "# parser.add_argument(\"resolution\", type=str, help=\"resolution string\")\n",
      "# parser.add_argument(\"slice_ind\", type=int, help=\"slice index\")\n",
      "# parser.add_argument(\"-g\", \"--gabor_params_id\", type=str, help=\"gabor filter parameters id (default: %(default)s)\", default='blueNissl')\n",
      "# parser.add_argument(\"-s\", \"--segm_params_id\", type=str, help=\"segmentation parameters id (default: %(default)s)\", default='blueNissl')\n",
      "# args = parser.parse_args()\n",
      "\n",
      "class args:\n",
      "    stack_name = 'RS141'\n",
      "    resolution = 'x5'\n",
      "    slice_ind = 1\n",
      "    gabor_params_id = 'blueNisslWide'\n",
      "    segm_params_id = 'blueNissl'"
     ],
     "language": "python",
     "metadata": {},
     "outputs": [],
     "prompt_number": 11
    },
    {
     "cell_type": "code",
     "collapsed": false,
     "input": [
      "dm.set_image(args.stack_name, args.resolution, args.slice_ind)\n",
      "dm.set_gabor_params(gabor_params_id=args.gabor_params_id)\n",
      "dm.set_segmentation_params(segm_params_id=args.segm_params_id)"
     ],
     "language": "python",
     "metadata": {},
     "outputs": [],
     "prompt_number": 12
    },
    {
     "cell_type": "code",
     "collapsed": false,
     "input": [
      "# @timeit\n",
      "# def build_gabor_kernels(gabor_params):\n",
      "#     \"\"\"\n",
      "#     Generate the Gabor kernels\n",
      "#     \"\"\"\n",
      "\n",
      "from skimage.filter import gabor_kernel\n",
      "\n",
      "theta_interval = dm.gabor_params['theta_interval']\n",
      "n_angle = int(180/theta_interval)\n",
      "freq_step = dm.gabor_params['freq_step']\n",
      "freq_max = 1./dm.gabor_params['min_wavelen']\n",
      "freq_min = 1./dm.gabor_params['max_wavelen']\n",
      "bandwidth = dm.gabor_params['bandwidth']\n",
      "n_freq = int(np.log(freq_max/freq_min)/np.log(freq_step)) + 1\n",
      "frequencies = freq_max/freq_step**np.arange(n_freq)\n",
      "angles = np.arange(0, n_angle)*np.deg2rad(theta_interval)\n",
      "\n",
      "kernels = [gabor_kernel(f, theta=t, bandwidth=bandwidth) for f in frequencies for t in angles]\n",
      "kernels = map(np.real, kernels)\n",
      "\n",
      "n_kernel = len(kernels)\n",
      "\n",
      "print 'num. of kernels: %d' % (n_kernel)\n",
      "print 'frequencies:', frequencies\n",
      "print 'wavelength (pixels):', 1/frequencies\n",
      "\n",
      "max_kern_size = np.max([kern.shape[0] for kern in kernels])\n",
      "print 'max kernel matrix size:', max_kern_size"
     ],
     "language": "python",
     "metadata": {},
     "outputs": [
      {
       "output_type": "stream",
       "stream": "stdout",
       "text": [
        "num. of kernels: 99\n",
        "frequencies: [ 0.2         0.13333333  0.08888889  0.05925926  0.03950617  0.02633745\n",
        "  0.0175583   0.01170553  0.00780369]\n",
        "wavelength (pixels): [   5.            7.5          11.25         16.875        25.3125\n",
        "   37.96875      56.953125     85.4296875   128.14453125]\n",
        "max kernel matrix size: 243\n"
       ]
      }
     ],
     "prompt_number": 13
    },
    {
     "cell_type": "code",
     "collapsed": false,
     "input": [
      "biases = np.array([k.sum() for k in kernels])\n",
      "mean_bias = biases.mean()\n",
      "kernels = [k/k.sum()*mean_bias for k in kernels]\n",
      "\n",
      "dm.save_pipeline_result(kernels, 'kernels', 'pkl')"
     ],
     "language": "python",
     "metadata": {},
     "outputs": [
      {
       "output_type": "stream",
       "stream": "stdout",
       "text": [
        "saved /home/yuncong/DavidData/RS141/x5/0001/filterResults/RS141_x5_0001_gabor-blueNisslWide_kernels.pkl\n"
       ]
      }
     ],
     "prompt_number": 14
    },
    {
     "cell_type": "code",
     "collapsed": false,
     "input": [
      "# def gabor_filter():\n",
      "\n",
      "from joblib import Parallel, delayed\n",
      "from scipy.signal import fftconvolve\n",
      "\n",
      "try:\n",
      "    features = dm.load_pipeline_result('features', 'npy')\n",
      "    \n",
      "except Exception as e:\n",
      "\n",
      "    def convolve_per_proc(i):\n",
      "        return fftconvolve(dm.image, kernels[i], 'same').astype(np.half)\n",
      "\n",
      "    filtered = Parallel(n_jobs=16)(delayed(convolve_per_proc)(i) \n",
      "                            for i in range(n_kernel))\n",
      "\n",
      "    \n",
      "    features = np.empty((dm.image_height, dm.image_width, n_kernel), dtype=np.half)\n",
      "    for i in range(n_kernel):\n",
      "        features[...,i] = filtered[i]\n",
      "\n",
      "    del filtered\n",
      "\n",
      "    dm.save_pipeline_result(features, 'features', 'npy')\n",
      "\n",
      "n_feature = features.shape[-1]\n",
      "\n",
      "def crop_borders(data):\n",
      "    cropped_data = data[max_kern_size/2:-max_kern_size/2, max_kern_size/2:-max_kern_size/2, ...].copy()\n",
      "    return cropped_data\n",
      "\n",
      "# crop borders\n",
      "\n",
      "try:\n",
      "    cropped_features = dm.load_pipeline_result('cropFeatures', 'npy')\n",
      "except:\n",
      "    cropped_features = crop_borders(features)\n",
      "    dm.save_pipeline_result(cropped_features, 'cropFeatures', 'npy')\n",
      "\n",
      "try:\n",
      "    cropped_img = dm.load_pipeline_result('cropImg', 'tif')    \n",
      "except:\n",
      "    cropped_img = crop_borders(dm.image)\n",
      "    dm.save_pipeline_result(cropped_img, 'cropImg', 'tif')\n",
      "\n",
      "try:\n",
      "    cropped_mask = dm.load_pipeline_result('cropMask', 'npy')\n",
      "except:\n",
      "    cropped_mask = crop_borders(dm.mask)\n",
      "    dm.save_pipeline_result(cropped_mask, 'cropMask', 'npy')\n",
      "    dm.save_pipeline_result(cropped_mask, 'cropMask', 'tif')\n",
      "\n",
      "cropped_height, cropped_width = cropped_img.shape[:2]\n",
      "print cropped_height, cropped_width"
     ],
     "language": "python",
     "metadata": {},
     "outputs": [
      {
       "output_type": "stream",
       "stream": "stdout",
       "text": [
        "loaded /home/yuncong/DavidData/RS141/x5/0001/filterResults/RS141_x5_0001_gabor-blueNisslWide_features.npy\n",
        "loaded /home/yuncong/DavidData/RS141/x5/0001/filterResults/RS141_x5_0001_gabor-blueNisslWide_cropFeatures.npy"
       ]
      },
      {
       "output_type": "stream",
       "stream": "stdout",
       "text": [
        "\n",
        "loaded /home/yuncong/DavidData/RS141/x5/0001/filterResults/RS141_x5_0001_gabor-blueNisslWide_cropImg.tif"
       ]
      },
      {
       "output_type": "stream",
       "stream": "stdout",
       "text": [
        "\n",
        "loaded /home/yuncong/DavidData/RS141/x5/0001/filterResults/RS141_x5_0001_gabor-blueNisslWide_cropMask.npy\n",
        "2493 5597\n"
       ]
      }
     ],
     "prompt_number": 15
    },
    {
     "cell_type": "code",
     "collapsed": false,
     "input": [
      "# Over-segment the image into superpixels using SLIC (http://ivrg.epfl.ch/research/superpixels)\n",
      "\n",
      "from skimage.segmentation import slic, mark_boundaries\n",
      "from skimage.util import img_as_ubyte\n",
      "\n",
      "img_rgb = gray2rgb(dm.image)\n",
      "\n",
      "try:\n",
      "    segmentation = dm.load_pipeline_result('segmentation', 'npy')\n",
      "    \n",
      "except Exception as e:\n",
      "    segmentation = slic(img_rgb, n_segments=int(dm.segm_params['n_superpixels']), \n",
      "                        max_iter=10, \n",
      "                        compactness=float(dm.segm_params['slic_compactness']), \n",
      "                        sigma=float(dm.segm_params['slic_sigma']), \n",
      "                        enforce_connectivity=True)\n",
      "    print 'segmentation computed'\n",
      "    \n",
      "    dm.save_pipeline_result(segmentation.astype(np.int16), 'segmentation', 'npy')\n"
     ],
     "language": "python",
     "metadata": {},
     "outputs": [
      {
       "output_type": "stream",
       "stream": "stdout",
       "text": [
        "loaded /home/yuncong/DavidData/RS141/x5/0001/segmResults/RS141_x5_0001_segm-blueNissl_segmentation.npy\n"
       ]
      }
     ],
     "prompt_number": 16
    },
    {
     "cell_type": "code",
     "collapsed": false,
     "input": [
      "from skimage.segmentation import relabel_sequential\n",
      "\n",
      "try:\n",
      "    cropped_segmentation_relabeled = dm.load_pipeline_result('cropSegmentation', 'npy')\n",
      "except:\n",
      "    # segmentation starts from 0\n",
      "    cropped_segmentation = crop_borders(segmentation)\n",
      "    n_superpixels = len(np.unique(cropped_segmentation))\n",
      "    cropped_segmentation[~cropped_mask] = -1\n",
      "    cropped_segmentation_relabeled, fw, inv = relabel_sequential(cropped_segmentation + 1)\n",
      "\n",
      "    # make background label -1\n",
      "    cropped_segmentation_relabeled -= 1\n",
      "    dm.save_pipeline_result(cropped_segmentation_relabeled, 'cropSegmentation', 'npy')\n"
     ],
     "language": "python",
     "metadata": {},
     "outputs": [
      {
       "output_type": "stream",
       "stream": "stdout",
       "text": [
        "loaded /home/yuncong/DavidData/RS141/x5/0001/segmResults/RS141_x5_0001_gabor-blueNisslWide-segm-blueNissl_cropSegmentation.npy\n"
       ]
      }
     ],
     "prompt_number": 17
    },
    {
     "cell_type": "code",
     "collapsed": false,
     "input": [
      "sp_props = regionprops(cropped_segmentation_relabeled + 1, intensity_image=cropped_img, cache=True)\n",
      "\n",
      "def obtain_props_worker(i):\n",
      "    return sp_props[i].centroid, sp_props[i].area, sp_props[i].mean_intensity, sp_props[i].bbox\n",
      "\n",
      "r = Parallel(n_jobs=16)(delayed(obtain_props_worker)(i) for i in range(len(sp_props)))\n",
      "sp_centroids = np.array([s[0] for s in r])\n",
      "sp_areas = np.array([s[1] for s in r])\n",
      "sp_mean_intensity = np.array([s[2] for s in r])\n",
      "sp_bbox = np.array([s[3] for s in r])\n",
      "\n",
      "sp_properties = np.column_stack([sp_centroids, sp_areas, sp_mean_intensity, sp_bbox])\n",
      "\n",
      "dm.save_pipeline_result(sp_properties, 'cropSpProps', 'npy')\n",
      "\n",
      "n_superpixels = len(np.unique(cropped_segmentation_relabeled))\n",
      "\n",
      "img_superpixelized = mark_boundaries(gray2rgb(cropped_img), cropped_segmentation_relabeled)\n",
      "img_superpixelized_text = img_as_ubyte(img_superpixelized)\n",
      "\n",
      "# background label (-1) is not displayed\n",
      "for s in range(n_superpixels - 1):\n",
      "    img_superpixelized_text = cv2.putText(img_superpixelized_text, str(s), \n",
      "                      tuple(np.floor(sp_centroids[s][::-1]).astype(np.int)), \n",
      "                      cv2.FONT_HERSHEY_COMPLEX_SMALL,\n",
      "                      .5, ((255,0,255)), 1)\n",
      "\n",
      "dm.save_pipeline_result(img_superpixelized_text, 'cropSegmentation', 'tif')"
     ],
     "language": "python",
     "metadata": {},
     "outputs": [
      {
       "output_type": "stream",
       "stream": "stdout",
       "text": [
        "saved /home/yuncong/DavidData/RS141/x5/0001/segmResults/RS141_x5_0001_gabor-blueNisslWide-segm-blueNissl_cropSpProps.npy\n",
        "saved /home/yuncong/DavidData/RS141/x5/0001/segmResults/RS141_x5_0001_gabor-blueNisslWide-segm-blueNissl_cropSegmentation.tif"
       ]
      },
      {
       "output_type": "stream",
       "stream": "stdout",
       "text": [
        "\n"
       ]
      }
     ],
     "prompt_number": 18
    },
    {
     "cell_type": "code",
     "collapsed": false,
     "input": [
      "# Compute neighbor lists and connectivity matrix\n",
      "\n",
      "from skimage.morphology import disk\n",
      "from skimage.filter.rank import gradient\n",
      "# from scipy.sparse import coo_matrix\n",
      "\n",
      "try:\n",
      "    neighbors = dm.load_pipeline_result('neighbors', 'npy')\n",
      "\n",
      "except:\n",
      "\n",
      "    edge_map = gradient(cropped_segmentation_relabeled.astype(np.uint8), disk(3))\n",
      "    neighbors = [set() for i in range(n_superpixels)]\n",
      "\n",
      "    for y,x in zip(*np.nonzero(edge_map)):\n",
      "        neighbors[cropped_segmentation_relabeled[y,x]] |= set(cropped_segmentation_relabeled[y-2:y+2,x-2:x+2].ravel())\n",
      "\n",
      "    for i in range(n_superpixels):\n",
      "        neighbors[i] -= set([i])\n",
      "\n",
      "    dm.save_pipeline_result(neighbors, 'neighbors', 'npy')\n"
     ],
     "language": "python",
     "metadata": {},
     "outputs": [
      {
       "output_type": "stream",
       "stream": "stdout",
       "text": [
        "saved /home/yuncong/DavidData/RS141/x5/0002/segmResults/RS141_x5_0002_gabor-blueNisslWide-segm-blueNissl_neighbors.npy\n"
       ]
      }
     ],
     "prompt_number": 14
    },
    {
     "cell_type": "code",
     "collapsed": false,
     "input": [],
     "language": "python",
     "metadata": {},
     "outputs": []
    }
   ],
   "metadata": {}
  }
 ]
}