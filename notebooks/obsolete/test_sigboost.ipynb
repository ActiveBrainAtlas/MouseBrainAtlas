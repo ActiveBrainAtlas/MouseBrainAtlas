{
 "metadata": {
  "name": "",
  "signature": "sha256:62bdfc6bc003b189e551f044046f881a126a188d7302acb20045be34b590bc15"
 },
 "nbformat": 3,
 "nbformat_minor": 0,
 "worksheets": [
  {
   "cells": [
    {
     "cell_type": "code",
     "collapsed": false,
     "input": [
      "%load_ext autoreload\n",
      "%autoreload 2\n",
      "\n",
      "import sigboost_class\n",
      "import numpy as np\n",
      "import argparse, os, json, pprint\n",
      "\n",
      "if __name__ == '__main__':\n",
      "\n",
      "    class args:\n",
      "        param_id = 'nissl324'\n",
      "    #     img_file = '../ParthaData/PMD1305_region0_reduce2/PMD1305_region0_reduce2_0244.tif'\n",
      "        img_file = '../DavidData/RS141_x5/RS141_x5_0000.tif'\n",
      "        output_dir = '/oasis/scratch/csd181/yuncong/output'\n",
      "        params_dir = '/oasis/projects/nsf/csd181/yuncong/Brain/params'\n",
      "    \n",
      "#     parser = argparse.ArgumentParser(\n",
      "#     formatter_class=argparse.RawDescriptionHelpFormatter,\n",
      "#     description='Test SigBoost module',\n",
      "#     epilog=\"\"\"Example:\n",
      "#     python %s ../ParthaData/PMD1305_region0_reduce2/PMD1305_region0_reduce2_0244.tif nissl324\n",
      "#     \"\"\"%(os.path.basename(sys.argv[0]), ))\n",
      "\n",
      "#     parser.add_argument(\"img_file\", type=str, help=\"path to image file\")\n",
      "#     parser.add_argument(\"param_id\", type=str, help=\"parameter identification name\")\n",
      "#     parser.add_argument(\"-o\", \"--output_dir\", type=str, help=\"output directory (default: %(default)s)\", default='/oasis/scratch/csd181/yuncong/output')\n",
      "#     parser.add_argument(\"-p\", \"--params_dir\", type=str, help=\"directory containing csv parameter files %(default)s)\", default='/oasis/projects/nsf/csd181/yuncong/Brain/params')\n",
      "#     args = parser.parse_args()\n",
      "\n",
      "    params_dir = os.path.realpath(args.params_dir)\n",
      "    param_file = os.path.join(params_dir, 'param_%s.json'%args.param_id)\n",
      "    param_default_file = os.path.join(params_dir, 'param_default.json')\n",
      "    param = json.load(open(param_file, 'r'))\n",
      "    param_default = json.load(open(param_default_file, 'r'))\n",
      "\n",
      "    for k, v in param_default.iteritems():\n",
      "        if not isinstance(param[k], basestring):\n",
      "            if np.isnan(param[k]):\n",
      "                param[k] = v\n",
      "\n",
      "#     pprint.pprint(param)\n",
      "\n",
      "    img_file = os.path.realpath(args.img_file)\n",
      "    img_path, ext = os.path.splitext(img_file)\n",
      "    img_dir, img_name = os.path.split(img_path)\n",
      "    \n",
      "    output_dir = os.path.realpath(args.output_dir)\n",
      "\n",
      "    result_name = img_name + '_param_' + str(param['param_id'])\n",
      "    result_dir = os.path.join(output_dir, result_name)\n",
      "    if not os.path.exists(result_dir):\n",
      "        os.makedirs(result_dir)\n",
      "        \n",
      "    segmentation = np.load(os.path.join(result_dir, result_name + '_segmentation.npy'))\n",
      "    p = np.load(os.path.join(result_dir, result_name + '_sp_texton_hist_normalized.npy'))\n",
      "    q = np.load(os.path.join(result_dir, result_name + '_sp_dir_hist_normalized.npy'))\n",
      "        \n",
      "#     detector = sigboost_class.sigboost(param, segmentation, p, q, result_dir, bg_superpixels)\n",
      "#     detector.compute_all_clusters()\n",
      "#     detector.sigboost()\n",
      "        "
     ],
     "language": "python",
     "metadata": {},
     "outputs": [
      {
       "output_type": "stream",
       "stream": "stdout",
       "text": [
        "The autoreload extension is already loaded. To reload it, use:\n",
        "  %reload_ext autoreload\n"
       ]
      }
     ],
     "prompt_number": 8
    },
    {
     "cell_type": "code",
     "collapsed": false,
     "input": [
      "q"
     ],
     "language": "python",
     "metadata": {},
     "outputs": [
      {
       "metadata": {},
       "output_type": "pyout",
       "prompt_number": 11,
       "text": [
        "array([[ 0.08206274,  0.08217896,  0.08267342, ...,  0.0883339 ,\n",
        "         0.08253178,  0.0820953 ],\n",
        "       [ 0.08207141,  0.08214311,  0.08260394, ...,  0.08841444,\n",
        "         0.08260469,  0.08214103],\n",
        "       [ 0.08207203,  0.08213956,  0.08259839, ...,  0.08842385,\n",
        "         0.0826112 ,  0.08215013],\n",
        "       ..., \n",
        "       [ 0.08137588,  0.08138068,  0.08191245, ...,  0.08860664,\n",
        "         0.08245584,  0.08166023],\n",
        "       [ 0.0809212 ,  0.08106146,  0.08179973, ...,  0.08828338,\n",
        "         0.08200167,  0.08115757],\n",
        "       [ 0.08095985,  0.08070008,  0.08113186, ...,  0.0894229 ,\n",
        "         0.08303872,  0.08170552]])"
       ]
      }
     ],
     "prompt_number": 11
    }
   ],
   "metadata": {}
  }
 ]
}