{
 "cells": [
  {
   "cell_type": "code",
   "execution_count": 1,
   "metadata": {
    "collapsed": false
   },
   "outputs": [],
   "source": [
    "%reload_ext autoreload\n",
    "%autoreload 2\n",
    "\n",
    "import os\n",
    "import sys\n",
    "import time\n",
    "\n",
    "from utilities2015 import *\n",
    "\n",
    "from scipy.spatial.distance import cdist, pdist, squareform\n",
    "from scipy.cluster.hierarchy import average, fcluster, single, complete\n",
    "\n",
    "from joblib import Parallel, delayed\n",
    "\n",
    "from skimage.color import gray2rgb\n",
    "from skimage.measure import find_contours\n",
    "from skimage.util import img_as_float\n",
    "\n",
    "from networkx import floyd_warshall, Graph, connected_components, draw_networkx, k_clique_communities, find_cliques, from_numpy_matrix\n",
    "from itertools import product\n",
    "from collections import defaultdict\n",
    "\n",
    "import matplotlib.pyplot as plt\n",
    "%matplotlib inline\n",
    "\n",
    "from networkx import from_dict_of_lists, Graph, adjacency_matrix, dfs_postorder_nodes\n",
    "from networkx.algorithms import node_connected_component\n",
    "\n",
    "stack_name = 'MD593'"
   ]
  },
  {
   "cell_type": "code",
   "execution_count": 2,
   "metadata": {
    "collapsed": true
   },
   "outputs": [],
   "source": [
    "first_sec = 60\n",
    "last_sec = 150"
   ]
  },
  {
   "cell_type": "code",
   "execution_count": 4,
   "metadata": {
    "collapsed": false
   },
   "outputs": [],
   "source": [
    "dms = dict([(sec_ind, DataManager(stack='MD593', section=sec_ind, segm_params_id='tSLIC200', load_mask=False))\n",
    "            for sec_ind in range(first_sec, last_sec+1)])"
   ]
  },
  {
   "cell_type": "code",
   "execution_count": 5,
   "metadata": {
    "collapsed": false
   },
   "outputs": [],
   "source": [
    "G = Graph()\n",
    "\n",
    "for sec1 in range(first_sec, last_sec+1):\n",
    "    if sec1 < last_sec:\n",
    "        matchings = dms[sec1].load_pipeline_result('matchingsNext1')\n",
    "        for s,i,j in matchings:\n",
    "            G.add_edge((sec1,i),(sec1+1,j))\n",
    "\n",
    "    if sec1 < last_sec-1:\n",
    "        matchings = dms[sec1].load_pipeline_result('matchingsNext2')\n",
    "        for s,i,j in matchings:\n",
    "            G.add_edge((sec1,i),(sec1+2,j))\n",
    "    \n",
    "    if sec1 < last_sec-2:\n",
    "        matchings = dms[sec1].load_pipeline_result('matchingsNext3')\n",
    "        for s,i,j in matchings:\n",
    "            G.add_edge((sec1,i),(sec1+3,j))"
   ]
  },
  {
   "cell_type": "code",
   "execution_count": null,
   "metadata": {
    "collapsed": false
   },
   "outputs": [],
   "source": [
    "# G = Graph()\n",
    "\n",
    "# th = .2\n",
    "\n",
    "# for sec1 in range(0,29):\n",
    "#     dm = DataManager(generate_hierarchy=False, stack=stack_name, resol='x5', section=sec1)\n",
    "    \n",
    "#     D = dm.load_pipeline_result('DBoundaries%dWith%d'%(sec1, sec1+1), 'npy')\n",
    "#     relaxed_matches = get_relaxed_matches(D, th)\n",
    "    \n",
    "#     for i,j in relaxed_matches:\n",
    "#         G.add_edge((sec1,i),(sec1+1,j))\n",
    "\n",
    "#     if sec1 < 28:\n",
    "#         D = dm.load_pipeline_result('DBoundaries%dWith%d'%(sec1, sec1+2), 'npy')\n",
    "         \n",
    "#         relaxed_matches = get_relaxed_matches(D, th)\n",
    "        \n",
    "#         for i,j in relaxed_matches:\n",
    "#             G.add_edge((sec1,i),(sec1+2,j))\n",
    "    \n",
    "#     if sec1 < 27:\n",
    "#         D = dm.load_pipeline_result('DBoundaries%dWith%d'%(sec1, sec1+3), 'npy')\n",
    "        \n",
    "#         relaxed_matches = get_relaxed_matches(D, th)\n",
    "        \n",
    "#         for i,j in relaxed_matches:\n",
    "#             G.add_edge((sec1,i),(sec1+3,j))\n",
    "            "
   ]
  },
  {
   "cell_type": "code",
   "execution_count": 6,
   "metadata": {
    "collapsed": true
   },
   "outputs": [],
   "source": [
    "pos = {}\n",
    "for s,l in G.node:\n",
    "    pos[(s,l)] = (s,l)"
   ]
  },
  {
   "cell_type": "code",
   "execution_count": null,
   "metadata": {
    "collapsed": false
   },
   "outputs": [],
   "source": [
    "fig = plt.figure(figsize=(30,10));\n",
    "plt.axis('off');\n",
    "plt.title('Complete match graph');\n",
    "# draw_networkx(G, pos, node_size=10, with_labels=False, edgelist=[]);\n",
    "draw_networkx(G, pos, node_size=10, with_labels=False);"
   ]
  },
  {
   "cell_type": "code",
   "execution_count": 7,
   "metadata": {
    "collapsed": true
   },
   "outputs": [],
   "source": [
    "from scipy.cluster.hierarchy import average, fcluster, single, complete, weighted\n",
    "from scipy.spatial.distance import cdist, pdist, squareform\n",
    "\n",
    "def group_clusters(distance_matrix, dist_thresh = 0.1):\n",
    "\n",
    "    lk = single(squareform(distance_matrix))\n",
    "#     lk = average(squareform(distance_matrix))\n",
    "#     lk = complete(squareform(distance_matrix))\n",
    "\n",
    "    T = fcluster(lk, dist_thresh, criterion='distance')\n",
    "    \n",
    "    n_groups = len(set(T))    \n",
    "    groups = [None] * n_groups\n",
    "\n",
    "    for group_id in range(n_groups):\n",
    "        groups[group_id] = np.where(T == group_id+1)[0]\n",
    "        \n",
    "    return [g for g in groups if len(g) > 0]"
   ]
  },
  {
   "cell_type": "code",
   "execution_count": 8,
   "metadata": {
    "collapsed": false
   },
   "outputs": [],
   "source": [
    "def draw_group_containing_node(node, node_groups):\n",
    "        \n",
    "    group_lookup = defaultdict(set)\n",
    "    for gi, g in enumerate(node_groups):\n",
    "        for n in g:\n",
    "            group_lookup[n].add(gi)\n",
    "    \n",
    "    group_ind = list(group_lookup[node])[0]\n",
    "        \n",
    "    fig = plt.figure(figsize=(30,10));\n",
    "    plt.axis('off');\n",
    "\n",
    "    # draw_networkx(G, pos, node_size=10, with_labels=False)\n",
    "    # plt.savefig('/tmp/match_graph_relaxed.png', bbox_inches='tight')\n",
    "\n",
    "    # draw_networkx(G, pos, node_size=10, with_labels=False, edge_color=colors)\n",
    "\n",
    "    selected_edges = [(i,j) for i,j in G.edges_iter() \n",
    "                      if i in group_lookup and j in group_lookup and group_ind in group_lookup[i]\n",
    "                     and group_ind in group_lookup[j]]\n",
    "        \n",
    "#     selected_colors = [all_colors[group_lookup[i]%len(all_colors)] for i,j in G.edges_iter() \n",
    "#                        if i in group_lookup and j in group_lookup and group_lookup[i] == group_ind]\n",
    "    \n",
    "#     selected_nodes = set([i for e in selected_edges for i in e ]) | set(node_groups[group_ind])\n",
    "    selected_nodes = set([i for e in selected_edges for i in e ])\n",
    "    node_size = [50 if n in selected_nodes else 5 for n in G.nodes_iter()]\n",
    "\n",
    "    draw_networkx(G, pos, with_labels=False, edgelist=selected_edges, edge_color='r',\n",
    "                 node_size=node_size)\n",
    "    # plt.savefig('/tmp/clique_groups_relaxed.png', bbox_inches='tight')\n",
    "    \n",
    "    return sorted(list(selected_nodes))\n",
    "            "
   ]
  },
  {
   "cell_type": "code",
   "execution_count": null,
   "metadata": {
    "collapsed": false
   },
   "outputs": [],
   "source": [
    "node = (78, 15)\n",
    "draw_group_containing_node(node, [set(G.neighbors(node)) | {node}])"
   ]
  },
  {
   "cell_type": "code",
   "execution_count": null,
   "metadata": {
    "collapsed": false
   },
   "outputs": [],
   "source": [
    "node = (123, 25)\n",
    "draw_group_containing_node(node, [set(G.neighbors(node)) | {node}])"
   ]
  },
  {
   "cell_type": "code",
   "execution_count": null,
   "metadata": {
    "collapsed": false
   },
   "outputs": [],
   "source": [
    "for c in cliques:\n",
    "    if (123, 25) in c:\n",
    "        print c"
   ]
  },
  {
   "cell_type": "code",
   "execution_count": 9,
   "metadata": {
    "collapsed": false
   },
   "outputs": [],
   "source": [
    "# cliques = sorted([sorted(cl) for cl in find_cliques(G) if len(cl)>=3], key=len, reverse=True)\n",
    "# cliques = [set(cl)for cl in find_cliques(G) if len(cl) == 4]\n",
    "cliques = [set(cl)for cl in find_cliques(G) if len(cl) >= 3]\n",
    "overlap_mat = np.reshape([len(i & j) for i,j in product(cliques,cliques)], (len(cliques),len(cliques)))\n",
    "\n",
    "m = overlap_mat.max()\n",
    "d = m - overlap_mat\n",
    "np.fill_diagonal(d, 0)\n",
    "\n",
    "# node_groups = list(k_clique_communities(G, 4))\n",
    "# draw_group_containing_node(node, node_groups)\n",
    "\n",
    "overlap_thresh = 2\n",
    "node_groups = sorted([sorted(list(set(sum([list(cliques[i]) for i in g], [])))) \n",
    "               for g in group_clusters(d, m-overlap_thresh)], \n",
    "                     key=len, reverse=True)\n",
    "\n",
    "# h = draw_group_containing_node(node, node_groups)\n",
    "\n",
    "# overlap_thresh = 1\n",
    "# node_groups = sorted([sorted(list(set(sum([list(cliques[i]) for i in g], [])))) \n",
    "#                for g in group_clusters(d, m-overlap_thresh)], \n",
    "#                      key=len, reverse=True)\n",
    "\n",
    "# h = draw_group_containing_node(node, node_groups)"
   ]
  },
  {
   "cell_type": "code",
   "execution_count": 10,
   "metadata": {
    "collapsed": false
   },
   "outputs": [
    {
     "data": {
      "text/plain": [
       "[[(81, 5), (83, 6), (84, 27), (85, 6), (86, 6), (87, 20), (88, 3), (89, 5)],\n",
       " [(81, 3),\n",
       "  (82, 21),\n",
       "  (83, 22),\n",
       "  (83, 23),\n",
       "  (84, 39),\n",
       "  (85, 39),\n",
       "  (86, 29),\n",
       "  (87, 49)],\n",
       " [(142, 29),\n",
       "  (143, 35),\n",
       "  (144, 35),\n",
       "  (145, 36),\n",
       "  (146, 33),\n",
       "  (147, 64),\n",
       "  (148, 32),\n",
       "  (149, 96)],\n",
       " [(125, 1), (126, 2), (127, 17), (128, 5), (129, 5), (130, 7), (131, 5)],\n",
       " [(95, 6), (96, 0), (97, 36), (98, 13), (99, 13), (100, 7), (101, 9)],\n",
       " [(143, 25), (144, 37), (145, 11), (146, 9), (147, 27), (148, 5), (149, 48)],\n",
       " [(123, 53), (124, 25), (125, 32), (126, 31), (127, 34), (128, 52), (129, 61)],\n",
       " [(95, 13), (96, 49), (97, 58), (98, 27), (99, 40), (100, 40), (102, 119)],\n",
       " [(89, 34), (90, 1), (91, 26), (92, 51), (93, 32), (95, 76)],\n",
       " [(80, 63), (81, 33), (82, 54), (83, 55), (84, 72), (85, 50)],\n",
       " [(114, 2), (116, 10), (117, 10), (118, 8), (119, 35), (120, 23)],\n",
       " [(98, 35), (99, 57), (100, 19), (101, 94), (102, 22), (103, 23)],\n",
       " [(97, 27), (98, 4), (99, 3), (100, 21), (101, 1), (102, 6)],\n",
       " [(74, 38), (75, 83), (76, 41), (77, 60), (79, 63), (80, 35)],\n",
       " [(126, 75), (127, 43), (128, 56), (129, 74), (130, 40), (131, 45)],\n",
       " [(101, 121), (102, 69), (103, 37), (104, 69), (105, 69), (106, 48)],\n",
       " [(122, 87), (123, 49), (124, 38), (125, 51), (126, 30), (127, 65)],\n",
       " [(76, 62), (77, 31), (78, 41), (79, 47), (80, 7), (82, 5)],\n",
       " [(80, 62), (81, 58), (82, 61), (83, 56), (84, 67), (85, 34)],\n",
       " [(129, 4), (130, 3), (131, 10), (132, 30), (133, 2)],\n",
       " [(141, 7), (143, 8), (144, 16), (146, 53), (147, 75)],\n",
       " [(134, 2), (135, 9), (136, 12), (137, 23), (138, 52)],\n",
       " [(139, 9), (141, 3), (142, 8), (143, 44), (145, 21)],\n",
       " [(103, 124), (104, 127), (105, 104), (106, 134), (107, 122)],\n",
       " [(126, 55), (128, 59), (129, 62), (130, 62), (132, 55)],\n",
       " [(114, 87), (115, 52), (116, 87), (117, 57), (118, 63)],\n",
       " [(104, 150), (106, 75), (107, 157), (108, 122), (110, 117)],\n",
       " [(111, 36), (112, 38), (113, 18), (114, 25), (115, 54)],\n",
       " [(118, 95), (119, 83), (120, 98), (121, 87), (122, 15)],\n",
       " [(140, 8), (141, 25), (142, 4), (143, 21), (145, 8)],\n",
       " [(85, 35), (86, 8), (87, 16), (88, 35), (89, 25)],\n",
       " [(124, 35), (126, 7), (127, 6), (128, 21), (129, 15)],\n",
       " [(118, 0), (119, 3), (120, 0), (121, 2), (122, 12)],\n",
       " [(72, 77), (73, 77), (74, 64), (75, 57), (76, 34)],\n",
       " [(129, 68), (130, 22), (131, 42), (132, 23), (133, 24)],\n",
       " [(113, 103), (114, 103), (115, 53), (116, 115), (117, 127)],\n",
       " [(128, 10), (129, 1), (130, 0), (132, 1), (133, 13)],\n",
       " [(94, 75), (95, 103), (96, 93), (97, 100), (99, 78)],\n",
       " [(72, 55), (73, 67), (74, 27), (75, 34), (76, 62)],\n",
       " [(117, 48), (118, 59), (119, 38), (120, 30), (121, 42)],\n",
       " [(129, 43), (130, 18), (132, 31), (133, 10), (134, 27)],\n",
       " [(122, 16), (123, 24), (124, 15), (125, 12), (126, 11)],\n",
       " [(120, 114), (121, 31), (122, 23), (123, 35), (124, 14)],\n",
       " [(119, 90), (120, 109), (121, 82), (122, 122), (124, 55)],\n",
       " [(120, 67), (121, 51), (122, 45), (123, 13), (124, 25)],\n",
       " [(131, 20), (132, 18), (133, 33), (134, 18), (135, 58)],\n",
       " [(109, 82), (110, 93), (111, 115), (112, 53)],\n",
       " [(115, 64), (116, 49), (117, 101), (118, 90)],\n",
       " [(122, 42), (123, 9), (125, 17), (126, 19)],\n",
       " [(61, 23), (62, 19), (64, 2), (65, 23)],\n",
       " [(117, 2), (119, 21), (120, 29), (122, 2)],\n",
       " [(96, 42), (97, 43), (98, 32), (100, 49)],\n",
       " [(96, 70), (97, 82), (98, 29), (99, 21)],\n",
       " [(144, 1), (145, 1), (146, 16), (147, 0)],\n",
       " [(121, 88), (122, 117), (123, 85), (124, 84)],\n",
       " [(69, 14), (70, 41), (71, 93), (72, 27)],\n",
       " [(141, 12), (142, 20), (143, 15), (145, 5)],\n",
       " [(81, 15), (83, 9), (84, 61), (85, 14)],\n",
       " [(109, 108), (110, 90), (111, 61), (112, 85)],\n",
       " [(123, 15), (124, 6), (125, 0), (126, 10)],\n",
       " [(126, 27), (127, 29), (128, 29), (129, 27)],\n",
       " [(101, 111), (102, 105), (103, 50), (104, 85)],\n",
       " [(120, 8), (122, 14), (123, 23), (124, 17)],\n",
       " [(113, 72), (114, 69), (116, 11), (117, 20)],\n",
       " [(119, 42), (120, 17), (122, 24), (123, 7)],\n",
       " [(102, 20), (103, 8), (104, 126), (105, 107)],\n",
       " [(143, 22), (144, 25), (145, 12), (146, 51)],\n",
       " [(61, 56), (62, 80), (63, 19), (65, 92)],\n",
       " [(73, 33), (75, 13), (76, 4), (77, 30)],\n",
       " [(114, 44), (115, 48), (116, 18), (117, 77)],\n",
       " [(115, 19), (116, 69), (117, 99), (118, 78)],\n",
       " [(113, 113), (114, 114), (115, 91), (117, 136)],\n",
       " [(109, 33), (110, 4), (111, 35), (112, 2)],\n",
       " [(101, 119), (102, 127), (103, 128), (104, 90)],\n",
       " [(104, 17), (105, 6), (106, 11), (107, 3)],\n",
       " [(130, 59), (132, 64), (133, 45), (135, 38)],\n",
       " [(127, 20), (128, 23), (129, 49), (130, 59)],\n",
       " [(134, 41), (135, 39), (136, 9), (137, 30)],\n",
       " [(131, 0), (132, 29), (133, 1), (134, 35)],\n",
       " [(80, 20), (81, 30), (82, 13), (84, 13)],\n",
       " [(61, 28), (62, 33), (63, 36), (65, 8)],\n",
       " [(145, 73), (146, 89), (147, 54), (148, 84)],\n",
       " [(65, 37), (66, 17), (68, 18), (69, 107)],\n",
       " [(76, 33), (77, 15), (78, 49), (79, 62)],\n",
       " [(83, 50), (84, 63), (85, 41), (86, 54)],\n",
       " [(79, 7), (80, 22), (81, 13), (82, 24)],\n",
       " [(111, 89), (112, 107), (113, 100), (114, 98)],\n",
       " [(101, 75), (102, 112), (103, 119), (104, 116)],\n",
       " [(93, 43), (94, 17), (95, 18), (96, 4)],\n",
       " [(121, 66), (122, 55), (123, 84), (124, 46)],\n",
       " [(120, 28), (121, 42), (122, 32), (123, 64)],\n",
       " [(65, 49), (66, 97), (67, 95), (68, 56)],\n",
       " [(140, 23), (141, 70), (142, 29), (143, 41)],\n",
       " [(124, 23), (125, 59), (126, 57), (127, 49)],\n",
       " [(60, 9), (61, 4), (62, 14), (63, 33)],\n",
       " [(130, 28), (131, 60), (132, 68), (133, 71)],\n",
       " [(113, 29), (114, 28), (115, 41), (116, 100)],\n",
       " [(145, 42), (146, 21), (147, 43), (148, 55)],\n",
       " [(85, 25), (86, 11), (87, 0), (88, 4)],\n",
       " [(141, 42), (142, 25), (143, 4), (144, 15)],\n",
       " [(91, 42), (92, 15), (93, 49), (94, 20)],\n",
       " [(112, 93), (113, 102), (115, 71), (116, 85)],\n",
       " [(73, 56), (74, 81), (75, 65), (77, 61)],\n",
       " [(62, 75), (63, 93), (64, 79), (65, 96)],\n",
       " [(130, 58), (131, 21), (133, 59), (134, 34)],\n",
       " [(123, 50), (124, 67), (125, 28), (126, 52)],\n",
       " [(135, 52), (136, 68), (137, 58), (138, 30)],\n",
       " [(73, 4), (74, 12), (75, 4), (76, 2)],\n",
       " [(140, 10), (141, 23), (142, 5), (143, 30)],\n",
       " [(119, 94), (120, 113), (121, 102), (122, 114)],\n",
       " [(95, 76), (96, 34), (97, 63)],\n",
       " [(76, 60), (77, 20), (78, 56)],\n",
       " [(74, 19), (75, 36), (77, 20)],\n",
       " [(118, 90), (119, 37), (121, 74)],\n",
       " [(65, 23), (67, 5), (68, 2)],\n",
       " [(60, 0), (61, 23), (63, 24)],\n",
       " [(135, 17), (137, 60), (138, 35)],\n",
       " [(132, 36), (134, 28), (135, 17)],\n",
       " [(113, 4), (115, 9), (116, 10)],\n",
       " [(92, 58), (94, 79), (95, 104)],\n",
       " [(89, 57), (91, 68), (92, 58)],\n",
       " [(118, 94), (120, 89), (121, 88)],\n",
       " [(68, 19), (69, 14), (70, 30)],\n",
       " [(98, 86), (100, 91), (101, 50)],\n",
       " [(100, 91), (102, 43), (103, 41)],\n",
       " [(107, 84), (108, 81), (110, 90)],\n",
       " [(114, 38), (115, 33), (117, 73)],\n",
       " [(113, 49), (115, 33), (116, 59)],\n",
       " [(89, 12), (91, 48), (92, 23)],\n",
       " [(90, 22), (91, 48), (93, 10)],\n",
       " [(75, 64), (76, 22), (78, 33)],\n",
       " [(76, 22), (77, 14), (79, 12)],\n",
       " [(99, 80), (100, 87), (102, 127)],\n",
       " [(130, 40), (131, 64), (132, 67)],\n",
       " [(76, 21), (78, 15), (79, 16)],\n",
       " [(73, 2), (75, 22), (76, 21)],\n",
       " [(85, 41), (86, 56), (88, 58)],\n",
       " [(76, 30), (78, 7), (79, 7)],\n",
       " [(137, 25), (138, 51), (140, 42)],\n",
       " [(135, 42), (136, 51), (138, 51)],\n",
       " [(98, 67), (99, 83), (101, 97)],\n",
       " [(101, 97), (102, 44), (103, 48)],\n",
       " [(91, 9), (92, 34), (94, 17)],\n",
       " [(90, 8), (91, 9), (93, 18)],\n",
       " [(99, 78), (100, 30), (101, 73)],\n",
       " [(101, 73), (102, 116), (103, 114)],\n",
       " [(92, 85), (94, 75), (95, 51)],\n",
       " [(120, 30), (121, 66), (122, 65)],\n",
       " [(112, 99), (113, 24), (114, 29)],\n",
       " [(110, 73), (111, 111), (112, 99)],\n",
       " [(115, 36), (116, 36), (117, 98)],\n",
       " [(113, 70), (114, 112), (116, 36)],\n",
       " [(145, 26), (147, 18), (148, 57)],\n",
       " [(144, 58), (146, 73), (147, 18)],\n",
       " [(128, 76), (129, 76), (130, 28)],\n",
       " [(108, 119), (110, 88), (111, 24)],\n",
       " [(105, 72), (106, 112), (108, 119)],\n",
       " [(100, 26), (102, 71), (103, 54)],\n",
       " [(103, 54), (105, 74), (106, 129)],\n",
       " [(129, 61), (130, 47), (131, 30)],\n",
       " [(94, 20), (95, 35), (96, 23)],\n",
       " [(93, 33), (95, 13), (96, 45)],\n",
       " [(140, 38), (141, 28), (143, 0)],\n",
       " [(143, 0), (144, 19), (145, 28)],\n",
       " [(125, 28), (126, 22), (128, 31)],\n",
       " [(105, 47), (106, 102), (108, 101)],\n",
       " [(130, 46), (131, 27), (132, 41)],\n",
       " [(108, 13), (110, 52), (111, 77)],\n",
       " [(102, 94), (103, 49), (104, 145)],\n",
       " [(137, 12), (139, 15), (140, 25)],\n",
       " [(63, 63), (64, 90), (66, 80)],\n",
       " [(118, 45), (119, 36), (120, 27)],\n",
       " [(115, 60), (117, 106), (118, 4)],\n",
       " [(124, 50), (125, 34), (126, 61)],\n",
       " [(121, 96), (122, 105), (124, 92)],\n",
       " [(80, 26), (81, 6), (83, 12)],\n",
       " [(117, 70), (118, 65), (119, 72)],\n",
       " [(117, 95), (118, 103), (120, 81)],\n",
       " [(108, 86), (109, 78), (110, 61)],\n",
       " [(89, 50), (90, 46), (92, 43)],\n",
       " [(110, 25), (111, 23), (112, 6)],\n",
       " [(105, 8), (106, 46), (107, 34)],\n",
       " [(61, 53), (63, 64), (64, 30)],\n",
       " [(140, 17), (141, 34), (142, 15)],\n",
       " [(79, 3), (80, 5), (82, 4)],\n",
       " [(109, 15), (111, 20), (112, 15)],\n",
       " [(121, 89), (122, 100), (124, 74)],\n",
       " [(113, 5), (114, 5), (116, 41)],\n",
       " [(68, 12), (70, 77), (71, 66)],\n",
       " [(101, 84), (103, 80), (104, 128)],\n",
       " [(131, 36), (132, 16), (134, 26)],\n",
       " [(97, 2), (98, 40), (99, 8)],\n",
       " [(76, 59), (77, 45), (79, 35)],\n",
       " [(95, 38), (97, 75), (98, 46)],\n",
       " [(100, 99), (102, 75), (103, 81)],\n",
       " [(148, 80), (149, 99), (150, 111)],\n",
       " [(117, 90), (118, 61), (120, 58)],\n",
       " [(100, 96), (102, 27), (103, 45)],\n",
       " [(131, 2), (133, 12), (134, 10)],\n",
       " [(77, 2), (78, 10), (79, 2)],\n",
       " [(93, 19), (95, 2), (96, 26)],\n",
       " [(124, 40), (126, 56), (127, 28)],\n",
       " [(102, 117), (103, 122), (105, 120)],\n",
       " [(143, 52), (144, 36), (145, 32)],\n",
       " [(105, 113), (107, 63), (108, 57)],\n",
       " [(72, 75), (74, 34), (75, 51)],\n",
       " [(81, 55), (83, 45), (84, 68)],\n",
       " [(124, 36), (125, 52), (127, 63)],\n",
       " [(100, 104), (101, 82), (102, 130)],\n",
       " [(134, 13), (136, 4), (137, 26)],\n",
       " [(80, 45), (81, 50), (82, 60)],\n",
       " [(90, 26), (91, 51), (93, 37)],\n",
       " [(129, 11), (130, 15), (132, 24)],\n",
       " [(126, 5), (127, 25), (128, 15)],\n",
       " [(62, 89), (63, 90), (65, 29)],\n",
       " [(117, 21), (118, 60), (120, 61)],\n",
       " [(101, 56), (102, 24), (104, 66)],\n",
       " [(124, 42), (126, 28), (127, 61)],\n",
       " [(135, 45), (136, 66), (138, 19)],\n",
       " [(65, 40), (66, 62), (67, 46)],\n",
       " [(97, 14), (98, 6), (99, 18)],\n",
       " [(109, 104), (111, 60), (112, 91)],\n",
       " [(111, 42), (113, 96), (114, 76)],\n",
       " [(97, 83), (99, 90), (100, 85)],\n",
       " [(103, 123), (104, 141), (105, 119)],\n",
       " [(133, 3), (134, 23), (136, 0)],\n",
       " [(104, 107), (106, 62), (107, 19)],\n",
       " [(121, 95), (123, 56), (124, 87)],\n",
       " [(115, 81), (116, 84), (118, 82)],\n",
       " [(94, 82), (95, 96), (96, 92)],\n",
       " [(107, 135), (108, 107), (110, 124)],\n",
       " [(108, 131), (110, 141), (111, 117)],\n",
       " [(146, 59), (147, 29), (148, 59)],\n",
       " [(140, 62), (141, 36), (143, 62)],\n",
       " [(123, 34), (125, 57), (126, 77)],\n",
       " [(99, 91), (100, 111), (102, 80)],\n",
       " [(114, 90), (115, 75), (117, 96)],\n",
       " [(98, 47), (99, 5), (100, 3)],\n",
       " [(122, 26), (124, 12), (125, 10)],\n",
       " [(71, 78), (72, 66), (73, 17)],\n",
       " [(140, 35), (142, 63), (143, 19)],\n",
       " [(134, 60), (135, 22), (136, 65)],\n",
       " [(134, 45), (136, 52), (137, 28)],\n",
       " [(115, 1), (116, 0), (117, 35)],\n",
       " [(136, 35), (137, 15), (138, 45)],\n",
       " [(121, 76), (122, 71), (123, 94)],\n",
       " [(133, 36), (135, 46), (136, 24)],\n",
       " [(77, 54), (79, 26), (80, 4)],\n",
       " [(124, 45), (126, 6), (127, 38)],\n",
       " [(119, 32), (120, 11), (121, 8)],\n",
       " [(105, 64), (107, 44), (108, 92)],\n",
       " [(115, 18), (117, 64), (118, 18)],\n",
       " [(68, 41), (70, 55), (71, 74)],\n",
       " [(63, 28), (64, 62), (66, 53)],\n",
       " [(112, 7), (113, 61), (114, 39)],\n",
       " [(99, 43), (100, 50), (102, 49)],\n",
       " [(82, 40), (83, 53), (84, 71)],\n",
       " [(102, 87), (103, 106), (104, 62)],\n",
       " [(143, 38), (144, 65), (145, 37)],\n",
       " [(102, 81), (103, 82), (104, 117)],\n",
       " [(80, 49), (81, 40), (83, 44)],\n",
       " [(73, 55), (74, 39), (76, 49)],\n",
       " [(117, 4), (119, 0), (120, 1)],\n",
       " [(121, 85), (122, 25), (124, 82)],\n",
       " [(61, 59), (63, 42), (64, 48)],\n",
       " [(137, 19), (138, 20), (139, 37)],\n",
       " [(62, 64), (63, 52), (65, 71)],\n",
       " [(73, 50), (74, 77), (75, 93)],\n",
       " [(102, 60), (103, 46), (104, 63)],\n",
       " [(135, 35), (137, 52), (138, 63)],\n",
       " [(60, 49), (62, 62), (63, 62)],\n",
       " [(102, 107), (103, 101), (105, 110)],\n",
       " [(104, 94), (105, 96), (107, 64)],\n",
       " [(116, 114), (117, 118), (118, 99)],\n",
       " [(110, 110), (112, 124), (113, 115)],\n",
       " [(107, 75), (108, 121), (110, 78)],\n",
       " [(113, 0), (114, 0), (115, 26)],\n",
       " [(80, 55), (81, 47), (83, 21)],\n",
       " [(115, 90), (117, 131), (118, 109)],\n",
       " [(102, 10), (103, 29), (104, 6)],\n",
       " [(108, 80), (109, 10), (110, 16)],\n",
       " [(134, 53), (135, 4), (137, 56)],\n",
       " [(102, 70), (103, 93), (104, 136)],\n",
       " [(120, 90), (121, 75), (122, 58)],\n",
       " [(91, 23), (92, 5), (94, 0)],\n",
       " [(113, 19), (114, 22), (115, 5)],\n",
       " [(141, 8), (142, 31), (144, 27)],\n",
       " [(121, 90), (122, 119), (124, 88)],\n",
       " [(110, 40), (111, 27), (112, 50)],\n",
       " [(122, 121), (123, 86), (124, 81)],\n",
       " [(100, 8), (102, 73), (103, 75)],\n",
       " [(115, 17), (116, 8), (118, 1)],\n",
       " [(128, 3), (130, 17), (131, 4)],\n",
       " [(141, 63), (143, 58), (144, 63)],\n",
       " [(100, 73), (102, 34), (103, 35)],\n",
       " [(121, 52), (122, 84), (123, 74)],\n",
       " [(81, 22), (83, 19), (84, 34)],\n",
       " [(72, 113), (73, 71), (75, 73)],\n",
       " [(102, 93), (103, 87), (104, 130)],\n",
       " [(131, 46), (133, 30), (134, 56)],\n",
       " [(140, 4), (142, 47), (143, 36)],\n",
       " [(60, 78), (61, 80), (63, 76)],\n",
       " [(111, 109), (113, 112), (114, 99)],\n",
       " [(134, 39), (136, 37), (137, 46)],\n",
       " [(134, 14), (135, 10), (137, 5)],\n",
       " [(111, 116), (113, 79), (114, 113)],\n",
       " [(128, 49), (129, 72), (130, 61)],\n",
       " [(94, 60), (95, 4), (96, 22)],\n",
       " [(69, 100), (71, 75), (72, 24)],\n",
       " [(145, 3), (146, 15), (148, 20)],\n",
       " [(117, 113), (119, 57), (120, 62)],\n",
       " [(133, 32), (134, 25), (136, 2)],\n",
       " [(88, 40), (90, 25), (91, 47)],\n",
       " [(60, 23), (61, 26), (63, 43)],\n",
       " [(102, 48), (104, 89), (105, 57)],\n",
       " [(101, 31), (102, 18), (103, 26)],\n",
       " [(113, 75), (115, 69), (116, 101)],\n",
       " [(73, 48), (75, 25), (76, 13)],\n",
       " [(117, 5), (119, 23), (120, 3)],\n",
       " [(96, 77), (97, 93), (99, 74)],\n",
       " [(73, 70), (75, 85), (76, 53)],\n",
       " [(102, 124), (104, 109), (105, 125)],\n",
       " [(141, 26), (142, 14), (143, 10)],\n",
       " [(62, 93), (63, 82), (64, 86)],\n",
       " [(102, 79), (103, 72), (105, 59)],\n",
       " [(103, 89), (104, 55), (105, 20)],\n",
       " [(97, 112), (99, 84), (100, 106)],\n",
       " [(113, 40), (114, 71), (116, 35)],\n",
       " [(85, 55), (87, 58), (88, 45)],\n",
       " [(135, 28), (136, 20), (137, 11)],\n",
       " [(139, 8), (140, 29), (142, 19)],\n",
       " [(88, 52), (89, 2), (90, 52)],\n",
       " [(74, 60), (76, 67), (77, 56)],\n",
       " [(111, 11), (113, 39), (114, 4)],\n",
       " [(107, 166), (108, 109), (110, 126)],\n",
       " [(92, 96), (94, 43), (95, 59)],\n",
       " [(83, 1), (85, 19), (86, 1)],\n",
       " [(94, 8), (96, 20), (97, 88)],\n",
       " [(76, 20), (78, 8), (79, 68)],\n",
       " [(146, 74), (147, 40), (149, 51)],\n",
       " [(104, 30), (105, 2), (107, 2)],\n",
       " [(91, 45), (92, 17), (94, 76)],\n",
       " [(101, 20), (102, 15), (103, 15)],\n",
       " [(60, 92), (61, 35), (62, 46)],\n",
       " [(145, 14), (147, 66), (148, 86)],\n",
       " [(135, 59), (137, 59), (138, 53)],\n",
       " [(122, 70), (124, 58), (125, 44)],\n",
       " [(112, 56), (113, 77), (114, 50)],\n",
       " [(103, 125), (104, 70), (105, 123)],\n",
       " [(142, 45), (144, 41), (145, 53)],\n",
       " [(106, 63), (107, 137), (109, 53)],\n",
       " [(104, 87), (106, 98), (107, 149)],\n",
       " [(117, 108), (118, 89), (120, 105)],\n",
       " [(126, 23), (127, 27), (128, 32)],\n",
       " [(135, 34), (136, 18), (138, 31)],\n",
       " [(64, 75), (66, 83), (67, 51)],\n",
       " [(95, 15), (96, 13), (97, 12)],\n",
       " [(97, 90), (98, 77), (100, 51)],\n",
       " [(70, 93), (71, 89), (73, 64)],\n",
       " [(64, 49), (66, 94), (67, 52)],\n",
       " [(118, 96), (119, 86), (120, 26)],\n",
       " [(102, 118), (104, 119), (105, 100)],\n",
       " [(70, 97), (71, 80), (72, 89)],\n",
       " [(98, 97), (99, 79), (100, 101)],\n",
       " [(101, 15), (103, 12), (104, 121)],\n",
       " [(65, 18), (67, 107), (68, 73)],\n",
       " [(145, 25), (146, 38), (147, 24)],\n",
       " [(126, 65), (127, 70), (129, 56)],\n",
       " [(108, 132), (110, 136), (111, 103)],\n",
       " [(125, 2), (127, 24), (128, 69)],\n",
       " [(117, 72), (118, 87), (120, 88)],\n",
       " [(71, 71), (72, 39), (73, 58)],\n",
       " [(104, 84), (105, 82), (107, 112)],\n",
       " [(68, 59), (69, 98), (70, 94)],\n",
       " [(98, 39), (99, 9), (100, 17)],\n",
       " [(117, 116), (118, 64), (119, 66)],\n",
       " [(65, 13), (67, 20), (68, 31)],\n",
       " [(103, 67), (105, 45), (106, 83)],\n",
       " [(117, 1), (118, 2), (119, 9)],\n",
       " [(109, 88), (111, 55), (112, 82)],\n",
       " [(111, 108), (113, 105), (114, 109)],\n",
       " [(123, 87), (124, 71), (126, 76)],\n",
       " [(104, 28), (106, 95), (107, 50)],\n",
       " [(130, 6), (131, 37), (133, 22)]]"
      ]
     },
     "execution_count": 10,
     "metadata": {},
     "output_type": "execute_result"
    }
   ],
   "source": [
    "node_groups"
   ]
  },
  {
   "cell_type": "code",
   "execution_count": 11,
   "metadata": {
    "collapsed": false
   },
   "outputs": [
    {
     "data": {
      "image/png": "[encoded data removed]",
      "text/plain": [
       "<matplotlib.figure.Figure at 0x3321b50>"
      ]
     },
     "metadata": {},
     "output_type": "display_data"
    }
   ],
   "source": [
    "plt.hist([len(g) for g in node_groups if len(g) >= 2]);\n",
    "plt.xlabel('node group size');\n",
    "plt.show();"
   ]
  },
  {
   "cell_type": "code",
   "execution_count": null,
   "metadata": {
    "collapsed": false
   },
   "outputs": [],
   "source": [
    "section_contains[102]"
   ]
  },
  {
   "cell_type": "code",
   "execution_count": 12,
   "metadata": {
    "collapsed": true
   },
   "outputs": [],
   "source": [
    "# good_node_groups = [g for g in node_groups if len(g) >= 5]\n",
    "good_node_groups = node_groups\n",
    "\n",
    "from collections import defaultdict\n",
    "from operator import itemgetter\n",
    "\n",
    "section_contains = defaultdict(list)\n",
    "for gid, nodes in enumerate(good_node_groups):\n",
    "    for sec, lm_ind in nodes:\n",
    "        section_contains[sec].append((lm_ind, gid))\n",
    "    \n",
    "section_contains.default_factory= None"
   ]
  },
  {
   "cell_type": "code",
   "execution_count": 13,
   "metadata": {
    "collapsed": false
   },
   "outputs": [
    {
     "name": "stdout",
     "output_type": "stream",
     "text": [
      "saved /oasis/projects/nsf/csd395/yuncong/CSHL_data_results/MD593/0060/MD593_0060_lossless_gabor-blueNisslWide-segm-tSLIC200-vq-blueNissl_atlasLandmarkIndices.pkl\n",
      "saved /oasis/projects/nsf/csd395/yuncong/CSHL_data_results/MD593/0061/MD593_0061_lossless_gabor-blueNisslWide-segm-tSLIC200-vq-blueNissl_atlasLandmarkIndices.pkl\n",
      "saved /oasis/projects/nsf/csd395/yuncong/CSHL_data_results/MD593/0062/MD593_0062_lossless_gabor-blueNisslWide-segm-tSLIC200-vq-blueNissl_atlasLandmarkIndices.pkl\n",
      "saved /oasis/projects/nsf/csd395/yuncong/CSHL_data_results/MD593/0063/MD593_0063_lossless_gabor-blueNisslWide-segm-tSLIC200-vq-blueNissl_atlasLandmarkIndices.pkl\n",
      "saved /oasis/projects/nsf/csd395/yuncong/CSHL_data_results/MD593/0064/MD593_0064_lossless_gabor-blueNisslWide-segm-tSLIC200-vq-blueNissl_atlasLandmarkIndices.pkl\n",
      "saved /oasis/projects/nsf/csd395/yuncong/CSHL_data_results/MD593/0065/MD593_0065_lossless_gabor-blueNisslWide-segm-tSLIC200-vq-blueNissl_atlasLandmarkIndices.pkl\n",
      "saved /oasis/projects/nsf/csd395/yuncong/CSHL_data_results/MD593/0066/MD593_0066_lossless_gabor-blueNisslWide-segm-tSLIC200-vq-blueNissl_atlasLandmarkIndices.pkl\n",
      "saved /oasis/projects/nsf/csd395/yuncong/CSHL_data_results/MD593/0067/MD593_0067_lossless_gabor-blueNisslWide-segm-tSLIC200-vq-blueNissl_atlasLandmarkIndices.pkl\n",
      "saved /oasis/projects/nsf/csd395/yuncong/CSHL_data_results/MD593/0068/MD593_0068_lossless_gabor-blueNisslWide-segm-tSLIC200-vq-blueNissl_atlasLandmarkIndices.pkl\n",
      "saved /oasis/projects/nsf/csd395/yuncong/CSHL_data_results/MD593/0069/MD593_0069_lossless_gabor-blueNisslWide-segm-tSLIC200-vq-blueNissl_atlasLandmarkIndices.pkl\n",
      "saved /oasis/projects/nsf/csd395/yuncong/CSHL_data_results/MD593/0070/MD593_0070_lossless_gabor-blueNisslWide-segm-tSLIC200-vq-blueNissl_atlasLandmarkIndices.pkl\n",
      "saved /oasis/projects/nsf/csd395/yuncong/CSHL_data_results/MD593/0071/MD593_0071_lossless_gabor-blueNisslWide-segm-tSLIC200-vq-blueNissl_atlasLandmarkIndices.pkl\n",
      "saved /oasis/projects/nsf/csd395/yuncong/CSHL_data_results/MD593/0072/MD593_0072_lossless_gabor-blueNisslWide-segm-tSLIC200-vq-blueNissl_atlasLandmarkIndices.pkl\n",
      "saved /oasis/projects/nsf/csd395/yuncong/CSHL_data_results/MD593/0073/MD593_0073_lossless_gabor-blueNisslWide-segm-tSLIC200-vq-blueNissl_atlasLandmarkIndices.pkl\n",
      "saved /oasis/projects/nsf/csd395/yuncong/CSHL_data_results/MD593/0074/MD593_0074_lossless_gabor-blueNisslWide-segm-tSLIC200-vq-blueNissl_atlasLandmarkIndices.pkl\n",
      "saved /oasis/projects/nsf/csd395/yuncong/CSHL_data_results/MD593/0075/MD593_0075_lossless_gabor-blueNisslWide-segm-tSLIC200-vq-blueNissl_atlasLandmarkIndices.pkl\n",
      "saved /oasis/projects/nsf/csd395/yuncong/CSHL_data_results/MD593/0076/MD593_0076_lossless_gabor-blueNisslWide-segm-tSLIC200-vq-blueNissl_atlasLandmarkIndices.pkl\n",
      "saved /oasis/projects/nsf/csd395/yuncong/CSHL_data_results/MD593/0077/MD593_0077_lossless_gabor-blueNisslWide-segm-tSLIC200-vq-blueNissl_atlasLandmarkIndices.pkl\n",
      "saved /oasis/projects/nsf/csd395/yuncong/CSHL_data_results/MD593/0078/MD593_0078_lossless_gabor-blueNisslWide-segm-tSLIC200-vq-blueNissl_atlasLandmarkIndices.pkl\n",
      "saved /oasis/projects/nsf/csd395/yuncong/CSHL_data_results/MD593/0079/MD593_0079_lossless_gabor-blueNisslWide-segm-tSLIC200-vq-blueNissl_atlasLandmarkIndices.pkl\n",
      "saved /oasis/projects/nsf/csd395/yuncong/CSHL_data_results/MD593/0080/MD593_0080_lossless_gabor-blueNisslWide-segm-tSLIC200-vq-blueNissl_atlasLandmarkIndices.pkl\n",
      "saved /oasis/projects/nsf/csd395/yuncong/CSHL_data_results/MD593/0081/MD593_0081_lossless_gabor-blueNisslWide-segm-tSLIC200-vq-blueNissl_atlasLandmarkIndices.pkl\n",
      "saved /oasis/projects/nsf/csd395/yuncong/CSHL_data_results/MD593/0082/MD593_0082_lossless_gabor-blueNisslWide-segm-tSLIC200-vq-blueNissl_atlasLandmarkIndices.pkl\n",
      "saved /oasis/projects/nsf/csd395/yuncong/CSHL_data_results/MD593/0083/MD593_0083_lossless_gabor-blueNisslWide-segm-tSLIC200-vq-blueNissl_atlasLandmarkIndices.pkl\n",
      "saved /oasis/projects/nsf/csd395/yuncong/CSHL_data_results/MD593/0084/MD593_0084_lossless_gabor-blueNisslWide-segm-tSLIC200-vq-blueNissl_atlasLandmarkIndices.pkl\n",
      "saved /oasis/projects/nsf/csd395/yuncong/CSHL_data_results/MD593/0085/MD593_0085_lossless_gabor-blueNisslWide-segm-tSLIC200-vq-blueNissl_atlasLandmarkIndices.pkl\n",
      "saved /oasis/projects/nsf/csd395/yuncong/CSHL_data_results/MD593/0086/MD593_0086_lossless_gabor-blueNisslWide-segm-tSLIC200-vq-blueNissl_atlasLandmarkIndices.pkl\n",
      "saved /oasis/projects/nsf/csd395/yuncong/CSHL_data_results/MD593/0087/MD593_0087_lossless_gabor-blueNisslWide-segm-tSLIC200-vq-blueNissl_atlasLandmarkIndices.pkl\n",
      "saved /oasis/projects/nsf/csd395/yuncong/CSHL_data_results/MD593/0088/MD593_0088_lossless_gabor-blueNisslWide-segm-tSLIC200-vq-blueNissl_atlasLandmarkIndices.pkl\n",
      "saved /oasis/projects/nsf/csd395/yuncong/CSHL_data_results/MD593/0089/MD593_0089_lossless_gabor-blueNisslWide-segm-tSLIC200-vq-blueNissl_atlasLandmarkIndices.pkl\n",
      "saved /oasis/projects/nsf/csd395/yuncong/CSHL_data_results/MD593/0090/MD593_0090_lossless_gabor-blueNisslWide-segm-tSLIC200-vq-blueNissl_atlasLandmarkIndices.pkl\n",
      "saved /oasis/projects/nsf/csd395/yuncong/CSHL_data_results/MD593/0091/MD593_0091_lossless_gabor-blueNisslWide-segm-tSLIC200-vq-blueNissl_atlasLandmarkIndices.pkl\n",
      "saved /oasis/projects/nsf/csd395/yuncong/CSHL_data_results/MD593/0092/MD593_0092_lossless_gabor-blueNisslWide-segm-tSLIC200-vq-blueNissl_atlasLandmarkIndices.pkl\n",
      "saved /oasis/projects/nsf/csd395/yuncong/CSHL_data_results/MD593/0093/MD593_0093_lossless_gabor-blueNisslWide-segm-tSLIC200-vq-blueNissl_atlasLandmarkIndices.pkl\n",
      "saved /oasis/projects/nsf/csd395/yuncong/CSHL_data_results/MD593/0094/MD593_0094_lossless_gabor-blueNisslWide-segm-tSLIC200-vq-blueNissl_atlasLandmarkIndices.pkl\n",
      "saved /oasis/projects/nsf/csd395/yuncong/CSHL_data_results/MD593/0095/MD593_0095_lossless_gabor-blueNisslWide-segm-tSLIC200-vq-blueNissl_atlasLandmarkIndices.pkl\n",
      "saved /oasis/projects/nsf/csd395/yuncong/CSHL_data_results/MD593/0096/MD593_0096_lossless_gabor-blueNisslWide-segm-tSLIC200-vq-blueNissl_atlasLandmarkIndices.pkl\n",
      "saved /oasis/projects/nsf/csd395/yuncong/CSHL_data_results/MD593/0097/MD593_0097_lossless_gabor-blueNisslWide-segm-tSLIC200-vq-blueNissl_atlasLandmarkIndices.pkl\n",
      "saved /oasis/projects/nsf/csd395/yuncong/CSHL_data_results/MD593/0098/MD593_0098_lossless_gabor-blueNisslWide-segm-tSLIC200-vq-blueNissl_atlasLandmarkIndices.pkl\n",
      "saved /oasis/projects/nsf/csd395/yuncong/CSHL_data_results/MD593/0099/MD593_0099_lossless_gabor-blueNisslWide-segm-tSLIC200-vq-blueNissl_atlasLandmarkIndices.pkl\n",
      "saved /oasis/projects/nsf/csd395/yuncong/CSHL_data_results/MD593/0100/MD593_0100_lossless_gabor-blueNisslWide-segm-tSLIC200-vq-blueNissl_atlasLandmarkIndices.pkl\n",
      "saved /oasis/projects/nsf/csd395/yuncong/CSHL_data_results/MD593/0101/MD593_0101_lossless_gabor-blueNisslWide-segm-tSLIC200-vq-blueNissl_atlasLandmarkIndices.pkl\n",
      "saved /oasis/projects/nsf/csd395/yuncong/CSHL_data_results/MD593/0102/MD593_0102_lossless_gabor-blueNisslWide-segm-tSLIC200-vq-blueNissl_atlasLandmarkIndices.pkl\n",
      "saved /oasis/projects/nsf/csd395/yuncong/CSHL_data_results/MD593/0103/MD593_0103_lossless_gabor-blueNisslWide-segm-tSLIC200-vq-blueNissl_atlasLandmarkIndices.pkl\n",
      "saved /oasis/projects/nsf/csd395/yuncong/CSHL_data_results/MD593/0104/MD593_0104_lossless_gabor-blueNisslWide-segm-tSLIC200-vq-blueNissl_atlasLandmarkIndices.pkl\n",
      "saved /oasis/projects/nsf/csd395/yuncong/CSHL_data_results/MD593/0105/MD593_0105_lossless_gabor-blueNisslWide-segm-tSLIC200-vq-blueNissl_atlasLandmarkIndices.pkl\n",
      "saved /oasis/projects/nsf/csd395/yuncong/CSHL_data_results/MD593/0106/MD593_0106_lossless_gabor-blueNisslWide-segm-tSLIC200-vq-blueNissl_atlasLandmarkIndices.pkl\n",
      "saved /oasis/projects/nsf/csd395/yuncong/CSHL_data_results/MD593/0107/MD593_0107_lossless_gabor-blueNisslWide-segm-tSLIC200-vq-blueNissl_atlasLandmarkIndices.pkl\n",
      "saved /oasis/projects/nsf/csd395/yuncong/CSHL_data_results/MD593/0108/MD593_0108_lossless_gabor-blueNisslWide-segm-tSLIC200-vq-blueNissl_atlasLandmarkIndices.pkl\n",
      "saved /oasis/projects/nsf/csd395/yuncong/CSHL_data_results/MD593/0109/MD593_0109_lossless_gabor-blueNisslWide-segm-tSLIC200-vq-blueNissl_atlasLandmarkIndices.pkl\n",
      "saved /oasis/projects/nsf/csd395/yuncong/CSHL_data_results/MD593/0110/MD593_0110_lossless_gabor-blueNisslWide-segm-tSLIC200-vq-blueNissl_atlasLandmarkIndices.pkl\n",
      "saved /oasis/projects/nsf/csd395/yuncong/CSHL_data_results/MD593/0111/MD593_0111_lossless_gabor-blueNisslWide-segm-tSLIC200-vq-blueNissl_atlasLandmarkIndices.pkl\n",
      "saved /oasis/projects/nsf/csd395/yuncong/CSHL_data_results/MD593/0112/MD593_0112_lossless_gabor-blueNisslWide-segm-tSLIC200-vq-blueNissl_atlasLandmarkIndices.pkl\n",
      "saved /oasis/projects/nsf/csd395/yuncong/CSHL_data_results/MD593/0113/MD593_0113_lossless_gabor-blueNisslWide-segm-tSLIC200-vq-blueNissl_atlasLandmarkIndices.pkl\n",
      "saved /oasis/projects/nsf/csd395/yuncong/CSHL_data_results/MD593/0114/MD593_0114_lossless_gabor-blueNisslWide-segm-tSLIC200-vq-blueNissl_atlasLandmarkIndices.pkl\n",
      "saved /oasis/projects/nsf/csd395/yuncong/CSHL_data_results/MD593/0115/MD593_0115_lossless_gabor-blueNisslWide-segm-tSLIC200-vq-blueNissl_atlasLandmarkIndices.pkl\n",
      "saved /oasis/projects/nsf/csd395/yuncong/CSHL_data_results/MD593/0116/MD593_0116_lossless_gabor-blueNisslWide-segm-tSLIC200-vq-blueNissl_atlasLandmarkIndices.pkl\n",
      "saved /oasis/projects/nsf/csd395/yuncong/CSHL_data_results/MD593/0117/MD593_0117_lossless_gabor-blueNisslWide-segm-tSLIC200-vq-blueNissl_atlasLandmarkIndices.pkl\n",
      "saved /oasis/projects/nsf/csd395/yuncong/CSHL_data_results/MD593/0118/MD593_0118_lossless_gabor-blueNisslWide-segm-tSLIC200-vq-blueNissl_atlasLandmarkIndices.pkl\n",
      "saved /oasis/projects/nsf/csd395/yuncong/CSHL_data_results/MD593/0119/MD593_0119_lossless_gabor-blueNisslWide-segm-tSLIC200-vq-blueNissl_atlasLandmarkIndices.pkl\n",
      "saved /oasis/projects/nsf/csd395/yuncong/CSHL_data_results/MD593/0120/MD593_0120_lossless_gabor-blueNisslWide-segm-tSLIC200-vq-blueNissl_atlasLandmarkIndices.pkl\n",
      "saved /oasis/projects/nsf/csd395/yuncong/CSHL_data_results/MD593/0121/MD593_0121_lossless_gabor-blueNisslWide-segm-tSLIC200-vq-blueNissl_atlasLandmarkIndices.pkl\n",
      "saved /oasis/projects/nsf/csd395/yuncong/CSHL_data_results/MD593/0122/MD593_0122_lossless_gabor-blueNisslWide-segm-tSLIC200-vq-blueNissl_atlasLandmarkIndices.pkl\n",
      "saved /oasis/projects/nsf/csd395/yuncong/CSHL_data_results/MD593/0123/MD593_0123_lossless_gabor-blueNisslWide-segm-tSLIC200-vq-blueNissl_atlasLandmarkIndices.pkl\n",
      "saved /oasis/projects/nsf/csd395/yuncong/CSHL_data_results/MD593/0124/MD593_0124_lossless_gabor-blueNisslWide-segm-tSLIC200-vq-blueNissl_atlasLandmarkIndices.pkl\n",
      "saved /oasis/projects/nsf/csd395/yuncong/CSHL_data_results/MD593/0125/MD593_0125_lossless_gabor-blueNisslWide-segm-tSLIC200-vq-blueNissl_atlasLandmarkIndices.pkl\n",
      "saved /oasis/projects/nsf/csd395/yuncong/CSHL_data_results/MD593/0126/MD593_0126_lossless_gabor-blueNisslWide-segm-tSLIC200-vq-blueNissl_atlasLandmarkIndices.pkl\n",
      "saved /oasis/projects/nsf/csd395/yuncong/CSHL_data_results/MD593/0127/MD593_0127_lossless_gabor-blueNisslWide-segm-tSLIC200-vq-blueNissl_atlasLandmarkIndices.pkl\n",
      "saved /oasis/projects/nsf/csd395/yuncong/CSHL_data_results/MD593/0128/MD593_0128_lossless_gabor-blueNisslWide-segm-tSLIC200-vq-blueNissl_atlasLandmarkIndices.pkl\n",
      "saved /oasis/projects/nsf/csd395/yuncong/CSHL_data_results/MD593/0129/MD593_0129_lossless_gabor-blueNisslWide-segm-tSLIC200-vq-blueNissl_atlasLandmarkIndices.pkl\n",
      "saved /oasis/projects/nsf/csd395/yuncong/CSHL_data_results/MD593/0130/MD593_0130_lossless_gabor-blueNisslWide-segm-tSLIC200-vq-blueNissl_atlasLandmarkIndices.pkl\n",
      "saved /oasis/projects/nsf/csd395/yuncong/CSHL_data_results/MD593/0131/MD593_0131_lossless_gabor-blueNisslWide-segm-tSLIC200-vq-blueNissl_atlasLandmarkIndices.pkl\n",
      "saved /oasis/projects/nsf/csd395/yuncong/CSHL_data_results/MD593/0132/MD593_0132_lossless_gabor-blueNisslWide-segm-tSLIC200-vq-blueNissl_atlasLandmarkIndices.pkl\n",
      "saved /oasis/projects/nsf/csd395/yuncong/CSHL_data_results/MD593/0133/MD593_0133_lossless_gabor-blueNisslWide-segm-tSLIC200-vq-blueNissl_atlasLandmarkIndices.pkl\n",
      "saved /oasis/projects/nsf/csd395/yuncong/CSHL_data_results/MD593/0134/MD593_0134_lossless_gabor-blueNisslWide-segm-tSLIC200-vq-blueNissl_atlasLandmarkIndices.pkl\n",
      "saved /oasis/projects/nsf/csd395/yuncong/CSHL_data_results/MD593/0135/MD593_0135_lossless_gabor-blueNisslWide-segm-tSLIC200-vq-blueNissl_atlasLandmarkIndices.pkl\n",
      "saved /oasis/projects/nsf/csd395/yuncong/CSHL_data_results/MD593/0136/MD593_0136_lossless_gabor-blueNisslWide-segm-tSLIC200-vq-blueNissl_atlasLandmarkIndices.pkl\n",
      "saved /oasis/projects/nsf/csd395/yuncong/CSHL_data_results/MD593/0137/MD593_0137_lossless_gabor-blueNisslWide-segm-tSLIC200-vq-blueNissl_atlasLandmarkIndices.pkl\n",
      "saved /oasis/projects/nsf/csd395/yuncong/CSHL_data_results/MD593/0138/MD593_0138_lossless_gabor-blueNisslWide-segm-tSLIC200-vq-blueNissl_atlasLandmarkIndices.pkl\n",
      "saved /oasis/projects/nsf/csd395/yuncong/CSHL_data_results/MD593/0139/MD593_0139_lossless_gabor-blueNisslWide-segm-tSLIC200-vq-blueNissl_atlasLandmarkIndices.pkl\n",
      "saved /oasis/projects/nsf/csd395/yuncong/CSHL_data_results/MD593/0140/MD593_0140_lossless_gabor-blueNisslWide-segm-tSLIC200-vq-blueNissl_atlasLandmarkIndices.pkl\n",
      "saved /oasis/projects/nsf/csd395/yuncong/CSHL_data_results/MD593/0141/MD593_0141_lossless_gabor-blueNisslWide-segm-tSLIC200-vq-blueNissl_atlasLandmarkIndices.pkl\n",
      "saved /oasis/projects/nsf/csd395/yuncong/CSHL_data_results/MD593/0142/MD593_0142_lossless_gabor-blueNisslWide-segm-tSLIC200-vq-blueNissl_atlasLandmarkIndices.pkl\n",
      "saved /oasis/projects/nsf/csd395/yuncong/CSHL_data_results/MD593/0143/MD593_0143_lossless_gabor-blueNisslWide-segm-tSLIC200-vq-blueNissl_atlasLandmarkIndices.pkl\n",
      "saved /oasis/projects/nsf/csd395/yuncong/CSHL_data_results/MD593/0144/MD593_0144_lossless_gabor-blueNisslWide-segm-tSLIC200-vq-blueNissl_atlasLandmarkIndices.pkl\n",
      "saved /oasis/projects/nsf/csd395/yuncong/CSHL_data_results/MD593/0145/MD593_0145_lossless_gabor-blueNisslWide-segm-tSLIC200-vq-blueNissl_atlasLandmarkIndices.pkl\n",
      "saved /oasis/projects/nsf/csd395/yuncong/CSHL_data_results/MD593/0146/MD593_0146_lossless_gabor-blueNisslWide-segm-tSLIC200-vq-blueNissl_atlasLandmarkIndices.pkl\n",
      "saved /oasis/projects/nsf/csd395/yuncong/CSHL_data_results/MD593/0147/MD593_0147_lossless_gabor-blueNisslWide-segm-tSLIC200-vq-blueNissl_atlasLandmarkIndices.pkl\n",
      "saved /oasis/projects/nsf/csd395/yuncong/CSHL_data_results/MD593/0148/MD593_0148_lossless_gabor-blueNisslWide-segm-tSLIC200-vq-blueNissl_atlasLandmarkIndices.pkl\n",
      "saved /oasis/projects/nsf/csd395/yuncong/CSHL_data_results/MD593/0149/MD593_0149_lossless_gabor-blueNisslWide-segm-tSLIC200-vq-blueNissl_atlasLandmarkIndices.pkl\n",
      "saved /oasis/projects/nsf/csd395/yuncong/CSHL_data_results/MD593/0150/MD593_0150_lossless_gabor-blueNisslWide-segm-tSLIC200-vq-blueNissl_atlasLandmarkIndices.pkl\n"
     ]
    }
   ],
   "source": [
    "for sec in dms.keys():\n",
    "    if sec in section_contains:\n",
    "        dms[sec].save_pipeline_result(section_contains[sec], 'atlasLandmarkIndices')\n",
    "    else:\n",
    "        dms[sec].save_pipeline_result([], 'atlasLandmarkIndices')"
   ]
  },
  {
   "cell_type": "code",
   "execution_count": null,
   "metadata": {
    "collapsed": true
   },
   "outputs": [],
   "source": [
    "# dedges_allsecs = dict([(sec, map(itemgetter(0), dm.load_pipeline_result('boundaryModels'))) \n",
    "#                    for sec, dm in dms.iteritems()])"
   ]
  },
  {
   "cell_type": "code",
   "execution_count": null,
   "metadata": {
    "collapsed": false,
    "scrolled": true
   },
   "outputs": [],
   "source": [
    "# def generate_atlas_visualization(sec, bnds):\n",
    "#     '''\n",
    "#     e.g. tpl = {section#:[(boundary#, landmark#),...], ...}\n",
    "#     '''\n",
    "#        print sec, bnds\n",
    "#     dm = dms[sec]\n",
    "#     dedges_alllms = dedges_allsecs[sec]\n",
    "#     viz = dm.visualize_edge_sets([dedges_alllms[lm_ind] for lm_ind, group_ind in bnds], \n",
    "#                                  show_set_index=True,\n",
    "#                                  labels=[str(group_ind) for lm_ind, group_ind in bnds],\n",
    "#                                 bg='originalImage')\n",
    "#     dm.save_pipeline_result(viz, 'atlasViz')\n",
    "\n",
    "# Parallel(n_jobs=8)(delayed(generate_atlas_visualization)(sec, bnds) for sec, bnds in section_contains.iteritems())\n",
    "\n",
    "for sec, bnds in section_contains.iteritems():\n",
    "    t = time.time()\n",
    "    generate_atlas_visualization(sec, bnds)\n",
    "    print time.time() - t"
   ]
  },
  {
   "cell_type": "code",
   "execution_count": null,
   "metadata": {
    "collapsed": true
   },
   "outputs": [],
   "source": []
  },
  {
   "cell_type": "code",
   "execution_count": null,
   "metadata": {
    "collapsed": true
   },
   "outputs": [],
   "source": [
    "from skimage.util import pad\n",
    "\n",
    "sys.path.append('/home/yuncong/project/opencv-2.4.9/release/lib/python2.7/site-packages')\n",
    "import cv2\n",
    "\n",
    "def visualize_landmark_multiple_sections2(tpl, text=False):\n",
    "    '''\n",
    "    e.g. tpl = [(3,1),(4,2)]\n",
    "    '''\n",
    "    \n",
    "    viss = []\n",
    "    for sec, bnd in tpl: \n",
    "        b_models = dms[sec].load_pipeline_result('boundaryModels')\n",
    "        dedges = b_models[bnd][0]\n",
    "        v = dms[sec].visualize_edge_set(dedges, bg='originalImage')\n",
    "        \n",
    "#         v = dm.load_pipeline_result('boundary%02d'%bnd, 'jpg')\n",
    "        if text:\n",
    "            cv2.putText(v, '%d,%d'%(sec,bnd), tuple([300,300]), cv2.FONT_HERSHEY_COMPLEX, 10, (0,0,0), 5)\n",
    "        viss.append(v)\n",
    "    \n",
    "    hws = np.array([v.shape[:2] for v in viss])\n",
    "    hmax, wmax = np.max(hws, axis=0)\n",
    "    top_margins = [int((hmax - h)/2) for h,w in hws]\n",
    "    bottom_margins = [ hmax - h - lm for (h,w), lm in zip(hws, top_margins)]\n",
    "    \n",
    "    viss_padded = []\n",
    "    for vis, lm, rm in zip(viss, top_margins, bottom_margins):\n",
    "        viss_padded.append(pad(vis, ((lm,rm),(0,0),(0,0)), 'constant', constant_values=255))\n",
    "        \n",
    "    vis_stacked = np.hstack(viss_padded)\n",
    "    return vis_stacked"
   ]
  },
  {
   "cell_type": "code",
   "execution_count": null,
   "metadata": {
    "collapsed": true
   },
   "outputs": [],
   "source": [
    "def rigid_transform_from_pairs(X,Y):\n",
    "    '''\n",
    "    X, Y are n-by-2 matrices\n",
    "    Reference: http://nghiaho.com/?page_id=671\n",
    "    '''\n",
    "\n",
    "    n = X.shape[0]\n",
    "    assert X.shape[0] == Y.shape[0], 'two point sets have different size'\n",
    "    assert n >= 2, 'rgiid transform estimate needs at least two points'\n",
    "    \n",
    "    X = X.T\n",
    "    Y = Y.T\n",
    "    \n",
    "    Xcentroid = X.mean(axis=1)\n",
    "    Ycentroid = Y.mean(axis=1)\n",
    "    \n",
    "    Xcentered = X - Xcentroid[:, np.newaxis]\n",
    "    Ycentered = Y - Ycentroid[:, np.newaxis]\n",
    "    \n",
    "    U, S, V = np.linalg.svd(np.dot(Xcentered, Ycentered.T))\n",
    "    R = np.dot(V, U.T)\n",
    "    d = np.linalg.det(R)\n",
    "    if d < 0:\n",
    "        R[1] *= -1\n",
    "    angle = np.arctan2(R[1,0], R[0,0])\n",
    "    t = Ycentroid - np.dot(R, Xcentroid)\n",
    "    \n",
    "    T = np.eye(3)\n",
    "    T[:2, :2] = R\n",
    "    T[:2, 2] = t\n",
    "   \n",
    "    return T, angle\n",
    "\n",
    "def rigid_transform_to(pts1, T):\n",
    "    pts1_trans = np.dot(T, np.column_stack([pts1, np.ones((pts1.shape[0],))]).T).T\n",
    "#     pts1_trans = pts1_trans[:,:2]/pts1_trans[:,-1][:,np.newaxis]\n",
    "    return pts1_trans[:,:2]"
   ]
  },
  {
   "cell_type": "code",
   "execution_count": null,
   "metadata": {
    "collapsed": false
   },
   "outputs": [],
   "source": [
    "section_contains_centroids = [dict([(gid, boundary_models[si][bid][4]) for bid, gid in sc]) \n",
    "                              for si, sc in enumerate(section_contains)]"
   ]
  },
  {
   "cell_type": "code",
   "execution_count": null,
   "metadata": {
    "collapsed": false
   },
   "outputs": [],
   "source": [
    "gid_overlap = [[set(sc1.keys()) & set(sc2.keys()) for sc2 in section_contains_centroids] for sc1 in section_contains_centroids]"
   ]
  },
  {
   "cell_type": "code",
   "execution_count": null,
   "metadata": {
    "collapsed": true
   },
   "outputs": [],
   "source": [
    "import random\n",
    "\n",
    "def ransac_rigid_transform(X, Y, sample_size=3):\n",
    "    \n",
    "    n = X.shape[0]\n",
    "    err_all = []\n",
    "    T_all = []\n",
    "    inlier_all = []\n",
    "    for si in range(10):    \n",
    "#         print 'iter', si\n",
    "        s = random.sample(range(n), min(sample_size, n))\n",
    "        for ri in range(10):\n",
    "            Xs = X[s]\n",
    "            Ys = Y[s]\n",
    "            T, _ = rigid_transform_from_pairs(Xs, Ys)\n",
    "            Xst = rigid_transform_to(Xs, T)\n",
    "            d = Xst - Ys\n",
    "            errs = np.sqrt(np.sum(d**2, axis=1))\n",
    "            s2 = list(set(s) | set(np.where(errs < 500)[0]))\n",
    "#             print ri, np.mean(errs), len(s2)\n",
    "            if len(s2) == len(s):\n",
    "                break\n",
    "            else:\n",
    "                s = s2\n",
    "        inlier_all.append(s)\n",
    "        err_all.append(np.mean(errs))\n",
    "        T_all.append(T)\n",
    "    \n",
    "    best = np.argmin(err_all)\n",
    "#     print err_all[best]\n",
    "#     print best\n",
    "    return T_all[best], inlier_all[best]"
   ]
  },
  {
   "cell_type": "code",
   "execution_count": null,
   "metadata": {
    "collapsed": true
   },
   "outputs": [],
   "source": [
    "margin = 500\n",
    "\n",
    "img_shapes = [dm.image_rgb.shape[:2] for dm in dms]\n",
    "max_height, max_width = np.max(img_shapes, axis=0)\n",
    "\n",
    "canvas_width = max_width + 2 * margin\n",
    "canvas_height = max_height + 2 * margin"
   ]
  },
  {
   "cell_type": "code",
   "execution_count": null,
   "metadata": {
    "collapsed": true
   },
   "outputs": [],
   "source": [
    "def pad_image(img, canvas_shape):\n",
    "    \n",
    "    canvas_height, canvas_width = canvas_shape\n",
    "    \n",
    "    bg = 255 * np.ones((canvas_height, canvas_width, 3), dtype=np.uint8)\n",
    "    rgb = img[..., :3]\n",
    "\n",
    "    img_h, img_w = img.shape[:2]\n",
    "    bg[canvas_height/2-img_h/2:canvas_height/2+(img_h-img_h/2),\n",
    "            canvas_width/2-img_w/2:canvas_width/2+(img_w-img_w/2), :] = rgb\n",
    "\n",
    "    return bg"
   ]
  },
  {
   "cell_type": "code",
   "execution_count": null,
   "metadata": {
    "collapsed": false,
    "scrolled": true
   },
   "outputs": [],
   "source": [
    "for dm in dms:\n",
    "    atlas_img = dm.load_pipeline_result('atlas', 'jpg')\n",
    "    padded_img = pad_image(atlas_img, (canvas_height, canvas_width))\n",
    "    dm.save_pipeline_result(padded_img, 'paddedGlobalLabel', 'jpg')"
   ]
  },
  {
   "cell_type": "code",
   "execution_count": null,
   "metadata": {
    "collapsed": false,
    "scrolled": true
   },
   "outputs": [],
   "source": [
    "for dm in dms:\n",
    "    padded_img = pad_image(dm.image_rgb, (canvas_height, canvas_width))\n",
    "    dm.save_pipeline_result(padded_img, 'padded', 'jpg')"
   ]
  },
  {
   "cell_type": "code",
   "execution_count": null,
   "metadata": {
    "collapsed": false
   },
   "outputs": [],
   "source": [
    "spacings_yx = np.array([((canvas_height-h)/2, (canvas_width-w)/2) for h,w in img_shapes])"
   ]
  },
  {
   "cell_type": "code",
   "execution_count": null,
   "metadata": {
    "collapsed": false
   },
   "outputs": [],
   "source": [
    "undetermined_section_pairs = zip(*map(list, np.where([[len(gids) < 2 for gids in g] for g in gid_overlap])))"
   ]
  },
  {
   "cell_type": "code",
   "execution_count": null,
   "metadata": {
    "collapsed": false
   },
   "outputs": [],
   "source": [
    "Ts = np.empty((n_slice, n_slice, 3, 3))\n",
    "# angles = np.empty((n_slice, n_slice))\n",
    "Xs = [[None for _ in range(n_slice)] for _ in range(n_slice)]\n",
    "Xts = [[None for _ in range(n_slice)] for _ in range(n_slice)]\n",
    "Ys = [[None for _ in range(n_slice)] for _ in range(n_slice)]\n",
    "\n",
    "for s1, a in enumerate(gid_overlap):\n",
    "    for s2, gids in enumerate(a):\n",
    "        if (s1,s2) in undetermined_section_pairs or (s2,s1) in undetermined_section_pairs:\n",
    "            Ts[s1,s2] = np.nan * np.ones((3,3))\n",
    "        else:\n",
    "            gids = list(gids)\n",
    "            X = np.array([section_contains_centroids[s1][gid] + spacings_yx[s1][::-1] for gid in gids])\n",
    "            Y = np.array([section_contains_centroids[s2][gid] + spacings_yx[s2][::-1] for gid in gids])\n",
    "            Xs[s1][s2] = X\n",
    "            Ys[s1][s2] = Y\n",
    "            \n",
    "#             T, _ = rigid_transform_from_pairs(X, Y)\n",
    "            T, inliers = ransac_rigid_transform(X, Y)\n",
    "#             print [gids[i] for i in inliers]\n",
    "            \n",
    "            Xt = rigid_transform_to(X, T)\n",
    "            Xts[s1][s2] = Xt\n",
    "            Ts[s1,s2] = T\n",
    "#             angles[s1,s2] = angle\n",
    "\n",
    "#             plt.title('%d,%d'%(s1,s2))\n",
    "# #             gids = list(gid_overlap[s1][s2])\n",
    "#             if len(gids) <= 1:\n",
    "#                 continue\n",
    "\n",
    "#             plt.scatter(Xts[s1][s2][:,0], Xts[s1][s2][:,1], c='r');\n",
    "#             plt.scatter(Ys[s1][s2][:,0], Ys[s1][s2][:,1], c='g');\n",
    "#             for i, gid in enumerate(gids):\n",
    "#                 plt.text(Xts[s1][s2][i,0], Xts[s1][s2][i,1], str(gid));\n",
    "#                 plt.text(Ys[s1][s2][i,0], Ys[s1][s2][i,1], str(gid));\n",
    "\n",
    "#             plt.ylim([0, dms[s2].image_rgb.shape[0]])\n",
    "#             plt.xlim([0, dms[s2].image_rgb.shape[1]])\n",
    "\n",
    "#             plt.axis('equal');\n",
    "#             plt.show();"
   ]
  },
  {
   "cell_type": "code",
   "execution_count": null,
   "metadata": {
    "collapsed": false
   },
   "outputs": [],
   "source": [
    "s1 = 2\n",
    "s2 = 35\n",
    "\n",
    "plt.title('%d,%d'%(s1,s2))\n",
    "gids = list(gid_overlap[s1][s2])\n",
    "assert  len(gids) > 1\n",
    "    \n",
    "plt.scatter(Xts[s1][s2][:,0], Xts[s1][s2][:,1], c='r');\n",
    "plt.scatter(Ys[s1][s2][:,0], Ys[s1][s2][:,1], c='g');\n",
    "for i, gid in enumerate(gids):\n",
    "    plt.text(Xts[s1][s2][i,0], Xts[s1][s2][i,1], str(gid));\n",
    "    plt.text(Ys[s1][s2][i,0], Ys[s1][s2][i,1], str(gid));\n",
    "\n",
    "plt.gca().set_ylim([0, canvas_height])\n",
    "plt.gca().set_xlim([0, canvas_width])\n",
    "\n",
    "# plt.ylim([0, dms[s2].image_rgb.shape[0]])\n",
    "# plt.xlim([0, dms[s2].image_rgb.shape[1]])\n",
    "\n",
    "plt.axis('equal');\n",
    "plt.show();"
   ]
  },
  {
   "cell_type": "code",
   "execution_count": null,
   "metadata": {
    "collapsed": true
   },
   "outputs": [],
   "source": [
    "Rs = Ts[..., :2, :2]\n",
    "angles = np.arctan2(Rs[..., 1,0], Rs[...,0,0])"
   ]
  },
  {
   "cell_type": "code",
   "execution_count": null,
   "metadata": {
    "collapsed": false
   },
   "outputs": [],
   "source": [
    "ts = np.zeros((n_slice, n_slice, 2))\n",
    "for sc1 in range(n_slice):\n",
    "    for sc2 in range(n_slice):\n",
    "        ts[sc1, sc2] = np.dot(np.linalg.inv(Rs[sc1,sc2]), Ts[sc1,sc2,:2,2])"
   ]
  },
  {
   "cell_type": "code",
   "execution_count": null,
   "metadata": {
    "collapsed": false
   },
   "outputs": [],
   "source": [
    "rs,cs = np.triu_indices(n_slice,1)\n",
    "valid_section_pairs = list(set(zip(rs.tolist(), cs.tolist())) - set(undetermined_section_pairs))\n",
    "\n",
    "weights = np.array([np.exp(-(np.abs(i-j)-1)) for i,j in valid_section_pairs])\n",
    "\n",
    "nc = len(valid_section_pairs)\n",
    "\n",
    "A = np.zeros((nc, n_slice))\n",
    "for r, (i,j) in enumerate(valid_section_pairs):\n",
    "    A[r, [i,j]] = np.array([1, -1])\n",
    "\n",
    "rs, cs = zip(*valid_section_pairs)\n",
    "b = ts[rs,cs]"
   ]
  },
  {
   "cell_type": "code",
   "execution_count": null,
   "metadata": {
    "collapsed": false,
    "scrolled": true
   },
   "outputs": [],
   "source": [
    "t0 = np.dot(np.linalg.pinv(weights[:,np.newaxis] * A), weights[:,np.newaxis] * b)"
   ]
  },
  {
   "cell_type": "code",
   "execution_count": null,
   "metadata": {
    "collapsed": false
   },
   "outputs": [],
   "source": [
    "print t0[16]-t0[17]\n",
    "print ts[16,17]"
   ]
  },
  {
   "cell_type": "code",
   "execution_count": null,
   "metadata": {
    "collapsed": false
   },
   "outputs": [],
   "source": [
    "A = np.zeros((nc, n_slice))\n",
    "for r, (i,j) in enumerate(valid_section_pairs):\n",
    "    A[r, [i,j]] = [1, -1]\n",
    "\n",
    "rs, cs = zip(*valid_section_pairs)\n",
    "b = angles[rs,cs]"
   ]
  },
  {
   "cell_type": "code",
   "execution_count": null,
   "metadata": {
    "collapsed": false
   },
   "outputs": [],
   "source": [
    "angles0 = np.dot(np.linalg.pinv(weights[:,np.newaxis] * A),  weights * b)\n",
    "R0s = [np.array([[np.cos(a), -np.sin(a)], [np.sin(a), np.cos(a)]]) for a in angles0]"
   ]
  },
  {
   "cell_type": "code",
   "execution_count": null,
   "metadata": {
    "collapsed": true
   },
   "outputs": [],
   "source": [
    "def rot_to_angle(R):\n",
    "    return np.rad2deg(np.arctan2(R[1,0], R[0,0]))"
   ]
  },
  {
   "cell_type": "code",
   "execution_count": null,
   "metadata": {
    "collapsed": false
   },
   "outputs": [],
   "source": [
    "print np.rad2deg(angles[16,17])\n",
    "print rot_to_angle(R0s[16]) - rot_to_angle(R0s[17])"
   ]
  },
  {
   "cell_type": "code",
   "execution_count": null,
   "metadata": {
    "collapsed": false
   },
   "outputs": [],
   "source": [
    "T0s = [np.vstack([np.column_stack([R, np.dot(R, t0[i])]), [0,0,1]]) for i, R in enumerate(R0s)]"
   ]
  },
  {
   "cell_type": "code",
   "execution_count": null,
   "metadata": {
    "collapsed": false,
    "scrolled": true
   },
   "outputs": [],
   "source": [
    "from skimage.transform import warp, AffineTransform\n",
    "\n",
    "for sc, dm in enumerate(dms):\n",
    "    print sc\n",
    "#     padded_img = dm.load_pipeline_result('padded', 'jpg')\n",
    "    padded_img = dm.load_pipeline_result('paddedGlobalLabel', 'jpg')\n",
    "    trf = AffineTransform(T0s[sc])\n",
    "    img_trf = warp(padded_img, inverse_map=trf.inverse)\n",
    "    dm.save_pipeline_result(img_trf, 'alignedGlobalLabel', 'jpg')"
   ]
  },
  {
   "cell_type": "code",
   "execution_count": null,
   "metadata": {
    "collapsed": false
   },
   "outputs": [],
   "source": [
    "from joblib import Parallel, delayed\n",
    "from skimage.transform import resize\n",
    "\n",
    "def f(i, h):\n",
    "    row_size = 5\n",
    "    for r in np.arange(0, len(h), row_size):\n",
    "        v = visualize_landmark_multiple_sections2(h[r:r+row_size], text=True)\n",
    "        imsave('/tmp/robustLandmark%d_%d.jpg'%(i, r/row_size), resize(v, (v.shape[0]/5,v.shape[1]/5)))\n",
    "        \n",
    "Parallel(n_jobs=16)(delayed(f)(i, lms) for i, lms in enumerate(node_groups[:10]))  "
   ]
  },
  {
   "cell_type": "code",
   "execution_count": null,
   "metadata": {
    "collapsed": true
   },
   "outputs": [],
   "source": [
    "# KMeans method using neighbor set as feature and Jaccard as distance"
   ]
  },
  {
   "cell_type": "code",
   "execution_count": null,
   "metadata": {
    "collapsed": false
   },
   "outputs": [],
   "source": [
    "n_nodes = G.number_of_nodes()\n",
    "connection_features = [set(G.neighbors(n)) | {n} for n in G.nodes_iter()]\n",
    "overlap_mat = np.reshape([len(i&j)\n",
    "                          for i,j in product(connection_features,connection_features)], \n",
    "                         (n_nodes,n_nodes))\n",
    "m = overlap_mat.max()\n",
    "d = m - overlap_mat\n",
    "np.fill_diagonal(d, 0)"
   ]
  },
  {
   "cell_type": "code",
   "execution_count": null,
   "metadata": {
    "collapsed": false,
    "scrolled": true
   },
   "outputs": [],
   "source": [
    "overlap_thresh = 1\n",
    "node_groups = sorted([sorted([G.nodes()[n] for n in g]) \n",
    "                      for g in group_clusters(d, m-overlap_thresh)],\n",
    "                     key=lambda x: len(x), reverse=True)\n",
    "draw_group_containing_node(node, node_groups)"
   ]
  },
  {
   "cell_type": "code",
   "execution_count": null,
   "metadata": {
    "collapsed": false
   },
   "outputs": [],
   "source": [
    "n_nodes = G.number_of_nodes()\n",
    "connection_features = [set(G.neighbors(n)) | {n} for n in G.nodes_iter()]\n",
    "\n",
    "jaccard_mat = np.zeros((n_nodes,n_nodes))\n",
    "for i, (si, li) in enumerate(G.nodes_iter()):\n",
    "    for j, (sj, lj) in enumerate(G.nodes_iter()):\n",
    "        a = set([(sn,ln) for sn,ln in connection_features[i] if sn >= sj-3 and sn <= sj+3])\n",
    "        b = set([(sn,ln) for sn,ln in connection_features[j] if sn >= si-3 and sn <= si+3])\n",
    "        if len(a)==0 or len(b)==0:\n",
    "            jaccard_mat[i,j] = 0\n",
    "        else:\n",
    "            jaccard_mat[i,j] = len(a&b)/float(len(a|b))\n",
    "\n",
    "            \n",
    "# jaccard_mat = np.reshape([len(i&j)/float(len(i|j)) \n",
    "#                           for i,j in product(connection_features,connection_features)], \n",
    "#                          (n_nodes,n_nodes))"
   ]
  },
  {
   "cell_type": "code",
   "execution_count": null,
   "metadata": {
    "collapsed": false,
    "scrolled": false
   },
   "outputs": [],
   "source": [
    "jaccard_thresh = .5\n",
    "node_groups = sorted([sorted([G.nodes()[n] for n in g]) for g in group_clusters(1.-jaccard_mat, 1.-jaccard_thresh)],\n",
    "                    key=lambda x: len(x), reverse=True)\n",
    "draw_group_containing_node(node, node_groups)\n",
    "\n",
    "jaccard_thresh = .6\n",
    "node_groups = sorted([sorted([G.nodes()[n] for n in g]) for g in group_clusters(1.-jaccard_mat, 1.-jaccard_thresh)],\n",
    "                    key=lambda x: len(x), reverse=True)\n",
    "draw_group_containing_node(node, node_groups)\n",
    "\n",
    "jaccard_thresh = .7\n",
    "node_groups = sorted([sorted([G.nodes()[n] for n in g]) for g in group_clusters(1.-jaccard_mat, 1.-jaccard_thresh)],\n",
    "                    key=lambda x: len(x), reverse=True)\n",
    "draw_group_containing_node(node, node_groups)\n",
    "\n",
    "\n",
    "node_groups = list(k_clique_communities(G, 4))\n",
    "draw_group_containing_node(node, node_groups)\n"
   ]
  },
  {
   "cell_type": "code",
   "execution_count": null,
   "metadata": {
    "collapsed": false
   },
   "outputs": [],
   "source": [
    "all_matchings = G.edges()\n",
    "\n",
    "for i in all_matchings:\n",
    "    if (2, 31) in i:\n",
    "        print i"
   ]
  },
  {
   "cell_type": "code",
   "execution_count": null,
   "metadata": {
    "collapsed": false,
    "scrolled": true
   },
   "outputs": [],
   "source": [
    "from joblib import Parallel, delayed\n",
    "from skimage.transform import resize\n",
    "\n",
    "def f(i, lms):\n",
    "    v = visualize_landmark_multiple_sections(lms, text=True)\n",
    "    try:\n",
    "        imsave('/tmp/robustLandmark%d.jpg'%i, v)\n",
    "    except IOError as e:\n",
    "        imsave('/tmp/robustLandmark%d.jpg'%i, resize(v, (v.shape[0]/2,v.shape[1]/2)))\n",
    "        \n",
    "\n",
    "Parallel(n_jobs=16)(delayed(f)(i, lms) for i, lms in enumerate(consistent_robust_lms))"
   ]
  },
  {
   "cell_type": "code",
   "execution_count": null,
   "metadata": {
    "collapsed": false,
    "scrolled": true
   },
   "outputs": [],
   "source": [
    "display(visualize_landmark_multiple_sections(robust_lms[5], text=True))"
   ]
  },
  {
   "cell_type": "code",
   "execution_count": null,
   "metadata": {
    "collapsed": false
   },
   "outputs": [],
   "source": [
    "display(visualize_multiple_landmarks_multiple_sections({2:[15], 3:[20]}))"
   ]
  },
  {
   "cell_type": "code",
   "execution_count": null,
   "metadata": {
    "collapsed": true
   },
   "outputs": [],
   "source": [
    "def visualize_multiple_landmarks_multiple_sections_horizontal(d):\n",
    "    '''\n",
    "    e.g. tpl = {3:[2,5,12], 4:[6,4,2]}\n",
    "    '''\n",
    "    \n",
    "    viss = []\n",
    "    for sec, bnds in d.iteritems():\n",
    "        dm = DataManager(generate_hierarchy=False, stack=stack_name, resol='x5', section=sec)\n",
    "        boundaries = dm.load_pipeline_result('boundaryModels', 'pkl')\n",
    "        viss.append(dm.visualize_edge_sets([boundaries[b[0]][0] for b in bnds], text_size=3, \n",
    "                                           text=[str(b[1]) for b in bnds]))\n",
    "    \n",
    "    hws = np.array([v.shape[:2] for v in viss])\n",
    "    hmax, wmax = np.max(hws, axis=0)\n",
    "    top_margins = [int((hmax - h)/2) for h,w in hws]\n",
    "    bottom_margins = [ hmax - h - lm for (h,w), lm in zip(hws, top_margins)]\n",
    "    \n",
    "    viss_padded = []\n",
    "    for vis, lm, rm in zip(viss, top_margins, bottom_margins):\n",
    "        viss_padded.append(pad(vis, ((lm,rm),(0,0),(0,0)), 'constant', constant_values=255))\n",
    "        \n",
    "    vis_stacked = np.hstack(viss_padded)\n",
    "    return vis_stacked"
   ]
  },
  {
   "cell_type": "code",
   "execution_count": null,
   "metadata": {
    "collapsed": true
   },
   "outputs": [],
   "source": [
    "def visualize_multiple_landmarks_multiple_sections_vertical(d):\n",
    "    '''\n",
    "    e.g. tpl = {3:[2,5,12], 4:[6,4,2]}\n",
    "    '''\n",
    "    \n",
    "    viss = []\n",
    "    for sec, bnds in d.iteritems():\n",
    "        dm = DataManager(generate_hierarchy=False, stack='RS141', resol='x5', section=sec)\n",
    "        boundaries = dm.load_pipeline_result('boundaryModels', 'pkl')\n",
    "        viss.append(dm.visualize_edge_sets([boundaries[b][0] for b in bnds], text=False))\n",
    "    \n",
    "    hws = np.array([v.shape[:2] for v in viss])\n",
    "    hmax, wmax = np.max(hws, axis=0)\n",
    "    left_margins = [int((wmax - w)/2) for h,w in hws]\n",
    "    right_margins = [ wmax - w - lm for (h,w), lm in zip(hws, left_margins)]\n",
    "    \n",
    "    viss_padded = []\n",
    "    for vis, lm, rm in zip(viss, left_margins, right_margins):\n",
    "        viss_padded.append(pad(vis, ((0,0),(lm,rm),(0,0)), 'constant', constant_values=255))\n",
    "        \n",
    "    vis_stacked = np.vstack(viss_padded)\n",
    "    return vis_stacked"
   ]
  },
  {
   "cell_type": "code",
   "execution_count": null,
   "metadata": {
    "collapsed": false
   },
   "outputs": [],
   "source": [
    "from skimage.util import pad\n",
    "\n",
    "sys.path.append('/home/yuncong/project/opencv-2.4.9/release/lib/python2.7/site-packages')\n",
    "import cv2\n",
    "\n",
    "def visualize_landmark_multiple_sections(tpl, text=False):\n",
    "    '''\n",
    "    e.g. tpl = [(3,1),(4,2)]\n",
    "    '''\n",
    "    \n",
    "    viss = []\n",
    "    for sec, bnd in tpl: \n",
    "        dm = DataManager(generate_hierarchy=False, stack='RS141', resol='x5', section=sec)\n",
    "        v = dm.load_pipeline_result('boundary%02d'%bnd, 'jpg')\n",
    "        if text:\n",
    "            cv2.putText(v, '%d,%d'%(sec,bnd), tuple([300,300]), cv2.FONT_HERSHEY_COMPLEX, 10, (0,0,0), 5)\n",
    "        viss.append(v)\n",
    "    \n",
    "    hws = np.array([v.shape[:2] for v in viss])\n",
    "    hmax, wmax = np.max(hws, axis=0)\n",
    "    left_margins = [int((wmax - w)/2) for h,w in hws]\n",
    "    right_margins = [ wmax - w - lm for (h,w), lm in zip(hws, left_margins)]\n",
    "    \n",
    "    viss_padded = []\n",
    "    for vis, lm, rm in zip(viss, left_margins, right_margins):\n",
    "        viss_padded.append(pad(vis, ((0,0),(lm,rm),(0,0)), 'constant', constant_values=255))\n",
    "        \n",
    "    vis_stacked = np.vstack(viss_padded)\n",
    "    return vis_stacked"
   ]
  }
 ],
 "metadata": {
  "kernelspec": {
   "display_name": "Python 2",
   "language": "python",
   "name": "python2"
  },
  "language_info": {
   "codemirror_mode": {
    "name": "ipython",
    "version": 2
   },
   "file_extension": ".py",
   "mimetype": "text/x-python",
   "name": "python",
   "nbconvert_exporter": "python",
   "pygments_lexer": "ipython2",
   "version": "2.7.3"
  }
 },
 "nbformat": 4,
 "nbformat_minor": 0
}
