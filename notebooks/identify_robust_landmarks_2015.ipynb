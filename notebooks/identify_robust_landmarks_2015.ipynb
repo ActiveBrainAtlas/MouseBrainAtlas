{
 "cells": [
  {
   "cell_type": "code",
   "execution_count": 24,
   "metadata": {
    "collapsed": false
   },
   "outputs": [],
   "source": [
    "%reload_ext autoreload\n",
    "%autoreload 2\n",
    "\n",
    "import os\n",
    "import sys\n",
    "import time\n",
    "\n",
    "from utilities2015 import *\n",
    "\n",
    "from scipy.spatial.distance import cdist, pdist, squareform\n",
    "from scipy.cluster.hierarchy import average, fcluster, single, complete\n",
    "\n",
    "from joblib import Parallel, delayed\n",
    "\n",
    "from skimage.color import gray2rgb\n",
    "from skimage.measure import find_contours\n",
    "from skimage.util import img_as_float\n",
    "\n",
    "from networkx import floyd_warshall, Graph, connected_components, draw_networkx, k_clique_communities, find_cliques, from_numpy_matrix\n",
    "from itertools import product\n",
    "from collections import defaultdict\n",
    "\n",
    "import matplotlib.pyplot as plt\n",
    "%matplotlib inline\n",
    "\n",
    "from networkx import from_dict_of_lists, Graph, adjacency_matrix, dfs_postorder_nodes\n",
    "from networkx.algorithms import node_connected_component\n",
    "\n",
    "stack_name = 'MD593'"
   ]
  },
  {
   "cell_type": "code",
   "execution_count": 2,
   "metadata": {
    "collapsed": true
   },
   "outputs": [],
   "source": [
    "first_sec = 60\n",
    "last_sec = 150"
   ]
  },
  {
   "cell_type": "code",
   "execution_count": 3,
   "metadata": {
    "collapsed": false
   },
   "outputs": [],
   "source": [
    "dms = dict([(sec_ind, DataManager(stack='MD593', section=sec_ind, segm_params_id='gridsize200'))\n",
    "            for sec_ind in range(first_sec, last_sec+1)])"
   ]
  },
  {
   "cell_type": "code",
   "execution_count": 9,
   "metadata": {
    "collapsed": false
   },
   "outputs": [],
   "source": [
    "G = Graph()\n",
    "\n",
    "for sec1 in range(first_sec, last_sec+1):\n",
    "    if sec1 < last_sec:\n",
    "        matchings = dms[sec1].load_pipeline_result('matchingsNext1')\n",
    "        for s,i,j in matchings:\n",
    "            G.add_edge((sec1,i),(sec1+1,j))\n",
    "\n",
    "    if sec1 < last_sec-1:\n",
    "        matchings = dms[sec1].load_pipeline_result('matchingsNext2')\n",
    "        for s,i,j in matchings:\n",
    "            G.add_edge((sec1,i),(sec1+2,j))\n",
    "    \n",
    "    if sec1 < last_sec-2:\n",
    "        matchings = dms[sec1].load_pipeline_result('matchingsNext3')\n",
    "        for s,i,j in matchings:\n",
    "            G.add_edge((sec1,i),(sec1+3,j))"
   ]
  },
  {
   "cell_type": "code",
   "execution_count": null,
   "metadata": {
    "collapsed": false
   },
   "outputs": [],
   "source": [
    "# G = Graph()\n",
    "\n",
    "# th = .2\n",
    "\n",
    "# for sec1 in range(0,29):\n",
    "#     dm = DataManager(generate_hierarchy=False, stack=stack_name, resol='x5', section=sec1)\n",
    "    \n",
    "#     D = dm.load_pipeline_result('DBoundaries%dWith%d'%(sec1, sec1+1), 'npy')\n",
    "#     relaxed_matches = get_relaxed_matches(D, th)\n",
    "    \n",
    "#     for i,j in relaxed_matches:\n",
    "#         G.add_edge((sec1,i),(sec1+1,j))\n",
    "\n",
    "#     if sec1 < 28:\n",
    "#         D = dm.load_pipeline_result('DBoundaries%dWith%d'%(sec1, sec1+2), 'npy')\n",
    "         \n",
    "#         relaxed_matches = get_relaxed_matches(D, th)\n",
    "        \n",
    "#         for i,j in relaxed_matches:\n",
    "#             G.add_edge((sec1,i),(sec1+2,j))\n",
    "    \n",
    "#     if sec1 < 27:\n",
    "#         D = dm.load_pipeline_result('DBoundaries%dWith%d'%(sec1, sec1+3), 'npy')\n",
    "        \n",
    "#         relaxed_matches = get_relaxed_matches(D, th)\n",
    "        \n",
    "#         for i,j in relaxed_matches:\n",
    "#             G.add_edge((sec1,i),(sec1+3,j))\n",
    "            "
   ]
  },
  {
   "cell_type": "code",
   "execution_count": 18,
   "metadata": {
    "collapsed": true
   },
   "outputs": [],
   "source": [
    "pos = {}\n",
    "for s,l in G.node:\n",
    "    pos[(s,l)] = (s,l)"
   ]
  },
  {
   "cell_type": "code",
   "execution_count": null,
   "metadata": {
    "collapsed": false
   },
   "outputs": [],
   "source": [
    "fig = plt.figure(figsize=(30,10));\n",
    "plt.axis('off');\n",
    "plt.title('Complete match graph');\n",
    "# draw_networkx(G, pos, node_size=10, with_labels=False, edgelist=[]);\n",
    "draw_networkx(G, pos, node_size=10, with_labels=False);"
   ]
  },
  {
   "cell_type": "code",
   "execution_count": 10,
   "metadata": {
    "collapsed": true
   },
   "outputs": [],
   "source": [
    "from scipy.cluster.hierarchy import average, fcluster, single, complete, weighted\n",
    "from scipy.spatial.distance import cdist, pdist, squareform\n",
    "\n",
    "def group_clusters(distance_matrix, dist_thresh = 0.1):\n",
    "\n",
    "    lk = single(squareform(distance_matrix))\n",
    "#     lk = average(squareform(distance_matrix))\n",
    "#     lk = complete(squareform(distance_matrix))\n",
    "\n",
    "    T = fcluster(lk, dist_thresh, criterion='distance')\n",
    "    \n",
    "    n_groups = len(set(T))    \n",
    "    groups = [None] * n_groups\n",
    "\n",
    "    for group_id in range(n_groups):\n",
    "        groups[group_id] = np.where(T == group_id+1)[0]\n",
    "        \n",
    "    return [g for g in groups if len(g) > 0]"
   ]
  },
  {
   "cell_type": "code",
   "execution_count": 11,
   "metadata": {
    "collapsed": false
   },
   "outputs": [],
   "source": [
    "def draw_group_containing_node(node, node_groups):\n",
    "        \n",
    "    group_lookup = defaultdict(set)\n",
    "    for gi, g in enumerate(node_groups):\n",
    "        for n in g:\n",
    "            group_lookup[n].add(gi)\n",
    "    \n",
    "    group_ind = list(group_lookup[node])[0]\n",
    "        \n",
    "    fig = plt.figure(figsize=(30,10));\n",
    "    plt.axis('off');\n",
    "\n",
    "    # draw_networkx(G, pos, node_size=10, with_labels=False)\n",
    "    # plt.savefig('/tmp/match_graph_relaxed.png', bbox_inches='tight')\n",
    "\n",
    "    # draw_networkx(G, pos, node_size=10, with_labels=False, edge_color=colors)\n",
    "\n",
    "    selected_edges = [(i,j) for i,j in G.edges_iter() \n",
    "                      if i in group_lookup and j in group_lookup and group_ind in group_lookup[i]\n",
    "                     and group_ind in group_lookup[j]]\n",
    "        \n",
    "#     selected_colors = [all_colors[group_lookup[i]%len(all_colors)] for i,j in G.edges_iter() \n",
    "#                        if i in group_lookup and j in group_lookup and group_lookup[i] == group_ind]\n",
    "    \n",
    "#     selected_nodes = set([i for e in selected_edges for i in e ]) | set(node_groups[group_ind])\n",
    "    selected_nodes = set([i for e in selected_edges for i in e ])\n",
    "    node_size = [50 if n in selected_nodes else 5 for n in G.nodes_iter()]\n",
    "\n",
    "    draw_networkx(G, pos, with_labels=False, edgelist=selected_edges, edge_color='r',\n",
    "                 node_size=node_size)\n",
    "    # plt.savefig('/tmp/clique_groups_relaxed.png', bbox_inches='tight')\n",
    "    \n",
    "    return sorted(list(selected_nodes))\n",
    "            "
   ]
  },
  {
   "cell_type": "code",
   "execution_count": 25,
   "metadata": {
    "collapsed": false
   },
   "outputs": [
    {
     "data": {
      "text/plain": [
       "[(75, 27), (76, 10), (78, 15), (79, 40), (80, 33), (81, 7)]"
      ]
     },
     "execution_count": 25,
     "metadata": {},
     "output_type": "execute_result"
    },
    {
     "data": {
      "image/png": "[encoded data removed]",
      "text/plain": [
       "<matplotlib.figure.Figure at 0x9d37e10>"
      ]
     },
     "metadata": {},
     "output_type": "display_data"
    }
   ],
   "source": [
    "node = (78, 15)\n",
    "draw_group_containing_node(node, [set(G.neighbors(node)) | {node}])"
   ]
  },
  {
   "cell_type": "code",
   "execution_count": 19,
   "metadata": {
    "collapsed": false
   },
   "outputs": [
    {
     "data": {
      "text/plain": [
       "[(120, 0), (121, 7), (123, 25), (124, 5)]"
      ]
     },
     "execution_count": 19,
     "metadata": {},
     "output_type": "execute_result"
    },
    {
     "data": {
      "image/png": "[encoded data removed]",
      "text/plain": [
       "<matplotlib.figure.Figure at 0x7189c90>"
      ]
     },
     "metadata": {},
     "output_type": "display_data"
    }
   ],
   "source": [
    "node = (123, 25)\n",
    "draw_group_containing_node(node, [set(G.neighbors(node)) | {node}])"
   ]
  },
  {
   "cell_type": "code",
   "execution_count": 20,
   "metadata": {
    "collapsed": false
   },
   "outputs": [],
   "source": [
    "for c in cliques:\n",
    "    if (123, 25) in c:\n",
    "        print c"
   ]
  },
  {
   "cell_type": "code",
   "execution_count": 12,
   "metadata": {
    "collapsed": false
   },
   "outputs": [],
   "source": [
    "# cliques = sorted([sorted(cl) for cl in find_cliques(G) if len(cl)>=3], key=len, reverse=True)\n",
    "# cliques = [set(cl)for cl in find_cliques(G) if len(cl) == 4]\n",
    "cliques = [set(cl)for cl in find_cliques(G) if len(cl) >= 3]\n",
    "overlap_mat = np.reshape([len(i & j) for i,j in product(cliques,cliques)], (len(cliques),len(cliques)))\n",
    "\n",
    "m = overlap_mat.max()\n",
    "d = m - overlap_mat\n",
    "np.fill_diagonal(d, 0)\n",
    "\n",
    "# node_groups = list(k_clique_communities(G, 4))\n",
    "# draw_group_containing_node(node, node_groups)\n",
    "\n",
    "overlap_thresh = 2\n",
    "node_groups = sorted([sorted(list(set(sum([list(cliques[i]) for i in g], [])))) \n",
    "               for g in group_clusters(d, m-overlap_thresh)], \n",
    "                     key=len, reverse=True)\n",
    "\n",
    "# h = draw_group_containing_node(node, node_groups)\n",
    "\n",
    "# overlap_thresh = 1\n",
    "# node_groups = sorted([sorted(list(set(sum([list(cliques[i]) for i in g], [])))) \n",
    "#                for g in group_clusters(d, m-overlap_thresh)], \n",
    "#                      key=len, reverse=True)\n",
    "\n",
    "# h = draw_group_containing_node(node, node_groups)"
   ]
  },
  {
   "cell_type": "code",
   "execution_count": 13,
   "metadata": {
    "collapsed": false
   },
   "outputs": [
    {
     "data": {
      "text/plain": [
       "[[(125, 30),\n",
       "  (126, 34),\n",
       "  (127, 33),\n",
       "  (128, 28),\n",
       "  (129, 58),\n",
       "  (130, 44),\n",
       "  (131, 21),\n",
       "  (132, 52),\n",
       "  (133, 46),\n",
       "  (134, 40),\n",
       "  (135, 50),\n",
       "  (136, 49),\n",
       "  (137, 39)],\n",
       " [(125, 5),\n",
       "  (126, 11),\n",
       "  (127, 5),\n",
       "  (128, 6),\n",
       "  (129, 7),\n",
       "  (130, 3),\n",
       "  (131, 6),\n",
       "  (132, 12),\n",
       "  (133, 4),\n",
       "  (134, 2)],\n",
       " [(98, 1),\n",
       "  (99, 7),\n",
       "  (100, 2),\n",
       "  (101, 6),\n",
       "  (102, 4),\n",
       "  (103, 5),\n",
       "  (104, 42),\n",
       "  (105, 7),\n",
       "  (107, 38)],\n",
       " [(102, 59),\n",
       "  (103, 57),\n",
       "  (104, 56),\n",
       "  (106, 20),\n",
       "  (107, 19),\n",
       "  (108, 43),\n",
       "  (109, 25),\n",
       "  (110, 26),\n",
       "  (112, 5)],\n",
       " [(128, 33),\n",
       "  (129, 48),\n",
       "  (130, 53),\n",
       "  (131, 57),\n",
       "  (132, 42),\n",
       "  (133, 21),\n",
       "  (134, 57),\n",
       "  (135, 42)],\n",
       " [(63, 4), (64, 56), (65, 9), (67, 8), (68, 11), (69, 47), (70, 16), (71, 11)],\n",
       " [(81, 1), (82, 2), (83, 4), (84, 8), (85, 2), (86, 13), (87, 11), (88, 2)],\n",
       " [(115, 15), (116, 26), (118, 35), (119, 51), (120, 24), (121, 27), (122, 11)],\n",
       " [(110, 20), (111, 18), (112, 19), (113, 7), (114, 5), (115, 16), (116, 24)],\n",
       " [(143, 59), (144, 36), (145, 47), (147, 58), (148, 49), (149, 39), (150, 47)],\n",
       " [(140, 3), (141, 2), (142, 2), (143, 1), (144, 4), (146, 1), (147, 19)],\n",
       " [(108, 8), (109, 14), (110, 15), (111, 48), (112, 25), (113, 34), (114, 36)],\n",
       " [(110, 19), (112, 4), (113, 8), (114, 6), (115, 7), (116, 5), (117, 3)],\n",
       " [(117, 13), (118, 29), (119, 29), (120, 29), (121, 34), (123, 39), (124, 15)],\n",
       " [(64, 12), (66, 8), (67, 18), (68, 12), (69, 13), (70, 50), (71, 22)],\n",
       " [(74, 10), (76, 11), (77, 33), (78, 23), (79, 24), (80, 19)],\n",
       " [(99, 25), (100, 13), (101, 37), (102, 21), (103, 47), (104, 14)],\n",
       " [(99, 48), (100, 22), (101, 25), (102, 7), (103, 7), (104, 13)],\n",
       " [(110, 32), (111, 23), (113, 13), (114, 13), (115, 57), (116, 23)],\n",
       " [(126, 18), (128, 20), (129, 19), (130, 22), (131, 36), (133, 28)],\n",
       " [(117, 18), (118, 14), (119, 23), (120, 9), (121, 21), (122, 15)],\n",
       " [(91, 39), (92, 28), (93, 31), (94, 10), (95, 51), (96, 34)],\n",
       " [(117, 16), (118, 43), (119, 28), (120, 10), (121, 12), (122, 27)],\n",
       " [(144, 11), (145, 22), (146, 6), (147, 17), (148, 26)],\n",
       " [(109, 3), (110, 2), (111, 4), (112, 3), (114, 10)],\n",
       " [(62, 2), (63, 2), (64, 24), (65, 3), (66, 12)],\n",
       " [(131, 23), (132, 4), (133, 7), (134, 0), (135, 3)],\n",
       " [(99, 38), (100, 42), (101, 7), (102, 56), (104, 20)],\n",
       " [(109, 50), (110, 39), (112, 32), (113, 39), (114, 54)],\n",
       " [(82, 33), (83, 13), (84, 31), (85, 14), (86, 50)],\n",
       " [(139, 20), (140, 11), (141, 24), (142, 10), (143, 25)],\n",
       " [(137, 14), (138, 5), (140, 2), (141, 8), (143, 16)],\n",
       " [(144, 8), (145, 20), (146, 16), (147, 7), (148, 1)],\n",
       " [(76, 33), (77, 12), (78, 12), (79, 10), (80, 7)],\n",
       " [(88, 18), (89, 8), (90, 3), (91, 5), (92, 4)],\n",
       " [(103, 16), (104, 26), (105, 55), (106, 42), (107, 31)],\n",
       " [(126, 45), (127, 52), (128, 39), (129, 48), (130, 45)],\n",
       " [(115, 13), (116, 30), (117, 47), (118, 48), (119, 30)],\n",
       " [(100, 24), (101, 18), (102, 11), (103, 10), (104, 11)],\n",
       " [(102, 9), (103, 12), (104, 45), (105, 37), (107, 15)],\n",
       " [(113, 4), (114, 4), (115, 8), (116, 17), (117, 15)],\n",
       " [(145, 45), (147, 14), (148, 32), (149, 25), (150, 41)],\n",
       " [(123, 8), (124, 11), (125, 1), (126, 5), (127, 5)],\n",
       " [(126, 5), (128, 10), (129, 12), (130, 7), (131, 8)],\n",
       " [(146, 47), (147, 59), (148, 43), (149, 43), (150, 54)],\n",
       " [(142, 16), (143, 19), (144, 6), (145, 2), (146, 11)],\n",
       " [(96, 41), (97, 30), (98, 24), (99, 28), (100, 14)],\n",
       " [(137, 50), (138, 51), (139, 55), (140, 56), (141, 37)],\n",
       " [(91, 7), (93, 9), (94, 0), (95, 1), (96, 10)],\n",
       " [(80, 48), (81, 43), (82, 20), (83, 26), (85, 28)],\n",
       " [(138, 16), (140, 13), (141, 18), (142, 18)],\n",
       " [(84, 34), (85, 32), (87, 38), (88, 22)],\n",
       " [(111, 46), (112, 57), (113, 46), (114, 47)],\n",
       " [(66, 43), (68, 21), (69, 23), (70, 52)],\n",
       " [(133, 26), (134, 35), (135, 57), (136, 45)],\n",
       " [(84, 57), (86, 47), (87, 54), (88, 36)],\n",
       " [(88, 1), (89, 0), (90, 8), (91, 6)],\n",
       " [(73, 55), (74, 11), (75, 6), (76, 3)],\n",
       " [(139, 51), (141, 47), (142, 15), (143, 54)],\n",
       " [(114, 35), (116, 21), (117, 58), (118, 59)],\n",
       " [(141, 14), (142, 29), (143, 18), (144, 37)],\n",
       " [(112, 49), (113, 48), (114, 34), (115, 43)],\n",
       " [(81, 17), (82, 39), (83, 28), (84, 44)],\n",
       " [(97, 3), (98, 3), (99, 13), (101, 20)],\n",
       " [(101, 0), (102, 6), (103, 9), (104, 7)],\n",
       " [(124, 3), (126, 0), (127, 0), (128, 0)],\n",
       " [(130, 23), (132, 40), (133, 41), (135, 48)],\n",
       " [(95, 3), (96, 15), (97, 22), (99, 56)],\n",
       " [(135, 13), (136, 39), (137, 21), (138, 7)],\n",
       " [(133, 10), (135, 20), (136, 28), (138, 35)],\n",
       " [(69, 35), (70, 33), (71, 48), (72, 36)],\n",
       " [(72, 9), (73, 25), (74, 9), (75, 52)],\n",
       " [(75, 17), (77, 23), (78, 14), (79, 51)],\n",
       " [(134, 57), (136, 23), (137, 29), (138, 9)],\n",
       " [(130, 8), (131, 15), (132, 17), (133, 34)],\n",
       " [(111, 36), (113, 23), (114, 19), (115, 13)],\n",
       " [(102, 37), (103, 38), (104, 44), (105, 43)],\n",
       " [(115, 9), (116, 12), (118, 25), (119, 4)],\n",
       " [(129, 33), (130, 14), (131, 40), (132, 33)],\n",
       " [(72, 20), (73, 38), (74, 37), (75, 13)],\n",
       " [(131, 42), (132, 58), (133, 23), (134, 22)],\n",
       " [(116, 32), (117, 10), (118, 24), (119, 10)],\n",
       " [(133, 27), (134, 28), (136, 14), (137, 41)],\n",
       " [(67, 3), (68, 23), (69, 55), (70, 9)],\n",
       " [(69, 55), (70, 48), (72, 44), (73, 26)],\n",
       " [(76, 38), (77, 6), (78, 24), (79, 14)],\n",
       " [(135, 14), (136, 22), (137, 26), (138, 24)],\n",
       " [(69, 15), (70, 3), (71, 15), (72, 16)],\n",
       " [(134, 33), (135, 28), (137, 31), (138, 10)],\n",
       " [(71, 22), (72, 10), (73, 15), (74, 4)],\n",
       " [(76, 30), (77, 56), (78, 30), (79, 55)],\n",
       " [(138, 34), (139, 43), (140, 59), (142, 16)],\n",
       " [(135, 27), (136, 20), (137, 17), (139, 19)],\n",
       " [(132, 36), (133, 13), (134, 11), (135, 27)],\n",
       " [(136, 47), (137, 35), (138, 29), (139, 47)],\n",
       " [(98, 41), (99, 55), (100, 4), (102, 35)],\n",
       " [(121, 25), (122, 9), (123, 19), (124, 19)],\n",
       " [(126, 19), (128, 30), (129, 37), (131, 43)],\n",
       " [(88, 2), (90, 5), (91, 4), (92, 19)],\n",
       " [(129, 4), (130, 1), (131, 3), (132, 1)],\n",
       " [(68, 6), (69, 19), (70, 55), (71, 58)],\n",
       " [(94, 8), (95, 5), (97, 26), (98, 13)],\n",
       " [(92, 53), (93, 36), (94, 6), (95, 42)],\n",
       " [(90, 39), (91, 20), (92, 51), (93, 57)],\n",
       " [(137, 44), (138, 36), (139, 34), (140, 40)],\n",
       " [(135, 35), (137, 23), (138, 16)],\n",
       " [(82, 58), (83, 3), (84, 34)],\n",
       " [(73, 27), (74, 10), (75, 46)],\n",
       " [(114, 33), (115, 15), (117, 22)],\n",
       " [(144, 37), (145, 46), (146, 32)],\n",
       " [(109, 18), (110, 3), (111, 11)],\n",
       " [(107, 11), (108, 3), (109, 18)],\n",
       " [(128, 23), (129, 29), (130, 13)],\n",
       " [(130, 13), (132, 20), (133, 12)],\n",
       " [(86, 50), (87, 37), (88, 30)],\n",
       " [(142, 21), (143, 41), (144, 8)],\n",
       " [(95, 39), (96, 11), (98, 1)],\n",
       " [(147, 19), (148, 4), (149, 11)],\n",
       " [(107, 31), (108, 48), (110, 58)],\n",
       " [(100, 26), (102, 10), (103, 16)],\n",
       " [(117, 3), (118, 20), (119, 7)],\n",
       " [(116, 17), (118, 45), (119, 26)],\n",
       " [(75, 13), (76, 6), (77, 36)],\n",
       " [(134, 22), (135, 37), (137, 20)],\n",
       " [(131, 29), (132, 29), (133, 27)],\n",
       " [(70, 9), (71, 44), (72, 8)],\n",
       " [(67, 6), (68, 20), (69, 15)],\n",
       " [(133, 40), (135, 24), (136, 47)],\n",
       " [(131, 24), (133, 40), (134, 29)],\n",
       " [(113, 24), (115, 1), (116, 16)],\n",
       " [(114, 21), (115, 1), (117, 45)],\n",
       " [(116, 57), (117, 56), (119, 52)],\n",
       " [(113, 18), (114, 20), (116, 11)],\n",
       " [(63, 3), (64, 27), (66, 20)],\n",
       " [(60, 58), (61, 47), (63, 16)],\n",
       " [(128, 46), (129, 49), (130, 43)],\n",
       " [(102, 41), (104, 48), (105, 33)],\n",
       " [(148, 13), (149, 10), (150, 7)],\n",
       " [(136, 40), (137, 22), (139, 33)],\n",
       " [(117, 6), (118, 6), (120, 1)],\n",
       " [(87, 34), (88, 40), (89, 58)],\n",
       " [(110, 13), (111, 38), (112, 20)],\n",
       " [(70, 45), (72, 0), (73, 0)],\n",
       " [(86, 4), (87, 0), (88, 0)],\n",
       " [(107, 41), (108, 15), (109, 15)],\n",
       " [(146, 54), (147, 35), (149, 56)],\n",
       " [(145, 14), (147, 57), (148, 30)],\n",
       " [(72, 15), (73, 1), (75, 9)],\n",
       " [(141, 55), (142, 54), (143, 40)],\n",
       " [(70, 46), (71, 17), (72, 59)],\n",
       " [(61, 20), (62, 5), (63, 30)],\n",
       " [(112, 17), (113, 32), (114, 26)],\n",
       " [(66, 50), (67, 51), (68, 35)],\n",
       " [(130, 18), (131, 41), (133, 25)],\n",
       " [(140, 6), (141, 23), (142, 3)],\n",
       " [(148, 41), (149, 18), (150, 4)],\n",
       " [(124, 48), (126, 36), (127, 37)],\n",
       " [(120, 7), (121, 16), (122, 7)],\n",
       " [(124, 43), (126, 44), (127, 25)],\n",
       " [(119, 47), (120, 41), (122, 28)],\n",
       " [(126, 50), (127, 43), (128, 25)],\n",
       " [(104, 29), (105, 51), (106, 56)],\n",
       " [(69, 29), (70, 8), (71, 14)],\n",
       " [(83, 20), (84, 48), (86, 27)],\n",
       " [(101, 57), (102, 55), (103, 23)],\n",
       " [(142, 20), (143, 43), (144, 20)],\n",
       " [(71, 21), (72, 48), (73, 10)],\n",
       " [(123, 2), (124, 2), (125, 38)],\n",
       " [(99, 57), (101, 36), (102, 3)],\n",
       " [(80, 0), (82, 27), (83, 43)],\n",
       " [(127, 56), (129, 55), (130, 54)],\n",
       " [(120, 5), (121, 15), (123, 55)],\n",
       " [(129, 50), (130, 49), (131, 55)],\n",
       " [(132, 8), (134, 42), (135, 21)],\n",
       " [(128, 54), (129, 26), (130, 19)],\n",
       " [(144, 13), (146, 21), (147, 37)],\n",
       " [(70, 23), (71, 26), (72, 34)],\n",
       " [(79, 4), (80, 8), (82, 15)],\n",
       " [(74, 25), (75, 44), (76, 17)],\n",
       " [(120, 28), (121, 20), (123, 14)],\n",
       " [(95, 44), (96, 14), (97, 23)],\n",
       " [(136, 12), (137, 25), (138, 17)],\n",
       " [(112, 13), (114, 18), (115, 24)],\n",
       " [(136, 31), (137, 16), (138, 55)],\n",
       " [(75, 21), (77, 15), (78, 13)],\n",
       " [(106, 24), (107, 33), (108, 56)],\n",
       " [(95, 4), (97, 10), (98, 14)],\n",
       " [(111, 55), (113, 54), (114, 58)],\n",
       " [(112, 47), (113, 56), (115, 46)],\n",
       " [(104, 51), (105, 54), (107, 53)],\n",
       " [(80, 42), (81, 19), (83, 24)],\n",
       " [(122, 4), (123, 32), (125, 23)],\n",
       " [(90, 41), (91, 53), (92, 54)],\n",
       " [(87, 35), (89, 37), (90, 51)],\n",
       " [(137, 12), (139, 11), (140, 19)],\n",
       " [(117, 9), (118, 54), (119, 27)],\n",
       " [(128, 12), (129, 54), (130, 27)],\n",
       " [(147, 25), (148, 24), (149, 26)],\n",
       " [(113, 38), (114, 37), (116, 19)],\n",
       " [(113, 14), (114, 11), (115, 3)],\n",
       " [(98, 49), (100, 7), (101, 15)],\n",
       " [(99, 31), (100, 52), (101, 59)],\n",
       " [(128, 40), (129, 20), (131, 49)],\n",
       " [(113, 21), (114, 31), (115, 39)],\n",
       " [(141, 22), (143, 45), (144, 46)],\n",
       " [(85, 56), (87, 18), (88, 9)],\n",
       " [(142, 6), (143, 14), (145, 40)],\n",
       " [(117, 0), (119, 1), (120, 2)],\n",
       " [(68, 26), (69, 38), (70, 47)],\n",
       " [(68, 25), (69, 49), (71, 42)],\n",
       " [(115, 52), (117, 8), (118, 23)],\n",
       " [(78, 39), (79, 12), (80, 49)],\n",
       " [(127, 27), (128, 57), (129, 30)],\n",
       " [(106, 51), (107, 50), (108, 35)],\n",
       " [(124, 29), (125, 3), (127, 54)],\n",
       " [(63, 19), (65, 58), (66, 52)],\n",
       " [(123, 34), (124, 26), (125, 17)],\n",
       " [(117, 7), (118, 11), (120, 30)],\n",
       " [(79, 18), (81, 22), (82, 17)],\n",
       " [(93, 16), (94, 43), (95, 30)],\n",
       " [(85, 22), (86, 59), (87, 48)],\n",
       " [(88, 11), (90, 7), (91, 11)],\n",
       " [(111, 49), (112, 41), (114, 46)],\n",
       " [(80, 46), (82, 52), (83, 36)],\n",
       " [(95, 27), (97, 21), (98, 54)],\n",
       " [(118, 12), (119, 42), (121, 57)],\n",
       " [(147, 55), (148, 37), (150, 25)],\n",
       " [(69, 14), (70, 13), (72, 40)],\n",
       " [(107, 10), (108, 19), (110, 31)],\n",
       " [(142, 51), (143, 46), (144, 39)],\n",
       " [(98, 30), (99, 34), (100, 25)],\n",
       " [(147, 12), (148, 35), (150, 40)],\n",
       " [(85, 34), (86, 35), (87, 26)],\n",
       " [(62, 19), (63, 53), (64, 34)],\n",
       " [(126, 10), (127, 22), (128, 18)],\n",
       " [(117, 41), (118, 58), (119, 58)],\n",
       " [(118, 37), (119, 20), (121, 37)],\n",
       " [(101, 19), (102, 13), (104, 36)],\n",
       " [(84, 33), (85, 23), (87, 52)],\n",
       " [(100, 9), (102, 19), (103, 22)],\n",
       " [(60, 34), (61, 54), (62, 26)],\n",
       " [(116, 15), (117, 19), (119, 35)],\n",
       " [(110, 57), (112, 37), (113, 31)],\n",
       " [(103, 21), (104, 41), (106, 4)],\n",
       " [(146, 17), (147, 2), (148, 9)],\n",
       " [(142, 4), (143, 8), (144, 14)],\n",
       " [(101, 46), (102, 49), (103, 40)],\n",
       " [(118, 16), (119, 8), (120, 4)],\n",
       " [(137, 6), (138, 38), (139, 18)],\n",
       " [(123, 1), (124, 6), (125, 6)],\n",
       " [(67, 41), (68, 13), (69, 46)],\n",
       " [(72, 3), (73, 5), (74, 3)],\n",
       " [(126, 16), (127, 29), (128, 45)],\n",
       " [(113, 35), (114, 45), (115, 35)],\n",
       " [(73, 42), (74, 35), (75, 30)],\n",
       " [(61, 5), (62, 21), (63, 35)],\n",
       " [(65, 35), (67, 20), (68, 19)],\n",
       " [(137, 5), (138, 2), (139, 26)],\n",
       " [(144, 16), (145, 41), (146, 57)],\n",
       " [(108, 18), (110, 10), (111, 12)],\n",
       " [(142, 50), (143, 29), (144, 47)],\n",
       " [(87, 57), (89, 56), (90, 54)],\n",
       " [(106, 40), (108, 9), (109, 57)],\n",
       " [(68, 24), (70, 49), (71, 51)],\n",
       " [(100, 5), (102, 43), (103, 43)],\n",
       " [(99, 35), (100, 11), (101, 3)],\n",
       " [(81, 56), (83, 50), (84, 9)],\n",
       " [(77, 42), (79, 49), (80, 23)],\n",
       " [(137, 1), (139, 2), (140, 4)],\n",
       " [(126, 21), (127, 39), (128, 44)],\n",
       " [(92, 50), (94, 17), (95, 57)],\n",
       " [(78, 15), (79, 40), (81, 7)],\n",
       " [(109, 29), (111, 15), (112, 23)],\n",
       " [(102, 34), (103, 32), (105, 24)],\n",
       " [(95, 2), (96, 24), (97, 12)],\n",
       " [(88, 32), (90, 36), (91, 36)],\n",
       " [(62, 52), (64, 41), (65, 28)]]"
      ]
     },
     "execution_count": 13,
     "metadata": {},
     "output_type": "execute_result"
    }
   ],
   "source": [
    "node_groups"
   ]
  },
  {
   "cell_type": "code",
   "execution_count": null,
   "metadata": {
    "collapsed": false
   },
   "outputs": [],
   "source": [
    "plt.hist([len(g) for g in node_groups if len(g) >= 2]);\n",
    "plt.xlabel('node group size');\n",
    "plt.show();"
   ]
  },
  {
   "cell_type": "code",
   "execution_count": 17,
   "metadata": {
    "collapsed": false
   },
   "outputs": [
    {
     "data": {
      "text/plain": [
       "[(4, 2),\n",
       " (59, 3),\n",
       " (21, 16),\n",
       " (7, 17),\n",
       " (56, 27),\n",
       " (11, 38),\n",
       " (9, 39),\n",
       " (6, 64),\n",
       " (37, 76),\n",
       " (35, 95),\n",
       " (10, 119),\n",
       " (41, 136),\n",
       " (55, 164),\n",
       " (3, 168),\n",
       " (13, 237),\n",
       " (19, 239),\n",
       " (49, 246),\n",
       " (43, 264),\n",
       " (34, 273)]"
      ]
     },
     "execution_count": 17,
     "metadata": {},
     "output_type": "execute_result"
    }
   ],
   "source": [
    "section_contains[102]"
   ]
  },
  {
   "cell_type": "code",
   "execution_count": 15,
   "metadata": {
    "collapsed": true
   },
   "outputs": [],
   "source": [
    "# good_node_groups = [g for g in node_groups if len(g) >= 5]\n",
    "good_node_groups = node_groups\n",
    "\n",
    "from collections import defaultdict\n",
    "from operator import itemgetter\n",
    "\n",
    "section_contains = defaultdict(list)\n",
    "for gid, nodes in enumerate(good_node_groups):\n",
    "    for sec, lm_ind in nodes:\n",
    "        section_contains[sec].append((lm_ind, gid))\n",
    "    \n",
    "section_contains.default_factory= None"
   ]
  },
  {
   "cell_type": "code",
   "execution_count": null,
   "metadata": {
    "collapsed": false
   },
   "outputs": [],
   "source": [
    "for sec in dms.keys():\n",
    "    if sec in section_contains:\n",
    "        dms[sec].save_pipeline_result(section_contains[sec], 'atlasLandmarkIndices')\n",
    "    else:\n",
    "        dms[sec].save_pipeline_result([], 'atlasLandmarkIndices')"
   ]
  },
  {
   "cell_type": "code",
   "execution_count": null,
   "metadata": {
    "collapsed": true
   },
   "outputs": [],
   "source": [
    "# dedges_allsecs = dict([(sec, map(itemgetter(0), dm.load_pipeline_result('boundaryModels'))) \n",
    "#                    for sec, dm in dms.iteritems()])"
   ]
  },
  {
   "cell_type": "code",
   "execution_count": null,
   "metadata": {
    "collapsed": false,
    "scrolled": true
   },
   "outputs": [],
   "source": [
    "# def generate_atlas_visualization(sec, bnds):\n",
    "#     '''\n",
    "#     e.g. tpl = {section#:[(boundary#, landmark#),...], ...}\n",
    "#     '''\n",
    "#        print sec, bnds\n",
    "#     dm = dms[sec]\n",
    "#     dedges_alllms = dedges_allsecs[sec]\n",
    "#     viz = dm.visualize_edge_sets([dedges_alllms[lm_ind] for lm_ind, group_ind in bnds], \n",
    "#                                  show_set_index=True,\n",
    "#                                  labels=[str(group_ind) for lm_ind, group_ind in bnds],\n",
    "#                                 bg='originalImage')\n",
    "#     dm.save_pipeline_result(viz, 'atlasViz')\n",
    "\n",
    "# Parallel(n_jobs=8)(delayed(generate_atlas_visualization)(sec, bnds) for sec, bnds in section_contains.iteritems())\n",
    "\n",
    "for sec, bnds in section_contains.iteritems():\n",
    "    t = time.time()\n",
    "    generate_atlas_visualization(sec, bnds)\n",
    "    print time.time() - t"
   ]
  },
  {
   "cell_type": "code",
   "execution_count": null,
   "metadata": {
    "collapsed": true
   },
   "outputs": [],
   "source": []
  },
  {
   "cell_type": "code",
   "execution_count": null,
   "metadata": {
    "collapsed": true
   },
   "outputs": [],
   "source": [
    "from skimage.util import pad\n",
    "\n",
    "sys.path.append('/home/yuncong/project/opencv-2.4.9/release/lib/python2.7/site-packages')\n",
    "import cv2\n",
    "\n",
    "def visualize_landmark_multiple_sections2(tpl, text=False):\n",
    "    '''\n",
    "    e.g. tpl = [(3,1),(4,2)]\n",
    "    '''\n",
    "    \n",
    "    viss = []\n",
    "    for sec, bnd in tpl: \n",
    "        b_models = dms[sec].load_pipeline_result('boundaryModels')\n",
    "        dedges = b_models[bnd][0]\n",
    "        v = dms[sec].visualize_edge_set(dedges, bg='originalImage')\n",
    "        \n",
    "#         v = dm.load_pipeline_result('boundary%02d'%bnd, 'jpg')\n",
    "        if text:\n",
    "            cv2.putText(v, '%d,%d'%(sec,bnd), tuple([300,300]), cv2.FONT_HERSHEY_COMPLEX, 10, (0,0,0), 5)\n",
    "        viss.append(v)\n",
    "    \n",
    "    hws = np.array([v.shape[:2] for v in viss])\n",
    "    hmax, wmax = np.max(hws, axis=0)\n",
    "    top_margins = [int((hmax - h)/2) for h,w in hws]\n",
    "    bottom_margins = [ hmax - h - lm for (h,w), lm in zip(hws, top_margins)]\n",
    "    \n",
    "    viss_padded = []\n",
    "    for vis, lm, rm in zip(viss, top_margins, bottom_margins):\n",
    "        viss_padded.append(pad(vis, ((lm,rm),(0,0),(0,0)), 'constant', constant_values=255))\n",
    "        \n",
    "    vis_stacked = np.hstack(viss_padded)\n",
    "    return vis_stacked"
   ]
  },
  {
   "cell_type": "code",
   "execution_count": null,
   "metadata": {
    "collapsed": true
   },
   "outputs": [],
   "source": [
    "def rigid_transform_from_pairs(X,Y):\n",
    "    '''\n",
    "    X, Y are n-by-2 matrices\n",
    "    Reference: http://nghiaho.com/?page_id=671\n",
    "    '''\n",
    "\n",
    "    n = X.shape[0]\n",
    "    assert X.shape[0] == Y.shape[0], 'two point sets have different size'\n",
    "    assert n >= 2, 'rgiid transform estimate needs at least two points'\n",
    "    \n",
    "    X = X.T\n",
    "    Y = Y.T\n",
    "    \n",
    "    Xcentroid = X.mean(axis=1)\n",
    "    Ycentroid = Y.mean(axis=1)\n",
    "    \n",
    "    Xcentered = X - Xcentroid[:, np.newaxis]\n",
    "    Ycentered = Y - Ycentroid[:, np.newaxis]\n",
    "    \n",
    "    U, S, V = np.linalg.svd(np.dot(Xcentered, Ycentered.T))\n",
    "    R = np.dot(V, U.T)\n",
    "    d = np.linalg.det(R)\n",
    "    if d < 0:\n",
    "        R[1] *= -1\n",
    "    angle = np.arctan2(R[1,0], R[0,0])\n",
    "    t = Ycentroid - np.dot(R, Xcentroid)\n",
    "    \n",
    "    T = np.eye(3)\n",
    "    T[:2, :2] = R\n",
    "    T[:2, 2] = t\n",
    "   \n",
    "    return T, angle\n",
    "\n",
    "def rigid_transform_to(pts1, T):\n",
    "    pts1_trans = np.dot(T, np.column_stack([pts1, np.ones((pts1.shape[0],))]).T).T\n",
    "#     pts1_trans = pts1_trans[:,:2]/pts1_trans[:,-1][:,np.newaxis]\n",
    "    return pts1_trans[:,:2]"
   ]
  },
  {
   "cell_type": "code",
   "execution_count": null,
   "metadata": {
    "collapsed": false
   },
   "outputs": [],
   "source": [
    "section_contains_centroids = [dict([(gid, boundary_models[si][bid][4]) for bid, gid in sc]) \n",
    "                              for si, sc in enumerate(section_contains)]"
   ]
  },
  {
   "cell_type": "code",
   "execution_count": null,
   "metadata": {
    "collapsed": false
   },
   "outputs": [],
   "source": [
    "gid_overlap = [[set(sc1.keys()) & set(sc2.keys()) for sc2 in section_contains_centroids] for sc1 in section_contains_centroids]"
   ]
  },
  {
   "cell_type": "code",
   "execution_count": null,
   "metadata": {
    "collapsed": true
   },
   "outputs": [],
   "source": [
    "import random\n",
    "\n",
    "def ransac_rigid_transform(X, Y, sample_size=3):\n",
    "    \n",
    "    n = X.shape[0]\n",
    "    err_all = []\n",
    "    T_all = []\n",
    "    inlier_all = []\n",
    "    for si in range(10):    \n",
    "#         print 'iter', si\n",
    "        s = random.sample(range(n), min(sample_size, n))\n",
    "        for ri in range(10):\n",
    "            Xs = X[s]\n",
    "            Ys = Y[s]\n",
    "            T, _ = rigid_transform_from_pairs(Xs, Ys)\n",
    "            Xst = rigid_transform_to(Xs, T)\n",
    "            d = Xst - Ys\n",
    "            errs = np.sqrt(np.sum(d**2, axis=1))\n",
    "            s2 = list(set(s) | set(np.where(errs < 500)[0]))\n",
    "#             print ri, np.mean(errs), len(s2)\n",
    "            if len(s2) == len(s):\n",
    "                break\n",
    "            else:\n",
    "                s = s2\n",
    "        inlier_all.append(s)\n",
    "        err_all.append(np.mean(errs))\n",
    "        T_all.append(T)\n",
    "    \n",
    "    best = np.argmin(err_all)\n",
    "#     print err_all[best]\n",
    "#     print best\n",
    "    return T_all[best], inlier_all[best]"
   ]
  },
  {
   "cell_type": "code",
   "execution_count": null,
   "metadata": {
    "collapsed": true
   },
   "outputs": [],
   "source": [
    "margin = 500\n",
    "\n",
    "img_shapes = [dm.image_rgb.shape[:2] for dm in dms]\n",
    "max_height, max_width = np.max(img_shapes, axis=0)\n",
    "\n",
    "canvas_width = max_width + 2 * margin\n",
    "canvas_height = max_height + 2 * margin"
   ]
  },
  {
   "cell_type": "code",
   "execution_count": null,
   "metadata": {
    "collapsed": true
   },
   "outputs": [],
   "source": [
    "def pad_image(img, canvas_shape):\n",
    "    \n",
    "    canvas_height, canvas_width = canvas_shape\n",
    "    \n",
    "    bg = 255 * np.ones((canvas_height, canvas_width, 3), dtype=np.uint8)\n",
    "    rgb = img[..., :3]\n",
    "\n",
    "    img_h, img_w = img.shape[:2]\n",
    "    bg[canvas_height/2-img_h/2:canvas_height/2+(img_h-img_h/2),\n",
    "            canvas_width/2-img_w/2:canvas_width/2+(img_w-img_w/2), :] = rgb\n",
    "\n",
    "    return bg"
   ]
  },
  {
   "cell_type": "code",
   "execution_count": null,
   "metadata": {
    "collapsed": false,
    "scrolled": true
   },
   "outputs": [],
   "source": [
    "for dm in dms:\n",
    "    atlas_img = dm.load_pipeline_result('atlas', 'jpg')\n",
    "    padded_img = pad_image(atlas_img, (canvas_height, canvas_width))\n",
    "    dm.save_pipeline_result(padded_img, 'paddedGlobalLabel', 'jpg')"
   ]
  },
  {
   "cell_type": "code",
   "execution_count": null,
   "metadata": {
    "collapsed": false,
    "scrolled": true
   },
   "outputs": [],
   "source": [
    "for dm in dms:\n",
    "    padded_img = pad_image(dm.image_rgb, (canvas_height, canvas_width))\n",
    "    dm.save_pipeline_result(padded_img, 'padded', 'jpg')"
   ]
  },
  {
   "cell_type": "code",
   "execution_count": null,
   "metadata": {
    "collapsed": false
   },
   "outputs": [],
   "source": [
    "spacings_yx = np.array([((canvas_height-h)/2, (canvas_width-w)/2) for h,w in img_shapes])"
   ]
  },
  {
   "cell_type": "code",
   "execution_count": null,
   "metadata": {
    "collapsed": false
   },
   "outputs": [],
   "source": [
    "undetermined_section_pairs = zip(*map(list, np.where([[len(gids) < 2 for gids in g] for g in gid_overlap])))"
   ]
  },
  {
   "cell_type": "code",
   "execution_count": null,
   "metadata": {
    "collapsed": false
   },
   "outputs": [],
   "source": [
    "Ts = np.empty((n_slice, n_slice, 3, 3))\n",
    "# angles = np.empty((n_slice, n_slice))\n",
    "Xs = [[None for _ in range(n_slice)] for _ in range(n_slice)]\n",
    "Xts = [[None for _ in range(n_slice)] for _ in range(n_slice)]\n",
    "Ys = [[None for _ in range(n_slice)] for _ in range(n_slice)]\n",
    "\n",
    "for s1, a in enumerate(gid_overlap):\n",
    "    for s2, gids in enumerate(a):\n",
    "        if (s1,s2) in undetermined_section_pairs or (s2,s1) in undetermined_section_pairs:\n",
    "            Ts[s1,s2] = np.nan * np.ones((3,3))\n",
    "        else:\n",
    "            gids = list(gids)\n",
    "            X = np.array([section_contains_centroids[s1][gid] + spacings_yx[s1][::-1] for gid in gids])\n",
    "            Y = np.array([section_contains_centroids[s2][gid] + spacings_yx[s2][::-1] for gid in gids])\n",
    "            Xs[s1][s2] = X\n",
    "            Ys[s1][s2] = Y\n",
    "            \n",
    "#             T, _ = rigid_transform_from_pairs(X, Y)\n",
    "            T, inliers = ransac_rigid_transform(X, Y)\n",
    "#             print [gids[i] for i in inliers]\n",
    "            \n",
    "            Xt = rigid_transform_to(X, T)\n",
    "            Xts[s1][s2] = Xt\n",
    "            Ts[s1,s2] = T\n",
    "#             angles[s1,s2] = angle\n",
    "\n",
    "#             plt.title('%d,%d'%(s1,s2))\n",
    "# #             gids = list(gid_overlap[s1][s2])\n",
    "#             if len(gids) <= 1:\n",
    "#                 continue\n",
    "\n",
    "#             plt.scatter(Xts[s1][s2][:,0], Xts[s1][s2][:,1], c='r');\n",
    "#             plt.scatter(Ys[s1][s2][:,0], Ys[s1][s2][:,1], c='g');\n",
    "#             for i, gid in enumerate(gids):\n",
    "#                 plt.text(Xts[s1][s2][i,0], Xts[s1][s2][i,1], str(gid));\n",
    "#                 plt.text(Ys[s1][s2][i,0], Ys[s1][s2][i,1], str(gid));\n",
    "\n",
    "#             plt.ylim([0, dms[s2].image_rgb.shape[0]])\n",
    "#             plt.xlim([0, dms[s2].image_rgb.shape[1]])\n",
    "\n",
    "#             plt.axis('equal');\n",
    "#             plt.show();"
   ]
  },
  {
   "cell_type": "code",
   "execution_count": null,
   "metadata": {
    "collapsed": false
   },
   "outputs": [],
   "source": [
    "s1 = 2\n",
    "s2 = 35\n",
    "\n",
    "plt.title('%d,%d'%(s1,s2))\n",
    "gids = list(gid_overlap[s1][s2])\n",
    "assert  len(gids) > 1\n",
    "    \n",
    "plt.scatter(Xts[s1][s2][:,0], Xts[s1][s2][:,1], c='r');\n",
    "plt.scatter(Ys[s1][s2][:,0], Ys[s1][s2][:,1], c='g');\n",
    "for i, gid in enumerate(gids):\n",
    "    plt.text(Xts[s1][s2][i,0], Xts[s1][s2][i,1], str(gid));\n",
    "    plt.text(Ys[s1][s2][i,0], Ys[s1][s2][i,1], str(gid));\n",
    "\n",
    "plt.gca().set_ylim([0, canvas_height])\n",
    "plt.gca().set_xlim([0, canvas_width])\n",
    "\n",
    "# plt.ylim([0, dms[s2].image_rgb.shape[0]])\n",
    "# plt.xlim([0, dms[s2].image_rgb.shape[1]])\n",
    "\n",
    "plt.axis('equal');\n",
    "plt.show();"
   ]
  },
  {
   "cell_type": "code",
   "execution_count": null,
   "metadata": {
    "collapsed": true
   },
   "outputs": [],
   "source": [
    "Rs = Ts[..., :2, :2]\n",
    "angles = np.arctan2(Rs[..., 1,0], Rs[...,0,0])"
   ]
  },
  {
   "cell_type": "code",
   "execution_count": null,
   "metadata": {
    "collapsed": false
   },
   "outputs": [],
   "source": [
    "ts = np.zeros((n_slice, n_slice, 2))\n",
    "for sc1 in range(n_slice):\n",
    "    for sc2 in range(n_slice):\n",
    "        ts[sc1, sc2] = np.dot(np.linalg.inv(Rs[sc1,sc2]), Ts[sc1,sc2,:2,2])"
   ]
  },
  {
   "cell_type": "code",
   "execution_count": null,
   "metadata": {
    "collapsed": false
   },
   "outputs": [],
   "source": [
    "rs,cs = np.triu_indices(n_slice,1)\n",
    "valid_section_pairs = list(set(zip(rs.tolist(), cs.tolist())) - set(undetermined_section_pairs))\n",
    "\n",
    "weights = np.array([np.exp(-(np.abs(i-j)-1)) for i,j in valid_section_pairs])\n",
    "\n",
    "nc = len(valid_section_pairs)\n",
    "\n",
    "A = np.zeros((nc, n_slice))\n",
    "for r, (i,j) in enumerate(valid_section_pairs):\n",
    "    A[r, [i,j]] = np.array([1, -1])\n",
    "\n",
    "rs, cs = zip(*valid_section_pairs)\n",
    "b = ts[rs,cs]"
   ]
  },
  {
   "cell_type": "code",
   "execution_count": null,
   "metadata": {
    "collapsed": false,
    "scrolled": true
   },
   "outputs": [],
   "source": [
    "t0 = np.dot(np.linalg.pinv(weights[:,np.newaxis] * A), weights[:,np.newaxis] * b)"
   ]
  },
  {
   "cell_type": "code",
   "execution_count": null,
   "metadata": {
    "collapsed": false
   },
   "outputs": [],
   "source": [
    "print t0[16]-t0[17]\n",
    "print ts[16,17]"
   ]
  },
  {
   "cell_type": "code",
   "execution_count": null,
   "metadata": {
    "collapsed": false
   },
   "outputs": [],
   "source": [
    "A = np.zeros((nc, n_slice))\n",
    "for r, (i,j) in enumerate(valid_section_pairs):\n",
    "    A[r, [i,j]] = [1, -1]\n",
    "\n",
    "rs, cs = zip(*valid_section_pairs)\n",
    "b = angles[rs,cs]"
   ]
  },
  {
   "cell_type": "code",
   "execution_count": null,
   "metadata": {
    "collapsed": false
   },
   "outputs": [],
   "source": [
    "angles0 = np.dot(np.linalg.pinv(weights[:,np.newaxis] * A),  weights * b)\n",
    "R0s = [np.array([[np.cos(a), -np.sin(a)], [np.sin(a), np.cos(a)]]) for a in angles0]"
   ]
  },
  {
   "cell_type": "code",
   "execution_count": null,
   "metadata": {
    "collapsed": true
   },
   "outputs": [],
   "source": [
    "def rot_to_angle(R):\n",
    "    return np.rad2deg(np.arctan2(R[1,0], R[0,0]))"
   ]
  },
  {
   "cell_type": "code",
   "execution_count": null,
   "metadata": {
    "collapsed": false
   },
   "outputs": [],
   "source": [
    "print np.rad2deg(angles[16,17])\n",
    "print rot_to_angle(R0s[16]) - rot_to_angle(R0s[17])"
   ]
  },
  {
   "cell_type": "code",
   "execution_count": null,
   "metadata": {
    "collapsed": false
   },
   "outputs": [],
   "source": [
    "T0s = [np.vstack([np.column_stack([R, np.dot(R, t0[i])]), [0,0,1]]) for i, R in enumerate(R0s)]"
   ]
  },
  {
   "cell_type": "code",
   "execution_count": null,
   "metadata": {
    "collapsed": false,
    "scrolled": true
   },
   "outputs": [],
   "source": [
    "from skimage.transform import warp, AffineTransform\n",
    "\n",
    "for sc, dm in enumerate(dms):\n",
    "    print sc\n",
    "#     padded_img = dm.load_pipeline_result('padded', 'jpg')\n",
    "    padded_img = dm.load_pipeline_result('paddedGlobalLabel', 'jpg')\n",
    "    trf = AffineTransform(T0s[sc])\n",
    "    img_trf = warp(padded_img, inverse_map=trf.inverse)\n",
    "    dm.save_pipeline_result(img_trf, 'alignedGlobalLabel', 'jpg')"
   ]
  },
  {
   "cell_type": "code",
   "execution_count": null,
   "metadata": {
    "collapsed": false
   },
   "outputs": [],
   "source": [
    "from joblib import Parallel, delayed\n",
    "from skimage.transform import resize\n",
    "\n",
    "def f(i, h):\n",
    "    row_size = 5\n",
    "    for r in np.arange(0, len(h), row_size):\n",
    "        v = visualize_landmark_multiple_sections2(h[r:r+row_size], text=True)\n",
    "        imsave('/tmp/robustLandmark%d_%d.jpg'%(i, r/row_size), resize(v, (v.shape[0]/5,v.shape[1]/5)))\n",
    "        \n",
    "Parallel(n_jobs=16)(delayed(f)(i, lms) for i, lms in enumerate(node_groups[:10]))  "
   ]
  },
  {
   "cell_type": "code",
   "execution_count": null,
   "metadata": {
    "collapsed": true
   },
   "outputs": [],
   "source": [
    "# KMeans method using neighbor set as feature and Jaccard as distance"
   ]
  },
  {
   "cell_type": "code",
   "execution_count": null,
   "metadata": {
    "collapsed": false
   },
   "outputs": [],
   "source": [
    "n_nodes = G.number_of_nodes()\n",
    "connection_features = [set(G.neighbors(n)) | {n} for n in G.nodes_iter()]\n",
    "overlap_mat = np.reshape([len(i&j)\n",
    "                          for i,j in product(connection_features,connection_features)], \n",
    "                         (n_nodes,n_nodes))\n",
    "m = overlap_mat.max()\n",
    "d = m - overlap_mat\n",
    "np.fill_diagonal(d, 0)"
   ]
  },
  {
   "cell_type": "code",
   "execution_count": null,
   "metadata": {
    "collapsed": false,
    "scrolled": true
   },
   "outputs": [],
   "source": [
    "overlap_thresh = 1\n",
    "node_groups = sorted([sorted([G.nodes()[n] for n in g]) \n",
    "                      for g in group_clusters(d, m-overlap_thresh)],\n",
    "                     key=lambda x: len(x), reverse=True)\n",
    "draw_group_containing_node(node, node_groups)"
   ]
  },
  {
   "cell_type": "code",
   "execution_count": null,
   "metadata": {
    "collapsed": false
   },
   "outputs": [],
   "source": [
    "n_nodes = G.number_of_nodes()\n",
    "connection_features = [set(G.neighbors(n)) | {n} for n in G.nodes_iter()]\n",
    "\n",
    "jaccard_mat = np.zeros((n_nodes,n_nodes))\n",
    "for i, (si, li) in enumerate(G.nodes_iter()):\n",
    "    for j, (sj, lj) in enumerate(G.nodes_iter()):\n",
    "        a = set([(sn,ln) for sn,ln in connection_features[i] if sn >= sj-3 and sn <= sj+3])\n",
    "        b = set([(sn,ln) for sn,ln in connection_features[j] if sn >= si-3 and sn <= si+3])\n",
    "        if len(a)==0 or len(b)==0:\n",
    "            jaccard_mat[i,j] = 0\n",
    "        else:\n",
    "            jaccard_mat[i,j] = len(a&b)/float(len(a|b))\n",
    "\n",
    "            \n",
    "# jaccard_mat = np.reshape([len(i&j)/float(len(i|j)) \n",
    "#                           for i,j in product(connection_features,connection_features)], \n",
    "#                          (n_nodes,n_nodes))"
   ]
  },
  {
   "cell_type": "code",
   "execution_count": null,
   "metadata": {
    "collapsed": false,
    "scrolled": false
   },
   "outputs": [],
   "source": [
    "jaccard_thresh = .5\n",
    "node_groups = sorted([sorted([G.nodes()[n] for n in g]) for g in group_clusters(1.-jaccard_mat, 1.-jaccard_thresh)],\n",
    "                    key=lambda x: len(x), reverse=True)\n",
    "draw_group_containing_node(node, node_groups)\n",
    "\n",
    "jaccard_thresh = .6\n",
    "node_groups = sorted([sorted([G.nodes()[n] for n in g]) for g in group_clusters(1.-jaccard_mat, 1.-jaccard_thresh)],\n",
    "                    key=lambda x: len(x), reverse=True)\n",
    "draw_group_containing_node(node, node_groups)\n",
    "\n",
    "jaccard_thresh = .7\n",
    "node_groups = sorted([sorted([G.nodes()[n] for n in g]) for g in group_clusters(1.-jaccard_mat, 1.-jaccard_thresh)],\n",
    "                    key=lambda x: len(x), reverse=True)\n",
    "draw_group_containing_node(node, node_groups)\n",
    "\n",
    "\n",
    "node_groups = list(k_clique_communities(G, 4))\n",
    "draw_group_containing_node(node, node_groups)\n"
   ]
  },
  {
   "cell_type": "code",
   "execution_count": null,
   "metadata": {
    "collapsed": false
   },
   "outputs": [],
   "source": [
    "all_matchings = G.edges()\n",
    "\n",
    "for i in all_matchings:\n",
    "    if (2, 31) in i:\n",
    "        print i"
   ]
  },
  {
   "cell_type": "code",
   "execution_count": null,
   "metadata": {
    "collapsed": false,
    "scrolled": true
   },
   "outputs": [],
   "source": [
    "from joblib import Parallel, delayed\n",
    "from skimage.transform import resize\n",
    "\n",
    "def f(i, lms):\n",
    "    v = visualize_landmark_multiple_sections(lms, text=True)\n",
    "    try:\n",
    "        imsave('/tmp/robustLandmark%d.jpg'%i, v)\n",
    "    except IOError as e:\n",
    "        imsave('/tmp/robustLandmark%d.jpg'%i, resize(v, (v.shape[0]/2,v.shape[1]/2)))\n",
    "        \n",
    "\n",
    "Parallel(n_jobs=16)(delayed(f)(i, lms) for i, lms in enumerate(consistent_robust_lms))"
   ]
  },
  {
   "cell_type": "code",
   "execution_count": null,
   "metadata": {
    "collapsed": false,
    "scrolled": true
   },
   "outputs": [],
   "source": [
    "display(visualize_landmark_multiple_sections(robust_lms[5], text=True))"
   ]
  },
  {
   "cell_type": "code",
   "execution_count": null,
   "metadata": {
    "collapsed": false
   },
   "outputs": [],
   "source": [
    "display(visualize_multiple_landmarks_multiple_sections({2:[15], 3:[20]}))"
   ]
  },
  {
   "cell_type": "code",
   "execution_count": null,
   "metadata": {
    "collapsed": true
   },
   "outputs": [],
   "source": [
    "def visualize_multiple_landmarks_multiple_sections_horizontal(d):\n",
    "    '''\n",
    "    e.g. tpl = {3:[2,5,12], 4:[6,4,2]}\n",
    "    '''\n",
    "    \n",
    "    viss = []\n",
    "    for sec, bnds in d.iteritems():\n",
    "        dm = DataManager(generate_hierarchy=False, stack=stack_name, resol='x5', section=sec)\n",
    "        boundaries = dm.load_pipeline_result('boundaryModels', 'pkl')\n",
    "        viss.append(dm.visualize_edge_sets([boundaries[b[0]][0] for b in bnds], text_size=3, \n",
    "                                           text=[str(b[1]) for b in bnds]))\n",
    "    \n",
    "    hws = np.array([v.shape[:2] for v in viss])\n",
    "    hmax, wmax = np.max(hws, axis=0)\n",
    "    top_margins = [int((hmax - h)/2) for h,w in hws]\n",
    "    bottom_margins = [ hmax - h - lm for (h,w), lm in zip(hws, top_margins)]\n",
    "    \n",
    "    viss_padded = []\n",
    "    for vis, lm, rm in zip(viss, top_margins, bottom_margins):\n",
    "        viss_padded.append(pad(vis, ((lm,rm),(0,0),(0,0)), 'constant', constant_values=255))\n",
    "        \n",
    "    vis_stacked = np.hstack(viss_padded)\n",
    "    return vis_stacked"
   ]
  },
  {
   "cell_type": "code",
   "execution_count": null,
   "metadata": {
    "collapsed": true
   },
   "outputs": [],
   "source": [
    "def visualize_multiple_landmarks_multiple_sections_vertical(d):\n",
    "    '''\n",
    "    e.g. tpl = {3:[2,5,12], 4:[6,4,2]}\n",
    "    '''\n",
    "    \n",
    "    viss = []\n",
    "    for sec, bnds in d.iteritems():\n",
    "        dm = DataManager(generate_hierarchy=False, stack='RS141', resol='x5', section=sec)\n",
    "        boundaries = dm.load_pipeline_result('boundaryModels', 'pkl')\n",
    "        viss.append(dm.visualize_edge_sets([boundaries[b][0] for b in bnds], text=False))\n",
    "    \n",
    "    hws = np.array([v.shape[:2] for v in viss])\n",
    "    hmax, wmax = np.max(hws, axis=0)\n",
    "    left_margins = [int((wmax - w)/2) for h,w in hws]\n",
    "    right_margins = [ wmax - w - lm for (h,w), lm in zip(hws, left_margins)]\n",
    "    \n",
    "    viss_padded = []\n",
    "    for vis, lm, rm in zip(viss, left_margins, right_margins):\n",
    "        viss_padded.append(pad(vis, ((0,0),(lm,rm),(0,0)), 'constant', constant_values=255))\n",
    "        \n",
    "    vis_stacked = np.vstack(viss_padded)\n",
    "    return vis_stacked"
   ]
  },
  {
   "cell_type": "code",
   "execution_count": null,
   "metadata": {
    "collapsed": false
   },
   "outputs": [],
   "source": [
    "from skimage.util import pad\n",
    "\n",
    "sys.path.append('/home/yuncong/project/opencv-2.4.9/release/lib/python2.7/site-packages')\n",
    "import cv2\n",
    "\n",
    "def visualize_landmark_multiple_sections(tpl, text=False):\n",
    "    '''\n",
    "    e.g. tpl = [(3,1),(4,2)]\n",
    "    '''\n",
    "    \n",
    "    viss = []\n",
    "    for sec, bnd in tpl: \n",
    "        dm = DataManager(generate_hierarchy=False, stack='RS141', resol='x5', section=sec)\n",
    "        v = dm.load_pipeline_result('boundary%02d'%bnd, 'jpg')\n",
    "        if text:\n",
    "            cv2.putText(v, '%d,%d'%(sec,bnd), tuple([300,300]), cv2.FONT_HERSHEY_COMPLEX, 10, (0,0,0), 5)\n",
    "        viss.append(v)\n",
    "    \n",
    "    hws = np.array([v.shape[:2] for v in viss])\n",
    "    hmax, wmax = np.max(hws, axis=0)\n",
    "    left_margins = [int((wmax - w)/2) for h,w in hws]\n",
    "    right_margins = [ wmax - w - lm for (h,w), lm in zip(hws, left_margins)]\n",
    "    \n",
    "    viss_padded = []\n",
    "    for vis, lm, rm in zip(viss, left_margins, right_margins):\n",
    "        viss_padded.append(pad(vis, ((0,0),(lm,rm),(0,0)), 'constant', constant_values=255))\n",
    "        \n",
    "    vis_stacked = np.vstack(viss_padded)\n",
    "    return vis_stacked"
   ]
  }
 ],
 "metadata": {
  "kernelspec": {
   "display_name": "Python 2",
   "language": "python",
   "name": "python2"
  },
  "language_info": {
   "codemirror_mode": {
    "name": "ipython",
    "version": 2
   },
   "file_extension": ".py",
   "mimetype": "text/x-python",
   "name": "python",
   "nbconvert_exporter": "python",
   "pygments_lexer": "ipython2",
   "version": "2.7.3"
  }
 },
 "nbformat": 4,
 "nbformat_minor": 0
}
