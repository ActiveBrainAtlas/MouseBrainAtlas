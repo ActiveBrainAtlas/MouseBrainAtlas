{
 "metadata": {
  "name": "",
  "signature": "sha256:a615520b1873f2265c06d419d7c026c6a42896cbc2d7bbf787a7a524fe737a5d"
 },
 "nbformat": 3,
 "nbformat_minor": 0,
 "worksheets": [
  {
   "cells": [
    {
     "cell_type": "code",
     "collapsed": false,
     "input": [
      "%load_ext autoreload\n",
      "%autoreload 2\n",
      "\n",
      "from preamble import *"
     ],
     "language": "python",
     "metadata": {},
     "outputs": [
      {
       "output_type": "stream",
       "stream": "stdout",
       "text": [
        "num. of kernels: 99\n",
        "frequencies: [ 0.2         0.13333333  0.08888889  0.05925926  0.03950617  0.02633745\n",
        "  0.0175583   0.01170553  0.00780369]\n",
        "wavelength (pixels): [   5.            7.5          11.25         16.875        25.3125\n",
        "   37.96875      56.953125     85.4296875   128.14453125]\n",
        "max kernel matrix size: 243\n",
        "The autoreload extension is already loaded. To reload it, use:\n",
        "  %reload_ext autoreload\n"
       ]
      }
     ],
     "prompt_number": 64
    },
    {
     "cell_type": "code",
     "collapsed": false,
     "input": [
      "texton_hists = dm.load_pipeline_result('texHist', 'npy')\n",
      "\n",
      "segmentation = dm.load_pipeline_result('segmentation', 'npy')\n",
      "n_superpixels = len(unique(segmentation)) - 1\n",
      "\n",
      "textonmap = dm.load_pipeline_result('texMap', 'npy')\n",
      "n_texton = len(np.unique(textonmap)) - 1\n",
      "\n",
      "neighbors = dm.load_pipeline_result('neighbors', 'npy')\n",
      "\n",
      "sp_properties = dm.load_pipeline_result('spProps', 'npy')\n",
      "\n",
      "segmentation_vis = dm.load_pipeline_result('segmentationWithText', 'jpg')"
     ],
     "language": "python",
     "metadata": {},
     "outputs": [
      {
       "output_type": "stream",
       "stream": "stdout",
       "text": [
        "/home/yuncong/DavidData/RS141/x5/0005/pipelineResults/RS141_x5_0005_gabor-blueNisslWide-segm-blueNissl2-vq-blueNissl_texHist.npy\n",
        "loaded /home/yuncong/DavidData/RS141/x5/0005/pipelineResults/RS141_x5_0005_gabor-blueNisslWide-segm-blueNissl2-vq-blueNissl_texHist.npy\n",
        "/home/yuncong/DavidData/RS141/x5/0005/pipelineResults/RS141_x5_0005_segm-blueNissl2_segmentation.npy\n",
        "loaded /home/yuncong/DavidData/RS141/x5/0005/pipelineResults/RS141_x5_0005_segm-blueNissl2_segmentation.npy"
       ]
      },
      {
       "output_type": "stream",
       "stream": "stdout",
       "text": [
        "\n",
        "/home/yuncong/DavidData/RS141/x5/0005/pipelineResults/RS141_x5_0005_gabor-blueNisslWide-vq-blueNissl_texMap.npy"
       ]
      },
      {
       "output_type": "stream",
       "stream": "stdout",
       "text": [
        "\n",
        "loaded /home/yuncong/DavidData/RS141/x5/0005/pipelineResults/RS141_x5_0005_gabor-blueNisslWide-vq-blueNissl_texMap.npy\n",
        "/home/yuncong/DavidData/RS141/x5/0005/pipelineResults/RS141_x5_0005_segm-blueNissl2_neighbors.npy"
       ]
      },
      {
       "output_type": "stream",
       "stream": "stdout",
       "text": [
        "\n",
        "loaded /home/yuncong/DavidData/RS141/x5/0005/pipelineResults/RS141_x5_0005_segm-blueNissl2_neighbors.npy"
       ]
      },
      {
       "output_type": "stream",
       "stream": "stdout",
       "text": [
        "\n",
        "/home/yuncong/DavidData/RS141/x5/0005/pipelineResults/RS141_x5_0005_segm-blueNissl2_spProps.npy\n",
        "loaded /home/yuncong/DavidData/RS141/x5/0005/pipelineResults/RS141_x5_0005_segm-blueNissl2_spProps.npy\n",
        "/home/yuncong/DavidData/RS141/x5/0005/pipelineResults/RS141_x5_0005_segm-blueNissl2_segmentationWithText.jpg\n",
        "loaded /home/yuncong/DavidData/RS141/x5/0005/pipelineResults/RS141_x5_0005_segm-blueNissl2_segmentationWithText.jpg"
       ]
      },
      {
       "output_type": "stream",
       "stream": "stdout",
       "text": [
        "\n"
       ]
      }
     ],
     "prompt_number": 65
    },
    {
     "cell_type": "code",
     "collapsed": false,
     "input": [
      "from scipy.spatial.distance import cdist, pdist, squareform\n",
      "\n",
      "center_dists = pdist(sp_properties[:, :2])\n",
      "center_dist_matrix = squareform(center_dists)\n",
      "\n",
      "k = 200\n",
      "k_neighbors = np.argsort(center_dist_matrix, axis=1)[:, 1:k+1]\n",
      "\n",
      "neighbor_dists = np.empty((n_superpixels, k))\n",
      "for i in range(n_superpixels):\n",
      "#     neighbor_dists[i] = np.squeeze(cdist(texton_hists[i][np.newaxis,:], texton_hists[k_neighbors[i]], chi2))\n",
      "    neighbor_dists[i] = np.squeeze(cdist(texton_hists[i][np.newaxis,:], texton_hists[k_neighbors[i]], js))\n",
      "    \n",
      "sp_sp_dists = np.nan * np.ones((n_superpixels, n_superpixels))\n",
      "for i in range(n_superpixels):\n",
      "    sp_sp_dists[i, k_neighbors[i]] = neighbor_dists[i]"
     ],
     "language": "python",
     "metadata": {},
     "outputs": [],
     "prompt_number": 66
    },
    {
     "cell_type": "code",
     "collapsed": false,
     "input": [
      "def compute_cluster_score(cluster, texton_hists=texton_hists, neighbors=neighbors):\n",
      "    \n",
      "    cluster_list = list(cluster)\n",
      "    hists_cluster = texton_hists[cluster_list]\n",
      "\n",
      "    cluster_avg = hists_cluster.mean(axis=0)\n",
      "    \n",
      "    surrounds = set([i for i in set.union(*[neighbors[c] for c in cluster]) if i not in cluster and i != -1])\n",
      "    \n",
      "    surrounds_list = list(surrounds)\n",
      "    \n",
      "    hists_surround = texton_hists[surrounds_list]\n",
      "\n",
      "#     avg_dists = np.atleast_1d(np.squeeze(cdist(np.atleast_2d(cluster_avg), hists_cluster, chi2)))\n",
      "    \n",
      "    avg_dists = np.atleast_1d(np.squeeze(cdist(np.atleast_2d(cluster_avg), hists_cluster, js)))\n",
      "            \n",
      "    surround_dists = np.empty((len(cluster_list), ))\n",
      "    closest_neighboring_surround_sps = np.empty((len(cluster_list), ), dtype=np.int)\n",
      "    for ind, i in enumerate(cluster_list):\n",
      "        neighboring_surround_sps = list(neighbors[i] & surrounds)\n",
      "        if len(neighboring_surround_sps) > 0:\n",
      "            ds = sp_sp_dists[i, neighboring_surround_sps]\n",
      "            surround_dists[ind] = np.min(ds)\n",
      "            closest_neighboring_surround_sps[ind] = neighboring_surround_sps[np.argmin(ds)]\n",
      "        else:\n",
      "            surround_dists[ind] = np.nan\n",
      "            closest_neighboring_surround_sps[ind] = -1\n",
      "        \n",
      "#     surround_dists = np.array([sp_sp_dists[i, cluster_list] for i in surrounds_list])\n",
      "    \n",
      "    avg_dist = np.mean(avg_dists) / np.sqrt(len(cluster_list))\n",
      "#     avg_dist = np.max(avg_dists)\n",
      "#     surround_dist = np.min(np.atleast_2d(surround_dists), axis=0).mean()\n",
      "#     surround_dist = np.min(np.atleast_2d(surround_dists), axis=0).min()\n",
      "    surround_dist = np.nanmin(surround_dists)\n",
      "#     surround_dist = np.nanmean(surround_dists)\n",
      "\n",
      "    score = (1 + 10 * np.log(len(cluster_list))) * (surround_dist - avg_dist)\n",
      "#     if len(cluster_list) == 1:\n",
      "#         score = 0\n",
      "#     score = (1 + np.log(len(cluster_list) + 1)) * (surround_dist - .01 * avg_dist)\n",
      "#     score = (1 + .01 * len(cluster_list)) * (surround_dist - .01 * avg_dist)\n",
      "#     score = (1 + .03 * np.log(10 * len(cluster_list) + 1)) * (surround_dist - .15 * avg_dist)\n",
      "#     score = (1 + .01 * np.log(10 * len(cluster_list) + 1)) * (surround_dist - .8 * avg_dist)\n",
      "\n",
      "    \n",
      "#     print 'cluster', cluster_list\n",
      "# #     print 'surrounds_list', surrounds_list\n",
      "# #     argmins = np.array(surrounds_list)[np.argmin(np.atleast_2d(surround_dists), axis=0)]\n",
      "#     mins = np.min(np.atleast_2d(surround_dists), axis=0)\n",
      "#     adv = mins - avg_dists\n",
      "#     print 'surrounds'\n",
      "#     for t in zip(cluster_list, closest_neighboring_surround_sps, mins, avg_dists, adv):\n",
      "#         print t\n",
      "    \n",
      "#     print 'sig:', score, ', surround:', surround_dist, ', model:', avg_dist\n",
      "#     print \n",
      "    \n",
      "    return score, surround_dist, avg_dist"
     ],
     "language": "python",
     "metadata": {},
     "outputs": [],
     "prompt_number": 67
    },
    {
     "cell_type": "code",
     "collapsed": false,
     "input": [
      "def visualize_cluster(cluster, segmentation=segmentation, segmentation_vis=segmentation_vis):\n",
      "\n",
      "    a = -1*np.ones_like(segmentation)\n",
      "    \n",
      "    for c in cluster:\n",
      "        a[segmentation == c] = 0\n",
      "        \n",
      "    vis = label2rgb(a, image=segmentation_vis)\n",
      "\n",
      "    vis = img_as_ubyte(vis[...,::-1])\n",
      "\n",
      "    for i, sp in enumerate(cluster):\n",
      "        vis = cv2.putText(vis, str(i), \n",
      "                          tuple(np.floor(sp_properties[sp, [1,0]] - np.array([10,-10])).astype(np.int)), \n",
      "                          cv2.FONT_HERSHEY_DUPLEX,\n",
      "                          1., ((0,255,255)), 1)\n",
      "\n",
      "    return vis.copy()\n",
      "\n",
      "def visualize_multiple_clusters(clusters, segmentation=segmentation, segmentation_vis=segmentation_vis):\n",
      "\n",
      "    n = len(clusters)\n",
      "    m = -1*np.ones((n_superpixels,), dtype=np.int)\n",
      "    \n",
      "    for ci, c in enumerate(clusters):\n",
      "        m[list(c)] = ci\n",
      "        \n",
      "    a = m[segmentation]\n",
      "    a[~dm.mask] = -1\n",
      "    \n",
      "#     a = -1*np.ones_like(segmentation)\n",
      "#     for ci, c in enumerate(clusters):\n",
      "#         for i in c:\n",
      "#             a[segmentation == i] = ci\n",
      "\n",
      "    vis = label2rgb(a, image=segmentation_vis)\n",
      "\n",
      "    vis = img_as_ubyte(vis[...,::-1])\n",
      "\n",
      "    for ci, c in enumerate(clusters):\n",
      "        for i, sp in enumerate(c):\n",
      "            vis = cv2.putText(vis, str(i), \n",
      "                              tuple(np.floor(sp_properties[sp, [1,0]] - np.array([10,-10])).astype(np.int)), \n",
      "                              cv2.FONT_HERSHEY_DUPLEX,\n",
      "                              1., ((0,255,255)), 1)\n",
      "    \n",
      "    return vis.copy()"
     ],
     "language": "python",
     "metadata": {},
     "outputs": [],
     "prompt_number": 68
    },
    {
     "cell_type": "code",
     "collapsed": false,
     "input": [
      "# def compare_two_sps(a,b):\n",
      "\n",
      "#     print sp_sp_dists[a,b]\n",
      "    \n",
      "#     js(texton_hists[a], texton_hists[b])\n",
      "\n",
      "#     plt.bar(np.arange(n_texton), texton_hists[a], width=.3, color='g')\n",
      "#     plt.bar(np.arange(n_texton)+.3, texton_hists[b], width=.3, color='b')\n",
      "#     plt.show()"
     ],
     "language": "python",
     "metadata": {},
     "outputs": [],
     "prompt_number": 69
    },
    {
     "cell_type": "code",
     "collapsed": false,
     "input": [
      "import networkx\n",
      "from networkx.algorithms import node_connected_component\n",
      "\n",
      "neighbors_dict = dict(zip(np.arange(n_superpixels), [list(i) for i in neighbors]))\n",
      "neighbor_graph = networkx.from_dict_of_lists(neighbors_dict)"
     ],
     "language": "python",
     "metadata": {},
     "outputs": [],
     "prompt_number": 70
    },
    {
     "cell_type": "code",
     "collapsed": false,
     "input": [
      "def grow_cluster(seed):\n",
      "\n",
      "#     seed = 3767\n",
      "    # null_seed = 3066\n",
      "\n",
      "    all_distances = np.atleast_1d(np.squeeze(cdist(texton_hists[seed][np.newaxis, :], texton_hists, js)))\n",
      "    # null_distances = np.atleast_1d(np.squeeze(cdist(texton_hists[null_seed][np.newaxis, :], texton_hists, js)))\n",
      "\n",
      "    ss = []\n",
      "    cc = []\n",
      "\n",
      "    # for i in np.arange(.01,null_distances[seed],.01):\n",
      "\n",
      "    for i in np.arange(.01, 0.3, .01):\n",
      "\n",
      "    #     similar_nodes = np.where(all_distances < .1)[0]\n",
      "        similar_nodes = np.where(all_distances < i)[0]\n",
      "    #     similar_nodes = np.where(all_distances < null_distances - i)[0]\n",
      "        similar_graph = neighbor_graph.subgraph(similar_nodes)\n",
      "\n",
      "        curr_cluster = node_connected_component(similar_graph, seed)\n",
      "\n",
      "        if len(curr_cluster) > int(n_superpixels * 0.03):\n",
      "            break\n",
      "            \n",
      "        cc.append(curr_cluster)\n",
      "\n",
      "        s, _, _ = compute_cluster_score(curr_cluster)\n",
      "        ss.append(s)\n",
      "\n",
      "    curr_cluster = cc[np.argmax(ss)]\n",
      "    score = np.max(ss)\n",
      "    \n",
      "    return curr_cluster, score"
     ],
     "language": "python",
     "metadata": {},
     "outputs": [],
     "prompt_number": 71
    },
    {
     "cell_type": "code",
     "collapsed": false,
     "input": [
      "# a, s = grow_cluster(1584)\n",
      "# print s\n",
      "# vis = visualize_cluster(a)\n",
      "# display(vis)"
     ],
     "language": "python",
     "metadata": {},
     "outputs": [],
     "prompt_number": 72
    },
    {
     "cell_type": "code",
     "collapsed": false,
     "input": [
      "# plt.plot(range(len(ss)), ss);"
     ],
     "language": "python",
     "metadata": {},
     "outputs": [],
     "prompt_number": 73
    },
    {
     "cell_type": "code",
     "collapsed": false,
     "input": [
      "# seed = 3395\n",
      "\n",
      "# all_distances = np.atleast_1d(np.squeeze(cdist(texton_hists[seed][np.newaxis, :], texton_hists, js)))\n",
      "# vis = all_distances[segmentation] < 0.02\n",
      "# vis[~dm.mask] = 0\n",
      "\n",
      "# plt.matshow(vis)\n",
      "# plt.colorbar()\n",
      "# plt.show()"
     ],
     "language": "python",
     "metadata": {},
     "outputs": [],
     "prompt_number": 74
    },
    {
     "cell_type": "code",
     "collapsed": false,
     "input": [
      "# try:\n",
      "#     clusters = dm.load_pipeline_result('clusters', 'pkl')\n",
      "    \n",
      "# except Exception as e:\n",
      "\n",
      "import time\n",
      "b = time.time()\n",
      "\n",
      "clusters = Parallel(n_jobs=16)(delayed(grow_cluster)(s) for s in range(n_superpixels))\n",
      "\n",
      "print time.time() - b\n",
      "\n",
      "# dm.save_pipeline_result(clusters, 'clusters', 'pkl')"
     ],
     "language": "python",
     "metadata": {},
     "outputs": [
      {
       "output_type": "stream",
       "stream": "stdout",
       "text": [
        "99.8056948185\n"
       ]
      },
      {
       "output_type": "stream",
       "stream": "stderr",
       "text": [
        "/oasis/projects/nsf/csd181/yuncong/virtualenv-1.9.1/yuncongve/lib/python2.7/site-packages/numpy/lib/nanfunctions.py:220: RuntimeWarning: All-NaN axis encountered\n",
        "  warnings.warn(\"All-NaN axis encountered\", RuntimeWarning)\n",
        "/oasis/projects/nsf/csd181/yuncong/virtualenv-1.9.1/yuncongve/lib/python2.7/site-packages/numpy/lib/nanfunctions.py:220: RuntimeWarning: All-NaN axis encountered\n",
        "  warnings.warn(\"All-NaN axis encountered\", RuntimeWarning)\n",
        "/oasis/projects/nsf/csd181/yuncong/virtualenv-1.9.1/yuncongve/lib/python2.7/site-packages/numpy/lib/nanfunctions.py:220: RuntimeWarning: All-NaN axis encountered\n",
        "  warnings.warn(\"All-NaN axis encountered\", RuntimeWarning)\n"
       ]
      }
     ],
     "prompt_number": 75
    },
    {
     "cell_type": "code",
     "collapsed": false,
     "input": [
      "dm.save_pipeline_result(clusters, 'clusters', 'pkl')"
     ],
     "language": "python",
     "metadata": {},
     "outputs": [
      {
       "output_type": "stream",
       "stream": "stdout",
       "text": [
        "saved /home/yuncong/DavidData/RS141/x5/0005/pipelineResults/RS141_x5_0005_gabor-blueNisslWide-segm-blueNissl2-vq-blueNissl_clusters.pkl\n"
       ]
      }
     ],
     "prompt_number": 76
    },
    {
     "cell_type": "code",
     "collapsed": false,
     "input": [
      "# clusters = dm.load_pipeline_result('clusters', 'pkl')"
     ],
     "language": "python",
     "metadata": {},
     "outputs": [],
     "prompt_number": 77
    },
    {
     "cell_type": "code",
     "collapsed": false,
     "input": [
      "cluster_sps, cluster_score_sps = zip(*clusters)\n",
      "cluster_size_sps = np.array([len(c) for c in cluster_sps])\n",
      "cluster_score_sps = np.array(cluster_score_sps)"
     ],
     "language": "python",
     "metadata": {},
     "outputs": [],
     "prompt_number": 78
    },
    {
     "cell_type": "code",
     "collapsed": false,
     "input": [
      "# sigmap = cluster_score_sps[segmentation] * 5 + 1\n",
      "# sigmap[~dm.mask] = 0\n",
      "\n",
      "# plt.matshow(sigmap)\n",
      "# plt.colorbar()\n",
      "# plt.show()"
     ],
     "language": "python",
     "metadata": {},
     "outputs": [],
     "prompt_number": 79
    },
    {
     "cell_type": "code",
     "collapsed": false,
     "input": [
      "highlighted_sps = np.where((cluster_size_sps < 200) & (cluster_size_sps > 2))[0]\n",
      "n_highlights = len(highlighted_sps)\n",
      "print n_highlights"
     ],
     "language": "python",
     "metadata": {},
     "outputs": [
      {
       "output_type": "stream",
       "stream": "stdout",
       "text": [
        "3463\n"
       ]
      }
     ],
     "prompt_number": 80
    },
    {
     "cell_type": "code",
     "collapsed": false,
     "input": [
      "from scipy.spatial.distance import pdist, squareform\n",
      "\n",
      "overlap_matrix = np.zeros((n_highlights, n_highlights))\n",
      "for i in range(n_highlights):\n",
      "    for j in range(n_highlights):\n",
      "        if i == j:\n",
      "            overlap_matrix[i, j] = 1\n",
      "        else:\n",
      "            c1 = set(cluster_sps[highlighted_sps[i]])\n",
      "            c2 = set(cluster_sps[highlighted_sps[j]])\n",
      "#             overlap_matrix[i, j] = float(len(c1 & c2))/min(len(c1),len(c2))\n",
      "            overlap_matrix[i, j] = float(len(c1 & c2))/len(c1 | c2)\n",
      "          \n",
      "distance_matrix = 1 - overlap_matrix\n",
      "            \n",
      "plt.matshow(overlap_matrix, cmap=cm.coolwarm)\n",
      "plt.colorbar()\n",
      "plt.show()"
     ],
     "language": "python",
     "metadata": {},
     "outputs": [
      {
       "metadata": {},
       "output_type": "display_data",
       "png": "[encoded data removed]",
       "text": [
        "<matplotlib.figure.Figure at 0x4f49690>"
       ]
      }
     ],
     "prompt_number": 81
    },
    {
     "cell_type": "code",
     "collapsed": false,
     "input": [
      "from scipy.cluster.hierarchy import average, fcluster, leaders, complete, single, dendrogram\n",
      "\n",
      "lk = average(squareform(distance_matrix))"
     ],
     "language": "python",
     "metadata": {},
     "outputs": [],
     "prompt_number": 82
    },
    {
     "cell_type": "code",
     "collapsed": false,
     "input": [
      "# T = fcluster(lk, 1.15, criterion='inconsistent')\n",
      "T = fcluster(lk, 0.01, criterion='distance')\n",
      "\n",
      "n_groups = len(set(T))\n",
      "print n_groups\n",
      "groups = [None] * n_groups\n",
      "\n",
      "for group_id in range(n_groups):\n",
      "    groups[group_id] = highlighted_sps[where(T == group_id)[0]]\n",
      "    \n",
      "groups = [g for g in groups if len(g) > 1]"
     ],
     "language": "python",
     "metadata": {},
     "outputs": [
      {
       "output_type": "stream",
       "stream": "stdout",
       "text": [
        "2450\n"
       ]
      }
     ],
     "prompt_number": 83
    },
    {
     "cell_type": "code",
     "collapsed": false,
     "input": [
      "def compute_cluster_score2(cluster, texton_hists=texton_hists, neighbors=neighbors):\n",
      "    \n",
      "    cluster_list = list(cluster)\n",
      "    hists_cluster = texton_hists[cluster_list]\n",
      "\n",
      "    cluster_avg = hists_cluster.mean(axis=0)\n",
      "    \n",
      "    surrounds = set([i for i in set.union(*[neighbors[c] for c in cluster]) if i not in cluster and i != -1])\n",
      "    \n",
      "    surrounds_list = list(surrounds)\n",
      "    \n",
      "#     interior_holes = set([s for s in surrounds_list if neighbors[s] <= set(cluster)])\n",
      "    \n",
      "    hists_surround = texton_hists[surrounds_list]\n",
      "\n",
      "#     avg_dists = np.atleast_1d(np.squeeze(cdist(np.atleast_2d(cluster_avg), hists_cluster, chi2)))\n",
      "    \n",
      "    avg_dists = np.atleast_1d(np.squeeze(cdist(np.atleast_2d(cluster_avg), hists_cluster, js)))\n",
      "            \n",
      "    surround_dists = np.empty((len(cluster_list), ))\n",
      "    closest_neighboring_surround_sps = np.empty((len(cluster_list), ), dtype=np.int)\n",
      "    for ind, i in enumerate(cluster_list):\n",
      "#         neighboring_surround_sps = list((neighbors[i] & surrounds) - interior_holes)      \n",
      "        neighboring_surround_sps = list(neighbors[i] & surrounds)\n",
      "        if (len(neighboring_surround_sps) > 0):\n",
      "            ds = sp_sp_dists[i, neighboring_surround_sps]\n",
      "            surround_dists[ind] = np.min(ds)\n",
      "            closest_neighboring_surround_sps[ind] = neighboring_surround_sps[np.argmin(ds)]\n",
      "        else:\n",
      "            surround_dists[ind] = np.nan\n",
      "            closest_neighboring_surround_sps[ind] = -1\n",
      "        \n",
      "#     surround_dists = np.array([sp_sp_dists[i, cluster_list] for i in surrounds_list])\n",
      "    \n",
      "    avg_dist = np.mean(avg_dists) / np.sqrt(len(cluster_list))\n",
      "#     avg_dist = np.max(avg_dists)\n",
      "#     surround_dist = np.min(np.atleast_2d(surround_dists), axis=0).mean()\n",
      "#     surround_dist = np.min(np.atleast_2d(surround_dists), axis=0).min()\n",
      "    surround_dist = np.nanmean(surround_dists)\n",
      "#     surround_dist = np.nanmean(surround_dists)\n",
      "\n",
      "    score = surround_dist\n",
      "#     if len(cluster_list) == 1:\n",
      "#         score = 0\n",
      "#     score = (1 + np.log(len(cluster_list) + 1)) * (surround_dist - .01 * avg_dist)\n",
      "#     score = (1 + .01 * len(cluster_list)) * (surround_dist - .01 * avg_dist)\n",
      "#     score = (1 + .03 * np.log(10 * len(cluster_list) + 1)) * (surround_dist - .15 * avg_dist)\n",
      "#     score = (1 + .01 * np.log(10 * len(cluster_list) + 1)) * (surround_dist - .8 * avg_dist)\n",
      "    \n",
      "#     print 'cluster', cluster_list\n",
      "# #     print 'surrounds_list', surrounds_list\n",
      "# #     argmins = np.array(surrounds_list)[np.argmin(np.atleast_2d(surround_dists), axis=0)]\n",
      "#     mins = np.min(np.atleast_2d(surround_dists), axis=0)\n",
      "#     adv = mins - avg_dists\n",
      "#     print 'surrounds'\n",
      "#     for t in zip(cluster_list, closest_neighboring_surround_sps, mins, avg_dists, adv):\n",
      "#         print t\n",
      "    \n",
      "#     print 'sig:', score, ', surround:', surround_dist, ', model:', avg_dist\n",
      "#     print \n",
      "    \n",
      "    return score, surround_dist, avg_dist"
     ],
     "language": "python",
     "metadata": {},
     "outputs": [],
     "prompt_number": 84
    },
    {
     "cell_type": "code",
     "collapsed": false,
     "input": [
      "# filtered_groups = [set.union(*[set(cluster_sps[i]) for i in g]) for g in groups]\n",
      "\n",
      "filtered_groups = [cluster_sps[g[np.argmax(cluster_score_sps[g])]] for g in groups]\n",
      "\n",
      "filtered_groups = [g for g in filtered_groups if len(g) > 2]\n",
      "\n",
      "# filtered_groups = [g for g in groups if len(g) > 2]\n",
      "\n",
      "filtered_group_scores = [compute_cluster_score2(g)[0] for g in filtered_groups]\n",
      "\n",
      "arg_score_sorted = np.argsort(filtered_group_scores)[::-1]\n",
      "\n",
      "res = zip(filtered_groups, filtered_group_scores)\n",
      "filtered_groups_res = [res[i] for i in arg_score_sorted]"
     ],
     "language": "python",
     "metadata": {},
     "outputs": [],
     "prompt_number": 85
    },
    {
     "cell_type": "code",
     "collapsed": false,
     "input": [
      "dm.save_pipeline_result(filtered_groups_res, 'groups', 'pkl')"
     ],
     "language": "python",
     "metadata": {},
     "outputs": [
      {
       "output_type": "stream",
       "stream": "stdout",
       "text": [
        "saved /home/yuncong/DavidData/RS141/x5/0005/pipelineResults/RS141_x5_0005_gabor-blueNisslWide-segm-blueNissl2-vq-blueNissl_groups.pkl\n"
       ]
      }
     ],
     "prompt_number": 86
    },
    {
     "cell_type": "code",
     "collapsed": false,
     "input": [
      "# for g, s in filtered_groups_res:\n",
      "#     print g,s"
     ],
     "language": "python",
     "metadata": {},
     "outputs": [],
     "prompt_number": 87
    },
    {
     "cell_type": "code",
     "collapsed": false,
     "input": [
      "# vis = visualize_multiple_clusters([filtered_groups[i] for i in arg_score_sorted[:100]])\n",
      "# display(vis)"
     ],
     "language": "python",
     "metadata": {},
     "outputs": [],
     "prompt_number": 88
    },
    {
     "cell_type": "code",
     "collapsed": false,
     "input": [],
     "language": "python",
     "metadata": {},
     "outputs": [],
     "prompt_number": 88
    }
   ],
   "metadata": {}
  }
 ]
}