{
 "metadata": {
  "name": "",
  "signature": "sha256:a28f1e098d7425df22c67c9c8b16a267c7fc1d33b3256adb437b804f7acb045e"
 },
 "nbformat": 3,
 "nbformat_minor": 0,
 "worksheets": [
  {
   "cells": [
    {
     "cell_type": "code",
     "collapsed": false,
     "input": [
      "from utilities import *\n",
      "from joblib import Parallel, delayed\n",
      "\n",
      "if 'SSH_CONNECTION' in os.environ:\n",
      "    DATA_DIR = '/home/yuncong/project/DavidData2014tif/'\n",
      "    REPO_DIR = '/home/yuncong/Brain'\n",
      "else:\n",
      "    DATA_DIR = '/home/yuncong/BrainLocal/DavidData_v4'\n",
      "    REPO_DIR = '/home/yuncong/Brain'\n",
      "\n",
      "dm = DataManager(DATA_DIR, REPO_DIR)\n",
      "\n",
      "import argparse\n",
      "import sys\n",
      "\n",
      "parser = argparse.ArgumentParser(\n",
      "formatter_class=argparse.RawDescriptionHelpFormatter,\n",
      "description='Execute feature extraction pipeline',\n",
      "epilog=\"\"\"\n",
      "The following command processes image RS141_x5_0001.tif using the specified parameters.\n",
      "python %s RS141 1 -g blueNisslWide -s blueNisslRegular -v blueNissl\n",
      "\"\"\"%(os.path.basename(sys.argv[0]), ))\n",
      "\n",
      "parser.add_argument(\"stack_name\", type=str, help=\"stack name\")\n",
      "# parser.add_argument(\"resolution\", type=str, help=\"resolution string\")\n",
      "parser.add_argument(\"slice_ind\", type=int, help=\"slice index\")\n",
      "parser.add_argument(\"-g\", \"--gabor_params_id\", type=str, help=\"gabor filter parameters id (default: %(default)s)\", default='blueNisslWide')\n",
      "parser.add_argument(\"-s\", \"--segm_params_id\", type=str, help=\"segmentation parameters id (default: %(default)s)\", default='blueNisslRegular')\n",
      "parser.add_argument(\"-v\", \"--vq_params_id\", type=str, help=\"vector quantization parameters id (default: %(default)s)\", default='blueNissl')\n",
      "args = parser.parse_args()\n",
      "\n",
      "# class args:\n",
      "#     stack_name = 'RS140'\n",
      "#     resolution = 'x5'\n",
      "#     slice_ind = 4\n",
      "#     gabor_params_id = 'blueNisslWide'\n",
      "# #     gabor_params_id = 'blueNissl'\n",
      "#     segm_params_id = 'blueNisslRegular'\n",
      "#     vq_params_id = 'blueNissl'\n",
      "    \n",
      "dm.set_image(args.stack_name, args.resolution, args.slice_ind)\n",
      "dm.set_gabor_params(gabor_params_id=args.gabor_params_id)\n",
      "dm.set_segmentation_params(segm_params_id=args.segm_params_id)\n",
      "dm.set_vq_params(vq_params_id=args.vq_params_id)"
     ],
     "language": "python",
     "metadata": {},
     "outputs": [
      {
       "output_type": "stream",
       "stream": "stdout",
       "text": [
        "num. of kernels: 99\n",
        "frequencies: [ 0.2         0.13333333  0.08888889  0.05925926  0.03950617  0.02633745\n",
        "  0.0175583   0.01170553  0.00780369]\n",
        "wavelength (pixels): [   5.            7.5          11.25         16.875        25.3125\n",
        "   37.96875      56.953125     85.4296875   128.14453125]\n",
        "max kernel matrix size: 243\n"
       ]
      }
     ],
     "prompt_number": 9
    },
    {
     "cell_type": "code",
     "collapsed": false,
     "input": [
      "def execute_command(cmd):\n",
      "\ttry:\n",
      "\t    retcode = call(cmd, shell=True)\n",
      "\t    if retcode < 0:\n",
      "\t        print >>sys.stderr, \"Child was terminated by signal\", -retcode\n",
      "\t    else:\n",
      "\t        print >>sys.stderr, \"Child returned\", retcode\n",
      "\texcept OSError as e:\n",
      "\t    print >>sys.stderr, \"Execution failed:\", e"
     ],
     "language": "python",
     "metadata": {},
     "outputs": []
    },
    {
     "cell_type": "code",
     "collapsed": false,
     "input": [
      "%run gabor_filter_nocrop_noimport.ipynb\n",
      "%run segmentation_nocrop_noimport.ipynb\n",
      "%run rotate_features_noimport.ipynb\n",
      "%run assign_textons_max_anchored_noimport.ipynb\n",
      "%run compute_texton_histograms_noimport.ipynb\n",
      "%run grow_regions_clean_noimport.ipynb"
     ],
     "language": "python",
     "metadata": {},
     "outputs": [
      {
       "output_type": "stream",
       "stream": "stdout",
       "text": [
        "saved /home/yuncong/project/DavidData2014results/RS140/0004/RS140_x5_0004_gabor-blueNisslWide_features.npy\n"
       ]
      },
      {
       "output_type": "stream",
       "stream": "stdout",
       "text": [
        "saved /home/yuncong/project/DavidData2014results/RS140/0004/RS140_x5_0004_segm-blueNisslRegular_segmentation.npy\n"
       ]
      },
      {
       "output_type": "stream",
       "stream": "stdout",
       "text": [
        "saved /home/yuncong/project/DavidData2014results/RS140/0004/RS140_x5_0004_segm-blueNisslRegular_spProps.npy\n",
        "saved /home/yuncong/project/DavidData2014results/RS140/0004/RS140_x5_0004_segm-blueNisslRegular_segmentationWithText.jpg"
       ]
      },
      {
       "output_type": "stream",
       "stream": "stdout",
       "text": [
        "\n",
        "saved /home/yuncong/project/DavidData2014results/RS140/0004/RS140_x5_0004_segm-blueNisslRegular_neighbors.npy"
       ]
      },
      {
       "output_type": "stream",
       "stream": "stdout",
       "text": [
        "\n",
        "/home/yuncong/project/DavidData2014results/RS140/0004/RS140_x5_0004_gabor-blueNisslWide_features.npy"
       ]
      },
      {
       "output_type": "stream",
       "stream": "stdout",
       "text": [
        "\n",
        "loaded /home/yuncong/project/DavidData2014results/RS140/0004/RS140_x5_0004_gabor-blueNisslWide_features.npy"
       ]
      },
      {
       "output_type": "stream",
       "stream": "stdout",
       "text": [
        "\n"
       ]
      },
      {
       "output_type": "stream",
       "stream": "stdout",
       "text": [
        "saved /home/yuncong/project/DavidData2014results/RS140/0004/RS140_x5_0004_gabor-blueNisslWide_features_rotated.npy\n",
        "/home/yuncong/project/DavidData2014results/RS140/RS140_x5_gabor-blueNisslWide-vq-blueNissl_textons.npy"
       ]
      },
      {
       "output_type": "stream",
       "stream": "stdout",
       "text": [
        "\n",
        "loaded /home/yuncong/project/DavidData2014results/RS140/RS140_x5_gabor-blueNisslWide-vq-blueNissl_textons.npy\n",
        "/home/yuncong/project/DavidData2014results/RS140/0004/RS140_x5_0004_gabor-blueNisslWide_features_rotated.npy\n",
        "loaded /home/yuncong/project/DavidData2014results/RS140/0004/RS140_x5_0004_gabor-blueNisslWide_features_rotated.npy"
       ]
      },
      {
       "output_type": "stream",
       "stream": "stdout",
       "text": [
        "\n",
        "saved /home/yuncong/project/DavidData2014results/RS140/0004/RS140_x5_0004_gabor-blueNisslWide-vq-blueNissl_texMap.npy"
       ]
      },
      {
       "output_type": "stream",
       "stream": "stdout",
       "text": [
        "\n",
        "saved /home/yuncong/project/DavidData2014results/RS140/0004/RS140_x5_0004_gabor-blueNisslWide-vq-blueNissl_texMap.png"
       ]
      },
      {
       "output_type": "stream",
       "stream": "stdout",
       "text": [
        "\n",
        "/home/yuncong/project/DavidData2014results/RS140/0004/RS140_x5_0004_segm-blueNisslRegular_segmentation.npy"
       ]
      },
      {
       "output_type": "stream",
       "stream": "stdout",
       "text": [
        "\n",
        "loaded /home/yuncong/project/DavidData2014results/RS140/0004/RS140_x5_0004_segm-blueNisslRegular_segmentation.npy"
       ]
      },
      {
       "output_type": "stream",
       "stream": "stdout",
       "text": [
        "\n",
        "/home/yuncong/project/DavidData2014results/RS140/0004/RS140_x5_0004_gabor-blueNisslWide-vq-blueNissl_texMap.npy"
       ]
      },
      {
       "output_type": "stream",
       "stream": "stdout",
       "text": [
        "\n",
        "loaded /home/yuncong/project/DavidData2014results/RS140/0004/RS140_x5_0004_gabor-blueNisslWide-vq-blueNissl_texMap.npy"
       ]
      },
      {
       "output_type": "stream",
       "stream": "stdout",
       "text": [
        "\n"
       ]
      },
      {
       "output_type": "stream",
       "stream": "stdout",
       "text": [
        "saved /home/yuncong/project/DavidData2014results/RS140/0004/RS140_x5_0004_gabor-blueNisslWide-segm-blueNisslRegular-vq-blueNissl_texHist.npy\n",
        "/home/yuncong/project/DavidData2014results/RS140/0004/RS140_x5_0004_gabor-blueNisslWide-segm-blueNisslRegular-vq-blueNissl_texHist.npy"
       ]
      },
      {
       "output_type": "stream",
       "stream": "stdout",
       "text": [
        "\n",
        "loaded /home/yuncong/project/DavidData2014results/RS140/0004/RS140_x5_0004_gabor-blueNisslWide-segm-blueNisslRegular-vq-blueNissl_texHist.npy\n",
        "/home/yuncong/project/DavidData2014results/RS140/0004/RS140_x5_0004_segm-blueNisslRegular_segmentation.npy\n",
        "loaded /home/yuncong/project/DavidData2014results/RS140/0004/RS140_x5_0004_segm-blueNisslRegular_segmentation.npy"
       ]
      },
      {
       "output_type": "stream",
       "stream": "stdout",
       "text": [
        "\n",
        "/home/yuncong/project/DavidData2014results/RS140/0004/RS140_x5_0004_gabor-blueNisslWide-vq-blueNissl_texMap.npy"
       ]
      },
      {
       "output_type": "stream",
       "stream": "stdout",
       "text": [
        "\n",
        "loaded /home/yuncong/project/DavidData2014results/RS140/0004/RS140_x5_0004_gabor-blueNisslWide-vq-blueNissl_texMap.npy\n",
        "/home/yuncong/project/DavidData2014results/RS140/0004/RS140_x5_0004_segm-blueNisslRegular_neighbors.npy"
       ]
      },
      {
       "output_type": "stream",
       "stream": "stdout",
       "text": [
        "\n",
        "loaded /home/yuncong/project/DavidData2014results/RS140/0004/RS140_x5_0004_segm-blueNisslRegular_neighbors.npy\n",
        "/home/yuncong/project/DavidData2014results/RS140/0004/RS140_x5_0004_segm-blueNisslRegular_spProps.npy\n",
        "loaded /home/yuncong/project/DavidData2014results/RS140/0004/RS140_x5_0004_segm-blueNisslRegular_spProps.npy\n",
        "/home/yuncong/project/DavidData2014results/RS140/0004/RS140_x5_0004_segm-blueNisslRegular_segmentationWithText.jpg\n",
        "loaded /home/yuncong/project/DavidData2014results/RS140/0004/RS140_x5_0004_segm-blueNisslRegular_segmentationWithText.jpg"
       ]
      },
      {
       "output_type": "stream",
       "stream": "stdout",
       "text": [
        "\n"
       ]
      },
      {
       "output_type": "stream",
       "stream": "stdout",
       "text": [
        "71.4999361038\n",
        "saved /home/yuncong/project/DavidData2014results/RS140/0004/RS140_x5_0004_gabor-blueNisslWide-segm-blueNisslRegular-vq-blueNissl_clusters.pkl"
       ]
      },
      {
       "output_type": "stream",
       "stream": "stdout",
       "text": [
        "\n",
        "1180"
       ]
      },
      {
       "output_type": "stream",
       "stream": "stdout",
       "text": [
        "\n",
        "275"
       ]
      },
      {
       "output_type": "stream",
       "stream": "stdout",
       "text": [
        " groups\n",
        "148"
       ]
      },
      {
       "output_type": "stream",
       "stream": "stdout",
       "text": [
        " groups\n",
        "147"
       ]
      },
      {
       "output_type": "stream",
       "stream": "stdout",
       "text": [
        "\n",
        "saved /home/yuncong/project/DavidData2014results/RS140/0004/RS140_x5_0004_gabor-blueNisslWide-segm-blueNisslRegular-vq-blueNissl_groups.pkl"
       ]
      },
      {
       "output_type": "stream",
       "stream": "stdout",
       "text": [
        "\n",
        "saved /home/yuncong/project/DavidData2014results/RS140/0004/RS140_x5_0004_gabor-blueNisslWide-segm-blueNisslRegular-vq-blueNissl_groupsTop30Vis.jpg"
       ]
      },
      {
       "output_type": "stream",
       "stream": "stdout",
       "text": [
        "\n"
       ]
      }
     ],
     "prompt_number": 10
    },
    {
     "cell_type": "code",
     "collapsed": false,
     "input": [],
     "language": "python",
     "metadata": {},
     "outputs": [],
     "prompt_number": 10
    }
   ],
   "metadata": {}
  }
 ]
}