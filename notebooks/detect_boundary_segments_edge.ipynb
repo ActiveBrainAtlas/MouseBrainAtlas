{
 "metadata": {
  "name": "",
  "signature": "sha256:a93f53b9ec8cbf447ebb95b673338df147922f517ea9600156202a6306dd88a7"
 },
 "nbformat": 3,
 "nbformat_minor": 0,
 "worksheets": [
  {
   "cells": [
    {
     "cell_type": "code",
     "collapsed": false,
     "input": [
      "%load_ext autoreload\n",
      "%autoreload 2"
     ],
     "language": "python",
     "metadata": {},
     "outputs": [],
     "prompt_number": 1
    },
    {
     "cell_type": "code",
     "collapsed": false,
     "input": [
      "import sys\n",
      "sys.path.append('/home/yuncong/Brain/pipeline_scripts')\n",
      "from utilities2014 import *\n",
      "import os\n",
      "\n",
      "from scipy.spatial.distance import cdist, pdist, squareform\n",
      "from joblib import Parallel, delayed\n",
      "from skimage.color import gray2rgb\n",
      "from skimage.util import img_as_float\n",
      "from skimage.morphology import disk\n",
      "from skimage.filter.rank import gradient\n",
      "\n",
      "from collections import defaultdict, Counter\n",
      "from itertools import combinations, chain\n",
      "\n",
      "import networkx\n",
      "from networkx import Graph\n",
      "from networkx import from_dict_of_lists, dfs_postorder_nodes\n",
      "from networkx.algorithms.components import connected_components\n",
      "\n",
      "%run grow_region_boundary_based_common.ipynb"
     ],
     "language": "python",
     "metadata": {},
     "outputs": [
      {
       "output_type": "stream",
       "stream": "stdout",
       "text": [
        "The autoreload extension is already loaded. To reload it, use:\n",
        "  %reload_ext autoreload\n"
       ]
      }
     ],
     "prompt_number": 2
    },
    {
     "cell_type": "code",
     "collapsed": false,
     "input": [
      "dm.set_slice(6)\n",
      "dm._load_image()\n",
      "\n",
      "texton_hists = dm.load_pipeline_result('texHist', 'npy')\n",
      "segmentation = dm.load_pipeline_result('segmentation', 'npy')\n",
      "n_superpixels = len(unique(segmentation)) - 1\n",
      "textonmap = dm.load_pipeline_result('texMap', 'npy')\n",
      "n_texton = len(np.unique(textonmap)) - 1\n",
      "neighbors = dm.load_pipeline_result('neighbors', 'npy')\n",
      "sp_properties = dm.load_pipeline_result('spProps', 'npy')\n",
      "segmentation_vis = dm.load_pipeline_result('segmentationWithText', 'jpg')\n",
      "\n",
      "expansion_clusters_tuples = dm.load_pipeline_result('clusters', 'pkl')\n",
      "expansion_clusters, expansion_cluster_scores = zip(*expansion_clusters_tuples)\n",
      "expansion_cluster_scores = np.array(expansion_cluster_scores)"
     ],
     "language": "python",
     "metadata": {},
     "outputs": [
      {
       "output_type": "stream",
       "stream": "stdout",
       "text": [
        "loaded /home/yuncong/project/DavidData2014results/RS141/0006/RS141_x5_0006_gabor-blueNisslWide-segm-blueNisslRegular-vq-blueNissl_texHist.npy\n",
        "loaded /home/yuncong/project/DavidData2014results/RS141/0006/RS141_x5_0006_segm-blueNisslRegular_segmentation.npy"
       ]
      },
      {
       "output_type": "stream",
       "stream": "stdout",
       "text": [
        "\n",
        "loaded /home/yuncong/project/DavidData2014results/RS141/0006/RS141_x5_0006_gabor-blueNisslWide-vq-blueNissl_texMap.npy"
       ]
      },
      {
       "output_type": "stream",
       "stream": "stdout",
       "text": [
        "\n",
        "loaded /home/yuncong/project/DavidData2014results/RS141/0006/RS141_x5_0006_segm-blueNisslRegular_neighbors.npy"
       ]
      },
      {
       "output_type": "stream",
       "stream": "stdout",
       "text": [
        "\n",
        "loaded /home/yuncong/project/DavidData2014results/RS141/0006/RS141_x5_0006_segm-blueNisslRegular_spProps.npy\n",
        "loaded /home/yuncong/project/DavidData2014results/RS141/0006/RS141_x5_0006_segm-blueNisslRegular_segmentationWithText.jpg"
       ]
      },
      {
       "output_type": "stream",
       "stream": "stdout",
       "text": [
        "\n",
        "loaded /home/yuncong/project/DavidData2014results/RS141/0006/RS141_x5_0006_gabor-blueNisslWide-segm-blueNisslRegular-vq-blueNissl_clusters.pkl"
       ]
      },
      {
       "output_type": "stream",
       "stream": "stdout",
       "text": [
        "\n"
       ]
      }
     ],
     "prompt_number": 3
    },
    {
     "cell_type": "code",
     "collapsed": false,
     "input": [
      "neighbors_dict = dict(zip(np.arange(n_superpixels), [list(i) for i in neighbors]))\n",
      "neighbor_graph = from_dict_of_lists(neighbors_dict)"
     ],
     "language": "python",
     "metadata": {},
     "outputs": [],
     "prompt_number": 4
    },
    {
     "cell_type": "code",
     "collapsed": false,
     "input": [
      "surrounds_sps, frontiers_sps = find_boundaries(expansion_clusters, neighbors=neighbors)"
     ],
     "language": "python",
     "metadata": {},
     "outputs": [
      {
       "ename": "UnboundLocalError",
       "evalue": "local variable 'border' referenced before assignment",
       "output_type": "pyerr",
       "traceback": [
        "\u001b[1;31m---------------------------------------------------------------------------\u001b[0m\n\u001b[1;31mUnboundLocalError\u001b[0m                         Traceback (most recent call last)",
        "\u001b[1;32m<ipython-input-5-8c6efe3f21ab>\u001b[0m in \u001b[0;36m<module>\u001b[1;34m()\u001b[0m\n\u001b[1;32m----> 1\u001b[1;33m \u001b[0msurrounds_sps\u001b[0m\u001b[1;33m,\u001b[0m \u001b[0mfrontiers_sps\u001b[0m \u001b[1;33m=\u001b[0m \u001b[0mfind_boundaries\u001b[0m\u001b[1;33m(\u001b[0m\u001b[0mexpansion_clusters\u001b[0m\u001b[1;33m,\u001b[0m \u001b[0mneighbors\u001b[0m\u001b[1;33m=\u001b[0m\u001b[0mneighbors\u001b[0m\u001b[1;33m)\u001b[0m\u001b[1;33m\u001b[0m\u001b[0m\n\u001b[0m",
        "\u001b[1;32m<ipython-input-2-6a492014802f>\u001b[0m in \u001b[0;36mfind_boundaries\u001b[1;34m(clusters, neighbors, mode, sp_properties)\u001b[0m\n\u001b[0;32m     38\u001b[0m \u001b[1;33m\u001b[0m\u001b[0m\n\u001b[0;32m     39\u001b[0m         \u001b[1;32melse\u001b[0m\u001b[1;33m:\u001b[0m\u001b[1;33m\u001b[0m\u001b[0m\n\u001b[1;32m---> 40\u001b[1;33m             \u001b[0mborder_sps\u001b[0m\u001b[1;33m.\u001b[0m\u001b[0mappend\u001b[0m\u001b[1;33m(\u001b[0m\u001b[0mborder\u001b[0m\u001b[1;33m)\u001b[0m\u001b[1;33m\u001b[0m\u001b[0m\n\u001b[0m\u001b[0;32m     41\u001b[0m \u001b[1;33m\u001b[0m\u001b[0m\n\u001b[0;32m     42\u001b[0m     \u001b[1;32mif\u001b[0m \u001b[0msp_properties\u001b[0m \u001b[1;32mis\u001b[0m \u001b[1;32mnot\u001b[0m \u001b[0mNone\u001b[0m\u001b[1;33m:\u001b[0m\u001b[1;33m\u001b[0m\u001b[0m\n",
        "\u001b[1;31mUnboundLocalError\u001b[0m: local variable 'border' referenced before assignment"
       ]
      }
     ],
     "prompt_number": 5
    },
    {
     "cell_type": "code",
     "collapsed": false,
     "input": [
      "expansion_cluster_edges = []\n",
      "\n",
      "for cluster in expansion_clusters:\n",
      "    surrounds = set([i for i in set.union(*[neighbors[c] for c in cluster]) if i not in cluster and i != -1])\n",
      "    surrounds = set([i for i in surrounds if any([(n not in cluster) and (n not in surrounds) for n in neighbors[i]])])\n",
      "\n",
      "    frontiers = set.union(*[neighbors[c] for c in surrounds]) & set(cluster)\n",
      "    \n",
      "    region_edges = []\n",
      "    for s in surrounds:\n",
      "        for f in neighbors[s] & set(frontiers):\n",
      "            region_edges.append((s, f))\n",
      "    expansion_cluster_edges.append(region_edges)\n"
     ],
     "language": "python",
     "metadata": {},
     "outputs": [],
     "prompt_number": 121
    },
    {
     "cell_type": "code",
     "collapsed": false,
     "input": [
      "cluster_edges = []\n",
      "for ss, fs in zip(surrounds_sps, frontiers_sps):\n",
      "    region_edges = []\n",
      "    for s in ss:\n",
      "        for f in neighbors[s] & set(fs):\n",
      "            region_edges.append((s, f))\n",
      "    cluster_edges.append(region_edges)"
     ],
     "language": "python",
     "metadata": {},
     "outputs": [],
     "prompt_number": 125
    },
    {
     "cell_type": "code",
     "collapsed": false,
     "input": [
      "display(visualize_edges(expansion_cluster_edges[0], dm.image, edge_coords))"
     ],
     "language": "python",
     "metadata": {},
     "outputs": [
      {
       "html": [
        "<a href='tmp.jpg' target='_blank'>tmp.jpg</a><br>"
       ],
       "metadata": {},
       "output_type": "pyout",
       "prompt_number": 114,
       "text": [
        "/oasis/projects/nsf/csd181/yuncong/Brain/notebooks/tmp.jpg"
       ]
      }
     ],
     "prompt_number": 114
    },
    {
     "cell_type": "code",
     "collapsed": false,
     "input": [
      "representative_clusters = dm.load_pipeline_result('representativeClusters', 'pkl')\n",
      "\n",
      "representative_cluster_scores_sorted, representative_clusters_sorted_by_score, \\\n",
      "representative_cluster_indices_sorted_by_score, big_groups_sorted_by_score = zip(*representative_clusters)"
     ],
     "language": "python",
     "metadata": {},
     "outputs": [
      {
       "output_type": "stream",
       "stream": "stdout",
       "text": [
        "loaded /home/yuncong/project/DavidData2014results/RS141/0006/RS141_x5_0006_gabor-blueNisslWide-segm-blueNisslRegular-vq-blueNissl_representativeClusters.pkl\n"
       ]
      }
     ],
     "prompt_number": 6
    },
    {
     "cell_type": "code",
     "collapsed": false,
     "input": [
      "for ci, c in enumerate(representative_clusters_holefilled_sorted_by_score):\n",
      "    if 1800 in c:\n",
      "        print ci"
     ],
     "language": "python",
     "metadata": {},
     "outputs": [
      {
       "ename": "NameError",
       "evalue": "name 'representative_clusters_holefilled_sorted_by_score' is not defined",
       "output_type": "pyerr",
       "traceback": [
        "\u001b[1;31m---------------------------------------------------------------------------\u001b[0m\n\u001b[1;31mNameError\u001b[0m                                 Traceback (most recent call last)",
        "\u001b[1;32m<ipython-input-7-1a4382c26eb3>\u001b[0m in \u001b[0;36m<module>\u001b[1;34m()\u001b[0m\n\u001b[1;32m----> 1\u001b[1;33m \u001b[1;32mfor\u001b[0m \u001b[0mci\u001b[0m\u001b[1;33m,\u001b[0m \u001b[0mc\u001b[0m \u001b[1;32min\u001b[0m \u001b[0menumerate\u001b[0m\u001b[1;33m(\u001b[0m\u001b[0mrepresentative_clusters_holefilled_sorted_by_score\u001b[0m\u001b[1;33m)\u001b[0m\u001b[1;33m:\u001b[0m\u001b[1;33m\u001b[0m\u001b[0m\n\u001b[0m\u001b[0;32m      2\u001b[0m     \u001b[1;32mif\u001b[0m \u001b[1;36m1800\u001b[0m \u001b[1;32min\u001b[0m \u001b[0mc\u001b[0m\u001b[1;33m:\u001b[0m\u001b[1;33m\u001b[0m\u001b[0m\n\u001b[0;32m      3\u001b[0m         \u001b[1;32mprint\u001b[0m \u001b[0mci\u001b[0m\u001b[1;33m\u001b[0m\u001b[0m\n",
        "\u001b[1;31mNameError\u001b[0m: name 'representative_clusters_holefilled_sorted_by_score' is not defined"
       ]
      }
     ],
     "prompt_number": 7
    },
    {
     "cell_type": "code",
     "collapsed": false,
     "input": [
      "# representative_clusters_holefilled_sorted_by_score = representative_clusters_sorted_by_score[:]\n",
      "\n",
      "# for p in range(3):\n",
      "\n",
      "#     representative_clusters_holefilled_sorted_by_score2 = []\n",
      "\n",
      "#     for ci, cluster in enumerate(representative_clusters_holefilled_sorted_by_score):\n",
      "\n",
      "#         holes = set([])\n",
      "#         for t in [j for j in range(n_superpixels) if j not in cluster]:\n",
      "#             if np.sum([i in cluster for i in neighbors[t]]) >= 3:\n",
      "#                 holes.add(t)\n",
      "#         print ci, holes\n",
      "#         representative_clusters_holefilled_sorted_by_score2.append(set(cluster) | holes)\n",
      "#         representative_clusters_holefilled_sorted_by_score = representative_clusters_holefilled_sorted_by_score2[:]\n",
      "\n",
      "#     if len(holes) == 0:\n",
      "#         break    "
     ],
     "language": "python",
     "metadata": {},
     "outputs": []
    },
    {
     "cell_type": "code",
     "collapsed": false,
     "input": [
      "representative_clusters_holefilled_sorted_by_score = []\n",
      "\n",
      "for ci, cluster in enumerate(representative_clusters_sorted_by_score):\n",
      "    holes = set([])\n",
      "    for t in [j for j in range(n_superpixels) if j not in cluster]:\n",
      "        if np.sum([i in cluster for i in neighbors[t]]) >= 3:\n",
      "            holes.add(t)\n",
      "    print ci, holes\n",
      "    representative_clusters_holefilled_sorted_by_score.append(set(cluster) | holes)"
     ],
     "language": "python",
     "metadata": {},
     "outputs": []
    },
    {
     "cell_type": "code",
     "collapsed": false,
     "input": [
      "cluster = representative_clusters_holefilled_sorted_by_score[11]\n",
      "surrounds = set([i for i in set.union(*[neighbors[c] for c in cluster]) if i not in cluster and i != -1])\n",
      "surrounds = set([i for i in surrounds if any([n not in cluster for n in neighbors[i]])])\n",
      "\n",
      "frontiers = set.union(*[neighbors[c] for c in surrounds]) & set(cluster)\n",
      "\n",
      "print surrounds, frontiers"
     ],
     "language": "python",
     "metadata": {},
     "outputs": [
      {
       "output_type": "stream",
       "stream": "stdout",
       "text": [
        "set([2307, 2313, 1294, 2448, 2520, 1411, 2466, 2096, 2097, 2614, 1208, 1721, 1986, 1605, 2122, 1612, 2253, 1878, 2361, 1624, 2143, 2404, 1896, 1392, 1522]) set([1543, 2697, 1802, 1296, 2199, 2330, 2338, 2467, 2221, 1585, 2233, 1594, 2514, 1908, 1498, 2011, 2525, 1377, 2541, 1905, 1396, 1782])\n"
       ]
      }
     ],
     "prompt_number": 191
    },
    {
     "cell_type": "code",
     "collapsed": false,
     "input": [
      "representative_cluster_edges = []\n",
      "\n",
      "for cluster in representative_clusters_holefilled_sorted_by_score:\n",
      "    surrounds = set([i for i in set.union(*[neighbors[c] for c in cluster]) if i not in cluster and i != -1])\n",
      "#     surrounds = set([i for i in surrounds if any([(n not in cluster) and (n not in surrounds) for n in neighbors[i]])])\n",
      "    surrounds = set([i for i in surrounds if any([n not in cluster for n in neighbors[i]])])\n",
      "\n",
      "    frontiers = set.union(*[neighbors[c] for c in surrounds]) & set(cluster)\n",
      "    \n",
      "    region_edges = []\n",
      "    for s in surrounds:\n",
      "        for f in neighbors[s] & set(frontiers):\n",
      "            region_edges.append((s, f))\n",
      "\n",
      "    for i in cluster:\n",
      "        if -1 in neighbors[i]:\n",
      "            region_edges.append((-1, i))\n",
      "    representative_cluster_edges.append(region_edges)\n"
     ],
     "language": "python",
     "metadata": {},
     "outputs": [],
     "prompt_number": 194
    },
    {
     "cell_type": "code",
     "collapsed": false,
     "input": [
      "display(visualize_multiple_clusters(representative_clusters_holefilled_sorted_by_score[:20], segmentation=segmentation, \n",
      "                            segmentation_vis=dm.image))"
     ],
     "language": "python",
     "metadata": {},
     "outputs": [
      {
       "html": [
        "<a href='tmp.jpg' target='_blank'>tmp.jpg</a><br>"
       ],
       "metadata": {},
       "output_type": "pyout",
       "prompt_number": 189,
       "text": [
        "/oasis/projects/nsf/csd181/yuncong/Brain/notebooks/tmp.jpg"
       ]
      }
     ],
     "prompt_number": 189
    },
    {
     "cell_type": "code",
     "collapsed": false,
     "input": [
      "edges = []\n",
      "for i in range(n_superpixels):\n",
      "    for n in neighbors[i]:\n",
      "        edges.append(frozenset([i, n]))\n",
      "edge_coords = dm.load_pipeline_result('edgeCoords', 'pkl')\n",
      "display(visualize_edge_sets(representative_cluster_edges[:20], dm.image, edge_coords))"
     ],
     "language": "python",
     "metadata": {},
     "outputs": [
      {
       "output_type": "stream",
       "stream": "stdout",
       "text": [
        "loaded /home/yuncong/project/DavidData2014results/RS141/0006/RS141_x5_0006_gabor-blueNisslWide-segm-blueNisslRegular-vq-blueNissl_edgeCoords.pkl\n"
       ]
      },
      {
       "html": [
        "<a href='tmp.jpg' target='_blank'>tmp.jpg</a><br>"
       ],
       "metadata": {},
       "output_type": "pyout",
       "prompt_number": 195,
       "text": [
        "/oasis/projects/nsf/csd181/yuncong/Brain/notebooks/tmp.jpg"
       ]
      }
     ],
     "prompt_number": 195
    },
    {
     "cell_type": "code",
     "collapsed": false,
     "input": [
      "# Order the exterior by depth-first search\n",
      "# The ordering is non-deterministic in some corners\n",
      "\n",
      "def find_boundaries(clusters, neighbors):\n",
      "        \n",
      "    surrounds_sps = []\n",
      "    frontiers_sps = []\n",
      "    \n",
      "    for cluster_ind, cluster in enumerate(clusters):\n",
      "        \n",
      "        surrounds = set([i for i in set.union(*[neighbors[c] for c in cluster]) if i not in cluster and i != -1])\n",
      "#         surrounds = set([i for i in surrounds if any([(n not in cluster) and (n not in surrounds) for n in neighbors[i]])])\n",
      "        surrounds = set([i for i in surrounds if any([n not in cluster for n in neighbors[i]])])\n",
      "        \n",
      "        if len(surrounds) == 0:\n",
      "            continue\n",
      "\n",
      "        frontiers = set.union(*[neighbors[c] for c in surrounds]) & set(cluster)\n",
      "\n",
      "        surrounds_subgraph = neighbor_graph.subgraph(surrounds)\n",
      "        surrounds_traversal = list(dfs_postorder_nodes(surrounds_subgraph))\n",
      "\n",
      "        frontiers_subgraph = neighbor_graph.subgraph(frontiers)\n",
      "        frontiers_traversal = list(dfs_postorder_nodes(frontiers_subgraph))\n",
      "        \n",
      "        surrounds_sps.append(surrounds_traversal)\n",
      "        frontiers_sps.append(frontiers_traversal)\n",
      "        \n",
      "    return surrounds_sps, frontiers_sps\n"
     ],
     "language": "python",
     "metadata": {},
     "outputs": [],
     "prompt_number": 200
    },
    {
     "cell_type": "code",
     "collapsed": false,
     "input": [
      "dEdge_votes = defaultdict(int)\n",
      "supporters_all = defaultdict(list)\n",
      "\n",
      "for s in range(n_superpixels):\n",
      "#     if s not in sps_in_good_regions: continue\n",
      "        \n",
      "    c = list(expansion_clusters[s])\n",
      "    interior_texture = texton_hists[c].mean(axis=0)\n",
      "    b_sps = surrounds_sps[s]\n",
      "    b_contrasts = np.squeeze(cdist(texton_hists[b_sps], [interior_texture], chi2))\n",
      "    \n",
      "    for b_sp, b_contrast in zip(b_sps, b_contrasts):\n",
      "        int_sps = neighbors[b_sp] & set(c)\n",
      "        for int_sp in int_sps:\n",
      "            dEdge_votes[(b_sp, int_sp)] += b_contrast / max(len(c), 5)\n",
      "            dEdge_votes[(int_sp, b_sp)] += b_contrast / max(len(c), 5)\n",
      "            supporters_all[(b_sp, int_sp)].append(s) # (border_sp, interior_sp)"
     ],
     "language": "python",
     "metadata": {},
     "outputs": [],
     "prompt_number": 201
    },
    {
     "cell_type": "code",
     "collapsed": false,
     "input": [
      "plt.hist(dEdge_votes.values(), bins=100);\n",
      "plt.xlabel('votes')\n",
      "plt.ylabel('frequency')\n",
      "plt.show()"
     ],
     "language": "python",
     "metadata": {},
     "outputs": [
      {
       "metadata": {},
       "output_type": "display_data",
       "png": "[encoded data removed]",
       "text": [
        "<matplotlib.figure.Figure at 0x8e97050>"
       ]
      }
     ],
     "prompt_number": 202
    },
    {
     "cell_type": "code",
     "collapsed": false,
     "input": [
      "# from networkx import line_graph\n",
      "# edge_graph = line_graph(neighbor_graph)\n",
      "# edge_graph.edge[(1445, 1513)]"
     ],
     "language": "python",
     "metadata": {},
     "outputs": [],
     "prompt_number": 309
    },
    {
     "cell_type": "code",
     "collapsed": false,
     "input": [
      "edge_coords = dm.load_pipeline_result('edgeCoords', 'pkl')"
     ],
     "language": "python",
     "metadata": {},
     "outputs": [
      {
       "output_type": "stream",
       "stream": "stdout",
       "text": [
        "loaded /home/yuncong/project/DavidData2014results/RS141/0006/RS141_x5_0006_gabor-blueNisslWide-segm-blueNisslRegular-vq-blueNissl_edgeCoords.pkl\n"
       ]
      }
     ],
     "prompt_number": 133
    },
    {
     "cell_type": "code",
     "collapsed": false,
     "input": [
      "edges = []\n",
      "for i in range(n_superpixels):\n",
      "    for n in neighbors[i]:\n",
      "        edges.append(frozenset([i, n]))"
     ],
     "language": "python",
     "metadata": {},
     "outputs": [],
     "prompt_number": 183
    },
    {
     "cell_type": "code",
     "collapsed": false,
     "input": [
      "edge_map = gradient(segmentation.astype(np.uint8), disk(3)) > 0"
     ],
     "language": "python",
     "metadata": {},
     "outputs": [],
     "prompt_number": 65
    },
    {
     "cell_type": "code",
     "collapsed": false,
     "input": [
      "# edge_coords = [[] for _ in range(len(edges))]\n",
      "edge_coords = defaultdict(list)\n",
      "\n",
      "for y,x in zip(*np.nonzero(edge_map)):\n",
      "    if segmentation[y,x] != -1:\n",
      "        m = frozenset(segmentation[max(0, y-2):min(dm.image_height, y+2),\n",
      "                         max(0, x-2):min(dm.image_width, x+2)].ravel())\n",
      "        if len(m) > 1:\n",
      "            for q in set(combinations(m, 2)):\n",
      "#                 if frozenset(q) in edges:\n",
      "#                     edge_coords[edges.index(frozenset(q))].append([y,x])\n",
      "                edge_coords[frozenset(q)].append([y,x])"
     ],
     "language": "python",
     "metadata": {},
     "outputs": [],
     "prompt_number": 66
    },
    {
     "cell_type": "code",
     "collapsed": false,
     "input": [
      "for edge, pts in edge_coords.iteritems():\n",
      "    if edge in edges:\n",
      "        edge_coords[edge] = np.array(pts)"
     ],
     "language": "python",
     "metadata": {},
     "outputs": [],
     "prompt_number": 67
    },
    {
     "cell_type": "code",
     "collapsed": false,
     "input": [
      "dm.save_pipeline_result(edge_coords, 'edgeCoords', 'pkl')"
     ],
     "language": "python",
     "metadata": {},
     "outputs": [
      {
       "output_type": "stream",
       "stream": "stdout",
       "text": [
        "saved /home/yuncong/project/DavidData2014results/RS141/0010/RS141_x5_0010_gabor-blueNisslWide-segm-blueNisslRegular-vq-blueNissl_edgeCoords.pkl\n"
       ]
      }
     ],
     "prompt_number": 90
    },
    {
     "cell_type": "code",
     "collapsed": false,
     "input": [
      "def visualize_edges(edges, img, edge_coords, text=False):\n",
      "    \n",
      "    import cv2\n",
      "    \n",
      "    if img.ndim == 2:\n",
      "        img_rgb = gray2rgb(img)\n",
      "    else:\n",
      "        img_rgb = img\n",
      "    \n",
      "    h, w = img.shape[:2]\n",
      "    \n",
      "#     vis = np.zeros((h, w, 3), dtype=np.uint8)\n",
      "    vis = img_as_ubyte(img_rgb)\n",
      "\n",
      "    for edge_ind, degde in enumerate(edges):\n",
      "        q = frozenset(degde)\n",
      "        if q in edge_coords:\n",
      "            for y, x in edge_coords[q]:\n",
      "                vis[y, x] = [0, 0, 255]\n",
      "                \n",
      "            if text:\n",
      "                vis = cv2.putText(vis, str(edge_ind), tuple([x, y]), \n",
      "                                  cv2.FONT_HERSHEY_DUPLEX, 1, 255, 1)\n",
      "                \n",
      "#     votemap_vis = alpha_blending(gray2rgb(img_as_float(vis)), img_as_float(img_rgb), 0.7*np.ones((h, w)), \n",
      "#                    1.*np.ones((h, w)))\n",
      "\n",
      "#     return votemap_vis\n",
      "\n",
      "    return vis"
     ],
     "language": "python",
     "metadata": {},
     "outputs": [],
     "prompt_number": 203
    },
    {
     "cell_type": "code",
     "collapsed": false,
     "input": [
      "def visualize_edge_sets(edge_sets, img, edge_coords):\n",
      "    \n",
      "    if img.ndim == 2:\n",
      "        img_rgb = gray2rgb(img)\n",
      "    else:\n",
      "        img_rgb = img\n",
      "    \n",
      "    colors = np.uint8(np.loadtxt('../visualization/100colors.txt') * 255)\n",
      "    \n",
      "#     vis = np.zeros_like(dm.image_rgb, dtype=np.uint8)\n",
      "    vis = img_as_ubyte(img_rgb)\n",
      "\n",
      "    for edgeSet_ind, edges in enumerate(edge_sets):\n",
      "        for degde in edges:\n",
      "            q = frozenset(degde)\n",
      "            if q in edge_coords:\n",
      "                for y, x in edge_coords[q]:\n",
      "#                     vis[y, x] = colors[edgeSet_ind%len(colors)]\n",
      "                    vis[y-5:y+5, x-5:x+5] = colors[edgeSet_ind%len(colors)]\n",
      "                    \n",
      "    return vis\n",
      "\n",
      "#     votemap_vis = alpha_blending(img_as_float(vis), img_as_float(dm.image_rgb), 0.7*np.ones((dm.image_height, dm.image_width)), \n",
      "#                    1.*np.ones((dm.image_height, dm.image_width)))\n",
      "\n",
      "#     return votemap_vis"
     ],
     "language": "python",
     "metadata": {},
     "outputs": [],
     "prompt_number": 204
    },
    {
     "cell_type": "code",
     "collapsed": false,
     "input": [
      "votemap = np.zeros_like(segmentation, dtype=np.float)\n",
      "\n",
      "for degde, v in dEdge_votes.iteritems():\n",
      "    q = frozenset(degde)\n",
      "    if q in edge_coords:\n",
      "        for y, x in edge_coords[q]:\n",
      "            votemap[y-5:y+5, x-5:x+5] = v\n",
      "\n",
      "votes_normalized = (votemap - votemap.min()) / (votemap.max() - votemap.min())            \n",
      "# votemap_vis = plt.cm.gray(votes_normalized)[..., :3]\n",
      "\n",
      "# votemap_thresholded = (votemap > 1).astype(np.float)\n",
      "# votemap_vis = plt.cm.gray(votemap_thresholded)[..., :3]\n",
      "\n",
      "votemap_thresholded = np.zeros_like(votemap)\n",
      "votemap_thresholded[votemap > 1] = votes_normalized[votemap > 1]\n",
      "votemap_vis = plt.cm.gray(votemap_thresholded)[..., :3]\n",
      "\n",
      "votemap_vis = alpha_blending(votemap_vis, img_as_float(dm.image_rgb), 0.8*np.ones((dm.image_height, dm.image_width)), \n",
      "               1.*np.ones((dm.image_height, dm.image_width)))\n",
      "\n",
      "display(votemap_vis)"
     ],
     "language": "python",
     "metadata": {},
     "outputs": [
      {
       "html": [
        "<a href='tmp.jpg' target='_blank'>tmp.jpg</a><br>"
       ],
       "metadata": {},
       "output_type": "pyout",
       "prompt_number": 205,
       "text": [
        "/oasis/projects/nsf/csd181/yuncong/Brain/notebooks/tmp.jpg"
       ]
      }
     ],
     "prompt_number": 205
    },
    {
     "cell_type": "code",
     "collapsed": false,
     "input": [
      "# edge_coords2 = [None for _ in range(len(edges))]\n",
      "# for edge, pts in edge_coords.iteritems():\n",
      "#     if edge in edges:\n",
      "#         edge_coords2[edges.index(edge)] = pts"
     ],
     "language": "python",
     "metadata": {},
     "outputs": [],
     "prompt_number": 454
    },
    {
     "cell_type": "code",
     "collapsed": false,
     "input": [
      "edges_sp = [set([]) for _ in range(n_superpixels)]\n",
      "\n",
      "for edge_ind, edge in enumerate(edges):\n",
      "    s1, s2 = list(edge)\n",
      "    edges_sp[s1].add(edge)\n",
      "    edges_sp[s2].add(edge)\n",
      "\n",
      "edge_neighbors = defaultdict(set)\n",
      "\n",
      "for edge_a_ind, edge_a in enumerate(edges):\n",
      "    pts_a = edge_coords[edge_a]\n",
      "    q1, q2 = list(edge_a)\n",
      "    for edge_b in edges_sp[q1] | edges_sp[q2]:\n",
      "        pts_b = edge_coords[edge_b]\n",
      "        if edge_a != edge_b:\n",
      "            possible_endpts_a = pts_a[[pts_a[:,0].argmin(), pts_a[:,0].argmax(), pts_a[:,1].argmin(), pts_a[:,1].argmax()]]\n",
      "            possible_endpts_b = pts_b[[pts_b[:,0].argmin(), pts_b[:,0].argmax(), pts_b[:,1].argmin(), pts_b[:,1].argmax()]]\n",
      "            if np.count_nonzero(cdist(possible_endpts_a, possible_endpts_b, metric=\"cityblock\") < 5) > 0:\n",
      "                edge_neighbors[edge_a].add(edge_b)\n",
      "                edge_neighbors[edge_b].add(edge_a)"
     ],
     "language": "python",
     "metadata": {},
     "outputs": [],
     "prompt_number": 16
    },
    {
     "cell_type": "code",
     "collapsed": false,
     "input": [
      "edge_connectivity_graph = from_dict_of_lists(edge_neighbors)"
     ],
     "language": "python",
     "metadata": {},
     "outputs": [],
     "prompt_number": 17
    },
    {
     "cell_type": "code",
     "collapsed": false,
     "input": [
      "dedge_connectivity_graph = Graph()"
     ],
     "language": "python",
     "metadata": {},
     "outputs": [],
     "prompt_number": 219
    },
    {
     "cell_type": "code",
     "collapsed": false,
     "input": [
      "for i, nbrs in edge_connectivity_graph.edge.iteritems():    \n",
      "    for n, attrs in nbrs.iteritems():\n",
      "        \n",
      "        q1, q2 = list(i)\n",
      "        w1, w2 = list(n)\n",
      "        \n",
      "        ebunch = []\n",
      "        if (q1,q2) in supporters_all:\n",
      "            if (w1,w2) in supporters_all:\n",
      "                ebunch.append(((q1,q2),(w1,w2),compute_overlap(set(supporters_all[(q1,q2)]), set(supporters_all[(w1,w2)]))))\n",
      "            if (w2,w1) in supporters_all:\n",
      "                ebunch.append(((q1,q2),(w2,w1),compute_overlap(set(supporters_all[(q1,q2)]), set(supporters_all[(w2,w1)]))))\n",
      "        if (q2,q1) in supporters_all:\n",
      "            if (w1,w2) in supporters_all:\n",
      "                ebunch.append(((q2,q1),(w1,w2),compute_overlap(set(supporters_all[(q2,q1)]), set(supporters_all[(w1,w2)]))))\n",
      "            if (w2,w1) in supporters_all:\n",
      "                ebunch.append(((q2,q1),(w2,w1),compute_overlap(set(supporters_all[(q2,q1)]), set(supporters_all[(w2,w1)]))))\n",
      "        \n",
      "        dedge_connectivity_graph.add_weighted_edges_from(ebunch)"
     ],
     "language": "python",
     "metadata": {},
     "outputs": [],
     "prompt_number": 220
    },
    {
     "cell_type": "code",
     "collapsed": false,
     "input": [
      "from networkx import adjacency_matrix"
     ],
     "language": "python",
     "metadata": {},
     "outputs": [],
     "prompt_number": 222
    },
    {
     "cell_type": "code",
     "collapsed": false,
     "input": [
      "W = networkx.adjacency_matrix(dedge_connectivity_graph).toarray()"
     ],
     "language": "python",
     "metadata": {},
     "outputs": [],
     "prompt_number": 227
    },
    {
     "cell_type": "code",
     "collapsed": false,
     "input": [
      "def optimal_threshold(y, d, W):\n",
      "\n",
      "    ncuts = []\n",
      "    splits = np.linspace(y.min() + 1e-2, y.max() - 1e-2, 50)\n",
      "    for l in splits:\n",
      "        A = np.where(y > l)[0]\n",
      "        B = np.where(y < l)[0]\n",
      "\n",
      "        cut = 0\n",
      "        for a in A:\n",
      "            for b in B:\n",
      "                cut += W[a,b]\n",
      "\n",
      "        ncut = cut/d[A].sum() + cut/d[B].sum()\n",
      "#         print l, cut, d[A].sum(), d[B].sum()\n",
      "        ncuts.append(ncut)\n",
      "\n",
      "    plt.figure()\n",
      "    plt.plot(splits, ncuts)\n",
      "    plt.show()\n",
      "        \n",
      "    return splits[np.argmin(ncuts)], np.min(ncuts)"
     ],
     "language": "python",
     "metadata": {},
     "outputs": [],
     "prompt_number": 229
    },
    {
     "cell_type": "code",
     "collapsed": false,
     "input": [
      "d = W.sum(axis=1)\n",
      "D = np.diag(d)\n",
      "D_nsqrt = np.diag(1./np.sqrt(d))\n",
      "L = np.dot(D_nsqrt, np.dot(D-W, D_nsqrt))\n",
      "vs, zs = np.linalg.eigh(L)\n",
      "ys = np.dot(D_nsqrt, zs)\n"
     ],
     "language": "python",
     "metadata": {},
     "outputs": []
    },
    {
     "cell_type": "code",
     "collapsed": false,
     "input": [
      "plt.stem(vs);\n",
      "plt.show()"
     ],
     "language": "python",
     "metadata": {},
     "outputs": []
    },
    {
     "cell_type": "code",
     "collapsed": false,
     "input": [
      "l, ncut = optimal_threshold(ys[:,1], d, W)\n",
      "plt.stem(ys[:,1], bottom=l);\n",
      "\n",
      "fig, axes = plt.subplots(5, 1, figsize=(10,10))\n",
      "for i in range(5):\n",
      "    if i == 0:\n",
      "        l = optimal_threshold(ys[:,1], d, W)\n",
      "        axes[i].stem(ys[:,i+1], bottom=l);\n",
      "    else:\n",
      "        axes[i].stem(ys[:,i+1], bottom=0);\n",
      "\n",
      "plt.tight_layout()\n",
      "plt.show()\n",
      "\n",
      "y_bin = np.sign(ys[:,1] - l)\n"
     ],
     "language": "python",
     "metadata": {},
     "outputs": []
    },
    {
     "cell_type": "heading",
     "level": 1,
     "metadata": {},
     "source": [
      "Supporter clustering experiment"
     ]
    },
    {
     "cell_type": "code",
     "collapsed": false,
     "input": [
      "def compute_overlap(c1, c2):\n",
      "    return float(len(c1 & c2)) / min(len(c1),len(c2))\n",
      "#     return float(len(c1 & c2)) / len(c1 | c2)\n",
      "\n",
      "def compute_overlap_partial(indices, sets):\n",
      "    n_sets = len(sets)\n",
      "    \n",
      "    overlap_matrix = np.zeros((len(indices), n_sets))\n",
      "        \n",
      "    for ii, i in enumerate(indices):\n",
      "        for j in range(n_sets):\n",
      "            c1 = set(sets[i])\n",
      "            c2 = set(sets[j])\n",
      "            if len(c1) == 0 or len(c2) == 0:\n",
      "                overlap_matrix[ii, j] = 0\n",
      "            else:\n",
      "                overlap_matrix[ii, j] = compute_overlap(c1, c2)\n",
      "            \n",
      "    return overlap_matrix\n",
      "\n",
      "def set_pairwise_distances(sets):\n",
      "\n",
      "    partial_overlap_mat = Parallel(n_jobs=16, max_nbytes=1e6)(delayed(compute_overlap_partial)(s, sets) \n",
      "                                        for s in np.array_split(range(len(sets)), 16))\n",
      "    overlap_matrix = np.vstack(partial_overlap_mat)\n",
      "    distance_matrix = 1 - overlap_matrix\n",
      "    \n",
      "    np.fill_diagonal(distance_matrix, 0)\n",
      "    \n",
      "    return distance_matrix"
     ],
     "language": "python",
     "metadata": {},
     "outputs": [],
     "prompt_number": 206
    },
    {
     "cell_type": "code",
     "collapsed": false,
     "input": [
      "winner_dEdges = [dedge for dedge, v in dEdge_votes.iteritems() if v > 1.]\n",
      "winner_supporters = [supporters_all[dedge] for dedge in winner_dEdges]\n",
      "D = set_pairwise_distances(winner_supporters)"
     ],
     "language": "python",
     "metadata": {},
     "outputs": [],
     "prompt_number": 207
    },
    {
     "cell_type": "code",
     "collapsed": false,
     "input": [
      "winner_indices_grouped_by_supporters = group_clusters(winner_supporters, dist_thresh=.2, distance_matrix=D)\n",
      "print len(winner_indices_grouped_by_supporters), 'alliances'\n",
      "winners_grouped_by_supporters = [[winner_dEdges[i] for i in g] for g in winner_indices_grouped_by_supporters]\n",
      "\n",
      "alliance_sizes = np.array(map(len, winners_grouped_by_supporters))\n"
     ],
     "language": "python",
     "metadata": {},
     "outputs": [
      {
       "output_type": "stream",
       "stream": "stdout",
       "text": [
        "356 alliances\n"
       ]
      }
     ],
     "prompt_number": 208
    },
    {
     "cell_type": "code",
     "collapsed": false,
     "input": [
      "plt.hist(alliance_sizes, bins=100);\n",
      "plt.xlabel('alliance size')\n",
      "plt.ylabel('frequency')\n",
      "plt.show()"
     ],
     "language": "python",
     "metadata": {},
     "outputs": [
      {
       "metadata": {},
       "output_type": "display_data",
       "png": "[encoded data removed]",
       "text": [
        "<matplotlib.figure.Figure at 0x9b625d0>"
       ]
      }
     ],
     "prompt_number": 209
    },
    {
     "cell_type": "code",
     "collapsed": false,
     "input": [
      "big_alliance_indices = np.where(alliance_sizes > 20)[0]\n",
      "print len(big_alliance_indices), 'big alliances'\n",
      "big_alliance_dEdges = [winners_grouped_by_supporters[ba_ind] for ba_ind in big_alliance_indices]\n",
      "big_alliance_winnerIndices = [winner_indices_grouped_by_supporters[ba_ind] for ba_ind in big_alliance_indices]\n",
      "big_alliance_supporters = [set.union(*[set(winner_supporters[i]) for i in a]) for a in big_alliance_winnerIndices]"
     ],
     "language": "python",
     "metadata": {},
     "outputs": [
      {
       "output_type": "stream",
       "stream": "stdout",
       "text": [
        "38 big alliances\n"
       ]
      }
     ],
     "prompt_number": 210
    },
    {
     "cell_type": "code",
     "collapsed": false,
     "input": [
      "display(visualize_edge_sets(big_alliance_dEdges, dm.image, edge_coords))"
     ],
     "language": "python",
     "metadata": {},
     "outputs": [
      {
       "html": [
        "<a href='tmp.jpg' target='_blank'>tmp.jpg</a><br>"
       ],
       "metadata": {},
       "output_type": "pyout",
       "prompt_number": 217,
       "text": [
        "/oasis/projects/nsf/csd181/yuncong/Brain/notebooks/tmp.jpg"
       ]
      }
     ],
     "prompt_number": 217
    },
    {
     "cell_type": "code",
     "collapsed": false,
     "input": [
      "# g = networkx.from_numpy_matrix(np.maximum(W - 0.2, 0))\n",
      "good_edgeSet_tuple_sorted_by_score = sorted([(np.sum([dEdge_votes[e] for e in edges]), edges, alliance_ind)\n",
      "                                                  for alliance_ind, edges in enumerate(big_alliance_dEdges)\n",
      "                                                  if len(edges) > 10], reverse=True)\n",
      "good_edgeSet_scores_sorted, good_edgeSet_sorted, good_edgeSet_indices_sorted = zip(*good_edgeSet_tuple_sorted_by_score)"
     ],
     "language": "python",
     "metadata": {},
     "outputs": [],
     "prompt_number": 211
    },
    {
     "cell_type": "code",
     "collapsed": false,
     "input": [
      "print good_edgeSet_indices_sorted"
     ],
     "language": "python",
     "metadata": {},
     "outputs": [
      {
       "output_type": "stream",
       "stream": "stdout",
       "text": [
        "(17, 19, 20, 9, 27, 23, 13, 2, 14, 18, 24, 35, 5, 37, 16, 32, 21, 1, 30, 12, 28, 25, 29, 33, 8, 26, 4, 11, 7, 22, 31, 0, 10, 15, 34, 3, 36, 6)\n"
       ]
      }
     ],
     "prompt_number": 212
    },
    {
     "cell_type": "code",
     "collapsed": false,
     "input": [
      "display(visualize_cluster(big_alliance_supporters[good_edgeSet_indices_sorted[1]], \n",
      "                          segmentation=segmentation, segmentation_vis=segmentation_vis))"
     ],
     "language": "python",
     "metadata": {},
     "outputs": [
      {
       "html": [
        "<a href='tmp.jpg' target='_blank'>tmp.jpg</a><br>"
       ],
       "metadata": {},
       "output_type": "pyout",
       "prompt_number": 96,
       "text": [
        "/oasis/projects/nsf/csd181/yuncong/Brain/notebooks/tmp.jpg"
       ]
      }
     ],
     "prompt_number": 96
    },
    {
     "cell_type": "code",
     "collapsed": false,
     "input": [
      "display(visualize_edges(good_edgeSet_sorted[0]))"
     ],
     "language": "python",
     "metadata": {},
     "outputs": [
      {
       "html": [
        "<a href='tmp.jpg' target='_blank'>tmp.jpg</a><br>"
       ],
       "metadata": {},
       "output_type": "pyout",
       "prompt_number": 101,
       "text": [
        "/oasis/projects/nsf/csd181/yuncong/Brain/notebooks/tmp.jpg"
       ]
      }
     ],
     "prompt_number": 101
    },
    {
     "cell_type": "code",
     "collapsed": false,
     "input": [
      "display(visualize_edge_sets(good_edgeSet_sorted[:20], dm.image, edge_coords))"
     ],
     "language": "python",
     "metadata": {},
     "outputs": [
      {
       "html": [
        "<a href='tmp.jpg' target='_blank'>tmp.jpg</a><br>"
       ],
       "metadata": {},
       "output_type": "pyout",
       "prompt_number": 41,
       "text": [
        "/oasis/projects/nsf/csd181/yuncong/Brain/notebooks/tmp.jpg"
       ]
      }
     ],
     "prompt_number": 41
    },
    {
     "cell_type": "heading",
     "level": 1,
     "metadata": {},
     "source": [
      "Unify Landmarks"
     ]
    },
    {
     "cell_type": "code",
     "collapsed": false,
     "input": [
      "all_edges = chain(*[representative_cluster_edges[:20], good_edgeSet_sorted[:20]])"
     ],
     "language": "python",
     "metadata": {},
     "outputs": [],
     "prompt_number": 213
    },
    {
     "cell_type": "code",
     "collapsed": false,
     "input": [
      "display(visualize_edge_sets(all_edges, dm.image, edge_coords))"
     ],
     "language": "python",
     "metadata": {},
     "outputs": [
      {
       "html": [
        "<a href='tmp.jpg' target='_blank'>tmp.jpg</a><br>"
       ],
       "metadata": {},
       "output_type": "pyout",
       "prompt_number": 214,
       "text": [
        "/oasis/projects/nsf/csd181/yuncong/Brain/notebooks/tmp.jpg"
       ]
      }
     ],
     "prompt_number": 214
    },
    {
     "cell_type": "code",
     "collapsed": false,
     "input": [
      "display(visualize_edge_sets( good_edgeSet_sorted[:20], dm.image, edge_coords))"
     ],
     "language": "python",
     "metadata": {},
     "outputs": [
      {
       "html": [
        "<a href='tmp.jpg' target='_blank'>tmp.jpg</a><br>"
       ],
       "metadata": {},
       "output_type": "pyout",
       "prompt_number": 215,
       "text": [
        "/oasis/projects/nsf/csd181/yuncong/Brain/notebooks/tmp.jpg"
       ]
      }
     ],
     "prompt_number": 215
    },
    {
     "cell_type": "code",
     "collapsed": false,
     "input": [
      "display(visualize_edge_sets( representative_cluster_edges[:20], dm.image, edge_coords))"
     ],
     "language": "python",
     "metadata": {},
     "outputs": [
      {
       "html": [
        "<a href='tmp.jpg' target='_blank'>tmp.jpg</a><br>"
       ],
       "metadata": {},
       "output_type": "pyout",
       "prompt_number": 216,
       "text": [
        "/oasis/projects/nsf/csd181/yuncong/Brain/notebooks/tmp.jpg"
       ]
      }
     ],
     "prompt_number": 216
    },
    {
     "cell_type": "heading",
     "level": 1,
     "metadata": {},
     "source": [
      "Model Boundaries"
     ]
    },
    {
     "cell_type": "code",
     "collapsed": false,
     "input": [
      "sys.path.append('shape_context')\n",
      "import shape_context as sc"
     ],
     "language": "python",
     "metadata": {},
     "outputs": [],
     "prompt_number": 81
    },
    {
     "cell_type": "code",
     "collapsed": false,
     "input": [
      "def centering(ps):\n",
      "    return ps - ps.mean(axis=0)\n",
      "\n",
      "def hausdorff(ps1, ps2):\n",
      "    psc1 = centering(ps1)\n",
      "    psc2 = centering(ps2)\n",
      "    D = cdist(psc1, psc2)\n",
      "    return max(np.max(D.min(axis=0)), np.max(D.min(axis=1)))\n",
      "\n",
      "def hausdorff_histograms(h1s, h2s, metric):\n",
      "    Ds = cdist(h1s, h2s, metric)\n",
      "    return max(np.nanmax(np.nanmin(Ds, axis=1)), np.nanmax(np.nanmin(Ds, axis=0)))\n"
     ],
     "language": "python",
     "metadata": {},
     "outputs": [],
     "prompt_number": 82
    },
    {
     "cell_type": "code",
     "collapsed": false,
     "input": [
      "from munkres import Munkres\n",
      "\n",
      "def shape_context_score_with_textures(pts1, pts2, exterior_textures1, exterior_textures2):\n",
      "    # NOTE THAT pts1 must be more than pts2 !!!\n",
      "    \n",
      "#     ps1_sorted = centering(ps1_sorted)\n",
      "#     ps2_sorted = centering(ps2_sorted)\n",
      "\n",
      "    dists1, angles1 = sc.euclidean_dists_angles(pts1)\n",
      "    descriptors1 = sc.shape_context(dists1, angles1)\n",
      "    \n",
      "    dists2, angles2 = sc.euclidean_dists_angles(pts2)\n",
      "    descriptors2 = sc.shape_context(dists2, angles2)\n",
      "\n",
      "    n_rows = descriptors1.shape[0]\n",
      "    n_cols = descriptors2.shape[0]\n",
      "    \n",
      "    descriptors1 = descriptors1.reshape(n_rows, -1)\n",
      "    descriptors2 = descriptors2.reshape(n_cols, -1)\n",
      "        \n",
      "    Dm = np.zeros((n_rows, n_cols))\n",
      "    for i, di in enumerate(descriptors1):\n",
      "        for j, dj in enumerate(descriptors2):\n",
      "            Dm[i,j] = chi2(di,dj)\n",
      "#             Dm[i,j] = 0.01 * chi2(di, dj) + chi2(exterior_textures1[i], exterior_textures2[j])\n",
      "                \n",
      "    m = Munkres()\n",
      "    matches = m.compute(Dm.copy())\n",
      "    \n",
      "    total = 0\n",
      "    for row, column in matches:\n",
      "        value = Dm[row][column]\n",
      "        total += value\n",
      "        \n",
      "    if len(matches) > 0:\n",
      "        s = total / len(matches)\n",
      "\n",
      "    return s, matches"
     ],
     "language": "python",
     "metadata": {},
     "outputs": [],
     "prompt_number": 84
    },
    {
     "cell_type": "code",
     "collapsed": false,
     "input": [
      "print shape_context_score_with_textures(points1, points2, exterior_textures1, exterior_textures2)\n",
      "\n",
      "fig = plt.figure(figsize=(10,10))\n",
      "ax = fig.add_subplot(111, aspect='equal')\n",
      "ax.scatter(points1[:,0], points1[:,1], c='r')\n",
      "ax.scatter(points2[:,0], points2[:,1], c='g')\n",
      "\n",
      "ax.scatter(center1[0], center1[1], c='r', marker='+', s=50)\n",
      "ax.scatter(center2[0], center2[1], c='g', marker='+', s=50)\n",
      "\n",
      "for i, (y,x) in enumerate(points1):\n",
      "    ax.text(y, x, str(i), color='r')\n",
      "    \n",
      "for i, (y,x) in enumerate(points2):\n",
      "    ax.text(y, x, str(i), color='g')\n",
      "\n",
      "ax.set_aspect('equal')\n",
      "\n",
      "plt.show()"
     ],
     "language": "python",
     "metadata": {},
     "outputs": [
      {
       "ename": "NameError",
       "evalue": "name 'points1' is not defined",
       "output_type": "pyerr",
       "traceback": [
        "\u001b[1;31m---------------------------------------------------------------------------\u001b[0m\n\u001b[1;31mNameError\u001b[0m                                 Traceback (most recent call last)",
        "\u001b[1;32m<ipython-input-85-8b1b6ae8b98b>\u001b[0m in \u001b[0;36m<module>\u001b[1;34m()\u001b[0m\n\u001b[1;32m----> 1\u001b[1;33m \u001b[1;32mprint\u001b[0m \u001b[0mshape_context_score_with_textures\u001b[0m\u001b[1;33m(\u001b[0m\u001b[0mpoints1\u001b[0m\u001b[1;33m,\u001b[0m \u001b[0mpoints2\u001b[0m\u001b[1;33m,\u001b[0m \u001b[0mexterior_textures1\u001b[0m\u001b[1;33m,\u001b[0m \u001b[0mexterior_textures2\u001b[0m\u001b[1;33m)\u001b[0m\u001b[1;33m\u001b[0m\u001b[0m\n\u001b[0m\u001b[0;32m      2\u001b[0m \u001b[1;33m\u001b[0m\u001b[0m\n\u001b[0;32m      3\u001b[0m \u001b[0mfig\u001b[0m \u001b[1;33m=\u001b[0m \u001b[0mplt\u001b[0m\u001b[1;33m.\u001b[0m\u001b[0mfigure\u001b[0m\u001b[1;33m(\u001b[0m\u001b[0mfigsize\u001b[0m\u001b[1;33m=\u001b[0m\u001b[1;33m(\u001b[0m\u001b[1;36m10\u001b[0m\u001b[1;33m,\u001b[0m\u001b[1;36m10\u001b[0m\u001b[1;33m)\u001b[0m\u001b[1;33m)\u001b[0m\u001b[1;33m\u001b[0m\u001b[0m\n\u001b[0;32m      4\u001b[0m \u001b[0max\u001b[0m \u001b[1;33m=\u001b[0m \u001b[0mfig\u001b[0m\u001b[1;33m.\u001b[0m\u001b[0madd_subplot\u001b[0m\u001b[1;33m(\u001b[0m\u001b[1;36m111\u001b[0m\u001b[1;33m,\u001b[0m \u001b[0maspect\u001b[0m\u001b[1;33m=\u001b[0m\u001b[1;34m'equal'\u001b[0m\u001b[1;33m)\u001b[0m\u001b[1;33m\u001b[0m\u001b[0m\n\u001b[0;32m      5\u001b[0m \u001b[0max\u001b[0m\u001b[1;33m.\u001b[0m\u001b[0mscatter\u001b[0m\u001b[1;33m(\u001b[0m\u001b[0mpoints1\u001b[0m\u001b[1;33m[\u001b[0m\u001b[1;33m:\u001b[0m\u001b[1;33m,\u001b[0m\u001b[1;36m0\u001b[0m\u001b[1;33m]\u001b[0m\u001b[1;33m,\u001b[0m \u001b[0mpoints1\u001b[0m\u001b[1;33m[\u001b[0m\u001b[1;33m:\u001b[0m\u001b[1;33m,\u001b[0m\u001b[1;36m1\u001b[0m\u001b[1;33m]\u001b[0m\u001b[1;33m,\u001b[0m \u001b[0mc\u001b[0m\u001b[1;33m=\u001b[0m\u001b[1;34m'r'\u001b[0m\u001b[1;33m)\u001b[0m\u001b[1;33m\u001b[0m\u001b[0m\n",
        "\u001b[1;31mNameError\u001b[0m: name 'points1' is not defined"
       ]
      }
     ],
     "prompt_number": 85
    },
    {
     "cell_type": "code",
     "collapsed": false,
     "input": [
      "boundary_models = []\n",
      "\n",
      "for edgeSet_ind, edgeSet in zip(good_edgeSet_indices_sorted, good_edgeSet_sorted):\n",
      "    \n",
      "    # interior_texture = texton_hists[list(big_alliance_supporters[edgeSet_ind])].mean(axis=0)\n",
      "\n",
      "    surrounds = [e[0] for e in edgeSet]\n",
      "    frontiers = [e[1] for e in edgeSet]\n",
      "\n",
      "    interior_texture = texton_hists[frontiers].mean(axis=0)\n",
      "    exterior_textures = texton_hists[surrounds]\n",
      "\n",
      "    points = np.array([edge_coords[frozenset(e)].mean(axis=0) for e in edgeSet])\n",
      "\n",
      "    center = points.mean(axis=0)\n",
      "    \n",
      "    boundary_models.append((edgeSet, interior_texture, exterior_textures, points, center))\n",
      "\n",
      "dm.save_pipeline_result(boundary_models, 'boundaryModels', 'pkl')\n"
     ],
     "language": "python",
     "metadata": {},
     "outputs": [
      {
       "output_type": "stream",
       "stream": "stdout",
       "text": [
        "saved /home/yuncong/project/DavidData2014results/RS141/0010/RS141_x5_0010_gabor-blueNisslWide-segm-blueNisslRegular-vq-blueNissl_boundaryModels.pkl\n"
       ]
      }
     ],
     "prompt_number": 89
    },
    {
     "cell_type": "code",
     "collapsed": false,
     "input": [
      "edgeSet_ind, edgeSet = zip(good_edgeSet_indices_sorted, good_edgeSet_sorted)[3]\n",
      "\n",
      "# interior_texture = texton_hists[list(big_alliance_supporters[edgeSet_ind])].mean(axis=0)\n",
      "\n",
      "surrounds = [e[0] for e in edgeSet]\n",
      "frontiers = [e[1] for e in edgeSet]\n",
      "\n",
      "interior_texture1 = texton_hists[frontiers].mean(axis=0)\n",
      "exterior_textures1 = texton_hists[surrounds]\n",
      "\n",
      "points1 = np.array([edge_coords[frozenset(e)].mean(axis=0) for e in edgeSet])\n",
      "\n",
      "center1 = points1.mean(axis=0)"
     ],
     "language": "python",
     "metadata": {},
     "outputs": [],
     "prompt_number": 148
    },
    {
     "cell_type": "code",
     "collapsed": false,
     "input": [
      "   \n",
      "edgeSet_ind, edgeSet = zip(good_edgeSet_indices_sorted, good_edgeSet_sorted)[0]\n",
      "\n",
      "# interior_texture = texton_hists[list(big_alliance_supporters[edgeSet_ind])].mean(axis=0)\n",
      "\n",
      "surrounds = [e[0] for e in edgeSet]\n",
      "frontiers = [e[1] for e in edgeSet]\n",
      "\n",
      "interior_texture2 = texton_hists[frontiers].mean(axis=0)\n",
      "exterior_textures2 = texton_hists[surrounds]\n",
      "\n",
      "points2 = np.array([edge_coords[frozenset(e)].mean(axis=0) for e in edgeSet])\n",
      "\n",
      "center2 = points2.mean(axis=0)"
     ],
     "language": "python",
     "metadata": {},
     "outputs": [],
     "prompt_number": 149
    },
    {
     "cell_type": "code",
     "collapsed": false,
     "input": [
      "boundary_distance(boundary_models[0], boundary_models[0])"
     ],
     "language": "python",
     "metadata": {},
     "outputs": [
      {
       "output_type": "stream",
       "stream": "stdout",
       "text": [
        "0.0 0.0 0.0\n"
       ]
      },
      {
       "metadata": {},
       "output_type": "pyout",
       "prompt_number": 181,
       "text": [
        "0.0"
       ]
      }
     ],
     "prompt_number": 181
    },
    {
     "cell_type": "code",
     "collapsed": false,
     "input": [
      "def boundary_distance(b1, b2):\n",
      "    \n",
      "    interior_texture1, exterior_textures1, points1, center1 = b1\n",
      "    interior_texture2, exterior_textures2, points2, center2 = b2\n",
      "\n",
      "    D_int = chi2(interior_texture1, interior_texture2)\n",
      "    D_ext = hausdorff_histograms(exterior_textures1, exterior_textures2, metric=chi2)\n",
      "\n",
      "    if points1.shape[0] < points2.shape[0]:\n",
      "        D_shape, matches = shape_context_score_with_textures(points1, points2, exterior_textures1, exterior_textures2)\n",
      "    else:\n",
      "        D_shape, matches = shape_context_score_with_textures(points2, points1, exterior_textures2, exterior_textures1)\n",
      "\n",
      "    D_shape = D_shape * 0.01\n",
      "        \n",
      "    print D_int, D_ext, D_shape\n",
      "        \n",
      "    d = .33 * D_int + 0.33 * D_ext + .33 * D_shape\n",
      "    \n",
      "    return d\n"
     ],
     "language": "python",
     "metadata": {},
     "outputs": [],
     "prompt_number": 179
    },
    {
     "cell_type": "heading",
     "level": 1,
     "metadata": {},
     "source": [
      "Vote diffusion experiment"
     ]
    },
    {
     "cell_type": "code",
     "collapsed": false,
     "input": [
      "sigma = .3\n",
      "x = np.linspace(0, 1, 100)\n",
      "y = np.exp(-x**2/sigma**2)\n",
      "plt.plot(x, y);"
     ],
     "language": "python",
     "metadata": {},
     "outputs": [
      {
       "metadata": {},
       "output_type": "display_data",
       "text": [
        "<matplotlib.figure.Figure at 0x47ff390>"
       ]
      }
     ],
     "prompt_number": 77
    },
    {
     "cell_type": "code",
     "collapsed": false,
     "input": [
      "sigma = .3\n",
      "boundary_affinity_all = np.exp(-D**2/sigma**2)\n",
      "\n",
      "boundary_affinity = np.zeros_like(boundary_affinity_all)\n",
      "for i, wi in enumerate(winners):\n",
      "    for j, wj in enumerate(winners):\n",
      "        if wj in neighbors[wi]:\n",
      "            boundary_affinity[i,j] = boundary_affinity_all[i,j]\n",
      "\n",
      "W = boundary_affinity / boundary_affinity.sum(axis=1)[:,np.newaxis]\n",
      "W = np.nan_to_num(W)\n",
      "\n",
      "plt.matshow(W);\n",
      "plt.colorbar();"
     ],
     "language": "python",
     "metadata": {},
     "outputs": [
      {
       "metadata": {},
       "output_type": "display_data",
       "text": [
        "<matplotlib.figure.Figure at 0x2ba809d77a50>"
       ]
      }
     ],
     "prompt_number": 280
    },
    {
     "cell_type": "code",
     "collapsed": false,
     "input": [
      "votes2 = np.zeros_like(votes)\n",
      "votes2[winners] = votes[winners]\n",
      "\n",
      "vis = votes2[segmentation]\n",
      "plt.imshow(vis, cmap=plt.cm.gray);\n",
      "plt.axis('off')\n",
      "plt.show()"
     ],
     "language": "python",
     "metadata": {},
     "outputs": [
      {
       "metadata": {},
       "output_type": "display_data",
       "text": [
        "<matplotlib.figure.Figure at 0xc974dd0>"
       ]
      }
     ],
     "prompt_number": 26
    },
    {
     "cell_type": "code",
     "collapsed": false,
     "input": [
      "votes2 = np.zeros_like(votes)\n",
      "votes2[winners] = votes[winners]\n",
      "\n",
      "for i in range(10):\n",
      "    votes2p = votes2.copy()\n",
      "    votes2[winners] = np.dot(W, votes2[winners])\n",
      "    print np.linalg.norm(np.abs(votes2 - votes2p))\n"
     ],
     "language": "python",
     "metadata": {},
     "outputs": [
      {
       "output_type": "stream",
       "stream": "stdout",
       "text": [
        "28.0485908222\n",
        "23.9161341936\n",
        "23.2058618855\n",
        "23.2042457665\n",
        "23.1752216926\n",
        "23.1626967764\n",
        "23.1406957786\n",
        "23.1286450528\n",
        "23.1065318627\n",
        "23.0958151944\n"
       ]
      }
     ],
     "prompt_number": 31
    },
    {
     "cell_type": "code",
     "collapsed": false,
     "input": [
      "vis = votes2[segmentation]\n",
      "plt.imshow(vis, cmap=plt.cm.gray);\n",
      "plt.axis('off')\n",
      "plt.show()"
     ],
     "language": "python",
     "metadata": {},
     "outputs": [
      {
       "metadata": {},
       "output_type": "display_data",
       "text": [
        "<matplotlib.figure.Figure at 0x9c329d0>"
       ]
      }
     ],
     "prompt_number": 41
    },
    {
     "cell_type": "code",
     "collapsed": false,
     "input": [
      "votes_normalized = (votes2 - votes2.min()) / (votes2.max() - votes2.min())\n",
      "vis = votes_normalized[segmentation]\n",
      "\n",
      "votemap = plt.cm.gray(vis)[..., :3]\n",
      "votemap_vis = alpha_blending(votemap, img_as_float(dm.image_rgb), 0.7*np.ones((dm.image_height, dm.image_width)), \n",
      "               1.*np.ones((dm.image_height, dm.image_width)))\n",
      "display(votemap_vis)"
     ],
     "language": "python",
     "metadata": {},
     "outputs": [
      {
       "html": [
        "<a href='tmp.jpg' target='_blank'>tmp.jpg</a><br>"
       ],
       "metadata": {},
       "output_type": "pyout",
       "prompt_number": 44,
       "text": [
        "/oasis/projects/nsf/csd181/yuncong/Brain/notebooks/tmp.jpg"
       ]
      }
     ],
     "prompt_number": 44
    },
    {
     "cell_type": "code",
     "collapsed": false,
     "input": [
      "plt.hist(votes[winners], bins=100);\n",
      "plt.show()\n",
      "plt.hist(votes2[winners], bins=100);\n",
      "plt.show()"
     ],
     "language": "python",
     "metadata": {},
     "outputs": [
      {
       "metadata": {},
       "output_type": "display_data",
       "text": [
        "<matplotlib.figure.Figure at 0xce72810>"
       ]
      },
      {
       "metadata": {},
       "output_type": "display_data",
       "text": [
        "<matplotlib.figure.Figure at 0xce728d0>"
       ]
      }
     ],
     "prompt_number": 33
    },
    {
     "cell_type": "heading",
     "level": 1,
     "metadata": {},
     "source": [
      "Vote thresholding"
     ]
    },
    {
     "cell_type": "code",
     "collapsed": false,
     "input": [
      "votes_thresholded = (votes2 > 1.).astype(np.float)\n",
      "vis = votes_thresholded[segmentation]\n",
      "plt.imshow(vis, cmap=plt.cm.gray);\n",
      "plt.axis('off')\n",
      "plt.show()"
     ],
     "language": "python",
     "metadata": {},
     "outputs": [
      {
       "metadata": {},
       "output_type": "display_data",
       "text": [
        "<matplotlib.figure.Figure at 0x9a82890>"
       ]
      }
     ],
     "prompt_number": 112
    },
    {
     "cell_type": "code",
     "collapsed": false,
     "input": [
      "winner_scores = np.array([chi2(texton_hists[w], texton_hists[sptrs].mean(axis=0)) for w, sptrs in zip(winners, supporters)])\n",
      "winners_sorted_by_score = np.argsort(winner_scores)[::-1]\n",
      "\n",
      "g = networkx.from_numpy_matrix(np.maximum(W - 0.2, 0))\n",
      "winner_components_tuple_sorted_by_score = sorted([(winner_scores[cc].mean(), winners[cc]) for cc in connected_components(g) \n",
      "                                                  if len(cc) > 5], reverse=True)\n",
      "winner_component_scores_sorted, winner_component_sorted = zip(*winner_components_tuple_sorted_by_score)\n",
      "\n",
      "display(visualize_multiple_clusters(winner_component_sorted[:30], \n",
      "                                    segmentation=segmentation, segmentation_vis=segmentation_vis))"
     ],
     "language": "python",
     "metadata": {},
     "outputs": [],
     "prompt_number": 106
    }
   ],
   "metadata": {}
  }
 ]
}