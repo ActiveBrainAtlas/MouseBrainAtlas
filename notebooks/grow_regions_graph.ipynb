{
 "metadata": {
  "name": "",
  "signature": "sha256:412df8dc5500c1cf2e6fcb0b90cc1dee854515e82788f9fe5d35f946eb6e0601"
 },
 "nbformat": 3,
 "nbformat_minor": 0,
 "worksheets": [
  {
   "cells": [
    {
     "cell_type": "code",
     "collapsed": false,
     "input": [
      "%reload_ext autoreload\n",
      "%autoreload 2"
     ],
     "language": "python",
     "metadata": {},
     "outputs": []
    },
    {
     "cell_type": "code",
     "collapsed": false,
     "input": [
      "import sys\n",
      "sys.path.append('/home/yuncong/Brain/pipeline_scripts')\n",
      "from utilities2014 import *\n",
      "import os\n",
      "\n",
      "from scipy.spatial.distance import cdist, pdist, squareform\n",
      "from joblib import Parallel, delayed\n",
      "from skimage.color import gray2rgb\n",
      "\n",
      "import networkx\n",
      "from networkx import from_dict_of_lists, Graph, adjacency_matrix\n",
      "from networkx.algorithms import node_connected_component\n",
      "\n",
      "%run grow_regions_common.ipynb\n",
      "\n",
      "os.environ['GORDON_DATA_DIR'] = '/home/yuncong/project/DavidData2014tif/'\n",
      "os.environ['GORDON_REPO_DIR'] = '/home/yuncong/Brain'\n",
      "os.environ['GORDON_RESULT_DIR'] = '/home/yuncong/project/DavidData2014results/'\n",
      "os.environ['GORDON_LABELING_DIR'] = '/home/yuncong/project/DavidData2014labelings/'\n",
      "\n",
      "dm = DataManager(data_dir=os.environ['GORDON_DATA_DIR'], \n",
      "  repo_dir=os.environ['GORDON_REPO_DIR'], \n",
      "  result_dir=os.environ['GORDON_RESULT_DIR'], \n",
      "  labeling_dir=os.environ['GORDON_LABELING_DIR'])\n",
      "\n",
      "dm.set_stack('RS141')\n",
      "dm.set_resol('x5')\n",
      "dm.set_gabor_params(gabor_params_id='blueNisslWide')\n",
      "dm.set_segmentation_params(segm_params_id='blueNisslRegular')\n",
      "dm.set_vq_params(vq_params_id='blueNissl')"
     ],
     "language": "python",
     "metadata": {},
     "outputs": []
    },
    {
     "cell_type": "code",
     "collapsed": false,
     "input": [
      "dm.set_slice(6)\n",
      "\n",
      "texton_hists = dm.load_pipeline_result('texHist', 'npy')\n",
      "segmentation = dm.load_pipeline_result('segmentation', 'npy')\n",
      "n_superpixels = len(unique(segmentation)) - 1\n",
      "textonmap = dm.load_pipeline_result('texMap', 'npy')\n",
      "n_texton = len(np.unique(textonmap)) - 1\n",
      "neighbors = dm.load_pipeline_result('neighbors', 'npy')\n",
      "sp_properties = dm.load_pipeline_result('spProps', 'npy')\n",
      "segmentation_vis = dm.load_pipeline_result('segmentationWithText', 'jpg')"
     ],
     "language": "python",
     "metadata": {},
     "outputs": []
    },
    {
     "cell_type": "code",
     "collapsed": false,
     "input": [
      "try:\n",
      "    sp_sp_dists = dm.load_pipeline_result('texHistPairwiseDist', 'npy')\n",
      "\n",
      "except:\n",
      "    def f(a):\n",
      "        sp_dists = cdist(a, texton_hists, metric=js)\n",
      "        return sp_dists\n",
      "\n",
      "    sp_dists = Parallel(n_jobs=16)(delayed(f)(s) for s in np.array_split(texton_hists, 16))\n",
      "    sp_sp_dists = np.vstack(sp_dists)\n",
      "    \n",
      "    dm.save_pipeline_result(sp_sp_dists, 'texHistPairwiseDist', 'npy')\n",
      "\n",
      "center_dists = pdist(sp_properties[:, :2])\n",
      "center_dist_matrix = squareform(center_dists)\n",
      "\n",
      "# neighbor_dists = np.empty((n_superpixels, k))\n",
      "# for i in range(n_superpixels):\n",
      "# #     neighbor_dists[i] = np.squeeze(cdist(texton_hists[i][np.newaxis,:], texton_hists[k_neighbors[i]], chi2))\n",
      "#     neighbor_dists[i] = np.squeeze(cdist(texton_hists[i][np.newaxis,:], texton_hists[k_neighbors[i]], js))\n",
      "\n",
      "\n",
      "neighbors_dict = dict(zip(np.arange(n_superpixels), [list(i) for i in neighbors]))\n",
      "neighbor_graph = from_dict_of_lists(neighbors_dict)"
     ],
     "language": "python",
     "metadata": {},
     "outputs": []
    },
    {
     "cell_type": "code",
     "collapsed": false,
     "input": [
      "def compute_cluster_score(cluster, texton_hists=texton_hists, neighbors=neighbors, output=False):\n",
      "    \n",
      "    cluster_list = list(cluster)\n",
      "    hists_cluster = texton_hists[cluster_list]\n",
      "\n",
      "    cluster_avg = hists_cluster.mean(axis=0)\n",
      "    \n",
      "    surrounds = set([i for i in set.union(*[neighbors[c] for c in cluster]) if i not in cluster and i != -1])\n",
      "    \n",
      "    surrounds_list = list(surrounds)\n",
      "    \n",
      "    hists_surround = texton_hists[surrounds_list]\n",
      "    \n",
      "    avg_dists = np.atleast_1d(np.squeeze(cdist(np.atleast_2d(cluster_avg), hists_cluster, js)))\n",
      "            \n",
      "    surround_dists = np.empty((len(cluster_list), ))\n",
      "    closest_neighboring_surround_sps = np.empty((len(cluster_list), ), dtype=np.int)\n",
      "    for ind, i in enumerate(cluster_list):\n",
      "        neighboring_surround_sps = list(neighbors[i] & surrounds)\n",
      "        if len(neighboring_surround_sps) > 0:\n",
      "            ds = sp_sp_dists[i, neighboring_surround_sps]\n",
      "            surround_dists[ind] = np.min(ds)\n",
      "            closest_neighboring_surround_sps[ind] = neighboring_surround_sps[np.argmin(ds)]\n",
      "        else:\n",
      "            surround_dists[ind] = np.nan\n",
      "            closest_neighboring_surround_sps[ind] = -1\n",
      "        \n",
      "#     surround_dists = np.array([sp_sp_dists[i, cluster_list] for i in surrounds_list])\n",
      "    \n",
      "    avg_dist = np.mean(avg_dists) / np.sqrt(len(cluster_list))\n",
      "#     avg_dist = np.max(avg_dists)\n",
      "#     surround_dist = np.min(np.atleast_2d(surround_dists), axis=0).mean()\n",
      "#     surround_dist = np.min(np.atleast_2d(surround_dists), axis=0).min()\n",
      "    surround_dist = np.nanmin(surround_dists)\n",
      "#     surround_dist = np.nanmean(surround_dists)\n",
      "\n",
      "    score = surround_dist\n",
      "\n",
      "#     score = (1 + 10 * np.log(len(cluster_list))) * (surround_dist - avg_dist)\n",
      "#     if len(cluster_list) == 1:\n",
      "#         score = 0\n",
      "#     score = (1 + np.log(len(cluster_list) + 1)) * (surround_dist - .01 * avg_dist)\n",
      "#     score = (1 + .01 * len(cluster_list)) * (surround_dist - .01 * avg_dist)\n",
      "#     score = (1 + .03 * np.log(10 * len(cluster_list) + 1)) * (surround_dist - .15 * avg_dist)\n",
      "#     score = (1 + .01 * np.log(10 * len(cluster_list) + 1)) * (surround_dist - .8 * avg_dist)\n",
      "\n",
      "    if output:\n",
      "        print 'cluster', cluster_list\n",
      "        #     print 'surrounds_list', surrounds_list\n",
      "        #     argmins = np.array(surrounds_list)[np.argmin(np.atleast_2d(surround_dists), axis=0)]\n",
      "        mins = np.min(np.atleast_2d(surround_dists), axis=0)\n",
      "        adv = mins - avg_dists\n",
      "        print 'surrounds'\n",
      "        for t in zip(cluster_list, closest_neighboring_surround_sps, mins, avg_dists, adv):\n",
      "            print t\n",
      "\n",
      "        print 'sig:', score, ', surround:', surround_dist, ', model:', avg_dist\n",
      "        print \n",
      "    \n",
      "    return score, surround_dist, avg_dist"
     ],
     "language": "python",
     "metadata": {},
     "outputs": []
    },
    {
     "cell_type": "code",
     "collapsed": false,
     "input": [
      "def grow_cluster(seed, output=False):\n",
      "\n",
      "#     seed = 3767\n",
      "    # null_seed = 3066\n",
      "\n",
      "    all_distances = np.atleast_1d(np.squeeze(cdist(texton_hists[seed][np.newaxis, :], texton_hists, js)))\n",
      "    # null_distances = np.atleast_1d(np.squeeze(cdist(texton_hists[null_seed][np.newaxis, :], texton_hists, js)))\n",
      "\n",
      "    ss = []\n",
      "    cc = []\n",
      "\n",
      "    # for i in np.arange(.01,null_distances[seed],.01):\n",
      "\n",
      "    for i in np.arange(.01, 0.3, .005):\n",
      "\n",
      "    #     similar_nodes = np.where(all_distances < .1)[0]\n",
      "        similar_nodes = np.where(all_distances < i)[0]\n",
      "    #     similar_nodes = np.where(all_distances < null_distances - i)[0]\n",
      "        similar_graph = neighbor_graph.subgraph(similar_nodes)\n",
      "\n",
      "        curr_cluster = node_connected_component(similar_graph, seed)\n",
      "\n",
      "        if len(curr_cluster) == 1:\n",
      "            continue\n",
      "        \n",
      "        if len(curr_cluster) > int(n_superpixels * 0.05):\n",
      "            break\n",
      "            \n",
      "        cc.append(curr_cluster)\n",
      "\n",
      "        s, _, _ = compute_cluster_score(curr_cluster)\n",
      "        ss.append(s)\n",
      "        \n",
      "#         plt.imshow(visualize_cluster(curr_cluster))\n",
      "#         plt.title(str(s))\n",
      "#         plt.show()\n",
      "        \n",
      "        if output:\n",
      "            print i, curr_cluster, s\n",
      "            \n",
      "    p = np.where(ss == np.max(ss))[0][-1]\n",
      "    curr_cluster = cc[p]\n",
      "    score = np.max(ss)\n",
      "    \n",
      "    return curr_cluster, score, ss"
     ],
     "language": "python",
     "metadata": {},
     "outputs": []
    },
    {
     "cell_type": "code",
     "collapsed": false,
     "input": [
      "cc, s, ss = grow_cluster(2853, output=False)"
     ],
     "language": "python",
     "metadata": {},
     "outputs": []
    },
    {
     "cell_type": "code",
     "collapsed": false,
     "input": [
      "x = np.linspace(0,1,100)\n",
      "plt.plot(x, np.exp(-20*x));"
     ],
     "language": "python",
     "metadata": {},
     "outputs": []
    },
    {
     "cell_type": "code",
     "collapsed": false,
     "input": [
      "sp_sp_weights = np.exp(-20*sp_sp_dists)"
     ],
     "language": "python",
     "metadata": {},
     "outputs": []
    },
    {
     "cell_type": "code",
     "collapsed": false,
     "input": [
      "# neighbor_graph = networkx.from_dict_of_lists(neighbors_dict)\n",
      "\n",
      "# for n, nbrs in neighbor_graph.edge.iteritems():\n",
      "#     if n == -1 or len(nbrs) == 0: continue\n",
      "#     for nbr, eattrs in nbrs.iteritems():\n",
      "#         if nbr != -1:\n",
      "#             eattrs['weight'] = sp_sp_weights[n, nbr]"
     ],
     "language": "python",
     "metadata": {},
     "outputs": []
    },
    {
     "cell_type": "code",
     "collapsed": false,
     "input": [
      "# q = np.where(A[0])[0]\n",
      "# print nodes[q]"
     ],
     "language": "python",
     "metadata": {},
     "outputs": []
    },
    {
     "cell_type": "code",
     "collapsed": false,
     "input": [
      "# A[0, q]"
     ],
     "language": "python",
     "metadata": {},
     "outputs": []
    },
    {
     "cell_type": "code",
     "collapsed": false,
     "input": [
      "k = 500\n",
      "k_neighbors = np.argsort(center_dist_matrix, axis=1)[:, 1:k+1]\n",
      "\n",
      "kn = 50\n",
      "kn_neighbors = np.argsort(center_dist_matrix, axis=1)[:, 1:kn+1]"
     ],
     "language": "python",
     "metadata": {},
     "outputs": []
    },
    {
     "cell_type": "code",
     "collapsed": false,
     "input": [
      "seed = 1920\n",
      "nodes = np.r_[seed, k_neighbors[seed]]"
     ],
     "language": "python",
     "metadata": {},
     "outputs": [],
     "prompt_number": 74
    },
    {
     "cell_type": "code",
     "collapsed": false,
     "input": [
      "u, v = np.linalg.eig(A)"
     ],
     "language": "python",
     "metadata": {},
     "outputs": []
    },
    {
     "cell_type": "code",
     "collapsed": false,
     "input": [
      "full_graph = Graph()\n",
      "\n",
      "for i in nodes:\n",
      "    for j in nodes:\n",
      "        if j in kn_neighbors[i]:\n",
      "            full_graph.add_edge(i,j,{'weight': sp_sp_weights[i,j]})\n",
      "\n",
      "# A = networkx.adjacency_matrix(neighbor_graph.subgraph(nodes), nodelist=nodes).toarray()\n",
      "\n",
      "A = adjacency_matrix(full_graph, nodelist=nodes).toarray()\n",
      "A = A/A.sum(axis=1)[:, np.newaxis]\n",
      "\n",
      "plt.matshow(A)\n",
      "plt.colorbar()\n",
      "\n",
      "prev_v = np.zeros((k+1,))\n",
      "prev_v[0] = 1.\n",
      "for i in range(100):\n",
      "    v = np.dot(A.T, prev_v)\n",
      "    v = v / np.linalg.norm(v)\n",
      "    if np.linalg.norm(v - prev_v) < 1e-6:\n",
      "        break\n",
      "    prev_v = v\n",
      "\n",
      "prob = np.zeros((n_superpixels,))\n",
      "prob[nodes] = v\n",
      "prob_vis = prob[segmentation]\n",
      "\n",
      "plt.matshow(prob_vis, cmap=plt.cm.gray)\n",
      "plt.colorbar()\n",
      "plt.show()\n",
      "\n",
      "plt.hist(prob[nodes], bins=100);\n",
      "plt.title('probability histogram');"
     ],
     "language": "python",
     "metadata": {},
     "outputs": [
      {
       "metadata": {},
       "output_type": "display_data",
       "png": "[encoded data removed]",
       "text": [
        "<matplotlib.figure.Figure at 0x958abd0>"
       ]
      },
      {
       "metadata": {},
       "output_type": "display_data",
       "png": "[encoded data removed]",
       "text": [
        "<matplotlib.figure.Figure at 0x919c250>"
       ]
      },
      {
       "metadata": {},
       "output_type": "display_data",
       "png": "[encoded data removed]",
       "text": [
        "<matplotlib.figure.Figure at 0x9198b90>"
       ]
      }
     ],
     "prompt_number": 75
    },
    {
     "cell_type": "code",
     "collapsed": false,
     "input": [
      "W = np.tile(v, (len(v),1))\n",
      "Z = np.linalg.inv(np.eye(len(v)) - A + W)"
     ],
     "language": "python",
     "metadata": {},
     "outputs": [],
     "prompt_number": 46
    },
    {
     "cell_type": "code",
     "collapsed": false,
     "input": [
      "E = np.zeros((len(v), len(v)))\n",
      "E[np.diag_indices(len(v))] = 1./v\n",
      "E = np.diag(E)*np.diag(Z)[np.newaxis, :] - np.diag(E)[np.newaxis, :]*Z"
     ],
     "language": "python",
     "metadata": {},
     "outputs": [],
     "prompt_number": 58
    },
    {
     "cell_type": "code",
     "collapsed": false,
     "input": [
      "plt.hist(hitting_time[nodes], bins=100);\n",
      "plt.title('hitting time histogram');"
     ],
     "language": "python",
     "metadata": {},
     "outputs": [
      {
       "metadata": {},
       "output_type": "display_data",
       "png": "[encoded data removed]",
       "text": [
        "<matplotlib.figure.Figure at 0x88cbbd0>"
       ]
      }
     ],
     "prompt_number": 64
    },
    {
     "cell_type": "code",
     "collapsed": false,
     "input": [
      "hitting_time[nodes].argsort()"
     ],
     "language": "python",
     "metadata": {},
     "outputs": [
      {
       "metadata": {},
       "output_type": "pyout",
       "prompt_number": 67,
       "text": [
        "array([  0,  70,  11, 126, 155,  91,  63, 100, 125,  76, 169,  97,  61,\n",
        "       146, 186, 177, 105,  92, 218,  72, 148,  81, 108, 226, 224, 223,\n",
        "         2, 137, 195, 192, 149, 231, 197, 130, 165,  22, 122, 202,  82,\n",
        "       242, 234, 101, 158,  69, 213, 188, 247, 243, 298, 171, 104, 124,\n",
        "        75,  89,  35, 281, 270, 206, 150,  68, 151, 219, 199, 157,  77,\n",
        "       135, 200, 181,   8, 185, 284,  54,  51, 230, 306, 244, 111,  90,\n",
        "        19,  93,  64, 132, 121, 133,  30, 239, 109,  58, 212, 161, 183,\n",
        "       201, 262, 159, 196,  38, 118, 172,  94, 123, 182,  99, 313,  36,\n",
        "       285, 280,  23, 112, 128, 114,   1, 257, 267,  66, 170, 217, 102,\n",
        "        27, 252, 258,  25, 139,  73, 266, 256, 179, 103, 153, 322, 156,\n",
        "       140, 147, 345, 203, 287, 335, 299, 325, 277, 318, 323, 397, 293,\n",
        "        62,  98,  60, 141, 341, 254, 110, 300, 205, 220, 250,  55,   3,\n",
        "       387, 302, 115, 269, 215, 364, 274, 329, 275, 366, 376, 246, 237,\n",
        "       107,  40, 142, 216, 310, 253, 333, 395, 371, 211,  46, 166,  10,\n",
        "        39, 359,  78, 303, 411, 174, 351, 390, 365, 383, 191,  80,  67,\n",
        "       431, 117, 405, 321,  71, 307, 352,  21,  20, 311, 235, 279, 276,\n",
        "        41, 412, 120,  47, 227, 361, 316, 240,  28, 346,  26, 229,  44,\n",
        "       382,  49, 168, 417, 116, 265, 435, 334,  17,  56, 248, 380,  33,\n",
        "       259, 327, 180, 400, 175, 162, 350, 355,  31, 106, 343, 232,  84,\n",
        "       326, 401, 176,  85,  74, 209,  52, 288, 286, 304, 338, 404, 290,\n",
        "       233, 360, 294, 283, 477, 245, 249, 394,  12, 421, 348, 301, 198,\n",
        "       251,  14, 342, 386,   5, 452,   6, 378, 459, 460, 189, 426, 255,\n",
        "       427, 113, 458, 414, 208, 377,  50, 434, 331, 392, 416,  83, 317,\n",
        "        37, 349, 379, 367,  24, 328, 214,  45,  15, 410, 497, 475, 319,\n",
        "       193, 187, 308, 375, 494,  34, 222, 324, 391, 368, 154, 357,  87,\n",
        "         4, 455,  53, 388, 312,  65, 396,   7, 347,   9, 173, 119, 163,\n",
        "       425, 332, 330, 433, 406, 474, 468, 453, 402, 236, 487, 446, 437,\n",
        "       465, 164, 152, 184, 134, 273, 337, 289, 403, 483, 291,  96, 443,\n",
        "       423,  16, 384, 480, 207, 136, 381, 271, 389, 145,  95, 442,  13,\n",
        "       268, 462, 420, 297, 194, 228, 473, 430, 418, 315, 320, 370, 415,\n",
        "       479, 295, 454, 374, 160, 373, 470, 264, 354, 409,  48, 495,  88,\n",
        "       339, 204, 451, 413, 358, 438, 498, 363, 496, 127, 353,  59, 309,\n",
        "       488, 305,  79, 449, 399, 144, 336,  29, 491, 466, 489, 450, 398,\n",
        "       131,  32, 263, 486, 296, 344, 167, 428, 221, 444, 314, 340, 467,\n",
        "       422, 372, 225,  43, 429, 472, 439, 362,  18, 278, 138,  86, 456,\n",
        "       478, 369, 178, 441, 463, 241,  57, 261, 408, 424, 282, 471, 461,\n",
        "       457, 485, 448, 129, 238, 482, 260, 492,  42, 447, 407, 440, 292,\n",
        "       143, 393, 385, 272, 356, 464, 490, 493, 484, 432, 210, 476, 499,\n",
        "       419, 190, 500, 469, 436, 445, 481])"
       ]
      }
     ],
     "prompt_number": 67
    },
    {
     "cell_type": "code",
     "collapsed": false,
     "input": [
      "hitting_time = np.zeros((n_superpixels, ))\n",
      "hitting_time[nodes] = E[0]\n",
      "vis = hitting_time[segmentation]\n",
      "plt.imshow(vis, cmap=plt.cm.gray)"
     ],
     "language": "python",
     "metadata": {},
     "outputs": [
      {
       "metadata": {},
       "output_type": "pyout",
       "prompt_number": 63,
       "text": [
        "<matplotlib.image.AxesImage at 0x8a627d0>"
       ]
      },
      {
       "metadata": {},
       "output_type": "display_data",
       "png": "[encoded data removed]",
       "text": [
        "<matplotlib.figure.Figure at 0x5732d10>"
       ]
      }
     ],
     "prompt_number": 63
    },
    {
     "cell_type": "code",
     "collapsed": false,
     "input": [
      "from skimage.util import img_as_float\n",
      "\n",
      "deltas = np.arange(0, .002, 1e-4)\n",
      "\n",
      "# deltas = [1e-4]\n",
      "\n",
      "for delta in deltas:\n",
      "\n",
      "    thresh = prob[seed] - delta\n",
      "\n",
      "    cluster = np.where(prob >= thresh)[0]\n",
      "    cluster = node_connected_component(neighbor_graph.subgraph(cluster), seed)\n",
      "    \n",
      "    q = np.zeros((n_superpixels, ))\n",
      "    q[cluster] = prob[cluster]\n",
      "    prob_vis_t = q[segmentation]\n",
      "    \n",
      "#     prob_vis_t = prob_vis.copy()\n",
      "#     prob_vis_t[prob_vis < thresh] = 0\n",
      "\n",
      "    prob_vis_n = (prob_vis_t-prob_vis_t.min())/(prob_vis_t.max()-prob_vis_t.min())\n",
      "    prob_vis_color = plt.cm.gray(prob_vis_n)\n",
      "    vis = alpha_blending(prob_vis_color[...,:3], img_as_float(segmentation_vis),\n",
      "                         .7*np.ones_like(segmentation), 1.*np.ones_like(segmentation))\n",
      "\n",
      "    plt.figure(figsize=(20,20))\n",
      "    plt.title('%f'%thresh)\n",
      "    plt.imshow(vis)\n",
      "    plt.show()\n",
      "\n",
      "    # display(vis)"
     ],
     "language": "python",
     "metadata": {},
     "outputs": []
    },
    {
     "cell_type": "code",
     "collapsed": false,
     "input": [
      "# cc = [2944, 2688, 2435, 2442, 2957, 2958, 2703, 2705, 2707, 2708, 2709, 2458, 2715, 2714, 2718, 2851, 2852, 2853, 2986, 2859, 2860, 2717, 2803, 2869, 2873, 2874, 2878, 2879, 2884, 2629, 3014, 2763, 2764, 2509, 2643, 2779, 2780, 2781, 2528, 2919, 2792, 2537, 2794, 2795, 2797, 2970, 2543, 2417, 2802, 2387, 2622, 2793, 2808, 2425, 2938, 2623, 2538, 2558]\n",
      "display(visualize_cluster(cc))"
     ],
     "language": "python",
     "metadata": {},
     "outputs": []
    },
    {
     "cell_type": "code",
     "collapsed": false,
     "input": [
      "compute_cluster_score(cc, output=True)"
     ],
     "language": "python",
     "metadata": {},
     "outputs": []
    },
    {
     "cell_type": "code",
     "collapsed": false,
     "input": [
      "try:\n",
      "    clusters = dm.load_pipeline_result('clusters', 'pkl')\n",
      "    \n",
      "except Exception as e:\n",
      "\n",
      "    import time\n",
      "    b = time.time()\n",
      "\n",
      "    clusters = Parallel(n_jobs=16)(delayed(grow_cluster)(s) for s in range(n_superpixels))\n",
      "\n",
      "    print time.time() - b\n",
      "\n",
      "    dm.save_pipeline_result(clusters, 'clusters', 'pkl')"
     ],
     "language": "python",
     "metadata": {},
     "outputs": []
    },
    {
     "cell_type": "code",
     "collapsed": false,
     "input": [
      "cluster_sps, cluster_score_sps = zip(*clusters)\n",
      "cluster_size_sps = np.array([len(c) for c in cluster_sps])\n",
      "cluster_score_sps = np.array(cluster_score_sps)\n",
      "# cluster_bounding_boxes = Parallel(n_jobs=16)(delayed(compute_bounding_box)(c) for c in cluster_sps)"
     ],
     "language": "python",
     "metadata": {},
     "outputs": []
    },
    {
     "cell_type": "code",
     "collapsed": false,
     "input": [
      "sp_votes = np.zeros((n_superpixels,))\n",
      "surrounds_sps = []\n",
      "for j, cluster in enumerate(cluster_sps):\n",
      "    surrounds = set([i for i in set.union(*[neighbors[c] for c in cluster]) if i not in cluster and i != -1])        \n",
      "    frontiers = set.union(*[neighbors[c] for c in surrounds]) & set(cluster)\n",
      "    surrounds_sps.append(surrounds | frontiers)\n",
      "#     print cluster, surrounds, frontiers\n",
      "#     weight = 1./len(cluster)\n",
      "    weight = 1\n",
      "    for sp in surrounds:\n",
      "        sp_votes[sp] += weight"
     ],
     "language": "python",
     "metadata": {},
     "outputs": []
    },
    {
     "cell_type": "code",
     "collapsed": false,
     "input": [
      "plt.hist(sp_votes);"
     ],
     "language": "python",
     "metadata": {},
     "outputs": []
    },
    {
     "cell_type": "code",
     "collapsed": false,
     "input": [
      "from itertools import chain\n",
      "sp_votes = np.bincount(list(chain(*surrounds_sps)))"
     ],
     "language": "python",
     "metadata": {},
     "outputs": []
    },
    {
     "cell_type": "code",
     "collapsed": false,
     "input": [
      "from mpl_toolkits.axes_grid1 import make_axes_locatable\n",
      "\n",
      "votemap = sp_votes[segmentation]\n",
      "\n",
      "plt.figure(figsize=(20,8))\n",
      "\n",
      "plt.subplot(121)\n",
      "plt.imshow(dm.image, aspect='equal', cmap=plt.cm.gray)\n",
      "plt.axis('off')\n",
      "\n",
      "ax = plt.subplot(122)\n",
      "\n",
      "plt.axis('off')\n",
      "votemap_im = ax.imshow(votemap, aspect='equal')\n",
      "divider = make_axes_locatable(ax)\n",
      "cax = divider.append_axes(\"right\", size=\"5%\", pad=0.05)\n",
      "plt.colorbar(votemap_im, cax=cax);\n",
      "\n",
      "plt.tight_layout()"
     ],
     "language": "python",
     "metadata": {},
     "outputs": []
    },
    {
     "cell_type": "code",
     "collapsed": false,
     "input": [
      "highvote_sps = np.where(sp_votes>20)[0]\n",
      "print len(highvote_sps)\n",
      "\n",
      "vis = visualize_cluster(highvote_sps)\n",
      "display(vis)"
     ],
     "language": "python",
     "metadata": {},
     "outputs": []
    },
    {
     "cell_type": "code",
     "collapsed": false,
     "input": [
      "highlighted_sps = np.where((cluster_size_sps < 200) & (cluster_size_sps > 4))[0]\n",
      "n_highlights = len(highlighted_sps)\n",
      "print n_highlights\n",
      "highlighted_clusters = [cluster_sps[s] for s in highlighted_sps]\n",
      "highlighted_scores = [cluster_score_sps[s] for s in highlighted_sps]"
     ],
     "language": "python",
     "metadata": {},
     "outputs": []
    },
    {
     "cell_type": "code",
     "collapsed": false,
     "input": [
      "from scipy.spatial.distance import pdist, squareform\n",
      "from scipy.cluster.hierarchy import average, fcluster, leaders, complete, single, dendrogram\n",
      "\n",
      "def group_clusters(clusters, dist_thresh = 0.1):\n",
      "\n",
      "    n_clusters = len(clusters)\n",
      "    \n",
      "    overlap_matrix = np.zeros((n_clusters, n_clusters))\n",
      "    \n",
      "    for i in range(n_clusters):\n",
      "        for j in range(n_clusters):\n",
      "            if i == j:\n",
      "                overlap_matrix[i, j] = 1\n",
      "            else:\n",
      "                c1 = set(clusters[i])\n",
      "                c2 = set(clusters[j])\n",
      "                overlap_matrix[i, j] = float(len(c1 & c2))/min(len(c1),len(c2))\n",
      "\n",
      "    distance_matrix = 1 - overlap_matrix\n",
      "    \n",
      "#     lk = average(squareform(distance_matrix))\n",
      "    lk = single(squareform(distance_matrix))\n",
      "\n",
      "    # T = fcluster(lk, 1.15, criterion='inconsistent')\n",
      "    T = fcluster(lk, dist_thresh, criterion='distance')\n",
      "\n",
      "    n_groups = len(set(T))\n",
      "    print n_groups, 'groups'\n",
      "    \n",
      "    groups = [None] * n_groups\n",
      "\n",
      "    for group_id in range(n_groups):\n",
      "        groups[group_id] = where(T == group_id)[0]\n",
      "    \n",
      "        \n",
      "    return groups"
     ],
     "language": "python",
     "metadata": {},
     "outputs": []
    },
    {
     "cell_type": "code",
     "collapsed": false,
     "input": [
      "highlighted_groups = group_clusters(highlighted_clusters)"
     ],
     "language": "python",
     "metadata": {},
     "outputs": []
    },
    {
     "cell_type": "code",
     "collapsed": false,
     "input": [
      "sp_groups = [ [highlighted_sps[i] for i in group] for group in highlighted_groups if len(group) > 1]\n",
      "union_clusters = [cluster_sps[g[np.argmax(cluster_score_sps[g])]] for g in sp_groups]"
     ],
     "language": "python",
     "metadata": {},
     "outputs": []
    },
    {
     "cell_type": "code",
     "collapsed": false,
     "input": [
      "union_cluster_groups = group_clusters(union_clusters, dist_thresh=0.5)\n",
      "union_cluster_groups = [u for u in union_cluster_groups if len(u) > 0]"
     ],
     "language": "python",
     "metadata": {},
     "outputs": []
    },
    {
     "cell_type": "code",
     "collapsed": false,
     "input": [
      "# union_cluster_union_clusters = [set.union(*[set(union_clusters[i]) for i in g]) for g in union_cluster_groups]\n",
      "# union_cluster_union_clusters = [set.intersection(*[set(union_clusters[i]) for i in g]) for g in union_cluster_groups]\n",
      "union_cluster_union_clusters = [union_clusters[g[np.argmax([compute_cluster_score(union_clusters[i])[0] for i in g])]] \n",
      "                                for g in union_cluster_groups]"
     ],
     "language": "python",
     "metadata": {},
     "outputs": []
    },
    {
     "cell_type": "code",
     "collapsed": false,
     "input": [
      "filtered_group_scores = np.array([compute_cluster_score(g)[0] for g in union_clusters])\n",
      "# filtered_group_scores = np.array([compute_cluster_score(g)[0] for g in union_cluter_union_clusters])\n",
      "# filtered_group_scores = [cluster_score_sps[list(g)].max() for g in filtered_groups]\n",
      "\n",
      "arg_score_sorted = np.argsort(filtered_group_scores)[::-1]\n",
      "\n",
      "union_cluster_union_clusters_sorted = [union_clusters[i] for i in arg_score_sorted]\n",
      "\n",
      "print len(union_cluster_union_clusters_sorted)"
     ],
     "language": "python",
     "metadata": {},
     "outputs": []
    },
    {
     "cell_type": "code",
     "collapsed": false,
     "input": [
      "dm.save_pipeline_result(union_cluster_union_clusters_sorted, 'groups', 'pkl')"
     ],
     "language": "python",
     "metadata": {},
     "outputs": []
    },
    {
     "cell_type": "code",
     "collapsed": false,
     "input": [
      "# for i, (g, s) in enumerate(zip(union_cluster_union_clusters_sorted, filtered_group_scores[arg_score_sorted])):\n",
      "#     print i, g, s"
     ],
     "language": "python",
     "metadata": {},
     "outputs": []
    },
    {
     "cell_type": "code",
     "collapsed": false,
     "input": [
      "def display(vis, filename='tmp.jpg'):\n",
      "    \n",
      "    if vis.dtype != np.uint8:\n",
      "        imsave(filename, img_as_ubyte(vis))\n",
      "    else:\n",
      "        imsave(filename, vis)\n",
      "            \n",
      "    from IPython.display import FileLink\n",
      "    return FileLink(filename)\n"
     ],
     "language": "python",
     "metadata": {},
     "outputs": []
    },
    {
     "cell_type": "code",
     "collapsed": false,
     "input": [
      "vis = visualize_multiple_clusters(union_cluster_union_clusters_sorted[:10])\n",
      "display(vis)\n",
      "# dm.save_pipeline_result(vis, 'groupsTop10Vis', 'jpg', is_rgb=True)"
     ],
     "language": "python",
     "metadata": {},
     "outputs": []
    },
    {
     "cell_type": "code",
     "collapsed": false,
     "input": [
      "vis = visualize_multiple_clusters(union_cluster_union_clusters_sorted[10:20])\n",
      "display(vis)\n",
      "# dm.save_pipeline_result(vis, 'groupsTop10to20Vis', 'jpg', is_rgb=True)"
     ],
     "language": "python",
     "metadata": {},
     "outputs": []
    },
    {
     "cell_type": "code",
     "collapsed": false,
     "input": [
      "vis = visualize_multiple_clusters(union_cluster_union_clusters_sorted[20:30])\n",
      "display(vis)\n",
      "# dm.save_pipeline_result(vis, 'groupsTop20to30Vis', 'jpg', is_rgb=True)"
     ],
     "language": "python",
     "metadata": {},
     "outputs": []
    }
   ],
   "metadata": {}
  }
 ]
}