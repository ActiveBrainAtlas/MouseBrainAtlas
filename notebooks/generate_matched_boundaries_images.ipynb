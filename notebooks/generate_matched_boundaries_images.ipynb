{
 "metadata": {
  "name": "",
  "signature": "sha256:5e25c9a31c1e00a5223261e1db475b2fa5006686de23cf5213fdddca23985c07"
 },
 "nbformat": 3,
 "nbformat_minor": 0,
 "worksheets": [
  {
   "cells": [
    {
     "cell_type": "code",
     "collapsed": false,
     "input": [
      "import sys\n",
      "sys.path.append('/home/yuncong/Brain/pipeline_scripts')\n",
      "from utilities2014 import *\n",
      "\n",
      "%run grow_region_boundary_based_common.ipynb"
     ],
     "language": "python",
     "metadata": {},
     "outputs": [],
     "prompt_number": 1
    },
    {
     "cell_type": "code",
     "collapsed": false,
     "input": [
      "from skimage.util import pad"
     ],
     "language": "python",
     "metadata": {},
     "outputs": [],
     "prompt_number": 2
    },
    {
     "cell_type": "code",
     "collapsed": false,
     "input": [
      "for sec_ind in range(0, 29):\n",
      "\n",
      "    dm.set_slice(sec_ind)\n",
      "    vis_matched_boundaries_next = dm.load_pipeline_result('matchedBoundariesWithNext', 'jpg')\n",
      "    \n",
      "    dm.set_slice(sec_ind+1)\n",
      "    vis_matched_boundaries_prev = dm.load_pipeline_result('matchedBoundariesWithPrev', 'jpg')\n",
      "    \n",
      "    # Place two images horizontally side-by-side\n",
      "    \n",
      "    h1, w1 = vis_matched_boundaries_next.shape[:2]\n",
      "    h2, w2 = vis_matched_boundaries_prev.shape[:2]\n",
      "    \n",
      "    if w1 < w2:\n",
      "        left_margin = int((w2 - w1)/2)\n",
      "        right_margin = w2 - w1 - left_margin\n",
      "        vis_matched_boundaries_next = pad(vis_matched_boundaries_next, \n",
      "                                          ((0,0),(left_margin,right_margin),(0,0)), \n",
      "                                          'constant', constant_values=255)\n",
      "    else:\n",
      "        left_margin = int((w1 - w2)/2)\n",
      "        right_margin = w1 - w2 - left_margin\n",
      "        vis_matched_boundaries_prev = pad(vis_matched_boundaries_prev, \n",
      "                                          ((0,0),(left_margin,right_margin),(0,0)), \n",
      "                                          'constant', constant_values=255)\n",
      "        \n",
      "    vis = np.r_[vis_matched_boundaries_next, vis_matched_boundaries_prev]\n",
      "    \n",
      "    # Place two images vertically\n",
      "\n",
      "#     h1, w1 = vis_matched_boundaries_next.shape[:2]\n",
      "#     h2, w2 = vis_matched_boundaries_prev.shape[:2]\n",
      "    \n",
      "#     if h1 < h2:\n",
      "#         top_margin = int((h2 - h1)/2)\n",
      "#         bottom_margin = h2 - h1 - top_margin\n",
      "#         vis_matched_boundaries_next = pad(vis_matched_boundaries_next, \n",
      "#                                           ((top_margin,bottom_margin),(0,0),(0,0)), \n",
      "#                                           'constant', constant_values=255)\n",
      "#     else:\n",
      "#         top_margin = int((h1 - h2)/2)\n",
      "#         bottom_margin = h1 - h2 - top_margin\n",
      "#         vis_matched_boundaries_prev = pad(vis_matched_boundaries_prev, \n",
      "#                                           ((top_margin,bottom_margin),(0,0),(0,0)), \n",
      "#                                           'constant', constant_values=255)\n",
      "            \n",
      "#     vis = np.hstack([vis_matched_boundaries_next, vis_matched_boundaries_prev])\n",
      "    \n",
      "    \n",
      "    dm.set_slice(sec_ind)\n",
      "    dm.save_pipeline_result(vis, 'matchedBoundariesWithNextSideBySide', 'jpg')\n",
      "    \n",
      "    dm.set_slice(sec_ind+1)\n",
      "    dm.save_pipeline_result(vis, 'matchedBoundariesWithPrevSideBySide', 'jpg')\n",
      "    "
     ],
     "language": "python",
     "metadata": {},
     "outputs": [
      {
       "output_type": "stream",
       "stream": "stdout",
       "text": [
        "loaded /home/yuncong/project/DavidData2014results/RS141/0000/RS141_x5_0000_gabor-blueNisslWide-segm-blueNisslRegular-vq-blueNissl_matchedBoundariesWithNext.jpg\n",
        "loaded /home/yuncong/project/DavidData2014results/RS141/0001/RS141_x5_0001_gabor-blueNisslWide-segm-blueNisslRegular-vq-blueNissl_matchedBoundariesWithPrev.jpg"
       ]
      },
      {
       "output_type": "stream",
       "stream": "stdout",
       "text": [
        "\n",
        "saved /home/yuncong/project/DavidData2014results/RS141/0000/RS141_x5_0000_gabor-blueNisslWide-segm-blueNisslRegular-vq-blueNissl_matchedBoundariesWithNextSideBySide.jpg"
       ]
      },
      {
       "output_type": "stream",
       "stream": "stdout",
       "text": [
        "\n",
        "saved /home/yuncong/project/DavidData2014results/RS141/0001/RS141_x5_0001_gabor-blueNisslWide-segm-blueNisslRegular-vq-blueNissl_matchedBoundariesWithPrevSideBySide.jpg"
       ]
      },
      {
       "output_type": "stream",
       "stream": "stdout",
       "text": [
        "\n",
        "loaded /home/yuncong/project/DavidData2014results/RS141/0001/RS141_x5_0001_gabor-blueNisslWide-segm-blueNisslRegular-vq-blueNissl_matchedBoundariesWithNext.jpg"
       ]
      },
      {
       "output_type": "stream",
       "stream": "stdout",
       "text": [
        "\n",
        "loaded /home/yuncong/project/DavidData2014results/RS141/0002/RS141_x5_0002_gabor-blueNisslWide-segm-blueNisslRegular-vq-blueNissl_matchedBoundariesWithPrev.jpg"
       ]
      },
      {
       "output_type": "stream",
       "stream": "stdout",
       "text": [
        "\n",
        "saved /home/yuncong/project/DavidData2014results/RS141/0001/RS141_x5_0001_gabor-blueNisslWide-segm-blueNisslRegular-vq-blueNissl_matchedBoundariesWithNextSideBySide.jpg"
       ]
      },
      {
       "output_type": "stream",
       "stream": "stdout",
       "text": [
        "\n",
        "saved /home/yuncong/project/DavidData2014results/RS141/0002/RS141_x5_0002_gabor-blueNisslWide-segm-blueNisslRegular-vq-blueNissl_matchedBoundariesWithPrevSideBySide.jpg"
       ]
      },
      {
       "output_type": "stream",
       "stream": "stdout",
       "text": [
        "\n",
        "loaded /home/yuncong/project/DavidData2014results/RS141/0002/RS141_x5_0002_gabor-blueNisslWide-segm-blueNisslRegular-vq-blueNissl_matchedBoundariesWithNext.jpg"
       ]
      },
      {
       "output_type": "stream",
       "stream": "stdout",
       "text": [
        "\n",
        "loaded /home/yuncong/project/DavidData2014results/RS141/0003/RS141_x5_0003_gabor-blueNisslWide-segm-blueNisslRegular-vq-blueNissl_matchedBoundariesWithPrev.jpg"
       ]
      },
      {
       "output_type": "stream",
       "stream": "stdout",
       "text": [
        "\n",
        "saved /home/yuncong/project/DavidData2014results/RS141/0002/RS141_x5_0002_gabor-blueNisslWide-segm-blueNisslRegular-vq-blueNissl_matchedBoundariesWithNextSideBySide.jpg"
       ]
      },
      {
       "output_type": "stream",
       "stream": "stdout",
       "text": [
        "\n",
        "saved /home/yuncong/project/DavidData2014results/RS141/0003/RS141_x5_0003_gabor-blueNisslWide-segm-blueNisslRegular-vq-blueNissl_matchedBoundariesWithPrevSideBySide.jpg"
       ]
      },
      {
       "output_type": "stream",
       "stream": "stdout",
       "text": [
        "\n",
        "loaded /home/yuncong/project/DavidData2014results/RS141/0003/RS141_x5_0003_gabor-blueNisslWide-segm-blueNisslRegular-vq-blueNissl_matchedBoundariesWithNext.jpg"
       ]
      },
      {
       "output_type": "stream",
       "stream": "stdout",
       "text": [
        "\n",
        "loaded /home/yuncong/project/DavidData2014results/RS141/0004/RS141_x5_0004_gabor-blueNisslWide-segm-blueNisslRegular-vq-blueNissl_matchedBoundariesWithPrev.jpg"
       ]
      },
      {
       "output_type": "stream",
       "stream": "stdout",
       "text": [
        "\n",
        "saved /home/yuncong/project/DavidData2014results/RS141/0003/RS141_x5_0003_gabor-blueNisslWide-segm-blueNisslRegular-vq-blueNissl_matchedBoundariesWithNextSideBySide.jpg"
       ]
      },
      {
       "output_type": "stream",
       "stream": "stdout",
       "text": [
        "\n",
        "saved /home/yuncong/project/DavidData2014results/RS141/0004/RS141_x5_0004_gabor-blueNisslWide-segm-blueNisslRegular-vq-blueNissl_matchedBoundariesWithPrevSideBySide.jpg"
       ]
      },
      {
       "output_type": "stream",
       "stream": "stdout",
       "text": [
        "\n",
        "loaded /home/yuncong/project/DavidData2014results/RS141/0004/RS141_x5_0004_gabor-blueNisslWide-segm-blueNisslRegular-vq-blueNissl_matchedBoundariesWithNext.jpg"
       ]
      },
      {
       "output_type": "stream",
       "stream": "stdout",
       "text": [
        "\n",
        "loaded /home/yuncong/project/DavidData2014results/RS141/0005/RS141_x5_0005_gabor-blueNisslWide-segm-blueNisslRegular-vq-blueNissl_matchedBoundariesWithPrev.jpg"
       ]
      },
      {
       "output_type": "stream",
       "stream": "stdout",
       "text": [
        "\n",
        "saved /home/yuncong/project/DavidData2014results/RS141/0004/RS141_x5_0004_gabor-blueNisslWide-segm-blueNisslRegular-vq-blueNissl_matchedBoundariesWithNextSideBySide.jpg"
       ]
      },
      {
       "output_type": "stream",
       "stream": "stdout",
       "text": [
        "\n",
        "saved /home/yuncong/project/DavidData2014results/RS141/0005/RS141_x5_0005_gabor-blueNisslWide-segm-blueNisslRegular-vq-blueNissl_matchedBoundariesWithPrevSideBySide.jpg"
       ]
      },
      {
       "output_type": "stream",
       "stream": "stdout",
       "text": [
        "\n",
        "loaded /home/yuncong/project/DavidData2014results/RS141/0005/RS141_x5_0005_gabor-blueNisslWide-segm-blueNisslRegular-vq-blueNissl_matchedBoundariesWithNext.jpg"
       ]
      },
      {
       "output_type": "stream",
       "stream": "stdout",
       "text": [
        "\n",
        "loaded /home/yuncong/project/DavidData2014results/RS141/0006/RS141_x5_0006_gabor-blueNisslWide-segm-blueNisslRegular-vq-blueNissl_matchedBoundariesWithPrev.jpg"
       ]
      },
      {
       "output_type": "stream",
       "stream": "stdout",
       "text": [
        "\n",
        "saved /home/yuncong/project/DavidData2014results/RS141/0005/RS141_x5_0005_gabor-blueNisslWide-segm-blueNisslRegular-vq-blueNissl_matchedBoundariesWithNextSideBySide.jpg"
       ]
      },
      {
       "output_type": "stream",
       "stream": "stdout",
       "text": [
        "\n",
        "saved /home/yuncong/project/DavidData2014results/RS141/0006/RS141_x5_0006_gabor-blueNisslWide-segm-blueNisslRegular-vq-blueNissl_matchedBoundariesWithPrevSideBySide.jpg"
       ]
      },
      {
       "output_type": "stream",
       "stream": "stdout",
       "text": [
        "\n",
        "loaded /home/yuncong/project/DavidData2014results/RS141/0006/RS141_x5_0006_gabor-blueNisslWide-segm-blueNisslRegular-vq-blueNissl_matchedBoundariesWithNext.jpg"
       ]
      },
      {
       "output_type": "stream",
       "stream": "stdout",
       "text": [
        "\n",
        "loaded /home/yuncong/project/DavidData2014results/RS141/0007/RS141_x5_0007_gabor-blueNisslWide-segm-blueNisslRegular-vq-blueNissl_matchedBoundariesWithPrev.jpg"
       ]
      },
      {
       "output_type": "stream",
       "stream": "stdout",
       "text": [
        "\n",
        "saved /home/yuncong/project/DavidData2014results/RS141/0006/RS141_x5_0006_gabor-blueNisslWide-segm-blueNisslRegular-vq-blueNissl_matchedBoundariesWithNextSideBySide.jpg"
       ]
      },
      {
       "output_type": "stream",
       "stream": "stdout",
       "text": [
        "\n",
        "saved /home/yuncong/project/DavidData2014results/RS141/0007/RS141_x5_0007_gabor-blueNisslWide-segm-blueNisslRegular-vq-blueNissl_matchedBoundariesWithPrevSideBySide.jpg"
       ]
      },
      {
       "output_type": "stream",
       "stream": "stdout",
       "text": [
        "\n",
        "loaded /home/yuncong/project/DavidData2014results/RS141/0007/RS141_x5_0007_gabor-blueNisslWide-segm-blueNisslRegular-vq-blueNissl_matchedBoundariesWithNext.jpg"
       ]
      },
      {
       "output_type": "stream",
       "stream": "stdout",
       "text": [
        "\n",
        "loaded /home/yuncong/project/DavidData2014results/RS141/0008/RS141_x5_0008_gabor-blueNisslWide-segm-blueNisslRegular-vq-blueNissl_matchedBoundariesWithPrev.jpg"
       ]
      },
      {
       "output_type": "stream",
       "stream": "stdout",
       "text": [
        "\n",
        "saved /home/yuncong/project/DavidData2014results/RS141/0007/RS141_x5_0007_gabor-blueNisslWide-segm-blueNisslRegular-vq-blueNissl_matchedBoundariesWithNextSideBySide.jpg"
       ]
      },
      {
       "output_type": "stream",
       "stream": "stdout",
       "text": [
        "\n",
        "saved /home/yuncong/project/DavidData2014results/RS141/0008/RS141_x5_0008_gabor-blueNisslWide-segm-blueNisslRegular-vq-blueNissl_matchedBoundariesWithPrevSideBySide.jpg"
       ]
      },
      {
       "output_type": "stream",
       "stream": "stdout",
       "text": [
        "\n",
        "loaded /home/yuncong/project/DavidData2014results/RS141/0008/RS141_x5_0008_gabor-blueNisslWide-segm-blueNisslRegular-vq-blueNissl_matchedBoundariesWithNext.jpg"
       ]
      },
      {
       "output_type": "stream",
       "stream": "stdout",
       "text": [
        "\n",
        "loaded /home/yuncong/project/DavidData2014results/RS141/0009/RS141_x5_0009_gabor-blueNisslWide-segm-blueNisslRegular-vq-blueNissl_matchedBoundariesWithPrev.jpg"
       ]
      },
      {
       "output_type": "stream",
       "stream": "stdout",
       "text": [
        "\n",
        "saved /home/yuncong/project/DavidData2014results/RS141/0008/RS141_x5_0008_gabor-blueNisslWide-segm-blueNisslRegular-vq-blueNissl_matchedBoundariesWithNextSideBySide.jpg"
       ]
      },
      {
       "output_type": "stream",
       "stream": "stdout",
       "text": [
        "\n",
        "saved /home/yuncong/project/DavidData2014results/RS141/0009/RS141_x5_0009_gabor-blueNisslWide-segm-blueNisslRegular-vq-blueNissl_matchedBoundariesWithPrevSideBySide.jpg"
       ]
      },
      {
       "output_type": "stream",
       "stream": "stdout",
       "text": [
        "\n",
        "loaded /home/yuncong/project/DavidData2014results/RS141/0009/RS141_x5_0009_gabor-blueNisslWide-segm-blueNisslRegular-vq-blueNissl_matchedBoundariesWithNext.jpg"
       ]
      },
      {
       "output_type": "stream",
       "stream": "stdout",
       "text": [
        "\n",
        "loaded /home/yuncong/project/DavidData2014results/RS141/0010/RS141_x5_0010_gabor-blueNisslWide-segm-blueNisslRegular-vq-blueNissl_matchedBoundariesWithPrev.jpg"
       ]
      },
      {
       "output_type": "stream",
       "stream": "stdout",
       "text": [
        "\n",
        "saved /home/yuncong/project/DavidData2014results/RS141/0009/RS141_x5_0009_gabor-blueNisslWide-segm-blueNisslRegular-vq-blueNissl_matchedBoundariesWithNextSideBySide.jpg"
       ]
      },
      {
       "output_type": "stream",
       "stream": "stdout",
       "text": [
        "\n",
        "saved /home/yuncong/project/DavidData2014results/RS141/0010/RS141_x5_0010_gabor-blueNisslWide-segm-blueNisslRegular-vq-blueNissl_matchedBoundariesWithPrevSideBySide.jpg"
       ]
      },
      {
       "output_type": "stream",
       "stream": "stdout",
       "text": [
        "\n",
        "loaded /home/yuncong/project/DavidData2014results/RS141/0010/RS141_x5_0010_gabor-blueNisslWide-segm-blueNisslRegular-vq-blueNissl_matchedBoundariesWithNext.jpg"
       ]
      },
      {
       "output_type": "stream",
       "stream": "stdout",
       "text": [
        "\n",
        "loaded /home/yuncong/project/DavidData2014results/RS141/0011/RS141_x5_0011_gabor-blueNisslWide-segm-blueNisslRegular-vq-blueNissl_matchedBoundariesWithPrev.jpg"
       ]
      },
      {
       "output_type": "stream",
       "stream": "stdout",
       "text": [
        "\n",
        "saved /home/yuncong/project/DavidData2014results/RS141/0010/RS141_x5_0010_gabor-blueNisslWide-segm-blueNisslRegular-vq-blueNissl_matchedBoundariesWithNextSideBySide.jpg"
       ]
      },
      {
       "output_type": "stream",
       "stream": "stdout",
       "text": [
        "\n",
        "saved /home/yuncong/project/DavidData2014results/RS141/0011/RS141_x5_0011_gabor-blueNisslWide-segm-blueNisslRegular-vq-blueNissl_matchedBoundariesWithPrevSideBySide.jpg"
       ]
      },
      {
       "output_type": "stream",
       "stream": "stdout",
       "text": [
        "\n",
        "loaded /home/yuncong/project/DavidData2014results/RS141/0011/RS141_x5_0011_gabor-blueNisslWide-segm-blueNisslRegular-vq-blueNissl_matchedBoundariesWithNext.jpg"
       ]
      },
      {
       "output_type": "stream",
       "stream": "stdout",
       "text": [
        "\n",
        "loaded /home/yuncong/project/DavidData2014results/RS141/0012/RS141_x5_0012_gabor-blueNisslWide-segm-blueNisslRegular-vq-blueNissl_matchedBoundariesWithPrev.jpg"
       ]
      },
      {
       "output_type": "stream",
       "stream": "stdout",
       "text": [
        "\n",
        "saved /home/yuncong/project/DavidData2014results/RS141/0011/RS141_x5_0011_gabor-blueNisslWide-segm-blueNisslRegular-vq-blueNissl_matchedBoundariesWithNextSideBySide.jpg"
       ]
      },
      {
       "output_type": "stream",
       "stream": "stdout",
       "text": [
        "\n",
        "saved /home/yuncong/project/DavidData2014results/RS141/0012/RS141_x5_0012_gabor-blueNisslWide-segm-blueNisslRegular-vq-blueNissl_matchedBoundariesWithPrevSideBySide.jpg"
       ]
      },
      {
       "output_type": "stream",
       "stream": "stdout",
       "text": [
        "\n",
        "loaded /home/yuncong/project/DavidData2014results/RS141/0012/RS141_x5_0012_gabor-blueNisslWide-segm-blueNisslRegular-vq-blueNissl_matchedBoundariesWithNext.jpg"
       ]
      },
      {
       "output_type": "stream",
       "stream": "stdout",
       "text": [
        "\n",
        "loaded /home/yuncong/project/DavidData2014results/RS141/0013/RS141_x5_0013_gabor-blueNisslWide-segm-blueNisslRegular-vq-blueNissl_matchedBoundariesWithPrev.jpg"
       ]
      },
      {
       "output_type": "stream",
       "stream": "stdout",
       "text": [
        "\n",
        "saved /home/yuncong/project/DavidData2014results/RS141/0012/RS141_x5_0012_gabor-blueNisslWide-segm-blueNisslRegular-vq-blueNissl_matchedBoundariesWithNextSideBySide.jpg"
       ]
      },
      {
       "output_type": "stream",
       "stream": "stdout",
       "text": [
        "\n",
        "saved /home/yuncong/project/DavidData2014results/RS141/0013/RS141_x5_0013_gabor-blueNisslWide-segm-blueNisslRegular-vq-blueNissl_matchedBoundariesWithPrevSideBySide.jpg"
       ]
      },
      {
       "output_type": "stream",
       "stream": "stdout",
       "text": [
        "\n",
        "loaded /home/yuncong/project/DavidData2014results/RS141/0013/RS141_x5_0013_gabor-blueNisslWide-segm-blueNisslRegular-vq-blueNissl_matchedBoundariesWithNext.jpg"
       ]
      },
      {
       "output_type": "stream",
       "stream": "stdout",
       "text": [
        "\n",
        "loaded /home/yuncong/project/DavidData2014results/RS141/0014/RS141_x5_0014_gabor-blueNisslWide-segm-blueNisslRegular-vq-blueNissl_matchedBoundariesWithPrev.jpg"
       ]
      },
      {
       "output_type": "stream",
       "stream": "stdout",
       "text": [
        "\n",
        "saved /home/yuncong/project/DavidData2014results/RS141/0013/RS141_x5_0013_gabor-blueNisslWide-segm-blueNisslRegular-vq-blueNissl_matchedBoundariesWithNextSideBySide.jpg"
       ]
      },
      {
       "output_type": "stream",
       "stream": "stdout",
       "text": [
        "\n",
        "saved /home/yuncong/project/DavidData2014results/RS141/0014/RS141_x5_0014_gabor-blueNisslWide-segm-blueNisslRegular-vq-blueNissl_matchedBoundariesWithPrevSideBySide.jpg"
       ]
      },
      {
       "output_type": "stream",
       "stream": "stdout",
       "text": [
        "\n",
        "loaded /home/yuncong/project/DavidData2014results/RS141/0014/RS141_x5_0014_gabor-blueNisslWide-segm-blueNisslRegular-vq-blueNissl_matchedBoundariesWithNext.jpg"
       ]
      },
      {
       "output_type": "stream",
       "stream": "stdout",
       "text": [
        "\n",
        "loaded /home/yuncong/project/DavidData2014results/RS141/0015/RS141_x5_0015_gabor-blueNisslWide-segm-blueNisslRegular-vq-blueNissl_matchedBoundariesWithPrev.jpg"
       ]
      },
      {
       "output_type": "stream",
       "stream": "stdout",
       "text": [
        "\n",
        "saved /home/yuncong/project/DavidData2014results/RS141/0014/RS141_x5_0014_gabor-blueNisslWide-segm-blueNisslRegular-vq-blueNissl_matchedBoundariesWithNextSideBySide.jpg"
       ]
      },
      {
       "output_type": "stream",
       "stream": "stdout",
       "text": [
        "\n",
        "saved /home/yuncong/project/DavidData2014results/RS141/0015/RS141_x5_0015_gabor-blueNisslWide-segm-blueNisslRegular-vq-blueNissl_matchedBoundariesWithPrevSideBySide.jpg"
       ]
      },
      {
       "output_type": "stream",
       "stream": "stdout",
       "text": [
        "\n",
        "loaded /home/yuncong/project/DavidData2014results/RS141/0015/RS141_x5_0015_gabor-blueNisslWide-segm-blueNisslRegular-vq-blueNissl_matchedBoundariesWithNext.jpg"
       ]
      },
      {
       "output_type": "stream",
       "stream": "stdout",
       "text": [
        "\n",
        "loaded /home/yuncong/project/DavidData2014results/RS141/0016/RS141_x5_0016_gabor-blueNisslWide-segm-blueNisslRegular-vq-blueNissl_matchedBoundariesWithPrev.jpg"
       ]
      },
      {
       "output_type": "stream",
       "stream": "stdout",
       "text": [
        "\n",
        "saved /home/yuncong/project/DavidData2014results/RS141/0015/RS141_x5_0015_gabor-blueNisslWide-segm-blueNisslRegular-vq-blueNissl_matchedBoundariesWithNextSideBySide.jpg"
       ]
      },
      {
       "output_type": "stream",
       "stream": "stdout",
       "text": [
        "\n",
        "saved /home/yuncong/project/DavidData2014results/RS141/0016/RS141_x5_0016_gabor-blueNisslWide-segm-blueNisslRegular-vq-blueNissl_matchedBoundariesWithPrevSideBySide.jpg"
       ]
      },
      {
       "output_type": "stream",
       "stream": "stdout",
       "text": [
        "\n",
        "loaded /home/yuncong/project/DavidData2014results/RS141/0016/RS141_x5_0016_gabor-blueNisslWide-segm-blueNisslRegular-vq-blueNissl_matchedBoundariesWithNext.jpg"
       ]
      },
      {
       "output_type": "stream",
       "stream": "stdout",
       "text": [
        "\n",
        "loaded /home/yuncong/project/DavidData2014results/RS141/0017/RS141_x5_0017_gabor-blueNisslWide-segm-blueNisslRegular-vq-blueNissl_matchedBoundariesWithPrev.jpg"
       ]
      },
      {
       "output_type": "stream",
       "stream": "stdout",
       "text": [
        "\n",
        "saved /home/yuncong/project/DavidData2014results/RS141/0016/RS141_x5_0016_gabor-blueNisslWide-segm-blueNisslRegular-vq-blueNissl_matchedBoundariesWithNextSideBySide.jpg"
       ]
      },
      {
       "output_type": "stream",
       "stream": "stdout",
       "text": [
        "\n",
        "saved /home/yuncong/project/DavidData2014results/RS141/0017/RS141_x5_0017_gabor-blueNisslWide-segm-blueNisslRegular-vq-blueNissl_matchedBoundariesWithPrevSideBySide.jpg"
       ]
      },
      {
       "output_type": "stream",
       "stream": "stdout",
       "text": [
        "\n",
        "loaded /home/yuncong/project/DavidData2014results/RS141/0017/RS141_x5_0017_gabor-blueNisslWide-segm-blueNisslRegular-vq-blueNissl_matchedBoundariesWithNext.jpg"
       ]
      },
      {
       "output_type": "stream",
       "stream": "stdout",
       "text": [
        "\n",
        "loaded /home/yuncong/project/DavidData2014results/RS141/0018/RS141_x5_0018_gabor-blueNisslWide-segm-blueNisslRegular-vq-blueNissl_matchedBoundariesWithPrev.jpg"
       ]
      },
      {
       "output_type": "stream",
       "stream": "stdout",
       "text": [
        "\n",
        "saved /home/yuncong/project/DavidData2014results/RS141/0017/RS141_x5_0017_gabor-blueNisslWide-segm-blueNisslRegular-vq-blueNissl_matchedBoundariesWithNextSideBySide.jpg"
       ]
      },
      {
       "output_type": "stream",
       "stream": "stdout",
       "text": [
        "\n",
        "saved /home/yuncong/project/DavidData2014results/RS141/0018/RS141_x5_0018_gabor-blueNisslWide-segm-blueNisslRegular-vq-blueNissl_matchedBoundariesWithPrevSideBySide.jpg"
       ]
      },
      {
       "output_type": "stream",
       "stream": "stdout",
       "text": [
        "\n",
        "loaded /home/yuncong/project/DavidData2014results/RS141/0018/RS141_x5_0018_gabor-blueNisslWide-segm-blueNisslRegular-vq-blueNissl_matchedBoundariesWithNext.jpg"
       ]
      },
      {
       "output_type": "stream",
       "stream": "stdout",
       "text": [
        "\n",
        "loaded /home/yuncong/project/DavidData2014results/RS141/0019/RS141_x5_0019_gabor-blueNisslWide-segm-blueNisslRegular-vq-blueNissl_matchedBoundariesWithPrev.jpg"
       ]
      },
      {
       "output_type": "stream",
       "stream": "stdout",
       "text": [
        "\n",
        "saved /home/yuncong/project/DavidData2014results/RS141/0018/RS141_x5_0018_gabor-blueNisslWide-segm-blueNisslRegular-vq-blueNissl_matchedBoundariesWithNextSideBySide.jpg"
       ]
      },
      {
       "output_type": "stream",
       "stream": "stdout",
       "text": [
        "\n",
        "saved /home/yuncong/project/DavidData2014results/RS141/0019/RS141_x5_0019_gabor-blueNisslWide-segm-blueNisslRegular-vq-blueNissl_matchedBoundariesWithPrevSideBySide.jpg"
       ]
      },
      {
       "output_type": "stream",
       "stream": "stdout",
       "text": [
        "\n",
        "loaded /home/yuncong/project/DavidData2014results/RS141/0019/RS141_x5_0019_gabor-blueNisslWide-segm-blueNisslRegular-vq-blueNissl_matchedBoundariesWithNext.jpg"
       ]
      },
      {
       "output_type": "stream",
       "stream": "stdout",
       "text": [
        "\n",
        "loaded /home/yuncong/project/DavidData2014results/RS141/0020/RS141_x5_0020_gabor-blueNisslWide-segm-blueNisslRegular-vq-blueNissl_matchedBoundariesWithPrev.jpg"
       ]
      },
      {
       "output_type": "stream",
       "stream": "stdout",
       "text": [
        "\n",
        "saved /home/yuncong/project/DavidData2014results/RS141/0019/RS141_x5_0019_gabor-blueNisslWide-segm-blueNisslRegular-vq-blueNissl_matchedBoundariesWithNextSideBySide.jpg"
       ]
      },
      {
       "output_type": "stream",
       "stream": "stdout",
       "text": [
        "\n",
        "saved /home/yuncong/project/DavidData2014results/RS141/0020/RS141_x5_0020_gabor-blueNisslWide-segm-blueNisslRegular-vq-blueNissl_matchedBoundariesWithPrevSideBySide.jpg"
       ]
      },
      {
       "output_type": "stream",
       "stream": "stdout",
       "text": [
        "\n",
        "loaded /home/yuncong/project/DavidData2014results/RS141/0020/RS141_x5_0020_gabor-blueNisslWide-segm-blueNisslRegular-vq-blueNissl_matchedBoundariesWithNext.jpg"
       ]
      },
      {
       "output_type": "stream",
       "stream": "stdout",
       "text": [
        "\n",
        "loaded /home/yuncong/project/DavidData2014results/RS141/0021/RS141_x5_0021_gabor-blueNisslWide-segm-blueNisslRegular-vq-blueNissl_matchedBoundariesWithPrev.jpg"
       ]
      },
      {
       "output_type": "stream",
       "stream": "stdout",
       "text": [
        "\n",
        "saved /home/yuncong/project/DavidData2014results/RS141/0020/RS141_x5_0020_gabor-blueNisslWide-segm-blueNisslRegular-vq-blueNissl_matchedBoundariesWithNextSideBySide.jpg"
       ]
      },
      {
       "output_type": "stream",
       "stream": "stdout",
       "text": [
        "\n",
        "saved /home/yuncong/project/DavidData2014results/RS141/0021/RS141_x5_0021_gabor-blueNisslWide-segm-blueNisslRegular-vq-blueNissl_matchedBoundariesWithPrevSideBySide.jpg"
       ]
      },
      {
       "output_type": "stream",
       "stream": "stdout",
       "text": [
        "\n",
        "loaded /home/yuncong/project/DavidData2014results/RS141/0021/RS141_x5_0021_gabor-blueNisslWide-segm-blueNisslRegular-vq-blueNissl_matchedBoundariesWithNext.jpg"
       ]
      },
      {
       "output_type": "stream",
       "stream": "stdout",
       "text": [
        "\n",
        "loaded /home/yuncong/project/DavidData2014results/RS141/0022/RS141_x5_0022_gabor-blueNisslWide-segm-blueNisslRegular-vq-blueNissl_matchedBoundariesWithPrev.jpg"
       ]
      },
      {
       "output_type": "stream",
       "stream": "stdout",
       "text": [
        "\n",
        "saved /home/yuncong/project/DavidData2014results/RS141/0021/RS141_x5_0021_gabor-blueNisslWide-segm-blueNisslRegular-vq-blueNissl_matchedBoundariesWithNextSideBySide.jpg"
       ]
      },
      {
       "output_type": "stream",
       "stream": "stdout",
       "text": [
        "\n",
        "saved /home/yuncong/project/DavidData2014results/RS141/0022/RS141_x5_0022_gabor-blueNisslWide-segm-blueNisslRegular-vq-blueNissl_matchedBoundariesWithPrevSideBySide.jpg"
       ]
      },
      {
       "output_type": "stream",
       "stream": "stdout",
       "text": [
        "\n",
        "loaded /home/yuncong/project/DavidData2014results/RS141/0022/RS141_x5_0022_gabor-blueNisslWide-segm-blueNisslRegular-vq-blueNissl_matchedBoundariesWithNext.jpg"
       ]
      },
      {
       "output_type": "stream",
       "stream": "stdout",
       "text": [
        "\n",
        "loaded /home/yuncong/project/DavidData2014results/RS141/0023/RS141_x5_0023_gabor-blueNisslWide-segm-blueNisslRegular-vq-blueNissl_matchedBoundariesWithPrev.jpg"
       ]
      },
      {
       "output_type": "stream",
       "stream": "stdout",
       "text": [
        "\n",
        "saved /home/yuncong/project/DavidData2014results/RS141/0022/RS141_x5_0022_gabor-blueNisslWide-segm-blueNisslRegular-vq-blueNissl_matchedBoundariesWithNextSideBySide.jpg"
       ]
      },
      {
       "output_type": "stream",
       "stream": "stdout",
       "text": [
        "\n",
        "saved /home/yuncong/project/DavidData2014results/RS141/0023/RS141_x5_0023_gabor-blueNisslWide-segm-blueNisslRegular-vq-blueNissl_matchedBoundariesWithPrevSideBySide.jpg"
       ]
      },
      {
       "output_type": "stream",
       "stream": "stdout",
       "text": [
        "\n",
        "loaded /home/yuncong/project/DavidData2014results/RS141/0023/RS141_x5_0023_gabor-blueNisslWide-segm-blueNisslRegular-vq-blueNissl_matchedBoundariesWithNext.jpg"
       ]
      },
      {
       "output_type": "stream",
       "stream": "stdout",
       "text": [
        "\n",
        "loaded /home/yuncong/project/DavidData2014results/RS141/0024/RS141_x5_0024_gabor-blueNisslWide-segm-blueNisslRegular-vq-blueNissl_matchedBoundariesWithPrev.jpg"
       ]
      },
      {
       "output_type": "stream",
       "stream": "stdout",
       "text": [
        "\n",
        "saved /home/yuncong/project/DavidData2014results/RS141/0023/RS141_x5_0023_gabor-blueNisslWide-segm-blueNisslRegular-vq-blueNissl_matchedBoundariesWithNextSideBySide.jpg"
       ]
      },
      {
       "output_type": "stream",
       "stream": "stdout",
       "text": [
        "\n",
        "saved /home/yuncong/project/DavidData2014results/RS141/0024/RS141_x5_0024_gabor-blueNisslWide-segm-blueNisslRegular-vq-blueNissl_matchedBoundariesWithPrevSideBySide.jpg"
       ]
      },
      {
       "output_type": "stream",
       "stream": "stdout",
       "text": [
        "\n",
        "loaded /home/yuncong/project/DavidData2014results/RS141/0024/RS141_x5_0024_gabor-blueNisslWide-segm-blueNisslRegular-vq-blueNissl_matchedBoundariesWithNext.jpg"
       ]
      },
      {
       "output_type": "stream",
       "stream": "stdout",
       "text": [
        "\n",
        "loaded /home/yuncong/project/DavidData2014results/RS141/0025/RS141_x5_0025_gabor-blueNisslWide-segm-blueNisslRegular-vq-blueNissl_matchedBoundariesWithPrev.jpg"
       ]
      },
      {
       "output_type": "stream",
       "stream": "stdout",
       "text": [
        "\n",
        "saved /home/yuncong/project/DavidData2014results/RS141/0024/RS141_x5_0024_gabor-blueNisslWide-segm-blueNisslRegular-vq-blueNissl_matchedBoundariesWithNextSideBySide.jpg"
       ]
      },
      {
       "output_type": "stream",
       "stream": "stdout",
       "text": [
        "\n",
        "saved /home/yuncong/project/DavidData2014results/RS141/0025/RS141_x5_0025_gabor-blueNisslWide-segm-blueNisslRegular-vq-blueNissl_matchedBoundariesWithPrevSideBySide.jpg"
       ]
      },
      {
       "output_type": "stream",
       "stream": "stdout",
       "text": [
        "\n",
        "loaded /home/yuncong/project/DavidData2014results/RS141/0025/RS141_x5_0025_gabor-blueNisslWide-segm-blueNisslRegular-vq-blueNissl_matchedBoundariesWithNext.jpg"
       ]
      },
      {
       "output_type": "stream",
       "stream": "stdout",
       "text": [
        "\n",
        "loaded /home/yuncong/project/DavidData2014results/RS141/0026/RS141_x5_0026_gabor-blueNisslWide-segm-blueNisslRegular-vq-blueNissl_matchedBoundariesWithPrev.jpg"
       ]
      },
      {
       "output_type": "stream",
       "stream": "stdout",
       "text": [
        "\n",
        "saved /home/yuncong/project/DavidData2014results/RS141/0025/RS141_x5_0025_gabor-blueNisslWide-segm-blueNisslRegular-vq-blueNissl_matchedBoundariesWithNextSideBySide.jpg"
       ]
      },
      {
       "output_type": "stream",
       "stream": "stdout",
       "text": [
        "\n",
        "saved /home/yuncong/project/DavidData2014results/RS141/0026/RS141_x5_0026_gabor-blueNisslWide-segm-blueNisslRegular-vq-blueNissl_matchedBoundariesWithPrevSideBySide.jpg"
       ]
      },
      {
       "output_type": "stream",
       "stream": "stdout",
       "text": [
        "\n",
        "loaded /home/yuncong/project/DavidData2014results/RS141/0026/RS141_x5_0026_gabor-blueNisslWide-segm-blueNisslRegular-vq-blueNissl_matchedBoundariesWithNext.jpg"
       ]
      },
      {
       "output_type": "stream",
       "stream": "stdout",
       "text": [
        "\n",
        "loaded /home/yuncong/project/DavidData2014results/RS141/0027/RS141_x5_0027_gabor-blueNisslWide-segm-blueNisslRegular-vq-blueNissl_matchedBoundariesWithPrev.jpg"
       ]
      },
      {
       "output_type": "stream",
       "stream": "stdout",
       "text": [
        "\n",
        "saved /home/yuncong/project/DavidData2014results/RS141/0026/RS141_x5_0026_gabor-blueNisslWide-segm-blueNisslRegular-vq-blueNissl_matchedBoundariesWithNextSideBySide.jpg"
       ]
      },
      {
       "output_type": "stream",
       "stream": "stdout",
       "text": [
        "\n",
        "saved /home/yuncong/project/DavidData2014results/RS141/0027/RS141_x5_0027_gabor-blueNisslWide-segm-blueNisslRegular-vq-blueNissl_matchedBoundariesWithPrevSideBySide.jpg"
       ]
      },
      {
       "output_type": "stream",
       "stream": "stdout",
       "text": [
        "\n",
        "loaded /home/yuncong/project/DavidData2014results/RS141/0027/RS141_x5_0027_gabor-blueNisslWide-segm-blueNisslRegular-vq-blueNissl_matchedBoundariesWithNext.jpg"
       ]
      },
      {
       "output_type": "stream",
       "stream": "stdout",
       "text": [
        "\n",
        "loaded /home/yuncong/project/DavidData2014results/RS141/0028/RS141_x5_0028_gabor-blueNisslWide-segm-blueNisslRegular-vq-blueNissl_matchedBoundariesWithPrev.jpg"
       ]
      },
      {
       "output_type": "stream",
       "stream": "stdout",
       "text": [
        "\n",
        "saved /home/yuncong/project/DavidData2014results/RS141/0027/RS141_x5_0027_gabor-blueNisslWide-segm-blueNisslRegular-vq-blueNissl_matchedBoundariesWithNextSideBySide.jpg"
       ]
      },
      {
       "output_type": "stream",
       "stream": "stdout",
       "text": [
        "\n",
        "saved /home/yuncong/project/DavidData2014results/RS141/0028/RS141_x5_0028_gabor-blueNisslWide-segm-blueNisslRegular-vq-blueNissl_matchedBoundariesWithPrevSideBySide.jpg"
       ]
      },
      {
       "output_type": "stream",
       "stream": "stdout",
       "text": [
        "\n",
        "loaded /home/yuncong/project/DavidData2014results/RS141/0028/RS141_x5_0028_gabor-blueNisslWide-segm-blueNisslRegular-vq-blueNissl_matchedBoundariesWithNext.jpg"
       ]
      },
      {
       "output_type": "stream",
       "stream": "stdout",
       "text": [
        "\n",
        "loaded /home/yuncong/project/DavidData2014results/RS141/0029/RS141_x5_0029_gabor-blueNisslWide-segm-blueNisslRegular-vq-blueNissl_matchedBoundariesWithPrev.jpg"
       ]
      },
      {
       "output_type": "stream",
       "stream": "stdout",
       "text": [
        "\n",
        "saved /home/yuncong/project/DavidData2014results/RS141/0028/RS141_x5_0028_gabor-blueNisslWide-segm-blueNisslRegular-vq-blueNissl_matchedBoundariesWithNextSideBySide.jpg"
       ]
      },
      {
       "output_type": "stream",
       "stream": "stdout",
       "text": [
        "\n",
        "saved /home/yuncong/project/DavidData2014results/RS141/0029/RS141_x5_0029_gabor-blueNisslWide-segm-blueNisslRegular-vq-blueNissl_matchedBoundariesWithPrevSideBySide.jpg"
       ]
      },
      {
       "output_type": "stream",
       "stream": "stdout",
       "text": [
        "\n"
       ]
      }
     ],
     "prompt_number": 27
    }
   ],
   "metadata": {}
  }
 ]
}