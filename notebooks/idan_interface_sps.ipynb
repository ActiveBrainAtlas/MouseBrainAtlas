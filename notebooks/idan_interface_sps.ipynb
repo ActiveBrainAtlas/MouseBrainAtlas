{
 "metadata": {
  "name": "",
  "signature": "sha256:aebab4d348ae7f40d35bb6f3408edc97800e3fb6678837e19b07fa16251572e5"
 },
 "nbformat": 3,
 "nbformat_minor": 0,
 "worksheets": [
  {
   "cells": [
    {
     "cell_type": "code",
     "collapsed": false,
     "input": [
      "%load_ext autoreload\n",
      "%autoreload 2\n",
      "\n",
      "import sys\n",
      "sys.path.append('/home/yuncong/Brain/pipeline_scripts')\n",
      "from utilities2014 import *"
     ],
     "language": "python",
     "metadata": {},
     "outputs": [
      {
       "output_type": "stream",
       "stream": "stdout",
       "text": [
        "The autoreload extension is already loaded. To reload it, use:\n",
        "  %reload_ext autoreload\n"
       ]
      }
     ],
     "prompt_number": 11
    },
    {
     "cell_type": "code",
     "collapsed": false,
     "input": [
      "os.environ['GORDON_DATA_DIR'] = '/home/yuncong/project/DavidData2014tif/'\n",
      "os.environ['GORDON_REPO_DIR'] = '/home/yuncong/Brain'\n",
      "os.environ['GORDON_RESULT_DIR'] = '/home/yuncong/project/DavidData2014results/'\n",
      "os.environ['GORDON_LABELING_DIR'] = '/home/yuncong/project/DavidData2014labelings/'"
     ],
     "language": "python",
     "metadata": {},
     "outputs": [],
     "prompt_number": 12
    },
    {
     "cell_type": "code",
     "collapsed": false,
     "input": [
      "sec = 0\n",
      "\n",
      "dm_prev = DataManager(generate_hierarchy=False, stack='RS141', resol='x5', section=sec)\n",
      "supporters_prev = dm_prev.load_pipeline_result('supporters', 'pkl')\n",
      "\n",
      "dm_next = DataManager(generate_hierarchy=False, stack='RS141', resol='x5', section=sec+1)\n",
      "supporters_next = dm_next.load_pipeline_result('supporters', 'pkl')\n",
      "\n",
      "matchings_prev_with_next = dm_prev.load_pipeline_result('matchings%dWith%d'%(sec,sec+1), 'pkl')"
     ],
     "language": "python",
     "metadata": {},
     "outputs": [
      {
       "output_type": "stream",
       "stream": "stdout",
       "text": [
        "loaded /home/yuncong/project/DavidData2014results/RS141/0000/RS141_x5_0000_gabor-blueNisslWide-segm-blueNisslRegular-vq-blueNissl_supporters.pkl\n",
        "loaded /home/yuncong/project/DavidData2014results/RS141/0001/RS141_x5_0001_gabor-blueNisslWide-segm-blueNisslRegular-vq-blueNissl_supporters.pkl\n",
        "loaded /home/yuncong/project/DavidData2014results/RS141/0000/RS141_x5_0000_gabor-blueNisslWide-segm-blueNisslRegular-vq-blueNissl_matchings0With1.pkl\n"
       ]
      }
     ],
     "prompt_number": 13
    },
    {
     "cell_type": "code",
     "collapsed": false,
     "input": [
      "dual_image = dm_prev.load_pipeline_result('matchedBoundaries%dWith%dSideBySide'%(sec,sec+1), 'jpg')\n",
      "\n",
      "plt.figure(figsize=(20,20));\n",
      "plt.imshow(dual_image);\n",
      "plt.axis('off');"
     ],
     "language": "python",
     "metadata": {},
     "outputs": [
      {
       "output_type": "stream",
       "stream": "stdout",
       "text": [
        "loaded /home/yuncong/project/DavidData2014results/RS141/0000/RS141_x5_0000_gabor-blueNisslWide-segm-blueNisslRegular-vq-blueNissl_matchedBoundaries0With1SideBySide.jpg\n"
       ]
      }
     ],
     "prompt_number": 8
    },
    {
     "cell_type": "markdown",
     "metadata": {},
     "source": [
      "In the example notebook,\n",
      "wrong_matchings = [2, 5, 6, 8, 9, 10, 12, 14] means pair 2, pair 5, pair 6,... are matched incorrectly. Currently, you supply this by hand after checking the dual image.\n",
      "\n",
      "It is important to note the dual image does not show all detected boundaries. It just show those that got matched. The numbering above is only for the matched pairs.\n",
      "\n",
      "In total, 40 boundaries are detected in section 0 and 40 boundaries in section 1.\n",
      "\n",
      "We want to know for example, which boundaries does pair 6 contain. That is what matchings_prev_with_next is for.\n",
      "\n",
      "For example, matchings_prev_with_next[6] = (0.3132, 35, 31)\n",
      "means \"matching 6 consists of boundary 35 of section 0 and boundary 31 of section 1; the matching distance is 0.3132\".\n",
      "\n",
      "Then,\n",
      "\n",
      "supporter_prev[i] contains all superpixels inside boundary i of section 0\n",
      "\n",
      "supporter_next[j] contains all superpixels inside boundary j of section 1\n",
      "\n",
      "With these, you can automatically generate the examples.\n",
      "\n",
      "If you are still unsure what to do, let's find a time to skype or Google chat.\n"
     ]
    },
    {
     "cell_type": "code",
     "collapsed": false,
     "input": [
      "# which pairs are matched incorrectly\n",
      "wrong_matchings = [2, 5, 6, 8, 9, 10, 12, 14]"
     ],
     "language": "python",
     "metadata": {},
     "outputs": [],
     "prompt_number": 14
    },
    {
     "cell_type": "code",
     "collapsed": false,
     "input": [
      "for ind in wrong_matchings:\n",
      "    score, i, j = matchings_prev_with_next[ind]\n",
      "    print 'matching', ind, '(boundary', i, 'of section', sec, 'and boundary', j, 'of section', sec+1, ') is wrong'\n",
      "    print len(supporters_prev[i]), len(supporters_next[j])"
     ],
     "language": "python",
     "metadata": {},
     "outputs": [
      {
       "output_type": "stream",
       "stream": "stdout",
       "text": [
        "matching 2 (boundary 8 of section 0 and boundary 36 of section 1 ) is wrong\n",
        "27 50\n",
        "matching 5 (boundary 17 of section 0 and boundary 16 of section 1 ) is wrong\n",
        "74 15\n",
        "matching 6 (boundary 35 of section 0 and boundary 31 of section 1 ) is wrong\n",
        "162 202\n",
        "matching 8 (boundary 10 of section 0 and boundary 34 of section 1 ) is wrong\n",
        "38 129\n",
        "matching 9 (boundary 22 of section 0 and boundary 5 of section 1 ) is wrong\n",
        "16 19\n",
        "matching 10 (boundary 32 of section 0 and boundary 8 of section 1 ) is wrong\n",
        "232 75\n",
        "matching 12 (boundary 37 of section 0 and boundary 38 of section 1 ) is wrong\n",
        "144 8\n",
        "matching 14 (boundary 28 of section 0 and boundary 32 of section 1 ) is wrong\n",
        "31 188\n"
       ]
      }
     ],
     "prompt_number": 15
    },
    {
     "cell_type": "code",
     "collapsed": false,
     "input": [],
     "language": "python",
     "metadata": {},
     "outputs": []
    }
   ],
   "metadata": {}
  }
 ]
}