{
 "metadata": {
  "name": "",
  "signature": "sha256:31c5f0f16f4ad45cb190519d5cc26fad0780bd3963bb0d8b3d152dfab22778bb"
 },
 "nbformat": 3,
 "nbformat_minor": 0,
 "worksheets": [
  {
   "cells": [
    {
     "cell_type": "code",
     "collapsed": false,
     "input": [
      "%load_ext autoreload\n",
      "%autoreload 2\n",
      "\n",
      "import sys\n",
      "sys.path.append('/home/yuncong/Brain/pipeline_scripts')\n",
      "from utilities2014 import *"
     ],
     "language": "python",
     "metadata": {},
     "outputs": [],
     "prompt_number": 1
    },
    {
     "cell_type": "code",
     "collapsed": false,
     "input": [
      "os.environ['GORDON_DATA_DIR'] = '/home/yuncong/project/DavidData2014tif/'\n",
      "os.environ['GORDON_REPO_DIR'] = '/home/yuncong/Brain'\n",
      "os.environ['GORDON_RESULT_DIR'] = '/home/yuncong/project/DavidData2014results/'\n",
      "os.environ['GORDON_LABELING_DIR'] = '/home/yuncong/project/DavidData2014labelings/'"
     ],
     "language": "python",
     "metadata": {},
     "outputs": [],
     "prompt_number": 2
    },
    {
     "cell_type": "code",
     "collapsed": false,
     "input": [
      "sec = 0\n",
      "\n",
      "dm_prev = DataManager(generate_hierarchy=False, stack='RS141', resol='x5', section=sec)\n",
      "supporters_prev = dm_prev.load_pipeline_result('supporters', 'pkl')\n",
      "\n",
      "dm_next = DataManager(generate_hierarchy=False, stack='RS141', resol='x5', section=sec+1)\n",
      "supporters_next = dm_next.load_pipeline_result('supporters', 'pkl')\n",
      "\n",
      "matchings_prev_with_next = dm_prev.load_pipeline_result('matchings%dWith%d'%(sec,sec+1), 'pkl')"
     ],
     "language": "python",
     "metadata": {},
     "outputs": [
      {
       "output_type": "stream",
       "stream": "stdout",
       "text": [
        "loaded /home/yuncong/project/DavidData2014results/RS141/0000/RS141_x5_0000_gabor-blueNisslWide-segm-blueNisslRegular-vq-blueNissl_supporters.pkl\n",
        "loaded /home/yuncong/project/DavidData2014results/RS141/0001/RS141_x5_0001_gabor-blueNisslWide-segm-blueNisslRegular-vq-blueNissl_supporters.pkl\n",
        "loaded /home/yuncong/project/DavidData2014results/RS141/0000/RS141_x5_0000_gabor-blueNisslWide-segm-blueNisslRegular-vq-blueNissl_matchings0With1.pkl\n"
       ]
      }
     ],
     "prompt_number": 7
    },
    {
     "cell_type": "code",
     "collapsed": false,
     "input": [
      "dual_image = dm_prev.load_pipeline_result('matchedBoundaries%dWith%dSideBySide'%(sec,sec+1), 'jpg')\n",
      "\n",
      "plt.figure(figsize=(20,20));\n",
      "plt.imshow(dual_image);\n",
      "plt.axis('off');"
     ],
     "language": "python",
     "metadata": {},
     "outputs": [
      {
       "output_type": "stream",
       "stream": "stdout",
       "text": [
        "loaded /home/yuncong/project/DavidData2014results/RS141/0000/RS141_x5_0000_gabor-blueNisslWide-segm-blueNisslRegular-vq-blueNissl_matchedBoundaries0With1SideBySide.jpg\n"
       ]
      }
     ],
     "prompt_number": 8
    },
    {
     "cell_type": "code",
     "collapsed": false,
     "input": [
      "wrong_matchings = [2, 5, 6, 8, 9, 10, 12, 14]"
     ],
     "language": "python",
     "metadata": {},
     "outputs": [],
     "prompt_number": 9
    },
    {
     "cell_type": "code",
     "collapsed": false,
     "input": [
      "for ind in wrong_matchings:\n",
      "    score, i, j = matchings_prev_with_next[ind]\n",
      "    print 'matching', ind, '(boundary', i, 'of section', sec, 'and boundary', j, 'of section', sec+1, ') is wrong'\n",
      "    print len(supporters_prev[i]), len(supporters_next[j])"
     ],
     "language": "python",
     "metadata": {},
     "outputs": [],
     "prompt_number": 10
    },
    {
     "cell_type": "code",
     "collapsed": false,
     "input": [],
     "language": "python",
     "metadata": {},
     "outputs": []
    }
   ],
   "metadata": {}
  }
 ]
}