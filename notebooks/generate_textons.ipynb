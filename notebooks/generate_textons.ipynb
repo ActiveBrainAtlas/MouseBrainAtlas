{
 "metadata": {
  "name": "",
  "signature": "sha256:1071a118f905cf34098fa92d5e1a0476b2df95f879fd2356e279c4b188a33952"
 },
 "nbformat": 3,
 "nbformat_minor": 0,
 "worksheets": [
  {
   "cells": [
    {
     "cell_type": "code",
     "collapsed": false,
     "input": [
      "%load_ext autoreload\n",
      "%autoreload 2"
     ],
     "language": "python",
     "metadata": {},
     "outputs": [],
     "prompt_number": 1
    },
    {
     "cell_type": "code",
     "collapsed": false,
     "input": [
      "from utilities import *\n",
      "\n",
      "if 'SSH_CONNECTION' in os.environ:\n",
      "    DATA_DIR = '/home/yuncong/DavidData'\n",
      "    REPO_DIR = '/home/yuncong/Brain'\n",
      "else:\n",
      "    DATA_DIR = '/home/yuncong/BrainLocal/DavidData_v3'\n",
      "    REPO_DIR = '/home/yuncong/Brain'\n",
      "\n",
      "dm = DataManager(DATA_DIR, REPO_DIR)\n",
      "\n",
      "class args:\n",
      "    stack_name = 'RS141'\n",
      "    resolution = 'x5'\n",
      "    slice_indices = range(0, 23, 5)\n",
      "#     slice_indices = [1]"
     ],
     "language": "python",
     "metadata": {},
     "outputs": [],
     "prompt_number": 2
    },
    {
     "cell_type": "code",
     "collapsed": false,
     "input": [
      "dm.set_stack(args.stack_name, args.resolution)\n",
      "dm.set_gabor_params(gabor_params_id='blueNisslWide')\n",
      "dm.set_segmentation_params(segm_params_id='blueNissl')\n",
      "dm.set_vq_params(vq_params_id='blueNissl')"
     ],
     "language": "python",
     "metadata": {},
     "outputs": [],
     "prompt_number": 3
    },
    {
     "cell_type": "code",
     "collapsed": false,
     "input": [
      "import random\n",
      "\n",
      "features_fullstack = []\n",
      "\n",
      "sample_per_slice = 1000000/len(args.slice_indices)\n",
      "\n",
      "for slice_ind in args.slice_indices:\n",
      "    print slice_ind\n",
      "    dm.set_slice(slice_ind)\n",
      "    \n",
      "    cropped_features = dm.load_pipeline_result('cropFeatures', 'npy')    \n",
      "    cropped_mask = dm.load_pipeline_result('cropMask', 'npy')\n",
      "    \n",
      "    n_pixels = cropped_features.shape[0]*cropped_features.shape[1]\n",
      "    features_fullstack.append(random.sample(cropped_features[cropped_mask], min(sample_per_slice, n_pixels)))\n",
      "    \n",
      "features_fullstack_all = np.vstack(features_fullstack)\n",
      "\n",
      "n_feature = features_fullstack_all.shape[-1]\n",
      "print n_feature"
     ],
     "language": "python",
     "metadata": {},
     "outputs": [
      {
       "output_type": "stream",
       "stream": "stdout",
       "text": [
        "0\n",
        "loaded /home/yuncong/DavidData/RS141/x5/0000/filterResults/RS141_x5_0000_gabor-blueNisslWide_cropFeatures.npy"
       ]
      },
      {
       "output_type": "stream",
       "stream": "stdout",
       "text": [
        "\n",
        "loaded /home/yuncong/DavidData/RS141/x5/0000/filterResults/RS141_x5_0000_gabor-blueNisslWide_cropMask.npy"
       ]
      },
      {
       "output_type": "stream",
       "stream": "stdout",
       "text": [
        "\n",
        "5"
       ]
      },
      {
       "output_type": "stream",
       "stream": "stdout",
       "text": [
        "\n",
        "loaded /home/yuncong/DavidData/RS141/x5/0005/filterResults/RS141_x5_0005_gabor-blueNisslWide_cropFeatures.npy"
       ]
      },
      {
       "output_type": "stream",
       "stream": "stdout",
       "text": [
        "\n",
        "loaded /home/yuncong/DavidData/RS141/x5/0005/filterResults/RS141_x5_0005_gabor-blueNisslWide_cropMask.npy"
       ]
      },
      {
       "output_type": "stream",
       "stream": "stdout",
       "text": [
        "\n",
        "10"
       ]
      },
      {
       "output_type": "stream",
       "stream": "stdout",
       "text": [
        "\n",
        "loaded /home/yuncong/DavidData/RS141/x5/0010/filterResults/RS141_x5_0010_gabor-blueNisslWide_cropFeatures.npy"
       ]
      },
      {
       "output_type": "stream",
       "stream": "stdout",
       "text": [
        "\n",
        "loaded /home/yuncong/DavidData/RS141/x5/0010/filterResults/RS141_x5_0010_gabor-blueNisslWide_cropMask.npy"
       ]
      },
      {
       "output_type": "stream",
       "stream": "stdout",
       "text": [
        "\n",
        "15"
       ]
      },
      {
       "output_type": "stream",
       "stream": "stdout",
       "text": [
        "\n",
        "loaded /home/yuncong/DavidData/RS141/x5/0015/filterResults/RS141_x5_0015_gabor-blueNisslWide_cropFeatures.npy"
       ]
      },
      {
       "output_type": "stream",
       "stream": "stdout",
       "text": [
        "\n",
        "loaded /home/yuncong/DavidData/RS141/x5/0015/filterResults/RS141_x5_0015_gabor-blueNisslWide_cropMask.npy"
       ]
      },
      {
       "output_type": "stream",
       "stream": "stdout",
       "text": [
        "\n",
        "20"
       ]
      },
      {
       "output_type": "stream",
       "stream": "stdout",
       "text": [
        "\n",
        "loaded /home/yuncong/DavidData/RS141/x5/0020/filterResults/RS141_x5_0020_gabor-blueNisslWide_cropFeatures.npy"
       ]
      },
      {
       "output_type": "stream",
       "stream": "stdout",
       "text": [
        "\n",
        "loaded /home/yuncong/DavidData/RS141/x5/0020/filterResults/RS141_x5_0020_gabor-blueNisslWide_cropMask.npy"
       ]
      },
      {
       "output_type": "stream",
       "stream": "stdout",
       "text": [
        "\n",
        "99"
       ]
      },
      {
       "output_type": "stream",
       "stream": "stdout",
       "text": [
        "\n"
       ]
      }
     ],
     "prompt_number": 4
    },
    {
     "cell_type": "code",
     "collapsed": false,
     "input": [
      "import random\n",
      "import itertools\n",
      "from joblib import Parallel, delayed\n",
      "from scipy.spatial.distance import cdist\n",
      "\n",
      "print '=== compute rotation-invariant texton map using K-Means ==='\n",
      "\n",
      "n_texton = int(dm.vq_params['n_texton'])\n",
      "\n",
      "theta_interval = dm.gabor_params['theta_interval']\n",
      "n_angle = int(180/theta_interval)\n",
      "freq_step = dm.gabor_params['freq_step']\n",
      "freq_max = 1./dm.gabor_params['min_wavelen']\n",
      "freq_min = 1./dm.gabor_params['max_wavelen']\n",
      "n_freq = int(np.log(freq_max/freq_min)/np.log(freq_step)) + 1\n",
      "\n",
      "def compute_dist_per_proc(X_partial, c_all_rot):\n",
      "    D = cdist(X_partial, c_all_rot, 'sqeuclidean')\n",
      "    ci, ri = np.unravel_index(D.argmin(axis=1), (n_texton, n_angle))\n",
      "    return np.c_[ci, ri]\n",
      "\n",
      "n_data = features_fullstack_all.shape[0]\n",
      "n_splits = 1000\n",
      "n_sample = min(int(dm.vq_params['n_sample']), n_data)\n",
      "\n",
      "centroids = np.array(random.sample(features_fullstack_all, n_texton))\n",
      "\n",
      "n_iter = int(dm.vq_params['n_iter'])\n",
      "\n",
      "for iteration in range(n_iter):\n",
      "\n",
      "    data = random.sample(features_fullstack_all, n_sample)\n",
      "\n",
      "    print 'iteration', iteration\n",
      "    centroid_all_rotations = np.vstack([np.concatenate(np.roll(np.split(c, n_freq), i)) \n",
      "                            for c,i in itertools.product(centroids, range(n_angle))])\n",
      "\n",
      "    r = Parallel(n_jobs=16)(delayed(compute_dist_per_proc)(x,c) \n",
      "                    for x, c in zip(np.array_split(data, n_splits, axis=0), \n",
      "                                    itertools.repeat(centroid_all_rotations, n_splits)))\n",
      "    res = np.vstack(r)\n",
      "\n",
      "    labels = res[:,0]\n",
      "    rotations = res[:,1]\n",
      "\n",
      "    centroids_new = np.zeros((n_texton, n_feature))\n",
      "    for d, l, r in itertools.izip(data, labels, rotations):\n",
      "        rot = np.concatenate(np.roll(np.split(d, n_freq), i))\n",
      "        centroids_new[l] += rot\n",
      "\n",
      "    counts = np.bincount(labels, minlength=n_texton)\n",
      "    centroids_new /= counts[:, np.newaxis] # denominator might be zero\n",
      "    centroids_new[counts==0] = centroids[counts==0]\n",
      "    print np.sqrt(np.sum((centroids - centroids_new)**2, axis=1)).mean()\n",
      "\n",
      "    centroids = centroids_new\n",
      "\n",
      "    \n",
      "print centroids.shape\n",
      "dm.save_pipeline_result(centroids, 'textons', 'npy')\n",
      "\n",
      "\n",
      "print 'kmeans completes'"
     ],
     "language": "python",
     "metadata": {},
     "outputs": [
      {
       "output_type": "stream",
       "stream": "stdout",
       "text": [
        "=== compute rotation-invariant texton map using K-Means ===\n",
        "iteration 0\n"
       ]
      },
      {
       "output_type": "stream",
       "stream": "stdout",
       "text": [
        "34.2600920955\n",
        "iteration 1\n"
       ]
      },
      {
       "output_type": "stream",
       "stream": "stdout",
       "text": [
        "19.0806156232\n",
        "iteration 2\n"
       ]
      },
      {
       "output_type": "stream",
       "stream": "stderr",
       "text": [
        "-c:52: RuntimeWarning: invalid value encountered in divide\n"
       ]
      },
      {
       "output_type": "stream",
       "stream": "stdout",
       "text": [
        "19.0651724965\n",
        "iteration 3\n"
       ]
      },
      {
       "output_type": "stream",
       "stream": "stdout",
       "text": [
        "18.2705259263\n",
        "iteration 4\n"
       ]
      },
      {
       "output_type": "stream",
       "stream": "stdout",
       "text": [
        "18.3540055417\n",
        "(100, 99)\n",
        "saved /home/yuncong/DavidData/RS141/x5/RS141_x5_gabor-blueNisslWide-vq-blueNissl_textons.npy\n",
        "kmeans completes\n"
       ]
      }
     ],
     "prompt_number": 5
    },
    {
     "cell_type": "code",
     "collapsed": false,
     "input": [],
     "language": "python",
     "metadata": {},
     "outputs": []
    }
   ],
   "metadata": {}
  }
 ]
}