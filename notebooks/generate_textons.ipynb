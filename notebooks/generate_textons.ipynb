{
 "metadata": {
  "name": "",
  "signature": "sha256:8666479694482e87bb4f91a5b2ab28b115500560d83c73b49ca7dd842157e2f1"
 },
 "nbformat": 3,
 "nbformat_minor": 0,
 "worksheets": [
  {
   "cells": [
    {
     "cell_type": "code",
     "collapsed": false,
     "input": [
      "%load_ext autoreload\n",
      "%autoreload 2"
     ],
     "language": "python",
     "metadata": {},
     "outputs": [],
     "prompt_number": 1
    },
    {
     "cell_type": "code",
     "collapsed": false,
     "input": [
      "from utilities import *\n",
      "\n",
      "if 'SSH_CONNECTION' in os.environ:\n",
      "    DATA_DIR = '/home/yuncong/DavidData'\n",
      "    REPO_DIR = '/home/yuncong/Brain'\n",
      "else:\n",
      "    DATA_DIR = '/home/yuncong/BrainLocal/DavidData_v3'\n",
      "    REPO_DIR = '/home/yuncong/Brain'\n",
      "\n",
      "dm = DataManager(DATA_DIR, REPO_DIR)\n",
      "\n",
      "class args:\n",
      "    stack_name = 'RS141'\n",
      "    resolution = 'x5'\n",
      "    slice_indices = range(0, 23, 5)\n",
      "#     slice_indices = [1]"
     ],
     "language": "python",
     "metadata": {},
     "outputs": [],
     "prompt_number": 2
    },
    {
     "cell_type": "code",
     "collapsed": false,
     "input": [
      "dm.set_stack(args.stack_name, args.resolution)\n",
      "dm.set_gabor_params(gabor_params_id='blueNisslWide')\n",
      "dm.set_segmentation_params(segm_params_id='blueNissl')\n",
      "dm.set_vq_params(vq_params_id='blueNissl')"
     ],
     "language": "python",
     "metadata": {},
     "outputs": [],
     "prompt_number": 3
    },
    {
     "cell_type": "code",
     "collapsed": false,
     "input": [
      "import random\n",
      "\n",
      "features_fullstack = []\n",
      "\n",
      "sample_per_slice = 1000000/len(args.slice_indices)\n",
      "\n",
      "for slice_ind in args.slice_indices:\n",
      "    print slice_ind\n",
      "    dm.set_slice(slice_ind)\n",
      "    \n",
      "    cropped_features = dm.load_pipeline_result('cropFeatures', 'npy')    \n",
      "    cropped_mask = dm.load_pipeline_result('cropMask', 'npy')\n",
      "    \n",
      "    n_pixels = cropped_features.shape[0]*cropped_features.shape[1]\n",
      "    features_fullstack.append(random.sample(cropped_features[cropped_mask], min(sample_per_slice, n_pixels)))\n",
      "    \n",
      "features_fullstack_all = np.vstack(features_fullstack)\n",
      "\n",
      "n_feature = features_fullstack_all.shape[-1]\n",
      "print n_feature"
     ],
     "language": "python",
     "metadata": {},
     "outputs": [
      {
       "output_type": "stream",
       "stream": "stdout",
       "text": [
        "0\n",
        "loaded /home/yuncong/DavidData/RS141/x5/0000/filterResults/RS141_x5_0000_gabor-blueNisslWide_cropFeatures.npy"
       ]
      },
      {
       "output_type": "stream",
       "stream": "stdout",
       "text": [
        "\n",
        "loaded /home/yuncong/DavidData/RS141/x5/0000/filterResults/RS141_x5_0000_gabor-blueNisslWide_cropMask.npy\n",
        "5"
       ]
      },
      {
       "output_type": "stream",
       "stream": "stdout",
       "text": [
        "\n",
        "loaded /home/yuncong/DavidData/RS141/x5/0005/filterResults/RS141_x5_0005_gabor-blueNisslWide_cropFeatures.npy"
       ]
      },
      {
       "output_type": "stream",
       "stream": "stdout",
       "text": [
        "\n",
        "loaded /home/yuncong/DavidData/RS141/x5/0005/filterResults/RS141_x5_0005_gabor-blueNisslWide_cropMask.npy"
       ]
      },
      {
       "output_type": "stream",
       "stream": "stdout",
       "text": [
        "\n",
        "10"
       ]
      },
      {
       "output_type": "stream",
       "stream": "stdout",
       "text": [
        "\n",
        "loaded /home/yuncong/DavidData/RS141/x5/0010/filterResults/RS141_x5_0010_gabor-blueNisslWide_cropFeatures.npy"
       ]
      },
      {
       "output_type": "stream",
       "stream": "stdout",
       "text": [
        "\n",
        "loaded /home/yuncong/DavidData/RS141/x5/0010/filterResults/RS141_x5_0010_gabor-blueNisslWide_cropMask.npy"
       ]
      },
      {
       "output_type": "stream",
       "stream": "stdout",
       "text": [
        "\n",
        "15"
       ]
      },
      {
       "output_type": "stream",
       "stream": "stdout",
       "text": [
        "\n",
        "loaded /home/yuncong/DavidData/RS141/x5/0015/filterResults/RS141_x5_0015_gabor-blueNisslWide_cropFeatures.npy"
       ]
      },
      {
       "output_type": "stream",
       "stream": "stdout",
       "text": [
        "\n",
        "loaded /home/yuncong/DavidData/RS141/x5/0015/filterResults/RS141_x5_0015_gabor-blueNisslWide_cropMask.npy"
       ]
      },
      {
       "output_type": "stream",
       "stream": "stdout",
       "text": [
        "\n",
        "20"
       ]
      },
      {
       "output_type": "stream",
       "stream": "stdout",
       "text": [
        "\n",
        "loaded /home/yuncong/DavidData/RS141/x5/0020/filterResults/RS141_x5_0020_gabor-blueNisslWide_cropFeatures.npy"
       ]
      },
      {
       "output_type": "stream",
       "stream": "stdout",
       "text": [
        "\n",
        "loaded /home/yuncong/DavidData/RS141/x5/0020/filterResults/RS141_x5_0020_gabor-blueNisslWide_cropMask.npy"
       ]
      },
      {
       "output_type": "stream",
       "stream": "stdout",
       "text": [
        "\n",
        "99"
       ]
      },
      {
       "output_type": "stream",
       "stream": "stdout",
       "text": [
        "\n"
       ]
      }
     ],
     "prompt_number": 4
    },
    {
     "cell_type": "code",
     "collapsed": false,
     "input": [
      "n_components = 5\n",
      "\n",
      "from sklearn.decomposition import PCA\n",
      "pca = PCA(n_components=n_components)\n",
      "pca.fit(features_fullstack_all)\n",
      "print(pca.explained_variance_ratio_)\n",
      "\n",
      "features_pca = pca.transform(features_fullstack_all)"
     ],
     "language": "python",
     "metadata": {},
     "outputs": [
      {
       "output_type": "stream",
       "stream": "stdout",
       "text": [
        "[ 0.66658579  0.09681826  0.04882051  0.04599066  0.03442295]\n"
       ]
      }
     ],
     "prompt_number": 7
    },
    {
     "cell_type": "code",
     "collapsed": false,
     "input": [
      "import random\n",
      "import itertools\n",
      "from joblib import Parallel, delayed\n",
      "from scipy.spatial.distance import cdist\n",
      "\n",
      "print '=== compute rotation-invariant texton map using K-Means ==='\n",
      "\n",
      "# n_texton = int(dm.vq_params['n_texton'])\n",
      "\n",
      "\n",
      "theta_interval = dm.gabor_params['theta_interval']\n",
      "n_angle = int(180/theta_interval)\n",
      "freq_step = dm.gabor_params['freq_step']\n",
      "freq_max = 1./dm.gabor_params['min_wavelen']\n",
      "freq_min = 1./dm.gabor_params['max_wavelen']\n",
      "n_freq = int(np.log(freq_max/freq_min)/np.log(freq_step)) + 1\n",
      "\n",
      "def compute_dist_per_proc(X_partial, c_all_rot):\n",
      "    D = cdist(X_partial, c_all_rot, 'sqeuclidean')\n",
      "    ci, ri = np.unravel_index(D.argmin(axis=1), (n_components, n_angle))\n",
      "    return np.c_[ci, ri]\n",
      "\n",
      "n_data = features_pca.shape[0]\n",
      "n_splits = 1000\n",
      "n_sample = min(int(dm.vq_params['n_sample']), n_data)\n",
      "\n",
      "centroids = np.array(random.sample(features_pca, n_components))\n",
      "\n",
      "n_iter = int(dm.vq_params['n_iter'])\n",
      "\n",
      "for iteration in range(n_iter):\n",
      "\n",
      "    data = random.sample(features_pca, n_sample)\n",
      "\n",
      "    print 'iteration', iteration\n",
      "    centroid_all_rotations = np.vstack([np.concatenate(np.roll(np.split(c, n_freq), i)) \n",
      "                            for c,i in itertools.product(centroids, range(n_angle))])\n",
      "\n",
      "    r = Parallel(n_jobs=16)(delayed(compute_dist_per_proc)(x,c) \n",
      "                    for x, c in zip(np.array_split(data, n_splits, axis=0), \n",
      "                                    itertools.repeat(centroid_all_rotations, n_splits)))\n",
      "    res = np.vstack(r)\n",
      "\n",
      "    labels = res[:,0]\n",
      "    rotations = res[:,1]\n",
      "\n",
      "    centroids_new = np.zeros((n_components, n_feature))\n",
      "    for d, l, r in itertools.izip(data, labels, rotations):\n",
      "        rot = np.concatenate(np.roll(np.split(d, n_freq), i))\n",
      "        centroids_new[l] += rot\n",
      "\n",
      "    counts = np.bincount(labels, minlength=n_components)\n",
      "    centroids_new /= counts[:, np.newaxis] # denominator might be zero\n",
      "    centroids_new[counts==0] = centroids[counts==0]\n",
      "    print np.sqrt(np.sum((centroids - centroids_new)**2, axis=1)).mean()\n",
      "\n",
      "    centroids = centroids_new\n",
      "\n",
      "    \n",
      "print centroids.shape\n",
      "# dm.save_pipeline_result(centroids, 'textons', 'npy')\n",
      "\n",
      "\n",
      "print 'kmeans completes'"
     ],
     "language": "python",
     "metadata": {},
     "outputs": [
      {
       "output_type": "stream",
       "stream": "stdout",
       "text": [
        "=== compute rotation-invariant texton map using K-Means ===\n",
        "iteration 0\n"
       ]
      },
      {
       "ename": "ValueError",
       "evalue": "array split does not result in an equal division",
       "output_type": "pyerr",
       "traceback": [
        "\u001b[1;31m---------------------------------------------------------------------------\u001b[0m\n\u001b[1;31mValueError\u001b[0m                                Traceback (most recent call last)",
        "\u001b[1;32m<ipython-input-13-cdc2ee0b7c09>\u001b[0m in \u001b[0;36m<module>\u001b[1;34m()\u001b[0m\n\u001b[0;32m     35\u001b[0m     \u001b[1;32mprint\u001b[0m \u001b[1;34m'iteration'\u001b[0m\u001b[1;33m,\u001b[0m \u001b[0miteration\u001b[0m\u001b[1;33m\u001b[0m\u001b[0m\n\u001b[0;32m     36\u001b[0m     centroid_all_rotations = np.vstack([np.concatenate(np.roll(np.split(c, n_freq), i)) \n\u001b[1;32m---> 37\u001b[1;33m                             for c,i in itertools.product(centroids, range(n_angle))])\n\u001b[0m\u001b[0;32m     38\u001b[0m \u001b[1;33m\u001b[0m\u001b[0m\n\u001b[0;32m     39\u001b[0m     r = Parallel(n_jobs=16)(delayed(compute_dist_per_proc)(x,c) \n",
        "\u001b[1;32m/oasis/projects/nsf/csd181/yuncong/virtualenv-1.9.1/yuncongve/lib/python2.7/site-packages/numpy/lib/shape_base.pyc\u001b[0m in \u001b[0;36msplit\u001b[1;34m(ary, indices_or_sections, axis)\u001b[0m\n\u001b[0;32m    474\u001b[0m         \u001b[0mN\u001b[0m \u001b[1;33m=\u001b[0m \u001b[0mary\u001b[0m\u001b[1;33m.\u001b[0m\u001b[0mshape\u001b[0m\u001b[1;33m[\u001b[0m\u001b[0maxis\u001b[0m\u001b[1;33m]\u001b[0m\u001b[1;33m\u001b[0m\u001b[0m\n\u001b[0;32m    475\u001b[0m         \u001b[1;32mif\u001b[0m \u001b[0mN\u001b[0m \u001b[1;33m%\u001b[0m \u001b[0msections\u001b[0m\u001b[1;33m:\u001b[0m\u001b[1;33m\u001b[0m\u001b[0m\n\u001b[1;32m--> 476\u001b[1;33m             \u001b[1;32mraise\u001b[0m \u001b[0mValueError\u001b[0m\u001b[1;33m(\u001b[0m\u001b[1;34m'array split does not result in an equal division'\u001b[0m\u001b[1;33m)\u001b[0m\u001b[1;33m\u001b[0m\u001b[0m\n\u001b[0m\u001b[0;32m    477\u001b[0m     \u001b[0mres\u001b[0m \u001b[1;33m=\u001b[0m \u001b[0marray_split\u001b[0m\u001b[1;33m(\u001b[0m\u001b[0mary\u001b[0m\u001b[1;33m,\u001b[0m \u001b[0mindices_or_sections\u001b[0m\u001b[1;33m,\u001b[0m \u001b[0maxis\u001b[0m\u001b[1;33m)\u001b[0m\u001b[1;33m\u001b[0m\u001b[0m\n\u001b[0;32m    478\u001b[0m     \u001b[1;32mreturn\u001b[0m \u001b[0mres\u001b[0m\u001b[1;33m\u001b[0m\u001b[0m\n",
        "\u001b[1;31mValueError\u001b[0m: array split does not result in an equal division"
       ]
      }
     ],
     "prompt_number": 13
    },
    {
     "cell_type": "code",
     "collapsed": false,
     "input": [],
     "language": "python",
     "metadata": {},
     "outputs": []
    }
   ],
   "metadata": {}
  }
 ]
}