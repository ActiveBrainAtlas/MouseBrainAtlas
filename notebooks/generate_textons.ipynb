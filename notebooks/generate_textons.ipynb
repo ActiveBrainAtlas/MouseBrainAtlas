{
 "cells": [
  {
   "cell_type": "code",
   "execution_count": 14,
   "metadata": {
    "collapsed": false
   },
   "outputs": [
    {
     "name": "stdout",
     "output_type": "stream",
     "text": [
      "defaultdict(<type 'list'>, {})\n",
      "The autoreload extension is already loaded. To reload it, use:\n",
      "  %reload_ext autoreload\n"
     ]
    }
   ],
   "source": [
    "%load_ext autoreload\n",
    "%autoreload 2\n",
    "\n",
    "dm = DataManager(generate_hierarchy=False, stack='RS141', resol='x5')"
   ]
  },
  {
   "cell_type": "code",
   "execution_count": 15,
   "metadata": {
    "collapsed": false
   },
   "outputs": [
    {
     "name": "stdout",
     "output_type": "stream",
     "text": [
      "/home/yuncong/project/DavidData2014results/RS140/0000/RS140_x5_0000_gabor-blueNisslWide_features_rotated.npy\n",
      "loaded /home/yuncong/project/DavidData2014results/RS140/0000/RS140_x5_0000_gabor-blueNisslWide_features_rotated.npy\n",
      "/home/yuncong/project/DavidData2014results/RS140/0000/RS140_x5_0000_gabor-blueNisslWide-vq-blueNissl_original_centroids.npy\n",
      "loaded /home/yuncong/project/DavidData2014results/RS140/0000/RS140_x5_0000_gabor-blueNisslWide-vq-blueNissl_original_centroids.npy\n"
     ]
    }
   ],
   "source": [
    "n_texton = 100\n",
    "# n_texton = 10\n",
    "\n",
    "# # regular kmeans very slow\n",
    "# from sklearn.cluster import KMeans\n",
    "# kmeans = KMeans(n_clusters=n_texton)\n",
    "\n",
    "features_rotated = dm.load_pipeline_result('features_rotated', 'npy')\n",
    "\n",
    "try:\n",
    "    centroids = dm.load_pipeline_result('original_centroids', 'npy')\n",
    "\n",
    "except:\n",
    "    \n",
    "    from sklearn.cluster import MiniBatchKMeans\n",
    "    kmeans = MiniBatchKMeans(n_clusters=n_texton, batch_size=1000)\n",
    "    # kmeans.fit(features_rotated_pca)\n",
    "    kmeans.fit(features_rotated)\n",
    "    centroids = kmeans.cluster_centers_\n",
    "    # labels = kmeans.labels_\n",
    "\n",
    "    dm.save_pipeline_result(centroids, 'original_centroids', 'npy')"
   ]
  },
  {
   "cell_type": "code",
   "execution_count": 16,
   "metadata": {
    "collapsed": false
   },
   "outputs": [
    {
     "name": "stdout",
     "output_type": "stream",
     "text": [
      "11 reduced textons\n"
     ]
    }
   ],
   "source": [
    "from scipy.cluster.hierarchy import fclusterdata\n",
    "cluster_assignments = fclusterdata(centroids, 1.15, method=\"complete\", criterion=\"inconsistent\")\n",
    "# cluster_assignments = fclusterdata(centroids, 80., method=\"complete\", criterion=\"distance\")\n",
    "\n",
    "reduced_centroids = np.array([centroids[cluster_assignments == i].mean(axis=0) for i in set(cluster_assignments)])\n",
    "\n",
    "n_reduced_texton = len(reduced_centroids)\n",
    "print n_reduced_texton, 'reduced textons'"
   ]
  },
  {
   "cell_type": "code",
   "execution_count": null,
   "metadata": {
    "collapsed": false
   },
   "outputs": [],
   "source": [
    "from sklearn.cluster import MiniBatchKMeans\n",
    "kmeans = MiniBatchKMeans(n_clusters=n_reduced_texton, batch_size=1000, init=reduced_centroids)\n",
    "# kmeans.fit(features_rotated_pca)\n",
    "kmeans.fit(features_rotated)\n",
    "final_centroids = kmeans.cluster_centers_\n",
    "# labels = kmeans.labels_"
   ]
  },
  {
   "cell_type": "code",
   "execution_count": 5,
   "metadata": {
    "collapsed": false
   },
   "outputs": [
    {
     "name": "stdout",
     "output_type": "stream",
     "text": [
      "saved /home/yuncong/project/DavidData2014results/RS140/RS140_x5_gabor-blueNisslWide-vq-blueNissl_textons.npy\n"
     ]
    }
   ],
   "source": [
    "dm.save_pipeline_result(reduced_centroids, 'textons', 'npy')"
   ]
  },
  {
   "cell_type": "code",
   "execution_count": 15,
   "metadata": {
    "collapsed": false
   },
   "outputs": [],
   "source": [
    "# def visualize_features(centroids, n_freq, n_angle, colors=None):\n",
    "#     \"\"\"\n",
    "#     if colors is not None, colorcodes are plotted below feature matrices\n",
    "#     \"\"\"\n",
    "\n",
    "#     import itertools\n",
    "#     from matplotlib import gridspec\n",
    "    \n",
    "#     n_cols = min(10, len(centroids))\n",
    "#     n_rows = int(np.ceil(n_texton/n_cols))\n",
    "        \n",
    "#     vmin = centroids.min()\n",
    "#     vmax = centroids.max()\n",
    "\n",
    "#     fig = plt.figure(figsize=(20,20), facecolor='white')\n",
    "        \n",
    "#     if colors is None:\n",
    "#         gs = gridspec.GridSpec(n_rows, n_cols, width_ratios=[1]*n_cols, height_ratios=[1]*n_rows)\n",
    "#         for r, c in itertools.product(range(n_rows), range(n_cols)):\n",
    "#             i = r * n_cols + c\n",
    "#             if i == len(centroids): break\n",
    "#             ax_mat = fig.add_subplot(gs[r*n_cols+c])\n",
    "#             ax_mat.set_title('texton %d'%i)\n",
    "#             ax_mat.matshow(centroids[i].reshape(n_freq, n_angle), vmin=vmin, vmax=vmax)\n",
    "#             ax_mat.set_xticks([])\n",
    "#             ax_mat.set_yticks([])\n",
    "#     else:\n",
    "#         gs = gridspec.GridSpec(2*n_rows, n_cols, width_ratios=[1]*n_cols, height_ratios=[4,1]*n_rows)\n",
    "#         for r, c in itertools.product(range(n_rows), range(n_cols)):\n",
    "#             i = r * n_cols + c\n",
    "#             if i == len(centroids): break\n",
    "#             ax_mat = fig.add_subplot(gs[r*2*n_cols+c])\n",
    "#             ax_mat.set_title('texton %d'%i)\n",
    "#             ax_mat.matshow(centroids[i].reshape(n_freq, n_angle), vmin=vmin, vmax=vmax)\n",
    "#             ax_mat.set_xticks([])\n",
    "#             ax_mat.set_yticks([])\n",
    "            \n",
    "#             ax_cbox = fig.add_subplot(gs[(r*2+1)*n_cols+c])\n",
    "#             cbox = np.ones((1,2,3))\n",
    "#             cbox[:,:,:] = colors[i]\n",
    "#             ax_cbox.imshow(cbox)\n",
    "#             ax_cbox.set_xticks([])\n",
    "#             ax_cbox.set_yticks([])\n",
    "\n",
    "#     plt.tight_layout()\n",
    "\n",
    "#     plt.show()"
   ]
  },
  {
   "cell_type": "code",
   "execution_count": 16,
   "metadata": {
    "collapsed": false
   },
   "outputs": [],
   "source": [
    "# hc_colors = np.loadtxt('hc_colors.txt', delimiter=',')/ 255.\n",
    "# hc_colors = np.loadtxt('../visualization/high_contrast_colors.txt')/ 255.\n",
    "\n",
    "# hc_colors = np.loadtxt('../visualization/100colors.txt')\n",
    "\n",
    "# hc_colors = np.random.random((n_texton, 3))\n",
    "# np.savetxt('../visualization/100colors.txt', hc_colors)"
   ]
  },
  {
   "cell_type": "code",
   "execution_count": 17,
   "metadata": {
    "collapsed": false
   },
   "outputs": [],
   "source": [
    "# visualize_features(centroids, dm.n_freq, dm.n_angle, colors=hc_colors)"
   ]
  },
  {
   "cell_type": "code",
   "execution_count": 18,
   "metadata": {
    "collapsed": false
   },
   "outputs": [],
   "source": [
    "# visualize_features(reduced_centroids, dm.n_freq, dm.n_angle, colors=hc_colors)"
   ]
  }
 ],
 "metadata": {
  "kernelspec": {
   "display_name": "Python 2",
   "language": "python",
   "name": "python2"
  },
  "language_info": {
   "codemirror_mode": {
    "name": "ipython",
    "version": 2
   },
   "file_extension": ".py",
   "mimetype": "text/x-python",
   "name": "python",
   "nbconvert_exporter": "python",
   "pygments_lexer": "ipython2",
   "version": "2.7.3"
  }
 },
 "nbformat": 4,
 "nbformat_minor": 0
}
