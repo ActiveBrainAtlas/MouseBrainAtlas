{
 "metadata": {
  "name": "",
  "signature": "sha256:7f1fc364b34da348448b82adfbc2cce66083ae92930f9ee2459dff8481348d4e"
 },
 "nbformat": 3,
 "nbformat_minor": 0,
 "worksheets": [
  {
   "cells": [
    {
     "cell_type": "code",
     "collapsed": false,
     "input": [
      "parser = argparse.ArgumentParser(\n",
      "formatter_class=argparse.RawDescriptionHelpFormatter,\n",
      "description='Generate textons from a set of filtered images',\n",
      "epilog=\"\"\"%s\n",
      "\"\"\"%(os.path.basename(sys.argv[0]), ))\n",
      "\n",
      "parser.add_argument(\"stack_name\", type=str, help=\"stack name\")\n",
      "parser.add_argument(\"resolution\", type=str, help=\"resolution string\")\n",
      "parser.add_argument(\"begin_slice\", type=str, help=\"slice number to begin, zero-padding to 4 digits\")\n",
      "parser.add_argument(\"end_slice\", type=str, help=\"slice number to end, zero-padding to 4 digits\")\n",
      "parser.add_argument(\"param_id\", type=str, help=\"parameter identification name\")\n",
      "args = parser.parse_args()\n",
      "\n",
      "data_dir = '/oasis/projects/nsf/csd181/yuncong/DavidData2014v2'\n",
      "repo_dir = '/oasis/projects/nsf/csd181/yuncong/Brain/'\n",
      "params_dir = os.path.join(repo_dir, 'params')\n",
      "\n",
      "class args:\n",
      "    stack_name = 'RS141'\n",
      "    resolution = 'x5'\n",
      "    begin_slice = '0001'\n",
      "    end_slice = '0005'\n",
      "    param_id = 'redNissl'\n"
     ],
     "language": "python",
     "metadata": {},
     "outputs": []
    }
   ],
   "metadata": {}
  }
 ]
}