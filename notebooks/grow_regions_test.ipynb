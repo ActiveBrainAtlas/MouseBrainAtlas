{
 "metadata": {
  "name": "",
  "signature": "sha256:00790c262a2631a548d9ef5b915e46632ad5107835d6befe5ab4e370f5035a25"
 },
 "nbformat": 3,
 "nbformat_minor": 0,
 "worksheets": [
  {
   "cells": [
    {
     "cell_type": "code",
     "collapsed": false,
     "input": [
      "from IPython.external import mathjax; mathjax.install_mathjax()"
     ],
     "language": "python",
     "metadata": {},
     "outputs": [
      {
       "output_type": "stream",
       "stream": "stdout",
       "text": [
        "Downloading mathjax source from https://github.com/mathjax/MathJax/archive/v2.2.tar.gz\n"
       ]
      },
      {
       "ename": "URLError",
       "evalue": "<urlopen error [Errno -2] Name or service not known>",
       "output_type": "pyerr",
       "traceback": [
        "\u001b[1;31m---------------------------------------------------------------------------\u001b[0m\n\u001b[1;31mURLError\u001b[0m                                  Traceback (most recent call last)",
        "\u001b[1;32m<ipython-input-1-4e97e835d7cf>\u001b[0m in \u001b[0;36m<module>\u001b[1;34m()\u001b[0m\n\u001b[1;32m----> 1\u001b[1;33m \u001b[1;32mfrom\u001b[0m \u001b[0mIPython\u001b[0m\u001b[1;33m.\u001b[0m\u001b[0mexternal\u001b[0m \u001b[1;32mimport\u001b[0m \u001b[0mmathjax\u001b[0m\u001b[1;33m;\u001b[0m \u001b[0mmathjax\u001b[0m\u001b[1;33m.\u001b[0m\u001b[0minstall_mathjax\u001b[0m\u001b[1;33m(\u001b[0m\u001b[1;33m)\u001b[0m\u001b[1;33m\u001b[0m\u001b[0m\n\u001b[0m",
        "\u001b[1;32m/usr/local/lib/python2.7/dist-packages/IPython/external/mathjax.pyc\u001b[0m in \u001b[0;36minstall_mathjax\u001b[1;34m(tag, dest, replace, file, extractor)\u001b[0m\n\u001b[0;32m    172\u001b[0m         \u001b[0mmathjax_url\u001b[0m \u001b[1;33m=\u001b[0m \u001b[1;34m\"https://github.com/mathjax/MathJax/archive/%s.tar.gz\"\u001b[0m \u001b[1;33m%\u001b[0m\u001b[0mtag\u001b[0m\u001b[1;33m\u001b[0m\u001b[0m\n\u001b[0;32m    173\u001b[0m         \u001b[1;32mprint\u001b[0m\u001b[1;33m(\u001b[0m\u001b[1;34m\"Downloading mathjax source from %s\"\u001b[0m \u001b[1;33m%\u001b[0m \u001b[0mmathjax_url\u001b[0m\u001b[1;33m)\u001b[0m\u001b[1;33m\u001b[0m\u001b[0m\n\u001b[1;32m--> 174\u001b[1;33m         \u001b[0mresponse\u001b[0m \u001b[1;33m=\u001b[0m \u001b[0murlopen\u001b[0m\u001b[1;33m(\u001b[0m\u001b[0mmathjax_url\u001b[0m\u001b[1;33m)\u001b[0m\u001b[1;33m\u001b[0m\u001b[0m\n\u001b[0m\u001b[0;32m    175\u001b[0m         \u001b[0mfile\u001b[0m \u001b[1;33m=\u001b[0m \u001b[0mresponse\u001b[0m\u001b[1;33m.\u001b[0m\u001b[0mfp\u001b[0m\u001b[1;33m\u001b[0m\u001b[0m\n\u001b[0;32m    176\u001b[0m \u001b[1;33m\u001b[0m\u001b[0m\n",
        "\u001b[1;32m/usr/lib/python2.7/urllib2.pyc\u001b[0m in \u001b[0;36murlopen\u001b[1;34m(url, data, timeout)\u001b[0m\n\u001b[0;32m    125\u001b[0m     \u001b[1;32mif\u001b[0m \u001b[0m_opener\u001b[0m \u001b[1;32mis\u001b[0m \u001b[0mNone\u001b[0m\u001b[1;33m:\u001b[0m\u001b[1;33m\u001b[0m\u001b[0m\n\u001b[0;32m    126\u001b[0m         \u001b[0m_opener\u001b[0m \u001b[1;33m=\u001b[0m \u001b[0mbuild_opener\u001b[0m\u001b[1;33m(\u001b[0m\u001b[1;33m)\u001b[0m\u001b[1;33m\u001b[0m\u001b[0m\n\u001b[1;32m--> 127\u001b[1;33m     \u001b[1;32mreturn\u001b[0m \u001b[0m_opener\u001b[0m\u001b[1;33m.\u001b[0m\u001b[0mopen\u001b[0m\u001b[1;33m(\u001b[0m\u001b[0murl\u001b[0m\u001b[1;33m,\u001b[0m \u001b[0mdata\u001b[0m\u001b[1;33m,\u001b[0m \u001b[0mtimeout\u001b[0m\u001b[1;33m)\u001b[0m\u001b[1;33m\u001b[0m\u001b[0m\n\u001b[0m\u001b[0;32m    128\u001b[0m \u001b[1;33m\u001b[0m\u001b[0m\n\u001b[0;32m    129\u001b[0m \u001b[1;32mdef\u001b[0m \u001b[0minstall_opener\u001b[0m\u001b[1;33m(\u001b[0m\u001b[0mopener\u001b[0m\u001b[1;33m)\u001b[0m\u001b[1;33m:\u001b[0m\u001b[1;33m\u001b[0m\u001b[0m\n",
        "\u001b[1;32m/usr/lib/python2.7/urllib2.pyc\u001b[0m in \u001b[0;36mopen\u001b[1;34m(self, fullurl, data, timeout)\u001b[0m\n\u001b[0;32m    402\u001b[0m             \u001b[0mreq\u001b[0m \u001b[1;33m=\u001b[0m \u001b[0mmeth\u001b[0m\u001b[1;33m(\u001b[0m\u001b[0mreq\u001b[0m\u001b[1;33m)\u001b[0m\u001b[1;33m\u001b[0m\u001b[0m\n\u001b[0;32m    403\u001b[0m \u001b[1;33m\u001b[0m\u001b[0m\n\u001b[1;32m--> 404\u001b[1;33m         \u001b[0mresponse\u001b[0m \u001b[1;33m=\u001b[0m \u001b[0mself\u001b[0m\u001b[1;33m.\u001b[0m\u001b[0m_open\u001b[0m\u001b[1;33m(\u001b[0m\u001b[0mreq\u001b[0m\u001b[1;33m,\u001b[0m \u001b[0mdata\u001b[0m\u001b[1;33m)\u001b[0m\u001b[1;33m\u001b[0m\u001b[0m\n\u001b[0m\u001b[0;32m    405\u001b[0m \u001b[1;33m\u001b[0m\u001b[0m\n\u001b[0;32m    406\u001b[0m         \u001b[1;31m# post-process response\u001b[0m\u001b[1;33m\u001b[0m\u001b[1;33m\u001b[0m\u001b[0m\n",
        "\u001b[1;32m/usr/lib/python2.7/urllib2.pyc\u001b[0m in \u001b[0;36m_open\u001b[1;34m(self, req, data)\u001b[0m\n\u001b[0;32m    420\u001b[0m         \u001b[0mprotocol\u001b[0m \u001b[1;33m=\u001b[0m \u001b[0mreq\u001b[0m\u001b[1;33m.\u001b[0m\u001b[0mget_type\u001b[0m\u001b[1;33m(\u001b[0m\u001b[1;33m)\u001b[0m\u001b[1;33m\u001b[0m\u001b[0m\n\u001b[0;32m    421\u001b[0m         result = self._call_chain(self.handle_open, protocol, protocol +\n\u001b[1;32m--> 422\u001b[1;33m                                   '_open', req)\n\u001b[0m\u001b[0;32m    423\u001b[0m         \u001b[1;32mif\u001b[0m \u001b[0mresult\u001b[0m\u001b[1;33m:\u001b[0m\u001b[1;33m\u001b[0m\u001b[0m\n\u001b[0;32m    424\u001b[0m             \u001b[1;32mreturn\u001b[0m \u001b[0mresult\u001b[0m\u001b[1;33m\u001b[0m\u001b[0m\n",
        "\u001b[1;32m/usr/lib/python2.7/urllib2.pyc\u001b[0m in \u001b[0;36m_call_chain\u001b[1;34m(self, chain, kind, meth_name, *args)\u001b[0m\n\u001b[0;32m    380\u001b[0m             \u001b[0mfunc\u001b[0m \u001b[1;33m=\u001b[0m \u001b[0mgetattr\u001b[0m\u001b[1;33m(\u001b[0m\u001b[0mhandler\u001b[0m\u001b[1;33m,\u001b[0m \u001b[0mmeth_name\u001b[0m\u001b[1;33m)\u001b[0m\u001b[1;33m\u001b[0m\u001b[0m\n\u001b[0;32m    381\u001b[0m \u001b[1;33m\u001b[0m\u001b[0m\n\u001b[1;32m--> 382\u001b[1;33m             \u001b[0mresult\u001b[0m \u001b[1;33m=\u001b[0m \u001b[0mfunc\u001b[0m\u001b[1;33m(\u001b[0m\u001b[1;33m*\u001b[0m\u001b[0margs\u001b[0m\u001b[1;33m)\u001b[0m\u001b[1;33m\u001b[0m\u001b[0m\n\u001b[0m\u001b[0;32m    383\u001b[0m             \u001b[1;32mif\u001b[0m \u001b[0mresult\u001b[0m \u001b[1;32mis\u001b[0m \u001b[1;32mnot\u001b[0m \u001b[0mNone\u001b[0m\u001b[1;33m:\u001b[0m\u001b[1;33m\u001b[0m\u001b[0m\n\u001b[0;32m    384\u001b[0m                 \u001b[1;32mreturn\u001b[0m \u001b[0mresult\u001b[0m\u001b[1;33m\u001b[0m\u001b[0m\n",
        "\u001b[1;32m/usr/lib/python2.7/urllib2.pyc\u001b[0m in \u001b[0;36mhttps_open\u001b[1;34m(self, req)\u001b[0m\n\u001b[0;32m   1220\u001b[0m \u001b[1;33m\u001b[0m\u001b[0m\n\u001b[0;32m   1221\u001b[0m         \u001b[1;32mdef\u001b[0m \u001b[0mhttps_open\u001b[0m\u001b[1;33m(\u001b[0m\u001b[0mself\u001b[0m\u001b[1;33m,\u001b[0m \u001b[0mreq\u001b[0m\u001b[1;33m)\u001b[0m\u001b[1;33m:\u001b[0m\u001b[1;33m\u001b[0m\u001b[0m\n\u001b[1;32m-> 1222\u001b[1;33m             \u001b[1;32mreturn\u001b[0m \u001b[0mself\u001b[0m\u001b[1;33m.\u001b[0m\u001b[0mdo_open\u001b[0m\u001b[1;33m(\u001b[0m\u001b[0mhttplib\u001b[0m\u001b[1;33m.\u001b[0m\u001b[0mHTTPSConnection\u001b[0m\u001b[1;33m,\u001b[0m \u001b[0mreq\u001b[0m\u001b[1;33m)\u001b[0m\u001b[1;33m\u001b[0m\u001b[0m\n\u001b[0m\u001b[0;32m   1223\u001b[0m \u001b[1;33m\u001b[0m\u001b[0m\n\u001b[0;32m   1224\u001b[0m         \u001b[0mhttps_request\u001b[0m \u001b[1;33m=\u001b[0m \u001b[0mAbstractHTTPHandler\u001b[0m\u001b[1;33m.\u001b[0m\u001b[0mdo_request_\u001b[0m\u001b[1;33m\u001b[0m\u001b[0m\n",
        "\u001b[1;32m/usr/lib/python2.7/urllib2.pyc\u001b[0m in \u001b[0;36mdo_open\u001b[1;34m(self, http_class, req)\u001b[0m\n\u001b[0;32m   1182\u001b[0m         \u001b[1;32mexcept\u001b[0m \u001b[0msocket\u001b[0m\u001b[1;33m.\u001b[0m\u001b[0merror\u001b[0m\u001b[1;33m,\u001b[0m \u001b[0merr\u001b[0m\u001b[1;33m:\u001b[0m \u001b[1;31m# XXX what error?\u001b[0m\u001b[1;33m\u001b[0m\u001b[0m\n\u001b[0;32m   1183\u001b[0m             \u001b[0mh\u001b[0m\u001b[1;33m.\u001b[0m\u001b[0mclose\u001b[0m\u001b[1;33m(\u001b[0m\u001b[1;33m)\u001b[0m\u001b[1;33m\u001b[0m\u001b[0m\n\u001b[1;32m-> 1184\u001b[1;33m             \u001b[1;32mraise\u001b[0m \u001b[0mURLError\u001b[0m\u001b[1;33m(\u001b[0m\u001b[0merr\u001b[0m\u001b[1;33m)\u001b[0m\u001b[1;33m\u001b[0m\u001b[0m\n\u001b[0m\u001b[0;32m   1185\u001b[0m         \u001b[1;32melse\u001b[0m\u001b[1;33m:\u001b[0m\u001b[1;33m\u001b[0m\u001b[0m\n\u001b[0;32m   1186\u001b[0m             \u001b[1;32mtry\u001b[0m\u001b[1;33m:\u001b[0m\u001b[1;33m\u001b[0m\u001b[0m\n",
        "\u001b[1;31mURLError\u001b[0m: <urlopen error [Errno -2] Name or service not known>"
       ]
      }
     ],
     "prompt_number": 1
    },
    {
     "cell_type": "code",
     "collapsed": false,
     "input": [
      "%load_ext autoreload\n",
      "%autoreload 2"
     ],
     "language": "python",
     "metadata": {},
     "outputs": [],
     "prompt_number": 2
    },
    {
     "cell_type": "code",
     "collapsed": false,
     "input": [
      "from utilities import *\n",
      "\n",
      "if 'SSH_CONNECTION' in os.environ:\n",
      "    DATA_DIR = '/home/yuncong/DavidData'\n",
      "    REPO_DIR = '/home/yuncong/Brain'\n",
      "else:\n",
      "    DATA_DIR = '/home/yuncong/BrainLocal/DavidData_v4'\n",
      "    REPO_DIR = '/home/yuncong/Brain'\n",
      "\n",
      "dm = DataManager(DATA_DIR, REPO_DIR)\n",
      "\n",
      "class args:\n",
      "    stack_name = 'RS141'\n",
      "    resolution = 'x5'\n",
      "    slice_ind = 1\n",
      "    gabor_params_id = 'blueNisslWide'\n",
      "    segm_params_id = 'blueNissl'\n",
      "    vq_params_id = 'blueNissl'\n",
      "\n",
      "dm.set_image(args.stack_name, args.resolution, args.slice_ind)\n",
      "dm.set_gabor_params(gabor_params_id=args.gabor_params_id)\n",
      "dm.set_segmentation_params(segm_params_id=args.segm_params_id)\n",
      "dm.set_vq_params(vq_params_id=args.vq_params_id)\n",
      "\n",
      "from joblib import Parallel, delayed\n",
      "\n",
      "n_texton = int(dm.vq_params['n_texton'])\n",
      "\n",
      "texton_hists = dm.load_pipeline_result('texHist', 'npy')\n",
      "\n",
      "cropped_segmentation = dm.load_pipeline_result('cropSegmentation', 'npy')\n",
      "n_superpixels = len(np.unique(cropped_segmentation)) - 1\n",
      "cropped_mask = dm.load_pipeline_result('cropMask', 'npy')\n",
      "\n",
      "textonmap = dm.load_pipeline_result('texMap', 'npy')\n",
      "neighbors = dm.load_pipeline_result('neighbors', 'npy')\n",
      "\n",
      "cropped_image = dm.load_pipeline_result('cropImg', 'tif')\n"
     ],
     "language": "python",
     "metadata": {},
     "outputs": [
      {
       "output_type": "stream",
       "stream": "stdout",
       "text": [
        "loaded /home/yuncong/BrainLocal/DavidData_v4/RS141/x5/0001/histResults/RS141_x5_0001_gabor-blueNisslWide-segm-blueNissl-vq-blueNissl_texHist.npy\n",
        "loaded /home/yuncong/BrainLocal/DavidData_v4/RS141/x5/0001/segmResults/RS141_x5_0001_gabor-blueNisslWide-segm-blueNissl_cropSegmentation.npy"
       ]
      },
      {
       "output_type": "stream",
       "stream": "stdout",
       "text": [
        "\n",
        "loaded /home/yuncong/BrainLocal/DavidData_v4/RS141/x5/0001/filterResults/RS141_x5_0001_gabor-blueNisslWide_cropMask.npy"
       ]
      },
      {
       "output_type": "stream",
       "stream": "stdout",
       "text": [
        "\n",
        "loaded /home/yuncong/BrainLocal/DavidData_v4/RS141/x5/0001/vqResults/RS141_x5_0001_gabor-blueNisslWide-vq-blueNissl_texMap.npy"
       ]
      },
      {
       "output_type": "stream",
       "stream": "stdout",
       "text": [
        "\n",
        "loaded /home/yuncong/BrainLocal/DavidData_v4/RS141/x5/0001/segmResults/RS141_x5_0001_gabor-blueNisslWide-segm-blueNissl_neighbors.npy\n",
        "loaded /home/yuncong/BrainLocal/DavidData_v4/RS141/x5/0001/filterResults/RS141_x5_0001_gabor-blueNisslWide_cropImg.tif"
       ]
      },
      {
       "output_type": "stream",
       "stream": "stdout",
       "text": [
        "\n"
       ]
      }
     ],
     "prompt_number": 3
    },
    {
     "cell_type": "code",
     "collapsed": false,
     "input": [
      "sp_props = dm.load_pipeline_result('cropSpProps', 'npy')"
     ],
     "language": "python",
     "metadata": {},
     "outputs": [
      {
       "output_type": "stream",
       "stream": "stdout",
       "text": [
        "loaded /home/yuncong/BrainLocal/DavidData_v4/RS141/x5/0001/segmResults/RS141_x5_0001_gabor-blueNisslWide-segm-blueNissl_cropSpProps.npy\n"
       ]
      }
     ],
     "prompt_number": 4
    },
    {
     "cell_type": "code",
     "collapsed": false,
     "input": [
      "from scipy.spatial.distance import cdist\n",
      "\n",
      "overall_texton_hist = np.bincount(textonmap[cropped_mask].flat)\n",
      "\n",
      "overall_texton_hist_normalized = overall_texton_hist.astype(np.float) / overall_texton_hist.sum()\n",
      "\n",
      "D_sp_null = np.squeeze(cdist(texton_hists, [overall_texton_hist_normalized], chi2))\n",
      "\n",
      "# distance2null_map = D_sp_null[cropped_segmentation].copy()\n",
      "# distance2null_map[~cropped_mask] = 0\n",
      "# plt.matshow(distance2null_map)\n",
      "# plt.colorbar()\n"
     ],
     "language": "python",
     "metadata": {},
     "outputs": [
      {
       "output_type": "stream",
       "stream": "stderr",
       "text": [
        "utilities.py:495: RuntimeWarning: invalid value encountered in divide\n",
        "  r = np.nansum((u-v)**2/(u+v))\n"
       ]
      }
     ],
     "prompt_number": 5
    },
    {
     "cell_type": "code",
     "collapsed": false,
     "input": [
      "def compute_cluster_score(cluster, surround, texton_hists, D_sp_null):\n",
      "    \n",
      "    avg = texton_hists[list(cluster)].mean(axis=0)\n",
      "    avg_sp_distances = np.squeeze(cdist([model], texton_hists[list(cluster)], chi2))\n",
      "    avg_sp_total_distance = np.sum(D_model_sp)\n",
      "    \n",
      "    null_sp_total_distance = np.sum(D_null_sp[list(cluster)])\n",
      "    \n",
      "    avg_surround_distances = np.squeeze(cdist([avg], texton_hists[list(surround)], chi2))\n",
      "    avg_surround_distance = avg_surround_distances.mean()\n",
      "    \n",
      "    print avg_sp_total_distance, null_sp_total_distance, avg_surround_distance\n",
      "    "
     ],
     "language": "python",
     "metadata": {},
     "outputs": [],
     "prompt_number": 55
    },
    {
     "cell_type": "code",
     "collapsed": false,
     "input": [
      "# def compute_cluster_score(cluster, texton_hists, D_sp_null):\n",
      "#     model = texton_hists[list(cluster)].mean(axis=0)\n",
      "#     D_sp_model = np.squeeze(cdist([model], texton_hists[list(cluster)], chi2))\n",
      "#     model_sum = np.sum(D_sp_model)\n",
      "#     null_sum = np.sum(D_sp_null[list(cluster)])\n",
      "#     # can be made weighted by superpixel size\n",
      "    \n",
      "#     score = null_sum - model_sum\n",
      "#     return score, null_sum, model_sum"
     ],
     "language": "python",
     "metadata": {},
     "outputs": [],
     "prompt_number": 6
    },
    {
     "cell_type": "code",
     "collapsed": false,
     "input": [
      "# def grow_cluster(seed, neighbors, texton_hists, D_sp_null, model_fit_reduce_limit=.5):\n",
      "    \n",
      "#     curr_cluster = set([seed])\n",
      "#     frontier = [seed]\n",
      "    \n",
      "#     curr_cluster_score, _, curr_model_score = compute_cluster_score(curr_cluster, texton_hists, D_sp_null)\n",
      "    \n",
      "#     while len(frontier) > 0:\n",
      "#         u = frontier.pop(-1)\n",
      "#         for v in neighbors[u]:\n",
      "#             if v == -1 or v in curr_cluster: \n",
      "#                 continue\n",
      "\n",
      "#             score_new, _, model_sum_new = compute_cluster_score(curr_cluster | set([v]), texton_hists, D_sp_null)\n",
      "            \n",
      "#             if score_new > curr_cluster_score and model_sum_new - curr_model_score < model_fit_reduce_limit :\n",
      "#                 curr_cluster.add(v)\n",
      "#                 frontier.append(v)\n",
      "#                 curr_cluster_score, _, curr_model_score = compute_cluster_score(curr_cluster, texton_hists, D_sp_null)\n",
      "            \n",
      "#             if len(curr_cluster) > 50:\n",
      "#                 return curr_cluster\n",
      "            \n",
      "#     return curr_cluster"
     ],
     "language": "python",
     "metadata": {},
     "outputs": [],
     "prompt_number": 7
    },
    {
     "cell_type": "code",
     "collapsed": false,
     "input": [
      "# seed = 2046\n",
      "# seed = 1950\n",
      "# seed = 387\n",
      "# seed = 378\n",
      "# seed = 284\n",
      "# seed = 1737\n",
      "# seed = 1705\n",
      "# seed = 1951\n",
      "# seed = 905\n",
      "seed = 399\n",
      "    \n",
      "curr_cluster = set([seed])\n",
      "frontier = [seed]\n",
      "surrounds = set([])\n",
      "curr_frontier = set([])\n",
      "\n",
      "model_fit_reduce_limit = .5\n",
      "\n",
      "scores = []\n",
      "model_distances = []\n",
      "null_distances = []\n",
      "\n",
      "interior = set([])\n",
      "\n",
      "# curr_cluster_score, curr_null_distance, curr_model_distance = compute_cluster_score(curr_cluster, texton_hists, D_sp_null)\n",
      "\n",
      "\n",
      "from numpy import random\n",
      "\n",
      "# while len(frontier) > 0:\n",
      "        \n",
      "\n",
      "\n",
      "#     print new_frontier\n",
      "    \n",
      "    \n",
      "c = 0\n",
      "\n",
      "to_test = set([seed])\n",
      "\n",
      "while len(to_test) > 0:\n",
      "\n",
      "#     for u in curr_cluster:\n",
      "#         if neighbors[u] <= curr_cluster:\n",
      "#             interior.add(u)\n",
      "\n",
      "#     frontier = curr_cluster - interior\n",
      "    \n",
      "    print 'curr_cluster', curr_cluster\n",
      "\n",
      "#     print 'frontier', frontier\n",
      "\n",
      "    to_test = set.union(*[neighbors[v] for v in curr_cluster]) - curr_cluster\n",
      "\n",
      "    print 'to_test', to_test\n",
      "    \n",
      "    u = list(to_test)[random.randint(len(to_test))]\n",
      "    \n",
      "    if\n",
      "        curr_cluster.add(u)\n",
      "        \n",
      "        compute_cluster_score(cluster, to_test, texton_hists, D_sp_null)\n",
      "    \n",
      "    c += 1\n",
      "    \n",
      "    if c > 60:\n",
      "        break\n",
      "        \n",
      "\n",
      "#     while len(frontier) > 0\n",
      "        \n",
      "#         if v == -1 or v in curr_cluster: \n",
      "#             continue\n",
      "            \n",
      "#         score_new, _, model_sum_new = compute_cluster_score(curr_cluster | set([v]), texton_hists, D_sp_null)\n",
      "\n",
      "# #         if score_new > curr_cluster_score and model_sum_new - curr_model_score < model_fit_reduce_limit :\n",
      "#         if len(curr_cluster) < 20:\n",
      "#             curr_cluster.add(v)\n",
      "#             frontier.append(v)\n",
      "#             curr_cluster_score, curr_null_distance, curr_model_distance = compute_cluster_score(curr_cluster, texton_hists, D_sp_null)\n",
      "            \n",
      "#             scores.append(curr_cluster_score)\n",
      "#             null_distances.append(curr_null_distance)\n",
      "#             model_distances.append(curr_model_distance)\n",
      "                    \n",
      "#             print curr_cluster"
     ],
     "language": "python",
     "metadata": {},
     "outputs": [
      {
       "output_type": "stream",
       "stream": "stdout",
       "text": [
        "curr_cluster set([399])\n",
        "to_test set([387, 327, 458, 428, 527, 496, 376])\n",
        "curr_cluster set([527, 399])\n",
        "to_test set([610, 387, 327, 458, 428, 589, 496, 376, 604, 478])\n",
        "curr_cluster set([527, 399])\n",
        "to_test set([610, 387, 327, 458, 428, 589, 496, 376, 604, 478])\n",
        "curr_cluster set([527, 399])\n",
        "to_test set([610, 387, 327, 458, 428, 589, 496, 376, 604, 478])\n",
        "curr_cluster set([527, 399])\n",
        "to_test set([610, 387, 327, 458, 428, 589, 496, 376, 604, 478])\n",
        "curr_cluster set([527, 399])\n",
        "to_test set([610, 387, 327, 458, 428, 589, 496, 376, 604, 478])\n",
        "curr_cluster set([527, 399])\n",
        "to_test set([610, 387, 327, 458, 428, 589, 496, 376, 604, 478])\n",
        "curr_cluster set([376, 527, 399])\n",
        "to_test set([336, 610, 387, 261, 327, 458, 428, 589, 496, 604, 478])\n",
        "curr_cluster set([376, 527, 261, 399])\n",
        "to_test set([208, 610, 387, 327, 233, 458, 428, 589, 336, 308, 496, 281, 218, 604, 478])\n",
        "curr_cluster set([376, 527, 261, 399])\n",
        "to_test set([208, 610, 387, 327, 233, 458, 428, 589, 336, 308, 496, 281, 218, 604, 478])\n",
        "curr_cluster set([376, 496, 527, 261, 399])\n",
        "to_test set([208, 610, 387, 327, 233, 458, 588, 589, 336, 308, 510, 281, 218, 428, 604, 478, 447])\n",
        "curr_cluster set([261, 589, 527, 496, 376, 399])\n",
        "to_test set([640, 672, 610, 387, 327, 233, 458, 588, 336, 208, 308, 510, 281, 218, 428, 604, 669, 478, 447])\n",
        "curr_cluster set([261, 589, 527, 496, 376, 399])\n",
        "to_test set([640, 672, 610, 387, 327, 233, 458, 588, 336, 208, 308, 510, 281, 218, 428, 604, 669, 478, 447])\n",
        "curr_cluster set([261, 589, 527, 496, 376, 399, 510])\n",
        "to_test set([640, 672, 610, 387, 327, 233, 458, 588, 493, 336, 208, 308, 565, 281, 409, 218, 428, 604, 669, 478, 447])\n",
        "curr_cluster set([261, 589, 527, 496, 376, 399, 510])\n",
        "to_test set([640, 672, 610, 387, 327, 233, 458, 588, 493, 336, 208, 308, 565, 281, 409, 218, 428, 604, 669, 478, 447])\n",
        "curr_cluster set([261, 589, 527, 496, 478, 376, 399, 510])\n",
        "to_test set([640, 387, 409, 281, 669, 544, 422, 428, 308, 565, 447, 672, 327, 458, 588, 336, 218, 604, 208, 610, 488, 233, 493])\n",
        "curr_cluster set([610, 261, 589, 527, 496, 478, 376, 399, 510])\n",
        "to_test set([640, 387, 653, 409, 281, 669, 544, 422, 428, 308, 565, 447, 672, 327, 458, 588, 336, 218, 604, 208, 488, 233, 493])\n",
        "curr_cluster set([610, 387, 261, 589, 527, 496, 478, 376, 399, 510])\n",
        "to_test set([640, 653, 409, 281, 669, 544, 422, 428, 308, 565, 309, 672, 327, 458, 588, 336, 218, 604, 208, 488, 233, 493, 447, 383])\n",
        "curr_cluster set([610, 387, 261, 589, 527, 496, 478, 376, 399, 510, 565])\n",
        "to_test set([640, 653, 409, 281, 666, 669, 544, 422, 428, 308, 309, 447, 672, 327, 458, 588, 591, 336, 218, 604, 208, 487, 488, 233, 493, 383])\n",
        "curr_cluster set([610, 387, 261, 589, 527, 496, 478, 376, 399, 510, 565])\n",
        "to_test set([640, 653, 409, 281, 666, 669, 544, 422, 428, 308, 309, 447, 672, 327, 458, 588, 591, 336, 218, 604, 208, 487, 488, 233, 493, 383])\n",
        "curr_cluster set([610, 387, 261, 447, 589, 527, 496, 478, 376, 399, 510, 565])\n",
        "to_test set([640, 653, 409, 281, 666, 669, 544, 422, 428, 308, 309, 672, 327, 458, 588, 591, 336, 218, 604, 208, 487, 488, 233, 493, 383])\n",
        "curr_cluster set([610, 387, 261, 447, 589, 527, 496, 478, 376, 399, 510, 565])\n",
        "to_test set([640, 653, 409, 281, 666, 669, 544, 422, 428, 308, 309, 672, 327, 458, 588, 591, 336, 218, 604, 208, 487, 488, 233, 493, 383])\n",
        "curr_cluster set([640, 610, 387, 261, 447, 589, 527, 496, 478, 376, 399, 510, 565])\n",
        "to_test set([653, 281, 409, 666, 669, 544, 422, 428, 308, 309, 697, 672, 327, 458, 588, 591, 208, 218, 604, 735, 336, 487, 488, 233, 493, 383])\n",
        "curr_cluster set([640, 610, 387, 261, 447, 589, 527, 496, 478, 376, 399, 510, 565])\n",
        "to_test set([653, 281, 409, 666, 669, 544, 422, 428, 308, 309, 697, 672, 327, 458, 588, 591, 208, 218, 604, 735, 336, 487, 488, 233, 493, 383])\n",
        "curr_cluster set([640, 610, 387, 261, 233, 447, 589, 527, 496, 478, 376, 399, 510, 565])\n",
        "to_test set([653, 281, 409, 666, 669, 544, 162, 422, 428, 308, 309, 697, 672, 327, 458, 588, 591, 208, 218, 604, 735, 336, 487, 488, 493, 238, 383])\n",
        "curr_cluster set([640, 610, 387, 261, 162, 233, 447, 589, 527, 496, 478, 376, 399, 510, 565])\n",
        "to_test set([653, 153, 409, 666, 669, 672, 422, 169, 428, 308, 309, 697, 544, 327, 458, 588, 591, 208, 218, 604, 735, 336, 102, 487, 488, 106, 493, 238, 281, 383])\n",
        "curr_cluster set([640, 610, 387, 261, 162, 233, 447, 589, 527, 496, 478, 376, 399, 510, 565])\n",
        "to_test set([653, 153, 409, 666, 669, 672, 422, 169, 428, 308, 309, 697, 544, 327, 458, 588, 591, 208, 218, 604, 735, 336, 102, 487, 488, 106, 493, 238, 281, 383])\n",
        "curr_cluster set([640, 610, 387, 261, 162, 233, 447, 589, 527, 496, 478, 376, 218, 399, 510, 565])\n",
        "to_test set([653, 153, 409, 666, 669, 672, 161, 422, 169, 428, 308, 309, 697, 187, 544, 327, 458, 588, 591, 208, 604, 735, 336, 102, 487, 488, 106, 493, 238, 281, 383])\n",
        "curr_cluster set([640, 610, 387, 261, 162, 233, 447, 589, 527, 496, 187, 478, 376, 218, 399, 510, 565])\n",
        "to_test set([260, 653, 147, 153, 409, 666, 156, 669, 672, 161, 422, 169, 428, 308, 309, 697, 544, 327, 458, 588, 591, 208, 604, 735, 336, 102, 487, 488, 106, 225, 493, 238, 281, 383])\n",
        "curr_cluster set([640, 610, 387, 147, 261, 162, 233, 447, 589, 527, 496, 187, 478, 376, 218, 399, 510, 565])\n",
        "to_test set([260, 653, 153, 409, 666, 156, 669, 672, 161, 422, 169, 428, 308, 309, 697, 735, 544, 327, 458, 588, 591, 208, 604, 95, 336, 98, 102, 487, 488, 106, 225, 493, 238, 281, 383])\n",
        "curr_cluster set([640, 610, 387, 147, 261, 162, 233, 447, 589, 527, 496, 187, 478, 376, 218, 399, 510, 565])\n",
        "to_test set([260, 653, 153, 409, 666, 156, 669, 672, 161, 422, 169, 428, 308, 309, 697, 735, 544, 327, 458, 588, 591, 208, 604, 95, 336, 98, 102, 487, 488, 106, 225, 493, 238, 281, 383])\n",
        "curr_cluster set([640, 610, 387, 147, 261, 162, 233, 447, 589, 527, 496, 187, 478, 376, 218, 399, 510, 565])\n",
        "to_test set([260, 653, 153, 409, 666, 156, 669, 672, 161, 422, 169, 428, 308, 309, 697, 735, 544, 327, 458, 588, 591, 208, 604, 95, 336, 98, 102, 487, 488, 106, 225, 493, 238, 281, 383])\n",
        "curr_cluster set([640, 610, 387, 147, 261, 162, 233, 447, 589, 527, 496, 187, 478, 376, 218, 399, 510, 565])\n",
        "to_test set([260, 653, 153, 409, 666, 156, 669, 672, 161, 422, 169, 428, 308, 309, 697, 735, 544, 327, 458, 588, 591, 208, 604, 95, 336, 98, 102, 487, 488, 106, 225, 493, 238, 281, 383])\n",
        "curr_cluster set([640, 610, 387, 147, 261, 162, 488, 233, 447, 589, 527, 496, 187, 478, 376, 218, 399, 510, 565])\n",
        "to_test set([260, 394, 653, 153, 409, 666, 156, 669, 544, 161, 422, 169, 554, 428, 308, 309, 697, 735, 672, 327, 458, 588, 591, 208, 604, 95, 336, 98, 102, 487, 490, 225, 493, 238, 281, 106, 383])\n",
        "curr_cluster set([640, 610, 387, 147, 261, 162, 488, 233, 447, 589, 527, 496, 187, 478, 376, 218, 399, 510, 565])\n",
        "to_test set([260, 394, 653, 153, 409, 666, 156, 669, 544, 161, 422, 169, 554, 428, 308, 309, 697, 735, 672, 327, 458, 588, 591, 208, 604, 95, 336, 98, 102, 487, 490, 225, 493, 238, 281, 106, 383])\n",
        "curr_cluster set([640, 610, 387, 147, 261, 162, 488, 233, 447, 327, 589, 527, 496, 187, 478, 376, 218, 399, 510, 565])\n",
        "to_test set([260, 394, 653, 153, 409, 666, 156, 669, 544, 161, 422, 169, 554, 428, 308, 309, 697, 735, 672, 225, 458, 588, 591, 208, 604, 95, 336, 98, 102, 487, 490, 493, 238, 281, 106, 383])\n",
        "curr_cluster set([640, 610, 387, 147, 261, 162, 488, 233, 447, 327, 589, 527, 496, 187, 478, 376, 218, 399, 394, 510, 565])\n",
        "to_test set([260, 653, 366, 409, 388, 666, 156, 669, 544, 161, 422, 169, 554, 428, 308, 309, 697, 735, 672, 225, 458, 588, 591, 208, 463, 604, 95, 336, 98, 102, 487, 490, 493, 238, 153, 281, 106, 383])\n",
        "curr_cluster set([640, 387, 261, 394, 527, 147, 162, 565, 187, 447, 327, 589, 218, 399, 478, 610, 488, 233, 106, 496, 376, 510])\n",
        "to_test set([409, 388, 653, 366, 281, 260, 666, 156, 669, 672, 161, 422, 169, 554, 428, 308, 309, 697, 95, 63, 65, 225, 458, 588, 463, 336, 544, 591, 604, 735, 208, 98, 102, 487, 490, 493, 238, 111, 153, 383])\n",
        "curr_cluster set([640, 387, 261, 394, 527, 147, 162, 565, 187, 447, 327, 589, 218, 399, 478, 610, 488, 233, 106, 238, 496, 376, 510])\n",
        "to_test set([409, 388, 653, 281, 260, 666, 156, 669, 672, 161, 422, 169, 554, 428, 308, 309, 182, 697, 95, 63, 65, 225, 458, 588, 463, 336, 544, 591, 604, 735, 208, 98, 102, 487, 490, 493, 366, 111, 245, 153, 383])\n",
        "curr_cluster set([640, 387, 261, 394, 527, 147, 162, 565, 187, 447, 327, 588, 589, 218, 399, 478, 610, 488, 233, 106, 238, 496, 376, 510])\n",
        "to_test set([409, 388, 653, 281, 260, 666, 156, 669, 672, 161, 422, 169, 554, 428, 308, 309, 182, 697, 95, 63, 65, 225, 458, 463, 336, 544, 591, 604, 735, 208, 98, 102, 487, 490, 493, 366, 111, 245, 153, 383])\n",
        "curr_cluster set([640, 387, 261, 394, 527, 147, 162, 565, 187, 447, 327, 588, 589, 218, 399, 478, 610, 488, 233, 106, 238, 496, 376, 510])\n",
        "to_test set([409, 388, 653, 281, 260, 666, 156, 669, 672, 161, 422, 169, 554, 428, 308, 309, 182, 697, 95, 63, 65, 225, 458, 463, 336, 544, 591, 604, 735, 208, 98, 102, 487, 490, 493, 366, 111, 245, 153, 383])\n",
        "curr_cluster set([640, 387, 261, 394, 527, 147, 162, 565, 187, 447, 327, 588, 589, 218, 399, 478, 610, 488, 233, 106, 238, 496, 376, 510, 383])\n",
        "to_test set([409, 388, 653, 281, 260, 666, 156, 669, 672, 161, 422, 169, 554, 428, 308, 309, 182, 697, 95, 313, 63, 65, 225, 458, 463, 336, 544, 591, 604, 735, 208, 98, 102, 487, 490, 493, 366, 111, 245, 153])\n",
        "curr_cluster set([640, 387, 261, 394, 527, 147, 162, 565, 187, 447, 327, 588, 589, 218, 399, 478, 225, 610, 488, 233, 106, 238, 496, 376, 510, 383])\n",
        "to_test set([409, 388, 653, 281, 152, 260, 666, 283, 156, 669, 672, 161, 422, 169, 554, 428, 308, 309, 182, 697, 95, 313, 63, 65, 458, 463, 336, 544, 591, 604, 735, 208, 98, 102, 487, 232, 490, 493, 366, 111, 245, 153])\n",
        "curr_cluster set([640, 387, 261, 394, 527, 147, 162, 565, 187, 447, 327, 588, 589, 218, 399, 478, 225, 610, 488, 233, 106, 238, 496, 376, 510, 383])\n",
        "to_test set([409, 388, 653, 281, 152, 260, 666, 283, 156, 669, 672, 161, 422, 169, 554, 428, 308, 309, 182, 697, 95, 313, 63, 65, 458, 463, 336, 544, 591, 604, 735, 208, 98, 102, 487, 232, 490, 493, 366, 111, 245, 153])\n",
        "curr_cluster set([640, 387, 261, 394, 527, 147, 162, 565, 187, 447, 327, 588, 589, 218, 399, 478, 225, 610, 102, 488, 233, 106, 238, 496, 376, 510, 383])\n",
        "to_test set([409, 388, 653, 281, 152, 260, 666, 283, 156, 669, 672, 161, 422, 169, 554, 428, 308, 309, 182, 56, 697, 95, 313, 63, 65, 458, 463, 336, 544, 591, 604, 735, 208, 98, 487, 232, 105, 490, 493, 366, 111, 245, 153])\n",
        "curr_cluster set([640, 387, 261, 394, 527, 147, 162, 565, 187, 447, 327, 588, 589, 218, 399, 604, 478, 225, 610, 102, 488, 233, 106, 238, 496, 376, 510, 383])\n",
        "to_test set([409, 642, 388, 653, 281, 152, 260, 666, 283, 156, 669, 672, 161, 422, 169, 554, 428, 308, 309, 182, 56, 697, 95, 313, 63, 65, 458, 463, 336, 544, 591, 735, 208, 98, 487, 232, 105, 490, 493, 366, 111, 245, 153])\n",
        "curr_cluster set([640, 387, 261, 394, 527, 147, 162, 565, 187, 447, 327, 588, 589, 218, 399, 604, 478, 225, 610, 102, 488, 233, 106, 238, 496, 376, 510, 383])\n",
        "to_test set([409, 642, 388, 653, 281, 152, 260, 666, 283, 156, 669, 672, 161, 422, 169, 554, 428, 308, 309, 182, 56, 697, 95, 313, 63, 65, 458, 463, 336, 544, 591, 735, 208, 98, 487, 232, 105, 490, 493, 366, 111, 245, 153])\n",
        "curr_cluster set([640, 387, 261, 394, 527, 147, 162, 565, 187, 447, 327, 588, 589, 336, 218, 399, 604, 478, 225, 610, 102, 488, 233, 106, 238, 496, 376, 510, 383])\n",
        "to_test set([409, 642, 388, 653, 281, 152, 260, 666, 283, 156, 669, 672, 161, 422, 169, 554, 428, 308, 309, 182, 56, 697, 95, 313, 63, 65, 458, 332, 463, 208, 544, 591, 735, 98, 487, 232, 105, 490, 493, 366, 111, 245, 153])\n",
        "curr_cluster set([640, 387, 261, 394, 527, 147, 162, 565, 187, 447, 327, 588, 589, 336, 218, 399, 604, 478, 225, 610, 102, 488, 233, 106, 238, 496, 376, 510, 383])\n",
        "to_test set([409, 642, 388, 653, 281, 152, 260, 666, 283, 156, 669, 672, 161, 422, 169, 554, 428, 308, 309, 182, 56, 697, 95, 313, 63, 65, 458, 332, 463, 208, 544, 591, 735, 98, 487, 232, 105, 490, 493, 366, 111, 245, 153])\n",
        "curr_cluster set([640, 387, 261, 394, 527, 147, 162, 565, 187, 447, 327, 588, 589, 336, 218, 399, 604, 478, 225, 610, 102, 488, 233, 106, 238, 496, 245, 376, 510, 383])\n",
        "to_test set([409, 642, 388, 653, 281, 152, 260, 666, 283, 156, 669, 672, 161, 422, 169, 554, 428, 308, 309, 182, 56, 697, 314, 95, 313, 63, 65, 196, 458, 332, 463, 208, 544, 591, 735, 98, 487, 232, 105, 490, 493, 366, 111, 153])\n",
        "curr_cluster set([640, 387, 261, 394, 527, 147, 162, 565, 187, 447, 327, 588, 589, 336, 218, 399, 604, 478, 225, 610, 102, 488, 233, 106, 238, 496, 245, 376, 510, 383])\n",
        "to_test set([409, 642, 388, 653, 281, 152, 260, 666, 283, 156, 669, 672, 161, 422, 169, 554, 428, 308, 309, 182, 56, 697, 314, 95, 313, 63, 65, 196, 458, 332, 463, 208, 544, 591, 735, 98, 487, 232, 105, 490, 493, 366, 111, 153])\n",
        "curr_cluster set([640, 387, 261, 394, 527, 147, 162, 565, 187, 447, 327, 588, 589, 336, 218, 399, 604, 478, 225, 610, 102, 488, 233, 106, 238, 496, 245, 376, 510, 383])\n",
        "to_test set([409, 642, 388, 653, 281, 152, 260, 666, 283, 156, 669, 672, 161, 422, 169, 554, 428, 308, 309, 182, 56, 697, 314, 95, 313, 63, 65, 196, 458, 332, 463, 208, 544, 591, 735, 98, 487, 232, 105, 490, 493, 366, 111, 153])\n",
        "curr_cluster set([640, 387, 261, 394, 527, 147, 162, 565, 187, 447, 327, 588, 589, 336, 218, 399, 604, 478, 225, 610, 102, 488, 233, 106, 238, 496, 245, 376, 510, 383])\n",
        "to_test set([409, 642, 388, 653, 281, 152, 260, 666, 283, 156, 669, 672, 161, 422, 169, 554, 428, 308, 309, 182, 56, 697, 314, 95, 313, 63, 65, 196, 458, 332, 463, 208, 544, 591, 735, 98, 487, 232, 105, 490, 493, 366, 111, 153])\n",
        "curr_cluster set([640, 387, 261, 394, 527, 147, 162, 565, 187, 447, 327, 588, 589, 336, 218, 399, 604, 478, 225, 610, 102, 488, 233, 106, 238, 496, 245, 376, 510, 383])\n",
        "to_test set([409, 642, 388, 653, 281, 152, 260, 666, 283, 156, 669, 672, 161, 422, 169, 554, 428, 308, 309, 182, 56, 697, 314, 95, 313, 63, 65, 196, 458, 332, 463, 208, 544, 591, 735, 98, 487, 232, 105, 490, 493, 366, 111, 153])\n",
        "curr_cluster set([640, 387, 261, 394, 527, 147, 162, 565, 187, 447, 327, 588, 589, 336, 218, 399, 604, 478, 225, 610, 102, 488, 233, 106, 238, 496, 245, 105, 376, 510, 383])\n",
        "to_test set([409, 642, 388, 653, 281, 152, 260, 666, 283, 156, 669, 672, 161, 422, 169, 554, 428, 308, 309, 182, 56, 697, 314, 95, 60, 313, 62, 63, 65, 196, 458, 332, 463, 208, 544, 591, 735, 98, 487, 104, 490, 493, 366, 111, 232, 153])\n",
        "curr_cluster set([640, 387, 261, 394, 527, 147, 162, 565, 187, 447, 327, 588, 589, 336, 218, 399, 604, 478, 225, 610, 102, 488, 233, 106, 238, 496, 245, 105, 376, 510, 383])\n",
        "to_test set([409, 642, 388, 653, 281, 152, 260, 666, 283, 156, 669, 672, 161, 422, 169, 554, 428, 308, 309, 182, 56, 697, 314, 95, 60, 313, 62, 63, 65, 196, 458, 332, 463, 208, 544, 591, 735, 98, 487, 104, 490, 493, 366, 111, 232, 153])\n",
        "curr_cluster set([640, 387, 261, 394, 527, 147, 366, 162, 565, 187, 447, 327, 588, 589, 336, 218, 399, 604, 478, 225, 610, 102, 488, 233, 106, 238, 496, 245, 105, 376, 510, 383])\n",
        "to_test set([409, 642, 388, 653, 153, 152, 260, 666, 283, 156, 669, 672, 161, 422, 169, 554, 428, 308, 309, 182, 56, 313, 314, 95, 60, 62, 63, 65, 196, 697, 458, 332, 463, 208, 544, 591, 735, 98, 487, 104, 490, 493, 111, 232, 281])\n",
        "curr_cluster set([640, 387, 261, 394, 527, 147, 366, 98, 162, 565, 187, 447, 327, 588, 589, 336, 218, 399, 604, 478, 225, 610, 102, 488, 233, 106, 238, 496, 245, 105, 376, 510, 383])\n",
        "to_test set([409, 642, 388, 544, 653, 153, 152, 260, 666, 283, 156, 669, 672, 161, 422, 169, 554, 428, 52, 309, 182, 56, 308, 314, 59, 60, 62, 63, 65, 196, 697, 458, 332, 463, 208, 95, 313, 591, 735, 487, 232, 490, 493, 111, 104, 281])\n",
        "curr_cluster set([640, 387, 261, 394, 527, 147, 366, 98, 162, 565, 187, 447, 327, 588, 589, 336, 218, 399, 604, 478, 735, 225, 610, 102, 488, 233, 106, 238, 496, 245, 105, 376, 510, 383])\n",
        "to_test set([409, 642, 260, 774, 388, 653, 749, 153, 152, 281, 666, 283, 156, 669, 544, 161, 422, 169, 554, 428, 814, 308, 309, 182, 56, 52, 314, 59, 60, 62, 63, 65, 196, 697, 458, 332, 591, 208, 463, 313, 672, 95, 487, 104, 490, 493, 111, 232])\n",
        "curr_cluster set([640, 387, 261, 394, 527, 147, 366, 98, 162, 565, 187, 447, 327, 588, 589, 336, 218, 399, 604, 478, 735, 225, 610, 102, 488, 233, 106, 238, 496, 245, 105, 376, 510, 383])\n",
        "to_test set([409, 642, 260, 774, 388, 653, 749, 153, 152, 281, 666, 283, 156, 669, 544, 161, 422, 169, 554, 428, 814, 308, 309, 182, 56, 52, 314, 59, 60, 62, 63, 65, 196, 697, 458, 332, 591, 208, 463, 313, 672, 95, 487, 104, 490, 493, 111, 232])\n",
        "curr_cluster set([640, 387, 261, 394, 527, 147, 366, 98, 162, 565, 187, 447, 327, 588, 589, 336, 218, 399, 604, 478, 735, 225, 610, 102, 488, 233, 106, 238, 496, 245, 105, 376, 510, 383])\n",
        "to_test set([409, 642, 260, 774, 388, 653, 749, 153, 152, 281, 666, 283, 156, 669, 544, 161, 422, 169, 554, 428, 814, 308, 309, 182, 56, 52, 314, 59, 60, 62, 63, 65, 196, 697, 458, 332, 591, 208, 463, 313, 672, 95, 487, 104, 490, 493, 111, 232])\n"
       ]
      }
     ],
     "prompt_number": 53
    },
    {
     "cell_type": "code",
     "collapsed": false,
     "input": [
      "a = -1*np.ones_like(cropped_segmentation)\n",
      "\n",
      "for c in curr_cluster:\n",
      "    a[cropped_segmentation == c] = 0\n",
      "\n",
      "# for c in frontier:\n",
      "#     a[cropped_segmentation == c] = 1\n",
      "\n",
      "for c in to_test:\n",
      "    a[cropped_segmentation == c] = 2\n",
      "    \n",
      "plt.imshow(label2rgb(a))\n"
     ],
     "language": "python",
     "metadata": {},
     "outputs": [
      {
       "metadata": {},
       "output_type": "pyout",
       "prompt_number": 54,
       "text": [
        "<matplotlib.image.AxesImage at 0x7f72147e7dd0>"
       ]
      },
      {
       "metadata": {},
       "output_type": "display_data",
       "png": "[encoded data removed]",
       "text": [
        "<matplotlib.figure.Figure at 0x7f72148e6a10>"
       ]
      }
     ],
     "prompt_number": 54
    },
    {
     "cell_type": "code",
     "collapsed": false,
     "input": [
      "import matplotlib.pyplot as plt\n",
      "\n",
      "plt.plot(scores, color='g', label='score (distance diff)')\n",
      "plt.plot(model_distances, color='r', label='model distance')\n",
      "plt.plot(null_distances, color='b', label='null distance')\n",
      "plt.legend()\n",
      "plt.show()"
     ],
     "language": "python",
     "metadata": {},
     "outputs": [],
     "prompt_number": 14
    },
    {
     "cell_type": "code",
     "collapsed": false,
     "input": [
      "print cluster\n",
      "print compute_cluster_score(cluster)"
     ],
     "language": "python",
     "metadata": {},
     "outputs": []
    },
    {
     "cell_type": "code",
     "collapsed": false,
     "input": [
      "print compute_cluster_score(set([2081, 2089, 2093, 2036, 2037, 2075]))\n",
      "print compute_cluster_score(set([2081, 2089, 2093, 2036, 2037, 2075, 2080]))"
     ],
     "language": "python",
     "metadata": {},
     "outputs": []
    },
    {
     "cell_type": "code",
     "collapsed": false,
     "input": [
      "print compute_cluster_score(cluster)\n",
      "print compute_cluster_score(cluster - set([1847, 1882, 1929, 1896]))"
     ],
     "language": "python",
     "metadata": {},
     "outputs": []
    },
    {
     "cell_type": "code",
     "collapsed": false,
     "input": [
      "cluster, re_thresh = grow_cluster_relative_entropy(2046)\n",
      "print cluster"
     ],
     "language": "python",
     "metadata": {},
     "outputs": []
    },
    {
     "cell_type": "code",
     "collapsed": false,
     "input": [
      "vis = paint_superpixels_on_image(cluster, cropped_segmentation, cropped_image)\n",
      "plt.imshow(vis)"
     ],
     "language": "python",
     "metadata": {},
     "outputs": []
    },
    {
     "cell_type": "code",
     "collapsed": false,
     "input": [
      "dm.save_pipeline_result(vis,'tmp','tif')"
     ],
     "language": "python",
     "metadata": {},
     "outputs": []
    },
    {
     "cell_type": "code",
     "collapsed": false,
     "input": [
      "for c in cluster:\n",
      "    plt.bar(np.arange(n_texton), texton_hists[c], width=0.8, color='b', alpha=0.5)\n",
      "    plt.title('%d'%c)\n",
      "    plt.show()\n"
     ],
     "language": "python",
     "metadata": {},
     "outputs": []
    },
    {
     "cell_type": "code",
     "collapsed": false,
     "input": [
      "plt.bar(np.arange(n_texton), overall_texton_hist_normalized, width=0.8, color='b', alpha=0.5)\n",
      "plt.show()\n",
      "plt.bar(np.arange(n_texton), model, width=0.8, color='r', alpha=0.5)\n"
     ],
     "language": "python",
     "metadata": {},
     "outputs": []
    },
    {
     "cell_type": "code",
     "collapsed": false,
     "input": [
      "distance_diff_map = D_diff[cropped_segmentation].copy()\n",
      "distance_diff_map[~cropped_mask] = 0\n",
      "plt.matshow(distance_diff_map)\n",
      "plt.colorbar()"
     ],
     "language": "python",
     "metadata": {},
     "outputs": []
    },
    {
     "cell_type": "code",
     "collapsed": false,
     "input": [
      "hist, bin_edges = np.histogram(D_sp_model, bins=np.arange(0,2,0.01))\n",
      "plt.bar(bin_edges[:-1], hist, width=bin_edges[1]-bin_edges[0])\n",
      "\n",
      "hist, bin_edges = np.histogram(D_sp_model[list(cluster)], bins=np.arange(0,2,0.01))\n",
      "plt.bar(bin_edges[:-1], hist, width=bin_edges[1]-bin_edges[0], color='g')\n",
      "\n",
      "plt.xlabel('D_diff')"
     ],
     "language": "python",
     "metadata": {},
     "outputs": []
    }
   ],
   "metadata": {}
  }
 ]
}