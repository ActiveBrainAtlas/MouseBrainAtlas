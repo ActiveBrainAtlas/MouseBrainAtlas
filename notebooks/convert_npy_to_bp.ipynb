{
 "cells": [
  {
   "cell_type": "code",
   "execution_count": 2,
   "metadata": {
    "collapsed": true
   },
   "outputs": [],
   "source": [
    "%reload_ext autoreload\n",
    "%autoreload 2\n",
    "\n",
    "import os\n",
    "import argparse\n",
    "import sys\n",
    "import time\n",
    "\n",
    "from joblib import Parallel, delayed\n",
    "\n",
    "sys.path.append('../utilities')\n",
    "from utilities2015 import *\n",
    "\n",
    "%matplotlib inline"
   ]
  },
  {
   "cell_type": "code",
   "execution_count": 12,
   "metadata": {
    "collapsed": true
   },
   "outputs": [],
   "source": [
    "import bloscpack as bp"
   ]
  },
  {
   "cell_type": "code",
   "execution_count": 15,
   "metadata": {
    "collapsed": false
   },
   "outputs": [],
   "source": [
    "for sec in os.listdir('/home/yuncong/CSHL_data_results/MD593'):\n",
    "    all_seg_fns = glob.glob('/home/yuncong/CSHL_data_results/MD593/'+sec+'/*tSLIC200*segmentation.npy')\n",
    "    if len(all_seg_fns) == 1:\n",
    "        seg_fn = all_seg_fns[0]\n",
    "        seg = np.load(seg_fn)\n",
    "        bp.pack_ndarray_file(seg, seg_fn[:-3]+'bp')"
   ]
  },
  {
   "cell_type": "code",
   "execution_count": null,
   "metadata": {
    "collapsed": true
   },
   "outputs": [],
   "source": []
  }
 ],
 "metadata": {
  "kernelspec": {
   "display_name": "Python 2",
   "language": "python",
   "name": "python2"
  },
  "language_info": {
   "codemirror_mode": {
    "name": "ipython",
    "version": 2
   },
   "file_extension": ".py",
   "mimetype": "text/x-python",
   "name": "python",
   "nbconvert_exporter": "python",
   "pygments_lexer": "ipython2",
   "version": "2.7.3"
  }
 },
 "nbformat": 4,
 "nbformat_minor": 0
}
