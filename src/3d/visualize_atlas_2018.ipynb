{
 "cells": [
  {
   "cell_type": "code",
   "execution_count": 3,
   "metadata": {},
   "outputs": [
    {
     "name": "stdout",
     "output_type": "stream",
     "text": [
      "Setting environment for Local Macbook Pro\n"
     ]
    }
   ],
   "source": [
    "%reload_ext autoreload\n",
    "%autoreload 2\n",
    "\n",
    "import sys\n",
    "import os\n",
    "\n",
    "import numpy as np\n",
    "import bloscpack as bp\n",
    "%matplotlib inline\n",
    "\n",
    "sys.path.append(os.path.join(os.environ['REPO_DIR'], 'utilities'))\n",
    "from utilities2015 import *\n",
    "from metadata import *\n",
    "from data_manager import *\n",
    "\n",
    "from registration_utilities import *\n",
    "from annotation_utilities import *\n",
    "from vis3d_utilities import *"
   ]
  },
  {
   "cell_type": "code",
   "execution_count": null,
   "metadata": {
    "collapsed": true
   },
   "outputs": [],
   "source": [
    "atlas_name = 'atlasV5'"
   ]
  },
  {
   "cell_type": "code",
   "execution_count": null,
   "metadata": {
    "collapsed": true
   },
   "outputs": [],
   "source": [
    "canonical_centroid_rel2MD589uncropped = np.loadtxt(DataManager.get_atlas_canonical_centroid_filepath(atlas_name))"
   ]
  },
  {
   "cell_type": "code",
   "execution_count": 6,
   "metadata": {
    "collapsed": true
   },
   "outputs": [],
   "source": [
    "brain_spec = dict(name='atlasV5', \n",
    "                  resolution='10.0um', \n",
    "                  vol_type='score', \n",
    "                  prep_id=None,\n",
    "                  detector_id=None,\n",
    "                  structure=None)"
   ]
  },
  {
   "cell_type": "code",
   "execution_count": 7,
   "metadata": {},
   "outputs": [
    {
     "name": "stderr",
     "output_type": "stream",
     "text": [
      "load_mesh_stl: File does not exist /home/yuncong/CSHL_meshes/atlasV5/atlasV5_10.0um_scoreVolume/atlasV5_10.0um_scoreVolume_5N_L.stl\n",
      "Error loading mesh for 5N_L: Mesh is empty: 5N_L.\n",
      "load_mesh_stl: File does not exist /home/yuncong/CSHL_meshes/atlasV5/atlasV5_10.0um_scoreVolume/atlasV5_10.0um_scoreVolume_5N_R.stl\n",
      "Error loading mesh for 5N_R: Mesh is empty: 5N_R.\n",
      "load_mesh_stl: File does not exist /home/yuncong/CSHL_meshes/atlasV5/atlasV5_10.0um_scoreVolume/atlasV5_10.0um_scoreVolume_6N_L.stl\n",
      "Error loading mesh for 6N_L: Mesh is empty: 6N_L.\n",
      "load_mesh_stl: File does not exist /home/yuncong/CSHL_meshes/atlasV5/atlasV5_10.0um_scoreVolume/atlasV5_10.0um_scoreVolume_6N_R.stl\n",
      "Error loading mesh for 6N_R: Mesh is empty: 6N_R.\n",
      "load_mesh_stl: File does not exist /home/yuncong/CSHL_meshes/atlasV5/atlasV5_10.0um_scoreVolume/atlasV5_10.0um_scoreVolume_7N_L.stl\n",
      "Error loading mesh for 7N_L: Mesh is empty: 7N_L.\n",
      "load_mesh_stl: File does not exist /home/yuncong/CSHL_meshes/atlasV5/atlasV5_10.0um_scoreVolume/atlasV5_10.0um_scoreVolume_7N_R.stl\n",
      "Error loading mesh for 7N_R: Mesh is empty: 7N_R.\n",
      "load_mesh_stl: File does not exist /home/yuncong/CSHL_meshes/atlasV5/atlasV5_10.0um_scoreVolume/atlasV5_10.0um_scoreVolume_7n_L.stl\n",
      "Error loading mesh for 7n_L: Mesh is empty: 7n_L.\n",
      "load_mesh_stl: File does not exist /home/yuncong/CSHL_meshes/atlasV5/atlasV5_10.0um_scoreVolume/atlasV5_10.0um_scoreVolume_7n_R.stl\n",
      "Error loading mesh for 7n_R: Mesh is empty: 7n_R.\n",
      "load_mesh_stl: File does not exist /home/yuncong/CSHL_meshes/atlasV5/atlasV5_10.0um_scoreVolume/atlasV5_10.0um_scoreVolume_Amb_L.stl\n",
      "Error loading mesh for Amb_L: Mesh is empty: Amb_L.\n",
      "load_mesh_stl: File does not exist /home/yuncong/CSHL_meshes/atlasV5/atlasV5_10.0um_scoreVolume/atlasV5_10.0um_scoreVolume_Amb_R.stl\n",
      "Error loading mesh for Amb_R: Mesh is empty: Amb_R.\n",
      "load_mesh_stl: File does not exist /home/yuncong/CSHL_meshes/atlasV5/atlasV5_10.0um_scoreVolume/atlasV5_10.0um_scoreVolume_LC_L.stl\n",
      "Error loading mesh for LC_L: Mesh is empty: LC_L.\n",
      "load_mesh_stl: File does not exist /home/yuncong/CSHL_meshes/atlasV5/atlasV5_10.0um_scoreVolume/atlasV5_10.0um_scoreVolume_LC_R.stl\n",
      "Error loading mesh for LC_R: Mesh is empty: LC_R.\n",
      "load_mesh_stl: File does not exist /home/yuncong/CSHL_meshes/atlasV5/atlasV5_10.0um_scoreVolume/atlasV5_10.0um_scoreVolume_LRt_L.stl\n",
      "Error loading mesh for LRt_L: Mesh is empty: LRt_L.\n",
      "load_mesh_stl: File does not exist /home/yuncong/CSHL_meshes/atlasV5/atlasV5_10.0um_scoreVolume/atlasV5_10.0um_scoreVolume_LRt_R.stl\n",
      "Error loading mesh for LRt_R: Mesh is empty: LRt_R.\n",
      "load_mesh_stl: File does not exist /home/yuncong/CSHL_meshes/atlasV5/atlasV5_10.0um_scoreVolume/atlasV5_10.0um_scoreVolume_Pn_L.stl\n",
      "Error loading mesh for Pn_L: Mesh is empty: Pn_L.\n",
      "load_mesh_stl: File does not exist /home/yuncong/CSHL_meshes/atlasV5/atlasV5_10.0um_scoreVolume/atlasV5_10.0um_scoreVolume_Pn_R.stl\n",
      "Error loading mesh for Pn_R: Mesh is empty: Pn_R.\n",
      "load_mesh_stl: File does not exist /home/yuncong/CSHL_meshes/atlasV5/atlasV5_10.0um_scoreVolume/atlasV5_10.0um_scoreVolume_Tz_L.stl\n",
      "Error loading mesh for Tz_L: Mesh is empty: Tz_L.\n",
      "load_mesh_stl: File does not exist /home/yuncong/CSHL_meshes/atlasV5/atlasV5_10.0um_scoreVolume/atlasV5_10.0um_scoreVolume_Tz_R.stl\n",
      "Error loading mesh for Tz_R: Mesh is empty: Tz_R.\n",
      "load_mesh_stl: File does not exist /home/yuncong/CSHL_meshes/atlasV5/atlasV5_10.0um_scoreVolume/atlasV5_10.0um_scoreVolume_VLL_L.stl\n",
      "Error loading mesh for VLL_L: Mesh is empty: VLL_L.\n",
      "load_mesh_stl: File does not exist /home/yuncong/CSHL_meshes/atlasV5/atlasV5_10.0um_scoreVolume/atlasV5_10.0um_scoreVolume_VLL_R.stl\n",
      "Error loading mesh for VLL_R: Mesh is empty: VLL_R.\n",
      "load_mesh_stl: File does not exist /home/yuncong/CSHL_meshes/atlasV5/atlasV5_10.0um_scoreVolume/atlasV5_10.0um_scoreVolume_RMC_L.stl\n",
      "Error loading mesh for RMC_L: Mesh is empty: RMC_L.\n",
      "load_mesh_stl: File does not exist /home/yuncong/CSHL_meshes/atlasV5/atlasV5_10.0um_scoreVolume/atlasV5_10.0um_scoreVolume_RMC_R.stl\n",
      "Error loading mesh for RMC_R: Mesh is empty: RMC_R.\n",
      "load_mesh_stl: File does not exist /home/yuncong/CSHL_meshes/atlasV5/atlasV5_10.0um_scoreVolume/atlasV5_10.0um_scoreVolume_SNC_L.stl\n",
      "Error loading mesh for SNC_L: Mesh is empty: SNC_L.\n",
      "load_mesh_stl: File does not exist /home/yuncong/CSHL_meshes/atlasV5/atlasV5_10.0um_scoreVolume/atlasV5_10.0um_scoreVolume_SNC_R.stl\n",
      "Error loading mesh for SNC_R: Mesh is empty: SNC_R.\n",
      "load_mesh_stl: File does not exist /home/yuncong/CSHL_meshes/atlasV5/atlasV5_10.0um_scoreVolume/atlasV5_10.0um_scoreVolume_SNR_L.stl\n",
      "Error loading mesh for SNR_L: Mesh is empty: SNR_L.\n",
      "load_mesh_stl: File does not exist /home/yuncong/CSHL_meshes/atlasV5/atlasV5_10.0um_scoreVolume/atlasV5_10.0um_scoreVolume_SNR_R.stl\n",
      "Error loading mesh for SNR_R: Mesh is empty: SNR_R.\n",
      "load_mesh_stl: File does not exist /home/yuncong/CSHL_meshes/atlasV5/atlasV5_10.0um_scoreVolume/atlasV5_10.0um_scoreVolume_3N_L.stl\n",
      "Error loading mesh for 3N_L: Mesh is empty: 3N_L.\n",
      "load_mesh_stl: File does not exist /home/yuncong/CSHL_meshes/atlasV5/atlasV5_10.0um_scoreVolume/atlasV5_10.0um_scoreVolume_3N_R.stl\n",
      "Error loading mesh for 3N_R: Mesh is empty: 3N_R.\n",
      "load_mesh_stl: File does not exist /home/yuncong/CSHL_meshes/atlasV5/atlasV5_10.0um_scoreVolume/atlasV5_10.0um_scoreVolume_4N_L.stl\n",
      "Error loading mesh for 4N_L: Mesh is empty: 4N_L.\n",
      "load_mesh_stl: File does not exist /home/yuncong/CSHL_meshes/atlasV5/atlasV5_10.0um_scoreVolume/atlasV5_10.0um_scoreVolume_4N_R.stl\n",
      "Error loading mesh for 4N_R: Mesh is empty: 4N_R.\n",
      "load_mesh_stl: File does not exist /home/yuncong/CSHL_meshes/atlasV5/atlasV5_10.0um_scoreVolume/atlasV5_10.0um_scoreVolume_Sp5I_L.stl\n",
      "Error loading mesh for Sp5I_L: Mesh is empty: Sp5I_L.\n",
      "load_mesh_stl: File does not exist /home/yuncong/CSHL_meshes/atlasV5/atlasV5_10.0um_scoreVolume/atlasV5_10.0um_scoreVolume_Sp5I_R.stl\n",
      "Error loading mesh for Sp5I_R: Mesh is empty: Sp5I_R.\n",
      "load_mesh_stl: File does not exist /home/yuncong/CSHL_meshes/atlasV5/atlasV5_10.0um_scoreVolume/atlasV5_10.0um_scoreVolume_Sp5O_L.stl\n",
      "Error loading mesh for Sp5O_L: Mesh is empty: Sp5O_L.\n",
      "load_mesh_stl: File does not exist /home/yuncong/CSHL_meshes/atlasV5/atlasV5_10.0um_scoreVolume/atlasV5_10.0um_scoreVolume_Sp5O_R.stl\n",
      "Error loading mesh for Sp5O_R: Mesh is empty: Sp5O_R.\n",
      "load_mesh_stl: File does not exist /home/yuncong/CSHL_meshes/atlasV5/atlasV5_10.0um_scoreVolume/atlasV5_10.0um_scoreVolume_Sp5C_L.stl\n",
      "Error loading mesh for Sp5C_L: Mesh is empty: Sp5C_L.\n",
      "load_mesh_stl: File does not exist /home/yuncong/CSHL_meshes/atlasV5/atlasV5_10.0um_scoreVolume/atlasV5_10.0um_scoreVolume_Sp5C_R.stl\n",
      "Error loading mesh for Sp5C_R: Mesh is empty: Sp5C_R.\n",
      "load_mesh_stl: File does not exist /home/yuncong/CSHL_meshes/atlasV5/atlasV5_10.0um_scoreVolume/atlasV5_10.0um_scoreVolume_PBG_L.stl\n",
      "Error loading mesh for PBG_L: Mesh is empty: PBG_L.\n",
      "load_mesh_stl: File does not exist /home/yuncong/CSHL_meshes/atlasV5/atlasV5_10.0um_scoreVolume/atlasV5_10.0um_scoreVolume_PBG_R.stl\n",
      "Error loading mesh for PBG_R: Mesh is empty: PBG_R.\n",
      "load_mesh_stl: File does not exist /home/yuncong/CSHL_meshes/atlasV5/atlasV5_10.0um_scoreVolume/atlasV5_10.0um_scoreVolume_10N_L.stl\n",
      "Error loading mesh for 10N_L: Mesh is empty: 10N_L.\n",
      "load_mesh_stl: File does not exist /home/yuncong/CSHL_meshes/atlasV5/atlasV5_10.0um_scoreVolume/atlasV5_10.0um_scoreVolume_10N_R.stl\n",
      "Error loading mesh for 10N_R: Mesh is empty: 10N_R.\n",
      "load_mesh_stl: File does not exist /home/yuncong/CSHL_meshes/atlasV5/atlasV5_10.0um_scoreVolume/atlasV5_10.0um_scoreVolume_VCA_L.stl\n",
      "Error loading mesh for VCA_L: Mesh is empty: VCA_L.\n",
      "load_mesh_stl: File does not exist /home/yuncong/CSHL_meshes/atlasV5/atlasV5_10.0um_scoreVolume/atlasV5_10.0um_scoreVolume_VCA_R.stl\n",
      "Error loading mesh for VCA_R: Mesh is empty: VCA_R.\n",
      "load_mesh_stl: File does not exist /home/yuncong/CSHL_meshes/atlasV5/atlasV5_10.0um_scoreVolume/atlasV5_10.0um_scoreVolume_VCP_L.stl\n",
      "Error loading mesh for VCP_L: Mesh is empty: VCP_L.\n",
      "load_mesh_stl: File does not exist /home/yuncong/CSHL_meshes/atlasV5/atlasV5_10.0um_scoreVolume/atlasV5_10.0um_scoreVolume_VCP_R.stl\n",
      "Error loading mesh for VCP_R: Mesh is empty: VCP_R.\n",
      "load_mesh_stl: File does not exist /home/yuncong/CSHL_meshes/atlasV5/atlasV5_10.0um_scoreVolume/atlasV5_10.0um_scoreVolume_DC_L.stl\n",
      "Error loading mesh for DC_L: Mesh is empty: DC_L.\n",
      "load_mesh_stl: File does not exist /home/yuncong/CSHL_meshes/atlasV5/atlasV5_10.0um_scoreVolume/atlasV5_10.0um_scoreVolume_DC_R.stl\n",
      "Error loading mesh for DC_R: Mesh is empty: DC_R.\n",
      "load_mesh_stl: File does not exist /home/yuncong/CSHL_meshes/atlasV5/atlasV5_10.0um_scoreVolume/atlasV5_10.0um_scoreVolume_AP.stl\n",
      "Error loading mesh for AP: Mesh is empty: AP.\n",
      "load_mesh_stl: File does not exist /home/yuncong/CSHL_meshes/atlasV5/atlasV5_10.0um_scoreVolume/atlasV5_10.0um_scoreVolume_12N.stl\n",
      "Error loading mesh for 12N: Mesh is empty: 12N.\n",
      "load_mesh_stl: File does not exist /home/yuncong/CSHL_meshes/atlasV5/atlasV5_10.0um_scoreVolume/atlasV5_10.0um_scoreVolume_RtTg.stl\n",
      "Error loading mesh for RtTg: Mesh is empty: RtTg.\n",
      "load_mesh_stl: File does not exist /home/yuncong/CSHL_meshes/atlasV5/atlasV5_10.0um_scoreVolume/atlasV5_10.0um_scoreVolume_SC.stl\n",
      "Error loading mesh for SC: Mesh is empty: SC.\n",
      "load_mesh_stl: File does not exist /home/yuncong/CSHL_meshes/atlasV5/atlasV5_10.0um_scoreVolume/atlasV5_10.0um_scoreVolume_IC.stl\n",
      "Error loading mesh for IC: Mesh is empty: IC.\n"
     ]
    }
   ],
   "source": [
    "structure_meshes_rel2canon = DataManager.load_meshes_v2(brain_spec=brain_spec)"
   ]
  },
  {
   "cell_type": "code",
   "execution_count": 5,
   "metadata": {
    "collapsed": true
   },
   "outputs": [],
   "source": [
    "\n",
    "atlasvol_bbox_rel2MD589uncropped = DataManager.load_original_volume_bbox(stack=atlas_name, volume_type='score', \n",
    "                                                                         structure='7N_L', downscale=32, relative_to_uncropped=False)\n",
    "atlasvol_bbox_rel2canon = atlasvol_bbox_rel2MD589uncropped - canonical_centroid_rel2MD589uncropped[[0,0,1,1,2,2]]"
   ]
  },
  {
   "cell_type": "code",
   "execution_count": 4,
   "metadata": {},
   "outputs": [
    {
     "ename": "NameError",
     "evalue": "name 'stack_fixed' is not defined",
     "output_type": "error",
     "traceback": [
      "\u001b[0;31m---------------------------------------------------------------------------\u001b[0m",
      "\u001b[0;31mNameError\u001b[0m                                 Traceback (most recent call last)",
      "\u001b[0;32m<ipython-input-4-9060b1fb6e24>\u001b[0m in \u001b[0;36m<module>\u001b[0;34m()\u001b[0m\n\u001b[0;32m----> 1\u001b[0;31m \u001b[0mann_vol_bbox_rel2uncropped\u001b[0m \u001b[0;34m=\u001b[0m \u001b[0mDataManager\u001b[0m\u001b[0;34m.\u001b[0m\u001b[0mload_original_volume_bbox\u001b[0m\u001b[0;34m(\u001b[0m\u001b[0mstack\u001b[0m\u001b[0;34m=\u001b[0m\u001b[0mstack_fixed\u001b[0m\u001b[0;34m,\u001b[0m \u001b[0mvolume_type\u001b[0m\u001b[0;34m=\u001b[0m\u001b[0;34m'annotation'\u001b[0m\u001b[0;34m,\u001b[0m \u001b[0mdownscale\u001b[0m\u001b[0;34m=\u001b[0m\u001b[0;36m32\u001b[0m\u001b[0;34m)\u001b[0m\u001b[0;34m\u001b[0m\u001b[0m\n\u001b[0m\u001b[1;32m      2\u001b[0m \u001b[0;32mprint\u001b[0m \u001b[0;34m'annotation volume bbox (rel2uncropped):'\u001b[0m\u001b[0;34m,\u001b[0m \u001b[0mann_vol_bbox_rel2uncropped\u001b[0m\u001b[0;34m\u001b[0m\u001b[0m\n",
      "\u001b[0;31mNameError\u001b[0m: name 'stack_fixed' is not defined"
     ]
    }
   ],
   "source": [
    "ann_vol_bbox_rel2uncropped = DataManager.load_original_volume_bbox(stack=stack_fixed, volume_type='annotation', downscale=32)\n",
    "print 'annotation volume bbox (rel2uncropped):', ann_vol_bbox_rel2uncropped"
   ]
  },
  {
   "cell_type": "code",
   "execution_count": null,
   "metadata": {
    "collapsed": true
   },
   "outputs": [],
   "source": [
    "nominal_locations_rel2canon, canonical_centroid_rel2fixed, canonical_normal = \\\n",
    "average_location(instance_centroids_rel2fixed)\n",
    "\n",
    "canonical_centroid_rel2uncropped = canonical_centroid_rel2fixed + ann_vol_bbox_rel2uncropped[[0,2,4]]\n",
    "print 'canonical_centroid_rel2uncropped', canonical_centroid_rel2uncropped"
   ]
  },
  {
   "cell_type": "code",
   "execution_count": 1,
   "metadata": {
    "collapsed": true
   },
   "outputs": [],
   "source": [
    "## Load instance centroids"
   ]
  },
  {
   "cell_type": "code",
   "execution_count": null,
   "metadata": {
    "collapsed": true
   },
   "outputs": [],
   "source": [
    "fp = DataManager.get_instance_centroids_filepath(atlas_name=atlas_name)\n",
    "instance_centroids_rel2fixed = load_pickle(fp)"
   ]
  },
  {
   "cell_type": "code",
   "execution_count": null,
   "metadata": {
    "collapsed": true
   },
   "outputs": [],
   "source": [
    "instance_centroids_rel2canon = {name_s: np.array(instance_centroids) - canonical_centroid_rel2fixed\n",
    "                                for name_s, instance_centroids in instance_centroids_rel2fixed.iteritems()}"
   ]
  }
 ],
 "metadata": {
  "kernelspec": {
   "display_name": "Python 2",
   "language": "python",
   "name": "python2"
  },
  "language_info": {
   "codemirror_mode": {
    "name": "ipython",
    "version": 2
   },
   "file_extension": ".py",
   "mimetype": "text/x-python",
   "name": "python",
   "nbconvert_exporter": "python",
   "pygments_lexer": "ipython2",
   "version": "2.7.12"
  }
 },
 "nbformat": 4,
 "nbformat_minor": 2
}
