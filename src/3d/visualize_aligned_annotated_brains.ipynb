{
 "cells": [
  {
   "cell_type": "code",
   "execution_count": 1,
   "metadata": {
    "scrolled": true
   },
   "outputs": [
    {
     "name": "stdout",
     "output_type": "stream",
     "text": [
      "Setting environment for Local Macbook Pro\n",
      "/home/yuncong/CSHL_data_processed/MD585/MD585_prep2_thumbnail/MD585-N16-2015.07.16-20.32.33_MD585_2_0047_prep2_thumbnail.tif\n",
      "/home/yuncong/CSHL_data_processed/MD589/MD589_prep2_thumbnail/MD589-N16-2015.07.30-17.03.43_MD589_3_0048_prep2_thumbnail.tif\n",
      "/home/yuncong/CSHL_data_processed/MD590/MD590_prep2_thumbnail/MD590-IHC17-2015.08.10-19.09.09_MD590_2_0050_prep2_thumbnail.tif\n",
      "/home/yuncong/CSHL_data_processed/MD591/MD591_prep2_thumbnail/MD591-IHC17-2015.08.28-04.23.47_MD591_1_0049_prep2_thumbnail.tif\n",
      "/home/yuncong/CSHL_data_processed/MD592/MD592_prep2_thumbnail/MD592-N16-2015.08.22-00.50.39_MD592_2_0047_prep2_thumbnail.tif\n",
      "/home/yuncong/CSHL_data_processed/MD593/MD593_prep2_thumbnail/MD593-N15-2015.08.21-16.53.02_MD593_3_0045_prep2_thumbnail.tif\n",
      "/home/yuncong/CSHL_data_processed/MD594/MD594_prep2_thumbnail/MD594-IHC16-2015.08.26-16.11.01_MD594_1_0046_prep2_thumbnail.tif\n",
      "/home/yuncong/CSHL_data_processed/MD595/MD595_prep2_thumbnail/MD595-IHC12-2015.09.15-01.21.39_MD595_2_0035_prep2_thumbnail.tif\n",
      "/home/yuncong/CSHL_data_processed/MD598/MD598_prep2_thumbnail/MD598-N18-2015.09.29-17.40.03_MD598_3_0054_prep2_thumbnail.tif\n",
      "/home/yuncong/CSHL_data_processed/MD599/MD599_prep2_thumbnail/MD599-N19-2015.10.02-18.12.13_MD599_3_0057_prep2_thumbnail.tif\n",
      "/home/yuncong/CSHL_data_processed/MD602/MD602_prep2_thumbnail/MD602-N19-2015.12.01-16.24.09_MD602_2_0056_prep2_thumbnail.tif\n",
      "/home/yuncong/CSHL_data_processed/MD603/MD603_prep2_thumbnail/MD603-N11-2016.03.02-12.51.47_MD603_1_0031_prep2_thumbnail.tif\n",
      "/home/yuncong/CSHL_data_processed/MD635/MD635_prep2_thumbnail/MD635-F25-2016.05.18-21.02.30_MD635_3_0075_prep2_thumbnail.tif\n",
      "/home/yuncong/CSHL_data_processed/MD653/MD653_prep2_thumbnail/MD653-F15-2016.12.20-21.04.12_MD653_1_0043_prep2_thumbnail.tif\n",
      "/home/yuncong/CSHL_data_processed/MD652/MD652_prep2_thumbnail/MD652-F15-2016.12.16-20.45.52_MD652_3_0045_prep2_thumbnail.tif\n",
      "/home/yuncong/CSHL_data_processed/MD642/MD642_prep2_thumbnail/MD642-N14-2017.01.18-16.25.58_MD642_2_0041_prep2_thumbnail.tif\n",
      "/home/yuncong/CSHL_data_processed/MD657/MD657_prep2_thumbnail/MD657-N13-2017.02.22-14.33.34_MD657_3_0039_prep2_thumbnail.tif\n",
      "/home/yuncong/CSHL_data_processed/MD658/MD658_prep2_thumbnail/MD658-N18-2017.03.31-17.34.22_MD658_2_0053_prep2_thumbnail.tif\n",
      "/home/yuncong/CSHL_data_processed/MD661/MD661_prep2_thumbnail/MD662&661-F30-2017.06.05-14.49.48_MD661_1_0088_prep2_thumbnail.tif\n",
      "/home/yuncong/CSHL_data_processed/MD662/MD662_prep2_thumbnail/MD662&661-F35-2017.06.05-17.08.18_MD662_1_0103_prep2_thumbnail.tif\n",
      "/home/yuncong/CSHL_data_processed/ChatCryoJane201710/ChatCryoJane201710_prep2_thumbnail_Ntb/ChatCryoJane201710_slide1-S1_prep2_thumbnail_Ntb.tif\n",
      "rm -rf \"/home/yuncong/CSHL_data_processed/ChatCryoJane201710/ChatCryoJane201710_prep2_thumbnail/ChatCryoJane201710_slide1-S1_prep2_thumbnail.tif\" && mkdir -p \"/home/yuncong/CSHL_data_processed/ChatCryoJane201710/ChatCryoJane201710_prep2_thumbnail\"\n",
      "aws s3 cp \"s3://mousebrainatlas-data/CSHL_data_processed/ChatCryoJane201710/ChatCryoJane201710_prep2_thumbnail/ChatCryoJane201710_slide1-S1_prep2_thumbnail.tif\" \"/home/yuncong/CSHL_data_processed/ChatCryoJane201710/ChatCryoJane201710_prep2_thumbnail/ChatCryoJane201710_slide1-S1_prep2_thumbnail.tif\"\n"
     ]
    },
    {
     "name": "stderr",
     "output_type": "stream",
     "text": [
      "Not using image_cache.\n",
      "Not using image_cache.\n",
      "Not using image_cache.\n",
      "Not using image_cache.\n",
      "Not using image_cache.\n",
      "Not using image_cache.\n",
      "Not using image_cache.\n",
      "Not using image_cache.\n",
      "Not using image_cache.\n",
      "Not using image_cache.\n",
      "Not using image_cache.\n",
      "Not using image_cache.\n",
      "Not using image_cache.\n",
      "Not using image_cache.\n",
      "Not using image_cache.\n",
      "Not using image_cache.\n",
      "Not using image_cache.\n",
      "Not using image_cache.\n",
      "Not using image_cache.\n",
      "Not using image_cache.\n",
      "Not using image_cache.\n",
      "Version Ntb is not available. Instead, load lossless and take the blue channel...\n"
     ]
    },
    {
     "name": "stdout",
     "output_type": "stream",
     "text": [
      "/home/yuncong/CSHL_data_processed/ChatCryoJane201710/ChatCryoJane201710_prep2_thumbnail/ChatCryoJane201710_slide1-S1_prep2_thumbnail.tif\n"
     ]
    },
    {
     "name": "stderr",
     "output_type": "stream",
     "text": [
      "Not using image_cache.\n"
     ]
    }
   ],
   "source": [
    "%reload_ext autoreload\n",
    "%autoreload 2\n",
    "\n",
    "import sys\n",
    "import os\n",
    "import time\n",
    "\n",
    "import numpy as np\n",
    "import bloscpack as bp\n",
    "import matplotlib.pyplot as plt\n",
    "%matplotlib inline\n",
    "import vtk\n",
    "from vtk.util import numpy_support\n",
    "\n",
    "sys.path.append(os.path.join(os.environ['REPO_DIR'], 'utilities'))\n",
    "from utilities2015 import *\n",
    "from annotation_utilities import *\n",
    "from metadata import *\n",
    "from vis3d_utilities import *"
   ]
  },
  {
   "cell_type": "code",
   "execution_count": 11,
   "metadata": {
    "collapsed": true
   },
   "outputs": [],
   "source": [
    "stack_f_spec = dict(name='MD589',\n",
    "                   vol_type='annotationAsScore',\n",
    "                   detector_id=None,\n",
    "                   prep_id=None,\n",
    "                   structure=None,\n",
    "                   resolution='10.0um')"
   ]
  },
  {
   "cell_type": "code",
   "execution_count": 8,
   "metadata": {
    "collapsed": true
   },
   "outputs": [],
   "source": [
    "meshes_all_stacks_all_structures = defaultdict(dict)"
   ]
  },
  {
   "cell_type": "code",
   "execution_count": 80,
   "metadata": {
    "scrolled": true
   },
   "outputs": [
    {
     "name": "stdout",
     "output_type": "stream",
     "text": [
      "5N_L\n"
     ]
    },
    {
     "name": "stderr",
     "output_type": "stream",
     "text": [
      "marching cube: 0.04 seconds\n",
      "mesh_to_polydata: 0.02 seconds\n",
      "simplify 0 @ 14022: 0.17 seconds\n"
     ]
    },
    {
     "name": "stdout",
     "output_type": "stream",
     "text": [
      "5N_R\n"
     ]
    },
    {
     "name": "stderr",
     "output_type": "stream",
     "text": [
      "simplify 1 @ 2806: 0.12 seconds\n",
      "simplify 2 @ 562: 0.03 seconds\n",
      "time: 0.39\n",
      "marching cube: 0.05 seconds\n",
      "mesh_to_polydata: 0.02 seconds\n",
      "simplify 0 @ 15988: 0.21 seconds\n",
      "simplify 1 @ 3199: 0.13 seconds\n",
      "simplify 2 @ 641: 0.03 seconds\n",
      "time: 0.44\n",
      "marching cube: 0.00 seconds\n",
      "mesh_to_polydata: 0.00 seconds\n",
      "simplify 0 @ 1397: 0.02 seconds\n",
      "simplify 1 @ 281: 0.01 seconds\n",
      "simplify 2 @ 57: 0.00 seconds\n",
      "time: 0.04\n",
      "marching cube: 0.00 seconds\n",
      "mesh_to_polydata: 0.00 seconds\n",
      "simplify 0 @ 878: 0.01 seconds\n",
      "simplify 1 @ 177: 0.01 seconds\n",
      "time: 0.02\n",
      "marching cube: 0.08 seconds\n",
      "mesh_to_polydata: 0.03 seconds\n"
     ]
    },
    {
     "name": "stdout",
     "output_type": "stream",
     "text": [
      "6N_L\n",
      "6N_R\n",
      "7N_L\n"
     ]
    },
    {
     "name": "stderr",
     "output_type": "stream",
     "text": [
      "simplify 0 @ 25463: 0.26 seconds\n",
      "simplify 1 @ 5094: 0.23 seconds\n",
      "simplify 2 @ 1020: 0.05 seconds\n",
      "time: 0.66\n",
      "marching cube: 0.07 seconds\n",
      "mesh_to_polydata: 0.03 seconds\n"
     ]
    },
    {
     "name": "stdout",
     "output_type": "stream",
     "text": [
      "7N_R\n"
     ]
    },
    {
     "name": "stderr",
     "output_type": "stream",
     "text": [
      "simplify 0 @ 23036: 0.22 seconds\n",
      "simplify 1 @ 4608: 0.19 seconds\n",
      "simplify 2 @ 923: 0.04 seconds\n",
      "time: 0.55\n"
     ]
    },
    {
     "name": "stdout",
     "output_type": "stream",
     "text": [
      "7n_L\n"
     ]
    },
    {
     "name": "stderr",
     "output_type": "stream",
     "text": [
      "marching cube: 0.21 seconds\n",
      "mesh_to_polydata: 0.03 seconds\n",
      "simplify 0 @ 19251: 0.17 seconds\n",
      "simplify 1 @ 3851: 0.15 seconds\n",
      "simplify 2 @ 771: 0.04 seconds\n",
      "time: 0.60\n",
      "marching cube: 0.19 seconds\n"
     ]
    },
    {
     "name": "stdout",
     "output_type": "stream",
     "text": [
      "7n_R\n"
     ]
    },
    {
     "name": "stderr",
     "output_type": "stream",
     "text": [
      "mesh_to_polydata: 0.03 seconds\n",
      "simplify 0 @ 18744: 0.17 seconds\n",
      "simplify 1 @ 3750: 0.15 seconds\n",
      "simplify 2 @ 751: 0.04 seconds\n",
      "time: 0.58\n",
      "marching cube: 0.01 seconds\n",
      "mesh_to_polydata: 0.00 seconds\n",
      "simplify 0 @ 1679: 0.03 seconds\n",
      "simplify 1 @ 337: 0.01 seconds\n",
      "simplify 2 @ 69: 0.00 seconds\n",
      "time: 0.05\n",
      "marching cube: 0.00 seconds\n",
      "mesh_to_polydata: 0.00 seconds\n",
      "simplify 0 @ 1485: 0.03 seconds\n",
      "simplify 1 @ 298: 0.01 seconds\n",
      "simplify 2 @ 61: 0.00 seconds\n",
      "time: 0.05\n",
      "marching cube: 0.02 seconds\n",
      "mesh_to_polydata: 0.01 seconds\n"
     ]
    },
    {
     "name": "stdout",
     "output_type": "stream",
     "text": [
      "Amb_L\n",
      "Amb_R\n",
      "LC_L\n"
     ]
    },
    {
     "name": "stderr",
     "output_type": "stream",
     "text": [
      "simplify 0 @ 6954: 0.09 seconds\n",
      "simplify 1 @ 1392: 0.05 seconds\n",
      "simplify 2 @ 280: 0.01 seconds\n",
      "time: 0.20\n",
      "marching cube: 0.03 seconds\n",
      "mesh_to_polydata: 0.02 seconds\n",
      "simplify 0 @ 8796: 0.10 seconds\n"
     ]
    },
    {
     "name": "stdout",
     "output_type": "stream",
     "text": [
      "LC_R\n"
     ]
    },
    {
     "name": "stderr",
     "output_type": "stream",
     "text": [
      "simplify 1 @ 1760: 0.07 seconds\n",
      "simplify 2 @ 353: 0.02 seconds\n",
      "time: 0.23\n",
      "marching cube: 0.08 seconds\n",
      "mesh_to_polydata: 0.03 seconds\n",
      "simplify 0 @ 20360: 0.21 seconds\n",
      "simplify 1 @ 4073: 0.30 seconds\n",
      "simplify 2 @ 816: 0.07 seconds\n",
      "time: 0.69\n"
     ]
    },
    {
     "name": "stdout",
     "output_type": "stream",
     "text": [
      "LRt_L\n",
      "LRt_R\n"
     ]
    },
    {
     "name": "stderr",
     "output_type": "stream",
     "text": [
      "marching cube: 0.21 seconds\n",
      "mesh_to_polydata: 0.07 seconds\n",
      "simplify 0 @ 25940: 0.41 seconds\n",
      "simplify 1 @ 5189: 0.41 seconds\n",
      "simplify 2 @ 1039: 0.09 seconds\n",
      "time: 1.20\n"
     ]
    },
    {
     "name": "stdout",
     "output_type": "stream",
     "text": [
      "Pn_L\n"
     ]
    },
    {
     "name": "stderr",
     "output_type": "stream",
     "text": [
      "marching cube: 0.26 seconds\n",
      "mesh_to_polydata: 0.10 seconds\n",
      "simplify 0 @ 37551: 0.80 seconds\n",
      "simplify 1 @ 7511: 0.61 seconds\n",
      "simplify 2 @ 1503: 0.13 seconds\n",
      "time: 1.92\n"
     ]
    },
    {
     "name": "stdout",
     "output_type": "stream",
     "text": [
      "Pn_R\n"
     ]
    },
    {
     "name": "stderr",
     "output_type": "stream",
     "text": [
      "marching cube: 0.30 seconds\n",
      "mesh_to_polydata: 0.12 seconds\n",
      "simplify 0 @ 37215: 0.52 seconds\n",
      "simplify 1 @ 7445: 0.35 seconds\n",
      "simplify 2 @ 1490: 0.08 seconds\n",
      "time: 1.39\n",
      "marching cube: 0.04 seconds\n",
      "mesh_to_polydata: 0.02 seconds\n",
      "simplify 0 @ 11377: 0.13 seconds\n"
     ]
    },
    {
     "name": "stdout",
     "output_type": "stream",
     "text": [
      "Tz_L\n"
     ]
    },
    {
     "name": "stderr",
     "output_type": "stream",
     "text": [
      "simplify 1 @ 2277: 0.11 seconds\n",
      "simplify 2 @ 457: 0.02 seconds\n",
      "time: 0.33\n",
      "marching cube: 0.04 seconds\n",
      "mesh_to_polydata: 0.02 seconds\n",
      "simplify 0 @ 10680: 0.13 seconds\n"
     ]
    },
    {
     "name": "stdout",
     "output_type": "stream",
     "text": [
      "Tz_R\n",
      "VLL_L\n"
     ]
    },
    {
     "name": "stderr",
     "output_type": "stream",
     "text": [
      "simplify 1 @ 2137: 0.10 seconds\n",
      "simplify 2 @ 429: 0.02 seconds\n",
      "time: 0.31\n",
      "marching cube: 0.35 seconds\n",
      "mesh_to_polydata: 0.06 seconds\n",
      "simplify 0 @ 29810: 0.50 seconds\n",
      "simplify 1 @ 5961: 0.31 seconds\n",
      "simplify 2 @ 1191: 0.06 seconds\n",
      "time: 1.30\n",
      "marching cube: 0.18 seconds\n"
     ]
    },
    {
     "name": "stdout",
     "output_type": "stream",
     "text": [
      "VLL_R\n"
     ]
    },
    {
     "name": "stderr",
     "output_type": "stream",
     "text": [
      "mesh_to_polydata: 0.04 seconds\n",
      "simplify 0 @ 20768: 0.29 seconds\n",
      "simplify 1 @ 4155: 0.21 seconds\n",
      "simplify 2 @ 832: 0.04 seconds\n",
      "time: 0.77\n",
      "marching cube: 0.03 seconds\n",
      "mesh_to_polydata: 0.01 seconds\n"
     ]
    },
    {
     "name": "stdout",
     "output_type": "stream",
     "text": [
      "RMC_L\n"
     ]
    },
    {
     "name": "stderr",
     "output_type": "stream",
     "text": [
      "simplify 0 @ 10744: 0.12 seconds\n",
      "simplify 1 @ 2150: 0.09 seconds\n",
      "simplify 2 @ 431: 0.02 seconds\n",
      "time: 0.29\n",
      "marching cube: 0.06 seconds\n",
      "mesh_to_polydata: 0.02 seconds\n"
     ]
    },
    {
     "name": "stdout",
     "output_type": "stream",
     "text": [
      "RMC_R\n"
     ]
    },
    {
     "name": "stderr",
     "output_type": "stream",
     "text": [
      "simplify 0 @ 15378: 0.27 seconds\n",
      "simplify 1 @ 3077: 0.23 seconds\n",
      "simplify 2 @ 617: 0.05 seconds\n",
      "time: 0.64\n"
     ]
    },
    {
     "name": "stdout",
     "output_type": "stream",
     "text": [
      "SNC_L\n"
     ]
    },
    {
     "name": "stderr",
     "output_type": "stream",
     "text": [
      "marching cube: 0.20 seconds\n",
      "mesh_to_polydata: 0.04 seconds\n",
      "simplify 0 @ 19722: 0.30 seconds\n",
      "simplify 1 @ 3946: 0.31 seconds\n",
      "simplify 2 @ 790: 0.07 seconds\n",
      "time: 0.93\n"
     ]
    },
    {
     "name": "stdout",
     "output_type": "stream",
     "text": [
      "SNC_R\n"
     ]
    },
    {
     "name": "stderr",
     "output_type": "stream",
     "text": [
      "marching cube: 0.20 seconds\n",
      "mesh_to_polydata: 0.04 seconds\n",
      "simplify 0 @ 14960: 0.23 seconds\n",
      "simplify 1 @ 2993: 0.21 seconds\n",
      "simplify 2 @ 600: 0.05 seconds\n",
      "time: 0.75\n"
     ]
    },
    {
     "name": "stdout",
     "output_type": "stream",
     "text": [
      "SNR_L\n"
     ]
    },
    {
     "name": "stderr",
     "output_type": "stream",
     "text": [
      "marching cube: 0.60 seconds\n",
      "mesh_to_polydata: 0.13 seconds\n",
      "simplify 0 @ 59924: 1.05 seconds\n",
      "simplify 1 @ 11986: 0.60 seconds\n",
      "simplify 2 @ 2398: 0.14 seconds\n",
      "time: 2.54\n"
     ]
    },
    {
     "name": "stdout",
     "output_type": "stream",
     "text": [
      "SNR_R\n"
     ]
    },
    {
     "name": "stderr",
     "output_type": "stream",
     "text": [
      "marching cube: 0.34 seconds\n",
      "mesh_to_polydata: 0.08 seconds\n",
      "simplify 0 @ 54780: 0.56 seconds\n",
      "simplify 1 @ 10957: 0.59 seconds\n",
      "simplify 2 @ 2193: 0.13 seconds\n",
      "time: 1.70\n",
      "marching cube: 0.01 seconds\n",
      "mesh_to_polydata: 0.01 seconds\n",
      "simplify 0 @ 4532: 0.06 seconds\n",
      "simplify 1 @ 908: 0.04 seconds\n",
      "simplify 2 @ 183: 0.01 seconds\n",
      "time: 0.12\n",
      "marching cube: 0.01 seconds\n",
      "mesh_to_polydata: 0.01 seconds\n"
     ]
    },
    {
     "name": "stdout",
     "output_type": "stream",
     "text": [
      "3N_L\n",
      "3N_R\n"
     ]
    },
    {
     "name": "stderr",
     "output_type": "stream",
     "text": [
      "simplify 0 @ 4323: 0.07 seconds\n",
      "simplify 1 @ 866: 0.04 seconds\n",
      "simplify 2 @ 174: 0.01 seconds\n",
      "time: 0.14\n",
      "marching cube: 0.00 seconds\n",
      "mesh_to_polydata: 0.00 seconds\n",
      "simplify 0 @ 387: 0.01 seconds\n",
      "simplify 1 @ 79: 0.00 seconds\n",
      "time: 0.01\n",
      "marching cube: 0.00 seconds\n",
      "mesh_to_polydata: 0.00 seconds\n",
      "simplify 0 @ 818: 0.01 seconds\n",
      "simplify 1 @ 165: 0.01 seconds\n",
      "time: 0.02\n"
     ]
    },
    {
     "name": "stdout",
     "output_type": "stream",
     "text": [
      "4N_L\n",
      "4N_R\n",
      "Sp5I_L\n"
     ]
    },
    {
     "name": "stderr",
     "output_type": "stream",
     "text": [
      "marching cube: 0.23 seconds\n",
      "mesh_to_polydata: 0.07 seconds\n",
      "simplify 0 @ 27435: 0.87 seconds\n",
      "simplify 1 @ 5488: 0.41 seconds\n",
      "simplify 2 @ 1099: 0.09 seconds\n",
      "time: 1.69\n"
     ]
    },
    {
     "name": "stdout",
     "output_type": "stream",
     "text": [
      "Sp5I_R\n"
     ]
    },
    {
     "name": "stderr",
     "output_type": "stream",
     "text": [
      "marching cube: 0.13 seconds\n",
      "mesh_to_polydata: 0.08 seconds\n",
      "simplify 0 @ 18155: 0.74 seconds\n",
      "simplify 1 @ 3626: 0.28 seconds\n",
      "simplify 2 @ 725: 0.07 seconds\n",
      "time: 1.39\n"
     ]
    },
    {
     "name": "stdout",
     "output_type": "stream",
     "text": [
      "Sp5O_L\n"
     ]
    },
    {
     "name": "stderr",
     "output_type": "stream",
     "text": [
      "marching cube: 0.33 seconds\n",
      "mesh_to_polydata: 0.13 seconds\n",
      "simplify 0 @ 24358: 1.51 seconds\n",
      "simplify 1 @ 4873: 0.32 seconds\n",
      "simplify 2 @ 976: 0.05 seconds\n",
      "time: 2.37\n",
      "marching cube: 0.16 seconds\n"
     ]
    },
    {
     "name": "stdout",
     "output_type": "stream",
     "text": [
      "Sp5O_R\n"
     ]
    },
    {
     "name": "stderr",
     "output_type": "stream",
     "text": [
      "mesh_to_polydata: 0.06 seconds\n",
      "simplify 0 @ 23079: 0.66 seconds\n",
      "simplify 1 @ 4617: 0.21 seconds\n",
      "simplify 2 @ 924: 0.05 seconds\n",
      "time: 1.14\n"
     ]
    },
    {
     "name": "stdout",
     "output_type": "stream",
     "text": [
      "Sp5C_L\n"
     ]
    },
    {
     "name": "stderr",
     "output_type": "stream",
     "text": [
      "marching cube: 0.35 seconds\n",
      "mesh_to_polydata: 0.08 seconds\n",
      "simplify 0 @ 52261: 0.67 seconds\n",
      "simplify 1 @ 10453: 0.51 seconds\n",
      "simplify 2 @ 2092: 0.11 seconds\n",
      "time: 1.74\n"
     ]
    },
    {
     "name": "stdout",
     "output_type": "stream",
     "text": [
      "Sp5C_R\n"
     ]
    },
    {
     "name": "stderr",
     "output_type": "stream",
     "text": [
      "marching cube: 0.51 seconds\n",
      "mesh_to_polydata: 0.09 seconds\n",
      "simplify 0 @ 66878: 1.16 seconds\n",
      "simplify 1 @ 13377: 1.20 seconds\n",
      "simplify 2 @ 2677: 0.27 seconds\n",
      "time: 3.25\n",
      "marching cube: 0.02 seconds\n",
      "mesh_to_polydata: 0.01 seconds\n",
      "simplify 0 @ 2934: 0.05 seconds\n",
      "simplify 1 @ 588: 0.04 seconds\n",
      "simplify 2 @ 119: 0.01 seconds\n",
      "time: 0.14\n",
      "marching cube: 0.04 seconds\n",
      "mesh_to_polydata: 0.01 seconds\n"
     ]
    },
    {
     "name": "stdout",
     "output_type": "stream",
     "text": [
      "PBG_L\n",
      "PBG_R\n"
     ]
    },
    {
     "name": "stderr",
     "output_type": "stream",
     "text": [
      "simplify 0 @ 3298: 0.09 seconds\n",
      "simplify 1 @ 661: 0.05 seconds\n",
      "simplify 2 @ 133: 0.01 seconds\n",
      "time: 0.20\n",
      "marching cube: 0.09 seconds\n",
      "mesh_to_polydata: 0.02 seconds\n"
     ]
    },
    {
     "name": "stdout",
     "output_type": "stream",
     "text": [
      "10N_L\n"
     ]
    },
    {
     "name": "stderr",
     "output_type": "stream",
     "text": [
      "simplify 0 @ 8762: 0.14 seconds\n",
      "simplify 1 @ 1754: 0.13 seconds\n",
      "simplify 2 @ 352: 0.03 seconds\n",
      "time: 0.41\n",
      "marching cube: 0.17 seconds\n",
      "mesh_to_polydata: 0.03 seconds\n",
      "simplify 0 @ 9309: 0.15 seconds\n",
      "simplify 1 @ 1863: 0.14 seconds\n",
      "simplify 2 @ 374: 0.03 seconds\n",
      "time: 0.52\n"
     ]
    },
    {
     "name": "stdout",
     "output_type": "stream",
     "text": [
      "10N_R\n",
      "VCA_L\n"
     ]
    },
    {
     "name": "stderr",
     "output_type": "stream",
     "text": [
      "marching cube: 0.21 seconds\n",
      "mesh_to_polydata: 0.06 seconds\n",
      "simplify 0 @ 25241: 0.64 seconds\n",
      "simplify 1 @ 5049: 0.58 seconds\n",
      "simplify 2 @ 1011: 0.13 seconds\n",
      "time: 1.63\n"
     ]
    },
    {
     "name": "stdout",
     "output_type": "stream",
     "text": [
      "VCA_R\n"
     ]
    },
    {
     "name": "stderr",
     "output_type": "stream",
     "text": [
      "marching cube: 0.39 seconds\n",
      "mesh_to_polydata: 0.12 seconds\n",
      "simplify 0 @ 27881: 0.82 seconds\n",
      "simplify 1 @ 5578: 0.62 seconds\n",
      "simplify 2 @ 1117: 0.17 seconds\n",
      "time: 2.15\n",
      "marching cube: 0.19 seconds\n"
     ]
    },
    {
     "name": "stdout",
     "output_type": "stream",
     "text": [
      "VCP_L\n"
     ]
    },
    {
     "name": "stderr",
     "output_type": "stream",
     "text": [
      "mesh_to_polydata: 0.09 seconds\n",
      "simplify 0 @ 16797: 0.61 seconds\n",
      "simplify 1 @ 3361: 0.33 seconds\n",
      "simplify 2 @ 673: 0.07 seconds\n",
      "time: 1.29\n"
     ]
    },
    {
     "name": "stdout",
     "output_type": "stream",
     "text": [
      "VCP_R\n"
     ]
    },
    {
     "name": "stderr",
     "output_type": "stream",
     "text": [
      "marching cube: 0.22 seconds\n",
      "mesh_to_polydata: 0.05 seconds\n",
      "simplify 0 @ 15747: 0.33 seconds\n",
      "simplify 1 @ 3151: 0.31 seconds\n",
      "simplify 2 @ 631: 0.07 seconds\n",
      "time: 0.99\n"
     ]
    },
    {
     "name": "stdout",
     "output_type": "stream",
     "text": [
      "DC_L\n"
     ]
    },
    {
     "name": "stderr",
     "output_type": "stream",
     "text": [
      "marching cube: 0.50 seconds\n",
      "mesh_to_polydata: 0.12 seconds\n",
      "simplify 0 @ 30024: 0.86 seconds\n",
      "simplify 1 @ 6006: 0.66 seconds\n",
      "simplify 2 @ 1202: 0.15 seconds\n",
      "time: 2.31\n"
     ]
    },
    {
     "name": "stdout",
     "output_type": "stream",
     "text": [
      "DC_R\n"
     ]
    },
    {
     "name": "stderr",
     "output_type": "stream",
     "text": [
      "marching cube: 0.26 seconds\n",
      "mesh_to_polydata: 0.07 seconds\n",
      "simplify 0 @ 28175: 0.49 seconds\n",
      "simplify 1 @ 5636: 0.49 seconds\n",
      "simplify 2 @ 1128: 0.11 seconds\n",
      "time: 1.43\n",
      "marching cube: 0.03 seconds\n",
      "mesh_to_polydata: 0.01 seconds\n"
     ]
    },
    {
     "name": "stdout",
     "output_type": "stream",
     "text": [
      "AP\n"
     ]
    },
    {
     "name": "stderr",
     "output_type": "stream",
     "text": [
      "simplify 0 @ 5357: 0.11 seconds\n",
      "simplify 1 @ 1073: 0.08 seconds\n",
      "simplify 2 @ 216: 0.02 seconds\n",
      "time: 0.26\n",
      "marching cube: 0.19 seconds\n",
      "mesh_to_polydata: 0.07 seconds\n",
      "simplify 0 @ 27865: 0.49 seconds\n",
      "simplify 1 @ 5574: 0.46 seconds\n",
      "simplify 2 @ 1116: 0.10 seconds\n",
      "time: 1.32\n"
     ]
    },
    {
     "name": "stdout",
     "output_type": "stream",
     "text": [
      "12N\n",
      "RtTg\n"
     ]
    },
    {
     "name": "stderr",
     "output_type": "stream",
     "text": [
      "marching cube: 0.59 seconds\n",
      "mesh_to_polydata: 0.21 seconds\n",
      "simplify 0 @ 65919: 1.15 seconds\n",
      "simplify 1 @ 13210: 0.78 seconds\n",
      "simplify 2 @ 2679: 0.15 seconds\n",
      "time: 2.90\n"
     ]
    },
    {
     "name": "stdout",
     "output_type": "stream",
     "text": [
      "SC\n"
     ]
    },
    {
     "name": "stderr",
     "output_type": "stream",
     "text": [
      "marching cube: 3.24 seconds\n",
      "mesh_to_polydata: 0.64 seconds\n",
      "simplify 0 @ 270119: 3.82 seconds\n",
      "simplify 1 @ 54025: 3.99 seconds\n",
      "simplify 2 @ 10806: 1.15 seconds\n",
      "time: 12.93\n"
     ]
    },
    {
     "name": "stdout",
     "output_type": "stream",
     "text": [
      "IC\n"
     ]
    },
    {
     "name": "stderr",
     "output_type": "stream",
     "text": [
      "marching cube: 1.87 seconds\n",
      "mesh_to_polydata: 0.25 seconds\n",
      "simplify 0 @ 164731: 2.33 seconds\n",
      "simplify 1 @ 32947: 2.56 seconds\n",
      "simplify 2 @ 6591: 0.66 seconds\n",
      "time: 7.73\n"
     ]
    }
   ],
   "source": [
    "for name_s in all_known_structures_sided:\n",
    "    \n",
    "    print name_s\n",
    "\n",
    "    try:\n",
    "        vol, origin_wrt_wholebrain_volResol = \\\n",
    "        DataManager.load_original_volume_v2(stack_spec=stack_f_spec,\n",
    "                                               resolution='10.0um',\n",
    "                                                structure=name_s, \n",
    "                                            return_origin_instead_of_bbox=True)\n",
    "    except:\n",
    "        sys.stderr.write(\"Error loading %s\\n\" % name_s)\n",
    "        continue\n",
    "\n",
    "    t = time.time()\n",
    "    meshes_all_stacks_all_structures['MD589'][name_s] = volume_to_polydata(vol, origin=origin_wrt_wholebrain_volResol, num_simplify_iter=3, smooth=True)\n",
    "    sys.stderr.write('time: %.2f\\n' % (time.time() - t) )\n",
    "\n",
    "#     mesh_fp = DataManager.get_mesh_filepath_v2(brain_spec=brain_spec, structure=name_s)\n",
    "#     create_parent_dir_if_not_exists(mesh_fp)\n",
    "#     save_mesh_stl(mesh, mesh_fp)\n",
    "#     upload_to_s3(mesh_fp)"
   ]
  },
  {
   "cell_type": "code",
   "execution_count": 81,
   "metadata": {
    "scrolled": true
   },
   "outputs": [
    {
     "name": "stderr",
     "output_type": "stream",
     "text": [
      "marching cube: 0.09 seconds\n",
      "mesh_to_polydata: 0.04 seconds\n",
      "simplify 0 @ 13910: 0.30 seconds\n",
      "simplify 1 @ 2783: 0.22 seconds\n",
      "simplify 2 @ 558: 0.05 seconds\n",
      "time: 0.70\n",
      "marching cube: 0.07 seconds\n",
      "mesh_to_polydata: 0.03 seconds\n",
      "simplify 0 @ 13107: 0.25 seconds\n",
      "simplify 1 @ 2623: 0.20 seconds\n",
      "simplify 2 @ 526: 0.05 seconds\n",
      "time: 0.61\n",
      "marching cube: 0.01 seconds\n",
      "mesh_to_polydata: 0.01 seconds\n",
      "simplify 0 @ 1786: 0.04 seconds\n",
      "simplify 1 @ 358: 0.03 seconds\n",
      "simplify 2 @ 73: 0.01 seconds\n",
      "time: 0.09\n",
      "marching cube: 0.00 seconds\n",
      "mesh_to_polydata: 0.00 seconds\n",
      "simplify 0 @ 1249: 0.02 seconds\n",
      "simplify 1 @ 251: 0.01 seconds\n",
      "simplify 2 @ 51: 0.00 seconds\n",
      "time: 0.04\n",
      "marching cube: 0.08 seconds\n",
      "mesh_to_polydata: 0.03 seconds\n",
      "simplify 0 @ 22537: 0.26 seconds\n",
      "simplify 1 @ 4509: 0.21 seconds\n",
      "simplify 2 @ 903: 0.05 seconds\n",
      "time: 0.64\n",
      "marching cube: 0.10 seconds\n",
      "mesh_to_polydata: 0.03 seconds\n",
      "simplify 0 @ 22544: 0.27 seconds\n",
      "simplify 1 @ 4510: 0.21 seconds\n",
      "simplify 2 @ 903: 0.05 seconds\n",
      "time: 0.66\n",
      "marching cube: 0.27 seconds\n",
      "mesh_to_polydata: 0.03 seconds\n",
      "simplify 0 @ 18420: 0.19 seconds\n",
      "simplify 1 @ 3685: 0.16 seconds\n",
      "simplify 2 @ 738: 0.04 seconds\n",
      "time: 0.70\n",
      "marching cube: 0.17 seconds\n",
      "mesh_to_polydata: 0.02 seconds\n",
      "simplify 0 @ 17055: 0.18 seconds\n",
      "simplify 1 @ 3412: 0.17 seconds\n",
      "simplify 2 @ 684: 0.04 seconds\n",
      "time: 0.58\n",
      "marching cube: 0.01 seconds\n",
      "mesh_to_polydata: 0.00 seconds\n",
      "simplify 0 @ 3011: 0.04 seconds\n",
      "simplify 1 @ 603: 0.03 seconds\n",
      "simplify 2 @ 122: 0.01 seconds\n",
      "time: 0.09\n",
      "marching cube: 0.01 seconds\n",
      "mesh_to_polydata: 0.00 seconds\n",
      "simplify 0 @ 1885: 0.03 seconds\n",
      "simplify 1 @ 378: 0.02 seconds\n",
      "simplify 2 @ 77: 0.00 seconds\n",
      "time: 0.06\n",
      "marching cube: 0.02 seconds\n",
      "mesh_to_polydata: 0.01 seconds\n",
      "simplify 0 @ 6313: 0.09 seconds\n",
      "simplify 1 @ 1264: 0.06 seconds\n",
      "simplify 2 @ 254: 0.01 seconds\n",
      "time: 0.20\n",
      "marching cube: 0.03 seconds\n",
      "mesh_to_polydata: 0.01 seconds\n",
      "simplify 0 @ 7159: 0.12 seconds\n",
      "simplify 1 @ 1433: 0.07 seconds\n",
      "simplify 2 @ 288: 0.02 seconds\n",
      "time: 0.25\n",
      "marching cube: 0.16 seconds\n",
      "mesh_to_polydata: 0.04 seconds\n",
      "simplify 0 @ 19246: 0.27 seconds\n",
      "simplify 1 @ 3850: 0.19 seconds\n",
      "simplify 2 @ 771: 0.05 seconds\n",
      "time: 0.70\n",
      "marching cube: 0.18 seconds\n",
      "mesh_to_polydata: 0.07 seconds\n",
      "simplify 0 @ 22023: 0.44 seconds\n",
      "simplify 1 @ 4406: 0.34 seconds\n",
      "simplify 2 @ 882: 0.08 seconds\n",
      "time: 1.11\n",
      "marching cube: 0.29 seconds\n",
      "mesh_to_polydata: 0.14 seconds\n",
      "simplify 0 @ 34333: 0.77 seconds\n",
      "simplify 1 @ 6868: 0.57 seconds\n",
      "simplify 2 @ 1375: 0.13 seconds\n",
      "time: 1.91\n",
      "marching cube: 0.32 seconds\n",
      "mesh_to_polydata: 0.11 seconds\n",
      "simplify 0 @ 33401: 0.70 seconds\n",
      "simplify 1 @ 6682: 0.33 seconds\n",
      "simplify 2 @ 1337: 0.08 seconds\n",
      "time: 1.55\n",
      "marching cube: 0.05 seconds\n",
      "mesh_to_polydata: 0.02 seconds\n",
      "simplify 0 @ 10737: 0.13 seconds\n",
      "simplify 1 @ 2149: 0.10 seconds\n",
      "simplify 2 @ 431: 0.02 seconds\n",
      "time: 0.33\n",
      "marching cube: 0.05 seconds\n",
      "mesh_to_polydata: 0.02 seconds\n",
      "simplify 0 @ 9975: 0.12 seconds\n",
      "simplify 1 @ 1996: 0.09 seconds\n",
      "simplify 2 @ 400: 0.02 seconds\n",
      "time: 0.29\n",
      "marching cube: 0.22 seconds\n",
      "mesh_to_polydata: 0.03 seconds\n",
      "simplify 0 @ 21357: 0.26 seconds\n",
      "simplify 1 @ 4273: 0.21 seconds\n",
      "simplify 2 @ 856: 0.06 seconds\n",
      "time: 0.78\n",
      "marching cube: 0.17 seconds\n",
      "mesh_to_polydata: 0.04 seconds\n",
      "simplify 0 @ 20720: 0.28 seconds\n",
      "simplify 1 @ 4145: 0.20 seconds\n",
      "simplify 2 @ 830: 0.04 seconds\n",
      "time: 0.74\n",
      "marching cube: 0.03 seconds\n",
      "mesh_to_polydata: 0.01 seconds\n",
      "simplify 0 @ 9374: 0.10 seconds\n",
      "simplify 1 @ 1876: 0.08 seconds\n",
      "simplify 2 @ 376: 0.02 seconds\n",
      "time: 0.25\n",
      "marching cube: 0.07 seconds\n",
      "mesh_to_polydata: 0.02 seconds\n",
      "simplify 0 @ 16453: 0.21 seconds\n",
      "simplify 1 @ 3292: 0.17 seconds\n",
      "simplify 2 @ 660: 0.03 seconds\n",
      "time: 0.52\n",
      "marching cube: 0.11 seconds\n",
      "mesh_to_polydata: 0.02 seconds\n",
      "simplify 0 @ 14461: 0.15 seconds\n",
      "simplify 1 @ 2893: 0.14 seconds\n",
      "simplify 2 @ 580: 0.03 seconds\n",
      "time: 0.45\n",
      "marching cube: 0.16 seconds\n",
      "mesh_to_polydata: 0.04 seconds\n",
      "simplify 0 @ 17534: 0.28 seconds\n",
      "simplify 1 @ 3508: 0.31 seconds\n",
      "simplify 2 @ 703: 0.06 seconds\n",
      "time: 0.86\n",
      "marching cube: 0.64 seconds\n",
      "mesh_to_polydata: 0.12 seconds\n",
      "simplify 0 @ 50403: 0.89 seconds\n",
      "simplify 1 @ 10082: 0.85 seconds\n",
      "simplify 2 @ 2018: 0.20 seconds\n",
      "time: 2.71\n",
      "marching cube: 0.67 seconds\n",
      "mesh_to_polydata: 0.09 seconds\n",
      "simplify 0 @ 60348: 0.65 seconds\n",
      "simplify 1 @ 12071: 0.67 seconds\n",
      "simplify 2 @ 2415: 0.14 seconds\n",
      "time: 2.24\n",
      "marching cube: 0.01 seconds\n",
      "mesh_to_polydata: 0.01 seconds\n",
      "simplify 0 @ 4264: 0.07 seconds\n",
      "simplify 1 @ 854: 0.04 seconds\n",
      "simplify 2 @ 172: 0.01 seconds\n",
      "time: 0.14\n",
      "marching cube: 0.01 seconds\n",
      "mesh_to_polydata: 0.01 seconds\n",
      "simplify 0 @ 4248: 0.05 seconds\n",
      "simplify 1 @ 851: 0.04 seconds\n",
      "simplify 2 @ 171: 0.01 seconds\n",
      "time: 0.12\n",
      "marching cube: 0.00 seconds\n",
      "mesh_to_polydata: 0.00 seconds\n",
      "simplify 0 @ 1122: 0.02 seconds\n",
      "simplify 1 @ 226: 0.01 seconds\n",
      "simplify 2 @ 46: 0.00 seconds\n",
      "time: 0.04\n",
      "marching cube: 0.00 seconds\n",
      "mesh_to_polydata: 0.00 seconds\n",
      "simplify 0 @ 1286: 0.02 seconds\n",
      "simplify 1 @ 258: 0.01 seconds\n",
      "simplify 2 @ 53: 0.00 seconds\n",
      "time: 0.04\n",
      "marching cube: 0.16 seconds\n",
      "mesh_to_polydata: 0.06 seconds\n",
      "simplify 0 @ 27368: 0.43 seconds\n",
      "simplify 1 @ 5475: 0.28 seconds\n",
      "simplify 2 @ 1096: 0.06 seconds\n",
      "time: 1.00\n",
      "marching cube: 0.02 seconds\n",
      "mesh_to_polydata: 0.01 seconds\n",
      "simplify 0 @ 7553: 0.12 seconds\n",
      "simplify 1 @ 1512: 0.07 seconds\n",
      "simplify 2 @ 304: 0.02 seconds\n",
      "time: 0.25\n",
      "marching cube: 0.21 seconds\n",
      "mesh_to_polydata: 0.06 seconds\n",
      "simplify 0 @ 33826: 0.66 seconds\n",
      "simplify 1 @ 6766: 0.57 seconds\n",
      "simplify 2 @ 1355: 0.12 seconds\n",
      "time: 1.64\n",
      "marching cube: 0.17 seconds\n",
      "mesh_to_polydata: 0.06 seconds\n",
      "simplify 0 @ 15358: 0.65 seconds\n",
      "simplify 1 @ 3073: 0.24 seconds\n",
      "simplify 2 @ 616: 0.05 seconds\n",
      "time: 1.18\n",
      "marching cube: 0.80 seconds\n",
      "mesh_to_polydata: 0.16 seconds\n",
      "simplify 0 @ 56150: 1.10 seconds\n",
      "simplify 1 @ 11232: 0.59 seconds\n",
      "simplify 2 @ 2247: 0.12 seconds\n",
      "time: 2.79\n"
     ]
    },
    {
     "name": "stdout",
     "output_type": "stream",
     "text": [
      "rm -rf \"/media/yuncong/YuncongPublic/CSHL_volumes/MD585/MD585_10.0um_annotationAsScoreVolume_warp9_MD589_10.0um_annotationAsScoreVolume_10.0um/score_volumes/MD585_10.0um_annotationAsScoreVolume_warp9_MD589_10.0um_annotationAsScoreVolume_10.0um_Sp5C_R.bp\" && mkdir -p \"/media/yuncong/YuncongPublic/CSHL_volumes/MD585/MD585_10.0um_annotationAsScoreVolume_warp9_MD589_10.0um_annotationAsScoreVolume_10.0um/score_volumes\"\n",
      "aws s3 cp \"s3://mousebrainatlas-data/CSHL_volumes/MD585/MD585_10.0um_annotationAsScoreVolume_warp9_MD589_10.0um_annotationAsScoreVolume_10.0um/score_volumes/MD585_10.0um_annotationAsScoreVolume_warp9_MD589_10.0um_annotationAsScoreVolume_10.0um_Sp5C_R.bp\" \"/media/yuncong/YuncongPublic/CSHL_volumes/MD585/MD585_10.0um_annotationAsScoreVolume_warp9_MD589_10.0um_annotationAsScoreVolume_10.0um/score_volumes/MD585_10.0um_annotationAsScoreVolume_warp9_MD589_10.0um_annotationAsScoreVolume_10.0um_Sp5C_R.bp\"\n"
     ]
    },
    {
     "name": "stderr",
     "output_type": "stream",
     "text": [
      "File does not exist: /media/yuncong/YuncongPublic/CSHL_volumes/MD585/MD585_10.0um_annotationAsScoreVolume_warp9_MD589_10.0um_annotationAsScoreVolume_10.0um/score_volumes/MD585_10.0um_annotationAsScoreVolume_warp9_MD589_10.0um_annotationAsScoreVolume_10.0um_Sp5C_R.bp\n",
      "Error loading Sp5C_R\n",
      "marching cube: 0.03 seconds\n",
      "mesh_to_polydata: 0.01 seconds\n",
      "simplify 0 @ 4624: 0.06 seconds\n",
      "simplify 1 @ 926: 0.04 seconds\n",
      "simplify 2 @ 186: 0.01 seconds\n",
      "time: 0.15\n",
      "marching cube: 0.02 seconds\n",
      "mesh_to_polydata: 0.01 seconds\n",
      "simplify 0 @ 4369: 0.05 seconds\n",
      "simplify 1 @ 875: 0.04 seconds\n",
      "simplify 2 @ 176: 0.01 seconds\n",
      "time: 0.14\n",
      "marching cube: 0.10 seconds\n",
      "mesh_to_polydata: 0.02 seconds\n",
      "simplify 0 @ 9917: 0.11 seconds\n",
      "simplify 1 @ 1985: 0.09 seconds\n",
      "simplify 2 @ 398: 0.02 seconds\n",
      "time: 0.35\n",
      "marching cube: 0.06 seconds\n",
      "mesh_to_polydata: 0.02 seconds\n",
      "simplify 0 @ 8392: 0.11 seconds\n",
      "simplify 1 @ 1680: 0.08 seconds\n",
      "simplify 2 @ 337: 0.02 seconds\n",
      "time: 0.29\n",
      "marching cube: 0.13 seconds\n",
      "mesh_to_polydata: 0.04 seconds\n",
      "simplify 0 @ 26586: 0.41 seconds\n",
      "simplify 1 @ 5318: 0.30 seconds\n",
      "simplify 2 @ 1065: 0.06 seconds\n",
      "time: 0.96\n",
      "marching cube: 0.14 seconds\n",
      "mesh_to_polydata: 0.04 seconds\n",
      "simplify 0 @ 26282: 0.43 seconds\n",
      "simplify 1 @ 5258: 0.43 seconds\n",
      "simplify 2 @ 1053: 0.09 seconds\n",
      "time: 1.14\n",
      "marching cube: 0.08 seconds\n",
      "mesh_to_polydata: 0.03 seconds\n",
      "simplify 0 @ 10520: 0.29 seconds\n",
      "simplify 1 @ 2105: 0.17 seconds\n",
      "simplify 2 @ 422: 0.04 seconds\n",
      "time: 0.61\n",
      "marching cube: 0.16 seconds\n",
      "mesh_to_polydata: 0.04 seconds\n",
      "simplify 0 @ 14443: 0.28 seconds\n",
      "simplify 1 @ 2890: 0.24 seconds\n",
      "simplify 2 @ 579: 0.06 seconds\n",
      "time: 0.78\n",
      "marching cube: 0.22 seconds\n",
      "mesh_to_polydata: 0.07 seconds\n",
      "simplify 0 @ 23466: 0.49 seconds\n",
      "simplify 1 @ 4694: 0.39 seconds\n",
      "simplify 2 @ 940: 0.09 seconds\n",
      "time: 1.28\n",
      "marching cube: 0.27 seconds\n",
      "mesh_to_polydata: 0.07 seconds\n",
      "simplify 0 @ 27256: 0.63 seconds\n",
      "simplify 1 @ 5452: 0.63 seconds\n",
      "simplify 2 @ 1092: 0.14 seconds\n",
      "time: 1.76\n",
      "marching cube: 0.04 seconds\n",
      "mesh_to_polydata: 0.02 seconds\n",
      "simplify 0 @ 4940: 0.15 seconds\n",
      "simplify 1 @ 989: 0.10 seconds\n",
      "simplify 2 @ 199: 0.03 seconds\n",
      "time: 0.35\n",
      "marching cube: 0.29 seconds\n",
      "mesh_to_polydata: 0.08 seconds\n",
      "simplify 0 @ 25181: 0.61 seconds\n",
      "simplify 1 @ 5037: 0.57 seconds\n",
      "simplify 2 @ 1009: 0.13 seconds\n",
      "time: 1.70\n",
      "marching cube: 0.84 seconds\n",
      "mesh_to_polydata: 0.18 seconds\n",
      "simplify 0 @ 54213: 1.37 seconds\n",
      "simplify 1 @ 10844: 1.24 seconds\n",
      "simplify 2 @ 2170: 0.31 seconds\n",
      "time: 3.97\n",
      "marching cube: 4.83 seconds\n",
      "mesh_to_polydata: 0.36 seconds\n",
      "simplify 0 @ 246895: 2.92 seconds\n",
      "simplify 1 @ 49380: 4.39 seconds\n",
      "simplify 2 @ 9877: 0.65 seconds\n",
      "time: 13.28\n",
      "marching cube: 1.52 seconds\n",
      "mesh_to_polydata: 0.28 seconds\n",
      "simplify 0 @ 179204: 2.27 seconds\n",
      "simplify 1 @ 35842: 1.97 seconds\n",
      "simplify 2 @ 7170: 0.44 seconds\n",
      "time: 6.52\n",
      "marching cube: 0.04 seconds\n",
      "mesh_to_polydata: 0.02 seconds\n",
      "simplify 0 @ 14522: 0.16 seconds\n",
      "simplify 1 @ 2906: 0.12 seconds\n",
      "simplify 2 @ 582: 0.03 seconds\n",
      "time: 0.38\n",
      "marching cube: 0.04 seconds\n",
      "mesh_to_polydata: 0.02 seconds\n",
      "simplify 0 @ 12632: 0.14 seconds\n",
      "simplify 1 @ 2528: 0.11 seconds\n",
      "simplify 2 @ 507: 0.02 seconds\n",
      "time: 0.33\n",
      "marching cube: 0.00 seconds\n",
      "mesh_to_polydata: 0.00 seconds\n",
      "simplify 0 @ 1657: 0.02 seconds\n",
      "simplify 1 @ 333: 0.01 seconds\n",
      "simplify 2 @ 68: 0.00 seconds\n",
      "time: 0.04\n",
      "marching cube: 0.00 seconds\n",
      "mesh_to_polydata: 0.00 seconds\n",
      "simplify 0 @ 1789: 0.02 seconds\n",
      "simplify 1 @ 359: 0.01 seconds\n",
      "simplify 2 @ 73: 0.00 seconds\n",
      "time: 0.04\n",
      "marching cube: 0.08 seconds\n",
      "mesh_to_polydata: 0.03 seconds\n",
      "simplify 0 @ 23138: 0.29 seconds\n",
      "simplify 1 @ 4629: 0.23 seconds\n",
      "simplify 2 @ 927: 0.05 seconds\n",
      "time: 0.69\n",
      "marching cube: 0.08 seconds\n",
      "mesh_to_polydata: 0.03 seconds\n",
      "simplify 0 @ 22007: 0.26 seconds\n",
      "simplify 1 @ 4403: 0.22 seconds\n",
      "simplify 2 @ 882: 0.05 seconds\n",
      "time: 0.65\n",
      "marching cube: 0.24 seconds\n",
      "mesh_to_polydata: 0.03 seconds\n",
      "simplify 0 @ 18781: 0.20 seconds\n",
      "simplify 1 @ 3757: 0.19 seconds\n",
      "simplify 2 @ 753: 0.04 seconds\n",
      "time: 0.71\n",
      "marching cube: 0.22 seconds\n",
      "mesh_to_polydata: 0.03 seconds\n",
      "simplify 0 @ 18380: 0.20 seconds\n",
      "simplify 1 @ 3677: 0.18 seconds\n",
      "simplify 2 @ 737: 0.04 seconds\n",
      "time: 0.67\n",
      "marching cube: 0.00 seconds\n",
      "mesh_to_polydata: 0.00 seconds\n",
      "simplify 0 @ 1485: 0.03 seconds\n",
      "simplify 1 @ 298: 0.01 seconds\n",
      "simplify 2 @ 61: 0.00 seconds\n",
      "time: 0.05\n",
      "marching cube: 0.00 seconds\n",
      "mesh_to_polydata: 0.00 seconds\n",
      "simplify 0 @ 1595: 0.03 seconds\n",
      "simplify 1 @ 320: 0.01 seconds\n",
      "simplify 2 @ 65: 0.00 seconds\n",
      "time: 0.06\n",
      "marching cube: 0.03 seconds\n",
      "mesh_to_polydata: 0.02 seconds\n",
      "simplify 0 @ 8030: 0.12 seconds\n",
      "simplify 1 @ 1608: 0.07 seconds\n",
      "simplify 2 @ 323: 0.02 seconds\n",
      "time: 0.26\n",
      "marching cube: 0.03 seconds\n",
      "mesh_to_polydata: 0.01 seconds\n",
      "simplify 0 @ 6951: 0.09 seconds\n",
      "simplify 1 @ 1391: 0.08 seconds\n",
      "simplify 2 @ 279: 0.02 seconds\n",
      "time: 0.23\n",
      "marching cube: 0.17 seconds\n",
      "mesh_to_polydata: 0.05 seconds\n",
      "simplify 0 @ 25500: 0.32 seconds\n",
      "simplify 1 @ 5101: 0.27 seconds\n",
      "simplify 2 @ 1021: 0.11 seconds\n",
      "time: 0.92\n",
      "marching cube: 0.33 seconds\n",
      "mesh_to_polydata: 0.10 seconds\n",
      "simplify 0 @ 27627: 0.63 seconds\n",
      "simplify 1 @ 5525: 0.56 seconds\n",
      "simplify 2 @ 1105: 0.13 seconds\n",
      "time: 1.76\n",
      "marching cube: 0.33 seconds\n",
      "mesh_to_polydata: 0.15 seconds\n",
      "simplify 0 @ 33915: 0.89 seconds\n",
      "simplify 1 @ 6785: 0.69 seconds\n",
      "simplify 2 @ 1358: 0.13 seconds\n",
      "time: 2.20\n",
      "marching cube: 0.23 seconds\n",
      "mesh_to_polydata: 0.07 seconds\n",
      "simplify 0 @ 27821: 0.59 seconds\n",
      "simplify 1 @ 5565: 0.52 seconds\n",
      "simplify 2 @ 1114: 0.12 seconds\n",
      "time: 1.54\n",
      "marching cube: 0.06 seconds\n",
      "mesh_to_polydata: 0.03 seconds\n",
      "simplify 0 @ 8161: 0.22 seconds\n",
      "simplify 1 @ 1633: 0.13 seconds\n",
      "simplify 2 @ 328: 0.03 seconds\n",
      "time: 0.48\n",
      "marching cube: 0.08 seconds\n",
      "mesh_to_polydata: 0.04 seconds\n",
      "simplify 0 @ 9368: 0.23 seconds\n",
      "simplify 1 @ 1875: 0.16 seconds\n",
      "simplify 2 @ 376: 0.03 seconds\n",
      "time: 0.55\n",
      "marching cube: 0.34 seconds\n",
      "mesh_to_polydata: 0.08 seconds\n",
      "simplify 0 @ 22429: 0.56 seconds\n",
      "simplify 1 @ 4487: 0.38 seconds\n",
      "simplify 2 @ 899: 0.05 seconds\n",
      "time: 1.43\n",
      "marching cube: 0.15 seconds\n",
      "mesh_to_polydata: 0.04 seconds\n",
      "simplify 0 @ 20268: 0.34 seconds\n",
      "simplify 1 @ 4056: 0.18 seconds\n",
      "simplify 2 @ 814: 0.04 seconds\n",
      "time: 0.76\n",
      "marching cube: 0.04 seconds\n",
      "mesh_to_polydata: 0.02 seconds\n",
      "simplify 0 @ 11488: 0.13 seconds\n",
      "simplify 1 @ 2299: 0.11 seconds\n",
      "simplify 2 @ 461: 0.02 seconds\n",
      "time: 0.33\n",
      "marching cube: 0.04 seconds\n",
      "mesh_to_polydata: 0.02 seconds\n",
      "simplify 0 @ 10608: 0.13 seconds\n",
      "simplify 1 @ 2123: 0.10 seconds\n",
      "simplify 2 @ 426: 0.02 seconds\n",
      "time: 0.31\n",
      "marching cube: 0.11 seconds\n",
      "mesh_to_polydata: 0.02 seconds\n",
      "simplify 0 @ 15617: 0.16 seconds\n",
      "simplify 1 @ 3125: 0.15 seconds\n",
      "simplify 2 @ 626: 0.04 seconds\n",
      "time: 0.48\n",
      "marching cube: 0.11 seconds\n",
      "mesh_to_polydata: 0.02 seconds\n",
      "simplify 0 @ 15805: 0.15 seconds\n",
      "simplify 1 @ 3162: 0.15 seconds\n",
      "simplify 2 @ 634: 0.03 seconds\n",
      "time: 0.47\n",
      "marching cube: 0.53 seconds\n",
      "mesh_to_polydata: 0.09 seconds\n",
      "simplify 0 @ 59889: 0.63 seconds\n",
      "simplify 1 @ 11979: 0.87 seconds\n",
      "simplify 2 @ 2397: 0.22 seconds\n",
      "time: 2.37\n",
      "marching cube: 0.77 seconds\n",
      "mesh_to_polydata: 0.15 seconds\n",
      "simplify 0 @ 58677: 1.07 seconds\n",
      "simplify 1 @ 11737: 0.99 seconds\n",
      "simplify 2 @ 2349: 0.23 seconds\n",
      "time: 3.25\n",
      "marching cube: 0.03 seconds\n",
      "mesh_to_polydata: 0.02 seconds\n",
      "simplify 0 @ 3638: 0.14 seconds\n",
      "simplify 1 @ 729: 0.08 seconds\n",
      "simplify 2 @ 147: 0.02 seconds\n",
      "time: 0.29\n",
      "marching cube: 0.04 seconds\n",
      "mesh_to_polydata: 0.02 seconds\n",
      "simplify 0 @ 4615: 0.16 seconds\n",
      "simplify 1 @ 924: 0.10 seconds\n",
      "simplify 2 @ 186: 0.02 seconds\n",
      "time: 0.34\n",
      "marching cube: 0.01 seconds\n",
      "mesh_to_polydata: 0.01 seconds\n",
      "simplify 0 @ 1018: 0.04 seconds\n",
      "simplify 1 @ 205: 0.02 seconds\n",
      "simplify 2 @ 42: 0.01 seconds\n",
      "time: 0.09\n",
      "marching cube: 0.01 seconds\n",
      "mesh_to_polydata: 0.01 seconds\n",
      "simplify 0 @ 909: 0.03 seconds\n",
      "simplify 1 @ 183: 0.02 seconds\n",
      "time: 0.07\n",
      "marching cube: 0.14 seconds\n",
      "mesh_to_polydata: 0.06 seconds\n",
      "simplify 0 @ 11312: 0.56 seconds\n",
      "simplify 1 @ 2264: 0.27 seconds\n",
      "simplify 2 @ 454: 0.08 seconds\n",
      "time: 1.11\n",
      "marching cube: 0.26 seconds\n",
      "mesh_to_polydata: 0.13 seconds\n",
      "simplify 0 @ 19587: 0.76 seconds\n",
      "simplify 1 @ 3919: 0.48 seconds\n",
      "simplify 2 @ 785: 0.10 seconds\n",
      "time: 1.74\n",
      "marching cube: 0.28 seconds\n",
      "mesh_to_polydata: 0.07 seconds\n",
      "simplify 0 @ 12804: 0.75 seconds\n",
      "simplify 1 @ 2562: 0.30 seconds\n",
      "simplify 2 @ 514: 0.06 seconds\n",
      "time: 1.47\n"
     ]
    },
    {
     "name": "stderr",
     "output_type": "stream",
     "text": [
      "marching cube: 0.26 seconds\n",
      "mesh_to_polydata: 0.10 seconds\n",
      "simplify 0 @ 17357: 0.90 seconds\n",
      "simplify 1 @ 3473: 0.39 seconds\n",
      "simplify 2 @ 696: 0.10 seconds\n",
      "time: 1.76\n",
      "marching cube: 1.59 seconds\n",
      "mesh_to_polydata: 0.19 seconds\n",
      "simplify 0 @ 74904: 1.61 seconds\n",
      "simplify 1 @ 14982: 1.51 seconds\n",
      "simplify 2 @ 2998: 0.21 seconds\n",
      "time: 5.15\n",
      "marching cube: 0.39 seconds\n",
      "mesh_to_polydata: 0.07 seconds\n",
      "simplify 0 @ 50583: 0.62 seconds\n",
      "simplify 1 @ 10118: 0.57 seconds\n",
      "simplify 2 @ 2025: 0.12 seconds\n",
      "time: 1.78\n",
      "marching cube: 0.03 seconds\n",
      "mesh_to_polydata: 0.01 seconds\n",
      "simplify 0 @ 5528: 0.07 seconds\n",
      "simplify 1 @ 1107: 0.05 seconds\n",
      "simplify 2 @ 223: 0.01 seconds\n",
      "time: 0.17\n",
      "marching cube: 0.03 seconds\n",
      "mesh_to_polydata: 0.01 seconds\n",
      "simplify 0 @ 4768: 0.07 seconds\n",
      "simplify 1 @ 955: 0.04 seconds\n",
      "simplify 2 @ 192: 0.01 seconds\n",
      "time: 0.16\n",
      "marching cube: 0.04 seconds\n",
      "mesh_to_polydata: 0.01 seconds\n",
      "simplify 0 @ 6686: 0.07 seconds\n",
      "simplify 1 @ 1338: 0.06 seconds\n",
      "simplify 2 @ 269: 0.02 seconds\n",
      "time: 0.20\n",
      "marching cube: 0.04 seconds\n",
      "mesh_to_polydata: 0.01 seconds\n",
      "simplify 0 @ 5993: 0.07 seconds\n",
      "simplify 1 @ 1200: 0.05 seconds\n",
      "simplify 2 @ 241: 0.01 seconds\n",
      "time: 0.18\n",
      "marching cube: 0.14 seconds\n",
      "mesh_to_polydata: 0.04 seconds\n",
      "simplify 0 @ 25114: 0.30 seconds\n",
      "simplify 1 @ 5024: 0.25 seconds\n",
      "simplify 2 @ 1006: 0.05 seconds\n",
      "time: 0.79\n",
      "marching cube: 0.12 seconds\n",
      "mesh_to_polydata: 0.04 seconds\n",
      "simplify 0 @ 25453: 0.27 seconds\n",
      "simplify 1 @ 5092: 0.24 seconds\n",
      "simplify 2 @ 1020: 0.05 seconds\n",
      "time: 0.73\n",
      "marching cube: 0.08 seconds\n",
      "mesh_to_polydata: 0.02 seconds\n",
      "simplify 0 @ 14699: 0.17 seconds\n",
      "simplify 1 @ 2941: 0.12 seconds\n",
      "simplify 2 @ 589: 0.03 seconds\n",
      "time: 0.43\n",
      "marching cube: 0.08 seconds\n",
      "mesh_to_polydata: 0.02 seconds\n",
      "simplify 0 @ 14142: 0.16 seconds\n",
      "simplify 1 @ 2830: 0.12 seconds\n",
      "simplify 2 @ 567: 0.03 seconds\n",
      "time: 0.40\n",
      "marching cube: 0.11 seconds\n",
      "mesh_to_polydata: 0.03 seconds\n",
      "simplify 0 @ 22538: 0.23 seconds\n",
      "simplify 1 @ 4509: 0.19 seconds\n",
      "simplify 2 @ 903: 0.04 seconds\n",
      "time: 0.61\n",
      "marching cube: 0.10 seconds\n",
      "mesh_to_polydata: 0.03 seconds\n",
      "simplify 0 @ 22621: 0.23 seconds\n",
      "simplify 1 @ 4525: 0.20 seconds\n",
      "simplify 2 @ 906: 0.04 seconds\n",
      "time: 0.61\n",
      "marching cube: 0.02 seconds\n",
      "mesh_to_polydata: 0.01 seconds\n",
      "simplify 0 @ 5591: 0.06 seconds\n",
      "simplify 1 @ 1119: 0.04 seconds\n",
      "simplify 2 @ 225: 0.01 seconds\n",
      "time: 0.14\n",
      "marching cube: 0.10 seconds\n",
      "mesh_to_polydata: 0.03 seconds\n",
      "simplify 0 @ 25069: 0.24 seconds\n",
      "simplify 1 @ 5015: 0.22 seconds\n",
      "simplify 2 @ 1004: 0.05 seconds\n",
      "time: 0.65\n",
      "marching cube: 0.26 seconds\n",
      "mesh_to_polydata: 0.06 seconds\n",
      "simplify 0 @ 48851: 0.54 seconds\n",
      "simplify 1 @ 9771: 0.49 seconds\n",
      "simplify 2 @ 1955: 0.10 seconds\n",
      "time: 1.46\n",
      "marching cube: 2.38 seconds\n",
      "mesh_to_polydata: 0.35 seconds\n",
      "simplify 0 @ 240594: 5.10 seconds\n",
      "simplify 1 @ 48120: 4.26 seconds\n",
      "simplify 2 @ 9625: 0.61 seconds\n",
      "time: 12.76\n",
      "marching cube: 1.12 seconds\n",
      "mesh_to_polydata: 0.22 seconds\n",
      "simplify 0 @ 126306: 2.41 seconds\n",
      "simplify 1 @ 25263: 2.32 seconds\n",
      "simplify 2 @ 5054: 0.49 seconds\n",
      "time: 6.61\n"
     ]
    }
   ],
   "source": [
    "for stack_m in ['MD585', 'MD594']:\n",
    "# for stack_m in ['MD594']:\n",
    "\n",
    "    stack_m_spec = dict(name=stack_m,\n",
    "                       vol_type='annotationAsScore',\n",
    "                       detector_id=None,\n",
    "                       prep_id=None,\n",
    "                       structure=None,\n",
    "                       resolution='10.0um')\n",
    "\n",
    "\n",
    "    midsagittal_alignment_spec = dict(stack_m=stack_m_spec, \n",
    "                          stack_f=stack_f_spec,\n",
    "                          warp_setting=8)\n",
    "\n",
    "    affine_alignment_spec = dict(stack_m=stack_m_spec, \n",
    "                                stack_f=stack_f_spec,\n",
    "                                warp_setting=9,\n",
    "                                initial_alignment_spec=midsagittal_alignment_spec)\n",
    "    \n",
    "    for name_s in all_known_structures_sided:\n",
    "    # for name_s in ['7N_L']:\n",
    "\n",
    "        try:\n",
    "            vol, origin_wrt_wholebrain_volResol = \\\n",
    "            DataManager.load_transformed_volume_v2(alignment_spec=affine_alignment_spec,\n",
    "                                                   resolution='10.0um',\n",
    "                                                    structure=name_s, return_origin_instead_of_bbox=True)\n",
    "        except:\n",
    "            sys.stderr.write(\"Error loading %s\\n\" % name_s)\n",
    "            continue\n",
    "\n",
    "        t = time.time()\n",
    "        meshes_all_stacks_all_structures[stack_m][name_s] = volume_to_polydata(vol, origin=origin_wrt_wholebrain_volResol, num_simplify_iter=3, smooth=True)\n",
    "        sys.stderr.write('time: %.2f\\n' % (time.time() - t) )\n",
    "\n",
    "    #     mesh_fp = DataManager.get_mesh_filepath_v2(brain_spec=brain_spec, structure=name_s)\n",
    "    #     create_parent_dir_if_not_exists(mesh_fp)\n",
    "    #     save_mesh_stl(mesh, mesh_fp)\n",
    "    #     upload_to_s3(mesh_fp)"
   ]
  },
  {
   "cell_type": "code",
   "execution_count": 103,
   "metadata": {},
   "outputs": [],
   "source": [
    "mesh_actors_wrt_wholebrain_volResol = [actor_mesh(mesh, \n",
    "#                                                   color=np.array(name_unsided_to_color[convert_to_original_name(name_s)])/255., \n",
    "                                  color={'MD589':(1,0,0), 'MD585': (0,0,1), 'MD594': (0,1,0)}[stack],\n",
    "                                  wireframe=True, opacity=.8) \n",
    "                       for stack, meshes_all_structures in meshes_all_stacks_all_structures.iteritems()\n",
    "                                       for name_s, mesh in meshes_all_structures.iteritems()]"
   ]
  },
  {
   "cell_type": "code",
   "execution_count": 104,
   "metadata": {},
   "outputs": [],
   "source": [
    "launch_vtk(mesh_actors_wrt_wholebrain_volResol, \n",
    "           view_up=[0.056929, -0.993415, 0.099426],\n",
    "          focal=[874.247985, 349.971904, 38.088624],\n",
    "          position=[-165.978799, 148.917178, -1375.141280])"
   ]
  }
 ],
 "metadata": {
  "kernelspec": {
   "display_name": "Python 2",
   "language": "python",
   "name": "python2"
  },
  "language_info": {
   "codemirror_mode": {
    "name": "ipython",
    "version": 2
   },
   "file_extension": ".py",
   "mimetype": "text/x-python",
   "name": "python",
   "nbconvert_exporter": "python",
   "pygments_lexer": "ipython2",
   "version": "2.7.12"
  }
 },
 "nbformat": 4,
 "nbformat_minor": 2
}
