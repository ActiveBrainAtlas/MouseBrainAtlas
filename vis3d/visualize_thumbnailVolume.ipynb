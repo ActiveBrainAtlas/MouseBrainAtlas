{
 "cells": [
  {
   "cell_type": "code",
   "execution_count": 1,
   "metadata": {
    "collapsed": false
   },
   "outputs": [
    {
     "name": "stderr",
     "output_type": "stream",
     "text": [
      "/usr/lib/python2.7/dist-packages/pkg_resources.py:1031: UserWarning: /home/yuncong/.python-eggs is writable by group/others and vulnerable to attack when used with get_resource_filename. Consider a more secure location (set with .set_extraction_path or the PYTHON_EGG_CACHE environment variable).\n",
      "  warnings.warn(msg, UserWarning)\n"
     ]
    }
   ],
   "source": [
    "%reload_ext autoreload\n",
    "%autoreload 2\n",
    "\n",
    "import vtk\n",
    "from vtk.util import numpy_support\n",
    "\n",
    "import numpy as np\n",
    "import bloscpack as bp\n",
    "import time\n",
    "import sys\n",
    "import os\n",
    "sys.path.append(os.path.join(os.environ['REPO_DIR'], 'utilities'))\n",
    "\n",
    "from utilities2015 import *\n",
    "from annotation_utilities import *\n",
    "\n",
    "import matplotlib.pyplot as plt\n",
    "%matplotlib inline\n",
    "\n",
    "from vis3d_utilities import *"
   ]
  },
  {
   "cell_type": "code",
   "execution_count": 2,
   "metadata": {
    "collapsed": true
   },
   "outputs": [],
   "source": [
    "volume_dir = '/home/yuncong/CSHL_volumes/'"
   ]
  },
  {
   "cell_type": "code",
   "execution_count": 7,
   "metadata": {
    "collapsed": true
   },
   "outputs": [],
   "source": [
    "stack = 'MD585'"
   ]
  },
  {
   "cell_type": "code",
   "execution_count": null,
   "metadata": {
    "collapsed": true
   },
   "outputs": [],
   "source": [
    "tb_volume = bp.unpack_ndarray_file(volume_dir + \"/%(stack)s/%(stack)s_thumbnailVolume.bp\" % {'stack': stack})"
   ]
  },
  {
   "cell_type": "code",
   "execution_count": 8,
   "metadata": {
    "collapsed": false
   },
   "outputs": [],
   "source": [
    "score_imagedata = volume_to_imagedata(tb_volume)\n",
    "\n",
    "# Render volumes\n",
    "# http://www.vtk.org/Wiki/VTK/Examples/Cxx/VolumeRendering/SmartVolumeMapper\n",
    "\n",
    "ren1 = vtk.vtkRenderer()\n",
    "renWin = vtk.vtkRenderWindow()\n",
    "renWin.AddRenderer(ren1)\n",
    "iren = vtk.vtkRenderWindowInteractor()\n",
    "iren.SetRenderWindow(renWin)\n",
    "\n",
    "# contour_mapper = vtk.vtkPolyDataMapper()\n",
    "# contour_mapper.SetInputData(polydata_outerContour)\n",
    "\n",
    "# contour_actor = vtk.vtkActor()\n",
    "# contour_actor.SetMapper(contour_mapper)\n",
    "# #     a.GetProperty().SetRepresentationToWireframe()\n",
    "# contour_actor.GetProperty().SetColor(1,1,1)\n",
    "# contour_actor.GetProperty().SetOpacity(.1)\n",
    "# ren1.AddActor(contour_actor)\n",
    "\n",
    "imageData = score_imagedata\n",
    "\n",
    "volumeMapper = vtk.vtkSmartVolumeMapper()\n",
    "#     volumeMapper.SetBlendModeToComposite()\n",
    "volumeMapper.SetInputData(imageData)\n",
    "\n",
    "volumeProperty = vtk.vtkVolumeProperty()\n",
    "#     volumeProperty.ShadeOff()\n",
    "# volumeProperty.SetInterpolationType(vtk.VTK_LINEAR_INTERPOLATION)\n",
    "\n",
    "compositeOpacity = vtk.vtkPiecewiseFunction()\n",
    "compositeOpacity.AddPoint(0.0, 0.0)\n",
    "compositeOpacity.AddPoint(240., 0.1)\n",
    "compositeOpacity.AddPoint(255.0, 0.1)\n",
    "volumeProperty.SetScalarOpacity(compositeOpacity)\n",
    "\n",
    "color = vtk.vtkColorTransferFunction()\n",
    "color.AddRGBPoint(0.0, 0,0,0)\n",
    "color.AddRGBPoint(200.0, .5,.5,.5)\n",
    "color.AddRGBPoint(255.0, 1,1,1)\n",
    "volumeProperty.SetColor(color)\n",
    "\n",
    "volume = vtk.vtkVolume()\n",
    "volume.SetMapper(volumeMapper)\n",
    "volume.SetProperty(volumeProperty)\n",
    "\n",
    "ren1.AddActor(volume)\n",
    "\n",
    "camera = vtk.vtkCamera()\n",
    "\n",
    "# 30 degree\n",
    "camera.SetViewUp(0, -1, 0)\n",
    "camera.SetPosition(-10, -5, -5)\n",
    "camera.SetFocalPoint(1, 1, 1)\n",
    "\n",
    "ren1.SetActiveCamera(camera)\n",
    "\n",
    "ren1.ResetCamera()\n",
    "\n",
    "axes = add_axes(iren)\n",
    "\n",
    "renWin.Render()\n",
    "renWin.SetWindowName('Thumbnail Volume %(stack)s' % {'stack': stack})\n",
    "#     renWin.SetSize(600, 600)\n",
    "\n",
    "# windowToImageFilter = vtk.vtkWindowToImageFilter()\n",
    "\n",
    "# windowToImageFilter.SetInput(renWin);\n",
    "# windowToImageFilter.SetMagnification(3); \n",
    "# windowToImageFilter.SetInputBufferTypeToRGBA();\n",
    "# windowToImageFilter.ReadFrontBufferOff();\n",
    "# windowToImageFilter.Update();\n",
    "\n",
    "# writer = vtk.vtkPNGWriter()\n",
    "# writer.SetFileName(volume_dir + \"/%(stack)s/scoreVolume_screenshots/%(stack)s_scoreVolume_%(name)s.png\" % \\\n",
    "#                    {'stack':stack, 'name':name});\n",
    "# writer.SetInputConnection(windowToImageFilter.GetOutputPort());\n",
    "# writer.Write();\n",
    "\n",
    "iren.Start()"
   ]
  }
 ],
 "metadata": {
  "kernelspec": {
   "display_name": "Python 2",
   "language": "python",
   "name": "python2"
  },
  "language_info": {
   "codemirror_mode": {
    "name": "ipython",
    "version": 2
   },
   "file_extension": ".py",
   "mimetype": "text/x-python",
   "name": "python",
   "nbconvert_exporter": "python",
   "pygments_lexer": "ipython2",
   "version": "2.7.6"
  }
 },
 "nbformat": 4,
 "nbformat_minor": 0
}
