{
 "cells": [
  {
   "cell_type": "code",
   "execution_count": 1,
   "metadata": {
    "collapsed": false
   },
   "outputs": [
    {
     "name": "stderr",
     "output_type": "stream",
     "text": [
      "/usr/lib/python2.7/dist-packages/pkg_resources.py:1031: UserWarning: /home/yuncong/.python-eggs is writable by group/others and vulnerable to attack when used with get_resource_filename. Consider a more secure location (set with .set_extraction_path or the PYTHON_EGG_CACHE environment variable).\n",
      "  warnings.warn(msg, UserWarning)\n"
     ]
    }
   ],
   "source": [
    "%reload_ext autoreload\n",
    "%autoreload 2\n",
    "\n",
    "import vtk\n",
    "from vtk.util import numpy_support\n",
    "\n",
    "import numpy as np\n",
    "import bloscpack as bp\n",
    "\n",
    "import sys\n",
    "import os\n",
    "sys.path.append(os.path.join(os.environ['REPO_DIR'], 'utilities'))\n",
    "from utilities2015 import *\n",
    "from annotation_utilities import *\n",
    "from registration_utilities import *\n",
    "\n",
    "from skimage.measure import mesh_surface_area, marching_cubes, correct_mesh_orientation\n",
    "\n",
    "from itertools import izip\n",
    "import pandas as pd\n",
    "\n",
    "import time\n",
    "\n",
    "import matplotlib.pyplot as plt\n",
    "%matplotlib inline\n",
    "\n",
    "from vis3d_utilities import *"
   ]
  },
  {
   "cell_type": "code",
   "execution_count": 2,
   "metadata": {
    "collapsed": true
   },
   "outputs": [],
   "source": [
    "volume_dir = '/home/yuncong/CSHL_volumes/'\n",
    "mesh_rootdir = create_if_not_exists('/home/yuncong/CSHL_meshes')"
   ]
  },
  {
   "cell_type": "code",
   "execution_count": 3,
   "metadata": {
    "collapsed": true
   },
   "outputs": [],
   "source": [
    "with open('colors.txt', 'r') as f:\n",
    "    colors = {l[0]: np.r_[float(l[1]), float(l[2]), float(l[3])] for l in map(lambda x: x.split(), f.readlines())}"
   ]
  },
  {
   "cell_type": "code",
   "execution_count": 4,
   "metadata": {
    "collapsed": true
   },
   "outputs": [],
   "source": [
    "volume_landmark_names_unsided = ['12N', '5N', '6N', '7N', '7n', 'AP', 'Amb', 'LC',\n",
    "                                 'LRt', 'Pn', 'R', 'RtTg', 'Tz', 'VLL', 'sp5']\n",
    "linear_landmark_names_unsided = ['outerContour']\n",
    "\n",
    "labels_unsided = volume_landmark_names_unsided + linear_landmark_names_unsided\n",
    "labels_unsided_indices = dict((j, i+1) for i, j in enumerate(labels_unsided))  # BackG always 0\n",
    "\n",
    "labelMap_unsidedToSided = {'12N': ['12N'],\n",
    "                            '5N': ['5N_L', '5N_R'],\n",
    "                            '6N': ['6N_L', '6N_R'],\n",
    "                            '7N': ['7N_L', '7N_R'],\n",
    "                            '7n': ['7n_L', '7n_R'],\n",
    "                            'AP': ['AP'],\n",
    "                            'Amb': ['Amb_L', 'Amb_R'],\n",
    "                            'LC': ['LC_L', 'LC_R'],\n",
    "                            'LRt': ['LRt_L', 'LRt_R'],\n",
    "                            'Pn': ['Pn_L', 'Pn_R'],\n",
    "                            'R': ['R_L', 'R_R'],\n",
    "                            'RtTg': ['RtTg'],\n",
    "                            'Tz': ['Tz_L', 'Tz_R'],\n",
    "                            'VLL': ['VLL_L', 'VLL_R'],\n",
    "                            'sp5': ['sp5'],\n",
    "                           'outerContour': ['outerContour']}\n",
    "\n",
    "labelMap_sidedToUnsided = {n: nu for nu, ns in labelMap_unsidedToSided.iteritems() for n in ns}\n",
    "\n",
    "from itertools import chain\n",
    "labels_sided = list(chain(*(labelMap_unsidedToSided[name_u] for name_u in labels_unsided)))\n",
    "labels_sided_indices = dict((j, i+1) for i, j in enumerate(labels_sided)) # BackG always 0"
   ]
  },
  {
   "cell_type": "code",
   "execution_count": 5,
   "metadata": {
    "collapsed": true
   },
   "outputs": [],
   "source": [
    "atlas_volume = bp.unpack_ndarray_file(volume_dir + '/atlasVolume_icp.bp').astype(np.int8)\n",
    "\n",
    "available_labels_sided = [labels_sided[i-1] for i in np.unique(atlas_volume) if i > 0]\n",
    "available_labels_unsided = set([labelMap_sidedToUnsided[name] for name in available_labels_sided ])"
   ]
  },
  {
   "cell_type": "code",
   "execution_count": null,
   "metadata": {
    "collapsed": true
   },
   "outputs": [],
   "source": []
  },
  {
   "cell_type": "code",
   "execution_count": null,
   "metadata": {
    "collapsed": false
   },
   "outputs": [],
   "source": [
    "# Download volumes\n",
    "\n",
    "for i, stack in enumerate(['MD589', 'MD594', 'MD585', 'MD593', 'MD592', 'MD590', 'MD591', 'MD595', 'MD598', 'MD602', 'MD603']):\n",
    "    volume_d = volume_dir + '/%(stack)s' % {'stack': stack}\n",
    "    create_if_not_exists(volume_d)\n",
    "    os.system('scp gcn:/oasis/projects/nsf/csd395/yuncong/CSHL_volumes/%(stack)s/%(stack)s_atlasProjectedVolume.bp %(volume_d)s/' % {'stack': stack, 'volume_d':volume_d})\n",
    "    os.system('scp gcn:/oasis/projects/nsf/csd395/yuncong/CSHL_volumes/%(stack)s/%(stack)s_localAdjustedVolume.bp %(volume_d)s/' % {'stack': stack, 'volume_d':volume_d})\n",
    "    \n",
    "#     for name_s in available_labels_unsided:\n",
    "#         os.system('scp gcn:/oasis/projects/nsf/csd395/yuncong/CSHL_volumes/%(stack)s/%(stack)s_scoreVolume_%(name_s)s.bp %(volume_d)s/' % \\\n",
    "#                   {'stack': stack, 'volume_d':volume_d, 'name_s': name_s})"
   ]
  },
  {
   "cell_type": "code",
   "execution_count": null,
   "metadata": {
    "collapsed": true
   },
   "outputs": [],
   "source": []
  },
  {
   "cell_type": "code",
   "execution_count": 6,
   "metadata": {
    "collapsed": true
   },
   "outputs": [],
   "source": [
    "def fill_sparse_volume(volume_sparse):\n",
    "\n",
    "    volume = np.zeros_like(volume_sparse, np.int8)\n",
    "\n",
    "    for z in range(volume_sparse.shape[-1]):\n",
    "        for ind, cnts in find_contour_points(volume_sparse[..., z]).iteritems():\n",
    "            cnt = cnts[np.argsort(map(len, cnts))[-1]]\n",
    "            pts = points_inside_contour(cnt)\n",
    "            volume[pts[:,1], pts[:,0], z] = ind\n",
    "    return volume"
   ]
  },
  {
   "cell_type": "code",
   "execution_count": null,
   "metadata": {
    "collapsed": false,
    "scrolled": true
   },
   "outputs": [],
   "source": [
    "for stack in ['MD589', 'MD594', 'MD585', 'MD593', 'MD592', 'MD590', 'MD591', 'MD595', 'MD598', 'MD602', 'MD603']:\n",
    "    mesh_dir = create_if_not_exists(os.path.join(mesh_rootdir, stack))\n",
    "    \n",
    "    #################\n",
    "    \n",
    "    volume_sparse = bp.unpack_ndarray_file(volume_dir + '%(stack)s/%(stack)s_atlasProjectedVolume.bp' % {'stack':stack}).astype(np.int8)\n",
    "    atlasProjected_volume = fill_sparse_volume(volume_sparse)\n",
    "\n",
    "    atlasProjectedVolume_landmark_bboxes = {name: bbox_3d(atlasProjected_volume == labels_sided_indices[name])\n",
    "                               for name in available_labels_sided}\n",
    "    \n",
    "    ###################\n",
    "    \n",
    "    for name_s in available_labels_sided:\n",
    "\n",
    "        print name_s\n",
    "\n",
    "        xmin, xmax, ymin, ymax, zmin, zmax = atlasProjectedVolume_landmark_bboxes[name_s]\n",
    "\n",
    "        vol = (atlasProjected_volume[ymin:ymax+1, xmin:xmax+1, zmin:zmax+1] == labels_sided_indices[name_s]).astype(np.float)\n",
    "\n",
    "        t = time.time()\n",
    "\n",
    "        polydata = volume_to_polydata(vol, origin=(xmin,ymin,zmin), num_simplify_iter=3, smooth=True)\n",
    "\n",
    "        sys.stderr.write('time: %.2f\\n' % (time.time() - t) ) # ~ 150s for outerContour; 93s for sp5\n",
    "\n",
    "        save_mesh_stl(polydata, mesh_dir + \"/%(stack)s_atlasProjectedVolume_%(name)s_smoothed.stl\" % {'stack': stack, 'name': name_s})\n",
    "        \n",
    "    ####################\n",
    "        \n",
    "    volume_sparse = bp.unpack_ndarray_file(volume_dir + '%(stack)s/%(stack)s_localAdjustedVolume.bp' % {'stack':stack}).astype(np.int8)\n",
    "    localAdjusted_volume = fill_sparse_volume(volume_sparse)\n",
    "\n",
    "    localAdjustedVolume_landmark_bboxes = {name: bbox_3d(localAdjusted_volume == labels_sided_indices[name])\n",
    "                               for name in available_labels_sided}\n",
    "\n",
    "    ######################\n",
    "    \n",
    "    for name_s in available_labels_sided:\n",
    "\n",
    "        print name_s\n",
    "\n",
    "        xmin, xmax, ymin, ymax, zmin, zmax = localAdjustedVolume_landmark_bboxes[name_s]\n",
    "\n",
    "        vol = (localAdjusted_volume[ymin:ymax+1, xmin:xmax+1, zmin:zmax+1] == labels_sided_indices[name_s]).astype(np.float)\n",
    "\n",
    "        t = time.time()\n",
    "\n",
    "        polydata = volume_to_polydata(vol, origin=(xmin,ymin,zmin), num_simplify_iter=3, smooth=True)\n",
    "\n",
    "        sys.stderr.write('time: %.2f\\n' % (time.time() - t) )\n",
    "\n",
    "        save_mesh_stl(polydata, mesh_dir + \"/%(stack)s_localAdjustedVolume_%(name)s_smoothed.stl\" % {'stack': stack, 'name': name_s})"
   ]
  },
  {
   "cell_type": "code",
   "execution_count": null,
   "metadata": {
    "collapsed": true
   },
   "outputs": [],
   "source": []
  },
  {
   "cell_type": "code",
   "execution_count": 54,
   "metadata": {
    "collapsed": true
   },
   "outputs": [],
   "source": [
    "stack = 'MD591'\n",
    "mesh_dir = create_if_not_exists(os.path.join(mesh_rootdir, stack))"
   ]
  },
  {
   "cell_type": "code",
   "execution_count": 55,
   "metadata": {
    "collapsed": false
   },
   "outputs": [],
   "source": [
    "volume_sparse = bp.unpack_ndarray_file(volume_dir + '%(stack)s/%(stack)s_atlasProjectedVolume.bp' % {'stack':stack}).astype(np.int8)\n",
    "atlasProjected_volume = fill_sparse_volume(volume_sparse)\n",
    "del volume_sparse\n",
    "\n",
    "atlasProjectedVolume_landmark_bboxes = {name: bbox_3d(atlasProjected_volume == labels_sided_indices[name])\n",
    "                           for name in available_labels_sided}"
   ]
  },
  {
   "cell_type": "code",
   "execution_count": null,
   "metadata": {
    "collapsed": false
   },
   "outputs": [],
   "source": [
    "for name_s in available_labels_sided:\n",
    "\n",
    "    print name_s\n",
    "\n",
    "    xmin, xmax, ymin, ymax, zmin, zmax = atlasProjectedVolume_landmark_bboxes[name_s]\n",
    "\n",
    "    vol = (atlasProjected_volume[ymin:ymax+1, xmin:xmax+1, zmin:zmax+1] == labels_sided_indices[name_s]).astype(np.float)\n",
    "    \n",
    "    t = time.time()\n",
    "    polydata = volume_to_polydata(vol, origin=(xmin,ymin,zmin), num_simplify_iter=3, smooth=True)\n",
    "    sys.stderr.write('time: %.2f\\n' % (time.time() - t) ) # ~ 150s for outerContour; 93s for sp5\n",
    "    \n",
    "    save_mesh_stl(polydata, mesh_dir + \"/%(stack)s_atlasProjectedVolume_%(name)s_smoothed.stl\" % {'stack': stack, 'name': name_s})"
   ]
  },
  {
   "cell_type": "code",
   "execution_count": 56,
   "metadata": {
    "collapsed": true
   },
   "outputs": [],
   "source": [
    "volume_sparse = bp.unpack_ndarray_file(volume_dir + '%(stack)s/%(stack)s_localAdjustedVolume.bp' % {'stack':stack}).astype(np.int8)\n",
    "localAdjusted_volume = fill_sparse_volume(volume_sparse)\n",
    "del volume_sparse\n",
    "\n",
    "localAdjustedVolume_landmark_bboxes = {name: bbox_3d(localAdjusted_volume == labels_sided_indices[name])\n",
    "                           for name in available_labels_sided}"
   ]
  },
  {
   "cell_type": "code",
   "execution_count": 57,
   "metadata": {
    "collapsed": false,
    "scrolled": true
   },
   "outputs": [
    {
     "name": "stdout",
     "output_type": "stream",
     "text": [
      "12N\n",
      "area: 49886.66"
     ]
    },
    {
     "name": "stderr",
     "output_type": "stream",
     "text": [
      "marching cube: 0.18 seconds\n",
      "compute surface area: 0.01 seconds\n",
      "fill point array: 0.07 seconds\n",
      "fill cell array: 0.00 seconds\n",
      "mesh_to_polydata: 0.07 seconds\n",
      "simplify 0 @ 59933: 0.50 seconds\n",
      "simplify 1 @ 11988: 0.58 seconds\n",
      "simplify 2 @ 2399: 0.11 seconds\n"
     ]
    },
    {
     "name": "stdout",
     "output_type": "stream",
     "text": [
      "\n",
      "5N_L"
     ]
    },
    {
     "name": "stderr",
     "output_type": "stream",
     "text": [
      "time: 1.47\n",
      "marching cube: 0.09 seconds\n"
     ]
    },
    {
     "name": "stdout",
     "output_type": "stream",
     "text": [
      "\n",
      "area: 29714.46"
     ]
    },
    {
     "name": "stderr",
     "output_type": "stream",
     "text": [
      "compute surface area: 0.01 seconds\n",
      "fill point array: 0.06 seconds\n",
      "fill cell array: 0.00 seconds\n",
      "mesh_to_polydata: 0.06 seconds\n",
      "simplify 0 @ 31160: 0.37 seconds\n",
      "simplify 1 @ 6233: 0.28 seconds\n",
      "simplify 2 @ 1248: 0.05 seconds\n"
     ]
    },
    {
     "name": "stdout",
     "output_type": "stream",
     "text": [
      "\n",
      "5N_R"
     ]
    },
    {
     "name": "stderr",
     "output_type": "stream",
     "text": [
      "time: 0.87\n",
      "marching cube: 0.09 seconds\n"
     ]
    },
    {
     "name": "stdout",
     "output_type": "stream",
     "text": [
      "\n",
      "area: 30801.54"
     ]
    },
    {
     "name": "stderr",
     "output_type": "stream",
     "text": [
      "compute surface area: 0.01 seconds\n",
      "fill point array: 0.05 seconds\n",
      "fill cell array: 0.00 seconds\n",
      "mesh_to_polydata: 0.05 seconds\n",
      "simplify 0 @ 34307: 0.32 seconds\n",
      "simplify 1 @ 6863: 0.35 seconds\n",
      "simplify 2 @ 1374: 0.09 seconds\n"
     ]
    },
    {
     "name": "stdout",
     "output_type": "stream",
     "text": [
      "\n",
      "6N_L"
     ]
    },
    {
     "name": "stderr",
     "output_type": "stream",
     "text": [
      "time: 0.92\n",
      "marching cube: 0.01 seconds\n",
      "compute surface area: 0.00 seconds\n",
      "fill point array: 0.01 seconds\n",
      "fill cell array: 0.00 seconds\n",
      "mesh_to_polydata: 0.01 seconds\n",
      "simplify 0 @ 4253: 0.05 seconds\n"
     ]
    },
    {
     "name": "stdout",
     "output_type": "stream",
     "text": [
      "\n",
      "area: 3926.46\n",
      "6N_R"
     ]
    },
    {
     "name": "stderr",
     "output_type": "stream",
     "text": [
      "simplify 1 @ 852: 0.04 seconds\n",
      "time: 0.13\n",
      "marching cube: 0.01 seconds\n",
      "compute surface area: 0.00 seconds\n",
      "fill point array: 0.01 seconds\n",
      "fill cell array: 0.00 seconds\n",
      "mesh_to_polydata: 0.01 seconds\n",
      "simplify 0 @ 4172: 0.04 seconds\n"
     ]
    },
    {
     "name": "stdout",
     "output_type": "stream",
     "text": [
      "\n",
      "area: 3917.21\n",
      "7N_L"
     ]
    },
    {
     "name": "stderr",
     "output_type": "stream",
     "text": [
      "simplify 1 @ 836: 0.03 seconds\n",
      "time: 0.10\n",
      "marching cube: 0.16 seconds\n"
     ]
    },
    {
     "name": "stdout",
     "output_type": "stream",
     "text": [
      "\n",
      "area: 49532.00"
     ]
    },
    {
     "name": "stderr",
     "output_type": "stream",
     "text": [
      "compute surface area: 0.02 seconds\n",
      "fill point array: 0.10 seconds\n",
      "fill cell array: 0.00 seconds\n",
      "mesh_to_polydata: 0.10 seconds\n",
      "simplify 0 @ 54386: 0.55 seconds\n",
      "simplify 1 @ 10879: 0.53 seconds\n",
      "simplify 2 @ 2177: 0.10 seconds\n"
     ]
    },
    {
     "name": "stdout",
     "output_type": "stream",
     "text": [
      "\n",
      "7N_R"
     ]
    },
    {
     "name": "stderr",
     "output_type": "stream",
     "text": [
      "time: 1.47\n",
      "marching cube: 0.21 seconds\n"
     ]
    },
    {
     "name": "stdout",
     "output_type": "stream",
     "text": [
      "\n",
      "area: 48619.77"
     ]
    },
    {
     "name": "stderr",
     "output_type": "stream",
     "text": [
      "compute surface area: 0.01 seconds\n",
      "fill point array: 0.07 seconds\n",
      "fill cell array: 0.00 seconds\n",
      "mesh_to_polydata: 0.07 seconds\n",
      "simplify 0 @ 52890: 0.50 seconds\n",
      "simplify 1 @ 10581: 0.51 seconds\n",
      "simplify 2 @ 2119: 0.10 seconds\n"
     ]
    },
    {
     "name": "stdout",
     "output_type": "stream",
     "text": [
      "\n",
      "7n_L"
     ]
    },
    {
     "name": "stderr",
     "output_type": "stream",
     "text": [
      "time: 1.42\n",
      "marching cube: 0.50 seconds\n"
     ]
    },
    {
     "name": "stdout",
     "output_type": "stream",
     "text": [
      "\n",
      "area: 42792.54"
     ]
    },
    {
     "name": "stderr",
     "output_type": "stream",
     "text": [
      "compute surface area: 0.01 seconds\n",
      "fill point array: 0.07 seconds\n",
      "fill cell array: 0.00 seconds\n",
      "mesh_to_polydata: 0.07 seconds\n",
      "simplify 0 @ 49745: 0.43 seconds\n",
      "simplify 1 @ 9950: 0.47 seconds\n",
      "simplify 2 @ 1991: 0.10 seconds\n"
     ]
    },
    {
     "name": "stdout",
     "output_type": "stream",
     "text": [
      "\n",
      "7n_R"
     ]
    },
    {
     "name": "stderr",
     "output_type": "stream",
     "text": [
      "time: 1.59\n",
      "marching cube: 0.36 seconds\n"
     ]
    },
    {
     "name": "stdout",
     "output_type": "stream",
     "text": [
      "\n",
      "area: 41373.39"
     ]
    },
    {
     "name": "stderr",
     "output_type": "stream",
     "text": [
      "compute surface area: 0.01 seconds\n",
      "fill point array: 0.07 seconds\n",
      "fill cell array: 0.00 seconds\n",
      "mesh_to_polydata: 0.08 seconds\n",
      "simplify 0 @ 47678: 0.43 seconds\n",
      "simplify 1 @ 9538: 0.44 seconds\n",
      "simplify 2 @ 1909: 0.09 seconds\n"
     ]
    },
    {
     "name": "stdout",
     "output_type": "stream",
     "text": [
      "\n",
      "AP"
     ]
    },
    {
     "name": "stderr",
     "output_type": "stream",
     "text": [
      "time: 1.41\n",
      "marching cube: 0.02 seconds\n",
      "compute surface area: 0.00 seconds\n",
      "fill point array: 0.02 seconds\n",
      "fill cell array: 0.00 seconds\n",
      "mesh_to_polydata: 0.02 seconds\n",
      "simplify 0 @ 11852: 0.10 seconds\n"
     ]
    },
    {
     "name": "stdout",
     "output_type": "stream",
     "text": [
      "\n",
      "area: 11058.12\n",
      "Amb_L"
     ]
    },
    {
     "name": "stderr",
     "output_type": "stream",
     "text": [
      "simplify 1 @ 2372: 0.09 seconds\n",
      "simplify 2 @ 476: 0.02 seconds\n",
      "time: 0.25\n",
      "marching cube: 0.01 seconds\n",
      "compute surface area: 0.00 seconds\n",
      "fill point array: 0.01 seconds\n",
      "fill cell array: 0.00 seconds\n",
      "mesh_to_polydata: 0.01 seconds\n",
      "simplify 0 @ 4848: 0.04 seconds\n"
     ]
    },
    {
     "name": "stdout",
     "output_type": "stream",
     "text": [
      "\n",
      "area: 4689.23\n",
      "Amb_R"
     ]
    },
    {
     "name": "stderr",
     "output_type": "stream",
     "text": [
      "simplify 1 @ 971: 0.03 seconds\n",
      "time: 0.10\n",
      "marching cube: 0.01 seconds\n",
      "compute surface area: 0.00 seconds\n",
      "fill point array: 0.01 seconds\n",
      "fill cell array: 0.00 seconds\n",
      "mesh_to_polydata: 0.01 seconds\n",
      "simplify 0 @ 5373: 0.04 seconds\n"
     ]
    },
    {
     "name": "stdout",
     "output_type": "stream",
     "text": [
      "\n",
      "area: 5115.16\n",
      "LC_L"
     ]
    },
    {
     "name": "stderr",
     "output_type": "stream",
     "text": [
      "simplify 1 @ 1076: 0.04 seconds\n",
      "simplify 2 @ 216: 0.01 seconds\n",
      "time: 0.11\n",
      "marching cube: 0.04 seconds\n",
      "compute surface area: 0.00 seconds\n",
      "fill point array: 0.02 seconds\n",
      "fill cell array: 0.00 seconds\n",
      "mesh_to_polydata: 0.02 seconds\n",
      "simplify 0 @ 14923: 0.13 seconds\n"
     ]
    },
    {
     "name": "stdout",
     "output_type": "stream",
     "text": [
      "\n",
      "area: 13511.95\n",
      "LC_R"
     ]
    },
    {
     "name": "stderr",
     "output_type": "stream",
     "text": [
      "simplify 1 @ 2986: 0.11 seconds\n",
      "simplify 2 @ 598: 0.02 seconds\n",
      "time: 0.33\n",
      "marching cube: 0.05 seconds\n"
     ]
    },
    {
     "name": "stdout",
     "output_type": "stream",
     "text": [
      "\n",
      "area: 13920.67"
     ]
    },
    {
     "name": "stderr",
     "output_type": "stream",
     "text": [
      "compute surface area: 0.00 seconds\n",
      "fill point array: 0.02 seconds\n",
      "fill cell array: 0.00 seconds\n",
      "mesh_to_polydata: 0.02 seconds\n",
      "simplify 0 @ 15297: 0.14 seconds\n"
     ]
    },
    {
     "name": "stdout",
     "output_type": "stream",
     "text": [
      "\n",
      "LRt_L"
     ]
    },
    {
     "name": "stderr",
     "output_type": "stream",
     "text": [
      "simplify 1 @ 3061: 0.12 seconds\n",
      "simplify 2 @ 613: 0.02 seconds\n",
      "time: 0.36\n",
      "marching cube: 0.25 seconds\n"
     ]
    },
    {
     "name": "stdout",
     "output_type": "stream",
     "text": [
      "\n",
      "area: 43437.93"
     ]
    },
    {
     "name": "stderr",
     "output_type": "stream",
     "text": [
      "compute surface area: 0.01 seconds\n",
      "fill point array: 0.07 seconds\n",
      "fill cell array: 0.00 seconds\n",
      "mesh_to_polydata: 0.08 seconds\n",
      "simplify 0 @ 48796: 0.45 seconds\n",
      "simplify 1 @ 9760: 0.46 seconds\n",
      "simplify 2 @ 1953: 0.11 seconds\n"
     ]
    },
    {
     "name": "stdout",
     "output_type": "stream",
     "text": [
      "\n",
      "LRt_R"
     ]
    },
    {
     "name": "stderr",
     "output_type": "stream",
     "text": [
      "time: 1.37\n",
      "marching cube: 0.38 seconds\n"
     ]
    },
    {
     "name": "stdout",
     "output_type": "stream",
     "text": [
      "\n",
      "area: 43376.67"
     ]
    },
    {
     "name": "stderr",
     "output_type": "stream",
     "text": [
      "compute surface area: 0.01 seconds\n",
      "fill point array: 0.06 seconds\n",
      "fill cell array: 0.00 seconds\n",
      "mesh_to_polydata: 0.06 seconds\n",
      "simplify 0 @ 49709: 0.44 seconds\n",
      "simplify 1 @ 9943: 0.46 seconds\n",
      "simplify 2 @ 1990: 0.09 seconds\n"
     ]
    },
    {
     "name": "stdout",
     "output_type": "stream",
     "text": [
      "\n",
      "Pn_L"
     ]
    },
    {
     "name": "stderr",
     "output_type": "stream",
     "text": [
      "time: 1.47\n",
      "marching cube: 0.39 seconds\n"
     ]
    },
    {
     "name": "stdout",
     "output_type": "stream",
     "text": [
      "\n",
      "area: 77374.94"
     ]
    },
    {
     "name": "stderr",
     "output_type": "stream",
     "text": [
      "compute surface area: 0.02 seconds\n",
      "fill point array: 0.14 seconds\n",
      "fill cell array: 0.00 seconds\n",
      "mesh_to_polydata: 0.15 seconds\n",
      "simplify 0 @ 93475: 0.83 seconds\n",
      "simplify 1 @ 18696: 1.02 seconds\n",
      "simplify 2 @ 3740: 0.19 seconds\n"
     ]
    },
    {
     "name": "stdout",
     "output_type": "stream",
     "text": [
      "\n",
      "Pn_R"
     ]
    },
    {
     "name": "stderr",
     "output_type": "stream",
     "text": [
      "time: 2.61\n",
      "marching cube: 0.34 seconds\n"
     ]
    },
    {
     "name": "stdout",
     "output_type": "stream",
     "text": [
      "\n",
      "area: 77445.79"
     ]
    },
    {
     "name": "stderr",
     "output_type": "stream",
     "text": [
      "compute surface area: 0.02 seconds\n",
      "fill point array: 0.11 seconds\n",
      "fill cell array: 0.00 seconds\n",
      "mesh_to_polydata: 0.11 seconds\n",
      "simplify 0 @ 93743: 0.80 seconds\n",
      "simplify 1 @ 18750: 0.96 seconds\n",
      "simplify 2 @ 3751: 0.19 seconds\n"
     ]
    },
    {
     "name": "stdout",
     "output_type": "stream",
     "text": [
      "\n",
      "R_L"
     ]
    },
    {
     "name": "stderr",
     "output_type": "stream",
     "text": [
      "time: 2.44\n",
      "marching cube: 0.03 seconds\n",
      "compute surface area: 0.00 seconds\n",
      "fill point array: 0.02 seconds\n",
      "fill cell array: 0.00 seconds\n",
      "mesh_to_polydata: 0.02 seconds\n",
      "simplify 0 @ 14619: 0.13 seconds\n"
     ]
    },
    {
     "name": "stdout",
     "output_type": "stream",
     "text": [
      "\n",
      "area: 13925.33\n",
      "R_R"
     ]
    },
    {
     "name": "stderr",
     "output_type": "stream",
     "text": [
      "simplify 1 @ 2925: 0.12 seconds\n",
      "simplify 2 @ 586: 0.02 seconds\n",
      "time: 0.33\n",
      "marching cube: 0.04 seconds\n",
      "compute surface area: 0.00 seconds\n",
      "fill point array: 0.02 seconds\n",
      "fill cell array: 0.00 seconds\n",
      "mesh_to_polydata: 0.02 seconds\n",
      "simplify 0 @ 15846: 0.13 seconds\n"
     ]
    },
    {
     "name": "stdout",
     "output_type": "stream",
     "text": [
      "\n",
      "area: 14184.56\n",
      "RtTg"
     ]
    },
    {
     "name": "stderr",
     "output_type": "stream",
     "text": [
      "simplify 1 @ 3170: 0.13 seconds\n",
      "simplify 2 @ 635: 0.03 seconds\n",
      "time: 0.35\n",
      "marching cube: 0.37 seconds\n"
     ]
    },
    {
     "name": "stdout",
     "output_type": "stream",
     "text": [
      "\n",
      "area: 76848.75"
     ]
    },
    {
     "name": "stderr",
     "output_type": "stream",
     "text": [
      "compute surface area: 0.02 seconds\n",
      "fill point array: 0.12 seconds\n",
      "fill cell array: 0.00 seconds\n",
      "mesh_to_polydata: 0.13 seconds\n",
      "simplify 0 @ 92308: 0.81 seconds\n",
      "simplify 1 @ 18464: 0.99 seconds\n",
      "simplify 2 @ 3694: 0.18 seconds\n"
     ]
    },
    {
     "name": "stdout",
     "output_type": "stream",
     "text": [
      "\n",
      "Tz_L"
     ]
    },
    {
     "name": "stderr",
     "output_type": "stream",
     "text": [
      "time: 2.52\n",
      "marching cube: 0.07 seconds\n"
     ]
    },
    {
     "name": "stdout",
     "output_type": "stream",
     "text": [
      "\n",
      "area: 25915.80"
     ]
    },
    {
     "name": "stderr",
     "output_type": "stream",
     "text": [
      "compute surface area: 0.01 seconds\n",
      "fill point array: 0.04 seconds\n",
      "fill cell array: 0.00 seconds\n",
      "mesh_to_polydata: 0.04 seconds\n",
      "simplify 0 @ 28691: 0.25 seconds\n",
      "simplify 1 @ 5739: 0.25 seconds\n",
      "simplify 2 @ 1149: 0.05 seconds\n"
     ]
    },
    {
     "name": "stdout",
     "output_type": "stream",
     "text": [
      "\n",
      "Tz_R"
     ]
    },
    {
     "name": "stderr",
     "output_type": "stream",
     "text": [
      "time: 0.68\n",
      "marching cube: 0.12 seconds\n"
     ]
    },
    {
     "name": "stdout",
     "output_type": "stream",
     "text": [
      "\n",
      "area: 25815.32"
     ]
    },
    {
     "name": "stderr",
     "output_type": "stream",
     "text": [
      "compute surface area: 0.01 seconds\n",
      "fill point array: 0.06 seconds\n",
      "fill cell array: 0.00 seconds\n",
      "mesh_to_polydata: 0.06 seconds\n",
      "simplify 0 @ 30403: 0.27 seconds\n",
      "simplify 1 @ 6082: 0.30 seconds\n",
      "simplify 2 @ 1218: 0.07 seconds\n"
     ]
    },
    {
     "name": "stdout",
     "output_type": "stream",
     "text": [
      "\n",
      "VLL_L"
     ]
    },
    {
     "name": "stderr",
     "output_type": "stream",
     "text": [
      "time: 0.83\n",
      "marching cube: 0.23 seconds\n"
     ]
    },
    {
     "name": "stdout",
     "output_type": "stream",
     "text": [
      "\n",
      "area: 45390.52"
     ]
    },
    {
     "name": "stderr",
     "output_type": "stream",
     "text": [
      "compute surface area: 0.03 seconds\n",
      "fill point array: 0.10 seconds\n",
      "fill cell array: 0.00 seconds\n",
      "mesh_to_polydata: 0.11 seconds\n",
      "simplify 0 @ 46854: 0.60 seconds\n",
      "simplify 1 @ 9372: 0.46 seconds\n",
      "simplify 2 @ 1876: 0.08 seconds\n"
     ]
    },
    {
     "name": "stdout",
     "output_type": "stream",
     "text": [
      "\n",
      "VLL_R"
     ]
    },
    {
     "name": "stderr",
     "output_type": "stream",
     "text": [
      "time: 1.52\n",
      "marching cube: 0.15 seconds\n"
     ]
    },
    {
     "name": "stdout",
     "output_type": "stream",
     "text": [
      "\n",
      "area: 43291.55"
     ]
    },
    {
     "name": "stderr",
     "output_type": "stream",
     "text": [
      "compute surface area: 0.01 seconds\n",
      "fill point array: 0.06 seconds\n",
      "fill cell array: 0.00 seconds\n",
      "mesh_to_polydata: 0.06 seconds\n",
      "simplify 0 @ 38026: 0.52 seconds\n",
      "simplify 1 @ 7606: 0.37 seconds\n",
      "simplify 2 @ 1522: 0.07 seconds\n"
     ]
    },
    {
     "name": "stdout",
     "output_type": "stream",
     "text": [
      "\n"
     ]
    },
    {
     "name": "stderr",
     "output_type": "stream",
     "text": [
      "time: 1.19\n"
     ]
    }
   ],
   "source": [
    "for name_s in available_labels_sided:\n",
    "\n",
    "    print name_s\n",
    "\n",
    "    xmin, xmax, ymin, ymax, zmin, zmax = localAdjustedVolume_landmark_bboxes[name_s]\n",
    "\n",
    "    vol = (localAdjusted_volume[ymin:ymax+1, xmin:xmax+1, zmin:zmax+1] == labels_sided_indices[name_s]).astype(np.float)\n",
    "    \n",
    "    t = time.time()\n",
    "    polydata = volume_to_polydata(vol, origin=(xmin,ymin,zmin), num_simplify_iter=3, smooth=True)\n",
    "    sys.stderr.write('time: %.2f\\n' % (time.time() - t) )\n",
    "    \n",
    "    save_mesh_stl(polydata, mesh_dir + \"/%(stack)s_localAdjustedVolume_%(name)s_smoothed.stl\" % {'stack': stack, 'name': name_s})"
   ]
  },
  {
   "cell_type": "code",
   "execution_count": null,
   "metadata": {
    "collapsed": true
   },
   "outputs": [],
   "source": []
  },
  {
   "cell_type": "code",
   "execution_count": null,
   "metadata": {
    "collapsed": false
   },
   "outputs": [],
   "source": [
    "# Load atlasProjected volume\n",
    "\n",
    "atlasProjected_polydata_list = {}\n",
    "\n",
    "for name_s in available_labels_sided:\n",
    "\n",
    "    fn = mesh_rootdir + \"/%(stack)s/%(stack)s_atlasProjectedVolume_%(name)s_smoothed.stl\" % {'stack': stack, 'name': name_s}\n",
    "\n",
    "    reader = vtk.vtkSTLReader()\n",
    "    reader.SetFileName(fn)\n",
    "    reader.Update()\n",
    "\n",
    "    polydata = reader.GetOutput()    \n",
    "    atlasProjected_polydata_list[name_s] = polydata"
   ]
  },
  {
   "cell_type": "code",
   "execution_count": 58,
   "metadata": {
    "collapsed": true
   },
   "outputs": [],
   "source": [
    "# Load localAdjusted volume\n",
    "\n",
    "localAdjusted_polydata_list = {}\n",
    "\n",
    "for name_s in available_labels_sided:\n",
    "\n",
    "    fn = mesh_rootdir + \"/%(stack)s/%(stack)s_localAdjustedVolume_%(name)s_smoothed.stl\" % {'stack': stack, 'name': name_s}\n",
    "\n",
    "    reader = vtk.vtkSTLReader()\n",
    "    reader.SetFileName(fn)\n",
    "    reader.Update()\n",
    "\n",
    "    polydata = reader.GetOutput()    \n",
    "    localAdjusted_polydata_list[name_s] = polydata"
   ]
  },
  {
   "cell_type": "code",
   "execution_count": 59,
   "metadata": {
    "collapsed": false
   },
   "outputs": [],
   "source": [
    "ren1 = vtk.vtkRenderer()\n",
    "\n",
    "renWin1 = vtk.vtkRenderWindow()\n",
    "renWin1.AddRenderer(ren1)\n",
    "\n",
    "iren1 = vtk.vtkRenderWindowInteractor()\n",
    "iren1.SetRenderWindow(renWin1)\n",
    "\n",
    "camera = vtk.vtkCamera()\n",
    "\n",
    "# 45 degree\n",
    "camera.SetViewUp(0, -1, 0)\n",
    "camera.SetPosition(-20, -30, -10)\n",
    "camera.SetFocalPoint(1, 1, 1)\n",
    "\n",
    "# # saggital\n",
    "# camera.SetViewUp(0, -1, 0)\n",
    "# camera.SetPosition(0, 0, -2)\n",
    "# camera.SetFocalPoint(0, 0, 1)\n",
    "\n",
    "# # coronal\n",
    "# camera.SetViewUp(0, -1, 0)\n",
    "# camera.SetPosition(-2, 0, 0)\n",
    "# camera.SetFocalPoint(-1, 0, 0)\n",
    "\n",
    "# # horizontal\n",
    "# camera.SetViewUp(0, 0, -1)\n",
    "# camera.SetPosition(0, 1, 0)\n",
    "# camera.SetFocalPoint(0, -1, 0)\n",
    "\n",
    "# for i, (name_s, polydata) in enumerate(atlasProjected_polydata_list.iteritems()):\n",
    "    \n",
    "#     m = vtk.vtkPolyDataMapper()\n",
    "#     m.SetInputData(polydata)\n",
    "\n",
    "#     a = vtk.vtkActor()\n",
    "#     a.SetMapper(m)\n",
    "#     a.GetProperty().SetRepresentationToWireframe()\n",
    "# #     a.GetProperty().SetColor(colors[labelMap_sidedToUnsided[name_s]])\n",
    "#     a.GetProperty().SetColor((1.,1.,1.))\n",
    "    \n",
    "#     a.GetProperty().SetOpacity(.1)\n",
    "    \n",
    "#     if name_s == 'outerContour':\n",
    "#         a.GetProperty().SetOpacity(.1)\n",
    "            \n",
    "#     ren1.AddActor(a)\n",
    "\n",
    "    \n",
    "for i, (name_s, polydata) in enumerate(localAdjusted_polydata_list.iteritems()):\n",
    "    \n",
    "    m = vtk.vtkPolyDataMapper()\n",
    "    m.SetInputData(polydata)\n",
    "\n",
    "    a = vtk.vtkActor()\n",
    "    a.SetMapper(m)\n",
    "    a.GetProperty().SetRepresentationToWireframe()\n",
    "#     a.GetProperty().SetColor(colors[labelMap_sidedToUnsided[name_s]])\n",
    "    a.GetProperty().SetColor((1.,0.,0.))\n",
    "\n",
    "    if name_s == 'outerContour':\n",
    "        a.GetProperty().SetOpacity(.1)\n",
    "            \n",
    "    ren1.AddActor(a)\n",
    "    \n",
    "\n",
    "############ Show score volume ###########    \n",
    "\n",
    "# for name in available_labels_unsided:\n",
    "# for name in ['7N']:\n",
    "\n",
    "#     score_volume = bp.unpack_ndarray_file(volume_dir + '/%(stack)s/%(stack)s_scoreVolume_%(name)s.bp' % \\\n",
    "#                                           {'stack':stack, 'name':name})\n",
    "#     score_imagedata = volume_to_imagedata(score_volume)\n",
    "\n",
    "#     volumeMapper = vtk.vtkSmartVolumeMapper()\n",
    "#     #     volumeMapper.SetBlendModeToComposite()\n",
    "#     volumeMapper.SetInputData(score_imagedata)\n",
    "\n",
    "#     volumeProperty = vtk.vtkVolumeProperty()\n",
    "#     #     volumeProperty.ShadeOff()\n",
    "#     # volumeProperty.SetInterpolationType(vtk.VTK_LINEAR_INTERPOLATION)\n",
    "\n",
    "#     compositeOpacity = vtk.vtkPiecewiseFunction()\n",
    "#     compositeOpacity.AddPoint(0.0, 0.0)\n",
    "#     compositeOpacity.AddPoint(0.95, 0.01)\n",
    "#     compositeOpacity.AddPoint(1.0, 1.0)\n",
    "#     volumeProperty.SetScalarOpacity(compositeOpacity)\n",
    "\n",
    "#     color = vtk.vtkColorTransferFunction()\n",
    "# #     c = colors[name]\n",
    "#     c = (1., 1., 1.)\n",
    "#     color.AddRGBPoint(0.0, c[0], c[1], c[2])\n",
    "#     color.AddRGBPoint(255.0, c[0], c[1], c[2])\n",
    "#     volumeProperty.SetColor(color)\n",
    "\n",
    "#     a = vtk.vtkVolume()\n",
    "#     a.SetMapper(volumeMapper)\n",
    "#     a.SetProperty(volumeProperty)\n",
    "\n",
    "#     ren1.AddActor(a)\n",
    "    \n",
    "    \n",
    "ren1.SetActiveCamera(camera)\n",
    "\n",
    "widget1 = add_axes(iren1)\n",
    "renWin1.Render()\n",
    "\n",
    "ren1.ResetCamera()\n",
    "renWin1.SetWindowName('original')\n",
    "\n",
    "iren1.Start()"
   ]
  }
 ],
 "metadata": {
  "kernelspec": {
   "display_name": "Python 2",
   "language": "python",
   "name": "python2"
  },
  "language_info": {
   "codemirror_mode": {
    "name": "ipython",
    "version": 2
   },
   "file_extension": ".py",
   "mimetype": "text/x-python",
   "name": "python",
   "nbconvert_exporter": "python",
   "pygments_lexer": "ipython2",
   "version": "2.7.6"
  }
 },
 "nbformat": 4,
 "nbformat_minor": 0
}
