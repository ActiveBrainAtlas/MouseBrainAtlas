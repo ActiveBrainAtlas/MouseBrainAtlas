{
 "cells": [
  {
   "cell_type": "code",
   "execution_count": 1,
   "metadata": {
    "collapsed": false
   },
   "outputs": [
    {
     "name": "stderr",
     "output_type": "stream",
     "text": [
      "/usr/lib/python2.7/dist-packages/pkg_resources.py:1031: UserWarning: /home/yuncong/.python-eggs is writable by group/others and vulnerable to attack when used with get_resource_filename. Consider a more secure location (set with .set_extraction_path or the PYTHON_EGG_CACHE environment variable).\n",
      "  warnings.warn(msg, UserWarning)\n"
     ]
    }
   ],
   "source": [
    "%reload_ext autoreload\n",
    "%autoreload 2\n",
    "\n",
    "import vtk\n",
    "from vtk.util import numpy_support\n",
    "\n",
    "import numpy as np\n",
    "import bloscpack as bp\n",
    "\n",
    "import sys\n",
    "import os\n",
    "sys.path.append(os.path.join(os.environ['REPO_DIR'], 'utilities'))\n",
    "from utilities2015 import *\n",
    "from annotation_utilities import *\n",
    "from registration_utilities import *\n",
    "\n",
    "from skimage.measure import mesh_surface_area, marching_cubes, correct_mesh_orientation\n",
    "\n",
    "from itertools import izip\n",
    "import pandas as pd\n",
    "\n",
    "import time\n",
    "\n",
    "import matplotlib.pyplot as plt\n",
    "%matplotlib inline\n",
    "\n",
    "from vis3d_utilities import *"
   ]
  },
  {
   "cell_type": "code",
   "execution_count": 3,
   "metadata": {
    "collapsed": true
   },
   "outputs": [],
   "source": [
    "with open('colors.txt', 'r') as f:\n",
    "    colors = {l[0]: np.r_[float(l[1]), float(l[2]), float(l[3])] for l in map(lambda x: x.split(), f.readlines())}"
   ]
  },
  {
   "cell_type": "code",
   "execution_count": 4,
   "metadata": {
    "collapsed": true
   },
   "outputs": [],
   "source": [
    "atlas_volume = bp.unpack_ndarray_file(volume_dir + '/atlasVolume_icp.bp').astype(np.int8)\n",
    "\n",
    "available_labels_sided = [labels_sided[i-1] for i in np.unique(atlas_volume) if i > 0]\n",
    "available_labels_unsided = set([labelMap_sidedToUnsided[name] for name in available_labels_sided ])"
   ]
  },
  {
   "cell_type": "code",
   "execution_count": null,
   "metadata": {
    "collapsed": true
   },
   "outputs": [],
   "source": []
  },
  {
   "cell_type": "code",
   "execution_count": null,
   "metadata": {
    "collapsed": true
   },
   "outputs": [],
   "source": [
    "# Convert projected volumes to meshes"
   ]
  },
  {
   "cell_type": "code",
   "execution_count": null,
   "metadata": {
    "collapsed": true
   },
   "outputs": [],
   "source": [
    "def fill_sparse_volume(volume_sparse):\n",
    "    '''\n",
    "    Sometimes, volumes formed by projecting from other volumes result in holes in corresponding regions.\n",
    "    This function fills the holes.\n",
    "    '''\n",
    "\n",
    "    volume = np.zeros_like(volume_sparse, np.int8)\n",
    "\n",
    "    for z in range(volume_sparse.shape[-1]):\n",
    "        for ind, cnts in find_contour_points(volume_sparse[..., z]).iteritems():\n",
    "            cnt = cnts[np.argsort(map(len, cnts))[-1]]\n",
    "            pts = points_inside_contour(cnt)\n",
    "            volume[pts[:,1], pts[:,0], z] = ind\n",
    "    return volume"
   ]
  },
  {
   "cell_type": "code",
   "execution_count": null,
   "metadata": {
    "collapsed": false,
    "scrolled": true
   },
   "outputs": [],
   "source": [
    "for stack in ['MD589', 'MD594', 'MD585', 'MD593', 'MD592', 'MD590', 'MD591', 'MD595', 'MD598', 'MD602', 'MD603']:\n",
    "    mesh_dir = create_if_not_exists(os.path.join(mesh_rootdir, stack))\n",
    "    \n",
    "    #################\n",
    "    \n",
    "    volume_sparse = bp.unpack_ndarray_file(volume_dir + '%(stack)s/%(stack)s_atlasProjectedVolume.bp' % {'stack':stack}).astype(np.int8)\n",
    "    atlasProjected_volume = fill_sparse_volume(volume_sparse)\n",
    "    del volume_sparse\n",
    "\n",
    "    atlasProjectedVolume_landmark_bboxes = {name: bbox_3d(atlasProjected_volume == labels_sided_indices[name])\n",
    "                               for name in available_labels_sided}\n",
    "    \n",
    "    ###################\n",
    "    \n",
    "    for name_s in available_labels_sided:\n",
    "\n",
    "        print name_s\n",
    "\n",
    "        xmin, xmax, ymin, ymax, zmin, zmax = atlasProjectedVolume_landmark_bboxes[name_s]\n",
    "\n",
    "        vol = (atlasProjected_volume[ymin:ymax+1, xmin:xmax+1, zmin:zmax+1] == labels_sided_indices[name_s]).astype(np.float)\n",
    "\n",
    "        t = time.time()\n",
    "\n",
    "        polydata = volume_to_polydata(vol, origin=(xmin,ymin,zmin), num_simplify_iter=3, smooth=True)\n",
    "\n",
    "        sys.stderr.write('time: %.2f\\n' % (time.time() - t) ) # ~ 150s for outerContour; 93s for sp5\n",
    "\n",
    "        save_mesh_stl(polydata, mesh_dir + \"/%(stack)s_atlasProjectedVolume_%(name)s_smoothed.stl\" % {'stack': stack, 'name': name_s})\n",
    "        \n",
    "    ####################\n",
    "        \n",
    "    volume_sparse = bp.unpack_ndarray_file(volume_dir + '%(stack)s/%(stack)s_localAdjustedVolume.bp' % {'stack':stack}).astype(np.int8)\n",
    "    localAdjusted_volume = fill_sparse_volume(volume_sparse)\n",
    "    del volume_sparse\n",
    "    \n",
    "    localAdjustedVolume_landmark_bboxes = {name: bbox_3d(localAdjusted_volume == labels_sided_indices[name])\n",
    "                               for name in available_labels_sided}\n",
    "\n",
    "    ######################\n",
    "    \n",
    "    for name_s in available_labels_sided:\n",
    "\n",
    "        print name_s\n",
    "\n",
    "        xmin, xmax, ymin, ymax, zmin, zmax = localAdjustedVolume_landmark_bboxes[name_s]\n",
    "\n",
    "        vol = (localAdjusted_volume[ymin:ymax+1, xmin:xmax+1, zmin:zmax+1] == labels_sided_indices[name_s]).astype(np.float)\n",
    "\n",
    "        t = time.time()\n",
    "\n",
    "        polydata = volume_to_polydata(vol, origin=(xmin,ymin,zmin), num_simplify_iter=3, smooth=True)\n",
    "\n",
    "        sys.stderr.write('time: %.2f\\n' % (time.time() - t) )\n",
    "\n",
    "        save_mesh_stl(polydata, mesh_dir + \"/%(stack)s_localAdjustedVolume_%(name)s_smoothed.stl\" % {'stack': stack, 'name': name_s})"
   ]
  },
  {
   "cell_type": "code",
   "execution_count": null,
   "metadata": {
    "collapsed": true
   },
   "outputs": [],
   "source": []
  },
  {
   "cell_type": "code",
   "execution_count": 5,
   "metadata": {
    "collapsed": true
   },
   "outputs": [],
   "source": [
    "stack = 'MD591'"
   ]
  },
  {
   "cell_type": "code",
   "execution_count": 6,
   "metadata": {
    "collapsed": false
   },
   "outputs": [],
   "source": [
    "# Load atlasProjected volume\n",
    "\n",
    "atlasProjected_polydata_list = {}\n",
    "\n",
    "for name_s in available_labels_sided:\n",
    "\n",
    "    fn = mesh_rootdir + \"/%(stack)s/%(stack)s_atlasProjectedVolume_%(name)s_smoothed.stl\" % {'stack': stack, 'name': name_s}\n",
    "\n",
    "    reader = vtk.vtkSTLReader()\n",
    "    reader.SetFileName(fn)\n",
    "    reader.Update()\n",
    "\n",
    "    polydata = reader.GetOutput()    \n",
    "    atlasProjected_polydata_list[name_s] = polydata"
   ]
  },
  {
   "cell_type": "code",
   "execution_count": 8,
   "metadata": {
    "collapsed": true
   },
   "outputs": [],
   "source": [
    "# Load localAdjusted volume\n",
    "\n",
    "localAdjusted_polydata_list = {}\n",
    "\n",
    "for name_s in available_labels_sided:\n",
    "\n",
    "    fn = mesh_rootdir + \"/%(stack)s/%(stack)s_localAdjustedVolume_%(name)s_smoothed.stl\" % {'stack': stack, 'name': name_s}\n",
    "\n",
    "    reader = vtk.vtkSTLReader()\n",
    "    reader.SetFileName(fn)\n",
    "    reader.Update()\n",
    "\n",
    "    polydata = reader.GetOutput()    \n",
    "    localAdjusted_polydata_list[name_s] = polydata"
   ]
  },
  {
   "cell_type": "code",
   "execution_count": null,
   "metadata": {
    "collapsed": false
   },
   "outputs": [],
   "source": [
    "# Load thumbnail volume\n",
    "\n",
    "tb_volume = bp.unpack_ndarray_file(volume_dir + \"/%(stack)s/%(stack)s_thumbnailVolume.bp\" % {'stack': stack})\n",
    "\n",
    "xmin, xmax, ymin, ymax, zmin, zmax = np.loadtxt(volume_dir + \"/%(stack)s/%(stack)s_scoreVolume_limits.txt\" % {'stack': stack}, np.int)\n",
    "\n",
    "from scipy.ndimage.interpolation import zoom\n",
    "tb_volume_scaledToScoreVolume = img_as_ubyte(zoom(tb_volume, 2)[ymin:ymax+1, xmin:xmax+1, zmin:zmax+1])\n",
    "bp.pack_ndarray_file(tb_volume_scaledToScoreVolume, \n",
    "                     volume_dir + \"/%(stack)s/%(stack)s_thumbnailVolume_scaledToScoreVolume.bp\" % {'stack': stack})"
   ]
  },
  {
   "cell_type": "code",
   "execution_count": null,
   "metadata": {
    "collapsed": true
   },
   "outputs": [],
   "source": []
  },
  {
   "cell_type": "code",
   "execution_count": 12,
   "metadata": {
    "collapsed": false
   },
   "outputs": [],
   "source": [
    "mesh_actors = [actor_mesh(polydata, colors[labelMap_sidedToUnsided[name_s]], opacity=.7) \n",
    "               for name_s, polydata in localAdjusted_polydata_list.iteritems()]\n",
    "\n",
    "launch_vtk(mesh_actors)"
   ]
  },
  {
   "cell_type": "code",
   "execution_count": 14,
   "metadata": {
    "collapsed": true
   },
   "outputs": [],
   "source": [
    "name_s = '7N_L'\n",
    "\n",
    "mesh_actor = actor_mesh(localAdjusted_polydata_list[name_s], colors[labelMap_sidedToUnsided[name_s]], opacity=.7)\n",
    "\n",
    "score_volume_actor = actor_volume(load_score_volume(stack, labelMap_sidedToUnsided[name_s]), 'score')\n",
    "\n",
    "launch_vtk([mesh_actor, score_volume_actor])"
   ]
  },
  {
   "cell_type": "code",
   "execution_count": 17,
   "metadata": {
    "collapsed": false,
    "scrolled": true
   },
   "outputs": [],
   "source": [
    "oneStructure_screenshot_dir = create_if_not_exists(volume_dir + '/%(stack)s/atlasProjected_score_screenshots' % {'stack':stack})\n",
    "\n",
    "for name_s in available_labels_sided:\n",
    "\n",
    "    mesh_actor = actor_mesh(atlasProjected_polydata_list[name_s], colors[labelMap_sidedToUnsided[name_s]], opacity=.7)\n",
    "\n",
    "    score_volume_actor = actor_volume(load_score_volume(stack, labelMap_sidedToUnsided[name_s]), 'score')\n",
    "\n",
    "    launch_vtk([mesh_actor, score_volume_actor], interactive=False, \n",
    "               snapshot_fn=oneStructure_screenshot_dir + '/atlasProjected_score_%(name_s)s.png' % \\\n",
    "               {'stack': stack, 'name_s': name_s})"
   ]
  },
  {
   "cell_type": "code",
   "execution_count": 18,
   "metadata": {
    "collapsed": false
   },
   "outputs": [],
   "source": [
    "oneStructure_screenshot_dir = create_if_not_exists(volume_dir + '/%(stack)s/localAdjusted_score_screenshots' % {'stack':stack})\n",
    "\n",
    "for name_s in available_labels_sided:\n",
    "\n",
    "    mesh_actor = actor_mesh(localAdjusted_polydata_list[name_s], colors[labelMap_sidedToUnsided[name_s]], opacity=.7)\n",
    "\n",
    "    score_volume_actor = actor_volume(load_score_volume(stack, labelMap_sidedToUnsided[name_s]), 'score')\n",
    "\n",
    "    launch_vtk([mesh_actor, score_volume_actor], interactive=False, \n",
    "               snapshot_fn=oneStructure_screenshot_dir + '/localAdjusted_score_%(name_s)s.png' % \\\n",
    "               {'stack': stack, 'name_s': name_s})"
   ]
  },
  {
   "cell_type": "code",
   "execution_count": null,
   "metadata": {
    "collapsed": true
   },
   "outputs": [],
   "source": []
  }
 ],
 "metadata": {
  "kernelspec": {
   "display_name": "Python 2",
   "language": "python",
   "name": "python2"
  },
  "language_info": {
   "codemirror_mode": {
    "name": "ipython",
    "version": 2
   },
   "file_extension": ".py",
   "mimetype": "text/x-python",
   "name": "python",
   "nbconvert_exporter": "python",
   "pygments_lexer": "ipython2",
   "version": "2.7.6"
  }
 },
 "nbformat": 4,
 "nbformat_minor": 0
}
