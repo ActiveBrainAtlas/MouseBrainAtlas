{
 "cells": [
  {
   "cell_type": "code",
   "execution_count": 1,
   "metadata": {
    "collapsed": false,
    "scrolled": true
   },
   "outputs": [],
   "source": [
    "import vtk\n",
    "from vtk.util import numpy_support\n",
    "\n",
    "import numpy as np\n",
    "import bloscpack as bp\n",
    "\n",
    "import sys\n",
    "import os\n",
    "sys.path.append(os.path.join(os.environ['REPO_DIR'], 'utilities'))\n",
    "from utilities2015 import *\n",
    "\n",
    "from skimage.measure import mesh_surface_area, marching_cubes, correct_mesh_orientation\n",
    "\n",
    "from skimage.measure import find_contours"
   ]
  },
  {
   "cell_type": "code",
   "execution_count": 3,
   "metadata": {
    "collapsed": true
   },
   "outputs": [],
   "source": [
    "polydata_list = []"
   ]
  },
  {
   "cell_type": "code",
   "execution_count": 4,
   "metadata": {
    "collapsed": false
   },
   "outputs": [],
   "source": [
    "vertices_list = []\n",
    "faces_list = []\n",
    "\n",
    "for label in ['5N']:\n",
    "    for stack in ['MD589', 'MD593']:\n",
    "        reader = vtk.vtkSTLReader()\n",
    "        reader.SetFileName(\"/home/yuncong/CSHL_meshes/%(stack)s/%(stack)s_%(label)s_L.stl\" % \\\n",
    "                           {'stack':stack, 'label':label})\n",
    "        reader.Update()\n",
    "        \n",
    "        polydata = reader.GetOutput()\n",
    "        \n",
    "        vertices = numpy_support.vtk_to_numpy(polydata.GetPoints().GetData())\n",
    "        a = numpy_support.vtk_to_numpy(polydata.GetPolys().GetData())\n",
    "        faces = np.c_[a[1::4], a[2::4], a[3::4]]\n",
    "        \n",
    "        vertices_list.append(vertices)\n",
    "        faces_list.append(faces)\n",
    "        \n",
    "        reader.SetFileName(\"/home/yuncong/CSHL_meshes/%(stack)s/%(stack)s_%(label)s_R.stl\" % \\\n",
    "                           {'stack':stack, 'label':label})\n",
    "        reader.Update()\n",
    "        polydata_list.append(reader.GetOutput())\n",
    "        \n",
    "        polydata = reader.GetOutput()\n",
    "        \n",
    "        vertices = numpy_support.vtk_to_numpy(polydata.GetPoints().GetData())\n",
    "        a = numpy_support.vtk_to_numpy(polydata.GetPolys().GetData())\n",
    "        faces = np.c_[a[1::4], a[2::4], a[3::4]]\n",
    "        \n",
    "        # mirror by z axis, for some reason is the first dimension\n",
    "        vertices[..., 0] = -vertices[..., 0]\n",
    "        \n",
    "        vertices_list.append(vertices)\n",
    "        faces_list.append(faces)"
   ]
  },
  {
   "cell_type": "code",
   "execution_count": 5,
   "metadata": {
    "collapsed": true
   },
   "outputs": [],
   "source": [
    "labels = ['BackG', '5N', '7n', '7N', '12N', 'Gr', 'LVe', 'Pn', 'SuVe', 'VLL', \n",
    "                     '6N', 'Amb', 'R', 'Tz', 'Sol', 'RtTg', 'LRt', 'LC', 'AP', 'sp5']\n",
    "\n",
    "label_dict = dict([(l,i) for i, l in enumerate(labels)])"
   ]
  },
  {
   "cell_type": "code",
   "execution_count": 6,
   "metadata": {
    "collapsed": true
   },
   "outputs": [],
   "source": [
    "from itertools import izip"
   ]
  },
  {
   "cell_type": "code",
   "execution_count": 7,
   "metadata": {
    "collapsed": false
   },
   "outputs": [],
   "source": [
    "u1 = None\n",
    "vertices_normalized_aligned_list = []\n",
    "\n",
    "for i, (vertices, faces) in enumerate(zip(vertices_list, faces_list)):\n",
    "    centroid = vertices.mean(axis=0)\n",
    "    scale = np.sqrt(((vertices - centroid)**2).mean())\n",
    "    vertices_normalized = (vertices - centroid) / scale\n",
    "    \n",
    "    u, s, v = np.linalg.svd(np.dot(vertices_normalized.T, vertices_normalized)/vertices_normalized.shape[0])\n",
    "\n",
    "    if i == 0:\n",
    "        u1 = u\n",
    "    \n",
    "    U, _, VT = np.linalg.svd(np.dot(u1, u.T))\n",
    "    R = np.dot(U, VT)\n",
    "\n",
    "    vertices_normalized_alignedTo1 = np.dot(vertices_normalized, R.T)\n",
    "\n",
    "    vertices_normalized_aligned_list.append(vertices_normalized_alignedTo1)"
   ]
  },
  {
   "cell_type": "code",
   "execution_count": null,
   "metadata": {
    "collapsed": true
   },
   "outputs": [],
   "source": [
    "polydata_list = []\n",
    "\n",
    "for vs, fs in zip(vertices_normalized_aligned_list, faces_list):\n",
    "        \n",
    "    polydata = vtk.vtkPolyData()\n",
    "\n",
    "    points = vtk.vtkPoints()\n",
    "    for pt_ind, (x,y,z) in enumerate(vs):\n",
    "        points.InsertPoint(pt_ind, x, y, z)\n",
    "\n",
    "    cells = vtk.vtkCellArray()\n",
    "    for ia, ib, ic in fs:\n",
    "        cells.InsertNextCell(3)\n",
    "        cells.InsertCellPoint(ia)\n",
    "        cells.InsertCellPoint(ib)\n",
    "        cells.InsertCellPoint(ic)\n",
    "\n",
    "    polydata.SetPoints(points)\n",
    "    polydata.SetPolys(cells)\n",
    "    polydata.SetVerts(cells)\n",
    "    \n",
    "    polydata_list.append(polydata)"
   ]
  },
  {
   "cell_type": "code",
   "execution_count": null,
   "metadata": {
    "collapsed": true
   },
   "outputs": [],
   "source": [
    "ren1 = vtk.vtkRenderer()\n",
    "renWin = vtk.vtkRenderWindow()\n",
    "renWin.AddRenderer(ren1)\n",
    "iren = vtk.vtkRenderWindowInteractor()\n",
    "iren.SetRenderWindow(renWin)\n",
    "\n",
    "colors = [(1,0,0), (0,1,0), (0,0,1), (1,1,0)]\n",
    "\n",
    "for i in range(len(vertices_list)):\n",
    "    m = vtk.vtkPolyDataMapper()\n",
    "    m.SetInputData(polydata_list[i])\n",
    "\n",
    "    a = vtk.vtkActor()\n",
    "    a.SetMapper(m)\n",
    "    a.GetProperty().SetRepresentationToWireframe()\n",
    "    a.GetProperty().SetColor(colors[i])\n",
    "    \n",
    "    ren1.AddActor(a)\n",
    "\n",
    "renWin.Render()\n",
    "iren.Start()"
   ]
  },
  {
   "cell_type": "code",
   "execution_count": null,
   "metadata": {
    "collapsed": true
   },
   "outputs": [],
   "source": []
  },
  {
   "cell_type": "code",
   "execution_count": null,
   "metadata": {
    "collapsed": true
   },
   "outputs": [],
   "source": [
    "def compute_vertex_normals(vertices, faces, k=20):\n",
    "    ias = faces[:,0]\n",
    "    ibs = faces[:,1]\n",
    "    ics = faces[:,2]\n",
    "\n",
    "    va = vertices[ias]\n",
    "    vb = vertices[ibs]\n",
    "    vc = vertices[ics]\n",
    "\n",
    "    faces_normals = np.cross(va-vb, vb-vc)\n",
    "#     faces_normals_normalized = faces_normals/np.sqrt(np.sum(faces_normals**2, axis=1))[:, np.newaxis]\n",
    "\n",
    "#     adjacent_vertices = [set([]) for _  in range(len(vertices))]\n",
    "#     for face_i, (ia, ib, ic) in enumerate(faces):\n",
    "#         adjacent_vertices[ia].add(face_i)\n",
    "#         adjacent_vertices[ib].add(face_i)\n",
    "#         adjacent_vertices[ic].add(face_i)\n",
    "    \n",
    "#     vertices_normals = np.array([faces_normals[list(face_inds)].mean(axis=0) for face_inds in adjacent_vertices])\n",
    "\n",
    "\n",
    "    face_centroids = (vertices[ias] + vertices[ibs] + vertices[ics]) / 3.\n",
    "    \n",
    "    face_centroid_tree = KDTree(face_centroids)\n",
    "    distsToFacesClosestToVertices, indicesFacesClosestToVertices = face_centroid_tree.query(vertices, k=k)    \n",
    "\n",
    "    vertices_normals = np.array([faces_normals[list(face_inds)].mean(axis=0) \n",
    "                                 for face_inds in indicesFacesClosestToVertices])\n",
    "\n",
    "    \n",
    "    vertices_normals_normalized = vertices/np.sqrt(np.sum(vertices**2, axis=1))[:, np.newaxis]\n",
    "    \n",
    "    return vertices_normals_normalized"
   ]
  },
  {
   "cell_type": "code",
   "execution_count": null,
   "metadata": {
    "collapsed": false,
    "scrolled": true
   },
   "outputs": [],
   "source": [
    "vertices1_normals_normalized = compute_vertex_normals(vertices1_normalized, faces1_corrected)\n",
    "vertices2_normals_normalized = compute_vertex_normals(vertices2_normalized_alignedTo1, faces2_corrected)"
   ]
  },
  {
   "cell_type": "code",
   "execution_count": null,
   "metadata": {
    "collapsed": false
   },
   "outputs": [],
   "source": [
    "vertices1_normals_normalized.shape"
   ]
  },
  {
   "cell_type": "code",
   "execution_count": null,
   "metadata": {
    "collapsed": false
   },
   "outputs": [],
   "source": [
    "vertices2_normals_normalized.shape"
   ]
  },
  {
   "cell_type": "code",
   "execution_count": null,
   "metadata": {
    "collapsed": false
   },
   "outputs": [],
   "source": [
    "D = np.abs(np.dot(vertices1_normals_normalized[:100], vertices2_normals_normalized.T))"
   ]
  },
  {
   "cell_type": "code",
   "execution_count": null,
   "metadata": {
    "collapsed": false
   },
   "outputs": [],
   "source": [
    "ps1, ps2 = np.where(D < 1e-3)"
   ]
  },
  {
   "cell_type": "code",
   "execution_count": null,
   "metadata": {
    "collapsed": false
   },
   "outputs": [],
   "source": [
    "vertices2_normals_normalized[76]"
   ]
  },
  {
   "cell_type": "code",
   "execution_count": null,
   "metadata": {
    "collapsed": false,
    "scrolled": true
   },
   "outputs": [],
   "source": [
    "q = np.vstack([vertices2_normalized_alignedTo1[np.where(ps1 == i)[0]] for i in range(100)])"
   ]
  },
  {
   "cell_type": "code",
   "execution_count": null,
   "metadata": {
    "collapsed": true
   },
   "outputs": [],
   "source": []
  },
  {
   "cell_type": "code",
   "execution_count": null,
   "metadata": {
    "collapsed": true
   },
   "outputs": [],
   "source": []
  },
  {
   "cell_type": "code",
   "execution_count": null,
   "metadata": {
    "collapsed": true
   },
   "outputs": [],
   "source": [
    "vertices_list = [vertices1_normalized[:100], q]"
   ]
  },
  {
   "cell_type": "code",
   "execution_count": null,
   "metadata": {
    "collapsed": false
   },
   "outputs": [],
   "source": [
    "polydata_list = [vtk.vtkPolyData() for _ in range(2)]\n",
    "for i in range(2):\n",
    "\n",
    "    vs = vertices_list[i]\n",
    "#     fs = faces_list[i]\n",
    "\n",
    "#     vertices_vtkdata = numpy_support.numpy_to_vtk(num_array=vs, deep=True)\n",
    "    \n",
    "    polydata = vtk.vtkPolyData()\n",
    "\n",
    "    points = vtk.vtkPoints()\n",
    "#     points.SetData(vertices_vtkdata)\n",
    "#     polydata.SetPoints(points)\n",
    "\n",
    "    cells = vtk.vtkCellArray()\n",
    "    \n",
    "    c = 0\n",
    "    for p in vs:\n",
    "        cells.InsertNextCell(1)\n",
    "        points.InsertPoint(c, p[0], p[1], p[2])\n",
    "        cells.InsertCellPoint(c)\n",
    "        c += 1\n",
    "    \n",
    "    polydata.SetPoints(points)\n",
    "    polydata.SetVerts(cells)\n",
    "    \n",
    "    polydata_list[i].DeepCopy(polydata)\n",
    "    \n",
    "ren1 = vtk.vtkRenderer()\n",
    "renWin = vtk.vtkRenderWindow()\n",
    "renWin.AddRenderer(ren1)\n",
    "iren = vtk.vtkRenderWindowInteractor()\n",
    "iren.SetRenderWindow(renWin)\n",
    "\n",
    "colors = [(1,0,0), (0,1,0)]\n",
    "\n",
    "for i in range(2):\n",
    "    m = vtk.vtkPolyDataMapper()\n",
    "    m.SetInputData(polydata_list[i])\n",
    "\n",
    "    a = vtk.vtkActor()\n",
    "    a.SetMapper(m)\n",
    "#     a.GetProperty().SetRepresentationToWireframe()\n",
    "    a.GetProperty().SetColor(colors[i])\n",
    "    \n",
    "    ren1.AddActor(a)\n",
    "\n",
    "renWin.Render()\n",
    "iren.Start()"
   ]
  },
  {
   "cell_type": "code",
   "execution_count": null,
   "metadata": {
    "collapsed": true
   },
   "outputs": [],
   "source": []
  },
  {
   "cell_type": "code",
   "execution_count": null,
   "metadata": {
    "collapsed": false
   },
   "outputs": [],
   "source": [
    "polydata_list = [vtk.vtkPolyData() for _ in range(2)]\n",
    "for i in range(2):\n",
    "\n",
    "    vs = vertices_list[i]\n",
    "    fs = faces_list[i]\n",
    "\n",
    "    vertices_vtkdata = numpy_support.numpy_to_vtk(num_array=vs, deep=True)\n",
    "    \n",
    "    polydata = vtk.vtkPolyData()\n",
    "\n",
    "    points = vtk.vtkPoints()\n",
    "    points.SetData(vertices_vtkdata)\n",
    "    polydata.SetPoints(points)\n",
    "\n",
    "    cells = vtk.vtkCellArray()\n",
    "\n",
    "    tris = []\n",
    "    for a,b,c in fs:\n",
    "        tris.append(3)\n",
    "        tris.append(a)\n",
    "        tris.append(b)\n",
    "        tris.append(c)\n",
    "    tris = np.array(tris)\n",
    "\n",
    "    cells.SetCells(len(tris) / 4, numpy_support.numpy_to_vtkIdTypeArray(tris))\n",
    "\n",
    "    polydata.SetPolys(cells)\n",
    "    \n",
    "    polydata_list[i].DeepCopy(polydata)"
   ]
  },
  {
   "cell_type": "code",
   "execution_count": null,
   "metadata": {
    "collapsed": false
   },
   "outputs": [],
   "source": [
    "ren1 = vtk.vtkRenderer()\n",
    "renWin = vtk.vtkRenderWindow()\n",
    "renWin.AddRenderer(ren1)\n",
    "iren = vtk.vtkRenderWindowInteractor()\n",
    "iren.SetRenderWindow(renWin)\n",
    "\n",
    "colors = [(1,0,0), (0,1,0)]\n",
    "\n",
    "for i in range(2):\n",
    "    m = vtk.vtkPolyDataMapper()\n",
    "    m.SetInputData(polydata_list[i])\n",
    "\n",
    "    a = vtk.vtkActor()\n",
    "    a.SetMapper(m)\n",
    "#     a.GetProperty().SetRepresentationToWireframe()\n",
    "    a.GetProperty().SetColor(colors[i])\n",
    "    \n",
    "    ren1.AddActor(a)\n",
    "\n",
    "renWin.Render()\n",
    "iren.Start()"
   ]
  },
  {
   "cell_type": "code",
   "execution_count": null,
   "metadata": {
    "collapsed": true
   },
   "outputs": [],
   "source": []
  },
  {
   "cell_type": "code",
   "execution_count": null,
   "metadata": {
    "collapsed": true
   },
   "outputs": [],
   "source": [
    "from scipy.spatial import KDTree"
   ]
  },
  {
   "cell_type": "code",
   "execution_count": null,
   "metadata": {
    "collapsed": true
   },
   "outputs": [],
   "source": [
    "tree1 = KDTree(vertices1_normalized)"
   ]
  },
  {
   "cell_type": "code",
   "execution_count": null,
   "metadata": {
    "collapsed": true
   },
   "outputs": [],
   "source": [
    "tree2 = KDTree(vertices2_normalized_alignedTo1)"
   ]
  },
  {
   "cell_type": "code",
   "execution_count": null,
   "metadata": {
    "collapsed": true
   },
   "outputs": [],
   "source": [
    "dists1_closestTo2, indices1_closestTo2 = tree1.query(vertices2_normalized_alignedTo1)"
   ]
  },
  {
   "cell_type": "code",
   "execution_count": null,
   "metadata": {
    "collapsed": true
   },
   "outputs": [],
   "source": [
    "dists2_closestTo1, indices2_closestTo1 = tree2.query(vertices1_normalized)"
   ]
  },
  {
   "cell_type": "code",
   "execution_count": null,
   "metadata": {
    "collapsed": false,
    "scrolled": true
   },
   "outputs": [],
   "source": [
    "matched_indices = set((i1, i2) for i2, i1 in enumerate(indices1_closestTo2)) & \\\n",
    "                    set((i1, i2) for i1, i2 in enumerate(indices2_closestTo1))"
   ]
  },
  {
   "cell_type": "code",
   "execution_count": null,
   "metadata": {
    "collapsed": false
   },
   "outputs": [],
   "source": [
    "matched_indices_arr = np.array(list(matched_indices))"
   ]
  },
  {
   "cell_type": "code",
   "execution_count": null,
   "metadata": {
    "collapsed": true
   },
   "outputs": [],
   "source": [
    "vertices1_reduced = vertices1_normalized[matched_indices_arr[:,0]]\n",
    "vertices2_reduced = vertices2_normalized_alignedTo1[matched_indices_arr[:,1]]"
   ]
  },
  {
   "cell_type": "code",
   "execution_count": null,
   "metadata": {
    "collapsed": true
   },
   "outputs": [],
   "source": [
    "vertices_list = [vertices1_reduced, vertices2_reduced]"
   ]
  },
  {
   "cell_type": "code",
   "execution_count": null,
   "metadata": {
    "collapsed": true
   },
   "outputs": [],
   "source": [
    "polydata_list = [vtk.vtkPolyData() for _ in range(2)]\n",
    "for i in range(2):\n",
    "\n",
    "    vs = vertices_list[i]\n",
    "#     fs = faces_list[i]\n",
    "\n",
    "#     vertices_vtkdata = numpy_support.numpy_to_vtk(num_array=vs, deep=True)\n",
    "    \n",
    "    polydata = vtk.vtkPolyData()\n",
    "\n",
    "    points = vtk.vtkPoints()\n",
    "#     points.SetData(vertices_vtkdata)\n",
    "#     polydata.SetPoints(points)\n",
    "\n",
    "    cells = vtk.vtkCellArray()\n",
    "    \n",
    "    c = 0\n",
    "    for p in vs:\n",
    "        cells.InsertNextCell(1)\n",
    "        points.InsertPoint(c, p[0], p[1], p[2])\n",
    "        cells.InsertCellPoint(c)\n",
    "        c += 1\n",
    "    \n",
    "    polydata.SetPoints(points)\n",
    "    polydata.SetVerts(cells)\n",
    "    \n",
    "    polydata_list[i].DeepCopy(polydata)"
   ]
  },
  {
   "cell_type": "code",
   "execution_count": null,
   "metadata": {
    "collapsed": true
   },
   "outputs": [],
   "source": [
    "ren1 = vtk.vtkRenderer()\n",
    "renWin = vtk.vtkRenderWindow()\n",
    "renWin.AddRenderer(ren1)\n",
    "iren = vtk.vtkRenderWindowInteractor()\n",
    "iren.SetRenderWindow(renWin)\n",
    "\n",
    "colors = [(1,0,0), (0,1,0)]\n",
    "\n",
    "for i in range(2):\n",
    "    m = vtk.vtkPolyDataMapper()\n",
    "    m.SetInputData(polydata_list[i])\n",
    "\n",
    "    a = vtk.vtkActor()\n",
    "    a.SetMapper(m)\n",
    "    a.GetProperty().SetRepresentationToWireframe()\n",
    "    a.GetProperty().SetColor(colors[i])\n",
    "    \n",
    "    ren1.AddActor(a)\n",
    "\n",
    "renWin.Render()\n",
    "iren.Start()"
   ]
  },
  {
   "cell_type": "code",
   "execution_count": null,
   "metadata": {
    "collapsed": true
   },
   "outputs": [],
   "source": []
  }
 ],
 "metadata": {
  "kernelspec": {
   "display_name": "Python 2",
   "language": "python",
   "name": "python2"
  },
  "language_info": {
   "codemirror_mode": {
    "name": "ipython",
    "version": 2
   },
   "file_extension": ".py",
   "mimetype": "text/x-python",
   "name": "python",
   "nbconvert_exporter": "python",
   "pygments_lexer": "ipython2",
   "version": "2.7.6"
  }
 },
 "nbformat": 4,
 "nbformat_minor": 0
}
