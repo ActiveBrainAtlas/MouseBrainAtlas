{
 "cells": [
  {
   "cell_type": "code",
   "execution_count": 1,
   "metadata": {
    "collapsed": false,
    "scrolled": true
   },
   "outputs": [],
   "source": [
    "import vtk\n",
    "from vtk.util import numpy_support\n",
    "\n",
    "import numpy as np\n",
    "import bloscpack as bp\n",
    "\n",
    "import sys\n",
    "import os\n",
    "sys.path.append(os.path.join(os.environ['REPO_DIR'], 'utilities'))\n",
    "from utilities2015 import *\n",
    "\n",
    "from skimage.measure import mesh_surface_area, marching_cubes, correct_mesh_orientation\n",
    "\n",
    "from skimage.measure import find_contours\n",
    "\n",
    "from itertools import izip\n",
    "import pandas as pd"
   ]
  },
  {
   "cell_type": "code",
   "execution_count": 2,
   "metadata": {
    "collapsed": true
   },
   "outputs": [],
   "source": [
    "labels = ['BackG', '5N', '7n', '7N', '12N', 'Gr', 'LVe', 'Pn', 'SuVe', 'VLL', \n",
    "                     '6N', 'Amb', 'R', 'Tz', 'Sol', 'RtTg', 'LRt', 'LC', 'AP', 'sp5']\n",
    "\n",
    "label_dict = dict([(l,i) for i, l in enumerate(labels)])"
   ]
  },
  {
   "cell_type": "code",
   "execution_count": 3,
   "metadata": {
    "collapsed": true
   },
   "outputs": [],
   "source": [
    "mesh_rootdir = '/home/yuncong/CSHL_meshes'\n",
    "if not os.path.exists(mesh_rootdir):\n",
    "    os.makedirs(mesh_rootdir)"
   ]
  },
  {
   "cell_type": "code",
   "execution_count": 23,
   "metadata": {
    "collapsed": false,
    "scrolled": true
   },
   "outputs": [
    {
     "name": "stdout",
     "output_type": "stream",
     "text": [
      "914 376 455\n",
      "SuVe\n",
      "VLL\n",
      "6.26083 66.043432\n",
      "394.847743 454.630345\n",
      "(47580, 3) (95116, 3)\n",
      "9533\n",
      "1916\n",
      "386\n",
      "(53362, 3) (106486, 3)\n",
      "10691\n",
      "2158\n",
      "437\n",
      "6N\n",
      "172.021681 199.195591\n",
      "272.565148 299.739058\n",
      "(5458, 3) (10906, 3)\n",
      "1093\n",
      "220\n",
      "45\n",
      "(6522, 3) (13036, 3)\n",
      "1306\n",
      "262\n",
      "54\n",
      "Amb\n",
      "38.869522 52.456477\n",
      "394.847743 405.717307\n",
      "(5190, 3) (10372, 3)\n",
      "1040\n",
      "209\n",
      "43\n",
      "(4756, 3) (9508, 3)\n",
      "952\n",
      "192\n",
      "40\n",
      "R\n",
      "136.695598 215.499937\n",
      "275.282539 316.043404\n",
      "(41920, 3) (83820, 3)\n",
      "8388\n",
      "1679\n",
      "337\n",
      "(27780, 3) (55554, 3)\n",
      "5557\n",
      "1112\n",
      "224\n",
      "Tz\n",
      "125.826034 180.173854\n",
      "272.565148 329.630359\n",
      "(37314, 3) (74588, 3)\n",
      "7478\n",
      "1504\n",
      "304\n",
      "(30198, 3) (60364, 3)\n",
      "6046\n",
      "1209\n",
      "243\n",
      "Sol\n",
      "(41592, 3) (83112, 3)\n",
      "8337\n",
      "1665\n",
      "335\n",
      "RtTg\n",
      "LRt\n",
      "19.847785 106.804297\n",
      "335.065141 432.891217\n",
      "(68692, 3) (137350, 3)\n",
      "13747\n",
      "2751\n",
      "551\n",
      "(71948, 3) (143868, 3)\n",
      "14395\n",
      "2879\n",
      "577\n",
      "LC\n",
      "112.239079 136.695598\n",
      "351.369487 378.543397\n",
      "(19166, 3) (38314, 3)\n",
      "3840\n",
      "769\n",
      "155\n",
      "(15600, 3) (31176, 3)\n",
      "3127\n",
      "625\n",
      "126\n",
      "AP\n",
      "(12636, 3) (25266, 3)\n",
      "2528\n",
      "507\n",
      "103\n",
      "sp5\n",
      "6.26083 218.217328\n",
      "242.673847 449.195563\n",
      "(217896, 3) (435482, 3)\n",
      "43664\n",
      "8693\n",
      "1725\n",
      "(248830, 3) (497092, 3)\n",
      "49993\n",
      "9927\n",
      "1982\n"
     ]
    }
   ],
   "source": [
    "# stack = 'MD593'\n",
    "\n",
    "# for stack in ['MD589', 'MD593']:\n",
    "for stack in ['MD593']:\n",
    "    \n",
    "    volume_xmin, volume_xmax, volume_ymin, volume_ymax, volume_zmin, volume_zmax = \\\n",
    "        np.loadtxt('/home/yuncong/CSHL_volumes/volume_' + stack + '_annotation_limits.txt')\n",
    "        \n",
    "    _, voxel_size_xy, section_zdistance = np.loadtxt('/home/yuncong/CSHL_volumes/volume_' + stack + '_annotation_resolution.txt')\n",
    "    \n",
    "    annotation_zlimits = pd.read_hdf('/home/yuncong/Brain/database/'+stack+'_label_polygons.h5', 'zlimits').to_dict()\n",
    "    \n",
    "    mesh_dir = os.path.join(mesh_rootdir, stack)\n",
    "    if not os.path.exists(mesh_dir):\n",
    "        os.makedirs(mesh_dir)\n",
    "\n",
    "    data_matrix_int = bp.unpack_ndarray_file('/home/yuncong/CSHL_volumes/volume_' + stack + '_annotation.bp')\n",
    "    ydim, xdim, zdim = data_matrix_int.shape\n",
    "\n",
    "    data_matrix = data_matrix_int.astype(np.uint8)\n",
    "    print xdim, ydim, zdim\n",
    "\n",
    "    first_bs_sec, last_bs_sec = section_range_lookup[stack]\n",
    "    midsection = (first_bs_sec + last_bs_sec)/2\n",
    "\n",
    "    for l in labels[8:]:\n",
    "#     for l in ['LRt']:\n",
    "\n",
    "        print l\n",
    "\n",
    "        vol_pair = (data_matrix == label_dict[l]).astype(np.float)\n",
    "        \n",
    "        vol_list = []\n",
    "        name_list = []\n",
    "        \n",
    "        if l not in annotation_zlimits:\n",
    "            continue\n",
    "        \n",
    "        if len(annotation_zlimits[l]) == 1:\n",
    "            vol_list.append(vol_pair)\n",
    "            name_list.append(l)\n",
    "            \n",
    "        elif len(annotation_zlimits[l]) == 2:\n",
    "            vol = vol_pair.copy()\n",
    "\n",
    "            lo, up = np.array(annotation_zlimits[l][0])*section_zdistance - volume_zmin\n",
    "            print lo, up\n",
    "            vol[..., :int(np.floor(lo))] = 0\n",
    "            vol[..., int(np.ceil(up)):] = 0\n",
    "            vol_list.append(vol)\n",
    "            name_list.append(l+'_L')\n",
    "\n",
    "            vol = vol_pair.copy()\n",
    "\n",
    "            lo, up = np.array(annotation_zlimits[l][1])*section_zdistance - volume_zmin\n",
    "            print lo, up            \n",
    "            vol[..., :int(np.floor(lo))] = 0\n",
    "            vol[..., int(np.ceil(up)):] = 0\n",
    "            vol_list.append(vol)\n",
    "            name_list.append(l+'_R')\n",
    "\n",
    "        for vol, name in izip(vol_list, name_list):\n",
    "                \n",
    "            vs, faces = marching_cubes(vol, .5)\n",
    "            fs = correct_mesh_orientation(vol, vs, faces)\n",
    "\n",
    "            print vs.shape, fs.shape\n",
    "\n",
    "            polydata = vtk.vtkPolyData()\n",
    "\n",
    "            points = vtk.vtkPoints()\n",
    "            for pt_ind, (x,y,z) in enumerate(vs):\n",
    "                points.InsertPoint(pt_ind, x, y, z)\n",
    "\n",
    "            cells = vtk.vtkCellArray()\n",
    "            for ia, ib, ic in fs:\n",
    "                cells.InsertNextCell(3)\n",
    "                cells.InsertCellPoint(ia)\n",
    "                cells.InsertCellPoint(ib)\n",
    "                cells.InsertCellPoint(ic)\n",
    "\n",
    "            polydata.SetPoints(points)\n",
    "            polydata.SetPolys(cells)\n",
    "            polydata.SetVerts(cells)\n",
    "\n",
    "            for simplify_iter in range(3):\n",
    "\n",
    "                deci = vtk.vtkQuadricDecimation()\n",
    "                if simplify_iter == 0:\n",
    "                    deci.SetInputData(polydata)\n",
    "                else:\n",
    "                    deci.SetInputData(smoother.GetOutput())\n",
    "                deci.SetTargetReduction(0.8)\n",
    "                deci.Update()\n",
    "\n",
    "                smoother = vtk.vtkWindowedSincPolyDataFilter()\n",
    "        #         smoother.NormalizeCoordinatesOn()\n",
    "                smoother.SetPassBand(.1)\n",
    "                smoother.SetNumberOfIterations(20)\n",
    "                smoother.SetInputData(deci.GetOutput())\n",
    "                smoother.Update()\n",
    "\n",
    "                print deci.GetOutput().GetNumberOfPoints()\n",
    "\n",
    "            stlWriter = vtk.vtkSTLWriter()\n",
    "\n",
    "            stlWriter.SetFileName(mesh_dir + \"/%(stack)s_%(name)s.stl\" % {'stack': stack, 'name': name})\n",
    "\n",
    "            stlWriter.SetInputData(smoother.GetOutput())\n",
    "            stlWriter.Write()            "
   ]
  },
  {
   "cell_type": "code",
   "execution_count": null,
   "metadata": {
    "collapsed": true
   },
   "outputs": [],
   "source": []
  },
  {
   "cell_type": "code",
   "execution_count": 66,
   "metadata": {
    "collapsed": true
   },
   "outputs": [],
   "source": [
    "colors = np.random.randint(0, 255, (len(polydata_list), 3)) / 255."
   ]
  },
  {
   "cell_type": "code",
   "execution_count": 70,
   "metadata": {
    "collapsed": false
   },
   "outputs": [],
   "source": [
    "np.savetxt('colors.txt', colors)"
   ]
  },
  {
   "cell_type": "code",
   "execution_count": null,
   "metadata": {
    "collapsed": true
   },
   "outputs": [],
   "source": []
  },
  {
   "cell_type": "code",
   "execution_count": 81,
   "metadata": {
    "collapsed": true
   },
   "outputs": [],
   "source": [
    "polydata_list = {}\n",
    "\n",
    "for stack in ['MD593']:\n",
    "    for l in labels[1:]:\n",
    "        fn_L = '/home/yuncong/CSHL_meshes/%(stack)s/%(stack)s_%(label)s_L.stl' % {'stack': stack, 'label': l}\n",
    "        \n",
    "        if os.path.exists(fn_L):\n",
    "            reader = vtk.vtkSTLReader()\n",
    "            reader.SetFileName(fn_L)\n",
    "            reader.Update()\n",
    "\n",
    "            polydata_list[l] = []\n",
    "            polydata_list[l].append(reader.GetOutput())\n",
    "\n",
    "            fn_R = '/home/yuncong/CSHL_meshes/%(stack)s/%(stack)s_%(label)s_R.stl' % {'stack': stack, 'label': l}\n",
    "            reader = vtk.vtkSTLReader()\n",
    "            reader.SetFileName(fn_R)\n",
    "            reader.Update()\n",
    "\n",
    "            polydata_list[l].append(reader.GetOutput())\n",
    "            \n",
    "        else:\n",
    "            fn = '/home/yuncong/CSHL_meshes/%(stack)s/%(stack)s_%(label)s.stl' % {'stack': stack, 'label': l}\n",
    "            \n",
    "            reader = vtk.vtkSTLReader()\n",
    "            reader.SetFileName(fn)\n",
    "            reader.Update()\n",
    "            \n",
    "            polydata_list[l] = [reader.GetOutput()]"
   ]
  },
  {
   "cell_type": "code",
   "execution_count": 111,
   "metadata": {
    "collapsed": false
   },
   "outputs": [],
   "source": [
    "ren1 = vtk.vtkRenderer()\n",
    "renWin = vtk.vtkRenderWindow()\n",
    "renWin.AddRenderer(ren1)\n",
    "iren = vtk.vtkRenderWindowInteractor()\n",
    "iren.SetRenderWindow(renWin)\n",
    "\n",
    "camera = vtk.vtkCamera()\n",
    "\n",
    "# camera.SetViewUp(-1, -1, 0)\n",
    "# camera.SetPosition(-20, -30, 10)\n",
    "# camera.SetFocalPoint(1, -1, -1)\n",
    "\n",
    "# saggital\n",
    "# camera.SetViewUp(-1, 0, 0)\n",
    "# camera.SetPosition(0, 0, 2)\n",
    "# camera.SetFocalPoint(0, 0, 1)\n",
    "\n",
    "# horizontal\n",
    "# camera.SetViewUp(0, 0, -1)\n",
    "# camera.SetPosition(-2, 0, 0)\n",
    "# camera.SetFocalPoint(1, 0, 0)\n",
    "\n",
    "# # coronal\n",
    "# camera.SetViewUp(-1, 0, 0)\n",
    "# camera.SetPosition(0, -3, 0)\n",
    "# camera.SetFocalPoint(0, 1, 0)\n",
    "\n",
    "for i, (l, polydatas) in enumerate(polydata_list.iteritems()):\n",
    "\n",
    "    for polydata in polydatas:\n",
    "    \n",
    "        m = vtk.vtkPolyDataMapper()\n",
    "        m.SetInputData(polydata)\n",
    "    #     m.SetInputData(reader.GetOutput())\n",
    "    #     m.SetInputConnection(reader.GetOutputPort())\n",
    "\n",
    "        a = vtk.vtkActor()\n",
    "        a.SetMapper(m)\n",
    "#         a.GetProperty().SetRepresentationToWireframe()\n",
    "        a.GetProperty().SetColor(colors[i])\n",
    "\n",
    "        ren1.AddActor(a)\n",
    "        ren1.SetActiveCamera(camera)\n",
    "        ren1.ResetCamera()\n",
    "\n",
    "renWin.Render()\n",
    "iren.Start()"
   ]
  },
  {
   "cell_type": "code",
   "execution_count": 112,
   "metadata": {
    "collapsed": true
   },
   "outputs": [],
   "source": [
    "from collections import defaultdict"
   ]
  },
  {
   "cell_type": "code",
   "execution_count": 127,
   "metadata": {
    "collapsed": false
   },
   "outputs": [
    {
     "name": "stdout",
     "output_type": "stream",
     "text": [
      "RtTg\n",
      "'NoneType' object has no attribute 'GetData'\n",
      "SuVe\n",
      "'NoneType' object has no attribute 'GetData'\n"
     ]
    },
    {
     "name": "stderr",
     "output_type": "stream",
     "text": [
      "/usr/local/lib/python2.7/dist-packages/ipykernel/__main__.py:9: DeprecationWarning: BaseException.message has been deprecated as of Python 2.6\n"
     ]
    }
   ],
   "source": [
    "vertices_allLandmarks = defaultdict(list)\n",
    "for i, (l, polydatas) in enumerate(polydata_list.iteritems()):\n",
    "    for polydata in polydatas:\n",
    "        try:\n",
    "            vertices = numpy_support.vtk_to_numpy(polydata.GetPoints().GetData())\n",
    "            vertices_allLandmarks[l].append(vertices)\n",
    "        except Exception as e:\n",
    "            print l\n",
    "            print e.message"
   ]
  },
  {
   "cell_type": "code",
   "execution_count": 131,
   "metadata": {
    "collapsed": false,
    "scrolled": true
   },
   "outputs": [],
   "source": [
    "centroid_allLandmarks = dict([(l, [vs.mean(axis=0) for vs in vs_list]) \n",
    "                              for l, vs_list in vertices_allLandmarks.iteritems()])"
   ]
  },
  {
   "cell_type": "code",
   "execution_count": 132,
   "metadata": {
    "collapsed": false
   },
   "outputs": [
    {
     "data": {
      "text/plain": [
       "{'12N': [array([ 167.35136414,  544.12615967,  234.80662537], dtype=float32)],\n",
       " '5N': [array([ 129.01428223,  218.81552124,   50.86375046], dtype=float32),\n",
       "  array([ 151.58226013,  230.10757446,  419.84210205], dtype=float32)],\n",
       " '6N': [array([ 153.94859314,  297.47265625,  185.3600769 ], dtype=float32),\n",
       "  array([ 151.12915039,  299.28390503,  284.74005127], dtype=float32)],\n",
       " '7N': [array([ 256.95004272,  351.48596191,   55.20360565], dtype=float32),\n",
       "  array([ 284.63525391,  351.98156738,  385.42202759], dtype=float32)],\n",
       " '7n': [array([ 171.3986969 ,  278.80847168,   93.85617065], dtype=float32),\n",
       "  array([ 198.30714417,  279.4826355 ,  374.16506958], dtype=float32)],\n",
       " 'AP': [array([ 110.82328796,  542.5501709 ,  239.81834412], dtype=float32)],\n",
       " 'Amb': [array([ 211.80039978,  454.78070068,   44.19460297], dtype=float32),\n",
       "  array([ 250.92416382,  454.76837158,  397.52661133], dtype=float32)],\n",
       " 'Gr': [array([ 121.49416351,  604.61016846,  201.12780762], dtype=float32),\n",
       "  array([ 135.19203186,  617.46636963,  259.47976685], dtype=float32)],\n",
       " 'LC': [array([  50.8142395 ,  255.09060669,  125.56886292], dtype=float32),\n",
       "  array([  53.70024872,  273.17800903,  362.04650879], dtype=float32)],\n",
       " 'LRt': [array([ 252.22346497,  572.159729  ,   63.00774765], dtype=float32),\n",
       "  array([ 295.29248047,  573.91418457,  376.72409058], dtype=float32)],\n",
       " 'LVe': [array([  81.02399445,  322.30331421,   69.30566406], dtype=float32),\n",
       "  array([  93.56871796,  366.43713379,  418.71115112], dtype=float32)],\n",
       " 'Pn': [array([ 288.83224487,   70.84803772,  150.050354  ], dtype=float32),\n",
       "  array([ 292.33407593,   73.19412231,  311.42962646], dtype=float32)],\n",
       " 'R': [array([  69.99467468,   46.42556   ,  179.38786316], dtype=float32),\n",
       "  array([  71.07685852,   48.98203278,  296.54684448], dtype=float32)],\n",
       " 'Sol': [array([ 128.88200378,  562.92016602,  239.11865234], dtype=float32)],\n",
       " 'Tz': [array([ 316.17672729,  210.67347717,  151.96347046], dtype=float32),\n",
       "  array([ 319.41595459,  205.73960876,  298.78479004], dtype=float32)],\n",
       " 'VLL': [array([ 193.81867981,  108.11126709,   42.23444748], dtype=float32),\n",
       "  array([ 215.92680359,  122.88964844,  420.90933228], dtype=float32)],\n",
       " 'sp5': [array([ 109.29974365,  629.31988525,   98.19254303], dtype=float32),\n",
       "  array([ 166.95166016,  624.23864746,  354.23403931], dtype=float32)]}"
      ]
     },
     "execution_count": 132,
     "metadata": {},
     "output_type": "execute_result"
    }
   ],
   "source": [
    "centroid_allLandmarks"
   ]
  }
 ],
 "metadata": {
  "kernelspec": {
   "display_name": "Python 2",
   "language": "python",
   "name": "python2"
  },
  "language_info": {
   "codemirror_mode": {
    "name": "ipython",
    "version": 2
   },
   "file_extension": ".py",
   "mimetype": "text/x-python",
   "name": "python",
   "nbconvert_exporter": "python",
   "pygments_lexer": "ipython2",
   "version": "2.7.6"
  }
 },
 "nbformat": 4,
 "nbformat_minor": 0
}
