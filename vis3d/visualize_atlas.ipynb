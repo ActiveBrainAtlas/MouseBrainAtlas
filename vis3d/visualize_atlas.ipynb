{
 "cells": [
  {
   "cell_type": "code",
   "execution_count": 3,
   "metadata": {
    "collapsed": false
   },
   "outputs": [
    {
     "name": "stderr",
     "output_type": "stream",
     "text": [
      "/usr/lib/python2.7/dist-packages/pkg_resources.py:1031: UserWarning: /home/yuncong/.python-eggs is writable by group/others and vulnerable to attack when used with get_resource_filename. Consider a more secure location (set with .set_extraction_path or the PYTHON_EGG_CACHE environment variable).\n",
      "  warnings.warn(msg, UserWarning)\n"
     ]
    }
   ],
   "source": [
    "%reload_ext autoreload\n",
    "%autoreload 2\n",
    "\n",
    "import vtk\n",
    "from vtk.util import numpy_support\n",
    "\n",
    "import numpy as np\n",
    "import bloscpack as bp\n",
    "\n",
    "import sys\n",
    "import os\n",
    "sys.path.append(os.path.join(os.environ['REPO_DIR'], 'utilities'))\n",
    "from utilities2015 import *\n",
    "from annotation_utilities import *\n",
    "from registration_utilities import *\n",
    "\n",
    "from skimage.measure import mesh_surface_area, marching_cubes, correct_mesh_orientation\n",
    "\n",
    "from itertools import izip\n",
    "import pandas as pd\n",
    "\n",
    "import time\n",
    "\n",
    "import matplotlib.pyplot as plt\n",
    "%matplotlib inline\n",
    "\n",
    "from vis3d_utilities import *"
   ]
  },
  {
   "cell_type": "code",
   "execution_count": 4,
   "metadata": {
    "collapsed": true
   },
   "outputs": [],
   "source": [
    "volume_dir = '/home/yuncong/CSHL_volumes/'\n",
    "mesh_rootdir = create_if_not_exists('/home/yuncong/CSHL_meshes')"
   ]
  },
  {
   "cell_type": "code",
   "execution_count": 5,
   "metadata": {
    "collapsed": true
   },
   "outputs": [],
   "source": [
    "with open('colors.txt', 'r') as f:\n",
    "    colors = {l[0]: np.r_[float(l[1]), float(l[2]), float(l[3])] for l in map(lambda x: x.split(), f.readlines())}"
   ]
  },
  {
   "cell_type": "code",
   "execution_count": 6,
   "metadata": {
    "collapsed": true
   },
   "outputs": [],
   "source": [
    "volume_landmark_names_unsided = ['12N', '5N', '6N', '7N', '7n', 'AP', 'Amb', 'LC',\n",
    "                                 'LRt', 'Pn', 'R', 'RtTg', 'Tz', 'VLL', 'sp5']\n",
    "linear_landmark_names_unsided = ['outerContour']\n",
    "\n",
    "labels_unsided = volume_landmark_names_unsided + linear_landmark_names_unsided\n",
    "labels_unsided_indices = dict((j, i+1) for i, j in enumerate(labels_unsided))  # BackG always 0\n",
    "\n",
    "labelMap_unsidedToSided = {'12N': ['12N'],\n",
    "                            '5N': ['5N_L', '5N_R'],\n",
    "                            '6N': ['6N_L', '6N_R'],\n",
    "                            '7N': ['7N_L', '7N_R'],\n",
    "                            '7n': ['7n_L', '7n_R'],\n",
    "                            'AP': ['AP'],\n",
    "                            'Amb': ['Amb_L', 'Amb_R'],\n",
    "                            'LC': ['LC_L', 'LC_R'],\n",
    "                            'LRt': ['LRt_L', 'LRt_R'],\n",
    "                            'Pn': ['Pn_L', 'Pn_R'],\n",
    "                            'R': ['R_L', 'R_R'],\n",
    "                            'RtTg': ['RtTg'],\n",
    "                            'Tz': ['Tz_L', 'Tz_R'],\n",
    "                            'VLL': ['VLL_L', 'VLL_R'],\n",
    "                            'sp5': ['sp5'],\n",
    "                           'outerContour': ['outerContour']}\n",
    "\n",
    "labelMap_sidedToUnsided = {n: nu for nu, ns in labelMap_unsidedToSided.iteritems() for n in ns}\n",
    "\n",
    "from itertools import chain\n",
    "labels_sided = list(chain(*(labelMap_unsidedToSided[name_u] for name_u in labels_unsided)))\n",
    "labels_sided_indices = dict((j, i+1) for i, j in enumerate(labels_sided)) # BackG always 0"
   ]
  },
  {
   "cell_type": "code",
   "execution_count": 7,
   "metadata": {
    "collapsed": true
   },
   "outputs": [],
   "source": [
    "atlas_volume = bp.unpack_ndarray_file(volume_dir + '/atlasVolume_icp.bp').astype(np.int8)\n",
    "\n",
    "available_labels_sided = [labels_sided[i-1] for i in np.unique(atlas_volume) if i > 0]\n",
    "available_labels_unsided = set([labelMap_sidedToUnsided[name] for name in available_labels_sided ])"
   ]
  },
  {
   "cell_type": "code",
   "execution_count": null,
   "metadata": {
    "collapsed": true
   },
   "outputs": [],
   "source": []
  },
  {
   "cell_type": "code",
   "execution_count": 8,
   "metadata": {
    "collapsed": true
   },
   "outputs": [],
   "source": [
    "atlasVolume_landmark_bboxes = {name: bbox_3d(atlas_volume == labels_sided_indices[name])\n",
    "                           for name in available_labels_sided}"
   ]
  },
  {
   "cell_type": "code",
   "execution_count": 9,
   "metadata": {
    "collapsed": false,
    "scrolled": true
   },
   "outputs": [
    {
     "name": "stdout",
     "output_type": "stream",
     "text": [
      "12N\n",
      "area: 43842.74"
     ]
    },
    {
     "name": "stderr",
     "output_type": "stream",
     "text": [
      "marching cube: 0.18 seconds\n",
      "compute surface area: 0.01 seconds\n",
      "fill point array: 0.06 seconds\n",
      "fill cell array: 0.00 seconds\n",
      "mesh_to_polydata: 0.06 seconds\n",
      "simplify 0 @ 47517: 0.44 seconds\n",
      "simplify 1 @ 9505: 0.43 seconds\n",
      "simplify 2 @ 1902: 0.11 seconds\n"
     ]
    },
    {
     "name": "stdout",
     "output_type": "stream",
     "text": [
      "\n",
      "5N_L"
     ]
    },
    {
     "name": "stderr",
     "output_type": "stream",
     "text": [
      "time: 1.24\n",
      "marching cube: 0.09 seconds\n"
     ]
    },
    {
     "name": "stdout",
     "output_type": "stream",
     "text": [
      "\n",
      "area: 27910.95"
     ]
    },
    {
     "name": "stderr",
     "output_type": "stream",
     "text": [
      "compute surface area: 0.01 seconds\n",
      "fill point array: 0.04 seconds\n",
      "fill cell array: 0.00 seconds\n",
      "mesh_to_polydata: 0.04 seconds\n",
      "simplify 0 @ 30987: 0.25 seconds\n",
      "simplify 1 @ 6199: 0.26 seconds\n",
      "simplify 2 @ 1241: 0.05 seconds\n",
      "time: 0.70\n"
     ]
    },
    {
     "name": "stdout",
     "output_type": "stream",
     "text": [
      "\n",
      "5N_R\n",
      "area: 27938.85"
     ]
    },
    {
     "name": "stderr",
     "output_type": "stream",
     "text": [
      "marching cube: 0.09 seconds\n",
      "compute surface area: 0.01 seconds\n",
      "fill point array: 0.04 seconds\n",
      "fill cell array: 0.00 seconds\n",
      "mesh_to_polydata: 0.04 seconds\n",
      "simplify 0 @ 31110: 0.25 seconds\n",
      "simplify 1 @ 6223: 0.27 seconds\n",
      "simplify 2 @ 1246: 0.05 seconds\n"
     ]
    },
    {
     "name": "stdout",
     "output_type": "stream",
     "text": [
      "\n",
      "6N_L"
     ]
    },
    {
     "name": "stderr",
     "output_type": "stream",
     "text": [
      "time: 0.71\n",
      "marching cube: 0.01 seconds\n",
      "compute surface area: 0.00 seconds\n",
      "fill point array: 0.00 seconds\n",
      "fill cell array: 0.00 seconds\n",
      "mesh_to_polydata: 0.00 seconds\n",
      "simplify 0 @ 3709: 0.03 seconds\n"
     ]
    },
    {
     "name": "stdout",
     "output_type": "stream",
     "text": [
      "\n",
      "area: 3566.60\n",
      "6N_R"
     ]
    },
    {
     "name": "stderr",
     "output_type": "stream",
     "text": [
      "simplify 1 @ 743: 0.02 seconds\n",
      "time: 0.07\n",
      "marching cube: 0.01 seconds\n",
      "compute surface area: 0.00 seconds\n",
      "fill point array: 0.01 seconds\n",
      "fill cell array: 0.00 seconds\n",
      "mesh_to_polydata: 0.01 seconds\n",
      "simplify 0 @ 3713: 0.03 seconds\n"
     ]
    },
    {
     "name": "stdout",
     "output_type": "stream",
     "text": [
      "\n",
      "area: 3565.45\n",
      "7N_L"
     ]
    },
    {
     "name": "stderr",
     "output_type": "stream",
     "text": [
      "simplify 1 @ 744: 0.02 seconds\n",
      "time: 0.07\n",
      "marching cube: 0.15 seconds\n"
     ]
    },
    {
     "name": "stdout",
     "output_type": "stream",
     "text": [
      "\n",
      "area: 44278.05"
     ]
    },
    {
     "name": "stderr",
     "output_type": "stream",
     "text": [
      "compute surface area: 0.01 seconds\n",
      "fill point array: 0.06 seconds\n",
      "fill cell array: 0.00 seconds\n",
      "mesh_to_polydata: 0.06 seconds\n",
      "simplify 0 @ 44972: 0.50 seconds\n",
      "simplify 1 @ 8996: 0.41 seconds\n",
      "simplify 2 @ 1800: 0.07 seconds\n"
     ]
    },
    {
     "name": "stdout",
     "output_type": "stream",
     "text": [
      "\n",
      "7N_R"
     ]
    },
    {
     "name": "stderr",
     "output_type": "stream",
     "text": [
      "time: 1.22\n",
      "marching cube: 0.14 seconds\n"
     ]
    },
    {
     "name": "stdout",
     "output_type": "stream",
     "text": [
      "\n",
      "area: 44260.88"
     ]
    },
    {
     "name": "stderr",
     "output_type": "stream",
     "text": [
      "compute surface area: 0.01 seconds\n",
      "fill point array: 0.06 seconds\n",
      "fill cell array: 0.00 seconds\n",
      "mesh_to_polydata: 0.06 seconds\n",
      "simplify 0 @ 44850: 0.43 seconds\n",
      "simplify 1 @ 8971: 0.40 seconds\n",
      "simplify 2 @ 1795: 0.07 seconds\n"
     ]
    },
    {
     "name": "stdout",
     "output_type": "stream",
     "text": [
      "\n",
      "7n_L"
     ]
    },
    {
     "name": "stderr",
     "output_type": "stream",
     "text": [
      "time: 1.12\n",
      "marching cube: 0.50 seconds\n"
     ]
    },
    {
     "name": "stdout",
     "output_type": "stream",
     "text": [
      "\n",
      "area: 38559.18"
     ]
    },
    {
     "name": "stderr",
     "output_type": "stream",
     "text": [
      "compute surface area: 0.01 seconds\n",
      "fill point array: 0.05 seconds\n",
      "fill cell array: 0.00 seconds\n",
      "mesh_to_polydata: 0.05 seconds\n",
      "simplify 0 @ 46736: 0.34 seconds\n",
      "simplify 1 @ 9348: 0.37 seconds\n",
      "simplify 2 @ 1871: 0.08 seconds\n"
     ]
    },
    {
     "name": "stdout",
     "output_type": "stream",
     "text": [
      "\n",
      "7n_R"
     ]
    },
    {
     "name": "stderr",
     "output_type": "stream",
     "text": [
      "time: 1.37\n",
      "marching cube: 0.48 seconds\n"
     ]
    },
    {
     "name": "stdout",
     "output_type": "stream",
     "text": [
      "\n",
      "area: 38538.05"
     ]
    },
    {
     "name": "stderr",
     "output_type": "stream",
     "text": [
      "compute surface area: 0.01 seconds\n",
      "fill point array: 0.05 seconds\n",
      "fill cell array: 0.00 seconds\n",
      "mesh_to_polydata: 0.05 seconds\n",
      "simplify 0 @ 46683: 0.35 seconds\n",
      "simplify 1 @ 9338: 0.41 seconds\n",
      "simplify 2 @ 1869: 0.08 seconds\n"
     ]
    },
    {
     "name": "stdout",
     "output_type": "stream",
     "text": [
      "\n",
      "AP"
     ]
    },
    {
     "name": "stderr",
     "output_type": "stream",
     "text": [
      "time: 1.40\n",
      "marching cube: 0.02 seconds\n",
      "compute surface area: 0.00 seconds\n",
      "fill point array: 0.01 seconds\n",
      "fill cell array: 0.00 seconds\n",
      "mesh_to_polydata: 0.01 seconds\n",
      "simplify 0 @ 9696: 0.08 seconds\n"
     ]
    },
    {
     "name": "stdout",
     "output_type": "stream",
     "text": [
      "\n",
      "area: 9916.80\n",
      "Amb_L"
     ]
    },
    {
     "name": "stderr",
     "output_type": "stream",
     "text": [
      "simplify 1 @ 1940: 0.06 seconds\n",
      "simplify 2 @ 389: 0.01 seconds\n",
      "time: 0.19\n",
      "marching cube: 0.01 seconds\n",
      "compute surface area: 0.00 seconds\n",
      "fill point array: 0.01 seconds\n",
      "fill cell array: 0.00 seconds\n",
      "mesh_to_polydata: 0.01 seconds\n",
      "simplify 0 @ 4468: 0.04 seconds\n"
     ]
    },
    {
     "name": "stdout",
     "output_type": "stream",
     "text": [
      "\n",
      "area: 4603.92\n",
      "Amb_R"
     ]
    },
    {
     "name": "stderr",
     "output_type": "stream",
     "text": [
      "simplify 1 @ 895: 0.03 seconds\n",
      "time: 0.08\n",
      "marching cube: 0.01 seconds\n",
      "compute surface area: 0.00 seconds\n",
      "fill point array: 0.01 seconds\n",
      "fill cell array: 0.00 seconds\n",
      "mesh_to_polydata: 0.01 seconds\n",
      "simplify 0 @ 4465: 0.04 seconds\n"
     ]
    },
    {
     "name": "stdout",
     "output_type": "stream",
     "text": [
      "\n",
      "area: 4597.03\n",
      "LC_L"
     ]
    },
    {
     "name": "stderr",
     "output_type": "stream",
     "text": [
      "simplify 1 @ 894: 0.03 seconds\n",
      "time: 0.09\n",
      "marching cube: 0.03 seconds\n",
      "compute surface area: 0.00 seconds\n",
      "fill point array: 0.02 seconds\n",
      "fill cell array: 0.00 seconds\n",
      "mesh_to_polydata: 0.02 seconds\n",
      "simplify 0 @ 14453: 0.11 seconds\n"
     ]
    },
    {
     "name": "stdout",
     "output_type": "stream",
     "text": [
      "\n",
      "area: 12703.28\n",
      "LC_R"
     ]
    },
    {
     "name": "stderr",
     "output_type": "stream",
     "text": [
      "simplify 1 @ 2892: 0.10 seconds\n",
      "simplify 2 @ 580: 0.02 seconds\n",
      "time: 0.29\n",
      "marching cube: 0.03 seconds\n",
      "compute surface area: 0.00 seconds\n",
      "fill point array: 0.02 seconds\n",
      "fill cell array: 0.00 seconds\n",
      "mesh_to_polydata: 0.02 seconds\n",
      "simplify 0 @ 14505: 0.11 seconds\n"
     ]
    },
    {
     "name": "stdout",
     "output_type": "stream",
     "text": [
      "\n",
      "area: 12699.58\n",
      "LRt_L"
     ]
    },
    {
     "name": "stderr",
     "output_type": "stream",
     "text": [
      "simplify 1 @ 2902: 0.10 seconds\n",
      "simplify 2 @ 582: 0.02 seconds\n",
      "time: 0.29\n",
      "marching cube: 0.22 seconds\n"
     ]
    },
    {
     "name": "stdout",
     "output_type": "stream",
     "text": [
      "\n",
      "area: 39433.15"
     ]
    },
    {
     "name": "stderr",
     "output_type": "stream",
     "text": [
      "compute surface area: 0.01 seconds\n",
      "fill point array: 0.05 seconds\n",
      "fill cell array: 0.00 seconds\n",
      "mesh_to_polydata: 0.05 seconds\n",
      "simplify 0 @ 43587: 0.36 seconds\n",
      "simplify 1 @ 8719: 0.39 seconds\n",
      "simplify 2 @ 1745: 0.08 seconds\n"
     ]
    },
    {
     "name": "stdout",
     "output_type": "stream",
     "text": [
      "\n",
      "LRt_R"
     ]
    },
    {
     "name": "stderr",
     "output_type": "stream",
     "text": [
      "time: 1.13\n",
      "marching cube: 0.23 seconds\n"
     ]
    },
    {
     "name": "stdout",
     "output_type": "stream",
     "text": [
      "\n",
      "area: 39411.50"
     ]
    },
    {
     "name": "stderr",
     "output_type": "stream",
     "text": [
      "compute surface area: 0.01 seconds\n",
      "fill point array: 0.05 seconds\n",
      "fill cell array: 0.00 seconds\n",
      "mesh_to_polydata: 0.05 seconds\n",
      "simplify 0 @ 43658: 0.37 seconds\n",
      "simplify 1 @ 8733: 0.39 seconds\n",
      "simplify 2 @ 1748: 0.08 seconds\n"
     ]
    },
    {
     "name": "stdout",
     "output_type": "stream",
     "text": [
      "\n",
      "Pn_L"
     ]
    },
    {
     "name": "stderr",
     "output_type": "stream",
     "text": [
      "time: 1.13\n",
      "marching cube: 0.30 seconds\n"
     ]
    },
    {
     "name": "stdout",
     "output_type": "stream",
     "text": [
      "\n",
      "area: 69082.36"
     ]
    },
    {
     "name": "stderr",
     "output_type": "stream",
     "text": [
      "compute surface area: 0.02 seconds\n",
      "fill point array: 0.09 seconds\n",
      "fill cell array: 0.00 seconds\n",
      "mesh_to_polydata: 0.10 seconds\n",
      "simplify 0 @ 77610: 0.72 seconds\n",
      "simplify 1 @ 15523: 0.72 seconds\n",
      "simplify 2 @ 3106: 0.15 seconds\n"
     ]
    },
    {
     "name": "stdout",
     "output_type": "stream",
     "text": [
      "\n",
      "Pn_R"
     ]
    },
    {
     "name": "stderr",
     "output_type": "stream",
     "text": [
      "time: 2.01\n",
      "marching cube: 0.31 seconds\n"
     ]
    },
    {
     "name": "stdout",
     "output_type": "stream",
     "text": [
      "\n",
      "area: 69045.99"
     ]
    },
    {
     "name": "stderr",
     "output_type": "stream",
     "text": [
      "compute surface area: 0.02 seconds\n",
      "fill point array: 0.10 seconds\n",
      "fill cell array: 0.00 seconds\n",
      "mesh_to_polydata: 0.10 seconds\n",
      "simplify 0 @ 77223: 0.72 seconds\n",
      "simplify 1 @ 15446: 0.69 seconds\n",
      "simplify 2 @ 3090: 0.14 seconds\n"
     ]
    },
    {
     "name": "stdout",
     "output_type": "stream",
     "text": [
      "\n",
      "R_L"
     ]
    },
    {
     "name": "stderr",
     "output_type": "stream",
     "text": [
      "time: 1.99\n",
      "marching cube: 0.03 seconds\n",
      "compute surface area: 0.00 seconds\n",
      "fill point array: 0.02 seconds\n",
      "fill cell array: 0.00 seconds\n",
      "mesh_to_polydata: 0.02 seconds\n",
      "simplify 0 @ 12713: 0.11 seconds\n"
     ]
    },
    {
     "name": "stdout",
     "output_type": "stream",
     "text": [
      "\n",
      "area: 12581.12\n",
      "R_R"
     ]
    },
    {
     "name": "stderr",
     "output_type": "stream",
     "text": [
      "simplify 1 @ 2544: 0.10 seconds\n",
      "simplify 2 @ 510: 0.02 seconds\n",
      "time: 0.28\n",
      "marching cube: 0.03 seconds\n",
      "compute surface area: 0.00 seconds\n",
      "fill point array: 0.02 seconds\n",
      "fill cell array: 0.00 seconds\n",
      "mesh_to_polydata: 0.02 seconds\n",
      "simplify 0 @ 12775: 0.11 seconds\n"
     ]
    },
    {
     "name": "stdout",
     "output_type": "stream",
     "text": [
      "\n",
      "area: 12581.69\n",
      "RtTg"
     ]
    },
    {
     "name": "stderr",
     "output_type": "stream",
     "text": [
      "simplify 1 @ 2556: 0.09 seconds\n",
      "simplify 2 @ 512: 0.02 seconds\n",
      "time: 0.27\n",
      "marching cube: 0.25 seconds\n"
     ]
    },
    {
     "name": "stdout",
     "output_type": "stream",
     "text": [
      "\n",
      "area: 67951.12"
     ]
    },
    {
     "name": "stderr",
     "output_type": "stream",
     "text": [
      "compute surface area: 0.02 seconds\n",
      "fill point array: 0.09 seconds\n",
      "fill cell array: 0.00 seconds\n",
      "mesh_to_polydata: 0.10 seconds\n",
      "simplify 0 @ 73911: 0.68 seconds\n",
      "simplify 1 @ 14783: 0.72 seconds\n",
      "simplify 2 @ 2958: 0.14 seconds\n"
     ]
    },
    {
     "name": "stdout",
     "output_type": "stream",
     "text": [
      "\n",
      "Tz_L"
     ]
    },
    {
     "name": "stderr",
     "output_type": "stream",
     "text": [
      "time: 1.92\n",
      "marching cube: 0.07 seconds\n"
     ]
    },
    {
     "name": "stdout",
     "output_type": "stream",
     "text": [
      "\n",
      "area: 23045.36"
     ]
    },
    {
     "name": "stderr",
     "output_type": "stream",
     "text": [
      "compute surface area: 0.01 seconds\n",
      "fill point array: 0.03 seconds\n",
      "fill cell array: 0.00 seconds\n",
      "mesh_to_polydata: 0.03 seconds\n",
      "simplify 0 @ 23164: 0.22 seconds\n"
     ]
    },
    {
     "name": "stdout",
     "output_type": "stream",
     "text": [
      "\n",
      "Tz_R"
     ]
    },
    {
     "name": "stderr",
     "output_type": "stream",
     "text": [
      "simplify 1 @ 4634: 0.20 seconds\n",
      "simplify 2 @ 928: 0.04 seconds\n",
      "time: 0.56\n",
      "marching cube: 0.07 seconds\n"
     ]
    },
    {
     "name": "stdout",
     "output_type": "stream",
     "text": [
      "\n",
      "area: 23052.12"
     ]
    },
    {
     "name": "stderr",
     "output_type": "stream",
     "text": [
      "compute surface area: 0.01 seconds\n",
      "fill point array: 0.03 seconds\n",
      "fill cell array: 0.00 seconds\n",
      "mesh_to_polydata: 0.03 seconds\n",
      "simplify 0 @ 23115: 0.21 seconds\n"
     ]
    },
    {
     "name": "stdout",
     "output_type": "stream",
     "text": [
      "\n",
      "VLL_L"
     ]
    },
    {
     "name": "stderr",
     "output_type": "stream",
     "text": [
      "simplify 1 @ 4624: 0.19 seconds\n",
      "simplify 2 @ 926: 0.04 seconds\n",
      "time: 0.55\n",
      "marching cube: 0.21 seconds\n"
     ]
    },
    {
     "name": "stdout",
     "output_type": "stream",
     "text": [
      "\n",
      "area: 44376.83"
     ]
    },
    {
     "name": "stderr",
     "output_type": "stream",
     "text": [
      "compute surface area: 0.01 seconds\n",
      "fill point array: 0.06 seconds\n",
      "fill cell array: 0.00 seconds\n",
      "mesh_to_polydata: 0.06 seconds\n",
      "simplify 0 @ 44245: 0.44 seconds\n",
      "simplify 1 @ 8850: 0.41 seconds\n",
      "simplify 2 @ 1771: 0.08 seconds\n"
     ]
    },
    {
     "name": "stdout",
     "output_type": "stream",
     "text": [
      "\n",
      "VLL_R"
     ]
    },
    {
     "name": "stderr",
     "output_type": "stream",
     "text": [
      "time: 1.21\n",
      "marching cube: 0.21 seconds\n"
     ]
    },
    {
     "name": "stdout",
     "output_type": "stream",
     "text": [
      "\n",
      "area: 44407.16"
     ]
    },
    {
     "name": "stderr",
     "output_type": "stream",
     "text": [
      "compute surface area: 0.01 seconds\n",
      "fill point array: 0.06 seconds\n",
      "fill cell array: 0.00 seconds\n",
      "mesh_to_polydata: 0.06 seconds\n",
      "simplify 0 @ 44314: 0.44 seconds\n",
      "simplify 1 @ 8864: 0.41 seconds\n",
      "simplify 2 @ 1774: 0.08 seconds\n"
     ]
    },
    {
     "name": "stdout",
     "output_type": "stream",
     "text": [
      "\n"
     ]
    },
    {
     "name": "stderr",
     "output_type": "stream",
     "text": [
      "time: 1.21\n"
     ]
    }
   ],
   "source": [
    "atlas_mesh_dir = create_if_not_exists(os.path.join(mesh_rootdir, 'atlas'))\n",
    "\n",
    "for name_s in available_labels_sided:\n",
    "\n",
    "    print name_s\n",
    "\n",
    "    xmin, xmax, ymin, ymax, zmin, zmax = atlasVolume_landmark_bboxes[name_s]\n",
    "\n",
    "    vol = (atlas_volume[ymin:ymax+1, xmin:xmax+1, zmin:zmax+1] == labels_sided_indices[name_s]).astype(np.float)\n",
    "    \n",
    "    t = time.time()\n",
    "\n",
    "    polydata = volume_to_polydata(vol, origin=(xmin,ymin,zmin), num_simplify_iter=3, smooth=True)\n",
    "\n",
    "    sys.stderr.write('time: %.2f\\n' % (time.time() - t) ) # ~ 150s for outerContour; 93s for sp5\n",
    "    \n",
    "    save_mesh_stl(polydata, atlas_mesh_dir + \"/atlasVolume_%(name)s_smoothed.stl\" % {'name': name_s})"
   ]
  },
  {
   "cell_type": "code",
   "execution_count": 10,
   "metadata": {
    "collapsed": false
   },
   "outputs": [],
   "source": [
    "# Load Atlas meshes\n",
    "\n",
    "atlas_polydata_list = {}\n",
    "\n",
    "for name_s in available_labels_sided:\n",
    "\n",
    "    fn = mesh_rootdir + \"/atlas/atlasVolume_%(name)s_smoothed.stl\" % {'name': name_s}\n",
    "\n",
    "    reader = vtk.vtkSTLReader()\n",
    "    reader.SetFileName(fn)\n",
    "    reader.Update()\n",
    "\n",
    "    polydata = reader.GetOutput()    \n",
    "    atlas_polydata_list[name_s] = polydata"
   ]
  },
  {
   "cell_type": "code",
   "execution_count": null,
   "metadata": {
    "collapsed": true
   },
   "outputs": [],
   "source": []
  },
  {
   "cell_type": "code",
   "execution_count": null,
   "metadata": {
    "collapsed": true
   },
   "outputs": [],
   "source": [
    "subject_localAdjusted_polydata_list_allStacks = {}"
   ]
  },
  {
   "cell_type": "code",
   "execution_count": 19,
   "metadata": {
    "collapsed": false,
    "scrolled": true
   },
   "outputs": [
    {
     "name": "stderr",
     "output_type": "stream",
     "text": [
      "fill point array: 0.00 seconds\n",
      "fill cell array: 0.00 seconds\n",
      "fill point array: 0.00 seconds\n",
      "fill cell array: 0.00 seconds\n",
      "fill point array: 0.00 seconds\n",
      "fill cell array: 0.00 seconds\n",
      "fill point array: 0.00 seconds\n",
      "fill cell array: 0.00 seconds\n",
      "fill point array: 0.00 seconds\n",
      "fill cell array: 0.00 seconds\n",
      "fill point array: 0.00 seconds\n",
      "fill cell array: 0.00 seconds\n",
      "fill point array: 0.00 seconds\n",
      "fill cell array: 0.00 seconds\n",
      "fill point array: 0.00 seconds\n",
      "fill cell array: 0.00 seconds\n",
      "fill point array: 0.00 seconds\n",
      "fill cell array: 0.00 seconds\n",
      "fill point array: 0.00 seconds\n",
      "fill cell array: 0.00 seconds\n",
      "fill point array: 0.00 seconds\n",
      "fill cell array: 0.00 seconds\n",
      "fill point array: 0.00 seconds\n",
      "fill cell array: 0.00 seconds\n",
      "fill point array: 0.00 seconds\n",
      "fill cell array: 0.00 seconds\n",
      "fill point array: 0.00 seconds\n",
      "fill cell array: 0.00 seconds\n",
      "fill point array: 0.00 seconds\n",
      "fill cell array: 0.00 seconds\n",
      "fill point array: 0.00 seconds\n",
      "fill cell array: 0.00 seconds\n",
      "fill point array: 0.00 seconds\n",
      "fill cell array: 0.00 seconds\n",
      "fill point array: 0.00 seconds\n",
      "fill cell array: 0.00 seconds\n",
      "fill point array: 0.00 seconds\n",
      "fill cell array: 0.00 seconds\n",
      "fill point array: 0.00 seconds\n",
      "fill cell array: 0.00 seconds\n",
      "fill point array: 0.00 seconds\n",
      "fill cell array: 0.00 seconds\n",
      "fill point array: 0.00 seconds\n",
      "fill cell array: 0.00 seconds\n",
      "fill point array: 0.00 seconds\n",
      "fill cell array: 0.00 seconds\n",
      "fill point array: 0.00 seconds\n",
      "fill cell array: 0.00 seconds\n",
      "fill point array: 0.00 seconds\n",
      "fill cell array: 0.00 seconds\n",
      "fill point array: 0.00 seconds\n",
      "fill cell array: 0.00 seconds\n",
      "fill point array: 0.00 seconds\n",
      "fill cell array: 0.00 seconds\n",
      "fill point array: 0.00 seconds\n",
      "fill cell array: 0.00 seconds\n",
      "fill point array: 0.00 seconds\n",
      "fill cell array: 0.00 seconds\n",
      "fill point array: 0.00 seconds\n",
      "fill cell array: 0.00 seconds\n",
      "fill point array: 0.00 seconds\n",
      "fill cell array: 0.00 seconds\n",
      "fill point array: 0.00 seconds\n",
      "fill cell array: 0.00 seconds\n",
      "fill point array: 0.00 seconds\n",
      "fill cell array: 0.00 seconds\n",
      "fill point array: 0.00 seconds\n",
      "fill cell array: 0.00 seconds\n",
      "fill point array: 0.00 seconds\n",
      "fill cell array: 0.00 seconds\n",
      "fill point array: 0.00 seconds\n",
      "fill cell array: 0.00 seconds\n",
      "fill point array: 0.00 seconds\n",
      "fill cell array: 0.00 seconds\n",
      "fill point array: 0.00 seconds\n",
      "fill cell array: 0.00 seconds\n",
      "fill point array: 0.00 seconds\n",
      "fill cell array: 0.00 seconds\n",
      "fill point array: 0.00 seconds\n",
      "fill cell array: 0.00 seconds\n",
      "fill point array: 0.00 seconds\n",
      "fill cell array: 0.00 seconds\n",
      "fill point array: 0.00 seconds\n",
      "fill cell array: 0.00 seconds\n",
      "fill point array: 0.00 seconds\n",
      "fill cell array: 0.00 seconds\n",
      "fill point array: 0.00 seconds\n",
      "fill cell array: 0.00 seconds\n",
      "fill point array: 0.00 seconds\n",
      "fill cell array: 0.00 seconds\n",
      "fill point array: 0.00 seconds\n",
      "fill cell array: 0.00 seconds\n",
      "fill point array: 0.00 seconds\n",
      "fill cell array: 0.00 seconds\n",
      "fill point array: 0.00 seconds\n",
      "fill cell array: 0.00 seconds\n",
      "fill point array: 0.00 seconds\n",
      "fill cell array: 0.00 seconds\n",
      "fill point array: 0.00 seconds\n",
      "fill cell array: 0.00 seconds\n",
      "fill point array: 0.00 seconds\n",
      "fill cell array: 0.00 seconds\n",
      "fill point array: 0.00 seconds\n",
      "fill cell array: 0.00 seconds\n",
      "fill point array: 0.00 seconds\n",
      "fill cell array: 0.00 seconds\n",
      "fill point array: 0.00 seconds\n",
      "fill cell array: 0.00 seconds\n",
      "fill point array: 0.00 seconds\n",
      "fill cell array: 0.00 seconds\n",
      "fill point array: 0.00 seconds\n",
      "fill cell array: 0.00 seconds\n",
      "fill point array: 0.00 seconds\n",
      "fill cell array: 0.00 seconds\n",
      "fill point array: 0.00 seconds\n",
      "fill cell array: 0.00 seconds\n",
      "fill point array: 0.00 seconds\n",
      "fill cell array: 0.00 seconds\n",
      "fill point array: 0.00 seconds\n",
      "fill cell array: 0.00 seconds\n",
      "fill point array: 0.00 seconds\n",
      "fill cell array: 0.00 seconds\n",
      "fill point array: 0.00 seconds\n",
      "fill cell array: 0.00 seconds\n",
      "fill point array: 0.00 seconds\n",
      "fill cell array: 0.00 seconds\n",
      "fill point array: 0.00 seconds\n",
      "fill cell array: 0.00 seconds\n",
      "fill point array: 0.00 seconds\n",
      "fill cell array: 0.00 seconds\n",
      "fill point array: 0.00 seconds\n",
      "fill cell array: 0.00 seconds\n",
      "fill point array: 0.00 seconds\n",
      "fill cell array: 0.00 seconds\n",
      "fill point array: 0.00 seconds\n",
      "fill cell array: 0.00 seconds\n",
      "fill point array: 0.00 seconds\n",
      "fill cell array: 0.00 seconds\n",
      "fill point array: 0.00 seconds\n",
      "fill cell array: 0.00 seconds\n",
      "fill point array: 0.00 seconds\n",
      "fill cell array: 0.00 seconds\n",
      "fill point array: 0.00 seconds\n",
      "fill cell array: 0.00 seconds\n",
      "fill point array: 0.00 seconds\n",
      "fill cell array: 0.00 seconds\n",
      "fill point array: 0.00 seconds\n",
      "fill cell array: 0.00 seconds\n",
      "fill point array: 0.00 seconds\n",
      "fill cell array: 0.00 seconds\n",
      "fill point array: 0.00 seconds\n",
      "fill cell array: 0.00 seconds\n",
      "fill point array: 0.00 seconds\n",
      "fill cell array: 0.00 seconds\n",
      "fill point array: 0.00 seconds\n",
      "fill cell array: 0.00 seconds\n",
      "fill point array: 0.00 seconds\n",
      "fill cell array: 0.00 seconds\n",
      "fill point array: 0.00 seconds\n",
      "fill cell array: 0.00 seconds\n",
      "fill point array: 0.00 seconds\n",
      "fill cell array: 0.00 seconds\n",
      "fill point array: 0.00 seconds\n",
      "fill cell array: 0.00 seconds\n",
      "fill point array: 0.00 seconds\n",
      "fill cell array: 0.00 seconds\n",
      "fill point array: 0.00 seconds\n",
      "fill cell array: 0.00 seconds\n",
      "fill point array: 0.00 seconds\n",
      "fill cell array: 0.00 seconds\n",
      "fill point array: 0.00 seconds\n",
      "fill cell array: 0.00 seconds\n",
      "fill point array: 0.00 seconds\n",
      "fill cell array: 0.00 seconds\n",
      "fill point array: 0.00 seconds\n",
      "fill cell array: 0.00 seconds\n",
      "fill point array: 0.00 seconds\n",
      "fill cell array: 0.00 seconds\n",
      "fill point array: 0.00 seconds\n",
      "fill cell array: 0.00 seconds\n",
      "fill point array: 0.00 seconds\n",
      "fill cell array: 0.00 seconds\n",
      "fill point array: 0.00 seconds\n",
      "fill cell array: 0.00 seconds\n",
      "fill point array: 0.00 seconds\n",
      "fill cell array: 0.00 seconds\n",
      "fill point array: 0.00 seconds\n",
      "fill cell array: 0.00 seconds\n",
      "fill point array: 0.00 seconds\n",
      "fill cell array: 0.00 seconds\n",
      "fill point array: 0.00 seconds\n",
      "fill cell array: 0.00 seconds\n",
      "fill point array: 0.00 seconds\n",
      "fill cell array: 0.00 seconds\n",
      "fill point array: 0.00 seconds\n",
      "fill cell array: 0.00 seconds\n",
      "fill point array: 0.00 seconds\n",
      "fill cell array: 0.00 seconds\n",
      "fill point array: 0.00 seconds\n",
      "fill cell array: 0.00 seconds\n",
      "fill point array: 0.00 seconds\n",
      "fill cell array: 0.00 seconds\n",
      "fill point array: 0.00 seconds\n",
      "fill cell array: 0.00 seconds\n",
      "fill point array: 0.00 seconds\n",
      "fill cell array: 0.00 seconds\n",
      "fill point array: 0.00 seconds\n",
      "fill cell array: 0.00 seconds\n",
      "fill point array: 0.00 seconds\n",
      "fill cell array: 0.00 seconds\n",
      "fill point array: 0.00 seconds\n",
      "fill cell array: 0.00 seconds\n",
      "fill point array: 0.00 seconds\n",
      "fill cell array: 0.00 seconds\n",
      "fill point array: 0.00 seconds\n",
      "fill cell array: 0.00 seconds\n",
      "fill point array: 0.00 seconds\n",
      "fill cell array: 0.00 seconds\n",
      "fill point array: 0.00 seconds\n",
      "fill cell array: 0.00 seconds\n",
      "fill point array: 0.00 seconds\n",
      "fill cell array: 0.00 seconds\n",
      "fill point array: 0.00 seconds\n",
      "fill cell array: 0.00 seconds\n",
      "fill point array: 0.00 seconds\n",
      "fill cell array: 0.00 seconds\n",
      "fill point array: 0.00 seconds\n",
      "fill cell array: 0.00 seconds\n",
      "fill point array: 0.00 seconds\n",
      "fill cell array: 0.00 seconds\n",
      "fill point array: 0.00 seconds\n",
      "fill cell array: 0.00 seconds\n",
      "fill point array: 0.01 seconds\n",
      "fill cell array: 0.00 seconds\n",
      "fill point array: 0.00 seconds\n",
      "fill cell array: 0.00 seconds\n",
      "fill point array: 0.00 seconds\n",
      "fill cell array: 0.00 seconds\n",
      "fill point array: 0.00 seconds\n",
      "fill cell array: 0.00 seconds\n",
      "fill point array: 0.00 seconds\n",
      "fill cell array: 0.00 seconds\n",
      "fill point array: 0.00 seconds\n",
      "fill cell array: 0.00 seconds\n",
      "fill point array: 0.00 seconds\n",
      "fill cell array: 0.00 seconds\n",
      "fill point array: 0.00 seconds\n",
      "fill cell array: 0.00 seconds\n",
      "fill point array: 0.00 seconds\n",
      "fill cell array: 0.00 seconds\n",
      "fill point array: 0.00 seconds\n",
      "fill cell array: 0.00 seconds\n",
      "fill point array: 0.00 seconds\n",
      "fill cell array: 0.00 seconds\n",
      "fill point array: 0.00 seconds\n",
      "fill cell array: 0.00 seconds\n",
      "fill point array: 0.00 seconds\n",
      "fill cell array: 0.00 seconds\n",
      "fill point array: 0.00 seconds\n",
      "fill cell array: 0.00 seconds\n",
      "fill point array: 0.00 seconds\n",
      "fill cell array: 0.00 seconds\n",
      "fill point array: 0.00 seconds\n",
      "fill cell array: 0.00 seconds\n",
      "fill point array: 0.00 seconds\n",
      "fill cell array: 0.00 seconds\n",
      "fill point array: 0.00 seconds\n",
      "fill cell array: 0.00 seconds\n",
      "fill point array: 0.00 seconds\n",
      "fill cell array: 0.00 seconds\n",
      "fill point array: 0.00 seconds\n",
      "fill cell array: 0.00 seconds\n",
      "fill point array: 0.00 seconds\n",
      "fill cell array: 0.00 seconds\n",
      "fill point array: 0.00 seconds\n",
      "fill cell array: 0.00 seconds\n",
      "fill point array: 0.00 seconds\n",
      "fill cell array: 0.00 seconds\n",
      "fill point array: 0.00 seconds\n",
      "fill cell array: 0.00 seconds\n",
      "fill point array: 0.00 seconds\n",
      "fill cell array: 0.00 seconds\n",
      "fill point array: 0.00 seconds\n",
      "fill cell array: 0.00 seconds\n",
      "fill point array: 0.01 seconds\n",
      "fill cell array: 0.00 seconds\n",
      "fill point array: 0.00 seconds\n",
      "fill cell array: 0.00 seconds\n",
      "fill point array: 0.00 seconds\n",
      "fill cell array: 0.00 seconds\n",
      "fill point array: 0.00 seconds\n",
      "fill cell array: 0.00 seconds\n",
      "fill point array: 0.00 seconds\n",
      "fill cell array: 0.00 seconds\n",
      "fill point array: 0.00 seconds\n",
      "fill cell array: 0.00 seconds\n",
      "fill point array: 0.00 seconds\n",
      "fill cell array: 0.00 seconds\n",
      "fill point array: 0.00 seconds\n",
      "fill cell array: 0.00 seconds\n",
      "fill point array: 0.00 seconds\n",
      "fill cell array: 0.00 seconds\n",
      "fill point array: 0.00 seconds\n",
      "fill cell array: 0.00 seconds\n",
      "fill point array: 0.00 seconds\n",
      "fill cell array: 0.00 seconds\n",
      "fill point array: 0.00 seconds\n",
      "fill cell array: 0.00 seconds\n",
      "fill point array: 0.00 seconds\n",
      "fill cell array: 0.00 seconds\n",
      "fill point array: 0.00 seconds\n",
      "fill cell array: 0.00 seconds\n",
      "fill point array: 0.00 seconds\n",
      "fill cell array: 0.00 seconds\n",
      "fill point array: 0.00 seconds\n",
      "fill cell array: 0.00 seconds\n",
      "fill point array: 0.00 seconds\n",
      "fill cell array: 0.00 seconds\n",
      "fill point array: 0.00 seconds\n",
      "fill cell array: 0.00 seconds\n",
      "fill point array: 0.00 seconds\n",
      "fill cell array: 0.00 seconds\n",
      "fill point array: 0.00 seconds\n",
      "fill cell array: 0.00 seconds\n",
      "fill point array: 0.00 seconds\n",
      "fill cell array: 0.00 seconds\n",
      "fill point array: 0.00 seconds\n",
      "fill cell array: 0.00 seconds\n",
      "fill point array: 0.00 seconds\n",
      "fill cell array: 0.00 seconds\n",
      "fill point array: 0.00 seconds\n",
      "fill cell array: 0.00 seconds\n",
      "fill point array: 0.00 seconds\n",
      "fill cell array: 0.00 seconds\n",
      "fill point array: 0.00 seconds\n",
      "fill cell array: 0.00 seconds\n",
      "fill point array: 0.00 seconds\n",
      "fill cell array: 0.00 seconds\n",
      "fill point array: 0.00 seconds\n",
      "fill cell array: 0.00 seconds\n",
      "fill point array: 0.00 seconds\n",
      "fill cell array: 0.00 seconds\n",
      "fill point array: 0.00 seconds\n",
      "fill cell array: 0.00 seconds\n",
      "fill point array: 0.00 seconds\n",
      "fill cell array: 0.00 seconds\n",
      "fill point array: 0.00 seconds\n",
      "fill cell array: 0.00 seconds\n",
      "fill point array: 0.00 seconds\n",
      "fill cell array: 0.00 seconds\n",
      "fill point array: 0.00 seconds\n",
      "fill cell array: 0.00 seconds\n",
      "fill point array: 0.00 seconds\n",
      "fill cell array: 0.00 seconds\n",
      "fill point array: 0.00 seconds\n",
      "fill cell array: 0.00 seconds\n",
      "fill point array: 0.00 seconds\n",
      "fill cell array: 0.00 seconds\n",
      "fill point array: 0.00 seconds\n",
      "fill cell array: 0.00 seconds\n",
      "fill point array: 0.00 seconds\n",
      "fill cell array: 0.00 seconds\n",
      "fill point array: 0.00 seconds\n",
      "fill cell array: 0.00 seconds\n",
      "fill point array: 0.00 seconds\n",
      "fill cell array: 0.00 seconds\n",
      "fill point array: 0.00 seconds\n",
      "fill cell array: 0.00 seconds\n",
      "fill point array: 0.00 seconds\n",
      "fill cell array: 0.00 seconds\n",
      "fill point array: 0.00 seconds\n",
      "fill cell array: 0.00 seconds\n",
      "fill point array: 0.00 seconds\n",
      "fill cell array: 0.00 seconds\n",
      "fill point array: 0.00 seconds\n",
      "fill cell array: 0.00 seconds\n",
      "fill point array: 0.00 seconds\n",
      "fill cell array: 0.00 seconds\n",
      "fill point array: 0.00 seconds\n",
      "fill cell array: 0.00 seconds\n",
      "fill point array: 0.00 seconds\n",
      "fill cell array: 0.00 seconds\n",
      "fill point array: 0.00 seconds\n",
      "fill cell array: 0.00 seconds\n",
      "fill point array: 0.00 seconds\n",
      "fill cell array: 0.00 seconds\n",
      "fill point array: 0.00 seconds\n",
      "fill cell array: 0.00 seconds\n",
      "fill point array: 0.00 seconds\n",
      "fill cell array: 0.00 seconds\n",
      "fill point array: 0.00 seconds\n",
      "fill cell array: 0.00 seconds\n",
      "fill point array: 0.00 seconds\n",
      "fill cell array: 0.00 seconds\n",
      "fill point array: 0.00 seconds\n",
      "fill cell array: 0.00 seconds\n",
      "fill point array: 0.00 seconds\n",
      "fill cell array: 0.00 seconds\n",
      "fill point array: 0.00 seconds\n",
      "fill cell array: 0.00 seconds\n",
      "fill point array: 0.00 seconds\n",
      "fill cell array: 0.00 seconds\n",
      "fill point array: 0.00 seconds\n",
      "fill cell array: 0.00 seconds\n",
      "fill point array: 0.00 seconds\n",
      "fill cell array: 0.00 seconds\n",
      "fill point array: 0.00 seconds\n",
      "fill cell array: 0.00 seconds\n",
      "fill point array: 0.00 seconds\n",
      "fill cell array: 0.00 seconds\n",
      "fill point array: 0.00 seconds\n",
      "fill cell array: 0.00 seconds\n",
      "fill point array: 0.00 seconds\n",
      "fill cell array: 0.00 seconds\n",
      "fill point array: 0.00 seconds\n",
      "fill cell array: 0.00 seconds\n",
      "fill point array: 0.00 seconds\n",
      "fill cell array: 0.00 seconds\n",
      "fill point array: 0.00 seconds\n",
      "fill cell array: 0.00 seconds\n",
      "fill point array: 0.00 seconds\n",
      "fill cell array: 0.00 seconds\n",
      "fill point array: 0.00 seconds\n",
      "fill cell array: 0.00 seconds\n",
      "fill point array: 0.00 seconds\n",
      "fill cell array: 0.00 seconds\n",
      "fill point array: 0.00 seconds\n",
      "fill cell array: 0.00 seconds\n",
      "fill point array: 0.00 seconds\n",
      "fill cell array: 0.00 seconds\n",
      "fill point array: 0.00 seconds\n",
      "fill cell array: 0.00 seconds\n",
      "fill point array: 0.00 seconds\n",
      "fill cell array: 0.00 seconds\n",
      "fill point array: 0.00 seconds\n",
      "fill cell array: 0.00 seconds\n",
      "fill point array: 0.00 seconds\n",
      "fill cell array: 0.00 seconds\n",
      "fill point array: 0.00 seconds\n",
      "fill cell array: 0.00 seconds\n",
      "fill point array: 0.00 seconds\n",
      "fill cell array: 0.00 seconds\n",
      "fill point array: 0.00 seconds\n",
      "fill cell array: 0.00 seconds\n",
      "fill point array: 0.00 seconds\n",
      "fill cell array: 0.00 seconds\n",
      "fill point array: 0.00 seconds\n",
      "fill cell array: 0.00 seconds\n",
      "fill point array: 0.00 seconds\n",
      "fill cell array: 0.00 seconds\n",
      "fill point array: 0.00 seconds\n",
      "fill cell array: 0.00 seconds\n",
      "fill point array: 0.00 seconds\n",
      "fill cell array: 0.00 seconds\n",
      "fill point array: 0.00 seconds\n",
      "fill cell array: 0.00 seconds\n",
      "fill point array: 0.00 seconds\n",
      "fill cell array: 0.00 seconds\n",
      "fill point array: 0.00 seconds\n",
      "fill cell array: 0.00 seconds\n",
      "fill point array: 0.00 seconds\n",
      "fill cell array: 0.00 seconds\n",
      "fill point array: 0.00 seconds\n",
      "fill cell array: 0.00 seconds\n",
      "fill point array: 0.00 seconds\n",
      "fill cell array: 0.00 seconds\n",
      "fill point array: 0.00 seconds\n",
      "fill cell array: 0.00 seconds\n",
      "fill point array: 0.00 seconds\n",
      "fill cell array: 0.00 seconds\n",
      "fill point array: 0.00 seconds\n",
      "fill cell array: 0.00 seconds\n",
      "fill point array: 0.00 seconds\n",
      "fill cell array: 0.00 seconds\n",
      "fill point array: 0.00 seconds\n",
      "fill cell array: 0.00 seconds\n",
      "fill point array: 0.00 seconds\n",
      "fill cell array: 0.00 seconds\n",
      "fill point array: 0.00 seconds\n",
      "fill cell array: 0.00 seconds\n",
      "fill point array: 0.00 seconds\n",
      "fill cell array: 0.00 seconds\n",
      "fill point array: 0.00 seconds\n",
      "fill cell array: 0.00 seconds\n",
      "fill point array: 0.00 seconds\n",
      "fill cell array: 0.00 seconds\n",
      "fill point array: 0.00 seconds\n",
      "fill cell array: 0.00 seconds\n",
      "fill point array: 0.00 seconds\n",
      "fill cell array: 0.00 seconds\n",
      "fill point array: 0.00 seconds\n",
      "fill cell array: 0.00 seconds\n",
      "fill point array: 0.00 seconds\n",
      "fill cell array: 0.00 seconds\n",
      "fill point array: 0.00 seconds\n",
      "fill cell array: 0.00 seconds\n",
      "fill point array: 0.00 seconds\n",
      "fill cell array: 0.00 seconds\n",
      "fill point array: 0.00 seconds\n",
      "fill cell array: 0.00 seconds\n",
      "fill point array: 0.00 seconds\n",
      "fill cell array: 0.00 seconds\n",
      "fill point array: 0.00 seconds\n",
      "fill cell array: 0.00 seconds\n",
      "fill point array: 0.00 seconds\n",
      "fill cell array: 0.00 seconds\n",
      "fill point array: 0.00 seconds\n",
      "fill cell array: 0.00 seconds\n",
      "fill point array: 0.00 seconds\n",
      "fill cell array: 0.00 seconds\n",
      "fill point array: 0.00 seconds\n",
      "fill cell array: 0.00 seconds\n",
      "fill point array: 0.00 seconds\n",
      "fill cell array: 0.00 seconds\n",
      "fill point array: 0.00 seconds\n",
      "fill cell array: 0.00 seconds\n",
      "fill point array: 0.00 seconds\n",
      "fill cell array: 0.00 seconds\n",
      "fill point array: 0.00 seconds\n",
      "fill cell array: 0.00 seconds\n",
      "fill point array: 0.00 seconds\n",
      "fill cell array: 0.00 seconds\n",
      "fill point array: 0.00 seconds\n",
      "fill cell array: 0.00 seconds\n",
      "fill point array: 0.00 seconds\n",
      "fill cell array: 0.00 seconds\n",
      "fill point array: 0.00 seconds\n",
      "fill cell array: 0.00 seconds\n",
      "fill point array: 0.00 seconds\n",
      "fill cell array: 0.00 seconds\n",
      "fill point array: 0.00 seconds\n",
      "fill cell array: 0.00 seconds\n",
      "fill point array: 0.00 seconds\n",
      "fill cell array: 0.00 seconds\n",
      "fill point array: 0.00 seconds\n",
      "fill cell array: 0.00 seconds\n",
      "fill point array: 0.00 seconds\n",
      "fill cell array: 0.00 seconds\n",
      "fill point array: 0.00 seconds\n",
      "fill cell array: 0.00 seconds\n",
      "fill point array: 0.00 seconds\n",
      "fill cell array: 0.00 seconds\n",
      "fill point array: 0.00 seconds\n",
      "fill cell array: 0.00 seconds\n",
      "fill point array: 0.00 seconds\n",
      "fill cell array: 0.00 seconds\n",
      "fill point array: 0.00 seconds\n",
      "fill cell array: 0.00 seconds\n",
      "fill point array: 0.00 seconds\n",
      "fill cell array: 0.00 seconds\n"
     ]
    }
   ],
   "source": [
    "# stack = 'MD593'\n",
    "\n",
    "for stack in ['MD589', 'MD594', 'MD585', 'MD593', 'MD592', 'MD590', 'MD591', 'MD595', 'MD598', 'MD602', 'MD603']:\n",
    "\n",
    "    atlasAlignParams_dir = '/home/yuncong/CSHL_atlasAlignParams_atlas/'\n",
    "    with open(atlasAlignParams_dir + '/%(stack)s/%(stack)s_3dAlignParams.txt' % {'stack': stack}, 'r') as f:\n",
    "        lines = f.readlines()\n",
    "        global_params = np.array(map(float, lines[0].strip().split()))\n",
    "    #     atlas_xdim, atlas_ydim, atlas_zdim  = np.array(map(float, lines[1].strip().split()))\n",
    "        atlas_centroid = np.array(map(float, lines[2].strip().split()))\n",
    "        test_xdim, test_ydim, test_zdim = np.array(map(int, lines[3].strip().split()))\n",
    "        test_centroid = np.array(map(float, lines[4].strip().split()))\n",
    "\n",
    "\n",
    "    parameters_allLandmarks = {}\n",
    "    atlas_centroid_allLandmarks = {}\n",
    "    test_centroid_allLandmarks = {}\n",
    "\n",
    "    for name in available_labels_sided:\n",
    "\n",
    "        with open(atlasAlignParams_dir + '/%(stack)s/%(stack)s_%(name)s_transformUponAffineProjection.txt' % \\\n",
    "                            {'stack': stack, 'name': name}, 'r') as f:\n",
    "            lines = f.readlines()\n",
    "            params = np.array(map(float, lines[0].strip().split()))\n",
    "            test_xdim, test_ydim, test_zdim = np.array(map(int, lines[1].strip().split()))\n",
    "            atlas_c = np.array(map(float, lines[2].strip().split()))\n",
    "            test_c = np.array(map(float, lines[3].strip().split()))\n",
    "\n",
    "        parameters_allLandmarks[name] = params\n",
    "        atlas_centroid_allLandmarks[name] = atlas_c\n",
    "        test_centroid_allLandmarks[name] = test_c\n",
    "\n",
    "\n",
    "    subject_localAdjusted_polydata_list = {}\n",
    "\n",
    "    for name_s in available_labels_sided:\n",
    "\n",
    "        fn = mesh_rootdir + \"/%(stack)s/%(stack)s_localAdjustedVolume_%(label)s_smoothed.stl\" % {'stack':stack, 'label':name_s}\n",
    "\n",
    "        if os.path.exists(fn):\n",
    "            vertices, faces = load_mesh_stl(fn)\n",
    "\n",
    "    #         vertices = transform_points_inverse(global_params, pts_prime=vertices, \n",
    "    #                                             c_prime=test_centroid_allLandmarks[name], \n",
    "    #                                             c=atlas_centroid_allLandmarks[name])\n",
    "\n",
    "            vertices = transform_points_inverse(global_params, pts_prime=vertices, \n",
    "                                        c_prime=test_centroid, c=atlas_centroid)\n",
    "\n",
    "            polydata = mesh_to_polydata(vertices, faces)\n",
    "\n",
    "            subject_localAdjusted_polydata_list[name_s] = polydata\n",
    "            \n",
    "    subject_localAdjusted_polydata_list_allStacks[stack] = subject_localAdjusted_polydata_list"
   ]
  },
  {
   "cell_type": "code",
   "execution_count": null,
   "metadata": {
    "collapsed": false,
    "scrolled": true
   },
   "outputs": [],
   "source": [
    "# subject_atlasProjected_polydata_list = {}\n",
    "\n",
    "# for name_s in available_labels_sided:\n",
    "\n",
    "#     fn = mesh_rootdir + \"/%(stack)s/%(stack)s_atlasProjectedVolume_%(label)s_smoothed.stl\" % {'stack':stack, 'label':name_s}\n",
    "\n",
    "#     if os.path.exists(fn):\n",
    "#         vertices, faces = load_mesh_stl(fn)\n",
    "#         vertices = transform_points_inverse(global_params, pts_prime=vertices, \n",
    "#                                             c_prime=test_centroid, c=atlas_centroid)\n",
    "#         polydata = mesh_to_polydata(vertices, faces)\n",
    "        \n",
    "#         subject_atlasProjected_polydata_list[name_s] = polydata"
   ]
  },
  {
   "cell_type": "code",
   "execution_count": null,
   "metadata": {
    "collapsed": true
   },
   "outputs": [],
   "source": []
  },
  {
   "cell_type": "code",
   "execution_count": 15,
   "metadata": {
    "collapsed": false
   },
   "outputs": [],
   "source": [
    "ren1 = vtk.vtkRenderer()\n",
    "\n",
    "renWin1 = vtk.vtkRenderWindow()\n",
    "renWin1.AddRenderer(ren1)\n",
    "\n",
    "iren1 = vtk.vtkRenderWindowInteractor()\n",
    "iren1.SetRenderWindow(renWin1)\n",
    "\n",
    "camera = vtk.vtkCamera()\n",
    "\n",
    "# 45 degree\n",
    "camera.SetViewUp(0, -1, 0)\n",
    "camera.SetPosition(-20, -30, -10)\n",
    "camera.SetFocalPoint(1, 1, 1)\n",
    "\n",
    "# # saggital\n",
    "# camera.SetViewUp(0, -1, 0)\n",
    "# camera.SetPosition(0, 0, -2)\n",
    "# camera.SetFocalPoint(0, 0, 1)\n",
    "\n",
    "# # coronal\n",
    "# camera.SetViewUp(0, -1, 0)\n",
    "# camera.SetPosition(-2, 0, 0)\n",
    "# camera.SetFocalPoint(-1, 0, 0)\n",
    "\n",
    "# # horizontal\n",
    "# camera.SetViewUp(0, 0, -1)\n",
    "# camera.SetPosition(0, 1, 0)\n",
    "# camera.SetFocalPoint(0, -1, 0)\n",
    "\n",
    "for i, (name_s, polydata) in enumerate(atlas_polydata_list.iteritems()):\n",
    "    \n",
    "    m = vtk.vtkPolyDataMapper()\n",
    "    m.SetInputData(polydata)\n",
    "\n",
    "    a = vtk.vtkActor()\n",
    "    a.SetMapper(m)\n",
    "    a.GetProperty().SetRepresentationToWireframe()\n",
    "    a.GetProperty().SetColor(colors[labelMap_sidedToUnsided[name_s]])\n",
    "#     a.GetProperty().SetColor((1.,1.,1.))    \n",
    "    a.GetProperty().SetOpacity(.1)\n",
    "\n",
    "    ren1.AddActor(a)\n",
    "        \n",
    "for i, (name_s, polydata) in enumerate(subject_localAdjusted_polydata_list.iteritems()):\n",
    "\n",
    "    m = vtk.vtkPolyDataMapper()\n",
    "    m.SetInputData(polydata)\n",
    "\n",
    "    a = vtk.vtkActor()\n",
    "    a.SetMapper(m)\n",
    "    a.GetProperty().SetRepresentationToWireframe()\n",
    "#     a.GetProperty().SetColor(colors[labelMap_sidedToUnsided[name_s]])\n",
    "    a.GetProperty().SetColor((1.,1.,1.))\n",
    "\n",
    "    ren1.AddActor(a)\n",
    "    \n",
    "    \n",
    "ren1.SetActiveCamera(camera)\n",
    "\n",
    "widget1 = add_axes(iren1)\n",
    "renWin1.Render()\n",
    "\n",
    "ren1.ResetCamera()\n",
    "renWin1.SetWindowName('original')\n",
    "\n",
    "iren1.Start()"
   ]
  },
  {
   "cell_type": "code",
   "execution_count": 21,
   "metadata": {
    "collapsed": false
   },
   "outputs": [],
   "source": [
    "# visualize all stacks\n",
    "\n",
    "ren1 = vtk.vtkRenderer()\n",
    "\n",
    "renWin1 = vtk.vtkRenderWindow()\n",
    "renWin1.AddRenderer(ren1)\n",
    "\n",
    "iren1 = vtk.vtkRenderWindowInteractor()\n",
    "iren1.SetRenderWindow(renWin1)\n",
    "\n",
    "camera = vtk.vtkCamera()\n",
    "\n",
    "# 45 degree\n",
    "camera.SetViewUp(0, -1, 0)\n",
    "camera.SetPosition(-20, -30, -10)\n",
    "camera.SetFocalPoint(1, 1, 1)\n",
    "\n",
    "# # saggital\n",
    "# camera.SetViewUp(0, -1, 0)\n",
    "# camera.SetPosition(0, 0, -2)\n",
    "# camera.SetFocalPoint(0, 0, 1)\n",
    "\n",
    "# # coronal\n",
    "# camera.SetViewUp(0, -1, 0)\n",
    "# camera.SetPosition(-2, 0, 0)\n",
    "# camera.SetFocalPoint(-1, 0, 0)\n",
    "\n",
    "# # horizontal\n",
    "# camera.SetViewUp(0, 0, -1)\n",
    "# camera.SetPosition(0, 1, 0)\n",
    "# camera.SetFocalPoint(0, -1, 0)\n",
    "\n",
    "for i, (name_s, polydata) in enumerate(atlas_polydata_list.iteritems()):\n",
    "    \n",
    "    m = vtk.vtkPolyDataMapper()\n",
    "    m.SetInputData(polydata)\n",
    "\n",
    "    a = vtk.vtkActor()\n",
    "    a.SetMapper(m)\n",
    "    a.GetProperty().SetRepresentationToWireframe()\n",
    "#     a.GetProperty().SetColor(colors[labelMap_sidedToUnsided[name_s]])\n",
    "    a.GetProperty().SetColor((1.,1.,1.))    \n",
    "#     a.GetProperty().SetOpacity(.1)\n",
    "\n",
    "    ren1.AddActor(a)\n",
    "\n",
    "for stack_ind, (st, polydata_list) in enumerate(subject_localAdjusted_polydata_list_allStacks.iteritems()):\n",
    "\n",
    "    for i, (name_s, polydata) in enumerate(polydata_list.iteritems()):\n",
    "\n",
    "        m = vtk.vtkPolyDataMapper()\n",
    "        m.SetInputData(polydata)\n",
    "\n",
    "        a = vtk.vtkActor()\n",
    "        a.SetMapper(m)\n",
    "        a.GetProperty().SetRepresentationToWireframe()\n",
    "        a.GetProperty().SetColor(colors.values()[stack_ind+1])\n",
    "#         a.GetProperty().SetColor(colors[labelMap_sidedToUnsided[name_s]])\n",
    "#         a.GetProperty().SetColor((1.,1.,1.))\n",
    "        a.GetProperty().SetOpacity(.3)\n",
    "    \n",
    "        ren1.AddActor(a)\n",
    "    \n",
    "    \n",
    "ren1.SetActiveCamera(camera)\n",
    "\n",
    "widget1 = add_axes(iren1)\n",
    "renWin1.Render()\n",
    "\n",
    "ren1.ResetCamera()\n",
    "renWin1.SetWindowName('original')\n",
    "\n",
    "iren1.Start()"
   ]
  }
 ],
 "metadata": {
  "kernelspec": {
   "display_name": "Python 2",
   "language": "python",
   "name": "python2"
  },
  "language_info": {
   "codemirror_mode": {
    "name": "ipython",
    "version": 2
   },
   "file_extension": ".py",
   "mimetype": "text/x-python",
   "name": "python",
   "nbconvert_exporter": "python",
   "pygments_lexer": "ipython2",
   "version": "2.7.6"
  }
 },
 "nbformat": 4,
 "nbformat_minor": 0
}
