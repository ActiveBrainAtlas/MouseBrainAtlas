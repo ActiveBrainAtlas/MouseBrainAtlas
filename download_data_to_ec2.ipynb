{
 "cells": [
  {
   "cell_type": "code",
   "execution_count": 1,
   "metadata": {
    "scrolled": true
   },
   "outputs": [
    {
     "name": "stdout",
     "output_type": "stream",
     "text": [
      "Setting environment for AWS compute node\n"
     ]
    },
    {
     "name": "stderr",
     "output_type": "stream",
     "text": [
      "No vtk\n",
      "File does not exist: /shared/CSHL_data_processed/MD585/MD585_anchor.txt\n",
      "File does not exist: /shared/CSHL_data_processed/MD585/MD585_sorted_filenames.txt\n",
      "File does not exist: /shared/CSHL_data_processed/MD585/MD585_cropbox.txt\n",
      "File does not exist: /shared/CSHL_data_processed/MD585/MD585_cropbox.txt\n",
      "File does not exist: /shared/CSHL_data_processed/MD589/MD589_anchor.txt\n",
      "File does not exist: /shared/CSHL_data_processed/MD589/MD589_sorted_filenames.txt\n",
      "File does not exist: /shared/CSHL_data_processed/MD589/MD589_cropbox.txt\n",
      "File does not exist: /shared/CSHL_data_processed/MD589/MD589_cropbox.txt\n",
      "File does not exist: /shared/CSHL_data_processed/MD590/MD590_anchor.txt\n",
      "File does not exist: /shared/CSHL_data_processed/MD590/MD590_sorted_filenames.txt\n",
      "File does not exist: /shared/CSHL_data_processed/MD590/MD590_cropbox.txt\n",
      "File does not exist: /shared/CSHL_data_processed/MD590/MD590_cropbox.txt\n",
      "File does not exist: /shared/CSHL_data_processed/MD591/MD591_anchor.txt\n",
      "File does not exist: /shared/CSHL_data_processed/MD591/MD591_sorted_filenames.txt\n",
      "File does not exist: /shared/CSHL_data_processed/MD591/MD591_cropbox.txt\n",
      "File does not exist: /shared/CSHL_data_processed/MD591/MD591_cropbox.txt\n",
      "File does not exist: /shared/CSHL_data_processed/MD592/MD592_anchor.txt\n",
      "File does not exist: /shared/CSHL_data_processed/MD592/MD592_sorted_filenames.txt\n",
      "File does not exist: /shared/CSHL_data_processed/MD592/MD592_cropbox.txt\n",
      "File does not exist: /shared/CSHL_data_processed/MD592/MD592_cropbox.txt\n",
      "File does not exist: /shared/CSHL_data_processed/MD593/MD593_anchor.txt\n",
      "File does not exist: /shared/CSHL_data_processed/MD593/MD593_sorted_filenames.txt\n",
      "File does not exist: /shared/CSHL_data_processed/MD593/MD593_cropbox.txt\n",
      "File does not exist: /shared/CSHL_data_processed/MD593/MD593_cropbox.txt\n",
      "File does not exist: /shared/CSHL_data_processed/MD594/MD594_anchor.txt\n",
      "File does not exist: /shared/CSHL_data_processed/MD594/MD594_sorted_filenames.txt\n",
      "File does not exist: /shared/CSHL_data_processed/MD594/MD594_cropbox.txt\n",
      "File does not exist: /shared/CSHL_data_processed/MD594/MD594_cropbox.txt\n",
      "File does not exist: /shared/CSHL_data_processed/MD595/MD595_anchor.txt\n",
      "File does not exist: /shared/CSHL_data_processed/MD595/MD595_sorted_filenames.txt\n",
      "File does not exist: /shared/CSHL_data_processed/MD595/MD595_cropbox.txt\n",
      "File does not exist: /shared/CSHL_data_processed/MD595/MD595_cropbox.txt\n",
      "File does not exist: /shared/CSHL_data_processed/MD598/MD598_anchor.txt\n",
      "File does not exist: /shared/CSHL_data_processed/MD598/MD598_sorted_filenames.txt\n",
      "File does not exist: /shared/CSHL_data_processed/MD598/MD598_cropbox.txt\n",
      "File does not exist: /shared/CSHL_data_processed/MD598/MD598_cropbox.txt\n",
      "File does not exist: /shared/CSHL_data_processed/MD599/MD599_anchor.txt\n",
      "File does not exist: /shared/CSHL_data_processed/MD599/MD599_sorted_filenames.txt\n",
      "File does not exist: /shared/CSHL_data_processed/MD599/MD599_cropbox.txt\n",
      "File does not exist: /shared/CSHL_data_processed/MD599/MD599_cropbox.txt\n",
      "File does not exist: /shared/CSHL_data_processed/MD602/MD602_anchor.txt\n",
      "File does not exist: /shared/CSHL_data_processed/MD602/MD602_sorted_filenames.txt\n",
      "File does not exist: /shared/CSHL_data_processed/MD602/MD602_cropbox.txt\n",
      "File does not exist: /shared/CSHL_data_processed/MD602/MD602_cropbox.txt\n",
      "File does not exist: /shared/CSHL_data_processed/MD603/MD603_anchor.txt\n",
      "File does not exist: /shared/CSHL_data_processed/MD603/MD603_sorted_filenames.txt\n",
      "File does not exist: /shared/CSHL_data_processed/MD603/MD603_cropbox.txt\n",
      "File does not exist: /shared/CSHL_data_processed/MD603/MD603_cropbox.txt\n",
      "File does not exist: /shared/CSHL_data_processed/MD635/MD635_anchor.txt\n",
      "File does not exist: /shared/CSHL_data_processed/MD635/MD635_sorted_filenames.txt\n",
      "File does not exist: /shared/CSHL_data_processed/MD635/MD635_cropbox.txt\n",
      "File does not exist: /shared/CSHL_data_processed/MD635/MD635_cropbox.txt\n",
      "File does not exist: /shared/CSHL_data_processed/MD653/MD653_anchor.txt\n",
      "File does not exist: /shared/CSHL_data_processed/MD653/MD653_sorted_filenames.txt\n",
      "File does not exist: /shared/CSHL_data_processed/MD653/MD653_cropbox.txt\n",
      "File does not exist: /shared/CSHL_data_processed/MD653/MD653_cropbox.txt\n",
      "File does not exist: /shared/CSHL_data_processed/MD652/MD652_anchor.txt\n",
      "File does not exist: /shared/CSHL_data_processed/MD652/MD652_sorted_filenames.txt\n",
      "File does not exist: /shared/CSHL_data_processed/MD652/MD652_cropbox.txt\n",
      "File does not exist: /shared/CSHL_data_processed/MD652/MD652_cropbox.txt\n",
      "File does not exist: /shared/CSHL_data_processed/MD642/MD642_anchor.txt\n",
      "File does not exist: /shared/CSHL_data_processed/MD642/MD642_sorted_filenames.txt\n",
      "File does not exist: /shared/CSHL_data_processed/MD642/MD642_cropbox.txt\n",
      "File does not exist: /shared/CSHL_data_processed/MD642/MD642_cropbox.txt\n",
      "File does not exist: /shared/CSHL_data_processed/MD657/MD657_anchor.txt\n",
      "File does not exist: /shared/CSHL_data_processed/MD657/MD657_sorted_filenames.txt\n",
      "File does not exist: /shared/CSHL_data_processed/MD657/MD657_cropbox.txt\n",
      "File does not exist: /shared/CSHL_data_processed/MD657/MD657_cropbox.txt\n"
     ]
    }
   ],
   "source": [
    "%load_ext autoreload\n",
    "%autoreload 2\n",
    "\n",
    "import os\n",
    "import time\n",
    "import sys\n",
    "\n",
    "sys.path.append(os.path.join(os.environ['REPO_DIR'], 'utilities'))\n",
    "from utilities2015 import *\n",
    "from metadata import *\n",
    "from data_manager import *\n",
    "from distributed_utilities import *"
   ]
  },
  {
   "cell_type": "code",
   "execution_count": 7,
   "metadata": {
    "scrolled": true
   },
   "outputs": [
    {
     "name": "stdout",
     "output_type": "stream",
     "text": [
      "rm -rf /shared/CSHL_data_processed/MD585/MD585_masks && mkdir -p /shared/CSHL_data_processed/MD585\n",
      "aws s3 cp --recursive s3://mousebrainatlas-data/CSHL_data_processed/MD585/MD585_masks /shared/CSHL_data_processed/MD585/MD585_masks\n"
     ]
    },
    {
     "name": "stderr",
     "output_type": "stream",
     "text": [
      "Child returned 0\n",
      "Child returned 0\n",
      "Child returned 0\n"
     ]
    },
    {
     "name": "stdout",
     "output_type": "stream",
     "text": [
      "rm -rf /shared/CSHL_data_processed/MD585/MD585_masks_alignedTo_MD585-N47-2015.07.16-22.50.52_MD585_3_0141 && mkdir -p /shared/CSHL_data_processed/MD585\n",
      "aws s3 cp --recursive s3://mousebrainatlas-data/CSHL_data_processed/MD585/MD585_masks_alignedTo_MD585-N47-2015.07.16-22.50.52_MD585_3_0141 /shared/CSHL_data_processed/MD585/MD585_masks_alignedTo_MD585-N47-2015.07.16-22.50.52_MD585_3_0141\n"
     ]
    },
    {
     "name": "stderr",
     "output_type": "stream",
     "text": [
      "Child returned 0\n",
      "Child returned 0\n"
     ]
    },
    {
     "name": "stdout",
     "output_type": "stream",
     "text": [
      "rm -rf /shared/CSHL_data_processed/MD585/MD585_masks_alignedTo_MD585-N47-2015.07.16-22.50.52_MD585_3_0141_cropped && mkdir -p /shared/CSHL_data_processed/MD585\n",
      "aws s3 cp --recursive s3://mousebrainatlas-data/CSHL_data_processed/MD585/MD585_masks_alignedTo_MD585-N47-2015.07.16-22.50.52_MD585_3_0141_cropped /shared/CSHL_data_processed/MD585/MD585_masks_alignedTo_MD585-N47-2015.07.16-22.50.52_MD585_3_0141_cropped\n"
     ]
    },
    {
     "name": "stderr",
     "output_type": "stream",
     "text": [
      "Child returned 0\n",
      "Child returned 0\n"
     ]
    },
    {
     "name": "stdout",
     "output_type": "stream",
     "text": [
      "rm -rf /shared/CSHL_data_processed/MD589/MD589_masks && mkdir -p /shared/CSHL_data_processed/MD589\n",
      "aws s3 cp --recursive s3://mousebrainatlas-data/CSHL_data_processed/MD589/MD589_masks /shared/CSHL_data_processed/MD589/MD589_masks\n"
     ]
    },
    {
     "name": "stderr",
     "output_type": "stream",
     "text": [
      "Child returned 0\n",
      "Child returned 0\n"
     ]
    },
    {
     "name": "stdout",
     "output_type": "stream",
     "text": [
      "rm -rf /shared/CSHL_data_processed/MD589/MD589_masks_alignedTo_MD589-IHC31-2015.07.30-23.26.22_MD589_1_0091 && mkdir -p /shared/CSHL_data_processed/MD589\n",
      "aws s3 cp --recursive s3://mousebrainatlas-data/CSHL_data_processed/MD589/MD589_masks_alignedTo_MD589-IHC31-2015.07.30-23.26.22_MD589_1_0091 /shared/CSHL_data_processed/MD589/MD589_masks_alignedTo_MD589-IHC31-2015.07.30-23.26.22_MD589_1_0091\n"
     ]
    },
    {
     "name": "stderr",
     "output_type": "stream",
     "text": [
      "Child returned 0\n",
      "Child returned 0\n"
     ]
    },
    {
     "name": "stdout",
     "output_type": "stream",
     "text": [
      "rm -rf /shared/CSHL_data_processed/MD589/MD589_masks_alignedTo_MD589-IHC31-2015.07.30-23.26.22_MD589_1_0091_cropped && mkdir -p /shared/CSHL_data_processed/MD589\n",
      "aws s3 cp --recursive s3://mousebrainatlas-data/CSHL_data_processed/MD589/MD589_masks_alignedTo_MD589-IHC31-2015.07.30-23.26.22_MD589_1_0091_cropped /shared/CSHL_data_processed/MD589/MD589_masks_alignedTo_MD589-IHC31-2015.07.30-23.26.22_MD589_1_0091_cropped\n"
     ]
    },
    {
     "name": "stderr",
     "output_type": "stream",
     "text": [
      "Child returned 0\n",
      "Child returned 0\n"
     ]
    },
    {
     "name": "stdout",
     "output_type": "stream",
     "text": [
      "rm -rf /shared/CSHL_data_processed/MD590/MD590_masks && mkdir -p /shared/CSHL_data_processed/MD590\n",
      "aws s3 cp --recursive s3://mousebrainatlas-data/CSHL_data_processed/MD590/MD590_masks /shared/CSHL_data_processed/MD590/MD590_masks\n"
     ]
    },
    {
     "name": "stderr",
     "output_type": "stream",
     "text": [
      "Child returned 0\n",
      "Child returned 0\n"
     ]
    },
    {
     "name": "stdout",
     "output_type": "stream",
     "text": [
      "rm -rf /shared/CSHL_data_processed/MD590/MD590_masks_alignedTo_MD590-N47-2015.09.12-05.32.06_MD590_2_0140 && mkdir -p /shared/CSHL_data_processed/MD590\n",
      "aws s3 cp --recursive s3://mousebrainatlas-data/CSHL_data_processed/MD590/MD590_masks_alignedTo_MD590-N47-2015.09.12-05.32.06_MD590_2_0140 /shared/CSHL_data_processed/MD590/MD590_masks_alignedTo_MD590-N47-2015.09.12-05.32.06_MD590_2_0140\n"
     ]
    },
    {
     "name": "stderr",
     "output_type": "stream",
     "text": [
      "Child returned 0\n",
      "Child returned 0\n"
     ]
    },
    {
     "name": "stdout",
     "output_type": "stream",
     "text": [
      "rm -rf /shared/CSHL_data_processed/MD590/MD590_masks_alignedTo_MD590-N47-2015.09.12-05.32.06_MD590_2_0140_cropped && mkdir -p /shared/CSHL_data_processed/MD590\n",
      "aws s3 cp --recursive s3://mousebrainatlas-data/CSHL_data_processed/MD590/MD590_masks_alignedTo_MD590-N47-2015.09.12-05.32.06_MD590_2_0140_cropped /shared/CSHL_data_processed/MD590/MD590_masks_alignedTo_MD590-N47-2015.09.12-05.32.06_MD590_2_0140_cropped\n"
     ]
    },
    {
     "name": "stderr",
     "output_type": "stream",
     "text": [
      "Child returned 0\n",
      "Child returned 0\n"
     ]
    },
    {
     "name": "stdout",
     "output_type": "stream",
     "text": [
      "rm -rf /shared/CSHL_data_processed/MD591/MD591_masks && mkdir -p /shared/CSHL_data_processed/MD591\n",
      "aws s3 cp --recursive s3://mousebrainatlas-data/CSHL_data_processed/MD591/MD591_masks /shared/CSHL_data_processed/MD591/MD591_masks\n"
     ]
    },
    {
     "name": "stderr",
     "output_type": "stream",
     "text": [
      "Child returned 0\n",
      "Child returned 0\n"
     ]
    },
    {
     "name": "stdout",
     "output_type": "stream",
     "text": [
      "rm -rf /shared/CSHL_data_processed/MD591/MD591_masks_alignedTo_MD591-N57-2015.09.21-17.13.29_MD591_1_0169 && mkdir -p /shared/CSHL_data_processed/MD591\n",
      "aws s3 cp --recursive s3://mousebrainatlas-data/CSHL_data_processed/MD591/MD591_masks_alignedTo_MD591-N57-2015.09.21-17.13.29_MD591_1_0169 /shared/CSHL_data_processed/MD591/MD591_masks_alignedTo_MD591-N57-2015.09.21-17.13.29_MD591_1_0169\n"
     ]
    },
    {
     "name": "stderr",
     "output_type": "stream",
     "text": [
      "Child returned 0\n",
      "Child returned 0\n"
     ]
    },
    {
     "name": "stdout",
     "output_type": "stream",
     "text": [
      "rm -rf /shared/CSHL_data_processed/MD591/MD591_masks_alignedTo_MD591-N57-2015.09.21-17.13.29_MD591_1_0169_cropped && mkdir -p /shared/CSHL_data_processed/MD591\n",
      "aws s3 cp --recursive s3://mousebrainatlas-data/CSHL_data_processed/MD591/MD591_masks_alignedTo_MD591-N57-2015.09.21-17.13.29_MD591_1_0169_cropped /shared/CSHL_data_processed/MD591/MD591_masks_alignedTo_MD591-N57-2015.09.21-17.13.29_MD591_1_0169_cropped\n"
     ]
    },
    {
     "name": "stderr",
     "output_type": "stream",
     "text": [
      "Child returned 0\n",
      "Child returned 0\n"
     ]
    },
    {
     "name": "stdout",
     "output_type": "stream",
     "text": [
      "rm -rf /shared/CSHL_data_processed/MD592/MD592_masks && mkdir -p /shared/CSHL_data_processed/MD592\n",
      "aws s3 cp --recursive s3://mousebrainatlas-data/CSHL_data_processed/MD592/MD592_masks /shared/CSHL_data_processed/MD592/MD592_masks\n"
     ]
    },
    {
     "name": "stderr",
     "output_type": "stream",
     "text": [
      "Child returned 0\n",
      "Child returned 0\n"
     ]
    },
    {
     "name": "stdout",
     "output_type": "stream",
     "text": [
      "rm -rf /shared/CSHL_data_processed/MD592/MD592_masks_alignedTo_MD592-IHC59-2015.08.26-00.06.25_MD592_2_0176 && mkdir -p /shared/CSHL_data_processed/MD592\n",
      "aws s3 cp --recursive s3://mousebrainatlas-data/CSHL_data_processed/MD592/MD592_masks_alignedTo_MD592-IHC59-2015.08.26-00.06.25_MD592_2_0176 /shared/CSHL_data_processed/MD592/MD592_masks_alignedTo_MD592-IHC59-2015.08.26-00.06.25_MD592_2_0176\n"
     ]
    },
    {
     "name": "stderr",
     "output_type": "stream",
     "text": [
      "Child returned 0\n",
      "Child returned 0\n"
     ]
    },
    {
     "name": "stdout",
     "output_type": "stream",
     "text": [
      "rm -rf /shared/CSHL_data_processed/MD592/MD592_masks_alignedTo_MD592-IHC59-2015.08.26-00.06.25_MD592_2_0176_cropped && mkdir -p /shared/CSHL_data_processed/MD592\n",
      "aws s3 cp --recursive s3://mousebrainatlas-data/CSHL_data_processed/MD592/MD592_masks_alignedTo_MD592-IHC59-2015.08.26-00.06.25_MD592_2_0176_cropped /shared/CSHL_data_processed/MD592/MD592_masks_alignedTo_MD592-IHC59-2015.08.26-00.06.25_MD592_2_0176_cropped\n"
     ]
    },
    {
     "name": "stderr",
     "output_type": "stream",
     "text": [
      "Child returned 0\n",
      "Child returned 0\n"
     ]
    },
    {
     "name": "stdout",
     "output_type": "stream",
     "text": [
      "rm -rf /shared/CSHL_data_processed/MD593/MD593_masks && mkdir -p /shared/CSHL_data_processed/MD593\n",
      "aws s3 cp --recursive s3://mousebrainatlas-data/CSHL_data_processed/MD593/MD593_masks /shared/CSHL_data_processed/MD593/MD593_masks\n"
     ]
    },
    {
     "name": "stderr",
     "output_type": "stream",
     "text": [
      "Child returned 0\n",
      "Child returned 0\n"
     ]
    },
    {
     "name": "stdout",
     "output_type": "stream",
     "text": [
      "rm -rf /shared/CSHL_data_processed/MD593/MD593_masks_alignedTo_MD593-IHC54-2015.08.25-17.40.32_MD593_2_0161 && mkdir -p /shared/CSHL_data_processed/MD593\n",
      "aws s3 cp --recursive s3://mousebrainatlas-data/CSHL_data_processed/MD593/MD593_masks_alignedTo_MD593-IHC54-2015.08.25-17.40.32_MD593_2_0161 /shared/CSHL_data_processed/MD593/MD593_masks_alignedTo_MD593-IHC54-2015.08.25-17.40.32_MD593_2_0161\n"
     ]
    },
    {
     "name": "stderr",
     "output_type": "stream",
     "text": [
      "Child returned 0\n",
      "Child returned 0\n"
     ]
    },
    {
     "name": "stdout",
     "output_type": "stream",
     "text": [
      "rm -rf /shared/CSHL_data_processed/MD593/MD593_masks_alignedTo_MD593-IHC54-2015.08.25-17.40.32_MD593_2_0161_cropped && mkdir -p /shared/CSHL_data_processed/MD593\n",
      "aws s3 cp --recursive s3://mousebrainatlas-data/CSHL_data_processed/MD593/MD593_masks_alignedTo_MD593-IHC54-2015.08.25-17.40.32_MD593_2_0161_cropped /shared/CSHL_data_processed/MD593/MD593_masks_alignedTo_MD593-IHC54-2015.08.25-17.40.32_MD593_2_0161_cropped\n"
     ]
    },
    {
     "name": "stderr",
     "output_type": "stream",
     "text": [
      "Child returned 0\n",
      "Child returned 0\n"
     ]
    },
    {
     "name": "stdout",
     "output_type": "stream",
     "text": [
      "rm -rf /shared/CSHL_data_processed/MD594/MD594_masks && mkdir -p /shared/CSHL_data_processed/MD594\n",
      "aws s3 cp --recursive s3://mousebrainatlas-data/CSHL_data_processed/MD594/MD594_masks /shared/CSHL_data_processed/MD594/MD594_masks\n"
     ]
    },
    {
     "name": "stderr",
     "output_type": "stream",
     "text": [
      "Child returned 0\n",
      "Child returned 0\n"
     ]
    },
    {
     "name": "stdout",
     "output_type": "stream",
     "text": [
      "rm -rf /shared/CSHL_data_processed/MD594/MD594_masks_alignedTo_MD594-IHC58-2015.08.26-18.48.50_MD594_1_0172 && mkdir -p /shared/CSHL_data_processed/MD594\n",
      "aws s3 cp --recursive s3://mousebrainatlas-data/CSHL_data_processed/MD594/MD594_masks_alignedTo_MD594-IHC58-2015.08.26-18.48.50_MD594_1_0172 /shared/CSHL_data_processed/MD594/MD594_masks_alignedTo_MD594-IHC58-2015.08.26-18.48.50_MD594_1_0172\n"
     ]
    },
    {
     "name": "stderr",
     "output_type": "stream",
     "text": [
      "Child returned 0\n",
      "Child returned 0\n"
     ]
    },
    {
     "name": "stdout",
     "output_type": "stream",
     "text": [
      "rm -rf /shared/CSHL_data_processed/MD594/MD594_masks_alignedTo_MD594-IHC58-2015.08.26-18.48.50_MD594_1_0172_cropped && mkdir -p /shared/CSHL_data_processed/MD594\n",
      "aws s3 cp --recursive s3://mousebrainatlas-data/CSHL_data_processed/MD594/MD594_masks_alignedTo_MD594-IHC58-2015.08.26-18.48.50_MD594_1_0172_cropped /shared/CSHL_data_processed/MD594/MD594_masks_alignedTo_MD594-IHC58-2015.08.26-18.48.50_MD594_1_0172_cropped\n"
     ]
    },
    {
     "name": "stderr",
     "output_type": "stream",
     "text": [
      "Child returned 0\n",
      "Child returned 0\n"
     ]
    },
    {
     "name": "stdout",
     "output_type": "stream",
     "text": [
      "rm -rf /shared/CSHL_data_processed/MD595/MD595_masks && mkdir -p /shared/CSHL_data_processed/MD595\n",
      "aws s3 cp --recursive s3://mousebrainatlas-data/CSHL_data_processed/MD595/MD595_masks /shared/CSHL_data_processed/MD595/MD595_masks\n"
     ]
    },
    {
     "name": "stderr",
     "output_type": "stream",
     "text": [
      "Child returned 0\n",
      "Child returned 0\n"
     ]
    },
    {
     "name": "stdout",
     "output_type": "stream",
     "text": [
      "rm -rf /shared/CSHL_data_processed/MD595/MD595_masks_alignedTo_MD595-IHC48-2015.09.15-18.38.44_MD595_1_0142 && mkdir -p /shared/CSHL_data_processed/MD595\n",
      "aws s3 cp --recursive s3://mousebrainatlas-data/CSHL_data_processed/MD595/MD595_masks_alignedTo_MD595-IHC48-2015.09.15-18.38.44_MD595_1_0142 /shared/CSHL_data_processed/MD595/MD595_masks_alignedTo_MD595-IHC48-2015.09.15-18.38.44_MD595_1_0142\n"
     ]
    },
    {
     "name": "stderr",
     "output_type": "stream",
     "text": [
      "Child returned 0\n",
      "Child returned 0\n"
     ]
    },
    {
     "name": "stdout",
     "output_type": "stream",
     "text": [
      "rm -rf /shared/CSHL_data_processed/MD595/MD595_masks_alignedTo_MD595-IHC48-2015.09.15-18.38.44_MD595_1_0142_cropped && mkdir -p /shared/CSHL_data_processed/MD595\n",
      "aws s3 cp --recursive s3://mousebrainatlas-data/CSHL_data_processed/MD595/MD595_masks_alignedTo_MD595-IHC48-2015.09.15-18.38.44_MD595_1_0142_cropped /shared/CSHL_data_processed/MD595/MD595_masks_alignedTo_MD595-IHC48-2015.09.15-18.38.44_MD595_1_0142_cropped\n"
     ]
    },
    {
     "name": "stderr",
     "output_type": "stream",
     "text": [
      "Child returned 0\n",
      "Child returned 0\n"
     ]
    },
    {
     "name": "stdout",
     "output_type": "stream",
     "text": [
      "rm -rf /shared/CSHL_data_processed/MD598/MD598_masks && mkdir -p /shared/CSHL_data_processed/MD598\n",
      "aws s3 cp --recursive s3://mousebrainatlas-data/CSHL_data_processed/MD598/MD598_masks /shared/CSHL_data_processed/MD598/MD598_masks\n"
     ]
    },
    {
     "name": "stderr",
     "output_type": "stream",
     "text": [
      "Child returned 0\n",
      "Child returned 0\n"
     ]
    },
    {
     "name": "stdout",
     "output_type": "stream",
     "text": [
      "rm -rf /shared/CSHL_data_processed/MD598/MD598_masks_alignedTo_MD598-N42-2015.09.29-19.26.12_MD598_2_0125 && mkdir -p /shared/CSHL_data_processed/MD598\n",
      "aws s3 cp --recursive s3://mousebrainatlas-data/CSHL_data_processed/MD598/MD598_masks_alignedTo_MD598-N42-2015.09.29-19.26.12_MD598_2_0125 /shared/CSHL_data_processed/MD598/MD598_masks_alignedTo_MD598-N42-2015.09.29-19.26.12_MD598_2_0125\n"
     ]
    },
    {
     "name": "stderr",
     "output_type": "stream",
     "text": [
      "Child returned 0\n",
      "Child returned 0\n"
     ]
    },
    {
     "name": "stdout",
     "output_type": "stream",
     "text": [
      "rm -rf /shared/CSHL_data_processed/MD598/MD598_masks_alignedTo_MD598-N42-2015.09.29-19.26.12_MD598_2_0125_cropped && mkdir -p /shared/CSHL_data_processed/MD598\n",
      "aws s3 cp --recursive s3://mousebrainatlas-data/CSHL_data_processed/MD598/MD598_masks_alignedTo_MD598-N42-2015.09.29-19.26.12_MD598_2_0125_cropped /shared/CSHL_data_processed/MD598/MD598_masks_alignedTo_MD598-N42-2015.09.29-19.26.12_MD598_2_0125_cropped\n"
     ]
    },
    {
     "name": "stderr",
     "output_type": "stream",
     "text": [
      "Child returned 0\n",
      "Child returned 0\n"
     ]
    },
    {
     "name": "stdout",
     "output_type": "stream",
     "text": [
      "rm -rf /shared/CSHL_data_processed/MD599/MD599_masks && mkdir -p /shared/CSHL_data_processed/MD599\n",
      "aws s3 cp --recursive s3://mousebrainatlas-data/CSHL_data_processed/MD599/MD599_masks /shared/CSHL_data_processed/MD599/MD599_masks\n"
     ]
    },
    {
     "name": "stderr",
     "output_type": "stream",
     "text": [
      "Child returned 0\n",
      "Child returned 0\n"
     ]
    },
    {
     "name": "stdout",
     "output_type": "stream",
     "text": [
      "rm -rf /shared/CSHL_data_processed/MD599/MD599_masks_alignedTo_MD599-IHC40-2015.10.03-06.04.31_MD599_2_0119 && mkdir -p /shared/CSHL_data_processed/MD599\n",
      "aws s3 cp --recursive s3://mousebrainatlas-data/CSHL_data_processed/MD599/MD599_masks_alignedTo_MD599-IHC40-2015.10.03-06.04.31_MD599_2_0119 /shared/CSHL_data_processed/MD599/MD599_masks_alignedTo_MD599-IHC40-2015.10.03-06.04.31_MD599_2_0119\n"
     ]
    },
    {
     "name": "stderr",
     "output_type": "stream",
     "text": [
      "Child returned 0\n",
      "Child returned 0\n"
     ]
    },
    {
     "name": "stdout",
     "output_type": "stream",
     "text": [
      "rm -rf /shared/CSHL_data_processed/MD599/MD599_masks_alignedTo_MD599-IHC40-2015.10.03-06.04.31_MD599_2_0119_cropped && mkdir -p /shared/CSHL_data_processed/MD599\n",
      "aws s3 cp --recursive s3://mousebrainatlas-data/CSHL_data_processed/MD599/MD599_masks_alignedTo_MD599-IHC40-2015.10.03-06.04.31_MD599_2_0119_cropped /shared/CSHL_data_processed/MD599/MD599_masks_alignedTo_MD599-IHC40-2015.10.03-06.04.31_MD599_2_0119_cropped\n"
     ]
    },
    {
     "name": "stderr",
     "output_type": "stream",
     "text": [
      "Child returned 0\n",
      "Child returned 0\n"
     ]
    },
    {
     "name": "stdout",
     "output_type": "stream",
     "text": [
      "rm -rf /shared/CSHL_data_processed/MD602/MD602_masks && mkdir -p /shared/CSHL_data_processed/MD602\n",
      "aws s3 cp --recursive s3://mousebrainatlas-data/CSHL_data_processed/MD602/MD602_masks /shared/CSHL_data_processed/MD602/MD602_masks\n"
     ]
    },
    {
     "name": "stderr",
     "output_type": "stream",
     "text": [
      "Child returned 0\n",
      "Child returned 0\n"
     ]
    },
    {
     "name": "stdout",
     "output_type": "stream",
     "text": [
      "rm -rf /shared/CSHL_data_processed/MD602/MD602_masks_alignedTo_MD602-N49-2015.12.01-18.41.46_MD602_2_0146 && mkdir -p /shared/CSHL_data_processed/MD602\n",
      "aws s3 cp --recursive s3://mousebrainatlas-data/CSHL_data_processed/MD602/MD602_masks_alignedTo_MD602-N49-2015.12.01-18.41.46_MD602_2_0146 /shared/CSHL_data_processed/MD602/MD602_masks_alignedTo_MD602-N49-2015.12.01-18.41.46_MD602_2_0146\n"
     ]
    },
    {
     "name": "stderr",
     "output_type": "stream",
     "text": [
      "Child returned 0\n",
      "Child returned 0\n"
     ]
    },
    {
     "name": "stdout",
     "output_type": "stream",
     "text": [
      "rm -rf /shared/CSHL_data_processed/MD602/MD602_masks_alignedTo_MD602-N49-2015.12.01-18.41.46_MD602_2_0146_cropped && mkdir -p /shared/CSHL_data_processed/MD602\n",
      "aws s3 cp --recursive s3://mousebrainatlas-data/CSHL_data_processed/MD602/MD602_masks_alignedTo_MD602-N49-2015.12.01-18.41.46_MD602_2_0146_cropped /shared/CSHL_data_processed/MD602/MD602_masks_alignedTo_MD602-N49-2015.12.01-18.41.46_MD602_2_0146_cropped\n"
     ]
    },
    {
     "name": "stderr",
     "output_type": "stream",
     "text": [
      "Child returned 0\n",
      "Child returned 0\n"
     ]
    },
    {
     "name": "stdout",
     "output_type": "stream",
     "text": [
      "rm -rf /shared/CSHL_data_processed/MD603/MD603_masks && mkdir -p /shared/CSHL_data_processed/MD603\n",
      "aws s3 cp --recursive s3://mousebrainatlas-data/CSHL_data_processed/MD603/MD603_masks /shared/CSHL_data_processed/MD603/MD603_masks\n"
     ]
    },
    {
     "name": "stderr",
     "output_type": "stream",
     "text": [
      "Child returned 0\n",
      "Child returned 0\n"
     ]
    },
    {
     "name": "stdout",
     "output_type": "stream",
     "text": [
      "rm -rf /shared/CSHL_data_processed/MD603/MD603_masks_alignedTo_MD603-N60-2015.12.03-23.57.05_MD603_2_0179 && mkdir -p /shared/CSHL_data_processed/MD603\n",
      "aws s3 cp --recursive s3://mousebrainatlas-data/CSHL_data_processed/MD603/MD603_masks_alignedTo_MD603-N60-2015.12.03-23.57.05_MD603_2_0179 /shared/CSHL_data_processed/MD603/MD603_masks_alignedTo_MD603-N60-2015.12.03-23.57.05_MD603_2_0179\n"
     ]
    },
    {
     "name": "stderr",
     "output_type": "stream",
     "text": [
      "Child returned 0\n",
      "Child returned 0\n"
     ]
    },
    {
     "name": "stdout",
     "output_type": "stream",
     "text": [
      "rm -rf /shared/CSHL_data_processed/MD603/MD603_masks_alignedTo_MD603-N60-2015.12.03-23.57.05_MD603_2_0179_cropped && mkdir -p /shared/CSHL_data_processed/MD603\n",
      "aws s3 cp --recursive s3://mousebrainatlas-data/CSHL_data_processed/MD603/MD603_masks_alignedTo_MD603-N60-2015.12.03-23.57.05_MD603_2_0179_cropped /shared/CSHL_data_processed/MD603/MD603_masks_alignedTo_MD603-N60-2015.12.03-23.57.05_MD603_2_0179_cropped\n"
     ]
    },
    {
     "name": "stderr",
     "output_type": "stream",
     "text": [
      "Child returned 0\n"
     ]
    }
   ],
   "source": [
    "for stack in all_nissl_stacks:\n",
    "# for stack in ['MD591']:\n",
    "    \n",
    "    tb_fmt = 'png'\n",
    "    \n",
    "#     transfer_data_synced(os.path.join('CSHL_data', stack), \n",
    "#                      from_hostname='s3raw', to_hostname='ec2', is_dir=True, include_only='*.'+tb_fmt)\n",
    "\n",
    "#     transfer_data_synced(os.path.join('CSHL_data_processed', stack, stack + '_sorted_filenames.txt'), \n",
    "#                          from_hostname='s3', to_hostname='ec2', is_dir=False)\n",
    "\n",
    "#     transfer_data_synced(os.path.join('CSHL_data_processed', stack, stack + '_anchor.txt'), \n",
    "#                          from_hostname='s3', to_hostname='ec2', is_dir=False)\n",
    "\n",
    "#     transfer_data_synced(os.path.join('CSHL_data_processed', stack), \n",
    "#                          from_hostname='s3', to_hostname='ec2', is_dir=True, include_only='*.pkl')\n",
    "\n",
    "#     transfer_data_synced(os.path.join('CSHL_data_processed', stack, stack + '_cropbox.txt'), \n",
    "#                          from_hostname='s3', to_hostname='ec2', is_dir=False)\n",
    "\n",
    "    anchor_fn = DataManager.load_anchor_filename(stack=stack)\n",
    "\n",
    "#     transfer_data_synced(os.path.join('CSHL_data_processed', stack, stack + '_thumbnail_alignedTo_' + anchor_fn),\n",
    "#                         from_hostname='s3',\n",
    "#                         to_hostname='ec2',\n",
    "#                         is_dir=True)\n",
    "\n",
    "#     transfer_data_synced(os.path.join('CSHL_data_processed', stack, stack + '_thumbnail_alignedTo_' + anchor_fn + '_cropped'),\n",
    "#                         from_hostname='s3',\n",
    "#                         to_hostname='ec2',\n",
    "#                         is_dir=True)\n",
    "    \n",
    "    transfer_data_synced(os.path.join('CSHL_data_processed', stack, stack + '_masks'),\n",
    "                        from_hostname='s3',\n",
    "                        to_hostname='ec2',\n",
    "                        is_dir=True)\n",
    "    \n",
    "    transfer_data_synced(os.path.join('CSHL_data_processed', stack, stack + '_masks_alignedTo_' + anchor_fn),\n",
    "                        from_hostname='s3',\n",
    "                        to_hostname='ec2',\n",
    "                        is_dir=True)\n",
    "\n",
    "    transfer_data_synced(os.path.join('CSHL_data_processed', stack, stack + '_masks_alignedTo_' + anchor_fn + '_cropped'),\n",
    "                        from_hostname='s3',\n",
    "                        to_hostname='ec2',\n",
    "                        is_dir=True)"
   ]
  },
  {
   "cell_type": "code",
   "execution_count": null,
   "metadata": {
    "collapsed": true
   },
   "outputs": [],
   "source": []
  }
 ],
 "metadata": {
  "kernelspec": {
   "display_name": "Python 2",
   "language": "python",
   "name": "python2"
  },
  "language_info": {
   "codemirror_mode": {
    "name": "ipython",
    "version": 2
   },
   "file_extension": ".py",
   "mimetype": "text/x-python",
   "name": "python",
   "nbconvert_exporter": "python",
   "pygments_lexer": "ipython2",
   "version": "2.7.12"
  }
 },
 "nbformat": 4,
 "nbformat_minor": 2
}
