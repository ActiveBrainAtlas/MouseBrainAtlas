{
 "cells": [
  {
   "cell_type": "code",
   "execution_count": 22,
   "metadata": {
    "collapsed": false
   },
   "outputs": [
    {
     "name": "stdout",
     "output_type": "stream",
     "text": [
      "Setting environment for Gordon\n",
      "The autoreload extension is already loaded. To reload it, use:\n",
      "  %reload_ext autoreload\n"
     ]
    }
   ],
   "source": [
    "%load_ext autoreload\n",
    "%autoreload 2\n",
    "\n",
    "import numpy as np\n",
    "\n",
    "import sys\n",
    "import os\n",
    "\n",
    "sys.path.append(os.environ['REPO_DIR'] + '/utilities')\n",
    "from utilities2015 import *\n",
    "from metadata import *\n",
    "from data_manager import *\n",
    "\n",
    "from learning_utilities import *\n",
    "\n",
    "import matplotlib.pyplot as plt\n",
    "%matplotlib inline\n",
    "\n",
    "from joblib import Parallel, delayed\n",
    "import time"
   ]
  },
  {
   "cell_type": "code",
   "execution_count": 23,
   "metadata": {
    "collapsed": true
   },
   "outputs": [],
   "source": [
    "stack = 'MD594'"
   ]
  },
  {
   "cell_type": "code",
   "execution_count": 24,
   "metadata": {
    "collapsed": false
   },
   "outputs": [
    {
     "name": "stderr",
     "output_type": "stream",
     "text": [
      "Loaded annotation /oasis/projects/nsf/csd395/yuncong/CSHL_labelings_v2/MD594/MD594_sagittal_downsample1_yuncong_08212016032024.pkl.\n"
     ]
    }
   ],
   "source": [
    "labelings, _, _ = DataManager.load_annotation_v2(stack=stack, username='yuncong', orientation='sagittal', downsample=1,\n",
    "                                                 annotation_rootdir=annotation_midbrainIncluded_v2_rootdir)"
   ]
  },
  {
   "cell_type": "code",
   "execution_count": 25,
   "metadata": {
    "collapsed": false
   },
   "outputs": [
    {
     "name": "stderr",
     "output_type": "stream",
     "text": [
      "Loaded annotation /oasis/projects/nsf/csd395/yuncong/CSHL_labelings_v2/MD594/MD594_sagittal_downsample32_yuncong_08182016084049.pkl.\n"
     ]
    }
   ],
   "source": [
    "labelings2, _, _ = DataManager.load_annotation_v2(stack=stack, username='yuncong', orientation='sagittal', downsample=32,\n",
    "                                                 annotation_rootdir=annotation_midbrainIncluded_v2_rootdir)"
   ]
  },
  {
   "cell_type": "code",
   "execution_count": 26,
   "metadata": {
    "collapsed": false
   },
   "outputs": [],
   "source": [
    "import uuid\n",
    "\n",
    "CONTOUR_IS_INTERPOLATED = 1\n",
    "\n",
    "contour_entries = {}\n",
    "\n",
    "for sec, contours in labelings['polygons'].iteritems():\n",
    "    for contour in contours:        \n",
    "        contour_id = str(uuid.uuid4().fields[-1])\n",
    "        \n",
    "        contour_entry = {'name': contour['label'],\n",
    "            'label_position': contour['labelPos'] if 'labelPos' in contour else None,\n",
    "           'side': contour['side'] if 'side' in contour else None,\n",
    "           'creator': 'yuncong',\n",
    "           'time_created': labelings['timestamp'],\n",
    "            'edits': [],\n",
    "#            'edits': [{'user': 'Lauren', 'timestamp': 2016}],\n",
    "            'vertices': contour['vertices'],\n",
    "            'downsample': 1,\n",
    "#            'vertices': {'downsample1': vertices},\n",
    "#             'vertices': Series([vertices], index=['downsample1']),\n",
    "           'flags': CONTOUR_IS_INTERPOLATED if 'type' in contour and contour['type'] == 'interpolated' else 0,\n",
    "            'section': sec,\n",
    "            'position': None,\n",
    "            'orientation': 'sagittal',\n",
    "            'parent_structure': [],\n",
    "            'id': contour_id}\n",
    "        \n",
    "#     contour_entries.append(contour_entry)\n",
    "        assert contour_id not in contour_entries\n",
    "        contour_entries[contour_id] = contour_entry\n",
    "    \n",
    "# pickle.dump(contour_entries, open('annotation_v3.pkl', 'w'))"
   ]
  },
  {
   "cell_type": "code",
   "execution_count": 27,
   "metadata": {
    "collapsed": true
   },
   "outputs": [],
   "source": [
    "for sec, contours in labelings2['polygons'].iteritems():\n",
    "    for contour in contours:        \n",
    "        contour_id = str(uuid.uuid4().fields[-1])\n",
    "        \n",
    "        contour_entry = {'name': contour['label'],\n",
    "            'label_position': contour['labelPos'] if 'labelPos' in contour else None,\n",
    "           'side': contour['side'] if 'side' in contour else None,\n",
    "           'creator': 'yuncong',\n",
    "           'time_created': labelings['timestamp'],\n",
    "            'edits': [],\n",
    "#            'edits': [{'user': 'Lauren', 'timestamp': 2016}],\n",
    "            'vertices': contour['vertices'],\n",
    "            'downsample': 32,\n",
    "#            'vertices': {'downsample1': vertices},\n",
    "#             'vertices': Series([vertices], index=['downsample1']),\n",
    "           'flags': CONTOUR_IS_INTERPOLATED if 'type' in contour and contour['type'] == 'interpolated' else 0,\n",
    "            'section': sec,\n",
    "            'position': None,\n",
    "            'orientation': 'sagittal',\n",
    "            'parent_structure': [],\n",
    "            'id': contour_id}\n",
    "        \n",
    "#     contour_entries.append(contour_entry)\n",
    "        assert contour_id not in contour_entries\n",
    "        contour_entries[contour_id] = contour_entry\n",
    "    \n",
    "# pickle.dump(contour_entries, open('annotation_v3.pkl', 'w'))"
   ]
  },
  {
   "cell_type": "code",
   "execution_count": 28,
   "metadata": {
    "collapsed": false
   },
   "outputs": [
    {
     "data": {
      "text/plain": [
       "1893"
      ]
     },
     "execution_count": 28,
     "metadata": {},
     "output_type": "execute_result"
    }
   ],
   "source": [
    "len(contour_entries)"
   ]
  },
  {
   "cell_type": "code",
   "execution_count": 29,
   "metadata": {
    "collapsed": true
   },
   "outputs": [],
   "source": [
    "from pandas import *"
   ]
  },
  {
   "cell_type": "code",
   "execution_count": 30,
   "metadata": {
    "collapsed": false
   },
   "outputs": [],
   "source": [
    "df = DataFrame(contour_entries).T"
   ]
  },
  {
   "cell_type": "code",
   "execution_count": 31,
   "metadata": {
    "collapsed": false
   },
   "outputs": [
    {
     "name": "stdout",
     "output_type": "stream",
     "text": [
      "rm: cannot remove `/home/yuncong/csd395/CSHL_labelings_v2/MD594_annotation_v3.h5': No such file or directory\r\n"
     ]
    }
   ],
   "source": [
    "! rm /home/yuncong/csd395/CSHL_labelings_v2/{stack}_annotation_v3.h5"
   ]
  },
  {
   "cell_type": "code",
   "execution_count": 32,
   "metadata": {
    "collapsed": false
   },
   "outputs": [],
   "source": [
    "df.to_hdf('/home/yuncong/csd395/CSHL_labelings_v2/%(stack)s_annotation_v3.h5' % {'stack': stack}, 'contours')"
   ]
  },
  {
   "cell_type": "code",
   "execution_count": null,
   "metadata": {
    "collapsed": true
   },
   "outputs": [],
   "source": []
  },
  {
   "cell_type": "code",
   "execution_count": null,
   "metadata": {
    "collapsed": true
   },
   "outputs": [],
   "source": [
    "df.to_hdf('/home/yuncong/csd395/CSHL_labelings_v2/%(stack)s_annotation_v3.h5' % {'stack': stack}, 'structures')"
   ]
  },
  {
   "cell_type": "code",
   "execution_count": null,
   "metadata": {
    "collapsed": false
   },
   "outputs": [],
   "source": [
    "contours = df[df['orientation'] == 'sagittal']"
   ]
  },
  {
   "cell_type": "code",
   "execution_count": null,
   "metadata": {
    "collapsed": false
   },
   "outputs": [],
   "source": [
    "grouped = contours.groupby('section')\n",
    "for sec, group in grouped:\n",
    "    for cid, contour in group.iterrows():\n",
    "        print cid, contour[]"
   ]
  },
  {
   "cell_type": "code",
   "execution_count": null,
   "metadata": {
    "collapsed": false
   },
   "outputs": [],
   "source": [
    "group.iloc[0].index"
   ]
  },
  {
   "cell_type": "code",
   "execution_count": null,
   "metadata": {
    "collapsed": false
   },
   "outputs": [],
   "source": [
    "for c_id, cc in c.iterrows():\n",
    "    print c_id, cc['section'], cc['vertices'].shape"
   ]
  },
  {
   "cell_type": "code",
   "execution_count": null,
   "metadata": {
    "collapsed": false
   },
   "outputs": [],
   "source": [
    "contours = read_hdf('/home/yuncong/csd395/CSHL_labelings_v2/%(stack)s_annotation_v3.h5' % {'stack': stack})"
   ]
  },
  {
   "cell_type": "code",
   "execution_count": null,
   "metadata": {
    "collapsed": true
   },
   "outputs": [],
   "source": []
  },
  {
   "cell_type": "code",
   "execution_count": null,
   "metadata": {
    "collapsed": true
   },
   "outputs": [],
   "source": [
    "from pandas import *"
   ]
  },
  {
   "cell_type": "code",
   "execution_count": null,
   "metadata": {
    "collapsed": true
   },
   "outputs": [],
   "source": [
    "def get_dtype(data):\n",
    "    \"\"\"Given a dict, generate a nested numpy dtype\"\"\"\n",
    "    fields = []\n",
    "    for (key, value) in data.items():\n",
    "        # make strings go to the next 64 character boundary\n",
    "        # pytables requires an 8 character boundary\n",
    "        if isinstance(value, unicode):\n",
    "            value += u' ' * (64 - (len(value) % 64))\n",
    "            # pytables does not support unicode\n",
    "            if isinstance(value, unicode):\n",
    "                value = value.encode('utf-8')\n",
    "        elif isinstance(value, str):\n",
    "            value += ' ' * (64 - (len(value) % 64))\n",
    "\n",
    "        if isinstance(value, dict):\n",
    "            fields.append((key, get_dtype(value)))\n",
    "        else:\n",
    "            value = np.array(value)\n",
    "            fields.append((key, '%s%s' % (value.shape, value.dtype)))\n",
    "    return np.dtype(fields)"
   ]
  },
  {
   "cell_type": "code",
   "execution_count": null,
   "metadata": {
    "collapsed": false
   },
   "outputs": [],
   "source": [
    "get_dtype(contour_entry)"
   ]
  },
  {
   "cell_type": "code",
   "execution_count": null,
   "metadata": {
    "collapsed": true
   },
   "outputs": [],
   "source": [
    "def _recurse_row(row, base, data):\n",
    "    for (key, value) in data.items():\n",
    "        new = base + key\n",
    "        if isinstance(value, dict):\n",
    "            _recurse_row(row, new + '/', value)\n",
    "        else:\n",
    "            row[new] = value"
   ]
  },
  {
   "cell_type": "code",
   "execution_count": null,
   "metadata": {
    "collapsed": true
   },
   "outputs": [],
   "source": [
    "def add_row(tbl, data):\n",
    "    \"\"\"Add a new row to a table based on the contents of a dict.\n",
    "    \"\"\"\n",
    "    row = tbl.row\n",
    "    for (key, value) in data.items():\n",
    "        if isinstance(value, dict):\n",
    "            _recurse_row(row, key + '/', value)\n",
    "        else:\n",
    "            row[key] = value\n",
    "    row.append()\n",
    "    tbl.flush()"
   ]
  },
  {
   "cell_type": "code",
   "execution_count": null,
   "metadata": {
    "collapsed": true
   },
   "outputs": [],
   "source": []
  },
  {
   "cell_type": "code",
   "execution_count": null,
   "metadata": {
    "collapsed": true
   },
   "outputs": [],
   "source": [
    "df = DataFrame(contour_entries)"
   ]
  },
  {
   "cell_type": "code",
   "execution_count": null,
   "metadata": {
    "collapsed": false
   },
   "outputs": [],
   "source": [
    "df.loc[0]"
   ]
  },
  {
   "cell_type": "code",
   "execution_count": null,
   "metadata": {
    "collapsed": false
   },
   "outputs": [],
   "source": [
    "fid = tables.open_file('annotation_v3.h5', 'w')"
   ]
  },
  {
   "cell_type": "code",
   "execution_count": null,
   "metadata": {
    "collapsed": false,
    "scrolled": true
   },
   "outputs": [],
   "source": [
    "fid.remove_node('/contours')"
   ]
  },
  {
   "cell_type": "code",
   "execution_count": null,
   "metadata": {
    "collapsed": false,
    "scrolled": true
   },
   "outputs": [],
   "source": [
    "tbl = fid.create_table('/', 'contours', get_dtype(contour_entry))"
   ]
  },
  {
   "cell_type": "code",
   "execution_count": null,
   "metadata": {
    "collapsed": true
   },
   "outputs": [],
   "source": [
    "for contour_entry in contour_entries:\n",
    "    add_row(tbl, contour_entry)"
   ]
  },
  {
   "cell_type": "code",
   "execution_count": null,
   "metadata": {
    "collapsed": false
   },
   "outputs": [],
   "source": [
    "row.dtype"
   ]
  },
  {
   "cell_type": "code",
   "execution_count": null,
   "metadata": {
    "collapsed": false
   },
   "outputs": [],
   "source": [
    "# https://gist.github.com/blink1073/feb3ac5920653ae222c2\n",
    "[dict(zip(tbl.dtype.names, row)) for row in tbl.read_where(('orientation == b\"sagittal\"'))]"
   ]
  },
  {
   "cell_type": "code",
   "execution_count": null,
   "metadata": {
    "collapsed": true
   },
   "outputs": [],
   "source": []
  },
  {
   "cell_type": "code",
   "execution_count": null,
   "metadata": {
    "collapsed": true
   },
   "outputs": [],
   "source": [
    "store = HDFStore('annotation_v3.h5')"
   ]
  },
  {
   "cell_type": "code",
   "execution_count": null,
   "metadata": {
    "collapsed": false
   },
   "outputs": [],
   "source": [
    "store.get_node('contours')"
   ]
  },
  {
   "cell_type": "code",
   "execution_count": null,
   "metadata": {
    "collapsed": true
   },
   "outputs": [],
   "source": [
    "store.close()"
   ]
  },
  {
   "cell_type": "code",
   "execution_count": null,
   "metadata": {
    "collapsed": false
   },
   "outputs": [],
   "source": [
    "add_row(store.get_node('contours'), contour_entry)"
   ]
  },
  {
   "cell_type": "code",
   "execution_count": null,
   "metadata": {
    "collapsed": false
   },
   "outputs": [],
   "source": [
    "store"
   ]
  },
  {
   "cell_type": "code",
   "execution_count": null,
   "metadata": {
    "collapsed": false
   },
   "outputs": [],
   "source": [
    "store.create_table_index('contours')"
   ]
  },
  {
   "cell_type": "code",
   "execution_count": null,
   "metadata": {
    "collapsed": false,
    "scrolled": true
   },
   "outputs": [],
   "source": [
    "store.put('contours', df, format='table')"
   ]
  },
  {
   "cell_type": "code",
   "execution_count": null,
   "metadata": {
    "collapsed": true
   },
   "outputs": [],
   "source": [
    "        \n",
    "    structure_entry = {'name': convert_name_to_unsided(name_s),\n",
    "       'side': extract_side_from_name(name_s),\n",
    "       'creator': 'yuncong',\n",
    "       'time_created': None,\n",
    "       'edits': [('Lauren', None)],\n",
    "       'contours': vertices,\n",
    "         'bbox': {'downsample1': (100,200,100,200,100,200), 'downsample32': None},\n",
    "       'volume': {'downsample1': np.random.randint(0, 1, (100,100,100)).astype(np.bool),\n",
    "                 'downsample32': None},\n",
    "       'flag': CONTOUR_IS_INTERPOLATED,\n",
    "        'section': sec}\n"
   ]
  },
  {
   "cell_type": "code",
   "execution_count": null,
   "metadata": {
    "collapsed": true
   },
   "outputs": [],
   "source": [
    "w1 = {'name': 'Tz',\n",
    "           'side': 'L',\n",
    "           'creator': 'yuncong',\n",
    "           'time_created': '2016',\n",
    "           'edits': [('Lauren', '20160112')],\n",
    "           'contours': [(4,2,76,8,9)],\n",
    "             'bbox': [{'downsample1': (100,200,100,200,100,200), 'downsample32': None}],\n",
    "           'volume': {'downsample32': None,\n",
    "                     'downsample1': np.random.randint(0, 1, (100,100,100)).astype(np.bool)},\n",
    "           'flag': CONTOUR_IS_INTERPOLATED\n",
    "    }"
   ]
  },
  {
   "cell_type": "code",
   "execution_count": null,
   "metadata": {
    "collapsed": false
   },
   "outputs": [],
   "source": [
    "w2 = {'name': 'Tz',\n",
    "           'side': 'R',\n",
    "           'creator': 'yuncong',\n",
    "           'time_created': '2016',\n",
    "           'edits': [('Lauren', '20160112')],\n",
    "           'contours': [(4,2,76,8,9)],\n",
    "             'bbox': [{'downsample1': (100,200,100,200,100,200), 'downsample32': None}],\n",
    "           'volume': {'downsample32': None,\n",
    "                     'downsample1': np.random.randint(0, 1, (100,100,100)).astype(np.bool)},\n",
    "           'flag': CONTOUR_IS_INTERPOLATED\n",
    "    }"
   ]
  },
  {
   "cell_type": "code",
   "execution_count": null,
   "metadata": {
    "collapsed": false
   },
   "outputs": [],
   "source": [
    "w = [w1] + [w2]"
   ]
  },
  {
   "cell_type": "code",
   "execution_count": null,
   "metadata": {
    "collapsed": false,
    "scrolled": true
   },
   "outputs": [],
   "source": [
    "q = DataFrame(w, index=range(len(w)))"
   ]
  },
  {
   "cell_type": "code",
   "execution_count": null,
   "metadata": {
    "collapsed": false,
    "scrolled": true
   },
   "outputs": [],
   "source": [
    "q.index"
   ]
  },
  {
   "cell_type": "code",
   "execution_count": null,
   "metadata": {
    "collapsed": true
   },
   "outputs": [],
   "source": [
    "store = HDFStore('annotation_v3.h5')"
   ]
  },
  {
   "cell_type": "code",
   "execution_count": null,
   "metadata": {
    "collapsed": true
   },
   "outputs": [],
   "source": [
    "store"
   ]
  },
  {
   "cell_type": "code",
   "execution_count": null,
   "metadata": {
    "collapsed": false,
    "scrolled": true
   },
   "outputs": [],
   "source": [
    "q.to_hdf('annotation_v3.h5', '3d_structures', dropna=True)"
   ]
  },
  {
   "cell_type": "code",
   "execution_count": null,
   "metadata": {
    "collapsed": true
   },
   "outputs": [],
   "source": [
    "q.to_hdf('annotation_v3.h5', '3d_structures', dropna=True)"
   ]
  },
  {
   "cell_type": "code",
   "execution_count": null,
   "metadata": {
    "collapsed": true
   },
   "outputs": [],
   "source": [
    "store"
   ]
  },
  {
   "cell_type": "code",
   "execution_count": null,
   "metadata": {
    "collapsed": false
   },
   "outputs": [],
   "source": [
    "d = pandas.read_hdf('annotation_v3.h5')"
   ]
  },
  {
   "cell_type": "code",
   "execution_count": null,
   "metadata": {
    "collapsed": true
   },
   "outputs": [],
   "source": []
  },
  {
   "cell_type": "code",
   "execution_count": null,
   "metadata": {
    "collapsed": true
   },
   "outputs": [],
   "source": []
  }
 ],
 "metadata": {
  "kernelspec": {
   "display_name": "Python 2",
   "language": "python",
   "name": "python2"
  },
  "language_info": {
   "codemirror_mode": {
    "name": "ipython",
    "version": 2
   },
   "file_extension": ".py",
   "mimetype": "text/x-python",
   "name": "python",
   "nbconvert_exporter": "python",
   "pygments_lexer": "ipython2",
   "version": "2.7.3"
  }
 },
 "nbformat": 4,
 "nbformat_minor": 0
}
