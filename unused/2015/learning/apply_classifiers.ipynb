{
 "cells": [
  {
   "cell_type": "code",
   "execution_count": 1,
   "metadata": {
    "collapsed": false
   },
   "outputs": [
    {
     "name": "stdout",
     "output_type": "stream",
     "text": [
      "Setting environment for Gordon\n"
     ]
    },
    {
     "name": "stderr",
     "output_type": "stream",
     "text": [
      "No vtk\n",
      "Cannot import mxnet.\n"
     ]
    }
   ],
   "source": [
    "%reload_ext autoreload\n",
    "%autoreload 2\n",
    "\n",
    "import os\n",
    "import argparse\n",
    "import sys\n",
    "import time\n",
    "\n",
    "sys.path.append(os.path.join(os.environ['REPO_DIR'], 'utilities'))\n",
    "from utilities2015 import *\n",
    "from metadata import *\n",
    "from data_manager import *\n",
    "\n",
    "import numpy as np\n",
    "\n",
    "from learning_utilities import *\n",
    "from sklearn.externals import joblib\n",
    "from multiprocess import Pool"
   ]
  },
  {
   "cell_type": "code",
   "execution_count": 3,
   "metadata": {
    "collapsed": false
   },
   "outputs": [],
   "source": [
    "stack = 'MD635'\n",
    "first_sec, last_sec = metadata_cache['section_limits'][stack]\n",
    "train_sample_scheme = 8"
   ]
  },
  {
   "cell_type": "code",
   "execution_count": 5,
   "metadata": {
    "collapsed": true
   },
   "outputs": [],
   "source": [
    "paired_structures = ['5N', '6N', '7N', '7n', 'Amb', 'LC', 'LRt', 'Pn', 'Tz', 'VLL', 'RMC', 'SNC', 'SNR', '3N', '4N',\n",
    "                    'Sp5I', 'Sp5O', 'Sp5C', 'PBG', '10N', 'VCA', 'VCP', 'DC']\n",
    "singular_structures = ['AP', '12N', 'RtTg', 'SC', 'IC']\n",
    "structures = paired_structures + singular_structures"
   ]
  },
  {
   "cell_type": "code",
   "execution_count": 6,
   "metadata": {
    "collapsed": false,
    "scrolled": true
   },
   "outputs": [
    {
     "name": "stderr",
     "output_type": "stream",
     "text": [
      "[Errno 2] No such file or directory: '/home/yuncong/csd395/CSHL_patch_features_Sat16ClassFinetuned_v2_classifiers_neurotraceBlue//classifiers/5N_clf_trainSampleScheme_8.dump'\n",
      "NTB detector for 5N is not trained.\n",
      "[Errno 2] No such file or directory: '/home/yuncong/csd395/CSHL_patch_features_Sat16ClassFinetuned_v2_classifiers_neurotraceBlue//classifiers/6N_clf_trainSampleScheme_8.dump'\n",
      "NTB detector for 6N is not trained.\n",
      "[Errno 2] No such file or directory: '/home/yuncong/csd395/CSHL_patch_features_Sat16ClassFinetuned_v2_classifiers_neurotraceBlue//classifiers/7N_clf_trainSampleScheme_8.dump'\n",
      "NTB detector for 7N is not trained.\n",
      "[Errno 2] No such file or directory: '/home/yuncong/csd395/CSHL_patch_features_Sat16ClassFinetuned_v2_classifiers_neurotraceBlue//classifiers/7n_clf_trainSampleScheme_8.dump'\n",
      "NTB detector for 7n is not trained.\n",
      "[Errno 2] No such file or directory: '/home/yuncong/csd395/CSHL_patch_features_Sat16ClassFinetuned_v2_classifiers_neurotraceBlue//classifiers/Amb_clf_trainSampleScheme_8.dump'\n",
      "NTB detector for Amb is not trained.\n",
      "[Errno 2] No such file or directory: '/home/yuncong/csd395/CSHL_patch_features_Sat16ClassFinetuned_v2_classifiers_neurotraceBlue//classifiers/LC_clf_trainSampleScheme_8.dump'\n",
      "NTB detector for LC is not trained.\n",
      "[Errno 2] No such file or directory: '/home/yuncong/csd395/CSHL_patch_features_Sat16ClassFinetuned_v2_classifiers_neurotraceBlue//classifiers/LRt_clf_trainSampleScheme_8.dump'\n",
      "NTB detector for LRt is not trained.\n",
      "[Errno 2] No such file or directory: '/home/yuncong/csd395/CSHL_patch_features_Sat16ClassFinetuned_v2_classifiers_neurotraceBlue//classifiers/Pn_clf_trainSampleScheme_8.dump'\n",
      "NTB detector for Pn is not trained.\n",
      "[Errno 2] No such file or directory: '/home/yuncong/csd395/CSHL_patch_features_Sat16ClassFinetuned_v2_classifiers_neurotraceBlue//classifiers/Tz_clf_trainSampleScheme_8.dump'\n",
      "NTB detector for Tz is not trained.\n",
      "[Errno 2] No such file or directory: '/home/yuncong/csd395/CSHL_patch_features_Sat16ClassFinetuned_v2_classifiers_neurotraceBlue//classifiers/VLL_clf_trainSampleScheme_8.dump'\n",
      "NTB detector for VLL is not trained.\n",
      "[Errno 2] No such file or directory: '/home/yuncong/csd395/CSHL_patch_features_Sat16ClassFinetuned_v2_classifiers_neurotraceBlue//classifiers/RMC_clf_trainSampleScheme_8.dump'\n",
      "NTB detector for RMC is not trained.\n",
      "[Errno 2] No such file or directory: '/home/yuncong/csd395/CSHL_patch_features_Sat16ClassFinetuned_v2_classifiers_neurotraceBlue//classifiers/SNC_clf_trainSampleScheme_8.dump'\n",
      "NTB detector for SNC is not trained.\n",
      "[Errno 2] No such file or directory: '/home/yuncong/csd395/CSHL_patch_features_Sat16ClassFinetuned_v2_classifiers_neurotraceBlue//classifiers/SNR_clf_trainSampleScheme_8.dump'\n",
      "NTB detector for SNR is not trained.\n",
      "[Errno 2] No such file or directory: '/home/yuncong/csd395/CSHL_patch_features_Sat16ClassFinetuned_v2_classifiers_neurotraceBlue//classifiers/3N_clf_trainSampleScheme_8.dump'\n",
      "NTB detector for 3N is not trained.\n",
      "[Errno 2] No such file or directory: '/home/yuncong/csd395/CSHL_patch_features_Sat16ClassFinetuned_v2_classifiers_neurotraceBlue//classifiers/4N_clf_trainSampleScheme_8.dump'\n",
      "NTB detector for 4N is not trained.\n",
      "[Errno 2] No such file or directory: '/home/yuncong/csd395/CSHL_patch_features_Sat16ClassFinetuned_v2_classifiers_neurotraceBlue//classifiers/Sp5I_clf_trainSampleScheme_8.dump'\n",
      "NTB detector for Sp5I is not trained.\n",
      "[Errno 2] No such file or directory: '/home/yuncong/csd395/CSHL_patch_features_Sat16ClassFinetuned_v2_classifiers_neurotraceBlue//classifiers/Sp5O_clf_trainSampleScheme_8.dump'\n",
      "NTB detector for Sp5O is not trained.\n",
      "[Errno 2] No such file or directory: '/home/yuncong/csd395/CSHL_patch_features_Sat16ClassFinetuned_v2_classifiers_neurotraceBlue//classifiers/Sp5C_clf_trainSampleScheme_8.dump'\n",
      "NTB detector for Sp5C is not trained.\n",
      "[Errno 2] No such file or directory: '/home/yuncong/csd395/CSHL_patch_features_Sat16ClassFinetuned_v2_classifiers_neurotraceBlue//classifiers/PBG_clf_trainSampleScheme_8.dump'\n",
      "NTB detector for PBG is not trained.\n",
      "[Errno 2] No such file or directory: '/home/yuncong/csd395/CSHL_patch_features_Sat16ClassFinetuned_v2_classifiers_neurotraceBlue//classifiers/10N_clf_trainSampleScheme_8.dump'\n",
      "NTB detector for 10N is not trained.\n",
      "[Errno 2] No such file or directory: '/home/yuncong/csd395/CSHL_patch_features_Sat16ClassFinetuned_v2_classifiers_neurotraceBlue//classifiers/VCA_clf_trainSampleScheme_8.dump'\n",
      "NTB detector for VCA is not trained.\n",
      "[Errno 2] No such file or directory: '/home/yuncong/csd395/CSHL_patch_features_Sat16ClassFinetuned_v2_classifiers_neurotraceBlue//classifiers/VCP_clf_trainSampleScheme_8.dump'\n",
      "NTB detector for VCP is not trained.\n",
      "[Errno 2] No such file or directory: '/home/yuncong/csd395/CSHL_patch_features_Sat16ClassFinetuned_v2_classifiers_neurotraceBlue//classifiers/DC_clf_trainSampleScheme_8.dump'\n",
      "NTB detector for DC is not trained.\n",
      "[Errno 2] No such file or directory: '/home/yuncong/csd395/CSHL_patch_features_Sat16ClassFinetuned_v2_classifiers_neurotraceBlue//classifiers/AP_clf_trainSampleScheme_8.dump'\n",
      "NTB detector for AP is not trained.\n",
      "[Errno 2] No such file or directory: '/home/yuncong/csd395/CSHL_patch_features_Sat16ClassFinetuned_v2_classifiers_neurotraceBlue//classifiers/12N_clf_trainSampleScheme_8.dump'\n",
      "NTB detector for 12N is not trained.\n",
      "[Errno 2] No such file or directory: '/home/yuncong/csd395/CSHL_patch_features_Sat16ClassFinetuned_v2_classifiers_neurotraceBlue//classifiers/RtTg_clf_trainSampleScheme_8.dump'\n",
      "NTB detector for RtTg is not trained.\n",
      "[Errno 2] No such file or directory: '/home/yuncong/csd395/CSHL_patch_features_Sat16ClassFinetuned_v2_classifiers_neurotraceBlue//classifiers/SC_clf_trainSampleScheme_8.dump'\n",
      "NTB detector for SC is not trained.\n",
      "[Errno 2] No such file or directory: '/home/yuncong/csd395/CSHL_patch_features_Sat16ClassFinetuned_v2_classifiers_neurotraceBlue//classifiers/IC_clf_trainSampleScheme_8.dump'\n",
      "NTB detector for IC is not trained.\n"
     ]
    }
   ],
   "source": [
    "clf_ntb_allClasses = {}\n",
    "for label in structures:\n",
    "    try:\n",
    "        clf_ntb_allClasses[label] = joblib.load(DataManager.get_classifier_neurotraceBlue_filepath(label=label, train_sample_scheme=train_sample_scheme))\n",
    "    except Exception as e:\n",
    "        sys.stderr.write('%s\\n' % e)\n",
    "        sys.stderr.write('NTB detector for %s is not trained.\\n' % label)\n",
    "\n",
    "clf_nissl_allClasses = {}\n",
    "for label in structures:\n",
    "    try:\n",
    "        clf_nissl_allClasses[label] = joblib.load(DataManager.get_classifier_filepath(label=label, train_sample_scheme=train_sample_scheme))\n",
    "    except Exception as e:\n",
    "        sys.stderr.write('%s\\n' % e)\n",
    "        sys.stderr.write('Nissl detector for %s is not trained.\\n' % label)"
   ]
  },
  {
   "cell_type": "code",
   "execution_count": 7,
   "metadata": {
    "collapsed": false
   },
   "outputs": [],
   "source": [
    "structures = set(clf_ntb_allClasses.keys()) | set(clf_nissl_allClasses.keys())"
   ]
  },
  {
   "cell_type": "code",
   "execution_count": 26,
   "metadata": {
    "collapsed": true
   },
   "outputs": [],
   "source": [
    "def clf_predict(stack, sec):\n",
    "    \n",
    "    if is_invalid(metadata_cache['sections_to_filenames'][stack][sec]):\n",
    "        return\n",
    "\n",
    "    try:\n",
    "        features = DataManager.load_dnn_features(stack=stack, section=sec)\n",
    "    except Exception as e:\n",
    "        sys.stderr.write(e.message + '\\n')\n",
    "        return\n",
    "\n",
    "    for label in structures:\n",
    "        \n",
    "#         if stack in all_ntb_stacks:\n",
    "#             clf = clf_ntb_allClasses[label]\n",
    "#         elif stack in all_nissl_stacks:\n",
    "#             clf = clf_nissl_allClasses[label]\n",
    "#         else:\n",
    "#             raise Exception('Not implemented.')\n",
    "\n",
    "        clf = clf_nissl_allClasses[label]\n",
    "        \n",
    "        probs = clf.predict_proba(features)[:, clf.classes_.tolist().index(1.)]\n",
    "        \n",
    "        output_fn = DataManager.get_sparse_scores_filepath(stack=stack, sec=sec, label=label, train_sample_scheme=train_sample_scheme)\n",
    "        create_if_not_exists(os.path.dirname(output_fn))\n",
    "                \n",
    "        bp.pack_ndarray_file(probs, output_fn)"
   ]
  },
  {
   "cell_type": "code",
   "execution_count": 10,
   "metadata": {
    "collapsed": false
   },
   "outputs": [
    {
     "name": "stderr",
     "output_type": "stream",
     "text": [
      "Classifier predict: 1.42\n"
     ]
    }
   ],
   "source": [
    "t = time.time()\n",
    "\n",
    "pool = Pool(8)\n",
    "pool.map(lambda sec: clf_predict(stack=stack, sec=sec), range(200, 201))\n",
    "pool.close()\n",
    "pool.join()\n",
    "\n",
    "sys.stderr.write('Classifier predict: %.2f\\n' % (time.time()-t)) # 35 s / 10 section; 863 seconds /stack"
   ]
  },
  {
   "cell_type": "code",
   "execution_count": null,
   "metadata": {
    "collapsed": true
   },
   "outputs": [],
   "source": []
  }
 ],
 "metadata": {
  "kernelspec": {
   "display_name": "Python 2",
   "language": "python",
   "name": "python2"
  },
  "language_info": {
   "codemirror_mode": {
    "name": "ipython",
    "version": 2
   },
   "file_extension": ".py",
   "mimetype": "text/x-python",
   "name": "python",
   "nbconvert_exporter": "python",
   "pygments_lexer": "ipython2",
   "version": "2.7.3"
  }
 },
 "nbformat": 4,
 "nbformat_minor": 1
}
