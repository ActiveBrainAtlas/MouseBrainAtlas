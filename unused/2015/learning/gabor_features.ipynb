{
 "cells": [
  {
   "cell_type": "code",
   "execution_count": null,
   "metadata": {
    "collapsed": true
   },
   "outputs": [],
   "source": [
    "dm._generate_kernels()\n",
    "\n",
    "\n",
    "xmin = args.xmin\n",
    "xmax = args.xmax\n",
    "ymin = args.ymin\n",
    "ymax = args.ymax\n",
    "\n",
    "def convolve_per_proc(i):\n",
    "\n",
    "    pf = fftconvolve(dm.image[ymin-dm.max_kern_size : ymax+1+dm.max_kern_size, \n",
    "                              xmin-dm.max_kern_size : xmax+1+dm.max_kern_size], \n",
    "                     dm.kernels[i], 'same').astype(np.half)\n",
    "\n",
    "    sys.stderr.write('filtered kernel %d\\n'%i)\n",
    "\n",
    "    return pf[dm.max_kern_size:-dm.max_kern_size, dm.max_kern_size:-dm.max_kern_size].flatten()\n",
    "\n",
    "t = time.time()\n",
    "\n",
    "mask = dm.mask[ymin:ymax+1, xmin:xmax+1]\n",
    "\n",
    "perc = np.count_nonzero(mask) / float(mask.size)\n",
    "sys.stderr.write('masked pixels = %.2f, ' % perc)\n",
    "\n",
    "if perc == 0:\n",
    "    sys.exit(0)\n",
    "\n",
    "# sys.stderr.write('gabor filtering test ...')\n",
    "\n",
    "# f = convolve_per_proc(88)\n",
    "\n",
    "# sys.stderr.write('done in %f seconds\\n' % (time.time() - t))\n",
    "\n",
    "# t = time.time()\n",
    "\n",
    "sys.stderr.write('gabor filtering ...')\n",
    "\n",
    "# features = np.empty((dm.n_kernel, (ymax+1-ymin)*(xmax+1-xmin)), np.half)\n",
    "# for i in range(dm.n_kernel):\n",
    "#     features[i] = convolve_per_proc(i)\n",
    "# features = features.T\n",
    "\n",
    "features = Parallel(n_jobs=16, backend='threading')(delayed(convolve_per_proc)(i) for i in range(dm.n_kernel))\n",
    "# features = Parallel(n_jobs=16)(delayed(convolve_per_proc)(i) for i in range(dm.n_kernel))\n",
    "# features = Parallel(n_jobs=4)(delayed(convolve_per_proc)(i) for i in range(dm.n_kernel))\n",
    "# features = Parallel(n_jobs=10)(delayed(convolve_per_proc)(i) for i in range(88,98))\n",
    "# features = Parallel(n_jobs=16, backend='threading')(delayed(convolve_per_proc)(i) for i in range(88,96)+range(88,96))\n",
    "\n",
    "sys.stderr.write('done in %f seconds\\n' % (time.time() - t))\n",
    "\n",
    "# sys.exit(0)\n",
    "\n",
    "t = time.time()\n",
    "sys.stderr.write('transpose ...')\n",
    "\n",
    "features = np.asarray(features).T  # n x 99\n",
    "\n",
    "sys.stderr.write('done in %f seconds\\n' % (time.time() - t))\n"
   ]
  }
 ],
 "metadata": {
  "kernelspec": {
   "display_name": "Python 2",
   "language": "python",
   "name": "python2"
  },
  "language_info": {
   "codemirror_mode": {
    "name": "ipython",
    "version": 2
   },
   "file_extension": ".py",
   "mimetype": "text/x-python",
   "name": "python",
   "nbconvert_exporter": "python",
   "pygments_lexer": "ipython2",
   "version": "2.7.3"
  }
 },
 "nbformat": 4,
 "nbformat_minor": 0
}
