{
 "cells": [
  {
   "cell_type": "code",
   "execution_count": 1,
   "metadata": {
    "collapsed": false
   },
   "outputs": [
    {
     "name": "stdout",
     "output_type": "stream",
     "text": [
      "Setting environment for Gordon\n"
     ]
    },
    {
     "name": "stderr",
     "output_type": "stream",
     "text": [
      "No vtk\n",
      "Cannot import mxnet.\n"
     ]
    }
   ],
   "source": [
    "%reload_ext autoreload\n",
    "%autoreload 2\n",
    "\n",
    "import os\n",
    "import sys\n",
    "import time\n",
    "\n",
    "sys.path.append(os.path.join(os.environ['REPO_DIR'], 'utilities'))\n",
    "from utilities2015 import *\n",
    "from metadata import *\n",
    "from data_manager import *\n",
    "\n",
    "# from matplotlib.path import Path\n",
    "# %matplotlib inline\n",
    "\n",
    "import numpy as np\n",
    "\n",
    "from learning_utilities import *"
   ]
  },
  {
   "cell_type": "code",
   "execution_count": 2,
   "metadata": {
    "collapsed": true
   },
   "outputs": [],
   "source": [
    "from sklearn.externals import joblib\n",
    "\n",
    "from sklearn.linear_model import LogisticRegression\n",
    "from sklearn.svm import LinearSVC, SVC\n",
    "from sklearn.calibration import CalibratedClassifierCV\n",
    "from sklearn.ensemble import GradientBoostingClassifier \n",
    "\n",
    "sys.path.append('/home/yuncong/csd395/xgboost/python-package')\n",
    "from xgboost.sklearn import XGBClassifier"
   ]
  },
  {
   "cell_type": "code",
   "execution_count": 3,
   "metadata": {
    "collapsed": true
   },
   "outputs": [],
   "source": [
    "paired_structures = ['5N', '6N', '7N', '7n', 'Amb', 'LC', 'LRt', 'Pn', 'Tz', 'VLL', 'RMC', 'SNC', 'SNR', '3N', '4N',\n",
    "                    'Sp5I', 'Sp5O', 'Sp5C', 'PBG', '10N', 'VCA', 'VCP', 'DC']\n",
    "singular_structures = ['AP', '12N', 'RtTg', 'SC', 'IC']\n",
    "structures = paired_structures + singular_structures"
   ]
  },
  {
   "cell_type": "code",
   "execution_count": 4,
   "metadata": {
    "collapsed": false
   },
   "outputs": [],
   "source": [
    "# structures = ['7N', '12N']\n",
    "# labels_to_sample = structures + map(convert_to_surround_name, structures)\n",
    "# labels_to_sample = structures + [convert_to_surround_name(l, surr_l) for l in structures for surr_l in structures + ['noclass'] if surr_l != l]\n",
    "# labels_to_sample = structures + [l + '_negative' for l in structures]\n",
    "labels_to_sample = structures + [l + '_negative' for l in structures] + \\\n",
    "[convert_to_surround_name(l, margin=m, suffix=surr_l) for m in [100,200,300,400,500,600,700,800,900,1000]\n",
    " for l in structures for surr_l in structures + ['noclass'] if surr_l != l] + \\\n",
    "['noclass']"
   ]
  },
  {
   "cell_type": "markdown",
   "metadata": {},
   "source": [
    "# Training"
   ]
  },
  {
   "cell_type": "code",
   "execution_count": 5,
   "metadata": {
    "collapsed": false
   },
   "outputs": [
    {
     "name": "stderr",
     "output_type": "stream",
     "text": [
      "Cell is empty.\n",
      "Cell is empty.\n",
      "Cell is empty.\n",
      "Cell is empty.\n",
      "Cell is empty.\n",
      "Cell is empty.\n",
      "Cell is empty.\n",
      "Cell is empty.\n",
      "Cell is empty.\n",
      "Cell is empty.\n"
     ]
    }
   ],
   "source": [
    "# Extract training features - random subset\n",
    "\n",
    "training_addresses = defaultdict(list)\n",
    "\n",
    "labels = set([])\n",
    "\n",
    "for stack in all_annotated_nissl_stacks:\n",
    "# for stack in ['MD635']:\n",
    "    annotation_grid_indices_fn = os.path.join(ANNOTATION_ROOTDIR, stack, stack + '_annotation_grid_indices.h5')\n",
    "    label_gridIndices = read_hdf(annotation_grid_indices_fn, 'grid_indices')\n",
    "    \n",
    "    labels_this_stack = set(label_gridIndices.index) & set(labels_to_sample)\n",
    "    labels = labels | labels_this_stack\n",
    "    \n",
    "    training_addresses_sec_idx = sample_locations(label_gridIndices, labels_this_stack, \n",
    "                                                  num_samples_per_landmark=1000)\n",
    "    \n",
    "    for name, addresses in training_addresses_sec_idx.iteritems():\n",
    "        training_addresses[name] += [(stack, ) + addr for addr in addresses]\n",
    "        \n",
    "training_addresses.default_factory = None\n",
    "        \n",
    "# sampled_addresses = {name_u: np.array(addresses) for name_u, addresses in sampled_addresses.iteritems()}"
   ]
  },
  {
   "cell_type": "code",
   "execution_count": 8,
   "metadata": {
    "collapsed": true
   },
   "outputs": [],
   "source": [
    "# # Optional, if no need to sample training patches\n",
    "\n",
    "# labels = set([])\n",
    "\n",
    "# # for stack in ['MD589', 'MD585', 'MD594']:\n",
    "# for stack in ['MD635']:\n",
    "#     annotation_grid_indices_fn = '/home/yuncong/csd395/CSHL_labelings_v3/%(stack)s/%(stack)s_annotation_grid_indices.h5' % dict(stack=stack)\n",
    "#     label_gridIndices = read_hdf(annotation_grid_indices_fn, 'grid_indices')\n",
    "    \n",
    "#     labels_this_stack = set(label_gridIndices.index) & set(labels_to_sample)\n",
    "#     labels = labels | labels_this_stack"
   ]
  },
  {
   "cell_type": "code",
   "execution_count": 6,
   "metadata": {
    "collapsed": true
   },
   "outputs": [],
   "source": [
    "existing_names = set([convert_to_original_name(l) for l in labels]) - {'noclass'}"
   ]
  },
  {
   "cell_type": "code",
   "execution_count": null,
   "metadata": {
    "collapsed": false,
    "scrolled": true
   },
   "outputs": [],
   "source": [
    "training_features = apply_function_to_dict(addresses_to_features, training_addresses)"
   ]
  },
  {
   "cell_type": "code",
   "execution_count": 21,
   "metadata": {
    "collapsed": false
   },
   "outputs": [],
   "source": [
    "# Remove addresses whose features are None\n",
    "for name in labels:\n",
    "    valid = [(ftr, addr) for ftr, addr in zip(training_features[name], training_addresses[name])\n",
    "                if ftr is not None]\n",
    "    res = zip(*valid)\n",
    "    training_features[name] = np.array(res[0])\n",
    "    training_addresses[name] = res[1]"
   ]
  },
  {
   "cell_type": "code",
   "execution_count": 22,
   "metadata": {
    "collapsed": false,
    "scrolled": true
   },
   "outputs": [
    {
     "name": "stdout",
     "output_type": "stream",
     "text": [
      "10N 2609\n",
      "10N_negative 2980\n",
      "10N_surround_1000_12N 3000\n",
      "10N_surround_1000_AP 886\n",
      "10N_surround_1000_noclass 3000\n",
      "10N_surround_100_12N 10\n",
      "10N_surround_100_noclass 3000\n",
      "10N_surround_200_12N 1878\n",
      "10N_surround_200_noclass 3000\n",
      "10N_surround_300_12N 3000\n",
      "10N_surround_300_AP 13\n",
      "10N_surround_300_noclass 3000\n",
      "10N_surround_400_12N 3000\n",
      "10N_surround_400_AP 127\n",
      "10N_surround_400_noclass 3000\n",
      "10N_surround_500_12N 3000\n",
      "10N_surround_500_AP 367\n",
      "10N_surround_500_noclass 3000\n",
      "10N_surround_600_12N 3000\n",
      "10N_surround_600_AP 554\n",
      "10N_surround_600_noclass 3000\n",
      "10N_surround_700_12N 3000\n",
      "10N_surround_700_AP 673\n",
      "10N_surround_700_noclass 3000\n",
      "10N_surround_800_12N 3000\n",
      "10N_surround_800_AP 771\n",
      "10N_surround_800_noclass 3000\n",
      "10N_surround_900_12N 3000\n",
      "10N_surround_900_AP 833\n",
      "10N_surround_900_noclass 3000\n",
      "12N 3000\n",
      "12N_negative 2978\n",
      "12N_surround_1000_10N 2470\n",
      "12N_surround_1000_AP 3000\n",
      "12N_surround_1000_noclass 3000\n",
      "12N_surround_100_10N 8\n",
      "12N_surround_100_noclass 3000\n",
      "12N_surround_200_10N 1586\n",
      "12N_surround_200_noclass 3000\n",
      "12N_surround_300_10N 2424\n",
      "12N_surround_300_noclass 3000\n",
      "12N_surround_400_10N 2447\n",
      "12N_surround_400_AP 1\n",
      "12N_surround_400_noclass 3000\n",
      "12N_surround_500_10N 2460\n",
      "12N_surround_500_AP 161\n",
      "12N_surround_500_noclass 3000\n",
      "12N_surround_600_10N 2466\n",
      "12N_surround_600_AP 826\n",
      "12N_surround_600_noclass 3000\n",
      "12N_surround_700_10N 2467\n",
      "12N_surround_700_AP 1825\n",
      "12N_surround_700_noclass 3000\n",
      "12N_surround_800_10N 2469\n",
      "12N_surround_800_AP 2629\n",
      "12N_surround_800_noclass 3000\n",
      "12N_surround_900_10N 2470\n",
      "12N_surround_900_AP 2968\n",
      "12N_surround_900_noclass 3000\n",
      "3N 3000\n",
      "3N_negative 2985\n",
      "3N_surround_1000_4N 308\n",
      "3N_surround_1000_RMC 227\n",
      "3N_surround_1000_noclass 3000\n",
      "3N_surround_100_noclass 3000\n",
      "3N_surround_200_4N 11\n",
      "3N_surround_200_noclass 3000\n",
      "3N_surround_300_4N 100\n",
      "3N_surround_300_noclass 3000\n",
      "3N_surround_400_4N 185\n",
      "3N_surround_400_noclass 3000\n",
      "3N_surround_500_4N 246\n",
      "3N_surround_500_noclass 3000\n",
      "3N_surround_600_4N 288\n",
      "3N_surround_600_RMC 2\n",
      "3N_surround_600_noclass 3000\n",
      "3N_surround_700_4N 303\n",
      "3N_surround_700_RMC 17\n",
      "3N_surround_700_noclass 3000\n",
      "3N_surround_800_4N 308\n",
      "3N_surround_800_RMC 42\n",
      "3N_surround_800_noclass 3000\n",
      "3N_surround_900_4N 308\n",
      "3N_surround_900_RMC 113\n",
      "3N_surround_900_noclass 3000\n",
      "4N 474\n",
      "4N_negative 2977\n",
      "4N_surround_1000_3N 2312\n",
      "4N_surround_1000_noclass 3000\n",
      "4N_surround_100_noclass 1410\n",
      "4N_surround_200_3N 16\n",
      "4N_surround_200_noclass 2795\n",
      "4N_surround_300_3N 148\n",
      "4N_surround_300_noclass 3000\n",
      "4N_surround_400_3N 394\n",
      "4N_surround_400_noclass 3000\n",
      "4N_surround_500_3N 720\n",
      "4N_surround_500_noclass 3000\n",
      "4N_surround_600_3N 1087\n",
      "4N_surround_600_noclass 3000\n",
      "4N_surround_700_3N 1463\n",
      "4N_surround_700_noclass 3000\n",
      "4N_surround_800_3N 1822\n",
      "4N_surround_800_noclass 3000\n",
      "4N_surround_900_3N 2138\n",
      "4N_surround_900_noclass 3000\n",
      "5N 3000\n",
      "5N_negative 2977\n",
      "5N_surround_1000_7n 3000\n",
      "5N_surround_1000_VLL 395\n",
      "5N_surround_1000_noclass 3000\n",
      "5N_surround_100_noclass 3000\n",
      "5N_surround_200_noclass 3000\n",
      "5N_surround_300_noclass 3000\n",
      "5N_surround_400_7n 2\n",
      "5N_surround_400_noclass 3000\n",
      "5N_surround_500_7n 25\n",
      "5N_surround_500_noclass 3000\n",
      "5N_surround_600_7n 271\n",
      "5N_surround_600_noclass 3000\n",
      "5N_surround_700_7n 1101\n",
      "5N_surround_700_VLL 15\n",
      "5N_surround_700_noclass 3000\n",
      "5N_surround_800_7n 2575\n",
      "5N_surround_800_VLL 59\n",
      "5N_surround_800_noclass 3000\n",
      "5N_surround_900_7n 3000\n",
      "5N_surround_900_VLL 163\n",
      "5N_surround_900_noclass 3000\n",
      "6N 862\n",
      "6N_negative 2987\n",
      "6N_surround_1000_7n 353\n",
      "6N_surround_1000_noclass 3000\n",
      "6N_surround_100_7n 24\n",
      "6N_surround_100_noclass 1821\n",
      "6N_surround_200_7n 149\n",
      "6N_surround_200_noclass 2452\n",
      "6N_surround_300_7n 270\n",
      "6N_surround_300_noclass 2780\n",
      "6N_surround_400_7n 345\n",
      "6N_surround_400_noclass 3000\n",
      "6N_surround_500_7n 353\n",
      "6N_surround_500_noclass 3000\n",
      "6N_surround_600_7n 353\n",
      "6N_surround_600_noclass 3000\n",
      "6N_surround_700_7n 353\n",
      "6N_surround_700_noclass 3000\n",
      "6N_surround_800_7n 353\n",
      "6N_surround_800_noclass 3000\n",
      "6N_surround_900_7n 353\n",
      "6N_surround_900_noclass 3000\n",
      "7N 3000\n",
      "7N_negative 2975\n",
      "7N_surround_1000_7n 3000\n",
      "7N_surround_1000_Amb 1010\n",
      "7N_surround_1000_noclass 3000\n",
      "7N_surround_100_noclass 3000\n",
      "7N_surround_200_noclass 3000\n",
      "7N_surround_300_Amb 1\n",
      "7N_surround_300_noclass 3000\n",
      "7N_surround_400_Amb 11\n",
      "7N_surround_400_noclass 3000\n",
      "7N_surround_500_Amb 38\n",
      "7N_surround_500_noclass 3000\n",
      "7N_surround_600_7n 5\n",
      "7N_surround_600_Amb 127\n",
      "7N_surround_600_noclass 3000\n",
      "7N_surround_700_7n 200\n",
      "7N_surround_700_Amb 295\n",
      "7N_surround_700_noclass 3000\n",
      "7N_surround_800_7n 1109\n",
      "7N_surround_800_Amb 523\n",
      "7N_surround_800_noclass 3000\n",
      "7N_surround_900_7n 2691\n",
      "7N_surround_900_Amb 765\n",
      "7N_surround_900_noclass 3000\n",
      "7n 3000\n",
      "7n_negative 2989\n",
      "7n_surround_1000_5N 3000\n",
      "7n_surround_1000_6N 311\n",
      "7n_surround_1000_7N 3000\n",
      "7n_surround_1000_LC 963\n",
      "7n_surround_1000_VLL 58\n",
      "7n_surround_1000_noclass 3000\n",
      "7n_surround_100_6N 19\n",
      "7n_surround_100_noclass 3000\n",
      "7n_surround_200_6N 155\n",
      "7n_surround_200_noclass 3000\n",
      "7n_surround_300_6N 271\n",
      "7n_surround_300_noclass 3000\n",
      "7n_surround_400_5N 1\n",
      "7n_surround_400_6N 310\n",
      "7n_surround_400_noclass 3000\n",
      "7n_surround_500_5N 19\n",
      "7n_surround_500_6N 311\n",
      "7n_surround_500_noclass 3000\n",
      "7n_surround_600_5N 219\n",
      "7n_surround_600_6N 311\n",
      "7n_surround_600_7N 6\n",
      "7n_surround_600_LC 5\n",
      "7n_surround_600_noclass 3000\n",
      "7n_surround_700_5N 980\n",
      "7n_surround_700_6N 311\n",
      "7n_surround_700_7N 212\n",
      "7n_surround_700_LC 62\n",
      "7n_surround_700_VLL 10\n",
      "7n_surround_700_noclass 3000\n",
      "7n_surround_800_5N 2510\n",
      "7n_surround_800_6N 311\n",
      "7n_surround_800_7N 1147\n",
      "7n_surround_800_LC 232\n",
      "7n_surround_800_VLL 26\n",
      "7n_surround_800_noclass 3000\n",
      "7n_surround_900_5N 3000\n",
      "7n_surround_900_6N 311\n",
      "7n_surround_900_7N 2671\n",
      "7n_surround_900_LC 521\n",
      "7n_surround_900_VLL 41\n",
      "7n_surround_900_noclass 3000\n",
      "AP 3000\n",
      "AP_negative 2974\n",
      "AP_surround_1000_10N 501\n",
      "AP_surround_1000_12N 3000\n",
      "AP_surround_1000_noclass 3000\n",
      "AP_surround_100_noclass 2995\n",
      "AP_surround_200_10N 1\n",
      "AP_surround_200_noclass 3000\n",
      "AP_surround_300_10N 8\n",
      "AP_surround_300_noclass 3000\n",
      "AP_surround_400_10N 58\n",
      "AP_surround_400_noclass 3000\n",
      "AP_surround_500_10N 140\n",
      "AP_surround_500_12N 204\n",
      "AP_surround_500_noclass 3000\n",
      "AP_surround_600_10N 221\n",
      "AP_surround_600_12N 1163\n",
      "AP_surround_600_noclass 3000\n",
      "AP_surround_700_10N 297\n",
      "AP_surround_700_12N 2640\n",
      "AP_surround_700_noclass 3000\n",
      "AP_surround_800_10N 369\n",
      "AP_surround_800_12N 3000\n",
      "AP_surround_800_noclass 3000\n",
      "AP_surround_900_10N 442\n",
      "AP_surround_900_12N 3000\n",
      "AP_surround_900_noclass 3000\n",
      "Amb 1570\n",
      "Amb_negative 2984\n",
      "Amb_surround_1000_7N 2590\n",
      "Amb_surround_1000_LRt 1261\n",
      "Amb_surround_1000_noclass 3000\n",
      "Amb_surround_100_noclass 2209\n",
      "Amb_surround_200_LRt 7\n",
      "Amb_surround_200_noclass 3000\n",
      "Amb_surround_300_7N 1\n",
      "Amb_surround_300_LRt 24\n",
      "Amb_surround_300_noclass 3000\n",
      "Amb_surround_400_7N 17\n",
      "Amb_surround_400_LRt 73\n",
      "Amb_surround_400_noclass 3000\n",
      "Amb_surround_500_7N 59\n",
      "Amb_surround_500_LRt 160\n",
      "Amb_surround_500_noclass 3000\n",
      "Amb_surround_600_7N 210\n",
      "Amb_surround_600_LRt 300\n",
      "Amb_surround_600_noclass 3000\n",
      "Amb_surround_700_7N 555\n",
      "Amb_surround_700_LRt 474\n",
      "Amb_surround_700_noclass 3000\n",
      "Amb_surround_800_7N 1089\n",
      "Amb_surround_800_LRt 683\n",
      "Amb_surround_800_noclass 3000\n",
      "Amb_surround_900_7N 1779\n",
      "Amb_surround_900_LRt 938\n",
      "Amb_surround_900_noclass 3000\n",
      "DC 2999\n",
      "DC_negative 2977\n",
      "DC_surround_1000_VCA 3000\n",
      "DC_surround_1000_VCP 3000\n",
      "DC_surround_1000_noclass 3000\n",
      "DC_surround_100_VCA 2\n",
      "DC_surround_100_VCP 11\n",
      "DC_surround_100_noclass 3000\n",
      "DC_surround_200_VCA 226\n",
      "DC_surround_200_VCP 299\n",
      "DC_surround_200_noclass 3000\n",
      "DC_surround_300_VCA 1927\n",
      "DC_surround_300_VCP 1615\n",
      "DC_surround_300_noclass 3000\n",
      "DC_surround_400_VCA 3000\n",
      "DC_surround_400_VCP 2989\n",
      "DC_surround_400_noclass 3000\n",
      "DC_surround_500_VCA 3000\n",
      "DC_surround_500_VCP 3000\n",
      "DC_surround_500_noclass 3000\n",
      "DC_surround_600_VCA 3000\n",
      "DC_surround_600_VCP 3000\n",
      "DC_surround_600_noclass 3000\n",
      "DC_surround_700_VCA 3000\n",
      "DC_surround_700_VCP 3000\n",
      "DC_surround_700_noclass 3000\n",
      "DC_surround_800_VCA 3000\n",
      "DC_surround_800_VCP 3000\n",
      "DC_surround_800_noclass 3000\n",
      "DC_surround_900_VCA 3000\n",
      "DC_surround_900_VCP 3000\n",
      "DC_surround_900_noclass 3000\n",
      "IC 3000\n",
      "IC_negative 2976\n",
      "IC_surround_1000_SC 3000\n",
      "IC_surround_1000_noclass 2990\n",
      "IC_surround_100_SC 503\n",
      "IC_surround_100_noclass 3000\n",
      "IC_surround_200_SC 3000\n",
      "IC_surround_200_noclass 3000\n",
      "IC_surround_300_SC 3000\n",
      "IC_surround_300_noclass 3000\n",
      "IC_surround_400_SC 3000\n",
      "IC_surround_400_noclass 3000\n",
      "IC_surround_500_SC 3000\n",
      "IC_surround_500_noclass 2998\n",
      "IC_surround_600_SC 3000\n",
      "IC_surround_600_noclass 2996\n",
      "IC_surround_700_SC 3000\n",
      "IC_surround_700_noclass 2994\n",
      "IC_surround_800_SC 3000\n",
      "IC_surround_800_noclass 2994\n",
      "IC_surround_900_SC 3000\n",
      "IC_surround_900_noclass 2989\n",
      "LC 3000\n",
      "LC_negative 2986\n",
      "LC_surround_1000_7n 900\n",
      "LC_surround_1000_noclass 3000\n",
      "LC_surround_100_noclass 3000\n",
      "LC_surround_200_noclass 3000\n",
      "LC_surround_300_noclass 3000\n",
      "LC_surround_400_noclass 3000\n",
      "LC_surround_500_noclass 3000\n",
      "LC_surround_600_7n 10\n",
      "LC_surround_600_noclass 3000\n",
      "LC_surround_700_7n 73\n",
      "LC_surround_700_noclass 3000\n",
      "LC_surround_800_7n 240\n",
      "LC_surround_800_noclass 3000\n",
      "LC_surround_900_7n 509\n",
      "LC_surround_900_noclass 3000\n",
      "LRt 2998\n",
      "LRt_negative 2982\n",
      "LRt_surround_1000_Amb 742\n",
      "LRt_surround_1000_Sp5C 1362\n",
      "LRt_surround_1000_noclass 3000\n",
      "LRt_surround_100_noclass 3000\n",
      "LRt_surround_200_Amb 4\n",
      "LRt_surround_200_noclass 3000\n",
      "LRt_surround_300_Amb 14\n",
      "LRt_surround_300_noclass 3000\n",
      "LRt_surround_400_Amb 48\n",
      "LRt_surround_400_Sp5C 2\n",
      "LRt_surround_400_noclass 3000\n",
      "LRt_surround_500_Amb 109\n",
      "LRt_surround_500_Sp5C 71\n",
      "LRt_surround_500_noclass 3000\n",
      "LRt_surround_600_Amb 206\n",
      "LRt_surround_600_Sp5C 350\n",
      "LRt_surround_600_noclass 3000\n",
      "LRt_surround_700_Amb 322\n",
      "LRt_surround_700_Sp5C 907\n",
      "LRt_surround_700_noclass 3000\n",
      "LRt_surround_800_Amb 441\n",
      "LRt_surround_800_Sp5C 1102\n",
      "LRt_surround_800_noclass 3000\n",
      "LRt_surround_900_Amb 587\n",
      "LRt_surround_900_Sp5C 1195\n",
      "LRt_surround_900_noclass 3000\n",
      "PBG 2717\n",
      "PBG_negative 2975\n",
      "PBG_surround_1000_SNR 2630\n",
      "PBG_surround_1000_VLL 1040\n",
      "PBG_surround_1000_noclass 3000\n",
      "PBG_surround_100_noclass 3000\n",
      "PBG_surround_200_SNR 7\n",
      "PBG_surround_200_noclass 3000\n",
      "PBG_surround_300_SNR 39\n",
      "PBG_surround_300_noclass 3000\n",
      "PBG_surround_400_SNR 141\n",
      "PBG_surround_400_VLL 10\n",
      "PBG_surround_400_noclass 3000\n",
      "PBG_surround_500_SNR 350\n",
      "PBG_surround_500_VLL 105\n",
      "PBG_surround_500_noclass 3000\n",
      "PBG_surround_600_SNR 644\n",
      "PBG_surround_600_VLL 252\n",
      "PBG_surround_600_noclass 3000\n",
      "PBG_surround_700_SNR 1032\n",
      "PBG_surround_700_VLL 439\n",
      "PBG_surround_700_noclass 3000\n",
      "PBG_surround_800_SNR 1557\n",
      "PBG_surround_800_VLL 657\n",
      "PBG_surround_800_noclass 3000\n",
      "PBG_surround_900_SNR 2174\n",
      "PBG_surround_900_VLL 923\n",
      "PBG_surround_900_noclass 3000\n",
      "Pn 3000\n",
      "Pn_negative 2981\n",
      "Pn_surround_1000_RtTg 3000\n",
      "Pn_surround_1000_SNR 1067\n",
      "Pn_surround_1000_Tz 3000\n",
      "Pn_surround_1000_VLL 344\n",
      "Pn_surround_1000_noclass 3000\n",
      "Pn_surround_100_RtTg 544\n",
      "Pn_surround_100_noclass 3000\n",
      "Pn_surround_200_RtTg 897\n",
      "Pn_surround_200_noclass 3000\n",
      "Pn_surround_300_RtTg 2268\n",
      "Pn_surround_300_noclass 3000\n",
      "Pn_surround_400_RtTg 3000\n",
      "Pn_surround_400_Tz 1\n",
      "Pn_surround_400_VLL 8\n",
      "Pn_surround_400_noclass 3000\n",
      "Pn_surround_500_RtTg 3000\n",
      "Pn_surround_500_Tz 8\n",
      "Pn_surround_500_VLL 67\n",
      "Pn_surround_500_noclass 3000\n",
      "Pn_surround_600_RtTg 3000\n",
      "Pn_surround_600_Tz 115\n",
      "Pn_surround_600_VLL 153\n",
      "Pn_surround_600_noclass 3000\n",
      "Pn_surround_700_RtTg 3000\n",
      "Pn_surround_700_SNR 2\n",
      "Pn_surround_700_Tz 481\n",
      "Pn_surround_700_VLL 245\n",
      "Pn_surround_700_noclass 3000\n",
      "Pn_surround_800_RtTg 3000\n",
      "Pn_surround_800_SNR 41\n",
      "Pn_surround_800_Tz 1320\n",
      "Pn_surround_800_VLL 312\n",
      "Pn_surround_800_noclass 3000\n",
      "Pn_surround_900_RtTg 3000\n",
      "Pn_surround_900_SNR 269\n",
      "Pn_surround_900_Tz 2486\n",
      "Pn_surround_900_VLL 344\n",
      "Pn_surround_900_noclass 3000\n",
      "RMC 3000\n",
      "RMC_negative 2981\n",
      "RMC_surround_1000_3N 310\n",
      "RMC_surround_1000_SNR 826\n",
      "RMC_surround_1000_noclass 3000\n",
      "RMC_surround_100_noclass 3000\n",
      "RMC_surround_200_noclass 3000\n",
      "RMC_surround_300_noclass 3000\n",
      "RMC_surround_400_noclass 3000\n",
      "RMC_surround_500_SNR 1\n",
      "RMC_surround_500_noclass 3000\n",
      "RMC_surround_600_SNR 32\n",
      "RMC_surround_600_noclass 3000\n",
      "RMC_surround_700_3N 11\n",
      "RMC_surround_700_SNR 127\n",
      "RMC_surround_700_noclass 3000\n",
      "RMC_surround_800_3N 44\n",
      "RMC_surround_800_SNR 294\n",
      "RMC_surround_800_noclass 3000\n",
      "RMC_surround_900_3N 139\n",
      "RMC_surround_900_SNR 519\n",
      "RMC_surround_900_noclass 3000\n",
      "RtTg 3000\n",
      "RtTg_negative 2983\n",
      "RtTg_surround_1000_Pn 3000\n",
      "RtTg_surround_1000_SNR 5\n",
      "RtTg_surround_1000_Tz 2429\n",
      "RtTg_surround_1000_noclass 3000\n",
      "RtTg_surround_100_Pn 535\n",
      "RtTg_surround_100_noclass 3000\n",
      "RtTg_surround_200_Pn 930\n",
      "RtTg_surround_200_Tz 3\n",
      "RtTg_surround_200_noclass 3000\n",
      "RtTg_surround_300_Pn 2416\n",
      "RtTg_surround_300_Tz 53\n",
      "RtTg_surround_300_noclass 3000\n",
      "RtTg_surround_400_Pn 3000\n",
      "RtTg_surround_400_Tz 322\n",
      "RtTg_surround_400_noclass 3000\n",
      "RtTg_surround_500_Pn 3000\n",
      "RtTg_surround_500_Tz 821\n",
      "RtTg_surround_500_noclass 3000\n",
      "RtTg_surround_600_Pn 3000\n",
      "RtTg_surround_600_Tz 1538\n",
      "RtTg_surround_600_noclass 3000\n",
      "RtTg_surround_700_Pn 3000\n",
      "RtTg_surround_700_Tz 2210\n",
      "RtTg_surround_700_noclass 3000\n",
      "RtTg_surround_800_Pn 3000\n",
      "RtTg_surround_800_Tz 2297\n",
      "RtTg_surround_800_noclass 3000\n",
      "RtTg_surround_900_Pn 3000\n",
      "RtTg_surround_900_Tz 2366\n",
      "RtTg_surround_900_noclass 3000\n",
      "SC 3000\n",
      "SC_negative 2979\n",
      "SC_surround_1000_IC 3000\n",
      "SC_surround_1000_noclass 2994\n",
      "SC_surround_100_IC 535\n",
      "SC_surround_100_noclass 3000\n",
      "SC_surround_200_IC 3000\n",
      "SC_surround_200_noclass 3000\n",
      "SC_surround_300_IC 3000\n",
      "SC_surround_300_noclass 3000\n",
      "SC_surround_400_IC 3000\n",
      "SC_surround_400_noclass 3000\n",
      "SC_surround_500_IC 3000\n",
      "SC_surround_500_noclass 3000\n",
      "SC_surround_600_IC 3000\n",
      "SC_surround_600_noclass 2999\n",
      "SC_surround_700_IC 3000\n",
      "SC_surround_700_noclass 2997\n",
      "SC_surround_800_IC 3000\n",
      "SC_surround_800_noclass 2998\n",
      "SC_surround_900_IC 3000\n",
      "SC_surround_900_noclass 2996\n",
      "SNC 3000\n",
      "SNC_negative 2981\n",
      "SNC_surround_1000_Pn 1\n",
      "SNC_surround_1000_SNR 3000\n",
      "SNC_surround_1000_noclass 3000\n",
      "SNC_surround_100_SNR 205\n",
      "SNC_surround_100_noclass 3000\n",
      "SNC_surround_200_SNR 3000\n",
      "SNC_surround_200_noclass 3000\n",
      "SNC_surround_300_SNR 3000\n",
      "SNC_surround_300_noclass 3000\n",
      "SNC_surround_400_SNR 3000\n",
      "SNC_surround_400_noclass 3000\n",
      "SNC_surround_500_SNR 3000\n",
      "SNC_surround_500_noclass 3000\n",
      "SNC_surround_600_SNR 3000\n",
      "SNC_surround_600_noclass 3000\n",
      "SNC_surround_700_SNR 3000\n",
      "SNC_surround_700_noclass 3000\n",
      "SNC_surround_800_SNR 3000\n",
      "SNC_surround_800_noclass 3000\n",
      "SNC_surround_900_SNR 3000\n",
      "SNC_surround_900_noclass 3000\n",
      "SNR 3000\n",
      "SNR_negative 2977\n",
      "SNR_surround_1000_PBG 1187\n",
      "SNR_surround_1000_Pn 640\n",
      "SNR_surround_1000_RMC 548\n",
      "SNR_surround_1000_SNC 3000\n",
      "SNR_surround_1000_VLL 3000\n",
      "SNR_surround_1000_noclass 3000\n",
      "SNR_surround_100_SNC 207\n",
      "SNR_surround_100_noclass 3000\n",
      "SNR_surround_200_PBG 3\n",
      "SNR_surround_200_SNC 3000\n",
      "SNR_surround_200_noclass 3000\n",
      "SNR_surround_300_PBG 19\n",
      "SNR_surround_300_SNC 3000\n",
      "SNR_surround_300_noclass 3000\n",
      "SNR_surround_400_PBG 80\n",
      "SNR_surround_400_SNC 3000\n",
      "SNR_surround_400_VLL 1\n",
      "SNR_surround_400_noclass 3000\n",
      "SNR_surround_500_PBG 177\n",
      "SNR_surround_500_RMC 1\n",
      "SNR_surround_500_SNC 3000\n",
      "SNR_surround_500_VLL 43\n",
      "SNR_surround_500_noclass 3000\n",
      "SNR_surround_600_PBG 313\n",
      "SNR_surround_600_RMC 27\n",
      "SNR_surround_600_SNC 3000\n",
      "SNR_surround_600_VLL 518\n",
      "SNR_surround_600_noclass 3000\n",
      "SNR_surround_700_PBG 491\n",
      "SNR_surround_700_Pn 3\n",
      "SNR_surround_700_RMC 100\n",
      "SNR_surround_700_SNC 3000\n",
      "SNR_surround_700_VLL 1868\n",
      "SNR_surround_700_noclass 3000\n",
      "SNR_surround_800_PBG 713\n",
      "SNR_surround_800_Pn 38\n",
      "SNR_surround_800_RMC 207\n",
      "SNR_surround_800_SNC 3000\n",
      "SNR_surround_800_VLL 3000\n",
      "SNR_surround_800_noclass 3000\n",
      "SNR_surround_900_PBG 950\n",
      "SNR_surround_900_Pn 187\n",
      "SNR_surround_900_RMC 352\n",
      "SNR_surround_900_SNC 3000\n",
      "SNR_surround_900_VLL 3000\n",
      "SNR_surround_900_noclass 3000\n",
      "Sp5C 2961\n",
      "Sp5C_negative 2971\n",
      "Sp5C_surround_1000_LRt 1162\n",
      "Sp5C_surround_1000_Sp5I 3000\n",
      "Sp5C_surround_1000_Sp5O 296\n",
      "Sp5C_surround_1000_noclass 3000\n",
      "Sp5C_surround_100_Sp5I 171\n",
      "Sp5C_surround_100_noclass 3000\n",
      "Sp5C_surround_200_Sp5I 2478\n",
      "Sp5C_surround_200_noclass 3000\n",
      "Sp5C_surround_300_Sp5I 3000\n",
      "Sp5C_surround_300_noclass 3000\n",
      "Sp5C_surround_400_LRt 1\n",
      "Sp5C_surround_400_Sp5I 3000\n",
      "Sp5C_surround_400_noclass 3000\n",
      "Sp5C_surround_500_LRt 37\n",
      "Sp5C_surround_500_Sp5I 3000\n",
      "Sp5C_surround_500_noclass 3000\n",
      "Sp5C_surround_600_LRt 183\n",
      "Sp5C_surround_600_Sp5I 3000\n",
      "Sp5C_surround_600_noclass 3000\n",
      "Sp5C_surround_700_LRt 432\n",
      "Sp5C_surround_700_Sp5I 3000\n",
      "Sp5C_surround_700_noclass 3000\n",
      "Sp5C_surround_800_LRt 819\n",
      "Sp5C_surround_800_Sp5I 3000\n",
      "Sp5C_surround_800_Sp5O 12\n",
      "Sp5C_surround_800_noclass 3000\n",
      "Sp5C_surround_900_LRt 1092\n",
      "Sp5C_surround_900_Sp5I 3000\n",
      "Sp5C_surround_900_Sp5O 92\n",
      "Sp5C_surround_900_noclass 3000\n",
      "Sp5I 3000\n",
      "Sp5I_negative 2982\n",
      "Sp5I_surround_1000_Sp5C 3000\n",
      "Sp5I_surround_1000_Sp5O 3000\n",
      "Sp5I_surround_1000_noclass 3000\n",
      "Sp5I_surround_100_Sp5C 153\n",
      "Sp5I_surround_100_Sp5O 1268\n",
      "Sp5I_surround_100_noclass 3000\n",
      "Sp5I_surround_200_Sp5C 2410\n",
      "Sp5I_surround_200_Sp5O 2908\n",
      "Sp5I_surround_200_noclass 3000\n",
      "Sp5I_surround_300_Sp5C 3000\n",
      "Sp5I_surround_300_Sp5O 3000\n",
      "Sp5I_surround_300_noclass 3000\n",
      "Sp5I_surround_400_Sp5C 3000\n",
      "Sp5I_surround_400_Sp5O 3000\n",
      "Sp5I_surround_400_noclass 3000\n",
      "Sp5I_surround_500_Sp5C 3000\n",
      "Sp5I_surround_500_Sp5O 3000\n",
      "Sp5I_surround_500_noclass 3000\n",
      "Sp5I_surround_600_Sp5C 3000\n",
      "Sp5I_surround_600_Sp5O 3000\n",
      "Sp5I_surround_600_noclass 3000\n",
      "Sp5I_surround_700_Sp5C 3000\n",
      "Sp5I_surround_700_Sp5O 3000\n",
      "Sp5I_surround_700_noclass 3000\n",
      "Sp5I_surround_800_Sp5C 3000\n",
      "Sp5I_surround_800_Sp5O 3000\n",
      "Sp5I_surround_800_noclass 3000\n",
      "Sp5I_surround_900_Sp5C 3000\n",
      "Sp5I_surround_900_Sp5O 3000\n",
      "Sp5I_surround_900_noclass 3000\n",
      "Sp5O 3000\n",
      "Sp5O_negative 2987\n",
      "Sp5O_surround_1000_Sp5C 294\n",
      "Sp5O_surround_1000_Sp5I 3000\n",
      "Sp5O_surround_1000_noclass 3000\n",
      "Sp5O_surround_100_Sp5I 1319\n",
      "Sp5O_surround_100_noclass 3000\n",
      "Sp5O_surround_200_Sp5I 3000\n",
      "Sp5O_surround_200_noclass 3000\n",
      "Sp5O_surround_300_Sp5I 3000\n",
      "Sp5O_surround_300_noclass 3000\n",
      "Sp5O_surround_400_Sp5I 3000\n",
      "Sp5O_surround_400_noclass 3000\n",
      "Sp5O_surround_500_Sp5I 3000\n",
      "Sp5O_surround_500_noclass 3000\n",
      "Sp5O_surround_600_Sp5I 3000\n",
      "Sp5O_surround_600_noclass 3000\n",
      "Sp5O_surround_700_Sp5I 3000\n",
      "Sp5O_surround_700_noclass 3000\n",
      "Sp5O_surround_800_Sp5C 15\n",
      "Sp5O_surround_800_Sp5I 3000\n",
      "Sp5O_surround_800_noclass 3000\n",
      "Sp5O_surround_900_Sp5C 93\n",
      "Sp5O_surround_900_Sp5I 3000\n",
      "Sp5O_surround_900_noclass 3000\n",
      "Tz 3000\n",
      "Tz_negative 2981\n",
      "Tz_surround_1000_Pn 3000\n",
      "Tz_surround_1000_RtTg 3000\n",
      "Tz_surround_1000_noclass 3000\n",
      "Tz_surround_100_noclass 3000\n",
      "Tz_surround_200_RtTg 2\n",
      "Tz_surround_200_noclass 3000\n",
      "Tz_surround_300_RtTg 77\n",
      "Tz_surround_300_noclass 3000\n",
      "Tz_surround_400_Pn 1\n",
      "Tz_surround_400_RtTg 557\n",
      "Tz_surround_400_noclass 3000\n",
      "Tz_surround_500_Pn 7\n",
      "Tz_surround_500_RtTg 1590\n",
      "Tz_surround_500_noclass 3000\n",
      "Tz_surround_600_Pn 139\n",
      "Tz_surround_600_RtTg 2277\n",
      "Tz_surround_600_noclass 3000\n",
      "Tz_surround_700_Pn 643\n",
      "Tz_surround_700_RtTg 2420\n",
      "Tz_surround_700_noclass 3000\n",
      "Tz_surround_800_Pn 1811\n",
      "Tz_surround_800_RtTg 2593\n",
      "Tz_surround_800_noclass 3000\n",
      "Tz_surround_900_Pn 2992\n",
      "Tz_surround_900_RtTg 2800\n",
      "Tz_surround_900_noclass 3000\n",
      "VCA 3000\n",
      "VCA_negative 2974\n",
      "VCA_surround_1000_DC 2998\n",
      "VCA_surround_1000_VCP 3000\n",
      "VCA_surround_1000_noclass 3000\n",
      "VCA_surround_100_DC 2\n",
      "VCA_surround_100_VCP 265\n",
      "VCA_surround_100_noclass 3000\n",
      "VCA_surround_200_DC 195\n",
      "VCA_surround_200_VCP 1569\n",
      "VCA_surround_200_noclass 3000\n",
      "VCA_surround_300_DC 1657\n",
      "VCA_surround_300_VCP 3000\n",
      "VCA_surround_300_noclass 3000\n",
      "VCA_surround_400_DC 3000\n",
      "VCA_surround_400_VCP 3000\n",
      "VCA_surround_400_noclass 3000\n",
      "VCA_surround_500_DC 3000\n",
      "VCA_surround_500_VCP 3000\n",
      "VCA_surround_500_noclass 3000\n",
      "VCA_surround_600_DC 3000\n",
      "VCA_surround_600_VCP 3000\n",
      "VCA_surround_600_noclass 3000\n",
      "VCA_surround_700_DC 3000\n",
      "VCA_surround_700_VCP 3000\n",
      "VCA_surround_700_noclass 3000\n",
      "VCA_surround_800_DC 2999\n",
      "VCA_surround_800_VCP 3000\n",
      "VCA_surround_800_noclass 3000\n",
      "VCA_surround_900_DC 2999\n",
      "VCA_surround_900_VCP 3000\n",
      "VCA_surround_900_noclass 3000\n",
      "VCP 3000\n",
      "VCP_negative 2977\n",
      "VCP_surround_1000_DC 2999\n",
      "VCP_surround_1000_VCA 3000\n",
      "VCP_surround_1000_noclass 3000\n",
      "VCP_surround_100_DC 24\n",
      "VCP_surround_100_VCA 284\n",
      "VCP_surround_100_noclass 3000\n",
      "VCP_surround_200_DC 500\n",
      "VCP_surround_200_VCA 1634\n",
      "VCP_surround_200_noclass 3000\n",
      "VCP_surround_300_DC 2533\n",
      "VCP_surround_300_VCA 2941\n",
      "VCP_surround_300_noclass 3000\n",
      "VCP_surround_400_DC 3000\n",
      "VCP_surround_400_VCA 3000\n",
      "VCP_surround_400_noclass 3000\n",
      "VCP_surround_500_DC 3000\n",
      "VCP_surround_500_VCA 3000\n",
      "VCP_surround_500_noclass 3000\n",
      "VCP_surround_600_DC 3000\n",
      "VCP_surround_600_VCA 3000\n",
      "VCP_surround_600_noclass 3000\n",
      "VCP_surround_700_DC 3000\n",
      "VCP_surround_700_VCA 3000\n",
      "VCP_surround_700_noclass 3000\n",
      "VCP_surround_800_DC 2998\n",
      "VCP_surround_800_VCA 3000\n",
      "VCP_surround_800_noclass 3000\n",
      "VCP_surround_900_DC 2997\n",
      "VCP_surround_900_VCA 3000\n",
      "VCP_surround_900_noclass 3000\n",
      "VLL 3000\n",
      "VLL_negative 2983\n",
      "VLL_surround_1000_5N 348\n",
      "VLL_surround_1000_7n 25\n",
      "VLL_surround_1000_PBG 116\n",
      "VLL_surround_1000_Pn 3\n",
      "VLL_surround_1000_SNR 3000\n",
      "VLL_surround_1000_noclass 3000\n",
      "VLL_surround_100_noclass 3000\n",
      "VLL_surround_200_noclass 3000\n",
      "VLL_surround_300_noclass 3000\n",
      "VLL_surround_400_PBG 10\n",
      "VLL_surround_400_Pn 2\n",
      "VLL_surround_400_noclass 3000\n",
      "VLL_surround_500_PBG 69\n",
      "VLL_surround_500_Pn 3\n",
      "VLL_surround_500_SNR 38\n",
      "VLL_surround_500_noclass 3000\n",
      "VLL_surround_600_PBG 97\n",
      "VLL_surround_600_Pn 3\n",
      "VLL_surround_600_SNR 472\n",
      "VLL_surround_600_noclass 3000\n",
      "VLL_surround_700_5N 15\n",
      "VLL_surround_700_7n 3\n",
      "VLL_surround_700_PBG 98\n",
      "VLL_surround_700_Pn 3\n",
      "VLL_surround_700_SNR 1952\n",
      "VLL_surround_700_noclass 3000\n",
      "VLL_surround_800_5N 56\n",
      "VLL_surround_800_7n 8\n",
      "VLL_surround_800_PBG 98\n",
      "VLL_surround_800_Pn 3\n",
      "VLL_surround_800_SNR 3000\n",
      "VLL_surround_800_noclass 3000\n",
      "VLL_surround_900_5N 142\n",
      "VLL_surround_900_7n 16\n",
      "VLL_surround_900_PBG 106\n",
      "VLL_surround_900_Pn 3\n",
      "VLL_surround_900_SNR 3000\n",
      "VLL_surround_900_noclass 3000\n",
      "noclass 2965\n"
     ]
    }
   ],
   "source": [
    "for name in sorted(training_addresses.iterkeys()):\n",
    "    print name, len(training_addresses[name])"
   ]
  },
  {
   "cell_type": "code",
   "execution_count": 31,
   "metadata": {
    "collapsed": false
   },
   "outputs": [
    {
     "name": "stdout",
     "output_type": "stream",
     "text": [
      "Setting environment for Gordon\n"
     ]
    }
   ],
   "source": [
    "if stack in all_annotated_ntb_stacks:\n",
    "    clf_rootdir = CLF_NTBLUE_ROOTDIR\n",
    "elif stack in all_annotated_nissl_stacks:\n",
    "    clf_rootdir = CLF_NISSL_ROOTDIR\n",
    "else:\n",
    "    raise"
   ]
  },
  {
   "cell_type": "code",
   "execution_count": 59,
   "metadata": {
    "collapsed": false
   },
   "outputs": [
    {
     "name": "stdout",
     "output_type": "stream",
     "text": [
      "MD585\n",
      "'No object named structures in the file'\n"
     ]
    },
    {
     "name": "stderr",
     "output_type": "stream",
     "text": [
      "Annotation has no structures.\n"
     ]
    },
    {
     "name": "stdout",
     "output_type": "stream",
     "text": [
      "MD589\n",
      "'No object named structures in the file'\n"
     ]
    },
    {
     "name": "stderr",
     "output_type": "stream",
     "text": [
      "Annotation has no structures.\n"
     ]
    },
    {
     "name": "stdout",
     "output_type": "stream",
     "text": [
      "MD594\n",
      "'No object named structures in the file'\n"
     ]
    },
    {
     "name": "stderr",
     "output_type": "stream",
     "text": [
      "Annotation has no structures.\n"
     ]
    }
   ],
   "source": [
    "# structure_centers_all_stacks_all_secs_all_names = defaultdict(lambda: defaultdict(dict))\n",
    "\n",
    "# for stack in all_annotated_nissl_stacks:\n",
    "#     print stack\n",
    "    \n",
    "#     contours_original, _ = DataManager.load_annotation_v3(stack=stack)\n",
    "#     contours_aligned_cropped = convert_annotation_v3_original_to_aligned_cropped(contours_original, stack=stack)    \n",
    "    \n",
    "#     first_sec, last_sec = metadata_cache['section_limits'][stack]\n",
    "    \n",
    "#     for sec in range(first_sec, last_sec+1):\n",
    "\n",
    "#         fn = metadata_cache['sections_to_filenames'][stack][sec]\n",
    "#         if fn in ['Nonexisting', 'Rescan', 'Placeholder']:\n",
    "#             continue\n",
    "\n",
    "#         contours_this_sec = contours_aligned_cropped[contours_aligned_cropped['filename'] == fn]\n",
    "\n",
    "#         for name_u in set(contours_this_sec['name']):\n",
    "#             matched_contours = contours_this_sec[(contours_this_sec['name'] == name_u)]\n",
    "#     #         assert len(matched_contours) == 1 # will fail because the bug in GUI that creates multiple duplicate entries for the same contour\n",
    "#             cnt = matched_contours.iloc[0]\n",
    "#             center = cnt['vertices'].mean(axis=0)\n",
    "#             structure_centers_all_stacks_all_secs_all_names[stack][sec][name_u] = center\n",
    "\n",
    "# structure_centers_all_stacks_all_secs_all_names.default_factory = None"
   ]
  },
  {
   "cell_type": "code",
   "execution_count": 61,
   "metadata": {
    "collapsed": false,
    "scrolled": true
   },
   "outputs": [
    {
     "ename": "KeyboardInterrupt",
     "evalue": "",
     "output_type": "error",
     "traceback": [
      "\u001b[0;31m------------------------------------------------------------------------\u001b[0m",
      "\u001b[0;31mKeyboardInterrupt\u001b[0m                      Traceback (most recent call last)",
      "\u001b[0;32m<ipython-input-61-9efe789a7796>\u001b[0m in \u001b[0;36m<module>\u001b[0;34m()\u001b[0m\n\u001b[1;32m      1\u001b[0m distances_to_structures = apply_function_to_dict(lambda addrs:                                                 addresses_to_structure_distances(addrs, structure_centers_all_stacks_all_secs_all_names), \n\u001b[0;32m----> 2\u001b[0;31m                                                 training_addresses)\n\u001b[0m\u001b[1;32m      3\u001b[0m \u001b[0;34m\u001b[0m\u001b[0m\n\u001b[1;32m      4\u001b[0m \u001b[0;32mimport\u001b[0m \u001b[0mpandas\u001b[0m\u001b[0;34m\u001b[0m\u001b[0m\n\u001b[1;32m      5\u001b[0m \u001b[0mdistances_to_structures\u001b[0m \u001b[0;34m=\u001b[0m \u001b[0;34m{\u001b[0m\u001b[0mlabel\u001b[0m\u001b[0;34m:\u001b[0m \u001b[0mpandas\u001b[0m\u001b[0;34m.\u001b[0m\u001b[0mDataFrame\u001b[0m\u001b[0;34m(\u001b[0m\u001b[0mdistances\u001b[0m\u001b[0;34m)\u001b[0m \u001b[0;32mfor\u001b[0m \u001b[0mlabel\u001b[0m\u001b[0;34m,\u001b[0m \u001b[0mdistances\u001b[0m \u001b[0;32min\u001b[0m \u001b[0mdistances_to_structures\u001b[0m\u001b[0;34m.\u001b[0m\u001b[0miteritems\u001b[0m\u001b[0;34m(\u001b[0m\u001b[0;34m)\u001b[0m\u001b[0;34m}\u001b[0m\u001b[0;34m\u001b[0m\u001b[0m\n",
      "\u001b[0;32m/oasis/projects/nsf/csd395/yuncong/Brain/utilities/utilities2015.pyc\u001b[0m in \u001b[0;36mapply_function_to_dict\u001b[0;34m(func, d)\u001b[0m\n\u001b[1;32m    671\u001b[0m     \"\"\"\n\u001b[1;32m    672\u001b[0m     \u001b[0;32mfrom\u001b[0m \u001b[0mitertools\u001b[0m \u001b[0;32mimport\u001b[0m \u001b[0mchain\u001b[0m\u001b[0;34m\u001b[0m\u001b[0m\n\u001b[0;32m--> 673\u001b[0;31m     \u001b[0mresult\u001b[0m \u001b[0;34m=\u001b[0m \u001b[0mfunc\u001b[0m\u001b[0;34m(\u001b[0m\u001b[0mlist\u001b[0m\u001b[0;34m(\u001b[0m\u001b[0mchain\u001b[0m\u001b[0;34m(\u001b[0m\u001b[0;34m*\u001b[0m\u001b[0md\u001b[0m\u001b[0;34m.\u001b[0m\u001b[0mvalues\u001b[0m\u001b[0;34m(\u001b[0m\u001b[0;34m)\u001b[0m\u001b[0;34m)\u001b[0m\u001b[0;34m)\u001b[0m\u001b[0;34m)\u001b[0m\u001b[0;34m\u001b[0m\u001b[0m\n\u001b[0m\u001b[1;32m    674\u001b[0m     \u001b[0mcsum\u001b[0m \u001b[0;34m=\u001b[0m \u001b[0mnp\u001b[0m\u001b[0;34m.\u001b[0m\u001b[0mcumsum\u001b[0m\u001b[0;34m(\u001b[0m\u001b[0mmap\u001b[0m\u001b[0;34m(\u001b[0m\u001b[0mlen\u001b[0m\u001b[0;34m,\u001b[0m \u001b[0md\u001b[0m\u001b[0;34m.\u001b[0m\u001b[0mvalues\u001b[0m\u001b[0;34m(\u001b[0m\u001b[0;34m)\u001b[0m\u001b[0;34m)\u001b[0m\u001b[0;34m)\u001b[0m\u001b[0;34m\u001b[0m\u001b[0m\n\u001b[1;32m    675\u001b[0m     \u001b[0mnew_d\u001b[0m \u001b[0;34m=\u001b[0m \u001b[0;34m{\u001b[0m\u001b[0mk\u001b[0m\u001b[0;34m:\u001b[0m \u001b[0mresult\u001b[0m\u001b[0;34m[\u001b[0m\u001b[0;34m(\u001b[0m\u001b[0;36m0\u001b[0m \u001b[0;32mif\u001b[0m \u001b[0mi\u001b[0m \u001b[0;34m==\u001b[0m \u001b[0;36m0\u001b[0m \u001b[0;32melse\u001b[0m \u001b[0mcsum\u001b[0m\u001b[0;34m[\u001b[0m\u001b[0mi\u001b[0m\u001b[0;34m-\u001b[0m\u001b[0;36m1\u001b[0m\u001b[0;34m]\u001b[0m\u001b[0;34m)\u001b[0m\u001b[0;34m:\u001b[0m\u001b[0mcsum\u001b[0m\u001b[0;34m[\u001b[0m\u001b[0mi\u001b[0m\u001b[0;34m]\u001b[0m\u001b[0;34m]\u001b[0m \u001b[0;32mfor\u001b[0m \u001b[0mi\u001b[0m\u001b[0;34m,\u001b[0m \u001b[0mk\u001b[0m \u001b[0;32min\u001b[0m \u001b[0menumerate\u001b[0m\u001b[0;34m(\u001b[0m\u001b[0md\u001b[0m\u001b[0;34m.\u001b[0m\u001b[0mkeys\u001b[0m\u001b[0;34m(\u001b[0m\u001b[0;34m)\u001b[0m\u001b[0;34m)\u001b[0m\u001b[0;34m}\u001b[0m\u001b[0;34m\u001b[0m\u001b[0m\n",
      "\u001b[0;32m<ipython-input-61-9efe789a7796>\u001b[0m in \u001b[0;36m<lambda>\u001b[0;34m(addrs)\u001b[0m\n\u001b[0;32m----> 1\u001b[0;31m distances_to_structures = apply_function_to_dict(lambda addrs:                                                 addresses_to_structure_distances(addrs, structure_centers_all_stacks_all_secs_all_names), \n\u001b[0m\u001b[1;32m      2\u001b[0m                                                 training_addresses)\n\u001b[1;32m      3\u001b[0m \u001b[0;34m\u001b[0m\u001b[0m\n\u001b[1;32m      4\u001b[0m \u001b[0;32mimport\u001b[0m \u001b[0mpandas\u001b[0m\u001b[0;34m\u001b[0m\u001b[0m\n\u001b[1;32m      5\u001b[0m \u001b[0mdistances_to_structures\u001b[0m \u001b[0;34m=\u001b[0m \u001b[0;34m{\u001b[0m\u001b[0mlabel\u001b[0m\u001b[0;34m:\u001b[0m \u001b[0mpandas\u001b[0m\u001b[0;34m.\u001b[0m\u001b[0mDataFrame\u001b[0m\u001b[0;34m(\u001b[0m\u001b[0mdistances\u001b[0m\u001b[0;34m)\u001b[0m \u001b[0;32mfor\u001b[0m \u001b[0mlabel\u001b[0m\u001b[0;34m,\u001b[0m \u001b[0mdistances\u001b[0m \u001b[0;32min\u001b[0m \u001b[0mdistances_to_structures\u001b[0m\u001b[0;34m.\u001b[0m\u001b[0miteritems\u001b[0m\u001b[0;34m(\u001b[0m\u001b[0;34m)\u001b[0m\u001b[0;34m}\u001b[0m\u001b[0;34m\u001b[0m\u001b[0m\n",
      "\u001b[0;31mKeyboardInterrupt\u001b[0m: "
     ]
    }
   ],
   "source": [
    "# distances_to_structures = apply_function_to_dict(lambda addrs:\\\n",
    "#                                                  addresses_to_structure_distances(addrs, structure_centers_all_stacks_all_secs_all_names), \n",
    "#                                                 training_addresses)\n",
    "\n",
    "# import pandas\n",
    "# distances_to_structures = {label: pandas.DataFrame(distances) for label, distances in distances_to_structures.iteritems()}"
   ]
  },
  {
   "cell_type": "code",
   "execution_count": 32,
   "metadata": {
    "collapsed": true
   },
   "outputs": [],
   "source": [
    "train_feat_dir = create_if_not_exists(os.path.join(clf_rootdir, 'training_features/'))\n",
    "\n",
    "# Save training features\n",
    "for name, feats in training_features.iteritems():\n",
    "    bp.pack_ndarray_file(feats, os.path.join(train_feat_dir, name + '.bp'))"
   ]
  },
  {
   "cell_type": "code",
   "execution_count": 27,
   "metadata": {
    "collapsed": false
   },
   "outputs": [],
   "source": [
    "# Save training addresses\n",
    "save_pickle(training_addresses, os.path.join(clf_rootdir, 'training_addresses.pkl'))"
   ]
  },
  {
   "cell_type": "markdown",
   "metadata": {},
   "source": [
    "# Load training dataset"
   ]
  },
  {
   "cell_type": "code",
   "execution_count": 22,
   "metadata": {
    "collapsed": false
   },
   "outputs": [],
   "source": [
    "# Load training features\n",
    "training_features = {name: bp.unpack_ndarray_file(os.path.join(train_feat_dir, name + '.bp'))\n",
    "                     for name in labels}\n",
    "\n",
    "# Load training features\n",
    "\n",
    "# training_features = {name_u: bp.unpack_ndarray_file(os.path.join(clf_rootdir, 'training_features', \\\n",
    "#                                  name_u + '_trainSampleScheme_%d.bp' % train_sample_scheme))\n",
    "#                      for name_u in labels}"
   ]
  },
  {
   "cell_type": "code",
   "execution_count": 23,
   "metadata": {
    "collapsed": true
   },
   "outputs": [],
   "source": [
    "# load training addresses\n",
    "training_addresses = load_pickle(os.path.join(clf_rootdir, 'training_addresses.pkl'))"
   ]
  },
  {
   "cell_type": "code",
   "execution_count": 80,
   "metadata": {
    "collapsed": false
   },
   "outputs": [],
   "source": [
    "# negatives are surrounding patches that are not of other positive classes\n",
    "# LogisticRegression(penalty='l2')\n",
    "# train_sample_scheme = 1\n",
    "\n",
    "# negatives are surrounding patches (margin=200) that include other positive classes\n",
    "# LogisticRegression(penalty='l2')\n",
    "train_sample_scheme = 2\n",
    "margin = 500\n",
    "\n",
    "# negatives are surrounding patches that are not of other positive classes\n",
    "# SVC(kernel='linear')\n",
    "# train_sample_scheme = 3\n",
    "\n",
    "# negatives are surrounding patches that are not of other positive classes\n",
    "# LinearSVC(kernel='linear') + CalibratedClassifierCV\n",
    "# train_sample_scheme = 4\n",
    "\n",
    "# negatives are surrounding patches that are not of other positive classes\n",
    "# XGBClassifier\n",
    "# train_sample_scheme = 5\n",
    "\n",
    "# negatives are surrounding patches that are not of other positive classes\n",
    "# sklearn.ensemble.GradientBoostingClassifier, max_depth=3, n_estimators=200\n",
    "# train_sample_scheme = 6\n",
    "\n",
    "# negatives are surrounding patches that are not of other positive classes\n",
    "# sklearn.ensemble.GradientBoostingClassifier, max_depth=5, n_estimators=100\n",
    "# train_sample_scheme = 7\n",
    "\n",
    "# negatives are all outside patches, including other positive classes\n",
    "# LogisticRegression(penalty='l2')\n",
    "# train_sample_scheme = 8\n",
    "\n",
    "# negatives are all outside patches, including other positive classes, weighted according to distance to the center of \n",
    "# the structure of interest.\n",
    "# All surrounds are used as negative, other outside patches are randomly sampled to be negative.\n",
    "# LogisticRegression(penalty='l2')\n",
    "# train_sample_scheme = 9\n",
    "# thresh = 1500\n",
    "# def diminishing(x):\n",
    "#     return np.exp(-(x-thresh)/3000.)"
   ]
  },
  {
   "cell_type": "code",
   "execution_count": 81,
   "metadata": {
    "collapsed": false,
    "scrolled": true
   },
   "outputs": [
    {
     "name": "stdout",
     "output_type": "stream",
     "text": [
      "Tz\n"
     ]
    },
    {
     "name": "stderr",
     "output_type": "stream",
     "text": [
      "Fitting classifier: 9.69 seconds\n"
     ]
    },
    {
     "name": "stdout",
     "output_type": "stream",
     "text": [
      "VCA\n"
     ]
    },
    {
     "name": "stderr",
     "output_type": "stream",
     "text": [
      "Fitting classifier: 20.79 seconds\n"
     ]
    },
    {
     "name": "stdout",
     "output_type": "stream",
     "text": [
      "7n\n"
     ]
    },
    {
     "name": "stderr",
     "output_type": "stream",
     "text": [
      "Fitting classifier: 10.99 seconds\n"
     ]
    },
    {
     "name": "stdout",
     "output_type": "stream",
     "text": [
      "DC\n"
     ]
    },
    {
     "name": "stderr",
     "output_type": "stream",
     "text": [
      "Fitting classifier: 36.93 seconds\n"
     ]
    },
    {
     "name": "stdout",
     "output_type": "stream",
     "text": [
      "5N\n"
     ]
    },
    {
     "name": "stderr",
     "output_type": "stream",
     "text": [
      "Fitting classifier: 8.59 seconds\n"
     ]
    },
    {
     "name": "stdout",
     "output_type": "stream",
     "text": [
      "RtTg\n"
     ]
    },
    {
     "name": "stderr",
     "output_type": "stream",
     "text": [
      "Fitting classifier: 19.01 seconds\n"
     ]
    },
    {
     "name": "stdout",
     "output_type": "stream",
     "text": [
      "Pn\n"
     ]
    },
    {
     "name": "stderr",
     "output_type": "stream",
     "text": [
      "Fitting classifier: 15.10 seconds\n"
     ]
    },
    {
     "name": "stdout",
     "output_type": "stream",
     "text": [
      "10N\n"
     ]
    },
    {
     "name": "stderr",
     "output_type": "stream",
     "text": [
      "Fitting classifier: 19.79 seconds\n"
     ]
    },
    {
     "name": "stdout",
     "output_type": "stream",
     "text": [
      "VLL\n"
     ]
    },
    {
     "name": "stderr",
     "output_type": "stream",
     "text": [
      "Fitting classifier: 8.19 seconds\n"
     ]
    },
    {
     "name": "stdout",
     "output_type": "stream",
     "text": [
      "7N\n"
     ]
    },
    {
     "name": "stderr",
     "output_type": "stream",
     "text": [
      "Fitting classifier: 9.00 seconds\n"
     ]
    },
    {
     "name": "stdout",
     "output_type": "stream",
     "text": [
      "Amb\n"
     ]
    },
    {
     "name": "stderr",
     "output_type": "stream",
     "text": [
      "Fitting classifier: 5.22 seconds\n"
     ]
    },
    {
     "name": "stdout",
     "output_type": "stream",
     "text": [
      "12N\n"
     ]
    },
    {
     "name": "stderr",
     "output_type": "stream",
     "text": [
      "Fitting classifier: 13.23 seconds\n"
     ]
    },
    {
     "name": "stdout",
     "output_type": "stream",
     "text": [
      "RMC\n"
     ]
    },
    {
     "name": "stderr",
     "output_type": "stream",
     "text": [
      "Fitting classifier: 7.18 seconds\n"
     ]
    },
    {
     "name": "stdout",
     "output_type": "stream",
     "text": [
      "Sp5O\n"
     ]
    },
    {
     "name": "stderr",
     "output_type": "stream",
     "text": [
      "Fitting classifier: 15.62 seconds\n"
     ]
    },
    {
     "name": "stdout",
     "output_type": "stream",
     "text": [
      "Sp5I\n"
     ]
    },
    {
     "name": "stderr",
     "output_type": "stream",
     "text": [
      "Fitting classifier: 22.04 seconds\n"
     ]
    },
    {
     "name": "stdout",
     "output_type": "stream",
     "text": [
      "Sp5C\n"
     ]
    },
    {
     "name": "stderr",
     "output_type": "stream",
     "text": [
      "Fitting classifier: 19.59 seconds\n"
     ]
    },
    {
     "name": "stdout",
     "output_type": "stream",
     "text": [
      "VCP\n"
     ]
    },
    {
     "name": "stderr",
     "output_type": "stream",
     "text": [
      "Fitting classifier: 26.12 seconds\n"
     ]
    },
    {
     "name": "stdout",
     "output_type": "stream",
     "text": [
      "AP\n"
     ]
    },
    {
     "name": "stderr",
     "output_type": "stream",
     "text": [
      "Fitting classifier: 8.89 seconds\n"
     ]
    },
    {
     "name": "stdout",
     "output_type": "stream",
     "text": [
      "PBG\n"
     ]
    },
    {
     "name": "stderr",
     "output_type": "stream",
     "text": [
      "Fitting classifier: 10.92 seconds\n"
     ]
    },
    {
     "name": "stdout",
     "output_type": "stream",
     "text": [
      "LRt\n"
     ]
    },
    {
     "name": "stderr",
     "output_type": "stream",
     "text": [
      "Fitting classifier: 16.62 seconds\n"
     ]
    },
    {
     "name": "stdout",
     "output_type": "stream",
     "text": [
      "IC\n"
     ]
    },
    {
     "name": "stderr",
     "output_type": "stream",
     "text": [
      "Fitting classifier: 21.62 seconds\n"
     ]
    },
    {
     "name": "stdout",
     "output_type": "stream",
     "text": [
      "LC\n"
     ]
    },
    {
     "name": "stderr",
     "output_type": "stream",
     "text": [
      "Fitting classifier: 11.90 seconds\n"
     ]
    },
    {
     "name": "stdout",
     "output_type": "stream",
     "text": [
      "4N\n"
     ]
    },
    {
     "name": "stderr",
     "output_type": "stream",
     "text": [
      "Fitting classifier: 3.42 seconds\n"
     ]
    },
    {
     "name": "stdout",
     "output_type": "stream",
     "text": [
      "SNC\n"
     ]
    },
    {
     "name": "stderr",
     "output_type": "stream",
     "text": [
      "Fitting classifier: 12.04 seconds\n"
     ]
    },
    {
     "name": "stdout",
     "output_type": "stream",
     "text": [
      "6N\n"
     ]
    },
    {
     "name": "stderr",
     "output_type": "stream",
     "text": [
      "Fitting classifier: 3.39 seconds\n"
     ]
    },
    {
     "name": "stdout",
     "output_type": "stream",
     "text": [
      "SNR\n"
     ]
    },
    {
     "name": "stderr",
     "output_type": "stream",
     "text": [
      "Fitting classifier: 14.21 seconds\n"
     ]
    },
    {
     "name": "stdout",
     "output_type": "stream",
     "text": [
      "SC\n"
     ]
    },
    {
     "name": "stderr",
     "output_type": "stream",
     "text": [
      "Fitting classifier: 25.87 seconds\n"
     ]
    },
    {
     "name": "stdout",
     "output_type": "stream",
     "text": [
      "3N\n"
     ]
    },
    {
     "name": "stderr",
     "output_type": "stream",
     "text": [
      "Fitting classifier: 7.38 seconds\n"
     ]
    }
   ],
   "source": [
    "# train classifiers\n",
    "\n",
    "clf_dir = create_if_not_exists(os.path.join(clf_rootdir, 'classifiers'))\n",
    "\n",
    "# for label in structures:\n",
    "for label in existing_names:\n",
    "            \n",
    "    print label\n",
    "    \n",
    "    features_pos = training_features[label]\n",
    "    n_pos = len(features_pos)\n",
    "    \n",
    "    if train_sample_scheme in [1, 3, 4, 5, 6, 7]:\n",
    "        neg_classes = [convert_to_surround_name(label, margin=margin, suffix='noclass')]\n",
    "    elif train_sample_scheme == 2:\n",
    "        neg_classes = [convert_to_surround_name(label, margin=margin, suffix='noclass')]        \n",
    "        for surr_l in structures:\n",
    "            c = convert_to_surround_name(label, margin=margin, suffix=surr_l)\n",
    "            if c in labels:\n",
    "                neg_classes.append(c)\n",
    "    elif train_sample_scheme in [8,9]:\n",
    "        neg_classes = [label + '_negative']\n",
    "    else:\n",
    "        sys.stderr.write('training scheme is not recognized.\\n')\n",
    "\n",
    "    features_neg = np.concatenate([training_features[neg_class] for neg_class in neg_classes])\n",
    "        \n",
    "    n_neg = len(features_neg)\n",
    "    \n",
    "    ###########################################################################################\n",
    "\n",
    "    train_data0 = np.r_[features_pos, features_neg]\n",
    "    train_labels0 = np.r_[np.ones((features_pos.shape[0], )), \n",
    "                         -np.ones((features_neg.shape[0], ))]\n",
    "    \n",
    "#     n_train = len(train_labels0)\n",
    "#     ri = np.random.choice(range(n_train), size=100, replace=False)\n",
    "#     train_data = train_data0[ri]\n",
    "#     train_labels = train_labels0[ri]\n",
    "\n",
    "    train_data = train_data0\n",
    "    train_labels = train_labels0\n",
    "    \n",
    "#     svc = SVC(C=1.0, kernel='rbf', degree=3, gamma='auto', coef0=0.0, shrinking=True, \n",
    "#           probability=True, tol=0.001, cache_size=1000, class_weight=None, verbose=False, \n",
    "#           max_iter=-1, decision_function_shape=None, random_state=None)\n",
    "\n",
    "    if train_sample_scheme in [1, 8, 9]:\n",
    "        # 1 - L2 penalty - train: 0.88, test acc: 0.84\n",
    "        clf = LogisticRegression(penalty='l2', dual=False, tol=0.0001, C=1.0, \n",
    "                                 fit_intercept=True, intercept_scaling=1, class_weight=None, \n",
    "                                 random_state=None, solver='liblinear', max_iter=100, multi_class='ovr', \n",
    "                                 verbose=0, warm_start=False, n_jobs=1)\n",
    "\n",
    "    elif train_sample_scheme == 2:\n",
    "        # L1 penalty - test acc: 0.818\n",
    "        clf = LogisticRegression(penalty='l2', dual=False, tol=0.0001, C=1.0, \n",
    "                                 fit_intercept=True, intercept_scaling=1, class_weight=None, \n",
    "                                 solver='liblinear', max_iter=100, multi_class='ovr', \n",
    "                                 verbose=0, warm_start=False, n_jobs=1)\n",
    "\n",
    "            \n",
    "    elif train_sample_scheme == 3:\n",
    "        # Slow - train acc: 0.69, test acc: 0.68\n",
    "        clf = SVC(C=1.0, kernel='linear', degree=3, gamma='auto', coef0=0.0, shrinking=True, \n",
    "                  probability=True, tol=0.001, cache_size=1000, max_iter=-1,\n",
    "              decision_function_shape=None, random_state=None)\n",
    "        \n",
    "\n",
    "    elif train_sample_scheme == 4:\n",
    "        # train 0.75, test 0.74\n",
    "        \n",
    "        sv_uncalibrated = LinearSVC(penalty='l2', loss='squared_hinge', dual=True, tol=0.0001, \n",
    "                                C=1.0, multi_class='ovr', \n",
    "                                fit_intercept=True, intercept_scaling=1, max_iter=100)\n",
    "        clf = CalibratedClassifierCV(sv_uncalibrated)\n",
    "        \n",
    "        \n",
    "    elif train_sample_scheme == 5:        \n",
    "        # http://xgboost.readthedocs.io/en/latest/python/python_api.html\n",
    "        clf = XGBClassifier(max_depth=3, learning_rate=0.2, n_estimators=200, \n",
    "                            silent=False, objective='binary:logistic', nthread=-1, gamma=0, \n",
    "                            min_child_weight=20, max_delta_step=0, subsample=.8, \n",
    "                            colsample_bytree=.8, colsample_bylevel=1, reg_alpha=0, reg_lambda=1, \n",
    "                            scale_pos_weight=1, base_score=0.5, seed=0, missing=None)\n",
    "        \n",
    "    elif train_sample_scheme == 6:\n",
    "        # acc: 0.96/0.85\n",
    "        \n",
    "        # http://scikit-learn.org/stable/modules/generated/sklearn.ensemble.GradientBoostingClassifier.html\n",
    "        clf = GradientBoostingClassifier(loss='deviance', learning_rate=0.3, n_estimators=200, \n",
    "                                         subsample=1., criterion='friedman_mse', \n",
    "                                         min_samples_split=50, min_samples_leaf=20, \n",
    "                                         min_weight_fraction_leaf=0.0, max_depth=3, \n",
    "                                         min_impurity_split=1e-07, init=None, random_state=None, \n",
    "                                         max_features=None, verbose=1, max_leaf_nodes=None, \n",
    "                                         warm_start=False, presort='auto')\n",
    "        \n",
    "    elif train_sample_scheme == 7:\n",
    "        # acc: 0.98/0.87\n",
    "        \n",
    "        # http://scikit-learn.org/stable/modules/generated/sklearn.ensemble.GradientBoostingClassifier.html\n",
    "        clf = GradientBoostingClassifier(loss='deviance', learning_rate=0.3, n_estimators=100, \n",
    "                                         subsample=1., criterion='friedman_mse', \n",
    "                                         min_samples_split=50, min_samples_leaf=20, \n",
    "                                         min_weight_fraction_leaf=0.0, max_depth=5, \n",
    "                                         min_impurity_split=1e-07, init=None, random_state=None, \n",
    "                                         max_features=None, verbose=1, max_leaf_nodes=None, \n",
    "                                         warm_start=False, presort='auto')\n",
    "        \n",
    "    \n",
    "    else:\n",
    "        sys.stderr.write('training scheme is not recognized.\\n')\n",
    " \n",
    "    \n",
    "    t = time.time()\n",
    "    \n",
    "    if train_sample_scheme == 9:\n",
    "        \n",
    "        neg_distances = np.concatenate([distances_to_structures[neg_class][label] for neg_class in neg_classes])\n",
    "            \n",
    "        sample_weights_neg = np.ones((n_neg,))\n",
    "        sample_weights_neg[neg_distances > thresh] = diminishing(neg_distances[neg_distances > thresh])\n",
    "        sample_weights = np.r_[np.ones((n_pos,)), sample_weights_neg]\n",
    "            \n",
    "        clf.fit(train_data, train_labels, sample_weight=sample_weights)\n",
    "    else:\n",
    "        clf.fit(train_data, train_labels)\n",
    "        \n",
    "    sys.stderr.write('Fitting classifier: %.2f seconds\\n' % (time.time() - t))\n",
    "\n",
    "    \n",
    "    joblib.dump(clf, clf_dir + '/%(label)s_clf_trainSampleScheme_%(scheme)d.dump' % {'label': label, 'scheme':train_sample_scheme})"
   ]
  },
  {
   "cell_type": "markdown",
   "metadata": {},
   "source": [
    "# Load pre-computed svm classifiers"
   ]
  },
  {
   "cell_type": "code",
   "execution_count": 73,
   "metadata": {
    "collapsed": false
   },
   "outputs": [
    {
     "name": "stderr",
     "output_type": "stream",
     "text": [
      "Cannot import mxnet.\n",
      "Cannot import mxnet.\n"
     ]
    }
   ],
   "source": [
    "svc_allClasses = {label: joblib.load(os.path.join(clf_rootdir, 'classifiers', '%(label)s_clf_trainSampleScheme_%(scheme)d.dump' % {'label': label, 'scheme':train_sample_scheme}))\n",
    "                  for label in existing_names}"
   ]
  },
  {
   "cell_type": "code",
   "execution_count": 74,
   "metadata": {
    "collapsed": false
   },
   "outputs": [
    {
     "data": {
      "image/png": "[encoded data removed]",
      "text/plain": [
       "<matplotlib.figure.Figure at 0x490a1c50>"
      ]
     },
     "metadata": {},
     "output_type": "display_data"
    }
   ],
   "source": [
    "# Compute training accuracy\n",
    "\n",
    "acc_all_structures = {}\n",
    "\n",
    "ncols = 5\n",
    "nrows = int(np.ceil(len(existing_names)/float(ncols)))\n",
    "\n",
    "fig, axes = plt.subplots(nrows, ncols, figsize=(ncols*2, nrows*2), sharex=True, sharey=True)\n",
    "axes = axes.flatten()\n",
    "\n",
    "# for i, label in enumerate(structures):\n",
    "for i, label in enumerate(existing_names):\n",
    "    \n",
    "    features_pos = training_features[label]\n",
    "    n_pos = len(features_pos)\n",
    "    \n",
    "    if train_sample_scheme in [1, 3, 4, 5, 6, 7]:\n",
    "        neg_classes = [convert_to_surround_name(label, margin=margin, suffix='noclass')]\n",
    "    elif train_sample_scheme == 2:\n",
    "        neg_classes = [convert_to_surround_name(label, margin=margin, suffix='noclass')]            \n",
    "        for surr_l in structures:\n",
    "            c = convert_to_surround_name(label, margin=margin, suffix=surr_l)\n",
    "            if c in labels:\n",
    "                neg_classes.append(c)\n",
    "    elif train_sample_scheme in [8,9]:\n",
    "        neg_classes = [label + '_negative']\n",
    "    else:\n",
    "        sys.stderr.write('training scheme is not recognized.\\n')\n",
    "\n",
    "    features_neg = np.concatenate([training_features[neg_class] for neg_class in neg_classes])\n",
    "#     neg_distances = np.concatenate([distances_to_structures[neg_class][label] for neg_class in neg_classes])\n",
    "        \n",
    "    n_neg = len(features_neg)\n",
    "    \n",
    "    train_data = np.r_[features_pos, features_neg]\n",
    "    train_labels = np.r_[np.ones((features_pos.shape[0], )), \n",
    "                         -np.ones((features_neg.shape[0], ))]\n",
    "    \n",
    "    svc = svc_allClasses[label]\n",
    "    \n",
    "    probs = svc.predict_proba(train_data)[:, svc.classes_.tolist().index(1.)]\n",
    "    cm = compute_confusion_matrix(np.c_[probs, 1-probs], [0 if l==1. else 1 for l in train_labels], soft=True)\n",
    "    \n",
    "    acc_all_structures[label] = (n_pos*cm[0,0] + n_neg*cm[1,1])/(n_pos + n_neg)\n",
    "    \n",
    "    plot_confusion_matrix(cm, title='%(label)s'% {'label':label},\n",
    "                          labels=['',''],\n",
    "#                           labels=[label, convert_to_surround_name(label)],\n",
    "                         axis=axes[i])\n",
    "#     plt.show();\n",
    "\n",
    "plt.tight_layout()"
   ]
  },
  {
   "cell_type": "code",
   "execution_count": 75,
   "metadata": {
    "collapsed": false
   },
   "outputs": [
    {
     "name": "stdout",
     "output_type": "stream",
     "text": [
      "training accuracy: 0.957362878821\n"
     ]
    }
   ],
   "source": [
    "print 'training accuracy:', np.mean(acc_all_structures.values())"
   ]
  },
  {
   "cell_type": "code",
   "execution_count": null,
   "metadata": {
    "collapsed": true
   },
   "outputs": [],
   "source": []
  },
  {
   "cell_type": "code",
   "execution_count": null,
   "metadata": {
    "collapsed": true
   },
   "outputs": [],
   "source": [
    "# visualize training patches\n",
    "\n",
    "patches = extract_patches_given_locations_multiple_sections(sampled_addresses['AP'], 'grid_index')\n",
    "display_images_in_grids(patches, 5)\n",
    "\n",
    "patches = extract_patches_given_locations_multiple_sections(sampled_addresses['AP_surround'], 'grid_index')\n",
    "display_images_in_grids(patches, 5, titles=sampled_addresses['AP_surround'])\n",
    "\n",
    "# Visualize a patch in context\n",
    "\n",
    "patch_size, stride, _, _ = get_default_gridspec('MD589')\n",
    "grid_locations = grid_parameters_to_sample_locations(get_default_gridspec('MD589'))\n",
    "viz = patch_boxes_overlay_on('original', 8, \n",
    "                       [grid_locations[44453]],\n",
    "                      patch_size=patch_size,\n",
    "                      stack='MD589',\n",
    "                       sec=219)\n",
    "display_image(viz)"
   ]
  }
 ],
 "metadata": {
  "kernelspec": {
   "display_name": "Python 2",
   "language": "python",
   "name": "python2"
  },
  "language_info": {
   "codemirror_mode": {
    "name": "ipython",
    "version": 2
   },
   "file_extension": ".py",
   "mimetype": "text/x-python",
   "name": "python",
   "nbconvert_exporter": "python",
   "pygments_lexer": "ipython2",
   "version": "2.7.3"
  }
 },
 "nbformat": 4,
 "nbformat_minor": 0
}
