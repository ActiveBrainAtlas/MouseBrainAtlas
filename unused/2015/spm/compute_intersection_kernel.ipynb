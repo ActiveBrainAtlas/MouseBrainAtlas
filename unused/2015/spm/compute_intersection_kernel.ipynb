{
 "cells": [
  {
   "cell_type": "code",
   "execution_count": 1,
   "metadata": {
    "collapsed": true
   },
   "outputs": [],
   "source": [
    "%reload_ext autoreload\n",
    "%autoreload 2\n",
    "\n",
    "import os\n",
    "import argparse\n",
    "import sys\n",
    "from time import time\n",
    "\n",
    "sys.path.append(os.path.join(os.environ['REPO_DIR'], 'utilities'))\n",
    "from utilities2015 import *\n",
    "\n",
    "from matplotlib.path import Path\n",
    "%matplotlib inline\n",
    "\n",
    "import scipy\n",
    "from sklearn import svm\n",
    "from sklearn.metrics import confusion_matrix\n",
    "from multiprocessing import Pool\n",
    "\n",
    "import random\n",
    "from itertools import product"
   ]
  },
  {
   "cell_type": "code",
   "execution_count": 2,
   "metadata": {
    "collapsed": false
   },
   "outputs": [
    {
     "name": "stdout",
     "output_type": "stream",
     "text": [
      "(188118, 4200)\n",
      "(188118,)\n",
      "<type 'list'>\n"
     ]
    }
   ],
   "source": [
    "X = np.load('/oasis/projects/nsf/csd395/ruogu/svm2/X.npy');\n",
    "y = np.load('/oasis/projects/nsf/csd395/ruogu/svm2/y.npy');\n",
    "print \"%s\" %(X.shape,);\n",
    "print \"%s\" %(y.shape,);\n",
    "raw_data = zip(X, y);\n",
    "print type(raw_data);"
   ]
  },
  {
   "cell_type": "code",
   "execution_count": 3,
   "metadata": {
    "collapsed": true
   },
   "outputs": [],
   "source": [
    "data = [];\n",
    "n_classSample = 1000; # Number of samples from each class\n",
    "for i in range(0, 10):\n",
    "    data_for_class = [x for x in raw_data if x[1] == i];\n",
    "    data = data + random.sample(data_for_class, n_classSample);\n",
    "# data is a list of (ndarray, int)\n",
    "random.shuffle(data);\n",
    "quota = 0.75;\n",
    "n_training = int(len(data) * quota);\n",
    "n_testing = len(data) - n_training;"
   ]
  },
  {
   "cell_type": "code",
   "execution_count": 4,
   "metadata": {
    "collapsed": true
   },
   "outputs": [],
   "source": [
    "training_data = data[:n_training];\n",
    "testing_data = data[n_training:];"
   ]
  },
  {
   "cell_type": "code",
   "execution_count": 5,
   "metadata": {
    "collapsed": true
   },
   "outputs": [],
   "source": [
    "training_X = np.asarray([x[0] for x in training_data]);\n",
    "training_y = np.asarray([x[1] for x in training_data]);\n",
    "testing_X = np.asarray([x[0] for x in testing_data]);\n",
    "testing_y = np.asarray([x[1] for x in testing_data]);"
   ]
  },
  {
   "cell_type": "code",
   "execution_count": 6,
   "metadata": {
    "collapsed": false
   },
   "outputs": [
    {
     "name": "stdout",
     "output_type": "stream",
     "text": [
      "Shape of training data: (7500, 4200)\n",
      "Shape of training label: (7500,)\n",
      "Shape of testing data: (2500, 4200)\n",
      "Shape of testing label: (2500,)\n"
     ]
    }
   ],
   "source": [
    "print \"Shape of training data: %s\" %(training_X.shape,);\n",
    "print \"Shape of training label: %s\" %(training_y.shape,);\n",
    "print \"Shape of testing data: %s\" %(testing_X.shape,);\n",
    "print \"Shape of testing label: %s\" %(testing_y.shape,);"
   ]
  },
  {
   "cell_type": "code",
   "execution_count": 18,
   "metadata": {
    "collapsed": false
   },
   "outputs": [
    {
     "name": "stdout",
     "output_type": "stream",
     "text": [
      "44.0860569477\n"
     ]
    }
   ],
   "source": [
    "# serial version\n",
    "n_train = training_X.shape[0]\n",
    "a = np.empty((n_train, n_train))\n",
    "\n",
    "import time\n",
    "t = time.time()\n",
    "for i in range(n_train)[:1000]:\n",
    "    a[i] = .5 * np.sum(training_X + training_X[i] - np.abs(training_X - training_X[i]), axis=1)\n",
    "print time.time() - t"
   ]
  },
  {
   "cell_type": "code",
   "execution_count": 21,
   "metadata": {
    "collapsed": true
   },
   "outputs": [],
   "source": [
    "# parallel version\n",
    "from joblib import Parallel, delayed\n",
    "\n",
    "def f(i):\n",
    "    return .5 * np.sum(training_X + training_X[i] - np.abs(training_X - training_X[i]), axis=1)\n",
    "\n",
    "import time\n",
    "t = time.time()\n",
    "\n",
    "n_train = training_X.shape[0]\n",
    "res = Parallel(n_jobs=16)(delayed(f)(i) for i in range(n_train))\n",
    "\n",
    "print time.time() - t"
   ]
  }
 ],
 "metadata": {
  "kernelspec": {
   "display_name": "Python 2",
   "language": "python",
   "name": "python2"
  },
  "language_info": {
   "codemirror_mode": {
    "name": "ipython",
    "version": 2
   },
   "file_extension": ".py",
   "mimetype": "text/x-python",
   "name": "python",
   "nbconvert_exporter": "python",
   "pygments_lexer": "ipython2",
   "version": "2.7.3"
  }
 },
 "nbformat": 4,
 "nbformat_minor": 0
}
