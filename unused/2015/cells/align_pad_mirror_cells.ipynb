{
 "cells": [
  {
   "cell_type": "code",
   "execution_count": 1,
   "metadata": {
    "collapsed": false
   },
   "outputs": [
    {
     "name": "stdout",
     "output_type": "stream",
     "text": [
      "Setting environment for Gordon\n"
     ]
    },
    {
     "name": "stderr",
     "output_type": "stream",
     "text": [
      "No vtk\n"
     ]
    }
   ],
   "source": [
    "%reload_ext autoreload\n",
    "%autoreload 2\n",
    "\n",
    "\"\"\"\n",
    "Align cells, pad to the same size, generate other three mirroring versions.\n",
    "\"\"\"\n",
    "\n",
    "import os\n",
    "import sys\n",
    "import time\n",
<<<<<<< HEAD
=======
    "import cv2\n",
>>>>>>> 36d6bced88259b6de3c3cd1c44e01fabce6073f9
    "\n",
    "sys.path.append(os.path.join(os.environ['REPO_DIR'], 'utilities'))\n",
    "from utilities2015 import *\n",
    "from data_manager import *\n",
    "from metadata import *\n",
    "\n",
    "import matplotlib.pyplot as plt\n",
    "%matplotlib inline\n",
    "\n",
    "from skimage.transform import rotate\n",
    "from multiprocess import Pool\n",
    "\n",
<<<<<<< HEAD
=======
    "import pandas\n",
    "\n",
>>>>>>> 36d6bced88259b6de3c3cd1c44e01fabce6073f9
    "from cell_utilities import *"
   ]
  },
  {
   "cell_type": "code",
   "execution_count": 2,
   "metadata": {
    "collapsed": true
   },
   "outputs": [],
   "source": [
<<<<<<< HEAD
    "stack = 'MD594'"
=======
    "stack = 'MD589'"
>>>>>>> 36d6bced88259b6de3c3cd1c44e01fabce6073f9
   ]
  },
  {
   "cell_type": "code",
   "execution_count": 3,
   "metadata": {
<<<<<<< HEAD
=======
    "collapsed": false
   },
   "outputs": [],
   "source": [
    "DETECTED_CELLS_ROOTDIR = '/home/yuncong/csd395/CSHL_cells_v2/detected_cells/'\n",
    "PROCESSED_CELLS_ROOTDIR = '/home/yuncong/csd395/CSHL_cells_v2/processed_cells'"
   ]
  },
  {
   "cell_type": "code",
   "execution_count": 4,
   "metadata": {
>>>>>>> 36d6bced88259b6de3c3cd1c44e01fabce6073f9
    "collapsed": true
   },
   "outputs": [],
   "source": [
<<<<<<< HEAD
    "# all_shapes = []\n",
    "# for sec in range(first_bs_section, last_bs_section+1):\n",
    "#     masks = load_cell_data('mask', stack=stack, sec=sec)\n",
    "#     if masks is not None:\n",
    "#         shapes = [m.shape for m in masks.tolist()]\n",
    "#         all_shapes += shapes\n",
    "\n",
    "# common_shape = np.percentile(all_shapes, 99, axis=0).astype(np.int)\n",
    "# print common_shape\n",
    "\n",
    "common_shape = (57,62)"
=======
    "def load_data(fp):\n",
    "    \n",
    "    if fp.endswith('bp'):\n",
    "        data = bp.unpack_ndarray_file(fp)\n",
    "    elif fp.endswith('jpg'):\n",
    "        data = imread(fp)\n",
    "    elif fp.endswith('hdf'):\n",
    "        data = pandas.read_hdf(fp)\n",
    "    else:\n",
    "        raise Exception('Not recognized.')\n",
    "        \n",
    "    return data\n",
    "\n",
    "def get_cell_data_filepath(what, stack, sec=None, fn=None):\n",
    "    \n",
    "    if fn is None:\n",
    "        assert sec is not None\n",
    "        fn = metadata_cache['sections_to_filenames'][stack][sec]\n",
    "        if fn in ['Placeholder', 'Nonexisting', 'Rescan']:\n",
    "            sys.stderr.write('This section is invalid.\\n')\n",
    "            return\n",
    "    \n",
    "    if what == 'orientation':\n",
    "        fn_template = '%(fn)s_blobOrientations.bp'\n",
    "    elif what == 'major':\n",
    "        fn_template = '%(fn)s_blobMajorAxisLen.bp'\n",
    "    elif what == 'minor':\n",
    "        fn_template = '%(fn)s_blobMinorAxisLen.bp'\n",
    "    elif what == 'mask_center':\n",
    "        fn_template = '%(fn)s_blobMaskCenters.bp'\n",
    "    elif what == 'mask':\n",
    "        fn_template = '%(fn)s_blobMasks.hdf'\n",
    "    elif what == 'centroid':\n",
    "        fn_template = '%(fn)s_blobCentroids.bp'\n",
    "    elif what == 'contours':\n",
    "        fn_template = '%(fn)s_blobContours.hdf'\n",
    "    elif what == 'image':\n",
    "        fn_template = '%(fn)s_image.jpg'\n",
    "    elif what == 'cells_aligned':\n",
    "        fn_template = '%(fn)s_cells_aligned.hdf'\n",
    "    elif what == 'cells_aligned_h':\n",
    "        fn_template = '%(fn)s_cells_aligned_h.hdf'\n",
    "    elif what == 'cells_aligned_v':\n",
    "        fn_template = '%(fn)s_cells_aligned_v.hdf'\n",
    "    elif what == 'cells_aligned_d':\n",
    "        fn_template = '%(fn)s_cells_aligned_d.hdf'\n",
    "    else:\n",
    "        raise Exception('Not recognized.')\n",
    "\n",
    "    fp = os.path.join(DETECTED_CELLS_ROOTDIR, stack, fn, fn_template % {'fn': fn})\n",
    "    return fp\n",
    "    \n",
    "def load_cell_data(what, stack, sec):\n",
    "    \n",
    "    fp = get_cell_data_filepath(what, stack, sec)\n",
    "    data = load_data(fp)\n",
    "            \n",
    "    return data"
>>>>>>> 36d6bced88259b6de3c3cd1c44e01fabce6073f9
   ]
  },
  {
   "cell_type": "code",
<<<<<<< HEAD
   "execution_count": 25,
=======
   "execution_count": 9,
>>>>>>> 36d6bced88259b6de3c3cd1c44e01fabce6073f9
   "metadata": {
    "collapsed": false
   },
   "outputs": [],
   "source": [
<<<<<<< HEAD
    "def align_pad_cells(stack, sec, common_shape):\n",
=======
    "def rotate_cells(stack, sec):\n",
>>>>>>> 36d6bced88259b6de3c3cd1c44e01fabce6073f9
    "    \"\"\"\n",
    "    Rotate cells so that its major axis is horizontal.\n",
    "    Mirror in three ways.\n",
    "    Output as hdf file.\n",
    "    \"\"\"\n",
    "\n",
    "    sys.stderr.write('Processing section: %03d\\n' % sec)\n",
    "\n",
    "    try:\n",
    "        blob_orientations = load_cell_data('orientation', stack, sec)\n",
    "        blob_masks = load_cell_data('mask', stack, sec)\n",
    "        blob_mask_centers = load_cell_data('mask_center', stack, sec)\n",
    "    except:\n",
    "        sys.stderr.write('ERROR: %d\\n' % sec)\n",
<<<<<<< HEAD
    "        return\n",
=======
>>>>>>> 36d6bced88259b6de3c3cd1c44e01fabce6073f9
    "\n",
    "    n_blobs = len(blob_masks)\n",
    "\n",
    "    t = time.time()\n",
    "\n",
<<<<<<< HEAD
    "    # Align major axis\n",
=======
>>>>>>> 36d6bced88259b6de3c3cd1c44e01fabce6073f9
    "    cells_aligned = [rotate(blob_masks[i], angle=-np.rad2deg(blob_orientations[i]),\n",
    "                               center=blob_mask_centers[i],\n",
    "                               cval=0.) > .5\n",
    "                    for i in range(n_blobs)]\n",
<<<<<<< HEAD
=======
    "\n",
>>>>>>> 36d6bced88259b6de3c3cd1c44e01fabce6073f9
    "    cells_aligned_h = [m[:, ::-1] for m in cells_aligned]\n",
    "    cells_aligned_v = [m[::-1, :] for m in cells_aligned]\n",
    "    cells_aligned_d = [m[::-1, ::-1] for m in cells_aligned]\n",
    "\n",
    "    sys.stderr.write('Rotate cell masks: %.2f\\n' % (time.time() - t)) # 60s\n",
    "\n",
<<<<<<< HEAD
    "#     save_hdf_v2(cells_aligned, get_cell_data_filepath('cells_aligned', stack, sec))\n",
    "#     save_hdf_v2(cells_aligned_h, get_cell_data_filepath('cells_aligned_h', stack, sec))\n",
    "#     save_hdf_v2(cells_aligned_v, get_cell_data_filepath('cells_aligned_v', stack, sec))\n",
    "#     save_hdf_v2(cells_aligned_d, get_cell_data_filepath('cells_aligned_d', stack, sec))\n",
    "    \n",
    "    \n",
    "    cells_padded = pad_patches_to_same_size(cells_aligned, pad_value=0, keep_center=True, common_shape=common_shape)\n",
    "    bp.pack_ndarray_file(np.asarray(cells_padded), get_cell_data_filepath('cells_aligned_padded', stack, sec))\n",
    "    \n",
    "    cells_padded_h = pad_patches_to_same_size(cells_aligned_h, pad_value=0, keep_center=True, common_shape=common_shape)\n",
    "    bp.pack_ndarray_file(np.asarray(cells_padded_h), get_cell_data_filepath('cells_aligned_padded_h', stack, sec))\n",
    "    \n",
    "    cells_padded_v = pad_patches_to_same_size(cells_aligned_v, pad_value=0, keep_center=True, common_shape=common_shape)\n",
    "    bp.pack_ndarray_file(np.asarray(cells_padded_v), get_cell_data_filepath('cells_aligned_padded_v', stack, sec))\n",
    "    \n",
    "    cells_padded_d = pad_patches_to_same_size(cells_aligned_d, pad_value=0, keep_center=True, common_shape=common_shape)\n",
    "    bp.pack_ndarray_file(np.asarray(cells_padded_d), get_cell_data_filepath('cells_aligned_padded_d', stack, sec))"
=======
    "    save_hdf_v2(cells_aligned, get_cell_data_filepath('cells_aligned', stack, sec))\n",
    "    save_hdf_v2(cells_aligned_h, get_cell_data_filepath('cells_aligned_h', stack, sec))\n",
    "    save_hdf_v2(cells_aligned_v, get_cell_data_filepath('cells_aligned_v', stack, sec))\n",
    "    save_hdf_v2(cells_aligned_d, get_cell_data_filepath('cells_aligned_d', stack, sec))"
>>>>>>> 36d6bced88259b6de3c3cd1c44e01fabce6073f9
   ]
  },
  {
   "cell_type": "code",
<<<<<<< HEAD
   "execution_count": 31,
=======
   "execution_count": 6,
>>>>>>> 36d6bced88259b6de3c3cd1c44e01fabce6073f9
   "metadata": {
    "collapsed": true
   },
   "outputs": [],
   "source": [
    "first_bs_section, last_bs_section = metadata_cache['section_limits'][stack]"
   ]
  },
  {
   "cell_type": "code",
<<<<<<< HEAD
   "execution_count": null,
=======
   "execution_count": 7,
>>>>>>> 36d6bced88259b6de3c3cd1c44e01fabce6073f9
   "metadata": {
    "collapsed": false
   },
   "outputs": [
    {
     "name": "stderr",
     "output_type": "stream",
     "text": [
<<<<<<< HEAD
      "Processing section: 097\n",
      "Processing section: 092\n",
      "Processing section: 102\n",
      "Processing section: 107\n",
      "Processing section: 112\n",
      "Processing section: 117\n",
      "Processing section: 122\n",
      "Processing section: 127\n",
      "Processing section: 132\n",
      "Processing section: 137\n",
      "Processing section: 142\n",
      "Processing section: 147\n",
      "Processing section: 152\n",
      "Processing section: 157\n",
      "Processing section: 162\n"
=======
      "Processing section: 092\n",
      "Processing section: 112\n",
      "Processing section: 097\n",
      "Processing section: 102\n",
      "Processing section: 107\n",
      "Processing section: 117\n",
      "Processing section: 122\n",
      "Processing section: 127\n",
      "Processing section: 137\n",
      "Processing section: 152\n",
      "Processing section: 142\n",
      "Processing section: 132\n",
      "Processing section: 147\n",
      "Processing section: 157\n",
      "Processing section: 162\n",
      "Rotate cell masks: 10.05\n",
      "/oasis/projects/nsf/csd395/yuncong/brain_virtualenv/lib/python2.7/site-packages/pandas/core/generic.py:1101: PerformanceWarning: \n",
      "your performance may suffer as PyTables will pickle object types that it cannot\n",
      "map directly to c-types [inferred_type->mixed,key->values] [items->None]\n",
      "\n",
      "  return pytables.to_hdf(path_or_buf, key, self, **kwargs)\n",
      "Rotate cell masks: 10.52\n",
      "/oasis/projects/nsf/csd395/yuncong/brain_virtualenv/lib/python2.7/site-packages/pandas/core/generic.py:1101: PerformanceWarning: \n",
      "your performance may suffer as PyTables will pickle object types that it cannot\n",
      "map directly to c-types [inferred_type->mixed,key->values] [items->None]\n",
      "\n",
      "  return pytables.to_hdf(path_or_buf, key, self, **kwargs)\n",
      "Rotate cell masks: 11.64\n",
      "/oasis/projects/nsf/csd395/yuncong/brain_virtualenv/lib/python2.7/site-packages/pandas/core/generic.py:1101: PerformanceWarning: \n",
      "your performance may suffer as PyTables will pickle object types that it cannot\n",
      "map directly to c-types [inferred_type->mixed,key->values] [items->None]\n",
      "\n",
      "  return pytables.to_hdf(path_or_buf, key, self, **kwargs)\n",
      "Rotate cell masks: 11.92\n",
      "/oasis/projects/nsf/csd395/yuncong/brain_virtualenv/lib/python2.7/site-packages/pandas/core/generic.py:1101: PerformanceWarning: \n",
      "your performance may suffer as PyTables will pickle object types that it cannot\n",
      "map directly to c-types [inferred_type->mixed,key->values] [items->None]\n",
      "\n",
      "  return pytables.to_hdf(path_or_buf, key, self, **kwargs)\n",
      "Processing section: 108\n",
      "Rotate cell masks: 12.25\n",
      "/oasis/projects/nsf/csd395/yuncong/brain_virtualenv/lib/python2.7/site-packages/pandas/core/generic.py:1101: PerformanceWarning: \n",
      "your performance may suffer as PyTables will pickle object types that it cannot\n",
      "map directly to c-types [inferred_type->mixed,key->values] [items->None]\n",
      "\n",
      "  return pytables.to_hdf(path_or_buf, key, self, **kwargs)\n",
      "Rotate cell masks: 12.56\n",
      "/oasis/projects/nsf/csd395/yuncong/brain_virtualenv/lib/python2.7/site-packages/pandas/core/generic.py:1101: PerformanceWarning: \n",
      "your performance may suffer as PyTables will pickle object types that it cannot\n",
      "map directly to c-types [inferred_type->mixed,key->values] [items->None]\n",
      "\n",
      "  return pytables.to_hdf(path_or_buf, key, self, **kwargs)\n",
      "Processing section: 118\n",
      "ERROR: 118\n",
      "Processing section: 119\n",
      "Rotate cell masks: 13.29\n",
      "/oasis/projects/nsf/csd395/yuncong/brain_virtualenv/lib/python2.7/site-packages/pandas/core/generic.py:1101: PerformanceWarning: \n",
      "your performance may suffer as PyTables will pickle object types that it cannot\n",
      "map directly to c-types [inferred_type->mixed,key->values] [items->None]\n",
      "\n",
      "  return pytables.to_hdf(path_or_buf, key, self, **kwargs)\n",
      "Rotate cell masks: 13.90\n",
      "/oasis/projects/nsf/csd395/yuncong/brain_virtualenv/lib/python2.7/site-packages/pandas/core/generic.py:1101: PerformanceWarning: \n",
      "your performance may suffer as PyTables will pickle object types that it cannot\n",
      "map directly to c-types [inferred_type->mixed,key->values] [items->None]\n",
      "\n",
      "  return pytables.to_hdf(path_or_buf, key, self, **kwargs)\n",
      "Rotate cell masks: 13.85\n",
      "/oasis/projects/nsf/csd395/yuncong/brain_virtualenv/lib/python2.7/site-packages/pandas/core/generic.py:1101: PerformanceWarning: \n",
      "your performance may suffer as PyTables will pickle object types that it cannot\n",
      "map directly to c-types [inferred_type->mixed,key->values] [items->None]\n",
      "\n",
      "  return pytables.to_hdf(path_or_buf, key, self, **kwargs)\n",
      "Processing section: 143\n",
      "Rotate cell masks: 14.41\n",
      "/oasis/projects/nsf/csd395/yuncong/brain_virtualenv/lib/python2.7/site-packages/pandas/core/generic.py:1101: PerformanceWarning: \n",
      "your performance may suffer as PyTables will pickle object types that it cannot\n",
      "map directly to c-types [inferred_type->mixed,key->values] [items->None]\n",
      "\n",
      "  return pytables.to_hdf(path_or_buf, key, self, **kwargs)\n",
      "Processing section: 093\n",
      "Processing section: 098\n",
      "Processing section: 103\n",
      "Rotate cell masks: 15.73\n",
      "/oasis/projects/nsf/csd395/yuncong/brain_virtualenv/lib/python2.7/site-packages/pandas/core/generic.py:1101: PerformanceWarning: \n",
      "your performance may suffer as PyTables will pickle object types that it cannot\n",
      "map directly to c-types [inferred_type->mixed,key->values] [items->None]\n",
      "\n",
      "  return pytables.to_hdf(path_or_buf, key, self, **kwargs)\n",
      "Processing section: 123\n",
      "Rotate cell masks: 16.41\n",
      "/oasis/projects/nsf/csd395/yuncong/brain_virtualenv/lib/python2.7/site-packages/pandas/core/generic.py:1101: PerformanceWarning: \n",
      "your performance may suffer as PyTables will pickle object types that it cannot\n",
      "map directly to c-types [inferred_type->mixed,key->values] [items->None]\n",
      "\n",
      "  return pytables.to_hdf(path_or_buf, key, self, **kwargs)\n",
      "Rotate cell masks: 16.83\n",
      "/oasis/projects/nsf/csd395/yuncong/brain_virtualenv/lib/python2.7/site-packages/pandas/core/generic.py:1101: PerformanceWarning: \n",
      "your performance may suffer as PyTables will pickle object types that it cannot\n",
      "map directly to c-types [inferred_type->mixed,key->values] [items->None]\n",
      "\n",
      "  return pytables.to_hdf(path_or_buf, key, self, **kwargs)\n",
      "Processing section: 128\n",
      "Processing section: 113\n",
      "Processing section: 133\n",
      "Rotate cell masks: 17.67\n",
      "/oasis/projects/nsf/csd395/yuncong/brain_virtualenv/lib/python2.7/site-packages/pandas/core/generic.py:1101: PerformanceWarning: \n",
      "your performance may suffer as PyTables will pickle object types that it cannot\n",
      "map directly to c-types [inferred_type->mixed,key->values] [items->None]\n",
      "\n",
      "  return pytables.to_hdf(path_or_buf, key, self, **kwargs)\n",
      "Rotate cell masks: 18.23\n",
      "/oasis/projects/nsf/csd395/yuncong/brain_virtualenv/lib/python2.7/site-packages/pandas/core/generic.py:1101: PerformanceWarning: \n",
      "your performance may suffer as PyTables will pickle object types that it cannot\n",
      "map directly to c-types [inferred_type->mixed,key->values] [items->None]\n",
      "\n",
      "  return pytables.to_hdf(path_or_buf, key, self, **kwargs)\n",
      "Processing section: 148\n",
      "Processing section: 138\n",
      "Processing section: 153\n",
      "Processing section: 158\n",
      "Processing section: 163\n",
      "Rotate cell masks: 10.34\n",
      "Processing section: 109\n",
      "Rotate cell masks: 11.90\n",
      "Rotate cell masks: 13.74\n",
      "Rotate cell masks: 12.34\n",
      "Rotate cell masks: 10.58\n",
      "Rotate cell masks: 12.63\n",
      "Processing section: 094\n",
      "Rotate cell masks: 13.18\n",
      "Processing section: 120\n",
      "Processing section: 114\n",
      "Processing section: 099\n",
      "Processing section: 104\n",
      "Rotate cell masks: 13.81\n",
      "Rotate cell masks: 16.63\n",
      "Processing section: 124\n",
      "Rotate cell masks: 14.61\n",
      "Processing section: 129\n",
      "Processing section: 144\n",
      "Rotate cell masks: 10.37\n",
      "Rotate cell masks: 15.17\n",
      "Processing section: 134\n",
      "Rotate cell masks: 17.76\n",
      "Processing section: 110\n",
      "Rotate cell masks: 17.28\n",
      "Processing section: 139\n",
      "Rotate cell masks: 17.80\n",
      "Rotate cell masks: 18.14\n",
      "Rotate cell masks: 9.77\n",
      "Rotate cell masks: 10.65\n",
      "Processing section: 154\n",
      "Processing section: 149\n",
      "Rotate cell masks: 12.17\n",
      "Rotate cell masks: 12.22\n",
      "Processing section: 105\n",
      "Processing section: 159\n",
      "Processing section: 121\n",
      "Rotate cell masks: 13.74\n",
      "Processing section: 164\n",
      "Processing section: 095\n",
      "Processing section: 100\n",
      "Rotate cell masks: 13.61\n",
      "Processing section: 115\n",
      "Rotate cell masks: 10.46\n",
      "Rotate cell masks: 13.99\n",
      "Processing section: 125\n",
      "Processing section: 111\n",
      "Processing section: 130\n",
      "Rotate cell masks: 14.83\n",
      "Rotate cell masks: 16.55\n",
      "Processing section: 135\n",
      "Processing section: 145\n",
      "Rotate cell masks: 16.37\n",
      "Rotate cell masks: 12.84\n",
      "Rotate cell masks: 13.50\n",
      "Rotate cell masks: 12.21\n",
      "Rotate cell masks: 15.32\n",
      "Rotate cell masks: 12.43\n",
      "Rotate cell masks: 10.70\n",
      "Processing section: 140\n",
      "Processing section: 106\n",
      "Rotate cell masks: 17.26\n",
      "Processing section: 096\n",
      "Processing section: 167\n",
      "Processing section: 150\n",
      "Processing section: 101\n",
      "Processing section: 116\n",
      "Rotate cell masks: 10.66\n",
      "Rotate cell masks: 17.83\n",
      "Processing section: 155\n",
      "Rotate cell masks: 18.53\n",
      "Rotate cell masks: 13.70\n",
      "Processing section: 172\n",
      "Processing section: 160\n",
      "Processing section: 126\n",
      "Processing section: 165\n",
      "Rotate cell masks: 15.49\n",
      "Rotate cell masks: 15.04\n",
      "Processing section: 131\n",
      "Rotate cell masks: 15.56\n",
      "Rotate cell masks: 12.94\n",
      "Rotate cell masks: 12.22\n",
      "Processing section: 136\n",
      "Rotate cell masks: 12.35\n",
      "Rotate cell masks: 14.80\n",
      "Processing section: 146\n",
      "Rotate cell masks: 13.30\n",
      "Processing section: 177\n",
      "Processing section: 182\n",
      "Processing section: 187\n",
      "Processing section: 141\n",
      "Rotate cell masks: 16.48\n",
      "Processing section: 192\n",
      "Rotate cell masks: 16.98\n",
      "Rotate cell masks: 13.57\n",
      "Processing section: 168\n",
      "Rotate cell masks: 17.59\n",
      "Processing section: 151\n",
      "Processing section: 197\n",
      "Rotate cell masks: 17.99\n",
      "Rotate cell masks: 19.60\n",
      "Processing section: 156\n",
      "Rotate cell masks: 14.42\n",
      "Rotate cell masks: 19.26\n",
      "Processing section: 161\n",
      "Processing section: 173\n",
      "Processing section: 202\n",
      "Rotate cell masks: 12.01\n",
      "Rotate cell masks: 16.29\n",
      "Processing section: 166\n",
      "Rotate cell masks: 16.85\n",
      "Processing section: 207\n",
      "Processing section: 212\n",
      "Rotate cell masks: 19.07\n",
      "Rotate cell masks: 19.22\n",
      "Processing section: 217\n",
      "Rotate cell masks: 19.24\n",
      "Rotate cell masks: 19.72\n",
      "Rotate cell masks: 16.97\n",
      "Processing section: 178\n",
      "Processing section: 183\n",
      "Rotate cell masks: 17.14\n",
      "Processing section: 188\n",
      "Processing section: 169\n",
      "Processing section: 193\n",
      "Processing section: 222\n",
      "Rotate cell masks: 19.13\n",
      "Rotate cell masks: 17.81\n",
      "Rotate cell masks: 18.04\n",
      "Processing section: 198\n",
      "Processing section: 227\n",
      "Rotate cell masks: 18.76\n",
      "Rotate cell masks: 19.07\n",
      "Rotate cell masks: 14.91\n",
      "Processing section: 232\n",
      "Rotate cell masks: 14.65\n",
      "Processing section: 174\n",
      "Rotate cell masks: 19.37\n",
      "Rotate cell masks: 18.90\n",
      "Processing section: 213\n",
      "Processing section: 203\n",
      "Rotate cell masks: 13.88\n",
      "Processing section: 218\n",
      "Processing section: 237\n",
      "Processing section: 208\n",
      "Processing section: 184\n",
      "Rotate cell masks: 14.17\n",
      "Rotate cell masks: 19.62\n",
      "Rotate cell masks: 19.59\n",
      "Processing section: 223\n",
      "Rotate cell masks: 18.67\n",
      "Rotate cell masks: 19.20\n",
      "Processing section: 179\n",
      "Processing section: 189\n",
      "Processing section: 170\n",
      "Processing section: 194\n",
      "Rotate cell masks: 18.45\n",
      "Rotate cell masks: 19.34\n",
      "Rotate cell masks: 18.91\n",
      "Rotate cell masks: 15.46\n",
      "Processing section: 228\n",
      "Rotate cell masks: 17.43\n",
      "Processing section: 199\n",
      "Rotate cell masks: 19.36\n",
      "Rotate cell masks: 19.53\n",
      "Processing section: 219\n",
      "Processing section: 233\n",
      "Processing section: 214\n",
      "Rotate cell masks: 18.33\n",
      "Rotate cell masks: 19.12\n",
      "Processing section: 175\n",
      "Rotate cell masks: 19.24\n",
      "Processing section: 204\n",
      "Processing section: 209\n",
      "Processing section: 238\n",
      "Processing section: 185\n",
      "Rotate cell masks: 18.64\n",
      "Rotate cell masks: 19.23\n",
      "Processing section: 224\n",
      "Rotate cell masks: 18.46\n",
      "Rotate cell masks: 19.60\n",
      "Rotate cell masks: 19.20\n",
      "Processing section: 180\n",
      "Processing section: 171\n",
      "Processing section: 190\n",
      "Rotate cell masks: 18.05\n",
      "Processing section: 195\n",
      "Rotate cell masks: 14.97\n",
      "Rotate cell masks: 18.99\n",
      "Rotate cell masks: 17.54\n",
      "Processing section: 215\n",
      "Processing section: 229\n",
      "Rotate cell masks: 19.04\n",
      "Processing section: 200\n",
      "Rotate cell masks: 19.34\n",
      "Processing section: 220\n",
      "Rotate cell masks: 19.61\n",
      "Processing section: 234\n",
      "Rotate cell masks: 18.84\n",
      "Processing section: 176\n",
      "Rotate cell masks: 19.52\n",
      "Rotate cell masks: 19.36\n",
      "Processing section: 205\n",
      "Processing section: 210\n",
      "Rotate cell masks: 18.47\n",
      "Processing section: 186\n",
      "Processing section: 239\n",
      "Rotate cell masks: 19.38\n",
      "Processing section: 225\n",
      "Rotate cell masks: 19.24\n",
      "Rotate cell masks: 19.31\n",
      "Rotate cell masks: 14.60\n",
      "Rotate cell masks: 19.40\n",
      "Rotate cell masks: 13.93\n",
      "Processing section: 181\n",
      "Processing section: 216\n",
      "Processing section: 191\n",
      "Processing section: 242\n",
      "Rotate cell masks: 18.46\n",
      "Processing section: 221\n",
      "ERROR: 221\n",
      "Processing section: 247\n",
      "Processing section: 196\n",
      "Rotate cell masks: 19.59\n",
      "Processing section: 230\n",
      "Rotate cell masks: 18.57\n",
      "Rotate cell masks: 14.81\n",
      "Processing section: 201\n",
      "Rotate cell masks: 19.31\n",
      "Rotate cell masks: 18.43\n",
      "Processing section: 235\n",
      "Processing section: 211\n",
      "Processing section: 252\n",
      "Rotate cell masks: 18.45\n",
      "Processing section: 206\n",
      "Rotate cell masks: 19.60\n",
      "Rotate cell masks: 18.14\n",
      "Processing section: 240\n",
      "Rotate cell masks: 14.82\n",
      "Processing section: 257\n",
      "Processing section: 226\n",
      "Processing section: 262\n",
      "Rotate cell masks: 18.05\n",
      "Rotate cell masks: 19.58\n",
      "Rotate cell masks: 19.06\n",
      "Rotate cell masks: 19.25\n",
      "Rotate cell masks: 19.45\n",
      "Rotate cell masks: 17.80\n",
      "Processing section: 243\n",
      "Processing section: 267\n",
      "Processing section: 272\n",
      "Processing section: 248\n",
      "Processing section: 277\n",
      "Processing section: 231\n",
      "Rotate cell masks: 19.41\n",
      "Rotate cell masks: 18.12\n",
      "Rotate cell masks: 18.65\n",
      "Rotate cell masks: 19.30\n",
      "Processing section: 282\n",
      "Rotate cell masks: 18.64\n",
      "Processing section: 287\n",
      "Processing section: 236\n",
      "Rotate cell masks: 18.24\n",
      "Processing section: 253\n",
      "Processing section: 292\n",
      "Rotate cell masks: 19.24\n",
      "Rotate cell masks: 18.29\n",
      "Processing section: 241\n",
      "Rotate cell masks: 19.32\n",
      "Processing section: 258\n",
      "Processing section: 297\n",
      "Processing section: 263\n",
      "Rotate cell masks: 18.49\n",
      "Rotate cell masks: 19.23\n",
      "Rotate cell masks: 19.50\n",
      "Rotate cell masks: 18.14\n",
      "Rotate cell masks: 19.45\n",
      "Rotate cell masks: 18.85\n",
      "Processing section: 268\n",
      "Processing section: 244\n",
      "Processing section: 273\n",
      "Processing section: 278\n",
      "Processing section: 249\n",
      "Rotate cell masks: 17.86\n",
      "Rotate cell masks: 17.64\n",
      "Processing section: 302\n",
      "Rotate cell masks: 18.47\n",
      "Rotate cell masks: 17.18\n",
      "Processing section: 283\n",
      "Processing section: 288\n",
      "Rotate cell masks: 18.96\n",
      "Processing section: 307\n",
      "Rotate cell masks: 17.90\n",
      "Processing section: 293\n",
      "Processing section: 254\n",
      "Rotate cell masks: 16.98\n",
      "Processing section: 312\n",
      "Rotate cell masks: 19.53\n",
      "Rotate cell masks: 19.55\n",
      "Processing section: 298\n",
      "Rotate cell masks: 19.36\n",
      "Rotate cell masks: 15.88\n",
      "Rotate cell masks: 18.26\n",
      "Rotate cell masks: 19.42\n",
      "Processing section: 259\n",
      "Rotate cell masks: 18.86\n",
      "Rotate cell masks: 19.04\n",
      "Processing section: 303\n",
      "Processing section: 264\n",
      "Processing section: 269\n",
      "Processing section: 274\n",
      "Processing section: 245\n",
      "Rotate cell masks: 15.77\n",
      "Rotate cell masks: 17.26\n",
      "Rotate cell masks: 17.75\n",
      "Processing section: 279\n",
      "Processing section: 250\n",
      "Rotate cell masks: 16.62\n",
      "Processing section: 308\n",
      "Rotate cell masks: 14.82\n",
      "Processing section: 284\n",
      "Processing section: 289\n",
      "Processing section: 294\n",
      "Processing section: 313\n",
      "Rotate cell masks: 19.61\n",
      "Rotate cell masks: 16.49\n",
      "Processing section: 299\n",
      "Processing section: 255\n",
      "Rotate cell masks: 16.18\n",
      "Rotate cell masks: 19.60\n",
      "Rotate cell masks: 18.11\n",
      "Rotate cell masks: 19.14\n",
      "Processing section: 304\n",
      "Rotate cell masks: 19.13\n",
      "Rotate cell masks: 15.43\n",
      "Rotate cell masks: 19.17\n",
      "Processing section: 260\n",
      "Rotate cell masks: 19.09\n",
      "Rotate cell masks: 19.29\n",
      "Processing section: 270\n",
      "Rotate cell masks: 14.79\n",
      "Rotate cell masks: 16.90\n",
      "Rotate cell masks: 17.77\n",
      "Processing section: 309\n",
      "Processing section: 265\n",
      "Processing section: 246\n",
      "Processing section: 275\n",
      "Processing section: 280\n",
      "Processing section: 314\n",
      "Processing section: 251\n",
      "Rotate cell masks: 18.69\n",
      "Processing section: 290\n",
      "Processing section: 285\n",
      "Rotate cell masks: 16.38\n",
      "Processing section: 295\n",
      "Rotate cell masks: 19.22\n",
      "Processing section: 300\n",
      "ERROR: 300\n",
      "Processing section: 301\n",
      "Processing section: 256\n",
      "Rotate cell masks: 15.79\n",
      "Rotate cell masks: 12.21\n",
      "Rotate cell masks: 15.13\n",
      "Processing section: 305\n",
      "Rotate cell masks: 19.30\n",
      "Processing section: 315\n",
      "Processing section: 310\n",
      "Rotate cell masks: 17.96\n",
      "Rotate cell masks: 19.83\n",
      "Rotate cell masks: 17.67\n",
      "Rotate cell masks: 19.37\n",
      "Rotate cell masks: 19.56\n",
      "Rotate cell masks: 17.52\n",
      "Processing section: 261\n",
      "Rotate cell masks: 18.31\n",
      "Rotate cell masks: 19.23\n",
      "Processing section: 276\n",
      "Processing section: 281\n",
      "Processing section: 271\n",
      "Processing section: 266\n",
      "Processing section: 317\n",
      "Processing section: 291\n",
      "Rotate cell masks: 18.31\n",
      "Processing section: 286\n",
      "Rotate cell masks: 17.00\n",
      "Processing section: 322\n",
      "Processing section: 296\n",
      "Processing section: 327\n",
      "Rotate cell masks: 15.63\n",
      "Rotate cell masks: 19.60\n",
      "Rotate cell masks: 14.87\n",
      "Rotate cell masks: 15.00\n",
      "Processing section: 306\n",
      "Processing section: 316\n",
      "Processing section: 332\n",
      "Processing section: 311\n",
      "Rotate cell masks: 11.79\n",
      "Rotate cell masks: 14.59\n",
      "Processing section: 323\n",
      "Rotate cell masks: 19.34\n",
      "Rotate cell masks: 11.39\n",
      "Rotate cell masks: 19.10\n",
      "Rotate cell masks: 18.27\n",
      "Rotate cell masks: 17.18\n",
      "Processing section: 318\n",
      "Rotate cell masks: 18.92\n",
      "Rotate cell masks: 17.11\n",
      "Rotate cell masks: 19.39\n",
      "Processing section: 328\n",
      "Processing section: 337\n",
      "Processing section: 342\n",
      "Processing section: 347\n",
      "Processing section: 352\n",
      "Processing section: 357\n",
      "Rotate cell masks: 16.88\n",
      "Processing section: 362\n",
      "Processing section: 367\n",
      "Rotate cell masks: 12.55\n",
      "Rotate cell masks: 15.77\n",
      "Rotate cell masks: 14.39\n",
      "Processing section: 333\n",
      "Rotate cell masks: 15.14\n",
      "Rotate cell masks: 11.76\n",
      "Rotate cell masks: 11.31\n",
      "Processing section: 324\n",
      "ERROR: 324\n",
      "Processing section: 325\n",
      "Rotate cell masks: 9.43\n",
      "Rotate cell masks: 9.48\n",
      "Rotate cell masks: 9.76\n",
      "Rotate cell masks: 8.95\n",
      "Rotate cell masks: 9.35\n",
      "Rotate cell masks: 8.89\n",
      "Rotate cell masks: 12.21\n",
      "Rotate cell masks: 14.79\n",
      "Processing section: 353\n",
      "Processing section: 329\n",
      "Processing section: 348\n",
      "Processing section: 343\n",
      "Processing section: 363\n",
      "Processing section: 358\n",
      "Processing section: 368\n",
      "Processing section: 338\n",
      "Processing section: 319\n",
      "Rotate cell masks: 10.70\n",
      "Processing section: 334\n",
      "Rotate cell masks: 9.45\n",
      "Rotate cell masks: 9.48\n",
      "Rotate cell masks: 8.93\n",
      "Rotate cell masks: 9.26\n",
      "Rotate cell masks: 8.90\n",
      "Processing section: 354\n",
      "Processing section: 349\n",
      "Processing section: 364\n",
      "Processing section: 359\n",
      "Processing section: 369\n",
      "Rotate cell masks: 13.98\n",
      "Rotate cell masks: 9.86\n",
      "Rotate cell masks: 11.99\n",
      "Rotate cell masks: 13.41\n",
      "Processing section: 339\n",
      "Processing section: 344\n",
      "Processing section: 326\n",
      "Processing section: 330\n",
      "Rotate cell masks: 10.37\n",
      "Rotate cell masks: 14.48\n",
      "Processing section: 335\n",
      "Processing section: 320\n",
      "Rotate cell masks: 9.07\n",
      "Rotate cell masks: 9.54\n",
      "Rotate cell masks: 9.54\n",
      "Rotate cell masks: 8.99\n",
      "Processing section: 365\n",
      "Processing section: 355\n",
      "Processing section: 350\n",
      "Processing section: 370\n",
      "Rotate cell masks: 11.81\n",
      "Rotate cell masks: 10.13\n",
      "Rotate cell masks: 9.87\n",
      "Processing section: 360\n",
      "Processing section: 340\n",
      "Processing section: 345\n",
      "Rotate cell masks: 13.72\n",
      "Rotate cell masks: 13.06\n",
      "Rotate cell masks: 8.93\n",
      "Processing section: 331\n",
      "Rotate cell masks: 12.39\n",
      "Rotate cell masks: 8.75\n",
      "Rotate cell masks: 9.35\n",
      "Processing section: 366\n",
      "Rotate cell masks: 13.92\n",
      "Processing section: 336\n",
      "Processing section: 351\n",
      "Rotate cell masks: 11.79\n",
      "Rotate cell masks: 9.65\n",
      "Rotate cell masks: 9.74\n",
      "Processing section: 321\n",
      "Processing section: 356\n",
      "Rotate cell masks: 11.54\n",
      "Processing section: 341\n",
      "Processing section: 346\n",
      "Processing section: 361\n",
      "Rotate cell masks: 8.93\n",
      "Rotate cell masks: 11.01\n",
      "Rotate cell masks: 10.16\n",
      "Rotate cell masks: 11.78\n",
      "Rotate cell masks: 9.29\n",
      "Rotate cell masks: 9.24\n",
      "Rotate cell masks: 9.84\n",
      "Rotate cell masks: 9.06\n",
      "Rotate cell masks: 14.36\n"
>>>>>>> 36d6bced88259b6de3c3cd1c44e01fabce6073f9
     ]
    }
   ],
   "source": [
    "t = time.time()\n",
    "\n",
    "pool = Pool(15)\n",
<<<<<<< HEAD
    "pool.map(lambda sec: align_pad_cells(stack, sec, common_shape=common_shape), \n",
    "         range(first_bs_section, last_bs_section+1))\n",
    "pool.close()\n",
    "pool.join()\n",
    "\n",
    "sys.stderr.write('Align cells overall: %.2f\\n' % (time.time() - t)) # 330 seconds"
=======
    "pool.map(lambda sec: rotate_cells(stack, sec), range(first_bs_section, last_bs_section+1))\n",
    "pool.close()\n",
    "pool.join()\n",
    "\n",
    "sys.stderr.write('Rotate cells overall: %.2f\\n' % (time.time() - t))"
>>>>>>> 36d6bced88259b6de3c3cd1c44e01fabce6073f9
   ]
  },
  {
   "cell_type": "code",
   "execution_count": null,
   "metadata": {
    "collapsed": true
   },
   "outputs": [],
   "source": []
<<<<<<< HEAD
=======
  },
  {
   "cell_type": "code",
   "execution_count": 27,
   "metadata": {
    "collapsed": false
   },
   "outputs": [],
   "source": [
    "shapes = np.array([p.shape[:2] for p in cells_aligned])\n",
    "common_shape = [int(np.percentile(shapes[:,0], 99)), int(np.percentile(shapes[:,1], 99))]"
   ]
  },
  {
   "cell_type": "code",
   "execution_count": 34,
   "metadata": {
    "collapsed": false
   },
   "outputs": [],
   "source": [
    "# Place cell masks at the center and pad the surroundings with zeros.\n",
    "\n",
    "output_dir = create_if_not_exists('/home/yuncong/csd395/CSHL_cells_v2/processed_cells')\n",
    "\n",
    "cells_aligned_padded = np.asarray(pad_patches_to_same_size(cells_aligned, pad_value=0, keep_center=True,\n",
    "                                                          common_shape=common_shape))\n",
    "bp.pack_ndarray_file(cells_aligned_padded, output_dir + '/cells_aligned_padded.bp')\n",
    "del cells_aligned_padded\n",
    "\n",
    "cells_h_aligned_padded = np.asarray(pad_patches_to_same_size(cells_aligned_h, pad_value=0, keep_center=True,\n",
    "                                                            common_shape=common_shape))\n",
    "bp.pack_ndarray_file(cells_h_aligned_padded, output_dir + '/cells_h_aligned_padded.bp')\n",
    "del cells_h_aligned_padded\n",
    "\n",
    "cells_v_aligned_padded = np.asarray(pad_patches_to_same_size(cells_aligned_v, pad_value=0, keep_center=True,\n",
    "                                                            common_shape=common_shape))\n",
    "bp.pack_ndarray_file(cells_v_aligned_padded, output_dir + '/cells_v_aligned_padded.bp')\n",
    "del cells_v_aligned_padded\n",
    "\n",
    "cells_d_aligned_padded = np.asarray(pad_patches_to_same_size(cells_aligned_d, pad_value=0, keep_center=True,\n",
    "                                                            common_shape=common_shape))\n",
    "bp.pack_ndarray_file(cells_d_aligned_padded, output_dir + '/cells_d_aligned_padded.bp')\n",
    "del cells_d_aligned_padded"
   ]
  },
  {
   "cell_type": "code",
   "execution_count": 35,
   "metadata": {
    "collapsed": true
   },
   "outputs": [],
   "source": [
    "bp.pack_ndarray_file(np.array(cell_addresses), output_dir + '/cell_addresses.bp')"
   ]
>>>>>>> 36d6bced88259b6de3c3cd1c44e01fabce6073f9
  }
 ],
 "metadata": {
  "kernelspec": {
   "display_name": "Python 2",
   "language": "python",
   "name": "python2"
  },
  "language_info": {
   "codemirror_mode": {
    "name": "ipython",
    "version": 2
   },
   "file_extension": ".py",
   "mimetype": "text/x-python",
   "name": "python",
   "nbconvert_exporter": "python",
   "pygments_lexer": "ipython2",
   "version": "2.7.3"
<<<<<<< HEAD
=======
  },
  "widgets": {
   "state": {
    "081e77e45f9d4d69931f690a041280b0": {
     "views": [
      {
       "cell_index": 5
      }
     ]
    },
    "09769201593f4425add8cf39273e80d2": {
     "views": [
      {
       "cell_index": 5
      }
     ]
    },
    "0a5a5688d3a842a7b8d15e6934027ada": {
     "views": [
      {
       "cell_index": 5
      }
     ]
    },
    "0cab07d4f4cd4088b5d1cbd527303e11": {
     "views": [
      {
       "cell_index": 5
      }
     ]
    },
    "218e862fbf41410ead873ea645d854af": {
     "views": [
      {
       "cell_index": 5
      }
     ]
    },
    "2473adecec7144a68068735a5b712b53": {
     "views": [
      {
       "cell_index": 5
      }
     ]
    },
    "2f0a172737074ae5b5429418bc37af02": {
     "views": [
      {
       "cell_index": 5
      }
     ]
    },
    "31ef4f7df1fe4086884e617e8faa17eb": {
     "views": [
      {
       "cell_index": 5
      }
     ]
    },
    "327f553251094c7c9b994f1b95d98abc": {
     "views": [
      {
       "cell_index": 5
      }
     ]
    },
    "36421375c6cc408194fce195d2259ebb": {
     "views": [
      {
       "cell_index": 5
      }
     ]
    },
    "4037c2b1dc20493b9201ec10e7f1a168": {
     "views": [
      {
       "cell_index": 5
      }
     ]
    },
    "4b6d9a113ec342aca52a8384e8b2ad76": {
     "views": [
      {
       "cell_index": 5
      }
     ]
    },
    "61aed8a3a77d4cb1a0cebb1e021c0597": {
     "views": [
      {
       "cell_index": 5
      }
     ]
    },
    "6c263881a7d2427c8085729bbe7261da": {
     "views": [
      {
       "cell_index": 5
      }
     ]
    },
    "77592d7aee6e45599be7cbaf2ee5ed32": {
     "views": [
      {
       "cell_index": 5
      }
     ]
    },
    "798509e32b4d4bc18dd400a5be0a0d46": {
     "views": [
      {
       "cell_index": 5
      }
     ]
    },
    "7d41ea19fee041fc83397657b107c243": {
     "views": [
      {
       "cell_index": 5
      }
     ]
    },
    "7e91b50990ea49fd9ea033dcd9c8f42c": {
     "views": [
      {
       "cell_index": 5
      }
     ]
    },
    "7f313ddd331e4a24809897fc20100cb6": {
     "views": [
      {
       "cell_index": 5
      }
     ]
    },
    "7f89d3e741a849a4a0aee627b707bfaf": {
     "views": [
      {
       "cell_index": 5
      }
     ]
    },
    "874ac98c65194a968f18f22b4c73f6a7": {
     "views": [
      {
       "cell_index": 5
      }
     ]
    },
    "8c7b27ac60c2493886b3f74a3f60515f": {
     "views": [
      {
       "cell_index": 5
      }
     ]
    },
    "8ef6d893a0c94998ac2e7a259e74baf6": {
     "views": [
      {
       "cell_index": 5
      }
     ]
    },
    "92041b0104e9453ea5997c45f30ea6ec": {
     "views": [
      {
       "cell_index": 5
      }
     ]
    },
    "9276c64cacbf4f679841491c6ef13b46": {
     "views": [
      {
       "cell_index": 5
      }
     ]
    },
    "949c87d93b684382a7a1deedaeb554d8": {
     "views": [
      {
       "cell_index": 5
      }
     ]
    },
    "9e02f0286bd044ea80f1ba2da97ccb3e": {
     "views": [
      {
       "cell_index": 5
      }
     ]
    },
    "9eb335f2205346908fcfa6c4be2f7bc8": {
     "views": [
      {
       "cell_index": 5
      }
     ]
    },
    "a22f93511cbd45599b019074b7a16548": {
     "views": [
      {
       "cell_index": 5
      }
     ]
    },
    "acdf785c20b140a48b4b716e60f04e60": {
     "views": [
      {
       "cell_index": 5
      }
     ]
    },
    "b4573ae7f0a94f5fbcd972b672c5b9b0": {
     "views": [
      {
       "cell_index": 5
      }
     ]
    },
    "b52590a106bd4181b066df0781028931": {
     "views": [
      {
       "cell_index": 5
      }
     ]
    },
    "b53e54f1c2654c9da2b88699d5f7f6f4": {
     "views": [
      {
       "cell_index": 5
      }
     ]
    },
    "bba413c832fd4aeaa89ff68c487d2bd3": {
     "views": [
      {
       "cell_index": 5
      }
     ]
    },
    "bea597af421d458ebdcb2a0029b6bf5b": {
     "views": [
      {
       "cell_index": 5
      }
     ]
    },
    "c6fd9307d9fe4ef0b9832c2fc560d281": {
     "views": [
      {
       "cell_index": 5
      }
     ]
    },
    "cc8f0b118958440c9281899280be64d3": {
     "views": [
      {
       "cell_index": 5
      }
     ]
    },
    "cdd2a89c53964ea7a301440083ba7dfc": {
     "views": [
      {
       "cell_index": 5
      }
     ]
    },
    "d9ac6ef5ab89442d83b10d0520ddbf17": {
     "views": [
      {
       "cell_index": 5
      }
     ]
    },
    "db21dc2c5d7045a594e4ccad89963b3f": {
     "views": [
      {
       "cell_index": 5
      }
     ]
    },
    "e237429e7c6c442bbc923c4a36195574": {
     "views": [
      {
       "cell_index": 5
      }
     ]
    },
    "e60189ad33744538917284becbe0c675": {
     "views": [
      {
       "cell_index": 5
      }
     ]
    },
    "f9aa2ce98aef47b1b6436f0dd984043c": {
     "views": [
      {
       "cell_index": 5
      }
     ]
    },
    "fa668ecab7104fa7b1bfe28ef0e37f7a": {
     "views": [
      {
       "cell_index": 5
      }
     ]
    },
    "ff0b9a08c92444a49304ab8c2c7d3a63": {
     "views": [
      {
       "cell_index": 5
      }
     ]
    }
   },
   "version": "1.2.0"
>>>>>>> 36d6bced88259b6de3c3cd1c44e01fabce6073f9
  }
 },
 "nbformat": 4,
 "nbformat_minor": 1
}
