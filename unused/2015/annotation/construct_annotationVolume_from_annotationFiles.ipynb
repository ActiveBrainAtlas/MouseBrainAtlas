{
 "cells": [
  {
   "cell_type": "code",
   "execution_count": 1,
   "metadata": {
    "collapsed": false
   },
   "outputs": [],
   "source": [
    "%load_ext autoreload\n",
    "%autoreload 2\n",
    "\n",
    "import numpy as np\n",
    "\n",
    "import sys\n",
    "import os\n",
    "\n",
    "sys.path.append(os.environ['REPO_DIR'] + '/utilities')\n",
    "from utilities2015 import *\n",
    "\n",
    "import matplotlib.pyplot as plt\n",
    "%matplotlib inline\n",
    "\n",
    "import pandas as pd\n",
    "\n",
    "from matplotlib.path import Path\n",
    "from itertools import product\n",
    "\n",
    "from collections import defaultdict\n",
    "\n",
    "import time"
   ]
  },
  {
   "cell_type": "code",
   "execution_count": 2,
   "metadata": {
    "collapsed": true
   },
   "outputs": [],
   "source": [
    "volume_dir = create_if_not_exists('/oasis/projects/nsf/csd395/yuncong/CSHL_volumes/')"
   ]
  },
  {
   "cell_type": "code",
   "execution_count": 3,
   "metadata": {
    "collapsed": false
   },
   "outputs": [],
   "source": [
    "volume_landmark_names_unsided = ['12N', '5N', '6N', '7N', '7n', 'AP', 'Amb', 'LC',\n",
    "                                 'LRt', 'Pn', 'R', 'RtTg', 'Tz', 'VLL', 'sp5']\n",
    "linear_landmark_names_unsided = ['outerContour']\n",
    "\n",
    "labels_unsided = volume_landmark_names_unsided + linear_landmark_names_unsided\n",
    "labels_unsided_indices = dict((j, i+1) for i, j in enumerate(labels_unsided))  # BackG always 0\n",
    "\n",
    "labelMap_unsidedToSided = {'12N': ['12N'],\n",
    "                            '5N': ['5N_L', '5N_R'],\n",
    "                            '6N': ['6N_L', '6N_R'],\n",
    "                            '7N': ['7N_L', '7N_R'],\n",
    "                            '7n': ['7n_L', '7n_R'],\n",
    "                            'AP': ['AP'],\n",
    "                            'Amb': ['Amb_L', 'Amb_R'],\n",
    "                            'LC': ['LC_L', 'LC_R'],\n",
    "                            'LRt': ['LRt_L', 'LRt_R'],\n",
    "                            'Pn': ['Pn_L', 'Pn_R'],\n",
    "                            'R': ['R_L', 'R_R'],\n",
    "                            'RtTg': ['RtTg'],\n",
    "                            'Tz': ['Tz_L', 'Tz_R'],\n",
    "                            'VLL': ['VLL_L', 'VLL_R'],\n",
    "                            'sp5': ['sp5'],\n",
    "                           'outerContour': ['outerContour']}\n",
    "\n",
    "labelMap_sidedToUnsided = {n: nu for nu, ns in labelMap_unsidedToSided.iteritems() for n in ns}\n",
    "\n",
    "from itertools import chain\n",
    "labels_sided = list(chain(*(labelMap_unsidedToSided[name_u] for name_u in labels_unsided)))\n",
    "labels_sided_indices = dict((j, i+1) for i, j in enumerate(labels_sided)) # BackG always 0"
   ]
  },
  {
   "cell_type": "code",
   "execution_count": 4,
   "metadata": {
    "collapsed": false
   },
   "outputs": [],
   "source": [
    "downsample_factor = 16\n",
    "\n",
    "section_thickness = 20 # in um\n",
    "xy_pixel_distance_lossless = 0.46\n",
    "xy_pixel_distance_tb = xy_pixel_distance_lossless * 32 # in um, thumbnail\n",
    "# factor = section_thickness/xy_pixel_distance_lossless\n",
    "\n",
    "xy_pixel_distance_downsampled = xy_pixel_distance_lossless * downsample_factor\n",
    "z_xy_ratio_downsampled = section_thickness / xy_pixel_distance_downsampled"
   ]
  },
  {
   "cell_type": "code",
   "execution_count": 5,
   "metadata": {
    "collapsed": true
   },
   "outputs": [],
   "source": [
    "username = 'yuncong'"
   ]
  },
  {
   "cell_type": "code",
   "execution_count": 6,
   "metadata": {
    "collapsed": false
   },
   "outputs": [
    {
     "name": "stdout",
     "output_type": "stream",
     "text": [
      "93 364\n",
      "143 305\n",
      "middle section 228\n"
     ]
    }
   ],
   "source": [
    "stack = 'MD594'\n",
    "    \n",
    "section_bs_begin, section_bs_end = section_range_lookup[stack]\n",
    "detect_sec_begin, detect_sec_end = detect_bbox_range_lookup[stack]\n",
    "mid_section = (section_bs_begin + section_bs_end)/2\n",
    "\n",
    "print section_bs_begin, section_bs_end\n",
    "print detect_sec_begin, detect_sec_end\n",
    "print 'middle section', mid_section"
   ]
  },
  {
   "cell_type": "code",
   "execution_count": 7,
   "metadata": {
    "collapsed": false,
    "scrolled": true
   },
   "outputs": [
    {
     "name": "stderr",
     "output_type": "stream",
     "text": [
      "username yuncong does not have any annotations for current section 93 \n",
      "username yuncong does not have any annotations for current section 94 \n",
      "username yuncong does not have any annotations for current section 95 \n",
      "username yuncong does not have any annotations for current section 97 \n",
      "username yuncong does not have any annotations for current section 99 \n",
      "username yuncong does not have any annotations for current section 101 \n",
      "username yuncong does not have any annotations for current section 103 \n",
      "username yuncong does not have any annotations for current section 105 \n",
      "username yuncong does not have any annotations for current section 107 \n",
      "username yuncong does not have any annotations for current section 109 \n",
      "username yuncong does not have any annotations for current section 111 \n",
      "username yuncong does not have any annotations for current section 113 \n",
      "username yuncong does not have any annotations for current section 115 \n",
      "username yuncong does not have any annotations for current section 117 \n",
      "username yuncong does not have any annotations for current section 119 \n",
      "username yuncong does not have any annotations for current section 121 \n",
      "username yuncong does not have any annotations for current section 123 \n",
      "username yuncong does not have any annotations for current section 125 \n",
      "username yuncong does not have any annotations for current section 127 \n",
      "username yuncong does not have any annotations for current section 129 \n",
      "username yuncong does not have any annotations for current section 131 \n",
      "username yuncong does not have any annotations for current section 133 \n",
      "username yuncong does not have any annotations for current section 135 \n",
      "username yuncong does not have any annotations for current section 309 \n",
      "username yuncong does not have any annotations for current section 311 \n",
      "username yuncong does not have any annotations for current section 313 \n",
      "username yuncong does not have any annotations for current section 315 \n",
      "username yuncong does not have any annotations for current section 317 \n",
      "username yuncong does not have any annotations for current section 319 \n",
      "username yuncong does not have any annotations for current section 321 \n",
      "username yuncong does not have any annotations for current section 323 \n",
      "username yuncong does not have any annotations for current section 325 \n",
      "username yuncong does not have any annotations for current section 327 \n",
      "username yuncong does not have any annotations for current section 329 \n",
      "username yuncong does not have any annotations for current section 331 \n",
      "username yuncong does not have any annotations for current section 333 \n",
      "username yuncong does not have any annotations for current section 335 \n",
      "username yuncong does not have any annotations for current section 337 \n",
      "username yuncong does not have any annotations for current section 339 \n",
      "username yuncong does not have any annotations for current section 341 \n",
      "username yuncong does not have any annotations for current section 343 \n",
      "username yuncong does not have any annotations for current section 345 \n",
      "username yuncong does not have any annotations for current section 347 \n",
      "username yuncong does not have any annotations for current section 349 \n",
      "username yuncong does not have any annotations for current section 351 \n",
      "username yuncong does not have any annotations for current section 353 \n",
      "username yuncong does not have any annotations for current section 355 \n",
      "username yuncong does not have any annotations for current section 357 \n",
      "username yuncong does not have any annotations for current section 359 \n",
      "username yuncong does not have any annotations for current section 361 \n",
      "username yuncong does not have any annotations for current section 363 \n",
      "username yuncong does not have any annotations for current section 364 \n",
      "/oasis/projects/nsf/csd181/yuncong/virtualenv-1.9.1/yuncongve/lib/python2.7/site-packages/pandas/core/generic.py:939: PerformanceWarning: \n",
      "your performance may suffer as PyTables will pickle object types that it cannot\n",
      "map directly to c-types [inferred_type->mixed,key->block0_values] [items->['10N', '12N', '3N', '4N', '5N', '6N', '7N', '7N2', '7n', '8n', 'AP', 'Amb', 'CereNuc', 'Cu', 'DC', 'DCDp', 'DCFu', 'DCMo', 'DR', 'DTg', 'Gr', 'GrC', 'IO', 'LC', 'LDTg', 'LPB', 'LRt', 'LSO', 'LVe', 'MVeMC', 'Pn', 'Pr5', 'Pr5DM', 'Pr5VL', 'PrVd', 'PrVv', 'R', 'RtTg', 'Sol', 'Sp5C', 'Sp5I', 'Sp5O', 'SpVe', 'SuVe', 'Tz', 'UDF', 'UDFtr', 'VCA', 'VCAGr', 'VCP', 'VCPO', 'VLL', 'VTg', 'dtgx', 'icp', 'mcp', 'mlf', 'pyx', 'scp', 'sp5', 'vtgx']]\n",
      "\n",
      "  return pytables.to_hdf(path_or_buf, key, self, **kwargs)\n"
     ]
    }
   ],
   "source": [
    "from annotation_utilities import *\n",
    "label_polygons = load_label_polygons_if_exists(stack, username, force=True)"
   ]
  },
  {
   "cell_type": "code",
   "execution_count": 8,
   "metadata": {
    "collapsed": false
   },
   "outputs": [],
   "source": [
    "annotation_on_sections = get_annotation_on_sections(label_polygons=label_polygons, \n",
    "                                                    filtered_labels=labels_unsided)\n",
    "\n",
    "landmark_range_limits = get_landmark_range_limits(stack=stack, label_polygons=label_polygons, \n",
    "                                                  filtered_labels=labels_unsided)\n",
    "\n",
    "landmark_range_limits['outerContour'] = [(detect_sec_begin, detect_sec_end)]"
   ]
  },
  {
   "cell_type": "code",
   "execution_count": 9,
   "metadata": {
    "collapsed": false
   },
   "outputs": [],
   "source": [
    "if stack == 'MD594':\n",
    "    landmark_range_limits['sp5'] = [(landmark_range_limits['sp5'][0][0], landmark_range_limits['sp5'][1][1])]\n",
    "    landmark_range_limits['RtTg'] = [(landmark_range_limits['RtTg'][0][0], landmark_range_limits['RtTg'][1][1])]\n",
    "    landmark_range_limits['R'] = [None, landmark_range_limits['R'][0]] # only the right instance is annotated\n",
    "elif stack == 'MD589':\n",
    "    landmark_range_limits['6N'] = [landmark_range_limits['6N'][0], None] # only the left instance is annotated"
   ]
  },
  {
   "cell_type": "code",
   "execution_count": 10,
   "metadata": {
    "collapsed": false
   },
   "outputs": [],
   "source": [
    "for name, limits in landmark_range_limits.iteritems():\n",
    "    assert len(limits) == len(labelMap_unsidedToSided[name]), '%s does not have the correct instance count' % name\n",
    "    if len(limits) == 2:\n",
    "        limits_L, limits_R = limits\n",
    "        assert (limits_L[1] < mid_section if limits_L is not None else True) and (limits_R[0] > mid_section if limits_R is not None else True), \\\n",
    "                '%s does not cross the middle section' % name\n",
    "    elif len(limits) == 1:\n",
    "        limit = limits[0]\n",
    "        assert limit[0] < mid_section and limit[1] > mid_section, '%s does not cross the middle section' % name"
   ]
  },
  {
   "cell_type": "code",
   "execution_count": 11,
   "metadata": {
    "collapsed": false
   },
   "outputs": [
    {
     "data": {
      "text/plain": [
       "{'12N': [(212, 250)],\n",
       " '5N': [(145, 170), (282, 302)],\n",
       " '6N': [(208, 216), (242, 251)],\n",
       " '7N': [(152, 196), (265, 304)],\n",
       " '7n': [(147, 209), (248, 304)],\n",
       " 'AP': [(222, 239)],\n",
       " 'Amb': [(167, 174), (287, 292)],\n",
       " 'LC': [(180, 190), (260, 272)],\n",
       " 'LRt': [(159, 195), (276, 303)],\n",
       " 'Pn': [(166, 222), (230, 282)],\n",
       " 'R': [None, (234, 244)],\n",
       " 'RtTg': [(184, 265)],\n",
       " 'Tz': [(191, 214), (239, 262)],\n",
       " 'VLL': [(140, 166), (282, 308)],\n",
       " 'outerContour': [(143, 305)],\n",
       " 'sp5': [(108, 305)]}"
      ]
     },
     "execution_count": 11,
     "metadata": {},
     "output_type": "execute_result"
    }
   ],
   "source": [
    "landmark_range_limits"
   ]
  },
  {
   "cell_type": "code",
   "execution_count": null,
   "metadata": {
    "collapsed": true
   },
   "outputs": [],
   "source": []
  },
  {
   "cell_type": "code",
   "execution_count": null,
   "metadata": {
    "collapsed": true
   },
   "outputs": [],
   "source": [
    "# interpolate contour for between annotated sections"
   ]
  },
  {
   "cell_type": "code",
   "execution_count": 12,
   "metadata": {
    "collapsed": true
   },
   "outputs": [],
   "source": [
    "from shapely.geometry import Polygon, Point, LinearRing\n",
    "\n",
    "def closest_to(point, poly):\n",
    "    pol_ext = LinearRing(poly.exterior.coords)\n",
    "    d = pol_ext.project(point)\n",
    "    p = pol_ext.interpolate(d)\n",
    "    closest_point_coords = list(p.coords)[0]\n",
    "    return closest_point_coords\n",
    "\n",
    "def interpolate_contours(cnt1, cnt2, nlevels):\n",
    "    '''\n",
    "    returned arrays include cnt1 and cnt2\n",
    "    '''\n",
    "    \n",
    "    poly1 = Polygon(cnt1)\n",
    "    poly2 = Polygon(cnt2)\n",
    "\n",
    "    interpolated_cnts = np.empty((nlevels, len(cnt1), 2))\n",
    "    for i, p in enumerate(cnt1):\n",
    "        proj_point = closest_to(Point(p), poly2)\n",
    "        interpolated_cnts[:, i] = (np.column_stack([np.linspace(p[0], proj_point[0], nlevels), \n",
    "                         np.linspace(p[1], proj_point[1], nlevels)]))\n",
    "    \n",
    "    return interpolated_cnts"
   ]
  },
  {
   "cell_type": "code",
   "execution_count": null,
   "metadata": {
    "collapsed": false
   },
   "outputs": [],
   "source": [
    "# contour1 = find_contours(label_map_downsampled[150] == 1, .5)[0]\n",
    "# contour2 = find_contours(label_map_downsampled[151] == 1, .5)[0]\n",
    "\n",
    "# nlevels = 6\n",
    "# interp_contours = interpolate_contours(contour1, contour2, nlevels)\n",
    "\n",
    "# for i in range(nlevels):\n",
    "#     plt.scatter(interp_contours[i, :, 0], interp_contours[i, :, 1]);"
   ]
  },
  {
   "cell_type": "code",
   "execution_count": 13,
   "metadata": {
    "collapsed": false
   },
   "outputs": [],
   "source": [
    "landmark_zlimits_twoSides = {}\n",
    "landmark_seclimits_twoSides = {}\n",
    "\n",
    "for name_u, seclimits in landmark_range_limits.iteritems():\n",
    "    \n",
    "    if len(seclimits) == 2:\n",
    "        \n",
    "        seclim1, seclim2 = seclimits\n",
    "        \n",
    "        if seclim1 is not None:\n",
    "            zlim1 = (z_xy_ratio_downsampled * seclim1[0], int(z_xy_ratio_downsampled * seclim1[1]) - 1)\n",
    "            landmark_zlimits_twoSides[name_u + '_L'] = zlim1\n",
    "            landmark_seclimits_twoSides[name_u + '_L'] = seclim1\n",
    "#         else:\n",
    "#             landmark_zlimits_twoSides[name_u + '_L'] = None\n",
    "#             landmark_seclimits_twoSides[name_u + '_L'] = None\n",
    "\n",
    "        if seclim2 is not None:\n",
    "            zlim2 = (z_xy_ratio_downsampled * seclim2[0], int(z_xy_ratio_downsampled * seclim2[1]) - 1)\n",
    "            landmark_zlimits_twoSides[name_u + '_R'] = zlim2\n",
    "            landmark_seclimits_twoSides[name_u + '_R'] = seclim2\n",
    "#         else:\n",
    "#             landmark_zlimits_twoSides[name_u + '_R'] = None\n",
    "#             landmark_seclimits_twoSides[name_u + '_R'] = None\n",
    "            \n",
    "    elif len(seclimits) == 1:\n",
    "        \n",
    "        seclim = seclimits[0]\n",
    "        \n",
    "        zlim = (z_xy_ratio_downsampled * seclim[0], int(z_xy_ratio_downsampled * seclim[1]) - 1)\n",
    "        landmark_zlimits_twoSides[name_u] = zlim\n",
    "        landmark_seclimits_twoSides[name_u] = seclim"
   ]
  },
  {
   "cell_type": "code",
   "execution_count": 14,
   "metadata": {
    "collapsed": false,
    "scrolled": true
   },
   "outputs": [],
   "source": [
    "interpolated_contours = [{} for _ in range(int(z_xy_ratio_downsampled*section_number_lookup[stack]))]\n",
    "    \n",
    "for name_s in labels_sided:\n",
    "    \n",
    "    if name_s == 'outerContour' or name_s not in landmark_seclimits_twoSides: \n",
    "        continue\n",
    "        \n",
    "    name_u = labelMap_sidedToUnsided[name_s]\n",
    "    \n",
    "    if name_u not in label_polygons.keys():\n",
    "        continue\n",
    "    \n",
    "    secs = label_polygons[name_u].dropna().keys()\n",
    "    if len(secs) < 2: \n",
    "        continue\n",
    "    \n",
    "    s1, s2 = landmark_seclimits_twoSides[name_s]\n",
    "    \n",
    "    considered_secs = sorted(set(range(s1, s2+1)) & set(secs))\n",
    "    n = len(considered_secs)\n",
    "    for i in range(n):\n",
    "        sec = considered_secs[i]            \n",
    "        z0 = int(z_xy_ratio_downsampled*sec)\n",
    "        interpolated_contours[z0][name_s] = label_polygons.loc[sec][name_u]            \n",
    "        if i + 1 < n:\n",
    "            next_sec = considered_secs[i+1]\n",
    "            z1 = int(z_xy_ratio_downsampled*next_sec)\n",
    "            interp_cnts = interpolate_contours(label_polygons.loc[sec][name_u], \n",
    "                                               label_polygons.loc[next_sec][name_u],\n",
    "                                               z1-z0+1)\n",
    "            for zi, z in enumerate(range(z0+1, z1)):\n",
    "                interpolated_contours[z][name_s] = interp_cnts[zi+1]"
   ]
  },
  {
   "cell_type": "code",
   "execution_count": 15,
   "metadata": {
    "collapsed": false
   },
   "outputs": [
    {
     "name": "stdout",
     "output_type": "stream",
     "text": [
      "(724, 902, 1173)\n"
     ]
    },
    {
     "name": "stderr",
     "output_type": "stream",
     "text": [
      "build volume all: 29.85 seconds\n"
     ]
    }
   ],
   "source": [
    "t = time.time()\n",
    "\n",
    "dm = DataManager(stack=stack)\n",
    "\n",
    "img_height_downsampled = dm.image_height/downsample_factor\n",
    "img_width_downsampled = dm.image_width/downsample_factor\n",
    "\n",
    "volume = np.zeros((img_height_downsampled, \n",
    "                   img_width_downsampled, \n",
    "                   int(section_number_lookup[stack]*z_xy_ratio_downsampled)), np.int8)\n",
    "\n",
    "print volume.shape\n",
    "\n",
    "for z in range(volume.shape[2]):\n",
    "        \n",
    "    if len(interpolated_contours[z]) == 0:\n",
    "        continue\n",
    "    \n",
    "    label_map_downsampled = np.zeros((img_height_downsampled, img_width_downsampled), np.int8)\n",
    "    \n",
    "    for name_s, vs in interpolated_contours[z].iteritems():\n",
    "        vs_downsampled = vs/downsample_factor\n",
    "        \n",
    "        xmin, ymin = np.min(vs_downsampled, axis=0).astype(np.int)\n",
    "        xmax, ymax = np.max(vs_downsampled, axis=0).astype(np.int)\n",
    "                \n",
    "        xmin = max(0, xmin)\n",
    "        ymin = max(0, ymin)\n",
    "        xmax = min(xmax, img_width_downsampled-1)\n",
    "        ymax = min(ymax, img_height_downsampled-1)\n",
    "        \n",
    "        xs, ys = np.meshgrid(range(xmin, xmax+1), range(ymin, ymax+1))\n",
    "        points_to_test = np.c_[xs.flat, ys.flat]\n",
    "                \n",
    "        is_contained = Path(vs_downsampled).contains_points(points_to_test)\n",
    "        label_map_downsampled[points_to_test[is_contained, 1], \n",
    "                              points_to_test[is_contained, 0]] = labels_sided_indices[name_s]\n",
    "        \n",
    "    volume[:, :, z] = label_map_downsampled.copy()\n",
    "    \n",
    "    del label_map_downsampled\n",
    "    \n",
    "sys.stderr.write('build volume all: %.2f seconds\\n' % (time.time() - t)) # ~37s"
   ]
  },
  {
   "cell_type": "code",
   "execution_count": null,
   "metadata": {
    "collapsed": true
   },
   "outputs": [],
   "source": [
    "# alternative: constant contour for between annotated sections"
   ]
  },
  {
   "cell_type": "code",
   "execution_count": 16,
   "metadata": {
    "collapsed": false,
    "scrolled": true
   },
   "outputs": [
    {
     "name": "stderr",
     "output_type": "stream",
     "text": [
      "build volume all: 40.32 seconds\n"
     ]
    }
   ],
   "source": [
    "# fill outerContour part (cosntant interpolation)\n",
    "\n",
    "from registration_utilities import find_contour_points\n",
    "from scipy.ndimage.morphology import distance_transform_edt\n",
    "\n",
    "dm = DataManager(stack=stack)\n",
    "\n",
    "distance_accepted_um = 50.\n",
    "distance_accepted_lossless = distance_accepted_um / xy_pixel_distance_lossless\n",
    "distance_accepted_tb = distance_accepted_lossless / 32.\n",
    "\n",
    "t = time.time()\n",
    "\n",
    "for l in ['outerContour']:\n",
    "    \n",
    "    s1, s2 = landmark_seclimits_twoSides[l]\n",
    "    \n",
    "    for sec in range(s1, s2+1):\n",
    "                    \n",
    "        # load thumbnail mask\n",
    "        dm.set_slice(sec)\n",
    "        m = dm.load_thumbnail_mask()\n",
    "        \n",
    "#         plt.imshow(m);\n",
    "#         plt.show();\n",
    "        \n",
    "        # find mask contour\n",
    "        cnts = find_contour_points(m.astype(np.int))[1]\n",
    "        cnt = cnts[np.argmax(map(len, cnts))].astype(np.int)\n",
    "        ys = cnt[:,1]\n",
    "        xs = cnt[:,0]\n",
    "        cnt2 = cnt[(ys > 5) & (xs > 5) & (m.shape[1]-1-xs > 5) & (m.shape[0]-1-ys > 5)].astype(np.int)\n",
    "\n",
    "        # build mask - a buffer around contour\n",
    "        m2 = np.zeros_like(m)\n",
    "        m2[cnt2[:,1], cnt2[:,0]] = 1\n",
    "        distance_to_contour = distance_transform_edt(~m2)\n",
    "        m = distance_to_contour < 2*distance_accepted_tb\n",
    "\n",
    "#         plt.imshow(m);\n",
    "#         plt.show();\n",
    "        \n",
    "        # get contour of this new mask\n",
    "        cnts = find_contour_points(m.astype(np.int))[1]\n",
    "        for cnt in cnts:\n",
    "            if len(cnt) > 30:        \n",
    "                inside_points = points_inside_contour(cnt*32/downsample_factor)\n",
    "                \n",
    "                # remove the upper part (cerebellum part)\n",
    "                ymin = detect_bbox_lookup[stack][1]*32/downsample_factor\n",
    "\n",
    "                inside_points = inside_points[inside_points[:,1] > ymin]\n",
    "            \n",
    "                volume[inside_points[:,1], inside_points[:,0], \n",
    "                       int(z_xy_ratio_downsampled*sec):int(z_xy_ratio_downsampled*(sec+1))] = labels_sided_indices['outerContour']\n",
    "\n",
    "sys.stderr.write('build volume all: %.2f seconds\\n' % (time.time() - t)) # ~48s"
   ]
  },
  {
   "cell_type": "code",
   "execution_count": null,
   "metadata": {
    "collapsed": false
   },
   "outputs": [],
   "source": [
    "# blank = np.zeros(label_map_downsampled.shape, np.uint8)\n",
    "# ys, xs = np.where(label_map_downsampled)\n",
    "# for x,y in np.c_[xs,ys]:\n",
    "#     cv2.circle(blank, (x,y), 3, (255,255,255))\n",
    "# display_image(blank)"
   ]
  },
  {
   "cell_type": "code",
   "execution_count": 17,
   "metadata": {
    "collapsed": false,
    "scrolled": false
   },
   "outputs": [
    {
     "data": {
      "image/png": "[encoded data removed]",
      "text/plain": [
       "<matplotlib.figure.Figure at 0x54dd190>"
      ]
     },
     "metadata": {},
     "output_type": "display_data"
    }
   ],
   "source": [
    "fig, axes = plt.subplots(5, 5, figsize=(20,20) , squeeze=True);\n",
    "axes = axes.flatten()\n",
    "for i, z in enumerate(range(0, volume.shape[2], 50)):\n",
    "    axes[i].imshow(volume[..., z], vmin=0, vmax=len(labels_sided));\n",
    "    axes[i].set_title('z = %d' % z);\n",
    "plt.show();"
   ]
  },
  {
   "cell_type": "code",
   "execution_count": null,
   "metadata": {
    "collapsed": false,
    "scrolled": true
   },
   "outputs": [],
   "source": [
    "# # constant contour for between annotated sections\n",
    "\n",
    "# dm = DataManager(stack=stack)\n",
    "\n",
    "# volume = np.zeros((dm.image_height/downsample_factor, \n",
    "#                    dm.image_width/downsample_factor, \n",
    "#                    int(section_number_lookup[stack]*z_xy_ratio_downsampled)), np.int8)\n",
    "\n",
    "# print volume.shape\n",
    "\n",
    "# for sec in range(section_bs_begin, section_bs_end+1):\n",
    "    \n",
    "#     if sec not in label_polygons.index: continue\n",
    "    \n",
    "#     print sec\n",
    "    \n",
    "#     available_labels = label_polygons.loc[sec].dropna().index\n",
    "    \n",
    "#     valid_labels = set(available_labels) & set(labels)\n",
    "    \n",
    "#     if len(valid_labels) == 0:\n",
    "#         continue\n",
    "    \n",
    "#     label_map = np.zeros((dm.image_height, dm.image_width), np.int8)\n",
    "#     for l in valid_labels:\n",
    "#         print l\n",
    "        \n",
    "#         t = time.time()\n",
    "        \n",
    "#         vs = label_polygons[l][sec]\n",
    "#         xmin, ymin = np.min(vs, axis=0)\n",
    "#         xmax, ymax = np.max(vs, axis=0)\n",
    "                \n",
    "#         if xmin > dm.image_width - 1 or ymin > dm.image_height - 1:\n",
    "#             print 'min coordinates exceed image boundary'\n",
    "#             continue\n",
    "        \n",
    "#         xmax = min(xmax, dm.image_width-1)\n",
    "#         ymax = min(ymax, dm.image_height-1)\n",
    "        \n",
    "# #         points_to_test = np.array(list(product(range(ymin, ymax+1), range(xmin, xmax+1))))[:,::-1]\n",
    "#         xs, ys = np.meshgrid(range(xmin, xmax+1), range(ymin, ymax+1))\n",
    "#         points_to_test = np.c_[xs.flat, ys.flat]\n",
    "        \n",
    "#         print time.time() - t\n",
    "        \n",
    "#         is_contained = Path(vs).contains_points(points_to_test)\n",
    "#         label_map[points_to_test[is_contained, 1], points_to_test[is_contained, 0]] = labels_index[l]\n",
    "    \n",
    "#     label_map_downsampled = label_map[::downsample_factor, ::downsample_factor]\n",
    "    \n",
    "#     volume[:, :, int(z_xy_ratio_downsampled*sec):int(z_xy_ratio_downsampled*(sec+1))] = label_map_downsampled[..., np.newaxis].copy()\n",
    "    \n",
    "#     del label_map_downsampled, label_map"
   ]
  },
  {
   "cell_type": "code",
   "execution_count": 18,
   "metadata": {
    "collapsed": false
   },
   "outputs": [
    {
     "name": "stdout",
     "output_type": "stream",
     "text": [
      "1 901\n",
      "241 721\n",
      "293 836\n",
      "901 481 544\n"
     ]
    }
   ],
   "source": [
    "xmin, xmax, ymin, ymax, zmin, zmax = bbox_3d(volume)\n",
    "\n",
    "print xmin, xmax\n",
    "print ymin, ymax\n",
    "print zmin, zmax\n",
    "\n",
    "reduced_xdim = xmax+1-xmin\n",
    "reduced_ydim = ymax+1-ymin\n",
    "reduced_zdim = zmax+1-zmin\n",
    "print reduced_xdim, reduced_ydim, reduced_zdim"
   ]
  },
  {
   "cell_type": "code",
   "execution_count": 19,
   "metadata": {
    "collapsed": true
   },
   "outputs": [],
   "source": [
    "reduced_volume = volume[ymin:ymax+1, xmin:xmax+1, zmin:zmax+1]"
   ]
  },
  {
   "cell_type": "code",
   "execution_count": 20,
   "metadata": {
    "collapsed": true
   },
   "outputs": [],
   "source": [
    "bp.pack_ndarray_file(reduced_volume,\n",
    "                     os.path.join(volume_dir, '%(stack)s/volume_%(stack)s_annotation_withOuterContour.bp' % {'stack': stack}))"
   ]
  },
  {
   "cell_type": "code",
   "execution_count": 21,
   "metadata": {
    "collapsed": true
   },
   "outputs": [],
   "source": [
    "with open(os.path.join(volume_dir, '%(stack)s/volume_%(stack)s_annotation_withOuterContour_limits.txt' % {'stack': stack}), 'w') as f:\n",
    "        f.write((' '.join(['%d']*6)+'\\n') % (xmin, xmax, ymin, ymax, zmin, zmax))"
   ]
  },
  {
   "cell_type": "code",
   "execution_count": 22,
   "metadata": {
    "collapsed": false
   },
   "outputs": [],
   "source": [
    "with open(os.path.join(volume_dir, '%(stack)s/volume_%(stack)s_annotation_resolution.txt' % {'stack': stack}), 'w') as f:\n",
    "        f.write((' '.join(['%f']*3)+'\\n') % (downsample_factor, xy_pixel_distance_downsampled, z_xy_ratio_downsampled))"
   ]
  },
  {
   "cell_type": "code",
   "execution_count": 23,
   "metadata": {
    "collapsed": false
   },
   "outputs": [],
   "source": [
    "volume1_landmark_bboxes = {name: bbox_3d(reduced_volume == labels_sided_indices[name])\n",
    "                           for name in landmark_seclimits_twoSides.iterkeys()}"
   ]
  },
  {
   "cell_type": "code",
   "execution_count": 24,
   "metadata": {
    "collapsed": false
   },
   "outputs": [],
   "source": [
    "with open(volume_dir + '/%(stack)s/volume_%(stack)s_annotation_withOuterContour_landmarkBboxes.txt' % {'stack': stack}, 'w') as f:\n",
    "    for name, bbox in volume1_landmark_bboxes.iteritems():\n",
    "        f.write(name + ' ' + ' '.join(map(str, bbox)) + '\\n')"
   ]
  },
  {
   "cell_type": "code",
   "execution_count": 25,
   "metadata": {
    "collapsed": true
   },
   "outputs": [],
   "source": [
    "with open(volume_dir + '/annotationVolume_withOuterContour_labelIndices.txt', 'w') as f:\n",
    "    f.write('BackG 0\\n')\n",
    "    for name_s in labels_sided:\n",
    "        f.write(name_s + ' ' + str(labels_sided_indices[name_s]) + '\\n')"
   ]
  },
  {
   "cell_type": "code",
   "execution_count": null,
   "metadata": {
    "collapsed": true
   },
   "outputs": [],
   "source": []
  }
 ],
 "metadata": {
  "kernelspec": {
   "display_name": "Python 2",
   "language": "python",
   "name": "python2"
  },
  "language_info": {
   "codemirror_mode": {
    "name": "ipython",
    "version": 2
   },
   "file_extension": ".py",
   "mimetype": "text/x-python",
   "name": "python",
   "nbconvert_exporter": "python",
   "pygments_lexer": "ipython2",
   "version": "2.7.3"
  }
 },
 "nbformat": 4,
 "nbformat_minor": 0
}
