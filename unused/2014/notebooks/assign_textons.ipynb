{
 "cells": [
  {
   "cell_type": "code",
   "execution_count": 1,
   "metadata": {
    "collapsed": false
   },
   "outputs": [],
   "source": [
    "%reload_ext autoreload\n",
    "%autoreload 2\n",
    "\n",
    "import os\n",
    "import argparse\n",
    "import sys\n",
    "import time\n",
    "\n",
    "from joblib import Parallel, delayed\n",
    "\n",
    "sys.path.append(os.path.join(os.environ['GORDON_REPO_DIR'], 'utilities'))\n",
    "from utilities2015 import *\n",
    "\n",
    "dm = DataManager(stack='MD594', section=100, segm_params_id='tSLIC200')"
   ]
  },
  {
   "cell_type": "code",
   "execution_count": 2,
   "metadata": {
    "collapsed": true
   },
   "outputs": [],
   "source": [
    "centroids = dm.load_pipeline_result('textons')"
   ]
  },
  {
   "cell_type": "code",
   "execution_count": 3,
   "metadata": {
    "collapsed": false
   },
   "outputs": [
    {
     "name": "stdout",
     "output_type": "stream",
     "text": [
      "loading centroids and features ... done in 24.3020620346 seconds\n"
     ]
    }
   ],
   "source": [
    "print 'loading centroids and features ...',\n",
    "t = time.time()\n",
    "features_rotated = dm.load_pipeline_result('featuresRotated')\n",
    "print 'done in', time.time() - t, 'seconds'\n"
   ]
  },
  {
   "cell_type": "code",
   "execution_count": 4,
   "metadata": {
    "collapsed": false
   },
   "outputs": [],
   "source": [
    "D = Parallel(n_jobs=16)(delayed(cdist)(fs, centroids) for fs in np.array_split(features_rotated[:10000000], 16))"
   ]
  },
  {
   "cell_type": "code",
   "execution_count": 15,
   "metadata": {
    "collapsed": false
   },
   "outputs": [
    {
     "name": "stdout",
     "output_type": "stream",
     "text": [
      "assign textons ... 0\n",
      "5000000\n",
      "10000000\n",
      "15000000\n",
      "20000000\n",
      "25000000\n",
      "30000000\n",
      "35000000\n",
      "40000000\n",
      "45000000\n",
      "50000000\n",
      "55000000\n",
      "60000000\n",
      "65000000\n",
      "70000000\n",
      "75000000\n",
      "done in 106.764159918 seconds\n"
     ]
    }
   ],
   "source": [
    "n_texton = len(centroids)\n",
    "\n",
    "print 'assign textons ...',\n",
    "t = time.time()\n",
    "\n",
    "# from sklearn.cluster import MiniBatchKMeans\n",
    "from scipy.spatial.distance import cdist\n",
    "\n",
    "# kmeans = MiniBatchKMeans(n_clusters=n_texton, batch_size=1000, init=centroids, max_iter=1)\n",
    "# kmeans.fit(features_rotated)\n",
    "# # final_centroids = kmeans.cluster_centers_\n",
    "# labels = kmeans.labels_\n",
    "\n",
    "# D = Parallel(n_jobs=4)(delayed(cdist)(fs, centroids) for fs in np.array_split(features_rotated, 4))\n",
    "\n",
    "label_list = []\n",
    "for i in range(0, len(features_rotated), 5000000):\n",
    "#     D = cdist(fs, centroids)\n",
    "#     os.system('rm /dev/shm/*')\n",
    "    Ds = Parallel(n_jobs=16)(delayed(cdist)(fs, centroids) \n",
    "                            for fs in np.array_split(features_rotated[i:i+5000000], 16))\n",
    "    for D in Ds:\n",
    "        label_list.append(np.argmin(D, axis=1))\n",
    "\n",
    "labels = np.concatenate(label_list)\n",
    "\n",
    "print 'done in', time.time() - t, 'seconds'"
   ]
  },
  {
   "cell_type": "code",
   "execution_count": 8,
   "metadata": {
    "collapsed": false
   },
   "outputs": [],
   "source": [
    "textonmap = -1 * np.ones((dm.image_height, dm.image_width), dtype=np.int8)\n",
    "textonmap[dm.mask] = labels"
   ]
  },
  {
   "cell_type": "code",
   "execution_count": 11,
   "metadata": {
    "collapsed": false
   },
   "outputs": [
    {
     "name": "stdout",
     "output_type": "stream",
     "text": [
      "saved /oasis/projects/nsf/csd395/yuncong/CSHL_data_results/MD594/0100/MD594_0100_lossless_gabor-blueNisslWide-vq-blueNissl_texMap.bp\n"
     ]
    }
   ],
   "source": [
    "dm.save_pipeline_result(textonmap, 'texMap')"
   ]
  },
  {
   "cell_type": "code",
   "execution_count": 9,
   "metadata": {
    "collapsed": false
   },
   "outputs": [
    {
     "name": "stdout",
     "output_type": "stream",
     "text": [
      "saved /oasis/projects/nsf/csd395/yuncong/CSHL_data_results/MD594/0100/MD594_0100_lossless_gabor-blueNisslWide-vq-blueNissl_texMap.npy\n",
      "saved /oasis/projects/nsf/csd395/yuncong/CSHL_data_results/MD594/0100/MD594_0100_lossless_gabor-blueNisslWide-vq-blueNissl_texMapViz.jpg\n"
     ]
    }
   ],
   "source": [
    "colors = (np.loadtxt(dm.repo_dir + '/visualization/100colors.txt') * 255).astype(np.uint8)\n",
    "\n",
    "textonmap_viz = np.zeros((dm.image_height, dm.image_width, 3), np.uint8)\n",
    "textonmap_viz[dm.mask] = colors[textonmap[dm.mask]]\n",
    "dm.save_pipeline_result(textonmap_viz, 'texMapViz')"
   ]
  },
  {
   "cell_type": "code",
   "execution_count": null,
   "metadata": {
    "collapsed": false
   },
   "outputs": [],
   "source": [
    "# reconstruct textons\n",
    "\n",
    "# from skimage.util import pad\n",
    "# padded_kernels = [None] * dm.n_kernel\n",
    "# for i, kern in enumerate(dm.kernels):\n",
    "#     ksize = kern.shape[0]\n",
    "#     a = (dm.max_kern_size - ksize)/2\n",
    "#     padded_kern = pad(kern, [a, a], mode='constant', constant_values=0)\n",
    "#     padded_kernels[i] = padded_kern\n",
    "    \n",
    "    \n",
    "# F = np.vstack([k.flatten() for k in padded_kernels])\n",
    "\n",
    "# from numpy.linalg import lstsq\n",
    "\n",
    "# for f in centroids:\n",
    "#     b, r, _, _ = lstsq(F, f)\n",
    "\n",
    "#     c = b.reshape((dm.max_kern_size,dm.max_kern_size))\n",
    "\n",
    "#     plt.imshow(c[dm.max_kern_size/2-30:dm.max_kern_size/2+30,\n",
    "#                  dm.max_kern_size/2-30:dm.max_kern_size/2+30], cmap=plt.cm.Greys_r)\n",
    "    \n",
    "#     plt.show()"
   ]
  }
 ],
 "metadata": {
  "kernelspec": {
   "display_name": "Python 2",
   "language": "python",
   "name": "python2"
  },
  "language_info": {
   "codemirror_mode": {
    "name": "ipython",
    "version": 2
   },
   "file_extension": ".py",
   "mimetype": "text/x-python",
   "name": "python",
   "nbconvert_exporter": "python",
   "pygments_lexer": "ipython2",
   "version": "2.7.3"
  }
 },
 "nbformat": 4,
 "nbformat_minor": 0
}
