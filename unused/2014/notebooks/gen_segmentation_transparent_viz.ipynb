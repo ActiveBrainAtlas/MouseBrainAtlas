{
 "cells": [
  {
   "cell_type": "code",
   "execution_count": 1,
   "metadata": {
    "collapsed": true
   },
   "outputs": [],
   "source": [
    "%reload_ext autoreload\n",
    "%autoreload 2\n",
    "\n",
    "import os\n",
    "import argparse\n",
    "import sys\n",
    "import time\n",
    "\n",
    "from joblib import Parallel, delayed\n",
    "\n",
    "sys.path.append('../utilities')\n",
    "from utilities2015 import *\n",
    "\n",
    "%matplotlib inline"
   ]
  },
  {
   "cell_type": "code",
   "execution_count": 3,
   "metadata": {
    "collapsed": true
   },
   "outputs": [],
   "source": [
    "# from skimage.segmentation import mark_boundaries\n",
    "\n",
    "def gen_transparent(sec):\n",
    "    dm = DataManager(stack='MD593', section=sec, segm_params_id='tSLIC200')\n",
    "    dm.load_multiple_results(['edgeCoords'])\n",
    "    \n",
    "    rgba = np.zeros((dm.image_height, dm.image_width, 4), np.uint8)\n",
    "    e_coords = np.vstack(dm.edge_coords.itervalues())\n",
    "    rgba[e_coords[:,1], e_coords[:,0], 3] = 255\n",
    "\n",
    "#     emptycanvas_superpixelized_mask = mark_boundaries(np.ones((dm.h, dm.w)), dm.segmentation[dm.ymin:dm.ymax+1,\n",
    "#                                                                                        dm.xmin:dm.xmax+1], \n",
    "#                                                  color=(0,0,0), outline_color=None)\n",
    "\n",
    "#     emptycanvas_superpixelized = np.ones((dm.image_height, dm.image_width, 3))\n",
    "#     emptycanvas_superpixelized[dm.ymin:dm.ymax+1, dm.xmin:dm.xmax+1] = emptycanvas_superpixelized_mask\n",
    "\n",
    "#     alpha_channel = ~ emptycanvas_superpixelized.all(axis=2)\n",
    "#     rgba = np.dstack([emptycanvas_superpixelized, alpha_channel])\n",
    "    \n",
    "#     rgba = np.zeros((dm.image_height, dm.image_width, 4))\n",
    "#     rgba[dm.ymin:dm.ymax+1, dm.xmin:dm.xmax+1, ]\n",
    "\n",
    "#     imsave('segmentationTransparent.png', rgba)\n",
    "#     imwrite('segmentationTransparent.png', rgba)\n",
    "    dm.save_pipeline_result(rgba, 'segmentationTransparent', is_rgb=True)"
   ]
  },
  {
   "cell_type": "code",
   "execution_count": 6,
   "metadata": {
    "collapsed": false
   },
   "outputs": [
    {
     "name": "stdout",
     "output_type": "stream",
     "text": [
      "saved /oasis/projects/nsf/csd395/yuncong/CSHL_data_results/MD593/0060/MD593_0060_lossless_segm-tSLIC200_segmentationTransparent.png\n",
      "8.48247313499\n"
     ]
    }
   ],
   "source": [
    "t = time.time()\n",
    "# gen_transparent(60)\n",
    "Parallel(n_jobs=16)(delayed(gen_transparent)(sec) for sec in range(60,151))\n",
    "print time.time()-t"
   ]
  },
  {
   "cell_type": "code",
   "execution_count": null,
   "metadata": {
    "collapsed": true
   },
   "outputs": [],
   "source": []
  }
 ],
 "metadata": {
  "kernelspec": {
   "display_name": "Python 2",
   "language": "python",
   "name": "python2"
  },
  "language_info": {
   "codemirror_mode": {
    "name": "ipython",
    "version": 2
   },
   "file_extension": ".py",
   "mimetype": "text/x-python",
   "name": "python",
   "nbconvert_exporter": "python",
   "pygments_lexer": "ipython2",
   "version": "2.7.3"
  }
 },
 "nbformat": 4,
 "nbformat_minor": 0
}
