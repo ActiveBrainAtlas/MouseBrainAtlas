{
 "cells": [
  {
   "cell_type": "code",
   "execution_count": 1,
   "metadata": {
    "collapsed": false
   },
   "outputs": [],
   "source": [
    "%reload_ext autoreload\n",
    "%autoreload 2\n",
    "\n",
    "import sys\n",
    "sys.path.insert(0, '/home/yuncong/project/cython-munkres-wrapper/build/lib.linux-x86_64-2.7')\n",
    "from munkres import munkres\n",
    "\n",
    "import os\n",
    "import time\n",
    "\n",
    "from utilities2015 import *\n",
    "\n",
    "from scipy.spatial.distance import cdist, pdist, squareform\n",
    "from scipy.cluster.hierarchy import average, fcluster, single, complete\n",
    "\n",
    "from joblib import Parallel, delayed\n",
    "\n",
    "from skimage.color import gray2rgb\n",
    "from skimage.measure import find_contours\n",
    "from skimage.util import img_as_float\n",
    "\n",
    "import matplotlib.pyplot as plt\n",
    "%matplotlib inline\n",
    "\n",
    "from networkx import from_dict_of_lists, Graph, adjacency_matrix, dfs_postorder_nodes\n",
    "from networkx.algorithms import node_connected_component"
   ]
  },
  {
   "cell_type": "code",
   "execution_count": 2,
   "metadata": {
    "collapsed": true
   },
   "outputs": [],
   "source": [
    "from shape_matching import *"
   ]
  },
  {
   "cell_type": "code",
   "execution_count": 33,
   "metadata": {
    "collapsed": true
   },
   "outputs": [],
   "source": [
    "stack_name = 'MD593'\n",
    "\n",
    "dms = dict([(sec_ind, DataManager(stack=stack_name, section=sec_ind, segm_params_id='tSLIC200')) \n",
    "       for sec_ind in [138, 139,140, 141, 142]])"
   ]
  },
  {
   "cell_type": "code",
   "execution_count": 15,
   "metadata": {
    "collapsed": false
   },
   "outputs": [],
   "source": [
    "def boundary_distance(b1, b2, sc1=None, sc2=None, loc_thresh=1500, verbose=False):\n",
    "    '''\n",
    "    Compute the distance between two boundaries.\n",
    "    Each tuple consists of (edgeSet, interior_texture, exterior_textures, points, center)\n",
    "    \n",
    "    Parameters\n",
    "    ----------\n",
    "    b1 : tuple\n",
    "    b2 : tuple\n",
    "    sc1 : #points-by-32 array\n",
    "        pre-computed shape context descriptor\n",
    "    sc2 : #points-by-32 array\n",
    "        pre-computed shape context descriptor\n",
    "    '''\n",
    "    \n",
    "    _, interior_texture1, exterior_textures1, points1, center1, \\\n",
    "                        majorv1, minorv1, majorlen1, minorlen1, ell_center1 = b1\n",
    "        \n",
    "    _, interior_texture2, exterior_textures2, points2, center2, \\\n",
    "                        majorv2, minorv2, majorlen2, minorlen2, ell_center2 = b2\n",
    "    \n",
    "    if sc1 is not None:\n",
    "        assert len(sc1) == points1.shape[0], 'number mismatch %d %d'%(len(sc1), points1.shape[0])\n",
    "    \n",
    "    if sc2 is not None:\n",
    "        assert len(sc2) == points2.shape[0], 'number mismatch %d %d'%(len(sc2), points2.shape[0])\n",
    "\n",
    "    # compute location difference\n",
    "    d_loc = np.linalg.norm(center1 - center2)\n",
    "    D_loc = np.maximum(0, d_loc - 500)\n",
    "    \n",
    "#     sys.stderr.write('D_loc computed\\n')\n",
    "#     print 'd_loc', d_loc\n",
    "\n",
    "    if d_loc > loc_thresh:\n",
    "        return np.inf, np.inf, np.inf, np.inf, np.inf\n",
    "    \n",
    "    n1 = len(points1)\n",
    "    n2 = len(points2)\n",
    "    \n",
    "    if max(n1,n2) > min(n1,n2) * 3:\n",
    "        return np.inf, np.inf, np.inf, np.inf, np.inf\n",
    "    \n",
    "    # compute interior texture difference\n",
    "    D_int = chi2(interior_texture1, interior_texture2)\n",
    "#     D_ext = hausdorff_histograms(exterior_textures1, exterior_textures2, metric=chi2)\n",
    "\n",
    "#     sys.stderr.write('D_interior computed\\n')\n",
    "\n",
    "    # compute shape difference, exterior texture difference\n",
    "    D_shape, matches = shape_context_score(points1, points2, descriptor1=sc1, descriptor2=sc2, verbose=verbose)\n",
    "#         D_ext = np.mean([chi2(exterior_textures1[i], exterior_textures2[j]) for i, j in matches])\n",
    "    \n",
    "#     sys.stderr.write('D_shape computed\\n')\n",
    "    \n",
    "    bg_match = 0\n",
    "\n",
    "    if len(matches) == 0:\n",
    "        D_ext = np.inf\n",
    "    else:\n",
    "        ddd = []\n",
    "        for i, j in matches:\n",
    "            # -1 vs -1\n",
    "            if np.isnan(exterior_textures1[i]).all() and np.isnan(exterior_textures2[j]).all():\n",
    "                s = 0\n",
    "                bg_match += 1\n",
    "                ddd.append(s)\n",
    "            # non -1 vs non -1\n",
    "            elif not np.isnan(exterior_textures1[i]).all() and not np.isnan(exterior_textures2[j]).all():\n",
    "                s = chi2(exterior_textures1[i], exterior_textures2[j])\n",
    "                if verbose:\n",
    "                    print 'exterior', i,j,s\n",
    "                ddd.append(s)\n",
    "            # -1 vs non -1\n",
    "            else:\n",
    "                ddd.append(2.)\n",
    "\n",
    "        if len(ddd) == 0:\n",
    "            D_ext = np.inf\n",
    "        elif len(ddd) == bg_match:\n",
    "            D_ext = 2.\n",
    "        else:\n",
    "            D_ext = np.mean(ddd)\n",
    "    \n",
    "    D_shape = D_shape * .01\n",
    "\n",
    "    # weighted average of four terms\n",
    "    d = D_int + D_ext + D_shape + 0 * D_loc\n",
    "    \n",
    "    return d, D_int, D_ext, D_shape, D_loc\n"
   ]
  },
  {
   "cell_type": "code",
   "execution_count": 16,
   "metadata": {
    "collapsed": true
   },
   "outputs": [],
   "source": [
    "def shape_context_score(pts1, pts2, descriptor1=None, descriptor2=None, verbose=False):\n",
    "\n",
    "    if descriptor1 is None:\n",
    "        descriptor1 = compute_shape_context_descriptors(pts1, dist_limit=.8)\n",
    "    \n",
    "    if descriptor2 is None:\n",
    "        descriptor2 = compute_shape_context_descriptors(pts2, dist_limit=.8)\n",
    "        \n",
    "    descriptor_dists = cdist(descriptor1, descriptor2, metric='euclidean')\n",
    "        \n",
    "#     b = time.time()\n",
    "\n",
    "    T, best_match, best_sample, best_score = ransac_compute_rigid_transform(descriptor_dists, pts1, pts2, \n",
    "                                                                            ransac_iters=50, confidence_thresh=0.03, \n",
    "                                                                            sample_size=3, matching_iter=10,\n",
    "                                                                           n_neighbors=3)\n",
    "#     print 'ransac_compute_rigid_transform', time.time() - b\n",
    "\n",
    "    \n",
    "    if T is None and len(best_match)==0:\n",
    "        return np.inf, []\n",
    "    \n",
    "    if verbose:\n",
    "        print 'best_match', best_match\n",
    "        print 'best_sample', best_sample\n",
    "        print 'best_score', best_score\n",
    "\n",
    "    return best_score, best_match"
   ]
  },
  {
   "cell_type": "code",
   "execution_count": 17,
   "metadata": {
    "collapsed": true
   },
   "outputs": [],
   "source": [
    "from skimage.util import pad\n",
    "\n",
    "def generate_matching_visualizations(sec1, sec2, matchings=None):\n",
    "    '''\n",
    "    Generate visualization for matching between sec1 and sec2\n",
    "    '''\n",
    "    \n",
    "    dm1 = dms[sec1]\n",
    "    dm2 = dms[sec2]\n",
    "    \n",
    "    boundaries1 = dm1.load_pipeline_result('boundaryModels')\n",
    "    boundaries2 = dm2.load_pipeline_result('boundaryModels')\n",
    "    \n",
    "    if matchings is None:\n",
    "        matchings = dm1.load_pipeline_result('matchings%dWith%d'%(sec1, sec2))\n",
    "\n",
    "    matched_boundaries1 = [boundaries1[i][0] for ind, (d,i,j) in enumerate(matchings)]\n",
    "    vis_matched_boundaries_next = dm1.visualize_edge_sets(matched_boundaries1, show_set_index=True)\n",
    "\n",
    "    matched_boundaries2 = [boundaries2[j][0] for ind, (d,i,j) in enumerate(matchings)]\n",
    "    vis_matched_boundaries_prev = dm2.visualize_edge_sets(matched_boundaries2, show_set_index=True)\n",
    "\n",
    "    # Place two images vertically \n",
    "    h1, w1 = vis_matched_boundaries_next.shape[:2]\n",
    "    h2, w2 = vis_matched_boundaries_prev.shape[:2]\n",
    "    \n",
    "    if w1 < w2:\n",
    "        left_margin = int((w2 - w1)/2)\n",
    "        right_margin = w2 - w1 - left_margin\n",
    "        vis_matched_boundaries_next = pad(vis_matched_boundaries_next, \n",
    "                                          ((0,0),(left_margin,right_margin),(0,0)), \n",
    "                                          'constant', constant_values=255)\n",
    "    else:\n",
    "        left_margin = int((w1 - w2)/2)\n",
    "        right_margin = w1 - w2 - left_margin\n",
    "        vis_matched_boundaries_prev = pad(vis_matched_boundaries_prev, \n",
    "                                          ((0,0),(left_margin,right_margin),(0,0)), \n",
    "                                          'constant', constant_values=255)\n",
    "        \n",
    "    vis = np.r_[vis_matched_boundaries_next, vis_matched_boundaries_prev]\n",
    "    \n",
    "    return vis\n",
    "    \n",
    "#     dm1.save_pipeline_result(vis, 'matchedBoundaries%dWith%dSideBySide'%(sec1, sec2), 'jpg')\n",
    "#     dm2.save_pipeline_result(vis, 'matchedBoundaries%dWith%dSideBySide'%(sec2, sec1), 'jpg')\n",
    "    \n",
    "#     for ind, (s, i, j) in enumerate(matchings):\n",
    "#         # image with a particular boundary highlighted\n",
    "        \n",
    "#         vis1 = dm1.load_pipeline_result('boundary%02d'%i, 'jpg')\n",
    "#         vis2 = dm2.load_pipeline_result('boundary%02d'%j, 'jpg')\n",
    "        \n",
    "#         h1, w1 = vis1.shape[:2]\n",
    "#         h2, w2 = vis2.shape[:2]\n",
    "        \n",
    "#         # Place vertically\n",
    "#         if w1 < w2:\n",
    "#             left_margin = int((w2 - w1)/2)\n",
    "#             right_margin = w2 - w1 - left_margin\n",
    "#             vis1 = pad(vis1, ((0,0),(left_margin,right_margin),(0,0)), 'constant', constant_values=255)\n",
    "#         else:\n",
    "#             left_margin = int((w1 - w2)/2)\n",
    "#             right_margin = w1 - w2 - left_margin\n",
    "#             vis2 = pad(vis2, ((0,0),(left_margin,right_margin),(0,0)), 'constant', constant_values=255)\n",
    "\n",
    "#         vis_pair_prev = np.r_[vis1, vis2]\n",
    "#         vis_pair_next = np.r_[vis2, vis1]\n",
    "        \n",
    "#         dm1.save_pipeline_result(vis_pair_prev, 'matchedBoundaryPair%dFor%dWith%d'%(ind, sec1, sec2), 'jpg')\n",
    "#         dm2.save_pipeline_result(vis_pair_next, 'matchedBoundaryPair%dFor%dWith%d'%(ind, sec2, sec1), 'jpg')\n",
    "    "
   ]
  },
  {
   "cell_type": "code",
   "execution_count": null,
   "metadata": {
    "collapsed": true
   },
   "outputs": [],
   "source": [
    "dm1 = dms[139]\n",
    "dm2 = dms[140]\n",
    "    \n",
    "boundaries1 = dm1.load_pipeline_result('boundaryModels')\n",
    "boundaries2 = dm2.load_pipeline_result('boundaryModels')\n",
    "\n",
    "sc1 = dm1.load_pipeline_result('shapeContext')\n",
    "sc2 = dm2.load_pipeline_result('shapeContext')"
   ]
  },
  {
   "cell_type": "code",
   "execution_count": null,
   "metadata": {
    "collapsed": false
   },
   "outputs": [],
   "source": [
    "es1, interior_texture1, exterior_textures1, points1, center1 = boundaries1[10]\n",
    "es2, interior_texture2, exterior_textures2, points2, center2 = boundaries2[4]\n",
    "\n",
    "descriptor_dists = cdist(sc1[10], sc2[4], metric='euclidean')"
   ]
  },
  {
   "cell_type": "code",
   "execution_count": null,
   "metadata": {
    "collapsed": false,
    "scrolled": true
   },
   "outputs": [],
   "source": [
    "T, best_match, best_sample, best_score = ransac_compute_rigid_transform(descriptor_dists, points1, points2, \n",
    "                                                                    ransac_iters=50, confidence_thresh=0.03, \n",
    "                                                                    sample_size=3, matching_iter=10,\n",
    "                                                                   n_neighbors=3, verbose=True)"
   ]
  },
  {
   "cell_type": "code",
   "execution_count": null,
   "metadata": {
    "collapsed": false
   },
   "outputs": [],
   "source": [
    "res = boundary_distance(boundaries1[1], boundaries2[23], sc1=sc1[1], sc2=sc2[23], verbose=True)"
   ]
  },
  {
   "cell_type": "code",
   "execution_count": null,
   "metadata": {
    "collapsed": false
   },
   "outputs": [],
   "source": [
    "D_boundaries, D_int, D_ext, D_shape = compute_boundary_distances(139, 140, verbose=True)"
   ]
  },
  {
   "cell_type": "code",
   "execution_count": 18,
   "metadata": {
    "collapsed": false
   },
   "outputs": [],
   "source": [
    "def compute_boundary_distances(sec1, sec2, verbose=False):\n",
    "    \n",
    "    dm1 = dms[sec1]\n",
    "    dm2 = dms[sec2]\n",
    "    \n",
    "    boundaries1 = dm1.load_pipeline_result('boundaryModels')\n",
    "    boundaries2 = dm2.load_pipeline_result('boundaryModels')\n",
    "    \n",
    "    sc1 = dm1.load_pipeline_result('shapeContext')\n",
    "    sc2 = dm2.load_pipeline_result('shapeContext')\n",
    "\n",
    "    n_boundaries1 = len(boundaries1)\n",
    "    n_boundaries2 = len(boundaries2)\n",
    "    \n",
    "#     Ds = Parallel(n_jobs=16)(delayed(boundary_distance)(boundaries1[i], boundaries2[j], sc1=sc1[i], sc2=sc2[j]) \n",
    "#                              for i, j in product(range(n_boundaries1), range(n_boundaries2)))\n",
    "\n",
    "    center_dist_thresh = 1500\n",
    "    \n",
    "    centers1 = [b[4] for b in boundaries1]\n",
    "    centers2 = [b[4] for b in boundaries2]\n",
    "    center_distances = cdist(centers1, centers2, metric='euclidean')\n",
    "    b1s, b2s = np.where(center_distances < center_dist_thresh)\n",
    "    \n",
    "    b = time.time()\n",
    "\n",
    "#     Ds = []\n",
    "#     for i, j in zip(b1s, b2s):\n",
    "#         sys.stderr.write('%d,%d\\n'%(i,j))\n",
    "#         d = boundary_distance(boundaries1[i], boundaries2[j], sc1=sc1[i], sc2=sc2[j], verbose=verbose)\n",
    "#         Ds.append(d)\n",
    "\n",
    "    Ds = Parallel(n_jobs=16)(delayed(boundary_distance)(boundaries1[i], boundaries2[j], \n",
    "                                                        sc1=sc1[i], sc2=sc2[j], verbose=verbose) \n",
    "                             for i, j in zip(b1s, b2s))\n",
    "    print  'boundary_distance', time.time() - b\n",
    "    \n",
    "    D_boundaries = np.inf * np.ones((n_boundaries1, n_boundaries2))\n",
    "    D_int = np.inf * np.ones((n_boundaries1, n_boundaries2))\n",
    "    D_ext = np.inf * np.ones((n_boundaries1, n_boundaries2))\n",
    "    D_shape = np.inf * np.ones((n_boundaries1, n_boundaries2))\n",
    "    \n",
    "    D_boundaries[b1s, b2s] = [d for d, d_int, d_ext, d_shape, d_loc in Ds]\n",
    "    D_int[b1s, b2s] = [d_int for d, d_int, d_ext, d_shape, d_loc in Ds]\n",
    "    D_ext[b1s, b2s] = [d_ext for d, d_int, d_ext, d_shape, d_loc in Ds]\n",
    "    D_shape[b1s, b2s] = [d_shape for d, d_int, d_ext, d_shape, d_loc in Ds]\n",
    "    \n",
    "#     Ds = []\n",
    "#     for i, j in product(range(n_boundaries1), range(n_boundaries2)):\n",
    "#         sys.stderr.write('%d,%d\\n'%(i,j))\n",
    "#         Ds.append(boundary_distance(boundaries1[i], boundaries2[j], sc1=sc1[i], sc2=sc2[j]))\n",
    "\n",
    "#     D_boundaries, D_int, D_ext, D_shape, D_loc = zip(*Ds)\n",
    "\n",
    "#     D_boundaries = np.reshape(D_boundaries, (n_boundaries1, n_boundaries2))\n",
    "#     D_int = np.reshape(D_int, (n_boundaries1, n_boundaries2))\n",
    "#     D_ext = np.reshape(D_ext, (n_boundaries1, n_boundaries2))\n",
    "#     D_shape = np.reshape(D_shape, (n_boundaries1, n_boundaries2))\n",
    "#     D4 = np.reshape(D_loc, (n_boundaries1, n_boundaries2))\n",
    "    \n",
    "#     dm1.save_pipeline_result(D_boundaries, 'DBoundaries%dWith%d'%(sec1, sec2), 'npy')\n",
    "#     dm1.save_pipeline_result(D_int, 'D1s%dWith%d'%(sec1, sec2), 'npy')\n",
    "#     dm1.save_pipeline_result(D_ext, 'D2s%dWith%d'%(sec1, sec2), 'npy')\n",
    "#     dm1.save_pipeline_result(D_shape, 'D3s%dWith%d'%(sec1, sec2), 'npy')\n",
    "\n",
    "    return D_boundaries, D_int, D_ext, D_shape\n",
    "    \n",
    "#     dm2.save_pipeline_result(D_boundaries.T, 'DBoundaries%dWith%d'%(sec2, sec1), 'npy')\n",
    "#     dm2.save_pipeline_result(D_int.T, 'D1s%dWith%d'%(sec2, sec1), 'npy')\n",
    "#     dm2.save_pipeline_result(D_ext.T, 'D2s%dWith%d'%(sec2, sec1), 'npy')\n",
    "#     dm2.save_pipeline_result(D_shape.T, 'D3s%dWith%d'%(sec2, sec1), 'npy')\n"
   ]
  },
  {
   "cell_type": "code",
   "execution_count": 19,
   "metadata": {
    "collapsed": false
   },
   "outputs": [],
   "source": [
    "def compute_shape_context_descriptors_section(sec_ind):\n",
    "    dm = dms[sec_ind]\n",
    "    boundaries = dm.load_pipeline_result('boundaryModels', 'pkl')\n",
    "    descs = [compute_shape_context_descriptors(b[3], dist_limit=.8) for b in boundaries]\n",
    "    dm.save_pipeline_result(descs, 'shapeContext', 'pkl')\n",
    "#     return descs"
   ]
  },
  {
   "cell_type": "code",
   "execution_count": 20,
   "metadata": {
    "collapsed": true
   },
   "outputs": [],
   "source": [
    "from bipartite_matching import *"
   ]
  },
  {
   "cell_type": "code",
   "execution_count": 21,
   "metadata": {
    "collapsed": false
   },
   "outputs": [],
   "source": [
    "def match_landmarks(sec1, sec2, D=None, must_match=[], cannot_match=[]):\n",
    "    \n",
    "    dm1 = dms[sec1]\n",
    "    dm2 = dms[sec2]\n",
    "    boundaries1 = dm1.load_pipeline_result('boundaryModels')\n",
    "    boundaries2 = dm2.load_pipeline_result('boundaryModels')\n",
    "    \n",
    "    if D is None:\n",
    "        D = dm1.load_pipeline_result('DBoundaries%dWith%d'%(sec1, sec2))\n",
    "        \n",
    "    matchings = knn_matching(D, boundaries1, boundaries2)\n",
    "    matchings = sorted(matchings)\n",
    "    \n",
    "    return matchings"
   ]
  },
  {
   "cell_type": "code",
   "execution_count": null,
   "metadata": {
    "collapsed": true
   },
   "outputs": [],
   "source": [
    "# first_sec = 60\n",
    "# last_sec = 150"
   ]
  },
  {
   "cell_type": "code",
   "execution_count": null,
   "metadata": {
    "collapsed": false,
    "scrolled": false
   },
   "outputs": [],
   "source": [
    "# Parallel(n_jobs=16)(delayed(compute_shape_context_descriptors_section)(sec_ind) \n",
    "#                     for sec_ind in range(first_sec, last_sec+1));"
   ]
  },
  {
   "cell_type": "code",
   "execution_count": 23,
   "metadata": {
    "collapsed": false
   },
   "outputs": [
    {
     "name": "stdout",
     "output_type": "stream",
     "text": [
      "saved /oasis/projects/nsf/csd395/yuncong/CSHL_data_results/MD593/0139/MD593_0139_lossless_gabor-blueNisslWide-segm-tSLIC200-vq-blueNissl_shapeContext.pkl\n"
     ]
    }
   ],
   "source": [
    "compute_shape_context_descriptors_section(139)"
   ]
  },
  {
   "cell_type": "code",
   "execution_count": 24,
   "metadata": {
    "collapsed": false
   },
   "outputs": [
    {
     "name": "stdout",
     "output_type": "stream",
     "text": [
      "saved /oasis/projects/nsf/csd395/yuncong/CSHL_data_results/MD593/0140/MD593_0140_lossless_gabor-blueNisslWide-segm-tSLIC200-vq-blueNissl_shapeContext.pkl\n"
     ]
    }
   ],
   "source": [
    "compute_shape_context_descriptors_section(140)"
   ]
  },
  {
   "cell_type": "code",
   "execution_count": 34,
   "metadata": {
    "collapsed": false,
    "scrolled": true
   },
   "outputs": [
    {
     "name": "stdout",
     "output_type": "stream",
     "text": [
      "boundary_distance 13.8034598827\n"
     ]
    }
   ],
   "source": [
    "sec1 = 138\n",
    "sec2 = sec1 + 1\n",
    "\n",
    "D_boundaries, D_int, D_ext, D_shape = compute_boundary_distances(sec1, sec2, verbose=False)\n",
    "# matchings = match_landmarks(sec1, sec2, D=D_boundaries)\n",
    "# viz = generate_matching_visualizations(sec1, sec2, matchings=matchings)\n",
    "\n",
    "# dms[sec1].save_pipeline_result(D_boundaries, 'DBoundariesNext1')\n",
    "# dms[sec1].save_pipeline_result(matchings, 'matchingsNext1')\n",
    "# dms[sec1].save_pipeline_result(viz, 'matchingsVizNext1')\n",
    "\n",
    "# dms[sec2].save_pipeline_result(D_boundaries.T, 'DBoundariesPrev1')\n",
    "# matchings = [(d,j,i) for d,i,j in matchings]\n",
    "# dms[sec2].save_pipeline_result(matchings, 'matchingsPrev1')\n",
    "# dms[sec2].save_pipeline_result(viz, 'matchingsVizPrev1')"
   ]
  },
  {
   "cell_type": "code",
   "execution_count": 26,
   "metadata": {
    "collapsed": false
   },
   "outputs": [
    {
     "name": "stdout",
     "output_type": "stream",
     "text": [
      "[61 64 92 98 88 37 22  4 87 81 58 31 60 91 56 29  2 63 59 65 57 66 55 67 68\n",
      " 69 70 71 62  0 75 73 97 96 95 94 93 90 89 86 85 84 83 82 80 79 78 77 76 54\n",
      " 74 72 53 49 51 21 20 19 18 17 16 15 14 13 12 11 10  9  8  7  6  5  3  1 23\n",
      " 24 25 26 50 48 47 46 45 44 43 42 41 52 40 38 36 35 34 33 32 30 28 27 39 99]\n",
      "[31 61 37 22 92  4 87 64 56 60 88 81 29 98 91 58  2 57 65 62 66 59 55 67 68\n",
      " 69 70 71 63  0 75 73 97 96 95 94 93 90 89 86 85 84 83 82 80 79 78 77 76 54\n",
      " 74 72 53 49 51 21 20 19 18 17 16 15 14 13 12 11 10  9  8  7  6  5  3  1 23\n",
      " 24 25 26 50 48 47 46 45 44 43 42 41 52 40 38 36 35 34 33 32 30 28 27 39 99]\n",
      "[22 91 37 92 61 31 88 58 64 98 60  4 81 56 87 29  2 63 59 65 57 66 55 67 68\n",
      " 69 70 71 62  0 75 73 97 96 95 94 93 90 89 86 85 84 83 82 80 79 78 77 76 54\n",
      " 74 72 53 49 51 21 20 19 18 17 16 15 14 13 12 11 10  9  8  7  6  5  3  1 23\n",
      " 24 25 26 50 48 47 46 45 44 43 42 41 52 40 38 36 35 34 33 32 30 28 27 39 99]\n",
      "[61 64 98 92 88 58  4 87 81 37 22 31 60 91 29  2 56 62 63 57 65 66 55 67 68\n",
      " 69 70 71 59  0 75 73 97 96 95 94 93 90 89 86 85 84 83 82 80 79 78 77 76 54\n",
      " 74 72 53 49 51 21 20 19 18 17 16 15 14 13 12 11 10  9  8  7  6  5  3  1 23\n",
      " 24 25 26 50 48 47 46 45 44 43 42 41 52 40 38 36 35 34 33 32 30 28 27 39 99]\n"
     ]
    }
   ],
   "source": [
    "print D_boundaries[10].argsort()\n",
    "print D_int[10].argsort()\n",
    "print D_ext[10].argsort()\n",
    "print D_shape[10].argsort()"
   ]
  },
  {
   "cell_type": "code",
   "execution_count": 35,
   "metadata": {
    "collapsed": true
   },
   "outputs": [],
   "source": [
    "matchings = match_landmarks(sec1, sec2, D=D_boundaries)"
   ]
  },
  {
   "cell_type": "code",
   "execution_count": 36,
   "metadata": {
    "collapsed": false
   },
   "outputs": [
    {
     "name": "stdout",
     "output_type": "stream",
     "text": [
      "(0.65436401810237965, 77, 65)\n",
      "(0.78388283316179863, 7, 19)\n",
      "(0.81979789039185957, 8, 40)\n",
      "(0.83044204086958373, 6, 5)\n",
      "(0.8812383306603061, 83, 84)\n",
      "(0.88834390070696023, 72, 88)\n",
      "(0.90436101013334957, 52, 55)\n",
      "(0.91222865288448163, 58, 46)\n",
      "(0.97765181735051199, 85, 67)\n",
      "(0.99275827032103703, 30, 78)\n",
      "(0.99562377055011764, 20, 72)\n",
      "(1.0040815266948404, 10, 7)\n",
      "(1.0192664233273439, 81, 94)\n",
      "(1.0209595728325684, 45, 27)\n",
      "(1.0532930088985069, 39, 31)\n",
      "(1.0611077921349887, 43, 95)\n",
      "(1.0628524773277059, 5, 28)\n",
      "(1.0686998513232504, 11, 30)\n",
      "(1.0785706887947195, 80, 79)\n",
      "(1.079281841909038, 32, 86)\n",
      "(1.0858071262180202, 86, 38)\n",
      "(1.1096731943858908, 15, 13)\n",
      "(1.1102324257272056, 40, 44)\n",
      "(1.1127387794904713, 53, 18)\n",
      "(1.1268341505105171, 59, 70)\n",
      "(1.1714112556723504, 66, 82)\n",
      "(1.1805272354687539, 89, 64)\n",
      "(1.1992584075332813, 87, 59)\n",
      "(1.2068779081309822, 76, 48)\n",
      "(1.2242001503085322, 34, 2)\n",
      "(1.2258534147709397, 64, 10)\n",
      "(1.2688334259912999, 54, 57)\n",
      "(1.2983499695441032, 35, 66)\n",
      "(1.3156984784702332, 31, 50)\n",
      "(1.327339140340019, 96, 53)\n",
      "(1.3444201802340492, 13, 9)\n",
      "(1.3500838536537971, 65, 15)\n",
      "(1.3688215942405013, 46, 25)\n",
      "(1.4014256634108422, 88, 23)\n",
      "(1.4043496307748538, 14, 83)\n",
      "(1.407045319021444, 16, 12)\n",
      "(1.4085728088707712, 3, 32)\n",
      "(1.4107157545814613, 24, 71)\n",
      "(1.4374141708240136, 91, 90)\n",
      "(1.5400351509156613, 75, 29)\n",
      "(1.5770755710324349, 23, 41)\n",
      "(1.7651261919722079, 36, 80)\n",
      "(1.8031229224360719, 62, 39)\n",
      "(2.022540253483061, 2, 0)\n"
     ]
    }
   ],
   "source": [
    "for m in matchings:\n",
    "    print m"
   ]
  },
  {
   "cell_type": "code",
   "execution_count": 37,
   "metadata": {
    "collapsed": false
   },
   "outputs": [
    {
     "data": {
      "text/html": [
       "<a href='tmp.jpg' target='_blank'>tmp.jpg</a><br>"
      ],
      "text/plain": [
       "/oasis/projects/nsf/csd395/yuncong/Brain/notebooks/tmp.jpg"
      ]
     },
     "execution_count": 37,
     "metadata": {},
     "output_type": "execute_result"
    }
   ],
   "source": [
    "viz = generate_matching_visualizations(sec1, sec2, matchings=matchings[:30])\n",
    "display(viz)"
   ]
  },
  {
   "cell_type": "code",
   "execution_count": null,
   "metadata": {
    "collapsed": true
   },
   "outputs": [],
   "source": []
  },
  {
   "cell_type": "code",
   "execution_count": null,
   "metadata": {
    "collapsed": false
   },
   "outputs": [],
   "source": [
    "fig, axes = plt.subplots(2,2,figsize=(10,10));\n",
    "\n",
    "axes[0,0].matshow(D_boundaries);\n",
    "axes[0,0].set_title('overall');\n",
    "# axes[0,0].axis('off');\n",
    "axes[0,1].matshow(D_int);\n",
    "axes[0,1].set_title('interior');\n",
    "# axes[0,1].axis('off');\n",
    "axes[1,0].matshow(D_ext);\n",
    "axes[1,0].set_title('exterior');\n",
    "# axes[1,0].axis('off');\n",
    "axes[1,1].matshow(D_shape);\n",
    "axes[1,1].set_title('shape');\n",
    "# axes[1,1].axis('off');\n",
    "\n",
    "plt.show();"
   ]
  },
  {
   "cell_type": "code",
   "execution_count": null,
   "metadata": {
    "collapsed": true
   },
   "outputs": [],
   "source": [
    "def f(sec1):\n",
    "    if sec1 < last_sec:\n",
    "        sec2 = sec1 + 1\n",
    "        D_boundaries, D_int, D_ext, D_shape = compute_boundary_distances(sec1, sec2, verbose=False)\n",
    "        matchings = match_landmarks(sec1, sec2, D=D_boundaries)\n",
    "        viz = generate_matching_visualizations(sec1, sec2, matchings=matchings)\n",
    "        dms[sec1].save_pipeline_result(D_boundaries, 'DBoundariesNext1')\n",
    "        dms[sec1].save_pipeline_result(matchings, 'matchingsNext1')\n",
    "        dms[sec1].save_pipeline_result(viz, 'matchingsVizNext1')\n",
    "        dms[sec2].save_pipeline_result(D_boundaries, 'DBoundariesPrev1')\n",
    "        dms[sec2].save_pipeline_result(matchings, 'matchingsPrev1')\n",
    "        dms[sec2].save_pipeline_result(viz, 'matchingsVizPrev1')\n",
    "    sys.stderr.write('%d,%d\\n'%(sec_ind, sec_ind+1))\n",
    "    \n",
    "    if sec1 < last_sec-1:\n",
    "        sec2 = sec1 + 2\n",
    "        D_boundaries, D_int, D_ext, D_shape = compute_boundary_distances(sec1, sec2, verbose=False)\n",
    "        matchings = match_landmarks(sec1, sec2, D=D_boundaries)\n",
    "        viz = generate_matching_visualizations(sec1, sec2, matchings=matchings)\n",
    "        dms[sec1].save_pipeline_result(D_boundaries, 'DBoundariesNext2')\n",
    "        dms[sec1].save_pipeline_result(matchings, 'matchingsNext2')\n",
    "        dms[sec1].save_pipeline_result(viz, 'matchingsVizNext2')\n",
    "        dms[sec2].save_pipeline_result(D_boundaries, 'DBoundariesPrev2')\n",
    "        dms[sec2].save_pipeline_result(matchings, 'matchingsPrev2')\n",
    "        dms[sec2].save_pipeline_result(viz, 'matchingsVizPrev2')\n",
    "    sys.stderr.write('%d,%d\\n'%(sec_ind, sec_ind+2))\n",
    "    \n",
    "    if sec1 < last_sec-2:\n",
    "        sec2 = sec1 + 3\n",
    "        D_boundaries, D_int, D_ext, D_shape = compute_boundary_distances(sec1, sec2, verbose=False)\n",
    "        matchings = match_landmarks(sec1, sec2, D=D_boundaries)\n",
    "        viz = generate_matching_visualizations(sec1, sec2, matchings=matchings)\n",
    "        dms[sec1].save_pipeline_result(D_boundaries, 'DBoundariesNext3')\n",
    "        dms[sec1].save_pipeline_result(matchings, 'matchingsNext3')\n",
    "        dms[sec1].save_pipeline_result(viz, 'matchingsVizNext3')\n",
    "        dms[sec2].save_pipeline_result(D_boundaries, 'DBoundariesPrev3')\n",
    "        dms[sec2].save_pipeline_result(matchings, 'matchingsPrev3')\n",
    "        dms[sec2].save_pipeline_result(viz, 'matchingsVizPrev3')\n",
    "    sys.stderr.write('%d,%d\\n'%(sec_ind, sec_ind+3))"
   ]
  },
  {
   "cell_type": "code",
   "execution_count": null,
   "metadata": {
    "collapsed": false
   },
   "outputs": [],
   "source": [
    "Parallel(n_jobs=16)(delayed(f)(sec1) for sec1 in range(first_sec, last_sec+1))"
   ]
  },
  {
   "cell_type": "code",
   "execution_count": null,
   "metadata": {
    "collapsed": false,
    "scrolled": true
   },
   "outputs": [],
   "source": [
    "b = time.time()\n",
    "\n",
    "for sec1 in range(first_sec, last_sec+1):\n",
    "    \n",
    "    if sec1 < last_sec:\n",
    "        sec2 = sec1 + 1\n",
    "        D_boundaries, D_int, D_ext, D_shape = compute_boundary_distances(sec1, sec2, verbose=False)\n",
    "        matchings = match_landmarks(sec1, sec2, D=D_boundaries)\n",
    "        viz = generate_matching_visualizations(sec1, sec2, matchings=matchings)\n",
    "        dms[sec1].save_pipeline_result(D_boundaries, 'DBoundariesNext1')\n",
    "        dms[sec1].save_pipeline_result(matchings, 'matchingsNext1')\n",
    "        dms[sec1].save_pipeline_result(viz, 'matchingsVizNext1')\n",
    "        dms[sec2].save_pipeline_result(D_boundaries, 'DBoundariesPrev1')\n",
    "        dms[sec2].save_pipeline_result(matchings, 'matchingsPrev1')\n",
    "        dms[sec2].save_pipeline_result(viz, 'matchingsVizPrev1')\n",
    "    sys.stderr.write('%d,%d\\n'%(sec_ind, sec_ind+1))\n",
    "    \n",
    "    if sec1 < last_sec-1:\n",
    "        sec2 = sec1 + 2\n",
    "        D_boundaries, D_int, D_ext, D_shape = compute_boundary_distances(sec1, sec2, verbose=False)\n",
    "        matchings = match_landmarks(sec1, sec2, D=D_boundaries)\n",
    "        viz = generate_matching_visualizations(sec1, sec2, matchings=matchings)\n",
    "        dms[sec1].save_pipeline_result(D_boundaries, 'DBoundariesNext2')\n",
    "        dms[sec1].save_pipeline_result(matchings, 'matchingsNext2')\n",
    "        dms[sec1].save_pipeline_result(viz, 'matchingsVizNext2')\n",
    "        dms[sec2].save_pipeline_result(D_boundaries, 'DBoundariesPrev2')\n",
    "        dms[sec2].save_pipeline_result(matchings, 'matchingsPrev2')\n",
    "        dms[sec2].save_pipeline_result(viz, 'matchingsVizPrev2')\n",
    "    sys.stderr.write('%d,%d\\n'%(sec_ind, sec_ind+2))\n",
    "    \n",
    "    if sec1 < last_sec-2:\n",
    "        sec2 = sec1 + 3\n",
    "        D_boundaries, D_int, D_ext, D_shape = compute_boundary_distances(sec1, sec2, verbose=False)\n",
    "        matchings = match_landmarks(sec1, sec2, D=D_boundaries)\n",
    "        viz = generate_matching_visualizations(sec1, sec2, matchings=matchings)\n",
    "        dms[sec1].save_pipeline_result(D_boundaries, 'DBoundariesNext3')\n",
    "        dms[sec1].save_pipeline_result(matchings, 'matchingsNext3')\n",
    "        dms[sec1].save_pipeline_result(viz, 'matchingsVizNext3')\n",
    "        dms[sec2].save_pipeline_result(D_boundaries, 'DBoundariesPrev3')\n",
    "        dms[sec2].save_pipeline_result(matchings, 'matchingsPrev3')\n",
    "        dms[sec2].save_pipeline_result(viz, 'matchingsVizPrev3')\n",
    "    sys.stderr.write('%d,%d\\n'%(sec_ind, sec_ind+3))\n",
    "        \n",
    "print time.time() - b"
   ]
  },
  {
   "cell_type": "code",
   "execution_count": null,
   "metadata": {
    "collapsed": false
   },
   "outputs": [],
   "source": [
    "must_matches = []\n",
    "\n",
    "must_match_sections = defaultdict(list)\n",
    "for m in must_matches:\n",
    "    mm = sorted(list(m))\n",
    "    must_match_sections[(mm[0][0], mm[1][0])].append((mm[0][1], mm[1][1]))"
   ]
  },
  {
   "cell_type": "code",
   "execution_count": null,
   "metadata": {
    "collapsed": false,
    "scrolled": true
   },
   "outputs": [],
   "source": [
    "# Match boundaries in consecutive sections\n",
    "\n",
    "for sec_ind in slide_indices:\n",
    "    print sec_ind\n",
    "#     b = time.time()\n",
    "    if sec_ind < last_sec:\n",
    "        match_landmarks(sec_ind, sec_ind+1, must_match=must_match_sections[(sec_ind, sec_ind+1)])\n",
    "    if sec_ind < last_sec-1:\n",
    "        match_landmarks(sec_ind, sec_ind+2, must_match=must_match_sections[(sec_ind, sec_ind+2)])\n",
    "    if sec_ind < last_sec-2:\n",
    "        match_landmarks(sec_ind, sec_ind+3, must_match=must_match_sections[(sec_ind, sec_ind+3)])\n",
    "#     print time.time()-b"
   ]
  }
 ],
 "metadata": {
  "kernelspec": {
   "display_name": "Python 2",
   "language": "python",
   "name": "python2"
  },
  "language_info": {
   "codemirror_mode": {
    "name": "ipython",
    "version": 2
   },
   "file_extension": ".py",
   "mimetype": "text/x-python",
   "name": "python",
   "nbconvert_exporter": "python",
   "pygments_lexer": "ipython2",
   "version": "2.7.3"
  }
 },
 "nbformat": 4,
 "nbformat_minor": 0
}
