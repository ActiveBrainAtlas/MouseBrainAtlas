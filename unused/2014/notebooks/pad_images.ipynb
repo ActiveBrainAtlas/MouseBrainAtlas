{
 "cells": [
  {
   "cell_type": "code",
   "execution_count": 1,
   "metadata": {
    "collapsed": false
   },
   "outputs": [],
   "source": [
    "from skimage.util import pad"
   ]
  },
  {
   "cell_type": "code",
   "execution_count": 2,
   "metadata": {
    "collapsed": true
   },
   "outputs": [],
   "source": [
    "import sys\n",
    "from utilities2014 import *"
   ]
  },
  {
   "cell_type": "code",
   "execution_count": 3,
   "metadata": {
    "collapsed": false
   },
   "outputs": [],
   "source": [
    "from subprocess import check_output\n",
    "stack_name = 'RS141'\n",
    "s = check_output(\"ls %s\" % os.path.join(os.environ['GORDON_DATA_DIR'], stack_name, 'x5'), shell=True)\n",
    "slide_indices = [int(f) for f in s.split('\\n') if len(f) > 0]\n",
    "n_slice = len(slide_indices)\n",
    "last_sec = max(slide_indices)"
   ]
  },
  {
   "cell_type": "code",
   "execution_count": null,
   "metadata": {
    "collapsed": false
   },
   "outputs": [],
   "source": [
    "for i in slide_indices:\n",
    "    dm = DataManager(generate_hierarchy=False, stack='RS141', resol='x5', section=i)\n",
    "    dm._load_image()\n",
    "    img_shapes = dm.image_rgb.shape[:2]\n",
    "    dm.save_pipeline_result(img_shapes, 'imgShape', 'npy')"
   ]
  },
  {
   "cell_type": "code",
   "execution_count": 4,
   "metadata": {
    "collapsed": false
   },
   "outputs": [
    {
     "name": "stderr",
     "output_type": "stream",
     "text": [
      "/oasis/projects/nsf/csd181/yuncong/virtualenv-1.9.1/yuncongve/lib/python2.7/site-packages/skimage/filter/__init__.py:6: skimage_deprecation: The `skimage.filter` module has been renamed to `skimage.filters`.  This placeholder module will be removed in v0.13.\n",
      "  warn(skimage_deprecation('The `skimage.filter` module has been renamed '\n"
     ]
    }
   ],
   "source": [
    "dms = [DataManager(generate_hierarchy=False, stack='RS141', resol='x5', section=i) for i in slide_indices]"
   ]
  },
  {
   "cell_type": "code",
   "execution_count": 8,
   "metadata": {
    "collapsed": true
   },
   "outputs": [],
   "source": [
    "margin = 500\n",
    "\n",
    "img_shapes = [dm.load_pipeline_result('imgShape', 'npy') for dm in dms]\n",
    "canvas_shape = np.max(img_shapes, axis=0) + 2 * margin\n",
    "np.save(os.environ['GORDON_RESULT_DIR'] + '/paddedSize.npy', canvas_shape)"
   ]
  },
  {
   "cell_type": "code",
   "execution_count": 40,
   "metadata": {
    "collapsed": true
   },
   "outputs": [],
   "source": [
    "def pad_image(img, canvas_shape):\n",
    "    \n",
    "    if np.issubdtype(dm.image_rgb.dtype, np.float):\n",
    "        img = img_as_ubyte(img)\n",
    "    \n",
    "    canvas_height, canvas_width = canvas_shape\n",
    "    \n",
    "    canvas = 255 * np.ones((canvas_height, canvas_width, 3), dtype=np.uint8)\n",
    "    img_h, img_w = img.shape[:2]\n",
    "    orig_y = canvas_height/2-img_h/2\n",
    "    orig_x = canvas_width/2-img_w/2\n",
    "                \n",
    "    canvas[orig_y:orig_y+img_h, orig_x:orig_x+img_w, :] = img[..., :3].copy()\n",
    "\n",
    "    return canvas.copy(), np.array([orig_x, orig_y])"
   ]
  },
  {
   "cell_type": "code",
   "execution_count": 41,
   "metadata": {
    "collapsed": false,
    "scrolled": true
   },
   "outputs": [
    {
     "name": "stdout",
     "output_type": "stream",
     "text": [
      "saved /oasis/projects/nsf/csd395/yuncong/DavidData2014results/RS141/0000/RS141_x5_0000_gabor-blueNisslWide-segm-blueNisslRegular-vq-blueNissl_padded.jpg\n",
      "saved /oasis/projects/nsf/csd395/yuncong/DavidData2014results/RS141/0000/RS141_x5_0000_gabor-blueNisslWide-segm-blueNisslRegular-vq-blueNissl_originPosOnCanvas.npy\n",
      "saved /oasis/projects/nsf/csd395/yuncong/DavidData2014results/RS141/0001/RS141_x5_0001_gabor-blueNisslWide-segm-blueNisslRegular-vq-blueNissl_padded.jpg\n",
      "saved /oasis/projects/nsf/csd395/yuncong/DavidData2014results/RS141/0001/RS141_x5_0001_gabor-blueNisslWide-segm-blueNisslRegular-vq-blueNissl_originPosOnCanvas.npy\n",
      "saved /oasis/projects/nsf/csd395/yuncong/DavidData2014results/RS141/0002/RS141_x5_0002_gabor-blueNisslWide-segm-blueNisslRegular-vq-blueNissl_padded.jpg\n",
      "saved /oasis/projects/nsf/csd395/yuncong/DavidData2014results/RS141/0002/RS141_x5_0002_gabor-blueNisslWide-segm-blueNisslRegular-vq-blueNissl_originPosOnCanvas.npy\n",
      "saved /oasis/projects/nsf/csd395/yuncong/DavidData2014results/RS141/0003/RS141_x5_0003_gabor-blueNisslWide-segm-blueNisslRegular-vq-blueNissl_padded.jpg\n",
      "saved /oasis/projects/nsf/csd395/yuncong/DavidData2014results/RS141/0003/RS141_x5_0003_gabor-blueNisslWide-segm-blueNisslRegular-vq-blueNissl_originPosOnCanvas.npy\n",
      "saved /oasis/projects/nsf/csd395/yuncong/DavidData2014results/RS141/0004/RS141_x5_0004_gabor-blueNisslWide-segm-blueNisslRegular-vq-blueNissl_padded.jpg\n",
      "saved /oasis/projects/nsf/csd395/yuncong/DavidData2014results/RS141/0004/RS141_x5_0004_gabor-blueNisslWide-segm-blueNisslRegular-vq-blueNissl_originPosOnCanvas.npy\n",
      "saved /oasis/projects/nsf/csd395/yuncong/DavidData2014results/RS141/0005/RS141_x5_0005_gabor-blueNisslWide-segm-blueNisslRegular-vq-blueNissl_padded.jpg\n",
      "saved /oasis/projects/nsf/csd395/yuncong/DavidData2014results/RS141/0005/RS141_x5_0005_gabor-blueNisslWide-segm-blueNisslRegular-vq-blueNissl_originPosOnCanvas.npy\n",
      "saved /oasis/projects/nsf/csd395/yuncong/DavidData2014results/RS141/0006/RS141_x5_0006_gabor-blueNisslWide-segm-blueNisslRegular-vq-blueNissl_padded.jpg\n",
      "saved /oasis/projects/nsf/csd395/yuncong/DavidData2014results/RS141/0006/RS141_x5_0006_gabor-blueNisslWide-segm-blueNisslRegular-vq-blueNissl_originPosOnCanvas.npy\n",
      "saved /oasis/projects/nsf/csd395/yuncong/DavidData2014results/RS141/0007/RS141_x5_0007_gabor-blueNisslWide-segm-blueNisslRegular-vq-blueNissl_padded.jpg\n",
      "saved /oasis/projects/nsf/csd395/yuncong/DavidData2014results/RS141/0007/RS141_x5_0007_gabor-blueNisslWide-segm-blueNisslRegular-vq-blueNissl_originPosOnCanvas.npy\n",
      "saved /oasis/projects/nsf/csd395/yuncong/DavidData2014results/RS141/0008/RS141_x5_0008_gabor-blueNisslWide-segm-blueNisslRegular-vq-blueNissl_padded.jpg\n",
      "saved /oasis/projects/nsf/csd395/yuncong/DavidData2014results/RS141/0008/RS141_x5_0008_gabor-blueNisslWide-segm-blueNisslRegular-vq-blueNissl_originPosOnCanvas.npy\n",
      "saved /oasis/projects/nsf/csd395/yuncong/DavidData2014results/RS141/0009/RS141_x5_0009_gabor-blueNisslWide-segm-blueNisslRegular-vq-blueNissl_padded.jpg\n",
      "saved /oasis/projects/nsf/csd395/yuncong/DavidData2014results/RS141/0009/RS141_x5_0009_gabor-blueNisslWide-segm-blueNisslRegular-vq-blueNissl_originPosOnCanvas.npy\n",
      "saved /oasis/projects/nsf/csd395/yuncong/DavidData2014results/RS141/0010/RS141_x5_0010_gabor-blueNisslWide-segm-blueNisslRegular-vq-blueNissl_padded.jpg\n",
      "saved /oasis/projects/nsf/csd395/yuncong/DavidData2014results/RS141/0010/RS141_x5_0010_gabor-blueNisslWide-segm-blueNisslRegular-vq-blueNissl_originPosOnCanvas.npy\n",
      "saved /oasis/projects/nsf/csd395/yuncong/DavidData2014results/RS141/0011/RS141_x5_0011_gabor-blueNisslWide-segm-blueNisslRegular-vq-blueNissl_padded.jpg\n",
      "saved /oasis/projects/nsf/csd395/yuncong/DavidData2014results/RS141/0011/RS141_x5_0011_gabor-blueNisslWide-segm-blueNisslRegular-vq-blueNissl_originPosOnCanvas.npy\n",
      "saved /oasis/projects/nsf/csd395/yuncong/DavidData2014results/RS141/0012/RS141_x5_0012_gabor-blueNisslWide-segm-blueNisslRegular-vq-blueNissl_padded.jpg\n",
      "saved /oasis/projects/nsf/csd395/yuncong/DavidData2014results/RS141/0012/RS141_x5_0012_gabor-blueNisslWide-segm-blueNisslRegular-vq-blueNissl_originPosOnCanvas.npy\n",
      "saved /oasis/projects/nsf/csd395/yuncong/DavidData2014results/RS141/0013/RS141_x5_0013_gabor-blueNisslWide-segm-blueNisslRegular-vq-blueNissl_padded.jpg\n",
      "saved /oasis/projects/nsf/csd395/yuncong/DavidData2014results/RS141/0013/RS141_x5_0013_gabor-blueNisslWide-segm-blueNisslRegular-vq-blueNissl_originPosOnCanvas.npy\n",
      "saved /oasis/projects/nsf/csd395/yuncong/DavidData2014results/RS141/0014/RS141_x5_0014_gabor-blueNisslWide-segm-blueNisslRegular-vq-blueNissl_padded.jpg\n",
      "saved /oasis/projects/nsf/csd395/yuncong/DavidData2014results/RS141/0014/RS141_x5_0014_gabor-blueNisslWide-segm-blueNisslRegular-vq-blueNissl_originPosOnCanvas.npy\n",
      "saved /oasis/projects/nsf/csd395/yuncong/DavidData2014results/RS141/0015/RS141_x5_0015_gabor-blueNisslWide-segm-blueNisslRegular-vq-blueNissl_padded.jpg\n",
      "saved /oasis/projects/nsf/csd395/yuncong/DavidData2014results/RS141/0015/RS141_x5_0015_gabor-blueNisslWide-segm-blueNisslRegular-vq-blueNissl_originPosOnCanvas.npy\n",
      "saved /oasis/projects/nsf/csd395/yuncong/DavidData2014results/RS141/0016/RS141_x5_0016_gabor-blueNisslWide-segm-blueNisslRegular-vq-blueNissl_padded.jpg\n",
      "saved /oasis/projects/nsf/csd395/yuncong/DavidData2014results/RS141/0016/RS141_x5_0016_gabor-blueNisslWide-segm-blueNisslRegular-vq-blueNissl_originPosOnCanvas.npy\n",
      "saved /oasis/projects/nsf/csd395/yuncong/DavidData2014results/RS141/0017/RS141_x5_0017_gabor-blueNisslWide-segm-blueNisslRegular-vq-blueNissl_padded.jpg\n",
      "saved /oasis/projects/nsf/csd395/yuncong/DavidData2014results/RS141/0017/RS141_x5_0017_gabor-blueNisslWide-segm-blueNisslRegular-vq-blueNissl_originPosOnCanvas.npy\n",
      "saved /oasis/projects/nsf/csd395/yuncong/DavidData2014results/RS141/0018/RS141_x5_0018_gabor-blueNisslWide-segm-blueNisslRegular-vq-blueNissl_padded.jpg\n",
      "saved /oasis/projects/nsf/csd395/yuncong/DavidData2014results/RS141/0018/RS141_x5_0018_gabor-blueNisslWide-segm-blueNisslRegular-vq-blueNissl_originPosOnCanvas.npy\n",
      "saved /oasis/projects/nsf/csd395/yuncong/DavidData2014results/RS141/0019/RS141_x5_0019_gabor-blueNisslWide-segm-blueNisslRegular-vq-blueNissl_padded.jpg\n",
      "saved /oasis/projects/nsf/csd395/yuncong/DavidData2014results/RS141/0019/RS141_x5_0019_gabor-blueNisslWide-segm-blueNisslRegular-vq-blueNissl_originPosOnCanvas.npy\n",
      "saved /oasis/projects/nsf/csd395/yuncong/DavidData2014results/RS141/0020/RS141_x5_0020_gabor-blueNisslWide-segm-blueNisslRegular-vq-blueNissl_padded.jpg\n",
      "saved /oasis/projects/nsf/csd395/yuncong/DavidData2014results/RS141/0020/RS141_x5_0020_gabor-blueNisslWide-segm-blueNisslRegular-vq-blueNissl_originPosOnCanvas.npy\n",
      "saved /oasis/projects/nsf/csd395/yuncong/DavidData2014results/RS141/0021/RS141_x5_0021_gabor-blueNisslWide-segm-blueNisslRegular-vq-blueNissl_padded.jpg\n",
      "saved /oasis/projects/nsf/csd395/yuncong/DavidData2014results/RS141/0021/RS141_x5_0021_gabor-blueNisslWide-segm-blueNisslRegular-vq-blueNissl_originPosOnCanvas.npy\n",
      "saved /oasis/projects/nsf/csd395/yuncong/DavidData2014results/RS141/0022/RS141_x5_0022_gabor-blueNisslWide-segm-blueNisslRegular-vq-blueNissl_padded.jpg\n",
      "saved /oasis/projects/nsf/csd395/yuncong/DavidData2014results/RS141/0022/RS141_x5_0022_gabor-blueNisslWide-segm-blueNisslRegular-vq-blueNissl_originPosOnCanvas.npy\n",
      "saved /oasis/projects/nsf/csd395/yuncong/DavidData2014results/RS141/0023/RS141_x5_0023_gabor-blueNisslWide-segm-blueNisslRegular-vq-blueNissl_padded.jpg\n",
      "saved /oasis/projects/nsf/csd395/yuncong/DavidData2014results/RS141/0023/RS141_x5_0023_gabor-blueNisslWide-segm-blueNisslRegular-vq-blueNissl_originPosOnCanvas.npy\n",
      "saved /oasis/projects/nsf/csd395/yuncong/DavidData2014results/RS141/0024/RS141_x5_0024_gabor-blueNisslWide-segm-blueNisslRegular-vq-blueNissl_padded.jpg\n",
      "saved /oasis/projects/nsf/csd395/yuncong/DavidData2014results/RS141/0024/RS141_x5_0024_gabor-blueNisslWide-segm-blueNisslRegular-vq-blueNissl_originPosOnCanvas.npy\n",
      "saved /oasis/projects/nsf/csd395/yuncong/DavidData2014results/RS141/0025/RS141_x5_0025_gabor-blueNisslWide-segm-blueNisslRegular-vq-blueNissl_padded.jpg\n",
      "saved /oasis/projects/nsf/csd395/yuncong/DavidData2014results/RS141/0025/RS141_x5_0025_gabor-blueNisslWide-segm-blueNisslRegular-vq-blueNissl_originPosOnCanvas.npy\n",
      "saved /oasis/projects/nsf/csd395/yuncong/DavidData2014results/RS141/0026/RS141_x5_0026_gabor-blueNisslWide-segm-blueNisslRegular-vq-blueNissl_padded.jpg\n",
      "saved /oasis/projects/nsf/csd395/yuncong/DavidData2014results/RS141/0026/RS141_x5_0026_gabor-blueNisslWide-segm-blueNisslRegular-vq-blueNissl_originPosOnCanvas.npy\n",
      "saved /oasis/projects/nsf/csd395/yuncong/DavidData2014results/RS141/0027/RS141_x5_0027_gabor-blueNisslWide-segm-blueNisslRegular-vq-blueNissl_padded.jpg\n",
      "saved /oasis/projects/nsf/csd395/yuncong/DavidData2014results/RS141/0027/RS141_x5_0027_gabor-blueNisslWide-segm-blueNisslRegular-vq-blueNissl_originPosOnCanvas.npy\n",
      "saved /oasis/projects/nsf/csd395/yuncong/DavidData2014results/RS141/0028/RS141_x5_0028_gabor-blueNisslWide-segm-blueNisslRegular-vq-blueNissl_padded.jpg\n",
      "saved /oasis/projects/nsf/csd395/yuncong/DavidData2014results/RS141/0028/RS141_x5_0028_gabor-blueNisslWide-segm-blueNisslRegular-vq-blueNissl_originPosOnCanvas.npy\n",
      "saved /oasis/projects/nsf/csd395/yuncong/DavidData2014results/RS141/0029/RS141_x5_0029_gabor-blueNisslWide-segm-blueNisslRegular-vq-blueNissl_padded.jpg\n",
      "saved /oasis/projects/nsf/csd395/yuncong/DavidData2014results/RS141/0029/RS141_x5_0029_gabor-blueNisslWide-segm-blueNisslRegular-vq-blueNissl_originPosOnCanvas.npy\n",
      "saved /oasis/projects/nsf/csd395/yuncong/DavidData2014results/RS141/0030/RS141_x5_0030_gabor-blueNisslWide-segm-blueNisslRegular-vq-blueNissl_padded.jpg\n",
      "saved /oasis/projects/nsf/csd395/yuncong/DavidData2014results/RS141/0030/RS141_x5_0030_gabor-blueNisslWide-segm-blueNisslRegular-vq-blueNissl_originPosOnCanvas.npy\n",
      "saved /oasis/projects/nsf/csd395/yuncong/DavidData2014results/RS141/0031/RS141_x5_0031_gabor-blueNisslWide-segm-blueNisslRegular-vq-blueNissl_padded.jpg\n",
      "saved /oasis/projects/nsf/csd395/yuncong/DavidData2014results/RS141/0031/RS141_x5_0031_gabor-blueNisslWide-segm-blueNisslRegular-vq-blueNissl_originPosOnCanvas.npy\n",
      "saved /oasis/projects/nsf/csd395/yuncong/DavidData2014results/RS141/0032/RS141_x5_0032_gabor-blueNisslWide-segm-blueNisslRegular-vq-blueNissl_padded.jpg\n",
      "saved /oasis/projects/nsf/csd395/yuncong/DavidData2014results/RS141/0032/RS141_x5_0032_gabor-blueNisslWide-segm-blueNisslRegular-vq-blueNissl_originPosOnCanvas.npy\n",
      "saved /oasis/projects/nsf/csd395/yuncong/DavidData2014results/RS141/0033/RS141_x5_0033_gabor-blueNisslWide-segm-blueNisslRegular-vq-blueNissl_padded.jpg\n",
      "saved /oasis/projects/nsf/csd395/yuncong/DavidData2014results/RS141/0033/RS141_x5_0033_gabor-blueNisslWide-segm-blueNisslRegular-vq-blueNissl_originPosOnCanvas.npy\n"
     ]
    }
   ],
   "source": [
    "for sec_ind in slide_indices:\n",
    "    dm = DataManager(generate_hierarchy=False, stack='RS141', resol='x5', section=sec_ind)\n",
    "    dm._load_image()\n",
    "    \n",
    "    padded_img, origin_on_canvas = pad_image(dm.image_rgb, canvas_shape)\n",
    "    dm.save_pipeline_result(padded_img, 'padded', 'jpg')\n",
    "    dm.save_pipeline_result(origin_on_canvas, 'originPosOnCanvas', 'npy')"
   ]
  }
 ],
 "metadata": {
  "kernelspec": {
   "display_name": "Python 2",
   "language": "python",
   "name": "python2"
  },
  "language_info": {
   "codemirror_mode": {
    "name": "ipython",
    "version": 2
   },
   "file_extension": ".py",
   "mimetype": "text/x-python",
   "name": "python",
   "nbconvert_exporter": "python",
   "pygments_lexer": "ipython2",
   "version": "2.7.3"
  }
 },
 "nbformat": 4,
 "nbformat_minor": 0
}
