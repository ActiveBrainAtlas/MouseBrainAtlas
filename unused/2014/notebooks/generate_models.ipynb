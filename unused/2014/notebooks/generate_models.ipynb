{
 "metadata": {
  "name": "",
  "signature": "sha256:6b0dd326188ae80f0e85a991b70995b4fa825df8b1f67f518eea0e15b0a22131"
 },
 "nbformat": 3,
 "nbformat_minor": 0,
 "worksheets": [
  {
   "cells": [
    {
     "cell_type": "code",
     "collapsed": false,
     "input": [
      "%load_ext autoreload\n",
      "%autoreload 2"
     ],
     "language": "python",
     "metadata": {},
     "outputs": [],
     "prompt_number": 3
    },
    {
     "cell_type": "code",
     "collapsed": false,
     "input": [
      "from utilities import *\n",
      "\n",
      "if 'SSH_CONNECTION' in os.environ:\n",
      "    DATA_DIR = '/home/yuncong/DavidData'\n",
      "    REPO_DIR = '/home/yuncong/Brain'\n",
      "else:\n",
      "    DATA_DIR = '/home/yuncong/BrainLocal/DavidData_v4'\n",
      "    REPO_DIR = '/home/yuncong/BrainSaliencyDetection'\n",
      "\n",
      "dm = DataManager(DATA_DIR, REPO_DIR)\n",
      "\n",
      "# import argparse\n",
      "# import sys\n",
      "\n",
      "# parser = argparse.ArgumentParser(\n",
      "# formatter_class=argparse.RawDescriptionHelpFormatter,\n",
      "# description='Execute feature extraction pipeline',\n",
      "# epilog=\"\"\"\n",
      "# The following command processes image RS141_x5_0001.tif using blueNissl for both gabor parameters and segmentation parameters.\n",
      "# python %s RS141 x5 1 -g blueNissl -v blueNissl\n",
      "# \"\"\"%(os.path.basename(sys.argv[0]), ))\n",
      "\n",
      "# parser.add_argument(\"stack_name\", type=str, help=\"stack name\")\n",
      "# parser.add_argument(\"resolution\", type=str, help=\"resolution string\")\n",
      "# parser.add_argument(\"slice_ind\", type=int, help=\"slice index\")\n",
      "# parser.add_argument(\"-g\", \"--gabor_params_id\", type=str, help=\"gabor filter parameters id (default: %(default)s)\", default='blueNissl')\n",
      "# parser.add_argument(\"-v\", \"--vq_params_id\", type=str, help=\"vq parameters id (default: %(default)s)\", default='blueNissl')\n",
      "# args = parser.parse_args()\n",
      "\n",
      "class args:\n",
      "    stack_name = 'RS141'\n",
      "    resolution = 'x5'\n",
      "    slice_ind = 1\n",
      "    gabor_params_id = 'blueNisslWide'\n",
      "    segm_params_id = 'blueNissl'\n",
      "    vq_params_id = 'blueNissl'"
     ],
     "language": "python",
     "metadata": {},
     "outputs": [],
     "prompt_number": 4
    },
    {
     "cell_type": "code",
     "collapsed": false,
     "input": [
      "dm.set_image(args.stack_name, args.resolution, args.slice_ind)\n",
      "dm.set_gabor_params(gabor_params_id=args.gabor_params_id)\n",
      "dm.set_segmentation_params(segm_params_id=args.segm_params_id)\n",
      "dm.set_vq_params(vq_params_id=args.vq_params_id)"
     ],
     "language": "python",
     "metadata": {},
     "outputs": [],
     "prompt_number": 5
    },
    {
     "cell_type": "code",
     "collapsed": false,
     "input": [
      "n_texton = int(dm.vq_params['n_texton'])\n",
      "\n",
      "texton_hists = dm.load_pipeline_result('texHist', 'npy')\n",
      "\n",
      "cropped_segmentation = dm.load_pipeline_result('cropSegmentation', 'npy')\n",
      "n_superpixels = len(unique(cropped_segmentation)) - 1\n",
      "cropped_mask = dm.load_pipeline_result('cropMask', 'npy')\n",
      "\n",
      "textonmap = dm.load_pipeline_result('texMap', 'npy')\n",
      "neighbors = dm.load_pipeline_result('neighbors', 'npy')\n",
      "\n",
      "cropped_image = dm.load_pipeline_result('cropImg', 'tif')\n",
      "\n",
      "sp_properties = dm.load_pipeline_result('cropSpProps', 'npy')"
     ],
     "language": "python",
     "metadata": {},
     "outputs": [
      {
       "output_type": "stream",
       "stream": "stdout",
       "text": [
        "loaded /home/yuncong/DavidData/RS141/x5/0001/histResults/RS141_x5_0001_gabor-blueNisslWide-segm-blueNissl-vq-blueNissl_texHist.npy\n",
        "loaded /home/yuncong/DavidData/RS141/x5/0001/segmResults/RS141_x5_0001_gabor-blueNisslWide-segm-blueNissl_cropSegmentation.npy\n",
        "loaded /home/yuncong/DavidData/RS141/x5/0001/filterResults/RS141_x5_0001_gabor-blueNisslWide_cropMask.npy"
       ]
      },
      {
       "output_type": "stream",
       "stream": "stdout",
       "text": [
        "\n",
        "loaded /home/yuncong/DavidData/RS141/x5/0001/vqResults/RS141_x5_0001_gabor-blueNisslWide-vq-blueNissl_texMap.npy\n",
        "loaded /home/yuncong/DavidData/RS141/x5/0001/segmResults/RS141_x5_0001_gabor-blueNisslWide-segm-blueNissl_neighbors.npy"
       ]
      },
      {
       "output_type": "stream",
       "stream": "stdout",
       "text": [
        "\n",
        "loaded /home/yuncong/DavidData/RS141/x5/0001/filterResults/RS141_x5_0001_gabor-blueNisslWide_cropImg.tif"
       ]
      },
      {
       "output_type": "stream",
       "stream": "stdout",
       "text": [
        "\n",
        "loaded /home/yuncong/DavidData/RS141/x5/0001/segmResults/RS141_x5_0001_gabor-blueNisslWide-segm-blueNissl_cropSpProps.npy\n"
       ]
      }
     ],
     "prompt_number": 6
    },
    {
     "cell_type": "code",
     "collapsed": false,
     "input": [
      "# def circle_list_to_labeling_field(self, circle_list):\n",
      "#     label_circles = []\n",
      "#     for c in circle_list:\n",
      "#         label = np.where(np.all(self.colors == c.get_facecolor()[:3], axis=1))[0][0] - 1\n",
      "#         label_circles.append((int(c.center[0]), int(c.center[1]), c.radius, label))\n",
      "#     return label_circles\n",
      "\n",
      "@timeit\n",
      "def labeling_field_to_labelmap(labeling_field, size):\n",
      "    \n",
      "    labelmap = -1*np.ones(size, dtype=np.int)\n",
      "\n",
      "    for cx,cy,cradius,label in labeling_field:\n",
      "        for x in np.arange(cx-cradius, cx+cradius):\n",
      "            for y in np.arange(cy-cradius, cy+cradius):\n",
      "                if (cx-x)**2+(cy-y)**2 <= cradius**2:\n",
      "                    labelmap[int(y),int(x)] = label\n",
      "    return labelmap\n",
      "\n",
      "\n",
      "def worker(i, labelmap, segmentation):\n",
      "    in_sp_labels = labelmap[segmentation==i]\n",
      "\n",
      "    counts = np.bincount(in_sp_labels+1)\n",
      "    dominant_label = counts.argmax() - 1\n",
      "\n",
      "    return dominant_label\n",
      "\n",
      "\n",
      "@timeit\n",
      "def label_superpixels(labelmap, segmentation):\n",
      "    \n",
      "        \n",
      "    from joblib import Parallel, delayed\n",
      "\n",
      "    labellist = np.array(Parallel(n_jobs=16)(delayed(worker)(i, labelmap, segmentation) for i in range(n_superpixels)))\n",
      "    \n",
      "#     labellist = -1*np.ones((n_superpixels,), dtype=np.int)\n",
      "\n",
      "#     for sp in range(n_superpixels):\n",
      "#         in_sp_labels = labelmap[segmentation==sp]\n",
      "        \n",
      "#         counts = np.bincount(in_sp_labels+1)\n",
      "#         dominant_label = counts.argmax() - 1\n",
      "#         if dominant_label != -1:\n",
      "#             labellist[sp] = dominant_label\n",
      "\n",
      "    return labellist\n",
      "        \n",
      "\n",
      "@timeit\n",
      "def generate_models(labellist, sp_texton_hist_normalized):\n",
      "    \n",
      "    models = []\n",
      "    for i in range(np.max(labellist)+1):\n",
      "        sps = np.where(labellist == i)[0]\n",
      "        model = {}\n",
      "        if len(sps) > 0:\n",
      "            texton_model = sp_texton_hist_normalized[sps, :].mean(axis=0)\n",
      "            model['texton_hist'] = texton_model\n",
      "            \n",
      "            bboxes = sp_properties[sps, 4:]\n",
      "            print i, sps\n",
      "            \n",
      "            row_min = bboxes[:,0].min()\n",
      "            col_min = bboxes[:,1].min()\n",
      "            row_max = bboxes[:,2].max()\n",
      "            col_max = bboxes[:,3].max()\n",
      "            \n",
      "            model['bbox'] = (col_min, row_min, col_max-col_min, row_max-row_min)\n",
      "            model['label'] = i\n",
      "            \n",
      "            models.append(model)\n",
      "\n",
      "    n_models = len(models)\n",
      "    print n_models, 'models'\n",
      "    \n",
      "    return models\n",
      "\n",
      "@timeit\n",
      "def models_from_labeling(labeling, segmentation):\n",
      "    \n",
      "    labelmap = labeling_field_to_labelmap(labeling['final_label_circles'], size=dm.image.shape)\n",
      "    \n",
      "    kernels = dm.load_pipeline_result('kernels', 'pkl')\n",
      "    max_kern_size = max([k.shape[0] for k in kernels])\n",
      "    \n",
      "    cropped_labelmap = labelmap[max_kern_size/2:-max_kern_size/2, max_kern_size/2:-max_kern_size/2]\n",
      "    \n",
      "    labellist = label_superpixels(cropped_labelmap, segmentation)\n",
      "    models = generate_models(labellist, texton_hists)\n",
      "    \n",
      "    return models"
     ],
     "language": "python",
     "metadata": {},
     "outputs": [],
     "prompt_number": 17
    },
    {
     "cell_type": "code",
     "collapsed": false,
     "input": [
      "# try:\n",
      "#     existing_models = dm.load_pipeline_result('models', 'pkl')\n",
      "# except:\n",
      "# labeling = dm.load_labeling('anon_11032014025541')\n",
      "labeling = dm.load_labeling('anon_11042014154647')\n",
      "\n",
      "existing_models = models_from_labeling(labeling, cropped_segmentation)\n",
      "n_existing_models = len(existing_models)\n",
      "dm.save_pipeline_result(existing_models, 'models', 'pkl')"
     ],
     "language": "python",
     "metadata": {},
     "outputs": [
      {
       "output_type": "stream",
       "stream": "stdout",
       "text": [
        "==== models_from_labeling ====\n",
        "==== labeling_field_to_labelmap ====\n",
        "'labeling_field_to_labelmap' run time was 8.147311926 sec"
       ]
      },
      {
       "output_type": "stream",
       "stream": "stdout",
       "text": [
        "\n",
        "loaded /home/yuncong/DavidData/RS141/x5/0001/filterResults/RS141_x5_0001_gabor-blueNisslWide_kernels.pkl"
       ]
      },
      {
       "output_type": "stream",
       "stream": "stdout",
       "text": [
        "\n",
        "==== label_superpixels ====\n"
       ]
      },
      {
       "output_type": "stream",
       "stream": "stdout",
       "text": [
        "'label_superpixels' run time was 11.802090168 sec\n",
        "==== generate_models ====\n",
        "0 [ 784  812  866  870  905  906  952  982 1061 1062 1071]\n",
        "1 [1633 1638 1646 1652 1711 1712 1716 1720 1732 1737 1789 1815 1829 1846 1865]\n",
        "2 [1911 1919 1946 1951 1969 1971 1972 1980 2016]\n",
        "3 [1488 1498 1542 1550 1551 1554 1559 1598 1618 1620 1626 1628 1629 1631 1640\n",
        " 1673 1680 1688 1702 1705 1713 1727 1762 1775 1781]\n",
        "6 [1897 1918 1921 1925 1930 1950 1955 1977 1998 2001 2004 2009 2036 2037 2038\n",
        " 2049 2067 2075 2080 2081 2089 2093]\n",
        "7 [1650 1700 1704 1709 1721 1722 1726 1748 1756 1767 1780 1794 1801 1804 1809\n",
        " 1812 1825 1848 1853 1857 1898]\n",
        "8 [1905 1916 1938 1940 1961 1983 1988 1993 2025 2032 2046 2056 2062 2068 2092\n",
        " 2098 2104 2105 2110 2111 2113 2115 2118 2127 2130 2136 2138 2139 2141 2143\n",
        " 2144 2145 2149 2152 2161 2165 2166 2172 2173 2184 2185 2187]\n",
        "7 models\n",
        "'generate_models' run time was 0.006052971 sec\n",
        "'models_from_labeling' run time was 21.263431072 sec\n",
        "saved /home/yuncong/DavidData/RS141/x5/RS141_x5_gabor-blueNisslWide-segm-blueNissl-vq-blueNissl_models.pkl\n"
       ]
      }
     ],
     "prompt_number": 18
    }
   ],
   "metadata": {}
  }
 ]
}