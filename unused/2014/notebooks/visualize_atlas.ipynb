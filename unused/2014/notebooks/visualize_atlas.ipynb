{
 "cells": [
  {
   "cell_type": "code",
   "execution_count": 1,
   "metadata": {
    "collapsed": false
   },
   "outputs": [],
   "source": [
    "%load_ext autoreload\n",
    "%autoreload 2\n",
    "\n",
    "import os\n",
    "import time\n",
    "import sys\n",
    "\n",
    "from utilities2014 import *\n",
    "\n",
    "sys.path.append('/home/yuncong/project/opencv-2.4.9/release/lib/python2.7/site-packages')\n",
    "import cv2\n",
    "\n",
    "from joblib import Parallel, delayed\n",
    "\n",
    "from collections import defaultdict, Counter\n",
    "from itertools import combinations, chain, product\n",
    "\n",
    "import matplotlib.pyplot as plt\n",
    "%matplotlib inline"
   ]
  },
  {
   "cell_type": "code",
   "execution_count": 2,
   "metadata": {
    "collapsed": true
   },
   "outputs": [],
   "source": [
    "import cPickle as pickle"
   ]
  },
  {
   "cell_type": "code",
   "execution_count": 3,
   "metadata": {
    "collapsed": true
   },
   "outputs": [],
   "source": [
    "from enum import Enum\n",
    "\n",
    "class PolygonType(Enum):\n",
    "    CLOSED = 'closed'\n",
    "    OPEN = 'open'\n",
    "    TEXTURE = 'textured'\n",
    "    TEXTURE_WITH_CONTOUR = 'texture with contour'\n",
    "    DIRECTION = 'directionality'"
   ]
  },
  {
   "cell_type": "code",
   "execution_count": 4,
   "metadata": {
    "collapsed": true
   },
   "outputs": [],
   "source": [
    "thetas = np.linspace(-np.pi/4, np.pi/4, 9)\n",
    "n_theta = len(thetas)\n",
    "Rs = [np.array([[np.cos(theta), np.sin(theta)], [-np.sin(theta), np.cos(theta)]]) for theta in thetas]"
   ]
  },
  {
   "cell_type": "code",
   "execution_count": 5,
   "metadata": {
    "collapsed": true
   },
   "outputs": [],
   "source": [
    "landmark_indices = range(17)"
   ]
  },
  {
   "cell_type": "code",
   "execution_count": 6,
   "metadata": {
    "collapsed": false
   },
   "outputs": [],
   "source": [
    "vertices_name = {PolygonType.OPEN: 'boundary_vertices_global',\n",
    "PolygonType.CLOSED: 'boundary_vertices_global',\n",
    "PolygonType.DIRECTION: 'striation_points_global',\n",
    "PolygonType.TEXTURE: 'textured_area_vertices_global',\n",
    "PolygonType.TEXTURE_WITH_CONTOUR: 'textured_area_vertices_global'\n",
    "}"
   ]
  },
  {
   "cell_type": "code",
   "execution_count": 18,
   "metadata": {
    "collapsed": false
   },
   "outputs": [
    {
     "name": "stdout",
     "output_type": "stream",
     "text": [
      "0\n",
      "1\n",
      "2\n",
      "3\n",
      "4\n",
      "5\n",
      "6\n",
      "7\n",
      "8\n",
      "9\n",
      "10\n",
      "11\n",
      "12\n",
      "13\n",
      "14\n",
      "15\n",
      "16\n"
     ]
    }
   ],
   "source": [
    "landmark_polygons = {}\n",
    "for lm_ind in landmark_indices:\n",
    "    print lm_ind\n",
    "    \n",
    "    with open('/home/yuncong/csd395/landmark_descriptors/RS141_0001_yuncong_08212015001655_landmark_descriptors_%d.pkl'%lm_ind, 'r') as f:\n",
    "        landmark_polygons[lm_ind] = pickle.load(f)[4]['polygons']\n",
    "    \n",
    "#     landmark_polygons[lm_ind] = [(p['type'], p[vertices_name[p['type']]]) for p in polygons]"
   ]
  },
  {
   "cell_type": "code",
   "execution_count": 7,
   "metadata": {
    "collapsed": true
   },
   "outputs": [],
   "source": [
    "colors = (np.loadtxt(os.environ['GORDON_REPO_DIR'] + '/visualization/100colors.txt', skiprows=1) * 255).astype(np.int)"
   ]
  },
  {
   "cell_type": "code",
   "execution_count": 19,
   "metadata": {
    "collapsed": true
   },
   "outputs": [],
   "source": [
    "dm = DataManager(generate_hierarchy=False, stack='RS141', resol='x5', section=1)\n",
    "dm._load_image()\n",
    "origin_on_canvas = dm.load_pipeline_result('originPosOnCanvas', 'npy')"
   ]
  },
  {
   "cell_type": "code",
   "execution_count": 27,
   "metadata": {
    "collapsed": false
   },
   "outputs": [],
   "source": [
    "grid_ys1, grid_xs1 = np.meshgrid(range(0,dm.image_height, 50), range(0,dm.image_width, 1), indexing='ij')\n",
    "grid_ys2, grid_xs2 = np.meshgrid(range(0,dm.image_height, 1), range(0,dm.image_width, 50), indexing='ij')\n",
    "\n",
    "grid_ys = np.r_[grid_ys1.flat, grid_ys2.flat].astype(np.int)\n",
    "grid_xs = np.r_[grid_xs1.flat, grid_xs2.flat].astype(np.int)\n",
    "grids = np.c_[grid_xs.flat, grid_ys.flat]\n",
    "\n",
    "np.save(os.environ['GORDON_RESULT_DIR'] + '/atlas_grids.npy', grids)"
   ]
  },
  {
   "cell_type": "code",
   "execution_count": 35,
   "metadata": {
    "collapsed": true
   },
   "outputs": [],
   "source": [
    "import cv2\n",
    "\n",
    "def visualize_atlas(landmark_polygon_vertices_global):\n",
    "    '''\n",
    "    Visualize the atlas with landmarks in original orientation\n",
    "    '''\n",
    "    \n",
    "    canvas_size = np.load(os.environ['GORDON_RESULT_DIR'] + '/paddedSize.npy')\n",
    "    \n",
    "    viz = 255 * np.ones(np.r_[canvas_size, 3], np.uint8)\n",
    "    \n",
    "    for x,y in grids + origin_on_canvas:\n",
    "        cv2.circle(viz, (x,y), 1, (0,0,0), -1)\n",
    "    \n",
    "    for label, typed_polygons in landmark_polygon_vertices_global.iteritems():\n",
    "        for ptype, vs in typed_polygons:\n",
    "            pts_canvas = vs + origin_on_canvas\n",
    "            \n",
    "#             for x,y in pts_canvas.astype(np.int):\n",
    "#                 cv2.circle(viz, (x,y), 5, colors[label], -1)\n",
    "\n",
    "            if ptype == PolygonType.OPEN or ptype == PolygonType.DIRECTION:\n",
    "                cv2.polylines(viz, [pts_canvas.astype(np.int)], False, colors[label], 5)\n",
    "            else:\n",
    "                cv2.polylines(viz, [pts_canvas.astype(np.int)], True, colors[label], 5)\n",
    "\n",
    "                \n",
    "    return viz"
   ]
  },
  {
   "cell_type": "code",
   "execution_count": 22,
   "metadata": {
    "collapsed": true
   },
   "outputs": [],
   "source": [
    "labeling_name = 'RS141_0001_yuncong_08282015013756'"
   ]
  },
  {
   "cell_type": "code",
   "execution_count": 23,
   "metadata": {
    "collapsed": true
   },
   "outputs": [],
   "source": [
    "with open('/home/yuncong/csd395/landmark_descriptors/%s_landmark_polygon_vertices_global.pkl'%labeling_name, 'r') as f:\n",
    "    landmark_polygon_vertices_global = pickle.load(f)"
   ]
  },
  {
   "cell_type": "code",
   "execution_count": 34,
   "metadata": {
    "collapsed": false
   },
   "outputs": [
    {
     "data": {
      "text/html": [
       "<a href='tmp.jpg' target='_blank'>tmp.jpg</a><br>"
      ],
      "text/plain": [
       "/oasis/projects/nsf/csd395/yuncong/Brain/notebooks/tmp.jpg"
      ]
     },
     "execution_count": 34,
     "metadata": {},
     "output_type": "execute_result"
    }
   ],
   "source": [
    "atlas_viz = visualize_atlas(landmark_polygon_vertices_global)\n",
    "display(atlas_viz)"
   ]
  },
  {
   "cell_type": "code",
   "execution_count": 27,
   "metadata": {
    "collapsed": true
   },
   "outputs": [],
   "source": [
    "imsave(os.environ['GORDON_RESULT_DIR'] + '/atlas_viz.jpg', atlas_viz)"
   ]
  },
  {
   "cell_type": "code",
   "execution_count": 28,
   "metadata": {
    "collapsed": true
   },
   "outputs": [],
   "source": [
    "atlas_origin_on_canvas = DataManager(generate_hierarchy=False, stack='RS141', resol='x5', section=1).load_pipeline_result('originPosOnCanvas','npy')\n",
    "np.save(os.environ['GORDON_RESULT_DIR'] + '/atlas_origin_on_canvas.npy', atlas_origin_on_canvas)"
   ]
  }
 ],
 "metadata": {
  "kernelspec": {
   "display_name": "Python 2",
   "language": "python",
   "name": "python2"
  },
  "language_info": {
   "codemirror_mode": {
    "name": "ipython",
    "version": 2
   },
   "file_extension": ".py",
   "mimetype": "text/x-python",
   "name": "python",
   "nbconvert_exporter": "python",
   "pygments_lexer": "ipython2",
   "version": "2.7.3"
  }
 },
 "nbformat": 4,
 "nbformat_minor": 0
}
