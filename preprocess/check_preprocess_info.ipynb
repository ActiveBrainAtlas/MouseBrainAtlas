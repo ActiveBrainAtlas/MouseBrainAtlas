{
 "cells": [
  {
   "cell_type": "code",
   "execution_count": 5,
   "metadata": {
    "collapsed": true
   },
   "outputs": [],
   "source": [
    "import cPickle as pickle"
   ]
  },
  {
   "cell_type": "code",
   "execution_count": 6,
   "metadata": {
    "collapsed": false,
    "scrolled": true
   },
   "outputs": [
    {
     "name": "stdout",
     "output_type": "stream",
     "text": [
      "\n",
      "MD585\n",
      "placeholder [('IHC_03', 1), ('IHC_04', 1), ('N_03', 1), ('N_16', 1), ('N_72', 1)]\n",
      "rescan []\n",
      "\n",
      "MD589\n",
      "placeholder [('IHC_41', 2), ('N_21', 1), ('N_58', 1), ('N_62', 1)]\n",
      "rescan []\n",
      "\n",
      "MD590\n",
      "placeholder []\n",
      "rescan [('IHC_07', 1), ('IHC_19', 1), ('IHC_24', 1), ('IHC_29', 3), ('IHC_30', 2), ('IHC_50', 1), ('IHC_55', 1), ('IHC_60', 1), ('N_05', 1)]\n",
      "\n",
      "MD591\n",
      "placeholder []\n",
      "rescan [('N_19', 1), ('N_66', 1), ('N_68', 1), ('N_72', 1), ('N_86', 1)]\n",
      "\n",
      "MD592\n",
      "placeholder [('IHC_19', 2), ('IHC_61', 1), ('IHC_86', 1), ('N_29', 1), ('N_54', 1)]\n",
      "rescan [('IHC_09', 1), ('IHC_18', 3)]\n",
      "\n",
      "MD593\n",
      "placeholder [('IHC_02', 1), ('IHC_02', 2), ('N_02', 1), ('N_02', 2), ('N_11', 1), ('N_20', 1), ('N_25', 1), ('N_66', 1), ('N_71', 1)]\n",
      "rescan [('IHC_23', 3), ('IHC_40', 1), ('IHC_45', 1), ('IHC_74', 1), ('N_27', 3)]\n",
      "\n",
      "MD594\n",
      "placeholder [('IHC_51', 2), ('IHC_89', 2), ('N_25', 1), ('N_39', 1), ('N_40', 2), ('N_58', 1), ('N_74', 1)]\n",
      "rescan []\n",
      "\n",
      "MD595\n",
      "placeholder [('IHC_01', 1), ('IHC_84', 2), ('N_01', 1), ('N_29', 1), ('N_35', 1), ('N_69', 1), ('N_84', 2)]\n",
      "rescan [('IHC_76', 1), ('N_26', 1)]\n",
      "\n",
      "MD598\n",
      "placeholder [('N_25', 1), ('N_37', 1), ('N_57', 1), ('N_76', 1)]\n",
      "rescan [('IHC_17', 1), ('IHC_17', 2), ('IHC_17', 3), ('IHC_31', 1), ('IHC_31', 2), ('IHC_31', 3), ('IHC_44', 1)]\n",
      "\n",
      "MD599\n",
      "\n",
      "MD602\n",
      "placeholder [('IHC_38', 3), ('N_01', 1), ('N_43', 1), ('N_46', 1)]\n",
      "rescan [('IHC_04', 1), ('IHC_04', 3), ('IHC_14', 1), ('IHC_15', 1), ('IHC_16', 1), ('IHC_16', 3), ('IHC_18', 1), ('IHC_31', 1), ('IHC_32', 1), ('IHC_60', 1), ('IHC_80', 3), ('IHC_84', 3), ('N_02', 1), ('N_02', 2), ('N_02', 3), ('N_09', 1), ('N_09', 2), ('N_09', 3), ('N_14', 3), ('N_15', 1), ('N_15', 3), ('N_22', 1), ('N_25', 3), ('N_28', 1), ('N_61', 3), ('N_63', 1), ('N_65', 3), ('N_74', 3), ('N_80', 1), ('N_80', 2), ('N_81', 1), ('N_82', 1), ('N_82', 3), ('N_83', 1)]\n",
      "\n",
      "MD603\n",
      "placeholder [('IHC_36', 2), ('IHC_59', 2), ('IHC_69', 2), ('N_36', 2)]\n",
      "rescan [('IHC_08', 1), ('N_70', 1), ('N_85', 3)]\n",
      "\n",
      "MD636\n"
     ]
    }
   ],
   "source": [
    "for stack in ['MD585', 'MD589', 'MD590', 'MD591', 'MD592', 'MD593', 'MD594', 'MD595', 'MD598', 'MD599', 'MD602', 'MD603', 'MD636']:\n",
    "    print \n",
    "    print stack\n",
    "    try:\n",
    "        info = pickle.load(open('/home/yuncong/CSHL_data_processed/%(stack)s/%(stack)s_preprocessInfo.pkl' % dict(stack=stack), 'r'))\n",
    "        print 'placeholder', sorted(info['placeholder_slide_positions'])\n",
    "        print 'rescan', sorted(info['rescan_slide_positions'])\n",
    "    except:\n",
    "        pass"
   ]
  },
  {
   "cell_type": "code",
   "execution_count": 7,
   "metadata": {
    "collapsed": false
   },
   "outputs": [
    {
     "name": "stdout",
     "output_type": "stream",
     "text": [
      "\n",
      "MD585\n",
      "551 116 512 375\n",
      "83 352\n",
      "MD585-N47-2015.07.16-22.50.52_MD585_3_0141\n",
      "\n",
      "MD589\n",
      "569 140 485 373\n",
      "92 370\n",
      "MD589-IHC31-2015.07.30-23.26.22_MD589_1_0091\n",
      "\n",
      "MD590\n",
      "620 125 548 408\n",
      "82 343\n",
      "MD590-N47-2015.09.12-05.32.06_MD590_2_0140\n",
      "\n",
      "MD591\n",
      "668 178 500 410\n",
      "98 371\n",
      "MD591-N57-2015.09.21-17.13.29_MD591_1_0169\n",
      "\n",
      "MD592\n",
      "777 293 545 387\n",
      "91 371\n",
      "MD592-IHC59-2015.08.26-00.06.25_MD592_2_0176\n",
      "\n",
      "MD593\n",
      "577 108 534 383\n",
      "83 356\n",
      "MD593-IHC54-2015.08.25-17.40.32_MD593_2_0161\n",
      "\n",
      "MD594\n",
      "583 120 544 368\n",
      "92 367\n",
      "MD594-N58-2015.08.27-00.19.01_MD594_1_0172\n",
      "\n",
      "MD595\n",
      "621 142 574 414\n",
      "70 332\n",
      "MD595-IHC48-2015.09.15-18.38.44_MD595_1_0142\n",
      "\n",
      "MD598\n",
      "629 70 575 394\n",
      "98 361\n",
      "MD598-N42-2015.09.29-19.26.12_MD598_2_0125\n",
      "\n",
      "MD602\n",
      "603 36 698 384\n",
      "111 375\n",
      "MD602-N49-2015.12.01-18.41.46_MD602_2_0146\n",
      "\n",
      "MD603\n",
      "588 179 654 421\n",
      "61 353\n",
      "MD603-N60-2015.12.03-23.57.05_MD603_2_0179\n"
     ]
    }
   ],
   "source": [
    "for stack in ['MD585', 'MD589', 'MD590', 'MD591', 'MD592', 'MD593', 'MD594', 'MD595', 'MD598', 'MD602', 'MD603']:\n",
    "    print \n",
    "    print stack\n",
    "    try:\n",
    "        info = pickle.load(open('/home/yuncong/CSHL_data_processed/%(stack)s/%(stack)s_preprocessInfo.pkl' % dict(stack=stack), 'r'))\n",
    "        xmin, ymin, w, h = info['bbox']\n",
    "        print xmin, ymin, w, h\n",
    "        print info['first_section'], info['last_section']\n",
    "        print info['anchor_fn']\n",
    "        print info['cropbox']\n",
    "    except:\n",
    "        pass"
   ]
  },
  {
   "cell_type": "code",
   "execution_count": null,
   "metadata": {
    "collapsed": true
   },
   "outputs": [],
   "source": []
  }
 ],
 "metadata": {
  "kernelspec": {
   "display_name": "Python 2",
   "language": "python",
   "name": "python2"
  },
  "language_info": {
   "codemirror_mode": {
    "name": "ipython",
    "version": 2
   },
   "file_extension": ".py",
   "mimetype": "text/x-python",
   "name": "python",
   "nbconvert_exporter": "python",
   "pygments_lexer": "ipython2",
   "version": "2.7.3"
  }
 },
 "nbformat": 4,
 "nbformat_minor": 0
}
