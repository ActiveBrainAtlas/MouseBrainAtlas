{
 "cells": [
  {
   "cell_type": "code",
   "execution_count": 5,
   "metadata": {
    "scrolled": true
   },
   "outputs": [
    {
     "name": "stdout",
     "output_type": "stream",
     "text": [
      "The autoreload extension is already loaded. To reload it, use:\n",
      "  %reload_ext autoreload\n",
      "rm -rf /shared/CSHL_data_processed/MD661/MD661_sorted_filenames.txt && mkdir -p /shared/CSHL_data_processed/MD661\n",
      "aws s3 cp s3://mousebrainatlas-data/CSHL_data_processed/MD661/MD661_sorted_filenames.txt /shared/CSHL_data_processed/MD661/MD661_sorted_filenames.txt\n",
      "rm -rf /shared/CSHL_data_processed/MD661/MD661_anchor.txt && mkdir -p /shared/CSHL_data_processed/MD661\n",
      "aws s3 cp s3://mousebrainatlas-data/CSHL_data_processed/MD661/MD661_anchor.txt /shared/CSHL_data_processed/MD661/MD661_anchor.txt\n",
      "rm -rf /shared/CSHL_data_processed/MD661/MD661_anchor.txt && mkdir -p /shared/CSHL_data_processed/MD661\n",
      "aws s3 cp s3://mousebrainatlas-data/CSHL_data_processed/MD661/MD661_anchor.txt /shared/CSHL_data_processed/MD661/MD661_anchor.txt\n"
     ]
    },
    {
     "name": "stderr",
     "output_type": "stream",
     "text": [
      "File does not exist: /shared/CSHL_data_processed/MD661/MD661_anchor.txt\n"
     ]
    },
    {
     "name": "stdout",
     "output_type": "stream",
     "text": [
      "rm -rf /shared/CSHL_data_processed/MD662/MD662_sorted_filenames.txt && mkdir -p /shared/CSHL_data_processed/MD662\n",
      "aws s3 cp s3://mousebrainatlas-data/CSHL_data_processed/MD662/MD662_sorted_filenames.txt /shared/CSHL_data_processed/MD662/MD662_sorted_filenames.txt\n",
      "rm -rf /shared/CSHL_data_processed/MD662/MD662_anchor.txt && mkdir -p /shared/CSHL_data_processed/MD662\n",
      "aws s3 cp s3://mousebrainatlas-data/CSHL_data_processed/MD662/MD662_anchor.txt /shared/CSHL_data_processed/MD662/MD662_anchor.txt\n",
      "rm -rf /shared/CSHL_data_processed/MD662/MD662_anchor.txt && mkdir -p /shared/CSHL_data_processed/MD662\n",
      "aws s3 cp s3://mousebrainatlas-data/CSHL_data_processed/MD662/MD662_anchor.txt /shared/CSHL_data_processed/MD662/MD662_anchor.txt\n"
     ]
    },
    {
     "name": "stderr",
     "output_type": "stream",
     "text": [
      "File does not exist: /shared/CSHL_data_processed/MD662/MD662_anchor.txt\n"
     ]
    },
    {
     "name": "stdout",
     "output_type": "stream",
     "text": [
      "rm -rf /shared/CSHL_data_processed/MD661/MD661_anchor.txt && mkdir -p /shared/CSHL_data_processed/MD661\n",
      "aws s3 cp s3://mousebrainatlas-data/CSHL_data_processed/MD661/MD661_anchor.txt /shared/CSHL_data_processed/MD661/MD661_anchor.txt\n"
     ]
    },
    {
     "name": "stderr",
     "output_type": "stream",
     "text": [
      "File does not exist: /shared/CSHL_data_processed/MD661/MD661_anchor.txt\n"
     ]
    },
    {
     "name": "stdout",
     "output_type": "stream",
     "text": [
      "rm -rf /shared/CSHL_data_processed/MD661/MD661_anchor.txt && mkdir -p /shared/CSHL_data_processed/MD661\n",
      "aws s3 cp s3://mousebrainatlas-data/CSHL_data_processed/MD661/MD661_anchor.txt /shared/CSHL_data_processed/MD661/MD661_anchor.txt\n"
     ]
    },
    {
     "name": "stderr",
     "output_type": "stream",
     "text": [
      "File does not exist: /shared/CSHL_data_processed/MD661/MD661_anchor.txt\n"
     ]
    },
    {
     "name": "stdout",
     "output_type": "stream",
     "text": [
      "rm -rf /shared/CSHL_data_processed/MD661/MD661_sorted_filenames.txt && mkdir -p /shared/CSHL_data_processed/MD661\n",
      "aws s3 cp s3://mousebrainatlas-data/CSHL_data_processed/MD661/MD661_sorted_filenames.txt /shared/CSHL_data_processed/MD661/MD661_sorted_filenames.txt\n"
     ]
    },
    {
     "name": "stderr",
     "output_type": "stream",
     "text": [
      "File does not exist: /shared/CSHL_data_processed/MD661/MD661_sorted_filenames.txt\n"
     ]
    },
    {
     "name": "stdout",
     "output_type": "stream",
     "text": [
      "rm -rf /shared/CSHL_data_processed/MD661/MD661_sorted_filenames.txt && mkdir -p /shared/CSHL_data_processed/MD661\n",
      "aws s3 cp s3://mousebrainatlas-data/CSHL_data_processed/MD661/MD661_sorted_filenames.txt /shared/CSHL_data_processed/MD661/MD661_sorted_filenames.txt\n"
     ]
    },
    {
     "name": "stderr",
     "output_type": "stream",
     "text": [
      "File does not exist: /shared/CSHL_data_processed/MD661/MD661_sorted_filenames.txt\n"
     ]
    },
    {
     "name": "stdout",
     "output_type": "stream",
     "text": [
      "rm -rf /shared/CSHL_data_processed/MD661/MD661_anchor.txt && mkdir -p /shared/CSHL_data_processed/MD661\n",
      "aws s3 cp s3://mousebrainatlas-data/CSHL_data_processed/MD661/MD661_anchor.txt /shared/CSHL_data_processed/MD661/MD661_anchor.txt\n"
     ]
    },
    {
     "name": "stderr",
     "output_type": "stream",
     "text": [
      "File does not exist: /shared/CSHL_data_processed/MD661/MD661_anchor.txt\n"
     ]
    },
    {
     "name": "stdout",
     "output_type": "stream",
     "text": [
      "rm -rf /shared/CSHL_data_processed/MD661/MD661_anchor.txt && mkdir -p /shared/CSHL_data_processed/MD661\n",
      "aws s3 cp s3://mousebrainatlas-data/CSHL_data_processed/MD661/MD661_anchor.txt /shared/CSHL_data_processed/MD661/MD661_anchor.txt\n"
     ]
    },
    {
     "name": "stderr",
     "output_type": "stream",
     "text": [
      "File does not exist: /shared/CSHL_data_processed/MD661/MD661_anchor.txt\n"
     ]
    },
    {
     "name": "stdout",
     "output_type": "stream",
     "text": [
      "rm -rf /shared/CSHL_data_processed/MD662/MD662_anchor.txt && mkdir -p /shared/CSHL_data_processed/MD662\n",
      "aws s3 cp s3://mousebrainatlas-data/CSHL_data_processed/MD662/MD662_anchor.txt /shared/CSHL_data_processed/MD662/MD662_anchor.txt\n"
     ]
    },
    {
     "name": "stderr",
     "output_type": "stream",
     "text": [
      "File does not exist: /shared/CSHL_data_processed/MD662/MD662_anchor.txt\n"
     ]
    },
    {
     "name": "stdout",
     "output_type": "stream",
     "text": [
      "rm -rf /shared/CSHL_data_processed/MD662/MD662_anchor.txt && mkdir -p /shared/CSHL_data_processed/MD662\n",
      "aws s3 cp s3://mousebrainatlas-data/CSHL_data_processed/MD662/MD662_anchor.txt /shared/CSHL_data_processed/MD662/MD662_anchor.txt\n"
     ]
    },
    {
     "name": "stderr",
     "output_type": "stream",
     "text": [
      "File does not exist: /shared/CSHL_data_processed/MD662/MD662_anchor.txt\n"
     ]
    },
    {
     "name": "stdout",
     "output_type": "stream",
     "text": [
      "rm -rf /shared/CSHL_data_processed/MD662/MD662_sorted_filenames.txt && mkdir -p /shared/CSHL_data_processed/MD662\n",
      "aws s3 cp s3://mousebrainatlas-data/CSHL_data_processed/MD662/MD662_sorted_filenames.txt /shared/CSHL_data_processed/MD662/MD662_sorted_filenames.txt\n"
     ]
    },
    {
     "name": "stderr",
     "output_type": "stream",
     "text": [
      "File does not exist: /shared/CSHL_data_processed/MD662/MD662_sorted_filenames.txt\n"
     ]
    },
    {
     "name": "stdout",
     "output_type": "stream",
     "text": [
      "rm -rf /shared/CSHL_data_processed/MD662/MD662_sorted_filenames.txt && mkdir -p /shared/CSHL_data_processed/MD662\n",
      "aws s3 cp s3://mousebrainatlas-data/CSHL_data_processed/MD662/MD662_sorted_filenames.txt /shared/CSHL_data_processed/MD662/MD662_sorted_filenames.txt\n"
     ]
    },
    {
     "name": "stderr",
     "output_type": "stream",
     "text": [
      "File does not exist: /shared/CSHL_data_processed/MD662/MD662_sorted_filenames.txt\n"
     ]
    },
    {
     "name": "stdout",
     "output_type": "stream",
     "text": [
      "rm -rf /shared/CSHL_data_processed/MD662/MD662_anchor.txt && mkdir -p /shared/CSHL_data_processed/MD662\n",
      "aws s3 cp s3://mousebrainatlas-data/CSHL_data_processed/MD662/MD662_anchor.txt /shared/CSHL_data_processed/MD662/MD662_anchor.txt\n"
     ]
    },
    {
     "name": "stderr",
     "output_type": "stream",
     "text": [
      "File does not exist: /shared/CSHL_data_processed/MD662/MD662_anchor.txt\n"
     ]
    },
    {
     "name": "stdout",
     "output_type": "stream",
     "text": [
      "rm -rf /shared/CSHL_data_processed/MD662/MD662_anchor.txt && mkdir -p /shared/CSHL_data_processed/MD662\n",
      "aws s3 cp s3://mousebrainatlas-data/CSHL_data_processed/MD662/MD662_anchor.txt /shared/CSHL_data_processed/MD662/MD662_anchor.txt\n"
     ]
    },
    {
     "name": "stderr",
     "output_type": "stream",
     "text": [
      "File does not exist: /shared/CSHL_data_processed/MD662/MD662_anchor.txt\n"
     ]
    }
   ],
   "source": [
    "%load_ext autoreload\n",
    "%autoreload 2\n",
    "\n",
    "import os\n",
    "import time\n",
    "import sys\n",
    "\n",
    "sys.path.append(os.path.join(os.environ['REPO_DIR'], 'utilities'))\n",
    "from utilities2015 import *\n",
    "from metadata import *\n",
    "from data_manager import *\n",
    "from distributed_utilities import *\n",
    "from preprocess_utilities import *"
   ]
  },
  {
   "cell_type": "markdown",
   "metadata": {},
   "source": [
    "- After receiving data of a new stack, put images and macros in corresponding folder.\n",
    "- Add the stack name to proper variables in `metadata.txt`."
   ]
  },
  {
   "cell_type": "code",
   "execution_count": 6,
   "metadata": {
    "collapsed": true
   },
   "outputs": [],
   "source": [
    "stack = 'MD661'"
   ]
  },
  {
   "cell_type": "code",
   "execution_count": 7,
   "metadata": {
    "collapsed": true
   },
   "outputs": [],
   "source": [
    "tb_fmt = 'png'"
   ]
  },
  {
   "cell_type": "markdown",
   "metadata": {},
   "source": [
    "- Use GUI, quality check and sort images.\n",
    "- Upload `sorted_filenames.txt` to S3"
   ]
  },
  {
   "cell_type": "code",
   "execution_count": 8,
   "metadata": {},
   "outputs": [
    {
     "name": "stdout",
     "output_type": "stream",
     "text": [
      "aws s3 cp --recursive s3://mousebrainatlas-rawdata/CSHL_data/MD661 /shared/CSHL_data/MD661 --exclude \"*\" --include \"*.png\"\n"
     ]
    }
   ],
   "source": [
    "transfer_data_synced(os.path.join('CSHL_data', stack), \n",
    "                     from_hostname='s3raw', to_hostname='ec2', is_dir=True, include_only='*.'+tb_fmt)"
   ]
  },
  {
   "cell_type": "code",
   "execution_count": 9,
   "metadata": {},
   "outputs": [
    {
     "name": "stdout",
     "output_type": "stream",
     "text": [
      "rm -rf /shared/CSHL_data_processed/MD661/MD661_sorted_filenames.txt && mkdir -p /shared/CSHL_data_processed/MD661\n",
      "aws s3 cp s3://mousebrainatlas-data/CSHL_data_processed/MD661/MD661_sorted_filenames.txt /shared/CSHL_data_processed/MD661/MD661_sorted_filenames.txt\n"
     ]
    }
   ],
   "source": [
    "transfer_data_synced(os.path.join('CSHL_data_processed', stack, stack + '_sorted_filenames.txt'), \n",
    "                     from_hostname='s3', to_hostname='ec2', is_dir=False)"
   ]
  },
  {
   "cell_type": "markdown",
   "metadata": {},
   "source": [
    "# Align"
   ]
  },
  {
   "cell_type": "code",
   "execution_count": 10,
   "metadata": {
    "collapsed": true,
    "scrolled": true
   },
   "outputs": [],
   "source": [
    "_, sections_to_filenames = DataManager.load_sorted_filenames(stack=stack)\n",
    "valid_filenames = [fn for fn in sections_to_filenames.values() if not is_invalid(fn=fn)]"
   ]
  },
  {
   "cell_type": "code",
   "execution_count": 11,
   "metadata": {
    "collapsed": true
   },
   "outputs": [],
   "source": [
    "script = os.path.join(REPO_DIR, 'preprocess', 'align_consecutive_v2.py')\n",
    "input_dir = os.path.join(RAW_DATA_DIR, stack)\n",
    "output_dir = os.path.join(DATA_DIR, stack, stack + '_elastix_output')"
   ]
  },
  {
   "cell_type": "code",
   "execution_count": 12,
   "metadata": {},
   "outputs": [
    {
     "name": "stdout",
     "output_type": "stream",
     "text": [
      "rm: cannot remove '/shared/CSHL_data_processed/MD661/MD661_elastix_output': No such file or directory\r\n"
     ]
    }
   ],
   "source": [
    "! rm -r $output_dir"
   ]
  },
  {
   "cell_type": "code",
   "execution_count": 24,
   "metadata": {},
   "outputs": [
    {
     "name": "stdout",
     "output_type": "stream",
     "text": [
      "Align...\n",
      "rm -f ~/stderr_*; rm -f ~/stdout_*\n"
     ]
    },
    {
     "name": "stderr",
     "output_type": "stream",
     "text": [
      "8 nodes available.\n",
      "Jobs submitted. Use wait_qsub_complete() to wait for all execution to finish.\n"
     ]
    },
    {
     "name": "stdout",
     "output_type": "stream",
     "text": [
      "done in 1189.16725802 seconds\n"
     ]
    },
    {
     "name": "stderr",
     "output_type": "stream",
     "text": [
      "qsub returned.\n"
     ]
    }
   ],
   "source": [
    "t = time.time()\n",
    "print 'Align...'\n",
    "\n",
    "run_distributed(\"%(script)s %(stack)s %(input_dir)s %(output_dir)s \\'%%(kwargs_str)s\\' %(fmt)s\" % \\\n",
    "                {'script': script,\n",
    "                'stack': stack,\n",
    "                'input_dir': input_dir,\n",
    "                'output_dir': output_dir,\n",
    "                'fmt': tb_fmt},\n",
    "                kwargs_list=[{'prev_fn': valid_filenames[i-1], 'curr_fn': valid_filenames[i]} for i in range(1, len(valid_filenames))],\n",
    "                argument_type='list',\n",
    "               jobs_per_node=16)\n",
    "\n",
    "wait_qsub_complete()\n",
    "\n",
    "print 'done in', time.time() - t, 'seconds' # 252 seconds"
   ]
  },
  {
   "cell_type": "code",
   "execution_count": 25,
   "metadata": {},
   "outputs": [
    {
     "name": "stdout",
     "output_type": "stream",
     "text": [
      "aws s3 cp --recursive /shared/CSHL_data_processed/MD661/MD661_elastix_output s3://mousebrainatlas-data/CSHL_data_processed/MD661/MD661_elastix_output\n"
     ]
    }
   ],
   "source": [
    "transfer_data_synced(os.path.join('CSHL_data_processed', stack, stack + '_elastix_output'), \n",
    "                     from_hostname='ec2', to_hostname='s3', is_dir=True)"
   ]
  },
  {
   "cell_type": "markdown",
   "metadata": {},
   "source": [
    "# Check final metrics"
   ]
  },
  {
   "cell_type": "code",
   "execution_count": 26,
   "metadata": {},
   "outputs": [],
   "source": [
    "import re\n",
    "\n",
    "final_metric = {}\n",
    "for i in range(1, len(valid_filenames)):\n",
    "    prev_fn = valid_filenames[i-1]\n",
    "    curr_fn = valid_filenames[i]\n",
    "    with open(os.path.join(output_dir, curr_fn + '_to_' + prev_fn, 'elastix.log'), 'r') as f:\n",
    "        t = f.read()\n",
    "        g = re.search(\"Final metric value  = (.*?)\\n\", t)\n",
    "#         final_metric[(curr_fn, prev_fn)] = -float(g.groups()[0])\n",
    "        final_metric[i] = float(g.groups()[0])"
   ]
  },
  {
   "cell_type": "code",
   "execution_count": 27,
   "metadata": {},
   "outputs": [
    {
     "data": {
      "image/png": "[encoded data removed]",
      "text/plain": [
       "<matplotlib.figure.Figure at 0x7f87a4ab1890>"
      ]
     },
     "metadata": {},
     "output_type": "display_data"
    }
   ],
   "source": [
    "%matplotlib inline\n",
    "metric_arr = np.array(final_metric.values())\n",
    "plt.figure(figsize=(20,2));\n",
    "plt.ylim([-1, metric_arr.max()+.1]);\n",
    "plt.stem(metric_arr);\n",
    "plt.title('Mutual information of pairwise registration');\n",
    "plt.yticks(np.arange(-1, metric_arr.max()+.1, 0.1));\n",
    "plt.xlabel('Image index');\n",
    "plt.ylabel('Mutual info');"
   ]
  },
  {
   "cell_type": "code",
   "execution_count": 28,
   "metadata": {},
   "outputs": [
    {
     "name": "stdout",
     "output_type": "stream",
     "text": [
      "worst pair: MD662&661-F136-2017.06.07-22.02.11_MD661_1_0406\n"
     ]
    }
   ],
   "source": [
    "print 'worst pair:', valid_filenames[np.argmin(final_metric.values())]"
   ]
  },
  {
   "cell_type": "markdown",
   "metadata": {},
   "source": [
    "- download `elastix_output/` to local machine, edit consecutive transforms in local GUI, generate `custom_transforms/` to S3, upload to S3.\n",
    "- determine anchor image, upload `anchor.txt` to S3."
   ]
  },
  {
   "cell_type": "markdown",
   "metadata": {},
   "source": [
    "# Compose consecutive transforms"
   ]
  },
  {
   "cell_type": "code",
   "execution_count": 29,
   "metadata": {},
   "outputs": [
    {
     "name": "stdout",
     "output_type": "stream",
     "text": [
      "rm -rf /shared/CSHL_data_processed/MD661/MD661_elastix_output && mkdir -p /shared/CSHL_data_processed/MD661\n",
      "aws s3 cp --recursive s3://mousebrainatlas-data/CSHL_data_processed/MD661/MD661_elastix_output /shared/CSHL_data_processed/MD661/MD661_elastix_output\n"
     ]
    }
   ],
   "source": [
    "transfer_data_synced(os.path.join('CSHL_data_processed', stack, stack + '_elastix_output'), \n",
    "                     from_hostname='s3', to_hostname='ec2', is_dir=True)"
   ]
  },
  {
   "cell_type": "code",
   "execution_count": 30,
   "metadata": {
    "scrolled": true
   },
   "outputs": [
    {
     "name": "stdout",
     "output_type": "stream",
     "text": [
      "rm -rf /shared/CSHL_data_processed/MD661/MD661_custom_transforms && mkdir -p /shared/CSHL_data_processed/MD661\n",
      "aws s3 cp --recursive s3://mousebrainatlas-data/CSHL_data_processed/MD661/MD661_custom_transforms /shared/CSHL_data_processed/MD661/MD661_custom_transforms\n"
     ]
    }
   ],
   "source": [
    "transfer_data_synced(os.path.join('CSHL_data_processed', stack, stack + '_custom_transforms'), \n",
    "                     from_hostname='s3', to_hostname='ec2', is_dir=True)"
   ]
  },
  {
   "cell_type": "code",
   "execution_count": 31,
   "metadata": {},
   "outputs": [
    {
     "name": "stdout",
     "output_type": "stream",
     "text": [
      "rm -rf /shared/CSHL_data_processed/MD661/MD661_anchor.txt && mkdir -p /shared/CSHL_data_processed/MD661\n",
      "aws s3 cp s3://mousebrainatlas-data/CSHL_data_processed/MD661/MD661_anchor.txt /shared/CSHL_data_processed/MD661/MD661_anchor.txt\n"
     ]
    }
   ],
   "source": [
    "transfer_data_synced(os.path.join('CSHL_data_processed', stack, stack + '_anchor.txt'), \n",
    "                     from_hostname='s3', to_hostname='ec2', is_dir=False)"
   ]
  },
  {
   "cell_type": "code",
   "execution_count": 32,
   "metadata": {
    "collapsed": true
   },
   "outputs": [],
   "source": [
    "anchor_fn = DataManager.load_anchor_filename(stack=stack)"
   ]
  },
  {
   "cell_type": "code",
   "execution_count": 33,
   "metadata": {
    "collapsed": true
   },
   "outputs": [],
   "source": [
    "script = os.path.join(REPO_DIR, 'preprocess', 'compose_transform_thumbnail_v2.py')\n",
    "input_dir = os.path.join(DATA_DIR, stack, stack + '_elastix_output')\n",
    "output_fn = os.path.join(DATA_DIR, stack, '%(stack)s_transformsTo_%(anchor_fn)s.pkl' % \\\n",
    "                                                dict(stack=stack, anchor_fn=anchor_fn))"
   ]
  },
  {
   "cell_type": "code",
   "execution_count": 12,
   "metadata": {
    "collapsed": true
   },
   "outputs": [],
   "source": [
    "! rm -f {output_fn}"
   ]
  },
  {
   "cell_type": "code",
   "execution_count": 35,
   "metadata": {},
   "outputs": [
    {
     "name": "stdout",
     "output_type": "stream",
     "text": [
      "Composing transform...\n",
      "rm -f ~/stderr_*; rm -f ~/stdout_*\n"
     ]
    },
    {
     "name": "stderr",
     "output_type": "stream",
     "text": [
      "8 nodes available.\n",
      "Jobs submitted. Use wait_qsub_complete() to wait for all execution to finish.\n"
     ]
    },
    {
     "name": "stdout",
     "output_type": "stream",
     "text": [
      "done in 15.1333079338 seconds\n"
     ]
    },
    {
     "name": "stderr",
     "output_type": "stream",
     "text": [
      "qsub returned.\n"
     ]
    }
   ],
   "source": [
    "t = time.time()\n",
    "print 'Composing transform...'\n",
    "\n",
    "run_distributed(\"%(script)s %(stack)s \\\"%(input_dir)s\\\" \\'%%(kwargs_str)s\\' %(anchor_idx)d \\\"%(output_fn)s\\\"\" % \\\n",
    "            {'stack': stack,\n",
    "            'script': script,\n",
    "            'input_dir': input_dir,\n",
    "            'anchor_idx': valid_filenames.index(anchor_fn),\n",
    "            'output_fn': output_fn},\n",
    "            kwargs_list=[{'filenames': valid_filenames}],\n",
    "            argument_type='list')\n",
    "\n",
    "wait_qsub_complete()\n",
    "\n",
    "print 'done in', time.time() - t, 'seconds' # 20 seconds"
   ]
  },
  {
   "cell_type": "code",
   "execution_count": 36,
   "metadata": {},
   "outputs": [
    {
     "name": "stdout",
     "output_type": "stream",
     "text": [
      "aws s3 cp --recursive /shared/CSHL_data_processed/MD661 s3://mousebrainatlas-data/CSHL_data_processed/MD661 --exclude \"*\" --include \"*.pkl\"\n"
     ]
    }
   ],
   "source": [
    "transfer_data_synced(os.path.join('CSHL_data_processed', stack), \n",
    "                     from_hostname='ec2', to_hostname='s3', is_dir=True, include_only='*.pkl')"
   ]
  },
  {
   "cell_type": "markdown",
   "metadata": {},
   "source": [
    "# Warp"
   ]
  },
  {
   "cell_type": "code",
   "execution_count": 37,
   "metadata": {},
   "outputs": [
    {
     "name": "stdout",
     "output_type": "stream",
     "text": [
      "aws s3 cp --recursive s3://mousebrainatlas-data/CSHL_data_processed/MD661 /shared/CSHL_data_processed/MD661 --exclude \"*\" --include \"*.pkl\"\n"
     ]
    }
   ],
   "source": [
    "transfer_data_synced(os.path.join('CSHL_data_processed', stack), \n",
    "                     from_hostname='s3', to_hostname='ec2', is_dir=True, include_only='*.pkl')"
   ]
  },
  {
   "cell_type": "code",
   "execution_count": 38,
   "metadata": {
    "collapsed": true
   },
   "outputs": [],
   "source": [
    "if stack in all_nissl_stacks:\n",
    "    pad_bg_color = 'white'\n",
    "else:\n",
    "    pad_bg_color = 'auto'"
   ]
  },
  {
   "cell_type": "code",
   "execution_count": 47,
   "metadata": {
    "collapsed": true
   },
   "outputs": [],
   "source": [
    "prep_id = 1"
   ]
  },
  {
   "cell_type": "code",
   "execution_count": 50,
   "metadata": {
    "collapsed": true
   },
   "outputs": [],
   "source": [
    "input_dir = os.path.join(RAW_DATA_DIR, stack)\n",
    "# out_dir = os.path.join(DATA_DIR, stack, stack + '_thumbnail_alignedTo_' + anchor_fn)\n",
    "out_dir = os.path.join(DATA_DIR, stack, stack + '_prep' + str(prep_id) + '_thumbnail')\n",
    "script = os.path.join(REPO_DIR, 'preprocess', 'warp_crop_IM_v2.py')"
   ]
  },
  {
   "cell_type": "code",
   "execution_count": 40,
   "metadata": {},
   "outputs": [
    {
     "name": "stdout",
     "output_type": "stream",
     "text": [
      "/bin/sh: 1: 661-F116-2017.06.07-04.39.41_MD661_1_0346: not found\r\n"
     ]
    }
   ],
   "source": [
    "! rm -rf {out_dir}"
   ]
  },
  {
   "cell_type": "code",
   "execution_count": 52,
   "metadata": {
    "scrolled": true
   },
   "outputs": [
    {
     "name": "stdout",
     "output_type": "stream",
     "text": [
      "Warping...\n",
      "rm -f ~/stderr_*; rm -f ~/stdout_*\n"
     ]
    },
    {
     "name": "stderr",
     "output_type": "stream",
     "text": [
      "8 nodes available.\n",
      "Jobs submitted. Use wait_qsub_complete() to wait for all execution to finish.\n"
     ]
    },
    {
     "name": "stdout",
     "output_type": "stream",
     "text": [
      "done in 277.217124939 seconds\n"
     ]
    },
    {
     "name": "stderr",
     "output_type": "stream",
     "text": [
      "qsub returned.\n"
     ]
    }
   ],
   "source": [
    "t = time.time()\n",
    "print 'Warping...'\n",
    "\n",
    "# transforms_filename = os.path.join(DATA_DIR, stack, '%(stack)s_transformsTo_%(anchor_fn)s.pkl' % \\\n",
    "#                                    dict(stack=stack, anchor_fn=anchor_fn))\n",
    "# transforms_to_anchor = pickle.load(open(transforms_filename, 'r'))\n",
    "\n",
    "transforms_to_anchor = DataManager.load_transforms(stack=stack, downsample_factor=32, \n",
    "                                                   use_inverse=False, anchor_fn=anchor_fn)\n",
    "\n",
    "if pad_bg_color == 'auto':\n",
    "    run_distributed('%(script)s %(stack)s \\\"%(input_dir)s\\\" \\\"%(out_dir)s\\\" %%(transform)s \\\"%%(filename)s\\\" \\\"%%(output_fn)s\\\" thumbnail 0 0 2000 1500 %%(pad_bg_color)s' % \\\n",
    "                    {'script': script,\n",
    "                    'stack': stack,\n",
    "                    'input_dir': input_dir,\n",
    "                    'out_dir': out_dir\n",
    "                    },\n",
    "                    kwargs_list=[{'transform': ','.join(map(str, transforms_to_anchor[fn].flatten())),\n",
    "                                'filename': fn + '.' + tb_fmt,\n",
    "#                                 'output_fn': fn + '_thumbnail_alignedTo_' + anchor_fn + '.tif',\n",
    "                                  'output_fn': fn + '_prep' + str(prep_id) + '_thumbnail' + '.tif',\n",
    "                                'pad_bg_color': 'black' if fn.split('-')[1][0] == 'F' else 'white'}\n",
    "                                for fn in valid_filenames],\n",
    "                    argument_type='single',\n",
    "                   jobs_per_node=8)\n",
    "else:\n",
    "    run_distributed('%(script)s %(stack)s \\\"%(input_dir)s\\\" \\\"%(out_dir)s\\\" %%(transform)s \\\"%%(filename)s\\\" \\\"%%(output_fn)s\\\" thumbnail 0 0 2000 1500 %(pad_bg_color)s' % \\\n",
    "                    {'script': script,\n",
    "                    'stack': stack,\n",
    "                    'input_dir': input_dir,\n",
    "                    'out_dir': out_dir,\n",
    "                    'pad_bg_color': pad_bg_color},\n",
    "                    kwargs_list=[{'transform': ','.join(map(str, transforms_to_anchor[fn].flatten())),\n",
    "                                'filename': fn + '.' + tb_fmt,\n",
    "#                                 'output_fn': fn + '_thumbnail_alignedTo_' + anchor_fn + '.tif'}\n",
    "                                  'output_fn': fn + '_prep' + str(prep_id) + '_thumbnail' + '.tif'}\n",
    "                                for fn in valid_filenames],\n",
    "                    argument_type='single',\n",
    "                   jobs_per_node=8)\n",
    "\n",
    "wait_qsub_complete()\n",
    "    \n",
    "print 'done in', time.time() - t, 'seconds' # 300 seconds."
   ]
  },
  {
   "cell_type": "code",
   "execution_count": 53,
   "metadata": {},
   "outputs": [
    {
     "name": "stdout",
     "output_type": "stream",
     "text": [
      "aws s3 cp --recursive /shared/CSHL_data_processed/MD661/MD661_prep1_thumbnail s3://mousebrainatlas-data/CSHL_data_processed/MD661/MD661_prep1_thumbnail\n"
     ]
    }
   ],
   "source": [
    "upload_to_s3(out_dir, is_dir=True)"
   ]
  },
  {
   "cell_type": "code",
   "execution_count": 56,
   "metadata": {},
   "outputs": [
    {
     "name": "stderr",
     "output_type": "stream",
     "text": [
      "[autoreload of data_manager failed: Traceback (most recent call last):\n",
      "  File \"/usr/local/lib/python2.7/dist-packages/IPython/extensions/autoreload.py\", line 247, in check\n",
      "    superreload(m, reload, self.old_objects)\n",
      "  File \"/shared/MouseBrainAtlas/utilities/data_manager.py\", line 1702\n",
      "    def get_image_dir_v2(stack, prep_id, int_id, resol='lossless', ,\n",
      "                                                                   ^\n",
      "SyntaxError: invalid syntax\n",
      "]\n"
     ]
    }
   ],
   "source": [
    "# transfer_data_synced(os.path.join('CSHL_data_processed', stack, stack + '_thumbnail_alignedTo_' + anchor_fn),\n",
    "#                     from_hostname='ec2',\n",
    "#                     to_hostname='s3',\n",
    "#                     is_dir=True)"
   ]
  },
  {
   "cell_type": "markdown",
   "metadata": {},
   "source": [
    "- Download aligned images to local. In GUI, check alignment correctness.\n",
    "- (Recommended) Run `construct_intensity_volume_v3` notebook. Check the smoothness of virtual re-sectioning in brain labeling gui.\n",
    "- Place cropbox. Upload `cropbox.txt` to S3."
   ]
  },
  {
   "cell_type": "markdown",
   "metadata": {},
   "source": [
    "# Crop"
   ]
  },
  {
   "cell_type": "code",
   "execution_count": 9,
   "metadata": {},
   "outputs": [
    {
     "name": "stdout",
     "output_type": "stream",
     "text": [
      "rm -rf /shared/CSHL_data_processed/MD635/MD635_alignedTo_MD635-F63-2016.05.19-08.39.03_MD635_2_0188_cropbox.txt && mkdir -p /shared/CSHL_data_processed/MD635\n",
      "aws s3 cp s3://mousebrainatlas-data/CSHL_data_processed/MD635/MD635_alignedTo_MD635-F63-2016.05.19-08.39.03_MD635_2_0188_cropbox.txt /shared/CSHL_data_processed/MD635/MD635_alignedTo_MD635-F63-2016.05.19-08.39.03_MD635_2_0188_cropbox.txt\n"
     ]
    },
    {
     "name": "stderr",
     "output_type": "stream",
     "text": [
      "Child returned 0\n",
      "Child returned 0\n",
      "0.45 seconds.\n"
     ]
    }
   ],
   "source": [
    "download_from_s3(DataManager.get_cropbox_filename(stack), redownload=True)"
   ]
  },
  {
   "cell_type": "code",
   "execution_count": 10,
   "metadata": {
    "collapsed": true,
    "scrolled": true
   },
   "outputs": [],
   "source": [
    "xmin, xmax, ymin, ymax, first_sec, last_sec = DataManager.load_cropbox(stack=stack)\n",
    "w = xmax + 1 - xmin\n",
    "h = ymax + 1 - ymin\n",
    "x = xmin\n",
    "y = ymin"
   ]
  },
  {
   "cell_type": "code",
   "execution_count": 11,
   "metadata": {
    "collapsed": true
   },
   "outputs": [],
   "source": [
    "first_fn = sections_to_filenames[first_sec]\n",
    "last_fn = sections_to_filenames[last_sec]"
   ]
  },
  {
   "cell_type": "code",
   "execution_count": 12,
   "metadata": {
    "collapsed": true
   },
   "outputs": [],
   "source": [
    "first_idx_among_valid = valid_filenames.index(first_fn)\n",
    "last_idx_among_valid = valid_filenames.index(last_fn)"
   ]
  },
  {
   "cell_type": "markdown",
   "metadata": {},
   "source": [
    "# Crop Thumbnail"
   ]
  },
  {
   "cell_type": "code",
   "execution_count": null,
   "metadata": {
    "collapsed": true
   },
   "outputs": [],
   "source": [
    "transfer_data_synced(os.path.join('CSHL_data_processed', stack, stack + '_thumbnail_alignedTo_' + anchor_fn),\n",
    "                    from_hostname='s3',\n",
    "                    to_hostname='ec2',\n",
    "                    is_dir=True)"
   ]
  },
  {
   "cell_type": "code",
   "execution_count": 42,
   "metadata": {},
   "outputs": [
    {
     "name": "stdout",
     "output_type": "stream",
     "text": [
      "mkdir -p /shared/CSHL_data_processed/MD635/MD635_thumbnail_alignedTo_MD635-F63-2016.05.19-08.39.03_MD635_2_0188_cropped\n"
     ]
    },
    {
     "name": "stderr",
     "output_type": "stream",
     "text": [
      "Child returned 0\n"
     ]
    },
    {
     "data": {
      "text/plain": [
       "0"
      ]
     },
     "execution_count": 42,
     "metadata": {},
     "output_type": "execute_result"
    }
   ],
   "source": [
    "input_dir = os.path.join(DATA_DIR, stack, \"%(stack)s_thumbnail_alignedTo_%(anchor_fn)s\" % \\\n",
    "                           {'stack': stack, 'anchor_fn': anchor_fn})\n",
    "\n",
    "output_dir = os.path.join(DATA_DIR, stack, \"%(stack)s_thumbnail_alignedTo_%(anchor_fn)s_cropped\" % \\\n",
    "                           {'stack': stack, 'anchor_fn': anchor_fn})\n",
    "\n",
    "execute_command('mkdir -p ' + output_dir)"
   ]
  },
  {
   "cell_type": "code",
   "execution_count": 43,
   "metadata": {},
   "outputs": [
    {
     "name": "stderr",
     "output_type": "stream",
     "text": [
      "cropping thumbnail..."
     ]
    },
    {
     "name": "stdout",
     "output_type": "stream",
     "text": [
      "mogrify -set filename:name %t -crop 685x448+659+308 -write \"/shared/CSHL_data_processed/MD635/MD635_thumbnail_alignedTo_MD635-F63-2016.05.19-08.39.03_MD635_2_0188_cropped/%[filename:name]_cropped.tif\" /shared/CSHL_data_processed/MD635/MD635_thumbnail_alignedTo_MD635-F63-2016.05.19-08.39.03_MD635_2_0188/*.tif\n"
     ]
    },
    {
     "name": "stderr",
     "output_type": "stream",
     "text": [
      "Child returned 0\n",
      "done in 34.986666 seconds\n"
     ]
    }
   ],
   "source": [
    "t = time.time()\n",
    "sys.stderr.write('cropping thumbnail...')\n",
    "\n",
    "execute_command('mogrify -set filename:name %%t -crop %(w)dx%(h)d+%(x)d+%(y)d -write \"%(output_dir)s/%%[filename:name]_cropped.tif\" %(input_dir)s/*.tif' % \\\n",
    "    {'input_dir': input_dir,\n",
    "     'output_dir': output_dir,\n",
    "    'w':w, 'h':h, 'x':x, 'y':y})\n",
    "\n",
    "sys.stderr.write('done in %f seconds\\n' % (time.time() - t)) # 100 seconds"
   ]
  },
  {
   "cell_type": "code",
   "execution_count": 44,
   "metadata": {},
   "outputs": [
    {
     "name": "stdout",
     "output_type": "stream",
     "text": [
      "aws s3 cp --recursive /shared/CSHL_data_processed/MD635/MD635_thumbnail_alignedTo_MD635-F63-2016.05.19-08.39.03_MD635_2_0188_cropped s3://mousebrainatlas-data/CSHL_data_processed/MD635/MD635_thumbnail_alignedTo_MD635-F63-2016.05.19-08.39.03_MD635_2_0188_cropped\n"
     ]
    },
    {
     "name": "stderr",
     "output_type": "stream",
     "text": [
      "Child returned 0\n",
      "3.58 seconds.\n"
     ]
    }
   ],
   "source": [
    "transfer_data_synced(os.path.join('CSHL_data_processed', stack, stack + '_thumbnail_alignedTo_' + anchor_fn + '_cropped'),\n",
    "                    from_hostname='ec2',\n",
    "                    to_hostname='s3',\n",
    "                    is_dir=True)"
   ]
  },
  {
   "cell_type": "markdown",
   "metadata": {},
   "source": [
    "# Expand lossless JP2"
   ]
  },
  {
   "cell_type": "code",
   "execution_count": 24,
   "metadata": {
    "collapsed": true
   },
   "outputs": [],
   "source": [
    "stack = 'MD635'"
   ]
  },
  {
   "cell_type": "code",
   "execution_count": null,
   "metadata": {
    "collapsed": true,
    "scrolled": true
   },
   "outputs": [],
   "source": [
    "transfer_data_synced(os.path.join('CSHL_data', stack),\n",
    "                    from_hostname='s3raw',\n",
    "                    to_hostname='ec2',\n",
    "                    is_dir=True,\n",
    "                    include_only='*_lossless.jp2')"
   ]
  },
  {
   "cell_type": "code",
   "execution_count": null,
   "metadata": {
    "collapsed": true,
    "scrolled": true
   },
   "outputs": [],
   "source": [
    "t = time.time()\n",
    "sys.stderr.write('expanding...')\n",
    "\n",
    "output_dir = create_if_not_exists(os.path.join(DATA_DIR, stack, stack + '_lossless_tif'))\n",
    "input_dir = os.path.join(RAW_DATA_DIR, stack)\n",
    "\n",
    "# filenames_to_expand = [fn for fn in filenames[first_idx:last_idx+1] if not os.path.exists(os.path.join(input_dir, fn + '_lossless.tif'))]\n",
    "\n",
    "filenames_to_expand = [fn for fn in valid_filenames[first_idx_among_valid:last_idx_among_valid+1] \n",
    "                       if not os.path.exists(os.path.join(input_dir, fn + '_lossless.tif'))]\n",
    "\n",
    "run_distributed('export LD_LIBRARY_PATH=/home/ubuntu/KDU79_Demo_Apps_for_Linux-x86-64_170108:$LD_LIBRARY_PATH; %(kdu_bin)s -i %(input_dir)s/%%(fn)s_lossless.jp2 -o %(output_dir)s/%%(fn)s_lossless.tif' % \\\n",
    "                {'kdu_bin': KDU_EXPAND_BIN,\n",
    "                 'output_dir': output_dir,\n",
    "                'input_dir': input_dir},\n",
    "                kwargs_list={'fn': filenames_to_expand},\n",
    "                argument_type='single',\n",
    "               cluster_size=16)\n",
    "\n",
    "wait_qsub_complete()\n",
    "\n",
    "sys.stderr.write('done in %f seconds\\n' % (time.time() - t)) # 900 seconds."
   ]
  },
  {
   "cell_type": "code",
   "execution_count": null,
   "metadata": {
    "collapsed": true,
    "scrolled": true
   },
   "outputs": [],
   "source": [
    "transfer_data_synced(os.path.join('CSHL_data_processed', stack, stack + '_lossless_tif'),\n",
    "                    from_hostname='ec2',\n",
    "                    to_hostname='s3',\n",
    "                    is_dir=True) # 6000s"
   ]
  },
  {
   "cell_type": "markdown",
   "metadata": {},
   "source": [
    "# Warping and cropping lossless"
   ]
  },
  {
   "cell_type": "code",
   "execution_count": 24,
   "metadata": {},
   "outputs": [
    {
     "name": "stdout",
     "output_type": "stream",
     "text": [
      "rm -rf /shared/CSHL_data_processed/MD585/MD585_lossless_tif && mkdir -p /shared/CSHL_data_processed/MD585\n",
      "aws s3 cp --recursive s3://mousebrainatlas-data/CSHL_data_processed/MD585/MD585_lossless_tif /shared/CSHL_data_processed/MD585/MD585_lossless_tif\n"
     ]
    },
    {
     "name": "stderr",
     "output_type": "stream",
     "text": [
      "Child returned 0\n"
     ]
    },
    {
     "name": "stdout",
     "output_type": "stream",
     "text": [
      "3079.07781506\n"
     ]
    },
    {
     "name": "stderr",
     "output_type": "stream",
     "text": [
      "Child returned 0\n",
      "3079.08 seconds.\n"
     ]
    }
   ],
   "source": [
    "transfer_data_synced(os.path.join('CSHL_data_processed', stack, stack + '_lossless_tif'),\n",
    "                    from_hostname='s3',\n",
    "                    to_hostname='ec2',\n",
    "                    is_dir=True)\n",
    "# 3000 seconds"
   ]
  },
  {
   "cell_type": "code",
   "execution_count": 37,
   "metadata": {
    "collapsed": true
   },
   "outputs": [],
   "source": [
    "# tf_filepath = os.path.join(DATA_DIR, stack, '%(stack)s_transformsTo_anchor.pkl' % {'stack':stack})\n",
    "# tfs = pickle.load(open(tf_filepath, 'r'))\n",
    "# Note that the index from trasform pickle file starts at 0, BUT the .._renamed folder index starts at 1.#\n",
    "\n",
    "tfs = DataManager.load_transforms(stack=stack)\n",
    "\n",
    "lossless_tif_dir = os.path.join(DATA_DIR, stack, stack + '_lossless_tif')\n",
    "lossless_aligned_cropped_dir = os.path.join(DATA_DIR, stack, stack + '_lossless_alignedTo_' + anchor_fn + '_cropped')\n",
    "\n",
    "script_fp = os.path.join(REPO_DIR, 'preprocess', 'warp_crop_IM_v2.py')"
   ]
  },
  {
   "cell_type": "code",
   "execution_count": 45,
   "metadata": {
    "collapsed": true
   },
   "outputs": [],
   "source": [
    "! rm -r {lossless_aligned_cropped_dir}"
   ]
  },
  {
   "cell_type": "code",
   "execution_count": 43,
   "metadata": {
    "collapsed": true
   },
   "outputs": [],
   "source": [
    "if stack in all_nissl_stacks:\n",
    "    pad_bg_color = 'white'\n",
    "else:\n",
    "    pad_bg_color = 'auto'"
   ]
  },
  {
   "cell_type": "code",
   "execution_count": null,
   "metadata": {
    "collapsed": true
   },
   "outputs": [],
   "source": [
    "t = time.time()\n",
    "sys.stderr.write('warping and cropping lossless...')\n",
    "\n",
    "# wait_num_nodes(16)\n",
    "                   \n",
    "if pad_bg_color == 'auto':\n",
    "    # If alternating, then black padding for F sections, white padding for N sections.\n",
    "    run_distributed(command='%(script_path)s %(stack)s %(lossless_tif_dir)s %(lossless_aligned_cropped_dir)s %%(transform)s %%(filename)s %%(output_fn)s lossless %(x)d %(y)d %(w)d %(h)d %%(pad_bg_color)s'%\\\n",
    "                    {'script_path': script_fp,\n",
    "                    'stack': stack,\n",
    "                    'lossless_tif_dir': lossless_tif_dir,\n",
    "                    'lossless_aligned_cropped_dir': lossless_aligned_cropped_dir,\n",
    "                    'x': x,\n",
    "                    'y': y,\n",
    "                    'w': w,\n",
    "                    'h': h},\n",
    "                    kwargs_list=[{'transform': ','.join(map(str, tfs[fn].flatten())),\n",
    "                                'filename': fn + '_lossless.tif',\n",
    "                                'output_fn': fn + '_lossless_alignedTo_' + anchor_fn + '_cropped.tif',\n",
    "                                'pad_bg_color': 'black' if fn.split('-')[1][0] == 'F' else 'white'}\n",
    "                                for fn in valid_filenames[first_idx_among_valid:last_idx_among_valid+1]],\n",
    "#                                  for fn in valid_filenames[first_idx_among_valid:first_idx_among_valid+16]],\n",
    "                    argument_type='single',\n",
    "                   cluster_size=16,\n",
    "                   jobs_per_node=4)\n",
    "else:\n",
    "    run_distributed(command='%(script_path)s %(stack)s %(lossless_tif_dir)s %(lossless_aligned_cropped_dir)s %%(transform)s %%(filename)s %%(output_fn)s lossless %(x)d %(y)d %(w)d %(h)d %(pad_bg_color)s'%\\\n",
    "                    {'script_path': script_fp,\n",
    "                    'stack': stack,\n",
    "                    'lossless_tif_dir': lossless_tif_dir,\n",
    "                    'lossless_aligned_cropped_dir': lossless_aligned_cropped_dir,\n",
    "                    'x': x,\n",
    "                    'y': y,\n",
    "                    'w': w,\n",
    "                    'h': h,\n",
    "                    'pad_bg_color': pad_bg_color},\n",
    "                    kwargs_list=[{'transform': ','.join(map(str, tfs[fn].flatten())),\n",
    "                                'filename': fn + '_lossless.tif',\n",
    "                                'output_fn': fn + '_lossless_alignedTo_' + anchor_fn + '_cropped.tif'}\n",
    "                                for fn in valid_filenames[first_idx_among_valid:last_idx_among_valid+1]],\n",
    "#                                  for fn in valid_filenames[first_idx_among_valid:first_idx_among_valid+16]],\n",
    "                    argument_type='single',\n",
    "                   cluster_size=16,\n",
    "                   jobs_per_node=4)\n",
    "\n",
    "wait_qsub_complete()\n",
    "    \n",
    "sys.stderr.write('done in %f seconds\\n' % (time.time() - t)) # 4140 seconds (AWS)"
   ]
  },
  {
   "cell_type": "code",
   "execution_count": 24,
   "metadata": {},
   "outputs": [
    {
     "name": "stdout",
     "output_type": "stream",
     "text": [
      "aws s3 cp --recursive /shared/CSHL_data_processed/MD658/MD658_lossless_alignedTo_MD658-N58-2017.03.31-19.59.31_MD658_2_0173_cropped s3://mousebrainatlas-data/CSHL_data_processed/MD658/MD658_lossless_alignedTo_MD658-N58-2017.03.31-19.59.31_MD658_2_0173_cropped\n"
     ]
    },
    {
     "name": "stderr",
     "output_type": "stream",
     "text": [
      "Child returned 0\n",
      "1064.17 seconds.\n"
     ]
    }
   ],
   "source": [
    "transfer_data_synced(os.path.join('CSHL_data_processed', stack, stack + '_lossless_alignedTo_' + anchor_fn + '_cropped'),\n",
    "                    from_hostname='ec2',\n",
    "                    to_hostname='s3',\n",
    "                    is_dir=True) \n",
    "# 512 seconds"
   ]
  },
  {
   "cell_type": "markdown",
   "metadata": {},
   "source": [
    "# Expand and Crop together (use /scratch)"
   ]
  },
  {
   "cell_type": "code",
   "execution_count": 40,
   "metadata": {
    "collapsed": true
   },
   "outputs": [],
   "source": [
    "stack = 'MD635'"
   ]
  },
  {
   "cell_type": "code",
   "execution_count": 65,
   "metadata": {
    "collapsed": true
   },
   "outputs": [],
   "source": [
    "tfs = DataManager.load_transforms(stack=stack, downsample_factor=32, use_inverse=False)\n",
    "anchor_fn = metadata_cache['anchor_fn'][stack]\n",
    "xmin, xmax, ymin, ymax = metadata_cache['cropbox'][stack]"
   ]
  },
  {
   "cell_type": "code",
   "execution_count": 68,
   "metadata": {},
   "outputs": [
    {
     "name": "stderr",
     "output_type": "stream",
     "text": [
      "expanding...Child returned 0\n",
      "13 nodes available...Continuing\n"
     ]
    },
    {
     "name": "stdout",
     "output_type": "stream",
     "text": [
      "rm -f ~/stderr_*; rm -f ~/stdout_*\n"
     ]
    },
    {
     "name": "stderr",
     "output_type": "stream",
     "text": [
      "Jobs submitted. Use wait_qsub_complete() to check if they finish.\n",
      "Child returned 0\n",
      "13 nodes available...Continuing\n"
     ]
    },
    {
     "name": "stdout",
     "output_type": "stream",
     "text": [
      "rm -f ~/stderr_*; rm -f ~/stdout_*\n"
     ]
    },
    {
     "name": "stderr",
     "output_type": "stream",
     "text": [
      "Jobs submitted. Use wait_qsub_complete() to check if they finish.\n",
      "qsub returned.\n",
      "done in 4222.634601 seconds\n"
     ]
    }
   ],
   "source": [
    "t = time.time()\n",
    "sys.stderr.write('expanding...')\n",
    "\n",
    "run_distributed('rm -rf /scratch/*', argument_type='single')\n",
    "\n",
    "raw_jp2_dir = DataManager.get_image_dir(stack=stack, resol='lossless', version='original_jp2', raw_data_dir='/scratch/CSHL_data')\n",
    "lossless_tif_dir = create_if_not_exists(DataManager.get_image_dir(stack=stack, resol='lossless', version='uncropped_tif', data_dir='/scratch/CSHL_data_processed'))\n",
    "lossless_aligned_cropped_dir = create_if_not_exists(DataManager.get_image_dir(stack=stack, resol='lossless', version='cropped', data_dir='/scratch/CSHL_data_processed'))\n",
    "\n",
    "warp_crop_script_fp = os.path.join(REPO_DIR, 'preprocess', 'warp_crop_IM_v3.py')\n",
    "\n",
    "run_distributed('aws s3 cp s3://mousebrainatlas-rawdata/CSHL_data/%(stack)s/%%(fn)s_lossless.jp2 %(raw_jp2_dir)s/ && \\\n",
    "mkdir -p %(lossless_tif_dir)s && \\\n",
    "LD_LIBRARY_PATH=/home/ubuntu/KDU79_Demo_Apps_for_Linux-x86-64_170108:$LD_LIBRARY_PATH %(kdu_bin)s -i %(raw_jp2_dir)s/%%(fn)s_lossless.jp2 -o %(lossless_tif_dir)s/%%(fn)s_lossless.tif && \\\n",
    "mkdir -p %(lossless_aligned_cropped_dir)s && \\\n",
    "%(script_path)s %(stack)s %%(lossless_tif_fp)s %%(lossless_aligned_cropped_fp)s %%(transform)s lossless %(x)d %(y)d %(w)d %(h)d %%(pad_bg_color)s && \\\n",
    "aws s3 cp %%(lossless_aligned_cropped_fp)s s3://mousebrainatlas-data/%(s3_dest_dir)s/' % \\\n",
    "                {'stack': stack,\n",
    "                'kdu_bin': KDU_EXPAND_BIN,\n",
    "                'raw_jp2_dir': raw_jp2_dir,\n",
    "                'script_path': warp_crop_script_fp,\n",
    "                'lossless_tif_dir': lossless_tif_dir,\n",
    "                'lossless_aligned_cropped_dir': lossless_aligned_cropped_dir,\n",
    "                 's3_dest_dir': relative_to_local(lossless_aligned_cropped_dir, local_root='/scratch'),\n",
    "                'x': xmin,\n",
    "                'y': ymin,\n",
    "                'w': xmax + 1 - xmin,\n",
    "                'h': ymax + 1 - ymin},\n",
    "                kwargs_list=[{'fn': fn, \n",
    "                              'transform': ','.join(map(str, tfs[fn].flatten())),\n",
    "                                'lossless_tif_fp': DataManager.get_image_filepath(stack=stack, fn=fn, resol='lossless', version='uncropped_tif', data_dir='/scratch/CSHL_data_processed'),\n",
    "                                'lossless_aligned_cropped_fp': DataManager.get_image_filepath(stack=stack, fn=fn, resol='lossless', version='cropped', data_dir='/scratch/CSHL_data_processed'),\n",
    "                                'pad_bg_color': 'black' if fn.split('-')[1][0] == 'F' else 'white'}\n",
    "                             for fn in metadata_cache['valid_filenames'][stack]],\n",
    "                argument_type='single')\n",
    "\n",
    "wait_qsub_complete()\n",
    "\n",
    "sys.stderr.write('done in %f seconds\\n' % (time.time() - t)) # 4222 seconds."
   ]
  },
  {
   "cell_type": "markdown",
   "metadata": {},
   "source": [
    "# contrast stretch Neurotrace, convert to 8 bits"
   ]
  },
  {
   "cell_type": "code",
   "execution_count": 3,
   "metadata": {
    "collapsed": true
   },
   "outputs": [],
   "source": [
    "# stack = 'MD642'\n",
    "\n",
    "# download_from_s3(DataManager.get_sorted_filenames_filename(stack=stack))\n",
    "# _, sections_to_filenames = DataManager.load_sorted_filenames(stack=stack)\n",
    "\n",
    "# valid_filenames = [fn for fn in sections_to_filenames.values() if not is_invalid(fn=fn)]\n",
    "\n",
    "# _, _, _, _, first_sec, last_sec = DataManager.load_cropbox(stack=stack)\n",
    "# first_fn = sections_to_filenames[first_sec]\n",
    "# last_fn = sections_to_filenames[last_sec]\n",
    "# first_idx_among_valid = valid_filenames.index(first_fn)\n",
    "# last_idx_among_valid = valid_filenames.index(last_fn)"
   ]
  },
  {
   "cell_type": "code",
   "execution_count": 5,
   "metadata": {
    "collapsed": true
   },
   "outputs": [],
   "source": [
    "# script_fp = os.path.join(REPO_DIR, 'preprocess', 'stretch_contrast_neurotrace.py')\n",
    "# in_dir = os.path.join(DATA_DIR, stack, stack + '_lossless_alignedTo_' + anchor_fn + '_cropped')\n",
    "# out_dir = os.path.join(DATA_DIR, stack, stack + '_lossless_alignedTo_' + anchor_fn + '_cropped_contrast_stretched')\n",
    "# ! mkdir -p {out_dir}"
   ]
  },
  {
   "cell_type": "code",
   "execution_count": 4,
   "metadata": {
    "collapsed": true
   },
   "outputs": [],
   "source": [
    "# t = time.time()\n",
    "# sys.stderr.write('Contrast stretch neurotrace images...')\n",
    "               \n",
    "# run_distributed(command='%(script_path)s %%(in_fn)s %%(out_fn)s %(imin)d %(imax)d'%\\\n",
    "#                     {'script_path': script_fp,\n",
    "#                      'imin': 0,\n",
    "#                      'imax': 400\n",
    "#                     },\n",
    "#                     kwargs_list=[{'in_fn': os.path.join(in_dir, fn + '_lossless_alignedTo_' + anchor_fn + '_cropped.tif'),\n",
    "#                                 'out_fn': os.path.join(out_dir, fn + '_lossless_alignedTo_' + anchor_fn + '_cropped_contrast_stretched.tif')}\n",
    "#                                 for fn in valid_filenames[first_idx_among_valid:last_idx_among_valid+1]\n",
    "#                                 if fn.split('-')[1][0] == 'F'],\n",
    "#                     argument_type='single',\n",
    "#                    cluster_size=16)\n",
    "\n",
    "# wait_qsub_complete()\n",
    "\n",
    "# sys.stderr.write('done in %f seconds\\n' % (time.time() - t)) # 2500 seconds"
   ]
  },
  {
   "cell_type": "code",
   "execution_count": 6,
   "metadata": {
    "collapsed": true
   },
   "outputs": [],
   "source": [
    "# transfer_data_synced(os.path.join('CSHL_data_processed', stack, stack + '_lossless_alignedTo_' + anchor_fn + '_cropped_contrast_stretched'),\n",
    "#                     from_hostname='ec2',\n",
    "#                     to_hostname='s3',\n",
    "#                     is_dir=True) #700s"
   ]
  },
  {
   "cell_type": "markdown",
   "metadata": {},
   "source": [
    "# Convert images to nissl-like grayscale - for full nissl stacks"
   ]
  },
  {
   "cell_type": "code",
   "execution_count": 20,
   "metadata": {},
   "outputs": [
    {
     "name": "stderr",
     "output_type": "stream",
     "text": [
      "Convert nissl images to gray...Child returned 0\n",
      "16 nodes requested, 16 nodes available...Continuing\n"
     ]
    },
    {
     "name": "stdout",
     "output_type": "stream",
     "text": [
      "rm -f ~/stderr_*; rm -f ~/stdout_*\n"
     ]
    },
    {
     "name": "stderr",
     "output_type": "stream",
     "text": [
      "Jobs submitted. Use wait_qsub_complete() to check if they finish.\n",
      "qsub returned.\n",
      "done in 1136.945903 seconds\n"
     ]
    }
   ],
   "source": [
    "# for stack in all_nissl_stacks:\n",
    "for stack in ['MD595']:\n",
    "    \n",
    "    download_from_s3(DataManager.get_sorted_filenames_filename(stack=stack))\n",
    "    _, sections_to_filenames = DataManager.load_sorted_filenames(stack=stack)\n",
    "    \n",
    "    valid_filenames = [fn for fn in sections_to_filenames.values() if not is_invalid(fn=fn)]\n",
    "    download_from_s3(DataManager.get_anchor_filename_filename(stack=stack))\n",
    "\n",
    "    _, _, _, _, first_sec, last_sec = DataManager.load_cropbox(stack=stack)\n",
    "    first_fn = sections_to_filenames[first_sec]\n",
    "    last_fn = sections_to_filenames[last_sec]\n",
    "    first_idx_among_valid = valid_filenames.index(first_fn)\n",
    "    last_idx_among_valid = valid_filenames.index(last_fn)\n",
    "\n",
    "    # Convert Nissl images to grayscale\n",
    "    \n",
    "    t = time.time()\n",
    "    sys.stderr.write('Convert nissl images to gray...')\n",
    "\n",
    "    script_fp = os.path.join(REPO_DIR, 'preprocess', 'convert_grayscale_neurotrace_v2.py')\n",
    "\n",
    "    run_distributed(command='%(script_path)s %(stack)s \\'%%(filenames)s\\''%\\\n",
    "                        {'script_path': script_fp, 'stack': stack},\n",
    "                        kwargs_list={'filenames': valid_filenames[first_idx_among_valid:last_idx_among_valid+1]\n",
    "                                    },\n",
    "                        argument_type='list2')\n",
    "\n",
    "    wait_qsub_complete()\n",
    "\n",
    "    sys.stderr.write('done in %f seconds\\n' % (time.time() - t)) # 900 seconds."
   ]
  },
  {
   "cell_type": "markdown",
   "metadata": {},
   "source": [
    "# Convert images to nissl-like grayscale - for alternating nissl/neurotrace stacks"
   ]
  },
  {
   "cell_type": "code",
   "execution_count": 269,
   "metadata": {
    "scrolled": true
   },
   "outputs": [
    {
     "name": "stderr",
     "output_type": "stream",
     "text": [
      "Convert nissl images to gray...16 nodes requested, 16 nodes available...Continuing\n",
      "Jobs submitted. Use wait_qsub_complete() to check if they finish.\n",
      "qsub returned.\n",
      "done in 1098.395771 seconds\n",
      "16 nodes requested, 16 nodes available...Continuing\n"
     ]
    },
    {
     "name": "stdout",
     "output_type": "stream",
     "text": [
      "Match intensity profile between Neurotrace and Nissl..."
     ]
    },
    {
     "name": "stderr",
     "output_type": "stream",
     "text": [
      "Jobs submitted. Use wait_qsub_complete() to check if they finish.\n",
      "qsub returned.\n",
      "Convert neurotrace images to gray...16 nodes requested, 16 nodes available...Continuing\n"
     ]
    },
    {
     "name": "stdout",
     "output_type": "stream",
     "text": [
      " done in 2371.7916441 seconds\n"
     ]
    },
    {
     "name": "stderr",
     "output_type": "stream",
     "text": [
      "Jobs submitted. Use wait_qsub_complete() to check if they finish.\n",
      "qsub returned.\n",
      "done in 1008.132029 seconds\n",
      "Convert nissl images to gray...16 nodes requested, 16 nodes available...Continuing\n",
      "Jobs submitted. Use wait_qsub_complete() to check if they finish.\n",
      "qsub returned.\n",
      "done in 1053.684169 seconds\n",
      "16 nodes requested, 16 nodes available...Continuing\n"
     ]
    },
    {
     "name": "stdout",
     "output_type": "stream",
     "text": [
      "Match intensity profile between Neurotrace and Nissl..."
     ]
    },
    {
     "name": "stderr",
     "output_type": "stream",
     "text": [
      "Jobs submitted. Use wait_qsub_complete() to check if they finish.\n",
      "qsub returned.\n",
      "Convert neurotrace images to gray...16 nodes requested, 16 nodes available...Continuing\n"
     ]
    },
    {
     "name": "stdout",
     "output_type": "stream",
     "text": [
      " done in 3785.25425816 seconds\n"
     ]
    },
    {
     "name": "stderr",
     "output_type": "stream",
     "text": [
      "Jobs submitted. Use wait_qsub_complete() to check if they finish.\n",
      "qsub returned.\n",
      "done in 1298.919096 seconds\n"
     ]
    }
   ],
   "source": [
    "# for stack in all_alt_nissl_ntb_stacks + all_alt_nissl_tracing_stacks:\n",
    "for stack in ['MD653', 'MD657']:\n",
    "    \n",
    "    download_from_s3(DataManager.get_sorted_filenames_filename(stack=stack))\n",
    "    _, sections_to_filenames = DataManager.load_sorted_filenames(stack=stack)\n",
    "    \n",
    "    valid_filenames = [fn for fn in sections_to_filenames.values() if not is_invalid(fn=fn)]\n",
    "    download_from_s3(DataManager.get_anchor_filename_filename(stack=stack))\n",
    "\n",
    "    _, _, _, _, first_sec, last_sec = DataManager.load_cropbox(stack=stack)\n",
    "    first_fn = sections_to_filenames[first_sec]\n",
    "    last_fn = sections_to_filenames[last_sec]\n",
    "    first_idx_among_valid = valid_filenames.index(first_fn)\n",
    "    last_idx_among_valid = valid_filenames.index(last_fn)\n",
    "\n",
    "    # Convert Nissl images to grayscale\n",
    "    \n",
    "    t = time.time()\n",
    "    sys.stderr.write('Convert nissl images to gray...')\n",
    "\n",
    "    script_fp = os.path.join(REPO_DIR, 'preprocess', 'convert_grayscale_neurotrace_v2.py')\n",
    "\n",
    "    run_distributed(command='%(script_path)s %(stack)s \\'%%(filenames)s\\''%\\\n",
    "                        {'script_path': script_fp, 'stack': stack},\n",
    "                        kwargs_list={'filenames': \n",
    "                                     [fn for fn in valid_filenames[first_idx_among_valid:last_idx_among_valid+1]\n",
    "                                      if fn.split('-')[1][0] == 'N']\n",
    "                                    },\n",
    "                        argument_type='list2',\n",
    "                       cluster_size=16)\n",
    "\n",
    "    wait_qsub_complete()\n",
    "\n",
    "    sys.stderr.write('done in %f seconds\\n' % (time.time() - t)) # 900 seconds.\n",
    "    \n",
    "    # Match intensity profile between Neurotrace Blue to Nissl\n",
    "\n",
    "    t = time.time()\n",
    "    sys.stderr.write('Match intensity profile between Neurotrace and Nissl...')\n",
    "\n",
    "    filename_pairs = []\n",
    "    l = valid_filenames[first_idx_among_valid:last_idx_among_valid+1]\n",
    "    for i, fn in enumerate(l):\n",
    "        if l[i].split('-')[1][0] == 'F':\n",
    "            for d in range(1, 99):\n",
    "                if i+d < len(l) and l[i+d].split('-')[1][0] == 'N':\n",
    "                    filename_pairs.append((l[i+d], l[i]))\n",
    "                    break\n",
    "                if i-d >= 0 and l[i-d].split('-')[1][0] == 'N':\n",
    "                    filename_pairs.append((l[i-d], l[i]))\n",
    "                    break\n",
    "            \n",
    "    script_fp = os.path.join(REPO_DIR, 'preprocess', 'match_intensity_profile.py')\n",
    "    \n",
    "    run_distributed(command='%(script_path)s %(stack)s \\'%%(filename_pairs)s\\' ' % \\\n",
    "                    {'script_path': script_fp,\n",
    "                    'stack': stack,\n",
    "                    'filename_pairs': filename_pairs},\n",
    "                    kwargs_list=dict(filename_pairs=filename_pairs),\n",
    "                    argument_type='list2',\n",
    "                   cluster_size=16)\n",
    "\n",
    "    wait_qsub_complete()\n",
    "\n",
    "    sys.stderr.write('done in %f seconds\\n' % (time.time() - t)) # 2500 seconds. \n",
    "    # TODO: One node is especially slow, investigate.\n",
    "    \n",
    "    # Convert Neurotrace images to grayscale\n",
    "    \n",
    "    t = time.time()\n",
    "    sys.stderr.write('Convert neurotrace images to gray...')\n",
    "    \n",
    "    script_fp = os.path.join(REPO_DIR, 'preprocess', 'convert_grayscale_neurotrace_v2.py')\n",
    "    \n",
    "    run_distributed(command='%(script_path)s %(stack)s \\'%%(filenames)s\\''%\\\n",
    "                        {'script_path': script_fp, \n",
    "                        'stack': stack},\n",
    "                        kwargs_list={'filenames': [fn for fn in valid_filenames[first_idx_among_valid:last_idx_among_valid+1]\n",
    "                                      if fn.split('-')[1][0] == 'F']\n",
    "                                    },\n",
    "                        argument_type='list2',\n",
    "                       cluster_size=16)\n",
    "\n",
    "    wait_qsub_complete()\n",
    "\n",
    "    sys.stderr.write('done in %f seconds\\n' % (time.time() - t)) # 1200 seconds.    "
   ]
  },
  {
   "cell_type": "markdown",
   "metadata": {},
   "source": [
    "# Convert images to nissl-like grayscale - for full neurotrace stacks"
   ]
  },
  {
   "cell_type": "code",
   "execution_count": 9,
   "metadata": {},
   "outputs": [
    {
     "name": "stderr",
     "output_type": "stream",
     "text": [
      "Convert neurotrace images to gray...Child returned 0\n",
      "16 nodes available.\n"
     ]
    },
    {
     "name": "stdout",
     "output_type": "stream",
     "text": [
      "rm -f ~/stderr_*; rm -f ~/stdout_*\n"
     ]
    },
    {
     "name": "stderr",
     "output_type": "stream",
     "text": [
      "Jobs submitted. Use wait_qsub_complete() to wait for all execution to finish.\n",
      "qsub returned.\n",
      "done in 1952.800308 seconds\n"
     ]
    }
   ],
   "source": [
    "for stack in ['MD635']:\n",
    "    \n",
    "    # Convert Neurotrace images to grayscale using a priori intensity mapping.\n",
    "    \n",
    "    t = time.time()\n",
    "    sys.stderr.write('Convert neurotrace images to gray...')\n",
    "    \n",
    "    script_fp = os.path.join(REPO_DIR, 'preprocess', 'convert_grayscale_neurotrace_v2.py')\n",
    "    \n",
    "    run_distributed(command='%(script_path)s %(stack)s \\'%%(filenames)s\\''%\\\n",
    "                        {'script_path': script_fp, \n",
    "                        'stack': stack},\n",
    "                        kwargs_list={'filenames': metadata_cache['valid_filenames'][stack]},\n",
    "                        argument_type='list2')\n",
    "\n",
    "    wait_qsub_complete()\n",
    "\n",
    "    sys.stderr.write('done in %f seconds\\n' % (time.time() - t)) # 2000 seconds.    "
   ]
  },
  {
   "cell_type": "markdown",
   "metadata": {},
   "source": [
    "# Contrast stretch all nissl-like grayscale images (deprecated)\n"
   ]
  },
  {
   "cell_type": "code",
   "execution_count": null,
   "metadata": {
    "collapsed": true,
    "scrolled": true
   },
   "outputs": [],
   "source": [
    "# for stack in ['MD590',\n",
    "#  'MD591',\n",
    "#  'MD592',\n",
    "#  'MD593',\n",
    "#  'MD594',\n",
    "#  'MD595',\n",
    "#  'MD598',\n",
    "#  'MD599',\n",
    "#  'MD602',\n",
    "#  'MD603']:\n",
    "# # for stack in ['MD589']:\n",
    "    \n",
    "#     download_from_s3(DataManager.get_sorted_filenames_filename(stack=stack))\n",
    "#     _, sections_to_filenames = DataManager.load_sorted_filenames(stack=stack)\n",
    "    \n",
    "#     valid_filenames = [fn for fn in sections_to_filenames.values() if not is_invalid(fn=fn)]\n",
    "#     download_from_s3(DataManager.get_anchor_filename_filename(stack=stack))\n",
    "\n",
    "#     _, _, _, _, first_sec, last_sec = DataManager.load_cropbox(stack=stack)\n",
    "#     first_fn = sections_to_filenames[first_sec]\n",
    "#     last_fn = sections_to_filenames[last_sec]\n",
    "#     first_idx_among_valid = valid_filenames.index(first_fn)\n",
    "#     last_idx_among_valid = valid_filenames.index(last_fn)\n",
    "\n",
    "#     # Contrast stretch nissl grayscale image\n",
    "    \n",
    "#     t = time.time()\n",
    "#     sys.stderr.write('Contrast stretch nissl grayscale image...')\n",
    "\n",
    "#     script_fp = os.path.join(REPO_DIR, 'preprocess', 'stretch_contrast_image.py')\n",
    "\n",
    "#     run_distributed(command='ROOT_DIR=/scratch/ %(script_path)s %(stack)s \\'%%(filenames)s\\' 23 160'%\\\n",
    "#                         {'script_path': script_fp, 'stack': stack},\n",
    "#                         kwargs_list={'filenames': valid_filenames[first_idx_among_valid:last_idx_among_valid+1]\n",
    "#                                     },\n",
    "#                         argument_type='list2',\n",
    "#                        cluster_size=16)\n",
    "\n",
    "#     wait_qsub_complete()\n",
    "\n",
    "#     sys.stderr.write('done in %f seconds\\n' % (time.time() - t))\n",
    "        \n",
    "#     run_distributed(command='rm -r /scratch/*',\n",
    "#                         argument_type='single',\n",
    "#                        cluster_size=16)\n",
    "#     wait_qsub_complete()"
   ]
  },
  {
   "cell_type": "markdown",
   "metadata": {},
   "source": [
    "# ONE STACK"
   ]
  },
  {
   "cell_type": "markdown",
   "metadata": {},
   "source": [
    "# Step 1: Convert Nissl images to grayscale"
   ]
  },
  {
   "cell_type": "code",
   "execution_count": null,
   "metadata": {
    "collapsed": true
   },
   "outputs": [],
   "source": [
    "t = time.time()\n",
    "sys.stderr.write('Convert nissl images to gray...')\n",
    "               \n",
    "script_fp = os.path.join(REPO_DIR, 'preprocess', 'convert_grayscale_neurotrace_v2.py')\n",
    "\n",
    "run_distributed(command='%(script_path)s %(stack)s \\'%%(filenames)s\\''%\\\n",
    "                    {'script_path': script_fp, 'stack': stack},\n",
    "#                     kwargs_list={'filenames': valid_filenames[first_idx_among_valid:last_idx_among_valid+1]},\n",
    "                    kwargs_list={'filenames':\n",
    "                                 [fn for fn in valid_filenames[first_idx_among_valid:last_idx_among_valid+1]\n",
    "                                  if fn.split('-')[1][0] == 'N']},\n",
    "                    argument_type='list2',\n",
    "                   cluster_size=16)\n",
    "\n",
    "wait_qsub_complete()\n",
    "\n",
    "sys.stderr.write('done in %f seconds\\n' % (time.time() - t)) # 1200 seconds."
   ]
  },
  {
   "cell_type": "code",
   "execution_count": 44,
   "metadata": {
    "collapsed": true
   },
   "outputs": [],
   "source": [
    "# Convert contrast-stretched Neurotrace images to grayscale\n",
    "\n",
    "# script_fp = os.path.join(REPO_DIR, 'preprocess', 'convert_grayscale_neurotrace.py')\n",
    "# in_dir = os.path.join(DATA_DIR, stack, stack + '_lossless_alignedTo_' + anchor_fn + '_cropped_contrast_stretched')\n",
    "# out_dir = os.path.join(DATA_DIR, stack, stack + '_lossless_alignedTo_' + anchor_fn + '_cropped_contrast_stretched_blueasgray')\n",
    "# ! mkdir -p {out_dir}"
   ]
  },
  {
   "cell_type": "code",
   "execution_count": 57,
   "metadata": {},
   "outputs": [
    {
     "name": "stderr",
     "output_type": "stream",
     "text": [
      "Convert neurotrace images to gray...16 nodes requested, 16 nodes available...Continuing\n",
      "Jobs submitted. Use wait_qsub_complete() to check if they finish.\n",
      "qsub returned.\n",
      "done in 75.575123 seconds\n"
     ]
    }
   ],
   "source": [
    "# t = time.time()\n",
    "# sys.stderr.write('Convert neurotrace images to gray...')\n",
    "               \n",
    "# run_distributed(command='%(script_path)s %%(in_fn)s %%(out_fn)s'%\\\n",
    "#                     {'script_path': script_fp},\n",
    "#                     kwargs_list=[{'in_fn': os.path.join(in_dir, fn + '_lossless_alignedTo_' + anchor_fn + '_cropped_contrast_stretched.tif'),\n",
    "#                                 'out_fn': os.path.join(out_dir, fn + '_lossless_alignedTo_' + anchor_fn + '_cropped_contrast_stretched_blueasgray.tif')}\n",
    "# #                                 for fn in valid_filenames[first_idx_among_valid:last_idx_among_valid+1]\n",
    "#                                  for fn in valid_filenames[150:151]\n",
    "#                                 if fn.split('-')[1][0] == 'F'],\n",
    "#                     argument_type='single',\n",
    "#                    cluster_size=16)\n",
    "\n",
    "# wait_qsub_complete()\n",
    "\n",
    "# sys.stderr.write('done in %f seconds\\n' % (time.time() - t)) # 2500 seconds"
   ]
  },
  {
   "cell_type": "markdown",
   "metadata": {},
   "source": [
    "# Step 2: Match intensity profile between Neurotrace Blue to Nissl"
   ]
  },
  {
   "cell_type": "code",
   "execution_count": 122,
   "metadata": {},
   "outputs": [
    {
     "name": "stdout",
     "output_type": "stream",
     "text": [
      "Match intensity profile between Neurotrace and Nissl... rm -f ~/stderr_*; rm -f ~/stdout_*\n"
     ]
    },
    {
     "name": "stderr",
     "output_type": "stream",
     "text": [
      "Child returned 0\n",
      "16 nodes available.\n",
      "Jobs submitted. Use wait_qsub_complete() to wait for all execution to finish.\n",
      "qsub returned.\n",
      "Child returned 0\n",
      "16 nodes available.\n"
     ]
    },
    {
     "name": "stdout",
     "output_type": "stream",
     "text": [
      "done in 2790.67252398 seconds\n",
      "Match intensity profile between Neurotrace and Nissl... rm -f ~/stderr_*; rm -f ~/stdout_*\n"
     ]
    },
    {
     "name": "stderr",
     "output_type": "stream",
     "text": [
      "Jobs submitted. Use wait_qsub_complete() to wait for all execution to finish.\n",
      "qsub returned.\n",
      "Child returned 0\n",
      "16 nodes available.\n"
     ]
    },
    {
     "name": "stdout",
     "output_type": "stream",
     "text": [
      "done in 2554.21281099 seconds\n",
      "Match intensity profile between Neurotrace and Nissl... rm -f ~/stderr_*; rm -f ~/stdout_*\n"
     ]
    },
    {
     "name": "stderr",
     "output_type": "stream",
     "text": [
      "Jobs submitted. Use wait_qsub_complete() to wait for all execution to finish.\n",
      "qsub returned.\n",
      "Child returned 0\n",
      "16 nodes available.\n"
     ]
    },
    {
     "name": "stdout",
     "output_type": "stream",
     "text": [
      "done in 2655.20303488 seconds\n",
      "Match intensity profile between Neurotrace and Nissl... rm -f ~/stderr_*; rm -f ~/stdout_*\n"
     ]
    },
    {
     "name": "stderr",
     "output_type": "stream",
     "text": [
      "Jobs submitted. Use wait_qsub_complete() to wait for all execution to finish.\n"
     ]
    },
    {
     "name": "stdout",
     "output_type": "stream",
     "text": [
      "done in 2363.96758008 seconds\n"
     ]
    },
    {
     "name": "stderr",
     "output_type": "stream",
     "text": [
      "qsub returned.\n"
     ]
    }
   ],
   "source": [
    "# for stack in all_alt_nissl_ntb_stacks + all_alt_nissl_tracing_stacks:\n",
    "for stack in ['MD653', 'MD652', 'MD642', 'MD658']:\n",
    "\n",
    "#     download_from_s3(DataManager.get_sorted_filenames_filename(stack=stack))\n",
    "#     _, sections_to_filenames = DataManager.load_sorted_filenames(stack=stack)\n",
    "#     valid_filenames = [fn for fn in sections_to_filenames.values() if not is_invalid(fn=fn)]\n",
    "#     download_from_s3(DataManager.get_anchor_filename_filename(stack=stack))\n",
    "#     anchor_fn = DataManager.load_anchor_filename(stack=stack)\n",
    "#     download_from_s3(DataManager.get_cropbox_filename(stack=stack))\n",
    "#     xmin, xmax, ymin, ymax, first_sec, last_sec = DataManager.load_cropbox(stack=stack)\n",
    "#     w = xmax + 1 - xmin\n",
    "#     h = ymax + 1 - ymin\n",
    "#     x = xmin\n",
    "#     y = ymin\n",
    "#     first_fn = sections_to_filenames[first_sec]\n",
    "#     last_fn = sections_to_filenames[last_sec]\n",
    "#     first_idx_among_valid = valid_filenames.index(first_fn)\n",
    "#     last_idx_among_valid = valid_filenames.index(last_fn)\n",
    "    \n",
    "    #########################################################\n",
    "    \n",
    "    t = time.time()\n",
    "    print 'Match intensity profile between Neurotrace and Nissl...',\n",
    "    \n",
    "    filename_pairs = []\n",
    "    l = metadata_cache['valid_filenames'][stack]\n",
    "    for i, fn in enumerate(l):\n",
    "        if l[i].split('-')[1][0] == 'F':\n",
    "            for d in range(1, 99):\n",
    "                if i+d < len(l) and l[i+d].split('-')[1][0] == 'N':\n",
    "                    filename_pairs.append((l[i+d], l[i]))\n",
    "                    break\n",
    "                if i-d >= 0 and l[i-d].split('-')[1][0] == 'N':\n",
    "                    filename_pairs.append((l[i-d], l[i]))\n",
    "                    break\n",
    "    \n",
    "    script = os.path.join(REPO_DIR, 'preprocess', 'match_intensity_profile_v2.py')\n",
    "    \n",
    "    run_distributed(command='%(script_path)s %(stack)s \\'%%(filename_pairs)s\\' 100' % \\\n",
    "                    {'script_path': script,\n",
    "                    'stack': stack},\n",
    "#                     kwargs_list=dict(filename_pairs=filename_pairs[37:38]),\n",
    "                    kwargs_list=dict(filename_pairs=filename_pairs),\n",
    "                    argument_type='list2'\n",
    "                   )\n",
    "\n",
    "    wait_qsub_complete()\n",
    "\n",
    "    print 'done in', time.time() - t, 'seconds'"
   ]
  },
  {
   "cell_type": "markdown",
   "metadata": {},
   "source": [
    "# Step 3: Convert Neurotrace images to grayscale (New, use nonlinear intensity mapping)"
   ]
  },
  {
   "cell_type": "code",
   "execution_count": 4,
   "metadata": {
    "collapsed": true
   },
   "outputs": [],
   "source": [
    "script_fp = os.path.join(REPO_DIR, 'preprocess', 'convert_grayscale_neurotrace_v2.py')"
   ]
  },
  {
   "cell_type": "code",
   "execution_count": 128,
   "metadata": {
    "collapsed": true
   },
   "outputs": [],
   "source": [
    "# for fn in valid_filenames[first_idx_among_valid:last_idx_among_valid+1]:\n",
    "#     download_from_s3(DataManager.get_image_filepath(stack=stack, version='cropped', resol='lossless', fn=fn))"
   ]
  },
  {
   "cell_type": "code",
   "execution_count": 129,
   "metadata": {
    "scrolled": false
   },
   "outputs": [
    {
     "name": "stdout",
     "output_type": "stream",
     "text": [
      "rm -f ~/stderr_*; rm -f ~/stdout_*\n"
     ]
    },
    {
     "name": "stderr",
     "output_type": "stream",
     "text": [
      "Convert neurotrace images to gray...Child returned 0\n",
      "16 nodes available.\n",
      "Jobs submitted. Use wait_qsub_complete() to wait for all execution to finish.\n",
      "qsub returned.\n",
      "done in 1865.522785 seconds\n"
     ]
    }
   ],
   "source": [
    "# for stack in all_alt_nissl_ntb_stacks + all_alt_nissl_tracing_stacks:\n",
    "for stack in ['MD635']:\n",
    "    \n",
    "    output_dir = create_if_not_exists(DataManager.get_image_dir(stack=stack, version='cropped_gray', resol='lossless'));\n",
    "    ! rm -r {output_dir}\n",
    "\n",
    "    t = time.time()\n",
    "    sys.stderr.write('Convert neurotrace images to gray...')\n",
    "\n",
    "    run_distributed(command='DATA_DIR=/scrtatch %(script_path)s %(stack)s \\'%%(filenames)s\\''%\\\n",
    "                        {'script_path': script_fp, \n",
    "                        'stack': stack},\n",
    "                        kwargs_list={'filenames': \n",
    "                                     [fn for fn in metadata_cache['valid_filenames'][stack]\n",
    "                                      if fn.split('-')[1][0] == 'F']\n",
    "    #                                  ['MD657-F29-2017.02.18-01.04.58_MD657_1_0085']\n",
    "                                    },\n",
    "                        argument_type='list2')\n",
    "\n",
    "    wait_qsub_complete()\n",
    "\n",
    "    sys.stderr.write('done in %f seconds\\n' % (time.time() - t)) # 1200 seconds."
   ]
  },
  {
   "cell_type": "code",
   "execution_count": 68,
   "metadata": {
    "collapsed": true
   },
   "outputs": [],
   "source": [
    "# upload_to_s3(DataManager.get_image_dir(stack=stack, version='cropped_gray', resol='lossless'), is_dir=True)"
   ]
  },
  {
   "cell_type": "markdown",
   "metadata": {},
   "source": [
    "# Step 2/3: Convert Neurotrace images to grayscale (linear intensity mapping)"
   ]
  },
  {
   "cell_type": "code",
   "execution_count": 31,
   "metadata": {
    "collapsed": true
   },
   "outputs": [],
   "source": [
    "stack = 'MD657'"
   ]
  },
  {
   "cell_type": "code",
   "execution_count": 32,
   "metadata": {
    "collapsed": true
   },
   "outputs": [],
   "source": [
    "# output_dir = create_if_not_exists(DataManager.get_image_dir(stack=stack, version='cropped_gray_linearNormalized', resol='lossless'));\n",
    "# ! rm -r {output_dir}"
   ]
  },
  {
   "cell_type": "code",
   "execution_count": 33,
   "metadata": {
    "collapsed": true
   },
   "outputs": [],
   "source": [
    "script_fp = os.path.join(REPO_DIR, 'preprocess', 'convert_grayscale_neurotrace_v2.py')"
   ]
  },
  {
   "cell_type": "code",
   "execution_count": 42,
   "metadata": {},
   "outputs": [
    {
     "name": "stderr",
     "output_type": "stream",
     "text": [
      "All nodes are ready.\n"
     ]
    }
   ],
   "source": [
    "request_compute_nodes(16, 'preprocesscluster')"
   ]
  },
  {
   "cell_type": "code",
   "execution_count": 49,
   "metadata": {},
   "outputs": [
    {
     "name": "stdout",
     "output_type": "stream",
     "text": [
      "rm -f ~/stderr_*; rm -f ~/stdout_*\n"
     ]
    },
    {
     "name": "stderr",
     "output_type": "stream",
     "text": [
      "Child returned 0\n",
      "17 nodes available.\n",
      "Jobs submitted. Use wait_qsub_complete() to wait for all execution to finish.\n",
      "qsub returned.\n"
     ]
    }
   ],
   "source": [
    "run_distributed('rm -rf /scratch/*', argument_type='single')\n",
    "wait_qsub_complete()"
   ]
  },
  {
   "cell_type": "code",
   "execution_count": 44,
   "metadata": {},
   "outputs": [
    {
     "name": "stderr",
     "output_type": "stream",
     "text": [
      "Convert neurotrace images to gray...Child returned 0\n",
      "16 nodes available.\n"
     ]
    },
    {
     "name": "stdout",
     "output_type": "stream",
     "text": [
      "rm -f ~/stderr_*; rm -f ~/stdout_*\n"
     ]
    },
    {
     "name": "stderr",
     "output_type": "stream",
     "text": [
      "Jobs submitted. Use wait_qsub_complete() to wait for all execution to finish.\n",
      "qsub returned.\n",
      "done in 865.923385 seconds\n"
     ]
    }
   ],
   "source": [
    "t = time.time()\n",
    "sys.stderr.write('Convert neurotrace images to gray...')\n",
    "\n",
    "# for low in range(500, 3000, 500):\n",
    "for low in [500]:\n",
    "\n",
    "    run_distributed(command='ROOT_DIR=/scratch %(script_path)s %(stack)s \\'%%(filenames)s\\' -l %(low)d -H 0 -o %(output_version)d'%\\\n",
    "                        {'script_path': script_fp, \n",
    "                        'stack': stack,\n",
    "                        'low': low,\n",
    "                        'output_version': 'cropped_gray_linearNormalized' + str(low)},\n",
    "                        kwargs_list={'filenames': [fn for fn in metadata_cache['valid_filenames'][stack]\n",
    "                                                   if fn.split('-')[1][0] == 'F']},\n",
    "    #                     kwargs_list={'filenames': ['MD657-F28-2017.02.18-00.45.02_MD657_2_0083']},\n",
    "                        argument_type='list2',\n",
    "                   node_list=get_node_list())\n",
    "\n",
    "    wait_qsub_complete()\n",
    "\n",
    "    sys.stderr.write('done in %f seconds\\n' % (time.time() - t)) \n",
    "    # /scratch, 133 jobs / 16 nodes: 850 seconds"
   ]
  },
  {
   "cell_type": "markdown",
   "metadata": {},
   "source": [
    "# Generate JPEG"
   ]
  },
  {
   "cell_type": "code",
   "execution_count": 18,
   "metadata": {},
   "outputs": [
    {
     "name": "stdout",
     "output_type": "stream",
     "text": [
      "rm -rf /shared/CSHL_data_processed/MD589/MD589_lossless_alignedTo_MD589-IHC31-2015.07.30-23.26.22_MD589_1_0091_cropped && mkdir -p /shared/CSHL_data_processed/MD589\n",
      "aws s3 cp --recursive s3://mousebrainatlas-data/CSHL_data_processed/MD589/MD589_lossless_alignedTo_MD589-IHC31-2015.07.30-23.26.22_MD589_1_0091_cropped /shared/CSHL_data_processed/MD589/MD589_lossless_alignedTo_MD589-IHC31-2015.07.30-23.26.22_MD589_1_0091_cropped\n"
     ]
    },
    {
     "name": "stderr",
     "output_type": "stream",
     "text": [
      "Child returned 0\n",
      "Child returned 0\n"
     ]
    }
   ],
   "source": [
    "transfer_data_synced(os.path.join('CSHL_data_processed', stack, stack + '_lossless_alignedTo_' + anchor_fn + '_cropped'),\n",
    "                    from_hostname='s3',\n",
    "                    to_hostname='ec2',\n",
    "                    is_dir=True)"
   ]
  },
  {
   "cell_type": "code",
   "execution_count": 29,
   "metadata": {
    "collapsed": true
   },
   "outputs": [],
   "source": [
    "script_fp = os.path.join(REPO_DIR, 'preprocess', 'generate_other_versions_v2.py')\n",
    "input_dir = os.path.join(DATA_DIR, stack, stack + '_lossless_alignedTo_' + anchor_fn + '_cropped')\n",
    "output_dir = os.path.join(DATA_DIR, stack, stack + '_lossless_alignedTo_' + anchor_fn + '_cropped_compressed')"
   ]
  },
  {
   "cell_type": "code",
   "execution_count": 30,
   "metadata": {},
   "outputs": [
    {
     "name": "stdout",
     "output_type": "stream",
     "text": [
      "rm: cannot remove '/shared/CSHL_data_processed/MD658/MD658_lossless_alignedTo_MD658-N58-2017.03.31-19.59.31_MD658_2_0173_cropped_compressed/*': No such file or directory\r\n"
     ]
    }
   ],
   "source": [
    "! rm -r {output_dir}/*"
   ]
  },
  {
   "cell_type": "code",
   "execution_count": null,
   "metadata": {},
   "outputs": [
    {
     "name": "stdout",
     "output_type": "stream",
     "text": [
      "Generating compressed image..."
     ]
    },
    {
     "name": "stderr",
     "output_type": "stream",
     "text": [
      "16 nodes requested, 18 nodes available...Continuing\n",
      "Jobs submitted. Use wait_qsub_complete() to check if they finish.\n"
     ]
    }
   ],
   "source": [
    "t = time.time()\n",
    "print 'Generating compressed image...',\n",
    "\n",
    "if stack in all_nissl_stacks:\n",
    "    \n",
    "    run_distributed('%(script)s %(stack)s %(input_dir)s \\'%%(input_filenames)s\\' --output_compressed_dir %(output_compressed_dir)s' % \\\n",
    "                dict(script=script_fp,\n",
    "                     stack=stack,\n",
    "                     input_dir=input_dir,\n",
    "                     output_compressed_dir=output_dir),\n",
    "                    kwargs_list={'input_filenames': \n",
    "                                 [fn + '_lossless_alignedTo_' + anchor_fn + '_cropped.tif' \n",
    "                                  for fn in valid_filenames[first_idx_among_valid:last_idx_among_valid+1]]},\n",
    "                    argument_type='list2',\n",
    "                    cluster_size=16,\n",
    "                   jobs_per_node=16)\n",
    "    \n",
    "else:\n",
    "    run_distributed('%(script)s %(stack)s %(input_dir)s \\'%%(input_filenames)s\\' --output_compressed_dir %(output_compressed_dir)s' % \\\n",
    "                    dict(script=script_fp,\n",
    "                         stack=stack,\n",
    "                         input_dir=input_dir,\n",
    "                         output_compressed_dir=output_dir),\n",
    "                        kwargs_list={'input_filenames': \n",
    "                                     [fn + '_lossless_alignedTo_' + anchor_fn + '_cropped.tif' \n",
    "                                      for fn in valid_filenames[first_idx_among_valid:last_idx_among_valid+1] \n",
    "                                      if fn.split('-')[1].startswith('N')]},\n",
    "                        argument_type='list2',\n",
    "                         cluster_size=16,\n",
    "                       jobs_per_node=16)\n",
    "\n",
    "wait_qsub_complete()\n",
    "    \n",
    "print 'done in', time.time() - t, 'seconds' # 765 seconds."
   ]
  },
  {
   "cell_type": "code",
   "execution_count": 33,
   "metadata": {},
   "outputs": [
    {
     "name": "stdout",
     "output_type": "stream",
     "text": [
      "aws s3 cp --recursive /shared/CSHL_data_processed/MD658/MD658_lossless_alignedTo_MD658-N58-2017.03.31-19.59.31_MD658_2_0173_cropped_compressed s3://mousebrainatlas-data/CSHL_data_processed/MD658/MD658_lossless_alignedTo_MD658-N58-2017.03.31-19.59.31_MD658_2_0173_cropped_compressed\n"
     ]
    },
    {
     "name": "stderr",
     "output_type": "stream",
     "text": [
      "Child returned 0\n",
      "36.94 seconds.\n"
     ]
    }
   ],
   "source": [
    "transfer_data_synced(os.path.join('CSHL_data_processed', stack, stack + '_lossless_alignedTo_' + anchor_fn + '_cropped_compressed'),\n",
    "                    from_hostname='ec2',\n",
    "                    to_hostname='s3',\n",
    "                    is_dir=True)"
   ]
  },
  {
   "cell_type": "markdown",
   "metadata": {},
   "source": [
    "# Generate JPEG for neurotrace (obsolete)"
   ]
  },
  {
   "cell_type": "code",
   "execution_count": 34,
   "metadata": {
    "collapsed": true
   },
   "outputs": [],
   "source": [
    "script_fp = os.path.join(REPO_DIR, 'preprocess', 'generate_other_versions_v2.py')\n",
    "input_dir = os.path.join(DATA_DIR, stack, stack + '_lossless_alignedTo_' + anchor_fn + '_cropped_contrast_stretched')\n",
    "out_jpeg_dir = os.path.join(DATA_DIR, stack, stack + '_lossless_alignedTo_' + anchor_fn + '_cropped_compressed')"
   ]
  },
  {
   "cell_type": "code",
   "execution_count": null,
   "metadata": {},
   "outputs": [
    {
     "name": "stdout",
     "output_type": "stream",
     "text": [
      "Generating compressed image..."
     ]
    },
    {
     "name": "stderr",
     "output_type": "stream",
     "text": [
      "16 nodes requested, 18 nodes available...Continuing\n",
      "Jobs submitted. Use wait_qsub_complete() to check if they finish.\n"
     ]
    }
   ],
   "source": [
    "t = time.time()\n",
    "print 'Generating compressed image...',\n",
    "\n",
    "run_distributed('%(script)s %(stack)s %(input_dir)s \\'%%(input_filenames)s\\' --output_compressed_dir %(output_compressed_dir)s' % \\\n",
    "                dict(script=script_fp,\n",
    "                     stack=stack,\n",
    "                     input_dir=input_dir,\n",
    "                     output_compressed_dir=out_jpeg_dir),\n",
    "                    kwargs_list={'input_filenames': \n",
    "                                 [fn + '_lossless_alignedTo_' + anchor_fn + '_cropped_contrast_stretched.tif' \n",
    "                                  for fn in valid_filenames[first_idx_among_valid:last_idx_among_valid+1] \n",
    "                                  if fn.split('-')[1].startswith('F')]},\n",
    "                    argument_type='list2',\n",
    "                    cluster_size=16)\n",
    "\n",
    "wait_qsub_complete()\n",
    "\n",
    "print 'done in', time.time() - t, 'seconds'"
   ]
  },
  {
   "cell_type": "code",
   "execution_count": 36,
   "metadata": {},
   "outputs": [
    {
     "name": "stdout",
     "output_type": "stream",
     "text": [
      " aws s3 cp --recursive /shared/CSHL_data_processed/MD658/MD658_lossless_alignedTo_MD658-N58-2017.03.31-19.59.31_MD658_2_0173_cropped_compressed s3://mousebrainatlas-data/CSHL_data_processed/MD658/MD658_lossless_alignedTo_MD658-N58-2017.03.31-19.59.31_MD658_2_0173_cropped_compressed --exclude \"*\" --include \"*contrast_stretched*.jpg\"\n"
     ]
    },
    {
     "name": "stderr",
     "output_type": "stream",
     "text": [
      "Child returned 0\n",
      "31.04 seconds.\n"
     ]
    }
   ],
   "source": [
    "transfer_data_synced(os.path.join('CSHL_data_processed', stack, stack + '_lossless_alignedTo_' + anchor_fn + '_cropped_compressed'),\n",
    "                    from_hostname='ec2',\n",
    "                    to_hostname='s3',\n",
    "                    is_dir=True,\n",
    "                    include_only='*contrast_stretched*.jpg')"
   ]
  },
  {
   "cell_type": "code",
   "execution_count": null,
   "metadata": {
    "collapsed": true
   },
   "outputs": [],
   "source": [
    "# t = time.time()\n",
    "# print 'Generating saturation image...',\n",
    "\n",
    "# run_distributed4('%(script)s %(stack)s %(input_dir)s \\'%%(input_filenames)s\\' --output_saturation_dir %(output_saturation_dir)s' % \\\n",
    "#                 dict(script=script_fp,\n",
    "#                      stack=stack,\n",
    "#                      input_dir=input_dir,\n",
    "#                      output_saturation_dir=out_sat_dir,\n",
    "#                      kwargs_list={'input_filenames': [fn + '_lossless_alignedTo_' + anchor_fn + '_cropped.tif' for fn in filenames[first_idx:last_idx+1]]},\n",
    "#                     exclude_nodes=exclude_nodes,\n",
    "#                     argument_type='list2')\n",
    "\n",
    "# print 'done in', time.time() - t, 'seconds'"
   ]
  },
  {
   "cell_type": "markdown",
   "metadata": {},
   "source": [
    "# Compress nissl gray and normalized fluorescent gray images"
   ]
  },
  {
   "cell_type": "code",
   "execution_count": 135,
   "metadata": {
    "scrolled": true
   },
   "outputs": [
    {
     "name": "stdout",
     "output_type": "stream",
     "text": [
      "Generating compressed images... rm -f ~/stderr_*; rm -f ~/stdout_*\n"
     ]
    },
    {
     "name": "stderr",
     "output_type": "stream",
     "text": [
      "Child returned 0\n",
      "16 nodes available.\n",
      "Jobs submitted. Use wait_qsub_complete() to wait for all execution to finish.\n",
      "No special rule for (cropped_gray_linearNormalized, lossless). So using the default image filepath composition rule.\n",
      "No special rule for (cropped_gray_linearNormalized_jpeg, lossless). So using the default image filepath composition rule.\n",
      "No special rule for (cropped_gray_linearNormalized, lossless). So using the default image filepath composition rule.\n",
      "No special rule for (cropped_gray_linearNormalized_jpeg, lossless). So using the default image filepath composition rule.\n",
      "No special rule for (cropped_gray_linearNormalized, lossless). So using the default image filepath composition rule.\n",
      "No special rule for (cropped_gray_linearNormalized_jpeg, lossless). So using the default image filepath composition rule.\n",
      "No special rule for (cropped_gray_linearNormalized, lossless). So using the default image filepath composition rule.\n",
      "No special rule for (cropped_gray_linearNormalized_jpeg, lossless). So using the default image filepath composition rule.\n",
      "No special rule for (cropped_gray_linearNormalized, lossless). So using the default image filepath composition rule.\n",
      "No special rule for (cropped_gray_linearNormalized_jpeg, lossless). So using the default image filepath composition rule.\n",
      "No special rule for (cropped_gray_linearNormalized, lossless). So using the default image filepath composition rule.\n",
      "No special rule for (cropped_gray_linearNormalized_jpeg, lossless). So using the default image filepath composition rule.\n",
      "No special rule for (cropped_gray_linearNormalized, lossless). So using the default image filepath composition rule.\n",
      "No special rule for (cropped_gray_linearNormalized_jpeg, lossless). So using the default image filepath composition rule.\n",
      "No special rule for (cropped_gray_linearNormalized, lossless). So using the default image filepath composition rule.\n",
      "No special rule for (cropped_gray_linearNormalized_jpeg, lossless). So using the default image filepath composition rule.\n",
      "No special rule for (cropped_gray_linearNormalized, lossless). So using the default image filepath composition rule.\n",
      "No special rule for (cropped_gray_linearNormalized_jpeg, lossless). So using the default image filepath composition rule.\n",
      "No special rule for (cropped_gray_linearNormalized, lossless). So using the default image filepath composition rule.\n",
      "No special rule for (cropped_gray_linearNormalized_jpeg, lossless). So using the default image filepath composition rule.\n",
      "No special rule for (cropped_gray_linearNormalized, lossless). So using the default image filepath composition rule.\n",
      "No special rule for (cropped_gray_linearNormalized_jpeg, lossless). So using the default image filepath composition rule.\n",
      "No special rule for (cropped_gray_linearNormalized, lossless). So using the default image filepath composition rule.\n",
      "No special rule for (cropped_gray_linearNormalized_jpeg, lossless). So using the default image filepath composition rule.\n",
      "No special rule for (cropped_gray_linearNormalized, lossless). So using the default image filepath composition rule.\n",
      "No special rule for (cropped_gray_linearNormalized_jpeg, lossless). So using the default image filepath composition rule.\n",
      "No special rule for (cropped_gray_linearNormalized, lossless). So using the default image filepath composition rule.\n",
      "No special rule for (cropped_gray_linearNormalized_jpeg, lossless). So using the default image filepath composition rule.\n",
      "No special rule for (cropped_gray_linearNormalized, lossless). So using the default image filepath composition rule.\n",
      "No special rule for (cropped_gray_linearNormalized_jpeg, lossless). So using the default image filepath composition rule.\n",
      "No special rule for (cropped_gray_linearNormalized, lossless). So using the default image filepath composition rule.\n",
      "No special rule for (cropped_gray_linearNormalized_jpeg, lossless). So using the default image filepath composition rule.\n",
      "No special rule for (cropped_gray_linearNormalized, lossless). So using the default image filepath composition rule.\n",
      "No special rule for (cropped_gray_linearNormalized_jpeg, lossless). So using the default image filepath composition rule.\n",
      "No special rule for (cropped_gray_linearNormalized, lossless). So using the default image filepath composition rule.\n",
      "No special rule for (cropped_gray_linearNormalized_jpeg, lossless). So using the default image filepath composition rule.\n",
      "No special rule for (cropped_gray_linearNormalized, lossless). So using the default image filepath composition rule.\n",
      "No special rule for (cropped_gray_linearNormalized_jpeg, lossless). So using the default image filepath composition rule.\n",
      "No special rule for (cropped_gray_linearNormalized, lossless). So using the default image filepath composition rule.\n",
      "No special rule for (cropped_gray_linearNormalized_jpeg, lossless). So using the default image filepath composition rule.\n",
      "No special rule for (cropped_gray_linearNormalized, lossless). So using the default image filepath composition rule.\n",
      "No special rule for (cropped_gray_linearNormalized_jpeg, lossless). So using the default image filepath composition rule.\n",
      "No special rule for (cropped_gray_linearNormalized, lossless). So using the default image filepath composition rule.\n",
      "No special rule for (cropped_gray_linearNormalized_jpeg, lossless). So using the default image filepath composition rule.\n",
      "No special rule for (cropped_gray_linearNormalized, lossless). So using the default image filepath composition rule.\n",
      "No special rule for (cropped_gray_linearNormalized_jpeg, lossless). So using the default image filepath composition rule.\n",
      "No special rule for (cropped_gray_linearNormalized, lossless). So using the default image filepath composition rule.\n",
      "No special rule for (cropped_gray_linearNormalized_jpeg, lossless). So using the default image filepath composition rule.\n",
      "No special rule for (cropped_gray_linearNormalized, lossless). So using the default image filepath composition rule.\n",
      "No special rule for (cropped_gray_linearNormalized_jpeg, lossless). So using the default image filepath composition rule.\n",
      "No special rule for (cropped_gray_linearNormalized, lossless). So using the default image filepath composition rule.\n",
      "No special rule for (cropped_gray_linearNormalized_jpeg, lossless). So using the default image filepath composition rule.\n",
      "No special rule for (cropped_gray_linearNormalized, lossless). So using the default image filepath composition rule.\n",
      "No special rule for (cropped_gray_linearNormalized_jpeg, lossless). So using the default image filepath composition rule.\n",
      "No special rule for (cropped_gray_linearNormalized, lossless). So using the default image filepath composition rule.\n",
      "No special rule for (cropped_gray_linearNormalized_jpeg, lossless). So using the default image filepath composition rule.\n",
      "No special rule for (cropped_gray_linearNormalized, lossless). So using the default image filepath composition rule.\n",
      "No special rule for (cropped_gray_linearNormalized_jpeg, lossless). So using the default image filepath composition rule.\n",
      "No special rule for (cropped_gray_linearNormalized, lossless). So using the default image filepath composition rule.\n",
      "No special rule for (cropped_gray_linearNormalized_jpeg, lossless). So using the default image filepath composition rule.\n",
      "No special rule for (cropped_gray_linearNormalized, lossless). So using the default image filepath composition rule.\n",
      "No special rule for (cropped_gray_linearNormalized_jpeg, lossless). So using the default image filepath composition rule.\n",
      "No special rule for (cropped_gray_linearNormalized, lossless). So using the default image filepath composition rule.\n",
      "No special rule for (cropped_gray_linearNormalized_jpeg, lossless). So using the default image filepath composition rule.\n",
      "No special rule for (cropped_gray_linearNormalized, lossless). So using the default image filepath composition rule.\n",
      "No special rule for (cropped_gray_linearNormalized_jpeg, lossless). So using the default image filepath composition rule.\n",
      "No special rule for (cropped_gray_linearNormalized, lossless). So using the default image filepath composition rule.\n",
      "No special rule for (cropped_gray_linearNormalized_jpeg, lossless). So using the default image filepath composition rule.\n",
      "No special rule for (cropped_gray_linearNormalized, lossless). So using the default image filepath composition rule.\n",
      "No special rule for (cropped_gray_linearNormalized_jpeg, lossless). So using the default image filepath composition rule.\n",
      "No special rule for (cropped_gray_linearNormalized, lossless). So using the default image filepath composition rule.\n",
      "No special rule for (cropped_gray_linearNormalized_jpeg, lossless). So using the default image filepath composition rule.\n",
      "No special rule for (cropped_gray_linearNormalized, lossless). So using the default image filepath composition rule.\n",
      "No special rule for (cropped_gray_linearNormalized_jpeg, lossless). So using the default image filepath composition rule.\n",
      "No special rule for (cropped_gray_linearNormalized, lossless). So using the default image filepath composition rule.\n",
      "No special rule for (cropped_gray_linearNormalized_jpeg, lossless). So using the default image filepath composition rule.\n",
      "No special rule for (cropped_gray_linearNormalized, lossless). So using the default image filepath composition rule.\n",
      "No special rule for (cropped_gray_linearNormalized_jpeg, lossless). So using the default image filepath composition rule.\n",
      "No special rule for (cropped_gray_linearNormalized, lossless). So using the default image filepath composition rule.\n",
      "No special rule for (cropped_gray_linearNormalized_jpeg, lossless). So using the default image filepath composition rule.\n",
      "No special rule for (cropped_gray_linearNormalized, lossless). So using the default image filepath composition rule.\n",
      "No special rule for (cropped_gray_linearNormalized_jpeg, lossless). So using the default image filepath composition rule.\n",
      "No special rule for (cropped_gray_linearNormalized, lossless). So using the default image filepath composition rule.\n",
      "No special rule for (cropped_gray_linearNormalized_jpeg, lossless). So using the default image filepath composition rule.\n",
      "No special rule for (cropped_gray_linearNormalized, lossless). So using the default image filepath composition rule.\n",
      "No special rule for (cropped_gray_linearNormalized_jpeg, lossless). So using the default image filepath composition rule.\n",
      "No special rule for (cropped_gray_linearNormalized, lossless). So using the default image filepath composition rule.\n",
      "No special rule for (cropped_gray_linearNormalized_jpeg, lossless). So using the default image filepath composition rule.\n",
      "No special rule for (cropped_gray_linearNormalized, lossless). So using the default image filepath composition rule.\n",
      "No special rule for (cropped_gray_linearNormalized_jpeg, lossless). So using the default image filepath composition rule.\n",
      "No special rule for (cropped_gray_linearNormalized, lossless). So using the default image filepath composition rule.\n",
      "No special rule for (cropped_gray_linearNormalized_jpeg, lossless). So using the default image filepath composition rule.\n",
      "No special rule for (cropped_gray_linearNormalized, lossless). So using the default image filepath composition rule.\n",
      "No special rule for (cropped_gray_linearNormalized_jpeg, lossless). So using the default image filepath composition rule.\n",
      "No special rule for (cropped_gray_linearNormalized, lossless). So using the default image filepath composition rule.\n",
      "No special rule for (cropped_gray_linearNormalized_jpeg, lossless). So using the default image filepath composition rule.\n",
      "No special rule for (cropped_gray_linearNormalized, lossless). So using the default image filepath composition rule.\n",
      "No special rule for (cropped_gray_linearNormalized_jpeg, lossless). So using the default image filepath composition rule.\n",
      "No special rule for (cropped_gray_linearNormalized, lossless). So using the default image filepath composition rule.\n",
      "No special rule for (cropped_gray_linearNormalized_jpeg, lossless). So using the default image filepath composition rule.\n",
      "No special rule for (cropped_gray_linearNormalized, lossless). So using the default image filepath composition rule.\n",
      "No special rule for (cropped_gray_linearNormalized_jpeg, lossless). So using the default image filepath composition rule.\n",
      "No special rule for (cropped_gray_linearNormalized, lossless). So using the default image filepath composition rule.\n",
      "No special rule for (cropped_gray_linearNormalized_jpeg, lossless). So using the default image filepath composition rule.\n",
      "No special rule for (cropped_gray_linearNormalized, lossless). So using the default image filepath composition rule.\n",
      "No special rule for (cropped_gray_linearNormalized_jpeg, lossless). So using the default image filepath composition rule.\n",
      "No special rule for (cropped_gray_linearNormalized, lossless). So using the default image filepath composition rule.\n",
      "No special rule for (cropped_gray_linearNormalized_jpeg, lossless). So using the default image filepath composition rule.\n",
      "No special rule for (cropped_gray_linearNormalized, lossless). So using the default image filepath composition rule.\n",
      "No special rule for (cropped_gray_linearNormalized_jpeg, lossless). So using the default image filepath composition rule.\n",
      "No special rule for (cropped_gray_linearNormalized, lossless). So using the default image filepath composition rule.\n",
      "No special rule for (cropped_gray_linearNormalized_jpeg, lossless). So using the default image filepath composition rule.\n",
      "No special rule for (cropped_gray_linearNormalized, lossless). So using the default image filepath composition rule.\n",
      "No special rule for (cropped_gray_linearNormalized_jpeg, lossless). So using the default image filepath composition rule.\n",
      "No special rule for (cropped_gray_linearNormalized, lossless). So using the default image filepath composition rule.\n",
      "No special rule for (cropped_gray_linearNormalized_jpeg, lossless). So using the default image filepath composition rule.\n",
      "No special rule for (cropped_gray_linearNormalized, lossless). So using the default image filepath composition rule.\n",
      "No special rule for (cropped_gray_linearNormalized_jpeg, lossless). So using the default image filepath composition rule.\n",
      "No special rule for (cropped_gray_linearNormalized, lossless). So using the default image filepath composition rule.\n",
      "No special rule for (cropped_gray_linearNormalized_jpeg, lossless). So using the default image filepath composition rule.\n",
      "No special rule for (cropped_gray_linearNormalized, lossless). So using the default image filepath composition rule.\n",
      "No special rule for (cropped_gray_linearNormalized_jpeg, lossless). So using the default image filepath composition rule.\n",
      "No special rule for (cropped_gray_linearNormalized, lossless). So using the default image filepath composition rule.\n",
      "No special rule for (cropped_gray_linearNormalized_jpeg, lossless). So using the default image filepath composition rule.\n",
      "No special rule for (cropped_gray_linearNormalized, lossless). So using the default image filepath composition rule.\n",
      "No special rule for (cropped_gray_linearNormalized_jpeg, lossless). So using the default image filepath composition rule.\n",
      "No special rule for (cropped_gray_linearNormalized, lossless). So using the default image filepath composition rule.\n",
      "No special rule for (cropped_gray_linearNormalized_jpeg, lossless). So using the default image filepath composition rule.\n",
      "No special rule for (cropped_gray_linearNormalized, lossless). So using the default image filepath composition rule.\n",
      "No special rule for (cropped_gray_linearNormalized_jpeg, lossless). So using the default image filepath composition rule.\n",
      "No special rule for (cropped_gray_linearNormalized, lossless). So using the default image filepath composition rule.\n",
      "No special rule for (cropped_gray_linearNormalized_jpeg, lossless). So using the default image filepath composition rule.\n",
      "No special rule for (cropped_gray_linearNormalized, lossless). So using the default image filepath composition rule.\n",
      "No special rule for (cropped_gray_linearNormalized_jpeg, lossless). So using the default image filepath composition rule.\n",
      "No special rule for (cropped_gray_linearNormalized, lossless). So using the default image filepath composition rule.\n",
      "No special rule for (cropped_gray_linearNormalized_jpeg, lossless). So using the default image filepath composition rule.\n",
      "No special rule for (cropped_gray_linearNormalized, lossless). So using the default image filepath composition rule.\n",
      "No special rule for (cropped_gray_linearNormalized_jpeg, lossless). So using the default image filepath composition rule.\n",
      "No special rule for (cropped_gray_linearNormalized, lossless). So using the default image filepath composition rule.\n",
      "No special rule for (cropped_gray_linearNormalized_jpeg, lossless). So using the default image filepath composition rule.\n",
      "No special rule for (cropped_gray_linearNormalized, lossless). So using the default image filepath composition rule.\n",
      "No special rule for (cropped_gray_linearNormalized_jpeg, lossless). So using the default image filepath composition rule.\n",
      "No special rule for (cropped_gray_linearNormalized, lossless). So using the default image filepath composition rule.\n",
      "No special rule for (cropped_gray_linearNormalized_jpeg, lossless). So using the default image filepath composition rule.\n",
      "No special rule for (cropped_gray_linearNormalized, lossless). So using the default image filepath composition rule.\n",
      "No special rule for (cropped_gray_linearNormalized_jpeg, lossless). So using the default image filepath composition rule.\n",
      "No special rule for (cropped_gray_linearNormalized, lossless). So using the default image filepath composition rule.\n",
      "No special rule for (cropped_gray_linearNormalized_jpeg, lossless). So using the default image filepath composition rule.\n",
      "No special rule for (cropped_gray_linearNormalized, lossless). So using the default image filepath composition rule.\n",
      "No special rule for (cropped_gray_linearNormalized_jpeg, lossless). So using the default image filepath composition rule.\n",
      "No special rule for (cropped_gray_linearNormalized, lossless). So using the default image filepath composition rule.\n",
      "No special rule for (cropped_gray_linearNormalized_jpeg, lossless). So using the default image filepath composition rule.\n",
      "No special rule for (cropped_gray_linearNormalized, lossless). So using the default image filepath composition rule.\n",
      "No special rule for (cropped_gray_linearNormalized_jpeg, lossless). So using the default image filepath composition rule.\n",
      "No special rule for (cropped_gray_linearNormalized, lossless). So using the default image filepath composition rule.\n",
      "No special rule for (cropped_gray_linearNormalized_jpeg, lossless). So using the default image filepath composition rule.\n",
      "No special rule for (cropped_gray_linearNormalized, lossless). So using the default image filepath composition rule.\n",
      "No special rule for (cropped_gray_linearNormalized_jpeg, lossless). So using the default image filepath composition rule.\n",
      "No special rule for (cropped_gray_linearNormalized, lossless). So using the default image filepath composition rule.\n",
      "No special rule for (cropped_gray_linearNormalized_jpeg, lossless). So using the default image filepath composition rule.\n",
      "No special rule for (cropped_gray_linearNormalized, lossless). So using the default image filepath composition rule.\n",
      "No special rule for (cropped_gray_linearNormalized_jpeg, lossless). So using the default image filepath composition rule.\n",
      "No special rule for (cropped_gray_linearNormalized, lossless). So using the default image filepath composition rule.\n",
      "No special rule for (cropped_gray_linearNormalized_jpeg, lossless). So using the default image filepath composition rule.\n",
      "No special rule for (cropped_gray_linearNormalized, lossless). So using the default image filepath composition rule.\n",
      "No special rule for (cropped_gray_linearNormalized_jpeg, lossless). So using the default image filepath composition rule.\n",
      "No special rule for (cropped_gray_linearNormalized, lossless). So using the default image filepath composition rule.\n",
      "No special rule for (cropped_gray_linearNormalized_jpeg, lossless). So using the default image filepath composition rule.\n",
      "No special rule for (cropped_gray_linearNormalized, lossless). So using the default image filepath composition rule.\n",
      "No special rule for (cropped_gray_linearNormalized_jpeg, lossless). So using the default image filepath composition rule.\n",
      "No special rule for (cropped_gray_linearNormalized, lossless). So using the default image filepath composition rule.\n",
      "No special rule for (cropped_gray_linearNormalized_jpeg, lossless). So using the default image filepath composition rule.\n",
      "No special rule for (cropped_gray_linearNormalized, lossless). So using the default image filepath composition rule.\n",
      "No special rule for (cropped_gray_linearNormalized_jpeg, lossless). So using the default image filepath composition rule.\n",
      "No special rule for (cropped_gray_linearNormalized, lossless). So using the default image filepath composition rule.\n",
      "No special rule for (cropped_gray_linearNormalized_jpeg, lossless). So using the default image filepath composition rule.\n",
      "No special rule for (cropped_gray_linearNormalized, lossless). So using the default image filepath composition rule.\n",
      "No special rule for (cropped_gray_linearNormalized_jpeg, lossless). So using the default image filepath composition rule.\n",
      "No special rule for (cropped_gray_linearNormalized, lossless). So using the default image filepath composition rule.\n",
      "No special rule for (cropped_gray_linearNormalized_jpeg, lossless). So using the default image filepath composition rule.\n",
      "No special rule for (cropped_gray_linearNormalized, lossless). So using the default image filepath composition rule.\n",
      "No special rule for (cropped_gray_linearNormalized_jpeg, lossless). So using the default image filepath composition rule.\n",
      "No special rule for (cropped_gray_linearNormalized, lossless). So using the default image filepath composition rule.\n",
      "No special rule for (cropped_gray_linearNormalized_jpeg, lossless). So using the default image filepath composition rule.\n",
      "No special rule for (cropped_gray_linearNormalized, lossless). So using the default image filepath composition rule.\n",
      "No special rule for (cropped_gray_linearNormalized_jpeg, lossless). So using the default image filepath composition rule.\n",
      "No special rule for (cropped_gray_linearNormalized, lossless). So using the default image filepath composition rule.\n",
      "No special rule for (cropped_gray_linearNormalized_jpeg, lossless). So using the default image filepath composition rule.\n",
      "No special rule for (cropped_gray_linearNormalized, lossless). So using the default image filepath composition rule.\n",
      "No special rule for (cropped_gray_linearNormalized_jpeg, lossless). So using the default image filepath composition rule.\n",
      "No special rule for (cropped_gray_linearNormalized, lossless). So using the default image filepath composition rule.\n",
      "No special rule for (cropped_gray_linearNormalized_jpeg, lossless). So using the default image filepath composition rule.\n",
      "No special rule for (cropped_gray_linearNormalized, lossless). So using the default image filepath composition rule.\n",
      "No special rule for (cropped_gray_linearNormalized_jpeg, lossless). So using the default image filepath composition rule.\n",
      "No special rule for (cropped_gray_linearNormalized, lossless). So using the default image filepath composition rule.\n",
      "No special rule for (cropped_gray_linearNormalized_jpeg, lossless). So using the default image filepath composition rule.\n",
      "No special rule for (cropped_gray_linearNormalized, lossless). So using the default image filepath composition rule.\n",
      "No special rule for (cropped_gray_linearNormalized_jpeg, lossless). So using the default image filepath composition rule.\n",
      "No special rule for (cropped_gray_linearNormalized, lossless). So using the default image filepath composition rule.\n",
      "No special rule for (cropped_gray_linearNormalized_jpeg, lossless). So using the default image filepath composition rule.\n",
      "No special rule for (cropped_gray_linearNormalized, lossless). So using the default image filepath composition rule.\n",
      "No special rule for (cropped_gray_linearNormalized_jpeg, lossless). So using the default image filepath composition rule.\n",
      "No special rule for (cropped_gray_linearNormalized, lossless). So using the default image filepath composition rule.\n",
      "No special rule for (cropped_gray_linearNormalized_jpeg, lossless). So using the default image filepath composition rule.\n",
      "No special rule for (cropped_gray_linearNormalized, lossless). So using the default image filepath composition rule.\n",
      "No special rule for (cropped_gray_linearNormalized_jpeg, lossless). So using the default image filepath composition rule.\n",
      "No special rule for (cropped_gray_linearNormalized, lossless). So using the default image filepath composition rule.\n",
      "No special rule for (cropped_gray_linearNormalized_jpeg, lossless). So using the default image filepath composition rule.\n",
      "No special rule for (cropped_gray_linearNormalized, lossless). So using the default image filepath composition rule.\n",
      "No special rule for (cropped_gray_linearNormalized_jpeg, lossless). So using the default image filepath composition rule.\n",
      "No special rule for (cropped_gray_linearNormalized, lossless). So using the default image filepath composition rule.\n",
      "No special rule for (cropped_gray_linearNormalized_jpeg, lossless). So using the default image filepath composition rule.\n",
      "No special rule for (cropped_gray_linearNormalized, lossless). So using the default image filepath composition rule.\n",
      "No special rule for (cropped_gray_linearNormalized_jpeg, lossless). So using the default image filepath composition rule.\n",
      "No special rule for (cropped_gray_linearNormalized, lossless). So using the default image filepath composition rule.\n",
      "No special rule for (cropped_gray_linearNormalized_jpeg, lossless). So using the default image filepath composition rule.\n",
      "No special rule for (cropped_gray_linearNormalized, lossless). So using the default image filepath composition rule.\n",
      "No special rule for (cropped_gray_linearNormalized_jpeg, lossless). So using the default image filepath composition rule.\n",
      "No special rule for (cropped_gray_linearNormalized, lossless). So using the default image filepath composition rule.\n",
      "No special rule for (cropped_gray_linearNormalized_jpeg, lossless). So using the default image filepath composition rule.\n",
      "No special rule for (cropped_gray_linearNormalized, lossless). So using the default image filepath composition rule.\n",
      "No special rule for (cropped_gray_linearNormalized_jpeg, lossless). So using the default image filepath composition rule.\n",
      "No special rule for (cropped_gray_linearNormalized, lossless). So using the default image filepath composition rule.\n",
      "No special rule for (cropped_gray_linearNormalized_jpeg, lossless). So using the default image filepath composition rule.\n",
      "No special rule for (cropped_gray_linearNormalized, lossless). So using the default image filepath composition rule.\n",
      "No special rule for (cropped_gray_linearNormalized_jpeg, lossless). So using the default image filepath composition rule.\n",
      "No special rule for (cropped_gray_linearNormalized, lossless). So using the default image filepath composition rule.\n",
      "No special rule for (cropped_gray_linearNormalized_jpeg, lossless). So using the default image filepath composition rule.\n",
      "No special rule for (cropped_gray_linearNormalized, lossless). So using the default image filepath composition rule.\n",
      "No special rule for (cropped_gray_linearNormalized_jpeg, lossless). So using the default image filepath composition rule.\n",
      "No special rule for (cropped_gray_linearNormalized, lossless). So using the default image filepath composition rule.\n",
      "No special rule for (cropped_gray_linearNormalized_jpeg, lossless). So using the default image filepath composition rule.\n",
      "No special rule for (cropped_gray_linearNormalized, lossless). So using the default image filepath composition rule.\n",
      "No special rule for (cropped_gray_linearNormalized_jpeg, lossless). So using the default image filepath composition rule.\n",
      "No special rule for (cropped_gray_linearNormalized, lossless). So using the default image filepath composition rule.\n",
      "No special rule for (cropped_gray_linearNormalized_jpeg, lossless). So using the default image filepath composition rule.\n",
      "No special rule for (cropped_gray_linearNormalized, lossless). So using the default image filepath composition rule.\n",
      "No special rule for (cropped_gray_linearNormalized_jpeg, lossless). So using the default image filepath composition rule.\n",
      "No special rule for (cropped_gray_linearNormalized, lossless). So using the default image filepath composition rule.\n",
      "No special rule for (cropped_gray_linearNormalized_jpeg, lossless). So using the default image filepath composition rule.\n",
      "No special rule for (cropped_gray_linearNormalized, lossless). So using the default image filepath composition rule.\n",
      "No special rule for (cropped_gray_linearNormalized_jpeg, lossless). So using the default image filepath composition rule.\n",
      "No special rule for (cropped_gray_linearNormalized, lossless). So using the default image filepath composition rule.\n",
      "No special rule for (cropped_gray_linearNormalized_jpeg, lossless). So using the default image filepath composition rule.\n",
      "No special rule for (cropped_gray_linearNormalized, lossless). So using the default image filepath composition rule.\n",
      "No special rule for (cropped_gray_linearNormalized_jpeg, lossless). So using the default image filepath composition rule.\n",
      "No special rule for (cropped_gray_linearNormalized, lossless). So using the default image filepath composition rule.\n",
      "No special rule for (cropped_gray_linearNormalized_jpeg, lossless). So using the default image filepath composition rule.\n",
      "No special rule for (cropped_gray_linearNormalized, lossless). So using the default image filepath composition rule.\n",
      "No special rule for (cropped_gray_linearNormalized_jpeg, lossless). So using the default image filepath composition rule.\n",
      "No special rule for (cropped_gray_linearNormalized, lossless). So using the default image filepath composition rule.\n",
      "No special rule for (cropped_gray_linearNormalized_jpeg, lossless). So using the default image filepath composition rule.\n",
      "No special rule for (cropped_gray_linearNormalized, lossless). So using the default image filepath composition rule.\n",
      "No special rule for (cropped_gray_linearNormalized_jpeg, lossless). So using the default image filepath composition rule.\n",
      "No special rule for (cropped_gray_linearNormalized, lossless). So using the default image filepath composition rule.\n",
      "No special rule for (cropped_gray_linearNormalized_jpeg, lossless). So using the default image filepath composition rule.\n",
      "No special rule for (cropped_gray_linearNormalized, lossless). So using the default image filepath composition rule.\n",
      "No special rule for (cropped_gray_linearNormalized_jpeg, lossless). So using the default image filepath composition rule.\n",
      "No special rule for (cropped_gray_linearNormalized, lossless). So using the default image filepath composition rule.\n",
      "No special rule for (cropped_gray_linearNormalized_jpeg, lossless). So using the default image filepath composition rule.\n",
      "No special rule for (cropped_gray_linearNormalized, lossless). So using the default image filepath composition rule.\n",
      "No special rule for (cropped_gray_linearNormalized_jpeg, lossless). So using the default image filepath composition rule.\n",
      "No special rule for (cropped_gray_linearNormalized, lossless). So using the default image filepath composition rule.\n",
      "No special rule for (cropped_gray_linearNormalized_jpeg, lossless). So using the default image filepath composition rule.\n",
      "No special rule for (cropped_gray_linearNormalized, lossless). So using the default image filepath composition rule.\n",
      "No special rule for (cropped_gray_linearNormalized_jpeg, lossless). So using the default image filepath composition rule.\n",
      "No special rule for (cropped_gray_linearNormalized, lossless). So using the default image filepath composition rule.\n",
      "No special rule for (cropped_gray_linearNormalized_jpeg, lossless). So using the default image filepath composition rule.\n",
      "No special rule for (cropped_gray_linearNormalized, lossless). So using the default image filepath composition rule.\n",
      "No special rule for (cropped_gray_linearNormalized_jpeg, lossless). So using the default image filepath composition rule.\n",
      "No special rule for (cropped_gray_linearNormalized, lossless). So using the default image filepath composition rule.\n",
      "No special rule for (cropped_gray_linearNormalized_jpeg, lossless). So using the default image filepath composition rule.\n",
      "No special rule for (cropped_gray_linearNormalized, lossless). So using the default image filepath composition rule.\n",
      "No special rule for (cropped_gray_linearNormalized_jpeg, lossless). So using the default image filepath composition rule.\n",
      "No special rule for (cropped_gray_linearNormalized, lossless). So using the default image filepath composition rule.\n",
      "No special rule for (cropped_gray_linearNormalized_jpeg, lossless). So using the default image filepath composition rule.\n",
      "No special rule for (cropped_gray_linearNormalized, lossless). So using the default image filepath composition rule.\n",
      "No special rule for (cropped_gray_linearNormalized_jpeg, lossless). So using the default image filepath composition rule.\n",
      "No special rule for (cropped_gray_linearNormalized, lossless). So using the default image filepath composition rule.\n",
      "No special rule for (cropped_gray_linearNormalized_jpeg, lossless). So using the default image filepath composition rule.\n",
      "No special rule for (cropped_gray_linearNormalized, lossless). So using the default image filepath composition rule.\n",
      "No special rule for (cropped_gray_linearNormalized_jpeg, lossless). So using the default image filepath composition rule.\n",
      "No special rule for (cropped_gray_linearNormalized, lossless). So using the default image filepath composition rule.\n",
      "No special rule for (cropped_gray_linearNormalized_jpeg, lossless). So using the default image filepath composition rule.\n",
      "No special rule for (cropped_gray_linearNormalized, lossless). So using the default image filepath composition rule.\n",
      "No special rule for (cropped_gray_linearNormalized_jpeg, lossless). So using the default image filepath composition rule.\n",
      "No special rule for (cropped_gray_linearNormalized, lossless). So using the default image filepath composition rule.\n",
      "No special rule for (cropped_gray_linearNormalized_jpeg, lossless). So using the default image filepath composition rule.\n",
      "No special rule for (cropped_gray_linearNormalized, lossless). So using the default image filepath composition rule.\n",
      "No special rule for (cropped_gray_linearNormalized_jpeg, lossless). So using the default image filepath composition rule.\n",
      "No special rule for (cropped_gray_linearNormalized, lossless). So using the default image filepath composition rule.\n",
      "No special rule for (cropped_gray_linearNormalized_jpeg, lossless). So using the default image filepath composition rule.\n",
      "No special rule for (cropped_gray_linearNormalized, lossless). So using the default image filepath composition rule.\n",
      "No special rule for (cropped_gray_linearNormalized_jpeg, lossless). So using the default image filepath composition rule.\n",
      "No special rule for (cropped_gray_linearNormalized, lossless). So using the default image filepath composition rule.\n",
      "No special rule for (cropped_gray_linearNormalized_jpeg, lossless). So using the default image filepath composition rule.\n",
      "No special rule for (cropped_gray_linearNormalized, lossless). So using the default image filepath composition rule.\n",
      "No special rule for (cropped_gray_linearNormalized_jpeg, lossless). So using the default image filepath composition rule.\n",
      "No special rule for (cropped_gray_linearNormalized, lossless). So using the default image filepath composition rule.\n",
      "No special rule for (cropped_gray_linearNormalized_jpeg, lossless). So using the default image filepath composition rule.\n",
      "No special rule for (cropped_gray_linearNormalized, lossless). So using the default image filepath composition rule.\n",
      "No special rule for (cropped_gray_linearNormalized_jpeg, lossless). So using the default image filepath composition rule.\n",
      "No special rule for (cropped_gray_linearNormalized, lossless). So using the default image filepath composition rule.\n",
      "No special rule for (cropped_gray_linearNormalized_jpeg, lossless). So using the default image filepath composition rule.\n",
      "No special rule for (cropped_gray_linearNormalized, lossless). So using the default image filepath composition rule.\n",
      "No special rule for (cropped_gray_linearNormalized_jpeg, lossless). So using the default image filepath composition rule.\n",
      "No special rule for (cropped_gray_linearNormalized, lossless). So using the default image filepath composition rule.\n",
      "No special rule for (cropped_gray_linearNormalized_jpeg, lossless). So using the default image filepath composition rule.\n",
      "No special rule for (cropped_gray_linearNormalized, lossless). So using the default image filepath composition rule.\n",
      "No special rule for (cropped_gray_linearNormalized_jpeg, lossless). So using the default image filepath composition rule.\n",
      "No special rule for (cropped_gray_linearNormalized, lossless). So using the default image filepath composition rule.\n",
      "No special rule for (cropped_gray_linearNormalized_jpeg, lossless). So using the default image filepath composition rule.\n",
      "No special rule for (cropped_gray_linearNormalized, lossless). So using the default image filepath composition rule.\n",
      "No special rule for (cropped_gray_linearNormalized_jpeg, lossless). So using the default image filepath composition rule.\n",
      "No special rule for (cropped_gray_linearNormalized, lossless). So using the default image filepath composition rule.\n",
      "No special rule for (cropped_gray_linearNormalized_jpeg, lossless). So using the default image filepath composition rule.\n",
      "No special rule for (cropped_gray_linearNormalized, lossless). So using the default image filepath composition rule.\n",
      "No special rule for (cropped_gray_linearNormalized_jpeg, lossless). So using the default image filepath composition rule.\n",
      "No special rule for (cropped_gray_linearNormalized, lossless). So using the default image filepath composition rule.\n",
      "No special rule for (cropped_gray_linearNormalized_jpeg, lossless). So using the default image filepath composition rule.\n",
      "No special rule for (cropped_gray_linearNormalized, lossless). So using the default image filepath composition rule.\n",
      "No special rule for (cropped_gray_linearNormalized_jpeg, lossless). So using the default image filepath composition rule.\n",
      "No special rule for (cropped_gray_linearNormalized, lossless). So using the default image filepath composition rule.\n",
      "No special rule for (cropped_gray_linearNormalized_jpeg, lossless). So using the default image filepath composition rule.\n",
      "No special rule for (cropped_gray_linearNormalized, lossless). So using the default image filepath composition rule.\n",
      "No special rule for (cropped_gray_linearNormalized_jpeg, lossless). So using the default image filepath composition rule.\n",
      "No special rule for (cropped_gray_linearNormalized, lossless). So using the default image filepath composition rule.\n",
      "No special rule for (cropped_gray_linearNormalized_jpeg, lossless). So using the default image filepath composition rule.\n",
      "No special rule for (cropped_gray_linearNormalized, lossless). So using the default image filepath composition rule.\n",
      "No special rule for (cropped_gray_linearNormalized_jpeg, lossless). So using the default image filepath composition rule.\n",
      "No special rule for (cropped_gray_linearNormalized, lossless). So using the default image filepath composition rule.\n",
      "No special rule for (cropped_gray_linearNormalized_jpeg, lossless). So using the default image filepath composition rule.\n",
      "No special rule for (cropped_gray_linearNormalized, lossless). So using the default image filepath composition rule.\n",
      "No special rule for (cropped_gray_linearNormalized_jpeg, lossless). So using the default image filepath composition rule.\n",
      "No special rule for (cropped_gray_linearNormalized, lossless). So using the default image filepath composition rule.\n",
      "No special rule for (cropped_gray_linearNormalized_jpeg, lossless). So using the default image filepath composition rule.\n",
      "No special rule for (cropped_gray_linearNormalized, lossless). So using the default image filepath composition rule.\n",
      "No special rule for (cropped_gray_linearNormalized_jpeg, lossless). So using the default image filepath composition rule.\n",
      "No special rule for (cropped_gray_linearNormalized, lossless). So using the default image filepath composition rule.\n",
      "No special rule for (cropped_gray_linearNormalized_jpeg, lossless). So using the default image filepath composition rule.\n",
      "No special rule for (cropped_gray_linearNormalized, lossless). So using the default image filepath composition rule.\n",
      "No special rule for (cropped_gray_linearNormalized_jpeg, lossless). So using the default image filepath composition rule.\n",
      "No special rule for (cropped_gray_linearNormalized, lossless). So using the default image filepath composition rule.\n",
      "No special rule for (cropped_gray_linearNormalized_jpeg, lossless). So using the default image filepath composition rule.\n",
      "No special rule for (cropped_gray_linearNormalized, lossless). So using the default image filepath composition rule.\n",
      "No special rule for (cropped_gray_linearNormalized_jpeg, lossless). So using the default image filepath composition rule.\n",
      "No special rule for (cropped_gray_linearNormalized, lossless). So using the default image filepath composition rule.\n",
      "No special rule for (cropped_gray_linearNormalized_jpeg, lossless). So using the default image filepath composition rule.\n",
      "No special rule for (cropped_gray_linearNormalized, lossless). So using the default image filepath composition rule.\n",
      "No special rule for (cropped_gray_linearNormalized_jpeg, lossless). So using the default image filepath composition rule.\n",
      "No special rule for (cropped_gray_linearNormalized, lossless). So using the default image filepath composition rule.\n",
      "No special rule for (cropped_gray_linearNormalized_jpeg, lossless). So using the default image filepath composition rule.\n",
      "No special rule for (cropped_gray_linearNormalized, lossless). So using the default image filepath composition rule.\n",
      "No special rule for (cropped_gray_linearNormalized_jpeg, lossless). So using the default image filepath composition rule.\n",
      "No special rule for (cropped_gray_linearNormalized, lossless). So using the default image filepath composition rule.\n",
      "No special rule for (cropped_gray_linearNormalized_jpeg, lossless). So using the default image filepath composition rule.\n",
      "No special rule for (cropped_gray_linearNormalized, lossless). So using the default image filepath composition rule.\n",
      "No special rule for (cropped_gray_linearNormalized_jpeg, lossless). So using the default image filepath composition rule.\n",
      "No special rule for (cropped_gray_linearNormalized, lossless). So using the default image filepath composition rule.\n",
      "No special rule for (cropped_gray_linearNormalized_jpeg, lossless). So using the default image filepath composition rule.\n",
      "No special rule for (cropped_gray_linearNormalized, lossless). So using the default image filepath composition rule.\n",
      "No special rule for (cropped_gray_linearNormalized_jpeg, lossless). So using the default image filepath composition rule.\n",
      "No special rule for (cropped_gray_linearNormalized, lossless). So using the default image filepath composition rule.\n",
      "No special rule for (cropped_gray_linearNormalized_jpeg, lossless). So using the default image filepath composition rule.\n",
      "No special rule for (cropped_gray_linearNormalized, lossless). So using the default image filepath composition rule.\n",
      "No special rule for (cropped_gray_linearNormalized_jpeg, lossless). So using the default image filepath composition rule.\n",
      "No special rule for (cropped_gray_linearNormalized, lossless). So using the default image filepath composition rule.\n",
      "No special rule for (cropped_gray_linearNormalized_jpeg, lossless). So using the default image filepath composition rule.\n",
      "No special rule for (cropped_gray_linearNormalized, lossless). So using the default image filepath composition rule.\n",
      "No special rule for (cropped_gray_linearNormalized_jpeg, lossless). So using the default image filepath composition rule.\n",
      "No special rule for (cropped_gray_linearNormalized, lossless). So using the default image filepath composition rule.\n",
      "No special rule for (cropped_gray_linearNormalized_jpeg, lossless). So using the default image filepath composition rule.\n",
      "No special rule for (cropped_gray_linearNormalized, lossless). So using the default image filepath composition rule.\n",
      "No special rule for (cropped_gray_linearNormalized_jpeg, lossless). So using the default image filepath composition rule.\n",
      "No special rule for (cropped_gray_linearNormalized, lossless). So using the default image filepath composition rule.\n",
      "No special rule for (cropped_gray_linearNormalized_jpeg, lossless). So using the default image filepath composition rule.\n",
      "No special rule for (cropped_gray_linearNormalized, lossless). So using the default image filepath composition rule.\n",
      "No special rule for (cropped_gray_linearNormalized_jpeg, lossless). So using the default image filepath composition rule.\n",
      "No special rule for (cropped_gray_linearNormalized, lossless). So using the default image filepath composition rule.\n",
      "No special rule for (cropped_gray_linearNormalized_jpeg, lossless). So using the default image filepath composition rule.\n",
      "No special rule for (cropped_gray_linearNormalized, lossless). So using the default image filepath composition rule.\n",
      "No special rule for (cropped_gray_linearNormalized_jpeg, lossless). So using the default image filepath composition rule.\n",
      "No special rule for (cropped_gray_linearNormalized, lossless). So using the default image filepath composition rule.\n",
      "No special rule for (cropped_gray_linearNormalized_jpeg, lossless). So using the default image filepath composition rule.\n",
      "No special rule for (cropped_gray_linearNormalized, lossless). So using the default image filepath composition rule.\n",
      "No special rule for (cropped_gray_linearNormalized_jpeg, lossless). So using the default image filepath composition rule.\n",
      "No special rule for (cropped_gray_linearNormalized, lossless). So using the default image filepath composition rule.\n",
      "No special rule for (cropped_gray_linearNormalized_jpeg, lossless). So using the default image filepath composition rule.\n",
      "No special rule for (cropped_gray_linearNormalized, lossless). So using the default image filepath composition rule.\n",
      "No special rule for (cropped_gray_linearNormalized_jpeg, lossless). So using the default image filepath composition rule.\n",
      "No special rule for (cropped_gray_linearNormalized, lossless). So using the default image filepath composition rule.\n",
      "No special rule for (cropped_gray_linearNormalized_jpeg, lossless). So using the default image filepath composition rule.\n",
      "No special rule for (cropped_gray_linearNormalized, lossless). So using the default image filepath composition rule.\n",
      "No special rule for (cropped_gray_linearNormalized_jpeg, lossless). So using the default image filepath composition rule.\n",
      "No special rule for (cropped_gray_linearNormalized, lossless). So using the default image filepath composition rule.\n",
      "No special rule for (cropped_gray_linearNormalized_jpeg, lossless). So using the default image filepath composition rule.\n",
      "No special rule for (cropped_gray_linearNormalized, lossless). So using the default image filepath composition rule.\n",
      "No special rule for (cropped_gray_linearNormalized_jpeg, lossless). So using the default image filepath composition rule.\n",
      "No special rule for (cropped_gray_linearNormalized, lossless). So using the default image filepath composition rule.\n",
      "No special rule for (cropped_gray_linearNormalized_jpeg, lossless). So using the default image filepath composition rule.\n",
      "No special rule for (cropped_gray_linearNormalized, lossless). So using the default image filepath composition rule.\n",
      "No special rule for (cropped_gray_linearNormalized_jpeg, lossless). So using the default image filepath composition rule.\n",
      "No special rule for (cropped_gray_linearNormalized, lossless). So using the default image filepath composition rule.\n",
      "No special rule for (cropped_gray_linearNormalized_jpeg, lossless). So using the default image filepath composition rule.\n",
      "No special rule for (cropped_gray_linearNormalized, lossless). So using the default image filepath composition rule.\n",
      "No special rule for (cropped_gray_linearNormalized_jpeg, lossless). So using the default image filepath composition rule.\n",
      "No special rule for (cropped_gray_linearNormalized, lossless). So using the default image filepath composition rule.\n",
      "No special rule for (cropped_gray_linearNormalized_jpeg, lossless). So using the default image filepath composition rule.\n",
      "No special rule for (cropped_gray_linearNormalized, lossless). So using the default image filepath composition rule.\n",
      "No special rule for (cropped_gray_linearNormalized_jpeg, lossless). So using the default image filepath composition rule.\n",
      "No special rule for (cropped_gray_linearNormalized, lossless). So using the default image filepath composition rule.\n",
      "No special rule for (cropped_gray_linearNormalized_jpeg, lossless). So using the default image filepath composition rule.\n",
      "No special rule for (cropped_gray_linearNormalized, lossless). So using the default image filepath composition rule.\n",
      "No special rule for (cropped_gray_linearNormalized_jpeg, lossless). So using the default image filepath composition rule.\n",
      "No special rule for (cropped_gray_linearNormalized, lossless). So using the default image filepath composition rule.\n",
      "No special rule for (cropped_gray_linearNormalized_jpeg, lossless). So using the default image filepath composition rule.\n",
      "No special rule for (cropped_gray_linearNormalized, lossless). So using the default image filepath composition rule.\n",
      "No special rule for (cropped_gray_linearNormalized_jpeg, lossless). So using the default image filepath composition rule.\n",
      "No special rule for (cropped_gray_linearNormalized, lossless). So using the default image filepath composition rule.\n",
      "No special rule for (cropped_gray_linearNormalized_jpeg, lossless). So using the default image filepath composition rule.\n",
      "No special rule for (cropped_gray_linearNormalized, lossless). So using the default image filepath composition rule.\n",
      "No special rule for (cropped_gray_linearNormalized_jpeg, lossless). So using the default image filepath composition rule.\n",
      "No special rule for (cropped_gray_linearNormalized, lossless). So using the default image filepath composition rule.\n",
      "No special rule for (cropped_gray_linearNormalized_jpeg, lossless). So using the default image filepath composition rule.\n",
      "No special rule for (cropped_gray_linearNormalized, lossless). So using the default image filepath composition rule.\n",
      "No special rule for (cropped_gray_linearNormalized_jpeg, lossless). So using the default image filepath composition rule.\n",
      "No special rule for (cropped_gray_linearNormalized, lossless). So using the default image filepath composition rule.\n",
      "No special rule for (cropped_gray_linearNormalized_jpeg, lossless). So using the default image filepath composition rule.\n",
      "No special rule for (cropped_gray_linearNormalized, lossless). So using the default image filepath composition rule.\n",
      "No special rule for (cropped_gray_linearNormalized_jpeg, lossless). So using the default image filepath composition rule.\n",
      "No special rule for (cropped_gray_linearNormalized, lossless). So using the default image filepath composition rule.\n",
      "No special rule for (cropped_gray_linearNormalized_jpeg, lossless). So using the default image filepath composition rule.\n",
      "No special rule for (cropped_gray_linearNormalized, lossless). So using the default image filepath composition rule.\n",
      "No special rule for (cropped_gray_linearNormalized_jpeg, lossless). So using the default image filepath composition rule.\n",
      "No special rule for (cropped_gray_linearNormalized, lossless). So using the default image filepath composition rule.\n",
      "No special rule for (cropped_gray_linearNormalized_jpeg, lossless). So using the default image filepath composition rule.\n",
      "No special rule for (cropped_gray_linearNormalized, lossless). So using the default image filepath composition rule.\n",
      "No special rule for (cropped_gray_linearNormalized_jpeg, lossless). So using the default image filepath composition rule.\n",
      "No special rule for (cropped_gray_linearNormalized, lossless). So using the default image filepath composition rule.\n",
      "No special rule for (cropped_gray_linearNormalized_jpeg, lossless). So using the default image filepath composition rule.\n",
      "No special rule for (cropped_gray_linearNormalized, lossless). So using the default image filepath composition rule.\n",
      "No special rule for (cropped_gray_linearNormalized_jpeg, lossless). So using the default image filepath composition rule.\n",
      "No special rule for (cropped_gray_linearNormalized, lossless). So using the default image filepath composition rule.\n",
      "No special rule for (cropped_gray_linearNormalized_jpeg, lossless). So using the default image filepath composition rule.\n",
      "No special rule for (cropped_gray_linearNormalized, lossless). So using the default image filepath composition rule.\n",
      "No special rule for (cropped_gray_linearNormalized_jpeg, lossless). So using the default image filepath composition rule.\n",
      "No special rule for (cropped_gray_linearNormalized, lossless). So using the default image filepath composition rule.\n",
      "No special rule for (cropped_gray_linearNormalized_jpeg, lossless). So using the default image filepath composition rule.\n",
      "No special rule for (cropped_gray_linearNormalized, lossless). So using the default image filepath composition rule.\n",
      "No special rule for (cropped_gray_linearNormalized_jpeg, lossless). So using the default image filepath composition rule.\n",
      "No special rule for (cropped_gray_linearNormalized, lossless). So using the default image filepath composition rule.\n",
      "No special rule for (cropped_gray_linearNormalized_jpeg, lossless). So using the default image filepath composition rule.\n",
      "No special rule for (cropped_gray_linearNormalized, lossless). So using the default image filepath composition rule.\n",
      "No special rule for (cropped_gray_linearNormalized_jpeg, lossless). So using the default image filepath composition rule.\n",
      "No special rule for (cropped_gray_linearNormalized, lossless). So using the default image filepath composition rule.\n",
      "No special rule for (cropped_gray_linearNormalized_jpeg, lossless). So using the default image filepath composition rule.\n",
      "No special rule for (cropped_gray_linearNormalized, lossless). So using the default image filepath composition rule.\n",
      "No special rule for (cropped_gray_linearNormalized_jpeg, lossless). So using the default image filepath composition rule.\n",
      "No special rule for (cropped_gray_linearNormalized, lossless). So using the default image filepath composition rule.\n",
      "No special rule for (cropped_gray_linearNormalized_jpeg, lossless). So using the default image filepath composition rule.\n",
      "No special rule for (cropped_gray_linearNormalized, lossless). So using the default image filepath composition rule.\n",
      "No special rule for (cropped_gray_linearNormalized_jpeg, lossless). So using the default image filepath composition rule.\n",
      "No special rule for (cropped_gray_linearNormalized, lossless). So using the default image filepath composition rule.\n",
      "No special rule for (cropped_gray_linearNormalized_jpeg, lossless). So using the default image filepath composition rule.\n",
      "No special rule for (cropped_gray_linearNormalized, lossless). So using the default image filepath composition rule.\n",
      "No special rule for (cropped_gray_linearNormalized_jpeg, lossless). So using the default image filepath composition rule.\n",
      "No special rule for (cropped_gray_linearNormalized, lossless). So using the default image filepath composition rule.\n",
      "No special rule for (cropped_gray_linearNormalized_jpeg, lossless). So using the default image filepath composition rule.\n",
      "No special rule for (cropped_gray_linearNormalized, lossless). So using the default image filepath composition rule.\n",
      "No special rule for (cropped_gray_linearNormalized_jpeg, lossless). So using the default image filepath composition rule.\n",
      "No special rule for (cropped_gray_linearNormalized, lossless). So using the default image filepath composition rule.\n",
      "No special rule for (cropped_gray_linearNormalized_jpeg, lossless). So using the default image filepath composition rule.\n",
      "No special rule for (cropped_gray_linearNormalized, lossless). So using the default image filepath composition rule.\n",
      "No special rule for (cropped_gray_linearNormalized_jpeg, lossless). So using the default image filepath composition rule.\n",
      "No special rule for (cropped_gray_linearNormalized, lossless). So using the default image filepath composition rule.\n",
      "No special rule for (cropped_gray_linearNormalized_jpeg, lossless). So using the default image filepath composition rule.\n",
      "No special rule for (cropped_gray_linearNormalized, lossless). So using the default image filepath composition rule.\n",
      "No special rule for (cropped_gray_linearNormalized_jpeg, lossless). So using the default image filepath composition rule.\n",
      "No special rule for (cropped_gray_linearNormalized, lossless). So using the default image filepath composition rule.\n",
      "No special rule for (cropped_gray_linearNormalized_jpeg, lossless). So using the default image filepath composition rule.\n",
      "No special rule for (cropped_gray_linearNormalized, lossless). So using the default image filepath composition rule.\n",
      "No special rule for (cropped_gray_linearNormalized_jpeg, lossless). So using the default image filepath composition rule.\n",
      "No special rule for (cropped_gray_linearNormalized, lossless). So using the default image filepath composition rule.\n",
      "No special rule for (cropped_gray_linearNormalized_jpeg, lossless). So using the default image filepath composition rule.\n",
      "No special rule for (cropped_gray_linearNormalized, lossless). So using the default image filepath composition rule.\n",
      "No special rule for (cropped_gray_linearNormalized_jpeg, lossless). So using the default image filepath composition rule.\n",
      "No special rule for (cropped_gray_linearNormalized, lossless). So using the default image filepath composition rule.\n",
      "No special rule for (cropped_gray_linearNormalized_jpeg, lossless). So using the default image filepath composition rule.\n",
      "No special rule for (cropped_gray_linearNormalized, lossless). So using the default image filepath composition rule.\n",
      "No special rule for (cropped_gray_linearNormalized_jpeg, lossless). So using the default image filepath composition rule.\n",
      "No special rule for (cropped_gray_linearNormalized, lossless). So using the default image filepath composition rule.\n",
      "No special rule for (cropped_gray_linearNormalized_jpeg, lossless). So using the default image filepath composition rule.\n",
      "No special rule for (cropped_gray_linearNormalized, lossless). So using the default image filepath composition rule.\n",
      "No special rule for (cropped_gray_linearNormalized_jpeg, lossless). So using the default image filepath composition rule.\n",
      "No special rule for (cropped_gray_linearNormalized, lossless). So using the default image filepath composition rule.\n",
      "No special rule for (cropped_gray_linearNormalized_jpeg, lossless). So using the default image filepath composition rule.\n",
      "No special rule for (cropped_gray_linearNormalized, lossless). So using the default image filepath composition rule.\n",
      "No special rule for (cropped_gray_linearNormalized_jpeg, lossless). So using the default image filepath composition rule.\n",
      "No special rule for (cropped_gray_linearNormalized, lossless). So using the default image filepath composition rule.\n",
      "No special rule for (cropped_gray_linearNormalized_jpeg, lossless). So using the default image filepath composition rule.\n",
      "No special rule for (cropped_gray_linearNormalized, lossless). So using the default image filepath composition rule.\n",
      "No special rule for (cropped_gray_linearNormalized_jpeg, lossless). So using the default image filepath composition rule.\n",
      "No special rule for (cropped_gray_linearNormalized, lossless). So using the default image filepath composition rule.\n",
      "No special rule for (cropped_gray_linearNormalized_jpeg, lossless). So using the default image filepath composition rule.\n",
      "No special rule for (cropped_gray_linearNormalized, lossless). So using the default image filepath composition rule.\n",
      "No special rule for (cropped_gray_linearNormalized_jpeg, lossless). So using the default image filepath composition rule.\n",
      "No special rule for (cropped_gray_linearNormalized, lossless). So using the default image filepath composition rule.\n",
      "No special rule for (cropped_gray_linearNormalized_jpeg, lossless). So using the default image filepath composition rule.\n",
      "No special rule for (cropped_gray_linearNormalized, lossless). So using the default image filepath composition rule.\n",
      "No special rule for (cropped_gray_linearNormalized_jpeg, lossless). So using the default image filepath composition rule.\n",
      "No special rule for (cropped_gray_linearNormalized, lossless). So using the default image filepath composition rule.\n",
      "No special rule for (cropped_gray_linearNormalized_jpeg, lossless). So using the default image filepath composition rule.\n",
      "No special rule for (cropped_gray_linearNormalized, lossless). So using the default image filepath composition rule.\n",
      "No special rule for (cropped_gray_linearNormalized_jpeg, lossless). So using the default image filepath composition rule.\n",
      "No special rule for (cropped_gray_linearNormalized, lossless). So using the default image filepath composition rule.\n",
      "No special rule for (cropped_gray_linearNormalized_jpeg, lossless). So using the default image filepath composition rule.\n",
      "No special rule for (cropped_gray_linearNormalized, lossless). So using the default image filepath composition rule.\n",
      "No special rule for (cropped_gray_linearNormalized_jpeg, lossless). So using the default image filepath composition rule.\n",
      "No special rule for (cropped_gray_linearNormalized, lossless). So using the default image filepath composition rule.\n",
      "No special rule for (cropped_gray_linearNormalized_jpeg, lossless). So using the default image filepath composition rule.\n",
      "No special rule for (cropped_gray_linearNormalized, lossless). So using the default image filepath composition rule.\n",
      "No special rule for (cropped_gray_linearNormalized_jpeg, lossless). So using the default image filepath composition rule.\n",
      "No special rule for (cropped_gray_linearNormalized, lossless). So using the default image filepath composition rule.\n",
      "No special rule for (cropped_gray_linearNormalized_jpeg, lossless). So using the default image filepath composition rule.\n",
      "No special rule for (cropped_gray_linearNormalized, lossless). So using the default image filepath composition rule.\n",
      "No special rule for (cropped_gray_linearNormalized_jpeg, lossless). So using the default image filepath composition rule.\n",
      "No special rule for (cropped_gray_linearNormalized, lossless). So using the default image filepath composition rule.\n",
      "No special rule for (cropped_gray_linearNormalized_jpeg, lossless). So using the default image filepath composition rule.\n",
      "No special rule for (cropped_gray_linearNormalized, lossless). So using the default image filepath composition rule.\n",
      "No special rule for (cropped_gray_linearNormalized_jpeg, lossless). So using the default image filepath composition rule.\n",
      "No special rule for (cropped_gray_linearNormalized, lossless). So using the default image filepath composition rule.\n",
      "No special rule for (cropped_gray_linearNormalized_jpeg, lossless). So using the default image filepath composition rule.\n",
      "No special rule for (cropped_gray_linearNormalized, lossless). So using the default image filepath composition rule.\n",
      "No special rule for (cropped_gray_linearNormalized_jpeg, lossless). So using the default image filepath composition rule.\n",
      "No special rule for (cropped_gray_linearNormalized, lossless). So using the default image filepath composition rule.\n",
      "No special rule for (cropped_gray_linearNormalized_jpeg, lossless). So using the default image filepath composition rule.\n",
      "No special rule for (cropped_gray_linearNormalized, lossless). So using the default image filepath composition rule.\n",
      "No special rule for (cropped_gray_linearNormalized_jpeg, lossless). So using the default image filepath composition rule.\n",
      "No special rule for (cropped_gray_linearNormalized, lossless). So using the default image filepath composition rule.\n",
      "No special rule for (cropped_gray_linearNormalized_jpeg, lossless). So using the default image filepath composition rule.\n",
      "No special rule for (cropped_gray_linearNormalized, lossless). So using the default image filepath composition rule.\n",
      "No special rule for (cropped_gray_linearNormalized_jpeg, lossless). So using the default image filepath composition rule.\n",
      "No special rule for (cropped_gray_linearNormalized, lossless). So using the default image filepath composition rule.\n",
      "No special rule for (cropped_gray_linearNormalized_jpeg, lossless). So using the default image filepath composition rule.\n",
      "No special rule for (cropped_gray_linearNormalized, lossless). So using the default image filepath composition rule.\n",
      "No special rule for (cropped_gray_linearNormalized_jpeg, lossless). So using the default image filepath composition rule.\n",
      "No special rule for (cropped_gray_linearNormalized, lossless). So using the default image filepath composition rule.\n",
      "No special rule for (cropped_gray_linearNormalized_jpeg, lossless). So using the default image filepath composition rule.\n",
      "No special rule for (cropped_gray_linearNormalized, lossless). So using the default image filepath composition rule.\n",
      "No special rule for (cropped_gray_linearNormalized_jpeg, lossless). So using the default image filepath composition rule.\n",
      "No special rule for (cropped_gray_linearNormalized, lossless). So using the default image filepath composition rule.\n",
      "No special rule for (cropped_gray_linearNormalized_jpeg, lossless). So using the default image filepath composition rule.\n",
      "No special rule for (cropped_gray_linearNormalized, lossless). So using the default image filepath composition rule.\n",
      "No special rule for (cropped_gray_linearNormalized_jpeg, lossless). So using the default image filepath composition rule.\n",
      "No special rule for (cropped_gray_linearNormalized, lossless). So using the default image filepath composition rule.\n",
      "No special rule for (cropped_gray_linearNormalized_jpeg, lossless). So using the default image filepath composition rule.\n",
      "No special rule for (cropped_gray_linearNormalized, lossless). So using the default image filepath composition rule.\n",
      "No special rule for (cropped_gray_linearNormalized_jpeg, lossless). So using the default image filepath composition rule.\n",
      "No special rule for (cropped_gray_linearNormalized, lossless). So using the default image filepath composition rule.\n",
      "No special rule for (cropped_gray_linearNormalized_jpeg, lossless). So using the default image filepath composition rule.\n",
      "No special rule for (cropped_gray_linearNormalized, lossless). So using the default image filepath composition rule.\n",
      "No special rule for (cropped_gray_linearNormalized_jpeg, lossless). So using the default image filepath composition rule.\n",
      "No special rule for (cropped_gray_linearNormalized, lossless). So using the default image filepath composition rule.\n",
      "No special rule for (cropped_gray_linearNormalized_jpeg, lossless). So using the default image filepath composition rule.\n",
      "No special rule for (cropped_gray_linearNormalized, lossless). So using the default image filepath composition rule.\n",
      "No special rule for (cropped_gray_linearNormalized_jpeg, lossless). So using the default image filepath composition rule.\n",
      "No special rule for (cropped_gray_linearNormalized, lossless). So using the default image filepath composition rule.\n",
      "No special rule for (cropped_gray_linearNormalized_jpeg, lossless). So using the default image filepath composition rule.\n",
      "Child returned 0\n",
      "16 nodes available.\n"
     ]
    },
    {
     "name": "stdout",
     "output_type": "stream",
     "text": [
      "rm -f ~/stderr_*; rm -f ~/stdout_*\n"
     ]
    },
    {
     "name": "stderr",
     "output_type": "stream",
     "text": [
      "Jobs submitted. Use wait_qsub_complete() to wait for all execution to finish.\n"
     ]
    },
    {
     "name": "stdout",
     "output_type": "stream",
     "text": [
      "done in 242.359697104 seconds\n"
     ]
    },
    {
     "name": "stderr",
     "output_type": "stream",
     "text": [
      "qsub returned.\n"
     ]
    }
   ],
   "source": [
    "# for stack in all_alt_nissl_ntb_stacks + all_alt_nissl_tracing_stacks:\n",
    "for stack in ['MD635']:\n",
    "    \n",
    "    t = time.time()\n",
    "    print 'Generating compressed images...',\n",
    "\n",
    "    script_fp = os.path.join(REPO_DIR, 'preprocess', 'compress_as_jpeg.py')\n",
    "\n",
    "    run_distributed('rm -r /scratch/*', \n",
    "                    argument_type='single')\n",
    "\n",
    "    run_distributed('ROOT_DIR=/scratch/ %(script)s %%(input_fp)s %%(output_fp)s' % \\\n",
    "                    {'script': script_fp},\n",
    "#                     kwargs_list=[{'input_fp': DataManager.get_image_filepath(stack=stack, fn=fn, resol='lossless', version='cropped_gray', data_dir='/scratch/CSHL_data_processed'),\n",
    "#                                   'output_fp': DataManager.get_image_filepath(stack=stack, fn=fn, resol='lossless', version='cropped_gray_jpeg',data_dir='/scratch/CSHL_data_processed')}\n",
    "#                                  for fn in metadata_cache['valid_filenames'][stack]],\n",
    "                        kwargs_list=[{'input_fp': DataManager.get_image_filepath(stack=stack, fn=fn, resol='lossless', version='cropped_gray_linearNormalized', data_dir='/scratch/CSHL_data_processed'),\n",
    "                                  'output_fp': DataManager.get_image_filepath(stack=stack, fn=fn, resol='lossless', version='cropped_gray_linearNormalized_jpeg',data_dir='/scratch/CSHL_data_processed')}\n",
    "                                 for fn in metadata_cache['valid_filenames'][stack]],\n",
    "                        argument_type='single')\n",
    "\n",
    "    wait_qsub_complete()\n",
    "\n",
    "    print 'done in', time.time() - t, 'seconds' # for one stack 300 seconds."
   ]
  },
  {
   "cell_type": "markdown",
   "metadata": {},
   "source": [
    "# Generate Aligned Masks (new)"
   ]
  },
  {
   "cell_type": "markdown",
   "metadata": {},
   "source": [
    "- Download aligned thumbnails to local machine.\n",
    "- Run `mask_editing_gui.py`. Draw initial contours. Upload `init_snake_contours.pkl` to S3."
   ]
  },
  {
   "cell_type": "code",
   "execution_count": 3,
   "metadata": {},
   "outputs": [
    {
     "name": "stdout",
     "output_type": "stream",
     "text": [
      "rm -rf /shared/CSHL_data_processed/MD635/MD635_thumbnail_alignedTo_MD635-F63-2016.05.19-08.39.03_MD635_2_0188 && mkdir -p /shared/CSHL_data_processed/MD635\n",
      "aws s3 cp --recursive s3://mousebrainatlas-data/CSHL_data_processed/MD635/MD635_thumbnail_alignedTo_MD635-F63-2016.05.19-08.39.03_MD635_2_0188 /shared/CSHL_data_processed/MD635/MD635_thumbnail_alignedTo_MD635-F63-2016.05.19-08.39.03_MD635_2_0188\n"
     ]
    },
    {
     "name": "stderr",
     "output_type": "stream",
     "text": [
      "Child returned 0\n",
      "Child returned 0\n",
      "4.34 seconds.\n"
     ]
    }
   ],
   "source": [
    "download_from_s3(DataManager.get_image_dir(stack=stack, version='aligned_tif', resol='thumbnail'), is_dir=True)"
   ]
  },
  {
   "cell_type": "code",
   "execution_count": 7,
   "metadata": {
    "collapsed": true
   },
   "outputs": [],
   "source": [
    "script = os.path.join(REPO_DIR, 'preprocess', 'generate_thumbnail_masks_v5.py')\n",
    "\n",
    "output_dir = create_if_not_exists(DataManager.get_auto_submask_rootdir_filepath(stack=stack))\n",
    "! rm -rf {output_dir}"
   ]
  },
  {
   "cell_type": "code",
   "execution_count": 32,
   "metadata": {},
   "outputs": [
    {
     "name": "stdout",
     "output_type": "stream",
     "text": [
      "rm -rf /shared/CSHL_data_processed/MD635/MD635_alignedTo_MD635-F63-2016.05.19-08.39.03_MD635_2_0188_init_snake_contours.pkl && mkdir -p /shared/CSHL_data_processed/MD635\n",
      "aws s3 cp s3://mousebrainatlas-data/CSHL_data_processed/MD635/MD635_alignedTo_MD635-F63-2016.05.19-08.39.03_MD635_2_0188_init_snake_contours.pkl /shared/CSHL_data_processed/MD635/MD635_alignedTo_MD635-F63-2016.05.19-08.39.03_MD635_2_0188_init_snake_contours.pkl\n"
     ]
    },
    {
     "name": "stderr",
     "output_type": "stream",
     "text": [
      "Child returned 0\n",
      "Child returned 0\n",
      "0.52 seconds.\n"
     ]
    }
   ],
   "source": [
    "init_snake_contours_fp = DataManager.get_initial_snake_contours_filepath(stack=stack)\n",
    "download_from_s3(init_snake_contours_fp, redownload=True)"
   ]
  },
  {
   "cell_type": "code",
   "execution_count": 33,
   "metadata": {},
   "outputs": [
    {
     "name": "stdout",
     "output_type": "stream",
     "text": [
      "Generating thumbnail mask... rm -f ~/stderr_*; rm -f ~/stdout_*\n"
     ]
    },
    {
     "name": "stderr",
     "output_type": "stream",
     "text": [
      "Child returned 0\n",
      "16 nodes available.\n",
      "Jobs submitted. Use wait_qsub_complete() to wait for all execution to finish.\n"
     ]
    },
    {
     "name": "stdout",
     "output_type": "stream",
     "text": [
      "done in 156.278020144 seconds\n"
     ]
    },
    {
     "name": "stderr",
     "output_type": "stream",
     "text": [
      "qsub returned.\n"
     ]
    }
   ],
   "source": [
    "t = time.time()\n",
    "print 'Generating thumbnail mask...',\n",
    "\n",
    "run_distributed(command='%(script_path)s %(stack)s \\'%%(filenames)s\\' %(init_snake_contours_fp)s --min_size 500 --default_channel 1' % \\\n",
    "                {'script_path': script,\n",
    "                'stack': stack,\n",
    "                'init_snake_contours_fp': init_snake_contours_fp},\n",
    "                kwargs_list=dict(filenames=[fn for sec, fn in metadata_cache['sections_to_filenames'][stack].items() if not is_invalid(fn)]),\n",
    "                argument_type='list2')\n",
    "\n",
    "wait_qsub_complete()\n",
    "\n",
    "print 'done in', time.time() - t, 'seconds' # 300s (aws)"
   ]
  },
  {
   "cell_type": "markdown",
   "metadata": {},
   "source": [
    "- download auto_submasks.\n",
    "- generate `userModified_submasks` and `masks`."
   ]
  },
  {
   "cell_type": "markdown",
   "metadata": {},
   "source": [
    "# Generate Masks"
   ]
  },
  {
   "cell_type": "code",
   "execution_count": 11,
   "metadata": {
    "collapsed": true
   },
   "outputs": [],
   "source": [
    "script = os.path.join(REPO_DIR, 'preprocess', 'generate_thumbnail_masks_v4.py')\n",
    "input_dir = os.path.join(RAW_DATA_DIR, stack)\n",
    "output_dir = create_if_not_exists(os.path.join(DATA_DIR, stack, stack + '_submasks'))\n",
    "! rm -f output_dir/*"
   ]
  },
  {
   "cell_type": "code",
   "execution_count": 16,
   "metadata": {
    "scrolled": true
   },
   "outputs": [
    {
     "name": "stdout",
     "output_type": "stream",
     "text": [
      "Generating thumbnail mask... Setting autoscaling group cfncluster-yuncongCluster-ComputeFleet-1LFRACYHLTNL8 capaticy to 16...it may take more than 5 minutes for SGE to know new hosts.\n"
     ]
    },
    {
     "name": "stderr",
     "output_type": "stream",
     "text": [
      "Wait for SGE to know all nodes (timeout in 300 seconds)...\n",
      "All nodes are ready.\n",
      "16 nodes requested, 16 nodes available...Continuing\n",
      "Jobs submitted. Use wait_qsub_complete() to check if they finish.\n"
     ]
    },
    {
     "name": "stdout",
     "output_type": "stream",
     "text": [
      "done in 403.646880865 seconds\n"
     ]
    },
    {
     "name": "stderr",
     "output_type": "stream",
     "text": [
      "qsub returned.\n"
     ]
    }
   ],
   "source": [
    "t = time.time()\n",
    "print 'Generating thumbnail mask...',\n",
    "\n",
    "wait_num_nodes(16)\n",
    "\n",
    "run_distributed(command='%(script_path)s %(stack)s %(input_dir)s \\'%%(filenames)s\\' %(output_dir)s --border_dissim_percentile %(border_dissim_percentile)d --min_size %(min_size)d' % \\\n",
    "                {'script_path': script,\n",
    "                'stack': stack,\n",
    "                'input_dir': input_dir,\n",
    "                'output_dir': output_dir,\n",
    "                'border_dissim_percentile': DEFAULT_BORDER_DISSIMILARITY_PERCENTILE,\n",
    "                'min_size': DEFAULT_MINSIZE},\n",
    "                kwargs_list=dict(filenames=valid_filenames),\n",
    "                exclude_nodes=[33],\n",
    "                argument_type='list2',\n",
    "               cluster_size=16,\n",
    "               jobs_per_node=1)\n",
    "\n",
    "wait_qsub_complete()\n",
    "\n",
    "print 'done in', time.time() - t, 'seconds' # 300s (aws)"
   ]
  },
  {
   "cell_type": "code",
   "execution_count": 18,
   "metadata": {},
   "outputs": [
    {
     "name": "stdout",
     "output_type": "stream",
     "text": [
      "aws s3 cp --recursive /shared/CSHL_data_processed/MD594/MD594_submasks s3://mousebrainatlas-data/CSHL_data_processed/MD594/MD594_submasks\n"
     ]
    },
    {
     "name": "stderr",
     "output_type": "stream",
     "text": [
      "Child returned 0\n",
      "3.72 seconds.\n"
     ]
    }
   ],
   "source": [
    "transfer_data_synced(relative_to_ec2(output_dir),\n",
    "                    from_hostname='ec2',\n",
    "                    to_hostname='s3',\n",
    "                    is_dir=True)"
   ]
  },
  {
   "cell_type": "markdown",
   "metadata": {
    "collapsed": true
   },
   "source": [
    "- download `submasks/` to local machine\n",
    "- review them in GUI\n",
    "- generate `submasks_modified/`, `masks/`, `submasks_finalDecisions.txt`, upload to S3"
   ]
  },
  {
   "cell_type": "markdown",
   "metadata": {},
   "source": [
    "# Warp Thumbnail Masks"
   ]
  },
  {
   "cell_type": "code",
   "execution_count": 28,
   "metadata": {
    "collapsed": true
   },
   "outputs": [],
   "source": [
    "script = os.path.join(REPO_DIR, 'preprocess', 'warp_crop_IM_v2.py')\n",
    "input_dir = os.path.join(DATA_DIR, stack, stack + '_masks')"
   ]
  },
  {
   "cell_type": "code",
   "execution_count": 22,
   "metadata": {},
   "outputs": [
    {
     "name": "stdout",
     "output_type": "stream",
     "text": [
      "rm -rf /shared/CSHL_data_processed/MD594/MD594_masks && mkdir -p /shared/CSHL_data_processed/MD594\n",
      "aws s3 cp --recursive s3://mousebrainatlas-data/CSHL_data_processed/MD594/MD594_masks /shared/CSHL_data_processed/MD594/MD594_masks\n"
     ]
    },
    {
     "name": "stderr",
     "output_type": "stream",
     "text": [
      "Child returned 0\n",
      "Child returned 0\n",
      "1.87 seconds.\n"
     ]
    }
   ],
   "source": [
    "transfer_data_synced(relative_to_ec2(input_dir),\n",
    "                    from_hostname='s3',\n",
    "                    to_hostname='ec2',\n",
    "                    is_dir=True)"
   ]
  },
  {
   "cell_type": "code",
   "execution_count": 31,
   "metadata": {},
   "outputs": [
    {
     "name": "stdout",
     "output_type": "stream",
     "text": [
      "rm -rf /shared/CSHL_data_processed/MD658/MD658_alignedTo_MD658-N58-2017.03.31-19.59.31_MD658_2_0173_masks\n"
     ]
    },
    {
     "name": "stderr",
     "output_type": "stream",
     "text": [
      "Child returned 0\n"
     ]
    }
   ],
   "source": [
    "output_dir = os.path.join(DATA_DIR, stack, stack + '_masks_alignedTo_' + anchor_fn)\n",
    "execute_command('rm -rf ' + output_dir)\n",
    "\n",
    "transforms_to_anchor = load_pickle(DataManager.get_transforms_filename(stack=stack))"
   ]
  },
  {
   "cell_type": "code",
   "execution_count": 24,
   "metadata": {},
   "outputs": [
    {
     "name": "stdout",
     "output_type": "stream",
     "text": [
      "warping thumbnail mask... Setting autoscaling group cfncluster-yuncongCluster-ComputeFleet-1LFRACYHLTNL8 capaticy to 16...it may take more than 5 minutes for SGE to know new hosts.\n"
     ]
    },
    {
     "name": "stderr",
     "output_type": "stream",
     "text": [
      "16 nodes requested, 1 nodes available...Continuing\n",
      "Jobs submitted. Use wait_qsub_complete() to check if they finish.\n"
     ]
    },
    {
     "name": "stdout",
     "output_type": "stream",
     "text": [
      "done in 76.2961359024 seconds\n"
     ]
    },
    {
     "name": "stderr",
     "output_type": "stream",
     "text": [
      "qsub returned.\n"
     ]
    }
   ],
   "source": [
    "t = time.time()\n",
    "print 'warping thumbnail mask...',\n",
    "\n",
    "run_distributed('%(script)s %(stack)s %(input_dir)s %(output_dir)s %%(transform)s %%(filename)s %%(output_fn)s thumbnail 0 0 2000 1500 black' % \\\n",
    "                {'script': script,\n",
    "                'stack': stack,\n",
    "                'input_dir': input_dir,\n",
    "                'output_dir': output_dir},\n",
    "                kwargs_list=[{'transform': ','.join(map(str, transforms_to_anchor[fn].flatten())),\n",
    "                            'filename': fn + '_mask.png',\n",
    "                            'output_fn': fn + '_mask_alignedTo_' + anchor_fn + '.png'}\n",
    "                            for fn in valid_filenames],\n",
    "                argument_type='single',\n",
    "               cluster_size=16,\n",
    "               jobs_per_node=16)\n",
    "\n",
    "wait_qsub_complete()\n",
    "\n",
    "print 'done in', time.time() - t, 'seconds' # 20 seconds (aws)"
   ]
  },
  {
   "cell_type": "code",
   "execution_count": 27,
   "metadata": {},
   "outputs": [
    {
     "name": "stdout",
     "output_type": "stream",
     "text": [
      "aws s3 cp --recursive /shared/CSHL_data_processed/MD594/MD594_masks_alignedTo_MD594-IHC58-2015.08.26-18.48.50_MD594_1_0172 s3://mousebrainatlas-data/CSHL_data_processed/MD594/MD594_masks_alignedTo_MD594-IHC58-2015.08.26-18.48.50_MD594_1_0172\n"
     ]
    },
    {
     "name": "stderr",
     "output_type": "stream",
     "text": [
      "Child returned 0\n",
      "3.42 seconds.\n"
     ]
    }
   ],
   "source": [
    "transfer_data_synced(relative_to_ec2(output_dir),\n",
    "                    from_hostname='ec2',\n",
    "                    to_hostname='s3',\n",
    "                    is_dir=True)"
   ]
  },
  {
   "cell_type": "markdown",
   "metadata": {},
   "source": [
    "# Crop Thumbnail Masks"
   ]
  },
  {
   "cell_type": "code",
   "execution_count": 36,
   "metadata": {
    "collapsed": true
   },
   "outputs": [],
   "source": [
    "stack = 'MD658'\n",
    "\n",
    "# download_from_s3(DataManager.get_sorted_filenames_filename(stack=stack))\n",
    "# _, sections_to_filenames = DataManager.load_sorted_filenames(stack=stack)\n",
    "# valid_filenames = [fn for fn in sections_to_filenames.values() if not is_invalid(fn=fn)]\n",
    "# download_from_s3(DataManager.get_anchor_filename_filename(stack=stack))\n",
    "# anchor_fn = DataManager.load_anchor_filename(stack=stack)\n",
    "# download_from_s3(DataManager.get_cropbox_filename(stack=stack))\n",
    "xmin, xmax, ymin, ymax, first_sec, last_sec = DataManager.load_cropbox(stack=stack)\n",
    "# w = xmax + 1 - xmin\n",
    "# h = ymax + 1 - ymin\n",
    "# x = xmin\n",
    "# y = ymin\n",
    "# first_fn = sections_to_filenames[first_sec]\n",
    "# last_fn = sections_to_filenames[last_sec]\n",
    "# first_idx_among_valid = valid_filenames.index(first_fn)\n",
    "# last_idx_among_valid = valid_filenames.index(last_fn)"
   ]
  },
  {
   "cell_type": "code",
   "execution_count": 32,
   "metadata": {
    "collapsed": true
   },
   "outputs": [],
   "source": [
    "####"
   ]
  },
  {
   "cell_type": "code",
   "execution_count": 38,
   "metadata": {
    "collapsed": true
   },
   "outputs": [],
   "source": [
    "stack = 'MD635'\n",
    "xmin, xmax, ymin, ymax, _, _ = DataManager.load_cropbox(stack=stack)"
   ]
  },
  {
   "cell_type": "code",
   "execution_count": 35,
   "metadata": {},
   "outputs": [
    {
     "name": "stdout",
     "output_type": "stream",
     "text": [
      "rm -rf /shared/CSHL_data_processed/MD635/MD635_alignedTo_MD635-F63-2016.05.19-08.39.03_MD635_2_0188_masks && mkdir -p /shared/CSHL_data_processed/MD635\n",
      "aws s3 cp --recursive s3://mousebrainatlas-data/CSHL_data_processed/MD635/MD635_alignedTo_MD635-F63-2016.05.19-08.39.03_MD635_2_0188_masks /shared/CSHL_data_processed/MD635/MD635_alignedTo_MD635-F63-2016.05.19-08.39.03_MD635_2_0188_masks\n"
     ]
    },
    {
     "name": "stderr",
     "output_type": "stream",
     "text": [
      "Child returned 0\n"
     ]
    },
    {
     "name": "stdout",
     "output_type": "stream",
     "text": [
      "rm -rf /shared/CSHL_data_processed/MD635/MD635_alignedTo_MD635-F63-2016.05.19-08.39.03_MD635_2_0188_masks_cropped\n",
      "mkdir -p /shared/CSHL_data_processed/MD635/MD635_alignedTo_MD635-F63-2016.05.19-08.39.03_MD635_2_0188_masks_cropped\n"
     ]
    },
    {
     "name": "stderr",
     "output_type": "stream",
     "text": [
      "Child returned 0\n",
      "2.03 seconds.\n",
      "Child returned 0\n",
      "Child returned 0\n"
     ]
    }
   ],
   "source": [
    "input_dir = DataManager.get_thumbnail_mask_dir_v3(stack=stack, version='aligned')\n",
    "download_from_s3(input_dir, is_dir=True)\n",
    "\n",
    "output_dir = DataManager.get_thumbnail_mask_dir_v3(stack=stack, version='aligned_cropped')\n",
    "\n",
    "execute_command('rm -rf ' + output_dir);\n",
    "execute_command('mkdir -p ' + output_dir);"
   ]
  },
  {
   "cell_type": "code",
   "execution_count": 39,
   "metadata": {},
   "outputs": [
    {
     "name": "stderr",
     "output_type": "stream",
     "text": [
      "cropping thumbnail mask..."
     ]
    },
    {
     "name": "stdout",
     "output_type": "stream",
     "text": [
      "mogrify -set filename:name %t -crop 685x448+659+308 -write \"/shared/CSHL_data_processed/MD635/MD635_alignedTo_MD635-F63-2016.05.19-08.39.03_MD635_2_0188_masks_cropped/%[filename:name]_cropped.png\" /shared/CSHL_data_processed/MD635/MD635_alignedTo_MD635-F63-2016.05.19-08.39.03_MD635_2_0188_masks/*.png\n"
     ]
    },
    {
     "name": "stderr",
     "output_type": "stream",
     "text": [
      "Child returned 0\n",
      "done in 18.053840 seconds\n"
     ]
    }
   ],
   "source": [
    "t = time.time()\n",
    "sys.stderr.write('cropping thumbnail mask...')\n",
    "\n",
    "execute_command('mogrify -set filename:name %%t -crop %(w)dx%(h)d+%(x)d+%(y)d -write \"%(output_dir)s/%%[filename:name]_cropped.png\" %(input_dir)s/*.png' % \\\n",
    "    {'stack': stack,\n",
    "    'input_dir': input_dir,\n",
    "    'output_dir': output_dir,\n",
    "    'w':xmax+1-xmin, 'h':ymax+1-ymin, 'x':xmin, 'y':ymin})\n",
    "\n",
    "sys.stderr.write('done in %f seconds\\n' % (time.time() - t)) # 70s (aws)"
   ]
  },
  {
   "cell_type": "code",
   "execution_count": 40,
   "metadata": {},
   "outputs": [
    {
     "name": "stdout",
     "output_type": "stream",
     "text": [
      "aws s3 cp --recursive /shared/CSHL_data_processed/MD635/MD635_alignedTo_MD635-F63-2016.05.19-08.39.03_MD635_2_0188_masks_cropped s3://mousebrainatlas-data/CSHL_data_processed/MD635/MD635_alignedTo_MD635-F63-2016.05.19-08.39.03_MD635_2_0188_masks_cropped\n"
     ]
    },
    {
     "name": "stderr",
     "output_type": "stream",
     "text": [
      "Child returned 0\n",
      "2.25 seconds.\n"
     ]
    }
   ],
   "source": [
    "upload_to_s3(output_dir, is_dir=True)"
   ]
  },
  {
   "cell_type": "markdown",
   "metadata": {
    "collapsed": true
   },
   "source": [
    "- Run `extract_test_features_cnn.ipynb` on workstation.\n",
    "- Upload to extracted features to S3.\n",
    "- Continue with `learning/pipeline_aws.ipynb`"
   ]
  }
 ],
 "metadata": {
  "kernelspec": {
   "display_name": "Python 2",
   "language": "python",
   "name": "python2"
  },
  "language_info": {
   "codemirror_mode": {
    "name": "ipython",
    "version": 2
   },
   "file_extension": ".py",
   "mimetype": "text/x-python",
   "name": "python",
   "nbconvert_exporter": "python",
   "pygments_lexer": "ipython2",
   "version": "2.7.12"
  }
 },
 "nbformat": 4,
 "nbformat_minor": 2
}
